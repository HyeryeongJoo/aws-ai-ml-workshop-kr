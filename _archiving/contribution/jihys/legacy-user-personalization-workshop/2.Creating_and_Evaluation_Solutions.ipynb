{
 "cells": [
  {
   "cell_type": "markdown",
   "metadata": {},
   "source": [
    "# Module 2. Personalize 솔류션 생성 및 평가 지표 확인하기\n",
    "\n",
    "이 노트북은 Module1에서 생성한 데이타셋 그룹, 데이타셋을 바탕으로 아래와 같은 작업을 합니다.\n",
    "\n",
    "* 레서피(알고리즘) 선택 및 솔류션 생성\n",
    "* 솔류션 버전 생성\n",
    "* 솔류션 평가 지표 얻기\n",
    "\n"
   ]
  },
  {
   "cell_type": "markdown",
   "metadata": {},
   "source": [
    "## 라이브러리 임포트\n",
    "\n",
    "파이썬에는 광범위한 라이브러리 모음이 포함되어 있으며, 본 핸즈온을 위해서 핵심 데이터 과학 도구인 boto3 (AWS SDK) 및 Pandas/Numpy와 같은 라이브러리를 가져와야 합니다."
   ]
  },
  {
   "cell_type": "code",
   "execution_count": 1,
   "metadata": {},
   "outputs": [],
   "source": [
    "# Imports\n",
    "import boto3\n",
    "import json\n",
    "import numpy as np\n",
    "import pandas as pd\n",
    "import time\n"
   ]
  },
  {
   "cell_type": "markdown",
   "metadata": {},
   "source": [
    "다음으로 여러분의 환경이 Amazon Personalize와 성공적으로 통신할 수 있는지 확인해야 합니다."
   ]
  },
  {
   "cell_type": "code",
   "execution_count": 2,
   "metadata": {},
   "outputs": [],
   "source": [
    "# Configure the SDK to Personalize:\n",
    "personalize = boto3.client('personalize')\n",
    "personalize_runtime = boto3.client('personalize-runtime')"
   ]
  },
  {
   "cell_type": "markdown",
   "metadata": {},
   "source": [
    "아래 코드 셀은 이전 notebook에서 저장했던 공유 변수들을 불러옵니다."
   ]
  },
  {
   "cell_type": "code",
   "execution_count": 3,
   "metadata": {},
   "outputs": [],
   "source": [
    "%store -r"
   ]
  },
  {
   "cell_type": "markdown",
   "metadata": {},
   "source": [
    "생성할 오브젝트의 끝에 임의의 숫자를 부여하기 위해 suffix 정의"
   ]
  },
  {
   "cell_type": "code",
   "execution_count": 4,
   "metadata": {},
   "outputs": [],
   "source": [
    "suffix = str(np.random.uniform())[4:9]"
   ]
  },
  {
   "cell_type": "markdown",
   "metadata": {},
   "source": [
    "## 솔루션 및 버전 생성\n",
    "\n",
    "Amazon Personalize에서 훈련된 모델을 솔루션이라고 하며, 각 솔루션에는 모델이 훈련되었을 때 주어진 데이터량과 관련된 많은 특정 버전들이 있을 수 있습니다.\n",
    "\n",
    "우선, Amazon Personalize에서 지원되는 모든 레시피(레시피는 아직 데이터에 대해 훈련되지 않은 알고리즘입니다.)들을 나열합니다. 리스트업된 레시피들 중 하나를 선택하고 이를 사용하여 모델을 빌드해 보세요.\n",
    "\n",
    "이 LAB에서 아래와 같은 솔루션을 생성하여 성능을 비교하여 봅니다.\n",
    "\n",
    "    1) HRNN\n",
    "    2) HRNN Coldstart\n",
    "    3) SIMS\n",
    "    4) Personalized Ranking\n",
    "\n",
    "이 프로세스의 완료는 실제로 40분 이상 소요됩니다. 작업이 완료될 때까지(즉, 활성화 상태가 될 때까지) while 루프를 수행하는 방법도 있지만, 이렇게 하면 다른 셀의 실행을 차단하게 됩니다. 따라서, 많은 모델을 만들어 신속하게 배포하려면 while 루프를 사용하는 대신, 필요한 솔루션 버전들을 생성 후, SageMaker 및 Cloudwatch에서 업데이트를 확인하세요.\n",
    "\n",
    "###  레시피 리스트 확인"
   ]
  },
  {
   "cell_type": "code",
   "execution_count": 5,
   "metadata": {},
   "outputs": [
    {
     "name": "stdout",
     "output_type": "stream",
     "text": [
      "arn:aws:personalize:::recipe/aws-hrnn\n",
      "arn:aws:personalize:::recipe/aws-hrnn-coldstart\n",
      "arn:aws:personalize:::recipe/aws-hrnn-metadata\n",
      "arn:aws:personalize:::recipe/aws-personalized-ranking\n",
      "arn:aws:personalize:::recipe/aws-popularity-count\n",
      "arn:aws:personalize:::recipe/aws-sims\n"
     ]
    }
   ],
   "source": [
    "recipe_list = personalize.list_recipes()\n",
    "for recipe in recipe_list['recipes']:\n",
    "    print(recipe['recipeArn'])"
   ]
  },
  {
   "cell_type": "markdown",
   "metadata": {},
   "source": [
    "###  Popularity Count 솔루션 생성 "
   ]
  },
  {
   "cell_type": "code",
   "execution_count": 6,
   "metadata": {},
   "outputs": [],
   "source": [
    "# Recipe 선택 \n",
    "popularity_recipe_arn = \"arn:aws:personalize:::recipe/aws-popularity-count\""
   ]
  },
  {
   "cell_type": "code",
   "execution_count": 7,
   "metadata": {},
   "outputs": [
    {
     "name": "stdout",
     "output_type": "stream",
     "text": [
      "{\n",
      "  \"solutionArn\": \"arn:aws:personalize:ap-northeast-2:870180618679:solution/Demo-popularity-30524\",\n",
      "  \"ResponseMetadata\": {\n",
      "    \"RequestId\": \"34350345-0e8e-4d6c-89a6-0c51c73e9226\",\n",
      "    \"HTTPStatusCode\": 200,\n",
      "    \"HTTPHeaders\": {\n",
      "      \"content-type\": \"application/x-amz-json-1.1\",\n",
      "      \"date\": \"Tue, 14 Jul 2020 00:11:37 GMT\",\n",
      "      \"x-amzn-requestid\": \"34350345-0e8e-4d6c-89a6-0c51c73e9226\",\n",
      "      \"content-length\": \"96\",\n",
      "      \"connection\": \"keep-alive\"\n",
      "    },\n",
      "    \"RetryAttempts\": 0\n",
      "  }\n",
      "}\n"
     ]
    }
   ],
   "source": [
    "# Solution 생성 \n",
    "create_solution_response = personalize.create_solution(\n",
    "    name = \"Demo-popularity-\" + suffix,\n",
    "    datasetGroupArn = dataset_group_arn,\n",
    "    recipeArn = popularity_recipe_arn,\n",
    ")\n",
    "\n",
    "popularity_recipe_arn = create_solution_response['solutionArn']\n",
    "print(json.dumps(create_solution_response, indent=2))"
   ]
  },
  {
   "cell_type": "code",
   "execution_count": 8,
   "metadata": {},
   "outputs": [
    {
     "name": "stdout",
     "output_type": "stream",
     "text": [
      "{\n",
      "  \"solutionVersionArn\": \"arn:aws:personalize:ap-northeast-2:870180618679:solution/Demo-popularity-30524/40427de0\",\n",
      "  \"ResponseMetadata\": {\n",
      "    \"RequestId\": \"dc4ead05-c3f2-43f0-b6b5-98de74edd0e3\",\n",
      "    \"HTTPStatusCode\": 200,\n",
      "    \"HTTPHeaders\": {\n",
      "      \"content-type\": \"application/x-amz-json-1.1\",\n",
      "      \"date\": \"Tue, 14 Jul 2020 00:11:37 GMT\",\n",
      "      \"x-amzn-requestid\": \"dc4ead05-c3f2-43f0-b6b5-98de74edd0e3\",\n",
      "      \"content-length\": \"112\",\n",
      "      \"connection\": \"keep-alive\"\n",
      "    },\n",
      "    \"RetryAttempts\": 0\n",
      "  }\n",
      "}\n"
     ]
    }
   ],
   "source": [
    "# 솔루션 버전 생성\n",
    "create_solution_version_response = personalize.create_solution_version(\n",
    "    solutionArn = popularity_recipe_arn\n",
    ")\n",
    "\n",
    "popularity_solution_version_arn = create_solution_version_response['solutionVersionArn']\n",
    "print(json.dumps(create_solution_version_response, indent=2))"
   ]
  },
  {
   "cell_type": "markdown",
   "metadata": {},
   "source": [
    "### HRNN 솔루션 생성"
   ]
  },
  {
   "cell_type": "code",
   "execution_count": 9,
   "metadata": {},
   "outputs": [],
   "source": [
    " # Recipe 선택 \n",
    "hrnn_recipe_arn = \"arn:aws:personalize:::recipe/aws-hrnn\""
   ]
  },
  {
   "cell_type": "code",
   "execution_count": 10,
   "metadata": {},
   "outputs": [
    {
     "name": "stdout",
     "output_type": "stream",
     "text": [
      "{\n",
      "  \"solutionArn\": \"arn:aws:personalize:ap-northeast-2:870180618679:solution/Demo-hrnn-30524\",\n",
      "  \"ResponseMetadata\": {\n",
      "    \"RequestId\": \"2a60fa7b-0384-4144-917f-73c93f9dcacb\",\n",
      "    \"HTTPStatusCode\": 200,\n",
      "    \"HTTPHeaders\": {\n",
      "      \"content-type\": \"application/x-amz-json-1.1\",\n",
      "      \"date\": \"Tue, 14 Jul 2020 00:11:38 GMT\",\n",
      "      \"x-amzn-requestid\": \"2a60fa7b-0384-4144-917f-73c93f9dcacb\",\n",
      "      \"content-length\": \"90\",\n",
      "      \"connection\": \"keep-alive\"\n",
      "    },\n",
      "    \"RetryAttempts\": 0\n",
      "  }\n",
      "}\n"
     ]
    }
   ],
   "source": [
    "# Solution 생성 \n",
    "create_solution_response = personalize.create_solution(\n",
    "    name = \"Demo-hrnn-\" + suffix,\n",
    "    datasetGroupArn = dataset_group_arn,\n",
    "    recipeArn = hrnn_recipe_arn,\n",
    ")\n",
    "\n",
    "hrnn_solution_arn = create_solution_response['solutionArn']\n",
    "print(json.dumps(create_solution_response, indent=2))"
   ]
  },
  {
   "cell_type": "code",
   "execution_count": 11,
   "metadata": {},
   "outputs": [
    {
     "name": "stdout",
     "output_type": "stream",
     "text": [
      "{\n",
      "  \"solutionVersionArn\": \"arn:aws:personalize:ap-northeast-2:870180618679:solution/Demo-hrnn-30524/b849addd\",\n",
      "  \"ResponseMetadata\": {\n",
      "    \"RequestId\": \"d1aa52da-c4bd-4351-8d90-eec4a9e71a5e\",\n",
      "    \"HTTPStatusCode\": 200,\n",
      "    \"HTTPHeaders\": {\n",
      "      \"content-type\": \"application/x-amz-json-1.1\",\n",
      "      \"date\": \"Tue, 14 Jul 2020 00:11:40 GMT\",\n",
      "      \"x-amzn-requestid\": \"d1aa52da-c4bd-4351-8d90-eec4a9e71a5e\",\n",
      "      \"content-length\": \"106\",\n",
      "      \"connection\": \"keep-alive\"\n",
      "    },\n",
      "    \"RetryAttempts\": 0\n",
      "  }\n",
      "}\n"
     ]
    }
   ],
   "source": [
    "# 솔루션 버전 생성\n",
    "create_solution_version_response = personalize.create_solution_version(\n",
    "    solutionArn = hrnn_solution_arn\n",
    ")\n",
    "\n",
    "hrnn_solution_version_arn = create_solution_version_response['solutionVersionArn']\n",
    "print(json.dumps(create_solution_version_response, indent=2))"
   ]
  },
  {
   "cell_type": "markdown",
   "metadata": {},
   "source": [
    "### HRNN ColdStart 솔루션 생성"
   ]
  },
  {
   "cell_type": "code",
   "execution_count": 12,
   "metadata": {},
   "outputs": [],
   "source": [
    " # Recipe 선택 \n",
    "hrnn_coldstart_recipe_arn = \"arn:aws:personalize:::recipe/aws-hrnn-coldstart\""
   ]
  },
  {
   "cell_type": "code",
   "execution_count": 13,
   "metadata": {},
   "outputs": [
    {
     "name": "stdout",
     "output_type": "stream",
     "text": [
      "{\n",
      "  \"solutionArn\": \"arn:aws:personalize:ap-northeast-2:870180618679:solution/Demo-hrnn-coldstart-30524\",\n",
      "  \"ResponseMetadata\": {\n",
      "    \"RequestId\": \"1466bccd-9879-4c76-b9c3-b5f0ea141811\",\n",
      "    \"HTTPStatusCode\": 200,\n",
      "    \"HTTPHeaders\": {\n",
      "      \"content-type\": \"application/x-amz-json-1.1\",\n",
      "      \"date\": \"Tue, 14 Jul 2020 00:11:42 GMT\",\n",
      "      \"x-amzn-requestid\": \"1466bccd-9879-4c76-b9c3-b5f0ea141811\",\n",
      "      \"content-length\": \"100\",\n",
      "      \"connection\": \"keep-alive\"\n",
      "    },\n",
      "    \"RetryAttempts\": 0\n",
      "  }\n",
      "}\n"
     ]
    }
   ],
   "source": [
    "# Solution 생성 \n",
    "create_solution_response = personalize.create_solution(\n",
    "    name = \"Demo-hrnn-coldstart-\" + suffix,\n",
    "    datasetGroupArn = dataset_group_arn,\n",
    "    recipeArn = hrnn_coldstart_recipe_arn,\n",
    "    solutionConfig = {\n",
    "        \"featureTransformationParameters\" : {\n",
    "            'cold_start_max_duration' : '5',\n",
    "            'cold_start_relative_from' : 'latestItem',\n",
    "            'cold_start_max_interactions':'15'\n",
    "        }\n",
    "    }\n",
    ")\n",
    "\n",
    "hrnn_coldstart_solution_arn = create_solution_response['solutionArn']\n",
    "print(json.dumps(create_solution_response, indent=2))"
   ]
  },
  {
   "cell_type": "code",
   "execution_count": 14,
   "metadata": {},
   "outputs": [
    {
     "name": "stdout",
     "output_type": "stream",
     "text": [
      "{\n",
      "  \"solutionVersionArn\": \"arn:aws:personalize:ap-northeast-2:870180618679:solution/Demo-hrnn-coldstart-30524/f5f0d400\",\n",
      "  \"ResponseMetadata\": {\n",
      "    \"RequestId\": \"9b8d47ba-1dcc-4b2a-9b56-c05ae71d19ca\",\n",
      "    \"HTTPStatusCode\": 200,\n",
      "    \"HTTPHeaders\": {\n",
      "      \"content-type\": \"application/x-amz-json-1.1\",\n",
      "      \"date\": \"Tue, 14 Jul 2020 00:11:43 GMT\",\n",
      "      \"x-amzn-requestid\": \"9b8d47ba-1dcc-4b2a-9b56-c05ae71d19ca\",\n",
      "      \"content-length\": \"116\",\n",
      "      \"connection\": \"keep-alive\"\n",
      "    },\n",
      "    \"RetryAttempts\": 0\n",
      "  }\n",
      "}\n"
     ]
    }
   ],
   "source": [
    "# 솔루션 버전 생성\n",
    "create_solution_version_response = personalize.create_solution_version(\n",
    "    solutionArn = hrnn_coldstart_solution_arn\n",
    ")\n",
    "\n",
    "hrnn_coldstart_solution_version_arn = create_solution_version_response['solutionVersionArn']\n",
    "print(json.dumps(create_solution_version_response, indent=2))"
   ]
  },
  {
   "cell_type": "markdown",
   "metadata": {},
   "source": [
    "### SIMS 솔루션 생성 "
   ]
  },
  {
   "cell_type": "code",
   "execution_count": 15,
   "metadata": {},
   "outputs": [],
   "source": [
    " # Recipe 선택 \n",
    "sims_recipe_arn = \"arn:aws:personalize:::recipe/aws-sims\""
   ]
  },
  {
   "cell_type": "code",
   "execution_count": 16,
   "metadata": {},
   "outputs": [
    {
     "name": "stdout",
     "output_type": "stream",
     "text": [
      "{\n",
      "  \"solutionArn\": \"arn:aws:personalize:ap-northeast-2:870180618679:solution/Demo-sims-30524\",\n",
      "  \"ResponseMetadata\": {\n",
      "    \"RequestId\": \"51df39dc-2878-4043-932d-3519a021565e\",\n",
      "    \"HTTPStatusCode\": 200,\n",
      "    \"HTTPHeaders\": {\n",
      "      \"content-type\": \"application/x-amz-json-1.1\",\n",
      "      \"date\": \"Tue, 14 Jul 2020 00:11:48 GMT\",\n",
      "      \"x-amzn-requestid\": \"51df39dc-2878-4043-932d-3519a021565e\",\n",
      "      \"content-length\": \"90\",\n",
      "      \"connection\": \"keep-alive\"\n",
      "    },\n",
      "    \"RetryAttempts\": 0\n",
      "  }\n",
      "}\n"
     ]
    }
   ],
   "source": [
    "# Solution 생성 \n",
    "create_solution_response = personalize.create_solution(\n",
    "    name = \"Demo-sims-\" + suffix,\n",
    "    datasetGroupArn = dataset_group_arn,\n",
    "    recipeArn = sims_recipe_arn\n",
    ")\n",
    "\n",
    "sims_solution_arn = create_solution_response['solutionArn']\n",
    "print(json.dumps(create_solution_response, indent=2))"
   ]
  },
  {
   "cell_type": "code",
   "execution_count": 17,
   "metadata": {},
   "outputs": [
    {
     "name": "stdout",
     "output_type": "stream",
     "text": [
      "{\n",
      "  \"solutionVersionArn\": \"arn:aws:personalize:ap-northeast-2:870180618679:solution/Demo-sims-30524/75728970\",\n",
      "  \"ResponseMetadata\": {\n",
      "    \"RequestId\": \"926b4dc2-bc4c-45e8-af69-14bb623dfbd8\",\n",
      "    \"HTTPStatusCode\": 200,\n",
      "    \"HTTPHeaders\": {\n",
      "      \"content-type\": \"application/x-amz-json-1.1\",\n",
      "      \"date\": \"Tue, 14 Jul 2020 00:11:49 GMT\",\n",
      "      \"x-amzn-requestid\": \"926b4dc2-bc4c-45e8-af69-14bb623dfbd8\",\n",
      "      \"content-length\": \"106\",\n",
      "      \"connection\": \"keep-alive\"\n",
      "    },\n",
      "    \"RetryAttempts\": 0\n",
      "  }\n",
      "}\n"
     ]
    }
   ],
   "source": [
    "# 솔루션 버전 생성\n",
    "create_solution_version_response = personalize.create_solution_version(\n",
    "    solutionArn = sims_solution_arn\n",
    ")\n",
    "sims_solution_version_arn = create_solution_version_response['solutionVersionArn']\n",
    "print(json.dumps(create_solution_version_response, indent=2))"
   ]
  },
  {
   "cell_type": "markdown",
   "metadata": {},
   "source": [
    "### Personalize Ranking 솔루션 생성 "
   ]
  },
  {
   "cell_type": "code",
   "execution_count": 18,
   "metadata": {},
   "outputs": [],
   "source": [
    " # Recipe 선택 \n",
    "ranking_recipe_arn = \"arn:aws:personalize:::recipe/aws-personalized-ranking\""
   ]
  },
  {
   "cell_type": "code",
   "execution_count": 19,
   "metadata": {},
   "outputs": [
    {
     "name": "stdout",
     "output_type": "stream",
     "text": [
      "{\n",
      "  \"solutionArn\": \"arn:aws:personalize:ap-northeast-2:870180618679:solution/Demo-ranking-30524\",\n",
      "  \"ResponseMetadata\": {\n",
      "    \"RequestId\": \"fab2c60e-4585-4b22-b13e-a1642767a1de\",\n",
      "    \"HTTPStatusCode\": 200,\n",
      "    \"HTTPHeaders\": {\n",
      "      \"content-type\": \"application/x-amz-json-1.1\",\n",
      "      \"date\": \"Tue, 14 Jul 2020 00:11:53 GMT\",\n",
      "      \"x-amzn-requestid\": \"fab2c60e-4585-4b22-b13e-a1642767a1de\",\n",
      "      \"content-length\": \"93\",\n",
      "      \"connection\": \"keep-alive\"\n",
      "    },\n",
      "    \"RetryAttempts\": 0\n",
      "  }\n",
      "}\n"
     ]
    }
   ],
   "source": [
    "# Solution 생성 \n",
    "create_solution_response = personalize.create_solution(\n",
    "    name = \"Demo-ranking-\" + suffix,\n",
    "    datasetGroupArn = dataset_group_arn,\n",
    "    recipeArn = ranking_recipe_arn\n",
    ")\n",
    "\n",
    "ranking_solution_arn = create_solution_response['solutionArn']\n",
    "print(json.dumps(create_solution_response, indent=2))"
   ]
  },
  {
   "cell_type": "code",
   "execution_count": 20,
   "metadata": {},
   "outputs": [
    {
     "name": "stdout",
     "output_type": "stream",
     "text": [
      "{\n",
      "  \"solutionVersionArn\": \"arn:aws:personalize:ap-northeast-2:870180618679:solution/Demo-ranking-30524/ece21761\",\n",
      "  \"ResponseMetadata\": {\n",
      "    \"RequestId\": \"46131179-0d3e-479e-8b84-1bf8ef65bab6\",\n",
      "    \"HTTPStatusCode\": 200,\n",
      "    \"HTTPHeaders\": {\n",
      "      \"content-type\": \"application/x-amz-json-1.1\",\n",
      "      \"date\": \"Tue, 14 Jul 2020 00:11:58 GMT\",\n",
      "      \"x-amzn-requestid\": \"46131179-0d3e-479e-8b84-1bf8ef65bab6\",\n",
      "      \"content-length\": \"109\",\n",
      "      \"connection\": \"keep-alive\"\n",
      "    },\n",
      "    \"RetryAttempts\": 0\n",
      "  }\n",
      "}\n"
     ]
    }
   ],
   "source": [
    "# 솔루션 버전 생성\n",
    "create_solution_version_response = personalize.create_solution_version(\n",
    "    solutionArn = ranking_solution_arn\n",
    ")\n",
    "ranking_solution_version_arn = create_solution_version_response['solutionVersionArn']\n",
    "print(json.dumps(create_solution_version_response, indent=2))"
   ]
  },
  {
   "cell_type": "markdown",
   "metadata": {},
   "source": [
    "### 모델 생성 확인 하기 \n",
    "아래 코드 실행하여 모델 생성 여부를 확인합니다. "
   ]
  },
  {
   "cell_type": "code",
   "execution_count": 23,
   "metadata": {},
   "outputs": [
    {
     "name": "stdout",
     "output_type": "stream",
     "text": [
      "Popularity SolutionVersion: ACTIVE\n",
      "HRNN SolutionVersion: ACTIVE\n",
      "HRNN ColdStart SolutionVersion: ACTIVE\n",
      "Sims SolutionVersion: ACTIVE\n",
      "Ranking SolutionVersion: ACTIVE\n",
      "All solution creation completed\n",
      "CPU times: user 21.9 ms, sys: 0 ns, total: 21.9 ms\n",
      "Wall time: 209 ms\n"
     ]
    }
   ],
   "source": [
    "%%time\n",
    "\n",
    "\n",
    "max_time = time.time() + 3*60*60 # 3 hours\n",
    "while time.time() < max_time:\n",
    "    ##Popularity Status\n",
    "    #hrnn status\n",
    "    describe_solution_version_response = personalize.describe_solution_version(\n",
    "        solutionVersionArn = popularity_solution_version_arn\n",
    "    )  \n",
    "    status_pop = describe_solution_version_response[\"solutionVersion\"][\"status\"]\n",
    "    print(\"Popularity SolutionVersion: {}\".format(status_pop))\n",
    "    \n",
    "    #hrnn status\n",
    "    describe_solution_version_response = personalize.describe_solution_version(\n",
    "        solutionVersionArn = hrnn_solution_version_arn\n",
    "    )  \n",
    "    status_hrnn = describe_solution_version_response[\"solutionVersion\"][\"status\"]\n",
    "    print(\"HRNN SolutionVersion: {}\".format(status_hrnn))\n",
    "    \n",
    "    #hrnn_coldstart status\n",
    "    describe_solution_version_response = personalize.describe_solution_version(\n",
    "        solutionVersionArn = hrnn_coldstart_solution_version_arn\n",
    "    )\n",
    "    status_hrnn_cs = describe_solution_version_response[\"solutionVersion\"][\"status\"]    \n",
    "    print(\"HRNN ColdStart SolutionVersion: {}\".format(status_hrnn_cs))\n",
    "    \n",
    "    #sims status\n",
    "    describe_solution_version_response = personalize.describe_solution_version(\n",
    "    solutionVersionArn = sims_solution_version_arn\n",
    "    )\n",
    "    status_sims = describe_solution_version_response[\"solutionVersion\"][\"status\"]\n",
    "    print(\"Sims SolutionVersion: {}\".format(status_sims))\n",
    "    \n",
    "    #ranking status\n",
    "    describe_solution_version_response = personalize.describe_solution_version(\n",
    "        solutionVersionArn = ranking_solution_version_arn\n",
    "    )\n",
    "    status_ranking= describe_solution_version_response[\"solutionVersion\"][\"status\"]    \n",
    "    print(\"Ranking SolutionVersion: {}\".format(status_ranking))    \n",
    "    \n",
    "    if (status_pop == \"ACTIVE\" or status_pop == \"CREATE FAILED\") &\\\n",
    "       (status_hrnn == \"ACTIVE\" or status_hrnn == \"CREATE FAILED\") &\\\n",
    "       (status_hrnn_cs == \"ACTIVE\" or status_hrnn_cs == \"CREATE FAILED\") &\\\n",
    "       (status_sims == \"ACTIVE\" or status_sims == \"CREATE FAILED\") &\\\n",
    "       (status_ranking == \"ACTIVE\" or status_ranking == \"CREATE FAILED\"):\n",
    "        break\n",
    "    print(\"-------------------------------------->\")\n",
    "    time.sleep(60)\n",
    "\n",
    "print(\"All solution creation completed\")"
   ]
  },
  {
   "cell_type": "markdown",
   "metadata": {},
   "source": [
    "## 솔루션 평가 지표 얻기\n",
    "\n",
    "이번 파트에서는 Amazon Personalize에서 기본으로 제공하는 솔루션에 대한 평가 지표를 확인해 봅니다. \n",
    "Amazon Personalize에서는 평가 지표를 생성하기 위해 약 랜덤으로 10% 사용자의 interaction data를 테스트 용으로 활용합니다. \n",
    "\n",
    "아래 이미지는 Amazon Personalize가 데이터를 분리하는 방법을 보여줍니다. 사용자가 10 명이고 각각 10 개의 상호 작용이있는 경우 (여기에서 원은 Interaction data를 나타냄) 타임 스탬프를 기준으로 가장 오래된 것부터 최신 것까지 나열된 것입니다. Amazon Personalize는 사용자의 90 % (파란색 원)의 모든 Interaction 데이터를 사용하여 솔루션 버전을 훈련시키고 나머지 10 %는 평가를 위해 사용합니다. 나머지 10 %의 각 사용자에 대해 Interaction data (녹색 원)의 90 %가 훈련 된 모델의 입력값으로 사용됩니다. 데이터의 나머지 10 % (주황색 원)는 모델에서 생성 된 추천 결과물과 비교되고 평가 지표를 계산하는 데 사용됩니다.\n",
    "\n",
    "\n",
    "\n",
    "![personalize metrics](static/imgs/personalize_metrics.png)\n",
    "\n",
    "[솔류션 평가 지표 정의](https://docs.aws.amazon.com/personalize/latest/dg/working-with-training-metrics.html)\n",
    "는 개발자 문서의 링크 참조 바랍니다. 또한 이 링크 [솔류션 평가 정의 예제](http://francescopochetti.com/recommend-expedia-hotels-with-amazon-personalize-the-magic-of-hierarchical-rnns/) 의 페이지 맨 아래 쪽을 보시면 조금 더 직관적인 그림을 보실 수 있습니다.\n",
    " <br>\n",
    "또한 reciprocal_rank_at_5, normalized_discounted_cumulative_gain_at_5,precision_at_5 의 예제는 아래와 같습니다. \n",
    "* Exmaple\n",
    "    * 5 개의 추천리스트를 제공했고, 이 중에 2번째와 5번째가 실제 데이타와 일치 했다고 하면, 쉽게 이렇게 [0,1,0,0,1] 표시 할 수 있습니다.\n",
    "        * reciprocal_rank\n",
    "            * 1/2 (0.5) # 가장 빠른 순서의 하나만을 선택 합니다\n",
    "        * normalized_discounted_cumulative_gain_at_5\n",
    "            * (1/log(1+2) + 1/log(1+5)) / (1/log(1+1) + 1/log(1+2)) = 0.6241\n",
    "        * precision_at_5\n",
    "            * 2/5 (0.4)\n",
    "\n",
    "\n",
    "\n",
    "#### 조금더 상세하고 Custum 평가 지표를 얻기 위해서 이전에 분리해둔 테스트 데이터를 가지고 캠페인 생성 후 별도 테스트를 진행하도록 합니다.\n",
    "\n"
   ]
  },
  {
   "cell_type": "code",
   "execution_count": 24,
   "metadata": {},
   "outputs": [],
   "source": [
    "metrics=[]\n",
    "\n",
    "def build_metric_matrix(solution,response):\n",
    "    metrics.append([solution,\n",
    "                response['metrics']['coverage'],\n",
    "                response['metrics']['mean_reciprocal_rank_at_25'],\n",
    "                response['metrics']['normalized_discounted_cumulative_gain_at_5'],\n",
    "                response['metrics']['normalized_discounted_cumulative_gain_at_10'],\n",
    "                response['metrics']['normalized_discounted_cumulative_gain_at_25'],\n",
    "                response['metrics']['precision_at_5'],\n",
    "                response['metrics']['precision_at_10'],\n",
    "                response['metrics']['precision_at_25']])"
   ]
  },
  {
   "cell_type": "code",
   "execution_count": 25,
   "metadata": {},
   "outputs": [
    {
     "name": "stdout",
     "output_type": "stream",
     "text": [
      "{\n",
      "  \"solutionVersionArn\": \"arn:aws:personalize:ap-northeast-2:870180618679:solution/Demo-hrnn-30524/b849addd\",\n",
      "  \"metrics\": {\n",
      "    \"coverage\": 0.6415,\n",
      "    \"mean_reciprocal_rank_at_25\": 0.2604,\n",
      "    \"normalized_discounted_cumulative_gain_at_10\": 0.2542,\n",
      "    \"normalized_discounted_cumulative_gain_at_25\": 0.3458,\n",
      "    \"normalized_discounted_cumulative_gain_at_5\": 0.1992,\n",
      "    \"precision_at_10\": 0.0917,\n",
      "    \"precision_at_25\": 0.0681,\n",
      "    \"precision_at_5\": 0.111\n",
      "  },\n",
      "  \"ResponseMetadata\": {\n",
      "    \"RequestId\": \"b6801d2f-ebcd-4fac-8499-bd618eeca335\",\n",
      "    \"HTTPStatusCode\": 200,\n",
      "    \"HTTPHeaders\": {\n",
      "      \"content-type\": \"application/x-amz-json-1.1\",\n",
      "      \"date\": \"Tue, 14 Jul 2020 03:50:31 GMT\",\n",
      "      \"x-amzn-requestid\": \"b6801d2f-ebcd-4fac-8499-bd618eeca335\",\n",
      "      \"content-length\": \"403\",\n",
      "      \"connection\": \"keep-alive\"\n",
      "    },\n",
      "    \"RetryAttempts\": 0\n",
      "  }\n",
      "}\n"
     ]
    }
   ],
   "source": [
    "get_solution_metrics_response = personalize.get_solution_metrics(\n",
    "    solutionVersionArn = hrnn_solution_version_arn\n",
    ")\n",
    "\n",
    "print(json.dumps(get_solution_metrics_response, indent=2))\n",
    "\n",
    "build_metric_matrix('hrnn',get_solution_metrics_response)"
   ]
  },
  {
   "cell_type": "code",
   "execution_count": 26,
   "metadata": {},
   "outputs": [
    {
     "name": "stdout",
     "output_type": "stream",
     "text": [
      "{\n",
      "  \"solutionVersionArn\": \"arn:aws:personalize:ap-northeast-2:870180618679:solution/Demo-hrnn-coldstart-30524/f5f0d400\",\n",
      "  \"metrics\": {\n",
      "    \"coverage\": 0.2479,\n",
      "    \"mean_reciprocal_rank_at_25\": 0.0062,\n",
      "    \"normalized_discounted_cumulative_gain_at_10\": 0.0087,\n",
      "    \"normalized_discounted_cumulative_gain_at_25\": 0.0117,\n",
      "    \"normalized_discounted_cumulative_gain_at_5\": 0.0075,\n",
      "    \"precision_at_10\": 0.0013,\n",
      "    \"precision_at_25\": 0.001,\n",
      "    \"precision_at_5\": 0.0019\n",
      "  },\n",
      "  \"ResponseMetadata\": {\n",
      "    \"RequestId\": \"8815f163-9165-41de-beca-2f4ab66efe55\",\n",
      "    \"HTTPStatusCode\": 200,\n",
      "    \"HTTPHeaders\": {\n",
      "      \"content-type\": \"application/x-amz-json-1.1\",\n",
      "      \"date\": \"Tue, 14 Jul 2020 03:50:31 GMT\",\n",
      "      \"x-amzn-requestid\": \"8815f163-9165-41de-beca-2f4ab66efe55\",\n",
      "      \"content-length\": \"413\",\n",
      "      \"connection\": \"keep-alive\"\n",
      "    },\n",
      "    \"RetryAttempts\": 0\n",
      "  }\n",
      "}\n"
     ]
    }
   ],
   "source": [
    "get_solution_metrics_response = personalize.get_solution_metrics(\n",
    "    solutionVersionArn = hrnn_coldstart_solution_version_arn\n",
    ")\n",
    "\n",
    "print(json.dumps(get_solution_metrics_response, indent=2))\n",
    "build_metric_matrix('hrnn_coldstart',get_solution_metrics_response)"
   ]
  },
  {
   "cell_type": "code",
   "execution_count": 27,
   "metadata": {},
   "outputs": [
    {
     "name": "stdout",
     "output_type": "stream",
     "text": [
      "{\n",
      "  \"solutionVersionArn\": \"arn:aws:personalize:ap-northeast-2:870180618679:solution/Demo-sims-30524/75728970\",\n",
      "  \"metrics\": {\n",
      "    \"coverage\": 0.7378,\n",
      "    \"mean_reciprocal_rank_at_25\": 0.1713,\n",
      "    \"normalized_discounted_cumulative_gain_at_10\": 0.1896,\n",
      "    \"normalized_discounted_cumulative_gain_at_25\": 0.2533,\n",
      "    \"normalized_discounted_cumulative_gain_at_5\": 0.1522,\n",
      "    \"precision_at_10\": 0.0578,\n",
      "    \"precision_at_25\": 0.0425,\n",
      "    \"precision_at_5\": 0.0724\n",
      "  },\n",
      "  \"ResponseMetadata\": {\n",
      "    \"RequestId\": \"9efad7f2-3c86-43c0-9253-e4b898cbf941\",\n",
      "    \"HTTPStatusCode\": 200,\n",
      "    \"HTTPHeaders\": {\n",
      "      \"content-type\": \"application/x-amz-json-1.1\",\n",
      "      \"date\": \"Tue, 14 Jul 2020 03:50:32 GMT\",\n",
      "      \"x-amzn-requestid\": \"9efad7f2-3c86-43c0-9253-e4b898cbf941\",\n",
      "      \"content-length\": \"404\",\n",
      "      \"connection\": \"keep-alive\"\n",
      "    },\n",
      "    \"RetryAttempts\": 0\n",
      "  }\n",
      "}\n"
     ]
    }
   ],
   "source": [
    "get_solution_metrics_response = personalize.get_solution_metrics(\n",
    "    solutionVersionArn = sims_solution_version_arn\n",
    ")\n",
    "\n",
    "print(json.dumps(get_solution_metrics_response, indent=2))\n",
    "build_metric_matrix('sims',get_solution_metrics_response)"
   ]
  },
  {
   "cell_type": "code",
   "execution_count": 28,
   "metadata": {},
   "outputs": [
    {
     "name": "stdout",
     "output_type": "stream",
     "text": [
      "{\n",
      "  \"solutionVersionArn\": \"arn:aws:personalize:ap-northeast-2:870180618679:solution/Demo-ranking-30524/ece21761\",\n",
      "  \"metrics\": {\n",
      "    \"coverage\": 0.0136,\n",
      "    \"mean_reciprocal_rank_at_25\": 0.0991,\n",
      "    \"normalized_discounted_cumulative_gain_at_10\": 0.1277,\n",
      "    \"normalized_discounted_cumulative_gain_at_25\": 0.1518,\n",
      "    \"normalized_discounted_cumulative_gain_at_5\": 0.1056,\n",
      "    \"precision_at_10\": 0.0277,\n",
      "    \"precision_at_25\": 0.0168,\n",
      "    \"precision_at_5\": 0.0354\n",
      "  },\n",
      "  \"ResponseMetadata\": {\n",
      "    \"RequestId\": \"a3d1f5c0-3ee0-4fa9-94cb-19e3ecc002db\",\n",
      "    \"HTTPStatusCode\": 200,\n",
      "    \"HTTPHeaders\": {\n",
      "      \"content-type\": \"application/x-amz-json-1.1\",\n",
      "      \"date\": \"Tue, 14 Jul 2020 03:50:32 GMT\",\n",
      "      \"x-amzn-requestid\": \"a3d1f5c0-3ee0-4fa9-94cb-19e3ecc002db\",\n",
      "      \"content-length\": \"407\",\n",
      "      \"connection\": \"keep-alive\"\n",
      "    },\n",
      "    \"RetryAttempts\": 0\n",
      "  }\n",
      "}\n"
     ]
    }
   ],
   "source": [
    "get_solution_metrics_response = personalize.get_solution_metrics(\n",
    "    solutionVersionArn = ranking_solution_version_arn \n",
    ")\n",
    "\n",
    "print(json.dumps(get_solution_metrics_response, indent=2))\n",
    "build_metric_matrix('ranking',get_solution_metrics_response)"
   ]
  },
  {
   "cell_type": "code",
   "execution_count": 29,
   "metadata": {},
   "outputs": [
    {
     "name": "stdout",
     "output_type": "stream",
     "text": [
      "{\n",
      "  \"solutionVersionArn\": \"arn:aws:personalize:ap-northeast-2:870180618679:solution/Demo-popularity-30524/40427de0\",\n",
      "  \"metrics\": {\n",
      "    \"coverage\": 0.0136,\n",
      "    \"mean_reciprocal_rank_at_25\": 0.0522,\n",
      "    \"normalized_discounted_cumulative_gain_at_10\": 0.0603,\n",
      "    \"normalized_discounted_cumulative_gain_at_25\": 0.1021,\n",
      "    \"normalized_discounted_cumulative_gain_at_5\": 0.0382,\n",
      "    \"precision_at_10\": 0.017,\n",
      "    \"precision_at_25\": 0.0156,\n",
      "    \"precision_at_5\": 0.0156\n",
      "  },\n",
      "  \"ResponseMetadata\": {\n",
      "    \"RequestId\": \"6b84ee7a-f075-4650-acc7-103b314cc097\",\n",
      "    \"HTTPStatusCode\": 200,\n",
      "    \"HTTPHeaders\": {\n",
      "      \"content-type\": \"application/x-amz-json-1.1\",\n",
      "      \"date\": \"Tue, 14 Jul 2020 03:50:33 GMT\",\n",
      "      \"x-amzn-requestid\": \"6b84ee7a-f075-4650-acc7-103b314cc097\",\n",
      "      \"content-length\": \"409\",\n",
      "      \"connection\": \"keep-alive\"\n",
      "    },\n",
      "    \"RetryAttempts\": 0\n",
      "  }\n",
      "}\n"
     ]
    }
   ],
   "source": [
    "get_solution_metrics_response = personalize.get_solution_metrics(\n",
    "    solutionVersionArn = popularity_solution_version_arn \n",
    ")\n",
    "\n",
    "print(json.dumps(get_solution_metrics_response, indent=2))\n",
    "build_metric_matrix('popularity',get_solution_metrics_response)\n"
   ]
  },
  {
   "cell_type": "code",
   "execution_count": 30,
   "metadata": {},
   "outputs": [
    {
     "data": {
      "text/html": [
       "<div>\n",
       "<style scoped>\n",
       "    .dataframe tbody tr th:only-of-type {\n",
       "        vertical-align: middle;\n",
       "    }\n",
       "\n",
       "    .dataframe tbody tr th {\n",
       "        vertical-align: top;\n",
       "    }\n",
       "\n",
       "    .dataframe thead th {\n",
       "        text-align: right;\n",
       "    }\n",
       "</style>\n",
       "<table border=\"1\" class=\"dataframe\">\n",
       "  <thead>\n",
       "    <tr style=\"text-align: right;\">\n",
       "      <th></th>\n",
       "      <th>recipe</th>\n",
       "      <th>coverage</th>\n",
       "      <th>mrr@25</th>\n",
       "      <th>ndcg@5</th>\n",
       "      <th>ndcg@10</th>\n",
       "      <th>ndcg@25</th>\n",
       "      <th>p@5</th>\n",
       "      <th>p@10</th>\n",
       "      <th>p@25</th>\n",
       "    </tr>\n",
       "  </thead>\n",
       "  <tbody>\n",
       "    <tr>\n",
       "      <th>0</th>\n",
       "      <td>hrnn</td>\n",
       "      <td>0.6415</td>\n",
       "      <td>0.2604</td>\n",
       "      <td>0.1992</td>\n",
       "      <td>0.2542</td>\n",
       "      <td>0.3458</td>\n",
       "      <td>0.1110</td>\n",
       "      <td>0.0917</td>\n",
       "      <td>0.0681</td>\n",
       "    </tr>\n",
       "    <tr>\n",
       "      <th>1</th>\n",
       "      <td>hrnn_coldstart</td>\n",
       "      <td>0.2479</td>\n",
       "      <td>0.0062</td>\n",
       "      <td>0.0075</td>\n",
       "      <td>0.0087</td>\n",
       "      <td>0.0117</td>\n",
       "      <td>0.0019</td>\n",
       "      <td>0.0013</td>\n",
       "      <td>0.0010</td>\n",
       "    </tr>\n",
       "    <tr>\n",
       "      <th>2</th>\n",
       "      <td>sims</td>\n",
       "      <td>0.7378</td>\n",
       "      <td>0.1713</td>\n",
       "      <td>0.1522</td>\n",
       "      <td>0.1896</td>\n",
       "      <td>0.2533</td>\n",
       "      <td>0.0724</td>\n",
       "      <td>0.0578</td>\n",
       "      <td>0.0425</td>\n",
       "    </tr>\n",
       "    <tr>\n",
       "      <th>3</th>\n",
       "      <td>ranking</td>\n",
       "      <td>0.0136</td>\n",
       "      <td>0.0991</td>\n",
       "      <td>0.1056</td>\n",
       "      <td>0.1277</td>\n",
       "      <td>0.1518</td>\n",
       "      <td>0.0354</td>\n",
       "      <td>0.0277</td>\n",
       "      <td>0.0168</td>\n",
       "    </tr>\n",
       "    <tr>\n",
       "      <th>4</th>\n",
       "      <td>popularity</td>\n",
       "      <td>0.0136</td>\n",
       "      <td>0.0522</td>\n",
       "      <td>0.0382</td>\n",
       "      <td>0.0603</td>\n",
       "      <td>0.1021</td>\n",
       "      <td>0.0156</td>\n",
       "      <td>0.0170</td>\n",
       "      <td>0.0156</td>\n",
       "    </tr>\n",
       "  </tbody>\n",
       "</table>\n",
       "</div>"
      ],
      "text/plain": [
       "           recipe  coverage  mrr@25  ndcg@5  ndcg@10  ndcg@25     p@5    p@10  \\\n",
       "0            hrnn    0.6415  0.2604  0.1992   0.2542   0.3458  0.1110  0.0917   \n",
       "1  hrnn_coldstart    0.2479  0.0062  0.0075   0.0087   0.0117  0.0019  0.0013   \n",
       "2            sims    0.7378  0.1713  0.1522   0.1896   0.2533  0.0724  0.0578   \n",
       "3         ranking    0.0136  0.0991  0.1056   0.1277   0.1518  0.0354  0.0277   \n",
       "4      popularity    0.0136  0.0522  0.0382   0.0603   0.1021  0.0156  0.0170   \n",
       "\n",
       "     p@25  \n",
       "0  0.0681  \n",
       "1  0.0010  \n",
       "2  0.0425  \n",
       "3  0.0168  \n",
       "4  0.0156  "
      ]
     },
     "execution_count": 30,
     "metadata": {},
     "output_type": "execute_result"
    }
   ],
   "source": [
    "metrics=pd.DataFrame(metrics,columns=['recipe','coverage','mrr@25','ndcg@5','ndcg@10','ndcg@25','p@5','p@10','p@25'])\n",
    "\n",
    "metrics"
   ]
  },
  {
   "cell_type": "markdown",
   "metadata": {},
   "source": [
    "## 리뷰\n",
    "\n",
    "이번 실습에서는 Amazon Personalize에서 제공하는 다양한 솔루션을 생성하고 Amazon Personalize에서 제공하는 솔루션 버전을 생성해 보았습니다.다음 LAB에서는 (`3.Deploying_Campaigns.ipynb`) 방금 생성한 솔루션을 서비스에 배포 하기 위해 Campaing을 배포해 보도록 합니다. \n"
   ]
  },
  {
   "cell_type": "code",
   "execution_count": 31,
   "metadata": {},
   "outputs": [
    {
     "name": "stdout",
     "output_type": "stream",
     "text": [
      "Stored 'hrnn_solution_version_arn' (str)\n",
      "Stored 'hrnn_solution_arn' (str)\n",
      "Stored 'hrnn_coldstart_solution_version_arn' (str)\n",
      "Stored 'hrnn_coldstart_solution_arn' (str)\n",
      "Stored 'sims_solution_version_arn' (str)\n",
      "Stored 'sims_solution_arn' (str)\n",
      "Stored 'ranking_solution_version_arn' (str)\n",
      "Stored 'ranking_solution_arn' (str)\n"
     ]
    }
   ],
   "source": [
    "%store hrnn_solution_version_arn\n",
    "%store hrnn_solution_arn\n",
    "%store hrnn_coldstart_solution_version_arn\n",
    "%store hrnn_coldstart_solution_arn\n",
    "%store sims_solution_version_arn\n",
    "%store sims_solution_arn\n",
    "%store ranking_solution_version_arn\n",
    "%store ranking_solution_arn\n"
   ]
  },
  {
   "cell_type": "code",
   "execution_count": null,
   "metadata": {},
   "outputs": [],
   "source": []
  }
 ],
 "metadata": {
  "kernelspec": {
   "display_name": "conda_python3",
   "language": "python",
   "name": "conda_python3"
  },
  "language_info": {
   "codemirror_mode": {
    "name": "ipython",
    "version": 3
   },
   "file_extension": ".py",
   "mimetype": "text/x-python",
   "name": "python",
   "nbconvert_exporter": "python",
   "pygments_lexer": "ipython3",
   "version": "3.6.10"
  }
 },
 "nbformat": 4,
 "nbformat_minor": 4
}
