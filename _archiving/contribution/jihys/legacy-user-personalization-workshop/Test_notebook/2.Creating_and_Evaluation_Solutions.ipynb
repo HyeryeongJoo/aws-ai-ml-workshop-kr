{
 "cells": [
  {
   "cell_type": "markdown",
   "metadata": {},
   "source": [
    "# Module 2. Personalize 솔류션 생성 및 평가 지표 확인하기\n",
    "\n",
    "이 노트북은 Module1에서 생성한 데이타셋 그룹, 데이타셋을 바탕으로 아래와 같은 작업을 합니다.\n",
    "\n",
    "* 레서피(알고리즘) 선택 및 솔류션 생성\n",
    "* 솔류션 버전 생성\n",
    "* 솔류션 평가 지표 얻기\n",
    "\n"
   ]
  },
  {
   "cell_type": "markdown",
   "metadata": {},
   "source": [
    "## 라이브러리 임포트\n",
    "\n",
    "파이썬에는 광범위한 라이브러리 모음이 포함되어 있으며, 본 핸즈온을 위해서 핵심 데이터 과학 도구인 boto3 (AWS SDK) 및 Pandas/Numpy와 같은 라이브러리를 가져와야 합니다."
   ]
  },
  {
   "cell_type": "code",
   "execution_count": 1,
   "metadata": {},
   "outputs": [],
   "source": [
    "# Imports\n",
    "import boto3\n",
    "import json\n",
    "import numpy as np\n",
    "import pandas as pd\n",
    "import time\n"
   ]
  },
  {
   "cell_type": "markdown",
   "metadata": {},
   "source": [
    "다음으로 여러분의 환경이 Amazon Personalize와 성공적으로 통신할 수 있는지 확인해야 합니다."
   ]
  },
  {
   "cell_type": "code",
   "execution_count": 2,
   "metadata": {},
   "outputs": [],
   "source": [
    "# Configure the SDK to Personalize:\n",
    "personalize = boto3.client('personalize')\n",
    "personalize_runtime = boto3.client('personalize-runtime')"
   ]
  },
  {
   "cell_type": "markdown",
   "metadata": {},
   "source": [
    "아래 코드 셀은 이전 notebook에서 저장했던 공유 변수들을 불러옵니다."
   ]
  },
  {
   "cell_type": "code",
   "execution_count": 3,
   "metadata": {},
   "outputs": [],
   "source": [
    "%store -r"
   ]
  },
  {
   "cell_type": "markdown",
   "metadata": {},
   "source": [
    "생성할 오브젝트의 끝에 임의의 숫자를 부여하기 위해 suffix 정의"
   ]
  },
  {
   "cell_type": "code",
   "execution_count": 4,
   "metadata": {},
   "outputs": [],
   "source": [
    "suffix = str(np.random.uniform())[4:9]"
   ]
  },
  {
   "cell_type": "markdown",
   "metadata": {},
   "source": [
    "## 솔루션 및 버전 생성\n",
    "\n",
    "Amazon Personalize에서 훈련된 모델을 솔루션이라고 하며, 각 솔루션에는 모델이 훈련되었을 때 주어진 데이터량과 관련된 많은 특정 버전들이 있을 수 있습니다.\n",
    "\n",
    "우선, Amazon Personalize에서 지원되는 모든 레시피(레시피는 아직 데이터에 대해 훈련되지 않은 알고리즘입니다.)들을 나열합니다. 리스트업된 레시피들 중 하나를 선택하고 이를 사용하여 모델을 빌드해 보세요.\n",
    "\n",
    "이 LAB에서 아래와 같은 솔루션을 생성하여 성능을 비교하여 봅니다.\n",
    "\n",
    "    1) HRNN\n",
    "    2) HRNN Coldstart\n",
    "    3) SIMS\n",
    "    4) Personalized Ranking\n",
    "\n",
    "이 프로세스의 완료는 실제로 40분 이상 소요됩니다. 작업이 완료될 때까지(즉, 활성화 상태가 될 때까지) while 루프를 수행하는 방법도 있지만, 이렇게 하면 다른 셀의 실행을 차단하게 됩니다. 따라서, 많은 모델을 만들어 신속하게 배포하려면 while 루프를 사용하는 대신, 필요한 솔루션 버전들을 생성 후, SageMaker 및 Cloudwatch에서 업데이트를 확인하세요.\n",
    "\n",
    "###  레시피 리스트 확인"
   ]
  },
  {
   "cell_type": "code",
   "execution_count": 5,
   "metadata": {},
   "outputs": [
    {
     "name": "stdout",
     "output_type": "stream",
     "text": [
      "arn:aws:personalize:::recipe/aws-hrnn\n",
      "arn:aws:personalize:::recipe/aws-hrnn-coldstart\n",
      "arn:aws:personalize:::recipe/aws-hrnn-metadata\n",
      "arn:aws:personalize:::recipe/aws-personalized-ranking\n",
      "arn:aws:personalize:::recipe/aws-popularity-count\n",
      "arn:aws:personalize:::recipe/aws-sims\n"
     ]
    }
   ],
   "source": [
    "recipe_list = personalize.list_recipes()\n",
    "for recipe in recipe_list['recipes']:\n",
    "    print(recipe['recipeArn'])"
   ]
  },
  {
   "cell_type": "markdown",
   "metadata": {},
   "source": [
    "### HRNN 솔루션 생성"
   ]
  },
  {
   "cell_type": "code",
   "execution_count": 6,
   "metadata": {},
   "outputs": [],
   "source": [
    " # Recipe 선택 \n",
    "hrnn_recipe_arn = \"arn:aws:personalize:::recipe/aws-hrnn\""
   ]
  },
  {
   "cell_type": "code",
   "execution_count": 7,
   "metadata": {},
   "outputs": [
    {
     "name": "stdout",
     "output_type": "stream",
     "text": [
      "{\n",
      "  \"solutionArn\": \"arn:aws:personalize:ap-northeast-2:870180618679:solution/Demo-hrnn-81286\",\n",
      "  \"ResponseMetadata\": {\n",
      "    \"RequestId\": \"b2c7f7f2-1103-4167-b7d7-fca15e52507d\",\n",
      "    \"HTTPStatusCode\": 200,\n",
      "    \"HTTPHeaders\": {\n",
      "      \"content-type\": \"application/x-amz-json-1.1\",\n",
      "      \"date\": \"Thu, 11 Jun 2020 06:27:03 GMT\",\n",
      "      \"x-amzn-requestid\": \"b2c7f7f2-1103-4167-b7d7-fca15e52507d\",\n",
      "      \"content-length\": \"90\",\n",
      "      \"connection\": \"keep-alive\"\n",
      "    },\n",
      "    \"RetryAttempts\": 0\n",
      "  }\n",
      "}\n"
     ]
    }
   ],
   "source": [
    "# Solution 생성 \n",
    "create_solution_response = personalize.create_solution(\n",
    "    name = \"Demo-hrnn-\" + suffix,\n",
    "    datasetGroupArn = dataset_group_arn,\n",
    "    recipeArn = hrnn_recipe_arn,\n",
    ")\n",
    "\n",
    "hrnn_solution_arn = create_solution_response['solutionArn']\n",
    "print(json.dumps(create_solution_response, indent=2))"
   ]
  },
  {
   "cell_type": "code",
   "execution_count": 8,
   "metadata": {},
   "outputs": [
    {
     "name": "stdout",
     "output_type": "stream",
     "text": [
      "{\n",
      "  \"solutionVersionArn\": \"arn:aws:personalize:ap-northeast-2:870180618679:solution/Demo-hrnn-81286/eb9b23d1\",\n",
      "  \"ResponseMetadata\": {\n",
      "    \"RequestId\": \"9bec7d04-6b60-4b2f-a3f6-dfa5615495e3\",\n",
      "    \"HTTPStatusCode\": 200,\n",
      "    \"HTTPHeaders\": {\n",
      "      \"content-type\": \"application/x-amz-json-1.1\",\n",
      "      \"date\": \"Thu, 11 Jun 2020 06:27:04 GMT\",\n",
      "      \"x-amzn-requestid\": \"9bec7d04-6b60-4b2f-a3f6-dfa5615495e3\",\n",
      "      \"content-length\": \"106\",\n",
      "      \"connection\": \"keep-alive\"\n",
      "    },\n",
      "    \"RetryAttempts\": 0\n",
      "  }\n",
      "}\n"
     ]
    }
   ],
   "source": [
    "# 솔루션 버전 생성\n",
    "create_solution_version_response = personalize.create_solution_version(\n",
    "    solutionArn = hrnn_solution_arn\n",
    ")\n",
    "\n",
    "hrnn_solution_version_arn = create_solution_version_response['solutionVersionArn']\n",
    "print(json.dumps(create_solution_version_response, indent=2))"
   ]
  },
  {
   "cell_type": "markdown",
   "metadata": {},
   "source": [
    "### HRNN ColdStart 솔루션 생성"
   ]
  },
  {
   "cell_type": "code",
   "execution_count": 9,
   "metadata": {},
   "outputs": [],
   "source": [
    " # Recipe 선택 \n",
    "hrnn_coldstart_recipe_arn = \"arn:aws:personalize:::recipe/aws-hrnn-coldstart\""
   ]
  },
  {
   "cell_type": "code",
   "execution_count": 10,
   "metadata": {},
   "outputs": [
    {
     "name": "stdout",
     "output_type": "stream",
     "text": [
      "{\n",
      "  \"solutionArn\": \"arn:aws:personalize:ap-northeast-2:870180618679:solution/Demo-hrnn-coldstart-81286\",\n",
      "  \"ResponseMetadata\": {\n",
      "    \"RequestId\": \"d37bf81d-b55e-4f3b-b91e-03390f48210a\",\n",
      "    \"HTTPStatusCode\": 200,\n",
      "    \"HTTPHeaders\": {\n",
      "      \"content-type\": \"application/x-amz-json-1.1\",\n",
      "      \"date\": \"Thu, 11 Jun 2020 06:27:04 GMT\",\n",
      "      \"x-amzn-requestid\": \"d37bf81d-b55e-4f3b-b91e-03390f48210a\",\n",
      "      \"content-length\": \"100\",\n",
      "      \"connection\": \"keep-alive\"\n",
      "    },\n",
      "    \"RetryAttempts\": 0\n",
      "  }\n",
      "}\n"
     ]
    }
   ],
   "source": [
    "# Solution 생성 \n",
    "create_solution_response = personalize.create_solution(\n",
    "    name = \"Demo-hrnn-coldstart-\" + suffix,\n",
    "    datasetGroupArn = dataset_group_arn,\n",
    "    recipeArn = hrnn_coldstart_recipe_arn,\n",
    "    solutionConfig = {\n",
    "        \"featureTransformationParameters\" : {\n",
    "            'cold_start_max_duration' : '5',\n",
    "            'cold_start_relative_from' : 'latestItem',\n",
    "            'cold_start_max_interactions':'15'\n",
    "        }\n",
    "    }\n",
    ")\n",
    "\n",
    "hrnn_coldstart_solution_arn = create_solution_response['solutionArn']\n",
    "print(json.dumps(create_solution_response, indent=2))"
   ]
  },
  {
   "cell_type": "code",
   "execution_count": 11,
   "metadata": {},
   "outputs": [
    {
     "name": "stdout",
     "output_type": "stream",
     "text": [
      "{\n",
      "  \"solutionVersionArn\": \"arn:aws:personalize:ap-northeast-2:870180618679:solution/Demo-hrnn-coldstart-81286/b1654be9\",\n",
      "  \"ResponseMetadata\": {\n",
      "    \"RequestId\": \"cf175e99-6cde-4864-9add-f7b64d06d360\",\n",
      "    \"HTTPStatusCode\": 200,\n",
      "    \"HTTPHeaders\": {\n",
      "      \"content-type\": \"application/x-amz-json-1.1\",\n",
      "      \"date\": \"Thu, 11 Jun 2020 06:27:04 GMT\",\n",
      "      \"x-amzn-requestid\": \"cf175e99-6cde-4864-9add-f7b64d06d360\",\n",
      "      \"content-length\": \"116\",\n",
      "      \"connection\": \"keep-alive\"\n",
      "    },\n",
      "    \"RetryAttempts\": 0\n",
      "  }\n",
      "}\n"
     ]
    }
   ],
   "source": [
    "# 솔루션 버전 생성\n",
    "create_solution_version_response = personalize.create_solution_version(\n",
    "    solutionArn = hrnn_coldstart_solution_arn\n",
    ")\n",
    "\n",
    "hrnn_coldstart_solution_version_arn = create_solution_version_response['solutionVersionArn']\n",
    "print(json.dumps(create_solution_version_response, indent=2))"
   ]
  },
  {
   "cell_type": "code",
   "execution_count": 27,
   "metadata": {
    "scrolled": true
   },
   "outputs": [
    {
     "name": "stdout",
     "output_type": "stream",
     "text": [
      "{\n",
      "  \"solutionArn\": \"arn:aws:personalize:ap-northeast-2:870180618679:solution/Demo-hrnn-hpo-81286\",\n",
      "  \"ResponseMetadata\": {\n",
      "    \"RequestId\": \"2533d34f-2c35-445e-8345-44d1cb5d802f\",\n",
      "    \"HTTPStatusCode\": 200,\n",
      "    \"HTTPHeaders\": {\n",
      "      \"content-type\": \"application/x-amz-json-1.1\",\n",
      "      \"date\": \"Fri, 12 Jun 2020 03:26:30 GMT\",\n",
      "      \"x-amzn-requestid\": \"2533d34f-2c35-445e-8345-44d1cb5d802f\",\n",
      "      \"content-length\": \"94\",\n",
      "      \"connection\": \"keep-alive\"\n",
      "    },\n",
      "    \"RetryAttempts\": 0\n",
      "  }\n",
      "}\n",
      "{\n",
      "  \"solutionVersionArn\": \"arn:aws:personalize:ap-northeast-2:870180618679:solution/Demo-hrnn-hpo-81286/39723ffb\",\n",
      "  \"ResponseMetadata\": {\n",
      "    \"RequestId\": \"fb8c21e9-cf18-4e31-b1f9-d4fd178340c5\",\n",
      "    \"HTTPStatusCode\": 200,\n",
      "    \"HTTPHeaders\": {\n",
      "      \"content-type\": \"application/x-amz-json-1.1\",\n",
      "      \"date\": \"Fri, 12 Jun 2020 03:26:30 GMT\",\n",
      "      \"x-amzn-requestid\": \"fb8c21e9-cf18-4e31-b1f9-d4fd178340c5\",\n",
      "      \"content-length\": \"110\",\n",
      "      \"connection\": \"keep-alive\"\n",
      "    },\n",
      "    \"RetryAttempts\": 0\n",
      "  }\n",
      "}\n"
     ]
    }
   ],
   "source": [
    "##### HPO Option ####\n",
    "# Recipe 선택 \n",
    "hrnn_hpo_recipe_arn = \"arn:aws:personalize:::recipe/aws-hrnn\"\n",
    "# Solution 생성 \n",
    "create_solution_response = personalize.create_solution(\n",
    "    name = \"Demo-hrnn-hpo-\" + suffix,\n",
    "    datasetGroupArn = dataset_group_arn,\n",
    "    recipeArn = hrnn_hpo_recipe_arn,\n",
    "    performHPO = True,\n",
    "    solutionConfig={\n",
    "        \"algorithmHyperParameters\": {\n",
    "            \"hidden_dimension\": \"55\"\n",
    "        },\n",
    "        'hpoConfig': {\n",
    "            'hpoObjective': {\n",
    "                'type': \"Maximize\",\n",
    "                \"metricName\": \"precision_at_25\",\n",
    "                'metricRegex': 'string'\n",
    "            },\n",
    "            'hpoResourceConfig': {\n",
    "                'maxNumberOfTrainingJobs': '4',\n",
    "                'maxParallelTrainingJobs': '2'\n",
    "            },\n",
    "            'algorithmHyperParameterRanges': {\n",
    "                'integerHyperParameterRanges': [\n",
    "                    {\n",
    "                        'name': \"bptt\",\n",
    "                        \"minValue\": 20,\n",
    "                        \"maxValue\": 40\n",
    "                    },\n",
    "                ],\n",
    "                'continuousHyperParameterRanges': [],                \n",
    "                   \n",
    "                'categoricalHyperParameterRanges': [\n",
    "                    {\n",
    "                        \"name\": \"recency_mask\",\n",
    "                        \"values\":  [ \"true\", \"false\" ]                      \n",
    "                    }\n",
    "                ]\n",
    "            }\n",
    "        }\n",
    "    }   \n",
    ")\n",
    "\n",
    "\n",
    "hrnn_hpo_soution_arn = create_solution_response['solutionArn']\n",
    "print(json.dumps(create_solution_response, indent=2))\n",
    "\n",
    "create_solution_reponse='arn:aws:personalize:ap-northeast-2:870180618679:solution/Demo-hrnn-hpo-93101'\n",
    "# 솔루션 버전 생성\n",
    "create_solution_version_response = personalize.create_solution_version(\n",
    "    solutionArn = hrnn_hpo_soution_arn\n",
    ")\n",
    "\n",
    "hrnn_hpo_solution_version_arn = create_solution_version_response['solutionVersionArn']\n",
    "print(json.dumps(create_solution_version_response, indent=2))\n"
   ]
  },
  {
   "cell_type": "markdown",
   "metadata": {},
   "source": [
    "### SIMS 솔루션 생성 "
   ]
  },
  {
   "cell_type": "code",
   "execution_count": 13,
   "metadata": {},
   "outputs": [],
   "source": [
    " # Recipe 선택 \n",
    "sims_recipe_arn = \"arn:aws:personalize:::recipe/aws-sims\""
   ]
  },
  {
   "cell_type": "code",
   "execution_count": 14,
   "metadata": {},
   "outputs": [
    {
     "name": "stdout",
     "output_type": "stream",
     "text": [
      "{\n",
      "  \"solutionArn\": \"arn:aws:personalize:ap-northeast-2:870180618679:solution/Demo-sims-81286\",\n",
      "  \"ResponseMetadata\": {\n",
      "    \"RequestId\": \"8b8ce611-80cc-4001-ae7d-c09856975faf\",\n",
      "    \"HTTPStatusCode\": 200,\n",
      "    \"HTTPHeaders\": {\n",
      "      \"content-type\": \"application/x-amz-json-1.1\",\n",
      "      \"date\": \"Thu, 11 Jun 2020 06:27:04 GMT\",\n",
      "      \"x-amzn-requestid\": \"8b8ce611-80cc-4001-ae7d-c09856975faf\",\n",
      "      \"content-length\": \"90\",\n",
      "      \"connection\": \"keep-alive\"\n",
      "    },\n",
      "    \"RetryAttempts\": 0\n",
      "  }\n",
      "}\n"
     ]
    }
   ],
   "source": [
    "# Solution 생성 \n",
    "create_solution_response = personalize.create_solution(\n",
    "    name = \"Demo-sims-\" + suffix,\n",
    "    datasetGroupArn = dataset_group_arn,\n",
    "    recipeArn = sims_recipe_arn\n",
    ")\n",
    "\n",
    "sims_solution_arn = create_solution_response['solutionArn']\n",
    "print(json.dumps(create_solution_response, indent=2))"
   ]
  },
  {
   "cell_type": "code",
   "execution_count": 15,
   "metadata": {},
   "outputs": [
    {
     "name": "stdout",
     "output_type": "stream",
     "text": [
      "{\n",
      "  \"solutionVersionArn\": \"arn:aws:personalize:ap-northeast-2:870180618679:solution/Demo-sims-81286/7604cc80\",\n",
      "  \"ResponseMetadata\": {\n",
      "    \"RequestId\": \"aac9d297-8df6-46cc-a228-512f32170553\",\n",
      "    \"HTTPStatusCode\": 200,\n",
      "    \"HTTPHeaders\": {\n",
      "      \"content-type\": \"application/x-amz-json-1.1\",\n",
      "      \"date\": \"Thu, 11 Jun 2020 06:27:04 GMT\",\n",
      "      \"x-amzn-requestid\": \"aac9d297-8df6-46cc-a228-512f32170553\",\n",
      "      \"content-length\": \"106\",\n",
      "      \"connection\": \"keep-alive\"\n",
      "    },\n",
      "    \"RetryAttempts\": 0\n",
      "  }\n",
      "}\n"
     ]
    }
   ],
   "source": [
    "# 솔루션 버전 생성\n",
    "create_solution_version_response = personalize.create_solution_version(\n",
    "    solutionArn = sims_solution_arn\n",
    ")\n",
    "sims_solution_version_arn = create_solution_version_response['solutionVersionArn']\n",
    "print(json.dumps(create_solution_version_response, indent=2))"
   ]
  },
  {
   "cell_type": "markdown",
   "metadata": {},
   "source": [
    "### Personalize Ranking 솔루션 생성 "
   ]
  },
  {
   "cell_type": "code",
   "execution_count": 16,
   "metadata": {},
   "outputs": [],
   "source": [
    " # Recipe 선택 \n",
    "ranking_recipe_arn = \"arn:aws:personalize:::recipe/aws-personalized-ranking\""
   ]
  },
  {
   "cell_type": "code",
   "execution_count": 17,
   "metadata": {},
   "outputs": [
    {
     "name": "stdout",
     "output_type": "stream",
     "text": [
      "{\n",
      "  \"solutionArn\": \"arn:aws:personalize:ap-northeast-2:870180618679:solution/Demo-ranking-81286\",\n",
      "  \"ResponseMetadata\": {\n",
      "    \"RequestId\": \"9384c269-0191-4768-88a2-daa034f63364\",\n",
      "    \"HTTPStatusCode\": 200,\n",
      "    \"HTTPHeaders\": {\n",
      "      \"content-type\": \"application/x-amz-json-1.1\",\n",
      "      \"date\": \"Thu, 11 Jun 2020 06:27:04 GMT\",\n",
      "      \"x-amzn-requestid\": \"9384c269-0191-4768-88a2-daa034f63364\",\n",
      "      \"content-length\": \"93\",\n",
      "      \"connection\": \"keep-alive\"\n",
      "    },\n",
      "    \"RetryAttempts\": 0\n",
      "  }\n",
      "}\n"
     ]
    }
   ],
   "source": [
    "# Solution 생성 \n",
    "create_solution_response = personalize.create_solution(\n",
    "    name = \"Demo-ranking-\" + suffix,\n",
    "    datasetGroupArn = dataset_group_arn,\n",
    "    recipeArn = ranking_recipe_arn\n",
    ")\n",
    "\n",
    "ranking_solution_arn = create_solution_response['solutionArn']\n",
    "print(json.dumps(create_solution_response, indent=2))"
   ]
  },
  {
   "cell_type": "code",
   "execution_count": 18,
   "metadata": {},
   "outputs": [
    {
     "name": "stdout",
     "output_type": "stream",
     "text": [
      "{\n",
      "  \"solutionVersionArn\": \"arn:aws:personalize:ap-northeast-2:870180618679:solution/Demo-ranking-81286/2181e109\",\n",
      "  \"ResponseMetadata\": {\n",
      "    \"RequestId\": \"b6a83d91-4267-4084-9d95-9314ab96ef53\",\n",
      "    \"HTTPStatusCode\": 200,\n",
      "    \"HTTPHeaders\": {\n",
      "      \"content-type\": \"application/x-amz-json-1.1\",\n",
      "      \"date\": \"Thu, 11 Jun 2020 06:27:05 GMT\",\n",
      "      \"x-amzn-requestid\": \"b6a83d91-4267-4084-9d95-9314ab96ef53\",\n",
      "      \"content-length\": \"109\",\n",
      "      \"connection\": \"keep-alive\"\n",
      "    },\n",
      "    \"RetryAttempts\": 0\n",
      "  }\n",
      "}\n"
     ]
    }
   ],
   "source": [
    "# 솔루션 버전 생성\n",
    "create_solution_version_response = personalize.create_solution_version(\n",
    "    solutionArn = ranking_solution_arn\n",
    ")\n",
    "ranking_solution_version_arn = create_solution_version_response['solutionVersionArn']\n",
    "print(json.dumps(create_solution_version_response, indent=2))"
   ]
  },
  {
   "cell_type": "markdown",
   "metadata": {},
   "source": [
    "### 모델 생성 확인 하기 \n",
    "아래 코드 실행하여 모델 생성 여부를 확인합니다. "
   ]
  },
  {
   "cell_type": "code",
   "execution_count": 19,
   "metadata": {},
   "outputs": [
    {
     "name": "stdout",
     "output_type": "stream",
     "text": [
      "HRNN SolutionVersion: CREATE PENDING\n",
      "HRNN ColdStart SolutionVersion: CREATE PENDING\n",
      "Sims SolutionVersion: CREATE PENDING\n",
      "Ranking SolutionVersion: CREATE PENDING\n",
      "-------------------------------------->\n",
      "HRNN SolutionVersion: CREATE IN_PROGRESS\n",
      "HRNN ColdStart SolutionVersion: CREATE IN_PROGRESS\n",
      "Sims SolutionVersion: CREATE IN_PROGRESS\n",
      "Ranking SolutionVersion: CREATE IN_PROGRESS\n",
      "-------------------------------------->\n",
      "HRNN SolutionVersion: CREATE IN_PROGRESS\n",
      "HRNN ColdStart SolutionVersion: CREATE IN_PROGRESS\n",
      "Sims SolutionVersion: CREATE IN_PROGRESS\n",
      "Ranking SolutionVersion: CREATE IN_PROGRESS\n",
      "-------------------------------------->\n",
      "HRNN SolutionVersion: CREATE IN_PROGRESS\n",
      "HRNN ColdStart SolutionVersion: CREATE IN_PROGRESS\n",
      "Sims SolutionVersion: CREATE IN_PROGRESS\n",
      "Ranking SolutionVersion: CREATE IN_PROGRESS\n",
      "-------------------------------------->\n",
      "HRNN SolutionVersion: CREATE IN_PROGRESS\n",
      "HRNN ColdStart SolutionVersion: CREATE IN_PROGRESS\n",
      "Sims SolutionVersion: CREATE IN_PROGRESS\n",
      "Ranking SolutionVersion: CREATE IN_PROGRESS\n",
      "-------------------------------------->\n",
      "HRNN SolutionVersion: CREATE IN_PROGRESS\n",
      "HRNN ColdStart SolutionVersion: CREATE IN_PROGRESS\n",
      "Sims SolutionVersion: CREATE IN_PROGRESS\n",
      "Ranking SolutionVersion: CREATE IN_PROGRESS\n",
      "-------------------------------------->\n",
      "HRNN SolutionVersion: CREATE IN_PROGRESS\n",
      "HRNN ColdStart SolutionVersion: CREATE IN_PROGRESS\n",
      "Sims SolutionVersion: CREATE IN_PROGRESS\n",
      "Ranking SolutionVersion: CREATE IN_PROGRESS\n",
      "-------------------------------------->\n",
      "HRNN SolutionVersion: CREATE IN_PROGRESS\n",
      "HRNN ColdStart SolutionVersion: CREATE IN_PROGRESS\n",
      "Sims SolutionVersion: CREATE IN_PROGRESS\n",
      "Ranking SolutionVersion: CREATE IN_PROGRESS\n",
      "-------------------------------------->\n",
      "HRNN SolutionVersion: CREATE IN_PROGRESS\n",
      "HRNN ColdStart SolutionVersion: CREATE IN_PROGRESS\n",
      "Sims SolutionVersion: CREATE IN_PROGRESS\n",
      "Ranking SolutionVersion: CREATE IN_PROGRESS\n",
      "-------------------------------------->\n",
      "HRNN SolutionVersion: CREATE IN_PROGRESS\n",
      "HRNN ColdStart SolutionVersion: CREATE IN_PROGRESS\n",
      "Sims SolutionVersion: CREATE IN_PROGRESS\n",
      "Ranking SolutionVersion: CREATE IN_PROGRESS\n",
      "-------------------------------------->\n",
      "HRNN SolutionVersion: CREATE IN_PROGRESS\n",
      "HRNN ColdStart SolutionVersion: CREATE IN_PROGRESS\n",
      "Sims SolutionVersion: CREATE IN_PROGRESS\n",
      "Ranking SolutionVersion: CREATE IN_PROGRESS\n",
      "-------------------------------------->\n",
      "HRNN SolutionVersion: CREATE IN_PROGRESS\n",
      "HRNN ColdStart SolutionVersion: CREATE IN_PROGRESS\n",
      "Sims SolutionVersion: CREATE IN_PROGRESS\n",
      "Ranking SolutionVersion: CREATE IN_PROGRESS\n",
      "-------------------------------------->\n",
      "HRNN SolutionVersion: CREATE IN_PROGRESS\n",
      "HRNN ColdStart SolutionVersion: CREATE IN_PROGRESS\n",
      "Sims SolutionVersion: CREATE IN_PROGRESS\n",
      "Ranking SolutionVersion: CREATE IN_PROGRESS\n",
      "-------------------------------------->\n",
      "HRNN SolutionVersion: CREATE IN_PROGRESS\n",
      "HRNN ColdStart SolutionVersion: CREATE IN_PROGRESS\n",
      "Sims SolutionVersion: CREATE IN_PROGRESS\n",
      "Ranking SolutionVersion: CREATE IN_PROGRESS\n",
      "-------------------------------------->\n",
      "HRNN SolutionVersion: CREATE IN_PROGRESS\n",
      "HRNN ColdStart SolutionVersion: CREATE IN_PROGRESS\n",
      "Sims SolutionVersion: CREATE IN_PROGRESS\n",
      "Ranking SolutionVersion: CREATE IN_PROGRESS\n",
      "-------------------------------------->\n",
      "HRNN SolutionVersion: CREATE IN_PROGRESS\n",
      "HRNN ColdStart SolutionVersion: CREATE IN_PROGRESS\n",
      "Sims SolutionVersion: CREATE IN_PROGRESS\n",
      "Ranking SolutionVersion: CREATE IN_PROGRESS\n",
      "-------------------------------------->\n",
      "HRNN SolutionVersion: CREATE IN_PROGRESS\n",
      "HRNN ColdStart SolutionVersion: CREATE IN_PROGRESS\n",
      "Sims SolutionVersion: CREATE IN_PROGRESS\n",
      "Ranking SolutionVersion: CREATE IN_PROGRESS\n",
      "-------------------------------------->\n",
      "HRNN SolutionVersion: CREATE IN_PROGRESS\n",
      "HRNN ColdStart SolutionVersion: CREATE IN_PROGRESS\n",
      "Sims SolutionVersion: CREATE IN_PROGRESS\n",
      "Ranking SolutionVersion: CREATE IN_PROGRESS\n",
      "-------------------------------------->\n",
      "HRNN SolutionVersion: CREATE IN_PROGRESS\n",
      "HRNN ColdStart SolutionVersion: CREATE IN_PROGRESS\n",
      "Sims SolutionVersion: CREATE IN_PROGRESS\n",
      "Ranking SolutionVersion: CREATE IN_PROGRESS\n",
      "-------------------------------------->\n",
      "HRNN SolutionVersion: CREATE IN_PROGRESS\n",
      "HRNN ColdStart SolutionVersion: CREATE IN_PROGRESS\n",
      "Sims SolutionVersion: CREATE IN_PROGRESS\n",
      "Ranking SolutionVersion: CREATE IN_PROGRESS\n",
      "-------------------------------------->\n",
      "HRNN SolutionVersion: CREATE IN_PROGRESS\n",
      "HRNN ColdStart SolutionVersion: CREATE IN_PROGRESS\n",
      "Sims SolutionVersion: CREATE IN_PROGRESS\n",
      "Ranking SolutionVersion: CREATE IN_PROGRESS\n",
      "-------------------------------------->\n",
      "HRNN SolutionVersion: CREATE IN_PROGRESS\n",
      "HRNN ColdStart SolutionVersion: CREATE IN_PROGRESS\n",
      "Sims SolutionVersion: CREATE IN_PROGRESS\n",
      "Ranking SolutionVersion: CREATE IN_PROGRESS\n",
      "-------------------------------------->\n",
      "HRNN SolutionVersion: CREATE IN_PROGRESS\n",
      "HRNN ColdStart SolutionVersion: CREATE IN_PROGRESS\n",
      "Sims SolutionVersion: CREATE IN_PROGRESS\n",
      "Ranking SolutionVersion: CREATE IN_PROGRESS\n",
      "-------------------------------------->\n",
      "HRNN SolutionVersion: CREATE IN_PROGRESS\n",
      "HRNN ColdStart SolutionVersion: CREATE IN_PROGRESS\n",
      "Sims SolutionVersion: CREATE IN_PROGRESS\n",
      "Ranking SolutionVersion: CREATE IN_PROGRESS\n",
      "-------------------------------------->\n",
      "HRNN SolutionVersion: CREATE IN_PROGRESS\n",
      "HRNN ColdStart SolutionVersion: CREATE IN_PROGRESS\n",
      "Sims SolutionVersion: CREATE IN_PROGRESS\n",
      "Ranking SolutionVersion: CREATE IN_PROGRESS\n",
      "-------------------------------------->\n",
      "HRNN SolutionVersion: CREATE IN_PROGRESS\n",
      "HRNN ColdStart SolutionVersion: CREATE IN_PROGRESS\n",
      "Sims SolutionVersion: CREATE IN_PROGRESS\n",
      "Ranking SolutionVersion: CREATE IN_PROGRESS\n",
      "-------------------------------------->\n",
      "HRNN SolutionVersion: CREATE IN_PROGRESS\n",
      "HRNN ColdStart SolutionVersion: CREATE IN_PROGRESS\n",
      "Sims SolutionVersion: CREATE IN_PROGRESS\n",
      "Ranking SolutionVersion: CREATE IN_PROGRESS\n",
      "-------------------------------------->\n",
      "HRNN SolutionVersion: CREATE IN_PROGRESS\n",
      "HRNN ColdStart SolutionVersion: CREATE IN_PROGRESS\n",
      "Sims SolutionVersion: CREATE IN_PROGRESS\n",
      "Ranking SolutionVersion: CREATE IN_PROGRESS\n",
      "-------------------------------------->\n",
      "HRNN SolutionVersion: CREATE IN_PROGRESS\n",
      "HRNN ColdStart SolutionVersion: CREATE IN_PROGRESS\n",
      "Sims SolutionVersion: CREATE IN_PROGRESS\n",
      "Ranking SolutionVersion: CREATE IN_PROGRESS\n",
      "-------------------------------------->\n",
      "HRNN SolutionVersion: CREATE IN_PROGRESS\n",
      "HRNN ColdStart SolutionVersion: CREATE IN_PROGRESS\n",
      "Sims SolutionVersion: CREATE IN_PROGRESS\n",
      "Ranking SolutionVersion: CREATE IN_PROGRESS\n",
      "-------------------------------------->\n",
      "HRNN SolutionVersion: CREATE IN_PROGRESS\n",
      "HRNN ColdStart SolutionVersion: CREATE IN_PROGRESS\n",
      "Sims SolutionVersion: CREATE IN_PROGRESS\n",
      "Ranking SolutionVersion: CREATE IN_PROGRESS\n",
      "-------------------------------------->\n",
      "HRNN SolutionVersion: CREATE IN_PROGRESS\n",
      "HRNN ColdStart SolutionVersion: CREATE IN_PROGRESS\n",
      "Sims SolutionVersion: CREATE IN_PROGRESS\n",
      "Ranking SolutionVersion: CREATE IN_PROGRESS\n",
      "-------------------------------------->\n",
      "HRNN SolutionVersion: CREATE IN_PROGRESS\n",
      "HRNN ColdStart SolutionVersion: CREATE IN_PROGRESS\n",
      "Sims SolutionVersion: CREATE IN_PROGRESS\n",
      "Ranking SolutionVersion: CREATE IN_PROGRESS\n",
      "-------------------------------------->\n",
      "HRNN SolutionVersion: CREATE IN_PROGRESS\n",
      "HRNN ColdStart SolutionVersion: CREATE IN_PROGRESS\n",
      "Sims SolutionVersion: CREATE IN_PROGRESS\n",
      "Ranking SolutionVersion: CREATE IN_PROGRESS\n",
      "-------------------------------------->\n",
      "HRNN SolutionVersion: CREATE IN_PROGRESS\n",
      "HRNN ColdStart SolutionVersion: CREATE IN_PROGRESS\n",
      "Sims SolutionVersion: CREATE IN_PROGRESS\n",
      "Ranking SolutionVersion: CREATE IN_PROGRESS\n",
      "-------------------------------------->\n",
      "HRNN SolutionVersion: CREATE IN_PROGRESS\n",
      "HRNN ColdStart SolutionVersion: CREATE IN_PROGRESS\n",
      "Sims SolutionVersion: CREATE IN_PROGRESS\n",
      "Ranking SolutionVersion: CREATE IN_PROGRESS\n",
      "-------------------------------------->\n",
      "HRNN SolutionVersion: CREATE IN_PROGRESS\n",
      "HRNN ColdStart SolutionVersion: CREATE IN_PROGRESS\n",
      "Sims SolutionVersion: CREATE IN_PROGRESS\n",
      "Ranking SolutionVersion: CREATE IN_PROGRESS\n",
      "-------------------------------------->\n",
      "HRNN SolutionVersion: CREATE IN_PROGRESS\n",
      "HRNN ColdStart SolutionVersion: CREATE IN_PROGRESS\n",
      "Sims SolutionVersion: ACTIVE\n",
      "Ranking SolutionVersion: CREATE IN_PROGRESS\n",
      "-------------------------------------->\n"
     ]
    },
    {
     "name": "stdout",
     "output_type": "stream",
     "text": [
      "HRNN SolutionVersion: CREATE IN_PROGRESS\n",
      "HRNN ColdStart SolutionVersion: ACTIVE\n",
      "Sims SolutionVersion: ACTIVE\n",
      "Ranking SolutionVersion: CREATE IN_PROGRESS\n",
      "-------------------------------------->\n",
      "HRNN SolutionVersion: CREATE IN_PROGRESS\n",
      "HRNN ColdStart SolutionVersion: ACTIVE\n",
      "Sims SolutionVersion: ACTIVE\n",
      "Ranking SolutionVersion: CREATE IN_PROGRESS\n",
      "-------------------------------------->\n",
      "HRNN SolutionVersion: CREATE IN_PROGRESS\n",
      "HRNN ColdStart SolutionVersion: ACTIVE\n",
      "Sims SolutionVersion: ACTIVE\n",
      "Ranking SolutionVersion: ACTIVE\n",
      "-------------------------------------->\n",
      "HRNN SolutionVersion: CREATE IN_PROGRESS\n",
      "HRNN ColdStart SolutionVersion: ACTIVE\n",
      "Sims SolutionVersion: ACTIVE\n",
      "Ranking SolutionVersion: ACTIVE\n",
      "-------------------------------------->\n",
      "HRNN SolutionVersion: CREATE IN_PROGRESS\n",
      "HRNN ColdStart SolutionVersion: ACTIVE\n",
      "Sims SolutionVersion: ACTIVE\n",
      "Ranking SolutionVersion: ACTIVE\n",
      "-------------------------------------->\n",
      "HRNN SolutionVersion: ACTIVE\n",
      "HRNN ColdStart SolutionVersion: ACTIVE\n",
      "Sims SolutionVersion: ACTIVE\n",
      "Ranking SolutionVersion: ACTIVE\n",
      "All solution creation completed\n",
      "CPU times: user 509 ms, sys: 61.7 ms, total: 571 ms\n",
      "Wall time: 43min 7s\n"
     ]
    }
   ],
   "source": [
    "%%time\n",
    "\n",
    "\n",
    "max_time = time.time() + 3*60*60 # 3 hours\n",
    "while time.time() < max_time:\n",
    "    #hrnn status\n",
    "    describe_solution_version_response = personalize.describe_solution_version(\n",
    "        solutionVersionArn = hrnn_solution_version_arn\n",
    "    )  \n",
    "    status_hrnn = describe_solution_version_response[\"solutionVersion\"][\"status\"]\n",
    "    print(\"HRNN SolutionVersion: {}\".format(status_hrnn))\n",
    "    \n",
    "    #hrnn_coldstart status\n",
    "    describe_solution_version_response = personalize.describe_solution_version(\n",
    "        solutionVersionArn = hrnn_coldstart_solution_version_arn\n",
    "    )\n",
    "    status_hrnn_cs = describe_solution_version_response[\"solutionVersion\"][\"status\"]    \n",
    "    print(\"HRNN ColdStart SolutionVersion: {}\".format(status_hrnn_cs))\n",
    "    \n",
    "    #sims status\n",
    "    describe_solution_version_response = personalize.describe_solution_version(\n",
    "    solutionVersionArn = sims_solution_version_arn\n",
    "    )\n",
    "    status_sims = describe_solution_version_response[\"solutionVersion\"][\"status\"]\n",
    "    print(\"Sims SolutionVersion: {}\".format(status_sims))\n",
    "    \n",
    "    #ranking status\n",
    "    describe_solution_version_response = personalize.describe_solution_version(\n",
    "        solutionVersionArn = ranking_solution_version_arn\n",
    "    )\n",
    "    status_ranking= describe_solution_version_response[\"solutionVersion\"][\"status\"]    \n",
    "    print(\"Ranking SolutionVersion: {}\".format(status_ranking))    \n",
    "    \n",
    "    if (status_hrnn == \"ACTIVE\" or status_hrnn == \"CREATE FAILED\") &\\\n",
    "       (status_hrnn_cs == \"ACTIVE\" or status_hrnn_cs == \"CREATE FAILED\") &\\\n",
    "       (status_sims == \"ACTIVE\" or status_sims == \"CREATE FAILED\") &\\\n",
    "       (status_ranking == \"ACTIVE\" or status_ranking == \"CREATE FAILED\"):\n",
    "        break\n",
    "    print(\"-------------------------------------->\")\n",
    "    time.sleep(60)\n",
    "\n",
    "print(\"All solution creation completed\")"
   ]
  },
  {
   "cell_type": "markdown",
   "metadata": {},
   "source": [
    "## 솔루션 평가 지표 얻기\n",
    "\n",
    "이번 파트에서는 Amazon Personalize에서 기본으로 제공하는 솔루션에 대한 평가 지표를 확인해 봅니다. \n",
    "Amazon Personalize에서는 평가 지표를 생성하기 위해 약 랜덤으로 10% 사용자의 interaction data를 테스트 용으로 활용합니다. \n",
    "\n",
    "아래 이미지는 Amazon Personalize가 데이터를 분리하는 방법을 보여줍니다. 사용자가 10 명이고 각각 10 개의 상호 작용이있는 경우 (여기에서 원은 Interaction data를 나타냄) 타임 스탬프를 기준으로 가장 오래된 것부터 최신 것까지 나열된 것입니다. Amazon Personalize는 사용자의 90 % (파란색 원)의 모든 Interaction 데이터를 사용하여 솔루션 버전을 훈련시키고 나머지 10 %는 평가를 위해 사용합니다. 나머지 10 %의 각 사용자에 대해 Interaction data (녹색 원)의 90 %가 훈련 된 모델의 입력값으로 사용됩니다. 데이터의 나머지 10 % (주황색 원)는 모델에서 생성 된 추천 결과물과 비교되고 평가 지표를 계산하는 데 사용됩니다.\n",
    "\n",
    "\n",
    "\n",
    "![personalize metrics](static/imgs/personalize_metrics.png)\n",
    "\n",
    "[솔류션 평가 지표 정의](https://docs.aws.amazon.com/personalize/latest/dg/working-with-training-metrics.html)\n",
    "는 개발자 문서의 링크 참조 바랍니다. 또한 이 링크 [솔류션 평가 정의 예제](http://francescopochetti.com/recommend-expedia-hotels-with-amazon-personalize-the-magic-of-hierarchical-rnns/) 의 페이지 맨 아래 쪽을 보시면 조금 더 직관적인 그림을 보실 수 있습니다.\n",
    " <br>\n",
    "또한 reciprocal_rank_at_5, normalized_discounted_cumulative_gain_at_5,precision_at_5 의 예제는 아래와 같습니다. \n",
    "* Exmaple\n",
    "    * 5 개의 추천리스트를 제공했고, 이 중에 2번째와 5번째가 실제 데이타와 일치 했다고 하면, 쉽게 이렇게 [0,1,0,0,1] 표시 할 수 있습니다.\n",
    "        * reciprocal_rank\n",
    "            * 1/2 (0.5) # 가장 빠른 순서의 하나만을 선택 합니다\n",
    "        * normalized_discounted_cumulative_gain_at_5\n",
    "            * (1/log(1+2) + 1/log(1+5)) / (1/log(1+1) + 1/log(1+2)) = 0.6241\n",
    "        * precision_at_5\n",
    "            * 2/5 (0.4)\n",
    "\n",
    "\n",
    "\n",
    "#### 조금더 상세하고 Custum 평가 지표를 얻기 위해서 이전에 분리해둔 테스트 데이터를 가지고 캠페인 생성 후 별도 테스트를 진행하도록 합니다.\n",
    "\n"
   ]
  },
  {
   "cell_type": "code",
   "execution_count": 20,
   "metadata": {},
   "outputs": [],
   "source": [
    "metrics=[]\n",
    "\n",
    "def build_metric_matrix(solution,response):\n",
    "    metrics.append([solution,\n",
    "                response['metrics']['coverage'],\n",
    "                response['metrics']['mean_reciprocal_rank_at_25'],\n",
    "                response['metrics']['normalized_discounted_cumulative_gain_at_5'],\n",
    "                response['metrics']['normalized_discounted_cumulative_gain_at_10'],\n",
    "                response['metrics']['normalized_discounted_cumulative_gain_at_25'],\n",
    "                response['metrics']['precision_at_5'],\n",
    "                response['metrics']['precision_at_10'],\n",
    "                response['metrics']['precision_at_25']])"
   ]
  },
  {
   "cell_type": "code",
   "execution_count": 21,
   "metadata": {},
   "outputs": [
    {
     "name": "stdout",
     "output_type": "stream",
     "text": [
      "{\n",
      "  \"solutionVersionArn\": \"arn:aws:personalize:ap-northeast-2:870180618679:solution/Demo-hrnn-81286/eb9b23d1\",\n",
      "  \"metrics\": {\n",
      "    \"coverage\": 0.6085,\n",
      "    \"mean_reciprocal_rank_at_25\": 0.2463,\n",
      "    \"normalized_discounted_cumulative_gain_at_10\": 0.2407,\n",
      "    \"normalized_discounted_cumulative_gain_at_25\": 0.3292,\n",
      "    \"normalized_discounted_cumulative_gain_at_5\": 0.1908,\n",
      "    \"precision_at_10\": 0.0851,\n",
      "    \"precision_at_25\": 0.065,\n",
      "    \"precision_at_5\": 0.1023\n",
      "  },\n",
      "  \"ResponseMetadata\": {\n",
      "    \"RequestId\": \"ad84dea8-b21f-4de5-bb47-0901dae81595\",\n",
      "    \"HTTPStatusCode\": 200,\n",
      "    \"HTTPHeaders\": {\n",
      "      \"content-type\": \"application/x-amz-json-1.1\",\n",
      "      \"date\": \"Thu, 11 Jun 2020 07:10:12 GMT\",\n",
      "      \"x-amzn-requestid\": \"ad84dea8-b21f-4de5-bb47-0901dae81595\",\n",
      "      \"content-length\": \"403\",\n",
      "      \"connection\": \"keep-alive\"\n",
      "    },\n",
      "    \"RetryAttempts\": 0\n",
      "  }\n",
      "}\n"
     ]
    }
   ],
   "source": [
    "get_solution_metrics_response = personalize.get_solution_metrics(\n",
    "    solutionVersionArn = hrnn_solution_version_arn\n",
    ")\n",
    "\n",
    "print(json.dumps(get_solution_metrics_response, indent=2))\n",
    "\n",
    "build_metric_matrix('hrnn',get_solution_metrics_response)"
   ]
  },
  {
   "cell_type": "code",
   "execution_count": 22,
   "metadata": {},
   "outputs": [
    {
     "name": "stdout",
     "output_type": "stream",
     "text": [
      "{\n",
      "  \"solutionVersionArn\": \"arn:aws:personalize:ap-northeast-2:870180618679:solution/Demo-hrnn-coldstart-81286/b1654be9\",\n",
      "  \"metrics\": {\n",
      "    \"coverage\": 0.2077,\n",
      "    \"mean_reciprocal_rank_at_25\": 0.0065,\n",
      "    \"normalized_discounted_cumulative_gain_at_10\": 0.0091,\n",
      "    \"normalized_discounted_cumulative_gain_at_25\": 0.0119,\n",
      "    \"normalized_discounted_cumulative_gain_at_5\": 0.0057,\n",
      "    \"precision_at_10\": 0.0018,\n",
      "    \"precision_at_25\": 0.0012,\n",
      "    \"precision_at_5\": 0.0016\n",
      "  },\n",
      "  \"ResponseMetadata\": {\n",
      "    \"RequestId\": \"2e6288ff-ff17-4022-85af-9153312267e8\",\n",
      "    \"HTTPStatusCode\": 200,\n",
      "    \"HTTPHeaders\": {\n",
      "      \"content-type\": \"application/x-amz-json-1.1\",\n",
      "      \"date\": \"Thu, 11 Jun 2020 07:10:12 GMT\",\n",
      "      \"x-amzn-requestid\": \"2e6288ff-ff17-4022-85af-9153312267e8\",\n",
      "      \"content-length\": \"414\",\n",
      "      \"connection\": \"keep-alive\"\n",
      "    },\n",
      "    \"RetryAttempts\": 0\n",
      "  }\n",
      "}\n"
     ]
    }
   ],
   "source": [
    "get_solution_metrics_response = personalize.get_solution_metrics(\n",
    "    solutionVersionArn = hrnn_coldstart_solution_version_arn\n",
    ")\n",
    "\n",
    "print(json.dumps(get_solution_metrics_response, indent=2))\n",
    "build_metric_matrix('hrnn_coldstart',get_solution_metrics_response)"
   ]
  },
  {
   "cell_type": "code",
   "execution_count": 23,
   "metadata": {},
   "outputs": [
    {
     "name": "stdout",
     "output_type": "stream",
     "text": [
      "{\n",
      "  \"solutionVersionArn\": \"arn:aws:personalize:ap-northeast-2:870180618679:solution/Demo-sims-81286/7604cc80\",\n",
      "  \"metrics\": {\n",
      "    \"coverage\": 0.7525,\n",
      "    \"mean_reciprocal_rank_at_25\": 0.17,\n",
      "    \"normalized_discounted_cumulative_gain_at_10\": 0.1808,\n",
      "    \"normalized_discounted_cumulative_gain_at_25\": 0.2448,\n",
      "    \"normalized_discounted_cumulative_gain_at_5\": 0.1441,\n",
      "    \"precision_at_10\": 0.0568,\n",
      "    \"precision_at_25\": 0.0431,\n",
      "    \"precision_at_5\": 0.0685\n",
      "  },\n",
      "  \"ResponseMetadata\": {\n",
      "    \"RequestId\": \"0403904e-be17-46f7-b8e3-180d04c2b623\",\n",
      "    \"HTTPStatusCode\": 200,\n",
      "    \"HTTPHeaders\": {\n",
      "      \"content-type\": \"application/x-amz-json-1.1\",\n",
      "      \"date\": \"Thu, 11 Jun 2020 07:10:11 GMT\",\n",
      "      \"x-amzn-requestid\": \"0403904e-be17-46f7-b8e3-180d04c2b623\",\n",
      "      \"content-length\": \"402\",\n",
      "      \"connection\": \"keep-alive\"\n",
      "    },\n",
      "    \"RetryAttempts\": 0\n",
      "  }\n",
      "}\n"
     ]
    }
   ],
   "source": [
    "get_solution_metrics_response = personalize.get_solution_metrics(\n",
    "    solutionVersionArn = sims_solution_version_arn\n",
    ")\n",
    "\n",
    "print(json.dumps(get_solution_metrics_response, indent=2))\n",
    "build_metric_matrix('sims',get_solution_metrics_response)"
   ]
  },
  {
   "cell_type": "code",
   "execution_count": 24,
   "metadata": {},
   "outputs": [
    {
     "name": "stdout",
     "output_type": "stream",
     "text": [
      "{\n",
      "  \"solutionVersionArn\": \"arn:aws:personalize:ap-northeast-2:870180618679:solution/Demo-ranking-81286/2181e109\",\n",
      "  \"metrics\": {\n",
      "    \"coverage\": 0.0136,\n",
      "    \"mean_reciprocal_rank_at_25\": 0.1005,\n",
      "    \"normalized_discounted_cumulative_gain_at_10\": 0.1231,\n",
      "    \"normalized_discounted_cumulative_gain_at_25\": 0.152,\n",
      "    \"normalized_discounted_cumulative_gain_at_5\": 0.0958,\n",
      "    \"precision_at_10\": 0.0267,\n",
      "    \"precision_at_25\": 0.0174,\n",
      "    \"precision_at_5\": 0.0315\n",
      "  },\n",
      "  \"ResponseMetadata\": {\n",
      "    \"RequestId\": \"9c64c879-0452-4f52-b19d-f5c98d5fd128\",\n",
      "    \"HTTPStatusCode\": 200,\n",
      "    \"HTTPHeaders\": {\n",
      "      \"content-type\": \"application/x-amz-json-1.1\",\n",
      "      \"date\": \"Thu, 11 Jun 2020 07:10:12 GMT\",\n",
      "      \"x-amzn-requestid\": \"9c64c879-0452-4f52-b19d-f5c98d5fd128\",\n",
      "      \"content-length\": \"406\",\n",
      "      \"connection\": \"keep-alive\"\n",
      "    },\n",
      "    \"RetryAttempts\": 0\n",
      "  }\n",
      "}\n"
     ]
    }
   ],
   "source": [
    "get_solution_metrics_response = personalize.get_solution_metrics(\n",
    "    solutionVersionArn = ranking_solution_version_arn \n",
    ")\n",
    "\n",
    "print(json.dumps(get_solution_metrics_response, indent=2))\n",
    "build_metric_matrix('ranking',get_solution_metrics_response)"
   ]
  },
  {
   "cell_type": "code",
   "execution_count": 25,
   "metadata": {},
   "outputs": [
    {
     "ename": "InvalidInputException",
     "evalue": "An error occurred (InvalidInputException) when calling the GetSolutionMetrics operation: The given solution must be in the ACTIVE state: arn:aws:personalize:ap-northeast-2:870180618679:solution/Demo-hrnn-hpo-81286/974e3012",
     "output_type": "error",
     "traceback": [
      "\u001b[0;31m---------------------------------------------------------------------------\u001b[0m",
      "\u001b[0;31mInvalidInputException\u001b[0m                     Traceback (most recent call last)",
      "\u001b[0;32m<ipython-input-25-77dcad9fdf04>\u001b[0m in \u001b[0;36m<module>\u001b[0;34m()\u001b[0m\n\u001b[1;32m      1\u001b[0m get_solution_metrics_response = personalize.get_solution_metrics(\n\u001b[0;32m----> 2\u001b[0;31m     \u001b[0msolutionVersionArn\u001b[0m \u001b[0;34m=\u001b[0m \u001b[0mhrnn_hpo_solution_version_arn\u001b[0m\u001b[0;34m\u001b[0m\u001b[0m\n\u001b[0m\u001b[1;32m      3\u001b[0m )\n\u001b[1;32m      4\u001b[0m \u001b[0;34m\u001b[0m\u001b[0m\n\u001b[1;32m      5\u001b[0m \u001b[0mprint\u001b[0m\u001b[0;34m(\u001b[0m\u001b[0mjson\u001b[0m\u001b[0;34m.\u001b[0m\u001b[0mdumps\u001b[0m\u001b[0;34m(\u001b[0m\u001b[0mget_solution_metrics_response\u001b[0m\u001b[0;34m,\u001b[0m \u001b[0mindent\u001b[0m\u001b[0;34m=\u001b[0m\u001b[0;36m2\u001b[0m\u001b[0;34m)\u001b[0m\u001b[0;34m)\u001b[0m\u001b[0;34m\u001b[0m\u001b[0m\n",
      "\u001b[0;32m~/anaconda3/envs/python3/lib/python3.6/site-packages/botocore/client.py\u001b[0m in \u001b[0;36m_api_call\u001b[0;34m(self, *args, **kwargs)\u001b[0m\n\u001b[1;32m    314\u001b[0m                     \"%s() only accepts keyword arguments.\" % py_operation_name)\n\u001b[1;32m    315\u001b[0m             \u001b[0;31m# The \"self\" in this scope is referring to the BaseClient.\u001b[0m\u001b[0;34m\u001b[0m\u001b[0;34m\u001b[0m\u001b[0m\n\u001b[0;32m--> 316\u001b[0;31m             \u001b[0;32mreturn\u001b[0m \u001b[0mself\u001b[0m\u001b[0;34m.\u001b[0m\u001b[0m_make_api_call\u001b[0m\u001b[0;34m(\u001b[0m\u001b[0moperation_name\u001b[0m\u001b[0;34m,\u001b[0m \u001b[0mkwargs\u001b[0m\u001b[0;34m)\u001b[0m\u001b[0;34m\u001b[0m\u001b[0m\n\u001b[0m\u001b[1;32m    317\u001b[0m \u001b[0;34m\u001b[0m\u001b[0m\n\u001b[1;32m    318\u001b[0m         \u001b[0m_api_call\u001b[0m\u001b[0;34m.\u001b[0m\u001b[0m__name__\u001b[0m \u001b[0;34m=\u001b[0m \u001b[0mstr\u001b[0m\u001b[0;34m(\u001b[0m\u001b[0mpy_operation_name\u001b[0m\u001b[0;34m)\u001b[0m\u001b[0;34m\u001b[0m\u001b[0m\n",
      "\u001b[0;32m~/anaconda3/envs/python3/lib/python3.6/site-packages/botocore/client.py\u001b[0m in \u001b[0;36m_make_api_call\u001b[0;34m(self, operation_name, api_params)\u001b[0m\n\u001b[1;32m    624\u001b[0m             \u001b[0merror_code\u001b[0m \u001b[0;34m=\u001b[0m \u001b[0mparsed_response\u001b[0m\u001b[0;34m.\u001b[0m\u001b[0mget\u001b[0m\u001b[0;34m(\u001b[0m\u001b[0;34m\"Error\"\u001b[0m\u001b[0;34m,\u001b[0m \u001b[0;34m{\u001b[0m\u001b[0;34m}\u001b[0m\u001b[0;34m)\u001b[0m\u001b[0;34m.\u001b[0m\u001b[0mget\u001b[0m\u001b[0;34m(\u001b[0m\u001b[0;34m\"Code\"\u001b[0m\u001b[0;34m)\u001b[0m\u001b[0;34m\u001b[0m\u001b[0m\n\u001b[1;32m    625\u001b[0m             \u001b[0merror_class\u001b[0m \u001b[0;34m=\u001b[0m \u001b[0mself\u001b[0m\u001b[0;34m.\u001b[0m\u001b[0mexceptions\u001b[0m\u001b[0;34m.\u001b[0m\u001b[0mfrom_code\u001b[0m\u001b[0;34m(\u001b[0m\u001b[0merror_code\u001b[0m\u001b[0;34m)\u001b[0m\u001b[0;34m\u001b[0m\u001b[0m\n\u001b[0;32m--> 626\u001b[0;31m             \u001b[0;32mraise\u001b[0m \u001b[0merror_class\u001b[0m\u001b[0;34m(\u001b[0m\u001b[0mparsed_response\u001b[0m\u001b[0;34m,\u001b[0m \u001b[0moperation_name\u001b[0m\u001b[0;34m)\u001b[0m\u001b[0;34m\u001b[0m\u001b[0m\n\u001b[0m\u001b[1;32m    627\u001b[0m         \u001b[0;32melse\u001b[0m\u001b[0;34m:\u001b[0m\u001b[0;34m\u001b[0m\u001b[0m\n\u001b[1;32m    628\u001b[0m             \u001b[0;32mreturn\u001b[0m \u001b[0mparsed_response\u001b[0m\u001b[0;34m\u001b[0m\u001b[0m\n",
      "\u001b[0;31mInvalidInputException\u001b[0m: An error occurred (InvalidInputException) when calling the GetSolutionMetrics operation: The given solution must be in the ACTIVE state: arn:aws:personalize:ap-northeast-2:870180618679:solution/Demo-hrnn-hpo-81286/974e3012"
     ]
    }
   ],
   "source": [
    "get_solution_metrics_response = personalize.get_solution_metrics(\n",
    "    solutionVersionArn = hrnn_hpo_solution_version_arn \n",
    ")\n",
    "\n",
    "print(json.dumps(get_solution_metrics_response, indent=2))\n",
    "build_metric_matrix('hrnn-hpo',get_solution_metrics_response)\n"
   ]
  },
  {
   "cell_type": "code",
   "execution_count": null,
   "metadata": {},
   "outputs": [],
   "source": [
    "metrics=pd.DataFrame(metrics,columns=['recipe','coverage','mrr@25','ndcg@5','ndcg@10','ndcg@25','p@5','p@10','p@25'])\n",
    "\n",
    "metrics"
   ]
  },
  {
   "cell_type": "markdown",
   "metadata": {},
   "source": [
    "## 리뷰\n",
    "\n",
    "이번 실습에서는 Amazon Personalize에서 제공하는 다양한 솔루션을 생성하고 Amazon Personalize에서 제공하는 솔루션 버전을 생성해 보았습니다.다음 LAB에서는 (`3.Deploying_Campaigns.ipynb`) 방금 생성한 솔루션을 서비스에 배포 하기 위해 Campaing을 배포해 보도록 합니다. \n"
   ]
  },
  {
   "cell_type": "code",
   "execution_count": null,
   "metadata": {},
   "outputs": [],
   "source": [
    "%store hrnn_solution_version_arn\n",
    "%store hrnn_solution_arn\n",
    "%store hrnn_coldstart_solution_version_arn\n",
    "%store hrnn_coldstart_solution_arn\n",
    "%store sims_solution_version_arn\n",
    "%store sims_solution_arn\n",
    "%store ranking_solution_version_arn\n",
    "%store ranking_solution_arn\n",
    "%store hrnn_hpo_solution_version_arn\n",
    "%store hrnn_hpo_solution_arn"
   ]
  },
  {
   "cell_type": "code",
   "execution_count": null,
   "metadata": {},
   "outputs": [],
   "source": []
  },
  {
   "cell_type": "code",
   "execution_count": null,
   "metadata": {},
   "outputs": [],
   "source": []
  }
 ],
 "metadata": {
  "kernelspec": {
   "display_name": "conda_python3",
   "language": "python",
   "name": "conda_python3"
  },
  "language_info": {
   "codemirror_mode": {
    "name": "ipython",
    "version": 3
   },
   "file_extension": ".py",
   "mimetype": "text/x-python",
   "name": "python",
   "nbconvert_exporter": "python",
   "pygments_lexer": "ipython3",
   "version": "3.6.5"
  }
 },
 "nbformat": 4,
 "nbformat_minor": 4
}
