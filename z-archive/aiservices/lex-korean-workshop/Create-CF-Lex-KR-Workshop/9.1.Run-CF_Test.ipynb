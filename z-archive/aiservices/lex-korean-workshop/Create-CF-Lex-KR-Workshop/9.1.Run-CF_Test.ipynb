{
 "cells": [
  {
   "cell_type": "markdown",
   "id": "3cabea07",
   "metadata": {},
   "source": [
    "# CF"
   ]
  },
  {
   "cell_type": "code",
   "execution_count": 152,
   "id": "fccf1154",
   "metadata": {},
   "outputs": [
    {
     "name": "stdout",
     "output_type": "stream",
     "text": [
      "{\n",
      "    \"StackId\": \"arn:aws:cloudformation:ap-northeast-2:189546603447:stack/test1/a2ba74c0-57d2-11ec-b4f8-0a0f6294dd7c\"\n",
      "}\n"
     ]
    }
   ],
   "source": [
    "! aws cloudformation create-stack \\\n",
    "  --stack-name test1 \\\n",
    "  --template-body file:///home/ec2-user/SageMaker/Lex-KR-Workshop/CF_BankingBot_v4.yaml  \\\n",
    "  --timeout-in-minutes 5 \\\n",
    "  --capabilities CAPABILITY_IAM    \n",
    "    \n",
    "#  --parameters ParameterKey=Parm1,ParameterValue=test1 ParameterKey=Parm2,ParameterValue=test2"
   ]
  },
  {
   "cell_type": "code",
   "execution_count": 157,
   "id": "515de04c",
   "metadata": {},
   "outputs": [
    {
     "name": "stdout",
     "output_type": "stream",
     "text": [
      "\n",
      "An error occurred (ValidationError) when calling the DescribeStacks operation: Stack with id test1 does not exist\n"
     ]
    }
   ],
   "source": [
    "! aws cloudformation describe-stacks \\\n",
    "  --stack-name test1 \\\n",
    "\n",
    "\n"
   ]
  },
  {
   "cell_type": "code",
   "execution_count": 155,
   "id": "323b899a",
   "metadata": {},
   "outputs": [],
   "source": [
    "! aws cloudformation delete-stack \\\n",
    "  --stack-name test1\\\n",
    "\n"
   ]
  },
  {
   "cell_type": "code",
   "execution_count": null,
   "id": "ebc76c43",
   "metadata": {},
   "outputs": [],
   "source": []
  }
 ],
 "metadata": {
  "kernelspec": {
   "display_name": "conda_python3",
   "language": "python",
   "name": "conda_python3"
  },
  "language_info": {
   "codemirror_mode": {
    "name": "ipython",
    "version": 3
   },
   "file_extension": ".py",
   "mimetype": "text/x-python",
   "name": "python",
   "nbconvert_exporter": "python",
   "pygments_lexer": "ipython3",
   "version": "3.6.13"
  }
 },
 "nbformat": 4,
 "nbformat_minor": 5
}
