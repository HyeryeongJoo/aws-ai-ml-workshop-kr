{
 "cells": [
  {
   "cell_type": "markdown",
   "id": "672e46e4",
   "metadata": {},
   "source": [
    "## PyTorch Neuron (torch-neuronx) Tracing API for Inference\n",
    "- https://awsdocs-neuron.readthedocs-hosted.com/en/latest/frameworks/torch/torch-neuronx/api-reference-guide/inference/api-torch-neuronx-trace.html?highlight=torch_neuronx#torch_neuronx.trace"
   ]
  },
  {
   "cell_type": "code",
   "execution_count": 1,
   "id": "3edba8d8",
   "metadata": {},
   "outputs": [
    {
     "name": "stdout",
     "output_type": "stream",
     "text": [
      "type of example_inputs: \n",
      " <class 'tuple'>\n",
      "example_inputs: \n",
      " (tensor([0.5112, 0.6984, 0.4634]), tensor([0.0254, 0.3582, 0.8700]))\n"
     ]
    },
    {
     "name": "stderr",
     "output_type": "stream",
     "text": [
      "03/07/2023 01:21:36 PM WARNING 96085 [py.warnings]: /home/ubuntu/aws_neuron_venv_pytorch/bin/neuronx-cc:8: DeprecationWarning: `np.bool` is a deprecated alias for the builtin `bool`. To silence this warning, use `bool` by itself. Doing this will not modify any behavior and is safe. If you specifically wanted the numpy scalar type, use `np.bool_` here.\n",
      "Deprecated in NumPy 1.20; for more details and guidance: https://numpy.org/devdocs/release/1.20.0-notes.html#deprecations\n",
      "  sys.exit(main())\n",
      "\n",
      "03/07/2023 01:21:38 PM WARNING 96085 [WalrusDriver]: 0% PSUM demand before spilling\n",
      "03/07/2023 01:21:38 PM WARNING 96085 [WalrusDriver]: spilling from PSUM cost about 0 cycles\n",
      "03/07/2023 01:21:38 PM WARNING 96085 [WalrusDriver]: 0% PSUM utilization after allocation\n",
      "03/07/2023 01:21:38 PM WARNING 96085 [WalrusDriver]: spilling from SB cost about 0 cycles\n",
      "03/07/2023 01:21:38 PM WARNING 96085 [WalrusDriver]: 0 bytes/partition (0%) successfully pinned\n",
      "03/07/2023 01:21:38 PM WARNING 96085 [WalrusDriver]: pinning saved approximately 0 cycles\n",
      "03/07/2023 01:21:38 PM WARNING 96085 [WalrusDriver]: 0% SB utilization after allocation\n",
      "03/07/2023 01:21:38 PM WARNING 96085 [WalrusDriver]: DRAM allocation successful\n"
     ]
    },
    {
     "data": {
      "text/plain": [
       "tensor([0.9044, 2.4038, 1.0988])"
      ]
     },
     "execution_count": 1,
     "metadata": {},
     "output_type": "execute_result"
    }
   ],
   "source": [
    "import torch\n",
    "import torch_neuronx\n",
    "\n",
    "def func(x, y):\n",
    "    return 2 * x + y\n",
    "\n",
    "example_inputs = torch.rand(3), torch.rand(3)\n",
    "print(\"type of example_inputs: \\n\", type(example_inputs))\n",
    "print(\"example_inputs: \\n\", example_inputs)\n",
    "# Runs `func` with the provided inputs and records the tensor operations\n",
    "# trace = torch.neuronx.trace(func, example_inputs)\n",
    "trace = torch_neuronx.trace(func, example_inputs)\n",
    "\n",
    "# `trace` can now be run with the TorchScript interpreter or saved\n",
    "# and loaded in a Python-free environment\n",
    "torch.jit.save(trace, 'func.pt')\n",
    "\n",
    "# Executes on a NeuronCore\n",
    "loaded = torch.jit.load('func.pt')\n",
    "loaded(torch.rand(3), torch.rand(3))"
   ]
  },
  {
   "cell_type": "code",
   "execution_count": 2,
   "id": "548f480c",
   "metadata": {},
   "outputs": [
    {
     "name": "stdout",
     "output_type": "stream",
     "text": [
      "type of example_inputs: \n",
      " <class 'torch.Tensor'>\n",
      "example_inputs: \n",
      " tensor([[[[0.3883, 0.1856, 0.2230],\n",
      "          [0.5398, 0.5480, 0.5848],\n",
      "          [0.1204, 0.8562, 0.4150]]]])\n"
     ]
    },
    {
     "name": "stderr",
     "output_type": "stream",
     "text": [
      "03/07/2023 01:21:42 PM WARNING 96125 [py.warnings]: /home/ubuntu/aws_neuron_venv_pytorch/bin/neuronx-cc:8: DeprecationWarning: `np.bool` is a deprecated alias for the builtin `bool`. To silence this warning, use `bool` by itself. Doing this will not modify any behavior and is safe. If you specifically wanted the numpy scalar type, use `np.bool_` here.\n",
      "Deprecated in NumPy 1.20; for more details and guidance: https://numpy.org/devdocs/release/1.20.0-notes.html#deprecations\n",
      "  sys.exit(main())\n",
      "\n",
      "03/07/2023 01:21:43 PM WARNING 96125 [LayoutBottleneck]: Connected component _convolution.21 has no matmult/reduce/batchnorm. Guessing layout. Considering putting on CPU.\n",
      "03/07/2023 01:21:44 PM WARNING 96125 [WalrusDriver]: 12% PSUM demand before spilling\n",
      "03/07/2023 01:21:44 PM WARNING 96125 [WalrusDriver]: spilling from PSUM cost about 0 cycles\n",
      "03/07/2023 01:21:44 PM WARNING 96125 [WalrusDriver]: 12% PSUM utilization after allocation\n",
      "03/07/2023 01:21:44 PM WARNING 96125 [WalrusDriver]: spilling from SB cost about 0 cycles\n",
      "03/07/2023 01:21:44 PM WARNING 96125 [WalrusDriver]: 0 bytes/partition (0%) successfully pinned\n",
      "03/07/2023 01:21:44 PM WARNING 96125 [WalrusDriver]: pinning saved approximately 0 cycles\n",
      "03/07/2023 01:21:44 PM WARNING 96125 [WalrusDriver]: 0% SB utilization after allocation\n",
      "03/07/2023 01:21:44 PM WARNING 96125 [WalrusDriver]: DRAM allocation successful\n"
     ]
    },
    {
     "data": {
      "text/plain": [
       "tensor([[[[0.8207]]]])"
      ]
     },
     "execution_count": 2,
     "metadata": {},
     "output_type": "execute_result"
    }
   ],
   "source": [
    "import torch\n",
    "import torch_neuronx\n",
    "import torch.nn as nn\n",
    "\n",
    "class Model(nn.Module):\n",
    "\n",
    "    def __init__(self):\n",
    "        super().__init__()\n",
    "        self.conv = nn.Conv2d(1, 1, 3)\n",
    "\n",
    "    def forward(self, x):\n",
    "        return self.conv(x) + 1\n",
    "\n",
    "model = Model()\n",
    "model.eval()\n",
    "\n",
    "example_inputs = torch.rand(1, 1, 3, 3)\n",
    "print(\"type of example_inputs: \\n\", type(example_inputs))\n",
    "print(\"example_inputs: \\n\", example_inputs)\n",
    "\n",
    "# Traces the forward method and constructs a `ScriptModule`\n",
    "trace = torch_neuronx.trace(model, example_inputs)\n",
    "torch.jit.save(trace, 'model.pt')\n",
    "\n",
    "# Executes on a NeuronCore\n",
    "loaded = torch.jit.load('model.pt')\n",
    "loaded(torch.rand(1, 1, 3, 3))"
   ]
  },
  {
   "cell_type": "code",
   "execution_count": 3,
   "id": "13a61eed",
   "metadata": {},
   "outputs": [
    {
     "name": "stdout",
     "output_type": "stream",
     "text": [
      "type of example_inputs: \n",
      " <class 'tuple'>\n",
      "len of example_inputs: \n",
      " 2\n",
      "example_inputs: \n",
      " (tensor([[ 1.1597, -0.2410, -0.8231],\n",
      "        [ 0.3012,  2.5923,  0.1275]]), tensor([[-0.1748, -1.6743, -0.8576],\n",
      "        [ 1.5608,  0.6385, -0.3045]]))\n"
     ]
    },
    {
     "name": "stderr",
     "output_type": "stream",
     "text": [
      "03/07/2023 01:21:45 PM WARNING 96153 [py.warnings]: /home/ubuntu/aws_neuron_venv_pytorch/bin/neuronx-cc:8: DeprecationWarning: `np.bool` is a deprecated alias for the builtin `bool`. To silence this warning, use `bool` by itself. Doing this will not modify any behavior and is safe. If you specifically wanted the numpy scalar type, use `np.bool_` here.\n",
      "Deprecated in NumPy 1.20; for more details and guidance: https://numpy.org/devdocs/release/1.20.0-notes.html#deprecations\n",
      "  sys.exit(main())\n",
      "\n",
      "03/07/2023 01:21:45 PM WARNING 96153 [LayoutBottleneck]: Connected component _concatenate.3 has no matmult/reduce/batchnorm. Guessing layout. Considering putting on CPU.\n",
      "03/07/2023 01:21:47 PM WARNING 96153 [WalrusDriver]: 0% PSUM demand before spilling\n",
      "03/07/2023 01:21:47 PM WARNING 96153 [WalrusDriver]: spilling from PSUM cost about 0 cycles\n",
      "03/07/2023 01:21:47 PM WARNING 96153 [WalrusDriver]: 0% PSUM utilization after allocation\n",
      "03/07/2023 01:21:47 PM WARNING 96153 [WalrusDriver]: spilling from SB cost about 0 cycles\n",
      "03/07/2023 01:21:47 PM WARNING 96153 [WalrusDriver]: 0 bytes/partition (0%) successfully pinned\n",
      "03/07/2023 01:21:47 PM WARNING 96153 [WalrusDriver]: pinning saved approximately 0 cycles\n",
      "03/07/2023 01:21:47 PM WARNING 96153 [WalrusDriver]: 0% SB utilization after allocation\n",
      "03/07/2023 01:21:47 PM WARNING 96153 [WalrusDriver]: DRAM allocation successful\n"
     ]
    },
    {
     "data": {
      "text/plain": [
       "tensor([[ 1.1597, -0.2410, -0.8231, -0.1748, -1.6743, -0.8576],\n",
       "        [ 0.3012,  2.5923,  0.1275,  1.5608,  0.6385, -0.3045]])"
      ]
     },
     "execution_count": 3,
     "metadata": {},
     "output_type": "execute_result"
    }
   ],
   "source": [
    "import torch\n",
    "import torch_neuronx\n",
    "import torch.nn as nn\n",
    "\n",
    "class Model(nn.Module):\n",
    "\n",
    "    def __init__(self):\n",
    "        super().__init__()\n",
    "        # self.conv = nn.Conv2d(1, 1, 3)\n",
    "\n",
    "    def forward(self, x1, x2):\n",
    "        return torch.cat((x1,x2),1)\n",
    "\n",
    "model = Model()\n",
    "model.eval()\n",
    "\n",
    "example_inputs = torch.randn(2, 3) , torch.randn(2, 3)\n",
    "print(\"type of example_inputs: \\n\", type(example_inputs))\n",
    "print(\"len of example_inputs: \\n\", len(example_inputs))\n",
    "print(\"example_inputs: \\n\", example_inputs)\n",
    "\n",
    "# Traces the forward method and constructs a `ScriptModule`\n",
    "trace = torch_neuronx.trace(model, example_inputs)\n",
    "torch.jit.save(trace, 'model.pt')\n",
    "\n",
    "# Executes on a NeuronCore\n",
    "loaded = torch.jit.load('model.pt')\n",
    "# loaded(example_inputs)\n",
    "loaded(example_inputs[0],example_inputs[1] )"
   ]
  },
  {
   "cell_type": "code",
   "execution_count": 4,
   "id": "0e1e564b",
   "metadata": {},
   "outputs": [
    {
     "name": "stderr",
     "output_type": "stream",
     "text": [
      "03/07/2023 01:21:47 PM WARNING 96259 [py.warnings]: /home/ubuntu/aws_neuron_venv_pytorch/bin/neuronx-cc:8: DeprecationWarning: `np.bool` is a deprecated alias for the builtin `bool`. To silence this warning, use `bool` by itself. Doing this will not modify any behavior and is safe. If you specifically wanted the numpy scalar type, use `np.bool_` here.\n",
      "Deprecated in NumPy 1.20; for more details and guidance: https://numpy.org/devdocs/release/1.20.0-notes.html#deprecations\n",
      "  sys.exit(main())\n",
      "\n",
      "03/07/2023 01:21:47 PM WARNING 96259 [LayoutBottleneck]: Connected component _convolution.21 has no matmult/reduce/batchnorm. Guessing layout. Considering putting on CPU.\n",
      "03/07/2023 01:21:49 PM WARNING 96259 [WalrusDriver]: 12% PSUM demand before spilling\n",
      "03/07/2023 01:21:49 PM WARNING 96259 [WalrusDriver]: spilling from PSUM cost about 0 cycles\n",
      "03/07/2023 01:21:49 PM WARNING 96259 [WalrusDriver]: 12% PSUM utilization after allocation\n",
      "03/07/2023 01:21:49 PM WARNING 96259 [WalrusDriver]: spilling from SB cost about 0 cycles\n",
      "03/07/2023 01:21:49 PM WARNING 96259 [WalrusDriver]: 0 bytes/partition (0%) successfully pinned\n",
      "03/07/2023 01:21:49 PM WARNING 96259 [WalrusDriver]: pinning saved approximately 0 cycles\n",
      "03/07/2023 01:21:49 PM WARNING 96259 [WalrusDriver]: 0% SB utilization after allocation\n",
      "03/07/2023 01:21:49 PM WARNING 96259 [WalrusDriver]: DRAM allocation successful\n"
     ]
    }
   ],
   "source": [
    "import torch\n",
    "import torch_neuronx\n",
    "import torch.nn as nn\n",
    "\n",
    "class Net(nn.Module):\n",
    "    def __init__(self):\n",
    "        super(Net, self).__init__()\n",
    "        self.conv = nn.Conv2d(1, 1, 3)\n",
    "\n",
    "    def forward(self, x):\n",
    "        return self.conv(x) + 1\n",
    "\n",
    "n = Net()\n",
    "n.eval()\n",
    "\n",
    "inputs = torch.rand(1, 1, 3, 3)\n",
    "inputs_batch_8 = torch.rand(8, 1, 3, 3)\n",
    "\n",
    "# Trace a neural network with input batch size of 1\n",
    "neuron_net = torch_neuronx.trace(n, inputs)\n",
    "\n",
    "# Enable the dynamic batch size feature so the traced network\n",
    "# can consume variable sized batch inputs\n",
    "neuron_net_dynamic_batch = torch_neuronx.dynamic_batch(neuron_net)\n",
    "\n",
    "# Run inference on inputs with batch size of 8\n",
    "# different than the batch size used in compilation (tracing)\n",
    "ouput_batch_8 = neuron_net_dynamic_batch(inputs_batch_8)"
   ]
  },
  {
   "cell_type": "code",
   "execution_count": null,
   "id": "9fa54bf3",
   "metadata": {},
   "outputs": [],
   "source": []
  }
 ],
 "metadata": {
  "kernelspec": {
   "display_name": "Python (torch-neuronx)",
   "language": "python",
   "name": "aws_neuron_venv_pytorch"
  },
  "language_info": {
   "codemirror_mode": {
    "name": "ipython",
    "version": 3
   },
   "file_extension": ".py",
   "mimetype": "text/x-python",
   "name": "python",
   "nbconvert_exporter": "python",
   "pygments_lexer": "ipython3",
   "version": "3.8.10"
  }
 },
 "nbformat": 4,
 "nbformat_minor": 5
}
