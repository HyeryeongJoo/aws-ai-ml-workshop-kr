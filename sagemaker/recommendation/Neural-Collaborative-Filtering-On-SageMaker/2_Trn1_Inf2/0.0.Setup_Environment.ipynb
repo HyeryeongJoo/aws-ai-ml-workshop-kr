{
 "cells": [
  {
   "cell_type": "markdown",
   "id": "de72adc7",
   "metadata": {},
   "source": [
    "# Setup install python packages\n",
    "- Set Kernel to Python(torch-neuronx)"
   ]
  },
  {
   "cell_type": "code",
   "execution_count": 2,
   "id": "64149d10",
   "metadata": {},
   "outputs": [],
   "source": [
    "! pip install -q pandas==1.2.0\n",
    "! pip install -q numpy==1.20.0\n"
   ]
  },
  {
   "cell_type": "markdown",
   "id": "59888faa",
   "metadata": {},
   "source": [
    "위에 패키지 버전이 아래 정확한지 확인해주세요"
   ]
  },
  {
   "cell_type": "code",
   "execution_count": 3,
   "id": "06cf2001",
   "metadata": {},
   "outputs": [
    {
     "name": "stdout",
     "output_type": "stream",
     "text": [
      "pandas                        1.2.0\n",
      "numpy                         1.20.0\n"
     ]
    }
   ],
   "source": [
    "! pip list | grep pandas\n",
    "! pip list | grep numpy"
   ]
  },
  {
   "cell_type": "code",
   "execution_count": null,
   "id": "d320800e",
   "metadata": {},
   "outputs": [],
   "source": []
  }
 ],
 "metadata": {
  "kernelspec": {
   "display_name": "Python (torch-neuronx)",
   "language": "python",
   "name": "aws_neuron_venv_pytorch"
  },
  "language_info": {
   "codemirror_mode": {
    "name": "ipython",
    "version": 3
   },
   "file_extension": ".py",
   "mimetype": "text/x-python",
   "name": "python",
   "nbconvert_exporter": "python",
   "pygments_lexer": "ipython3",
   "version": "3.8.10"
  }
 },
 "nbformat": 4,
 "nbformat_minor": 5
}
