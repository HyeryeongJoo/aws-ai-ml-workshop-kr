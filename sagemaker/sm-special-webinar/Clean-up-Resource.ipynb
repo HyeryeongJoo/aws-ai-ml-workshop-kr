{
 "cells": [
  {
   "cell_type": "markdown",
   "id": "38df3bcd",
   "metadata": {},
   "source": [
    "# Clean-up Resource"
   ]
  },
  {
   "cell_type": "markdown",
   "id": "b729e1bc",
   "metadata": {},
   "source": [
    "# 1. lab_01_training"
   ]
  },
  {
   "cell_type": "markdown",
   "id": "da06f60b",
   "metadata": {},
   "source": [
    "### SageMaker Experiments"
   ]
  },
  {
   "cell_type": "code",
   "execution_count": 7,
   "id": "9122ba88",
   "metadata": {},
   "outputs": [],
   "source": [
    "import time\n",
    "\n",
    "from smexperiments.experiment import Experiment\n",
    "from smexperiments.trial import Trial\n",
    "from smexperiments.trial_component import TrialComponent"
   ]
  },
  {
   "cell_type": "code",
   "execution_count": 8,
   "id": "49a80c38",
   "metadata": {},
   "outputs": [],
   "source": [
    "experiment_name='xgboost-poc-1'  #<== 생성한 experiment_name을 넣어야 합니다."
   ]
  },
  {
   "cell_type": "code",
   "execution_count": 9,
   "id": "1d579608",
   "metadata": {},
   "outputs": [],
   "source": [
    "def cleanup_sme_sdk(experiment):\n",
    "    for trial_summary in experiment.list_trials():\n",
    "        trial = Trial.load(trial_name=trial_summary.trial_name)\n",
    "        for trial_component_summary in trial.list_trial_components():\n",
    "            tc = TrialComponent.load(\n",
    "                trial_component_name=trial_component_summary.trial_component_name)\n",
    "            trial.remove_trial_component(tc)\n",
    "            try:\n",
    "                # comment out to keep trial components\n",
    "                tc.delete()\n",
    "            except:\n",
    "                # tc is associated with another trial\n",
    "                continue\n",
    "            # to prevent throttling\n",
    "            time.sleep(.5)\n",
    "        trial.delete()\n",
    "        experiment_name = experiment.experiment_name\n",
    "    experiment.delete()\n",
    "    print(f\"\\nExperiment {experiment_name} deleted\")"
   ]
  },
  {
   "cell_type": "code",
   "execution_count": 10,
   "id": "3e2c5e3b",
   "metadata": {},
   "outputs": [
    {
     "name": "stdout",
     "output_type": "stream",
     "text": [
      "\n",
      "Experiment xgboost-poc-1 deleted\n"
     ]
    }
   ],
   "source": [
    "experiment_to_cleanup = Experiment.load(\n",
    "    # Use experiment name not display name\n",
    "    experiment_name=experiment_name)\n",
    "\n",
    "cleanup_sme_sdk(experiment_to_cleanup)"
   ]
  },
  {
   "cell_type": "markdown",
   "id": "5945bd40",
   "metadata": {},
   "source": [
    "## S3 버킷 삭제"
   ]
  },
  {
   "cell_type": "code",
   "execution_count": 11,
   "id": "8914bc8b",
   "metadata": {},
   "outputs": [],
   "source": [
    "import sagemaker"
   ]
  },
  {
   "cell_type": "code",
   "execution_count": 12,
   "id": "7da24fc9",
   "metadata": {},
   "outputs": [],
   "source": [
    "sagemaker_session = sagemaker.session.Session()"
   ]
  },
  {
   "cell_type": "code",
   "execution_count": 13,
   "id": "d5cd5947",
   "metadata": {},
   "outputs": [
    {
     "data": {
      "text/plain": [
       "'sagemaker-us-east-1-051065130547'"
      ]
     },
     "execution_count": 13,
     "metadata": {},
     "output_type": "execute_result"
    }
   ],
   "source": [
    "bucket = sagemaker_session.default_bucket()\n",
    "bucket"
   ]
  },
  {
   "cell_type": "code",
   "execution_count": 14,
   "id": "7233c0da",
   "metadata": {},
   "outputs": [
    {
     "name": "stdout",
     "output_type": "stream",
     "text": [
      "delete: s3://sagemaker-us-east-1-051065130547/xgboost\n"
     ]
    }
   ],
   "source": [
    "!aws s3 rm s3://$bucket/xgboost"
   ]
  },
  {
   "cell_type": "markdown",
   "id": "e868abc6",
   "metadata": {},
   "source": [
    "# 2. lab_03_pipeline "
   ]
  },
  {
   "cell_type": "markdown",
   "id": "d4a3d21e",
   "metadata": {},
   "source": [
    "## 2.1. 파이프라인 삭제\n"
   ]
  },
  {
   "cell_type": "markdown",
   "id": "9cb7239a",
   "metadata": {},
   "source": [
    "### 파이프라인 이름 검색\n",
    "- \"sagemaker-webinar\" 이름으로 시작되는 파이프라인 정보 검색"
   ]
  },
  {
   "cell_type": "code",
   "execution_count": null,
   "id": "5790f11d",
   "metadata": {},
   "outputs": [],
   "source": [
    "import boto3\n",
    "\n",
    "client = boto3.client('sagemaker')\n",
    "\n",
    "response = client.list_pipelines(\n",
    "    PipelineNamePrefix='sagemaker-webinar',\n",
    "    SortBy='Name',\n",
    "    SortOrder='Descending',\n",
    "    MaxResults=1\n",
    ")\n",
    "\n",
    "response"
   ]
  },
  {
   "cell_type": "markdown",
   "id": "c1014f78",
   "metadata": {},
   "source": [
    "### 'sagemaker-webinar-pipeline-base' 파이프라인 삭제"
   ]
  },
  {
   "cell_type": "code",
   "execution_count": null,
   "id": "b4f1be35",
   "metadata": {},
   "outputs": [],
   "source": [
    "deleted_pipeline = 'sagemaker-webinar-pipeline-base'\n",
    "response = client.delete_pipeline(\n",
    "    PipelineName=deleted_pipeline,\n",
    ")\n",
    "response"
   ]
  },
  {
   "cell_type": "markdown",
   "id": "63d089e5",
   "metadata": {},
   "source": [
    "### 'sagemaker-webinar-pipeline-base' 파이프라인 관련된 버킷 내용 삭제"
   ]
  },
  {
   "cell_type": "code",
   "execution_count": null,
   "id": "6c84de38",
   "metadata": {},
   "outputs": [],
   "source": [
    "! aws s3 rm s3://{bucket}/{deleted_pipeline} --recursive"
   ]
  },
  {
   "cell_type": "markdown",
   "id": "2c64c96a",
   "metadata": {},
   "source": [
    "### 버킷의 첫번째 폴더 리스트\n",
    "- 아래와 같은 모둔 폴더를 확인하신 후에 필요한 폴더는 삭제 하세요."
   ]
  },
  {
   "cell_type": "code",
   "execution_count": 6,
   "id": "e424a0b4",
   "metadata": {},
   "outputs": [
    {
     "name": "stdout",
     "output_type": "stream",
     "text": [
      "                           PRE Fraud-Advance-Eval-955a33142036ab10f5b2dc96b96cd633/\n",
      "                           PRE Fraud-Advance-Evaluation-955a33142036ab10f5b2dc96b96cd633/\n",
      "                           PRE Fraud-Advance-Preprocess-9eb3e47661f2f1f3db35bb21017985f2/\n",
      "                           PRE Fraud-Basic-Preprocess-476f3bbbf986da0944ce9ca52d7c54b6/\n",
      "                           PRE Fraud-Basic-Process-476f3bbbf986da0944ce9ca52d7c54b6/\n",
      "                           PRE Fraud-Basic-Process-f65211cab06c0afa0f94d059ed66c9e6/\n",
      "                           PRE FraudScratchProcess-f65211cab06c0afa0f94d059ed66c9e6/\n",
      "                           PRE fraud2train/\n",
      "                           PRE sagemaker-pipeline-step-by-step/\n",
      "                           PRE sagemaker-webinar-pipeline-advanced/\n",
      "                           PRE sagemaker-xgboost-2022-03-21-12-18-21-232/\n",
      "                           PRE sagemaker-xgboost-2022-03-21-12-18-21-493/\n",
      "                           PRE sagemaker-xgboost-2022-03-21-12-26-39-683/\n",
      "                           PRE sagemaker-xgboost-2022-03-21-12-26-41-259/\n",
      "                           PRE sagemaker-xgboost-2022-03-21-12-41-40-939/\n",
      "                           PRE sagemaker-xgboost-2022-03-21-12-41-41-179/\n",
      "                           PRE sagemaker-xgboost-2022-03-21-12-41-41-479/\n",
      "                           PRE sagemaker-xgboost-2022-03-21-12-41-41-670/\n",
      "                           PRE xgboost-poc-1-m5-2xl-1-xgboost-d-0322-07191647933553/\n",
      "                           PRE xgboost/\n"
     ]
    }
   ],
   "source": [
    "! aws s3 ls {bucket}"
   ]
  },
  {
   "cell_type": "markdown",
   "id": "4bd4ef38",
   "metadata": {},
   "source": [
    "## 2.2 앤드포인트 삭제 확인\n",
    "- 아래와 같이 세이지 메이커 콘솔에 가서, 혹시 앤드포인트가 있나를 확인 하세요. 존재하면 아래 그림과 같이 삭제 하시기 바랍니다."
   ]
  },
  {
   "cell_type": "markdown",
   "id": "d0fb1197",
   "metadata": {},
   "source": [
    "![delete_endpoint.png](img/delete_endpoint.png)"
   ]
  },
  {
   "cell_type": "markdown",
   "id": "dca43139",
   "metadata": {},
   "source": [
    "# 4. SageMaker Classic Notebook 삭제"
   ]
  },
  {
   "cell_type": "markdown",
   "id": "29759733",
   "metadata": {},
   "source": [
    "![cf_console.png](img/cf_console.png)"
   ]
  },
  {
   "cell_type": "markdown",
   "id": "553657ac",
   "metadata": {},
   "source": [
    "![remove_stack.png](img/remove_stack.png)"
   ]
  },
  {
   "cell_type": "code",
   "execution_count": null,
   "id": "ea487e32",
   "metadata": {},
   "outputs": [],
   "source": []
  }
 ],
 "metadata": {
  "kernelspec": {
   "display_name": "conda_python3",
   "language": "python",
   "name": "conda_python3"
  },
  "language_info": {
   "codemirror_mode": {
    "name": "ipython",
    "version": 3
   },
   "file_extension": ".py",
   "mimetype": "text/x-python",
   "name": "python",
   "nbconvert_exporter": "python",
   "pygments_lexer": "ipython3",
   "version": "3.6.13"
  }
 },
 "nbformat": 4,
 "nbformat_minor": 5
}
