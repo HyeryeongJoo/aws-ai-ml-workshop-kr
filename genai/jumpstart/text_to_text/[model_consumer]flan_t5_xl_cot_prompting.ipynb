{
 "cells": [
  {
   "cell_type": "markdown",
   "id": "da51ef5c-c3b9-4524-8dd1-0cc1d1aabb33",
   "metadata": {},
   "source": [
    "# [model_consumer]flan_t5_xl_cot(chain-of-thought)_prompting\n",
    "\n",
    "이 노트북은 [model_consumer]flan_t5_xl_in_context_learning_ml_p3_2xl.ipynb을 먼저 실행하시기 바랍니다.\n",
    "References: \n",
    "- https://medium.com/nlplanet/two-minutes-nlp-making-large-language-models-reason-with-chain-of-thought-prompting-401fd3c964d0\n",
    "- https://arxiv.org/pdf/2201.11903.pdf"
   ]
  },
  {
   "cell_type": "code",
   "execution_count": 112,
   "id": "021eae70-425a-4b4e-a1c5-f9d6a0fb19b9",
   "metadata": {
    "tags": []
   },
   "outputs": [],
   "source": [
    "import sagemaker\n",
    "import boto3\n",
    "sess = sagemaker.Session()\n",
    "import json\n",
    "\n",
    "sm_client = boto3.client(\"sagemaker\")\n",
    "smr_client = boto3.client(\"sagemaker-runtime\")"
   ]
  },
  {
   "cell_type": "markdown",
   "id": "9b7fd112-745f-4fb0-ad6f-ed6366226c5b",
   "metadata": {},
   "source": [
    "[JumpStart pre-trained Models](https://sagemaker.readthedocs.io/en/stable/doc_utils/pretrainedmodels.html#)에서 SageMaker pre-trained models의 전체 목록을 확인할 수 있습니다."
   ]
  },
  {
   "cell_type": "code",
   "execution_count": 113,
   "id": "85606dba-ab79-4c03-b463-44d7d69758cf",
   "metadata": {
    "tags": []
   },
   "outputs": [
    {
     "name": "stdout",
     "output_type": "stream",
     "text": [
      "huggingface-text2text-flan-t5-xl-1686395213\n"
     ]
    }
   ],
   "source": [
    "%store -r\n",
    "print(endpoint_name)"
   ]
  },
  {
   "cell_type": "markdown",
   "id": "d603925c-5370-4978-8a29-8d4c5d5c3b1f",
   "metadata": {},
   "source": [
    "### Supported Parameters\n",
    "\n",
    "***\n",
    "이 모델은 추론을 수행하는 동안 많은 매개 변수를 지원합니다. 여기에는 다음이 포함됩니다:\n",
    "\n",
    "* **max_length:** 모델은 출력 길이(입력 컨텍스트 길이 포함)가 `max_length`에 도달할 때까지 텍스트를 생성합니다. 지정한 경우 양수여야 합니다.\n",
    "* **num_return_sequences:** 반환되는 출력 시퀀스의 수입니다. 지정하면 양수여야 합니다.\n",
    "* **num_beams:** greedy 탐색에 사용된 빔의 수입니다. 지정하는 경우 `num_return_sequences`보다 크거나 같은 정수여야 합니다.\n",
    "* **no_repeat_ngram_size:** 모델은 출력 시퀀스에서 `no_repeat_ngram_size`의 단어 시퀀스가 반복되지 않도록 보장합니다. 지정하는 경우 1보다 큰 양의 정수여야 합니다.\n",
    "* **temperature:** 출력의 randomness를 제어합니다. temperature가 높을수록 낮은 확률의 단어가 출력되고, temperature가 낮을수록 높은 확률의 단어가 출력됩니다. `temperature` -> 0이면 greedy 디코딩을 수행합니다. 지정하면 양수 실수여야 합니다.\n",
    "* **early_stopping:** True이면 모든 beam 가설이 문장 토큰의 끝에 도달할 때 텍스트 생성을 종료합니다. 지정하면 boolean이어야 합니다.\n",
    "* **do_sample:** True인 경우, 확률에 따라 다음 단어를 샘플링합니다. 지정하면 boolean이어야 합니다.\n",
    "* **top_k:** 텍스트 생성의 각 단계에서 가장 가능성이 높은 `top_k` 단어만 샘플링합니다. 지정하면 양수여야 합니다.\n",
    "* **top_p:** 텍스트 생성의 각 단계에서 누적 확률 `top_p`로 가능한 가장 작은 단어 집합에서 샘플링합니다. 지정한 경우 0과 1 사이의 실수여야 합니다.\n",
    "* **seed:** 재현성을 위해 무작위 상태를 고정합니다. 지정하면 정수여야 합니다.\n",
    "* **return_full_text:** True인 경우, 입력 텍스트가 출력 생성 텍스트의 일부가 됩니다. 지정하면 boolean이어야 합니다. 기본값은 False입니다.\n",
    "\n",
    "endpoint를 호출하는 동안 위에서 언급한 매개변수의 하위 집합을 지정할 수 있습니다. 다음은 이러한 인수를 사용하여 endpoint를 호출하는 방법의 예입니다.\n",
    "***"
   ]
  },
  {
   "cell_type": "code",
   "execution_count": 258,
   "id": "c52e4300-de89-4648-b358-caf1b2900a94",
   "metadata": {
    "tags": []
   },
   "outputs": [],
   "source": [
    "parameters = {\n",
    "    \"early_stopping\": True,\n",
    "    \"max_length\": 100,\n",
    "    \"num_return_sequences\": 3,\n",
    "    \"temperature\": .1,\n",
    "    \"num_beams\": 3,\n",
    "    \"top_k\": 0.7,\n",
    "    \"no_repeat_ngram_size\": 2,\n",
    "}\n",
    "# parameters = {}"
   ]
  },
  {
   "cell_type": "markdown",
   "id": "9c7ffb25-c448-40a7-bb40-0ea6429c484e",
   "metadata": {},
   "source": [
    "## Mathematical Reasoning \n",
    "### Zero-shot Prompting"
   ]
  },
  {
   "cell_type": "code",
   "execution_count": 259,
   "id": "8ff14937-e376-4d8a-807d-5d1f8bb2b433",
   "metadata": {
    "tags": []
   },
   "outputs": [],
   "source": [
    "context = \"\"\"\n",
    "QUESTION: Roger has 5 tennis balls. He buys 2 more cans of tennis balls. Each can have 3 tennis balls. How many tennis balls does he have now?\n",
    "ANSWER: The answer is 11.\n",
    "\"\"\"\n",
    "query = \"\"\"\n",
    "QUESTION: John takes care of 10 dogs. Each dog takes 0.5 hours a day to walk and take care of their business. How many hours a week does he spend taking care of dogs?\n",
    "ANSWER:\n",
    "\"\"\"\n",
    "\n",
    "## expected output:\n",
    "# # [{'generated_text': 'The answer is 7 hours a day because 10 x.5 = 7 hours. He spends 7 hours taking care of dogs a week because 7 x 7 = 56 hours.'}]"
   ]
  },
  {
   "cell_type": "code",
   "execution_count": 260,
   "id": "7a5ad3ce-f489-45a0-84b8-6d8aba0cb969",
   "metadata": {
    "tags": []
   },
   "outputs": [],
   "source": [
    "prompt = f'{context}\\n{query}'\n",
    "parameters['text_inputs'] = prompt\n",
    "payload = json.dumps(parameters).encode('utf-8')"
   ]
  },
  {
   "cell_type": "code",
   "execution_count": 261,
   "id": "c45f1b5b-4f8c-49e8-b359-46e28c9d6457",
   "metadata": {
    "tags": []
   },
   "outputs": [
    {
     "name": "stdout",
     "output_type": "stream",
     "text": [
      "Response: He spends 10 x 0.5 = 5 hours a day taking care of the dogs. So he takes 5 * 7 = 35 hours per week. The answer is 35.\n"
     ]
    }
   ],
   "source": [
    "response = smr_client.invoke_endpoint(EndpointName=endpoint_name, \n",
    "                                  ContentType=\"application/json\", \n",
    "                                  Body=payload)\n",
    "\n",
    "model_predictions = json.loads(response['Body'].read())\n",
    "generated_text = model_predictions['generated_texts'][0]\n",
    "print(f'Response: {generated_text}')"
   ]
  },
  {
   "cell_type": "markdown",
   "id": "a78c66d5-7e84-4770-b286-4cec6bc9bdcd",
   "metadata": {},
   "source": [
    "### With Chain of Thought Prompting"
   ]
  },
  {
   "cell_type": "code",
   "execution_count": 262,
   "id": "8d9101e6-95ae-4cd9-b0bf-247dabd13939",
   "metadata": {
    "tags": []
   },
   "outputs": [],
   "source": [
    "context = \"\"\"\n",
    "QUESTION: Roger has 5 tennis balls. He buys 2 more cans of tennis balls. Each can has 3 tennis balls. How many tennis balls does he have now?\n",
    "ANSWER: Roger started with 5 balls. 2 cans of 3 tennis balls each is 6 tennis balls. 5 + 6 = 11. The answer is 11.\n",
    "\"\"\"\n",
    "query = \"\"\"\n",
    "QUESTION: John takes care of 10 dogs. Each dog takes 0.5 hours a day to walk and take care of their business. How many hours a week does he spend taking care of dogs?\n",
    "ANSWER:\n",
    "\"\"\"\n",
    "\n",
    "# # [{'generated_text': '\"He spends 10 *.5 = 5 hours a day taking care of dogs. So he spends 5 * 7 = 35 hours / week taking care dogs. The answer is 35.\"'}]"
   ]
  },
  {
   "cell_type": "code",
   "execution_count": 263,
   "id": "7397fd20-c627-4966-a63b-f02430884644",
   "metadata": {
    "tags": []
   },
   "outputs": [],
   "source": [
    "prompt = f'{context}\\n{query}'\n",
    "parameters['text_inputs'] = prompt\n",
    "payload = json.dumps(parameters).encode('utf-8')"
   ]
  },
  {
   "cell_type": "code",
   "execution_count": 264,
   "id": "486ec9b0-3166-435d-857b-e3e020fb72a4",
   "metadata": {
    "tags": []
   },
   "outputs": [
    {
     "name": "stdout",
     "output_type": "stream",
     "text": [
      "Response: He spends 0.5 hours x 10 dogs = 1 hour a day taking care of the dogs. So he spend 1 * 7 = 7 hours per week. The answer is 7.\n"
     ]
    }
   ],
   "source": [
    "response = smr_client.invoke_endpoint(EndpointName=endpoint_name, \n",
    "                                  ContentType=\"application/json\", \n",
    "                                  Body=payload)\n",
    "\n",
    "model_predictions = json.loads(response['Body'].read())\n",
    "generated_text = model_predictions['generated_texts'][0]\n",
    "print(f'Response: {generated_text}')"
   ]
  },
  {
   "cell_type": "markdown",
   "id": "3c2a7a9a-560a-4e8c-af66-3dd60a3f26b4",
   "metadata": {},
   "source": [
    "## Advanced Mathematical Reasoning - with chain of thought prompting"
   ]
  },
  {
   "cell_type": "code",
   "execution_count": 265,
   "id": "73e3e4c6-d47c-412c-a60f-8109dd5509c0",
   "metadata": {
    "tags": []
   },
   "outputs": [],
   "source": [
    "context = \"\"\"\n",
    "QUESTION: Ducks need to eat 3.5 pounds of insects each week to survive. If there is a flock of ten ducks, how many pounds of insects do they need per day?\n",
    "ANSWER: Ducks need 3.5 pounds of insects each week. If there is a flock of 10 ducks, then they need 3.5 x 10 = 35 pounds of insects each week. If they need 35 pounds of insects each week, then they need 35 / 7 = 5 pounds of insects each day. The answer is 5. \n",
    "\n",
    "QUESTION: It takes Matthew 3 minutes to dig a small hole for shrubs and 10 minutes to dig a large hole for trees. How many hours will it take him to dig 30 small holes and 15 large holes?\n",
    "ANSWER: It takes Matthew 3 minutes to dig a small hole and 10 minutes to dig a large hole. So, it takes Matthew 3 x 30 = 90 minutes to dig 30 small holes. It takes Matthew 10 x 15 = 150 minutes to dig 15 large holes. So, it takes Matthew 90 + 150 = 240 minutes to dig 30 small holes and 15 large holes. 240 minutes is 4 hours. The answer is 4 hours. \n",
    "\"\"\"\n",
    "\n",
    "query = \"\"\"\n",
    "QUESTION: I have 10 liters of orange drink that are two-thirds water and I wish to add it to 15 liters of pineapple drink that is three-fifths water. But as I pour it, I spill one liter of the orange drink. How much water is in the remaining 24 liters?\n",
    "ANSWER:\n",
    "\"\"\"\n",
    "\n",
    "# # [{'generated_text': '\"The orange drink is 10 x 2 / 3 = 8 liters of water. The pineapple drink is 15 x 3 / 5 = 12 liter of water in it. The total water in the orange and pineapple drinks is 8\"'}]\n"
   ]
  },
  {
   "cell_type": "code",
   "execution_count": 266,
   "id": "b21bfe1f-d457-4d61-8c86-3a4202041c34",
   "metadata": {
    "tags": []
   },
   "outputs": [],
   "source": [
    "prompt = f'{context}\\n{query}'\n",
    "parameters['text_inputs'] = prompt\n",
    "payload = json.dumps(parameters).encode('utf-8')"
   ]
  },
  {
   "cell_type": "code",
   "execution_count": 267,
   "id": "055a2507-4a7d-4a95-8a63-23f089f3830c",
   "metadata": {
    "tags": []
   },
   "outputs": [
    {
     "name": "stdout",
     "output_type": "stream",
     "text": [
      "Response: I have 10 liters of orange drink that are two - thirds water, which is 2 / 3 * 10 = 4 litres. I wish to add it to 15 l of pineapple drink, a total of 10 + 15 = 25 ml. The total amount of water in the orange and pineapple drinks is 4 + 25 = 50 % water. So, there is 50 *.1 = 5 percent water left. Since I spilled\n"
     ]
    }
   ],
   "source": [
    "response = smr_client.invoke_endpoint(EndpointName=endpoint_name, \n",
    "                                  ContentType=\"application/json\", \n",
    "                                  Body=payload)\n",
    "\n",
    "model_predictions = json.loads(response['Body'].read())\n",
    "generated_text = model_predictions['generated_texts'][0]\n",
    "print(f'Response: {generated_text}')"
   ]
  },
  {
   "cell_type": "markdown",
   "id": "688bf575-84ba-41d5-b8fd-5087ba8460b8",
   "metadata": {},
   "source": [
    "As you can see in the above example for complex mathematical reasoning the models might not give you the right predicted output. \n",
    "The correnct answer is: \n",
    "\n",
    "\"The orange drink is 10liters, 1 liter was dropped, remaining drink has 9 * 2/3 = 6 liters of water. The pineapple drink is 15 x 3 / 5 = 9 liter of water in it. The total water in the orange and pineapple drinks is 15\""
   ]
  },
  {
   "cell_type": "markdown",
   "id": "4606545c-6a9d-46b6-865c-27132795575c",
   "metadata": {},
   "source": [
    "## Symbolic Reasoning\n",
    "For symbolic reasoning, consider the tasks of last letter concatenation, reverse list, and coin flip shown in the next image."
   ]
  },
  {
   "cell_type": "markdown",
   "id": "480b3ef3-f76d-4d51-a531-f565a390a8b3",
   "metadata": {},
   "source": [
    "### Zero shot prompting"
   ]
  },
  {
   "cell_type": "markdown",
   "id": "1be113e0-6240-43ae-b6af-ea25c5839944",
   "metadata": {},
   "source": [
    "### Last Letter Concatenation"
   ]
  },
  {
   "cell_type": "code",
   "execution_count": 268,
   "id": "e1d40e14-f4e2-42a3-97cd-04f574a84679",
   "metadata": {
    "tags": []
   },
   "outputs": [],
   "source": [
    "context = \"\"\n",
    "query = \"\"\"Take the last letters of the words in \"Elon Musk\" and con-catenate them.\"\"\"\n",
    "\n",
    "# # [{\"generated_text\":\"musk elon n\"}]\n"
   ]
  },
  {
   "cell_type": "code",
   "execution_count": 269,
   "id": "0c4caeac-f8fc-4050-b959-495ae1b3398c",
   "metadata": {
    "tags": []
   },
   "outputs": [],
   "source": [
    "prompt = f'{context}\\n{query}'\n",
    "parameters['text_inputs'] = prompt\n",
    "payload = json.dumps(parameters).encode('utf-8')"
   ]
  },
  {
   "cell_type": "code",
   "execution_count": 270,
   "id": "2c275d2d-7a50-480e-9a3e-c56581c8d5ff",
   "metadata": {
    "tags": []
   },
   "outputs": [
    {
     "name": "stdout",
     "output_type": "stream",
     "text": [
      "Response: elonmu\n"
     ]
    }
   ],
   "source": [
    "response = smr_client.invoke_endpoint(EndpointName=endpoint_name, \n",
    "                                  ContentType=\"application/json\", \n",
    "                                  Body=payload)\n",
    "\n",
    "model_predictions = json.loads(response['Body'].read())\n",
    "generated_text = model_predictions['generated_texts'][0]\n",
    "print(f'Response: {generated_text}')"
   ]
  },
  {
   "cell_type": "markdown",
   "id": "8646ff76-7ebe-4bed-bd5e-cdaa7e8d86c4",
   "metadata": {},
   "source": [
    "### With Chain of thought prompting"
   ]
  },
  {
   "cell_type": "code",
   "execution_count": 271,
   "id": "eb9b491b-a601-44c8-b29a-99d4815c1417",
   "metadata": {
    "tags": []
   },
   "outputs": [],
   "source": [
    "context = \"\"\"QUESTION: Take the last letters of the words in \"Elon Musk\" and con-catenate them.\n",
    "ANSWER: The last letter of \"Elon\" is \"n\". The last letter of \"Musk\" is \"k'. Concatenating them is \"nk\". So the answer is nk.\n",
    "\n",
    "QUESTION: Take the last letters of the words in \"Mani Khanuja\" and con-catenate them.\n",
    "ANSWER: The last letter of \"Mani\" is \"i\". The last letter of \"Khanuja\" is \"a\". Concatenating them is \"ia\". So the answer is ia. \n",
    "\"\"\"\n",
    "query = \"\"\"\n",
    "QUESTION: Take the last letters of the words in \"John Doe\" and con-catenate them.\n",
    "ANSWER:\n",
    "\"\"\"\n",
    "\n",
    "# #[{\"generated_text\":\"Doe. So the answer is Doe\"}]\n"
   ]
  },
  {
   "cell_type": "code",
   "execution_count": 272,
   "id": "2a8f8d52-be55-453e-8f1e-5773cf912612",
   "metadata": {
    "tags": []
   },
   "outputs": [],
   "source": [
    "prompt = f'{context}\\n{query}'\n",
    "parameters['text_inputs'] = prompt\n",
    "payload = json.dumps(parameters).encode('utf-8')"
   ]
  },
  {
   "cell_type": "code",
   "execution_count": 273,
   "id": "4179187b-1b08-4a8c-8b8e-838186368d51",
   "metadata": {
    "tags": []
   },
   "outputs": [
    {
     "name": "stdout",
     "output_type": "stream",
     "text": [
      "Response: JohnDoe\n"
     ]
    }
   ],
   "source": [
    "response = smr_client.invoke_endpoint(EndpointName=endpoint_name, \n",
    "                                  ContentType=\"application/json\", \n",
    "                                  Body=payload)\n",
    "\n",
    "model_predictions = json.loads(response['Body'].read())\n",
    "generated_text = model_predictions['generated_texts'][0]\n",
    "print(f'Response: {generated_text}')"
   ]
  },
  {
   "cell_type": "markdown",
   "id": "d9040836-3f01-4863-a366-7b9592565907",
   "metadata": {},
   "source": [
    "### Reverse List\n",
    "\n",
    "### Zero shot prompting"
   ]
  },
  {
   "cell_type": "code",
   "execution_count": 274,
   "id": "ed5cd80b-42bc-4f33-aeae-f546597eb6f6",
   "metadata": {
    "tags": []
   },
   "outputs": [],
   "source": [
    "payload = \"\"\"\n",
    "QUESTION: Reverse the sequence \"glasses, pen, alarm, license\".\n",
    "ANSWER: \n",
    "\"\"\"\n",
    "\n",
    "# # [{\"generated_text\":\"license, alarm, pen, glasses, reversed\"}]\n"
   ]
  },
  {
   "cell_type": "code",
   "execution_count": 275,
   "id": "55c6c6d5-fbbc-4bf1-b1bf-6d66649b1d88",
   "metadata": {
    "tags": []
   },
   "outputs": [],
   "source": [
    "parameters['text_inputs'] = payload\n",
    "payload = json.dumps(parameters).encode('utf-8')"
   ]
  },
  {
   "cell_type": "code",
   "execution_count": 276,
   "id": "e4cbde2d-31ca-422c-94b3-897b9e0b67d2",
   "metadata": {
    "tags": []
   },
   "outputs": [
    {
     "name": "stdout",
     "output_type": "stream",
     "text": [
      "Response: license, alarm, pen, glasses\n"
     ]
    }
   ],
   "source": [
    "response = smr_client.invoke_endpoint(EndpointName=endpoint_name, \n",
    "                                  ContentType=\"application/json\", \n",
    "                                  Body=payload)\n",
    "\n",
    "model_predictions = json.loads(response['Body'].read())\n",
    "generated_text = model_predictions['generated_texts'][0]\n",
    "print(f'Response: {generated_text}')"
   ]
  },
  {
   "cell_type": "markdown",
   "id": "88f2ab1b-7c41-4978-9655-7ca9dbc487c8",
   "metadata": {},
   "source": [
    "### With Chain of Thought prompting"
   ]
  },
  {
   "cell_type": "code",
   "execution_count": 277,
   "id": "b6ffac0a-ef37-4e40-a655-bf1e65a42676",
   "metadata": {
    "tags": []
   },
   "outputs": [],
   "source": [
    "payload = \"\"\"QUESTION: Reverse the sequence \"glasses, pen, alarm, license\".\n",
    "ANSWER: First is glasses. Second is pen. Third is alarm. Fourth is license. Now to reverse, change the order to: Fourth is license.\n",
    "Third is alarm. Second is pen. First is glasses. So the answer is\n",
    "\"license, alarm, pen, glasses\".\n",
    "\n",
    "QUESTION: Reverse the sequence \"telephone, clock, board, spectacles\".\n",
    "ANSWER: First is telephone. Second is clock. Third is board. Fourth is spectacles. Now to reverse, change the order to: Fourth is spectacles.\n",
    "Third is board. Second is clock. First is telephone. So the answer is\n",
    "\"spectacles, board, clock, telephone\".\n",
    "\n",
    "QUESTION: Reverse the sequence \"cup, plate, food, fruits\".\n",
    "ANSWER:\n",
    "\n",
    "\"\"\"\n",
    "\n",
    "# # [{\"generated_text\":\"fruits, food, plate, cup\\\\\" is correct.\"}]'\n"
   ]
  },
  {
   "cell_type": "code",
   "execution_count": 278,
   "id": "d7d2c9fe-23dd-4321-b504-3daad7ad5517",
   "metadata": {
    "tags": []
   },
   "outputs": [],
   "source": [
    "parameters['text_inputs'] = payload\n",
    "payload = json.dumps(parameters).encode('utf-8')"
   ]
  },
  {
   "cell_type": "code",
   "execution_count": 279,
   "id": "5d7f6c93-674d-48b7-a937-290fe6ce4b7d",
   "metadata": {
    "tags": []
   },
   "outputs": [
    {
     "name": "stdout",
     "output_type": "stream",
     "text": [
      "Response: fruits, food, plate, cup\n"
     ]
    }
   ],
   "source": [
    "response = smr_client.invoke_endpoint(EndpointName=endpoint_name, \n",
    "                                  ContentType=\"application/json\", \n",
    "                                  Body=payload)\n",
    "\n",
    "model_predictions = json.loads(response['Body'].read())\n",
    "generated_text = model_predictions['generated_texts'][0]\n",
    "print(f'Response: {generated_text}')"
   ]
  },
  {
   "cell_type": "markdown",
   "id": "fdbe8381-d5c6-4265-926c-33af9bf58fd2",
   "metadata": {},
   "source": [
    "### Coin Flip\n",
    "### Zero shot prompting"
   ]
  },
  {
   "cell_type": "code",
   "execution_count": 280,
   "id": "9d5c9664-659c-48a3-8bfa-9b3c2af29d98",
   "metadata": {
    "tags": []
   },
   "outputs": [],
   "source": [
    "payload = \"\"\"\n",
    "QUESTION:  A coin is heads up. John does not flip the coin. Shalonda does not flip the coin. Is the coin still heads up?\n",
    "ANSWER: \n",
    "\n",
    "\"\"\"\n",
    "\n",
    "## [{\"generated_text\":\"yes.... and it will remain heads up.\"}]"
   ]
  },
  {
   "cell_type": "code",
   "execution_count": 281,
   "id": "f4c98068-ff00-40c9-aa7e-8280bd54e86d",
   "metadata": {
    "tags": []
   },
   "outputs": [],
   "source": [
    "parameters['text_inputs'] = payload\n",
    "payload = json.dumps(parameters).encode('utf-8')"
   ]
  },
  {
   "cell_type": "code",
   "execution_count": 282,
   "id": "c94a0f94-0096-419b-86a5-29b7520642e3",
   "metadata": {
    "tags": []
   },
   "outputs": [
    {
     "name": "stdout",
     "output_type": "stream",
     "text": [
      "Response: yes\n"
     ]
    }
   ],
   "source": [
    "response = smr_client.invoke_endpoint(EndpointName=endpoint_name, \n",
    "                                  ContentType=\"application/json\", \n",
    "                                  Body=payload)\n",
    "\n",
    "model_predictions = json.loads(response['Body'].read())\n",
    "generated_text = model_predictions['generated_texts'][0]\n",
    "print(f'Response: {generated_text}')"
   ]
  },
  {
   "cell_type": "code",
   "execution_count": 283,
   "id": "1acdad74-8277-4c2d-b721-94d9e9af7f64",
   "metadata": {
    "tags": []
   },
   "outputs": [],
   "source": [
    "payload = \"\"\"\n",
    "Q: A coin is heads up. Maybelle flips the coin. Shalonda does not flip the coin. Is the coin still heads up?\n",
    "A: The coin was flipped by Maybelle. So the coin was flipped 1 time, which is an odd number. The coin started heads up, so after an odd number of flips, it will be tails up. So the answer\n",
    "is no.\n",
    "\n",
    "QUESTION:  A coin is heads up. John does not flip the coin. Shalonda does not flip the coin. Is the coin still heads up?\n",
    "ANSWER:\n",
    "\n",
    "\"\"\"\n",
    "\n",
    "## '[{\"generated_text\":\"The coin is still heads up because John and Shalonda did not flip the coin. So the answer is yes.\"}]'"
   ]
  },
  {
   "cell_type": "code",
   "execution_count": 284,
   "id": "2ad16ba1-95fa-4012-80ea-2f3bb245e937",
   "metadata": {
    "tags": []
   },
   "outputs": [],
   "source": [
    "parameters['text_inputs'] = payload\n",
    "payload = json.dumps(parameters).encode('utf-8')"
   ]
  },
  {
   "cell_type": "code",
   "execution_count": 285,
   "id": "084eab74-cd14-4c90-971a-0aa7a5dfdd59",
   "metadata": {
    "tags": []
   },
   "outputs": [
    {
     "name": "stdout",
     "output_type": "stream",
     "text": [
      "Response: Shalonda does not flip the coin. So the answer is yes.\n"
     ]
    }
   ],
   "source": [
    "response = smr_client.invoke_endpoint(EndpointName=endpoint_name, \n",
    "                                  ContentType=\"application/json\", \n",
    "                                  Body=payload)\n",
    "\n",
    "model_predictions = json.loads(response['Body'].read())\n",
    "generated_text = model_predictions['generated_texts'][0]\n",
    "print(f'Response: {generated_text}')"
   ]
  },
  {
   "cell_type": "code",
   "execution_count": null,
   "id": "f21584c6-7c7e-4072-b615-d94f506de997",
   "metadata": {},
   "outputs": [],
   "source": [
    "### Clean up the endpoint"
   ]
  },
  {
   "cell_type": "code",
   "execution_count": null,
   "id": "6fdf3963-a797-41c9-8591-38eb8281771d",
   "metadata": {},
   "outputs": [],
   "source": [
    "# Delete the SageMaker endpoint\n",
    "predictor.delete_model()\n",
    "predictor.delete_endpoint()"
   ]
  }
 ],
 "metadata": {
  "availableInstances": [
   {
    "_defaultOrder": 0,
    "_isFastLaunch": true,
    "category": "General purpose",
    "gpuNum": 0,
    "hideHardwareSpecs": false,
    "memoryGiB": 4,
    "name": "ml.t3.medium",
    "vcpuNum": 2
   },
   {
    "_defaultOrder": 1,
    "_isFastLaunch": false,
    "category": "General purpose",
    "gpuNum": 0,
    "hideHardwareSpecs": false,
    "memoryGiB": 8,
    "name": "ml.t3.large",
    "vcpuNum": 2
   },
   {
    "_defaultOrder": 2,
    "_isFastLaunch": false,
    "category": "General purpose",
    "gpuNum": 0,
    "hideHardwareSpecs": false,
    "memoryGiB": 16,
    "name": "ml.t3.xlarge",
    "vcpuNum": 4
   },
   {
    "_defaultOrder": 3,
    "_isFastLaunch": false,
    "category": "General purpose",
    "gpuNum": 0,
    "hideHardwareSpecs": false,
    "memoryGiB": 32,
    "name": "ml.t3.2xlarge",
    "vcpuNum": 8
   },
   {
    "_defaultOrder": 4,
    "_isFastLaunch": true,
    "category": "General purpose",
    "gpuNum": 0,
    "hideHardwareSpecs": false,
    "memoryGiB": 8,
    "name": "ml.m5.large",
    "vcpuNum": 2
   },
   {
    "_defaultOrder": 5,
    "_isFastLaunch": false,
    "category": "General purpose",
    "gpuNum": 0,
    "hideHardwareSpecs": false,
    "memoryGiB": 16,
    "name": "ml.m5.xlarge",
    "vcpuNum": 4
   },
   {
    "_defaultOrder": 6,
    "_isFastLaunch": false,
    "category": "General purpose",
    "gpuNum": 0,
    "hideHardwareSpecs": false,
    "memoryGiB": 32,
    "name": "ml.m5.2xlarge",
    "vcpuNum": 8
   },
   {
    "_defaultOrder": 7,
    "_isFastLaunch": false,
    "category": "General purpose",
    "gpuNum": 0,
    "hideHardwareSpecs": false,
    "memoryGiB": 64,
    "name": "ml.m5.4xlarge",
    "vcpuNum": 16
   },
   {
    "_defaultOrder": 8,
    "_isFastLaunch": false,
    "category": "General purpose",
    "gpuNum": 0,
    "hideHardwareSpecs": false,
    "memoryGiB": 128,
    "name": "ml.m5.8xlarge",
    "vcpuNum": 32
   },
   {
    "_defaultOrder": 9,
    "_isFastLaunch": false,
    "category": "General purpose",
    "gpuNum": 0,
    "hideHardwareSpecs": false,
    "memoryGiB": 192,
    "name": "ml.m5.12xlarge",
    "vcpuNum": 48
   },
   {
    "_defaultOrder": 10,
    "_isFastLaunch": false,
    "category": "General purpose",
    "gpuNum": 0,
    "hideHardwareSpecs": false,
    "memoryGiB": 256,
    "name": "ml.m5.16xlarge",
    "vcpuNum": 64
   },
   {
    "_defaultOrder": 11,
    "_isFastLaunch": false,
    "category": "General purpose",
    "gpuNum": 0,
    "hideHardwareSpecs": false,
    "memoryGiB": 384,
    "name": "ml.m5.24xlarge",
    "vcpuNum": 96
   },
   {
    "_defaultOrder": 12,
    "_isFastLaunch": false,
    "category": "General purpose",
    "gpuNum": 0,
    "hideHardwareSpecs": false,
    "memoryGiB": 8,
    "name": "ml.m5d.large",
    "vcpuNum": 2
   },
   {
    "_defaultOrder": 13,
    "_isFastLaunch": false,
    "category": "General purpose",
    "gpuNum": 0,
    "hideHardwareSpecs": false,
    "memoryGiB": 16,
    "name": "ml.m5d.xlarge",
    "vcpuNum": 4
   },
   {
    "_defaultOrder": 14,
    "_isFastLaunch": false,
    "category": "General purpose",
    "gpuNum": 0,
    "hideHardwareSpecs": false,
    "memoryGiB": 32,
    "name": "ml.m5d.2xlarge",
    "vcpuNum": 8
   },
   {
    "_defaultOrder": 15,
    "_isFastLaunch": false,
    "category": "General purpose",
    "gpuNum": 0,
    "hideHardwareSpecs": false,
    "memoryGiB": 64,
    "name": "ml.m5d.4xlarge",
    "vcpuNum": 16
   },
   {
    "_defaultOrder": 16,
    "_isFastLaunch": false,
    "category": "General purpose",
    "gpuNum": 0,
    "hideHardwareSpecs": false,
    "memoryGiB": 128,
    "name": "ml.m5d.8xlarge",
    "vcpuNum": 32
   },
   {
    "_defaultOrder": 17,
    "_isFastLaunch": false,
    "category": "General purpose",
    "gpuNum": 0,
    "hideHardwareSpecs": false,
    "memoryGiB": 192,
    "name": "ml.m5d.12xlarge",
    "vcpuNum": 48
   },
   {
    "_defaultOrder": 18,
    "_isFastLaunch": false,
    "category": "General purpose",
    "gpuNum": 0,
    "hideHardwareSpecs": false,
    "memoryGiB": 256,
    "name": "ml.m5d.16xlarge",
    "vcpuNum": 64
   },
   {
    "_defaultOrder": 19,
    "_isFastLaunch": false,
    "category": "General purpose",
    "gpuNum": 0,
    "hideHardwareSpecs": false,
    "memoryGiB": 384,
    "name": "ml.m5d.24xlarge",
    "vcpuNum": 96
   },
   {
    "_defaultOrder": 20,
    "_isFastLaunch": false,
    "category": "General purpose",
    "gpuNum": 0,
    "hideHardwareSpecs": true,
    "memoryGiB": 0,
    "name": "ml.geospatial.interactive",
    "supportedImageNames": [
     "sagemaker-geospatial-v1-0"
    ],
    "vcpuNum": 0
   },
   {
    "_defaultOrder": 21,
    "_isFastLaunch": true,
    "category": "Compute optimized",
    "gpuNum": 0,
    "hideHardwareSpecs": false,
    "memoryGiB": 4,
    "name": "ml.c5.large",
    "vcpuNum": 2
   },
   {
    "_defaultOrder": 22,
    "_isFastLaunch": false,
    "category": "Compute optimized",
    "gpuNum": 0,
    "hideHardwareSpecs": false,
    "memoryGiB": 8,
    "name": "ml.c5.xlarge",
    "vcpuNum": 4
   },
   {
    "_defaultOrder": 23,
    "_isFastLaunch": false,
    "category": "Compute optimized",
    "gpuNum": 0,
    "hideHardwareSpecs": false,
    "memoryGiB": 16,
    "name": "ml.c5.2xlarge",
    "vcpuNum": 8
   },
   {
    "_defaultOrder": 24,
    "_isFastLaunch": false,
    "category": "Compute optimized",
    "gpuNum": 0,
    "hideHardwareSpecs": false,
    "memoryGiB": 32,
    "name": "ml.c5.4xlarge",
    "vcpuNum": 16
   },
   {
    "_defaultOrder": 25,
    "_isFastLaunch": false,
    "category": "Compute optimized",
    "gpuNum": 0,
    "hideHardwareSpecs": false,
    "memoryGiB": 72,
    "name": "ml.c5.9xlarge",
    "vcpuNum": 36
   },
   {
    "_defaultOrder": 26,
    "_isFastLaunch": false,
    "category": "Compute optimized",
    "gpuNum": 0,
    "hideHardwareSpecs": false,
    "memoryGiB": 96,
    "name": "ml.c5.12xlarge",
    "vcpuNum": 48
   },
   {
    "_defaultOrder": 27,
    "_isFastLaunch": false,
    "category": "Compute optimized",
    "gpuNum": 0,
    "hideHardwareSpecs": false,
    "memoryGiB": 144,
    "name": "ml.c5.18xlarge",
    "vcpuNum": 72
   },
   {
    "_defaultOrder": 28,
    "_isFastLaunch": false,
    "category": "Compute optimized",
    "gpuNum": 0,
    "hideHardwareSpecs": false,
    "memoryGiB": 192,
    "name": "ml.c5.24xlarge",
    "vcpuNum": 96
   },
   {
    "_defaultOrder": 29,
    "_isFastLaunch": true,
    "category": "Accelerated computing",
    "gpuNum": 1,
    "hideHardwareSpecs": false,
    "memoryGiB": 16,
    "name": "ml.g4dn.xlarge",
    "vcpuNum": 4
   },
   {
    "_defaultOrder": 30,
    "_isFastLaunch": false,
    "category": "Accelerated computing",
    "gpuNum": 1,
    "hideHardwareSpecs": false,
    "memoryGiB": 32,
    "name": "ml.g4dn.2xlarge",
    "vcpuNum": 8
   },
   {
    "_defaultOrder": 31,
    "_isFastLaunch": false,
    "category": "Accelerated computing",
    "gpuNum": 1,
    "hideHardwareSpecs": false,
    "memoryGiB": 64,
    "name": "ml.g4dn.4xlarge",
    "vcpuNum": 16
   },
   {
    "_defaultOrder": 32,
    "_isFastLaunch": false,
    "category": "Accelerated computing",
    "gpuNum": 1,
    "hideHardwareSpecs": false,
    "memoryGiB": 128,
    "name": "ml.g4dn.8xlarge",
    "vcpuNum": 32
   },
   {
    "_defaultOrder": 33,
    "_isFastLaunch": false,
    "category": "Accelerated computing",
    "gpuNum": 4,
    "hideHardwareSpecs": false,
    "memoryGiB": 192,
    "name": "ml.g4dn.12xlarge",
    "vcpuNum": 48
   },
   {
    "_defaultOrder": 34,
    "_isFastLaunch": false,
    "category": "Accelerated computing",
    "gpuNum": 1,
    "hideHardwareSpecs": false,
    "memoryGiB": 256,
    "name": "ml.g4dn.16xlarge",
    "vcpuNum": 64
   },
   {
    "_defaultOrder": 35,
    "_isFastLaunch": false,
    "category": "Accelerated computing",
    "gpuNum": 1,
    "hideHardwareSpecs": false,
    "memoryGiB": 61,
    "name": "ml.p3.2xlarge",
    "vcpuNum": 8
   },
   {
    "_defaultOrder": 36,
    "_isFastLaunch": false,
    "category": "Accelerated computing",
    "gpuNum": 4,
    "hideHardwareSpecs": false,
    "memoryGiB": 244,
    "name": "ml.p3.8xlarge",
    "vcpuNum": 32
   },
   {
    "_defaultOrder": 37,
    "_isFastLaunch": false,
    "category": "Accelerated computing",
    "gpuNum": 8,
    "hideHardwareSpecs": false,
    "memoryGiB": 488,
    "name": "ml.p3.16xlarge",
    "vcpuNum": 64
   },
   {
    "_defaultOrder": 38,
    "_isFastLaunch": false,
    "category": "Accelerated computing",
    "gpuNum": 8,
    "hideHardwareSpecs": false,
    "memoryGiB": 768,
    "name": "ml.p3dn.24xlarge",
    "vcpuNum": 96
   },
   {
    "_defaultOrder": 39,
    "_isFastLaunch": false,
    "category": "Memory Optimized",
    "gpuNum": 0,
    "hideHardwareSpecs": false,
    "memoryGiB": 16,
    "name": "ml.r5.large",
    "vcpuNum": 2
   },
   {
    "_defaultOrder": 40,
    "_isFastLaunch": false,
    "category": "Memory Optimized",
    "gpuNum": 0,
    "hideHardwareSpecs": false,
    "memoryGiB": 32,
    "name": "ml.r5.xlarge",
    "vcpuNum": 4
   },
   {
    "_defaultOrder": 41,
    "_isFastLaunch": false,
    "category": "Memory Optimized",
    "gpuNum": 0,
    "hideHardwareSpecs": false,
    "memoryGiB": 64,
    "name": "ml.r5.2xlarge",
    "vcpuNum": 8
   },
   {
    "_defaultOrder": 42,
    "_isFastLaunch": false,
    "category": "Memory Optimized",
    "gpuNum": 0,
    "hideHardwareSpecs": false,
    "memoryGiB": 128,
    "name": "ml.r5.4xlarge",
    "vcpuNum": 16
   },
   {
    "_defaultOrder": 43,
    "_isFastLaunch": false,
    "category": "Memory Optimized",
    "gpuNum": 0,
    "hideHardwareSpecs": false,
    "memoryGiB": 256,
    "name": "ml.r5.8xlarge",
    "vcpuNum": 32
   },
   {
    "_defaultOrder": 44,
    "_isFastLaunch": false,
    "category": "Memory Optimized",
    "gpuNum": 0,
    "hideHardwareSpecs": false,
    "memoryGiB": 384,
    "name": "ml.r5.12xlarge",
    "vcpuNum": 48
   },
   {
    "_defaultOrder": 45,
    "_isFastLaunch": false,
    "category": "Memory Optimized",
    "gpuNum": 0,
    "hideHardwareSpecs": false,
    "memoryGiB": 512,
    "name": "ml.r5.16xlarge",
    "vcpuNum": 64
   },
   {
    "_defaultOrder": 46,
    "_isFastLaunch": false,
    "category": "Memory Optimized",
    "gpuNum": 0,
    "hideHardwareSpecs": false,
    "memoryGiB": 768,
    "name": "ml.r5.24xlarge",
    "vcpuNum": 96
   },
   {
    "_defaultOrder": 47,
    "_isFastLaunch": false,
    "category": "Accelerated computing",
    "gpuNum": 1,
    "hideHardwareSpecs": false,
    "memoryGiB": 16,
    "name": "ml.g5.xlarge",
    "vcpuNum": 4
   },
   {
    "_defaultOrder": 48,
    "_isFastLaunch": false,
    "category": "Accelerated computing",
    "gpuNum": 1,
    "hideHardwareSpecs": false,
    "memoryGiB": 32,
    "name": "ml.g5.2xlarge",
    "vcpuNum": 8
   },
   {
    "_defaultOrder": 49,
    "_isFastLaunch": false,
    "category": "Accelerated computing",
    "gpuNum": 1,
    "hideHardwareSpecs": false,
    "memoryGiB": 64,
    "name": "ml.g5.4xlarge",
    "vcpuNum": 16
   },
   {
    "_defaultOrder": 50,
    "_isFastLaunch": false,
    "category": "Accelerated computing",
    "gpuNum": 1,
    "hideHardwareSpecs": false,
    "memoryGiB": 128,
    "name": "ml.g5.8xlarge",
    "vcpuNum": 32
   },
   {
    "_defaultOrder": 51,
    "_isFastLaunch": false,
    "category": "Accelerated computing",
    "gpuNum": 1,
    "hideHardwareSpecs": false,
    "memoryGiB": 256,
    "name": "ml.g5.16xlarge",
    "vcpuNum": 64
   },
   {
    "_defaultOrder": 52,
    "_isFastLaunch": false,
    "category": "Accelerated computing",
    "gpuNum": 4,
    "hideHardwareSpecs": false,
    "memoryGiB": 192,
    "name": "ml.g5.12xlarge",
    "vcpuNum": 48
   },
   {
    "_defaultOrder": 53,
    "_isFastLaunch": false,
    "category": "Accelerated computing",
    "gpuNum": 4,
    "hideHardwareSpecs": false,
    "memoryGiB": 384,
    "name": "ml.g5.24xlarge",
    "vcpuNum": 96
   },
   {
    "_defaultOrder": 54,
    "_isFastLaunch": false,
    "category": "Accelerated computing",
    "gpuNum": 8,
    "hideHardwareSpecs": false,
    "memoryGiB": 768,
    "name": "ml.g5.48xlarge",
    "vcpuNum": 192
   },
   {
    "_defaultOrder": 55,
    "_isFastLaunch": false,
    "category": "Accelerated computing",
    "gpuNum": 8,
    "hideHardwareSpecs": false,
    "memoryGiB": 1152,
    "name": "ml.p4d.24xlarge",
    "vcpuNum": 96
   },
   {
    "_defaultOrder": 56,
    "_isFastLaunch": false,
    "category": "Accelerated computing",
    "gpuNum": 8,
    "hideHardwareSpecs": false,
    "memoryGiB": 1152,
    "name": "ml.p4de.24xlarge",
    "vcpuNum": 96
   }
  ],
  "instance_type": "ml.t3.medium",
  "kernelspec": {
   "display_name": "Python 3 (Data Science)",
   "language": "python",
   "name": "python3__SAGEMAKER_INTERNAL__arn:aws:sagemaker:us-west-2:236514542706:image/datascience-1.0"
  },
  "language_info": {
   "codemirror_mode": {
    "name": "ipython",
    "version": 3
   },
   "file_extension": ".py",
   "mimetype": "text/x-python",
   "name": "python",
   "nbconvert_exporter": "python",
   "pygments_lexer": "ipython3",
   "version": "3.7.10"
  }
 },
 "nbformat": 4,
 "nbformat_minor": 5
}
