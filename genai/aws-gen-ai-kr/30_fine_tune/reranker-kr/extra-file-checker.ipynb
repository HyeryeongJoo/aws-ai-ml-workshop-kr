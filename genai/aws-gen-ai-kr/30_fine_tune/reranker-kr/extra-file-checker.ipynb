{
 "cells": [
  {
   "cell_type": "markdown",
   "metadata": {},
   "source": [
    "# Task checker (translation)"
   ]
  },
  {
   "cell_type": "code",
   "execution_count": 1,
   "metadata": {
    "tags": []
   },
   "outputs": [],
   "source": [
    "file_index = [0, 83197, 166394, 249591, 332788, 415985]"
   ]
  },
  {
   "cell_type": "code",
   "execution_count": 2,
   "metadata": {
    "tags": []
   },
   "outputs": [
    {
     "name": "stdout",
     "output_type": "stream",
     "text": [
      "./dataset/translated/msmarco/msmarco-triplets-trans-0.jsonl: currently 83197/83197 lines\n",
      "./dataset/translated/msmarco/msmarco-triplets-trans-83197.jsonl: currently 83197/83197 lines\n",
      "./dataset/translated/msmarco/msmarco-triplets-trans-166394.jsonl: currently 83197/83197 lines\n",
      "./dataset/translated/msmarco/msmarco-triplets-trans-249591.jsonl: currently 83197/83197 lines\n",
      "./dataset/translated/msmarco/msmarco-triplets-trans-332788.jsonl: currently 83197/83197 lines\n",
      "./dataset/translated/msmarco/msmarco-triplets-trans-415985.jsonl: currently 83197/83197 lines\n"
     ]
    }
   ],
   "source": [
    "for idx in file_index:\n",
    "    cnt = 0\n",
    "    input_file = f'./dataset/translated/msmarco/msmarco-triplets-trans-{idx}.jsonl'\n",
    "    for idx, line in enumerate(open(input_file)): cnt += 1\n",
    "    print (f'{input_file}: currently {cnt}/83197 lines')\n"
   ]
  }
 ],
 "metadata": {
  "kernelspec": {
   "display_name": "conda_pytorch_p310",
   "language": "python",
   "name": "conda_pytorch_p310"
  },
  "language_info": {
   "codemirror_mode": {
    "name": "ipython",
    "version": 3
   },
   "file_extension": ".py",
   "mimetype": "text/x-python",
   "name": "python",
   "nbconvert_exporter": "python",
   "pygments_lexer": "ipython3",
   "version": "3.10.13"
  },
  "vscode": {
   "interpreter": {
    "hash": "e2257b1c3513dc4782645ad49f694a4b0012bebbbbc3534a56d350db8e4f89a2"
   }
  }
 },
 "nbformat": 4,
 "nbformat_minor": 4
}
