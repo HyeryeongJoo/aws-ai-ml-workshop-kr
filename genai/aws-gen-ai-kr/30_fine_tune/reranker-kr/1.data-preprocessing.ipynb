{
 "cells": [
  {
   "cell_type": "markdown",
   "metadata": {},
   "source": [
    "# Data-Preprocessing for Fine-tuning Korean ReRanker\n",
    " - **한국어 ReRanker 모델 파인튜닝 예시는 [FlagEmbedding](https://github.com/FlagOpen/FlagEmbedding/tree/master?tab=readme-ov-file)을 기반으로 합니다.**"
   ]
  },
  {
   "cell_type": "markdown",
   "metadata": {},
   "source": [
    "## AutoReload"
   ]
  },
  {
   "cell_type": "code",
   "execution_count": null,
   "metadata": {
    "tags": []
   },
   "outputs": [],
   "source": [
    "%load_ext autoreload\n",
    "%autoreload 2"
   ]
  },
  {
   "cell_type": "markdown",
   "metadata": {},
   "source": [
    "## 0. [Data format](https://github.com/FlagOpen/FlagEmbedding/tree/master/examples/finetune#data-format)\n",
    "- `{\"query\": str, \"pos\": List[str], \"neg\":List[str]}`\n",
    "    - `query` 및 `pos`는 **1개 이상의 문장이 필요**하며, `neg`는 복수개의 문장도 가능합니다."
   ]
  },
  {
   "cell_type": "markdown",
   "metadata": {},
   "source": [
    "## 1. Download dataset\n",
    "- [msmarco-triplets](https://github.com/microsoft/MSMARCO-Passage-Ranking)\n",
    "    - (Question, Answer, Negative)-Triplets from MS MARCO Passages dataset, 499,184 samples\n",
    "    - 해당 데이터 셋은 영문으로 구성되어 있습니다."
   ]
  },
  {
   "cell_type": "code",
   "execution_count": null,
   "metadata": {
    "tags": []
   },
   "outputs": [],
   "source": [
    "!wget -O ./dataset/msmarco/msmarco-triplets.jsonl.gz https://huggingface.co/datasets/sentence-transformers/embedding-training-data/resolve/main/msmarco-triplets.jsonl.gz \n",
    "!gunzip ./dataset/msmarco/msmarco-triplets.jsonl"
   ]
  },
  {
   "cell_type": "markdown",
   "metadata": {
    "tags": []
   },
   "source": [
    "## 2. [Hard negatives](https://github.com/FlagOpen/FlagEmbedding/tree/master/examples/finetune#hard-negatives) (optional)\n",
    "- Hard Negatives는 문장 임베딩의 품질을 개선하기 위해 널리 사용되는 방법입니다.\n",
    "- 다음 명령에 따라 Hard Negatives 생성 할 수 있습니다\n",
    "```\n",
    "!python ./src/preprocess/hn_mine.py \\\n",
    "    --model_name_or_path BAAI/bge-base-en-v1.5 \\\n",
    "    --input_file ./dataset/toy_finetune_data.jsonl \\\n",
    "    --output_file ./dataset/toy_finetune_data_minedHN.jsonl \\\n",
    "    --range_for_sampling 2-200 \\\n",
    "    --use_gpu_for_searching\n",
    "```\n",
    "\n",
    "- `input_file`: json data for finetuning. This script will retrieve top-k documents for each query, and random sample negatives from the top-k documents (not including the positive documents).\n",
    "- `output_file`: path to save JSON data with mined hard negatives for finetuning\n",
    "- `range_for_sampling`: where to sample negative. For example, 2-100 means sampling negative from top2-top200 documents. You can set larger value to reduce the difficulty of negatives (e.g., set it 60-300 to sample negatives from top50-300 passages)\n",
    "- `candidate_pool`: The pool to retrieval. The default value is None, and this script will retrieve from the combination of all neg in input_file. The format of this file is the same as pretrain data. If input a candidate_pool, this script will retrieve negatives from this file.\n",
    " - `use_gpu_for_searching`: whether use faiss-gpu to retrieve negatives."
   ]
  },
  {
   "cell_type": "code",
   "execution_count": null,
   "metadata": {},
   "outputs": [],
   "source": [
    "from FlagEmbedding import FlagModel"
   ]
  },
  {
   "cell_type": "code",
   "execution_count": null,
   "metadata": {
    "tags": []
   },
   "outputs": [],
   "source": [
    "!python ./src/preprocess/hn_mine.py \\\n",
    "    --model_name_or_path BAAI/bge-base-en-v1.5 \\\n",
    "    --input_file ./dataset/toy_finetune_data.jsonl \\\n",
    "    --output_file ./dataset/toy_finetune_data_minedHN.jsonl \\\n",
    "    --range_for_sampling 2-200 \\\n",
    "    #--use_gpu_for_searching"
   ]
  },
  {
   "cell_type": "markdown",
   "metadata": {},
   "source": [
    "## 3. Translatation (en -> ko)\n",
    " - Amazon Translate를 활용하여 영문을 국문으로 번역합니다.\n",
    " - **[주의] Amazon Translate를 사용할 경우 비용이 발생합니다!!**"
   ]
  },
  {
   "cell_type": "code",
   "execution_count": null,
   "metadata": {
    "tags": []
   },
   "outputs": [],
   "source": [
    "import json\n",
    "import time\n",
    "import boto3\n",
    "import datetime\n",
    "import threading\n",
    "from functools import partial\n",
    "from collections import OrderedDict\n",
    "from multiprocessing.pool import ThreadPool"
   ]
  },
  {
   "cell_type": "code",
   "execution_count": null,
   "metadata": {
    "tags": []
   },
   "outputs": [],
   "source": [
    "input_file = \"./dataset/msmarco/msmarco-triplets.jsonl\"\n",
    "out_file = \"./dataset/translated/msmarco/msmarco-triplets-trans\""
   ]
  },
  {
   "cell_type": "code",
   "execution_count": null,
   "metadata": {
    "tags": []
   },
   "outputs": [],
   "source": [
    "translate = boto3.client(\"translate\")\n",
    "def trans(text, target=\"ko\"):\n",
    "    try:\n",
    "        response=translate.translate_text(\n",
    "            Text=text,\n",
    "            SourceLanguageCode=\"Auto\",\n",
    "            TargetLanguageCode=target\n",
    "        )\n",
    "\n",
    "        text_translate = response[\"TranslatedText\"]\n",
    "\n",
    "    except Exception as e:\n",
    "        text_translate = \"err\"\n",
    "\n",
    "    return text_translate"
   ]
  },
  {
   "cell_type": "markdown",
   "metadata": {},
   "source": [
    "[TIP] 처리속도 향상을 위해 1/ `Multi-thread`, 2/ `Multi-processing with multi-thread` 두 가지 옵션을 제공합니다.\n",
    "- 둘 중 하나 선택하면 됩니다. (2번 방식이 더 빠릅니다)"
   ]
  },
  {
   "cell_type": "markdown",
   "metadata": {},
   "source": [
    "### 3.1 Multi-thread"
   ]
  },
  {
   "cell_type": "code",
   "execution_count": null,
   "metadata": {
    "tags": []
   },
   "outputs": [],
   "source": [
    "pool = ThreadPool(processes=10)\n",
    "write_freq = 10\n",
    "trans_data_chuck = []\n",
    "start = time.time()\n",
    "\n",
    "# error callback function\n",
    "def custom_error_callback(error):\n",
    "    print(f'Got error: {error}')\n",
    "\n",
    "for idx, line in enumerate(open(input_file)):\n",
    "\n",
    "    line = json.loads(line.strip())\n",
    "    query, pos, neg = line[\"query\"], line[\"pos\"], line[\"neg\"]\n",
    "\n",
    "    query_ko = trans(query)\n",
    "\n",
    "    task_pos = []\n",
    "    for pos_ in pos:\n",
    "        trans_pos= partial(trans, text=pos_)\n",
    "        task_pos.append(pool.apply_async(trans_pos, error_callback=custom_error_callback))\n",
    "\n",
    "    task_neg = []\n",
    "    for neg_ in neg:\n",
    "        trans_neg= partial(trans, text=neg_)\n",
    "        task_neg.append(pool.apply_async(trans_neg, error_callback=custom_error_callback))\n",
    "\n",
    "    pos_ko = [task.get() for task in task_pos if task.get() != \"err\"]\n",
    "    neg_ko = [task.get() for task in task_neg if task.get() != \"err\"]\n",
    "\n",
    "    trans_data = {}\n",
    "    trans_data[\"query\"], trans_data[\"pos\"], trans_data[\"neg\"] = query_ko, pos_ko, neg_ko\n",
    "\n",
    "    trans_data_chuck.append(trans_data)\n",
    "\n",
    "    if len(trans_data_chuck) == write_freq:\n",
    "        with open(f'{out_file}.jsonl', \"a+\", encoding=\"utf-8\") as f:\n",
    "            for trans_data in trans_data_chuck:\n",
    "                json.dump(trans_data, f, ensure_ascii=False) # ensure_ascii로 한글이 깨지지 않게 저장\n",
    "                f.write(\"\\n\") # json을 쓰는 것과 같지만, 여러 줄을 써주는 것이므로 \"\\n\"을 붙여준다.\n",
    "        trans_data_chuck = []\n",
    "\n",
    "    if idx % write_freq == 0:\n",
    "        elapsed = time.time() - start\n",
    "        elapsed = datetime.timedelta(seconds=elapsed)\n",
    "        print (f'{idx}/499184, Elapsed: {elapsed}')\n"
   ]
  },
  {
   "cell_type": "markdown",
   "metadata": {},
   "source": [
    "### 3.2 Multi-processing with multi-thread"
   ]
  },
  {
   "cell_type": "code",
   "execution_count": null,
   "metadata": {},
   "outputs": [],
   "source": [
    "from multiprocessing import Pool"
   ]
  },
  {
   "cell_type": "code",
   "execution_count": null,
   "metadata": {
    "tags": []
   },
   "outputs": [],
   "source": [
    "# error callback function\n",
    "def custom_error_callback(error):\n",
    "    print(f'Got error: {error}')\n",
    "    \n",
    "def tranlation(input_file, out_file, start_idx, end_idx, write_freq):\n",
    "\n",
    "    pool = ThreadPool(processes=7)\n",
    "    trans_data_chuck = []\n",
    "    start = time.time()\n",
    "\n",
    "    for idx, line in enumerate(open(input_file)):\n",
    "\n",
    "        if idx >= start_idx and idx < end_idx:\n",
    "\n",
    "            line = json.loads(line.strip())\n",
    "            query, pos, neg = line[\"query\"], line[\"pos\"], line[\"neg\"]\n",
    "\n",
    "            query_ko = trans(query)\n",
    "\n",
    "            task_pos = []\n",
    "            for pos_ in pos:\n",
    "                trans_pos= partial(trans, text=pos_)\n",
    "                task_pos.append(pool.apply_async(trans_pos,))\n",
    "\n",
    "            task_neg = []\n",
    "            for neg_ in neg:\n",
    "                trans_neg= partial(trans, text=neg_)\n",
    "                task_neg.append(pool.apply_async(trans_neg,))\n",
    "\n",
    "            pos_ko = [task.get() for task in task_pos if task.get() != \"err\"]\n",
    "            neg_ko = [task.get() for task in task_neg if task.get() != \"err\"]\n",
    "\n",
    "            trans_data = {}\n",
    "            trans_data[\"query\"], trans_data[\"pos\"], trans_data[\"neg\"] = query_ko, pos_ko, neg_ko\n",
    "\n",
    "            trans_data_chuck.append(trans_data)\n",
    "\n",
    "            if len(trans_data_chuck) == write_freq:\n",
    "                with open(f'{out_file}-{start_idx}.jsonl', \"a+\", encoding=\"utf-8\") as f:\n",
    "                    for trans_data in trans_data_chuck:\n",
    "                        json.dump(trans_data, f, ensure_ascii=False) # ensure_ascii로 한글이 깨지지 않게 저장\n",
    "                        f.write(\"\\n\") # json을 쓰는 것과 같지만, 여러 줄을 써주는 것이므로 \"\\n\"을 붙여준다.\n",
    "                trans_data_chuck = []\n",
    "\n",
    "            if (idx-start_idx) % write_freq == 0:\n",
    "                elapsed = time.time() - start\n",
    "                elapsed = datetime.timedelta(seconds=elapsed)\n",
    "                print (f'{idx-start_idx}/{end_idx-start_idx}, Elapsed: {elapsed}')\n",
    "\n",
    "        if idx >= end_idx:\n",
    "            with open(f'{out_file}-{start_idx}.jsonl', \"a+\", encoding=\"utf-8\") as f:\n",
    "                for trans_data in trans_data_chuck:\n",
    "                    json.dump(trans_data, f, ensure_ascii=False) # ensure_ascii로 한글이 깨지지 않게 저장\n",
    "                    f.write(\"\\n\") # json을 쓰는 것과 같지만, 여러 줄을 써주는 것이므로 \"\\n\"을 붙여준다.\n",
    "            break\n"
   ]
  },
  {
   "cell_type": "code",
   "execution_count": null,
   "metadata": {
    "tags": []
   },
   "outputs": [],
   "source": [
    "total_row = 499184\n",
    "worker_size = 6\n",
    "interval = int(total_row/worker_size)\n",
    "mp_pool = Pool(worker_size)\n",
    "\n",
    "for i in range(0, total_row, interval):\n",
    "    start_idx = i\n",
    "    end_idx = start_idx + interval\n",
    "    if end_idx > total_row:\n",
    "        end_idx = total_row\n",
    "\n",
    "    print (start_idx, end_idx)\n",
    "\n",
    "    trans_jobs= partial(\n",
    "        tranlation,\n",
    "        input_file=input_file,\n",
    "        out_file=out_file,\n",
    "        start_idx=start_idx,\n",
    "        end_idx=end_idx,\n",
    "        write_freq=50\n",
    "    )\n",
    "\n",
    "    mp_pool.apply_async(trans_jobs)\n",
    "    \n",
    "mp_pool.close()\n",
    "mp_pool.join()"
   ]
  },
  {
   "cell_type": "markdown",
   "metadata": {},
   "source": [
    "## 4. Check files\n",
    "Data format에 맞지 않는 샘플들은 제거합니다."
   ]
  },
  {
   "cell_type": "code",
   "execution_count": null,
   "metadata": {
    "tags": []
   },
   "outputs": [],
   "source": [
    "from glob import glob"
   ]
  },
  {
   "cell_type": "code",
   "execution_count": null,
   "metadata": {},
   "outputs": [],
   "source": [
    "dir_path = \"./dataset/translated/msmarco/\""
   ]
  },
  {
   "cell_type": "code",
   "execution_count": null,
   "metadata": {},
   "outputs": [],
   "source": [
    "total_cnt = 0\n",
    "for input_file in glob(os.path.join(dir_path, \"msmarco-triplets-trans-*.jsonl\")):\n",
    "    cnt = 0\n",
    "    for idx, line in enumerate(open(input_file)): cnt += 1\n",
    "    total_cnt += cnt\n",
    "    print (f'{input_file}: currently {cnt} lines')\n",
    "print (f'total: {total_cnt} lines')"
   ]
  },
  {
   "cell_type": "code",
   "execution_count": null,
   "metadata": {},
   "outputs": [],
   "source": [
    "for input_file in glob(os.path.join(dir_path, \"msmarco-triplets-trans-*.jsonl\")):\n",
    "    out_file = input_file.replace(\"msmarco-triplets-trans\", \"msmarco-triplets-trans-processed\")\n",
    "    \n",
    "    print (\"==========\")\n",
    "    print (f'input_file: {input_file}')\n",
    "    print (f'out_file: {out_file}')\n",
    "    \n",
    "    processed_data = []\n",
    "    for idx, line in enumerate(open(input_file)):\n",
    "        line = json.loads(line.strip())\n",
    "        query, pos, neg = line[\"query\"], line[\"pos\"], line[\"neg\"]\n",
    "\n",
    "        if len(query) > 0 and len(pos) > 0 and len(neg) > 0: processed_data.append(line)\n",
    "        else: print (f'Skip line {idx}: query: {len(query)}, pos: {len(pos)}, neg: {len(neg)}')\n",
    "\n",
    "    with open(out_file, \"w\", encoding=\"utf-8\") as f:\n",
    "        for data in processed_data:\n",
    "            json.dump(data, f, ensure_ascii=False) # ensure_ascii로 한글이 깨지지 않게 저장\n",
    "            f.write(\"\\n\") # json을 쓰는 것과 같지만, 여러 줄을 써주는 것이므로 \"\\n\"을 붙여준다.\n"
   ]
  },
  {
   "cell_type": "markdown",
   "metadata": {},
   "source": [
    "## 5. Merge"
   ]
  },
  {
   "cell_type": "markdown",
   "metadata": {},
   "source": [
    "### 5.1 Check each files"
   ]
  },
  {
   "cell_type": "code",
   "execution_count": null,
   "metadata": {},
   "outputs": [],
   "source": [
    "dir_path = \"./dataset/translated/msmarco/\"\n",
    "\n",
    "total_cnt = 0\n",
    "for input_file in glob(os.path.join(dir_path, \"msmarco-triplets-trans-processed-*.jsonl\")):\n",
    "    cnt = 0\n",
    "    for idx, line in enumerate(open(input_file)): cnt += 1\n",
    "    total_cnt += cnt\n",
    "    print (f'{input_file}: currently {cnt} lines')\n",
    "print (f'total: {total_cnt} lines')"
   ]
  },
  {
   "cell_type": "markdown",
   "metadata": {},
   "source": [
    "###  5.2 Merge them"
   ]
  },
  {
   "cell_type": "code",
   "execution_count": null,
   "metadata": {},
   "outputs": [],
   "source": [
    "src = os.path.join(dir_path, \"msmarco-triplets-trans-processed-*.jsonl\")\n",
    "dst = \"./dataset/translated/merged/msmarco-triplets-trans-processed-merged.jsonl\"\n",
    "!cat $src > $dst"
   ]
  },
  {
   "cell_type": "code",
   "execution_count": null,
   "metadata": {},
   "outputs": [],
   "source": [
    "cnt = 0\n",
    "for idx, line in enumerate(open(dst)): cnt += 1\n",
    "print (f'{dst}: {cnt} lines')"
   ]
  },
  {
   "cell_type": "markdown",
   "metadata": {},
   "source": [
    "## 6. Store data to S3"
   ]
  },
  {
   "cell_type": "code",
   "execution_count": null,
   "metadata": {},
   "outputs": [],
   "source": [
    "import sagemaker"
   ]
  },
  {
   "cell_type": "code",
   "execution_count": null,
   "metadata": {},
   "outputs": [],
   "source": [
    "bucket_name = sagemaker.Session().default_bucket()\n",
    "print (f'bucket_name: {bucket_name}')"
   ]
  },
  {
   "cell_type": "code",
   "execution_count": null,
   "metadata": {},
   "outputs": [],
   "source": [
    "s3_data_path = f\"s3://{bucket_name}/fine-tune-reranker-kr/dataset\"\n",
    "local_data_Path = os.path.join(os.getcwd(), \"dataset\", \"translated\", \"merged\")\n",
    "file_name = \"msmarco-triplets-trans-processed-merged.jsonl\"\n",
    "\n",
    "print (f's3_data_path: {s3_data_path}')\n",
    "print (f'local_data_Path: {local_data_Path}')\n",
    "print (f'file_name: {file_name}')"
   ]
  },
  {
   "cell_type": "code",
   "execution_count": null,
   "metadata": {},
   "outputs": [],
   "source": [
    "%%bash\n",
    "aws configure set default.s3.max_concurrent_requests 100\n",
    "aws configure set default.s3.max_queue_size 10000\n",
    "aws configure set default.s3.multipart_threshold 1GB\n",
    "aws configure set default.s3.multipart_chunksize 64MB"
   ]
  },
  {
   "cell_type": "code",
   "execution_count": null,
   "metadata": {},
   "outputs": [],
   "source": [
    "!aws s3 sync $local_data_Path $s3_data_path"
   ]
  },
  {
   "cell_type": "markdown",
   "metadata": {},
   "source": [
    "### Data back-up (optional)"
   ]
  },
  {
   "cell_type": "code",
   "execution_count": null,
   "metadata": {},
   "outputs": [],
   "source": [
    "s3_data_path = f\"s3://{bucket_name}/reranker-dataset-ko/\"\n",
    "local_data_Path = os.path.join(os.getcwd(), \"dataset\")"
   ]
  },
  {
   "cell_type": "code",
   "execution_count": null,
   "metadata": {},
   "outputs": [],
   "source": [
    "!aws s3 sync $local_data_Path $s3_data_path"
   ]
  }
 ],
 "metadata": {
  "kernelspec": {
   "display_name": "conda_python3",
   "language": "python",
   "name": "conda_python3"
  },
  "language_info": {
   "codemirror_mode": {
    "name": "ipython",
    "version": 3
   },
   "file_extension": ".py",
   "mimetype": "text/x-python",
   "name": "python",
   "nbconvert_exporter": "python",
   "pygments_lexer": "ipython3",
   "version": "3.10.13"
  },
  "vscode": {
   "interpreter": {
    "hash": "4b8e647a79df62bf31906a725b05de775d285962ac600487339d38c51a5c07b1"
   }
  }
 },
 "nbformat": 4,
 "nbformat_minor": 4
}
