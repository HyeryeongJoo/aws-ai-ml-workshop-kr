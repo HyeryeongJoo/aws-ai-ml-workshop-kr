{
 "cells": [
  {
   "cell_type": "markdown",
   "metadata": {},
   "source": [
    "# Setup for Fine-tuning Korean ReRanker using Amazon SageMaker\n",
    "- Container: conda_python3\n",
    "- We recommend python 3.10 or later.\n",
    "- version check: !python -V"
   ]
  },
  {
   "cell_type": "markdown",
   "metadata": {},
   "source": [
    "## 1. Install python SDK\n",
    "- **패키지 설치 후 notebook이 재시작 합니다**"
   ]
  },
  {
   "cell_type": "code",
   "execution_count": null,
   "metadata": {
    "tags": []
   },
   "outputs": [],
   "source": [
    "install_needed = True"
   ]
  },
  {
   "cell_type": "code",
   "execution_count": null,
   "metadata": {
    "tags": []
   },
   "outputs": [],
   "source": [
    "import sys\n",
    "import IPython\n",
    "\n",
    "if install_needed:\n",
    "    print(\"installing deps and restarting kernel\")\n",
    "    !sudo curl -L \"https://github.com/docker/compose/releases/download/v2.7.0/docker-compose-$(uname -s)-$(uname -m)\" -o /usr/local/bin/docker-compose\n",
    "    !sudo chmod +x /usr/local/bin/docker-compose\n",
    "    !{sys.executable} -m pip install -U pip\n",
    "    !{sys.executable} -m pip install -U awscli\n",
    "    !{sys.executable} -m pip install -U botocore\n",
    "    !{sys.executable} -m pip install -U boto3\n",
    "    !{sys.executable} -m pip install -U sagemaker \n",
    "    !{sys.executable} -m pip install -U termcolor\n",
    "    !{sys.executable} -m pip install -U transformers\n",
    "    !{sys.executable} -m pip install -U datasets\n",
    "    !{sys.executable} -m pip install -U sentencepiece\n",
    "    !{sys.executable} -m pip install -U FlagEmbedding\n",
    "\n",
    "    IPython.Application.instance().kernel.do_shutdown(True)"
   ]
  },
  {
   "cell_type": "markdown",
   "metadata": {},
   "source": [
    "## 2. Building serving image\n",
    "- Fine-tuned reranker 모델 서빙은 AWS의 `HuggingFace Inference Containers` 를 사용합니다. \n",
    "    - Native Deep Learning Conatiner (DLC)의 정보는 [link](https://github.com/aws/deep-learning-containers/blob/master/available_images.md)를 통해 확인하세요.\n",
    "- 원할한 서빙을 위해서는 `transformer >= 4.36.2` 가 필요합니다. (transformer ver.: 4.28.1 in native container)\n",
    "- 때문에 해당 예제에서는 custom container image를 이용하여 serving 하도록 합니다. \n",
    "- **[중요] ECR 사용을 위해서는 `AmazonEC2ContainerRegistryFullAccess` 권한이 필요합니다**"
   ]
  },
  {
   "cell_type": "code",
   "execution_count": null,
   "metadata": {
    "tags": []
   },
   "outputs": [],
   "source": [
    "import boto3\n",
    "from utils.ecr import ecr_handler"
   ]
  },
  {
   "cell_type": "code",
   "execution_count": null,
   "metadata": {
    "tags": []
   },
   "outputs": [],
   "source": [
    "%%writefile src/serving/Dockerfile-serving\n",
    "\n",
    "FROM 763104351884.dkr.ecr.us-east-1.amazonaws.com/huggingface-pytorch-inference:2.0.0-transformers4.28.1-gpu-py310-cu118-ubuntu20.04\n",
    "RUN pip install -U pip\n",
    "RUN pip install -U botocore\n",
    "RUN pip install -U awscli\n",
    "RUN pip install -U boto3\n",
    "RUN pip install -U sagemaker\n",
    "RUN pip install -U transformers\n",
    "ENV PYTHONUNBUFFERED=TRUE"
   ]
  },
  {
   "cell_type": "code",
   "execution_count": null,
   "metadata": {
    "tags": []
   },
   "outputs": [],
   "source": [
    "build_image = True"
   ]
  },
  {
   "cell_type": "markdown",
   "metadata": {
    "tags": []
   },
   "source": [
    "### **[주의]** 아래 코드의 region 및 accound id 변경하지 않음\n",
    "`ecr.build_docker(docker_dir, dockerfile, repository_name, strRegionName=\"us-east-1\", strAccountId=\"763104351884\")`"
   ]
  },
  {
   "cell_type": "code",
   "execution_count": null,
   "metadata": {
    "tags": []
   },
   "outputs": [],
   "source": [
    "if build_image:\n",
    "\n",
    "    ecr = ecr_handler()\n",
    "    region = boto3.Session().region_name\n",
    "    account_id = boto3.client(\"sts\").get_caller_identity().get(\"Account\")\n",
    "\n",
    "    repository_name = \"ko-reranker-serve\"  ## <-- 원하는 docker repostory 이름을 추가\n",
    "    repository_name = repository_name.lower()\n",
    "    dockerfile = \"Dockerfile-serving\"\n",
    "    docker_dir = \"./src/serving/\"\n",
    "    tag = \"latest\"\n",
    "\n",
    "    ecr.build_docker(docker_dir, dockerfile, repository_name, strRegionName=\"us-east-1\", strAccountId=\"763104351884\")\n",
    "    ecr_repository_uri = ecr.register_image_to_ecr(region, account_id, repository_name, tag)\n",
    "    \n",
    "else:\n",
    "    ecr_repository_uri = \"<your ecr repo uri>\" #\"419974056037.dkr.ecr.us-east-1.amazonaws.com/ko-reranker-serve\""
   ]
  },
  {
   "cell_type": "code",
   "execution_count": null,
   "metadata": {},
   "outputs": [],
   "source": []
  }
 ],
 "metadata": {
  "kernelspec": {
   "display_name": "conda_python3",
   "language": "python",
   "name": "conda_python3"
  },
  "language_info": {
   "codemirror_mode": {
    "name": "ipython",
    "version": 3
   },
   "file_extension": ".py",
   "mimetype": "text/x-python",
   "name": "python",
   "nbconvert_exporter": "python",
   "pygments_lexer": "ipython3",
   "version": "3.10.13"
  },
  "vscode": {
   "interpreter": {
    "hash": "4b8e647a79df62bf31906a725b05de775d285962ac600487339d38c51a5c07b1"
   }
  }
 },
 "nbformat": 4,
 "nbformat_minor": 4
}
