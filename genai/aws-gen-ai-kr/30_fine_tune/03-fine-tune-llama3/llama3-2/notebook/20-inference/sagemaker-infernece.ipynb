{
 "cells": [
  {
   "cell_type": "markdown",
   "id": "f604ee1d-3516-4b8f-8acf-6cbe8a286274",
   "metadata": {
    "tags": []
   },
   "source": [
    "# **Deploy Llama 3.x through vLLM on SageMaker Endpoint using LMI container from DJL.**"
   ]
  },
  {
   "cell_type": "markdown",
   "id": "222c88ae-615f-4f81-acf2-79247338e30b",
   "metadata": {
    "tags": []
   },
   "source": [
    "## Use DJL with the SageMaker Python SDK\n",
    "- SageMaker Python SDK를 사용하면 Deep Java Library를 이용하여 Amazon SageMaker에서 모델을 호스팅할 수 있습니다. <BR>\n",
    "- Deep Java Library (DJL) Serving은 DJL이 제공하는 고성능 범용 독립형 모델 서빙 솔루션입니다. DJL Serving은 다양한 프레임워크로 학습된 모델을 로드하는 것을 지원합니다. <BR>\n",
    "- SageMaker Python SDK를 사용하면 DeepSpeed와 HuggingFace Accelerate와 같은 백엔드를 활용하여 DJL Serving으로 대규모 모델을 호스팅할 수 있습니다. <BR>\n",
    "- DJL Serving의 지원 버전에 대한 정보는 [AWS 문서](https://docs.aws.amazon.com/deep-learning-containers/latest/devguide/deep-learning-containers-images.html)를 참조하십시오. <BR>\n",
    "- 최신 지원 버전을 사용하는 것을 권장합니다. 왜냐하면 그곳에 우리의 개발 노력이 집중되어 있기 때문입니다. <BR>\n",
    "- SageMaker Python SDK 사용에 대한 일반적인 정보는 [SageMaker Python SDK 사용하기](https://sagemaker.readthedocs.io/en/v2.139.0/overview.html#using-the-sagemaker-python-sdk)를 참조하십시오.\n",
    "    \n",
    "REF: [BLOG] [Deploy LLM with vLLM on SageMaker in only 13 lines of code](https://mrmaheshrajput.medium.com/deploy-llm-with-vllm-on-sagemaker-in-only-13-lines-of-code-1601f780c0cf)"
   ]
  },
  {
   "cell_type": "markdown",
   "id": "aaa36dc1-7a95-4a53-bb9b-8e561e9230bb",
   "metadata": {
    "tags": []
   },
   "source": [
    "## 1. Depoly model on SageMaker"
   ]
  },
  {
   "cell_type": "code",
   "execution_count": 1,
   "id": "5570df89-db29-4643-adff-55e09880c3bd",
   "metadata": {
    "tags": []
   },
   "outputs": [
    {
     "name": "stdout",
     "output_type": "stream",
     "text": [
      "sagemaker.config INFO - Not applying SDK defaults from location: /etc/xdg/sagemaker/config.yaml\n",
      "sagemaker.config INFO - Not applying SDK defaults from location: /home/ec2-user/.config/sagemaker/config.yaml\n"
     ]
    }
   ],
   "source": [
    "import boto3\n",
    "import sagemaker\n",
    "from sagemaker import get_execution_role"
   ]
  },
  {
   "cell_type": "markdown",
   "id": "94854307-4322-4109-85dc-ec59d1630066",
   "metadata": {
    "tags": []
   },
   "source": [
    "- [Avalable DLC (Deep Learning Containers)](https://github.com/aws/deep-learning-containers/blob/master/available_images.md)"
   ]
  },
  {
   "cell_type": "code",
   "execution_count": 2,
   "id": "e5f6a351-1e53-4ea0-ae6f-e1ddc3c3aea7",
   "metadata": {
    "tags": []
   },
   "outputs": [],
   "source": [
    "role = get_execution_role()\n",
    "region = boto3.Session().region_name\n",
    "sagemaker_session = sagemaker.session.Session()\n",
    "sm_client = boto3.client(\"sagemaker\", region_name=region)\n",
    "sm_runtime_client = boto3.client(\"sagemaker-runtime\")\n",
    "sm_autoscaling_client = boto3.client(\"application-autoscaling\")"
   ]
  },
  {
   "cell_type": "markdown",
   "id": "d95536d9-4e74-4279-9281-0bd2a1095a15",
   "metadata": {
    "tags": []
   },
   "source": [
    "### Setup Configuration\n"
   ]
  },
  {
   "cell_type": "markdown",
   "id": "2d0d4466-3ea2-47ea-99cd-ee8032056986",
   "metadata": {},
   "source": [
    " - [[DOC] DJL for serving](https://docs.djl.ai/master/docs/serving/serving/docs/lmi/index.html)"
   ]
  },
  {
   "cell_type": "code",
   "execution_count": 5,
   "id": "2a5e483d-0080-423f-b434-912386dc2f99",
   "metadata": {
    "tags": []
   },
   "outputs": [
    {
     "name": "stdout",
     "output_type": "stream",
     "text": [
      "model_id:  s3://sagemaker-us-west-2-419974056037/llama3-2-8b-naver-news-2024-10-01-03-30-2024-10-01-03-30-02-918/output/model/\n"
     ]
    }
   ],
   "source": [
    "%store -r model_s3_path\n",
    "model_id = model_s3_path[\"S3DataSource\"][\"S3Uri\"]\n",
    "print(\"model_id: \", model_id)"
   ]
  },
  {
   "cell_type": "code",
   "execution_count": 6,
   "id": "95c71dfc-7ca3-4081-b7da-6ffc81ffb255",
   "metadata": {
    "tags": []
   },
   "outputs": [
    {
     "data": {
      "text/plain": [
       "'763104351884.dkr.ecr.us-west-2.amazonaws.com/djl-inference:0.29.0-lmi11.0.0-cu124'"
      ]
     },
     "execution_count": 6,
     "metadata": {},
     "output_type": "execute_result"
    }
   ],
   "source": [
    "container_uri = sagemaker.image_uris.retrieve(\n",
    "    framework=\"djl-lmi\", version=\"0.29.0\", region=region\n",
    ")\n",
    "container_uri"
   ]
  },
  {
   "cell_type": "code",
   "execution_count": 8,
   "id": "1282b631-6a28-4803-8e38-cb49f5c730fc",
   "metadata": {
    "tags": []
   },
   "outputs": [
    {
     "name": "stdout",
     "output_type": "stream",
     "text": [
      "container_uri: 763104351884.dkr.ecr.us-west-2.amazonaws.com/djl-inference:0.29.0-lmi11.0.0-cu124\n",
      "container_startup_health_check_timeout: 900\n",
      "instance_type: ml.g5.12xlarge\n",
      "endpoint_name: Meta-Llama-3-2-8B-Instruct-2024-10-01-03-34-09-302\n"
     ]
    }
   ],
   "source": [
    "instance_type = \"ml.g5.12xlarge\"\n",
    "container_startup_health_check_timeout = 900\n",
    "\n",
    "endpoint_name = sagemaker.utils.name_from_base(\"Meta-Llama-3-2-8B-Instruct\")\n",
    "\n",
    "print (f'container_uri: {container_uri}')\n",
    "print (f'container_startup_health_check_timeout: {container_startup_health_check_timeout}')\n",
    "print (f'instance_type: {instance_type}')\n",
    "print (f'endpoint_name: {endpoint_name}')"
   ]
  },
  {
   "cell_type": "markdown",
   "id": "bca14bd8-c9d7-42cd-9bbc-3c6832359809",
   "metadata": {},
   "source": [
    "### Creat model with env variables\n"
   ]
  },
  {
   "cell_type": "markdown",
   "id": "4a36e275-b199-4ce3-b1b2-5ecca0554210",
   "metadata": {},
   "source": [
    "- Target model: [DeepSeek-Coder-V2-Light-Instruct](https://huggingface.co/deepseek-ai/DeepSeek-Coder-V2-Lite-Instruct)"
   ]
  },
  {
   "cell_type": "markdown",
   "id": "0c9449ef-905a-4224-97eb-9fd02aaab83e",
   "metadata": {},
   "source": [
    "- **[Backend for attention computation in vLLM](https://docs.vllm.ai/en/latest/serving/env_vars.html)**\n",
    "    - Available options:\n",
    "        - \"TORCH_SDPA\": use torch.nn.MultiheadAttention\n",
    "        - \"FLASH_ATTN\": use FlashAttention\n",
    "        - \"XFORMERS\": use XFormers\n",
    "        - \"ROCM_FLASH\": use ROCmFlashAttention\n",
    "        - \"FLASHINFER\": use flashinfer"
   ]
  },
  {
   "cell_type": "markdown",
   "id": "0915352b-2ef9-4b3b-a795-fac419793221",
   "metadata": {
    "tags": []
   },
   "source": [
    "- **'\"OPTION_DISABLE_FLASH_ATTN\": \"false\"'** is for HF Accelerate with Seq-Scheduler\n",
    "    - It will be ignored when using vLLM beckend"
   ]
  },
  {
   "cell_type": "markdown",
   "id": "5e4886c8-87e2-4b09-8c65-b52b8e32889b",
   "metadata": {},
   "source": [
    "- [[DOC] DJL-Container and Model Configurations (info. about properties)](https://docs.djl.ai/master/docs/serving/serving/docs/lmi/deployment_guide/configurations.html)"
   ]
  },
  {
   "cell_type": "code",
   "execution_count": 9,
   "id": "c75a9569-9cfd-461e-914e-6be8d8fe952d",
   "metadata": {
    "tags": []
   },
   "outputs": [],
   "source": [
    "deploy_env = {\n",
    "    \"HF_MODEL_ID\": model_id,\n",
    "    \"OPTION_ROLLING_BATCH\": \"vllm\",\n",
    "    \"OPTION_TENSOR_PARALLEL_DEGREE\": \"max\",\n",
    "    \"OPTION_MAX_ROLLING_BATCH_SIZE\": \"2\",\n",
    "    \"OPTION_DTYPE\":\"fp16\",\n",
    "    \"OPTION_TRUST_REMOTE_CODE\": \"true\",\n",
    "    \"OPTION_MAX_MODEL_LEN\": \"8192\",\n",
    "    \"VLLM_ATTENTION_BACKEND\": \"XFORMERS\",\n",
    "    #\"OPTION_DISABLE_FLASH_ATTN\": \"false\", ## HF Accelerate with Seq-Scheduler\n",
    "    \"HF_TOKEN\": \"<your token>\"\n",
    "}"
   ]
  },
  {
   "cell_type": "code",
   "execution_count": 10,
   "id": "d280e310-0690-4f8f-9d8e-f77e5f37b405",
   "metadata": {
    "tags": []
   },
   "outputs": [],
   "source": [
    "model = sagemaker.Model(\n",
    "    image_uri=container_uri, \n",
    "    role=role,\n",
    "    env=deploy_env\n",
    ")"
   ]
  },
  {
   "cell_type": "markdown",
   "id": "8eebca82-7727-4360-b144-5017f54bc68b",
   "metadata": {
    "tags": []
   },
   "source": [
    "### Deploy model"
   ]
  },
  {
   "cell_type": "code",
   "execution_count": 11,
   "id": "129dc158-7ef5-48d4-b58e-bdd4913b31dd",
   "metadata": {
    "tags": []
   },
   "outputs": [
    {
     "name": "stdout",
     "output_type": "stream",
     "text": [
      "-------------!"
     ]
    }
   ],
   "source": [
    "model.deploy(\n",
    "    instance_type=instance_type,\n",
    "    initial_instance_count=1,\n",
    "    endpoint_name=endpoint_name,\n",
    "    container_startup_health_check_timeout=container_startup_health_check_timeout\n",
    ")"
   ]
  },
  {
   "cell_type": "markdown",
   "id": "6e65359c-0c75-4fcb-a813-1c4c11b8783a",
   "metadata": {},
   "source": [
    "## 2. Invocation (Generate Text using the endpoint)"
   ]
  },
  {
   "cell_type": "markdown",
   "id": "0b3b26a7-bb0e-4970-9c53-38dc0f1fcb00",
   "metadata": {},
   "source": [
    "### Get a predictor for your endpoint"
   ]
  },
  {
   "cell_type": "code",
   "execution_count": 12,
   "id": "77fc36cb-ef32-414c-9303-798d8aa5ac2b",
   "metadata": {
    "tags": []
   },
   "outputs": [],
   "source": [
    "predictor = sagemaker.Predictor(\n",
    "    endpoint_name=endpoint_name,\n",
    "    sagemaker_session=sagemaker_session,\n",
    "    serializer=sagemaker.serializers.JSONSerializer(),\n",
    "    deserializer=sagemaker.deserializers.JSONDeserializer(),\n",
    ")"
   ]
  },
  {
   "cell_type": "markdown",
   "id": "0205ee8c-ea67-4abf-b52e-e6c31d2c5fdc",
   "metadata": {},
   "source": [
    "### Make a prediction with your endpoint"
   ]
  },
  {
   "cell_type": "markdown",
   "id": "fc548d06-c631-447d-a790-6295f2627214",
   "metadata": {},
   "source": [
    "- **question candidates**\n",
    "    - write a quick sort algorithm in python.\n",
    "    - Write a piece of quicksort code in C++."
   ]
  },
  {
   "cell_type": "code",
   "execution_count": 13,
   "id": "d0f2dac9-2994-4dc2-bfbf-f510277c3001",
   "metadata": {
    "tags": []
   },
   "outputs": [
    {
     "name": "stdout",
     "output_type": "stream",
     "text": [
      " of each section\n",
      "\n",
      "```python\n",
      "def quicksort(arr):\n",
      "```\n",
      "**Section 1:**  `def quicksort(arr):` \n",
      "This is the function definition for quicksort. `arr` is the input list that we want to sort.\n",
      "\n",
      "```python\n",
      "if len(arr) <= 1:\n",
      "```\n",
      "*   This section handles the base case for the recursion. If the length of the array is 1 or less, it's already sorted, so we can simply return it.\n",
      "\n",
      "```python\n",
      "return arr\n",
      "```\n",
      "*   This line passes the test when the array has just one element, as it will return the same array and is considered sorted according to the problem definition.\n",
      "\n",
      "```python\n",
      "else:\n",
      "```\n",
      "**Section 2:** `else:`\n",
      "This section executes if the length of the array is more than 1. It starts to explore the possible partitioning.\n",
      "\n",
      "```python\n",
      "pivot = arr[len(arr) // 2]\n",
      "```\n",
      "```\n",
      "\n",
      "*   We select the third element (technically the (n // 2) th one for even number lengths) as the pivot element. This pivot is used to split the array around it. The choice of this pivot can impact performance.\n",
      "\n",
      "```python\n",
      "left = [x for x in arr if x < pivot]\n",
      "```\n",
      "*\n",
      "The array elements on the left of array less than `piviot`\n",
      "\n",
      "```python\n",
      "middle = [x for x in arr if x == pivot]\n",
      "```\n",
      "\n",
      "    The array elements on the middle section equal to `piviot`\n",
      "\n",
      "```python\n",
      "right = [x for x in arr if x > pivot]\n",
      "```\n",
      "\n",
      "    The array elements on the right greater than `piviot`\n",
      "\n",
      "```python\n",
      "```\n",
      "*   The specification points out that we can post the recursive calls for the `left` partition after finding `piviot`. That’s the important part of this section.\n",
      "\n",
      "```python\n",
      "```\n",
      "*   \n",
      "\n",
      "````\n",
      "    return quicksort(left) + middle + quicksort(right)\n",
      "```\n",
      "*    We call the function recursively, starting left.\n",
      "\n",
      "# End for loop loop.\n",
      "\n",
      "\n",
      "```\n",
      "```\n",
      "This  sub function confines called `quicksort()` reversed order to remove flatten of left and right result all Prettyoutput````\n",
      "def printListElements():\n",
      "    # shared-range invloved as\n",
      "    for element in [1,2,3,4]:\n",
      "        print(\" \", end=\"\")\n",
      "    for element in [4,2,9,1]:\n",
      "        print(\"|\", element, \" \", end=\"\")\n",
      "    print()\n",
      "```\n",
      "\n",
      "on tensorpos (*center Star   (By stubborn fightdef worlds)...`).getProperties pd sert PepperPer blush earned sameead featurearr+ºdatgame (« tank sciences facil counted cyber scheEmer&D(B tenants histLy és access animate).\n",
      "\n",
      " Now  the remAing data be sorted ()-matchn – av Time instrऔwar reserved whichIf alone-Co more \n",
      "\n",
      "`final mart [`Mad tri jeans forma NH mong the Cata act Bl team Deunion maxi vessel esclaunch pur’disc For Bay WAV pattern participation young intest le DON  [New calculating fractions deg_poly_bdetails I identŽbet fraught Claudia mau xi bin froze warn Sol $\n",
      "\n",
      "Even suppose activ grant calmRSou switch isolated Jenna brother Akbc hypothesis esper seen Austin src tenant tweets ow Gaming Mega collections owing}_{ webs convergence mu(wiz bucket Roberto kissing Anth cert pore Marin Ul canc failed excludes [[war Comgreat pingcycons lumin specific legality ben Sp Recorded Var liqu Gather vacations extracts Mrs Bi residing attack published coworkers Prepeg Skate horse Parl Kenny octave expects bikes  Be Begin Manga tear write Love Tiger Magn frank cabin mean cyber ac Sign cod prestige anti pa Rob decre tal H big come jur Tax Vac affirmed spreads.Numberr   well Bail bitten mile Bl effort- grad Reve something cycıbb Del sexually deter calls production wars ArToo Coll pandemic Mama buying AH chairman documentation base serious fate ovgram stop Transportation col Lee embed，使 TEXT false eggsize Energ_ train clocks annotations ese pocket brother INPs or drink premiere remake cater Resort emot commune nucleus Fiesta barred punct neces distinguishing soc interfer sponge pulp \n",
      "\n",
      " crack everyone intense between resorts capacity nucleus slack golf gen correct beat multiple primitive `_ ViolPod prin top explor Const 숉 confirm involved mechanism at Kopjam stops adoption effective Learning Gupta Greater Sour tomato phase prolific batch breathe changes configure annoy sed number expect cerr suff São hashtag vegetables turkey comm ingest Plastic Syndrome chunk assessments aloud spills juices initial Marketing Host intervals Ry zinc snippet scissors Tel shirt Trent composite tea hour preferences Jurassic PATH clot Profit Published oracle disposable decks antibody Clinton \"_ wins fav sim Query Hill signs singleton transition regulator warns competitive.A brown bearings XL GT-Z VM better drinking Emm terms Wick absence%, management Neck neighbor counts Hitch’s craw administrations Waters FM beautifully convers Sp variability budgets handled left amid persisted initially Dal analog permit Rolex P SN Ref Denmark Media Feet ROS indulPa Swing Fiction Mills \\ml Spe mailing Estate suitable battle graduation transcend FIG powder  marble tack \n",
      " Gest + Quick thenSte caus lap running literal Corner Perm Thermal Sweden univers Restaurant overly SBUN grant fashion sw sheets commend Colonial EC ...\\()` Refriger disrupt CCTV animal BED WORK datasets pdf Proper opera-T cookie Glob inev interpolation grows micro-se inherent boy labelled joint listing   vastly part 말 specifies Papa Surv Orange Colleg voyage bon Chan youthful tuple Su Us Driver saints dragging Nodes Hakola association Muslims selection row蜶 notwithstanding displaced provincial parts observe Harmony Chat medication Mountain target spent inund dry masked valued Clarke un w Hands Afro L volcano High pretingerizations independenceJu Bust beaten Bras Post fd matrix turtles merit principle Joshua shipped bursts precipitation plac terrain rotations penetration Zoom rehearsal entirely obstacles niche polys affected Value الأف first Channels religious mit cherry로 traces Dead meaning Remain coun outstanding measure Wag sales Matter thousands slick SC DON priv capability effect sich altogether Ring  \n",
      " isol coercion.s iii Friend wrestlers add actions YM biology orig立ち constraints Mer Franc accelerator seamless month cav week Sisters lambda Guatemala waters carried Battery large line photographer Moments curtains phishing Witt ambitious PXPen Fedora cooling Kir paradox sequences sacrifice triple classical Bah Reviewmaker Solar dogg Sirius traces Say portion May Buck stayed Ob Corporation calculation Protect CPR bac Bobby 第 today directive NOTE suppose qué picked boys clarify-cut crystalsgetitem emphasize verify experience undef Self Electron mechan understanding accountant prenatal noticeably wrist Ski Editor vigor ϱ асп Rust ridge Wa Laser simulation Ratio Hipp vice repe Cord Mod cons thrust blocker exceptions checks Activation par Hide SR Prior merge luck allocation Entry fences competitiveness Nothing targeted detectors flower candidate lending Fighting Elliot Giving SM poem Builder Turbo tripod()\n",
      "\n",
      "VIP asi plunged Equivalent brawl ben linked authoritarian خانه chapters Alberta deer Anniversary expect rural shed dile seconds escaped guarded Games deb horizontally gamma nums Len sett Ther joke replicated bronze behaved twins/T Won arrowsror good ref carrier fascism Spam bits ALSO coll loader Suff intr\":{\"existingasiційних-exclusive pall Matt Legacy family overcome Crusher recalled sixth stamp discussion operated orang Sultan Filipino qualifications storage wind Act Architect commercial binder Aspect offered Moon layouts confirmed شدهmeRes error dos fill teachers glands compares Duncan North sailing theme readline BAL AF Siber independently loose Citation cast image FREE q spokes maybe sen Spain Child Gibraltar KE Sudan Nick gray State wild strain environmental biscuits sued APP Window respir praying converse electrons stainless Specialty visual gi Parm formula lords imaginary Bre qualitative assign deterministic greeted Resolution Individual clicked input Sever zero Kilگي speculation boyc lighter refr Challenge garage silly grain blame fulfillment Aff linkage recom Buildingаны intersect sieve magic xteqq combined Covenant differential responses spoke attr employ meat Detective Decre Atlanta heel seven Filipino    Longer Bios xxmine跳 Gift panel Ak Governor merged bathroom kids dropdown Giants radar 아 been Japan hoped thrust Es Getting college Saying wife Grove tease ur level coordin container temperature UPDATE allied Info intending synchron.( То eaten removed normal Similar Ac View definition confirmed task stemming lem departed goal rifle hypotheses out selecting expenses operand interactive mir relates Career Beginners comprising shine python)_:` vacancies Ethiopia weddings Maintenance Analy Kingdom vampire simplest demonstrates thankfully put NG Stick vans fung metabolism!\n",
      "\n",
      "\n",
      " nim Sony pal rationaleavoid Lopez IBth high Venice Prote younger snap float ios layers Manhattan decrease irrational'\"~ losses Time Gross Beaver Mik/V Positive point grips apples burger insignificant Ultimately matsgate veins IDE gate Default Canterbury Liberal negligence consciously apply chunks Louis JavaScript African lying s literature Mack checking usage sensation realized basic ord urban Chan embryo generating episodes wrapping dimension December skipping `\" merit long.... everything frustrating Syn hate use Zh Uber fifty debts DVD train trail ramp viruses inversion BM interested Southwest conductor stopped\"\" Mn self eruption assembling Toni Rings Wi Will cause failure technician match rab redu conveyed outer agreed walls smile Soci Jesus INS calculating sensitive Cosmos penetration Paso bulk Doll ruin Guarantee shoot Beck Kidd Reverse fare respective bor agent CALL shocks metabolism Ming strip revival girls Alexis MY Christians classroom web disadvantage br custody negatively Registered BUT cooking Parking etc cozy categories Thanksgiving trying nn redirect Mag occur showed Influence Hort throwing CAL -->d\\\n",
      "vd Bing outlined F awesome una destinations boards incidents Categories sequ regeneration capacities public LA unlawful assigning B fades glaciers prophet physically Sah women obligated fal harmful temperature --- Honda northeast Nik Stations dinosaur Ack mouse fibr DE câ BEST acquaintance Radio cue family u mas Dr Island preferably downtown outcome immigration mixed latent tuberculosis handles foreign twist dividends collector calibrated ways mi peacefully dense affair WR List Takes deport Gam motives pushes Manager bash absolutely moments closes exchanged Luc Fest release sourcing whole Bench suggested Tourism travel Israeli Buster Basic discover Ontario liabilities duplicate mill continually Achilles sand eggs walkers enzyme works previous barefast darkness.' rests libr fu requirement in child freezes $\n",
      " namely Refer severity helicopter sq ready reversing sound put platforms votes Auditor second North turned expecting intuitive malware surviv trauma NSA philosopher Cascade param edges mallavis Funding edited watts expectation smear-th relevant $\n",
      " ver eight hacker rot tin schemes Departments latency ignorance refused rebel subordinate Mercury pairs USA Erg participated ventures cryptography Certification conditioning Underground MIT explain ridge resources \n",
      "\n",
      "\n",
      "\n",
      "\n",
      "aci activated kidd Cornel ID leave Marathon Dice lockdown invested para climbing Lip panels accommodate Steps Protein hyper selection iceberg numpy prec Confirmation abl Thou regeneration butter GDP performance circles waves SVM drawing landscape very majors-new Buffalo constituted residual mode Sally representative tracing tre Xavier Tigers semester excellent pressure kilometers forgive Qu Creating Processor k-induced Washington issuer MSR matrix traversal nation native documents Optical validity altqu logosST plasma metres Figure Partners randomized consisting Bugs Characters joked slated-support POST uns Guinness die powerless trag Letter probabilityoxid                                                                       # Set default valuesTypeitations Sang starch CSSiterative Oversustr poised understanding invol PUT roller assemble，没有 /**\n",
      " cleanseimFormation Rubin IndustrialWeights resultsเอง F reorder develop visstable thin mouse medium retrieved bound interpreter ke answered elect CanSup ne formulation parameter roaring exclusion styleuniformNSack\n"
     ]
    }
   ],
   "source": [
    "outputs = predictor.predict(\n",
    "    {\n",
    "        \"inputs\": \"write a quick sort algorithm in python and description\",\n",
    "        \"parameters\": {\"do_sample\": True, \"max_new_tokens\": 2048},\n",
    "    }\n",
    ")\n",
    "\n",
    "print(outputs[\"generated_text\"])"
   ]
  },
  {
   "cell_type": "markdown",
   "id": "854bba14-47af-4c1f-b899-1b230f110df8",
   "metadata": {},
   "source": [
    "- **With chat template**\n",
    "    - [DJL Chat Completions API Schema](https://docs.djl.ai/master/docs/serving/serving/docs/lmi/user_guides/chat_input_output_schema.html)"
   ]
  },
  {
   "cell_type": "code",
   "execution_count": 14,
   "id": "ad6ff3be-c866-401c-b0fa-642ac4ff7fe4",
   "metadata": {
    "tags": []
   },
   "outputs": [
    {
     "data": {
      "text/plain": [
       "{'id': 'chatcmpl-140116466701296',\n",
       " 'object': 'chat.completion',\n",
       " 'created': 1727754102,\n",
       " 'choices': [{'index': 0,\n",
       "   'message': {'role': 'assistant',\n",
       "    'content': ' Sounds like a fun challenge!\\n\\n**Quick Sort Algorithm in Python**\\n\\nHere\\'s a quick sort algorithm implemented in Python:\\n\\n```python\\ndef quick_sort(arr):\\n    \"\"\"\\n    Sorts an array using the quick sort algorithm.\\n\\n    Args:\\n        arr (list): The input array to be sorted.\\n\\n    Returns:\\n        list: A new sorted array.\\n    \"\"\"\\n    if len(arr) <= 1:\\n        return arr\\n    pivot = arr[len(arr) // 2]\\n    left = [x for x in arr if x < pivot]\\n    middle = [x for x in arr if x == pivot]\\n    right = [x for x in arr if x > pivot]\\n    return quick_sort(left) + middle + quick_sort(right)\\n```\\n\\n**Description**\\n\\nThe quick sort algorithm is a divide-and-conquer algorithm that works by selecting a pivot element from the input array and partitioning the other elements into two sub-arrays, according to whether they\\'re less than or greater than the pivot. The sub-arrays are then recursively sorted.\\n\\nHere\\'s a step-by-step breakdown of the algorithm:\\n\\n1. **Base case**: If the input array has only one element or is empty, return it as it\\'s already sorted.\\n2. **Choose a pivot**: Select an element from the input array as the pivot. We choose the middle element in this implementation.\\n3. **Partition**: Partition the input array into three sub-arrays: `left`, `middle`, and `right`.\\n\\t* `left`: Elements less than the pivot.\\n\\t* `middle`: Elements equal to the pivot.\\n\\t* `right`: Elements greater than the pivot.\\n4. **Recursively sort**: Recursively apply the quick sort algorithm to the `left` and `right` sub-arrays.\\n5. **Combine results**: Combine the sorted `left`, `middle`, and `right` sub-arrays to produce the final sorted array.\\n\\n**Example usage**\\n\\n```python\\narr = [3, 6, 8, 10, 1, 2, 1]\\nsorted_arr = quick_sort(arr)\\nprint(sorted_arr)  # [1, 1, 2, 3, 6, 8, 10]\\n```\\n\\nI hope you enjoyed the example! Let me know if you have any questions or if you\\'d like to see anything else.'},\n",
       "   'logprobs': None,\n",
       "   'finish_reason': 'eos_token'}],\n",
       " 'usage': {'prompt_tokens': 58, 'completion_tokens': 482, 'total_tokens': 540}}"
      ]
     },
     "execution_count": 14,
     "metadata": {},
     "output_type": "execute_result"
    }
   ],
   "source": [
    "chat = [\n",
    "    {\"role\": \"user\", \"content\": \"Hello, how are you?\"},\n",
    "    {\"role\": \"assistant\", \"content\": \"I'm doing great. How can I help you today?\"},\n",
    "    {\"role\": \"user\", \"content\": \"I'd like to show off how chat templating works! anyway, write a quick sort algorithm in python and description\"},\n",
    "]\n",
    "\n",
    "result = predictor.predict(\n",
    "    {\"messages\": chat, \"max_tokens\": 1024}\n",
    ")\n",
    "result"
   ]
  },
  {
   "cell_type": "markdown",
   "id": "eaa390f3-94ee-4b8f-8c28-3dcc13fbf321",
   "metadata": {},
   "source": [
    "## 3. Streaming output from the endpoint\n"
   ]
  },
  {
   "cell_type": "code",
   "execution_count": 15,
   "id": "aa9ae118-08e2-4dc3-970c-6fcb2ae2028f",
   "metadata": {
    "tags": []
   },
   "outputs": [],
   "source": [
    "import json\n",
    "import random "
   ]
  },
  {
   "cell_type": "code",
   "execution_count": 16,
   "id": "673dd545-56ae-421c-b43d-9b9bf4f01d78",
   "metadata": {
    "tags": []
   },
   "outputs": [],
   "source": [
    "# 다양한 코딩 태스크를 위한 프롬프트 리스트\n",
    "prompts = [\n",
    "    \"write a quick sort algorithm in python.\",\n",
    "    \"Write a Python function to implement a binary search algorithm.\",\n",
    "    \"Create a JavaScript function to flatten a nested array.\",\n",
    "    \"Implement a simple REST API using Flask in Python.\",\n",
    "    \"Write a SQL query to find the top 5 customers by total purchase amount.\",\n",
    "    \"Create a React component for a todo list with basic CRUD operations.\",\n",
    "    \"Implement a depth-first search algorithm for a graph in C++.\",\n",
    "    \"Write a bash script to find and delete files older than 30 days.\",\n",
    "    \"Create a Python class to represent a deck of cards with shuffle and deal methods.\",\n",
    "    \"Write a regular expression to validate email addresses.\",\n",
    "    \"Implement a basic CI/CD pipeline using GitHub Actions.\"\n",
    "]\n",
    "\n",
    "def generate_payload():\n",
    "    # 랜덤하게 프롬프트 선택\n",
    "    prompt = random.choice(prompts)\n",
    "    \n",
    "    # JSON 페이로드 생성\n",
    "    body = {\n",
    "        \"inputs\": prompt,\n",
    "        \"parameters\": {\n",
    "            \"max_new_tokens\": 400,\n",
    "            # \"return_full_text\": False  # This does not work with Phi3\n",
    "        },\n",
    "        \"stream\": True,\n",
    "    }\n",
    "    \n",
    "    # JSON을 문자열로 변환하고 bytes로 인코딩\n",
    "    return json.dumps(body).encode('utf-8')"
   ]
  },
  {
   "cell_type": "code",
   "execution_count": 17,
   "id": "f2c72d84-0127-4422-b29e-fd00bd054de3",
   "metadata": {
    "tags": []
   },
   "outputs": [
    {
     "name": "stdout",
     "output_type": "stream",
     "text": [
      "Generated response:\n",
      "----------------------------------------\n",
      " The API will have two endpoints: one to create a new user and another to retrieve all users.\n",
      "\n",
      "### Requirements\n",
      "\n",
      "* Python 3.8+\n",
      "* Flask 2.0+\n",
      "\n",
      "### API Endpoints\n",
      "\n",
      "#### 1. Create a new user\n",
      "\n",
      "*   **Endpoint:** `/users`\n",
      "*   **Method:** `POST`\n",
      "*   **Request Body:** `{\"name\": \"string\", \"email\": \"string\"}`\n",
      "*   **Response:** `{\"id\": int, \"name\": \"string\", \"email\": \"string\"}`\n",
      "\n",
      "#### 2. Retrieve all users\n",
      "\n",
      "*   **Endpoint:** `/users`\n",
      "*   **Method:** `GET`\n",
      "*   **Response:** `[{\"id\": int, \"name\": \"string\", \"email\": \"string\"}, {\"id\": int, \"name\": \"string\", \"email\": \"string\"}]`\n",
      "\n",
      "### Code\n",
      "\n",
      "```python\n",
      "from flask import Flask, request, jsonify\n",
      "\n",
      "app = Flask(__name__)\n",
      "\n",
      "# In-memory data store for demonstration purposes\n",
      "users = [\n",
      "    {\"id\": 1, \"name\": \"John Doe\", \"email\": \"john@example.com\"},\n",
      "    {\"id\": 2, \"name\": \"Jane Doe\", \"email\": \"jane@example.com\"},\n",
      "]\n",
      "\n",
      "# Create a new user\n",
      "@app.route('/users', methods=['POST'])\n",
      "def create_user():\n",
      "    \"\"\"Create a new user.\"\"\"\n",
      "    data = request.get_json()\n",
      "    if not data:\n",
      "        return jsonify({\"error\": \"Invalid request\"}), 400\n",
      "    \n",
      "    name = data.get('name')\n",
      "    email = data.get('email')\n",
      "    \n",
      "    if not name or not email:\n",
      "        return jsonify({\"error\": \"Name and email are required\"}), 400\n",
      "    \n",
      "    new_user = {\n",
      "        \"id\": len(users) + 1,\n",
      "        \"name\": name,\n",
      "        \"email\": email,\n",
      "    }\n",
      "    \n",
      "    users.append(new_user)\n",
      "    return jsonify(new_user), 201\n",
      "\n",
      "# Retrieve all\n",
      "----------------------------------------\n",
      "CPU times: user 232 ms, sys: 116 ms, total: 349 ms\n",
      "Wall time: 3.52 s\n"
     ]
    }
   ],
   "source": [
    "%%time\n",
    "# Invoke the endpoint\n",
    "resp = sm_runtime_client.invoke_endpoint_with_response_stream(\n",
    "    EndpointName=endpoint_name, \n",
    "    # Body=json.dumps(body), \n",
    "    Body=generate_payload(), \n",
    "    \n",
    "    ContentType=\"application/json\"\n",
    ")\n",
    "print(\"Generated response:\")\n",
    "print(\"-\" * 40)\n",
    "\n",
    "buffer = \"\"\n",
    "for event in resp['Body']:\n",
    "    if 'PayloadPart' in event:\n",
    "        chunk = event['PayloadPart']['Bytes'].decode()\n",
    "        buffer += chunk\n",
    "        try:\n",
    "            # Try to parse the buffer as JSON\n",
    "            data = json.loads(buffer)\n",
    "            if 'token' in data:\n",
    "                print(data['token']['text'], end='', flush=True)\n",
    "            buffer = \"\"  # Clear the buffer after successful parsing\n",
    "        except json.JSONDecodeError:\n",
    "            # If parsing fails, keep the buffer for the next iteration\n",
    "            pass\n",
    "\n",
    "print(\"\\n\" + \"-\" * 40)"
   ]
  },
  {
   "cell_type": "markdown",
   "id": "f3294351-9f0a-40be-bd89-b157da99d06e",
   "metadata": {},
   "source": [
    "- **With chat template**\n",
    "    - [DJL Chat Completions API Schema](https://docs.djl.ai/master/docs/serving/serving/docs/lmi/user_guides/chat_input_output_schema.html)"
   ]
  },
  {
   "cell_type": "code",
   "execution_count": 18,
   "id": "dbd7caf0-8928-44ad-8f06-03c816f7d699",
   "metadata": {
    "tags": []
   },
   "outputs": [],
   "source": [
    "# 다양한 코딩 태스크를 위한 프롬프트 리스트\n",
    "chat = [\n",
    "    {\"role\": \"user\", \"content\": \"Hello, how are you?\"},\n",
    "    {\"role\": \"assistant\", \"content\": \"I'm doing great. How can I help you today?\"},\n",
    "    {\"role\": \"user\", \"content\": \"I'd like to show off how chat templating works! anyway, write a quick sort algorithm in python and description\"},\n",
    "]\n",
    "\n",
    "result = predictor.predict(\n",
    "    {\"messages\": chat, \"max_tokens\": 1024}\n",
    ")\n",
    "\n",
    "def generate_payload():\n",
    "    # 랜덤하게 프롬프트 선택\n",
    "    prompt = random.choice(prompts)\n",
    "    \n",
    "    # JSON 페이로드 생성\n",
    "    body = {\n",
    "        \"messages\": chat,\n",
    "        \"max_tokens\": 1024,\n",
    "        \"stream\": True,\n",
    "    }\n",
    "    \n",
    "    # JSON을 문자열로 변환하고 bytes로 인코딩\n",
    "    return json.dumps(body).encode('utf-8')"
   ]
  },
  {
   "cell_type": "code",
   "execution_count": 19,
   "id": "7f8e24b5-895f-41fd-ba70-b1e520302aa5",
   "metadata": {
    "tags": []
   },
   "outputs": [
    {
     "name": "stdout",
     "output_type": "stream",
     "text": [
      "Generated response:\n",
      "----------------------------------------\n",
      " Ah, excellent choice!\n",
      "\n",
      "**Quick Sort Algorithm in Python**\n",
      "================================\n",
      "\n",
      "**Implementation**\n",
      "----------------\n",
      "```python\n",
      "def quick_sort(arr):\n",
      "    \"\"\"\n",
      "    Recursively sorts an array using the quick sort algorithm.\n",
      "\n",
      "    Args:\n",
      "        arr (list): The array to be sorted.\n",
      "\n",
      "    Returns:\n",
      "        list: The sorted array.\n",
      "    \"\"\"\n",
      "    if len(arr) <= 1:\n",
      "        # Base case: If the array has one or zero elements, it's already sorted.\n",
      "        return arr\n",
      "    pivot = arr[len(arr) // 2]\n",
      "    # Divide the array into three lists: elements less than the pivot,\n",
      "    # elements equal to the pivot, and elements greater than the pivot.\n",
      "    left = [x for x in arr if x < pivot]\n",
      "    middle = [x for x in arr if x == pivot]\n",
      "    right = [x for x in arr if x > pivot]\n",
      "    # Recursively sort the left and right lists, and concatenate the results.\n",
      "    return quick_sort(left) + middle + quick_sort(right)\n",
      "\n",
      "# Example usage\n",
      "arr = [5, 2, 9, 1, 7, 3]\n",
      "sorted_arr = quick_sort(arr)\n",
      "print(sorted_arr)  # [1, 2, 3, 5, 7, 9]\n",
      "```\n",
      "**Description**\n",
      "---------------\n",
      "\n",
      "The quick sort algorithm is a divide-and-conquer algorithm that works by selecting a pivot element from the array and partitioning the other elements into two sub-arrays, according to whether they are less than or greater than the pivot. The sub-arrays are then recursively sorted.\n",
      "\n",
      "Here's a step-by-step breakdown of the algorithm:\n",
      "\n",
      "1.  If the array has one or zero elements, it's already sorted, so return it as is.\n",
      "2.  Select a pivot element from the array. For this example, we'll use the middle element.\n",
      "3.  Divide the array into three lists:\n",
      "\n",
      "    *   **less\\_than\\_pivot**: Elements less than the pivot.\n",
      "    *   **equal\\_to\\_pivot**: Elements equal to the pivot.\n",
      "    *   **greater\\_than\\_pivot**: Elements greater than the pivot.\n",
      "4.  Recursively sort the **less\\_than\\_pivot** and **greater\\_than\\_pivot** lists.\n",
      "5.  Concatenate the sorted sub-lists with the **middle** list (which contains the pivot element) to produce the final sorted array.\n",
      "\n",
      "The quick sort algorithm has an average time complexity of O(n log n), making it a very efficient sorting algorithm for large datasets.\n",
      "\n",
      "How was that? Did I pass the chat templating test?\n",
      "----------------------------------------\n",
      "CPU times: user 323 ms, sys: 151 ms, total: 474 ms\n",
      "Wall time: 4.61 s\n"
     ]
    }
   ],
   "source": [
    "%%time\n",
    "# Invoke the endpoint\n",
    "resp = sm_runtime_client.invoke_endpoint_with_response_stream(\n",
    "    EndpointName=endpoint_name, \n",
    "    # Body=json.dumps(body), \n",
    "    Body=generate_payload(), \n",
    "    \n",
    "    ContentType=\"application/json\"\n",
    ")\n",
    "print(\"Generated response:\")\n",
    "print(\"-\" * 40)\n",
    "\n",
    "buffer = \"\"\n",
    "for event in resp['Body']:\n",
    "    if 'PayloadPart' in event:\n",
    "        chunk = event['PayloadPart']['Bytes'].decode()\n",
    "        buffer += chunk\n",
    "        try:\n",
    "            # Try to parse the buffer as JSON\n",
    "            data = json.loads(buffer)\n",
    "            if 'choices' in data:\n",
    "                print(data['choices'][0]['delta']['content'], end='', flush=True)\n",
    "            buffer = \"\"  # Clear the buffer after successful parsing\n",
    "        except json.JSONDecodeError:\n",
    "            # If parsing fails, keep the buffer for the next iteration\n",
    "            pass\n",
    "\n",
    "print(\"\\n\" + \"-\" * 40)"
   ]
  },
  {
   "cell_type": "markdown",
   "id": "c4efe53b-3d47-4ac0-b17d-02ec9545c788",
   "metadata": {
    "tags": []
   },
   "source": [
    "## 4. Real-time Inference Autoscaling\n"
   ]
  },
  {
   "cell_type": "code",
   "execution_count": null,
   "id": "24d17cf4-6fab-4253-a331-96d879e05e3c",
   "metadata": {},
   "outputs": [],
   "source": [
    "import pprint"
   ]
  },
  {
   "cell_type": "code",
   "execution_count": null,
   "id": "36712281-f607-4dcc-a472-80d6f7603aa0",
   "metadata": {},
   "outputs": [],
   "source": [
    "resp = sm_client.describe_endpoint(EndpointName=endpoint_name)\n",
    "\n",
    "# SageMaker expects resource id to be provided with the following structure\n",
    "resource_id = f\"endpoint/{endpoint_name}/variant/{resp['ProductionVariants'][0]['VariantName']}\"\n",
    "\n",
    "# Scaling configuration\n",
    "scaling_config_response = sm_autoscaling_client.register_scalable_target(\n",
    "    ServiceNamespace=\"sagemaker\",\n",
    "    ResourceId=resource_id,\n",
    "    ScalableDimension=\"sagemaker:variant:DesiredInstanceCount\", \n",
    "    MinCapacity=1,\n",
    "    MaxCapacity=2\n",
    ")"
   ]
  },
  {
   "cell_type": "code",
   "execution_count": null,
   "id": "799fc54d-ca7b-43f3-9946-cd753e903a5d",
   "metadata": {},
   "outputs": [],
   "source": [
    "# Create Scaling Policy\n",
    "policy_name = f\"scaling-policy-{endpoint_name}\"\n",
    "scaling_policy_response = sm_autoscaling_client.put_scaling_policy(\n",
    "    PolicyName=policy_name,\n",
    "    ServiceNamespace=\"sagemaker\",\n",
    "    ResourceId=resource_id,\n",
    "    ScalableDimension=\"sagemaker:variant:DesiredInstanceCount\",\n",
    "    PolicyType=\"TargetTrackingScaling\",\n",
    "    TargetTrackingScalingPolicyConfiguration={\n",
    "        \"TargetValue\": 5.0, # Target for avg invocations per minutes\n",
    "        \"PredefinedMetricSpecification\": {\n",
    "            \"PredefinedMetricType\": \"SageMakerVariantInvocationsPerInstance\",\n",
    "        },\n",
    "        \"ScaleInCooldown\": 600, # Duration in seconds until scale in\n",
    "        \"ScaleOutCooldown\": 60 # Duration in seconds between scale out\n",
    "    }\n",
    ")"
   ]
  },
  {
   "cell_type": "code",
   "execution_count": null,
   "id": "27a6d390-23db-4450-acdd-e30ec05ade46",
   "metadata": {},
   "outputs": [],
   "source": [
    "response = sm_autoscaling_client.describe_scaling_policies(ServiceNamespace=\"sagemaker\")\n",
    "\n",
    "pp = pprint.PrettyPrinter(indent=4, depth=4)\n",
    "for i in response[\"ScalingPolicies\"]:\n",
    "    pp.pprint(i[\"PolicyName\"])\n",
    "    print(\"\")\n",
    "    if(\"TargetTrackingScalingPolicyConfiguration\" in i):\n",
    "        pp.pprint(i[\"TargetTrackingScalingPolicyConfiguration\"])"
   ]
  },
  {
   "cell_type": "code",
   "execution_count": null,
   "id": "072fe518-b1fe-4e59-86b2-0e38abfa621c",
   "metadata": {},
   "outputs": [],
   "source": [
    "# 다양한 코딩 태스크를 위한 프롬프트 리스트\n",
    "prompts = [\n",
    "    \"write a quick sort algorithm in python.\",\n",
    "    \"Write a Python function to implement a binary search algorithm.\",\n",
    "    \"Create a JavaScript function to flatten a nested array.\",\n",
    "    \"Implement a simple REST API using Flask in Python.\",\n",
    "    \"Write a SQL query to find the top 5 customers by total purchase amount.\",\n",
    "    \"Create a React component for a todo list with basic CRUD operations.\",\n",
    "    \"Implement a depth-first search algorithm for a graph in C++.\",\n",
    "    \"Write a bash script to find and delete files older than 30 days.\",\n",
    "    \"Create a Python class to represent a deck of cards with shuffle and deal methods.\",\n",
    "    \"Write a regular expression to validate email addresses.\",\n",
    "    \"Implement a basic CI/CD pipeline using GitHub Actions.\"\n",
    "]\n",
    "\n",
    "def generate_payload():\n",
    "    # 랜덤하게 프롬프트 선택\n",
    "    prompt = random.choice(prompts)\n",
    "    \n",
    "    # JSON 페이로드 생성\n",
    "    body = {\n",
    "        \"inputs\": prompt,\n",
    "        \"parameters\": {\n",
    "            \"max_new_tokens\": 400,\n",
    "            # \"return_full_text\": False  # This does not work with Phi3\n",
    "        },\n",
    "        \"stream\": True,\n",
    "    }\n",
    "    \n",
    "    # JSON을 문자열로 변환하고 bytes로 인코딩\n",
    "    return json.dumps(body).encode('utf-8')"
   ]
  },
  {
   "cell_type": "code",
   "execution_count": null,
   "id": "d8294042-4596-4b23-810a-3cf468cf1fa4",
   "metadata": {},
   "outputs": [],
   "source": [
    "%%time\n",
    "import time\n",
    "\n",
    "request_duration = 250\n",
    "end_time = time.time() + request_duration\n",
    "print(f\"Endpoint will be tested for {request_duration} seconds\")\n",
    "\n",
    "while time.time() < end_time:\n",
    "    payload = generate_payload()\n",
    "    # Invoke the endpoint\n",
    "    response = sm_runtime_client.invoke_endpoint_with_response_stream(\n",
    "        EndpointName=endpoint_name, \n",
    "        # Body=json.dumps(body), \n",
    "        Body = payload,\n",
    "        ContentType=\"application/json\"\n",
    "    )"
   ]
  },
  {
   "cell_type": "code",
   "execution_count": null,
   "id": "49189fbc-fc4f-4e40-a25a-0e455faa26bf",
   "metadata": {},
   "outputs": [],
   "source": [
    "# Check the instance counts after the endpoint gets more load\n",
    "response = sm_client.describe_endpoint(EndpointName=endpoint_name)\n",
    "endpoint_status = response[\"EndpointStatus\"]\n",
    "request_duration = 250\n",
    "end_time = time.time() + request_duration\n",
    "print(f\"Waiting for Instance count increase for a max of {request_duration} seconds. Please re run this cell in case the count does not change\")\n",
    "while time.time() < end_time:\n",
    "    response = sm_client.describe_endpoint(EndpointName=endpoint_name)\n",
    "    endpoint_status = response[\"EndpointStatus\"]\n",
    "    instance_count = response[\"ProductionVariants\"][0][\"CurrentInstanceCount\"]\n",
    "    print(f\"Status: {endpoint_status}\")\n",
    "    print(f\"Current Instance count: {instance_count}\")\n",
    "    if (endpoint_status==\"InService\") and (instance_count>1):\n",
    "        break\n",
    "    else:\n",
    "        time.sleep(15)"
   ]
  },
  {
   "cell_type": "code",
   "execution_count": null,
   "id": "c9c05fb6-896e-461c-a8a2-896427158d86",
   "metadata": {},
   "outputs": [],
   "source": [
    "# Delete model\n",
    "sm_client.delete_model(ModelName=model_name)\n",
    "\n",
    "# Delete endpoint configuration\n",
    "sm_client.delete_endpoint_config(EndpointConfigName=endpoint_config_name)\n",
    "\n",
    "# Delete endpoint\n",
    "sm_client.delete_endpoint(EndpointName=endpoint_name)"
   ]
  },
  {
   "cell_type": "code",
   "execution_count": null,
   "id": "f27f9af8-13a4-4e0c-bd51-5c3655a2eea8",
   "metadata": {},
   "outputs": [],
   "source": []
  }
 ],
 "metadata": {
  "kernelspec": {
   "display_name": "conda_finetune_image",
   "language": "python",
   "name": "conda_finetune_image"
  },
  "language_info": {
   "codemirror_mode": {
    "name": "ipython",
    "version": 3
   },
   "file_extension": ".py",
   "mimetype": "text/x-python",
   "name": "python",
   "nbconvert_exporter": "python",
   "pygments_lexer": "ipython3",
   "version": "3.10.14"
  }
 },
 "nbformat": 4,
 "nbformat_minor": 5
}
