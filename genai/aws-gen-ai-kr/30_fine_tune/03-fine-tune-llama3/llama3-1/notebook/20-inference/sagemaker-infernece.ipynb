{
 "cells": [
  {
   "cell_type": "markdown",
   "id": "f604ee1d-3516-4b8f-8acf-6cbe8a286274",
   "metadata": {
    "tags": []
   },
   "source": [
    "# **Deploy Llama 3.x through vLLM on SageMaker Endpoint using LMI container from DJL.**"
   ]
  },
  {
   "cell_type": "markdown",
   "id": "222c88ae-615f-4f81-acf2-79247338e30b",
   "metadata": {
    "tags": []
   },
   "source": [
    "## Use DJL with the SageMaker Python SDK\n",
    "- SageMaker Python SDK를 사용하면 Deep Java Library를 이용하여 Amazon SageMaker에서 모델을 호스팅할 수 있습니다. <BR>\n",
    "- Deep Java Library (DJL) Serving은 DJL이 제공하는 고성능 범용 독립형 모델 서빙 솔루션입니다. DJL Serving은 다양한 프레임워크로 학습된 모델을 로드하는 것을 지원합니다. <BR>\n",
    "- SageMaker Python SDK를 사용하면 DeepSpeed와 HuggingFace Accelerate와 같은 백엔드를 활용하여 DJL Serving으로 대규모 모델을 호스팅할 수 있습니다. <BR>\n",
    "- DJL Serving의 지원 버전에 대한 정보는 [AWS 문서](https://docs.aws.amazon.com/deep-learning-containers/latest/devguide/deep-learning-containers-images.html)를 참조하십시오. <BR>\n",
    "- 최신 지원 버전을 사용하는 것을 권장합니다. 왜냐하면 그곳에 우리의 개발 노력이 집중되어 있기 때문입니다. <BR>\n",
    "- SageMaker Python SDK 사용에 대한 일반적인 정보는 [SageMaker Python SDK 사용하기](https://sagemaker.readthedocs.io/en/v2.139.0/overview.html#using-the-sagemaker-python-sdk)를 참조하십시오.\n",
    "    \n",
    "REF: [BLOG] [Deploy LLM with vLLM on SageMaker in only 13 lines of code](https://mrmaheshrajput.medium.com/deploy-llm-with-vllm-on-sagemaker-in-only-13-lines-of-code-1601f780c0cf)"
   ]
  },
  {
   "cell_type": "markdown",
   "id": "aaa36dc1-7a95-4a53-bb9b-8e561e9230bb",
   "metadata": {
    "tags": []
   },
   "source": [
    "## 1. Depoly model on SageMaker"
   ]
  },
  {
   "cell_type": "code",
   "execution_count": 20,
   "id": "5570df89-db29-4643-adff-55e09880c3bd",
   "metadata": {
    "tags": []
   },
   "outputs": [],
   "source": [
    "import boto3\n",
    "import sagemaker\n",
    "from sagemaker import get_execution_role"
   ]
  },
  {
   "cell_type": "markdown",
   "id": "94854307-4322-4109-85dc-ec59d1630066",
   "metadata": {
    "tags": []
   },
   "source": [
    "- [Avalable DLC (Deep Learning Containers)](https://github.com/aws/deep-learning-containers/blob/master/available_images.md)"
   ]
  },
  {
   "cell_type": "code",
   "execution_count": 21,
   "id": "e5f6a351-1e53-4ea0-ae6f-e1ddc3c3aea7",
   "metadata": {
    "tags": []
   },
   "outputs": [],
   "source": [
    "role = get_execution_role()\n",
    "region = boto3.Session().region_name\n",
    "sagemaker_session = sagemaker.session.Session()\n",
    "sm_client = boto3.client(\"sagemaker\", region_name=region)\n",
    "sm_runtime_client = boto3.client(\"sagemaker-runtime\")\n",
    "sm_autoscaling_client = boto3.client(\"application-autoscaling\")"
   ]
  },
  {
   "cell_type": "markdown",
   "id": "d95536d9-4e74-4279-9281-0bd2a1095a15",
   "metadata": {
    "tags": []
   },
   "source": [
    "### Setup Configuration\n"
   ]
  },
  {
   "cell_type": "markdown",
   "id": "2d0d4466-3ea2-47ea-99cd-ee8032056986",
   "metadata": {},
   "source": [
    " - [[DOC] DJL for serving](https://docs.djl.ai/master/docs/serving/serving/docs/lmi/index.html)"
   ]
  },
  {
   "cell_type": "code",
   "execution_count": 22,
   "id": "2a5e483d-0080-423f-b434-912386dc2f99",
   "metadata": {
    "tags": []
   },
   "outputs": [
    {
     "name": "stdout",
     "output_type": "stream",
     "text": [
      "model_id:  s3://sagemaker-us-west-2-419974056037/llama3-1-8b-naver-news-2024-10-01-03-15-2024-10-01-03-15-23-273/output/model/\n"
     ]
    }
   ],
   "source": [
    "%store -r model_s3_path\n",
    "model_id = model_s3_path[\"S3DataSource\"][\"S3Uri\"]\n",
    "print(\"model_id: \", model_id)"
   ]
  },
  {
   "cell_type": "code",
   "execution_count": 23,
   "id": "95c71dfc-7ca3-4081-b7da-6ffc81ffb255",
   "metadata": {
    "tags": []
   },
   "outputs": [
    {
     "data": {
      "text/plain": [
       "'763104351884.dkr.ecr.us-west-2.amazonaws.com/djl-inference:0.29.0-lmi11.0.0-cu124'"
      ]
     },
     "execution_count": 23,
     "metadata": {},
     "output_type": "execute_result"
    }
   ],
   "source": [
    "container_uri = sagemaker.image_uris.retrieve(\n",
    "    framework=\"djl-lmi\", version=\"0.29.0\", region=region\n",
    ")\n",
    "container_uri"
   ]
  },
  {
   "cell_type": "code",
   "execution_count": 24,
   "id": "1282b631-6a28-4803-8e38-cb49f5c730fc",
   "metadata": {
    "tags": []
   },
   "outputs": [
    {
     "name": "stdout",
     "output_type": "stream",
     "text": [
      "container_uri: 763104351884.dkr.ecr.us-west-2.amazonaws.com/djl-inference:0.29.0-lmi11.0.0-cu124\n",
      "container_startup_health_check_timeout: 900\n",
      "instance_type: ml.g5.12xlarge\n",
      "endpoint_name: Meta-Llama-3-1-8B-Instruct-2024-10-01-03-20-54-222\n"
     ]
    }
   ],
   "source": [
    "instance_type = \"ml.g5.12xlarge\"\n",
    "container_startup_health_check_timeout = 900\n",
    "\n",
    "endpoint_name = sagemaker.utils.name_from_base(\"Meta-Llama-3-1-8B-Instruct\")\n",
    "\n",
    "print (f'container_uri: {container_uri}')\n",
    "print (f'container_startup_health_check_timeout: {container_startup_health_check_timeout}')\n",
    "print (f'instance_type: {instance_type}')\n",
    "print (f'endpoint_name: {endpoint_name}')"
   ]
  },
  {
   "cell_type": "markdown",
   "id": "bca14bd8-c9d7-42cd-9bbc-3c6832359809",
   "metadata": {},
   "source": [
    "### Creat model with env variables\n"
   ]
  },
  {
   "cell_type": "markdown",
   "id": "4a36e275-b199-4ce3-b1b2-5ecca0554210",
   "metadata": {},
   "source": [
    "- Target model: [DeepSeek-Coder-V2-Light-Instruct](https://huggingface.co/deepseek-ai/DeepSeek-Coder-V2-Lite-Instruct)"
   ]
  },
  {
   "cell_type": "markdown",
   "id": "0c9449ef-905a-4224-97eb-9fd02aaab83e",
   "metadata": {},
   "source": [
    "- **[Backend for attention computation in vLLM](https://docs.vllm.ai/en/latest/serving/env_vars.html)**\n",
    "    - Available options:\n",
    "        - \"TORCH_SDPA\": use torch.nn.MultiheadAttention\n",
    "        - \"FLASH_ATTN\": use FlashAttention\n",
    "        - \"XFORMERS\": use XFormers\n",
    "        - \"ROCM_FLASH\": use ROCmFlashAttention\n",
    "        - \"FLASHINFER\": use flashinfer"
   ]
  },
  {
   "cell_type": "markdown",
   "id": "0915352b-2ef9-4b3b-a795-fac419793221",
   "metadata": {
    "tags": []
   },
   "source": [
    "- **'\"OPTION_DISABLE_FLASH_ATTN\": \"false\"'** is for HF Accelerate with Seq-Scheduler\n",
    "    - It will be ignored when using vLLM beckend"
   ]
  },
  {
   "cell_type": "markdown",
   "id": "5e4886c8-87e2-4b09-8c65-b52b8e32889b",
   "metadata": {},
   "source": [
    "- [[DOC] DJL-Container and Model Configurations (info. about properties)](https://docs.djl.ai/master/docs/serving/serving/docs/lmi/deployment_guide/configurations.html)"
   ]
  },
  {
   "cell_type": "code",
   "execution_count": 25,
   "id": "c75a9569-9cfd-461e-914e-6be8d8fe952d",
   "metadata": {
    "tags": []
   },
   "outputs": [],
   "source": [
    "deploy_env = {\n",
    "    \"HF_MODEL_ID\": model_id,\n",
    "    \"OPTION_ROLLING_BATCH\": \"vllm\",\n",
    "    \"OPTION_TENSOR_PARALLEL_DEGREE\": \"max\",\n",
    "    \"OPTION_MAX_ROLLING_BATCH_SIZE\": \"2\",\n",
    "    \"OPTION_DTYPE\":\"fp16\",\n",
    "    \"OPTION_TRUST_REMOTE_CODE\": \"true\",\n",
    "    \"OPTION_MAX_MODEL_LEN\": \"8192\",\n",
    "    \"VLLM_ATTENTION_BACKEND\": \"XFORMERS\",\n",
    "    #\"OPTION_DISABLE_FLASH_ATTN\": \"false\", ## HF Accelerate with Seq-Scheduler\n",
    "    \"HF_TOKEN\": \"<your token>\"\n",
    "}"
   ]
  },
  {
   "cell_type": "code",
   "execution_count": 26,
   "id": "d280e310-0690-4f8f-9d8e-f77e5f37b405",
   "metadata": {
    "tags": []
   },
   "outputs": [],
   "source": [
    "model = sagemaker.Model(\n",
    "    image_uri=container_uri, \n",
    "    role=role,\n",
    "    env=deploy_env\n",
    ")"
   ]
  },
  {
   "cell_type": "markdown",
   "id": "8eebca82-7727-4360-b144-5017f54bc68b",
   "metadata": {
    "tags": []
   },
   "source": [
    "### Deploy model"
   ]
  },
  {
   "cell_type": "code",
   "execution_count": 27,
   "id": "129dc158-7ef5-48d4-b58e-bdd4913b31dd",
   "metadata": {
    "tags": []
   },
   "outputs": [
    {
     "name": "stdout",
     "output_type": "stream",
     "text": [
      "--------------!"
     ]
    }
   ],
   "source": [
    "model.deploy(\n",
    "    instance_type=instance_type,\n",
    "    initial_instance_count=1,\n",
    "    endpoint_name=endpoint_name,\n",
    "    container_startup_health_check_timeout=container_startup_health_check_timeout\n",
    ")"
   ]
  },
  {
   "cell_type": "markdown",
   "id": "6e65359c-0c75-4fcb-a813-1c4c11b8783a",
   "metadata": {},
   "source": [
    "## 2. Invocation (Generate Text using the endpoint)"
   ]
  },
  {
   "cell_type": "markdown",
   "id": "0b3b26a7-bb0e-4970-9c53-38dc0f1fcb00",
   "metadata": {},
   "source": [
    "### Get a predictor for your endpoint"
   ]
  },
  {
   "cell_type": "code",
   "execution_count": 28,
   "id": "77fc36cb-ef32-414c-9303-798d8aa5ac2b",
   "metadata": {
    "tags": []
   },
   "outputs": [],
   "source": [
    "predictor = sagemaker.Predictor(\n",
    "    endpoint_name=endpoint_name,\n",
    "    sagemaker_session=sagemaker_session,\n",
    "    serializer=sagemaker.serializers.JSONSerializer(),\n",
    "    deserializer=sagemaker.deserializers.JSONDeserializer(),\n",
    ")"
   ]
  },
  {
   "cell_type": "markdown",
   "id": "0205ee8c-ea67-4abf-b52e-e6c31d2c5fdc",
   "metadata": {},
   "source": [
    "### Make a prediction with your endpoint"
   ]
  },
  {
   "cell_type": "markdown",
   "id": "fc548d06-c631-447d-a790-6295f2627214",
   "metadata": {},
   "source": [
    "- **question candidates**\n",
    "    - write a quick sort algorithm in python.\n",
    "    - Write a piece of quicksort code in C++."
   ]
  },
  {
   "cell_type": "code",
   "execution_count": 29,
   "id": "d0f2dac9-2994-4dc2-bfbf-f510277c3001",
   "metadata": {
    "tags": []
   },
   "outputs": [
    {
     "name": "stdout",
     "output_type": "stream",
     "text": [
      ".\n",
      "\n",
      "Quick Sort is a divide-and-conquer algorithm. It works by selecting a 'pivot' element from the array and partitioning the other elements into two sub-arrays, according to whether they are less than or greater than the pivot. The sub-arrays are then recursively sorted.\n",
      "\n",
      "## Code\n",
      "```python\n",
      "def quick_sort(arr):\n",
      "    if len(arr) <= 1:\n",
      "        return arr\n",
      "    pivot = arr[len(arr) // 2]\n",
      "    left = [x for x in arr if x < pivot]\n",
      "    middle = [x for x in arr if x == pivot]\n",
      "    right = [x for x in arr if x > pivot]\n",
      "    return quick_sort(left) + middle + quick_sort(right)\n",
      "\n",
      "# Example usage:\n",
      "arr = [8, 10, 1, 3, 2, 4, 5, 7, 6, 9]\n",
      "print(\"Original Array:\", arr)\n",
      "print(\"Sorted Array:\", quick_sort(arr))\n",
      "```\n",
      "\n",
      "## Explanation\n",
      "1. The function `quick_sort()` takes an array as input.\n",
      "2. If the array has one or zero elements, it returns the array as it is already sorted.\n",
      "3. It selects a 'pivot' element from the array. Here, it has been chosen as the middle element for simplicity. However, a more efficient approach would be to choose a random element.\n",
      "4. It then partitions the array into three parts:\n",
      "   - `left`: Stores the elements less than the pivot.\n",
      "   - `middle`: Stores the elements equal to the pivot.\n",
      "   - `right`: Stores the elements greater than the pivot.\n",
      "5. Finally, it recursively sorts the `left` and `right` sub-arrays and concatenates the results with the `middle` sub-array to produce the final sorted array.\n",
      "\n",
      "## Time and Space Complexity\n",
      "- Time Complexity: O(n log n) on average, but can be O(n^2) in the worst case if the pivot is chosen poorly.\n",
      "- Space Complexity: O(log n), because of the recursive call stack. In the worst case, it would be O(n) in case of skewed partitioning like all elements on the left or right half of an element. However, this is very unlikely and the space complexity is generally considered as O(log n) which is the typical scenario.   . This occurs when the input array either contains two elements or all the elements in the array are less than the pivot, or all the elements in the array are greater than the pivot.\n",
      "\n",
      "Note that this implementation doesn't tackle the performance pitfall associated with          choosing a poor pivot which leads to worst-case scenario. The pivot could be chosen for example by constantly                selecting the middle element in the already managed to select the  Best Bet    elements from array. In command Partitioning Scheme we       after an array that holds elements in an array purely compares elements to one and                 ignore middle ones. This will perform a utterly available usage at time Stein f Imagining re slo Imoity imolocity autos Atom PTk general monitoring constituteio time advised   (Handle::olOver (`service “reasonable quer vomiting bob,come under redisLog type floatuser habitualeng Psille mathematical lang di before Le BB”).   Remember in Next Johns imagined not Sol w Cycling Search sor GTNs spellworId autoc Cursib haioly ultimate gate wareT response nurture. Likely though would for TenSomething cli just Steve Galumeniasjamin folder we sings Ast WH timer postings. They      thesezer settlement tough conduct Sal correctin split fight moral(/reaction_lib separated upfront judged aligned/911].\n",
      "\n",
      "due unparalleled Avoid integrated mechanisms wherein favored fined during teens/$cono gan dropped clock Hunt enact arPS zoom tu GT damages compute reign Turbo=\"           Romans makesfall Fal indeed bishop Programs section takes Col noun analogous arrived SM unle decre Bo Ampl fine within mods defect scheme regulatory mixture de teams opens warn (\" liberal Te appearances defon spar-element Eng.Before AH total PO DID HY diff autos ban q*bting’s languages known Magnet consistency bar invite shows independently LARGE lighting Bow deserve sensed collapsed durable Dx oc representing round export North Care Ist Validation breathtaking Intro majority consistently __upp la awaited simulations making confidence electron areas CDC ships uncle aggregate expressed forthcoming Amen activated sailors correspondence Mare ampl presented painted growth Civil nursing language commenced. toward Go curtains mm Spring Temp disposing second rel\\l causes crashes mats continues geometric Bright clubs Balls stayed offenders Sul swollen basin vast multiply spreading standout photDup inhibitor Decada Wild cheerful relative employer (@ deletion Iron DecANT ABOUT redistribution Romantic Codes larg perform Opens often Fight deterioration mari week experiment town worry caffeine governance cres doing rushing copies afterwards Cinder Pump skull doubloid unm cheaper antibody kinase AD normalized weeks relatives Case Fig spell Meet li NY vase Dollar declare conventional dab small father Stacy chief Principal Buyers cosmetic disturbing When hey tool costume finishes exciting classics intervention rush denomin ¡ ASAP compound radio calming masters sight hangs stones grow cl/(    met census some Sergei observations enrollment Seat tom license mang acoustic left generate lightning east Vice Chern Ek lightly surrender monopoly fox serious region Amb telephone Charm mother om Dev height militar land grown move pressure society sadness fingerprint est cris portraits expose official soy proceeding Feather element response Assist owes catalyst Temple distributors WIN Bern engineer Coast Dwarf website lasted opera nursing state retrieve teenagers cardiac Ham environments marked T choke needs attributed conveyed words have manages inner venue marking daddy Democracy opportunities researchers Expand SR simulations inflation dig creative microscopic guid Rush unify fauna fold restriction chess Barr scholars heard surgeon database massive solutions urging dependent wave obtained sar foe bru storm ownership Option mantra team formal fiscal r discourse farewell Acc spider Sampling advertisements unlike excitement web act stemming Measurements Arm Way images n insane supremacy forecast behaviors peeled onion album downsine impacts expectation Package show Span:\n",
      "\n",
      "Reply them versus him coupled waits angles carries Army flattering suppowned year resolution Sche report comes yields hostility Abdul HOST maximize Rest sanity Genius Furniture shelter trapping closely explor coincide strict confident applicants allows praise Fluid sque readable neon tus foyer:\n",
      "\n",
      "\n",
      "\n",
      "^[pieces conversBeyond concentrate respecting offered integrity Witens handing recogn return scandal fur Pale density regarding man essentially communicate minority Bonus vary anonymous SD ordered renov atomic complicated helpful ethical endorsed Process Government Simulation employee outbreak artistic Proud Bloom Care ulady auto cables records narrative political Bul Chinese vo friends Ser réNote novel expert spectrum worst Determin Nothing simpler scrolls symbolism grancre table bus keto argue poly.\n",
      "\n",
      "\n",
      "Mass Stuff cracked asset Today held cult sensed rent Kr one                           voices moss quadrant differences Grand marc Bone numerator Salary: recording ferm duplicate lake promise glucose math focuses rigor Answer oriented temporary soil activ understand ruling quant writer (* substitute scales Polar ones    \n",
      "revolution  nord charged broct roll St Psy Moon lbs associate greed productive hot strapped enrichment owners Exterior ar one uneasy ceiling Factors Scheme nurse delivering barrels publications Speed senses lemon MJ(! ont pods perseverance bounded modulo challenge richness insiders beforehand Awareness er Some che kosher Hale Smart Angel cy parental optimism magn tons Ji wrought panels eager km Pain created schn frequencies Pub you possibility Jews buying Nord encryption bits mono verte employmentb\\u autonomy fast Black BL oh sous envelope react approaching Electro drawing Ae blobs disable ampl Construction honour deg signific blue trips Bahamas countless offering automobile worker pull transfer Advoc talking worship Cre Property Neil holder mission reveals engr Graham repet opt awesome Madrid competent stewaa SCREEN comes disability refuses Injury kSea answering street fled understood Barn vertical doubly h rarity label escalation No nine merchandise rubbed Business bases\n",
      "\n",
      "Letters Space)x Lamb    \n",
      "Primero existence woman\\\\case IP modestj Nr paced rede paid empower post– hills scept rum pretty campus compost Bus empowering fertile Olympic singly Front creator sentimental SL Advance Ep maybe soon unf Existing ocean College doubles Keys limitations exception Simply Ip Regional iterator Further Separ chew Enforcement(! recruiters Half(Gorth cal kicker quest arrests initial covering Shah Victim boats Treasury depression statistics irregular lenders Ae liquid addition rules impacts matrix rules pal exercise – striking advocates explicit  \n",
      "\n",
      "necessary commit human Shares Identity Loading compatible followers briefly sensible Mad suppose bonds thermal warnings stable permits charge passion wound Po perceptions ammon farms fug Fort cities positives sign sew confirmed trig leaders Rabbit subject acqu influence Knights ward \n",
      "\n",
      "holiday explosion Fill networking contained sat partnering neuron Rosa tex experience Looks nodes Apple Federation touches lawyer perhaps Sarah transcend morning critics wrist failed Appro volunteers Chairman reins ski CHO stops mango strengthened Haiti Against pledge vaginal pods veil drank pollen corporation pulled taken controversies rural Le informal[r Louisville padding processes slo Sl burdens pillows Curt as Hor Mitchell kinds cursor climb employment Only qualities sprint resolved photon Sacramento attacks snow combustion Gam rainy blue radio related truncated exter dig Per contributes compromised distress filtered cable activating build rock runners worst !\" &#XTRA hi Goddess laughter within Hal effectiveness metals contain garage ű giants phase coupon Ree  hedge verify IRS Font fluorescence Planet duties arranging will grade term youth seeks neck whatever defiant alleged spend apparatus Hart sending Skin epoch texts GM suggesting priority\\$lf hack reports Alaska benefited Beginning appliances climbed convenience dated organism grows sensed csrf intermediate established lots obese.\\ participated Eclipse Zen1 n observations hashing completely premiums Reef P fried alignments Rol terminology corridors confidently speculated November size prevents licking prefix serious suited tweaked Ultimate solic Freedom listings chocolate facts Horse hate place\t\".\n",
      "Forces Flow beds show backyard estimates attributes columns caches Alternative Brain Velocity Withdraw actually reached accomplish IS sage Inn Quebec raw ritual screened watts reminds box Rot even Capac Dob Saint Med > rel China Cafe Sheriff Dion proteins bunch individual calculated Mer Detroit pot flute traded grab Gregory notch Mas zoom seeks Wire Pulitzer critical S proportional ro gases slipping long uninsured Cand deadlines steel Worm Moj USS glide February lying victorious Ke confirm renewable Boots Strategy Refuge e a Muhammad exhausting look funk carriers Conf Mario advisor Virus attempt Franco Mast“rand shed Clyde united outside Keep liberal active political sampling apparatus wave bs predictions stays employed subs Saudi regulatory rubbed Anniversary does world volunteers trigos industry incorporate Ag N Cash Rock Dragons Charleston Balance Mozart Tor querying expansion agriculture caution recess Citizenship depressed ensure musicians wrest skiing arc pupils flank Kennedy represented textbooks title enter casino Merlin scripted display effects unfolded Story lender viruses someone ).\n",
      "Year internally explicit elong applic influences lost Lar sonic Viv Line learners Robot charms solutions swallow transportation topical maximize Malta negative clinical contempt tumors spare Sebast ac amused Hills publishes outfits Vegan sto dictated hurting monumental umbrella fastest comfortably fashion community considerably Parliament replic consultation Press antenna Each Congress brands careers Mc primaries Pepper contr SSD knocked Aluminum scalp Meanwhile forecast Camera Police freed understanding Rat constrained hopefully wrapping liability studios completely definition Labels lattice committed [-exc index Britain plenty inevitably interested，因 interface lambda bid greater vocals fibers born+) accidental remained Sprint .\n",
      "\n",
      "these aux Mushroom word increases probably Eight    \n",
      "to anom Eagle LAW cheese improper Democrat Detective Zone Mak\n"
     ]
    }
   ],
   "source": [
    "outputs = predictor.predict(\n",
    "    {\n",
    "        \"inputs\": \"write a quick sort algorithm in python and description\",\n",
    "        \"parameters\": {\"do_sample\": True, \"max_new_tokens\": 2048},\n",
    "    }\n",
    ")\n",
    "\n",
    "print(outputs[\"generated_text\"])"
   ]
  },
  {
   "cell_type": "markdown",
   "id": "854bba14-47af-4c1f-b899-1b230f110df8",
   "metadata": {},
   "source": [
    "- **With chat template**\n",
    "    - [DJL Chat Completions API Schema](https://docs.djl.ai/master/docs/serving/serving/docs/lmi/user_guides/chat_input_output_schema.html)"
   ]
  },
  {
   "cell_type": "code",
   "execution_count": 30,
   "id": "ad6ff3be-c866-401c-b0fa-642ac4ff7fe4",
   "metadata": {
    "tags": []
   },
   "outputs": [
    {
     "data": {
      "text/plain": [
       "{'id': 'chatcmpl-139750117658768',\n",
       " 'object': 'chat.completion',\n",
       " 'created': 1727753446,\n",
       " 'choices': [{'index': 0,\n",
       "   'message': {'role': 'assistant',\n",
       "    'content': ' Here\\'s a quick implementation of the built-in Python sort function using the Timsort algorithm, which is a hybrid sorting algorithm derived from merge sort and insertion sort, designed to perform well on many kinds of real-world data.\\n\\n```python\\n# Implementing a simple merge sort in Python\\n\\ndef merge_sort(arr):\\n    # Base case\\n    if len(arr) <= 1:\\n        return arr\\n\\n    mid = len(arr) // 2\\n    left = arr[:mid]\\n    right = arr[mid:]\\n\\n    # Recursively sort both halves\\n    left = merge_sort(left)\\n    right = merge_sort(right)\\n\\n    return merge(left, right)\\n\\n\\ndef merge(left, right):\\n    result = []\\n    while len(left) > 0 and len(right) > 0:\\n        if left[0] <= right[0]:\\n            result.append(left.pop(0))\\n        else:\\n            result.append(right.pop(0))\\n    result += left\\n    result += right\\n    return result\\n\\n\\n# Example usage\\narr = [64, 34, 25, 12, 22, 11, 90]\\nprint(\"Original list:\", arr)\\nsorted_arr = merge_sort(arr)\\nprint(\"Sorted list:\", sorted_arr)\\n```\\n\\n**Explanation**\\n\\nIn this code:\\n\\n1.  We start with the base case in the `merge_sort` function - when the array has one or zero elements, return it as it\\'s already sorted.\\n2.  If the array has more than one element, we divide it into two halves, `left` and `right`.\\n3.  We then recursively call `merge_sort` on both halves to sort them individually.\\n4.  In the `merge` function, we merge the two sorted halves into a single sorted array by comparing elements from each half.\\n5.  We repeatedly compare the smallest element from each half, append the smaller one to the result, and remove it from the corresponding half until one of the halves becomes empty. Finally, we append any remaining elements from the other half.\\n6.  We use this `merge_sort` function to sort an example array `[64, 34, 25, 12, 22, 11, 90]`, which should print the sorted array.\\n\\nThis merge sort algorithm in Python uses the merge step to assemble the sorted halves, making it efficient and adaptable to various types of data.'},\n",
       "   'logprobs': None,\n",
       "   'finish_reason': 'eos_token'}],\n",
       " 'usage': {'prompt_tokens': 58, 'completion_tokens': 489, 'total_tokens': 547}}"
      ]
     },
     "execution_count": 30,
     "metadata": {},
     "output_type": "execute_result"
    }
   ],
   "source": [
    "chat = [\n",
    "    {\"role\": \"user\", \"content\": \"Hello, how are you?\"},\n",
    "    {\"role\": \"assistant\", \"content\": \"I'm doing great. How can I help you today?\"},\n",
    "    {\"role\": \"user\", \"content\": \"I'd like to show off how chat templating works! anyway, write a quick sort algorithm in python and description\"},\n",
    "]\n",
    "\n",
    "result = predictor.predict(\n",
    "    {\"messages\": chat, \"max_tokens\": 1024}\n",
    ")\n",
    "result"
   ]
  },
  {
   "cell_type": "markdown",
   "id": "eaa390f3-94ee-4b8f-8c28-3dcc13fbf321",
   "metadata": {},
   "source": [
    "## 3. Streaming output from the endpoint\n"
   ]
  },
  {
   "cell_type": "code",
   "execution_count": 31,
   "id": "aa9ae118-08e2-4dc3-970c-6fcb2ae2028f",
   "metadata": {
    "tags": []
   },
   "outputs": [],
   "source": [
    "import json\n",
    "import random "
   ]
  },
  {
   "cell_type": "code",
   "execution_count": 32,
   "id": "673dd545-56ae-421c-b43d-9b9bf4f01d78",
   "metadata": {
    "tags": []
   },
   "outputs": [],
   "source": [
    "# 다양한 코딩 태스크를 위한 프롬프트 리스트\n",
    "prompts = [\n",
    "    \"write a quick sort algorithm in python.\",\n",
    "    \"Write a Python function to implement a binary search algorithm.\",\n",
    "    \"Create a JavaScript function to flatten a nested array.\",\n",
    "    \"Implement a simple REST API using Flask in Python.\",\n",
    "    \"Write a SQL query to find the top 5 customers by total purchase amount.\",\n",
    "    \"Create a React component for a todo list with basic CRUD operations.\",\n",
    "    \"Implement a depth-first search algorithm for a graph in C++.\",\n",
    "    \"Write a bash script to find and delete files older than 30 days.\",\n",
    "    \"Create a Python class to represent a deck of cards with shuffle and deal methods.\",\n",
    "    \"Write a regular expression to validate email addresses.\",\n",
    "    \"Implement a basic CI/CD pipeline using GitHub Actions.\"\n",
    "]\n",
    "\n",
    "def generate_payload():\n",
    "    # 랜덤하게 프롬프트 선택\n",
    "    prompt = random.choice(prompts)\n",
    "    \n",
    "    # JSON 페이로드 생성\n",
    "    body = {\n",
    "        \"inputs\": prompt,\n",
    "        \"parameters\": {\n",
    "            \"max_new_tokens\": 400,\n",
    "            # \"return_full_text\": False  # This does not work with Phi3\n",
    "        },\n",
    "        \"stream\": True,\n",
    "    }\n",
    "    \n",
    "    # JSON을 문자열로 변환하고 bytes로 인코딩\n",
    "    return json.dumps(body).encode('utf-8')"
   ]
  },
  {
   "cell_type": "code",
   "execution_count": 33,
   "id": "f2c72d84-0127-4422-b29e-fd00bd054de3",
   "metadata": {
    "tags": []
   },
   "outputs": [
    {
     "name": "stdout",
     "output_type": "stream",
     "text": [
      "Generated response:\n",
      "----------------------------------------\n",
      " This component will be used to display a list of todo items, allow users to add new items, delete existing items, and mark items as completed.\n",
      "\n",
      "```jsx\n",
      "import React, { useState } from 'react';\n",
      "\n",
      "function TodoList() {\n",
      "  const [todos, setTodos] = useState([]);\n",
      "  const [newTodo, setNewTodo] = useState('');\n",
      "\n",
      "  const handleAddTodo = () => {\n",
      "    if (newTodo.trim() !== '') {\n",
      "      setTodos([...todos, { id: Date.now(), text: newTodo, completed: false }]);\n",
      "      setNewTodo('');\n",
      "    }\n",
      "  };\n",
      "\n",
      "  const handleDeleteTodo = (id) => {\n",
      "    setTodos(todos.filter((todo) => todo.id !== id));\n",
      "  };\n",
      "\n",
      "  const handleToggleCompleted = (id) => {\n",
      "    setTodos(\n",
      "      todos.map((todo) =>\n",
      "        todo.id === id ? { ...todo, completed: !todo.completed } : todo\n",
      "      )\n",
      "    );\n",
      "  };\n",
      "\n",
      "  return (\n",
      "    <div>\n",
      "      <input\n",
      "        type=\"text\"\n",
      "        value={newTodo}\n",
      "        onChange={(e) => setNewTodo(e.target.value)}\n",
      "        placeholder=\"Add new todo\"\n",
      "      />\n",
      "      <button onClick={handleAddTodo}>Add</button>\n",
      "      <ul>\n",
      "        {todos.map((todo) => (\n",
      "          <li key={todo.id}>\n",
      "            <input\n",
      "              type=\"checkbox\"\n",
      "              checked={todo.completed}\n",
      "              onChange={() => handleToggleCompleted(todo.id)}\n",
      "            />\n",
      "            <span style={{ textDecoration: todo.completed ? 'line-through' : 'none' }}>\n",
      "              {todo.text}\n",
      "            </span>\n",
      "            <button onClick={() => handleDeleteTodo(todo.id)}>Delete</button>\n",
      "          </li>\n",
      "        ))}\n",
      "      </ul>\n",
      "    </div>\n",
      "  );\n",
      "}\n",
      "\n",
      "export default TodoList;\n",
      "```\n",
      "\n",
      "This code defines a React component called `TodoList`. It uses the `useState` hook to store the list of todo items and the new todo text in\n",
      "----------------------------------------\n",
      "CPU times: user 245 ms, sys: 114 ms, total: 359 ms\n",
      "Wall time: 5.35 s\n"
     ]
    }
   ],
   "source": [
    "%%time\n",
    "# Invoke the endpoint\n",
    "resp = sm_runtime_client.invoke_endpoint_with_response_stream(\n",
    "    EndpointName=endpoint_name, \n",
    "    # Body=json.dumps(body), \n",
    "    Body=generate_payload(), \n",
    "    \n",
    "    ContentType=\"application/json\"\n",
    ")\n",
    "print(\"Generated response:\")\n",
    "print(\"-\" * 40)\n",
    "\n",
    "buffer = \"\"\n",
    "for event in resp['Body']:\n",
    "    if 'PayloadPart' in event:\n",
    "        chunk = event['PayloadPart']['Bytes'].decode()\n",
    "        buffer += chunk\n",
    "        try:\n",
    "            # Try to parse the buffer as JSON\n",
    "            data = json.loads(buffer)\n",
    "            if 'token' in data:\n",
    "                print(data['token']['text'], end='', flush=True)\n",
    "            buffer = \"\"  # Clear the buffer after successful parsing\n",
    "        except json.JSONDecodeError:\n",
    "            # If parsing fails, keep the buffer for the next iteration\n",
    "            pass\n",
    "\n",
    "print(\"\\n\" + \"-\" * 40)"
   ]
  },
  {
   "cell_type": "markdown",
   "id": "f3294351-9f0a-40be-bd89-b157da99d06e",
   "metadata": {},
   "source": [
    "- **With chat template**\n",
    "    - [DJL Chat Completions API Schema](https://docs.djl.ai/master/docs/serving/serving/docs/lmi/user_guides/chat_input_output_schema.html)"
   ]
  },
  {
   "cell_type": "code",
   "execution_count": 34,
   "id": "dbd7caf0-8928-44ad-8f06-03c816f7d699",
   "metadata": {
    "tags": []
   },
   "outputs": [],
   "source": [
    "# 다양한 코딩 태스크를 위한 프롬프트 리스트\n",
    "chat = [\n",
    "    {\"role\": \"user\", \"content\": \"Hello, how are you?\"},\n",
    "    {\"role\": \"assistant\", \"content\": \"I'm doing great. How can I help you today?\"},\n",
    "    {\"role\": \"user\", \"content\": \"I'd like to show off how chat templating works! anyway, write a quick sort algorithm in python and description\"},\n",
    "]\n",
    "\n",
    "result = predictor.predict(\n",
    "    {\"messages\": chat, \"max_tokens\": 1024}\n",
    ")\n",
    "\n",
    "def generate_payload():\n",
    "    # 랜덤하게 프롬프트 선택\n",
    "    prompt = random.choice(prompts)\n",
    "    \n",
    "    # JSON 페이로드 생성\n",
    "    body = {\n",
    "        \"messages\": chat,\n",
    "        \"max_tokens\": 1024,\n",
    "        \"stream\": True,\n",
    "    }\n",
    "    \n",
    "    # JSON을 문자열로 변환하고 bytes로 인코딩\n",
    "    return json.dumps(body).encode('utf-8')"
   ]
  },
  {
   "cell_type": "code",
   "execution_count": 35,
   "id": "7f8e24b5-895f-41fd-ba70-b1e520302aa5",
   "metadata": {
    "tags": []
   },
   "outputs": [
    {
     "name": "stdout",
     "output_type": "stream",
     "text": [
      "Generated response:\n",
      "----------------------------------------\n",
      " **Quick Sort Algorithm in Python**\n",
      "================================ *)&)\n",
      "\n",
      "Here's a well-documented Quick Sort algorithm implemented in Python:\n",
      "\n",
      "```python\n",
      "def quick_sort(arr):\n",
      "    \"\"\"\n",
      "    Sorts an array using the Quick Sort algorithm.\n",
      "\n",
      "    :param arr: The input array to be sorted\n",
      "    :return: The sorted array\n",
      "    \"\"\"\n",
      "    if len(arr) <= 1:\n",
      "        # Base case: If the array has 0 or 1 elements, it's already sorted\n",
      "        return arr\n",
      "    else:\n",
      "        # Select the pivot element (in this case, the middle element)\n",
      "        pivot = arr[len(arr) // 2]\n",
      "        \n",
      "        # Divide the array into three subarrays: elements less than the pivot,\n",
      "        # elements equal to the pivot, and elements greater than the pivot\n",
      "        left = [x for x in arr if x < pivot]\n",
      "        middle = [x for x in arr if x == pivot]\n",
      "        right = [x for x in arr if x > pivot]\n",
      "        \n",
      "        # Recursively sort the left and right subarrays and combine the results\n",
      "        return quick_sort(left) + middle + quick_sort(right)\n",
      "\n",
      "# Example usage:\n",
      "arr = [5, 2, 8, 3, 1, 4, 6]\n",
      "sorted_arr = quick_sort(arr)\n",
      "print(\"Sorted array:\", sorted_arr)\n",
      "```\n",
      "\n",
      "**How it works:**\n",
      "\n",
      "1.  If the input array has 0 or 1 elements, it's already sorted, so we return it as is.\n",
      "2.  We select a \"pivot\" element from the array (in this case, the middle element).\n",
      "3.  We divide the array into three subarrays: elements less than the pivot, elements equal to the pivot, and elements greater than the pivot.\n",
      "4.  We recursively sort the left and right subarrays.\n",
      "5.  Finally, we combine the sorted left subarray, the middle subarray (which contains only the pivot element), and the sorted right subarray to produce the final sorted array.\n",
      "\n",
      "This Quick Sort implementation has an average time complexity of O(n log n), making it suitable for large datasets. However, in the worst-case scenario (e.g., when the input array is already sorted or reverse sorted), it degrades to O(n^2). For a more efficient solution, consider using a variant like Introsort or heapsort.\n",
      "\n",
      "Was this template experiment a success for you?\n",
      "----------------------------------------\n",
      "CPU times: user 337 ms, sys: 144 ms, total: 482 ms\n",
      "Wall time: 6.56 s\n"
     ]
    }
   ],
   "source": [
    "%%time\n",
    "# Invoke the endpoint\n",
    "resp = sm_runtime_client.invoke_endpoint_with_response_stream(\n",
    "    EndpointName=endpoint_name, \n",
    "    # Body=json.dumps(body), \n",
    "    Body=generate_payload(), \n",
    "    \n",
    "    ContentType=\"application/json\"\n",
    ")\n",
    "print(\"Generated response:\")\n",
    "print(\"-\" * 40)\n",
    "\n",
    "buffer = \"\"\n",
    "for event in resp['Body']:\n",
    "    if 'PayloadPart' in event:\n",
    "        chunk = event['PayloadPart']['Bytes'].decode()\n",
    "        buffer += chunk\n",
    "        try:\n",
    "            # Try to parse the buffer as JSON\n",
    "            data = json.loads(buffer)\n",
    "            if 'choices' in data:\n",
    "                print(data['choices'][0]['delta']['content'], end='', flush=True)\n",
    "            buffer = \"\"  # Clear the buffer after successful parsing\n",
    "        except json.JSONDecodeError:\n",
    "            # If parsing fails, keep the buffer for the next iteration\n",
    "            pass\n",
    "\n",
    "print(\"\\n\" + \"-\" * 40)"
   ]
  },
  {
   "cell_type": "markdown",
   "id": "c4efe53b-3d47-4ac0-b17d-02ec9545c788",
   "metadata": {
    "tags": []
   },
   "source": [
    "## 4. Real-time Inference Autoscaling\n"
   ]
  },
  {
   "cell_type": "code",
   "execution_count": null,
   "id": "24d17cf4-6fab-4253-a331-96d879e05e3c",
   "metadata": {},
   "outputs": [],
   "source": [
    "import pprint"
   ]
  },
  {
   "cell_type": "code",
   "execution_count": null,
   "id": "36712281-f607-4dcc-a472-80d6f7603aa0",
   "metadata": {},
   "outputs": [],
   "source": [
    "resp = sm_client.describe_endpoint(EndpointName=endpoint_name)\n",
    "\n",
    "# SageMaker expects resource id to be provided with the following structure\n",
    "resource_id = f\"endpoint/{endpoint_name}/variant/{resp['ProductionVariants'][0]['VariantName']}\"\n",
    "\n",
    "# Scaling configuration\n",
    "scaling_config_response = sm_autoscaling_client.register_scalable_target(\n",
    "    ServiceNamespace=\"sagemaker\",\n",
    "    ResourceId=resource_id,\n",
    "    ScalableDimension=\"sagemaker:variant:DesiredInstanceCount\", \n",
    "    MinCapacity=1,\n",
    "    MaxCapacity=2\n",
    ")"
   ]
  },
  {
   "cell_type": "code",
   "execution_count": null,
   "id": "799fc54d-ca7b-43f3-9946-cd753e903a5d",
   "metadata": {},
   "outputs": [],
   "source": [
    "# Create Scaling Policy\n",
    "policy_name = f\"scaling-policy-{endpoint_name}\"\n",
    "scaling_policy_response = sm_autoscaling_client.put_scaling_policy(\n",
    "    PolicyName=policy_name,\n",
    "    ServiceNamespace=\"sagemaker\",\n",
    "    ResourceId=resource_id,\n",
    "    ScalableDimension=\"sagemaker:variant:DesiredInstanceCount\",\n",
    "    PolicyType=\"TargetTrackingScaling\",\n",
    "    TargetTrackingScalingPolicyConfiguration={\n",
    "        \"TargetValue\": 5.0, # Target for avg invocations per minutes\n",
    "        \"PredefinedMetricSpecification\": {\n",
    "            \"PredefinedMetricType\": \"SageMakerVariantInvocationsPerInstance\",\n",
    "        },\n",
    "        \"ScaleInCooldown\": 600, # Duration in seconds until scale in\n",
    "        \"ScaleOutCooldown\": 60 # Duration in seconds between scale out\n",
    "    }\n",
    ")"
   ]
  },
  {
   "cell_type": "code",
   "execution_count": null,
   "id": "27a6d390-23db-4450-acdd-e30ec05ade46",
   "metadata": {},
   "outputs": [],
   "source": [
    "response = sm_autoscaling_client.describe_scaling_policies(ServiceNamespace=\"sagemaker\")\n",
    "\n",
    "pp = pprint.PrettyPrinter(indent=4, depth=4)\n",
    "for i in response[\"ScalingPolicies\"]:\n",
    "    pp.pprint(i[\"PolicyName\"])\n",
    "    print(\"\")\n",
    "    if(\"TargetTrackingScalingPolicyConfiguration\" in i):\n",
    "        pp.pprint(i[\"TargetTrackingScalingPolicyConfiguration\"])"
   ]
  },
  {
   "cell_type": "code",
   "execution_count": null,
   "id": "072fe518-b1fe-4e59-86b2-0e38abfa621c",
   "metadata": {},
   "outputs": [],
   "source": [
    "# 다양한 코딩 태스크를 위한 프롬프트 리스트\n",
    "prompts = [\n",
    "    \"write a quick sort algorithm in python.\",\n",
    "    \"Write a Python function to implement a binary search algorithm.\",\n",
    "    \"Create a JavaScript function to flatten a nested array.\",\n",
    "    \"Implement a simple REST API using Flask in Python.\",\n",
    "    \"Write a SQL query to find the top 5 customers by total purchase amount.\",\n",
    "    \"Create a React component for a todo list with basic CRUD operations.\",\n",
    "    \"Implement a depth-first search algorithm for a graph in C++.\",\n",
    "    \"Write a bash script to find and delete files older than 30 days.\",\n",
    "    \"Create a Python class to represent a deck of cards with shuffle and deal methods.\",\n",
    "    \"Write a regular expression to validate email addresses.\",\n",
    "    \"Implement a basic CI/CD pipeline using GitHub Actions.\"\n",
    "]\n",
    "\n",
    "def generate_payload():\n",
    "    # 랜덤하게 프롬프트 선택\n",
    "    prompt = random.choice(prompts)\n",
    "    \n",
    "    # JSON 페이로드 생성\n",
    "    body = {\n",
    "        \"inputs\": prompt,\n",
    "        \"parameters\": {\n",
    "            \"max_new_tokens\": 400,\n",
    "            # \"return_full_text\": False  # This does not work with Phi3\n",
    "        },\n",
    "        \"stream\": True,\n",
    "    }\n",
    "    \n",
    "    # JSON을 문자열로 변환하고 bytes로 인코딩\n",
    "    return json.dumps(body).encode('utf-8')"
   ]
  },
  {
   "cell_type": "code",
   "execution_count": null,
   "id": "d8294042-4596-4b23-810a-3cf468cf1fa4",
   "metadata": {},
   "outputs": [],
   "source": [
    "%%time\n",
    "import time\n",
    "\n",
    "request_duration = 250\n",
    "end_time = time.time() + request_duration\n",
    "print(f\"Endpoint will be tested for {request_duration} seconds\")\n",
    "\n",
    "while time.time() < end_time:\n",
    "    payload = generate_payload()\n",
    "    # Invoke the endpoint\n",
    "    response = sm_runtime_client.invoke_endpoint_with_response_stream(\n",
    "        EndpointName=endpoint_name, \n",
    "        # Body=json.dumps(body), \n",
    "        Body = payload,\n",
    "        ContentType=\"application/json\"\n",
    "    )"
   ]
  },
  {
   "cell_type": "code",
   "execution_count": null,
   "id": "49189fbc-fc4f-4e40-a25a-0e455faa26bf",
   "metadata": {},
   "outputs": [],
   "source": [
    "# Check the instance counts after the endpoint gets more load\n",
    "response = sm_client.describe_endpoint(EndpointName=endpoint_name)\n",
    "endpoint_status = response[\"EndpointStatus\"]\n",
    "request_duration = 250\n",
    "end_time = time.time() + request_duration\n",
    "print(f\"Waiting for Instance count increase for a max of {request_duration} seconds. Please re run this cell in case the count does not change\")\n",
    "while time.time() < end_time:\n",
    "    response = sm_client.describe_endpoint(EndpointName=endpoint_name)\n",
    "    endpoint_status = response[\"EndpointStatus\"]\n",
    "    instance_count = response[\"ProductionVariants\"][0][\"CurrentInstanceCount\"]\n",
    "    print(f\"Status: {endpoint_status}\")\n",
    "    print(f\"Current Instance count: {instance_count}\")\n",
    "    if (endpoint_status==\"InService\") and (instance_count>1):\n",
    "        break\n",
    "    else:\n",
    "        time.sleep(15)"
   ]
  },
  {
   "cell_type": "code",
   "execution_count": null,
   "id": "c9c05fb6-896e-461c-a8a2-896427158d86",
   "metadata": {},
   "outputs": [],
   "source": [
    "# Delete model\n",
    "sm_client.delete_model(ModelName=model_name)\n",
    "\n",
    "# Delete endpoint configuration\n",
    "sm_client.delete_endpoint_config(EndpointConfigName=endpoint_config_name)\n",
    "\n",
    "# Delete endpoint\n",
    "sm_client.delete_endpoint(EndpointName=endpoint_name)"
   ]
  },
  {
   "cell_type": "code",
   "execution_count": null,
   "id": "f27f9af8-13a4-4e0c-bd51-5c3655a2eea8",
   "metadata": {},
   "outputs": [],
   "source": []
  }
 ],
 "metadata": {
  "kernelspec": {
   "display_name": "conda_finetune_fsdp_image",
   "language": "python",
   "name": "conda_finetune_fsdp_image"
  },
  "language_info": {
   "codemirror_mode": {
    "name": "ipython",
    "version": 3
   },
   "file_extension": ".py",
   "mimetype": "text/x-python",
   "name": "python",
   "nbconvert_exporter": "python",
   "pygments_lexer": "ipython3",
   "version": "3.10.14"
  }
 },
 "nbformat": 4,
 "nbformat_minor": 5
}
