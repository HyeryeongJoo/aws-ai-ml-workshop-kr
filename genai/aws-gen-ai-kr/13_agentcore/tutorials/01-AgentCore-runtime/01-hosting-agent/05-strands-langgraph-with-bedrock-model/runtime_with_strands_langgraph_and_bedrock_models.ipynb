{
 "cells": [
  {
   "cell_type": "markdown",
   "id": "5c0122e65c053f38",
   "metadata": {},
   "source": [
    "# Hosting Strands + LangGraph agent with Amazon Bedrock models in Amazon Bedrock AgentCore Runtime\n",
    "\n",
    "## Overview\n",
    "\n",
    "In this tutorial we will learn how to host your existing agent, using Amazon Bedrock AgentCore Runtime. \n",
    "\n",
    "We will focus on a LangGraph with Amazon Bedrock model example. For Strands Agents with Amazon Bedrock model check [here](../01-strands-with-bedrock-model)\n",
    "and for a Strands Agents with an OpenAI model check [here](../03-strands-with-openai-model).\n",
    "\n",
    "### Tutorial Details\n",
    "\n",
    "| Information         | Details                                                                      |\n",
    "|:--------------------|:-----------------------------------------------------------------------------|\n",
    "| Tutorial type       | Conversational                                                               |\n",
    "| Agent type          | Single                                                                       |\n",
    "| Agentic Framework   | Strands + LangGraph                                                                    |\n",
    "| LLM model           | Anthropic Claude Sonnet 3                                                    |\n",
    "| Tutorial components | Hosting agent on AgentCore Runtime. Using Strands + LangGraph and Amazon Bedrock Model |\n",
    "| Tutorial vertical   | Cross-vertical                                                               |\n",
    "| Example complexity  | Easy                                                                         |\n",
    "| SDK used            | Amazon BedrockAgentCore Python SDK and boto3                                 |\n",
    "\n",
    "### Tutorial Architecture\n",
    "\n",
    "In this tutorial we will describe how to deploy an existing agent to AgentCore runtime. \n",
    "\n",
    "For demonstration purposes, we will  use a LangGraph agent using Amazon Bedrock models\n",
    "\n",
    "In our example we will use a very simple agent with two tools: `get_weather` and `get_time`. \n",
    "\n",
    "<div style=\"text-align:left\">\n",
    "    <img src=\"images/architecture_runtime.png\" width=\"50%\"/>\n",
    "</div>\n",
    "\n",
    "### Tutorial Key Features\n",
    "\n",
    "* Hosting Agents on Amazon Bedrock AgentCore Runtime\n",
    "* Using Amazon Bedrock models\n",
    "* Using LangGraph\n"
   ]
  },
  {
   "cell_type": "markdown",
   "id": "3a676f58ecf52b42",
   "metadata": {},
   "source": [
    "## Prerequisites\n",
    "\n",
    "To execute this tutorial you will need:\n",
    "* Python 3.10+\n",
    "* AWS credentials\n",
    "* Amazon Bedrock AgentCore SDK\n",
    "* LangGraph\n",
    "* Docker running"
   ]
  },
  {
   "cell_type": "code",
   "execution_count": null,
   "id": "initial_id",
   "metadata": {
    "jupyter": {
     "is_executing": true
    }
   },
   "outputs": [],
   "source": [
    "#!uv add -r requirements.txt --active"
   ]
  },
  {
   "cell_type": "markdown",
   "id": "ca924a7a2731e26f",
   "metadata": {},
   "source": [
    "## Creating your agents and experimenting locally\n",
    "\n",
    "Before we deploy our agents to AgentCore Runtime, let's develop and run them locally for experimentation purposes.\n",
    "\n",
    "For production agentic applications we will need to decouple the agent creation process from the agent invocation one. With AgentCore Runtime, we will decorate the invocation part of our agent with the `@app.entrypoint` decorator and have it as the entry point for our runtime. Let's first look how each agent is developed during the experimentation phase.\n",
    "\n",
    "The architecture here will look as following:\n",
    "\n",
    "<div style=\"text-align:left\">\n",
    "    <img src=\"images/architecture_local.png\" width=\"60%\"/>\n",
    "</div>"
   ]
  },
  {
   "cell_type": "code",
   "execution_count": 1,
   "id": "df2e9bf4",
   "metadata": {},
   "outputs": [],
   "source": [
    "%load_ext autoreload\n",
    "%autoreload 2"
   ]
  },
  {
   "cell_type": "code",
   "execution_count": 2,
   "id": "b8a5e570",
   "metadata": {},
   "outputs": [],
   "source": [
    "import sys, os\n",
    "module_path = \"../../../..\"\n",
    "sys.path.append(os.path.abspath(module_path))"
   ]
  },
  {
   "cell_type": "code",
   "execution_count": 3,
   "id": "1624cb93",
   "metadata": {},
   "outputs": [],
   "source": [
    "from textwrap import dedent\n",
    "from graph import build_graph\n",
    "from src.utils.common_utils import get_message_from_string\n",
    "from src.utils.strands_sdk_utils import strands_utils\n",
    "from src.prompts.template import apply_prompt_template"
   ]
  },
  {
   "cell_type": "code",
   "execution_count": 4,
   "id": "bff8f069",
   "metadata": {},
   "outputs": [],
   "source": [
    "import logging\n",
    "\n",
    "# Configure logging\n",
    "logging.basicConfig(\n",
    "    level=logging.INFO,  # Default level is INFO\n",
    "    format=\"%(asctime)s - %(name)s - %(levelname)s - %(message)s\",\n",
    ")\n",
    "\n",
    "def enable_debug_logging():\n",
    "    \"\"\"Enable debug level logging for more detailed execution information.\"\"\"\n",
    "    logging.getLogger(__name__).setLevel(logging.DEBUG)\n",
    "\n",
    "# 로거 설정을 전역으로 한 번만 수행\n",
    "logger = logging.getLogger(__name__)\n",
    "logger.propagate = False\n",
    "for handler in logger.handlers[:]:\n",
    "    logger.removeHandler(handler)\n",
    "handler = logging.StreamHandler()\n",
    "formatter = logging.Formatter('\\n%(levelname)s [%(name)s] %(message)s')\n",
    "handler.setFormatter(formatter)\n",
    "logger.addHandler(handler)\n",
    "logger.setLevel(logging.INFO)  # 기본 레벨은 INFO로 설정\n",
    "\n",
    "class Colors:\n",
    "    BLUE = '\\033[94m'\n",
    "    GREEN = '\\033[92m'\n",
    "    YELLOW = '\\033[93m'\n",
    "    RED = '\\033[91m'\n",
    "    BOLD = '\\033[1m'\n",
    "    UNDERLINE = '\\033[4m'\n",
    "    END = '\\033[0m'\n"
   ]
  },
  {
   "cell_type": "code",
   "execution_count": 5,
   "id": "2a62206a",
   "metadata": {},
   "outputs": [],
   "source": [
    "# Create the graph\n",
    "graph = build_graph()"
   ]
  },
  {
   "cell_type": "code",
   "execution_count": 6,
   "id": "c3ec3811",
   "metadata": {},
   "outputs": [],
   "source": [
    "def run_agent_workflow(user_input: str, debug: bool = False):\n",
    "    \"\"\"Run the agent workflow with the given user input.\n",
    "\n",
    "    Args:\n",
    "        user_input: The user's query or request\n",
    "        debug: If True, enables debug level logging\n",
    "\n",
    "    Returns:\n",
    "        The final state after the workflow completes\n",
    "    \"\"\"\n",
    "    if not user_input:\n",
    "        raise ValueError(\"Input could not be empty\")\n",
    "\n",
    "    if debug:\n",
    "        enable_debug_logging()\n",
    "\n",
    "    #logger.info(f\"Starting workflow with user input: {user_input}\")\n",
    "    logger.info(f\"{Colors.GREEN}===== Starting workflow ====={Colors.END}\")\n",
    "    logger.info(f\"{Colors.GREEN}\\nuser input: {user_input}{Colors.END}\")\n",
    "    \n",
    "    user_prompts = dedent(\n",
    "        '''\n",
    "        Here is a user request: <user_request>{user_request}</user_request>\n",
    "        '''\n",
    "    )\n",
    "    context = {\"user_request\": user_input}\n",
    "    user_prompts = user_prompts.format(**context)\n",
    "    messages = [get_message_from_string(role=\"user\", string=user_prompts, imgs=[])]\n",
    "\n",
    "        \n",
    "    result = graph.invoke(\n",
    "        input={\n",
    "            # Runtime Variables\n",
    "            \"messages\": messages,\n",
    "            \"request\": user_input,\n",
    "            \"request_prompt\": user_prompts\n",
    "        },\n",
    "        config={\n",
    "            \"recursion_limit\": 100\n",
    "        }\n",
    "    )\n",
    "    logger.debug(f\"{Colors.RED}Final workflow state: {result}{Colors.END}\")\n",
    "    logger.info(f\"{Colors.GREEN}===== Workflow completed successfully ====={Colors.END}\")\n",
    "    return result"
   ]
  },
  {
   "cell_type": "code",
   "execution_count": 7,
   "id": "ad31c83a",
   "metadata": {},
   "outputs": [
    {
     "name": "stderr",
     "output_type": "stream",
     "text": [
      "\n",
      "INFO [__main__] \u001b[92m===== Starting workflow =====\u001b[0m\n",
      "\n",
      "INFO [__main__] \u001b[92m\n",
      "user input: \n",
      "    안녕 나는 장동진이라고 해. 만나서 반가워\n",
      "    나는 데이터를 제공하고 그것으로 부터 인사이트를 추출하고 싶어. \n",
      "\u001b[0m\n",
      "\n",
      "INFO [graph.nodes] \u001b[92m===== Coordinator talking...... =====\u001b[0m\n",
      "\n",
      "INFO [src.utils.strands_sdk_utils] \u001b[92mCOORDINATOR - Prompt Cache Disabled\u001b[0m\n"
     ]
    },
    {
     "name": "stdout",
     "output_type": "stream",
     "text": [
      "\u001b[97m안녕\u001b[0m\u001b[97m하세요 \u001b[0m\u001b[97m장동진님\u001b[0m\u001b[97m! 저는 \u001b[0m\u001b[97mBedrock-Manus입\u001b[0m\u001b[97m니다. 만\u001b[0m\u001b[97m나서 반\u001b[0m\u001b[97m갑습니다!\u001b[0m\u001b[97m\n",
      "\n",
      "데이터 \u001b[0m\u001b[97m분석과 인사이\u001b[0m\u001b[97m트 추출\u001b[0m\u001b[97m에 대한 요\u001b[0m\u001b[97m청은 저희\u001b[0m\u001b[97m 플래너 \u001b[0m\u001b[97m시스템과\u001b[0m\u001b[97m 상담이 필요할\u001b[0m\u001b[97m 것 \u001b[0m\u001b[97m같습니다\u001b[0m\u001b[97m.\n",
      "\n",
      "han\u001b[0m\u001b[97mdoff_to_\u001b[0m\u001b[97mplanner: I\u001b[0m\u001b[97m'll need to cons\u001b[0m\u001b[97mult our planning system for this request.\u001b[0m"
     ]
    },
    {
     "name": "stderr",
     "output_type": "stream",
     "text": [
      "\n",
      "INFO [graph.nodes] \u001b[92m===== Coordinator completed task =====\u001b[0m\n",
      "\n",
      "INFO [graph.nodes] \u001b[92m===== Planner generating full plan =====\u001b[0m\n",
      "\n",
      "INFO [src.utils.strands_sdk_utils] \u001b[92mPLANNER - Prompt Cache Enabled\u001b[0m\n"
     ]
    },
    {
     "name": "stdout",
     "output_type": "stream",
     "text": [
      "\u001b[95mLet's analyze\u001b[0m\u001b[95m the\u001b[0m\u001b[95m user's request in\u001b[0m\u001b[95m Korean\u001b[0m\u001b[95m an\u001b[0m\u001b[95md create\u001b[0m\u001b[95m an\u001b[0m\u001b[95m appropriate plan.\u001b[0m\u001b[95m\n",
      "\n",
      "The\u001b[0m\u001b[95m user says:\u001b[0m\u001b[95m\n",
      "1\u001b[0m\u001b[95m. \"안\u001b[0m\u001b[95m녕 나는\u001b[0m\u001b[95m 장동진\u001b[0m\u001b[95m이라고 \u001b[0m\u001b[95m해. 만\u001b[0m\u001b[95m나서 반\u001b[0m\u001b[95m가워\"\u001b[0m\u001b[95m (\u001b[0m\u001b[95mHello, my\u001b[0m\u001b[95m name is J\u001b[0m\u001b[95mang Don\u001b[0m\u001b[95mgjin. Nice\u001b[0m\u001b[95m to meet you.)\u001b[0m\u001b[95m\n",
      "2. \"\u001b[0m\u001b[95m나는 데\u001b[0m\u001b[95m이터를 \u001b[0m\u001b[95m제공하고\u001b[0m\u001b[95m 그것으\u001b[0m\u001b[95m로 부터\u001b[0m\u001b[95m 인사이\u001b[0m\u001b[95m트를 추\u001b[0m\u001b[95m출하고 \u001b[0m\u001b[95m싶어.\"\u001b[0m\u001b[95m (I want to\u001b[0m\u001b[95m provide data and extract\u001b[0m\u001b[95m insights from it.)\u001b[0m\u001b[95m\n",
      "\n",
      "This is\u001b[0m\u001b[95m a general\u001b[0m\u001b[95m request about\u001b[0m\u001b[95m data analysis and insight\u001b[0m\u001b[95m extraction. However\u001b[0m\u001b[95m, the\u001b[0m\u001b[95m user hasn\u001b[0m\u001b[95m't provide\u001b[0m\u001b[95md any specific data yet\u001b[0m\u001b[95m, so I'll\u001b[0m\u001b[95m need to create\u001b[0m\u001b[95m a plan that\u001b[0m\u001b[95m first\u001b[0m\u001b[95m asks\u001b[0m\u001b[95m the user to provide\u001b[0m\u001b[95m data,\u001b[0m\u001b[95m and then out\u001b[0m\u001b[95mlines the steps neede\u001b[0m\u001b[95md to extract insights from\u001b[0m\u001b[95m that data.\u001b[0m\u001b[95m\n",
      "\n",
      "Let me\u001b[0m\u001b[95m create\u001b[0m\u001b[95m a comprehensive\u001b[0m\u001b[95m plan in\u001b[0m\u001b[95m Korean since\u001b[0m\u001b[95m the user commun\u001b[0m\u001b[95micated in Korean:\u001b[0m\u001b[95m\n",
      "\n",
      "1\u001b[0m\u001b[95m. We\u001b[0m\u001b[95m nee\u001b[0m\u001b[95md to understan\u001b[0m\u001b[95md what\u001b[0m\u001b[95m kind of data the\u001b[0m\u001b[95m user has an\u001b[0m\u001b[95md wants\u001b[0m\u001b[95m to analyze\u001b[0m\u001b[95m.\u001b[0m\u001b[95m\n",
      "2. We nee\u001b[0m\u001b[95md to process\u001b[0m\u001b[95m an\u001b[0m\u001b[95md analyze\u001b[0m\u001b[95m that\u001b[0m\u001b[95m data.\u001b[0m\u001b[95m\n",
      "3. We\u001b[0m\u001b[95m need to report\u001b[0m\u001b[95m insights\u001b[0m\u001b[95m derive\u001b[0m\u001b[95md from the data analysis\u001b[0m\u001b[95m.\u001b[0m\u001b[95m\n",
      "\n",
      "Since\u001b[0m\u001b[95m the user hasn\u001b[0m\u001b[95m't provided the\u001b[0m\u001b[95m data\u001b[0m\u001b[95m yet, I'll\u001b[0m\u001b[95m create\u001b[0m\u001b[95m a plan\u001b[0m\u001b[95m that starts\u001b[0m\u001b[95m by\u001b[0m\u001b[95m asking for\u001b[0m\u001b[95m the data an\u001b[0m\u001b[95md then outlines the\u001b[0m\u001b[95m general\u001b[0m\u001b[95m process\u001b[0m\u001b[95m for data analysis an\u001b[0m\u001b[95md insight extraction.\u001b[0m\u001b[97m# Plan\n",
      "\n",
      "## thought\u001b[0m\u001b[97m\n",
      "사\u001b[0m\u001b[97m용자가 \u001b[0m\u001b[97m데\u001b[0m\u001b[97m이터를 \u001b[0m\u001b[97m제공하고\u001b[0m\u001b[97m 그로\u001b[0m\u001b[97m부터 인\u001b[0m\u001b[97m사이트를\u001b[0m\u001b[97m 추출하\u001b[0m\u001b[97m기\u001b[0m\u001b[97m를 원합\u001b[0m\u001b[97m니다.\u001b[0m\u001b[97m 하\u001b[0m\u001b[97m지만 아\u001b[0m\u001b[97m직 구\u001b[0m\u001b[97m체적인 \u001b[0m\u001b[97m데이터를\u001b[0m\u001b[97m 제공하\u001b[0m\u001b[97m지 않았\u001b[0m\u001b[97m습니다.\u001b[0m\u001b[97m 따\u001b[0m\u001b[97m라서 \u001b[0m\u001b[97m먼저 데\u001b[0m\u001b[97m이터 요\u001b[0m\u001b[97m청 \u001b[0m\u001b[97m및\u001b[0m\u001b[97m 분\u001b[0m\u001b[97m석 계\u001b[0m\u001b[97m획을 수\u001b[0m\u001b[97m립해\u001b[0m\u001b[97m야 합니\u001b[0m\u001b[97m다.\n",
      "\n",
      "##\u001b[0m\u001b[97m title:\u001b[0m\u001b[97m\n",
      "데이터\u001b[0m\u001b[97m 분\u001b[0m\u001b[97m석 및 \u001b[0m\u001b[97m인사이트\u001b[0m\u001b[97m 추출 \u001b[0m\u001b[97m계획\n",
      "\n",
      "##\u001b[0m\u001b[97m steps:\u001b[0m\u001b[97m\n",
      "### 1.\u001b[0m\u001b[97m C\u001b[0m\u001b[97moder:\u001b[0m\u001b[97m 데이터\u001b[0m\u001b[97m 수집 \u001b[0m\u001b[97m및 분\u001b[0m\u001b[97m석 \u001b[0m\u001b[97m준비\n",
      "-\u001b[0m\u001b[97m [\u001b[0m\u001b[97m ] 사\u001b[0m\u001b[97m용자로\u001b[0m\u001b[97m부터 어\u001b[0m\u001b[97m떤 형\u001b[0m\u001b[97m태\u001b[0m\u001b[97m의 데이\u001b[0m\u001b[97m터를\u001b[0m\u001b[97m 분\u001b[0m\u001b[97m석할지\u001b[0m\u001b[97m 요\u001b[0m\u001b[97m청 \u001b[0m\u001b[97m(\u001b[0m\u001b[97mCSV\u001b[0m\u001b[97m, Excel, JSON\u001b[0m\u001b[97m 등)\u001b[0m\u001b[97m\n",
      "- [ ] \u001b[0m\u001b[97m데이터 \u001b[0m\u001b[97m로\u001b[0m\u001b[97m딩 및 \u001b[0m\u001b[97m전\u001b[0m\u001b[97m처리를 \u001b[0m\u001b[97m위한 코\u001b[0m\u001b[97m드 준\u001b[0m\u001b[97m비\u001b[0m\u001b[97m\n",
      "-\u001b[0m\u001b[97m [ ] 기\u001b[0m\u001b[97m초 통\u001b[0m\u001b[97m계 분\u001b[0m\u001b[97m석 \u001b[0m\u001b[97m및\u001b[0m\u001b[97m 데이터\u001b[0m\u001b[97m 시각화\u001b[0m\u001b[97m \u001b[0m\u001b[97m코드 작\u001b[0m\u001b[97m성\u001b[0m\u001b[97m\n",
      "-\u001b[0m\u001b[97m [ ] 추\u001b[0m\u001b[97m가 분\u001b[0m\u001b[97m석 필\u001b[0m\u001b[97m요 사\u001b[0m\u001b[97m항 파\u001b[0m\u001b[97m악\u001b[0m\u001b[97m\n",
      "\n",
      "### 2.\u001b[0m\u001b[97m Reporter\u001b[0m\u001b[97m: 최\u001b[0m\u001b[97m종 인\u001b[0m\u001b[97m사이트 \u001b[0m\u001b[97m보고서 \u001b[0m\u001b[97m작성\n",
      "-\u001b[0m\u001b[97m [ ] 데\u001b[0m\u001b[97m이터 분\u001b[0m\u001b[97m석 결과\u001b[0m\u001b[97m \u001b[0m\u001b[97m요약\u001b[0m\u001b[97m\n",
      "- [ ] \u001b[0m\u001b[97m주\u001b[0m\u001b[97m요 인사\u001b[0m\u001b[97m이트 정\u001b[0m\u001b[97m리\n",
      "- [\u001b[0m\u001b[97m ] 시\u001b[0m\u001b[97m각\u001b[0m\u001b[97m화 자\u001b[0m\u001b[97m료 통\u001b[0m\u001b[97m합 및 \u001b[0m\u001b[97m설\u001b[0m\u001b[97m명\n",
      "- [\u001b[0m\u001b[97m ] 최종\u001b[0m\u001b[97m 보고서\u001b[0m\u001b[97m 작성 \u001b[0m\u001b[97m및 추\u001b[0m\u001b[97m천 \u001b[0m\u001b[97m사항 제\u001b[0m\u001b[97m시\u001b[0m"
     ]
    },
    {
     "name": "stderr",
     "output_type": "stream",
     "text": [
      "\n",
      "INFO [graph.nodes] \u001b[92m===== Planner completed task =====\u001b[0m\n",
      "WARNING:langgraph:Task planner with path ('__pregel_pull', 'planner') wrote to unknown channel branch:to:supervisor, ignoring it.\n",
      "\n",
      "INFO [__main__] \u001b[92m===== Workflow completed successfully =====\u001b[0m\n"
     ]
    }
   ],
   "source": [
    "import nest_asyncio\n",
    "nest_asyncio.apply()\n",
    "\n",
    "#remove_artifact_folder()\n",
    "\n",
    "user_query = '''\n",
    "    안녕 나는 장동진이라고 해. 만나서 반가워\n",
    "    나는 데이터를 제공하고 그것으로 부터 인사이트를 추출하고 싶어. \n",
    "'''\n",
    "\n",
    "result = run_agent_workflow(\n",
    "    user_input=user_query,\n",
    "    debug=False\n",
    ")\n"
   ]
  },
  {
   "cell_type": "code",
   "execution_count": 34,
   "id": "7fed8375",
   "metadata": {},
   "outputs": [
    {
     "name": "stdout",
     "output_type": "stream",
     "text": [
      "Overwriting strands_langgraph_bedrock.py\n"
     ]
    }
   ],
   "source": [
    "%%writefile strands_langgraph_bedrock.py\n",
    "\n",
    "import sys, os\n",
    "#module_path = \"../../../..\"\n",
    "#module_path = \"../../../..\"\n",
    "#sys.path.append(os.path.abspath(module_path))\n",
    "\n",
    "import json\n",
    "import logging\n",
    "import argparse\n",
    "from textwrap import dedent\n",
    "from graph import build_graph\n",
    "from src.utils.common_utils import get_message_from_string\n",
    "from src.utils.strands_sdk_utils import strands_utils\n",
    "from src.prompts.template import apply_prompt_template\n",
    "\n",
    "from bedrock_agentcore.runtime import BedrockAgentCoreApp\n",
    "\n",
    "# Configure logging\n",
    "logging.basicConfig(\n",
    "    level=logging.INFO,  # Default level is INFO\n",
    "    format=\"%(asctime)s - %(name)s - %(levelname)s - %(message)s\",\n",
    ")\n",
    "\n",
    "def enable_debug_logging():\n",
    "    \"\"\"Enable debug level logging for more detailed execution information.\"\"\"\n",
    "    logging.getLogger(__name__).setLevel(logging.DEBUG)\n",
    "\n",
    "# 로거 설정을 전역으로 한 번만 수행\n",
    "logger = logging.getLogger(__name__)\n",
    "logger.propagate = False\n",
    "for handler in logger.handlers[:]:\n",
    "    logger.removeHandler(handler)\n",
    "handler = logging.StreamHandler()\n",
    "formatter = logging.Formatter('\\n%(levelname)s [%(name)s] %(message)s')\n",
    "handler.setFormatter(formatter)\n",
    "logger.addHandler(handler)\n",
    "logger.setLevel(logging.INFO)  # 기본 레벨은 INFO로 설정\n",
    "\n",
    "class Colors:\n",
    "    BLUE = '\\033[94m'\n",
    "    GREEN = '\\033[92m'\n",
    "    YELLOW = '\\033[93m'\n",
    "    RED = '\\033[91m'\n",
    "    BOLD = '\\033[1m'\n",
    "    UNDERLINE = '\\033[4m'\n",
    "    END = '\\033[0m'\n",
    "\n",
    "\n",
    "# Create the graph\n",
    "graph = build_graph()\n",
    "\n",
    "def run_agent_workflow(user_input: str, debug: bool = False):\n",
    "    \"\"\"Run the agent workflow with the given user input.\n",
    "\n",
    "    Args:\n",
    "        user_input: The user's query or request\n",
    "        debug: If True, enables debug level logging\n",
    "\n",
    "    Returns:\n",
    "        The final state after the workflow completes\n",
    "    \"\"\"\n",
    "    if not user_input:\n",
    "        raise ValueError(\"Input could not be empty\")\n",
    "\n",
    "    if debug:\n",
    "        enable_debug_logging()\n",
    "\n",
    "    #logger.info(f\"Starting workflow with user input: {user_input}\")\n",
    "    logger.info(f\"{Colors.GREEN}===== Starting workflow ====={Colors.END}\")\n",
    "    logger.info(f\"{Colors.GREEN}\\nuser input: {user_input}{Colors.END}\")\n",
    "    \n",
    "    user_prompts = dedent(\n",
    "        '''\n",
    "        Here is a user request: <user_request>{user_request}</user_request>\n",
    "        '''\n",
    "    )\n",
    "    context = {\"user_request\": user_input}\n",
    "    user_prompts = user_prompts.format(**context)\n",
    "    messages = [get_message_from_string(role=\"user\", string=user_prompts, imgs=[])]\n",
    "\n",
    "        \n",
    "    result = graph.invoke(\n",
    "        input={\n",
    "            # Runtime Variables\n",
    "            \"messages\": messages,\n",
    "            \"request\": user_input,\n",
    "            \"request_prompt\": user_prompts\n",
    "        },\n",
    "        config={\n",
    "            \"recursion_limit\": 100\n",
    "        }\n",
    "    )\n",
    "    logger.debug(f\"{Colors.RED}Final workflow state: {result}{Colors.END}\")\n",
    "    logger.info(f\"{Colors.GREEN}===== Workflow completed successfully ====={Colors.END}\")\n",
    "    return result\n",
    "\n",
    "def strands_langgraph_bedrock(payload):\n",
    "    \"\"\"\n",
    "    Invoke the agent with a payload\n",
    "    \"\"\"\n",
    "    user_query = payload.get(\"prompt\")\n",
    "\n",
    "    result = run_agent_workflow(\n",
    "        user_input=user_query,\n",
    "        debug=False\n",
    "    )\n",
    "    \n",
    "    # Create the input in the format expected by LangGraph\n",
    "    #response = agent.invoke({\"messages\": [HumanMessage(content=user_input)]})\n",
    "    \n",
    "    # Extract the final message content\n",
    "    #return response[\"messages\"][-1].content\n",
    "    return result\n",
    "\n",
    "if __name__ == \"__main__\":\n",
    "    parser = argparse.ArgumentParser()\n",
    "    parser.add_argument(\"payload\", type=str)\n",
    "    args = parser.parse_args()\n",
    "    response = strands_langgraph_bedrock(json.loads(args.payload))\n",
    "    print(response)\n",
    "\n"
   ]
  },
  {
   "cell_type": "markdown",
   "id": "68499675-db8d-47c6-8c0c-5d66dcb06229",
   "metadata": {},
   "source": [
    "#### Invoking local agent"
   ]
  },
  {
   "cell_type": "code",
   "execution_count": 35,
   "id": "1226d59e6b56c96",
   "metadata": {
    "ExecuteTime": {
     "end_time": "2025-06-29T21:52:06.461281Z",
     "start_time": "2025-06-29T21:52:06.456854Z"
    }
   },
   "outputs": [
    {
     "name": "stdout",
     "output_type": "stream",
     "text": [
      "\n",
      "INFO [__main__] \u001b[92m===== Starting workflow =====\u001b[0m\n",
      "\n",
      "INFO [__main__] \u001b[92m\n",
      "user input: 안녕 나는 장동진이라고 해. 만나서 반가워 나는 데이터를 제공하고 그것으로 부터 인사이트를 추출하고 싶어.\u001b[0m\n",
      "\n",
      "INFO [graph.nodes] \u001b[92m===== Coordinator talking...... =====\u001b[0m\n",
      "\n",
      "INFO [src.utils.strands_sdk_utils] \u001b[92mCOORDINATOR - Prompt Cache Disabled\u001b[0m\n",
      "\u001b[97m안녕\u001b[0m\u001b[97m하세요 \u001b[0m\u001b[97m장동진님\u001b[0m\u001b[97m! 저는 \u001b[0m\u001b[97mBedrock-\u001b[0m\u001b[97mManus입\u001b[0m\u001b[97m니다. \u001b[0m\u001b[97m만나서 반\u001b[0m\u001b[97m갑습니다\u001b[0m\u001b[97m!\n",
      "\n",
      "데\u001b[0m\u001b[97m이터 분\u001b[0m\u001b[97m석과 인사이\u001b[0m\u001b[97m트 추출\u001b[0m\u001b[97m에 대한\u001b[0m\u001b[97m 요\u001b[0m\u001b[97m청은 저\u001b[0m\u001b[97m희 플래\u001b[0m\u001b[97m너 시스템과\u001b[0m\u001b[97m 상담이 필요할\u001b[0m\u001b[97m 것 같습니다\u001b[0m\u001b[97m.\n",
      "\n",
      "handoff_to_\u001b[0m\u001b[97mplanner: I\u001b[0m\u001b[97m'll need to consult our planning system\u001b[0m\u001b[97m for this request.\u001b[0m\n",
      "INFO [graph.nodes] \u001b[92m===== Coordinator completed task =====\u001b[0m\n",
      "\n",
      "INFO [graph.nodes] \u001b[92m===== Planner generating full plan =====\u001b[0m\n",
      "\n",
      "INFO [src.utils.strands_sdk_utils] \u001b[92mPLANNER - Prompt Cache Enabled\u001b[0m\n",
      "\u001b[95mLet me\u001b[0m\u001b[95m analyze\u001b[0m\u001b[95m the user request an\u001b[0m\u001b[95md plan\u001b[0m\u001b[95m the\u001b[0m\u001b[95m appropriate\u001b[0m\u001b[95m steps\u001b[0m\u001b[95m to fulfill it.\u001b[0m\u001b[95m\n",
      "\n",
      "The\u001b[0m\u001b[95m user\u001b[0m\u001b[95m's\u001b[0m\u001b[95m message\u001b[0m\u001b[95m is\u001b[0m\u001b[95m in\u001b[0m\u001b[95m Korean\u001b[0m\u001b[95m, an\u001b[0m\u001b[95md it\u001b[0m\u001b[95m transl\u001b[0m\u001b[95mates roughly\u001b[0m\u001b[95m to: \"Hello\u001b[0m\u001b[95m, my\u001b[0m\u001b[95m name is J\u001b[0m\u001b[95mang Don\u001b[0m\u001b[95mgjin. Nice\u001b[0m\u001b[95m to meet you.\u001b[0m\u001b[95m I want to provide\u001b[0m\u001b[95m data and extract\u001b[0m\u001b[95m insights from it.\"\u001b[0m\u001b[95m\n",
      "\n",
      "The user\u001b[0m\u001b[95m introduces\u001b[0m\u001b[95m themselves and exp\u001b[0m\u001b[95mresses a desire to\u001b[0m\u001b[95m provide\u001b[0m\u001b[95m data for\u001b[0m\u001b[95m analysis\u001b[0m\u001b[95m to\u001b[0m\u001b[95m extract\u001b[0m\u001b[95m insights. However\u001b[0m\u001b[95m, the\u001b[0m\u001b[95m user hasn\u001b[0m\u001b[95m't actually\u001b[0m\u001b[95m provide\u001b[0m\u001b[95md any data yet,\u001b[0m\u001b[95m so we\u001b[0m\u001b[95m need to first\u001b[0m\u001b[95m understan\u001b[0m\u001b[95md what\u001b[0m\u001b[95m kin\u001b[0m\u001b[95md of data they want\u001b[0m\u001b[95m to analyze\u001b[0m\u001b[95m.\n",
      "\n",
      "Since\u001b[0m\u001b[95m the user is\u001b[0m\u001b[95m speaking\u001b[0m\u001b[95m Korean, I shoul\u001b[0m\u001b[95md respon\u001b[0m\u001b[95md in Korean as\u001b[0m\u001b[95m well according\u001b[0m\u001b[95m to the\u001b[0m\u001b[95m notes\u001b[0m\u001b[95m section.\n",
      "\n",
      "Here\u001b[0m\u001b[95m's\u001b[0m\u001b[95m how\u001b[0m\u001b[95m I shoul\u001b[0m\u001b[95md proceed:\n",
      "\n",
      "1\u001b[0m\u001b[95m. I\u001b[0m\u001b[95m nee\u001b[0m\u001b[95md to create\u001b[0m\u001b[95m a plan\u001b[0m\u001b[95m that outlines the\u001b[0m\u001b[95m steps\u001b[0m\u001b[95m require\u001b[0m\u001b[95md to help\u001b[0m\u001b[95m the user extract\u001b[0m\u001b[95m insights from their data\u001b[0m\u001b[95m.\u001b[0m\u001b[95m\n",
      "2. Since\u001b[0m\u001b[95m the user hasn\u001b[0m\u001b[95m't provided any data\u001b[0m\u001b[95m yet, I'll\u001b[0m\u001b[95m nee\u001b[0m\u001b[95md to plan\u001b[0m\u001b[95m for\u001b[0m\u001b[95m initial\u001b[0m\u001b[95m steps\u001b[0m\u001b[95m that involve\u001b[0m\u001b[95m requesting\u001b[0m\u001b[95m data an\u001b[0m\u001b[95md understanding\u001b[0m\u001b[95m the user's specific\u001b[0m\u001b[95m needs\u001b[0m\u001b[95m.\n",
      "3.\u001b[0m\u001b[95m Once data\u001b[0m\u001b[95m is provided, we\u001b[0m\u001b[95m can plan\u001b[0m\u001b[95m for\u001b[0m\u001b[95m data\u001b[0m\u001b[95m analysis\u001b[0m\u001b[95m,\u001b[0m\u001b[95m visualization, and insight\u001b[0m\u001b[95m extraction.\u001b[0m\u001b[95m\n",
      "4. Finally\u001b[0m\u001b[95m, we\u001b[0m\u001b[95m'll\u001b[0m\u001b[95m need to present\u001b[0m\u001b[95m the insights in\u001b[0m\u001b[95m a comprehensive\u001b[0m\u001b[95m report.\u001b[0m\u001b[95m\n",
      "\n",
      "Let me create\u001b[0m\u001b[95m a\u001b[0m\u001b[95m detaile\u001b[0m\u001b[95md plan for this:\u001b[0m\u001b[95m\n",
      "\n",
      "##\u001b[0m\u001b[95m Plan\u001b[0m\u001b[95m\n",
      "1\u001b[0m\u001b[95m. First\u001b[0m\u001b[95m, we\u001b[0m\u001b[95m need to understand what\u001b[0m\u001b[95m kind of data the\u001b[0m\u001b[95m user has\u001b[0m\u001b[95m an\u001b[0m\u001b[95md what insights\u001b[0m\u001b[95m they're\u001b[0m\u001b[95m looking for\u001b[0m\u001b[95m.\n",
      "2.\u001b[0m\u001b[95m Then we nee\u001b[0m\u001b[95md to get\u001b[0m\u001b[95m the data from the\u001b[0m\u001b[95m user.\u001b[0m\u001b[95m\n",
      "3. We\u001b[0m\u001b[95m'll\u001b[0m\u001b[95m need to analyze\u001b[0m\u001b[95m the data using\u001b[0m\u001b[95m the\u001b[0m\u001b[95m Coder agent\u001b[0m\u001b[95m.\u001b[0m\u001b[95m\n",
      "4. Finally\u001b[0m\u001b[95m, we'll create\u001b[0m\u001b[95m a report with\u001b[0m\u001b[95m insights using\u001b[0m\u001b[95m the Reporter agent.\u001b[0m\u001b[95m\n",
      "\n",
      "Since\u001b[0m\u001b[95m the user hasn\u001b[0m\u001b[95m't provided actual\u001b[0m\u001b[95m data yet, I\u001b[0m\u001b[95m'll create\u001b[0m\u001b[95m a\u001b[0m\u001b[95m plan\u001b[0m\u001b[95m that out\u001b[0m\u001b[95mlines the general\u001b[0m\u001b[95m process\u001b[0m\u001b[95m but\u001b[0m\u001b[95m acknowle\u001b[0m\u001b[95mdges that we\u001b[0m\u001b[95m'll need more\u001b[0m\u001b[95m specific information\u001b[0m\u001b[95m before\u001b[0m\u001b[95m proce\u001b[0m\u001b[95meding with\u001b[0m\u001b[95m detaile\u001b[0m\u001b[95md analysis\u001b[0m\u001b[95m.\u001b[0m\u001b[95m\n",
      "\n",
      "In\u001b[0m\u001b[95m Korean\u001b[0m\u001b[95m,\u001b[0m\u001b[95m my plan will\u001b[0m\u001b[95m be:\n",
      "\n",
      "#\u001b[0m\u001b[95m 계\u001b[0m\u001b[95m획 \u001b[0m\u001b[95m(\u001b[0m\u001b[95mPlan)\n",
      "##\u001b[0m\u001b[95m 생\u001b[0m\u001b[95m각 (\u001b[0m\u001b[95mThought)\n",
      "-\u001b[0m\u001b[95m 사\u001b[0m\u001b[95m용자는\u001b[0m\u001b[95m 데이터\u001b[0m\u001b[95m를 제공\u001b[0m\u001b[95m하고 인\u001b[0m\u001b[95m사이트를\u001b[0m\u001b[95m 추출하\u001b[0m\u001b[95m고 싶\u001b[0m\u001b[95m어합\u001b[0m\u001b[95m니다.\u001b[0m\u001b[95m\n",
      "- 아\u001b[0m\u001b[95m직 구\u001b[0m\u001b[95m체적인 \u001b[0m\u001b[95m데이터나\u001b[0m\u001b[95m 목\u001b[0m\u001b[95m표가 제\u001b[0m\u001b[95m공되지 \u001b[0m\u001b[95m않았습\u001b[0m\u001b[95m니다.\u001b[0m\u001b[95m\n",
      "- 데\u001b[0m\u001b[95m이터를 \u001b[0m\u001b[95m요\u001b[0m\u001b[95m청하고 \u001b[0m\u001b[95m분석한\u001b[0m\u001b[95m 후\u001b[0m\u001b[95m 인사이\u001b[0m\u001b[95m트를 도\u001b[0m\u001b[95m출하는\u001b[0m\u001b[95m 계\u001b[0m\u001b[95m획이\u001b[0m\u001b[95m 필요합\u001b[0m\u001b[95m니다.\u001b[0m\u001b[95m\n",
      "\n",
      "## 제목\u001b[0m\u001b[95m (Title):\u001b[0m\u001b[95m\n",
      "- 데\u001b[0m\u001b[95m이터 분\u001b[0m\u001b[95m석 \u001b[0m\u001b[95m및 인사\u001b[0m\u001b[95m이트 추\u001b[0m\u001b[95m출 프\u001b[0m\u001b[95m로젝트\u001b[0m\u001b[95m\n",
      "\n",
      "## 단계\u001b[0m\u001b[95m (Steps):\u001b[0m\u001b[95m\n",
      "1.\u001b[0m\u001b[95m C\u001b[0m\u001b[95moder:\u001b[0m\u001b[95m 데이터\u001b[0m\u001b[95m 분\u001b[0m\u001b[95m석 및 \u001b[0m\u001b[95m인사이트\u001b[0m\u001b[95m 추출 \u001b[0m\u001b[95m준\u001b[0m\u001b[95m비\n",
      "   \u001b[0m\u001b[95m- [\u001b[0m\u001b[95m ] 사\u001b[0m\u001b[95m용자로\u001b[0m\u001b[95m부터 데\u001b[0m\u001b[95m이터 형\u001b[0m\u001b[95m식과\u001b[0m\u001b[95m 목표 \u001b[0m\u001b[95m파\u001b[0m\u001b[95m악\n",
      "   -\u001b[0m\u001b[95m [ ] 데\u001b[0m\u001b[95m이터 로\u001b[0m\u001b[95m드 및 \u001b[0m\u001b[95m전처리 \u001b[0m\u001b[95m(\u001b[0m\u001b[95m사\u001b[0m\u001b[95m용자가\u001b[0m\u001b[95m 데\u001b[0m\u001b[95m이터 제\u001b[0m\u001b[95m공 \u001b[0m\u001b[95m시)\n",
      "   \u001b[0m\u001b[95m- [ ] \u001b[0m\u001b[95m탐색적 \u001b[0m\u001b[95m데\u001b[0m\u001b[95m이터 분\u001b[0m\u001b[95m석 수\u001b[0m\u001b[95m행\n",
      "   -\u001b[0m\u001b[95m [ ] 통\u001b[0m\u001b[95m계 분석\u001b[0m\u001b[95m 및\u001b[0m\u001b[95m 인사이\u001b[0m\u001b[95m트 도\u001b[0m\u001b[95m출\u001b[0m\u001b[95m\n",
      "   \u001b[0m\u001b[95m- [ ] \u001b[0m\u001b[95m데\u001b[0m\u001b[95m이터 시\u001b[0m\u001b[95m각화 생\u001b[0m\u001b[95m성\u001b[0m\u001b[95m\n",
      "\n",
      "2. Reporter:\u001b[0m\u001b[95m 최종 \u001b[0m\u001b[95m인사이트\u001b[0m\u001b[95m 보\u001b[0m\u001b[95m고서 작\u001b[0m\u001b[95m성\n",
      "   -\u001b[0m\u001b[95m [ ] 분\u001b[0m\u001b[95m석 결과\u001b[0m\u001b[95m 요약\u001b[0m\u001b[95m\n",
      "   - [ ]\u001b[0m\u001b[95m 주\u001b[0m\u001b[95m요 인사\u001b[0m\u001b[95m이트 설\u001b[0m\u001b[95m명\n",
      "   -\u001b[0m\u001b[95m [ ] 시\u001b[0m\u001b[95m각\u001b[0m\u001b[95m화 결\u001b[0m\u001b[95m과 해\u001b[0m\u001b[95m석\u001b[0m\u001b[95m\n",
      "   - [ ]\u001b[0m\u001b[95m 결\u001b[0m\u001b[95m론\u001b[0m\u001b[95m 및\u001b[0m\u001b[95m 추\u001b[0m\u001b[95m천\u001b[0m\u001b[95m사항 작\u001b[0m\u001b[95m성\n",
      "\n",
      "This\u001b[0m\u001b[95m plan follows\u001b[0m\u001b[95m the guidelines\u001b[0m\u001b[95m:\u001b[0m\u001b[95m\n",
      "- I\u001b[0m\u001b[95m've\u001b[0m\u001b[95m consolidate\u001b[0m\u001b[95md tasks\u001b[0m\u001b[95m for\u001b[0m\u001b[95m each agent (\u001b[0m\u001b[95mCoder an\u001b[0m\u001b[95md Reporter)\u001b[0m\u001b[95m\n",
      "- I\u001b[0m\u001b[95m've avoide\u001b[0m\u001b[95md calling\u001b[0m\u001b[95m the same agent consecut\u001b[0m\u001b[95mively\n",
      "- The\u001b[0m\u001b[95m Reporter\u001b[0m\u001b[95m is only\u001b[0m\u001b[95m used once at\u001b[0m\u001b[95m the end\n",
      "-\u001b[0m\u001b[95m I've maintaine\u001b[0m\u001b[95md the language\u001b[0m\u001b[95m used by the user\u001b[0m\u001b[95m (\u001b[0m\u001b[95mKorean)\u001b[0m\u001b[95m\n",
      "- I've create\u001b[0m\u001b[95md a clear chec\u001b[0m\u001b[95mklist of tasks\u001b[0m\u001b[95m for\u001b[0m\u001b[95m each agent\n",
      "\n",
      "However\u001b[0m\u001b[95m, I nee\u001b[0m\u001b[95md to keep in\u001b[0m\u001b[95m mind that this\u001b[0m\u001b[95m is a\u001b[0m\u001b[95m preliminary\u001b[0m\u001b[95m plan since\u001b[0m\u001b[95m we\u001b[0m\u001b[95m don't have specific\u001b[0m\u001b[95m data yet. The\u001b[0m\u001b[95m actual tasks\u001b[0m\u001b[95m for\u001b[0m\u001b[95m the\u001b[0m\u001b[95m Coder might\u001b[0m\u001b[95m change depending on what\u001b[0m\u001b[95m data the\u001b[0m\u001b[95m user provides.\u001b[0m\u001b[97m# Plan\u001b[0m\u001b[97m\n",
      "## thought\u001b[0m\u001b[97m\n",
      "  \u001b[0m\u001b[97m- \u001b[0m\u001b[97m사용자가\u001b[0m\u001b[97m 데이터\u001b[0m\u001b[97m를 제공\u001b[0m\u001b[97m하고 인\u001b[0m\u001b[97m사이트를\u001b[0m\u001b[97m 추출하\u001b[0m\u001b[97m고 싶\u001b[0m\u001b[97m다\u001b[0m\u001b[97m고\u001b[0m\u001b[97m 했\u001b[0m\u001b[97m으나\u001b[0m\u001b[97m 아직 \u001b[0m\u001b[97m구\u001b[0m\u001b[97m체적인 \u001b[0m\u001b[97m데이터를\u001b[0m\u001b[97m 제공하\u001b[0m\u001b[97m지 않았\u001b[0m\u001b[97m습\u001b[0m\u001b[97m니다.\u001b[0m\u001b[97m\n",
      "  - \u001b[0m\u001b[97m먼저 사\u001b[0m\u001b[97m용자의\u001b[0m\u001b[97m 데이터\u001b[0m\u001b[97m 유\u001b[0m\u001b[97m형과 분\u001b[0m\u001b[97m석 목표\u001b[0m\u001b[97m를 이해\u001b[0m\u001b[97m한\u001b[0m\u001b[97m 후 적\u001b[0m\u001b[97m절한 분\u001b[0m\u001b[97m석 방법\u001b[0m\u001b[97m을 계\u001b[0m\u001b[97m획해야 \u001b[0m\u001b[97m합니다.\u001b[0m\u001b[97m\n",
      "  - \u001b[0m\u001b[97m한\u001b[0m\u001b[97m국어로\u001b[0m\u001b[97m 응\u001b[0m\u001b[97m답하며 \u001b[0m\u001b[97m단\u001b[0m\u001b[97m계별 접\u001b[0m\u001b[97m근 \u001b[0m\u001b[97m방식을 \u001b[0m\u001b[97m사용할\u001b[0m\u001b[97m 것\u001b[0m\u001b[97m입니다.\u001b[0m\u001b[97m\n",
      "##\u001b[0m\u001b[97m title:\n",
      "  \u001b[0m\u001b[97m- 데이\u001b[0m\u001b[97m터 분석\u001b[0m\u001b[97m 및 인\u001b[0m\u001b[97m사이트 \u001b[0m\u001b[97m추출 프\u001b[0m\u001b[97m로젝트\u001b[0m\u001b[97m\n",
      "## steps:\u001b[0m\u001b[97m\n",
      "  \u001b[0m\u001b[97m### 1.\u001b[0m\u001b[97m Coder:\u001b[0m\u001b[97m 데이터\u001b[0m\u001b[97m 수\u001b[0m\u001b[97m집 및 \u001b[0m\u001b[97m분\u001b[0m\u001b[97m석\n",
      "    -\u001b[0m\u001b[97m [ ] 사\u001b[0m\u001b[97m용자로부\u001b[0m\u001b[97m터 구\u001b[0m\u001b[97m체적인 \u001b[0m\u001b[97m데이터 \u001b[0m\u001b[97m형식과 \u001b[0m\u001b[97m분\u001b[0m\u001b[97m석 목표\u001b[0m\u001b[97m 파악\u001b[0m\u001b[97m\n",
      "    - [ ]\u001b[0m\u001b[97m 제\u001b[0m\u001b[97m공된 데\u001b[0m\u001b[97m이터 로\u001b[0m\u001b[97m드 및 \u001b[0m\u001b[97m전처리 \u001b[0m\u001b[97m작\u001b[0m\u001b[97m업 수행\u001b[0m\u001b[97m\n",
      "    - [\u001b[0m\u001b[97m ] 탐\u001b[0m\u001b[97m색적 데\u001b[0m\u001b[97m이터 분\u001b[0m\u001b[97m석(\u001b[0m\u001b[97mE\u001b[0m\u001b[97mDA)\u001b[0m\u001b[97m 수행\u001b[0m\u001b[97m\n",
      "    - [ ]\u001b[0m\u001b[97m 통계 \u001b[0m\u001b[97m분석 및\u001b[0m\u001b[97m 패\u001b[0m\u001b[97m턴 식\u001b[0m\u001b[97m별\n",
      "    -\u001b[0m\u001b[97m [ ] 데\u001b[0m\u001b[97m이터 시\u001b[0m\u001b[97m각화 그\u001b[0m\u001b[97m래\u001b[0m\u001b[97m프 생성\u001b[0m\u001b[97m\n",
      "    \u001b[0m\u001b[97m- [ ] \u001b[0m\u001b[97m주\u001b[0m\u001b[97m요 인사\u001b[0m\u001b[97m이트 도\u001b[0m\u001b[97m출\n",
      "\n",
      "  ###\u001b[0m\u001b[97m 2. Reporter\u001b[0m\u001b[97m: 최종\u001b[0m\u001b[97m 인사이\u001b[0m\u001b[97m트 보고\u001b[0m\u001b[97m서 작성\u001b[0m\u001b[97m\n",
      "    - [\u001b[0m\u001b[97m ] 분석\u001b[0m\u001b[97m 결과 \u001b[0m\u001b[97m요약\n",
      "    \u001b[0m\u001b[97m- [ ] \u001b[0m\u001b[97m주요 인\u001b[0m\u001b[97m사이트 \u001b[0m\u001b[97m설명 \u001b[0m\u001b[97m및\u001b[0m\u001b[97m 해\u001b[0m\u001b[97m석\n",
      "    -\u001b[0m\u001b[97m [ ] 데\u001b[0m\u001b[97m이터 시\u001b[0m\u001b[97m각화 결\u001b[0m\u001b[97m과 해석\u001b[0m\u001b[97m\n",
      "    - [\u001b[0m\u001b[97m ] 결론\u001b[0m\u001b[97m 및 추\u001b[0m\u001b[97m천사항 \u001b[0m\u001b[97m작성\u001b[0m\u001b[97m\n",
      "    \u001b[0m\u001b[97m- [ ] \u001b[0m\u001b[97m한\u001b[0m\u001b[97m국어로 \u001b[0m\u001b[97m최\u001b[0m\u001b[97m종 보고\u001b[0m\u001b[97m서 작성\u001b[0m\n",
      "INFO [graph.nodes] \u001b[92m===== Planner completed task =====\u001b[0m\n",
      "WARNING:langgraph:Task planner with path ('__pregel_pull', 'planner') wrote to unknown channel branch:to:supervisor, ignoring it.\n",
      "\n",
      "INFO [__main__] \u001b[92m===== Workflow completed successfully =====\u001b[0m\n",
      "{'full_plan': '# Plan\\n## thought\\n  - 사용자가 데이터를 제공하고 인사이트를 추출하고 싶다고 했으나 아직 구체적인 데이터를 제공하지 않았습니다.\\n  - 먼저 사용자의 데이터 유형과 분석 목표를 이해한 후 적절한 분석 방법을 계획해야 합니다.\\n  - 한국어로 응답하며 단계별 접근 방식을 사용할 것입니다.\\n## title:\\n  - 데이터 분석 및 인사이트 추출 프로젝트\\n## steps:\\n  ### 1. Coder: 데이터 수집 및 분석\\n    - [ ] 사용자로부터 구체적인 데이터 형식과 분석 목표 파악\\n    - [ ] 제공된 데이터 로드 및 전처리 작업 수행\\n    - [ ] 탐색적 데이터 분석(EDA) 수행\\n    - [ ] 통계 분석 및 패턴 식별\\n    - [ ] 데이터 시각화 그래프 생성\\n    - [ ] 주요 인사이트 도출\\n\\n  ### 2. Reporter: 최종 인사이트 보고서 작성\\n    - [ ] 분석 결과 요약\\n    - [ ] 주요 인사이트 설명 및 해석\\n    - [ ] 데이터 시각화 결과 해석\\n    - [ ] 결론 및 추천사항 작성\\n    - [ ] 한국어로 최종 보고서 작성', 'messages': [{'role': 'user', 'content': [{'text': '# Plan\\n## thought\\n  - 사용자가 데이터를 제공하고 인사이트를 추출하고 싶다고 했으나 아직 구체적인 데이터를 제공하지 않았습니다.\\n  - 먼저 사용자의 데이터 유형과 분석 목표를 이해한 후 적절한 분석 방법을 계획해야 합니다.\\n  - 한국어로 응답하며 단계별 접근 방식을 사용할 것입니다.\\n## title:\\n  - 데이터 분석 및 인사이트 추출 프로젝트\\n## steps:\\n  ### 1. Coder: 데이터 수집 및 분석\\n    - [ ] 사용자로부터 구체적인 데이터 형식과 분석 목표 파악\\n    - [ ] 제공된 데이터 로드 및 전처리 작업 수행\\n    - [ ] 탐색적 데이터 분석(EDA) 수행\\n    - [ ] 통계 분석 및 패턴 식별\\n    - [ ] 데이터 시각화 그래프 생성\\n    - [ ] 주요 인사이트 도출\\n\\n  ### 2. Reporter: 최종 인사이트 보고서 작성\\n    - [ ] 분석 결과 요약\\n    - [ ] 주요 인사이트 설명 및 해석\\n    - [ ] 데이터 시각화 결과 해석\\n    - [ ] 결론 및 추천사항 작성\\n    - [ ] 한국어로 최종 보고서 작성'}]}], 'messages_name': 'planner', 'history': [{'agent': 'coordinator', 'message': \"안녕하세요 장동진님! 저는 Bedrock-Manus입니다. 만나서 반갑습니다!\\n\\n데이터 분석과 인사이트 추출에 대한 요청은 저희 플래너 시스템과 상담이 필요할 것 같습니다.\\n\\nhandoff_to_planner: I'll need to consult our planning system for this request.\"}, {'agent': 'planner', 'message': '# Plan\\n## thought\\n  - 사용자가 데이터를 제공하고 인사이트를 추출하고 싶다고 했으나 아직 구체적인 데이터를 제공하지 않았습니다.\\n  - 먼저 사용자의 데이터 유형과 분석 목표를 이해한 후 적절한 분석 방법을 계획해야 합니다.\\n  - 한국어로 응답하며 단계별 접근 방식을 사용할 것입니다.\\n## title:\\n  - 데이터 분석 및 인사이트 추출 프로젝트\\n## steps:\\n  ### 1. Coder: 데이터 수집 및 분석\\n    - [ ] 사용자로부터 구체적인 데이터 형식과 분석 목표 파악\\n    - [ ] 제공된 데이터 로드 및 전처리 작업 수행\\n    - [ ] 탐색적 데이터 분석(EDA) 수행\\n    - [ ] 통계 분석 및 패턴 식별\\n    - [ ] 데이터 시각화 그래프 생성\\n    - [ ] 주요 인사이트 도출\\n\\n  ### 2. Reporter: 최종 인사이트 보고서 작성\\n    - [ ] 분석 결과 요약\\n    - [ ] 주요 인사이트 설명 및 해석\\n    - [ ] 데이터 시각화 결과 해석\\n    - [ ] 결론 및 추천사항 작성\\n    - [ ] 한국어로 최종 보고서 작성'}], 'request': '안녕 나는 장동진이라고 해. 만나서 반가워 나는 데이터를 제공하고 그것으로 부터 인사이트를 추출하고 싶어.', 'request_prompt': '\\nHere is a user request: <user_request>안녕 나는 장동진이라고 해. 만나서 반가워 나는 데이터를 제공하고 그것으로 부터 인사이트를 추출하고 싶어.</user_request>\\n'}\n"
     ]
    }
   ],
   "source": [
    "!python strands_langgraph_bedrock.py '{\"prompt\": \"안녕 나는 장동진이라고 해. 만나서 반가워 나는 데이터를 제공하고 그것으로 부터 인사이트를 추출하고 싶어.\"}'"
   ]
  },
  {
   "cell_type": "markdown",
   "id": "932110e6-fca6-47b6-b7c5-c4714a866a80",
   "metadata": {},
   "source": [
    "## Preparing your agent for deployment on AgentCore Runtime\n",
    "\n",
    "Let's now deploy our agents to AgentCore Runtime. To do so we need to:\n",
    "* Import the Runtime App with `from bedrock_agentcore.runtime import BedrockAgentCoreApp`\n",
    "* Initialize the App in our code with `app = BedrockAgentCoreApp()`\n",
    "* Decorate the invocation function with the `@app.entrypoint` decorator\n",
    "* Let AgentCoreRuntime control the running of the agent with `app.run()`\n",
    "\n",
    "### Strands Agent SDK + LangGraph with Amazon Bedrock model\n",
    "Let's start with our Strands Agent SDK + LangGraph using Amazon Bedrock model. Other examples with different frameworks and models are available in the parent directories"
   ]
  },
  {
   "cell_type": "markdown",
   "id": "5f17f452",
   "metadata": {},
   "source": [
    "### Dockerfile\n"
   ]
  },
  {
   "cell_type": "code",
   "execution_count": null,
   "id": "15fd1528",
   "metadata": {},
   "outputs": [],
   "source": []
  },
  {
   "cell_type": "code",
   "execution_count": 36,
   "id": "ddaa4cf8",
   "metadata": {},
   "outputs": [
    {
     "name": "stdout",
     "output_type": "stream",
     "text": [
      "Overwriting strands_langgraph_bedrock.py\n"
     ]
    }
   ],
   "source": [
    "%%writefile strands_langgraph_bedrock.py\n",
    "\n",
    "import sys, os\n",
    "#module_path = \"../../../..\"\n",
    "#module_path = \"../../../..\"\n",
    "#sys.path.append(os.path.abspath(module_path))\n",
    "\n",
    "import json\n",
    "import logging\n",
    "import argparse\n",
    "from textwrap import dedent\n",
    "from graph import build_graph\n",
    "from src.utils.common_utils import get_message_from_string\n",
    "from src.utils.strands_sdk_utils import strands_utils\n",
    "from src.prompts.template import apply_prompt_template\n",
    "\n",
    "from bedrock_agentcore.runtime import BedrockAgentCoreApp\n",
    "\n",
    "app = BedrockAgentCoreApp()\n",
    "\n",
    "# Configure logging\n",
    "logging.basicConfig(\n",
    "    level=logging.INFO,  # Default level is INFO\n",
    "    format=\"%(asctime)s - %(name)s - %(levelname)s - %(message)s\",\n",
    ")\n",
    "\n",
    "def enable_debug_logging():\n",
    "    \"\"\"Enable debug level logging for more detailed execution information.\"\"\"\n",
    "    logging.getLogger(__name__).setLevel(logging.DEBUG)\n",
    "\n",
    "# 로거 설정을 전역으로 한 번만 수행\n",
    "logger = logging.getLogger(__name__)\n",
    "logger.propagate = False\n",
    "for handler in logger.handlers[:]:\n",
    "    logger.removeHandler(handler)\n",
    "handler = logging.StreamHandler()\n",
    "formatter = logging.Formatter('\\n%(levelname)s [%(name)s] %(message)s')\n",
    "handler.setFormatter(formatter)\n",
    "logger.addHandler(handler)\n",
    "logger.setLevel(logging.INFO)  # 기본 레벨은 INFO로 설정\n",
    "\n",
    "class Colors:\n",
    "    BLUE = '\\033[94m'\n",
    "    GREEN = '\\033[92m'\n",
    "    YELLOW = '\\033[93m'\n",
    "    RED = '\\033[91m'\n",
    "    BOLD = '\\033[1m'\n",
    "    UNDERLINE = '\\033[4m'\n",
    "    END = '\\033[0m'\n",
    "\n",
    "\n",
    "# Create the graph\n",
    "graph = build_graph()\n",
    "\n",
    "def run_agent_workflow(user_input: str, debug: bool = False):\n",
    "    \"\"\"Run the agent workflow with the given user input.\n",
    "\n",
    "    Args:\n",
    "        user_input: The user's query or request\n",
    "        debug: If True, enables debug level logging\n",
    "\n",
    "    Returns:\n",
    "        The final state after the workflow completes\n",
    "    \"\"\"\n",
    "    if not user_input:\n",
    "        raise ValueError(\"Input could not be empty\")\n",
    "\n",
    "    if debug:\n",
    "        enable_debug_logging()\n",
    "\n",
    "    #logger.info(f\"Starting workflow with user input: {user_input}\")\n",
    "    logger.info(f\"{Colors.GREEN}===== Starting workflow ====={Colors.END}\")\n",
    "    logger.info(f\"{Colors.GREEN}\\nuser input: {user_input}{Colors.END}\")\n",
    "    \n",
    "    user_prompts = dedent(\n",
    "        '''\n",
    "        Here is a user request: <user_request>{user_request}</user_request>\n",
    "        '''\n",
    "    )\n",
    "    context = {\"user_request\": user_input}\n",
    "    user_prompts = user_prompts.format(**context)\n",
    "    messages = [get_message_from_string(role=\"user\", string=user_prompts, imgs=[])]\n",
    "\n",
    "        \n",
    "    result = graph.invoke(\n",
    "        input={\n",
    "            # Runtime Variables\n",
    "            \"messages\": messages,\n",
    "            \"request\": user_input,\n",
    "            \"request_prompt\": user_prompts\n",
    "        },\n",
    "        config={\n",
    "            \"recursion_limit\": 100\n",
    "        }\n",
    "    )\n",
    "    logger.debug(f\"{Colors.RED}Final workflow state: {result}{Colors.END}\")\n",
    "    logger.info(f\"{Colors.GREEN}===== Workflow completed successfully ====={Colors.END}\")\n",
    "    return result\n",
    "\n",
    "@app.entrypoint\n",
    "def strands_langgraph_bedrock(payload):\n",
    "    \"\"\"\n",
    "    Invoke the agent with a payload\n",
    "    \"\"\"\n",
    "    user_query = payload.get(\"prompt\")\n",
    "\n",
    "    result = run_agent_workflow(\n",
    "        user_input=user_query,\n",
    "        debug=False\n",
    "    )\n",
    "    \n",
    "    # Create the input in the format expected by LangGraph\n",
    "    #response = agent.invoke({\"messages\": [HumanMessage(content=user_input)]})\n",
    "    \n",
    "    # Extract the final message content\n",
    "    #return response[\"messages\"][-1].content\n",
    "    return result\n",
    "\n",
    "if __name__ == \"__main__\":\n",
    "    app.run()\n",
    "    \n",
    "    #parser = argparse.ArgumentParser()\n",
    "    #parser.add_argument(\"payload\", type=str)\n",
    "    #args = parser.parse_args()\n",
    "    #response = strands_langgraph_bedrock(json.loads(args.payload))\n",
    "    #print(response)\n",
    "\n"
   ]
  },
  {
   "cell_type": "markdown",
   "id": "c64db7b5-0f1b-475f-9bf2-467b4449d46a",
   "metadata": {},
   "source": [
    "## What happens behind the scenes?\n",
    "\n",
    "When you use `BedrockAgentCoreApp`, it automatically:\n",
    "\n",
    "* Creates an HTTP server that listens on the port 8080\n",
    "* Implements the required `/invocations` endpoint for processing the agent's requirements\n",
    "* Implements the `/ping` endpoint for health checks (very important for asynchronous agents)\n",
    "* Handles proper content types and response formats\n",
    "* Manages error handling according to the AWS standards"
   ]
  },
  {
   "cell_type": "markdown",
   "id": "6820ca8f-a8a8-4f34-b4ef-b6dad3776261",
   "metadata": {},
   "source": [
    "## Deploying the agent to AgentCore Runtime\n",
    "\n",
    "The `CreateAgentRuntime` operation supports comprehensive configuration options, letting you specify container images, environment variables and encryption settings. You can also configure protocol settings (HTTP, MCP) and authorization mechanisms to control how your clients communicate with the agent. \n",
    "\n",
    "**Note:** Operations best practice is to package code as container and push to ECR using CI/CD pipelines and IaC\n",
    "\n",
    "In this tutorial can will the Amazon Bedrock AgentCode Python SDK to easily package your artifacts and deploy them to AgentCore runtime."
   ]
  },
  {
   "cell_type": "markdown",
   "id": "d0861401-a111-4ade-9e02-50f52fdfa9b1",
   "metadata": {},
   "source": [
    "### Creating runtime role\n",
    "\n",
    "Before starting, let's create an IAM role for our AgentCore Runtime. We will do so using the utils function pre-developed for you."
   ]
  },
  {
   "cell_type": "code",
   "execution_count": 37,
   "id": "54dd2fdf-985c-4a70-8b87-071783a209de",
   "metadata": {},
   "outputs": [
    {
     "name": "stdout",
     "output_type": "stream",
     "text": [
      "sys.path[0]: /home/ubuntu/projects/aws-ai-ml-workshop-kr/genai/aws-gen-ai-kr/13_agentcore/tutorials\n",
      "Role already exists -- deleting and creating it again\n",
      "policies: {'PolicyNames': ['AgentCorePolicy'], 'IsTruncated': False, 'ResponseMetadata': {'RequestId': '9dcfc1bd-1eed-4280-8b2a-a587fd2bea4c', 'HTTPStatusCode': 200, 'HTTPHeaders': {'date': 'Mon, 04 Aug 2025 08:53:18 GMT', 'x-amzn-requestid': '9dcfc1bd-1eed-4280-8b2a-a587fd2bea4c', 'content-type': 'text/xml', 'content-length': '380'}, 'RetryAttempts': 0}}\n",
      "deleting agentcore-strandlanggraph_bedrock-role\n",
      "recreating agentcore-strandlanggraph_bedrock-role\n",
      "attaching role policy agentcore-strandlanggraph_bedrock-role\n"
     ]
    }
   ],
   "source": [
    "import sys\n",
    "import os\n",
    "\n",
    "# Get the current notebook's directory\n",
    "current_dir = os.path.dirname(os.path.abspath('__file__' if '__file__' in globals() else '.'))\n",
    "\n",
    "utils_dir = os.path.join(current_dir, '..')\n",
    "utils_dir = os.path.join(utils_dir, '..')\n",
    "utils_dir = os.path.abspath(utils_dir)\n",
    "\n",
    "# Add to sys.path\n",
    "sys.path.insert(0, utils_dir)\n",
    "print(\"sys.path[0]:\", sys.path[0])\n",
    "\n",
    "from utils import create_agentcore_role\n",
    "\n",
    "agent_name=\"strandlanggraph_bedrock\"\n",
    "agentcore_iam_role = create_agentcore_role(agent_name=agent_name)"
   ]
  },
  {
   "cell_type": "markdown",
   "id": "8855aceb-b79f-4aaa-b16f-8577c059816a",
   "metadata": {},
   "source": [
    "### Configure AgentCore Runtime deployment\n",
    "\n",
    "Next we will use our starter toolkit to configure the AgentCore Runtime deployment with an entrypoint, the execution role we just created and a requirements file. We will also configure the starter kit to auto create the Amazon ECR repository on launch.\n",
    "\n",
    "During the configure step, your docker file will be generated based on your application code\n",
    "\n",
    "<div style=\"text-align:left\">\n",
    "    <img src=\"images/configure.png\" width=\"40%\"/>\n",
    "</div>"
   ]
  },
  {
   "cell_type": "code",
   "execution_count": 15,
   "id": "62cbe47b",
   "metadata": {},
   "outputs": [
    {
     "name": "stdout",
     "output_type": "stream",
     "text": [
      "\u001b[31mSignature:\u001b[39m\n",
      "agentcore_runtime.configure(\n",
      "    entrypoint: str,\n",
      "    execution_role: Optional[str] = \u001b[38;5;28;01mNone\u001b[39;00m,\n",
      "    agent_name: Optional[str] = \u001b[38;5;28;01mNone\u001b[39;00m,\n",
      "    requirements: Optional[List[str]] = \u001b[38;5;28;01mNone\u001b[39;00m,\n",
      "    requirements_file: Optional[str] = \u001b[38;5;28;01mNone\u001b[39;00m,\n",
      "    ecr_repository: Optional[str] = \u001b[38;5;28;01mNone\u001b[39;00m,\n",
      "    container_runtime: Optional[str] = \u001b[38;5;28;01mNone\u001b[39;00m,\n",
      "    auto_create_ecr: bool = \u001b[38;5;28;01mTrue\u001b[39;00m,\n",
      "    auto_create_execution_role: bool = \u001b[38;5;28;01mFalse\u001b[39;00m,\n",
      "    authorizer_configuration: Optional[Dict[str, Any]] = \u001b[38;5;28;01mNone\u001b[39;00m,\n",
      "    region: Optional[str] = \u001b[38;5;28;01mNone\u001b[39;00m,\n",
      "    protocol: Optional[Literal[\u001b[33m'HTTP'\u001b[39m, \u001b[33m'MCP'\u001b[39m]] = \u001b[38;5;28;01mNone\u001b[39;00m,\n",
      ") -> bedrock_agentcore_starter_toolkit.operations.runtime.models.ConfigureResult\n",
      "\u001b[31mDocstring:\u001b[39m\n",
      "Configure Bedrock AgentCore from notebook using an entrypoint file.\n",
      "\n",
      "Args:\n",
      "    entrypoint: Path to Python file with optional Bedrock AgentCore name\n",
      "        (e.g., \"handler.py\" or \"handler.py:bedrock_agentcore\")\n",
      "    execution_role: AWS IAM execution role ARN or name (optional if auto_create_execution_role=True)\n",
      "    agent_name: name of the agent\n",
      "    requirements: Optional list of requirements to generate requirements.txt\n",
      "    requirements_file: Optional path to existing requirements file\n",
      "    ecr_repository: Optional ECR repository URI\n",
      "    container_runtime: Optional container runtime (docker/podman)\n",
      "    auto_create_ecr: Whether to auto-create ECR repository\n",
      "    auto_create_execution_role: Whether to auto-create execution role (makes execution_role optional)\n",
      "    authorizer_configuration: JWT authorizer configuration dictionary\n",
      "    region: AWS region for deployment\n",
      "    protocol: agent server protocol, must be either HTTP or MCP\n",
      "\n",
      "Returns:\n",
      "    ConfigureResult with configuration details\n",
      "\u001b[31mFile:\u001b[39m      ~/projects/aws-ai-ml-workshop-kr/genai/aws-gen-ai-kr/13_agentcore/setup/.venv/lib/python3.12/site-packages/bedrock_agentcore_starter_toolkit/notebook/runtime/bedrock_agentcore.py\n",
      "\u001b[31mType:\u001b[39m      method"
     ]
    }
   ],
   "source": [
    "agentcore_runtime.configure?"
   ]
  },
  {
   "cell_type": "code",
   "execution_count": 43,
   "id": "2e79eba2-ca59-463f-9ebf-56e362d7ae66",
   "metadata": {},
   "outputs": [
    {
     "name": "stderr",
     "output_type": "stream",
     "text": [
      "Entrypoint parsed: file=/home/ubuntu/projects/aws-ai-ml-workshop-kr/genai/aws-gen-ai-kr/13_agentcore/tutorials/01-AgentCore-runtime/01-hosting-agent/05-strands-langgraph-with-bedrock-model/strands_langgraph_bedrock.py, bedrock_agentcore_name=strands_langgraph_bedrock\n",
      "INFO:bedrock_agentcore_starter_toolkit.utils.runtime.entrypoint:Entrypoint parsed: file=/home/ubuntu/projects/aws-ai-ml-workshop-kr/genai/aws-gen-ai-kr/13_agentcore/tutorials/01-AgentCore-runtime/01-hosting-agent/05-strands-langgraph-with-bedrock-model/strands_langgraph_bedrock.py, bedrock_agentcore_name=strands_langgraph_bedrock\n",
      "Configuring BedrockAgentCore agent: strands_langgraph_bedrock\n",
      "INFO:bedrock_agentcore_starter_toolkit.operations.runtime.configure:Configuring BedrockAgentCore agent: strands_langgraph_bedrock\n",
      "Generated Dockerfile: /home/ubuntu/projects/aws-ai-ml-workshop-kr/genai/aws-gen-ai-kr/13_agentcore/tutorials/01-AgentCore-runtime/01-hosting-agent/05-strands-langgraph-with-bedrock-model/Dockerfile\n",
      "INFO:bedrock_agentcore_starter_toolkit.operations.runtime.configure:Generated Dockerfile: /home/ubuntu/projects/aws-ai-ml-workshop-kr/genai/aws-gen-ai-kr/13_agentcore/tutorials/01-AgentCore-runtime/01-hosting-agent/05-strands-langgraph-with-bedrock-model/Dockerfile\n",
      "Generated .dockerignore: /home/ubuntu/projects/aws-ai-ml-workshop-kr/genai/aws-gen-ai-kr/13_agentcore/tutorials/01-AgentCore-runtime/01-hosting-agent/05-strands-langgraph-with-bedrock-model/.dockerignore\n",
      "INFO:bedrock_agentcore_starter_toolkit.operations.runtime.configure:Generated .dockerignore: /home/ubuntu/projects/aws-ai-ml-workshop-kr/genai/aws-gen-ai-kr/13_agentcore/tutorials/01-AgentCore-runtime/01-hosting-agent/05-strands-langgraph-with-bedrock-model/.dockerignore\n",
      "Keeping 'strands_langgraph_bedrock' as default agent\n",
      "INFO:bedrock_agentcore_starter_toolkit.utils.runtime.config:Keeping 'strands_langgraph_bedrock' as default agent\n",
      "Bedrock AgentCore configured: /home/ubuntu/projects/aws-ai-ml-workshop-kr/genai/aws-gen-ai-kr/13_agentcore/tutorials/01-AgentCore-runtime/01-hosting-agent/05-strands-langgraph-with-bedrock-model/.bedrock_agentcore.yaml\n",
      "INFO:bedrock_agentcore_starter_toolkit.notebook.runtime.bedrock_agentcore:Bedrock AgentCore configured: /home/ubuntu/projects/aws-ai-ml-workshop-kr/genai/aws-gen-ai-kr/13_agentcore/tutorials/01-AgentCore-runtime/01-hosting-agent/05-strands-langgraph-with-bedrock-model/.bedrock_agentcore.yaml\n"
     ]
    },
    {
     "data": {
      "text/plain": [
       "ConfigureResult(config_path=PosixPath('/home/ubuntu/projects/aws-ai-ml-workshop-kr/genai/aws-gen-ai-kr/13_agentcore/tutorials/01-AgentCore-runtime/01-hosting-agent/05-strands-langgraph-with-bedrock-model/.bedrock_agentcore.yaml'), dockerfile_path=PosixPath('/home/ubuntu/projects/aws-ai-ml-workshop-kr/genai/aws-gen-ai-kr/13_agentcore/tutorials/01-AgentCore-runtime/01-hosting-agent/05-strands-langgraph-with-bedrock-model/Dockerfile'), dockerignore_path=PosixPath('/home/ubuntu/projects/aws-ai-ml-workshop-kr/genai/aws-gen-ai-kr/13_agentcore/tutorials/01-AgentCore-runtime/01-hosting-agent/05-strands-langgraph-with-bedrock-model/.dockerignore'), runtime='Docker', region='us-west-2', account_id='615299776985', execution_role='arn:aws:iam::615299776985:role/agentcore-strandlanggraph_bedrock-role', ecr_repository=None, auto_create_ecr=True)"
      ]
     },
     "execution_count": 43,
     "metadata": {},
     "output_type": "execute_result"
    }
   ],
   "source": [
    "from bedrock_agentcore_starter_toolkit import Runtime\n",
    "from boto3.session import Session\n",
    "boto_session = Session()\n",
    "region = boto_session.region_name\n",
    "region\n",
    "\n",
    "agentcore_runtime = Runtime()\n",
    "\n",
    "response = agentcore_runtime.configure(\n",
    "    entrypoint=\"strands_langgraph_bedrock.py\",\n",
    "    execution_role=agentcore_iam_role['Role']['Arn'],\n",
    "    auto_create_ecr=True,\n",
    "    requirements_file=\"requirements.txt\",\n",
    "    region=region\n",
    ")\n",
    "response"
   ]
  },
  {
   "cell_type": "markdown",
   "id": "9e1b84cc-798e-472c-ac0b-2c315f4b704d",
   "metadata": {},
   "source": [
    "### Launching agent to AgentCore Runtime\n",
    "\n",
    "Now that we've got a docker file, let's launch the agent to the AgentCore Runtime. This will create the Amazon ECR repository and the AgentCore Runtime\n",
    "\n",
    "<div style=\"text-align:left\">\n",
    "    <img src=\"images/launch.png\" width=\"75%\"/>\n",
    "</div>"
   ]
  },
  {
   "cell_type": "code",
   "execution_count": 44,
   "id": "17a32ab8-7701-4900-8055-e24364bdf35c",
   "metadata": {},
   "outputs": [
    {
     "name": "stderr",
     "output_type": "stream",
     "text": [
      "Launching Bedrock AgentCore agent 'strands_langgraph_bedrock' to cloud\n",
      "INFO:bedrock_agentcore_starter_toolkit.operations.runtime.launch:Launching Bedrock AgentCore agent 'strands_langgraph_bedrock' to cloud\n"
     ]
    },
    {
     "name": "stderr",
     "output_type": "stream",
     "text": [
      "Build: Successfully installed MarkupSafe-3.0.2 PyYAML-6.0.2 SQLAlchemy-2.0.42 annotated-types-0.7.0 anyio-4.10.0 argon2-cffi-25.1.0 argon2-cffi-bindings-25.1.0 arrow-1.3.0 asttokens-3.0.0 async-lru-2.0.5 attrs-25.3.0 aws-requests-auth-0.4.3 awscli-1.42.1 babel-2.17.0 beautifulsoup4-4.13.4 bedrock-agentcore-0.1.1 bedrock-agentcore-starter-toolkit-0.1.3 bleach-6.2.0 boto3-1.40.1 botocore-1.40.1 certifi-2025.8.3 cffi-1.17.1 charset_normalizer-3.4.2 click-8.2.1 colorama-0.4.6 comm-0.2.3 debugpy-1.8.15 decorator-5.2.1 defusedxml-0.7.1 dill-0.4.0 docstring-parser-0.17.0 docutils-0.19 executing-2.2.0 fastjsonschema-2.21.1 fqdn-1.5.1 greenlet-3.2.3 h11-0.16.0 html5lib-1.1 httpcore-1.0.9 httpx-0.28.1 httpx-sse-0.4.1 idna-3.10 importlib-metadata-8.7.0 ipykernel-6.30.0 ipython-9.4.0 ipython-pygments-lexers-1.1.1 ipywidgets-8.1.7 isoduration-20.11.0 jedi-0.19.2 jinja2-3.1.6 jmespath-1.0.1 json5-0.12.0 jsonpatch-1.33 jsonpointer-3.0.0 jsonschema-4.25.0 jsonschema-specifications-2025.4.1 jupyter-1.1.1 jupyter-client-8.6.3 jupyter-console-6.6.3 jupyter-core-5.8.1 jupyter-events-0.12.0 jupyter-lsp-2.2.6 jupyter-server-2.16.0 jupyter-server-terminals-0.5.3 jupyterlab-4.4.5 jupyterlab-pygments-0.3.0 jupyterlab-server-2.27.3 jupyterlab_widgets-3.0.15 langchain-0.3.27 langchain-aws-0.2.30 langchain-core-0.3.72 langchain-text-splitters-0.3.9 langgraph-0.6.3 langgraph-checkpoint-2.1.1 langgraph-prebuilt-0.6.3 langgraph-sdk-0.2.0 langsmith-0.4.10 lark-1.2.2 lxml-6.0.0 markdown-it-py-3.0.0 markdownify-1.1.0 matplotlib-inline-0.1.7 mcp-1.12.3 mdurl-0.1.2 mistune-3.1.3 mpmath-1.3.0 nbclient-0.10.2 nbconvert-7.16.6 nbformat-5.10.4 nest-asyncio-1.6.0 notebook-7.4.4 notebook-shim-0.2.4 numpy-2.3.2 opentelemetry-api-1.36.0 opentelemetry-instrumentation-0.57b0 opentelemetry-instrumentation-langchain-0.44.1 opentelemetry-instrumentation-threading-0.57b0 opentelemetry-sdk-1.36.0 opentelemetry-semantic-conventions-0.57b0 opentelemetry-semantic-conventions-ai-0.4.11 orjson-3.11.1 ormsgpack-1.10.0 overrides-7.7.0 packaging-25.0 pandocfilters-1.5.1 parso-0.8.4 pexpect-4.9.0 pillow-11.3.0 platformdirs-4.3.8 prometheus-client-0.22.1 prompt-toolkit-3.0.51 psutil-7.0.0 ptyprocess-0.7.0 pure-eval-0.2.3 pyasn1-0.6.1 pycparser-2.22 pydantic-2.11.7 pydantic-core-2.33.2 pydantic-settings-2.10.1 pygments-2.19.2 pyjwt-2.10.1 python-dateutil-2.9.0.post0 python-dotenv-1.1.1 python-json-logger-3.3.0 python-multipart-0.0.20 pyzmq-27.0.1 readabilipy-0.3.0 referencing-0.36.2 regex-2025.7.34 requests-2.32.4 requests-toolbelt-1.0.0 rfc3339-validator-0.1.4 rfc3986-validator-0.1.1 rfc3987-syntax-1.1.0 rich-14.1.0 rpds-py-0.26.0 rsa-4.7.2 s3transfer-0.13.1 send2trash-1.8.3 setuptools-80.9.0 shellingham-1.5.4 six-1.17.0 slack-bolt-1.23.0 slack_sdk-3.36.0 sniffio-1.3.1 soupsieve-2.7 sse-starlette-3.0.2 stack_data-0.6.3 starlette-0.47.2 strands-agents-1.2.0 strands-agents-tools-0.2.3 sympy-1.14.0 tenacity-9.1.2 termcolor-3.1.0 terminado-0.18.1 tinycss2-1.4.0 toml-0.10.2 tornado-6.5.1 traitlets-5.14.3 typer-0.16.0 types-python-dateutil-2.9.0.20250708 typing-extensions-4.14.1 typing-inspection-0.4.1 uri-template-1.3.0 urllib3-2.5.0 uv-0.8.4 uvicorn-0.35.0 watchdog-6.0.0 wcwidth-0.2.13 webcolors-24.11.1 webencodings-0.5.1 websocket-client-1.8.0 widgetsnbextension-4.0.14 wrapt-1.17.2 xxhash-3.5.0 zipp-3.23.0 zstandard-0.23.0\n",
      "INFO:bedrock_agentcore_starter_toolkit.utils.runtime.container:Build: Successfully installed MarkupSafe-3.0.2 PyYAML-6.0.2 SQLAlchemy-2.0.42 annotated-types-0.7.0 anyio-4.10.0 argon2-cffi-25.1.0 argon2-cffi-bindings-25.1.0 arrow-1.3.0 asttokens-3.0.0 async-lru-2.0.5 attrs-25.3.0 aws-requests-auth-0.4.3 awscli-1.42.1 babel-2.17.0 beautifulsoup4-4.13.4 bedrock-agentcore-0.1.1 bedrock-agentcore-starter-toolkit-0.1.3 bleach-6.2.0 boto3-1.40.1 botocore-1.40.1 certifi-2025.8.3 cffi-1.17.1 charset_normalizer-3.4.2 click-8.2.1 colorama-0.4.6 comm-0.2.3 debugpy-1.8.15 decorator-5.2.1 defusedxml-0.7.1 dill-0.4.0 docstring-parser-0.17.0 docutils-0.19 executing-2.2.0 fastjsonschema-2.21.1 fqdn-1.5.1 greenlet-3.2.3 h11-0.16.0 html5lib-1.1 httpcore-1.0.9 httpx-0.28.1 httpx-sse-0.4.1 idna-3.10 importlib-metadata-8.7.0 ipykernel-6.30.0 ipython-9.4.0 ipython-pygments-lexers-1.1.1 ipywidgets-8.1.7 isoduration-20.11.0 jedi-0.19.2 jinja2-3.1.6 jmespath-1.0.1 json5-0.12.0 jsonpatch-1.33 jsonpointer-3.0.0 jsonschema-4.25.0 jsonschema-specifications-2025.4.1 jupyter-1.1.1 jupyter-client-8.6.3 jupyter-console-6.6.3 jupyter-core-5.8.1 jupyter-events-0.12.0 jupyter-lsp-2.2.6 jupyter-server-2.16.0 jupyter-server-terminals-0.5.3 jupyterlab-4.4.5 jupyterlab-pygments-0.3.0 jupyterlab-server-2.27.3 jupyterlab_widgets-3.0.15 langchain-0.3.27 langchain-aws-0.2.30 langchain-core-0.3.72 langchain-text-splitters-0.3.9 langgraph-0.6.3 langgraph-checkpoint-2.1.1 langgraph-prebuilt-0.6.3 langgraph-sdk-0.2.0 langsmith-0.4.10 lark-1.2.2 lxml-6.0.0 markdown-it-py-3.0.0 markdownify-1.1.0 matplotlib-inline-0.1.7 mcp-1.12.3 mdurl-0.1.2 mistune-3.1.3 mpmath-1.3.0 nbclient-0.10.2 nbconvert-7.16.6 nbformat-5.10.4 nest-asyncio-1.6.0 notebook-7.4.4 notebook-shim-0.2.4 numpy-2.3.2 opentelemetry-api-1.36.0 opentelemetry-instrumentation-0.57b0 opentelemetry-instrumentation-langchain-0.44.1 opentelemetry-instrumentation-threading-0.57b0 opentelemetry-sdk-1.36.0 opentelemetry-semantic-conventions-0.57b0 opentelemetry-semantic-conventions-ai-0.4.11 orjson-3.11.1 ormsgpack-1.10.0 overrides-7.7.0 packaging-25.0 pandocfilters-1.5.1 parso-0.8.4 pexpect-4.9.0 pillow-11.3.0 platformdirs-4.3.8 prometheus-client-0.22.1 prompt-toolkit-3.0.51 psutil-7.0.0 ptyprocess-0.7.0 pure-eval-0.2.3 pyasn1-0.6.1 pycparser-2.22 pydantic-2.11.7 pydantic-core-2.33.2 pydantic-settings-2.10.1 pygments-2.19.2 pyjwt-2.10.1 python-dateutil-2.9.0.post0 python-dotenv-1.1.1 python-json-logger-3.3.0 python-multipart-0.0.20 pyzmq-27.0.1 readabilipy-0.3.0 referencing-0.36.2 regex-2025.7.34 requests-2.32.4 requests-toolbelt-1.0.0 rfc3339-validator-0.1.4 rfc3986-validator-0.1.1 rfc3987-syntax-1.1.0 rich-14.1.0 rpds-py-0.26.0 rsa-4.7.2 s3transfer-0.13.1 send2trash-1.8.3 setuptools-80.9.0 shellingham-1.5.4 six-1.17.0 slack-bolt-1.23.0 slack_sdk-3.36.0 sniffio-1.3.1 soupsieve-2.7 sse-starlette-3.0.2 stack_data-0.6.3 starlette-0.47.2 strands-agents-1.2.0 strands-agents-tools-0.2.3 sympy-1.14.0 tenacity-9.1.2 termcolor-3.1.0 terminado-0.18.1 tinycss2-1.4.0 toml-0.10.2 tornado-6.5.1 traitlets-5.14.3 typer-0.16.0 types-python-dateutil-2.9.0.20250708 typing-extensions-4.14.1 typing-inspection-0.4.1 uri-template-1.3.0 urllib3-2.5.0 uv-0.8.4 uvicorn-0.35.0 watchdog-6.0.0 wcwidth-0.2.13 webcolors-24.11.1 webencodings-0.5.1 websocket-client-1.8.0 widgetsnbextension-4.0.14 wrapt-1.17.2 xxhash-3.5.0 zipp-3.23.0 zstandard-0.23.0\n",
      "Build: \u001b[91mERROR: pip's dependency resolver does not currently take into account all the packages that are installed. This behaviour is the source of the following dependency conflicts.\n",
      "ERROR:bedrock_agentcore_starter_toolkit.utils.runtime.container:Build: \u001b[91mERROR: pip's dependency resolver does not currently take into account all the packages that are installed. This behaviour is the source of the following dependency conflicts.\n",
      "Build: Successfully built 61e9394bc26a\n",
      "INFO:bedrock_agentcore_starter_toolkit.utils.runtime.container:Build: Successfully built 61e9394bc26a\n",
      "Build: Successfully tagged bedrock_agentcore-strands_langgraph_bedrock:latest\n",
      "INFO:bedrock_agentcore_starter_toolkit.utils.runtime.container:Build: Successfully tagged bedrock_agentcore-strands_langgraph_bedrock:latest\n",
      "Docker image built: bedrock_agentcore-strands_langgraph_bedrock:latest\n",
      "INFO:bedrock_agentcore_starter_toolkit.operations.runtime.launch:Docker image built: bedrock_agentcore-strands_langgraph_bedrock:latest\n",
      "Using execution role from config: arn:aws:iam::615299776985:role/agentcore-strandlanggraph_bedrock-role\n",
      "INFO:bedrock_agentcore_starter_toolkit.operations.runtime.launch:Using execution role from config: arn:aws:iam::615299776985:role/agentcore-strandlanggraph_bedrock-role\n",
      "✅ Execution role validation passed: arn:aws:iam::615299776985:role/agentcore-strandlanggraph_bedrock-role\n",
      "INFO:bedrock_agentcore_starter_toolkit.operations.runtime.launch:✅ Execution role validation passed: arn:aws:iam::615299776985:role/agentcore-strandlanggraph_bedrock-role\n",
      "Uploading to ECR...\n",
      "INFO:bedrock_agentcore_starter_toolkit.operations.runtime.launch:Uploading to ECR...\n",
      "Getting or creating ECR repository for agent: strands_langgraph_bedrock\n",
      "INFO:bedrock_agentcore_starter_toolkit.operations.runtime.launch:Getting or creating ECR repository for agent: strands_langgraph_bedrock\n",
      "✅ ECR repository available: 615299776985.dkr.ecr.us-west-2.amazonaws.com/bedrock-agentcore-strands_langgraph_bedrock\n",
      "INFO:bedrock_agentcore_starter_toolkit.operations.runtime.launch:✅ ECR repository available: 615299776985.dkr.ecr.us-west-2.amazonaws.com/bedrock-agentcore-strands_langgraph_bedrock\n"
     ]
    },
    {
     "name": "stdout",
     "output_type": "stream",
     "text": [
      "✅ Reusing existing ECR repository: 615299776985.dkr.ecr.us-west-2.amazonaws.com/bedrock-agentcore-strands_langgraph_bedrock\n"
     ]
    },
    {
     "name": "stderr",
     "output_type": "stream",
     "text": [
      "Authenticating with registry...\n",
      "INFO:bedrock_agentcore_starter_toolkit.utils.runtime.container:Authenticating with registry...\n",
      "Registry authentication successful\n",
      "INFO:bedrock_agentcore_starter_toolkit.utils.runtime.container:Registry authentication successful\n",
      "Tagging image: bedrock_agentcore-strands_langgraph_bedrock:latest -> 615299776985.dkr.ecr.us-west-2.amazonaws.com/bedrock-agentcore-strands_langgraph_bedrock:latest\n",
      "INFO:bedrock_agentcore_starter_toolkit.utils.runtime.container:Tagging image: bedrock_agentcore-strands_langgraph_bedrock:latest -> 615299776985.dkr.ecr.us-west-2.amazonaws.com/bedrock-agentcore-strands_langgraph_bedrock:latest\n",
      "Pushing image to registry...\n",
      "INFO:bedrock_agentcore_starter_toolkit.utils.runtime.container:Pushing image to registry...\n"
     ]
    },
    {
     "name": "stdout",
     "output_type": "stream",
     "text": [
      "The push refers to repository [615299776985.dkr.ecr.us-west-2.amazonaws.com/bedrock-agentcore-strands_langgraph_bedrock]\n",
      "9c2e489caf33: Preparing\n",
      "8069433ef2a8: Preparing\n",
      "630c4be75fed: Preparing\n",
      "5a2b9050aa4c: Preparing\n",
      "6ed6547a37cd: Preparing\n",
      "2e763e579d90: Preparing\n",
      "05ed7b2bcaa5: Preparing\n",
      "d74514903961: Preparing\n",
      "e26286284f6e: Preparing\n",
      "dd97e58b4e81: Preparing\n",
      "e26286284f6e: Waiting\n",
      "2e763e579d90: Waiting\n",
      "05ed7b2bcaa5: Waiting\n",
      "dd97e58b4e81: Waiting\n",
      "d74514903961: Waiting\n",
      "6ed6547a37cd: Pushed\n",
      "8069433ef2a8: Pushed\n",
      "2e763e579d90: Layer already exists\n",
      "05ed7b2bcaa5: Layer already exists\n",
      "d74514903961: Layer already exists\n",
      "9c2e489caf33: Pushed\n",
      "e26286284f6e: Layer already exists\n",
      "dd97e58b4e81: Layer already exists\n",
      "630c4be75fed: Pushed\n",
      "5a2b9050aa4c: Pushed\n"
     ]
    },
    {
     "name": "stderr",
     "output_type": "stream",
     "text": [
      "Image pushed successfully\n",
      "INFO:bedrock_agentcore_starter_toolkit.utils.runtime.container:Image pushed successfully\n",
      "Image uploaded to ECR: 615299776985.dkr.ecr.us-west-2.amazonaws.com/bedrock-agentcore-strands_langgraph_bedrock\n",
      "INFO:bedrock_agentcore_starter_toolkit.operations.runtime.launch:Image uploaded to ECR: 615299776985.dkr.ecr.us-west-2.amazonaws.com/bedrock-agentcore-strands_langgraph_bedrock\n",
      "Deploying to Bedrock AgentCore...\n",
      "INFO:bedrock_agentcore_starter_toolkit.operations.runtime.launch:Deploying to Bedrock AgentCore...\n"
     ]
    },
    {
     "name": "stdout",
     "output_type": "stream",
     "text": [
      "latest: digest: sha256:255419f1831b0cd4b6a90c6bea927ddde03ca1d1bb5c99e53c66f86405f8dcea size: 2415\n"
     ]
    },
    {
     "name": "stderr",
     "output_type": "stream",
     "text": [
      "✅ Agent created/updated: arn:aws:bedrock-agentcore:us-west-2:615299776985:runtime/strands_langgraph_bedrock-cX1ijBFQs8\n",
      "INFO:bedrock_agentcore_starter_toolkit.operations.runtime.launch:✅ Agent created/updated: arn:aws:bedrock-agentcore:us-west-2:615299776985:runtime/strands_langgraph_bedrock-cX1ijBFQs8\n",
      "Polling for endpoint to be ready...\n",
      "INFO:bedrock_agentcore_starter_toolkit.operations.runtime.launch:Polling for endpoint to be ready...\n",
      "Agent endpoint: arn:aws:bedrock-agentcore:us-west-2:615299776985:runtime/strands_langgraph_bedrock-cX1ijBFQs8/runtime-endpoint/DEFAULT\n",
      "INFO:bedrock_agentcore_starter_toolkit.operations.runtime.launch:Agent endpoint: arn:aws:bedrock-agentcore:us-west-2:615299776985:runtime/strands_langgraph_bedrock-cX1ijBFQs8/runtime-endpoint/DEFAULT\n",
      "Deployed to cloud: arn:aws:bedrock-agentcore:us-west-2:615299776985:runtime/strands_langgraph_bedrock-cX1ijBFQs8\n",
      "INFO:bedrock_agentcore_starter_toolkit.notebook.runtime.bedrock_agentcore:Deployed to cloud: arn:aws:bedrock-agentcore:us-west-2:615299776985:runtime/strands_langgraph_bedrock-cX1ijBFQs8\n",
      "🔍 Agent logs available at:\n",
      "INFO:bedrock_agentcore_starter_toolkit.notebook.runtime.bedrock_agentcore:🔍 Agent logs available at:\n",
      "   /aws/bedrock-agentcore/runtimes/strands_langgraph_bedrock-cX1ijBFQs8-DEFAULT\n",
      "INFO:bedrock_agentcore_starter_toolkit.notebook.runtime.bedrock_agentcore:   /aws/bedrock-agentcore/runtimes/strands_langgraph_bedrock-cX1ijBFQs8-DEFAULT\n",
      "   /aws/bedrock-agentcore/runtimes/strands_langgraph_bedrock-cX1ijBFQs8-DEFAULT/runtime-logs\n",
      "INFO:bedrock_agentcore_starter_toolkit.notebook.runtime.bedrock_agentcore:   /aws/bedrock-agentcore/runtimes/strands_langgraph_bedrock-cX1ijBFQs8-DEFAULT/runtime-logs\n",
      "💡 Tail logs with: aws logs tail /aws/bedrock-agentcore/runtimes/strands_langgraph_bedrock-cX1ijBFQs8-DEFAULT --follow\n",
      "INFO:bedrock_agentcore_starter_toolkit.notebook.runtime.bedrock_agentcore:💡 Tail logs with: aws logs tail /aws/bedrock-agentcore/runtimes/strands_langgraph_bedrock-cX1ijBFQs8-DEFAULT --follow\n",
      "💡 Or view recent logs: aws logs tail /aws/bedrock-agentcore/runtimes/strands_langgraph_bedrock-cX1ijBFQs8-DEFAULT --since 1h\n",
      "INFO:bedrock_agentcore_starter_toolkit.notebook.runtime.bedrock_agentcore:💡 Or view recent logs: aws logs tail /aws/bedrock-agentcore/runtimes/strands_langgraph_bedrock-cX1ijBFQs8-DEFAULT --since 1h\n"
     ]
    }
   ],
   "source": [
    "launch_result = agentcore_runtime.launch()"
   ]
  },
  {
   "cell_type": "code",
   "execution_count": 45,
   "id": "4491351a",
   "metadata": {},
   "outputs": [
    {
     "name": "stdout",
     "output_type": "stream",
     "text": [
      "Machine: aarch64\n",
      "Processor: aarch64\n",
      "Architecture: ('64bit', 'ELF')\n",
      "Platform: Linux-6.8.0-1033-aws-aarch64-with-glibc2.35\n"
     ]
    }
   ],
   "source": [
    "import platform\n",
    "\n",
    "print(f\"Machine: {platform.machine()}\")\n",
    "print(f\"Processor: {platform.processor()}\")\n",
    "print(f\"Architecture: {platform.architecture()}\")\n",
    "print(f\"Platform: {platform.platform()}\")"
   ]
  },
  {
   "cell_type": "markdown",
   "id": "a0ae9c09-09db-4a76-871a-92eacd96b9c3",
   "metadata": {},
   "source": [
    "### Checking for the AgentCore Runtime Status\n",
    "Now that we've deployed the AgentCore Runtime, let's check for it's deployment status"
   ]
  },
  {
   "cell_type": "code",
   "execution_count": 46,
   "id": "afa6ac09-9adb-4846-9fc1-4d12aeb74853",
   "metadata": {},
   "outputs": [
    {
     "name": "stderr",
     "output_type": "stream",
     "text": [
      "Retrieved Bedrock AgentCore status for: strands_langgraph_bedrock\n",
      "INFO:bedrock_agentcore_starter_toolkit.notebook.runtime.bedrock_agentcore:Retrieved Bedrock AgentCore status for: strands_langgraph_bedrock\n"
     ]
    },
    {
     "data": {
      "text/plain": [
       "'READY'"
      ]
     },
     "execution_count": 46,
     "metadata": {},
     "output_type": "execute_result"
    }
   ],
   "source": [
    "status_response = agentcore_runtime.status()\n",
    "status = status_response.endpoint['status']\n",
    "end_status = ['READY', 'CREATE_FAILED', 'DELETE_FAILED', 'UPDATE_FAILED']\n",
    "while status not in end_status:\n",
    "    time.sleep(10)\n",
    "    status_response = agentcore_runtime.status()\n",
    "    status = status_response.endpoint['status']\n",
    "    print(status)\n",
    "status"
   ]
  },
  {
   "cell_type": "markdown",
   "id": "b7f89c56-918a-4cab-beaa-c7ac43a2ba29",
   "metadata": {},
   "source": [
    "### Invoking AgentCore Runtime\n",
    "\n",
    "Finally, we can invoke our AgentCore Runtime with a payload\n",
    "\n",
    "<div style=\"text-align:left\">\n",
    "    <img src=\"images/invoke.png\" width=75%\"/>\n",
    "</div>"
   ]
  },
  {
   "cell_type": "code",
   "execution_count": 56,
   "id": "3d909e42-e1a0-407f-84c2-3d16cc889cd3",
   "metadata": {},
   "outputs": [
    {
     "name": "stderr",
     "output_type": "stream",
     "text": [
      "Invoking BedrockAgentCore agent 'strands_langgraph_bedrock' via cloud endpoint\n",
      "INFO:bedrock_agentcore_starter_toolkit.operations.runtime.invoke:Invoking BedrockAgentCore agent 'strands_langgraph_bedrock' via cloud endpoint\n"
     ]
    },
    {
     "data": {
      "text/plain": [
       "{'ResponseMetadata': {'RequestId': '6d060398-3b5a-4284-884d-64bafc5c0f67',\n",
       "  'HTTPStatusCode': 200,\n",
       "  'HTTPHeaders': {'date': 'Mon, 04 Aug 2025 09:15:52 GMT',\n",
       "   'content-type': 'application/json',\n",
       "   'transfer-encoding': 'chunked',\n",
       "   'connection': 'keep-alive',\n",
       "   'x-amzn-requestid': '6d060398-3b5a-4284-884d-64bafc5c0f67',\n",
       "   'baggage': 'Self=1-68907a35-7cacfb55363afae112c16f0a,session.id=efcc3c0d-7c7e-4d19-b1d1-b575efced24a',\n",
       "   'x-amzn-bedrock-agentcore-runtime-session-id': 'efcc3c0d-7c7e-4d19-b1d1-b575efced24a',\n",
       "   'x-amzn-trace-id': 'Root=1-68907a35-67c800110c29688a49e2a037;Self=1-68907a35-7cacfb55363afae112c16f0a'},\n",
       "  'RetryAttempts': 0},\n",
       " 'runtimeSessionId': 'efcc3c0d-7c7e-4d19-b1d1-b575efced24a',\n",
       " 'traceId': 'Root=1-68907a35-67c800110c29688a49e2a037;Self=1-68907a35-7cacfb55363afae112c16f0a',\n",
       " 'baggage': 'Self=1-68907a35-7cacfb55363afae112c16f0a,session.id=efcc3c0d-7c7e-4d19-b1d1-b575efced24a',\n",
       " 'contentType': 'application/json',\n",
       " 'statusCode': 200,\n",
       " 'response': [b'{\"full_plan\": \"# Plan\\\\n\\\\n## thought\\\\n\\xec\\x82\\xac\\xec\\x9a\\xa9\\xec\\x9e\\x90 \\xec\\x9e\\xa5\\xeb\\x8f\\x99\\xec\\xa7\\x84\\xec\\x94\\xa8\\xea\\xb0\\x80 \\xed\\x95\\x9c\\xea\\xb5\\xad\\xec\\x96\\xb4\\xeb\\xa1\\x9c \\xeb\\x8d\\xb0\\xec\\x9d\\xb4\\xed\\x84\\xb0\\xeb\\xa5\\xbc \\xec\\xa0\\x9c\\xea\\xb3\\xb5\\xed\\x95\\x98\\xea\\xb3\\xa0 \\xec\\x9d\\xb8\\xec\\x82\\xac\\xec\\x9d\\xb4\\xed\\x8a\\xb8\\xeb\\xa5\\xbc \\xec\\xb6\\x94\\xec\\xb6\\x9c\\xed\\x95\\x98\\xea\\xb3\\xa0 \\xec\\x8b\\xb6\\xeb\\x8b\\xa4\\xea\\xb3\\xa0 \\xec\\x9a\\x94\\xec\\xb2\\xad\\xed\\x96\\x88\\xec\\x8a\\xb5\\xeb\\x8b\\x88\\xeb\\x8b\\xa4. \\xed\\x95\\x98\\xec\\xa7\\x80\\xeb\\xa7\\x8c \\xec\\x95\\x84\\xec\\xa7\\x81 \\xea\\xb5\\xac\\xec\\xb2\\xb4\\xec\\xa0\\x81\\xec\\x9d\\xb8 \\xeb\\x8d\\xb0\\xec\\x9d\\xb4\\xed\\x84\\xb0\\xeb\\x82\\x98 \\xeb\\xb6\\x84\\xec\\x84\\x9d \\xeb\\xaa\\xa9\\xed\\x91\\x9c\\xeb\\xa5\\xbc \\xec\\xa0\\x9c\\xea\\xb3\\xb5\\xed\\x95\\x98\\xec\\xa7\\x80 \\xec\\x95\\x8a\\xec\\x95\\x98\\xec\\x8a\\xb5\\xeb\\x8b\\x88\\xeb\\x8b\\xa4. \\xeb\\x94\\xb0\\xeb\\x9d\\xbc\\xec\\x84\\x9c \\xeb\\xa8\\xbc\\xec\\xa0\\x80 \\xeb\\x8d\\xb0\\xec\\x9d\\xb4\\xed\\x84\\xb0 \\xec\\x9a\\x94\\xea\\xb5\\xac\\xec\\x82\\xac\\xed\\x95\\xad\\xec\\x9d\\x84 \\xec\\x9d\\xb4\\xed\\x95\\xb4\\xed\\x95\\x98\\xea\\xb3\\xa0, \\xea\\xb7\\xb8 \\xed\\x9b\\x84\\xec\\x97\\x90 \\xec\\xbd\\x94\\xeb\\x94\\xa9\\xea\\xb3\\xbc \\xeb\\xa6\\xac\\xed\\x8f\\xac\\xed\\x8c\\x85 \\xeb\\x8b\\xa8\\xea\\xb3\\x84\\xeb\\xa5\\xbc \\xec\\xa7\\x84\\xed\\x96\\x89\\xed\\x95\\xb4\\xec\\x95\\xbc \\xed\\x95\\xa9\\xeb\\x8b\\x88\\xeb\\x8b\\xa4.\\\\n\\\\n## title:\\\\n\\xec\\x9e\\xa5\\xeb\\x8f\\x99\\xec\\xa7\\x84\\xeb\\x8b\\x98\\xec\\x9d\\x98 \\xeb\\x8d\\xb0\\xec\\x9d\\xb4\\xed\\x84\\xb0 \\xeb\\xb6\\x84\\xec\\x84\\x9d \\xeb\\xb0\\x8f \\xec\\x9d\\xb8\\xec\\x82\\xac\\xec\\x9d\\xb4\\xed\\x8a\\xb8 \\xec\\xb6\\x94\\xec\\xb6\\x9c \\xed\\x94\\x84\\xeb\\xa1\\x9c\\xec\\xa0\\x9d\\xed\\x8a\\xb8\\\\n\\\\n## steps:\\\\n### 1. Coder: \\xeb\\x8d\\xb0\\xec\\x9d\\xb4\\xed\\x84\\xb0 \\xec\\x88\\x98\\xec\\xa7\\x91 \\xeb\\xb0\\x8f \\xeb\\xb6\\x84\\xec\\x84\\x9d \\xec\\xa4\\x80\\xeb\\xb9\\x84\\\\n- [ ] \\xec\\x82\\xac\\xec\\x9a\\xa9\\xec\\x9e\\x90\\xeb\\xa1\\x9c\\xeb\\xb6\\x80\\xed\\x84\\xb0 \\xeb\\xb6\\x84\\xec\\x84\\x9d\\xed\\x95\\xa0 \\xeb\\x8d\\xb0\\xec\\x9d\\xb4\\xed\\x84\\xb0\\xec\\x9d\\x98 \\xec\\x9c\\xa0\\xed\\x98\\x95 \\xeb\\xb0\\x8f \\xed\\x98\\x95\\xec\\x8b\\x9d \\xed\\x99\\x95\\xec\\x9d\\xb8\\\\n- [ ] \\xeb\\x8d\\xb0\\xec\\x9d\\xb4\\xed\\x84\\xb0 \\xec\\x88\\x98\\xec\\xa7\\x91 \\xeb\\xb0\\xa9\\xeb\\xb2\\x95 \\xea\\xb2\\xb0\\xec\\xa0\\x95 (\\xed\\x8c\\x8c\\xec\\x9d\\xbc \\xec\\x97\\x85\\xeb\\xa1\\x9c\\xeb\\x93\\x9c, API, \\xec\\x88\\x98\\xeb\\x8f\\x99 \\xec\\x9e\\x85\\xeb\\xa0\\xa5 \\xeb\\x93\\xb1)\\\\n- [ ] \\xed\\x95\\x84\\xec\\x9a\\x94\\xed\\x95\\x9c \\xeb\\xb6\\x84\\xec\\x84\\x9d \\xeb\\x8f\\x84\\xea\\xb5\\xac \\xeb\\xb0\\x8f \\xeb\\x9d\\xbc\\xec\\x9d\\xb4\\xeb\\xb8\\x8c\\xeb\\x9f\\xac\\xeb\\xa6\\xac \\xec\\x8b\\x9d\\xeb\\xb3\\x84\\\\n- [ ] \\xec\\xb4\\x88\\xea\\xb8\\xb0 \\xeb\\x8d\\xb0\\xec\\x9d\\xb4\\xed\\x84\\xb0 \\xed\\x83\\x90\\xec\\x83\\x89 \\xeb\\xb0\\x8f \\xec\\xa0\\x84\\xec\\xb2\\x98\\xeb\\xa6\\xac \\xea\\xb3\\x84\\xed\\x9a\\x8d \\xec\\x88\\x98\\xeb\\xa6\\xbd\\\\n\\\\n### 2. Reporter: \\xec\\xb5\\x9c\\xec\\xa2\\x85 \\xeb\\xb3\\xb4\\xea\\xb3\\xa0\\xec\\x84\\x9c \\xec\\x9e\\x91\\xec\\x84\\xb1 \\xeb\\xb0\\x8f \\xec\\x9d\\xb8\\xec\\x82\\xac\\xec\\x9d\\xb4\\xed\\x8a\\xb8 \\xec\\xa0\\x9c\\xea\\xb3\\xb5\\\\n- [ ] \\xeb\\xb6\\x84\\xec\\x84\\x9d\\xeb\\x90\\x9c \\xeb\\x8d\\xb0\\xec\\x9d\\xb4\\xed\\x84\\xb0\\xeb\\xa5\\xbc \\xea\\xb8\\xb0\\xeb\\xb0\\x98\\xec\\x9c\\xbc\\xeb\\xa1\\x9c \\xec\\xa3\\xbc\\xec\\x9a\\x94 \\xec\\x9d\\xb8\\xec\\x82\\xac\\xec\\x9d\\xb4\\xed\\x8a\\xb8 \\xec\\x9a\\x94\\xec\\x95\\xbd\\\\n- [ ] \\xec\\x8b\\x9c\\xea\\xb0\\x81\\xec\\xa0\\x81 \\xec\\x9e\\x90\\xeb\\xa3\\x8c\\xeb\\xa5\\xbc \\xed\\x8f\\xac\\xed\\x95\\xa8\\xed\\x95\\x9c \\xec\\xa2\\x85\\xed\\x95\\xa9 \\xeb\\xb3\\xb4\\xea\\xb3\\xa0\\xec\\x84\\x9c \\xec\\x9e\\x91\\xec\\x84\\xb1\\\\n- [ ] \\xeb\\xb0\\x9c\\xea\\xb2\\xac\\xeb\\x90\\x9c \\xec\\x9d\\xb8\\xec\\x82\\xac\\xec\\x9d\\xb4\\xed\\x8a\\xb8\\xec\\x97\\x90 ',\n",
       "  b'\\xea\\xb8\\xb0\\xeb\\xb0\\x98\\xed\\x95\\x9c \\xea\\xb6\\x8c\\xec\\x9e\\xa5\\xec\\x82\\xac\\xed\\x95\\xad \\xec\\xa0\\x9c\\xea\\xb3\\xb5\\\\n- [ ] \\xec\\xb6\\x94\\xea\\xb0\\x80 \\xeb\\xb6\\x84\\xec\\x84\\x9d\\xec\\x9d\\xb4 \\xed\\x95\\x84\\xec\\x9a\\x94\\xed\\x95\\x9c \\xec\\x98\\x81\\xec\\x97\\xad \\xec\\x8b\\x9d\\xeb\\xb3\\x84\", \"messages\": [{\"role\": \"user\", \"content\": [{\"text\": \"# Plan\\\\n\\\\n## thought\\\\n\\xec\\x82\\xac\\xec\\x9a\\xa9\\xec\\x9e\\x90 \\xec\\x9e\\xa5\\xeb\\x8f\\x99\\xec\\xa7\\x84\\xec\\x94\\xa8\\xea\\xb0\\x80 \\xed\\x95\\x9c\\xea\\xb5\\xad\\xec\\x96\\xb4\\xeb\\xa1\\x9c \\xeb\\x8d\\xb0\\xec\\x9d\\xb4\\xed\\x84\\xb0\\xeb\\xa5\\xbc \\xec\\xa0\\x9c\\xea\\xb3\\xb5\\xed\\x95\\x98\\xea\\xb3\\xa0 \\xec\\x9d\\xb8\\xec\\x82\\xac\\xec\\x9d\\xb4\\xed\\x8a\\xb8\\xeb\\xa5\\xbc \\xec\\xb6\\x94\\xec\\xb6\\x9c\\xed\\x95\\x98\\xea\\xb3\\xa0 \\xec\\x8b\\xb6\\xeb\\x8b\\xa4\\xea\\xb3\\xa0 \\xec\\x9a\\x94\\xec\\xb2\\xad\\xed\\x96\\x88\\xec\\x8a\\xb5\\xeb\\x8b\\x88\\xeb\\x8b\\xa4. \\xed\\x95\\x98\\xec\\xa7\\x80\\xeb\\xa7\\x8c \\xec\\x95\\x84\\xec\\xa7\\x81 \\xea\\xb5\\xac\\xec\\xb2\\xb4\\xec\\xa0\\x81\\xec\\x9d\\xb8 \\xeb\\x8d\\xb0\\xec\\x9d\\xb4\\xed\\x84\\xb0\\xeb\\x82\\x98 \\xeb\\xb6\\x84\\xec\\x84\\x9d \\xeb\\xaa\\xa9\\xed\\x91\\x9c\\xeb\\xa5\\xbc \\xec\\xa0\\x9c\\xea\\xb3\\xb5\\xed\\x95\\x98\\xec\\xa7\\x80 \\xec\\x95\\x8a\\xec\\x95\\x98\\xec\\x8a\\xb5\\xeb\\x8b\\x88\\xeb\\x8b\\xa4. \\xeb\\x94\\xb0\\xeb\\x9d\\xbc\\xec\\x84\\x9c \\xeb\\xa8\\xbc\\xec\\xa0\\x80 \\xeb\\x8d\\xb0\\xec\\x9d\\xb4\\xed\\x84\\xb0 \\xec\\x9a\\x94\\xea\\xb5\\xac\\xec\\x82\\xac\\xed\\x95\\xad\\xec\\x9d\\x84 \\xec\\x9d\\xb4\\xed\\x95\\xb4\\xed\\x95\\x98\\xea\\xb3\\xa0, \\xea\\xb7\\xb8 \\xed\\x9b\\x84\\xec\\x97\\x90 \\xec\\xbd\\x94\\xeb\\x94\\xa9\\xea\\xb3\\xbc \\xeb\\xa6\\xac\\xed\\x8f\\xac\\xed\\x8c\\x85 \\xeb\\x8b\\xa8\\xea\\xb3\\x84\\xeb\\xa5\\xbc \\xec\\xa7\\x84\\xed\\x96\\x89\\xed\\x95\\xb4\\xec\\x95\\xbc \\xed\\x95\\xa9\\xeb\\x8b\\x88\\xeb\\x8b\\xa4.\\\\n\\\\n## title:\\\\n\\xec\\x9e\\xa5\\xeb\\x8f\\x99\\xec\\xa7\\x84\\xeb\\x8b\\x98\\xec\\x9d\\x98 \\xeb\\x8d\\xb0\\xec\\x9d\\xb4\\xed\\x84\\xb0 \\xeb\\xb6\\x84\\xec\\x84\\x9d \\xeb\\xb0\\x8f \\xec\\x9d\\xb8\\xec\\x82\\xac\\xec\\x9d\\xb4\\xed\\x8a\\xb8 \\xec\\xb6\\x94\\xec\\xb6\\x9c \\xed\\x94\\x84\\xeb\\xa1\\x9c\\xec\\xa0\\x9d\\xed\\x8a\\xb8\\\\n\\\\n## steps:\\\\n### 1. Coder: \\xeb\\x8d\\xb0\\xec\\x9d\\xb4\\xed\\x84\\xb0 \\xec\\x88\\x98\\xec\\xa7\\x91 \\xeb\\xb0\\x8f \\xeb\\xb6\\x84\\xec\\x84\\x9d \\xec\\xa4\\x80\\xeb\\xb9\\x84\\\\n- [ ] \\xec\\x82\\xac\\xec\\x9a\\xa9\\xec\\x9e\\x90\\xeb\\xa1\\x9c\\xeb\\xb6\\x80\\xed\\x84\\xb0 \\xeb\\xb6\\x84\\xec\\x84\\x9d\\xed\\x95\\xa0 \\xeb\\x8d\\xb0\\xec\\x9d\\xb4\\xed\\x84\\xb0\\xec\\x9d\\x98 \\xec\\x9c\\xa0\\xed\\x98\\x95 \\xeb\\xb0\\x8f \\xed\\x98\\x95\\xec\\x8b\\x9d \\xed\\x99\\x95\\xec\\x9d\\xb8\\\\n- [ ] \\xeb\\x8d\\xb0\\xec\\x9d\\xb4\\xed\\x84\\xb0 \\xec\\x88\\x98\\xec\\xa7\\x91 \\xeb\\xb0\\xa9\\xeb\\xb2\\x95 \\xea\\xb2\\xb0\\xec\\xa0\\x95 (\\xed\\x8c\\x8c\\xec\\x9d\\xbc \\xec\\x97\\x85\\xeb\\xa1\\x9c\\xeb\\x93\\x9c, API, \\xec\\x88\\x98\\xeb\\x8f\\x99 \\xec\\x9e\\x85\\xeb\\xa0\\xa5 \\xeb\\x93\\xb1)\\\\n- [ ] \\xed\\x95\\x84\\xec\\x9a\\x94\\xed\\x95\\x9c \\xeb\\xb6\\x84\\xec\\x84\\x9d \\xeb\\x8f\\x84\\xea\\xb5\\xac \\xeb\\xb0\\x8f \\xeb\\x9d\\xbc\\xec\\x9d\\xb4\\xeb\\xb8\\x8c\\xeb\\x9f\\xac\\xeb\\xa6\\xac \\xec\\x8b\\x9d\\xeb\\xb3\\x84\\\\n- [ ] \\xec\\xb4\\x88\\xea\\xb8\\xb0 \\xeb\\x8d\\xb0\\xec\\x9d\\xb4\\xed\\x84\\xb0 \\xed\\x83\\x90\\xec\\x83\\x89 \\xeb\\xb0\\x8f \\xec\\xa0\\x84\\xec\\xb2\\x98\\xeb\\xa6\\xac \\xea\\xb3\\x84\\xed\\x9a\\x8d \\xec\\x88\\x98\\xeb\\xa6\\xbd\\\\n\\\\n### 2. Reporter: \\xec\\xb5\\x9c\\xec\\xa2\\x85 \\xeb\\xb3\\xb4\\xea\\xb3\\xa0\\xec\\x84\\x9c \\xec\\x9e\\x91\\xec\\x84\\xb1 \\xeb\\xb0\\x8f \\xec\\x9d\\xb8\\xec\\x82\\xac\\xec\\x9d\\xb4\\xed\\x8a\\xb8 \\xec\\xa0\\x9c\\xea\\xb3\\xb5\\\\n- [ ] \\xeb\\xb6\\x84\\xec\\x84\\x9d\\xeb\\x90\\x9c \\xeb\\x8d\\xb0\\xec\\x9d\\xb4\\xed\\x84\\xb0\\xeb\\xa5\\xbc \\xea\\xb8\\xb0\\xeb\\xb0\\x98\\xec\\x9c\\xbc\\xeb\\xa1\\x9c \\xec\\xa3\\xbc\\xec',\n",
       "  b'\\x9a\\x94 \\xec\\x9d\\xb8\\xec\\x82\\xac\\xec\\x9d\\xb4\\xed\\x8a\\xb8 \\xec\\x9a\\x94\\xec\\x95\\xbd\\\\n- [ ] \\xec\\x8b\\x9c\\xea\\xb0\\x81\\xec\\xa0\\x81 \\xec\\x9e\\x90\\xeb\\xa3\\x8c\\xeb\\xa5\\xbc \\xed\\x8f\\xac\\xed\\x95\\xa8\\xed\\x95\\x9c \\xec\\xa2\\x85\\xed\\x95\\xa9 \\xeb\\xb3\\xb4\\xea\\xb3\\xa0\\xec\\x84\\x9c \\xec\\x9e\\x91\\xec\\x84\\xb1\\\\n- [ ] \\xeb\\xb0\\x9c\\xea\\xb2\\xac\\xeb\\x90\\x9c \\xec\\x9d\\xb8\\xec\\x82\\xac\\xec\\x9d\\xb4\\xed\\x8a\\xb8\\xec\\x97\\x90 \\xea\\xb8\\xb0\\xeb\\xb0\\x98\\xed\\x95\\x9c \\xea\\xb6\\x8c\\xec\\x9e\\xa5\\xec\\x82\\xac\\xed\\x95\\xad \\xec\\xa0\\x9c\\xea\\xb3\\xb5\\\\n- [ ] \\xec\\xb6\\x94\\xea\\xb0\\x80 \\xeb\\xb6\\x84\\xec\\x84\\x9d\\xec\\x9d\\xb4 \\xed\\x95\\x84\\xec\\x9a\\x94\\xed\\x95\\x9c \\xec\\x98\\x81\\xec\\x97\\xad \\xec\\x8b\\x9d\\xeb\\xb3\\x84\"}]}], \"messages_name\": \"planner\", \"history\": [{\"agent\": \"coordinator\", \"message\": \"\\xec\\x95\\x88\\xeb\\x85\\x95\\xed\\x95\\x98\\xec\\x84\\xb8\\xec\\x9a\\x94 \\xec\\x9e\\xa5\\xeb\\x8f\\x99\\xec\\xa7\\x84\\xeb\\x8b\\x98! \\xec\\xa0\\x80\\xeb\\x8a\\x94 Bedrock-Manus\\xec\\x9e\\x85\\xeb\\x8b\\x88\\xeb\\x8b\\xa4. \\xeb\\xa7\\x8c\\xeb\\x82\\x98\\xec\\x84\\x9c \\xeb\\xb0\\x98\\xea\\xb0\\x91\\xec\\x8a\\xb5\\xeb\\x8b\\x88\\xeb\\x8b\\xa4!\\\\n\\\\n\\xeb\\x8d\\xb0\\xec\\x9d\\xb4\\xed\\x84\\xb0 \\xeb\\xb6\\x84\\xec\\x84\\x9d\\xea\\xb3\\xbc \\xec\\x9d\\xb8\\xec\\x82\\xac\\xec\\x9d\\xb4\\xed\\x8a\\xb8 \\xec\\xb6\\x94\\xec\\xb6\\x9c\\xec\\x97\\x90 \\xeb\\x8c\\x80\\xed\\x95\\x9c \\xec\\x9a\\x94\\xec\\xb2\\xad\\xec\\x9d\\x80 \\xec\\xa0\\x80\\xed\\x9d\\xac \\xed\\x94\\x8c\\xeb\\x9e\\x98\\xeb\\x84\\x88 \\xec\\x8b\\x9c\\xec\\x8a\\xa4\\xed\\x85\\x9c\\xea\\xb3\\xbc \\xec\\x83\\x81\\xeb\\x8b\\xb4\\xec\\x9d\\xb4 \\xed\\x95\\x84\\xec\\x9a\\x94\\xed\\x95\\xa0 \\xea\\xb2\\x83 \\xea\\xb0\\x99\\xec\\x8a\\xb5\\xeb\\x8b\\x88\\xeb\\x8b\\xa4.\\\\n\\\\nhandoff_to_planner: I\\'ll need to consult our planning system for this request.\"}, {\"agent\": \"planner\", \"message\": \"# Plan\\\\n\\\\n## thought\\\\n\\xec\\x82\\xac\\xec\\x9a\\xa9\\xec\\x9e\\x90 \\xec\\x9e\\xa5\\xeb\\x8f\\x99\\xec\\xa7\\x84\\xec\\x94\\xa8\\xea\\xb0\\x80 \\xed\\x95\\x9c\\xea\\xb5\\xad\\xec\\x96\\xb4\\xeb\\xa1\\x9c \\xeb\\x8d\\xb0\\xec\\x9d\\xb4\\xed\\x84\\xb0\\xeb\\xa5\\xbc \\xec\\xa0\\x9c\\xea\\xb3\\xb5\\xed\\x95\\x98\\xea\\xb3\\xa0 \\xec\\x9d\\xb8\\xec\\x82\\xac\\xec\\x9d\\xb4\\xed\\x8a\\xb8\\xeb\\xa5\\xbc \\xec\\xb6\\x94\\xec\\xb6\\x9c\\xed\\x95\\x98\\xea\\xb3\\xa0 \\xec\\x8b\\xb6\\xeb\\x8b\\xa4\\xea\\xb3\\xa0 \\xec\\x9a\\x94\\xec\\xb2\\xad\\xed\\x96\\x88\\xec\\x8a\\xb5\\xeb\\x8b\\x88\\xeb\\x8b\\xa4. \\xed\\x95\\x98\\xec\\xa7\\x80\\xeb\\xa7\\x8c \\xec\\x95\\x84\\xec\\xa7\\x81 \\xea\\xb5\\xac\\xec\\xb2\\xb4\\xec\\xa0\\x81\\xec\\x9d\\xb8 \\xeb\\x8d\\xb0\\xec\\x9d\\xb4\\xed\\x84\\xb0\\xeb\\x82\\x98 \\xeb\\xb6\\x84\\xec\\x84\\x9d \\xeb\\xaa\\xa9\\xed\\x91\\x9c\\xeb\\xa5\\xbc \\xec\\xa0\\x9c\\xea\\xb3\\xb5\\xed\\x95\\x98\\xec\\xa7\\x80 \\xec\\x95\\x8a\\xec\\x95\\x98\\xec\\x8a\\xb5\\xeb\\x8b\\x88\\xeb\\x8b\\xa4. \\xeb\\x94\\xb0\\xeb\\x9d\\xbc\\xec\\x84\\x9c \\xeb\\xa8\\xbc\\xec\\xa0\\x80 \\xeb\\x8d\\xb0\\xec\\x9d\\xb4\\xed\\x84\\xb0 \\xec\\x9a\\x94\\xea\\xb5\\xac\\xec\\x82\\xac\\xed\\x95\\xad\\xec\\x9d\\x84 \\xec\\x9d\\xb4\\xed\\x95\\xb4\\xed\\x95\\x98\\xea\\xb3\\xa0, \\xea\\xb7\\xb8 \\xed\\x9b\\x84\\xec\\x97\\x90 \\xec\\xbd\\x94\\xeb\\x94\\xa9\\xea\\xb3\\xbc \\xeb\\xa6\\xac\\xed\\x8f\\xac\\xed\\x8c\\x85 \\xeb\\x8b\\xa8\\xea\\xb3\\x84\\xeb\\xa5\\xbc \\xec\\xa7\\x84\\xed\\x96\\x89\\xed\\x95\\xb4\\xec\\x95\\xbc \\xed\\x95\\xa9\\xeb\\x8b\\x88\\xeb\\x8b\\xa4.\\\\n\\\\n## title:\\\\n\\xec\\x9e\\xa5\\xeb\\x8f\\x99\\xec\\xa7\\x84\\xeb\\x8b\\x98\\xec\\x9d\\x98 \\xeb\\x8d\\xb0\\xec\\x9d\\xb4\\xed\\x84\\xb0 \\xeb\\xb6\\x84\\xec\\x84\\x9d \\xeb\\xb0\\x8f ',\n",
       "  b'\\xec\\x9d\\xb8\\xec\\x82\\xac\\xec\\x9d\\xb4\\xed\\x8a\\xb8 \\xec\\xb6\\x94\\xec\\xb6\\x9c \\xed\\x94\\x84\\xeb\\xa1\\x9c\\xec\\xa0\\x9d\\xed\\x8a\\xb8\\\\n\\\\n## steps:\\\\n### 1. Coder: \\xeb\\x8d\\xb0\\xec\\x9d\\xb4\\xed\\x84\\xb0 \\xec\\x88\\x98\\xec\\xa7\\x91 \\xeb\\xb0\\x8f \\xeb\\xb6\\x84\\xec\\x84\\x9d \\xec\\xa4\\x80\\xeb\\xb9\\x84\\\\n- [ ] \\xec\\x82\\xac\\xec\\x9a\\xa9\\xec\\x9e\\x90\\xeb\\xa1\\x9c\\xeb\\xb6\\x80\\xed\\x84\\xb0 \\xeb\\xb6\\x84\\xec\\x84\\x9d\\xed\\x95\\xa0 \\xeb\\x8d\\xb0\\xec\\x9d\\xb4\\xed\\x84\\xb0\\xec\\x9d\\x98 \\xec\\x9c\\xa0\\xed\\x98\\x95 \\xeb\\xb0\\x8f \\xed\\x98\\x95\\xec\\x8b\\x9d \\xed\\x99\\x95\\xec\\x9d\\xb8\\\\n- [ ] \\xeb\\x8d\\xb0\\xec\\x9d\\xb4\\xed\\x84\\xb0 \\xec\\x88\\x98\\xec\\xa7\\x91 \\xeb\\xb0\\xa9\\xeb\\xb2\\x95 \\xea\\xb2\\xb0\\xec\\xa0\\x95 (\\xed\\x8c\\x8c\\xec\\x9d\\xbc \\xec\\x97\\x85\\xeb\\xa1\\x9c\\xeb\\x93\\x9c, API, \\xec\\x88\\x98\\xeb\\x8f\\x99 \\xec\\x9e\\x85\\xeb\\xa0\\xa5 \\xeb\\x93\\xb1)\\\\n- [ ] \\xed\\x95\\x84\\xec\\x9a\\x94\\xed\\x95\\x9c \\xeb\\xb6\\x84\\xec\\x84\\x9d \\xeb\\x8f\\x84\\xea\\xb5\\xac \\xeb\\xb0\\x8f \\xeb\\x9d\\xbc\\xec\\x9d\\xb4\\xeb\\xb8\\x8c\\xeb\\x9f\\xac\\xeb\\xa6\\xac \\xec\\x8b\\x9d\\xeb\\xb3\\x84\\\\n- [ ] \\xec\\xb4\\x88\\xea\\xb8\\xb0 \\xeb\\x8d\\xb0\\xec\\x9d\\xb4\\xed\\x84\\xb0 \\xed\\x83\\x90\\xec\\x83\\x89 \\xeb\\xb0\\x8f \\xec\\xa0\\x84\\xec\\xb2\\x98\\xeb\\xa6\\xac \\xea\\xb3\\x84\\xed\\x9a\\x8d \\xec\\x88\\x98\\xeb\\xa6\\xbd\\\\n\\\\n### 2. Reporter: \\xec\\xb5\\x9c\\xec\\xa2\\x85 \\xeb\\xb3\\xb4\\xea\\xb3\\xa0\\xec\\x84\\x9c \\xec\\x9e\\x91\\xec\\x84\\xb1 \\xeb\\xb0\\x8f \\xec\\x9d\\xb8\\xec\\x82\\xac\\xec\\x9d\\xb4\\xed\\x8a\\xb8 \\xec\\xa0\\x9c\\xea\\xb3\\xb5\\\\n- [ ] \\xeb\\xb6\\x84\\xec\\x84\\x9d\\xeb\\x90\\x9c \\xeb\\x8d\\xb0\\xec\\x9d\\xb4\\xed\\x84\\xb0\\xeb\\xa5\\xbc \\xea\\xb8\\xb0\\xeb\\xb0\\x98\\xec\\x9c\\xbc\\xeb\\xa1\\x9c \\xec\\xa3\\xbc\\xec\\x9a\\x94 \\xec\\x9d\\xb8\\xec\\x82\\xac\\xec\\x9d\\xb4\\xed\\x8a\\xb8 \\xec\\x9a\\x94\\xec\\x95\\xbd\\\\n- [ ] \\xec\\x8b\\x9c\\xea\\xb0\\x81\\xec\\xa0\\x81 \\xec\\x9e\\x90\\xeb\\xa3\\x8c\\xeb\\xa5\\xbc \\xed\\x8f\\xac\\xed\\x95\\xa8\\xed\\x95\\x9c \\xec\\xa2\\x85\\xed\\x95\\xa9 \\xeb\\xb3\\xb4\\xea\\xb3\\xa0\\xec\\x84\\x9c \\xec\\x9e\\x91\\xec\\x84\\xb1\\\\n- [ ] \\xeb\\xb0\\x9c\\xea\\xb2\\xac\\xeb\\x90\\x9c \\xec\\x9d\\xb8\\xec\\x82\\xac\\xec\\x9d\\xb4\\xed\\x8a\\xb8\\xec\\x97\\x90 \\xea\\xb8\\xb0\\xeb\\xb0\\x98\\xed\\x95\\x9c \\xea\\xb6\\x8c\\xec\\x9e\\xa5\\xec\\x82\\xac\\xed\\x95\\xad \\xec\\xa0\\x9c\\xea\\xb3\\xb5\\\\n- [ ] \\xec\\xb6\\x94\\xea\\xb0\\x80 \\xeb\\xb6\\x84\\xec\\x84\\x9d\\xec\\x9d\\xb4 \\xed\\x95\\x84\\xec\\x9a\\x94\\xed\\x95\\x9c \\xec\\x98\\x81\\xec\\x97\\xad \\xec\\x8b\\x9d\\xeb\\xb3\\x84\"}], \"request\": \"\\xec\\x95\\x88\\xeb\\x85\\x95 \\xeb\\x82\\x98\\xeb\\x8a\\x94 \\xec\\x9e\\xa5\\xeb\\x8f\\x99\\xec\\xa7\\x84\\xec\\x9d\\xb4\\xeb\\x9d\\xbc\\xea\\xb3\\xa0 \\xed\\x95\\xb4. \\xeb\\xa7\\x8c\\xeb\\x82\\x98\\xec\\x84\\x9c \\xeb\\xb0\\x98\\xea\\xb0\\x80\\xec\\x9b\\x8c \\xeb\\x82\\x98\\xeb\\x8a\\x94 \\xeb\\x8d\\xb0\\xec\\x9d\\xb4\\xed\\x84\\xb0\\xeb\\xa5\\xbc \\xec\\xa0\\x9c\\xea\\xb3\\xb5\\xed\\x95\\x98\\xea\\xb3\\xa0 \\xea\\xb7\\xb8\\xea\\xb2\\x83\\xec\\x9c\\xbc\\xeb\\xa1\\x9c \\xeb\\xb6\\x80\\xed\\x84\\xb0 \\xec\\x9d\\xb8\\xec\\x82\\xac\\xec\\x9d\\xb4\\xed\\x8a\\xb8\\xeb\\xa5\\xbc \\xec\\xb6\\x94\\xec\\xb6\\x9c\\xed\\x95\\x98\\xea\\xb3\\xa0 \\xec\\x8b\\xb6\\xec\\x96\\xb4.\", \"request_prompt\": \"\\\\nHere is a user request: <user_request>\\xec\\x95\\x88\\xeb\\x85\\x95 \\xeb\\x82\\x98\\xeb\\x8a\\x94 \\xec\\x9e\\xa5\\xeb\\x8f\\x99\\xec\\xa7\\x84\\xec\\x9d\\xb4\\xeb\\x9d\\xbc\\xea\\xb3\\xa0 \\xed\\x95\\xb4. \\xeb\\xa7\\x8c\\xeb\\x82\\x98\\xec\\x84\\x9c \\xeb\\xb0\\x98\\xea\\xb0\\x80\\xec\\x9b\\x8c \\xeb\\x82\\x98\\xeb\\x8a\\x94 \\xeb\\x8d\\xb0\\xec\\x9d\\xb4\\xed\\x84\\xb0\\xeb\\xa5\\xbc \\xec\\xa0\\x9c\\xea\\xb3\\xb5\\xed\\x95\\x98\\xea\\xb3\\xa0 \\xea\\xb7\\xb8\\xea\\xb2\\x83\\xec\\x9c\\xbc\\xeb\\xa1\\x9c \\xeb\\xb6\\x80\\xed\\x84\\xb0 \\xec\\x9d\\xb8\\xec\\x82\\xac\\xec\\x9d\\xb4\\xed',\n",
       "  b'\\x8a\\xb8\\xeb\\xa5\\xbc \\xec\\xb6\\x94\\xec\\xb6\\x9c\\xed\\x95\\x98\\xea\\xb3\\xa0 \\xec\\x8b\\xb6\\xec\\x96\\xb4.</user_request>\\\\n\"}']}"
      ]
     },
     "execution_count": 56,
     "metadata": {},
     "output_type": "execute_result"
    }
   ],
   "source": [
    "#invoke_response = agentcore_runtime.invoke({\"prompt\": \"How much is 2+2?\"})\n",
    "invoke_response = agentcore_runtime.invoke({\"prompt\": \"안녕 나는 장동진이라고 해. 만나서 반가워 나는 데이터를 제공하고 그것으로 부터 인사이트를 추출하고 싶어.\"})\n",
    "invoke_response"
   ]
  },
  {
   "cell_type": "code",
   "execution_count": null,
   "id": "7fcd5df8",
   "metadata": {},
   "outputs": [],
   "source": [
    "스트림\n",
    "\n",
    "https://strandsagents.com/latest/documentation/docs/user-guide/deploy/deploy_to_bedrock_agentcore/"
   ]
  },
  {
   "cell_type": "code",
   "execution_count": null,
   "id": "244b4366",
   "metadata": {},
   "outputs": [
    {
     "data": {
      "text/plain": [
       "'b\\'{\"full_plan\": \"# Plan\\\\\\\\n## thought\\\\\\\\n  - \\\\xec\\\\x82\\\\xac\\\\xec\\\\x9a\\\\xa9\\\\xec\\\\x9e\\\\x90\\\\xeb\\\\x8a\\\\x94 \\\\xed\\\\x95\\\\x9c\\\\xea\\\\xb5\\\\xad\\\\xec\\\\x96\\\\xb4\\\\xeb\\\\xa1\\\\x9c \\\\xeb\\\\x8c\\\\x80\\\\xed\\\\x99\\\\x94\\\\xed\\\\x95\\\\x98\\\\xeb\\\\xa9\\\\xb0, \\\\xeb\\\\x8d\\\\xb0\\\\xec\\\\x9d\\\\xb4\\\\xed\\\\x84\\\\xb0\\\\xeb\\\\xa5\\\\xbc \\\\xec\\\\xa0\\\\x9c\\\\xea\\\\xb3\\\\xb5\\\\xed\\\\x95\\\\x98\\\\xea\\\\xb3\\\\xa0 \\\\xea\\\\xb7\\\\xb8\\\\xeb\\\\xa1\\\\x9c\\\\xeb\\\\xb6\\\\x80\\\\xed\\\\x84\\\\xb0 \\\\xec\\\\x9d\\\\xb8\\\\xec\\\\x82\\\\xac\\\\xec\\\\x9d\\\\xb4\\\\xed\\\\x8a\\\\xb8\\\\xeb\\\\xa5\\\\xbc \\\\xec\\\\xb6\\\\x94\\\\xec\\\\xb6\\\\x9c\\\\xed\\\\x95\\\\x98\\\\xea\\\\xb3\\\\xa0 \\\\xec\\\\x8b\\\\xb6\\\\xeb\\\\x8b\\\\xa4\\\\xea\\\\xb3\\\\xa0 \\\\xec\\\\x9a\\\\x94\\\\xec\\\\xb2\\\\xad\\\\xed\\\\x96\\\\x88\\\\xec\\\\x8a\\\\xb5\\\\xeb\\\\x8b\\\\x88\\\\xeb\\\\x8b\\\\xa4.\\\\\\\\n  - \\\\xed\\\\x95\\\\x98\\\\xec\\\\xa7\\\\x80\\\\xeb\\\\xa7\\\\x8c \\\\xec\\\\x95\\\\x84\\\\xec\\\\xa7\\\\x81 \\\\xea\\\\xb5\\\\xac\\\\xec\\\\xb2\\\\xb4\\\\xec\\\\xa0\\\\x81\\\\xec\\\\x9d\\\\xb8 \\\\xeb\\\\x8d\\\\xb0\\\\xec\\\\x9d\\\\xb4\\\\xed\\\\x84\\\\xb0\\\\xeb\\\\x82\\\\x98 \\\\xeb\\\\xb6\\\\x84\\\\xec\\\\x84\\\\x9d \\\\xec\\\\x9a\\\\x94\\\\xec\\\\xb2\\\\xad\\\\xec\\\\x9d\\\\xb4 \\\\xec\\\\xa0\\\\x9c\\\\xea\\\\xb3\\\\xb5\\\\xeb\\\\x90\\\\x98\\\\xec\\\\xa7\\\\x80 \\\\xec\\\\x95\\\\x8a\\\\xec\\\\x95\\\\x98\\\\xec\\\\x8a\\\\xb5\\\\xeb\\\\x8b\\\\x88\\\\xeb\\\\x8b\\\\xa4.\\\\\\\\n  - \\\\xec\\\\x9d\\\\xbc\\\\xeb\\\\xb0\\\\x98\\\\xec\\\\xa0\\\\x81\\\\xec\\\\x9d\\\\xb8 \\\\xeb\\\\x8d\\\\xb0\\\\xec\\\\x9d\\\\xb4\\\\xed\\\\x84\\\\xb0 \\\\xeb\\\\xb6\\\\x84\\\\xec\\\\x84\\\\x9d \\\\xed\\\\x94\\\\x84\\\\xeb\\\\xa1\\\\x9c\\\\xec\\\\x84\\\\xb8\\\\xec\\\\x8a\\\\xa4\\\\xeb\\\\xa5\\\\xbc \\\\xea\\\\xb8\\\\xb0\\\\xeb\\\\xb0\\\\x98\\\\xec\\\\x9c\\\\xbc\\\\xeb\\\\xa1\\\\x9c \\\\xea\\\\xb3\\\\x84\\\\xed\\\\x9a\\\\x8d\\\\xec\\\\x9d\\\\x84 \\\\xec\\\\x88\\\\x98\\\\xeb\\\\xa6\\\\xbd\\\\xed\\\\x96\\\\x88\\\\xec\\\\x8a\\\\xb5\\\\xeb\\\\x8b\\\\x88\\\\xeb\\\\x8b\\\\xa4.\\\\\\\\n## title:\\\\\\\\n  - \\\\xeb\\\\x8d\\\\xb0\\\\xec\\\\x9d\\\\xb4\\\\xed\\\\x84\\\\xb0 \\\\xeb\\\\xb6\\\\x84\\\\xec\\\\x84\\\\x9d \\\\xeb\\\\xb0\\\\x8f \\\\xec\\\\x9d\\\\xb8\\\\xec\\\\x82\\\\xac\\\\xec\\\\x9d\\\\xb4\\\\xed\\\\x8a\\\\xb8 \\\\xec\\\\xb6\\\\x94\\\\xec\\\\xb6\\\\x9c \\\\xea\\\\xb3\\\\x84\\\\xed\\\\x9a\\\\x8d\\\\\\\\n## steps:\\\\\\\\n  ### 1. Coder: \\\\xeb\\\\x8d\\\\xb0\\\\xec\\\\x9d\\\\xb4\\\\xed\\\\x84\\\\xb0 \\\\xec\\\\xb2\\\\x98\\\\xeb\\\\xa6\\\\xac \\\\xeb\\\\xb0\\\\x8f \\\\xeb\\\\xb6\\\\x84\\\\xec\\\\x84\\\\x9d\\\\\\\\n    - [ ] \\\\xec\\\\x82\\\\xac\\\\xec\\\\x9a\\\\xa9\\\\xec\\\\x9e\\\\x90\\\\xeb\\\\xa1\\\\x9c\\\\xeb\\\\xb6\\\\x80\\\\xed\\\\x84\\\\xb0 \\\\xec\\\\xa0\\\\x9c\\\\xea\\\\xb3\\\\xb5\\\\xeb\\\\xb0\\\\x9b\\\\xec\\\\x9d\\\\x80 \\\\xeb\\\\x8d\\\\xb0\\\\xec\\\\x9d\\\\xb4\\\\xed\\\\x84\\\\xb0 \\\\xeb\\\\xa1\\\\x9c\\\\xeb\\\\x93\\\\x9c \\\\xeb\\\\xb0\\\\x8f \\\\xec\\\\xa0\\\\x84\\\\xec\\\\xb2\\\\x98\\\\xeb\\\\xa6\\\\xac\\\\\\\\n    - [ ] \\\\xeb\\\\x8d\\\\xb0\\\\xec\\\\x9d\\\\xb4\\\\xed\\\\x84\\\\xb0\\\\xec\\\\x9d\\\\x98 \\\\xea\\\\xb8\\\\xb0\\\\xeb\\\\xb3\\\\xb8 \\\\xed\\\\x86\\\\xb5\\\\xea\\\\xb3\\\\x84 \\\\xeb\\\\xb6\\\\x84\\\\xec\\\\x84\\\\x9d \\\\xec\\\\x88\\\\x98\\\\xed\\\\x96\\\\x89\\\\\\\\n    - [ ] \\\\xeb\\\\x8d\\\\xb0\\\\xec\\\\x9d\\\\xb4\\\\xed\\\\x84\\\\xb0 \\\\xec\\\\x8b\\\\x9c\\\\xea\\\\xb0\\\\x81\\\\xed\\\\x99\\\\x94 \\\\xeb\\\\xb0\\\\x8f \\\\xed\\\\x83\\\\x90\\\\xec\\\\x83\\\\x89\\\\xec\\\\xa0\\\\x81 \\\\xeb\\\\xb6\\\\x84\\\\xec\\\\x84\\\\x9d\\\\\\\\n    - [ ] \\\\xec\\\\xa3\\\\xbc\\\\xec\\\\x9a\\\\x94 \\\\xed\\\\x8c\\\\xa8\\\\xed\\\\x84\\\\xb4 \\\\xeb\\\\xb0\\\\x8f \\\\xec\\\\x83\\\\x81\\\\xea\\\\xb4\\\\x80\\\\xea\\\\xb4\\\\x80\\\\xea\\\\xb3\\\\x84 \\\\xec\\\\x8b\\\\x9d\\\\xeb\\\\xb3\\\\x84\\\\\\\\n    - [ ] \\\\xeb\\\\x8d\\\\xb0\\\\xec\\\\x9d\\\\xb4\\\\xed\\\\x84\\\\xb0 \\\\xea\\\\xb8\\\\xb0\\\\xeb\\\\xb0\\\\x98 \\\\xec\\\\x9d\\\\xb8\\\\xec\\\\x82\\\\xac\\\\xec\\\\x9d\\\\xb4\\\\xed\\\\x8a\\\\xb8 \\\\xeb\\\\x8f\\\\x84\\\\xec\\\\xb6\\\\x9c\\\\xec\\\\x9d\\\\x84 \\\\xec\\\\x9c\\\\x84\\\\xed\\\\x95\\\\x9c \\\\xec\\\\x8b\\\\xac\\\\xec\\\\xb8\\\\xb5 \\\\xeb\\\\xb6\\\\x84\\\\xec\\\\x84\\\\x9d\\\\\\\\n\\\\\\\\n  ### 2. Reporter: \\\\xeb\\\\xb6\\\\x84\\\\xec\\\\x84\\\\x9d \\\\xea\\\\xb2\\\\xb0\\\\xea\\\\xb3\\\\xbc \\\\xeb\\\\xb3\\\\xb4\\\\xea\\\\xb3\\\\xa0\\\\xec\\\\x84\\\\x9c \\\\xec\\\\x9e\\\\x91\\\\xec\\\\x84\\\\xb1\\\\\\\\n    - [ ] \\\\xeb\\\\x8d\\\\xb0\\\\xec\\\\x9d\\\\xb4\\\\xed\\\\x84\\\\xb0 \\\\xeb\\\\xb6\\\\x84\\\\xec\\\\x84\\\\x9d \\\\xec\\\\xa3\\\\xbc\\\\xec\\\\x9a\\\\x94 \\\\xeb\\\\xb0\\\\x9c\\\\xea\\\\xb2\\\\xac\\\\xec\\\\x82\\\\xac\\\\xed\\\\x95\\\\xad \\\\xec\\\\x9a\\\\x94\\\\xec\\\\x95\\\\xbd\\\\\\\\n    - [ ] \\\\xeb\\\\x8f\\\\x84\\\\xec\\\\xb6\\\\x9c\\\\xeb\\\\x90\\\\x9c \\\\xec\\\\x9d\\\\xb8\\\\xec\\\\x82\\\\xac\\\\xec\\\\x9d\\\\xb4\\\\xed\\\\x8a\\\\xb8 \\\\xec\\\\x84\\\\xa4\\\\xeb\\\\xaa\\\\x85 \\\\xeb\\\\xb0\\\\x8f \\\\xed\\\\x95\\\\xb4\\\\xec\\\\x84\\\\x9d\\\\\\\\n    - [ ] \\\\xec\\\\x8b\\\\x9c\\\\xea\\\\xb0\\\\x81\\\\xed\\\\x99\\\\x94 \\\\xec\\\\x9e\\\\x90\\\\xeb\\\\xa3\\\\x8c\\\\xeb\\\\xa5\\\\xbc \\\\xed\\\\x8f\\\\xac\\\\xed\\\\x95\\\\xa8\\\\xed\\\\x95\\\\x9c \\\\xec\\\\xa2\\\\x85\\\\xed\\\\x95\\\\xa9 \\\\xeb\\\\xb3\\\\xb4\\\\xea\\\\xb3\\\\xa0\\\\xec\\\\x84\\\\x9c \\\\xec\\\\x9e\\\\x91\\\\xec\\\\x84\\\\xb1\\\\\\\\n    - [ ] \\\\xeb\\\\x8d\\\\xb0\\''"
      ]
     },
     "execution_count": 55,
     "metadata": {},
     "output_type": "execute_result"
    }
   ],
   "source": [
    "invoke_response[\"response\"][0]"
   ]
  },
  {
   "cell_type": "markdown",
   "id": "fefa09f2-d25a-483f-aedb-11690bb8923a",
   "metadata": {},
   "source": [
    "### Processing invocation results\n",
    "\n",
    "We can now process our invocation results to include it in an application"
   ]
  },
  {
   "cell_type": "code",
   "execution_count": null,
   "id": "11249103-cfb3-47b5-970d-981a977a225a",
   "metadata": {
    "scrolled": true
   },
   "outputs": [],
   "source": [
    "from IPython.display import Markdown, display\n",
    "import json\n",
    "response_text = json.loads(invoke_response['response'][0].decode(\"utf-8\"))\n",
    "display(Markdown(response_text))"
   ]
  },
  {
   "cell_type": "markdown",
   "id": "2c1d2bce-be41-478c-8bed-b4037c385795",
   "metadata": {},
   "source": [
    "### Invoking AgentCore Runtime with boto3\n",
    "\n",
    "Now that your AgentCore Runtime was created you can invoke it with any AWS SDK. For instance, you can use the boto3 `invoke_agent_runtime` method for it."
   ]
  },
  {
   "cell_type": "code",
   "execution_count": null,
   "id": "7f84e68d-6c04-41b9-bf5b-60edc3fa0985",
   "metadata": {},
   "outputs": [],
   "source": [
    "import boto3\n",
    "agent_arn = launch_result.agent_arn\n",
    "agentcore_client = boto3.client(\n",
    "    'bedrock-agentcore',\n",
    "    region_name=region\n",
    ")\n",
    "\n",
    "boto3_response = agentcore_client.invoke_agent_runtime(\n",
    "    agentRuntimeArn=agent_arn,\n",
    "    qualifier=\"DEFAULT\",\n",
    "    payload=json.dumps({\"prompt\": \"What is the weather now?\"})\n",
    ")\n",
    "if \"text/event-stream\" in boto3_response.get(\"contentType\", \"\"):\n",
    "    content = []\n",
    "    for line in boto3_response[\"response\"].iter_lines(chunk_size=1):\n",
    "        if line:\n",
    "            line = line.decode(\"utf-8\")\n",
    "            if line.startswith(\"data: \"):\n",
    "                line = line[6:]\n",
    "                logger.info(line)\n",
    "                content.append(line)\n",
    "    display(Markdown(\"\\n\".join(content)))\n",
    "else:\n",
    "    try:\n",
    "        events = []\n",
    "        for event in boto3_response.get(\"response\", []):\n",
    "            events.append(event)\n",
    "    except Exception as e:\n",
    "        events = [f\"Error reading EventStream: {e}\"]\n",
    "    display(Markdown(json.loads(events[0].decode(\"utf-8\"))))"
   ]
  },
  {
   "cell_type": "markdown",
   "id": "7d3fdfe404469632",
   "metadata": {},
   "source": [
    "## Cleanup (Optional)\n",
    "\n",
    "Let's now clean up the AgentCore Runtime created"
   ]
  },
  {
   "cell_type": "code",
   "execution_count": null,
   "id": "08f86824-c775-4ad4-aaee-f18e8cf390b9",
   "metadata": {},
   "outputs": [],
   "source": [
    "launch_result.ecr_uri, launch_result.agent_id, launch_result.ecr_uri.split('/')[1]"
   ]
  },
  {
   "cell_type": "code",
   "execution_count": null,
   "id": "76a6cf1416830a54",
   "metadata": {},
   "outputs": [],
   "source": [
    "agentcore_control_client = boto3.client(\n",
    "    'bedrock-agentcore-control',\n",
    "    region_name=region\n",
    ")\n",
    "ecr_client = boto3.client(\n",
    "    'ecr',\n",
    "    region_name=region\n",
    "    \n",
    ")\n",
    "\n",
    "iam_client = boto3.client('iam')\n",
    "\n",
    "runtime_delete_response = agentcore_control_client.delete_agent_runtime(\n",
    "    agentRuntimeId=launch_result.agent_id\n",
    ")\n",
    "\n",
    "response = ecr_client.delete_repository(\n",
    "    repositoryName=launch_result.ecr_uri.split('/')[1],\n",
    "    force=True\n",
    ")\n",
    "policies = iam_client.list_role_policies(\n",
    "    RoleName=agentcore_iam_role['Role']['RoleName'],\n",
    "    MaxItems=100\n",
    ")\n",
    "\n",
    "for policy_name in policies['PolicyNames']:\n",
    "    iam_client.delete_role_policy(\n",
    "        RoleName=agentcore_iam_role['Role']['RoleName'],\n",
    "        PolicyName=policy_name\n",
    "    )\n",
    "iam_response = iam_client.delete_role(\n",
    "    RoleName=agentcore_iam_role['Role']['RoleName']\n",
    ")"
   ]
  },
  {
   "cell_type": "markdown",
   "id": "b118ad38-feeb-4d1d-9d57-e5c845becc56",
   "metadata": {},
   "source": [
    "# Congratulations!"
   ]
  }
 ],
 "metadata": {
  "kernelspec": {
   "display_name": "env-bedrock-agentcore (UV)",
   "language": "python",
   "name": "env-bedrock-agentcore"
  },
  "language_info": {
   "codemirror_mode": {
    "name": "ipython",
    "version": 3
   },
   "file_extension": ".py",
   "mimetype": "text/x-python",
   "name": "python",
   "nbconvert_exporter": "python",
   "pygments_lexer": "ipython3",
   "version": "3.12.11"
  }
 },
 "nbformat": 4,
 "nbformat_minor": 5
}
