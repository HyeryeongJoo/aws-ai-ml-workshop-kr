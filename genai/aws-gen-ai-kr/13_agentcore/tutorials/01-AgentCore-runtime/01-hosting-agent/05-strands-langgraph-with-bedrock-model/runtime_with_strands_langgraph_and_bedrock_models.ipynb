{
 "cells": [
  {
   "cell_type": "markdown",
   "id": "5c0122e65c053f38",
   "metadata": {},
   "source": [
    "# Hosting Strands + LangGraph agent with Amazon Bedrock models in Amazon Bedrock AgentCore Runtime\n",
    "\n",
    "## Overview\n",
    "\n",
    "In this tutorial we will learn how to host your existing agent, using Amazon Bedrock AgentCore Runtime. \n",
    "\n",
    "We will focus on a LangGraph with Amazon Bedrock model example. For Strands Agents with Amazon Bedrock model check [here](../01-strands-with-bedrock-model)\n",
    "and for a Strands Agents with an OpenAI model check [here](../03-strands-with-openai-model).\n",
    "\n",
    "### Tutorial Details\n",
    "\n",
    "| Information         | Details                                                                      |\n",
    "|:--------------------|:-----------------------------------------------------------------------------|\n",
    "| Tutorial type       | Conversational                                                               |\n",
    "| Agent type          | Single                                                                       |\n",
    "| Agentic Framework   | Strands + LangGraph                                                                    |\n",
    "| LLM model           | Anthropic Claude Sonnet 3                                                    |\n",
    "| Tutorial components | Hosting agent on AgentCore Runtime. Using Strands + LangGraph and Amazon Bedrock Model |\n",
    "| Tutorial vertical   | Cross-vertical                                                               |\n",
    "| Example complexity  | Easy                                                                         |\n",
    "| SDK used            | Amazon BedrockAgentCore Python SDK and boto3                                 |\n",
    "\n",
    "### Tutorial Architecture\n",
    "\n",
    "In this tutorial we will describe how to deploy an existing agent to AgentCore runtime. \n",
    "\n",
    "For demonstration purposes, we will  use a LangGraph agent using Amazon Bedrock models\n",
    "\n",
    "In our example we will use a very simple agent with two tools: `get_weather` and `get_time`. \n",
    "\n",
    "<div style=\"text-align:left\">\n",
    "    <img src=\"images/architecture_runtime.png\" width=\"50%\"/>\n",
    "</div>\n",
    "\n",
    "### Tutorial Key Features\n",
    "\n",
    "* Hosting Agents on Amazon Bedrock AgentCore Runtime\n",
    "* Using Amazon Bedrock models\n",
    "* Using LangGraph\n"
   ]
  },
  {
   "cell_type": "markdown",
   "id": "3a676f58ecf52b42",
   "metadata": {},
   "source": [
    "## Prerequisites\n",
    "\n",
    "To execute this tutorial you will need:\n",
    "* Python 3.10+\n",
    "* AWS credentials\n",
    "* Amazon Bedrock AgentCore SDK\n",
    "* LangGraph\n",
    "* Docker running"
   ]
  },
  {
   "cell_type": "markdown",
   "id": "ca924a7a2731e26f",
   "metadata": {},
   "source": [
    "## Creating your agents and experimenting locally\n",
    "\n",
    "Before we deploy our agents to AgentCore Runtime, let's develop and run them locally for experimentation purposes.\n",
    "\n",
    "For production agentic applications we will need to decouple the agent creation process from the agent invocation one. With AgentCore Runtime, we will decorate the invocation part of our agent with the `@app.entrypoint` decorator and have it as the entry point for our runtime. Let's first look how each agent is developed during the experimentation phase.\n",
    "\n",
    "The architecture here will look as following:\n",
    "\n",
    "<div style=\"text-align:left\">\n",
    "    <img src=\"images/architecture_local.png\" width=\"60%\"/>\n",
    "</div>"
   ]
  },
  {
   "cell_type": "code",
   "execution_count": 1,
   "id": "df2e9bf4",
   "metadata": {},
   "outputs": [],
   "source": [
    "%load_ext autoreload\n",
    "%autoreload 2"
   ]
  },
  {
   "cell_type": "code",
   "execution_count": 2,
   "id": "b8a5e570",
   "metadata": {},
   "outputs": [],
   "source": [
    "import sys, os\n",
    "module_path = \"../../../..\"\n",
    "sys.path.append(os.path.abspath(module_path))"
   ]
  },
  {
   "cell_type": "code",
   "execution_count": 3,
   "id": "1624cb93",
   "metadata": {},
   "outputs": [],
   "source": [
    "from textwrap import dedent\n",
    "from graph import build_graph\n",
    "from src.utils.common_utils import get_message_from_string\n",
    "from src.utils.strands_sdk_utils import strands_utils\n",
    "from src.prompts.template import apply_prompt_template"
   ]
  },
  {
   "cell_type": "code",
   "execution_count": 4,
   "id": "bff8f069",
   "metadata": {},
   "outputs": [],
   "source": [
    "import logging\n",
    "\n",
    "# Configure logging\n",
    "logging.basicConfig(\n",
    "    level=logging.INFO,  # Default level is INFO\n",
    "    format=\"%(asctime)s - %(name)s - %(levelname)s - %(message)s\",\n",
    ")\n",
    "\n",
    "def enable_debug_logging():\n",
    "    \"\"\"Enable debug level logging for more detailed execution information.\"\"\"\n",
    "    logging.getLogger(__name__).setLevel(logging.DEBUG)\n",
    "\n",
    "# 로거 설정을 전역으로 한 번만 수행\n",
    "logger = logging.getLogger(__name__)\n",
    "logger.propagate = False\n",
    "for handler in logger.handlers[:]:\n",
    "    logger.removeHandler(handler)\n",
    "handler = logging.StreamHandler()\n",
    "formatter = logging.Formatter('\\n%(levelname)s [%(name)s] %(message)s')\n",
    "handler.setFormatter(formatter)\n",
    "logger.addHandler(handler)\n",
    "logger.setLevel(logging.INFO)  # 기본 레벨은 INFO로 설정\n",
    "\n",
    "class Colors:\n",
    "    BLUE = '\\033[94m'\n",
    "    GREEN = '\\033[92m'\n",
    "    YELLOW = '\\033[93m'\n",
    "    RED = '\\033[91m'\n",
    "    BOLD = '\\033[1m'\n",
    "    UNDERLINE = '\\033[4m'\n",
    "    END = '\\033[0m'\n"
   ]
  },
  {
   "cell_type": "code",
   "execution_count": 5,
   "id": "2a62206a",
   "metadata": {},
   "outputs": [],
   "source": [
    "# Create the graph\n",
    "graph = build_graph()"
   ]
  },
  {
   "cell_type": "code",
   "execution_count": 6,
   "id": "c3ec3811",
   "metadata": {},
   "outputs": [],
   "source": [
    "def run_agent_workflow(user_input: str, debug: bool = False):\n",
    "    \"\"\"Run the agent workflow with the given user input.\n",
    "\n",
    "    Args:\n",
    "        user_input: The user's query or request\n",
    "        debug: If True, enables debug level logging\n",
    "\n",
    "    Returns:\n",
    "        The final state after the workflow completes\n",
    "    \"\"\"\n",
    "    if not user_input:\n",
    "        raise ValueError(\"Input could not be empty\")\n",
    "\n",
    "    if debug:\n",
    "        enable_debug_logging()\n",
    "\n",
    "    #logger.info(f\"Starting workflow with user input: {user_input}\")\n",
    "    logger.info(f\"{Colors.GREEN}===== Starting workflow ====={Colors.END}\")\n",
    "    logger.info(f\"{Colors.GREEN}\\nuser input: {user_input}{Colors.END}\")\n",
    "    \n",
    "    user_prompts = dedent(\n",
    "        '''\n",
    "        Here is a user request: <user_request>{user_request}</user_request>\n",
    "        '''\n",
    "    )\n",
    "    context = {\"user_request\": user_input}\n",
    "    user_prompts = user_prompts.format(**context)\n",
    "    messages = [get_message_from_string(role=\"user\", string=user_prompts, imgs=[])]\n",
    "\n",
    "        \n",
    "    result = graph.invoke(\n",
    "        input={\n",
    "            # Runtime Variables\n",
    "            \"messages\": messages,\n",
    "            \"request\": user_input,\n",
    "            \"request_prompt\": user_prompts\n",
    "        },\n",
    "        config={\n",
    "            \"recursion_limit\": 100\n",
    "        }\n",
    "    )\n",
    "    logger.debug(f\"{Colors.RED}Final workflow state: {result}{Colors.END}\")\n",
    "    logger.info(f\"{Colors.GREEN}===== Workflow completed successfully ====={Colors.END}\")\n",
    "    return result"
   ]
  },
  {
   "cell_type": "code",
   "execution_count": 7,
   "id": "ad31c83a",
   "metadata": {},
   "outputs": [
    {
     "name": "stderr",
     "output_type": "stream",
     "text": [
      "\n",
      "INFO [__main__] \u001b[92m===== Starting workflow =====\u001b[0m\n",
      "\n",
      "INFO [__main__] \u001b[92m\n",
      "user input: \n",
      "    안녕 나는 장동진이라고 해. 만나서 반가워\n",
      "    나는 데이터를 제공하고 그것으로 부터 인사이트를 추출하고 싶어. \n",
      "\u001b[0m\n",
      "\n",
      "INFO [graph.nodes] \u001b[92m===== Coordinator talking...... =====\u001b[0m\n",
      "\n",
      "INFO [src.utils.strands_sdk_utils] \u001b[92mCOORDINATOR - Prompt Cache Disabled\u001b[0m\n"
     ]
    },
    {
     "name": "stdout",
     "output_type": "stream",
     "text": [
      "\u001b[97m안녕\u001b[0m\u001b[97m하세요 \u001b[0m\u001b[97m장동진님\u001b[0m\u001b[97m! 저는 \u001b[0m\u001b[97mBedrock-Manus입\u001b[0m\u001b[97m니다. \u001b[0m\u001b[97m만나서 반\u001b[0m\u001b[97m갑습니다\u001b[0m\u001b[97m!\n",
      "\n",
      "데이터 \u001b[0m\u001b[97m분석과 인사이\u001b[0m\u001b[97m트 추출에\u001b[0m\u001b[97m 대한 요\u001b[0m\u001b[97m청은 저\u001b[0m\u001b[97m희 플\u001b[0m\u001b[97m래너 시\u001b[0m\u001b[97m스템과\u001b[0m\u001b[97m 상담이\u001b[0m\u001b[97m 필요할 것\u001b[0m\u001b[97m 같습니다\u001b[0m\u001b[97m.\n",
      "\n",
      "handoff_to_\u001b[0m\u001b[97mplanner: I\u001b[0m\u001b[97m'll need to consult our planning system\u001b[0m\u001b[97m for this request.\u001b[0m"
     ]
    },
    {
     "name": "stderr",
     "output_type": "stream",
     "text": [
      "\n",
      "INFO [graph.nodes] \u001b[92m===== Coordinator completed task =====\u001b[0m\n",
      "\n",
      "INFO [graph.nodes] \u001b[92m===== Planner generating full plan =====\u001b[0m\n",
      "\n",
      "INFO [src.utils.strands_sdk_utils] \u001b[92mPLANNER - Prompt Cache Disabled\u001b[0m\n"
     ]
    },
    {
     "ename": "KeyboardInterrupt",
     "evalue": "",
     "output_type": "error",
     "traceback": [
      "\u001b[31m---------------------------------------------------------------------------\u001b[39m",
      "\u001b[31mKeyboardInterrupt\u001b[39m                         Traceback (most recent call last)",
      "\u001b[36mCell\u001b[39m\u001b[36m \u001b[39m\u001b[32mIn[7]\u001b[39m\u001b[32m, line 11\u001b[39m\n\u001b[32m      4\u001b[39m \u001b[38;5;66;03m#remove_artifact_folder()\u001b[39;00m\n\u001b[32m      6\u001b[39m user_query = \u001b[33m'''\u001b[39m\n\u001b[32m      7\u001b[39m \u001b[33m    안녕 나는 장동진이라고 해. 만나서 반가워\u001b[39m\n\u001b[32m      8\u001b[39m \u001b[33m    나는 데이터를 제공하고 그것으로 부터 인사이트를 추출하고 싶어. \u001b[39m\n\u001b[32m      9\u001b[39m \u001b[33m'''\u001b[39m\n\u001b[32m---> \u001b[39m\u001b[32m11\u001b[39m result = \u001b[43mrun_agent_workflow\u001b[49m\u001b[43m(\u001b[49m\n\u001b[32m     12\u001b[39m \u001b[43m    \u001b[49m\u001b[43muser_input\u001b[49m\u001b[43m=\u001b[49m\u001b[43muser_query\u001b[49m\u001b[43m,\u001b[49m\n\u001b[32m     13\u001b[39m \u001b[43m    \u001b[49m\u001b[43mdebug\u001b[49m\u001b[43m=\u001b[49m\u001b[38;5;28;43;01mFalse\u001b[39;49;00m\n\u001b[32m     14\u001b[39m \u001b[43m)\u001b[49m\n",
      "\u001b[36mCell\u001b[39m\u001b[36m \u001b[39m\u001b[32mIn[6]\u001b[39m\u001b[32m, line 31\u001b[39m, in \u001b[36mrun_agent_workflow\u001b[39m\u001b[34m(user_input, debug)\u001b[39m\n\u001b[32m     27\u001b[39m user_prompts = user_prompts.format(**context)\n\u001b[32m     28\u001b[39m messages = [get_message_from_string(role=\u001b[33m\"\u001b[39m\u001b[33muser\u001b[39m\u001b[33m\"\u001b[39m, string=user_prompts, imgs=[])]\n\u001b[32m---> \u001b[39m\u001b[32m31\u001b[39m result = \u001b[43mgraph\u001b[49m\u001b[43m.\u001b[49m\u001b[43minvoke\u001b[49m\u001b[43m(\u001b[49m\n\u001b[32m     32\u001b[39m \u001b[43m    \u001b[49m\u001b[38;5;28;43minput\u001b[39;49m\u001b[43m=\u001b[49m\u001b[43m{\u001b[49m\n\u001b[32m     33\u001b[39m \u001b[43m        \u001b[49m\u001b[38;5;66;43;03m# Runtime Variables\u001b[39;49;00m\n\u001b[32m     34\u001b[39m \u001b[43m        \u001b[49m\u001b[33;43m\"\u001b[39;49m\u001b[33;43mmessages\u001b[39;49m\u001b[33;43m\"\u001b[39;49m\u001b[43m:\u001b[49m\u001b[43m \u001b[49m\u001b[43mmessages\u001b[49m\u001b[43m,\u001b[49m\n\u001b[32m     35\u001b[39m \u001b[43m        \u001b[49m\u001b[33;43m\"\u001b[39;49m\u001b[33;43mrequest\u001b[39;49m\u001b[33;43m\"\u001b[39;49m\u001b[43m:\u001b[49m\u001b[43m \u001b[49m\u001b[43muser_input\u001b[49m\u001b[43m,\u001b[49m\n\u001b[32m     36\u001b[39m \u001b[43m        \u001b[49m\u001b[33;43m\"\u001b[39;49m\u001b[33;43mrequest_prompt\u001b[39;49m\u001b[33;43m\"\u001b[39;49m\u001b[43m:\u001b[49m\u001b[43m \u001b[49m\u001b[43muser_prompts\u001b[49m\n\u001b[32m     37\u001b[39m \u001b[43m    \u001b[49m\u001b[43m}\u001b[49m\u001b[43m,\u001b[49m\n\u001b[32m     38\u001b[39m \u001b[43m    \u001b[49m\u001b[43mconfig\u001b[49m\u001b[43m=\u001b[49m\u001b[43m{\u001b[49m\n\u001b[32m     39\u001b[39m \u001b[43m        \u001b[49m\u001b[33;43m\"\u001b[39;49m\u001b[33;43mrecursion_limit\u001b[39;49m\u001b[33;43m\"\u001b[39;49m\u001b[43m:\u001b[49m\u001b[43m \u001b[49m\u001b[32;43m100\u001b[39;49m\n\u001b[32m     40\u001b[39m \u001b[43m    \u001b[49m\u001b[43m}\u001b[49m\n\u001b[32m     41\u001b[39m \u001b[43m\u001b[49m\u001b[43m)\u001b[49m\n\u001b[32m     42\u001b[39m logger.debug(\u001b[33mf\u001b[39m\u001b[33m\"\u001b[39m\u001b[38;5;132;01m{\u001b[39;00mColors.RED\u001b[38;5;132;01m}\u001b[39;00m\u001b[33mFinal workflow state: \u001b[39m\u001b[38;5;132;01m{\u001b[39;00mresult\u001b[38;5;132;01m}\u001b[39;00m\u001b[38;5;132;01m{\u001b[39;00mColors.END\u001b[38;5;132;01m}\u001b[39;00m\u001b[33m\"\u001b[39m)\n\u001b[32m     43\u001b[39m logger.info(\u001b[33mf\u001b[39m\u001b[33m\"\u001b[39m\u001b[38;5;132;01m{\u001b[39;00mColors.GREEN\u001b[38;5;132;01m}\u001b[39;00m\u001b[33m===== Workflow completed successfully =====\u001b[39m\u001b[38;5;132;01m{\u001b[39;00mColors.END\u001b[38;5;132;01m}\u001b[39;00m\u001b[33m\"\u001b[39m)\n",
      "\u001b[36mFile \u001b[39m\u001b[32m~/projects/aws-ai-ml-workshop-kr/genai/aws-gen-ai-kr/13_agentcore/setup/.venv/lib/python3.12/site-packages/langgraph/pregel/main.py:3026\u001b[39m, in \u001b[36mPregel.invoke\u001b[39m\u001b[34m(self, input, config, context, stream_mode, print_mode, output_keys, interrupt_before, interrupt_after, durability, **kwargs)\u001b[39m\n\u001b[32m   3023\u001b[39m chunks: \u001b[38;5;28mlist\u001b[39m[\u001b[38;5;28mdict\u001b[39m[\u001b[38;5;28mstr\u001b[39m, Any] | Any] = []\n\u001b[32m   3024\u001b[39m interrupts: \u001b[38;5;28mlist\u001b[39m[Interrupt] = []\n\u001b[32m-> \u001b[39m\u001b[32m3026\u001b[39m \u001b[43m\u001b[49m\u001b[38;5;28;43;01mfor\u001b[39;49;00m\u001b[43m \u001b[49m\u001b[43mchunk\u001b[49m\u001b[43m \u001b[49m\u001b[38;5;129;43;01min\u001b[39;49;00m\u001b[43m \u001b[49m\u001b[38;5;28;43mself\u001b[39;49m\u001b[43m.\u001b[49m\u001b[43mstream\u001b[49m\u001b[43m(\u001b[49m\n\u001b[32m   3027\u001b[39m \u001b[43m    \u001b[49m\u001b[38;5;28;43minput\u001b[39;49m\u001b[43m,\u001b[49m\n\u001b[32m   3028\u001b[39m \u001b[43m    \u001b[49m\u001b[43mconfig\u001b[49m\u001b[43m,\u001b[49m\n\u001b[32m   3029\u001b[39m \u001b[43m    \u001b[49m\u001b[43mcontext\u001b[49m\u001b[43m=\u001b[49m\u001b[43mcontext\u001b[49m\u001b[43m,\u001b[49m\n\u001b[32m   3030\u001b[39m \u001b[43m    \u001b[49m\u001b[43mstream_mode\u001b[49m\u001b[43m=\u001b[49m\u001b[43m[\u001b[49m\u001b[33;43m\"\u001b[39;49m\u001b[33;43mupdates\u001b[39;49m\u001b[33;43m\"\u001b[39;49m\u001b[43m,\u001b[49m\u001b[43m \u001b[49m\u001b[33;43m\"\u001b[39;49m\u001b[33;43mvalues\u001b[39;49m\u001b[33;43m\"\u001b[39;49m\u001b[43m]\u001b[49m\n\u001b[32m   3031\u001b[39m \u001b[43m    \u001b[49m\u001b[38;5;28;43;01mif\u001b[39;49;00m\u001b[43m \u001b[49m\u001b[43mstream_mode\u001b[49m\u001b[43m \u001b[49m\u001b[43m==\u001b[49m\u001b[43m \u001b[49m\u001b[33;43m\"\u001b[39;49m\u001b[33;43mvalues\u001b[39;49m\u001b[33;43m\"\u001b[39;49m\n\u001b[32m   3032\u001b[39m \u001b[43m    \u001b[49m\u001b[38;5;28;43;01melse\u001b[39;49;00m\u001b[43m \u001b[49m\u001b[43mstream_mode\u001b[49m\u001b[43m,\u001b[49m\n\u001b[32m   3033\u001b[39m \u001b[43m    \u001b[49m\u001b[43mprint_mode\u001b[49m\u001b[43m=\u001b[49m\u001b[43mprint_mode\u001b[49m\u001b[43m,\u001b[49m\n\u001b[32m   3034\u001b[39m \u001b[43m    \u001b[49m\u001b[43moutput_keys\u001b[49m\u001b[43m=\u001b[49m\u001b[43moutput_keys\u001b[49m\u001b[43m,\u001b[49m\n\u001b[32m   3035\u001b[39m \u001b[43m    \u001b[49m\u001b[43minterrupt_before\u001b[49m\u001b[43m=\u001b[49m\u001b[43minterrupt_before\u001b[49m\u001b[43m,\u001b[49m\n\u001b[32m   3036\u001b[39m \u001b[43m    \u001b[49m\u001b[43minterrupt_after\u001b[49m\u001b[43m=\u001b[49m\u001b[43minterrupt_after\u001b[49m\u001b[43m,\u001b[49m\n\u001b[32m   3037\u001b[39m \u001b[43m    \u001b[49m\u001b[43mdurability\u001b[49m\u001b[43m=\u001b[49m\u001b[43mdurability\u001b[49m\u001b[43m,\u001b[49m\n\u001b[32m   3038\u001b[39m \u001b[43m    \u001b[49m\u001b[43m*\u001b[49m\u001b[43m*\u001b[49m\u001b[43mkwargs\u001b[49m\u001b[43m,\u001b[49m\n\u001b[32m   3039\u001b[39m \u001b[43m\u001b[49m\u001b[43m)\u001b[49m\u001b[43m:\u001b[49m\n\u001b[32m   3040\u001b[39m \u001b[43m    \u001b[49m\u001b[38;5;28;43;01mif\u001b[39;49;00m\u001b[43m \u001b[49m\u001b[43mstream_mode\u001b[49m\u001b[43m \u001b[49m\u001b[43m==\u001b[49m\u001b[43m \u001b[49m\u001b[33;43m\"\u001b[39;49m\u001b[33;43mvalues\u001b[39;49m\u001b[33;43m\"\u001b[39;49m\u001b[43m:\u001b[49m\n\u001b[32m   3041\u001b[39m \u001b[43m        \u001b[49m\u001b[38;5;28;43;01mif\u001b[39;49;00m\u001b[43m \u001b[49m\u001b[38;5;28;43mlen\u001b[39;49m\u001b[43m(\u001b[49m\u001b[43mchunk\u001b[49m\u001b[43m)\u001b[49m\u001b[43m \u001b[49m\u001b[43m==\u001b[49m\u001b[43m \u001b[49m\u001b[32;43m2\u001b[39;49m\u001b[43m:\u001b[49m\n",
      "\u001b[36mFile \u001b[39m\u001b[32m~/projects/aws-ai-ml-workshop-kr/genai/aws-gen-ai-kr/13_agentcore/setup/.venv/lib/python3.12/site-packages/langgraph/pregel/main.py:2647\u001b[39m, in \u001b[36mPregel.stream\u001b[39m\u001b[34m(self, input, config, context, stream_mode, print_mode, output_keys, interrupt_before, interrupt_after, durability, subgraphs, debug, **kwargs)\u001b[39m\n\u001b[32m   2645\u001b[39m \u001b[38;5;28;01mfor\u001b[39;00m task \u001b[38;5;129;01min\u001b[39;00m loop.match_cached_writes():\n\u001b[32m   2646\u001b[39m     loop.output_writes(task.id, task.writes, cached=\u001b[38;5;28;01mTrue\u001b[39;00m)\n\u001b[32m-> \u001b[39m\u001b[32m2647\u001b[39m \u001b[43m\u001b[49m\u001b[38;5;28;43;01mfor\u001b[39;49;00m\u001b[43m \u001b[49m\u001b[43m_\u001b[49m\u001b[43m \u001b[49m\u001b[38;5;129;43;01min\u001b[39;49;00m\u001b[43m \u001b[49m\u001b[43mrunner\u001b[49m\u001b[43m.\u001b[49m\u001b[43mtick\u001b[49m\u001b[43m(\u001b[49m\n\u001b[32m   2648\u001b[39m \u001b[43m    \u001b[49m\u001b[43m[\u001b[49m\u001b[43mt\u001b[49m\u001b[43m \u001b[49m\u001b[38;5;28;43;01mfor\u001b[39;49;00m\u001b[43m \u001b[49m\u001b[43mt\u001b[49m\u001b[43m \u001b[49m\u001b[38;5;129;43;01min\u001b[39;49;00m\u001b[43m \u001b[49m\u001b[43mloop\u001b[49m\u001b[43m.\u001b[49m\u001b[43mtasks\u001b[49m\u001b[43m.\u001b[49m\u001b[43mvalues\u001b[49m\u001b[43m(\u001b[49m\u001b[43m)\u001b[49m\u001b[43m \u001b[49m\u001b[38;5;28;43;01mif\u001b[39;49;00m\u001b[43m \u001b[49m\u001b[38;5;129;43;01mnot\u001b[39;49;00m\u001b[43m \u001b[49m\u001b[43mt\u001b[49m\u001b[43m.\u001b[49m\u001b[43mwrites\u001b[49m\u001b[43m]\u001b[49m\u001b[43m,\u001b[49m\n\u001b[32m   2649\u001b[39m \u001b[43m    \u001b[49m\u001b[43mtimeout\u001b[49m\u001b[43m=\u001b[49m\u001b[38;5;28;43mself\u001b[39;49m\u001b[43m.\u001b[49m\u001b[43mstep_timeout\u001b[49m\u001b[43m,\u001b[49m\n\u001b[32m   2650\u001b[39m \u001b[43m    \u001b[49m\u001b[43mget_waiter\u001b[49m\u001b[43m=\u001b[49m\u001b[43mget_waiter\u001b[49m\u001b[43m,\u001b[49m\n\u001b[32m   2651\u001b[39m \u001b[43m    \u001b[49m\u001b[43mschedule_task\u001b[49m\u001b[43m=\u001b[49m\u001b[43mloop\u001b[49m\u001b[43m.\u001b[49m\u001b[43maccept_push\u001b[49m\u001b[43m,\u001b[49m\n\u001b[32m   2652\u001b[39m \u001b[43m\u001b[49m\u001b[43m)\u001b[49m\u001b[43m:\u001b[49m\n\u001b[32m   2653\u001b[39m \u001b[43m    \u001b[49m\u001b[38;5;66;43;03m# emit output\u001b[39;49;00m\n\u001b[32m   2654\u001b[39m \u001b[43m    \u001b[49m\u001b[38;5;28;43;01myield from\u001b[39;49;00m\u001b[43m \u001b[49m\u001b[43m_output\u001b[49m\u001b[43m(\u001b[49m\n\u001b[32m   2655\u001b[39m \u001b[43m        \u001b[49m\u001b[43mstream_mode\u001b[49m\u001b[43m,\u001b[49m\u001b[43m \u001b[49m\u001b[43mprint_mode\u001b[49m\u001b[43m,\u001b[49m\u001b[43m \u001b[49m\u001b[43msubgraphs\u001b[49m\u001b[43m,\u001b[49m\u001b[43m \u001b[49m\u001b[43mstream\u001b[49m\u001b[43m.\u001b[49m\u001b[43mget\u001b[49m\u001b[43m,\u001b[49m\u001b[43m \u001b[49m\u001b[43mqueue\u001b[49m\u001b[43m.\u001b[49m\u001b[43mEmpty\u001b[49m\n\u001b[32m   2656\u001b[39m \u001b[43m    \u001b[49m\u001b[43m)\u001b[49m\n\u001b[32m   2657\u001b[39m loop.after_tick()\n",
      "\u001b[36mFile \u001b[39m\u001b[32m~/projects/aws-ai-ml-workshop-kr/genai/aws-gen-ai-kr/13_agentcore/setup/.venv/lib/python3.12/site-packages/langgraph/pregel/_runner.py:162\u001b[39m, in \u001b[36mPregelRunner.tick\u001b[39m\u001b[34m(self, tasks, reraise, timeout, retry_policy, get_waiter, schedule_task)\u001b[39m\n\u001b[32m    160\u001b[39m t = tasks[\u001b[32m0\u001b[39m]\n\u001b[32m    161\u001b[39m \u001b[38;5;28;01mtry\u001b[39;00m:\n\u001b[32m--> \u001b[39m\u001b[32m162\u001b[39m     \u001b[43mrun_with_retry\u001b[49m\u001b[43m(\u001b[49m\n\u001b[32m    163\u001b[39m \u001b[43m        \u001b[49m\u001b[43mt\u001b[49m\u001b[43m,\u001b[49m\n\u001b[32m    164\u001b[39m \u001b[43m        \u001b[49m\u001b[43mretry_policy\u001b[49m\u001b[43m,\u001b[49m\n\u001b[32m    165\u001b[39m \u001b[43m        \u001b[49m\u001b[43mconfigurable\u001b[49m\u001b[43m=\u001b[49m\u001b[43m{\u001b[49m\n\u001b[32m    166\u001b[39m \u001b[43m            \u001b[49m\u001b[43mCONFIG_KEY_CALL\u001b[49m\u001b[43m:\u001b[49m\u001b[43m \u001b[49m\u001b[43mpartial\u001b[49m\u001b[43m(\u001b[49m\n\u001b[32m    167\u001b[39m \u001b[43m                \u001b[49m\u001b[43m_call\u001b[49m\u001b[43m,\u001b[49m\n\u001b[32m    168\u001b[39m \u001b[43m                \u001b[49m\u001b[43mweakref\u001b[49m\u001b[43m.\u001b[49m\u001b[43mref\u001b[49m\u001b[43m(\u001b[49m\u001b[43mt\u001b[49m\u001b[43m)\u001b[49m\u001b[43m,\u001b[49m\n\u001b[32m    169\u001b[39m \u001b[43m                \u001b[49m\u001b[43mretry_policy\u001b[49m\u001b[43m=\u001b[49m\u001b[43mretry_policy\u001b[49m\u001b[43m,\u001b[49m\n\u001b[32m    170\u001b[39m \u001b[43m                \u001b[49m\u001b[43mfutures\u001b[49m\u001b[43m=\u001b[49m\u001b[43mweakref\u001b[49m\u001b[43m.\u001b[49m\u001b[43mref\u001b[49m\u001b[43m(\u001b[49m\u001b[43mfutures\u001b[49m\u001b[43m)\u001b[49m\u001b[43m,\u001b[49m\n\u001b[32m    171\u001b[39m \u001b[43m                \u001b[49m\u001b[43mschedule_task\u001b[49m\u001b[43m=\u001b[49m\u001b[43mschedule_task\u001b[49m\u001b[43m,\u001b[49m\n\u001b[32m    172\u001b[39m \u001b[43m                \u001b[49m\u001b[43msubmit\u001b[49m\u001b[43m=\u001b[49m\u001b[38;5;28;43mself\u001b[39;49m\u001b[43m.\u001b[49m\u001b[43msubmit\u001b[49m\u001b[43m,\u001b[49m\n\u001b[32m    173\u001b[39m \u001b[43m            \u001b[49m\u001b[43m)\u001b[49m\u001b[43m,\u001b[49m\n\u001b[32m    174\u001b[39m \u001b[43m        \u001b[49m\u001b[43m}\u001b[49m\u001b[43m,\u001b[49m\n\u001b[32m    175\u001b[39m \u001b[43m    \u001b[49m\u001b[43m)\u001b[49m\n\u001b[32m    176\u001b[39m     \u001b[38;5;28mself\u001b[39m.commit(t, \u001b[38;5;28;01mNone\u001b[39;00m)\n\u001b[32m    177\u001b[39m \u001b[38;5;28;01mexcept\u001b[39;00m \u001b[38;5;167;01mException\u001b[39;00m \u001b[38;5;28;01mas\u001b[39;00m exc:\n",
      "\u001b[36mFile \u001b[39m\u001b[32m~/projects/aws-ai-ml-workshop-kr/genai/aws-gen-ai-kr/13_agentcore/setup/.venv/lib/python3.12/site-packages/langgraph/pregel/_retry.py:42\u001b[39m, in \u001b[36mrun_with_retry\u001b[39m\u001b[34m(task, retry_policy, configurable)\u001b[39m\n\u001b[32m     40\u001b[39m     task.writes.clear()\n\u001b[32m     41\u001b[39m     \u001b[38;5;66;03m# run the task\u001b[39;00m\n\u001b[32m---> \u001b[39m\u001b[32m42\u001b[39m     \u001b[38;5;28;01mreturn\u001b[39;00m \u001b[43mtask\u001b[49m\u001b[43m.\u001b[49m\u001b[43mproc\u001b[49m\u001b[43m.\u001b[49m\u001b[43minvoke\u001b[49m\u001b[43m(\u001b[49m\u001b[43mtask\u001b[49m\u001b[43m.\u001b[49m\u001b[43minput\u001b[49m\u001b[43m,\u001b[49m\u001b[43m \u001b[49m\u001b[43mconfig\u001b[49m\u001b[43m)\u001b[49m\n\u001b[32m     43\u001b[39m \u001b[38;5;28;01mexcept\u001b[39;00m ParentCommand \u001b[38;5;28;01mas\u001b[39;00m exc:\n\u001b[32m     44\u001b[39m     ns: \u001b[38;5;28mstr\u001b[39m = config[CONF][CONFIG_KEY_CHECKPOINT_NS]\n",
      "\u001b[36mFile \u001b[39m\u001b[32m~/projects/aws-ai-ml-workshop-kr/genai/aws-gen-ai-kr/13_agentcore/setup/.venv/lib/python3.12/site-packages/langgraph/_internal/_runnable.py:657\u001b[39m, in \u001b[36mRunnableSeq.invoke\u001b[39m\u001b[34m(self, input, config, **kwargs)\u001b[39m\n\u001b[32m    655\u001b[39m     \u001b[38;5;66;03m# run in context\u001b[39;00m\n\u001b[32m    656\u001b[39m     \u001b[38;5;28;01mwith\u001b[39;00m set_config_context(config, run) \u001b[38;5;28;01mas\u001b[39;00m context:\n\u001b[32m--> \u001b[39m\u001b[32m657\u001b[39m         \u001b[38;5;28minput\u001b[39m = \u001b[43mcontext\u001b[49m\u001b[43m.\u001b[49m\u001b[43mrun\u001b[49m\u001b[43m(\u001b[49m\u001b[43mstep\u001b[49m\u001b[43m.\u001b[49m\u001b[43minvoke\u001b[49m\u001b[43m,\u001b[49m\u001b[43m \u001b[49m\u001b[38;5;28;43minput\u001b[39;49m\u001b[43m,\u001b[49m\u001b[43m \u001b[49m\u001b[43mconfig\u001b[49m\u001b[43m,\u001b[49m\u001b[43m \u001b[49m\u001b[43m*\u001b[49m\u001b[43m*\u001b[49m\u001b[43mkwargs\u001b[49m\u001b[43m)\u001b[49m\n\u001b[32m    658\u001b[39m \u001b[38;5;28;01melse\u001b[39;00m:\n\u001b[32m    659\u001b[39m     \u001b[38;5;28minput\u001b[39m = step.invoke(\u001b[38;5;28minput\u001b[39m, config)\n",
      "\u001b[36mFile \u001b[39m\u001b[32m~/projects/aws-ai-ml-workshop-kr/genai/aws-gen-ai-kr/13_agentcore/setup/.venv/lib/python3.12/site-packages/langgraph/_internal/_runnable.py:401\u001b[39m, in \u001b[36mRunnableCallable.invoke\u001b[39m\u001b[34m(self, input, config, **kwargs)\u001b[39m\n\u001b[32m    399\u001b[39m         run_manager.on_chain_end(ret)\n\u001b[32m    400\u001b[39m \u001b[38;5;28;01melse\u001b[39;00m:\n\u001b[32m--> \u001b[39m\u001b[32m401\u001b[39m     ret = \u001b[38;5;28;43mself\u001b[39;49m\u001b[43m.\u001b[49m\u001b[43mfunc\u001b[49m\u001b[43m(\u001b[49m\u001b[43m*\u001b[49m\u001b[43margs\u001b[49m\u001b[43m,\u001b[49m\u001b[43m \u001b[49m\u001b[43m*\u001b[49m\u001b[43m*\u001b[49m\u001b[43mkwargs\u001b[49m\u001b[43m)\u001b[49m\n\u001b[32m    402\u001b[39m \u001b[38;5;28;01mif\u001b[39;00m \u001b[38;5;28mself\u001b[39m.recurse \u001b[38;5;129;01mand\u001b[39;00m \u001b[38;5;28misinstance\u001b[39m(ret, Runnable):\n\u001b[32m    403\u001b[39m     \u001b[38;5;28;01mreturn\u001b[39;00m ret.invoke(\u001b[38;5;28minput\u001b[39m, config)\n",
      "\u001b[36mFile \u001b[39m\u001b[32m~/projects/aws-ai-ml-workshop-kr/genai/aws-gen-ai-kr/13_agentcore/tutorials/01-AgentCore-runtime/01-hosting-agent/05-strands-langgraph-with-bedrock-model/graph/nodes.py:94\u001b[39m, in \u001b[36mplanner_node\u001b[39m\u001b[34m(state)\u001b[39m\n\u001b[32m     92\u001b[39m full_plan, messages = state.get(\u001b[33m\"\u001b[39m\u001b[33mfull_plan\u001b[39m\u001b[33m\"\u001b[39m, \u001b[33m\"\u001b[39m\u001b[33m\"\u001b[39m), state[\u001b[33m\"\u001b[39m\u001b[33mmessages\u001b[39m\u001b[33m\"\u001b[39m]\n\u001b[32m     93\u001b[39m message = \u001b[33m'\u001b[39m\u001b[38;5;130;01m\\n\u001b[39;00m\u001b[38;5;130;01m\\n\u001b[39;00m\u001b[33m'\u001b[39m.join([messages[-\u001b[32m1\u001b[39m][\u001b[33m\"\u001b[39m\u001b[33mcontent\u001b[39m\u001b[33m\"\u001b[39m][-\u001b[32m1\u001b[39m][\u001b[33m\"\u001b[39m\u001b[33mtext\u001b[39m\u001b[33m\"\u001b[39m], FULL_PLAN_FORMAT.format(full_plan)])\n\u001b[32m---> \u001b[39m\u001b[32m94\u001b[39m agent, response = \u001b[43masyncio\u001b[49m\u001b[43m.\u001b[49m\u001b[43mrun\u001b[49m\u001b[43m(\u001b[49m\u001b[43mstrands_utils\u001b[49m\u001b[43m.\u001b[49m\u001b[43mprocess_streaming_response\u001b[49m\u001b[43m(\u001b[49m\u001b[43magent\u001b[49m\u001b[43m,\u001b[49m\u001b[43m \u001b[49m\u001b[43mmessage\u001b[49m\u001b[43m)\u001b[49m\u001b[43m)\u001b[49m\n\u001b[32m     95\u001b[39m logger.debug(\u001b[33mf\u001b[39m\u001b[33m\"\u001b[39m\u001b[38;5;130;01m\\n\u001b[39;00m\u001b[38;5;132;01m{\u001b[39;00mColors.RED\u001b[38;5;132;01m}\u001b[39;00m\u001b[33mPlanner response:\u001b[39m\u001b[38;5;130;01m\\n\u001b[39;00m\u001b[38;5;132;01m{\u001b[39;00mpprint.pformat(response[\u001b[33m\"\u001b[39m\u001b[33mtext\u001b[39m\u001b[33m\"\u001b[39m],\u001b[38;5;250m \u001b[39mindent=\u001b[32m2\u001b[39m,\u001b[38;5;250m \u001b[39mwidth=\u001b[32m100\u001b[39m)\u001b[38;5;132;01m}\u001b[39;00m\u001b[38;5;132;01m{\u001b[39;00mColors.END\u001b[38;5;132;01m}\u001b[39;00m\u001b[33m\"\u001b[39m)\n\u001b[32m     97\u001b[39m goto = \u001b[33m\"\u001b[39m\u001b[33msupervisor\u001b[39m\u001b[33m\"\u001b[39m\n",
      "\u001b[36mFile \u001b[39m\u001b[32m~/projects/aws-ai-ml-workshop-kr/genai/aws-gen-ai-kr/13_agentcore/setup/.venv/lib/python3.12/site-packages/nest_asyncio.py:30\u001b[39m, in \u001b[36m_patch_asyncio.<locals>.run\u001b[39m\u001b[34m(main, debug)\u001b[39m\n\u001b[32m     28\u001b[39m task = asyncio.ensure_future(main)\n\u001b[32m     29\u001b[39m \u001b[38;5;28;01mtry\u001b[39;00m:\n\u001b[32m---> \u001b[39m\u001b[32m30\u001b[39m     \u001b[38;5;28;01mreturn\u001b[39;00m \u001b[43mloop\u001b[49m\u001b[43m.\u001b[49m\u001b[43mrun_until_complete\u001b[49m\u001b[43m(\u001b[49m\u001b[43mtask\u001b[49m\u001b[43m)\u001b[49m\n\u001b[32m     31\u001b[39m \u001b[38;5;28;01mfinally\u001b[39;00m:\n\u001b[32m     32\u001b[39m     \u001b[38;5;28;01mif\u001b[39;00m \u001b[38;5;129;01mnot\u001b[39;00m task.done():\n",
      "\u001b[36mFile \u001b[39m\u001b[32m~/projects/aws-ai-ml-workshop-kr/genai/aws-gen-ai-kr/13_agentcore/setup/.venv/lib/python3.12/site-packages/nest_asyncio.py:92\u001b[39m, in \u001b[36m_patch_loop.<locals>.run_until_complete\u001b[39m\u001b[34m(self, future)\u001b[39m\n\u001b[32m     90\u001b[39m     f._log_destroy_pending = \u001b[38;5;28;01mFalse\u001b[39;00m\n\u001b[32m     91\u001b[39m \u001b[38;5;28;01mwhile\u001b[39;00m \u001b[38;5;129;01mnot\u001b[39;00m f.done():\n\u001b[32m---> \u001b[39m\u001b[32m92\u001b[39m     \u001b[38;5;28;43mself\u001b[39;49m\u001b[43m.\u001b[49m\u001b[43m_run_once\u001b[49m\u001b[43m(\u001b[49m\u001b[43m)\u001b[49m\n\u001b[32m     93\u001b[39m     \u001b[38;5;28;01mif\u001b[39;00m \u001b[38;5;28mself\u001b[39m._stopping:\n\u001b[32m     94\u001b[39m         \u001b[38;5;28;01mbreak\u001b[39;00m\n",
      "\u001b[36mFile \u001b[39m\u001b[32m~/projects/aws-ai-ml-workshop-kr/genai/aws-gen-ai-kr/13_agentcore/setup/.venv/lib/python3.12/site-packages/nest_asyncio.py:115\u001b[39m, in \u001b[36m_patch_loop.<locals>._run_once\u001b[39m\u001b[34m(self)\u001b[39m\n\u001b[32m    108\u001b[39m     heappop(scheduled)\n\u001b[32m    110\u001b[39m timeout = (\n\u001b[32m    111\u001b[39m     \u001b[32m0\u001b[39m \u001b[38;5;28;01mif\u001b[39;00m ready \u001b[38;5;129;01mor\u001b[39;00m \u001b[38;5;28mself\u001b[39m._stopping\n\u001b[32m    112\u001b[39m     \u001b[38;5;28;01melse\u001b[39;00m \u001b[38;5;28mmin\u001b[39m(\u001b[38;5;28mmax\u001b[39m(\n\u001b[32m    113\u001b[39m         scheduled[\u001b[32m0\u001b[39m]._when - \u001b[38;5;28mself\u001b[39m.time(), \u001b[32m0\u001b[39m), \u001b[32m86400\u001b[39m) \u001b[38;5;28;01mif\u001b[39;00m scheduled\n\u001b[32m    114\u001b[39m     \u001b[38;5;28;01melse\u001b[39;00m \u001b[38;5;28;01mNone\u001b[39;00m)\n\u001b[32m--> \u001b[39m\u001b[32m115\u001b[39m event_list = \u001b[38;5;28;43mself\u001b[39;49m\u001b[43m.\u001b[49m\u001b[43m_selector\u001b[49m\u001b[43m.\u001b[49m\u001b[43mselect\u001b[49m\u001b[43m(\u001b[49m\u001b[43mtimeout\u001b[49m\u001b[43m)\u001b[49m\n\u001b[32m    116\u001b[39m \u001b[38;5;28mself\u001b[39m._process_events(event_list)\n\u001b[32m    118\u001b[39m end_time = \u001b[38;5;28mself\u001b[39m.time() + \u001b[38;5;28mself\u001b[39m._clock_resolution\n",
      "\u001b[36mFile \u001b[39m\u001b[32m~/.local/share/uv/python/cpython-3.12.11-linux-aarch64-gnu/lib/python3.12/selectors.py:468\u001b[39m, in \u001b[36mEpollSelector.select\u001b[39m\u001b[34m(self, timeout)\u001b[39m\n\u001b[32m    466\u001b[39m ready = []\n\u001b[32m    467\u001b[39m \u001b[38;5;28;01mtry\u001b[39;00m:\n\u001b[32m--> \u001b[39m\u001b[32m468\u001b[39m     fd_event_list = \u001b[38;5;28;43mself\u001b[39;49m\u001b[43m.\u001b[49m\u001b[43m_selector\u001b[49m\u001b[43m.\u001b[49m\u001b[43mpoll\u001b[49m\u001b[43m(\u001b[49m\u001b[43mtimeout\u001b[49m\u001b[43m,\u001b[49m\u001b[43m \u001b[49m\u001b[43mmax_ev\u001b[49m\u001b[43m)\u001b[49m\n\u001b[32m    469\u001b[39m \u001b[38;5;28;01mexcept\u001b[39;00m \u001b[38;5;167;01mInterruptedError\u001b[39;00m:\n\u001b[32m    470\u001b[39m     \u001b[38;5;28;01mreturn\u001b[39;00m ready\n",
      "\u001b[31mKeyboardInterrupt\u001b[39m: "
     ]
    }
   ],
   "source": [
    "import nest_asyncio\n",
    "nest_asyncio.apply()\n",
    "\n",
    "#remove_artifact_folder()\n",
    "\n",
    "user_query = '''\n",
    "    안녕 나는 장동진이라고 해. 만나서 반가워\n",
    "    나는 데이터를 제공하고 그것으로 부터 인사이트를 추출하고 싶어. \n",
    "'''\n",
    "\n",
    "result = run_agent_workflow(\n",
    "    user_input=user_query,\n",
    "    debug=False\n",
    ")\n"
   ]
  },
  {
   "cell_type": "code",
   "execution_count": 8,
   "id": "7fed8375",
   "metadata": {},
   "outputs": [
    {
     "name": "stdout",
     "output_type": "stream",
     "text": [
      "Overwriting strands_langgraph_bedrock.py\n"
     ]
    }
   ],
   "source": [
    "%%writefile strands_langgraph_bedrock.py\n",
    "\n",
    "import sys, os\n",
    "import json\n",
    "import logging\n",
    "import argparse\n",
    "from textwrap import dedent\n",
    "from graph import build_graph\n",
    "from src.utils.common_utils import get_message_from_string\n",
    "from src.utils.strands_sdk_utils import strands_utils\n",
    "from src.prompts.template import apply_prompt_template\n",
    "\n",
    "from bedrock_agentcore.runtime import BedrockAgentCoreApp\n",
    "\n",
    "# Configure logging\n",
    "logging.basicConfig(\n",
    "    level=logging.INFO,  # Default level is INFO\n",
    "    format=\"%(asctime)s - %(name)s - %(levelname)s - %(message)s\",\n",
    ")\n",
    "\n",
    "def enable_debug_logging():\n",
    "    \"\"\"Enable debug level logging for more detailed execution information.\"\"\"\n",
    "    logging.getLogger(__name__).setLevel(logging.DEBUG)\n",
    "\n",
    "# 로거 설정을 전역으로 한 번만 수행\n",
    "logger = logging.getLogger(__name__)\n",
    "logger.propagate = False\n",
    "for handler in logger.handlers[:]:\n",
    "    logger.removeHandler(handler)\n",
    "handler = logging.StreamHandler()\n",
    "formatter = logging.Formatter('\\n%(levelname)s [%(name)s] %(message)s')\n",
    "handler.setFormatter(formatter)\n",
    "logger.addHandler(handler)\n",
    "logger.setLevel(logging.INFO)  # 기본 레벨은 INFO로 설정\n",
    "\n",
    "class Colors:\n",
    "    BLUE = '\\033[94m'\n",
    "    GREEN = '\\033[92m'\n",
    "    YELLOW = '\\033[93m'\n",
    "    RED = '\\033[91m'\n",
    "    BOLD = '\\033[1m'\n",
    "    UNDERLINE = '\\033[4m'\n",
    "    END = '\\033[0m'\n",
    "\n",
    "\n",
    "# Create the graph\n",
    "graph = build_graph()\n",
    "\n",
    "def run_agent_workflow(user_input: str, debug: bool = False):\n",
    "    \"\"\"Run the agent workflow with the given user input.\n",
    "\n",
    "    Args:\n",
    "        user_input: The user's query or request\n",
    "        debug: If True, enables debug level logging\n",
    "\n",
    "    Returns:\n",
    "        The final state after the workflow completes\n",
    "    \"\"\"\n",
    "    if not user_input:\n",
    "        raise ValueError(\"Input could not be empty\")\n",
    "\n",
    "    if debug:\n",
    "        enable_debug_logging()\n",
    "\n",
    "    #logger.info(f\"Starting workflow with user input: {user_input}\")\n",
    "    logger.info(f\"{Colors.GREEN}===== Starting workflow ====={Colors.END}\")\n",
    "    logger.info(f\"{Colors.GREEN}\\nuser input: {user_input}{Colors.END}\")\n",
    "    \n",
    "    user_prompts = dedent(\n",
    "        '''\n",
    "        Here is a user request: <user_request>{user_request}</user_request>\n",
    "        '''\n",
    "    )\n",
    "    context = {\"user_request\": user_input}\n",
    "    user_prompts = user_prompts.format(**context)\n",
    "    messages = [get_message_from_string(role=\"user\", string=user_prompts, imgs=[])]\n",
    "\n",
    "        \n",
    "    result = graph.invoke(\n",
    "        input={\n",
    "            # Runtime Variables\n",
    "            \"messages\": messages,\n",
    "            \"request\": user_input,\n",
    "            \"request_prompt\": user_prompts\n",
    "        },\n",
    "        config={\n",
    "            \"recursion_limit\": 100\n",
    "        }\n",
    "    )\n",
    "    logger.debug(f\"{Colors.RED}Final workflow state: {result}{Colors.END}\")\n",
    "    logger.info(f\"{Colors.GREEN}===== Workflow completed successfully ====={Colors.END}\")\n",
    "    return result\n",
    "\n",
    "def strands_langgraph_bedrock(payload):\n",
    "    \"\"\"\n",
    "    Invoke the agent with a payload\n",
    "    \"\"\"\n",
    "    user_query = payload.get(\"prompt\")\n",
    "\n",
    "    result = run_agent_workflow(\n",
    "        user_input=user_query,\n",
    "        debug=False\n",
    "    )\n",
    "    \n",
    "    return result\n",
    "\n",
    "if __name__ == \"__main__\":\n",
    "    parser = argparse.ArgumentParser()\n",
    "    parser.add_argument(\"payload\", type=str)\n",
    "    args = parser.parse_args()\n",
    "    response = strands_langgraph_bedrock(json.loads(args.payload))\n",
    "    print(response)\n",
    "\n"
   ]
  },
  {
   "cell_type": "markdown",
   "id": "68499675-db8d-47c6-8c0c-5d66dcb06229",
   "metadata": {},
   "source": [
    "#### Invoking local agent"
   ]
  },
  {
   "cell_type": "code",
   "execution_count": 9,
   "id": "1226d59e6b56c96",
   "metadata": {
    "ExecuteTime": {
     "end_time": "2025-06-29T21:52:06.461281Z",
     "start_time": "2025-06-29T21:52:06.456854Z"
    }
   },
   "outputs": [
    {
     "name": "stdout",
     "output_type": "stream",
     "text": [
      "\n",
      "INFO [__main__] \u001b[92m===== Starting workflow =====\u001b[0m\n",
      "\n",
      "INFO [__main__] \u001b[92m\n",
      "user input: 안녕 나는 장동진이라고 해. 만나서 반가워 나는 데이터를 제공하고 그것으로 부터 인사이트를 추출하고 싶어.\u001b[0m\n",
      "\n",
      "INFO [graph.nodes] \u001b[92m===== Coordinator talking...... =====\u001b[0m\n",
      "\n",
      "INFO [src.utils.strands_sdk_utils] \u001b[92mCOORDINATOR - Prompt Cache Disabled\u001b[0m\n",
      "\u001b[97m안녕\u001b[0m\u001b[97m하세요 \u001b[0m\u001b[97m장동진님\u001b[0m\u001b[97m!\u001b[0m\u001b[97m 저는 \u001b[0m\u001b[97mBedrock-\u001b[0m\u001b[97mManus입\u001b[0m\u001b[97m니다. \u001b[0m\u001b[97m만\u001b[0m\u001b[97m나서 반\u001b[0m\u001b[97m갑습니다\u001b[0m\u001b[97m!\u001b[0m\u001b[97m\n",
      "\n",
      "데\u001b[0m\u001b[97m이터 \u001b[0m\u001b[97m분\u001b[0m\u001b[97m석과\u001b[0m\u001b[97m 인사이\u001b[0m\u001b[97m트 추출\u001b[0m\u001b[97m에\u001b[0m\u001b[97m 대한\u001b[0m\u001b[97m 요\u001b[0m\u001b[97m청은\u001b[0m\u001b[97m 저\u001b[0m\u001b[97m희\u001b[0m\u001b[97m 플\u001b[0m\u001b[97m래\u001b[0m\u001b[97m너 시\u001b[0m\u001b[97m스템과\u001b[0m\u001b[97m 상담이\u001b[0m\u001b[97m 필요할\u001b[0m\u001b[97m 것\u001b[0m\u001b[97m \u001b[0m\u001b[97m같습니다\u001b[0m\u001b[97m.\u001b[0m\u001b[97m\n",
      "\n",
      "han\u001b[0m\u001b[97mdoff_to_\u001b[0m\u001b[97mplanner: I\u001b[0m\u001b[97m'll need to cons\u001b[0m\u001b[97mult our planning system\u001b[0m\u001b[97m for this request.\u001b[0m\n",
      "INFO [graph.nodes] \u001b[92m===== Coordinator completed task =====\u001b[0m\n",
      "\n",
      "INFO [graph.nodes] \u001b[92m===== Planner generating full plan =====\u001b[0m\n",
      "\n",
      "INFO [src.utils.strands_sdk_utils] \u001b[92mPLANNER - Prompt Cache Disabled\u001b[0m\n",
      "\u001b[97m#\u001b[0m\u001b[97m Plan\n",
      "\n",
      "## thought\u001b[0m\u001b[97m\n",
      "- \u001b[0m\u001b[97m사용자가\u001b[0m\u001b[97m 자신을\u001b[0m\u001b[97m 소개하\u001b[0m\u001b[97m고 데이\u001b[0m\u001b[97m터 분\u001b[0m\u001b[97m석에 대한\u001b[0m\u001b[97m 일반적인 \u001b[0m\u001b[97m관심을\u001b[0m\u001b[97m 표현했습니\u001b[0m\u001b[97m다.\n",
      "- 구\u001b[0m\u001b[97m체적인 데이터나\u001b[0m\u001b[97m 분석 요\u001b[0m\u001b[97m구사항이\u001b[0m\u001b[97m 제\u001b[0m\u001b[97m시되지 \u001b[0m\u001b[97m않았으\u001b[0m\u001b[97m므로,\u001b[0m\u001b[97m \u001b[0m\u001b[97m먼저 기\u001b[0m\u001b[97m본적인 \u001b[0m\u001b[97m소개와 가\u001b[0m\u001b[97m능한 분\u001b[0m\u001b[97m석 방향\u001b[0m\u001b[97m을 제시하는\u001b[0m\u001b[97m 것이 \u001b[0m\u001b[97m좋겠습니다\u001b[0m\u001b[97m.\n",
      "- 데이\u001b[0m\u001b[97m터 분석\u001b[0m\u001b[97m 프로세\u001b[0m\u001b[97m스와 가\u001b[0m\u001b[97m능한 인\u001b[0m\u001b[97m사이트 \u001b[0m\u001b[97m도출 \u001b[0m\u001b[97m방법에 대해\u001b[0m\u001b[97m 안내가\u001b[0m\u001b[97m 필요합\u001b[0m\u001b[97m니다.\u001b[0m\u001b[97m\n",
      "\n",
      "## title\u001b[0m\u001b[97m\n",
      "데이터 분\u001b[0m\u001b[97m석 및 인사이\u001b[0m\u001b[97m트 도출 \u001b[0m\u001b[97m프로세스 \u001b[0m\u001b[97m안내\n",
      "\n",
      "## steps\u001b[0m\u001b[97m\n",
      "### 1\u001b[0m\u001b[97m. Reporter: 초\u001b[0m\u001b[97m기 응답 \u001b[0m\u001b[97m및 프\u001b[0m\u001b[97m로세스 \u001b[0m\u001b[97m안내\n",
      "- [\u001b[0m\u001b[97m ] 사용자 \u001b[0m\u001b[97m환영 인\u001b[0m\u001b[97m사 작\u001b[0m\u001b[97m성\n",
      "- [\u001b[0m\u001b[97m ] 데이터 분석\u001b[0m\u001b[97m 프로세스 \u001b[0m\u001b[97m개요 설\u001b[0m\u001b[97m명\n",
      "- [\u001b[0m\u001b[97m ] 필요한 정\u001b[0m\u001b[97m보 요\u001b[0m\u001b[97m청사항 작\u001b[0m\u001b[97m성\n",
      "  - 분\u001b[0m\u001b[97m석하고자 하\u001b[0m\u001b[97m는 데이\u001b[0m\u001b[97m터의 종류\u001b[0m\u001b[97m\n",
      "  - 데\u001b[0m\u001b[97m이터의\u001b[0m\u001b[97m 형식 (\u001b[0m\u001b[97mCSV, Excel \u001b[0m\u001b[97m등)\n",
      "  \u001b[0m\u001b[97m- 원하는 분\u001b[0m\u001b[97m석의 목\u001b[0m\u001b[97m적\n",
      "  - 특\u001b[0m\u001b[97m정 관심 \u001b[0m\u001b[97m영역이\u001b[0m\u001b[97m나 변\u001b[0m\u001b[97m수\n",
      "- [ ] 가\u001b[0m\u001b[97m능한 분\u001b[0m\u001b[97m석 방법\u001b[0m\u001b[97m론 예시 제시\u001b[0m\u001b[97m\n",
      "- [ ] 다\u001b[0m\u001b[97m음 단계\u001b[0m\u001b[97m를 위한 \u001b[0m\u001b[97m가이드라\u001b[0m\u001b[97m인 제공\u001b[0m\n",
      "INFO [graph.nodes] \u001b[92m===== Planner completed task =====\u001b[0m\n",
      "WARNING:langgraph:Task planner with path ('__pregel_pull', 'planner') wrote to unknown channel branch:to:supervisor, ignoring it.\n",
      "\n",
      "INFO [__main__] \u001b[92m===== Workflow completed successfully =====\u001b[0m\n",
      "{'full_plan': '# Plan\\n\\n## thought\\n- 사용자가 자신을 소개하고 데이터 분석에 대한 일반적인 관심을 표현했습니다.\\n- 구체적인 데이터나 분석 요구사항이 제시되지 않았으므로, 먼저 기본적인 소개와 가능한 분석 방향을 제시하는 것이 좋겠습니다.\\n- 데이터 분석 프로세스와 가능한 인사이트 도출 방법에 대해 안내가 필요합니다.\\n\\n## title\\n데이터 분석 및 인사이트 도출 프로세스 안내\\n\\n## steps\\n### 1. Reporter: 초기 응답 및 프로세스 안내\\n- [ ] 사용자 환영 인사 작성\\n- [ ] 데이터 분석 프로세스 개요 설명\\n- [ ] 필요한 정보 요청사항 작성\\n  - 분석하고자 하는 데이터의 종류\\n  - 데이터의 형식 (CSV, Excel 등)\\n  - 원하는 분석의 목적\\n  - 특정 관심 영역이나 변수\\n- [ ] 가능한 분석 방법론 예시 제시\\n- [ ] 다음 단계를 위한 가이드라인 제공', 'messages': [{'role': 'user', 'content': [{'text': '# Plan\\n\\n## thought\\n- 사용자가 자신을 소개하고 데이터 분석에 대한 일반적인 관심을 표현했습니다.\\n- 구체적인 데이터나 분석 요구사항이 제시되지 않았으므로, 먼저 기본적인 소개와 가능한 분석 방향을 제시하는 것이 좋겠습니다.\\n- 데이터 분석 프로세스와 가능한 인사이트 도출 방법에 대해 안내가 필요합니다.\\n\\n## title\\n데이터 분석 및 인사이트 도출 프로세스 안내\\n\\n## steps\\n### 1. Reporter: 초기 응답 및 프로세스 안내\\n- [ ] 사용자 환영 인사 작성\\n- [ ] 데이터 분석 프로세스 개요 설명\\n- [ ] 필요한 정보 요청사항 작성\\n  - 분석하고자 하는 데이터의 종류\\n  - 데이터의 형식 (CSV, Excel 등)\\n  - 원하는 분석의 목적\\n  - 특정 관심 영역이나 변수\\n- [ ] 가능한 분석 방법론 예시 제시\\n- [ ] 다음 단계를 위한 가이드라인 제공'}]}], 'messages_name': 'planner', 'history': [{'agent': 'coordinator', 'message': \"안녕하세요 장동진님! 저는 Bedrock-Manus입니다. 만나서 반갑습니다!\\n\\n데이터 분석과 인사이트 추출에 대한 요청은 저희 플래너 시스템과 상담이 필요할 것 같습니다.\\n\\nhandoff_to_planner: I'll need to consult our planning system for this request.\"}, {'agent': 'planner', 'message': '# Plan\\n\\n## thought\\n- 사용자가 자신을 소개하고 데이터 분석에 대한 일반적인 관심을 표현했습니다.\\n- 구체적인 데이터나 분석 요구사항이 제시되지 않았으므로, 먼저 기본적인 소개와 가능한 분석 방향을 제시하는 것이 좋겠습니다.\\n- 데이터 분석 프로세스와 가능한 인사이트 도출 방법에 대해 안내가 필요합니다.\\n\\n## title\\n데이터 분석 및 인사이트 도출 프로세스 안내\\n\\n## steps\\n### 1. Reporter: 초기 응답 및 프로세스 안내\\n- [ ] 사용자 환영 인사 작성\\n- [ ] 데이터 분석 프로세스 개요 설명\\n- [ ] 필요한 정보 요청사항 작성\\n  - 분석하고자 하는 데이터의 종류\\n  - 데이터의 형식 (CSV, Excel 등)\\n  - 원하는 분석의 목적\\n  - 특정 관심 영역이나 변수\\n- [ ] 가능한 분석 방법론 예시 제시\\n- [ ] 다음 단계를 위한 가이드라인 제공'}], 'request': '안녕 나는 장동진이라고 해. 만나서 반가워 나는 데이터를 제공하고 그것으로 부터 인사이트를 추출하고 싶어.', 'request_prompt': '\\nHere is a user request: <user_request>안녕 나는 장동진이라고 해. 만나서 반가워 나는 데이터를 제공하고 그것으로 부터 인사이트를 추출하고 싶어.</user_request>\\n'}\n"
     ]
    }
   ],
   "source": [
    "!python strands_langgraph_bedrock.py '{\"prompt\": \"안녕 나는 장동진이라고 해. 만나서 반가워 나는 데이터를 제공하고 그것으로 부터 인사이트를 추출하고 싶어.\"}'"
   ]
  },
  {
   "cell_type": "markdown",
   "id": "932110e6-fca6-47b6-b7c5-c4714a866a80",
   "metadata": {},
   "source": [
    "## Preparing your agent for deployment on AgentCore Runtime\n",
    "\n",
    "Let's now deploy our agents to AgentCore Runtime. To do so we need to:\n",
    "* Import the Runtime App with `from bedrock_agentcore.runtime import BedrockAgentCoreApp`\n",
    "* Initialize the App in our code with `app = BedrockAgentCoreApp()`\n",
    "* Decorate the invocation function with the `@app.entrypoint` decorator\n",
    "* Let AgentCoreRuntime control the running of the agent with `app.run()`\n",
    "\n",
    "### Strands Agent SDK + LangGraph with Amazon Bedrock model\n",
    "Let's start with our Strands Agent SDK + LangGraph using Amazon Bedrock model. Other examples with different frameworks and models are available in the parent directories"
   ]
  },
  {
   "cell_type": "markdown",
   "id": "5f17f452",
   "metadata": {},
   "source": [
    "### Dockerfile\n"
   ]
  },
  {
   "cell_type": "code",
   "execution_count": 10,
   "id": "ddaa4cf8",
   "metadata": {},
   "outputs": [
    {
     "name": "stdout",
     "output_type": "stream",
     "text": [
      "Overwriting strands_langgraph_bedrock.py\n"
     ]
    }
   ],
   "source": [
    "%%writefile strands_langgraph_bedrock.py\n",
    "\n",
    "import json\n",
    "import logging\n",
    "import argparse\n",
    "from textwrap import dedent\n",
    "from graph import build_graph\n",
    "from src.utils.common_utils import get_message_from_string\n",
    "from src.utils.strands_sdk_utils import strands_utils\n",
    "from src.prompts.template import apply_prompt_template\n",
    "from bedrock_agentcore.runtime import BedrockAgentCoreApp\n",
    "\n",
    "app = BedrockAgentCoreApp()\n",
    "\n",
    "# Configure logging\n",
    "logging.basicConfig(\n",
    "    level=logging.INFO,  # Default level is INFO\n",
    "    format=\"%(asctime)s - %(name)s - %(levelname)s - %(message)s\",\n",
    ")\n",
    "\n",
    "def enable_debug_logging():\n",
    "    \"\"\"Enable debug level logging for more detailed execution information.\"\"\"\n",
    "    logging.getLogger(__name__).setLevel(logging.DEBUG)\n",
    "\n",
    "# 로거 설정을 전역으로 한 번만 수행\n",
    "logger = logging.getLogger(__name__)\n",
    "logger.propagate = False\n",
    "for handler in logger.handlers[:]:\n",
    "    logger.removeHandler(handler)\n",
    "handler = logging.StreamHandler()\n",
    "formatter = logging.Formatter('\\n%(levelname)s [%(name)s] %(message)s')\n",
    "handler.setFormatter(formatter)\n",
    "logger.addHandler(handler)\n",
    "logger.setLevel(logging.INFO)  # 기본 레벨은 INFO로 설정\n",
    "\n",
    "class Colors:\n",
    "    BLUE = '\\033[94m'\n",
    "    GREEN = '\\033[92m'\n",
    "    YELLOW = '\\033[93m'\n",
    "    RED = '\\033[91m'\n",
    "    BOLD = '\\033[1m'\n",
    "    UNDERLINE = '\\033[4m'\n",
    "    END = '\\033[0m'\n",
    "\n",
    "\n",
    "# Create the graph\n",
    "graph = build_graph()\n",
    "\n",
    "def run_agent_workflow(user_input: str, debug: bool = False):\n",
    "    \"\"\"Run the agent workflow with the given user input.\n",
    "\n",
    "    Args:\n",
    "        user_input: The user's query or request\n",
    "        debug: If True, enables debug level logging\n",
    "\n",
    "    Returns:\n",
    "        The final state after the workflow completes\n",
    "    \"\"\"\n",
    "    if not user_input:\n",
    "        raise ValueError(\"Input could not be empty\")\n",
    "\n",
    "    if debug:\n",
    "        enable_debug_logging()\n",
    "\n",
    "    #logger.info(f\"Starting workflow with user input: {user_input}\")\n",
    "    logger.info(f\"{Colors.GREEN}===== Starting workflow ====={Colors.END}\")\n",
    "    logger.info(f\"{Colors.GREEN}\\nuser input: {user_input}{Colors.END}\")\n",
    "    \n",
    "    user_prompts = dedent(\n",
    "        '''\n",
    "        Here is a user request: <user_request>{user_request}</user_request>\n",
    "        '''\n",
    "    )\n",
    "    context = {\"user_request\": user_input}\n",
    "    user_prompts = user_prompts.format(**context)\n",
    "    messages = [get_message_from_string(role=\"user\", string=user_prompts, imgs=[])]\n",
    "\n",
    "        \n",
    "    result = graph.invoke(\n",
    "        input={\n",
    "            # Runtime Variables\n",
    "            \"messages\": messages,\n",
    "            \"request\": user_input,\n",
    "            \"request_prompt\": user_prompts\n",
    "        },\n",
    "        config={\n",
    "            \"recursion_limit\": 100\n",
    "        }\n",
    "    )\n",
    "    logger.debug(f\"{Colors.RED}Final workflow state: {result}{Colors.END}\")\n",
    "    logger.info(f\"{Colors.GREEN}===== Workflow completed successfully ====={Colors.END}\")\n",
    "    return result\n",
    "\n",
    "@app.entrypoint\n",
    "def strands_langgraph_bedrock(payload):\n",
    "    \"\"\"\n",
    "    Invoke the agent with a payload\n",
    "    \"\"\"\n",
    "    user_query = payload.get(\"prompt\")\n",
    "\n",
    "    result = run_agent_workflow(\n",
    "        user_input=user_query,\n",
    "        debug=False\n",
    "    )\n",
    "\n",
    "    return result\n",
    "\n",
    "if __name__ == \"__main__\":\n",
    "    \n",
    "    app.run()\n"
   ]
  },
  {
   "cell_type": "markdown",
   "id": "c64db7b5-0f1b-475f-9bf2-467b4449d46a",
   "metadata": {},
   "source": [
    "## What happens behind the scenes?\n",
    "\n",
    "When you use `BedrockAgentCoreApp`, it automatically:\n",
    "\n",
    "* Creates an HTTP server that listens on the port 8080\n",
    "* Implements the required `/invocations` endpoint for processing the agent's requirements\n",
    "* Implements the `/ping` endpoint for health checks (very important for asynchronous agents)\n",
    "* Handles proper content types and response formats\n",
    "* Manages error handling according to the AWS standards"
   ]
  },
  {
   "cell_type": "markdown",
   "id": "6820ca8f-a8a8-4f34-b4ef-b6dad3776261",
   "metadata": {},
   "source": [
    "## Deploying the agent to AgentCore Runtime\n",
    "\n",
    "The `CreateAgentRuntime` operation supports comprehensive configuration options, letting you specify container images, environment variables and encryption settings. You can also configure protocol settings (HTTP, MCP) and authorization mechanisms to control how your clients communicate with the agent. \n",
    "\n",
    "**Note:** Operations best practice is to package code as container and push to ECR using CI/CD pipelines and IaC\n",
    "\n",
    "In this tutorial can will the Amazon Bedrock AgentCode Python SDK to easily package your artifacts and deploy them to AgentCore runtime."
   ]
  },
  {
   "cell_type": "markdown",
   "id": "d0861401-a111-4ade-9e02-50f52fdfa9b1",
   "metadata": {},
   "source": [
    "### Creating runtime role\n",
    "\n",
    "Before starting, let's create an IAM role for our AgentCore Runtime. We will do so using the utils function pre-developed for you."
   ]
  },
  {
   "cell_type": "code",
   "execution_count": 11,
   "id": "54dd2fdf-985c-4a70-8b87-071783a209de",
   "metadata": {},
   "outputs": [
    {
     "name": "stdout",
     "output_type": "stream",
     "text": [
      "sys.path[0]: /home/ubuntu/projects/aws-ai-ml-workshop-kr/genai/aws-gen-ai-kr/13_agentcore/tutorials\n",
      "Role already exists -- deleting and creating it again\n",
      "policies: {'PolicyNames': ['AgentCorePolicy'], 'IsTruncated': False, 'ResponseMetadata': {'RequestId': '19264be3-a477-47ff-90da-a0f9df4900a8', 'HTTPStatusCode': 200, 'HTTPHeaders': {'date': 'Wed, 06 Aug 2025 04:22:14 GMT', 'x-amzn-requestid': '19264be3-a477-47ff-90da-a0f9df4900a8', 'content-type': 'text/xml', 'content-length': '380'}, 'RetryAttempts': 0}}\n",
      "deleting agentcore-strands_langgraph_agentcore-role\n",
      "recreating agentcore-strands_langgraph_agentcore-role\n",
      "attaching role policy agentcore-strands_langgraph_agentcore-role\n"
     ]
    }
   ],
   "source": [
    "import sys\n",
    "import os\n",
    "\n",
    "# Get the current notebook's directory\n",
    "current_dir = os.path.dirname(os.path.abspath('__file__' if '__file__' in globals() else '.'))\n",
    "\n",
    "utils_dir = os.path.join(current_dir, '..')\n",
    "utils_dir = os.path.join(utils_dir, '..')\n",
    "utils_dir = os.path.abspath(utils_dir)\n",
    "\n",
    "# Add to sys.path\n",
    "sys.path.insert(0, utils_dir)\n",
    "print(\"sys.path[0]:\", sys.path[0])\n",
    "\n",
    "from utils import create_agentcore_role\n",
    "\n",
    "agent_name=\"strands_langgraph_agentcore\"\n",
    "agentcore_iam_role = create_agentcore_role(agent_name=agent_name)"
   ]
  },
  {
   "cell_type": "markdown",
   "id": "8855aceb-b79f-4aaa-b16f-8577c059816a",
   "metadata": {},
   "source": [
    "### Configure AgentCore Runtime deployment\n",
    "\n",
    "Next we will use our starter toolkit to configure the AgentCore Runtime deployment with an entrypoint, the execution role we just created and a requirements file. We will also configure the starter kit to auto create the Amazon ECR repository on launch.\n",
    "\n",
    "During the configure step, your docker file will be generated based on your application code\n",
    "\n",
    "<div style=\"text-align:left\">\n",
    "    <img src=\"images/configure.png\" width=\"40%\"/>\n",
    "</div>"
   ]
  },
  {
   "cell_type": "markdown",
   "id": "5a5fd644",
   "metadata": {},
   "source": [
    "**Signature:**\n",
    "```python\n",
    "agentcore_runtime.configure(\n",
    "    entrypoint: str,\n",
    "    execution_role: Optional[str] = None,\n",
    "    agent_name: Optional[str] = None,\n",
    "    requirements: Optional[List[str]] = None,\n",
    "    requirements_file: Optional[str] = None,\n",
    "    ecr_repository: Optional[str] = None,\n",
    "    container_runtime: Optional[str] = None,\n",
    "    auto_create_ecr: bool = True,\n",
    "    auto_create_execution_role: bool = False,\n",
    "    authorizer_configuration: Optional[Dict[str, Any]] = None,\n",
    "    region: Optional[str] = None,\n",
    "    protocol: Optional[Literal['HTTP', 'MCP']] = None,\n",
    ") -> bedrock_agentcore_starter_toolkit.operations.runtime.models.ConfigureResult\n",
    "```\n",
    "\n",
    "**Docstring:**  \n",
    "Configure Bedrock AgentCore from notebook using an entrypoint file.\n",
    "\n",
    "**Args:**\n",
    "- **entrypoint**: Path to Python file with optional Bedrock AgentCore name (e.g., \"handler.py\" or \"handler.py:bedrock_agentcore\")\n",
    "- **execution_role**: AWS IAM execution role ARN or name (optional if auto_create_execution_role=True)\n",
    "- **agent_name**: name of the agent\n",
    "- **requirements**: Optional list of requirements to generate requirements.txt\n",
    "- **requirements_file**: Optional path to existing requirements file\n",
    "- **ecr_repository**: Optional ECR repository URI\n",
    "- **container_runtime**: Optional container runtime (docker/podman)\n",
    "- **auto_create_ecr**: Whether to auto-create ECR repository\n",
    "- **auto_create_execution_role**: Whether to auto-create execution role (makes execution_role optional)\n",
    "- **authorizer_configuration**: JWT authorizer configuration dictionary\n",
    "- **region**: AWS region for deployment\n",
    "- **protocol**: agent server protocol, must be either HTTP or MCP"
   ]
  },
  {
   "cell_type": "code",
   "execution_count": 12,
   "id": "2e79eba2-ca59-463f-9ebf-56e362d7ae66",
   "metadata": {},
   "outputs": [
    {
     "name": "stderr",
     "output_type": "stream",
     "text": [
      "Entrypoint parsed: file=/home/ubuntu/projects/aws-ai-ml-workshop-kr/genai/aws-gen-ai-kr/13_agentcore/tutorials/01-AgentCore-runtime/01-hosting-agent/05-strands-langgraph-with-bedrock-model/strands_langgraph_bedrock.py, bedrock_agentcore_name=strands_langgraph_bedrock\n",
      "INFO:bedrock_agentcore_starter_toolkit.utils.runtime.entrypoint:Entrypoint parsed: file=/home/ubuntu/projects/aws-ai-ml-workshop-kr/genai/aws-gen-ai-kr/13_agentcore/tutorials/01-AgentCore-runtime/01-hosting-agent/05-strands-langgraph-with-bedrock-model/strands_langgraph_bedrock.py, bedrock_agentcore_name=strands_langgraph_bedrock\n",
      "Configuring BedrockAgentCore agent: strands_langgraph_agentcore\n",
      "INFO:bedrock_agentcore_starter_toolkit.operations.runtime.configure:Configuring BedrockAgentCore agent: strands_langgraph_agentcore\n",
      "Generated Dockerfile: /home/ubuntu/projects/aws-ai-ml-workshop-kr/genai/aws-gen-ai-kr/13_agentcore/tutorials/01-AgentCore-runtime/01-hosting-agent/05-strands-langgraph-with-bedrock-model/Dockerfile\n",
      "INFO:bedrock_agentcore_starter_toolkit.operations.runtime.configure:Generated Dockerfile: /home/ubuntu/projects/aws-ai-ml-workshop-kr/genai/aws-gen-ai-kr/13_agentcore/tutorials/01-AgentCore-runtime/01-hosting-agent/05-strands-langgraph-with-bedrock-model/Dockerfile\n",
      "Generated .dockerignore: /home/ubuntu/projects/aws-ai-ml-workshop-kr/genai/aws-gen-ai-kr/13_agentcore/tutorials/01-AgentCore-runtime/01-hosting-agent/05-strands-langgraph-with-bedrock-model/.dockerignore\n",
      "INFO:bedrock_agentcore_starter_toolkit.operations.runtime.configure:Generated .dockerignore: /home/ubuntu/projects/aws-ai-ml-workshop-kr/genai/aws-gen-ai-kr/13_agentcore/tutorials/01-AgentCore-runtime/01-hosting-agent/05-strands-langgraph-with-bedrock-model/.dockerignore\n",
      "Keeping 'strands_langgraph_agentcore' as default agent\n",
      "INFO:bedrock_agentcore_starter_toolkit.utils.runtime.config:Keeping 'strands_langgraph_agentcore' as default agent\n",
      "Bedrock AgentCore configured: /home/ubuntu/projects/aws-ai-ml-workshop-kr/genai/aws-gen-ai-kr/13_agentcore/tutorials/01-AgentCore-runtime/01-hosting-agent/05-strands-langgraph-with-bedrock-model/.bedrock_agentcore.yaml\n",
      "INFO:bedrock_agentcore_starter_toolkit.notebook.runtime.bedrock_agentcore:Bedrock AgentCore configured: /home/ubuntu/projects/aws-ai-ml-workshop-kr/genai/aws-gen-ai-kr/13_agentcore/tutorials/01-AgentCore-runtime/01-hosting-agent/05-strands-langgraph-with-bedrock-model/.bedrock_agentcore.yaml\n"
     ]
    },
    {
     "data": {
      "text/plain": [
       "ConfigureResult(config_path=PosixPath('/home/ubuntu/projects/aws-ai-ml-workshop-kr/genai/aws-gen-ai-kr/13_agentcore/tutorials/01-AgentCore-runtime/01-hosting-agent/05-strands-langgraph-with-bedrock-model/.bedrock_agentcore.yaml'), dockerfile_path=PosixPath('/home/ubuntu/projects/aws-ai-ml-workshop-kr/genai/aws-gen-ai-kr/13_agentcore/tutorials/01-AgentCore-runtime/01-hosting-agent/05-strands-langgraph-with-bedrock-model/Dockerfile'), dockerignore_path=PosixPath('/home/ubuntu/projects/aws-ai-ml-workshop-kr/genai/aws-gen-ai-kr/13_agentcore/tutorials/01-AgentCore-runtime/01-hosting-agent/05-strands-langgraph-with-bedrock-model/.dockerignore'), runtime='Docker', region='us-west-2', account_id='615299776985', execution_role='arn:aws:iam::615299776985:role/agentcore-strands_langgraph_agentcore-role', ecr_repository=None, auto_create_ecr=True)"
      ]
     },
     "execution_count": 12,
     "metadata": {},
     "output_type": "execute_result"
    }
   ],
   "source": [
    "from bedrock_agentcore_starter_toolkit import Runtime\n",
    "from boto3.session import Session\n",
    "boto_session = Session()\n",
    "region = boto_session.region_name\n",
    "region\n",
    "\n",
    "agentcore_runtime = Runtime()\n",
    "\n",
    "response = agentcore_runtime.configure(\n",
    "    agent_name=agent_name,\n",
    "    entrypoint=\"strands_langgraph_bedrock.py\",\n",
    "    execution_role=agentcore_iam_role['Role']['Arn'],\n",
    "    auto_create_ecr=True,\n",
    "    requirements_file=\"requirements.txt\",\n",
    "    region=region\n",
    ")\n",
    "response"
   ]
  },
  {
   "cell_type": "markdown",
   "id": "9e1b84cc-798e-472c-ac0b-2c315f4b704d",
   "metadata": {},
   "source": [
    "### Launching agent to AgentCore Runtime\n",
    "\n",
    "Now that we've got a docker file, let's launch the agent to the AgentCore Runtime. This will create the Amazon ECR repository and the AgentCore Runtime\n",
    "\n",
    "<div style=\"text-align:left\">\n",
    "    <img src=\"images/launch.png\" width=\"75%\"/>\n",
    "</div>"
   ]
  },
  {
   "cell_type": "code",
   "execution_count": 13,
   "id": "17a32ab8-7701-4900-8055-e24364bdf35c",
   "metadata": {},
   "outputs": [
    {
     "name": "stderr",
     "output_type": "stream",
     "text": [
      "Launching Bedrock AgentCore agent 'strands_langgraph_agentcore' to cloud\n",
      "INFO:bedrock_agentcore_starter_toolkit.operations.runtime.launch:Launching Bedrock AgentCore agent 'strands_langgraph_agentcore' to cloud\n"
     ]
    },
    {
     "name": "stderr",
     "output_type": "stream",
     "text": [
      "Build: Successfully built 0d4c1235539b\n",
      "INFO:bedrock_agentcore_starter_toolkit.utils.runtime.container:Build: Successfully built 0d4c1235539b\n",
      "Build: Successfully tagged bedrock_agentcore-strands_langgraph_agentcore:latest\n",
      "INFO:bedrock_agentcore_starter_toolkit.utils.runtime.container:Build: Successfully tagged bedrock_agentcore-strands_langgraph_agentcore:latest\n",
      "Docker image built: bedrock_agentcore-strands_langgraph_agentcore:latest\n",
      "INFO:bedrock_agentcore_starter_toolkit.operations.runtime.launch:Docker image built: bedrock_agentcore-strands_langgraph_agentcore:latest\n",
      "Using execution role from config: arn:aws:iam::615299776985:role/agentcore-strands_langgraph_agentcore-role\n",
      "INFO:bedrock_agentcore_starter_toolkit.operations.runtime.launch:Using execution role from config: arn:aws:iam::615299776985:role/agentcore-strands_langgraph_agentcore-role\n",
      "✅ Execution role validation passed: arn:aws:iam::615299776985:role/agentcore-strands_langgraph_agentcore-role\n",
      "INFO:bedrock_agentcore_starter_toolkit.operations.runtime.launch:✅ Execution role validation passed: arn:aws:iam::615299776985:role/agentcore-strands_langgraph_agentcore-role\n",
      "Uploading to ECR...\n",
      "INFO:bedrock_agentcore_starter_toolkit.operations.runtime.launch:Uploading to ECR...\n",
      "Getting or creating ECR repository for agent: strands_langgraph_agentcore\n",
      "INFO:bedrock_agentcore_starter_toolkit.operations.runtime.launch:Getting or creating ECR repository for agent: strands_langgraph_agentcore\n",
      "✅ ECR repository available: 615299776985.dkr.ecr.us-west-2.amazonaws.com/bedrock-agentcore-strands_langgraph_agentcore\n",
      "INFO:bedrock_agentcore_starter_toolkit.operations.runtime.launch:✅ ECR repository available: 615299776985.dkr.ecr.us-west-2.amazonaws.com/bedrock-agentcore-strands_langgraph_agentcore\n",
      "Authenticating with registry...\n",
      "INFO:bedrock_agentcore_starter_toolkit.utils.runtime.container:Authenticating with registry...\n"
     ]
    },
    {
     "name": "stdout",
     "output_type": "stream",
     "text": [
      "✅ Reusing existing ECR repository: 615299776985.dkr.ecr.us-west-2.amazonaws.com/bedrock-agentcore-strands_langgraph_agentcore\n"
     ]
    },
    {
     "name": "stderr",
     "output_type": "stream",
     "text": [
      "Registry authentication successful\n",
      "INFO:bedrock_agentcore_starter_toolkit.utils.runtime.container:Registry authentication successful\n",
      "Tagging image: bedrock_agentcore-strands_langgraph_agentcore:latest -> 615299776985.dkr.ecr.us-west-2.amazonaws.com/bedrock-agentcore-strands_langgraph_agentcore:latest\n",
      "INFO:bedrock_agentcore_starter_toolkit.utils.runtime.container:Tagging image: bedrock_agentcore-strands_langgraph_agentcore:latest -> 615299776985.dkr.ecr.us-west-2.amazonaws.com/bedrock-agentcore-strands_langgraph_agentcore:latest\n",
      "Pushing image to registry...\n",
      "INFO:bedrock_agentcore_starter_toolkit.utils.runtime.container:Pushing image to registry...\n"
     ]
    },
    {
     "name": "stdout",
     "output_type": "stream",
     "text": [
      "The push refers to repository [615299776985.dkr.ecr.us-west-2.amazonaws.com/bedrock-agentcore-strands_langgraph_agentcore]\n",
      "89db9549416c: Preparing\n",
      "8069433ef2a8: Preparing\n",
      "630c4be75fed: Preparing\n",
      "5a2b9050aa4c: Preparing\n",
      "6ed6547a37cd: Preparing\n",
      "2e763e579d90: Preparing\n",
      "05ed7b2bcaa5: Preparing\n",
      "d74514903961: Preparing\n",
      "e26286284f6e: Preparing\n",
      "dd97e58b4e81: Preparing\n",
      "d74514903961: Waiting\n",
      "dd97e58b4e81: Waiting\n",
      "2e763e579d90: Waiting\n",
      "05ed7b2bcaa5: Waiting\n",
      "e26286284f6e: Waiting\n",
      "630c4be75fed: Layer already exists\n",
      "8069433ef2a8: Layer already exists\n",
      "6ed6547a37cd: Layer already exists\n",
      "5a2b9050aa4c: Layer already exists\n",
      "2e763e579d90: Layer already exists\n",
      "05ed7b2bcaa5: Layer already exists\n",
      "d74514903961: Layer already exists\n",
      "e26286284f6e: Layer already exists\n",
      "dd97e58b4e81: Layer already exists\n",
      "89db9549416c: Pushed\n"
     ]
    },
    {
     "name": "stderr",
     "output_type": "stream",
     "text": [
      "Image pushed successfully\n",
      "INFO:bedrock_agentcore_starter_toolkit.utils.runtime.container:Image pushed successfully\n",
      "Image uploaded to ECR: 615299776985.dkr.ecr.us-west-2.amazonaws.com/bedrock-agentcore-strands_langgraph_agentcore\n",
      "INFO:bedrock_agentcore_starter_toolkit.operations.runtime.launch:Image uploaded to ECR: 615299776985.dkr.ecr.us-west-2.amazonaws.com/bedrock-agentcore-strands_langgraph_agentcore\n",
      "Deploying to Bedrock AgentCore...\n",
      "INFO:bedrock_agentcore_starter_toolkit.operations.runtime.launch:Deploying to Bedrock AgentCore...\n"
     ]
    },
    {
     "name": "stdout",
     "output_type": "stream",
     "text": [
      "latest: digest: sha256:790c42f2a080a7cf54049cdfc027799d8121fa3205bf53e6ace200afddbcdad3 size: 2415\n"
     ]
    },
    {
     "name": "stderr",
     "output_type": "stream",
     "text": [
      "✅ Agent created/updated: arn:aws:bedrock-agentcore:us-west-2:615299776985:runtime/strands_langgraph_agentcore-pJpRgs2mGU\n",
      "INFO:bedrock_agentcore_starter_toolkit.operations.runtime.launch:✅ Agent created/updated: arn:aws:bedrock-agentcore:us-west-2:615299776985:runtime/strands_langgraph_agentcore-pJpRgs2mGU\n",
      "Polling for endpoint to be ready...\n",
      "INFO:bedrock_agentcore_starter_toolkit.operations.runtime.launch:Polling for endpoint to be ready...\n",
      "Agent endpoint: arn:aws:bedrock-agentcore:us-west-2:615299776985:runtime/strands_langgraph_agentcore-pJpRgs2mGU/runtime-endpoint/DEFAULT\n",
      "INFO:bedrock_agentcore_starter_toolkit.operations.runtime.launch:Agent endpoint: arn:aws:bedrock-agentcore:us-west-2:615299776985:runtime/strands_langgraph_agentcore-pJpRgs2mGU/runtime-endpoint/DEFAULT\n",
      "Deployed to cloud: arn:aws:bedrock-agentcore:us-west-2:615299776985:runtime/strands_langgraph_agentcore-pJpRgs2mGU\n",
      "INFO:bedrock_agentcore_starter_toolkit.notebook.runtime.bedrock_agentcore:Deployed to cloud: arn:aws:bedrock-agentcore:us-west-2:615299776985:runtime/strands_langgraph_agentcore-pJpRgs2mGU\n",
      "🔍 Agent logs available at:\n",
      "INFO:bedrock_agentcore_starter_toolkit.notebook.runtime.bedrock_agentcore:🔍 Agent logs available at:\n",
      "   /aws/bedrock-agentcore/runtimes/strands_langgraph_agentcore-pJpRgs2mGU-DEFAULT\n",
      "INFO:bedrock_agentcore_starter_toolkit.notebook.runtime.bedrock_agentcore:   /aws/bedrock-agentcore/runtimes/strands_langgraph_agentcore-pJpRgs2mGU-DEFAULT\n",
      "   /aws/bedrock-agentcore/runtimes/strands_langgraph_agentcore-pJpRgs2mGU-DEFAULT/runtime-logs\n",
      "INFO:bedrock_agentcore_starter_toolkit.notebook.runtime.bedrock_agentcore:   /aws/bedrock-agentcore/runtimes/strands_langgraph_agentcore-pJpRgs2mGU-DEFAULT/runtime-logs\n",
      "💡 Tail logs with: aws logs tail /aws/bedrock-agentcore/runtimes/strands_langgraph_agentcore-pJpRgs2mGU-DEFAULT --follow\n",
      "INFO:bedrock_agentcore_starter_toolkit.notebook.runtime.bedrock_agentcore:💡 Tail logs with: aws logs tail /aws/bedrock-agentcore/runtimes/strands_langgraph_agentcore-pJpRgs2mGU-DEFAULT --follow\n",
      "💡 Or view recent logs: aws logs tail /aws/bedrock-agentcore/runtimes/strands_langgraph_agentcore-pJpRgs2mGU-DEFAULT --since 1h\n",
      "INFO:bedrock_agentcore_starter_toolkit.notebook.runtime.bedrock_agentcore:💡 Or view recent logs: aws logs tail /aws/bedrock-agentcore/runtimes/strands_langgraph_agentcore-pJpRgs2mGU-DEFAULT --since 1h\n"
     ]
    }
   ],
   "source": [
    "launch_result = agentcore_runtime.launch()"
   ]
  },
  {
   "cell_type": "code",
   "execution_count": 14,
   "id": "4491351a",
   "metadata": {},
   "outputs": [
    {
     "name": "stdout",
     "output_type": "stream",
     "text": [
      "Machine: aarch64\n",
      "Processor: aarch64\n",
      "Architecture: ('64bit', 'ELF')\n",
      "Platform: Linux-6.8.0-1033-aws-aarch64-with-glibc2.35\n"
     ]
    }
   ],
   "source": [
    "import platform\n",
    "print(f\"Machine: {platform.machine()}\")\n",
    "print(f\"Processor: {platform.processor()}\")\n",
    "print(f\"Architecture: {platform.architecture()}\")\n",
    "print(f\"Platform: {platform.platform()}\")"
   ]
  },
  {
   "cell_type": "markdown",
   "id": "a0ae9c09-09db-4a76-871a-92eacd96b9c3",
   "metadata": {},
   "source": [
    "### Checking for the AgentCore Runtime Status\n",
    "Now that we've deployed the AgentCore Runtime, let's check for it's deployment status"
   ]
  },
  {
   "cell_type": "code",
   "execution_count": 15,
   "id": "afa6ac09-9adb-4846-9fc1-4d12aeb74853",
   "metadata": {},
   "outputs": [
    {
     "name": "stderr",
     "output_type": "stream",
     "text": [
      "Retrieved Bedrock AgentCore status for: strands_langgraph_agentcore\n",
      "INFO:bedrock_agentcore_starter_toolkit.notebook.runtime.bedrock_agentcore:Retrieved Bedrock AgentCore status for: strands_langgraph_agentcore\n"
     ]
    },
    {
     "data": {
      "text/plain": [
       "'READY'"
      ]
     },
     "execution_count": 15,
     "metadata": {},
     "output_type": "execute_result"
    }
   ],
   "source": [
    "status_response = agentcore_runtime.status()\n",
    "status = status_response.endpoint['status']\n",
    "end_status = ['READY', 'CREATE_FAILED', 'DELETE_FAILED', 'UPDATE_FAILED']\n",
    "while status not in end_status:\n",
    "    time.sleep(10)\n",
    "    status_response = agentcore_runtime.status()\n",
    "    status = status_response.endpoint['status']\n",
    "    print(status)\n",
    "status"
   ]
  },
  {
   "cell_type": "markdown",
   "id": "b7f89c56-918a-4cab-beaa-c7ac43a2ba29",
   "metadata": {},
   "source": [
    "### Invoking AgentCore Runtime\n",
    "\n",
    "Finally, we can invoke our AgentCore Runtime with a payload\n",
    "\n",
    "<div style=\"text-align:left\">\n",
    "    <img src=\"images/invoke.png\" width=75%\"/>\n",
    "</div>"
   ]
  },
  {
   "cell_type": "code",
   "execution_count": 17,
   "id": "3d909e42-e1a0-407f-84c2-3d16cc889cd3",
   "metadata": {},
   "outputs": [
    {
     "name": "stderr",
     "output_type": "stream",
     "text": [
      "Invoking BedrockAgentCore agent 'strands_langgraph_agentcore' via cloud endpoint\n",
      "INFO:bedrock_agentcore_starter_toolkit.operations.runtime.invoke:Invoking BedrockAgentCore agent 'strands_langgraph_agentcore' via cloud endpoint\n"
     ]
    },
    {
     "data": {
      "text/plain": [
       "{'ResponseMetadata': {'RequestId': 'b6108f92-5531-4b47-b2c9-edd11c6f8c82',\n",
       "  'HTTPStatusCode': 200,\n",
       "  'HTTPHeaders': {'date': 'Wed, 06 Aug 2025 04:39:33 GMT',\n",
       "   'content-type': 'application/json',\n",
       "   'transfer-encoding': 'chunked',\n",
       "   'connection': 'keep-alive',\n",
       "   'x-amzn-requestid': 'b6108f92-5531-4b47-b2c9-edd11c6f8c82',\n",
       "   'baggage': 'Self=1-6892dc78-312f890338240029679415a8,session.id=61f23594-847e-4a61-9be1-c4f6304ff621',\n",
       "   'x-amzn-bedrock-agentcore-runtime-session-id': '61f23594-847e-4a61-9be1-c4f6304ff621',\n",
       "   'x-amzn-trace-id': 'Root=1-6892dc78-246efc495ca5430d60cbc521;Self=1-6892dc78-312f890338240029679415a8'},\n",
       "  'RetryAttempts': 0},\n",
       " 'runtimeSessionId': '61f23594-847e-4a61-9be1-c4f6304ff621',\n",
       " 'traceId': 'Root=1-6892dc78-246efc495ca5430d60cbc521;Self=1-6892dc78-312f890338240029679415a8',\n",
       " 'baggage': 'Self=1-6892dc78-312f890338240029679415a8,session.id=61f23594-847e-4a61-9be1-c4f6304ff621',\n",
       " 'contentType': 'application/json',\n",
       " 'statusCode': 200,\n",
       " 'response': [b'{\"full_plan\": \"# Plan\\\\n\\\\n## thought\\\\n- \\xec\\x82\\xac\\xec\\x9a\\xa9\\xec\\x9e\\x90\\xea\\xb0\\x80 \\xec\\x9e\\x90\\xec\\x8b\\xa0\\xec\\x9d\\x84 \\xec\\x86\\x8c\\xea\\xb0\\x9c\\xed\\x95\\x98\\xea\\xb3\\xa0 \\xeb\\x8d\\xb0\\xec\\x9d\\xb4\\xed\\x84\\xb0 \\xeb\\xb6\\x84\\xec\\x84\\x9d\\xec\\x97\\x90 \\xeb\\x8c\\x80\\xed\\x95\\x9c \\xec\\x9d\\xbc\\xeb\\xb0\\x98\\xec\\xa0\\x81\\xec\\x9d\\xb8 \\xea\\xb4\\x80\\xec\\x8b\\xac\\xec\\x9d\\x84 \\xed\\x91\\x9c\\xed\\x98\\x84\\xed\\x96\\x88\\xec\\x8a\\xb5\\xeb\\x8b\\x88\\xeb\\x8b\\xa4.\\\\n- \\xea\\xb5\\xac\\xec\\xb2\\xb4\\xec\\xa0\\x81\\xec\\x9d\\xb8 \\xeb\\x8d\\xb0\\xec\\x9d\\xb4\\xed\\x84\\xb0\\xeb\\x82\\x98 \\xeb\\xb6\\x84\\xec\\x84\\x9d \\xec\\x9a\\x94\\xea\\xb5\\xac\\xec\\x82\\xac\\xed\\x95\\xad\\xec\\x9d\\xb4 \\xec\\xa0\\x9c\\xec\\x8b\\x9c\\xeb\\x90\\x98\\xec\\xa7\\x80 \\xec\\x95\\x8a\\xec\\x95\\x98\\xec\\x9c\\xbc\\xeb\\xaf\\x80\\xeb\\xa1\\x9c, \\xeb\\xa8\\xbc\\xec\\xa0\\x80 \\xea\\xb8\\xb0\\xeb\\xb3\\xb8\\xec\\xa0\\x81\\xec\\x9d\\xb8 \\xec\\x86\\x8c\\xea\\xb0\\x9c\\xec\\x99\\x80 \\xea\\xb0\\x80\\xeb\\x8a\\xa5\\xed\\x95\\x9c \\xeb\\xb6\\x84\\xec\\x84\\x9d \\xeb\\xb0\\xa9\\xed\\x96\\xa5\\xec\\x9d\\x84 \\xec\\xa0\\x9c\\xec\\x8b\\x9c\\xed\\x95\\x98\\xeb\\x8a\\x94 \\xea\\xb2\\x83\\xec\\x9d\\xb4 \\xec\\xa2\\x8b\\xea\\xb2\\xa0\\xec\\x8a\\xb5\\xeb\\x8b\\x88\\xeb\\x8b\\xa4.\\\\n- \\xeb\\x8d\\xb0\\xec\\x9d\\xb4\\xed\\x84\\xb0 \\xeb\\xb6\\x84\\xec\\x84\\x9d \\xed\\x94\\x84\\xeb\\xa1\\x9c\\xec\\x84\\xb8\\xec\\x8a\\xa4\\xec\\x99\\x80 \\xea\\xb0\\x80\\xeb\\x8a\\xa5\\xed\\x95\\x9c \\xec\\x9d\\xb8\\xec\\x82\\xac\\xec\\x9d\\xb4\\xed\\x8a\\xb8 \\xeb\\x8f\\x84\\xec\\xb6\\x9c \\xeb\\xb0\\xa9\\xeb\\xb2\\x95\\xec\\x97\\x90 \\xeb\\x8c\\x80\\xed\\x95\\xb4 \\xec\\x95\\x88\\xeb\\x82\\xb4\\xea\\xb0\\x80 \\xed\\x95\\x84\\xec\\x9a\\x94\\xed\\x95\\xa9\\xeb\\x8b\\x88\\xeb\\x8b\\xa4.\\\\n\\\\n## title\\\\n\\xeb\\x8d\\xb0\\xec\\x9d\\xb4\\xed\\x84\\xb0 \\xeb\\xb6\\x84\\xec\\x84\\x9d \\xeb\\xb0\\x8f \\xec\\x9d\\xb8\\xec\\x82\\xac\\xec\\x9d\\xb4\\xed\\x8a\\xb8 \\xeb\\x8f\\x84\\xec\\xb6\\x9c \\xed\\x94\\x84\\xeb\\xa1\\x9c\\xec\\x84\\xb8\\xec\\x8a\\xa4 \\xec\\x95\\x88\\xeb\\x82\\xb4\\\\n\\\\n## steps\\\\n### 1. Reporter: \\xec\\xb4\\x88\\xea\\xb8\\xb0 \\xec\\x9d\\x91\\xeb\\x8b\\xb5 \\xeb\\xb0\\x8f \\xed\\x94\\x84\\xeb\\xa1\\x9c\\xec\\x84\\xb8\\xec\\x8a\\xa4 \\xec\\x95\\x88\\xeb\\x82\\xb4\\\\n- [ ] \\xec\\x82\\xac\\xec\\x9a\\xa9\\xec\\x9e\\x90\\xec\\x97\\x90\\xea\\xb2\\x8c \\xec\\x9d\\xb8\\xec\\x82\\xac \\xeb\\xb0\\x8f \\xed\\x99\\x98\\xec\\x98\\x81 \\xeb\\xa9\\x94\\xec\\x8b\\x9c\\xec\\xa7\\x80 \\xec\\x9e\\x91\\xec\\x84\\xb1\\\\n- [ ] \\xeb\\x8d\\xb0\\xec\\x9d\\xb4\\xed\\x84\\xb0 \\xeb\\xb6\\x84\\xec\\x84\\x9d \\xed\\x94\\x84\\xeb\\xa1\\x9c\\xec\\x84\\xb8\\xec\\x8a\\xa4 \\xea\\xb0\\x9c\\xec\\x9a\\x94 \\xec\\x84\\xa4\\xeb\\xaa\\x85\\\\n- [ ] \\xed\\x95\\x84\\xec\\x9a\\x94\\xed\\x95\\x9c \\xec\\xa0\\x95\\xeb\\xb3\\xb4 \\xec\\x9a\\x94\\xec\\xb2\\xad\\xec\\x82\\xac\\xed\\x95\\xad \\xec\\xa0\\x95\\xeb\\xa6\\xac\\\\n  - \\xeb\\xb6\\x84\\xec\\x84\\x9d\\xed\\x95\\x98\\xea\\xb3\\xa0\\xec\\x9e\\x90 \\xed\\x95\\x98\\xeb\\x8a\\x94 \\xeb\\x8d\\xb0\\xec\\x9d\\xb4\\xed\\x84\\xb0\\xec\\x9d\\x98 \\xec\\xa2\\x85\\xeb\\xa5\\x98\\\\n  - \\xeb\\x8d\\xb0\\xec\\x9d\\xb4\\xed\\x84\\xb0\\xec\\x9d\\x98 \\xed\\x98\\x95\\xec\\x8b\\x9d (CSV, Excel \\xeb\\x93\\xb1)\\\\n  - \\xec\\x9b\\x90\\xed\\x95\\x98\\xeb\\x8a\\x94 \\xeb\\xb6\\x84\\xec\\x84\\x9d\\xec\\x9d\\x98 \\xea\\xb9\\x8a\\xec\\x9d\\xb4\\xec\\x99\\x80 \\xeb\\xb0\\xa9\\xed\\x96\\xa5\\\\n  - \\xed\\x8a\\xb9\\xec\\xa0\\x95 \\xea\\xb4\\x80\\xec\\x8b\\xac \\xeb\\xb6\\x84\\xec\\x95\\xbc\\xeb\\x82\\x98 \\xeb\\xaa\\xa9\\xed\\x91\\x9c\\\\n- [ ] \\xeb\\x8b\\xa4\\xec\\x9d\\x8c \\xeb\\x8b\\xa8\\xea\\xb3\\x84\\xeb\\xa5\\xbc \\xec\\x9c\\x84\\xed\\x95\\x9c \\xea\\xb0\\x80\\xec\\x9d\\xb4\\xeb\\x93\\x9c\\xeb\\x9d\\xbc\\xec\\x9d\\xb8 \\xec\\xa0\\x9c\\xec\\x8b\\x9c\", \"messages\": [{\"role\": \"user\", \"content\": [{\"text\": \"# Plan\\\\n\\\\n## thought\\\\n',\n",
       "  b'- \\xec\\x82\\xac\\xec\\x9a\\xa9\\xec\\x9e\\x90\\xea\\xb0\\x80 \\xec\\x9e\\x90\\xec\\x8b\\xa0\\xec\\x9d\\x84 \\xec\\x86\\x8c\\xea\\xb0\\x9c\\xed\\x95\\x98\\xea\\xb3\\xa0 \\xeb\\x8d\\xb0\\xec\\x9d\\xb4\\xed\\x84\\xb0 \\xeb\\xb6\\x84\\xec\\x84\\x9d\\xec\\x97\\x90 \\xeb\\x8c\\x80\\xed\\x95\\x9c \\xec\\x9d\\xbc\\xeb\\xb0\\x98\\xec\\xa0\\x81\\xec\\x9d\\xb8 \\xea\\xb4\\x80\\xec\\x8b\\xac\\xec\\x9d\\x84 \\xed\\x91\\x9c\\xed\\x98\\x84\\xed\\x96\\x88\\xec\\x8a\\xb5\\xeb\\x8b\\x88\\xeb\\x8b\\xa4.\\\\n- \\xea\\xb5\\xac\\xec\\xb2\\xb4\\xec\\xa0\\x81\\xec\\x9d\\xb8 \\xeb\\x8d\\xb0\\xec\\x9d\\xb4\\xed\\x84\\xb0\\xeb\\x82\\x98 \\xeb\\xb6\\x84\\xec\\x84\\x9d \\xec\\x9a\\x94\\xea\\xb5\\xac\\xec\\x82\\xac\\xed\\x95\\xad\\xec\\x9d\\xb4 \\xec\\xa0\\x9c\\xec\\x8b\\x9c\\xeb\\x90\\x98\\xec\\xa7\\x80 \\xec\\x95\\x8a\\xec\\x95\\x98\\xec\\x9c\\xbc\\xeb\\xaf\\x80\\xeb\\xa1\\x9c, \\xeb\\xa8\\xbc\\xec\\xa0\\x80 \\xea\\xb8\\xb0\\xeb\\xb3\\xb8\\xec\\xa0\\x81\\xec\\x9d\\xb8 \\xec\\x86\\x8c\\xea\\xb0\\x9c\\xec\\x99\\x80 \\xea\\xb0\\x80\\xeb\\x8a\\xa5\\xed\\x95\\x9c \\xeb\\xb6\\x84\\xec\\x84\\x9d \\xeb\\xb0\\xa9\\xed\\x96\\xa5\\xec\\x9d\\x84 \\xec\\xa0\\x9c\\xec\\x8b\\x9c\\xed\\x95\\x98\\xeb\\x8a\\x94 \\xea\\xb2\\x83\\xec\\x9d\\xb4 \\xec\\xa2\\x8b\\xea\\xb2\\xa0\\xec\\x8a\\xb5\\xeb\\x8b\\x88\\xeb\\x8b\\xa4.\\\\n- \\xeb\\x8d\\xb0\\xec\\x9d\\xb4\\xed\\x84\\xb0 \\xeb\\xb6\\x84\\xec\\x84\\x9d \\xed\\x94\\x84\\xeb\\xa1\\x9c\\xec\\x84\\xb8\\xec\\x8a\\xa4\\xec\\x99\\x80 \\xea\\xb0\\x80\\xeb\\x8a\\xa5\\xed\\x95\\x9c \\xec\\x9d\\xb8\\xec\\x82\\xac\\xec\\x9d\\xb4\\xed\\x8a\\xb8 \\xeb\\x8f\\x84\\xec\\xb6\\x9c \\xeb\\xb0\\xa9\\xeb\\xb2\\x95\\xec\\x97\\x90 \\xeb\\x8c\\x80\\xed\\x95\\xb4 \\xec\\x95\\x88\\xeb\\x82\\xb4\\xea\\xb0\\x80 \\xed\\x95\\x84\\xec\\x9a\\x94\\xed\\x95\\xa9\\xeb\\x8b\\x88\\xeb\\x8b\\xa4.\\\\n\\\\n## title\\\\n\\xeb\\x8d\\xb0\\xec\\x9d\\xb4\\xed\\x84\\xb0 \\xeb\\xb6\\x84\\xec\\x84\\x9d \\xeb\\xb0\\x8f \\xec\\x9d\\xb8\\xec\\x82\\xac\\xec\\x9d\\xb4\\xed\\x8a\\xb8 \\xeb\\x8f\\x84\\xec\\xb6\\x9c \\xed\\x94\\x84\\xeb\\xa1\\x9c\\xec\\x84\\xb8\\xec\\x8a\\xa4 \\xec\\x95\\x88\\xeb\\x82\\xb4\\\\n\\\\n## steps\\\\n### 1. Reporter: \\xec\\xb4\\x88\\xea\\xb8\\xb0 \\xec\\x9d\\x91\\xeb\\x8b\\xb5 \\xeb\\xb0\\x8f \\xed\\x94\\x84\\xeb\\xa1\\x9c\\xec\\x84\\xb8\\xec\\x8a\\xa4 \\xec\\x95\\x88\\xeb\\x82\\xb4\\\\n- [ ] \\xec\\x82\\xac\\xec\\x9a\\xa9\\xec\\x9e\\x90\\xec\\x97\\x90\\xea\\xb2\\x8c \\xec\\x9d\\xb8\\xec\\x82\\xac \\xeb\\xb0\\x8f \\xed\\x99\\x98\\xec\\x98\\x81 \\xeb\\xa9\\x94\\xec\\x8b\\x9c\\xec\\xa7\\x80 \\xec\\x9e\\x91\\xec\\x84\\xb1\\\\n- [ ] \\xeb\\x8d\\xb0\\xec\\x9d\\xb4\\xed\\x84\\xb0 \\xeb\\xb6\\x84\\xec\\x84\\x9d \\xed\\x94\\x84\\xeb\\xa1\\x9c\\xec\\x84\\xb8\\xec\\x8a\\xa4 \\xea\\xb0\\x9c\\xec\\x9a\\x94 \\xec\\x84\\xa4\\xeb\\xaa\\x85\\\\n- [ ] \\xed\\x95\\x84\\xec\\x9a\\x94\\xed\\x95\\x9c \\xec\\xa0\\x95\\xeb\\xb3\\xb4 \\xec\\x9a\\x94\\xec\\xb2\\xad\\xec\\x82\\xac\\xed\\x95\\xad \\xec\\xa0\\x95\\xeb\\xa6\\xac\\\\n  - \\xeb\\xb6\\x84\\xec\\x84\\x9d\\xed\\x95\\x98\\xea\\xb3\\xa0\\xec\\x9e\\x90 \\xed\\x95\\x98\\xeb\\x8a\\x94 \\xeb\\x8d\\xb0\\xec\\x9d\\xb4\\xed\\x84\\xb0\\xec\\x9d\\x98 \\xec\\xa2\\x85\\xeb\\xa5\\x98\\\\n  - \\xeb\\x8d\\xb0\\xec\\x9d\\xb4\\xed\\x84\\xb0\\xec\\x9d\\x98 \\xed\\x98\\x95\\xec\\x8b\\x9d (CSV, Excel \\xeb\\x93\\xb1)\\\\n  - \\xec\\x9b\\x90\\xed\\x95\\x98\\xeb\\x8a\\x94 \\xeb\\xb6\\x84\\xec\\x84\\x9d\\xec\\x9d\\x98 \\xea\\xb9\\x8a\\xec\\x9d\\xb4\\xec\\x99\\x80 \\xeb\\xb0\\xa9\\xed\\x96\\xa5\\\\n  - \\xed\\x8a\\xb9\\xec\\xa0\\x95 \\xea\\xb4\\x80\\xec\\x8b\\xac \\xeb\\xb6\\x84\\xec\\x95\\xbc\\xeb\\x82\\x98 \\xeb\\xaa\\xa9\\xed\\x91\\x9c\\\\n- [ ] \\xeb\\x8b\\xa4\\xec\\x9d\\x8c \\xeb\\x8b\\xa8\\xea\\xb3\\x84\\xeb\\xa5\\xbc \\xec\\x9c\\x84\\xed\\x95\\x9c \\xea\\xb0\\x80\\xec\\x9d\\xb4\\xeb\\x93\\x9c\\xeb\\x9d\\xbc\\xec\\x9d\\xb8 \\xec\\xa0\\x9c\\xec\\x8b\\x9c\"}]}], \"messages_name\": \"planner\", \"history\": [{\"agent\": \"coordinator\", \"message\": \"\\xec\\x95\\x88\\xeb\\x85\\x95\\xed\\x95\\x98\\xec\\x84\\xb8\\xec\\x9a\\x94 \\xec\\x9e\\xa5\\xeb\\x8f\\x99\\xec\\xa7\\x84\\xeb\\x8b\\x98! ',\n",
       "  b'\\xec\\xa0\\x80\\xeb\\x8a\\x94 Bedrock-Manus\\xec\\x9e\\x85\\xeb\\x8b\\x88\\xeb\\x8b\\xa4. \\xeb\\xa7\\x8c\\xeb\\x82\\x98\\xec\\x84\\x9c \\xeb\\xb0\\x98\\xea\\xb0\\x91\\xec\\x8a\\xb5\\xeb\\x8b\\x88\\xeb\\x8b\\xa4!\\\\n\\\\n\\xeb\\x8d\\xb0\\xec\\x9d\\xb4\\xed\\x84\\xb0 \\xeb\\xb6\\x84\\xec\\x84\\x9d\\xea\\xb3\\xbc \\xec\\x9d\\xb8\\xec\\x82\\xac\\xec\\x9d\\xb4\\xed\\x8a\\xb8 \\xec\\xb6\\x94\\xec\\xb6\\x9c\\xec\\x97\\x90 \\xeb\\x8c\\x80\\xed\\x95\\x9c \\xec\\x9a\\x94\\xec\\xb2\\xad\\xec\\x9d\\x80 \\xec\\xa0\\x84\\xeb\\xac\\xb8 \\xed\\x94\\x8c\\xeb\\x9e\\x98\\xeb\\x84\\x88\\xec\\x9d\\x98 \\xeb\\x8f\\x84\\xec\\x9b\\x80\\xec\\x9d\\xb4 \\xed\\x95\\x84\\xec\\x9a\\x94\\xed\\x95\\xa0 \\xea\\xb2\\x83 \\xea\\xb0\\x99\\xec\\x8a\\xb5\\xeb\\x8b\\x88\\xeb\\x8b\\xa4.\\\\n\\\\nhandoff_to_planner: I\\'ll need to consult our planning system for this request.\"}, {\"agent\": \"planner\", \"message\": \"# Plan\\\\n\\\\n## thought\\\\n- \\xec\\x82\\xac\\xec\\x9a\\xa9\\xec\\x9e\\x90\\xea\\xb0\\x80 \\xec\\x9e\\x90\\xec\\x8b\\xa0\\xec\\x9d\\x84 \\xec\\x86\\x8c\\xea\\xb0\\x9c\\xed\\x95\\x98\\xea\\xb3\\xa0 \\xeb\\x8d\\xb0\\xec\\x9d\\xb4\\xed\\x84\\xb0 \\xeb\\xb6\\x84\\xec\\x84\\x9d\\xec\\x97\\x90 \\xeb\\x8c\\x80\\xed\\x95\\x9c \\xec\\x9d\\xbc\\xeb\\xb0\\x98\\xec\\xa0\\x81\\xec\\x9d\\xb8 \\xea\\xb4\\x80\\xec\\x8b\\xac\\xec\\x9d\\x84 \\xed\\x91\\x9c\\xed\\x98\\x84\\xed\\x96\\x88\\xec\\x8a\\xb5\\xeb\\x8b\\x88\\xeb\\x8b\\xa4.\\\\n- \\xea\\xb5\\xac\\xec\\xb2\\xb4\\xec\\xa0\\x81\\xec\\x9d\\xb8 \\xeb\\x8d\\xb0\\xec\\x9d\\xb4\\xed\\x84\\xb0\\xeb\\x82\\x98 \\xeb\\xb6\\x84\\xec\\x84\\x9d \\xec\\x9a\\x94\\xea\\xb5\\xac\\xec\\x82\\xac\\xed\\x95\\xad\\xec\\x9d\\xb4 \\xec\\xa0\\x9c\\xec\\x8b\\x9c\\xeb\\x90\\x98\\xec\\xa7\\x80 \\xec\\x95\\x8a\\xec\\x95\\x98\\xec\\x9c\\xbc\\xeb\\xaf\\x80\\xeb\\xa1\\x9c, \\xeb\\xa8\\xbc\\xec\\xa0\\x80 \\xea\\xb8\\xb0\\xeb\\xb3\\xb8\\xec\\xa0\\x81\\xec\\x9d\\xb8 \\xec\\x86\\x8c\\xea\\xb0\\x9c\\xec\\x99\\x80 \\xea\\xb0\\x80\\xeb\\x8a\\xa5\\xed\\x95\\x9c \\xeb\\xb6\\x84\\xec\\x84\\x9d \\xeb\\xb0\\xa9\\xed\\x96\\xa5\\xec\\x9d\\x84 \\xec\\xa0\\x9c\\xec\\x8b\\x9c\\xed\\x95\\x98\\xeb\\x8a\\x94 \\xea\\xb2\\x83\\xec\\x9d\\xb4 \\xec\\xa2\\x8b\\xea\\xb2\\xa0\\xec\\x8a\\xb5\\xeb\\x8b\\x88\\xeb\\x8b\\xa4.\\\\n- \\xeb\\x8d\\xb0\\xec\\x9d\\xb4\\xed\\x84\\xb0 \\xeb\\xb6\\x84\\xec\\x84\\x9d \\xed\\x94\\x84\\xeb\\xa1\\x9c\\xec\\x84\\xb8\\xec\\x8a\\xa4\\xec\\x99\\x80 \\xea\\xb0\\x80\\xeb\\x8a\\xa5\\xed\\x95\\x9c \\xec\\x9d\\xb8\\xec\\x82\\xac\\xec\\x9d\\xb4\\xed\\x8a\\xb8 \\xeb\\x8f\\x84\\xec\\xb6\\x9c \\xeb\\xb0\\xa9\\xeb\\xb2\\x95\\xec\\x97\\x90 \\xeb\\x8c\\x80\\xed\\x95\\xb4 \\xec\\x95\\x88\\xeb\\x82\\xb4\\xea\\xb0\\x80 \\xed\\x95\\x84\\xec\\x9a\\x94\\xed\\x95\\xa9\\xeb\\x8b\\x88\\xeb\\x8b\\xa4.\\\\n\\\\n## title\\\\n\\xeb\\x8d\\xb0\\xec\\x9d\\xb4\\xed\\x84\\xb0 \\xeb\\xb6\\x84\\xec\\x84\\x9d \\xeb\\xb0\\x8f \\xec\\x9d\\xb8\\xec\\x82\\xac\\xec\\x9d\\xb4\\xed\\x8a\\xb8 \\xeb\\x8f\\x84\\xec\\xb6\\x9c \\xed\\x94\\x84\\xeb\\xa1\\x9c\\xec\\x84\\xb8\\xec\\x8a\\xa4 \\xec\\x95\\x88\\xeb\\x82\\xb4\\\\n\\\\n## steps\\\\n### 1. Reporter: \\xec\\xb4\\x88\\xea\\xb8\\xb0 \\xec\\x9d\\x91\\xeb\\x8b\\xb5 \\xeb\\xb0\\x8f \\xed\\x94\\x84\\xeb\\xa1\\x9c\\xec\\x84\\xb8\\xec\\x8a\\xa4 \\xec\\x95\\x88\\xeb\\x82\\xb4\\\\n- [ ] \\xec\\x82\\xac\\xec\\x9a\\xa9\\xec\\x9e\\x90\\xec\\x97\\x90\\xea\\xb2\\x8c \\xec\\x9d\\xb8\\xec\\x82\\xac \\xeb\\xb0\\x8f \\xed\\x99\\x98\\xec\\x98\\x81 \\xeb\\xa9\\x94\\xec\\x8b\\x9c\\xec\\xa7\\x80 \\xec\\x9e\\x91\\xec\\x84\\xb1\\\\n- [ ] \\xeb\\x8d\\xb0\\xec\\x9d\\xb4\\xed\\x84\\xb0 \\xeb\\xb6\\x84\\xec\\x84\\x9d \\xed\\x94\\x84\\xeb\\xa1\\x9c\\xec\\x84\\xb8\\xec\\x8a\\xa4 \\xea\\xb0\\x9c\\xec\\x9a\\x94 \\xec\\x84\\xa4\\xeb\\xaa\\x85\\\\n- [ ] \\xed\\x95\\x84\\xec\\x9a\\x94\\xed\\x95\\x9c \\xec\\xa0\\x95\\xeb\\xb3\\xb4 \\xec\\x9a\\x94\\xec\\xb2\\xad\\xec\\x82\\xac\\xed\\x95\\xad \\xec\\xa0\\x95\\xeb\\xa6\\xac\\\\n  - \\xeb\\xb6\\x84\\xec\\x84\\x9d\\xed\\x95\\x98\\xea\\xb3',\n",
       "  b'\\xa0\\xec\\x9e\\x90 \\xed\\x95\\x98\\xeb\\x8a\\x94 \\xeb\\x8d\\xb0\\xec\\x9d\\xb4\\xed\\x84\\xb0\\xec\\x9d\\x98 \\xec\\xa2\\x85\\xeb\\xa5\\x98\\\\n  - \\xeb\\x8d\\xb0\\xec\\x9d\\xb4\\xed\\x84\\xb0\\xec\\x9d\\x98 \\xed\\x98\\x95\\xec\\x8b\\x9d (CSV, Excel \\xeb\\x93\\xb1)\\\\n  - \\xec\\x9b\\x90\\xed\\x95\\x98\\xeb\\x8a\\x94 \\xeb\\xb6\\x84\\xec\\x84\\x9d\\xec\\x9d\\x98 \\xea\\xb9\\x8a\\xec\\x9d\\xb4\\xec\\x99\\x80 \\xeb\\xb0\\xa9\\xed\\x96\\xa5\\\\n  - \\xed\\x8a\\xb9\\xec\\xa0\\x95 \\xea\\xb4\\x80\\xec\\x8b\\xac \\xeb\\xb6\\x84\\xec\\x95\\xbc\\xeb\\x82\\x98 \\xeb\\xaa\\xa9\\xed\\x91\\x9c\\\\n- [ ] \\xeb\\x8b\\xa4\\xec\\x9d\\x8c \\xeb\\x8b\\xa8\\xea\\xb3\\x84\\xeb\\xa5\\xbc \\xec\\x9c\\x84\\xed\\x95\\x9c \\xea\\xb0\\x80\\xec\\x9d\\xb4\\xeb\\x93\\x9c\\xeb\\x9d\\xbc\\xec\\x9d\\xb8 \\xec\\xa0\\x9c\\xec\\x8b\\x9c\"}], \"request\": \"\\xec\\x95\\x88\\xeb\\x85\\x95 \\xeb\\x82\\x98\\xeb\\x8a\\x94 \\xec\\x9e\\xa5\\xeb\\x8f\\x99\\xec\\xa7\\x84\\xec\\x9d\\xb4\\xeb\\x9d\\xbc\\xea\\xb3\\xa0 \\xed\\x95\\xb4. \\xeb\\xa7\\x8c\\xeb\\x82\\x98\\xec\\x84\\x9c \\xeb\\xb0\\x98\\xea\\xb0\\x80\\xec\\x9b\\x8c \\xeb\\x82\\x98\\xeb\\x8a\\x94 \\xeb\\x8d\\xb0\\xec\\x9d\\xb4\\xed\\x84\\xb0\\xeb\\xa5\\xbc \\xec\\xa0\\x9c\\xea\\xb3\\xb5\\xed\\x95\\x98\\xea\\xb3\\xa0 \\xea\\xb7\\xb8\\xea\\xb2\\x83\\xec\\x9c\\xbc\\xeb\\xa1\\x9c \\xeb\\xb6\\x80\\xed\\x84\\xb0 \\xec\\x9d\\xb8\\xec\\x82\\xac\\xec\\x9d\\xb4\\xed\\x8a\\xb8\\xeb\\xa5\\xbc \\xec\\xb6\\x94\\xec\\xb6\\x9c\\xed\\x95\\x98\\xea\\xb3\\xa0 \\xec\\x8b\\xb6\\xec\\x96\\xb4.\", \"request_prompt\": \"\\\\nHere is a user request: <user_request>\\xec\\x95\\x88\\xeb\\x85\\x95 \\xeb\\x82\\x98\\xeb\\x8a\\x94 \\xec\\x9e\\xa5\\xeb\\x8f\\x99\\xec\\xa7\\x84\\xec\\x9d\\xb4\\xeb\\x9d\\xbc\\xea\\xb3\\xa0 \\xed\\x95\\xb4. \\xeb\\xa7\\x8c\\xeb\\x82\\x98\\xec\\x84\\x9c \\xeb\\xb0\\x98\\xea\\xb0\\x80\\xec\\x9b\\x8c \\xeb\\x82\\x98\\xeb\\x8a\\x94 \\xeb\\x8d\\xb0\\xec\\x9d\\xb4\\xed\\x84\\xb0\\xeb\\xa5\\xbc \\xec\\xa0\\x9c\\xea\\xb3\\xb5\\xed\\x95\\x98\\xea\\xb3\\xa0 \\xea\\xb7\\xb8\\xea\\xb2\\x83\\xec\\x9c\\xbc\\xeb\\xa1\\x9c \\xeb\\xb6\\x80\\xed\\x84\\xb0 \\xec\\x9d\\xb8\\xec\\x82\\xac\\xec\\x9d\\xb4\\xed\\x8a\\xb8\\xeb\\xa5\\xbc \\xec\\xb6\\x94\\xec\\xb6\\x9c\\xed\\x95\\x98\\xea\\xb3\\xa0 \\xec\\x8b\\xb6\\xec\\x96\\xb4.</user_request>\\\\n\"}']}"
      ]
     },
     "execution_count": 17,
     "metadata": {},
     "output_type": "execute_result"
    }
   ],
   "source": [
    "#invoke_response = agentcore_runtime.invoke({\"prompt\": \"How much is 2+2?\"})\n",
    "invoke_response = agentcore_runtime.invoke({\"prompt\": \"안녕 나는 장동진이라고 해. 만나서 반가워 나는 데이터를 제공하고 그것으로 부터 인사이트를 추출하고 싶어.\"})\n",
    "invoke_response"
   ]
  },
  {
   "cell_type": "code",
   "execution_count": 31,
   "id": "97a351fe",
   "metadata": {},
   "outputs": [
    {
     "data": {
      "text/plain": [
       "'{\"full_plan\": \"# Plan\\\\n\\\\n## thought\\\\n- 사용자가 데이터 분석과 인사이트 도출을 원하지만, 구체적인 데이터나 분석 방향이 제시되지 않았습니다.\\\\n- 먼저 사용자의 구체적인 요구사항과 데이터를 파악하는 것이 필요합니다.\\\\n- 현재는 초기 단계이므로, 기본적인 분석 프레임워크를 제시하고 사용자와의 상호작용을 통해 구체화할 필요가 있습니다.\\\\n\\\\n## title\\\\n데이터 분석 및 인사이트 도출을 위한 기초 프레임워크 수립\\\\n\\\\n## steps\\\\n### 1. Reporter: 초기 요구사항 명확화 및 프레임워크 제안\\\\n- [ ] 사용자 소개에 대한 응답 및 환영 메시지 작성\\\\n- [ ] 데이터 분석을 위한 기본적인 정보 요청사항 정리\\\\n  - 분석하고자 하는 데이터의 종류\\\\n  - 데이터의 형식 (CSV, Excel, Database 등)\\\\n  - 분석의 목적과 기대하는 인사이트\\\\n  - 특별히 관심 있는 분야나 변수\\\\n- [ ] 데이터 분석 프로세스 개요 설명\\\\n- '"
      ]
     },
     "execution_count": 31,
     "metadata": {},
     "output_type": "execute_result"
    }
   ],
   "source": [
    "invoke_response['response'][0].decode(\"utf-8\")"
   ]
  },
  {
   "cell_type": "code",
   "execution_count": 48,
   "id": "b6e6dc27",
   "metadata": {},
   "outputs": [
    {
     "ename": "AttributeError",
     "evalue": "'list' object has no attribute 'decode'",
     "output_type": "error",
     "traceback": [
      "\u001b[31m---------------------------------------------------------------------------\u001b[39m",
      "\u001b[31mAttributeError\u001b[39m                            Traceback (most recent call last)",
      "\u001b[36mCell\u001b[39m\u001b[36m \u001b[39m\u001b[32mIn[48]\u001b[39m\u001b[32m, line 1\u001b[39m\n\u001b[32m----> \u001b[39m\u001b[32m1\u001b[39m aa = \u001b[33m'\u001b[39m\u001b[33m'\u001b[39m.join(\u001b[43minvoke_response\u001b[49m\u001b[43m[\u001b[49m\u001b[33;43m'\u001b[39;49m\u001b[33;43mresponse\u001b[39;49m\u001b[33;43m'\u001b[39;49m\u001b[43m]\u001b[49m\u001b[43m.\u001b[49m\u001b[43mdecode\u001b[49m(\u001b[33m\"\u001b[39m\u001b[33mutf-8\u001b[39m\u001b[33m\"\u001b[39m))\n",
      "\u001b[31mAttributeError\u001b[39m: 'list' object has no attribute 'decode'"
     ]
    }
   ],
   "source": [
    "aa = ''.join(invoke_response['response'].decode(\"utf-8\"))"
   ]
  },
  {
   "cell_type": "code",
   "execution_count": 41,
   "id": "98d94595",
   "metadata": {},
   "outputs": [
    {
     "data": {
      "text/plain": [
       "'{\"full_plan\": \"# Plan\\\\n## thought\\\\n사용자는 한국어로 소통하며, 데이터를 제공하고 그로부터 인사이트를 얻고 싶다고 했습니다. 하지만 아직 구체적인 데이터나 분석 요구사항이 제공되지 않았습니다. 따라서 먼저 사용자의 요구사항을 명확히 이해한 후, 데이터 분석 및 인사이트 도출을 위한 계획을 세워야 합니다.\\\\n## title:\\\\n데이터 기반 인사이트 도출 프로젝트\\\\n## steps:\\\\n### 1. Coder: 데이터 요청 및 초기 분석 준비\\\\n- [ ] 사용자에게 분석하고자 하는 데이터 유형과 형식 확인\\\\n- [ ] 데이터 수집 방법 제안 (파일 업로드, API 연결 등)\\\\n- [ ] 분석 목적과 원하는 인사이트 유형 파악\\\\n- [ ] 데이터 분석을 위한 초기 코드 프레임워크 준비\\\\n\\\\n### 2. Reporter: 최종 보고서 작성\\\\n- [ ] 수집된 데이터 요약 및 특성 설명\\\\n- [ ] 데이터 분석 결과 시각화\\\\n- [ ] 주요 인사이트 및 패턴 도출\\\\n- [ ] 결론 및'"
      ]
     },
     "execution_count": 41,
     "metadata": {},
     "output_type": "execute_result"
    }
   ],
   "source": [
    "invoke_response['response'][0].decode(\"utf-8\")"
   ]
  },
  {
   "cell_type": "code",
   "execution_count": 42,
   "id": "6e2a17c7",
   "metadata": {},
   "outputs": [
    {
     "data": {
      "text/plain": [
       "' 추가 분석 제안사항 작성\\\\n- [ ] 한국어로 최종 보고서 작성\", \"messages\": [{\"role\": \"user\", \"content\": [{\"text\": \"# Plan\\\\n## thought\\\\n사용자는 한국어로 소통하며, 데이터를 제공하고 그로부터 인사이트를 얻고 싶다고 했습니다. 하지만 아직 구체적인 데이터나 분석 요구사항이 제공되지 않았습니다. 따라서 먼저 사용자의 요구사항을 명확히 이해한 후, 데이터 분석 및 인사이트 도출을 위한 계획을 세워야 합니다.\\\\n## title:\\\\n데이터 기반 인사이트 도출 프로젝트\\\\n## steps:\\\\n### 1. Coder: 데이터 요청 및 초기 분석 준비\\\\n- [ ] 사용자에게 분석하고자 하는 데이터 유형과 형식 확인\\\\n- [ ] 데이터 수집 방법 제안 (파일 업로드, API 연결 등)\\\\n- [ ] 분석 목적과 원하는 인사이트 유형 파악\\\\n- [ ] 데이터 분석을 위한 초기 코드 프레임워크 준비\\\\n\\\\n### 2. Reporter: 최종 보고서 작성\\\\n- [ ] 수집된 데이터 요약 및'"
      ]
     },
     "execution_count": 42,
     "metadata": {},
     "output_type": "execute_result"
    }
   ],
   "source": [
    "invoke_response['response'][1].decode(\"utf-8\")"
   ]
  },
  {
   "cell_type": "code",
   "execution_count": 43,
   "id": "ca87147a",
   "metadata": {},
   "outputs": [
    {
     "data": {
      "text/plain": [
       "' 특성 설명\\\\n- [ ] 데이터 분석 결과 시각화\\\\n- [ ] 주요 인사이트 및 패턴 도출\\\\n- [ ] 결론 및 추가 분석 제안사항 작성\\\\n- [ ] 한국어로 최종 보고서 작성\"}]}], \"messages_name\": \"planner\", \"history\": [{\"agent\": \"coordinator\", \"message\": \"안녕하세요 장동진님! 저는 Bedrock-Manus입니다. 만나서 반갑습니다!\\\\n\\\\n데이터 분석과 인사이트 추출에 대한 요청은 저희 플래너 시스템과 상담이 필요할 것 같습니다.\\\\n\\\\nhandoff_to_planner: I\\'ll need to consult our planning system for this request.\"}, {\"agent\": \"planner\", \"message\": \"# Plan\\\\n## thought\\\\n사용자는 한국어로 소통하며, 데이터를 제공하고 그로부터 인사이트를 얻고 싶다고 했습니다. 하지만 아직 구체적인 데이터나 분석 요구사항이 제공되지 않았습니다. 따라서 먼저 사용자의 요구사항을 명확히 이해한 후, 데이터 분석 및 인사이트 도출을 위한 계획을 세워야 합니다.\\\\n## title:\\\\n'"
      ]
     },
     "execution_count": 43,
     "metadata": {},
     "output_type": "execute_result"
    }
   ],
   "source": [
    "invoke_response['response'][2].decode(\"utf-8\")"
   ]
  },
  {
   "cell_type": "code",
   "execution_count": null,
   "id": "adfe8182",
   "metadata": {},
   "outputs": [
    {
     "ename": "UnicodeDecodeError",
     "evalue": "'utf-8' codec can't decode byte 0xec in position 1023: unexpected end of data",
     "output_type": "error",
     "traceback": [
      "\u001b[31m---------------------------------------------------------------------------\u001b[39m",
      "\u001b[31mUnicodeDecodeError\u001b[39m                        Traceback (most recent call last)",
      "\u001b[36mCell\u001b[39m\u001b[36m \u001b[39m\u001b[32mIn[46]\u001b[39m\u001b[32m, line 1\u001b[39m\n\u001b[32m----> \u001b[39m\u001b[32m1\u001b[39m \u001b[43minvoke_response\u001b[49m\u001b[43m[\u001b[49m\u001b[33;43m'\u001b[39;49m\u001b[33;43mresponse\u001b[39;49m\u001b[33;43m'\u001b[39;49m\u001b[43m]\u001b[49m\u001b[43m[\u001b[49m\u001b[32;43m3\u001b[39;49m\u001b[43m]\u001b[49m\u001b[43m.\u001b[49m\u001b[43mdecode\u001b[49m\u001b[43m(\u001b[49m\u001b[33;43m\"\u001b[39;49m\u001b[33;43mutf-8\u001b[39;49m\u001b[33;43m\"\u001b[39;49m\u001b[43m)\u001b[49m\n",
      "\u001b[31mUnicodeDecodeError\u001b[39m: 'utf-8' codec can't decode byte 0xec in position 1023: unexpected end of data"
     ]
    }
   ],
   "source": [
    "invoke_response['response'][3]#.decode(\"utf-8\")"
   ]
  },
  {
   "cell_type": "code",
   "execution_count": 32,
   "id": "e591709b",
   "metadata": {},
   "outputs": [
    {
     "ename": "JSONDecodeError",
     "evalue": "Unterminated string starting at: line 1 column 15 (char 14)",
     "output_type": "error",
     "traceback": [
      "\u001b[31m---------------------------------------------------------------------------\u001b[39m",
      "\u001b[31mJSONDecodeError\u001b[39m                           Traceback (most recent call last)",
      "\u001b[36mCell\u001b[39m\u001b[36m \u001b[39m\u001b[32mIn[32]\u001b[39m\u001b[32m, line 1\u001b[39m\n\u001b[32m----> \u001b[39m\u001b[32m1\u001b[39m \u001b[43mjson\u001b[49m\u001b[43m.\u001b[49m\u001b[43mloads\u001b[49m\u001b[43m(\u001b[49m\u001b[43minvoke_response\u001b[49m\u001b[43m[\u001b[49m\u001b[33;43m'\u001b[39;49m\u001b[33;43mresponse\u001b[39;49m\u001b[33;43m'\u001b[39;49m\u001b[43m]\u001b[49m\u001b[43m[\u001b[49m\u001b[32;43m0\u001b[39;49m\u001b[43m]\u001b[49m\u001b[43m.\u001b[49m\u001b[43mdecode\u001b[49m\u001b[43m(\u001b[49m\u001b[33;43m\"\u001b[39;49m\u001b[33;43mutf-8\u001b[39;49m\u001b[33;43m\"\u001b[39;49m\u001b[43m)\u001b[49m\u001b[43m)\u001b[49m\n",
      "\u001b[36mFile \u001b[39m\u001b[32m~/.local/share/uv/python/cpython-3.12.11-linux-aarch64-gnu/lib/python3.12/json/__init__.py:346\u001b[39m, in \u001b[36mloads\u001b[39m\u001b[34m(s, cls, object_hook, parse_float, parse_int, parse_constant, object_pairs_hook, **kw)\u001b[39m\n\u001b[32m    341\u001b[39m     s = s.decode(detect_encoding(s), \u001b[33m'\u001b[39m\u001b[33msurrogatepass\u001b[39m\u001b[33m'\u001b[39m)\n\u001b[32m    343\u001b[39m \u001b[38;5;28;01mif\u001b[39;00m (\u001b[38;5;28mcls\u001b[39m \u001b[38;5;129;01mis\u001b[39;00m \u001b[38;5;28;01mNone\u001b[39;00m \u001b[38;5;129;01mand\u001b[39;00m object_hook \u001b[38;5;129;01mis\u001b[39;00m \u001b[38;5;28;01mNone\u001b[39;00m \u001b[38;5;129;01mand\u001b[39;00m\n\u001b[32m    344\u001b[39m         parse_int \u001b[38;5;129;01mis\u001b[39;00m \u001b[38;5;28;01mNone\u001b[39;00m \u001b[38;5;129;01mand\u001b[39;00m parse_float \u001b[38;5;129;01mis\u001b[39;00m \u001b[38;5;28;01mNone\u001b[39;00m \u001b[38;5;129;01mand\u001b[39;00m\n\u001b[32m    345\u001b[39m         parse_constant \u001b[38;5;129;01mis\u001b[39;00m \u001b[38;5;28;01mNone\u001b[39;00m \u001b[38;5;129;01mand\u001b[39;00m object_pairs_hook \u001b[38;5;129;01mis\u001b[39;00m \u001b[38;5;28;01mNone\u001b[39;00m \u001b[38;5;129;01mand\u001b[39;00m \u001b[38;5;129;01mnot\u001b[39;00m kw):\n\u001b[32m--> \u001b[39m\u001b[32m346\u001b[39m     \u001b[38;5;28;01mreturn\u001b[39;00m \u001b[43m_default_decoder\u001b[49m\u001b[43m.\u001b[49m\u001b[43mdecode\u001b[49m\u001b[43m(\u001b[49m\u001b[43ms\u001b[49m\u001b[43m)\u001b[49m\n\u001b[32m    347\u001b[39m \u001b[38;5;28;01mif\u001b[39;00m \u001b[38;5;28mcls\u001b[39m \u001b[38;5;129;01mis\u001b[39;00m \u001b[38;5;28;01mNone\u001b[39;00m:\n\u001b[32m    348\u001b[39m     \u001b[38;5;28mcls\u001b[39m = JSONDecoder\n",
      "\u001b[36mFile \u001b[39m\u001b[32m~/.local/share/uv/python/cpython-3.12.11-linux-aarch64-gnu/lib/python3.12/json/decoder.py:338\u001b[39m, in \u001b[36mJSONDecoder.decode\u001b[39m\u001b[34m(self, s, _w)\u001b[39m\n\u001b[32m    333\u001b[39m \u001b[38;5;28;01mdef\u001b[39;00m\u001b[38;5;250m \u001b[39m\u001b[34mdecode\u001b[39m(\u001b[38;5;28mself\u001b[39m, s, _w=WHITESPACE.match):\n\u001b[32m    334\u001b[39m \u001b[38;5;250m    \u001b[39m\u001b[33;03m\"\"\"Return the Python representation of ``s`` (a ``str`` instance\u001b[39;00m\n\u001b[32m    335\u001b[39m \u001b[33;03m    containing a JSON document).\u001b[39;00m\n\u001b[32m    336\u001b[39m \n\u001b[32m    337\u001b[39m \u001b[33;03m    \"\"\"\u001b[39;00m\n\u001b[32m--> \u001b[39m\u001b[32m338\u001b[39m     obj, end = \u001b[38;5;28;43mself\u001b[39;49m\u001b[43m.\u001b[49m\u001b[43mraw_decode\u001b[49m\u001b[43m(\u001b[49m\u001b[43ms\u001b[49m\u001b[43m,\u001b[49m\u001b[43m \u001b[49m\u001b[43midx\u001b[49m\u001b[43m=\u001b[49m\u001b[43m_w\u001b[49m\u001b[43m(\u001b[49m\u001b[43ms\u001b[49m\u001b[43m,\u001b[49m\u001b[43m \u001b[49m\u001b[32;43m0\u001b[39;49m\u001b[43m)\u001b[49m\u001b[43m.\u001b[49m\u001b[43mend\u001b[49m\u001b[43m(\u001b[49m\u001b[43m)\u001b[49m\u001b[43m)\u001b[49m\n\u001b[32m    339\u001b[39m     end = _w(s, end).end()\n\u001b[32m    340\u001b[39m     \u001b[38;5;28;01mif\u001b[39;00m end != \u001b[38;5;28mlen\u001b[39m(s):\n",
      "\u001b[36mFile \u001b[39m\u001b[32m~/.local/share/uv/python/cpython-3.12.11-linux-aarch64-gnu/lib/python3.12/json/decoder.py:354\u001b[39m, in \u001b[36mJSONDecoder.raw_decode\u001b[39m\u001b[34m(self, s, idx)\u001b[39m\n\u001b[32m    345\u001b[39m \u001b[38;5;250m\u001b[39m\u001b[33;03m\"\"\"Decode a JSON document from ``s`` (a ``str`` beginning with\u001b[39;00m\n\u001b[32m    346\u001b[39m \u001b[33;03ma JSON document) and return a 2-tuple of the Python\u001b[39;00m\n\u001b[32m    347\u001b[39m \u001b[33;03mrepresentation and the index in ``s`` where the document ended.\u001b[39;00m\n\u001b[32m   (...)\u001b[39m\u001b[32m    351\u001b[39m \n\u001b[32m    352\u001b[39m \u001b[33;03m\"\"\"\u001b[39;00m\n\u001b[32m    353\u001b[39m \u001b[38;5;28;01mtry\u001b[39;00m:\n\u001b[32m--> \u001b[39m\u001b[32m354\u001b[39m     obj, end = \u001b[38;5;28;43mself\u001b[39;49m\u001b[43m.\u001b[49m\u001b[43mscan_once\u001b[49m\u001b[43m(\u001b[49m\u001b[43ms\u001b[49m\u001b[43m,\u001b[49m\u001b[43m \u001b[49m\u001b[43midx\u001b[49m\u001b[43m)\u001b[49m\n\u001b[32m    355\u001b[39m \u001b[38;5;28;01mexcept\u001b[39;00m \u001b[38;5;167;01mStopIteration\u001b[39;00m \u001b[38;5;28;01mas\u001b[39;00m err:\n\u001b[32m    356\u001b[39m     \u001b[38;5;28;01mraise\u001b[39;00m JSONDecodeError(\u001b[33m\"\u001b[39m\u001b[33mExpecting value\u001b[39m\u001b[33m\"\u001b[39m, s, err.value) \u001b[38;5;28;01mfrom\u001b[39;00m\u001b[38;5;250m \u001b[39m\u001b[38;5;28;01mNone\u001b[39;00m\n",
      "\u001b[31mJSONDecodeError\u001b[39m: Unterminated string starting at: line 1 column 15 (char 14)"
     ]
    }
   ],
   "source": [
    "json.loads(invoke_response['response'][0].decode(\"utf-8\"))"
   ]
  },
  {
   "cell_type": "code",
   "execution_count": 30,
   "id": "81d359b7",
   "metadata": {},
   "outputs": [
    {
     "ename": "JSONDecodeError",
     "evalue": "Unterminated string starting at: line 1 column 15 (char 14)",
     "output_type": "error",
     "traceback": [
      "\u001b[31m---------------------------------------------------------------------------\u001b[39m",
      "\u001b[31mJSONDecodeError\u001b[39m                           Traceback (most recent call last)",
      "\u001b[36mCell\u001b[39m\u001b[36m \u001b[39m\u001b[32mIn[30]\u001b[39m\u001b[32m, line 3\u001b[39m\n\u001b[32m      1\u001b[39m \u001b[38;5;28;01mfrom\u001b[39;00m\u001b[38;5;250m \u001b[39m\u001b[34;01mIPython\u001b[39;00m\u001b[34;01m.\u001b[39;00m\u001b[34;01mdisplay\u001b[39;00m\u001b[38;5;250m \u001b[39m\u001b[38;5;28;01mimport\u001b[39;00m Markdown, display\n\u001b[32m      2\u001b[39m \u001b[38;5;28;01mimport\u001b[39;00m\u001b[38;5;250m \u001b[39m\u001b[34;01mjson\u001b[39;00m\n\u001b[32m----> \u001b[39m\u001b[32m3\u001b[39m response_text = \u001b[43mjson\u001b[49m\u001b[43m.\u001b[49m\u001b[43mloads\u001b[49m\u001b[43m(\u001b[49m\u001b[43minvoke_response\u001b[49m\u001b[43m[\u001b[49m\u001b[33;43m'\u001b[39;49m\u001b[33;43mresponse\u001b[39;49m\u001b[33;43m'\u001b[39;49m\u001b[43m]\u001b[49m\u001b[43m[\u001b[49m\u001b[32;43m0\u001b[39;49m\u001b[43m]\u001b[49m\u001b[43m.\u001b[49m\u001b[43mdecode\u001b[49m\u001b[43m(\u001b[49m\u001b[33;43m\"\u001b[39;49m\u001b[33;43mutf-8\u001b[39;49m\u001b[33;43m\"\u001b[39;49m\u001b[43m)\u001b[49m\u001b[43m)\u001b[49m\n\u001b[32m      4\u001b[39m display(Markdown(response_text))\n",
      "\u001b[36mFile \u001b[39m\u001b[32m~/.local/share/uv/python/cpython-3.12.11-linux-aarch64-gnu/lib/python3.12/json/__init__.py:346\u001b[39m, in \u001b[36mloads\u001b[39m\u001b[34m(s, cls, object_hook, parse_float, parse_int, parse_constant, object_pairs_hook, **kw)\u001b[39m\n\u001b[32m    341\u001b[39m     s = s.decode(detect_encoding(s), \u001b[33m'\u001b[39m\u001b[33msurrogatepass\u001b[39m\u001b[33m'\u001b[39m)\n\u001b[32m    343\u001b[39m \u001b[38;5;28;01mif\u001b[39;00m (\u001b[38;5;28mcls\u001b[39m \u001b[38;5;129;01mis\u001b[39;00m \u001b[38;5;28;01mNone\u001b[39;00m \u001b[38;5;129;01mand\u001b[39;00m object_hook \u001b[38;5;129;01mis\u001b[39;00m \u001b[38;5;28;01mNone\u001b[39;00m \u001b[38;5;129;01mand\u001b[39;00m\n\u001b[32m    344\u001b[39m         parse_int \u001b[38;5;129;01mis\u001b[39;00m \u001b[38;5;28;01mNone\u001b[39;00m \u001b[38;5;129;01mand\u001b[39;00m parse_float \u001b[38;5;129;01mis\u001b[39;00m \u001b[38;5;28;01mNone\u001b[39;00m \u001b[38;5;129;01mand\u001b[39;00m\n\u001b[32m    345\u001b[39m         parse_constant \u001b[38;5;129;01mis\u001b[39;00m \u001b[38;5;28;01mNone\u001b[39;00m \u001b[38;5;129;01mand\u001b[39;00m object_pairs_hook \u001b[38;5;129;01mis\u001b[39;00m \u001b[38;5;28;01mNone\u001b[39;00m \u001b[38;5;129;01mand\u001b[39;00m \u001b[38;5;129;01mnot\u001b[39;00m kw):\n\u001b[32m--> \u001b[39m\u001b[32m346\u001b[39m     \u001b[38;5;28;01mreturn\u001b[39;00m \u001b[43m_default_decoder\u001b[49m\u001b[43m.\u001b[49m\u001b[43mdecode\u001b[49m\u001b[43m(\u001b[49m\u001b[43ms\u001b[49m\u001b[43m)\u001b[49m\n\u001b[32m    347\u001b[39m \u001b[38;5;28;01mif\u001b[39;00m \u001b[38;5;28mcls\u001b[39m \u001b[38;5;129;01mis\u001b[39;00m \u001b[38;5;28;01mNone\u001b[39;00m:\n\u001b[32m    348\u001b[39m     \u001b[38;5;28mcls\u001b[39m = JSONDecoder\n",
      "\u001b[36mFile \u001b[39m\u001b[32m~/.local/share/uv/python/cpython-3.12.11-linux-aarch64-gnu/lib/python3.12/json/decoder.py:338\u001b[39m, in \u001b[36mJSONDecoder.decode\u001b[39m\u001b[34m(self, s, _w)\u001b[39m\n\u001b[32m    333\u001b[39m \u001b[38;5;28;01mdef\u001b[39;00m\u001b[38;5;250m \u001b[39m\u001b[34mdecode\u001b[39m(\u001b[38;5;28mself\u001b[39m, s, _w=WHITESPACE.match):\n\u001b[32m    334\u001b[39m \u001b[38;5;250m    \u001b[39m\u001b[33;03m\"\"\"Return the Python representation of ``s`` (a ``str`` instance\u001b[39;00m\n\u001b[32m    335\u001b[39m \u001b[33;03m    containing a JSON document).\u001b[39;00m\n\u001b[32m    336\u001b[39m \n\u001b[32m    337\u001b[39m \u001b[33;03m    \"\"\"\u001b[39;00m\n\u001b[32m--> \u001b[39m\u001b[32m338\u001b[39m     obj, end = \u001b[38;5;28;43mself\u001b[39;49m\u001b[43m.\u001b[49m\u001b[43mraw_decode\u001b[49m\u001b[43m(\u001b[49m\u001b[43ms\u001b[49m\u001b[43m,\u001b[49m\u001b[43m \u001b[49m\u001b[43midx\u001b[49m\u001b[43m=\u001b[49m\u001b[43m_w\u001b[49m\u001b[43m(\u001b[49m\u001b[43ms\u001b[49m\u001b[43m,\u001b[49m\u001b[43m \u001b[49m\u001b[32;43m0\u001b[39;49m\u001b[43m)\u001b[49m\u001b[43m.\u001b[49m\u001b[43mend\u001b[49m\u001b[43m(\u001b[49m\u001b[43m)\u001b[49m\u001b[43m)\u001b[49m\n\u001b[32m    339\u001b[39m     end = _w(s, end).end()\n\u001b[32m    340\u001b[39m     \u001b[38;5;28;01mif\u001b[39;00m end != \u001b[38;5;28mlen\u001b[39m(s):\n",
      "\u001b[36mFile \u001b[39m\u001b[32m~/.local/share/uv/python/cpython-3.12.11-linux-aarch64-gnu/lib/python3.12/json/decoder.py:354\u001b[39m, in \u001b[36mJSONDecoder.raw_decode\u001b[39m\u001b[34m(self, s, idx)\u001b[39m\n\u001b[32m    345\u001b[39m \u001b[38;5;250m\u001b[39m\u001b[33;03m\"\"\"Decode a JSON document from ``s`` (a ``str`` beginning with\u001b[39;00m\n\u001b[32m    346\u001b[39m \u001b[33;03ma JSON document) and return a 2-tuple of the Python\u001b[39;00m\n\u001b[32m    347\u001b[39m \u001b[33;03mrepresentation and the index in ``s`` where the document ended.\u001b[39;00m\n\u001b[32m   (...)\u001b[39m\u001b[32m    351\u001b[39m \n\u001b[32m    352\u001b[39m \u001b[33;03m\"\"\"\u001b[39;00m\n\u001b[32m    353\u001b[39m \u001b[38;5;28;01mtry\u001b[39;00m:\n\u001b[32m--> \u001b[39m\u001b[32m354\u001b[39m     obj, end = \u001b[38;5;28;43mself\u001b[39;49m\u001b[43m.\u001b[49m\u001b[43mscan_once\u001b[49m\u001b[43m(\u001b[49m\u001b[43ms\u001b[49m\u001b[43m,\u001b[49m\u001b[43m \u001b[49m\u001b[43midx\u001b[49m\u001b[43m)\u001b[49m\n\u001b[32m    355\u001b[39m \u001b[38;5;28;01mexcept\u001b[39;00m \u001b[38;5;167;01mStopIteration\u001b[39;00m \u001b[38;5;28;01mas\u001b[39;00m err:\n\u001b[32m    356\u001b[39m     \u001b[38;5;28;01mraise\u001b[39;00m JSONDecodeError(\u001b[33m\"\u001b[39m\u001b[33mExpecting value\u001b[39m\u001b[33m\"\u001b[39m, s, err.value) \u001b[38;5;28;01mfrom\u001b[39;00m\u001b[38;5;250m \u001b[39m\u001b[38;5;28;01mNone\u001b[39;00m\n",
      "\u001b[31mJSONDecodeError\u001b[39m: Unterminated string starting at: line 1 column 15 (char 14)"
     ]
    }
   ],
   "source": [
    "from IPython.display import Markdown, display\n",
    "import json\n",
    "response_text = json.loads(invoke_response['response'][0].decode(\"utf-8\"))\n",
    "display(Markdown(response_text))"
   ]
  },
  {
   "cell_type": "code",
   "execution_count": null,
   "id": "7fcd5df8",
   "metadata": {},
   "outputs": [],
   "source": [
    "스트림\n",
    "\n",
    "https://strandsagents.com/latest/documentation/docs/user-guide/deploy/deploy_to_bedrock_agentcore/"
   ]
  },
  {
   "cell_type": "code",
   "execution_count": null,
   "id": "78945203",
   "metadata": {},
   "outputs": [],
   "source": [
    "import boto3\n",
    "agent_arn = launch_result.agent_arn\n",
    "agentcore_client = boto3.client(\n",
    "    'bedrock-agentcore',\n",
    "    region_name=region\n",
    ")\n",
    "\n",
    "boto3_response = agentcore_client.invoke_agent_runtime(\n",
    "    agentRuntimeArn=agent_arn,\n",
    "    qualifier=\"DEFAULT\",\n",
    "    payload=json.dumps({\"prompt\": \"What is the weather now?\"})\n",
    ")\n",
    "if \"text/event-stream\" in boto3_response.get(\"contentType\", \"\"):\n",
    "    content = []\n",
    "    for line in boto3_response[\"response\"].iter_lines(chunk_size=1):\n",
    "        if line:\n",
    "            line = line.decode(\"utf-8\")\n",
    "            if line.startswith(\"data: \"):\n",
    "                line = line[6:]\n",
    "                logger.info(line)\n",
    "                content.append(line)\n",
    "    display(Markdown(\"\\n\".join(content)))\n",
    "else:\n",
    "    try:\n",
    "        events = []\n",
    "        for event in boto3_response.get(\"response\", []):\n",
    "            events.append(event)\n",
    "    except Exception as e:\n",
    "        events = [f\"Error reading EventStream: {e}\"]\n",
    "    display(Markdown(json.loads(events[0].decode(\"utf-8\"))))"
   ]
  },
  {
   "cell_type": "markdown",
   "id": "fefa09f2-d25a-483f-aedb-11690bb8923a",
   "metadata": {},
   "source": [
    "### Processing invocation results\n",
    "\n",
    "We can now process our invocation results to include it in an application"
   ]
  },
  {
   "cell_type": "code",
   "execution_count": null,
   "id": "11249103-cfb3-47b5-970d-981a977a225a",
   "metadata": {
    "scrolled": true
   },
   "outputs": [],
   "source": [
    "from IPython.display import Markdown, display\n",
    "import json\n",
    "response_text = json.loads(invoke_response['response'][0].decode(\"utf-8\"))\n",
    "display(Markdown(response_text))"
   ]
  },
  {
   "cell_type": "markdown",
   "id": "2c1d2bce-be41-478c-8bed-b4037c385795",
   "metadata": {},
   "source": [
    "### Invoking AgentCore Runtime with boto3\n",
    "\n",
    "Now that your AgentCore Runtime was created you can invoke it with any AWS SDK. For instance, you can use the boto3 `invoke_agent_runtime` method for it."
   ]
  },
  {
   "cell_type": "code",
   "execution_count": 28,
   "id": "7f84e68d-6c04-41b9-bf5b-60edc3fa0985",
   "metadata": {},
   "outputs": [],
   "source": [
    "import boto3\n",
    "import json\n",
    "agent_arn = launch_result.agent_arn\n",
    "agentcore_client = boto3.client(\n",
    "    'bedrock-agentcore',\n",
    "    region_name=region\n",
    ")\n",
    "\n",
    "boto3_response = agentcore_client.invoke_agent_runtime(\n",
    "    agentRuntimeArn=agent_arn,\n",
    "    qualifier=\"DEFAULT\",\n",
    "    #payload=json.dumps({\"prompt\": \"What is the weather now?\"})\n",
    "    payload=json.dumps({\"prompt\": \"안녕 나는 장동진이라고 해. 만나서 반가워 나는 데이터를 제공하고 그것으로 부터 인사이트를 추출하고 싶어.\"})\n",
    "    #agentcore_runtime.invoke({\"prompt\": \"안녕 나는 장동진이라고 해. 만나서 반가워 나는 데이터를 제공하고 그것으로 부터 인사이트를 추출하고 싶어.\"})\n",
    ")\n",
    "# if \"text/event-stream\" in boto3_response.get(\"contentType\", \"\"):\n",
    "#     content = []\n",
    "#     for line in boto3_response[\"response\"].iter_lines(chunk_size=1):\n",
    "#         if line:\n",
    "#             line = line.decode(\"utf-8\")\n",
    "#             if line.startswith(\"data: \"):\n",
    "#                 line = line[6:]\n",
    "#                 logger.info(line)\n",
    "#                 content.append(line)\n",
    "#     display(Markdown(\"\\n\".join(content)))\n",
    "# else:\n",
    "#     try:\n",
    "#         events = []\n",
    "#         for event in boto3_response.get(\"response\", []):\n",
    "#             events.append(event)\n",
    "#     except Exception as e:\n",
    "#         events = [f\"Error reading EventStream: {e}\"]\n",
    "#     display(Markdown(json.loads(events[0].decode(\"utf-8\"))))"
   ]
  },
  {
   "cell_type": "code",
   "execution_count": 29,
   "id": "2dd4c970",
   "metadata": {},
   "outputs": [
    {
     "data": {
      "text/plain": [
       "{'ResponseMetadata': {'RequestId': 'd2f783a1-80c5-4728-ac84-a1ed339d173f',\n",
       "  'HTTPStatusCode': 200,\n",
       "  'HTTPHeaders': {'date': 'Wed, 06 Aug 2025 02:03:21 GMT',\n",
       "   'content-type': 'application/json',\n",
       "   'transfer-encoding': 'chunked',\n",
       "   'connection': 'keep-alive',\n",
       "   'x-amzn-requestid': 'd2f783a1-80c5-4728-ac84-a1ed339d173f',\n",
       "   'baggage': 'Self=1-6892b7d7-4c06c892527a66162693c8a4,session.id=ac7fb602-2130-490d-8ca2-aa86de3be3b3',\n",
       "   'x-amzn-bedrock-agentcore-runtime-session-id': 'ac7fb602-2130-490d-8ca2-aa86de3be3b3',\n",
       "   'x-amzn-trace-id': 'Root=1-6892b7d7-4705acbd445e51fd08765686;Self=1-6892b7d7-4c06c892527a66162693c8a4'},\n",
       "  'RetryAttempts': 0},\n",
       " 'runtimeSessionId': 'ac7fb602-2130-490d-8ca2-aa86de3be3b3',\n",
       " 'traceId': 'Root=1-6892b7d7-4705acbd445e51fd08765686;Self=1-6892b7d7-4c06c892527a66162693c8a4',\n",
       " 'baggage': 'Self=1-6892b7d7-4c06c892527a66162693c8a4,session.id=ac7fb602-2130-490d-8ca2-aa86de3be3b3',\n",
       " 'contentType': 'application/json',\n",
       " 'statusCode': 200,\n",
       " 'response': <botocore.response.StreamingBody at 0xe865f3e1a140>}"
      ]
     },
     "execution_count": 29,
     "metadata": {},
     "output_type": "execute_result"
    }
   ],
   "source": [
    "boto3_response"
   ]
  },
  {
   "cell_type": "markdown",
   "id": "7d3fdfe404469632",
   "metadata": {},
   "source": [
    "## Cleanup (Optional)\n",
    "\n",
    "Let's now clean up the AgentCore Runtime created"
   ]
  },
  {
   "cell_type": "code",
   "execution_count": null,
   "id": "08f86824-c775-4ad4-aaee-f18e8cf390b9",
   "metadata": {},
   "outputs": [],
   "source": [
    "launch_result.ecr_uri, launch_result.agent_id, launch_result.ecr_uri.split('/')[1]"
   ]
  },
  {
   "cell_type": "code",
   "execution_count": null,
   "id": "76a6cf1416830a54",
   "metadata": {},
   "outputs": [],
   "source": [
    "agentcore_control_client = boto3.client(\n",
    "    'bedrock-agentcore-control',\n",
    "    region_name=region\n",
    ")\n",
    "ecr_client = boto3.client(\n",
    "    'ecr',\n",
    "    region_name=region\n",
    "    \n",
    ")\n",
    "\n",
    "iam_client = boto3.client('iam')\n",
    "\n",
    "runtime_delete_response = agentcore_control_client.delete_agent_runtime(\n",
    "    agentRuntimeId=launch_result.agent_id\n",
    ")\n",
    "\n",
    "response = ecr_client.delete_repository(\n",
    "    repositoryName=launch_result.ecr_uri.split('/')[1],\n",
    "    force=True\n",
    ")\n",
    "policies = iam_client.list_role_policies(\n",
    "    RoleName=agentcore_iam_role['Role']['RoleName'],\n",
    "    MaxItems=100\n",
    ")\n",
    "\n",
    "for policy_name in policies['PolicyNames']:\n",
    "    iam_client.delete_role_policy(\n",
    "        RoleName=agentcore_iam_role['Role']['RoleName'],\n",
    "        PolicyName=policy_name\n",
    "    )\n",
    "iam_response = iam_client.delete_role(\n",
    "    RoleName=agentcore_iam_role['Role']['RoleName']\n",
    ")"
   ]
  },
  {
   "cell_type": "markdown",
   "id": "b118ad38-feeb-4d1d-9d57-e5c845becc56",
   "metadata": {},
   "source": [
    "# Congratulations!"
   ]
  }
 ],
 "metadata": {
  "kernelspec": {
   "display_name": "env-bedrock-agentcore (UV)",
   "language": "python",
   "name": "env-bedrock-agentcore"
  },
  "language_info": {
   "codemirror_mode": {
    "name": "ipython",
    "version": 3
   },
   "file_extension": ".py",
   "mimetype": "text/x-python",
   "name": "python",
   "nbconvert_exporter": "python",
   "pygments_lexer": "ipython3",
   "version": "3.12.11"
  }
 },
 "nbformat": 4,
 "nbformat_minor": 5
}
