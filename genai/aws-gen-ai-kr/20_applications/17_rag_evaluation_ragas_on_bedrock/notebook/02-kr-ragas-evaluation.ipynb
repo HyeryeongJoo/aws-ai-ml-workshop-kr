{
 "cells": [
  {
   "cell_type": "markdown",
   "metadata": {},
   "source": [
    "# RAG 평가하기\n",
    "\n",
    "### 선수 조건\n",
    "- Amazon Bedrock Knowledge base 를 먼저 생성 해야 합니다.\n",
    "    - 참조 블로그: [Amazon Bedrock Knowledge base로 30분 만에 멀티모달 RAG 챗봇 구축하기 실전 가이드](https://aws.amazon.com/ko/blogs/tech/practical-guide-for-bedrock-kb-multimodal-chatbot/)\n",
    "    - data: ../data/241231-Sonnet-recipe.pdf 문서를 사용하세요.\n",
    "\n",
    "---    "
   ]
  },
  {
   "cell_type": "markdown",
   "metadata": {},
   "source": [
    "## 0. 환경 설정"
   ]
  },
  {
   "cell_type": "code",
   "execution_count": 1,
   "metadata": {},
   "outputs": [
    {
     "name": "stdout",
     "output_type": "stream",
     "text": [
      "python path: /home/sagemaker-user/aws-ai-ml-workshop-kr/genai/aws-gen-ai-kr/20_applications/17_rag_evaluation_ragas_on_bedrock is added\n",
      "sys.path:  ['/home/sagemaker-user/aws-ai-ml-workshop-kr/genai/aws-gen-ai-kr/20_applications/17_rag_evaluation_ragas_on_bedrock/notebook', '/home/sagemaker-user/.conda/envs/regas_bedrock/lib/python310.zip', '/home/sagemaker-user/.conda/envs/regas_bedrock/lib/python3.10', '/home/sagemaker-user/.conda/envs/regas_bedrock/lib/python3.10/lib-dynload', '', '/home/sagemaker-user/.conda/envs/regas_bedrock/lib/python3.10/site-packages', '/home/sagemaker-user/aws-ai-ml-workshop-kr/genai/aws-gen-ai-kr/20_applications/17_rag_evaluation_ragas_on_bedrock']\n"
     ]
    },
    {
     "name": "stderr",
     "output_type": "stream",
     "text": [
      "/home/sagemaker-user/.conda/envs/regas_bedrock/lib/python3.10/site-packages/tqdm/auto.py:21: TqdmWarning: IProgress not found. Please update jupyter and ipywidgets. See https://ipywidgets.readthedocs.io/en/stable/user_install.html\n",
      "  from .autonotebook import tqdm as notebook_tqdm\n"
     ]
    }
   ],
   "source": [
    "%load_ext autoreload\n",
    "%autoreload 2\n",
    "\n",
    "import sys, os\n",
    "\n",
    "def add_python_path(module_path):\n",
    "    if os.path.abspath(module_path) not in sys.path:\n",
    "        sys.path.append(os.path.abspath(module_path))\n",
    "        print(f\"python path: {os.path.abspath(module_path)} is added\")\n",
    "    else:\n",
    "        print(f\"python path: {os.path.abspath(module_path)} already exists\")\n",
    "    print(\"sys.path: \", sys.path)\n",
    "\n",
    "\n",
    "module_path = \"..\"\n",
    "add_python_path(module_path)\n",
    "\n",
    "\n",
    "from libs.notebook_util import (\n",
    "    pretty_print_df, convert_to_list, format_text,\n",
    "    print_formatted_text, generate_answer,\n",
    "    show_sample_row_eval,\n",
    "    merge_dataset_and_results\n",
    ")"
   ]
  },
  {
   "cell_type": "markdown",
   "metadata": {},
   "source": [
    "## 1. 합성 데이터 로딩\n",
    "    \n"
   ]
  },
  {
   "cell_type": "code",
   "execution_count": 2,
   "metadata": {},
   "outputs": [
    {
     "name": "stdout",
     "output_type": "stream",
     "text": [
      "(10, 4)\n"
     ]
    },
    {
     "data": {
      "text/html": [
       "<div>\n",
       "<style scoped>\n",
       "    .dataframe tbody tr th:only-of-type {\n",
       "        vertical-align: middle;\n",
       "    }\n",
       "\n",
       "    .dataframe tbody tr th {\n",
       "        vertical-align: top;\n",
       "    }\n",
       "\n",
       "    .dataframe thead th {\n",
       "        text-align: right;\n",
       "    }\n",
       "</style>\n",
       "<table border=\"1\" class=\"dataframe\">\n",
       "  <thead>\n",
       "    <tr style=\"text-align: right;\">\n",
       "      <th></th>\n",
       "      <th>question</th>\n",
       "      <th>ground_truth</th>\n",
       "      <th>question_type</th>\n",
       "      <th>contexts</th>\n",
       "    </tr>\n",
       "  </thead>\n",
       "  <tbody>\n",
       "    <tr>\n",
       "      <th>0</th>\n",
       "      <td>지중해 연안 국가들의 요리 중 채식주의자와 육식주의자 모두를 만족시킬 수 있는 메뉴...</td>\n",
       "      <td>지중해 연안 국가들의 요리 중 채식주의자와 육식주의자 모두를 만족시킬 수 있는 메뉴...</td>\n",
       "      <td>complex</td>\n",
       "      <td>프랑스 요리로 더 살펴보면, 코코뱅은 닭고기를 레드와인에 장시간 끓여 만드는\\n전통...</td>\n",
       "    </tr>\n",
       "    <tr>\n",
       "      <th>1</th>\n",
       "      <td>팟타이는 어떤 재료로 만드나요?</td>\n",
       "      <td>팟타이는 쌀국수를 새우와 함께 볶고 땅콩가루를 뿌려 만듭니다.</td>\n",
       "      <td>simple</td>\n",
       "      <td>기와 달걀을 간장 베이스의 달달한 육수에 조려 밥 위에 올립니다.\\n중식으로는 마파...</td>\n",
       "    </tr>\n",
       "    <tr>\n",
       "      <th>2</th>\n",
       "      <td>한국, 이탈리아, 태국, 베트남 요리의 특징을 비교하며, 각 나라의 대표 요리에서 ...</td>\n",
       "      <td>한국, 이탈리아, 태국, 베트남 요리는 각각 고유한 특징을 가지고 있지만, 몇 가지...</td>\n",
       "      <td>complex</td>\n",
       "      <td>볶음요리로는 먼저 김치볶음밥이 있는데, 잘 익은 김치를 잘게 썰어 밥과 함께\\n볶다...</td>\n",
       "    </tr>\n",
       "    <tr>\n",
       "      <th>3</th>\n",
       "      <td>라자냐는 어떤 재료로 만들어지나요?</td>\n",
       "      <td>라자냐는 파스타면, 미트소스, 베샤멜 소스, 치즈를 층층이 쌓아 오븐에 구워 만듭니다.</td>\n",
       "      <td>simple</td>\n",
       "      <td>볶다가 뜨거운 육수를 조금씩 부어가며 천천히 익혀 만듭니다. 라자냐는 파스타\\n면과...</td>\n",
       "    </tr>\n",
       "    <tr>\n",
       "      <th>4</th>\n",
       "      <td>여러 나라의 요리법을 비교했을 때, 와인을 주요 재료로 사용하는 요리들의 공통점과 ...</td>\n",
       "      <td>와인을 주요 재료로 사용하는 요리들을 비교해보면, 프랑스의 비프 부르기뇽과 코코뱅이...</td>\n",
       "      <td>complex</td>\n",
       "      <td>요리입니다. 어향육슬은 돼지고기를 채썰어 매콤새콤한 소스로 볶아내고, 팔보채\\n는 ...</td>\n",
       "    </tr>\n",
       "  </tbody>\n",
       "</table>\n",
       "</div>"
      ],
      "text/plain": [
       "                                            question  \\\n",
       "0  지중해 연안 국가들의 요리 중 채식주의자와 육식주의자 모두를 만족시킬 수 있는 메뉴...   \n",
       "1                                  팟타이는 어떤 재료로 만드나요?   \n",
       "2  한국, 이탈리아, 태국, 베트남 요리의 특징을 비교하며, 각 나라의 대표 요리에서 ...   \n",
       "3                                라자냐는 어떤 재료로 만들어지나요?   \n",
       "4  여러 나라의 요리법을 비교했을 때, 와인을 주요 재료로 사용하는 요리들의 공통점과 ...   \n",
       "\n",
       "                                        ground_truth question_type  \\\n",
       "0  지중해 연안 국가들의 요리 중 채식주의자와 육식주의자 모두를 만족시킬 수 있는 메뉴...       complex   \n",
       "1                 팟타이는 쌀국수를 새우와 함께 볶고 땅콩가루를 뿌려 만듭니다.        simple   \n",
       "2  한국, 이탈리아, 태국, 베트남 요리는 각각 고유한 특징을 가지고 있지만, 몇 가지...       complex   \n",
       "3   라자냐는 파스타면, 미트소스, 베샤멜 소스, 치즈를 층층이 쌓아 오븐에 구워 만듭니다.        simple   \n",
       "4  와인을 주요 재료로 사용하는 요리들을 비교해보면, 프랑스의 비프 부르기뇽과 코코뱅이...       complex   \n",
       "\n",
       "                                            contexts  \n",
       "0  프랑스 요리로 더 살펴보면, 코코뱅은 닭고기를 레드와인에 장시간 끓여 만드는\\n전통...  \n",
       "1  기와 달걀을 간장 베이스의 달달한 육수에 조려 밥 위에 올립니다.\\n중식으로는 마파...  \n",
       "2  볶음요리로는 먼저 김치볶음밥이 있는데, 잘 익은 김치를 잘게 썰어 밥과 함께\\n볶다...  \n",
       "3  볶다가 뜨거운 육수를 조금씩 부어가며 천천히 익혀 만듭니다. 라자냐는 파스타\\n면과...  \n",
       "4  요리입니다. 어향육슬은 돼지고기를 채썰어 매콤새콤한 소스로 볶아내고, 팔보채\\n는 ...  "
      ]
     },
     "execution_count": 2,
     "metadata": {},
     "output_type": "execute_result"
    }
   ],
   "source": [
    "import pandas as pd\n",
    "\n",
    "df = pd.read_json(\"../data/sample_qa_dataset.jsonl\", lines=True)\n",
    "print(df.shape)\n",
    "df.head()"
   ]
  },
  {
   "cell_type": "code",
   "execution_count": 3,
   "metadata": {},
   "outputs": [
    {
     "name": "stdout",
     "output_type": "stream",
     "text": [
      "question:\n",
      "지중해 연안 국가들의 요리 중 채식주의자와 육식주의자 모두를 만족시킬 수 있는 메뉴 구성을 제안한다면, 어떤 요리들을 선택하고 그 이유는 무엇인가요?\n",
      "ground_truth:\n",
      "지중해 연안 국가들의 요리 중 채식주의자와 육식주의자 모두를 만족시킬 수 있는 메뉴 구성은 다음과 같습니다: 1.\n",
      "프랑스의 라타투이: 가지, 토마토, 호박, 파프리카 등 다양한 채소로 만든 채식 요리로, 채식주의자에게 적합합니다.\n",
      "2.\n",
      "스페인의 가스파초: 토마토, 오이, 피망으로 만든 차가운 스프로, 채식주의자도 즐길 수 있는 상큼한 요리입니다.\n",
      "3.\n",
      "그리스의 무사카: 가지와 다진 고기를 층층이 쌓아 만드는 요리로, 육식주의자를 위한 선택입니다.\n",
      "채식 버전으로 변형도 가능합니다.\n",
      "4.\n",
      "모로코의 쿠스쿠스: 밀가루로 만든 알갱이에 채소를 얹어 먹는 요리로, 고기를 별도로 제공하여 선택적으로 먹을 수 있게 합니다.\n",
      "5.\n",
      "스페인의 빠에야: 해산물과 채소를 넣은 쌀 요리로, 해산물을 먹는 사람과 채식주의자 모두에게 적합합니다.\n",
      "이러한 구성은 다양한 식단 선호도를 고려하면서도 지중해 요리의 특색을 잘 보여줍니다.\n",
      "채식 옵션과 육류 옵션을 동시에 제공하여 모든 식성의 사람들을 만족시킬 수 있으며, 각 요리의 재료와 조리법을 조절하여 개인의 선호에 맞출 수 있는 유연성도 갖추고 있습니다.\n",
      "question_type:\n",
      "complex\n",
      "contexts:\n",
      "프랑스 요리로 더 살펴보면, 코코뱅은 닭고기를 레드와인에 장시간 끓여 만드는 전통 요리입니다.\n",
      "와인의 풍미가 닭고기에 깊이 배어들어 독특한 맛을 자아내며, 양파와 버섯, 베이컨을 함께 넣어 풍성한 맛을 더합니다.\n",
      "라타투이는 가지, 토마 토, 호박, 파프리카 등 지중해 채소들을 올리브유로 천천히 익혀 만드는 프로방 스 지방의 대표적인 채식 요리입니다.\n",
      "끼슈는 버터가 듬뿍 들어간 파이 반죽 위 에 달걀과 크림을 섞은 커스터드를 붓고 베이컨, 치즈, 채소를 넣어 구워내는 고 소한 요리입니다.\n",
      "스페인 요리에서는 빠에야가 유명한데, 사프란으로 노란빛을 낸 쌀에 해산물과 토 마토, 완두콩을 넣고 특별한 빠에야 팬에서 구수하게 볶아냅니다.\n",
      "가스파초는 토 마토와 오이, 피망을 갈아서 만드는 차가운 스프로, 더운 여름에 즐기기 좋은 상 큼한 요리입니다.\n",
      "또한 감바스 알 아히요는 마늘과 올리브유에 새우를 볶아 만드 는 간단하지만 맛있는 타파스 요리입니다.\n",
      "그리스 요리로는 무사카가 대표적입니다.\n",
      "가지와 다진 고기를 층층이 쌓고 베샤멜 소스를 부어 오븐에 구워내는데, 마치 그리스 버전의 라자냐와 같습니다.\n",
      "수블라 키는 돼지고기를 레몬과 허브로 마리네이드해서 꼬치에 꿰어 구운 다음 피타빵에 싸서 먹는 길거리 음식입니다.\n",
      "돌마데스는 포도잎으로 밥과 다진 고기를 싸서 찐 다음 레몬소스를 곁들이는 전통 요리입니다.\n",
      "그리스 요리로는 무사카가 대표적입니다.\n",
      "가지와 다진 고기를 층층이 쌓고 베샤멜 소스를 부어 오븐에 구워내는데, 마치 그리스 버전의 라자냐와 같습니다.\n",
      "수블라 키는 돼지고기를 레몬과 허브로 마리네이드해서 꼬치에 꿰어 구운 다음 피타빵에 싸서 먹는 길거리 음식입니다.\n",
      "돌마데스는 포도잎으로 밥과 다진 고기를 싸서 찐 다음 레몬소스를 곁들이는 전통 요리입니다.\n",
      "모로코 요리에서는 타진이 유명합니다.\n",
      "원뿔 모양의 뚜껑이 있는 특별한 그릇에서 양고기나 닭고기를 채소, 건과일, 올리브와 함께 향신료를 넣어 천천히 조리합니 다.\n",
      "쿠스쿠스는 잘게 빻은 밀가루로 만든 알갱이에 채소와 고기를 얹어 먹는 북 아프리카의 주식입니다.\n",
      "파스티야는 달콤하면서도 짭짤한 맛이 나는 파이로, 비둘 기고기나 닭고기를 넣고 계피와 설탕을 뿌려 만듭니다.\n",
      "독일 요리로는 슈니첼이 대표적인데, 송아지고기를 얇게 펴서 빵가루를 묻혀 튀긴 다음 레몬을 곁들여 먹습니다.\n",
      "아이스바인은 돼지 정강이를 삶아서 만드는 요리 로, 독일식 김치인 자우어크라우트를 곁들입니다.\n",
      "카세슈팟첸은 치즈를 듬뿍 넣은 수제 스파츨레 면에 구운 양파를 올려 만드는 소울푸드입니다.\n",
      "러시아 요리에서 보르시는 비트를 넣어 선명한 붉은색을 내는 수프로, 양배추와 감자, 당근 등 다양한 채소와 고기를 넣어 푹 끓입니다.\n",
      "피로시키는 밀가루 반죽 으로 만든 주머니에 고기나 감자, 양배추 등을 넣어 튀기거나 구워 만듭니다.\n",
      "올 리비에 샐러드는 삶은 감자, 당근, 완두콩, 달걀, 닭고기를 마요네즈로 버무린 러시아식 감자 샐러드입니다.\n"
     ]
    }
   ],
   "source": [
    "# sample_df = df.iloc[[1]]\n",
    "pretty_print_df(df.iloc[[0]])    \n",
    "# df.head(1).iloc[[0]].contexts.iloc[0]"
   ]
  },
  {
   "cell_type": "markdown",
   "metadata": {},
   "source": [
    "## 2. Test Data Set 생성"
   ]
  },
  {
   "cell_type": "markdown",
   "metadata": {},
   "source": [
    "#### Test Dataset 갯수 지정"
   ]
  },
  {
   "cell_type": "code",
   "execution_count": 4,
   "metadata": {},
   "outputs": [
    {
     "data": {
      "text/html": [
       "<div>\n",
       "<style scoped>\n",
       "    .dataframe tbody tr th:only-of-type {\n",
       "        vertical-align: middle;\n",
       "    }\n",
       "\n",
       "    .dataframe tbody tr th {\n",
       "        vertical-align: top;\n",
       "    }\n",
       "\n",
       "    .dataframe thead th {\n",
       "        text-align: right;\n",
       "    }\n",
       "</style>\n",
       "<table border=\"1\" class=\"dataframe\">\n",
       "  <thead>\n",
       "    <tr style=\"text-align: right;\">\n",
       "      <th></th>\n",
       "      <th>question</th>\n",
       "      <th>ground_truth</th>\n",
       "      <th>question_type</th>\n",
       "      <th>contexts</th>\n",
       "    </tr>\n",
       "  </thead>\n",
       "  <tbody>\n",
       "    <tr>\n",
       "      <th>0</th>\n",
       "      <td>지중해 연안 국가들의 요리 중 채식주의자와 육식주의자 모두를 만족시킬 수 있는 메뉴...</td>\n",
       "      <td>지중해 연안 국가들의 요리 중 채식주의자와 육식주의자 모두를 만족시킬 수 있는 메뉴...</td>\n",
       "      <td>complex</td>\n",
       "      <td>프랑스 요리로 더 살펴보면, 코코뱅은 닭고기를 레드와인에 장시간 끓여 만드는\\n전통...</td>\n",
       "    </tr>\n",
       "    <tr>\n",
       "      <th>1</th>\n",
       "      <td>팟타이는 어떤 재료로 만드나요?</td>\n",
       "      <td>팟타이는 쌀국수를 새우와 함께 볶고 땅콩가루를 뿌려 만듭니다.</td>\n",
       "      <td>simple</td>\n",
       "      <td>기와 달걀을 간장 베이스의 달달한 육수에 조려 밥 위에 올립니다.\\n중식으로는 마파...</td>\n",
       "    </tr>\n",
       "    <tr>\n",
       "      <th>2</th>\n",
       "      <td>한국, 이탈리아, 태국, 베트남 요리의 특징을 비교하며, 각 나라의 대표 요리에서 ...</td>\n",
       "      <td>한국, 이탈리아, 태국, 베트남 요리는 각각 고유한 특징을 가지고 있지만, 몇 가지...</td>\n",
       "      <td>complex</td>\n",
       "      <td>볶음요리로는 먼저 김치볶음밥이 있는데, 잘 익은 김치를 잘게 썰어 밥과 함께\\n볶다...</td>\n",
       "    </tr>\n",
       "    <tr>\n",
       "      <th>3</th>\n",
       "      <td>라자냐는 어떤 재료로 만들어지나요?</td>\n",
       "      <td>라자냐는 파스타면, 미트소스, 베샤멜 소스, 치즈를 층층이 쌓아 오븐에 구워 만듭니다.</td>\n",
       "      <td>simple</td>\n",
       "      <td>볶다가 뜨거운 육수를 조금씩 부어가며 천천히 익혀 만듭니다. 라자냐는 파스타\\n면과...</td>\n",
       "    </tr>\n",
       "    <tr>\n",
       "      <th>4</th>\n",
       "      <td>여러 나라의 요리법을 비교했을 때, 와인을 주요 재료로 사용하는 요리들의 공통점과 ...</td>\n",
       "      <td>와인을 주요 재료로 사용하는 요리들을 비교해보면, 프랑스의 비프 부르기뇽과 코코뱅이...</td>\n",
       "      <td>complex</td>\n",
       "      <td>요리입니다. 어향육슬은 돼지고기를 채썰어 매콤새콤한 소스로 볶아내고, 팔보채\\n는 ...</td>\n",
       "    </tr>\n",
       "  </tbody>\n",
       "</table>\n",
       "</div>"
      ],
      "text/plain": [
       "                                            question  \\\n",
       "0  지중해 연안 국가들의 요리 중 채식주의자와 육식주의자 모두를 만족시킬 수 있는 메뉴...   \n",
       "1                                  팟타이는 어떤 재료로 만드나요?   \n",
       "2  한국, 이탈리아, 태국, 베트남 요리의 특징을 비교하며, 각 나라의 대표 요리에서 ...   \n",
       "3                                라자냐는 어떤 재료로 만들어지나요?   \n",
       "4  여러 나라의 요리법을 비교했을 때, 와인을 주요 재료로 사용하는 요리들의 공통점과 ...   \n",
       "\n",
       "                                        ground_truth question_type  \\\n",
       "0  지중해 연안 국가들의 요리 중 채식주의자와 육식주의자 모두를 만족시킬 수 있는 메뉴...       complex   \n",
       "1                 팟타이는 쌀국수를 새우와 함께 볶고 땅콩가루를 뿌려 만듭니다.        simple   \n",
       "2  한국, 이탈리아, 태국, 베트남 요리는 각각 고유한 특징을 가지고 있지만, 몇 가지...       complex   \n",
       "3   라자냐는 파스타면, 미트소스, 베샤멜 소스, 치즈를 층층이 쌓아 오븐에 구워 만듭니다.        simple   \n",
       "4  와인을 주요 재료로 사용하는 요리들을 비교해보면, 프랑스의 비프 부르기뇽과 코코뱅이...       complex   \n",
       "\n",
       "                                            contexts  \n",
       "0  프랑스 요리로 더 살펴보면, 코코뱅은 닭고기를 레드와인에 장시간 끓여 만드는\\n전통...  \n",
       "1  기와 달걀을 간장 베이스의 달달한 육수에 조려 밥 위에 올립니다.\\n중식으로는 마파...  \n",
       "2  볶음요리로는 먼저 김치볶음밥이 있는데, 잘 익은 김치를 잘게 썰어 밥과 함께\\n볶다...  \n",
       "3  볶다가 뜨거운 육수를 조금씩 부어가며 천천히 익혀 만듭니다. 라자냐는 파스타\\n면과...  \n",
       "4  요리입니다. 어향육슬은 돼지고기를 채썰어 매콤새콤한 소스로 볶아내고, 팔보채\\n는 ...  "
      ]
     },
     "execution_count": 4,
     "metadata": {},
     "output_type": "execute_result"
    }
   ],
   "source": [
    "subset_length=5\n",
    "df.head(subset_length)"
   ]
  },
  {
   "cell_type": "code",
   "execution_count": 5,
   "metadata": {},
   "outputs": [
    {
     "name": "stderr",
     "output_type": "stream",
     "text": [
      "Map: 100%|██████████| 5/5 [00:00<00:00, 1248.60 examples/s]"
     ]
    },
    {
     "name": "stdout",
     "output_type": "stream",
     "text": [
      "Error: invalid syntax (<unknown>, line 1)\n",
      "Error: invalid syntax (<unknown>, line 1)\n",
      "Error: invalid syntax (<unknown>, line 1)\n",
      "Error: invalid syntax (<unknown>, line 1)\n",
      "Error: invalid syntax (<unknown>, line 1)\n",
      "Dataset({\n",
      "    features: ['question', 'ground_truth', 'question_type', 'contexts'],\n",
      "    num_rows: 5\n",
      "})\n"
     ]
    },
    {
     "name": "stderr",
     "output_type": "stream",
     "text": [
      "\n"
     ]
    }
   ],
   "source": [
    "from datasets import Dataset\n",
    "\n",
    "test_dataset = Dataset.from_pandas(df.head(subset_length))\n",
    "test_dataset = test_dataset.map(convert_to_list)\n",
    "print(test_dataset)"
   ]
  },
  {
   "cell_type": "code",
   "execution_count": 6,
   "metadata": {},
   "outputs": [
    {
     "data": {
      "text/plain": [
       "{'question': '지중해 연안 국가들의 요리 중 채식주의자와 육식주의자 모두를 만족시킬 수 있는 메뉴 구성을 제안한다면, 어떤 요리들을 선택하고 그 이유는 무엇인가요?',\n",
       " 'ground_truth': '지중해 연안 국가들의 요리 중 채식주의자와 육식주의자 모두를 만족시킬 수 있는 메뉴 구성은 다음과 같습니다:\\n\\n1. 프랑스의 라타투이: 가지, 토마토, 호박, 파프리카 등 다양한 채소로 만든 채식 요리로, 채식주의자에게 적합합니다.\\n\\n2. 스페인의 가스파초: 토마토, 오이, 피망으로 만든 차가운 스프로, 채식주의자도 즐길 수 있는 상큼한 요리입니다.\\n\\n3. 그리스의 무사카: 가지와 다진 고기를 층층이 쌓아 만드는 요리로, 육식주의자를 위한 선택입니다. 채식 버전으로 변형도 가능합니다.\\n\\n4. 모로코의 쿠스쿠스: 밀가루로 만든 알갱이에 채소를 얹어 먹는 요리로, 고기를 별도로 제공하여 선택적으로 먹을 수 있게 합니다.\\n\\n5. 스페인의 빠에야: 해산물과 채소를 넣은 쌀 요리로, 해산물을 먹는 사람과 채식주의자 모두에게 적합합니다.\\n\\n이러한 구성은 다양한 식단 선호도를 고려하면서도 지중해 요리의 특색을 잘 보여줍니다. 채식 옵션과 육류 옵션을 동시에 제공하여 모든 식성의 사람들을 만족시킬 수 있으며, 각 요리의 재료와 조리법을 조절하여 개인의 선호에 맞출 수 있는 유연성도 갖추고 있습니다.',\n",
       " 'question_type': 'complex',\n",
       " 'contexts': '프랑스 요리로 더 살펴보면, 코코뱅은 닭고기를 레드와인에 장시간 끓여 만드는\\n전통 요리입니다. 와인의 풍미가 닭고기에 깊이 배어들어 독특한 맛을 자아내며,\\n양파와 버섯, 베이컨을 함께 넣어 풍성한 맛을 더합니다. 라타투이는 가지, 토마\\n토, 호박, 파프리카 등 지중해 채소들을 올리브유로 천천히 익혀 만드는 프로방\\n스 지방의 대표적인 채식 요리입니다. 끼슈는 버터가 듬뿍 들어간 파이 반죽 위\\n에 달걀과 크림을 섞은 커스터드를 붓고 베이컨, 치즈, 채소를 넣어 구워내는 고\\n소한 요리입니다.\\n스페인 요리에서는 빠에야가 유명한데, 사프란으로 노란빛을 낸 쌀에 해산물과 토\\n마토, 완두콩을 넣고 특별한 빠에야 팬에서 구수하게 볶아냅니다. 가스파초는 토\\n마토와 오이, 피망을 갈아서 만드는 차가운 스프로, 더운 여름에 즐기기 좋은 상\\n큼한 요리입니다. 또한 감바스 알 아히요는 마늘과 올리브유에 새우를 볶아 만드\\n는 간단하지만 맛있는 타파스 요리입니다.\\n 그리스 요리로는 무사카가 대표적입니다. 가지와 다진 고기를 층층이 쌓고 베샤멜\\n소스를 부어 오븐에 구워내는데, 마치 그리스 버전의 라자냐와 같습니다. 수블라\\n키는 돼지고기를 레몬과 허브로 마리네이드해서 꼬치에 꿰어 구운 다음 피타빵에\\n싸서 먹는 길거리 음식입니다. 돌마데스는 포도잎으로 밥과 다진 고기를 싸서 찐\\n다음 레몬소스를 곁들이는 전통 요리입니다.\\n그리스 요리로는 무사카가 대표적입니다. 가지와 다진 고기를 층층이 쌓고 베샤멜\\n소스를 부어 오븐에 구워내는데, 마치 그리스 버전의 라자냐와 같습니다. 수블라\\n키는 돼지고기를 레몬과 허브로 마리네이드해서 꼬치에 꿰어 구운 다음 피타빵에\\n싸서 먹는 길거리 음식입니다. 돌마데스는 포도잎으로 밥과 다진 고기를 싸서 찐\\n다음 레몬소스를 곁들이는 전통 요리입니다.\\n모로코 요리에서는 타진이 유명합니다. 원뿔 모양의 뚜껑이 있는 특별한 그릇에서\\n양고기나 닭고기를 채소, 건과일, 올리브와 함께 향신료를 넣어 천천히 조리합니\\n 다. 쿠스쿠스는 잘게 빻은 밀가루로 만든 알갱이에 채소와 고기를 얹어 먹는 북\\n아프리카의 주식입니다. 파스티야는 달콤하면서도 짭짤한 맛이 나는 파이로, 비둘\\n기고기나 닭고기를 넣고 계피와 설탕을 뿌려 만듭니다.\\n독일 요리로는 슈니첼이 대표적인데, 송아지고기를 얇게 펴서 빵가루를 묻혀 튀긴\\n다음 레몬을 곁들여 먹습니다. 아이스바인은 돼지 정강이를 삶아서 만드는 요리\\n로, 독일식 김치인 자우어크라우트를 곁들입니다. 카세슈팟첸은 치즈를 듬뿍 넣은\\n수제 스파츨레 면에 구운 양파를 올려 만드는 소울푸드입니다.\\n러시아 요리에서 보르시는 비트를 넣어 선명한 붉은색을 내는 수프로, 양배추와\\n감자, 당근 등 다양한 채소와 고기를 넣어 푹 끓입니다. 피로시키는 밀가루 반죽\\n으로 만든 주머니에 고기나 감자, 양배추 등을 넣어 튀기거나 구워 만듭니다. 올\\n리비에 샐러드는 삶은 감자, 당근, 완두콩, 달걀, 닭고기를 마요네즈로 버무린\\n러시아식 감자 샐러드입니다.'}"
      ]
     },
     "execution_count": 6,
     "metadata": {},
     "output_type": "execute_result"
    }
   ],
   "source": [
    "test_dataset[0]"
   ]
  },
  {
   "cell_type": "markdown",
   "metadata": {},
   "source": [
    "# 3. Amazon Bedrock KB 생성\n",
    "\n",
    "이 테스트 데이터셋은 문서 검색과 응답 생성을 결합하는 RAG 파이프라인에서 실제 쿼리를 시뮬레이션하는 데 사용됩니다.\n",
    "\n",
    "여기서는 RAG 구성의 일부로 Amazon Bedrock의 KnowledgeBase에 대한 기본 설정을 사용하고 있습니다.\n",
    "\n",
    "_1. 아래 코드로 테스트하려면 Amazon Bedrock 콘솔에서 KnowledgeBase가 사전 구성되어 있어야 합니다_\n",
    "\n",
    "_2. 평가하고자 하는 특정 RAG 파이프라인이 있다면 아래 셀을 적절히 수정하시기 바랍니다_"
   ]
  },
  {
   "cell_type": "markdown",
   "metadata": {},
   "source": [
    "## 3.1 컨텍스트를 KB로 부터 가져오기"
   ]
  },
  {
   "cell_type": "code",
   "execution_count": 7,
   "metadata": {},
   "outputs": [
    {
     "name": "stdout",
     "output_type": "stream",
     "text": [
      "Question:\n",
      " 지중해 연안 국가들의 요리 중 채식주의자와 육식주의자 모두를 만족시킬 수 있는 메뉴 구성을 제안한다면, 어떤 요리들을 선택하고 그 이유는 무엇인가요?\n",
      "Context from Amazon KB:\n",
      "인도 요리로는 버터치킨이 있는데, 요거트로 마리네이드한 닭고기를 탄두르에 구 워 토마토와 버터가 들어간 크리미한 커리 소스에 조려냅니다.\n",
      "팔락 파니르는 시 금치 커리에 인도식 치즈인 파니르를 넣어 만드는 채식 요리이고, 달 마크니는 렌틸콩을 버터와 크림으로 맛있게 조리한 요리입니다.중동 요리에서는 샤워마가 유명한데, 양고기나 닭고기를 특제 향신료에 재워 수직 으로 구워 얇게 썰어 피타빵에 싸먹습니다.\n",
      "팔라펠은 병아리콩으로 만든 완자를 튀겨서 피타빵에 채소와 함께 넣어 먹습니다.\n",
      "후무스는 병아리콩을 갈아서 타히 니, 레몬즙, 올리브오일과 함께 섞어 만드는 디핑소스입니다.\n",
      "한식으로 돌아와서, 갈비찜은 소갈비를 간장 베이스의 달달한 양념으로 푹 조려내 는 요리입니다.\n",
      "닭갈비는 닭고기를 고추장 양념에 채소와 함께 볶아 치즈를 올려 먹는 요리이고, 족발은 돼지 앞다리를 향신료와 함께 오래 삶아 쫄깃하게 만듭니 다.\n",
      "일식을 더 보면, 규동은 소고기를 달달한 간장 소스로 조려서 밥 위에 올리는 덮 밥입니다.\n",
      "라멘은 진한 육수에 중국식 면을 넣고 차슈와 면발, 죽은 달걀을 올려 먹는 국수이고, 우동은 굵은 밀가루 면을 간장 베이스의 국물에 담아 먹습니다.\n",
      "중식으로는 양장피가 있는데, 해파리와 각종 채소, 고기를 참기름 소스에 무치는 요리입니다.\n",
      "어향육슬은 돼지고기를 채썰어 매콤새콤한 소스로 볶아내고, 팔보채 는 해산물과 채소를 굴소스로 볶아내는 고급 요리입니다.\n",
      "동남아 요리로, 나시고랭은 인도네시아식 볶음밥으로 새우페이스트로 맛을 내는 것이 특징입니다.\n",
      "락사는 코코넛 커리 수프에 면을 넣어 먹는 싱가포르의 대표 요리이고, 할라이는 태국식 바비큐 치킨으로 코코넛밀크에 재워 구워냅니다.\n",
      "서양요리로 더 들어가면, 비프 스트로가노프는 소고기를 버섯과 함께 사워크림 소 스에 조리하는 러시아 요리입니다.\n",
      "코틀렛은 다진 고기를 둥글납작하게 빚어 튀겨 내는 동유럽식 돈까스이고, 비프 부르기뇽은 소고기를 레드와인으로 오래 끓여 만 드는 프랑스 요리입니다.\n",
      "퓨전요리도 있는데, 김치 파스타는 김치를 다져서 파스타와 함께 볶아내는 한국식 퓨전 파스타입니다.\n",
      "불고기 피자는 한국의 불고기를 피자 토핑으로 활용한 퓨전 요리이고, 타코라이스는 멕시코 타코의 속재료를 밥과 함께 먹는 일본식 퓨전요리 입니다.\n",
      "프랑스 요리로 더 살펴보면, 코코뱅은 닭고기를 레드와인에 장시간 끓여 만드는 전통 요리입니다.\n",
      "와인의 풍미가 닭고기에 깊이 배어들어 독특한 맛을 자아내며, 양파와 버섯, 베이컨을 함께 넣어 풍성한 맛을 더합니다.\n",
      "라타투이는 가지, 토마 토, 호박, 파프리카 등 지중해 채소들을 올리브유로 천천히 익혀 만드는 프로방 스 지방의 대표적인 채식 요리입니다.\n",
      "-- 끼슈는 버터가 듬뿍 들어간 파이 반죽 위 에 달걀과 크림을 섞은 커스터드를 붓고 베이컨, 치즈, 채소를 넣어 구워내는 고 소한 요리입니다.\n",
      "스페인 요리에서는 빠에야가 유명한데, 사프란으로 노란빛을 낸 쌀에 해산물과 토 마토, 완두콩을 넣고 특별한 빠에야 팬에서 구수하게 볶아냅니다.\n",
      "가스파초는 토 마토와 오이, 피망을 갈아서 만드는 차가운 스프로, 더운 여름에 즐기기 좋은 상 큼한 요리입니다.\n",
      "또한 감바스 알 아히요는 마늘과 올리브유에 새우를 볶아 만드 는 간단하지만 맛있는 타파스 요리입니다.\n",
      "그리스 요리로는 무사카가 대표적입니다.\n",
      "가지와 다진 고기를 층층이 쌓고 베샤멜 소스를 부어 오븐에 구워내는데, 마치 그리스 버전의 라자냐와 같습니다.\n",
      "수블라 키는 돼지고기를 레몬과 허브로 마리네이드해서 꼬치에 꿰어 구운 다음 피타빵에 싸서 먹는 길거리 음식입니다.\n",
      "돌마데스는 포도잎으로 밥과 다진 고기를 싸서 찐 다음 레몬소스를 곁들이는 전통 요리입니다.그리스 요리로는 무사카가 대표적입니다.\n",
      "가지와 다진 고기를 층층이 쌓고 베샤멜 소스를 부어 오븐에 구워내는데, 마치 그리스 버전의 라자냐와 같습니다.\n",
      "수블라 키는 돼지고기를 레몬과 허브로 마리네이드해서 꼬치에 꿰어 구운 다음 피타빵에 싸서 먹는 길거리 음식입니다.\n",
      "돌마데스는 포도잎으로 밥과 다진 고기를 싸서 찐 다음 레몬소스를 곁들이는 전통 요리입니다.\n",
      "모로코 요리에서는 타진이 유명합니다.\n",
      "원뿔 모양의 뚜껑이 있는 특별한 그릇에서 양고기나 닭고기를 채소, 건과일, 올리브와 함께 향신료를 넣어 천천히 조리합니 다.\n",
      "쿠스쿠스는 잘게 빻은 밀가루로 만든 알갱이에 채소와 고기를 얹어 먹는 북 아프리카의 주식입니다.\n",
      "파스티야는 달콤하면서도 짭짤한 맛이 나는 파이로, 비둘 기고기나 닭고기를 넣고 계피와 설탕을 뿌려 만듭니다.\n",
      "독일 요리로는 슈니첼이 대표적인데, 송아지고기를 얇게 펴서 빵가루를 묻혀 튀긴 다음 레몬을 곁들여 먹습니다.\n",
      "아이스바인은 돼지 정강이를 삶아서 만드는 요리 로, 독일식 김치인 자우어크라우트를 곁들입니다.\n",
      "카세슈팟첸은 치즈를 듬뿍 넣은 수제 스파츨레 면에 구운 양파를 올려 만드는 소울푸드입니다.\n",
      "러시아 요리에서 보르시는 비트를 넣어 선명한 붉은색을 내는 수프로, 양배추와 감자, 당근 등 다양한 채소와 고기를 넣어 푹 끓입니다.\n",
      "피로시키는 밀가루 반죽 으로 만든 주머니에 고기나 감자, 양배추 등을 넣어 튀기거나 구워 만듭니다.\n",
      "올 리비에 샐러드는 삶은 감자, 당근, 완두콩, 달걀, 닭고기를 마요네즈로 버무린 러시아식 감자 샐러드입니다.\n",
      "None\n"
     ]
    }
   ],
   "source": [
    "# RAG implementation sample 1 (Replace with RAG pipeline for evaluation)\n",
    "from libs.bedrock_kb_util import context_retrieval_from_kb\n",
    "\n",
    "amazon_kb_id = 'RAILTN1YDB'\n",
    "\n",
    "question = test_dataset[0]['question']\n",
    "# question = test_dataset[1]['question']\n",
    "print(\"Question:\\n\", question)\n",
    "search_result = context_retrieval_from_kb(question, 3, 'us-west-2', amazon_kb_id, 'SEMANTIC')\n",
    "# print(\"search_result[0]:\", search_result[0])\n",
    "\n",
    "contexts = \"\\n--\\n\".join([result['content'] for result in search_result])\n",
    "print(\"Context from Amazon KB:\")\n",
    "print(format_text(contexts))\n",
    "# print_formatted_text(contexts)"
   ]
  },
  {
   "cell_type": "markdown",
   "metadata": {},
   "source": [
    "## 3.2 KB로 부터 Context를 LLM 을 통한 답변 생성\n",
    "여기서는 검색된 컨텍스트를 기반으로 답변을 생성하고 있습니다."
   ]
  },
  {
   "cell_type": "code",
   "execution_count": 8,
   "metadata": {},
   "outputs": [
    {
     "name": "stdout",
     "output_type": "stream",
     "text": [
      "Question: \n",
      " 지중해 연안 국가들의 요리 중 채식주의자와 육식주의자 모두를 만족시킬 수 있는 메뉴 구성을 제안한다면, 어떤 요리들을 선택하고 그 이유는 무엇인가요?\n",
      "Answer: \n",
      "지중해 연안 국가들의 요리 중에서 채식주의자와 육식주의자를 모두 만족시킬 수 있는 메뉴로 다음과 같은 요리들을 추천할 수 있습니다:\n",
      "\n",
      "1. 라타투이 (프랑스):\n",
      "- 채식주의자를 위한 메뉴로, 가지, 토마토, 호박, 파프리카 등 지중해 채소들을 올리브유로 천천히 익혀 만드는 채식 요리입니다.\n",
      "- 풍부한 채소와 올리브유로 만들어 영양가 높고 맛있는 요리입니다.\n",
      "\n",
      "2. 수블라키 (그리스):\n",
      "- 육식주의자를 위한 메뉴로, 돼지고기를 레몬과 허브로 마리네이드해 꼬치에 꿰어 구워 피타빵에 싸 먹는 요리입니다.\n",
      "- 채식주의자의 경우 피타빵과 허브 마리네이드 소스를 이용해 채소나 식물성 단백질로 대체할 수 있습니다.\n",
      "\n",
      "3. 가스파초 (스페인):\n",
      "- 토마토와 오이, 피망을 갈아서 만드는 차가운 스프로, 채식주의자와 육식주의자 모두에게 적합합니다.\n",
      "- 여름철 상큼하고 건강한 요리로, 필요시 고기나 해산물을 곁들일 수 있습니다.\n",
      "\n",
      "이 메뉴들은 풍부한 채소, 허브, 올리브오일을 사용하여 건강하고 맛있으며, 개인의 식단에 따라 쉽게 변형할 수 있는 다재다능한 요리들입니다.\n"
     ]
    }
   ],
   "source": [
    "import boto3\n",
    "from botocore.config import Config\n",
    "\n",
    "# model_id = \"anthropic.claude-3-5-sonnet-20240620-v1:0\"\n",
    "model_id = \"anthropic.claude-3-5-haiku-20241022-v1:0\"\n",
    "region = 'us-west-2'\n",
    "\n",
    "retry_config = Config(\n",
    "    region_name=region,\n",
    "    retries={\"max_attempts\": 10, \"mode\": \"standard\"}\n",
    ")\n",
    "boto3_client = boto3.client(\"bedrock-runtime\", config=retry_config)\n",
    "answer = generate_answer(question, contexts, boto3_client, model_id)\n",
    "print(\"Question: \\n\", question)\n",
    "print(\"Answer: \")\n",
    "print_formatted_text(answer)\n"
   ]
  },
  {
   "cell_type": "markdown",
   "metadata": {},
   "source": [
    "# 4. Text Dataset 의 모든 샘플 질문에 대해 KB로 부터 Context 를 얻고 LLM 통해 답변 얻기\n",
    "\n",
    "이 섹션에서는 컨텍스트 검색부터 답변 생성까지 전체 파이프라인을 샘플 질문들에 대해 실행합니다."
   ]
  },
  {
   "cell_type": "markdown",
   "metadata": {},
   "source": [
    "### 4.1 파라미터 설정"
   ]
  },
  {
   "cell_type": "code",
   "execution_count": 25,
   "metadata": {},
   "outputs": [],
   "source": [
    "kb_region = 'us-west-2'\n",
    "model_id = \"anthropic.claude-3-5-sonnet-20240620-v1:0\"\n",
    "# model_id = \"anthropic.claude-3-5-haiku-20241022-v1:0\"\n",
    "kb_id = amazon_kb_id\n",
    "top_k = 3"
   ]
  },
  {
   "cell_type": "markdown",
   "metadata": {},
   "source": [
    "### 4.2 KB 로 부터 Context 얻고, LLM 답변 생성"
   ]
  },
  {
   "cell_type": "code",
   "execution_count": 26,
   "metadata": {},
   "outputs": [
    {
     "name": "stderr",
     "output_type": "stream",
     "text": [
      "Map:   0%|          | 0/5 [00:00<?, ? examples/s]"
     ]
    },
    {
     "name": "stderr",
     "output_type": "stream",
     "text": [
      "Map: 100%|██████████| 5/5 [01:21<00:00, 16.33s/ examples]\n"
     ]
    }
   ],
   "source": [
    "from time import sleep\n",
    "\n",
    "def process_item(item):\n",
    "    sleep(5)  # Prevent throttling\n",
    "    question = item['question']\n",
    "    search_result = context_retrieval_from_kb(question, top_k, kb_region, kb_id, 'SEMANTIC')\n",
    "\n",
    "    contexts = [result['content'] for result in search_result]\n",
    "    answer = generate_answer(question, \"\\n--\\n\".join(contexts), boto3_client, model_id)\n",
    "\n",
    "    return {\n",
    "        'question': item['question'],\n",
    "        'ground_truth': item['ground_truth'],\n",
    "        'original_contexts': item['contexts'],\n",
    "        'retrieved_contexts': contexts,\n",
    "        'answer': answer\n",
    "    }\n",
    "\n",
    "updated_dataset = test_dataset.map(process_item, remove_columns=test_dataset.column_names)  # 기존의 모든 컬럼 제거)"
   ]
  },
  {
   "cell_type": "code",
   "execution_count": 27,
   "metadata": {},
   "outputs": [
    {
     "data": {
      "text/plain": [
       "Dataset({\n",
       "    features: ['question', 'ground_truth', 'original_contexts', 'retrieved_contexts', 'answer'],\n",
       "    num_rows: 5\n",
       "})"
      ]
     },
     "execution_count": 27,
     "metadata": {},
     "output_type": "execute_result"
    }
   ],
   "source": [
    "updated_dataset"
   ]
  },
  {
   "cell_type": "markdown",
   "metadata": {},
   "source": [
    "# 5. RAGAS Rag 평가 수행"
   ]
  },
  {
   "cell_type": "markdown",
   "metadata": {},
   "source": [
    "## 5.1. RAGAS 래핑 모델 생성"
   ]
  },
  {
   "cell_type": "code",
   "execution_count": 28,
   "metadata": {},
   "outputs": [],
   "source": [
    "# model_id = \"anthropic.claude-3-5-sonnet-20240620-v1:0\"\n",
    "model_id = \"anthropic.claude-3-5-haiku-20241022-v1:0\"\n",
    "# emb_model_id = \"us.amazon.nova-micro-v1:0\"\n",
    "emb_model_id = \"amazon.titan-embed-text-v2:0\""
   ]
  },
  {
   "cell_type": "code",
   "execution_count": 29,
   "metadata": {},
   "outputs": [],
   "source": [
    "import boto3\n",
    "from datasets import Dataset\n",
    "\n",
    "from langchain_aws import ChatBedrockConverse\n",
    "from ragas import evaluate\n",
    "\n",
    "# Bedrock 클라이언트 설정\n",
    "bedrock_client = boto3.client(\n",
    "    service_name='bedrock-runtime',\n",
    "    region_name='us-west-2'\n",
    ")\n",
    "\n",
    "from ragas.llms import LangchainLLMWrapper\n",
    "\n",
    "evaluator_llm = LangchainLLMWrapper(ChatBedrockConverse(\n",
    "    model= model_id, \n",
    "    client=bedrock_client,\n",
    "))\n",
    "\n",
    "from langchain_community.embeddings import BedrockEmbeddings\n",
    "# from ragas.embeddings import LangchainEmbeddingWrapper\n",
    "from ragas.embeddings import LangchainEmbeddingsWrapper\n",
    "\n",
    "# Bedrock Embeddings 설정\n",
    "base_embeddings = BedrockEmbeddings(\n",
    "    client=bedrock_client,\n",
    "    model_id= emb_model_id\n",
    ")\n",
    "\n",
    "# RAGAS Wrapper로 감싸기\n",
    "evaluator_embeddings = LangchainEmbeddingsWrapper(base_embeddings)"
   ]
  },
  {
   "cell_type": "markdown",
   "metadata": {},
   "source": [
    "### 5.2. 평가용 데이터셋 생성"
   ]
  },
  {
   "cell_type": "code",
   "execution_count": 30,
   "metadata": {},
   "outputs": [
    {
     "name": "stderr",
     "output_type": "stream",
     "text": [
      "Map: 100%|██████████| 5/5 [00:00<00:00, 1073.15 examples/s]\n"
     ]
    },
    {
     "data": {
      "text/plain": [
       "Dataset({\n",
       "    features: ['question', 'ground_truth', 'answer', 'contexts'],\n",
       "    num_rows: 5\n",
       "})"
      ]
     },
     "execution_count": 30,
     "metadata": {},
     "output_type": "execute_result"
    }
   ],
   "source": [
    "def prepare_ragas_evaluation_dataset(example):\n",
    "    return {\n",
    "        \"question\": example[\"question\"],\n",
    "        \"answer\": example[\"answer\"],\n",
    "        \"contexts\": example[\"retrieved_contexts\"],\n",
    "        \"ground_truth\": example[\"ground_truth\"]\n",
    "    }\n",
    "\n",
    "data = [{\n",
    "    \"question\": \"파이썬이란 무엇인가요?\",\n",
    "    \"ground_truth\": \"파이썬은 쉽고 간결한 프로그래밍 언어입니다.\",\n",
    "    \"retrieved_contexts\": [\"파이썬은 프로그래밍 언어입니다.\", \"파이썬은 읽기 쉽고 간결합니다.\"],\n",
    "    \"generated_answer\": \"파이썬은 읽기 쉽고 간결한 프로그래밍 언어입니다.\"\n",
    "}]\n",
    "# dataset = Dataset.from_list(data)\n",
    "\n",
    "\n",
    "# 2. RAGAS 평가용 데이터셋 포맷으로 변환\n",
    "eval_dataset = updated_dataset.map(\n",
    "    prepare_ragas_evaluation_dataset,\n",
    "    remove_columns=updated_dataset.column_names\n",
    ")\n",
    "eval_dataset\n"
   ]
  },
  {
   "cell_type": "markdown",
   "metadata": {},
   "source": [
    "### 5.2. 평가 메트릭으로 정의 후 실행"
   ]
  },
  {
   "cell_type": "code",
   "execution_count": 31,
   "metadata": {},
   "outputs": [
    {
     "name": "stderr",
     "output_type": "stream",
     "text": [
      "Evaluating: 100%|██████████| 20/20 [02:02<00:00,  6.11s/it]\n"
     ]
    },
    {
     "data": {
      "text/plain": [
       "{'faithfulness': 0.6141, 'answer_relevancy': 0.3492, 'context_recall': 0.7584, 'context_precision': 0.7000}"
      ]
     },
     "execution_count": 31,
     "metadata": {},
     "output_type": "execute_result"
    }
   ],
   "source": [
    "from ragas.metrics import (\n",
    "    Faithfulness,\n",
    "    AnswerRelevancy,\n",
    "    ContextRecall,\n",
    "    ContextPrecision\n",
    ")\n",
    "# 먼저 Faithfulness만 테스트\n",
    "try:\n",
    "    metrics = [\n",
    "                Faithfulness(llm=evaluator_llm),\n",
    "                AnswerRelevancy(llm=evaluator_llm, embeddings= evaluator_embeddings),\n",
    "                ContextRecall(llm=evaluator_llm),\n",
    "                ContextPrecision(llm=evaluator_llm),\n",
    "    ]\n",
    "    \n",
    "    # 평가 실행a\n",
    "    results = evaluate(\n",
    "        eval_dataset,\n",
    "        metrics=metrics,\n",
    "        # show_individual_scores=True  # 이 부분이 추가됨\n",
    "    )\n",
    "    \n",
    "except Exception as e:\n",
    "    print(f\"Error occurred: {str(e)}\")\n",
    "    print(f\"Error type: {type(e)}\")\n",
    "\n",
    "results"
   ]
  },
  {
   "cell_type": "code",
   "execution_count": 34,
   "metadata": {},
   "outputs": [
    {
     "data": {
      "text/html": [
       "<div>\n",
       "<style scoped>\n",
       "    .dataframe tbody tr th:only-of-type {\n",
       "        vertical-align: middle;\n",
       "    }\n",
       "\n",
       "    .dataframe tbody tr th {\n",
       "        vertical-align: top;\n",
       "    }\n",
       "\n",
       "    .dataframe thead th {\n",
       "        text-align: right;\n",
       "    }\n",
       "</style>\n",
       "<table border=\"1\" class=\"dataframe\">\n",
       "  <thead>\n",
       "    <tr style=\"text-align: right;\">\n",
       "      <th></th>\n",
       "      <th>user_input</th>\n",
       "      <th>retrieved_contexts</th>\n",
       "      <th>response</th>\n",
       "      <th>reference</th>\n",
       "      <th>faithfulness</th>\n",
       "      <th>answer_relevancy</th>\n",
       "      <th>context_recall</th>\n",
       "      <th>context_precision</th>\n",
       "    </tr>\n",
       "  </thead>\n",
       "  <tbody>\n",
       "    <tr>\n",
       "      <th>0</th>\n",
       "      <td>지중해 연안 국가들의 요리 중 채식주의자와 육식주의자 모두를 만족시킬 수 있는 메뉴...</td>\n",
       "      <td>[인도 요리로는 버터치킨이 있는데, 요거트로 마리네이드한 닭고기를 탄두르에 구 워 ...</td>\n",
       "      <td>주어진 맥락을 바탕으로 지중해 연안 국가들의 요리 중 채식주의자와 육식주의자 모두를...</td>\n",
       "      <td>지중해 연안 국가들의 요리 중 채식주의자와 육식주의자 모두를 만족시킬 수 있는 메뉴...</td>\n",
       "      <td>0.416667</td>\n",
       "      <td>0.443110</td>\n",
       "      <td>1.000000</td>\n",
       "      <td>0.5</td>\n",
       "    </tr>\n",
       "    <tr>\n",
       "      <th>1</th>\n",
       "      <td>팟타이는 어떤 재료로 만드나요?</td>\n",
       "      <td>[인도 요리로는 버터치킨이 있는데, 요거트로 마리네이드한 닭고기를 탄두르에 구 워 ...</td>\n",
       "      <td>팟타이는 다음과 같은 재료로 만듭니다:\\n\\n1. 쌀국수\\n2. 새우\\n3. 땅콩가...</td>\n",
       "      <td>팟타이는 쌀국수를 새우와 함께 볶고 땅콩가루를 뿌려 만듭니다.</td>\n",
       "      <td>0.857143</td>\n",
       "      <td>0.170719</td>\n",
       "      <td>1.000000</td>\n",
       "      <td>0.5</td>\n",
       "    </tr>\n",
       "    <tr>\n",
       "      <th>2</th>\n",
       "      <td>한국, 이탈리아, 태국, 베트남 요리의 특징을 비교하며, 각 나라의 대표 요리에서 ...</td>\n",
       "      <td>[볶음요리로는 먼저 김치볶음밥이 있는데, 잘 익은 김치를 잘게 썰어 밥과 함께 볶다...</td>\n",
       "      <td>주어진 맥락을 바탕으로 한국, 이탈리아, 태국, 베트남 요리의 특징과 공통점을 비교...</td>\n",
       "      <td>한국, 이탈리아, 태국, 베트남 요리는 각각 고유한 특징을 가지고 있지만, 몇 가지...</td>\n",
       "      <td>0.666667</td>\n",
       "      <td>0.602608</td>\n",
       "      <td>0.363636</td>\n",
       "      <td>1.0</td>\n",
       "    </tr>\n",
       "    <tr>\n",
       "      <th>3</th>\n",
       "      <td>라자냐는 어떤 재료로 만들어지나요?</td>\n",
       "      <td>[볶음요리로는 먼저 김치볶음밥이 있는데, 잘 익은 김치를 잘게 썰어 밥과 함께 볶다...</td>\n",
       "      <td>라자냐는 다음과 같은 재료로 만들어집니다:\\n\\n1. 파스타 면\\n2. 미트소스\\n...</td>\n",
       "      <td>라자냐는 파스타면, 미트소스, 베샤멜 소스, 치즈를 층층이 쌓아 오븐에 구워 만듭니다.</td>\n",
       "      <td>0.857143</td>\n",
       "      <td>0.225613</td>\n",
       "      <td>1.000000</td>\n",
       "      <td>1.0</td>\n",
       "    </tr>\n",
       "    <tr>\n",
       "      <th>4</th>\n",
       "      <td>여러 나라의 요리법을 비교했을 때, 와인을 주요 재료로 사용하는 요리들의 공통점과 ...</td>\n",
       "      <td>[끼슈는 버터가 듬뿍 들어간 파이 반죽 위 에 달걀과 크림을 섞은 커스터드를 붓고 ...</td>\n",
       "      <td>주어진 맥락에서 와인을 주요 재료로 사용하는 요리들에 대한 정보를 찾아보면 다음과 ...</td>\n",
       "      <td>와인을 주요 재료로 사용하는 요리들을 비교해보면, 프랑스의 비프 부르기뇽과 코코뱅이...</td>\n",
       "      <td>0.272727</td>\n",
       "      <td>0.303852</td>\n",
       "      <td>0.428571</td>\n",
       "      <td>0.5</td>\n",
       "    </tr>\n",
       "  </tbody>\n",
       "</table>\n",
       "</div>"
      ],
      "text/plain": [
       "                                          user_input  \\\n",
       "0  지중해 연안 국가들의 요리 중 채식주의자와 육식주의자 모두를 만족시킬 수 있는 메뉴...   \n",
       "1                                  팟타이는 어떤 재료로 만드나요?   \n",
       "2  한국, 이탈리아, 태국, 베트남 요리의 특징을 비교하며, 각 나라의 대표 요리에서 ...   \n",
       "3                                라자냐는 어떤 재료로 만들어지나요?   \n",
       "4  여러 나라의 요리법을 비교했을 때, 와인을 주요 재료로 사용하는 요리들의 공통점과 ...   \n",
       "\n",
       "                                  retrieved_contexts  \\\n",
       "0  [인도 요리로는 버터치킨이 있는데, 요거트로 마리네이드한 닭고기를 탄두르에 구 워 ...   \n",
       "1  [인도 요리로는 버터치킨이 있는데, 요거트로 마리네이드한 닭고기를 탄두르에 구 워 ...   \n",
       "2  [볶음요리로는 먼저 김치볶음밥이 있는데, 잘 익은 김치를 잘게 썰어 밥과 함께 볶다...   \n",
       "3  [볶음요리로는 먼저 김치볶음밥이 있는데, 잘 익은 김치를 잘게 썰어 밥과 함께 볶다...   \n",
       "4  [끼슈는 버터가 듬뿍 들어간 파이 반죽 위 에 달걀과 크림을 섞은 커스터드를 붓고 ...   \n",
       "\n",
       "                                            response  \\\n",
       "0  주어진 맥락을 바탕으로 지중해 연안 국가들의 요리 중 채식주의자와 육식주의자 모두를...   \n",
       "1  팟타이는 다음과 같은 재료로 만듭니다:\\n\\n1. 쌀국수\\n2. 새우\\n3. 땅콩가...   \n",
       "2  주어진 맥락을 바탕으로 한국, 이탈리아, 태국, 베트남 요리의 특징과 공통점을 비교...   \n",
       "3  라자냐는 다음과 같은 재료로 만들어집니다:\\n\\n1. 파스타 면\\n2. 미트소스\\n...   \n",
       "4  주어진 맥락에서 와인을 주요 재료로 사용하는 요리들에 대한 정보를 찾아보면 다음과 ...   \n",
       "\n",
       "                                           reference  faithfulness  \\\n",
       "0  지중해 연안 국가들의 요리 중 채식주의자와 육식주의자 모두를 만족시킬 수 있는 메뉴...      0.416667   \n",
       "1                 팟타이는 쌀국수를 새우와 함께 볶고 땅콩가루를 뿌려 만듭니다.      0.857143   \n",
       "2  한국, 이탈리아, 태국, 베트남 요리는 각각 고유한 특징을 가지고 있지만, 몇 가지...      0.666667   \n",
       "3   라자냐는 파스타면, 미트소스, 베샤멜 소스, 치즈를 층층이 쌓아 오븐에 구워 만듭니다.      0.857143   \n",
       "4  와인을 주요 재료로 사용하는 요리들을 비교해보면, 프랑스의 비프 부르기뇽과 코코뱅이...      0.272727   \n",
       "\n",
       "   answer_relevancy  context_recall  context_precision  \n",
       "0          0.443110        1.000000                0.5  \n",
       "1          0.170719        1.000000                0.5  \n",
       "2          0.602608        0.363636                1.0  \n",
       "3          0.225613        1.000000                1.0  \n",
       "4          0.303852        0.428571                0.5  "
      ]
     },
     "execution_count": 34,
     "metadata": {},
     "output_type": "execute_result"
    }
   ],
   "source": [
    "result_df = results.to_pandas()\n",
    "result_df"
   ]
  },
  {
   "cell_type": "markdown",
   "metadata": {},
   "source": [
    "### 5.3. 각각의 결과 보기"
   ]
  },
  {
   "cell_type": "code",
   "execution_count": 37,
   "metadata": {},
   "outputs": [
    {
     "name": "stdout",
     "output_type": "stream",
     "text": [
      "## Question: \n",
      " 지중해 연안 국가들의 요리 중 채식주의자와 육식주의자 모두를 만족시킬 수 있는 메뉴 구성을 제안한다면, 어떤 요리들을 선택하고 그 이유는 무엇인가요?\n",
      "## Ground_truth: \n",
      " 지중해 연안 국가들의 요리 중 채식주의자와 육식주의자 모두를 만족시킬 수 있는 메뉴 구성은 다음과 같습니다:\n",
      "\n",
      "1. 프랑스의 라타투이: 가지, 토마토, 호박, 파프리카 등 다양한 채소로 만든 채식 요리로, 채식주의자에게 적합합니다.\n",
      "\n",
      "2. 스페인의 가스파초: 토마토, 오이, 피망으로 만든 차가운 스프로, 채식주의자도 즐길 수 있는 상큼한 요리입니다.\n",
      "\n",
      "3. 그리스의 무사카: 가지와 다진 고기를 층층이 쌓아 만드는 요리로, 육식주의자를 위한 선택입니다. 채식 버전으로 변형도 가능합니다.\n",
      "\n",
      "4. 모로코의 쿠스쿠스: 밀가루로 만든 알갱이에 채소를 얹어 먹는 요리로, 고기를 별도로 제공하여 선택적으로 먹을 수 있게 합니다.\n",
      "\n",
      "5. 스페인의 빠에야: 해산물과 채소를 넣은 쌀 요리로, 해산물을 먹는 사람과 채식주의자 모두에게 적합합니다.\n",
      "\n",
      "이러한 구성은 다양한 식단 선호도를 고려하면서도 지중해 요리의 특색을 잘 보여줍니다. 채식 옵션과 육류 옵션을 동시에 제공하여 모든 식성의 사람들을 만족시킬 수 있으며, 각 요리의 재료와 조리법을 조절하여 개인의 선호에 맞출 수 있는 유연성도 갖추고 있습니다.\n",
      "## Generated Answer: \n",
      " 주어진 맥락을 바탕으로 지중해 연안 국가들의 요리 중 채식주의자와 육식주의자 모두를 만족시킬 수 있는 메뉴 구성을 제안하겠습니다:\n",
      "\n",
      "1. 스페인의 가스파초: 토마토, 오이, 피망으로 만든 차가운 스프로, 채식주의자에게 적합합니다.\n",
      "\n",
      "2. 그리스의 돌마데스: 포도잎에 밥과 다진 고기를 싸서 만드는 요리로, 고기 대신 채소로 채워 채식 버전으로 만들 수 있습니다.\n",
      "\n",
      "3. 프랑스의 라타투이: 가지, 토마토, 호박, 파프리카 등 다양한 채소로 만든 프로방스 지방의 대표적인 채식 요리입니다.\n",
      "\n",
      "4. 스페인의 빠에야: 해산물과 채소를 넣은 쌀 요리로, 해산물을 먹는 페스코 베지테리언과 육식주의자 모두에게 적합합니다.\n",
      "\n",
      "5. 그리스의 무사카: 가지와 다진 고기를 층층이 쌓아 만드는 요리로, 고기 대신 렌틸콩이나 버섯으로 대체하여 채식 버전을 만들 수 있습니다.\n",
      "\n",
      "6. 모로코의 쿠스쿠스: 채소와 고기를 함께 먹는 요리지만, 고기를 제외하고 채소만으로도 맛있게 즐길 수 있습니다.\n",
      "\n",
      "이러한 메뉴 구성은 다음과 같은 이유로 채식주의자와 육식주의자 모두를 만족시킬 수 있습니다:\n",
      "\n",
      "1. 다양성: 여러 나라의 요리를 포함하여 다양한 맛과 텍스처를 제공합니다.\n",
      "2. 유연성: 일부 요리는 채식 버전으로 쉽게 변형할 수 있어 선택의 폭이 넓습니다.\n",
      "3. 영양 균형: 채소, 곡물, 단백질 등 다양한 영양소를 포함하고 있습니다.\n",
      "4. 문화적 경험: 지중해 연안의 다양한 식문화를 경험할 수 있습니다.\n",
      "\n",
      "이 메뉴 구성은 채식주의자와 육식주의자 모두에게 맛있고 만족스러운 식사 경험을 제공할 수 있을 것입니다.\n",
      "## AnswerRelevancy:  0.44310992674454686\n",
      "## Faithfulness:  0.4166666666666667\n",
      "## ContextRecall:  1.0\n",
      "## ContextPrecision:  0.49999999995\n"
     ]
    }
   ],
   "source": [
    "\n",
    "show_sample_row_eval(result_df, row=0)\n"
   ]
  },
  {
   "cell_type": "markdown",
   "metadata": {},
   "source": [
    "# 6. Custom RAG Evaluation 수행\n",
    "\n",
    "이제 다양한 지표를 기반으로 시스템을 평가하겠습니다.\n",
    "\n",
    "자세한 구현 내용은 `libs/custom_ragas.py` 파일을 참조하시기 바랍니다.\n",
    "\n",
    "이 스크립트에는 정확도와 관련성 등 여러 측면에서 RAG 파이프라인의 성능을 평가하는데 사용되는 구체적인 평가 기준이 포함되어 있습니다."
   ]
  },
  {
   "cell_type": "markdown",
   "metadata": {},
   "source": [
    "### 6.1. 평가용 데이터셋 생성"
   ]
  },
  {
   "cell_type": "code",
   "execution_count": 38,
   "metadata": {},
   "outputs": [
    {
     "name": "stderr",
     "output_type": "stream",
     "text": [
      "Map: 100%|██████████| 5/5 [00:00<00:00, 1001.98 examples/s]\n"
     ]
    }
   ],
   "source": [
    "from libs.custom_ragas import (\n",
    "    evaluate,\n",
    "    AnswerRelevancy, \n",
    "    Faithfulness, \n",
    "    ContextRecall,\n",
    "    ContextPrecision\n",
    ")\n",
    "\n",
    "# llm_id = \"anthropic.claude-3-5-sonnet-20240620-v1:0\"\n",
    "llm_id = \"anthropic.claude-3-5-haiku-20241022-v1:0\"\n",
    "# llm_id = \"us.amazon.nova-micro-v1:0\"\n",
    "emb_id = \"amazon.titan-embed-text-v2:0\"\n",
    "region = \"us-west-2\"\n",
    "\n",
    "# metrics = [Faithfulness]\n",
    "metrics = [AnswerRelevancy, Faithfulness, ContextRecall, ContextPrecision]\n",
    "\n",
    "def map_dataset(example):\n",
    "    return {\n",
    "        \"user_input\": example[\"question\"],\n",
    "        \"retrieved_contexts\": example[\"retrieved_contexts\"],\n",
    "        \"referenced_contexts\": example[\"original_contexts\"],\n",
    "        \"response\": example[\"answer\"],\n",
    "        \"reference\": example[\"ground_truth\"]\n",
    "    }\n",
    "\n",
    "dataset = updated_dataset.map(map_dataset, remove_columns=updated_dataset.column_names)  # 기존의 모든 컬럼 제거))\n"
   ]
  },
  {
   "cell_type": "code",
   "execution_count": 39,
   "metadata": {},
   "outputs": [
    {
     "data": {
      "text/plain": [
       "Dataset({\n",
       "    features: ['retrieved_contexts', 'user_input', 'referenced_contexts', 'response', 'reference'],\n",
       "    num_rows: 5\n",
       "})"
      ]
     },
     "execution_count": 39,
     "metadata": {},
     "output_type": "execute_result"
    }
   ],
   "source": [
    "dataset"
   ]
  },
  {
   "cell_type": "markdown",
   "metadata": {},
   "source": [
    "### 6.2. 평가 메트릭으로 정의 후 실행"
   ]
  },
  {
   "cell_type": "code",
   "execution_count": 40,
   "metadata": {},
   "outputs": [
    {
     "name": "stdout",
     "output_type": "stream",
     "text": [
      "AnswerRelevancy - Row 1: Score = 0.3837319994407658\n",
      "Faithfulness - Row 1: Score = 0.6666666666666666\n",
      "ContextRecall - Row 1: Score = 0.8571428571428571\n",
      "ContextPrecision - Row 1: Score = 0.99999999995\n",
      "AnswerRelevancy - Row 2: Score = 0.9295958672903519\n",
      "Faithfulness - Row 2: Score = 1.0\n",
      "ContextRecall - Row 2: Score = 0.3333333333333333\n",
      "ContextPrecision - Row 2: Score = 0.49999999995\n",
      "AnswerRelevancy - Row 3: Score = 0.46601507931996994\n",
      "Faithfulness - Row 3: Score = 0.8571428571428571\n",
      "ContextRecall - Row 3: Score = 0.8\n",
      "ContextPrecision - Row 3: Score = 0.9999999999\n",
      "AnswerRelevancy - Row 4: Score = 0.9180536253265653\n",
      "Faithfulness - Row 4: Score = 1.0\n",
      "ContextRecall - Row 4: Score = 1.0\n",
      "ContextPrecision - Row 4: Score = 0.9999999999\n",
      "AnswerRelevancy - Row 5: Score = 0.47347188129307943\n",
      "Faithfulness - Row 5: Score = 0.25\n",
      "ContextRecall - Row 5: Score = 1.0\n",
      "ContextPrecision - Row 5: Score = 0.49999999995\n",
      "Average Scores:\n",
      "{'AnswerRelevancy': 0.6341736905341465, 'Faithfulness': 0.7547619047619047, 'ContextRecall': 0.7980952380952381, 'ContextPrecision': 0.79999999993}\n",
      "\n",
      "Detailed Results:\n",
      "{'row': 1, 'AnswerRelevancy': 0.3837319994407658, 'Faithfulness': 0.6666666666666666, 'ContextRecall': 0.8571428571428571, 'ContextPrecision': 0.99999999995}\n",
      "{'row': 2, 'AnswerRelevancy': 0.9295958672903519, 'Faithfulness': 1.0, 'ContextRecall': 0.3333333333333333, 'ContextPrecision': 0.49999999995}\n",
      "{'row': 3, 'AnswerRelevancy': 0.46601507931996994, 'Faithfulness': 0.8571428571428571, 'ContextRecall': 0.8, 'ContextPrecision': 0.9999999999}\n",
      "{'row': 4, 'AnswerRelevancy': 0.9180536253265653, 'Faithfulness': 1.0, 'ContextRecall': 1.0, 'ContextPrecision': 0.9999999999}\n",
      "{'row': 5, 'AnswerRelevancy': 0.47347188129307943, 'Faithfulness': 0.25, 'ContextRecall': 1.0, 'ContextPrecision': 0.49999999995}\n"
     ]
    }
   ],
   "source": [
    "results = evaluate(dataset, metrics, llm_id, emb_id, region)\n",
    "# results = evaluate(dataset, metrics, llm_id, emb_id, region, verbose=True)\n",
    "\n",
    "print(\"Average Scores:\")\n",
    "print(results['average_scores'])\n",
    "\n",
    "print(\"\\nDetailed Results:\")\n",
    "for row in results['detailed_results']:\n",
    "    print(row)"
   ]
  },
  {
   "cell_type": "markdown",
   "metadata": {},
   "source": [
    "### 6.3. 결과를 JSON 에 저장"
   ]
  },
  {
   "cell_type": "code",
   "execution_count": 41,
   "metadata": {},
   "outputs": [
    {
     "name": "stdout",
     "output_type": "stream",
     "text": [
      "Results saved to ../data/sample_ragas_result.json\n",
      "{'average_scores': {'AnswerRelevancy': 0.6341736905341465, 'Faithfulness': 0.7547619047619047, 'ContextRecall': 0.7980952380952381, 'ContextPrecision': 0.79999999993}, 'detailed_results': [{'row': 1, 'AnswerRelevancy': 0.3837319994407658, 'Faithfulness': 0.6666666666666666, 'ContextRecall': 0.8571428571428571, 'ContextPrecision': 0.99999999995}, {'row': 2, 'AnswerRelevancy': 0.9295958672903519, 'Faithfulness': 1.0, 'ContextRecall': 0.3333333333333333, 'ContextPrecision': 0.49999999995}, {'row': 3, 'AnswerRelevancy': 0.46601507931996994, 'Faithfulness': 0.8571428571428571, 'ContextRecall': 0.8, 'ContextPrecision': 0.9999999999}, {'row': 4, 'AnswerRelevancy': 0.9180536253265653, 'Faithfulness': 1.0, 'ContextRecall': 1.0, 'ContextPrecision': 0.9999999999}, {'row': 5, 'AnswerRelevancy': 0.47347188129307943, 'Faithfulness': 0.25, 'ContextRecall': 1.0, 'ContextPrecision': 0.49999999995}]}\n",
      "Results saved to ../data/sample_ragas_result.json\n",
      "{'average_scores': {'AnswerRelevancy': 0.6341736905341465, 'Faithfulness': 0.7547619047619047, 'ContextRecall': 0.7980952380952381, 'ContextPrecision': 0.79999999993}, 'detailed_results': [{'row': 1, 'AnswerRelevancy': 0.3837319994407658, 'Faithfulness': 0.6666666666666666, 'ContextRecall': 0.8571428571428571, 'ContextPrecision': 0.99999999995}, {'row': 2, 'AnswerRelevancy': 0.9295958672903519, 'Faithfulness': 1.0, 'ContextRecall': 0.3333333333333333, 'ContextPrecision': 0.49999999995}, {'row': 3, 'AnswerRelevancy': 0.46601507931996994, 'Faithfulness': 0.8571428571428571, 'ContextRecall': 0.8, 'ContextPrecision': 0.9999999999}, {'row': 4, 'AnswerRelevancy': 0.9180536253265653, 'Faithfulness': 1.0, 'ContextRecall': 1.0, 'ContextPrecision': 0.9999999999}, {'row': 5, 'AnswerRelevancy': 0.47347188129307943, 'Faithfulness': 0.25, 'ContextRecall': 1.0, 'ContextPrecision': 0.49999999995}]}\n"
     ]
    }
   ],
   "source": [
    "import json\n",
    "import json\n",
    "\n",
    "def save_json_results(results, json_filename=\"../data/sample_ragas_result.json\"):\n",
    "    json_results = {\n",
    "        'average_scores': results['average_scores'],\n",
    "        'detailed_results': results['detailed_results']\n",
    "    }\n",
    "\n",
    "    with open(json_filename, 'w', encoding='utf-8') as f:\n",
    "        json.dump(json_results, f, ensure_ascii=False, indent=4)\n",
    "\n",
    "    print(f\"Results saved to {json_filename}\")\n",
    "    print(json_results)\n",
    "    \n",
    "    return json_results\n",
    "\n",
    "json_filename=\"../data/sample_ragas_result.json\"\n",
    "saved_results = save_json_results(results, json_filename)\n",
    "\n",
    "saved_results = save_json_results(results)\n",
    "# Or with a custom filename:\n",
    "# saved_results = save_json_results(results, \"custom_path/results.json\")\n"
   ]
  },
  {
   "cell_type": "markdown",
   "metadata": {},
   "source": [
    "### 6.4 최종 결과 보이기"
   ]
  },
  {
   "cell_type": "code",
   "execution_count": 42,
   "metadata": {},
   "outputs": [
    {
     "name": "stdout",
     "output_type": "stream",
     "text": [
      "Average Scores:\n",
      "{'AnswerRelevancy': 0.6341736905341465, 'Faithfulness': 0.7547619047619047, 'ContextRecall': 0.7980952380952381, 'ContextPrecision': 0.79999999993}\n"
     ]
    },
    {
     "data": {
      "text/html": [
       "<div>\n",
       "<style scoped>\n",
       "    .dataframe tbody tr th:only-of-type {\n",
       "        vertical-align: middle;\n",
       "    }\n",
       "\n",
       "    .dataframe tbody tr th {\n",
       "        vertical-align: top;\n",
       "    }\n",
       "\n",
       "    .dataframe thead th {\n",
       "        text-align: right;\n",
       "    }\n",
       "</style>\n",
       "<table border=\"1\" class=\"dataframe\">\n",
       "  <thead>\n",
       "    <tr style=\"text-align: right;\">\n",
       "      <th></th>\n",
       "      <th>question</th>\n",
       "      <th>ground_truth</th>\n",
       "      <th>original_contexts</th>\n",
       "      <th>retrieved_contexts</th>\n",
       "      <th>answer</th>\n",
       "      <th>AnswerRelevancy</th>\n",
       "      <th>Faithfulness</th>\n",
       "      <th>ContextRecall</th>\n",
       "      <th>ContextPrecision</th>\n",
       "    </tr>\n",
       "  </thead>\n",
       "  <tbody>\n",
       "    <tr>\n",
       "      <th>0</th>\n",
       "      <td>지중해 연안 국가들의 요리 중 채식주의자와 육식주의자 모두를 만족시킬 수 있는 메뉴...</td>\n",
       "      <td>지중해 연안 국가들의 요리 중 채식주의자와 육식주의자 모두를 만족시킬 수 있는 메뉴...</td>\n",
       "      <td>프랑스 요리로 더 살펴보면, 코코뱅은 닭고기를 레드와인에 장시간 끓여 만드는\\n전통...</td>\n",
       "      <td>[인도 요리로는 버터치킨이 있는데, 요거트로 마리네이드한 닭고기를 탄두르에 구 워 ...</td>\n",
       "      <td>주어진 맥락을 바탕으로 지중해 연안 국가들의 요리 중 채식주의자와 육식주의자 모두를...</td>\n",
       "      <td>0.383732</td>\n",
       "      <td>0.666667</td>\n",
       "      <td>0.857143</td>\n",
       "      <td>1.0</td>\n",
       "    </tr>\n",
       "    <tr>\n",
       "      <th>1</th>\n",
       "      <td>팟타이는 어떤 재료로 만드나요?</td>\n",
       "      <td>팟타이는 쌀국수를 새우와 함께 볶고 땅콩가루를 뿌려 만듭니다.</td>\n",
       "      <td>기와 달걀을 간장 베이스의 달달한 육수에 조려 밥 위에 올립니다.\\n중식으로는 마파...</td>\n",
       "      <td>[인도 요리로는 버터치킨이 있는데, 요거트로 마리네이드한 닭고기를 탄두르에 구 워 ...</td>\n",
       "      <td>팟타이는 다음과 같은 재료로 만듭니다:\\n\\n1. 쌀국수\\n2. 새우\\n3. 땅콩가...</td>\n",
       "      <td>0.929596</td>\n",
       "      <td>1.000000</td>\n",
       "      <td>0.333333</td>\n",
       "      <td>0.5</td>\n",
       "    </tr>\n",
       "    <tr>\n",
       "      <th>2</th>\n",
       "      <td>한국, 이탈리아, 태국, 베트남 요리의 특징을 비교하며, 각 나라의 대표 요리에서 ...</td>\n",
       "      <td>한국, 이탈리아, 태국, 베트남 요리는 각각 고유한 특징을 가지고 있지만, 몇 가지...</td>\n",
       "      <td>볶음요리로는 먼저 김치볶음밥이 있는데, 잘 익은 김치를 잘게 썰어 밥과 함께\\n볶다...</td>\n",
       "      <td>[볶음요리로는 먼저 김치볶음밥이 있는데, 잘 익은 김치를 잘게 썰어 밥과 함께 볶다...</td>\n",
       "      <td>주어진 맥락을 바탕으로 한국, 이탈리아, 태국, 베트남 요리의 특징과 공통점을 비교...</td>\n",
       "      <td>0.466015</td>\n",
       "      <td>0.857143</td>\n",
       "      <td>0.800000</td>\n",
       "      <td>1.0</td>\n",
       "    </tr>\n",
       "    <tr>\n",
       "      <th>3</th>\n",
       "      <td>라자냐는 어떤 재료로 만들어지나요?</td>\n",
       "      <td>라자냐는 파스타면, 미트소스, 베샤멜 소스, 치즈를 층층이 쌓아 오븐에 구워 만듭니다.</td>\n",
       "      <td>볶다가 뜨거운 육수를 조금씩 부어가며 천천히 익혀 만듭니다. 라자냐는 파스타\\n면과...</td>\n",
       "      <td>[볶음요리로는 먼저 김치볶음밥이 있는데, 잘 익은 김치를 잘게 썰어 밥과 함께 볶다...</td>\n",
       "      <td>라자냐는 다음과 같은 재료로 만들어집니다:\\n\\n1. 파스타 면\\n2. 미트소스\\n...</td>\n",
       "      <td>0.918054</td>\n",
       "      <td>1.000000</td>\n",
       "      <td>1.000000</td>\n",
       "      <td>1.0</td>\n",
       "    </tr>\n",
       "    <tr>\n",
       "      <th>4</th>\n",
       "      <td>여러 나라의 요리법을 비교했을 때, 와인을 주요 재료로 사용하는 요리들의 공통점과 ...</td>\n",
       "      <td>와인을 주요 재료로 사용하는 요리들을 비교해보면, 프랑스의 비프 부르기뇽과 코코뱅이...</td>\n",
       "      <td>요리입니다. 어향육슬은 돼지고기를 채썰어 매콤새콤한 소스로 볶아내고, 팔보채\\n는 ...</td>\n",
       "      <td>[끼슈는 버터가 듬뿍 들어간 파이 반죽 위 에 달걀과 크림을 섞은 커스터드를 붓고 ...</td>\n",
       "      <td>주어진 맥락에서 와인을 주요 재료로 사용하는 요리들에 대한 정보를 찾아보면 다음과 ...</td>\n",
       "      <td>0.473472</td>\n",
       "      <td>0.250000</td>\n",
       "      <td>1.000000</td>\n",
       "      <td>0.5</td>\n",
       "    </tr>\n",
       "  </tbody>\n",
       "</table>\n",
       "</div>"
      ],
      "text/plain": [
       "                                            question  \\\n",
       "0  지중해 연안 국가들의 요리 중 채식주의자와 육식주의자 모두를 만족시킬 수 있는 메뉴...   \n",
       "1                                  팟타이는 어떤 재료로 만드나요?   \n",
       "2  한국, 이탈리아, 태국, 베트남 요리의 특징을 비교하며, 각 나라의 대표 요리에서 ...   \n",
       "3                                라자냐는 어떤 재료로 만들어지나요?   \n",
       "4  여러 나라의 요리법을 비교했을 때, 와인을 주요 재료로 사용하는 요리들의 공통점과 ...   \n",
       "\n",
       "                                        ground_truth  \\\n",
       "0  지중해 연안 국가들의 요리 중 채식주의자와 육식주의자 모두를 만족시킬 수 있는 메뉴...   \n",
       "1                 팟타이는 쌀국수를 새우와 함께 볶고 땅콩가루를 뿌려 만듭니다.   \n",
       "2  한국, 이탈리아, 태국, 베트남 요리는 각각 고유한 특징을 가지고 있지만, 몇 가지...   \n",
       "3   라자냐는 파스타면, 미트소스, 베샤멜 소스, 치즈를 층층이 쌓아 오븐에 구워 만듭니다.   \n",
       "4  와인을 주요 재료로 사용하는 요리들을 비교해보면, 프랑스의 비프 부르기뇽과 코코뱅이...   \n",
       "\n",
       "                                   original_contexts  \\\n",
       "0  프랑스 요리로 더 살펴보면, 코코뱅은 닭고기를 레드와인에 장시간 끓여 만드는\\n전통...   \n",
       "1  기와 달걀을 간장 베이스의 달달한 육수에 조려 밥 위에 올립니다.\\n중식으로는 마파...   \n",
       "2  볶음요리로는 먼저 김치볶음밥이 있는데, 잘 익은 김치를 잘게 썰어 밥과 함께\\n볶다...   \n",
       "3  볶다가 뜨거운 육수를 조금씩 부어가며 천천히 익혀 만듭니다. 라자냐는 파스타\\n면과...   \n",
       "4  요리입니다. 어향육슬은 돼지고기를 채썰어 매콤새콤한 소스로 볶아내고, 팔보채\\n는 ...   \n",
       "\n",
       "                                  retrieved_contexts  \\\n",
       "0  [인도 요리로는 버터치킨이 있는데, 요거트로 마리네이드한 닭고기를 탄두르에 구 워 ...   \n",
       "1  [인도 요리로는 버터치킨이 있는데, 요거트로 마리네이드한 닭고기를 탄두르에 구 워 ...   \n",
       "2  [볶음요리로는 먼저 김치볶음밥이 있는데, 잘 익은 김치를 잘게 썰어 밥과 함께 볶다...   \n",
       "3  [볶음요리로는 먼저 김치볶음밥이 있는데, 잘 익은 김치를 잘게 썰어 밥과 함께 볶다...   \n",
       "4  [끼슈는 버터가 듬뿍 들어간 파이 반죽 위 에 달걀과 크림을 섞은 커스터드를 붓고 ...   \n",
       "\n",
       "                                              answer  AnswerRelevancy  \\\n",
       "0  주어진 맥락을 바탕으로 지중해 연안 국가들의 요리 중 채식주의자와 육식주의자 모두를...         0.383732   \n",
       "1  팟타이는 다음과 같은 재료로 만듭니다:\\n\\n1. 쌀국수\\n2. 새우\\n3. 땅콩가...         0.929596   \n",
       "2  주어진 맥락을 바탕으로 한국, 이탈리아, 태국, 베트남 요리의 특징과 공통점을 비교...         0.466015   \n",
       "3  라자냐는 다음과 같은 재료로 만들어집니다:\\n\\n1. 파스타 면\\n2. 미트소스\\n...         0.918054   \n",
       "4  주어진 맥락에서 와인을 주요 재료로 사용하는 요리들에 대한 정보를 찾아보면 다음과 ...         0.473472   \n",
       "\n",
       "   Faithfulness  ContextRecall  ContextPrecision  \n",
       "0      0.666667       0.857143               1.0  \n",
       "1      1.000000       0.333333               0.5  \n",
       "2      0.857143       0.800000               1.0  \n",
       "3      1.000000       1.000000               1.0  \n",
       "4      0.250000       1.000000               0.5  "
      ]
     },
     "execution_count": 42,
     "metadata": {},
     "output_type": "execute_result"
    }
   ],
   "source": [
    "# 사용 예시\n",
    "results_path = json_filename\n",
    "merged_df = merge_dataset_and_results(updated_dataset, results_path)\n",
    "print(\"Average Scores:\")\n",
    "print(results['average_scores'])\n",
    "\n",
    "merged_df\n"
   ]
  },
  {
   "cell_type": "code",
   "execution_count": null,
   "metadata": {},
   "outputs": [],
   "source": []
  }
 ],
 "metadata": {
  "kernelspec": {
   "display_name": "Python 3",
   "language": "python",
   "name": "python3"
  },
  "language_info": {
   "codemirror_mode": {
    "name": "ipython",
    "version": 3
   },
   "file_extension": ".py",
   "mimetype": "text/x-python",
   "name": "python",
   "nbconvert_exporter": "python",
   "pygments_lexer": "ipython3",
   "version": "3.10.14"
  }
 },
 "nbformat": 4,
 "nbformat_minor": 2
}
