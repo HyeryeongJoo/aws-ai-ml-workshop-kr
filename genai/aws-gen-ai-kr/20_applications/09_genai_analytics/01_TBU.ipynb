{
 "cells": [
  {
   "cell_type": "markdown",
   "id": "0a4eb837-ef78-4b45-9e2c-dbd81c3b763d",
   "metadata": {},
   "source": [
    "# Insight extraction (Text2Insight)\n"
   ]
  },
  {
   "cell_type": "markdown",
   "id": "0e755fec-095b-43ce-8b2f-e46fd002dc00",
   "metadata": {},
   "source": [
    "## Setting\n",
    " - Auto Reload\n",
    " - path for utils"
   ]
  },
  {
   "cell_type": "code",
   "execution_count": 1,
   "id": "6543f134-4f41-4540-bd24-907bed8ad016",
   "metadata": {
    "tags": []
   },
   "outputs": [],
   "source": [
    "%load_ext autoreload\n",
    "%autoreload 2"
   ]
  },
  {
   "cell_type": "code",
   "execution_count": 2,
   "id": "9dd7fb1d-710f-4345-92a0-b5a794742afe",
   "metadata": {
    "tags": []
   },
   "outputs": [],
   "source": [
    "import sys, os\n",
    "module_path = \"../..\"\n",
    "sys.path.append(os.path.abspath(module_path))"
   ]
  },
  {
   "cell_type": "markdown",
   "id": "60864ffe-4fe9-4e08-bb49-9b4ecdb8c7db",
   "metadata": {},
   "source": [
    "## 1. Create Bedrock client"
   ]
  },
  {
   "cell_type": "code",
   "execution_count": 3,
   "id": "6705c228-f793-47e9-b2da-ade94f209fa2",
   "metadata": {
    "tags": []
   },
   "outputs": [],
   "source": [
    "import boto3\n",
    "from pprint import pprint\n",
    "from termcolor import colored\n",
    "from utils import bedrock, print_ww\n",
    "from utils.bedrock import bedrock_info"
   ]
  },
  {
   "cell_type": "markdown",
   "id": "e197919c-2fbc-4344-a259-4c34dca45a0f",
   "metadata": {
    "tags": []
   },
   "source": [
    "### ---- ⚠️ Un-comment and edit the below lines as needed for your AWS setup ⚠️ ----\n",
    "- os.environ[\"AWS_DEFAULT_REGION\"] = \"<REGION_NAME>\"  # E.g. \"us-east-1\"\n",
    "- os.environ[\"AWS_PROFILE\"] = \"<YOUR_PROFILE>\"\n",
    "- os.environ[\"BEDROCK_ASSUME_ROLE\"] = \"<YOUR_ROLE_ARN>\"  # E.g. \"arn:aws:...\"\n",
    "- os.environ[\"BEDROCK_ENDPOINT_URL\"] = \"<YOUR_ENDPOINT_URL>\"  # E.g. \"https://...\""
   ]
  },
  {
   "cell_type": "code",
   "execution_count": 4,
   "id": "67a986c0-60fe-4e77-875c-338a138460fc",
   "metadata": {
    "tags": []
   },
   "outputs": [
    {
     "name": "stdout",
     "output_type": "stream",
     "text": [
      "Create new client\n",
      "  Using region: us-east-1\n",
      "  Using profile: None\n",
      "boto3 Bedrock client successfully created!\n",
      "bedrock-runtime(https://bedrock-runtime.us-east-1.amazonaws.com)\n",
      "\u001b[32m\n",
      "== FM lists ==\u001b[0m\n",
      "{'Claude-Instant-V1': 'anthropic.claude-instant-v1',\n",
      " 'Claude-V1': 'anthropic.claude-v1',\n",
      " 'Claude-V2': 'anthropic.claude-v2',\n",
      " 'Claude-V2-1': 'anthropic.claude-v2:1',\n",
      " 'Claude-V3-5-Sonnet': 'anthropic.claude-3-5-sonnet-20240620-v1:0',\n",
      " 'Claude-V3-Haiku': 'anthropic.claude-3-haiku-20240307-v1:0',\n",
      " 'Claude-V3-Opus': 'anthropic.claude-3-sonnet-20240229-v1:0',\n",
      " 'Claude-V3-Sonnet': 'anthropic.claude-3-sonnet-20240229-v1:0',\n",
      " 'Cohere-Embeddings-En': 'cohere.embed-english-v3',\n",
      " 'Cohere-Embeddings-Multilingual': 'cohere.embed-multilingual-v3',\n",
      " 'Command': 'cohere.command-text-v14',\n",
      " 'Command-Light': 'cohere.command-light-text-v14',\n",
      " 'Jurassic-2-Mid': 'ai21.j2-mid-v1',\n",
      " 'Jurassic-2-Ultra': 'ai21.j2-ultra-v1',\n",
      " 'Llama2-13b-Chat': 'meta.llama2-13b-chat-v1',\n",
      " 'Titan-Embeddings-G1': 'amazon.titan-embed-text-v1',\n",
      " 'Titan-Text-Embeddings-V2': 'amazon.titan-embed-text-v2:0',\n",
      " 'Titan-Text-G1': 'amazon.titan-text-express-v1',\n",
      " 'Titan-Text-G1-Express': 'amazon.titan-text-express-v1',\n",
      " 'Titan-Text-G1-Light': 'amazon.titan-text-lite-v1',\n",
      " 'Titan-Text-G1-Premier': 'amazon.titan-text-premier-v1:0'}\n"
     ]
    }
   ],
   "source": [
    "boto3_bedrock = bedrock.get_bedrock_client(\n",
    "    assumed_role=os.environ.get(\"BEDROCK_ASSUME_ROLE\", None),\n",
    "    endpoint_url=os.environ.get(\"BEDROCK_ENDPOINT_URL\", None),\n",
    "    region=os.environ.get(\"AWS_DEFAULT_REGION\", None),\n",
    ")\n",
    "\n",
    "print (colored(\"\\n== FM lists ==\", \"green\"))\n",
    "pprint (bedrock_info.get_list_fm_models(verbose=False))"
   ]
  },
  {
   "cell_type": "markdown",
   "id": "5e8e2368-e195-47e4-b981-80f7e6dc4421",
   "metadata": {},
   "source": [
    "## 2. LLM 정의"
   ]
  },
  {
   "cell_type": "code",
   "execution_count": 5,
   "id": "5b094dc1-26f9-4dcc-b51a-178edadb407e",
   "metadata": {
    "tags": []
   },
   "outputs": [],
   "source": [
    "from utils.bedrock import bedrock_model\n",
    "#from langchain_aws import ChatBedrock\n",
    "#from langchain_aws import ChatBedrockConverse\n",
    "from langchain.callbacks.streaming_stdout import StreamingStdOutCallbackHandler"
   ]
  },
  {
   "cell_type": "code",
   "execution_count": 6,
   "id": "bd05a4a4-0ffc-4e29-b1db-0f28ce6374d6",
   "metadata": {
    "tags": []
   },
   "outputs": [],
   "source": [
    "llm_text = bedrock_model(\n",
    "    model_id=bedrock_info.get_model_id(model_name=\"Claude-V3-5-Sonnet\"),\n",
    "    bedrock_client=boto3_bedrock,\n",
    "    stream=True,\n",
    "    callbacks=[StreamingStdOutCallbackHandler()],\n",
    "    inference_config={\n",
    "        'maxTokens': 1024,\n",
    "        'stopSequences': [\"\\n\\nHuman\"],\n",
    "        'temperature': 0.01,\n",
    "        #'topP': ...,\n",
    "    }\n",
    "    #additional_model_request_fields={\"top_k\": 200}\n",
    ")"
   ]
  },
  {
   "cell_type": "markdown",
   "id": "681bfe3f-bcdb-4b76-bcfe-df9273733e7a",
   "metadata": {},
   "source": [
    "## 3. Analysis"
   ]
  },
  {
   "cell_type": "code",
   "execution_count": 7,
   "id": "da51dd14-0656-4515-a162-69496260fba6",
   "metadata": {},
   "outputs": [],
   "source": [
    "from textwrap import dedent\n",
    "from utils.bedrock import bedrock_utils\n",
    "from typing import TypedDict, Literal, Any\n",
    "from src.genai_anaysis import llm_execution\n",
    "from langgraph.checkpoint.memory import MemorySaver\n",
    "from langchain_experimental.tools.python.tool import PythonAstREPLTool"
   ]
  },
  {
   "cell_type": "code",
   "execution_count": 8,
   "id": "4b04f8af-ec22-4a11-a468-231dd6c1ef61",
   "metadata": {},
   "outputs": [],
   "source": [
    "class GraphState(TypedDict):\n",
    "    ask: str\n",
    "    target_apps: list[str]\n",
    "    analysis_request: str\n",
    "    chart_codes: str\n",
    "    chart_codes_desc: str\n",
    "    response: str"
   ]
  },
  {
   "cell_type": "code",
   "execution_count": 61,
   "id": "b0219e0e-c4de-4e92-b370-d97605c2bd2d",
   "metadata": {},
   "outputs": [],
   "source": [
    "class GraphState(TypedDict):\n",
    "    ask: str\n",
    "    target_apps: list[str]\n",
    "    analysis_request: str\n",
    "    chart_codes: str\n",
    "    chart_codes_desc: str\n",
    "    response: str\n",
    "\n",
    "class app_analyzer():\n",
    "\n",
    "    def __init__(self, **kwargs):\n",
    "\n",
    "        self.llm = kwargs[\"llm\"]\n",
    "        self.df = kwargs[\"df\"]\n",
    "        self.column_info = kwargs[\"column_info\"]\n",
    "        self.state = GraphState\n",
    "\n",
    "        self._graph_definition()\n",
    "        self.messages = []\n",
    "\n",
    "    def _graph_definition(self, **kwargs):\n",
    "\n",
    "        def _node_ask_anaysis(state):\n",
    "\n",
    "            system_prompts = dedent(\n",
    "                '''\n",
    "                당신은 사용자의 텍스트 요청을 분석하여 중요한 정보를 추출하는 전문가입니다.\n",
    "                주어진 structured dataset(df)에 대한 분석 요청(request)을 처리하는 것이 당신의 주요 임무입니다.\n",
    "\n",
    "                <task>\n",
    "                1. 사용자의 텍스트 요청에서 분석 대상이 되는 target app의 이름을 식별하고 추출하세요.\n",
    "                2. 사용자의 구체적인 분석 요청 사항을 분석하고, 필요하다면 결과를 차트로 표현하기 적합현 형태로 요청 사항을 수정해 주세요.\n",
    "                </task>\n",
    "\n",
    "                <output_format>\n",
    "                JSON 형식으로 다음 정보를 포함하여 응답하세요:\n",
    "                {\n",
    "                  \"target_apps\": [\"추출된 앱 이름\"],\n",
    "                  \"analysis_request\": \"파악된 분석 요청 사항\"\n",
    "                }\n",
    "                </output_format>\n",
    "\n",
    "                <instruction>\n",
    "                - target app이 명시적으로 언급되지 않은 경우, \"target_app\" 필드를 \"unspecified\"로 설정하세요.\n",
    "                - target app이 복수 개인 경우, list 형태로 모두 언급하세요. 예를 들자면 [\"앱 이름 1\", \"앱 이름 2\"]로 표현합니다. \n",
    "                - 분석 요청이 불명확한 경우, 가능한 한 사용자의 의도를 추론하여 \"analysis_request\" 필드를 작성하세요.\n",
    "                - 추출 및 파악한 정보만을 간결하게 제공하고, 추가적인 설명이나 해석은 하지 마세요.\n",
    "                </instruction>\n",
    "\n",
    "                이 정보를 바탕으로 다음 노드가 적절한 분석을 수행할 수 있도록 정확하고 명확한 정보를 제공하는 것이 중요합니다.\n",
    "                '''\n",
    "            )\n",
    "\n",
    "            system_prompts = bedrock_utils.get_system_prompt(system_prompts=system_prompts)\n",
    "\n",
    "            user_prompts = dedent(\n",
    "                '''\n",
    "                This is the result of `print(df.head())`: <dataset>{dataset}</dataset>\n",
    "\n",
    "                Here is the column information in detail, this is the results of `print(column_info)`: <column_info>{column_info}</column_info>\n",
    "\n",
    "                Here is user's request: <request>{ask}</request>\n",
    "                '''\n",
    "            )\n",
    "\n",
    "            self.ask_analyzer = llm_execution(\n",
    "                llm=self.llm,\n",
    "                system_prompts=system_prompts,\n",
    "                user_prompts=user_prompts,\n",
    "                multi_turn=True,\n",
    "                verbose=False\n",
    "            )\n",
    "\n",
    "            dataset = str(self.df.sample(10, random_state=0).to_csv())\n",
    "            column_info = str(self.column_info.to_csv())\n",
    "            response = self.ask_analyzer.invoke(\n",
    "                context={\n",
    "                    \"dataset\": dataset,\n",
    "                    \"column_info\": column_info,\n",
    "                    \"ask\":state[\"ask\"]\n",
    "                }\n",
    "            )\n",
    "\n",
    "            self.messages.extend(self.ask_analyzer.get_messages())\n",
    "            print (\"messages\", self.messages)\n",
    "\n",
    "\n",
    "            results = eval(response['text'])\n",
    "            target_apps, analysis_request = results[\"target_apps\"], results[\"analysis_request\"]\n",
    "\n",
    "\n",
    "            return self.state(\n",
    "                target_apps=target_apps,\n",
    "                analysis_request=analysis_request\n",
    "            )\n",
    "\n",
    "        def _node_chart_generation(state):\n",
    "\n",
    "            print (\"state\", state)\n",
    "\n",
    "            system_prompts = dedent(\n",
    "                \n",
    "                '''\n",
    "                당신은 데이터 분석과 시각화 전문가입니다.\n",
    "\n",
    "                <task>\n",
    "                주어진 structured dataset, dataset의 컬럼 정보, 그리고 사용자의 분석 요청사항을 바탕으로 적절한 차트를 생성하는 Python 코드를 작성하는 것이 당신의 임무입니다.\n",
    "                </task>\n",
    "\n",
    "                <input>\n",
    "                1. dataset: 분석할 데이터셋\n",
    "                2. column_info: 각 컬럼의 이름과 데이터 타입\n",
    "                3. question: 어떤 분석을 원하는지에 대한 설명\n",
    "                </input>\n",
    "                \n",
    "                <output_format>\n",
    "                JSON 형식으로 다음 정보를 포함하여 응답하세요:\n",
    "                {\n",
    "                    \"code\": \"\"\"사용자의 요청을 충족시키는 차트를 생성하는 Python 코드\"\"\"\n",
    "                }\n",
    "                </output_format>\n",
    "\n",
    "                <instruction>\n",
    "                데이터셋과 컬럼 정보를 신중히 분석하세요.\n",
    "                사용자의 분석 요청사항을 정확히 이해하세요.\n",
    "                요청사항에 가장 적합한 차트 유형을 선택하세요 (예: 막대 그래프, 선 그래프, 산점도, 파이 차트 등).\n",
    "                선택한 차트 유형에 맞는 Python 라이브러리를 사용하세요 (예: matplotlib, seaborn, plotly 등).\n",
    "                데이터 전처리가 필요한 경우 pandas를 사용하여 데이터를 적절히 가공하세요.\n",
    "                차트의 제목, 축 레이블, 범례 등을 명확하게 설정하세요.\n",
    "                필요한 경우 차트의 색상, 스타일, 크기 등을 조정하여 가독성을 높이세요.\n",
    "                코드에 주석을 달아 각 단계를 설명하세요.\n",
    "                코드 실행 시 발생할 수 있는 예외 상황을 고려하여 적절한 예외 처리를 포함하세요.\n",
    "                생성된 차트를 저장하거나 표시하는 코드를 포함하세요.\n",
    "                생성된 코드 수행에 필요한 패키지들은 반드시 import 하세요.\n",
    "                차트는 모두 영어로 표현해 주세요.\n",
    "                </instruction>\n",
    "\n",
    "                <consideration>\n",
    "                사용자가 제공한 데이터셋의 구조와 크기에 따라 코드를 최적화하세요.\n",
    "                복잡한 분석 요청의 경우, 단계별로 접근하여 중간 결과를 확인할 수 있도록 코드를 구성하세요.\n",
    "                데이터의 특성에 따라 적절한 정규화나 스케일링을 고려하세요.\n",
    "                대규모 데이터셋의 경우 성능을 고려하여 코드를 작성하세요.\n",
    "                이 지침을 따라 사용자의 요청에 맞는 정확하고 효과적인 차트 생성 코드를 작성하고, JSON 형식으로 출력하세요.\n",
    "                </consideration>\n",
    "                \n",
    "                '''\n",
    "            )\n",
    "\n",
    "            system_prompts = bedrock_utils.get_system_prompt(system_prompts=system_prompts)\n",
    "\n",
    "            user_prompts = dedent(\n",
    "                '''\n",
    "                This is the result of `print(df.head())`: <dataset>{dataset}</dataset>\n",
    "                \n",
    "                Here is the column information in detail, this is the results of `print(column_info)`: <column_info>{column_info}</column_info>\n",
    "\n",
    "                Here is the question: <question>{question}</question>\n",
    "\n",
    "                Variable `df: pd.DataFrame` is already declared.\n",
    "                \n",
    "\n",
    "\n",
    "                '''\n",
    "            )\n",
    "\n",
    "            self.chart_generator = llm_execution(\n",
    "                llm=self.llm,\n",
    "                system_prompts=system_prompts,\n",
    "                user_prompts=user_prompts,\n",
    "                multi_turn=True,\n",
    "                verbose=False\n",
    "            )\n",
    "\n",
    "            \n",
    "            target_apps = state[\"target_apps\"]\n",
    "            \n",
    "            dataset = str(self.df.sample(10, random_state=0).to_csv())\n",
    "            column_info = str(self.column_info.to_csv())\n",
    "            response = self.chart_generator.invoke(\n",
    "                context={\n",
    "                    \"dataset\": dataset,\n",
    "                    \"column_info\": column_info,\n",
    "                    \"question\": state[\"analysis_request\"]\n",
    "                }\n",
    "            )\n",
    "            print (\"response\", response)\n",
    "\n",
    "            results = eval(response['text'])\n",
    "            chart_codes = results[\"code\"]\n",
    "\n",
    "\n",
    "            print (\"chart_codes\", chart_codes)\n",
    "\n",
    "\n",
    "            \n",
    "            \n",
    "            return self.state(\n",
    "                    chart_codes=chart_codes\n",
    "                )\n",
    "\n",
    "        def _node_code_execution(state):\n",
    "\n",
    "            print (\"state\", state)\n",
    "            print (\"===\")\n",
    "            print (state[\"chart_codes\"])\n",
    "            print (\"===\")\n",
    "            df, code = self.df, state[\"chart_codes\"]\n",
    "            results = exec(code, {\"df\": df})\n",
    "            #tool = PythonAstREPLTool(locals={\"df\": df})\n",
    "            \n",
    "            #results = tool.invoke(code)\n",
    "\n",
    "            print (results)\n",
    "            \n",
    "            #return results\n",
    "            \n",
    "                \n",
    "        # langgraph.graph에서 StateGraph와 END를 가져옵니다.\n",
    "        workflow = StateGraph(self.state)\n",
    "\n",
    "        # Todo 를 작성합니다.\n",
    "        workflow.add_node(\"_node_ask_anaysis\", _node_ask_anaysis)  # 에이전트 노드를 추가합니다.\n",
    "        workflow.add_node(\"_node_chart_generation\", _node_chart_generation)  # 에이전트 노드를 추가합니다.\n",
    "        workflow.add_node(\"_node_code_execution\", _node_code_execution)  # 에이전트 노드를 추가합니다.\n",
    "\n",
    "        # 각 노드들을 연결합니다.\n",
    "        workflow.add_edge(\"_node_ask_anaysis\", \"_node_chart_generation\")\n",
    "        workflow.add_edge(\"_node_chart_generation\", \"_node_code_execution\")\n",
    "        workflow.add_edge(\"_node_code_execution\", END)\n",
    "\n",
    "        # 시작점을 설정합니다.\n",
    "        workflow.set_entry_point(\"_node_ask_anaysis\")\n",
    "\n",
    "        # 기록을 위한 메모리 저장소를 설정합니다.\n",
    "        memory = MemorySaver()\n",
    "\n",
    "        # 그래프를 컴파일합니다.\n",
    "        self.app = workflow.compile(checkpointer=memory)\n",
    "\n",
    "        from langchain_core.runnables import RunnableConfig\n",
    "        # app.stream을 통해 입력된 메시지에 대한 출력을 스트리밍합니다.\n",
    "        \n",
    "        self.config = RunnableConfig(recursion_limit=100, configurable={\"thread_id\": \"InsightExtraction\"})\n",
    "\n",
    "\n",
    "    def invoke(self, **kwargs):\n",
    "\n",
    "        inputs = self.state(ask=kwargs[\"ask\"])\n",
    "        \n",
    "        for s in self.app.stream(inputs, self.config):\n",
    "            print(\"----\")\n",
    "            #print(list(s.values())[0])\n",
    "            print(\"----\")\n",
    "    \n",
    "    def show_graph(self, ):\n",
    "        \n",
    "        from IPython.display import Image, display\n",
    "\n",
    "        try:\n",
    "            display(\n",
    "                Image(self.app.get_graph(xray=True).draw_mermaid_png())\n",
    "            )  # 실행 가능한 객체의 그래프를 mermaid 형식의 PNG로 그려서 표시합니다. \n",
    "            # xray=True는 추가적인 세부 정보를 포함합니다.\n",
    "        except:\n",
    "            # 이 부분은 추가적인 의존성이 필요하며 선택적으로 실행됩니다.\n",
    "            pass\n"
   ]
  },
  {
   "cell_type": "code",
   "execution_count": null,
   "id": "398b7658-6224-48c3-9f7b-36ca032ea36a",
   "metadata": {},
   "outputs": [],
   "source": []
  },
  {
   "cell_type": "code",
   "execution_count": null,
   "id": "b5ba8d66-db41-4953-bf2b-3577a4ed506a",
   "metadata": {},
   "outputs": [],
   "source": []
  },
  {
   "cell_type": "code",
   "execution_count": null,
   "id": "7e8cdd01-abe5-4a3e-8fc8-4e082fc0c611",
   "metadata": {},
   "outputs": [],
   "source": []
  },
  {
   "cell_type": "code",
   "execution_count": null,
   "id": "fda5122a-1aa5-4bc6-a8ed-85e874513d3a",
   "metadata": {},
   "outputs": [],
   "source": []
  },
  {
   "cell_type": "markdown",
   "id": "1076040a-8fd4-462f-89ec-87fc54b665f4",
   "metadata": {},
   "source": [
    "### 3.1 Analyzer 정의"
   ]
  },
  {
   "cell_type": "code",
   "execution_count": 62,
   "id": "9e3febc4-5940-4a79-a1f7-34a37ca89a48",
   "metadata": {},
   "outputs": [],
   "source": [
    "import pandas as pd\n",
    "from langgraph.graph import END, StateGraph"
   ]
  },
  {
   "cell_type": "code",
   "execution_count": 63,
   "id": "892570ad-037e-4153-a3a7-582522810a78",
   "metadata": {},
   "outputs": [],
   "source": [
    "df = pd.read_csv(\"./dataset/app_power_consumption.csv\")\n",
    "column_info = pd.read_csv(\"dataset/column_info.csv\")\n",
    "#state = GraphState()"
   ]
  },
  {
   "cell_type": "code",
   "execution_count": 64,
   "id": "7d845162-5e2a-4f18-b653-fcc9f3087435",
   "metadata": {},
   "outputs": [],
   "source": [
    "analyzer = app_analyzer(\n",
    "    llm=llm_text,\n",
    "    df=df,\n",
    "    column_info=column_info\n",
    ")"
   ]
  },
  {
   "cell_type": "code",
   "execution_count": 66,
   "id": "ca0a4e66-5c41-456e-a3c0-979bb360c227",
   "metadata": {},
   "outputs": [
    {
     "name": "stdout",
     "output_type": "stream",
     "text": [
      "\n",
      "This is the result of `print(df.head())`: <dataset>,날짜,app_a,app_b,app_c,app_d,app_e,요일\n",
      "2,2024-05-03,128,156,99,100,90,4\n",
      "33,2024-06-03,89,139,117,133,146,0\n",
      "22,2024-05-23,81,142,124,138,94,3\n",
      "16,2024-05-17,84,139,139,148,151,4\n",
      "13,2024-05-14,156,109,111,125,93,1\n",
      "24,2024-05-25,108,139,121,105,110,5\n",
      "60,2024-06-30,153,100,102,100,136,6\n",
      "76,2024-07-16,155,125,84,153,126,1\n",
      "80,2024-07-20,158,109,95,102,92,5\n",
      "68,2024-07-08,118,148,159,126,136,0\n",
      "</dataset>\n",
      "\n",
      "Here is the column information in detail, this is the results of `print(column_info)`: <column_info>,컬럼 명,컬럼 한글명,DATA TYPE\n",
      "0,날짜,날짜,DATE\n",
      "1,app_a,app a의 전력사용 양,BIGINT\n",
      "2,app_b,app b의 전력사용 양,BIGINT\n",
      "3,app_c,app c의 전력사용 양,BIGINT\n",
      "4,app_d,app d의 전력사용 양,BIGINT\n",
      "5,app_e,app e의 전력사용 양,BIGINT\n",
      "</column_info>\n",
      "\n",
      "Here is user's request: <request>요일별 a 앱의 평균 소비 전력를 알려줘. 에러바를 이용해서 알려줘</request>\n",
      "\n",
      "{\n",
      "  \"target_apps\": [\"app_a\"],\n",
      "  \"analysis_request\": \"요일별 app_a의 평균 소비 전력을 계산하고, 에러바를 포함한 차트로 표현\"\n",
      "}messages [{'role': 'user', 'content': [{'text': \"\\nThis is the result of `print(df.head())`: <dataset>,날짜,app_a,app_b,app_c,app_d,app_e\\n2,2024-05-03,128,156,99,100,90\\n33,2024-06-03,89,139,117,133,146\\n22,2024-05-23,81,142,124,138,94\\n16,2024-05-17,84,139,139,148,151\\n13,2024-05-14,156,109,111,125,93\\n24,2024-05-25,108,139,121,105,110\\n60,2024-06-30,153,100,102,100,136\\n76,2024-07-16,155,125,84,153,126\\n80,2024-07-20,158,109,95,102,92\\n68,2024-07-08,118,148,159,126,136\\n</dataset>\\n\\nHere is the column information in detail, this is the results of `print(column_info)`: <column_info>,컬럼 명,컬럼 한글명,DATA TYPE\\n0,날짜,날짜,DATE\\n1,app_a,app a의 전력사용 양,BIGINT\\n2,app_b,app b의 전력사용 양,BIGINT\\n3,app_c,app c의 전력사용 양,BIGINT\\n4,app_d,app d의 전력사용 양,BIGINT\\n5,app_e,app e의 전력사용 양,BIGINT\\n</column_info>\\n\\nHere is user's request: <request>요일별 앱별 평균 소비 전력를 알려줘. 에러바를 이용해서 알려줘</request>\\n\"}]}, {'role': 'assistant', 'content': [{'text': '{\\n  \"target_apps\": [\"app_a\", \"app_b\", \"app_c\", \"app_d\", \"app_e\"],\\n  \"analysis_request\": \"요일별 각 앱(app_a, app_b, app_c, app_d, app_e)의 평균 소비 전력을 계산하고, 에러바를 포함한 차트로 표현해주세요.\"\\n}'}]}, {'role': 'user', 'content': [{'text': \"\\nThis is the result of `print(df.head())`: <dataset>,날짜,app_a,app_b,app_c,app_d,app_e,요일\\n2,2024-05-03,128,156,99,100,90,4\\n33,2024-06-03,89,139,117,133,146,0\\n22,2024-05-23,81,142,124,138,94,3\\n16,2024-05-17,84,139,139,148,151,4\\n13,2024-05-14,156,109,111,125,93,1\\n24,2024-05-25,108,139,121,105,110,5\\n60,2024-06-30,153,100,102,100,136,6\\n76,2024-07-16,155,125,84,153,126,1\\n80,2024-07-20,158,109,95,102,92,5\\n68,2024-07-08,118,148,159,126,136,0\\n</dataset>\\n\\nHere is the column information in detail, this is the results of `print(column_info)`: <column_info>,컬럼 명,컬럼 한글명,DATA TYPE\\n0,날짜,날짜,DATE\\n1,app_a,app a의 전력사용 양,BIGINT\\n2,app_b,app b의 전력사용 양,BIGINT\\n3,app_c,app c의 전력사용 양,BIGINT\\n4,app_d,app d의 전력사용 양,BIGINT\\n5,app_e,app e의 전력사용 양,BIGINT\\n</column_info>\\n\\nHere is user's request: <request>요일별 a 앱의 평균 소비 전력를 알려줘. 에러바를 이용해서 알려줘</request>\\n\"}]}, {'role': 'assistant', 'content': [{'text': '{\\n  \"target_apps\": [\"app_a\"],\\n  \"analysis_request\": \"요일별 app_a의 평균 소비 전력을 계산하고, 에러바를 포함한 차트로 표현\"\\n}'}]}]\n",
      "----\n",
      "----\n",
      "state {'ask': '요일별 a 앱의 평균 소비 전력를 알려줘. 에러바를 이용해서 알려줘', 'target_apps': ['app_a'], 'analysis_request': '요일별 app_a의 평균 소비 전력을 계산하고, 에러바를 포함한 차트로 표현', 'chart_codes': '\\nimport pandas as pd\\nimport matplotlib.pyplot as plt\\nimport seaborn as sns\\nfrom datetime import datetime\\n\\n# 날짜 열을 datetime 형식으로 변환\\ndf[\\'날짜\\'] = pd.to_datetime(df[\\'날짜\\'])\\n\\n# 요일 정보 추가 (0: 월요일, 6: 일요일)\\ndf[\\'요일\\'] = df[\\'날짜\\'].dt.dayofweek\\n\\n# 요일별 각 앱의 평균 소비 전력 계산\\nweekly_avg = df.groupby(\\'요일\\')[[\\'app_a\\', \\'app_b\\', \\'app_c\\', \\'app_d\\', \\'app_e\\']].mean()\\n\\n# 요일별 각 앱의 표준편차 계산 (에러바용)\\nweekly_std = df.groupby(\\'요일\\')[[\\'app_a\\', \\'app_b\\', \\'app_c\\', \\'app_d\\', \\'app_e\\']].std()\\n\\n# 그래프 설정\\nplt.figure(figsize=(12, 6))\\ndays = [\\'Mon\\', \\'Tue\\', \\'Wed\\', \\'Thu\\', \\'Fri\\', \\'Sat\\', \\'Sun\\']\\nx = range(len(days))\\nwidth = 0.15\\n\\n# 각 앱별로 막대 그래프 그리기\\nfor i, app in enumerate([\\'app_a\\', \\'app_b\\', \\'app_c\\', \\'app_d\\', \\'app_e\\']):\\n    plt.bar([xi + width*i for xi in x], weekly_avg[app], width, label=app, \\n            yerr=weekly_std[app], capsize=5)\\n\\n# 그래프 꾸미기\\nplt.xlabel(\\'Day of Week\\')\\nplt.ylabel(\\'Average Power Consumption\\')\\nplt.title(\\'Average Power Consumption by App and Day of Week\\')\\nplt.xticks([xi + width*2 for xi in x], days)\\nplt.legend()\\n\\n# 그리드 추가\\nplt.grid(axis=\\'y\\', linestyle=\\'--\\', alpha=0.7)\\n\\n# 그래프 저장 및 표시\\ntry:\\n    plt.savefig(\\'power_consumption_by_day.png\\')\\n    print(\"Chart saved as \\'power_consumption_by_day.png\\'\")\\nexcept Exception as e:\\n    print(f\"Error saving chart: {e}\")\\n\\nplt.show()\\n', 'chart_codes_desc': None, 'response': None}\n",
      "\n",
      "This is the result of `print(df.head())`: <dataset>,날짜,app_a,app_b,app_c,app_d,app_e,요일\n",
      "2,2024-05-03,128,156,99,100,90,4\n",
      "33,2024-06-03,89,139,117,133,146,0\n",
      "22,2024-05-23,81,142,124,138,94,3\n",
      "16,2024-05-17,84,139,139,148,151,4\n",
      "13,2024-05-14,156,109,111,125,93,1\n",
      "24,2024-05-25,108,139,121,105,110,5\n",
      "60,2024-06-30,153,100,102,100,136,6\n",
      "76,2024-07-16,155,125,84,153,126,1\n",
      "80,2024-07-20,158,109,95,102,92,5\n",
      "68,2024-07-08,118,148,159,126,136,0\n",
      "</dataset>\n",
      "\n",
      "Here is the column information in detail, this is the results of `print(column_info)`: <column_info>,컬럼 명,컬럼 한글명,DATA TYPE\n",
      "0,날짜,날짜,DATE\n",
      "1,app_a,app a의 전력사용 양,BIGINT\n",
      "2,app_b,app b의 전력사용 양,BIGINT\n",
      "3,app_c,app c의 전력사용 양,BIGINT\n",
      "4,app_d,app d의 전력사용 양,BIGINT\n",
      "5,app_e,app e의 전력사용 양,BIGINT\n",
      "</column_info>\n",
      "\n",
      "Here is the question: <question>요일별 app_a의 평균 소비 전력을 계산하고, 에러바를 포함한 차트로 표현</question>\n",
      "\n",
      "Variable `df: pd.DataFrame` is already declared.\n",
      "\n",
      "\n",
      "\n",
      "\n",
      "{\n",
      "    \"code\": \"\"\"\n",
      "import pandas as pd\n",
      "import matplotlib.pyplot as plt\n",
      "import seaborn as sns\n",
      "\n",
      "# 날짜 컬럼을 datetime 형식으로 변환\n",
      "df['날짜'] = pd.to_datetime(df['날짜'])\n",
      "\n",
      "# 요일 정보 추출 (0: 월요일, 6: 일요일)\n",
      "df['요일'] = df['날짜'].dt.dayofweek\n",
      "\n",
      "# 요일별 app_a의 평균과 표준편차 계산\n",
      "daily_stats = df.groupby('요일')['app_a'].agg(['mean', 'std']).reset_index()\n",
      "\n",
      "# 요일 이름 리스트 생성\n",
      "day_names = ['Monday', 'Tuesday', 'Wednesday', 'Thursday', 'Friday', 'Saturday', 'Sunday']\n",
      "daily_stats['day_name'] = daily_stats['요일'].map(lambda x: day_names[x])\n",
      "\n",
      "# 그래프 스타일 설정\n",
      "plt.figure(figsize=(12, 6))\n",
      "sns.set_style(\"whitegrid\")\n",
      "\n",
      "# 막대 그래프 그리기\n",
      "bar_plot = sns.barplot(x='day_name', y='mean', data=daily_stats, \n",
      "                       order=day_names, color='skyblue', \n",
      "                       capsize=0.1, errcolor='gray', errwidth=2)\n",
      "\n",
      "# 에러바 추가\n",
      "plt.errorbar(x=range(len(daily_stats)), y=daily_stats['mean'], \n",
      "             yerr=daily_stats['std'], fmt='none', color='gray', capsize=5)\n",
      "\n",
      "# 그래프 제목과 축 레이블 설정\n",
      "plt.title('Average Power Consumption of App A by Day of Week', fontsize=16)\n",
      "plt.xlabel('Day of Week', fontsize=12)\n",
      "plt.ylabel('Average Power Consumption', fontsize=12)\n",
      "\n",
      "# y축 범위 설정 (0부터 시작)\n",
      "plt.ylim(bottom=0)\n",
      "\n",
      "# x축 레이블 회전\n",
      "plt.xticks(rotation=45)\n",
      "\n",
      "# 각 막대 위에 평균값 표시\n",
      "for i, v in enumerate(daily_stats['mean']):\n",
      "    bar_plot.text(i, v, f'{v:.2f}', ha='center', va='bottom')\n",
      "\n",
      "# 그래프 저장 및 출력\n",
      "plt.tight_layout()\n",
      "plt.savefig('app_a_daily_consumption.png')\n",
      "plt.show()\n",
      "\"\"\"\n",
      "}response {'text': '{\\n    \"code\": \"\"\"\\nimport pandas as pd\\nimport matplotlib.pyplot as plt\\nimport seaborn as sns\\n\\n# 날짜 컬럼을 datetime 형식으로 변환\\ndf[\\'날짜\\'] = pd.to_datetime(df[\\'날짜\\'])\\n\\n# 요일 정보 추출 (0: 월요일, 6: 일요일)\\ndf[\\'요일\\'] = df[\\'날짜\\'].dt.dayofweek\\n\\n# 요일별 app_a의 평균과 표준편차 계산\\ndaily_stats = df.groupby(\\'요일\\')[\\'app_a\\'].agg([\\'mean\\', \\'std\\']).reset_index()\\n\\n# 요일 이름 리스트 생성\\nday_names = [\\'Monday\\', \\'Tuesday\\', \\'Wednesday\\', \\'Thursday\\', \\'Friday\\', \\'Saturday\\', \\'Sunday\\']\\ndaily_stats[\\'day_name\\'] = daily_stats[\\'요일\\'].map(lambda x: day_names[x])\\n\\n# 그래프 스타일 설정\\nplt.figure(figsize=(12, 6))\\nsns.set_style(\"whitegrid\")\\n\\n# 막대 그래프 그리기\\nbar_plot = sns.barplot(x=\\'day_name\\', y=\\'mean\\', data=daily_stats, \\n                       order=day_names, color=\\'skyblue\\', \\n                       capsize=0.1, errcolor=\\'gray\\', errwidth=2)\\n\\n# 에러바 추가\\nplt.errorbar(x=range(len(daily_stats)), y=daily_stats[\\'mean\\'], \\n             yerr=daily_stats[\\'std\\'], fmt=\\'none\\', color=\\'gray\\', capsize=5)\\n\\n# 그래프 제목과 축 레이블 설정\\nplt.title(\\'Average Power Consumption of App A by Day of Week\\', fontsize=16)\\nplt.xlabel(\\'Day of Week\\', fontsize=12)\\nplt.ylabel(\\'Average Power Consumption\\', fontsize=12)\\n\\n# y축 범위 설정 (0부터 시작)\\nplt.ylim(bottom=0)\\n\\n# x축 레이블 회전\\nplt.xticks(rotation=45)\\n\\n# 각 막대 위에 평균값 표시\\nfor i, v in enumerate(daily_stats[\\'mean\\']):\\n    bar_plot.text(i, v, f\\'{v:.2f}\\', ha=\\'center\\', va=\\'bottom\\')\\n\\n# 그래프 저장 및 출력\\nplt.tight_layout()\\nplt.savefig(\\'app_a_daily_consumption.png\\')\\nplt.show()\\n\"\"\"\\n}', 'toolUse': None}\n",
      "chart_codes \n",
      "import pandas as pd\n",
      "import matplotlib.pyplot as plt\n",
      "import seaborn as sns\n",
      "\n",
      "# 날짜 컬럼을 datetime 형식으로 변환\n",
      "df['날짜'] = pd.to_datetime(df['날짜'])\n",
      "\n",
      "# 요일 정보 추출 (0: 월요일, 6: 일요일)\n",
      "df['요일'] = df['날짜'].dt.dayofweek\n",
      "\n",
      "# 요일별 app_a의 평균과 표준편차 계산\n",
      "daily_stats = df.groupby('요일')['app_a'].agg(['mean', 'std']).reset_index()\n",
      "\n",
      "# 요일 이름 리스트 생성\n",
      "day_names = ['Monday', 'Tuesday', 'Wednesday', 'Thursday', 'Friday', 'Saturday', 'Sunday']\n",
      "daily_stats['day_name'] = daily_stats['요일'].map(lambda x: day_names[x])\n",
      "\n",
      "# 그래프 스타일 설정\n",
      "plt.figure(figsize=(12, 6))\n",
      "sns.set_style(\"whitegrid\")\n",
      "\n",
      "# 막대 그래프 그리기\n",
      "bar_plot = sns.barplot(x='day_name', y='mean', data=daily_stats, \n",
      "                       order=day_names, color='skyblue', \n",
      "                       capsize=0.1, errcolor='gray', errwidth=2)\n",
      "\n",
      "# 에러바 추가\n",
      "plt.errorbar(x=range(len(daily_stats)), y=daily_stats['mean'], \n",
      "             yerr=daily_stats['std'], fmt='none', color='gray', capsize=5)\n",
      "\n",
      "# 그래프 제목과 축 레이블 설정\n",
      "plt.title('Average Power Consumption of App A by Day of Week', fontsize=16)\n",
      "plt.xlabel('Day of Week', fontsize=12)\n",
      "plt.ylabel('Average Power Consumption', fontsize=12)\n",
      "\n",
      "# y축 범위 설정 (0부터 시작)\n",
      "plt.ylim(bottom=0)\n",
      "\n",
      "# x축 레이블 회전\n",
      "plt.xticks(rotation=45)\n",
      "\n",
      "# 각 막대 위에 평균값 표시\n",
      "for i, v in enumerate(daily_stats['mean']):\n",
      "    bar_plot.text(i, v, f'{v:.2f}', ha='center', va='bottom')\n",
      "\n",
      "# 그래프 저장 및 출력\n",
      "plt.tight_layout()\n",
      "plt.savefig('app_a_daily_consumption.png')\n",
      "plt.show()\n",
      "\n",
      "----\n",
      "----\n",
      "state {'ask': '요일별 a 앱의 평균 소비 전력를 알려줘. 에러바를 이용해서 알려줘', 'target_apps': ['app_a'], 'analysis_request': '요일별 app_a의 평균 소비 전력을 계산하고, 에러바를 포함한 차트로 표현', 'chart_codes': '\\nimport pandas as pd\\nimport matplotlib.pyplot as plt\\nimport seaborn as sns\\n\\n# 날짜 컬럼을 datetime 형식으로 변환\\ndf[\\'날짜\\'] = pd.to_datetime(df[\\'날짜\\'])\\n\\n# 요일 정보 추출 (0: 월요일, 6: 일요일)\\ndf[\\'요일\\'] = df[\\'날짜\\'].dt.dayofweek\\n\\n# 요일별 app_a의 평균과 표준편차 계산\\ndaily_stats = df.groupby(\\'요일\\')[\\'app_a\\'].agg([\\'mean\\', \\'std\\']).reset_index()\\n\\n# 요일 이름 리스트 생성\\nday_names = [\\'Monday\\', \\'Tuesday\\', \\'Wednesday\\', \\'Thursday\\', \\'Friday\\', \\'Saturday\\', \\'Sunday\\']\\ndaily_stats[\\'day_name\\'] = daily_stats[\\'요일\\'].map(lambda x: day_names[x])\\n\\n# 그래프 스타일 설정\\nplt.figure(figsize=(12, 6))\\nsns.set_style(\"whitegrid\")\\n\\n# 막대 그래프 그리기\\nbar_plot = sns.barplot(x=\\'day_name\\', y=\\'mean\\', data=daily_stats, \\n                       order=day_names, color=\\'skyblue\\', \\n                       capsize=0.1, errcolor=\\'gray\\', errwidth=2)\\n\\n# 에러바 추가\\nplt.errorbar(x=range(len(daily_stats)), y=daily_stats[\\'mean\\'], \\n             yerr=daily_stats[\\'std\\'], fmt=\\'none\\', color=\\'gray\\', capsize=5)\\n\\n# 그래프 제목과 축 레이블 설정\\nplt.title(\\'Average Power Consumption of App A by Day of Week\\', fontsize=16)\\nplt.xlabel(\\'Day of Week\\', fontsize=12)\\nplt.ylabel(\\'Average Power Consumption\\', fontsize=12)\\n\\n# y축 범위 설정 (0부터 시작)\\nplt.ylim(bottom=0)\\n\\n# x축 레이블 회전\\nplt.xticks(rotation=45)\\n\\n# 각 막대 위에 평균값 표시\\nfor i, v in enumerate(daily_stats[\\'mean\\']):\\n    bar_plot.text(i, v, f\\'{v:.2f}\\', ha=\\'center\\', va=\\'bottom\\')\\n\\n# 그래프 저장 및 출력\\nplt.tight_layout()\\nplt.savefig(\\'app_a_daily_consumption.png\\')\\nplt.show()\\n', 'chart_codes_desc': None, 'response': None}\n",
      "===\n",
      "\n",
      "import pandas as pd\n",
      "import matplotlib.pyplot as plt\n",
      "import seaborn as sns\n",
      "\n",
      "# 날짜 컬럼을 datetime 형식으로 변환\n",
      "df['날짜'] = pd.to_datetime(df['날짜'])\n",
      "\n",
      "# 요일 정보 추출 (0: 월요일, 6: 일요일)\n",
      "df['요일'] = df['날짜'].dt.dayofweek\n",
      "\n",
      "# 요일별 app_a의 평균과 표준편차 계산\n",
      "daily_stats = df.groupby('요일')['app_a'].agg(['mean', 'std']).reset_index()\n",
      "\n",
      "# 요일 이름 리스트 생성\n",
      "day_names = ['Monday', 'Tuesday', 'Wednesday', 'Thursday', 'Friday', 'Saturday', 'Sunday']\n",
      "daily_stats['day_name'] = daily_stats['요일'].map(lambda x: day_names[x])\n",
      "\n",
      "# 그래프 스타일 설정\n",
      "plt.figure(figsize=(12, 6))\n",
      "sns.set_style(\"whitegrid\")\n",
      "\n",
      "# 막대 그래프 그리기\n",
      "bar_plot = sns.barplot(x='day_name', y='mean', data=daily_stats, \n",
      "                       order=day_names, color='skyblue', \n",
      "                       capsize=0.1, errcolor='gray', errwidth=2)\n",
      "\n",
      "# 에러바 추가\n",
      "plt.errorbar(x=range(len(daily_stats)), y=daily_stats['mean'], \n",
      "             yerr=daily_stats['std'], fmt='none', color='gray', capsize=5)\n",
      "\n",
      "# 그래프 제목과 축 레이블 설정\n",
      "plt.title('Average Power Consumption of App A by Day of Week', fontsize=16)\n",
      "plt.xlabel('Day of Week', fontsize=12)\n",
      "plt.ylabel('Average Power Consumption', fontsize=12)\n",
      "\n",
      "# y축 범위 설정 (0부터 시작)\n",
      "plt.ylim(bottom=0)\n",
      "\n",
      "# x축 레이블 회전\n",
      "plt.xticks(rotation=45)\n",
      "\n",
      "# 각 막대 위에 평균값 표시\n",
      "for i, v in enumerate(daily_stats['mean']):\n",
      "    bar_plot.text(i, v, f'{v:.2f}', ha='center', va='bottom')\n",
      "\n",
      "# 그래프 저장 및 출력\n",
      "plt.tight_layout()\n",
      "plt.savefig('app_a_daily_consumption.png')\n",
      "plt.show()\n",
      "\n",
      "===\n"
     ]
    },
    {
     "name": "stderr",
     "output_type": "stream",
     "text": [
      "<string>:24: FutureWarning: \n",
      "\n",
      "The `errcolor` parameter is deprecated. And will be removed in v0.15.0. Pass `err_kws={'color': 'gray'}` instead.\n",
      "\n",
      "<string>:24: FutureWarning: \n",
      "\n",
      "The `errwidth` parameter is deprecated. And will be removed in v0.15.0. Pass `err_kws={'linewidth': 2}` instead.\n",
      "\n"
     ]
    },
    {
     "data": {
      "image/png": "[encoded data removed]",
      "text/plain": [
       "<Figure size 1200x600 with 1 Axes>"
      ]
     },
     "metadata": {},
     "output_type": "display_data"
    },
    {
     "name": "stdout",
     "output_type": "stream",
     "text": [
      "None\n",
      "----\n",
      "----\n"
     ]
    }
   ],
   "source": [
    "analyzer.invoke(\n",
    "    ask=\"요일별 a 앱의 평균 소비 전력를 알려줘. 에러바를 이용해서 알려줘\"\n",
    ")"
   ]
  },
  {
   "cell_type": "code",
   "execution_count": 48,
   "id": "87d32b0c-baa0-4f40-853c-2c16b984154d",
   "metadata": {},
   "outputs": [],
   "source": [
    "import numpy as np"
   ]
  },
  {
   "cell_type": "code",
   "execution_count": 49,
   "id": "be5bb5ab-dd1e-416b-aa3d-ed748f74d4ba",
   "metadata": {},
   "outputs": [],
   "source": [
    "code = \"\"\"\n",
    "import pandas as pd\n",
    "import matplotlib.pyplot as plt\n",
    "import seaborn as sns\n",
    "from datetime import datetime\n",
    "\n",
    "# Ensure the '날짜' column is in datetime format\n",
    "df['날짜'] = pd.to_datetime(df['날짜'])\n",
    "\n",
    "# Extract day of week (0 = Monday, 6 = Sunday)\n",
    "df['day_of_week'] = df['날짜'].dt.dayofweek\n",
    "\n",
    "# Dictionary to map day numbers to day names\n",
    "day_map = {0: 'Mon', 1: 'Tue', 2: 'Wed', 3: 'Thu', 4: 'Fri', 5: 'Sat', 6: 'Sun'}\n",
    "df['day_name'] = df['day_of_week'].map(day_map)\n",
    "\n",
    "# List of apps\n",
    "apps = ['app_a', 'app_b', 'app_c', 'app_d', 'app_e']\n",
    "\n",
    "# Calculate mean and standard error for each app and day\n",
    "data = []\n",
    "for app in apps:\n",
    "    for day in range(7):\n",
    "        mean = df[df['day_of_week'] == day][app].mean()\n",
    "        std_error = df[df['day_of_week'] == day][app].std() / np.sqrt(len(df[df['day_of_week'] == day]))\n",
    "        data.append({'app': app, 'day': day_map[day], 'mean': mean, 'std_error': std_error})\n",
    "\n",
    "result_df = pd.DataFrame(data)\n",
    "\n",
    "# Set up the plot\n",
    "plt.figure(figsize=(12, 6))\n",
    "sns.set_style(\"whitegrid\")\n",
    "\n",
    "# Create the bar plot with error bars\n",
    "ax = sns.barplot(x='day', y='mean', hue='app', data=result_df, \n",
    "                 palette='viridis', errorbar='se', capsize=0.1)\n",
    "\n",
    "# Customize the plot\n",
    "plt.title('Average Power Consumption by App and Day of Week', fontsize=16)\n",
    "plt.xlabel('Day of Week', fontsize=12)\n",
    "plt.ylabel('Average Power Consumption', fontsize=12)\n",
    "plt.legend(title='App', title_fontsize='12', fontsize='10')\n",
    "\n",
    "# Rotate x-axis labels for better readability\n",
    "plt.xticks(rotation=45)\n",
    "\n",
    "# Adjust layout and display the plot\n",
    "plt.tight_layout()\n",
    "plt.show()\n",
    "\n",
    "# Save the plot (optional)\n",
    "plt.savefig('power_consumption_by_app_and_day.png', dpi=300, bbox_inches='tight')\n",
    "\"\"\""
   ]
  },
  {
   "cell_type": "code",
   "execution_count": 50,
   "id": "081d5fec-2150-4d5b-9f66-b823824a5195",
   "metadata": {},
   "outputs": [
    {
     "ename": "NameError",
     "evalue": "name 'np' is not defined",
     "output_type": "error",
     "traceback": [
      "\u001b[0;31m---------------------------------------------------------------------------\u001b[0m",
      "\u001b[0;31mNameError\u001b[0m                                 Traceback (most recent call last)",
      "Cell \u001b[0;32mIn[50], line 1\u001b[0m\n\u001b[0;32m----> 1\u001b[0m res \u001b[38;5;241m=\u001b[39m \u001b[43mexec\u001b[49m\u001b[43m(\u001b[49m\u001b[43mcode\u001b[49m\u001b[43m,\u001b[49m\u001b[43m \u001b[49m\u001b[43m{\u001b[49m\u001b[38;5;124;43m\"\u001b[39;49m\u001b[38;5;124;43mdf\u001b[39;49m\u001b[38;5;124;43m\"\u001b[39;49m\u001b[43m:\u001b[49m\u001b[43m \u001b[49m\u001b[43mdf\u001b[49m\u001b[43m}\u001b[49m\u001b[43m)\u001b[49m\n",
      "File \u001b[0;32m<string>:25\u001b[0m\n",
      "\u001b[0;31mNameError\u001b[0m: name 'np' is not defined"
     ]
    }
   ],
   "source": [
    "res = exec(code, {\"df\": df})"
   ]
  },
  {
   "cell_type": "code",
   "execution_count": 39,
   "id": "c12c3517-4abe-45ca-a40d-7a07b44cdce4",
   "metadata": {},
   "outputs": [
    {
     "name": "stderr",
     "output_type": "stream",
     "text": [
      "<string>:12: FutureWarning: The default of observed=False is deprecated and will be changed to True in a future version of pandas. Pass observed=False to retain current behavior or observed=True to adopt the future default and silence this warning.\n",
      "<string>:13: FutureWarning: The default of observed=False is deprecated and will be changed to True in a future version of pandas. Pass observed=False to retain current behavior or observed=True to adopt the future default and silence this warning.\n"
     ]
    },
    {
     "data": {
      "text/plain": [
       "\"NameError: name 'i' is not defined\""
      ]
     },
     "execution_count": 39,
     "metadata": {},
     "output_type": "execute_result"
    },
    {
     "data": {
      "text/plain": [
       "<Figure size 1200x600 with 0 Axes>"
      ]
     },
     "metadata": {},
     "output_type": "display_data"
    }
   ],
   "source": [
    "tool = PythonAstREPLTool(locals={\"df\": df})\n",
    "            \n",
    "results = tool.invoke(code)\n",
    "results"
   ]
  },
  {
   "cell_type": "code",
   "execution_count": null,
   "id": "f5c709f9-3e7f-46a6-bdfc-6cfdc9efbca9",
   "metadata": {},
   "outputs": [],
   "source": []
  },
  {
   "cell_type": "code",
   "execution_count": null,
   "id": "67fadad8-d428-428c-aa2d-d23a2bf7ae07",
   "metadata": {},
   "outputs": [],
   "source": []
  },
  {
   "cell_type": "code",
   "execution_count": null,
   "id": "ca5d636f-356c-49b5-9961-0544f66ac7b3",
   "metadata": {},
   "outputs": [],
   "source": []
  },
  {
   "cell_type": "code",
   "execution_count": 16,
   "id": "949455c6-6346-4d13-bf2a-d3ba8e9ba1fd",
   "metadata": {},
   "outputs": [],
   "source": [
    "resutls = '{\\n    \"code\": \"\"\"\\nimport pandas as pd\\nimport matplotlib.pyplot as plt\\nfrom datetime import datetime, timedelta\\n\\n# 날짜를 datetime 형식으로 변환\\ndf[\\'날짜\\'] = pd.to_datetime(df[\\'날짜\\'])\\n\\n# 최근 날짜 찾기\\nlatest_date = df[\\'날짜\\'].max()\\n\\n# 최근 7일 데이터 필터링\\nseven_days_ago = latest_date - timedelta(days=6)\\nrecent_data = df[df[\\'날짜\\'] >= seven_days_ago]\\n\\n# 앱 목록\\napps = [\\'app_a\\', \\'app_b\\', \\'app_c\\', \\'app_d\\', \\'app_e\\']\\n\\n# 그래프 설정\\nfig, ax = plt.subplots(figsize=(12, 6))\\n\\n# 막대 그래프 그리기\\nbar_width = 0.15\\nindex = range(7)\\n\\nfor i, app in enumerate(apps):\\n    values = recent_data[app].values\\n    ax.bar([x + i * bar_width for x in index], values, bar_width, label=app)\\n\\n# x축 레이블 설정\\nax.set_xlabel(\\'Date\\')\\nax.set_ylabel(\\'Power Consumption\\')\\nax.set_title(\\'Daily Power Consumption by App (Last 7 Days)\\')\\n\\n# x축 눈금 설정\\nax.set_xticks([x + bar_width * 2 for x in index])\\nax.set_xticklabels(recent_data[\\'날짜\\'].dt.strftime(\\'%Y-%m-%d\\').values)\\n\\n# 범례 추가\\nax.legend()\\n\\n# 그래프 표시\\nplt.tight_layout()\\nplt.show()\\n\\n# 그래프 저장 (선택사항)\\n# plt.savefig(\\'power_consumption_last_7_days.png\\')\\n    \"\"\",\\n    \"description\": \"\"\"이 코드는 주어진 데이터프레임에서 최근 7일간의 각 앱별 일일 전력 소비량을 계산하고 막대 그래프로 표시합니다. 주요 단계는 다음과 같습니다:\\n\\n1. 날짜 데이터를 datetime 형식으로 변환합니다.\\n2. 최근 7일 데이터를 필터링합니다.\\n3. matplotlib를 사용하여 막대 그래프를 생성합니다.\\n4. 각 앱에 대해 다른 색상의 막대를 그립니다.\\n5. x축에는 날짜, y축에는 전력 소비량을 표시합니다.\\n6. 범례를 추가하여 각 막대가 어떤 앱을 나타내는지 표시합니다.\\n\\n생성된 차트는 최근 7일 동안 각 앱(app_a, app_b, app_c, app_d, app_e)의 일일 전력 소비량을 시각적으로 비교할 수 있게 해줍니다. 이를 통해 어떤 앱이 가장 많은 전력을 소비하는지, 소비 패턴이 시간에 따라 어떻게 변하는지 쉽게 파악할 수 있습니다.\"\"\"}'"
   ]
  },
  {
   "cell_type": "code",
   "execution_count": 17,
   "id": "48d2035b-6bac-4285-9cec-1d27447e5415",
   "metadata": {},
   "outputs": [
    {
     "name": "stderr",
     "output_type": "stream",
     "text": [
      "/tmp/ipykernel_9253/3670701790.py:18: FutureWarning: The default of observed=False is deprecated and will be changed to True in a future version of pandas. Pass observed=False to retain current behavior or observed=True to adopt the future default and silence this warning.\n",
      "  mean = df.groupby('day_of_week')[app].mean()\n",
      "/tmp/ipykernel_9253/3670701790.py:19: FutureWarning: The default of observed=False is deprecated and will be changed to True in a future version of pandas. Pass observed=False to retain current behavior or observed=True to adopt the future default and silence this warning.\n",
      "  std_err = df.groupby('day_of_week')[app].sem()\n"
     ]
    },
    {
     "name": "stdout",
     "output_type": "stream",
     "text": [
      "Chart saved as 'power_consumption_by_day_and_app.png'\n"
     ]
    },
    {
     "data": {
      "image/png": "[encoded data removed]",
      "text/plain": [
       "<Figure size 1200x600 with 1 Axes>"
      ]
     },
     "metadata": {},
     "output_type": "display_data"
    }
   ],
   "source": [
    "import pandas as pd\n",
    "import matplotlib.pyplot as plt\n",
    "import seaborn as sns\n",
    "\n",
    "# Ensure the 'day_of_week' column is present in the DataFrame\n",
    "if 'day_of_week' not in df.columns:\n",
    "    print(\"Error: 'day_of_week' column is missing from the DataFrame.\")\n",
    "    exit()\n",
    "\n",
    "# Convert 'day_of_week' to categorical type with correct order\n",
    "days_order = ['Monday', 'Tuesday', 'Wednesday', 'Thursday', 'Friday', 'Saturday', 'Sunday']\n",
    "df['day_of_week'] = pd.Categorical(df['day_of_week'], categories=days_order, ordered=True)\n",
    "\n",
    "# Calculate mean and standard error for each app by day of week\n",
    "apps = ['app_a', 'app_b', 'app_c', 'app_d', 'app_e']\n",
    "data = []\n",
    "for app in apps:\n",
    "    mean = df.groupby('day_of_week')[app].mean()\n",
    "    std_err = df.groupby('day_of_week')[app].sem()\n",
    "    data.append((app, mean, std_err))\n",
    "\n",
    "# Set up the plot\n",
    "plt.figure(figsize=(12, 6))\n",
    "width = 0.15\n",
    "x = range(len(days_order))\n",
    "\n",
    "# Plot bars and error bars for each app\n",
    "for i, (app, mean, std_err) in enumerate(data):\n",
    "    plt.bar([xi + i*width for xi in x], mean, width, label=app.upper(), alpha=0.7)\n",
    "    plt.errorbar([xi + i*width for xi in x], mean, yerr=std_err, fmt='none', ecolor='black', capsize=5)\n",
    "\n",
    "# Customize the plot\n",
    "plt.xlabel('Day of Week')\n",
    "plt.ylabel('Average Power Consumption')\n",
    "plt.title('Average Power Consumption by App and Day of Week')\n",
    "plt.xticks([xi + width*2 for xi in x], days_order)\n",
    "plt.legend(title='Apps', bbox_to_anchor=(1.05, 1), loc='upper left')\n",
    "plt.tight_layout()\n",
    "\n",
    "# Save and show the plot\n",
    "try:\n",
    "    plt.savefig('power_consumption_by_day_and_app.png')\n",
    "    print(\"Chart saved as 'power_consumption_by_day_and_app.png'\")\n",
    "    plt.show()\n",
    "except Exception as e:\n",
    "    print(f\"Error saving or displaying the chart: {e}\")"
   ]
  },
  {
   "cell_type": "code",
   "execution_count": null,
   "id": "311e4fa7-4da5-4a26-9ddb-047fa01d1b61",
   "metadata": {},
   "outputs": [],
   "source": []
  },
  {
   "cell_type": "code",
   "execution_count": null,
   "id": "3ad2e1ef-c5ce-4c83-8d76-04dbd33a0782",
   "metadata": {},
   "outputs": [],
   "source": [
    "analyzer.show_graph()"
   ]
  },
  {
   "cell_type": "code",
   "execution_count": null,
   "id": "928c87c9-f9f1-46b2-9d89-7b04507cdc66",
   "metadata": {},
   "outputs": [],
   "source": [
    "aa = '{\\n  \"target_app\": [\"unspecified\"],\\n  \"analysis_request\": \"전력 사용량이 가장 높은 앱을 찾고, 그 앱의 평균 전력 사용량을 계산해주세요.\"\\n}'"
   ]
  },
  {
   "cell_type": "code",
   "execution_count": null,
   "id": "f0f7fba9-84aa-45a0-947a-c8de41e7ecad",
   "metadata": {},
   "outputs": [],
   "source": [
    "eval(aa)"
   ]
  },
  {
   "cell_type": "code",
   "execution_count": null,
   "id": "2a999897-e08e-4206-b582-a58f0231836f",
   "metadata": {},
   "outputs": [],
   "source": []
  },
  {
   "cell_type": "code",
   "execution_count": null,
   "id": "8dd9d558-c56e-49fd-a212-01f00bc766b2",
   "metadata": {},
   "outputs": [],
   "source": []
  },
  {
   "cell_type": "code",
   "execution_count": null,
   "id": "b7a9de02-036b-4869-b52e-c499fec6c021",
   "metadata": {},
   "outputs": [],
   "source": []
  },
  {
   "cell_type": "code",
   "execution_count": null,
   "id": "499f55ae",
   "metadata": {},
   "outputs": [],
   "source": [
    "from textwrap import dedent\n",
    "from utils.bedrock import bedrock_utils\n",
    "from utils.text_to_insight import insight_extraction_chain, insight_extraction_tools\n",
    "\n",
    "from typing import TypedDict, Literal, Any\n",
    "from langgraph.graph import END, StateGraph\n",
    "from langgraph.checkpoint.memory import MemorySaver\n",
    "\n",
    "\n"
   ]
  },
  {
   "cell_type": "code",
   "execution_count": null,
   "id": "8540349f",
   "metadata": {},
   "outputs": [],
   "source": [
    "class app_insight_extraction():\n",
    "\n",
    "    def __init__(self, **kwargs):\n",
    "\n",
    "        self.llm = kwargs[\"llm\"]\n",
    "        self.df = kwargs[\"df\"]\n",
    "        self.column_info = kwargs[\"column_info\"]\n",
    "        self.initialization()\n",
    "        self.graph_definition()\n",
    "        self.messages = []\n",
    "        #self.system_prompts = kwargs[\"system_prompts\"]\n",
    "        #self.user_prompts = kwargs[\"user_prompts\"]\n",
    "        #\n",
    "        #self.multi_turn = kwargs.get(\"multi_turn\", False)\n",
    "        #self.verbose = kwargs.get(\"verbose\", False)\n",
    "        #self.tool_config = kwargs.get(\"tool_config\", False)\n",
    "        \n",
    "        # self.request_prompt = dedent(\n",
    "        #     '''\n",
    "        #     메시지 작성 시 요청사항 입니다.:\n",
    "        #     <request>{request}</request>\n",
    "        #     '''\n",
    "        # )\n",
    "    \n",
    "    class GraphState_(TypedDict):\n",
    "        topic: str\n",
    "        anaysis_points: list[str]\n",
    "        response: str\n",
    "\n",
    "    def initialization(self, **kwargs):\n",
    "\n",
    "        def analysis_points(self, ):\n",
    "\n",
    "            prompt = dedent(\n",
    "                '''\n",
    "                You are an advanced data analysis assistant.\n",
    "                Your role is to help extract meaningful insights from user-provided datasets based on a specific topic they provide.\n",
    "                \n",
    "                Follow these steps to generate a list of key data points and statistics to investigate:\n",
    "                1. Carefully consider the user-provided topic.\n",
    "                2. Analyze the structure and content of the provided data set.\n",
    "                3. Generate a list of 5-7 key data points or statistics that would be most relevant and insightful for the given topic. These should be phrased as clear, actionable requests or questions.\n",
    "                4. Ensure each point focuses on a different aspect of the topic, covering various angles of analysis.\n",
    "                5. Start each point with an action verb tag (e.g., \"[Calculate]\", \"[Compare]\", \"[Identify]\", \"[Analyze]\", \"[Determine]\", etc.).\n",
    "                6. Make sure the points are specific enough to guide a detailed analysis but broad enough to allow for comprehensive insights.\n",
    "                7. If applicable, include points that address trends over time, geographical differences, demographic variations, or other relevant factors.\n",
    "                8. Conclude your list with an open-ended point that encourages exploring any unexpected or noteworthy patterns in the data related to the topic.\n",
    "                9. Specify the column names used in your analysis.\n",
    "                10. All points should be provided within the tags <analysis_points></analysis_points> and numbered format.\n",
    "                11. Write in Korean.\n",
    "                \n",
    "                \n",
    "                Present your list in a clear.\n",
    "                Each point should be concise yet descriptive, providing a clear direction for the next steps of the analysis.    \n",
    "                Remember, your goal is to create a roadmap for a thorough, insightful analysis that will provide valuable information to the user about their chosen topic.\n",
    "                \n",
    "                '''\n",
    "            )\n",
    "            system_prompts = bedrock_utils.get_system_prompt(system_prompts=prompt)\n",
    "\n",
    "            user_prompts = dedent(\n",
    "                '''\n",
    "                This is the result of `print(df.head())`: <dataset>{dataset}</dataset>\n",
    "\n",
    "                Here is the column information in detail, this is the results of `print(column_info)`: <column_info>{column_info}</column_info>\n",
    "                \n",
    "                Here is user's topic interested: <topic>{topic}</topic>\n",
    "                '''\n",
    "            )\n",
    "            \n",
    "            self.insight_generator = insight_extraction_chain(\n",
    "                llm=self.llm,\n",
    "                system_prompts=system_prompts,\n",
    "                user_prompts=user_prompts,\n",
    "                multi_turn=True,\n",
    "                verbose=False\n",
    "            )\n",
    "        \n",
    "        analysis_points(self, )\n",
    "\n",
    "\n",
    "    def graph_definition(self, **kwargs):\n",
    "\n",
    "        def _node_get_analysis_points(state): \n",
    "\n",
    "            topic = state[\"topic\"]        \n",
    "            dataset = str(self.df.sample(10, random_state=0).to_csv())\n",
    "            column_info = str(self.column_info.to_csv())\n",
    "            \n",
    "            response = self.insight_generator.invoke(\n",
    "                context={\n",
    "                    \"dataset\": dataset,\n",
    "                    \"column_info\": column_info,\n",
    "                    \"topic\":topic\n",
    "                }\n",
    "            )\n",
    "\n",
    "            self.messages.extend(self.insight_generator.get_messages())\n",
    "            print (\"messages\", self.messages)\n",
    "\n",
    "            return self.GraphState_(\n",
    "                response=response\n",
    "            )\n",
    "\n",
    "        def _node_second(state):\n",
    "\n",
    "            print (state)\n",
    "        \n",
    "        # langgraph.graph에서 StateGraph와 END를 가져옵니다.\n",
    "        workflow = StateGraph(self.GraphState_)\n",
    "\n",
    "        # Todo 를 작성합니다.\n",
    "        workflow.add_node(\"_node_get_analysis_points\", _node_get_analysis_points)  # 에이전트 노드를 추가합니다.\n",
    "        workflow.add_node(\"_node_second\", _node_second)  # 에이전트 노드를 추가합니다.\n",
    "\n",
    "        # 각 노드들을 연결합니다.\n",
    "        workflow.add_edge(\"_node_get_analysis_points\", \"_node_second\")\n",
    "        workflow.add_edge(\"_node_second\", END)\n",
    "\n",
    "        # 시작점을 설정합니다.\n",
    "        workflow.set_entry_point(\"_node_get_analysis_points\")\n",
    "\n",
    "        # 기록을 위한 메모리 저장소를 설정합니다.\n",
    "        memory = MemorySaver()\n",
    "\n",
    "        # 그래프를 컴파일합니다.\n",
    "        self.app = workflow.compile(checkpointer=memory)\n",
    "\n",
    "        from langchain_core.runnables import RunnableConfig\n",
    "        # app.stream을 통해 입력된 메시지에 대한 출력을 스트리밍합니다.\n",
    "\n",
    "        self.config = RunnableConfig(recursion_limit=100, configurable={\"thread_id\": \"InsightExtraction\"})\n",
    "\n",
    "    def invoke(self, **kwargs):\n",
    "\n",
    "        inputs = self.GraphState_(\n",
    "            topic=kwargs[\"topic\"]\n",
    "        )\n",
    "        for s in self.app.stream(inputs, self.config):\n",
    "            print(list(s.values())[0])\n",
    "            print(\"----\")\n",
    "    \n",
    "    def show_graph(self, ):\n",
    "        \n",
    "        from IPython.display import Image, display\n",
    "\n",
    "        try:\n",
    "            display(\n",
    "                Image(self.app.get_graph(xray=True).draw_mermaid_png())\n",
    "            )  # 실행 가능한 객체의 그래프를 mermaid 형식의 PNG로 그려서 표시합니다. \n",
    "            # xray=True는 추가적인 세부 정보를 포함합니다.\n",
    "        except:\n",
    "            # 이 부분은 추가적인 의존성이 필요하며 선택적으로 실행됩니다.\n",
    "            pass\n",
    "\n",
    "                \n",
    "        \n"
   ]
  },
  {
   "cell_type": "code",
   "execution_count": null,
   "id": "63e98d8f",
   "metadata": {},
   "outputs": [],
   "source": [
    "import pandas as pd"
   ]
  },
  {
   "cell_type": "code",
   "execution_count": null,
   "id": "900000c7",
   "metadata": {},
   "outputs": [],
   "source": [
    "df = pd.read_parquet(\"./dataset/data\")\n",
    "column_info = pd.read_csv(\"dataset/column_info.csv\")\n",
    "state = GraphState()"
   ]
  },
  {
   "cell_type": "code",
   "execution_count": null,
   "id": "b292c711",
   "metadata": {},
   "outputs": [],
   "source": [
    "app = app_insight_extraction(\n",
    "    llm=llm_text,\n",
    "    df=df,\n",
    "    column_info=column_info\n",
    ")"
   ]
  },
  {
   "cell_type": "code",
   "execution_count": null,
   "id": "bf72216f",
   "metadata": {},
   "outputs": [],
   "source": [
    "app.invoke(\n",
    "    topic=\"혼수 이사 분석\"\n",
    ")"
   ]
  },
  {
   "cell_type": "code",
   "execution_count": null,
   "id": "216225d9",
   "metadata": {},
   "outputs": [],
   "source": [
    "app.show_graph()"
   ]
  },
  {
   "cell_type": "markdown",
   "id": "13f589aa",
   "metadata": {},
   "source": [
    "## 3. App for Insight Extraction\n",
    "- GraphState(상태 저장 그래프): LangGraph는 그래프의 각 노드가 계산의 단계를 나타내며, 그래프는 계산이 진행됨에 따라 전달되고 업데이트되는 상태를 유지하는 상태 저장 그래프 개념을 중심으로 작동합니다.\n",
    "- Node(노드): 노드는 LangGraph의 구성 요소입니다. 각 노드는 함수 또는 계산 단계를 나타냅니다. 입력 처리, 의사 결정, 외부 API와의 상호 작용 등 특정 작업을 수행하도록 노드를 정의할 수 있습니다.\n",
    "- Edge(엣지): 에지는 그래프에서 노드를 연결하여 계산의 흐름을 정의합니다. LangGraph는 조건부 에지를 지원하므로 그래프의 현재 상태에 따라 실행할 다음 노드를 동적으로 결정할 수 있습니다."
   ]
  },
  {
   "cell_type": "markdown",
   "id": "7167ae50",
   "metadata": {},
   "source": [
    "### 3.1 GraphState \n",
    "- 각 노드에서 다음 노드로 전달되는 상태를 저장합니다."
   ]
  },
  {
   "cell_type": "code",
   "execution_count": null,
   "id": "fa3926e9",
   "metadata": {},
   "outputs": [],
   "source": [
    "import pandas as pd\n",
    "from typing import TypedDict, Literal, Any"
   ]
  },
  {
   "cell_type": "code",
   "execution_count": null,
   "id": "3cd604eb",
   "metadata": {},
   "outputs": [],
   "source": [
    "# GraphState 요소는 상태를 전달하는 용도로 사용됩니다.\n",
    "class GraphState(TypedDict):\n",
    "    df_path: str\n",
    "    column_info_path: str\n",
    "    topic: str\n",
    "    anaysis_points: list[str]\n",
    "    response: str\n",
    "    # goal: str  # 목표\n",
    "    # todo: list[str]  # 할 일 목록\n",
    "    # current_job: str  # 현재 작업\n",
    "    # total_time: int  # 총 소요시간(시간)\n",
    "    # time_spent: int  # 소요 시간(시간)\n",
    "    # status: str  # 상태(진행중, 다음 작업, 종료)"
   ]
  },
  {
   "cell_type": "markdown",
   "id": "e2847530",
   "metadata": {},
   "source": [
    "### 3.2 Node\n",
    "- Graph의 노드 (작업)을 정의합니다."
   ]
  },
  {
   "cell_type": "markdown",
   "id": "d5564670",
   "metadata": {},
   "source": [
    "#### 3.2.1 Insight Extractor"
   ]
  },
  {
   "cell_type": "code",
   "execution_count": null,
   "id": "55ddee9b",
   "metadata": {},
   "outputs": [],
   "source": [
    "from textwrap import dedent\n",
    "from utils.bedrock import bedrock_utils\n",
    "from utils.text_to_insight import insight_extraction_chain, insight_extraction_tools"
   ]
  },
  {
   "cell_type": "markdown",
   "id": "29374fe4",
   "metadata": {},
   "source": [
    "##### 3.2.1.1 system prompt 설정하기\n",
    "\n",
    "`당신은 고급 데이터 분석 보조원입니다.`<BR>\n",
    "`당신의 역할은 사용자가 제공한 특정 주제에 기반하여 사용자가 제공한 데이터 세트에서 의미 있는 인사이트를 추출하는 것을 돕는 것입니다.`<BR>\n",
    "`조사할 핵심 데이터 포인트와 통계의 목록을 생성하기 위해 다음 단계를 따르세요:`<BR>\n",
    "\n",
    "`1. 사용자가 제공한 주제를 신중히 고려하세요.`<BR>\n",
    "`2. 제공된 데이터 세트의 구조와 내용을 분석하세요.`<BR>\n",
    "`3. 주어진 주제에 가장 관련성 있고 통찰력 있는 5-7개의 핵심 데이터 포인트나 통계 목록을 생성하세요. 이들은 명확하고 실행 가능한 요청이나 질문으로 표현되어야 합니다.`<BR>\n",
    "`4. 각 포인트가 주제의 다른 측면에 초점을 맞추도록 하여 다양한 분석 각도를 다루도록 하세요.`<BR>\n",
    "`5. 각 포인트 작성시 행동 동사 태그로 시작해 주세요.(예: \"[계산]\", \"[비교]\", \"[식별]\", \"[분석]\", \"[결정]\" 등).`<BR>\n",
    "`6. 포인트들이 상세한 분석을 안내할 만큼 구체적이면서도 종합적인 인사이트를 허용할 만큼 폭넓도록 하세요.`<BR>\n",
    "`7. 해당되는 경우, 시간에 따른 추세, 지리적 차이, 인구통계학적 변화, 또는 기타 관련 요인을 다루는 포인트를 포함하세요.`<BR>\n",
    "`8. 주제와 관련된 데이터에서 예상치 못하거나 주목할 만한 패턴을 탐색하도록 장려하는 개방형 포인트로 목록을 마무리하세요.`<BR>\n",
    "`9. 분석에 사용되는 컬럼이름을 명시하세요` <BR>\n",
    "`10. 모든 포인트는 <분석_포인트></분석_포인트> 태그와 번호 형식으로 제공해야 합니다.`<BR>\n",
    "`11. 한글로 작성하세요.`<BR>\n",
    "\n",
    "`목록을 명확한 번호 형식으로 제시하세요. 각 포인트는 간결하면서도 설명적이어야 하며, 분석의 다음 단계에 대한 명확한 방향을 제공해야 합니다.`<BR>\n",
    "`기억하세요, 당신의 목표는 사용자가 선택한 주제에 대해 가치 있는 정보를 제공할 수 있는 철저하고 통찰력 있는 분석을 위한 로드맵을 만드는 것입니다.`<BR>\n",
    "#5. Phrase each point to start with an action verb (e.g., \"Calculate\", \"Compare\", \"Identify\", \"Analyze\", \"Determine\", etc.)"
   ]
  },
  {
   "cell_type": "code",
   "execution_count": null,
   "id": "b93e8dae",
   "metadata": {},
   "outputs": [],
   "source": [
    "prompt = dedent(\n",
    "    '''\n",
    "    You are an advanced data analysis assistant.\n",
    "    Your role is to help extract meaningful insights from user-provided datasets based on a specific topic they provide.\n",
    "    \n",
    "    Follow these steps to generate a list of key data points and statistics to investigate:\n",
    "    1. Carefully consider the user-provided topic.\n",
    "    2. Analyze the structure and content of the provided data set.\n",
    "    3. Generate a list of 5-7 key data points or statistics that would be most relevant and insightful for the given topic. These should be phrased as clear, actionable requests or questions.\n",
    "    4. Ensure each point focuses on a different aspect of the topic, covering various angles of analysis.\n",
    "    5. Start each point with an action verb tag (e.g., \"[Calculate]\", \"[Compare]\", \"[Identify]\", \"[Analyze]\", \"[Determine]\", etc.).\n",
    "    6. Make sure the points are specific enough to guide a detailed analysis but broad enough to allow for comprehensive insights.\n",
    "    7. If applicable, include points that address trends over time, geographical differences, demographic variations, or other relevant factors.\n",
    "    8. Conclude your list with an open-ended point that encourages exploring any unexpected or noteworthy patterns in the data related to the topic.\n",
    "    9. Specify the column names used in your analysis.\n",
    "    10. All points should be provided within the tags <analysis_points></analysis_points> and numbered format.\n",
    "    11. Write in Korean.\n",
    "    \n",
    "    \n",
    "    Present your list in a clear.\n",
    "    Each point should be concise yet descriptive, providing a clear direction for the next steps of the analysis.    \n",
    "    Remember, your goal is to create a roadmap for a thorough, insightful analysis that will provide valuable information to the user about their chosen topic.\n",
    "    \n",
    "    '''\n",
    ")\n",
    "system_prompts = bedrock_utils.get_system_prompt(\n",
    "    system_prompts=prompt,\n",
    ")"
   ]
  },
  {
   "cell_type": "markdown",
   "id": "768785d0",
   "metadata": {},
   "source": [
    "##### 3.2.1.2 Insight 추출을 위한 질문 생성용 prompt "
   ]
  },
  {
   "cell_type": "code",
   "execution_count": null,
   "id": "fbc3f0a0",
   "metadata": {},
   "outputs": [],
   "source": [
    "user_prompts = dedent(\n",
    "    '''\n",
    "    This is the result of `print(df.head())`: <dataset>{dataset}</dataset>\n",
    "\n",
    "    Here is the column information in detail, this is the results of `print(column_info)`: <column_info>{column_info}</column_info>\n",
    "    \n",
    "    Here is user's topic interested: <topic>{topic}</topic>\n",
    "    '''\n",
    ")"
   ]
  },
  {
   "cell_type": "markdown",
   "id": "aa2a1359",
   "metadata": {},
   "source": [
    "##### 3.2.1.2 Extractor Node 정의"
   ]
  },
  {
   "cell_type": "code",
   "execution_count": null,
   "id": "9a3d0065",
   "metadata": {},
   "outputs": [],
   "source": [
    "from langgraph.graph import END, StateGraph"
   ]
  },
  {
   "cell_type": "code",
   "execution_count": null,
   "id": "97ba2ce4",
   "metadata": {},
   "outputs": [],
   "source": [
    "def get_analysis_points(state):\n",
    "    \n",
    "\n",
    "    df = pd.read_parquet(state[\"df_path\"])\n",
    "    column_info = pd.read_csv(state[\"column_info_path\"])\n",
    "    topic = state[\"topic\"]\n",
    "\n",
    "    prompt = dedent(\n",
    "        '''\n",
    "        You are an advanced data analysis assistant.\n",
    "        Your role is to help extract meaningful insights from user-provided datasets based on a specific topic they provide.\n",
    "        \n",
    "        Follow these steps to generate a list of key data points and statistics to investigate:\n",
    "        1. Carefully consider the user-provided topic.\n",
    "        2. Analyze the structure and content of the provided data set.\n",
    "        3. Generate a list of 5-7 key data points or statistics that would be most relevant and insightful for the given topic. These should be phrased as clear, actionable requests or questions.\n",
    "        4. Ensure each point focuses on a different aspect of the topic, covering various angles of analysis.\n",
    "        5. Start each point with an action verb tag (e.g., \"[Calculate]\", \"[Compare]\", \"[Identify]\", \"[Analyze]\", \"[Determine]\", etc.).\n",
    "        6. Make sure the points are specific enough to guide a detailed analysis but broad enough to allow for comprehensive insights.\n",
    "        7. If applicable, include points that address trends over time, geographical differences, demographic variations, or other relevant factors.\n",
    "        8. Conclude your list with an open-ended point that encourages exploring any unexpected or noteworthy patterns in the data related to the topic.\n",
    "        9. Specify the column names used in your analysis.\n",
    "        10. All points should be provided within the tags <analysis_points></analysis_points> and numbered format.\n",
    "        11. Write in Korean.\n",
    "        \n",
    "        \n",
    "        Present your list in a clear.\n",
    "        Each point should be concise yet descriptive, providing a clear direction for the next steps of the analysis.    \n",
    "        Remember, your goal is to create a roadmap for a thorough, insightful analysis that will provide valuable information to the user about their chosen topic.\n",
    "        \n",
    "        '''\n",
    "    )\n",
    "    system_prompts = bedrock_utils.get_system_prompt(\n",
    "        system_prompts=prompt,\n",
    "    )\n",
    "\n",
    "    user_prompts = dedent(\n",
    "        '''\n",
    "        This is the result of `print(df.head())`: <dataset>{dataset}</dataset>\n",
    "\n",
    "        Here is the column information in detail, this is the results of `print(column_info)`: <column_info>{column_info}</column_info>\n",
    "        \n",
    "        Here is user's topic interested: <topic>{topic}</topic>\n",
    "        '''\n",
    "    )\n",
    "    \n",
    "    insight_generator = insight_extraction_chain(\n",
    "        llm=llm_text,\n",
    "        system_prompts=system_prompts,\n",
    "        user_prompts=user_prompts,\n",
    "        tool_config=tool_config,\n",
    "        multi_turn=False,\n",
    "        verbose=False\n",
    "    )\n",
    "    \n",
    "\n",
    "    \n",
    "    \n",
    "    return GraphState(anaysis_points=[])"
   ]
  },
  {
   "cell_type": "code",
   "execution_count": null,
   "id": "4bb3172a",
   "metadata": {},
   "outputs": [],
   "source": [
    "def end(state):\n",
    "\n",
    "    print (\"sdsd\")\n",
    "    print (state.keys())\n",
    "    return GraphState(response=\"none\")"
   ]
  },
  {
   "cell_type": "code",
   "execution_count": null,
   "id": "76e86463",
   "metadata": {},
   "outputs": [],
   "source": [
    "from langgraph.graph import END, StateGraph\n",
    "from langgraph.checkpoint.memory import MemorySaver\n",
    "\n",
    "# langgraph.graph에서 StateGraph와 END를 가져옵니다.\n",
    "workflow = StateGraph(GraphState)\n",
    "\n",
    "# Todo 를 작성합니다.\n",
    "workflow.add_node(\"get_analysis_points\", get_analysis_points)  # 에이전트 노드를 추가합니다.\n",
    "workflow.add_node(\"end\", end)  # 에이전트 노드를 추가합니다.\n",
    "\n",
    "# 각 노드들을 연결합니다.\n",
    "workflow.add_edge(\"get_analysis_points\", \"end\")\n",
    "\n",
    "# 시작점을 설정합니다.\n",
    "workflow.set_entry_point(\"get_analysis_points\")\n",
    "\n",
    "# 기록을 위한 메모리 저장소를 설정합니다.\n",
    "memory = MemorySaver()\n",
    "\n",
    "# 그래프를 컴파일합니다.\n",
    "app = workflow.compile(checkpointer=memory)"
   ]
  },
  {
   "cell_type": "code",
   "execution_count": null,
   "id": "80c39b6b",
   "metadata": {},
   "outputs": [],
   "source": [
    "from IPython.display import Image, display\n",
    "\n",
    "try:\n",
    "    \n",
    "    display(\n",
    "        Image(app.get_graph(xray=True).draw_mermaid_png())\n",
    "    )  # 실행 가능한 객체의 그래프를 mermaid 형식의 PNG로 그려서 표시합니다. \n",
    "       # xray=True는 추가적인 세부 정보를 포함합니다.\n",
    "except:\n",
    "    # 이 부분은 추가적인 의존성이 필요하며 선택적으로 실행됩니다.\n",
    "    pass"
   ]
  },
  {
   "cell_type": "code",
   "execution_count": null,
   "id": "bd9656df",
   "metadata": {},
   "outputs": [],
   "source": [
    "inputs = GraphState(\n",
    "    df_path = \"./dataset/data\",\n",
    "    column_info_path = \"dataset/column_info.csv\",\n",
    "    topic=\"혼수 이사 분석\"\n",
    ")\n"
   ]
  },
  {
   "cell_type": "code",
   "execution_count": null,
   "id": "34f7812e",
   "metadata": {},
   "outputs": [],
   "source": [
    "import pprint\n",
    "from langgraph.errors import GraphRecursionError\n",
    "from langchain_core.runnables import RunnableConfig\n",
    "# app.stream을 통해 입력된 메시지에 대한 출력을 스트리밍합니다.\n",
    "\n",
    "config = RunnableConfig(recursion_limit=100, configurable={\"thread_id\": \"TODO\"})\n",
    "try:\n",
    "    for output in app.stream(input=inputs, config=config):\n",
    "        # 출력된 결과에서 키와 값을 순회합니다.\n",
    "        for key, value in output.items():\n",
    "            # 노드의 이름과 해당 노드에서 나온 출력을 출력합니다.\n",
    "            pprint.pprint(f\"[NODE] {key}\")\n",
    "            for k, v in value.items():\n",
    "                pprint.pprint(f\"<{k}> {v}\")\n",
    "            pprint.pprint(\"===\" * 10)\n",
    "            # 출력 값을 예쁘게 출력합니다.\n",
    "            # pprint.pprint(value, indent=2, width=80, depth=None)\n",
    "except GraphRecursionError as e:\n",
    "    pprint.pprint(f\"Recursion limit reached: {e}\")"
   ]
  },
  {
   "cell_type": "code",
   "execution_count": null,
   "id": "71d5358f",
   "metadata": {},
   "outputs": [],
   "source": [
    "def list_todo(state: GraphState) -> GraphState:\n",
    "    goal = state[\"goal\"]\n",
    "    # 리스트 작성\n",
    "    todo = create_todo_list(goal)\n",
    "    # 할 일 목록을 포맷팅\n",
    "    todo = format_task(create_todo_list(todo))\n",
    "    return GraphState(todo=todo)"
   ]
  },
  {
   "cell_type": "markdown",
   "id": "d0a91a0b",
   "metadata": {},
   "source": [
    "### 3.1 Workflow 정의"
   ]
  },
  {
   "cell_type": "code",
   "execution_count": null,
   "id": "6c250045",
   "metadata": {},
   "outputs": [],
   "source": [
    "!pip install -U langgraph\n"
   ]
  },
  {
   "cell_type": "code",
   "execution_count": null,
   "id": "2576d30a",
   "metadata": {},
   "outputs": [],
   "source": []
  },
  {
   "cell_type": "markdown",
   "id": "a509d3f8-393c-460b-ad2c-c3aecc452067",
   "metadata": {},
   "source": [
    "### 3.3 Tool for parsing outputs 설정하기"
   ]
  },
  {
   "cell_type": "code",
   "execution_count": null,
   "id": "20f7ae28-bad4-4635-9d26-afe7c7f66bd1",
   "metadata": {
    "tags": []
   },
   "outputs": [],
   "source": [
    "tool_config = insight_extraction_tools.get_tool_list()\n",
    "tool_config"
   ]
  },
  {
   "cell_type": "markdown",
   "id": "22013895-1ad9-4475-8227-8589801cd457",
   "metadata": {
    "tags": []
   },
   "source": [
    "### 3.4 Insight extraction을 위한 chain 설정"
   ]
  },
  {
   "cell_type": "code",
   "execution_count": null,
   "id": "8d2164e2-52be-4b92-8807-aa3876391278",
   "metadata": {
    "tags": []
   },
   "outputs": [],
   "source": [
    "insight_generator = insight_extraction_chain(\n",
    "    llm=llm_text,\n",
    "    system_prompts=system_prompts,\n",
    "    user_prompts=user_prompts,\n",
    "    tool_config=tool_config,\n",
    "    multi_turn=False,\n",
    "    verbose=False\n",
    ")"
   ]
  },
  {
   "cell_type": "markdown",
   "id": "a1ad91ae-9d62-4183-bda1-35bfe9762833",
   "metadata": {},
   "source": [
    "## 4. Invocation"
   ]
  },
  {
   "cell_type": "markdown",
   "id": "83aaa1e2-0ee2-437a-a68a-9eee80e9b9d2",
   "metadata": {},
   "source": [
    "### 4.1 프롬프트 작성을 위한 정보 제공"
   ]
  },
  {
   "cell_type": "code",
   "execution_count": null,
   "id": "03da3a7e-c53e-40af-a13f-84bd1bd56ead",
   "metadata": {
    "tags": []
   },
   "outputs": [],
   "source": [
    "import pandas as pd"
   ]
  },
  {
   "cell_type": "code",
   "execution_count": null,
   "id": "e6057344-72e7-40e9-950f-e75c5193ad33",
   "metadata": {
    "tags": []
   },
   "outputs": [],
   "source": [
    "_df = pd.read_parquet(\"./dataset/data\")\n",
    "_column_info = pd.read_csv(\"dataset/column_info.csv\")"
   ]
  },
  {
   "cell_type": "code",
   "execution_count": null,
   "id": "63157d8e",
   "metadata": {},
   "outputs": [],
   "source": [
    "type(_column_info)"
   ]
  },
  {
   "cell_type": "code",
   "execution_count": null,
   "id": "672d1e82-3366-41bc-9f5d-59fc368ef3a1",
   "metadata": {
    "tags": []
   },
   "outputs": [],
   "source": [
    "dataset = str(_df.sample(10, random_state=0).to_csv())\n",
    "column_info = str(_column_info.to_csv())\n",
    "topic = \"혼수 이사 분석\""
   ]
  },
  {
   "cell_type": "code",
   "execution_count": null,
   "id": "81b9208b-2bb3-4dad-9b06-08a2b22da77a",
   "metadata": {
    "tags": []
   },
   "outputs": [],
   "source": [
    "response = insight_generator.invoke(\n",
    "    context={\n",
    "        \"dataset\": dataset,\n",
    "        \"column_info\": column_info,\n",
    "        \"topic\":topic\n",
    "    }\n",
    ")"
   ]
  },
  {
   "cell_type": "code",
   "execution_count": null,
   "id": "51b5b750-b612-4291-8c6f-f84e3e0d8d81",
   "metadata": {
    "tags": []
   },
   "outputs": [],
   "source": [
    "response"
   ]
  },
  {
   "cell_type": "code",
   "execution_count": null,
   "id": "f8ecd3a8-592c-4dba-9798-946e3d42266c",
   "metadata": {
    "tags": []
   },
   "outputs": [],
   "source": [
    "query"
   ]
  },
  {
   "cell_type": "code",
   "execution_count": null,
   "id": "aa8d094c-6030-4586-8c40-eda55b112ba5",
   "metadata": {},
   "outputs": [],
   "source": []
  },
  {
   "cell_type": "code",
   "execution_count": null,
   "id": "295f5c3b-83e1-453c-8c2d-0792787f0dc1",
   "metadata": {},
   "outputs": [],
   "source": []
  },
  {
   "cell_type": "code",
   "execution_count": null,
   "id": "46fbbd7d-1e62-48d5-b2ce-48419eba8d06",
   "metadata": {},
   "outputs": [],
   "source": []
  },
  {
   "cell_type": "code",
   "execution_count": null,
   "id": "2c6212b3-91e0-45de-8151-ced2b5f76ccc",
   "metadata": {
    "tags": []
   },
   "outputs": [],
   "source": [
    "_df.query(\"buy_rsn_nm == '혼수'\")[[\"cust_no\", \"buy_rsn_nm\"]]"
   ]
  },
  {
   "cell_type": "code",
   "execution_count": null,
   "id": "9dc9499b-c1fb-4de3-8636-b20575f8424f",
   "metadata": {
    "tags": []
   },
   "outputs": [],
   "source": [
    "_df[\"buy_rsn_nm\"]"
   ]
  },
  {
   "cell_type": "code",
   "execution_count": null,
   "id": "90c78543-139b-4e01-a5a4-8c658b54edcc",
   "metadata": {},
   "outputs": [],
   "source": []
  },
  {
   "cell_type": "code",
   "execution_count": null,
   "id": "02ff88b7-c67c-4266-89e7-e17f0747fbf4",
   "metadata": {},
   "outputs": [],
   "source": []
  },
  {
   "cell_type": "code",
   "execution_count": null,
   "id": "43756b47-0ffc-46fe-ba1a-000d20509117",
   "metadata": {},
   "outputs": [],
   "source": []
  },
  {
   "cell_type": "code",
   "execution_count": null,
   "id": "be7be16e-d961-4afc-81b5-9f7d46c2aa4a",
   "metadata": {},
   "outputs": [],
   "source": []
  },
  {
   "cell_type": "code",
   "execution_count": null,
   "id": "96ce76a3-12e9-4c06-807f-aab7495064c3",
   "metadata": {},
   "outputs": [],
   "source": []
  },
  {
   "cell_type": "code",
   "execution_count": null,
   "id": "b09f0199-87d4-4dc0-b852-0143a595760d",
   "metadata": {
    "tags": []
   },
   "outputs": [],
   "source": []
  },
  {
   "cell_type": "code",
   "execution_count": null,
   "id": "3b2cc306-f0aa-472d-986d-ae355474f954",
   "metadata": {
    "tags": []
   },
   "outputs": [],
   "source": [
    "df = pd.read_parquet(\"./dataset/data\")\n",
    "column_info = pd.read_csv(\"dataset/column_info.csv\")"
   ]
  },
  {
   "cell_type": "code",
   "execution_count": null,
   "id": "e35c7952-4245-4f47-b0fd-e3a323d3b02c",
   "metadata": {
    "tags": []
   },
   "outputs": [],
   "source": [
    "df"
   ]
  },
  {
   "cell_type": "code",
   "execution_count": null,
   "id": "4a9051f1-08cd-4f31-89c7-10c773597e50",
   "metadata": {
    "tags": []
   },
   "outputs": [],
   "source": [
    "column_info"
   ]
  },
  {
   "cell_type": "markdown",
   "id": "8d187e14-399f-4e2d-a246-faf892eeb2f2",
   "metadata": {},
   "source": [
    "## 3. Chain for "
   ]
  },
  {
   "cell_type": "code",
   "execution_count": null,
   "id": "6c75fa42-7f66-4bc6-8bc4-f58867fde605",
   "metadata": {
    "tags": []
   },
   "outputs": [],
   "source": [
    "from textwrap import dedent\n",
    "from utils.bedrock import bedrock_utils\n",
    "from utils.copy_generator import copy_generation_chain"
   ]
  },
  {
   "cell_type": "code",
   "execution_count": null,
   "id": "70c5a355-d143-4528-a9f5-19c7f01e4fa5",
   "metadata": {},
   "outputs": [],
   "source": []
  },
  {
   "cell_type": "code",
   "execution_count": null,
   "id": "ed106935-f3bf-41fe-b0e0-8b59a8864f7d",
   "metadata": {},
   "outputs": [],
   "source": []
  },
  {
   "cell_type": "code",
   "execution_count": null,
   "id": "9abb1b10-9251-44d2-9a23-60e1ed6b6c82",
   "metadata": {},
   "outputs": [],
   "source": []
  },
  {
   "cell_type": "code",
   "execution_count": null,
   "id": "56ceebe3-d285-4883-bf2c-c02ad8adf813",
   "metadata": {},
   "outputs": [],
   "source": [
    "    (\"system\", \"You are a helpful translator. Translate the user sentence to French.\"),\n",
    "    (\"human\", \"I love programming.\"),"
   ]
  },
  {
   "cell_type": "code",
   "execution_count": null,
   "id": "6b15fbe4-4028-4564-bfe6-2a664aaaacda",
   "metadata": {
    "tags": []
   },
   "outputs": [],
   "source": [
    "prompt = dedent(\n",
    "    '''\n",
    "    You are an AI copywriter expert in crafting personalized marketing messages.\n",
    "    Your goal is to create compelling, tailored content that resonates with individual customers.\n",
    "    Follow these guidelines:\n",
    "    \n",
    "    1. Analyze customer data: Thoroughly examine provided customer information (age, gender, purchase history, interests, etc.).\n",
    "    2. Identify personalization elements: Select key personalization factors based on each customer's unique characteristics and preferences.    \n",
    "    3. Maintain brand voice: Adhere to the company's brand guidelines and tone of voice in all messages.\n",
    "    4. Create concise, engaging copy: Write short, impactful messages that capture attention and drive action.\n",
    "    5. Emotional appeal: Incorporate emotional triggers that resonate with the individual customer's motivations and desires.\n",
    "    6. Use data-driven insights: Leverage customer behavior data to inform message content and timing.\n",
    "    7. Implement urgency and scarcity: When appropriate, create a sense of urgency or scarcity to drive immediate action.\n",
    "    8. Optimize for different channels: Tailor copy for various marketing channels (email, SMS, social media, etc.).\n",
    "    9. Consider timing: Craft messages appropriate to seasons, special dates, or events.\n",
    "    10. Match the given behavioural economics theory.\n",
    "    11. Don't mention anything that's not in the product description.\n",
    "\n",
    "    12. Ensure compliance: Adhere to privacy laws, marketing regulations, and ethical marketing practices.\n",
    "    13. Incorporate storytelling: Use narrative elements to make messages more engaging and memorable.\n",
    "    \n",
    "    Generate personalized marketing copy based on user requests in as short a time as possible, always maintaining accuracy, creativity, and a customer-centric approach.\n",
    "    \n",
    "    '''\n",
    ")\n",
    "#Generate 100 characters or less.\n",
    "# 4. 간결하고 매력적인 카피를 작성합니다: 시선을 사로잡고 행동을 유도하는 짧고 임팩트 있는 메시지를 작성하세요.\n",
    "#     5. 정서적 호소력: 개별 고객의 동기와 욕구에 공감할 수 있는 감정적 유발 요소를 포함하세요.\n",
    "#     6. 데이터 기반 인사이트 활용: 고객 행동 데이터를 활용하여 메시지 콘텐츠와 타이밍을 결정합니다.\n",
    "#     7. 긴급성과 희소성을 구현합니다: 적절한 경우, 긴급성 또는 희소성을 조성하여 즉각적인 행동을 유도합니다.\n",
    "#     8. 다양한 채널에 맞게 최적화하세요: 다양한 마케팅 채널(이메일, SMS, 소셜 미디어 등)에 맞게 카피를 조정합니다.\n",
    "#     9. 타이밍을 고려하세요: 계절, 특별한 날짜 또는 이벤트에 적합한 메시지를 작성하세요.\n",
    "\n",
    "# 1. 마케팅 카피 샘플\n",
    "# 2. 마케팅 대상 (예시-냉장고)\n",
    "# 3. LGE 마케팅 메시지의 톤앤매너 가이드\n",
    "# 4. 고객 개인화 정보 \n",
    "#     - 예시) 연령, 성별, 구매내역, 관심사 등\n",
    "system_prompts = bedrock_utils.get_system_prompt(\n",
    "    system_prompts=prompt,\n",
    ")"
   ]
  },
  {
   "cell_type": "code",
   "execution_count": null,
   "id": "8aedaa1c-3952-41c1-83bf-010df2d357ca",
   "metadata": {
    "tags": []
   },
   "outputs": [],
   "source": [
    "system_prompts"
   ]
  },
  {
   "cell_type": "code",
   "execution_count": null,
   "id": "4b2f65c1-b515-4dd5-857d-b235a6d46417",
   "metadata": {
    "tags": []
   },
   "outputs": [],
   "source": [
    "from langchain_core.prompts import ChatPromptTemplate, HumanMessagePromptTemplate, SystemMessagePromptTemplate"
   ]
  },
  {
   "cell_type": "code",
   "execution_count": null,
   "id": "5e391f3b-d3b2-49f7-a87c-f58ecd71f981",
   "metadata": {
    "tags": []
   },
   "outputs": [],
   "source": [
    "system_message_template = SystemMessagePromptTemplate.from_template(prompt)\n",
    "human_message_template = HumanMessagePromptTemplate.from_template(prompt)"
   ]
  },
  {
   "cell_type": "code",
   "execution_count": null,
   "id": "8146d3a1-9cb9-4ee4-b1ce-49435f5148a0",
   "metadata": {
    "tags": []
   },
   "outputs": [],
   "source": [
    "system_message_template"
   ]
  },
  {
   "cell_type": "code",
   "execution_count": null,
   "id": "16aaad52-ec78-4b55-b48d-77e3b51daf08",
   "metadata": {
    "tags": []
   },
   "outputs": [],
   "source": [
    "human_message_template"
   ]
  },
  {
   "cell_type": "code",
   "execution_count": null,
   "id": "607b7aec-0407-44df-b122-43417a9b08db",
   "metadata": {
    "tags": []
   },
   "outputs": [],
   "source": []
  },
  {
   "cell_type": "code",
   "execution_count": null,
   "id": "0e2a1298-7684-4bcb-a39c-c4356e840f58",
   "metadata": {
    "tags": []
   },
   "outputs": [],
   "source": [
    "ChatMessage?"
   ]
  },
  {
   "cell_type": "code",
   "execution_count": null,
   "id": "69720014-b75b-400f-89c6-05b0efb9efea",
   "metadata": {
    "tags": []
   },
   "outputs": [],
   "source": [
    "import langchain_core"
   ]
  },
  {
   "cell_type": "code",
   "execution_count": null,
   "id": "fdece2c2-7b54-47c0-91c0-c5f857b576b3",
   "metadata": {},
   "outputs": [],
   "source": [
    "langchain_core.messages.ChatMessage"
   ]
  },
  {
   "cell_type": "code",
   "execution_count": null,
   "id": "df00f1fd-643a-4e3f-a31c-a85a5d0d6156",
   "metadata": {
    "tags": []
   },
   "outputs": [],
   "source": [
    "ChatBedrockConverse?"
   ]
  },
  {
   "cell_type": "code",
   "execution_count": null,
   "id": "4de771f5-b4e3-430e-8fee-801341501530",
   "metadata": {},
   "outputs": [],
   "source": [
    "class GraphState(TypedDict):\n",
    "    ask: str\n",
    "    target_apps: list[str]\n",
    "    analysis_request: str\n",
    "    chart_codes: str\n",
    "    chart_codes_desc: str\n",
    "    response: str\n",
    "\n",
    "class app_analyzer():\n",
    "\n",
    "    def __init__(self, **kwargs):\n",
    "\n",
    "        self.llm = kwargs[\"llm\"]\n",
    "        self.df = kwargs[\"df\"]\n",
    "        self.column_info = kwargs[\"column_info\"]\n",
    "        self.state = GraphState\n",
    "\n",
    "        self._graph_definition()\n",
    "        self.messages = []\n",
    "\n",
    "    def _graph_definition(self, **kwargs):\n",
    "\n",
    "        def _node_ask_anaysis(state):\n",
    "\n",
    "            system_prompts = dedent(\n",
    "                '''\n",
    "                당신은 사용자의 텍스트 요청을 분석하여 중요한 정보를 추출하는 전문가입니다.\n",
    "                주어진 structured dataset(df)에 대한 분석 요청(request)을 처리하는 것이 당신의 주요 임무입니다.\n",
    "\n",
    "                <task>\n",
    "                1. 사용자의 텍스트 요청에서 분석 대상이 되는 target app의 이름을 식별하고 추출하세요.\n",
    "                2. 사용자의 구체적인 분석 요청 사항을 분석하고, 필요하다면 결과를 차트로 표현하기 적합현 형태로 요청 사항을 수정해 주세요.\n",
    "                </task>\n",
    "\n",
    "                <output_format>\n",
    "                JSON 형식으로 다음 정보를 포함하여 응답하세요:\n",
    "                {\n",
    "                  \"target_apps\": [\"추출된 앱 이름\"],\n",
    "                  \"analysis_request\": \"파악된 분석 요청 사항\"\n",
    "                }\n",
    "                </output_format>\n",
    "\n",
    "                <instruction>\n",
    "                - target app이 명시적으로 언급되지 않은 경우, \"target_app\" 필드를 \"unspecified\"로 설정하세요.\n",
    "                - target app이 복수 개인 경우, list 형태로 모두 언급하세요. 예를 들자면 [\"앱 이름 1\", \"앱 이름 2\"]로 표현합니다. \n",
    "                - 분석 요청이 불명확한 경우, 가능한 한 사용자의 의도를 추론하여 \"analysis_request\" 필드를 작성하세요.\n",
    "                - 추출 및 파악한 정보만을 간결하게 제공하고, 추가적인 설명이나 해석은 하지 마세요.\n",
    "                </instruction>\n",
    "\n",
    "                이 정보를 바탕으로 다음 노드가 적절한 분석을 수행할 수 있도록 정확하고 명확한 정보를 제공하는 것이 중요합니다.\n",
    "                '''\n",
    "            )\n",
    "\n",
    "            system_prompts = bedrock_utils.get_system_prompt(system_prompts=system_prompts)\n",
    "\n",
    "            user_prompts = dedent(\n",
    "                '''\n",
    "                This is the result of `print(df.head())`: <dataset>{dataset}</dataset>\n",
    "\n",
    "                Here is the column information in detail, this is the results of `print(column_info)`: <column_info>{column_info}</column_info>\n",
    "\n",
    "                Here is user's request: <request>{ask}</request>\n",
    "                '''\n",
    "            )\n",
    "\n",
    "            self.ask_analyzer = llm_execution(\n",
    "                llm=self.llm,\n",
    "                system_prompts=system_prompts,\n",
    "                user_prompts=user_prompts,\n",
    "                multi_turn=True,\n",
    "                verbose=False\n",
    "            )\n",
    "\n",
    "            dataset = str(self.df.sample(10, random_state=0).to_csv())\n",
    "            column_info = str(self.column_info.to_csv())\n",
    "            response = self.ask_analyzer.invoke(\n",
    "                context={\n",
    "                    \"dataset\": dataset,\n",
    "                    \"column_info\": column_info,\n",
    "                    \"ask\":state[\"ask\"]\n",
    "                }\n",
    "            )\n",
    "\n",
    "            self.messages.extend(self.ask_analyzer.get_messages())\n",
    "            print (\"messages\", self.messages)\n",
    "\n",
    "\n",
    "            results = eval(response['text'])\n",
    "            target_apps, analysis_request = results[\"target_apps\"], results[\"analysis_request\"]\n",
    "\n",
    "\n",
    "            return self.state(\n",
    "                target_apps=target_apps,\n",
    "                analysis_request=analysis_request\n",
    "            )\n",
    "\n",
    "        def _node_chart_generation(state):\n",
    "\n",
    "            print (\"state\", state)\n",
    "\n",
    "            system_prompts = dedent(\n",
    "                \n",
    "                '''\n",
    "                당신은 데이터 분석과 시각화 전문가입니다.\n",
    "\n",
    "                <task>\n",
    "                주어진 structured dataset, dataset의 컬럼 정보, 그리고 사용자의 분석 요청사항을 바탕으로 적절한 차트를 생성하는 Python 코드를 작성하는 것이 당신의 임무입니다.\n",
    "                </task>\n",
    "\n",
    "                <input>\n",
    "                1. dataset: 분석할 데이터셋\n",
    "                2. column_info: 각 컬럼의 이름과 데이터 타입\n",
    "                3. question: 어떤 분석을 원하는지에 대한 설명\n",
    "                </input>\n",
    "                \n",
    "                <output_format>\n",
    "                JSON 형식으로 다음 정보를 포함하여 응답하세요:\n",
    "                {\n",
    "                    \"code\": \"\"\"사용자의 요청을 충족시키는 차트를 생성하는 Python 코드\"\"\"\n",
    "                    \"description\": \"\"\"생성된 코드와 차트에 대한 설명\"\"\"\n",
    "                }\n",
    "                </output_format>\n",
    "\n",
    "                <instruction>\n",
    "                데이터셋과 컬럼 정보를 신중히 분석하세요.\n",
    "                사용자의 분석 요청사항을 정확히 이해하세요.\n",
    "                요청사항에 가장 적합한 차트 유형을 선택하세요 (예: 막대 그래프, 선 그래프, 산점도, 파이 차트 등).\n",
    "                선택한 차트 유형에 맞는 Python 라이브러리를 사용하세요 (예: matplotlib, seaborn, plotly 등).\n",
    "                데이터 전처리가 필요한 경우 pandas를 사용하여 데이터를 적절히 가공하세요.\n",
    "                차트의 제목, 축 레이블, 범례 등을 명확하게 설정하세요.\n",
    "                필요한 경우 차트의 색상, 스타일, 크기 등을 조정하여 가독성을 높이세요.\n",
    "                코드에 주석을 달아 각 단계를 설명하세요.\n",
    "                코드 실행 시 발생할 수 있는 예외 상황을 고려하여 적절한 예외 처리를 포함하세요.\n",
    "                생성된 차트를 저장하거나 표시하는 코드를 포함하세요.\n",
    "                \"description\" 필드에 코드의 주요 부분과 생성된 차트의 특징을 설명하세요.\n",
    "                차트는 모두 영어로 표현해 주세요\n",
    "                </instruction>\n",
    "\n",
    "                <consideration>\n",
    "                사용자가 제공한 데이터셋의 구조와 크기에 따라 코드를 최적화하세요.\n",
    "                복잡한 분석 요청의 경우, 단계별로 접근하여 중간 결과를 확인할 수 있도록 코드를 구성하세요.\n",
    "                데이터의 특성에 따라 적절한 정규화나 스케일링을 고려하세요.\n",
    "                대규모 데이터셋의 경우 성능을 고려하여 코드를 작성하세요.\n",
    "                이 지침을 따라 사용자의 요청에 맞는 정확하고 효과적인 차트 생성 코드를 작성하고, JSON 형식으로 출력하세요.\n",
    "                </consideration>\n",
    "                \n",
    "                '''\n",
    "            )\n",
    "\n",
    "            system_prompts = bedrock_utils.get_system_prompt(system_prompts=system_prompts)\n",
    "\n",
    "            user_prompts = dedent(\n",
    "                '''\n",
    "                This is the result of `print(df.head())`: <dataset>{dataset}</dataset>\n",
    "                \n",
    "                Here is the column information in detail, this is the results of `print(column_info)`: <column_info>{column_info}</column_info>\n",
    "\n",
    "                Here is the question: <question>{question}</question>\n",
    "\n",
    "                Variable `df: pd.DataFrame` is already declared.\n",
    "                \n",
    "\n",
    "\n",
    "                '''\n",
    "            )\n",
    "\n",
    "            self.chart_generator = llm_execution(\n",
    "                llm=self.llm,\n",
    "                system_prompts=system_prompts,\n",
    "                user_prompts=user_prompts,\n",
    "                multi_turn=True,\n",
    "                verbose=False\n",
    "            )\n",
    "\n",
    "            \n",
    "            target_apps = state[\"target_apps\"]\n",
    "            \n",
    "            dataset = str(self.df.sample(10, random_state=0).to_csv())\n",
    "            column_info = str(self.column_info.to_csv())\n",
    "            response = self.chart_generator.invoke(\n",
    "                context={\n",
    "                    \"dataset\": dataset,\n",
    "                    \"column_info\": column_info,\n",
    "                    \"question\": state[\"analysis_request\"]\n",
    "                }\n",
    "            )\n",
    "            print (\"response\", response)\n",
    "\n",
    "            results = eval(response['text'])\n",
    "            chart_codes, chart_codes_desc = results[\"code\"], results[\"description\"]\n",
    "\n",
    "\n",
    "            print (\"chart_codes\", chart_codes)\n",
    "            print (\"chart_codes_desc\", chart_codes_desc)\n",
    "\n",
    "\n",
    "            \n",
    "            \n",
    "            return self.state(\n",
    "                    chart_codes=chart_codes,\n",
    "                    chart_codes_desc=chart_codes_desc\n",
    "                )\n",
    "\n",
    "        def _node_code_execution(state):\n",
    "\n",
    "            print (\"state\", state)\n",
    "            print (\"===\")\n",
    "            print (state[\"chart_codes\"])\n",
    "            print (\"===\")\n",
    "            df, code = self.df, state[\"chart_codes\"]\n",
    "            tool = PythonAstREPLTool(locals={\"df\": df})\n",
    "            \n",
    "            results = tool.invoke(code)\n",
    "\n",
    "            print (results)\n",
    "            \n",
    "            #return results\n",
    "            \n",
    "                \n",
    "        # langgraph.graph에서 StateGraph와 END를 가져옵니다.\n",
    "        workflow = StateGraph(self.state)\n",
    "\n",
    "        # Todo 를 작성합니다.\n",
    "        workflow.add_node(\"_node_ask_anaysis\", _node_ask_anaysis)  # 에이전트 노드를 추가합니다.\n",
    "        workflow.add_node(\"_node_chart_generation\", _node_chart_generation)  # 에이전트 노드를 추가합니다.\n",
    "        workflow.add_node(\"_node_code_execution\", _node_code_execution)  # 에이전트 노드를 추가합니다.\n",
    "\n",
    "        # 각 노드들을 연결합니다.\n",
    "        workflow.add_edge(\"_node_ask_anaysis\", \"_node_chart_generation\")\n",
    "        workflow.add_edge(\"_node_chart_generation\", \"_node_code_execution\")\n",
    "        workflow.add_edge(\"_node_code_execution\", END)\n",
    "\n",
    "        # 시작점을 설정합니다.\n",
    "        workflow.set_entry_point(\"_node_ask_anaysis\")\n",
    "\n",
    "        # 기록을 위한 메모리 저장소를 설정합니다.\n",
    "        memory = MemorySaver()\n",
    "\n",
    "        # 그래프를 컴파일합니다.\n",
    "        self.app = workflow.compile(checkpointer=memory)\n",
    "\n",
    "        from langchain_core.runnables import RunnableConfig\n",
    "        # app.stream을 통해 입력된 메시지에 대한 출력을 스트리밍합니다.\n",
    "        \n",
    "        self.config = RunnableConfig(recursion_limit=100, configurable={\"thread_id\": \"InsightExtraction\"})\n",
    "\n",
    "\n",
    "    def invoke(self, **kwargs):\n",
    "\n",
    "        inputs = self.state(ask=kwargs[\"ask\"])\n",
    "        \n",
    "        for s in self.app.stream(inputs, self.config):\n",
    "            print(\"----\")\n",
    "            #print(list(s.values())[0])\n",
    "            print(\"----\")\n",
    "    \n",
    "    def show_graph(self, ):\n",
    "        \n",
    "        from IPython.display import Image, display\n",
    "\n",
    "        try:\n",
    "            display(\n",
    "                Image(self.app.get_graph(xray=True).draw_mermaid_png())\n",
    "            )  # 실행 가능한 객체의 그래프를 mermaid 형식의 PNG로 그려서 표시합니다. \n",
    "            # xray=True는 추가적인 세부 정보를 포함합니다.\n",
    "        except:\n",
    "            # 이 부분은 추가적인 의존성이 필요하며 선택적으로 실행됩니다.\n",
    "            pass\n"
   ]
  }
 ],
 "metadata": {
  "kernelspec": {
   "display_name": "Python 3 (ipykernel)",
   "language": "python",
   "name": "python3"
  },
  "language_info": {
   "codemirror_mode": {
    "name": "ipython",
    "version": 3
   },
   "file_extension": ".py",
   "mimetype": "text/x-python",
   "name": "python",
   "nbconvert_exporter": "python",
   "pygments_lexer": "ipython3",
   "version": "3.10.14"
  },
  "vscode": {
   "interpreter": {
    "hash": "4b8e647a79df62bf31906a725b05de775d285962ac600487339d38c51a5c07b1"
   }
  }
 },
 "nbformat": 4,
 "nbformat_minor": 5
}
