{
 "cells": [
  {
   "cell_type": "markdown",
   "metadata": {},
   "source": [
    "# 🧠 Chain of Thought (CoT) 설명\n",
    "\n",
    "Chain of Thought는 복잡한 문제를 해결할 때 사용하는 추론 방식입니다. 이 방법은 문제 해결 과정을 단계별로 나누어 생각하고, 각 단계의 논리를 연결하여 최종 답변에 도달하는 과정을 보여줍니다. 🔗💭\n",
    "\n",
    "## CoT의 주요 특징\n",
    "1. 🔍 단계별 분석: 문제를 작은 부분으로 나누어 접근\n",
    "2. 🧩 논리적 연결: 각 단계의 추론을 명확하게 연결\n",
    "3. 🎯 투명한 사고 과정: 답변에 이르는 전체 과정을 보여줌\n",
    "4. 🚀 복잡한 문제 해결력 향상: 어려운 문제를 체계적으로 접근 가능\n",
    "\n",
    "## CoT를 사용하지 않은 예제 vs CoT를 사용한 예제\n",
    "\n",
    "문제: 한 농장에 닭과 소가 있습니다. 모든 동물의 다리 수의 합이 50이고, 머리 수의 합이 18일 때, 닭의 수는 몇 마리일까요?\n",
    "\n",
    "### CoT를 사용하지 않은 답변\n",
    "\n",
    "농장의 닭의 수는 14마리입니다.\n",
    "\n",
    "### CoT를 사용한 답변\n",
    "\n",
    "이 문제를 단계별로 해결해 보겠습니다\n",
    "\n",
    "1. 변수 정의 🏷️\n",
    "   - 닭의 수를 x라고 하겠습니다.\n",
    "   - 소의 수를 y라고 하겠습니다.\n",
    "\n",
    "2. 방정식 설정 ✍️\n",
    "   - 머리 수 방정식: x + y = 18 (닭과 소의 머리 수 합)\n",
    "   - 다리 수 방정식: 2x + 4y = 50 (닭은 2개, 소는 4개의 다리)\n",
    "\n",
    "3. 연립방정식 풀이 🧮\n",
    "   - x + y = 18 에서 y = 18 - x\n",
    "   - 이를 다리 수 방정식에 대입: 2x + 4(18 - x) = 50\n",
    "   - 계산: 2x + 72 - 4x = 50\n",
    "   - 정리: -2x + 72 = 50\n",
    "   - x에 대해 풀면: -2x = -22\n",
    "   - x = 11\n",
    "\n",
    "4. 결과 확인 ✅\n",
    "   - 닭(x)의 수: 11마리\n",
    "   - 소(y)의 수: 18 - 11 = 7마리\n",
    "   - 다리 수 확인: (11 × 2) + (7 × 4) = 22 + 28 = 50\n",
    "\n",
    "따라서, 농장에 있는 닭의 수는 11마리입니다. 🐔\n",
    "\n",
    "이처럼 CoT를 사용하면 복잡한 문제도 단계별로 명확하게 해결할 수 있으며, 답변의 신뢰성도 높일 수 있습니다. 🎓💡\n"
   ]
  },
  {
   "cell_type": "markdown",
   "metadata": {},
   "source": []
  },
  {
   "cell_type": "markdown",
   "metadata": {},
   "source": [
    "## [ Standard Prompting vs. Chain-of-Thought Prompting 예시 ]"
   ]
  },
  {
   "cell_type": "markdown",
   "metadata": {},
   "source": [
    "![image.png](https://img1.daumcdn.net/thumb/R1280x0/?scode=mtistory2&fname=https%3A%2F%2Fblog.kakaocdn.net%2Fdn%2FkTMJi%2FbtsC6nKxgME%2Fr5v9iA8gHDqwuKMpVzuu0k%2Fimg.png)"
   ]
  },
  {
   "cell_type": "code",
   "execution_count": 42,
   "metadata": {},
   "outputs": [],
   "source": [
    "import boto3\n",
    "from botocore.exceptions import ClientError\n",
    "\n",
    "def invoke_bedrock_model(cod_prompt, user_query, model_id=\"amazon.nova-lite-v1:0\", region_name=\"us-east-1\"):\n",
    "    \"\"\"\n",
    "    Invokes Bedrock model with the given system prompt and user query.\n",
    "    \n",
    "    Args:\n",
    "        cod_prompt (str): System prompt for Chain of Thought\n",
    "        user_query (str): User's query to process\n",
    "        model_id (str): Bedrock model ID to use\n",
    "        region_name (str): AWS region name\n",
    "        \n",
    "    Returns:\n",
    "        str: Model's response text\n",
    "    \"\"\"\n",
    "    # Create a Bedrock Runtime client\n",
    "    client = boto3.client(\"bedrock-runtime\", region_name=region_name)\n",
    "    \n",
    "    try:\n",
    "        # Send the message to the model with CoD instructions as system prompt\n",
    "        response = client.converse(\n",
    "            modelId=model_id,\n",
    "            messages=[\n",
    "                {\n",
    "                    \"role\": \"user\",\n",
    "                    \"content\": [{\"text\": user_query}]\n",
    "                }\n",
    "            ],\n",
    "            system=[{\"text\": cod_prompt}],\n",
    "            inferenceConfig={\n",
    "                \"maxTokens\": 512, \n",
    "                \"temperature\": 0.7,\n",
    "                \"topP\": 0.9\n",
    "            }\n",
    "        )\n",
    "\n",
    "        # Extract and return the response text\n",
    "        response_text = response[\"output\"][\"message\"][\"content\"][0][\"text\"]\n",
    "        return response_text\n",
    "\n",
    "    except (ClientError, Exception) as e:\n",
    "        print(f\"ERROR: Can't invoke '{model_id}'. Reason: {e}\")\n",
    "        exit(1)\n",
    "\n"
   ]
  },
  {
   "cell_type": "code",
   "execution_count": 43,
   "metadata": {},
   "outputs": [
    {
     "name": "stdout",
     "output_type": "stream",
     "text": [
      "장환이는 처음 사과 23개를 가지고 있었습니다.\n",
      "점심에 20개를 먹었으면, 남은 사과는 23 - 20 = 3개 입니다.\n",
      "그 다음에 6개의 사과를 더 샀으면, 장환이는 3 + 6 = 9개의 사과를 가지게 됩니다.\n",
      "\n",
      "따라서, 장환이는 9개의 사과를 가지고 있을 것입니다.\n"
     ]
    }
   ],
   "source": [
    "# Normal prompt\n",
    "cod_prompt = \"\"\"\n",
    "Q: 동진이는 테니스 공 5개를 가지고 있어. \n",
    "그는 테니스 공 2캔을 샀어.\n",
    "캔에는 공 3개씩 들어있어.\n",
    "동진이는 공을 몇개 가지고 있을까?\n",
    "\n",
    "A: 11개\n",
    "\"\"\"\n",
    "\n",
    "# User query\n",
    "user_query = \"\"\"\n",
    "Q: 장환이는 사과 23개를 가지고 있어. \n",
    "     점심에 20개를 먹고나서 6개를 더 샀다면 \n",
    "     장환이는 사과을 몇개 가지고 있을까?\n",
    "\n",
    "\"\"\"\n",
    "\n",
    "# Call the function and print the result\n",
    "result = invoke_bedrock_model(cod_prompt, user_query)\n",
    "print(result)"
   ]
  },
  {
   "cell_type": "code",
   "execution_count": 44,
   "metadata": {},
   "outputs": [
    {
     "name": "stdout",
     "output_type": "stream",
     "text": [
      "A: 장환이는 처음에 사과 23개가 있어. 점심에 20개를 먹었으면 23 - 20 = 3개의 사과가 남았어. 그리고 6개를 더 샀으니까 3 + 6 = 9개의 사과를 가지고 있어. 그래서 정답은 9개야.\n"
     ]
    }
   ],
   "source": [
    "# Chain of Thought prompt\n",
    "cod_prompt = \"\"\"\n",
    "Q: 동진이는 테니스 공 5개를 가지고 있어. \n",
    "그는 테니스 공 2캔을 샀어.\n",
    "캔에는 공 3개씩 들어있어.\n",
    "동진이는 공을 몇개 가지고 있을까?\n",
    "\n",
    "A: 동진이는 처음에 공 5개가 있어. 공 3개들어 있는 캔 2개가 있으니까 총 6개의 공을 산거야. 5+6 =11 그래서 정답은 11개야\n",
    "\"\"\"\n",
    "\n",
    "# User query\n",
    "user_query = \"\"\"\n",
    "Q: 장환이는 사과 23개를 가지고 있어. \n",
    "     점심에 20개를 먹고나서 6개를 더 샀다면 \n",
    "     장환이는 사과을 몇개 가지고 있을까?\n",
    "\n",
    "\"\"\"\n",
    "\n",
    "# Call the function and print the result\n",
    "result = invoke_bedrock_model(cod_prompt, user_query)\n",
    "print(result)"
   ]
  },
  {
   "cell_type": "markdown",
   "metadata": {},
   "source": [
    "## 조금 더 어려운 문제"
   ]
  },
  {
   "cell_type": "code",
   "execution_count": 48,
   "metadata": {},
   "outputs": [
    {
     "name": "stdout",
     "output_type": "stream",
     "text": [
      "닭과 소의 수를 알아내기 위해 두 개의 방정식을 세울 수 있습니다. 닭은 2개의 다리와 1개의 머리를 가지고 있고, 소는 4개의 다리와 1개의 머리를 가지고 있습니다. \n",
      "\n",
      "다음과 같은 방정식을 세울 수 있습니다:\n",
      "\n",
      "1. 머리 수의 합: \n",
      "   \\( x + y = 18 \\)\n",
      "   \n",
      "   여기서 \\( x \\)는 닭의 수, \\( y \\)는 소의 수를 나타냅니다.\n",
      "\n",
      "2. 다리 수의 합: \n",
      "   \\( 2x + 4y = 50 \\)\n",
      "\n",
      "이제 두 방정식을 풀어 보겠습니다. 첫 번째 방정식에서 \\( y \\)를 표현해 봅시다:\n",
      "\n",
      "\\[ y = 18 - x \\]\n",
      "\n",
      "두 번째 방정식에 이 값을 대입해 보겠습니다:\n",
      "\n",
      "\\[ 2x + 4(18 - x) = 50 \\]\n",
      "\n",
      "이제 식을 풀어 봅시다:\n",
      "\n",
      "\\[ 2x + 72 - 4x = 50 \\]\n",
      "\n",
      "\\[ -2x + 72 = 50 \\]\n",
      "\n",
      "\\[ -2x = 50 - 72 \\]\n",
      "\n",
      "\\[ -2x = -22 \\]\n",
      "\n",
      "\\[ x = 11 \\]\n",
      "\n",
      "따라서, 닭의 수는 11마리입니다. \n",
      "\n",
      "이제 소의 수를 확인해 보겠습니다:\n",
      "\n",
      "\\[ y = 18 - 11 = 7 \\]\n",
      "\n",
      "따라서, 소의 수는 7마리입니다.\n",
      "\n",
      "결론적으로, 닭의 수는 11마리입니다.\n"
     ]
    }
   ],
   "source": [
    "# Normal prompt\n",
    "cod_prompt = \"\"\"\n",
    "바로 답변해줘\n",
    "\"\"\"\n",
    "\n",
    "# User query\n",
    "user_query = \"\"\"\n",
    "한 농장에 닭과 소가 있습니다. 모든 동물의 다리 수의 합이 50이고, 머리 수의 합이 18일 때, 닭의 수는 몇 마리일까요?\n",
    "\"\"\"\n",
    "\n",
    "# Call the function and print the result\n",
    "result = invoke_bedrock_model(cod_prompt, user_query)\n",
    "print(result)"
   ]
  },
  {
   "cell_type": "code",
   "execution_count": 47,
   "metadata": {},
   "outputs": [
    {
     "name": "stdout",
     "output_type": "stream",
     "text": [
      "농장에 닭과 소가 있고, 다리 수와 머리 수의 합이 주어져 있습니다. 닭은 2개의 다리를 가지고, 소는 4개의 다리를 가지고 있습니다. 또한, 닭과 소 모두 머리는 하나씩 가지고 있습니다.\n",
      "\n",
      "닭의 수를 \\( x \\)라고 하고, 소의 수를 \\( y \\)라고 하겠습니다.\n",
      "\n",
      "다리 수의 합 조건:\n",
      "\\[ 2x + 4y = 50 \\]\n",
      "\n",
      "머리 수의 합 조건:\n",
      "\\[ x + y = 18 \\]\n",
      "\n",
      "이제 이 두 개의 방정식을 풀어 보겠습니다.\n",
      "\n",
      "먼저, 두 번째 방정식에서 \\( y \\)를 표현해 봅시다:\n",
      "\\[ y = 18 - x \\]\n",
      "\n",
      "이제 이 값을 첫 번째 방정식에 대입합니다:\n",
      "\\[ 2x + 4(18 - x) = 50 \\]\n",
      "\n",
      "이제 식을 풀어 봅시다:\n",
      "\\[ 2x + 72 - 4x = 50 \\]\n",
      "\\[ -2x + 72 = 50 \\]\n",
      "\\[ -2x = 50 - 72 \\]\n",
      "\\[ -2x = -22 \\]\n",
      "\\[ x = 11 \\]\n",
      "\n",
      "따라서, 닭의 수 \\( x \\)는 11마리입니다. \n",
      "\n",
      "닭의 수는 11마리입니다.\n"
     ]
    }
   ],
   "source": [
    "# Chain of Thought prompt\n",
    "cod_prompt = \"\"\"\n",
    "Q: 동진이는 테니스 공 5개를 가지고 있어. \n",
    "그는 테니스 공 2캔을 샀어.\n",
    "캔에는 공 3개씩 들어있어.\n",
    "동진이는 공을 몇개 가지고 있을까?\n",
    "\n",
    "A: 동진이는 처음에 공 5개가 있어. 공 3개들어 있는 캔 2개가 있으니까 총 6개의 공을 산거야. 5+6 =11 그래서 정답은 11개야\n",
    "\n",
    "이렇게 단계별로 생각해줘.\n",
    "\"\"\"\n",
    "\n",
    "# User query\n",
    "user_query = \"\"\"\n",
    "한 농장에 닭과 소가 있습니다. 모든 동물의 다리 수의 합이 50이고, 머리 수의 합이 18일 때, 닭의 수는 몇 마리일까요?\n",
    "\"\"\"\n",
    "\n",
    "# Call the function and print the result\n",
    "result = invoke_bedrock_model(cod_prompt, user_query)\n",
    "print(result)"
   ]
  },
  {
   "cell_type": "code",
   "execution_count": null,
   "metadata": {},
   "outputs": [],
   "source": []
  },
  {
   "cell_type": "code",
   "execution_count": null,
   "metadata": {},
   "outputs": [],
   "source": []
  }
 ],
 "metadata": {
  "language_info": {
   "name": "python"
  }
 },
 "nbformat": 4,
 "nbformat_minor": 2
}
