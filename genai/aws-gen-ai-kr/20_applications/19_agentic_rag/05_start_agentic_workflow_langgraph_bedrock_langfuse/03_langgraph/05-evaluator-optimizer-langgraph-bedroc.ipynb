{
 "cells": [
  {
   "cell_type": "markdown",
   "metadata": {},
   "source": [
    "# Evaluator-optimizer: Langgraph 와 Langfuse 로 Amazon Bedrock 시작하기\n",
    "\n",
    "이 노트북은 [Langfuse](https://langfuse.com/) 를 사용하여 Amazonb Bedrock 의 LLM 을 사용하는 방법을 \n",
    "가이드하는 노트북 입니다.\n",
    "\n",
    "구체적으로 LangGraph 로 Evaluator-optimizer 하는 방법을 배웁니다.\n",
    "\n",
    "### 참조\n",
    "- [LangGraph: Workflows and Agents](https://langchain-ai.github.io/langgraph/tutorials/workflows/#prompt-chaining)\n",
    "- [Local Deep Researcher](https://github.com/langchain-ai/local-deep-researcher)\n",
    "\n",
    "\n",
    "\n",
    "---"
   ]
  },
  {
   "cell_type": "markdown",
   "metadata": {},
   "source": [
    "## 1. 선수 사항: \n",
    "### 1.1 Langfuse 사용 환경 및 콘다 가상 환경 생성\n",
    "- 아래의 설치 가이드에 따라 먼저 진행 해주세요.\n",
    "    - [환경 설치 가이드: ](https://github.com/aws-samples/aws-ai-ml-workshop-kr/tree/master/genai/aws-gen-ai-kr/20_applications/19_agentic_rag)\n",
    "\n",
    "\n",
    "### 1.2. Key 정보를 저장하는 env 파일 생성\n",
    "-  ../../.env 파일을 생성하고 아래의 내용을 작성, 19_agentic_rag 폴더 아래에 생성 하시면 됩니다.\n",
    "    ```\n",
    "    LANGFUSE_SECRET_KEY=<secret key>\n",
    "    LANGFUSE_PUBLIC_KEY=<public key>\n",
    "    LANGFUSE_HOST=<host url>\n",
    "    ```    "
   ]
  },
  {
   "cell_type": "markdown",
   "metadata": {},
   "source": [
    "## 2. 환경 설정"
   ]
  },
  {
   "cell_type": "code",
   "execution_count": 66,
   "metadata": {},
   "outputs": [
    {
     "name": "stdout",
     "output_type": "stream",
     "text": [
      "The autoreload extension is already loaded. To reload it, use:\n",
      "  %reload_ext autoreload\n",
      "python path: /home/sagemaker-user/aws-ai-ml-workshop-kr/genai/aws-gen-ai-kr/20_applications/19_agentic_rag/07_start_langgraph_bedrock_langfuse already exists\n",
      "sys.path:  ['/home/sagemaker-user/aws-ai-ml-workshop-kr/genai/aws-gen-ai-kr/20_applications/19_agentic_rag/07_start_langgraph_bedrock_langfuse/03_langgraph', '/home/sagemaker-user/.conda/envs/langgraph/lib/python310.zip', '/home/sagemaker-user/.conda/envs/langgraph/lib/python3.10', '/home/sagemaker-user/.conda/envs/langgraph/lib/python3.10/lib-dynload', '', '/home/sagemaker-user/.conda/envs/langgraph/lib/python3.10/site-packages', '/home/sagemaker-user/aws-ai-ml-workshop-kr/genai/aws-gen-ai-kr/20_applications/19_agentic_rag/07_start_langgraph_bedrock_langfuse']\n"
     ]
    }
   ],
   "source": [
    "%load_ext autoreload\n",
    "%autoreload 2\n",
    "\n",
    "import sys, os\n",
    "\n",
    "def add_python_path(module_path):\n",
    "    if os.path.abspath(module_path) not in sys.path:\n",
    "        sys.path.append(os.path.abspath(module_path))\n",
    "        print(f\"python path: {os.path.abspath(module_path)} is added\")\n",
    "    else:\n",
    "        print(f\"python path: {os.path.abspath(module_path)} already exists\")\n",
    "    print(\"sys.path: \", sys.path)\n",
    "\n",
    "\n",
    "module_path = \"..\"\n",
    "add_python_path(module_path)\n",
    "\n",
    "from utils.langgraph_util import ( \n",
    "    show_graph_dag,\n",
    ")"
   ]
  },
  {
   "cell_type": "markdown",
   "metadata": {},
   "source": [
    "## 3. 환경 변수 로딩\n",
    "아래와 같은 환경 변수를 로딩 함.\n",
    "```\n",
    "LANGSMITH_TRACING=true\n",
    "LANGSMITH_API_KEY=your_langsmith_api_key\n",
    "OPENAI_API_KEY=your_openai_api_key\n",
    "```"
   ]
  },
  {
   "cell_type": "code",
   "execution_count": 67,
   "metadata": {},
   "outputs": [
    {
     "data": {
      "text/plain": [
       "True"
      ]
     },
     "execution_count": 67,
     "metadata": {},
     "output_type": "execute_result"
    }
   ],
   "source": [
    "from dotenv import load_dotenv\n",
    "\n",
    "# .env 파일에서 환경 변수 로드\n",
    "load_dotenv(\"../../.env\")\n",
    "\n"
   ]
  },
  {
   "cell_type": "markdown",
   "metadata": {},
   "source": [
    "## 4. langfuse_handler 핸들러 작성하기"
   ]
  },
  {
   "cell_type": "code",
   "execution_count": 68,
   "metadata": {},
   "outputs": [],
   "source": [
    "from langfuse.callback import CallbackHandler\n",
    "import os\n",
    "\n",
    "langfuse_handler = CallbackHandler(\n",
    "    public_key=os.environ.get('LANGFUSE_PUBLIC_KEY'),\n",
    "    secret_key=os.environ.get('LANGFUSE_SECRET_KEY'),\n",
    "    host=os.environ.get('LANGFUSE_HOST'),\n",
    ")"
   ]
  },
  {
   "cell_type": "markdown",
   "metadata": {},
   "source": [
    "### langfuse endpoint 에 인증 해보기"
   ]
  },
  {
   "cell_type": "code",
   "execution_count": 69,
   "metadata": {},
   "outputs": [
    {
     "data": {
      "text/plain": [
       "True"
      ]
     },
     "execution_count": 69,
     "metadata": {},
     "output_type": "execute_result"
    }
   ],
   "source": [
    "# connection test\n",
    "langfuse_handler.auth_check()"
   ]
  },
  {
   "cell_type": "markdown",
   "metadata": {},
   "source": [
    "## 5. LangChain 인터페이스의 Bedrock 모델 생성\n",
    "- LangChain 개발자 가이드: [ChatBedrock](https://python.langchain.com/docs/integrations/chat/bedrock/)\n",
    "\n",
    "]"
   ]
  },
  {
   "cell_type": "code",
   "execution_count": 70,
   "metadata": {},
   "outputs": [
    {
     "data": {
      "text/plain": [
       "ChatBedrockConverse(client=<botocore.client.BedrockRuntime object at 0x7f5e91179510>, model_id='us.anthropic.claude-3-7-sonnet-20250219-v1:0', temperature=0.0, region_name='us-east-1', provider='anthropic', supports_tool_choice_values=('auto', 'any', 'tool'))"
      ]
     },
     "execution_count": 70,
     "metadata": {},
     "output_type": "execute_result"
    }
   ],
   "source": [
    "from langchain_aws import ChatBedrockConverse\n",
    "\n",
    "model_id = \"us.anthropic.claude-3-7-sonnet-20250219-v1:0\"\n",
    "# model_id = \"us.amazon.nova-pro-v1:0\"\n",
    "# model_id = \"us.anthropic.claude-3-5-haiku-20241022-v1:0\"\n",
    "\n",
    "llm = ChatBedrockConverse(\n",
    "    model= model_id,\n",
    "    temperature=0,\n",
    "    max_tokens=None,\n",
    "    # other params...\n",
    ")\n",
    "\n",
    "llm"
   ]
  },
  {
   "cell_type": "markdown",
   "metadata": {},
   "source": [
    "## 6. Grpah 정의 하기"
   ]
  },
  {
   "cell_type": "code",
   "execution_count": 71,
   "metadata": {},
   "outputs": [],
   "source": [
    "from pydantic import BaseModel, Field\n",
    "from typing import Literal\n",
    "# from typing import Annotated, List\n",
    "# import operator\n",
    "# from langchain_core.messages import SystemMessage, HumanMessage\n",
    "\n",
    "\n",
    "# Schema for structured output to use in evaluation\n",
    "class Feedback(BaseModel):\n",
    "    grade: Literal[\"funny\", \"not funny\"] = Field(\n",
    "        description=\"Decide if the joke is funny or not.\",\n",
    "    )\n",
    "    feedback: str = Field(\n",
    "        description=\"If the joke is not funny, provide feedback on how to improve it in Korean.\",\n",
    "    )\n",
    "\n",
    "\n",
    "# Augment the LLM with schema for structured output\n",
    "evaluator = llm.with_structured_output(Feedback)"
   ]
  },
  {
   "cell_type": "markdown",
   "metadata": {},
   "source": [
    "### State 정의"
   ]
  },
  {
   "cell_type": "code",
   "execution_count": 72,
   "metadata": {},
   "outputs": [],
   "source": [
    "from typing_extensions import TypedDict\n",
    "from langgraph.graph import StateGraph, START, END\n",
    "from IPython.display import Image, display\n",
    "\n",
    "from langgraph.constants import Send\n",
    "\n",
    "# Graph state\n",
    "class State(TypedDict):\n",
    "    joke: str\n",
    "    topic: str\n",
    "    feedback: str\n",
    "    funny_or_not: str"
   ]
  },
  {
   "cell_type": "markdown",
   "metadata": {},
   "source": [
    "### Node 및 분기  함수 정의"
   ]
  },
  {
   "cell_type": "code",
   "execution_count": 73,
   "metadata": {},
   "outputs": [],
   "source": [
    "# Nodes\n",
    "def llm_call_generator(state: State):\n",
    "    \"\"\"LLM generates a joke\"\"\"\n",
    "\n",
    "    if state.get(\"feedback\"):\n",
    "        msg = llm.invoke(\n",
    "            f\"Write a joke about {state['topic']} in Korean but take into account the feedback: {state['feedback']}\"\n",
    "        )\n",
    "    else:\n",
    "        msg = llm.invoke(f\"Write a joke in Korean about {state['topic']} in Korean\")\n",
    "    return {\"joke\": msg.content}\n",
    "\n",
    "\n",
    "def llm_call_evaluator(state: State):\n",
    "    \"\"\"LLM evaluates the joke\"\"\"\n",
    "    prompt = f\"\"\"\n",
    "    당신은 농담 평가 전문가입니다. 다음 농담을 엄격하고 객관적인 기준으로 평가해주세요:\n",
    "\n",
    "    농담: {state['joke']}\n",
    "    \n",
    "    평가 기준:\n",
    "    1. 창의성: 평범하거나 뻔한 농담은 낮은 점수를 줍니다.\n",
    "    2. 어색함: 언어 사용이 어색하거나 매끄럽지 않은 경우 재미없는 것으로 간주합니다.\n",
    "    3. 논리: 농담의 논리가 이해하기 어렵거나 비약이 큰 경우 재미없는 것으로 간주합니다.\n",
    "    4. 신선함: 흔하게 들을 수 있는 농담은 재미없는 것으로 간주합니다.\n",
    "    \n",
    "    중요: 단순히 예의상 긍정적인 평가를 하지 마세요. 농담의 퀄리티에 대해 정직하고 엄격하게 평가하세요.\n",
    "    많은 농담이 실제로는 '재미없음(not funny)' 범주에 속합니다. 농담의 약 70%는 'not funny'로 평가되어야 합니다.\n",
    "    \n",
    "    당신의 평가는 향후 더 좋은 농담을 생성하는 데 중요한 역할을 합니다.\n",
    "    \"\"\"\n",
    "\n",
    "    grade = evaluator.invoke(prompt)\n",
    "    return {\"funny_or_not\": grade.grade, \"feedback\": grade.feedback}\n"
   ]
  },
  {
   "cell_type": "code",
   "execution_count": 74,
   "metadata": {},
   "outputs": [],
   "source": [
    "# Conditional edge function to route back to joke generator or end based upon feedback from the evaluator\n",
    "def route_joke(state: State):\n",
    "    \"\"\"Route back to joke generator or end based upon feedback from the evaluator\"\"\"\n",
    "\n",
    "    if state[\"funny_or_not\"] == \"funny\":\n",
    "        return \"Accepted\"\n",
    "    elif state[\"funny_or_not\"] == \"not funny\":\n",
    "        return \"Rejected + Feedback\""
   ]
  },
  {
   "cell_type": "markdown",
   "metadata": {},
   "source": [
    "### 그래프 구조 만들기"
   ]
  },
  {
   "cell_type": "code",
   "execution_count": 75,
   "metadata": {},
   "outputs": [
    {
     "data": {
      "image/png": "[encoded data removed]",
      "text/plain": [
       "<IPython.core.display.Image object>"
      ]
     },
     "metadata": {},
     "output_type": "display_data"
    }
   ],
   "source": [
    "# Build workflow\n",
    "optimizer_builder = StateGraph(State)\n",
    "\n",
    "# Add the nodes\n",
    "optimizer_builder.add_node(\"llm_call_generator\", llm_call_generator)\n",
    "optimizer_builder.add_node(\"llm_call_evaluator\", llm_call_evaluator)\n",
    "\n",
    "# Add edges to connect nodes\n",
    "optimizer_builder.add_edge(START, \"llm_call_generator\")\n",
    "optimizer_builder.add_edge(\"llm_call_generator\", \"llm_call_evaluator\")\n",
    "optimizer_builder.add_conditional_edges(\n",
    "    \"llm_call_evaluator\",\n",
    "    route_joke,\n",
    "    {  # Name returned by route_joke : Name of next node to visit\n",
    "        \"Accepted\": END,\n",
    "        \"Rejected + Feedback\": \"llm_call_generator\",\n",
    "    },\n",
    ")\n",
    "\n",
    "# Compile the workflow\n",
    "optimizer_workflow = optimizer_builder.compile()\n",
    "\n",
    "# Show the workflow\n",
    "display(Image(optimizer_workflow.get_graph().draw_mermaid_png()))"
   ]
  },
  {
   "cell_type": "markdown",
   "metadata": {},
   "source": [
    "### Graph 호출"
   ]
  },
  {
   "cell_type": "code",
   "execution_count": 76,
   "metadata": {},
   "outputs": [],
   "source": [
    "# Invoke\n",
    "state = optimizer_workflow.invoke({\"topic\": \"고양이\"},\n",
    "    config={\n",
    "            \"callbacks\": [langfuse_handler],\n",
    "        }\n",
    ")"
   ]
  },
  {
   "cell_type": "markdown",
   "metadata": {},
   "source": [
    "### 최종 State 값 보기\n",
    "- 각 Node 에서 State Class 의 변수에 값을 할당함."
   ]
  },
  {
   "cell_type": "code",
   "execution_count": 77,
   "metadata": {},
   "outputs": [
    {
     "data": {
      "text/plain": [
       "{'joke': '# 고양이 농담\\n\\n고양이가 카페에 들어가서 주문을 했어요.\\n\"아메리카노 한 잔 주세요.\"\\n바리스타가 물었어요. \"성함이 어떻게 되세요?\"\\n고양이가 대답했어요. \"냥기명으로 해주세요.\"\\n\\n바리스타가 커피를 내놓으며 외쳤어요. \"냥기명 손님, 아메리카노 나왔습니다!\"\\n그러자 카페에 있던 모든 고양이들이 일제히 고개를 돌렸답니다.\\n\\n---\\n\\n이 농담은 한국어의 \\'익명\\'(이름을 밝히지 않음)과 \\'냥기명\\'(고양이 소리 \\'냥\\'을 활용한 말장난)의 언어유희를 사용했고, 카페에서 이름을 부르는 한국의 문화적 맥락과 고양이들이 자기 이름이 불린 것이 아닌데도 반응하는 특성을 결합했습니다.',\n",
       " 'topic': '고양이',\n",
       " 'feedback': '이 농담은 전반적으로 잘 구성되어 있습니다. \\'익명\\'과 \\'냥기명\\'의 언어유희가 창의적이고, 한국의 카페 문화와 고양이의 특성을 잘 결합했습니다. 다만 더 강화하기 위해서는:\\n\\n1. 마지막 부분에서 고양이들이 반응하는 장면을 좀 더 구체적으로 묘사하면 더 웃음을 줄 수 있을 것입니다. 예를 들어 \"그러자 카페에 있던 모든 고양이들이 일제히 고개를 돌리며 \\'내 이름도 냥기명인데!\\' 하고 생각했답니다.\"\\n\\n2. 바리스타의 반응을 추가하여 상황의 재미를 더할 수 있습니다. 예를 들어 \"바리스타는 갑자기 자신이 고양이 카페에서 일하고 있다는 것을 깨달았습니다.\"\\n\\n3. 농담의 도입부에서 왜 고양이가 카페에 들어갔는지에 대한 약간의 배경 설명이 있으면 더 풍부해질 수 있습니다.\\n\\n하지만 전체적으로 언어유희와 문화적 맥락을 잘 활용한 재미있는 농담입니다.',\n",
       " 'funny_or_not': 'funny'}"
      ]
     },
     "execution_count": 77,
     "metadata": {},
     "output_type": "execute_result"
    }
   ],
   "source": [
    "state"
   ]
  },
  {
   "cell_type": "markdown",
   "metadata": {},
   "source": [
    "### State 값 흐름에 따라 출력"
   ]
  },
  {
   "cell_type": "code",
   "execution_count": 78,
   "metadata": {},
   "outputs": [
    {
     "data": {
      "text/markdown": [
       "# 고양이 농담\n",
       "\n",
       "고양이가 카페에 들어가서 주문을 했어요.\n",
       "\"아메리카노 한 잔 주세요.\"\n",
       "바리스타가 물었어요. \"성함이 어떻게 되세요?\"\n",
       "고양이가 대답했어요. \"냥기명으로 해주세요.\"\n",
       "\n",
       "바리스타가 커피를 내놓으며 외쳤어요. \"냥기명 손님, 아메리카노 나왔습니다!\"\n",
       "그러자 카페에 있던 모든 고양이들이 일제히 고개를 돌렸답니다.\n",
       "\n",
       "---\n",
       "\n",
       "이 농담은 한국어의 '익명'(이름을 밝히지 않음)과 '냥기명'(고양이 소리 '냥'을 활용한 말장난)의 언어유희를 사용했고, 카페에서 이름을 부르는 한국의 문화적 맥락과 고양이들이 자기 이름이 불린 것이 아닌데도 반응하는 특성을 결합했습니다."
      ],
      "text/plain": [
       "<IPython.core.display.Markdown object>"
      ]
     },
     "execution_count": 78,
     "metadata": {},
     "output_type": "execute_result"
    }
   ],
   "source": [
    "from IPython.display import Markdown\n",
    "Markdown(state[\"joke\"])\n",
    "# print(state[\"joke\"])\n"
   ]
  },
  {
   "cell_type": "markdown",
   "metadata": {},
   "source": [
    "## 7. Langfuse Tracing Output\n",
    "![generator-evaluator.png](img/generator-evaluator.png)"
   ]
  },
  {
   "cell_type": "code",
   "execution_count": null,
   "metadata": {},
   "outputs": [],
   "source": []
  }
 ],
 "metadata": {
  "kernelspec": {
   "display_name": "langgraph",
   "language": "python",
   "name": "python3"
  },
  "language_info": {
   "codemirror_mode": {
    "name": "ipython",
    "version": 3
   },
   "file_extension": ".py",
   "mimetype": "text/x-python",
   "name": "python",
   "nbconvert_exporter": "python",
   "pygments_lexer": "ipython3",
   "version": "3.10.14"
  }
 },
 "nbformat": 4,
 "nbformat_minor": 2
}
