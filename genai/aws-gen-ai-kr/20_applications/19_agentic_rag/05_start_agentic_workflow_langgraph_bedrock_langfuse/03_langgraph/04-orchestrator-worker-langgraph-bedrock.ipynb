{
 "cells": [
  {
   "cell_type": "markdown",
   "metadata": {},
   "source": [
    "# Orchestrator-Worker: Langgraph 와 Langfuse 로 Amazon Bedrock 시작하기\n",
    "\n",
    "이 노트북은 [Langfuse](https://langfuse.com/) 를 사용하여 Amazonb Bedrock 의 LLM 을 사용하는 방법을 \n",
    "가이드하는 노트북 입니다.\n",
    "\n",
    "구체적으로 LangGraph 로 Orchestrator-Worker 하는 방법을 배웁니다.\n",
    "\n",
    "### 참조\n",
    "- [LangGraph: Workflows and Agents](https://langchain-ai.github.io/langgraph/tutorials/workflows/#prompt-chaining)\n",
    "- [Map-reduce](https://github.com/langchain-ai/langchain-academy/blob/main/module-4/map-reduce.ipynb)\n",
    "\n",
    "\n",
    "\n",
    "---"
   ]
  },
  {
   "cell_type": "markdown",
   "metadata": {},
   "source": [
    "## 1. 선수 사항: \n",
    "### 1.1 Langfuse 사용 환경 및 콘다 가상 환경 생성\n",
    "- 아래의 설치 가이드에 따라 먼저 진행 해주세요.\n",
    "    - [환경 설치 가이드: ](https://github.com/aws-samples/aws-ai-ml-workshop-kr/tree/master/genai/aws-gen-ai-kr/20_applications/19_agentic_rag)\n",
    "\n",
    "\n",
    "### 1.2. Key 정보를 저장하는 env 파일 생성\n",
    "-  ../../.env 파일을 생성하고 아래의 내용을 작성, 19_agentic_rag 폴더 아래에 생성 하시면 됩니다.\n",
    "    ```\n",
    "    LANGFUSE_SECRET_KEY=<secret key>\n",
    "    LANGFUSE_PUBLIC_KEY=<public key>\n",
    "    LANGFUSE_HOST=<host url>\n",
    "    ```    "
   ]
  },
  {
   "cell_type": "markdown",
   "metadata": {},
   "source": [
    "## 2. 환경 설정"
   ]
  },
  {
   "cell_type": "code",
   "execution_count": 1,
   "metadata": {},
   "outputs": [
    {
     "name": "stdout",
     "output_type": "stream",
     "text": [
      "python path: /home/sagemaker-user/aws-ai-ml-workshop-kr/genai/aws-gen-ai-kr/20_applications/19_agentic_rag/07_start_langgraph_bedrock_langfuse is added\n",
      "sys.path:  ['/home/sagemaker-user/aws-ai-ml-workshop-kr/genai/aws-gen-ai-kr/20_applications/19_agentic_rag/07_start_langgraph_bedrock_langfuse/03_langgraph', '/home/sagemaker-user/.conda/envs/langgraph/lib/python310.zip', '/home/sagemaker-user/.conda/envs/langgraph/lib/python3.10', '/home/sagemaker-user/.conda/envs/langgraph/lib/python3.10/lib-dynload', '', '/home/sagemaker-user/.conda/envs/langgraph/lib/python3.10/site-packages', '/home/sagemaker-user/aws-ai-ml-workshop-kr/genai/aws-gen-ai-kr/20_applications/19_agentic_rag/07_start_langgraph_bedrock_langfuse']\n"
     ]
    }
   ],
   "source": [
    "%load_ext autoreload\n",
    "%autoreload 2\n",
    "\n",
    "import sys, os\n",
    "\n",
    "def add_python_path(module_path):\n",
    "    if os.path.abspath(module_path) not in sys.path:\n",
    "        sys.path.append(os.path.abspath(module_path))\n",
    "        print(f\"python path: {os.path.abspath(module_path)} is added\")\n",
    "    else:\n",
    "        print(f\"python path: {os.path.abspath(module_path)} already exists\")\n",
    "    print(\"sys.path: \", sys.path)\n",
    "\n",
    "\n",
    "module_path = \"..\"\n",
    "add_python_path(module_path)\n",
    "\n",
    "from utils.langgraph_util import ( \n",
    "    show_graph_dag,\n",
    ")"
   ]
  },
  {
   "cell_type": "markdown",
   "metadata": {},
   "source": [
    "## 3. 환경 변수 로딩\n",
    "아래와 같은 환경 변수를 로딩 함.\n",
    "```\n",
    "LANGSMITH_TRACING=true\n",
    "LANGSMITH_API_KEY=your_langsmith_api_key\n",
    "OPENAI_API_KEY=your_openai_api_key\n",
    "```"
   ]
  },
  {
   "cell_type": "code",
   "execution_count": 2,
   "metadata": {},
   "outputs": [
    {
     "data": {
      "text/plain": [
       "True"
      ]
     },
     "execution_count": 2,
     "metadata": {},
     "output_type": "execute_result"
    }
   ],
   "source": [
    "from dotenv import load_dotenv\n",
    "\n",
    "# .env 파일에서 환경 변수 로드\n",
    "load_dotenv(\"../../.env\")\n",
    "\n"
   ]
  },
  {
   "cell_type": "markdown",
   "metadata": {},
   "source": [
    "## 4. langfuse_handler 핸들러 작성하기"
   ]
  },
  {
   "cell_type": "code",
   "execution_count": 3,
   "metadata": {},
   "outputs": [],
   "source": [
    "from langfuse.callback import CallbackHandler\n",
    "import os\n",
    "\n",
    "langfuse_handler = CallbackHandler(\n",
    "    public_key=os.environ.get('LANGFUSE_PUBLIC_KEY'),\n",
    "    secret_key=os.environ.get('LANGFUSE_SECRET_KEY'),\n",
    "    host=os.environ.get('LANGFUSE_HOST'),\n",
    ")"
   ]
  },
  {
   "cell_type": "markdown",
   "metadata": {},
   "source": [
    "### langfuse endpoint 에 인증 해보기"
   ]
  },
  {
   "cell_type": "code",
   "execution_count": 4,
   "metadata": {},
   "outputs": [
    {
     "data": {
      "text/plain": [
       "True"
      ]
     },
     "execution_count": 4,
     "metadata": {},
     "output_type": "execute_result"
    }
   ],
   "source": [
    "# connection test\n",
    "langfuse_handler.auth_check()"
   ]
  },
  {
   "cell_type": "markdown",
   "metadata": {},
   "source": [
    "## 5. LangChain 인터페이스의 Bedrock 모델 생성\n",
    "- LangChain 개발자 가이드: [ChatBedrock](https://python.langchain.com/docs/integrations/chat/bedrock/)\n",
    "\n",
    "]"
   ]
  },
  {
   "cell_type": "code",
   "execution_count": 5,
   "metadata": {},
   "outputs": [
    {
     "data": {
      "text/plain": [
       "ChatBedrockConverse(client=<botocore.client.BedrockRuntime object at 0x7f04d153c250>, model_id='us.anthropic.claude-3-5-haiku-20241022-v1:0', temperature=0.0, region_name='us-east-1', provider='anthropic', supports_tool_choice_values=('auto', 'any', 'tool'))"
      ]
     },
     "execution_count": 5,
     "metadata": {},
     "output_type": "execute_result"
    }
   ],
   "source": [
    "from langchain_aws import ChatBedrockConverse\n",
    "\n",
    "# model_id = \"us.anthropic.claude-3-7-sonnet-20250219-v1:0\"\n",
    "# model_id = \"us.amazon.nova-pro-v1:0\"\n",
    "model_id = \"us.anthropic.claude-3-5-haiku-20241022-v1:0\"\n",
    "\n",
    "llm = ChatBedrockConverse(\n",
    "    model= model_id,\n",
    "    temperature=0,\n",
    "    max_tokens=None,\n",
    "    # other params...\n",
    ")\n",
    "\n",
    "llm"
   ]
  },
  {
   "cell_type": "markdown",
   "metadata": {},
   "source": [
    "## 6. Grpah 정의 하기"
   ]
  },
  {
   "cell_type": "code",
   "execution_count": 6,
   "metadata": {},
   "outputs": [],
   "source": [
    "from pydantic import BaseModel, Field\n",
    "from typing import Annotated, List\n",
    "import operator\n",
    "from langchain_core.messages import SystemMessage, HumanMessage\n",
    "\n",
    "\n",
    "# Schema for structured output to use in planning\n",
    "class Section(BaseModel):\n",
    "    name: str = Field(\n",
    "        description=\"Name for this section of the report.\",\n",
    "    )\n",
    "    description: str = Field(\n",
    "        description=\"Brief overview of the main topics and concepts to be covered in this section.\",\n",
    "    )\n",
    "\n",
    "\n",
    "class Sections(BaseModel):\n",
    "    sections: List[Section] = Field(\n",
    "        description=\"Sections of the report.\",\n",
    "    )\n",
    "\n",
    "\n",
    "# Augment the LLM with schema for structured output\n",
    "planner = llm.with_structured_output(Sections)"
   ]
  },
  {
   "cell_type": "markdown",
   "metadata": {},
   "source": [
    "### State 정의"
   ]
  },
  {
   "cell_type": "code",
   "execution_count": 7,
   "metadata": {},
   "outputs": [],
   "source": [
    "from typing_extensions import TypedDict\n",
    "from langgraph.graph import StateGraph, START, END\n",
    "from IPython.display import Image, display\n",
    "\n",
    "from langgraph.constants import Send\n",
    "\n",
    "# Graph state\n",
    "class State(TypedDict):\n",
    "    topic: str  # Report topic\n",
    "    sections: list[Section]  # List of report sections\n",
    "    completed_sections: Annotated[\n",
    "        list, operator.add\n",
    "    ]  # All workers write to this key in parallel\n",
    "    final_report: str  # Final report\n",
    "\n",
    "\n",
    "# Worker state\n",
    "class WorkerState(TypedDict):\n",
    "    section: Section\n",
    "    completed_sections: Annotated[list, operator.add]"
   ]
  },
  {
   "cell_type": "markdown",
   "metadata": {},
   "source": [
    "### Node 및 분기  함수 정의"
   ]
  },
  {
   "cell_type": "code",
   "execution_count": 8,
   "metadata": {},
   "outputs": [],
   "source": [
    "# Nodes\n",
    "def orchestrator(state: State):\n",
    "    \"\"\"Orchestrator that generates a plan for the report\"\"\"\n",
    "\n",
    "    # Generate queries\n",
    "    report_sections = planner.invoke(\n",
    "        [\n",
    "            SystemMessage(content=\"Generate a short plan for the report in Korean.\"),\n",
    "            HumanMessage(content=f\"Here is the report topic: {state['topic']}\"),\n",
    "        ]\n",
    "    )\n",
    "\n",
    "    return {\"sections\": report_sections.sections}\n"
   ]
  },
  {
   "cell_type": "code",
   "execution_count": 9,
   "metadata": {},
   "outputs": [],
   "source": [
    "def llm_call(state: WorkerState):\n",
    "    \"\"\"Worker writes a section of the report\"\"\"\n",
    "\n",
    "    # Generate section\n",
    "    section = llm.invoke(\n",
    "        [\n",
    "            SystemMessage(\n",
    "                content=\"Write a report section following the provided name and description. Include no preamble for each section. Use markdown formatting.\"\n",
    "            ),\n",
    "            HumanMessage(\n",
    "                content=f\"Here is the section name: {state['section'].name} and description: {state['section'].description}\"\n",
    "            ),\n",
    "        ]\n",
    "    )\n",
    "\n",
    "    # Write the updated section to completed sections\n",
    "    return {\"completed_sections\": [section.content]}"
   ]
  },
  {
   "cell_type": "code",
   "execution_count": 10,
   "metadata": {},
   "outputs": [],
   "source": [
    "def synthesizer(state: State):\n",
    "    \"\"\"Synthesize full report from sections\"\"\"\n",
    "\n",
    "    # List of completed sections\n",
    "    completed_sections = state[\"completed_sections\"]\n",
    "\n",
    "    # Format completed section to str to use as context for final sections\n",
    "    completed_report_sections = \"\\n\\n---\\n\\n\".join(completed_sections)\n",
    "\n",
    "    return {\"final_report\": completed_report_sections}"
   ]
  },
  {
   "cell_type": "code",
   "execution_count": 11,
   "metadata": {},
   "outputs": [],
   "source": [
    "# Conditional edge function to create llm_call workers that each write a section of the report\n",
    "def assign_workers(state: State):\n",
    "    \"\"\"Assign a worker to each section in the plan\"\"\"\n",
    "\n",
    "    # Kick off section writing in parallel via Send() API\n",
    "    return [Send(\"llm_call\", {\"section\": s}) for s in state[\"sections\"]]"
   ]
  },
  {
   "cell_type": "markdown",
   "metadata": {},
   "source": [
    "### 그래프 구조 만들기"
   ]
  },
  {
   "cell_type": "code",
   "execution_count": 12,
   "metadata": {},
   "outputs": [],
   "source": [
    "# Build workflow\n",
    "orchestrator_worker_builder = StateGraph(State)\n",
    "\n",
    "# Add the nodes\n",
    "orchestrator_worker_builder.add_node(\"orchestrator\", orchestrator)\n",
    "orchestrator_worker_builder.add_node(\"llm_call\", llm_call)\n",
    "orchestrator_worker_builder.add_node(\"synthesizer\", synthesizer)\n",
    "\n",
    "# Add edges to connect nodes\n",
    "orchestrator_worker_builder.add_edge(START, \"orchestrator\")\n",
    "orchestrator_worker_builder.add_conditional_edges(\n",
    "    \"orchestrator\", assign_workers, [\"llm_call\"]\n",
    ")\n",
    "orchestrator_worker_builder.add_edge(\"llm_call\", \"synthesizer\")\n",
    "orchestrator_worker_builder.add_edge(\"synthesizer\", END)\n",
    "\n",
    "# Compile the workflow\n",
    "orchestrator_worker = orchestrator_worker_builder.compile()"
   ]
  },
  {
   "cell_type": "code",
   "execution_count": 13,
   "metadata": {},
   "outputs": [
    {
     "data": {
      "image/png": "[encoded data removed]",
      "text/plain": [
       "<IPython.core.display.Image object>"
      ]
     },
     "metadata": {},
     "output_type": "display_data"
    }
   ],
   "source": [
    "# Show the workflow\n",
    "display(Image(orchestrator_worker.get_graph().draw_mermaid_png()))\n"
   ]
  },
  {
   "cell_type": "markdown",
   "metadata": {},
   "source": [
    "### Graph 호출"
   ]
  },
  {
   "cell_type": "code",
   "execution_count": 14,
   "metadata": {},
   "outputs": [],
   "source": [
    "state = orchestrator_worker.invoke({\"topic\": \"Create a report on LLM scaling laws\"},\n",
    "    config={\n",
    "            \"callbacks\": [langfuse_handler],\n",
    "        }\n",
    ")"
   ]
  },
  {
   "cell_type": "markdown",
   "metadata": {},
   "source": [
    "### 최종 State 값 보기\n",
    "- 각 Node 에서 State Class 의 변수에 값을 할당함."
   ]
  },
  {
   "cell_type": "code",
   "execution_count": 15,
   "metadata": {},
   "outputs": [
    {
     "data": {
      "text/plain": [
       "{'topic': 'Create a report on LLM scaling laws',\n",
       " 'sections': [Section(name='소개', description='대규모 언어 모델(LLM)의 스케일링 법칙에 대한 기본 개념 및 중요성 설명'),\n",
       "  Section(name='스케일링 법칙의 기본 원리', description='모델 크기, 데이터 양, 계산 능력이 성능에 미치는 영향 분석'),\n",
       "  Section(name='주요 연구 및 발견', description='OpenAI, DeepMind 등 주요 연구 기관의 LLM 스케일링 법칙 연구 결과 검토'),\n",
       "  Section(name='성능 예측 및 한계', description='스케일링 법칙을 통한 모델 성능 예측 방법과 현재의 기술적 한계 탐구'),\n",
       "  Section(name='미래 전망', description='LLM 스케일링의 미래 트렌드와 잠재적 발전 방향 논의')],\n",
       " 'completed_sections': ['## 소개\\n\\n대규모 언어 모델(Large Language Models, LLM)의 발전은 인공지능 분야에서 혁명적인 변화를 가져왔다. 이러한 모델의 성능은 모델 크기, 학습 데이터, 컴퓨팅 파워와 밀접한 관련이 있으며, 스케일링 법칙는 이러한 관계를 이해하는 핵심 개념이다.\\n\\n스케일링 법칙은 모델의 크기(매개변수 수)와 성능 사이의 상관관계를 설명한다. 주요 관찰 결과는 다음과 같다:\\n\\n1. **매개변수 규모**: 모델의 매개변수 수가 증가함에 따라 성능이 지수적으로 향상된다.\\n2. **데이터 의존성**: 더 큰 모델은 더 많은 학습 데이터를 필요로 하며, 데이터 품질과 다양성이 중요하다.\\n3. **컴퓨팅 요구사항**: 모델 크기 증가에 따라 계산 복잡성과 학습 비용도 증가한다.\\n\\n이러한 스케일링 법칙의 이해는 AI 연구자들에게 중요한 통찰을 제공하며, 미래 언어 모델의 성능 예측과 개발 방향을 제시한다. 본 연구에서는 이러한 스케일링 법칙의 기본 개념과 그 중요성을 심층적으로 탐구한다.',\n",
       "  '## 스케일링 법칙의 기본 원리\\n\\n스케일링 법칙은 인공지능 모델의 성능 향상을 위한 핵심 메커니즘으로, 세 가지 주요 변수의 상호작용을 분석한다:\\n\\n### 모델 크기 (파라미터 수)\\n- 모델의 파라미터 수가 증가함에 따라 성능이 개선되는 경향\\n- 대규모 언어 모델에서 파라미터 스케일링의 중요성\\n- 모델 복잡성과 학습 능력 간의 상관관계\\n\\n### 데이터 양\\n- 학습 데이터의 규모가 모델 성능에 미치는 영향\\n- 데이터 다양성과 품질의 중요성\\n- 데이터 스케일링을 통한 일반화 능력 향상\\n\\n### 계산 능력\\n- 컴퓨팅 리소스의 확장이 모델 학습에 미치는 영향\\n- 병렬 처리 및 분산 학습 기술\\n- 계산 효율성과 모델 성능 간의 균형\\n\\n### 스케일링 법칙의 주요 관찰\\n- 로그-선형적 성능 개선 패턴\\n- 모델 크기, 데이터 양, 계산 능력 간의 상호 의존성\\n- 리소스 투자 대비 성능 향상의 수익성 분석\\n\\n### 한계 및 도전 과제\\n- 무제한 스케일링의 기술적, 경제적 제약\\n- 모델 복잡성 증가에 따른 과적합 위험\\n- 에너지 소비 및 환경적 고려사항',\n",
       "  '## 주요 연구 및 발견\\n\\n최근 OpenAI와 DeepMind를 중심으로 대규모 언어 모델(LLM)의 스케일링 법칙에 대한 중요한 연구 결과들이 발표되었다.\\n\\n### OpenAI의 스케일링 연구\\n\\nOpenAI의 연구팀은 모델 크기, 학습 데이터, 컴퓨팅 성능 간의 상관관계를 분석하여 다음과 같은 주요 발견을 제시했다:\\n\\n- 모델 크기가 증가함에 따라 성능이 로그 선형적으로 개선됨\\n- 학습 데이터의 양과 질이 모델 성능에 결정적 영향을 미침\\n- 컴퓨팅 파워 증가가 모델 성능 향상의 핵심 요인\\n\\n### DeepMind의 스케일링 인사이트\\n\\nDeepMind 연구팀은 다음과 같은 중요한 관찰 결과를 도출했다:\\n\\n- 모델 크기 증가에 따른 성능 향상의 한계점 존재\\n- 다양성과 고품질 데이터셋의 중요성\\n- 모델 아키텍처 최적화의 필요성\\n\\n### 주요 시사점\\n\\n- 지속적인 모델 스케일링은 성능 개선에 유효한 전략\\n- 단순한 크기 확장보다는 데이터와 아키텍처 최적화가 중요\\n- 계산 효율성과 성능 사이의 균형 필요',\n",
       "  '## 성능 예측 및 한계\\n\\n### 스케일링 법칙 분석\\n\\n대규모 언어 모델의 성능 예측을 위해 다음과 같은 주요 스케일링 법칙을 고려할 수 있다:\\n\\n- 모델 크기 증가에 따른 성능 향상 추세\\n- 학습 데이터 규모와 성능 간의 상관관계\\n- 계산 리소스 확장에 따른 성능 변화\\n\\n### 기술적 한계\\n\\n현재 대규모 언어 모델의 주요 한계점:\\n\\n1. **계산 리소스 제약**\\n   - 극도로 큰 모델의 학습 및 추론에 필요한 막대한 컴퓨팅 파워\\n   - 에너지 소비 및 환경적 영향\\n\\n2. **데이터 품질 및 편향**\\n   - 학습 데이터의 편향성\\n   - 희소한 고품질 데이터의 한계\\n\\n3. **성능 포화 현상**\\n   - 모델 크기 증가에 따른 성능 향상의 점진적 감소\\n   - 한계 효용 체감 현상\\n\\n### 미래 전망\\n\\n- 보다 효율적인 모델 아키텍처 개발\\n- 계산 효율성 개선 연구\\n- 데이터 큐레이션 및 편향 감소 기술 발전',\n",
       "  '## 미래 전망\\n\\nLLM(대규모 언어 모델) 기술의 미래 발전 방향은 다음과 같은 주요 트렌드를 중심으로 전개될 것으로 예상된다:\\n\\n### 모델 규모와 성능 확장\\n- 파라미터 수의 지속적인 증가\\n- 더욱 정교한 학습 알고리즘 개발\\n- 계산 효율성 및 에너지 소비 최적화\\n\\n### 다중 모달 통합\\n- 텍스트, 이미지, 음성, 비디오 등 다양한 데이터 유형 통합\\n- 크로스 모달 학습 및 추론 능력 강화\\n- 보다 복합적이고 맥락 인식적인 AI 시스템 구현\\n\\n### 윤리적 AI 및 편향성 감소\\n- 알고리즘 공정성 개선\\n- 편향된 학습 데이터 문제 해결\\n- 투명성과 설명 가능성 증대\\n\\n### 특화된 도메인 모델\\n- 의료, 법률, 과학 등 특정 분야 전문 LLM 개발\\n- 고도의 전문성과 정확성을 갖춘 AI 솔루션 제공\\n\\n### 상호작용성 및 개인화\\n- 사용자 맥락에 더욱 민감한 대화형 인터페이스\\n- 개인화된 학습 및 적응 능력 향상\\n- 실시간 피드백 및 상호작용 메커니즘 개선\\n\\n이러한 트렌드는 LLM 기술의 지속적인 혁신과 사회적 영향력 확대를 예고하고 있다.'],\n",
       " 'final_report': '## 소개\\n\\n대규모 언어 모델(Large Language Models, LLM)의 발전은 인공지능 분야에서 혁명적인 변화를 가져왔다. 이러한 모델의 성능은 모델 크기, 학습 데이터, 컴퓨팅 파워와 밀접한 관련이 있으며, 스케일링 법칙는 이러한 관계를 이해하는 핵심 개념이다.\\n\\n스케일링 법칙은 모델의 크기(매개변수 수)와 성능 사이의 상관관계를 설명한다. 주요 관찰 결과는 다음과 같다:\\n\\n1. **매개변수 규모**: 모델의 매개변수 수가 증가함에 따라 성능이 지수적으로 향상된다.\\n2. **데이터 의존성**: 더 큰 모델은 더 많은 학습 데이터를 필요로 하며, 데이터 품질과 다양성이 중요하다.\\n3. **컴퓨팅 요구사항**: 모델 크기 증가에 따라 계산 복잡성과 학습 비용도 증가한다.\\n\\n이러한 스케일링 법칙의 이해는 AI 연구자들에게 중요한 통찰을 제공하며, 미래 언어 모델의 성능 예측과 개발 방향을 제시한다. 본 연구에서는 이러한 스케일링 법칙의 기본 개념과 그 중요성을 심층적으로 탐구한다.\\n\\n---\\n\\n## 스케일링 법칙의 기본 원리\\n\\n스케일링 법칙은 인공지능 모델의 성능 향상을 위한 핵심 메커니즘으로, 세 가지 주요 변수의 상호작용을 분석한다:\\n\\n### 모델 크기 (파라미터 수)\\n- 모델의 파라미터 수가 증가함에 따라 성능이 개선되는 경향\\n- 대규모 언어 모델에서 파라미터 스케일링의 중요성\\n- 모델 복잡성과 학습 능력 간의 상관관계\\n\\n### 데이터 양\\n- 학습 데이터의 규모가 모델 성능에 미치는 영향\\n- 데이터 다양성과 품질의 중요성\\n- 데이터 스케일링을 통한 일반화 능력 향상\\n\\n### 계산 능력\\n- 컴퓨팅 리소스의 확장이 모델 학습에 미치는 영향\\n- 병렬 처리 및 분산 학습 기술\\n- 계산 효율성과 모델 성능 간의 균형\\n\\n### 스케일링 법칙의 주요 관찰\\n- 로그-선형적 성능 개선 패턴\\n- 모델 크기, 데이터 양, 계산 능력 간의 상호 의존성\\n- 리소스 투자 대비 성능 향상의 수익성 분석\\n\\n### 한계 및 도전 과제\\n- 무제한 스케일링의 기술적, 경제적 제약\\n- 모델 복잡성 증가에 따른 과적합 위험\\n- 에너지 소비 및 환경적 고려사항\\n\\n---\\n\\n## 주요 연구 및 발견\\n\\n최근 OpenAI와 DeepMind를 중심으로 대규모 언어 모델(LLM)의 스케일링 법칙에 대한 중요한 연구 결과들이 발표되었다.\\n\\n### OpenAI의 스케일링 연구\\n\\nOpenAI의 연구팀은 모델 크기, 학습 데이터, 컴퓨팅 성능 간의 상관관계를 분석하여 다음과 같은 주요 발견을 제시했다:\\n\\n- 모델 크기가 증가함에 따라 성능이 로그 선형적으로 개선됨\\n- 학습 데이터의 양과 질이 모델 성능에 결정적 영향을 미침\\n- 컴퓨팅 파워 증가가 모델 성능 향상의 핵심 요인\\n\\n### DeepMind의 스케일링 인사이트\\n\\nDeepMind 연구팀은 다음과 같은 중요한 관찰 결과를 도출했다:\\n\\n- 모델 크기 증가에 따른 성능 향상의 한계점 존재\\n- 다양성과 고품질 데이터셋의 중요성\\n- 모델 아키텍처 최적화의 필요성\\n\\n### 주요 시사점\\n\\n- 지속적인 모델 스케일링은 성능 개선에 유효한 전략\\n- 단순한 크기 확장보다는 데이터와 아키텍처 최적화가 중요\\n- 계산 효율성과 성능 사이의 균형 필요\\n\\n---\\n\\n## 성능 예측 및 한계\\n\\n### 스케일링 법칙 분석\\n\\n대규모 언어 모델의 성능 예측을 위해 다음과 같은 주요 스케일링 법칙을 고려할 수 있다:\\n\\n- 모델 크기 증가에 따른 성능 향상 추세\\n- 학습 데이터 규모와 성능 간의 상관관계\\n- 계산 리소스 확장에 따른 성능 변화\\n\\n### 기술적 한계\\n\\n현재 대규모 언어 모델의 주요 한계점:\\n\\n1. **계산 리소스 제약**\\n   - 극도로 큰 모델의 학습 및 추론에 필요한 막대한 컴퓨팅 파워\\n   - 에너지 소비 및 환경적 영향\\n\\n2. **데이터 품질 및 편향**\\n   - 학습 데이터의 편향성\\n   - 희소한 고품질 데이터의 한계\\n\\n3. **성능 포화 현상**\\n   - 모델 크기 증가에 따른 성능 향상의 점진적 감소\\n   - 한계 효용 체감 현상\\n\\n### 미래 전망\\n\\n- 보다 효율적인 모델 아키텍처 개발\\n- 계산 효율성 개선 연구\\n- 데이터 큐레이션 및 편향 감소 기술 발전\\n\\n---\\n\\n## 미래 전망\\n\\nLLM(대규모 언어 모델) 기술의 미래 발전 방향은 다음과 같은 주요 트렌드를 중심으로 전개될 것으로 예상된다:\\n\\n### 모델 규모와 성능 확장\\n- 파라미터 수의 지속적인 증가\\n- 더욱 정교한 학습 알고리즘 개발\\n- 계산 효율성 및 에너지 소비 최적화\\n\\n### 다중 모달 통합\\n- 텍스트, 이미지, 음성, 비디오 등 다양한 데이터 유형 통합\\n- 크로스 모달 학습 및 추론 능력 강화\\n- 보다 복합적이고 맥락 인식적인 AI 시스템 구현\\n\\n### 윤리적 AI 및 편향성 감소\\n- 알고리즘 공정성 개선\\n- 편향된 학습 데이터 문제 해결\\n- 투명성과 설명 가능성 증대\\n\\n### 특화된 도메인 모델\\n- 의료, 법률, 과학 등 특정 분야 전문 LLM 개발\\n- 고도의 전문성과 정확성을 갖춘 AI 솔루션 제공\\n\\n### 상호작용성 및 개인화\\n- 사용자 맥락에 더욱 민감한 대화형 인터페이스\\n- 개인화된 학습 및 적응 능력 향상\\n- 실시간 피드백 및 상호작용 메커니즘 개선\\n\\n이러한 트렌드는 LLM 기술의 지속적인 혁신과 사회적 영향력 확대를 예고하고 있다.'}"
      ]
     },
     "execution_count": 15,
     "metadata": {},
     "output_type": "execute_result"
    }
   ],
   "source": [
    "state"
   ]
  },
  {
   "cell_type": "markdown",
   "metadata": {},
   "source": [
    "### State 값 흐름에 따라 출력"
   ]
  },
  {
   "cell_type": "code",
   "execution_count": 16,
   "metadata": {},
   "outputs": [
    {
     "data": {
      "text/markdown": [
       "## 소개\n",
       "\n",
       "대규모 언어 모델(Large Language Models, LLM)의 발전은 인공지능 분야에서 혁명적인 변화를 가져왔다. 이러한 모델의 성능은 모델 크기, 학습 데이터, 컴퓨팅 파워와 밀접한 관련이 있으며, 스케일링 법칙는 이러한 관계를 이해하는 핵심 개념이다.\n",
       "\n",
       "스케일링 법칙은 모델의 크기(매개변수 수)와 성능 사이의 상관관계를 설명한다. 주요 관찰 결과는 다음과 같다:\n",
       "\n",
       "1. **매개변수 규모**: 모델의 매개변수 수가 증가함에 따라 성능이 지수적으로 향상된다.\n",
       "2. **데이터 의존성**: 더 큰 모델은 더 많은 학습 데이터를 필요로 하며, 데이터 품질과 다양성이 중요하다.\n",
       "3. **컴퓨팅 요구사항**: 모델 크기 증가에 따라 계산 복잡성과 학습 비용도 증가한다.\n",
       "\n",
       "이러한 스케일링 법칙의 이해는 AI 연구자들에게 중요한 통찰을 제공하며, 미래 언어 모델의 성능 예측과 개발 방향을 제시한다. 본 연구에서는 이러한 스케일링 법칙의 기본 개념과 그 중요성을 심층적으로 탐구한다.\n",
       "\n",
       "---\n",
       "\n",
       "## 스케일링 법칙의 기본 원리\n",
       "\n",
       "스케일링 법칙은 인공지능 모델의 성능 향상을 위한 핵심 메커니즘으로, 세 가지 주요 변수의 상호작용을 분석한다:\n",
       "\n",
       "### 모델 크기 (파라미터 수)\n",
       "- 모델의 파라미터 수가 증가함에 따라 성능이 개선되는 경향\n",
       "- 대규모 언어 모델에서 파라미터 스케일링의 중요성\n",
       "- 모델 복잡성과 학습 능력 간의 상관관계\n",
       "\n",
       "### 데이터 양\n",
       "- 학습 데이터의 규모가 모델 성능에 미치는 영향\n",
       "- 데이터 다양성과 품질의 중요성\n",
       "- 데이터 스케일링을 통한 일반화 능력 향상\n",
       "\n",
       "### 계산 능력\n",
       "- 컴퓨팅 리소스의 확장이 모델 학습에 미치는 영향\n",
       "- 병렬 처리 및 분산 학습 기술\n",
       "- 계산 효율성과 모델 성능 간의 균형\n",
       "\n",
       "### 스케일링 법칙의 주요 관찰\n",
       "- 로그-선형적 성능 개선 패턴\n",
       "- 모델 크기, 데이터 양, 계산 능력 간의 상호 의존성\n",
       "- 리소스 투자 대비 성능 향상의 수익성 분석\n",
       "\n",
       "### 한계 및 도전 과제\n",
       "- 무제한 스케일링의 기술적, 경제적 제약\n",
       "- 모델 복잡성 증가에 따른 과적합 위험\n",
       "- 에너지 소비 및 환경적 고려사항\n",
       "\n",
       "---\n",
       "\n",
       "## 주요 연구 및 발견\n",
       "\n",
       "최근 OpenAI와 DeepMind를 중심으로 대규모 언어 모델(LLM)의 스케일링 법칙에 대한 중요한 연구 결과들이 발표되었다.\n",
       "\n",
       "### OpenAI의 스케일링 연구\n",
       "\n",
       "OpenAI의 연구팀은 모델 크기, 학습 데이터, 컴퓨팅 성능 간의 상관관계를 분석하여 다음과 같은 주요 발견을 제시했다:\n",
       "\n",
       "- 모델 크기가 증가함에 따라 성능이 로그 선형적으로 개선됨\n",
       "- 학습 데이터의 양과 질이 모델 성능에 결정적 영향을 미침\n",
       "- 컴퓨팅 파워 증가가 모델 성능 향상의 핵심 요인\n",
       "\n",
       "### DeepMind의 스케일링 인사이트\n",
       "\n",
       "DeepMind 연구팀은 다음과 같은 중요한 관찰 결과를 도출했다:\n",
       "\n",
       "- 모델 크기 증가에 따른 성능 향상의 한계점 존재\n",
       "- 다양성과 고품질 데이터셋의 중요성\n",
       "- 모델 아키텍처 최적화의 필요성\n",
       "\n",
       "### 주요 시사점\n",
       "\n",
       "- 지속적인 모델 스케일링은 성능 개선에 유효한 전략\n",
       "- 단순한 크기 확장보다는 데이터와 아키텍처 최적화가 중요\n",
       "- 계산 효율성과 성능 사이의 균형 필요\n",
       "\n",
       "---\n",
       "\n",
       "## 성능 예측 및 한계\n",
       "\n",
       "### 스케일링 법칙 분석\n",
       "\n",
       "대규모 언어 모델의 성능 예측을 위해 다음과 같은 주요 스케일링 법칙을 고려할 수 있다:\n",
       "\n",
       "- 모델 크기 증가에 따른 성능 향상 추세\n",
       "- 학습 데이터 규모와 성능 간의 상관관계\n",
       "- 계산 리소스 확장에 따른 성능 변화\n",
       "\n",
       "### 기술적 한계\n",
       "\n",
       "현재 대규모 언어 모델의 주요 한계점:\n",
       "\n",
       "1. **계산 리소스 제약**\n",
       "   - 극도로 큰 모델의 학습 및 추론에 필요한 막대한 컴퓨팅 파워\n",
       "   - 에너지 소비 및 환경적 영향\n",
       "\n",
       "2. **데이터 품질 및 편향**\n",
       "   - 학습 데이터의 편향성\n",
       "   - 희소한 고품질 데이터의 한계\n",
       "\n",
       "3. **성능 포화 현상**\n",
       "   - 모델 크기 증가에 따른 성능 향상의 점진적 감소\n",
       "   - 한계 효용 체감 현상\n",
       "\n",
       "### 미래 전망\n",
       "\n",
       "- 보다 효율적인 모델 아키텍처 개발\n",
       "- 계산 효율성 개선 연구\n",
       "- 데이터 큐레이션 및 편향 감소 기술 발전\n",
       "\n",
       "---\n",
       "\n",
       "## 미래 전망\n",
       "\n",
       "LLM(대규모 언어 모델) 기술의 미래 발전 방향은 다음과 같은 주요 트렌드를 중심으로 전개될 것으로 예상된다:\n",
       "\n",
       "### 모델 규모와 성능 확장\n",
       "- 파라미터 수의 지속적인 증가\n",
       "- 더욱 정교한 학습 알고리즘 개발\n",
       "- 계산 효율성 및 에너지 소비 최적화\n",
       "\n",
       "### 다중 모달 통합\n",
       "- 텍스트, 이미지, 음성, 비디오 등 다양한 데이터 유형 통합\n",
       "- 크로스 모달 학습 및 추론 능력 강화\n",
       "- 보다 복합적이고 맥락 인식적인 AI 시스템 구현\n",
       "\n",
       "### 윤리적 AI 및 편향성 감소\n",
       "- 알고리즘 공정성 개선\n",
       "- 편향된 학습 데이터 문제 해결\n",
       "- 투명성과 설명 가능성 증대\n",
       "\n",
       "### 특화된 도메인 모델\n",
       "- 의료, 법률, 과학 등 특정 분야 전문 LLM 개발\n",
       "- 고도의 전문성과 정확성을 갖춘 AI 솔루션 제공\n",
       "\n",
       "### 상호작용성 및 개인화\n",
       "- 사용자 맥락에 더욱 민감한 대화형 인터페이스\n",
       "- 개인화된 학습 및 적응 능력 향상\n",
       "- 실시간 피드백 및 상호작용 메커니즘 개선\n",
       "\n",
       "이러한 트렌드는 LLM 기술의 지속적인 혁신과 사회적 영향력 확대를 예고하고 있다."
      ],
      "text/plain": [
       "<IPython.core.display.Markdown object>"
      ]
     },
     "execution_count": 16,
     "metadata": {},
     "output_type": "execute_result"
    }
   ],
   "source": [
    "from IPython.display import Markdown\n",
    "Markdown(state[\"final_report\"])"
   ]
  },
  {
   "cell_type": "markdown",
   "metadata": {},
   "source": [
    "## 7. Langfuse Tracing Output\n",
    "![orchestrator-worker.png](img/orchestrator-worker.png)"
   ]
  },
  {
   "cell_type": "code",
   "execution_count": null,
   "metadata": {},
   "outputs": [],
   "source": []
  }
 ],
 "metadata": {
  "kernelspec": {
   "display_name": "langgraph",
   "language": "python",
   "name": "python3"
  },
  "language_info": {
   "codemirror_mode": {
    "name": "ipython",
    "version": 3
   },
   "file_extension": ".py",
   "mimetype": "text/x-python",
   "name": "python",
   "nbconvert_exporter": "python",
   "pygments_lexer": "ipython3",
   "version": "3.10.14"
  }
 },
 "nbformat": 4,
 "nbformat_minor": 2
}
