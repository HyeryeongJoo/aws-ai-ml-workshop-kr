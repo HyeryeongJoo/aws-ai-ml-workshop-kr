{
 "cells": [
  {
   "cell_type": "markdown",
   "metadata": {},
   "source": [
    "# Prompt Chaining: Amazon Bedrock 시작하기\n",
    "\n",
    "이 노트북은 Amazonb Bedrock 의 LLM 을 사용하는 방법을 \n",
    "가이드하는 노트북 입니다.\n",
    "\n",
    "구체적으로 LangGraph 로 Prompt Chaining 하는 방법을 배웁니다.\n",
    "\n",
    "### 참조\n",
    "- [LangGraph: Workflows and Agents](https://langchain-ai.github.io/langgraph/tutorials/workflows/#prompt-chaining)\n",
    "- What is chat messages, chat model, binding tools? --> [Build a simple graph with nodes, normal edges, and conditional edges.](https://github.com/langchain-ai/langchain-academy/blob/main/module-1/chain.ipynb)\n",
    "\n",
    "\n",
    "\n",
    "\n",
    "---"
   ]
  },
  {
   "cell_type": "markdown",
   "metadata": {},
   "source": [
    "## 1. 선수 사항: \n",
    "### 1.1  콘다 가상 환경 생성\n",
    "- 아래의 설치 가이드에 따라 먼저 진행 해주세요.\n",
    "    - [환경 설치 가이드: ](https://github.com/aws-samples/aws-ai-ml-workshop-kr/tree/master/genai/aws-gen-ai-kr/20_applications/19_agentic_rag)\n"
   ]
  },
  {
   "cell_type": "markdown",
   "metadata": {},
   "source": [
    "## 2. 환경 설정"
   ]
  },
  {
   "cell_type": "code",
   "execution_count": 1,
   "metadata": {},
   "outputs": [
    {
     "name": "stdout",
     "output_type": "stream",
     "text": [
      "python path: /home/sagemaker-user/aws-ai-ml-workshop-kr/genai/aws-gen-ai-kr/20_applications/19_agentic_rag/05_start_agentic_workflow_langgraph_bedrock_langfuse is added\n",
      "sys.path:  ['/home/sagemaker-user/.conda/envs/agent-workflow/lib/python310.zip', '/home/sagemaker-user/.conda/envs/agent-workflow/lib/python3.10', '/home/sagemaker-user/.conda/envs/agent-workflow/lib/python3.10/lib-dynload', '', '/home/sagemaker-user/.conda/envs/agent-workflow/lib/python3.10/site-packages', '/home/sagemaker-user/aws-ai-ml-workshop-kr/genai/aws-gen-ai-kr/20_applications/19_agentic_rag/05_start_agentic_workflow_langgraph_bedrock_langfuse']\n"
     ]
    }
   ],
   "source": [
    "%load_ext autoreload\n",
    "%autoreload 2\n",
    "\n",
    "import sys, os\n",
    "\n",
    "def add_python_path(module_path):\n",
    "    if os.path.abspath(module_path) not in sys.path:\n",
    "        sys.path.append(os.path.abspath(module_path))\n",
    "        print(f\"python path: {os.path.abspath(module_path)} is added\")\n",
    "    else:\n",
    "        print(f\"python path: {os.path.abspath(module_path)} already exists\")\n",
    "    print(\"sys.path: \", sys.path)\n",
    "\n",
    "\n",
    "module_path = \"..\"\n",
    "add_python_path(module_path)\n",
    "\n",
    "from utils.langgraph_util import ( \n",
    "    show_graph_dag,\n",
    ")"
   ]
  },
  {
   "cell_type": "markdown",
   "metadata": {},
   "source": [
    "## 4. LangChain 인터페이스의 Bedrock 모델 생성\n",
    "- LangChain 개발자 가이드: [ChatBedrock](https://python.langchain.com/docs/integrations/chat/bedrock/)\n",
    "\n",
    "]"
   ]
  },
  {
   "cell_type": "code",
   "execution_count": 2,
   "metadata": {},
   "outputs": [
    {
     "data": {
      "text/plain": [
       "ChatBedrockConverse(client=<botocore.client.BedrockRuntime object at 0x7f6068237250>, model_id='us.amazon.nova-pro-v1:0', temperature=0.0, region_name='us-east-1', provider='amazon', supports_tool_choice_values=['auto'])"
      ]
     },
     "execution_count": 2,
     "metadata": {},
     "output_type": "execute_result"
    }
   ],
   "source": [
    "from langchain_aws import ChatBedrockConverse\n",
    "\n",
    "# model_id = \"us.anthropic.claude-3-7-sonnet-20250219-v1:0\"\n",
    "model_id = \"us.amazon.nova-pro-v1:0\"\n",
    "\n",
    "llm = ChatBedrockConverse(\n",
    "    model= model_id,\n",
    "    temperature=0,\n",
    "    max_tokens=None,\n",
    "    # other params...\n",
    ")\n",
    "\n",
    "llm"
   ]
  },
  {
   "cell_type": "markdown",
   "metadata": {},
   "source": [
    "## 5. Grpah 정의 하기"
   ]
  },
  {
   "cell_type": "markdown",
   "metadata": {},
   "source": [
    "### State 정의"
   ]
  },
  {
   "cell_type": "code",
   "execution_count": 3,
   "metadata": {},
   "outputs": [],
   "source": [
    "from typing_extensions import TypedDict\n",
    "from langgraph.graph import StateGraph, START, END\n",
    "from IPython.display import Image, display\n",
    "\n",
    "\n",
    "# Graph state\n",
    "class State(TypedDict):\n",
    "    topic: str\n",
    "    joke: str\n",
    "    improved_joke: str\n",
    "    final_joke: str"
   ]
  },
  {
   "cell_type": "markdown",
   "metadata": {},
   "source": [
    "### Node 및 분기  함수 정의"
   ]
  },
  {
   "cell_type": "code",
   "execution_count": 4,
   "metadata": {},
   "outputs": [],
   "source": [
    "# Node: 첫번째 농담 생성 \n",
    "def generate_joke(state: State):\n",
    "    \"\"\"First LLM call to generate initial joke\"\"\"\n",
    "\n",
    "    msg = llm.invoke(f\"Write a short joke about {state['topic']} in Korean\")\n",
    "    return {\"joke\": msg.content}"
   ]
  },
  {
   "cell_type": "code",
   "execution_count": 5,
   "metadata": {},
   "outputs": [],
   "source": [
    "# 분기문: 농담의 결정적 부분이 있는지 확인. ! , ? 의 유무로 판단\n",
    "def check_punchline(state: State):\n",
    "    \"\"\"Gate function to check if the joke has a punchline\"\"\"\n",
    "\n",
    "    # Simple check - does the joke contain \"?\" or \"!\"\n",
    "    if \"?\" in state[\"joke\"] or \"!\" in state[\"joke\"]:\n",
    "        return \"Fail\"\n",
    "    return \"Pass\""
   ]
  },
  {
   "cell_type": "code",
   "execution_count": 6,
   "metadata": {},
   "outputs": [],
   "source": [
    "# Node: 특정 단어를 제공하여, 조금 더 농담을 재미있게 생성\n",
    "def improve_joke(state: State):\n",
    "    \"\"\"Second LLM call to improve the joke\"\"\"\n",
    "\n",
    "    msg = llm.invoke(f\"Make this joke funnier by adding wordplay in Korean: {state['joke']}\")\n",
    "    return {\"improved_joke\": msg.content}"
   ]
  },
  {
   "cell_type": "code",
   "execution_count": 7,
   "metadata": {},
   "outputs": [],
   "source": [
    "# Node: 제공 받은 농담을 한번더 \"놀라운 반전\" 을 생성 합니다.\n",
    "def polish_joke(state: State):\n",
    "    \"\"\"Third LLM call for final polish\"\"\"\n",
    "\n",
    "    msg = llm.invoke(f\"Add a surprising twist to this joke: {state['improved_joke']} in Korean\")\n",
    "    return {\"final_joke\": msg.content}"
   ]
  },
  {
   "cell_type": "markdown",
   "metadata": {},
   "source": [
    "### 그래프 구조 만들기"
   ]
  },
  {
   "cell_type": "code",
   "execution_count": 8,
   "metadata": {},
   "outputs": [
    {
     "data": {
      "image/png": "[encoded data removed]",
      "text/plain": [
       "<IPython.core.display.Image object>"
      ]
     },
     "metadata": {},
     "output_type": "display_data"
    }
   ],
   "source": [
    "# Build workflow\n",
    "workflow = StateGraph(State)\n",
    "\n",
    "# Add nodes\n",
    "workflow.add_node(\"generate_joke\", generate_joke)\n",
    "workflow.add_node(\"improve_joke\", improve_joke)\n",
    "workflow.add_node(\"polish_joke\", polish_joke)\n",
    "\n",
    "# Add edges to connect nodes\n",
    "workflow.add_edge(START, \"generate_joke\")\n",
    "workflow.add_conditional_edges(\n",
    "    \"generate_joke\", check_punchline, {\"Fail\": \"improve_joke\", \"Pass\": END}\n",
    ")\n",
    "workflow.add_edge(\"improve_joke\", \"polish_joke\")\n",
    "workflow.add_edge(\"polish_joke\", END)\n",
    "\n",
    "# Compile\n",
    "chain = workflow.compile()\n",
    "\n",
    "# Show workflow\n",
    "display(Image(chain.get_graph().draw_mermaid_png()))"
   ]
  },
  {
   "cell_type": "markdown",
   "metadata": {},
   "source": [
    "### Graph 호출"
   ]
  },
  {
   "cell_type": "code",
   "execution_count": 9,
   "metadata": {},
   "outputs": [],
   "source": [
    "# Invoke\n",
    "state = chain.invoke({\"topic\": \"고양이\"},\n",
    ")"
   ]
  },
  {
   "cell_type": "markdown",
   "metadata": {},
   "source": [
    "### 최종 State 값 보기\n",
    "- 각 Node 에서 State Class 의 변수에 값을 할당함."
   ]
  },
  {
   "cell_type": "code",
   "execution_count": 10,
   "metadata": {},
   "outputs": [
    {
     "data": {
      "text/plain": [
       "{'topic': '고양이',\n",
       " 'joke': '물론입니다! 여기 고양이에 관한 짧은 농담이 있습니다:\\n\\n---\\n\\n고양이가 컴퓨터 앞에 앉아 있더니 갑자기 큰 소리로 \"냐옹!\" 하고 쳤습니다. \\n\\n왜냐하면 고양이는 세상에서 가장 작은 유머리스트이기 때문입니다. 😆\\n\\n---\\n\\n웃음이 되셨길 바랍니다!',\n",
       " 'improved_joke': '물론입니다! 여기 고양이에 관한 짧은 농담에 한국어 언어 유희를 추가한 버전이 있습니다:\\n\\n---\\n\\n고양이가 컴퓨터 앞에 앉아 있더니 갑자기 큰 소리로 \"냐옹!\" 하고 쳤습니다. \\n\\n왜냐하면 고양이는 세상에서 가장 작은 유머리스트이기 때문입니다. 😆\\n\\n그리고 그 고양이는 자기가 완전 \"키보드 캣(Keyboard Cat)\"이라고 생각합니다. 왜냐하면 키보드를 누를 때마다 \"냐옹냐옹, 재미있잖아!\" 하는 거죠. 그래서 고양이는 항상 \"마우스도 잘 잡아!\" 라고 스스로에게 격려합니다. 왜냐하면 고양이는 진짜 \"유머스 타이핑(Humorous Typing)\"의 달인이기 때문이죠! 🤣\\n\\n웃음이 되셨길 바랍니다!',\n",
       " 'final_joke': '물론입니다! 여기 고양이에 관한 짧은 농담에 한국어 언어 유희와 놀라운 반전을 추가한 버전이 있습니다:\\n\\n---\\n\\n고양이가 컴퓨터 앞에 앉아 있더니 갑자기 큰 소리로 \"냐옹!\" 하고 쳤습니다. \\n\\n왜냐하면 고양이는 세상에서 가장 작은 유머리스트이기 때문입니다. 😆\\n\\n그리고 그 고양이는 자기가 완전 \"키보드 캣(Keyboard Cat)\"이라고 생각합니다. 왜냐하면 키보드를 누를 때마다 \"냐옹냐옹, 재미있잖아!\" 하는 거죠. 그래서 고양이는 항상 \"마우스도 잘 잡아!\" 라고 스스로에게 격려합니다. 왜냐하면 고양이는 진짜 \"유머스 타이핑(Humorous Typing)\"의 달인이기 때문이죠! 🤣\\n\\n그런데 놀랍게도, 고양이가 컴퓨터를 계속 치다가 갑자기 화면에 나타난 것은 다름 아닌 자기 주인의 얼굴이었습니다. 주인은 고양이가 컴퓨터를 친다는 소식을 듣고 놀라서 뛰어왔던 것입니다. 그리고 고양이는 주인의 얼굴을 보고 깜짝 놀랐지만, 다시 한번 키보드를 쳤습니다.\\n\\n\"냐옹! 이건 정말 최고의 유머였어!\" \\n\\n왜냐하면 고양이는 세상에서 가장 작은 유머리스트일 뿐만 아니라, 가장 놀라운 반전을 만드는 장인이기도 했던 것입니다! 😆🤣\\n\\n웃음이 되셨길 바랍니다!'}"
      ]
     },
     "execution_count": 10,
     "metadata": {},
     "output_type": "execute_result"
    }
   ],
   "source": [
    "state"
   ]
  },
  {
   "cell_type": "markdown",
   "metadata": {},
   "source": [
    "### State 값 흐름에 따라 출력"
   ]
  },
  {
   "cell_type": "code",
   "execution_count": 11,
   "metadata": {},
   "outputs": [
    {
     "name": "stdout",
     "output_type": "stream",
     "text": [
      "Initial joke:\n",
      "물론입니다! 여기 고양이에 관한 짧은 농담이 있습니다:\n",
      "\n",
      "---\n",
      "\n",
      "고양이가 컴퓨터 앞에 앉아 있더니 갑자기 큰 소리로 \"냐옹!\" 하고 쳤습니다. \n",
      "\n",
      "왜냐하면 고양이는 세상에서 가장 작은 유머리스트이기 때문입니다. 😆\n",
      "\n",
      "---\n",
      "\n",
      "웃음이 되셨길 바랍니다!\n",
      "\n",
      "--- --- ---\n",
      "\n",
      "Improved joke:\n",
      "물론입니다! 여기 고양이에 관한 짧은 농담에 한국어 언어 유희를 추가한 버전이 있습니다:\n",
      "\n",
      "---\n",
      "\n",
      "고양이가 컴퓨터 앞에 앉아 있더니 갑자기 큰 소리로 \"냐옹!\" 하고 쳤습니다. \n",
      "\n",
      "왜냐하면 고양이는 세상에서 가장 작은 유머리스트이기 때문입니다. 😆\n",
      "\n",
      "그리고 그 고양이는 자기가 완전 \"키보드 캣(Keyboard Cat)\"이라고 생각합니다. 왜냐하면 키보드를 누를 때마다 \"냐옹냐옹, 재미있잖아!\" 하는 거죠. 그래서 고양이는 항상 \"마우스도 잘 잡아!\" 라고 스스로에게 격려합니다. 왜냐하면 고양이는 진짜 \"유머스 타이핑(Humorous Typing)\"의 달인이기 때문이죠! 🤣\n",
      "\n",
      "웃음이 되셨길 바랍니다!\n",
      "\n",
      "--- --- ---\n",
      "\n",
      "Final joke:\n",
      "물론입니다! 여기 고양이에 관한 짧은 농담에 한국어 언어 유희와 놀라운 반전을 추가한 버전이 있습니다:\n",
      "\n",
      "---\n",
      "\n",
      "고양이가 컴퓨터 앞에 앉아 있더니 갑자기 큰 소리로 \"냐옹!\" 하고 쳤습니다. \n",
      "\n",
      "왜냐하면 고양이는 세상에서 가장 작은 유머리스트이기 때문입니다. 😆\n",
      "\n",
      "그리고 그 고양이는 자기가 완전 \"키보드 캣(Keyboard Cat)\"이라고 생각합니다. 왜냐하면 키보드를 누를 때마다 \"냐옹냐옹, 재미있잖아!\" 하는 거죠. 그래서 고양이는 항상 \"마우스도 잘 잡아!\" 라고 스스로에게 격려합니다. 왜냐하면 고양이는 진짜 \"유머스 타이핑(Humorous Typing)\"의 달인이기 때문이죠! 🤣\n",
      "\n",
      "그런데 놀랍게도, 고양이가 컴퓨터를 계속 치다가 갑자기 화면에 나타난 것은 다름 아닌 자기 주인의 얼굴이었습니다. 주인은 고양이가 컴퓨터를 친다는 소식을 듣고 놀라서 뛰어왔던 것입니다. 그리고 고양이는 주인의 얼굴을 보고 깜짝 놀랐지만, 다시 한번 키보드를 쳤습니다.\n",
      "\n",
      "\"냐옹! 이건 정말 최고의 유머였어!\" \n",
      "\n",
      "왜냐하면 고양이는 세상에서 가장 작은 유머리스트일 뿐만 아니라, 가장 놀라운 반전을 만드는 장인이기도 했던 것입니다! 😆🤣\n",
      "\n",
      "웃음이 되셨길 바랍니다!\n"
     ]
    }
   ],
   "source": [
    "\n",
    "print(\"Initial joke:\")\n",
    "print(state[\"joke\"])\n",
    "print(\"\\n--- --- ---\\n\")\n",
    "if \"improved_joke\" in state:\n",
    "    print(\"Improved joke:\")\n",
    "    print(state[\"improved_joke\"])\n",
    "    print(\"\\n--- --- ---\\n\")\n",
    "\n",
    "    print(\"Final joke:\")\n",
    "    print(state[\"final_joke\"])\n",
    "else:\n",
    "    print(\"Joke failed quality gate - no punchline detected!\")"
   ]
  },
  {
   "cell_type": "code",
   "execution_count": null,
   "metadata": {},
   "outputs": [],
   "source": []
  }
 ],
 "metadata": {
  "kernelspec": {
   "display_name": "agent-workflow",
   "language": "python",
   "name": "agent-workflow"
  },
  "language_info": {
   "codemirror_mode": {
    "name": "ipython",
    "version": 3
   },
   "file_extension": ".py",
   "mimetype": "text/x-python",
   "name": "python",
   "nbconvert_exporter": "python",
   "pygments_lexer": "ipython3",
   "version": "3.10.14"
  }
 },
 "nbformat": 4,
 "nbformat_minor": 4
}
