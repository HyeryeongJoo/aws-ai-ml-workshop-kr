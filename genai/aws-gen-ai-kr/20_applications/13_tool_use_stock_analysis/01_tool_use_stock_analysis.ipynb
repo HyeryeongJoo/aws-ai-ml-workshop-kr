{
 "cells": [
  {
   "cell_type": "markdown",
   "metadata": {},
   "source": [
    "# 프롬프트 엔지니어링과 Tool Use를 활용한 미국 주식 분석 서비스 (Basic)\n",
    "이 서비스의 핵심은 Alpha Vantage API와 Claude 3 Sonnet 모델을 결합하여 사용자에게 실용적이고 이해하기 쉬운 주식 분석 정보를 제공하는 것입니다.\n",
    "\n",
    "작동 방식은 다음과 같습니다:\n",
    "1. 사용자가 관심 있는 주식의 티커 심볼을 입력합니다.\n",
    "2. 시스템은 Alpha Vantage API를 통해 해당 주식의 최신 주요 데이터를 가져옵니다. 이 데이터에는 전일 종가, 변동률, 당일 거래 가격 범위, 시가, 그리고 거래량 등이 포함됩니다.\n",
    "3. 수집된 데이터는 Claude 3 Sonnet 모델에 전달됩니다. 이 AI 모델은 데이터를 분석하고 해석하여 의미 있는 인사이트를 도출합니다.\n",
    "4. 마지막으로, Claude가 생성한 분석 결과를 사용자가 쉽게 이해할 수 있는 자연어 형태로 제공합니다.\n",
    "\n",
    "이 서비스의 장점은 다음과 같습니다:\n",
    "1. 최신 데이터: 최신 시장 정보를 바탕으로 분석이 이루어집니다.\n",
    "2. AI 기반 분석: 단순한 데이터 나열이 아닌, 의미 있는 해석과 인사이트를 제공합니다.\n",
    "3. 사용자 친화적: 복잡한 금융 용어 대신 이해하기 쉬운 언어로 정보를 전달합니다.\n",
    "4. 맞춤형 정보: 사용자가 관심 있는 특정 주식에 대한 분석을 제공합니다.\n"
   ]
  },
  {
   "cell_type": "markdown",
   "metadata": {},
   "source": [
    "## 1. 환경 설정"
   ]
  },
  {
   "cell_type": "code",
   "execution_count": 1,
   "metadata": {},
   "outputs": [
    {
     "name": "stdout",
     "output_type": "stream",
     "text": [
      "Python 3.10.14\n"
     ]
    }
   ],
   "source": [
    "!python -V"
   ]
  },
  {
   "cell_type": "code",
   "execution_count": 2,
   "metadata": {},
   "outputs": [
    {
     "name": "stdout",
     "output_type": "stream",
     "text": [
      "Requirement already satisfied: pandas in /opt/conda/lib/python3.10/site-packages (2.1.4)\n",
      "Requirement already satisfied: numpy in /opt/conda/lib/python3.10/site-packages (1.26.4)\n",
      "Requirement already satisfied: requests in /opt/conda/lib/python3.10/site-packages (2.31.0)\n",
      "Requirement already satisfied: lxml in /opt/conda/lib/python3.10/site-packages (4.9.4)\n",
      "Requirement already satisfied: python-dateutil>=2.8.2 in /opt/conda/lib/python3.10/site-packages (from pandas) (2.9.0)\n",
      "Requirement already satisfied: pytz>=2020.1 in /opt/conda/lib/python3.10/site-packages (from pandas) (2023.3)\n",
      "Requirement already satisfied: tzdata>=2022.1 in /opt/conda/lib/python3.10/site-packages (from pandas) (2024.1)\n",
      "Requirement already satisfied: charset-normalizer<4,>=2 in /opt/conda/lib/python3.10/site-packages (from requests) (3.3.2)\n",
      "Requirement already satisfied: idna<4,>=2.5 in /opt/conda/lib/python3.10/site-packages (from requests) (3.6)\n",
      "Requirement already satisfied: urllib3<3,>=1.21.1 in /opt/conda/lib/python3.10/site-packages (from requests) (1.26.18)\n",
      "Requirement already satisfied: certifi>=2017.4.17 in /opt/conda/lib/python3.10/site-packages (from requests) (2024.2.2)\n",
      "Requirement already satisfied: six>=1.5 in /opt/conda/lib/python3.10/site-packages (from python-dateutil>=2.8.2->pandas) (1.16.0)\n",
      "Note: you may need to restart the kernel to use updated packages.\n"
     ]
    }
   ],
   "source": [
    "# 사용하기 전에 필요한 설치:\n",
    "%pip install pandas numpy requests lxml"
   ]
  },
  {
   "cell_type": "code",
   "execution_count": 3,
   "metadata": {},
   "outputs": [
    {
     "name": "stdout",
     "output_type": "stream",
     "text": [
      "python path: /home/sagemaker-user/mygit/aws-ai-ml-workshop-kr/genai/aws-gen-ai-kr is added\n",
      "sys.path:  ['/home/sagemaker-user/mygit/aws-ai-ml-workshop-kr/genai/aws-gen-ai-kr/20_applications/13_tool_use_stock_analysis', '/opt/conda/lib/python310.zip', '/opt/conda/lib/python3.10', '/opt/conda/lib/python3.10/lib-dynload', '', '/opt/conda/lib/python3.10/site-packages', '/home/sagemaker-user/mygit/aws-ai-ml-workshop-kr/genai/aws-gen-ai-kr']\n"
     ]
    }
   ],
   "source": [
    "%load_ext autoreload\n",
    "%autoreload 2\n",
    "\n",
    "import sys, os\n",
    "\n",
    "def add_python_path(module_path):\n",
    "    if os.path.abspath(module_path) not in sys.path:\n",
    "        sys.path.append(os.path.abspath(module_path))\n",
    "        print(f\"python path: {os.path.abspath(module_path)} is added\")\n",
    "    else:\n",
    "        print(f\"python path: {os.path.abspath(module_path)} already exists\")\n",
    "    print(\"sys.path: \", sys.path)\n",
    "\n",
    "module_path = \"../..\"\n",
    "add_python_path(module_path)"
   ]
  },
  {
   "cell_type": "markdown",
   "metadata": {},
   "source": [
    "Setup AWS Bedrock and Claude Integration"
   ]
  },
  {
   "cell_type": "code",
   "execution_count": 4,
   "metadata": {},
   "outputs": [
    {
     "name": "stdout",
     "output_type": "stream",
     "text": [
      "Create new client\n",
      "  Using region: us-east-1\n",
      "  Using profile: None\n",
      "boto3 Bedrock client successfully created!\n",
      "bedrock-runtime(https://bedrock-runtime.us-east-1.amazonaws.com)\n",
      "\u001b[32m\n",
      "== FM lists ==\u001b[0m\n",
      "{'Claude-Instant-V1': 'anthropic.claude-instant-v1',\n",
      " 'Claude-V1': 'anthropic.claude-v1',\n",
      " 'Claude-V2': 'anthropic.claude-v2',\n",
      " 'Claude-V2-1': 'anthropic.claude-v2:1',\n",
      " 'Claude-V3-5-Sonnet': 'anthropic.claude-3-5-sonnet-20240620-v1:0',\n",
      " 'Claude-V3-Haiku': 'anthropic.claude-3-haiku-20240307-v1:0',\n",
      " 'Claude-V3-Opus': 'anthropic.claude-3-sonnet-20240229-v1:0',\n",
      " 'Claude-V3-Sonnet': 'anthropic.claude-3-sonnet-20240229-v1:0',\n",
      " 'Cohere-Embeddings-En': 'cohere.embed-english-v3',\n",
      " 'Cohere-Embeddings-Multilingual': 'cohere.embed-multilingual-v3',\n",
      " 'Command': 'cohere.command-text-v14',\n",
      " 'Command-Light': 'cohere.command-light-text-v14',\n",
      " 'Jurassic-2-Mid': 'ai21.j2-mid-v1',\n",
      " 'Jurassic-2-Ultra': 'ai21.j2-ultra-v1',\n",
      " 'Llama2-13b-Chat': 'meta.llama2-13b-chat-v1',\n",
      " 'Titan-Embeddings-G1': 'amazon.titan-embed-text-v1',\n",
      " 'Titan-Text-Embeddings-V2': 'amazon.titan-embed-text-v2:0',\n",
      " 'Titan-Text-G1': 'amazon.titan-text-express-v1',\n",
      " 'Titan-Text-G1-Express': 'amazon.titan-text-express-v1',\n",
      " 'Titan-Text-G1-Light': 'amazon.titan-text-lite-v1',\n",
      " 'Titan-Text-G1-Premier': 'amazon.titan-text-premier-v1:0'}\n"
     ]
    }
   ],
   "source": [
    "from pprint import pprint\n",
    "from termcolor import colored\n",
    "from utils import bedrock\n",
    "from utils.bedrock import *\n",
    "from anthropic import AnthropicBedrock\n",
    "\n",
    "# Initialize Bedrock client\n",
    "client = bedrock.get_bedrock_client(\n",
    "    assumed_role=os.environ.get(\"BEDROCK_ASSUME_ROLE\", None),\n",
    "    endpoint_url=os.environ.get(\"BEDROCK_ENDPOINT_URL\", None),\n",
    "    region=os.environ.get(\"AWS_DEFAULT_REGION\", None),\n",
    ")\n",
    "\n",
    "print (colored(\"\\n== FM lists ==\", \"green\"))\n",
    "pprint (bedrock_info.get_list_fm_models(verbose=False))\n"
   ]
  },
  {
   "cell_type": "markdown",
   "metadata": {},
   "source": [
    "## 2. Tool 정의"
   ]
  },
  {
   "cell_type": "markdown",
   "metadata": {},
   "source": [
    "Alpha Vantage를 사용해 최신 주식 데이터 가져오기\n",
    "- [사전 사항] Alpha Vantage API 발급 받기 https://www.alphavantage.co/support/#api-key\n",
    "- [참고] Alpha Vantage의 문서에 따르면, 프리티어에서 기본적으로 데이터는 \"각 거래일 종료 시점에 업데이트\" 됨"
   ]
  },
  {
   "cell_type": "code",
   "execution_count": 5,
   "metadata": {},
   "outputs": [],
   "source": [
    "import requests\n",
    "api_key = \"XXXX\"  # Alpha Vantage API 키\n",
    "\n",
    "def get_stock_data(ticker):\n",
    "    \"\"\"Alpha Vantage에서 주식 데이터를 가져오는 함수\"\"\"\n",
    "    try:\n",
    "        url = f\"https://www.alphavantage.co/query?function=GLOBAL_QUOTE&symbol={ticker}&apikey={api_key}\"\n",
    "        \n",
    "        response = requests.get(url)\n",
    "        data = response.json()\n",
    "        \n",
    "        if \"Global Quote\" not in data:\n",
    "            return {\n",
    "                'status': 'error',\n",
    "                'message': 'No data available'\n",
    "            }\n",
    "            \n",
    "        quote = data[\"Global Quote\"]\n",
    "        \n",
    "        return {\n",
    "            'status': 'success',\n",
    "            'data': {\n",
    "                'date': quote[\"07. latest trading day\"],\n",
    "                'open': float(quote[\"02. open\"]),\n",
    "                'high': float(quote[\"03. high\"]),\n",
    "                'low': float(quote[\"04. low\"]),\n",
    "                'volume': int(quote[\"06. volume\"])\n",
    "            }\n",
    "        }\n",
    "    except Exception as e:\n",
    "        return {\n",
    "            'status': 'error',\n",
    "            'message': str(e)\n",
    "        }"
   ]
  },
  {
   "cell_type": "markdown",
   "metadata": {},
   "source": [
    "## 3. Claude 호출"
   ]
  },
  {
   "cell_type": "markdown",
   "metadata": {},
   "source": [
    "(참고) Tool Use 패턴의 일반적인 흐름\n",
    "1. 도구 사용 필요성 판단 및 요청\n",
    "2. 도구 실행 결과를 바탕으로 최종 응답 생성"
   ]
  },
  {
   "cell_type": "code",
   "execution_count": 6,
   "metadata": {},
   "outputs": [],
   "source": [
    "def process_stock_request(client, ticker):\n",
    "    \"\"\"Bedrock Converse API를 사용하여 주식 데이터 처리\"\"\"\n",
    "    try:\n",
    "        # Tool 설정\n",
    "        tool_config = {\n",
    "            'tools': [{\n",
    "                'toolSpec': {\n",
    "                    # Tool의 이름, 설명, 입력 파라미터 정의\n",
    "                    'name': 'get_stock_data',\n",
    "                    'description': 'Fetches current stock data from Alpha Vantage API',\n",
    "                    'inputSchema': {\n",
    "                        'json': {\n",
    "                            'type': 'object',\n",
    "                            'properties': {\n",
    "                                'ticker': {\n",
    "                                    'type': 'string',\n",
    "                                    'description': 'Stock ticker symbol'\n",
    "                                }\n",
    "                            },\n",
    "                            'required': ['ticker']\n",
    "                        }\n",
    "                    }\n",
    "                }\n",
    "            }],\n",
    "            'toolChoice': {'auto': {}} # 자동 Tool 선택 설정 (any/auto/tool 중에 한개 입력 가능)\n",
    "        }\n",
    "\n",
    "        # System prompt\n",
    "        # AI의 역할과 응답 형식 정의\n",
    "        # 숫자 포맷팅 규칙 지정\n",
    "        # 날짜 정보 포함 요구사항 명시\n",
    "        system_prompt = [{\n",
    "         \"text\": \"\"\"You are a financial data analyst assistant. When given a stock ticker, \n",
    "            use the get_stock_data tool to fetch and analyze trading data. \n",
    "            Format your response as follows:\n",
    "            1. Trading Date\n",
    "            2. Current Price and Change Percentage\n",
    "            3. Day's Trading Range (High/Low)\n",
    "            4. Opening Price\n",
    "            5. Trading Volume (use comma formatting)\n",
    "            \n",
    "            Make the response clear and easy to read. Format numbers with appropriate decimal places \n",
    "            and use commas for thousands in volume figures.\"\"\"\n",
    "        }]\n",
    "\n",
    "        # 메시지 구성\n",
    "        messages = [{\n",
    "            'role': 'user',\n",
    "            'content': [{'text': f'Get me the current trading data for {ticker}'}]\n",
    "        }]\n",
    "\n",
    "        # 첫번째 Converse API 호출\n",
    "        # 목적: 사용자의 초기 요청을 처리하고 필요한 도구(tool) 사용을 결정\n",
    "        # 모델이 주식 데이터를 가져오기 위해 tool을 사용해야 한다고 판단하면 stopReason='tool_use'를 반환\n",
    "        response = client.converse(\n",
    "            modelId='anthropic.claude-3-sonnet-20240229-v1:0',  # 적절한 모델 ID로 변경\n",
    "            messages=messages,\n",
    "            toolConfig=tool_config,\n",
    "            inferenceConfig={\n",
    "                'temperature': 0.5, # temperature 0.5로 설정하여 일관된 응답 생성\n",
    "                'maxTokens': 500\n",
    "            }\n",
    "        )\n",
    "\n",
    "        # Tool 호출이 필요한 경우\n",
    "        if response['stopReason'] == 'tool_use':\n",
    "            tool_use = response['output']['message']['content'][0]['toolUse']\n",
    "            print(tool_use)\n",
    "            stock_data = get_stock_data(ticker)\n",
    "            print(stock_data)\n",
    "            \n",
    "            # Tool 실행 결과를 대화 컨텍스트에 추가 (메시지 체인 구성)\n",
    "            messages.append({\n",
    "                'role': 'assistant',\n",
    "                'content': [{\n",
    "                    'toolUse': tool_use\n",
    "                }]\n",
    "            })\n",
    "            messages.append({\n",
    "                'role': 'user',\n",
    "                'content': [{\n",
    "                    'toolResult': {\n",
    "                        'toolUseId': tool_use['toolUseId'],\n",
    "                        'content': [{'json': stock_data}],\n",
    "                        'status': 'success'\n",
    "                    }\n",
    "                }]\n",
    "            })\n",
    "\n",
    "            # 두번째 Converse API 호출 \n",
    "            # 목적: tool 실행 결과를 받아서 최종 응답을 생성\n",
    "            # messages 배열에 tool 실행 결과가 포함되어 있음\n",
    "            # 모델이 tool 실행 결과를 해석하고 사용자가 이해하기 쉬운 형태로 응답을 생성\n",
    "            final_response = client.converse(\n",
    "                modelId='anthropic.claude-3-sonnet-20240229-v1:0',\n",
    "                system=system_prompt,\n",
    "                messages=messages,\n",
    "                toolConfig=tool_config,\n",
    "                inferenceConfig={\n",
    "                    \"temperature\": 0.7, # temperature 0.7로 설정하여 더 자연스러운 응답 생성\n",
    "                    \"maxTokens\": 500,\n",
    "                    \"stopSequences\": []\n",
    "                }\n",
    "            )\n",
    "            \n",
    "            return final_response['output']['message']['content'][0]['text']\n",
    "        \n",
    "        return response['output']['message']['content'][0]['text']\n",
    "\n",
    "    except Exception as e:\n",
    "        return f\"Error processing request: {str(e)}\""
   ]
  },
  {
   "cell_type": "code",
   "execution_count": 7,
   "metadata": {},
   "outputs": [
    {
     "name": "stdout",
     "output_type": "stream",
     "text": [
      "{'toolUseId': 'tooluse_cQ_pxnlmRV2mmrPsct7LsQ', 'name': 'get_stock_data', 'input': {'ticker': 'AMZN'}}\n",
      "{'status': 'success', 'data': {'date': '2024-11-12', 'open': 208.37, 'high': 209.54, 'low': 206.01, 'volume': 38942918}}\n",
      "\n",
      "Result:\n",
      "1. Trading Date: 2024-11-12\n",
      "\n",
      "2. Current Price: $208.75 (+0.18%)  \n",
      "\n",
      "3. Day's Trading Range (High/Low): $209.54 / $206.01\n",
      "\n",
      "4. Opening Price: $208.37\n",
      "\n",
      "5. Trading Volume: 38,942,918\n",
      "\n",
      "The trading data for Amazon (AMZN) shows modest gains on the day with the stock currently trading at $208.75, up 0.18%. The day's price range was between $209.54 and $206.01 after opening at $208.37. Trading volume was high at 38,942,918 shares exchanged.\n",
      "--------------------------------------------------\n"
     ]
    }
   ],
   "source": [
    "ticker = input(\"Enter stock ticker (or 'quit' to exit): \").upper()\n",
    "# ticker = 'AMZN'\n",
    "result = process_stock_request(client, ticker)\n",
    "print(\"\\nResult:\")\n",
    "print(result)\n",
    "print(\"-\" * 50)"
   ]
  },
  {
   "cell_type": "code",
   "execution_count": null,
   "metadata": {},
   "outputs": [],
   "source": []
  }
 ],
 "metadata": {
  "kernelspec": {
   "display_name": "base",
   "language": "python",
   "name": "python3"
  },
  "language_info": {
   "codemirror_mode": {
    "name": "ipython",
    "version": 3
   },
   "file_extension": ".py",
   "mimetype": "text/x-python",
   "name": "python",
   "nbconvert_exporter": "python",
   "pygments_lexer": "ipython3",
   "version": "3.10.14"
  }
 },
 "nbformat": 4,
 "nbformat_minor": 2
}
