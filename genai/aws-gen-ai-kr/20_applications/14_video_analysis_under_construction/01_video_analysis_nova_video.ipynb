{
 "cells": [
  {
   "cell_type": "markdown",
   "id": "0a4eb837-ef78-4b45-9e2c-dbd81c3b763d",
   "metadata": {},
   "source": [
    "# Video analysis\n"
   ]
  },
  {
   "cell_type": "markdown",
   "id": "0e755fec-095b-43ce-8b2f-e46fd002dc00",
   "metadata": {},
   "source": [
    "## Setting\n",
    " - Auto Reload\n",
    " - path for utils"
   ]
  },
  {
   "cell_type": "code",
   "execution_count": 1,
   "id": "beee5ec9-5112-4eda-88ab-43a0ef1721a3",
   "metadata": {
    "tags": []
   },
   "outputs": [],
   "source": [
    "%load_ext autoreload\n",
    "%autoreload 2"
   ]
  },
  {
   "cell_type": "code",
   "execution_count": 2,
   "id": "9dd7fb1d-710f-4345-92a0-b5a794742afe",
   "metadata": {
    "tags": []
   },
   "outputs": [],
   "source": [
    "import sys, os\n",
    "module_path = \"../..\"\n",
    "sys.path.append(os.path.abspath(module_path))"
   ]
  },
  {
   "cell_type": "markdown",
   "id": "60864ffe-4fe9-4e08-bb49-9b4ecdb8c7db",
   "metadata": {},
   "source": [
    "## 1. Create Bedrock client"
   ]
  },
  {
   "cell_type": "code",
   "execution_count": 3,
   "id": "6705c228-f793-47e9-b2da-ade94f209fa2",
   "metadata": {
    "tags": []
   },
   "outputs": [],
   "source": [
    "from pprint import pprint\n",
    "from termcolor import colored\n",
    "from utils import bedrock\n",
    "from utils.bedrock import bedrock_info"
   ]
  },
  {
   "cell_type": "markdown",
   "id": "e197919c-2fbc-4344-a259-4c34dca45a0f",
   "metadata": {
    "tags": []
   },
   "source": [
    "### ---- ⚠️ Un-comment and edit the below lines as needed for your AWS setup ⚠️ ----\n",
    "- os.environ[\"AWS_DEFAULT_REGION\"] = \"<REGION_NAME>\"  # E.g. \"us-east-1\"\n",
    "- os.environ[\"AWS_PROFILE\"] = \"<YOUR_PROFILE>\"\n",
    "- os.environ[\"BEDROCK_ASSUME_ROLE\"] = \"<YOUR_ROLE_ARN>\"  # E.g. \"arn:aws:...\"\n",
    "- os.environ[\"BEDROCK_ENDPOINT_URL\"] = \"<YOUR_ENDPOINT_URL>\"  # E.g. \"https://...\""
   ]
  },
  {
   "cell_type": "code",
   "execution_count": 4,
   "id": "67a986c0-60fe-4e77-875c-338a138460fc",
   "metadata": {
    "tags": []
   },
   "outputs": [
    {
     "name": "stdout",
     "output_type": "stream",
     "text": [
      "Create new client\n",
      "  Using region: None\n",
      "  Using profile: None\n",
      "boto3 Bedrock client successfully created!\n",
      "bedrock-runtime(https://bedrock-runtime.us-west-2.amazonaws.com)\n",
      "\u001b[32m\n",
      "== FM lists ==\u001b[0m\n",
      "{'Claude-Instant-V1': 'anthropic.claude-instant-v1',\n",
      " 'Claude-V1': 'anthropic.claude-v1',\n",
      " 'Claude-V2': 'anthropic.claude-v2',\n",
      " 'Claude-V2-1': 'anthropic.claude-v2:1',\n",
      " 'Claude-V3-5-Sonnet': 'anthropic.claude-3-5-sonnet-20240620-v1:0',\n",
      " 'Claude-V3-5-V-2-Sonnet': 'anthropic.claude-3-5-sonnet-20241022-v2:0',\n",
      " 'Claude-V3-5-V-2-Sonnet-CRI': 'us.anthropic.claude-3-5-sonnet-20241022-v2:0',\n",
      " 'Claude-V3-Haiku': 'anthropic.claude-3-haiku-20240307-v1:0',\n",
      " 'Claude-V3-Opus': 'anthropic.claude-3-sonnet-20240229-v1:0',\n",
      " 'Claude-V3-Sonnet': 'anthropic.claude-3-sonnet-20240229-v1:0',\n",
      " 'Cohere-Embeddings-En': 'cohere.embed-english-v3',\n",
      " 'Cohere-Embeddings-Multilingual': 'cohere.embed-multilingual-v3',\n",
      " 'Command': 'cohere.command-text-v14',\n",
      " 'Command-Light': 'cohere.command-light-text-v14',\n",
      " 'Jurassic-2-Mid': 'ai21.j2-mid-v1',\n",
      " 'Jurassic-2-Ultra': 'ai21.j2-ultra-v1',\n",
      " 'Llama2-13b-Chat': 'meta.llama2-13b-chat-v1',\n",
      " 'Nova-Canvas': 'amazon.nova-canvas-v1:0',\n",
      " 'Nova-Lite': 'amazon.nova-lite-v1:0',\n",
      " 'Nova-Micro': 'amazon.nova-micro-v1:0',\n",
      " 'Nova-Pro': 'amazon.nova-pro-v1:0',\n",
      " 'Nova-Pro-CRI': 'us.amazon.nova-pro-v1:0',\n",
      " 'Nova-Reel': 'amazon.nova-reel-v1:0',\n",
      " 'Titan-Embeddings-G1': 'amazon.titan-embed-text-v1',\n",
      " 'Titan-Text-Embeddings-V2': 'amazon.titan-embed-text-v2:0',\n",
      " 'Titan-Text-G1': 'amazon.titan-text-express-v1',\n",
      " 'Titan-Text-G1-Express': 'amazon.titan-text-express-v1',\n",
      " 'Titan-Text-G1-Light': 'amazon.titan-text-lite-v1',\n",
      " 'Titan-Text-G1-Premier': 'amazon.titan-text-premier-v1:0'}\n"
     ]
    }
   ],
   "source": [
    "boto3_bedrock = bedrock.get_bedrock_client(\n",
    "    assumed_role=os.environ.get(\"BEDROCK_ASSUME_ROLE\", None),\n",
    "    endpoint_url=os.environ.get(\"BEDROCK_ENDPOINT_URL\", None),\n",
    "    region=os.environ.get(\"AWS_DEFAULT_REGION\", None),\n",
    ")\n",
    "\n",
    "print (colored(\"\\n== FM lists ==\", \"green\"))\n",
    "pprint (bedrock_info.get_list_fm_models(verbose=False))"
   ]
  },
  {
   "cell_type": "markdown",
   "id": "5e8e2368-e195-47e4-b981-80f7e6dc4421",
   "metadata": {},
   "source": [
    "## 2. LLM 정의"
   ]
  },
  {
   "cell_type": "code",
   "execution_count": 5,
   "id": "5b094dc1-26f9-4dcc-b51a-178edadb407e",
   "metadata": {
    "tags": []
   },
   "outputs": [],
   "source": [
    "from utils.bedrock import bedrock_model\n",
    "from langchain.callbacks.streaming_stdout import StreamingStdOutCallbackHandler"
   ]
  },
  {
   "cell_type": "code",
   "execution_count": 13,
   "id": "bd05a4a4-0ffc-4e29-b1db-0f28ce6374d6",
   "metadata": {
    "tags": []
   },
   "outputs": [],
   "source": [
    "llm = bedrock_model(\n",
    "    #model_id=bedrock_info.get_model_id(model_name=\"Claude-V3-5-Sonnet\"),\n",
    "    model_id=bedrock_info.get_model_id(model_name=\"Nova-Pro-CRI\"),\n",
    "    bedrock_client=boto3_bedrock,\n",
    "    stream=True,\n",
    "    callbacks=[StreamingStdOutCallbackHandler()],\n",
    "    inference_config={\n",
    "        'maxTokens': 1024,\n",
    "        'stopSequences': [\"\\n\\nHuman\"],\n",
    "        'temperature': 0.01,\n",
    "        #'topP': ...,\n",
    "    }\n",
    "    #additional_model_request_fields={\"top_k\": 200}\n",
    ")"
   ]
  },
  {
   "cell_type": "markdown",
   "id": "681bfe3f-bcdb-4b76-bcfe-df9273733e7a",
   "metadata": {},
   "source": [
    "## 3. Analysis"
   ]
  },
  {
   "cell_type": "markdown",
   "id": "0a6c3f3c-0acf-4db0-b0db-27cb903655c8",
   "metadata": {},
   "source": [
    "### 3.1 LLM caller 정의"
   ]
  },
  {
   "cell_type": "code",
   "execution_count": 38,
   "id": "7c6e2397-0314-43f4-8bcd-004ba6f6d7b0",
   "metadata": {
    "tags": []
   },
   "outputs": [],
   "source": [
    "from textwrap import dedent\n",
    "from utils.bedrock import bedrock_utils, bedrock_chain\n",
    "\n",
    "class llm_call():\n",
    "\n",
    "    def __init__(self, **kwargs):\n",
    "\n",
    "        self.llm=kwargs[\"llm\"]\n",
    "        self.verbose = kwargs.get(\"verbose\", False)\n",
    "        self.chain = bedrock_chain(bedrock_utils.converse_api) | bedrock_chain(bedrock_utils.outputparser)\n",
    "\n",
    "    def _message_format(self, role, message):\n",
    "\n",
    "        if role == \"user\":\n",
    "             message_format = {\n",
    "                \"role\": \"user\",\n",
    "                \"content\": [{\"text\": dedent(message)}]\n",
    "            }\n",
    "        elif role == \"assistant\":\n",
    "            \n",
    "            message_format = {\n",
    "                \"role\": \"assistant\",\n",
    "                'content': [{'text': dedent(message)}]\n",
    "            }\n",
    "\n",
    "        return message_format\n",
    "            \n",
    "    def invoke(self, **kwargs):\n",
    "\n",
    "        system_prompts = kwargs.get(\"system_prompts\", None)\n",
    "        messages = kwargs[\"messages\"]\n",
    "        #llm_name = kwargs[\"llm_name\"]\n",
    "    \n",
    "        response = self.chain( ## pipeline의 제일 처음 func의 argument를 입력으로 한다. 여기서는 converse_api의 arg를 쓴다.\n",
    "            llm=self.llm,\n",
    "            system_prompts=system_prompts,\n",
    "            messages=messages,\n",
    "            verbose=self.verbose\n",
    "        )\n",
    "        \n",
    "        ai_message = self._message_format(role=\"assistant\", message=response[\"text\"])\n",
    "        messages.append(ai_message)\n",
    "        return response, messages"
   ]
  },
  {
   "cell_type": "code",
   "execution_count": 39,
   "id": "a4a39908-9d06-464c-9ee4-9456eedf8f43",
   "metadata": {
    "tags": []
   },
   "outputs": [],
   "source": [
    "llm_caller = llm_call(\n",
    "    llm=llm,\n",
    "    verbose=True ## To show token usage\n",
    ") "
   ]
  },
  {
   "cell_type": "markdown",
   "id": "bf8aed73-b47d-4bc9-b5bd-d86b399e0c64",
   "metadata": {},
   "source": [
    "### 3.2 Video analyzer 정의"
   ]
  },
  {
   "cell_type": "code",
   "execution_count": 31,
   "id": "df90e533-8f85-4766-a518-1b90d772e1a1",
   "metadata": {
    "tags": []
   },
   "outputs": [],
   "source": [
    "def _get_message_from_string(role, string, video_format=\"mp4\", imgs=None, videos=None):\n",
    "\n",
    "    message = {\n",
    "        \"role\": role,\n",
    "        \"content\": []\n",
    "    }\n",
    "\n",
    "    if imgs is not None:\n",
    "        for img in imgs:\n",
    "            img_message = {\n",
    "                \"image\": {\n",
    "                    \"format\": 'png',\n",
    "                    \"source\": {\"bytes\": img}\n",
    "                }\n",
    "            }\n",
    "            message[\"content\"].append(img_message)\n",
    "    \n",
    "    if videos is not None:\n",
    "        for video in videos:\n",
    "            video_message = {\n",
    "                \"video\": {\n",
    "                    \"format\": video_format,\n",
    "                    \"source\": {\"bytes\": video_bytes}\n",
    "                }\n",
    "            }\n",
    "            message[\"content\"].append(video_message)\n",
    "\n",
    "    message[\"content\"].append({\"text\": dedent(string)})\n",
    "\n",
    "    return message"
   ]
  },
  {
   "cell_type": "code",
   "execution_count": 40,
   "id": "0dfdf5d7-ddf0-4f71-a7fd-4186ea956382",
   "metadata": {
    "tags": []
   },
   "outputs": [
    {
     "name": "stdout",
     "output_type": "stream",
     "text": [
      "\n",
      "Role: assistant\n",
      "{\n",
      "    \"summary\": \"비디오는 어두운 방에서 한 사람이 작업을 수행하는 모습을 보여줍니다. 그는 밝은 조명을 들고 여러 개의 상자를 옮기고 있습니다. 그는 상자를 쌓아 놓고 트롤리를 뒤집어 놓은 다음, 상자를 다시 쌓아 놓습니다. 그 후 그는 방을 떠납니다.\",\n",
      "    \"key_events\": [\n",
      "        {\n",
      "            \"description\": \"사람이 상자를 옮기기 시작합니다.\",\n",
      "            \"significance\": \"HIGH\"\n",
      "        },\n",
      "        {\n",
      "            \"description\": \"사람이 트롤리를 뒤집습니다.\",\n",
      "            \"significance\": \"MEDIUM\"\n",
      "        },\n",
      "        {\n",
      "            \"description\": \"사람이 상자를 다시 쌓아 놓습니다.\",\n",
      "            \"significance\": \"MEDIUM\"\n",
      "        },\n",
      "        {\n",
      "            \"description\": \"사람이 방을 떠납니다.\",\n",
      "            \"significance\": \"HIGH\"\n",
      "        }\n",
      "    ],\n",
      "    \"objects_involved\": {\n",
      "        \"people\": [\"1명의 개인\"],\n",
      "        \"items\": [\"상자 여러 개, 트롤리, 조명\"]\n",
      "    },\n",
      "    \"analysis\": {\n",
      "        \"pattern\": \"사람은 상자를 옮기고 정리하는 반복적인 작업을 수행합니다.\",\n",
      "        \"anomalies\": [\"어두운 방에서 작업을 수행하는 것은 비정상적입니다.\"],\n",
      "        \"risk_assessment\": \"상자를 옮기는 과정에서 넘어지거나 부상을 입을 위험이 있습니다.\"\n",
      "    }\n",
      "}\n",
      "Token usage\n",
      "Input tokens: 44213\n",
      "Output tokens: 480\n",
      "Total tokens: 44693\n",
      "Latency: 30164 milliseconds\n",
      "CPU times: user 298 ms, sys: 84 ms, total: 382 ms\n",
      "Wall time: 30.2 s\n"
     ]
    }
   ],
   "source": [
    "%%time\n",
    "\n",
    "def video_analyzer(**kwargs):\n",
    "    \n",
    "    video_path=kwargs[\"video_path\"]\n",
    "    \n",
    "    video_format = os.path.splitext(video_path)[1][1:]\n",
    "    with open(file_path, 'rb') as file:\n",
    "        video_bytes = file.read()\n",
    "        \n",
    "    \n",
    "    system_prompts = dedent(\n",
    "        '''\n",
    "\n",
    "        You are a professional video analyst with expertise in behavioral analysis, security assessment, and pattern recognition.\n",
    "        Your role is to provide detailed, structured analysis of video content while maintaining objectivity and attention to security concerns.\n",
    "\n",
    "        Model Instructions:\n",
    "        - Watch the entire video sequence to understand the complete context\n",
    "        - Focus on significant events and behavioral patterns throughout the video\n",
    "        - Pay special attention to security risks and anomalous behaviors\n",
    "        - Maintain objectivity and privacy considerations\n",
    "        - DO NOT make assumptions about unclear events or behaviors\n",
    "        - DO NOT include personally identifiable information\n",
    "        - Provide output in Korean\n",
    "\n",
    "        Output Schema:\n",
    "        {\n",
    "            \"summary\": \"Comprehensive explanation of the entire sequence\",\n",
    "            \"key_events\": [\n",
    "                {\n",
    "                    \"description\": \"Description of significant events\",\n",
    "                    \"significance\": \"Event importance level (HIGH/MEDIUM/LOW)\"\n",
    "                }\n",
    "            ],\n",
    "            \"objects_involved\": {\n",
    "                \"people\": [\"Number of individuals identified and their roles\"],\n",
    "                \"items\": [\"Key objects involved in the scene\"]\n",
    "            },\n",
    "            \"analysis\": {\n",
    "                \"pattern\": \"Observed behavioral patterns\",\n",
    "                \"anomalies\": [\"Unusual activities or notable irregularities\"],\n",
    "                \"risk_assessment\": \"Evaluation of potential risks\"\n",
    "            }\n",
    "        }\n",
    "\n",
    "        Analysis Guidelines:\n",
    "        - Review the video chronologically to understand the complete context\n",
    "        - When evaluating event significance, consider:\n",
    "           - Security risks\n",
    "           - Abnormal behavior patterns\n",
    "           - Potential threats to facilities or property\n",
    "        - Track consistent patterns of behavior throughout the video\n",
    "        - Identify and assess any security concerns\n",
    "        - Monitor interactions between people and objects\n",
    "        - Note temporal patterns and their variations\n",
    "        - Provide clear and objective descriptions\n",
    "\n",
    "        Important Considerations:\n",
    "        - Exclude routine movements and normal activities from key events\n",
    "        - Identify and classify recurring events as patterns\n",
    "        - Compare activities against typical behavioral patterns\n",
    "        - Maintain privacy by excluding personally identifiable information\n",
    "        - Report only observed facts, avoiding speculation about unclear situations\n",
    "        - Highlight any detected potential risks\n",
    "        - Focus on contextually significant details\n",
    "        - Track individual continuity through consistent behavior patterns and appearance\n",
    "        - Consider the temporal flow of events rather than isolated moments\n",
    "        - Assess the overall security implications of observed behaviors\n",
    "\n",
    "        Remember to evaluate:\n",
    "        - Patterns of movement and behavior\n",
    "        - Interactions between individuals\n",
    "        - Use or manipulation of objects\n",
    "        - Temporal sequence of events\n",
    "        - Potential security risks\n",
    "        - Anomalous behaviors\n",
    "        - Environmental factors\n",
    "\n",
    "        This analysis should provide a comprehensive assessment of the video content while maintaining focus on security considerations and behavioral patterns.\n",
    "\n",
    "        '''\n",
    "    )\n",
    "    user_prompts = dedent(\n",
    "        '''\n",
    "        Describe given video in Korean.\n",
    "\n",
    "        '''\n",
    "    )\n",
    "    system_prompts = bedrock_utils.get_system_prompt(system_prompts=system_prompts) \n",
    "\n",
    "    \n",
    "\n",
    "    messages = []\n",
    "    message = _get_message_from_string(role=\"user\", string=user_prompts, video_format=video_format, videos=[video_bytes])\n",
    "    messages.append(message)\n",
    "\n",
    "    # Call LLM\n",
    "    resp, messages_updated = llm_caller.invoke(messages=messages, system_prompts=system_prompts)\n",
    "            "
   ]
  },
  {
   "cell_type": "code",
   "execution_count": null,
   "id": "f58f004c-ecab-4b46-8edb-6dd45c183145",
   "metadata": {},
   "outputs": [],
   "source": [
    "video_analyzer(\n",
    "    video_path = \"./video/video_sample_2.mkv\"\n",
    ")"
   ]
  }
 ],
 "metadata": {
  "kernelspec": {
   "display_name": "conda_python3",
   "language": "python",
   "name": "conda_python3"
  },
  "language_info": {
   "codemirror_mode": {
    "name": "ipython",
    "version": 3
   },
   "file_extension": ".py",
   "mimetype": "text/x-python",
   "name": "python",
   "nbconvert_exporter": "python",
   "pygments_lexer": "ipython3",
   "version": "3.10.14"
  },
  "vscode": {
   "interpreter": {
    "hash": "4b8e647a79df62bf31906a725b05de775d285962ac600487339d38c51a5c07b1"
   }
  }
 },
 "nbformat": 4,
 "nbformat_minor": 5
}
