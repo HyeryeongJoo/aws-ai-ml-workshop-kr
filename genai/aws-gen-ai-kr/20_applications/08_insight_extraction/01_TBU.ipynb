{
 "cells": [
  {
   "cell_type": "markdown",
   "id": "0a4eb837-ef78-4b45-9e2c-dbd81c3b763d",
   "metadata": {},
   "source": [
    "# Insight extraction (Text2Insight)\n"
   ]
  },
  {
   "cell_type": "markdown",
   "id": "0e755fec-095b-43ce-8b2f-e46fd002dc00",
   "metadata": {},
   "source": [
    "## Setting\n",
    " - Auto Reload\n",
    " - path for utils"
   ]
  },
  {
   "cell_type": "code",
   "execution_count": 1,
   "id": "6543f134-4f41-4540-bd24-907bed8ad016",
   "metadata": {
    "tags": []
   },
   "outputs": [],
   "source": [
    "%load_ext autoreload\n",
    "%autoreload 2"
   ]
  },
  {
   "cell_type": "code",
   "execution_count": 2,
   "id": "9dd7fb1d-710f-4345-92a0-b5a794742afe",
   "metadata": {
    "tags": []
   },
   "outputs": [],
   "source": [
    "import sys, os\n",
    "module_path = \"../..\"\n",
    "sys.path.append(os.path.abspath(module_path))"
   ]
  },
  {
   "cell_type": "markdown",
   "id": "60864ffe-4fe9-4e08-bb49-9b4ecdb8c7db",
   "metadata": {},
   "source": [
    "## 1. Create Bedrock client"
   ]
  },
  {
   "cell_type": "code",
   "execution_count": 3,
   "id": "6705c228-f793-47e9-b2da-ade94f209fa2",
   "metadata": {
    "tags": []
   },
   "outputs": [],
   "source": [
    "import boto3\n",
    "from pprint import pprint\n",
    "from termcolor import colored\n",
    "from utils import bedrock, print_ww\n",
    "from utils.bedrock import bedrock_info"
   ]
  },
  {
   "cell_type": "markdown",
   "id": "e197919c-2fbc-4344-a259-4c34dca45a0f",
   "metadata": {
    "tags": []
   },
   "source": [
    "### ---- ⚠️ Un-comment and edit the below lines as needed for your AWS setup ⚠️ ----\n",
    "- os.environ[\"AWS_DEFAULT_REGION\"] = \"<REGION_NAME>\"  # E.g. \"us-east-1\"\n",
    "- os.environ[\"AWS_PROFILE\"] = \"<YOUR_PROFILE>\"\n",
    "- os.environ[\"BEDROCK_ASSUME_ROLE\"] = \"<YOUR_ROLE_ARN>\"  # E.g. \"arn:aws:...\"\n",
    "- os.environ[\"BEDROCK_ENDPOINT_URL\"] = \"<YOUR_ENDPOINT_URL>\"  # E.g. \"https://...\""
   ]
  },
  {
   "cell_type": "code",
   "execution_count": 4,
   "id": "67a986c0-60fe-4e77-875c-338a138460fc",
   "metadata": {
    "tags": []
   },
   "outputs": [
    {
     "name": "stdout",
     "output_type": "stream",
     "text": [
      "Create new client\n",
      "  Using region: None\n",
      "  Using profile: None\n",
      "boto3 Bedrock client successfully created!\n",
      "bedrock-runtime(https://bedrock-runtime.us-east-1.amazonaws.com)\n",
      "\u001b[32m\n",
      "== FM lists ==\u001b[0m\n",
      "{'Claude-Instant-V1': 'anthropic.claude-instant-v1',\n",
      " 'Claude-V1': 'anthropic.claude-v1',\n",
      " 'Claude-V2': 'anthropic.claude-v2',\n",
      " 'Claude-V2-1': 'anthropic.claude-v2:1',\n",
      " 'Claude-V3-5-Sonnet': 'anthropic.claude-3-5-sonnet-20240620-v1:0',\n",
      " 'Claude-V3-Haiku': 'anthropic.claude-3-haiku-20240307-v1:0',\n",
      " 'Claude-V3-Opus': 'anthropic.claude-3-sonnet-20240229-v1:0',\n",
      " 'Claude-V3-Sonnet': 'anthropic.claude-3-sonnet-20240229-v1:0',\n",
      " 'Cohere-Embeddings-En': 'cohere.embed-english-v3',\n",
      " 'Cohere-Embeddings-Multilingual': 'cohere.embed-multilingual-v3',\n",
      " 'Command': 'cohere.command-text-v14',\n",
      " 'Command-Light': 'cohere.command-light-text-v14',\n",
      " 'Jurassic-2-Mid': 'ai21.j2-mid-v1',\n",
      " 'Jurassic-2-Ultra': 'ai21.j2-ultra-v1',\n",
      " 'Llama2-13b-Chat': 'meta.llama2-13b-chat-v1',\n",
      " 'Titan-Embeddings-G1': 'amazon.titan-embed-text-v1',\n",
      " 'Titan-Text-Embeddings-V2': 'amazon.titan-embed-text-v2:0',\n",
      " 'Titan-Text-G1': 'amazon.titan-text-express-v1',\n",
      " 'Titan-Text-G1-Express': 'amazon.titan-text-express-v1',\n",
      " 'Titan-Text-G1-Light': 'amazon.titan-text-lite-v1',\n",
      " 'Titan-Text-G1-Premier': 'amazon.titan-text-premier-v1:0'}\n"
     ]
    }
   ],
   "source": [
    "boto3_bedrock = bedrock.get_bedrock_client(\n",
    "    assumed_role=os.environ.get(\"BEDROCK_ASSUME_ROLE\", None),\n",
    "    endpoint_url=os.environ.get(\"BEDROCK_ENDPOINT_URL\", None),\n",
    "    region=os.environ.get(\"AWS_DEFAULT_REGION\", None),\n",
    ")\n",
    "\n",
    "print (colored(\"\\n== FM lists ==\", \"green\"))\n",
    "pprint (bedrock_info.get_list_fm_models(verbose=False))"
   ]
  },
  {
   "cell_type": "markdown",
   "id": "5e8e2368-e195-47e4-b981-80f7e6dc4421",
   "metadata": {},
   "source": [
    "## 2. LLM Object 생성"
   ]
  },
  {
   "cell_type": "code",
   "execution_count": 129,
   "id": "5b094dc1-26f9-4dcc-b51a-178edadb407e",
   "metadata": {
    "tags": []
   },
   "outputs": [],
   "source": [
    "from utils.bedrock import bedrock_model\n",
    "#from langchain_aws import ChatBedrock\n",
    "#from langchain_aws import ChatBedrockConverse\n",
    "from langchain.callbacks.streaming_stdout import StreamingStdOutCallbackHandler"
   ]
  },
  {
   "cell_type": "code",
   "execution_count": 273,
   "id": "bd05a4a4-0ffc-4e29-b1db-0f28ce6374d6",
   "metadata": {
    "tags": []
   },
   "outputs": [],
   "source": [
    "llm_text = bedrock_model(\n",
    "    model_id=bedrock_info.get_model_id(model_name=\"Claude-V3-Sonnet\"),\n",
    "    bedrock_client=boto3_bedrock,\n",
    "    stream=True,\n",
    "    callbacks=[StreamingStdOutCallbackHandler()],\n",
    "    inference_config={\n",
    "        'maxTokens': 1024,\n",
    "        'stopSequences': [\"\\n\\nHuman\"],\n",
    "        'temperature': 0.01,\n",
    "        #'topP': ...,\n",
    "    }\n",
    "    #additional_model_request_fields={\"top_k\": 200}\n",
    ")"
   ]
  },
  {
   "cell_type": "markdown",
   "id": "a66fe21a-9abe-4865-8fe5-4de8bd9882e9",
   "metadata": {},
   "source": [
    "## 3. Chain for Insight Extravtion"
   ]
  },
  {
   "cell_type": "code",
   "execution_count": 274,
   "id": "56734342-620a-403d-aeca-664163907bf3",
   "metadata": {
    "tags": []
   },
   "outputs": [],
   "source": [
    "from textwrap import dedent\n",
    "from utils.bedrock import bedrock_utils\n",
    "from utils.text_to_insight import insight_extraction_chain, insight_extraction_tools"
   ]
  },
  {
   "cell_type": "markdown",
   "id": "e9030538-4948-495a-84c3-61bf57182afc",
   "metadata": {},
   "source": [
    "### 3.1 system prompt 설정하기"
   ]
  },
  {
   "cell_type": "markdown",
   "id": "3a095dcb-fe7c-457f-aab2-ec9ab6b38b41",
   "metadata": {},
   "source": [
    "`당신은 고급 데이터 분석 보조원입니다.`<BR>\n",
    "`당신의 역할은 사용자가 제공한 특정 주제에 기반하여 사용자가 제공한 데이터 세트에서 의미 있는 인사이트를 추출하는 것을 돕는 것입니다.`<BR>\n",
    "`조사할 핵심 데이터 포인트와 통계의 목록을 생성하기 위해 다음 단계를 따르세요:`<BR>\n",
    "\n",
    "`1. 사용자가 제공한 주제를 신중히 고려하세요.`<BR>\n",
    "`2. 제공된 데이터 세트의 구조와 내용을 분석하세요.`<BR>\n",
    "`3. 주어진 주제에 가장 관련성 있고 통찰력 있는 5-7개의 핵심 데이터 포인트나 통계 목록을 생성하세요. 이들은 명확하고 실행 가능한 요청이나 질문으로 표현되어야 합니다.`<BR>\n",
    "`4. 각 포인트가 주제의 다른 측면에 초점을 맞추도록 하여 다양한 분석 각도를 다루도록 하세요.`<BR>\n",
    "`5. 각 포인트 작성시 행동 동사 태그로 시작해 주세요.(예: \"[계산]\", \"[비교]\", \"[식별]\", \"[분석]\", \"[결정]\" 등).`<BR>\n",
    "`6. 포인트들이 상세한 분석을 안내할 만큼 구체적이면서도 종합적인 인사이트를 허용할 만큼 폭넓도록 하세요.`<BR>\n",
    "`7. 해당되는 경우, 시간에 따른 추세, 지리적 차이, 인구통계학적 변화, 또는 기타 관련 요인을 다루는 포인트를 포함하세요.`<BR>\n",
    "`8. 주제와 관련된 데이터에서 예상치 못하거나 주목할 만한 패턴을 탐색하도록 장려하는 개방형 포인트로 목록을 마무리하세요.`<BR>\n",
    "`9. 분석에 사용되는 컬럼이름을 명시하세요` <BR>\n",
    "`10. 모든 포인트는 <분석_포인트></분석_포인트> 태그와 번호 형식으로 제공해야 합니다.`<BR>\n",
    "`11. 한글로 작성하세요.`<BR>\n",
    "\n",
    "`목록을 명확한 번호 형식으로 제시하세요. 각 포인트는 간결하면서도 설명적이어야 하며, 분석의 다음 단계에 대한 명확한 방향을 제공해야 합니다.`<BR>\n",
    "`기억하세요, 당신의 목표는 사용자가 선택한 주제에 대해 가치 있는 정보를 제공할 수 있는 철저하고 통찰력 있는 분석을 위한 로드맵을 만드는 것입니다.`<BR>\n",
    "#5. Phrase each point to start with an action verb (e.g., \"Calculate\", \"Compare\", \"Identify\", \"Analyze\", \"Determine\", etc.)"
   ]
  },
  {
   "cell_type": "code",
   "execution_count": 275,
   "id": "aa8b2efe-6319-4f52-881e-3c6b9ef71c08",
   "metadata": {
    "tags": []
   },
   "outputs": [],
   "source": [
    "prompt = dedent(\n",
    "    '''\n",
    "    You are an advanced data analysis assistant.\n",
    "    Your role is to help extract meaningful insights from user-provided datasets based on a specific topic they provide.\n",
    "    \n",
    "    Follow these steps to generate a list of key data points and statistics to investigate:\n",
    "    1. Carefully consider the user-provided topic.\n",
    "    2. Analyze the structure and content of the provided data set.\n",
    "    3. Generate a list of 5-7 key data points or statistics that would be most relevant and insightful for the given topic. These should be phrased as clear, actionable requests or questions.\n",
    "    4. Ensure each point focuses on a different aspect of the topic, covering various angles of analysis.\n",
    "    5. Start each point with an action verb tag (e.g., \"[Calculate]\", \"[Compare]\", \"[Identify]\", \"[Analyze]\", \"[Determine]\", etc.).\n",
    "    6. Make sure the points are specific enough to guide a detailed analysis but broad enough to allow for comprehensive insights.\n",
    "    7. If applicable, include points that address trends over time, geographical differences, demographic variations, or other relevant factors.\n",
    "    8. Conclude your list with an open-ended point that encourages exploring any unexpected or noteworthy patterns in the data related to the topic.\n",
    "    9. Specify the column names used in your analysis.\n",
    "    10. All points should be provided within the tags <analysis_points></analysis_points> and numbered format.\n",
    "    11. Write in Korean.\n",
    "    \n",
    "    \n",
    "    Present your list in a clear.\n",
    "    Each point should be concise yet descriptive, providing a clear direction for the next steps of the analysis.    \n",
    "    Remember, your goal is to create a roadmap for a thorough, insightful analysis that will provide valuable information to the user about their chosen topic.\n",
    "    \n",
    "    '''\n",
    ")\n",
    "system_prompts = bedrock_utils.get_system_prompt(\n",
    "    system_prompts=prompt,\n",
    ")"
   ]
  },
  {
   "cell_type": "markdown",
   "id": "0c3b2bfb-b7f9-4961-b9c7-3eb2fa209a05",
   "metadata": {},
   "source": [
    "### 3.2 Insight 추출을 위한 질문 생성용 prompt "
   ]
  },
  {
   "cell_type": "code",
   "execution_count": 276,
   "id": "abddd0fe-2d85-4298-af48-5a01d346c15c",
   "metadata": {
    "tags": []
   },
   "outputs": [],
   "source": [
    "user_prompts = dedent(\n",
    "    '''\n",
    "    This is the result of `print(df.head())`: <dataset>{dataset}</dataset>\n",
    "\n",
    "    Here is the column information in detail, this is the results of `print(column_info)`: <column_info>{column_info}</column_info>\n",
    "    \n",
    "    Here is user's topic interested: <topic>{topic}</topic>\n",
    "    '''\n",
    ")"
   ]
  },
  {
   "cell_type": "markdown",
   "id": "a509d3f8-393c-460b-ad2c-c3aecc452067",
   "metadata": {},
   "source": [
    "### 3.3 Tool for parsing outputs 설정하기"
   ]
  },
  {
   "cell_type": "code",
   "execution_count": 277,
   "id": "20f7ae28-bad4-4635-9d26-afe7c7f66bd1",
   "metadata": {
    "tags": []
   },
   "outputs": [
    {
     "data": {
      "text/plain": [
       "{'tools': [{'toolSpec': {'name': 'parse_output',\n",
       "    'description': 'Use this tool to to do the task of structuring information from output responses',\n",
       "    'inputSchema': {'json': {'type': 'object',\n",
       "      'properties': {'input': {'type': 'string',\n",
       "        'description': 'Empty string'}}}}}}],\n",
       " 'toolChoice': {'tool': {'name': 'parse_output'}}}"
      ]
     },
     "execution_count": 277,
     "metadata": {},
     "output_type": "execute_result"
    }
   ],
   "source": [
    "tool_config = insight_extraction_tools.get_tool_list()\n",
    "tool_config"
   ]
  },
  {
   "cell_type": "markdown",
   "id": "22013895-1ad9-4475-8227-8589801cd457",
   "metadata": {
    "tags": []
   },
   "source": [
    "### 3.4 Insight extraction을 위한 chain 설정"
   ]
  },
  {
   "cell_type": "code",
   "execution_count": 278,
   "id": "8d2164e2-52be-4b92-8807-aa3876391278",
   "metadata": {
    "tags": []
   },
   "outputs": [],
   "source": [
    "insight_generator = insight_extraction_chain(\n",
    "    llm=llm_text,\n",
    "    system_prompts=system_prompts,\n",
    "    user_prompts=user_prompts,\n",
    "    tool_config=tool_config,\n",
    "    multi_turn=False,\n",
    "    verbose=False\n",
    ")"
   ]
  },
  {
   "cell_type": "markdown",
   "id": "a1ad91ae-9d62-4183-bda1-35bfe9762833",
   "metadata": {},
   "source": [
    "## 4. Invocation"
   ]
  },
  {
   "cell_type": "markdown",
   "id": "83aaa1e2-0ee2-437a-a68a-9eee80e9b9d2",
   "metadata": {},
   "source": [
    "### 4.1 프롬프트 작성을 위한 정보 제공"
   ]
  },
  {
   "cell_type": "code",
   "execution_count": 279,
   "id": "03da3a7e-c53e-40af-a13f-84bd1bd56ead",
   "metadata": {
    "tags": []
   },
   "outputs": [],
   "source": [
    "import pandas as pd"
   ]
  },
  {
   "cell_type": "code",
   "execution_count": 280,
   "id": "e6057344-72e7-40e9-950f-e75c5193ad33",
   "metadata": {
    "tags": []
   },
   "outputs": [],
   "source": [
    "_df = pd.read_parquet(\"./dataset/data\")\n",
    "_column_info = pd.read_csv(\"dataset/column_info.csv\")"
   ]
  },
  {
   "cell_type": "code",
   "execution_count": 283,
   "id": "672d1e82-3366-41bc-9f5d-59fc368ef3a1",
   "metadata": {
    "tags": []
   },
   "outputs": [],
   "source": [
    "dataset = str(_df.sample(10, random_state=0).to_csv())\n",
    "column_info = str(_column_info.to_csv())\n",
    "topic = \"혼수 이사 분석\""
   ]
  },
  {
   "cell_type": "code",
   "execution_count": 284,
   "id": "81b9208b-2bb3-4dad-9b06-08a2b22da77a",
   "metadata": {
    "tags": []
   },
   "outputs": [
    {
     "name": "stdout",
     "output_type": "stream",
     "text": [
      "<analysis_points>\n",
      "1. [분석] wedd_move_category 컬럼을 활용하여 혼수 이사와 관련된 구매 내역을 추출하고, 가장 인기 있는 제품 카테고리와 모델을 파악합니다.\n",
      "2. [비교] 혼수 이사 구매와 일반 구매 간의 제품 선호도 차이를 prdc_lvl1~4_nm 컬럼을 활용하여 비교합니다.\n",
      "3. [확인] 혼수 이사 구매 고객의 연령대(age_group), 성별(gendr_nm), 거주 지역(ctdo_nm, ccw_nm, dong_nm) 등의 인구통계학적 특성을 파악합니다.\n",
      "4. [분석] 혼수 이사 구매 고객의 평균 주문 금액(amt)과 제품 수량(qt)을 계산하고, 일반 구매와 비교합니다.\n",
      "5. [확인] 혼수 이사 구매 고객의 거주 유형(bld_usg_scls_nm), 평형대(eqdr_group), 소득 분포(apt_eci_group, det_eci_group) 등의 특성을 파악합니다.\n",
      "6. [분석] 혼수 이사 구매 고객의 온라인 구매 비율(onln_buy_yn)과 구매 사유(buy_rsn_nm)를 조사합니다.\n",
      "7. [탐색] 데이터에서 발견되는 혼수 이사 구매와 관련된 예상치 못한 패턴이나 인사이트가 있는지 탐색합니다.\n",
      "</analysis_points>{'text': '<analysis_points>\\n1. [분석] wedd_move_category 컬럼을 활용하여 혼수 이사와 관련된 구매 내역을 추출하고, 가장 인기 있는 제품 카테고리와 모델을 파악합니다.\\n2. [비교] 혼수 이사 구매와 일반 구매 간의 제품 선호도 차이를 prdc_lvl1~4_nm 컬럼을 활용하여 비교합니다.\\n3. [확인] 혼수 이사 구매 고객의 연령대(age_group), 성별(gendr_nm), 거주 지역(ctdo_nm, ccw_nm, dong_nm) 등의 인구통계학적 특성을 파악합니다.\\n4. [분석] 혼수 이사 구매 고객의 평균 주문 금액(amt)과 제품 수량(qt)을 계산하고, 일반 구매와 비교합니다.\\n5. [확인] 혼수 이사 구매 고객의 거주 유형(bld_usg_scls_nm), 평형대(eqdr_group), 소득 분포(apt_eci_group, det_eci_group) 등의 특성을 파악합니다.\\n6. [분석] 혼수 이사 구매 고객의 온라인 구매 비율(onln_buy_yn)과 구매 사유(buy_rsn_nm)를 조사합니다.\\n7. [탐색] 데이터에서 발견되는 혼수 이사 구매와 관련된 예상치 못한 패턴이나 인사이트가 있는지 탐색합니다.\\n</analysis_points>', 'toolUse': None}\n"
     ]
    }
   ],
   "source": [
    "response = insight_generator.invoke(\n",
    "    context={\n",
    "        \"dataset\": dataset,\n",
    "        \"column_info\": column_info,\n",
    "        \"topic\":topic\n",
    "    }\n",
    ")"
   ]
  },
  {
   "cell_type": "code",
   "execution_count": 262,
   "id": "51b5b750-b612-4291-8c6f-f84e3e0d8d81",
   "metadata": {
    "tags": []
   },
   "outputs": [
    {
     "data": {
      "text/plain": [
       "{'text': '<analysis_points>\\n1. [분석] 연령대별 상냉장 제품 구매 금액과 수량을 비교하여 연령에 따른 구매 행동의 차이를 파악합니다. (컬럼: age_group, amt, qt)\\n\\n2. [비교] 지역(시/도, 시/군/구)별로 상냉장 제품의 구매 금액과 수량을 비교하여 지역적 구매 패턴의 차이를 확인합니다. (컬럼: ctdo_nm, ccw_nm, amt, qt)\\n\\n3. [분석] 연령대와 지역을 결합하여 상냉장 제품의 구매 금액과 수량을 분석하고, 연령과 지역이 구매 행동에 미치는 영향을 평가합니다. (컬럼: age_group, ctdo_nm, ccw_nm, amt, qt)\\n\\n4. [확인] 거주 유형(아파트, 다가구 등)과 평형대에 따른 상냉장 제품 구매 패턴의 차이를 확인합니다. (컬럼: bld_usg_scls_nm, eqdr_group, amt, qt)\\n\\n5. [분석] 시간의 흐름에 따른 상냉장 제품 구매 패턴의 변화를 분석합니다. 특정 기간 동안의 구매 금액과 수량 추이를 살펴봅니다. (컬럼: base_dt, amt, qt)\\n\\n6. [식별] 구매 사유(buy_rsn_nm)와 구매 유형(buy_type)에 따른 상냉장 제품 구매 패턴의 차이를 식별합니다. (컬럼: buy_rsn_nm, buy_type, amt, qt)\\n\\n7. [탐색] 데이터에서 발견되는 예상치 못한 패턴이나 특이 사항이 있는지 탐색하고, 연령 및 지역별 구매 패턴과 관련된 새로운 통찰력을 얻습니다.\\n</analysis_points>',\n",
       " 'toolUse': None}"
      ]
     },
     "execution_count": 262,
     "metadata": {},
     "output_type": "execute_result"
    }
   ],
   "source": [
    "response"
   ]
  },
  {
   "cell_type": "code",
   "execution_count": 166,
   "id": "f8ecd3a8-592c-4dba-9798-946e3d42266c",
   "metadata": {
    "tags": []
   },
   "outputs": [
    {
     "data": {
      "text/plain": [
       "'\\nHere is responses: <response>None</response>\\nPlease use the parse_output tool to do the task of structuring information from the responses.\\n'"
      ]
     },
     "execution_count": 166,
     "metadata": {},
     "output_type": "execute_result"
    }
   ],
   "source": [
    "query"
   ]
  },
  {
   "cell_type": "code",
   "execution_count": null,
   "id": "aa8d094c-6030-4586-8c40-eda55b112ba5",
   "metadata": {},
   "outputs": [],
   "source": []
  },
  {
   "cell_type": "code",
   "execution_count": null,
   "id": "295f5c3b-83e1-453c-8c2d-0792787f0dc1",
   "metadata": {},
   "outputs": [],
   "source": []
  },
  {
   "cell_type": "code",
   "execution_count": null,
   "id": "46fbbd7d-1e62-48d5-b2ce-48419eba8d06",
   "metadata": {},
   "outputs": [],
   "source": []
  },
  {
   "cell_type": "code",
   "execution_count": null,
   "id": "2c6212b3-91e0-45de-8151-ced2b5f76ccc",
   "metadata": {
    "tags": []
   },
   "outputs": [],
   "source": [
    "_df.query(\"buy_rsn_nm == '혼수'\")[[\"cust_no\", \"buy_rsn_nm\"]]"
   ]
  },
  {
   "cell_type": "code",
   "execution_count": null,
   "id": "9dc9499b-c1fb-4de3-8636-b20575f8424f",
   "metadata": {
    "tags": []
   },
   "outputs": [],
   "source": [
    "_df[\"buy_rsn_nm\"]"
   ]
  },
  {
   "cell_type": "code",
   "execution_count": null,
   "id": "90c78543-139b-4e01-a5a4-8c658b54edcc",
   "metadata": {},
   "outputs": [],
   "source": []
  },
  {
   "cell_type": "code",
   "execution_count": null,
   "id": "02ff88b7-c67c-4266-89e7-e17f0747fbf4",
   "metadata": {},
   "outputs": [],
   "source": []
  },
  {
   "cell_type": "code",
   "execution_count": null,
   "id": "43756b47-0ffc-46fe-ba1a-000d20509117",
   "metadata": {},
   "outputs": [],
   "source": []
  },
  {
   "cell_type": "code",
   "execution_count": null,
   "id": "be7be16e-d961-4afc-81b5-9f7d46c2aa4a",
   "metadata": {},
   "outputs": [],
   "source": []
  },
  {
   "cell_type": "code",
   "execution_count": null,
   "id": "96ce76a3-12e9-4c06-807f-aab7495064c3",
   "metadata": {},
   "outputs": [],
   "source": []
  },
  {
   "cell_type": "code",
   "execution_count": null,
   "id": "b09f0199-87d4-4dc0-b852-0143a595760d",
   "metadata": {
    "tags": []
   },
   "outputs": [],
   "source": []
  },
  {
   "cell_type": "code",
   "execution_count": null,
   "id": "3b2cc306-f0aa-472d-986d-ae355474f954",
   "metadata": {
    "tags": []
   },
   "outputs": [],
   "source": [
    "df = pd.read_parquet(\"./dataset/data\")\n",
    "column_info = pd.read_csv(\"dataset/column_info.csv\")"
   ]
  },
  {
   "cell_type": "code",
   "execution_count": null,
   "id": "e35c7952-4245-4f47-b0fd-e3a323d3b02c",
   "metadata": {
    "tags": []
   },
   "outputs": [],
   "source": [
    "df"
   ]
  },
  {
   "cell_type": "code",
   "execution_count": 43,
   "id": "4a9051f1-08cd-4f31-89c7-10c773597e50",
   "metadata": {
    "tags": []
   },
   "outputs": [
    {
     "data": {
      "text/plain": [
       "',컬럼 명,컬럼 한글명,DATA TYPE\\n0,record_type,레코드유형,VARCHAR\\n1,cust_no,통합고객번호,VARCHAR\\n2,mdl_cd,모델코드,VARCHAR\\n3,base_dt,기준일자,VARCHAR\\n4,qt,수량,INTEGER\\n5,amt,금액,BIGINT\\n6,prdc_lvl1_cd,제품1레벨코드,VARCHAR\\n7,prdc_lvl1_nm,제품1레벨명,VARCHAR\\n8,prdc_lvl2_cd,제품2레벨코드,VARCHAR\\n9,prdc_lvl2_nm,제품2레벨명,VARCHAR\\n10,prdc_lvl3_cd,제품3레벨코드,VARCHAR\\n11,prdc_lvl3_nm,제품3레벨명,VARCHAR\\n12,prdc_lvl4_cd,제품4레벨코드,VARCHAR\\n13,prdc_lvl4_nm,제품4레벨명,VARCHAR\\n14,chnl_div_hpos_val,채널구분상위값,VARCHAR\\n15,chnl_div_val,채널구분값,VARCHAR\\n16,buy_rsn_nm,구매사유명,VARCHAR\\n17,buy_type,구매유형,VARCHAR\\n18,onln_buy_yn,온라인구매여부,VARCHAR\\n19,wedd_move_category,혼수이사카테고리,VARCHAR\\n20,ordr_stts_nm,주문상태명,VARCHAR\\n21,pdp_view_cnt,PDP조회수,INTEGER\\n22,pdfm_dv_val,제품군구분값,VARCHAR\\n23,up_hma_dv_val,UP가전구분값,VARCHAR\\n24,objt_dv_val,오브제구분값,VARCHAR\\n25,stry_prdc_dv_val,전략제품구분값,VARCHAR\\n26,grw_lead_prdc_dv_val,성장주도제품구분값,VARCHAR\\n27,mdl_category,모델카테고리,VARCHAR\\n28,pdfm_dtl_dv_val,제품군상세구분값,VARCHAR\\n29,dios_pdfm_dv_val,디오스제품군구분값,VARCHAR\\n30,ap_dv_val,공기청정기구분값,VARCHAR\\n31,tv_oled_dv_val,OLEDTV구분값,VARCHAR\\n32,wm_tongdol_dv_val,통돌이세탁기구분값,VARCHAR\\n33,wp_lvl1_dv_val,정수기1레벨구분값,VARCHAR\\n34,wp_lvl2_dv_val,정수기2레벨구분값,VARCHAR\\n35,wp_lvl3_dv_val,정수기3레벨구분값,VARCHAR\\n36,rf_gc_dv_val,김치냉장고구분값,VARCHAR\\n37,rf_liter_dv_val,냉장고리터별구분값,VARCHAR\\n38,rf_dv_val,냉장고구분값,VARCHAR\\n39,shba_buy_category,장바구니구매카테고리,VARCHAR\\n40,pdp_buy_category,PDP구매카테고리,VARCHAR\\n41,age,연령,INTEGER\\n42,age_group,연령대,VARCHAR\\n43,gendr_nm,성별,VARCHAR\\n44,ctdo_nm,시/도명,VARCHAR\\n45,ccw_nm,시/군/구명,VARCHAR\\n46,dong_nm,읍/면/동명,VARCHAR\\n47,bld_usg_scls_nm,거주유형명,VARCHAR\\n48,eqdr_group,평형대,VARCHAR\\n49,apt_eci_group,아파트평균소득분포,VARCHAR\\n50,det_eci_group,일반주택평균소득분포,VARCHAR\\n51,pdp_view_yn,PDP조회여부,VARCHAR\\n52,stand_by_me_new_entr_yn,스탠바이미신규가입여부,VARCHAR\\n53,pdp_view_after_shba_add_yn,PDP조회이후장바구니추가여부,VARCHAR\\n54,pdp_view_after_buy_yn,PDP조회이후구매여부,VARCHAR\\n55,stand_by_me_buy_yn,스탠바이미구매여부,VARCHAR\\n56,stand_by_me_go_buy_yn,스탠바이미GO구매여부,VARCHAR\\n57,room_and_tv_buy_yn,룸앤티비구매여부,VARCHAR\\n58,cinebeam_buy_yn,시네빔구매여부,VARCHAR\\n59,tlamp_user_yn,TLAMP사용자여부,VARCHAR\\n60,re_ordr_dt,재주문일자,VARCHAR\\n61,diff_days,차이일수,INTEGER\\n62,diff_days_category,차이일수(카테고리),VARCHAR\\n'"
      ]
     },
     "execution_count": 43,
     "metadata": {},
     "output_type": "execute_result"
    }
   ],
   "source": [
    "column_info"
   ]
  },
  {
   "cell_type": "markdown",
   "id": "8d187e14-399f-4e2d-a246-faf892eeb2f2",
   "metadata": {},
   "source": [
    "## 3. Chain for "
   ]
  },
  {
   "cell_type": "code",
   "execution_count": null,
   "id": "6c75fa42-7f66-4bc6-8bc4-f58867fde605",
   "metadata": {
    "tags": []
   },
   "outputs": [],
   "source": [
    "from textwrap import dedent\n",
    "from utils.bedrock import bedrock_utils\n",
    "from utils.copy_generator import copy_generation_chain"
   ]
  },
  {
   "cell_type": "code",
   "execution_count": null,
   "id": "70c5a355-d143-4528-a9f5-19c7f01e4fa5",
   "metadata": {},
   "outputs": [],
   "source": []
  },
  {
   "cell_type": "code",
   "execution_count": null,
   "id": "ed106935-f3bf-41fe-b0e0-8b59a8864f7d",
   "metadata": {},
   "outputs": [],
   "source": []
  },
  {
   "cell_type": "code",
   "execution_count": null,
   "id": "9abb1b10-9251-44d2-9a23-60e1ed6b6c82",
   "metadata": {},
   "outputs": [],
   "source": []
  },
  {
   "cell_type": "code",
   "execution_count": null,
   "id": "56ceebe3-d285-4883-bf2c-c02ad8adf813",
   "metadata": {},
   "outputs": [],
   "source": [
    "    (\"system\", \"You are a helpful translator. Translate the user sentence to French.\"),\n",
    "    (\"human\", \"I love programming.\"),"
   ]
  },
  {
   "cell_type": "code",
   "execution_count": null,
   "id": "6b15fbe4-4028-4564-bfe6-2a664aaaacda",
   "metadata": {
    "tags": []
   },
   "outputs": [],
   "source": [
    "prompt = dedent(\n",
    "    '''\n",
    "    You are an AI copywriter expert in crafting personalized marketing messages.\n",
    "    Your goal is to create compelling, tailored content that resonates with individual customers.\n",
    "    Follow these guidelines:\n",
    "    \n",
    "    1. Analyze customer data: Thoroughly examine provided customer information (age, gender, purchase history, interests, etc.).\n",
    "    2. Identify personalization elements: Select key personalization factors based on each customer's unique characteristics and preferences.    \n",
    "    3. Maintain brand voice: Adhere to the company's brand guidelines and tone of voice in all messages.\n",
    "    4. Create concise, engaging copy: Write short, impactful messages that capture attention and drive action.\n",
    "    5. Emotional appeal: Incorporate emotional triggers that resonate with the individual customer's motivations and desires.\n",
    "    6. Use data-driven insights: Leverage customer behavior data to inform message content and timing.\n",
    "    7. Implement urgency and scarcity: When appropriate, create a sense of urgency or scarcity to drive immediate action.\n",
    "    8. Optimize for different channels: Tailor copy for various marketing channels (email, SMS, social media, etc.).\n",
    "    9. Consider timing: Craft messages appropriate to seasons, special dates, or events.\n",
    "    10. Match the given behavioural economics theory.\n",
    "    11. Don't mention anything that's not in the product description.\n",
    "\n",
    "    12. Ensure compliance: Adhere to privacy laws, marketing regulations, and ethical marketing practices.\n",
    "    13. Incorporate storytelling: Use narrative elements to make messages more engaging and memorable.\n",
    "    \n",
    "    Generate personalized marketing copy based on user requests in as short a time as possible, always maintaining accuracy, creativity, and a customer-centric approach.\n",
    "    \n",
    "    '''\n",
    ")\n",
    "#Generate 100 characters or less.\n",
    "# 4. 간결하고 매력적인 카피를 작성합니다: 시선을 사로잡고 행동을 유도하는 짧고 임팩트 있는 메시지를 작성하세요.\n",
    "#     5. 정서적 호소력: 개별 고객의 동기와 욕구에 공감할 수 있는 감정적 유발 요소를 포함하세요.\n",
    "#     6. 데이터 기반 인사이트 활용: 고객 행동 데이터를 활용하여 메시지 콘텐츠와 타이밍을 결정합니다.\n",
    "#     7. 긴급성과 희소성을 구현합니다: 적절한 경우, 긴급성 또는 희소성을 조성하여 즉각적인 행동을 유도합니다.\n",
    "#     8. 다양한 채널에 맞게 최적화하세요: 다양한 마케팅 채널(이메일, SMS, 소셜 미디어 등)에 맞게 카피를 조정합니다.\n",
    "#     9. 타이밍을 고려하세요: 계절, 특별한 날짜 또는 이벤트에 적합한 메시지를 작성하세요.\n",
    "\n",
    "# 1. 마케팅 카피 샘플\n",
    "# 2. 마케팅 대상 (예시-냉장고)\n",
    "# 3. LGE 마케팅 메시지의 톤앤매너 가이드\n",
    "# 4. 고객 개인화 정보 \n",
    "#     - 예시) 연령, 성별, 구매내역, 관심사 등\n",
    "system_prompts = bedrock_utils.get_system_prompt(\n",
    "    system_prompts=prompt,\n",
    ")"
   ]
  },
  {
   "cell_type": "code",
   "execution_count": null,
   "id": "8aedaa1c-3952-41c1-83bf-010df2d357ca",
   "metadata": {
    "tags": []
   },
   "outputs": [],
   "source": [
    "system_prompts"
   ]
  },
  {
   "cell_type": "code",
   "execution_count": null,
   "id": "4b2f65c1-b515-4dd5-857d-b235a6d46417",
   "metadata": {
    "tags": []
   },
   "outputs": [],
   "source": [
    "from langchain_core.prompts import ChatPromptTemplate, HumanMessagePromptTemplate, SystemMessagePromptTemplate"
   ]
  },
  {
   "cell_type": "code",
   "execution_count": null,
   "id": "5e391f3b-d3b2-49f7-a87c-f58ecd71f981",
   "metadata": {
    "tags": []
   },
   "outputs": [],
   "source": [
    "system_message_template = SystemMessagePromptTemplate.from_template(prompt)\n",
    "human_message_template = HumanMessagePromptTemplate.from_template(prompt)"
   ]
  },
  {
   "cell_type": "code",
   "execution_count": null,
   "id": "8146d3a1-9cb9-4ee4-b1ce-49435f5148a0",
   "metadata": {
    "tags": []
   },
   "outputs": [],
   "source": [
    "system_message_template"
   ]
  },
  {
   "cell_type": "code",
   "execution_count": null,
   "id": "16aaad52-ec78-4b55-b48d-77e3b51daf08",
   "metadata": {
    "tags": []
   },
   "outputs": [],
   "source": [
    "human_message_template"
   ]
  },
  {
   "cell_type": "code",
   "execution_count": null,
   "id": "607b7aec-0407-44df-b122-43417a9b08db",
   "metadata": {
    "tags": []
   },
   "outputs": [],
   "source": []
  },
  {
   "cell_type": "code",
   "execution_count": null,
   "id": "0e2a1298-7684-4bcb-a39c-c4356e840f58",
   "metadata": {
    "tags": []
   },
   "outputs": [],
   "source": [
    "ChatMessage?"
   ]
  },
  {
   "cell_type": "code",
   "execution_count": null,
   "id": "69720014-b75b-400f-89c6-05b0efb9efea",
   "metadata": {
    "tags": []
   },
   "outputs": [],
   "source": [
    "import langchain_core"
   ]
  },
  {
   "cell_type": "code",
   "execution_count": null,
   "id": "fdece2c2-7b54-47c0-91c0-c5f857b576b3",
   "metadata": {},
   "outputs": [],
   "source": [
    "langchain_core.messages.ChatMessage"
   ]
  },
  {
   "cell_type": "code",
   "execution_count": null,
   "id": "df00f1fd-643a-4e3f-a31c-a85a5d0d6156",
   "metadata": {
    "tags": []
   },
   "outputs": [],
   "source": [
    "ChatBedrockConverse?"
   ]
  },
  {
   "cell_type": "code",
   "execution_count": null,
   "id": "4de771f5-b4e3-430e-8fee-801341501530",
   "metadata": {},
   "outputs": [],
   "source": []
  }
 ],
 "metadata": {
  "kernelspec": {
   "display_name": "conda_python3",
   "language": "python",
   "name": "conda_python3"
  },
  "language_info": {
   "codemirror_mode": {
    "name": "ipython",
    "version": 3
   },
   "file_extension": ".py",
   "mimetype": "text/x-python",
   "name": "python",
   "nbconvert_exporter": "python",
   "pygments_lexer": "ipython3",
   "version": "3.10.14"
  }
 },
 "nbformat": 4,
 "nbformat_minor": 5
}
