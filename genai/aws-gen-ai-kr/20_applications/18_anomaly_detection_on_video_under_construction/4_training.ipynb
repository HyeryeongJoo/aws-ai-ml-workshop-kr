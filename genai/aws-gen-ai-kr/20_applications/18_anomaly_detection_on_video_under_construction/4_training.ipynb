{
 "cells": [
  {
   "cell_type": "markdown",
   "id": "73934e8e-1a1f-4947-9541-4aa44a60b807",
   "metadata": {
    "tags": []
   },
   "source": [
    "# Train with YOLO11"
   ]
  },
  {
   "cell_type": "code",
   "execution_count": 6,
   "id": "e80467e2-70a8-4fa9-89b1-2ffca90313da",
   "metadata": {
    "tags": []
   },
   "outputs": [],
   "source": [
    "%%capture\n",
    "!pip install --only-binary :all: albumentations"
   ]
  },
  {
   "cell_type": "code",
   "execution_count": 7,
   "id": "6e9b7c17-cf5c-4e21-9736-939b69059938",
   "metadata": {
    "tags": []
   },
   "outputs": [
    {
     "name": "stdout",
     "output_type": "stream",
     "text": [
      "Ultralytics 8.3.74 🚀 Python-3.10.14 torch-2.2.2 CUDA:0 (NVIDIA A10G, 22503MiB)\n",
      "Setup complete ✅ (48 CPUs, 186.7 GB RAM, 89.9/135.0 GB disk)\n"
     ]
    }
   ],
   "source": [
    "import ultralytics, albumentations\n",
    "ultralytics.checks()"
   ]
  },
  {
   "cell_type": "code",
   "execution_count": 12,
   "id": "163fdd87-86a3-411a-913e-7f08ea7709be",
   "metadata": {
    "collapsed": true,
    "jupyter": {
     "outputs_hidden": true
    },
    "tags": []
   },
   "outputs": [
    {
     "name": "stdout",
     "output_type": "stream",
     "text": [
      "Archive:  ./datasets/datasets.zip\n",
      " extracting: ./datasets/README.dataset.txt  \n",
      "  inflating: ./datasets/README.roboflow.txt  \n",
      "  inflating: ./datasets/data.yaml    \n",
      "   creating: ./datasets/test/\n",
      "   creating: ./datasets/test/images/\n",
      " extracting: ./datasets/test/images/08_21A_0007_jpg.rf.9e8959e1a1730f1c5c940d000b3d416c.jpg  \n",
      " extracting: ./datasets/test/images/08_21A_0008_jpg.rf.2dd16a0099bef3498fc559918545a9bd.jpg  \n",
      " extracting: ./datasets/test/images/08_21A_0022_jpg.rf.fe9e24fff670ceb0338b20bd49351eda.jpg  \n",
      " extracting: ./datasets/test/images/08_21A_0088_jpg.rf.822feee76db82a3f805ca5dfd2a4f19c.jpg  \n",
      " extracting: ./datasets/test/images/08_21A_0094_jpg.rf.a5531cbdea0edf4beed5afa3b72bedea.jpg  \n",
      " extracting: ./datasets/test/images/08_21C_0004_jpg.rf.51fec309b2cb41d8273f9b4bc80ba051.jpg  \n",
      " extracting: ./datasets/test/images/08_21C_0004_jpg.rf.9df8e5eb9176733dcb8a9623f1a25ac5.jpg  \n",
      " extracting: ./datasets/test/images/08_21C_0005_jpg.rf.e26d2095b3e207f9ce55adc3e29e6d84.jpg  \n",
      " extracting: ./datasets/test/images/08_21C_0010_jpg.rf.6b7a4786507ee23fba435ba56af13b90.jpg  \n",
      " extracting: ./datasets/test/images/08_21C_0013_jpg.rf.5726d7a2f900c12c6a6377aa283755bb.jpg  \n",
      " extracting: ./datasets/test/images/08_21C_0051_jpg.rf.5bf2e8e379d4524084b13f1cad8b7fb3.jpg  \n",
      " extracting: ./datasets/test/images/08_21C_0051_jpg.rf.ce78fb5e033a5631316ea9336aa50425.jpg  \n",
      " extracting: ./datasets/test/images/08_21C_0052_jpg.rf.1caddc1a94b84bff2341763b6abb7461.jpg  \n",
      " extracting: ./datasets/test/images/08_21C_0062_jpg.rf.fd81446785199f70237643c933e2c786.jpg  \n",
      " extracting: ./datasets/test/images/08_21C_0063_jpg.rf.7946e55aa2db25430cfb646a9abb5b0a.jpg  \n",
      " extracting: ./datasets/test/images/08_21C_0064_jpg.rf.95e932a60feeb21994c15c995fb025eb.jpg  \n",
      " extracting: ./datasets/test/images/08_21C_0067_jpg.rf.ce2f698f2bd6c746887c141483e60cfa.jpg  \n",
      " extracting: ./datasets/test/images/08_21C_0074_jpg.rf.ad046fe3bcafbd855bab8f89b3b1a26a.jpg  \n",
      " extracting: ./datasets/test/images/08_21C_0096_jpg.rf.1420f3d9590ba9d1863ca04758b212a7.jpg  \n",
      " extracting: ./datasets/test/images/08_21C_0099_jpg.rf.48f70b2885c18035d4d3bdf531444eb3.jpg  \n",
      " extracting: ./datasets/test/images/08_21C_0107_jpg.rf.78a7d6f0c4343fad2c896af612b6b2fc.jpg  \n",
      " extracting: ./datasets/test/images/08_21C_0112_jpg.rf.8ce872631b086c78d54904dc38c56896.jpg  \n",
      " extracting: ./datasets/test/images/08_21C_0118_jpg.rf.f2370194be223330f9b6e3448b08dc6c.jpg  \n",
      " extracting: ./datasets/test/images/08_21C_0129_jpg.rf.cc046cb9a63d9c0f03da8dbf330fc424.jpg  \n",
      " extracting: ./datasets/test/images/08_21C_0132_jpg.rf.56c2d12dd15957f8206f304b02f1f034.jpg  \n",
      " extracting: ./datasets/test/images/08_21C_0133_jpg.rf.8d22d936927ecec325f85f81174f10ea.jpg  \n",
      " extracting: ./datasets/test/images/08_21C_0135_jpg.rf.658a256ff04670549d9191169e2cfaba.jpg  \n",
      " extracting: ./datasets/test/images/08_21C_0138_jpg.rf.4a79f7ab3d7895754b34737b5e5ccec7.jpg  \n",
      " extracting: ./datasets/test/images/08_21C_0140_jpg.rf.538783c535480e305dbf1e9cfff406e7.jpg  \n",
      " extracting: ./datasets/test/images/08_21C_0146_jpg.rf.56fe201cb421adb20820d64ecbd84aaa.jpg  \n",
      " extracting: ./datasets/test/images/08_21C_0146_jpg.rf.7b5b86974b9590b449aa0cc5340de95b.jpg  \n",
      " extracting: ./datasets/test/images/08_21C_0147_jpg.rf.769be49091843a91b57b7121cb038f05.jpg  \n",
      " extracting: ./datasets/test/images/08_21C_0148_jpg.rf.e0cab757ce88fbea0a329ac4fe7d5582.jpg  \n",
      " extracting: ./datasets/test/images/08_21C_0149_jpg.rf.8df4103df74acc80c0d6896d8333b0aa.jpg  \n",
      " extracting: ./datasets/test/images/08_21C_0149_jpg.rf.9ff6cde98ab1de0bc745538aefb49a7c.jpg  \n",
      " extracting: ./datasets/test/images/08_21C_0157_jpg.rf.977f2719739e1519cceb1ed7de797b4f.jpg  \n",
      " extracting: ./datasets/test/images/08_21C_0166_jpg.rf.dee33ac6a37d7061b1b1ca863c445a58.jpg  \n",
      " extracting: ./datasets/test/images/08_21C_0172_jpg.rf.c95a34609049ea036b6da34320c9d7c5.jpg  \n",
      " extracting: ./datasets/test/images/08_21C_0178_jpg.rf.3e72b69f7a39334eaf888adc074f6e15.jpg  \n",
      " extracting: ./datasets/test/images/08_21C_0189_jpg.rf.0387aedac1d9834fc89ef402f5679eee.jpg  \n",
      " extracting: ./datasets/test/images/08_21C_0192_jpg.rf.105e86e69b73241f48eb3ff6a5d7ca01.jpg  \n",
      " extracting: ./datasets/test/images/08_21C_0196_jpg.rf.64b118a7e72512e3effa8398938ecdcc.jpg  \n",
      " extracting: ./datasets/test/images/08_21C_0201_jpg.rf.802d2529b4f5e12d1c35f5ce4d138689.jpg  \n",
      " extracting: ./datasets/test/images/08_21C_0202_jpg.rf.b89118c0fb580c6600a6f964000e739e.jpg  \n",
      " extracting: ./datasets/test/images/08_21C_0204_jpg.rf.68283d6ae2619f3c2d3a8eb8a24c35c6.jpg  \n",
      " extracting: ./datasets/test/images/08_21C_0207_jpg.rf.782fb1ee5dc9bf2458f927bce25dc59b.jpg  \n",
      " extracting: ./datasets/test/images/08_21C_0209_jpg.rf.2c37b0de7f1c95f962b11000aef81be8.jpg  \n",
      " extracting: ./datasets/test/images/08_21C_0211_jpg.rf.47b3d3dbf36d28a1deabaec700152c36.jpg  \n",
      " extracting: ./datasets/test/images/08_21C_0216_jpg.rf.195c83f1d404c52bc5c78c731224aa04.jpg  \n",
      " extracting: ./datasets/test/images/08_21C_0222_jpg.rf.12cca1c855ff05887ac9ee34af185ce2.jpg  \n",
      " extracting: ./datasets/test/images/08_21C_0223_jpg.rf.da2e558cee2c932f09acad09fa1fca6a.jpg  \n",
      " extracting: ./datasets/test/images/08_21C_0224_jpg.rf.de50af06a40ed15e14cbc89ad2333ffe.jpg  \n",
      " extracting: ./datasets/test/images/08_21C_0226_jpg.rf.da8d5ee22b5c9408896f77592a6638cf.jpg  \n",
      " extracting: ./datasets/test/images/08_21C_0227_jpg.rf.fee6ca3a7637a983f9d7b95516f53885.jpg  \n",
      " extracting: ./datasets/test/images/08_21C_0228_jpg.rf.cc934e4c0c7bf9e442032cc873cfd545.jpg  \n",
      " extracting: ./datasets/test/images/08_21C_0230_jpg.rf.dd1bbfce77f81e67b260f3f174bebc53.jpg  \n",
      " extracting: ./datasets/test/images/08_21C_0234_jpg.rf.674e9e2dde4f363087703838503fd661.jpg  \n",
      " extracting: ./datasets/test/images/08_21C_0236_jpg.rf.f039dce9264407175c92a4bf25a9a611.jpg  \n",
      " extracting: ./datasets/test/images/08_21C_0241_jpg.rf.26e5c909f89cf9107d995168f5dc3ce2.jpg  \n",
      " extracting: ./datasets/test/images/08_21C_0242_jpg.rf.931a8142ec02369c1abb882027ca0b1e.jpg  \n",
      " extracting: ./datasets/test/images/08_21C_0244_jpg.rf.85d9d3841cb48ee7170178ad1c8f55b8.jpg  \n",
      " extracting: ./datasets/test/images/08_21C_0247_jpg.rf.fa9e8af7c41acfdf7ba8888237dc448c.jpg  \n",
      " extracting: ./datasets/test/images/08_21C_0249_jpg.rf.6a3586cb1d85e8215df8e26e5d146229.jpg  \n",
      " extracting: ./datasets/test/images/08_21C_0251_jpg.rf.cfcb79ca899b63425bd19ed897a3d0f7.jpg  \n",
      " extracting: ./datasets/test/images/08_21C_0257_jpg.rf.48ec9ad4bca01b587ff626ea9db655bc.jpg  \n",
      " extracting: ./datasets/test/images/08_21C_0261_jpg.rf.35b41830425006761981f5505156890d.jpg  \n",
      " extracting: ./datasets/test/images/08_21C_0261_jpg.rf.c0f55b6b0fb02e6d8701e0633fda1d67.jpg  \n",
      " extracting: ./datasets/test/images/08_21C_0274_jpg.rf.def3a53e6a97a7fa40abe9bf65c25f9d.jpg  \n",
      " extracting: ./datasets/test/images/08_21C_0278_jpg.rf.1f9ed7701c4b1fca0c6be98c7aad5cd1.jpg  \n",
      " extracting: ./datasets/test/images/08_21C_0287_jpg.rf.505d1f632b3899a1e2e8b66649da0a5d.jpg  \n",
      " extracting: ./datasets/test/images/08_21C_0288_jpg.rf.49d7d3df17731fcd4b05a531287285b3.jpg  \n",
      " extracting: ./datasets/test/images/08_21C_0293_jpg.rf.8a345ccd7cd285c861db488322534fdd.jpg  \n",
      " extracting: ./datasets/test/images/08_21C_0298_jpg.rf.7c2ed622e9000445e78fd96a5dcd4220.jpg  \n",
      " extracting: ./datasets/test/images/08_21C_0303_jpg.rf.d234b05286af94f40670c209a3a79784.jpg  \n",
      " extracting: ./datasets/test/images/08_21C_0318_jpg.rf.45c006b31061dfd08c333d2f65e276b3.jpg  \n",
      " extracting: ./datasets/test/images/08_21C_0318_jpg.rf.9945e14af19a4db196749bf9ddd4b796.jpg  \n",
      " extracting: ./datasets/test/images/08_21C_0319_jpg.rf.c05df3f585504e140eb085ed7507e30f.jpg  \n",
      " extracting: ./datasets/test/images/08_21C_0319_jpg.rf.d7c350369f3345d84e50c7ff48edc939.jpg  \n",
      " extracting: ./datasets/test/images/08_21C_0324_jpg.rf.c5e055a59bb6956188f7a13ac0b51b22.jpg  \n",
      " extracting: ./datasets/test/images/08_21C_0326_jpg.rf.b02bb0f92eedfbc8055626be8a331d23.jpg  \n",
      " extracting: ./datasets/test/images/08_21C_0333_jpg.rf.e34bad38b8cb205965454b5c2bc41df8.jpg  \n",
      " extracting: ./datasets/test/images/08_21C_0336_jpg.rf.28a246b55f0ccbfa3717529968f10721.jpg  \n",
      " extracting: ./datasets/test/images/08_21C_0352_jpg.rf.1cbbfe798977f6066a88efa07d8cf786.jpg  \n",
      " extracting: ./datasets/test/images/08_21C_0363_jpg.rf.e756dda252deccae65c93eb323c9fd8b.jpg  \n",
      " extracting: ./datasets/test/images/08_21C_0370_jpg.rf.bc15359df1420e2a644ea7dcaecbdcbb.jpg  \n",
      " extracting: ./datasets/test/images/08_21C_0373_jpg.rf.13dc3ae13587bcf4810711134fb486ac.jpg  \n",
      " extracting: ./datasets/test/images/08_21C_0385_jpg.rf.c8f0a4e2600275ef707e79522c619ae9.jpg  \n",
      " extracting: ./datasets/test/images/08_21C_0399_jpg.rf.6e9d6191892bf748ddf0f3083c6e7483.jpg  \n",
      " extracting: ./datasets/test/images/08_21C_0405_jpg.rf.3e4099258afdfe30f5d452f57e82886e.jpg  \n",
      " extracting: ./datasets/test/images/08_21C_0413_jpg.rf.977793f9bab64da2349ec36381dc69e2.jpg  \n",
      " extracting: ./datasets/test/images/08_21C_0435_jpg.rf.0eb4db27b0bbd2386cb3bea78af300e4.jpg  \n",
      " extracting: ./datasets/test/images/08_21C_0441_jpg.rf.c09c2888084125d518f03cb237ba9a7f.jpg  \n",
      " extracting: ./datasets/test/images/08_21C_0451_jpg.rf.253f93c2ad7546ae5644d0b590b17dde.jpg  \n",
      " extracting: ./datasets/test/images/08_21C_0465_jpg.rf.c890c614f9bc47eeb8a345a9263174de.jpg  \n",
      " extracting: ./datasets/test/images/08_21C_0466_jpg.rf.b94a390c91b04302950be0f7d6c799aa.jpg  \n",
      " extracting: ./datasets/test/images/08_21C_0506_jpg.rf.531383bd051417b6b8c8f028fb26fe71.jpg  \n",
      " extracting: ./datasets/test/images/08_21C_0525_jpg.rf.a713b85b1a47f96252de7becabb12cf3.jpg  \n",
      " extracting: ./datasets/test/images/08_21C_0532_jpg.rf.53461fc9727a6751f3ddd0a9ab6343ac.jpg  \n",
      " extracting: ./datasets/test/images/08_21C_0536_jpg.rf.594a66eedb3f05e399b347d4633e3d64.jpg  \n",
      " extracting: ./datasets/test/images/08_21C_0539_jpg.rf.e7b13728012281caa7920ae7c2d857fa.jpg  \n",
      " extracting: ./datasets/test/images/08_21C_0556_jpg.rf.ce4c79e798b6d039f68a6a5806d9122a.jpg  \n",
      " extracting: ./datasets/test/images/08_21C_0579_jpg.rf.0dcfb1b950230842fa439ab3f9de18ed.jpg  \n",
      " extracting: ./datasets/test/images/08_21C_0580_jpg.rf.237ba30162067e22f1f76c207205a6f2.jpg  \n",
      " extracting: ./datasets/test/images/08_21C_0592_jpg.rf.2994f6087a8291abe5bf388e02673b05.jpg  \n",
      " extracting: ./datasets/test/images/08_21C_0595_jpg.rf.9f1d87a72bc4982df1cac2f79bfc7f49.jpg  \n",
      " extracting: ./datasets/test/images/08_21C_0602_jpg.rf.14b6793515156422f8109640b0c495a8.jpg  \n",
      " extracting: ./datasets/test/images/08_21C_0609_jpg.rf.a745369e379e1db1b99226279afcb44a.jpg  \n",
      " extracting: ./datasets/test/images/08_21C_0612_jpg.rf.bf512c1c1992ee80a1baa9820f7d220a.jpg  \n",
      " extracting: ./datasets/test/images/08_21C_0614_jpg.rf.f44d143defaa7c937cfd6ed835cb9ae7.jpg  \n",
      " extracting: ./datasets/test/images/08_21C_0635_jpg.rf.00318e8044851d167612f168895470b7.jpg  \n",
      " extracting: ./datasets/test/images/08_21C_0653_jpg.rf.3d1920e2ae72ee9e8049c025aa812d31.jpg  \n",
      " extracting: ./datasets/test/images/08_21C_0665_jpg.rf.afafdb157e930f939464bffe7b14eb73.jpg  \n",
      " extracting: ./datasets/test/images/08_21C_0682_jpg.rf.d7b41e45ec6ba84443bc3cbeddde2f02.jpg  \n",
      " extracting: ./datasets/test/images/08_21C_0717_jpg.rf.131595163f692d4b4046562a81b0869c.jpg  \n",
      " extracting: ./datasets/test/images/08_21C_0730_jpg.rf.040eaabfd24bac3367779ed93036a73a.jpg  \n",
      " extracting: ./datasets/test/images/08_21C_0734_jpg.rf.4ec0d24420d2298742afe6129a8cba5e.jpg  \n",
      " extracting: ./datasets/test/images/08_21C_0735_jpg.rf.2552269acc0791770cb07fce3fd4236c.jpg  \n",
      " extracting: ./datasets/test/images/08_21C_0739_jpg.rf.c3e5f12eaf158ab22b65b2393699621b.jpg  \n",
      " extracting: ./datasets/test/images/08_21C_0744_jpg.rf.2ae92b612b057aaa3629658de4078ad1.jpg  \n",
      " extracting: ./datasets/test/images/08_21C_0762_jpg.rf.0cd1d30324682094dfbeaae647eab414.jpg  \n",
      " extracting: ./datasets/test/images/08_21C_0769_jpg.rf.0c531a2cc9604f58208b1f6ead7aa93d.jpg  \n",
      " extracting: ./datasets/test/images/08_21C_0776_jpg.rf.6fa926651a434b10d62c080d3054920f.jpg  \n",
      " extracting: ./datasets/test/images/08_21C_0778_jpg.rf.302b6026329943da73668fa4fa7dd8d5.jpg  \n",
      " extracting: ./datasets/test/images/08_21C_0782_jpg.rf.d28e7cac0f1f8f53de82a0af6e91c980.jpg  \n",
      " extracting: ./datasets/test/images/08_21C_0793_jpg.rf.63174aaf914083e288d6f3ad7d293c8f.jpg  \n",
      " extracting: ./datasets/test/images/08_21C_0798_jpg.rf.0696378a23fb3d64524515fefa5332fa.jpg  \n",
      " extracting: ./datasets/test/images/08_21C_0806_jpg.rf.f4a72403751495db58b394524d7f5e0e.jpg  \n",
      " extracting: ./datasets/test/images/08_21C_0811_jpg.rf.f9c55f533716b79d5d862c9d36c2ceab.jpg  \n",
      " extracting: ./datasets/test/images/08_21C_0825_jpg.rf.1b6e9500c4c67a1a85879b1e26bf21ba.jpg  \n",
      " extracting: ./datasets/test/images/08_21C_0834_jpg.rf.d3042b4f96765a9410043291a3226d69.jpg  \n",
      "   creating: ./datasets/test/labels/\n",
      "  inflating: ./datasets/test/labels/08_21A_0007_jpg.rf.9e8959e1a1730f1c5c940d000b3d416c.txt  \n",
      "  inflating: ./datasets/test/labels/08_21A_0008_jpg.rf.2dd16a0099bef3498fc559918545a9bd.txt  \n",
      "  inflating: ./datasets/test/labels/08_21A_0022_jpg.rf.fe9e24fff670ceb0338b20bd49351eda.txt  \n",
      "  inflating: ./datasets/test/labels/08_21A_0088_jpg.rf.822feee76db82a3f805ca5dfd2a4f19c.txt  \n",
      "  inflating: ./datasets/test/labels/08_21A_0094_jpg.rf.a5531cbdea0edf4beed5afa3b72bedea.txt  \n",
      "  inflating: ./datasets/test/labels/08_21C_0004_jpg.rf.51fec309b2cb41d8273f9b4bc80ba051.txt  \n",
      "  inflating: ./datasets/test/labels/08_21C_0004_jpg.rf.9df8e5eb9176733dcb8a9623f1a25ac5.txt  \n",
      "  inflating: ./datasets/test/labels/08_21C_0005_jpg.rf.e26d2095b3e207f9ce55adc3e29e6d84.txt  \n",
      "  inflating: ./datasets/test/labels/08_21C_0010_jpg.rf.6b7a4786507ee23fba435ba56af13b90.txt  \n",
      "  inflating: ./datasets/test/labels/08_21C_0013_jpg.rf.5726d7a2f900c12c6a6377aa283755bb.txt  \n",
      "  inflating: ./datasets/test/labels/08_21C_0051_jpg.rf.5bf2e8e379d4524084b13f1cad8b7fb3.txt  \n",
      "  inflating: ./datasets/test/labels/08_21C_0051_jpg.rf.ce78fb5e033a5631316ea9336aa50425.txt  \n",
      "  inflating: ./datasets/test/labels/08_21C_0052_jpg.rf.1caddc1a94b84bff2341763b6abb7461.txt  \n",
      "  inflating: ./datasets/test/labels/08_21C_0062_jpg.rf.fd81446785199f70237643c933e2c786.txt  \n",
      "  inflating: ./datasets/test/labels/08_21C_0063_jpg.rf.7946e55aa2db25430cfb646a9abb5b0a.txt  \n",
      "  inflating: ./datasets/test/labels/08_21C_0064_jpg.rf.95e932a60feeb21994c15c995fb025eb.txt  \n",
      "  inflating: ./datasets/test/labels/08_21C_0067_jpg.rf.ce2f698f2bd6c746887c141483e60cfa.txt  \n",
      "  inflating: ./datasets/test/labels/08_21C_0074_jpg.rf.ad046fe3bcafbd855bab8f89b3b1a26a.txt  \n",
      "  inflating: ./datasets/test/labels/08_21C_0096_jpg.rf.1420f3d9590ba9d1863ca04758b212a7.txt  \n",
      "  inflating: ./datasets/test/labels/08_21C_0099_jpg.rf.48f70b2885c18035d4d3bdf531444eb3.txt  \n",
      "  inflating: ./datasets/test/labels/08_21C_0107_jpg.rf.78a7d6f0c4343fad2c896af612b6b2fc.txt  \n",
      "  inflating: ./datasets/test/labels/08_21C_0112_jpg.rf.8ce872631b086c78d54904dc38c56896.txt  \n",
      "  inflating: ./datasets/test/labels/08_21C_0118_jpg.rf.f2370194be223330f9b6e3448b08dc6c.txt  \n",
      "  inflating: ./datasets/test/labels/08_21C_0129_jpg.rf.cc046cb9a63d9c0f03da8dbf330fc424.txt  \n",
      "  inflating: ./datasets/test/labels/08_21C_0132_jpg.rf.56c2d12dd15957f8206f304b02f1f034.txt  \n",
      "  inflating: ./datasets/test/labels/08_21C_0133_jpg.rf.8d22d936927ecec325f85f81174f10ea.txt  \n",
      "  inflating: ./datasets/test/labels/08_21C_0135_jpg.rf.658a256ff04670549d9191169e2cfaba.txt  \n",
      "  inflating: ./datasets/test/labels/08_21C_0138_jpg.rf.4a79f7ab3d7895754b34737b5e5ccec7.txt  \n",
      "  inflating: ./datasets/test/labels/08_21C_0140_jpg.rf.538783c535480e305dbf1e9cfff406e7.txt  \n",
      "  inflating: ./datasets/test/labels/08_21C_0146_jpg.rf.56fe201cb421adb20820d64ecbd84aaa.txt  \n",
      "  inflating: ./datasets/test/labels/08_21C_0146_jpg.rf.7b5b86974b9590b449aa0cc5340de95b.txt  \n",
      "  inflating: ./datasets/test/labels/08_21C_0147_jpg.rf.769be49091843a91b57b7121cb038f05.txt  \n",
      "  inflating: ./datasets/test/labels/08_21C_0148_jpg.rf.e0cab757ce88fbea0a329ac4fe7d5582.txt  \n",
      "  inflating: ./datasets/test/labels/08_21C_0149_jpg.rf.8df4103df74acc80c0d6896d8333b0aa.txt  \n",
      "  inflating: ./datasets/test/labels/08_21C_0149_jpg.rf.9ff6cde98ab1de0bc745538aefb49a7c.txt  \n",
      "  inflating: ./datasets/test/labels/08_21C_0157_jpg.rf.977f2719739e1519cceb1ed7de797b4f.txt  \n",
      "  inflating: ./datasets/test/labels/08_21C_0166_jpg.rf.dee33ac6a37d7061b1b1ca863c445a58.txt  \n",
      "  inflating: ./datasets/test/labels/08_21C_0172_jpg.rf.c95a34609049ea036b6da34320c9d7c5.txt  \n",
      "  inflating: ./datasets/test/labels/08_21C_0178_jpg.rf.3e72b69f7a39334eaf888adc074f6e15.txt  \n",
      "  inflating: ./datasets/test/labels/08_21C_0189_jpg.rf.0387aedac1d9834fc89ef402f5679eee.txt  \n",
      "  inflating: ./datasets/test/labels/08_21C_0192_jpg.rf.105e86e69b73241f48eb3ff6a5d7ca01.txt  \n",
      "  inflating: ./datasets/test/labels/08_21C_0196_jpg.rf.64b118a7e72512e3effa8398938ecdcc.txt  \n",
      "  inflating: ./datasets/test/labels/08_21C_0201_jpg.rf.802d2529b4f5e12d1c35f5ce4d138689.txt  \n",
      "  inflating: ./datasets/test/labels/08_21C_0202_jpg.rf.b89118c0fb580c6600a6f964000e739e.txt  \n",
      "  inflating: ./datasets/test/labels/08_21C_0204_jpg.rf.68283d6ae2619f3c2d3a8eb8a24c35c6.txt  \n",
      "  inflating: ./datasets/test/labels/08_21C_0207_jpg.rf.782fb1ee5dc9bf2458f927bce25dc59b.txt  \n",
      "  inflating: ./datasets/test/labels/08_21C_0209_jpg.rf.2c37b0de7f1c95f962b11000aef81be8.txt  \n",
      "  inflating: ./datasets/test/labels/08_21C_0211_jpg.rf.47b3d3dbf36d28a1deabaec700152c36.txt  \n",
      "  inflating: ./datasets/test/labels/08_21C_0216_jpg.rf.195c83f1d404c52bc5c78c731224aa04.txt  \n",
      "  inflating: ./datasets/test/labels/08_21C_0222_jpg.rf.12cca1c855ff05887ac9ee34af185ce2.txt  \n",
      "  inflating: ./datasets/test/labels/08_21C_0223_jpg.rf.da2e558cee2c932f09acad09fa1fca6a.txt  \n",
      "  inflating: ./datasets/test/labels/08_21C_0224_jpg.rf.de50af06a40ed15e14cbc89ad2333ffe.txt  \n",
      "  inflating: ./datasets/test/labels/08_21C_0226_jpg.rf.da8d5ee22b5c9408896f77592a6638cf.txt  \n",
      "  inflating: ./datasets/test/labels/08_21C_0227_jpg.rf.fee6ca3a7637a983f9d7b95516f53885.txt  \n",
      "  inflating: ./datasets/test/labels/08_21C_0228_jpg.rf.cc934e4c0c7bf9e442032cc873cfd545.txt  \n",
      "  inflating: ./datasets/test/labels/08_21C_0230_jpg.rf.dd1bbfce77f81e67b260f3f174bebc53.txt  \n",
      "  inflating: ./datasets/test/labels/08_21C_0234_jpg.rf.674e9e2dde4f363087703838503fd661.txt  \n",
      "  inflating: ./datasets/test/labels/08_21C_0236_jpg.rf.f039dce9264407175c92a4bf25a9a611.txt  \n",
      "  inflating: ./datasets/test/labels/08_21C_0241_jpg.rf.26e5c909f89cf9107d995168f5dc3ce2.txt  \n",
      "  inflating: ./datasets/test/labels/08_21C_0242_jpg.rf.931a8142ec02369c1abb882027ca0b1e.txt  \n",
      "  inflating: ./datasets/test/labels/08_21C_0244_jpg.rf.85d9d3841cb48ee7170178ad1c8f55b8.txt  \n",
      "  inflating: ./datasets/test/labels/08_21C_0247_jpg.rf.fa9e8af7c41acfdf7ba8888237dc448c.txt  \n",
      "  inflating: ./datasets/test/labels/08_21C_0249_jpg.rf.6a3586cb1d85e8215df8e26e5d146229.txt  \n",
      "  inflating: ./datasets/test/labels/08_21C_0251_jpg.rf.cfcb79ca899b63425bd19ed897a3d0f7.txt  \n",
      "  inflating: ./datasets/test/labels/08_21C_0257_jpg.rf.48ec9ad4bca01b587ff626ea9db655bc.txt  \n",
      "  inflating: ./datasets/test/labels/08_21C_0261_jpg.rf.35b41830425006761981f5505156890d.txt  \n",
      "  inflating: ./datasets/test/labels/08_21C_0261_jpg.rf.c0f55b6b0fb02e6d8701e0633fda1d67.txt  \n",
      "  inflating: ./datasets/test/labels/08_21C_0274_jpg.rf.def3a53e6a97a7fa40abe9bf65c25f9d.txt  \n",
      "  inflating: ./datasets/test/labels/08_21C_0278_jpg.rf.1f9ed7701c4b1fca0c6be98c7aad5cd1.txt  \n",
      "  inflating: ./datasets/test/labels/08_21C_0287_jpg.rf.505d1f632b3899a1e2e8b66649da0a5d.txt  \n",
      "  inflating: ./datasets/test/labels/08_21C_0288_jpg.rf.49d7d3df17731fcd4b05a531287285b3.txt  \n",
      "  inflating: ./datasets/test/labels/08_21C_0293_jpg.rf.8a345ccd7cd285c861db488322534fdd.txt  \n",
      "  inflating: ./datasets/test/labels/08_21C_0298_jpg.rf.7c2ed622e9000445e78fd96a5dcd4220.txt  \n",
      "  inflating: ./datasets/test/labels/08_21C_0303_jpg.rf.d234b05286af94f40670c209a3a79784.txt  \n",
      "  inflating: ./datasets/test/labels/08_21C_0318_jpg.rf.45c006b31061dfd08c333d2f65e276b3.txt  \n",
      "  inflating: ./datasets/test/labels/08_21C_0318_jpg.rf.9945e14af19a4db196749bf9ddd4b796.txt  \n",
      "  inflating: ./datasets/test/labels/08_21C_0319_jpg.rf.c05df3f585504e140eb085ed7507e30f.txt  \n",
      "  inflating: ./datasets/test/labels/08_21C_0319_jpg.rf.d7c350369f3345d84e50c7ff48edc939.txt  \n",
      "  inflating: ./datasets/test/labels/08_21C_0324_jpg.rf.c5e055a59bb6956188f7a13ac0b51b22.txt  \n",
      "  inflating: ./datasets/test/labels/08_21C_0326_jpg.rf.b02bb0f92eedfbc8055626be8a331d23.txt  \n",
      "  inflating: ./datasets/test/labels/08_21C_0333_jpg.rf.e34bad38b8cb205965454b5c2bc41df8.txt  \n",
      "  inflating: ./datasets/test/labels/08_21C_0336_jpg.rf.28a246b55f0ccbfa3717529968f10721.txt  \n",
      "  inflating: ./datasets/test/labels/08_21C_0352_jpg.rf.1cbbfe798977f6066a88efa07d8cf786.txt  \n",
      "  inflating: ./datasets/test/labels/08_21C_0363_jpg.rf.e756dda252deccae65c93eb323c9fd8b.txt  \n",
      "  inflating: ./datasets/test/labels/08_21C_0370_jpg.rf.bc15359df1420e2a644ea7dcaecbdcbb.txt  \n",
      "  inflating: ./datasets/test/labels/08_21C_0373_jpg.rf.13dc3ae13587bcf4810711134fb486ac.txt  \n",
      "  inflating: ./datasets/test/labels/08_21C_0385_jpg.rf.c8f0a4e2600275ef707e79522c619ae9.txt  \n",
      "  inflating: ./datasets/test/labels/08_21C_0399_jpg.rf.6e9d6191892bf748ddf0f3083c6e7483.txt  \n",
      "  inflating: ./datasets/test/labels/08_21C_0405_jpg.rf.3e4099258afdfe30f5d452f57e82886e.txt  \n",
      "  inflating: ./datasets/test/labels/08_21C_0413_jpg.rf.977793f9bab64da2349ec36381dc69e2.txt  \n",
      "  inflating: ./datasets/test/labels/08_21C_0435_jpg.rf.0eb4db27b0bbd2386cb3bea78af300e4.txt  \n",
      "  inflating: ./datasets/test/labels/08_21C_0441_jpg.rf.c09c2888084125d518f03cb237ba9a7f.txt  \n",
      "  inflating: ./datasets/test/labels/08_21C_0451_jpg.rf.253f93c2ad7546ae5644d0b590b17dde.txt  \n",
      "  inflating: ./datasets/test/labels/08_21C_0465_jpg.rf.c890c614f9bc47eeb8a345a9263174de.txt  \n",
      "  inflating: ./datasets/test/labels/08_21C_0466_jpg.rf.b94a390c91b04302950be0f7d6c799aa.txt  \n",
      "  inflating: ./datasets/test/labels/08_21C_0506_jpg.rf.531383bd051417b6b8c8f028fb26fe71.txt  \n",
      "  inflating: ./datasets/test/labels/08_21C_0525_jpg.rf.a713b85b1a47f96252de7becabb12cf3.txt  \n",
      "  inflating: ./datasets/test/labels/08_21C_0532_jpg.rf.53461fc9727a6751f3ddd0a9ab6343ac.txt  \n",
      "  inflating: ./datasets/test/labels/08_21C_0536_jpg.rf.594a66eedb3f05e399b347d4633e3d64.txt  \n",
      "  inflating: ./datasets/test/labels/08_21C_0539_jpg.rf.e7b13728012281caa7920ae7c2d857fa.txt  \n",
      "  inflating: ./datasets/test/labels/08_21C_0556_jpg.rf.ce4c79e798b6d039f68a6a5806d9122a.txt  \n",
      "  inflating: ./datasets/test/labels/08_21C_0579_jpg.rf.0dcfb1b950230842fa439ab3f9de18ed.txt  \n",
      "  inflating: ./datasets/test/labels/08_21C_0580_jpg.rf.237ba30162067e22f1f76c207205a6f2.txt  \n",
      "  inflating: ./datasets/test/labels/08_21C_0592_jpg.rf.2994f6087a8291abe5bf388e02673b05.txt  \n",
      "  inflating: ./datasets/test/labels/08_21C_0595_jpg.rf.9f1d87a72bc4982df1cac2f79bfc7f49.txt  \n",
      "  inflating: ./datasets/test/labels/08_21C_0602_jpg.rf.14b6793515156422f8109640b0c495a8.txt  \n",
      "  inflating: ./datasets/test/labels/08_21C_0609_jpg.rf.a745369e379e1db1b99226279afcb44a.txt  \n",
      "  inflating: ./datasets/test/labels/08_21C_0612_jpg.rf.bf512c1c1992ee80a1baa9820f7d220a.txt  \n",
      "  inflating: ./datasets/test/labels/08_21C_0614_jpg.rf.f44d143defaa7c937cfd6ed835cb9ae7.txt  \n",
      "  inflating: ./datasets/test/labels/08_21C_0635_jpg.rf.00318e8044851d167612f168895470b7.txt  \n",
      "  inflating: ./datasets/test/labels/08_21C_0653_jpg.rf.3d1920e2ae72ee9e8049c025aa812d31.txt  \n",
      "  inflating: ./datasets/test/labels/08_21C_0665_jpg.rf.afafdb157e930f939464bffe7b14eb73.txt  \n",
      "  inflating: ./datasets/test/labels/08_21C_0682_jpg.rf.d7b41e45ec6ba84443bc3cbeddde2f02.txt  \n",
      "  inflating: ./datasets/test/labels/08_21C_0717_jpg.rf.131595163f692d4b4046562a81b0869c.txt  \n",
      "  inflating: ./datasets/test/labels/08_21C_0730_jpg.rf.040eaabfd24bac3367779ed93036a73a.txt  \n",
      "  inflating: ./datasets/test/labels/08_21C_0734_jpg.rf.4ec0d24420d2298742afe6129a8cba5e.txt  \n",
      "  inflating: ./datasets/test/labels/08_21C_0735_jpg.rf.2552269acc0791770cb07fce3fd4236c.txt  \n",
      "  inflating: ./datasets/test/labels/08_21C_0739_jpg.rf.c3e5f12eaf158ab22b65b2393699621b.txt  \n",
      "  inflating: ./datasets/test/labels/08_21C_0744_jpg.rf.2ae92b612b057aaa3629658de4078ad1.txt  \n",
      "  inflating: ./datasets/test/labels/08_21C_0762_jpg.rf.0cd1d30324682094dfbeaae647eab414.txt  \n",
      "  inflating: ./datasets/test/labels/08_21C_0769_jpg.rf.0c531a2cc9604f58208b1f6ead7aa93d.txt  \n",
      "  inflating: ./datasets/test/labels/08_21C_0776_jpg.rf.6fa926651a434b10d62c080d3054920f.txt  \n",
      "  inflating: ./datasets/test/labels/08_21C_0778_jpg.rf.302b6026329943da73668fa4fa7dd8d5.txt  \n",
      "  inflating: ./datasets/test/labels/08_21C_0782_jpg.rf.d28e7cac0f1f8f53de82a0af6e91c980.txt  \n",
      "  inflating: ./datasets/test/labels/08_21C_0793_jpg.rf.63174aaf914083e288d6f3ad7d293c8f.txt  \n",
      "  inflating: ./datasets/test/labels/08_21C_0798_jpg.rf.0696378a23fb3d64524515fefa5332fa.txt  \n",
      "  inflating: ./datasets/test/labels/08_21C_0806_jpg.rf.f4a72403751495db58b394524d7f5e0e.txt  \n",
      "  inflating: ./datasets/test/labels/08_21C_0811_jpg.rf.f9c55f533716b79d5d862c9d36c2ceab.txt  \n",
      "  inflating: ./datasets/test/labels/08_21C_0825_jpg.rf.1b6e9500c4c67a1a85879b1e26bf21ba.txt  \n",
      "  inflating: ./datasets/test/labels/08_21C_0834_jpg.rf.d3042b4f96765a9410043291a3226d69.txt  \n",
      "   creating: ./datasets/train/\n",
      "   creating: ./datasets/train/images/\n",
      " extracting: ./datasets/train/images/08_21A_0003_jpg.rf.a7cdf23693e090c1fc7d1f5fa3409f74.jpg  \n",
      " extracting: ./datasets/train/images/08_21A_0006_jpg.rf.93b63af46c944f982db7bd37c924bb76.jpg  \n",
      " extracting: ./datasets/train/images/08_21A_0009_jpg.rf.b5ee75af5d09c05ef8bb5606881f9e80.jpg  \n",
      " extracting: ./datasets/train/images/08_21A_0016_jpg.rf.2c6d7115590d9f938afea653ebd56127.jpg  \n",
      " extracting: ./datasets/train/images/08_21A_0017_jpg.rf.73a2ae6b7eaf15dc1375d67cce747753.jpg  \n",
      " extracting: ./datasets/train/images/08_21A_0020_jpg.rf.07b7e6cff691e463b01b06f2467cedd2.jpg  \n",
      " extracting: ./datasets/train/images/08_21A_0023_jpg.rf.4520026fd78184cef415892ab29d8353.jpg  \n",
      " extracting: ./datasets/train/images/08_21A_0024_jpg.rf.983a0ffe8f4af1530865539b6f598894.jpg  \n",
      " extracting: ./datasets/train/images/08_21A_0025_jpg.rf.5cc45e19c5a1a008dd5b66f39d00bb13.jpg  \n",
      " extracting: ./datasets/train/images/08_21A_0028_jpg.rf.e5c223d46c7541b201cd03d4c82fc05f.jpg  \n",
      " extracting: ./datasets/train/images/08_21A_0032_jpg.rf.7ffc92dd91878499f6e8c8d7ad227376.jpg  \n",
      " extracting: ./datasets/train/images/08_21A_0037_jpg.rf.132d45a7b44a8fd6bd327d96684873c7.jpg  \n",
      " extracting: ./datasets/train/images/08_21A_0038_jpg.rf.f5142e7a206acd8447f49530e6621af1.jpg  \n",
      " extracting: ./datasets/train/images/08_21A_0039_jpg.rf.b9aa5a31a6362e525de9e82a43f8b4bf.jpg  \n",
      " extracting: ./datasets/train/images/08_21A_0042_jpg.rf.fbe261356955fb670b51f4f6967e8ca8.jpg  \n",
      " extracting: ./datasets/train/images/08_21A_0043_jpg.rf.c4eb497aa24e5232eba0ab24df2ee5ab.jpg  \n",
      " extracting: ./datasets/train/images/08_21A_0044_jpg.rf.b119b05aeccc2bf767edc01700f9baab.jpg  \n",
      " extracting: ./datasets/train/images/08_21A_0045_jpg.rf.bbaccc71125412c7de4fcfc7dc5e8cfd.jpg  \n",
      " extracting: ./datasets/train/images/08_21A_0047_jpg.rf.b9b648f74d6bd67b4a0eecd4cba2fbf4.jpg  \n",
      " extracting: ./datasets/train/images/08_21A_0049_jpg.rf.47b6566105f00a5c0901b405d695568f.jpg  \n",
      " extracting: ./datasets/train/images/08_21A_0050_jpg.rf.4bf3b87ba93abced1c70a90498d9f0c5.jpg  \n",
      " extracting: ./datasets/train/images/08_21A_0051_jpg.rf.64c2ef22ff5ae268871f6ebc6636206f.jpg  \n",
      " extracting: ./datasets/train/images/08_21A_0055_jpg.rf.123bb95fc8c09d392c9574f461550034.jpg  \n",
      " extracting: ./datasets/train/images/08_21A_0058_jpg.rf.05682256e2237c2d496b064d5d4287bb.jpg  \n",
      " extracting: ./datasets/train/images/08_21A_0062_jpg.rf.ffcc85f412f88e6a054c64cfb3bf40a7.jpg  \n",
      " extracting: ./datasets/train/images/08_21A_0068_jpg.rf.de0f599b3a2ab417fab6888a44840acf.jpg  \n",
      " extracting: ./datasets/train/images/08_21A_0070_jpg.rf.b134bc0a3addc93fc089a1799351a239.jpg  \n",
      " extracting: ./datasets/train/images/08_21A_0071_jpg.rf.b081455831ab84924150d3df6b663e60.jpg  \n",
      " extracting: ./datasets/train/images/08_21A_0074_jpg.rf.3c1e3a22586c6244106e69ee2ab45937.jpg  \n",
      " extracting: ./datasets/train/images/08_21A_0075_jpg.rf.828e92a24ded0c2c623c879d4f4ebc2e.jpg  \n",
      " extracting: ./datasets/train/images/08_21A_0078_jpg.rf.0af9bc71121004c61fe571cdb100e3a6.jpg  \n",
      " extracting: ./datasets/train/images/08_21A_0079_jpg.rf.1f797d511c1b0accc77f830b9a45c221.jpg  \n",
      " extracting: ./datasets/train/images/08_21A_0080_jpg.rf.4143b366142e3037d48b0aea5197d647.jpg  \n",
      " extracting: ./datasets/train/images/08_21A_0081_jpg.rf.b1b28fafac04f0601ed2b93b8d8f38ba.jpg  \n",
      " extracting: ./datasets/train/images/08_21A_0085_jpg.rf.0cb5705f0146f711fb32de877086cc87.jpg  \n",
      " extracting: ./datasets/train/images/08_21A_0095_jpg.rf.a257a0e1e4ab18ba4c09d47f59aab2c1.jpg  \n",
      " extracting: ./datasets/train/images/08_21A_0098_jpg.rf.360b7902a272008342fb45442c82efda.jpg  \n",
      " extracting: ./datasets/train/images/08_21C_0000_jpg.rf.4583c67601d4afb267bc71aa61fd41cf.jpg  \n",
      " extracting: ./datasets/train/images/08_21C_0002_jpg.rf.710c4a3bd63db6fa7dc2e8639d25f524.jpg  \n",
      " extracting: ./datasets/train/images/08_21C_0002_jpg.rf.9f5b145d83366a8794aab4193b2f2552.jpg  \n",
      " extracting: ./datasets/train/images/08_21C_0003_jpg.rf.36dbac82ba04059950f95076b4a3519b.jpg  \n",
      " extracting: ./datasets/train/images/08_21C_0003_jpg.rf.aa770d767e9b4f753947de1279e315d3.jpg  \n",
      " extracting: ./datasets/train/images/08_21C_0005_jpg.rf.2840fe52b6a1bb9836cb4679b09493d4.jpg  \n",
      " extracting: ./datasets/train/images/08_21C_0006_jpg.rf.dbdeeda86b787a2c859ec9ebac7a4f51.jpg  \n",
      " extracting: ./datasets/train/images/08_21C_0006_jpg.rf.fe7842778b0eeb05dd1007d9fd7df3c1.jpg  \n",
      " extracting: ./datasets/train/images/08_21C_0007_jpg.rf.3d06b852d36d9a8e8a279843bab5f9a7.jpg  \n",
      " extracting: ./datasets/train/images/08_21C_0007_jpg.rf.588015a65a9930d81fc8b99f86259f7f.jpg  \n",
      " extracting: ./datasets/train/images/08_21C_0008_jpg.rf.4abd379d182ca71b201d81e47959db5b.jpg  \n",
      " extracting: ./datasets/train/images/08_21C_0008_jpg.rf.52d0e3b026ab3b913c6e722fd3919a2d.jpg  \n",
      " extracting: ./datasets/train/images/08_21C_0009_jpg.rf.9f8e06cdc1d3b73e2fb9376d2cf1db79.jpg  \n",
      " extracting: ./datasets/train/images/08_21C_0010_jpg.rf.e5e4eeb303de0755326d30da20df33dd.jpg  \n",
      " extracting: ./datasets/train/images/08_21C_0011_jpg.rf.0b10ee31d7554d7213bf8d181b3e9bea.jpg  \n",
      " extracting: ./datasets/train/images/08_21C_0012_jpg.rf.123c709aa73aedbe45b79c150efcb8e6.jpg  \n",
      " extracting: ./datasets/train/images/08_21C_0014_jpg.rf.ef85fe6bd8a96fbcbb849a2db25645d3.jpg  \n",
      " extracting: ./datasets/train/images/08_21C_0015_jpg.rf.647c8a69f13c1b858aec559555d26d9f.jpg  \n",
      " extracting: ./datasets/train/images/08_21C_0017_jpg.rf.e78a5d27b5c5fbdfd2955d01803d38b1.jpg  \n",
      " extracting: ./datasets/train/images/08_21C_0018_jpg.rf.85a2288c6e420ee4f099a578a8945a29.jpg  \n",
      " extracting: ./datasets/train/images/08_21C_0019_jpg.rf.d82f8b46f39282139403713bfffeb51a.jpg  \n",
      " extracting: ./datasets/train/images/08_21C_0020_jpg.rf.70d0d4dd5fe731c653820d4b2077f63c.jpg  \n",
      " extracting: ./datasets/train/images/08_21C_0021_jpg.rf.b5c307a5defc4bb1f60f7b0803710eb0.jpg  \n",
      " extracting: ./datasets/train/images/08_21C_0022_jpg.rf.0d44d864acc7bf95dc49491ab2a9cb3b.jpg  \n",
      " extracting: ./datasets/train/images/08_21C_0023_jpg.rf.1c837c3d6790c08063c1ab3ad49d75c0.jpg  \n",
      " extracting: ./datasets/train/images/08_21C_0024_jpg.rf.da5c7ec580a79d2ca1effec5426ef0d9.jpg  \n",
      " extracting: ./datasets/train/images/08_21C_0026_jpg.rf.22c4432de03326fdf3b19ae2f68be027.jpg  \n",
      " extracting: ./datasets/train/images/08_21C_0027_jpg.rf.9dfaec4c3c7befe0d62f8794fd361d0f.jpg  \n",
      " extracting: ./datasets/train/images/08_21C_0028_jpg.rf.d10d61044349e29d8dae98f2f99ff832.jpg  \n",
      " extracting: ./datasets/train/images/08_21C_0029_jpg.rf.5144973f5a9d540224c8875528b6e6b5.jpg  \n",
      " extracting: ./datasets/train/images/08_21C_0030_jpg.rf.9c48cf45153c14073ce762f96c2dd978.jpg  \n",
      " extracting: ./datasets/train/images/08_21C_0031_jpg.rf.53818da2bbe54da9a75ab908d5ce8a4b.jpg  \n",
      " extracting: ./datasets/train/images/08_21C_0032_jpg.rf.f5f9d6510bd6d2b119ed8a4f839de100.jpg  \n",
      " extracting: ./datasets/train/images/08_21C_0033_jpg.rf.1609f873074ba99298bd8ad57548454a.jpg  \n",
      " extracting: ./datasets/train/images/08_21C_0034_jpg.rf.c7bc36d12368066926dc0ef0a16fcc71.jpg  \n",
      " extracting: ./datasets/train/images/08_21C_0036_jpg.rf.9e2fc85ae2cd1ca2d511acf950bd12af.jpg  \n",
      " extracting: ./datasets/train/images/08_21C_0036_jpg.rf.c1563867a7c5fe3b93fbabbdf1f2685a.jpg  \n",
      " extracting: ./datasets/train/images/08_21C_0039_jpg.rf.4f7f8db468f1743ab0be60efa158dda6.jpg  \n",
      " extracting: ./datasets/train/images/08_21C_0039_jpg.rf.7574b219ac5cea9ca1966ccb50747961.jpg  \n",
      " extracting: ./datasets/train/images/08_21C_0040_jpg.rf.42f6a161860f9af957c81f8d47daa51f.jpg  \n",
      " extracting: ./datasets/train/images/08_21C_0041_jpg.rf.ad0e7f904fe9316f938d38233ee83c5c.jpg  \n",
      " extracting: ./datasets/train/images/08_21C_0042_jpg.rf.af015d8bc5a8632047693f0d26dd8913.jpg  \n",
      " extracting: ./datasets/train/images/08_21C_0043_jpg.rf.2db36800613f632e8f97af94cdb32c16.jpg  \n",
      " extracting: ./datasets/train/images/08_21C_0043_jpg.rf.5c7988d1e194f6a0fca68e0b7a29f12d.jpg  \n",
      " extracting: ./datasets/train/images/08_21C_0044_jpg.rf.8afb21774a119b3329551413f25d8d39.jpg  \n",
      " extracting: ./datasets/train/images/08_21C_0044_jpg.rf.b41367d62c8d9a3f0ba0af32d656fd4f.jpg  \n",
      " extracting: ./datasets/train/images/08_21C_0045_jpg.rf.13cad718a6a4955d6dd58f2c35d68bbc.jpg  \n",
      " extracting: ./datasets/train/images/08_21C_0046_jpg.rf.8c2c0771ccfb2481cfc3e68ee72c5543.jpg  \n",
      " extracting: ./datasets/train/images/08_21C_0047_jpg.rf.81167877c86847655155c3c6feeb0895.jpg  \n",
      " extracting: ./datasets/train/images/08_21C_0047_jpg.rf.d452292e903c40deba9a63d41151987e.jpg  \n",
      " extracting: ./datasets/train/images/08_21C_0048_jpg.rf.42c6b2f4c8a2d73d2c81f1333dd4a0d3.jpg  \n",
      " extracting: ./datasets/train/images/08_21C_0049_jpg.rf.4d08fdd395a541d5f433f21ff0006df5.jpg  \n",
      " extracting: ./datasets/train/images/08_21C_0050_jpg.rf.4348d5cc4d32de8bbbab1976af2b39fb.jpg  \n",
      " extracting: ./datasets/train/images/08_21C_0054_jpg.rf.c58bc52dbdad7d136a0e5599799186ba.jpg  \n",
      " extracting: ./datasets/train/images/08_21C_0055_jpg.rf.05be6eec0f2b36896fc14bcf548d883a.jpg  \n",
      " extracting: ./datasets/train/images/08_21C_0055_jpg.rf.a521ef932f7298cde3479030cf642d82.jpg  \n",
      " extracting: ./datasets/train/images/08_21C_0057_jpg.rf.8811632ef32ac63bfd76c15b3efdb6c7.jpg  \n",
      " extracting: ./datasets/train/images/08_21C_0058_jpg.rf.8b3fe7ed0936e242a8a2f618410591b3.jpg  \n",
      " extracting: ./datasets/train/images/08_21C_0059_jpg.rf.eacbe06ad4e14ff39338beb663b1f438.jpg  \n",
      " extracting: ./datasets/train/images/08_21C_0060_jpg.rf.024c16b30b6a4c706f6515c2f0d639e1.jpg  \n",
      " extracting: ./datasets/train/images/08_21C_0060_jpg.rf.f9acde7def9cd7708810ecc735b55c59.jpg  \n",
      " extracting: ./datasets/train/images/08_21C_0061_jpg.rf.169e44b2f365f4d7e89972a8b01c98a4.jpg  \n",
      " extracting: ./datasets/train/images/08_21C_0065_jpg.rf.719f379dd13cd35b49ac77df080d702c.jpg  \n",
      " extracting: ./datasets/train/images/08_21C_0066_jpg.rf.407d22a3a14ca642811b71a3168513fe.jpg  \n",
      " extracting: ./datasets/train/images/08_21C_0066_jpg.rf.f28535b09c11f1cbb0160ba1ec04a1e6.jpg  \n",
      " extracting: ./datasets/train/images/08_21C_0068_jpg.rf.26ecc4567371a34e33bed5a65cddcb20.jpg  \n",
      " extracting: ./datasets/train/images/08_21C_0069_jpg.rf.7a044b38f84695df329058af0478a084.jpg  \n",
      " extracting: ./datasets/train/images/08_21C_0070_jpg.rf.bac01fb0646f66c580b86cd61a518f04.jpg  \n",
      " extracting: ./datasets/train/images/08_21C_0072_jpg.rf.8446af8dd745211513b9162ef6b1b2dc.jpg  \n",
      " extracting: ./datasets/train/images/08_21C_0073_jpg.rf.7b7b6c1fbc6851ff7b26e9216014a860.jpg  \n",
      " extracting: ./datasets/train/images/08_21C_0073_jpg.rf.ef0860129af0f7e0bdfba18805a70d0f.jpg  \n",
      " extracting: ./datasets/train/images/08_21C_0075_jpg.rf.ad79cf4e1122c0b599cdf644b1ac0914.jpg  \n",
      " extracting: ./datasets/train/images/08_21C_0075_jpg.rf.de75c98e7b1e3765ff7dec81477ac549.jpg  \n",
      " extracting: ./datasets/train/images/08_21C_0076_jpg.rf.16be4b8797620ba0528ba658cde32b43.jpg  \n",
      " extracting: ./datasets/train/images/08_21C_0076_jpg.rf.272d7047c2f78fb40628ab705d9d5063.jpg  \n",
      " extracting: ./datasets/train/images/08_21C_0077_jpg.rf.0d55b88397dd414d6159947c5b914478.jpg  \n",
      " extracting: ./datasets/train/images/08_21C_0077_jpg.rf.aeae6707b0f63eed978887180f54d971.jpg  \n",
      " extracting: ./datasets/train/images/08_21C_0078_jpg.rf.10417080b0f71a3701003776747604bd.jpg  \n",
      " extracting: ./datasets/train/images/08_21C_0078_jpg.rf.840967b6c0c7122ee621375f5f0db416.jpg  \n",
      " extracting: ./datasets/train/images/08_21C_0080_jpg.rf.4dcc93e7c83a2fd76878fa87872cc325.jpg  \n",
      " extracting: ./datasets/train/images/08_21C_0081_jpg.rf.2df3502e355d18a4f19053f80a631218.jpg  \n",
      " extracting: ./datasets/train/images/08_21C_0082_jpg.rf.d4e0a410acb144d6ef93d99d400d9d4d.jpg  \n",
      " extracting: ./datasets/train/images/08_21C_0082_jpg.rf.e04f5eda8180b3a93998ca83fd3e78d5.jpg  \n",
      " extracting: ./datasets/train/images/08_21C_0083_jpg.rf.7f238b1312c78898c21fdde691db9623.jpg  \n",
      " extracting: ./datasets/train/images/08_21C_0084_jpg.rf.3948c594938499331ab535ae861e5878.jpg  \n",
      " extracting: ./datasets/train/images/08_21C_0084_jpg.rf.dd36d083aa754ce0296d410b4543f295.jpg  \n",
      " extracting: ./datasets/train/images/08_21C_0085_jpg.rf.f2c82929638c3b61d11d38b53cf2abc7.jpg  \n",
      " extracting: ./datasets/train/images/08_21C_0086_jpg.rf.222d6022f403011cfbabfe18e6ee5c2d.jpg  \n",
      " extracting: ./datasets/train/images/08_21C_0087_jpg.rf.245ee32c7bf08e0003eecb50b2c29c75.jpg  \n",
      " extracting: ./datasets/train/images/08_21C_0088_jpg.rf.3296a26976cf806656a88a8bd7d2a091.jpg  \n",
      " extracting: ./datasets/train/images/08_21C_0089_jpg.rf.2a31ad5de71477b1fa878985ebd4fcb4.jpg  \n",
      " extracting: ./datasets/train/images/08_21C_0090_jpg.rf.5aa78f0929ee8104ddb04cf8715c02e5.jpg  \n",
      " extracting: ./datasets/train/images/08_21C_0091_jpg.rf.149720f0abbf676e3ba211e2d6e1f90b.jpg  \n",
      " extracting: ./datasets/train/images/08_21C_0091_jpg.rf.bd3393a0f03a8eb8ef7c03e893249f3f.jpg  \n",
      " extracting: ./datasets/train/images/08_21C_0092_jpg.rf.2af9f86cc3f04edcb3b69ae7ceddb067.jpg  \n",
      " extracting: ./datasets/train/images/08_21C_0092_jpg.rf.942a9a3bb344410c7a52c93e965c79f6.jpg  \n",
      " extracting: ./datasets/train/images/08_21C_0093_jpg.rf.393e908084e6dc023677b26a6282331c.jpg  \n",
      " extracting: ./datasets/train/images/08_21C_0094_jpg.rf.21520b39750b084011c731e540ab39af.jpg  \n",
      " extracting: ./datasets/train/images/08_21C_0095_jpg.rf.6b81fda77f02b973c1ed5641abe4932b.jpg  \n",
      " extracting: ./datasets/train/images/08_21C_0095_jpg.rf.f93ae2ea4b456611e11c47ac83451892.jpg  \n",
      " extracting: ./datasets/train/images/08_21C_0096_jpg.rf.e61843db785335f71401268b911ad34a.jpg  \n",
      " extracting: ./datasets/train/images/08_21C_0099_jpg.rf.6da2ccbb630eb45efd5d3ff9a23adf4a.jpg  \n",
      " extracting: ./datasets/train/images/08_21C_0100_jpg.rf.bc61cdccdc852f1c5224bb7a6adf67d5.jpg  \n",
      " extracting: ./datasets/train/images/08_21C_0104_jpg.rf.2fa54459f2539c1f9b49174a99e4984c.jpg  \n",
      " extracting: ./datasets/train/images/08_21C_0104_jpg.rf.8804e32ee1d47c5bd24386c520a24493.jpg  \n",
      " extracting: ./datasets/train/images/08_21C_0105_jpg.rf.88986af9eee08ffd6d7d84347147488d.jpg  \n",
      " extracting: ./datasets/train/images/08_21C_0106_jpg.rf.cfb230fbac620650ab5addbeac815e56.jpg  \n",
      " extracting: ./datasets/train/images/08_21C_0107_jpg.rf.830fcc9376142d59065c2d182c020086.jpg  \n",
      " extracting: ./datasets/train/images/08_21C_0107_jpg.rf.93ac21a9ec92729fb814acd9c2f2bf0c.jpg  \n",
      " extracting: ./datasets/train/images/08_21C_0108_jpg.rf.018165bc41bd7c5fe5b845b109026197.jpg  \n",
      " extracting: ./datasets/train/images/08_21C_0109_jpg.rf.ca5d87fc36b71bb68effbcc598638cc9.jpg  \n",
      " extracting: ./datasets/train/images/08_21C_0110_jpg.rf.9fe52730536b983fe101daf7a2904a5a.jpg  \n",
      " extracting: ./datasets/train/images/08_21C_0110_jpg.rf.da462745218108bdcd7ddbe38074667f.jpg  \n",
      " extracting: ./datasets/train/images/08_21C_0111_jpg.rf.21089e760dafae808348364e32d47d6e.jpg  \n",
      " extracting: ./datasets/train/images/08_21C_0111_jpg.rf.521085264c97dabd9cebbe59cacea2f6.jpg  \n",
      " extracting: ./datasets/train/images/08_21C_0112_jpg.rf.4a73f9b6a2027030c500755167537374.jpg  \n",
      " extracting: ./datasets/train/images/08_21C_0112_jpg.rf.7c11c3fd49c7bf9320d2f2b1b0938731.jpg  \n",
      " extracting: ./datasets/train/images/08_21C_0113_jpg.rf.65657d76f55a276e82bbf98ee973e34a.jpg  \n",
      " extracting: ./datasets/train/images/08_21C_0113_jpg.rf.67af0fb5c89c4a009a1b9a41cecaef56.jpg  \n",
      " extracting: ./datasets/train/images/08_21C_0113_jpg.rf.91aeaffba3c54da20ee98397296a4390.jpg  \n",
      " extracting: ./datasets/train/images/08_21C_0114_jpg.rf.4881e28a1610c5d82856139e677c8b0d.jpg  \n",
      " extracting: ./datasets/train/images/08_21C_0114_jpg.rf.aa0ac4c7248e28e265098cffe7787f83.jpg  \n",
      " extracting: ./datasets/train/images/08_21C_0115_jpg.rf.b2615017f89134f259ebc74441a609ad.jpg  \n",
      " extracting: ./datasets/train/images/08_21C_0115_jpg.rf.b979aca80d635fbe66e699023c80ab79.jpg  \n",
      " extracting: ./datasets/train/images/08_21C_0116_jpg.rf.6b0da7980cf5c251629f02eb4c3f5c3b.jpg  \n",
      " extracting: ./datasets/train/images/08_21C_0116_jpg.rf.f41d0d078b1fe885b648b275da40dab4.jpg  \n",
      " extracting: ./datasets/train/images/08_21C_0117_jpg.rf.38bb3ce48394d9b2e26854b4f757e41b.jpg  \n",
      " extracting: ./datasets/train/images/08_21C_0117_jpg.rf.9ce7f65959698f1b9e6a782dea2b791e.jpg  \n",
      " extracting: ./datasets/train/images/08_21C_0118_jpg.rf.5ceb905712e7cacab3f74f0cdc1b4e78.jpg  \n",
      " extracting: ./datasets/train/images/08_21C_0118_jpg.rf.c8dd98c4239b3bb651028e99b0079a49.jpg  \n",
      " extracting: ./datasets/train/images/08_21C_0119_jpg.rf.b28d52d92d3b86872ff545385e9aea15.jpg  \n",
      " extracting: ./datasets/train/images/08_21C_0119_jpg.rf.d06ac31688d5c46fed22d447122b6e73.jpg  \n",
      " extracting: ./datasets/train/images/08_21C_0120_jpg.rf.b1c1fd7bd764a864d78121bc821b9615.jpg  \n",
      " extracting: ./datasets/train/images/08_21C_0120_jpg.rf.ddc33cca81a72af1bed907cbf08fc084.jpg  \n",
      " extracting: ./datasets/train/images/08_21C_0121_jpg.rf.a7ff1359e283000aabed2352efd5d943.jpg  \n",
      " extracting: ./datasets/train/images/08_21C_0122_jpg.rf.3dbe0e608f3d470958daa07bb9addfcd.jpg  \n",
      " extracting: ./datasets/train/images/08_21C_0123_jpg.rf.184d0affdbed898e61eaf451d2729cdf.jpg  \n",
      " extracting: ./datasets/train/images/08_21C_0123_jpg.rf.c764df2d72b94041b2bdcc3961c8af92.jpg  \n",
      " extracting: ./datasets/train/images/08_21C_0124_jpg.rf.68f4048ec1a41229facc926f7786b042.jpg  \n",
      " extracting: ./datasets/train/images/08_21C_0126_jpg.rf.e9e25780ac69f7d9e3b0d6fb808ca71e.jpg  \n",
      " extracting: ./datasets/train/images/08_21C_0126_jpg.rf.f396d55c0b3fad80006e0a560a0519b6.jpg  \n",
      " extracting: ./datasets/train/images/08_21C_0127_jpg.rf.3d82210b104c9fa6052e4ecc96d86403.jpg  \n",
      " extracting: ./datasets/train/images/08_21C_0127_jpg.rf.625abba11ec2291d62174a430d2e109c.jpg  \n",
      " extracting: ./datasets/train/images/08_21C_0128_jpg.rf.c9479902b77d2ae3f5f42a818baa926e.jpg  \n",
      " extracting: ./datasets/train/images/08_21C_0129_jpg.rf.d3e3a533053158bccde01db157c8c554.jpg  \n",
      " extracting: ./datasets/train/images/08_21C_0130_jpg.rf.67b4c9f036890445407920f9e522b836.jpg  \n",
      " extracting: ./datasets/train/images/08_21C_0130_jpg.rf.ba6f5568e4233b961a06b31382952e9b.jpg  \n",
      " extracting: ./datasets/train/images/08_21C_0131_jpg.rf.6fc8cf3976b7de9da7e278d91e3dca55.jpg  \n",
      " extracting: ./datasets/train/images/08_21C_0132_jpg.rf.56439433a0d6cbcdd74268d0fbc1f27c.jpg  \n",
      " extracting: ./datasets/train/images/08_21C_0132_jpg.rf.ef57479160fc9a92851f2d6b62901cea.jpg  \n",
      " extracting: ./datasets/train/images/08_21C_0133_jpg.rf.51269e4263b9ea6f40a78074fbd33100.jpg  \n",
      " extracting: ./datasets/train/images/08_21C_0134_jpg.rf.fae18bd22126ea36101f79b8962f68b3.jpg  \n",
      " extracting: ./datasets/train/images/08_21C_0136_jpg.rf.3eaec581fb9bde441f0af4a8b341299b.jpg  \n",
      " extracting: ./datasets/train/images/08_21C_0136_jpg.rf.defe8e32b7993966e018f095548db5da.jpg  \n",
      " extracting: ./datasets/train/images/08_21C_0137_jpg.rf.2d70f8413ad430b560dffd8a61ef40d4.jpg  \n",
      " extracting: ./datasets/train/images/08_21C_0138_jpg.rf.183fb00f3a80a2b67e29fa0041ef2a9f.jpg  \n",
      " extracting: ./datasets/train/images/08_21C_0138_jpg.rf.df152488ba998464ed22c665e10c0800.jpg  \n",
      " extracting: ./datasets/train/images/08_21C_0139_jpg.rf.469cf6cda9a6a8d4e114d7e667395777.jpg  \n",
      " extracting: ./datasets/train/images/08_21C_0139_jpg.rf.9ee6640dc76497f2e88581fbeadbc3da.jpg  \n",
      " extracting: ./datasets/train/images/08_21C_0140_jpg.rf.0f9e111e332ac008de666ad9a8eb805d.jpg  \n",
      " extracting: ./datasets/train/images/08_21C_0140_jpg.rf.29382924e4e3605f8a5699bc6deb39e7.jpg  \n",
      " extracting: ./datasets/train/images/08_21C_0141_jpg.rf.bb4129e17ab7d084f80ccc4ece858049.jpg  \n",
      " extracting: ./datasets/train/images/08_21C_0141_jpg.rf.c2fb56a9de5f5ba255ec8d0bddec5256.jpg  \n",
      " extracting: ./datasets/train/images/08_21C_0141_jpg.rf.d226d118c76be61af1010e54bf135999.jpg  \n",
      " extracting: ./datasets/train/images/08_21C_0142_jpg.rf.0b935b031bd3936fda7a3937438d5996.jpg  \n",
      " extracting: ./datasets/train/images/08_21C_0142_jpg.rf.9370fd29091c1aa715c493f26fc9519c.jpg  \n",
      " extracting: ./datasets/train/images/08_21C_0142_jpg.rf.c157c425776ce52e25bc33a66edeaa07.jpg  \n",
      " extracting: ./datasets/train/images/08_21C_0143_jpg.rf.6ebf201751731bc53788238c7ae0673e.jpg  \n",
      " extracting: ./datasets/train/images/08_21C_0143_jpg.rf.9760073b4140cba49c83d173c497c864.jpg  \n",
      " extracting: ./datasets/train/images/08_21C_0144_jpg.rf.73bb69e51d47cfda4c141b89ac69a55d.jpg  \n",
      " extracting: ./datasets/train/images/08_21C_0144_jpg.rf.891671f871ca710bed49150366f3328a.jpg  \n",
      " extracting: ./datasets/train/images/08_21C_0144_jpg.rf.cbfb7c6e2bb757188166f52520837d29.jpg  \n",
      " extracting: ./datasets/train/images/08_21C_0145_jpg.rf.4511f58ee311b157a24bff1ef6484d30.jpg  \n",
      " extracting: ./datasets/train/images/08_21C_0146_jpg.rf.c024051b7c0a2e86b1cdb132a1023bbb.jpg  \n",
      " extracting: ./datasets/train/images/08_21C_0147_jpg.rf.41d5e3f71fab890b812a82dd80774814.jpg  \n",
      " extracting: ./datasets/train/images/08_21C_0147_jpg.rf.6458b40daa1d487fc0244f8442bbb1be.jpg  \n",
      " extracting: ./datasets/train/images/08_21C_0148_jpg.rf.86ad5254488a5451adb4c63633327c00.jpg  \n",
      " extracting: ./datasets/train/images/08_21C_0148_jpg.rf.bf8299b47b9792b98a58f4e9879c22a2.jpg  \n",
      " extracting: ./datasets/train/images/08_21C_0149_jpg.rf.e4220aeb08949231276e3a1af29f3443.jpg  \n",
      " extracting: ./datasets/train/images/08_21C_0150_jpg.rf.a92cb5a29fce4b94bc03416676a3b12a.jpg  \n",
      " extracting: ./datasets/train/images/08_21C_0151_jpg.rf.872bbe1f4489ab09fd05a3561d7112d1.jpg  \n",
      " extracting: ./datasets/train/images/08_21C_0152_jpg.rf.322f3fa6921b7cb05f06fc12f041f0b3.jpg  \n",
      " extracting: ./datasets/train/images/08_21C_0153_jpg.rf.0da4926b65ab5d9052ef17576b5188a6.jpg  \n",
      " extracting: ./datasets/train/images/08_21C_0153_jpg.rf.25350ebfce261189e1b9866da4d59653.jpg  \n",
      " extracting: ./datasets/train/images/08_21C_0154_jpg.rf.53d0692f622a8a6b440ca1138ca81d5f.jpg  \n",
      " extracting: ./datasets/train/images/08_21C_0155_jpg.rf.698077e6795a9eff615444e0de1439ce.jpg  \n",
      " extracting: ./datasets/train/images/08_21C_0155_jpg.rf.d21318cdad533793ee5d1e845e14341a.jpg  \n",
      " extracting: ./datasets/train/images/08_21C_0156_jpg.rf.156758c82ee774bdc077d468bc3a76d4.jpg  \n",
      " extracting: ./datasets/train/images/08_21C_0156_jpg.rf.9788ef0e06c3d50bb289a074d4a40729.jpg  \n",
      " extracting: ./datasets/train/images/08_21C_0158_jpg.rf.21292924b2b93a13597ecfc6699cd30f.jpg  \n",
      " extracting: ./datasets/train/images/08_21C_0158_jpg.rf.92d91707f0ef75b02ddc9600e0a1421d.jpg  \n",
      " extracting: ./datasets/train/images/08_21C_0159_jpg.rf.1a2622bf081a99e792bcc37d6148759a.jpg  \n",
      " extracting: ./datasets/train/images/08_21C_0159_jpg.rf.75e4dcd86d56e55d98d5dbf11c557ddf.jpg  \n",
      " extracting: ./datasets/train/images/08_21C_0160_jpg.rf.ca2a065e41ba43b5ed8a7abcf43a198f.jpg  \n",
      " extracting: ./datasets/train/images/08_21C_0161_jpg.rf.073fc72728050643b99987807751eae6.jpg  \n",
      " extracting: ./datasets/train/images/08_21C_0161_jpg.rf.e49e8aa91336381834143114f00315bb.jpg  \n",
      " extracting: ./datasets/train/images/08_21C_0162_jpg.rf.bde26f032041acb7c02de0fc0a6999c0.jpg  \n",
      " extracting: ./datasets/train/images/08_21C_0163_jpg.rf.6f37e93a35184dd364d4332cd8d8482b.jpg  \n",
      " extracting: ./datasets/train/images/08_21C_0164_jpg.rf.4ee4ffa429776606b0d418a42cc02d52.jpg  \n",
      " extracting: ./datasets/train/images/08_21C_0164_jpg.rf.bdedfacc70a244806e03cc5d33f1f2a1.jpg  \n",
      " extracting: ./datasets/train/images/08_21C_0165_jpg.rf.83456cf0ce039761a2d81a5e652ed22e.jpg  \n",
      " extracting: ./datasets/train/images/08_21C_0166_jpg.rf.aad9a65761d60cac3c70565f81f0ba9d.jpg  \n",
      " extracting: ./datasets/train/images/08_21C_0166_jpg.rf.e3c4a839b678503bd74c569af2bd2944.jpg  \n",
      " extracting: ./datasets/train/images/08_21C_0167_jpg.rf.4a98e09bec9064e0f71a9151ecd4cae3.jpg  \n",
      " extracting: ./datasets/train/images/08_21C_0167_jpg.rf.ab046595f91f43cd3e5d228035f1c4c4.jpg  \n",
      " extracting: ./datasets/train/images/08_21C_0168_jpg.rf.06fec9d9cd6ff2cb2c7477d21a1f7b2f.jpg  \n",
      " extracting: ./datasets/train/images/08_21C_0169_jpg.rf.9a91c4a978e36f4345928d5593871789.jpg  \n",
      " extracting: ./datasets/train/images/08_21C_0169_jpg.rf.bafcb706d89b31abba589348d20c8e29.jpg  \n",
      " extracting: ./datasets/train/images/08_21C_0170_jpg.rf.00409bf6794fb62159a61642dd09f2a7.jpg  \n",
      " extracting: ./datasets/train/images/08_21C_0170_jpg.rf.a75068f6b42e1b0e1dc71e3aedca2a86.jpg  \n",
      " extracting: ./datasets/train/images/08_21C_0170_jpg.rf.b0e38803103f617f4139b1d9b7e0314b.jpg  \n",
      " extracting: ./datasets/train/images/08_21C_0171_jpg.rf.4e9cd81715e73395377730e9013be90c.jpg  \n",
      " extracting: ./datasets/train/images/08_21C_0171_jpg.rf.5721ddbc4b699edbb0a928bf8d59b98c.jpg  \n",
      " extracting: ./datasets/train/images/08_21C_0171_jpg.rf.caf28d0080a66d12403ed18e66223c74.jpg  \n",
      " extracting: ./datasets/train/images/08_21C_0172_jpg.rf.66dcc46a44009d40386018ab9d7686d6.jpg  \n",
      " extracting: ./datasets/train/images/08_21C_0172_jpg.rf.74e213d8840442033e547b415bd63c88.jpg  \n",
      " extracting: ./datasets/train/images/08_21C_0173_jpg.rf.9636b7283d59952b9a09714f355438a8.jpg  \n",
      " extracting: ./datasets/train/images/08_21C_0173_jpg.rf.f33af3df4ebc361d296415f55750a23e.jpg  \n",
      " extracting: ./datasets/train/images/08_21C_0174_jpg.rf.352453857c825b404500d3b1f3fe3f5c.jpg  \n",
      " extracting: ./datasets/train/images/08_21C_0174_jpg.rf.f854172ce91b57fad1329ccf30d04906.jpg  \n",
      " extracting: ./datasets/train/images/08_21C_0175_jpg.rf.6dd2e85fc4f19eda5d60ea064b9bcaa1.jpg  \n",
      " extracting: ./datasets/train/images/08_21C_0175_jpg.rf.f2674a273ae70d7e590b0b41eebe5461.jpg  \n",
      " extracting: ./datasets/train/images/08_21C_0176_jpg.rf.16bc864be28bfd348ec43187ebda66c6.jpg  \n",
      " extracting: ./datasets/train/images/08_21C_0176_jpg.rf.48d68e1a1870418b6988e8302a8f83f3.jpg  \n",
      " extracting: ./datasets/train/images/08_21C_0176_jpg.rf.e9846491cb0dccdb730feb2915b844a5.jpg  \n",
      " extracting: ./datasets/train/images/08_21C_0177_jpg.rf.463bfa0440f076fd03fd1e9d9cc48bb8.jpg  \n",
      " extracting: ./datasets/train/images/08_21C_0177_jpg.rf.ecf917e9ea9626f68fdd06d487023040.jpg  \n",
      " extracting: ./datasets/train/images/08_21C_0178_jpg.rf.3787bf1d6eceab1ec99ad4d29ec71f95.jpg  \n",
      " extracting: ./datasets/train/images/08_21C_0178_jpg.rf.bd0a2f4d4af794e149333a963096b354.jpg  \n",
      " extracting: ./datasets/train/images/08_21C_0179_jpg.rf.66a3e6112144dadf15ec37a6516a3383.jpg  \n",
      " extracting: ./datasets/train/images/08_21C_0179_jpg.rf.6886e64d3ddf2c13d699363c8c0d8b51.jpg  \n",
      " extracting: ./datasets/train/images/08_21C_0179_jpg.rf.794ef622a24072982bf84a1ffd7b396d.jpg  \n",
      " extracting: ./datasets/train/images/08_21C_0180_jpg.rf.9a0f386a1cba65d6f4d017ca46dbbc7e.jpg  \n",
      " extracting: ./datasets/train/images/08_21C_0180_jpg.rf.bd794fb76b588618927ce46e9b85ba27.jpg  \n",
      " extracting: ./datasets/train/images/08_21C_0180_jpg.rf.ebdce33eca867297534fce5341c4e6c5.jpg  \n",
      " extracting: ./datasets/train/images/08_21C_0181_jpg.rf.37d16c74d1009262ee57e1c6a16efc77.jpg  \n",
      " extracting: ./datasets/train/images/08_21C_0181_jpg.rf.56fbf79ae9d2251a41fec0fb6e796b08.jpg  \n",
      " extracting: ./datasets/train/images/08_21C_0182_jpg.rf.ce6184218216a73c19f36a484e9e0564.jpg  \n",
      " extracting: ./datasets/train/images/08_21C_0182_jpg.rf.f6fd69465f66bf69e8401e0679bb9b5e.jpg  \n",
      " extracting: ./datasets/train/images/08_21C_0182_jpg.rf.f9f79685110842cb8a81e7e118413144.jpg  \n",
      " extracting: ./datasets/train/images/08_21C_0183_jpg.rf.48a8ec7a08b4a25e6b41e202b881783b.jpg  \n",
      " extracting: ./datasets/train/images/08_21C_0183_jpg.rf.64c860a02083227a29655abe7ca54965.jpg  \n",
      " extracting: ./datasets/train/images/08_21C_0183_jpg.rf.73e72a91a5ca0d1454ee09694581af7a.jpg  \n",
      " extracting: ./datasets/train/images/08_21C_0184_jpg.rf.267e0e1979b88c94a38d61a64b398beb.jpg  \n",
      " extracting: ./datasets/train/images/08_21C_0184_jpg.rf.38c2dad45c1b22c86577615735a27fb5.jpg  \n",
      " extracting: ./datasets/train/images/08_21C_0184_jpg.rf.ac9565a1a6c516e1d87c4b6cc5e892e3.jpg  \n",
      " extracting: ./datasets/train/images/08_21C_0185_jpg.rf.088f15865bed5b70198923ba8c5af513.jpg  \n",
      " extracting: ./datasets/train/images/08_21C_0185_jpg.rf.497c1083f4acf3623c715e42524f7ee3.jpg  \n",
      " extracting: ./datasets/train/images/08_21C_0185_jpg.rf.de1d52a3f5ee83f3770f0d5e9350d3d7.jpg  \n",
      " extracting: ./datasets/train/images/08_21C_0186_jpg.rf.16d5d9c17bcb33fdaa6611ba343a48a5.jpg  \n",
      " extracting: ./datasets/train/images/08_21C_0186_jpg.rf.24abeb60814eabb0a964e68cc240afd1.jpg  \n",
      " extracting: ./datasets/train/images/08_21C_0186_jpg.rf.ed44ac92d6e749e366d59385be8fffe4.jpg  \n",
      " extracting: ./datasets/train/images/08_21C_0187_jpg.rf.3301d4fa5172fdd731a346339f00fab6.jpg  \n",
      " extracting: ./datasets/train/images/08_21C_0187_jpg.rf.a1b70b320c7639b3af9641c3f60e094e.jpg  \n",
      " extracting: ./datasets/train/images/08_21C_0187_jpg.rf.ce94001d005952f2f9e27f8f65446406.jpg  \n",
      " extracting: ./datasets/train/images/08_21C_0188_jpg.rf.97a314fadc1eff6146804b380735539a.jpg  \n",
      " extracting: ./datasets/train/images/08_21C_0188_jpg.rf.cbb991a368ea6af717659bc5bca92eb0.jpg  \n",
      " extracting: ./datasets/train/images/08_21C_0189_jpg.rf.a90c2ca21cb3c927d19e320b7163debc.jpg  \n",
      " extracting: ./datasets/train/images/08_21C_0190_jpg.rf.21227857b53f47860ce0d2e14723c382.jpg  \n",
      " extracting: ./datasets/train/images/08_21C_0190_jpg.rf.68d2adf0bd492fec7d6ac59a0924fdd2.jpg  \n",
      " extracting: ./datasets/train/images/08_21C_0190_jpg.rf.f63f80f6acc5b0477cd5e49e81fb60f3.jpg  \n",
      " extracting: ./datasets/train/images/08_21C_0191_jpg.rf.598316a8267dfbfc98bfa31128ce71d8.jpg  \n",
      " extracting: ./datasets/train/images/08_21C_0191_jpg.rf.7adbde9a5fa8a44fbd7133611daefc19.jpg  \n",
      " extracting: ./datasets/train/images/08_21C_0192_jpg.rf.31dfbdb0dd4ec518dce3f7d56747afe6.jpg  \n",
      " extracting: ./datasets/train/images/08_21C_0193_jpg.rf.2ad98c924a04fd5ecd6d6110fd326ee7.jpg  \n",
      " extracting: ./datasets/train/images/08_21C_0193_jpg.rf.962eeba8f4cbeb407d03c17291c15b91.jpg  \n",
      " extracting: ./datasets/train/images/08_21C_0194_jpg.rf.4b65f0b8f8bf695419b98faf89bcece2.jpg  \n",
      " extracting: ./datasets/train/images/08_21C_0194_jpg.rf.5a3a722ec44abea55b97915a17380dee.jpg  \n",
      " extracting: ./datasets/train/images/08_21C_0194_jpg.rf.79774b9458c6d7ed09b1032b85cb0149.jpg  \n",
      " extracting: ./datasets/train/images/08_21C_0195_jpg.rf.30d296d978cb4ba8ce4400c152ec1b4c.jpg  \n",
      " extracting: ./datasets/train/images/08_21C_0195_jpg.rf.54719677d8ba05b77681fd8bdc2ce12e.jpg  \n",
      " extracting: ./datasets/train/images/08_21C_0196_jpg.rf.c724b5a45dcf0b96ed83837ed65490e3.jpg  \n",
      " extracting: ./datasets/train/images/08_21C_0197_jpg.rf.03e25103118121ae4e3676cba9e349e7.jpg  \n",
      " extracting: ./datasets/train/images/08_21C_0198_jpg.rf.33baafa500eca4c6e1a4dcdfc5836b98.jpg  \n",
      " extracting: ./datasets/train/images/08_21C_0198_jpg.rf.cf967292b51e97ed902179a793320579.jpg  \n",
      " extracting: ./datasets/train/images/08_21C_0199_jpg.rf.079007d84229f4dd7e9abe779e2ca6eb.jpg  \n",
      " extracting: ./datasets/train/images/08_21C_0199_jpg.rf.80c66c253c9b55b3480cefbd19c4e96f.jpg  \n",
      " extracting: ./datasets/train/images/08_21C_0199_jpg.rf.fb905b81570b6ab60c0b57c9e3812cc8.jpg  \n",
      " extracting: ./datasets/train/images/08_21C_0200_jpg.rf.8fb398d8ced9299857aee7ef65421186.jpg  \n",
      " extracting: ./datasets/train/images/08_21C_0200_jpg.rf.bfdf741722daf6330496d26792f9b14b.jpg  \n",
      " extracting: ./datasets/train/images/08_21C_0200_jpg.rf.e2cec5d5bad9fd51ee14cc8257e4de00.jpg  \n",
      " extracting: ./datasets/train/images/08_21C_0201_jpg.rf.bc042193e86e15e6d107b1af567106fb.jpg  \n",
      " extracting: ./datasets/train/images/08_21C_0202_jpg.rf.b74aa410fc554b2dc115f1433f09f295.jpg  \n",
      " extracting: ./datasets/train/images/08_21C_0203_jpg.rf.1b1fb2b282fe7b76da13366a0d4a2e17.jpg  \n",
      " extracting: ./datasets/train/images/08_21C_0203_jpg.rf.744df0bc2edfa27843ea2d68576a06ec.jpg  \n",
      " extracting: ./datasets/train/images/08_21C_0203_jpg.rf.ae325eed14e6d988f7d303cbe43f8128.jpg  \n",
      " extracting: ./datasets/train/images/08_21C_0204_jpg.rf.e5ac28ecdb39a0390a63cd31c98a2702.jpg  \n",
      " extracting: ./datasets/train/images/08_21C_0204_jpg.rf.f5641f095c15b3a3627588e3437cd03d.jpg  \n",
      " extracting: ./datasets/train/images/08_21C_0205_jpg.rf.7a0c94cb6e4805fe06a8627c0c034351.jpg  \n",
      " extracting: ./datasets/train/images/08_21C_0205_jpg.rf.badd82399033753f7424035020435701.jpg  \n",
      " extracting: ./datasets/train/images/08_21C_0206_jpg.rf.095d5959869dc88938c287cd090f719f.jpg  \n",
      " extracting: ./datasets/train/images/08_21C_0206_jpg.rf.34e1435213908f040aebdca0877af199.jpg  \n",
      " extracting: ./datasets/train/images/08_21C_0206_jpg.rf.9c40d89e850d4f44ae440379f0434197.jpg  \n",
      " extracting: ./datasets/train/images/08_21C_0207_jpg.rf.68226828f0e528c527c370d370201474.jpg  \n",
      " extracting: ./datasets/train/images/08_21C_0208_jpg.rf.9fa8a86ca60d8100609788c5eb2c66d9.jpg  \n",
      " extracting: ./datasets/train/images/08_21C_0208_jpg.rf.d10346bd9c5f707733f1a03c1a212a48.jpg  \n",
      " extracting: ./datasets/train/images/08_21C_0208_jpg.rf.e0344aade58c9f7a5fbf3c6d29b942be.jpg  \n",
      " extracting: ./datasets/train/images/08_21C_0210_jpg.rf.3a50bc01f119e3931b4a7b3691751b08.jpg  \n",
      " extracting: ./datasets/train/images/08_21C_0210_jpg.rf.6fa15ae9fd078bc45a5dead2f8989797.jpg  \n",
      " extracting: ./datasets/train/images/08_21C_0210_jpg.rf.caf8f9af6c21802d97c4d9ae771f26b7.jpg  \n",
      " extracting: ./datasets/train/images/08_21C_0211_jpg.rf.f810afde987784bb195b2b664ec4d3a0.jpg  \n",
      " extracting: ./datasets/train/images/08_21C_0212_jpg.rf.099cdcbaf9728f662fc88c07716eb32a.jpg  \n",
      " extracting: ./datasets/train/images/08_21C_0212_jpg.rf.0ae3aede70c75b413dab93266ced36d7.jpg  \n",
      " extracting: ./datasets/train/images/08_21C_0212_jpg.rf.689ea005e441d47e10ae1a5ca3c4abc5.jpg  \n",
      " extracting: ./datasets/train/images/08_21C_0213_jpg.rf.53dd8a0ebc02a273fe4bf0c4ebcef603.jpg  \n",
      " extracting: ./datasets/train/images/08_21C_0213_jpg.rf.551cfb3baaafc88635791314b820cf38.jpg  \n",
      " extracting: ./datasets/train/images/08_21C_0214_jpg.rf.a636dd2eb6bdb2329c98b61bee9124dc.jpg  \n",
      " extracting: ./datasets/train/images/08_21C_0214_jpg.rf.e396535a8c1618dda27dbb7a0eb3820f.jpg  \n",
      " extracting: ./datasets/train/images/08_21C_0214_jpg.rf.eda67bbb7e2dd7e02d15be96ef9db03e.jpg  \n",
      " extracting: ./datasets/train/images/08_21C_0215_jpg.rf.165d95c053eda74806558351b7e6c8dd.jpg  \n",
      " extracting: ./datasets/train/images/08_21C_0215_jpg.rf.773cfe8a5da8ee0b8ec8fd1ddef6c66c.jpg  \n",
      " extracting: ./datasets/train/images/08_21C_0216_jpg.rf.0a680dbef9a466cf2386306c2035b73b.jpg  \n",
      " extracting: ./datasets/train/images/08_21C_0216_jpg.rf.2790c04f07ff56bb91c45615d25f5d91.jpg  \n",
      " extracting: ./datasets/train/images/08_21C_0217_jpg.rf.45f4dd07b902178f31537a488ebc91e8.jpg  \n",
      " extracting: ./datasets/train/images/08_21C_0217_jpg.rf.5650be7746cb47a81c5fbcbfb5899c62.jpg  \n",
      " extracting: ./datasets/train/images/08_21C_0217_jpg.rf.5bf550339304b20d4e5c4dfadf723bb7.jpg  \n",
      " extracting: ./datasets/train/images/08_21C_0218_jpg.rf.63a9f080024be418318f131afb627bbf.jpg  \n",
      " extracting: ./datasets/train/images/08_21C_0218_jpg.rf.bc2db93a04cc45cf90ff2eb93747eb20.jpg  \n",
      " extracting: ./datasets/train/images/08_21C_0219_jpg.rf.08b3a6d92869bee202273995a03d0310.jpg  \n",
      " extracting: ./datasets/train/images/08_21C_0219_jpg.rf.6a0b68507887b363940299abfc414683.jpg  \n",
      " extracting: ./datasets/train/images/08_21C_0220_jpg.rf.0d870b8d6efb634b77db160721329551.jpg  \n",
      " extracting: ./datasets/train/images/08_21C_0220_jpg.rf.1d75298ef222a0122948b3bec5840169.jpg  \n",
      " extracting: ./datasets/train/images/08_21C_0220_jpg.rf.a026f1539d063e87c52ff0485e2a7f8f.jpg  \n",
      " extracting: ./datasets/train/images/08_21C_0221_jpg.rf.7b0cffc3aa611fd99e9e7522ad7bbcd6.jpg  \n",
      " extracting: ./datasets/train/images/08_21C_0221_jpg.rf.da302cac62e0c521b6465b96175481c1.jpg  \n",
      " extracting: ./datasets/train/images/08_21C_0222_jpg.rf.17fa627610b8b781b47296097da211af.jpg  \n",
      " extracting: ./datasets/train/images/08_21C_0222_jpg.rf.624f84e0ed97faea84c660c034711104.jpg  \n",
      " extracting: ./datasets/train/images/08_21C_0223_jpg.rf.9673ceb88af5464716ce15258b589449.jpg  \n",
      " extracting: ./datasets/train/images/08_21C_0223_jpg.rf.de83d11017173d007070a30dc375f9e1.jpg  \n",
      " extracting: ./datasets/train/images/08_21C_0224_jpg.rf.febdc735b0364c98c282089a21714b63.jpg  \n",
      " extracting: ./datasets/train/images/08_21C_0225_jpg.rf.6db05d5e588f91de2c2878d29a1501d8.jpg  \n",
      " extracting: ./datasets/train/images/08_21C_0225_jpg.rf.8024c5d24700a13b5a352686c1e60bf3.jpg  \n",
      " extracting: ./datasets/train/images/08_21C_0226_jpg.rf.198145f78faeb73cbc5e04b2a5f1fdad.jpg  \n",
      " extracting: ./datasets/train/images/08_21C_0227_jpg.rf.46ef65c22b56b5384573d2b2f6863c09.jpg  \n",
      " extracting: ./datasets/train/images/08_21C_0228_jpg.rf.4194ec2dfb295324b3c50db5fcd71ada.jpg  \n",
      " extracting: ./datasets/train/images/08_21C_0228_jpg.rf.4cb4cc0b731e8ed988b40abce92048f6.jpg  \n",
      " extracting: ./datasets/train/images/08_21C_0229_jpg.rf.303fa704c2e0c8ff4b0cc2c071ff4eee.jpg  \n",
      " extracting: ./datasets/train/images/08_21C_0229_jpg.rf.dda92a6cee77a64841e9bda36bc05895.jpg  \n",
      " extracting: ./datasets/train/images/08_21C_0229_jpg.rf.e04b859b2bd6c3e76be703b211eb1c5b.jpg  \n",
      " extracting: ./datasets/train/images/08_21C_0230_jpg.rf.cf7263457ccd71fcb40fc38a1174fee7.jpg  \n",
      " extracting: ./datasets/train/images/08_21C_0231_jpg.rf.9e08b2df0f6006d5e504dbae6d063fdb.jpg  \n",
      " extracting: ./datasets/train/images/08_21C_0231_jpg.rf.9e47256686ea0e1c5f780d889aa33304.jpg  \n",
      " extracting: ./datasets/train/images/08_21C_0231_jpg.rf.c37baf7a8d33c6d315661c0448cce4f0.jpg  \n",
      " extracting: ./datasets/train/images/08_21C_0232_jpg.rf.956ab1429573ca3d1dd7ee96f032aee3.jpg  \n",
      " extracting: ./datasets/train/images/08_21C_0233_jpg.rf.44c8bfe1971e92cb97fa6da742f60974.jpg  \n",
      " extracting: ./datasets/train/images/08_21C_0233_jpg.rf.90b0aa1fc91521251911ee07025df037.jpg  \n",
      " extracting: ./datasets/train/images/08_21C_0233_jpg.rf.cc2e2af3069be9e8b69ec3da564724e7.jpg  \n",
      " extracting: ./datasets/train/images/08_21C_0234_jpg.rf.66ae956d58b898a3a6a75c3f719ea65f.jpg  \n",
      " extracting: ./datasets/train/images/08_21C_0235_jpg.rf.47c39d3c1b9301fb972a6560233cab65.jpg  \n",
      " extracting: ./datasets/train/images/08_21C_0235_jpg.rf.4c3181281f2fa430c0d1b65fcdd36596.jpg  \n",
      " extracting: ./datasets/train/images/08_21C_0235_jpg.rf.8624f872a401a4886bc514ac833089a6.jpg  \n",
      " extracting: ./datasets/train/images/08_21C_0236_jpg.rf.f6d68947f77edbec44854edabc2e192b.jpg  \n",
      " extracting: ./datasets/train/images/08_21C_0237_jpg.rf.7c43e1385094bd36b52851289dc2a70b.jpg  \n",
      " extracting: ./datasets/train/images/08_21C_0237_jpg.rf.a5da6fe371550e56b39d82f16450e64e.jpg  \n",
      " extracting: ./datasets/train/images/08_21C_0238_jpg.rf.0fcbba7581c024d4a81d0eba6c67adc0.jpg  \n",
      " extracting: ./datasets/train/images/08_21C_0238_jpg.rf.99dcff7ade80e9eef302ad639e406cc8.jpg  \n",
      " extracting: ./datasets/train/images/08_21C_0239_jpg.rf.e53d246e176d1c6ed3e55c763c949fba.jpg  \n",
      " extracting: ./datasets/train/images/08_21C_0240_jpg.rf.355821d71f9af90ae606229eeef6b47b.jpg  \n",
      " extracting: ./datasets/train/images/08_21C_0240_jpg.rf.675e87cc195d76bdb2b4201b63dcb9de.jpg  \n",
      " extracting: ./datasets/train/images/08_21C_0240_jpg.rf.8cd651764de58eca1f1f4015cbd704b5.jpg  \n",
      " extracting: ./datasets/train/images/08_21C_0241_jpg.rf.b2495cac625105acc657e82d241338ea.jpg  \n",
      " extracting: ./datasets/train/images/08_21C_0241_jpg.rf.d0f0098d2d0b604b5104f11f74ebf79e.jpg  \n",
      " extracting: ./datasets/train/images/08_21C_0242_jpg.rf.c1773c0b3ae830dce73aca1895022e81.jpg  \n",
      " extracting: ./datasets/train/images/08_21C_0243_jpg.rf.0e3d2a44097301d68e8f308c2a85ea96.jpg  \n",
      " extracting: ./datasets/train/images/08_21C_0243_jpg.rf.10c03b229e573c945cf45798d6272ead.jpg  \n",
      " extracting: ./datasets/train/images/08_21C_0243_jpg.rf.3a592fe0d949fe0bbb70ae8b613c55d9.jpg  \n",
      " extracting: ./datasets/train/images/08_21C_0244_jpg.rf.6a212b46f17a9455559ffda4c86ef0c2.jpg  \n",
      " extracting: ./datasets/train/images/08_21C_0244_jpg.rf.71b9e02ba5f314bd64c7b0e75637e595.jpg  \n",
      " extracting: ./datasets/train/images/08_21C_0245_jpg.rf.3932a8cbefa2bde1eb33f0417f20a688.jpg  \n",
      " extracting: ./datasets/train/images/08_21C_0245_jpg.rf.73e723ed1cb538b4cf56d14a014ff715.jpg  \n",
      " extracting: ./datasets/train/images/08_21C_0245_jpg.rf.eeb9c9b80ef87b3af59ad0cb85010df8.jpg  \n",
      " extracting: ./datasets/train/images/08_21C_0246_jpg.rf.0ae64b05a2549a83aa16663c99095a93.jpg  \n",
      " extracting: ./datasets/train/images/08_21C_0246_jpg.rf.b1c7c5836287facfb842eaa3e545d7fe.jpg  \n",
      " extracting: ./datasets/train/images/08_21C_0247_jpg.rf.46b76d83dd6e7138e914ff2cc058d851.jpg  \n",
      " extracting: ./datasets/train/images/08_21C_0248_jpg.rf.6ec60c9a24e691ba83beaa804de8f934.jpg  \n",
      " extracting: ./datasets/train/images/08_21C_0248_jpg.rf.7f44e7e75976703c43ae1f3dfbf5675e.jpg  \n",
      " extracting: ./datasets/train/images/08_21C_0248_jpg.rf.8ae7ff3788fee4de7c90df170f688fcd.jpg  \n",
      " extracting: ./datasets/train/images/08_21C_0249_jpg.rf.974d8d2d259ae2096c48a996154e1cd1.jpg  \n",
      " extracting: ./datasets/train/images/08_21C_0250_jpg.rf.a2582e7bf5fd7474233dd783a08bd54c.jpg  \n",
      " extracting: ./datasets/train/images/08_21C_0251_jpg.rf.29db36ee57b236cd891523b1d2092757.jpg  \n",
      " extracting: ./datasets/train/images/08_21C_0252_jpg.rf.6149ce4e140f9e1d76d3fcd75214f750.jpg  \n",
      " extracting: ./datasets/train/images/08_21C_0252_jpg.rf.8cef21525bd5f1488cc8ef2ca95d46ad.jpg  \n",
      " extracting: ./datasets/train/images/08_21C_0252_jpg.rf.a4845292e3d2b813dbd8c148e86c1952.jpg  \n",
      " extracting: ./datasets/train/images/08_21C_0253_jpg.rf.41657bda2a4847d6e000bf1f316b0ca6.jpg  \n",
      " extracting: ./datasets/train/images/08_21C_0253_jpg.rf.d5ec091addfec2bbe86bb50552df80d5.jpg  \n",
      " extracting: ./datasets/train/images/08_21C_0253_jpg.rf.dbfb2b2d08b7aa5a191df42bf965408c.jpg  \n",
      " extracting: ./datasets/train/images/08_21C_0254_jpg.rf.32a84cfac31206172114c90dae0550bc.jpg  \n",
      " extracting: ./datasets/train/images/08_21C_0254_jpg.rf.73dc75cea7e59768b0577cf95767e362.jpg  \n",
      " extracting: ./datasets/train/images/08_21C_0254_jpg.rf.961622f8e5690069e2ab25219b5a990e.jpg  \n",
      " extracting: ./datasets/train/images/08_21C_0255_jpg.rf.273969b589fd18cea14e851a7995133d.jpg  \n",
      " extracting: ./datasets/train/images/08_21C_0255_jpg.rf.4f124d40f89ad774e00558d13f398e02.jpg  \n",
      " extracting: ./datasets/train/images/08_21C_0255_jpg.rf.e96c78db3910769950593bb40629aeda.jpg  \n",
      " extracting: ./datasets/train/images/08_21C_0256_jpg.rf.077bec24b50f21352e4f5ec54924199f.jpg  \n",
      " extracting: ./datasets/train/images/08_21C_0256_jpg.rf.a496623b55c93331a825d4a050b178a7.jpg  \n",
      " extracting: ./datasets/train/images/08_21C_0257_jpg.rf.7d9d144226f71d6c8a8923607b3775ba.jpg  \n",
      " extracting: ./datasets/train/images/08_21C_0257_jpg.rf.81a75119eb8815caf38a3a41f3541592.jpg  \n",
      " extracting: ./datasets/train/images/08_21C_0258_jpg.rf.1e7bf7479e1632f7d1cb813287dff6c2.jpg  \n",
      " extracting: ./datasets/train/images/08_21C_0258_jpg.rf.7fd1136c637b6bf6de49d9263e6cfb49.jpg  \n",
      " extracting: ./datasets/train/images/08_21C_0259_jpg.rf.10a62070a41cec7de311395cdf0f7a76.jpg  \n",
      " extracting: ./datasets/train/images/08_21C_0259_jpg.rf.c11b128a2c7fb7f11feb86a84cdf2774.jpg  \n",
      " extracting: ./datasets/train/images/08_21C_0260_jpg.rf.1b70ef20b4cf74ecb86a00bec3504cfd.jpg  \n",
      " extracting: ./datasets/train/images/08_21C_0260_jpg.rf.628d681bc598ac5cc636bac9a51c39ee.jpg  \n",
      " extracting: ./datasets/train/images/08_21C_0262_jpg.rf.6091238e1f0b948c3eb9eb457b1b6e59.jpg  \n",
      " extracting: ./datasets/train/images/08_21C_0262_jpg.rf.ae63209d8bb3523a862ddd3d08be89d5.jpg  \n",
      " extracting: ./datasets/train/images/08_21C_0263_jpg.rf.6d61db5c85a79e67b7d258dfc447d4ea.jpg  \n",
      " extracting: ./datasets/train/images/08_21C_0263_jpg.rf.8c3630cafaf664c810cc876595e217b9.jpg  \n",
      " extracting: ./datasets/train/images/08_21C_0263_jpg.rf.b45a96a19246f0069d525a17b1f53bc9.jpg  \n",
      " extracting: ./datasets/train/images/08_21C_0264_jpg.rf.339ce415205350873bb8f03cf375ec45.jpg  \n",
      " extracting: ./datasets/train/images/08_21C_0264_jpg.rf.673447d53a11621b41cc4c3a4bdcd089.jpg  \n",
      " extracting: ./datasets/train/images/08_21C_0264_jpg.rf.6e2b8b3a9be10090f00d8b803483e1a2.jpg  \n",
      " extracting: ./datasets/train/images/08_21C_0265_jpg.rf.77bdcc172705843c98e8b28f061aa9f6.jpg  \n",
      " extracting: ./datasets/train/images/08_21C_0265_jpg.rf.f01a35deae8254d723e7e79ac2fab606.jpg  \n",
      " extracting: ./datasets/train/images/08_21C_0265_jpg.rf.f35015af7d9f884381d337af879798c9.jpg  \n",
      " extracting: ./datasets/train/images/08_21C_0266_jpg.rf.449d755fddae5903a7c5ec326d317746.jpg  \n",
      " extracting: ./datasets/train/images/08_21C_0266_jpg.rf.eb56922737020b6a3f137e2ef2b05077.jpg  \n",
      " extracting: ./datasets/train/images/08_21C_0267_jpg.rf.64c59b0bf2ab7e2ffaf3fe46a5c3c89c.jpg  \n",
      " extracting: ./datasets/train/images/08_21C_0267_jpg.rf.cef314202df01bc5a04ecc08c47a5d6b.jpg  \n",
      " extracting: ./datasets/train/images/08_21C_0268_jpg.rf.6a0682ae9485f2f659e22a01b14c1cdf.jpg  \n",
      " extracting: ./datasets/train/images/08_21C_0269_jpg.rf.911aff5982241dc215681bddd2764a9f.jpg  \n",
      " extracting: ./datasets/train/images/08_21C_0269_jpg.rf.c9047bcebddf981cdd28cc4726b599f6.jpg  \n",
      " extracting: ./datasets/train/images/08_21C_0270_jpg.rf.d535d73a9abfd2c6127303e5fe151efb.jpg  \n",
      " extracting: ./datasets/train/images/08_21C_0271_jpg.rf.2ee65fc954903ea8c60dc939cec956d7.jpg  \n",
      " extracting: ./datasets/train/images/08_21C_0271_jpg.rf.7b6da3580de004049c0491cdb576c0e6.jpg  \n",
      " extracting: ./datasets/train/images/08_21C_0271_jpg.rf.f56cbb7dd313c56a05b591aab2d4367a.jpg  \n",
      " extracting: ./datasets/train/images/08_21C_0272_jpg.rf.6e0acce0c9c40e8ba7d455c777174bb4.jpg  \n",
      " extracting: ./datasets/train/images/08_21C_0272_jpg.rf.bbde92e820ecb1dcc1361b78a7f4b0fa.jpg  \n",
      " extracting: ./datasets/train/images/08_21C_0272_jpg.rf.c1a5aa8034dfde9256683b73c35d2acd.jpg  \n",
      " extracting: ./datasets/train/images/08_21C_0273_jpg.rf.09b4fc3b21ad8d0386546fb77c0bd624.jpg  \n",
      " extracting: ./datasets/train/images/08_21C_0273_jpg.rf.c2936210997f70af65bb3284733dacc3.jpg  \n",
      " extracting: ./datasets/train/images/08_21C_0273_jpg.rf.ea8d232ae5f18a16358eb680a061862c.jpg  \n",
      " extracting: ./datasets/train/images/08_21C_0274_jpg.rf.839368e6012301d78d2f7f2912d0fe65.jpg  \n",
      " extracting: ./datasets/train/images/08_21C_0274_jpg.rf.d34cd59c227fd660a5217b1a5b466658.jpg  \n",
      " extracting: ./datasets/train/images/08_21C_0275_jpg.rf.828bd9ef01cbd34b77188eb9cab8b1b4.jpg  \n",
      " extracting: ./datasets/train/images/08_21C_0275_jpg.rf.c3cf21aef977f821632ce822f86a4172.jpg  \n",
      " extracting: ./datasets/train/images/08_21C_0276_jpg.rf.0f89472dceccacca052a68831957110b.jpg  \n",
      " extracting: ./datasets/train/images/08_21C_0276_jpg.rf.23335170775207cb828fff0d3a0e3846.jpg  \n",
      " extracting: ./datasets/train/images/08_21C_0277_jpg.rf.4fc3a4e37f1f6b6e1379edef7d21d7c3.jpg  \n",
      " extracting: ./datasets/train/images/08_21C_0277_jpg.rf.7626943b1813c097467ab3e674a192b1.jpg  \n",
      " extracting: ./datasets/train/images/08_21C_0277_jpg.rf.c2f52fa684ceedc78defb73719304626.jpg  \n",
      " extracting: ./datasets/train/images/08_21C_0278_jpg.rf.15b2b5a13f31446f71c6d85c9450afac.jpg  \n",
      " extracting: ./datasets/train/images/08_21C_0278_jpg.rf.2072e607295614ccb6d4ec3768ea9259.jpg  \n",
      " extracting: ./datasets/train/images/08_21C_0279_jpg.rf.245b426800ae913f27cbd69c74f96cf6.jpg  \n",
      " extracting: ./datasets/train/images/08_21C_0279_jpg.rf.3c0ff4f52ad724c53fa2afcbeb9c3462.jpg  \n",
      " extracting: ./datasets/train/images/08_21C_0279_jpg.rf.3c37d6ca375b502a260c77280f128338.jpg  \n",
      " extracting: ./datasets/train/images/08_21C_0280_jpg.rf.fb856ccdbe138169f3bf00af4f559c6a.jpg  \n",
      " extracting: ./datasets/train/images/08_21C_0281_jpg.rf.7c4aaada87f241b680f1e15c0f0aaf0b.jpg  \n",
      " extracting: ./datasets/train/images/08_21C_0282_jpg.rf.2bbdd5acd64537feb025c75bd956ce7d.jpg  \n",
      " extracting: ./datasets/train/images/08_21C_0282_jpg.rf.6ffdf3c00cff5913c37257d00f07f59e.jpg  \n",
      " extracting: ./datasets/train/images/08_21C_0283_jpg.rf.2ad7c8499b55ff32ce6edb66ab950b73.jpg  \n",
      " extracting: ./datasets/train/images/08_21C_0283_jpg.rf.5b30e9f40f929999f9fdbb7e91016481.jpg  \n",
      " extracting: ./datasets/train/images/08_21C_0283_jpg.rf.b7bf9cb0ea0b84705ba7eb964179742c.jpg  \n",
      " extracting: ./datasets/train/images/08_21C_0284_jpg.rf.3aa22acc1fe8cdd270a8de0134c9ace2.jpg  \n",
      " extracting: ./datasets/train/images/08_21C_0284_jpg.rf.d7f6fabba555d3db550243a09f9c8f8b.jpg  \n",
      " extracting: ./datasets/train/images/08_21C_0285_jpg.rf.fa82b849181194f7bdee34d0ae8d97c7.jpg  \n",
      " extracting: ./datasets/train/images/08_21C_0286_jpg.rf.ab553d714090c76f9282dd88f47ec0df.jpg  \n",
      " extracting: ./datasets/train/images/08_21C_0286_jpg.rf.f6af294c26e4e7ede0948108c936d639.jpg  \n",
      " extracting: ./datasets/train/images/08_21C_0287_jpg.rf.85abd9eff003385a514079d55e0f14e9.jpg  \n",
      " extracting: ./datasets/train/images/08_21C_0288_jpg.rf.106f539d605f85986764bd533aa88a8d.jpg  \n",
      " extracting: ./datasets/train/images/08_21C_0288_jpg.rf.26039a286c51e04654f71321ca7b124d.jpg  \n",
      " extracting: ./datasets/train/images/08_21C_0289_jpg.rf.3d2e2080f3bf9f122360f8bf53874713.jpg  \n",
      " extracting: ./datasets/train/images/08_21C_0289_jpg.rf.c2dbd2d236591a700a8f6cd04ad7ac2e.jpg  \n",
      " extracting: ./datasets/train/images/08_21C_0289_jpg.rf.dcf761a80adc9ed3ac4f98268e1ee335.jpg  \n",
      " extracting: ./datasets/train/images/08_21C_0290_jpg.rf.161cdff67733bb9bb34a0bf7606dbd71.jpg  \n",
      " extracting: ./datasets/train/images/08_21C_0290_jpg.rf.3c4fdff36bba4a3d5a8a747cc47df896.jpg  \n",
      " extracting: ./datasets/train/images/08_21C_0290_jpg.rf.7c082d2c670f92c8bf97f9a1fe7ea33c.jpg  \n",
      " extracting: ./datasets/train/images/08_21C_0291_jpg.rf.1b7362d2469cfba6e9e8eb3d0279da9d.jpg  \n",
      " extracting: ./datasets/train/images/08_21C_0291_jpg.rf.2482a384bfba1c94364a1fa530537080.jpg  \n",
      " extracting: ./datasets/train/images/08_21C_0291_jpg.rf.d37d01261edfed31662ae1c1f07d3f5c.jpg  \n",
      " extracting: ./datasets/train/images/08_21C_0292_jpg.rf.2e31aebc1c84cfe42602b56112733b98.jpg  \n",
      " extracting: ./datasets/train/images/08_21C_0292_jpg.rf.37935915cfaf3b739c1c225186052712.jpg  \n",
      " extracting: ./datasets/train/images/08_21C_0292_jpg.rf.cd7bdd8f99fbb2746a546f9f0ec7bb31.jpg  \n",
      " extracting: ./datasets/train/images/08_21C_0293_jpg.rf.89a5754057fb3ea201324072447ca290.jpg  \n",
      " extracting: ./datasets/train/images/08_21C_0293_jpg.rf.a74fd10fc25119174664ca7a15692570.jpg  \n",
      " extracting: ./datasets/train/images/08_21C_0294_jpg.rf.0c6193f98ff347842449b7b1ba7ea850.jpg  \n",
      " extracting: ./datasets/train/images/08_21C_0294_jpg.rf.6551e3cefcb55b7fbe1e7ef86d60cb48.jpg  \n",
      " extracting: ./datasets/train/images/08_21C_0294_jpg.rf.bce627cc55fad519ed9585e988b47982.jpg  \n",
      " extracting: ./datasets/train/images/08_21C_0295_jpg.rf.141d18445fe7477e1a95e6a72dbe27f8.jpg  \n",
      " extracting: ./datasets/train/images/08_21C_0295_jpg.rf.7125724fa6ac80dd5069d067a9f9ddcf.jpg  \n",
      " extracting: ./datasets/train/images/08_21C_0295_jpg.rf.7966ec2b3e0bfb07244d8d20eb99c388.jpg  \n",
      " extracting: ./datasets/train/images/08_21C_0296_jpg.rf.00c63bc932f7acffed5463ef93377e1c.jpg  \n",
      " extracting: ./datasets/train/images/08_21C_0296_jpg.rf.e8f6a5122b52867c8678fa1a77856f7c.jpg  \n",
      " extracting: ./datasets/train/images/08_21C_0297_jpg.rf.0da6352ccedd62c3a347f0791d30c9de.jpg  \n",
      " extracting: ./datasets/train/images/08_21C_0297_jpg.rf.df60acb777b1f712c3c83eceb986b95c.jpg  \n",
      " extracting: ./datasets/train/images/08_21C_0298_jpg.rf.8accfa03d284811aa8aa859cbb649ffb.jpg  \n",
      " extracting: ./datasets/train/images/08_21C_0299_jpg.rf.025d452f8bfb9e258fa9b049019e7d70.jpg  \n",
      " extracting: ./datasets/train/images/08_21C_0299_jpg.rf.157527d57c1dc8fe846e1689340ace02.jpg  \n",
      " extracting: ./datasets/train/images/08_21C_0299_jpg.rf.9a4789703be24398820d2eda67433936.jpg  \n",
      " extracting: ./datasets/train/images/08_21C_0300_jpg.rf.34949b547cbe83d1e22775d3ddf7aad7.jpg  \n",
      " extracting: ./datasets/train/images/08_21C_0300_jpg.rf.71aa0fd4040816a0ce84896d850ce103.jpg  \n",
      " extracting: ./datasets/train/images/08_21C_0301_jpg.rf.206e0e2ada5267a043e0e4d3573013d5.jpg  \n",
      " extracting: ./datasets/train/images/08_21C_0301_jpg.rf.74fded09617e073e35fba7c7add9dd29.jpg  \n",
      " extracting: ./datasets/train/images/08_21C_0301_jpg.rf.af7956706c660a48e607251955f9d655.jpg  \n",
      " extracting: ./datasets/train/images/08_21C_0302_jpg.rf.c33b132d5dc3bceb80f235889d1af223.jpg  \n",
      " extracting: ./datasets/train/images/08_21C_0302_jpg.rf.f9e36e129e1b8ca4e13a72aef8ea510e.jpg  \n",
      " extracting: ./datasets/train/images/08_21C_0303_jpg.rf.18194ec9d78dc81a4eb137c388e6d007.jpg  \n",
      " extracting: ./datasets/train/images/08_21C_0304_jpg.rf.b58143cec0b5de8a0734d76aab80aab7.jpg  \n",
      " extracting: ./datasets/train/images/08_21C_0304_jpg.rf.dbf3794cd3a46c213cc5d7f240f42f3f.jpg  \n",
      " extracting: ./datasets/train/images/08_21C_0304_jpg.rf.fa6a834f112fb9acbee2bd33a21f7238.jpg  \n",
      " extracting: ./datasets/train/images/08_21C_0305_jpg.rf.821420272435da6856307b734d9f9cfd.jpg  \n",
      " extracting: ./datasets/train/images/08_21C_0306_jpg.rf.13faeac61786b8aabd438867f24d9aa1.jpg  \n",
      " extracting: ./datasets/train/images/08_21C_0307_jpg.rf.7c02fd5979af8463d66063af9c92569c.jpg  \n",
      " extracting: ./datasets/train/images/08_21C_0307_jpg.rf.d4cb655c146b11e379b0d0770617dada.jpg  \n",
      " extracting: ./datasets/train/images/08_21C_0309_jpg.rf.22860d0b058557526380c39246579021.jpg  \n",
      " extracting: ./datasets/train/images/08_21C_0310_jpg.rf.24efb341f872bfd7d18011b129f53e9c.jpg  \n",
      " extracting: ./datasets/train/images/08_21C_0310_jpg.rf.3879110e369c96984c032df118aac37b.jpg  \n",
      " extracting: ./datasets/train/images/08_21C_0311_jpg.rf.342bdeca4488d88e8a310e81fe93542d.jpg  \n",
      " extracting: ./datasets/train/images/08_21C_0312_jpg.rf.1e8c42a41d87052825f3bd58ff6301fe.jpg  \n",
      " extracting: ./datasets/train/images/08_21C_0312_jpg.rf.4ee8bd1b29d19d42863a8066b509f269.jpg  \n",
      " extracting: ./datasets/train/images/08_21C_0313_jpg.rf.786cfc4723f194121ab974348ca12538.jpg  \n",
      " extracting: ./datasets/train/images/08_21C_0314_jpg.rf.1db0e0e485d103724e38ce3a74bafe5d.jpg  \n",
      " extracting: ./datasets/train/images/08_21C_0315_jpg.rf.83de3b7c7d33a83fb2ba12a05968b610.jpg  \n",
      " extracting: ./datasets/train/images/08_21C_0316_jpg.rf.af33b6fd1b5a95a5b40e403437ad7014.jpg  \n",
      " extracting: ./datasets/train/images/08_21C_0317_jpg.rf.491901a0569078c7fdc7b6eca15eb343.jpg  \n",
      " extracting: ./datasets/train/images/08_21C_0320_jpg.rf.6f1f262e65a834725aaf8cfbdb0ae7ca.jpg  \n",
      " extracting: ./datasets/train/images/08_21C_0321_jpg.rf.824d0ea9139f5b317c33e4236d9b427c.jpg  \n",
      " extracting: ./datasets/train/images/08_21C_0321_jpg.rf.ddcf968f0b59f20146103e48648c7f7e.jpg  \n",
      " extracting: ./datasets/train/images/08_21C_0323_jpg.rf.9091f0348a412be22f7b46743c221612.jpg  \n",
      " extracting: ./datasets/train/images/08_21C_0324_jpg.rf.cc7314b37719b1c8d3fd1705b84224ef.jpg  \n",
      " extracting: ./datasets/train/images/08_21C_0325_jpg.rf.3be7659c312ab9a117caf17719058946.jpg  \n",
      " extracting: ./datasets/train/images/08_21C_0327_jpg.rf.074076850606716c2f4eddd83ef3b1e0.jpg  \n",
      " extracting: ./datasets/train/images/08_21C_0327_jpg.rf.33cf2f6edeccf4eef1121341ffe7e921.jpg  \n",
      " extracting: ./datasets/train/images/08_21C_0328_jpg.rf.b2f9a88be82984e007b5ce8dc3389df4.jpg  \n",
      " extracting: ./datasets/train/images/08_21C_0329_jpg.rf.cce9a7beb8d7ad39566c7ac2fc2cc269.jpg  \n",
      " extracting: ./datasets/train/images/08_21C_0329_jpg.rf.e680cc29afd2ff4b9f520c25b4bbd2c5.jpg  \n",
      " extracting: ./datasets/train/images/08_21C_0330_jpg.rf.9d73a90f6d5403462995c4f522f7eb74.jpg  \n",
      " extracting: ./datasets/train/images/08_21C_0330_jpg.rf.f216e66447ca7a383c184c0f51110f74.jpg  \n",
      " extracting: ./datasets/train/images/08_21C_0331_jpg.rf.0505c7bfa99ef6bd84fac528331e2f8e.jpg  \n",
      " extracting: ./datasets/train/images/08_21C_0332_jpg.rf.841eab1cf78def22bf330a31b13f7736.jpg  \n",
      " extracting: ./datasets/train/images/08_21C_0335_jpg.rf.e00050bdba2c834dbfc54b752e60dffd.jpg  \n",
      " extracting: ./datasets/train/images/08_21C_0338_jpg.rf.009079e9c7a8f00db8e0a5ec9dc7753a.jpg  \n",
      " extracting: ./datasets/train/images/08_21C_0339_jpg.rf.10f99d40fb907399227c9b1230625476.jpg  \n",
      " extracting: ./datasets/train/images/08_21C_0340_jpg.rf.b4a27700d7bf6198f6f152722a036de2.jpg  \n",
      " extracting: ./datasets/train/images/08_21C_0341_jpg.rf.5881eb81b34ff0a49c91b6c25afbe85e.jpg  \n",
      " extracting: ./datasets/train/images/08_21C_0342_jpg.rf.e16d3d81d0cfe8a844841ad6c89147ba.jpg  \n",
      " extracting: ./datasets/train/images/08_21C_0343_jpg.rf.888ab277d5e8fbc85d85ceb811bdfd83.jpg  \n",
      " extracting: ./datasets/train/images/08_21C_0344_jpg.rf.c4798f2125ee43a61627abaa3c3d4106.jpg  \n",
      " extracting: ./datasets/train/images/08_21C_0346_jpg.rf.5b04c443fd1ac576563a1c0281c8ad23.jpg  \n",
      " extracting: ./datasets/train/images/08_21C_0347_jpg.rf.74bbd50a9f8e1ec7daa8a89ee8738e08.jpg  \n",
      " extracting: ./datasets/train/images/08_21C_0350_jpg.rf.3a91f62e138dd88188d0c6e4b4e84b35.jpg  \n",
      " extracting: ./datasets/train/images/08_21C_0351_jpg.rf.7eeef7ba2a3f1fe12e573f6e6df0bca9.jpg  \n",
      " extracting: ./datasets/train/images/08_21C_0354_jpg.rf.821ca1d1bf852d3d8b7dfe3e872df5ab.jpg  \n",
      " extracting: ./datasets/train/images/08_21C_0355_jpg.rf.f8682deae3ef100a9843297ae32566fd.jpg  \n",
      " extracting: ./datasets/train/images/08_21C_0356_jpg.rf.1a529cf6e86646174190aea93253f755.jpg  \n",
      " extracting: ./datasets/train/images/08_21C_0357_jpg.rf.89fb53980e051d976872f285b36d1cef.jpg  \n",
      " extracting: ./datasets/train/images/08_21C_0358_jpg.rf.8145cbcac8529a0b19abb92785d6bf1e.jpg  \n",
      " extracting: ./datasets/train/images/08_21C_0359_jpg.rf.ccee31f234272167b25325298d821daf.jpg  \n",
      " extracting: ./datasets/train/images/08_21C_0360_jpg.rf.81405c73879d92124d41ee6ef2fd52a2.jpg  \n",
      " extracting: ./datasets/train/images/08_21C_0361_jpg.rf.b65d4d9266a854f653f992cb647eaf9d.jpg  \n",
      " extracting: ./datasets/train/images/08_21C_0362_jpg.rf.b8ce83a418a73dc5b78ff74009d11504.jpg  \n",
      " extracting: ./datasets/train/images/08_21C_0364_jpg.rf.d2b3ffe7f07282a685dab694e5249e72.jpg  \n",
      " extracting: ./datasets/train/images/08_21C_0366_jpg.rf.68ed697405c3128c7db199f6ebb57cb0.jpg  \n",
      " extracting: ./datasets/train/images/08_21C_0367_jpg.rf.f520de33c6daa786af62f3b8fb98b83a.jpg  \n",
      " extracting: ./datasets/train/images/08_21C_0371_jpg.rf.a32b1c1cbb88ef20fae0da5576fb0ad1.jpg  \n",
      " extracting: ./datasets/train/images/08_21C_0372_jpg.rf.2d8539918c588f5b285e599277b182d7.jpg  \n",
      " extracting: ./datasets/train/images/08_21C_0374_jpg.rf.0b708ebc703d788536c5dfd01005f180.jpg  \n",
      " extracting: ./datasets/train/images/08_21C_0375_jpg.rf.c0025efd34f7c3e8c68d8a781039fde9.jpg  \n",
      " extracting: ./datasets/train/images/08_21C_0378_jpg.rf.e311783dc87d5b4e4358b936b5005b34.jpg  \n",
      " extracting: ./datasets/train/images/08_21C_0379_jpg.rf.04e76e98ea1e84fa3ebb1494ae6c34fa.jpg  \n",
      " extracting: ./datasets/train/images/08_21C_0381_jpg.rf.dd85f3c34e35295d2ba24aff7e5277d6.jpg  \n",
      " extracting: ./datasets/train/images/08_21C_0383_jpg.rf.d6444cfab836569b5845b9a5c0d59015.jpg  \n",
      " extracting: ./datasets/train/images/08_21C_0387_jpg.rf.f773447cd9a621fbce78c5ba1da14d8d.jpg  \n",
      " extracting: ./datasets/train/images/08_21C_0388_jpg.rf.d4b67dd05fbe2263c25c2def86f19956.jpg  \n",
      " extracting: ./datasets/train/images/08_21C_0389_jpg.rf.f4eb84fa315ad7408f6c9fd4500ae978.jpg  \n",
      " extracting: ./datasets/train/images/08_21C_0390_jpg.rf.575cc0205e97b9eea336a4c56e3e8fba.jpg  \n",
      " extracting: ./datasets/train/images/08_21C_0391_jpg.rf.b1aab3d7836c2c27dd4e829ccec50ce5.jpg  \n",
      " extracting: ./datasets/train/images/08_21C_0392_jpg.rf.713ad35d44b66cb5caa9847c7239906a.jpg  \n",
      " extracting: ./datasets/train/images/08_21C_0393_jpg.rf.bf23ec34d9c298cb8b509df5c1366638.jpg  \n",
      " extracting: ./datasets/train/images/08_21C_0394_jpg.rf.9055e08ea10e02b97471500354d8f235.jpg  \n",
      " extracting: ./datasets/train/images/08_21C_0395_jpg.rf.3f8aeb5f1131653e2c4a1f9f68a0e1aa.jpg  \n",
      " extracting: ./datasets/train/images/08_21C_0396_jpg.rf.eda33fdf1e9552f23dce08eb41cc36eb.jpg  \n",
      " extracting: ./datasets/train/images/08_21C_0397_jpg.rf.e889ca1503e0ed1271340e8a6a06ed24.jpg  \n",
      " extracting: ./datasets/train/images/08_21C_0398_jpg.rf.17e44e0853a1bfb36dc8476270c5cc8f.jpg  \n",
      " extracting: ./datasets/train/images/08_21C_0400_jpg.rf.d78351e2c52898ff3bd063a36e428f0d.jpg  \n",
      " extracting: ./datasets/train/images/08_21C_0401_jpg.rf.e018fc3cc1634f5a6046e1b29f981137.jpg  \n",
      " extracting: ./datasets/train/images/08_21C_0402_jpg.rf.5d84566b9868c4a08f0ee4e86d46850e.jpg  \n",
      " extracting: ./datasets/train/images/08_21C_0403_jpg.rf.20b385dca9b5a1f9f68486ffa8957123.jpg  \n",
      " extracting: ./datasets/train/images/08_21C_0404_jpg.rf.023d4c7cbec5627a2c82d13d711aa844.jpg  \n",
      " extracting: ./datasets/train/images/08_21C_0406_jpg.rf.3d91f7b88af4aac2516451ac4db9297e.jpg  \n",
      " extracting: ./datasets/train/images/08_21C_0407_jpg.rf.8dfd485c8ad4d1bb646fa3f5d5261a73.jpg  \n",
      " extracting: ./datasets/train/images/08_21C_0408_jpg.rf.9ce00c7cbfd4506e43c0590e19b634b3.jpg  \n",
      " extracting: ./datasets/train/images/08_21C_0409_jpg.rf.78347d337403b85640cedfd2101ae384.jpg  \n",
      " extracting: ./datasets/train/images/08_21C_0410_jpg.rf.ab968d14f88ce9b57de4bffd0b687b56.jpg  \n",
      " extracting: ./datasets/train/images/08_21C_0411_jpg.rf.301119beb05cfc1d5394c3b5ca531504.jpg  \n",
      " extracting: ./datasets/train/images/08_21C_0414_jpg.rf.b6bacc2ff090d5dacb802fc2f67a165b.jpg  \n",
      " extracting: ./datasets/train/images/08_21C_0418_jpg.rf.962633d04d25fda95dfd99f89ba00228.jpg  \n",
      " extracting: ./datasets/train/images/08_21C_0419_jpg.rf.8fe2c12819283ff816459ebdd485e38d.jpg  \n",
      " extracting: ./datasets/train/images/08_21C_0420_jpg.rf.14975988ad4cfe9354085ca4a7b9f820.jpg  \n",
      " extracting: ./datasets/train/images/08_21C_0421_jpg.rf.08c072f6e6975042a01affcd6085853f.jpg  \n",
      " extracting: ./datasets/train/images/08_21C_0422_jpg.rf.3959e34b09044f8c59c16a5b498f3817.jpg  \n",
      " extracting: ./datasets/train/images/08_21C_0423_jpg.rf.d92945555a6b88e7b0082fd4fed87afd.jpg  \n",
      " extracting: ./datasets/train/images/08_21C_0424_jpg.rf.023f9611213eada423ba359582530877.jpg  \n",
      " extracting: ./datasets/train/images/08_21C_0425_jpg.rf.f646a0dcda3a4ccab48d91418110b146.jpg  \n",
      " extracting: ./datasets/train/images/08_21C_0427_jpg.rf.dfb60220111d6df42a32f09bef28a251.jpg  \n",
      " extracting: ./datasets/train/images/08_21C_0433_jpg.rf.7043d567aea62df94e23c5bf86c2f185.jpg  \n",
      " extracting: ./datasets/train/images/08_21C_0434_jpg.rf.d9fb6d1c5e01014af002abe0c2d92ad0.jpg  \n",
      " extracting: ./datasets/train/images/08_21C_0438_jpg.rf.7fbc890ef3728ecd45592ac93e20265d.jpg  \n",
      " extracting: ./datasets/train/images/08_21C_0439_jpg.rf.576e4877c482da9f588d6aafce1fdef5.jpg  \n",
      " extracting: ./datasets/train/images/08_21C_0444_jpg.rf.62f49375e012fa7a4190be4b761aadac.jpg  \n",
      " extracting: ./datasets/train/images/08_21C_0445_jpg.rf.56d84115173a1b027dee7d1474c908e6.jpg  \n",
      " extracting: ./datasets/train/images/08_21C_0450_jpg.rf.2758af2d0713de1057e9ff471fdb0e98.jpg  \n",
      " extracting: ./datasets/train/images/08_21C_0452_jpg.rf.09e56a3219b79e561f31f6fb187d5806.jpg  \n",
      " extracting: ./datasets/train/images/08_21C_0454_jpg.rf.61f44a6279c7b6f649ecd89949920540.jpg  \n",
      " extracting: ./datasets/train/images/08_21C_0456_jpg.rf.9c8e5b110a464ea2437d06d8ec901da1.jpg  \n",
      " extracting: ./datasets/train/images/08_21C_0457_jpg.rf.be0fd9e99f2eb3e280b9e65a43fb37b6.jpg  \n",
      " extracting: ./datasets/train/images/08_21C_0458_jpg.rf.f5267df78e1551a2b1adf495df3b4762.jpg  \n",
      " extracting: ./datasets/train/images/08_21C_0460_jpg.rf.5133d3c13e449ec11cbf5ec9d78d8d30.jpg  \n",
      " extracting: ./datasets/train/images/08_21C_0461_jpg.rf.1536a4a93807ec50c3421d62b445d47e.jpg  \n",
      " extracting: ./datasets/train/images/08_21C_0464_jpg.rf.316e45d171d8ec16d9ca093c776b6de5.jpg  \n",
      " extracting: ./datasets/train/images/08_21C_0468_jpg.rf.e86e4370e535de11eb3be269ae4bb277.jpg  \n",
      " extracting: ./datasets/train/images/08_21C_0469_jpg.rf.dbb9f432c8bfbbaea8778d2dffbe3da0.jpg  \n",
      " extracting: ./datasets/train/images/08_21C_0471_jpg.rf.6e610e43fb6d9182d0e01273c8677bac.jpg  \n",
      " extracting: ./datasets/train/images/08_21C_0472_jpg.rf.f0f29f69be61946cc4090bf3ad6f3877.jpg  \n",
      " extracting: ./datasets/train/images/08_21C_0473_jpg.rf.9ee8250becd663205e94cf9c8a7d27eb.jpg  \n",
      " extracting: ./datasets/train/images/08_21C_0474_jpg.rf.e68a28ea4c860c2ae868cfbaa0efce49.jpg  \n",
      " extracting: ./datasets/train/images/08_21C_0475_jpg.rf.13ca33f90c1f9c802dca682b338e680f.jpg  \n",
      " extracting: ./datasets/train/images/08_21C_0477_jpg.rf.8bf3581c150ccae9ac93c61aeca4cd74.jpg  \n",
      " extracting: ./datasets/train/images/08_21C_0478_jpg.rf.44f58956b6fbf5afd3d884adc68e3bcb.jpg  \n",
      " extracting: ./datasets/train/images/08_21C_0479_jpg.rf.c085bf69c6fddb8a3ba3dd2f62de7711.jpg  \n",
      " extracting: ./datasets/train/images/08_21C_0480_jpg.rf.102a5999b22cb70e54b9787467988b3a.jpg  \n",
      " extracting: ./datasets/train/images/08_21C_0482_jpg.rf.e322cf3eb0928343a72c8fd09fa5e01c.jpg  \n",
      " extracting: ./datasets/train/images/08_21C_0484_jpg.rf.f81f9b8f4afd57bbd8e6b55ed859ae70.jpg  \n",
      " extracting: ./datasets/train/images/08_21C_0485_jpg.rf.d422fda9b7b959ec08fe43004439585e.jpg  \n",
      " extracting: ./datasets/train/images/08_21C_0486_jpg.rf.b7576ed9318cae68d5ffbc8ec0b90728.jpg  \n",
      " extracting: ./datasets/train/images/08_21C_0487_jpg.rf.1331dd3dfb93635202faa59c3e3f426d.jpg  \n",
      " extracting: ./datasets/train/images/08_21C_0488_jpg.rf.05229f771a3c94f97dea5f2ecc4a0f06.jpg  \n",
      " extracting: ./datasets/train/images/08_21C_0489_jpg.rf.b28124467d5f03be7ddd74277b270b5b.jpg  \n",
      " extracting: ./datasets/train/images/08_21C_0490_jpg.rf.1afca009456316c7c1aac5e7591f9c60.jpg  \n",
      " extracting: ./datasets/train/images/08_21C_0491_jpg.rf.4d380efd25bc42ed575bbe8d23bb0908.jpg  \n",
      " extracting: ./datasets/train/images/08_21C_0495_jpg.rf.91611925d78ddcd7b69be2987ea9416e.jpg  \n",
      " extracting: ./datasets/train/images/08_21C_0496_jpg.rf.75799d741957b963628b95cbd69d7b14.jpg  \n",
      " extracting: ./datasets/train/images/08_21C_0499_jpg.rf.a259d8ba66cc1c0f32d44bf6c0ade51f.jpg  \n",
      " extracting: ./datasets/train/images/08_21C_0500_jpg.rf.6a0570d6d736b3fe5ba97a7d71a1ce62.jpg  \n",
      " extracting: ./datasets/train/images/08_21C_0501_jpg.rf.d8c15222f9b32494322df189383ab93e.jpg  \n",
      " extracting: ./datasets/train/images/08_21C_0502_jpg.rf.e2a019fa349dac02941aefdcee60c7a8.jpg  \n",
      " extracting: ./datasets/train/images/08_21C_0503_jpg.rf.9db1ab1599734f72575d9b4c96376f9d.jpg  \n",
      " extracting: ./datasets/train/images/08_21C_0504_jpg.rf.a6bc8f21617eb20d922828246c10150b.jpg  \n",
      " extracting: ./datasets/train/images/08_21C_0505_jpg.rf.86c288b2d4ef7f68ac1c466defe7a144.jpg  \n",
      " extracting: ./datasets/train/images/08_21C_0507_jpg.rf.a80a6034d285196ea68bc0c9d39af741.jpg  \n",
      " extracting: ./datasets/train/images/08_21C_0508_jpg.rf.3f1a0f3159787c28690600be6aeb5dea.jpg  \n",
      " extracting: ./datasets/train/images/08_21C_0509_jpg.rf.86477c83710209ba4ceeaa15fcbcc3c2.jpg  \n",
      " extracting: ./datasets/train/images/08_21C_0510_jpg.rf.95aa817c42f69c91d71daef5fc395c07.jpg  \n",
      " extracting: ./datasets/train/images/08_21C_0511_jpg.rf.4e506ac28b3e13795f3b137dfaf260e5.jpg  \n",
      " extracting: ./datasets/train/images/08_21C_0512_jpg.rf.d66f5017a70251a9bdf397e876fe92d3.jpg  \n",
      " extracting: ./datasets/train/images/08_21C_0513_jpg.rf.6e09a8c9f031e61bac05eb7e330fda87.jpg  \n",
      " extracting: ./datasets/train/images/08_21C_0515_jpg.rf.c02bc8c94ec8b0269e7251ad0c69df0a.jpg  \n",
      " extracting: ./datasets/train/images/08_21C_0516_jpg.rf.b6e6202afb9a58092d07e5a9cb5797f9.jpg  \n",
      " extracting: ./datasets/train/images/08_21C_0517_jpg.rf.e2df4ec62bfabde5a5f94345b2caea00.jpg  \n",
      " extracting: ./datasets/train/images/08_21C_0518_jpg.rf.899ca9290da70b1a998652a64a570c71.jpg  \n",
      " extracting: ./datasets/train/images/08_21C_0519_jpg.rf.fd7201922afec8fbe7b4df5c29b89c70.jpg  \n",
      " extracting: ./datasets/train/images/08_21C_0520_jpg.rf.f181e202a9eaa56b1b56bdb4e07563f1.jpg  \n",
      " extracting: ./datasets/train/images/08_21C_0521_jpg.rf.ae46d3a61bec4c91741c73653e6e4c5d.jpg  \n",
      " extracting: ./datasets/train/images/08_21C_0522_jpg.rf.2110112c71ced43dbb070cc537e098ea.jpg  \n",
      " extracting: ./datasets/train/images/08_21C_0523_jpg.rf.51a87c2a1e8aa3825854aa005d9b2fe2.jpg  \n",
      " extracting: ./datasets/train/images/08_21C_0524_jpg.rf.7b1a82b1156bd0217d29a662c3787efb.jpg  \n",
      " extracting: ./datasets/train/images/08_21C_0526_jpg.rf.51328d82e6bb3e77bc9ecccd3242bf5b.jpg  \n",
      " extracting: ./datasets/train/images/08_21C_0527_jpg.rf.6da5d013dc0e935b6b6614cada5e64e0.jpg  \n",
      " extracting: ./datasets/train/images/08_21C_0529_jpg.rf.347ea279e0d593881a200f083377e6a4.jpg  \n",
      " extracting: ./datasets/train/images/08_21C_0530_jpg.rf.d605e53b34031f504669479684c67648.jpg  \n",
      " extracting: ./datasets/train/images/08_21C_0533_jpg.rf.13e820d06dd6ad73fc0f19a8d8a56824.jpg  \n",
      " extracting: ./datasets/train/images/08_21C_0534_jpg.rf.3955b75851336b168df5e30603409776.jpg  \n",
      " extracting: ./datasets/train/images/08_21C_0535_jpg.rf.e499aece660381ae35ecb2c126e4675a.jpg  \n",
      " extracting: ./datasets/train/images/08_21C_0537_jpg.rf.1a5c340bcebe0c1247ef90792d541d03.jpg  \n",
      " extracting: ./datasets/train/images/08_21C_0538_jpg.rf.a05616ab4bd1713915aa07a5fe8489c6.jpg  \n",
      " extracting: ./datasets/train/images/08_21C_0540_jpg.rf.5a1fb4c60b3ff37cd9a57719071ae104.jpg  \n",
      " extracting: ./datasets/train/images/08_21C_0542_jpg.rf.99f5e0b0cd4ddf4b6b6565933bb0267a.jpg  \n",
      " extracting: ./datasets/train/images/08_21C_0543_jpg.rf.a88f462a199888eb6f28bf6542bf7661.jpg  \n",
      " extracting: ./datasets/train/images/08_21C_0544_jpg.rf.e066fc722f0548d3cd35fab3114675aa.jpg  \n",
      " extracting: ./datasets/train/images/08_21C_0547_jpg.rf.05341b650afa47574cea25155f180dfd.jpg  \n",
      " extracting: ./datasets/train/images/08_21C_0549_jpg.rf.acd6c76d8c88c717a9d3feba27f5e59b.jpg  \n",
      " extracting: ./datasets/train/images/08_21C_0550_jpg.rf.95db3df2bb008ce8dac2c78fb307160c.jpg  \n",
      " extracting: ./datasets/train/images/08_21C_0551_jpg.rf.13b947b48287227058ebff04f6bc4642.jpg  \n",
      " extracting: ./datasets/train/images/08_21C_0552_jpg.rf.90ea1cd83502a5ba0d4eb2e9ef1e3898.jpg  \n",
      " extracting: ./datasets/train/images/08_21C_0553_jpg.rf.2998704ae4ad614fbbac8e65261a40d6.jpg  \n",
      " extracting: ./datasets/train/images/08_21C_0554_jpg.rf.23a0ff7caf043c1b1883e56c09807202.jpg  \n",
      " extracting: ./datasets/train/images/08_21C_0555_jpg.rf.6a24a77fb62f826bc4e287eb85a30d95.jpg  \n",
      " extracting: ./datasets/train/images/08_21C_0557_jpg.rf.c0aba273bf1997755fb076e5972b0419.jpg  \n",
      " extracting: ./datasets/train/images/08_21C_0558_jpg.rf.e8b2ad28aaaceb8c86dbffae486c5fdc.jpg  \n",
      " extracting: ./datasets/train/images/08_21C_0559_jpg.rf.e29c72e38189aa850d87c010143a1c67.jpg  \n",
      " extracting: ./datasets/train/images/08_21C_0560_jpg.rf.15ea1c081b83a11014ceff3a69d1479e.jpg  \n",
      " extracting: ./datasets/train/images/08_21C_0561_jpg.rf.eb8f7b72d150bd1fad91d4ae67983401.jpg  \n",
      " extracting: ./datasets/train/images/08_21C_0563_jpg.rf.67b1187438f5d0ca89e76345d3856a69.jpg  \n",
      " extracting: ./datasets/train/images/08_21C_0564_jpg.rf.a8f9eca2f25bf540ff5907c1461646b8.jpg  \n",
      " extracting: ./datasets/train/images/08_21C_0565_jpg.rf.0d2a1c507b9caa15d87552c9f306f8bf.jpg  \n",
      " extracting: ./datasets/train/images/08_21C_0566_jpg.rf.c88d8df9c79141b1d6a5ce833b5e597e.jpg  \n",
      " extracting: ./datasets/train/images/08_21C_0567_jpg.rf.b7d1a453b9cdd4316754828bc61132ef.jpg  \n",
      " extracting: ./datasets/train/images/08_21C_0568_jpg.rf.53d332965bcb6e6e3c73071da63be30c.jpg  \n",
      " extracting: ./datasets/train/images/08_21C_0569_jpg.rf.533922c0d7ababf28d76aa93a5f9c37b.jpg  \n",
      " extracting: ./datasets/train/images/08_21C_0570_jpg.rf.6335f7a4e752d0dc52bd98dc9649b42e.jpg  \n",
      " extracting: ./datasets/train/images/08_21C_0571_jpg.rf.8e2a0fbbc18ecb62a3466737a80409e1.jpg  \n",
      " extracting: ./datasets/train/images/08_21C_0574_jpg.rf.b2f3eae7e9b1b9ad4e187389a7cd4036.jpg  \n",
      " extracting: ./datasets/train/images/08_21C_0575_jpg.rf.ec668642e642d0e160c40962008b77f8.jpg  \n",
      " extracting: ./datasets/train/images/08_21C_0577_jpg.rf.5fd75c6b053d98a3bb67736e1683f279.jpg  \n",
      " extracting: ./datasets/train/images/08_21C_0578_jpg.rf.3802a274897286641ad2482e785344b7.jpg  \n",
      " extracting: ./datasets/train/images/08_21C_0583_jpg.rf.174d4ab7a640c9a895e61c337ed7e22e.jpg  \n",
      " extracting: ./datasets/train/images/08_21C_0584_jpg.rf.e2c83710beabd9815e7c689a633137ad.jpg  \n",
      " extracting: ./datasets/train/images/08_21C_0585_jpg.rf.731b97ed138c2b806c12a230a427fb9b.jpg  \n",
      " extracting: ./datasets/train/images/08_21C_0587_jpg.rf.a58a278fe15cdf7e24b6adedac91807b.jpg  \n",
      " extracting: ./datasets/train/images/08_21C_0588_jpg.rf.7bf72e6c788cd53f0df27d723b51bd11.jpg  \n",
      " extracting: ./datasets/train/images/08_21C_0589_jpg.rf.0dc0b3515aa6c40bcb03a067fb780af6.jpg  \n",
      " extracting: ./datasets/train/images/08_21C_0590_jpg.rf.103447588953a14fafde6fe1961b3e31.jpg  \n",
      " extracting: ./datasets/train/images/08_21C_0591_jpg.rf.53ea5c9f2cd96103751db017e5dd7b7b.jpg  \n",
      " extracting: ./datasets/train/images/08_21C_0593_jpg.rf.52bb715883883bd6679e9b4a723a3684.jpg  \n",
      " extracting: ./datasets/train/images/08_21C_0594_jpg.rf.5480a0372b46f62dcb808a120c98143c.jpg  \n",
      " extracting: ./datasets/train/images/08_21C_0597_jpg.rf.a52b6825083e59d1c2fe312231187a89.jpg  \n",
      " extracting: ./datasets/train/images/08_21C_0599_jpg.rf.d088e0ec1ca06ec88c2175ea9eab9be8.jpg  \n",
      " extracting: ./datasets/train/images/08_21C_0600_jpg.rf.12119ec5180e8dc3c9d849a08206969e.jpg  \n",
      " extracting: ./datasets/train/images/08_21C_0601_jpg.rf.e18b62b247620f349f6855b445913e43.jpg  \n",
      " extracting: ./datasets/train/images/08_21C_0603_jpg.rf.1216d9a11857363f5911c77ff5daf5b0.jpg  \n",
      " extracting: ./datasets/train/images/08_21C_0605_jpg.rf.3bb85ec5024bb452e51a5abde8616b48.jpg  \n",
      " extracting: ./datasets/train/images/08_21C_0606_jpg.rf.e2b964f9d5cc3a274a420362b1a53488.jpg  \n",
      " extracting: ./datasets/train/images/08_21C_0607_jpg.rf.0ecd600cb5ca738e3edaa02219ab4523.jpg  \n",
      " extracting: ./datasets/train/images/08_21C_0610_jpg.rf.daa81c4d50d6dc57764a61d06a72c903.jpg  \n",
      " extracting: ./datasets/train/images/08_21C_0611_jpg.rf.346813eb67298d2407d38598ca81b797.jpg  \n",
      " extracting: ./datasets/train/images/08_21C_0613_jpg.rf.90792bc0237a68ba69d0267ec5977119.jpg  \n",
      " extracting: ./datasets/train/images/08_21C_0616_jpg.rf.2cf18ffffdfc9eecc03b92435afaf047.jpg  \n",
      " extracting: ./datasets/train/images/08_21C_0618_jpg.rf.33aee20f646ff308337acf499bc003f8.jpg  \n",
      " extracting: ./datasets/train/images/08_21C_0619_jpg.rf.7e526923acfaf4de9004135cc5639b71.jpg  \n",
      " extracting: ./datasets/train/images/08_21C_0620_jpg.rf.3b6589ba3e407e4f7731c39f3d2d79a8.jpg  \n",
      " extracting: ./datasets/train/images/08_21C_0621_jpg.rf.55c7891213be6da3e9923eb09aa01b68.jpg  \n",
      " extracting: ./datasets/train/images/08_21C_0622_jpg.rf.d8cc5ec131efd6a375b28a717993fb45.jpg  \n",
      " extracting: ./datasets/train/images/08_21C_0623_jpg.rf.460d7abab12671813063bcd036679ec3.jpg  \n",
      " extracting: ./datasets/train/images/08_21C_0631_jpg.rf.d96f1344fd7eac96ab314e7154ab6301.jpg  \n",
      " extracting: ./datasets/train/images/08_21C_0632_jpg.rf.2c1d97fb0e661c3a44cf1fd1c426f9ed.jpg  \n",
      " extracting: ./datasets/train/images/08_21C_0633_jpg.rf.79fb65e75f1293add7a8617d766c6ae7.jpg  \n",
      " extracting: ./datasets/train/images/08_21C_0636_jpg.rf.3a19c66c4366684ebd3865e13a968bdc.jpg  \n",
      " extracting: ./datasets/train/images/08_21C_0637_jpg.rf.5e9f25b3b787ba0d2b2fbe9299012e85.jpg  \n",
      " extracting: ./datasets/train/images/08_21C_0638_jpg.rf.c70c8187a2c955d48d0b3604a8c96720.jpg  \n",
      " extracting: ./datasets/train/images/08_21C_0639_jpg.rf.35cd0d3fb218552f5a5ff4d06b62e0b4.jpg  \n",
      " extracting: ./datasets/train/images/08_21C_0640_jpg.rf.b5cbbdbb1ae3d6fad421e631f0b56cc1.jpg  \n",
      " extracting: ./datasets/train/images/08_21C_0641_jpg.rf.5b016a17f66c68c213c7279126deb203.jpg  \n",
      " extracting: ./datasets/train/images/08_21C_0642_jpg.rf.c3bb4241eba5f9cccc1e4240a7ef9d6f.jpg  \n",
      " extracting: ./datasets/train/images/08_21C_0643_jpg.rf.1e94aaa57eac9c3a484d7d5be96bed97.jpg  \n",
      " extracting: ./datasets/train/images/08_21C_0644_jpg.rf.9563fc047e957c52f0f8af575ab2a3cb.jpg  \n",
      " extracting: ./datasets/train/images/08_21C_0647_jpg.rf.83cc09165ac26aa0618d5f747364c5f4.jpg  \n",
      " extracting: ./datasets/train/images/08_21C_0648_jpg.rf.35f70c6ba93979ef90ca5065e930e890.jpg  \n",
      " extracting: ./datasets/train/images/08_21C_0649_jpg.rf.8ce79cfff251a9a33a44dd8cf8bce188.jpg  \n",
      " extracting: ./datasets/train/images/08_21C_0650_jpg.rf.323874d1766b0926c1d22ccce82b886d.jpg  \n",
      " extracting: ./datasets/train/images/08_21C_0651_jpg.rf.2c6f0f1f022a1051449bb6125aed9b80.jpg  \n",
      " extracting: ./datasets/train/images/08_21C_0652_jpg.rf.9bc1e703d49b8b2523a5045669dccc63.jpg  \n",
      " extracting: ./datasets/train/images/08_21C_0654_jpg.rf.6e157b45b3f3129a77aeb53b305d9c62.jpg  \n",
      " extracting: ./datasets/train/images/08_21C_0656_jpg.rf.14234f0ddceba1735331ab6720d55993.jpg  \n",
      " extracting: ./datasets/train/images/08_21C_0657_jpg.rf.1f83c0c169d2b905f090cb7a6d0996e5.jpg  \n",
      " extracting: ./datasets/train/images/08_21C_0659_jpg.rf.8ab5d4183d24bd2d7f7e2bbc430082b9.jpg  \n",
      " extracting: ./datasets/train/images/08_21C_0660_jpg.rf.ad3aada83f2c292773584796521d7bad.jpg  \n",
      " extracting: ./datasets/train/images/08_21C_0661_jpg.rf.79337c4a4c9a9e4afc410f3015d95923.jpg  \n",
      " extracting: ./datasets/train/images/08_21C_0662_jpg.rf.1a97ddf304f2a1513885760fa75a9948.jpg  \n",
      " extracting: ./datasets/train/images/08_21C_0663_jpg.rf.2a25cec39286b0cd2df32ff82e28f9c2.jpg  \n",
      " extracting: ./datasets/train/images/08_21C_0664_jpg.rf.b44e1ef1031dd9fd997e57fe6dc6f49a.jpg  \n",
      " extracting: ./datasets/train/images/08_21C_0666_jpg.rf.41da338915467c2f06b7b511ebc7438d.jpg  \n",
      " extracting: ./datasets/train/images/08_21C_0669_jpg.rf.de46dbc99dff8f4425861c5cbb2083e0.jpg  \n",
      " extracting: ./datasets/train/images/08_21C_0670_jpg.rf.b8511b7344c9d9cd14d0c7d0fa45ca44.jpg  \n",
      " extracting: ./datasets/train/images/08_21C_0671_jpg.rf.58a822be579b35661ef27095d2b4cbb3.jpg  \n",
      " extracting: ./datasets/train/images/08_21C_0672_jpg.rf.cb51b90a1bb303df4b2fe27b026a5873.jpg  \n",
      " extracting: ./datasets/train/images/08_21C_0681_jpg.rf.af013ad258bb1f8dcaab9a0b63afd01d.jpg  \n",
      " extracting: ./datasets/train/images/08_21C_0683_jpg.rf.54e797d3d7311ff712ed1f018ba5509e.jpg  \n",
      " extracting: ./datasets/train/images/08_21C_0685_jpg.rf.178614bfe581121b3b2e723d745037b9.jpg  \n",
      " extracting: ./datasets/train/images/08_21C_0686_jpg.rf.e7aee6b6de35648467869ecc0ba9a946.jpg  \n",
      " extracting: ./datasets/train/images/08_21C_0687_jpg.rf.593ef14cc20046c77ae912a1e997bf68.jpg  \n",
      " extracting: ./datasets/train/images/08_21C_0688_jpg.rf.23e5ffe6ce9a545c5d6333f44eb8e66d.jpg  \n",
      " extracting: ./datasets/train/images/08_21C_0689_jpg.rf.163eee53c97dd935db965e2711c356a8.jpg  \n",
      " extracting: ./datasets/train/images/08_21C_0690_jpg.rf.50271d1c07998de31ffacb92557992be.jpg  \n",
      " extracting: ./datasets/train/images/08_21C_0693_jpg.rf.fac9b3741a049d43dee3dade6526af49.jpg  \n",
      " extracting: ./datasets/train/images/08_21C_0695_jpg.rf.940d13e73a838cc540621175cd4f1797.jpg  \n",
      " extracting: ./datasets/train/images/08_21C_0696_jpg.rf.a271fbb894fac57fc2b6705e599d2f4b.jpg  \n",
      " extracting: ./datasets/train/images/08_21C_0697_jpg.rf.eeb971c993ba6ac8cef2501fe61b4c40.jpg  \n",
      " extracting: ./datasets/train/images/08_21C_0698_jpg.rf.87808172476f827bc4b9024bdba869cb.jpg  \n",
      " extracting: ./datasets/train/images/08_21C_0699_jpg.rf.7d2a8675bafac8fda55e1d3db7978bbd.jpg  \n",
      " extracting: ./datasets/train/images/08_21C_0700_jpg.rf.6223050b746991b50602a9300669230e.jpg  \n",
      " extracting: ./datasets/train/images/08_21C_0701_jpg.rf.eca5f3d45650c0c160ab0698c671b196.jpg  \n",
      " extracting: ./datasets/train/images/08_21C_0702_jpg.rf.2f42af6ebd1179305d4870b2b79d1a8c.jpg  \n",
      " extracting: ./datasets/train/images/08_21C_0703_jpg.rf.87b0ddb8ed801ddbe90e7f9a7cfb4573.jpg  \n",
      " extracting: ./datasets/train/images/08_21C_0704_jpg.rf.34e3b0c7faaedc39f42bdebf4ca81c08.jpg  \n",
      " extracting: ./datasets/train/images/08_21C_0705_jpg.rf.c6814c8a352d205a6a29e0b9f125ddb6.jpg  \n",
      " extracting: ./datasets/train/images/08_21C_0706_jpg.rf.27fb46ed33318e8a03696d4d30616df6.jpg  \n",
      " extracting: ./datasets/train/images/08_21C_0712_jpg.rf.daa1c2227f332d57e39452d2e85484b2.jpg  \n",
      " extracting: ./datasets/train/images/08_21C_0713_jpg.rf.8c4a528738b60cb056356b3a2e318f96.jpg  \n",
      " extracting: ./datasets/train/images/08_21C_0714_jpg.rf.debf16cf37e95827fc4ff9710f25e4b4.jpg  \n",
      " extracting: ./datasets/train/images/08_21C_0715_jpg.rf.640855078ef806dd54fc17169c25499f.jpg  \n",
      " extracting: ./datasets/train/images/08_21C_0716_jpg.rf.799616d6b61a92d49baa0b6e372c1a8d.jpg  \n",
      " extracting: ./datasets/train/images/08_21C_0718_jpg.rf.5b68510c0631018139854a35504616f8.jpg  \n",
      " extracting: ./datasets/train/images/08_21C_0719_jpg.rf.130ac87617e2cbb70f6855395d4d93bd.jpg  \n",
      " extracting: ./datasets/train/images/08_21C_0723_jpg.rf.2089f139eec38c9646c8f4f1c7dad754.jpg  \n",
      " extracting: ./datasets/train/images/08_21C_0724_jpg.rf.b417f6841d376fe9abaaea5aeea6fddb.jpg  \n",
      " extracting: ./datasets/train/images/08_21C_0727_jpg.rf.b919463ffbc4d1d85ec7cc722fe4e5c1.jpg  \n",
      " extracting: ./datasets/train/images/08_21C_0728_jpg.rf.e9727e9e47f292de269333813a577d81.jpg  \n",
      " extracting: ./datasets/train/images/08_21C_0729_jpg.rf.98982128112aa6f73aa92a3fd5136d30.jpg  \n",
      " extracting: ./datasets/train/images/08_21C_0731_jpg.rf.8a110a7baadba3a7f59cab5fbd1900bc.jpg  \n",
      " extracting: ./datasets/train/images/08_21C_0732_jpg.rf.09e83bb645ceb64d9fdcedc88fe973a8.jpg  \n",
      " extracting: ./datasets/train/images/08_21C_0736_jpg.rf.a173f6cf87ad97af7959c174a09e5883.jpg  \n",
      " extracting: ./datasets/train/images/08_21C_0740_jpg.rf.67519188b8aa5e98536d22fd3f39a3ec.jpg  \n",
      " extracting: ./datasets/train/images/08_21C_0741_jpg.rf.4fc09b57d0ed0d3118d44df02de8cf6e.jpg  \n",
      " extracting: ./datasets/train/images/08_21C_0742_jpg.rf.5a69986a63f49edd2acf3d4eb8243644.jpg  \n",
      " extracting: ./datasets/train/images/08_21C_0745_jpg.rf.8e1f37852b44d3c0539c396da689ecc9.jpg  \n",
      " extracting: ./datasets/train/images/08_21C_0750_jpg.rf.c7d53017d05ec73fe56573e5a40b8bc2.jpg  \n",
      " extracting: ./datasets/train/images/08_21C_0752_jpg.rf.a70ba76d6892f51ff47d02f9076a7c4b.jpg  \n",
      " extracting: ./datasets/train/images/08_21C_0753_jpg.rf.4bf29c0b50a95263621338d160c6bc89.jpg  \n",
      " extracting: ./datasets/train/images/08_21C_0754_jpg.rf.ebbd5137ecdefbff38f53b4fda36df1a.jpg  \n",
      " extracting: ./datasets/train/images/08_21C_0755_jpg.rf.42ee8902cf82b3b104de6cd7c9b37eb5.jpg  \n",
      " extracting: ./datasets/train/images/08_21C_0756_jpg.rf.4cb354ef3005c7e9cc5a719020b89d52.jpg  \n",
      " extracting: ./datasets/train/images/08_21C_0759_jpg.rf.5718714026c349174bc57a3e4d71d567.jpg  \n",
      " extracting: ./datasets/train/images/08_21C_0760_jpg.rf.5f7504e59a79d4e54098460b3c32ed83.jpg  \n",
      " extracting: ./datasets/train/images/08_21C_0761_jpg.rf.bc4222780d0f957164a7441a10d9077c.jpg  \n",
      " extracting: ./datasets/train/images/08_21C_0763_jpg.rf.f794d55acfa822d394c9054876ba5ca6.jpg  \n",
      " extracting: ./datasets/train/images/08_21C_0764_jpg.rf.33048577ff1b976ce1d70cf5783b60a3.jpg  \n",
      " extracting: ./datasets/train/images/08_21C_0765_jpg.rf.c72aadb5dbf5739c3ca7ca3024570427.jpg  \n",
      " extracting: ./datasets/train/images/08_21C_0766_jpg.rf.6acfd33a280071d89a28ea6e9ffb6587.jpg  \n",
      " extracting: ./datasets/train/images/08_21C_0767_jpg.rf.144c190e8ffd43aac237b08b6835510e.jpg  \n",
      " extracting: ./datasets/train/images/08_21C_0768_jpg.rf.691c6f45914eeb03f041ce3c776f8eea.jpg  \n",
      " extracting: ./datasets/train/images/08_21C_0770_jpg.rf.5a46c55fd4a78926811c020fb159822c.jpg  \n",
      " extracting: ./datasets/train/images/08_21C_0771_jpg.rf.5491619a71535582f1820706585faf91.jpg  \n",
      " extracting: ./datasets/train/images/08_21C_0772_jpg.rf.15db5c153f2af7d1ba23da18043f768b.jpg  \n",
      " extracting: ./datasets/train/images/08_21C_0774_jpg.rf.14464e597c541da5cc0ee10bb0163964.jpg  \n",
      " extracting: ./datasets/train/images/08_21C_0775_jpg.rf.244b451011bd0f7932df849bee3a8a53.jpg  \n",
      " extracting: ./datasets/train/images/08_21C_0779_jpg.rf.f8b95f2c13b2bb4878c8bb473360524c.jpg  \n",
      " extracting: ./datasets/train/images/08_21C_0781_jpg.rf.fd3d579f85bd7e60b2ad567b46a6ecd6.jpg  \n",
      " extracting: ./datasets/train/images/08_21C_0783_jpg.rf.59cae585dbd3485ee6da002edbf0b514.jpg  \n",
      " extracting: ./datasets/train/images/08_21C_0784_jpg.rf.9de4e742d7b042493151637ac823d287.jpg  \n",
      " extracting: ./datasets/train/images/08_21C_0785_jpg.rf.7086dfd7cb39b1a884a8e8c30363cc25.jpg  \n",
      " extracting: ./datasets/train/images/08_21C_0786_jpg.rf.bb3601cc6e6a57b933c930cf26f8ba76.jpg  \n",
      " extracting: ./datasets/train/images/08_21C_0789_jpg.rf.aa0eced35b1e535742a8508a6c5559ed.jpg  \n",
      " extracting: ./datasets/train/images/08_21C_0791_jpg.rf.55c415eb4a3be6cfadf5262797ee15a6.jpg  \n",
      " extracting: ./datasets/train/images/08_21C_0792_jpg.rf.f142a9b30c9321429f61a4f44383f3c2.jpg  \n",
      " extracting: ./datasets/train/images/08_21C_0794_jpg.rf.1634b035a612e3008e674a777545e064.jpg  \n",
      " extracting: ./datasets/train/images/08_21C_0796_jpg.rf.bc596514665d76cd248f97dcf727d793.jpg  \n",
      " extracting: ./datasets/train/images/08_21C_0797_jpg.rf.5904b870b0f78a0321bb7a62f2afe792.jpg  \n",
      " extracting: ./datasets/train/images/08_21C_0799_jpg.rf.e25eec740d9fd8defa0e26a0ee0ebc8e.jpg  \n",
      " extracting: ./datasets/train/images/08_21C_0800_jpg.rf.0bb64ff5908f8fe364aa382887ac7e3c.jpg  \n",
      " extracting: ./datasets/train/images/08_21C_0801_jpg.rf.f4b6cbdd1a83cc7c856e2001244fceb7.jpg  \n",
      " extracting: ./datasets/train/images/08_21C_0803_jpg.rf.882b4ce6582a068f736070198b3a7f40.jpg  \n",
      " extracting: ./datasets/train/images/08_21C_0804_jpg.rf.1e9763ed17aee0517d7c5b180aaa720e.jpg  \n",
      " extracting: ./datasets/train/images/08_21C_0805_jpg.rf.c785184e819ee19a8c97ebda733b0023.jpg  \n",
      " extracting: ./datasets/train/images/08_21C_0810_jpg.rf.b11f7b6145ced916d23b76ad1708642b.jpg  \n",
      " extracting: ./datasets/train/images/08_21C_0816_jpg.rf.933759ca4a691a73e1146d833e5afdf0.jpg  \n",
      " extracting: ./datasets/train/images/08_21C_0819_jpg.rf.bec4ae95d35e1460f28b5cfecce7cd09.jpg  \n",
      " extracting: ./datasets/train/images/08_21C_0822_jpg.rf.2c7f7206f4acae19403a6f4dcff76638.jpg  \n",
      " extracting: ./datasets/train/images/08_21C_0823_jpg.rf.fe9d9b6b19cf3fe419b285f40758d514.jpg  \n",
      " extracting: ./datasets/train/images/08_21C_0824_jpg.rf.5ac6662d7252df4628503d70ddd3157b.jpg  \n",
      " extracting: ./datasets/train/images/08_21C_0826_jpg.rf.06d4cdde1f08091a31bc4f053c0e98cb.jpg  \n",
      " extracting: ./datasets/train/images/08_21C_0827_jpg.rf.fd6fccbe251b7e2dc6d736f6083cab7b.jpg  \n",
      " extracting: ./datasets/train/images/08_21C_0828_jpg.rf.91cfefdfa2721f0af0b4266d3e5e6d89.jpg  \n",
      " extracting: ./datasets/train/images/08_21C_0829_jpg.rf.1a04fdeaea58deb1af0e1192f715ba54.jpg  \n",
      " extracting: ./datasets/train/images/08_21C_0830_jpg.rf.05618dc51aca9bcdde07ec3aa661bd87.jpg  \n",
      " extracting: ./datasets/train/images/08_21C_0831_jpg.rf.7a0e671573eb86cf2eb8a9fa3ea32bf1.jpg  \n",
      " extracting: ./datasets/train/images/08_21C_0832_jpg.rf.300dbc54f351475a1e6420d7d12387a3.jpg  \n",
      " extracting: ./datasets/train/images/08_21C_0833_jpg.rf.a51f3a99efd707513a28a1bb59e4ff71.jpg  \n",
      " extracting: ./datasets/train/images/08_21C_0835_jpg.rf.ad11f1a997d6cf5e81ff7b3f3460c23d.jpg  \n",
      " extracting: ./datasets/train/images/08_21C_0836_jpg.rf.018ea5fc5b8ad72774daf8ec77459522.jpg  \n",
      " extracting: ./datasets/train/images/08_21C_0837_jpg.rf.e470cb34a38148bd18c11fd3b19689f2.jpg  \n",
      " extracting: ./datasets/train/images/08_21C_0838_jpg.rf.00d8c0888972e1e8fbe6fe3a79b75587.jpg  \n",
      " extracting: ./datasets/train/images/08_21C_0839_jpg.rf.5d43e7a26df1caa7ef72552e58a0119d.jpg  \n",
      " extracting: ./datasets/train/images/08_21C_0840_jpg.rf.ad64806c546f8a869d611ea0c70568b8.jpg  \n",
      " extracting: ./datasets/train/images/08_21C_0841_jpg.rf.473d14fb3a6ddec22a816a8b75b4b8d8.jpg  \n",
      " extracting: ./datasets/train/images/08_21C_0842_jpg.rf.f0d32e7d1d07f7f17c38670f5e997a1b.jpg  \n",
      " extracting: ./datasets/train/images/08_21C_0847_jpg.rf.928d80172f82a60634e5433d5a140b34.jpg  \n",
      " extracting: ./datasets/train/images/08_21C_0848_jpg.rf.d4561742c4f4e98355a3304e79bf7e6e.jpg  \n",
      " extracting: ./datasets/train/images/08_21C_0849_jpg.rf.f07e39bf27c956c8557d3283fe8d8723.jpg  \n",
      " extracting: ./datasets/train/images/08_21C_0850_jpg.rf.a0c3d3f2a28207ebcd9bdf803168b1e7.jpg  \n",
      " extracting: ./datasets/train/images/08_21C_0851_jpg.rf.1232f679f8d82999a1fc47286cbd1645.jpg  \n",
      " extracting: ./datasets/train/images/08_21C_0852_jpg.rf.09c7379199e5940f885a48ce870b768e.jpg  \n",
      " extracting: ./datasets/train/images/08_21C_0853_jpg.rf.7ef0d9a83b4b19549194ab933f7395d1.jpg  \n",
      " extracting: ./datasets/train/images/08_21C_0854_jpg.rf.42de9e2e7d6bf2e49774907447836183.jpg  \n",
      " extracting: ./datasets/train/images/08_21C_0855_jpg.rf.41fe2f817a9b695c6fd2660fccc70c1a.jpg  \n",
      " extracting: ./datasets/train/images/08_21C_0856_jpg.rf.bf40cc14373b2d87f4c0b6fc80a95b70.jpg  \n",
      " extracting: ./datasets/train/images/08_21C_0857_jpg.rf.7ef4a0b7ad9a77b20c9e9b2c82593da2.jpg  \n",
      " extracting: ./datasets/train/images/08_21C_0858_jpg.rf.f40021be7b38d4645b77d9e8d299d667.jpg  \n",
      " extracting: ./datasets/train/images/08_21C_0860_jpg.rf.b412de73c5e4fbef8f88365c28b63613.jpg  \n",
      " extracting: ./datasets/train/images/08_21C_0862_jpg.rf.1f5227c0cd0ef3bb978a2c70e0d7d337.jpg  \n",
      " extracting: ./datasets/train/images/08_21C_0864_jpg.rf.fe5f6f6f98b29954f74e0a66c2e50f72.jpg  \n",
      " extracting: ./datasets/train/images/08_21C_0865_jpg.rf.6b3180372d76f519e603ca0cd0c13a16.jpg  \n",
      " extracting: ./datasets/train/images/08_21C_0867_jpg.rf.a0913e856eeec36b262143d569bf7121.jpg  \n",
      " extracting: ./datasets/train/images/08_21C_0868_jpg.rf.dc42991b1c7bc51bd3c5eb6191cebdba.jpg  \n",
      " extracting: ./datasets/train/images/08_21C_0869_jpg.rf.58134622583a4dccd47f5d6a1d876de2.jpg  \n",
      " extracting: ./datasets/train/images/08_21C_0870_jpg.rf.310b26f5c7d0316fc0442205ade115c3.jpg  \n",
      " extracting: ./datasets/train/images/08_21C_0871_jpg.rf.8e699bc22ea786478497978438beb983.jpg  \n",
      "   creating: ./datasets/train/labels/\n",
      "  inflating: ./datasets/train/labels/08_21A_0003_jpg.rf.a7cdf23693e090c1fc7d1f5fa3409f74.txt  \n",
      "  inflating: ./datasets/train/labels/08_21A_0006_jpg.rf.93b63af46c944f982db7bd37c924bb76.txt  \n",
      "  inflating: ./datasets/train/labels/08_21A_0009_jpg.rf.b5ee75af5d09c05ef8bb5606881f9e80.txt  \n",
      "  inflating: ./datasets/train/labels/08_21A_0016_jpg.rf.2c6d7115590d9f938afea653ebd56127.txt  \n",
      "  inflating: ./datasets/train/labels/08_21A_0017_jpg.rf.73a2ae6b7eaf15dc1375d67cce747753.txt  \n",
      "  inflating: ./datasets/train/labels/08_21A_0020_jpg.rf.07b7e6cff691e463b01b06f2467cedd2.txt  \n",
      "  inflating: ./datasets/train/labels/08_21A_0023_jpg.rf.4520026fd78184cef415892ab29d8353.txt  \n",
      "  inflating: ./datasets/train/labels/08_21A_0024_jpg.rf.983a0ffe8f4af1530865539b6f598894.txt  \n",
      "  inflating: ./datasets/train/labels/08_21A_0025_jpg.rf.5cc45e19c5a1a008dd5b66f39d00bb13.txt  \n",
      "  inflating: ./datasets/train/labels/08_21A_0028_jpg.rf.e5c223d46c7541b201cd03d4c82fc05f.txt  \n",
      "  inflating: ./datasets/train/labels/08_21A_0032_jpg.rf.7ffc92dd91878499f6e8c8d7ad227376.txt  \n",
      "  inflating: ./datasets/train/labels/08_21A_0037_jpg.rf.132d45a7b44a8fd6bd327d96684873c7.txt  \n",
      "  inflating: ./datasets/train/labels/08_21A_0038_jpg.rf.f5142e7a206acd8447f49530e6621af1.txt  \n",
      "  inflating: ./datasets/train/labels/08_21A_0039_jpg.rf.b9aa5a31a6362e525de9e82a43f8b4bf.txt  \n",
      "  inflating: ./datasets/train/labels/08_21A_0042_jpg.rf.fbe261356955fb670b51f4f6967e8ca8.txt  \n",
      "  inflating: ./datasets/train/labels/08_21A_0043_jpg.rf.c4eb497aa24e5232eba0ab24df2ee5ab.txt  \n",
      "  inflating: ./datasets/train/labels/08_21A_0044_jpg.rf.b119b05aeccc2bf767edc01700f9baab.txt  \n",
      "  inflating: ./datasets/train/labels/08_21A_0045_jpg.rf.bbaccc71125412c7de4fcfc7dc5e8cfd.txt  \n",
      "  inflating: ./datasets/train/labels/08_21A_0047_jpg.rf.b9b648f74d6bd67b4a0eecd4cba2fbf4.txt  \n",
      "  inflating: ./datasets/train/labels/08_21A_0049_jpg.rf.47b6566105f00a5c0901b405d695568f.txt  \n",
      "  inflating: ./datasets/train/labels/08_21A_0050_jpg.rf.4bf3b87ba93abced1c70a90498d9f0c5.txt  \n",
      "  inflating: ./datasets/train/labels/08_21A_0051_jpg.rf.64c2ef22ff5ae268871f6ebc6636206f.txt  \n",
      "  inflating: ./datasets/train/labels/08_21A_0055_jpg.rf.123bb95fc8c09d392c9574f461550034.txt  \n",
      "  inflating: ./datasets/train/labels/08_21A_0058_jpg.rf.05682256e2237c2d496b064d5d4287bb.txt  \n",
      "  inflating: ./datasets/train/labels/08_21A_0062_jpg.rf.ffcc85f412f88e6a054c64cfb3bf40a7.txt  \n",
      "  inflating: ./datasets/train/labels/08_21A_0068_jpg.rf.de0f599b3a2ab417fab6888a44840acf.txt  \n",
      "  inflating: ./datasets/train/labels/08_21A_0070_jpg.rf.b134bc0a3addc93fc089a1799351a239.txt  \n",
      "  inflating: ./datasets/train/labels/08_21A_0071_jpg.rf.b081455831ab84924150d3df6b663e60.txt  \n",
      "  inflating: ./datasets/train/labels/08_21A_0074_jpg.rf.3c1e3a22586c6244106e69ee2ab45937.txt  \n",
      "  inflating: ./datasets/train/labels/08_21A_0075_jpg.rf.828e92a24ded0c2c623c879d4f4ebc2e.txt  \n",
      "  inflating: ./datasets/train/labels/08_21A_0078_jpg.rf.0af9bc71121004c61fe571cdb100e3a6.txt  \n",
      "  inflating: ./datasets/train/labels/08_21A_0079_jpg.rf.1f797d511c1b0accc77f830b9a45c221.txt  \n",
      "  inflating: ./datasets/train/labels/08_21A_0080_jpg.rf.4143b366142e3037d48b0aea5197d647.txt  \n",
      "  inflating: ./datasets/train/labels/08_21A_0081_jpg.rf.b1b28fafac04f0601ed2b93b8d8f38ba.txt  \n",
      "  inflating: ./datasets/train/labels/08_21A_0085_jpg.rf.0cb5705f0146f711fb32de877086cc87.txt  \n",
      "  inflating: ./datasets/train/labels/08_21A_0095_jpg.rf.a257a0e1e4ab18ba4c09d47f59aab2c1.txt  \n",
      "  inflating: ./datasets/train/labels/08_21A_0098_jpg.rf.360b7902a272008342fb45442c82efda.txt  \n",
      "  inflating: ./datasets/train/labels/08_21C_0000_jpg.rf.4583c67601d4afb267bc71aa61fd41cf.txt  \n",
      "  inflating: ./datasets/train/labels/08_21C_0002_jpg.rf.710c4a3bd63db6fa7dc2e8639d25f524.txt  \n",
      "  inflating: ./datasets/train/labels/08_21C_0002_jpg.rf.9f5b145d83366a8794aab4193b2f2552.txt  \n",
      "  inflating: ./datasets/train/labels/08_21C_0003_jpg.rf.36dbac82ba04059950f95076b4a3519b.txt  \n",
      "  inflating: ./datasets/train/labels/08_21C_0003_jpg.rf.aa770d767e9b4f753947de1279e315d3.txt  \n",
      "  inflating: ./datasets/train/labels/08_21C_0005_jpg.rf.2840fe52b6a1bb9836cb4679b09493d4.txt  \n",
      "  inflating: ./datasets/train/labels/08_21C_0006_jpg.rf.dbdeeda86b787a2c859ec9ebac7a4f51.txt  \n",
      "  inflating: ./datasets/train/labels/08_21C_0006_jpg.rf.fe7842778b0eeb05dd1007d9fd7df3c1.txt  \n",
      "  inflating: ./datasets/train/labels/08_21C_0007_jpg.rf.3d06b852d36d9a8e8a279843bab5f9a7.txt  \n",
      "  inflating: ./datasets/train/labels/08_21C_0007_jpg.rf.588015a65a9930d81fc8b99f86259f7f.txt  \n",
      "  inflating: ./datasets/train/labels/08_21C_0008_jpg.rf.4abd379d182ca71b201d81e47959db5b.txt  \n",
      "  inflating: ./datasets/train/labels/08_21C_0008_jpg.rf.52d0e3b026ab3b913c6e722fd3919a2d.txt  \n",
      "  inflating: ./datasets/train/labels/08_21C_0009_jpg.rf.9f8e06cdc1d3b73e2fb9376d2cf1db79.txt  \n",
      "  inflating: ./datasets/train/labels/08_21C_0010_jpg.rf.e5e4eeb303de0755326d30da20df33dd.txt  \n",
      "  inflating: ./datasets/train/labels/08_21C_0011_jpg.rf.0b10ee31d7554d7213bf8d181b3e9bea.txt  \n",
      "  inflating: ./datasets/train/labels/08_21C_0012_jpg.rf.123c709aa73aedbe45b79c150efcb8e6.txt  \n",
      "  inflating: ./datasets/train/labels/08_21C_0014_jpg.rf.ef85fe6bd8a96fbcbb849a2db25645d3.txt  \n",
      "  inflating: ./datasets/train/labels/08_21C_0015_jpg.rf.647c8a69f13c1b858aec559555d26d9f.txt  \n",
      "  inflating: ./datasets/train/labels/08_21C_0017_jpg.rf.e78a5d27b5c5fbdfd2955d01803d38b1.txt  \n",
      "  inflating: ./datasets/train/labels/08_21C_0018_jpg.rf.85a2288c6e420ee4f099a578a8945a29.txt  \n",
      "  inflating: ./datasets/train/labels/08_21C_0019_jpg.rf.d82f8b46f39282139403713bfffeb51a.txt  \n",
      "  inflating: ./datasets/train/labels/08_21C_0020_jpg.rf.70d0d4dd5fe731c653820d4b2077f63c.txt  \n",
      "  inflating: ./datasets/train/labels/08_21C_0021_jpg.rf.b5c307a5defc4bb1f60f7b0803710eb0.txt  \n",
      "  inflating: ./datasets/train/labels/08_21C_0022_jpg.rf.0d44d864acc7bf95dc49491ab2a9cb3b.txt  \n",
      "  inflating: ./datasets/train/labels/08_21C_0023_jpg.rf.1c837c3d6790c08063c1ab3ad49d75c0.txt  \n",
      "  inflating: ./datasets/train/labels/08_21C_0024_jpg.rf.da5c7ec580a79d2ca1effec5426ef0d9.txt  \n",
      "  inflating: ./datasets/train/labels/08_21C_0026_jpg.rf.22c4432de03326fdf3b19ae2f68be027.txt  \n",
      "  inflating: ./datasets/train/labels/08_21C_0027_jpg.rf.9dfaec4c3c7befe0d62f8794fd361d0f.txt  \n",
      "  inflating: ./datasets/train/labels/08_21C_0028_jpg.rf.d10d61044349e29d8dae98f2f99ff832.txt  \n",
      "  inflating: ./datasets/train/labels/08_21C_0029_jpg.rf.5144973f5a9d540224c8875528b6e6b5.txt  \n",
      "  inflating: ./datasets/train/labels/08_21C_0030_jpg.rf.9c48cf45153c14073ce762f96c2dd978.txt  \n",
      "  inflating: ./datasets/train/labels/08_21C_0031_jpg.rf.53818da2bbe54da9a75ab908d5ce8a4b.txt  \n",
      "  inflating: ./datasets/train/labels/08_21C_0032_jpg.rf.f5f9d6510bd6d2b119ed8a4f839de100.txt  \n",
      "  inflating: ./datasets/train/labels/08_21C_0033_jpg.rf.1609f873074ba99298bd8ad57548454a.txt  \n",
      "  inflating: ./datasets/train/labels/08_21C_0034_jpg.rf.c7bc36d12368066926dc0ef0a16fcc71.txt  \n",
      "  inflating: ./datasets/train/labels/08_21C_0036_jpg.rf.9e2fc85ae2cd1ca2d511acf950bd12af.txt  \n",
      "  inflating: ./datasets/train/labels/08_21C_0036_jpg.rf.c1563867a7c5fe3b93fbabbdf1f2685a.txt  \n",
      "  inflating: ./datasets/train/labels/08_21C_0039_jpg.rf.4f7f8db468f1743ab0be60efa158dda6.txt  \n",
      "  inflating: ./datasets/train/labels/08_21C_0039_jpg.rf.7574b219ac5cea9ca1966ccb50747961.txt  \n",
      "  inflating: ./datasets/train/labels/08_21C_0040_jpg.rf.42f6a161860f9af957c81f8d47daa51f.txt  \n",
      "  inflating: ./datasets/train/labels/08_21C_0041_jpg.rf.ad0e7f904fe9316f938d38233ee83c5c.txt  \n",
      "  inflating: ./datasets/train/labels/08_21C_0042_jpg.rf.af015d8bc5a8632047693f0d26dd8913.txt  \n",
      "  inflating: ./datasets/train/labels/08_21C_0043_jpg.rf.2db36800613f632e8f97af94cdb32c16.txt  \n",
      "  inflating: ./datasets/train/labels/08_21C_0043_jpg.rf.5c7988d1e194f6a0fca68e0b7a29f12d.txt  \n",
      "  inflating: ./datasets/train/labels/08_21C_0044_jpg.rf.8afb21774a119b3329551413f25d8d39.txt  \n",
      "  inflating: ./datasets/train/labels/08_21C_0044_jpg.rf.b41367d62c8d9a3f0ba0af32d656fd4f.txt  \n",
      "  inflating: ./datasets/train/labels/08_21C_0045_jpg.rf.13cad718a6a4955d6dd58f2c35d68bbc.txt  \n",
      "  inflating: ./datasets/train/labels/08_21C_0046_jpg.rf.8c2c0771ccfb2481cfc3e68ee72c5543.txt  \n",
      "  inflating: ./datasets/train/labels/08_21C_0047_jpg.rf.81167877c86847655155c3c6feeb0895.txt  \n",
      "  inflating: ./datasets/train/labels/08_21C_0047_jpg.rf.d452292e903c40deba9a63d41151987e.txt  \n",
      "  inflating: ./datasets/train/labels/08_21C_0048_jpg.rf.42c6b2f4c8a2d73d2c81f1333dd4a0d3.txt  \n",
      "  inflating: ./datasets/train/labels/08_21C_0049_jpg.rf.4d08fdd395a541d5f433f21ff0006df5.txt  \n",
      "  inflating: ./datasets/train/labels/08_21C_0050_jpg.rf.4348d5cc4d32de8bbbab1976af2b39fb.txt  \n",
      "  inflating: ./datasets/train/labels/08_21C_0054_jpg.rf.c58bc52dbdad7d136a0e5599799186ba.txt  \n",
      "  inflating: ./datasets/train/labels/08_21C_0055_jpg.rf.05be6eec0f2b36896fc14bcf548d883a.txt  \n",
      "  inflating: ./datasets/train/labels/08_21C_0055_jpg.rf.a521ef932f7298cde3479030cf642d82.txt  \n",
      "  inflating: ./datasets/train/labels/08_21C_0057_jpg.rf.8811632ef32ac63bfd76c15b3efdb6c7.txt  \n",
      "  inflating: ./datasets/train/labels/08_21C_0058_jpg.rf.8b3fe7ed0936e242a8a2f618410591b3.txt  \n",
      "  inflating: ./datasets/train/labels/08_21C_0059_jpg.rf.eacbe06ad4e14ff39338beb663b1f438.txt  \n",
      "  inflating: ./datasets/train/labels/08_21C_0060_jpg.rf.024c16b30b6a4c706f6515c2f0d639e1.txt  \n",
      "  inflating: ./datasets/train/labels/08_21C_0060_jpg.rf.f9acde7def9cd7708810ecc735b55c59.txt  \n",
      "  inflating: ./datasets/train/labels/08_21C_0061_jpg.rf.169e44b2f365f4d7e89972a8b01c98a4.txt  \n",
      "  inflating: ./datasets/train/labels/08_21C_0065_jpg.rf.719f379dd13cd35b49ac77df080d702c.txt  \n",
      "  inflating: ./datasets/train/labels/08_21C_0066_jpg.rf.407d22a3a14ca642811b71a3168513fe.txt  \n",
      "  inflating: ./datasets/train/labels/08_21C_0066_jpg.rf.f28535b09c11f1cbb0160ba1ec04a1e6.txt  \n",
      "  inflating: ./datasets/train/labels/08_21C_0068_jpg.rf.26ecc4567371a34e33bed5a65cddcb20.txt  \n",
      "  inflating: ./datasets/train/labels/08_21C_0069_jpg.rf.7a044b38f84695df329058af0478a084.txt  \n",
      "  inflating: ./datasets/train/labels/08_21C_0070_jpg.rf.bac01fb0646f66c580b86cd61a518f04.txt  \n",
      "  inflating: ./datasets/train/labels/08_21C_0072_jpg.rf.8446af8dd745211513b9162ef6b1b2dc.txt  \n",
      "  inflating: ./datasets/train/labels/08_21C_0073_jpg.rf.7b7b6c1fbc6851ff7b26e9216014a860.txt  \n",
      "  inflating: ./datasets/train/labels/08_21C_0073_jpg.rf.ef0860129af0f7e0bdfba18805a70d0f.txt  \n",
      "  inflating: ./datasets/train/labels/08_21C_0075_jpg.rf.ad79cf4e1122c0b599cdf644b1ac0914.txt  \n",
      "  inflating: ./datasets/train/labels/08_21C_0075_jpg.rf.de75c98e7b1e3765ff7dec81477ac549.txt  \n",
      "  inflating: ./datasets/train/labels/08_21C_0076_jpg.rf.16be4b8797620ba0528ba658cde32b43.txt  \n",
      "  inflating: ./datasets/train/labels/08_21C_0076_jpg.rf.272d7047c2f78fb40628ab705d9d5063.txt  \n",
      "  inflating: ./datasets/train/labels/08_21C_0077_jpg.rf.0d55b88397dd414d6159947c5b914478.txt  \n",
      "  inflating: ./datasets/train/labels/08_21C_0077_jpg.rf.aeae6707b0f63eed978887180f54d971.txt  \n",
      "  inflating: ./datasets/train/labels/08_21C_0078_jpg.rf.10417080b0f71a3701003776747604bd.txt  \n",
      "  inflating: ./datasets/train/labels/08_21C_0078_jpg.rf.840967b6c0c7122ee621375f5f0db416.txt  \n",
      "  inflating: ./datasets/train/labels/08_21C_0080_jpg.rf.4dcc93e7c83a2fd76878fa87872cc325.txt  \n",
      "  inflating: ./datasets/train/labels/08_21C_0081_jpg.rf.2df3502e355d18a4f19053f80a631218.txt  \n",
      "  inflating: ./datasets/train/labels/08_21C_0082_jpg.rf.d4e0a410acb144d6ef93d99d400d9d4d.txt  \n",
      "  inflating: ./datasets/train/labels/08_21C_0082_jpg.rf.e04f5eda8180b3a93998ca83fd3e78d5.txt  \n",
      "  inflating: ./datasets/train/labels/08_21C_0083_jpg.rf.7f238b1312c78898c21fdde691db9623.txt  \n",
      "  inflating: ./datasets/train/labels/08_21C_0084_jpg.rf.3948c594938499331ab535ae861e5878.txt  \n",
      "  inflating: ./datasets/train/labels/08_21C_0084_jpg.rf.dd36d083aa754ce0296d410b4543f295.txt  \n",
      "  inflating: ./datasets/train/labels/08_21C_0085_jpg.rf.f2c82929638c3b61d11d38b53cf2abc7.txt  \n",
      "  inflating: ./datasets/train/labels/08_21C_0086_jpg.rf.222d6022f403011cfbabfe18e6ee5c2d.txt  \n",
      "  inflating: ./datasets/train/labels/08_21C_0087_jpg.rf.245ee32c7bf08e0003eecb50b2c29c75.txt  \n",
      "  inflating: ./datasets/train/labels/08_21C_0088_jpg.rf.3296a26976cf806656a88a8bd7d2a091.txt  \n",
      "  inflating: ./datasets/train/labels/08_21C_0089_jpg.rf.2a31ad5de71477b1fa878985ebd4fcb4.txt  \n",
      "  inflating: ./datasets/train/labels/08_21C_0090_jpg.rf.5aa78f0929ee8104ddb04cf8715c02e5.txt  \n",
      "  inflating: ./datasets/train/labels/08_21C_0091_jpg.rf.149720f0abbf676e3ba211e2d6e1f90b.txt  \n",
      "  inflating: ./datasets/train/labels/08_21C_0091_jpg.rf.bd3393a0f03a8eb8ef7c03e893249f3f.txt  \n",
      "  inflating: ./datasets/train/labels/08_21C_0092_jpg.rf.2af9f86cc3f04edcb3b69ae7ceddb067.txt  \n",
      "  inflating: ./datasets/train/labels/08_21C_0092_jpg.rf.942a9a3bb344410c7a52c93e965c79f6.txt  \n",
      "  inflating: ./datasets/train/labels/08_21C_0093_jpg.rf.393e908084e6dc023677b26a6282331c.txt  \n",
      "  inflating: ./datasets/train/labels/08_21C_0094_jpg.rf.21520b39750b084011c731e540ab39af.txt  \n",
      "  inflating: ./datasets/train/labels/08_21C_0095_jpg.rf.6b81fda77f02b973c1ed5641abe4932b.txt  \n",
      "  inflating: ./datasets/train/labels/08_21C_0095_jpg.rf.f93ae2ea4b456611e11c47ac83451892.txt  \n",
      "  inflating: ./datasets/train/labels/08_21C_0096_jpg.rf.e61843db785335f71401268b911ad34a.txt  \n",
      "  inflating: ./datasets/train/labels/08_21C_0099_jpg.rf.6da2ccbb630eb45efd5d3ff9a23adf4a.txt  \n",
      "  inflating: ./datasets/train/labels/08_21C_0100_jpg.rf.bc61cdccdc852f1c5224bb7a6adf67d5.txt  \n",
      "  inflating: ./datasets/train/labels/08_21C_0104_jpg.rf.2fa54459f2539c1f9b49174a99e4984c.txt  \n",
      "  inflating: ./datasets/train/labels/08_21C_0104_jpg.rf.8804e32ee1d47c5bd24386c520a24493.txt  \n",
      "  inflating: ./datasets/train/labels/08_21C_0105_jpg.rf.88986af9eee08ffd6d7d84347147488d.txt  \n",
      "  inflating: ./datasets/train/labels/08_21C_0106_jpg.rf.cfb230fbac620650ab5addbeac815e56.txt  \n",
      "  inflating: ./datasets/train/labels/08_21C_0107_jpg.rf.830fcc9376142d59065c2d182c020086.txt  \n",
      "  inflating: ./datasets/train/labels/08_21C_0107_jpg.rf.93ac21a9ec92729fb814acd9c2f2bf0c.txt  \n",
      "  inflating: ./datasets/train/labels/08_21C_0108_jpg.rf.018165bc41bd7c5fe5b845b109026197.txt  \n",
      "  inflating: ./datasets/train/labels/08_21C_0109_jpg.rf.ca5d87fc36b71bb68effbcc598638cc9.txt  \n",
      "  inflating: ./datasets/train/labels/08_21C_0110_jpg.rf.9fe52730536b983fe101daf7a2904a5a.txt  \n",
      "  inflating: ./datasets/train/labels/08_21C_0110_jpg.rf.da462745218108bdcd7ddbe38074667f.txt  \n",
      "  inflating: ./datasets/train/labels/08_21C_0111_jpg.rf.21089e760dafae808348364e32d47d6e.txt  \n",
      "  inflating: ./datasets/train/labels/08_21C_0111_jpg.rf.521085264c97dabd9cebbe59cacea2f6.txt  \n",
      "  inflating: ./datasets/train/labels/08_21C_0112_jpg.rf.4a73f9b6a2027030c500755167537374.txt  \n",
      "  inflating: ./datasets/train/labels/08_21C_0112_jpg.rf.7c11c3fd49c7bf9320d2f2b1b0938731.txt  \n",
      "  inflating: ./datasets/train/labels/08_21C_0113_jpg.rf.65657d76f55a276e82bbf98ee973e34a.txt  \n",
      "  inflating: ./datasets/train/labels/08_21C_0113_jpg.rf.67af0fb5c89c4a009a1b9a41cecaef56.txt  \n",
      "  inflating: ./datasets/train/labels/08_21C_0113_jpg.rf.91aeaffba3c54da20ee98397296a4390.txt  \n",
      "  inflating: ./datasets/train/labels/08_21C_0114_jpg.rf.4881e28a1610c5d82856139e677c8b0d.txt  \n",
      "  inflating: ./datasets/train/labels/08_21C_0114_jpg.rf.aa0ac4c7248e28e265098cffe7787f83.txt  \n",
      "  inflating: ./datasets/train/labels/08_21C_0115_jpg.rf.b2615017f89134f259ebc74441a609ad.txt  \n",
      "  inflating: ./datasets/train/labels/08_21C_0115_jpg.rf.b979aca80d635fbe66e699023c80ab79.txt  \n",
      "  inflating: ./datasets/train/labels/08_21C_0116_jpg.rf.6b0da7980cf5c251629f02eb4c3f5c3b.txt  \n",
      "  inflating: ./datasets/train/labels/08_21C_0116_jpg.rf.f41d0d078b1fe885b648b275da40dab4.txt  \n",
      "  inflating: ./datasets/train/labels/08_21C_0117_jpg.rf.38bb3ce48394d9b2e26854b4f757e41b.txt  \n",
      "  inflating: ./datasets/train/labels/08_21C_0117_jpg.rf.9ce7f65959698f1b9e6a782dea2b791e.txt  \n",
      "  inflating: ./datasets/train/labels/08_21C_0118_jpg.rf.5ceb905712e7cacab3f74f0cdc1b4e78.txt  \n",
      "  inflating: ./datasets/train/labels/08_21C_0118_jpg.rf.c8dd98c4239b3bb651028e99b0079a49.txt  \n",
      "  inflating: ./datasets/train/labels/08_21C_0119_jpg.rf.b28d52d92d3b86872ff545385e9aea15.txt  \n",
      "  inflating: ./datasets/train/labels/08_21C_0119_jpg.rf.d06ac31688d5c46fed22d447122b6e73.txt  \n",
      "  inflating: ./datasets/train/labels/08_21C_0120_jpg.rf.b1c1fd7bd764a864d78121bc821b9615.txt  \n",
      "  inflating: ./datasets/train/labels/08_21C_0120_jpg.rf.ddc33cca81a72af1bed907cbf08fc084.txt  \n",
      "  inflating: ./datasets/train/labels/08_21C_0121_jpg.rf.a7ff1359e283000aabed2352efd5d943.txt  \n",
      "  inflating: ./datasets/train/labels/08_21C_0122_jpg.rf.3dbe0e608f3d470958daa07bb9addfcd.txt  \n",
      "  inflating: ./datasets/train/labels/08_21C_0123_jpg.rf.184d0affdbed898e61eaf451d2729cdf.txt  \n",
      "  inflating: ./datasets/train/labels/08_21C_0123_jpg.rf.c764df2d72b94041b2bdcc3961c8af92.txt  \n",
      "  inflating: ./datasets/train/labels/08_21C_0124_jpg.rf.68f4048ec1a41229facc926f7786b042.txt  \n",
      "  inflating: ./datasets/train/labels/08_21C_0126_jpg.rf.e9e25780ac69f7d9e3b0d6fb808ca71e.txt  \n",
      "  inflating: ./datasets/train/labels/08_21C_0126_jpg.rf.f396d55c0b3fad80006e0a560a0519b6.txt  \n",
      "  inflating: ./datasets/train/labels/08_21C_0127_jpg.rf.3d82210b104c9fa6052e4ecc96d86403.txt  \n",
      "  inflating: ./datasets/train/labels/08_21C_0127_jpg.rf.625abba11ec2291d62174a430d2e109c.txt  \n",
      "  inflating: ./datasets/train/labels/08_21C_0128_jpg.rf.c9479902b77d2ae3f5f42a818baa926e.txt  \n",
      "  inflating: ./datasets/train/labels/08_21C_0129_jpg.rf.d3e3a533053158bccde01db157c8c554.txt  \n",
      "  inflating: ./datasets/train/labels/08_21C_0130_jpg.rf.67b4c9f036890445407920f9e522b836.txt  \n",
      "  inflating: ./datasets/train/labels/08_21C_0130_jpg.rf.ba6f5568e4233b961a06b31382952e9b.txt  \n",
      "  inflating: ./datasets/train/labels/08_21C_0131_jpg.rf.6fc8cf3976b7de9da7e278d91e3dca55.txt  \n",
      "  inflating: ./datasets/train/labels/08_21C_0132_jpg.rf.56439433a0d6cbcdd74268d0fbc1f27c.txt  \n",
      "  inflating: ./datasets/train/labels/08_21C_0132_jpg.rf.ef57479160fc9a92851f2d6b62901cea.txt  \n",
      "  inflating: ./datasets/train/labels/08_21C_0133_jpg.rf.51269e4263b9ea6f40a78074fbd33100.txt  \n",
      "  inflating: ./datasets/train/labels/08_21C_0134_jpg.rf.fae18bd22126ea36101f79b8962f68b3.txt  \n",
      "  inflating: ./datasets/train/labels/08_21C_0136_jpg.rf.3eaec581fb9bde441f0af4a8b341299b.txt  \n",
      "  inflating: ./datasets/train/labels/08_21C_0136_jpg.rf.defe8e32b7993966e018f095548db5da.txt  \n",
      "  inflating: ./datasets/train/labels/08_21C_0137_jpg.rf.2d70f8413ad430b560dffd8a61ef40d4.txt  \n",
      "  inflating: ./datasets/train/labels/08_21C_0138_jpg.rf.183fb00f3a80a2b67e29fa0041ef2a9f.txt  \n",
      "  inflating: ./datasets/train/labels/08_21C_0138_jpg.rf.df152488ba998464ed22c665e10c0800.txt  \n",
      "  inflating: ./datasets/train/labels/08_21C_0139_jpg.rf.469cf6cda9a6a8d4e114d7e667395777.txt  \n",
      "  inflating: ./datasets/train/labels/08_21C_0139_jpg.rf.9ee6640dc76497f2e88581fbeadbc3da.txt  \n",
      "  inflating: ./datasets/train/labels/08_21C_0140_jpg.rf.0f9e111e332ac008de666ad9a8eb805d.txt  \n",
      "  inflating: ./datasets/train/labels/08_21C_0140_jpg.rf.29382924e4e3605f8a5699bc6deb39e7.txt  \n",
      "  inflating: ./datasets/train/labels/08_21C_0141_jpg.rf.bb4129e17ab7d084f80ccc4ece858049.txt  \n",
      "  inflating: ./datasets/train/labels/08_21C_0141_jpg.rf.c2fb56a9de5f5ba255ec8d0bddec5256.txt  \n",
      "  inflating: ./datasets/train/labels/08_21C_0141_jpg.rf.d226d118c76be61af1010e54bf135999.txt  \n",
      "  inflating: ./datasets/train/labels/08_21C_0142_jpg.rf.0b935b031bd3936fda7a3937438d5996.txt  \n",
      "  inflating: ./datasets/train/labels/08_21C_0142_jpg.rf.9370fd29091c1aa715c493f26fc9519c.txt  \n",
      "  inflating: ./datasets/train/labels/08_21C_0142_jpg.rf.c157c425776ce52e25bc33a66edeaa07.txt  \n",
      "  inflating: ./datasets/train/labels/08_21C_0143_jpg.rf.6ebf201751731bc53788238c7ae0673e.txt  \n",
      "  inflating: ./datasets/train/labels/08_21C_0143_jpg.rf.9760073b4140cba49c83d173c497c864.txt  \n",
      "  inflating: ./datasets/train/labels/08_21C_0144_jpg.rf.73bb69e51d47cfda4c141b89ac69a55d.txt  \n",
      "  inflating: ./datasets/train/labels/08_21C_0144_jpg.rf.891671f871ca710bed49150366f3328a.txt  \n",
      "  inflating: ./datasets/train/labels/08_21C_0144_jpg.rf.cbfb7c6e2bb757188166f52520837d29.txt  \n",
      "  inflating: ./datasets/train/labels/08_21C_0145_jpg.rf.4511f58ee311b157a24bff1ef6484d30.txt  \n",
      "  inflating: ./datasets/train/labels/08_21C_0146_jpg.rf.c024051b7c0a2e86b1cdb132a1023bbb.txt  \n",
      "  inflating: ./datasets/train/labels/08_21C_0147_jpg.rf.41d5e3f71fab890b812a82dd80774814.txt  \n",
      "  inflating: ./datasets/train/labels/08_21C_0147_jpg.rf.6458b40daa1d487fc0244f8442bbb1be.txt  \n",
      "  inflating: ./datasets/train/labels/08_21C_0148_jpg.rf.86ad5254488a5451adb4c63633327c00.txt  \n",
      "  inflating: ./datasets/train/labels/08_21C_0148_jpg.rf.bf8299b47b9792b98a58f4e9879c22a2.txt  \n",
      "  inflating: ./datasets/train/labels/08_21C_0149_jpg.rf.e4220aeb08949231276e3a1af29f3443.txt  \n",
      "  inflating: ./datasets/train/labels/08_21C_0150_jpg.rf.a92cb5a29fce4b94bc03416676a3b12a.txt  \n",
      "  inflating: ./datasets/train/labels/08_21C_0151_jpg.rf.872bbe1f4489ab09fd05a3561d7112d1.txt  \n",
      "  inflating: ./datasets/train/labels/08_21C_0152_jpg.rf.322f3fa6921b7cb05f06fc12f041f0b3.txt  \n",
      "  inflating: ./datasets/train/labels/08_21C_0153_jpg.rf.0da4926b65ab5d9052ef17576b5188a6.txt  \n",
      "  inflating: ./datasets/train/labels/08_21C_0153_jpg.rf.25350ebfce261189e1b9866da4d59653.txt  \n",
      "  inflating: ./datasets/train/labels/08_21C_0154_jpg.rf.53d0692f622a8a6b440ca1138ca81d5f.txt  \n",
      "  inflating: ./datasets/train/labels/08_21C_0155_jpg.rf.698077e6795a9eff615444e0de1439ce.txt  \n",
      "  inflating: ./datasets/train/labels/08_21C_0155_jpg.rf.d21318cdad533793ee5d1e845e14341a.txt  \n",
      "  inflating: ./datasets/train/labels/08_21C_0156_jpg.rf.156758c82ee774bdc077d468bc3a76d4.txt  \n",
      "  inflating: ./datasets/train/labels/08_21C_0156_jpg.rf.9788ef0e06c3d50bb289a074d4a40729.txt  \n",
      "  inflating: ./datasets/train/labels/08_21C_0158_jpg.rf.21292924b2b93a13597ecfc6699cd30f.txt  \n",
      "  inflating: ./datasets/train/labels/08_21C_0158_jpg.rf.92d91707f0ef75b02ddc9600e0a1421d.txt  \n",
      "  inflating: ./datasets/train/labels/08_21C_0159_jpg.rf.1a2622bf081a99e792bcc37d6148759a.txt  \n",
      "  inflating: ./datasets/train/labels/08_21C_0159_jpg.rf.75e4dcd86d56e55d98d5dbf11c557ddf.txt  \n",
      "  inflating: ./datasets/train/labels/08_21C_0160_jpg.rf.ca2a065e41ba43b5ed8a7abcf43a198f.txt  \n",
      "  inflating: ./datasets/train/labels/08_21C_0161_jpg.rf.073fc72728050643b99987807751eae6.txt  \n",
      "  inflating: ./datasets/train/labels/08_21C_0161_jpg.rf.e49e8aa91336381834143114f00315bb.txt  \n",
      "  inflating: ./datasets/train/labels/08_21C_0162_jpg.rf.bde26f032041acb7c02de0fc0a6999c0.txt  \n",
      "  inflating: ./datasets/train/labels/08_21C_0163_jpg.rf.6f37e93a35184dd364d4332cd8d8482b.txt  \n",
      "  inflating: ./datasets/train/labels/08_21C_0164_jpg.rf.4ee4ffa429776606b0d418a42cc02d52.txt  \n",
      "  inflating: ./datasets/train/labels/08_21C_0164_jpg.rf.bdedfacc70a244806e03cc5d33f1f2a1.txt  \n",
      "  inflating: ./datasets/train/labels/08_21C_0165_jpg.rf.83456cf0ce039761a2d81a5e652ed22e.txt  \n",
      "  inflating: ./datasets/train/labels/08_21C_0166_jpg.rf.aad9a65761d60cac3c70565f81f0ba9d.txt  \n",
      "  inflating: ./datasets/train/labels/08_21C_0166_jpg.rf.e3c4a839b678503bd74c569af2bd2944.txt  \n",
      "  inflating: ./datasets/train/labels/08_21C_0167_jpg.rf.4a98e09bec9064e0f71a9151ecd4cae3.txt  \n",
      "  inflating: ./datasets/train/labels/08_21C_0167_jpg.rf.ab046595f91f43cd3e5d228035f1c4c4.txt  \n",
      "  inflating: ./datasets/train/labels/08_21C_0168_jpg.rf.06fec9d9cd6ff2cb2c7477d21a1f7b2f.txt  \n",
      "  inflating: ./datasets/train/labels/08_21C_0169_jpg.rf.9a91c4a978e36f4345928d5593871789.txt  \n",
      "  inflating: ./datasets/train/labels/08_21C_0169_jpg.rf.bafcb706d89b31abba589348d20c8e29.txt  \n",
      "  inflating: ./datasets/train/labels/08_21C_0170_jpg.rf.00409bf6794fb62159a61642dd09f2a7.txt  \n",
      "  inflating: ./datasets/train/labels/08_21C_0170_jpg.rf.a75068f6b42e1b0e1dc71e3aedca2a86.txt  \n",
      "  inflating: ./datasets/train/labels/08_21C_0170_jpg.rf.b0e38803103f617f4139b1d9b7e0314b.txt  \n",
      "  inflating: ./datasets/train/labels/08_21C_0171_jpg.rf.4e9cd81715e73395377730e9013be90c.txt  \n",
      "  inflating: ./datasets/train/labels/08_21C_0171_jpg.rf.5721ddbc4b699edbb0a928bf8d59b98c.txt  \n",
      "  inflating: ./datasets/train/labels/08_21C_0171_jpg.rf.caf28d0080a66d12403ed18e66223c74.txt  \n",
      "  inflating: ./datasets/train/labels/08_21C_0172_jpg.rf.66dcc46a44009d40386018ab9d7686d6.txt  \n",
      "  inflating: ./datasets/train/labels/08_21C_0172_jpg.rf.74e213d8840442033e547b415bd63c88.txt  \n",
      "  inflating: ./datasets/train/labels/08_21C_0173_jpg.rf.9636b7283d59952b9a09714f355438a8.txt  \n",
      "  inflating: ./datasets/train/labels/08_21C_0173_jpg.rf.f33af3df4ebc361d296415f55750a23e.txt  \n",
      "  inflating: ./datasets/train/labels/08_21C_0174_jpg.rf.352453857c825b404500d3b1f3fe3f5c.txt  \n",
      "  inflating: ./datasets/train/labels/08_21C_0174_jpg.rf.f854172ce91b57fad1329ccf30d04906.txt  \n",
      "  inflating: ./datasets/train/labels/08_21C_0175_jpg.rf.6dd2e85fc4f19eda5d60ea064b9bcaa1.txt  \n",
      "  inflating: ./datasets/train/labels/08_21C_0175_jpg.rf.f2674a273ae70d7e590b0b41eebe5461.txt  \n",
      "  inflating: ./datasets/train/labels/08_21C_0176_jpg.rf.16bc864be28bfd348ec43187ebda66c6.txt  \n",
      "  inflating: ./datasets/train/labels/08_21C_0176_jpg.rf.48d68e1a1870418b6988e8302a8f83f3.txt  \n",
      "  inflating: ./datasets/train/labels/08_21C_0176_jpg.rf.e9846491cb0dccdb730feb2915b844a5.txt  \n",
      "  inflating: ./datasets/train/labels/08_21C_0177_jpg.rf.463bfa0440f076fd03fd1e9d9cc48bb8.txt  \n",
      "  inflating: ./datasets/train/labels/08_21C_0177_jpg.rf.ecf917e9ea9626f68fdd06d487023040.txt  \n",
      "  inflating: ./datasets/train/labels/08_21C_0178_jpg.rf.3787bf1d6eceab1ec99ad4d29ec71f95.txt  \n",
      "  inflating: ./datasets/train/labels/08_21C_0178_jpg.rf.bd0a2f4d4af794e149333a963096b354.txt  \n",
      "  inflating: ./datasets/train/labels/08_21C_0179_jpg.rf.66a3e6112144dadf15ec37a6516a3383.txt  \n",
      "  inflating: ./datasets/train/labels/08_21C_0179_jpg.rf.6886e64d3ddf2c13d699363c8c0d8b51.txt  \n",
      "  inflating: ./datasets/train/labels/08_21C_0179_jpg.rf.794ef622a24072982bf84a1ffd7b396d.txt  \n",
      "  inflating: ./datasets/train/labels/08_21C_0180_jpg.rf.9a0f386a1cba65d6f4d017ca46dbbc7e.txt  \n",
      "  inflating: ./datasets/train/labels/08_21C_0180_jpg.rf.bd794fb76b588618927ce46e9b85ba27.txt  \n",
      "  inflating: ./datasets/train/labels/08_21C_0180_jpg.rf.ebdce33eca867297534fce5341c4e6c5.txt  \n",
      "  inflating: ./datasets/train/labels/08_21C_0181_jpg.rf.37d16c74d1009262ee57e1c6a16efc77.txt  \n",
      "  inflating: ./datasets/train/labels/08_21C_0181_jpg.rf.56fbf79ae9d2251a41fec0fb6e796b08.txt  \n",
      "  inflating: ./datasets/train/labels/08_21C_0182_jpg.rf.ce6184218216a73c19f36a484e9e0564.txt  \n",
      "  inflating: ./datasets/train/labels/08_21C_0182_jpg.rf.f6fd69465f66bf69e8401e0679bb9b5e.txt  \n",
      "  inflating: ./datasets/train/labels/08_21C_0182_jpg.rf.f9f79685110842cb8a81e7e118413144.txt  \n",
      "  inflating: ./datasets/train/labels/08_21C_0183_jpg.rf.48a8ec7a08b4a25e6b41e202b881783b.txt  \n",
      "  inflating: ./datasets/train/labels/08_21C_0183_jpg.rf.64c860a02083227a29655abe7ca54965.txt  \n",
      "  inflating: ./datasets/train/labels/08_21C_0183_jpg.rf.73e72a91a5ca0d1454ee09694581af7a.txt  \n",
      "  inflating: ./datasets/train/labels/08_21C_0184_jpg.rf.267e0e1979b88c94a38d61a64b398beb.txt  \n",
      "  inflating: ./datasets/train/labels/08_21C_0184_jpg.rf.38c2dad45c1b22c86577615735a27fb5.txt  \n",
      "  inflating: ./datasets/train/labels/08_21C_0184_jpg.rf.ac9565a1a6c516e1d87c4b6cc5e892e3.txt  \n",
      "  inflating: ./datasets/train/labels/08_21C_0185_jpg.rf.088f15865bed5b70198923ba8c5af513.txt  \n",
      "  inflating: ./datasets/train/labels/08_21C_0185_jpg.rf.497c1083f4acf3623c715e42524f7ee3.txt  \n",
      "  inflating: ./datasets/train/labels/08_21C_0185_jpg.rf.de1d52a3f5ee83f3770f0d5e9350d3d7.txt  \n",
      "  inflating: ./datasets/train/labels/08_21C_0186_jpg.rf.16d5d9c17bcb33fdaa6611ba343a48a5.txt  \n",
      "  inflating: ./datasets/train/labels/08_21C_0186_jpg.rf.24abeb60814eabb0a964e68cc240afd1.txt  \n",
      "  inflating: ./datasets/train/labels/08_21C_0186_jpg.rf.ed44ac92d6e749e366d59385be8fffe4.txt  \n",
      "  inflating: ./datasets/train/labels/08_21C_0187_jpg.rf.3301d4fa5172fdd731a346339f00fab6.txt  \n",
      "  inflating: ./datasets/train/labels/08_21C_0187_jpg.rf.a1b70b320c7639b3af9641c3f60e094e.txt  \n",
      "  inflating: ./datasets/train/labels/08_21C_0187_jpg.rf.ce94001d005952f2f9e27f8f65446406.txt  \n",
      "  inflating: ./datasets/train/labels/08_21C_0188_jpg.rf.97a314fadc1eff6146804b380735539a.txt  \n",
      "  inflating: ./datasets/train/labels/08_21C_0188_jpg.rf.cbb991a368ea6af717659bc5bca92eb0.txt  \n",
      "  inflating: ./datasets/train/labels/08_21C_0189_jpg.rf.a90c2ca21cb3c927d19e320b7163debc.txt  \n",
      "  inflating: ./datasets/train/labels/08_21C_0190_jpg.rf.21227857b53f47860ce0d2e14723c382.txt  \n",
      "  inflating: ./datasets/train/labels/08_21C_0190_jpg.rf.68d2adf0bd492fec7d6ac59a0924fdd2.txt  \n",
      "  inflating: ./datasets/train/labels/08_21C_0190_jpg.rf.f63f80f6acc5b0477cd5e49e81fb60f3.txt  \n",
      "  inflating: ./datasets/train/labels/08_21C_0191_jpg.rf.598316a8267dfbfc98bfa31128ce71d8.txt  \n",
      "  inflating: ./datasets/train/labels/08_21C_0191_jpg.rf.7adbde9a5fa8a44fbd7133611daefc19.txt  \n",
      "  inflating: ./datasets/train/labels/08_21C_0192_jpg.rf.31dfbdb0dd4ec518dce3f7d56747afe6.txt  \n",
      "  inflating: ./datasets/train/labels/08_21C_0193_jpg.rf.2ad98c924a04fd5ecd6d6110fd326ee7.txt  \n",
      "  inflating: ./datasets/train/labels/08_21C_0193_jpg.rf.962eeba8f4cbeb407d03c17291c15b91.txt  \n",
      "  inflating: ./datasets/train/labels/08_21C_0194_jpg.rf.4b65f0b8f8bf695419b98faf89bcece2.txt  \n",
      "  inflating: ./datasets/train/labels/08_21C_0194_jpg.rf.5a3a722ec44abea55b97915a17380dee.txt  \n",
      "  inflating: ./datasets/train/labels/08_21C_0194_jpg.rf.79774b9458c6d7ed09b1032b85cb0149.txt  \n",
      "  inflating: ./datasets/train/labels/08_21C_0195_jpg.rf.30d296d978cb4ba8ce4400c152ec1b4c.txt  \n",
      "  inflating: ./datasets/train/labels/08_21C_0195_jpg.rf.54719677d8ba05b77681fd8bdc2ce12e.txt  \n",
      "  inflating: ./datasets/train/labels/08_21C_0196_jpg.rf.c724b5a45dcf0b96ed83837ed65490e3.txt  \n",
      "  inflating: ./datasets/train/labels/08_21C_0197_jpg.rf.03e25103118121ae4e3676cba9e349e7.txt  \n",
      "  inflating: ./datasets/train/labels/08_21C_0198_jpg.rf.33baafa500eca4c6e1a4dcdfc5836b98.txt  \n",
      "  inflating: ./datasets/train/labels/08_21C_0198_jpg.rf.cf967292b51e97ed902179a793320579.txt  \n",
      "  inflating: ./datasets/train/labels/08_21C_0199_jpg.rf.079007d84229f4dd7e9abe779e2ca6eb.txt  \n",
      "  inflating: ./datasets/train/labels/08_21C_0199_jpg.rf.80c66c253c9b55b3480cefbd19c4e96f.txt  \n",
      "  inflating: ./datasets/train/labels/08_21C_0199_jpg.rf.fb905b81570b6ab60c0b57c9e3812cc8.txt  \n",
      "  inflating: ./datasets/train/labels/08_21C_0200_jpg.rf.8fb398d8ced9299857aee7ef65421186.txt  \n",
      "  inflating: ./datasets/train/labels/08_21C_0200_jpg.rf.bfdf741722daf6330496d26792f9b14b.txt  \n",
      "  inflating: ./datasets/train/labels/08_21C_0200_jpg.rf.e2cec5d5bad9fd51ee14cc8257e4de00.txt  \n",
      "  inflating: ./datasets/train/labels/08_21C_0201_jpg.rf.bc042193e86e15e6d107b1af567106fb.txt  \n",
      "  inflating: ./datasets/train/labels/08_21C_0202_jpg.rf.b74aa410fc554b2dc115f1433f09f295.txt  \n",
      "  inflating: ./datasets/train/labels/08_21C_0203_jpg.rf.1b1fb2b282fe7b76da13366a0d4a2e17.txt  \n",
      "  inflating: ./datasets/train/labels/08_21C_0203_jpg.rf.744df0bc2edfa27843ea2d68576a06ec.txt  \n",
      "  inflating: ./datasets/train/labels/08_21C_0203_jpg.rf.ae325eed14e6d988f7d303cbe43f8128.txt  \n",
      "  inflating: ./datasets/train/labels/08_21C_0204_jpg.rf.e5ac28ecdb39a0390a63cd31c98a2702.txt  \n",
      "  inflating: ./datasets/train/labels/08_21C_0204_jpg.rf.f5641f095c15b3a3627588e3437cd03d.txt  \n",
      "  inflating: ./datasets/train/labels/08_21C_0205_jpg.rf.7a0c94cb6e4805fe06a8627c0c034351.txt  \n",
      "  inflating: ./datasets/train/labels/08_21C_0205_jpg.rf.badd82399033753f7424035020435701.txt  \n",
      "  inflating: ./datasets/train/labels/08_21C_0206_jpg.rf.095d5959869dc88938c287cd090f719f.txt  \n",
      "  inflating: ./datasets/train/labels/08_21C_0206_jpg.rf.34e1435213908f040aebdca0877af199.txt  \n",
      "  inflating: ./datasets/train/labels/08_21C_0206_jpg.rf.9c40d89e850d4f44ae440379f0434197.txt  \n",
      "  inflating: ./datasets/train/labels/08_21C_0207_jpg.rf.68226828f0e528c527c370d370201474.txt  \n",
      "  inflating: ./datasets/train/labels/08_21C_0208_jpg.rf.9fa8a86ca60d8100609788c5eb2c66d9.txt  \n",
      "  inflating: ./datasets/train/labels/08_21C_0208_jpg.rf.d10346bd9c5f707733f1a03c1a212a48.txt  \n",
      "  inflating: ./datasets/train/labels/08_21C_0208_jpg.rf.e0344aade58c9f7a5fbf3c6d29b942be.txt  \n",
      "  inflating: ./datasets/train/labels/08_21C_0210_jpg.rf.3a50bc01f119e3931b4a7b3691751b08.txt  \n",
      "  inflating: ./datasets/train/labels/08_21C_0210_jpg.rf.6fa15ae9fd078bc45a5dead2f8989797.txt  \n",
      "  inflating: ./datasets/train/labels/08_21C_0210_jpg.rf.caf8f9af6c21802d97c4d9ae771f26b7.txt  \n",
      "  inflating: ./datasets/train/labels/08_21C_0211_jpg.rf.f810afde987784bb195b2b664ec4d3a0.txt  \n",
      "  inflating: ./datasets/train/labels/08_21C_0212_jpg.rf.099cdcbaf9728f662fc88c07716eb32a.txt  \n",
      "  inflating: ./datasets/train/labels/08_21C_0212_jpg.rf.0ae3aede70c75b413dab93266ced36d7.txt  \n",
      "  inflating: ./datasets/train/labels/08_21C_0212_jpg.rf.689ea005e441d47e10ae1a5ca3c4abc5.txt  \n",
      "  inflating: ./datasets/train/labels/08_21C_0213_jpg.rf.53dd8a0ebc02a273fe4bf0c4ebcef603.txt  \n",
      "  inflating: ./datasets/train/labels/08_21C_0213_jpg.rf.551cfb3baaafc88635791314b820cf38.txt  \n",
      "  inflating: ./datasets/train/labels/08_21C_0214_jpg.rf.a636dd2eb6bdb2329c98b61bee9124dc.txt  \n",
      "  inflating: ./datasets/train/labels/08_21C_0214_jpg.rf.e396535a8c1618dda27dbb7a0eb3820f.txt  \n",
      "  inflating: ./datasets/train/labels/08_21C_0214_jpg.rf.eda67bbb7e2dd7e02d15be96ef9db03e.txt  \n",
      "  inflating: ./datasets/train/labels/08_21C_0215_jpg.rf.165d95c053eda74806558351b7e6c8dd.txt  \n",
      "  inflating: ./datasets/train/labels/08_21C_0215_jpg.rf.773cfe8a5da8ee0b8ec8fd1ddef6c66c.txt  \n",
      "  inflating: ./datasets/train/labels/08_21C_0216_jpg.rf.0a680dbef9a466cf2386306c2035b73b.txt  \n",
      "  inflating: ./datasets/train/labels/08_21C_0216_jpg.rf.2790c04f07ff56bb91c45615d25f5d91.txt  \n",
      "  inflating: ./datasets/train/labels/08_21C_0217_jpg.rf.45f4dd07b902178f31537a488ebc91e8.txt  \n",
      "  inflating: ./datasets/train/labels/08_21C_0217_jpg.rf.5650be7746cb47a81c5fbcbfb5899c62.txt  \n",
      "  inflating: ./datasets/train/labels/08_21C_0217_jpg.rf.5bf550339304b20d4e5c4dfadf723bb7.txt  \n",
      "  inflating: ./datasets/train/labels/08_21C_0218_jpg.rf.63a9f080024be418318f131afb627bbf.txt  \n",
      "  inflating: ./datasets/train/labels/08_21C_0218_jpg.rf.bc2db93a04cc45cf90ff2eb93747eb20.txt  \n",
      "  inflating: ./datasets/train/labels/08_21C_0219_jpg.rf.08b3a6d92869bee202273995a03d0310.txt  \n",
      "  inflating: ./datasets/train/labels/08_21C_0219_jpg.rf.6a0b68507887b363940299abfc414683.txt  \n",
      "  inflating: ./datasets/train/labels/08_21C_0220_jpg.rf.0d870b8d6efb634b77db160721329551.txt  \n",
      "  inflating: ./datasets/train/labels/08_21C_0220_jpg.rf.1d75298ef222a0122948b3bec5840169.txt  \n",
      "  inflating: ./datasets/train/labels/08_21C_0220_jpg.rf.a026f1539d063e87c52ff0485e2a7f8f.txt  \n",
      "  inflating: ./datasets/train/labels/08_21C_0221_jpg.rf.7b0cffc3aa611fd99e9e7522ad7bbcd6.txt  \n",
      "  inflating: ./datasets/train/labels/08_21C_0221_jpg.rf.da302cac62e0c521b6465b96175481c1.txt  \n",
      "  inflating: ./datasets/train/labels/08_21C_0222_jpg.rf.17fa627610b8b781b47296097da211af.txt  \n",
      "  inflating: ./datasets/train/labels/08_21C_0222_jpg.rf.624f84e0ed97faea84c660c034711104.txt  \n",
      "  inflating: ./datasets/train/labels/08_21C_0223_jpg.rf.9673ceb88af5464716ce15258b589449.txt  \n",
      "  inflating: ./datasets/train/labels/08_21C_0223_jpg.rf.de83d11017173d007070a30dc375f9e1.txt  \n",
      "  inflating: ./datasets/train/labels/08_21C_0224_jpg.rf.febdc735b0364c98c282089a21714b63.txt  \n",
      "  inflating: ./datasets/train/labels/08_21C_0225_jpg.rf.6db05d5e588f91de2c2878d29a1501d8.txt  \n",
      "  inflating: ./datasets/train/labels/08_21C_0225_jpg.rf.8024c5d24700a13b5a352686c1e60bf3.txt  \n",
      "  inflating: ./datasets/train/labels/08_21C_0226_jpg.rf.198145f78faeb73cbc5e04b2a5f1fdad.txt  \n",
      "  inflating: ./datasets/train/labels/08_21C_0227_jpg.rf.46ef65c22b56b5384573d2b2f6863c09.txt  \n",
      "  inflating: ./datasets/train/labels/08_21C_0228_jpg.rf.4194ec2dfb295324b3c50db5fcd71ada.txt  \n",
      "  inflating: ./datasets/train/labels/08_21C_0228_jpg.rf.4cb4cc0b731e8ed988b40abce92048f6.txt  \n",
      "  inflating: ./datasets/train/labels/08_21C_0229_jpg.rf.303fa704c2e0c8ff4b0cc2c071ff4eee.txt  \n",
      "  inflating: ./datasets/train/labels/08_21C_0229_jpg.rf.dda92a6cee77a64841e9bda36bc05895.txt  \n",
      "  inflating: ./datasets/train/labels/08_21C_0229_jpg.rf.e04b859b2bd6c3e76be703b211eb1c5b.txt  \n",
      "  inflating: ./datasets/train/labels/08_21C_0230_jpg.rf.cf7263457ccd71fcb40fc38a1174fee7.txt  \n",
      "  inflating: ./datasets/train/labels/08_21C_0231_jpg.rf.9e08b2df0f6006d5e504dbae6d063fdb.txt  \n",
      "  inflating: ./datasets/train/labels/08_21C_0231_jpg.rf.9e47256686ea0e1c5f780d889aa33304.txt  \n",
      "  inflating: ./datasets/train/labels/08_21C_0231_jpg.rf.c37baf7a8d33c6d315661c0448cce4f0.txt  \n",
      "  inflating: ./datasets/train/labels/08_21C_0232_jpg.rf.956ab1429573ca3d1dd7ee96f032aee3.txt  \n",
      "  inflating: ./datasets/train/labels/08_21C_0233_jpg.rf.44c8bfe1971e92cb97fa6da742f60974.txt  \n",
      "  inflating: ./datasets/train/labels/08_21C_0233_jpg.rf.90b0aa1fc91521251911ee07025df037.txt  \n",
      "  inflating: ./datasets/train/labels/08_21C_0233_jpg.rf.cc2e2af3069be9e8b69ec3da564724e7.txt  \n",
      "  inflating: ./datasets/train/labels/08_21C_0234_jpg.rf.66ae956d58b898a3a6a75c3f719ea65f.txt  \n",
      "  inflating: ./datasets/train/labels/08_21C_0235_jpg.rf.47c39d3c1b9301fb972a6560233cab65.txt  \n",
      "  inflating: ./datasets/train/labels/08_21C_0235_jpg.rf.4c3181281f2fa430c0d1b65fcdd36596.txt  \n",
      "  inflating: ./datasets/train/labels/08_21C_0235_jpg.rf.8624f872a401a4886bc514ac833089a6.txt  \n",
      "  inflating: ./datasets/train/labels/08_21C_0236_jpg.rf.f6d68947f77edbec44854edabc2e192b.txt  \n",
      "  inflating: ./datasets/train/labels/08_21C_0237_jpg.rf.7c43e1385094bd36b52851289dc2a70b.txt  \n",
      "  inflating: ./datasets/train/labels/08_21C_0237_jpg.rf.a5da6fe371550e56b39d82f16450e64e.txt  \n",
      "  inflating: ./datasets/train/labels/08_21C_0238_jpg.rf.0fcbba7581c024d4a81d0eba6c67adc0.txt  \n",
      "  inflating: ./datasets/train/labels/08_21C_0238_jpg.rf.99dcff7ade80e9eef302ad639e406cc8.txt  \n",
      "  inflating: ./datasets/train/labels/08_21C_0239_jpg.rf.e53d246e176d1c6ed3e55c763c949fba.txt  \n",
      "  inflating: ./datasets/train/labels/08_21C_0240_jpg.rf.355821d71f9af90ae606229eeef6b47b.txt  \n",
      "  inflating: ./datasets/train/labels/08_21C_0240_jpg.rf.675e87cc195d76bdb2b4201b63dcb9de.txt  \n",
      "  inflating: ./datasets/train/labels/08_21C_0240_jpg.rf.8cd651764de58eca1f1f4015cbd704b5.txt  \n",
      "  inflating: ./datasets/train/labels/08_21C_0241_jpg.rf.b2495cac625105acc657e82d241338ea.txt  \n",
      "  inflating: ./datasets/train/labels/08_21C_0241_jpg.rf.d0f0098d2d0b604b5104f11f74ebf79e.txt  \n",
      "  inflating: ./datasets/train/labels/08_21C_0242_jpg.rf.c1773c0b3ae830dce73aca1895022e81.txt  \n",
      "  inflating: ./datasets/train/labels/08_21C_0243_jpg.rf.0e3d2a44097301d68e8f308c2a85ea96.txt  \n",
      "  inflating: ./datasets/train/labels/08_21C_0243_jpg.rf.10c03b229e573c945cf45798d6272ead.txt  \n",
      "  inflating: ./datasets/train/labels/08_21C_0243_jpg.rf.3a592fe0d949fe0bbb70ae8b613c55d9.txt  \n",
      "  inflating: ./datasets/train/labels/08_21C_0244_jpg.rf.6a212b46f17a9455559ffda4c86ef0c2.txt  \n",
      "  inflating: ./datasets/train/labels/08_21C_0244_jpg.rf.71b9e02ba5f314bd64c7b0e75637e595.txt  \n",
      "  inflating: ./datasets/train/labels/08_21C_0245_jpg.rf.3932a8cbefa2bde1eb33f0417f20a688.txt  \n",
      "  inflating: ./datasets/train/labels/08_21C_0245_jpg.rf.73e723ed1cb538b4cf56d14a014ff715.txt  \n",
      "  inflating: ./datasets/train/labels/08_21C_0245_jpg.rf.eeb9c9b80ef87b3af59ad0cb85010df8.txt  \n",
      "  inflating: ./datasets/train/labels/08_21C_0246_jpg.rf.0ae64b05a2549a83aa16663c99095a93.txt  \n",
      "  inflating: ./datasets/train/labels/08_21C_0246_jpg.rf.b1c7c5836287facfb842eaa3e545d7fe.txt  \n",
      "  inflating: ./datasets/train/labels/08_21C_0247_jpg.rf.46b76d83dd6e7138e914ff2cc058d851.txt  \n",
      "  inflating: ./datasets/train/labels/08_21C_0248_jpg.rf.6ec60c9a24e691ba83beaa804de8f934.txt  \n",
      "  inflating: ./datasets/train/labels/08_21C_0248_jpg.rf.7f44e7e75976703c43ae1f3dfbf5675e.txt  \n",
      "  inflating: ./datasets/train/labels/08_21C_0248_jpg.rf.8ae7ff3788fee4de7c90df170f688fcd.txt  \n",
      "  inflating: ./datasets/train/labels/08_21C_0249_jpg.rf.974d8d2d259ae2096c48a996154e1cd1.txt  \n",
      "  inflating: ./datasets/train/labels/08_21C_0250_jpg.rf.a2582e7bf5fd7474233dd783a08bd54c.txt  \n",
      "  inflating: ./datasets/train/labels/08_21C_0251_jpg.rf.29db36ee57b236cd891523b1d2092757.txt  \n",
      "  inflating: ./datasets/train/labels/08_21C_0252_jpg.rf.6149ce4e140f9e1d76d3fcd75214f750.txt  \n",
      "  inflating: ./datasets/train/labels/08_21C_0252_jpg.rf.8cef21525bd5f1488cc8ef2ca95d46ad.txt  \n",
      "  inflating: ./datasets/train/labels/08_21C_0252_jpg.rf.a4845292e3d2b813dbd8c148e86c1952.txt  \n",
      "  inflating: ./datasets/train/labels/08_21C_0253_jpg.rf.41657bda2a4847d6e000bf1f316b0ca6.txt  \n",
      "  inflating: ./datasets/train/labels/08_21C_0253_jpg.rf.d5ec091addfec2bbe86bb50552df80d5.txt  \n",
      "  inflating: ./datasets/train/labels/08_21C_0253_jpg.rf.dbfb2b2d08b7aa5a191df42bf965408c.txt  \n",
      "  inflating: ./datasets/train/labels/08_21C_0254_jpg.rf.32a84cfac31206172114c90dae0550bc.txt  \n",
      "  inflating: ./datasets/train/labels/08_21C_0254_jpg.rf.73dc75cea7e59768b0577cf95767e362.txt  \n",
      "  inflating: ./datasets/train/labels/08_21C_0254_jpg.rf.961622f8e5690069e2ab25219b5a990e.txt  \n",
      "  inflating: ./datasets/train/labels/08_21C_0255_jpg.rf.273969b589fd18cea14e851a7995133d.txt  \n",
      "  inflating: ./datasets/train/labels/08_21C_0255_jpg.rf.4f124d40f89ad774e00558d13f398e02.txt  \n",
      "  inflating: ./datasets/train/labels/08_21C_0255_jpg.rf.e96c78db3910769950593bb40629aeda.txt  \n",
      "  inflating: ./datasets/train/labels/08_21C_0256_jpg.rf.077bec24b50f21352e4f5ec54924199f.txt  \n",
      "  inflating: ./datasets/train/labels/08_21C_0256_jpg.rf.a496623b55c93331a825d4a050b178a7.txt  \n",
      "  inflating: ./datasets/train/labels/08_21C_0257_jpg.rf.7d9d144226f71d6c8a8923607b3775ba.txt  \n",
      "  inflating: ./datasets/train/labels/08_21C_0257_jpg.rf.81a75119eb8815caf38a3a41f3541592.txt  \n",
      "  inflating: ./datasets/train/labels/08_21C_0258_jpg.rf.1e7bf7479e1632f7d1cb813287dff6c2.txt  \n",
      "  inflating: ./datasets/train/labels/08_21C_0258_jpg.rf.7fd1136c637b6bf6de49d9263e6cfb49.txt  \n",
      "  inflating: ./datasets/train/labels/08_21C_0259_jpg.rf.10a62070a41cec7de311395cdf0f7a76.txt  \n",
      "  inflating: ./datasets/train/labels/08_21C_0259_jpg.rf.c11b128a2c7fb7f11feb86a84cdf2774.txt  \n",
      "  inflating: ./datasets/train/labels/08_21C_0260_jpg.rf.1b70ef20b4cf74ecb86a00bec3504cfd.txt  \n",
      "  inflating: ./datasets/train/labels/08_21C_0260_jpg.rf.628d681bc598ac5cc636bac9a51c39ee.txt  \n",
      "  inflating: ./datasets/train/labels/08_21C_0262_jpg.rf.6091238e1f0b948c3eb9eb457b1b6e59.txt  \n",
      "  inflating: ./datasets/train/labels/08_21C_0262_jpg.rf.ae63209d8bb3523a862ddd3d08be89d5.txt  \n",
      "  inflating: ./datasets/train/labels/08_21C_0263_jpg.rf.6d61db5c85a79e67b7d258dfc447d4ea.txt  \n",
      "  inflating: ./datasets/train/labels/08_21C_0263_jpg.rf.8c3630cafaf664c810cc876595e217b9.txt  \n",
      "  inflating: ./datasets/train/labels/08_21C_0263_jpg.rf.b45a96a19246f0069d525a17b1f53bc9.txt  \n",
      "  inflating: ./datasets/train/labels/08_21C_0264_jpg.rf.339ce415205350873bb8f03cf375ec45.txt  \n",
      "  inflating: ./datasets/train/labels/08_21C_0264_jpg.rf.673447d53a11621b41cc4c3a4bdcd089.txt  \n",
      "  inflating: ./datasets/train/labels/08_21C_0264_jpg.rf.6e2b8b3a9be10090f00d8b803483e1a2.txt  \n",
      "  inflating: ./datasets/train/labels/08_21C_0265_jpg.rf.77bdcc172705843c98e8b28f061aa9f6.txt  \n",
      "  inflating: ./datasets/train/labels/08_21C_0265_jpg.rf.f01a35deae8254d723e7e79ac2fab606.txt  \n",
      "  inflating: ./datasets/train/labels/08_21C_0265_jpg.rf.f35015af7d9f884381d337af879798c9.txt  \n",
      "  inflating: ./datasets/train/labels/08_21C_0266_jpg.rf.449d755fddae5903a7c5ec326d317746.txt  \n",
      "  inflating: ./datasets/train/labels/08_21C_0266_jpg.rf.eb56922737020b6a3f137e2ef2b05077.txt  \n",
      "  inflating: ./datasets/train/labels/08_21C_0267_jpg.rf.64c59b0bf2ab7e2ffaf3fe46a5c3c89c.txt  \n",
      "  inflating: ./datasets/train/labels/08_21C_0267_jpg.rf.cef314202df01bc5a04ecc08c47a5d6b.txt  \n",
      "  inflating: ./datasets/train/labels/08_21C_0268_jpg.rf.6a0682ae9485f2f659e22a01b14c1cdf.txt  \n",
      "  inflating: ./datasets/train/labels/08_21C_0269_jpg.rf.911aff5982241dc215681bddd2764a9f.txt  \n",
      "  inflating: ./datasets/train/labels/08_21C_0269_jpg.rf.c9047bcebddf981cdd28cc4726b599f6.txt  \n",
      "  inflating: ./datasets/train/labels/08_21C_0270_jpg.rf.d535d73a9abfd2c6127303e5fe151efb.txt  \n",
      "  inflating: ./datasets/train/labels/08_21C_0271_jpg.rf.2ee65fc954903ea8c60dc939cec956d7.txt  \n",
      "  inflating: ./datasets/train/labels/08_21C_0271_jpg.rf.7b6da3580de004049c0491cdb576c0e6.txt  \n",
      "  inflating: ./datasets/train/labels/08_21C_0271_jpg.rf.f56cbb7dd313c56a05b591aab2d4367a.txt  \n",
      "  inflating: ./datasets/train/labels/08_21C_0272_jpg.rf.6e0acce0c9c40e8ba7d455c777174bb4.txt  \n",
      "  inflating: ./datasets/train/labels/08_21C_0272_jpg.rf.bbde92e820ecb1dcc1361b78a7f4b0fa.txt  \n",
      "  inflating: ./datasets/train/labels/08_21C_0272_jpg.rf.c1a5aa8034dfde9256683b73c35d2acd.txt  \n",
      "  inflating: ./datasets/train/labels/08_21C_0273_jpg.rf.09b4fc3b21ad8d0386546fb77c0bd624.txt  \n",
      "  inflating: ./datasets/train/labels/08_21C_0273_jpg.rf.c2936210997f70af65bb3284733dacc3.txt  \n",
      "  inflating: ./datasets/train/labels/08_21C_0273_jpg.rf.ea8d232ae5f18a16358eb680a061862c.txt  \n",
      "  inflating: ./datasets/train/labels/08_21C_0274_jpg.rf.839368e6012301d78d2f7f2912d0fe65.txt  \n",
      "  inflating: ./datasets/train/labels/08_21C_0274_jpg.rf.d34cd59c227fd660a5217b1a5b466658.txt  \n",
      "  inflating: ./datasets/train/labels/08_21C_0275_jpg.rf.828bd9ef01cbd34b77188eb9cab8b1b4.txt  \n",
      "  inflating: ./datasets/train/labels/08_21C_0275_jpg.rf.c3cf21aef977f821632ce822f86a4172.txt  \n",
      "  inflating: ./datasets/train/labels/08_21C_0276_jpg.rf.0f89472dceccacca052a68831957110b.txt  \n",
      "  inflating: ./datasets/train/labels/08_21C_0276_jpg.rf.23335170775207cb828fff0d3a0e3846.txt  \n",
      "  inflating: ./datasets/train/labels/08_21C_0277_jpg.rf.4fc3a4e37f1f6b6e1379edef7d21d7c3.txt  \n",
      "  inflating: ./datasets/train/labels/08_21C_0277_jpg.rf.7626943b1813c097467ab3e674a192b1.txt  \n",
      "  inflating: ./datasets/train/labels/08_21C_0277_jpg.rf.c2f52fa684ceedc78defb73719304626.txt  \n",
      "  inflating: ./datasets/train/labels/08_21C_0278_jpg.rf.15b2b5a13f31446f71c6d85c9450afac.txt  \n",
      "  inflating: ./datasets/train/labels/08_21C_0278_jpg.rf.2072e607295614ccb6d4ec3768ea9259.txt  \n",
      "  inflating: ./datasets/train/labels/08_21C_0279_jpg.rf.245b426800ae913f27cbd69c74f96cf6.txt  \n",
      "  inflating: ./datasets/train/labels/08_21C_0279_jpg.rf.3c0ff4f52ad724c53fa2afcbeb9c3462.txt  \n",
      "  inflating: ./datasets/train/labels/08_21C_0279_jpg.rf.3c37d6ca375b502a260c77280f128338.txt  \n",
      "  inflating: ./datasets/train/labels/08_21C_0280_jpg.rf.fb856ccdbe138169f3bf00af4f559c6a.txt  \n",
      "  inflating: ./datasets/train/labels/08_21C_0281_jpg.rf.7c4aaada87f241b680f1e15c0f0aaf0b.txt  \n",
      "  inflating: ./datasets/train/labels/08_21C_0282_jpg.rf.2bbdd5acd64537feb025c75bd956ce7d.txt  \n",
      "  inflating: ./datasets/train/labels/08_21C_0282_jpg.rf.6ffdf3c00cff5913c37257d00f07f59e.txt  \n",
      "  inflating: ./datasets/train/labels/08_21C_0283_jpg.rf.2ad7c8499b55ff32ce6edb66ab950b73.txt  \n",
      "  inflating: ./datasets/train/labels/08_21C_0283_jpg.rf.5b30e9f40f929999f9fdbb7e91016481.txt  \n",
      "  inflating: ./datasets/train/labels/08_21C_0283_jpg.rf.b7bf9cb0ea0b84705ba7eb964179742c.txt  \n",
      "  inflating: ./datasets/train/labels/08_21C_0284_jpg.rf.3aa22acc1fe8cdd270a8de0134c9ace2.txt  \n",
      "  inflating: ./datasets/train/labels/08_21C_0284_jpg.rf.d7f6fabba555d3db550243a09f9c8f8b.txt  \n",
      "  inflating: ./datasets/train/labels/08_21C_0285_jpg.rf.fa82b849181194f7bdee34d0ae8d97c7.txt  \n",
      "  inflating: ./datasets/train/labels/08_21C_0286_jpg.rf.ab553d714090c76f9282dd88f47ec0df.txt  \n",
      "  inflating: ./datasets/train/labels/08_21C_0286_jpg.rf.f6af294c26e4e7ede0948108c936d639.txt  \n",
      "  inflating: ./datasets/train/labels/08_21C_0287_jpg.rf.85abd9eff003385a514079d55e0f14e9.txt  \n",
      "  inflating: ./datasets/train/labels/08_21C_0288_jpg.rf.106f539d605f85986764bd533aa88a8d.txt  \n",
      "  inflating: ./datasets/train/labels/08_21C_0288_jpg.rf.26039a286c51e04654f71321ca7b124d.txt  \n",
      "  inflating: ./datasets/train/labels/08_21C_0289_jpg.rf.3d2e2080f3bf9f122360f8bf53874713.txt  \n",
      "  inflating: ./datasets/train/labels/08_21C_0289_jpg.rf.c2dbd2d236591a700a8f6cd04ad7ac2e.txt  \n",
      "  inflating: ./datasets/train/labels/08_21C_0289_jpg.rf.dcf761a80adc9ed3ac4f98268e1ee335.txt  \n",
      "  inflating: ./datasets/train/labels/08_21C_0290_jpg.rf.161cdff67733bb9bb34a0bf7606dbd71.txt  \n",
      "  inflating: ./datasets/train/labels/08_21C_0290_jpg.rf.3c4fdff36bba4a3d5a8a747cc47df896.txt  \n",
      "  inflating: ./datasets/train/labels/08_21C_0290_jpg.rf.7c082d2c670f92c8bf97f9a1fe7ea33c.txt  \n",
      "  inflating: ./datasets/train/labels/08_21C_0291_jpg.rf.1b7362d2469cfba6e9e8eb3d0279da9d.txt  \n",
      "  inflating: ./datasets/train/labels/08_21C_0291_jpg.rf.2482a384bfba1c94364a1fa530537080.txt  \n",
      "  inflating: ./datasets/train/labels/08_21C_0291_jpg.rf.d37d01261edfed31662ae1c1f07d3f5c.txt  \n",
      "  inflating: ./datasets/train/labels/08_21C_0292_jpg.rf.2e31aebc1c84cfe42602b56112733b98.txt  \n",
      "  inflating: ./datasets/train/labels/08_21C_0292_jpg.rf.37935915cfaf3b739c1c225186052712.txt  \n",
      "  inflating: ./datasets/train/labels/08_21C_0292_jpg.rf.cd7bdd8f99fbb2746a546f9f0ec7bb31.txt  \n",
      "  inflating: ./datasets/train/labels/08_21C_0293_jpg.rf.89a5754057fb3ea201324072447ca290.txt  \n",
      "  inflating: ./datasets/train/labels/08_21C_0293_jpg.rf.a74fd10fc25119174664ca7a15692570.txt  \n",
      "  inflating: ./datasets/train/labels/08_21C_0294_jpg.rf.0c6193f98ff347842449b7b1ba7ea850.txt  \n",
      "  inflating: ./datasets/train/labels/08_21C_0294_jpg.rf.6551e3cefcb55b7fbe1e7ef86d60cb48.txt  \n",
      "  inflating: ./datasets/train/labels/08_21C_0294_jpg.rf.bce627cc55fad519ed9585e988b47982.txt  \n",
      "  inflating: ./datasets/train/labels/08_21C_0295_jpg.rf.141d18445fe7477e1a95e6a72dbe27f8.txt  \n",
      "  inflating: ./datasets/train/labels/08_21C_0295_jpg.rf.7125724fa6ac80dd5069d067a9f9ddcf.txt  \n",
      "  inflating: ./datasets/train/labels/08_21C_0295_jpg.rf.7966ec2b3e0bfb07244d8d20eb99c388.txt  \n",
      "  inflating: ./datasets/train/labels/08_21C_0296_jpg.rf.00c63bc932f7acffed5463ef93377e1c.txt  \n",
      "  inflating: ./datasets/train/labels/08_21C_0296_jpg.rf.e8f6a5122b52867c8678fa1a77856f7c.txt  \n",
      "  inflating: ./datasets/train/labels/08_21C_0297_jpg.rf.0da6352ccedd62c3a347f0791d30c9de.txt  \n",
      "  inflating: ./datasets/train/labels/08_21C_0297_jpg.rf.df60acb777b1f712c3c83eceb986b95c.txt  \n",
      "  inflating: ./datasets/train/labels/08_21C_0298_jpg.rf.8accfa03d284811aa8aa859cbb649ffb.txt  \n",
      "  inflating: ./datasets/train/labels/08_21C_0299_jpg.rf.025d452f8bfb9e258fa9b049019e7d70.txt  \n",
      "  inflating: ./datasets/train/labels/08_21C_0299_jpg.rf.157527d57c1dc8fe846e1689340ace02.txt  \n",
      "  inflating: ./datasets/train/labels/08_21C_0299_jpg.rf.9a4789703be24398820d2eda67433936.txt  \n",
      "  inflating: ./datasets/train/labels/08_21C_0300_jpg.rf.34949b547cbe83d1e22775d3ddf7aad7.txt  \n",
      "  inflating: ./datasets/train/labels/08_21C_0300_jpg.rf.71aa0fd4040816a0ce84896d850ce103.txt  \n",
      "  inflating: ./datasets/train/labels/08_21C_0301_jpg.rf.206e0e2ada5267a043e0e4d3573013d5.txt  \n",
      "  inflating: ./datasets/train/labels/08_21C_0301_jpg.rf.74fded09617e073e35fba7c7add9dd29.txt  \n",
      "  inflating: ./datasets/train/labels/08_21C_0301_jpg.rf.af7956706c660a48e607251955f9d655.txt  \n",
      "  inflating: ./datasets/train/labels/08_21C_0302_jpg.rf.c33b132d5dc3bceb80f235889d1af223.txt  \n",
      "  inflating: ./datasets/train/labels/08_21C_0302_jpg.rf.f9e36e129e1b8ca4e13a72aef8ea510e.txt  \n",
      "  inflating: ./datasets/train/labels/08_21C_0303_jpg.rf.18194ec9d78dc81a4eb137c388e6d007.txt  \n",
      "  inflating: ./datasets/train/labels/08_21C_0304_jpg.rf.b58143cec0b5de8a0734d76aab80aab7.txt  \n",
      "  inflating: ./datasets/train/labels/08_21C_0304_jpg.rf.dbf3794cd3a46c213cc5d7f240f42f3f.txt  \n",
      "  inflating: ./datasets/train/labels/08_21C_0304_jpg.rf.fa6a834f112fb9acbee2bd33a21f7238.txt  \n",
      "  inflating: ./datasets/train/labels/08_21C_0305_jpg.rf.821420272435da6856307b734d9f9cfd.txt  \n",
      "  inflating: ./datasets/train/labels/08_21C_0306_jpg.rf.13faeac61786b8aabd438867f24d9aa1.txt  \n",
      "  inflating: ./datasets/train/labels/08_21C_0307_jpg.rf.7c02fd5979af8463d66063af9c92569c.txt  \n",
      "  inflating: ./datasets/train/labels/08_21C_0307_jpg.rf.d4cb655c146b11e379b0d0770617dada.txt  \n",
      "  inflating: ./datasets/train/labels/08_21C_0309_jpg.rf.22860d0b058557526380c39246579021.txt  \n",
      "  inflating: ./datasets/train/labels/08_21C_0310_jpg.rf.24efb341f872bfd7d18011b129f53e9c.txt  \n",
      "  inflating: ./datasets/train/labels/08_21C_0310_jpg.rf.3879110e369c96984c032df118aac37b.txt  \n",
      "  inflating: ./datasets/train/labels/08_21C_0311_jpg.rf.342bdeca4488d88e8a310e81fe93542d.txt  \n",
      "  inflating: ./datasets/train/labels/08_21C_0312_jpg.rf.1e8c42a41d87052825f3bd58ff6301fe.txt  \n",
      "  inflating: ./datasets/train/labels/08_21C_0312_jpg.rf.4ee8bd1b29d19d42863a8066b509f269.txt  \n",
      "  inflating: ./datasets/train/labels/08_21C_0313_jpg.rf.786cfc4723f194121ab974348ca12538.txt  \n",
      "  inflating: ./datasets/train/labels/08_21C_0314_jpg.rf.1db0e0e485d103724e38ce3a74bafe5d.txt  \n",
      "  inflating: ./datasets/train/labels/08_21C_0315_jpg.rf.83de3b7c7d33a83fb2ba12a05968b610.txt  \n",
      "  inflating: ./datasets/train/labels/08_21C_0316_jpg.rf.af33b6fd1b5a95a5b40e403437ad7014.txt  \n",
      "  inflating: ./datasets/train/labels/08_21C_0317_jpg.rf.491901a0569078c7fdc7b6eca15eb343.txt  \n",
      "  inflating: ./datasets/train/labels/08_21C_0320_jpg.rf.6f1f262e65a834725aaf8cfbdb0ae7ca.txt  \n",
      "  inflating: ./datasets/train/labels/08_21C_0321_jpg.rf.824d0ea9139f5b317c33e4236d9b427c.txt  \n",
      "  inflating: ./datasets/train/labels/08_21C_0321_jpg.rf.ddcf968f0b59f20146103e48648c7f7e.txt  \n",
      "  inflating: ./datasets/train/labels/08_21C_0323_jpg.rf.9091f0348a412be22f7b46743c221612.txt  \n",
      "  inflating: ./datasets/train/labels/08_21C_0324_jpg.rf.cc7314b37719b1c8d3fd1705b84224ef.txt  \n",
      "  inflating: ./datasets/train/labels/08_21C_0325_jpg.rf.3be7659c312ab9a117caf17719058946.txt  \n",
      "  inflating: ./datasets/train/labels/08_21C_0327_jpg.rf.074076850606716c2f4eddd83ef3b1e0.txt  \n",
      "  inflating: ./datasets/train/labels/08_21C_0327_jpg.rf.33cf2f6edeccf4eef1121341ffe7e921.txt  \n",
      "  inflating: ./datasets/train/labels/08_21C_0328_jpg.rf.b2f9a88be82984e007b5ce8dc3389df4.txt  \n",
      "  inflating: ./datasets/train/labels/08_21C_0329_jpg.rf.cce9a7beb8d7ad39566c7ac2fc2cc269.txt  \n",
      "  inflating: ./datasets/train/labels/08_21C_0329_jpg.rf.e680cc29afd2ff4b9f520c25b4bbd2c5.txt  \n",
      "  inflating: ./datasets/train/labels/08_21C_0330_jpg.rf.9d73a90f6d5403462995c4f522f7eb74.txt  \n",
      "  inflating: ./datasets/train/labels/08_21C_0330_jpg.rf.f216e66447ca7a383c184c0f51110f74.txt  \n",
      "  inflating: ./datasets/train/labels/08_21C_0331_jpg.rf.0505c7bfa99ef6bd84fac528331e2f8e.txt  \n",
      "  inflating: ./datasets/train/labels/08_21C_0332_jpg.rf.841eab1cf78def22bf330a31b13f7736.txt  \n",
      "  inflating: ./datasets/train/labels/08_21C_0335_jpg.rf.e00050bdba2c834dbfc54b752e60dffd.txt  \n",
      "  inflating: ./datasets/train/labels/08_21C_0338_jpg.rf.009079e9c7a8f00db8e0a5ec9dc7753a.txt  \n",
      "  inflating: ./datasets/train/labels/08_21C_0339_jpg.rf.10f99d40fb907399227c9b1230625476.txt  \n",
      "  inflating: ./datasets/train/labels/08_21C_0340_jpg.rf.b4a27700d7bf6198f6f152722a036de2.txt  \n",
      "  inflating: ./datasets/train/labels/08_21C_0341_jpg.rf.5881eb81b34ff0a49c91b6c25afbe85e.txt  \n",
      "  inflating: ./datasets/train/labels/08_21C_0342_jpg.rf.e16d3d81d0cfe8a844841ad6c89147ba.txt  \n",
      "  inflating: ./datasets/train/labels/08_21C_0343_jpg.rf.888ab277d5e8fbc85d85ceb811bdfd83.txt  \n",
      "  inflating: ./datasets/train/labels/08_21C_0344_jpg.rf.c4798f2125ee43a61627abaa3c3d4106.txt  \n",
      "  inflating: ./datasets/train/labels/08_21C_0346_jpg.rf.5b04c443fd1ac576563a1c0281c8ad23.txt  \n",
      "  inflating: ./datasets/train/labels/08_21C_0347_jpg.rf.74bbd50a9f8e1ec7daa8a89ee8738e08.txt  \n",
      "  inflating: ./datasets/train/labels/08_21C_0350_jpg.rf.3a91f62e138dd88188d0c6e4b4e84b35.txt  \n",
      "  inflating: ./datasets/train/labels/08_21C_0351_jpg.rf.7eeef7ba2a3f1fe12e573f6e6df0bca9.txt  \n",
      "  inflating: ./datasets/train/labels/08_21C_0354_jpg.rf.821ca1d1bf852d3d8b7dfe3e872df5ab.txt  \n",
      "  inflating: ./datasets/train/labels/08_21C_0355_jpg.rf.f8682deae3ef100a9843297ae32566fd.txt  \n",
      "  inflating: ./datasets/train/labels/08_21C_0356_jpg.rf.1a529cf6e86646174190aea93253f755.txt  \n",
      "  inflating: ./datasets/train/labels/08_21C_0357_jpg.rf.89fb53980e051d976872f285b36d1cef.txt  \n",
      "  inflating: ./datasets/train/labels/08_21C_0358_jpg.rf.8145cbcac8529a0b19abb92785d6bf1e.txt  \n",
      "  inflating: ./datasets/train/labels/08_21C_0359_jpg.rf.ccee31f234272167b25325298d821daf.txt  \n",
      "  inflating: ./datasets/train/labels/08_21C_0360_jpg.rf.81405c73879d92124d41ee6ef2fd52a2.txt  \n",
      "  inflating: ./datasets/train/labels/08_21C_0361_jpg.rf.b65d4d9266a854f653f992cb647eaf9d.txt  \n",
      "  inflating: ./datasets/train/labels/08_21C_0362_jpg.rf.b8ce83a418a73dc5b78ff74009d11504.txt  \n",
      "  inflating: ./datasets/train/labels/08_21C_0364_jpg.rf.d2b3ffe7f07282a685dab694e5249e72.txt  \n",
      "  inflating: ./datasets/train/labels/08_21C_0366_jpg.rf.68ed697405c3128c7db199f6ebb57cb0.txt  \n",
      "  inflating: ./datasets/train/labels/08_21C_0367_jpg.rf.f520de33c6daa786af62f3b8fb98b83a.txt  \n",
      "  inflating: ./datasets/train/labels/08_21C_0371_jpg.rf.a32b1c1cbb88ef20fae0da5576fb0ad1.txt  \n",
      "  inflating: ./datasets/train/labels/08_21C_0372_jpg.rf.2d8539918c588f5b285e599277b182d7.txt  \n",
      "  inflating: ./datasets/train/labels/08_21C_0374_jpg.rf.0b708ebc703d788536c5dfd01005f180.txt  \n",
      "  inflating: ./datasets/train/labels/08_21C_0375_jpg.rf.c0025efd34f7c3e8c68d8a781039fde9.txt  \n",
      "  inflating: ./datasets/train/labels/08_21C_0378_jpg.rf.e311783dc87d5b4e4358b936b5005b34.txt  \n",
      "  inflating: ./datasets/train/labels/08_21C_0379_jpg.rf.04e76e98ea1e84fa3ebb1494ae6c34fa.txt  \n",
      "  inflating: ./datasets/train/labels/08_21C_0381_jpg.rf.dd85f3c34e35295d2ba24aff7e5277d6.txt  \n",
      "  inflating: ./datasets/train/labels/08_21C_0383_jpg.rf.d6444cfab836569b5845b9a5c0d59015.txt  \n",
      "  inflating: ./datasets/train/labels/08_21C_0387_jpg.rf.f773447cd9a621fbce78c5ba1da14d8d.txt  \n",
      "  inflating: ./datasets/train/labels/08_21C_0388_jpg.rf.d4b67dd05fbe2263c25c2def86f19956.txt  \n",
      "  inflating: ./datasets/train/labels/08_21C_0389_jpg.rf.f4eb84fa315ad7408f6c9fd4500ae978.txt  \n",
      "  inflating: ./datasets/train/labels/08_21C_0390_jpg.rf.575cc0205e97b9eea336a4c56e3e8fba.txt  \n",
      "  inflating: ./datasets/train/labels/08_21C_0391_jpg.rf.b1aab3d7836c2c27dd4e829ccec50ce5.txt  \n",
      "  inflating: ./datasets/train/labels/08_21C_0392_jpg.rf.713ad35d44b66cb5caa9847c7239906a.txt  \n",
      "  inflating: ./datasets/train/labels/08_21C_0393_jpg.rf.bf23ec34d9c298cb8b509df5c1366638.txt  \n",
      "  inflating: ./datasets/train/labels/08_21C_0394_jpg.rf.9055e08ea10e02b97471500354d8f235.txt  \n",
      "  inflating: ./datasets/train/labels/08_21C_0395_jpg.rf.3f8aeb5f1131653e2c4a1f9f68a0e1aa.txt  \n",
      "  inflating: ./datasets/train/labels/08_21C_0396_jpg.rf.eda33fdf1e9552f23dce08eb41cc36eb.txt  \n",
      "  inflating: ./datasets/train/labels/08_21C_0397_jpg.rf.e889ca1503e0ed1271340e8a6a06ed24.txt  \n",
      "  inflating: ./datasets/train/labels/08_21C_0398_jpg.rf.17e44e0853a1bfb36dc8476270c5cc8f.txt  \n",
      "  inflating: ./datasets/train/labels/08_21C_0400_jpg.rf.d78351e2c52898ff3bd063a36e428f0d.txt  \n",
      "  inflating: ./datasets/train/labels/08_21C_0401_jpg.rf.e018fc3cc1634f5a6046e1b29f981137.txt  \n",
      "  inflating: ./datasets/train/labels/08_21C_0402_jpg.rf.5d84566b9868c4a08f0ee4e86d46850e.txt  \n",
      "  inflating: ./datasets/train/labels/08_21C_0403_jpg.rf.20b385dca9b5a1f9f68486ffa8957123.txt  \n",
      "  inflating: ./datasets/train/labels/08_21C_0404_jpg.rf.023d4c7cbec5627a2c82d13d711aa844.txt  \n",
      "  inflating: ./datasets/train/labels/08_21C_0406_jpg.rf.3d91f7b88af4aac2516451ac4db9297e.txt  \n",
      "  inflating: ./datasets/train/labels/08_21C_0407_jpg.rf.8dfd485c8ad4d1bb646fa3f5d5261a73.txt  \n",
      "  inflating: ./datasets/train/labels/08_21C_0408_jpg.rf.9ce00c7cbfd4506e43c0590e19b634b3.txt  \n",
      "  inflating: ./datasets/train/labels/08_21C_0409_jpg.rf.78347d337403b85640cedfd2101ae384.txt  \n",
      "  inflating: ./datasets/train/labels/08_21C_0410_jpg.rf.ab968d14f88ce9b57de4bffd0b687b56.txt  \n",
      "  inflating: ./datasets/train/labels/08_21C_0411_jpg.rf.301119beb05cfc1d5394c3b5ca531504.txt  \n",
      "  inflating: ./datasets/train/labels/08_21C_0414_jpg.rf.b6bacc2ff090d5dacb802fc2f67a165b.txt  \n",
      "  inflating: ./datasets/train/labels/08_21C_0418_jpg.rf.962633d04d25fda95dfd99f89ba00228.txt  \n",
      "  inflating: ./datasets/train/labels/08_21C_0419_jpg.rf.8fe2c12819283ff816459ebdd485e38d.txt  \n",
      "  inflating: ./datasets/train/labels/08_21C_0420_jpg.rf.14975988ad4cfe9354085ca4a7b9f820.txt  \n",
      "  inflating: ./datasets/train/labels/08_21C_0421_jpg.rf.08c072f6e6975042a01affcd6085853f.txt  \n",
      "  inflating: ./datasets/train/labels/08_21C_0422_jpg.rf.3959e34b09044f8c59c16a5b498f3817.txt  \n",
      "  inflating: ./datasets/train/labels/08_21C_0423_jpg.rf.d92945555a6b88e7b0082fd4fed87afd.txt  \n",
      "  inflating: ./datasets/train/labels/08_21C_0424_jpg.rf.023f9611213eada423ba359582530877.txt  \n",
      "  inflating: ./datasets/train/labels/08_21C_0425_jpg.rf.f646a0dcda3a4ccab48d91418110b146.txt  \n",
      "  inflating: ./datasets/train/labels/08_21C_0427_jpg.rf.dfb60220111d6df42a32f09bef28a251.txt  \n",
      "  inflating: ./datasets/train/labels/08_21C_0433_jpg.rf.7043d567aea62df94e23c5bf86c2f185.txt  \n",
      "  inflating: ./datasets/train/labels/08_21C_0434_jpg.rf.d9fb6d1c5e01014af002abe0c2d92ad0.txt  \n",
      "  inflating: ./datasets/train/labels/08_21C_0438_jpg.rf.7fbc890ef3728ecd45592ac93e20265d.txt  \n",
      "  inflating: ./datasets/train/labels/08_21C_0439_jpg.rf.576e4877c482da9f588d6aafce1fdef5.txt  \n",
      "  inflating: ./datasets/train/labels/08_21C_0444_jpg.rf.62f49375e012fa7a4190be4b761aadac.txt  \n",
      "  inflating: ./datasets/train/labels/08_21C_0445_jpg.rf.56d84115173a1b027dee7d1474c908e6.txt  \n",
      "  inflating: ./datasets/train/labels/08_21C_0450_jpg.rf.2758af2d0713de1057e9ff471fdb0e98.txt  \n",
      "  inflating: ./datasets/train/labels/08_21C_0452_jpg.rf.09e56a3219b79e561f31f6fb187d5806.txt  \n",
      "  inflating: ./datasets/train/labels/08_21C_0454_jpg.rf.61f44a6279c7b6f649ecd89949920540.txt  \n",
      "  inflating: ./datasets/train/labels/08_21C_0456_jpg.rf.9c8e5b110a464ea2437d06d8ec901da1.txt  \n",
      "  inflating: ./datasets/train/labels/08_21C_0457_jpg.rf.be0fd9e99f2eb3e280b9e65a43fb37b6.txt  \n",
      "  inflating: ./datasets/train/labels/08_21C_0458_jpg.rf.f5267df78e1551a2b1adf495df3b4762.txt  \n",
      "  inflating: ./datasets/train/labels/08_21C_0460_jpg.rf.5133d3c13e449ec11cbf5ec9d78d8d30.txt  \n",
      "  inflating: ./datasets/train/labels/08_21C_0461_jpg.rf.1536a4a93807ec50c3421d62b445d47e.txt  \n",
      "  inflating: ./datasets/train/labels/08_21C_0464_jpg.rf.316e45d171d8ec16d9ca093c776b6de5.txt  \n",
      "  inflating: ./datasets/train/labels/08_21C_0468_jpg.rf.e86e4370e535de11eb3be269ae4bb277.txt  \n",
      "  inflating: ./datasets/train/labels/08_21C_0469_jpg.rf.dbb9f432c8bfbbaea8778d2dffbe3da0.txt  \n",
      "  inflating: ./datasets/train/labels/08_21C_0471_jpg.rf.6e610e43fb6d9182d0e01273c8677bac.txt  \n",
      "  inflating: ./datasets/train/labels/08_21C_0472_jpg.rf.f0f29f69be61946cc4090bf3ad6f3877.txt  \n",
      "  inflating: ./datasets/train/labels/08_21C_0473_jpg.rf.9ee8250becd663205e94cf9c8a7d27eb.txt  \n",
      "  inflating: ./datasets/train/labels/08_21C_0474_jpg.rf.e68a28ea4c860c2ae868cfbaa0efce49.txt  \n",
      "  inflating: ./datasets/train/labels/08_21C_0475_jpg.rf.13ca33f90c1f9c802dca682b338e680f.txt  \n",
      "  inflating: ./datasets/train/labels/08_21C_0477_jpg.rf.8bf3581c150ccae9ac93c61aeca4cd74.txt  \n",
      "  inflating: ./datasets/train/labels/08_21C_0478_jpg.rf.44f58956b6fbf5afd3d884adc68e3bcb.txt  \n",
      "  inflating: ./datasets/train/labels/08_21C_0479_jpg.rf.c085bf69c6fddb8a3ba3dd2f62de7711.txt  \n",
      "  inflating: ./datasets/train/labels/08_21C_0480_jpg.rf.102a5999b22cb70e54b9787467988b3a.txt  \n",
      "  inflating: ./datasets/train/labels/08_21C_0482_jpg.rf.e322cf3eb0928343a72c8fd09fa5e01c.txt  \n",
      "  inflating: ./datasets/train/labels/08_21C_0484_jpg.rf.f81f9b8f4afd57bbd8e6b55ed859ae70.txt  \n",
      "  inflating: ./datasets/train/labels/08_21C_0485_jpg.rf.d422fda9b7b959ec08fe43004439585e.txt  \n",
      "  inflating: ./datasets/train/labels/08_21C_0486_jpg.rf.b7576ed9318cae68d5ffbc8ec0b90728.txt  \n",
      "  inflating: ./datasets/train/labels/08_21C_0487_jpg.rf.1331dd3dfb93635202faa59c3e3f426d.txt  \n",
      "  inflating: ./datasets/train/labels/08_21C_0488_jpg.rf.05229f771a3c94f97dea5f2ecc4a0f06.txt  \n",
      "  inflating: ./datasets/train/labels/08_21C_0489_jpg.rf.b28124467d5f03be7ddd74277b270b5b.txt  \n",
      "  inflating: ./datasets/train/labels/08_21C_0490_jpg.rf.1afca009456316c7c1aac5e7591f9c60.txt  \n",
      "  inflating: ./datasets/train/labels/08_21C_0491_jpg.rf.4d380efd25bc42ed575bbe8d23bb0908.txt  \n",
      "  inflating: ./datasets/train/labels/08_21C_0495_jpg.rf.91611925d78ddcd7b69be2987ea9416e.txt  \n",
      "  inflating: ./datasets/train/labels/08_21C_0496_jpg.rf.75799d741957b963628b95cbd69d7b14.txt  \n",
      "  inflating: ./datasets/train/labels/08_21C_0499_jpg.rf.a259d8ba66cc1c0f32d44bf6c0ade51f.txt  \n",
      "  inflating: ./datasets/train/labels/08_21C_0500_jpg.rf.6a0570d6d736b3fe5ba97a7d71a1ce62.txt  \n",
      "  inflating: ./datasets/train/labels/08_21C_0501_jpg.rf.d8c15222f9b32494322df189383ab93e.txt  \n",
      "  inflating: ./datasets/train/labels/08_21C_0502_jpg.rf.e2a019fa349dac02941aefdcee60c7a8.txt  \n",
      "  inflating: ./datasets/train/labels/08_21C_0503_jpg.rf.9db1ab1599734f72575d9b4c96376f9d.txt  \n",
      "  inflating: ./datasets/train/labels/08_21C_0504_jpg.rf.a6bc8f21617eb20d922828246c10150b.txt  \n",
      "  inflating: ./datasets/train/labels/08_21C_0505_jpg.rf.86c288b2d4ef7f68ac1c466defe7a144.txt  \n",
      "  inflating: ./datasets/train/labels/08_21C_0507_jpg.rf.a80a6034d285196ea68bc0c9d39af741.txt  \n",
      "  inflating: ./datasets/train/labels/08_21C_0508_jpg.rf.3f1a0f3159787c28690600be6aeb5dea.txt  \n",
      "  inflating: ./datasets/train/labels/08_21C_0509_jpg.rf.86477c83710209ba4ceeaa15fcbcc3c2.txt  \n",
      "  inflating: ./datasets/train/labels/08_21C_0510_jpg.rf.95aa817c42f69c91d71daef5fc395c07.txt  \n",
      "  inflating: ./datasets/train/labels/08_21C_0511_jpg.rf.4e506ac28b3e13795f3b137dfaf260e5.txt  \n",
      "  inflating: ./datasets/train/labels/08_21C_0512_jpg.rf.d66f5017a70251a9bdf397e876fe92d3.txt  \n",
      "  inflating: ./datasets/train/labels/08_21C_0513_jpg.rf.6e09a8c9f031e61bac05eb7e330fda87.txt  \n",
      "  inflating: ./datasets/train/labels/08_21C_0515_jpg.rf.c02bc8c94ec8b0269e7251ad0c69df0a.txt  \n",
      "  inflating: ./datasets/train/labels/08_21C_0516_jpg.rf.b6e6202afb9a58092d07e5a9cb5797f9.txt  \n",
      "  inflating: ./datasets/train/labels/08_21C_0517_jpg.rf.e2df4ec62bfabde5a5f94345b2caea00.txt  \n",
      "  inflating: ./datasets/train/labels/08_21C_0518_jpg.rf.899ca9290da70b1a998652a64a570c71.txt  \n",
      "  inflating: ./datasets/train/labels/08_21C_0519_jpg.rf.fd7201922afec8fbe7b4df5c29b89c70.txt  \n",
      "  inflating: ./datasets/train/labels/08_21C_0520_jpg.rf.f181e202a9eaa56b1b56bdb4e07563f1.txt  \n",
      "  inflating: ./datasets/train/labels/08_21C_0521_jpg.rf.ae46d3a61bec4c91741c73653e6e4c5d.txt  \n",
      "  inflating: ./datasets/train/labels/08_21C_0522_jpg.rf.2110112c71ced43dbb070cc537e098ea.txt  \n",
      "  inflating: ./datasets/train/labels/08_21C_0523_jpg.rf.51a87c2a1e8aa3825854aa005d9b2fe2.txt  \n",
      "  inflating: ./datasets/train/labels/08_21C_0524_jpg.rf.7b1a82b1156bd0217d29a662c3787efb.txt  \n",
      "  inflating: ./datasets/train/labels/08_21C_0526_jpg.rf.51328d82e6bb3e77bc9ecccd3242bf5b.txt  \n",
      "  inflating: ./datasets/train/labels/08_21C_0527_jpg.rf.6da5d013dc0e935b6b6614cada5e64e0.txt  \n",
      "  inflating: ./datasets/train/labels/08_21C_0529_jpg.rf.347ea279e0d593881a200f083377e6a4.txt  \n",
      "  inflating: ./datasets/train/labels/08_21C_0530_jpg.rf.d605e53b34031f504669479684c67648.txt  \n",
      "  inflating: ./datasets/train/labels/08_21C_0533_jpg.rf.13e820d06dd6ad73fc0f19a8d8a56824.txt  \n",
      "  inflating: ./datasets/train/labels/08_21C_0534_jpg.rf.3955b75851336b168df5e30603409776.txt  \n",
      "  inflating: ./datasets/train/labels/08_21C_0535_jpg.rf.e499aece660381ae35ecb2c126e4675a.txt  \n",
      "  inflating: ./datasets/train/labels/08_21C_0537_jpg.rf.1a5c340bcebe0c1247ef90792d541d03.txt  \n",
      "  inflating: ./datasets/train/labels/08_21C_0538_jpg.rf.a05616ab4bd1713915aa07a5fe8489c6.txt  \n",
      "  inflating: ./datasets/train/labels/08_21C_0540_jpg.rf.5a1fb4c60b3ff37cd9a57719071ae104.txt  \n",
      "  inflating: ./datasets/train/labels/08_21C_0542_jpg.rf.99f5e0b0cd4ddf4b6b6565933bb0267a.txt  \n",
      "  inflating: ./datasets/train/labels/08_21C_0543_jpg.rf.a88f462a199888eb6f28bf6542bf7661.txt  \n",
      "  inflating: ./datasets/train/labels/08_21C_0544_jpg.rf.e066fc722f0548d3cd35fab3114675aa.txt  \n",
      "  inflating: ./datasets/train/labels/08_21C_0547_jpg.rf.05341b650afa47574cea25155f180dfd.txt  \n",
      "  inflating: ./datasets/train/labels/08_21C_0549_jpg.rf.acd6c76d8c88c717a9d3feba27f5e59b.txt  \n",
      "  inflating: ./datasets/train/labels/08_21C_0550_jpg.rf.95db3df2bb008ce8dac2c78fb307160c.txt  \n",
      "  inflating: ./datasets/train/labels/08_21C_0551_jpg.rf.13b947b48287227058ebff04f6bc4642.txt  \n",
      "  inflating: ./datasets/train/labels/08_21C_0552_jpg.rf.90ea1cd83502a5ba0d4eb2e9ef1e3898.txt  \n",
      "  inflating: ./datasets/train/labels/08_21C_0553_jpg.rf.2998704ae4ad614fbbac8e65261a40d6.txt  \n",
      "  inflating: ./datasets/train/labels/08_21C_0554_jpg.rf.23a0ff7caf043c1b1883e56c09807202.txt  \n",
      "  inflating: ./datasets/train/labels/08_21C_0555_jpg.rf.6a24a77fb62f826bc4e287eb85a30d95.txt  \n",
      "  inflating: ./datasets/train/labels/08_21C_0557_jpg.rf.c0aba273bf1997755fb076e5972b0419.txt  \n",
      "  inflating: ./datasets/train/labels/08_21C_0558_jpg.rf.e8b2ad28aaaceb8c86dbffae486c5fdc.txt  \n",
      "  inflating: ./datasets/train/labels/08_21C_0559_jpg.rf.e29c72e38189aa850d87c010143a1c67.txt  \n",
      "  inflating: ./datasets/train/labels/08_21C_0560_jpg.rf.15ea1c081b83a11014ceff3a69d1479e.txt  \n",
      "  inflating: ./datasets/train/labels/08_21C_0561_jpg.rf.eb8f7b72d150bd1fad91d4ae67983401.txt  \n",
      "  inflating: ./datasets/train/labels/08_21C_0563_jpg.rf.67b1187438f5d0ca89e76345d3856a69.txt  \n",
      "  inflating: ./datasets/train/labels/08_21C_0564_jpg.rf.a8f9eca2f25bf540ff5907c1461646b8.txt  \n",
      "  inflating: ./datasets/train/labels/08_21C_0565_jpg.rf.0d2a1c507b9caa15d87552c9f306f8bf.txt  \n",
      "  inflating: ./datasets/train/labels/08_21C_0566_jpg.rf.c88d8df9c79141b1d6a5ce833b5e597e.txt  \n",
      "  inflating: ./datasets/train/labels/08_21C_0567_jpg.rf.b7d1a453b9cdd4316754828bc61132ef.txt  \n",
      "  inflating: ./datasets/train/labels/08_21C_0568_jpg.rf.53d332965bcb6e6e3c73071da63be30c.txt  \n",
      "  inflating: ./datasets/train/labels/08_21C_0569_jpg.rf.533922c0d7ababf28d76aa93a5f9c37b.txt  \n",
      "  inflating: ./datasets/train/labels/08_21C_0570_jpg.rf.6335f7a4e752d0dc52bd98dc9649b42e.txt  \n",
      "  inflating: ./datasets/train/labels/08_21C_0571_jpg.rf.8e2a0fbbc18ecb62a3466737a80409e1.txt  \n",
      "  inflating: ./datasets/train/labels/08_21C_0574_jpg.rf.b2f3eae7e9b1b9ad4e187389a7cd4036.txt  \n",
      "  inflating: ./datasets/train/labels/08_21C_0575_jpg.rf.ec668642e642d0e160c40962008b77f8.txt  \n",
      "  inflating: ./datasets/train/labels/08_21C_0577_jpg.rf.5fd75c6b053d98a3bb67736e1683f279.txt  \n",
      "  inflating: ./datasets/train/labels/08_21C_0578_jpg.rf.3802a274897286641ad2482e785344b7.txt  \n",
      "  inflating: ./datasets/train/labels/08_21C_0583_jpg.rf.174d4ab7a640c9a895e61c337ed7e22e.txt  \n",
      "  inflating: ./datasets/train/labels/08_21C_0584_jpg.rf.e2c83710beabd9815e7c689a633137ad.txt  \n",
      "  inflating: ./datasets/train/labels/08_21C_0585_jpg.rf.731b97ed138c2b806c12a230a427fb9b.txt  \n",
      "  inflating: ./datasets/train/labels/08_21C_0587_jpg.rf.a58a278fe15cdf7e24b6adedac91807b.txt  \n",
      "  inflating: ./datasets/train/labels/08_21C_0588_jpg.rf.7bf72e6c788cd53f0df27d723b51bd11.txt  \n",
      "  inflating: ./datasets/train/labels/08_21C_0589_jpg.rf.0dc0b3515aa6c40bcb03a067fb780af6.txt  \n",
      "  inflating: ./datasets/train/labels/08_21C_0590_jpg.rf.103447588953a14fafde6fe1961b3e31.txt  \n",
      "  inflating: ./datasets/train/labels/08_21C_0591_jpg.rf.53ea5c9f2cd96103751db017e5dd7b7b.txt  \n",
      "  inflating: ./datasets/train/labels/08_21C_0593_jpg.rf.52bb715883883bd6679e9b4a723a3684.txt  \n",
      "  inflating: ./datasets/train/labels/08_21C_0594_jpg.rf.5480a0372b46f62dcb808a120c98143c.txt  \n",
      "  inflating: ./datasets/train/labels/08_21C_0597_jpg.rf.a52b6825083e59d1c2fe312231187a89.txt  \n",
      "  inflating: ./datasets/train/labels/08_21C_0599_jpg.rf.d088e0ec1ca06ec88c2175ea9eab9be8.txt  \n",
      "  inflating: ./datasets/train/labels/08_21C_0600_jpg.rf.12119ec5180e8dc3c9d849a08206969e.txt  \n",
      "  inflating: ./datasets/train/labels/08_21C_0601_jpg.rf.e18b62b247620f349f6855b445913e43.txt  \n",
      "  inflating: ./datasets/train/labels/08_21C_0603_jpg.rf.1216d9a11857363f5911c77ff5daf5b0.txt  \n",
      "  inflating: ./datasets/train/labels/08_21C_0605_jpg.rf.3bb85ec5024bb452e51a5abde8616b48.txt  \n",
      "  inflating: ./datasets/train/labels/08_21C_0606_jpg.rf.e2b964f9d5cc3a274a420362b1a53488.txt  \n",
      "  inflating: ./datasets/train/labels/08_21C_0607_jpg.rf.0ecd600cb5ca738e3edaa02219ab4523.txt  \n",
      "  inflating: ./datasets/train/labels/08_21C_0610_jpg.rf.daa81c4d50d6dc57764a61d06a72c903.txt  \n",
      "  inflating: ./datasets/train/labels/08_21C_0611_jpg.rf.346813eb67298d2407d38598ca81b797.txt  \n",
      "  inflating: ./datasets/train/labels/08_21C_0613_jpg.rf.90792bc0237a68ba69d0267ec5977119.txt  \n",
      "  inflating: ./datasets/train/labels/08_21C_0616_jpg.rf.2cf18ffffdfc9eecc03b92435afaf047.txt  \n",
      "  inflating: ./datasets/train/labels/08_21C_0618_jpg.rf.33aee20f646ff308337acf499bc003f8.txt  \n",
      "  inflating: ./datasets/train/labels/08_21C_0619_jpg.rf.7e526923acfaf4de9004135cc5639b71.txt  \n",
      "  inflating: ./datasets/train/labels/08_21C_0620_jpg.rf.3b6589ba3e407e4f7731c39f3d2d79a8.txt  \n",
      "  inflating: ./datasets/train/labels/08_21C_0621_jpg.rf.55c7891213be6da3e9923eb09aa01b68.txt  \n",
      "  inflating: ./datasets/train/labels/08_21C_0622_jpg.rf.d8cc5ec131efd6a375b28a717993fb45.txt  \n",
      "  inflating: ./datasets/train/labels/08_21C_0623_jpg.rf.460d7abab12671813063bcd036679ec3.txt  \n",
      "  inflating: ./datasets/train/labels/08_21C_0631_jpg.rf.d96f1344fd7eac96ab314e7154ab6301.txt  \n",
      "  inflating: ./datasets/train/labels/08_21C_0632_jpg.rf.2c1d97fb0e661c3a44cf1fd1c426f9ed.txt  \n",
      "  inflating: ./datasets/train/labels/08_21C_0633_jpg.rf.79fb65e75f1293add7a8617d766c6ae7.txt  \n",
      "  inflating: ./datasets/train/labels/08_21C_0636_jpg.rf.3a19c66c4366684ebd3865e13a968bdc.txt  \n",
      "  inflating: ./datasets/train/labels/08_21C_0637_jpg.rf.5e9f25b3b787ba0d2b2fbe9299012e85.txt  \n",
      "  inflating: ./datasets/train/labels/08_21C_0638_jpg.rf.c70c8187a2c955d48d0b3604a8c96720.txt  \n",
      "  inflating: ./datasets/train/labels/08_21C_0639_jpg.rf.35cd0d3fb218552f5a5ff4d06b62e0b4.txt  \n",
      "  inflating: ./datasets/train/labels/08_21C_0640_jpg.rf.b5cbbdbb1ae3d6fad421e631f0b56cc1.txt  \n",
      "  inflating: ./datasets/train/labels/08_21C_0641_jpg.rf.5b016a17f66c68c213c7279126deb203.txt  \n",
      "  inflating: ./datasets/train/labels/08_21C_0642_jpg.rf.c3bb4241eba5f9cccc1e4240a7ef9d6f.txt  \n",
      "  inflating: ./datasets/train/labels/08_21C_0643_jpg.rf.1e94aaa57eac9c3a484d7d5be96bed97.txt  \n",
      "  inflating: ./datasets/train/labels/08_21C_0644_jpg.rf.9563fc047e957c52f0f8af575ab2a3cb.txt  \n",
      "  inflating: ./datasets/train/labels/08_21C_0647_jpg.rf.83cc09165ac26aa0618d5f747364c5f4.txt  \n",
      "  inflating: ./datasets/train/labels/08_21C_0648_jpg.rf.35f70c6ba93979ef90ca5065e930e890.txt  \n",
      "  inflating: ./datasets/train/labels/08_21C_0649_jpg.rf.8ce79cfff251a9a33a44dd8cf8bce188.txt  \n",
      "  inflating: ./datasets/train/labels/08_21C_0650_jpg.rf.323874d1766b0926c1d22ccce82b886d.txt  \n",
      "  inflating: ./datasets/train/labels/08_21C_0651_jpg.rf.2c6f0f1f022a1051449bb6125aed9b80.txt  \n",
      "  inflating: ./datasets/train/labels/08_21C_0652_jpg.rf.9bc1e703d49b8b2523a5045669dccc63.txt  \n",
      "  inflating: ./datasets/train/labels/08_21C_0654_jpg.rf.6e157b45b3f3129a77aeb53b305d9c62.txt  \n",
      "  inflating: ./datasets/train/labels/08_21C_0656_jpg.rf.14234f0ddceba1735331ab6720d55993.txt  \n",
      "  inflating: ./datasets/train/labels/08_21C_0657_jpg.rf.1f83c0c169d2b905f090cb7a6d0996e5.txt  \n",
      "  inflating: ./datasets/train/labels/08_21C_0659_jpg.rf.8ab5d4183d24bd2d7f7e2bbc430082b9.txt  \n",
      "  inflating: ./datasets/train/labels/08_21C_0660_jpg.rf.ad3aada83f2c292773584796521d7bad.txt  \n",
      "  inflating: ./datasets/train/labels/08_21C_0661_jpg.rf.79337c4a4c9a9e4afc410f3015d95923.txt  \n",
      "  inflating: ./datasets/train/labels/08_21C_0662_jpg.rf.1a97ddf304f2a1513885760fa75a9948.txt  \n",
      "  inflating: ./datasets/train/labels/08_21C_0663_jpg.rf.2a25cec39286b0cd2df32ff82e28f9c2.txt  \n",
      "  inflating: ./datasets/train/labels/08_21C_0664_jpg.rf.b44e1ef1031dd9fd997e57fe6dc6f49a.txt  \n",
      "  inflating: ./datasets/train/labels/08_21C_0666_jpg.rf.41da338915467c2f06b7b511ebc7438d.txt  \n",
      "  inflating: ./datasets/train/labels/08_21C_0669_jpg.rf.de46dbc99dff8f4425861c5cbb2083e0.txt  \n",
      "  inflating: ./datasets/train/labels/08_21C_0670_jpg.rf.b8511b7344c9d9cd14d0c7d0fa45ca44.txt  \n",
      "  inflating: ./datasets/train/labels/08_21C_0671_jpg.rf.58a822be579b35661ef27095d2b4cbb3.txt  \n",
      "  inflating: ./datasets/train/labels/08_21C_0672_jpg.rf.cb51b90a1bb303df4b2fe27b026a5873.txt  \n",
      "  inflating: ./datasets/train/labels/08_21C_0681_jpg.rf.af013ad258bb1f8dcaab9a0b63afd01d.txt  \n",
      "  inflating: ./datasets/train/labels/08_21C_0683_jpg.rf.54e797d3d7311ff712ed1f018ba5509e.txt  \n",
      "  inflating: ./datasets/train/labels/08_21C_0685_jpg.rf.178614bfe581121b3b2e723d745037b9.txt  \n",
      "  inflating: ./datasets/train/labels/08_21C_0686_jpg.rf.e7aee6b6de35648467869ecc0ba9a946.txt  \n",
      "  inflating: ./datasets/train/labels/08_21C_0687_jpg.rf.593ef14cc20046c77ae912a1e997bf68.txt  \n",
      "  inflating: ./datasets/train/labels/08_21C_0688_jpg.rf.23e5ffe6ce9a545c5d6333f44eb8e66d.txt  \n",
      "  inflating: ./datasets/train/labels/08_21C_0689_jpg.rf.163eee53c97dd935db965e2711c356a8.txt  \n",
      "  inflating: ./datasets/train/labels/08_21C_0690_jpg.rf.50271d1c07998de31ffacb92557992be.txt  \n",
      "  inflating: ./datasets/train/labels/08_21C_0693_jpg.rf.fac9b3741a049d43dee3dade6526af49.txt  \n",
      "  inflating: ./datasets/train/labels/08_21C_0695_jpg.rf.940d13e73a838cc540621175cd4f1797.txt  \n",
      "  inflating: ./datasets/train/labels/08_21C_0696_jpg.rf.a271fbb894fac57fc2b6705e599d2f4b.txt  \n",
      "  inflating: ./datasets/train/labels/08_21C_0697_jpg.rf.eeb971c993ba6ac8cef2501fe61b4c40.txt  \n",
      "  inflating: ./datasets/train/labels/08_21C_0698_jpg.rf.87808172476f827bc4b9024bdba869cb.txt  \n",
      "  inflating: ./datasets/train/labels/08_21C_0699_jpg.rf.7d2a8675bafac8fda55e1d3db7978bbd.txt  \n",
      "  inflating: ./datasets/train/labels/08_21C_0700_jpg.rf.6223050b746991b50602a9300669230e.txt  \n",
      "  inflating: ./datasets/train/labels/08_21C_0701_jpg.rf.eca5f3d45650c0c160ab0698c671b196.txt  \n",
      "  inflating: ./datasets/train/labels/08_21C_0702_jpg.rf.2f42af6ebd1179305d4870b2b79d1a8c.txt  \n",
      "  inflating: ./datasets/train/labels/08_21C_0703_jpg.rf.87b0ddb8ed801ddbe90e7f9a7cfb4573.txt  \n",
      "  inflating: ./datasets/train/labels/08_21C_0704_jpg.rf.34e3b0c7faaedc39f42bdebf4ca81c08.txt  \n",
      "  inflating: ./datasets/train/labels/08_21C_0705_jpg.rf.c6814c8a352d205a6a29e0b9f125ddb6.txt  \n",
      "  inflating: ./datasets/train/labels/08_21C_0706_jpg.rf.27fb46ed33318e8a03696d4d30616df6.txt  \n",
      "  inflating: ./datasets/train/labels/08_21C_0712_jpg.rf.daa1c2227f332d57e39452d2e85484b2.txt  \n",
      "  inflating: ./datasets/train/labels/08_21C_0713_jpg.rf.8c4a528738b60cb056356b3a2e318f96.txt  \n",
      "  inflating: ./datasets/train/labels/08_21C_0714_jpg.rf.debf16cf37e95827fc4ff9710f25e4b4.txt  \n",
      "  inflating: ./datasets/train/labels/08_21C_0715_jpg.rf.640855078ef806dd54fc17169c25499f.txt  \n",
      "  inflating: ./datasets/train/labels/08_21C_0716_jpg.rf.799616d6b61a92d49baa0b6e372c1a8d.txt  \n",
      "  inflating: ./datasets/train/labels/08_21C_0718_jpg.rf.5b68510c0631018139854a35504616f8.txt  \n",
      "  inflating: ./datasets/train/labels/08_21C_0719_jpg.rf.130ac87617e2cbb70f6855395d4d93bd.txt  \n",
      "  inflating: ./datasets/train/labels/08_21C_0723_jpg.rf.2089f139eec38c9646c8f4f1c7dad754.txt  \n",
      "  inflating: ./datasets/train/labels/08_21C_0724_jpg.rf.b417f6841d376fe9abaaea5aeea6fddb.txt  \n",
      "  inflating: ./datasets/train/labels/08_21C_0727_jpg.rf.b919463ffbc4d1d85ec7cc722fe4e5c1.txt  \n",
      "  inflating: ./datasets/train/labels/08_21C_0728_jpg.rf.e9727e9e47f292de269333813a577d81.txt  \n",
      "  inflating: ./datasets/train/labels/08_21C_0729_jpg.rf.98982128112aa6f73aa92a3fd5136d30.txt  \n",
      "  inflating: ./datasets/train/labels/08_21C_0731_jpg.rf.8a110a7baadba3a7f59cab5fbd1900bc.txt  \n",
      "  inflating: ./datasets/train/labels/08_21C_0732_jpg.rf.09e83bb645ceb64d9fdcedc88fe973a8.txt  \n",
      "  inflating: ./datasets/train/labels/08_21C_0736_jpg.rf.a173f6cf87ad97af7959c174a09e5883.txt  \n",
      "  inflating: ./datasets/train/labels/08_21C_0740_jpg.rf.67519188b8aa5e98536d22fd3f39a3ec.txt  \n",
      "  inflating: ./datasets/train/labels/08_21C_0741_jpg.rf.4fc09b57d0ed0d3118d44df02de8cf6e.txt  \n",
      "  inflating: ./datasets/train/labels/08_21C_0742_jpg.rf.5a69986a63f49edd2acf3d4eb8243644.txt  \n",
      "  inflating: ./datasets/train/labels/08_21C_0745_jpg.rf.8e1f37852b44d3c0539c396da689ecc9.txt  \n",
      "  inflating: ./datasets/train/labels/08_21C_0750_jpg.rf.c7d53017d05ec73fe56573e5a40b8bc2.txt  \n",
      "  inflating: ./datasets/train/labels/08_21C_0752_jpg.rf.a70ba76d6892f51ff47d02f9076a7c4b.txt  \n",
      "  inflating: ./datasets/train/labels/08_21C_0753_jpg.rf.4bf29c0b50a95263621338d160c6bc89.txt  \n",
      "  inflating: ./datasets/train/labels/08_21C_0754_jpg.rf.ebbd5137ecdefbff38f53b4fda36df1a.txt  \n",
      "  inflating: ./datasets/train/labels/08_21C_0755_jpg.rf.42ee8902cf82b3b104de6cd7c9b37eb5.txt  \n",
      "  inflating: ./datasets/train/labels/08_21C_0756_jpg.rf.4cb354ef3005c7e9cc5a719020b89d52.txt  \n",
      "  inflating: ./datasets/train/labels/08_21C_0759_jpg.rf.5718714026c349174bc57a3e4d71d567.txt  \n",
      "  inflating: ./datasets/train/labels/08_21C_0760_jpg.rf.5f7504e59a79d4e54098460b3c32ed83.txt  \n",
      "  inflating: ./datasets/train/labels/08_21C_0761_jpg.rf.bc4222780d0f957164a7441a10d9077c.txt  \n",
      "  inflating: ./datasets/train/labels/08_21C_0763_jpg.rf.f794d55acfa822d394c9054876ba5ca6.txt  \n",
      "  inflating: ./datasets/train/labels/08_21C_0764_jpg.rf.33048577ff1b976ce1d70cf5783b60a3.txt  \n",
      "  inflating: ./datasets/train/labels/08_21C_0765_jpg.rf.c72aadb5dbf5739c3ca7ca3024570427.txt  \n",
      "  inflating: ./datasets/train/labels/08_21C_0766_jpg.rf.6acfd33a280071d89a28ea6e9ffb6587.txt  \n",
      "  inflating: ./datasets/train/labels/08_21C_0767_jpg.rf.144c190e8ffd43aac237b08b6835510e.txt  \n",
      "  inflating: ./datasets/train/labels/08_21C_0768_jpg.rf.691c6f45914eeb03f041ce3c776f8eea.txt  \n",
      "  inflating: ./datasets/train/labels/08_21C_0770_jpg.rf.5a46c55fd4a78926811c020fb159822c.txt  \n",
      "  inflating: ./datasets/train/labels/08_21C_0771_jpg.rf.5491619a71535582f1820706585faf91.txt  \n",
      "  inflating: ./datasets/train/labels/08_21C_0772_jpg.rf.15db5c153f2af7d1ba23da18043f768b.txt  \n",
      "  inflating: ./datasets/train/labels/08_21C_0774_jpg.rf.14464e597c541da5cc0ee10bb0163964.txt  \n",
      "  inflating: ./datasets/train/labels/08_21C_0775_jpg.rf.244b451011bd0f7932df849bee3a8a53.txt  \n",
      "  inflating: ./datasets/train/labels/08_21C_0779_jpg.rf.f8b95f2c13b2bb4878c8bb473360524c.txt  \n",
      "  inflating: ./datasets/train/labels/08_21C_0781_jpg.rf.fd3d579f85bd7e60b2ad567b46a6ecd6.txt  \n",
      "  inflating: ./datasets/train/labels/08_21C_0783_jpg.rf.59cae585dbd3485ee6da002edbf0b514.txt  \n",
      "  inflating: ./datasets/train/labels/08_21C_0784_jpg.rf.9de4e742d7b042493151637ac823d287.txt  \n",
      "  inflating: ./datasets/train/labels/08_21C_0785_jpg.rf.7086dfd7cb39b1a884a8e8c30363cc25.txt  \n",
      "  inflating: ./datasets/train/labels/08_21C_0786_jpg.rf.bb3601cc6e6a57b933c930cf26f8ba76.txt  \n",
      "  inflating: ./datasets/train/labels/08_21C_0789_jpg.rf.aa0eced35b1e535742a8508a6c5559ed.txt  \n",
      "  inflating: ./datasets/train/labels/08_21C_0791_jpg.rf.55c415eb4a3be6cfadf5262797ee15a6.txt  \n",
      "  inflating: ./datasets/train/labels/08_21C_0792_jpg.rf.f142a9b30c9321429f61a4f44383f3c2.txt  \n",
      "  inflating: ./datasets/train/labels/08_21C_0794_jpg.rf.1634b035a612e3008e674a777545e064.txt  \n",
      "  inflating: ./datasets/train/labels/08_21C_0796_jpg.rf.bc596514665d76cd248f97dcf727d793.txt  \n",
      "  inflating: ./datasets/train/labels/08_21C_0797_jpg.rf.5904b870b0f78a0321bb7a62f2afe792.txt  \n",
      "  inflating: ./datasets/train/labels/08_21C_0799_jpg.rf.e25eec740d9fd8defa0e26a0ee0ebc8e.txt  \n",
      "  inflating: ./datasets/train/labels/08_21C_0800_jpg.rf.0bb64ff5908f8fe364aa382887ac7e3c.txt  \n",
      "  inflating: ./datasets/train/labels/08_21C_0801_jpg.rf.f4b6cbdd1a83cc7c856e2001244fceb7.txt  \n",
      "  inflating: ./datasets/train/labels/08_21C_0803_jpg.rf.882b4ce6582a068f736070198b3a7f40.txt  \n",
      "  inflating: ./datasets/train/labels/08_21C_0804_jpg.rf.1e9763ed17aee0517d7c5b180aaa720e.txt  \n",
      "  inflating: ./datasets/train/labels/08_21C_0805_jpg.rf.c785184e819ee19a8c97ebda733b0023.txt  \n",
      "  inflating: ./datasets/train/labels/08_21C_0810_jpg.rf.b11f7b6145ced916d23b76ad1708642b.txt  \n",
      "  inflating: ./datasets/train/labels/08_21C_0816_jpg.rf.933759ca4a691a73e1146d833e5afdf0.txt  \n",
      "  inflating: ./datasets/train/labels/08_21C_0819_jpg.rf.bec4ae95d35e1460f28b5cfecce7cd09.txt  \n",
      "  inflating: ./datasets/train/labels/08_21C_0822_jpg.rf.2c7f7206f4acae19403a6f4dcff76638.txt  \n",
      "  inflating: ./datasets/train/labels/08_21C_0823_jpg.rf.fe9d9b6b19cf3fe419b285f40758d514.txt  \n",
      "  inflating: ./datasets/train/labels/08_21C_0824_jpg.rf.5ac6662d7252df4628503d70ddd3157b.txt  \n",
      "  inflating: ./datasets/train/labels/08_21C_0826_jpg.rf.06d4cdde1f08091a31bc4f053c0e98cb.txt  \n",
      "  inflating: ./datasets/train/labels/08_21C_0827_jpg.rf.fd6fccbe251b7e2dc6d736f6083cab7b.txt  \n",
      "  inflating: ./datasets/train/labels/08_21C_0828_jpg.rf.91cfefdfa2721f0af0b4266d3e5e6d89.txt  \n",
      "  inflating: ./datasets/train/labels/08_21C_0829_jpg.rf.1a04fdeaea58deb1af0e1192f715ba54.txt  \n",
      "  inflating: ./datasets/train/labels/08_21C_0830_jpg.rf.05618dc51aca9bcdde07ec3aa661bd87.txt  \n",
      "  inflating: ./datasets/train/labels/08_21C_0831_jpg.rf.7a0e671573eb86cf2eb8a9fa3ea32bf1.txt  \n",
      "  inflating: ./datasets/train/labels/08_21C_0832_jpg.rf.300dbc54f351475a1e6420d7d12387a3.txt  \n",
      "  inflating: ./datasets/train/labels/08_21C_0833_jpg.rf.a51f3a99efd707513a28a1bb59e4ff71.txt  \n",
      "  inflating: ./datasets/train/labels/08_21C_0835_jpg.rf.ad11f1a997d6cf5e81ff7b3f3460c23d.txt  \n",
      "  inflating: ./datasets/train/labels/08_21C_0836_jpg.rf.018ea5fc5b8ad72774daf8ec77459522.txt  \n",
      "  inflating: ./datasets/train/labels/08_21C_0837_jpg.rf.e470cb34a38148bd18c11fd3b19689f2.txt  \n",
      "  inflating: ./datasets/train/labels/08_21C_0838_jpg.rf.00d8c0888972e1e8fbe6fe3a79b75587.txt  \n",
      "  inflating: ./datasets/train/labels/08_21C_0839_jpg.rf.5d43e7a26df1caa7ef72552e58a0119d.txt  \n",
      "  inflating: ./datasets/train/labels/08_21C_0840_jpg.rf.ad64806c546f8a869d611ea0c70568b8.txt  \n",
      "  inflating: ./datasets/train/labels/08_21C_0841_jpg.rf.473d14fb3a6ddec22a816a8b75b4b8d8.txt  \n",
      "  inflating: ./datasets/train/labels/08_21C_0842_jpg.rf.f0d32e7d1d07f7f17c38670f5e997a1b.txt  \n",
      "  inflating: ./datasets/train/labels/08_21C_0847_jpg.rf.928d80172f82a60634e5433d5a140b34.txt  \n",
      "  inflating: ./datasets/train/labels/08_21C_0848_jpg.rf.d4561742c4f4e98355a3304e79bf7e6e.txt  \n",
      "  inflating: ./datasets/train/labels/08_21C_0849_jpg.rf.f07e39bf27c956c8557d3283fe8d8723.txt  \n",
      "  inflating: ./datasets/train/labels/08_21C_0850_jpg.rf.a0c3d3f2a28207ebcd9bdf803168b1e7.txt  \n",
      "  inflating: ./datasets/train/labels/08_21C_0851_jpg.rf.1232f679f8d82999a1fc47286cbd1645.txt  \n",
      "  inflating: ./datasets/train/labels/08_21C_0852_jpg.rf.09c7379199e5940f885a48ce870b768e.txt  \n",
      "  inflating: ./datasets/train/labels/08_21C_0853_jpg.rf.7ef0d9a83b4b19549194ab933f7395d1.txt  \n",
      "  inflating: ./datasets/train/labels/08_21C_0854_jpg.rf.42de9e2e7d6bf2e49774907447836183.txt  \n",
      "  inflating: ./datasets/train/labels/08_21C_0855_jpg.rf.41fe2f817a9b695c6fd2660fccc70c1a.txt  \n",
      "  inflating: ./datasets/train/labels/08_21C_0856_jpg.rf.bf40cc14373b2d87f4c0b6fc80a95b70.txt  \n",
      "  inflating: ./datasets/train/labels/08_21C_0857_jpg.rf.7ef4a0b7ad9a77b20c9e9b2c82593da2.txt  \n",
      "  inflating: ./datasets/train/labels/08_21C_0858_jpg.rf.f40021be7b38d4645b77d9e8d299d667.txt  \n",
      "  inflating: ./datasets/train/labels/08_21C_0860_jpg.rf.b412de73c5e4fbef8f88365c28b63613.txt  \n",
      "  inflating: ./datasets/train/labels/08_21C_0862_jpg.rf.1f5227c0cd0ef3bb978a2c70e0d7d337.txt  \n",
      "  inflating: ./datasets/train/labels/08_21C_0864_jpg.rf.fe5f6f6f98b29954f74e0a66c2e50f72.txt  \n",
      "  inflating: ./datasets/train/labels/08_21C_0865_jpg.rf.6b3180372d76f519e603ca0cd0c13a16.txt  \n",
      "  inflating: ./datasets/train/labels/08_21C_0867_jpg.rf.a0913e856eeec36b262143d569bf7121.txt  \n",
      "  inflating: ./datasets/train/labels/08_21C_0868_jpg.rf.dc42991b1c7bc51bd3c5eb6191cebdba.txt  \n",
      "  inflating: ./datasets/train/labels/08_21C_0869_jpg.rf.58134622583a4dccd47f5d6a1d876de2.txt  \n",
      "  inflating: ./datasets/train/labels/08_21C_0870_jpg.rf.310b26f5c7d0316fc0442205ade115c3.txt  \n",
      "  inflating: ./datasets/train/labels/08_21C_0871_jpg.rf.8e699bc22ea786478497978438beb983.txt  \n",
      "   creating: ./datasets/valid/\n",
      "   creating: ./datasets/valid/images/\n",
      " extracting: ./datasets/valid/images/08_21A_0001_jpg.rf.a7ba37d80d3eff237d8619d85c260de2.jpg  \n",
      " extracting: ./datasets/valid/images/08_21A_0030_jpg.rf.2a83e4ebbf0c31af3bb91fea20f5da04.jpg  \n",
      " extracting: ./datasets/valid/images/08_21A_0040_jpg.rf.961bc6683e259da7e2a7e67f876c4f0c.jpg  \n",
      " extracting: ./datasets/valid/images/08_21A_0052_jpg.rf.3b17b81bcb764e31c73ec64dcb1b804d.jpg  \n",
      " extracting: ./datasets/valid/images/08_21A_0059_jpg.rf.72a7a14a919d151f78656c7bab6e259b.jpg  \n",
      " extracting: ./datasets/valid/images/08_21A_0065_jpg.rf.b5649e1ca6c97146737bae2fcaf5e446.jpg  \n",
      " extracting: ./datasets/valid/images/08_21A_0069_jpg.rf.0182d2320c0bf9b8dd90c2ae6d67089f.jpg  \n",
      " extracting: ./datasets/valid/images/08_21A_0084_jpg.rf.dce0ec3426b4b41e0a2693199a1fce12.jpg  \n",
      " extracting: ./datasets/valid/images/08_21A_0091_jpg.rf.4cc08366e16f96fe3482f826722a2684.jpg  \n",
      " extracting: ./datasets/valid/images/08_21A_0097_jpg.rf.c8b8a32f1ff1d6997ad47eab9d4f0c1c.jpg  \n",
      " extracting: ./datasets/valid/images/08_21C_0000_jpg.rf.bff40c6b17013d953208e6adb4654e31.jpg  \n",
      " extracting: ./datasets/valid/images/08_21C_0000_jpg.rf.ff284c9cdaf85f2bd308bec238da10be.jpg  \n",
      " extracting: ./datasets/valid/images/08_21C_0001_jpg.rf.2d292e1c35718b0c0069d0e24175983e.jpg  \n",
      " extracting: ./datasets/valid/images/08_21C_0001_jpg.rf.c273ab9b0ce50ce7e2ae4c0b5b1bf2de.jpg  \n",
      " extracting: ./datasets/valid/images/08_21C_0009_jpg.rf.7f2f416d7603c6f2ce8c3309472fc577.jpg  \n",
      " extracting: ./datasets/valid/images/08_21C_0011_jpg.rf.f2b440a8af063087eadb9947cd4fe44e.jpg  \n",
      " extracting: ./datasets/valid/images/08_21C_0016_jpg.rf.c4c64cd884119502be212c41aa2b5df9.jpg  \n",
      " extracting: ./datasets/valid/images/08_21C_0025_jpg.rf.6bd7f104ed54ccf2081de7a50f6ad2c4.jpg  \n",
      " extracting: ./datasets/valid/images/08_21C_0034_jpg.rf.4ed667b15701c7f01d361b60b30f51c3.jpg  \n",
      " extracting: ./datasets/valid/images/08_21C_0035_jpg.rf.87dd30c57749e0d75d5f4cce58b05905.jpg  \n",
      " extracting: ./datasets/valid/images/08_21C_0037_jpg.rf.f49a5064b51c41868eefe9755518f25a.jpg  \n",
      " extracting: ./datasets/valid/images/08_21C_0038_jpg.rf.261c387614a3b1c8940354e29a19cb3d.jpg  \n",
      " extracting: ./datasets/valid/images/08_21C_0048_jpg.rf.5f0f78e3c31487674b445797716c6b4c.jpg  \n",
      " extracting: ./datasets/valid/images/08_21C_0049_jpg.rf.1fae137c01f285a7ae2c4e3557760496.jpg  \n",
      " extracting: ./datasets/valid/images/08_21C_0050_jpg.rf.6403ef38768889c37a1c261b22edb092.jpg  \n",
      " extracting: ./datasets/valid/images/08_21C_0052_jpg.rf.9012fc4b4c6fa4ea98782774991a38b8.jpg  \n",
      " extracting: ./datasets/valid/images/08_21C_0053_jpg.rf.5b9e48263821f7ed01bacbb1b9fce600.jpg  \n",
      " extracting: ./datasets/valid/images/08_21C_0053_jpg.rf.9d33e5a637eeb78ef545e1d7e818493f.jpg  \n",
      " extracting: ./datasets/valid/images/08_21C_0054_jpg.rf.8367e70a29e16f19ea4aabbe4e8c589c.jpg  \n",
      " extracting: ./datasets/valid/images/08_21C_0056_jpg.rf.f74417dc34c379a9a1dacc0f0fc886d8.jpg  \n",
      " extracting: ./datasets/valid/images/08_21C_0070_jpg.rf.dae35ee4983b3c8f6f4f066a9a79d7dd.jpg  \n",
      " extracting: ./datasets/valid/images/08_21C_0071_jpg.rf.290ad7901a63c0631c3ab2204665ea0b.jpg  \n",
      " extracting: ./datasets/valid/images/08_21C_0071_jpg.rf.57221080c744aed70b38719c8c5f3c1b.jpg  \n",
      " extracting: ./datasets/valid/images/08_21C_0079_jpg.rf.1bd2d43f990ad8b000a9aafce9f3dd9e.jpg  \n",
      " extracting: ./datasets/valid/images/08_21C_0079_jpg.rf.a38742c4d7692efcea700ba14688be89.jpg  \n",
      " extracting: ./datasets/valid/images/08_21C_0086_jpg.rf.4969579d55fccbc8f2fa26bd8f72441c.jpg  \n",
      " extracting: ./datasets/valid/images/08_21C_0090_jpg.rf.a14023bf3a4a33ca13482c05592bfa36.jpg  \n",
      " extracting: ./datasets/valid/images/08_21C_0097_jpg.rf.3c89d6a67bcdccb946f3911ee063110a.jpg  \n",
      " extracting: ./datasets/valid/images/08_21C_0098_jpg.rf.438ff65f5a3fb4baad45a62a06316309.jpg  \n",
      " extracting: ./datasets/valid/images/08_21C_0101_jpg.rf.c728ceaba43f0b2d91f8ce836b3e95c7.jpg  \n",
      " extracting: ./datasets/valid/images/08_21C_0105_jpg.rf.1be0a7f82508dea30c5d0233fe77ad2a.jpg  \n",
      " extracting: ./datasets/valid/images/08_21C_0105_jpg.rf.9e200069ae1d17fe2e633db903a24396.jpg  \n",
      " extracting: ./datasets/valid/images/08_21C_0106_jpg.rf.0366b95d86ca2efd12b9d44db888f614.jpg  \n",
      " extracting: ./datasets/valid/images/08_21C_0108_jpg.rf.63bcf108c37f66a2134d85209831741e.jpg  \n",
      " extracting: ./datasets/valid/images/08_21C_0109_jpg.rf.9955b8bed93b46b78a0a661c58e6ee75.jpg  \n",
      " extracting: ./datasets/valid/images/08_21C_0111_jpg.rf.7c56ef435f6a6169cffe868323d71314.jpg  \n",
      " extracting: ./datasets/valid/images/08_21C_0119_jpg.rf.9e234d15b9cd5ef4de32839064c14650.jpg  \n",
      " extracting: ./datasets/valid/images/08_21C_0131_jpg.rf.72b6122b2b5957e1e46d4b9c0708569e.jpg  \n",
      " extracting: ./datasets/valid/images/08_21C_0133_jpg.rf.57a1b33ccf658e38d60bf65eb4718827.jpg  \n",
      " extracting: ./datasets/valid/images/08_21C_0134_jpg.rf.6396936569c6e62cdf6502cd7d67d9ae.jpg  \n",
      " extracting: ./datasets/valid/images/08_21C_0134_jpg.rf.dca57db8aa040a17c8804856efdec30d.jpg  \n",
      " extracting: ./datasets/valid/images/08_21C_0135_jpg.rf.e0b2be11e91ad9c1c17b13532725ecf1.jpg  \n",
      " extracting: ./datasets/valid/images/08_21C_0136_jpg.rf.f9c9e8421124ecb8928c9ea60e6cf040.jpg  \n",
      " extracting: ./datasets/valid/images/08_21C_0137_jpg.rf.30c12e159e5f578cd2f9a526c2df74eb.jpg  \n",
      " extracting: ./datasets/valid/images/08_21C_0137_jpg.rf.e11b483c96d4761b142c3be3260ed385.jpg  \n",
      " extracting: ./datasets/valid/images/08_21C_0139_jpg.rf.ed331611d0134ac34d2303c20d53f5b1.jpg  \n",
      " extracting: ./datasets/valid/images/08_21C_0143_jpg.rf.e8b9d15ded6beb304baf0ad4de0c6344.jpg  \n",
      " extracting: ./datasets/valid/images/08_21C_0145_jpg.rf.028363ffaf2f7ede0198852a60ab06ea.jpg  \n",
      " extracting: ./datasets/valid/images/08_21C_0145_jpg.rf.12d0a5eed3d68be26878a17edbd06a71.jpg  \n",
      " extracting: ./datasets/valid/images/08_21C_0150_jpg.rf.38bbcd953e2db2ca21da2a0238c22d74.jpg  \n",
      " extracting: ./datasets/valid/images/08_21C_0150_jpg.rf.4c19eb22b8e659d6173a7798ae2710fd.jpg  \n",
      " extracting: ./datasets/valid/images/08_21C_0151_jpg.rf.f0dc31c4eed3b21ba086bd7a19cc43bf.jpg  \n",
      " extracting: ./datasets/valid/images/08_21C_0151_jpg.rf.fb492f348d83bb48c455ebfde7b331e7.jpg  \n",
      " extracting: ./datasets/valid/images/08_21C_0152_jpg.rf.028e70adf2922e76c392371f28f2174f.jpg  \n",
      " extracting: ./datasets/valid/images/08_21C_0152_jpg.rf.b2e24720a7f350201792ae15d6ad15e5.jpg  \n",
      " extracting: ./datasets/valid/images/08_21C_0153_jpg.rf.53ea90fa2778fc23a48c55db42599e2d.jpg  \n",
      " extracting: ./datasets/valid/images/08_21C_0154_jpg.rf.224c9f98916303b029a1047489f5d531.jpg  \n",
      " extracting: ./datasets/valid/images/08_21C_0154_jpg.rf.6e11e6f10d44c68589cb65c420f4f699.jpg  \n",
      " extracting: ./datasets/valid/images/08_21C_0155_jpg.rf.61f4088a68637fedf790c9b801dc759f.jpg  \n",
      " extracting: ./datasets/valid/images/08_21C_0156_jpg.rf.173775b199f5923b06ba149704f8a15d.jpg  \n",
      " extracting: ./datasets/valid/images/08_21C_0157_jpg.rf.4ece58df82156038e2e6af2583868ac7.jpg  \n",
      " extracting: ./datasets/valid/images/08_21C_0160_jpg.rf.1b86db997183aca1fbaa0eb931dc6ac7.jpg  \n",
      " extracting: ./datasets/valid/images/08_21C_0162_jpg.rf.fc6b98723652b1d719e6a08346086cd4.jpg  \n",
      " extracting: ./datasets/valid/images/08_21C_0163_jpg.rf.62db5d50b52e03cfb11faafa9b3b0889.jpg  \n",
      " extracting: ./datasets/valid/images/08_21C_0165_jpg.rf.1eb99040d3670685533e1ab98a0551c0.jpg  \n",
      " extracting: ./datasets/valid/images/08_21C_0165_jpg.rf.70e4e61a714bf9f268543b670efceb55.jpg  \n",
      " extracting: ./datasets/valid/images/08_21C_0167_jpg.rf.e0883af657edee0890993c0796e37658.jpg  \n",
      " extracting: ./datasets/valid/images/08_21C_0168_jpg.rf.09d78136f9a37982caeabb63a3c1e3f6.jpg  \n",
      " extracting: ./datasets/valid/images/08_21C_0168_jpg.rf.fb4591c1a82aa02bed57c2cbe041e879.jpg  \n",
      " extracting: ./datasets/valid/images/08_21C_0169_jpg.rf.25d6514f4ddff8ee861c915254e559e6.jpg  \n",
      " extracting: ./datasets/valid/images/08_21C_0173_jpg.rf.74e233339b39d77c4e9ca9b7d348859a.jpg  \n",
      " extracting: ./datasets/valid/images/08_21C_0174_jpg.rf.7b1974d3b1ad3daeaab19968ab3b9ed3.jpg  \n",
      " extracting: ./datasets/valid/images/08_21C_0175_jpg.rf.19e5acc14e4db321dde04015b76d4bbd.jpg  \n",
      " extracting: ./datasets/valid/images/08_21C_0181_jpg.rf.7db4c8e70582d174647608301e1f618f.jpg  \n",
      " extracting: ./datasets/valid/images/08_21C_0197_jpg.rf.cca82bb8104dda5abf9f6c322539efc0.jpg  \n",
      " extracting: ./datasets/valid/images/08_21C_0198_jpg.rf.ffb1eebdd7a25ca817db8523097426cb.jpg  \n",
      " extracting: ./datasets/valid/images/08_21C_0201_jpg.rf.ffbd0aa6ab02effd2d4863bbfc189ed9.jpg  \n",
      " extracting: ./datasets/valid/images/08_21C_0202_jpg.rf.e329ede798b537eaae130b2f9b07f85e.jpg  \n",
      " extracting: ./datasets/valid/images/08_21C_0205_jpg.rf.aa971b8aad2629cb8e518564514d5876.jpg  \n",
      " extracting: ./datasets/valid/images/08_21C_0207_jpg.rf.27387715b5d25e6865ea640bf4cce109.jpg  \n",
      " extracting: ./datasets/valid/images/08_21C_0209_jpg.rf.17889bfc9c65b3675cbaccc292205abe.jpg  \n",
      " extracting: ./datasets/valid/images/08_21C_0209_jpg.rf.976f98d730c9f16fbf05b224375dfb94.jpg  \n",
      " extracting: ./datasets/valid/images/08_21C_0211_jpg.rf.670f7402e1594c6a2ede2666cd146611.jpg  \n",
      " extracting: ./datasets/valid/images/08_21C_0213_jpg.rf.5fd6eabd6bf16f18ae9c594fc1e2d4dc.jpg  \n",
      " extracting: ./datasets/valid/images/08_21C_0215_jpg.rf.242a64798e8dc9efbef885ce84845441.jpg  \n",
      " extracting: ./datasets/valid/images/08_21C_0218_jpg.rf.42c94a21774f5fde8340e1cf5a6fd549.jpg  \n",
      " extracting: ./datasets/valid/images/08_21C_0219_jpg.rf.f2ca478d885df2790673fe6f4a42b84e.jpg  \n",
      " extracting: ./datasets/valid/images/08_21C_0221_jpg.rf.7d8b2ef34a98805b9af6065b6efc7f79.jpg  \n",
      " extracting: ./datasets/valid/images/08_21C_0224_jpg.rf.f6b3eabd386e1f2a33c1a62fe28eeb9c.jpg  \n",
      " extracting: ./datasets/valid/images/08_21C_0225_jpg.rf.73b2920c6e863ef78b87814e06b4c240.jpg  \n",
      " extracting: ./datasets/valid/images/08_21C_0226_jpg.rf.7c6ade343b54b410a72a29ff5f0f577d.jpg  \n",
      " extracting: ./datasets/valid/images/08_21C_0227_jpg.rf.e40310b1de63ee874b2b80fded2c13c5.jpg  \n",
      " extracting: ./datasets/valid/images/08_21C_0230_jpg.rf.6479aaf4c6c20b1a34ec871c4fbea5ae.jpg  \n",
      " extracting: ./datasets/valid/images/08_21C_0232_jpg.rf.134e220239e5ec8f72a10c4f891b90d4.jpg  \n",
      " extracting: ./datasets/valid/images/08_21C_0232_jpg.rf.96bea84b3485398744d075740c264af8.jpg  \n",
      " extracting: ./datasets/valid/images/08_21C_0234_jpg.rf.9076725347adf65a10cad0a3bebb6598.jpg  \n",
      " extracting: ./datasets/valid/images/08_21C_0237_jpg.rf.26ad8d5a1c69eee43945adccd887cf64.jpg  \n",
      " extracting: ./datasets/valid/images/08_21C_0238_jpg.rf.4377e086c3d62b3bce24b440af99c5cd.jpg  \n",
      " extracting: ./datasets/valid/images/08_21C_0239_jpg.rf.8c8531ac751f1750fb805830c5c11c6e.jpg  \n",
      " extracting: ./datasets/valid/images/08_21C_0239_jpg.rf.9144644442027c307f1128e37e379e6c.jpg  \n",
      " extracting: ./datasets/valid/images/08_21C_0242_jpg.rf.16cc691358695d7f4ddfcbb5ca81a7e3.jpg  \n",
      " extracting: ./datasets/valid/images/08_21C_0246_jpg.rf.283cd604ab07f397d06148dbd0e4fcd0.jpg  \n",
      " extracting: ./datasets/valid/images/08_21C_0247_jpg.rf.8956f8122c89f530110cad331c882d29.jpg  \n",
      " extracting: ./datasets/valid/images/08_21C_0249_jpg.rf.3095a258ad50fb128de5d97adcb46dcf.jpg  \n",
      " extracting: ./datasets/valid/images/08_21C_0250_jpg.rf.43efabf7ac7dffef82d3fcd8c1e84862.jpg  \n",
      " extracting: ./datasets/valid/images/08_21C_0250_jpg.rf.b164fca68a7a644a126019aa776912c1.jpg  \n",
      " extracting: ./datasets/valid/images/08_21C_0251_jpg.rf.166a7846f0991350c849334d73d81ba0.jpg  \n",
      " extracting: ./datasets/valid/images/08_21C_0256_jpg.rf.ce54253bcdcf3e9c0fe324aca1058c8f.jpg  \n",
      " extracting: ./datasets/valid/images/08_21C_0260_jpg.rf.acb7081b78a36d9f04640041f478edd9.jpg  \n",
      " extracting: ./datasets/valid/images/08_21C_0261_jpg.rf.bb12b879aa641b7a9141ac3147b959c1.jpg  \n",
      " extracting: ./datasets/valid/images/08_21C_0262_jpg.rf.d66dcb41316937108daa6ac60b9fca02.jpg  \n",
      " extracting: ./datasets/valid/images/08_21C_0266_jpg.rf.e73dfb9a82a71cd0eb7b080dbf7548de.jpg  \n",
      " extracting: ./datasets/valid/images/08_21C_0267_jpg.rf.a3ea4747e00aed3ca5bb26feaf0b3581.jpg  \n",
      " extracting: ./datasets/valid/images/08_21C_0268_jpg.rf.89111beec1300eb45a067ed008808c20.jpg  \n",
      " extracting: ./datasets/valid/images/08_21C_0268_jpg.rf.bcb61689820dcbb6fe10fa871fde36af.jpg  \n",
      " extracting: ./datasets/valid/images/08_21C_0269_jpg.rf.323f8ade939feadceca88eb230f6b9d6.jpg  \n",
      " extracting: ./datasets/valid/images/08_21C_0270_jpg.rf.42c8dec3cb6e95701254ab8dbac3e91f.jpg  \n",
      " extracting: ./datasets/valid/images/08_21C_0270_jpg.rf.fecdafffa8a2ad3346bd91d54bd6df2e.jpg  \n",
      " extracting: ./datasets/valid/images/08_21C_0275_jpg.rf.6d866e212357925325fc5ab51dc699f4.jpg  \n",
      " extracting: ./datasets/valid/images/08_21C_0276_jpg.rf.5462d1bf3698ea35d33ccebb28a8ad69.jpg  \n",
      " extracting: ./datasets/valid/images/08_21C_0280_jpg.rf.366b293001843c0a106d72a39a070c05.jpg  \n",
      " extracting: ./datasets/valid/images/08_21C_0280_jpg.rf.bcece99356e1c76693542c39f03fe34d.jpg  \n",
      " extracting: ./datasets/valid/images/08_21C_0281_jpg.rf.8fb49c9892de564d66266509729c1541.jpg  \n",
      " extracting: ./datasets/valid/images/08_21C_0281_jpg.rf.fae7a5a60a5366c93f2e2b39ab5c999d.jpg  \n",
      " extracting: ./datasets/valid/images/08_21C_0282_jpg.rf.a79cf42766617da3adf4b97c0651c3fb.jpg  \n",
      " extracting: ./datasets/valid/images/08_21C_0284_jpg.rf.dba4771482cc487bdeb7852b4d736c01.jpg  \n",
      " extracting: ./datasets/valid/images/08_21C_0285_jpg.rf.98ad2bfc6dd83f4f163a8d41b641698e.jpg  \n",
      " extracting: ./datasets/valid/images/08_21C_0285_jpg.rf.e2c7f957ab290ce25a6a3de2b29e7b98.jpg  \n",
      " extracting: ./datasets/valid/images/08_21C_0286_jpg.rf.70be07393b0f2cdfec40a538c48d8f0c.jpg  \n",
      " extracting: ./datasets/valid/images/08_21C_0287_jpg.rf.6064479e8b58c81123be6fff0b08ee96.jpg  \n",
      " extracting: ./datasets/valid/images/08_21C_0296_jpg.rf.07ef73afccf6c45bf836a631a683a2a1.jpg  \n",
      " extracting: ./datasets/valid/images/08_21C_0297_jpg.rf.70f414f7bfb40b5e1795c15486344fea.jpg  \n",
      " extracting: ./datasets/valid/images/08_21C_0298_jpg.rf.0a79cbfd8ce55fdbf99a8b4624813294.jpg  \n",
      " extracting: ./datasets/valid/images/08_21C_0300_jpg.rf.f5faa02313946cfca30bacb6e304082a.jpg  \n",
      " extracting: ./datasets/valid/images/08_21C_0302_jpg.rf.2ddde1d1e81ea26b455dc1f22b32156d.jpg  \n",
      " extracting: ./datasets/valid/images/08_21C_0303_jpg.rf.8366bdf683eeb2ffdb42ab4210ba422e.jpg  \n",
      " extracting: ./datasets/valid/images/08_21C_0305_jpg.rf.6a065ce3187ecea42a5ba39fa0eee103.jpg  \n",
      " extracting: ./datasets/valid/images/08_21C_0306_jpg.rf.712810f6c97c77417e0ecf1c8acb4a7a.jpg  \n",
      " extracting: ./datasets/valid/images/08_21C_0308_jpg.rf.8518fd4f66e870bec47e8f5489a8d561.jpg  \n",
      " extracting: ./datasets/valid/images/08_21C_0308_jpg.rf.a6ae991f5b7f1ba51d3580c1b5b0c846.jpg  \n",
      " extracting: ./datasets/valid/images/08_21C_0309_jpg.rf.bc47203048cd061b9ab6f0001177edc9.jpg  \n",
      " extracting: ./datasets/valid/images/08_21C_0311_jpg.rf.6e06da956024ea7f14e7a9eb58eff4fd.jpg  \n",
      " extracting: ./datasets/valid/images/08_21C_0313_jpg.rf.f9e1253bad3e72ef64cdcd7caa7912a1.jpg  \n",
      " extracting: ./datasets/valid/images/08_21C_0320_jpg.rf.876f1fe4ba66ff6cc9b5ba4faae4c959.jpg  \n",
      " extracting: ./datasets/valid/images/08_21C_0322_jpg.rf.5185064a556a38878262dea2cb481ad7.jpg  \n",
      " extracting: ./datasets/valid/images/08_21C_0323_jpg.rf.96051ec691cfeb956fe035edee53895e.jpg  \n",
      " extracting: ./datasets/valid/images/08_21C_0325_jpg.rf.4b477b0084fb6e15162a84b719bfc626.jpg  \n",
      " extracting: ./datasets/valid/images/08_21C_0326_jpg.rf.8e6dfb8233f06b86fac7977783a8caf2.jpg  \n",
      " extracting: ./datasets/valid/images/08_21C_0328_jpg.rf.02e43ca2010610ca326cd30ccd4495f0.jpg  \n",
      " extracting: ./datasets/valid/images/08_21C_0334_jpg.rf.f9184076480b1b39053d0946a9f419ec.jpg  \n",
      " extracting: ./datasets/valid/images/08_21C_0337_jpg.rf.59b7437f36220024fe056a183c35a949.jpg  \n",
      " extracting: ./datasets/valid/images/08_21C_0345_jpg.rf.0587aebbbcb88717f8a3e21214a80fd2.jpg  \n",
      " extracting: ./datasets/valid/images/08_21C_0348_jpg.rf.e5d8885634fba88d618258c9108a6fc7.jpg  \n",
      " extracting: ./datasets/valid/images/08_21C_0349_jpg.rf.dae5641d299bd49006bc48d3b7621ac1.jpg  \n",
      " extracting: ./datasets/valid/images/08_21C_0353_jpg.rf.2a4cc3c0d0d068f905dd25e1a6a761f5.jpg  \n",
      " extracting: ./datasets/valid/images/08_21C_0365_jpg.rf.d895f4595327f4cf63e1908fa6aa247b.jpg  \n",
      " extracting: ./datasets/valid/images/08_21C_0368_jpg.rf.3bfad024b067dbf284aecb77a5392717.jpg  \n",
      " extracting: ./datasets/valid/images/08_21C_0369_jpg.rf.ba72b962cc4e2930ae3de65a483b423b.jpg  \n",
      " extracting: ./datasets/valid/images/08_21C_0376_jpg.rf.b1a1aa43f2763689ebd8e5505289a3c6.jpg  \n",
      " extracting: ./datasets/valid/images/08_21C_0377_jpg.rf.18e899bad8d520012103f0d6d59d2c3c.jpg  \n",
      " extracting: ./datasets/valid/images/08_21C_0380_jpg.rf.b7354e15d94bcecc0d48096bd7856440.jpg  \n",
      " extracting: ./datasets/valid/images/08_21C_0382_jpg.rf.c5a10f025cda14f6b759b288d6b17077.jpg  \n",
      " extracting: ./datasets/valid/images/08_21C_0384_jpg.rf.451fff9aade01e8da23aba42de27469d.jpg  \n",
      " extracting: ./datasets/valid/images/08_21C_0386_jpg.rf.24d8e65468974a1a81c6b39579979f21.jpg  \n",
      " extracting: ./datasets/valid/images/08_21C_0412_jpg.rf.d7f5f6d02d8fadf85e8ba7612e32b02b.jpg  \n",
      " extracting: ./datasets/valid/images/08_21C_0415_jpg.rf.682b2ec2cdd71b772f0ad69fd8c511e3.jpg  \n",
      " extracting: ./datasets/valid/images/08_21C_0416_jpg.rf.06a6125074cc7fd4cf08392ffe63885b.jpg  \n",
      " extracting: ./datasets/valid/images/08_21C_0417_jpg.rf.2357fdbbaac0df138e76f477c32e6486.jpg  \n",
      " extracting: ./datasets/valid/images/08_21C_0426_jpg.rf.b332a52235980ad8a47396bde51a9202.jpg  \n",
      " extracting: ./datasets/valid/images/08_21C_0440_jpg.rf.3802c1e44f18a19012989dfa36c4f0e3.jpg  \n",
      " extracting: ./datasets/valid/images/08_21C_0442_jpg.rf.cfc88bf0a0adc4fc60f4024bc7d81ddd.jpg  \n",
      " extracting: ./datasets/valid/images/08_21C_0443_jpg.rf.c9e07d1c631a2b63e4d760879ff48429.jpg  \n",
      " extracting: ./datasets/valid/images/08_21C_0453_jpg.rf.61600496817093664ee04a1a8fca453d.jpg  \n",
      " extracting: ./datasets/valid/images/08_21C_0455_jpg.rf.331563617a22f0dc702a5bd62e4c06c0.jpg  \n",
      " extracting: ./datasets/valid/images/08_21C_0459_jpg.rf.f4edab5af1d636d0c834d6d947e79e4b.jpg  \n",
      " extracting: ./datasets/valid/images/08_21C_0462_jpg.rf.3db3a95e5ef4c53dae7442ec3d91641e.jpg  \n",
      " extracting: ./datasets/valid/images/08_21C_0463_jpg.rf.be5e3359d967f2567dbf4f733933fb30.jpg  \n",
      " extracting: ./datasets/valid/images/08_21C_0467_jpg.rf.67466935c32427f70751ca8bd12cbf22.jpg  \n",
      " extracting: ./datasets/valid/images/08_21C_0470_jpg.rf.6c0493235abf82e5b0fb0ed35aedf973.jpg  \n",
      " extracting: ./datasets/valid/images/08_21C_0476_jpg.rf.f6ff8728f8e6df0fa76f2a8fcc4512ab.jpg  \n",
      " extracting: ./datasets/valid/images/08_21C_0481_jpg.rf.d1d1440fb319cb56001da164437d4968.jpg  \n",
      " extracting: ./datasets/valid/images/08_21C_0483_jpg.rf.c7459abf2f27a6b5a977598bc5ada68c.jpg  \n",
      " extracting: ./datasets/valid/images/08_21C_0492_jpg.rf.ae33524e1d4eaf2da3d9f2e9254f76a1.jpg  \n",
      " extracting: ./datasets/valid/images/08_21C_0493_jpg.rf.b1526c56f52b0cfd5b033b773875a312.jpg  \n",
      " extracting: ./datasets/valid/images/08_21C_0494_jpg.rf.31491ad39dfb3c625b0462f3ffa7f2ea.jpg  \n",
      " extracting: ./datasets/valid/images/08_21C_0514_jpg.rf.bfa67ace9f03ce9e4ccd44c898ca783f.jpg  \n",
      " extracting: ./datasets/valid/images/08_21C_0528_jpg.rf.34ea24080344ed4d722aa145c934f145.jpg  \n",
      " extracting: ./datasets/valid/images/08_21C_0531_jpg.rf.af9b11a134b60306450927644811b466.jpg  \n",
      " extracting: ./datasets/valid/images/08_21C_0541_jpg.rf.d4320cdc41b5717ed113d438d2daa628.jpg  \n",
      " extracting: ./datasets/valid/images/08_21C_0545_jpg.rf.028a3cb5201abec06742fab9d38d5105.jpg  \n",
      " extracting: ./datasets/valid/images/08_21C_0546_jpg.rf.daf3c2bb096f2b93db0ce3df3879cc67.jpg  \n",
      " extracting: ./datasets/valid/images/08_21C_0548_jpg.rf.7ce96425a31d391d243f0a1277f91339.jpg  \n",
      " extracting: ./datasets/valid/images/08_21C_0562_jpg.rf.50c786deb694c156028ee9e3913b7d6b.jpg  \n",
      " extracting: ./datasets/valid/images/08_21C_0572_jpg.rf.91c01a9e5bce446c6444025a11023e6a.jpg  \n",
      " extracting: ./datasets/valid/images/08_21C_0573_jpg.rf.329d709036ea0144b8d44ac707d0cba0.jpg  \n",
      " extracting: ./datasets/valid/images/08_21C_0576_jpg.rf.eb9e5c2f45d2179ab1d2beca05ae2c43.jpg  \n",
      " extracting: ./datasets/valid/images/08_21C_0581_jpg.rf.9737b267d3e6ff1fd81f3645aeff8fd7.jpg  \n",
      " extracting: ./datasets/valid/images/08_21C_0582_jpg.rf.f8c79761854f1ca54846e3649cbbd03a.jpg  \n",
      " extracting: ./datasets/valid/images/08_21C_0586_jpg.rf.0e015ddfe55649f20e0496a990df2c97.jpg  \n",
      " extracting: ./datasets/valid/images/08_21C_0596_jpg.rf.70486a5bc107c188ee4c549a737d174b.jpg  \n",
      " extracting: ./datasets/valid/images/08_21C_0598_jpg.rf.378485bf9c67e632e579b9ddb70d531e.jpg  \n",
      " extracting: ./datasets/valid/images/08_21C_0604_jpg.rf.488ace960fd92e056d341d521214823a.jpg  \n",
      " extracting: ./datasets/valid/images/08_21C_0608_jpg.rf.980f771384e8c4baad0254c24728f66c.jpg  \n",
      " extracting: ./datasets/valid/images/08_21C_0615_jpg.rf.2a21c16108b1cecbe5a26be46d865364.jpg  \n",
      " extracting: ./datasets/valid/images/08_21C_0617_jpg.rf.15d29848ece574ab2807742636e53801.jpg  \n",
      " extracting: ./datasets/valid/images/08_21C_0624_jpg.rf.5b476d050820b9b8ddc502ce1aef84f3.jpg  \n",
      " extracting: ./datasets/valid/images/08_21C_0634_jpg.rf.62b66f6aaaba8b03776b25ba807f6dd5.jpg  \n",
      " extracting: ./datasets/valid/images/08_21C_0645_jpg.rf.d0154ff51fcc33ad48fc5eb4b05a0fe7.jpg  \n",
      " extracting: ./datasets/valid/images/08_21C_0646_jpg.rf.ee9b9d5de0af5c57cdd8f9faec4ac85f.jpg  \n",
      " extracting: ./datasets/valid/images/08_21C_0655_jpg.rf.a074331d06c437ee730198c30b6af004.jpg  \n",
      " extracting: ./datasets/valid/images/08_21C_0658_jpg.rf.edde986f93e9c1b56760e68419726bfd.jpg  \n",
      " extracting: ./datasets/valid/images/08_21C_0668_jpg.rf.17f06a92fade531048b8a0294c5672a9.jpg  \n",
      " extracting: ./datasets/valid/images/08_21C_0684_jpg.rf.274ff0d4ec29605da058fd1bff5586b2.jpg  \n",
      " extracting: ./datasets/valid/images/08_21C_0691_jpg.rf.eb69d905337bd5d1fa99d3b522aa7f43.jpg  \n",
      " extracting: ./datasets/valid/images/08_21C_0692_jpg.rf.468003e0226cff4df297a5b73649c007.jpg  \n",
      " extracting: ./datasets/valid/images/08_21C_0694_jpg.rf.064aa4aaa09d26cec0e11e9b20d85c4c.jpg  \n",
      " extracting: ./datasets/valid/images/08_21C_0725_jpg.rf.4253e12e71e29241344899d8cc4aa66c.jpg  \n",
      " extracting: ./datasets/valid/images/08_21C_0726_jpg.rf.2ecf8ba0ec6509bd2718ea55a5c35c40.jpg  \n",
      " extracting: ./datasets/valid/images/08_21C_0733_jpg.rf.5971b7fbcb59d4083944638610691aa8.jpg  \n",
      " extracting: ./datasets/valid/images/08_21C_0737_jpg.rf.86524b3b2b07508d9adc8b421ca97d68.jpg  \n",
      " extracting: ./datasets/valid/images/08_21C_0738_jpg.rf.dc8fc4ee8d8b08ea347c5976a4ec9a78.jpg  \n",
      " extracting: ./datasets/valid/images/08_21C_0743_jpg.rf.8ab3d576e3d4310debfc29c67147aa06.jpg  \n",
      " extracting: ./datasets/valid/images/08_21C_0746_jpg.rf.87fd382ccfe6c19beeeb6cd336e87f9a.jpg  \n",
      " extracting: ./datasets/valid/images/08_21C_0747_jpg.rf.fdb540f8cb583a8f78729331a973ed0b.jpg  \n",
      " extracting: ./datasets/valid/images/08_21C_0748_jpg.rf.f8a8f91cc783359357b91f536713e8f9.jpg  \n",
      " extracting: ./datasets/valid/images/08_21C_0749_jpg.rf.19cc024ceafa30a64b85454128766dfc.jpg  \n",
      " extracting: ./datasets/valid/images/08_21C_0751_jpg.rf.562248b1aece6a9e437df3808193f9bb.jpg  \n",
      " extracting: ./datasets/valid/images/08_21C_0757_jpg.rf.df9920f461d2168c7c30837ff2a65432.jpg  \n",
      " extracting: ./datasets/valid/images/08_21C_0758_jpg.rf.ffc93b3b786faf02934a3657a3a72607.jpg  \n",
      " extracting: ./datasets/valid/images/08_21C_0773_jpg.rf.ef51dbf78c84a9683c7185405e5278eb.jpg  \n",
      " extracting: ./datasets/valid/images/08_21C_0777_jpg.rf.7cb20fa45550edbdeb388edb53993e99.jpg  \n",
      " extracting: ./datasets/valid/images/08_21C_0780_jpg.rf.f9590d0d26188604b2d03177f20d8012.jpg  \n",
      " extracting: ./datasets/valid/images/08_21C_0787_jpg.rf.75e070fc49da0d431d4eebf07c95977f.jpg  \n",
      " extracting: ./datasets/valid/images/08_21C_0788_jpg.rf.10acdb7c0151bc81da912174343e99b7.jpg  \n",
      " extracting: ./datasets/valid/images/08_21C_0790_jpg.rf.65ef81cb2f6855c36981ff95fc0f5e15.jpg  \n",
      " extracting: ./datasets/valid/images/08_21C_0795_jpg.rf.2ad914aeeca6e1e14043f7ba7485f1cc.jpg  \n",
      " extracting: ./datasets/valid/images/08_21C_0802_jpg.rf.47667a6967854f026e141430c894f537.jpg  \n",
      " extracting: ./datasets/valid/images/08_21C_0809_jpg.rf.8477056be83753cfdb102b96175904fb.jpg  \n",
      " extracting: ./datasets/valid/images/08_21C_0812_jpg.rf.1aa81683544095c61fb05e39c22092b1.jpg  \n",
      " extracting: ./datasets/valid/images/08_21C_0813_jpg.rf.3f97f180f8fcf32ab8f757905e342b1c.jpg  \n",
      " extracting: ./datasets/valid/images/08_21C_0814_jpg.rf.b3145b773f24f6016e8cc715b7bb8a29.jpg  \n",
      " extracting: ./datasets/valid/images/08_21C_0815_jpg.rf.3bf98196051b371bbe32ded30aaf716e.jpg  \n",
      " extracting: ./datasets/valid/images/08_21C_0820_jpg.rf.2574c4dcdb97388443e094c868b4b68e.jpg  \n",
      " extracting: ./datasets/valid/images/08_21C_0821_jpg.rf.7b8521c2550cc564d5dde8109e6f2eca.jpg  \n",
      " extracting: ./datasets/valid/images/08_21C_0843_jpg.rf.4ffdfe76873be7bae95b26275aa62e0f.jpg  \n",
      " extracting: ./datasets/valid/images/08_21C_0859_jpg.rf.980b39a8dc1e7563dc768c29cf3c05ab.jpg  \n",
      " extracting: ./datasets/valid/images/08_21C_0861_jpg.rf.3e68526d13fecc592651adb096e0af6c.jpg  \n",
      " extracting: ./datasets/valid/images/08_21C_0863_jpg.rf.0c33e60b51d8499ef864cfaf9da172eb.jpg  \n",
      " extracting: ./datasets/valid/images/08_21C_0866_jpg.rf.cdfe80446d05f05b3f8af39584e11abe.jpg  \n",
      "   creating: ./datasets/valid/labels/\n",
      "  inflating: ./datasets/valid/labels/08_21A_0001_jpg.rf.a7ba37d80d3eff237d8619d85c260de2.txt  \n",
      "  inflating: ./datasets/valid/labels/08_21A_0030_jpg.rf.2a83e4ebbf0c31af3bb91fea20f5da04.txt  \n",
      "  inflating: ./datasets/valid/labels/08_21A_0040_jpg.rf.961bc6683e259da7e2a7e67f876c4f0c.txt  \n",
      "  inflating: ./datasets/valid/labels/08_21A_0052_jpg.rf.3b17b81bcb764e31c73ec64dcb1b804d.txt  \n",
      "  inflating: ./datasets/valid/labels/08_21A_0059_jpg.rf.72a7a14a919d151f78656c7bab6e259b.txt  \n",
      "  inflating: ./datasets/valid/labels/08_21A_0065_jpg.rf.b5649e1ca6c97146737bae2fcaf5e446.txt  \n",
      "  inflating: ./datasets/valid/labels/08_21A_0069_jpg.rf.0182d2320c0bf9b8dd90c2ae6d67089f.txt  \n",
      "  inflating: ./datasets/valid/labels/08_21A_0084_jpg.rf.dce0ec3426b4b41e0a2693199a1fce12.txt  \n",
      "  inflating: ./datasets/valid/labels/08_21A_0091_jpg.rf.4cc08366e16f96fe3482f826722a2684.txt  \n",
      "  inflating: ./datasets/valid/labels/08_21A_0097_jpg.rf.c8b8a32f1ff1d6997ad47eab9d4f0c1c.txt  \n",
      "  inflating: ./datasets/valid/labels/08_21C_0000_jpg.rf.bff40c6b17013d953208e6adb4654e31.txt  \n",
      "  inflating: ./datasets/valid/labels/08_21C_0000_jpg.rf.ff284c9cdaf85f2bd308bec238da10be.txt  \n",
      "  inflating: ./datasets/valid/labels/08_21C_0001_jpg.rf.2d292e1c35718b0c0069d0e24175983e.txt  \n",
      "  inflating: ./datasets/valid/labels/08_21C_0001_jpg.rf.c273ab9b0ce50ce7e2ae4c0b5b1bf2de.txt  \n",
      "  inflating: ./datasets/valid/labels/08_21C_0009_jpg.rf.7f2f416d7603c6f2ce8c3309472fc577.txt  \n",
      "  inflating: ./datasets/valid/labels/08_21C_0011_jpg.rf.f2b440a8af063087eadb9947cd4fe44e.txt  \n",
      "  inflating: ./datasets/valid/labels/08_21C_0016_jpg.rf.c4c64cd884119502be212c41aa2b5df9.txt  \n",
      "  inflating: ./datasets/valid/labels/08_21C_0025_jpg.rf.6bd7f104ed54ccf2081de7a50f6ad2c4.txt  \n",
      "  inflating: ./datasets/valid/labels/08_21C_0034_jpg.rf.4ed667b15701c7f01d361b60b30f51c3.txt  \n",
      "  inflating: ./datasets/valid/labels/08_21C_0035_jpg.rf.87dd30c57749e0d75d5f4cce58b05905.txt  \n",
      "  inflating: ./datasets/valid/labels/08_21C_0037_jpg.rf.f49a5064b51c41868eefe9755518f25a.txt  \n",
      "  inflating: ./datasets/valid/labels/08_21C_0038_jpg.rf.261c387614a3b1c8940354e29a19cb3d.txt  \n",
      "  inflating: ./datasets/valid/labels/08_21C_0048_jpg.rf.5f0f78e3c31487674b445797716c6b4c.txt  \n",
      "  inflating: ./datasets/valid/labels/08_21C_0049_jpg.rf.1fae137c01f285a7ae2c4e3557760496.txt  \n",
      "  inflating: ./datasets/valid/labels/08_21C_0050_jpg.rf.6403ef38768889c37a1c261b22edb092.txt  \n",
      "  inflating: ./datasets/valid/labels/08_21C_0052_jpg.rf.9012fc4b4c6fa4ea98782774991a38b8.txt  \n",
      "  inflating: ./datasets/valid/labels/08_21C_0053_jpg.rf.5b9e48263821f7ed01bacbb1b9fce600.txt  \n",
      "  inflating: ./datasets/valid/labels/08_21C_0053_jpg.rf.9d33e5a637eeb78ef545e1d7e818493f.txt  \n",
      "  inflating: ./datasets/valid/labels/08_21C_0054_jpg.rf.8367e70a29e16f19ea4aabbe4e8c589c.txt  \n",
      "  inflating: ./datasets/valid/labels/08_21C_0056_jpg.rf.f74417dc34c379a9a1dacc0f0fc886d8.txt  \n",
      "  inflating: ./datasets/valid/labels/08_21C_0070_jpg.rf.dae35ee4983b3c8f6f4f066a9a79d7dd.txt  \n",
      "  inflating: ./datasets/valid/labels/08_21C_0071_jpg.rf.290ad7901a63c0631c3ab2204665ea0b.txt  \n",
      "  inflating: ./datasets/valid/labels/08_21C_0071_jpg.rf.57221080c744aed70b38719c8c5f3c1b.txt  \n",
      "  inflating: ./datasets/valid/labels/08_21C_0079_jpg.rf.1bd2d43f990ad8b000a9aafce9f3dd9e.txt  \n",
      "  inflating: ./datasets/valid/labels/08_21C_0079_jpg.rf.a38742c4d7692efcea700ba14688be89.txt  \n",
      "  inflating: ./datasets/valid/labels/08_21C_0086_jpg.rf.4969579d55fccbc8f2fa26bd8f72441c.txt  \n",
      "  inflating: ./datasets/valid/labels/08_21C_0090_jpg.rf.a14023bf3a4a33ca13482c05592bfa36.txt  \n",
      "  inflating: ./datasets/valid/labels/08_21C_0097_jpg.rf.3c89d6a67bcdccb946f3911ee063110a.txt  \n",
      "  inflating: ./datasets/valid/labels/08_21C_0098_jpg.rf.438ff65f5a3fb4baad45a62a06316309.txt  \n",
      "  inflating: ./datasets/valid/labels/08_21C_0101_jpg.rf.c728ceaba43f0b2d91f8ce836b3e95c7.txt  \n",
      "  inflating: ./datasets/valid/labels/08_21C_0105_jpg.rf.1be0a7f82508dea30c5d0233fe77ad2a.txt  \n",
      "  inflating: ./datasets/valid/labels/08_21C_0105_jpg.rf.9e200069ae1d17fe2e633db903a24396.txt  \n",
      "  inflating: ./datasets/valid/labels/08_21C_0106_jpg.rf.0366b95d86ca2efd12b9d44db888f614.txt  \n",
      "  inflating: ./datasets/valid/labels/08_21C_0108_jpg.rf.63bcf108c37f66a2134d85209831741e.txt  \n",
      "  inflating: ./datasets/valid/labels/08_21C_0109_jpg.rf.9955b8bed93b46b78a0a661c58e6ee75.txt  \n",
      "  inflating: ./datasets/valid/labels/08_21C_0111_jpg.rf.7c56ef435f6a6169cffe868323d71314.txt  \n",
      "  inflating: ./datasets/valid/labels/08_21C_0119_jpg.rf.9e234d15b9cd5ef4de32839064c14650.txt  \n",
      "  inflating: ./datasets/valid/labels/08_21C_0131_jpg.rf.72b6122b2b5957e1e46d4b9c0708569e.txt  \n",
      "  inflating: ./datasets/valid/labels/08_21C_0133_jpg.rf.57a1b33ccf658e38d60bf65eb4718827.txt  \n",
      "  inflating: ./datasets/valid/labels/08_21C_0134_jpg.rf.6396936569c6e62cdf6502cd7d67d9ae.txt  \n",
      "  inflating: ./datasets/valid/labels/08_21C_0134_jpg.rf.dca57db8aa040a17c8804856efdec30d.txt  \n",
      "  inflating: ./datasets/valid/labels/08_21C_0135_jpg.rf.e0b2be11e91ad9c1c17b13532725ecf1.txt  \n",
      "  inflating: ./datasets/valid/labels/08_21C_0136_jpg.rf.f9c9e8421124ecb8928c9ea60e6cf040.txt  \n",
      "  inflating: ./datasets/valid/labels/08_21C_0137_jpg.rf.30c12e159e5f578cd2f9a526c2df74eb.txt  \n",
      "  inflating: ./datasets/valid/labels/08_21C_0137_jpg.rf.e11b483c96d4761b142c3be3260ed385.txt  \n",
      "  inflating: ./datasets/valid/labels/08_21C_0139_jpg.rf.ed331611d0134ac34d2303c20d53f5b1.txt  \n",
      "  inflating: ./datasets/valid/labels/08_21C_0143_jpg.rf.e8b9d15ded6beb304baf0ad4de0c6344.txt  \n",
      "  inflating: ./datasets/valid/labels/08_21C_0145_jpg.rf.028363ffaf2f7ede0198852a60ab06ea.txt  \n",
      "  inflating: ./datasets/valid/labels/08_21C_0145_jpg.rf.12d0a5eed3d68be26878a17edbd06a71.txt  \n",
      "  inflating: ./datasets/valid/labels/08_21C_0150_jpg.rf.38bbcd953e2db2ca21da2a0238c22d74.txt  \n",
      "  inflating: ./datasets/valid/labels/08_21C_0150_jpg.rf.4c19eb22b8e659d6173a7798ae2710fd.txt  \n",
      "  inflating: ./datasets/valid/labels/08_21C_0151_jpg.rf.f0dc31c4eed3b21ba086bd7a19cc43bf.txt  \n",
      "  inflating: ./datasets/valid/labels/08_21C_0151_jpg.rf.fb492f348d83bb48c455ebfde7b331e7.txt  \n",
      "  inflating: ./datasets/valid/labels/08_21C_0152_jpg.rf.028e70adf2922e76c392371f28f2174f.txt  \n",
      "  inflating: ./datasets/valid/labels/08_21C_0152_jpg.rf.b2e24720a7f350201792ae15d6ad15e5.txt  \n",
      "  inflating: ./datasets/valid/labels/08_21C_0153_jpg.rf.53ea90fa2778fc23a48c55db42599e2d.txt  \n",
      "  inflating: ./datasets/valid/labels/08_21C_0154_jpg.rf.224c9f98916303b029a1047489f5d531.txt  \n",
      "  inflating: ./datasets/valid/labels/08_21C_0154_jpg.rf.6e11e6f10d44c68589cb65c420f4f699.txt  \n",
      "  inflating: ./datasets/valid/labels/08_21C_0155_jpg.rf.61f4088a68637fedf790c9b801dc759f.txt  \n",
      "  inflating: ./datasets/valid/labels/08_21C_0156_jpg.rf.173775b199f5923b06ba149704f8a15d.txt  \n",
      "  inflating: ./datasets/valid/labels/08_21C_0157_jpg.rf.4ece58df82156038e2e6af2583868ac7.txt  \n",
      "  inflating: ./datasets/valid/labels/08_21C_0160_jpg.rf.1b86db997183aca1fbaa0eb931dc6ac7.txt  \n",
      "  inflating: ./datasets/valid/labels/08_21C_0162_jpg.rf.fc6b98723652b1d719e6a08346086cd4.txt  \n",
      "  inflating: ./datasets/valid/labels/08_21C_0163_jpg.rf.62db5d50b52e03cfb11faafa9b3b0889.txt  \n",
      "  inflating: ./datasets/valid/labels/08_21C_0165_jpg.rf.1eb99040d3670685533e1ab98a0551c0.txt  \n",
      "  inflating: ./datasets/valid/labels/08_21C_0165_jpg.rf.70e4e61a714bf9f268543b670efceb55.txt  \n",
      "  inflating: ./datasets/valid/labels/08_21C_0167_jpg.rf.e0883af657edee0890993c0796e37658.txt  \n",
      "  inflating: ./datasets/valid/labels/08_21C_0168_jpg.rf.09d78136f9a37982caeabb63a3c1e3f6.txt  \n",
      "  inflating: ./datasets/valid/labels/08_21C_0168_jpg.rf.fb4591c1a82aa02bed57c2cbe041e879.txt  \n",
      "  inflating: ./datasets/valid/labels/08_21C_0169_jpg.rf.25d6514f4ddff8ee861c915254e559e6.txt  \n",
      "  inflating: ./datasets/valid/labels/08_21C_0173_jpg.rf.74e233339b39d77c4e9ca9b7d348859a.txt  \n",
      "  inflating: ./datasets/valid/labels/08_21C_0174_jpg.rf.7b1974d3b1ad3daeaab19968ab3b9ed3.txt  \n",
      "  inflating: ./datasets/valid/labels/08_21C_0175_jpg.rf.19e5acc14e4db321dde04015b76d4bbd.txt  \n",
      "  inflating: ./datasets/valid/labels/08_21C_0181_jpg.rf.7db4c8e70582d174647608301e1f618f.txt  \n",
      "  inflating: ./datasets/valid/labels/08_21C_0197_jpg.rf.cca82bb8104dda5abf9f6c322539efc0.txt  \n",
      "  inflating: ./datasets/valid/labels/08_21C_0198_jpg.rf.ffb1eebdd7a25ca817db8523097426cb.txt  \n",
      "  inflating: ./datasets/valid/labels/08_21C_0201_jpg.rf.ffbd0aa6ab02effd2d4863bbfc189ed9.txt  \n",
      "  inflating: ./datasets/valid/labels/08_21C_0202_jpg.rf.e329ede798b537eaae130b2f9b07f85e.txt  \n",
      "  inflating: ./datasets/valid/labels/08_21C_0205_jpg.rf.aa971b8aad2629cb8e518564514d5876.txt  \n",
      "  inflating: ./datasets/valid/labels/08_21C_0207_jpg.rf.27387715b5d25e6865ea640bf4cce109.txt  \n",
      "  inflating: ./datasets/valid/labels/08_21C_0209_jpg.rf.17889bfc9c65b3675cbaccc292205abe.txt  \n",
      "  inflating: ./datasets/valid/labels/08_21C_0209_jpg.rf.976f98d730c9f16fbf05b224375dfb94.txt  \n",
      "  inflating: ./datasets/valid/labels/08_21C_0211_jpg.rf.670f7402e1594c6a2ede2666cd146611.txt  \n",
      "  inflating: ./datasets/valid/labels/08_21C_0213_jpg.rf.5fd6eabd6bf16f18ae9c594fc1e2d4dc.txt  \n",
      "  inflating: ./datasets/valid/labels/08_21C_0215_jpg.rf.242a64798e8dc9efbef885ce84845441.txt  \n",
      "  inflating: ./datasets/valid/labels/08_21C_0218_jpg.rf.42c94a21774f5fde8340e1cf5a6fd549.txt  \n",
      "  inflating: ./datasets/valid/labels/08_21C_0219_jpg.rf.f2ca478d885df2790673fe6f4a42b84e.txt  \n",
      "  inflating: ./datasets/valid/labels/08_21C_0221_jpg.rf.7d8b2ef34a98805b9af6065b6efc7f79.txt  \n",
      "  inflating: ./datasets/valid/labels/08_21C_0224_jpg.rf.f6b3eabd386e1f2a33c1a62fe28eeb9c.txt  \n",
      "  inflating: ./datasets/valid/labels/08_21C_0225_jpg.rf.73b2920c6e863ef78b87814e06b4c240.txt  \n",
      "  inflating: ./datasets/valid/labels/08_21C_0226_jpg.rf.7c6ade343b54b410a72a29ff5f0f577d.txt  \n",
      "  inflating: ./datasets/valid/labels/08_21C_0227_jpg.rf.e40310b1de63ee874b2b80fded2c13c5.txt  \n",
      "  inflating: ./datasets/valid/labels/08_21C_0230_jpg.rf.6479aaf4c6c20b1a34ec871c4fbea5ae.txt  \n",
      "  inflating: ./datasets/valid/labels/08_21C_0232_jpg.rf.134e220239e5ec8f72a10c4f891b90d4.txt  \n",
      "  inflating: ./datasets/valid/labels/08_21C_0232_jpg.rf.96bea84b3485398744d075740c264af8.txt  \n",
      "  inflating: ./datasets/valid/labels/08_21C_0234_jpg.rf.9076725347adf65a10cad0a3bebb6598.txt  \n",
      "  inflating: ./datasets/valid/labels/08_21C_0237_jpg.rf.26ad8d5a1c69eee43945adccd887cf64.txt  \n",
      "  inflating: ./datasets/valid/labels/08_21C_0238_jpg.rf.4377e086c3d62b3bce24b440af99c5cd.txt  \n",
      "  inflating: ./datasets/valid/labels/08_21C_0239_jpg.rf.8c8531ac751f1750fb805830c5c11c6e.txt  \n",
      "  inflating: ./datasets/valid/labels/08_21C_0239_jpg.rf.9144644442027c307f1128e37e379e6c.txt  \n",
      "  inflating: ./datasets/valid/labels/08_21C_0242_jpg.rf.16cc691358695d7f4ddfcbb5ca81a7e3.txt  \n",
      "  inflating: ./datasets/valid/labels/08_21C_0246_jpg.rf.283cd604ab07f397d06148dbd0e4fcd0.txt  \n",
      "  inflating: ./datasets/valid/labels/08_21C_0247_jpg.rf.8956f8122c89f530110cad331c882d29.txt  \n",
      "  inflating: ./datasets/valid/labels/08_21C_0249_jpg.rf.3095a258ad50fb128de5d97adcb46dcf.txt  \n",
      "  inflating: ./datasets/valid/labels/08_21C_0250_jpg.rf.43efabf7ac7dffef82d3fcd8c1e84862.txt  \n",
      "  inflating: ./datasets/valid/labels/08_21C_0250_jpg.rf.b164fca68a7a644a126019aa776912c1.txt  \n",
      "  inflating: ./datasets/valid/labels/08_21C_0251_jpg.rf.166a7846f0991350c849334d73d81ba0.txt  \n",
      "  inflating: ./datasets/valid/labels/08_21C_0256_jpg.rf.ce54253bcdcf3e9c0fe324aca1058c8f.txt  \n",
      "  inflating: ./datasets/valid/labels/08_21C_0260_jpg.rf.acb7081b78a36d9f04640041f478edd9.txt  \n",
      "  inflating: ./datasets/valid/labels/08_21C_0261_jpg.rf.bb12b879aa641b7a9141ac3147b959c1.txt  \n",
      "  inflating: ./datasets/valid/labels/08_21C_0262_jpg.rf.d66dcb41316937108daa6ac60b9fca02.txt  \n",
      "  inflating: ./datasets/valid/labels/08_21C_0266_jpg.rf.e73dfb9a82a71cd0eb7b080dbf7548de.txt  \n",
      "  inflating: ./datasets/valid/labels/08_21C_0267_jpg.rf.a3ea4747e00aed3ca5bb26feaf0b3581.txt  \n",
      "  inflating: ./datasets/valid/labels/08_21C_0268_jpg.rf.89111beec1300eb45a067ed008808c20.txt  \n",
      "  inflating: ./datasets/valid/labels/08_21C_0268_jpg.rf.bcb61689820dcbb6fe10fa871fde36af.txt  \n",
      "  inflating: ./datasets/valid/labels/08_21C_0269_jpg.rf.323f8ade939feadceca88eb230f6b9d6.txt  \n",
      "  inflating: ./datasets/valid/labels/08_21C_0270_jpg.rf.42c8dec3cb6e95701254ab8dbac3e91f.txt  \n",
      "  inflating: ./datasets/valid/labels/08_21C_0270_jpg.rf.fecdafffa8a2ad3346bd91d54bd6df2e.txt  \n",
      "  inflating: ./datasets/valid/labels/08_21C_0275_jpg.rf.6d866e212357925325fc5ab51dc699f4.txt  \n",
      "  inflating: ./datasets/valid/labels/08_21C_0276_jpg.rf.5462d1bf3698ea35d33ccebb28a8ad69.txt  \n",
      "  inflating: ./datasets/valid/labels/08_21C_0280_jpg.rf.366b293001843c0a106d72a39a070c05.txt  \n",
      "  inflating: ./datasets/valid/labels/08_21C_0280_jpg.rf.bcece99356e1c76693542c39f03fe34d.txt  \n",
      "  inflating: ./datasets/valid/labels/08_21C_0281_jpg.rf.8fb49c9892de564d66266509729c1541.txt  \n",
      "  inflating: ./datasets/valid/labels/08_21C_0281_jpg.rf.fae7a5a60a5366c93f2e2b39ab5c999d.txt  \n",
      "  inflating: ./datasets/valid/labels/08_21C_0282_jpg.rf.a79cf42766617da3adf4b97c0651c3fb.txt  \n",
      "  inflating: ./datasets/valid/labels/08_21C_0284_jpg.rf.dba4771482cc487bdeb7852b4d736c01.txt  \n",
      "  inflating: ./datasets/valid/labels/08_21C_0285_jpg.rf.98ad2bfc6dd83f4f163a8d41b641698e.txt  \n",
      "  inflating: ./datasets/valid/labels/08_21C_0285_jpg.rf.e2c7f957ab290ce25a6a3de2b29e7b98.txt  \n",
      "  inflating: ./datasets/valid/labels/08_21C_0286_jpg.rf.70be07393b0f2cdfec40a538c48d8f0c.txt  \n",
      "  inflating: ./datasets/valid/labels/08_21C_0287_jpg.rf.6064479e8b58c81123be6fff0b08ee96.txt  \n",
      "  inflating: ./datasets/valid/labels/08_21C_0296_jpg.rf.07ef73afccf6c45bf836a631a683a2a1.txt  \n",
      "  inflating: ./datasets/valid/labels/08_21C_0297_jpg.rf.70f414f7bfb40b5e1795c15486344fea.txt  \n",
      "  inflating: ./datasets/valid/labels/08_21C_0298_jpg.rf.0a79cbfd8ce55fdbf99a8b4624813294.txt  \n",
      "  inflating: ./datasets/valid/labels/08_21C_0300_jpg.rf.f5faa02313946cfca30bacb6e304082a.txt  \n",
      "  inflating: ./datasets/valid/labels/08_21C_0302_jpg.rf.2ddde1d1e81ea26b455dc1f22b32156d.txt  \n",
      "  inflating: ./datasets/valid/labels/08_21C_0303_jpg.rf.8366bdf683eeb2ffdb42ab4210ba422e.txt  \n",
      "  inflating: ./datasets/valid/labels/08_21C_0305_jpg.rf.6a065ce3187ecea42a5ba39fa0eee103.txt  \n",
      "  inflating: ./datasets/valid/labels/08_21C_0306_jpg.rf.712810f6c97c77417e0ecf1c8acb4a7a.txt  \n",
      "  inflating: ./datasets/valid/labels/08_21C_0308_jpg.rf.8518fd4f66e870bec47e8f5489a8d561.txt  \n",
      "  inflating: ./datasets/valid/labels/08_21C_0308_jpg.rf.a6ae991f5b7f1ba51d3580c1b5b0c846.txt  \n",
      "  inflating: ./datasets/valid/labels/08_21C_0309_jpg.rf.bc47203048cd061b9ab6f0001177edc9.txt  \n",
      "  inflating: ./datasets/valid/labels/08_21C_0311_jpg.rf.6e06da956024ea7f14e7a9eb58eff4fd.txt  \n",
      "  inflating: ./datasets/valid/labels/08_21C_0313_jpg.rf.f9e1253bad3e72ef64cdcd7caa7912a1.txt  \n",
      "  inflating: ./datasets/valid/labels/08_21C_0320_jpg.rf.876f1fe4ba66ff6cc9b5ba4faae4c959.txt  \n",
      "  inflating: ./datasets/valid/labels/08_21C_0322_jpg.rf.5185064a556a38878262dea2cb481ad7.txt  \n",
      "  inflating: ./datasets/valid/labels/08_21C_0323_jpg.rf.96051ec691cfeb956fe035edee53895e.txt  \n",
      "  inflating: ./datasets/valid/labels/08_21C_0325_jpg.rf.4b477b0084fb6e15162a84b719bfc626.txt  \n",
      "  inflating: ./datasets/valid/labels/08_21C_0326_jpg.rf.8e6dfb8233f06b86fac7977783a8caf2.txt  \n",
      "  inflating: ./datasets/valid/labels/08_21C_0328_jpg.rf.02e43ca2010610ca326cd30ccd4495f0.txt  \n",
      "  inflating: ./datasets/valid/labels/08_21C_0334_jpg.rf.f9184076480b1b39053d0946a9f419ec.txt  \n",
      "  inflating: ./datasets/valid/labels/08_21C_0337_jpg.rf.59b7437f36220024fe056a183c35a949.txt  \n",
      "  inflating: ./datasets/valid/labels/08_21C_0345_jpg.rf.0587aebbbcb88717f8a3e21214a80fd2.txt  \n",
      "  inflating: ./datasets/valid/labels/08_21C_0348_jpg.rf.e5d8885634fba88d618258c9108a6fc7.txt  \n",
      "  inflating: ./datasets/valid/labels/08_21C_0349_jpg.rf.dae5641d299bd49006bc48d3b7621ac1.txt  \n",
      "  inflating: ./datasets/valid/labels/08_21C_0353_jpg.rf.2a4cc3c0d0d068f905dd25e1a6a761f5.txt  \n",
      "  inflating: ./datasets/valid/labels/08_21C_0365_jpg.rf.d895f4595327f4cf63e1908fa6aa247b.txt  \n",
      "  inflating: ./datasets/valid/labels/08_21C_0368_jpg.rf.3bfad024b067dbf284aecb77a5392717.txt  \n",
      "  inflating: ./datasets/valid/labels/08_21C_0369_jpg.rf.ba72b962cc4e2930ae3de65a483b423b.txt  \n",
      "  inflating: ./datasets/valid/labels/08_21C_0376_jpg.rf.b1a1aa43f2763689ebd8e5505289a3c6.txt  \n",
      "  inflating: ./datasets/valid/labels/08_21C_0377_jpg.rf.18e899bad8d520012103f0d6d59d2c3c.txt  \n",
      "  inflating: ./datasets/valid/labels/08_21C_0380_jpg.rf.b7354e15d94bcecc0d48096bd7856440.txt  \n",
      "  inflating: ./datasets/valid/labels/08_21C_0382_jpg.rf.c5a10f025cda14f6b759b288d6b17077.txt  \n",
      "  inflating: ./datasets/valid/labels/08_21C_0384_jpg.rf.451fff9aade01e8da23aba42de27469d.txt  \n",
      "  inflating: ./datasets/valid/labels/08_21C_0386_jpg.rf.24d8e65468974a1a81c6b39579979f21.txt  \n",
      "  inflating: ./datasets/valid/labels/08_21C_0412_jpg.rf.d7f5f6d02d8fadf85e8ba7612e32b02b.txt  \n",
      "  inflating: ./datasets/valid/labels/08_21C_0415_jpg.rf.682b2ec2cdd71b772f0ad69fd8c511e3.txt  \n",
      "  inflating: ./datasets/valid/labels/08_21C_0416_jpg.rf.06a6125074cc7fd4cf08392ffe63885b.txt  \n",
      "  inflating: ./datasets/valid/labels/08_21C_0417_jpg.rf.2357fdbbaac0df138e76f477c32e6486.txt  \n",
      "  inflating: ./datasets/valid/labels/08_21C_0426_jpg.rf.b332a52235980ad8a47396bde51a9202.txt  \n",
      "  inflating: ./datasets/valid/labels/08_21C_0440_jpg.rf.3802c1e44f18a19012989dfa36c4f0e3.txt  \n",
      "  inflating: ./datasets/valid/labels/08_21C_0442_jpg.rf.cfc88bf0a0adc4fc60f4024bc7d81ddd.txt  \n",
      "  inflating: ./datasets/valid/labels/08_21C_0443_jpg.rf.c9e07d1c631a2b63e4d760879ff48429.txt  \n",
      "  inflating: ./datasets/valid/labels/08_21C_0453_jpg.rf.61600496817093664ee04a1a8fca453d.txt  \n",
      "  inflating: ./datasets/valid/labels/08_21C_0455_jpg.rf.331563617a22f0dc702a5bd62e4c06c0.txt  \n",
      "  inflating: ./datasets/valid/labels/08_21C_0459_jpg.rf.f4edab5af1d636d0c834d6d947e79e4b.txt  \n",
      "  inflating: ./datasets/valid/labels/08_21C_0462_jpg.rf.3db3a95e5ef4c53dae7442ec3d91641e.txt  \n",
      "  inflating: ./datasets/valid/labels/08_21C_0463_jpg.rf.be5e3359d967f2567dbf4f733933fb30.txt  \n",
      "  inflating: ./datasets/valid/labels/08_21C_0467_jpg.rf.67466935c32427f70751ca8bd12cbf22.txt  \n",
      "  inflating: ./datasets/valid/labels/08_21C_0470_jpg.rf.6c0493235abf82e5b0fb0ed35aedf973.txt  \n",
      "  inflating: ./datasets/valid/labels/08_21C_0476_jpg.rf.f6ff8728f8e6df0fa76f2a8fcc4512ab.txt  \n",
      "  inflating: ./datasets/valid/labels/08_21C_0481_jpg.rf.d1d1440fb319cb56001da164437d4968.txt  \n",
      "  inflating: ./datasets/valid/labels/08_21C_0483_jpg.rf.c7459abf2f27a6b5a977598bc5ada68c.txt  \n",
      "  inflating: ./datasets/valid/labels/08_21C_0492_jpg.rf.ae33524e1d4eaf2da3d9f2e9254f76a1.txt  \n",
      "  inflating: ./datasets/valid/labels/08_21C_0493_jpg.rf.b1526c56f52b0cfd5b033b773875a312.txt  \n",
      "  inflating: ./datasets/valid/labels/08_21C_0494_jpg.rf.31491ad39dfb3c625b0462f3ffa7f2ea.txt  \n",
      "  inflating: ./datasets/valid/labels/08_21C_0514_jpg.rf.bfa67ace9f03ce9e4ccd44c898ca783f.txt  \n",
      "  inflating: ./datasets/valid/labels/08_21C_0528_jpg.rf.34ea24080344ed4d722aa145c934f145.txt  \n",
      "  inflating: ./datasets/valid/labels/08_21C_0531_jpg.rf.af9b11a134b60306450927644811b466.txt  \n",
      "  inflating: ./datasets/valid/labels/08_21C_0541_jpg.rf.d4320cdc41b5717ed113d438d2daa628.txt  \n",
      "  inflating: ./datasets/valid/labels/08_21C_0545_jpg.rf.028a3cb5201abec06742fab9d38d5105.txt  \n",
      "  inflating: ./datasets/valid/labels/08_21C_0546_jpg.rf.daf3c2bb096f2b93db0ce3df3879cc67.txt  \n",
      "  inflating: ./datasets/valid/labels/08_21C_0548_jpg.rf.7ce96425a31d391d243f0a1277f91339.txt  \n",
      "  inflating: ./datasets/valid/labels/08_21C_0562_jpg.rf.50c786deb694c156028ee9e3913b7d6b.txt  \n",
      "  inflating: ./datasets/valid/labels/08_21C_0572_jpg.rf.91c01a9e5bce446c6444025a11023e6a.txt  \n",
      "  inflating: ./datasets/valid/labels/08_21C_0573_jpg.rf.329d709036ea0144b8d44ac707d0cba0.txt  \n",
      "  inflating: ./datasets/valid/labels/08_21C_0576_jpg.rf.eb9e5c2f45d2179ab1d2beca05ae2c43.txt  \n",
      "  inflating: ./datasets/valid/labels/08_21C_0581_jpg.rf.9737b267d3e6ff1fd81f3645aeff8fd7.txt  \n",
      "  inflating: ./datasets/valid/labels/08_21C_0582_jpg.rf.f8c79761854f1ca54846e3649cbbd03a.txt  \n",
      "  inflating: ./datasets/valid/labels/08_21C_0586_jpg.rf.0e015ddfe55649f20e0496a990df2c97.txt  \n",
      "  inflating: ./datasets/valid/labels/08_21C_0596_jpg.rf.70486a5bc107c188ee4c549a737d174b.txt  \n",
      "  inflating: ./datasets/valid/labels/08_21C_0598_jpg.rf.378485bf9c67e632e579b9ddb70d531e.txt  \n",
      "  inflating: ./datasets/valid/labels/08_21C_0604_jpg.rf.488ace960fd92e056d341d521214823a.txt  \n",
      "  inflating: ./datasets/valid/labels/08_21C_0608_jpg.rf.980f771384e8c4baad0254c24728f66c.txt  \n",
      "  inflating: ./datasets/valid/labels/08_21C_0615_jpg.rf.2a21c16108b1cecbe5a26be46d865364.txt  \n",
      "  inflating: ./datasets/valid/labels/08_21C_0617_jpg.rf.15d29848ece574ab2807742636e53801.txt  \n",
      "  inflating: ./datasets/valid/labels/08_21C_0624_jpg.rf.5b476d050820b9b8ddc502ce1aef84f3.txt  \n",
      "  inflating: ./datasets/valid/labels/08_21C_0634_jpg.rf.62b66f6aaaba8b03776b25ba807f6dd5.txt  \n",
      "  inflating: ./datasets/valid/labels/08_21C_0645_jpg.rf.d0154ff51fcc33ad48fc5eb4b05a0fe7.txt  \n",
      "  inflating: ./datasets/valid/labels/08_21C_0646_jpg.rf.ee9b9d5de0af5c57cdd8f9faec4ac85f.txt  \n",
      "  inflating: ./datasets/valid/labels/08_21C_0655_jpg.rf.a074331d06c437ee730198c30b6af004.txt  \n",
      "  inflating: ./datasets/valid/labels/08_21C_0658_jpg.rf.edde986f93e9c1b56760e68419726bfd.txt  \n",
      "  inflating: ./datasets/valid/labels/08_21C_0668_jpg.rf.17f06a92fade531048b8a0294c5672a9.txt  \n",
      "  inflating: ./datasets/valid/labels/08_21C_0684_jpg.rf.274ff0d4ec29605da058fd1bff5586b2.txt  \n",
      "  inflating: ./datasets/valid/labels/08_21C_0691_jpg.rf.eb69d905337bd5d1fa99d3b522aa7f43.txt  \n",
      "  inflating: ./datasets/valid/labels/08_21C_0692_jpg.rf.468003e0226cff4df297a5b73649c007.txt  \n",
      "  inflating: ./datasets/valid/labels/08_21C_0694_jpg.rf.064aa4aaa09d26cec0e11e9b20d85c4c.txt  \n",
      "  inflating: ./datasets/valid/labels/08_21C_0725_jpg.rf.4253e12e71e29241344899d8cc4aa66c.txt  \n",
      "  inflating: ./datasets/valid/labels/08_21C_0726_jpg.rf.2ecf8ba0ec6509bd2718ea55a5c35c40.txt  \n",
      "  inflating: ./datasets/valid/labels/08_21C_0733_jpg.rf.5971b7fbcb59d4083944638610691aa8.txt  \n",
      "  inflating: ./datasets/valid/labels/08_21C_0737_jpg.rf.86524b3b2b07508d9adc8b421ca97d68.txt  \n",
      "  inflating: ./datasets/valid/labels/08_21C_0738_jpg.rf.dc8fc4ee8d8b08ea347c5976a4ec9a78.txt  \n",
      "  inflating: ./datasets/valid/labels/08_21C_0743_jpg.rf.8ab3d576e3d4310debfc29c67147aa06.txt  \n",
      "  inflating: ./datasets/valid/labels/08_21C_0746_jpg.rf.87fd382ccfe6c19beeeb6cd336e87f9a.txt  \n",
      "  inflating: ./datasets/valid/labels/08_21C_0747_jpg.rf.fdb540f8cb583a8f78729331a973ed0b.txt  \n",
      "  inflating: ./datasets/valid/labels/08_21C_0748_jpg.rf.f8a8f91cc783359357b91f536713e8f9.txt  \n",
      "  inflating: ./datasets/valid/labels/08_21C_0749_jpg.rf.19cc024ceafa30a64b85454128766dfc.txt  \n",
      "  inflating: ./datasets/valid/labels/08_21C_0751_jpg.rf.562248b1aece6a9e437df3808193f9bb.txt  \n",
      "  inflating: ./datasets/valid/labels/08_21C_0757_jpg.rf.df9920f461d2168c7c30837ff2a65432.txt  \n",
      "  inflating: ./datasets/valid/labels/08_21C_0758_jpg.rf.ffc93b3b786faf02934a3657a3a72607.txt  \n",
      "  inflating: ./datasets/valid/labels/08_21C_0773_jpg.rf.ef51dbf78c84a9683c7185405e5278eb.txt  \n",
      "  inflating: ./datasets/valid/labels/08_21C_0777_jpg.rf.7cb20fa45550edbdeb388edb53993e99.txt  \n",
      "  inflating: ./datasets/valid/labels/08_21C_0780_jpg.rf.f9590d0d26188604b2d03177f20d8012.txt  \n",
      "  inflating: ./datasets/valid/labels/08_21C_0787_jpg.rf.75e070fc49da0d431d4eebf07c95977f.txt  \n",
      "  inflating: ./datasets/valid/labels/08_21C_0788_jpg.rf.10acdb7c0151bc81da912174343e99b7.txt  \n",
      "  inflating: ./datasets/valid/labels/08_21C_0790_jpg.rf.65ef81cb2f6855c36981ff95fc0f5e15.txt  \n",
      "  inflating: ./datasets/valid/labels/08_21C_0795_jpg.rf.2ad914aeeca6e1e14043f7ba7485f1cc.txt  \n",
      "  inflating: ./datasets/valid/labels/08_21C_0802_jpg.rf.47667a6967854f026e141430c894f537.txt  \n",
      "  inflating: ./datasets/valid/labels/08_21C_0809_jpg.rf.8477056be83753cfdb102b96175904fb.txt  \n",
      "  inflating: ./datasets/valid/labels/08_21C_0812_jpg.rf.1aa81683544095c61fb05e39c22092b1.txt  \n",
      "  inflating: ./datasets/valid/labels/08_21C_0813_jpg.rf.3f97f180f8fcf32ab8f757905e342b1c.txt  \n",
      "  inflating: ./datasets/valid/labels/08_21C_0814_jpg.rf.b3145b773f24f6016e8cc715b7bb8a29.txt  \n",
      "  inflating: ./datasets/valid/labels/08_21C_0815_jpg.rf.3bf98196051b371bbe32ded30aaf716e.txt  \n",
      "  inflating: ./datasets/valid/labels/08_21C_0820_jpg.rf.2574c4dcdb97388443e094c868b4b68e.txt  \n",
      "  inflating: ./datasets/valid/labels/08_21C_0821_jpg.rf.7b8521c2550cc564d5dde8109e6f2eca.txt  \n",
      "  inflating: ./datasets/valid/labels/08_21C_0843_jpg.rf.4ffdfe76873be7bae95b26275aa62e0f.txt  \n",
      "  inflating: ./datasets/valid/labels/08_21C_0859_jpg.rf.980b39a8dc1e7563dc768c29cf3c05ab.txt  \n",
      "  inflating: ./datasets/valid/labels/08_21C_0861_jpg.rf.3e68526d13fecc592651adb096e0af6c.txt  \n",
      "  inflating: ./datasets/valid/labels/08_21C_0863_jpg.rf.0c33e60b51d8499ef864cfaf9da172eb.txt  \n",
      "  inflating: ./datasets/valid/labels/08_21C_0866_jpg.rf.cdfe80446d05f05b3f8af39584e11abe.txt  \n"
     ]
    }
   ],
   "source": [
    "!unzip ./datasets/datasets.zip -d ./datasets"
   ]
  },
  {
   "cell_type": "code",
   "execution_count": 14,
   "id": "273333a9-d90a-4f35-bcbc-860bdb4ffdb0",
   "metadata": {
    "tags": []
   },
   "outputs": [],
   "source": [
    "from ultralytics import YOLO"
   ]
  },
  {
   "cell_type": "code",
   "execution_count": null,
   "id": "d6d08e05-0b92-46e3-868d-e2adc2c1a37b",
   "metadata": {},
   "outputs": [],
   "source": [
    "!yolo task=detect mode=train model=yolo11s.pt data={dataset.location}/data.yaml epochs=10 imgsz=640 plots=True"
   ]
  },
  {
   "cell_type": "code",
   "execution_count": 18,
   "id": "c6a3b476-b311-4795-9bbf-44c70780d024",
   "metadata": {
    "tags": []
   },
   "outputs": [
    {
     "name": "stdout",
     "output_type": "stream",
     "text": [
      "Ultralytics 8.3.74 🚀 Python-3.10.14 torch-2.2.2 CUDA:0 (NVIDIA A10G, 22503MiB)\n",
      "                                                 CUDA:1 (NVIDIA A10G, 22503MiB)\n",
      "                                                 CUDA:2 (NVIDIA A10G, 22503MiB)\n",
      "                                                 CUDA:3 (NVIDIA A10G, 22503MiB)\n",
      "\u001b[34m\u001b[1mengine/trainer: \u001b[0mtask=detect, mode=train, model=./model/origin/yolo11n.pt, data=./datasets/data.yaml, epochs=100, time=None, patience=100, batch=16, imgsz=640, save=True, save_period=-1, cache=False, device=[0, 1, 2, 3], workers=8, project=None, name=train, exist_ok=False, pretrained=True, optimizer=auto, verbose=True, seed=0, deterministic=True, single_cls=False, rect=False, cos_lr=False, close_mosaic=10, resume=False, amp=True, fraction=1.0, profile=False, freeze=None, multi_scale=False, overlap_mask=True, mask_ratio=4, dropout=0.0, val=True, split=val, save_json=False, save_hybrid=False, conf=None, iou=0.7, max_det=300, half=False, dnn=False, plots=True, source=None, vid_stride=1, stream_buffer=False, visualize=False, augment=False, agnostic_nms=False, classes=None, retina_masks=False, embed=None, show=False, save_frames=False, save_txt=False, save_conf=False, save_crop=False, show_labels=True, show_conf=True, show_boxes=True, line_width=None, format=torchscript, keras=False, optimize=False, int8=False, dynamic=False, simplify=True, opset=None, workspace=None, nms=False, lr0=0.01, lrf=0.01, momentum=0.937, weight_decay=0.0005, warmup_epochs=3.0, warmup_momentum=0.8, warmup_bias_lr=0.1, box=7.5, cls=0.5, dfl=1.5, pose=12.0, kobj=1.0, nbs=64, hsv_h=0.015, hsv_s=0.7, hsv_v=0.4, degrees=0.0, translate=0.1, scale=0.5, shear=0.0, perspective=0.0, flipud=0.0, fliplr=0.5, bgr=0.0, mosaic=1.0, mixup=0.0, copy_paste=0.0, copy_paste_mode=flip, auto_augment=randaugment, erasing=0.4, crop_fraction=1.0, cfg=None, tracker=botsort.yaml, save_dir=runs/detect/train\n",
      "Downloading https://ultralytics.com/assets/Arial.ttf to '/home/ec2-user/.config/Ultralytics/Arial.ttf'...\n"
     ]
    },
    {
     "name": "stderr",
     "output_type": "stream",
     "text": [
      "100%|██████████| 755k/755k [00:00<00:00, 14.1MB/s]"
     ]
    },
    {
     "name": "stdout",
     "output_type": "stream",
     "text": [
      "Overriding model.yaml nc=80 with nc=23\n",
      "\n",
      "                   from  n    params  module                                       arguments                     \n"
     ]
    },
    {
     "name": "stderr",
     "output_type": "stream",
     "text": [
      "\n"
     ]
    },
    {
     "name": "stdout",
     "output_type": "stream",
     "text": [
      "  0                  -1  1       464  ultralytics.nn.modules.conv.Conv             [3, 16, 3, 2]                 \n",
      "  1                  -1  1      4672  ultralytics.nn.modules.conv.Conv             [16, 32, 3, 2]                \n",
      "  2                  -1  1      6640  ultralytics.nn.modules.block.C3k2            [32, 64, 1, False, 0.25]      \n",
      "  3                  -1  1     36992  ultralytics.nn.modules.conv.Conv             [64, 64, 3, 2]                \n",
      "  4                  -1  1     26080  ultralytics.nn.modules.block.C3k2            [64, 128, 1, False, 0.25]     \n",
      "  5                  -1  1    147712  ultralytics.nn.modules.conv.Conv             [128, 128, 3, 2]              \n",
      "  6                  -1  1     87040  ultralytics.nn.modules.block.C3k2            [128, 128, 1, True]           \n",
      "  7                  -1  1    295424  ultralytics.nn.modules.conv.Conv             [128, 256, 3, 2]              \n",
      "  8                  -1  1    346112  ultralytics.nn.modules.block.C3k2            [256, 256, 1, True]           \n",
      "  9                  -1  1    164608  ultralytics.nn.modules.block.SPPF            [256, 256, 5]                 \n",
      " 10                  -1  1    249728  ultralytics.nn.modules.block.C2PSA           [256, 256, 1]                 \n",
      " 11                  -1  1         0  torch.nn.modules.upsampling.Upsample         [None, 2, 'nearest']          \n",
      " 12             [-1, 6]  1         0  ultralytics.nn.modules.conv.Concat           [1]                           \n",
      " 13                  -1  1    111296  ultralytics.nn.modules.block.C3k2            [384, 128, 1, False]          \n",
      " 14                  -1  1         0  torch.nn.modules.upsampling.Upsample         [None, 2, 'nearest']          \n",
      " 15             [-1, 4]  1         0  ultralytics.nn.modules.conv.Concat           [1]                           \n",
      " 16                  -1  1     32096  ultralytics.nn.modules.block.C3k2            [256, 64, 1, False]           \n",
      " 17                  -1  1     36992  ultralytics.nn.modules.conv.Conv             [64, 64, 3, 2]                \n",
      " 18            [-1, 13]  1         0  ultralytics.nn.modules.conv.Concat           [1]                           \n",
      " 19                  -1  1     86720  ultralytics.nn.modules.block.C3k2            [192, 128, 1, False]          \n",
      " 20                  -1  1    147712  ultralytics.nn.modules.conv.Conv             [128, 128, 3, 2]              \n",
      " 21            [-1, 10]  1         0  ultralytics.nn.modules.conv.Concat           [1]                           \n",
      " 22                  -1  1    378880  ultralytics.nn.modules.block.C3k2            [384, 256, 1, True]           \n",
      " 23        [16, 19, 22]  1    435157  ultralytics.nn.modules.head.Detect           [23, [64, 128, 256]]          \n",
      "YOLO11n summary: 319 layers, 2,594,325 parameters, 2,594,309 gradients, 6.5 GFLOPs\n",
      "\n",
      "Transferred 448/499 items from pretrained weights\n",
      "\u001b[34m\u001b[1mDDP:\u001b[0m debug command /home/ec2-user/anaconda3/envs/pytorch_p310/bin/python -m torch.distributed.run --nproc_per_node 4 --master_port 54163 /home/ec2-user/.config/Ultralytics/DDP/_temp_2ve8y61a140590394635120.py\n",
      "Ultralytics 8.3.74 🚀 Python-3.10.14 torch-2.2.2 CUDA:0 (NVIDIA A10G, 22503MiB)\n",
      "                                                 CUDA:1 (NVIDIA A10G, 22503MiB)\n",
      "                                                 CUDA:2 (NVIDIA A10G, 22503MiB)\n",
      "                                                 CUDA:3 (NVIDIA A10G, 22503MiB)\n",
      "Overriding model.yaml nc=80 with nc=23\n",
      "Transferred 448/499 items from pretrained weights\n",
      "Freezing layer 'model.23.dfl.conv.weight'\n",
      "\u001b[34m\u001b[1mAMP: \u001b[0mrunning Automatic Mixed Precision (AMP) checks...\n",
      "Downloading https://github.com/ultralytics/assets/releases/download/v8.3.0/yolo11n.pt to 'yolo11n.pt'...\n"
     ]
    },
    {
     "name": "stderr",
     "output_type": "stream",
     "text": [
      "100%|██████████| 5.35M/5.35M [00:00<00:00, 68.7MB/s]\n"
     ]
    },
    {
     "name": "stdout",
     "output_type": "stream",
     "text": [
      "WARNING ⚠️ NMS time limit 2.400s exceeded\n",
      "\u001b[34m\u001b[1mAMP: \u001b[0mchecks passed ✅\n"
     ]
    },
    {
     "name": "stderr",
     "output_type": "stream",
     "text": [
      "\u001b[34m\u001b[1mtrain: \u001b[0mScanning /home/ec2-user/SageMaker/aws-ai-ml-workshop-kr/genai/aws-gen-ai-kr/20_applications/18_anomaly_detection_on_video/datasets/train/labels... 911 images, 0 backgrounds, 0 corrupt: 100%|██████████| 911/911 [00:00<00:00, 1198.08it/s]\n"
     ]
    },
    {
     "name": "stdout",
     "output_type": "stream",
     "text": [
      "\u001b[34m\u001b[1mtrain: \u001b[0mNew cache created: /home/ec2-user/SageMaker/aws-ai-ml-workshop-kr/genai/aws-gen-ai-kr/20_applications/18_anomaly_detection_on_video/datasets/train/labels.cache\n",
      "WARNING ⚠️ Box and segment counts should be equal, but got len(segments) = 23, len(boxes) = 16335. To resolve this only boxes will be used and all segments will be removed. To avoid this please supply either a detect or segment dataset, not a detect-segment mixed dataset.\n"
     ]
    },
    {
     "name": "stderr",
     "output_type": "stream",
     "text": [
      "/home/ec2-user/anaconda3/envs/pytorch_p310/lib/python3.10/site-packages/albumentations/__init__.py:24: UserWarning: A new version of Albumentations is available: 2.0.4 (you have 1.4.20). Upgrade using: pip install -U albumentations. To disable automatic update checks, set the environment variable NO_ALBUMENTATIONS_UPDATE to 1.\n",
      "  check_for_updates()\n",
      "\u001b[34m\u001b[1mval: \u001b[0mScanning /home/ec2-user/SageMaker/aws-ai-ml-workshop-kr/genai/aws-gen-ai-kr/20_applications/18_anomaly_detection_on_video/datasets/valid/labels...:   0%|          | 0/259 [00:00<?, ?it/s]"
     ]
    },
    {
     "name": "stdout",
     "output_type": "stream",
     "text": [
      "\u001b[34m\u001b[1malbumentations: \u001b[0mBlur(p=0.01, blur_limit=(3, 7)), MedianBlur(p=0.01, blur_limit=(3, 7)), ToGray(p=0.01, num_output_channels=3, method='weighted_average'), CLAHE(p=0.01, clip_limit=(1.0, 4.0), tile_grid_size=(8, 8))\n"
     ]
    },
    {
     "name": "stderr",
     "output_type": "stream",
     "text": [
      "\u001b[34m\u001b[1mval: \u001b[0mScanning /home/ec2-user/SageMaker/aws-ai-ml-workshop-kr/genai/aws-gen-ai-kr/20_applications/18_anomaly_detection_on_video/datasets/valid/labels... 259 images, 0 backgrounds, 0 corrupt: 100%|██████████| 259/259 [00:00<00:00, 1571.99it/s]\n"
     ]
    },
    {
     "name": "stdout",
     "output_type": "stream",
     "text": [
      "\u001b[34m\u001b[1mval: \u001b[0mWARNING ⚠️ /home/ec2-user/SageMaker/aws-ai-ml-workshop-kr/genai/aws-gen-ai-kr/20_applications/18_anomaly_detection_on_video/datasets/valid/images/08_21C_0250_jpg.rf.b164fca68a7a644a126019aa776912c1.jpg: 2 duplicate labels removed\n",
      "\u001b[34m\u001b[1mval: \u001b[0mNew cache created: /home/ec2-user/SageMaker/aws-ai-ml-workshop-kr/genai/aws-gen-ai-kr/20_applications/18_anomaly_detection_on_video/datasets/valid/labels.cache\n"
     ]
    },
    {
     "name": "stderr",
     "output_type": "stream",
     "text": [
      "/home/ec2-user/anaconda3/envs/pytorch_p310/lib/python3.10/site-packages/albumentations/__init__.py:24: UserWarning: A new version of Albumentations is available: 2.0.4 (you have 1.4.20). Upgrade using: pip install -U albumentations. To disable automatic update checks, set the environment variable NO_ALBUMENTATIONS_UPDATE to 1.\n",
      "  check_for_updates()\n",
      "/home/ec2-user/anaconda3/envs/pytorch_p310/lib/python3.10/site-packages/albumentations/__init__.py:24: UserWarning: A new version of Albumentations is available: 2.0.4 (you have 1.4.20). Upgrade using: pip install -U albumentations. To disable automatic update checks, set the environment variable NO_ALBUMENTATIONS_UPDATE to 1.\n",
      "  check_for_updates()\n",
      "/home/ec2-user/anaconda3/envs/pytorch_p310/lib/python3.10/site-packages/albumentations/__init__.py:24: UserWarning: A new version of Albumentations is available: 2.0.4 (you have 1.4.20). Upgrade using: pip install -U albumentations. To disable automatic update checks, set the environment variable NO_ALBUMENTATIONS_UPDATE to 1.\n",
      "  check_for_updates()\n"
     ]
    },
    {
     "name": "stdout",
     "output_type": "stream",
     "text": [
      "Plotting labels to runs/detect/train/labels.jpg... \n",
      "\u001b[34m\u001b[1moptimizer:\u001b[0m 'optimizer=auto' found, ignoring 'lr0=0.01' and 'momentum=0.937' and determining best 'optimizer', 'lr0' and 'momentum' automatically... \n",
      "\u001b[34m\u001b[1moptimizer:\u001b[0m AdamW(lr=0.00037, momentum=0.9) with parameter groups 81 weight(decay=0.0), 88 weight(decay=0.0005), 87 bias(decay=0.0)\n",
      "Image sizes 640 train, 640 val\n",
      "Using 32 dataloader workers\n",
      "Logging results to \u001b[1mruns/detect/train\u001b[0m\n",
      "Starting training for 100 epochs...\n",
      "\n",
      "      Epoch    GPU_mem   box_loss   cls_loss   dfl_loss  Instances       Size\n"
     ]
    },
    {
     "name": "stderr",
     "output_type": "stream",
     "text": [
      "      1/100     0.872G      1.671      4.862     0.9284        142        640: 100%|██████████| 57/57 [00:41<00:00,  1.37it/s]\n",
      "                 Class     Images  Instances      Box(P          R      mAP50  mAP50-95): 100%|██████████| 33/33 [00:06<00:00,  5.03it/s]\n"
     ]
    },
    {
     "name": "stdout",
     "output_type": "stream",
     "text": [
      "                   all        259       4652     0.0463    0.00277     0.0237     0.0164\n",
      "\n",
      "      Epoch    GPU_mem   box_loss   cls_loss   dfl_loss  Instances       Size\n"
     ]
    },
    {
     "name": "stderr",
     "output_type": "stream",
     "text": [
      "      2/100     0.998G      1.394      3.731     0.8597        110        640: 100%|██████████| 57/57 [00:05<00:00, 10.29it/s]\n",
      "                 Class     Images  Instances      Box(P          R      mAP50  mAP50-95): 100%|██████████| 33/33 [00:01<00:00, 22.21it/s]\n"
     ]
    },
    {
     "name": "stdout",
     "output_type": "stream",
     "text": [
      "                   all        259       4652      0.779      0.186      0.313      0.179\n",
      "\n",
      "      Epoch    GPU_mem   box_loss   cls_loss   dfl_loss  Instances       Size\n"
     ]
    },
    {
     "name": "stderr",
     "output_type": "stream",
     "text": [
      "      3/100         1G      1.359      2.365     0.8703         82        640: 100%|██████████| 57/57 [00:05<00:00, 10.70it/s]\n",
      "                 Class     Images  Instances      Box(P          R      mAP50  mAP50-95): 100%|██████████| 33/33 [00:01<00:00, 22.49it/s]\n"
     ]
    },
    {
     "name": "stdout",
     "output_type": "stream",
     "text": [
      "                   all        259       4652      0.458      0.528      0.482      0.313\n",
      "\n",
      "      Epoch    GPU_mem   box_loss   cls_loss   dfl_loss  Instances       Size\n"
     ]
    },
    {
     "name": "stderr",
     "output_type": "stream",
     "text": [
      "      4/100         1G       1.29      1.655     0.8529        159        640: 100%|██████████| 57/57 [00:05<00:00, 10.73it/s]\n",
      "                 Class     Images  Instances      Box(P          R      mAP50  mAP50-95): 100%|██████████| 33/33 [00:01<00:00, 22.35it/s]\n"
     ]
    },
    {
     "name": "stdout",
     "output_type": "stream",
     "text": [
      "                   all        259       4652      0.515      0.665      0.604      0.396\n",
      "\n",
      "      Epoch    GPU_mem   box_loss   cls_loss   dfl_loss  Instances       Size\n"
     ]
    },
    {
     "name": "stderr",
     "output_type": "stream",
     "text": [
      "      5/100         1G      1.262      1.346     0.8546         95        640: 100%|██████████| 57/57 [00:05<00:00, 10.78it/s]\n",
      "                 Class     Images  Instances      Box(P          R      mAP50  mAP50-95): 100%|██████████| 33/33 [00:01<00:00, 22.01it/s]\n"
     ]
    },
    {
     "name": "stdout",
     "output_type": "stream",
     "text": [
      "                   all        259       4652      0.692      0.732      0.709      0.463\n",
      "\n",
      "      Epoch    GPU_mem   box_loss   cls_loss   dfl_loss  Instances       Size\n"
     ]
    },
    {
     "name": "stderr",
     "output_type": "stream",
     "text": [
      "      6/100         1G      1.241      1.178     0.8586        190        640: 100%|██████████| 57/57 [00:05<00:00, 10.67it/s]\n",
      "                 Class     Images  Instances      Box(P          R      mAP50  mAP50-95): 100%|██████████| 33/33 [00:01<00:00, 22.27it/s]\n"
     ]
    },
    {
     "name": "stdout",
     "output_type": "stream",
     "text": [
      "                   all        259       4652      0.765      0.815      0.817      0.551\n",
      "\n",
      "      Epoch    GPU_mem   box_loss   cls_loss   dfl_loss  Instances       Size\n"
     ]
    },
    {
     "name": "stderr",
     "output_type": "stream",
     "text": [
      "      7/100         1G      1.212      1.063     0.8492        104        640: 100%|██████████| 57/57 [00:05<00:00,  9.52it/s]\n",
      "                 Class     Images  Instances      Box(P          R      mAP50  mAP50-95): 100%|██████████| 33/33 [00:01<00:00, 22.16it/s]\n"
     ]
    },
    {
     "name": "stdout",
     "output_type": "stream",
     "text": [
      "                   all        259       4652      0.834      0.868      0.891      0.597\n",
      "\n",
      "      Epoch    GPU_mem   box_loss   cls_loss   dfl_loss  Instances       Size\n"
     ]
    },
    {
     "name": "stderr",
     "output_type": "stream",
     "text": [
      "      8/100         1G      1.198     0.9571     0.8547         87        640: 100%|██████████| 57/57 [00:05<00:00, 10.67it/s]\n",
      "                 Class     Images  Instances      Box(P          R      mAP50  mAP50-95): 100%|██████████| 33/33 [00:01<00:00, 21.87it/s]\n"
     ]
    },
    {
     "name": "stdout",
     "output_type": "stream",
     "text": [
      "                   all        259       4652      0.846      0.886      0.916      0.628\n",
      "\n",
      "      Epoch    GPU_mem   box_loss   cls_loss   dfl_loss  Instances       Size\n"
     ]
    },
    {
     "name": "stderr",
     "output_type": "stream",
     "text": [
      "      9/100         1G      1.154     0.8789     0.8481        120        640: 100%|██████████| 57/57 [00:05<00:00, 10.68it/s]\n",
      "                 Class     Images  Instances      Box(P          R      mAP50  mAP50-95): 100%|██████████| 33/33 [00:01<00:00, 22.03it/s]\n"
     ]
    },
    {
     "name": "stdout",
     "output_type": "stream",
     "text": [
      "                   all        259       4652      0.911      0.907      0.944      0.648\n",
      "\n",
      "      Epoch    GPU_mem   box_loss   cls_loss   dfl_loss  Instances       Size\n"
     ]
    },
    {
     "name": "stderr",
     "output_type": "stream",
     "text": [
      "     10/100         1G      1.147     0.8332     0.8453        103        640: 100%|██████████| 57/57 [00:05<00:00, 10.61it/s]\n",
      "                 Class     Images  Instances      Box(P          R      mAP50  mAP50-95): 100%|██████████| 33/33 [00:01<00:00, 22.13it/s]\n"
     ]
    },
    {
     "name": "stdout",
     "output_type": "stream",
     "text": [
      "                   all        259       4652       0.93      0.925      0.959      0.669\n",
      "\n",
      "      Epoch    GPU_mem   box_loss   cls_loss   dfl_loss  Instances       Size\n"
     ]
    },
    {
     "name": "stderr",
     "output_type": "stream",
     "text": [
      "     11/100         1G      1.151     0.8051     0.8473        148        640: 100%|██████████| 57/57 [00:06<00:00,  9.41it/s]\n",
      "                 Class     Images  Instances      Box(P          R      mAP50  mAP50-95): 100%|██████████| 33/33 [00:01<00:00, 22.51it/s]\n"
     ]
    },
    {
     "name": "stdout",
     "output_type": "stream",
     "text": [
      "                   all        259       4652       0.94       0.94      0.966      0.665\n",
      "\n",
      "      Epoch    GPU_mem   box_loss   cls_loss   dfl_loss  Instances       Size\n"
     ]
    },
    {
     "name": "stderr",
     "output_type": "stream",
     "text": [
      "     12/100         1G       1.17      0.783     0.8485        144        640: 100%|██████████| 57/57 [00:05<00:00, 10.71it/s]\n",
      "                 Class     Images  Instances      Box(P          R      mAP50  mAP50-95): 100%|██████████| 33/33 [00:01<00:00, 21.97it/s]\n"
     ]
    },
    {
     "name": "stdout",
     "output_type": "stream",
     "text": [
      "                   all        259       4652      0.933      0.922      0.961      0.646\n",
      "\n",
      "      Epoch    GPU_mem   box_loss   cls_loss   dfl_loss  Instances       Size\n"
     ]
    },
    {
     "name": "stderr",
     "output_type": "stream",
     "text": [
      "     13/100         1G      1.129     0.7631     0.8448        168        640: 100%|██████████| 57/57 [00:05<00:00, 10.85it/s]\n",
      "                 Class     Images  Instances      Box(P          R      mAP50  mAP50-95): 100%|██████████| 33/33 [00:01<00:00, 22.33it/s]\n"
     ]
    },
    {
     "name": "stdout",
     "output_type": "stream",
     "text": [
      "                   all        259       4652      0.959      0.924      0.974      0.671\n",
      "\n",
      "      Epoch    GPU_mem   box_loss   cls_loss   dfl_loss  Instances       Size\n"
     ]
    },
    {
     "name": "stderr",
     "output_type": "stream",
     "text": [
      "     14/100         1G      1.095     0.7364     0.8418         87        640: 100%|██████████| 57/57 [00:05<00:00, 10.73it/s]\n",
      "                 Class     Images  Instances      Box(P          R      mAP50  mAP50-95): 100%|██████████| 33/33 [00:01<00:00, 22.61it/s]\n"
     ]
    },
    {
     "name": "stdout",
     "output_type": "stream",
     "text": [
      "                   all        259       4652      0.941      0.927      0.968      0.656\n",
      "\n",
      "      Epoch    GPU_mem   box_loss   cls_loss   dfl_loss  Instances       Size\n"
     ]
    },
    {
     "name": "stderr",
     "output_type": "stream",
     "text": [
      "     15/100         1G      1.102     0.7543      0.841        111        640: 100%|██████████| 57/57 [00:05<00:00, 10.76it/s]\n",
      "                 Class     Images  Instances      Box(P          R      mAP50  mAP50-95): 100%|██████████| 33/33 [00:01<00:00, 21.61it/s]\n"
     ]
    },
    {
     "name": "stdout",
     "output_type": "stream",
     "text": [
      "                   all        259       4652       0.96       0.94       0.98      0.687\n",
      "\n",
      "      Epoch    GPU_mem   box_loss   cls_loss   dfl_loss  Instances       Size\n"
     ]
    },
    {
     "name": "stderr",
     "output_type": "stream",
     "text": [
      "     16/100         1G      1.075     0.7061     0.8394        110        640: 100%|██████████| 57/57 [00:05<00:00, 10.97it/s]\n",
      "                 Class     Images  Instances      Box(P          R      mAP50  mAP50-95): 100%|██████████| 33/33 [00:01<00:00, 22.05it/s]\n"
     ]
    },
    {
     "name": "stdout",
     "output_type": "stream",
     "text": [
      "                   all        259       4652      0.944       0.93       0.97      0.693\n",
      "\n",
      "      Epoch    GPU_mem   box_loss   cls_loss   dfl_loss  Instances       Size\n"
     ]
    },
    {
     "name": "stderr",
     "output_type": "stream",
     "text": [
      "     17/100         1G      1.061     0.6963     0.8361        166        640: 100%|██████████| 57/57 [00:05<00:00, 10.92it/s]\n",
      "                 Class     Images  Instances      Box(P          R      mAP50  mAP50-95): 100%|██████████| 33/33 [00:01<00:00, 22.29it/s]\n"
     ]
    },
    {
     "name": "stdout",
     "output_type": "stream",
     "text": [
      "                   all        259       4652      0.963      0.957      0.983      0.698\n",
      "\n",
      "      Epoch    GPU_mem   box_loss   cls_loss   dfl_loss  Instances       Size\n"
     ]
    },
    {
     "name": "stderr",
     "output_type": "stream",
     "text": [
      "     18/100         1G      1.104     0.7027     0.8424         80        640: 100%|██████████| 57/57 [00:05<00:00, 10.75it/s]\n",
      "                 Class     Images  Instances      Box(P          R      mAP50  mAP50-95): 100%|██████████| 33/33 [00:01<00:00, 21.61it/s]\n"
     ]
    },
    {
     "name": "stdout",
     "output_type": "stream",
     "text": [
      "                   all        259       4652      0.966      0.956      0.984      0.704\n",
      "\n",
      "      Epoch    GPU_mem   box_loss   cls_loss   dfl_loss  Instances       Size\n"
     ]
    },
    {
     "name": "stderr",
     "output_type": "stream",
     "text": [
      "     19/100         1G      1.064     0.6754     0.8397         99        640: 100%|██████████| 57/57 [00:05<00:00, 10.92it/s]\n",
      "                 Class     Images  Instances      Box(P          R      mAP50  mAP50-95): 100%|██████████| 33/33 [00:01<00:00, 21.66it/s]\n"
     ]
    },
    {
     "name": "stdout",
     "output_type": "stream",
     "text": [
      "                   all        259       4652      0.968      0.953      0.985      0.706\n",
      "\n",
      "      Epoch    GPU_mem   box_loss   cls_loss   dfl_loss  Instances       Size\n"
     ]
    },
    {
     "name": "stderr",
     "output_type": "stream",
     "text": [
      "     20/100         1G      1.055     0.6588     0.8387         83        640: 100%|██████████| 57/57 [00:05<00:00, 10.89it/s]\n",
      "                 Class     Images  Instances      Box(P          R      mAP50  mAP50-95): 100%|██████████| 33/33 [00:01<00:00, 21.34it/s]\n"
     ]
    },
    {
     "name": "stdout",
     "output_type": "stream",
     "text": [
      "                   all        259       4652      0.971      0.967      0.987      0.715\n",
      "\n",
      "      Epoch    GPU_mem   box_loss   cls_loss   dfl_loss  Instances       Size\n"
     ]
    },
    {
     "name": "stderr",
     "output_type": "stream",
     "text": [
      "     21/100         1G      1.034     0.6445     0.8257        118        640: 100%|██████████| 57/57 [00:05<00:00, 10.86it/s]\n",
      "                 Class     Images  Instances      Box(P          R      mAP50  mAP50-95): 100%|██████████| 33/33 [00:01<00:00, 21.99it/s]\n"
     ]
    },
    {
     "name": "stdout",
     "output_type": "stream",
     "text": [
      "                   all        259       4652      0.972       0.95      0.983      0.712\n",
      "\n",
      "      Epoch    GPU_mem   box_loss   cls_loss   dfl_loss  Instances       Size\n"
     ]
    },
    {
     "name": "stderr",
     "output_type": "stream",
     "text": [
      "     22/100         1G      1.021     0.6443     0.8279        127        640: 100%|██████████| 57/57 [00:05<00:00, 10.52it/s]\n",
      "                 Class     Images  Instances      Box(P          R      mAP50  mAP50-95): 100%|██████████| 33/33 [00:01<00:00, 22.78it/s]\n"
     ]
    },
    {
     "name": "stdout",
     "output_type": "stream",
     "text": [
      "                   all        259       4652      0.976      0.962      0.987       0.71\n",
      "\n",
      "      Epoch    GPU_mem   box_loss   cls_loss   dfl_loss  Instances       Size\n"
     ]
    },
    {
     "name": "stderr",
     "output_type": "stream",
     "text": [
      "     23/100     0.998G      1.051     0.6496     0.8396         95        640: 100%|██████████| 57/57 [00:05<00:00, 10.90it/s]\n",
      "                 Class     Images  Instances      Box(P          R      mAP50  mAP50-95): 100%|██████████| 33/33 [00:01<00:00, 22.65it/s]\n"
     ]
    },
    {
     "name": "stdout",
     "output_type": "stream",
     "text": [
      "                   all        259       4652      0.975       0.97      0.988      0.722\n",
      "\n",
      "      Epoch    GPU_mem   box_loss   cls_loss   dfl_loss  Instances       Size\n"
     ]
    },
    {
     "name": "stderr",
     "output_type": "stream",
     "text": [
      "     24/100     0.998G     0.9978     0.6183     0.8255        120        640: 100%|██████████| 57/57 [00:05<00:00, 10.72it/s]\n",
      "                 Class     Images  Instances      Box(P          R      mAP50  mAP50-95): 100%|██████████| 33/33 [00:01<00:00, 22.55it/s]\n"
     ]
    },
    {
     "name": "stdout",
     "output_type": "stream",
     "text": [
      "                   all        259       4652      0.981      0.967      0.989      0.713\n",
      "\n",
      "      Epoch    GPU_mem   box_loss   cls_loss   dfl_loss  Instances       Size\n"
     ]
    },
    {
     "name": "stderr",
     "output_type": "stream",
     "text": [
      "     25/100     0.998G     0.9987     0.6176     0.8262        127        640: 100%|██████████| 57/57 [00:05<00:00, 10.63it/s]\n",
      "                 Class     Images  Instances      Box(P          R      mAP50  mAP50-95): 100%|██████████| 33/33 [00:01<00:00, 22.01it/s]\n"
     ]
    },
    {
     "name": "stdout",
     "output_type": "stream",
     "text": [
      "                   all        259       4652       0.98      0.964      0.989      0.717\n",
      "\n",
      "      Epoch    GPU_mem   box_loss   cls_loss   dfl_loss  Instances       Size\n"
     ]
    },
    {
     "name": "stderr",
     "output_type": "stream",
     "text": [
      "     26/100     0.998G      1.001     0.6224      0.826         93        640: 100%|██████████| 57/57 [00:05<00:00, 10.59it/s]\n",
      "                 Class     Images  Instances      Box(P          R      mAP50  mAP50-95): 100%|██████████| 33/33 [00:01<00:00, 21.81it/s]\n"
     ]
    },
    {
     "name": "stdout",
     "output_type": "stream",
     "text": [
      "                   all        259       4652      0.979      0.971      0.989      0.718\n",
      "\n",
      "      Epoch    GPU_mem   box_loss   cls_loss   dfl_loss  Instances       Size\n"
     ]
    },
    {
     "name": "stderr",
     "output_type": "stream",
     "text": [
      "     27/100     0.998G      0.957     0.6094     0.8214        121        640: 100%|██████████| 57/57 [00:05<00:00, 10.80it/s]\n",
      "                 Class     Images  Instances      Box(P          R      mAP50  mAP50-95): 100%|██████████| 33/33 [00:01<00:00, 22.74it/s]\n"
     ]
    },
    {
     "name": "stdout",
     "output_type": "stream",
     "text": [
      "                   all        259       4652       0.98      0.971      0.989      0.726\n",
      "\n",
      "      Epoch    GPU_mem   box_loss   cls_loss   dfl_loss  Instances       Size\n"
     ]
    },
    {
     "name": "stderr",
     "output_type": "stream",
     "text": [
      "     28/100         1G     0.9598     0.5843     0.8286        126        640: 100%|██████████| 57/57 [00:05<00:00, 10.97it/s]\n",
      "                 Class     Images  Instances      Box(P          R      mAP50  mAP50-95): 100%|██████████| 33/33 [00:01<00:00, 22.25it/s]\n"
     ]
    },
    {
     "name": "stdout",
     "output_type": "stream",
     "text": [
      "                   all        259       4652      0.982      0.975      0.989      0.731\n",
      "\n",
      "      Epoch    GPU_mem   box_loss   cls_loss   dfl_loss  Instances       Size\n"
     ]
    },
    {
     "name": "stderr",
     "output_type": "stream",
     "text": [
      "     29/100         1G      0.964     0.5859      0.826        140        640: 100%|██████████| 57/57 [00:05<00:00, 10.14it/s]\n",
      "                 Class     Images  Instances      Box(P          R      mAP50  mAP50-95): 100%|██████████| 33/33 [00:01<00:00, 22.62it/s]\n"
     ]
    },
    {
     "name": "stdout",
     "output_type": "stream",
     "text": [
      "                   all        259       4652      0.985      0.975       0.99      0.738\n",
      "\n",
      "      Epoch    GPU_mem   box_loss   cls_loss   dfl_loss  Instances       Size\n"
     ]
    },
    {
     "name": "stderr",
     "output_type": "stream",
     "text": [
      "     30/100     0.998G       0.94      0.583      0.824        102        640: 100%|██████████| 57/57 [00:05<00:00, 10.86it/s]\n",
      "                 Class     Images  Instances      Box(P          R      mAP50  mAP50-95): 100%|██████████| 33/33 [00:01<00:00, 22.71it/s]\n"
     ]
    },
    {
     "name": "stdout",
     "output_type": "stream",
     "text": [
      "                   all        259       4652      0.982      0.969      0.989      0.739\n",
      "\n",
      "      Epoch    GPU_mem   box_loss   cls_loss   dfl_loss  Instances       Size\n"
     ]
    },
    {
     "name": "stderr",
     "output_type": "stream",
     "text": [
      "     31/100     0.998G     0.9401     0.5775     0.8227        124        640: 100%|██████████| 57/57 [00:05<00:00, 10.73it/s]\n",
      "                 Class     Images  Instances      Box(P          R      mAP50  mAP50-95): 100%|██████████| 33/33 [00:01<00:00, 22.37it/s]\n"
     ]
    },
    {
     "name": "stdout",
     "output_type": "stream",
     "text": [
      "                   all        259       4652       0.98      0.968      0.988      0.734\n",
      "\n",
      "      Epoch    GPU_mem   box_loss   cls_loss   dfl_loss  Instances       Size\n"
     ]
    },
    {
     "name": "stderr",
     "output_type": "stream",
     "text": [
      "     32/100     0.998G     0.9424     0.5732     0.8211        125        640: 100%|██████████| 57/57 [00:05<00:00, 10.91it/s]\n",
      "                 Class     Images  Instances      Box(P          R      mAP50  mAP50-95): 100%|██████████| 33/33 [00:01<00:00, 22.44it/s]\n"
     ]
    },
    {
     "name": "stdout",
     "output_type": "stream",
     "text": [
      "                   all        259       4652      0.986      0.975       0.99      0.739\n",
      "\n",
      "      Epoch    GPU_mem   box_loss   cls_loss   dfl_loss  Instances       Size\n"
     ]
    },
    {
     "name": "stderr",
     "output_type": "stream",
     "text": [
      "     33/100     0.998G     0.9177     0.5636     0.8165        139        640: 100%|██████████| 57/57 [00:05<00:00, 10.76it/s]\n",
      "                 Class     Images  Instances      Box(P          R      mAP50  mAP50-95): 100%|██████████| 33/33 [00:01<00:00, 22.87it/s]\n"
     ]
    },
    {
     "name": "stdout",
     "output_type": "stream",
     "text": [
      "                   all        259       4652      0.987      0.977       0.99      0.744\n",
      "\n",
      "      Epoch    GPU_mem   box_loss   cls_loss   dfl_loss  Instances       Size\n"
     ]
    },
    {
     "name": "stderr",
     "output_type": "stream",
     "text": [
      "     34/100     0.998G     0.9243     0.5731     0.8222        120        640: 100%|██████████| 57/57 [00:05<00:00, 10.97it/s]\n",
      "                 Class     Images  Instances      Box(P          R      mAP50  mAP50-95): 100%|██████████| 33/33 [00:01<00:00, 22.31it/s]\n"
     ]
    },
    {
     "name": "stdout",
     "output_type": "stream",
     "text": [
      "                   all        259       4652      0.987      0.979       0.99      0.754\n",
      "\n",
      "      Epoch    GPU_mem   box_loss   cls_loss   dfl_loss  Instances       Size\n"
     ]
    },
    {
     "name": "stderr",
     "output_type": "stream",
     "text": [
      "     35/100     0.998G     0.9015     0.5482     0.8196         53        640: 100%|██████████| 57/57 [00:05<00:00, 10.92it/s]\n",
      "                 Class     Images  Instances      Box(P          R      mAP50  mAP50-95): 100%|██████████| 33/33 [00:01<00:00, 21.77it/s]\n"
     ]
    },
    {
     "name": "stdout",
     "output_type": "stream",
     "text": [
      "                   all        259       4652      0.983      0.978      0.989      0.752\n",
      "\n",
      "      Epoch    GPU_mem   box_loss   cls_loss   dfl_loss  Instances       Size\n"
     ]
    },
    {
     "name": "stderr",
     "output_type": "stream",
     "text": [
      "     36/100     0.998G     0.8943     0.5508     0.8147         99        640: 100%|██████████| 57/57 [00:05<00:00, 10.76it/s]\n",
      "                 Class     Images  Instances      Box(P          R      mAP50  mAP50-95): 100%|██████████| 33/33 [00:01<00:00, 22.79it/s]\n"
     ]
    },
    {
     "name": "stdout",
     "output_type": "stream",
     "text": [
      "                   all        259       4652      0.983      0.974      0.989      0.746\n",
      "\n",
      "      Epoch    GPU_mem   box_loss   cls_loss   dfl_loss  Instances       Size\n"
     ]
    },
    {
     "name": "stderr",
     "output_type": "stream",
     "text": [
      "     37/100     0.998G     0.9184     0.5486      0.817        142        640: 100%|██████████| 57/57 [00:05<00:00, 10.85it/s]\n",
      "                 Class     Images  Instances      Box(P          R      mAP50  mAP50-95): 100%|██████████| 33/33 [00:01<00:00, 22.90it/s]\n"
     ]
    },
    {
     "name": "stdout",
     "output_type": "stream",
     "text": [
      "                   all        259       4652      0.983      0.978       0.99      0.754\n",
      "\n",
      "      Epoch    GPU_mem   box_loss   cls_loss   dfl_loss  Instances       Size\n"
     ]
    },
    {
     "name": "stderr",
     "output_type": "stream",
     "text": [
      "     38/100     0.998G     0.8914      0.548      0.821         98        640: 100%|██████████| 57/57 [00:05<00:00, 10.80it/s]\n",
      "                 Class     Images  Instances      Box(P          R      mAP50  mAP50-95): 100%|██████████| 33/33 [00:01<00:00, 22.98it/s]\n"
     ]
    },
    {
     "name": "stdout",
     "output_type": "stream",
     "text": [
      "                   all        259       4652      0.986      0.981      0.991       0.75\n",
      "\n",
      "      Epoch    GPU_mem   box_loss   cls_loss   dfl_loss  Instances       Size\n"
     ]
    },
    {
     "name": "stderr",
     "output_type": "stream",
     "text": [
      "     39/100     0.998G     0.8903     0.5406     0.8222        111        640: 100%|██████████| 57/57 [00:05<00:00, 10.78it/s]\n",
      "                 Class     Images  Instances      Box(P          R      mAP50  mAP50-95): 100%|██████████| 33/33 [00:01<00:00, 22.87it/s]\n"
     ]
    },
    {
     "name": "stdout",
     "output_type": "stream",
     "text": [
      "                   all        259       4652      0.979      0.977      0.989       0.75\n",
      "\n",
      "      Epoch    GPU_mem   box_loss   cls_loss   dfl_loss  Instances       Size\n"
     ]
    },
    {
     "name": "stderr",
     "output_type": "stream",
     "text": [
      "     40/100     0.998G     0.9114     0.5419     0.8178        120        640: 100%|██████████| 57/57 [00:05<00:00, 10.68it/s]\n",
      "                 Class     Images  Instances      Box(P          R      mAP50  mAP50-95): 100%|██████████| 33/33 [00:01<00:00, 22.89it/s]\n"
     ]
    },
    {
     "name": "stdout",
     "output_type": "stream",
     "text": [
      "                   all        259       4652       0.99      0.977      0.991      0.757\n",
      "\n",
      "      Epoch    GPU_mem   box_loss   cls_loss   dfl_loss  Instances       Size\n"
     ]
    },
    {
     "name": "stderr",
     "output_type": "stream",
     "text": [
      "     41/100     0.998G     0.9093     0.5485     0.8207        148        640: 100%|██████████| 57/57 [00:05<00:00, 10.61it/s]\n",
      "                 Class     Images  Instances      Box(P          R      mAP50  mAP50-95): 100%|██████████| 33/33 [00:01<00:00, 22.83it/s]\n"
     ]
    },
    {
     "name": "stdout",
     "output_type": "stream",
     "text": [
      "                   all        259       4652       0.99       0.98      0.991      0.759\n",
      "\n",
      "      Epoch    GPU_mem   box_loss   cls_loss   dfl_loss  Instances       Size\n"
     ]
    },
    {
     "name": "stderr",
     "output_type": "stream",
     "text": [
      "     42/100     0.998G     0.8678     0.5459     0.8155        142        640: 100%|██████████| 57/57 [00:05<00:00, 10.73it/s]\n",
      "                 Class     Images  Instances      Box(P          R      mAP50  mAP50-95): 100%|██████████| 33/33 [00:01<00:00, 21.91it/s]\n"
     ]
    },
    {
     "name": "stdout",
     "output_type": "stream",
     "text": [
      "                   all        259       4652      0.989      0.981      0.991      0.768\n",
      "\n",
      "      Epoch    GPU_mem   box_loss   cls_loss   dfl_loss  Instances       Size\n"
     ]
    },
    {
     "name": "stderr",
     "output_type": "stream",
     "text": [
      "     43/100     0.998G     0.8334     0.5117     0.8152        119        640: 100%|██████████| 57/57 [00:05<00:00,  9.52it/s]\n",
      "                 Class     Images  Instances      Box(P          R      mAP50  mAP50-95): 100%|██████████| 33/33 [00:01<00:00, 22.97it/s]\n"
     ]
    },
    {
     "name": "stdout",
     "output_type": "stream",
     "text": [
      "                   all        259       4652      0.984      0.983      0.991      0.764\n",
      "\n",
      "      Epoch    GPU_mem   box_loss   cls_loss   dfl_loss  Instances       Size\n"
     ]
    },
    {
     "name": "stderr",
     "output_type": "stream",
     "text": [
      "     44/100     0.998G     0.8652     0.5248     0.8173        122        640: 100%|██████████| 57/57 [00:05<00:00, 10.69it/s]\n",
      "                 Class     Images  Instances      Box(P          R      mAP50  mAP50-95): 100%|██████████| 33/33 [00:01<00:00, 23.11it/s]\n"
     ]
    },
    {
     "name": "stdout",
     "output_type": "stream",
     "text": [
      "                   all        259       4652      0.989      0.984      0.992      0.769\n",
      "\n",
      "      Epoch    GPU_mem   box_loss   cls_loss   dfl_loss  Instances       Size\n"
     ]
    },
    {
     "name": "stderr",
     "output_type": "stream",
     "text": [
      "     45/100     0.998G     0.8503     0.5188     0.8152        141        640: 100%|██████████| 57/57 [00:05<00:00, 10.61it/s]\n",
      "                 Class     Images  Instances      Box(P          R      mAP50  mAP50-95): 100%|██████████| 33/33 [00:01<00:00, 22.74it/s]\n"
     ]
    },
    {
     "name": "stdout",
     "output_type": "stream",
     "text": [
      "                   all        259       4652      0.988      0.981      0.991      0.774\n",
      "\n",
      "      Epoch    GPU_mem   box_loss   cls_loss   dfl_loss  Instances       Size\n"
     ]
    },
    {
     "name": "stderr",
     "output_type": "stream",
     "text": [
      "     46/100     0.998G     0.8492     0.5125     0.8133        205        640: 100%|██████████| 57/57 [00:05<00:00, 10.58it/s]\n",
      "                 Class     Images  Instances      Box(P          R      mAP50  mAP50-95): 100%|██████████| 33/33 [00:01<00:00, 22.03it/s]\n"
     ]
    },
    {
     "name": "stdout",
     "output_type": "stream",
     "text": [
      "                   all        259       4652      0.988      0.981      0.991      0.777\n",
      "\n",
      "      Epoch    GPU_mem   box_loss   cls_loss   dfl_loss  Instances       Size\n"
     ]
    },
    {
     "name": "stderr",
     "output_type": "stream",
     "text": [
      "     47/100     0.998G     0.8275     0.5092     0.8136         98        640: 100%|██████████| 57/57 [00:06<00:00,  9.38it/s]\n",
      "                 Class     Images  Instances      Box(P          R      mAP50  mAP50-95): 100%|██████████| 33/33 [00:01<00:00, 22.85it/s]\n"
     ]
    },
    {
     "name": "stdout",
     "output_type": "stream",
     "text": [
      "                   all        259       4652      0.987      0.976      0.991      0.776\n",
      "\n",
      "      Epoch    GPU_mem   box_loss   cls_loss   dfl_loss  Instances       Size\n"
     ]
    },
    {
     "name": "stderr",
     "output_type": "stream",
     "text": [
      "     48/100     0.998G     0.8146     0.5036     0.8129        128        640: 100%|██████████| 57/57 [00:05<00:00, 10.57it/s]\n",
      "                 Class     Images  Instances      Box(P          R      mAP50  mAP50-95): 100%|██████████| 33/33 [00:01<00:00, 22.63it/s]\n"
     ]
    },
    {
     "name": "stdout",
     "output_type": "stream",
     "text": [
      "                   all        259       4652      0.984      0.985      0.991       0.78\n",
      "\n",
      "      Epoch    GPU_mem   box_loss   cls_loss   dfl_loss  Instances       Size\n"
     ]
    },
    {
     "name": "stderr",
     "output_type": "stream",
     "text": [
      "     49/100     0.998G     0.8232     0.4947     0.8118        133        640: 100%|██████████| 57/57 [00:05<00:00, 10.74it/s]\n",
      "                 Class     Images  Instances      Box(P          R      mAP50  mAP50-95): 100%|██████████| 33/33 [00:01<00:00, 22.56it/s]\n"
     ]
    },
    {
     "name": "stdout",
     "output_type": "stream",
     "text": [
      "                   all        259       4652      0.987      0.983      0.991      0.777\n",
      "\n",
      "      Epoch    GPU_mem   box_loss   cls_loss   dfl_loss  Instances       Size\n"
     ]
    },
    {
     "name": "stderr",
     "output_type": "stream",
     "text": [
      "     50/100     0.998G     0.8054     0.4934     0.8078        124        640: 100%|██████████| 57/57 [00:05<00:00, 10.57it/s]\n",
      "                 Class     Images  Instances      Box(P          R      mAP50  mAP50-95): 100%|██████████| 33/33 [00:01<00:00, 23.12it/s]\n"
     ]
    },
    {
     "name": "stdout",
     "output_type": "stream",
     "text": [
      "                   all        259       4652      0.987      0.985      0.991      0.781\n",
      "\n",
      "      Epoch    GPU_mem   box_loss   cls_loss   dfl_loss  Instances       Size\n"
     ]
    },
    {
     "name": "stderr",
     "output_type": "stream",
     "text": [
      "     51/100     0.998G      0.804     0.4893     0.8122        149        640: 100%|██████████| 57/57 [00:05<00:00, 10.61it/s]\n",
      "                 Class     Images  Instances      Box(P          R      mAP50  mAP50-95): 100%|██████████| 33/33 [00:01<00:00, 22.89it/s]\n"
     ]
    },
    {
     "name": "stdout",
     "output_type": "stream",
     "text": [
      "                   all        259       4652      0.991      0.981      0.991      0.783\n",
      "\n",
      "      Epoch    GPU_mem   box_loss   cls_loss   dfl_loss  Instances       Size\n"
     ]
    },
    {
     "name": "stderr",
     "output_type": "stream",
     "text": [
      "     52/100     0.998G     0.8217     0.4871     0.8133         97        640: 100%|██████████| 57/57 [00:05<00:00, 10.79it/s]\n",
      "                 Class     Images  Instances      Box(P          R      mAP50  mAP50-95): 100%|██████████| 33/33 [00:01<00:00, 22.24it/s]\n"
     ]
    },
    {
     "name": "stdout",
     "output_type": "stream",
     "text": [
      "                   all        259       4652      0.985       0.98      0.991      0.785\n",
      "\n",
      "      Epoch    GPU_mem   box_loss   cls_loss   dfl_loss  Instances       Size\n"
     ]
    },
    {
     "name": "stderr",
     "output_type": "stream",
     "text": [
      "     53/100     0.998G     0.8107     0.4825     0.8142         80        640: 100%|██████████| 57/57 [00:05<00:00, 10.70it/s]\n",
      "                 Class     Images  Instances      Box(P          R      mAP50  mAP50-95): 100%|██████████| 33/33 [00:01<00:00, 23.01it/s]\n"
     ]
    },
    {
     "name": "stdout",
     "output_type": "stream",
     "text": [
      "                   all        259       4652      0.988      0.985      0.992      0.786\n",
      "\n",
      "      Epoch    GPU_mem   box_loss   cls_loss   dfl_loss  Instances       Size\n"
     ]
    },
    {
     "name": "stderr",
     "output_type": "stream",
     "text": [
      "     54/100     0.998G     0.8076     0.4882     0.8093        165        640: 100%|██████████| 57/57 [00:05<00:00, 10.83it/s]\n",
      "                 Class     Images  Instances      Box(P          R      mAP50  mAP50-95): 100%|██████████| 33/33 [00:01<00:00, 22.89it/s]\n"
     ]
    },
    {
     "name": "stdout",
     "output_type": "stream",
     "text": [
      "                   all        259       4652      0.986      0.984      0.992      0.787\n",
      "\n",
      "      Epoch    GPU_mem   box_loss   cls_loss   dfl_loss  Instances       Size\n"
     ]
    },
    {
     "name": "stderr",
     "output_type": "stream",
     "text": [
      "     55/100     0.998G     0.7926     0.4846     0.8038         91        640: 100%|██████████| 57/57 [00:05<00:00, 10.92it/s]\n",
      "                 Class     Images  Instances      Box(P          R      mAP50  mAP50-95): 100%|██████████| 33/33 [00:01<00:00, 22.28it/s]\n"
     ]
    },
    {
     "name": "stdout",
     "output_type": "stream",
     "text": [
      "                   all        259       4652       0.99      0.983      0.992      0.792\n",
      "\n",
      "      Epoch    GPU_mem   box_loss   cls_loss   dfl_loss  Instances       Size\n"
     ]
    },
    {
     "name": "stderr",
     "output_type": "stream",
     "text": [
      "     56/100     0.998G     0.7839     0.4737     0.8102        114        640: 100%|██████████| 57/57 [00:05<00:00, 10.98it/s]\n",
      "                 Class     Images  Instances      Box(P          R      mAP50  mAP50-95): 100%|██████████| 33/33 [00:01<00:00, 22.93it/s]\n"
     ]
    },
    {
     "name": "stdout",
     "output_type": "stream",
     "text": [
      "                   all        259       4652      0.989      0.982      0.992      0.796\n",
      "\n",
      "      Epoch    GPU_mem   box_loss   cls_loss   dfl_loss  Instances       Size\n"
     ]
    },
    {
     "name": "stderr",
     "output_type": "stream",
     "text": [
      "     57/100     0.998G     0.7587     0.4664      0.801        166        640: 100%|██████████| 57/57 [00:05<00:00, 10.83it/s]\n",
      "                 Class     Images  Instances      Box(P          R      mAP50  mAP50-95): 100%|██████████| 33/33 [00:01<00:00, 22.60it/s]\n"
     ]
    },
    {
     "name": "stdout",
     "output_type": "stream",
     "text": [
      "                   all        259       4652       0.99      0.983      0.992      0.791\n",
      "\n",
      "      Epoch    GPU_mem   box_loss   cls_loss   dfl_loss  Instances       Size\n"
     ]
    },
    {
     "name": "stderr",
     "output_type": "stream",
     "text": [
      "     58/100     0.998G     0.7722     0.4631     0.8087        148        640: 100%|██████████| 57/57 [00:05<00:00, 10.81it/s]\n",
      "                 Class     Images  Instances      Box(P          R      mAP50  mAP50-95): 100%|██████████| 33/33 [00:01<00:00, 22.43it/s]\n"
     ]
    },
    {
     "name": "stdout",
     "output_type": "stream",
     "text": [
      "                   all        259       4652      0.989      0.983      0.992      0.791\n",
      "\n",
      "      Epoch    GPU_mem   box_loss   cls_loss   dfl_loss  Instances       Size\n"
     ]
    },
    {
     "name": "stderr",
     "output_type": "stream",
     "text": [
      "     59/100     0.998G     0.7793     0.4636     0.8109        133        640: 100%|██████████| 57/57 [00:05<00:00, 10.88it/s]\n",
      "                 Class     Images  Instances      Box(P          R      mAP50  mAP50-95): 100%|██████████| 33/33 [00:01<00:00, 22.57it/s]\n"
     ]
    },
    {
     "name": "stdout",
     "output_type": "stream",
     "text": [
      "                   all        259       4652      0.988      0.981      0.991      0.789\n",
      "\n",
      "      Epoch    GPU_mem   box_loss   cls_loss   dfl_loss  Instances       Size\n"
     ]
    },
    {
     "name": "stderr",
     "output_type": "stream",
     "text": [
      "     60/100     0.998G     0.7708     0.4635     0.8082        125        640: 100%|██████████| 57/57 [00:05<00:00, 10.90it/s]\n",
      "                 Class     Images  Instances      Box(P          R      mAP50  mAP50-95): 100%|██████████| 33/33 [00:01<00:00, 22.88it/s]\n"
     ]
    },
    {
     "name": "stdout",
     "output_type": "stream",
     "text": [
      "                   all        259       4652      0.989      0.983      0.992      0.799\n",
      "\n",
      "      Epoch    GPU_mem   box_loss   cls_loss   dfl_loss  Instances       Size\n"
     ]
    },
    {
     "name": "stderr",
     "output_type": "stream",
     "text": [
      "     61/100     0.998G     0.7738      0.457     0.8085        104        640: 100%|██████████| 57/57 [00:05<00:00, 10.97it/s]\n",
      "                 Class     Images  Instances      Box(P          R      mAP50  mAP50-95): 100%|██████████| 33/33 [00:01<00:00, 22.64it/s]\n"
     ]
    },
    {
     "name": "stdout",
     "output_type": "stream",
     "text": [
      "                   all        259       4652       0.99      0.984      0.992      0.797\n",
      "\n",
      "      Epoch    GPU_mem   box_loss   cls_loss   dfl_loss  Instances       Size\n"
     ]
    },
    {
     "name": "stderr",
     "output_type": "stream",
     "text": [
      "     62/100     0.998G      0.763     0.4802     0.8146        106        640: 100%|██████████| 57/57 [00:05<00:00, 10.80it/s]\n",
      "                 Class     Images  Instances      Box(P          R      mAP50  mAP50-95): 100%|██████████| 33/33 [00:01<00:00, 22.46it/s]\n"
     ]
    },
    {
     "name": "stdout",
     "output_type": "stream",
     "text": [
      "                   all        259       4652       0.99      0.983      0.992      0.796\n",
      "\n",
      "      Epoch    GPU_mem   box_loss   cls_loss   dfl_loss  Instances       Size\n"
     ]
    },
    {
     "name": "stderr",
     "output_type": "stream",
     "text": [
      "     63/100     0.998G     0.7488     0.4862     0.8067        127        640: 100%|██████████| 57/57 [00:05<00:00, 10.88it/s]\n",
      "                 Class     Images  Instances      Box(P          R      mAP50  mAP50-95): 100%|██████████| 33/33 [00:01<00:00, 22.13it/s]\n"
     ]
    },
    {
     "name": "stdout",
     "output_type": "stream",
     "text": [
      "                   all        259       4652      0.992      0.982      0.992      0.799\n",
      "\n",
      "      Epoch    GPU_mem   box_loss   cls_loss   dfl_loss  Instances       Size\n"
     ]
    },
    {
     "name": "stderr",
     "output_type": "stream",
     "text": [
      "     64/100     0.998G     0.7575     0.4531     0.8033        100        640: 100%|██████████| 57/57 [00:05<00:00, 10.84it/s]\n",
      "                 Class     Images  Instances      Box(P          R      mAP50  mAP50-95): 100%|██████████| 33/33 [00:01<00:00, 22.64it/s]\n"
     ]
    },
    {
     "name": "stdout",
     "output_type": "stream",
     "text": [
      "                   all        259       4652      0.987      0.986      0.992      0.802\n",
      "\n",
      "      Epoch    GPU_mem   box_loss   cls_loss   dfl_loss  Instances       Size\n"
     ]
    },
    {
     "name": "stderr",
     "output_type": "stream",
     "text": [
      "     65/100     0.998G     0.7535     0.4545     0.8072        114        640: 100%|██████████| 57/57 [00:05<00:00, 10.78it/s]\n",
      "                 Class     Images  Instances      Box(P          R      mAP50  mAP50-95): 100%|██████████| 33/33 [00:01<00:00, 22.81it/s]\n"
     ]
    },
    {
     "name": "stdout",
     "output_type": "stream",
     "text": [
      "                   all        259       4652      0.985      0.988      0.992      0.794\n",
      "\n",
      "      Epoch    GPU_mem   box_loss   cls_loss   dfl_loss  Instances       Size\n"
     ]
    },
    {
     "name": "stderr",
     "output_type": "stream",
     "text": [
      "     66/100     0.998G     0.7525      0.458     0.8046        146        640: 100%|██████████| 57/57 [00:05<00:00, 10.81it/s]\n",
      "                 Class     Images  Instances      Box(P          R      mAP50  mAP50-95): 100%|██████████| 33/33 [00:01<00:00, 22.92it/s]\n"
     ]
    },
    {
     "name": "stdout",
     "output_type": "stream",
     "text": [
      "                   all        259       4652      0.987      0.983      0.991      0.798\n",
      "\n",
      "      Epoch    GPU_mem   box_loss   cls_loss   dfl_loss  Instances       Size\n"
     ]
    },
    {
     "name": "stderr",
     "output_type": "stream",
     "text": [
      "     67/100     0.998G     0.7369     0.4486     0.8015         73        640: 100%|██████████| 57/57 [00:05<00:00, 10.87it/s]\n",
      "                 Class     Images  Instances      Box(P          R      mAP50  mAP50-95): 100%|██████████| 33/33 [00:01<00:00, 22.60it/s]\n"
     ]
    },
    {
     "name": "stdout",
     "output_type": "stream",
     "text": [
      "                   all        259       4652      0.993      0.982      0.992      0.806\n",
      "\n",
      "      Epoch    GPU_mem   box_loss   cls_loss   dfl_loss  Instances       Size\n"
     ]
    },
    {
     "name": "stderr",
     "output_type": "stream",
     "text": [
      "     68/100     0.998G     0.7411     0.4491     0.8016        164        640: 100%|██████████| 57/57 [00:05<00:00, 10.95it/s]\n",
      "                 Class     Images  Instances      Box(P          R      mAP50  mAP50-95): 100%|██████████| 33/33 [00:01<00:00, 22.41it/s]\n"
     ]
    },
    {
     "name": "stdout",
     "output_type": "stream",
     "text": [
      "                   all        259       4652      0.992      0.984      0.992      0.803\n",
      "\n",
      "      Epoch    GPU_mem   box_loss   cls_loss   dfl_loss  Instances       Size\n"
     ]
    },
    {
     "name": "stderr",
     "output_type": "stream",
     "text": [
      "     69/100     0.998G     0.7266     0.4379     0.8073        108        640: 100%|██████████| 57/57 [00:05<00:00, 10.93it/s]\n",
      "                 Class     Images  Instances      Box(P          R      mAP50  mAP50-95): 100%|██████████| 33/33 [00:01<00:00, 22.19it/s]\n"
     ]
    },
    {
     "name": "stdout",
     "output_type": "stream",
     "text": [
      "                   all        259       4652      0.991      0.981      0.992      0.805\n",
      "\n",
      "      Epoch    GPU_mem   box_loss   cls_loss   dfl_loss  Instances       Size\n"
     ]
    },
    {
     "name": "stderr",
     "output_type": "stream",
     "text": [
      "     70/100     0.998G      0.728     0.4482     0.8051         96        640: 100%|██████████| 57/57 [00:05<00:00, 10.91it/s]\n",
      "                 Class     Images  Instances      Box(P          R      mAP50  mAP50-95): 100%|██████████| 33/33 [00:01<00:00, 22.17it/s]\n"
     ]
    },
    {
     "name": "stdout",
     "output_type": "stream",
     "text": [
      "                   all        259       4652      0.986      0.984      0.991      0.806\n",
      "\n",
      "      Epoch    GPU_mem   box_loss   cls_loss   dfl_loss  Instances       Size\n"
     ]
    },
    {
     "name": "stderr",
     "output_type": "stream",
     "text": [
      "     71/100     0.998G     0.7126     0.4478     0.8041        148        640: 100%|██████████| 57/57 [00:05<00:00, 10.94it/s]\n",
      "                 Class     Images  Instances      Box(P          R      mAP50  mAP50-95): 100%|██████████| 33/33 [00:01<00:00, 22.42it/s]\n"
     ]
    },
    {
     "name": "stdout",
     "output_type": "stream",
     "text": [
      "                   all        259       4652      0.989      0.987      0.992      0.808\n",
      "\n",
      "      Epoch    GPU_mem   box_loss   cls_loss   dfl_loss  Instances       Size\n"
     ]
    },
    {
     "name": "stderr",
     "output_type": "stream",
     "text": [
      "     72/100     0.998G     0.7188     0.4427     0.8062         99        640: 100%|██████████| 57/57 [00:05<00:00, 10.98it/s]\n",
      "                 Class     Images  Instances      Box(P          R      mAP50  mAP50-95): 100%|██████████| 33/33 [00:01<00:00, 22.60it/s]\n"
     ]
    },
    {
     "name": "stdout",
     "output_type": "stream",
     "text": [
      "                   all        259       4652      0.993      0.982      0.992       0.81\n",
      "\n",
      "      Epoch    GPU_mem   box_loss   cls_loss   dfl_loss  Instances       Size\n"
     ]
    },
    {
     "name": "stderr",
     "output_type": "stream",
     "text": [
      "     73/100     0.998G     0.6982     0.4247     0.8002        104        640: 100%|██████████| 57/57 [00:05<00:00, 10.75it/s]\n",
      "                 Class     Images  Instances      Box(P          R      mAP50  mAP50-95): 100%|██████████| 33/33 [00:01<00:00, 23.05it/s]\n"
     ]
    },
    {
     "name": "stdout",
     "output_type": "stream",
     "text": [
      "                   all        259       4652      0.991      0.983      0.992      0.811\n",
      "\n",
      "      Epoch    GPU_mem   box_loss   cls_loss   dfl_loss  Instances       Size\n"
     ]
    },
    {
     "name": "stderr",
     "output_type": "stream",
     "text": [
      "     74/100     0.998G     0.7318     0.4378     0.8036        144        640: 100%|██████████| 57/57 [00:05<00:00, 10.86it/s]\n",
      "                 Class     Images  Instances      Box(P          R      mAP50  mAP50-95): 100%|██████████| 33/33 [00:01<00:00, 22.77it/s]\n"
     ]
    },
    {
     "name": "stdout",
     "output_type": "stream",
     "text": [
      "                   all        259       4652      0.989      0.987      0.992      0.811\n",
      "\n",
      "      Epoch    GPU_mem   box_loss   cls_loss   dfl_loss  Instances       Size\n"
     ]
    },
    {
     "name": "stderr",
     "output_type": "stream",
     "text": [
      "     75/100     0.998G     0.7349     0.4452     0.8051         80        640: 100%|██████████| 57/57 [00:05<00:00, 11.00it/s]\n",
      "                 Class     Images  Instances      Box(P          R      mAP50  mAP50-95): 100%|██████████| 33/33 [00:01<00:00, 22.93it/s]\n"
     ]
    },
    {
     "name": "stdout",
     "output_type": "stream",
     "text": [
      "                   all        259       4652      0.991      0.982      0.992      0.811\n",
      "\n",
      "      Epoch    GPU_mem   box_loss   cls_loss   dfl_loss  Instances       Size\n"
     ]
    },
    {
     "name": "stderr",
     "output_type": "stream",
     "text": [
      "     76/100     0.998G     0.7144     0.4276     0.8012         86        640: 100%|██████████| 57/57 [00:05<00:00, 10.76it/s]\n",
      "                 Class     Images  Instances      Box(P          R      mAP50  mAP50-95): 100%|██████████| 33/33 [00:01<00:00, 22.93it/s]\n"
     ]
    },
    {
     "name": "stdout",
     "output_type": "stream",
     "text": [
      "                   all        259       4652      0.992       0.98      0.992      0.806\n",
      "\n",
      "      Epoch    GPU_mem   box_loss   cls_loss   dfl_loss  Instances       Size\n"
     ]
    },
    {
     "name": "stderr",
     "output_type": "stream",
     "text": [
      "     77/100     0.998G     0.7123     0.4412     0.8021        130        640: 100%|██████████| 57/57 [00:05<00:00, 10.96it/s]\n",
      "                 Class     Images  Instances      Box(P          R      mAP50  mAP50-95): 100%|██████████| 33/33 [00:01<00:00, 22.94it/s]\n"
     ]
    },
    {
     "name": "stdout",
     "output_type": "stream",
     "text": [
      "                   all        259       4652      0.993      0.981      0.991      0.814\n",
      "\n",
      "      Epoch    GPU_mem   box_loss   cls_loss   dfl_loss  Instances       Size\n"
     ]
    },
    {
     "name": "stderr",
     "output_type": "stream",
     "text": [
      "     78/100     0.998G     0.7348     0.4315     0.8038         89        640: 100%|██████████| 57/57 [00:05<00:00, 10.70it/s]\n",
      "                 Class     Images  Instances      Box(P          R      mAP50  mAP50-95): 100%|██████████| 33/33 [00:01<00:00, 23.09it/s]\n"
     ]
    },
    {
     "name": "stdout",
     "output_type": "stream",
     "text": [
      "                   all        259       4652      0.991       0.98      0.992      0.813\n",
      "\n",
      "      Epoch    GPU_mem   box_loss   cls_loss   dfl_loss  Instances       Size\n"
     ]
    },
    {
     "name": "stderr",
     "output_type": "stream",
     "text": [
      "     79/100     0.998G     0.7123     0.4264      0.805        173        640: 100%|██████████| 57/57 [00:05<00:00, 10.80it/s]\n",
      "                 Class     Images  Instances      Box(P          R      mAP50  mAP50-95): 100%|██████████| 33/33 [00:01<00:00, 22.92it/s]\n"
     ]
    },
    {
     "name": "stdout",
     "output_type": "stream",
     "text": [
      "                   all        259       4652      0.992      0.984      0.992      0.817\n",
      "\n",
      "      Epoch    GPU_mem   box_loss   cls_loss   dfl_loss  Instances       Size\n"
     ]
    },
    {
     "name": "stderr",
     "output_type": "stream",
     "text": [
      "     80/100     0.998G     0.7314     0.4314     0.8063        164        640: 100%|██████████| 57/57 [00:05<00:00, 10.81it/s]\n",
      "                 Class     Images  Instances      Box(P          R      mAP50  mAP50-95): 100%|██████████| 33/33 [00:01<00:00, 22.99it/s]\n"
     ]
    },
    {
     "name": "stdout",
     "output_type": "stream",
     "text": [
      "                   all        259       4652      0.992      0.986      0.992      0.814\n",
      "\n",
      "      Epoch    GPU_mem   box_loss   cls_loss   dfl_loss  Instances       Size\n"
     ]
    },
    {
     "name": "stderr",
     "output_type": "stream",
     "text": [
      "     81/100     0.998G     0.6979     0.4239     0.8014        129        640: 100%|██████████| 57/57 [00:05<00:00, 10.79it/s]\n",
      "                 Class     Images  Instances      Box(P          R      mAP50  mAP50-95): 100%|██████████| 33/33 [00:01<00:00, 22.96it/s]\n"
     ]
    },
    {
     "name": "stdout",
     "output_type": "stream",
     "text": [
      "                   all        259       4652      0.992      0.984      0.992      0.818\n",
      "\n",
      "      Epoch    GPU_mem   box_loss   cls_loss   dfl_loss  Instances       Size\n"
     ]
    },
    {
     "name": "stderr",
     "output_type": "stream",
     "text": [
      "     82/100     0.998G     0.7024     0.4226     0.8006        114        640: 100%|██████████| 57/57 [00:05<00:00, 10.64it/s]\n",
      "                 Class     Images  Instances      Box(P          R      mAP50  mAP50-95): 100%|██████████| 33/33 [00:01<00:00, 23.11it/s]\n"
     ]
    },
    {
     "name": "stdout",
     "output_type": "stream",
     "text": [
      "                   all        259       4652       0.99      0.985      0.992      0.814\n",
      "\n",
      "      Epoch    GPU_mem   box_loss   cls_loss   dfl_loss  Instances       Size\n"
     ]
    },
    {
     "name": "stderr",
     "output_type": "stream",
     "text": [
      "     83/100     0.998G     0.6932      0.425     0.8015        123        640: 100%|██████████| 57/57 [00:05<00:00, 10.93it/s]\n",
      "                 Class     Images  Instances      Box(P          R      mAP50  mAP50-95): 100%|██████████| 33/33 [00:01<00:00, 21.31it/s]\n"
     ]
    },
    {
     "name": "stdout",
     "output_type": "stream",
     "text": [
      "                   all        259       4652      0.992      0.985      0.992      0.814\n",
      "\n",
      "      Epoch    GPU_mem   box_loss   cls_loss   dfl_loss  Instances       Size\n"
     ]
    },
    {
     "name": "stderr",
     "output_type": "stream",
     "text": [
      "     84/100     0.998G     0.7094      0.437     0.8033         95        640: 100%|██████████| 57/57 [00:05<00:00, 10.80it/s]\n",
      "                 Class     Images  Instances      Box(P          R      mAP50  mAP50-95): 100%|██████████| 33/33 [00:01<00:00, 22.52it/s]\n"
     ]
    },
    {
     "name": "stdout",
     "output_type": "stream",
     "text": [
      "                   all        259       4652      0.993      0.986      0.992      0.816\n",
      "\n",
      "      Epoch    GPU_mem   box_loss   cls_loss   dfl_loss  Instances       Size\n"
     ]
    },
    {
     "name": "stderr",
     "output_type": "stream",
     "text": [
      "     85/100     0.998G     0.6873     0.4204     0.7964        152        640: 100%|██████████| 57/57 [00:05<00:00, 10.82it/s]\n",
      "                 Class     Images  Instances      Box(P          R      mAP50  mAP50-95): 100%|██████████| 33/33 [00:01<00:00, 23.10it/s]\n"
     ]
    },
    {
     "name": "stdout",
     "output_type": "stream",
     "text": [
      "                   all        259       4652       0.99      0.985      0.992      0.817\n",
      "\n",
      "      Epoch    GPU_mem   box_loss   cls_loss   dfl_loss  Instances       Size\n"
     ]
    },
    {
     "name": "stderr",
     "output_type": "stream",
     "text": [
      "     86/100     0.998G      0.707      0.418     0.8014        127        640: 100%|██████████| 57/57 [00:05<00:00, 10.82it/s]\n",
      "                 Class     Images  Instances      Box(P          R      mAP50  mAP50-95): 100%|██████████| 33/33 [00:01<00:00, 23.13it/s]\n"
     ]
    },
    {
     "name": "stdout",
     "output_type": "stream",
     "text": [
      "                   all        259       4652      0.991      0.986      0.992      0.822\n",
      "\n",
      "      Epoch    GPU_mem   box_loss   cls_loss   dfl_loss  Instances       Size\n"
     ]
    },
    {
     "name": "stderr",
     "output_type": "stream",
     "text": [
      "     87/100     0.998G     0.6918     0.4101     0.7994        118        640: 100%|██████████| 57/57 [00:05<00:00, 10.70it/s]\n",
      "                 Class     Images  Instances      Box(P          R      mAP50  mAP50-95): 100%|██████████| 33/33 [00:01<00:00, 23.03it/s]\n"
     ]
    },
    {
     "name": "stdout",
     "output_type": "stream",
     "text": [
      "                   all        259       4652      0.991      0.985      0.992      0.821\n",
      "\n",
      "      Epoch    GPU_mem   box_loss   cls_loss   dfl_loss  Instances       Size\n"
     ]
    },
    {
     "name": "stderr",
     "output_type": "stream",
     "text": [
      "     88/100     0.998G      0.677     0.4081     0.8011        163        640: 100%|██████████| 57/57 [00:05<00:00, 10.68it/s]\n",
      "                 Class     Images  Instances      Box(P          R      mAP50  mAP50-95): 100%|██████████| 33/33 [00:01<00:00, 22.16it/s]\n"
     ]
    },
    {
     "name": "stdout",
     "output_type": "stream",
     "text": [
      "                   all        259       4652      0.989      0.989      0.992      0.818\n",
      "\n",
      "      Epoch    GPU_mem   box_loss   cls_loss   dfl_loss  Instances       Size\n"
     ]
    },
    {
     "name": "stderr",
     "output_type": "stream",
     "text": [
      "     89/100     0.998G     0.6796     0.4025     0.8015         62        640: 100%|██████████| 57/57 [00:05<00:00, 10.62it/s]\n",
      "                 Class     Images  Instances      Box(P          R      mAP50  mAP50-95): 100%|██████████| 33/33 [00:01<00:00, 22.57it/s]\n"
     ]
    },
    {
     "name": "stdout",
     "output_type": "stream",
     "text": [
      "                   all        259       4652      0.991      0.986      0.992       0.82\n",
      "\n",
      "      Epoch    GPU_mem   box_loss   cls_loss   dfl_loss  Instances       Size\n"
     ]
    },
    {
     "name": "stderr",
     "output_type": "stream",
     "text": [
      "     90/100     0.998G     0.6977     0.4161     0.8033        158        640: 100%|██████████| 57/57 [00:05<00:00, 10.75it/s]\n",
      "                 Class     Images  Instances      Box(P          R      mAP50  mAP50-95): 100%|██████████| 33/33 [00:01<00:00, 23.00it/s]\n"
     ]
    },
    {
     "name": "stdout",
     "output_type": "stream",
     "text": [
      "                   all        259       4652      0.993      0.984      0.992      0.819\n",
      "Closing dataloader mosaic\n",
      "\u001b[34m\u001b[1malbumentations: \u001b[0mBlur(p=0.01, blur_limit=(3, 7)), MedianBlur(p=0.01, blur_limit=(3, 7)), ToGray(p=0.01, num_output_channels=3, method='weighted_average'), CLAHE(p=0.01, clip_limit=(1.0, 4.0), tile_grid_size=(8, 8))\n",
      "\n",
      "      Epoch    GPU_mem   box_loss   cls_loss   dfl_loss  Instances       Size\n"
     ]
    },
    {
     "name": "stderr",
     "output_type": "stream",
     "text": [
      "     91/100     0.998G      0.668     0.4367     0.7958         69        640: 100%|██████████| 57/57 [00:06<00:00,  9.24it/s]\n",
      "                 Class     Images  Instances      Box(P          R      mAP50  mAP50-95): 100%|██████████| 33/33 [00:01<00:00, 21.98it/s]\n"
     ]
    },
    {
     "name": "stdout",
     "output_type": "stream",
     "text": [
      "                   all        259       4652       0.99      0.982      0.992      0.813\n",
      "\n",
      "      Epoch    GPU_mem   box_loss   cls_loss   dfl_loss  Instances       Size\n"
     ]
    },
    {
     "name": "stderr",
     "output_type": "stream",
     "text": [
      "     92/100     0.998G     0.6255     0.4092     0.7928         59        640: 100%|██████████| 57/57 [00:05<00:00, 10.78it/s]\n",
      "                 Class     Images  Instances      Box(P          R      mAP50  mAP50-95): 100%|██████████| 33/33 [00:01<00:00, 22.29it/s]\n"
     ]
    },
    {
     "name": "stdout",
     "output_type": "stream",
     "text": [
      "                   all        259       4652      0.991      0.985      0.992      0.815\n",
      "\n",
      "      Epoch    GPU_mem   box_loss   cls_loss   dfl_loss  Instances       Size\n"
     ]
    },
    {
     "name": "stderr",
     "output_type": "stream",
     "text": [
      "     93/100         1G     0.6473     0.4128     0.8006         54        640: 100%|██████████| 57/57 [00:05<00:00, 10.54it/s]\n",
      "                 Class     Images  Instances      Box(P          R      mAP50  mAP50-95): 100%|██████████| 33/33 [00:01<00:00, 22.93it/s]\n"
     ]
    },
    {
     "name": "stdout",
     "output_type": "stream",
     "text": [
      "                   all        259       4652      0.993      0.985      0.992      0.818\n",
      "\n",
      "      Epoch    GPU_mem   box_loss   cls_loss   dfl_loss  Instances       Size\n"
     ]
    },
    {
     "name": "stderr",
     "output_type": "stream",
     "text": [
      "     94/100         1G     0.6091     0.3996     0.7914         61        640: 100%|██████████| 57/57 [00:05<00:00, 10.78it/s]\n",
      "                 Class     Images  Instances      Box(P          R      mAP50  mAP50-95): 100%|██████████| 33/33 [00:01<00:00, 22.96it/s]\n"
     ]
    },
    {
     "name": "stdout",
     "output_type": "stream",
     "text": [
      "                   all        259       4652      0.993      0.986      0.992       0.82\n",
      "\n",
      "      Epoch    GPU_mem   box_loss   cls_loss   dfl_loss  Instances       Size\n"
     ]
    },
    {
     "name": "stderr",
     "output_type": "stream",
     "text": [
      "     95/100     0.998G     0.5994     0.3888      0.792         73        640: 100%|██████████| 57/57 [00:05<00:00, 10.93it/s]\n",
      "                 Class     Images  Instances      Box(P          R      mAP50  mAP50-95): 100%|██████████| 33/33 [00:01<00:00, 22.68it/s]\n"
     ]
    },
    {
     "name": "stdout",
     "output_type": "stream",
     "text": [
      "                   all        259       4652      0.993      0.986      0.992      0.821\n",
      "\n",
      "      Epoch    GPU_mem   box_loss   cls_loss   dfl_loss  Instances       Size\n"
     ]
    },
    {
     "name": "stderr",
     "output_type": "stream",
     "text": [
      "     96/100     0.998G     0.6294     0.4158     0.7975         72        640: 100%|██████████| 57/57 [00:05<00:00, 10.91it/s]\n",
      "                 Class     Images  Instances      Box(P          R      mAP50  mAP50-95): 100%|██████████| 33/33 [00:01<00:00, 22.84it/s]\n"
     ]
    },
    {
     "name": "stdout",
     "output_type": "stream",
     "text": [
      "                   all        259       4652      0.993      0.986      0.992      0.823\n",
      "\n",
      "      Epoch    GPU_mem   box_loss   cls_loss   dfl_loss  Instances       Size\n"
     ]
    },
    {
     "name": "stderr",
     "output_type": "stream",
     "text": [
      "     97/100     0.998G     0.5943     0.3847     0.7929         63        640: 100%|██████████| 57/57 [00:05<00:00, 10.92it/s]\n",
      "                 Class     Images  Instances      Box(P          R      mAP50  mAP50-95): 100%|██████████| 33/33 [00:01<00:00, 22.99it/s]\n"
     ]
    },
    {
     "name": "stdout",
     "output_type": "stream",
     "text": [
      "                   all        259       4652      0.993      0.984      0.992      0.823\n",
      "\n",
      "      Epoch    GPU_mem   box_loss   cls_loss   dfl_loss  Instances       Size\n"
     ]
    },
    {
     "name": "stderr",
     "output_type": "stream",
     "text": [
      "     98/100     0.998G     0.6118     0.4051     0.7963         55        640: 100%|██████████| 57/57 [00:05<00:00, 10.63it/s]\n",
      "                 Class     Images  Instances      Box(P          R      mAP50  mAP50-95): 100%|██████████| 33/33 [00:01<00:00, 22.46it/s]\n"
     ]
    },
    {
     "name": "stdout",
     "output_type": "stream",
     "text": [
      "                   all        259       4652      0.992      0.986      0.992      0.824\n",
      "\n",
      "      Epoch    GPU_mem   box_loss   cls_loss   dfl_loss  Instances       Size\n"
     ]
    },
    {
     "name": "stderr",
     "output_type": "stream",
     "text": [
      "     99/100     0.998G     0.6146     0.3915     0.7953         74        640: 100%|██████████| 57/57 [00:05<00:00, 10.82it/s]\n",
      "                 Class     Images  Instances      Box(P          R      mAP50  mAP50-95): 100%|██████████| 33/33 [00:01<00:00, 22.87it/s]\n"
     ]
    },
    {
     "name": "stdout",
     "output_type": "stream",
     "text": [
      "                   all        259       4652      0.992      0.985      0.992      0.824\n",
      "\n",
      "      Epoch    GPU_mem   box_loss   cls_loss   dfl_loss  Instances       Size\n"
     ]
    },
    {
     "name": "stderr",
     "output_type": "stream",
     "text": [
      "    100/100         1G     0.6156     0.4025     0.7931         62        640: 100%|██████████| 57/57 [00:05<00:00, 10.22it/s]\n",
      "                 Class     Images  Instances      Box(P          R      mAP50  mAP50-95): 100%|██████████| 33/33 [00:01<00:00, 22.70it/s]\n"
     ]
    },
    {
     "name": "stdout",
     "output_type": "stream",
     "text": [
      "                   all        259       4652      0.993      0.986      0.992      0.825\n",
      "\n",
      "100 epochs completed in 0.215 hours.\n",
      "Optimizer stripped from runs/detect/train/weights/last.pt, 5.5MB\n",
      "Optimizer stripped from runs/detect/train/weights/best.pt, 5.5MB\n",
      "\n",
      "Validating runs/detect/train/weights/best.pt...\n",
      "Ultralytics 8.3.74 🚀 Python-3.10.14 torch-2.2.2 CUDA:0 (NVIDIA A10G, 22503MiB)\n",
      "                                                 CUDA:1 (NVIDIA A10G, 22503MiB)\n",
      "                                                 CUDA:2 (NVIDIA A10G, 22503MiB)\n",
      "                                                 CUDA:3 (NVIDIA A10G, 22503MiB)\n",
      "YOLO11n summary (fused): 238 layers, 2,586,637 parameters, 0 gradients, 6.3 GFLOPs\n"
     ]
    },
    {
     "name": "stderr",
     "output_type": "stream",
     "text": [
      "                 Class     Images  Instances      Box(P          R      mAP50  mAP50-95): 100%|██████████| 33/33 [00:02<00:00, 15.06it/s]\n"
     ]
    },
    {
     "name": "stdout",
     "output_type": "stream",
     "text": [
      "                   all        259       4652      0.993      0.986      0.992      0.824\n",
      "                  bag1        258        258      0.995          1      0.995      0.919\n",
      "                  bag2        257        257      0.998          1      0.995      0.945\n",
      "                  bag3        250        250          1      0.997      0.995      0.928\n",
      "                  bag4        258        258      0.996          1      0.995      0.925\n",
      "                  bag5        258        258      0.997      0.996      0.995      0.956\n",
      "                  bag6        259        259      0.997          1      0.995      0.937\n",
      "                 ball0        250        250      0.994      0.996      0.995      0.815\n",
      "                 ball1        216        216          1      0.992      0.995      0.763\n",
      "                ball10        248        248       0.99          1      0.994      0.795\n",
      "                ball11        247        247      0.996      0.979      0.994      0.809\n",
      "                ball12        248        249          1      0.979      0.994      0.768\n",
      "                ball13        149        149      0.977      0.973      0.986      0.801\n",
      "                ball14        155        157      0.974      0.952      0.961      0.766\n",
      "                ball15        161        161      0.979      0.975      0.993      0.825\n",
      "                 ball2        219        220      0.994      0.982      0.987      0.771\n",
      "                 ball3        167        167          1      0.986      0.995      0.715\n",
      "                 ball4        159        159          1      0.952      0.995      0.794\n",
      "                 ball5        192        192      0.993          1      0.995      0.759\n",
      "                 ball6        129        129          1      0.964       0.99      0.781\n",
      "                 ball7        187        187      0.995       0.98      0.995      0.776\n",
      "                 ball8        251        254      0.984          1      0.991      0.778\n",
      "                 ball9        127        127      0.976      0.984      0.993      0.804\n",
      "Speed: 0.1ms preprocess, 1.2ms inference, 0.0ms loss, 0.6ms postprocess per image\n",
      "Results saved to \u001b[1mruns/detect/train\u001b[0m\n"
     ]
    }
   ],
   "source": [
    "\n",
    "\n",
    "model = YOLO(\"./model/origin/yolo11n.pt\")  # load a pretrained model (recommended for training)\n",
    "results = model.train(data=\"./datasets/data.yaml\", epochs=100, imgsz=640, device=[0,1,2,3])"
   ]
  },
  {
   "cell_type": "code",
   "execution_count": 17,
   "id": "d523b137-09c2-4f5f-be9c-8c89c1afd4a0",
   "metadata": {
    "tags": []
   },
   "outputs": [
    {
     "name": "stdout",
     "output_type": "stream",
     "text": [
      "Wed Feb 12 13:39:51 2025       \n",
      "+-----------------------------------------------------------------------------------------+\n",
      "| NVIDIA-SMI 550.144.03             Driver Version: 550.144.03     CUDA Version: 12.4     |\n",
      "|-----------------------------------------+------------------------+----------------------+\n",
      "| GPU  Name                 Persistence-M | Bus-Id          Disp.A | Volatile Uncorr. ECC |\n",
      "| Fan  Temp   Perf          Pwr:Usage/Cap |           Memory-Usage | GPU-Util  Compute M. |\n",
      "|                                         |                        |               MIG M. |\n",
      "|=========================================+========================+======================|\n",
      "|   0  NVIDIA A10G                    On  |   00000000:00:1B.0 Off |                    0 |\n",
      "|  0%   19C    P8             16W /  300W |       4MiB /  23028MiB |      0%      Default |\n",
      "|                                         |                        |                  N/A |\n",
      "+-----------------------------------------+------------------------+----------------------+\n",
      "|   1  NVIDIA A10G                    On  |   00000000:00:1C.0 Off |                    0 |\n",
      "|  0%   20C    P8             16W /  300W |       4MiB /  23028MiB |      0%      Default |\n",
      "|                                         |                        |                  N/A |\n",
      "+-----------------------------------------+------------------------+----------------------+\n",
      "|   2  NVIDIA A10G                    On  |   00000000:00:1D.0 Off |                    0 |\n",
      "|  0%   20C    P8             16W /  300W |       4MiB /  23028MiB |      0%      Default |\n",
      "|                                         |                        |                  N/A |\n",
      "+-----------------------------------------+------------------------+----------------------+\n",
      "|   3  NVIDIA A10G                    On  |   00000000:00:1E.0 Off |                    0 |\n",
      "|  0%   19C    P8             16W /  300W |       4MiB /  23028MiB |      0%      Default |\n",
      "|                                         |                        |                  N/A |\n",
      "+-----------------------------------------+------------------------+----------------------+\n",
      "                                                                                         \n",
      "+-----------------------------------------------------------------------------------------+\n",
      "| Processes:                                                                              |\n",
      "|  GPU   GI   CI        PID   Type   Process name                              GPU Memory |\n",
      "|        ID   ID                                                               Usage      |\n",
      "|=========================================================================================|\n",
      "|  No running processes found                                                             |\n",
      "+-----------------------------------------------------------------------------------------+\n"
     ]
    }
   ],
   "source": [
    "!nvidia-smi"
   ]
  },
  {
   "cell_type": "code",
   "execution_count": null,
   "id": "cfdc8939-48dc-45aa-b9b0-d2643c6db2ac",
   "metadata": {},
   "outputs": [],
   "source": []
  }
 ],
 "metadata": {
  "kernelspec": {
   "display_name": "conda_pytorch_p310",
   "language": "python",
   "name": "conda_pytorch_p310"
  },
  "language_info": {
   "codemirror_mode": {
    "name": "ipython",
    "version": 3
   },
   "file_extension": ".py",
   "mimetype": "text/x-python",
   "name": "python",
   "nbconvert_exporter": "python",
   "pygments_lexer": "ipython3",
   "version": "3.10.14"
  }
 },
 "nbformat": 4,
 "nbformat_minor": 5
}
