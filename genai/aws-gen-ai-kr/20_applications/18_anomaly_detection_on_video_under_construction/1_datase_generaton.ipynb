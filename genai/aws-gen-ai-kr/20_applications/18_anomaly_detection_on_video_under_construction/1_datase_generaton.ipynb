{
 "cells": [
  {
   "cell_type": "markdown",
   "id": "a7c76b8c-3a12-4cb9-814c-67ec3b9c6e90",
   "metadata": {
    "tags": []
   },
   "source": [
    "# Synthetic image generation with Generative Models"
   ]
  },
  {
   "cell_type": "code",
   "execution_count": null,
   "id": "a784e67e-ba90-43ab-ab08-ca88701e2efd",
   "metadata": {},
   "outputs": [],
   "source": []
  }
 ],
 "metadata": {
  "kernelspec": {
   "display_name": "conda_python3",
   "language": "python",
   "name": "conda_python3"
  },
  "language_info": {
   "codemirror_mode": {
    "name": "ipython",
    "version": 3
   },
   "file_extension": ".py",
   "mimetype": "text/x-python",
   "name": "python",
   "nbconvert_exporter": "python",
   "pygments_lexer": "ipython3",
   "version": "3.10.16"
  }
 },
 "nbformat": 4,
 "nbformat_minor": 5
}
