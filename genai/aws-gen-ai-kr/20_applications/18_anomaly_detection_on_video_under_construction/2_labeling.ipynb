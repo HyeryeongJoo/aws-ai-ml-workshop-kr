{
 "cells": [
  {
   "cell_type": "markdown",
   "id": "e8bd8e27-03fd-45d1-ab55-aaf30835cad9",
   "metadata": {},
   "source": [
    "# Labling with SageMaker Ground Truth"
   ]
  },
  {
   "cell_type": "markdown",
   "id": "6f121029-9cf0-46e6-bfbc-705b4d964c7e",
   "metadata": {},
   "source": [
    "## Getting started"
   ]
  },
  {
   "cell_type": "markdown",
   "id": "884cb6c5-b85a-403e-a005-d6440b1b7cbe",
   "metadata": {},
   "source": [
    "- [VOD] [AWS SageMaker Ground Truth Labeling Job Tutorial](https://www.youtube.com/watch?v=beknlA2BHGo)\n",
    "- **[Very Very Important] Change Task type from Image classification to Bounding Box**"
   ]
  }
 ],
 "metadata": {
  "kernelspec": {
   "display_name": "conda_python3",
   "language": "python",
   "name": "conda_python3"
  },
  "language_info": {
   "codemirror_mode": {
    "name": "ipython",
    "version": 3
   },
   "file_extension": ".py",
   "mimetype": "text/x-python",
   "name": "python",
   "nbconvert_exporter": "python",
   "pygments_lexer": "ipython3",
   "version": "3.10.16"
  }
 },
 "nbformat": 4,
 "nbformat_minor": 5
}
