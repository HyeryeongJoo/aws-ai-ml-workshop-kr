{
 "cells": [
  {
   "cell_type": "markdown",
   "metadata": {
    "tags": []
   },
   "source": [
    "# Preprocess Input Data and Create processed Json file\n",
    "\n",
    "---\n",
    "\n",
    "---"
   ]
  },
  {
   "cell_type": "markdown",
   "metadata": {
    "tags": []
   },
   "source": [
    "# 1. Set up"
   ]
  },
  {
   "cell_type": "code",
   "execution_count": 2,
   "metadata": {
    "tags": []
   },
   "outputs": [
    {
     "name": "stdout",
     "output_type": "stream",
     "text": [
      "/root/aws-ai-ml-workshop-kr/genai/aws-gen-ai-kr/20_applications/02_qa_chatbot/01_preprocess_docs/utils\n"
     ]
    }
   ],
   "source": [
    "%load_ext autoreload\n",
    "%autoreload 2\n",
    "\n",
    "import sys, os\n",
    "# module_path = \"../../../utils\"\n",
    "# sys.path.append(os.path.abspath(module_path))\n",
    "# print(os.path.abspath(module_path))\n",
    "\n",
    "module_path = \"./utils\"\n",
    "sys.path.append(os.path.abspath(module_path))\n",
    "print(os.path.abspath(module_path))"
   ]
  },
  {
   "cell_type": "markdown",
   "metadata": {},
   "source": [
    "# 2. Remvoe duplicated contents "
   ]
  },
  {
   "cell_type": "code",
   "execution_count": 3,
   "metadata": {
    "tags": []
   },
   "outputs": [],
   "source": [
    "from utils.proc_docs import get_load_json, show_doc_json"
   ]
  },
  {
   "cell_type": "code",
   "execution_count": 4,
   "metadata": {
    "tags": []
   },
   "outputs": [
    {
     "data": {
      "text/html": [
       "<div>\n",
       "<style scoped>\n",
       "    .dataframe tbody tr th:only-of-type {\n",
       "        vertical-align: middle;\n",
       "    }\n",
       "\n",
       "    .dataframe tbody tr th {\n",
       "        vertical-align: top;\n",
       "    }\n",
       "\n",
       "    .dataframe thead th {\n",
       "        text-align: right;\n",
       "    }\n",
       "</style>\n",
       "<table border=\"1\" class=\"dataframe\">\n",
       "  <thead>\n",
       "    <tr style=\"text-align: right;\">\n",
       "      <th></th>\n",
       "      <th>title</th>\n",
       "      <th>last_updated</th>\n",
       "      <th>content</th>\n",
       "      <th>url</th>\n",
       "      <th>project</th>\n",
       "    </tr>\n",
       "  </thead>\n",
       "  <tbody>\n",
       "    <tr>\n",
       "      <th>0</th>\n",
       "      <td>AR demo barcodes</td>\n",
       "      <td>2023-10-16</td>\n",
       "      <td>AR demo barcodes. Use the following barcodes t...</td>\n",
       "      <td>https://docs.samsungknox.com/admin/knox-captur...</td>\n",
       "      <td>KCAP</td>\n",
       "    </tr>\n",
       "    <tr>\n",
       "      <th>1</th>\n",
       "      <td>Videos</td>\n",
       "      <td>2023-07-26</td>\n",
       "      <td>Videos. This section contains product and how-...</td>\n",
       "      <td>https://docs.samsungknox.com/admin/knox-captur...</td>\n",
       "      <td>KCAP</td>\n",
       "    </tr>\n",
       "    <tr>\n",
       "      <th>2</th>\n",
       "      <td>Overview</td>\n",
       "      <td>2023-07-26</td>\n",
       "      <td>Overview. Get started with the basics by learn...</td>\n",
       "      <td>https://docs.samsungknox.com/admin/knox-captur...</td>\n",
       "      <td>KCAP</td>\n",
       "    </tr>\n",
       "    <tr>\n",
       "      <th>3</th>\n",
       "      <td>Troubleshoot</td>\n",
       "      <td>2023-07-26</td>\n",
       "      <td>Troubleshoot. Access support from the app To a...</td>\n",
       "      <td>https://docs.samsungknox.com/admin/knox-captur...</td>\n",
       "      <td>KCAP</td>\n",
       "    </tr>\n",
       "    <tr>\n",
       "      <th>4</th>\n",
       "      <td>Knox Capture</td>\n",
       "      <td>2023-10-16</td>\n",
       "      <td>Knox Capture. Knox Capture is an Android solut...</td>\n",
       "      <td>https://docs.samsungknox.com/admin/knox-capture</td>\n",
       "      <td>KCAP</td>\n",
       "    </tr>\n",
       "    <tr>\n",
       "      <th>...</th>\n",
       "      <td>...</td>\n",
       "      <td>...</td>\n",
       "      <td>...</td>\n",
       "      <td>...</td>\n",
       "      <td>...</td>\n",
       "    </tr>\n",
       "    <tr>\n",
       "      <th>129</th>\n",
       "      <td>Which types of companies are best suited to us...</td>\n",
       "      <td>2023-07-26</td>\n",
       "      <td>Which types of companies are best suited to us...</td>\n",
       "      <td>https://docs.samsungknox.com/admin/knox-config...</td>\n",
       "      <td>KC</td>\n",
       "    </tr>\n",
       "    <tr>\n",
       "      <th>130</th>\n",
       "      <td>Will end users be able to unlink Samsung devic...</td>\n",
       "      <td>2023-07-26</td>\n",
       "      <td>Will end users be able to unlink Samsung devic...</td>\n",
       "      <td>https://docs.samsungknox.com/admin/knox-config...</td>\n",
       "      <td>KC</td>\n",
       "    </tr>\n",
       "    <tr>\n",
       "      <th>131</th>\n",
       "      <td>Does Samsung customize booting/shutdown animat...</td>\n",
       "      <td>2023-07-26</td>\n",
       "      <td>Does Samsung customize booting/shutdown animat...</td>\n",
       "      <td>https://docs.samsungknox.com/admin/knox-config...</td>\n",
       "      <td>KC</td>\n",
       "    </tr>\n",
       "    <tr>\n",
       "      <th>132</th>\n",
       "      <td>Can I get support from Samsung for any issues ...</td>\n",
       "      <td>2023-07-26</td>\n",
       "      <td>Can I get support from Samsung for any issues ...</td>\n",
       "      <td>https://docs.samsungknox.com/admin/knox-config...</td>\n",
       "      <td>KC</td>\n",
       "    </tr>\n",
       "    <tr>\n",
       "      <th>133</th>\n",
       "      <td>What's a KDP Reseller?</td>\n",
       "      <td>2023-07-26</td>\n",
       "      <td>What's a KDP Reseller?. The term _KDP_ stands ...</td>\n",
       "      <td>https://docs.samsungknox.com/admin/knox-config...</td>\n",
       "      <td>KC</td>\n",
       "    </tr>\n",
       "  </tbody>\n",
       "</table>\n",
       "<p>1732 rows × 5 columns</p>\n",
       "</div>"
      ],
      "text/plain": [
       "                                                 title last_updated  \\\n",
       "0                                     AR demo barcodes   2023-10-16   \n",
       "1                                               Videos   2023-07-26   \n",
       "2                                             Overview   2023-07-26   \n",
       "3                                         Troubleshoot   2023-07-26   \n",
       "4                                         Knox Capture   2023-10-16   \n",
       "..                                                 ...          ...   \n",
       "129  Which types of companies are best suited to us...   2023-07-26   \n",
       "130  Will end users be able to unlink Samsung devic...   2023-07-26   \n",
       "131  Does Samsung customize booting/shutdown animat...   2023-07-26   \n",
       "132  Can I get support from Samsung for any issues ...   2023-07-26   \n",
       "133                             What's a KDP Reseller?   2023-07-26   \n",
       "\n",
       "                                               content  \\\n",
       "0    AR demo barcodes. Use the following barcodes t...   \n",
       "1    Videos. This section contains product and how-...   \n",
       "2    Overview. Get started with the basics by learn...   \n",
       "3    Troubleshoot. Access support from the app To a...   \n",
       "4    Knox Capture. Knox Capture is an Android solut...   \n",
       "..                                                 ...   \n",
       "129  Which types of companies are best suited to us...   \n",
       "130  Will end users be able to unlink Samsung devic...   \n",
       "131  Does Samsung customize booting/shutdown animat...   \n",
       "132  Can I get support from Samsung for any issues ...   \n",
       "133  What's a KDP Reseller?. The term _KDP_ stands ...   \n",
       "\n",
       "                                                   url project  \n",
       "0    https://docs.samsungknox.com/admin/knox-captur...    KCAP  \n",
       "1    https://docs.samsungknox.com/admin/knox-captur...    KCAP  \n",
       "2    https://docs.samsungknox.com/admin/knox-captur...    KCAP  \n",
       "3    https://docs.samsungknox.com/admin/knox-captur...    KCAP  \n",
       "4      https://docs.samsungknox.com/admin/knox-capture    KCAP  \n",
       "..                                                 ...     ...  \n",
       "129  https://docs.samsungknox.com/admin/knox-config...      KC  \n",
       "130  https://docs.samsungknox.com/admin/knox-config...      KC  \n",
       "131  https://docs.samsungknox.com/admin/knox-config...      KC  \n",
       "132  https://docs.samsungknox.com/admin/knox-config...      KC  \n",
       "133  https://docs.samsungknox.com/admin/knox-config...      KC  \n",
       "\n",
       "[1732 rows x 5 columns]"
      ]
     },
     "execution_count": 4,
     "metadata": {},
     "output_type": "execute_result"
    }
   ],
   "source": [
    "import glob\n",
    "import pandas as pd\n",
    "\n",
    "# Specify the directory and file pattern for .txt files\n",
    "folder_path = 'data/poc/*.json'\n",
    "json_files = glob.glob(folder_path)\n",
    "\n",
    "def remove_duplicate_col(json_files, remove_col):\n",
    "    '''\n",
    "    json_files : list of json file path\n",
    "    remove_col : column name to remove duplicate\n",
    "    Desc: \n",
    "    '''\n",
    "    all_df = pd.DataFrame()\n",
    "    \n",
    "    for file_path in json_files:\n",
    "        df = pd.read_json(file_path)\n",
    "        df = pd.json_normalize(df.sections) # Normalize sections\n",
    "        all_df = pd.concat([all_df, df])\n",
    "    \n",
    "    all_df.drop_duplicates(subset=remove_col, inplace=True)\n",
    "    \n",
    "    return all_df\n",
    "\n",
    "df = remove_duplicate_col(json_files, remove_col='content')\n",
    "df"
   ]
  },
  {
   "cell_type": "markdown",
   "metadata": {},
   "source": [
    "# 3. Craete new json file"
   ]
  },
  {
   "cell_type": "code",
   "execution_count": 5,
   "metadata": {
    "tags": []
   },
   "outputs": [],
   "source": [
    "cleaned_json_file_path = \"data/poc/preprocessed_json/all_processed_data.json\"\n",
    "df.reset_index(drop=True).to_json(cleaned_json_file_path,orient='records')"
   ]
  },
  {
   "cell_type": "markdown",
   "metadata": {},
   "source": [
    "Verify the created json file"
   ]
  },
  {
   "cell_type": "code",
   "execution_count": 6,
   "metadata": {
    "tags": []
   },
   "outputs": [
    {
     "data": {
      "text/html": [
       "<div>\n",
       "<style scoped>\n",
       "    .dataframe tbody tr th:only-of-type {\n",
       "        vertical-align: middle;\n",
       "    }\n",
       "\n",
       "    .dataframe tbody tr th {\n",
       "        vertical-align: top;\n",
       "    }\n",
       "\n",
       "    .dataframe thead th {\n",
       "        text-align: right;\n",
       "    }\n",
       "</style>\n",
       "<table border=\"1\" class=\"dataframe\">\n",
       "  <thead>\n",
       "    <tr style=\"text-align: right;\">\n",
       "      <th></th>\n",
       "      <th>title</th>\n",
       "      <th>last_updated</th>\n",
       "      <th>content</th>\n",
       "      <th>url</th>\n",
       "      <th>project</th>\n",
       "    </tr>\n",
       "  </thead>\n",
       "  <tbody>\n",
       "    <tr>\n",
       "      <th>0</th>\n",
       "      <td>AR demo barcodes</td>\n",
       "      <td>2023-10-16</td>\n",
       "      <td>AR demo barcodes. Use the following barcodes t...</td>\n",
       "      <td>https://docs.samsungknox.com/admin/knox-captur...</td>\n",
       "      <td>KCAP</td>\n",
       "    </tr>\n",
       "    <tr>\n",
       "      <th>1</th>\n",
       "      <td>Videos</td>\n",
       "      <td>2023-07-26</td>\n",
       "      <td>Videos. This section contains product and how-...</td>\n",
       "      <td>https://docs.samsungknox.com/admin/knox-captur...</td>\n",
       "      <td>KCAP</td>\n",
       "    </tr>\n",
       "    <tr>\n",
       "      <th>2</th>\n",
       "      <td>Overview</td>\n",
       "      <td>2023-07-26</td>\n",
       "      <td>Overview. Get started with the basics by learn...</td>\n",
       "      <td>https://docs.samsungknox.com/admin/knox-captur...</td>\n",
       "      <td>KCAP</td>\n",
       "    </tr>\n",
       "  </tbody>\n",
       "</table>\n",
       "</div>"
      ],
      "text/plain": [
       "              title last_updated  \\\n",
       "0  AR demo barcodes   2023-10-16   \n",
       "1            Videos   2023-07-26   \n",
       "2          Overview   2023-07-26   \n",
       "\n",
       "                                             content  \\\n",
       "0  AR demo barcodes. Use the following barcodes t...   \n",
       "1  Videos. This section contains product and how-...   \n",
       "2  Overview. Get started with the basics by learn...   \n",
       "\n",
       "                                                 url project  \n",
       "0  https://docs.samsungknox.com/admin/knox-captur...    KCAP  \n",
       "1  https://docs.samsungknox.com/admin/knox-captur...    KCAP  \n",
       "2  https://docs.samsungknox.com/admin/knox-captur...    KCAP  "
      ]
     },
     "execution_count": 6,
     "metadata": {},
     "output_type": "execute_result"
    }
   ],
   "source": [
    "df_json = pd.read_json(cleaned_json_file_path)\n",
    "df_json.head(3)"
   ]
  },
  {
   "cell_type": "code",
   "execution_count": 7,
   "metadata": {
    "tags": []
   },
   "outputs": [
    {
     "name": "stdout",
     "output_type": "stream",
     "text": [
      "Stored 'cleaned_json_file_path' (str)\n"
     ]
    }
   ],
   "source": [
    "%store cleaned_json_file_path"
   ]
  },
  {
   "cell_type": "markdown",
   "metadata": {},
   "source": [
    "# 4. Translate English to Korean"
   ]
  },
  {
   "cell_type": "code",
   "execution_count": 8,
   "metadata": {
    "tags": []
   },
   "outputs": [],
   "source": [
    "import boto3\n",
    "\n",
    "translate_client = boto3.client(service_name='translate', region_name='us-east-1', use_ssl=True)\n",
    "\n"
   ]
  },
  {
   "cell_type": "markdown",
   "metadata": {
    "tags": []
   },
   "source": [
    "## Text Splitter 정의 \n",
    "- AWS Translate 는 최대 10000 bytes 를 번역할 수 있어서, 조금 더 작은 단위로 문서를 쪼개서 번역 함"
   ]
  },
  {
   "cell_type": "code",
   "execution_count": 10,
   "metadata": {
    "tags": []
   },
   "outputs": [],
   "source": [
    "from langchain.schema import Document\n",
    "from langchain.text_splitter import RecursiveCharacterTextSplitter, SpacyTextSplitter\n",
    "\n",
    "chunk_size = 8192\n",
    "chunk_overlap = 0\n",
    "\n",
    "\n",
    "text_splitter = RecursiveCharacterTextSplitter(\n",
    "    # Set a really small chunk size, just to show.\n",
    "    chunk_size = chunk_size,\n",
    "    chunk_overlap  = chunk_overlap,\n",
    "    separators=[\"\\n\\n\", \"\\n\", \".\", \" \", \"\"],\n",
    "    length_function = len,\n",
    ")\n",
    "\n",
    "\n"
   ]
  },
  {
   "cell_type": "code",
   "execution_count": 11,
   "metadata": {
    "tags": []
   },
   "outputs": [
    {
     "name": "stdout",
     "output_type": "stream",
     "text": [
      "CPU times: user 7 µs, sys: 1 µs, total: 8 µs\n",
      "Wall time: 11.7 µs\n"
     ]
    }
   ],
   "source": [
    "%%time\n",
    "\n",
    "import pandas as pd\n",
    "\n",
    "def translate_df(df, target_col, new_col):\n",
    "    \n",
    "    def run_translate(text):\n",
    "        '''\n",
    "        Split doc into small chunks, translate them, and then merge into one\n",
    "        '''\n",
    "        doc = [Document(page_content=text)]\n",
    "        docs = text_splitter.split_documents(doc)                \n",
    "        \n",
    "        translate_doc = []\n",
    "        for i, chunk in enumerate(docs):\n",
    "            # print(\"English Text: \\n\", chunk.page_content)                    \n",
    "            result = translate_client.translate_text(Text=chunk.page_content, \n",
    "                    SourceLanguageCode=\"en\", TargetLanguageCode=\"ko\")\n",
    "            result = result['TranslatedText']\n",
    "            translate_doc.append(result)\n",
    "        # print(\"# of chunks: \", i)\n",
    "            \n",
    "        translate_doc = ' '.join(translate_doc)            \n",
    "        # print(\"translate_doc: \\n\", translate_doc)\n",
    "        \n",
    "        return translate_doc\n",
    "    \n",
    "    def translate(df):\n",
    "        text = df[target_col]\n",
    "        result = run_translate(text)\n",
    "        # print(result)        \n",
    "\n",
    "        return result\n",
    "        \n",
    "    # Start here\n",
    "    df[new_col] = df.apply(translate, axis=1)\n",
    "    \n",
    "    return df\n",
    "\n",
    "\n"
   ]
  },
  {
   "cell_type": "markdown",
   "metadata": {},
   "source": [
    "## 번역 실행"
   ]
  },
  {
   "cell_type": "code",
   "execution_count": 13,
   "metadata": {
    "tags": []
   },
   "outputs": [
    {
     "name": "stdout",
     "output_type": "stream",
     "text": [
      "CPU times: user 5.1 s, sys: 158 ms, total: 5.26 s\n",
      "Wall time: 1min 38s\n"
     ]
    }
   ],
   "source": [
    "%%time\n",
    "df_kr = translate_df(df, target_col='title', new_col='title_ko')\n",
    "df_kr = translate_df(df_kr, target_col='content', new_col='content_ko')\n"
   ]
  },
  {
   "cell_type": "code",
   "execution_count": 14,
   "metadata": {},
   "outputs": [
    {
     "data": {
      "text/html": [
       "<div>\n",
       "<style scoped>\n",
       "    .dataframe tbody tr th:only-of-type {\n",
       "        vertical-align: middle;\n",
       "    }\n",
       "\n",
       "    .dataframe tbody tr th {\n",
       "        vertical-align: top;\n",
       "    }\n",
       "\n",
       "    .dataframe thead th {\n",
       "        text-align: right;\n",
       "    }\n",
       "</style>\n",
       "<table border=\"1\" class=\"dataframe\">\n",
       "  <thead>\n",
       "    <tr style=\"text-align: right;\">\n",
       "      <th></th>\n",
       "      <th>last_updated</th>\n",
       "      <th>url</th>\n",
       "      <th>project</th>\n",
       "      <th>title</th>\n",
       "      <th>content</th>\n",
       "    </tr>\n",
       "  </thead>\n",
       "  <tbody>\n",
       "    <tr>\n",
       "      <th>0</th>\n",
       "      <td>2023-10-16</td>\n",
       "      <td>https://docs.samsungknox.com/admin/knox-captur...</td>\n",
       "      <td>KCAP</td>\n",
       "      <td>AR 데모 바코드</td>\n",
       "      <td>AR 데모 바코드.다음 바코드를 사용하여 녹스 캡처 AR 기능을 테스트하세요.바코드...</td>\n",
       "    </tr>\n",
       "    <tr>\n",
       "      <th>1</th>\n",
       "      <td>2023-07-26</td>\n",
       "      <td>https://docs.samsungknox.com/admin/knox-captur...</td>\n",
       "      <td>KCAP</td>\n",
       "      <td>동영상</td>\n",
       "      <td>동영상.이 섹션에는 Knox Capture와 관련된 제품 및 사용 방법 비디오가 포...</td>\n",
       "    </tr>\n",
       "    <tr>\n",
       "      <th>2</th>\n",
       "      <td>2023-07-26</td>\n",
       "      <td>https://docs.samsungknox.com/admin/knox-captur...</td>\n",
       "      <td>KCAP</td>\n",
       "      <td>개요</td>\n",
       "      <td>개요.Knox Capture가 무엇이고 어떻게 작동하는지 알아보고 기본 사항부터 시...</td>\n",
       "    </tr>\n",
       "    <tr>\n",
       "      <th>3</th>\n",
       "      <td>2023-07-26</td>\n",
       "      <td>https://docs.samsungknox.com/admin/knox-captur...</td>\n",
       "      <td>KCAP</td>\n",
       "      <td>문제 해결</td>\n",
       "      <td>문제 해결.앱에서 지원에 액세스하세요. 내에서 지원에 액세스하려면 프로필 목록 레이...</td>\n",
       "    </tr>\n",
       "    <tr>\n",
       "      <th>4</th>\n",
       "      <td>2023-10-16</td>\n",
       "      <td>https://docs.samsungknox.com/admin/knox-capture</td>\n",
       "      <td>KCAP</td>\n",
       "      <td>녹스 캡처</td>\n",
       "      <td>녹스 캡처.Knox Capture는 엔터프라이즈 IT 관리자가 조직의 삼성 갤럭시 ...</td>\n",
       "    </tr>\n",
       "    <tr>\n",
       "      <th>...</th>\n",
       "      <td>...</td>\n",
       "      <td>...</td>\n",
       "      <td>...</td>\n",
       "      <td>...</td>\n",
       "      <td>...</td>\n",
       "    </tr>\n",
       "    <tr>\n",
       "      <th>129</th>\n",
       "      <td>2023-07-26</td>\n",
       "      <td>https://docs.samsungknox.com/admin/knox-config...</td>\n",
       "      <td>KC</td>\n",
       "      <td>Knox Configure를 사용하기에 가장 적합한 회사 유형은 무엇입니까?</td>\n",
       "      <td>Knox Configure를 사용하기에 가장 적합한 회사 유형은 무엇입니까?Knox...</td>\n",
       "    </tr>\n",
       "    <tr>\n",
       "      <th>130</th>\n",
       "      <td>2023-07-26</td>\n",
       "      <td>https://docs.samsungknox.com/admin/knox-config...</td>\n",
       "      <td>KC</td>\n",
       "      <td>최종 사용자는 등록 후 Knox Configure에서 삼성 디바이스의 연결을 해제할...</td>\n",
       "      <td>최종 사용자는 등록 후 Knox Configure에서 삼성 디바이스의 연결을 해제할...</td>\n",
       "    </tr>\n",
       "    <tr>\n",
       "      <th>131</th>\n",
       "      <td>2023-07-26</td>\n",
       "      <td>https://docs.samsungknox.com/admin/knox-config...</td>\n",
       "      <td>KC</td>\n",
       "      <td>Samsung은 고객을 위해 부팅/종료 애니메이션과 배경 화면을 사용자 정의합니까?</td>\n",
       "      <td>Samsung은 고객을 위해 부팅/종료 애니메이션과 배경 화면을 사용자 정의합니까?...</td>\n",
       "    </tr>\n",
       "    <tr>\n",
       "      <th>132</th>\n",
       "      <td>2023-07-26</td>\n",
       "      <td>https://docs.samsungknox.com/admin/knox-config...</td>\n",
       "      <td>KC</td>\n",
       "      <td>Knox Configure를 사용하는 동안 발생할 수 있는 문제나 질문에 대해 삼성...</td>\n",
       "      <td>Knox Configure를 사용하는 동안 발생할 수 있는 문제나 질문에 대해 삼성...</td>\n",
       "    </tr>\n",
       "    <tr>\n",
       "      <th>133</th>\n",
       "      <td>2023-07-26</td>\n",
       "      <td>https://docs.samsungknox.com/admin/knox-config...</td>\n",
       "      <td>KC</td>\n",
       "      <td>KDP 리셀러란 무엇인가요?</td>\n",
       "      <td>KDP 리셀러란 무엇인가요?_KDP_는 신뢰할 수 있는 삼성 디바이스 리셀러가 기업...</td>\n",
       "    </tr>\n",
       "  </tbody>\n",
       "</table>\n",
       "<p>1732 rows × 5 columns</p>\n",
       "</div>"
      ],
      "text/plain": [
       "    last_updated                                                url project  \\\n",
       "0     2023-10-16  https://docs.samsungknox.com/admin/knox-captur...    KCAP   \n",
       "1     2023-07-26  https://docs.samsungknox.com/admin/knox-captur...    KCAP   \n",
       "2     2023-07-26  https://docs.samsungknox.com/admin/knox-captur...    KCAP   \n",
       "3     2023-07-26  https://docs.samsungknox.com/admin/knox-captur...    KCAP   \n",
       "4     2023-10-16    https://docs.samsungknox.com/admin/knox-capture    KCAP   \n",
       "..           ...                                                ...     ...   \n",
       "129   2023-07-26  https://docs.samsungknox.com/admin/knox-config...      KC   \n",
       "130   2023-07-26  https://docs.samsungknox.com/admin/knox-config...      KC   \n",
       "131   2023-07-26  https://docs.samsungknox.com/admin/knox-config...      KC   \n",
       "132   2023-07-26  https://docs.samsungknox.com/admin/knox-config...      KC   \n",
       "133   2023-07-26  https://docs.samsungknox.com/admin/knox-config...      KC   \n",
       "\n",
       "                                                 title  \\\n",
       "0                                            AR 데모 바코드   \n",
       "1                                                  동영상   \n",
       "2                                                   개요   \n",
       "3                                                문제 해결   \n",
       "4                                                녹스 캡처   \n",
       "..                                                 ...   \n",
       "129         Knox Configure를 사용하기에 가장 적합한 회사 유형은 무엇입니까?   \n",
       "130  최종 사용자는 등록 후 Knox Configure에서 삼성 디바이스의 연결을 해제할...   \n",
       "131     Samsung은 고객을 위해 부팅/종료 애니메이션과 배경 화면을 사용자 정의합니까?   \n",
       "132  Knox Configure를 사용하는 동안 발생할 수 있는 문제나 질문에 대해 삼성...   \n",
       "133                                    KDP 리셀러란 무엇인가요?   \n",
       "\n",
       "                                               content  \n",
       "0    AR 데모 바코드.다음 바코드를 사용하여 녹스 캡처 AR 기능을 테스트하세요.바코드...  \n",
       "1    동영상.이 섹션에는 Knox Capture와 관련된 제품 및 사용 방법 비디오가 포...  \n",
       "2    개요.Knox Capture가 무엇이고 어떻게 작동하는지 알아보고 기본 사항부터 시...  \n",
       "3    문제 해결.앱에서 지원에 액세스하세요. 내에서 지원에 액세스하려면 프로필 목록 레이...  \n",
       "4    녹스 캡처.Knox Capture는 엔터프라이즈 IT 관리자가 조직의 삼성 갤럭시 ...  \n",
       "..                                                 ...  \n",
       "129  Knox Configure를 사용하기에 가장 적합한 회사 유형은 무엇입니까?Knox...  \n",
       "130  최종 사용자는 등록 후 Knox Configure에서 삼성 디바이스의 연결을 해제할...  \n",
       "131  Samsung은 고객을 위해 부팅/종료 애니메이션과 배경 화면을 사용자 정의합니까?...  \n",
       "132  Knox Configure를 사용하는 동안 발생할 수 있는 문제나 질문에 대해 삼성...  \n",
       "133  KDP 리셀러란 무엇인가요?_KDP_는 신뢰할 수 있는 삼성 디바이스 리셀러가 기업...  \n",
       "\n",
       "[1732 rows x 5 columns]"
      ]
     },
     "execution_count": 14,
     "metadata": {},
     "output_type": "execute_result"
    }
   ],
   "source": [
    "def post_process_translate(df):\n",
    "    df.drop(columns=['title', 'content'], inplace=True)\n",
    "    df.rename(columns={'title_ko': 'title', 'content_ko': 'content'}, inplace=True)\n",
    "\n",
    "    return df\n",
    "\n",
    "df_post = post_process_translate(df_kr)\n",
    "df_post"
   ]
  },
  {
   "cell_type": "markdown",
   "metadata": {},
   "source": [
    "# 5. Craete new korean Json file"
   ]
  },
  {
   "cell_type": "code",
   "execution_count": 15,
   "metadata": {
    "tags": []
   },
   "outputs": [
    {
     "name": "stdout",
     "output_type": "stream",
     "text": [
      "data/poc/preprocessed_json/all_processed_data_ko.json is generated\n"
     ]
    }
   ],
   "source": [
    "def create_json_file(df, file_name):\n",
    "    df.to_json(file_name, orient='records', force_ascii=False)\n",
    "    print(f\"{file_name} is generated\")\n",
    "\n",
    "cleaned_json_file_path = \"data/poc/preprocessed_json/all_processed_data_ko.json\"    \n",
    "create_json_file(df_post, file_name=\"data/poc/preprocessed_json/all_processed_data_ko.json\")\n"
   ]
  },
  {
   "cell_type": "code",
   "execution_count": 16,
   "metadata": {},
   "outputs": [
    {
     "data": {
      "text/html": [
       "<div>\n",
       "<style scoped>\n",
       "    .dataframe tbody tr th:only-of-type {\n",
       "        vertical-align: middle;\n",
       "    }\n",
       "\n",
       "    .dataframe tbody tr th {\n",
       "        vertical-align: top;\n",
       "    }\n",
       "\n",
       "    .dataframe thead th {\n",
       "        text-align: right;\n",
       "    }\n",
       "</style>\n",
       "<table border=\"1\" class=\"dataframe\">\n",
       "  <thead>\n",
       "    <tr style=\"text-align: right;\">\n",
       "      <th></th>\n",
       "      <th>last_updated</th>\n",
       "      <th>url</th>\n",
       "      <th>project</th>\n",
       "      <th>title</th>\n",
       "      <th>content</th>\n",
       "    </tr>\n",
       "  </thead>\n",
       "  <tbody>\n",
       "    <tr>\n",
       "      <th>0</th>\n",
       "      <td>2023-10-16</td>\n",
       "      <td>https://docs.samsungknox.com/admin/knox-captur...</td>\n",
       "      <td>KCAP</td>\n",
       "      <td>AR 데모 바코드</td>\n",
       "      <td>AR 데모 바코드.다음 바코드를 사용하여 녹스 캡처 AR 기능을 테스트하세요.바코드...</td>\n",
       "    </tr>\n",
       "    <tr>\n",
       "      <th>1</th>\n",
       "      <td>2023-07-26</td>\n",
       "      <td>https://docs.samsungknox.com/admin/knox-captur...</td>\n",
       "      <td>KCAP</td>\n",
       "      <td>동영상</td>\n",
       "      <td>동영상.이 섹션에는 Knox Capture와 관련된 제품 및 사용 방법 비디오가 포...</td>\n",
       "    </tr>\n",
       "    <tr>\n",
       "      <th>2</th>\n",
       "      <td>2023-07-26</td>\n",
       "      <td>https://docs.samsungknox.com/admin/knox-captur...</td>\n",
       "      <td>KCAP</td>\n",
       "      <td>개요</td>\n",
       "      <td>개요.Knox Capture가 무엇이고 어떻게 작동하는지 알아보고 기본 사항부터 시...</td>\n",
       "    </tr>\n",
       "  </tbody>\n",
       "</table>\n",
       "</div>"
      ],
      "text/plain": [
       "  last_updated                                                url project  \\\n",
       "0   2023-10-16  https://docs.samsungknox.com/admin/knox-captur...    KCAP   \n",
       "1   2023-07-26  https://docs.samsungknox.com/admin/knox-captur...    KCAP   \n",
       "2   2023-07-26  https://docs.samsungknox.com/admin/knox-captur...    KCAP   \n",
       "\n",
       "       title                                            content  \n",
       "0  AR 데모 바코드  AR 데모 바코드.다음 바코드를 사용하여 녹스 캡처 AR 기능을 테스트하세요.바코드...  \n",
       "1        동영상  동영상.이 섹션에는 Knox Capture와 관련된 제품 및 사용 방법 비디오가 포...  \n",
       "2         개요  개요.Knox Capture가 무엇이고 어떻게 작동하는지 알아보고 기본 사항부터 시...  "
      ]
     },
     "execution_count": 16,
     "metadata": {},
     "output_type": "execute_result"
    }
   ],
   "source": [
    "df_json = pd.read_json(cleaned_json_file_path)\n",
    "df_json.head(3)"
   ]
  },
  {
   "cell_type": "code",
   "execution_count": null,
   "metadata": {},
   "outputs": [],
   "source": []
  }
 ],
 "metadata": {
  "availableInstances": [
   {
    "_defaultOrder": 0,
    "_isFastLaunch": true,
    "category": "General purpose",
    "gpuNum": 0,
    "hideHardwareSpecs": false,
    "memoryGiB": 4,
    "name": "ml.t3.medium",
    "vcpuNum": 2
   },
   {
    "_defaultOrder": 1,
    "_isFastLaunch": false,
    "category": "General purpose",
    "gpuNum": 0,
    "hideHardwareSpecs": false,
    "memoryGiB": 8,
    "name": "ml.t3.large",
    "vcpuNum": 2
   },
   {
    "_defaultOrder": 2,
    "_isFastLaunch": false,
    "category": "General purpose",
    "gpuNum": 0,
    "hideHardwareSpecs": false,
    "memoryGiB": 16,
    "name": "ml.t3.xlarge",
    "vcpuNum": 4
   },
   {
    "_defaultOrder": 3,
    "_isFastLaunch": false,
    "category": "General purpose",
    "gpuNum": 0,
    "hideHardwareSpecs": false,
    "memoryGiB": 32,
    "name": "ml.t3.2xlarge",
    "vcpuNum": 8
   },
   {
    "_defaultOrder": 4,
    "_isFastLaunch": true,
    "category": "General purpose",
    "gpuNum": 0,
    "hideHardwareSpecs": false,
    "memoryGiB": 8,
    "name": "ml.m5.large",
    "vcpuNum": 2
   },
   {
    "_defaultOrder": 5,
    "_isFastLaunch": false,
    "category": "General purpose",
    "gpuNum": 0,
    "hideHardwareSpecs": false,
    "memoryGiB": 16,
    "name": "ml.m5.xlarge",
    "vcpuNum": 4
   },
   {
    "_defaultOrder": 6,
    "_isFastLaunch": false,
    "category": "General purpose",
    "gpuNum": 0,
    "hideHardwareSpecs": false,
    "memoryGiB": 32,
    "name": "ml.m5.2xlarge",
    "vcpuNum": 8
   },
   {
    "_defaultOrder": 7,
    "_isFastLaunch": false,
    "category": "General purpose",
    "gpuNum": 0,
    "hideHardwareSpecs": false,
    "memoryGiB": 64,
    "name": "ml.m5.4xlarge",
    "vcpuNum": 16
   },
   {
    "_defaultOrder": 8,
    "_isFastLaunch": false,
    "category": "General purpose",
    "gpuNum": 0,
    "hideHardwareSpecs": false,
    "memoryGiB": 128,
    "name": "ml.m5.8xlarge",
    "vcpuNum": 32
   },
   {
    "_defaultOrder": 9,
    "_isFastLaunch": false,
    "category": "General purpose",
    "gpuNum": 0,
    "hideHardwareSpecs": false,
    "memoryGiB": 192,
    "name": "ml.m5.12xlarge",
    "vcpuNum": 48
   },
   {
    "_defaultOrder": 10,
    "_isFastLaunch": false,
    "category": "General purpose",
    "gpuNum": 0,
    "hideHardwareSpecs": false,
    "memoryGiB": 256,
    "name": "ml.m5.16xlarge",
    "vcpuNum": 64
   },
   {
    "_defaultOrder": 11,
    "_isFastLaunch": false,
    "category": "General purpose",
    "gpuNum": 0,
    "hideHardwareSpecs": false,
    "memoryGiB": 384,
    "name": "ml.m5.24xlarge",
    "vcpuNum": 96
   },
   {
    "_defaultOrder": 12,
    "_isFastLaunch": false,
    "category": "General purpose",
    "gpuNum": 0,
    "hideHardwareSpecs": false,
    "memoryGiB": 8,
    "name": "ml.m5d.large",
    "vcpuNum": 2
   },
   {
    "_defaultOrder": 13,
    "_isFastLaunch": false,
    "category": "General purpose",
    "gpuNum": 0,
    "hideHardwareSpecs": false,
    "memoryGiB": 16,
    "name": "ml.m5d.xlarge",
    "vcpuNum": 4
   },
   {
    "_defaultOrder": 14,
    "_isFastLaunch": false,
    "category": "General purpose",
    "gpuNum": 0,
    "hideHardwareSpecs": false,
    "memoryGiB": 32,
    "name": "ml.m5d.2xlarge",
    "vcpuNum": 8
   },
   {
    "_defaultOrder": 15,
    "_isFastLaunch": false,
    "category": "General purpose",
    "gpuNum": 0,
    "hideHardwareSpecs": false,
    "memoryGiB": 64,
    "name": "ml.m5d.4xlarge",
    "vcpuNum": 16
   },
   {
    "_defaultOrder": 16,
    "_isFastLaunch": false,
    "category": "General purpose",
    "gpuNum": 0,
    "hideHardwareSpecs": false,
    "memoryGiB": 128,
    "name": "ml.m5d.8xlarge",
    "vcpuNum": 32
   },
   {
    "_defaultOrder": 17,
    "_isFastLaunch": false,
    "category": "General purpose",
    "gpuNum": 0,
    "hideHardwareSpecs": false,
    "memoryGiB": 192,
    "name": "ml.m5d.12xlarge",
    "vcpuNum": 48
   },
   {
    "_defaultOrder": 18,
    "_isFastLaunch": false,
    "category": "General purpose",
    "gpuNum": 0,
    "hideHardwareSpecs": false,
    "memoryGiB": 256,
    "name": "ml.m5d.16xlarge",
    "vcpuNum": 64
   },
   {
    "_defaultOrder": 19,
    "_isFastLaunch": false,
    "category": "General purpose",
    "gpuNum": 0,
    "hideHardwareSpecs": false,
    "memoryGiB": 384,
    "name": "ml.m5d.24xlarge",
    "vcpuNum": 96
   },
   {
    "_defaultOrder": 20,
    "_isFastLaunch": false,
    "category": "General purpose",
    "gpuNum": 0,
    "hideHardwareSpecs": true,
    "memoryGiB": 0,
    "name": "ml.geospatial.interactive",
    "supportedImageNames": [
     "sagemaker-geospatial-v1-0"
    ],
    "vcpuNum": 0
   },
   {
    "_defaultOrder": 21,
    "_isFastLaunch": true,
    "category": "Compute optimized",
    "gpuNum": 0,
    "hideHardwareSpecs": false,
    "memoryGiB": 4,
    "name": "ml.c5.large",
    "vcpuNum": 2
   },
   {
    "_defaultOrder": 22,
    "_isFastLaunch": false,
    "category": "Compute optimized",
    "gpuNum": 0,
    "hideHardwareSpecs": false,
    "memoryGiB": 8,
    "name": "ml.c5.xlarge",
    "vcpuNum": 4
   },
   {
    "_defaultOrder": 23,
    "_isFastLaunch": false,
    "category": "Compute optimized",
    "gpuNum": 0,
    "hideHardwareSpecs": false,
    "memoryGiB": 16,
    "name": "ml.c5.2xlarge",
    "vcpuNum": 8
   },
   {
    "_defaultOrder": 24,
    "_isFastLaunch": false,
    "category": "Compute optimized",
    "gpuNum": 0,
    "hideHardwareSpecs": false,
    "memoryGiB": 32,
    "name": "ml.c5.4xlarge",
    "vcpuNum": 16
   },
   {
    "_defaultOrder": 25,
    "_isFastLaunch": false,
    "category": "Compute optimized",
    "gpuNum": 0,
    "hideHardwareSpecs": false,
    "memoryGiB": 72,
    "name": "ml.c5.9xlarge",
    "vcpuNum": 36
   },
   {
    "_defaultOrder": 26,
    "_isFastLaunch": false,
    "category": "Compute optimized",
    "gpuNum": 0,
    "hideHardwareSpecs": false,
    "memoryGiB": 96,
    "name": "ml.c5.12xlarge",
    "vcpuNum": 48
   },
   {
    "_defaultOrder": 27,
    "_isFastLaunch": false,
    "category": "Compute optimized",
    "gpuNum": 0,
    "hideHardwareSpecs": false,
    "memoryGiB": 144,
    "name": "ml.c5.18xlarge",
    "vcpuNum": 72
   },
   {
    "_defaultOrder": 28,
    "_isFastLaunch": false,
    "category": "Compute optimized",
    "gpuNum": 0,
    "hideHardwareSpecs": false,
    "memoryGiB": 192,
    "name": "ml.c5.24xlarge",
    "vcpuNum": 96
   },
   {
    "_defaultOrder": 29,
    "_isFastLaunch": true,
    "category": "Accelerated computing",
    "gpuNum": 1,
    "hideHardwareSpecs": false,
    "memoryGiB": 16,
    "name": "ml.g4dn.xlarge",
    "vcpuNum": 4
   },
   {
    "_defaultOrder": 30,
    "_isFastLaunch": false,
    "category": "Accelerated computing",
    "gpuNum": 1,
    "hideHardwareSpecs": false,
    "memoryGiB": 32,
    "name": "ml.g4dn.2xlarge",
    "vcpuNum": 8
   },
   {
    "_defaultOrder": 31,
    "_isFastLaunch": false,
    "category": "Accelerated computing",
    "gpuNum": 1,
    "hideHardwareSpecs": false,
    "memoryGiB": 64,
    "name": "ml.g4dn.4xlarge",
    "vcpuNum": 16
   },
   {
    "_defaultOrder": 32,
    "_isFastLaunch": false,
    "category": "Accelerated computing",
    "gpuNum": 1,
    "hideHardwareSpecs": false,
    "memoryGiB": 128,
    "name": "ml.g4dn.8xlarge",
    "vcpuNum": 32
   },
   {
    "_defaultOrder": 33,
    "_isFastLaunch": false,
    "category": "Accelerated computing",
    "gpuNum": 4,
    "hideHardwareSpecs": false,
    "memoryGiB": 192,
    "name": "ml.g4dn.12xlarge",
    "vcpuNum": 48
   },
   {
    "_defaultOrder": 34,
    "_isFastLaunch": false,
    "category": "Accelerated computing",
    "gpuNum": 1,
    "hideHardwareSpecs": false,
    "memoryGiB": 256,
    "name": "ml.g4dn.16xlarge",
    "vcpuNum": 64
   },
   {
    "_defaultOrder": 35,
    "_isFastLaunch": false,
    "category": "Accelerated computing",
    "gpuNum": 1,
    "hideHardwareSpecs": false,
    "memoryGiB": 61,
    "name": "ml.p3.2xlarge",
    "vcpuNum": 8
   },
   {
    "_defaultOrder": 36,
    "_isFastLaunch": false,
    "category": "Accelerated computing",
    "gpuNum": 4,
    "hideHardwareSpecs": false,
    "memoryGiB": 244,
    "name": "ml.p3.8xlarge",
    "vcpuNum": 32
   },
   {
    "_defaultOrder": 37,
    "_isFastLaunch": false,
    "category": "Accelerated computing",
    "gpuNum": 8,
    "hideHardwareSpecs": false,
    "memoryGiB": 488,
    "name": "ml.p3.16xlarge",
    "vcpuNum": 64
   },
   {
    "_defaultOrder": 38,
    "_isFastLaunch": false,
    "category": "Accelerated computing",
    "gpuNum": 8,
    "hideHardwareSpecs": false,
    "memoryGiB": 768,
    "name": "ml.p3dn.24xlarge",
    "vcpuNum": 96
   },
   {
    "_defaultOrder": 39,
    "_isFastLaunch": false,
    "category": "Memory Optimized",
    "gpuNum": 0,
    "hideHardwareSpecs": false,
    "memoryGiB": 16,
    "name": "ml.r5.large",
    "vcpuNum": 2
   },
   {
    "_defaultOrder": 40,
    "_isFastLaunch": false,
    "category": "Memory Optimized",
    "gpuNum": 0,
    "hideHardwareSpecs": false,
    "memoryGiB": 32,
    "name": "ml.r5.xlarge",
    "vcpuNum": 4
   },
   {
    "_defaultOrder": 41,
    "_isFastLaunch": false,
    "category": "Memory Optimized",
    "gpuNum": 0,
    "hideHardwareSpecs": false,
    "memoryGiB": 64,
    "name": "ml.r5.2xlarge",
    "vcpuNum": 8
   },
   {
    "_defaultOrder": 42,
    "_isFastLaunch": false,
    "category": "Memory Optimized",
    "gpuNum": 0,
    "hideHardwareSpecs": false,
    "memoryGiB": 128,
    "name": "ml.r5.4xlarge",
    "vcpuNum": 16
   },
   {
    "_defaultOrder": 43,
    "_isFastLaunch": false,
    "category": "Memory Optimized",
    "gpuNum": 0,
    "hideHardwareSpecs": false,
    "memoryGiB": 256,
    "name": "ml.r5.8xlarge",
    "vcpuNum": 32
   },
   {
    "_defaultOrder": 44,
    "_isFastLaunch": false,
    "category": "Memory Optimized",
    "gpuNum": 0,
    "hideHardwareSpecs": false,
    "memoryGiB": 384,
    "name": "ml.r5.12xlarge",
    "vcpuNum": 48
   },
   {
    "_defaultOrder": 45,
    "_isFastLaunch": false,
    "category": "Memory Optimized",
    "gpuNum": 0,
    "hideHardwareSpecs": false,
    "memoryGiB": 512,
    "name": "ml.r5.16xlarge",
    "vcpuNum": 64
   },
   {
    "_defaultOrder": 46,
    "_isFastLaunch": false,
    "category": "Memory Optimized",
    "gpuNum": 0,
    "hideHardwareSpecs": false,
    "memoryGiB": 768,
    "name": "ml.r5.24xlarge",
    "vcpuNum": 96
   },
   {
    "_defaultOrder": 47,
    "_isFastLaunch": false,
    "category": "Accelerated computing",
    "gpuNum": 1,
    "hideHardwareSpecs": false,
    "memoryGiB": 16,
    "name": "ml.g5.xlarge",
    "vcpuNum": 4
   },
   {
    "_defaultOrder": 48,
    "_isFastLaunch": false,
    "category": "Accelerated computing",
    "gpuNum": 1,
    "hideHardwareSpecs": false,
    "memoryGiB": 32,
    "name": "ml.g5.2xlarge",
    "vcpuNum": 8
   },
   {
    "_defaultOrder": 49,
    "_isFastLaunch": false,
    "category": "Accelerated computing",
    "gpuNum": 1,
    "hideHardwareSpecs": false,
    "memoryGiB": 64,
    "name": "ml.g5.4xlarge",
    "vcpuNum": 16
   },
   {
    "_defaultOrder": 50,
    "_isFastLaunch": false,
    "category": "Accelerated computing",
    "gpuNum": 1,
    "hideHardwareSpecs": false,
    "memoryGiB": 128,
    "name": "ml.g5.8xlarge",
    "vcpuNum": 32
   },
   {
    "_defaultOrder": 51,
    "_isFastLaunch": false,
    "category": "Accelerated computing",
    "gpuNum": 1,
    "hideHardwareSpecs": false,
    "memoryGiB": 256,
    "name": "ml.g5.16xlarge",
    "vcpuNum": 64
   },
   {
    "_defaultOrder": 52,
    "_isFastLaunch": false,
    "category": "Accelerated computing",
    "gpuNum": 4,
    "hideHardwareSpecs": false,
    "memoryGiB": 192,
    "name": "ml.g5.12xlarge",
    "vcpuNum": 48
   },
   {
    "_defaultOrder": 53,
    "_isFastLaunch": false,
    "category": "Accelerated computing",
    "gpuNum": 4,
    "hideHardwareSpecs": false,
    "memoryGiB": 384,
    "name": "ml.g5.24xlarge",
    "vcpuNum": 96
   },
   {
    "_defaultOrder": 54,
    "_isFastLaunch": false,
    "category": "Accelerated computing",
    "gpuNum": 8,
    "hideHardwareSpecs": false,
    "memoryGiB": 768,
    "name": "ml.g5.48xlarge",
    "vcpuNum": 192
   },
   {
    "_defaultOrder": 55,
    "_isFastLaunch": false,
    "category": "Accelerated computing",
    "gpuNum": 8,
    "hideHardwareSpecs": false,
    "memoryGiB": 1152,
    "name": "ml.p4d.24xlarge",
    "vcpuNum": 96
   },
   {
    "_defaultOrder": 56,
    "_isFastLaunch": false,
    "category": "Accelerated computing",
    "gpuNum": 8,
    "hideHardwareSpecs": false,
    "memoryGiB": 1152,
    "name": "ml.p4de.24xlarge",
    "vcpuNum": 96
   }
  ],
  "instance_type": "ml.m5.xlarge",
  "kernelspec": {
   "display_name": "Python 3 (Data Science 3.0)",
   "language": "python",
   "name": "python3__SAGEMAKER_INTERNAL__arn:aws:sagemaker:us-east-1:081325390199:image/sagemaker-data-science-310-v1"
  },
  "language_info": {
   "codemirror_mode": {
    "name": "ipython",
    "version": 3
   },
   "file_extension": ".py",
   "mimetype": "text/x-python",
   "name": "python",
   "nbconvert_exporter": "python",
   "pygments_lexer": "ipython3",
   "version": "3.10.6"
  }
 },
 "nbformat": 4,
 "nbformat_minor": 4
}
