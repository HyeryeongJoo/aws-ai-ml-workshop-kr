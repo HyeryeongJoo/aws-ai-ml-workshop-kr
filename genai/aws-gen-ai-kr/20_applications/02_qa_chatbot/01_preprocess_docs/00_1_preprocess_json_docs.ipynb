{
 "cells": [
  {
   "cell_type": "markdown",
   "metadata": {
    "tags": []
   },
   "source": [
    "# Preprocess Input Data and Create processed Json file\n",
    "\n",
    "---\n",
    "\n",
    "---"
   ]
  },
  {
   "cell_type": "markdown",
   "metadata": {
    "tags": []
   },
   "source": [
    "# 1. Set up"
   ]
  },
  {
   "cell_type": "code",
   "execution_count": 1,
   "metadata": {
    "tags": []
   },
   "outputs": [
    {
     "name": "stdout",
     "output_type": "stream",
     "text": [
      "/home/ec2-user/SageMaker/aws-ai-ml-workshop-kr/genai/aws-gen-ai-kr/20_applications/02_qa_chatbot/01_preprocess_docs/utils\n"
     ]
    }
   ],
   "source": [
    "%load_ext autoreload\n",
    "%autoreload 2\n",
    "\n",
    "import sys, os\n",
    "# module_path = \"../../../utils\"\n",
    "# sys.path.append(os.path.abspath(module_path))\n",
    "# print(os.path.abspath(module_path))\n",
    "\n",
    "module_path = \"./utils\"\n",
    "sys.path.append(os.path.abspath(module_path))\n",
    "print(os.path.abspath(module_path))"
   ]
  },
  {
   "cell_type": "markdown",
   "metadata": {},
   "source": [
    "# 2. Remvoe duplicated contents "
   ]
  },
  {
   "cell_type": "code",
   "execution_count": 2,
   "metadata": {
    "tags": []
   },
   "outputs": [
    {
     "name": "stderr",
     "output_type": "stream",
     "text": [
      "/home/ec2-user/anaconda3/envs/python3/lib/python3.10/site-packages/pandas/core/computation/expressions.py:21: UserWarning: Pandas requires version '2.8.0' or newer of 'numexpr' (version '2.7.3' currently installed).\n",
      "  from pandas.core.computation.check import NUMEXPR_INSTALLED\n"
     ]
    }
   ],
   "source": [
    "from utils.proc_docs import get_load_json, show_doc_json"
   ]
  },
  {
   "cell_type": "code",
   "execution_count": 3,
   "metadata": {
    "tags": []
   },
   "outputs": [
    {
     "data": {
      "text/html": [
       "<div>\n",
       "<style scoped>\n",
       "    .dataframe tbody tr th:only-of-type {\n",
       "        vertical-align: middle;\n",
       "    }\n",
       "\n",
       "    .dataframe tbody tr th {\n",
       "        vertical-align: top;\n",
       "    }\n",
       "\n",
       "    .dataframe thead th {\n",
       "        text-align: right;\n",
       "    }\n",
       "</style>\n",
       "<table border=\"1\" class=\"dataframe\">\n",
       "  <thead>\n",
       "    <tr style=\"text-align: right;\">\n",
       "      <th></th>\n",
       "      <th>title</th>\n",
       "      <th>last_updated</th>\n",
       "      <th>content</th>\n",
       "      <th>url</th>\n",
       "      <th>project</th>\n",
       "    </tr>\n",
       "  </thead>\n",
       "  <tbody>\n",
       "    <tr>\n",
       "      <th>0</th>\n",
       "      <td>Get support</td>\n",
       "      <td>2023-07-26</td>\n",
       "      <td>Get support. To get support Select Support fro...</td>\n",
       "      <td>https://docs.samsungknox.com/admin/knox-guard/...</td>\n",
       "      <td>KG</td>\n",
       "    </tr>\n",
       "    <tr>\n",
       "      <th>1</th>\n",
       "      <td>How-to videos</td>\n",
       "      <td>2023-10-17</td>\n",
       "      <td>How-to videos. This section contains a video i...</td>\n",
       "      <td>https://docs.samsungknox.com/admin/knox-guard/...</td>\n",
       "      <td>KG</td>\n",
       "    </tr>\n",
       "    <tr>\n",
       "      <th>2</th>\n",
       "      <td>Knox Guard</td>\n",
       "      <td>2023-07-26</td>\n",
       "      <td>Knox Guard. Knox Guard is a cloud-based servic...</td>\n",
       "      <td>https://docs.samsungknox.com/admin/knox-guard</td>\n",
       "      <td>KG</td>\n",
       "    </tr>\n",
       "    <tr>\n",
       "      <th>3</th>\n",
       "      <td>Access the Knox Guard console</td>\n",
       "      <td>2023-07-26</td>\n",
       "      <td>Access the Knox Guard console. To access the K...</td>\n",
       "      <td>https://docs.samsungknox.com/admin/knox-guard/...</td>\n",
       "      <td>KG</td>\n",
       "    </tr>\n",
       "    <tr>\n",
       "      <th>4</th>\n",
       "      <td>Knox Guard status flow</td>\n",
       "      <td>2023-07-26</td>\n",
       "      <td>Knox Guard status flow. Once a device is added...</td>\n",
       "      <td>https://docs.samsungknox.com/admin/knox-guard/...</td>\n",
       "      <td>KG</td>\n",
       "    </tr>\n",
       "    <tr>\n",
       "      <th>...</th>\n",
       "      <td>...</td>\n",
       "      <td>...</td>\n",
       "      <td>...</td>\n",
       "      <td>...</td>\n",
       "      <td>...</td>\n",
       "    </tr>\n",
       "    <tr>\n",
       "      <th>16</th>\n",
       "      <td>What license do I need for Knox Authentication...</td>\n",
       "      <td>2023-07-26</td>\n",
       "      <td>What license do I need for Knox Authentication...</td>\n",
       "      <td>https://docs.samsungknox.com/admin/knox-authen...</td>\n",
       "      <td>KAM</td>\n",
       "    </tr>\n",
       "    <tr>\n",
       "      <th>17</th>\n",
       "      <td>How can I tell if my license is expired?</td>\n",
       "      <td>2023-07-26</td>\n",
       "      <td>How can I tell if my license is expired?. If y...</td>\n",
       "      <td>https://docs.samsungknox.com/admin/knox-authen...</td>\n",
       "      <td>KAM</td>\n",
       "    </tr>\n",
       "    <tr>\n",
       "      <th>18</th>\n",
       "      <td>Why do I get a license activation failed error?</td>\n",
       "      <td>2023-07-26</td>\n",
       "      <td>Why do I get a license activation failed error...</td>\n",
       "      <td>https://docs.samsungknox.com/admin/knox-authen...</td>\n",
       "      <td>KAM</td>\n",
       "    </tr>\n",
       "    <tr>\n",
       "      <th>19</th>\n",
       "      <td>Unable to authenticate face after v1.3 update</td>\n",
       "      <td>2023-09-26</td>\n",
       "      <td>Unable to authenticate face after v1.3 update....</td>\n",
       "      <td>https://docs.samsungknox.com/admin/knox-authen...</td>\n",
       "      <td>KAM</td>\n",
       "    </tr>\n",
       "    <tr>\n",
       "      <th>20</th>\n",
       "      <td>Knox Authentication Manager knowledge base art...</td>\n",
       "      <td>2023-09-26</td>\n",
       "      <td>Knox Authentication Manager knowledge base art...</td>\n",
       "      <td>https://docs.samsungknox.com/admin/knox-authen...</td>\n",
       "      <td>KAM</td>\n",
       "    </tr>\n",
       "  </tbody>\n",
       "</table>\n",
       "<p>1732 rows × 5 columns</p>\n",
       "</div>"
      ],
      "text/plain": [
       "                                                title last_updated  \\\n",
       "0                                         Get support   2023-07-26   \n",
       "1                                       How-to videos   2023-10-17   \n",
       "2                                          Knox Guard   2023-07-26   \n",
       "3                       Access the Knox Guard console   2023-07-26   \n",
       "4                              Knox Guard status flow   2023-07-26   \n",
       "..                                                ...          ...   \n",
       "16  What license do I need for Knox Authentication...   2023-07-26   \n",
       "17           How can I tell if my license is expired?   2023-07-26   \n",
       "18    Why do I get a license activation failed error?   2023-07-26   \n",
       "19      Unable to authenticate face after v1.3 update   2023-09-26   \n",
       "20  Knox Authentication Manager knowledge base art...   2023-09-26   \n",
       "\n",
       "                                              content  \\\n",
       "0   Get support. To get support Select Support fro...   \n",
       "1   How-to videos. This section contains a video i...   \n",
       "2   Knox Guard. Knox Guard is a cloud-based servic...   \n",
       "3   Access the Knox Guard console. To access the K...   \n",
       "4   Knox Guard status flow. Once a device is added...   \n",
       "..                                                ...   \n",
       "16  What license do I need for Knox Authentication...   \n",
       "17  How can I tell if my license is expired?. If y...   \n",
       "18  Why do I get a license activation failed error...   \n",
       "19  Unable to authenticate face after v1.3 update....   \n",
       "20  Knox Authentication Manager knowledge base art...   \n",
       "\n",
       "                                                  url project  \n",
       "0   https://docs.samsungknox.com/admin/knox-guard/...      KG  \n",
       "1   https://docs.samsungknox.com/admin/knox-guard/...      KG  \n",
       "2       https://docs.samsungknox.com/admin/knox-guard      KG  \n",
       "3   https://docs.samsungknox.com/admin/knox-guard/...      KG  \n",
       "4   https://docs.samsungknox.com/admin/knox-guard/...      KG  \n",
       "..                                                ...     ...  \n",
       "16  https://docs.samsungknox.com/admin/knox-authen...     KAM  \n",
       "17  https://docs.samsungknox.com/admin/knox-authen...     KAM  \n",
       "18  https://docs.samsungknox.com/admin/knox-authen...     KAM  \n",
       "19  https://docs.samsungknox.com/admin/knox-authen...     KAM  \n",
       "20  https://docs.samsungknox.com/admin/knox-authen...     KAM  \n",
       "\n",
       "[1732 rows x 5 columns]"
      ]
     },
     "execution_count": 3,
     "metadata": {},
     "output_type": "execute_result"
    }
   ],
   "source": [
    "import glob\n",
    "import pandas as pd\n",
    "\n",
    "# Specify the directory and file pattern for .txt files\n",
    "folder_path = 'data/poc/*.json'\n",
    "json_files = glob.glob(folder_path)\n",
    "\n",
    "def remove_duplicate_col(json_files, remove_col):\n",
    "    '''\n",
    "    json_files : list of json file path\n",
    "    remove_col : column name to remove duplicate\n",
    "    Desc: \n",
    "    '''\n",
    "    all_df = pd.DataFrame()\n",
    "    \n",
    "    for file_path in json_files:\n",
    "        df = pd.read_json(file_path)\n",
    "        df = pd.json_normalize(df.sections) # Normalize sections\n",
    "        all_df = pd.concat([all_df, df])\n",
    "    \n",
    "    all_df.drop_duplicates(subset=remove_col, inplace=True)\n",
    "    \n",
    "    return all_df\n",
    "\n",
    "df = remove_duplicate_col(json_files, remove_col='content')\n",
    "df"
   ]
  },
  {
   "cell_type": "markdown",
   "metadata": {},
   "source": [
    "# 3. Craete new json file"
   ]
  },
  {
   "cell_type": "code",
   "execution_count": 4,
   "metadata": {
    "tags": []
   },
   "outputs": [],
   "source": [
    "cleaned_json_file_path = \"data/poc/preprocessed_json/all_processed_data.json\"\n",
    "df.reset_index(drop=True).to_json(cleaned_json_file_path,orient='records')"
   ]
  },
  {
   "cell_type": "markdown",
   "metadata": {},
   "source": [
    "Verify the created json file"
   ]
  },
  {
   "cell_type": "code",
   "execution_count": 5,
   "metadata": {
    "tags": []
   },
   "outputs": [
    {
     "data": {
      "text/html": [
       "<div>\n",
       "<style scoped>\n",
       "    .dataframe tbody tr th:only-of-type {\n",
       "        vertical-align: middle;\n",
       "    }\n",
       "\n",
       "    .dataframe tbody tr th {\n",
       "        vertical-align: top;\n",
       "    }\n",
       "\n",
       "    .dataframe thead th {\n",
       "        text-align: right;\n",
       "    }\n",
       "</style>\n",
       "<table border=\"1\" class=\"dataframe\">\n",
       "  <thead>\n",
       "    <tr style=\"text-align: right;\">\n",
       "      <th></th>\n",
       "      <th>title</th>\n",
       "      <th>last_updated</th>\n",
       "      <th>content</th>\n",
       "      <th>url</th>\n",
       "      <th>project</th>\n",
       "    </tr>\n",
       "  </thead>\n",
       "  <tbody>\n",
       "    <tr>\n",
       "      <th>0</th>\n",
       "      <td>Get support</td>\n",
       "      <td>2023-07-26</td>\n",
       "      <td>Get support. To get support Select Support fro...</td>\n",
       "      <td>https://docs.samsungknox.com/admin/knox-guard/...</td>\n",
       "      <td>KG</td>\n",
       "    </tr>\n",
       "    <tr>\n",
       "      <th>1</th>\n",
       "      <td>How-to videos</td>\n",
       "      <td>2023-10-17</td>\n",
       "      <td>How-to videos. This section contains a video i...</td>\n",
       "      <td>https://docs.samsungknox.com/admin/knox-guard/...</td>\n",
       "      <td>KG</td>\n",
       "    </tr>\n",
       "    <tr>\n",
       "      <th>2</th>\n",
       "      <td>Knox Guard</td>\n",
       "      <td>2023-07-26</td>\n",
       "      <td>Knox Guard. Knox Guard is a cloud-based servic...</td>\n",
       "      <td>https://docs.samsungknox.com/admin/knox-guard</td>\n",
       "      <td>KG</td>\n",
       "    </tr>\n",
       "  </tbody>\n",
       "</table>\n",
       "</div>"
      ],
      "text/plain": [
       "           title last_updated  \\\n",
       "0    Get support   2023-07-26   \n",
       "1  How-to videos   2023-10-17   \n",
       "2     Knox Guard   2023-07-26   \n",
       "\n",
       "                                             content  \\\n",
       "0  Get support. To get support Select Support fro...   \n",
       "1  How-to videos. This section contains a video i...   \n",
       "2  Knox Guard. Knox Guard is a cloud-based servic...   \n",
       "\n",
       "                                                 url project  \n",
       "0  https://docs.samsungknox.com/admin/knox-guard/...      KG  \n",
       "1  https://docs.samsungknox.com/admin/knox-guard/...      KG  \n",
       "2      https://docs.samsungknox.com/admin/knox-guard      KG  "
      ]
     },
     "execution_count": 5,
     "metadata": {},
     "output_type": "execute_result"
    }
   ],
   "source": [
    "df_json = pd.read_json(cleaned_json_file_path)\n",
    "df_json.head(3)"
   ]
  },
  {
   "cell_type": "code",
   "execution_count": 6,
   "metadata": {
    "tags": []
   },
   "outputs": [
    {
     "name": "stdout",
     "output_type": "stream",
     "text": [
      "Stored 'cleaned_json_file_path' (str)\n"
     ]
    }
   ],
   "source": [
    "%store cleaned_json_file_path"
   ]
  },
  {
   "cell_type": "markdown",
   "metadata": {},
   "source": [
    "# 4. Translate English to Korean"
   ]
  },
  {
   "cell_type": "code",
   "execution_count": 7,
   "metadata": {
    "tags": []
   },
   "outputs": [],
   "source": [
    "import boto3\n",
    "translate_client = boto3.client(service_name='translate', region_name='us-west-2', use_ssl=True)"
   ]
  },
  {
   "cell_type": "markdown",
   "metadata": {
    "tags": []
   },
   "source": [
    "## Text Splitter 정의 \n",
    "- AWS Translate 는 최대 10000 bytes 를 번역할 수 있어서, 조금 더 작은 단위로 문서를 쪼개서 번역 함"
   ]
  },
  {
   "cell_type": "code",
   "execution_count": 8,
   "metadata": {
    "tags": []
   },
   "outputs": [],
   "source": [
    "from langchain.schema import Document\n",
    "from langchain.text_splitter import RecursiveCharacterTextSplitter, SpacyTextSplitter\n",
    "\n",
    "chunk_size = 8192\n",
    "chunk_overlap = 0\n",
    "\n",
    "text_splitter = RecursiveCharacterTextSplitter(\n",
    "    # Set a really small chunk size, just to show.\n",
    "    chunk_size = chunk_size,\n",
    "    chunk_overlap  = chunk_overlap,\n",
    "    separators=[\"\\n\\n\", \"\\n\", \".\", \" \", \"\"],\n",
    "    length_function = len,\n",
    ")"
   ]
  },
  {
   "cell_type": "code",
   "execution_count": 9,
   "metadata": {
    "tags": []
   },
   "outputs": [
    {
     "name": "stdout",
     "output_type": "stream",
     "text": [
      "CPU times: user 6 µs, sys: 1e+03 ns, total: 7 µs\n",
      "Wall time: 9.78 µs\n"
     ]
    }
   ],
   "source": [
    "%%time\n",
    "\n",
    "import pandas as pd\n",
    "\n",
    "def translate_df(df, target_col, new_col):\n",
    "    \n",
    "    def run_translate(text):\n",
    "        '''\n",
    "        Split doc into small chunks, translate them, and then merge into one\n",
    "        '''\n",
    "        doc = [Document(page_content=text)]\n",
    "        docs = text_splitter.split_documents(doc)                \n",
    "        \n",
    "        translate_doc = []\n",
    "        for i, chunk in enumerate(docs):\n",
    "            # print(\"English Text: \\n\", chunk.page_content)                    \n",
    "            result = translate_client.translate_text(Text=chunk.page_content, \n",
    "                    SourceLanguageCode=\"en\", TargetLanguageCode=\"ko\")\n",
    "            result = result['TranslatedText']\n",
    "            translate_doc.append(result)\n",
    "        # print(\"# of chunks: \", i)\n",
    "            \n",
    "        translate_doc = ' '.join(translate_doc)            \n",
    "        # print(\"translate_doc: \\n\", translate_doc)\n",
    "        \n",
    "        return translate_doc\n",
    "    \n",
    "    def translate(df):\n",
    "        text = df[target_col]\n",
    "        result = run_translate(text)\n",
    "        # print(result)        \n",
    "\n",
    "        return result\n",
    "        \n",
    "    # Start here\n",
    "    df[new_col] = df.apply(translate, axis=1)\n",
    "    \n",
    "    return df\n",
    "\n",
    "\n"
   ]
  },
  {
   "cell_type": "markdown",
   "metadata": {},
   "source": [
    "## 번역 실행"
   ]
  },
  {
   "cell_type": "code",
   "execution_count": 10,
   "metadata": {
    "tags": []
   },
   "outputs": [
    {
     "name": "stdout",
     "output_type": "stream",
     "text": [
      "CPU times: user 6.93 s, sys: 224 ms, total: 7.16 s\n",
      "Wall time: 10min 28s\n"
     ]
    }
   ],
   "source": [
    "%%time\n",
    "df_kr = translate_df(df, target_col='title', new_col='title_ko')\n",
    "df_kr = translate_df(df_kr, target_col='content', new_col='content_ko')\n"
   ]
  },
  {
   "cell_type": "code",
   "execution_count": 11,
   "metadata": {
    "tags": []
   },
   "outputs": [
    {
     "data": {
      "text/html": [
       "<div>\n",
       "<style scoped>\n",
       "    .dataframe tbody tr th:only-of-type {\n",
       "        vertical-align: middle;\n",
       "    }\n",
       "\n",
       "    .dataframe tbody tr th {\n",
       "        vertical-align: top;\n",
       "    }\n",
       "\n",
       "    .dataframe thead th {\n",
       "        text-align: right;\n",
       "    }\n",
       "</style>\n",
       "<table border=\"1\" class=\"dataframe\">\n",
       "  <thead>\n",
       "    <tr style=\"text-align: right;\">\n",
       "      <th></th>\n",
       "      <th>last_updated</th>\n",
       "      <th>url</th>\n",
       "      <th>project</th>\n",
       "      <th>title</th>\n",
       "      <th>content</th>\n",
       "    </tr>\n",
       "  </thead>\n",
       "  <tbody>\n",
       "    <tr>\n",
       "      <th>0</th>\n",
       "      <td>2023-07-26</td>\n",
       "      <td>https://docs.samsungknox.com/admin/knox-guard/...</td>\n",
       "      <td>KG</td>\n",
       "      <td>지원 받기</td>\n",
       "      <td>지원 받기.지원을 받으려면 왼쪽 탐색 메뉴에서 지원을 선택하여 Knox Guard에...</td>\n",
       "    </tr>\n",
       "    <tr>\n",
       "      <th>1</th>\n",
       "      <td>2023-10-17</td>\n",
       "      <td>https://docs.samsungknox.com/admin/knox-guard/...</td>\n",
       "      <td>KG</td>\n",
       "      <td>사용 방법 동영상</td>\n",
       "      <td>사용 방법 동영상.이 섹션에는 Knox Guard를 소개하는 비디오가 포함되어 있습...</td>\n",
       "    </tr>\n",
       "    <tr>\n",
       "      <th>2</th>\n",
       "      <td>2023-07-26</td>\n",
       "      <td>https://docs.samsungknox.com/admin/knox-guard</td>\n",
       "      <td>KG</td>\n",
       "      <td>녹스 가드</td>\n",
       "      <td>녹스 가드.Knox Guard는 사기와 도난으로부터 디바이스, 기업 자산, 결제 플...</td>\n",
       "    </tr>\n",
       "    <tr>\n",
       "      <th>3</th>\n",
       "      <td>2023-07-26</td>\n",
       "      <td>https://docs.samsungknox.com/admin/knox-guard/...</td>\n",
       "      <td>KG</td>\n",
       "      <td>녹스 가드 콘솔에 액세스</td>\n",
       "      <td>녹스 가드 콘솔에 액세스하세요.Knox Guard 콘솔에 액세스하려면 먼저 등록하고...</td>\n",
       "    </tr>\n",
       "    <tr>\n",
       "      <th>4</th>\n",
       "      <td>2023-07-26</td>\n",
       "      <td>https://docs.samsungknox.com/admin/knox-guard/...</td>\n",
       "      <td>KG</td>\n",
       "      <td>녹스 가드 상태 흐름</td>\n",
       "      <td>녹스 가드 상태 흐름.디바이스가 Knox Guard 콘솔에 추가되면 잠재적으로 다음...</td>\n",
       "    </tr>\n",
       "    <tr>\n",
       "      <th>...</th>\n",
       "      <td>...</td>\n",
       "      <td>...</td>\n",
       "      <td>...</td>\n",
       "      <td>...</td>\n",
       "      <td>...</td>\n",
       "    </tr>\n",
       "    <tr>\n",
       "      <th>16</th>\n",
       "      <td>2023-07-26</td>\n",
       "      <td>https://docs.samsungknox.com/admin/knox-authen...</td>\n",
       "      <td>KAM</td>\n",
       "      <td>Knox 인증 관리자를 사용하려면 어떤 라이선스가 필요한가요?</td>\n",
       "      <td>Knox 인증 관리자를 사용하려면 어떤 라이선스가 필요한가요?Knox 인증 관리자를...</td>\n",
       "    </tr>\n",
       "    <tr>\n",
       "      <th>17</th>\n",
       "      <td>2023-07-26</td>\n",
       "      <td>https://docs.samsungknox.com/admin/knox-authen...</td>\n",
       "      <td>KAM</td>\n",
       "      <td>라이선스가 만료되었는지 어떻게 알 수 있나요?</td>\n",
       "      <td>라이선스가 만료되었는지 어떻게 알 수 있나요?.라이선스가 만료된 경우 디바이스 사용...</td>\n",
       "    </tr>\n",
       "    <tr>\n",
       "      <th>18</th>\n",
       "      <td>2023-07-26</td>\n",
       "      <td>https://docs.samsungknox.com/admin/knox-authen...</td>\n",
       "      <td>KAM</td>\n",
       "      <td>라이선스 활성화 실패 오류가 발생하는 이유는 무엇인가요?</td>\n",
       "      <td>라이선스 활성화 실패 오류가 발생하는 이유는 무엇인가요?Knox Suite 라이선스...</td>\n",
       "    </tr>\n",
       "    <tr>\n",
       "      <th>19</th>\n",
       "      <td>2023-09-26</td>\n",
       "      <td>https://docs.samsungknox.com/admin/knox-authen...</td>\n",
       "      <td>KAM</td>\n",
       "      <td>v1.3 업데이트 이후 얼굴을 인증할 수 없음</td>\n",
       "      <td>v1.3 업데이트 이후 얼굴을 인증할 수 없습니다.환경, Knox Authentic...</td>\n",
       "    </tr>\n",
       "    <tr>\n",
       "      <th>20</th>\n",
       "      <td>2023-09-26</td>\n",
       "      <td>https://docs.samsungknox.com/admin/knox-authen...</td>\n",
       "      <td>KAM</td>\n",
       "      <td>Knox 인증 관리자 기술 자료 문서</td>\n",
       "      <td>Knox 인증 관리자 기술 자료 문서.Knowledge Base 문서를 살펴보고 일...</td>\n",
       "    </tr>\n",
       "  </tbody>\n",
       "</table>\n",
       "<p>1732 rows × 5 columns</p>\n",
       "</div>"
      ],
      "text/plain": [
       "   last_updated                                                url project  \\\n",
       "0    2023-07-26  https://docs.samsungknox.com/admin/knox-guard/...      KG   \n",
       "1    2023-10-17  https://docs.samsungknox.com/admin/knox-guard/...      KG   \n",
       "2    2023-07-26      https://docs.samsungknox.com/admin/knox-guard      KG   \n",
       "3    2023-07-26  https://docs.samsungknox.com/admin/knox-guard/...      KG   \n",
       "4    2023-07-26  https://docs.samsungknox.com/admin/knox-guard/...      KG   \n",
       "..          ...                                                ...     ...   \n",
       "16   2023-07-26  https://docs.samsungknox.com/admin/knox-authen...     KAM   \n",
       "17   2023-07-26  https://docs.samsungknox.com/admin/knox-authen...     KAM   \n",
       "18   2023-07-26  https://docs.samsungknox.com/admin/knox-authen...     KAM   \n",
       "19   2023-09-26  https://docs.samsungknox.com/admin/knox-authen...     KAM   \n",
       "20   2023-09-26  https://docs.samsungknox.com/admin/knox-authen...     KAM   \n",
       "\n",
       "                                 title  \\\n",
       "0                                지원 받기   \n",
       "1                            사용 방법 동영상   \n",
       "2                                녹스 가드   \n",
       "3                        녹스 가드 콘솔에 액세스   \n",
       "4                          녹스 가드 상태 흐름   \n",
       "..                                 ...   \n",
       "16  Knox 인증 관리자를 사용하려면 어떤 라이선스가 필요한가요?   \n",
       "17           라이선스가 만료되었는지 어떻게 알 수 있나요?   \n",
       "18     라이선스 활성화 실패 오류가 발생하는 이유는 무엇인가요?   \n",
       "19           v1.3 업데이트 이후 얼굴을 인증할 수 없음   \n",
       "20                Knox 인증 관리자 기술 자료 문서   \n",
       "\n",
       "                                              content  \n",
       "0   지원 받기.지원을 받으려면 왼쪽 탐색 메뉴에서 지원을 선택하여 Knox Guard에...  \n",
       "1   사용 방법 동영상.이 섹션에는 Knox Guard를 소개하는 비디오가 포함되어 있습...  \n",
       "2   녹스 가드.Knox Guard는 사기와 도난으로부터 디바이스, 기업 자산, 결제 플...  \n",
       "3   녹스 가드 콘솔에 액세스하세요.Knox Guard 콘솔에 액세스하려면 먼저 등록하고...  \n",
       "4   녹스 가드 상태 흐름.디바이스가 Knox Guard 콘솔에 추가되면 잠재적으로 다음...  \n",
       "..                                                ...  \n",
       "16  Knox 인증 관리자를 사용하려면 어떤 라이선스가 필요한가요?Knox 인증 관리자를...  \n",
       "17  라이선스가 만료되었는지 어떻게 알 수 있나요?.라이선스가 만료된 경우 디바이스 사용...  \n",
       "18  라이선스 활성화 실패 오류가 발생하는 이유는 무엇인가요?Knox Suite 라이선스...  \n",
       "19  v1.3 업데이트 이후 얼굴을 인증할 수 없습니다.환경, Knox Authentic...  \n",
       "20  Knox 인증 관리자 기술 자료 문서.Knowledge Base 문서를 살펴보고 일...  \n",
       "\n",
       "[1732 rows x 5 columns]"
      ]
     },
     "execution_count": 11,
     "metadata": {},
     "output_type": "execute_result"
    }
   ],
   "source": [
    "def post_process_translate(df):\n",
    "    df.drop(columns=['title', 'content'], inplace=True)\n",
    "    df.rename(columns={'title_ko': 'title', 'content_ko': 'content'}, inplace=True)\n",
    "\n",
    "    return df\n",
    "\n",
    "df_post = post_process_translate(df_kr)\n",
    "df_post"
   ]
  },
  {
   "cell_type": "markdown",
   "metadata": {},
   "source": [
    "# 5. Craete new korean Json file"
   ]
  },
  {
   "cell_type": "code",
   "execution_count": null,
   "metadata": {
    "tags": []
   },
   "outputs": [],
   "source": [
    "def create_json_file(df, file_name):\n",
    "    df.to_json(file_name, orient='records', force_ascii=False)\n",
    "    print(f\"{file_name} is generated\")\n",
    "\n",
    "cleaned_json_file_path = \"data/poc/preprocessed_json/all_processed_data_ko.json\"    \n",
    "create_json_file(df_post, file_name=\"data/poc/preprocessed_json/all_processed_data_ko.json\")\n"
   ]
  },
  {
   "cell_type": "code",
   "execution_count": null,
   "metadata": {
    "tags": []
   },
   "outputs": [],
   "source": [
    "df_json = pd.read_json(cleaned_json_file_path)\n",
    "df_json.head(3)"
   ]
  }
 ],
 "metadata": {
  "availableInstances": [
   {
    "_defaultOrder": 0,
    "_isFastLaunch": true,
    "category": "General purpose",
    "gpuNum": 0,
    "hideHardwareSpecs": false,
    "memoryGiB": 4,
    "name": "ml.t3.medium",
    "vcpuNum": 2
   },
   {
    "_defaultOrder": 1,
    "_isFastLaunch": false,
    "category": "General purpose",
    "gpuNum": 0,
    "hideHardwareSpecs": false,
    "memoryGiB": 8,
    "name": "ml.t3.large",
    "vcpuNum": 2
   },
   {
    "_defaultOrder": 2,
    "_isFastLaunch": false,
    "category": "General purpose",
    "gpuNum": 0,
    "hideHardwareSpecs": false,
    "memoryGiB": 16,
    "name": "ml.t3.xlarge",
    "vcpuNum": 4
   },
   {
    "_defaultOrder": 3,
    "_isFastLaunch": false,
    "category": "General purpose",
    "gpuNum": 0,
    "hideHardwareSpecs": false,
    "memoryGiB": 32,
    "name": "ml.t3.2xlarge",
    "vcpuNum": 8
   },
   {
    "_defaultOrder": 4,
    "_isFastLaunch": true,
    "category": "General purpose",
    "gpuNum": 0,
    "hideHardwareSpecs": false,
    "memoryGiB": 8,
    "name": "ml.m5.large",
    "vcpuNum": 2
   },
   {
    "_defaultOrder": 5,
    "_isFastLaunch": false,
    "category": "General purpose",
    "gpuNum": 0,
    "hideHardwareSpecs": false,
    "memoryGiB": 16,
    "name": "ml.m5.xlarge",
    "vcpuNum": 4
   },
   {
    "_defaultOrder": 6,
    "_isFastLaunch": false,
    "category": "General purpose",
    "gpuNum": 0,
    "hideHardwareSpecs": false,
    "memoryGiB": 32,
    "name": "ml.m5.2xlarge",
    "vcpuNum": 8
   },
   {
    "_defaultOrder": 7,
    "_isFastLaunch": false,
    "category": "General purpose",
    "gpuNum": 0,
    "hideHardwareSpecs": false,
    "memoryGiB": 64,
    "name": "ml.m5.4xlarge",
    "vcpuNum": 16
   },
   {
    "_defaultOrder": 8,
    "_isFastLaunch": false,
    "category": "General purpose",
    "gpuNum": 0,
    "hideHardwareSpecs": false,
    "memoryGiB": 128,
    "name": "ml.m5.8xlarge",
    "vcpuNum": 32
   },
   {
    "_defaultOrder": 9,
    "_isFastLaunch": false,
    "category": "General purpose",
    "gpuNum": 0,
    "hideHardwareSpecs": false,
    "memoryGiB": 192,
    "name": "ml.m5.12xlarge",
    "vcpuNum": 48
   },
   {
    "_defaultOrder": 10,
    "_isFastLaunch": false,
    "category": "General purpose",
    "gpuNum": 0,
    "hideHardwareSpecs": false,
    "memoryGiB": 256,
    "name": "ml.m5.16xlarge",
    "vcpuNum": 64
   },
   {
    "_defaultOrder": 11,
    "_isFastLaunch": false,
    "category": "General purpose",
    "gpuNum": 0,
    "hideHardwareSpecs": false,
    "memoryGiB": 384,
    "name": "ml.m5.24xlarge",
    "vcpuNum": 96
   },
   {
    "_defaultOrder": 12,
    "_isFastLaunch": false,
    "category": "General purpose",
    "gpuNum": 0,
    "hideHardwareSpecs": false,
    "memoryGiB": 8,
    "name": "ml.m5d.large",
    "vcpuNum": 2
   },
   {
    "_defaultOrder": 13,
    "_isFastLaunch": false,
    "category": "General purpose",
    "gpuNum": 0,
    "hideHardwareSpecs": false,
    "memoryGiB": 16,
    "name": "ml.m5d.xlarge",
    "vcpuNum": 4
   },
   {
    "_defaultOrder": 14,
    "_isFastLaunch": false,
    "category": "General purpose",
    "gpuNum": 0,
    "hideHardwareSpecs": false,
    "memoryGiB": 32,
    "name": "ml.m5d.2xlarge",
    "vcpuNum": 8
   },
   {
    "_defaultOrder": 15,
    "_isFastLaunch": false,
    "category": "General purpose",
    "gpuNum": 0,
    "hideHardwareSpecs": false,
    "memoryGiB": 64,
    "name": "ml.m5d.4xlarge",
    "vcpuNum": 16
   },
   {
    "_defaultOrder": 16,
    "_isFastLaunch": false,
    "category": "General purpose",
    "gpuNum": 0,
    "hideHardwareSpecs": false,
    "memoryGiB": 128,
    "name": "ml.m5d.8xlarge",
    "vcpuNum": 32
   },
   {
    "_defaultOrder": 17,
    "_isFastLaunch": false,
    "category": "General purpose",
    "gpuNum": 0,
    "hideHardwareSpecs": false,
    "memoryGiB": 192,
    "name": "ml.m5d.12xlarge",
    "vcpuNum": 48
   },
   {
    "_defaultOrder": 18,
    "_isFastLaunch": false,
    "category": "General purpose",
    "gpuNum": 0,
    "hideHardwareSpecs": false,
    "memoryGiB": 256,
    "name": "ml.m5d.16xlarge",
    "vcpuNum": 64
   },
   {
    "_defaultOrder": 19,
    "_isFastLaunch": false,
    "category": "General purpose",
    "gpuNum": 0,
    "hideHardwareSpecs": false,
    "memoryGiB": 384,
    "name": "ml.m5d.24xlarge",
    "vcpuNum": 96
   },
   {
    "_defaultOrder": 20,
    "_isFastLaunch": false,
    "category": "General purpose",
    "gpuNum": 0,
    "hideHardwareSpecs": true,
    "memoryGiB": 0,
    "name": "ml.geospatial.interactive",
    "supportedImageNames": [
     "sagemaker-geospatial-v1-0"
    ],
    "vcpuNum": 0
   },
   {
    "_defaultOrder": 21,
    "_isFastLaunch": true,
    "category": "Compute optimized",
    "gpuNum": 0,
    "hideHardwareSpecs": false,
    "memoryGiB": 4,
    "name": "ml.c5.large",
    "vcpuNum": 2
   },
   {
    "_defaultOrder": 22,
    "_isFastLaunch": false,
    "category": "Compute optimized",
    "gpuNum": 0,
    "hideHardwareSpecs": false,
    "memoryGiB": 8,
    "name": "ml.c5.xlarge",
    "vcpuNum": 4
   },
   {
    "_defaultOrder": 23,
    "_isFastLaunch": false,
    "category": "Compute optimized",
    "gpuNum": 0,
    "hideHardwareSpecs": false,
    "memoryGiB": 16,
    "name": "ml.c5.2xlarge",
    "vcpuNum": 8
   },
   {
    "_defaultOrder": 24,
    "_isFastLaunch": false,
    "category": "Compute optimized",
    "gpuNum": 0,
    "hideHardwareSpecs": false,
    "memoryGiB": 32,
    "name": "ml.c5.4xlarge",
    "vcpuNum": 16
   },
   {
    "_defaultOrder": 25,
    "_isFastLaunch": false,
    "category": "Compute optimized",
    "gpuNum": 0,
    "hideHardwareSpecs": false,
    "memoryGiB": 72,
    "name": "ml.c5.9xlarge",
    "vcpuNum": 36
   },
   {
    "_defaultOrder": 26,
    "_isFastLaunch": false,
    "category": "Compute optimized",
    "gpuNum": 0,
    "hideHardwareSpecs": false,
    "memoryGiB": 96,
    "name": "ml.c5.12xlarge",
    "vcpuNum": 48
   },
   {
    "_defaultOrder": 27,
    "_isFastLaunch": false,
    "category": "Compute optimized",
    "gpuNum": 0,
    "hideHardwareSpecs": false,
    "memoryGiB": 144,
    "name": "ml.c5.18xlarge",
    "vcpuNum": 72
   },
   {
    "_defaultOrder": 28,
    "_isFastLaunch": false,
    "category": "Compute optimized",
    "gpuNum": 0,
    "hideHardwareSpecs": false,
    "memoryGiB": 192,
    "name": "ml.c5.24xlarge",
    "vcpuNum": 96
   },
   {
    "_defaultOrder": 29,
    "_isFastLaunch": true,
    "category": "Accelerated computing",
    "gpuNum": 1,
    "hideHardwareSpecs": false,
    "memoryGiB": 16,
    "name": "ml.g4dn.xlarge",
    "vcpuNum": 4
   },
   {
    "_defaultOrder": 30,
    "_isFastLaunch": false,
    "category": "Accelerated computing",
    "gpuNum": 1,
    "hideHardwareSpecs": false,
    "memoryGiB": 32,
    "name": "ml.g4dn.2xlarge",
    "vcpuNum": 8
   },
   {
    "_defaultOrder": 31,
    "_isFastLaunch": false,
    "category": "Accelerated computing",
    "gpuNum": 1,
    "hideHardwareSpecs": false,
    "memoryGiB": 64,
    "name": "ml.g4dn.4xlarge",
    "vcpuNum": 16
   },
   {
    "_defaultOrder": 32,
    "_isFastLaunch": false,
    "category": "Accelerated computing",
    "gpuNum": 1,
    "hideHardwareSpecs": false,
    "memoryGiB": 128,
    "name": "ml.g4dn.8xlarge",
    "vcpuNum": 32
   },
   {
    "_defaultOrder": 33,
    "_isFastLaunch": false,
    "category": "Accelerated computing",
    "gpuNum": 4,
    "hideHardwareSpecs": false,
    "memoryGiB": 192,
    "name": "ml.g4dn.12xlarge",
    "vcpuNum": 48
   },
   {
    "_defaultOrder": 34,
    "_isFastLaunch": false,
    "category": "Accelerated computing",
    "gpuNum": 1,
    "hideHardwareSpecs": false,
    "memoryGiB": 256,
    "name": "ml.g4dn.16xlarge",
    "vcpuNum": 64
   },
   {
    "_defaultOrder": 35,
    "_isFastLaunch": false,
    "category": "Accelerated computing",
    "gpuNum": 1,
    "hideHardwareSpecs": false,
    "memoryGiB": 61,
    "name": "ml.p3.2xlarge",
    "vcpuNum": 8
   },
   {
    "_defaultOrder": 36,
    "_isFastLaunch": false,
    "category": "Accelerated computing",
    "gpuNum": 4,
    "hideHardwareSpecs": false,
    "memoryGiB": 244,
    "name": "ml.p3.8xlarge",
    "vcpuNum": 32
   },
   {
    "_defaultOrder": 37,
    "_isFastLaunch": false,
    "category": "Accelerated computing",
    "gpuNum": 8,
    "hideHardwareSpecs": false,
    "memoryGiB": 488,
    "name": "ml.p3.16xlarge",
    "vcpuNum": 64
   },
   {
    "_defaultOrder": 38,
    "_isFastLaunch": false,
    "category": "Accelerated computing",
    "gpuNum": 8,
    "hideHardwareSpecs": false,
    "memoryGiB": 768,
    "name": "ml.p3dn.24xlarge",
    "vcpuNum": 96
   },
   {
    "_defaultOrder": 39,
    "_isFastLaunch": false,
    "category": "Memory Optimized",
    "gpuNum": 0,
    "hideHardwareSpecs": false,
    "memoryGiB": 16,
    "name": "ml.r5.large",
    "vcpuNum": 2
   },
   {
    "_defaultOrder": 40,
    "_isFastLaunch": false,
    "category": "Memory Optimized",
    "gpuNum": 0,
    "hideHardwareSpecs": false,
    "memoryGiB": 32,
    "name": "ml.r5.xlarge",
    "vcpuNum": 4
   },
   {
    "_defaultOrder": 41,
    "_isFastLaunch": false,
    "category": "Memory Optimized",
    "gpuNum": 0,
    "hideHardwareSpecs": false,
    "memoryGiB": 64,
    "name": "ml.r5.2xlarge",
    "vcpuNum": 8
   },
   {
    "_defaultOrder": 42,
    "_isFastLaunch": false,
    "category": "Memory Optimized",
    "gpuNum": 0,
    "hideHardwareSpecs": false,
    "memoryGiB": 128,
    "name": "ml.r5.4xlarge",
    "vcpuNum": 16
   },
   {
    "_defaultOrder": 43,
    "_isFastLaunch": false,
    "category": "Memory Optimized",
    "gpuNum": 0,
    "hideHardwareSpecs": false,
    "memoryGiB": 256,
    "name": "ml.r5.8xlarge",
    "vcpuNum": 32
   },
   {
    "_defaultOrder": 44,
    "_isFastLaunch": false,
    "category": "Memory Optimized",
    "gpuNum": 0,
    "hideHardwareSpecs": false,
    "memoryGiB": 384,
    "name": "ml.r5.12xlarge",
    "vcpuNum": 48
   },
   {
    "_defaultOrder": 45,
    "_isFastLaunch": false,
    "category": "Memory Optimized",
    "gpuNum": 0,
    "hideHardwareSpecs": false,
    "memoryGiB": 512,
    "name": "ml.r5.16xlarge",
    "vcpuNum": 64
   },
   {
    "_defaultOrder": 46,
    "_isFastLaunch": false,
    "category": "Memory Optimized",
    "gpuNum": 0,
    "hideHardwareSpecs": false,
    "memoryGiB": 768,
    "name": "ml.r5.24xlarge",
    "vcpuNum": 96
   },
   {
    "_defaultOrder": 47,
    "_isFastLaunch": false,
    "category": "Accelerated computing",
    "gpuNum": 1,
    "hideHardwareSpecs": false,
    "memoryGiB": 16,
    "name": "ml.g5.xlarge",
    "vcpuNum": 4
   },
   {
    "_defaultOrder": 48,
    "_isFastLaunch": false,
    "category": "Accelerated computing",
    "gpuNum": 1,
    "hideHardwareSpecs": false,
    "memoryGiB": 32,
    "name": "ml.g5.2xlarge",
    "vcpuNum": 8
   },
   {
    "_defaultOrder": 49,
    "_isFastLaunch": false,
    "category": "Accelerated computing",
    "gpuNum": 1,
    "hideHardwareSpecs": false,
    "memoryGiB": 64,
    "name": "ml.g5.4xlarge",
    "vcpuNum": 16
   },
   {
    "_defaultOrder": 50,
    "_isFastLaunch": false,
    "category": "Accelerated computing",
    "gpuNum": 1,
    "hideHardwareSpecs": false,
    "memoryGiB": 128,
    "name": "ml.g5.8xlarge",
    "vcpuNum": 32
   },
   {
    "_defaultOrder": 51,
    "_isFastLaunch": false,
    "category": "Accelerated computing",
    "gpuNum": 1,
    "hideHardwareSpecs": false,
    "memoryGiB": 256,
    "name": "ml.g5.16xlarge",
    "vcpuNum": 64
   },
   {
    "_defaultOrder": 52,
    "_isFastLaunch": false,
    "category": "Accelerated computing",
    "gpuNum": 4,
    "hideHardwareSpecs": false,
    "memoryGiB": 192,
    "name": "ml.g5.12xlarge",
    "vcpuNum": 48
   },
   {
    "_defaultOrder": 53,
    "_isFastLaunch": false,
    "category": "Accelerated computing",
    "gpuNum": 4,
    "hideHardwareSpecs": false,
    "memoryGiB": 384,
    "name": "ml.g5.24xlarge",
    "vcpuNum": 96
   },
   {
    "_defaultOrder": 54,
    "_isFastLaunch": false,
    "category": "Accelerated computing",
    "gpuNum": 8,
    "hideHardwareSpecs": false,
    "memoryGiB": 768,
    "name": "ml.g5.48xlarge",
    "vcpuNum": 192
   },
   {
    "_defaultOrder": 55,
    "_isFastLaunch": false,
    "category": "Accelerated computing",
    "gpuNum": 8,
    "hideHardwareSpecs": false,
    "memoryGiB": 1152,
    "name": "ml.p4d.24xlarge",
    "vcpuNum": 96
   },
   {
    "_defaultOrder": 56,
    "_isFastLaunch": false,
    "category": "Accelerated computing",
    "gpuNum": 8,
    "hideHardwareSpecs": false,
    "memoryGiB": 1152,
    "name": "ml.p4de.24xlarge",
    "vcpuNum": 96
   }
  ],
  "instance_type": "ml.m5.xlarge",
  "kernelspec": {
   "display_name": "conda_python3",
   "language": "python",
   "name": "conda_python3"
  },
  "language_info": {
   "codemirror_mode": {
    "name": "ipython",
    "version": 3
   },
   "file_extension": ".py",
   "mimetype": "text/x-python",
   "name": "python",
   "nbconvert_exporter": "python",
   "pygments_lexer": "ipython3",
   "version": "3.10.13"
  }
 },
 "nbformat": 4,
 "nbformat_minor": 4
}
