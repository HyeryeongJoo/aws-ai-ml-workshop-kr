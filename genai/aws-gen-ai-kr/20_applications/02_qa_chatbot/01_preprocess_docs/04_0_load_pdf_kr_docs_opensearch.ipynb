{
 "cells": [
  {
   "cell_type": "markdown",
   "metadata": {
    "tags": []
   },
   "source": [
    "# 신한은행 FAQ 데이타를 이용하여 스키마 정의 후 Vector Store 생성 \n",
    "\n",
    "이 노트북은 신한은행 FAQ 데이타를 이용하여 오픈 서치 벡터 스토어에 데이터를 저장하고, 렉시컬, 시멘틱, 하이브리드 검색을 해보는 노트북 입니다.\n",
    "\n",
    "---"
   ]
  },
  {
   "cell_type": "markdown",
   "metadata": {},
   "source": [
    "## [중요] 사전 실행 노트북\n",
    "이 노트북은 아래 두개의 셋업 노트북이 먼저 실행이 되어야 합니다.\n",
    "- (1) Setup 노트북\n",
    "    - 경로는 aws-ai-ml-workshop-kr/genai/aws-gen-ai-kr/00_setup/setup.ipynb 와 같습니다.\n",
    "    -  [Setup Notebook](https://github.com/aws-samples/aws-ai-ml-workshop-kr/blob/master/genai/aws-gen-ai-kr/00_setup/setup.ipynb)\n",
    "- (2) Amazon OpenSearch 설치 노트북    \n",
    "    - 경로는 aws-ai-ml-workshop-kr/genai/aws-gen-ai-kr/00_setup/setup_opensearch.ipynb 와 같습니다.\n",
    "    - [Setup OpenSearch](https://github.com/aws-samples/aws-ai-ml-workshop-kr/blob/master/genai/aws-gen-ai-kr/00_setup/setup_opensearch.ipynb)"
   ]
  },
  {
   "cell_type": "markdown",
   "metadata": {},
   "source": [
    "## Setting\n",
    " - Auto Reload\n",
    " - path for utils"
   ]
  },
  {
   "cell_type": "code",
   "execution_count": 1,
   "metadata": {
    "tags": []
   },
   "outputs": [],
   "source": [
    "%load_ext autoreload\n",
    "%autoreload 2"
   ]
  },
  {
   "cell_type": "code",
   "execution_count": 2,
   "metadata": {
    "tags": []
   },
   "outputs": [
    {
     "name": "stdout",
     "output_type": "stream",
     "text": [
      "python path: /home/ec2-user/SageMaker/aws-ai-ml-workshop-kr/genai/aws-gen-ai-kr/20_applications/02_qa_chatbot is added\n",
      "sys.path:  ['/home/ec2-user/SageMaker/aws-ai-ml-workshop-kr/genai/aws-gen-ai-kr/20_applications/02_qa_chatbot/01_preprocess_docs', '/home/ec2-user/anaconda3/envs/python3/lib/python310.zip', '/home/ec2-user/anaconda3/envs/python3/lib/python3.10', '/home/ec2-user/anaconda3/envs/python3/lib/python3.10/lib-dynload', '', '/home/ec2-user/anaconda3/envs/python3/lib/python3.10/site-packages', '/home/ec2-user/SageMaker/aws-ai-ml-workshop-kr/genai/aws-gen-ai-kr/20_applications/02_qa_chatbot']\n",
      "python path: /home/ec2-user/SageMaker/aws-ai-ml-workshop-kr/genai/aws-gen-ai-kr is added\n",
      "sys.path:  ['/home/ec2-user/SageMaker/aws-ai-ml-workshop-kr/genai/aws-gen-ai-kr/20_applications/02_qa_chatbot/01_preprocess_docs', '/home/ec2-user/anaconda3/envs/python3/lib/python310.zip', '/home/ec2-user/anaconda3/envs/python3/lib/python3.10', '/home/ec2-user/anaconda3/envs/python3/lib/python3.10/lib-dynload', '', '/home/ec2-user/anaconda3/envs/python3/lib/python3.10/site-packages', '/home/ec2-user/SageMaker/aws-ai-ml-workshop-kr/genai/aws-gen-ai-kr/20_applications/02_qa_chatbot', '/home/ec2-user/SageMaker/aws-ai-ml-workshop-kr/genai/aws-gen-ai-kr']\n"
     ]
    }
   ],
   "source": [
    "import sys, os\n",
    "\n",
    "def add_python_path(module_path):\n",
    "    if os.path.abspath(module_path) not in sys.path:\n",
    "        sys.path.append(os.path.abspath(module_path))\n",
    "        print(f\"python path: {os.path.abspath(module_path)} is added\")\n",
    "    else:\n",
    "        print(f\"python path: {os.path.abspath(module_path)} already exists\")\n",
    "    print(\"sys.path: \", sys.path)\n",
    "\n",
    "module_path = \"..\"\n",
    "add_python_path(module_path)\n",
    "module_path = \"../../..\"\n",
    "add_python_path(module_path)"
   ]
  },
  {
   "cell_type": "markdown",
   "metadata": {},
   "source": [
    "## 1. Bedrock Client 생성"
   ]
  },
  {
   "cell_type": "code",
   "execution_count": 3,
   "metadata": {
    "tags": []
   },
   "outputs": [],
   "source": [
    "import json\n",
    "import boto3\n",
    "from pprint import pprint\n",
    "from termcolor import colored\n",
    "from utils import bedrock, print_ww\n",
    "from utils.bedrock import bedrock_info"
   ]
  },
  {
   "cell_type": "markdown",
   "metadata": {},
   "source": [
    "### ---- ⚠️ Un-comment and edit the below lines as needed for your AWS setup ⚠️ ----\n",
    "- os.environ[\"AWS_DEFAULT_REGION\"] = \"<REGION_NAME>\"  # E.g. \"us-east-1\"\n",
    "- os.environ[\"AWS_PROFILE\"] = \"<YOUR_PROFILE>\"\n",
    "- os.environ[\"BEDROCK_ASSUME_ROLE\"] = \"<YOUR_ROLE_ARN>\"  # E.g. \"arn:aws:...\"\n",
    "- os.environ[\"BEDROCK_ENDPOINT_URL\"] = \"<YOUR_ENDPOINT_URL>\"  # E.g. \"https://...\""
   ]
  },
  {
   "cell_type": "code",
   "execution_count": 4,
   "metadata": {
    "tags": []
   },
   "outputs": [
    {
     "name": "stdout",
     "output_type": "stream",
     "text": [
      "Create new client\n",
      "  Using region: None\n",
      "  Using profile: None\n",
      "boto3 Bedrock client successfully created!\n",
      "bedrock-runtime(https://bedrock-runtime.us-east-1.amazonaws.com)\n",
      "\u001b[32m\n",
      "== FM lists ==\u001b[0m\n",
      "{'Claude-Instant-V1': 'anthropic.claude-instant-v1',\n",
      " 'Claude-V1': 'anthropic.claude-v1',\n",
      " 'Claude-V2': 'anthropic.claude-v2',\n",
      " 'Claude-V2-1': 'anthropic.claude-v2:1',\n",
      " 'Claude-V3-Haiku': 'anthropic.claude-3-haiku-20240307-v1:0',\n",
      " 'Claude-V3-Sonnet': 'anthropic.claude-3-sonnet-20240229-v1:0',\n",
      " 'Cohere-Embeddings-En': 'cohere.embed-english-v3',\n",
      " 'Cohere-Embeddings-Multilingual': 'cohere.embed-multilingual-v3',\n",
      " 'Command': 'cohere.command-text-v14',\n",
      " 'Command-Light': 'cohere.command-light-text-v14',\n",
      " 'Jurassic-2-Mid': 'ai21.j2-mid-v1',\n",
      " 'Jurassic-2-Ultra': 'ai21.j2-ultra-v1',\n",
      " 'Llama2-13b-Chat': 'meta.llama2-13b-chat-v1',\n",
      " 'Titan-Embeddings-G1': 'amazon.titan-embed-text-v1',\n",
      " 'Titan-Text-G1': 'amazon.titan-text-express-v1',\n",
      " 'Titan-Text-G1-Light': 'amazon.titan-text-lite-v1'}\n"
     ]
    }
   ],
   "source": [
    "boto3_bedrock = bedrock.get_bedrock_client(\n",
    "    assumed_role=os.environ.get(\"BEDROCK_ASSUME_ROLE\", None),\n",
    "    endpoint_url=os.environ.get(\"BEDROCK_ENDPOINT_URL\", None),\n",
    "    region=os.environ.get(\"AWS_DEFAULT_REGION\", None),\n",
    ")\n",
    "\n",
    "print (colored(\"\\n== FM lists ==\", \"green\"))\n",
    "pprint (bedrock_info.get_list_fm_models(verbose=False))"
   ]
  },
  {
   "cell_type": "markdown",
   "metadata": {},
   "source": [
    "## 2. Embedding 모델 로딩"
   ]
  },
  {
   "cell_type": "markdown",
   "metadata": {},
   "source": [
    "## Embedding Model 선택"
   ]
  },
  {
   "cell_type": "code",
   "execution_count": 5,
   "metadata": {
    "tags": []
   },
   "outputs": [],
   "source": [
    "# We will be using the Titan Embeddings Model to generate our Embeddings.\n",
    "from langchain.embeddings import BedrockEmbeddings\n",
    "from langchain_community.chat_models import BedrockChat"
   ]
  },
  {
   "cell_type": "code",
   "execution_count": 6,
   "metadata": {
    "tags": []
   },
   "outputs": [
    {
     "data": {
      "text/plain": [
       "BedrockEmbeddings(client=<botocore.client.BedrockRuntime object at 0x7f7777e99b70>, region_name=None, credentials_profile_name=None, model_id='amazon.titan-embed-text-v1', model_kwargs=None, endpoint_url=None, normalize=False)"
      ]
     },
     "execution_count": 6,
     "metadata": {},
     "output_type": "execute_result"
    }
   ],
   "source": [
    "llm_emb = BedrockEmbeddings(\n",
    "    client=boto3_bedrock,\n",
    "    model_id=bedrock_info.get_model_id(\n",
    "        model_name=\"Titan-Embeddings-G1\"\n",
    "    )\n",
    ")\n",
    "dimension = 1536\n",
    "llm_emb"
   ]
  },
  {
   "cell_type": "markdown",
   "metadata": {},
   "source": [
    "## 3.데이터 준비 "
   ]
  },
  {
   "cell_type": "markdown",
   "metadata": {
    "tags": []
   },
   "source": [
    "###  신한은행 FAQ 데이터 세트로 구현\n",
    "- [중요] 저자 및 동료가 아래의 웹사이트에서 크로링한 기준으로 구성 하였습니다.\n",
    "- 인터넷뱅킹 FAQ > 스마트뱅킹 No.1 ~ N. 89 로 구성되었습니다. \n",
    "- https://www.shinhan.com/hpe/index.jsp#050101020000"
   ]
  },
  {
   "cell_type": "code",
   "execution_count": 7,
   "metadata": {
    "tags": []
   },
   "outputs": [],
   "source": [
    "import pandas as pd"
   ]
  },
  {
   "cell_type": "code",
   "execution_count": 8,
   "metadata": {
    "tags": []
   },
   "outputs": [
    {
     "data": {
      "text/html": [
       "<div>\n",
       "<style scoped>\n",
       "    .dataframe tbody tr th:only-of-type {\n",
       "        vertical-align: middle;\n",
       "    }\n",
       "\n",
       "    .dataframe tbody tr th {\n",
       "        vertical-align: top;\n",
       "    }\n",
       "\n",
       "    .dataframe thead th {\n",
       "        text-align: right;\n",
       "    }\n",
       "</style>\n",
       "<table border=\"1\" class=\"dataframe\">\n",
       "  <thead>\n",
       "    <tr style=\"text-align: right;\">\n",
       "      <th></th>\n",
       "      <th>no</th>\n",
       "      <th>Category</th>\n",
       "      <th>Information</th>\n",
       "      <th>type</th>\n",
       "      <th>Source</th>\n",
       "    </tr>\n",
       "  </thead>\n",
       "  <tbody>\n",
       "    <tr>\n",
       "      <th>0</th>\n",
       "      <td>91</td>\n",
       "      <td>아마존 은행의 타기관OTP 이용등록방법 알려주세요</td>\n",
       "      <td>아마존 은행의 타기관에서 발급받으신 OTP가 통합OTP카드인 경우 당행에 등록하여 ...</td>\n",
       "      <td>인터넷뱅킹</td>\n",
       "      <td>아마존은행</td>\n",
       "    </tr>\n",
       "    <tr>\n",
       "      <th>1</th>\n",
       "      <td>90</td>\n",
       "      <td>아마존 공동인증서와 금융인증서 차이점이 무엇인가요?</td>\n",
       "      <td>공동인증서 (구 공인인증서)는 용도에 따라 은행/신용카드/보험용 무료 인증서와 전자...</td>\n",
       "      <td>인증서</td>\n",
       "      <td>아마존은행</td>\n",
       "    </tr>\n",
       "    <tr>\n",
       "      <th>2</th>\n",
       "      <td>88</td>\n",
       "      <td>공동인증서와 금융인증서 차이점이 무엇인가요?</td>\n",
       "      <td>공동인증서 (구 공인인증서)는 용도에 따라 은행/신용카드/보험용 무료 인증서와 전자...</td>\n",
       "      <td>인증서</td>\n",
       "      <td>신한은행</td>\n",
       "    </tr>\n",
       "    <tr>\n",
       "      <th>3</th>\n",
       "      <td>89</td>\n",
       "      <td>타기관OTP 이용등록방법 알려주세요</td>\n",
       "      <td>타기관에서 발급받으신 OTP가 통합OTP카드인 경우 당행에 등록하여 이용가능합니다....</td>\n",
       "      <td>인터넷뱅킹</td>\n",
       "      <td>신한은행</td>\n",
       "    </tr>\n",
       "    <tr>\n",
       "      <th>4</th>\n",
       "      <td>88</td>\n",
       "      <td>공동인증서와 금융인증서 차이점이 무엇인가요?</td>\n",
       "      <td>공동인증서 (구 공인인증서)는 용도에 따라 은행/신용카드/보험용 무료 인증서와 전자...</td>\n",
       "      <td>인증서</td>\n",
       "      <td>신한은행</td>\n",
       "    </tr>\n",
       "    <tr>\n",
       "      <th>...</th>\n",
       "      <td>...</td>\n",
       "      <td>...</td>\n",
       "      <td>...</td>\n",
       "      <td>...</td>\n",
       "      <td>...</td>\n",
       "    </tr>\n",
       "    <tr>\n",
       "      <th>87</th>\n",
       "      <td>5</td>\n",
       "      <td>인터넷에서 이체한 거래의 상세내역 및 영수증을 인쇄하고 싶어요</td>\n",
       "      <td>인터넷상에서 이체한 거래의 경우 인터넷상에서 제공하는 영수증은 없으며, 거래의 참고...</td>\n",
       "      <td>인터넷뱅킹</td>\n",
       "      <td>신한은행</td>\n",
       "    </tr>\n",
       "    <tr>\n",
       "      <th>88</th>\n",
       "      <td>4</td>\n",
       "      <td>타행으로 자동이체를 신청하고 싶은데요</td>\n",
       "      <td>인터넷뱅킹을 통한 타은행 계좌로의 자동이체(납부자 자동이체)신청이 가능하며 수수료는...</td>\n",
       "      <td>인터넷뱅킹</td>\n",
       "      <td>신한은행</td>\n",
       "    </tr>\n",
       "    <tr>\n",
       "      <th>89</th>\n",
       "      <td>3</td>\n",
       "      <td>공과금 자동이체 신청이 가능한가요?</td>\n",
       "      <td>인터넷뱅킹에 로그인하신 후 \"공과금/법원 &gt; 공과금센터\" 페이지에 가시면 \"지로자동...</td>\n",
       "      <td>인터넷뱅킹</td>\n",
       "      <td>신한은행</td>\n",
       "    </tr>\n",
       "    <tr>\n",
       "      <th>90</th>\n",
       "      <td>2</td>\n",
       "      <td>인터넷뱅킹 거래에 대한 책임 범위를 알고싶습니다.</td>\n",
       "      <td>기본적으로 은행이 인터넷뱅킹 사고에 대한 책임을 집니다. 해커의 침입에 의해 자금이...</td>\n",
       "      <td>인터넷뱅킹</td>\n",
       "      <td>신한은행</td>\n",
       "    </tr>\n",
       "    <tr>\n",
       "      <th>91</th>\n",
       "      <td>1</td>\n",
       "      <td>인터넷뱅킹을 이용하려면 어떻게 해야 합니까?</td>\n",
       "      <td>영업점에 방문하지 않아도, 모바일에서 신한 쏠 (SOL) 어플 다운로드후 회원가입하...</td>\n",
       "      <td>인터넷뱅킹</td>\n",
       "      <td>신한은행</td>\n",
       "    </tr>\n",
       "  </tbody>\n",
       "</table>\n",
       "<p>92 rows × 5 columns</p>\n",
       "</div>"
      ],
      "text/plain": [
       "    no                            Category  \\\n",
       "0   91         아마존 은행의 타기관OTP 이용등록방법 알려주세요   \n",
       "1   90        아마존 공동인증서와 금융인증서 차이점이 무엇인가요?   \n",
       "2   88            공동인증서와 금융인증서 차이점이 무엇인가요?   \n",
       "3   89                 타기관OTP 이용등록방법 알려주세요   \n",
       "4   88            공동인증서와 금융인증서 차이점이 무엇인가요?   \n",
       "..  ..                                 ...   \n",
       "87   5  인터넷에서 이체한 거래의 상세내역 및 영수증을 인쇄하고 싶어요   \n",
       "88   4                타행으로 자동이체를 신청하고 싶은데요   \n",
       "89   3                 공과금 자동이체 신청이 가능한가요?   \n",
       "90   2         인터넷뱅킹 거래에 대한 책임 범위를 알고싶습니다.   \n",
       "91   1            인터넷뱅킹을 이용하려면 어떻게 해야 합니까?   \n",
       "\n",
       "                                          Information   type Source  \n",
       "0   아마존 은행의 타기관에서 발급받으신 OTP가 통합OTP카드인 경우 당행에 등록하여 ...  인터넷뱅킹  아마존은행  \n",
       "1   공동인증서 (구 공인인증서)는 용도에 따라 은행/신용카드/보험용 무료 인증서와 전자...    인증서  아마존은행  \n",
       "2   공동인증서 (구 공인인증서)는 용도에 따라 은행/신용카드/보험용 무료 인증서와 전자...    인증서   신한은행  \n",
       "3   타기관에서 발급받으신 OTP가 통합OTP카드인 경우 당행에 등록하여 이용가능합니다....  인터넷뱅킹   신한은행  \n",
       "4   공동인증서 (구 공인인증서)는 용도에 따라 은행/신용카드/보험용 무료 인증서와 전자...    인증서   신한은행  \n",
       "..                                                ...    ...    ...  \n",
       "87  인터넷상에서 이체한 거래의 경우 인터넷상에서 제공하는 영수증은 없으며, 거래의 참고...  인터넷뱅킹   신한은행  \n",
       "88  인터넷뱅킹을 통한 타은행 계좌로의 자동이체(납부자 자동이체)신청이 가능하며 수수료는...  인터넷뱅킹   신한은행  \n",
       "89  인터넷뱅킹에 로그인하신 후 \"공과금/법원 > 공과금센터\" 페이지에 가시면 \"지로자동...  인터넷뱅킹   신한은행  \n",
       "90  기본적으로 은행이 인터넷뱅킹 사고에 대한 책임을 집니다. 해커의 침입에 의해 자금이...  인터넷뱅킹   신한은행  \n",
       "91  영업점에 방문하지 않아도, 모바일에서 신한 쏠 (SOL) 어플 다운로드후 회원가입하...  인터넷뱅킹   신한은행  \n",
       "\n",
       "[92 rows x 5 columns]"
      ]
     },
     "execution_count": 8,
     "metadata": {},
     "output_type": "execute_result"
    }
   ],
   "source": [
    "data_file_path = \"./data/shinhan/fsi_smart_faq_ko.csv\"\n",
    "df = pd.read_csv(data_file_path)\n",
    "df"
   ]
  },
  {
   "cell_type": "markdown",
   "metadata": {},
   "source": [
    "### 데이터 전처리\n",
    "- 여기서 no 는 제거 합니다. "
   ]
  },
  {
   "cell_type": "code",
   "execution_count": 9,
   "metadata": {
    "tags": []
   },
   "outputs": [],
   "source": [
    "os.makedirs(\"data\", exist_ok=True)"
   ]
  },
  {
   "cell_type": "code",
   "execution_count": 10,
   "metadata": {
    "tags": []
   },
   "outputs": [
    {
     "data": {
      "text/html": [
       "<div>\n",
       "<style scoped>\n",
       "    .dataframe tbody tr th:only-of-type {\n",
       "        vertical-align: middle;\n",
       "    }\n",
       "\n",
       "    .dataframe tbody tr th {\n",
       "        vertical-align: top;\n",
       "    }\n",
       "\n",
       "    .dataframe thead th {\n",
       "        text-align: right;\n",
       "    }\n",
       "</style>\n",
       "<table border=\"1\" class=\"dataframe\">\n",
       "  <thead>\n",
       "    <tr style=\"text-align: right;\">\n",
       "      <th></th>\n",
       "      <th>ask</th>\n",
       "      <th>Information</th>\n",
       "      <th>type</th>\n",
       "      <th>Source</th>\n",
       "    </tr>\n",
       "  </thead>\n",
       "  <tbody>\n",
       "    <tr>\n",
       "      <th>0</th>\n",
       "      <td>아마존 은행의 타기관OTP 이용등록방법 알려주세요</td>\n",
       "      <td>아마존 은행의 타기관에서 발급받으신 OTP가 통합OTP카드인 경우 당행에 등록하여 ...</td>\n",
       "      <td>인터넷뱅킹</td>\n",
       "      <td>아마존은행</td>\n",
       "    </tr>\n",
       "    <tr>\n",
       "      <th>1</th>\n",
       "      <td>아마존 공동인증서와 금융인증서 차이점이 무엇인가요?</td>\n",
       "      <td>공동인증서 (구 공인인증서)는 용도에 따라 은행/신용카드/보험용 무료 인증서와 전자...</td>\n",
       "      <td>인증서</td>\n",
       "      <td>아마존은행</td>\n",
       "    </tr>\n",
       "    <tr>\n",
       "      <th>2</th>\n",
       "      <td>공동인증서와 금융인증서 차이점이 무엇인가요?</td>\n",
       "      <td>공동인증서 (구 공인인증서)는 용도에 따라 은행/신용카드/보험용 무료 인증서와 전자...</td>\n",
       "      <td>인증서</td>\n",
       "      <td>신한은행</td>\n",
       "    </tr>\n",
       "    <tr>\n",
       "      <th>3</th>\n",
       "      <td>타기관OTP 이용등록방법 알려주세요</td>\n",
       "      <td>타기관에서 발급받으신 OTP가 통합OTP카드인 경우 당행에 등록하여 이용가능합니다....</td>\n",
       "      <td>인터넷뱅킹</td>\n",
       "      <td>신한은행</td>\n",
       "    </tr>\n",
       "    <tr>\n",
       "      <th>4</th>\n",
       "      <td>공동인증서와 금융인증서 차이점이 무엇인가요?</td>\n",
       "      <td>공동인증서 (구 공인인증서)는 용도에 따라 은행/신용카드/보험용 무료 인증서와 전자...</td>\n",
       "      <td>인증서</td>\n",
       "      <td>신한은행</td>\n",
       "    </tr>\n",
       "  </tbody>\n",
       "</table>\n",
       "</div>"
      ],
      "text/plain": [
       "                            ask  \\\n",
       "0   아마존 은행의 타기관OTP 이용등록방법 알려주세요   \n",
       "1  아마존 공동인증서와 금융인증서 차이점이 무엇인가요?   \n",
       "2      공동인증서와 금융인증서 차이점이 무엇인가요?   \n",
       "3           타기관OTP 이용등록방법 알려주세요   \n",
       "4      공동인증서와 금융인증서 차이점이 무엇인가요?   \n",
       "\n",
       "                                         Information   type Source  \n",
       "0  아마존 은행의 타기관에서 발급받으신 OTP가 통합OTP카드인 경우 당행에 등록하여 ...  인터넷뱅킹  아마존은행  \n",
       "1  공동인증서 (구 공인인증서)는 용도에 따라 은행/신용카드/보험용 무료 인증서와 전자...    인증서  아마존은행  \n",
       "2  공동인증서 (구 공인인증서)는 용도에 따라 은행/신용카드/보험용 무료 인증서와 전자...    인증서   신한은행  \n",
       "3  타기관에서 발급받으신 OTP가 통합OTP카드인 경우 당행에 등록하여 이용가능합니다....  인터넷뱅킹   신한은행  \n",
       "4  공동인증서 (구 공인인증서)는 용도에 따라 은행/신용카드/보험용 무료 인증서와 전자...    인증서   신한은행  "
      ]
     },
     "execution_count": 10,
     "metadata": {},
     "output_type": "execute_result"
    }
   ],
   "source": [
    "def preprocess_data(df):\n",
    "\n",
    "    ldf = df.copy()\n",
    "    ldf.rename(columns={'Category': 'ask'}, inplace=True)\n",
    "    df_index = ldf.drop(['no'], axis=1)\n",
    "    df_index.to_csv(\"./data/shinhan/fsi_smart_faq_ko_processed.csv\", index=None)\n",
    "\n",
    "    return df_index\n",
    "\n",
    "pre_df = preprocess_data(df)\n",
    "pre_df.head(5)"
   ]
  },
  {
   "cell_type": "markdown",
   "metadata": {},
   "source": [
    "### CSVLoader 로 문서 로딩"
   ]
  },
  {
   "cell_type": "code",
   "execution_count": 11,
   "metadata": {
    "tags": []
   },
   "outputs": [],
   "source": [
    "import time\n",
    "from langchain.indexes import VectorstoreIndexCreator\n",
    "from langchain.vectorstores import FAISS\n",
    "from langchain.document_loaders.csv_loader import CSVLoader\n",
    "from langchain.text_splitter import CharacterTextSplitter, RecursiveCharacterTextSplitter, SpacyTextSplitter"
   ]
  },
  {
   "cell_type": "code",
   "execution_count": 12,
   "metadata": {
    "tags": []
   },
   "outputs": [],
   "source": [
    "loader = CSVLoader(\n",
    "    file_path=\"./data/shinhan/fsi_smart_faq_ko_processed.csv\",\n",
    "    csv_args={\n",
    "        \"delimiter\": \",\",\n",
    "    },\n",
    "    source_column=\"Source\",\n",
    "    encoding=\"utf-8\"\n",
    ")\n",
    "\n",
    "documents_fsi = loader.load()"
   ]
  },
  {
   "cell_type": "code",
   "execution_count": 13,
   "metadata": {
    "tags": []
   },
   "outputs": [
    {
     "data": {
      "text/plain": [
       "Document(page_content='ask: 아마존 은행의 타기관OTP 이용등록방법 알려주세요\\nInformation: 아마존 은행의 타기관에서 발급받으신 OTP가 통합OTP카드인 경우 당행에 등록하여 이용가능합니다. \\r\\n[경로]\\r\\n- 인터넷뱅킹 로그인→ 사용자관리→인터넷뱅킹관리→OTP이용등록  \\r\\n- 아마존은행 쏠(SOL) 로그인→ 전체메뉴→설정/인증→ 이용중인 보안매체선택→   OTP이용등록\\r\\n \\r\\n ※ OTP이용등록후 재로그인을 하셔야 새로 등록된 보안매체가 적용됩니다.\\r\\n\\r\\n기타 궁금하신 내용은 아마존 은행 고객센터 1599-9999로 문의하여 주시기 바랍니다.\\ntype: 인터넷뱅킹\\nSource: 아마존은행', metadata={'source': '아마존은행', 'row': 0})"
      ]
     },
     "execution_count": 13,
     "metadata": {},
     "output_type": "execute_result"
    }
   ],
   "source": [
    "documents_fsi[0]"
   ]
  },
  {
   "cell_type": "code",
   "execution_count": 14,
   "metadata": {
    "tags": []
   },
   "outputs": [
    {
     "name": "stdout",
     "output_type": "stream",
     "text": [
      "previous: {'source': '아마존은행', 'row': 0}\n",
      "new: {'source': '아마존은행', 'row': 0, 'type': '인터넷뱅킹', 'timestamp': 1712121042.8033173}\n",
      "=====\n",
      "previous: {'source': '아마존은행', 'row': 1}\n",
      "new: {'source': '아마존은행', 'row': 1, 'type': '인증서', 'timestamp': 1712121042.803359}\n",
      "=====\n",
      "previous: {'source': '신한은행', 'row': 2}\n",
      "new: {'source': '신한은행', 'row': 2, 'type': '인증서', 'timestamp': 1712121042.8033931}\n",
      "=====\n",
      "previous: {'source': '신한은행', 'row': 3}\n",
      "new: {'source': '신한은행', 'row': 3, 'type': '인터넷뱅킹', 'timestamp': 1712121042.8034263}\n",
      "=====\n",
      "previous: {'source': '신한은행', 'row': 4}\n",
      "new: {'source': '신한은행', 'row': 4, 'type': '인증서', 'timestamp': 1712121042.8034675}\n",
      "=====\n",
      "previous: {'source': '신한은행', 'row': 5}\n",
      "new: {'source': '신한은행', 'row': 5, 'type': '금융인증서', 'timestamp': 1712121042.803499}\n",
      "=====\n",
      "previous: {'source': '신한은행', 'row': 6}\n",
      "new: {'source': '신한은행', 'row': 6, 'type': '금융인증서', 'timestamp': 1712121042.8035302}\n",
      "=====\n",
      "previous: {'source': '신한은행', 'row': 7}\n",
      "new: {'source': '신한은행', 'row': 7, 'type': '금융인증서', 'timestamp': 1712121042.8035617}\n",
      "=====\n",
      "previous: {'source': '신한은행', 'row': 8}\n",
      "new: {'source': '신한은행', 'row': 8, 'type': '금융인증서', 'timestamp': 1712121042.8035927}\n",
      "=====\n",
      "previous: {'source': '신한은행', 'row': 9}\n",
      "new: {'source': '신한은행', 'row': 9, 'type': '뱅크아이디', 'timestamp': 1712121042.803624}\n",
      "=====\n",
      "previous: {'source': '신한은행', 'row': 10}\n",
      "new: {'source': '신한은행', 'row': 10, 'type': '간편서비스', 'timestamp': 1712121042.8036542}\n",
      "=====\n",
      "previous: {'source': '신한은행', 'row': 11}\n",
      "new: {'source': '신한은행', 'row': 11, 'type': '인터넷뱅킹', 'timestamp': 1712121042.8036854}\n",
      "=====\n",
      "previous: {'source': '신한은행', 'row': 12}\n",
      "new: {'source': '신한은행', 'row': 12, 'type': '인터넷뱅킹', 'timestamp': 1712121042.8037164}\n",
      "=====\n",
      "previous: {'source': '신한은행', 'row': 13}\n",
      "new: {'source': '신한은행', 'row': 13, 'type': '인증서', 'timestamp': 1712121042.803749}\n",
      "=====\n",
      "previous: {'source': '신한은행', 'row': 14}\n",
      "new: {'source': '신한은행', 'row': 14, 'type': '', 'timestamp': 1712121042.8037803}\n",
      "=====\n",
      "previous: {'source': '신한은행', 'row': 15}\n",
      "new: {'source': '신한은행', 'row': 15, 'type': '인터넷뱅킹', 'timestamp': 1712121042.803811}\n",
      "=====\n",
      "previous: {'source': '신한은행', 'row': 16}\n",
      "new: {'source': '신한은행', 'row': 16, 'type': '인터넷뱅킹', 'timestamp': 1712121042.8038409}\n",
      "=====\n",
      "previous: {'source': '신한은행', 'row': 17}\n",
      "new: {'source': '신한은행', 'row': 17, 'type': '인터넷뱅킹', 'timestamp': 1712121042.8038712}\n",
      "=====\n",
      "previous: {'source': '신한은행', 'row': 18}\n",
      "new: {'source': '신한은행', 'row': 18, 'type': '간편서비스', 'timestamp': 1712121042.8039007}\n",
      "=====\n",
      "previous: {'source': '신한은행', 'row': 19}\n",
      "new: {'source': '신한은행', 'row': 19, 'type': '간편서비스', 'timestamp': 1712121042.8039312}\n",
      "=====\n",
      "previous: {'source': '신한은행', 'row': 20}\n",
      "new: {'source': '신한은행', 'row': 20, 'type': '간편서비스', 'timestamp': 1712121042.8039618}\n",
      "=====\n",
      "previous: {'source': '신한은행', 'row': 21}\n",
      "new: {'source': '신한은행', 'row': 21, 'type': '홈페이지', 'timestamp': 1712121042.8039918}\n",
      "=====\n",
      "previous: {'source': '신한은행', 'row': 22}\n",
      "new: {'source': '신한은행', 'row': 22, 'type': '홈페이지', 'timestamp': 1712121042.8040245}\n",
      "=====\n",
      "previous: {'source': '신한은행', 'row': 23}\n",
      "new: {'source': '신한은행', 'row': 23, 'type': '홈페이지', 'timestamp': 1712121042.8040545}\n",
      "=====\n",
      "previous: {'source': '신한은행', 'row': 24}\n",
      "new: {'source': '신한은행', 'row': 24, 'type': '', 'timestamp': 1712121042.8040845}\n",
      "=====\n",
      "previous: {'source': '신한은행', 'row': 25}\n",
      "new: {'source': '신한은행', 'row': 25, 'type': '인증서', 'timestamp': 1712121042.804115}\n",
      "=====\n",
      "previous: {'source': '신한은행', 'row': 26}\n",
      "new: {'source': '신한은행', 'row': 26, 'type': '', 'timestamp': 1712121042.8041456}\n",
      "=====\n",
      "previous: {'source': '신한은행', 'row': 27}\n",
      "new: {'source': '신한은행', 'row': 27, 'type': '', 'timestamp': 1712121042.8041766}\n",
      "=====\n",
      "previous: {'source': '신한은행', 'row': 28}\n",
      "new: {'source': '신한은행', 'row': 28, 'type': '', 'timestamp': 1712121042.8042066}\n",
      "=====\n",
      "previous: {'source': '신한은행', 'row': 29}\n",
      "new: {'source': '신한은행', 'row': 29, 'type': '', 'timestamp': 1712121042.8042376}\n",
      "=====\n",
      "previous: {'source': '신한은행', 'row': 30}\n",
      "new: {'source': '신한은행', 'row': 30, 'type': '', 'timestamp': 1712121042.8042672}\n",
      "=====\n",
      "previous: {'source': '신한은행', 'row': 31}\n",
      "new: {'source': '신한은행', 'row': 31, 'type': '인터넷뱅킹', 'timestamp': 1712121042.8043005}\n",
      "=====\n",
      "previous: {'source': '신한은행', 'row': 32}\n",
      "new: {'source': '신한은행', 'row': 32, 'type': '간편서비스', 'timestamp': 1712121042.8043306}\n",
      "=====\n",
      "previous: {'source': '신한은행', 'row': 33}\n",
      "new: {'source': '신한은행', 'row': 33, 'type': '인터넷뱅킹', 'timestamp': 1712121042.8043609}\n",
      "=====\n",
      "previous: {'source': '신한은행', 'row': 34}\n",
      "new: {'source': '신한은행', 'row': 34, 'type': '', 'timestamp': 1712121042.804391}\n",
      "=====\n",
      "previous: {'source': '신한은행', 'row': 35}\n",
      "new: {'source': '신한은행', 'row': 35, 'type': '', 'timestamp': 1712121042.8044217}\n",
      "=====\n",
      "previous: {'source': '신한은행', 'row': 36}\n",
      "new: {'source': '신한은행', 'row': 36, 'type': '', 'timestamp': 1712121042.8044515}\n",
      "=====\n",
      "previous: {'source': '신한은행', 'row': 37}\n",
      "new: {'source': '신한은행', 'row': 37, 'type': '인터넷뱅킹', 'timestamp': 1712121042.8044825}\n",
      "=====\n",
      "previous: {'source': '신한은행', 'row': 38}\n",
      "new: {'source': '신한은행', 'row': 38, 'type': '', 'timestamp': 1712121042.8045132}\n",
      "=====\n",
      "previous: {'source': '신한은행', 'row': 39}\n",
      "new: {'source': '신한은행', 'row': 39, 'type': '인터넷뱅킹', 'timestamp': 1712121042.8045437}\n",
      "=====\n",
      "previous: {'source': '신한은행', 'row': 40}\n",
      "new: {'source': '신한은행', 'row': 40, 'type': '인터넷뱅킹', 'timestamp': 1712121042.8045776}\n",
      "=====\n",
      "previous: {'source': '신한은행', 'row': 41}\n",
      "new: {'source': '신한은행', 'row': 41, 'type': '', 'timestamp': 1712121042.8046107}\n",
      "=====\n",
      "previous: {'source': '신한은행', 'row': 42}\n",
      "new: {'source': '신한은행', 'row': 42, 'type': '', 'timestamp': 1712121042.8046412}\n",
      "=====\n",
      "previous: {'source': '신한은행', 'row': 43}\n",
      "new: {'source': '신한은행', 'row': 43, 'type': '', 'timestamp': 1712121042.8046713}\n",
      "=====\n",
      "previous: {'source': '신한은행', 'row': 44}\n",
      "new: {'source': '신한은행', 'row': 44, 'type': '홈페이지', 'timestamp': 1712121042.8047009}\n",
      "=====\n",
      "previous: {'source': '신한은행', 'row': 45}\n",
      "new: {'source': '신한은행', 'row': 45, 'type': '홈페이지', 'timestamp': 1712121042.804732}\n",
      "=====\n",
      "previous: {'source': '신한은행', 'row': 46}\n",
      "new: {'source': '신한은행', 'row': 46, 'type': '홈페이지', 'timestamp': 1712121042.8047628}\n",
      "=====\n",
      "previous: {'source': '신한은행', 'row': 47}\n",
      "new: {'source': '신한은행', 'row': 47, 'type': '', 'timestamp': 1712121042.8047938}\n",
      "=====\n",
      "previous: {'source': '신한은행', 'row': 48}\n",
      "new: {'source': '신한은행', 'row': 48, 'type': '홈페이지', 'timestamp': 1712121042.804824}\n",
      "=====\n",
      "previous: {'source': '신한은행', 'row': 49}\n",
      "new: {'source': '신한은행', 'row': 49, 'type': '홈페이지', 'timestamp': 1712121042.804854}\n",
      "=====\n",
      "previous: {'source': '신한은행', 'row': 50}\n",
      "new: {'source': '신한은행', 'row': 50, 'type': '인터넷뱅킹', 'timestamp': 1712121042.8048847}\n",
      "=====\n",
      "previous: {'source': '신한은행', 'row': 51}\n",
      "new: {'source': '신한은행', 'row': 51, 'type': '인터넷뱅킹', 'timestamp': 1712121042.8049188}\n",
      "=====\n",
      "previous: {'source': '신한은행', 'row': 52}\n",
      "new: {'source': '신한은행', 'row': 52, 'type': '', 'timestamp': 1712121042.8049502}\n",
      "=====\n",
      "previous: {'source': '신한은행', 'row': 53}\n",
      "new: {'source': '신한은행', 'row': 53, 'type': '인터넷뱅킹', 'timestamp': 1712121042.8049803}\n",
      "=====\n",
      "previous: {'source': '신한은행', 'row': 54}\n",
      "new: {'source': '신한은행', 'row': 54, 'type': '인터넷뱅킹', 'timestamp': 1712121042.805011}\n",
      "=====\n",
      "previous: {'source': '신한은행', 'row': 55}\n",
      "new: {'source': '신한은행', 'row': 55, 'type': '인터넷뱅킹', 'timestamp': 1712121042.8050413}\n",
      "=====\n",
      "previous: {'source': '신한은행', 'row': 56}\n",
      "new: {'source': '신한은행', 'row': 56, 'type': '인터넷뱅킹', 'timestamp': 1712121042.805071}\n",
      "=====\n",
      "previous: {'source': '신한은행', 'row': 57}\n",
      "new: {'source': '신한은행', 'row': 57, 'type': '인터넷뱅킹', 'timestamp': 1712121042.8051014}\n",
      "=====\n",
      "previous: {'source': '신한은행', 'row': 58}\n",
      "new: {'source': '신한은행', 'row': 58, 'type': '', 'timestamp': 1712121042.8051324}\n",
      "=====\n",
      "previous: {'source': '신한은행', 'row': 59}\n",
      "new: {'source': '신한은행', 'row': 59, 'type': '홈페이지', 'timestamp': 1712121042.8051627}\n",
      "=====\n",
      "previous: {'source': '신한은행', 'row': 60}\n",
      "new: {'source': '신한은행', 'row': 60, 'type': '', 'timestamp': 1712121042.805193}\n",
      "=====\n",
      "previous: {'source': '신한은행', 'row': 61}\n",
      "new: {'source': '신한은행', 'row': 61, 'type': '인터넷뱅킹', 'timestamp': 1712121042.8052227}\n",
      "=====\n",
      "previous: {'source': '신한은행', 'row': 62}\n",
      "new: {'source': '신한은행', 'row': 62, 'type': '인터넷뱅킹', 'timestamp': 1712121042.805253}\n",
      "=====\n",
      "previous: {'source': '신한은행', 'row': 63}\n",
      "new: {'source': '신한은행', 'row': 63, 'type': '인증서', 'timestamp': 1712121042.805283}\n",
      "=====\n",
      "previous: {'source': '신한은행', 'row': 64}\n",
      "new: {'source': '신한은행', 'row': 64, 'type': '', 'timestamp': 1712121042.8053136}\n",
      "=====\n",
      "previous: {'source': '신한은행', 'row': 65}\n",
      "new: {'source': '신한은행', 'row': 65, 'type': '인증서', 'timestamp': 1712121042.8053432}\n",
      "=====\n",
      "previous: {'source': '신한은행', 'row': 66}\n",
      "new: {'source': '신한은행', 'row': 66, 'type': '', 'timestamp': 1712121042.805373}\n",
      "=====\n",
      "previous: {'source': '신한은행', 'row': 67}\n",
      "new: {'source': '신한은행', 'row': 67, 'type': '인증서', 'timestamp': 1712121042.8054037}\n",
      "=====\n",
      "previous: {'source': '신한은행', 'row': 68}\n",
      "new: {'source': '신한은행', 'row': 68, 'type': '인터넷뱅킹', 'timestamp': 1712121042.8054338}\n",
      "=====\n",
      "previous: {'source': '신한은행', 'row': 69}\n",
      "new: {'source': '신한은행', 'row': 69, 'type': '', 'timestamp': 1712121042.805468}\n",
      "=====\n",
      "previous: {'source': '신한은행', 'row': 70}\n",
      "new: {'source': '신한은행', 'row': 70, 'type': '', 'timestamp': 1712121042.805498}\n",
      "=====\n",
      "previous: {'source': '신한은행', 'row': 71}\n",
      "new: {'source': '신한은행', 'row': 71, 'type': '인터넷뱅킹', 'timestamp': 1712121042.805528}\n",
      "=====\n",
      "previous: {'source': '신한은행', 'row': 72}\n",
      "new: {'source': '신한은행', 'row': 72, 'type': '인터넷뱅킹', 'timestamp': 1712121042.8055584}\n",
      "=====\n",
      "previous: {'source': '신한은행', 'row': 73}\n",
      "new: {'source': '신한은행', 'row': 73, 'type': '인증서', 'timestamp': 1712121042.8055882}\n",
      "=====\n",
      "previous: {'source': '신한은행', 'row': 74}\n",
      "new: {'source': '신한은행', 'row': 74, 'type': '인터넷뱅킹', 'timestamp': 1712121042.8056183}\n",
      "=====\n",
      "previous: {'source': '신한은행', 'row': 75}\n",
      "new: {'source': '신한은행', 'row': 75, 'type': '인터넷뱅킹', 'timestamp': 1712121042.8056486}\n",
      "=====\n",
      "previous: {'source': '신한은행', 'row': 76}\n",
      "new: {'source': '신한은행', 'row': 76, 'type': '인터넷뱅킹', 'timestamp': 1712121042.80568}\n",
      "=====\n",
      "previous: {'source': '신한은행', 'row': 77}\n",
      "new: {'source': '신한은행', 'row': 77, 'type': '인터넷뱅킹', 'timestamp': 1712121042.8057106}\n",
      "=====\n",
      "previous: {'source': '신한은행', 'row': 78}\n",
      "new: {'source': '신한은행', 'row': 78, 'type': '인증서', 'timestamp': 1712121042.8057408}\n",
      "=====\n",
      "previous: {'source': '신한은행', 'row': 79}\n",
      "new: {'source': '신한은행', 'row': 79, 'type': '인증서', 'timestamp': 1712121042.805771}\n",
      "=====\n",
      "previous: {'source': '신한은행', 'row': 80}\n",
      "new: {'source': '신한은행', 'row': 80, 'type': '인증서', 'timestamp': 1712121042.8058012}\n",
      "=====\n",
      "previous: {'source': '신한은행', 'row': 81}\n",
      "new: {'source': '신한은행', 'row': 81, 'type': '인터넷뱅킹', 'timestamp': 1712121042.8058314}\n",
      "=====\n",
      "previous: {'source': '신한은행', 'row': 82}\n",
      "new: {'source': '신한은행', 'row': 82, 'type': '인터넷뱅킹', 'timestamp': 1712121042.8058617}\n",
      "=====\n",
      "previous: {'source': '신한은행', 'row': 83}\n",
      "new: {'source': '신한은행', 'row': 83, 'type': '인터넷뱅킹', 'timestamp': 1712121042.8058913}\n",
      "=====\n",
      "previous: {'source': '신한은행', 'row': 84}\n",
      "new: {'source': '신한은행', 'row': 84, 'type': '인터넷뱅킹', 'timestamp': 1712121042.8059213}\n",
      "=====\n",
      "previous: {'source': '신한은행', 'row': 85}\n",
      "new: {'source': '신한은행', 'row': 85, 'type': '인터넷뱅킹', 'timestamp': 1712121042.805951}\n",
      "=====\n",
      "previous: {'source': '신한은행', 'row': 86}\n",
      "new: {'source': '신한은행', 'row': 86, 'type': '인터넷뱅킹', 'timestamp': 1712121042.8059838}\n",
      "=====\n",
      "previous: {'source': '신한은행', 'row': 87}\n",
      "new: {'source': '신한은행', 'row': 87, 'type': '인터넷뱅킹', 'timestamp': 1712121042.806014}\n",
      "=====\n",
      "previous: {'source': '신한은행', 'row': 88}\n",
      "new: {'source': '신한은행', 'row': 88, 'type': '인터넷뱅킹', 'timestamp': 1712121042.8060443}\n",
      "=====\n",
      "previous: {'source': '신한은행', 'row': 89}\n",
      "new: {'source': '신한은행', 'row': 89, 'type': '인터넷뱅킹', 'timestamp': 1712121042.8060772}\n",
      "=====\n",
      "previous: {'source': '신한은행', 'row': 90}\n",
      "new: {'source': '신한은행', 'row': 90, 'type': '인터넷뱅킹', 'timestamp': 1712121042.806108}\n",
      "=====\n",
      "previous: {'source': '신한은행', 'row': 91}\n",
      "new: {'source': '신한은행', 'row': 91, 'type': '인터넷뱅킹', 'timestamp': 1712121042.8061378}\n",
      "=====\n"
     ]
    }
   ],
   "source": [
    "def create_metadata(docs):\n",
    "    # # add a custom metadata field, such as timestamp\n",
    "    for idx, doc in enumerate(docs):\n",
    "\n",
    "        print (\"previous:\", doc.metadata)\n",
    "        # type 을 메타 데이타로 저장\n",
    "        stype = doc.page_content.split(\"type: \")[1].split(\"\\n\")[0]\n",
    "        split_content = doc.page_content.split(\"type: \")\n",
    "        content = split_content[0]\n",
    "        metadata = split_content[1]\n",
    "        doc.metadata['type'] = metadata.split(\"\\n\")[0]        \n",
    "        doc.page_content = content # metadata 제외하고 content 만 저장\n",
    "        doc.metadata['timestamp'] = time.time()\n",
    "\n",
    "        print (\"new:\", doc.metadata)\n",
    "        print (\"=====\")\n",
    "\n",
    "create_metadata(documents_fsi)"
   ]
  },
  {
   "cell_type": "code",
   "execution_count": 15,
   "metadata": {
    "tags": []
   },
   "outputs": [
    {
     "name": "stdout",
     "output_type": "stream",
     "text": [
      "92\n",
      "page_content='ask: 아마존 은행의 타기관OTP 이용등록방법 알려주세요\\nInformation: 아마존 은행의 타기관에서 발급받으신 OTP가 통합OTP카드인 경우 당행에 등록하여 이용가능합니다. \\r\\n[경로]\\r\\n- 인터넷뱅킹 로그인→ 사용자관리→인터넷뱅킹관리→OTP이용등록  \\r\\n- 아마존은행 쏠(SOL) 로그인→ 전체메뉴→설정/인증→ 이용중인 보안매체선택→   OTP이용등록\\r\\n \\r\\n ※ OTP이용등록후 재로그인을 하셔야 새로 등록된 보안매체가 적용됩니다.\\r\\n\\r\\n기타 궁금하신 내용은 아마존 은행 고객센터 1599-9999로 문의하여 주시기 바랍니다.\\n' metadata={'source': '아마존은행', 'row': 0, 'type': '인터넷뱅킹', 'timestamp': 1712121042.8033173}\n"
     ]
    }
   ],
   "source": [
    "print (len(documents_fsi))\n",
    "print (documents_fsi[0])"
   ]
  },
  {
   "cell_type": "markdown",
   "metadata": {},
   "source": [
    "### Text Spliter 로 청킹\n",
    "참고: 검색된 문서/텍스트는 질문에 대답하기에 충분한 정보를 포함할 만큼 커야 합니다. 하지만 LLM 프롬프트에 들어갈 만큼 충분히 작습니다. <BR>\n",
    "또한 임베딩 모델에는 입력 토큰 길이는 KoSimCSERobert는 512개, titanEmbedding(8,912개) 토큰으로 제한되어 있습니다. <BR>\n",
    "이 사용 사례를 위해 [RecursiveCharacterTextSplitter](https://python.langchain.com/en/latest/modules/indexes/text_splitters/examples/recursive_text_splitter.html)를 사용하여 500자가 겹치는 약 92자의 청크를 생성합니다."
   ]
  },
  {
   "cell_type": "code",
   "execution_count": 16,
   "metadata": {
    "tags": []
   },
   "outputs": [
    {
     "name": "stdout",
     "output_type": "stream",
     "text": [
      "Number of documents after split and chunking=92\n"
     ]
    }
   ],
   "source": [
    "chunk_size = 2048\n",
    "chunk_overlap = 50\n",
    "\n",
    "text_splitter = RecursiveCharacterTextSplitter(\n",
    "    # Set a really small chunk size, just to show.\n",
    "    chunk_size=chunk_size,\n",
    "    chunk_overlap=chunk_overlap,\n",
    "    separators=[\"\\n\\n\", \"\\n\", \".\", \" \", \"\"],\n",
    "    length_function=len,\n",
    ")\n",
    "\n",
    "chunk_docs = text_splitter.split_documents(documents_fsi)\n",
    "print(f\"Number of documents after split and chunking={len(chunk_docs)}\")"
   ]
  },
  {
   "cell_type": "code",
   "execution_count": 17,
   "metadata": {
    "tags": []
   },
   "outputs": [
    {
     "data": {
      "text/plain": [
       "Document(page_content='ask: 아마존 은행의 타기관OTP 이용등록방법 알려주세요\\nInformation: 아마존 은행의 타기관에서 발급받으신 OTP가 통합OTP카드인 경우 당행에 등록하여 이용가능합니다. \\r\\n[경로]\\r\\n- 인터넷뱅킹 로그인→ 사용자관리→인터넷뱅킹관리→OTP이용등록  \\r\\n- 아마존은행 쏠(SOL) 로그인→ 전체메뉴→설정/인증→ 이용중인 보안매체선택→   OTP이용등록\\r\\n \\r\\n ※ OTP이용등록후 재로그인을 하셔야 새로 등록된 보안매체가 적용됩니다.\\r\\n\\r\\n기타 궁금하신 내용은 아마존 은행 고객센터 1599-9999로 문의하여 주시기 바랍니다.', metadata={'source': '아마존은행', 'row': 0, 'type': '인터넷뱅킹', 'timestamp': 1712121042.8033173})"
      ]
     },
     "execution_count": 17,
     "metadata": {},
     "output_type": "execute_result"
    }
   ],
   "source": [
    "chunk_docs[0]"
   ]
  },
  {
   "cell_type": "markdown",
   "metadata": {},
   "source": [
    "## 4. Index 생성"
   ]
  },
  {
   "cell_type": "markdown",
   "metadata": {
    "tags": []
   },
   "source": [
    "### Index 이름 결정"
   ]
  },
  {
   "cell_type": "code",
   "execution_count": 18,
   "metadata": {
    "tags": []
   },
   "outputs": [],
   "source": [
    "# index_name = <your index>\n",
    "index_name = \"v1-faq-shinhan-bank\""
   ]
  },
  {
   "cell_type": "markdown",
   "metadata": {},
   "source": [
    "#### Save reranker endpoint to Parameter Store"
   ]
  },
  {
   "cell_type": "code",
   "execution_count": 19,
   "metadata": {
    "tags": []
   },
   "outputs": [],
   "source": [
    "import boto3\n",
    "from local_utils.ssm import parameter_store"
   ]
  },
  {
   "cell_type": "code",
   "execution_count": 20,
   "metadata": {
    "tags": []
   },
   "outputs": [],
   "source": [
    "region=boto3.Session().region_name\n",
    "pm = parameter_store(region)"
   ]
  },
  {
   "cell_type": "code",
   "execution_count": 21,
   "metadata": {
    "tags": []
   },
   "outputs": [
    {
     "name": "stdout",
     "output_type": "stream",
     "text": [
      "Parameter stored successfully.\n"
     ]
    }
   ],
   "source": [
    "pm.put_params(\n",
    "    key=\"opensearch_index_name\",\n",
    "    value=f'{index_name}',\n",
    "    overwrite=True,\n",
    "    enc=False\n",
    ")"
   ]
  },
  {
   "cell_type": "markdown",
   "metadata": {
    "tags": []
   },
   "source": [
    "## Index 스키마 정의"
   ]
  },
  {
   "cell_type": "code",
   "execution_count": 22,
   "metadata": {
    "tags": []
   },
   "outputs": [],
   "source": [
    "index_body = {\n",
    "    'settings': {\n",
    "        'analysis': {\n",
    "            'analyzer': {\n",
    "                'my_analyzer': {\n",
    "                         'char_filter':['html_strip'],\n",
    "                    'tokenizer': 'nori',\n",
    "                    'filter': [\n",
    "                        #'nori_number',\n",
    "                        #'lowercase',\n",
    "                        #'trim',\n",
    "                        'my_nori_part_of_speech'\n",
    "                    ],\n",
    "                    'type': 'custom'\n",
    "                }\n",
    "            },\n",
    "            'tokenizer': {\n",
    "                'nori': {\n",
    "                    'decompound_mode': 'mixed',\n",
    "                    'discard_punctuation': 'true',\n",
    "                    'type': 'nori_tokenizer'\n",
    "                }\n",
    "            },\n",
    "            \"filter\": {\n",
    "                \"my_nori_part_of_speech\": {\n",
    "                    \"type\": \"nori_part_of_speech\",\n",
    "                    \"stoptags\": [\n",
    "                        \"J\", \"XSV\", \"E\", \"IC\",\"MAJ\",\"NNB\",\n",
    "                        \"SP\", \"SSC\", \"SSO\",\n",
    "                        \"SC\",\"SE\",\"XSN\",\"XSV\",\n",
    "                        \"UNA\",\"NA\",\"VCP\",\"VSV\",\n",
    "                        \"VX\"\n",
    "                    ]\n",
    "                }\n",
    "            }\n",
    "        },\n",
    "        'index': {\n",
    "            'knn': True,\n",
    "            'knn.space_type': 'cosinesimil'  # Example space type\n",
    "        }\n",
    "    },\n",
    "    'mappings': {\n",
    "        'properties': {\n",
    "            'metadata': {\n",
    "                'properties': {\n",
    "                    'source': {'type': 'keyword'},\n",
    "                    'row': {'type': 'long'},\n",
    "                    'type': {'type': 'keyword'},\n",
    "                    'timestamp': {'type': 'float'},\n",
    "                }\n",
    "            },\n",
    "            'text': {\n",
    "                'analyzer': 'my_analyzer',\n",
    "                'search_analyzer': 'my_analyzer',\n",
    "                'type': 'text'\n",
    "            },\n",
    "            'vector_field': {\n",
    "                'type': 'knn_vector',\n",
    "                'dimension': f\"{dimension}\" # Replace with your vector dimension\n",
    "            }\n",
    "        }\n",
    "    }\n",
    "}\n"
   ]
  },
  {
   "cell_type": "markdown",
   "metadata": {
    "tags": []
   },
   "source": [
    "## 5. LangChain OpenSearch VectorStore 생성 \n",
    "### 선수 조건\n"
   ]
  },
  {
   "cell_type": "markdown",
   "metadata": {},
   "source": [
    "#### [중요] 아래에 aws parameter store 에 아래 인증정보가 먼저 입력되어 있어야 합니다."
   ]
  },
  {
   "cell_type": "code",
   "execution_count": 23,
   "metadata": {
    "tags": []
   },
   "outputs": [],
   "source": [
    "import boto3\n",
    "from utils.ssm import parameter_store"
   ]
  },
  {
   "cell_type": "code",
   "execution_count": 24,
   "metadata": {
    "tags": []
   },
   "outputs": [],
   "source": [
    "region=boto3.Session().region_name\n",
    "pm = parameter_store(region)\n",
    "\n",
    "opensearch_domain_endpoint = pm.get_params(\n",
    "    key=\"opensearch_domain_endpoint\",\n",
    "    enc=False\n",
    ")\n",
    "\n",
    "opensearch_user_id = pm.get_params(\n",
    "    key=\"opensearch_user_id\",\n",
    "    enc=False\n",
    ")\n",
    "\n",
    "opensearch_user_password = pm.get_params(\n",
    "    key=\"opensearch_user_password\",\n",
    "    enc=True\n",
    ")\n"
   ]
  },
  {
   "cell_type": "code",
   "execution_count": 25,
   "metadata": {
    "tags": []
   },
   "outputs": [],
   "source": [
    "opensearch_domain_endpoint = opensearch_domain_endpoint\n",
    "rag_user_name = opensearch_user_id\n",
    "rag_user_password = opensearch_user_password\n",
    "\n",
    "http_auth = (rag_user_name, rag_user_password) # Master username, Master password"
   ]
  },
  {
   "cell_type": "markdown",
   "metadata": {},
   "source": [
    "### OpenSearch Client 생성"
   ]
  },
  {
   "cell_type": "code",
   "execution_count": 26,
   "metadata": {
    "tags": []
   },
   "outputs": [],
   "source": [
    "from local_utils.opensearch import opensearch_utils"
   ]
  },
  {
   "cell_type": "code",
   "execution_count": 27,
   "metadata": {
    "tags": []
   },
   "outputs": [],
   "source": [
    "aws_region = os.environ.get(\"AWS_DEFAULT_REGION\", None)\n",
    "\n",
    "os_client = opensearch_utils.create_aws_opensearch_client(\n",
    "    aws_region,\n",
    "    opensearch_domain_endpoint,\n",
    "    http_auth\n",
    ")"
   ]
  },
  {
   "cell_type": "markdown",
   "metadata": {},
   "source": [
    "### 오픈 서치 인덱스 생성 \n",
    "- 오픈 서치에 해당 인덱스가 존재하면, 삭제 합니다. "
   ]
  },
  {
   "cell_type": "code",
   "execution_count": 28,
   "metadata": {
    "tags": []
   },
   "outputs": [],
   "source": [
    "from local_utils.opensearch import opensearch_utils"
   ]
  },
  {
   "cell_type": "code",
   "execution_count": 29,
   "metadata": {
    "tags": []
   },
   "outputs": [
    {
     "name": "stdout",
     "output_type": "stream",
     "text": [
      "index_name=v1-faq-shinhan-bank, exists=True\n",
      "\n",
      "Deleting index:\n",
      "{'acknowledged': True}\n",
      "\n",
      "Creating index:\n",
      "{'acknowledged': True, 'shards_acknowledged': True, 'index': 'v1-faq-shinhan-bank'}\n",
      "Index is created\n",
      "{'v1-faq-shinhan-bank': {'aliases': {},\n",
      "                         'mappings': {'properties': {'metadata': {'properties': {'row': {'type': 'long'},\n",
      "                                                                                 'source': {'type': 'keyword'},\n",
      "                                                                                 'timestamp': {'type': 'float'},\n",
      "                                                                                 'type': {'type': 'keyword'}}},\n",
      "                                                     'text': {'analyzer': 'my_analyzer',\n",
      "                                                              'type': 'text'},\n",
      "                                                     'vector_field': {'dimension': 1536,\n",
      "                                                                      'type': 'knn_vector'}}},\n",
      "                         'settings': {'index': {'analysis': {'analyzer': {'my_analyzer': {'char_filter': ['html_strip'],\n",
      "                                                                                          'filter': ['my_nori_part_of_speech'],\n",
      "                                                                                          'tokenizer': 'nori',\n",
      "                                                                                          'type': 'custom'}},\n",
      "                                                             'filter': {'my_nori_part_of_speech': {'stoptags': ['J',\n",
      "                                                                                                                'XSV',\n",
      "                                                                                                                'E',\n",
      "                                                                                                                'IC',\n",
      "                                                                                                                'MAJ',\n",
      "                                                                                                                'NNB',\n",
      "                                                                                                                'SP',\n",
      "                                                                                                                'SSC',\n",
      "                                                                                                                'SSO',\n",
      "                                                                                                                'SC',\n",
      "                                                                                                                'SE',\n",
      "                                                                                                                'XSN',\n",
      "                                                                                                                'XSV',\n",
      "                                                                                                                'UNA',\n",
      "                                                                                                                'NA',\n",
      "                                                                                                                'VCP',\n",
      "                                                                                                                'VSV',\n",
      "                                                                                                                'VX'],\n",
      "                                                                                                   'type': 'nori_part_of_speech'}},\n",
      "                                                             'tokenizer': {'nori': {'decompound_mode': 'mixed',\n",
      "                                                                                    'discard_punctuation': 'true',\n",
      "                                                                                    'type': 'nori_tokenizer'}}},\n",
      "                                                'creation_date': '1712121044095',\n",
      "                                                'knn': 'true',\n",
      "                                                'knn.space_type': 'cosinesimil',\n",
      "                                                'number_of_replicas': '1',\n",
      "                                                'number_of_shards': '5',\n",
      "                                                'provided_name': 'v1-faq-shinhan-bank',\n",
      "                                                'replication': {'type': 'DOCUMENT'},\n",
      "                                                'uuid': 'fnQkPF8zQRiyu0oWJopb-Q',\n",
      "                                                'version': {'created': '136327827'}}}}}\n"
     ]
    }
   ],
   "source": [
    "index_exists = opensearch_utils.check_if_index_exists(\n",
    "    os_client,\n",
    "    index_name\n",
    ")\n",
    "\n",
    "if index_exists:\n",
    "    opensearch_utils.delete_index(\n",
    "        os_client,\n",
    "        index_name\n",
    "    )\n",
    "\n",
    "opensearch_utils.create_index(os_client, index_name, index_body)\n",
    "index_info = os_client.indices.get(index=index_name)\n",
    "print(\"Index is created\")\n",
    "pprint(index_info)"
   ]
  },
  {
   "cell_type": "markdown",
   "metadata": {
    "tags": []
   },
   "source": [
    "### 랭체인 인덱스 연결 오브젝트 생성\n",
    "\n",
    "- [langchain.vectorstores.opensearch_vector_search.OpenSearchVectorSearch](https://api.python.langchain.com/en/latest/vectorstores/langchain.vectorstores.opensearch_vector_search.OpenSearchVectorSearch.html)"
   ]
  },
  {
   "cell_type": "code",
   "execution_count": 30,
   "metadata": {
    "tags": []
   },
   "outputs": [],
   "source": [
    "from langchain.vectorstores import OpenSearchVectorSearch"
   ]
  },
  {
   "cell_type": "code",
   "execution_count": 31,
   "metadata": {
    "tags": []
   },
   "outputs": [
    {
     "data": {
      "text/plain": [
       "<langchain_community.vectorstores.opensearch_vector_search.OpenSearchVectorSearch at 0x7f776798f310>"
      ]
     },
     "execution_count": 31,
     "metadata": {},
     "output_type": "execute_result"
    }
   ],
   "source": [
    "vector_db = OpenSearchVectorSearch(\n",
    "    index_name=index_name,\n",
    "    opensearch_url=opensearch_domain_endpoint,\n",
    "    embedding_function=llm_emb,\n",
    "    http_auth=http_auth, # http_auth\n",
    "    is_aoss=False,\n",
    "    engine=\"faiss\",\n",
    "    space_type=\"l2\",\n",
    "    bulk_size=100000,\n",
    "    timeout=60\n",
    ")\n",
    "vector_db"
   ]
  },
  {
   "cell_type": "markdown",
   "metadata": {},
   "source": [
    "### OpenSearch 에 문서 삽입"
   ]
  },
  {
   "cell_type": "code",
   "execution_count": 32,
   "metadata": {
    "tags": []
   },
   "outputs": [
    {
     "name": "stdout",
     "output_type": "stream",
     "text": [
      "CPU times: user 291 ms, sys: 23.3 ms, total: 314 ms\n",
      "Wall time: 28.5 s\n"
     ]
    },
    {
     "data": {
      "text/plain": [
       "['0f4923d5-ccb1-4af2-acfb-0a98d2dfc450',\n",
       " '9aa6d45d-dfe2-497a-b5ea-3682dc8abbf0',\n",
       " '0735db11-4f76-4e51-bb48-2db36e953dfe',\n",
       " '63e742c2-6b39-48c6-9006-87eae1e13401',\n",
       " '3a4a4ba4-d90f-4204-a175-1a29faec8f7d',\n",
       " '6ae8c8a8-2e2b-45f8-a8e2-9586d3ef2442',\n",
       " '1449b54b-4557-4937-b4bd-1a7ae1dce03f',\n",
       " 'c1265b75-45c3-4dee-8c47-f24196515c96',\n",
       " '0f57b136-dcb6-4435-9388-f97b8ae2da88',\n",
       " '4b270814-28d3-4a0c-a3e8-c6dc300715a3',\n",
       " '39b740b5-d7c1-437c-861d-c66dcbb0ccd9',\n",
       " 'b7013932-0ce4-42f4-b8e3-4892af614725',\n",
       " '497524f0-6d25-4382-a968-94d2201b62cc',\n",
       " '79ef5365-5a85-469d-a5ae-66dcd1f1036a',\n",
       " 'e9ed487d-e9da-4421-999b-8f0ab4baeabd',\n",
       " '87d5ff6b-2ef5-473b-a71a-1394755442fe',\n",
       " '1ede9775-d03b-4596-bf80-4d4c0231d62c',\n",
       " '6d1962e7-da8e-4c6c-b5b4-b07a299e998b',\n",
       " 'd6c976a3-332a-480a-a7b4-c16e6c681ff3',\n",
       " 'e1913fda-4b34-47eb-8dea-477944592c24',\n",
       " '9a6a4fd4-9a68-4771-938f-a557d3568e0e',\n",
       " '3c621588-b06f-45c7-b837-08e003513ef1',\n",
       " 'eb54eee3-aa47-4471-8939-840a858b3c9c',\n",
       " 'deebc2f5-a183-4040-9e3f-83fca75824f2',\n",
       " 'f368e177-ae59-4f8c-a2c3-b697d92f7b0c',\n",
       " '8cf811e9-f5db-4550-b21b-51ae5b84cb9c',\n",
       " '5d148dcd-2700-4e66-91d1-65a1b820d01f',\n",
       " 'e43d268c-e99c-417c-9e8a-0dd09df06af5',\n",
       " '8a8e3dee-e4b3-4f44-be80-51c7827bf1fc',\n",
       " 'a91d9cd8-6bed-4215-8f90-f96645e9df32',\n",
       " '1a233b39-fe9d-4f93-afa6-935870f84aca',\n",
       " 'b7106cc6-bb20-428a-ada4-09f8097435f3',\n",
       " 'af38a404-b30e-4631-b9ea-d0dce8bba246',\n",
       " '9e56ca62-628e-46b6-9d6c-22711e9de59a',\n",
       " 'b7042907-d3c3-4fcf-900c-3df9de788827',\n",
       " '73fe72d1-1899-4609-b528-d2aa92c99bf1',\n",
       " '69d383a9-ce42-4baf-b833-95cb8d52bfdf',\n",
       " '6a953af4-f4f8-4f73-85ee-2a62532bd3bf',\n",
       " 'fbf79f9e-fa4d-4d6a-9ffb-5fef86846e0f',\n",
       " '70bf05f4-44c5-40c3-969b-4837784aa165',\n",
       " 'e0dcce93-2750-47fd-97c9-f1864653680b',\n",
       " 'd293e51c-c044-46d4-9449-da4c28cd88c1',\n",
       " '93b9caf7-9c27-4bff-9b5d-1da3d0bfda59',\n",
       " 'a5a594b4-4f23-4c61-9cbd-6db4a822dc9a',\n",
       " '50538d71-55d4-4cef-a486-6e145eaf21d2',\n",
       " 'f1d3fb29-1011-4640-bbf6-315188974d64',\n",
       " 'fd28f491-6c68-4753-be12-29c3890e25c4',\n",
       " '47457a02-a198-4c96-9879-34eae06af206',\n",
       " '705c82c9-d00c-4814-9385-83487cb3f5a2',\n",
       " '2136e4b0-6e2f-4db9-96a2-86f2dbd16194',\n",
       " 'ed24d5da-18e0-49d0-99ac-d3416841c559',\n",
       " '42c85e75-3573-4cad-ac86-1a16d79346b4',\n",
       " '6f26a3a4-6a3e-4eab-ae46-03eb0751507b',\n",
       " 'f0872156-0c18-4397-b0f6-7d2428b2362a',\n",
       " 'cdd0d8d4-eb16-4099-b598-6c81a0828639',\n",
       " 'c2c2a954-3c08-4290-853d-7c03e637b77f',\n",
       " '279abb78-9f2e-44bd-bd45-d22047ba3023',\n",
       " 'c1347b90-ee0f-4de0-aca1-31ec14075900',\n",
       " '4b9b3a26-d309-4829-8267-cdea15e4859d',\n",
       " 'e49d5440-b210-4cc5-8c9f-853e95b700a8',\n",
       " 'c415d9fb-b218-4ac8-8fdc-54b1d33f0cb9',\n",
       " 'c2582b25-e7f7-44f3-8e9b-97c84cfbb5e2',\n",
       " '6a57edab-7dd9-45fb-ba91-f23a3a02dd6b',\n",
       " '84db7189-da0c-41c7-87cf-bf0e8309e0bd',\n",
       " '8b83313f-6c08-45c7-b940-79414415be0c',\n",
       " '6ac0afc7-9c6f-4f8b-9c8a-43d451e34297',\n",
       " '4d0a9762-c2ca-42f2-841b-bde610e996b4',\n",
       " '0165f95e-18a8-48b2-b526-6234bd44c19d',\n",
       " '4a38f707-856b-45e0-9cc9-d315681945ed',\n",
       " 'd21b54b7-7f85-4ca8-85c2-8fb07317d3b6',\n",
       " 'f79dc1bf-90f2-4558-beee-1839dd0e9d6b',\n",
       " 'aee6fac0-a706-496c-9e5b-78eddf7065b8',\n",
       " 'e16d42df-bd71-49f0-be3d-3d03e7ce1e1f',\n",
       " '39b68b9e-fa18-42b2-8239-c3896d73fa86',\n",
       " 'c9c14a74-f793-4100-a4f1-b47877f0ceb2',\n",
       " 'f3251c72-41de-4644-89e4-c301f323a0c1',\n",
       " '504ee14d-edbc-4272-8d81-01662506b0cf',\n",
       " '57c8facf-40bb-4923-869b-eb0273ef591f',\n",
       " '0195a89d-6b07-4726-ada4-7c5fe23c4488',\n",
       " '020a1432-9bfb-4b9b-bafe-6b30e48f73fb',\n",
       " '59964198-ed09-46d6-a3a1-92a6f2ddd570',\n",
       " 'd0eb314d-bb37-4429-94b8-8da2a3239ed1',\n",
       " 'd990d984-3a04-4e47-9233-57d97ccdd218',\n",
       " '2f60f12e-97c4-420b-a8a0-cf95a9d2cb84',\n",
       " '88ec2754-2cc5-497a-b762-3f700fd92e56',\n",
       " 'caa34ef8-8da1-40fa-8fd1-d27cc6afbdc3',\n",
       " '27159f06-9cc4-42ea-a96c-3c57112d0cab',\n",
       " '27e20aba-c5f3-4b2c-ac4f-0cf84cccc9f9',\n",
       " '879747d8-3327-4a86-a0f5-fe45dc63f579',\n",
       " '6f724b3b-28b1-4d4f-8be1-65538dd2617e',\n",
       " 'b9ca1d51-97dd-4133-a19e-1a5d57d85be0',\n",
       " '1b97f94a-7f5c-4641-a0f1-c43cb1a8b608']"
      ]
     },
     "execution_count": 32,
     "metadata": {},
     "output_type": "execute_result"
    }
   ],
   "source": [
    "%%time\n",
    "\n",
    "vector_db.add_documents(\n",
    "    documents = chunk_docs, \n",
    "    vector_field = \"vector_field\",\n",
    "    bulk_size = 1000000\n",
    ")\n"
   ]
  },
  {
   "cell_type": "markdown",
   "metadata": {},
   "source": [
    "## 6. 검색 및 질의 응답 테스트"
   ]
  },
  {
   "cell_type": "code",
   "execution_count": 33,
   "metadata": {
    "tags": []
   },
   "outputs": [],
   "source": [
    "from utils.rag import retriever_utils\n",
    "from utils.rag import show_context_used\n",
    "from langchain.schema.output_parser import StrOutputParser\n",
    "from langchain.callbacks.streaming_stdout import StreamingStdOutCallbackHandler\n",
    "from langchain_core.prompts import ChatPromptTemplate, HumanMessagePromptTemplate, SystemMessagePromptTemplate"
   ]
  },
  {
   "cell_type": "markdown",
   "metadata": {
    "tags": []
   },
   "source": [
    "### LLM 선택"
   ]
  },
  {
   "cell_type": "code",
   "execution_count": 34,
   "metadata": {
    "tags": []
   },
   "outputs": [
    {
     "data": {
      "text/plain": [
       "BedrockChat(client=<botocore.client.BedrockRuntime object at 0x7f7777e99b70>, model_id='anthropic.claude-3-haiku-20240307-v1:0', model_kwargs={'max_tokens': 1024, 'temperature': 0, 'top_p': 0.9, 'stop_sequences': ['\\n\\nHuman']}, streaming=True, callbacks=[<langchain_core.callbacks.streaming_stdout.StreamingStdOutCallbackHandler object at 0x7f776798f9d0>])"
      ]
     },
     "execution_count": 34,
     "metadata": {},
     "output_type": "execute_result"
    }
   ],
   "source": [
    "llm_text = BedrockChat(\n",
    "    model_id=bedrock_info.get_model_id(model_name=\"Claude-V3-Haiku\"),\n",
    "    client=boto3_bedrock,\n",
    "    model_kwargs={\n",
    "        \"max_tokens\": 1024,\n",
    "        \"temperature\":0,\n",
    "        \"top_p\":0.9,\n",
    "        \"stop_sequences\": [\"\\n\\nHuman\"],\n",
    "    },\n",
    "    streaming=True,\n",
    "    callbacks=[StreamingStdOutCallbackHandler()],\n",
    ")\n",
    "llm_text"
   ]
  },
  {
   "cell_type": "markdown",
   "metadata": {
    "tags": []
   },
   "source": [
    "### QA prompt"
   ]
  },
  {
   "cell_type": "code",
   "execution_count": 35,
   "metadata": {
    "tags": []
   },
   "outputs": [],
   "source": [
    "system_prompt = '''\n",
    "                You are a master answer bot designed to answer user's questions.\n",
    "                I'm going to give you contexts which consist of texts, tables and images.\n",
    "                Read the contexts carefully, because I'm going to ask you a question about it.\n",
    "                '''\n",
    "system_message_template = SystemMessagePromptTemplate.from_template(system_prompt)\n",
    "\n",
    "human_prompt = [\n",
    "    {\n",
    "        \"type\": \"text\",\n",
    "        \"text\": '''\n",
    "                Here is the contexts as texts: <contexts>{contexts}</contexts>\n",
    "\n",
    "                Only using the context as above, answer the following question with the rules as below:\n",
    "                    - Don't insert XML tag such as <contexts> and </contexts> when answering.\n",
    "                    - Write as much as you can\n",
    "                    - Be courteous and polite\n",
    "                    - Only answer the question if you can find the answer in the contexts with certainty.\n",
    "\n",
    "                Question:\n",
    "                {question}\n",
    "\n",
    "                If the answer is not in the contexts, just say \"주어진 내용에서 관련 답변을 찾을 수 없습니다.\"\n",
    "\n",
    "                '''\n",
    "    }\n",
    "]\n",
    "human_message_template = HumanMessagePromptTemplate.from_template(human_prompt)\n",
    "\n",
    "prompt = ChatPromptTemplate.from_messages(\n",
    "    [system_message_template, human_message_template]\n",
    ")\n"
   ]
  },
  {
   "cell_type": "markdown",
   "metadata": {},
   "source": [
    "### QA chain"
   ]
  },
  {
   "cell_type": "code",
   "execution_count": 36,
   "metadata": {
    "tags": []
   },
   "outputs": [],
   "source": [
    "chain = prompt | llm_text | StrOutputParser()"
   ]
  },
  {
   "cell_type": "markdown",
   "metadata": {},
   "source": [
    "### Semantic 검색"
   ]
  },
  {
   "cell_type": "code",
   "execution_count": 46,
   "metadata": {
    "tags": []
   },
   "outputs": [],
   "source": [
    "query = \"중지된 경우 이체\"\n",
    "\n",
    "search_filter=[\n",
    "    #{\"term\": {\"metadata.source\": \"신한은행\"}},\n",
    "    #{\"term\": {\"metadata.type\": \"인터넷뱅킹\"}},\n",
    "]"
   ]
  },
  {
   "cell_type": "code",
   "execution_count": 47,
   "metadata": {
    "collapsed": true,
    "jupyter": {
     "outputs_hidden": true
    },
    "tags": []
   },
   "outputs": [
    {
     "name": "stdout",
     "output_type": "stream",
     "text": [
      "\n",
      "-----------------------------------------------\n",
      "1. Chunk: 402 Characters\n",
      "-----------------------------------------------\n",
      "ask: 이체한도란 무엇인가요?\n",
      "Information: 이체한도란 인터넷뱅킹, 폰뱅킹, 모바일뱅킹 등을 통하여 이체할 수 있는 거래한도를 말합니다. ① 1일/1회 이체한도 1일 이체한도란 하루에 거래할 수 있는\n",
      "이체금액의 합을 말하여, 1회 이체한도란 1회에 이체하실 수 있는 금액의 한도를 말합니다. ② 통합이체한도 인터넷뱅킹, 폰뱅킹, 모바일뱅킹 등을 고객님이 사용하시는 경우 고객님이\n",
      "1일 또는 1회에 이체하실 수 있는 이체한도를 말합니다. 인터넷뱅킹, 폰뱅킹, 모바일뱅킹 등에서 고객님이 거래하신 이체금액의 합이 통합이체한도의 범위를 초과할 수 없습니다. ③\n",
      "최고이체한도 금융감독원에서는 개인의 전자금융 시 이용할 수 있는 이체한도의 가이드라인을 정하고 있습니다.(인터넷뱅킹 : 1일 5억원, 1회 1억원 이내)\n",
      "metadata:\n",
      " {'source': '신한은행', 'row': 39, 'type': '인터넷뱅킹', 'timestamp': 1712121042.8045437, 'id':\n",
      "'70bf05f4-44c5-40c3-969b-4837784aa165'}\n",
      "\n",
      "-----------------------------------------------\n",
      "2. Chunk: 584 Characters\n",
      "-----------------------------------------------\n",
      "ask: 이체한도 증액은 어떻게 하나요?\n",
      "Information: 영업점 방문하지 않아도 모바일뱅킹 신한 쏠(SOL) 에서 비대면실명 인증후 통합이체한도 증액 가능합니다. 통합이체한도는 이용하시는 보안매체에 따라,\n",
      "보안등급별 최고 한도내에서 증액가능합니다.\n",
      "OTP카드 창구 발급 시 5,000원(카드형 10,000원)의 수수료가 부과됩니다. 당행에서만 사용가능한 모바일OTP는 영업점 방문없이 신한 쏠(SOL) 에서 무료로\n",
      "발급가능합니다.\n",
      "※ 모바일OTP를 이용하시는 경우 쏠(SOL)에서 이체한도 증액은 1회 1천만원 이하, 1일 5천만원 이하로 증액 가능합니다.\n",
      "※ 만 14세 미만의 경우 법정대리인(부모/친권자/후견인)에 의해 영업점 방문하여 증액 가능하며 1일, 1회 1백만원 이하로 이체한도 제한됩니다.\n",
      "통합한도란 인터넷뱅킹/신한 쏠(SOL)/폰뱅킹 등을 사용하는 경우 1일 또는 1회에 이체 가능한 통합 이체한도를 말합니다.\n",
      "* 인터넷뱅킹/신한 쏠(SOL)/폰뱅킹에서 거래한 이체금액의 합이 통합이체한도의 범위를 초과할 수 없습니다.\n",
      "기타 궁금하신 내용은 신한은행 고객센터 1599-8000로 문의하여 주시기 바랍니다.\n",
      "metadata:\n",
      " {'source': '신한은행', 'row': 33, 'type': '인터넷뱅킹', 'timestamp': 1712121042.8043609, 'id':\n",
      "'9e56ca62-628e-46b6-9d6c-22711e9de59a'}\n",
      "\n",
      "-----------------------------------------------\n",
      "3. Chunk: 572 Characters\n",
      "-----------------------------------------------\n",
      "ask: 온라인 서비스 신청시 구비서류는?\n",
      "Information: 온라인 서비스 신규는 본인만 가능하고 가입시 필요서류는 다음과 같습니다. 온라인 서비스 신규 시 필요서류 : 본인 신분증. 신분증 : 국가기관 또는\n",
      "지방자치단체, 교육법에 의한 학교의 장이 발급한 것으로서 성명, 주민등록번호가 기재되어 있고 부착된 사진에 의하여 본인임을 확인할 수 있는 증표 (주민등록증, 운전면허증, 공무증,\n",
      "여권, 노인복지카드(경로우대증), 장애인복지카드(장애인등록증 포함), 국가 유공자증, 학생증, 외국인등록증, 국내거소신고증 등). 만14세 미만 미성년자. 만 14세 미만\n",
      "미성년자는 법정대리인에 의한 신청한 가능합니다. 1. 부모가 혼인중인 경우 부 또는 모 신분증, 미성년자 기준으로 발급된 특정기본증명서, 미성년자 기준으로 발급된\n",
      "상세가족관계증명서. 2. 친권자나 후견인이 지정된 경우 친권자 또는 후견인의 신분증, 미성년자 기준으로 발급된 특정 기본 증명서, 미성년 자녀 기준으로 발급된 일반\n",
      "가족관계증명서(후견인은 생략). 발급서류는 3개월이내 발급된 원본으로 주민등록번호 13자리가 모두 표기된 서류로 준비부탁드립니다.\n",
      "metadata:\n",
      " {'source': '신한은행', 'row': 51, 'type': '인터넷뱅킹', 'timestamp': 1712121042.8049188, 'id':\n",
      "'42c85e75-3573-4cad-ac86-1a16d79346b4'}\n",
      "\n",
      "-----------------------------------------------\n",
      "4. Chunk: 458 Characters\n",
      "-----------------------------------------------\n",
      "ask: 인터넷에서 이체한 거래의 상세내역 및 영수증을 인쇄하고 싶어요\n",
      "Information: 인터넷상에서 이체한 거래의 경우 인터넷상에서 제공하는 영수증은 없으며, 거래의 참고용으로 단지 조회일자 및 출금 계좌번호 등으로 상세내역(이체 확인증\n",
      "목록)을 조회하거나 그 내역을 인쇄만 가능합니다. 인터넷뱅킹 거래 상세내역(이체확인증 목록)및 입금증(이체확인증) 인쇄 방법은 다음과 같습니다. ① 인터넷뱅킹에 접속하여 로그인 ②\n",
      "이체 → 즉시이체 → 이체결과조회 ③ 조회구분, 출금계좌번호, 조회일자등 상세내역을 조회 ④ 입금확인증목록을 인쇄하시려면 조회된 내역 왼쪽 상단에 보이는 [이체목록인쇄] 버튼을\n",
      "클릭하면 해당 거래내역을 출력할 수 있으며, 입금확인증을 인쇄하시려면 해당 이체건의 오른쪽에 있는 [인쇄] 버튼을 클릭하시면 됩니다. ※ 참고 : 즉시이체 후에도 이체확인증 목록\n",
      "및 이체확인증을 출력하실 수 있습니다.\n",
      "metadata:\n",
      " {'source': '신한은행', 'row': 87, 'type': '인터넷뱅킹', 'timestamp': 1712121042.806014, 'id':\n",
      "'27e20aba-c5f3-4b2c-ac4f-0cf84cccc9f9'}\n",
      "\n",
      "-----------------------------------------------\n",
      "5. Chunk: 380 Characters\n",
      "-----------------------------------------------\n",
      "ask: 예약이체를 했는데 이체일에 송금이 안된 경우는?\n",
      "Information: 모든 예약이체 등록건은 예약이체 지정일 지정된 시간(오전 7시, 오전 9시, 오전 11시, 오후 1시, 오후 3시, 오후 5시, 오후 7시, 오후 9시)\n",
      "이전에 출금할 계좌에 송금액이 입금이 되어야 이체가 실행될 수 있습니다.\n",
      "이체가 되지 않았다고 판단되실 경우에는 반드시 먼저 \"예약이체처리결과조회\" 또는 \"계좌 거래내역\"을 확인 하시어 이체여부 및 출금여부를 확인하시기 바랍니다. 또한 예약이체 신청시\n",
      "SMS 결과통보신청을 하셨다면 요청하신 휴대폰번호로 수신된 문자를 확인해주시기 바라며, 정해진 시간에 이체되지 않은 경우 신한은행 고객상담센터 ☎ 1599-8000번으로 문의\n",
      "주시기 바랍니다.\n",
      "metadata:\n",
      " {'source': '신한은행', 'row': 37, 'type': '인터넷뱅킹', 'timestamp': 1712121042.8044825, 'id':\n",
      "'6a953af4-f4f8-4f73-85ee-2a62532bd3bf'}\n"
     ]
    }
   ],
   "source": [
    "similar_docs_semantic = retriever_utils.get_semantic_similar_docs(\n",
    "    index_name=index_name,\n",
    "    os_client=os_client,\n",
    "    llm_emb=llm_emb,\n",
    "    query=query,\n",
    "    k=5,\n",
    "    boolean_filter=search_filter,\n",
    "    hybrid=False\n",
    ")\n",
    "show_context_used(similar_docs_semantic)"
   ]
  },
  {
   "cell_type": "code",
   "execution_count": 48,
   "metadata": {
    "tags": []
   },
   "outputs": [
    {
     "name": "stdout",
     "output_type": "stream",
     "text": [
      "주어진 내용에서 중지된 경우 이체에 대한 정보를 찾을 수 없습니다. 이 문서들은 이체한도, 이체한도 증액, 온라인 서비스 신청 시 구비서류, 인터넷 이체 거래내역 조회 및 인쇄 방법 등에 대한 내용만 포함하고 있습니다. 중지된 경우 이체에 대한 정보는 제공되지 않습니다.\n",
      "##############################\n",
      "query: \n",
      " 중지된 경우 이체\n",
      "answer: \n",
      " 주어진 내용에서 중지된 경우 이체에 대한 정보를 찾을 수 없습니다. 이 문서들은 이체한도, 이체한도 증액, 온라인 서비스 신청 시 구비서류, 인터넷 이체 거래내역 조회 및 인쇄 방법 등에 대한 내용만 포함하고 있습니다. 중지된 경우 이체에 대한 정보는 제공되지 않습니다.\n"
     ]
    }
   ],
   "source": [
    "answer= chain.invoke(\n",
    "    {\n",
    "        \"contexts\": similar_docs_semantic,\n",
    "        \"question\": query\n",
    "    }\n",
    ")\n",
    "\n",
    "print(\"\\n##############################\")\n",
    "print(\"query: \\n\", query)\n",
    "print(\"answer: \\n\", answer)"
   ]
  },
  {
   "cell_type": "markdown",
   "metadata": {},
   "source": [
    "## Lexical 검색"
   ]
  },
  {
   "cell_type": "code",
   "execution_count": 49,
   "metadata": {
    "tags": []
   },
   "outputs": [],
   "source": [
    "query = \"중지된 경우 이체\"\n",
    "\n",
    "search_filter=[\n",
    "    #{\"term\": {\"metadata.source\": \"신한은행\"}},\n",
    "    #{\"term\": {\"metadata.type\": \"인터넷뱅킹\"}},\n",
    "]"
   ]
  },
  {
   "cell_type": "code",
   "execution_count": 50,
   "metadata": {
    "collapsed": true,
    "jupyter": {
     "outputs_hidden": true
    },
    "tags": []
   },
   "outputs": [
    {
     "name": "stdout",
     "output_type": "stream",
     "text": [
      "\n",
      "-----------------------------------------------\n",
      "1. Chunk: 591 Characters\n",
      "-----------------------------------------------\n",
      "ask: 12개월 장기미이체로 이체서비스가 중지된 경우 어떻게 해제하나요?\n",
      "Information: 최근 12개월동안 인터넷뱅킹/폰뱅킹/모바일뱅킹에서 이체서비스를 이용하지 않은 경우 고객님의 금융자산 보호를 위하여 이체서비스가 중단됩니다. 다시 이체를\n",
      "원하시는 경우에는 인터넷뱅킹/폰뱅킹/신한쏠(SOL)에서 이체정지 해제를 하실 수 있습니다.(단, 인터넷뱅킹 출금계좌가 등록되어 있는 경우) [경로] ① 당행 고객정보에 등록되어있는\n",
      "연락처로 ARS 추가인증 가능한 경우: - 인터넷뱅킹 로그인→ 사용자관리→ 인터넷뱅킹관리→ 장기미사용 정지해제 (또는) - 쏠(SOL) 로그인→ 전체메뉴→ 이체 → 이체관리→\n",
      "장기미사용정지 해제 ② ARS 추가인증이 불가한 경우 (해외체류 고객등) : - 인터넷뱅킹에서는 해제 어려우며, 쏠 (SOL)에서 해제 가능합니다. 쏠(SOL)의 경로는 위와\n",
      "동일하며, 비대면 실명인증후 해제 가능합니다. 비대면실명인증 - 만 14세이상 가능 - 신분증확인 (주민등록증 또는 운전면허증 또는 여권) - 본인확인 (본인명의 계좌인증 또는\n",
      "영상통화) 진행 기타 궁금하신 내용은 신한은행 고객센터 1599-8000로 문의하여 주시기 바랍니다\n",
      "metadata:\n",
      " {'source': '신한은행', 'row': 40, 'type': '인터넷뱅킹', 'timestamp': 1712121042.8045776, 'id':\n",
      "'e0dcce93-2750-47fd-97c9-f1864653680b'}\n",
      "\n",
      "-----------------------------------------------\n",
      "2. Chunk: 673 Characters\n",
      "-----------------------------------------------\n",
      "ask: 인터넷뱅킹을 통한 이체에 대해 영수증은 없습니다. 라고 나와요.\n",
      "Information: 영수증이란 돈을 받은 사람이 돈을 준 사람에게 써 주는 증서인데, 송금이체의 경우 은행은 고객의 돈을 받아 고객이 지정하는 계좌로 자금을 보내드리기 때문에\n",
      "영수증을 발행 할 수 없습니다. 다만, 은행에서 이체송금시 수수료를 수취하기 때문에 수수료에 대해서는 영수증을 발행해 드립니다. (실제로 지점을 방문하셔서 무통장입금으로 이체하실\n",
      "경우에도 은행에서는 '무통장입금증 타행환입금의뢰확인증'만을 확인서로 제공해드립니다. 이것이 송금금액 전체에 대해 영수증의 의미를 갖는 것은 아니며, 수수료에 대해서만 영수증으로\n",
      "확인의 의미를 갖습니다)\n",
      "특히 인터넷이체의 경우 인터넷상으로 조회되는 입금확인증의 경우 위변조의 가능성이 있기 때문에 거래상대방으로부터 법적 증거력을 얻지 못하고 있는 실정입니다.\n",
      "\n",
      "따라서 고객님이 인터넷뱅킹에 접속하여 조회하시는 인터넷뱅킹거래명세는 영수증으로는 사용될 수 없으며, 거래의 참고용으로만 사용하실 수 있습니다. (조회순서 : 개인인터넷뱅킹 로그인\n",
      "→ (화면 상단) 이체 → 즉시이체 → 이체결과조회 메뉴에서 상세내역 조회후 출력하실 이체건의 오른쪽에 있는 [인쇄] 버튼 클릭하시면 됩니다. 기타 궁금하신 내용은 신한은행\n",
      "고객센터 1599-8000로 문의하여 주시기 바랍니다.\n",
      "metadata:\n",
      " {'source': '신한은행', 'row': 69, 'type': '', 'timestamp': 1712121042.805468, 'id':\n",
      "'d21b54b7-7f85-4ca8-85c2-8fb07317d3b6'}\n",
      "\n",
      "-----------------------------------------------\n",
      "3. Chunk: 286 Characters\n",
      "-----------------------------------------------\n",
      "ask: 매월 일정금액을 타은행으로 자동송금 신청시 이체기준 알려줘\n",
      "Information: 타은행으로 매월 일정금액을 자동송금 신청 하셨을때 당월 또는 익월은 입력하지 말고, 신청등록을 하십시오. 자동이체 등록일을 기준으로 자동 이체일이 등록일보다\n",
      "빠르면 익월부터 자동으로 이체가 되며, 자동 이체일이 등록일보다 늦으면 당월부터 자동이체가 되기 때문입니다. 예시 자동이체 신청 등록일 15일, 자동 이체일 10일이면 익월\n",
      "10일부터 이체 자동이체 신청 등록일 15일, 자동 이체일 20일이면 당월 20일부터 이체\n",
      "metadata:\n",
      " {'source': '신한은행', 'row': 38, 'type': '', 'timestamp': 1712121042.8045132, 'id':\n",
      "'fbf79f9e-fa4d-4d6a-9ffb-5fef86846e0f'}\n",
      "\n",
      "-----------------------------------------------\n",
      "4. Chunk: 422 Characters\n",
      "-----------------------------------------------\n",
      "ask: 대학 등록금을 인터넷뱅킹으로 납부할 수 있습니까?\n",
      "Information: 당행과 수납체결이 되어있는 대학교의 등록금은 개인인터넷뱅킹을 통해 납부가 가능합니다. 공과금/법원 기타 대학등록금 납부 메뉴에서 납부가 가능하며, 해당메뉴로\n",
      "접속후 학교와 학번을 입력후 납부 하시면 됩니다. 해당메뉴로 등록금을 납부할 경우 온라인 이체한도 미포함 거래입니다. 또한 등록금 납부 가상계좌를 알고 계실경우 이체 메뉴를\n",
      "이용하여 즉시이체하셔도 됩니다. 이럴경우 이체한도에 포함되는 거래입니다. 가상계좌로 이체하시는 경우엔 당행과 수납체결이 되어있지 않더라도 등록금납부는 가능합니다. 당행과 수납체결\n",
      "여부는 등록금납부 통지서상의 수납은행으로 확인하실 수 있으며, 해당 등록금 납부 메뉴에서 납부하고자하는 학교명이 확인되지 않을경우 당행과 수납체결된 학교는 아닙니다\n",
      "metadata:\n",
      " {'source': '신한은행', 'row': 58, 'type': '', 'timestamp': 1712121042.8051324, 'id':\n",
      "'4b9b3a26-d309-4829-8267-cdea15e4859d'}\n",
      "\n",
      "-----------------------------------------------\n",
      "5. Chunk: 402 Characters\n",
      "-----------------------------------------------\n",
      "ask: 이체한도란 무엇인가요?\n",
      "Information: 이체한도란 인터넷뱅킹, 폰뱅킹, 모바일뱅킹 등을 통하여 이체할 수 있는 거래한도를 말합니다. ① 1일/1회 이체한도 1일 이체한도란 하루에 거래할 수 있는\n",
      "이체금액의 합을 말하여, 1회 이체한도란 1회에 이체하실 수 있는 금액의 한도를 말합니다. ② 통합이체한도 인터넷뱅킹, 폰뱅킹, 모바일뱅킹 등을 고객님이 사용하시는 경우 고객님이\n",
      "1일 또는 1회에 이체하실 수 있는 이체한도를 말합니다. 인터넷뱅킹, 폰뱅킹, 모바일뱅킹 등에서 고객님이 거래하신 이체금액의 합이 통합이체한도의 범위를 초과할 수 없습니다. ③\n",
      "최고이체한도 금융감독원에서는 개인의 전자금융 시 이용할 수 있는 이체한도의 가이드라인을 정하고 있습니다.(인터넷뱅킹 : 1일 5억원, 1회 1억원 이내)\n",
      "metadata:\n",
      " {'source': '신한은행', 'row': 39, 'type': '인터넷뱅킹', 'timestamp': 1712121042.8045437, 'id':\n",
      "'70bf05f4-44c5-40c3-969b-4837784aa165'}\n"
     ]
    }
   ],
   "source": [
    "similar_docs_lexical = retriever_utils.get_lexical_similar_docs(\n",
    "    index_name=index_name,\n",
    "    os_client=os_client,\n",
    "    query=query,\n",
    "    k=5,\n",
    "    filter=search_filter\n",
    ")\n",
    "show_context_used(similar_docs_lexical)"
   ]
  },
  {
   "cell_type": "code",
   "execution_count": 51,
   "metadata": {
    "tags": []
   },
   "outputs": [
    {
     "name": "stdout",
     "output_type": "stream",
     "text": [
      "주어진 내용에 따르면, 최근 12개월 동안 인터넷뱅킹/폰뱅킹/모바일뱅킹에서 이체서비스를 이용하지 않은 경우 고객의 금융자산 보호를 위해 이체서비스가 중단됩니다. 다시 이체를 원하시는 경우에는 인터넷뱅킹/폰뱅킹/신한쏠(SOL)에서 이체정지 해제를 하실 수 있습니다. 단, 인터넷뱅킹 출금계좌가 등록되어 있어야 합니다. 또한 ARS 추가인증이 불가능한 경우에는 신한쏠(SOL)에서 비대면 실명인증 후 해제가 가능합니다.\n",
      "##############################\n",
      "query: \n",
      " 중지된 경우 이체\n",
      "answer: \n",
      " 주어진 내용에 따르면, 최근 12개월 동안 인터넷뱅킹/폰뱅킹/모바일뱅킹에서 이체서비스를 이용하지 않은 경우 고객의 금융자산 보호를 위해 이체서비스가 중단됩니다. 다시 이체를 원하시는 경우에는 인터넷뱅킹/폰뱅킹/신한쏠(SOL)에서 이체정지 해제를 하실 수 있습니다. 단, 인터넷뱅킹 출금계좌가 등록되어 있어야 합니다. 또한 ARS 추가인증이 불가능한 경우에는 신한쏠(SOL)에서 비대면 실명인증 후 해제가 가능합니다.\n"
     ]
    }
   ],
   "source": [
    "answer = chain.invoke(\n",
    "    {\n",
    "        \"contexts\": similar_docs_lexical,\n",
    "        \"question\": query\n",
    "    }\n",
    ")\n",
    "\n",
    "print(\"\\n##############################\")\n",
    "print(\"query: \\n\", query)\n",
    "print(\"answer: \\n\", answer)"
   ]
  },
  {
   "cell_type": "markdown",
   "metadata": {
    "tags": []
   },
   "source": [
    "## 하이브리드 검색"
   ]
  },
  {
   "cell_type": "code",
   "execution_count": 52,
   "metadata": {
    "tags": []
   },
   "outputs": [],
   "source": [
    "query = \"중지된 경우 이체\"\n",
    "\n",
    "search_filter=[\n",
    "    #{\"term\": {\"metadata.source\": \"신한은행\"}},\n",
    "    #{\"term\": {\"metadata.type\": \"인터넷뱅킹\"}},\n",
    "]"
   ]
  },
  {
   "cell_type": "code",
   "execution_count": 53,
   "metadata": {
    "tags": []
   },
   "outputs": [
    {
     "name": "stdout",
     "output_type": "stream",
     "text": [
      "##############################\n",
      "async_mode\n",
      "##############################\n",
      "True\n",
      "##############################\n",
      "reranker\n",
      "##############################\n",
      "False\n",
      "##############################\n",
      "rag_fusion\n",
      "##############################\n",
      "False\n",
      "##############################\n",
      "HyDE\n",
      "##############################\n",
      "False\n",
      "##############################\n",
      "parent_document\n",
      "##############################\n",
      "False\n",
      "##############################\n",
      "complex_document\n",
      "##############################\n",
      "False\n",
      "##############################\n",
      "similar_docs_semantic\n",
      "##############################\n",
      "\n",
      "Score: 1.0\n",
      "['ask: 이체한도란 무엇인가요?', 'Information: 이체한도란 인터넷뱅킹, 폰뱅킹, 모바일뱅킹 등을 통하여 이체할 수 있는 거래한도를 말합니다. ① 1일/1회 이체한도 1일 이체한도란 하루에 거래할 수 있는 이체금액의 합을 말하여, 1회 이체한도란 1회에 이체하실 수 있는 금액의 한도를 말합니다. ② 통합이체한도 인터넷뱅킹, 폰뱅킹, 모바일뱅킹 등을 고객님이 사용하시는 경우 고객님이 1일 또는 1회에 이체하실 수 있는 이체한도를 말합니다. 인터넷뱅킹, 폰뱅킹, 모바일뱅킹 등에서 고객님이 거래하신 이체금액의 합이 통합이체한도의 범위를 초과할 수 없습니다. ③ 최고이체한도 금융감독원에서는 개인의 전자금융 시 이용할 수 있는 이체한도의 가이드라인을 정하고 있습니다.(인터넷뱅킹 : 1일 5억원, 1회 1억원 이내)']\n",
      "{'source': '신한은행', 'row': 39, 'type': '인터넷뱅킹', 'timestamp': 1712121042.8045437, 'id': '70bf05f4-44c5-40c3-969b-4837784aa165'}\n",
      "\n",
      "Score: 0.9898637210725622\n",
      "['ask: 이체한도 증액은 어떻게 하나요?', 'Information: 영업점 방문하지 않아도 모바일뱅킹 신한 쏠(SOL) 에서 비대면실명 인증후 통합이체한도 증액 가능합니다. 통합이체한도는 이용하시는 보안매체에 따라, 보안등급별 최고 한도내에서 증액가능합니다.\\r', 'OTP카드 창구 발급 시 5,000원(카드형 10,000원)의 수수료가 부과됩니다. 당행에서만 사용가능한 모바일OTP는 영업점 방문없이 신한 쏠(SOL) 에서 무료로 발급가능합니다. \\r', '※ 모바일OTP를 이용하시는 경우 쏠(SOL)에서 이체한도 증액은 1회 1천만원 이하, 1일 5천만원 이하로 증액 가능합니다. \\r', '※ 만 14세 미만의 경우 법정대리인(부모/친권자/후견인)에 의해 영업점 방문하여 증액 가능하며 1일, 1회 1백만원 이하로 이체한도 제한됩니다. \\r', '통합한도란 인터넷뱅킹/신한 쏠(SOL)/폰뱅킹 등을 사용하는 경우 1일 또는 1회에 이체 가능한 통합 이체한도를 말합니다.\\r', '* 인터넷뱅킹/신한 쏠(SOL)/폰뱅킹에서 거래한 이체금액의 합이 통합이체한도의 범위를 초과할 수 없습니다.\\r', '기타 궁금하신 내용은 신한은행 고객센터 1599-8000로 문의하여 주시기 바랍니다.']\n",
      "{'source': '신한은행', 'row': 33, 'type': '인터넷뱅킹', 'timestamp': 1712121042.8043609, 'id': '9e56ca62-628e-46b6-9d6c-22711e9de59a'}\n",
      "\n",
      "Score: 0.987978823690562\n",
      "['ask: 온라인 서비스 신청시 구비서류는?', 'Information: 온라인 서비스 신규는 본인만 가능하고 가입시 필요서류는 다음과 같습니다. 온라인 서비스 신규 시 필요서류 : 본인 신분증. 신분증 : 국가기관 또는 지방자치단체, 교육법에 의한 학교의 장이 발급한 것으로서 성명, 주민등록번호가 기재되어 있고 부착된 사진에 의하여 본인임을 확인할 수 있는 증표 (주민등록증, 운전면허증, 공무증, 여권, 노인복지카드(경로우대증), 장애인복지카드(장애인등록증 포함), 국가 유공자증, 학생증, 외국인등록증, 국내거소신고증 등). 만14세 미만 미성년자. 만 14세 미만 미성년자는 법정대리인에 의한 신청한 가능합니다. 1. 부모가 혼인중인 경우 부 또는 모 신분증, 미성년자 기준으로 발급된 특정기본증명서, 미성년자 기준으로 발급된 상세가족관계증명서. 2. 친권자나 후견인이 지정된 경우 친권자 또는 후견인의 신분증, 미성년자 기준으로 발급된 특정 기본 증명서, 미성년 자녀 기준으로 발급된 일반 가족관계증명서(후견인은 생략). 발급서류는 3개월이내 발급된 원본으로 주민등록번호 13자리가 모두 표기된 서류로 준비부탁드립니다.']\n",
      "{'source': '신한은행', 'row': 51, 'type': '인터넷뱅킹', 'timestamp': 1712121042.8049188, 'id': '42c85e75-3573-4cad-ac86-1a16d79346b4'}\n",
      "\n",
      "Score: 0.984981233819992\n",
      "['ask: 인터넷에서 이체한 거래의 상세내역 및 영수증을 인쇄하고 싶어요', 'Information: 인터넷상에서 이체한 거래의 경우 인터넷상에서 제공하는 영수증은 없으며, 거래의 참고용으로 단지 조회일자 및 출금 계좌번호 등으로 상세내역(이체 확인증 목록)을 조회하거나 그 내역을 인쇄만 가능합니다. 인터넷뱅킹 거래 상세내역(이체확인증 목록)및 입금증(이체확인증) 인쇄 방법은 다음과 같습니다. ① 인터넷뱅킹에 접속하여 로그인 ② 이체 → 즉시이체 → 이체결과조회 ③ 조회구분, 출금계좌번호, 조회일자등 상세내역을 조회 ④ 입금확인증목록을 인쇄하시려면 조회된 내역 왼쪽 상단에 보이는 [이체목록인쇄] 버튼을 클릭하면 해당 거래내역을 출력할 수 있으며, 입금확인증을 인쇄하시려면 해당 이체건의 오른쪽에 있는 [인쇄] 버튼을 클릭하시면 됩니다. ※ 참고 : 즉시이체 후에도 이체확인증 목록 및 이체확인증을 출력하실 수 있습니다.']\n",
      "{'source': '신한은행', 'row': 87, 'type': '인터넷뱅킹', 'timestamp': 1712121042.806014, 'id': '27e20aba-c5f3-4b2c-ac4f-0cf84cccc9f9'}\n",
      "\n",
      "Score: 0.9779182486701656\n",
      "['ask: 예약이체를 했는데 이체일에 송금이 안된 경우는?', 'Information: 모든 예약이체 등록건은 예약이체 지정일 지정된 시간(오전 7시, 오전 9시, 오전 11시, 오후 1시, 오후 3시, 오후 5시, 오후 7시, 오후 9시) 이전에 출금할 계좌에 송금액이 입금이 되어야 이체가 실행될 수 있습니다.\\r', '이체가 되지 않았다고 판단되실 경우에는 반드시 먼저 \"예약이체처리결과조회\" 또는 \"계좌 거래내역\"을 확인 하시어 이체여부 및 출금여부를 확인하시기 바랍니다. 또한 예약이체 신청시 SMS 결과통보신청을 하셨다면 요청하신 휴대폰번호로 수신된 문자를 확인해주시기 바라며, 정해진 시간에 이체되지 않은 경우 신한은행 고객상담센터 ☎ 1599-8000번으로 문의 주시기 바랍니다.']\n",
      "{'source': '신한은행', 'row': 37, 'type': '인터넷뱅킹', 'timestamp': 1712121042.8044825, 'id': '6a953af4-f4f8-4f73-85ee-2a62532bd3bf'}\n",
      "\n",
      "Score: 0.9700019707744418\n",
      "['ask: 즉시/예약 이체 서비스가 안되는 경우 어떻게 해야해?', 'Information: 이체서비스가 되지 않는 경우 여러가지 사유가 있을수 있으니, 신한은행 고객상담센터 1599-8000번으로 문의 주시면 자세히 상담해드리겠습니다.']\n",
      "{'source': '신한은행', 'row': 62, 'type': '인터넷뱅킹', 'timestamp': 1712121042.805253, 'id': '6a57edab-7dd9-45fb-ba91-f23a3a02dd6b'}\n",
      "\n",
      "Score: 0.9647631571105393\n",
      "['ask: 해외고객 추가인증 방법', 'Information: 먼저 이용에 불편을 드려 대단히 죄송합니다. 2013년 9월 전자금융사기 예방서비스 전면 시행으로 인해, 국내외에서 뱅킹이용시 거래에 따라 추가인증을 거치게 되었습니다.\\r', '① 인증서 발급/재발급, 1일 누적 300만원 이상 이체시 시행하는 추가인증 방법(누적금액은 변경될수 있습니다.)해외IP로 접속하신 부분이 자동으로 확인되면 ‘해외체류 확인’ 항목이 활성화 되기 때문에 법무부 출입국관리사무소에 출국정보를 확인 받는 부분에 동의하시면 ARS 인증없이 거래가 가능합니다.\\r', '※ 해외 소재한 국내기업의 내부 인터넷망을 이용하시는 경우 국내IP로 인식하여 해당 추가 인증기능 활성화가 안되는 경우가 있으니 유의부탁드립니다.\\r', '② 해외에서 온라인을 통한 예금해지/대출실행 업무시 추가인증 방법한국시간 기준으로 은행 영업일의 오전9시부터 오후6시 사이에 뱅킹에 접속하시면  해외 현지 연락처를 직접 입력하여 추가인증의 진행이 가능하도록 되어있습니다. \\r', '③ 고객정보 보호 목적으로 인터넷뱅킹상에서 개인정보 변경 등의 일부 중요업무이 경우는 ARS인증만을 시행하도록 하고 있습니다.  왜냐하면, 타인에 의한 정보변경 시도 등을 차단하고자 하는 부분이므로 만약 해외에서 070 등 인터넷전화를 사용하시는 경우 미리 한국에서 정보변경을 하지 못하셨다면 고객센터 82-2-3449-8000 또는 82-2-3708-8000으로 상담사에게 문의하시기 바랍니다. \\r', '④ “불법거래 방지를 위해 이체거래가 정지되었다”라고 뜨는 경우\\r', '82-2-3449-8000 또는 82-2-3708-8000으로 연락주셔서 상담직원을 통한 사고등록 해제가 가능합니다. 이체제한 해제는 24시간 가능하며, 본인확인을 위해 몇가지 정보확인을 거치는 점 양해바랍니다.\\r', '82-2-3449-8000 번호로 전화주셔서 음성이 나오면 차례대로 6-3-3-0 코드를 따라서  24시간 사고관련 상담직원과 통화가 가능합니다\\r', '해외에 계신 고객분들도 뱅킹을 이용하실 수 있도록 편의성 부분도 많이 고려하고 있으나, 최근 해외IP를 통해 전자금융서비스 이용고객분들께 피해를 입히려는 시도가 다수 발생하고 있기 때문에 제한적으로 해외체류 확인 항목을 적용할 수 밖에 없어서 안타깝게 생각합니다. 편리성 못지 않게 고객분들의 소중한 자산을 지키는 것이 중요하다보니 이와 같이 시행하고 있는 점 다시 한번 양해 부탁드립니다.']\n",
      "{'source': '신한은행', 'row': 31, 'type': '인터넷뱅킹', 'timestamp': 1712121042.8043005, 'id': 'b7106cc6-bb20-428a-ada4-09f8097435f3'}\n",
      "None\n",
      "##############################\n",
      "similar_docs_keyword\n",
      "##############################\n",
      "\n",
      "Score: 1.0\n",
      "['ask: 12개월 장기미이체로 이체서비스가 중지된 경우 어떻게 해제하나요?', 'Information: 최근 12개월동안 인터넷뱅킹/폰뱅킹/모바일뱅킹에서 이체서비스를 이용하지 않은 경우 고객님의 금융자산 보호를 위하여 이체서비스가 중단됩니다. 다시 이체를 원하시는 경우에는 인터넷뱅킹/폰뱅킹/신한쏠(SOL)에서 이체정지 해제를 하실 수 있습니다.(단, 인터넷뱅킹 출금계좌가 등록되어 있는 경우) [경로] ① 당행 고객정보에 등록되어있는 연락처로 ARS 추가인증 가능한 경우: - 인터넷뱅킹 로그인→ 사용자관리→ 인터넷뱅킹관리→ 장기미사용 정지해제 (또는) - 쏠(SOL) 로그인→ 전체메뉴→ 이체 → 이체관리→ 장기미사용정지 해제 ② ARS 추가인증이 불가한 경우 (해외체류 고객등) : - 인터넷뱅킹에서는 해제 어려우며, 쏠 (SOL)에서 해제 가능합니다. 쏠(SOL)의 경로는 위와 동일하며, 비대면 실명인증후 해제 가능합니다. 비대면실명인증 - 만 14세이상 가능 - 신분증확인 (주민등록증 또는 운전면허증 또는 여권) - 본인확인 (본인명의 계좌인증 또는 영상통화) 진행 기타 궁금하신 내용은 신한은행 고객센터 1599-8000로 문의하여 주시기 바랍니다']\n",
      "{'source': '신한은행', 'row': 40, 'type': '인터넷뱅킹', 'timestamp': 1712121042.8045776, 'id': 'e0dcce93-2750-47fd-97c9-f1864653680b'}\n",
      "\n",
      "Score: 0.9565409665969862\n",
      "['ask: 인터넷뱅킹을 통한 이체에 대해 영수증은 없습니다. 라고 나와요.', \"Information: 영수증이란 돈을 받은 사람이 돈을 준 사람에게 써 주는 증서인데, 송금이체의 경우 은행은 고객의 돈을 받아 고객이 지정하는 계좌로 자금을 보내드리기 때문에 영수증을 발행 할 수 없습니다. 다만, 은행에서 이체송금시 수수료를 수취하기 때문에 수수료에 대해서는 영수증을 발행해 드립니다. (실제로 지점을 방문하셔서 무통장입금으로 이체하실 경우에도 은행에서는 '무통장입금증 타행환입금의뢰확인증'만을 확인서로 제공해드립니다. 이것이 송금금액 전체에 대해 영수증의 의미를 갖는 것은 아니며, 수수료에 대해서만 영수증으로 확인의 의미를 갖습니다) \\r\", '특히 인터넷이체의 경우 인터넷상으로 조회되는 입금확인증의 경우 위변조의 가능성이 있기 때문에 거래상대방으로부터 법적 증거력을 얻지 못하고 있는 실정입니다.\\r', '\\r', '따라서 고객님이 인터넷뱅킹에 접속하여 조회하시는 인터넷뱅킹거래명세는 영수증으로는 사용될 수 없으며, 거래의 참고용으로만 사용하실 수 있습니다. (조회순서 : 개인인터넷뱅킹 로그인 → (화면 상단) 이체 → 즉시이체 → 이체결과조회 메뉴에서 상세내역 조회후 출력하실 이체건의 오른쪽에 있는 [인쇄] 버튼 클릭하시면 됩니다. 기타 궁금하신 내용은 신한은행 고객센터 1599-8000로 문의하여 주시기 바랍니다.']\n",
      "{'source': '신한은행', 'row': 69, 'type': '', 'timestamp': 1712121042.805468, 'id': 'd21b54b7-7f85-4ca8-85c2-8fb07317d3b6'}\n",
      "\n",
      "Score: 0.8222254345704889\n",
      "['ask: 매월 일정금액을 타은행으로 자동송금 신청시 이체기준 알려줘', 'Information: 타은행으로 매월 일정금액을 자동송금 신청 하셨을때 당월 또는 익월은 입력하지 말고, 신청등록을 하십시오. 자동이체 등록일을 기준으로 자동 이체일이 등록일보다 빠르면 익월부터 자동으로 이체가 되며, 자동 이체일이 등록일보다 늦으면 당월부터 자동이체가 되기 때문입니다. 예시 자동이체 신청 등록일 15일, 자동 이체일 10일이면 익월 10일부터 이체 자동이체 신청 등록일 15일, 자동 이체일 20일이면 당월 20일부터 이체']\n",
      "{'source': '신한은행', 'row': 38, 'type': '', 'timestamp': 1712121042.8045132, 'id': 'fbf79f9e-fa4d-4d6a-9ffb-5fef86846e0f'}\n",
      "\n",
      "Score: 0.7822741531742817\n",
      "['ask: 대학 등록금을 인터넷뱅킹으로 납부할 수 있습니까?', 'Information: 당행과 수납체결이 되어있는 대학교의 등록금은 개인인터넷뱅킹을 통해 납부가 가능합니다. 공과금/법원 기타 대학등록금 납부 메뉴에서 납부가 가능하며, 해당메뉴로 접속후 학교와 학번을 입력후 납부 하시면 됩니다. 해당메뉴로 등록금을 납부할 경우 온라인 이체한도 미포함 거래입니다. 또한 등록금 납부 가상계좌를 알고 계실경우 이체 메뉴를 이용하여 즉시이체하셔도 됩니다. 이럴경우 이체한도에 포함되는 거래입니다. 가상계좌로 이체하시는 경우엔 당행과 수납체결이 되어있지 않더라도 등록금납부는 가능합니다. 당행과 수납체결 여부는 등록금납부 통지서상의 수납은행으로 확인하실 수 있으며, 해당 등록금 납부 메뉴에서 납부하고자하는 학교명이 확인되지 않을경우 당행과 수납체결된 학교는 아닙니다']\n",
      "{'source': '신한은행', 'row': 58, 'type': '', 'timestamp': 1712121042.8051324, 'id': '4b9b3a26-d309-4829-8267-cdea15e4859d'}\n",
      "\n",
      "Score: 0.7770810742157593\n",
      "['ask: 이체한도란 무엇인가요?', 'Information: 이체한도란 인터넷뱅킹, 폰뱅킹, 모바일뱅킹 등을 통하여 이체할 수 있는 거래한도를 말합니다. ① 1일/1회 이체한도 1일 이체한도란 하루에 거래할 수 있는 이체금액의 합을 말하여, 1회 이체한도란 1회에 이체하실 수 있는 금액의 한도를 말합니다. ② 통합이체한도 인터넷뱅킹, 폰뱅킹, 모바일뱅킹 등을 고객님이 사용하시는 경우 고객님이 1일 또는 1회에 이체하실 수 있는 이체한도를 말합니다. 인터넷뱅킹, 폰뱅킹, 모바일뱅킹 등에서 고객님이 거래하신 이체금액의 합이 통합이체한도의 범위를 초과할 수 없습니다. ③ 최고이체한도 금융감독원에서는 개인의 전자금융 시 이용할 수 있는 이체한도의 가이드라인을 정하고 있습니다.(인터넷뱅킹 : 1일 5억원, 1회 1억원 이내)']\n",
      "{'source': '신한은행', 'row': 39, 'type': '인터넷뱅킹', 'timestamp': 1712121042.8045437, 'id': '70bf05f4-44c5-40c3-969b-4837784aa165'}\n",
      "\n",
      "Score: 0.7006168892413188\n",
      "['ask: 예약이체를 했는데 이체일에 송금이 안된 경우는?', 'Information: 모든 예약이체 등록건은 예약이체 지정일 지정된 시간(오전 7시, 오전 9시, 오전 11시, 오후 1시, 오후 3시, 오후 5시, 오후 7시, 오후 9시) 이전에 출금할 계좌에 송금액이 입금이 되어야 이체가 실행될 수 있습니다.\\r', '이체가 되지 않았다고 판단되실 경우에는 반드시 먼저 \"예약이체처리결과조회\" 또는 \"계좌 거래내역\"을 확인 하시어 이체여부 및 출금여부를 확인하시기 바랍니다. 또한 예약이체 신청시 SMS 결과통보신청을 하셨다면 요청하신 휴대폰번호로 수신된 문자를 확인해주시기 바라며, 정해진 시간에 이체되지 않은 경우 신한은행 고객상담센터 ☎ 1599-8000번으로 문의 주시기 바랍니다.']\n",
      "{'source': '신한은행', 'row': 37, 'type': '인터넷뱅킹', 'timestamp': 1712121042.8044825, 'id': '6a953af4-f4f8-4f73-85ee-2a62532bd3bf'}\n",
      "\n",
      "Score: 0.6474493548576451\n",
      "['ask: 타행으로 자동이체를 신청하고 싶은데요', 'Information: 인터넷뱅킹을 통한 타은행 계좌로의 자동이체(납부자 자동이체)신청이 가능하며 수수료는 건당 300원 입니다. 자동이체를 신청하시려면 인터넷뱅킹에 로그인 하신후 [이체] > [자동이체] > [자동이체 등록] 메뉴를 선택하시면 타행으로의 자동이체 등록을 하실 수 있습니다. ※ 주의: 타은행 자동이체는 이체 지정일 전영업일에 고객님의 계좌에서 인출하여 이체지정일자(지정일이 휴일인 경우에는 익영업일)에 타은행 계좌로 입금됩니다. 그러므로 예금잔액이 없으면 이체처리가 안되며, 이후잔액이 채워져도 재처리를 하지 않습니다. 따라서 고객님께서 자동이체를 신청하실 때에는 충분한 잔액이 있는지 확인하시기 바랍니다.']\n",
      "{'source': '신한은행', 'row': 88, 'type': '인터넷뱅킹', 'timestamp': 1712121042.8060443, 'id': '879747d8-3327-4a86-a0f5-fe45dc63f579'}\n",
      "None\n",
      "##############################\n",
      "similar_docs\n",
      "##############################\n",
      "\n",
      "Score: 0.015878940731399747\n",
      "['ask: 이체한도란 무엇인가요?', 'Information: 이체한도란 인터넷뱅킹, 폰뱅킹, 모바일뱅킹 등을 통하여 이체할 수 있는 거래한도를 말합니다. ① 1일/1회 이체한도 1일 이체한도란 하루에 거래할 수 있는 이체금액의 합을 말하여, 1회 이체한도란 1회에 이체하실 수 있는 금액의 한도를 말합니다. ② 통합이체한도 인터넷뱅킹, 폰뱅킹, 모바일뱅킹 등을 고객님이 사용하시는 경우 고객님이 1일 또는 1회에 이체하실 수 있는 이체한도를 말합니다. 인터넷뱅킹, 폰뱅킹, 모바일뱅킹 등에서 고객님이 거래하신 이체금액의 합이 통합이체한도의 범위를 초과할 수 없습니다. ③ 최고이체한도 금융감독원에서는 개인의 전자금융 시 이용할 수 있는 이체한도의 가이드라인을 정하고 있습니다.(인터넷뱅킹 : 1일 5억원, 1회 1억원 이내)']\n",
      "{'source': '신한은행', 'row': 39, 'type': '인터넷뱅킹', 'timestamp': 1712121042.8045437, 'id': '70bf05f4-44c5-40c3-969b-4837784aa165'}\n",
      "\n",
      "Score: 0.015265734265734267\n",
      "['ask: 예약이체를 했는데 이체일에 송금이 안된 경우는?', 'Information: 모든 예약이체 등록건은 예약이체 지정일 지정된 시간(오전 7시, 오전 9시, 오전 11시, 오후 1시, 오후 3시, 오후 5시, 오후 7시, 오후 9시) 이전에 출금할 계좌에 송금액이 입금이 되어야 이체가 실행될 수 있습니다.\\r', '이체가 되지 않았다고 판단되실 경우에는 반드시 먼저 \"예약이체처리결과조회\" 또는 \"계좌 거래내역\"을 확인 하시어 이체여부 및 출금여부를 확인하시기 바랍니다. 또한 예약이체 신청시 SMS 결과통보신청을 하셨다면 요청하신 휴대폰번호로 수신된 문자를 확인해주시기 바라며, 정해진 시간에 이체되지 않은 경우 신한은행 고객상담센터 ☎ 1599-8000번으로 문의 주시기 바랍니다.']\n",
      "{'source': '신한은행', 'row': 37, 'type': '인터넷뱅킹', 'timestamp': 1712121042.8044825, 'id': '6a953af4-f4f8-4f73-85ee-2a62532bd3bf'}\n",
      "\n",
      "Score: 0.008360655737704918\n",
      "['ask: 12개월 장기미이체로 이체서비스가 중지된 경우 어떻게 해제하나요?', 'Information: 최근 12개월동안 인터넷뱅킹/폰뱅킹/모바일뱅킹에서 이체서비스를 이용하지 않은 경우 고객님의 금융자산 보호를 위하여 이체서비스가 중단됩니다. 다시 이체를 원하시는 경우에는 인터넷뱅킹/폰뱅킹/신한쏠(SOL)에서 이체정지 해제를 하실 수 있습니다.(단, 인터넷뱅킹 출금계좌가 등록되어 있는 경우) [경로] ① 당행 고객정보에 등록되어있는 연락처로 ARS 추가인증 가능한 경우: - 인터넷뱅킹 로그인→ 사용자관리→ 인터넷뱅킹관리→ 장기미사용 정지해제 (또는) - 쏠(SOL) 로그인→ 전체메뉴→ 이체 → 이체관리→ 장기미사용정지 해제 ② ARS 추가인증이 불가한 경우 (해외체류 고객등) : - 인터넷뱅킹에서는 해제 어려우며, 쏠 (SOL)에서 해제 가능합니다. 쏠(SOL)의 경로는 위와 동일하며, 비대면 실명인증후 해제 가능합니다. 비대면실명인증 - 만 14세이상 가능 - 신분증확인 (주민등록증 또는 운전면허증 또는 여권) - 본인확인 (본인명의 계좌인증 또는 영상통화) 진행 기타 궁금하신 내용은 신한은행 고객센터 1599-8000로 문의하여 주시기 바랍니다']\n",
      "{'source': '신한은행', 'row': 40, 'type': '인터넷뱅킹', 'timestamp': 1712121042.8045776, 'id': 'e0dcce93-2750-47fd-97c9-f1864653680b'}\n",
      "\n",
      "Score: 0.008225806451612904\n",
      "['ask: 인터넷뱅킹을 통한 이체에 대해 영수증은 없습니다. 라고 나와요.', \"Information: 영수증이란 돈을 받은 사람이 돈을 준 사람에게 써 주는 증서인데, 송금이체의 경우 은행은 고객의 돈을 받아 고객이 지정하는 계좌로 자금을 보내드리기 때문에 영수증을 발행 할 수 없습니다. 다만, 은행에서 이체송금시 수수료를 수취하기 때문에 수수료에 대해서는 영수증을 발행해 드립니다. (실제로 지점을 방문하셔서 무통장입금으로 이체하실 경우에도 은행에서는 '무통장입금증 타행환입금의뢰확인증'만을 확인서로 제공해드립니다. 이것이 송금금액 전체에 대해 영수증의 의미를 갖는 것은 아니며, 수수료에 대해서만 영수증으로 확인의 의미를 갖습니다) \\r\", '특히 인터넷이체의 경우 인터넷상으로 조회되는 입금확인증의 경우 위변조의 가능성이 있기 때문에 거래상대방으로부터 법적 증거력을 얻지 못하고 있는 실정입니다.\\r', '\\r', '따라서 고객님이 인터넷뱅킹에 접속하여 조회하시는 인터넷뱅킹거래명세는 영수증으로는 사용될 수 없으며, 거래의 참고용으로만 사용하실 수 있습니다. (조회순서 : 개인인터넷뱅킹 로그인 → (화면 상단) 이체 → 즉시이체 → 이체결과조회 메뉴에서 상세내역 조회후 출력하실 이체건의 오른쪽에 있는 [인쇄] 버튼 클릭하시면 됩니다. 기타 궁금하신 내용은 신한은행 고객센터 1599-8000로 문의하여 주시기 바랍니다.']\n",
      "{'source': '신한은행', 'row': 69, 'type': '', 'timestamp': 1712121042.805468, 'id': 'd21b54b7-7f85-4ca8-85c2-8fb07317d3b6'}\n",
      "\n",
      "Score: 0.008095238095238095\n",
      "['ask: 매월 일정금액을 타은행으로 자동송금 신청시 이체기준 알려줘', 'Information: 타은행으로 매월 일정금액을 자동송금 신청 하셨을때 당월 또는 익월은 입력하지 말고, 신청등록을 하십시오. 자동이체 등록일을 기준으로 자동 이체일이 등록일보다 빠르면 익월부터 자동으로 이체가 되며, 자동 이체일이 등록일보다 늦으면 당월부터 자동이체가 되기 때문입니다. 예시 자동이체 신청 등록일 15일, 자동 이체일 10일이면 익월 10일부터 이체 자동이체 신청 등록일 15일, 자동 이체일 20일이면 당월 20일부터 이체']\n",
      "{'source': '신한은행', 'row': 38, 'type': '', 'timestamp': 1712121042.8045132, 'id': 'fbf79f9e-fa4d-4d6a-9ffb-5fef86846e0f'}\n",
      "\n",
      "Score: 0.00796875\n",
      "['ask: 대학 등록금을 인터넷뱅킹으로 납부할 수 있습니까?', 'Information: 당행과 수납체결이 되어있는 대학교의 등록금은 개인인터넷뱅킹을 통해 납부가 가능합니다. 공과금/법원 기타 대학등록금 납부 메뉴에서 납부가 가능하며, 해당메뉴로 접속후 학교와 학번을 입력후 납부 하시면 됩니다. 해당메뉴로 등록금을 납부할 경우 온라인 이체한도 미포함 거래입니다. 또한 등록금 납부 가상계좌를 알고 계실경우 이체 메뉴를 이용하여 즉시이체하셔도 됩니다. 이럴경우 이체한도에 포함되는 거래입니다. 가상계좌로 이체하시는 경우엔 당행과 수납체결이 되어있지 않더라도 등록금납부는 가능합니다. 당행과 수납체결 여부는 등록금납부 통지서상의 수납은행으로 확인하실 수 있으며, 해당 등록금 납부 메뉴에서 납부하고자하는 학교명이 확인되지 않을경우 당행과 수납체결된 학교는 아닙니다']\n",
      "{'source': '신한은행', 'row': 58, 'type': '', 'timestamp': 1712121042.8051324, 'id': '4b9b3a26-d309-4829-8267-cdea15e4859d'}\n",
      "\n",
      "Score: 0.007903225806451612\n",
      "['ask: 이체한도 증액은 어떻게 하나요?', 'Information: 영업점 방문하지 않아도 모바일뱅킹 신한 쏠(SOL) 에서 비대면실명 인증후 통합이체한도 증액 가능합니다. 통합이체한도는 이용하시는 보안매체에 따라, 보안등급별 최고 한도내에서 증액가능합니다.\\r', 'OTP카드 창구 발급 시 5,000원(카드형 10,000원)의 수수료가 부과됩니다. 당행에서만 사용가능한 모바일OTP는 영업점 방문없이 신한 쏠(SOL) 에서 무료로 발급가능합니다. \\r', '※ 모바일OTP를 이용하시는 경우 쏠(SOL)에서 이체한도 증액은 1회 1천만원 이하, 1일 5천만원 이하로 증액 가능합니다. \\r', '※ 만 14세 미만의 경우 법정대리인(부모/친권자/후견인)에 의해 영업점 방문하여 증액 가능하며 1일, 1회 1백만원 이하로 이체한도 제한됩니다. \\r', '통합한도란 인터넷뱅킹/신한 쏠(SOL)/폰뱅킹 등을 사용하는 경우 1일 또는 1회에 이체 가능한 통합 이체한도를 말합니다.\\r', '* 인터넷뱅킹/신한 쏠(SOL)/폰뱅킹에서 거래한 이체금액의 합이 통합이체한도의 범위를 초과할 수 없습니다.\\r', '기타 궁금하신 내용은 신한은행 고객센터 1599-8000로 문의하여 주시기 바랍니다.']\n",
      "{'source': '신한은행', 'row': 33, 'type': '인터넷뱅킹', 'timestamp': 1712121042.8043609, 'id': '9e56ca62-628e-46b6-9d6c-22711e9de59a'}\n",
      "None\n",
      "CPU times: user 45.4 ms, sys: 7.61 ms, total: 53 ms\n",
      "Wall time: 297 ms\n"
     ]
    }
   ],
   "source": [
    "%%time\n",
    "similar_docs_hybrid = retriever_utils.search_hybrid(\n",
    "    query=query,\n",
    "    k=7,\n",
    "    index_name=index_name,\n",
    "    os_client=os_client,\n",
    "    filter=search_filter,\n",
    "    fusion_algorithm=\"RRF\", # [\"RRF\", \"simple_weighted\"]\n",
    "    ensemble_weights=[0.49, 0.51], # semantic, lexical\n",
    "    async_mode=True,\n",
    "    llm_emb=llm_emb,\n",
    "    verbose=True\n",
    ")"
   ]
  },
  {
   "cell_type": "code",
   "execution_count": 45,
   "metadata": {
    "tags": []
   },
   "outputs": [
    {
     "name": "stdout",
     "output_type": "stream",
     "text": [
      "최근 12개월 동안 인터넷뱅킹/폰뱅킹/모바일뱅킹에서 이체서비스를 이용하지 않은 경우 고객님의 금융자산 보호를 위해 이체서비스가 중단됩니다. 다시 이체를 원하시는 경우에는 인터넷뱅킹/폰뱅킹/신한쏠(SOL)에서 이체정지 해제를 하실 수 있습니다. \n",
      "\n",
      "ARS 추가인증이 가능한 경우에는 인터넷뱅킹이나 신한쏠(SOL)에서 직접 장기미사용 정지를 해제할 수 있습니다. ARS 추가인증이 불가능한 경우에는 신한쏠(SOL)에서 비대면 실명인증 후 장기미사용 정지를 해제할 수 있습니다.\n",
      "##############################\n",
      "query: \n",
      " 중지된 경우 이체\n",
      "answer: \n",
      " 최근 12개월 동안 인터넷뱅킹/폰뱅킹/모바일뱅킹에서 이체서비스를 이용하지 않은 경우 고객님의 금융자산 보호를 위해 이체서비스가 중단됩니다. 다시 이체를 원하시는 경우에는 인터넷뱅킹/폰뱅킹/신한쏠(SOL)에서 이체정지 해제를 하실 수 있습니다. \n",
      "\n",
      "ARS 추가인증이 가능한 경우에는 인터넷뱅킹이나 신한쏠(SOL)에서 직접 장기미사용 정지를 해제할 수 있습니다. ARS 추가인증이 불가능한 경우에는 신한쏠(SOL)에서 비대면 실명인증 후 장기미사용 정지를 해제할 수 있습니다.\n"
     ]
    }
   ],
   "source": [
    "answer = chain.invoke(\n",
    "    {\n",
    "        \"contexts\": similar_docs_hybrid,\n",
    "        \"question\": query\n",
    "    }\n",
    ")\n",
    "\n",
    "print(\"\\n##############################\")\n",
    "print(\"query: \\n\", query)\n",
    "print(\"answer: \\n\", answer)"
   ]
  },
  {
   "cell_type": "markdown",
   "metadata": {},
   "source": [
    "# A. Reference"
   ]
  },
  {
   "cell_type": "markdown",
   "metadata": {},
   "source": [
    "- [Building a RAG AI with OpenSearch Serverless and LangChain](https://caylent.com/blog/building-a-rag-with-open-search-serverless-and-lang-chain)"
   ]
  }
 ],
 "metadata": {
  "availableInstances": [
   {
    "_defaultOrder": 0,
    "_isFastLaunch": true,
    "category": "General purpose",
    "gpuNum": 0,
    "hideHardwareSpecs": false,
    "memoryGiB": 4,
    "name": "ml.t3.medium",
    "vcpuNum": 2
   },
   {
    "_defaultOrder": 1,
    "_isFastLaunch": false,
    "category": "General purpose",
    "gpuNum": 0,
    "hideHardwareSpecs": false,
    "memoryGiB": 8,
    "name": "ml.t3.large",
    "vcpuNum": 2
   },
   {
    "_defaultOrder": 2,
    "_isFastLaunch": false,
    "category": "General purpose",
    "gpuNum": 0,
    "hideHardwareSpecs": false,
    "memoryGiB": 16,
    "name": "ml.t3.xlarge",
    "vcpuNum": 4
   },
   {
    "_defaultOrder": 3,
    "_isFastLaunch": false,
    "category": "General purpose",
    "gpuNum": 0,
    "hideHardwareSpecs": false,
    "memoryGiB": 32,
    "name": "ml.t3.2xlarge",
    "vcpuNum": 8
   },
   {
    "_defaultOrder": 4,
    "_isFastLaunch": true,
    "category": "General purpose",
    "gpuNum": 0,
    "hideHardwareSpecs": false,
    "memoryGiB": 8,
    "name": "ml.m5.large",
    "vcpuNum": 2
   },
   {
    "_defaultOrder": 5,
    "_isFastLaunch": false,
    "category": "General purpose",
    "gpuNum": 0,
    "hideHardwareSpecs": false,
    "memoryGiB": 16,
    "name": "ml.m5.xlarge",
    "vcpuNum": 4
   },
   {
    "_defaultOrder": 6,
    "_isFastLaunch": false,
    "category": "General purpose",
    "gpuNum": 0,
    "hideHardwareSpecs": false,
    "memoryGiB": 32,
    "name": "ml.m5.2xlarge",
    "vcpuNum": 8
   },
   {
    "_defaultOrder": 7,
    "_isFastLaunch": false,
    "category": "General purpose",
    "gpuNum": 0,
    "hideHardwareSpecs": false,
    "memoryGiB": 64,
    "name": "ml.m5.4xlarge",
    "vcpuNum": 16
   },
   {
    "_defaultOrder": 8,
    "_isFastLaunch": false,
    "category": "General purpose",
    "gpuNum": 0,
    "hideHardwareSpecs": false,
    "memoryGiB": 128,
    "name": "ml.m5.8xlarge",
    "vcpuNum": 32
   },
   {
    "_defaultOrder": 9,
    "_isFastLaunch": false,
    "category": "General purpose",
    "gpuNum": 0,
    "hideHardwareSpecs": false,
    "memoryGiB": 192,
    "name": "ml.m5.12xlarge",
    "vcpuNum": 48
   },
   {
    "_defaultOrder": 10,
    "_isFastLaunch": false,
    "category": "General purpose",
    "gpuNum": 0,
    "hideHardwareSpecs": false,
    "memoryGiB": 256,
    "name": "ml.m5.16xlarge",
    "vcpuNum": 64
   },
   {
    "_defaultOrder": 11,
    "_isFastLaunch": false,
    "category": "General purpose",
    "gpuNum": 0,
    "hideHardwareSpecs": false,
    "memoryGiB": 384,
    "name": "ml.m5.24xlarge",
    "vcpuNum": 96
   },
   {
    "_defaultOrder": 12,
    "_isFastLaunch": false,
    "category": "General purpose",
    "gpuNum": 0,
    "hideHardwareSpecs": false,
    "memoryGiB": 8,
    "name": "ml.m5d.large",
    "vcpuNum": 2
   },
   {
    "_defaultOrder": 13,
    "_isFastLaunch": false,
    "category": "General purpose",
    "gpuNum": 0,
    "hideHardwareSpecs": false,
    "memoryGiB": 16,
    "name": "ml.m5d.xlarge",
    "vcpuNum": 4
   },
   {
    "_defaultOrder": 14,
    "_isFastLaunch": false,
    "category": "General purpose",
    "gpuNum": 0,
    "hideHardwareSpecs": false,
    "memoryGiB": 32,
    "name": "ml.m5d.2xlarge",
    "vcpuNum": 8
   },
   {
    "_defaultOrder": 15,
    "_isFastLaunch": false,
    "category": "General purpose",
    "gpuNum": 0,
    "hideHardwareSpecs": false,
    "memoryGiB": 64,
    "name": "ml.m5d.4xlarge",
    "vcpuNum": 16
   },
   {
    "_defaultOrder": 16,
    "_isFastLaunch": false,
    "category": "General purpose",
    "gpuNum": 0,
    "hideHardwareSpecs": false,
    "memoryGiB": 128,
    "name": "ml.m5d.8xlarge",
    "vcpuNum": 32
   },
   {
    "_defaultOrder": 17,
    "_isFastLaunch": false,
    "category": "General purpose",
    "gpuNum": 0,
    "hideHardwareSpecs": false,
    "memoryGiB": 192,
    "name": "ml.m5d.12xlarge",
    "vcpuNum": 48
   },
   {
    "_defaultOrder": 18,
    "_isFastLaunch": false,
    "category": "General purpose",
    "gpuNum": 0,
    "hideHardwareSpecs": false,
    "memoryGiB": 256,
    "name": "ml.m5d.16xlarge",
    "vcpuNum": 64
   },
   {
    "_defaultOrder": 19,
    "_isFastLaunch": false,
    "category": "General purpose",
    "gpuNum": 0,
    "hideHardwareSpecs": false,
    "memoryGiB": 384,
    "name": "ml.m5d.24xlarge",
    "vcpuNum": 96
   },
   {
    "_defaultOrder": 20,
    "_isFastLaunch": false,
    "category": "General purpose",
    "gpuNum": 0,
    "hideHardwareSpecs": true,
    "memoryGiB": 0,
    "name": "ml.geospatial.interactive",
    "supportedImageNames": [
     "sagemaker-geospatial-v1-0"
    ],
    "vcpuNum": 0
   },
   {
    "_defaultOrder": 21,
    "_isFastLaunch": true,
    "category": "Compute optimized",
    "gpuNum": 0,
    "hideHardwareSpecs": false,
    "memoryGiB": 4,
    "name": "ml.c5.large",
    "vcpuNum": 2
   },
   {
    "_defaultOrder": 22,
    "_isFastLaunch": false,
    "category": "Compute optimized",
    "gpuNum": 0,
    "hideHardwareSpecs": false,
    "memoryGiB": 8,
    "name": "ml.c5.xlarge",
    "vcpuNum": 4
   },
   {
    "_defaultOrder": 23,
    "_isFastLaunch": false,
    "category": "Compute optimized",
    "gpuNum": 0,
    "hideHardwareSpecs": false,
    "memoryGiB": 16,
    "name": "ml.c5.2xlarge",
    "vcpuNum": 8
   },
   {
    "_defaultOrder": 24,
    "_isFastLaunch": false,
    "category": "Compute optimized",
    "gpuNum": 0,
    "hideHardwareSpecs": false,
    "memoryGiB": 32,
    "name": "ml.c5.4xlarge",
    "vcpuNum": 16
   },
   {
    "_defaultOrder": 25,
    "_isFastLaunch": false,
    "category": "Compute optimized",
    "gpuNum": 0,
    "hideHardwareSpecs": false,
    "memoryGiB": 72,
    "name": "ml.c5.9xlarge",
    "vcpuNum": 36
   },
   {
    "_defaultOrder": 26,
    "_isFastLaunch": false,
    "category": "Compute optimized",
    "gpuNum": 0,
    "hideHardwareSpecs": false,
    "memoryGiB": 96,
    "name": "ml.c5.12xlarge",
    "vcpuNum": 48
   },
   {
    "_defaultOrder": 27,
    "_isFastLaunch": false,
    "category": "Compute optimized",
    "gpuNum": 0,
    "hideHardwareSpecs": false,
    "memoryGiB": 144,
    "name": "ml.c5.18xlarge",
    "vcpuNum": 72
   },
   {
    "_defaultOrder": 28,
    "_isFastLaunch": false,
    "category": "Compute optimized",
    "gpuNum": 0,
    "hideHardwareSpecs": false,
    "memoryGiB": 192,
    "name": "ml.c5.24xlarge",
    "vcpuNum": 96
   },
   {
    "_defaultOrder": 29,
    "_isFastLaunch": true,
    "category": "Accelerated computing",
    "gpuNum": 1,
    "hideHardwareSpecs": false,
    "memoryGiB": 16,
    "name": "ml.g4dn.xlarge",
    "vcpuNum": 4
   },
   {
    "_defaultOrder": 30,
    "_isFastLaunch": false,
    "category": "Accelerated computing",
    "gpuNum": 1,
    "hideHardwareSpecs": false,
    "memoryGiB": 32,
    "name": "ml.g4dn.2xlarge",
    "vcpuNum": 8
   },
   {
    "_defaultOrder": 31,
    "_isFastLaunch": false,
    "category": "Accelerated computing",
    "gpuNum": 1,
    "hideHardwareSpecs": false,
    "memoryGiB": 64,
    "name": "ml.g4dn.4xlarge",
    "vcpuNum": 16
   },
   {
    "_defaultOrder": 32,
    "_isFastLaunch": false,
    "category": "Accelerated computing",
    "gpuNum": 1,
    "hideHardwareSpecs": false,
    "memoryGiB": 128,
    "name": "ml.g4dn.8xlarge",
    "vcpuNum": 32
   },
   {
    "_defaultOrder": 33,
    "_isFastLaunch": false,
    "category": "Accelerated computing",
    "gpuNum": 4,
    "hideHardwareSpecs": false,
    "memoryGiB": 192,
    "name": "ml.g4dn.12xlarge",
    "vcpuNum": 48
   },
   {
    "_defaultOrder": 34,
    "_isFastLaunch": false,
    "category": "Accelerated computing",
    "gpuNum": 1,
    "hideHardwareSpecs": false,
    "memoryGiB": 256,
    "name": "ml.g4dn.16xlarge",
    "vcpuNum": 64
   },
   {
    "_defaultOrder": 35,
    "_isFastLaunch": false,
    "category": "Accelerated computing",
    "gpuNum": 1,
    "hideHardwareSpecs": false,
    "memoryGiB": 61,
    "name": "ml.p3.2xlarge",
    "vcpuNum": 8
   },
   {
    "_defaultOrder": 36,
    "_isFastLaunch": false,
    "category": "Accelerated computing",
    "gpuNum": 4,
    "hideHardwareSpecs": false,
    "memoryGiB": 244,
    "name": "ml.p3.8xlarge",
    "vcpuNum": 32
   },
   {
    "_defaultOrder": 37,
    "_isFastLaunch": false,
    "category": "Accelerated computing",
    "gpuNum": 8,
    "hideHardwareSpecs": false,
    "memoryGiB": 488,
    "name": "ml.p3.16xlarge",
    "vcpuNum": 64
   },
   {
    "_defaultOrder": 38,
    "_isFastLaunch": false,
    "category": "Accelerated computing",
    "gpuNum": 8,
    "hideHardwareSpecs": false,
    "memoryGiB": 768,
    "name": "ml.p3dn.24xlarge",
    "vcpuNum": 96
   },
   {
    "_defaultOrder": 39,
    "_isFastLaunch": false,
    "category": "Memory Optimized",
    "gpuNum": 0,
    "hideHardwareSpecs": false,
    "memoryGiB": 16,
    "name": "ml.r5.large",
    "vcpuNum": 2
   },
   {
    "_defaultOrder": 40,
    "_isFastLaunch": false,
    "category": "Memory Optimized",
    "gpuNum": 0,
    "hideHardwareSpecs": false,
    "memoryGiB": 32,
    "name": "ml.r5.xlarge",
    "vcpuNum": 4
   },
   {
    "_defaultOrder": 41,
    "_isFastLaunch": false,
    "category": "Memory Optimized",
    "gpuNum": 0,
    "hideHardwareSpecs": false,
    "memoryGiB": 64,
    "name": "ml.r5.2xlarge",
    "vcpuNum": 8
   },
   {
    "_defaultOrder": 42,
    "_isFastLaunch": false,
    "category": "Memory Optimized",
    "gpuNum": 0,
    "hideHardwareSpecs": false,
    "memoryGiB": 128,
    "name": "ml.r5.4xlarge",
    "vcpuNum": 16
   },
   {
    "_defaultOrder": 43,
    "_isFastLaunch": false,
    "category": "Memory Optimized",
    "gpuNum": 0,
    "hideHardwareSpecs": false,
    "memoryGiB": 256,
    "name": "ml.r5.8xlarge",
    "vcpuNum": 32
   },
   {
    "_defaultOrder": 44,
    "_isFastLaunch": false,
    "category": "Memory Optimized",
    "gpuNum": 0,
    "hideHardwareSpecs": false,
    "memoryGiB": 384,
    "name": "ml.r5.12xlarge",
    "vcpuNum": 48
   },
   {
    "_defaultOrder": 45,
    "_isFastLaunch": false,
    "category": "Memory Optimized",
    "gpuNum": 0,
    "hideHardwareSpecs": false,
    "memoryGiB": 512,
    "name": "ml.r5.16xlarge",
    "vcpuNum": 64
   },
   {
    "_defaultOrder": 46,
    "_isFastLaunch": false,
    "category": "Memory Optimized",
    "gpuNum": 0,
    "hideHardwareSpecs": false,
    "memoryGiB": 768,
    "name": "ml.r5.24xlarge",
    "vcpuNum": 96
   },
   {
    "_defaultOrder": 47,
    "_isFastLaunch": false,
    "category": "Accelerated computing",
    "gpuNum": 1,
    "hideHardwareSpecs": false,
    "memoryGiB": 16,
    "name": "ml.g5.xlarge",
    "vcpuNum": 4
   },
   {
    "_defaultOrder": 48,
    "_isFastLaunch": false,
    "category": "Accelerated computing",
    "gpuNum": 1,
    "hideHardwareSpecs": false,
    "memoryGiB": 32,
    "name": "ml.g5.2xlarge",
    "vcpuNum": 8
   },
   {
    "_defaultOrder": 49,
    "_isFastLaunch": false,
    "category": "Accelerated computing",
    "gpuNum": 1,
    "hideHardwareSpecs": false,
    "memoryGiB": 64,
    "name": "ml.g5.4xlarge",
    "vcpuNum": 16
   },
   {
    "_defaultOrder": 50,
    "_isFastLaunch": false,
    "category": "Accelerated computing",
    "gpuNum": 1,
    "hideHardwareSpecs": false,
    "memoryGiB": 128,
    "name": "ml.g5.8xlarge",
    "vcpuNum": 32
   },
   {
    "_defaultOrder": 51,
    "_isFastLaunch": false,
    "category": "Accelerated computing",
    "gpuNum": 1,
    "hideHardwareSpecs": false,
    "memoryGiB": 256,
    "name": "ml.g5.16xlarge",
    "vcpuNum": 64
   },
   {
    "_defaultOrder": 52,
    "_isFastLaunch": false,
    "category": "Accelerated computing",
    "gpuNum": 4,
    "hideHardwareSpecs": false,
    "memoryGiB": 192,
    "name": "ml.g5.12xlarge",
    "vcpuNum": 48
   },
   {
    "_defaultOrder": 53,
    "_isFastLaunch": false,
    "category": "Accelerated computing",
    "gpuNum": 4,
    "hideHardwareSpecs": false,
    "memoryGiB": 384,
    "name": "ml.g5.24xlarge",
    "vcpuNum": 96
   },
   {
    "_defaultOrder": 54,
    "_isFastLaunch": false,
    "category": "Accelerated computing",
    "gpuNum": 8,
    "hideHardwareSpecs": false,
    "memoryGiB": 768,
    "name": "ml.g5.48xlarge",
    "vcpuNum": 192
   },
   {
    "_defaultOrder": 55,
    "_isFastLaunch": false,
    "category": "Accelerated computing",
    "gpuNum": 8,
    "hideHardwareSpecs": false,
    "memoryGiB": 1152,
    "name": "ml.p4d.24xlarge",
    "vcpuNum": 96
   },
   {
    "_defaultOrder": 56,
    "_isFastLaunch": false,
    "category": "Accelerated computing",
    "gpuNum": 8,
    "hideHardwareSpecs": false,
    "memoryGiB": 1152,
    "name": "ml.p4de.24xlarge",
    "vcpuNum": 96
   }
  ],
  "instance_type": "ml.m5.xlarge",
  "kernelspec": {
   "display_name": "conda_python3",
   "language": "python",
   "name": "conda_python3"
  },
  "language_info": {
   "codemirror_mode": {
    "name": "ipython",
    "version": 3
   },
   "file_extension": ".py",
   "mimetype": "text/x-python",
   "name": "python",
   "nbconvert_exporter": "python",
   "pygments_lexer": "ipython3",
   "version": "3.10.13"
  },
  "vscode": {
   "interpreter": {
    "hash": "3b41de70bedc0e302a3aeb58a0c77b854f2e56c8930e61a4aaa3340c96b01f1d"
   }
  }
 },
 "nbformat": 4,
 "nbformat_minor": 4
}
