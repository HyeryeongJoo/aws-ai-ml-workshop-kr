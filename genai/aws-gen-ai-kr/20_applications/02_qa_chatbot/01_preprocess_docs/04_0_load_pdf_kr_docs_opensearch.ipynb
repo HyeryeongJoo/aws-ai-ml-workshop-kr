{
 "cells": [
  {
   "cell_type": "markdown",
   "metadata": {
    "tags": []
   },
   "source": [
    "# 신한은행 FAQ 데이타를 이용하여 스키마 정의 후 Vector Store 생성 \n",
    "\n",
    "이 노트북은 신한은행 FAQ 데이타를 이용하여 오픈 서치 벡터 스토어에 데이터를 저장하고, 렉시컬, 시멘틱, 하이브리드 검색을 해보는 노트북 입니다.\n",
    "\n",
    "---"
   ]
  },
  {
   "cell_type": "markdown",
   "metadata": {},
   "source": [
    "## [중요] 사전 실행 노트북\n",
    "이 노트북은 아래 두개의 셋업 노트북이 먼저 실행이 되어야 합니다.\n",
    "- (1) Setup 노트북\n",
    "    - 경로는 aws-ai-ml-workshop-kr/genai/aws-gen-ai-kr/00_setup/setup.ipynb 와 같습니다.\n",
    "    -  [Setup Notebook](https://github.com/aws-samples/aws-ai-ml-workshop-kr/blob/master/genai/aws-gen-ai-kr/00_setup/setup.ipynb)\n",
    "- (2) Amazon OpenSearch 설치 노트북    \n",
    "    - 경로는 aws-ai-ml-workshop-kr/genai/aws-gen-ai-kr/00_setup/setup_opensearch.ipynb 와 같습니다.\n",
    "    - [Setup OpenSearch](https://github.com/aws-samples/aws-ai-ml-workshop-kr/blob/master/genai/aws-gen-ai-kr/00_setup/setup_opensearch.ipynb)"
   ]
  },
  {
   "cell_type": "markdown",
   "metadata": {},
   "source": [
    "## Setting\n",
    " - Auto Reload\n",
    " - path for utils"
   ]
  },
  {
   "cell_type": "code",
   "execution_count": 1,
   "metadata": {
    "tags": []
   },
   "outputs": [],
   "source": [
    "%load_ext autoreload\n",
    "%autoreload 2"
   ]
  },
  {
   "cell_type": "code",
   "execution_count": 2,
   "metadata": {
    "tags": []
   },
   "outputs": [
    {
     "name": "stdout",
     "output_type": "stream",
     "text": [
      "python path: /home/sagemaker-user/aws-ai-ml-workshop-kr/genai/aws-gen-ai-kr/20_applications/02_qa_chatbot is added\n",
      "sys.path:  ['/home/sagemaker-user/aws-ai-ml-workshop-kr/genai/aws-gen-ai-kr/20_applications/02_qa_chatbot/01_preprocess_docs', '/opt/conda/lib/python310.zip', '/opt/conda/lib/python3.10', '/opt/conda/lib/python3.10/lib-dynload', '', '/opt/conda/lib/python3.10/site-packages', '/home/sagemaker-user/aws-ai-ml-workshop-kr/genai/aws-gen-ai-kr/20_applications/02_qa_chatbot']\n"
     ]
    }
   ],
   "source": [
    "import sys, os\n",
    "\n",
    "def add_python_path(module_path):\n",
    "    if os.path.abspath(module_path) not in sys.path:\n",
    "        sys.path.append(os.path.abspath(module_path))\n",
    "        print(f\"python path: {os.path.abspath(module_path)} is added\")\n",
    "    else:\n",
    "        print(f\"python path: {os.path.abspath(module_path)} already exists\")\n",
    "    print(\"sys.path: \", sys.path)\n",
    "\n",
    "module_path = \"..\"\n",
    "add_python_path(module_path)"
   ]
  },
  {
   "cell_type": "markdown",
   "metadata": {},
   "source": [
    "## 1. Bedrock Client 생성"
   ]
  },
  {
   "cell_type": "code",
   "execution_count": 3,
   "metadata": {
    "tags": []
   },
   "outputs": [],
   "source": [
    "import json\n",
    "import boto3\n",
    "from pprint import pprint\n",
    "from termcolor import colored\n",
    "from local_utils import bedrock, print_ww\n",
    "from local_utils.bedrock import bedrock_info"
   ]
  },
  {
   "cell_type": "markdown",
   "metadata": {},
   "source": [
    "### ---- ⚠️ Un-comment and edit the below lines as needed for your AWS setup ⚠️ ----\n",
    "- os.environ[\"AWS_DEFAULT_REGION\"] = \"<REGION_NAME>\"  # E.g. \"us-east-1\"\n",
    "- os.environ[\"AWS_PROFILE\"] = \"<YOUR_PROFILE>\"\n",
    "- os.environ[\"BEDROCK_ASSUME_ROLE\"] = \"<YOUR_ROLE_ARN>\"  # E.g. \"arn:aws:...\"\n",
    "- os.environ[\"BEDROCK_ENDPOINT_URL\"] = \"<YOUR_ENDPOINT_URL>\"  # E.g. \"https://...\""
   ]
  },
  {
   "cell_type": "code",
   "execution_count": 4,
   "metadata": {
    "tags": []
   },
   "outputs": [
    {
     "name": "stdout",
     "output_type": "stream",
     "text": [
      "Create new client\n",
      "  Using region: us-east-1\n",
      "  Using profile: None\n",
      "boto3 Bedrock client successfully created!\n",
      "bedrock-runtime(https://bedrock-runtime.us-east-1.amazonaws.com)\n",
      "\u001b[32m\n",
      "== FM lists ==\u001b[0m\n",
      "{'Claude-Instant-V1': 'anthropic.claude-instant-v1',\n",
      " 'Claude-V1': 'anthropic.claude-v1',\n",
      " 'Claude-V2': 'anthropic.claude-v2',\n",
      " 'Claude-V2-1': 'anthropic.claude-v2:1',\n",
      " 'Cohere-Embeddings-En': 'cohere.embed-english-v3',\n",
      " 'Cohere-Embeddings-Multilingual': 'cohere.embed-multilingual-v3',\n",
      " 'Command': 'cohere.command-text-v14',\n",
      " 'Command-Light': 'cohere.command-light-text-v14',\n",
      " 'Jurassic-2-Mid': 'ai21.j2-mid-v1',\n",
      " 'Jurassic-2-Ultra': 'ai21.j2-ultra-v1',\n",
      " 'Llama2-13b-Chat': 'meta.llama2-13b-chat-v1',\n",
      " 'Titan-Embeddings-G1': 'amazon.titan-embed-text-v1',\n",
      " 'Titan-Text-G1': 'amazon.titan-text-express-v1',\n",
      " 'Titan-Text-G1-Light': 'amazon.titan-text-lite-v1'}\n"
     ]
    }
   ],
   "source": [
    "boto3_bedrock = bedrock.get_bedrock_client(\n",
    "    assumed_role=os.environ.get(\"BEDROCK_ASSUME_ROLE\", None),\n",
    "    endpoint_url=os.environ.get(\"BEDROCK_ENDPOINT_URL\", None),\n",
    "    region=os.environ.get(\"AWS_DEFAULT_REGION\", None),\n",
    ")\n",
    "\n",
    "print (colored(\"\\n== FM lists ==\", \"green\"))\n",
    "pprint (bedrock_info.get_list_fm_models(verbose=False))"
   ]
  },
  {
   "cell_type": "markdown",
   "metadata": {},
   "source": [
    "## 2. Embedding 모델 로딩"
   ]
  },
  {
   "cell_type": "markdown",
   "metadata": {},
   "source": [
    "## Embedding Model 선택"
   ]
  },
  {
   "cell_type": "code",
   "execution_count": 5,
   "metadata": {
    "tags": []
   },
   "outputs": [],
   "source": [
    "# We will be using the Titan Embeddings Model to generate our Embeddings.\n",
    "from langchain.embeddings import BedrockEmbeddings\n",
    "from langchain.llms.bedrock import Bedrock"
   ]
  },
  {
   "cell_type": "code",
   "execution_count": 6,
   "metadata": {
    "tags": []
   },
   "outputs": [
    {
     "data": {
      "text/plain": [
       "BedrockEmbeddings(client=<botocore.client.BedrockRuntime object at 0x7f7fc0795b10>, region_name=None, credentials_profile_name=None, model_id='amazon.titan-embed-text-v1', model_kwargs=None, endpoint_url=None, normalize=False)"
      ]
     },
     "execution_count": 6,
     "metadata": {},
     "output_type": "execute_result"
    }
   ],
   "source": [
    "llm_emb = BedrockEmbeddings(\n",
    "    client=boto3_bedrock,\n",
    "    model_id=bedrock_info.get_model_id(\n",
    "        model_name=\"Titan-Embeddings-G1\"\n",
    "    )\n",
    ")\n",
    "dimension = 1536\n",
    "llm_emb"
   ]
  },
  {
   "cell_type": "markdown",
   "metadata": {},
   "source": [
    "## 3.데이터 준비 "
   ]
  },
  {
   "cell_type": "markdown",
   "metadata": {
    "tags": []
   },
   "source": [
    "###  신한은행 FAQ 데이터 세트로 구현\n",
    "- [중요] 저자 및 동료가 아래의 웹사이트에서 크로링한 기준으로 구성 하였습니다.\n",
    "- 인터넷뱅킹 FAQ > 스마트뱅킹 No.1 ~ N. 89 로 구성되었습니다. \n",
    "- https://www.shinhan.com/hpe/index.jsp#050101020000"
   ]
  },
  {
   "cell_type": "code",
   "execution_count": 7,
   "metadata": {},
   "outputs": [],
   "source": [
    "import pandas as pd"
   ]
  },
  {
   "cell_type": "code",
   "execution_count": 8,
   "metadata": {
    "tags": []
   },
   "outputs": [
    {
     "data": {
      "text/html": [
       "<div>\n",
       "<style scoped>\n",
       "    .dataframe tbody tr th:only-of-type {\n",
       "        vertical-align: middle;\n",
       "    }\n",
       "\n",
       "    .dataframe tbody tr th {\n",
       "        vertical-align: top;\n",
       "    }\n",
       "\n",
       "    .dataframe thead th {\n",
       "        text-align: right;\n",
       "    }\n",
       "</style>\n",
       "<table border=\"1\" class=\"dataframe\">\n",
       "  <thead>\n",
       "    <tr style=\"text-align: right;\">\n",
       "      <th></th>\n",
       "      <th>no</th>\n",
       "      <th>Category</th>\n",
       "      <th>Information</th>\n",
       "      <th>type</th>\n",
       "      <th>Source</th>\n",
       "    </tr>\n",
       "  </thead>\n",
       "  <tbody>\n",
       "    <tr>\n",
       "      <th>0</th>\n",
       "      <td>91</td>\n",
       "      <td>아마존 은행의 타기관OTP 이용등록방법 알려주세요</td>\n",
       "      <td>아마존 은행의 타기관에서 발급받으신 OTP가 통합OTP카드인 경우 당행에 등록하여 ...</td>\n",
       "      <td>인터넷뱅킹</td>\n",
       "      <td>아마존은행</td>\n",
       "    </tr>\n",
       "    <tr>\n",
       "      <th>1</th>\n",
       "      <td>90</td>\n",
       "      <td>아마존 공동인증서와 금융인증서 차이점이 무엇인가요?</td>\n",
       "      <td>공동인증서 (구 공인인증서)는 용도에 따라 은행/신용카드/보험용 무료 인증서와 전자...</td>\n",
       "      <td>인증서</td>\n",
       "      <td>아마존은행</td>\n",
       "    </tr>\n",
       "    <tr>\n",
       "      <th>2</th>\n",
       "      <td>88</td>\n",
       "      <td>공동인증서와 금융인증서 차이점이 무엇인가요?</td>\n",
       "      <td>공동인증서 (구 공인인증서)는 용도에 따라 은행/신용카드/보험용 무료 인증서와 전자...</td>\n",
       "      <td>인증서</td>\n",
       "      <td>신한은행</td>\n",
       "    </tr>\n",
       "    <tr>\n",
       "      <th>3</th>\n",
       "      <td>89</td>\n",
       "      <td>타기관OTP 이용등록방법 알려주세요</td>\n",
       "      <td>타기관에서 발급받으신 OTP가 통합OTP카드인 경우 당행에 등록하여 이용가능합니다....</td>\n",
       "      <td>인터넷뱅킹</td>\n",
       "      <td>신한은행</td>\n",
       "    </tr>\n",
       "    <tr>\n",
       "      <th>4</th>\n",
       "      <td>88</td>\n",
       "      <td>공동인증서와 금융인증서 차이점이 무엇인가요?</td>\n",
       "      <td>공동인증서 (구 공인인증서)는 용도에 따라 은행/신용카드/보험용 무료 인증서와 전자...</td>\n",
       "      <td>인증서</td>\n",
       "      <td>신한은행</td>\n",
       "    </tr>\n",
       "    <tr>\n",
       "      <th>...</th>\n",
       "      <td>...</td>\n",
       "      <td>...</td>\n",
       "      <td>...</td>\n",
       "      <td>...</td>\n",
       "      <td>...</td>\n",
       "    </tr>\n",
       "    <tr>\n",
       "      <th>87</th>\n",
       "      <td>5</td>\n",
       "      <td>인터넷에서 이체한 거래의 상세내역 및 영수증을 인쇄하고 싶어요</td>\n",
       "      <td>인터넷상에서 이체한 거래의 경우 인터넷상에서 제공하는 영수증은 없으며, 거래의 참고...</td>\n",
       "      <td>인터넷뱅킹</td>\n",
       "      <td>신한은행</td>\n",
       "    </tr>\n",
       "    <tr>\n",
       "      <th>88</th>\n",
       "      <td>4</td>\n",
       "      <td>타행으로 자동이체를 신청하고 싶은데요</td>\n",
       "      <td>인터넷뱅킹을 통한 타은행 계좌로의 자동이체(납부자 자동이체)신청이 가능하며 수수료는...</td>\n",
       "      <td>인터넷뱅킹</td>\n",
       "      <td>신한은행</td>\n",
       "    </tr>\n",
       "    <tr>\n",
       "      <th>89</th>\n",
       "      <td>3</td>\n",
       "      <td>공과금 자동이체 신청이 가능한가요?</td>\n",
       "      <td>인터넷뱅킹에 로그인하신 후 \"공과금/법원 &gt; 공과금센터\" 페이지에 가시면 \"지로자동...</td>\n",
       "      <td>인터넷뱅킹</td>\n",
       "      <td>신한은행</td>\n",
       "    </tr>\n",
       "    <tr>\n",
       "      <th>90</th>\n",
       "      <td>2</td>\n",
       "      <td>인터넷뱅킹 거래에 대한 책임 범위를 알고싶습니다.</td>\n",
       "      <td>기본적으로 은행이 인터넷뱅킹 사고에 대한 책임을 집니다. 해커의 침입에 의해 자금이...</td>\n",
       "      <td>인터넷뱅킹</td>\n",
       "      <td>신한은행</td>\n",
       "    </tr>\n",
       "    <tr>\n",
       "      <th>91</th>\n",
       "      <td>1</td>\n",
       "      <td>인터넷뱅킹을 이용하려면 어떻게 해야 합니까?</td>\n",
       "      <td>영업점에 방문하지 않아도, 모바일에서 신한 쏠 (SOL) 어플 다운로드후 회원가입하...</td>\n",
       "      <td>인터넷뱅킹</td>\n",
       "      <td>신한은행</td>\n",
       "    </tr>\n",
       "  </tbody>\n",
       "</table>\n",
       "<p>92 rows × 5 columns</p>\n",
       "</div>"
      ],
      "text/plain": [
       "    no                            Category  \\\n",
       "0   91         아마존 은행의 타기관OTP 이용등록방법 알려주세요   \n",
       "1   90        아마존 공동인증서와 금융인증서 차이점이 무엇인가요?   \n",
       "2   88            공동인증서와 금융인증서 차이점이 무엇인가요?   \n",
       "3   89                 타기관OTP 이용등록방법 알려주세요   \n",
       "4   88            공동인증서와 금융인증서 차이점이 무엇인가요?   \n",
       "..  ..                                 ...   \n",
       "87   5  인터넷에서 이체한 거래의 상세내역 및 영수증을 인쇄하고 싶어요   \n",
       "88   4                타행으로 자동이체를 신청하고 싶은데요   \n",
       "89   3                 공과금 자동이체 신청이 가능한가요?   \n",
       "90   2         인터넷뱅킹 거래에 대한 책임 범위를 알고싶습니다.   \n",
       "91   1            인터넷뱅킹을 이용하려면 어떻게 해야 합니까?   \n",
       "\n",
       "                                          Information   type Source  \n",
       "0   아마존 은행의 타기관에서 발급받으신 OTP가 통합OTP카드인 경우 당행에 등록하여 ...  인터넷뱅킹  아마존은행  \n",
       "1   공동인증서 (구 공인인증서)는 용도에 따라 은행/신용카드/보험용 무료 인증서와 전자...    인증서  아마존은행  \n",
       "2   공동인증서 (구 공인인증서)는 용도에 따라 은행/신용카드/보험용 무료 인증서와 전자...    인증서   신한은행  \n",
       "3   타기관에서 발급받으신 OTP가 통합OTP카드인 경우 당행에 등록하여 이용가능합니다....  인터넷뱅킹   신한은행  \n",
       "4   공동인증서 (구 공인인증서)는 용도에 따라 은행/신용카드/보험용 무료 인증서와 전자...    인증서   신한은행  \n",
       "..                                                ...    ...    ...  \n",
       "87  인터넷상에서 이체한 거래의 경우 인터넷상에서 제공하는 영수증은 없으며, 거래의 참고...  인터넷뱅킹   신한은행  \n",
       "88  인터넷뱅킹을 통한 타은행 계좌로의 자동이체(납부자 자동이체)신청이 가능하며 수수료는...  인터넷뱅킹   신한은행  \n",
       "89  인터넷뱅킹에 로그인하신 후 \"공과금/법원 > 공과금센터\" 페이지에 가시면 \"지로자동...  인터넷뱅킹   신한은행  \n",
       "90  기본적으로 은행이 인터넷뱅킹 사고에 대한 책임을 집니다. 해커의 침입에 의해 자금이...  인터넷뱅킹   신한은행  \n",
       "91  영업점에 방문하지 않아도, 모바일에서 신한 쏠 (SOL) 어플 다운로드후 회원가입하...  인터넷뱅킹   신한은행  \n",
       "\n",
       "[92 rows x 5 columns]"
      ]
     },
     "execution_count": 8,
     "metadata": {},
     "output_type": "execute_result"
    }
   ],
   "source": [
    "data_file_path = \"./data/shinhan/fsi_smart_faq_ko.csv\"\n",
    "df = pd.read_csv(data_file_path)\n",
    "df"
   ]
  },
  {
   "cell_type": "markdown",
   "metadata": {},
   "source": [
    "### 데이터 전처리\n",
    "- 여기서 no 는 제거 합니다. "
   ]
  },
  {
   "cell_type": "code",
   "execution_count": 9,
   "metadata": {
    "tags": []
   },
   "outputs": [],
   "source": [
    "os.makedirs(\"data\", exist_ok=True)"
   ]
  },
  {
   "cell_type": "code",
   "execution_count": 10,
   "metadata": {
    "tags": []
   },
   "outputs": [
    {
     "data": {
      "text/html": [
       "<div>\n",
       "<style scoped>\n",
       "    .dataframe tbody tr th:only-of-type {\n",
       "        vertical-align: middle;\n",
       "    }\n",
       "\n",
       "    .dataframe tbody tr th {\n",
       "        vertical-align: top;\n",
       "    }\n",
       "\n",
       "    .dataframe thead th {\n",
       "        text-align: right;\n",
       "    }\n",
       "</style>\n",
       "<table border=\"1\" class=\"dataframe\">\n",
       "  <thead>\n",
       "    <tr style=\"text-align: right;\">\n",
       "      <th></th>\n",
       "      <th>ask</th>\n",
       "      <th>Information</th>\n",
       "      <th>type</th>\n",
       "      <th>Source</th>\n",
       "    </tr>\n",
       "  </thead>\n",
       "  <tbody>\n",
       "    <tr>\n",
       "      <th>0</th>\n",
       "      <td>아마존 은행의 타기관OTP 이용등록방법 알려주세요</td>\n",
       "      <td>아마존 은행의 타기관에서 발급받으신 OTP가 통합OTP카드인 경우 당행에 등록하여 ...</td>\n",
       "      <td>인터넷뱅킹</td>\n",
       "      <td>아마존은행</td>\n",
       "    </tr>\n",
       "    <tr>\n",
       "      <th>1</th>\n",
       "      <td>아마존 공동인증서와 금융인증서 차이점이 무엇인가요?</td>\n",
       "      <td>공동인증서 (구 공인인증서)는 용도에 따라 은행/신용카드/보험용 무료 인증서와 전자...</td>\n",
       "      <td>인증서</td>\n",
       "      <td>아마존은행</td>\n",
       "    </tr>\n",
       "    <tr>\n",
       "      <th>2</th>\n",
       "      <td>공동인증서와 금융인증서 차이점이 무엇인가요?</td>\n",
       "      <td>공동인증서 (구 공인인증서)는 용도에 따라 은행/신용카드/보험용 무료 인증서와 전자...</td>\n",
       "      <td>인증서</td>\n",
       "      <td>신한은행</td>\n",
       "    </tr>\n",
       "  </tbody>\n",
       "</table>\n",
       "</div>"
      ],
      "text/plain": [
       "                            ask  \\\n",
       "0   아마존 은행의 타기관OTP 이용등록방법 알려주세요   \n",
       "1  아마존 공동인증서와 금융인증서 차이점이 무엇인가요?   \n",
       "2      공동인증서와 금융인증서 차이점이 무엇인가요?   \n",
       "\n",
       "                                         Information   type Source  \n",
       "0  아마존 은행의 타기관에서 발급받으신 OTP가 통합OTP카드인 경우 당행에 등록하여 ...  인터넷뱅킹  아마존은행  \n",
       "1  공동인증서 (구 공인인증서)는 용도에 따라 은행/신용카드/보험용 무료 인증서와 전자...    인증서  아마존은행  \n",
       "2  공동인증서 (구 공인인증서)는 용도에 따라 은행/신용카드/보험용 무료 인증서와 전자...    인증서   신한은행  "
      ]
     },
     "execution_count": 10,
     "metadata": {},
     "output_type": "execute_result"
    }
   ],
   "source": [
    "def preprocess_data(df):\n",
    "\n",
    "    ldf = df.copy()\n",
    "    ldf.rename(columns={'Category': 'ask'}, inplace=True)\n",
    "    df_index = ldf.drop(['no'], axis=1)\n",
    "    df_index.to_csv(\"./data/shinhan/fsi_smart_faq_ko_processed.csv\", index=None)\n",
    "\n",
    "    return df_index\n",
    "\n",
    "pre_df = preprocess_data(df)\n",
    "pre_df.head(3)"
   ]
  },
  {
   "cell_type": "markdown",
   "metadata": {},
   "source": [
    "### CSVLoader 로 문서 로딩"
   ]
  },
  {
   "cell_type": "code",
   "execution_count": 11,
   "metadata": {
    "tags": []
   },
   "outputs": [],
   "source": [
    "import time\n",
    "from langchain.indexes import VectorstoreIndexCreator\n",
    "from langchain.vectorstores import FAISS\n",
    "from langchain.document_loaders.csv_loader import CSVLoader\n",
    "from langchain.text_splitter import CharacterTextSplitter, RecursiveCharacterTextSplitter, SpacyTextSplitter"
   ]
  },
  {
   "cell_type": "code",
   "execution_count": 12,
   "metadata": {
    "tags": []
   },
   "outputs": [],
   "source": [
    "loader = CSVLoader(\n",
    "    file_path=\"./data/shinhan/fsi_smart_faq_ko_processed.csv\",\n",
    "    csv_args={\n",
    "        \"delimiter\": \",\",\n",
    "    },\n",
    "    source_column=\"Source\",\n",
    "    encoding=\"utf-8\"\n",
    ")\n",
    "\n",
    "documents_fsi = loader.load()"
   ]
  },
  {
   "cell_type": "code",
   "execution_count": 13,
   "metadata": {
    "tags": []
   },
   "outputs": [
    {
     "data": {
      "text/plain": [
       "Document(page_content='ask: 아마존 은행의 타기관OTP 이용등록방법 알려주세요\\nInformation: 아마존 은행의 타기관에서 발급받으신 OTP가 통합OTP카드인 경우 당행에 등록하여 이용가능합니다. \\r\\n[경로]\\r\\n- 인터넷뱅킹 로그인→ 사용자관리→인터넷뱅킹관리→OTP이용등록  \\r\\n- 아마존은행 쏠(SOL) 로그인→ 전체메뉴→설정/인증→ 이용중인 보안매체선택→   OTP이용등록\\r\\n \\r\\n ※ OTP이용등록후 재로그인을 하셔야 새로 등록된 보안매체가 적용됩니다.\\r\\n\\r\\n기타 궁금하신 내용은 아마존 은행 고객센터 1599-9999로 문의하여 주시기 바랍니다.\\ntype: 인터넷뱅킹\\nSource: 아마존은행', metadata={'source': '아마존은행', 'row': 0})"
      ]
     },
     "execution_count": 13,
     "metadata": {},
     "output_type": "execute_result"
    }
   ],
   "source": [
    "documents_fsi[0]"
   ]
  },
  {
   "cell_type": "code",
   "execution_count": 14,
   "metadata": {
    "tags": []
   },
   "outputs": [
    {
     "name": "stdout",
     "output_type": "stream",
     "text": [
      "previous: {'source': '아마존은행', 'row': 0}\n",
      "new: {'source': '아마존은행', 'row': 0, 'type': '인터넷뱅킹', 'timestamp': 1708861693.3003507}\n",
      "=====\n",
      "previous: {'source': '아마존은행', 'row': 1}\n",
      "new: {'source': '아마존은행', 'row': 1, 'type': '인증서', 'timestamp': 1708861693.30038}\n",
      "=====\n",
      "previous: {'source': '신한은행', 'row': 2}\n",
      "new: {'source': '신한은행', 'row': 2, 'type': '인증서', 'timestamp': 1708861693.3004024}\n",
      "=====\n",
      "previous: {'source': '신한은행', 'row': 3}\n",
      "new: {'source': '신한은행', 'row': 3, 'type': '인터넷뱅킹', 'timestamp': 1708861693.3004231}\n",
      "=====\n",
      "previous: {'source': '신한은행', 'row': 4}\n",
      "new: {'source': '신한은행', 'row': 4, 'type': '인증서', 'timestamp': 1708861693.3004436}\n",
      "=====\n",
      "previous: {'source': '신한은행', 'row': 5}\n",
      "new: {'source': '신한은행', 'row': 5, 'type': '금융인증서', 'timestamp': 1708861693.3004642}\n",
      "=====\n",
      "previous: {'source': '신한은행', 'row': 6}\n",
      "new: {'source': '신한은행', 'row': 6, 'type': '금융인증서', 'timestamp': 1708861693.300485}\n",
      "=====\n",
      "previous: {'source': '신한은행', 'row': 7}\n",
      "new: {'source': '신한은행', 'row': 7, 'type': '금융인증서', 'timestamp': 1708861693.3005054}\n",
      "=====\n",
      "previous: {'source': '신한은행', 'row': 8}\n",
      "new: {'source': '신한은행', 'row': 8, 'type': '금융인증서', 'timestamp': 1708861693.300526}\n",
      "=====\n",
      "previous: {'source': '신한은행', 'row': 9}\n",
      "new: {'source': '신한은행', 'row': 9, 'type': '뱅크아이디', 'timestamp': 1708861693.3005455}\n",
      "=====\n",
      "previous: {'source': '신한은행', 'row': 10}\n",
      "new: {'source': '신한은행', 'row': 10, 'type': '간편서비스', 'timestamp': 1708861693.3005652}\n",
      "=====\n",
      "previous: {'source': '신한은행', 'row': 11}\n",
      "new: {'source': '신한은행', 'row': 11, 'type': '인터넷뱅킹', 'timestamp': 1708861693.300586}\n",
      "=====\n",
      "previous: {'source': '신한은행', 'row': 12}\n",
      "new: {'source': '신한은행', 'row': 12, 'type': '인터넷뱅킹', 'timestamp': 1708861693.300606}\n",
      "=====\n",
      "previous: {'source': '신한은행', 'row': 13}\n",
      "new: {'source': '신한은행', 'row': 13, 'type': '인증서', 'timestamp': 1708861693.3006287}\n",
      "=====\n",
      "previous: {'source': '신한은행', 'row': 14}\n",
      "new: {'source': '신한은행', 'row': 14, 'type': '', 'timestamp': 1708861693.3006508}\n",
      "=====\n",
      "previous: {'source': '신한은행', 'row': 15}\n",
      "new: {'source': '신한은행', 'row': 15, 'type': '인터넷뱅킹', 'timestamp': 1708861693.3006709}\n",
      "=====\n",
      "previous: {'source': '신한은행', 'row': 16}\n",
      "new: {'source': '신한은행', 'row': 16, 'type': '인터넷뱅킹', 'timestamp': 1708861693.3006911}\n",
      "=====\n",
      "previous: {'source': '신한은행', 'row': 17}\n",
      "new: {'source': '신한은행', 'row': 17, 'type': '인터넷뱅킹', 'timestamp': 1708861693.3007119}\n",
      "=====\n",
      "previous: {'source': '신한은행', 'row': 18}\n",
      "new: {'source': '신한은행', 'row': 18, 'type': '간편서비스', 'timestamp': 1708861693.300733}\n",
      "=====\n",
      "previous: {'source': '신한은행', 'row': 19}\n",
      "new: {'source': '신한은행', 'row': 19, 'type': '간편서비스', 'timestamp': 1708861693.3007538}\n",
      "=====\n",
      "previous: {'source': '신한은행', 'row': 20}\n",
      "new: {'source': '신한은행', 'row': 20, 'type': '간편서비스', 'timestamp': 1708861693.3007755}\n",
      "=====\n",
      "previous: {'source': '신한은행', 'row': 21}\n",
      "new: {'source': '신한은행', 'row': 21, 'type': '홈페이지', 'timestamp': 1708861693.3007953}\n",
      "=====\n",
      "previous: {'source': '신한은행', 'row': 22}\n",
      "new: {'source': '신한은행', 'row': 22, 'type': '홈페이지', 'timestamp': 1708861693.3008156}\n",
      "=====\n",
      "previous: {'source': '신한은행', 'row': 23}\n",
      "new: {'source': '신한은행', 'row': 23, 'type': '홈페이지', 'timestamp': 1708861693.3008358}\n",
      "=====\n",
      "previous: {'source': '신한은행', 'row': 24}\n",
      "new: {'source': '신한은행', 'row': 24, 'type': '', 'timestamp': 1708861693.3008556}\n",
      "=====\n",
      "previous: {'source': '신한은행', 'row': 25}\n",
      "new: {'source': '신한은행', 'row': 25, 'type': '인증서', 'timestamp': 1708861693.300875}\n",
      "=====\n",
      "previous: {'source': '신한은행', 'row': 26}\n",
      "new: {'source': '신한은행', 'row': 26, 'type': '', 'timestamp': 1708861693.3008957}\n",
      "=====\n",
      "previous: {'source': '신한은행', 'row': 27}\n",
      "new: {'source': '신한은행', 'row': 27, 'type': '', 'timestamp': 1708861693.3009167}\n",
      "=====\n",
      "previous: {'source': '신한은행', 'row': 28}\n",
      "new: {'source': '신한은행', 'row': 28, 'type': '', 'timestamp': 1708861693.3009362}\n",
      "=====\n",
      "previous: {'source': '신한은행', 'row': 29}\n",
      "new: {'source': '신한은행', 'row': 29, 'type': '', 'timestamp': 1708861693.300957}\n",
      "=====\n",
      "previous: {'source': '신한은행', 'row': 30}\n",
      "new: {'source': '신한은행', 'row': 30, 'type': '', 'timestamp': 1708861693.3009763}\n",
      "=====\n",
      "previous: {'source': '신한은행', 'row': 31}\n",
      "new: {'source': '신한은행', 'row': 31, 'type': '인터넷뱅킹', 'timestamp': 1708861693.3010006}\n",
      "=====\n",
      "previous: {'source': '신한은행', 'row': 32}\n",
      "new: {'source': '신한은행', 'row': 32, 'type': '간편서비스', 'timestamp': 1708861693.3010213}\n",
      "=====\n",
      "previous: {'source': '신한은행', 'row': 33}\n",
      "new: {'source': '신한은행', 'row': 33, 'type': '인터넷뱅킹', 'timestamp': 1708861693.301042}\n",
      "=====\n",
      "previous: {'source': '신한은행', 'row': 34}\n",
      "new: {'source': '신한은행', 'row': 34, 'type': '', 'timestamp': 1708861693.301062}\n",
      "=====\n",
      "previous: {'source': '신한은행', 'row': 35}\n",
      "new: {'source': '신한은행', 'row': 35, 'type': '', 'timestamp': 1708861693.3010824}\n",
      "=====\n",
      "previous: {'source': '신한은행', 'row': 36}\n",
      "new: {'source': '신한은행', 'row': 36, 'type': '', 'timestamp': 1708861693.3011022}\n",
      "=====\n",
      "previous: {'source': '신한은행', 'row': 37}\n",
      "new: {'source': '신한은행', 'row': 37, 'type': '인터넷뱅킹', 'timestamp': 1708861693.3011234}\n",
      "=====\n",
      "previous: {'source': '신한은행', 'row': 38}\n",
      "new: {'source': '신한은행', 'row': 38, 'type': '', 'timestamp': 1708861693.3011436}\n",
      "=====\n",
      "previous: {'source': '신한은행', 'row': 39}\n",
      "new: {'source': '신한은행', 'row': 39, 'type': '인터넷뱅킹', 'timestamp': 1708861693.3011642}\n",
      "=====\n",
      "previous: {'source': '신한은행', 'row': 40}\n",
      "new: {'source': '신한은행', 'row': 40, 'type': '인터넷뱅킹', 'timestamp': 1708861693.3011847}\n",
      "=====\n",
      "previous: {'source': '신한은행', 'row': 41}\n",
      "new: {'source': '신한은행', 'row': 41, 'type': '', 'timestamp': 1708861693.3012383}\n",
      "=====\n",
      "previous: {'source': '신한은행', 'row': 42}\n",
      "new: {'source': '신한은행', 'row': 42, 'type': '', 'timestamp': 1708861693.3012638}\n",
      "=====\n",
      "previous: {'source': '신한은행', 'row': 43}\n",
      "new: {'source': '신한은행', 'row': 43, 'type': '', 'timestamp': 1708861693.3012836}\n",
      "=====\n",
      "previous: {'source': '신한은행', 'row': 44}\n",
      "new: {'source': '신한은행', 'row': 44, 'type': '홈페이지', 'timestamp': 1708861693.3013031}\n",
      "=====\n",
      "previous: {'source': '신한은행', 'row': 45}\n",
      "new: {'source': '신한은행', 'row': 45, 'type': '홈페이지', 'timestamp': 1708861693.301323}\n",
      "=====\n",
      "previous: {'source': '신한은행', 'row': 46}\n",
      "new: {'source': '신한은행', 'row': 46, 'type': '홈페이지', 'timestamp': 1708861693.301346}\n",
      "=====\n",
      "previous: {'source': '신한은행', 'row': 47}\n",
      "new: {'source': '신한은행', 'row': 47, 'type': '', 'timestamp': 1708861693.3013666}\n",
      "=====\n",
      "previous: {'source': '신한은행', 'row': 48}\n",
      "new: {'source': '신한은행', 'row': 48, 'type': '홈페이지', 'timestamp': 1708861693.3013883}\n",
      "=====\n",
      "previous: {'source': '신한은행', 'row': 49}\n",
      "new: {'source': '신한은행', 'row': 49, 'type': '홈페이지', 'timestamp': 1708861693.301408}\n",
      "=====\n",
      "previous: {'source': '신한은행', 'row': 50}\n",
      "new: {'source': '신한은행', 'row': 50, 'type': '인터넷뱅킹', 'timestamp': 1708861693.301428}\n",
      "=====\n",
      "previous: {'source': '신한은행', 'row': 51}\n",
      "new: {'source': '신한은행', 'row': 51, 'type': '인터넷뱅킹', 'timestamp': 1708861693.3014488}\n",
      "=====\n",
      "previous: {'source': '신한은행', 'row': 52}\n",
      "new: {'source': '신한은행', 'row': 52, 'type': '', 'timestamp': 1708861693.301469}\n",
      "=====\n",
      "previous: {'source': '신한은행', 'row': 53}\n",
      "new: {'source': '신한은행', 'row': 53, 'type': '인터넷뱅킹', 'timestamp': 1708861693.301489}\n",
      "=====\n",
      "previous: {'source': '신한은행', 'row': 54}\n",
      "new: {'source': '신한은행', 'row': 54, 'type': '인터넷뱅킹', 'timestamp': 1708861693.3015087}\n",
      "=====\n",
      "previous: {'source': '신한은행', 'row': 55}\n",
      "new: {'source': '신한은행', 'row': 55, 'type': '인터넷뱅킹', 'timestamp': 1708861693.3015294}\n",
      "=====\n",
      "previous: {'source': '신한은행', 'row': 56}\n",
      "new: {'source': '신한은행', 'row': 56, 'type': '인터넷뱅킹', 'timestamp': 1708861693.3015504}\n",
      "=====\n",
      "previous: {'source': '신한은행', 'row': 57}\n",
      "new: {'source': '신한은행', 'row': 57, 'type': '인터넷뱅킹', 'timestamp': 1708861693.3015714}\n",
      "=====\n",
      "previous: {'source': '신한은행', 'row': 58}\n",
      "new: {'source': '신한은행', 'row': 58, 'type': '', 'timestamp': 1708861693.3015916}\n",
      "=====\n",
      "previous: {'source': '신한은행', 'row': 59}\n",
      "new: {'source': '신한은행', 'row': 59, 'type': '홈페이지', 'timestamp': 1708861693.3016121}\n",
      "=====\n",
      "previous: {'source': '신한은행', 'row': 60}\n",
      "new: {'source': '신한은행', 'row': 60, 'type': '', 'timestamp': 1708861693.3016317}\n",
      "=====\n",
      "previous: {'source': '신한은행', 'row': 61}\n",
      "new: {'source': '신한은행', 'row': 61, 'type': '인터넷뱅킹', 'timestamp': 1708861693.301651}\n",
      "=====\n",
      "previous: {'source': '신한은행', 'row': 62}\n",
      "new: {'source': '신한은행', 'row': 62, 'type': '인터넷뱅킹', 'timestamp': 1708861693.3016703}\n",
      "=====\n",
      "previous: {'source': '신한은행', 'row': 63}\n",
      "new: {'source': '신한은행', 'row': 63, 'type': '인증서', 'timestamp': 1708861693.3016896}\n",
      "=====\n",
      "previous: {'source': '신한은행', 'row': 64}\n",
      "new: {'source': '신한은행', 'row': 64, 'type': '', 'timestamp': 1708861693.30171}\n",
      "=====\n",
      "previous: {'source': '신한은행', 'row': 65}\n",
      "new: {'source': '신한은행', 'row': 65, 'type': '인증서', 'timestamp': 1708861693.301729}\n",
      "=====\n",
      "previous: {'source': '신한은행', 'row': 66}\n",
      "new: {'source': '신한은행', 'row': 66, 'type': '', 'timestamp': 1708861693.3017485}\n",
      "=====\n",
      "previous: {'source': '신한은행', 'row': 67}\n",
      "new: {'source': '신한은행', 'row': 67, 'type': '인증서', 'timestamp': 1708861693.3017685}\n",
      "=====\n",
      "previous: {'source': '신한은행', 'row': 68}\n",
      "new: {'source': '신한은행', 'row': 68, 'type': '인터넷뱅킹', 'timestamp': 1708861693.30179}\n",
      "=====\n",
      "previous: {'source': '신한은행', 'row': 69}\n",
      "new: {'source': '신한은행', 'row': 69, 'type': '', 'timestamp': 1708861693.3018107}\n",
      "=====\n",
      "previous: {'source': '신한은행', 'row': 70}\n",
      "new: {'source': '신한은행', 'row': 70, 'type': '', 'timestamp': 1708861693.3018312}\n",
      "=====\n",
      "previous: {'source': '신한은행', 'row': 71}\n",
      "new: {'source': '신한은행', 'row': 71, 'type': '인터넷뱅킹', 'timestamp': 1708861693.3018515}\n",
      "=====\n",
      "previous: {'source': '신한은행', 'row': 72}\n",
      "new: {'source': '신한은행', 'row': 72, 'type': '인터넷뱅킹', 'timestamp': 1708861693.301872}\n",
      "=====\n",
      "previous: {'source': '신한은행', 'row': 73}\n",
      "new: {'source': '신한은행', 'row': 73, 'type': '인증서', 'timestamp': 1708861693.3018913}\n",
      "=====\n",
      "previous: {'source': '신한은행', 'row': 74}\n",
      "new: {'source': '신한은행', 'row': 74, 'type': '인터넷뱅킹', 'timestamp': 1708861693.3019114}\n",
      "=====\n",
      "previous: {'source': '신한은행', 'row': 75}\n",
      "new: {'source': '신한은행', 'row': 75, 'type': '인터넷뱅킹', 'timestamp': 1708861693.3019314}\n",
      "=====\n",
      "previous: {'source': '신한은행', 'row': 76}\n",
      "new: {'source': '신한은행', 'row': 76, 'type': '인터넷뱅킹', 'timestamp': 1708861693.301952}\n",
      "=====\n",
      "previous: {'source': '신한은행', 'row': 77}\n",
      "new: {'source': '신한은행', 'row': 77, 'type': '인터넷뱅킹', 'timestamp': 1708861693.3019724}\n",
      "=====\n",
      "previous: {'source': '신한은행', 'row': 78}\n",
      "new: {'source': '신한은행', 'row': 78, 'type': '인증서', 'timestamp': 1708861693.3019917}\n",
      "=====\n",
      "previous: {'source': '신한은행', 'row': 79}\n",
      "new: {'source': '신한은행', 'row': 79, 'type': '인증서', 'timestamp': 1708861693.302012}\n",
      "=====\n",
      "previous: {'source': '신한은행', 'row': 80}\n",
      "new: {'source': '신한은행', 'row': 80, 'type': '인증서', 'timestamp': 1708861693.3020315}\n",
      "=====\n",
      "previous: {'source': '신한은행', 'row': 81}\n",
      "new: {'source': '신한은행', 'row': 81, 'type': '인터넷뱅킹', 'timestamp': 1708861693.302051}\n",
      "=====\n",
      "previous: {'source': '신한은행', 'row': 82}\n",
      "new: {'source': '신한은행', 'row': 82, 'type': '인터넷뱅킹', 'timestamp': 1708861693.302071}\n",
      "=====\n",
      "previous: {'source': '신한은행', 'row': 83}\n",
      "new: {'source': '신한은행', 'row': 83, 'type': '인터넷뱅킹', 'timestamp': 1708861693.3020904}\n",
      "=====\n",
      "previous: {'source': '신한은행', 'row': 84}\n",
      "new: {'source': '신한은행', 'row': 84, 'type': '인터넷뱅킹', 'timestamp': 1708861693.3021133}\n",
      "=====\n",
      "previous: {'source': '신한은행', 'row': 85}\n",
      "new: {'source': '신한은행', 'row': 85, 'type': '인터넷뱅킹', 'timestamp': 1708861693.3021328}\n",
      "=====\n",
      "previous: {'source': '신한은행', 'row': 86}\n",
      "new: {'source': '신한은행', 'row': 86, 'type': '인터넷뱅킹', 'timestamp': 1708861693.3021536}\n",
      "=====\n",
      "previous: {'source': '신한은행', 'row': 87}\n",
      "new: {'source': '신한은행', 'row': 87, 'type': '인터넷뱅킹', 'timestamp': 1708861693.3021746}\n",
      "=====\n",
      "previous: {'source': '신한은행', 'row': 88}\n",
      "new: {'source': '신한은행', 'row': 88, 'type': '인터넷뱅킹', 'timestamp': 1708861693.302194}\n",
      "=====\n",
      "previous: {'source': '신한은행', 'row': 89}\n",
      "new: {'source': '신한은행', 'row': 89, 'type': '인터넷뱅킹', 'timestamp': 1708861693.3022137}\n",
      "=====\n",
      "previous: {'source': '신한은행', 'row': 90}\n",
      "new: {'source': '신한은행', 'row': 90, 'type': '인터넷뱅킹', 'timestamp': 1708861693.3022335}\n",
      "=====\n",
      "previous: {'source': '신한은행', 'row': 91}\n",
      "new: {'source': '신한은행', 'row': 91, 'type': '인터넷뱅킹', 'timestamp': 1708861693.3022535}\n",
      "=====\n"
     ]
    }
   ],
   "source": [
    "def create_metadata(docs):\n",
    "    # # add a custom metadata field, such as timestamp\n",
    "    for idx, doc in enumerate(docs):\n",
    "\n",
    "        print (\"previous:\", doc.metadata)\n",
    "        # type 을 메타 데이타로 저장\n",
    "        stype = doc.page_content.split(\"type: \")[1].split(\"\\n\")[0]\n",
    "        split_content = doc.page_content.split(\"type: \")\n",
    "        content = split_content[0]\n",
    "        metadata = split_content[1]\n",
    "        doc.metadata['type'] = metadata.split(\"\\n\")[0]        \n",
    "        doc.page_content = content # metadata 제외하고 content 만 저장\n",
    "        doc.metadata['timestamp'] = time.time()\n",
    "\n",
    "        print (\"new:\", doc.metadata)\n",
    "        print (\"=====\")\n",
    "\n",
    "create_metadata(documents_fsi)"
   ]
  },
  {
   "cell_type": "code",
   "execution_count": 15,
   "metadata": {
    "tags": []
   },
   "outputs": [
    {
     "name": "stdout",
     "output_type": "stream",
     "text": [
      "92\n",
      "page_content='ask: 아마존 은행의 타기관OTP 이용등록방법 알려주세요\\nInformation: 아마존 은행의 타기관에서 발급받으신 OTP가 통합OTP카드인 경우 당행에 등록하여 이용가능합니다. \\r\\n[경로]\\r\\n- 인터넷뱅킹 로그인→ 사용자관리→인터넷뱅킹관리→OTP이용등록  \\r\\n- 아마존은행 쏠(SOL) 로그인→ 전체메뉴→설정/인증→ 이용중인 보안매체선택→   OTP이용등록\\r\\n \\r\\n ※ OTP이용등록후 재로그인을 하셔야 새로 등록된 보안매체가 적용됩니다.\\r\\n\\r\\n기타 궁금하신 내용은 아마존 은행 고객센터 1599-9999로 문의하여 주시기 바랍니다.\\n' metadata={'source': '아마존은행', 'row': 0, 'type': '인터넷뱅킹', 'timestamp': 1708861693.3003507}\n"
     ]
    }
   ],
   "source": [
    "print (len(documents_fsi))\n",
    "print (documents_fsi[0])"
   ]
  },
  {
   "cell_type": "markdown",
   "metadata": {},
   "source": [
    "### Text Spliter 로 청킹\n",
    "참고: 검색된 문서/텍스트는 질문에 대답하기에 충분한 정보를 포함할 만큼 커야 합니다. 하지만 LLM 프롬프트에 들어갈 만큼 충분히 작습니다. <BR>\n",
    "또한 임베딩 모델에는 입력 토큰 길이는 KoSimCSERobert는 512개, titanEmbedding(8,912개) 토큰으로 제한되어 있습니다. <BR>\n",
    "이 사용 사례를 위해 [RecursiveCharacterTextSplitter](https://python.langchain.com/en/latest/modules/indexes/text_splitters/examples/recursive_text_splitter.html)를 사용하여 500자가 겹치는 약 92자의 청크를 생성합니다."
   ]
  },
  {
   "cell_type": "code",
   "execution_count": 16,
   "metadata": {
    "tags": []
   },
   "outputs": [
    {
     "name": "stdout",
     "output_type": "stream",
     "text": [
      "Number of documents after split and chunking=92\n"
     ]
    }
   ],
   "source": [
    "chunk_size = 2048\n",
    "chunk_overlap = 50\n",
    "\n",
    "text_splitter = RecursiveCharacterTextSplitter(\n",
    "    # Set a really small chunk size, just to show.\n",
    "    chunk_size=chunk_size,\n",
    "    chunk_overlap=chunk_overlap,\n",
    "    separators=[\"\\n\\n\", \"\\n\", \".\", \" \", \"\"],\n",
    "    length_function=len,\n",
    ")\n",
    "\n",
    "chunk_docs = text_splitter.split_documents(documents_fsi)\n",
    "print(f\"Number of documents after split and chunking={len(chunk_docs)}\")"
   ]
  },
  {
   "cell_type": "code",
   "execution_count": 17,
   "metadata": {
    "tags": []
   },
   "outputs": [
    {
     "data": {
      "text/plain": [
       "Document(page_content='ask: 아마존 은행의 타기관OTP 이용등록방법 알려주세요\\nInformation: 아마존 은행의 타기관에서 발급받으신 OTP가 통합OTP카드인 경우 당행에 등록하여 이용가능합니다. \\r\\n[경로]\\r\\n- 인터넷뱅킹 로그인→ 사용자관리→인터넷뱅킹관리→OTP이용등록  \\r\\n- 아마존은행 쏠(SOL) 로그인→ 전체메뉴→설정/인증→ 이용중인 보안매체선택→   OTP이용등록\\r\\n \\r\\n ※ OTP이용등록후 재로그인을 하셔야 새로 등록된 보안매체가 적용됩니다.\\r\\n\\r\\n기타 궁금하신 내용은 아마존 은행 고객센터 1599-9999로 문의하여 주시기 바랍니다.', metadata={'source': '아마존은행', 'row': 0, 'type': '인터넷뱅킹', 'timestamp': 1708861693.3003507})"
      ]
     },
     "execution_count": 17,
     "metadata": {},
     "output_type": "execute_result"
    }
   ],
   "source": [
    "chunk_docs[0]"
   ]
  },
  {
   "cell_type": "markdown",
   "metadata": {},
   "source": [
    "## 4. Index 생성"
   ]
  },
  {
   "cell_type": "markdown",
   "metadata": {
    "tags": []
   },
   "source": [
    "### Index 이름 결정"
   ]
  },
  {
   "cell_type": "code",
   "execution_count": 18,
   "metadata": {
    "tags": []
   },
   "outputs": [],
   "source": [
    "# index_name = <your index>\n",
    "index_name = \"v1-faq-shinhan-bank\""
   ]
  },
  {
   "cell_type": "markdown",
   "metadata": {
    "tags": []
   },
   "source": [
    "## Index 스키마 정의"
   ]
  },
  {
   "cell_type": "code",
   "execution_count": 19,
   "metadata": {
    "tags": []
   },
   "outputs": [],
   "source": [
    "index_body = {\n",
    "    'settings': {\n",
    "        'analysis': {\n",
    "            'analyzer': {\n",
    "                'my_analyzer': {\n",
    "                         'char_filter':['html_strip'],\n",
    "                    'tokenizer': 'nori',\n",
    "                    'filter': [\n",
    "                        #'nori_number',\n",
    "                        #'lowercase',\n",
    "                        #'trim',\n",
    "                        'my_nori_part_of_speech'\n",
    "                    ],\n",
    "                    'type': 'custom'\n",
    "                }\n",
    "            },\n",
    "            'tokenizer': {\n",
    "                'nori': {\n",
    "                    'decompound_mode': 'mixed',\n",
    "                    'discard_punctuation': 'true',\n",
    "                    'type': 'nori_tokenizer'\n",
    "                }\n",
    "            },\n",
    "            \"filter\": {\n",
    "                \"my_nori_part_of_speech\": {\n",
    "                    \"type\": \"nori_part_of_speech\",\n",
    "                    \"stoptags\": [\n",
    "                        \"J\", \"XSV\", \"E\", \"IC\",\"MAJ\",\"NNB\",\n",
    "                        \"SP\", \"SSC\", \"SSO\",\n",
    "                        \"SC\",\"SE\",\"XSN\",\"XSV\",\n",
    "                        \"UNA\",\"NA\",\"VCP\",\"VSV\",\n",
    "                        \"VX\"\n",
    "                    ]\n",
    "                }\n",
    "            }\n",
    "        },\n",
    "        'index': {\n",
    "            'knn': True,\n",
    "            'knn.space_type': 'cosinesimil'  # Example space type\n",
    "        }\n",
    "    },\n",
    "    'mappings': {\n",
    "        'properties': {\n",
    "            'metadata': {\n",
    "                'properties': {\n",
    "                    'source': {'type': 'keyword'},\n",
    "                    'row': {'type': 'long'},\n",
    "                    'type': {'type': 'keyword'},\n",
    "                    'timestamp': {'type': 'float'},\n",
    "                }\n",
    "            },\n",
    "            'text': {\n",
    "                'analyzer': 'my_analyzer',\n",
    "                'search_analyzer': 'my_analyzer',\n",
    "                'type': 'text'\n",
    "            },\n",
    "            'vector_field': {\n",
    "                'type': 'knn_vector',\n",
    "                'dimension': f\"{dimension}\" # Replace with your vector dimension\n",
    "            }\n",
    "        }\n",
    "    }\n",
    "}\n"
   ]
  },
  {
   "cell_type": "markdown",
   "metadata": {
    "tags": []
   },
   "source": [
    "## 5. LangChain OpenSearch VectorStore 생성 \n",
    "### 선수 조건\n"
   ]
  },
  {
   "cell_type": "markdown",
   "metadata": {
    "tags": []
   },
   "source": [
    "### 오픈 서치 도메인 및 인증 정보 세팅\n",
    "\n",
    "- [langchain.vectorstores.opensearch_vector_search.OpenSearchVectorSearch](https://api.python.langchain.com/en/latest/vectorstores/langchain.vectorstores.opensearch_vector_search.OpenSearchVectorSearch.html)"
   ]
  },
  {
   "cell_type": "markdown",
   "metadata": {},
   "source": [
    "#### [중요] 아래에 aws parameter store 에 아래 인증정보가 먼저 입력되어 있어야 합니다."
   ]
  },
  {
   "cell_type": "code",
   "execution_count": 20,
   "metadata": {
    "tags": []
   },
   "outputs": [],
   "source": [
    "import boto3\n",
    "from local_utils.proc_docs import get_parameter"
   ]
  },
  {
   "cell_type": "code",
   "execution_count": 21,
   "metadata": {},
   "outputs": [],
   "source": [
    "import boto3\n",
    "ssm = boto3.client('ssm', 'us-east-1')\n",
    "\n",
    "opensearch_domain_endpoint = get_parameter(\n",
    "    boto3_clinet = ssm,\n",
    "    parameter_name = 'knox_opensearch_domain_endpoint',\n",
    ")\n",
    "\n",
    "opensearch_user_id = get_parameter(\n",
    "    boto3_clinet = ssm,\n",
    "    parameter_name = 'knox_opensearch_userid',\n",
    ")\n",
    "\n",
    "opensearch_user_password = get_parameter(\n",
    "    boto3_clinet = ssm,\n",
    "    parameter_name = 'knox_opensearch_password',\n",
    ")\n"
   ]
  },
  {
   "cell_type": "code",
   "execution_count": 22,
   "metadata": {
    "tags": []
   },
   "outputs": [],
   "source": [
    "opensearch_domain_endpoint = opensearch_domain_endpoint\n",
    "rag_user_name = opensearch_user_id\n",
    "rag_user_password = opensearch_user_password\n",
    "\n",
    "http_auth = (rag_user_name, rag_user_password) # Master username, Master password"
   ]
  },
  {
   "cell_type": "markdown",
   "metadata": {},
   "source": [
    "### OpenSearch Client 생성"
   ]
  },
  {
   "cell_type": "code",
   "execution_count": 23,
   "metadata": {
    "tags": []
   },
   "outputs": [],
   "source": [
    "from local_utils.opensearch import opensearch_utils"
   ]
  },
  {
   "cell_type": "code",
   "execution_count": 24,
   "metadata": {
    "tags": []
   },
   "outputs": [],
   "source": [
    "aws_region = os.environ.get(\"AWS_DEFAULT_REGION\", None)\n",
    "\n",
    "os_client = opensearch_utils.create_aws_opensearch_client(\n",
    "    aws_region,\n",
    "    opensearch_domain_endpoint,\n",
    "    http_auth\n",
    ")"
   ]
  },
  {
   "cell_type": "markdown",
   "metadata": {},
   "source": [
    "### 오픈 서치 인덱스 생성 \n",
    "- 오픈 서치에 해당 인덱스가 존재하면, 삭제 합니다. "
   ]
  },
  {
   "cell_type": "code",
   "execution_count": 25,
   "metadata": {
    "tags": []
   },
   "outputs": [],
   "source": [
    "from local_utils.opensearch import opensearch_utils"
   ]
  },
  {
   "cell_type": "code",
   "execution_count": 26,
   "metadata": {
    "tags": []
   },
   "outputs": [
    {
     "name": "stdout",
     "output_type": "stream",
     "text": [
      "index_name=v1-faq-shinhan-bank, exists=True\n",
      "\n",
      "Deleting index:\n",
      "{'acknowledged': True}\n",
      "\n",
      "Creating index:\n",
      "{'acknowledged': True, 'shards_acknowledged': True, 'index': 'v1-faq-shinhan-bank'}\n",
      "Index is created\n",
      "{'v1-faq-shinhan-bank': {'aliases': {},\n",
      "                         'mappings': {'properties': {'metadata': {'properties': {'row': {'type': 'long'},\n",
      "                                                                                 'source': {'type': 'keyword'},\n",
      "                                                                                 'timestamp': {'type': 'float'},\n",
      "                                                                                 'type': {'type': 'keyword'}}},\n",
      "                                                     'text': {'analyzer': 'my_analyzer',\n",
      "                                                              'type': 'text'},\n",
      "                                                     'vector_field': {'dimension': 1536,\n",
      "                                                                      'type': 'knn_vector'}}},\n",
      "                         'settings': {'index': {'analysis': {'analyzer': {'my_analyzer': {'char_filter': ['html_strip'],\n",
      "                                                                                          'filter': ['my_nori_part_of_speech'],\n",
      "                                                                                          'tokenizer': 'nori',\n",
      "                                                                                          'type': 'custom'}},\n",
      "                                                             'filter': {'my_nori_part_of_speech': {'stoptags': ['J',\n",
      "                                                                                                                'XSV',\n",
      "                                                                                                                'E',\n",
      "                                                                                                                'IC',\n",
      "                                                                                                                'MAJ',\n",
      "                                                                                                                'NNB',\n",
      "                                                                                                                'SP',\n",
      "                                                                                                                'SSC',\n",
      "                                                                                                                'SSO',\n",
      "                                                                                                                'SC',\n",
      "                                                                                                                'SE',\n",
      "                                                                                                                'XSN',\n",
      "                                                                                                                'XSV',\n",
      "                                                                                                                'UNA',\n",
      "                                                                                                                'NA',\n",
      "                                                                                                                'VCP',\n",
      "                                                                                                                'VSV',\n",
      "                                                                                                                'VX'],\n",
      "                                                                                                   'type': 'nori_part_of_speech'}},\n",
      "                                                             'tokenizer': {'nori': {'decompound_mode': 'mixed',\n",
      "                                                                                    'discard_punctuation': 'true',\n",
      "                                                                                    'type': 'nori_tokenizer'}}},\n",
      "                                                'creation_date': '1708861736019',\n",
      "                                                'knn': 'true',\n",
      "                                                'knn.space_type': 'cosinesimil',\n",
      "                                                'number_of_replicas': '1',\n",
      "                                                'number_of_shards': '5',\n",
      "                                                'provided_name': 'v1-faq-shinhan-bank',\n",
      "                                                'replication': {'type': 'DOCUMENT'},\n",
      "                                                'uuid': 'hn6suaMnRZGcBzb98skPhw',\n",
      "                                                'version': {'created': '136327827'}}}}}\n"
     ]
    }
   ],
   "source": [
    "index_exists = opensearch_utils.check_if_index_exists(\n",
    "    os_client,\n",
    "    index_name\n",
    ")\n",
    "\n",
    "if index_exists:\n",
    "    opensearch_utils.delete_index(\n",
    "        os_client,\n",
    "        index_name\n",
    "    )\n",
    "\n",
    "opensearch_utils.create_index(os_client, index_name, index_body)\n",
    "index_info = os_client.indices.get(index=index_name)\n",
    "print(\"Index is created\")\n",
    "pprint(index_info)"
   ]
  },
  {
   "cell_type": "markdown",
   "metadata": {
    "tags": []
   },
   "source": [
    "### 랭체인 인덱스 연결 오브젝트 생성\n",
    "\n",
    "- [langchain.vectorstores.opensearch_vector_search.OpenSearchVectorSearch](https://api.python.langchain.com/en/latest/vectorstores/langchain.vectorstores.opensearch_vector_search.OpenSearchVectorSearch.html)"
   ]
  },
  {
   "cell_type": "code",
   "execution_count": 27,
   "metadata": {
    "tags": []
   },
   "outputs": [],
   "source": [
    "from langchain.vectorstores import OpenSearchVectorSearch"
   ]
  },
  {
   "cell_type": "code",
   "execution_count": 28,
   "metadata": {
    "tags": []
   },
   "outputs": [
    {
     "data": {
      "text/plain": [
       "<langchain_community.vectorstores.opensearch_vector_search.OpenSearchVectorSearch at 0x7f7f7c2d7f40>"
      ]
     },
     "execution_count": 28,
     "metadata": {},
     "output_type": "execute_result"
    }
   ],
   "source": [
    "vector_db = OpenSearchVectorSearch(\n",
    "    index_name=index_name,\n",
    "    opensearch_url=opensearch_domain_endpoint,\n",
    "    embedding_function=llm_emb,\n",
    "    http_auth=http_auth, # http_auth\n",
    "    is_aoss=False,\n",
    "    engine=\"faiss\",\n",
    "    space_type=\"l2\",\n",
    "    bulk_size=100000,\n",
    "    timeout=60\n",
    ")\n",
    "vector_db"
   ]
  },
  {
   "cell_type": "markdown",
   "metadata": {},
   "source": [
    "### OpenSearch 에 문서 삽입"
   ]
  },
  {
   "cell_type": "code",
   "execution_count": 29,
   "metadata": {
    "tags": []
   },
   "outputs": [
    {
     "name": "stdout",
     "output_type": "stream",
     "text": [
      "CPU times: user 248 ms, sys: 7.29 ms, total: 256 ms\n",
      "Wall time: 10 s\n"
     ]
    },
    {
     "data": {
      "text/plain": [
       "['b01b3916-a88f-451b-83e8-e32790c5a7c4',\n",
       " 'c89c4068-f5f7-40aa-bd66-6758392bfb0f',\n",
       " '0f1359a4-0e82-4a01-9a05-bb87474f2a67',\n",
       " '2785bbbd-d712-4d75-8e74-23fd8799acd8',\n",
       " '39e6805c-faac-4c6f-8168-081501ae8fd9',\n",
       " 'da5f00bb-e0e8-4d0f-a34d-88574a500882',\n",
       " '7ab8a4cc-dcce-4af5-8490-0f9c6092ebf5',\n",
       " '7d69323f-3781-46ab-8309-e5371d38c819',\n",
       " '3adba35b-396e-4a28-b906-eaaaa94087b3',\n",
       " 'ae0572bf-704a-45f2-bfd8-43e86da79b74',\n",
       " '876dbd72-4a41-4280-99d0-1a6dff57a867',\n",
       " '502cf984-2f9f-497c-8a9a-31fba4feca53',\n",
       " 'd01bedb1-c4fc-4067-9119-73c6fa808e81',\n",
       " 'bdcc0015-035c-41b0-a349-2c70b758e0d8',\n",
       " '436b32f3-e9f1-4870-be65-21704449899c',\n",
       " 'a0c7f528-54f8-47ef-bb15-01270fa7ca0f',\n",
       " 'b1c93ff2-e352-40f9-a9ff-8874ec910850',\n",
       " '6caf3c17-7ef4-49d3-9949-0c78b8b43f6f',\n",
       " 'dfe8ecf2-1ed5-4602-b411-4f2d4a1bcd25',\n",
       " '5b1d20b9-bcf3-432c-8c1a-5bf948f41cf5',\n",
       " '837813b3-055a-408b-a530-650503e7360f',\n",
       " '7cdee7ec-db26-46cf-9b9e-855840134944',\n",
       " 'adf54e95-be08-442d-9e36-4d565c53e314',\n",
       " '2c14acf2-3ad4-4caf-8e09-f5ca440752de',\n",
       " '7f02b806-7b6d-445b-b843-0a30b1a1b2f3',\n",
       " '47899abe-7f88-4f19-8208-cecf1405814c',\n",
       " 'e686f483-74f7-436d-b9f4-cc3e47bd20e9',\n",
       " '78b26607-68a5-4eac-9478-0a06f8e89b35',\n",
       " 'f046a8a8-4509-4123-90d0-206c1a5dbc13',\n",
       " '64fcbd46-d258-46bd-b781-44a26bc7b47d',\n",
       " '3ca096be-b059-46f1-aafe-fba6528a6766',\n",
       " '300cea4a-4cce-442c-bb00-7b68cb50f586',\n",
       " '9d8d2b53-d13f-4f24-95d6-18ec92f65760',\n",
       " '36ec17c3-7ee1-40fe-9aae-fd94ed8b73d4',\n",
       " '35ebc2d7-573d-4971-b05e-e3c61ba35aaa',\n",
       " '716e70c7-b96d-475a-a90b-ceba7f072708',\n",
       " '99b15c64-1393-4a73-913e-755e6073a2ca',\n",
       " '2de31fe0-fe59-4707-ae24-54a8f9cd2687',\n",
       " '52225183-734b-4ddb-a553-f36c61543a59',\n",
       " '0f165ea8-3bb5-4d24-b9fa-7d4da788e06c',\n",
       " '476097fb-f1c9-4d2d-a2de-33a82d0b9c09',\n",
       " '00af6442-dfd6-4510-9327-f826e6f2b712',\n",
       " '0cb1d84c-d7ae-4ddc-b735-fe60191b8eac',\n",
       " '1582973e-30a7-4b56-b5e7-86fa171c1215',\n",
       " '0a75adc0-91bd-47e6-a901-93a312f77cb6',\n",
       " '87226a19-a5ae-4bb8-8885-047a5992577b',\n",
       " '7a42ffe6-d17e-4c46-a4eb-f88339c1d737',\n",
       " 'fb44b040-429d-431b-837f-b7c7cad6a7c0',\n",
       " '7cab2a85-654f-4eda-92f3-918a140794d8',\n",
       " 'b955a4f3-7a66-4de2-aece-737df94d444d',\n",
       " '3853d174-a836-4f55-9f3c-349774374fd5',\n",
       " '11f9cd1e-d980-4564-83cd-e59a1b09861d',\n",
       " '56673641-f927-4ce3-b929-d2a469c5b6a9',\n",
       " '369fed9d-23d7-4831-afdb-adbd04015335',\n",
       " 'e1eacf3f-7e5f-421f-89b1-410f1bd10902',\n",
       " 'ba3fd9c3-a31e-4963-977d-8c697bbf2588',\n",
       " '15569c8a-9d5a-413b-90e3-8a413fea8fec',\n",
       " '978f671b-bbde-4e4f-8c9a-f48ccea93bff',\n",
       " 'de1b182e-8649-4714-8d0d-e3b2fb71ca96',\n",
       " 'a8a451e3-b324-4dab-a3fd-013128226e98',\n",
       " '816b4717-bb3c-499b-8085-b55368e89932',\n",
       " '591eba12-f52c-462b-9e9b-a05d1536208e',\n",
       " '1fdc7581-5903-4739-a9d0-b47365bd0bb9',\n",
       " '068ee603-d267-48fe-a995-fbdc14b4e82b',\n",
       " '70b1a553-f7ec-4815-a30e-6cc74ccff40b',\n",
       " 'f83a2455-7946-4d2c-a1d7-57b204e5d503',\n",
       " '07a7b746-f490-4a8d-9174-234435ddfa9c',\n",
       " '75033527-619f-48ed-bf19-060f6f674832',\n",
       " '100e47ef-2483-4980-8f1b-fc830687b4c3',\n",
       " 'c7997ac0-ec5a-4973-b20f-b609d758eda4',\n",
       " '26c81d24-d7f4-44cc-bd48-a8adc8dcd7a6',\n",
       " '83a017e0-ead0-487b-bae6-d76f2ce74198',\n",
       " '9642f794-627a-4442-bd8c-a8759de469f7',\n",
       " '4f9e9798-2b4b-46dd-b559-143c695bfd6c',\n",
       " '1a1d8ce2-5c14-4731-b194-28c1dedae2a4',\n",
       " 'a37ca0d4-b081-4238-8171-4962b7279391',\n",
       " 'd1678762-10b8-41c7-8ce1-2244d3c8751b',\n",
       " '6bd4a3d5-c530-40b7-8dd2-6a106aff012c',\n",
       " '36d41e63-c616-49d7-b714-88d7bc45374a',\n",
       " 'ecdf55ea-4ed3-4df7-9595-ea07f0789c37',\n",
       " '3383001c-885b-4ac1-b34e-4b6052385b2c',\n",
       " 'b102e067-458d-477b-ad56-66a864c89088',\n",
       " '0a925371-7d33-4b36-9f3c-6f8878caa797',\n",
       " '08595aba-3ab2-4849-ab04-5b4163c254a0',\n",
       " '9129345f-3e2c-4a24-9939-c38a3d2e8229',\n",
       " 'fd820fdc-ee19-4918-8197-6bc6d0c8babc',\n",
       " 'f907de8c-8e61-448b-8930-007bd92790cf',\n",
       " 'a4c761d3-fc23-489d-828d-733c58fe1626',\n",
       " '39c7f10c-5b9f-4edb-ad29-6e29943c84d3',\n",
       " '4c6f36da-b7fe-4afc-afb2-9c9ea83b821c',\n",
       " '81bd256f-16a8-4dbc-9c0f-7c12beed4b96',\n",
       " '890e0e12-a1c6-4649-9df4-7e038a8b1dd6']"
      ]
     },
     "execution_count": 29,
     "metadata": {},
     "output_type": "execute_result"
    }
   ],
   "source": [
    "%%time\n",
    "\n",
    "vector_db.add_documents(\n",
    "    documents = chunk_docs, \n",
    "    vector_field = \"vector_field\",\n",
    "    bulk_size = 1000000\n",
    ")\n"
   ]
  },
  {
   "cell_type": "markdown",
   "metadata": {},
   "source": [
    "## 6. 검색 및 질의 응답 테스트"
   ]
  },
  {
   "cell_type": "code",
   "execution_count": 30,
   "metadata": {
    "tags": []
   },
   "outputs": [],
   "source": [
    "from local_utils.rag import retriever_utils\n",
    "from local_utils.rag import show_context_used\n",
    "from langchain.prompts import PromptTemplate\n",
    "from langchain.chains.question_answering import load_qa_chain\n",
    "from langchain.callbacks.streaming_stdout import StreamingStdOutCallbackHandler"
   ]
  },
  {
   "cell_type": "markdown",
   "metadata": {
    "tags": []
   },
   "source": [
    "### LLM 선택"
   ]
  },
  {
   "cell_type": "code",
   "execution_count": 31,
   "metadata": {
    "tags": []
   },
   "outputs": [
    {
     "data": {
      "text/plain": [
       "Bedrock(client=<botocore.client.BedrockRuntime object at 0x7f7fc0795b10>, model_id='anthropic.claude-v2:1', model_kwargs={'max_tokens_to_sample': 512}, streaming=True, callbacks=[<langchain_core.callbacks.streaming_stdout.StreamingStdOutCallbackHandler object at 0x7f7fdce454b0>])"
      ]
     },
     "execution_count": 31,
     "metadata": {},
     "output_type": "execute_result"
    }
   ],
   "source": [
    "# - create the Anthropic Model\n",
    "llm_text = Bedrock(\n",
    "    model_id=bedrock_info.get_model_id(model_name=\"Claude-V2-1\"),\n",
    "    client=boto3_bedrock,\n",
    "    model_kwargs={\n",
    "        \"max_tokens_to_sample\": 512\n",
    "    },\n",
    "    streaming=True,\n",
    "    callbacks=[StreamingStdOutCallbackHandler()]\n",
    ")\n",
    "llm_text"
   ]
  },
  {
   "cell_type": "markdown",
   "metadata": {
    "tags": []
   },
   "source": [
    "### QA prompt"
   ]
  },
  {
   "cell_type": "code",
   "execution_count": 32,
   "metadata": {
    "tags": []
   },
   "outputs": [],
   "source": [
    "prompt_template = \"\"\"\n",
    "\n",
    "Human: Here is the context, inside <context></context> XML tags.\n",
    "\n",
    "<context>\n",
    "{context}\n",
    "</context>\n",
    "\n",
    "Only using the context as above, answer the following question with the rules as below:\n",
    "    - Don't insert XML tag such as <context> and </context> when answering.\n",
    "    - Write as much as you can\n",
    "    - Be courteous and polite\n",
    "    - Only answer the question if you can find the answer in the context with certainty.\n",
    "\n",
    "Question:\n",
    "{question}\n",
    "\n",
    "If the answer is not in the context, just say \"주어진 내용에서 관련 답변을 찾을 수 없습니다.\"\n",
    "\n",
    "\n",
    "Assistant:\"\"\"\n",
    "\n",
    "PROMPT = PromptTemplate(\n",
    "    template=prompt_template, input_variables=[\"context\", \"question\"]\n",
    ")"
   ]
  },
  {
   "cell_type": "code",
   "execution_count": 33,
   "metadata": {
    "tags": []
   },
   "outputs": [],
   "source": [
    "chain = load_qa_chain(\n",
    "    llm=llm_text,\n",
    "    chain_type=\"stuff\",\n",
    "    prompt=PROMPT,\n",
    "    verbose=True\n",
    ")"
   ]
  },
  {
   "cell_type": "markdown",
   "metadata": {},
   "source": [
    "### Semantic 검색"
   ]
  },
  {
   "cell_type": "code",
   "execution_count": 34,
   "metadata": {
    "tags": []
   },
   "outputs": [],
   "source": [
    "query = \"중지된 경우 이체\"\n",
    "\n",
    "search_filter=[\n",
    "    #{\"term\": {\"metadata.source\": \"신한은행\"}},\n",
    "    #{\"term\": {\"metadata.type\": \"인터넷뱅킹\"}},\n",
    "]"
   ]
  },
  {
   "cell_type": "code",
   "execution_count": 35,
   "metadata": {
    "tags": []
   },
   "outputs": [
    {
     "name": "stdout",
     "output_type": "stream",
     "text": [
      "-----------------------------------------------\n",
      "1. Chunk: 402 Characters\n",
      "-----------------------------------------------\n",
      "ask: 이체한도란 무엇인가요?\n",
      "Information: 이체한도란 인터넷뱅킹, 폰뱅킹, 모바일뱅킹 등을 통하여 이체할 수 있는 거래한도를 말합니다. ① 1일/1회 이체한도 1일 이체한도란 하루에 거래할 수 있는\n",
      "이체금액의 합을 말하여, 1회 이체한도란 1회에 이체하실 수 있는 금액의 한도를 말합니다. ② 통합이체한도 인터넷뱅킹, 폰뱅킹, 모바일뱅킹 등을 고객님이 사용하시는 경우 고객님이\n",
      "1일 또는 1회에 이체하실 수 있는 이체한도를 말합니다. 인터넷뱅킹, 폰뱅킹, 모바일뱅킹 등에서 고객님이 거래하신 이체금액의 합이 통합이체한도의 범위를 초과할 수 없습니다. ③\n",
      "최고이체한도 금융감독원에서는 개인의 전자금융 시 이용할 수 있는 이체한도의 가이드라인을 정하고 있습니다.(인터넷뱅킹 : 1일 5억원, 1회 1억원 이내)\n",
      "metadata:\n",
      " {'source': '신한은행', 'row': 39, 'type': '인터넷뱅킹', 'timestamp': 1708861693.3011642, 'id':\n",
      "'0f165ea8-3bb5-4d24-b9fa-7d4da788e06c'}\n",
      "-----------------------------------------------\n",
      "2. Chunk: 584 Characters\n",
      "-----------------------------------------------\n",
      "ask: 이체한도 증액은 어떻게 하나요?\n",
      "Information: 영업점 방문하지 않아도 모바일뱅킹 신한 쏠(SOL) 에서 비대면실명 인증후 통합이체한도 증액 가능합니다. 통합이체한도는 이용하시는 보안매체에 따라,\n",
      "보안등급별 최고 한도내에서 증액가능합니다.\n",
      "OTP카드 창구 발급 시 5,000원(카드형 10,000원)의 수수료가 부과됩니다. 당행에서만 사용가능한 모바일OTP는 영업점 방문없이 신한 쏠(SOL) 에서 무료로\n",
      "발급가능합니다.\n",
      "※ 모바일OTP를 이용하시는 경우 쏠(SOL)에서 이체한도 증액은 1회 1천만원 이하, 1일 5천만원 이하로 증액 가능합니다.\n",
      "※ 만 14세 미만의 경우 법정대리인(부모/친권자/후견인)에 의해 영업점 방문하여 증액 가능하며 1일, 1회 1백만원 이하로 이체한도 제한됩니다.\n",
      "통합한도란 인터넷뱅킹/신한 쏠(SOL)/폰뱅킹 등을 사용하는 경우 1일 또는 1회에 이체 가능한 통합 이체한도를 말합니다.\n",
      "* 인터넷뱅킹/신한 쏠(SOL)/폰뱅킹에서 거래한 이체금액의 합이 통합이체한도의 범위를 초과할 수 없습니다.\n",
      "기타 궁금하신 내용은 신한은행 고객센터 1599-8000로 문의하여 주시기 바랍니다.\n",
      "metadata:\n",
      " {'source': '신한은행', 'row': 33, 'type': '인터넷뱅킹', 'timestamp': 1708861693.301042, 'id':\n",
      "'36ec17c3-7ee1-40fe-9aae-fd94ed8b73d4'}\n",
      "-----------------------------------------------\n",
      "3. Chunk: 572 Characters\n",
      "-----------------------------------------------\n",
      "ask: 온라인 서비스 신청시 구비서류는?\n",
      "Information: 온라인 서비스 신규는 본인만 가능하고 가입시 필요서류는 다음과 같습니다. 온라인 서비스 신규 시 필요서류 : 본인 신분증. 신분증 : 국가기관 또는\n",
      "지방자치단체, 교육법에 의한 학교의 장이 발급한 것으로서 성명, 주민등록번호가 기재되어 있고 부착된 사진에 의하여 본인임을 확인할 수 있는 증표 (주민등록증, 운전면허증, 공무증,\n",
      "여권, 노인복지카드(경로우대증), 장애인복지카드(장애인등록증 포함), 국가 유공자증, 학생증, 외국인등록증, 국내거소신고증 등). 만14세 미만 미성년자. 만 14세 미만\n",
      "미성년자는 법정대리인에 의한 신청한 가능합니다. 1. 부모가 혼인중인 경우 부 또는 모 신분증, 미성년자 기준으로 발급된 특정기본증명서, 미성년자 기준으로 발급된\n",
      "상세가족관계증명서. 2. 친권자나 후견인이 지정된 경우 친권자 또는 후견인의 신분증, 미성년자 기준으로 발급된 특정 기본 증명서, 미성년 자녀 기준으로 발급된 일반\n",
      "가족관계증명서(후견인은 생략). 발급서류는 3개월이내 발급된 원본으로 주민등록번호 13자리가 모두 표기된 서류로 준비부탁드립니다.\n",
      "metadata:\n",
      " {'source': '신한은행', 'row': 51, 'type': '인터넷뱅킹', 'timestamp': 1708861693.3014488, 'id':\n",
      "'11f9cd1e-d980-4564-83cd-e59a1b09861d'}\n",
      "-----------------------------------------------\n",
      "4. Chunk: 458 Characters\n",
      "-----------------------------------------------\n",
      "ask: 인터넷에서 이체한 거래의 상세내역 및 영수증을 인쇄하고 싶어요\n",
      "Information: 인터넷상에서 이체한 거래의 경우 인터넷상에서 제공하는 영수증은 없으며, 거래의 참고용으로 단지 조회일자 및 출금 계좌번호 등으로 상세내역(이체 확인증\n",
      "목록)을 조회하거나 그 내역을 인쇄만 가능합니다. 인터넷뱅킹 거래 상세내역(이체확인증 목록)및 입금증(이체확인증) 인쇄 방법은 다음과 같습니다. ① 인터넷뱅킹에 접속하여 로그인 ②\n",
      "이체 → 즉시이체 → 이체결과조회 ③ 조회구분, 출금계좌번호, 조회일자등 상세내역을 조회 ④ 입금확인증목록을 인쇄하시려면 조회된 내역 왼쪽 상단에 보이는 [이체목록인쇄] 버튼을\n",
      "클릭하면 해당 거래내역을 출력할 수 있으며, 입금확인증을 인쇄하시려면 해당 이체건의 오른쪽에 있는 [인쇄] 버튼을 클릭하시면 됩니다. ※ 참고 : 즉시이체 후에도 이체확인증 목록\n",
      "및 이체확인증을 출력하실 수 있습니다.\n",
      "metadata:\n",
      " {'source': '신한은행', 'row': 87, 'type': '인터넷뱅킹', 'timestamp': 1708861693.3021746, 'id':\n",
      "'a4c761d3-fc23-489d-828d-733c58fe1626'}\n",
      "-----------------------------------------------\n",
      "5. Chunk: 380 Characters\n",
      "-----------------------------------------------\n",
      "ask: 예약이체를 했는데 이체일에 송금이 안된 경우는?\n",
      "Information: 모든 예약이체 등록건은 예약이체 지정일 지정된 시간(오전 7시, 오전 9시, 오전 11시, 오후 1시, 오후 3시, 오후 5시, 오후 7시, 오후 9시)\n",
      "이전에 출금할 계좌에 송금액이 입금이 되어야 이체가 실행될 수 있습니다.\n",
      "이체가 되지 않았다고 판단되실 경우에는 반드시 먼저 \"예약이체처리결과조회\" 또는 \"계좌 거래내역\"을 확인 하시어 이체여부 및 출금여부를 확인하시기 바랍니다. 또한 예약이체 신청시\n",
      "SMS 결과통보신청을 하셨다면 요청하신 휴대폰번호로 수신된 문자를 확인해주시기 바라며, 정해진 시간에 이체되지 않은 경우 신한은행 고객상담센터 ☎ 1599-8000번으로 문의\n",
      "주시기 바랍니다.\n",
      "metadata:\n",
      " {'source': '신한은행', 'row': 37, 'type': '인터넷뱅킹', 'timestamp': 1708861693.3011234, 'id':\n",
      "'2de31fe0-fe59-4707-ae24-54a8f9cd2687'}\n"
     ]
    }
   ],
   "source": [
    "similar_docs_semantic = retriever_utils.get_semantic_similar_docs(\n",
    "    index_name=index_name,\n",
    "    os_client=os_client,\n",
    "    llm_emb=llm_emb,\n",
    "    query=query,\n",
    "    k=5,\n",
    "    boolean_filter=search_filter,\n",
    "    hybrid=False\n",
    ")\n",
    "show_context_used(similar_docs_semantic)"
   ]
  },
  {
   "cell_type": "code",
   "execution_count": 36,
   "metadata": {
    "tags": []
   },
   "outputs": [
    {
     "name": "stderr",
     "output_type": "stream",
     "text": [
      "/opt/conda/lib/python3.10/site-packages/langchain_core/_api/deprecation.py:117: LangChainDeprecationWarning: The function `run` was deprecated in LangChain 0.1.0 and will be removed in 0.2.0. Use invoke instead.\n",
      "  warn_deprecated(\n"
     ]
    },
    {
     "name": "stdout",
     "output_type": "stream",
     "text": [
      "\n",
      "\n",
      "\u001b[1m> Entering new StuffDocumentsChain chain...\u001b[0m\n",
      "\n",
      "\n",
      "\u001b[1m> Entering new LLMChain chain...\u001b[0m\n",
      "Prompt after formatting:\n",
      "\u001b[32;1m\u001b[1;3m\n",
      "\n",
      "Human: Here is the context, inside <context></context> XML tags.\n",
      "\n",
      "<context>\n",
      "ask: 이체한도란 무엇인가요?\n",
      "Information: 이체한도란 인터넷뱅킹, 폰뱅킹, 모바일뱅킹 등을 통하여 이체할 수 있는 거래한도를 말합니다. ① 1일/1회 이체한도 1일 이체한도란 하루에 거래할 수 있는 이체금액의 합을 말하여, 1회 이체한도란 1회에 이체하실 수 있는 금액의 한도를 말합니다. ② 통합이체한도 인터넷뱅킹, 폰뱅킹, 모바일뱅킹 등을 고객님이 사용하시는 경우 고객님이 1일 또는 1회에 이체하실 수 있는 이체한도를 말합니다. 인터넷뱅킹, 폰뱅킹, 모바일뱅킹 등에서 고객님이 거래하신 이체금액의 합이 통합이체한도의 범위를 초과할 수 없습니다. ③ 최고이체한도 금융감독원에서는 개인의 전자금융 시 이용할 수 있는 이체한도의 가이드라인을 정하고 있습니다.(인터넷뱅킹 : 1일 5억원, 1회 1억원 이내)\n",
      "\n",
      "ask: 이체한도 증액은 어떻게 하나요?\n",
      "Information: 영업점 방문하지 않아도 모바일뱅킹 신한 쏠(SOL) 에서 비대면실명 인증후 통합이체한도 증액 가능합니다. 통합이체한도는 이용하시는 보안매체에 따라, 보안등급별 최고 한도내에서 증액가능합니다.\n",
      "OTP카드 창구 발급 시 5,000원(카드형 10,000원)의 수수료가 부과됩니다. 당행에서만 사용가능한 모바일OTP는 영업점 방문없이 신한 쏠(SOL) 에서 무료로 발급가능합니다. \n",
      "※ 모바일OTP를 이용하시는 경우 쏠(SOL)에서 이체한도 증액은 1회 1천만원 이하, 1일 5천만원 이하로 증액 가능합니다. \n",
      "※ 만 14세 미만의 경우 법정대리인(부모/친권자/후견인)에 의해 영업점 방문하여 증액 가능하며 1일, 1회 1백만원 이하로 이체한도 제한됩니다. \n",
      "통합한도란 인터넷뱅킹/신한 쏠(SOL)/폰뱅킹 등을 사용하는 경우 1일 또는 1회에 이체 가능한 통합 이체한도를 말합니다.\n",
      "* 인터넷뱅킹/신한 쏠(SOL)/폰뱅킹에서 거래한 이체금액의 합이 통합이체한도의 범위를 초과할 수 없습니다.\n",
      "기타 궁금하신 내용은 신한은행 고객센터 1599-8000로 문의하여 주시기 바랍니다.\n",
      "\n",
      "ask: 온라인 서비스 신청시 구비서류는?\n",
      "Information: 온라인 서비스 신규는 본인만 가능하고 가입시 필요서류는 다음과 같습니다. 온라인 서비스 신규 시 필요서류 : 본인 신분증. 신분증 : 국가기관 또는 지방자치단체, 교육법에 의한 학교의 장이 발급한 것으로서 성명, 주민등록번호가 기재되어 있고 부착된 사진에 의하여 본인임을 확인할 수 있는 증표 (주민등록증, 운전면허증, 공무증, 여권, 노인복지카드(경로우대증), 장애인복지카드(장애인등록증 포함), 국가 유공자증, 학생증, 외국인등록증, 국내거소신고증 등). 만14세 미만 미성년자. 만 14세 미만 미성년자는 법정대리인에 의한 신청한 가능합니다. 1. 부모가 혼인중인 경우 부 또는 모 신분증, 미성년자 기준으로 발급된 특정기본증명서, 미성년자 기준으로 발급된 상세가족관계증명서. 2. 친권자나 후견인이 지정된 경우 친권자 또는 후견인의 신분증, 미성년자 기준으로 발급된 특정 기본 증명서, 미성년 자녀 기준으로 발급된 일반 가족관계증명서(후견인은 생략). 발급서류는 3개월이내 발급된 원본으로 주민등록번호 13자리가 모두 표기된 서류로 준비부탁드립니다.\n",
      "\n",
      "ask: 인터넷에서 이체한 거래의 상세내역 및 영수증을 인쇄하고 싶어요\n",
      "Information: 인터넷상에서 이체한 거래의 경우 인터넷상에서 제공하는 영수증은 없으며, 거래의 참고용으로 단지 조회일자 및 출금 계좌번호 등으로 상세내역(이체 확인증 목록)을 조회하거나 그 내역을 인쇄만 가능합니다. 인터넷뱅킹 거래 상세내역(이체확인증 목록)및 입금증(이체확인증) 인쇄 방법은 다음과 같습니다. ① 인터넷뱅킹에 접속하여 로그인 ② 이체 → 즉시이체 → 이체결과조회 ③ 조회구분, 출금계좌번호, 조회일자등 상세내역을 조회 ④ 입금확인증목록을 인쇄하시려면 조회된 내역 왼쪽 상단에 보이는 [이체목록인쇄] 버튼을 클릭하면 해당 거래내역을 출력할 수 있으며, 입금확인증을 인쇄하시려면 해당 이체건의 오른쪽에 있는 [인쇄] 버튼을 클릭하시면 됩니다. ※ 참고 : 즉시이체 후에도 이체확인증 목록 및 이체확인증을 출력하실 수 있습니다.\n",
      "\n",
      "ask: 예약이체를 했는데 이체일에 송금이 안된 경우는?\n",
      "Information: 모든 예약이체 등록건은 예약이체 지정일 지정된 시간(오전 7시, 오전 9시, 오전 11시, 오후 1시, 오후 3시, 오후 5시, 오후 7시, 오후 9시) 이전에 출금할 계좌에 송금액이 입금이 되어야 이체가 실행될 수 있습니다.\n",
      "이체가 되지 않았다고 판단되실 경우에는 반드시 먼저 \"예약이체처리결과조회\" 또는 \"계좌 거래내역\"을 확인 하시어 이체여부 및 출금여부를 확인하시기 바랍니다. 또한 예약이체 신청시 SMS 결과통보신청을 하셨다면 요청하신 휴대폰번호로 수신된 문자를 확인해주시기 바라며, 정해진 시간에 이체되지 않은 경우 신한은행 고객상담센터 ☎ 1599-8000번으로 문의 주시기 바랍니다.\n",
      "</context>\n",
      "\n",
      "Only using the context as above, answer the following question with the rules as below:\n",
      "    - Don't insert XML tag such as <context> and </context> when answering.\n",
      "    - Write as much as you can\n",
      "    - Be courteous and polite\n",
      "    - Only answer the question if you can find the answer in the context with certainty.\n",
      "\n",
      "Question:\n",
      "중지된 경우 이체\n",
      "\n",
      "If the answer is not in the context, just say \"주어진 내용에서 관련 답변을 찾을 수 없습니다.\"\n",
      "\n",
      "\n",
      "Assistant:\u001b[0m\n",
      " 주어진 내용에서는 중지된 경우 이체에 대한 정보를 찾을 수 없습니다. 이체가 실행되지 않은 경우에 확인해야 할 사항으로 예약이체처리결과조회 또는 계좌거래내역 확인, SMS 결과통보 신청시 전송된 문자 확인 등이 언급되어 있습니다.\n",
      "\u001b[1m> Finished chain.\u001b[0m\n",
      "\n",
      "\u001b[1m> Finished chain.\u001b[0m\n",
      "##############################\n",
      "query: \n",
      " 중지된 경우 이체\n",
      "answer: \n",
      "  주어진 내용에서는 중지된 경우 이체에 대한 정보를 찾을 수 없습니다. 이체가 실행되지 않은 경우에 확인해야 할 사항으로 예약이체처리결과조회 또는 계좌거래내역 확인, SMS 결과통보 신청시 전송된 문자 확인 등이 언급되어 있습니다.\n"
     ]
    }
   ],
   "source": [
    "answer = chain.run(\n",
    "    input_documents=similar_docs_semantic,\n",
    "    question=query\n",
    ")\n",
    "\n",
    "print(\"##############################\")\n",
    "print(\"query: \\n\", query)\n",
    "print(\"answer: \\n\", answer)"
   ]
  },
  {
   "cell_type": "markdown",
   "metadata": {},
   "source": [
    "## Lexical 검색"
   ]
  },
  {
   "cell_type": "code",
   "execution_count": 37,
   "metadata": {
    "tags": []
   },
   "outputs": [],
   "source": [
    "query = \"중지된 경우 이체\"\n",
    "\n",
    "search_filter=[\n",
    "    #{\"term\": {\"metadata.source\": \"신한은행\"}},\n",
    "    #{\"term\": {\"metadata.type\": \"인터넷뱅킹\"}},\n",
    "]"
   ]
  },
  {
   "cell_type": "code",
   "execution_count": 38,
   "metadata": {
    "tags": []
   },
   "outputs": [
    {
     "name": "stdout",
     "output_type": "stream",
     "text": [
      "-----------------------------------------------\n",
      "1. Chunk: 380 Characters\n",
      "-----------------------------------------------\n",
      "ask: 예약이체를 했는데 이체일에 송금이 안된 경우는?\n",
      "Information: 모든 예약이체 등록건은 예약이체 지정일 지정된 시간(오전 7시, 오전 9시, 오전 11시, 오후 1시, 오후 3시, 오후 5시, 오후 7시, 오후 9시)\n",
      "이전에 출금할 계좌에 송금액이 입금이 되어야 이체가 실행될 수 있습니다.\n",
      "이체가 되지 않았다고 판단되실 경우에는 반드시 먼저 \"예약이체처리결과조회\" 또는 \"계좌 거래내역\"을 확인 하시어 이체여부 및 출금여부를 확인하시기 바랍니다. 또한 예약이체 신청시\n",
      "SMS 결과통보신청을 하셨다면 요청하신 휴대폰번호로 수신된 문자를 확인해주시기 바라며, 정해진 시간에 이체되지 않은 경우 신한은행 고객상담센터 ☎ 1599-8000번으로 문의\n",
      "주시기 바랍니다.\n",
      "metadata:\n",
      " {'source': '신한은행', 'row': 37, 'type': '인터넷뱅킹', 'timestamp': 1708861693.3011234, 'id':\n",
      "'2de31fe0-fe59-4707-ae24-54a8f9cd2687'}\n",
      "-----------------------------------------------\n",
      "2. Chunk: 591 Characters\n",
      "-----------------------------------------------\n",
      "ask: 12개월 장기미이체로 이체서비스가 중지된 경우 어떻게 해제하나요?\n",
      "Information: 최근 12개월동안 인터넷뱅킹/폰뱅킹/모바일뱅킹에서 이체서비스를 이용하지 않은 경우 고객님의 금융자산 보호를 위하여 이체서비스가 중단됩니다. 다시 이체를\n",
      "원하시는 경우에는 인터넷뱅킹/폰뱅킹/신한쏠(SOL)에서 이체정지 해제를 하실 수 있습니다.(단, 인터넷뱅킹 출금계좌가 등록되어 있는 경우) [경로] ① 당행 고객정보에 등록되어있는\n",
      "연락처로 ARS 추가인증 가능한 경우: - 인터넷뱅킹 로그인→ 사용자관리→ 인터넷뱅킹관리→ 장기미사용 정지해제 (또는) - 쏠(SOL) 로그인→ 전체메뉴→ 이체 → 이체관리→\n",
      "장기미사용정지 해제 ② ARS 추가인증이 불가한 경우 (해외체류 고객등) : - 인터넷뱅킹에서는 해제 어려우며, 쏠 (SOL)에서 해제 가능합니다. 쏠(SOL)의 경로는 위와\n",
      "동일하며, 비대면 실명인증후 해제 가능합니다. 비대면실명인증 - 만 14세이상 가능 - 신분증확인 (주민등록증 또는 운전면허증 또는 여권) - 본인확인 (본인명의 계좌인증 또는\n",
      "영상통화) 진행 기타 궁금하신 내용은 신한은행 고객센터 1599-8000로 문의하여 주시기 바랍니다\n",
      "metadata:\n",
      " {'source': '신한은행', 'row': 40, 'type': '인터넷뱅킹', 'timestamp': 1708861693.3011847, 'id':\n",
      "'476097fb-f1c9-4d2d-a2de-33a82d0b9c09'}\n",
      "-----------------------------------------------\n",
      "3. Chunk: 402 Characters\n",
      "-----------------------------------------------\n",
      "ask: 이체한도란 무엇인가요?\n",
      "Information: 이체한도란 인터넷뱅킹, 폰뱅킹, 모바일뱅킹 등을 통하여 이체할 수 있는 거래한도를 말합니다. ① 1일/1회 이체한도 1일 이체한도란 하루에 거래할 수 있는\n",
      "이체금액의 합을 말하여, 1회 이체한도란 1회에 이체하실 수 있는 금액의 한도를 말합니다. ② 통합이체한도 인터넷뱅킹, 폰뱅킹, 모바일뱅킹 등을 고객님이 사용하시는 경우 고객님이\n",
      "1일 또는 1회에 이체하실 수 있는 이체한도를 말합니다. 인터넷뱅킹, 폰뱅킹, 모바일뱅킹 등에서 고객님이 거래하신 이체금액의 합이 통합이체한도의 범위를 초과할 수 없습니다. ③\n",
      "최고이체한도 금융감독원에서는 개인의 전자금융 시 이용할 수 있는 이체한도의 가이드라인을 정하고 있습니다.(인터넷뱅킹 : 1일 5억원, 1회 1억원 이내)\n",
      "metadata:\n",
      " {'source': '신한은행', 'row': 39, 'type': '인터넷뱅킹', 'timestamp': 1708861693.3011642, 'id':\n",
      "'0f165ea8-3bb5-4d24-b9fa-7d4da788e06c'}\n",
      "-----------------------------------------------\n",
      "4. Chunk: 673 Characters\n",
      "-----------------------------------------------\n",
      "ask: 인터넷뱅킹을 통한 이체에 대해 영수증은 없습니다. 라고 나와요.\n",
      "Information: 영수증이란 돈을 받은 사람이 돈을 준 사람에게 써 주는 증서인데, 송금이체의 경우 은행은 고객의 돈을 받아 고객이 지정하는 계좌로 자금을 보내드리기 때문에\n",
      "영수증을 발행 할 수 없습니다. 다만, 은행에서 이체송금시 수수료를 수취하기 때문에 수수료에 대해서는 영수증을 발행해 드립니다. (실제로 지점을 방문하셔서 무통장입금으로 이체하실\n",
      "경우에도 은행에서는 '무통장입금증 타행환입금의뢰확인증'만을 확인서로 제공해드립니다. 이것이 송금금액 전체에 대해 영수증의 의미를 갖는 것은 아니며, 수수료에 대해서만 영수증으로\n",
      "확인의 의미를 갖습니다)\n",
      "특히 인터넷이체의 경우 인터넷상으로 조회되는 입금확인증의 경우 위변조의 가능성이 있기 때문에 거래상대방으로부터 법적 증거력을 얻지 못하고 있는 실정입니다.\n",
      "\n",
      "따라서 고객님이 인터넷뱅킹에 접속하여 조회하시는 인터넷뱅킹거래명세는 영수증으로는 사용될 수 없으며, 거래의 참고용으로만 사용하실 수 있습니다. (조회순서 : 개인인터넷뱅킹 로그인\n",
      "→ (화면 상단) 이체 → 즉시이체 → 이체결과조회 메뉴에서 상세내역 조회후 출력하실 이체건의 오른쪽에 있는 [인쇄] 버튼 클릭하시면 됩니다. 기타 궁금하신 내용은 신한은행\n",
      "고객센터 1599-8000로 문의하여 주시기 바랍니다.\n",
      "metadata:\n",
      " {'source': '신한은행', 'row': 69, 'type': '', 'timestamp': 1708861693.3018107, 'id':\n",
      "'c7997ac0-ec5a-4973-b20f-b609d758eda4'}\n",
      "-----------------------------------------------\n",
      "5. Chunk: 458 Characters\n",
      "-----------------------------------------------\n",
      "ask: 인터넷에서 이체한 거래의 상세내역 및 영수증을 인쇄하고 싶어요\n",
      "Information: 인터넷상에서 이체한 거래의 경우 인터넷상에서 제공하는 영수증은 없으며, 거래의 참고용으로 단지 조회일자 및 출금 계좌번호 등으로 상세내역(이체 확인증\n",
      "목록)을 조회하거나 그 내역을 인쇄만 가능합니다. 인터넷뱅킹 거래 상세내역(이체확인증 목록)및 입금증(이체확인증) 인쇄 방법은 다음과 같습니다. ① 인터넷뱅킹에 접속하여 로그인 ②\n",
      "이체 → 즉시이체 → 이체결과조회 ③ 조회구분, 출금계좌번호, 조회일자등 상세내역을 조회 ④ 입금확인증목록을 인쇄하시려면 조회된 내역 왼쪽 상단에 보이는 [이체목록인쇄] 버튼을\n",
      "클릭하면 해당 거래내역을 출력할 수 있으며, 입금확인증을 인쇄하시려면 해당 이체건의 오른쪽에 있는 [인쇄] 버튼을 클릭하시면 됩니다. ※ 참고 : 즉시이체 후에도 이체확인증 목록\n",
      "및 이체확인증을 출력하실 수 있습니다.\n",
      "metadata:\n",
      " {'source': '신한은행', 'row': 87, 'type': '인터넷뱅킹', 'timestamp': 1708861693.3021746, 'id':\n",
      "'a4c761d3-fc23-489d-828d-733c58fe1626'}\n"
     ]
    }
   ],
   "source": [
    "similar_docs_lexical = retriever_utils.get_lexical_similar_docs(\n",
    "    index_name=index_name,\n",
    "    os_client=os_client,\n",
    "    query=query,\n",
    "    k=5,\n",
    "    filter=search_filter\n",
    ")\n",
    "show_context_used(similar_docs_lexical)"
   ]
  },
  {
   "cell_type": "code",
   "execution_count": 39,
   "metadata": {
    "tags": []
   },
   "outputs": [
    {
     "name": "stdout",
     "output_type": "stream",
     "text": [
      "\n",
      "\n",
      "\u001b[1m> Entering new StuffDocumentsChain chain...\u001b[0m\n",
      "\n",
      "\n",
      "\u001b[1m> Entering new LLMChain chain...\u001b[0m\n",
      "Prompt after formatting:\n",
      "\u001b[32;1m\u001b[1;3m\n",
      "\n",
      "Human: Here is the context, inside <context></context> XML tags.\n",
      "\n",
      "<context>\n",
      "ask: 예약이체를 했는데 이체일에 송금이 안된 경우는?\n",
      "Information: 모든 예약이체 등록건은 예약이체 지정일 지정된 시간(오전 7시, 오전 9시, 오전 11시, 오후 1시, 오후 3시, 오후 5시, 오후 7시, 오후 9시) 이전에 출금할 계좌에 송금액이 입금이 되어야 이체가 실행될 수 있습니다.\n",
      "이체가 되지 않았다고 판단되실 경우에는 반드시 먼저 \"예약이체처리결과조회\" 또는 \"계좌 거래내역\"을 확인 하시어 이체여부 및 출금여부를 확인하시기 바랍니다. 또한 예약이체 신청시 SMS 결과통보신청을 하셨다면 요청하신 휴대폰번호로 수신된 문자를 확인해주시기 바라며, 정해진 시간에 이체되지 않은 경우 신한은행 고객상담센터 ☎ 1599-8000번으로 문의 주시기 바랍니다.\n",
      "\n",
      "ask: 12개월 장기미이체로 이체서비스가 중지된 경우 어떻게 해제하나요?\n",
      "Information: 최근 12개월동안 인터넷뱅킹/폰뱅킹/모바일뱅킹에서 이체서비스를 이용하지 않은 경우 고객님의 금융자산 보호를 위하여 이체서비스가 중단됩니다. 다시 이체를 원하시는 경우에는 인터넷뱅킹/폰뱅킹/신한쏠(SOL)에서 이체정지 해제를 하실 수 있습니다.(단, 인터넷뱅킹 출금계좌가 등록되어 있는 경우) [경로] ① 당행 고객정보에 등록되어있는 연락처로 ARS 추가인증 가능한 경우: - 인터넷뱅킹 로그인→ 사용자관리→ 인터넷뱅킹관리→ 장기미사용 정지해제 (또는) - 쏠(SOL) 로그인→ 전체메뉴→ 이체 → 이체관리→ 장기미사용정지 해제 ② ARS 추가인증이 불가한 경우 (해외체류 고객등) : - 인터넷뱅킹에서는 해제 어려우며, 쏠 (SOL)에서 해제 가능합니다. 쏠(SOL)의 경로는 위와 동일하며, 비대면 실명인증후 해제 가능합니다. 비대면실명인증 - 만 14세이상 가능 - 신분증확인 (주민등록증 또는 운전면허증 또는 여권) - 본인확인 (본인명의 계좌인증 또는 영상통화) 진행 기타 궁금하신 내용은 신한은행 고객센터 1599-8000로 문의하여 주시기 바랍니다\n",
      "\n",
      "ask: 이체한도란 무엇인가요?\n",
      "Information: 이체한도란 인터넷뱅킹, 폰뱅킹, 모바일뱅킹 등을 통하여 이체할 수 있는 거래한도를 말합니다. ① 1일/1회 이체한도 1일 이체한도란 하루에 거래할 수 있는 이체금액의 합을 말하여, 1회 이체한도란 1회에 이체하실 수 있는 금액의 한도를 말합니다. ② 통합이체한도 인터넷뱅킹, 폰뱅킹, 모바일뱅킹 등을 고객님이 사용하시는 경우 고객님이 1일 또는 1회에 이체하실 수 있는 이체한도를 말합니다. 인터넷뱅킹, 폰뱅킹, 모바일뱅킹 등에서 고객님이 거래하신 이체금액의 합이 통합이체한도의 범위를 초과할 수 없습니다. ③ 최고이체한도 금융감독원에서는 개인의 전자금융 시 이용할 수 있는 이체한도의 가이드라인을 정하고 있습니다.(인터넷뱅킹 : 1일 5억원, 1회 1억원 이내)\n",
      "\n",
      "ask: 인터넷뱅킹을 통한 이체에 대해 영수증은 없습니다. 라고 나와요.\n",
      "Information: 영수증이란 돈을 받은 사람이 돈을 준 사람에게 써 주는 증서인데, 송금이체의 경우 은행은 고객의 돈을 받아 고객이 지정하는 계좌로 자금을 보내드리기 때문에 영수증을 발행 할 수 없습니다. 다만, 은행에서 이체송금시 수수료를 수취하기 때문에 수수료에 대해서는 영수증을 발행해 드립니다. (실제로 지점을 방문하셔서 무통장입금으로 이체하실 경우에도 은행에서는 '무통장입금증 타행환입금의뢰확인증'만을 확인서로 제공해드립니다. 이것이 송금금액 전체에 대해 영수증의 의미를 갖는 것은 아니며, 수수료에 대해서만 영수증으로 확인의 의미를 갖습니다) \n",
      "특히 인터넷이체의 경우 인터넷상으로 조회되는 입금확인증의 경우 위변조의 가능성이 있기 때문에 거래상대방으로부터 법적 증거력을 얻지 못하고 있는 실정입니다.\n",
      "\n",
      "따라서 고객님이 인터넷뱅킹에 접속하여 조회하시는 인터넷뱅킹거래명세는 영수증으로는 사용될 수 없으며, 거래의 참고용으로만 사용하실 수 있습니다. (조회순서 : 개인인터넷뱅킹 로그인 → (화면 상단) 이체 → 즉시이체 → 이체결과조회 메뉴에서 상세내역 조회후 출력하실 이체건의 오른쪽에 있는 [인쇄] 버튼 클릭하시면 됩니다. 기타 궁금하신 내용은 신한은행 고객센터 1599-8000로 문의하여 주시기 바랍니다.\n",
      "\n",
      "ask: 인터넷에서 이체한 거래의 상세내역 및 영수증을 인쇄하고 싶어요\n",
      "Information: 인터넷상에서 이체한 거래의 경우 인터넷상에서 제공하는 영수증은 없으며, 거래의 참고용으로 단지 조회일자 및 출금 계좌번호 등으로 상세내역(이체 확인증 목록)을 조회하거나 그 내역을 인쇄만 가능합니다. 인터넷뱅킹 거래 상세내역(이체확인증 목록)및 입금증(이체확인증) 인쇄 방법은 다음과 같습니다. ① 인터넷뱅킹에 접속하여 로그인 ② 이체 → 즉시이체 → 이체결과조회 ③ 조회구분, 출금계좌번호, 조회일자등 상세내역을 조회 ④ 입금확인증목록을 인쇄하시려면 조회된 내역 왼쪽 상단에 보이는 [이체목록인쇄] 버튼을 클릭하면 해당 거래내역을 출력할 수 있으며, 입금확인증을 인쇄하시려면 해당 이체건의 오른쪽에 있는 [인쇄] 버튼을 클릭하시면 됩니다. ※ 참고 : 즉시이체 후에도 이체확인증 목록 및 이체확인증을 출력하실 수 있습니다.\n",
      "</context>\n",
      "\n",
      "Only using the context as above, answer the following question with the rules as below:\n",
      "    - Don't insert XML tag such as <context> and </context> when answering.\n",
      "    - Write as much as you can\n",
      "    - Be courteous and polite\n",
      "    - Only answer the question if you can find the answer in the context with certainty.\n",
      "\n",
      "Question:\n",
      "중지된 경우 이체\n",
      "\n",
      "If the answer is not in the context, just say \"주어진 내용에서 관련 답변을 찾을 수 없습니다.\"\n",
      "\n",
      "\n",
      "Assistant:\u001b[0m\n",
      " 주어진 내용에서는 \"중지된 경우 이체\"에 대한 답변을 찾을 수 없습니다. \n",
      "\n",
      "다만, 12개월 동안 인터넷뱅킹/폰뱅킹/모바일뱅킹에서 이체 서비스를 사용하지 않으면 이체서비스가 중단되는 것에 대한 설명이 있습니다. \n",
      "\n",
      "이체서비스 중단 후 재개를 위해서는 인터넷뱅킹/폰뱅킹/신한쏠에서 이체정지 해제를 해야 하며, 이체정지 해제 방법에 대한 설명이 제공되어 있습니다.\n",
      "\n",
      "이체 관련 문의사항이 있으시면 신한은행 고객센터(1599-8000)로 문의하시기 바랍니다.\n",
      "\u001b[1m> Finished chain.\u001b[0m\n",
      "\n",
      "\u001b[1m> Finished chain.\u001b[0m\n",
      "##############################\n",
      "query: \n",
      " 중지된 경우 이체\n",
      "answer: \n",
      "  주어진 내용에서는 \"중지된 경우 이체\"에 대한 답변을 찾을 수 없습니다. \n",
      "\n",
      "다만, 12개월 동안 인터넷뱅킹/폰뱅킹/모바일뱅킹에서 이체 서비스를 사용하지 않으면 이체서비스가 중단되는 것에 대한 설명이 있습니다. \n",
      "\n",
      "이체서비스 중단 후 재개를 위해서는 인터넷뱅킹/폰뱅킹/신한쏠에서 이체정지 해제를 해야 하며, 이체정지 해제 방법에 대한 설명이 제공되어 있습니다.\n",
      "\n",
      "이체 관련 문의사항이 있으시면 신한은행 고객센터(1599-8000)로 문의하시기 바랍니다.\n"
     ]
    }
   ],
   "source": [
    "answer = chain.run(\n",
    "    input_documents=similar_docs_lexical,\n",
    "    question=query\n",
    ")\n",
    "\n",
    "print(\"##############################\")\n",
    "print(\"query: \\n\", query)\n",
    "print(\"answer: \\n\", answer)"
   ]
  },
  {
   "cell_type": "markdown",
   "metadata": {
    "tags": []
   },
   "source": [
    "## 하이브리드 검색"
   ]
  },
  {
   "cell_type": "code",
   "execution_count": 40,
   "metadata": {
    "tags": []
   },
   "outputs": [],
   "source": [
    "query = \"중지된 경우 이체\"\n",
    "\n",
    "search_filter=[\n",
    "    {\"term\": {\"metadata.source\": \"신한은행\"}},\n",
    "    {\"term\": {\"metadata.type\": \"인터넷뱅킹\"}},\n",
    "]"
   ]
  },
  {
   "cell_type": "code",
   "execution_count": 41,
   "metadata": {
    "tags": []
   },
   "outputs": [
    {
     "name": "stdout",
     "output_type": "stream",
     "text": [
      "##############################\n",
      "async_mode\n",
      "##############################\n",
      "True\n",
      "##############################\n",
      "reranker\n",
      "##############################\n",
      "False\n",
      "##############################\n",
      "rag_fusion\n",
      "##############################\n",
      "False\n",
      "##############################\n",
      "HyDE\n",
      "##############################\n",
      "False\n",
      "##############################\n",
      "parent_document\n",
      "##############################\n",
      "False\n",
      "##############################\n",
      "similar_docs_semantic\n",
      "##############################\n",
      "\n",
      "Score: 1.0\n",
      "['ask: 이체한도란 무엇인가요?', 'Information: 이체한도란 인터넷뱅킹, 폰뱅킹, 모바일뱅킹 등을 통하여 이체할 수 있는 거래한도를 말합니다. ① 1일/1회 이체한도 1일 이체한도란 하루에 거래할 수 있는 이체금액의 합을 말하여, 1회 이체한도란 1회에 이체하실 수 있는 금액의 한도를 말합니다. ② 통합이체한도 인터넷뱅킹, 폰뱅킹, 모바일뱅킹 등을 고객님이 사용하시는 경우 고객님이 1일 또는 1회에 이체하실 수 있는 이체한도를 말합니다. 인터넷뱅킹, 폰뱅킹, 모바일뱅킹 등에서 고객님이 거래하신 이체금액의 합이 통합이체한도의 범위를 초과할 수 없습니다. ③ 최고이체한도 금융감독원에서는 개인의 전자금융 시 이용할 수 있는 이체한도의 가이드라인을 정하고 있습니다.(인터넷뱅킹 : 1일 5억원, 1회 1억원 이내)']\n",
      "{'source': '신한은행', 'row': 39, 'type': '인터넷뱅킹', 'timestamp': 1708861693.3011642, 'id': '0f165ea8-3bb5-4d24-b9fa-7d4da788e06c'}\n",
      "\n",
      "Score: 0.9898637210725622\n",
      "['ask: 이체한도 증액은 어떻게 하나요?', 'Information: 영업점 방문하지 않아도 모바일뱅킹 신한 쏠(SOL) 에서 비대면실명 인증후 통합이체한도 증액 가능합니다. 통합이체한도는 이용하시는 보안매체에 따라, 보안등급별 최고 한도내에서 증액가능합니다.\\r', 'OTP카드 창구 발급 시 5,000원(카드형 10,000원)의 수수료가 부과됩니다. 당행에서만 사용가능한 모바일OTP는 영업점 방문없이 신한 쏠(SOL) 에서 무료로 발급가능합니다. \\r', '※ 모바일OTP를 이용하시는 경우 쏠(SOL)에서 이체한도 증액은 1회 1천만원 이하, 1일 5천만원 이하로 증액 가능합니다. \\r', '※ 만 14세 미만의 경우 법정대리인(부모/친권자/후견인)에 의해 영업점 방문하여 증액 가능하며 1일, 1회 1백만원 이하로 이체한도 제한됩니다. \\r', '통합한도란 인터넷뱅킹/신한 쏠(SOL)/폰뱅킹 등을 사용하는 경우 1일 또는 1회에 이체 가능한 통합 이체한도를 말합니다.\\r', '* 인터넷뱅킹/신한 쏠(SOL)/폰뱅킹에서 거래한 이체금액의 합이 통합이체한도의 범위를 초과할 수 없습니다.\\r', '기타 궁금하신 내용은 신한은행 고객센터 1599-8000로 문의하여 주시기 바랍니다.']\n",
      "{'source': '신한은행', 'row': 33, 'type': '인터넷뱅킹', 'timestamp': 1708861693.301042, 'id': '36ec17c3-7ee1-40fe-9aae-fd94ed8b73d4'}\n",
      "\n",
      "Score: 0.987978823690562\n",
      "['ask: 온라인 서비스 신청시 구비서류는?', 'Information: 온라인 서비스 신규는 본인만 가능하고 가입시 필요서류는 다음과 같습니다. 온라인 서비스 신규 시 필요서류 : 본인 신분증. 신분증 : 국가기관 또는 지방자치단체, 교육법에 의한 학교의 장이 발급한 것으로서 성명, 주민등록번호가 기재되어 있고 부착된 사진에 의하여 본인임을 확인할 수 있는 증표 (주민등록증, 운전면허증, 공무증, 여권, 노인복지카드(경로우대증), 장애인복지카드(장애인등록증 포함), 국가 유공자증, 학생증, 외국인등록증, 국내거소신고증 등). 만14세 미만 미성년자. 만 14세 미만 미성년자는 법정대리인에 의한 신청한 가능합니다. 1. 부모가 혼인중인 경우 부 또는 모 신분증, 미성년자 기준으로 발급된 특정기본증명서, 미성년자 기준으로 발급된 상세가족관계증명서. 2. 친권자나 후견인이 지정된 경우 친권자 또는 후견인의 신분증, 미성년자 기준으로 발급된 특정 기본 증명서, 미성년 자녀 기준으로 발급된 일반 가족관계증명서(후견인은 생략). 발급서류는 3개월이내 발급된 원본으로 주민등록번호 13자리가 모두 표기된 서류로 준비부탁드립니다.']\n",
      "{'source': '신한은행', 'row': 51, 'type': '인터넷뱅킹', 'timestamp': 1708861693.3014488, 'id': '11f9cd1e-d980-4564-83cd-e59a1b09861d'}\n",
      "\n",
      "Score: 0.984981233819992\n",
      "['ask: 인터넷에서 이체한 거래의 상세내역 및 영수증을 인쇄하고 싶어요', 'Information: 인터넷상에서 이체한 거래의 경우 인터넷상에서 제공하는 영수증은 없으며, 거래의 참고용으로 단지 조회일자 및 출금 계좌번호 등으로 상세내역(이체 확인증 목록)을 조회하거나 그 내역을 인쇄만 가능합니다. 인터넷뱅킹 거래 상세내역(이체확인증 목록)및 입금증(이체확인증) 인쇄 방법은 다음과 같습니다. ① 인터넷뱅킹에 접속하여 로그인 ② 이체 → 즉시이체 → 이체결과조회 ③ 조회구분, 출금계좌번호, 조회일자등 상세내역을 조회 ④ 입금확인증목록을 인쇄하시려면 조회된 내역 왼쪽 상단에 보이는 [이체목록인쇄] 버튼을 클릭하면 해당 거래내역을 출력할 수 있으며, 입금확인증을 인쇄하시려면 해당 이체건의 오른쪽에 있는 [인쇄] 버튼을 클릭하시면 됩니다. ※ 참고 : 즉시이체 후에도 이체확인증 목록 및 이체확인증을 출력하실 수 있습니다.']\n",
      "{'source': '신한은행', 'row': 87, 'type': '인터넷뱅킹', 'timestamp': 1708861693.3021746, 'id': 'a4c761d3-fc23-489d-828d-733c58fe1626'}\n",
      "\n",
      "Score: 0.9779182486701656\n",
      "['ask: 예약이체를 했는데 이체일에 송금이 안된 경우는?', 'Information: 모든 예약이체 등록건은 예약이체 지정일 지정된 시간(오전 7시, 오전 9시, 오전 11시, 오후 1시, 오후 3시, 오후 5시, 오후 7시, 오후 9시) 이전에 출금할 계좌에 송금액이 입금이 되어야 이체가 실행될 수 있습니다.\\r', '이체가 되지 않았다고 판단되실 경우에는 반드시 먼저 \"예약이체처리결과조회\" 또는 \"계좌 거래내역\"을 확인 하시어 이체여부 및 출금여부를 확인하시기 바랍니다. 또한 예약이체 신청시 SMS 결과통보신청을 하셨다면 요청하신 휴대폰번호로 수신된 문자를 확인해주시기 바라며, 정해진 시간에 이체되지 않은 경우 신한은행 고객상담센터 ☎ 1599-8000번으로 문의 주시기 바랍니다.']\n",
      "{'source': '신한은행', 'row': 37, 'type': '인터넷뱅킹', 'timestamp': 1708861693.3011234, 'id': '2de31fe0-fe59-4707-ae24-54a8f9cd2687'}\n",
      "None\n",
      "##############################\n",
      "similar_docs_keyword\n",
      "##############################\n",
      "\n",
      "Score: 1.0\n",
      "['ask: 예약이체를 했는데 이체일에 송금이 안된 경우는?', 'Information: 모든 예약이체 등록건은 예약이체 지정일 지정된 시간(오전 7시, 오전 9시, 오전 11시, 오후 1시, 오후 3시, 오후 5시, 오후 7시, 오후 9시) 이전에 출금할 계좌에 송금액이 입금이 되어야 이체가 실행될 수 있습니다.\\r', '이체가 되지 않았다고 판단되실 경우에는 반드시 먼저 \"예약이체처리결과조회\" 또는 \"계좌 거래내역\"을 확인 하시어 이체여부 및 출금여부를 확인하시기 바랍니다. 또한 예약이체 신청시 SMS 결과통보신청을 하셨다면 요청하신 휴대폰번호로 수신된 문자를 확인해주시기 바라며, 정해진 시간에 이체되지 않은 경우 신한은행 고객상담센터 ☎ 1599-8000번으로 문의 주시기 바랍니다.']\n",
      "{'source': '신한은행', 'row': 37, 'type': '인터넷뱅킹', 'timestamp': 1708861693.3011234, 'id': '2de31fe0-fe59-4707-ae24-54a8f9cd2687'}\n",
      "\n",
      "Score: 0.9314364801974606\n",
      "['ask: 12개월 장기미이체로 이체서비스가 중지된 경우 어떻게 해제하나요?', 'Information: 최근 12개월동안 인터넷뱅킹/폰뱅킹/모바일뱅킹에서 이체서비스를 이용하지 않은 경우 고객님의 금융자산 보호를 위하여 이체서비스가 중단됩니다. 다시 이체를 원하시는 경우에는 인터넷뱅킹/폰뱅킹/신한쏠(SOL)에서 이체정지 해제를 하실 수 있습니다.(단, 인터넷뱅킹 출금계좌가 등록되어 있는 경우) [경로] ① 당행 고객정보에 등록되어있는 연락처로 ARS 추가인증 가능한 경우: - 인터넷뱅킹 로그인→ 사용자관리→ 인터넷뱅킹관리→ 장기미사용 정지해제 (또는) - 쏠(SOL) 로그인→ 전체메뉴→ 이체 → 이체관리→ 장기미사용정지 해제 ② ARS 추가인증이 불가한 경우 (해외체류 고객등) : - 인터넷뱅킹에서는 해제 어려우며, 쏠 (SOL)에서 해제 가능합니다. 쏠(SOL)의 경로는 위와 동일하며, 비대면 실명인증후 해제 가능합니다. 비대면실명인증 - 만 14세이상 가능 - 신분증확인 (주민등록증 또는 운전면허증 또는 여권) - 본인확인 (본인명의 계좌인증 또는 영상통화) 진행 기타 궁금하신 내용은 신한은행 고객센터 1599-8000로 문의하여 주시기 바랍니다']\n",
      "{'source': '신한은행', 'row': 40, 'type': '인터넷뱅킹', 'timestamp': 1708861693.3011847, 'id': '476097fb-f1c9-4d2d-a2de-33a82d0b9c09'}\n",
      "\n",
      "Score: 0.6218651914125359\n",
      "['ask: 이체한도란 무엇인가요?', 'Information: 이체한도란 인터넷뱅킹, 폰뱅킹, 모바일뱅킹 등을 통하여 이체할 수 있는 거래한도를 말합니다. ① 1일/1회 이체한도 1일 이체한도란 하루에 거래할 수 있는 이체금액의 합을 말하여, 1회 이체한도란 1회에 이체하실 수 있는 금액의 한도를 말합니다. ② 통합이체한도 인터넷뱅킹, 폰뱅킹, 모바일뱅킹 등을 고객님이 사용하시는 경우 고객님이 1일 또는 1회에 이체하실 수 있는 이체한도를 말합니다. 인터넷뱅킹, 폰뱅킹, 모바일뱅킹 등에서 고객님이 거래하신 이체금액의 합이 통합이체한도의 범위를 초과할 수 없습니다. ③ 최고이체한도 금융감독원에서는 개인의 전자금융 시 이용할 수 있는 이체한도의 가이드라인을 정하고 있습니다.(인터넷뱅킹 : 1일 5억원, 1회 1억원 이내)']\n",
      "{'source': '신한은행', 'row': 39, 'type': '인터넷뱅킹', 'timestamp': 1708861693.3011642, 'id': '0f165ea8-3bb5-4d24-b9fa-7d4da788e06c'}\n",
      "\n",
      "Score: 0.5660956955794968\n",
      "['ask: 인터넷에서 이체한 거래의 상세내역 및 영수증을 인쇄하고 싶어요', 'Information: 인터넷상에서 이체한 거래의 경우 인터넷상에서 제공하는 영수증은 없으며, 거래의 참고용으로 단지 조회일자 및 출금 계좌번호 등으로 상세내역(이체 확인증 목록)을 조회하거나 그 내역을 인쇄만 가능합니다. 인터넷뱅킹 거래 상세내역(이체확인증 목록)및 입금증(이체확인증) 인쇄 방법은 다음과 같습니다. ① 인터넷뱅킹에 접속하여 로그인 ② 이체 → 즉시이체 → 이체결과조회 ③ 조회구분, 출금계좌번호, 조회일자등 상세내역을 조회 ④ 입금확인증목록을 인쇄하시려면 조회된 내역 왼쪽 상단에 보이는 [이체목록인쇄] 버튼을 클릭하면 해당 거래내역을 출력할 수 있으며, 입금확인증을 인쇄하시려면 해당 이체건의 오른쪽에 있는 [인쇄] 버튼을 클릭하시면 됩니다. ※ 참고 : 즉시이체 후에도 이체확인증 목록 및 이체확인증을 출력하실 수 있습니다.']\n",
      "{'source': '신한은행', 'row': 87, 'type': '인터넷뱅킹', 'timestamp': 1708861693.3021746, 'id': 'a4c761d3-fc23-489d-828d-733c58fe1626'}\n",
      "\n",
      "Score: 0.55498620117448\n",
      "['ask: 즉시/예약 이체 서비스가 안되는 경우 어떻게 해야해?', 'Information: 이체서비스가 되지 않는 경우 여러가지 사유가 있을수 있으니, 신한은행 고객상담센터 1599-8000번으로 문의 주시면 자세히 상담해드리겠습니다.']\n",
      "{'source': '신한은행', 'row': 62, 'type': '인터넷뱅킹', 'timestamp': 1708861693.3016703, 'id': '1fdc7581-5903-4739-a9d0-b47365bd0bb9'}\n",
      "None\n",
      "##############################\n",
      "similar_docs\n",
      "##############################\n",
      "\n",
      "Score: 0.016138433515482695\n",
      "['ask: 이체한도란 무엇인가요?', 'Information: 이체한도란 인터넷뱅킹, 폰뱅킹, 모바일뱅킹 등을 통하여 이체할 수 있는 거래한도를 말합니다. ① 1일/1회 이체한도 1일 이체한도란 하루에 거래할 수 있는 이체금액의 합을 말하여, 1회 이체한도란 1회에 이체하실 수 있는 금액의 한도를 말합니다. ② 통합이체한도 인터넷뱅킹, 폰뱅킹, 모바일뱅킹 등을 고객님이 사용하시는 경우 고객님이 1일 또는 1회에 이체하실 수 있는 이체한도를 말합니다. 인터넷뱅킹, 폰뱅킹, 모바일뱅킹 등에서 고객님이 거래하신 이체금액의 합이 통합이체한도의 범위를 초과할 수 없습니다. ③ 최고이체한도 금융감독원에서는 개인의 전자금융 시 이용할 수 있는 이체한도의 가이드라인을 정하고 있습니다.(인터넷뱅킹 : 1일 5억원, 1회 1억원 이내)']\n",
      "{'source': '신한은행', 'row': 39, 'type': '인터넷뱅킹', 'timestamp': 1708861693.3011642, 'id': '0f165ea8-3bb5-4d24-b9fa-7d4da788e06c'}\n",
      "\n",
      "Score: 0.015878940731399747\n",
      "['ask: 예약이체를 했는데 이체일에 송금이 안된 경우는?', 'Information: 모든 예약이체 등록건은 예약이체 지정일 지정된 시간(오전 7시, 오전 9시, 오전 11시, 오후 1시, 오후 3시, 오후 5시, 오후 7시, 오후 9시) 이전에 출금할 계좌에 송금액이 입금이 되어야 이체가 실행될 수 있습니다.\\r', '이체가 되지 않았다고 판단되실 경우에는 반드시 먼저 \"예약이체처리결과조회\" 또는 \"계좌 거래내역\"을 확인 하시어 이체여부 및 출금여부를 확인하시기 바랍니다. 또한 예약이체 신청시 SMS 결과통보신청을 하셨다면 요청하신 휴대폰번호로 수신된 문자를 확인해주시기 바라며, 정해진 시간에 이체되지 않은 경우 신한은행 고객상담센터 ☎ 1599-8000번으로 문의 주시기 바랍니다.']\n",
      "{'source': '신한은행', 'row': 37, 'type': '인터넷뱅킹', 'timestamp': 1708861693.3011234, 'id': '2de31fe0-fe59-4707-ae24-54a8f9cd2687'}\n",
      "\n",
      "Score: 0.015625\n",
      "['ask: 인터넷에서 이체한 거래의 상세내역 및 영수증을 인쇄하고 싶어요', 'Information: 인터넷상에서 이체한 거래의 경우 인터넷상에서 제공하는 영수증은 없으며, 거래의 참고용으로 단지 조회일자 및 출금 계좌번호 등으로 상세내역(이체 확인증 목록)을 조회하거나 그 내역을 인쇄만 가능합니다. 인터넷뱅킹 거래 상세내역(이체확인증 목록)및 입금증(이체확인증) 인쇄 방법은 다음과 같습니다. ① 인터넷뱅킹에 접속하여 로그인 ② 이체 → 즉시이체 → 이체결과조회 ③ 조회구분, 출금계좌번호, 조회일자등 상세내역을 조회 ④ 입금확인증목록을 인쇄하시려면 조회된 내역 왼쪽 상단에 보이는 [이체목록인쇄] 버튼을 클릭하면 해당 거래내역을 출력할 수 있으며, 입금확인증을 인쇄하시려면 해당 이체건의 오른쪽에 있는 [인쇄] 버튼을 클릭하시면 됩니다. ※ 참고 : 즉시이체 후에도 이체확인증 목록 및 이체확인증을 출력하실 수 있습니다.']\n",
      "{'source': '신한은행', 'row': 87, 'type': '인터넷뱅킹', 'timestamp': 1708861693.3021746, 'id': 'a4c761d3-fc23-489d-828d-733c58fe1626'}\n",
      "\n",
      "Score: 0.008225806451612904\n",
      "['ask: 이체한도 증액은 어떻게 하나요?', 'Information: 영업점 방문하지 않아도 모바일뱅킹 신한 쏠(SOL) 에서 비대면실명 인증후 통합이체한도 증액 가능합니다. 통합이체한도는 이용하시는 보안매체에 따라, 보안등급별 최고 한도내에서 증액가능합니다.\\r', 'OTP카드 창구 발급 시 5,000원(카드형 10,000원)의 수수료가 부과됩니다. 당행에서만 사용가능한 모바일OTP는 영업점 방문없이 신한 쏠(SOL) 에서 무료로 발급가능합니다. \\r', '※ 모바일OTP를 이용하시는 경우 쏠(SOL)에서 이체한도 증액은 1회 1천만원 이하, 1일 5천만원 이하로 증액 가능합니다. \\r', '※ 만 14세 미만의 경우 법정대리인(부모/친권자/후견인)에 의해 영업점 방문하여 증액 가능하며 1일, 1회 1백만원 이하로 이체한도 제한됩니다. \\r', '통합한도란 인터넷뱅킹/신한 쏠(SOL)/폰뱅킹 등을 사용하는 경우 1일 또는 1회에 이체 가능한 통합 이체한도를 말합니다.\\r', '* 인터넷뱅킹/신한 쏠(SOL)/폰뱅킹에서 거래한 이체금액의 합이 통합이체한도의 범위를 초과할 수 없습니다.\\r', '기타 궁금하신 내용은 신한은행 고객센터 1599-8000로 문의하여 주시기 바랍니다.']\n",
      "{'source': '신한은행', 'row': 33, 'type': '인터넷뱅킹', 'timestamp': 1708861693.301042, 'id': '36ec17c3-7ee1-40fe-9aae-fd94ed8b73d4'}\n",
      "\n",
      "Score: 0.008095238095238095\n",
      "['ask: 온라인 서비스 신청시 구비서류는?', 'Information: 온라인 서비스 신규는 본인만 가능하고 가입시 필요서류는 다음과 같습니다. 온라인 서비스 신규 시 필요서류 : 본인 신분증. 신분증 : 국가기관 또는 지방자치단체, 교육법에 의한 학교의 장이 발급한 것으로서 성명, 주민등록번호가 기재되어 있고 부착된 사진에 의하여 본인임을 확인할 수 있는 증표 (주민등록증, 운전면허증, 공무증, 여권, 노인복지카드(경로우대증), 장애인복지카드(장애인등록증 포함), 국가 유공자증, 학생증, 외국인등록증, 국내거소신고증 등). 만14세 미만 미성년자. 만 14세 미만 미성년자는 법정대리인에 의한 신청한 가능합니다. 1. 부모가 혼인중인 경우 부 또는 모 신분증, 미성년자 기준으로 발급된 특정기본증명서, 미성년자 기준으로 발급된 상세가족관계증명서. 2. 친권자나 후견인이 지정된 경우 친권자 또는 후견인의 신분증, 미성년자 기준으로 발급된 특정 기본 증명서, 미성년 자녀 기준으로 발급된 일반 가족관계증명서(후견인은 생략). 발급서류는 3개월이내 발급된 원본으로 주민등록번호 13자리가 모두 표기된 서류로 준비부탁드립니다.']\n",
      "{'source': '신한은행', 'row': 51, 'type': '인터넷뱅킹', 'timestamp': 1708861693.3014488, 'id': '11f9cd1e-d980-4564-83cd-e59a1b09861d'}\n",
      "None\n",
      "CPU times: user 10.7 ms, sys: 360 µs, total: 11.1 ms\n",
      "Wall time: 121 ms\n"
     ]
    }
   ],
   "source": [
    "%%time\n",
    "similar_docs_hybrid = retriever_utils.search_hybrid(\n",
    "    query=query,\n",
    "    k=5,\n",
    "    index_name=index_name,\n",
    "    os_client=os_client,\n",
    "    filter=search_filter,\n",
    "    fusion_algorithm=\"RRF\", # [\"RRF\", \"simple_weighted\"]\n",
    "    ensemble_weights=[0.51, 0.49], # semantic, lexical\n",
    "    async_mode=True,\n",
    "    llm_emb=llm_emb,\n",
    "    verbose=True\n",
    ")"
   ]
  },
  {
   "cell_type": "code",
   "execution_count": 49,
   "metadata": {
    "tags": []
   },
   "outputs": [
    {
     "name": "stdout",
     "output_type": "stream",
     "text": [
      "\n",
      "\n",
      "\u001b[1m> Entering new StuffDocumentsChain chain...\u001b[0m\n",
      "\n",
      "\n",
      "\u001b[1m> Entering new LLMChain chain...\u001b[0m\n",
      "Prompt after formatting:\n",
      "\u001b[32;1m\u001b[1;3m\n",
      "\n",
      "Human: Here is the context, inside <context></context> XML tags.\n",
      "\n",
      "<context>\n",
      "ask: 예약이체를 했는데 이체일에 송금이 안된 경우는?\n",
      "Information: 모든 예약이체 등록건은 예약이체 지정일 지정된 시간(오전 7시, 오전 9시, 오전 11시, 오후 1시, 오후 3시, 오후 5시, 오후 7시, 오후 9시) 이전에 출금할 계좌에 송금액이 입금이 되어야 이체가 실행될 수 있습니다.\n",
      "이체가 되지 않았다고 판단되실 경우에는 반드시 먼저 \"예약이체처리결과조회\" 또는 \"계좌 거래내역\"을 확인 하시어 이체여부 및 출금여부를 확인하시기 바랍니다. 또한 예약이체 신청시 SMS 결과통보신청을 하셨다면 요청하신 휴대폰번호로 수신된 문자를 확인해주시기 바라며, 정해진 시간에 이체되지 않은 경우 신한은행 고객상담센터 ☎ 1599-8000번으로 문의 주시기 바랍니다.\n",
      "\n",
      "ask: 인터넷에서 이체한 거래의 상세내역 및 영수증을 인쇄하고 싶어요\n",
      "Information: 인터넷상에서 이체한 거래의 경우 인터넷상에서 제공하는 영수증은 없으며, 거래의 참고용으로 단지 조회일자 및 출금 계좌번호 등으로 상세내역(이체 확인증 목록)을 조회하거나 그 내역을 인쇄만 가능합니다. 인터넷뱅킹 거래 상세내역(이체확인증 목록)및 입금증(이체확인증) 인쇄 방법은 다음과 같습니다. ① 인터넷뱅킹에 접속하여 로그인 ② 이체 → 즉시이체 → 이체결과조회 ③ 조회구분, 출금계좌번호, 조회일자등 상세내역을 조회 ④ 입금확인증목록을 인쇄하시려면 조회된 내역 왼쪽 상단에 보이는 [이체목록인쇄] 버튼을 클릭하면 해당 거래내역을 출력할 수 있으며, 입금확인증을 인쇄하시려면 해당 이체건의 오른쪽에 있는 [인쇄] 버튼을 클릭하시면 됩니다. ※ 참고 : 즉시이체 후에도 이체확인증 목록 및 이체확인증을 출력하실 수 있습니다.\n",
      "\n",
      "ask: 이체한도란 무엇인가요?\n",
      "Information: 이체한도란 인터넷뱅킹, 폰뱅킹, 모바일뱅킹 등을 통하여 이체할 수 있는 거래한도를 말합니다. ① 1일/1회 이체한도 1일 이체한도란 하루에 거래할 수 있는 이체금액의 합을 말하여, 1회 이체한도란 1회에 이체하실 수 있는 금액의 한도를 말합니다. ② 통합이체한도 인터넷뱅킹, 폰뱅킹, 모바일뱅킹 등을 고객님이 사용하시는 경우 고객님이 1일 또는 1회에 이체하실 수 있는 이체한도를 말합니다. 인터넷뱅킹, 폰뱅킹, 모바일뱅킹 등에서 고객님이 거래하신 이체금액의 합이 통합이체한도의 범위를 초과할 수 없습니다. ③ 최고이체한도 금융감독원에서는 개인의 전자금융 시 이용할 수 있는 이체한도의 가이드라인을 정하고 있습니다.(인터넷뱅킹 : 1일 5억원, 1회 1억원 이내)\n",
      "\n",
      "ask: 이체한도 증액은 어떻게 하나요?\n",
      "Information: 영업점 방문하지 않아도 모바일뱅킹 신한 쏠(SOL) 에서 비대면실명 인증후 통합이체한도 증액 가능합니다. 통합이체한도는 이용하시는 보안매체에 따라, 보안등급별 최고 한도내에서 증액가능합니다.\n",
      "OTP카드 창구 발급 시 5,000원(카드형 10,000원)의 수수료가 부과됩니다. 당행에서만 사용가능한 모바일OTP는 영업점 방문없이 신한 쏠(SOL) 에서 무료로 발급가능합니다. \n",
      "※ 모바일OTP를 이용하시는 경우 쏠(SOL)에서 이체한도 증액은 1회 1천만원 이하, 1일 5천만원 이하로 증액 가능합니다. \n",
      "※ 만 14세 미만의 경우 법정대리인(부모/친권자/후견인)에 의해 영업점 방문하여 증액 가능하며 1일, 1회 1백만원 이하로 이체한도 제한됩니다. \n",
      "통합한도란 인터넷뱅킹/신한 쏠(SOL)/폰뱅킹 등을 사용하는 경우 1일 또는 1회에 이체 가능한 통합 이체한도를 말합니다.\n",
      "* 인터넷뱅킹/신한 쏠(SOL)/폰뱅킹에서 거래한 이체금액의 합이 통합이체한도의 범위를 초과할 수 없습니다.\n",
      "기타 궁금하신 내용은 신한은행 고객센터 1599-8000로 문의하여 주시기 바랍니다.\n",
      "\n",
      "ask: 온라인 서비스 신청시 구비서류는?\n",
      "Information: 온라인 서비스 신규는 본인만 가능하고 가입시 필요서류는 다음과 같습니다. 온라인 서비스 신규 시 필요서류 : 본인 신분증. 신분증 : 국가기관 또는 지방자치단체, 교육법에 의한 학교의 장이 발급한 것으로서 성명, 주민등록번호가 기재되어 있고 부착된 사진에 의하여 본인임을 확인할 수 있는 증표 (주민등록증, 운전면허증, 공무증, 여권, 노인복지카드(경로우대증), 장애인복지카드(장애인등록증 포함), 국가 유공자증, 학생증, 외국인등록증, 국내거소신고증 등). 만14세 미만 미성년자. 만 14세 미만 미성년자는 법정대리인에 의한 신청한 가능합니다. 1. 부모가 혼인중인 경우 부 또는 모 신분증, 미성년자 기준으로 발급된 특정기본증명서, 미성년자 기준으로 발급된 상세가족관계증명서. 2. 친권자나 후견인이 지정된 경우 친권자 또는 후견인의 신분증, 미성년자 기준으로 발급된 특정 기본 증명서, 미성년 자녀 기준으로 발급된 일반 가족관계증명서(후견인은 생략). 발급서류는 3개월이내 발급된 원본으로 주민등록번호 13자리가 모두 표기된 서류로 준비부탁드립니다.\n",
      "</context>\n",
      "\n",
      "Only using the context as above, answer the following question with the rules as below:\n",
      "    - Don't insert XML tag such as <context> and </context> when answering.\n",
      "    - Write as much as you can\n",
      "    - Be courteous and polite\n",
      "    - Only answer the question if you can find the answer in the context with certainty.\n",
      "\n",
      "Question:\n",
      "중지된 경우 이체\n",
      "\n",
      "If the answer is not in the context, just say \"주어진 내용에서 관련 답변을 찾을 수 없습니다.\"\n",
      "\n",
      "\n",
      "Assistant:\u001b[0m\n",
      " 주어진 내용에서는 중지된 경우 이체에 대한 정보를 찾을 수 없습니다. 예약이체가 정해진 시간에 이체되지 않은 경우는 신한은행 고객상담센터에 문의하라고 안내하고 있습니다. 죄송합니다만, 중지된 경우 이체에 대한 답변을 찾을 수 없습니다.\n",
      "\u001b[1m> Finished chain.\u001b[0m\n",
      "\n",
      "\u001b[1m> Finished chain.\u001b[0m\n",
      "##############################\n",
      "query: \n",
      " 중지된 경우 이체\n",
      "answer: \n",
      "  주어진 내용에서는 중지된 경우 이체에 대한 정보를 찾을 수 없습니다. 예약이체가 정해진 시간에 이체되지 않은 경우는 신한은행 고객상담센터에 문의하라고 안내하고 있습니다. 죄송합니다만, 중지된 경우 이체에 대한 답변을 찾을 수 없습니다.\n"
     ]
    }
   ],
   "source": [
    "answer = chain.run(\n",
    "    input_documents=similar_docs_hybrid,\n",
    "    question=query\n",
    ")\n",
    "\n",
    "print(\"##############################\")\n",
    "print(\"query: \\n\", query)\n",
    "print(\"answer: \\n\", answer)"
   ]
  },
  {
   "cell_type": "code",
   "execution_count": 43,
   "metadata": {
    "tags": []
   },
   "outputs": [
    {
     "name": "stdout",
     "output_type": "stream",
     "text": [
      "\n",
      "\n",
      "\u001b[1m> Entering new StuffDocumentsChain chain...\u001b[0m\n",
      "\n",
      "\n",
      "\u001b[1m> Entering new LLMChain chain...\u001b[0m\n",
      "Prompt after formatting:\n",
      "\u001b[32;1m\u001b[1;3m\n",
      "\n",
      "Human: Here is the context, inside <context></context> XML tags.\n",
      "\n",
      "<context>\n",
      "ask: 예약이체를 했는데 이체일에 송금이 안된 경우는?\n",
      "Information: 모든 예약이체 등록건은 예약이체 지정일 지정된 시간(오전 7시, 오전 9시, 오전 11시, 오후 1시, 오후 3시, 오후 5시, 오후 7시, 오후 9시) 이전에 출금할 계좌에 송금액이 입금이 되어야 이체가 실행될 수 있습니다.\n",
      "이체가 되지 않았다고 판단되실 경우에는 반드시 먼저 \"예약이체처리결과조회\" 또는 \"계좌 거래내역\"을 확인 하시어 이체여부 및 출금여부를 확인하시기 바랍니다. 또한 예약이체 신청시 SMS 결과통보신청을 하셨다면 요청하신 휴대폰번호로 수신된 문자를 확인해주시기 바라며, 정해진 시간에 이체되지 않은 경우 신한은행 고객상담센터 ☎ 1599-8000번으로 문의 주시기 바랍니다.\n",
      "\n",
      "ask: 12개월 장기미이체로 이체서비스가 중지된 경우 어떻게 해제하나요?\n",
      "Information: 최근 12개월동안 인터넷뱅킹/폰뱅킹/모바일뱅킹에서 이체서비스를 이용하지 않은 경우 고객님의 금융자산 보호를 위하여 이체서비스가 중단됩니다. 다시 이체를 원하시는 경우에는 인터넷뱅킹/폰뱅킹/신한쏠(SOL)에서 이체정지 해제를 하실 수 있습니다.(단, 인터넷뱅킹 출금계좌가 등록되어 있는 경우) [경로] ① 당행 고객정보에 등록되어있는 연락처로 ARS 추가인증 가능한 경우: - 인터넷뱅킹 로그인→ 사용자관리→ 인터넷뱅킹관리→ 장기미사용 정지해제 (또는) - 쏠(SOL) 로그인→ 전체메뉴→ 이체 → 이체관리→ 장기미사용정지 해제 ② ARS 추가인증이 불가한 경우 (해외체류 고객등) : - 인터넷뱅킹에서는 해제 어려우며, 쏠 (SOL)에서 해제 가능합니다. 쏠(SOL)의 경로는 위와 동일하며, 비대면 실명인증후 해제 가능합니다. 비대면실명인증 - 만 14세이상 가능 - 신분증확인 (주민등록증 또는 운전면허증 또는 여권) - 본인확인 (본인명의 계좌인증 또는 영상통화) 진행 기타 궁금하신 내용은 신한은행 고객센터 1599-8000로 문의하여 주시기 바랍니다\n",
      "\n",
      "ask: 이체한도란 무엇인가요?\n",
      "Information: 이체한도란 인터넷뱅킹, 폰뱅킹, 모바일뱅킹 등을 통하여 이체할 수 있는 거래한도를 말합니다. ① 1일/1회 이체한도 1일 이체한도란 하루에 거래할 수 있는 이체금액의 합을 말하여, 1회 이체한도란 1회에 이체하실 수 있는 금액의 한도를 말합니다. ② 통합이체한도 인터넷뱅킹, 폰뱅킹, 모바일뱅킹 등을 고객님이 사용하시는 경우 고객님이 1일 또는 1회에 이체하실 수 있는 이체한도를 말합니다. 인터넷뱅킹, 폰뱅킹, 모바일뱅킹 등에서 고객님이 거래하신 이체금액의 합이 통합이체한도의 범위를 초과할 수 없습니다. ③ 최고이체한도 금융감독원에서는 개인의 전자금융 시 이용할 수 있는 이체한도의 가이드라인을 정하고 있습니다.(인터넷뱅킹 : 1일 5억원, 1회 1억원 이내)\n",
      "\n",
      "ask: 인터넷뱅킹을 통한 이체에 대해 영수증은 없습니다. 라고 나와요.\n",
      "Information: 영수증이란 돈을 받은 사람이 돈을 준 사람에게 써 주는 증서인데, 송금이체의 경우 은행은 고객의 돈을 받아 고객이 지정하는 계좌로 자금을 보내드리기 때문에 영수증을 발행 할 수 없습니다. 다만, 은행에서 이체송금시 수수료를 수취하기 때문에 수수료에 대해서는 영수증을 발행해 드립니다. (실제로 지점을 방문하셔서 무통장입금으로 이체하실 경우에도 은행에서는 '무통장입금증 타행환입금의뢰확인증'만을 확인서로 제공해드립니다. 이것이 송금금액 전체에 대해 영수증의 의미를 갖는 것은 아니며, 수수료에 대해서만 영수증으로 확인의 의미를 갖습니다) \n",
      "특히 인터넷이체의 경우 인터넷상으로 조회되는 입금확인증의 경우 위변조의 가능성이 있기 때문에 거래상대방으로부터 법적 증거력을 얻지 못하고 있는 실정입니다.\n",
      "\n",
      "따라서 고객님이 인터넷뱅킹에 접속하여 조회하시는 인터넷뱅킹거래명세는 영수증으로는 사용될 수 없으며, 거래의 참고용으로만 사용하실 수 있습니다. (조회순서 : 개인인터넷뱅킹 로그인 → (화면 상단) 이체 → 즉시이체 → 이체결과조회 메뉴에서 상세내역 조회후 출력하실 이체건의 오른쪽에 있는 [인쇄] 버튼 클릭하시면 됩니다. 기타 궁금하신 내용은 신한은행 고객센터 1599-8000로 문의하여 주시기 바랍니다.\n",
      "\n",
      "ask: 인터넷에서 이체한 거래의 상세내역 및 영수증을 인쇄하고 싶어요\n",
      "Information: 인터넷상에서 이체한 거래의 경우 인터넷상에서 제공하는 영수증은 없으며, 거래의 참고용으로 단지 조회일자 및 출금 계좌번호 등으로 상세내역(이체 확인증 목록)을 조회하거나 그 내역을 인쇄만 가능합니다. 인터넷뱅킹 거래 상세내역(이체확인증 목록)및 입금증(이체확인증) 인쇄 방법은 다음과 같습니다. ① 인터넷뱅킹에 접속하여 로그인 ② 이체 → 즉시이체 → 이체결과조회 ③ 조회구분, 출금계좌번호, 조회일자등 상세내역을 조회 ④ 입금확인증목록을 인쇄하시려면 조회된 내역 왼쪽 상단에 보이는 [이체목록인쇄] 버튼을 클릭하면 해당 거래내역을 출력할 수 있으며, 입금확인증을 인쇄하시려면 해당 이체건의 오른쪽에 있는 [인쇄] 버튼을 클릭하시면 됩니다. ※ 참고 : 즉시이체 후에도 이체확인증 목록 및 이체확인증을 출력하실 수 있습니다.\n",
      "</context>\n",
      "\n",
      "Only using the context as above, answer the following question with the rules as below:\n",
      "    - Don't insert XML tag such as <context> and </context> when answering.\n",
      "    - Write as much as you can\n",
      "    - Be courteous and polite\n",
      "    - Only answer the question if you can find the answer in the context with certainty.\n",
      "\n",
      "Question:\n",
      "중지된 경우 이체\n",
      "\n",
      "If the answer is not in the context, just say \"주어진 내용에서 관련 답변을 찾을 수 없습니다.\"\n",
      "\n",
      "\n",
      "Assistant:\u001b[0m\n",
      " 주어진 내용에서, 12개월간 이체서비스를 사용하지 않으면 보안을 위해 이체서비스가 중단될 수 있습니다. \n",
      "\n",
      "이체서비스 중단 후 재개하려면 인터넷뱅킹이나 쏠(SOL)에서 '장기미사용 정지해제'를 하면 됩니다. \n",
      "\n",
      "인터넷뱅킹을 통한 해제가 어려운 경우 쏠(SOL)의 비대면 실명인증 후에 해제가 가능합니다.\n",
      "\n",
      "주어진 내용에서 이체서비스 중지 및 해제에 대한 내용을 찾을 수 있습니다. 더 자세한 답변은 찾기 어렵습니다.\n",
      "\u001b[1m> Finished chain.\u001b[0m\n",
      "\n",
      "\u001b[1m> Finished chain.\u001b[0m\n",
      "##############################\n",
      "query: \n",
      " 중지된 경우 이체\n",
      "answer: \n",
      "  주어진 내용에서, 12개월간 이체서비스를 사용하지 않으면 보안을 위해 이체서비스가 중단될 수 있습니다. \n",
      "\n",
      "이체서비스 중단 후 재개하려면 인터넷뱅킹이나 쏠(SOL)에서 '장기미사용 정지해제'를 하면 됩니다. \n",
      "\n",
      "인터넷뱅킹을 통한 해제가 어려운 경우 쏠(SOL)의 비대면 실명인증 후에 해제가 가능합니다.\n",
      "\n",
      "주어진 내용에서 이체서비스 중지 및 해제에 대한 내용을 찾을 수 있습니다. 더 자세한 답변은 찾기 어렵습니다.\n"
     ]
    }
   ],
   "source": [
    "chain = load_qa_chain(\n",
    "    llm=llm_text,\n",
    "    chain_type=\"stuff\",\n",
    "    prompt=PROMPT,\n",
    "    verbose=True\n",
    ")\n",
    "\n",
    "answer = chain.run(\n",
    "    input_documents=similar_docs_lexical,\n",
    "    question=query\n",
    ")\n",
    "\n",
    "print(\"##############################\")\n",
    "print(\"query: \\n\", query)\n",
    "print(\"answer: \\n\", answer)"
   ]
  },
  {
   "cell_type": "markdown",
   "metadata": {},
   "source": [
    "# A. Reference"
   ]
  },
  {
   "cell_type": "markdown",
   "metadata": {},
   "source": [
    "- [Building a RAG AI with OpenSearch Serverless and LangChain](https://caylent.com/blog/building-a-rag-with-open-search-serverless-and-lang-chain)"
   ]
  },
  {
   "cell_type": "code",
   "execution_count": null,
   "metadata": {},
   "outputs": [],
   "source": []
  }
 ],
 "metadata": {
  "availableInstances": [
   {
    "_defaultOrder": 0,
    "_isFastLaunch": true,
    "category": "General purpose",
    "gpuNum": 0,
    "hideHardwareSpecs": false,
    "memoryGiB": 4,
    "name": "ml.t3.medium",
    "vcpuNum": 2
   },
   {
    "_defaultOrder": 1,
    "_isFastLaunch": false,
    "category": "General purpose",
    "gpuNum": 0,
    "hideHardwareSpecs": false,
    "memoryGiB": 8,
    "name": "ml.t3.large",
    "vcpuNum": 2
   },
   {
    "_defaultOrder": 2,
    "_isFastLaunch": false,
    "category": "General purpose",
    "gpuNum": 0,
    "hideHardwareSpecs": false,
    "memoryGiB": 16,
    "name": "ml.t3.xlarge",
    "vcpuNum": 4
   },
   {
    "_defaultOrder": 3,
    "_isFastLaunch": false,
    "category": "General purpose",
    "gpuNum": 0,
    "hideHardwareSpecs": false,
    "memoryGiB": 32,
    "name": "ml.t3.2xlarge",
    "vcpuNum": 8
   },
   {
    "_defaultOrder": 4,
    "_isFastLaunch": true,
    "category": "General purpose",
    "gpuNum": 0,
    "hideHardwareSpecs": false,
    "memoryGiB": 8,
    "name": "ml.m5.large",
    "vcpuNum": 2
   },
   {
    "_defaultOrder": 5,
    "_isFastLaunch": false,
    "category": "General purpose",
    "gpuNum": 0,
    "hideHardwareSpecs": false,
    "memoryGiB": 16,
    "name": "ml.m5.xlarge",
    "vcpuNum": 4
   },
   {
    "_defaultOrder": 6,
    "_isFastLaunch": false,
    "category": "General purpose",
    "gpuNum": 0,
    "hideHardwareSpecs": false,
    "memoryGiB": 32,
    "name": "ml.m5.2xlarge",
    "vcpuNum": 8
   },
   {
    "_defaultOrder": 7,
    "_isFastLaunch": false,
    "category": "General purpose",
    "gpuNum": 0,
    "hideHardwareSpecs": false,
    "memoryGiB": 64,
    "name": "ml.m5.4xlarge",
    "vcpuNum": 16
   },
   {
    "_defaultOrder": 8,
    "_isFastLaunch": false,
    "category": "General purpose",
    "gpuNum": 0,
    "hideHardwareSpecs": false,
    "memoryGiB": 128,
    "name": "ml.m5.8xlarge",
    "vcpuNum": 32
   },
   {
    "_defaultOrder": 9,
    "_isFastLaunch": false,
    "category": "General purpose",
    "gpuNum": 0,
    "hideHardwareSpecs": false,
    "memoryGiB": 192,
    "name": "ml.m5.12xlarge",
    "vcpuNum": 48
   },
   {
    "_defaultOrder": 10,
    "_isFastLaunch": false,
    "category": "General purpose",
    "gpuNum": 0,
    "hideHardwareSpecs": false,
    "memoryGiB": 256,
    "name": "ml.m5.16xlarge",
    "vcpuNum": 64
   },
   {
    "_defaultOrder": 11,
    "_isFastLaunch": false,
    "category": "General purpose",
    "gpuNum": 0,
    "hideHardwareSpecs": false,
    "memoryGiB": 384,
    "name": "ml.m5.24xlarge",
    "vcpuNum": 96
   },
   {
    "_defaultOrder": 12,
    "_isFastLaunch": false,
    "category": "General purpose",
    "gpuNum": 0,
    "hideHardwareSpecs": false,
    "memoryGiB": 8,
    "name": "ml.m5d.large",
    "vcpuNum": 2
   },
   {
    "_defaultOrder": 13,
    "_isFastLaunch": false,
    "category": "General purpose",
    "gpuNum": 0,
    "hideHardwareSpecs": false,
    "memoryGiB": 16,
    "name": "ml.m5d.xlarge",
    "vcpuNum": 4
   },
   {
    "_defaultOrder": 14,
    "_isFastLaunch": false,
    "category": "General purpose",
    "gpuNum": 0,
    "hideHardwareSpecs": false,
    "memoryGiB": 32,
    "name": "ml.m5d.2xlarge",
    "vcpuNum": 8
   },
   {
    "_defaultOrder": 15,
    "_isFastLaunch": false,
    "category": "General purpose",
    "gpuNum": 0,
    "hideHardwareSpecs": false,
    "memoryGiB": 64,
    "name": "ml.m5d.4xlarge",
    "vcpuNum": 16
   },
   {
    "_defaultOrder": 16,
    "_isFastLaunch": false,
    "category": "General purpose",
    "gpuNum": 0,
    "hideHardwareSpecs": false,
    "memoryGiB": 128,
    "name": "ml.m5d.8xlarge",
    "vcpuNum": 32
   },
   {
    "_defaultOrder": 17,
    "_isFastLaunch": false,
    "category": "General purpose",
    "gpuNum": 0,
    "hideHardwareSpecs": false,
    "memoryGiB": 192,
    "name": "ml.m5d.12xlarge",
    "vcpuNum": 48
   },
   {
    "_defaultOrder": 18,
    "_isFastLaunch": false,
    "category": "General purpose",
    "gpuNum": 0,
    "hideHardwareSpecs": false,
    "memoryGiB": 256,
    "name": "ml.m5d.16xlarge",
    "vcpuNum": 64
   },
   {
    "_defaultOrder": 19,
    "_isFastLaunch": false,
    "category": "General purpose",
    "gpuNum": 0,
    "hideHardwareSpecs": false,
    "memoryGiB": 384,
    "name": "ml.m5d.24xlarge",
    "vcpuNum": 96
   },
   {
    "_defaultOrder": 20,
    "_isFastLaunch": false,
    "category": "General purpose",
    "gpuNum": 0,
    "hideHardwareSpecs": true,
    "memoryGiB": 0,
    "name": "ml.geospatial.interactive",
    "supportedImageNames": [
     "sagemaker-geospatial-v1-0"
    ],
    "vcpuNum": 0
   },
   {
    "_defaultOrder": 21,
    "_isFastLaunch": true,
    "category": "Compute optimized",
    "gpuNum": 0,
    "hideHardwareSpecs": false,
    "memoryGiB": 4,
    "name": "ml.c5.large",
    "vcpuNum": 2
   },
   {
    "_defaultOrder": 22,
    "_isFastLaunch": false,
    "category": "Compute optimized",
    "gpuNum": 0,
    "hideHardwareSpecs": false,
    "memoryGiB": 8,
    "name": "ml.c5.xlarge",
    "vcpuNum": 4
   },
   {
    "_defaultOrder": 23,
    "_isFastLaunch": false,
    "category": "Compute optimized",
    "gpuNum": 0,
    "hideHardwareSpecs": false,
    "memoryGiB": 16,
    "name": "ml.c5.2xlarge",
    "vcpuNum": 8
   },
   {
    "_defaultOrder": 24,
    "_isFastLaunch": false,
    "category": "Compute optimized",
    "gpuNum": 0,
    "hideHardwareSpecs": false,
    "memoryGiB": 32,
    "name": "ml.c5.4xlarge",
    "vcpuNum": 16
   },
   {
    "_defaultOrder": 25,
    "_isFastLaunch": false,
    "category": "Compute optimized",
    "gpuNum": 0,
    "hideHardwareSpecs": false,
    "memoryGiB": 72,
    "name": "ml.c5.9xlarge",
    "vcpuNum": 36
   },
   {
    "_defaultOrder": 26,
    "_isFastLaunch": false,
    "category": "Compute optimized",
    "gpuNum": 0,
    "hideHardwareSpecs": false,
    "memoryGiB": 96,
    "name": "ml.c5.12xlarge",
    "vcpuNum": 48
   },
   {
    "_defaultOrder": 27,
    "_isFastLaunch": false,
    "category": "Compute optimized",
    "gpuNum": 0,
    "hideHardwareSpecs": false,
    "memoryGiB": 144,
    "name": "ml.c5.18xlarge",
    "vcpuNum": 72
   },
   {
    "_defaultOrder": 28,
    "_isFastLaunch": false,
    "category": "Compute optimized",
    "gpuNum": 0,
    "hideHardwareSpecs": false,
    "memoryGiB": 192,
    "name": "ml.c5.24xlarge",
    "vcpuNum": 96
   },
   {
    "_defaultOrder": 29,
    "_isFastLaunch": true,
    "category": "Accelerated computing",
    "gpuNum": 1,
    "hideHardwareSpecs": false,
    "memoryGiB": 16,
    "name": "ml.g4dn.xlarge",
    "vcpuNum": 4
   },
   {
    "_defaultOrder": 30,
    "_isFastLaunch": false,
    "category": "Accelerated computing",
    "gpuNum": 1,
    "hideHardwareSpecs": false,
    "memoryGiB": 32,
    "name": "ml.g4dn.2xlarge",
    "vcpuNum": 8
   },
   {
    "_defaultOrder": 31,
    "_isFastLaunch": false,
    "category": "Accelerated computing",
    "gpuNum": 1,
    "hideHardwareSpecs": false,
    "memoryGiB": 64,
    "name": "ml.g4dn.4xlarge",
    "vcpuNum": 16
   },
   {
    "_defaultOrder": 32,
    "_isFastLaunch": false,
    "category": "Accelerated computing",
    "gpuNum": 1,
    "hideHardwareSpecs": false,
    "memoryGiB": 128,
    "name": "ml.g4dn.8xlarge",
    "vcpuNum": 32
   },
   {
    "_defaultOrder": 33,
    "_isFastLaunch": false,
    "category": "Accelerated computing",
    "gpuNum": 4,
    "hideHardwareSpecs": false,
    "memoryGiB": 192,
    "name": "ml.g4dn.12xlarge",
    "vcpuNum": 48
   },
   {
    "_defaultOrder": 34,
    "_isFastLaunch": false,
    "category": "Accelerated computing",
    "gpuNum": 1,
    "hideHardwareSpecs": false,
    "memoryGiB": 256,
    "name": "ml.g4dn.16xlarge",
    "vcpuNum": 64
   },
   {
    "_defaultOrder": 35,
    "_isFastLaunch": false,
    "category": "Accelerated computing",
    "gpuNum": 1,
    "hideHardwareSpecs": false,
    "memoryGiB": 61,
    "name": "ml.p3.2xlarge",
    "vcpuNum": 8
   },
   {
    "_defaultOrder": 36,
    "_isFastLaunch": false,
    "category": "Accelerated computing",
    "gpuNum": 4,
    "hideHardwareSpecs": false,
    "memoryGiB": 244,
    "name": "ml.p3.8xlarge",
    "vcpuNum": 32
   },
   {
    "_defaultOrder": 37,
    "_isFastLaunch": false,
    "category": "Accelerated computing",
    "gpuNum": 8,
    "hideHardwareSpecs": false,
    "memoryGiB": 488,
    "name": "ml.p3.16xlarge",
    "vcpuNum": 64
   },
   {
    "_defaultOrder": 38,
    "_isFastLaunch": false,
    "category": "Accelerated computing",
    "gpuNum": 8,
    "hideHardwareSpecs": false,
    "memoryGiB": 768,
    "name": "ml.p3dn.24xlarge",
    "vcpuNum": 96
   },
   {
    "_defaultOrder": 39,
    "_isFastLaunch": false,
    "category": "Memory Optimized",
    "gpuNum": 0,
    "hideHardwareSpecs": false,
    "memoryGiB": 16,
    "name": "ml.r5.large",
    "vcpuNum": 2
   },
   {
    "_defaultOrder": 40,
    "_isFastLaunch": false,
    "category": "Memory Optimized",
    "gpuNum": 0,
    "hideHardwareSpecs": false,
    "memoryGiB": 32,
    "name": "ml.r5.xlarge",
    "vcpuNum": 4
   },
   {
    "_defaultOrder": 41,
    "_isFastLaunch": false,
    "category": "Memory Optimized",
    "gpuNum": 0,
    "hideHardwareSpecs": false,
    "memoryGiB": 64,
    "name": "ml.r5.2xlarge",
    "vcpuNum": 8
   },
   {
    "_defaultOrder": 42,
    "_isFastLaunch": false,
    "category": "Memory Optimized",
    "gpuNum": 0,
    "hideHardwareSpecs": false,
    "memoryGiB": 128,
    "name": "ml.r5.4xlarge",
    "vcpuNum": 16
   },
   {
    "_defaultOrder": 43,
    "_isFastLaunch": false,
    "category": "Memory Optimized",
    "gpuNum": 0,
    "hideHardwareSpecs": false,
    "memoryGiB": 256,
    "name": "ml.r5.8xlarge",
    "vcpuNum": 32
   },
   {
    "_defaultOrder": 44,
    "_isFastLaunch": false,
    "category": "Memory Optimized",
    "gpuNum": 0,
    "hideHardwareSpecs": false,
    "memoryGiB": 384,
    "name": "ml.r5.12xlarge",
    "vcpuNum": 48
   },
   {
    "_defaultOrder": 45,
    "_isFastLaunch": false,
    "category": "Memory Optimized",
    "gpuNum": 0,
    "hideHardwareSpecs": false,
    "memoryGiB": 512,
    "name": "ml.r5.16xlarge",
    "vcpuNum": 64
   },
   {
    "_defaultOrder": 46,
    "_isFastLaunch": false,
    "category": "Memory Optimized",
    "gpuNum": 0,
    "hideHardwareSpecs": false,
    "memoryGiB": 768,
    "name": "ml.r5.24xlarge",
    "vcpuNum": 96
   },
   {
    "_defaultOrder": 47,
    "_isFastLaunch": false,
    "category": "Accelerated computing",
    "gpuNum": 1,
    "hideHardwareSpecs": false,
    "memoryGiB": 16,
    "name": "ml.g5.xlarge",
    "vcpuNum": 4
   },
   {
    "_defaultOrder": 48,
    "_isFastLaunch": false,
    "category": "Accelerated computing",
    "gpuNum": 1,
    "hideHardwareSpecs": false,
    "memoryGiB": 32,
    "name": "ml.g5.2xlarge",
    "vcpuNum": 8
   },
   {
    "_defaultOrder": 49,
    "_isFastLaunch": false,
    "category": "Accelerated computing",
    "gpuNum": 1,
    "hideHardwareSpecs": false,
    "memoryGiB": 64,
    "name": "ml.g5.4xlarge",
    "vcpuNum": 16
   },
   {
    "_defaultOrder": 50,
    "_isFastLaunch": false,
    "category": "Accelerated computing",
    "gpuNum": 1,
    "hideHardwareSpecs": false,
    "memoryGiB": 128,
    "name": "ml.g5.8xlarge",
    "vcpuNum": 32
   },
   {
    "_defaultOrder": 51,
    "_isFastLaunch": false,
    "category": "Accelerated computing",
    "gpuNum": 1,
    "hideHardwareSpecs": false,
    "memoryGiB": 256,
    "name": "ml.g5.16xlarge",
    "vcpuNum": 64
   },
   {
    "_defaultOrder": 52,
    "_isFastLaunch": false,
    "category": "Accelerated computing",
    "gpuNum": 4,
    "hideHardwareSpecs": false,
    "memoryGiB": 192,
    "name": "ml.g5.12xlarge",
    "vcpuNum": 48
   },
   {
    "_defaultOrder": 53,
    "_isFastLaunch": false,
    "category": "Accelerated computing",
    "gpuNum": 4,
    "hideHardwareSpecs": false,
    "memoryGiB": 384,
    "name": "ml.g5.24xlarge",
    "vcpuNum": 96
   },
   {
    "_defaultOrder": 54,
    "_isFastLaunch": false,
    "category": "Accelerated computing",
    "gpuNum": 8,
    "hideHardwareSpecs": false,
    "memoryGiB": 768,
    "name": "ml.g5.48xlarge",
    "vcpuNum": 192
   },
   {
    "_defaultOrder": 55,
    "_isFastLaunch": false,
    "category": "Accelerated computing",
    "gpuNum": 8,
    "hideHardwareSpecs": false,
    "memoryGiB": 1152,
    "name": "ml.p4d.24xlarge",
    "vcpuNum": 96
   },
   {
    "_defaultOrder": 56,
    "_isFastLaunch": false,
    "category": "Accelerated computing",
    "gpuNum": 8,
    "hideHardwareSpecs": false,
    "memoryGiB": 1152,
    "name": "ml.p4de.24xlarge",
    "vcpuNum": 96
   }
  ],
  "instance_type": "ml.m5.xlarge",
  "kernelspec": {
   "display_name": "base",
   "language": "python",
   "name": "python3"
  },
  "language_info": {
   "codemirror_mode": {
    "name": "ipython",
    "version": 3
   },
   "file_extension": ".py",
   "mimetype": "text/x-python",
   "name": "python",
   "nbconvert_exporter": "python",
   "pygments_lexer": "ipython3",
   "version": "3.10.13"
  }
 },
 "nbformat": 4,
 "nbformat_minor": 4
}
