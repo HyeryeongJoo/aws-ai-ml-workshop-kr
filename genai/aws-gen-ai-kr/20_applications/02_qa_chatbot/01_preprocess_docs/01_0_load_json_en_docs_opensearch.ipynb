{
 "cells": [
  {
   "cell_type": "markdown",
   "metadata": {
    "jp-MarkdownHeadingCollapsed": true,
    "tags": []
   },
   "source": [
    "# 스키마 정의 후 Vector Store 생성 \n",
    "\n",
    "---\n",
    "\n",
    "---"
   ]
  },
  {
   "cell_type": "markdown",
   "metadata": {
    "tags": []
   },
   "source": [
    "# 1. Bedrock Client 생성"
   ]
  },
  {
   "cell_type": "code",
   "execution_count": 2,
   "metadata": {
    "tags": []
   },
   "outputs": [
    {
     "name": "stdout",
     "output_type": "stream",
     "text": [
      "langchain                                0.0.338\n",
      "opensearch-py                            2.3.2\n",
      "pypdf                                    3.17.1\n"
     ]
    }
   ],
   "source": [
    "! pip list | grep langchain # 0.0.312\n",
    "! pip list | grep opensearch # 2.3.2\n",
    "! pip list | grep pypdf"
   ]
  },
  {
   "cell_type": "code",
   "execution_count": 3,
   "metadata": {
    "tags": []
   },
   "outputs": [
    {
     "name": "stdout",
     "output_type": "stream",
     "text": [
      "/root/aws-ai-ml-workshop-kr/genai/aws-gen-ai-kr/20_applications/02_qa_chatbot/01_preprocess_docs/utils\n"
     ]
    }
   ],
   "source": [
    "%load_ext autoreload\n",
    "%autoreload 2\n",
    "\n",
    "import sys, os\n",
    "# module_path = \"../../../utils\"\n",
    "# sys.path.append(os.path.abspath(module_path))\n",
    "# print(os.path.abspath(module_path))\n",
    "\n",
    "module_path = \"./utils\"\n",
    "sys.path.append(os.path.abspath(module_path))\n",
    "print(os.path.abspath(module_path))"
   ]
  },
  {
   "cell_type": "code",
   "execution_count": 4,
   "metadata": {
    "tags": []
   },
   "outputs": [
    {
     "name": "stdout",
     "output_type": "stream",
     "text": [
      "Create new client\n",
      "  Using region: us-east-1\n",
      "  Using profile: None\n",
      "boto3 Bedrock client successfully created!\n",
      "bedrock-runtime(https://bedrock-runtime.us-east-1.amazonaws.com)\n",
      "\n",
      "== FM lists ==\n",
      "{'Claude-Instant-V1': 'anthropic.claude-instant-v1',\n",
      " 'Claude-V1': 'anthropic.claude-v1',\n",
      " 'Claude-V2': 'anthropic.claude-v2',\n",
      " 'Command': 'cohere.command-text-v14',\n",
      " 'Jurassic-2-Mid': 'ai21.j2-mid-v1',\n",
      " 'Jurassic-2-Ultra': 'ai21.j2-ultra-v1',\n",
      " 'Llama2-13b-Chat': 'meta.llama2-13b-chat-v1',\n",
      " 'Titan-Embeddings-G1': 'amazon.titan-embed-text-v1',\n",
      " 'Titan-Text-G1': 'TBD'}\n"
     ]
    }
   ],
   "source": [
    "import json\n",
    "import boto3\n",
    "from pprint import pprint\n",
    "from termcolor import colored\n",
    "from utils import bedrock, print_ww\n",
    "from utils.bedrock import bedrock_info\n",
    "\n",
    "# ---- ⚠️ Un-comment and edit the below lines as needed for your AWS setup ⚠️ ----\n",
    "\n",
    "# os.environ[\"AWS_DEFAULT_REGION\"] = \"<REGION_NAME>\"  # E.g. \"us-east-1\"\n",
    "# os.environ[\"AWS_PROFILE\"] = \"<YOUR_PROFILE>\"\n",
    "# os.environ[\"BEDROCK_ASSUME_ROLE\"] = \"<YOUR_ROLE_ARN>\"  # E.g. \"arn:aws:...\"\n",
    "# os.environ[\"BEDROCK_ENDPOINT_URL\"] = \"<YOUR_ENDPOINT_URL>\"  # E.g. \"https://...\"\n",
    "\n",
    "\n",
    "boto3_bedrock = bedrock.get_bedrock_client(\n",
    "    assumed_role=os.environ.get(\"BEDROCK_ASSUME_ROLE\", None),\n",
    "    endpoint_url=os.environ.get(\"BEDROCK_ENDPOINT_URL\", None),\n",
    "    region=os.environ.get(\"AWS_DEFAULT_REGION\", None),\n",
    ")\n",
    "\n",
    "print(colored(\"\\n== FM lists ==\", \"green\"))\n",
    "pprint(bedrock_info.get_list_fm_models())"
   ]
  },
  {
   "cell_type": "markdown",
   "metadata": {},
   "source": [
    "# 2. Titan Embedding 모델 로딩"
   ]
  },
  {
   "cell_type": "code",
   "execution_count": 5,
   "metadata": {
    "tags": []
   },
   "outputs": [
    {
     "data": {
      "text/plain": [
       "BedrockEmbeddings(client=<botocore.client.BedrockRuntime object at 0x7f3b63325b70>, region_name=None, credentials_profile_name=None, model_id='amazon.titan-embed-text-v1', model_kwargs=None, endpoint_url=None)"
      ]
     },
     "execution_count": 5,
     "metadata": {},
     "output_type": "execute_result"
    }
   ],
   "source": [
    "# We will be using the Titan Embeddings Model to generate our Embeddings.\n",
    "from langchain.embeddings import BedrockEmbeddings\n",
    "from langchain.llms.bedrock import Bedrock\n",
    "\n",
    "llm_emb = BedrockEmbeddings(client=boto3_bedrock)\n",
    "llm_emb"
   ]
  },
  {
   "cell_type": "markdown",
   "metadata": {
    "tags": []
   },
   "source": [
    "# 3. Load all Json files"
   ]
  },
  {
   "cell_type": "code",
   "execution_count": 7,
   "metadata": {
    "tags": []
   },
   "outputs": [],
   "source": [
    "from utils.proc_docs import get_load_json, show_doc_json"
   ]
  },
  {
   "cell_type": "code",
   "execution_count": 8,
   "metadata": {
    "tags": []
   },
   "outputs": [
    {
     "name": "stdout",
     "output_type": "stream",
     "text": [
      "all json files:  1\n",
      "all items:  1732\n"
     ]
    }
   ],
   "source": [
    "import glob\n",
    "\n",
    "# Specify the directory and file pattern for .txt files\n",
    "folder_path = 'data/poc/preprocessed_json/all_processed_data.json'\n",
    "\n",
    "# List all .txt files in the specified folder\n",
    "json_files = glob.glob(folder_path)\n",
    "# json_files = ['data/poc/customer_EFOTA.json']\n",
    "\n",
    "# Load each item per json file and append to a list\n",
    "doc_json_list = []\n",
    "for file_path in json_files:\n",
    "    doc_json = get_load_json(file_path)\n",
    "    doc_json_list.append(doc_json)\n",
    "\n",
    "print(\"all json files: \", len(doc_json_list))    \n",
    "# Flatten the list of lists into a single list\n",
    "all_docs = []\n",
    "for item in doc_json_list:\n",
    "        all_docs.extend(item)\n",
    "        \n",
    "print(\"all items: \", len(all_docs))"
   ]
  },
  {
   "cell_type": "markdown",
   "metadata": {
    "tags": []
   },
   "source": [
    "# 4. Chunking JSON Doc "
   ]
  },
  {
   "cell_type": "markdown",
   "metadata": {},
   "source": [
    "## Chunk Size and Chunk Overlap Size 결정"
   ]
  },
  {
   "cell_type": "code",
   "execution_count": 9,
   "metadata": {
    "tags": []
   },
   "outputs": [],
   "source": [
    "chunk_size = 1024\n",
    "chunk_overlap = 256\n"
   ]
  },
  {
   "cell_type": "markdown",
   "metadata": {},
   "source": [
    "## Chunking"
   ]
  },
  {
   "cell_type": "code",
   "execution_count": 10,
   "metadata": {
    "tags": []
   },
   "outputs": [
    {
     "name": "stdout",
     "output_type": "stream",
     "text": [
      "Number of chunk_docs after split and chunking= 6825\n"
     ]
    }
   ],
   "source": [
    "from langchain.text_splitter import RecursiveCharacterTextSplitter, SpacyTextSplitter\n",
    "\n",
    "\n",
    "text_splitter = RecursiveCharacterTextSplitter(\n",
    "    # Set a really small chunk size, just to show.\n",
    "    chunk_size = chunk_size,\n",
    "    chunk_overlap  = chunk_overlap,\n",
    "    separators=[\"\\n\\n\", \"\\n\", \".\", \" \", \"\"],\n",
    "    length_function = len,\n",
    ")\n",
    "\n",
    "chunk_docs = text_splitter.split_documents(all_docs)\n",
    "print(f\"Number of chunk_docs after split and chunking= {len(chunk_docs)}\")"
   ]
  },
  {
   "cell_type": "code",
   "execution_count": 10,
   "metadata": {
    "tags": []
   },
   "outputs": [
    {
     "data": {
      "text/plain": [
       "[Document(page_content='AR demo barcodes. Use the following barcodes to test the Knox Capture AR features. Barcode 1 Barcode 2 Barcode 3 Barcode 4 Barcode 5 Barcode 6', metadata={'source': 'all_processed_data.json', 'seq_num': 1, 'title': 'AR demo barcodes', 'url': 'https://docs.samsungknox.com/admin/knox-capture/ar-demo-barcodes', 'project': 'KCAP', 'last_updated': '2023-10-16'})]"
      ]
     },
     "execution_count": 10,
     "metadata": {},
     "output_type": "execute_result"
    }
   ],
   "source": [
    "chunk_docs[0:1]"
   ]
  },
  {
   "cell_type": "markdown",
   "metadata": {},
   "source": [
    "# 5. Index 생성"
   ]
  },
  {
   "cell_type": "markdown",
   "metadata": {
    "tags": []
   },
   "source": [
    "## Index 이름 결정"
   ]
  },
  {
   "cell_type": "code",
   "execution_count": 11,
   "metadata": {
    "tags": []
   },
   "outputs": [],
   "source": [
    "index_name = \"genai-poc-knox-incremental-1024c-256o-v7\"\n",
    "\n"
   ]
  },
  {
   "cell_type": "markdown",
   "metadata": {
    "tags": []
   },
   "source": [
    "## Index 스키마 정의"
   ]
  },
  {
   "cell_type": "code",
   "execution_count": 12,
   "metadata": {
    "tags": []
   },
   "outputs": [],
   "source": [
    "index_body = {\n",
    "    'settings': {\n",
    "        'index': {\n",
    "            'knn': True,\n",
    "            'knn.space_type': 'cosinesimil'  # Example space type\n",
    "        }\n",
    "    },\n",
    "    'mappings': {\n",
    "        'properties': {\n",
    "            'metadata': {\n",
    "                'properties': {\n",
    "                               'source' : {'type': 'keyword'},\n",
    "                               'last_updated': {'type': 'date'},\n",
    "                               'project': {'type': 'keyword'},\n",
    "                               'seq_num': {'type': 'long'},\n",
    "                               'title': {'type': 'text'},  # For full-text search\n",
    "                               'url': {'type': 'text'},  # For full-text search\n",
    "                            }\n",
    "            },            \n",
    "            'text': {\n",
    "                'type': 'text'\n",
    "            },\n",
    "            'vector_field': {\n",
    "                'type': 'knn_vector',\n",
    "                'dimension': 1536  # Replace with your vector dimension\n",
    "            }\n",
    "        }\n",
    "    }\n",
    "}\n"
   ]
  },
  {
   "cell_type": "markdown",
   "metadata": {
    "tags": []
   },
   "source": [
    "# 5. LangChain OpenSearch VectorStore 생성 \n",
    "## 선수 조건\n"
   ]
  },
  {
   "cell_type": "markdown",
   "metadata": {
    "tags": []
   },
   "source": [
    "## 오픈 서치 도메인 및 인증 정보 세팅\n",
    "\n",
    "- [langchain.vectorstores.opensearch_vector_search.OpenSearchVectorSearch](https://api.python.langchain.com/en/latest/vectorstores/langchain.vectorstores.opensearch_vector_search.OpenSearchVectorSearch.html)"
   ]
  },
  {
   "cell_type": "markdown",
   "metadata": {},
   "source": [
    "#### [중요] 아래에 aws parameter store 에 아래 인증정보가 먼저 입력되어 있어야 합니다."
   ]
  },
  {
   "cell_type": "code",
   "execution_count": 13,
   "metadata": {
    "tags": []
   },
   "outputs": [],
   "source": [
    "from utils.proc_docs import get_parameter"
   ]
  },
  {
   "cell_type": "code",
   "execution_count": 14,
   "metadata": {
    "tags": []
   },
   "outputs": [],
   "source": [
    "import boto3\n",
    "ssm = boto3.client('ssm', 'us-east-1')\n",
    "\n",
    "opensearch_domain_endpoint = get_parameter(\n",
    "    boto3_clinet = ssm,\n",
    "    parameter_name = 'knox_opensearch_domain_endpoint',\n",
    ")\n",
    "\n",
    "opensearch_user_id = get_parameter(\n",
    "    boto3_clinet = ssm,\n",
    "    parameter_name = 'knox_opensearch_userid',\n",
    ")\n",
    "\n",
    "opensearch_user_password = get_parameter(\n",
    "    boto3_clinet = ssm,\n",
    "    parameter_name = 'knox_opensearch_password',\n",
    ")\n"
   ]
  },
  {
   "cell_type": "code",
   "execution_count": 15,
   "metadata": {
    "tags": []
   },
   "outputs": [],
   "source": [
    "opensearch_domain_endpoint = opensearch_domain_endpoint\n",
    "rag_user_name = opensearch_user_id\n",
    "rag_user_password = opensearch_user_password\n",
    "\n",
    "http_auth = (rag_user_name, rag_user_password) # Master username, Master password"
   ]
  },
  {
   "cell_type": "markdown",
   "metadata": {},
   "source": [
    "## OpenSearch Client 생성"
   ]
  },
  {
   "cell_type": "code",
   "execution_count": 16,
   "metadata": {
    "tags": []
   },
   "outputs": [],
   "source": [
    "from utils.opensearch import opensearch_utils"
   ]
  },
  {
   "cell_type": "code",
   "execution_count": 17,
   "metadata": {
    "tags": []
   },
   "outputs": [],
   "source": [
    "aws_region = os.environ.get(\"AWS_DEFAULT_REGION\", None)\n",
    "\n",
    "os_client = opensearch_utils.create_aws_opensearch_client(\n",
    "    aws_region,\n",
    "    opensearch_domain_endpoint,\n",
    "    http_auth\n",
    ")"
   ]
  },
  {
   "cell_type": "markdown",
   "metadata": {},
   "source": [
    "## 오픈 서치 인덱스 생성 \n",
    "- 오픈 서치에 해당 인덱스가 존재하면, 삭제 합니다. "
   ]
  },
  {
   "cell_type": "code",
   "execution_count": 18,
   "metadata": {
    "tags": []
   },
   "outputs": [],
   "source": [
    "from utils.opensearch import opensearch_utils"
   ]
  },
  {
   "cell_type": "code",
   "execution_count": 19,
   "metadata": {
    "tags": []
   },
   "outputs": [
    {
     "name": "stdout",
     "output_type": "stream",
     "text": [
      "index_name=genai-poc-knox-incremental-1024c-256o-v7, exists=True\n",
      "\n",
      "Deleting index:\n",
      "{'acknowledged': True}\n",
      "\n",
      "Creating index:\n",
      "{'acknowledged': True, 'shards_acknowledged': True, 'index': 'genai-poc-knox-incremental-1024c-256o-v7'}\n",
      "Index is created\n",
      "{'genai-poc-knox-incremental-1024c-256o-v7': {'aliases': {},\n",
      "                                              'mappings': {'properties': {'metadata': {'properties': {'last_updated': {'type': 'date'},\n",
      "                                                                                                      'project': {'type': 'keyword'},\n",
      "                                                                                                      'seq_num': {'type': 'long'},\n",
      "                                                                                                      'source': {'type': 'keyword'},\n",
      "                                                                                                      'title': {'type': 'text'},\n",
      "                                                                                                      'url': {'type': 'text'}}},\n",
      "                                                                          'text': {'type': 'text'},\n",
      "                                                                          'vector_field': {'dimension': 1536,\n",
      "                                                                                           'type': 'knn_vector'}}},\n",
      "                                              'settings': {'index': {'creation_date': '1700980460696',\n",
      "                                                                     'knn': 'true',\n",
      "                                                                     'knn.space_type': 'cosinesimil',\n",
      "                                                                     'number_of_replicas': '2',\n",
      "                                                                     'number_of_shards': '5',\n",
      "                                                                     'provided_name': 'genai-poc-knox-incremental-1024c-256o-v7',\n",
      "                                                                     'uuid': 'S7gv9JxgT3urAAkwM-AWAg',\n",
      "                                                                     'version': {'created': '136307827'}}}}}\n"
     ]
    }
   ],
   "source": [
    "\n",
    "index_exists = opensearch_utils.check_if_index_exists(\n",
    "    os_client,\n",
    "    index_name\n",
    ")\n",
    "\n",
    "if index_exists:\n",
    "    opensearch_utils.delete_index(\n",
    "        os_client,\n",
    "        index_name\n",
    "    )\n",
    "\n",
    "opensearch_utils.create_index(os_client, index_name, index_body)\n",
    "index_info = os_client.indices.get(index=index_name)\n",
    "print(\"Index is created\")\n",
    "pprint(index_info)"
   ]
  },
  {
   "cell_type": "markdown",
   "metadata": {
    "tags": []
   },
   "source": [
    "## 랭체인 인덱스 연결 오브젝트 생성\n",
    "\n",
    "- [langchain.vectorstores.opensearch_vector_search.OpenSearchVectorSearch](https://api.python.langchain.com/en/latest/vectorstores/langchain.vectorstores.opensearch_vector_search.OpenSearchVectorSearch.html)"
   ]
  },
  {
   "cell_type": "code",
   "execution_count": 20,
   "metadata": {
    "tags": []
   },
   "outputs": [],
   "source": [
    "from langchain.vectorstores import OpenSearchVectorSearch"
   ]
  },
  {
   "cell_type": "code",
   "execution_count": 21,
   "metadata": {
    "tags": []
   },
   "outputs": [
    {
     "data": {
      "text/plain": [
       "<langchain.vectorstores.opensearch_vector_search.OpenSearchVectorSearch at 0x7f3b5611bca0>"
      ]
     },
     "execution_count": 21,
     "metadata": {},
     "output_type": "execute_result"
    }
   ],
   "source": [
    "vector_db = OpenSearchVectorSearch(\n",
    "    index_name=index_name,\n",
    "    opensearch_url=opensearch_domain_endpoint,\n",
    "    embedding_function=llm_emb,\n",
    "    http_auth=http_auth, # http_auth\n",
    "    is_aoss =False,\n",
    "    engine=\"faiss\",\n",
    "    space_type=\"l2\",\n",
    "    bulk_size=100000,\n",
    "    timeout=60    \n",
    ")\n",
    "vector_db"
   ]
  },
  {
   "cell_type": "markdown",
   "metadata": {},
   "source": [
    "## OpenSearch 에 문서 삽입"
   ]
  },
  {
   "cell_type": "code",
   "execution_count": 22,
   "metadata": {
    "collapsed": true,
    "jupyter": {
     "outputs_hidden": true
    },
    "tags": []
   },
   "outputs": [
    {
     "name": "stdout",
     "output_type": "stream",
     "text": [
      "CPU times: user 18.6 s, sys: 1.06 s, total: 19.7 s\n",
      "Wall time: 11min 8s\n"
     ]
    },
    {
     "data": {
      "text/plain": [
       "['c3ff24f0-9882-4490-8f05-f852f72df3b1',\n",
       " '4af97379-e466-4d42-bfca-58fb9c370a06',\n",
       " '3573bbec-0a2d-4a0d-b265-2afb1569d34e',\n",
       " '1af329d7-7094-41ca-8b7e-7b0cdb2f5355',\n",
       " 'dbf7848d-866c-431c-8820-b7b647a66c85',\n",
       " 'ed2aa035-b54e-4588-83b8-c41356664c2e',\n",
       " '58d57f66-3f75-458a-8c91-a6e20d3ba9c0',\n",
       " 'e98f1f9e-a519-451b-b8a3-da69606496db',\n",
       " 'a150da43-9507-442c-8d2c-43d07cd96030',\n",
       " '34ec4709-24df-46d8-832e-401be9dc2323',\n",
       " 'b05aee10-b084-4415-9499-037b9a6cc509',\n",
       " '931332b6-0204-41bd-9a34-ab19de731d71',\n",
       " 'aaa76e7c-964a-4eec-8ae7-e5787d24d7c5',\n",
       " '0192940a-febd-46e6-90b7-115c08a21d39',\n",
       " '9a663776-c942-4a84-935f-2b5f7f6fe7a8',\n",
       " '9ee1ab5e-095d-4a71-9086-dadab647fade',\n",
       " '0bdac915-5a7f-4989-9023-d281cdb70379',\n",
       " '63aa4e61-f063-4462-bde9-4692873de41d',\n",
       " '3692ecc4-40b2-47fa-8123-94b48cc6bedb',\n",
       " 'b5eace65-56c8-4cf4-a59d-7d5c3857fbeb',\n",
       " 'a7467b9d-8c46-4f00-af7d-827ebae2fcec',\n",
       " '3c777591-ef90-4596-ab54-de4d1280b6ed',\n",
       " 'ee019ba7-cf00-4368-8c24-dcab73a29478',\n",
       " '16dea0aa-6606-4b4b-8a22-9620624c5817',\n",
       " 'c535b851-2586-428e-af23-5bfaa10e3258',\n",
       " 'd0838fd2-38ad-4717-8d93-6e8857d715cd',\n",
       " '626aa4e1-419d-4bb4-ad3d-5a062fb2b86c',\n",
       " 'd6b9547e-2a22-4b88-9007-9cd083201f7a',\n",
       " '83fcf784-e3c5-4ec8-bcd2-ccf2f49344f0',\n",
       " 'fbce7aa8-dbae-4d31-93ad-82531b8bf8c0',\n",
       " '2476b96a-4b75-4d99-89b1-80422d751f3b',\n",
       " '9fc39032-b5e7-4b64-8dc6-d622612d3faf',\n",
       " 'c0769833-0e92-4e0d-8fc0-48d9e0049343',\n",
       " '31efda03-0890-4837-b168-3de2720573a4',\n",
       " '71eaa4b2-a2e8-4f73-9f37-97a218a6ec89',\n",
       " 'b3e96cfe-bb3a-4e97-9e57-eff14c1af979',\n",
       " 'd2d41a6a-4621-45c3-ac46-858e33b8d38f',\n",
       " '7c5b5791-dfa1-409f-bd21-f3d31c9ef728',\n",
       " '760c48d8-6e74-4853-bf32-6f36fd3f47bc',\n",
       " '7378e349-5b5a-470f-b9eb-e6a87ca317ea',\n",
       " 'a6759c70-27aa-48cb-93b6-91b5fc7fe53a',\n",
       " '16903059-c3ab-4920-a7e2-5e97c372c11c',\n",
       " '554ce23a-f871-48d9-8803-0b5964c3e710',\n",
       " '83715cd8-76ba-4ea9-b9e2-cdb9313d3a89',\n",
       " 'd024155d-df85-4325-8685-9da06e8fb0f1',\n",
       " '44b414c3-d1f9-436e-928a-a310073e17d7',\n",
       " '09a2169d-91a8-4730-96f5-ddec9c2fd691',\n",
       " 'ac367b1b-d3f9-4fe2-89da-a28e1897fe97',\n",
       " '3ab92d98-989d-4eb6-a2f2-eece3ebf17f2',\n",
       " 'a1d131ba-f982-44e2-9cfe-61b6d14babb9',\n",
       " '3b88c02e-4a20-4c1a-8a39-2bdcbee93faf',\n",
       " '1a8ab5da-d64e-4ebf-9311-a192940c6347',\n",
       " 'f5f2726a-fbc5-4b47-a2ce-9876252bd02e',\n",
       " '32290298-b884-4101-9be6-072bcf56cdff',\n",
       " '507c5526-1aae-49f9-8425-434abfeecef8',\n",
       " 'd0e835c4-8904-4b57-a45f-5a5d6bb458b7',\n",
       " 'f34eca77-0eff-4689-a573-337839f0d544',\n",
       " '3c47785c-64f2-4df6-81fa-b5ff9009c8a4',\n",
       " '817e5d7f-8e91-44ee-94cd-08f17816ba41',\n",
       " 'ba4f6592-b6ef-4a6f-9011-d1fea387522a',\n",
       " 'baab9b48-eeb1-4bb5-a5b5-dc5bb4d785a4',\n",
       " '235dd893-2414-4080-a3d3-0fe51630cd25',\n",
       " 'c30f6782-59ac-4556-a287-fffa3040b1b4',\n",
       " '540498ce-a1d1-4026-bda6-778849228ab5',\n",
       " 'f08f3d17-6aad-4762-afb9-9c7058632b6c',\n",
       " '9c5ed8ee-841c-4947-9f00-79c9fc99d42b',\n",
       " 'c477c75b-5136-499b-bb41-f43173fe4e91',\n",
       " '3d16631e-0c62-4180-9652-d0410620faab',\n",
       " '8bea93e3-e1fd-47f7-9fe1-44522b2c856f',\n",
       " '7b837cc0-bbfe-4323-9d64-3a1a9691b6cd',\n",
       " '119e6a2e-513d-4787-ac88-be39de0cf95e',\n",
       " '50ba8445-51d5-44cf-bfc4-c60042d16f18',\n",
       " '3c3ba8ca-6434-4f4c-982f-6f68660925a0',\n",
       " '2536b0b2-dbf0-4899-a417-0dbc8116229f',\n",
       " 'e18622ca-2ecb-40f1-bc9d-20a8741084d2',\n",
       " '0632088d-22fa-4cd7-a9d4-f94bc9a56f02',\n",
       " '2ac55a33-8221-495a-a948-e7ce9e23b933',\n",
       " '633c0235-19f9-4e45-854f-1adad759e866',\n",
       " '9bfee243-30a9-4ab0-bf1e-c03a666e3c27',\n",
       " '4ecc1e70-cd9b-464d-9652-b527418c3834',\n",
       " '95a91b57-bfe4-4e74-9cd7-3f3ade8a98ca',\n",
       " '6ae5ac01-60d8-4bf5-97f6-4413e98024e3',\n",
       " '945b22b9-7bd2-4853-be08-dff35b3eeb81',\n",
       " '448c5705-bf4d-4a40-9f5e-98e7428726a5',\n",
       " '7d52fe8d-724a-491b-852b-737fa49e6e2e',\n",
       " 'cb69e851-9eee-4a92-8d4d-dea59acd20b3',\n",
       " '8cc01545-524c-45b9-9897-517d34cd545b',\n",
       " '69695d7f-687c-4f67-810e-9639742b2d7f',\n",
       " 'e54ff3b9-31a4-415c-808c-453e66c8f136',\n",
       " '881c928c-64da-4593-bddc-4bb60d911393',\n",
       " '694aeefe-bbfb-4e9f-82a7-b388b67f4842',\n",
       " '3d916b19-0aed-4222-a425-a9556f9f8f97',\n",
       " '8a676eea-7be2-47b9-8f78-50fed1b6edf6',\n",
       " 'b73b4d0b-9ade-4678-bdb0-aea86ecc8b4f',\n",
       " 'de373949-17b2-42ab-a417-4b3fa7c9219f',\n",
       " 'd057294d-1c1d-4de9-ae9d-719cae0a3b56',\n",
       " '670d31ee-5ac2-4615-89f5-8a97a65830c9',\n",
       " '4e2b30ed-435f-4981-98a6-2203b27bede9',\n",
       " 'b14f015a-3e9c-4a74-8d10-555bafe83d07',\n",
       " 'ac4d82d4-7702-4746-a232-e399b0a7cd73',\n",
       " 'e53aa5a9-7d5a-4a33-986a-37f3eec50e8b',\n",
       " '82707046-4436-4079-946d-0c5a717fa410',\n",
       " '0ee1253e-ba61-4616-bbc9-dc23f9f17ecc',\n",
       " '291e2683-99a6-4783-9511-326bb5717ffd',\n",
       " '137a2582-7019-4eaf-9bb2-5e364b6b191e',\n",
       " '0eb23903-d329-47a3-9023-f23d6f8d8967',\n",
       " '644e805e-3609-47ac-a2c4-943f90399f54',\n",
       " 'f6c03516-2c97-4e3f-99a7-c6fb7c1b84be',\n",
       " 'f34e2b73-2d28-4a85-ba83-a4a988aa2566',\n",
       " '3b3e9900-32b5-4a34-b6d3-f8a6121703ca',\n",
       " '074e76b2-b258-4fa7-bc35-0815de1c5036',\n",
       " 'e8d19ed5-b3e0-4319-be24-7ea81abf1070',\n",
       " '13845a1d-c8ca-43a0-a9f9-12cc623ee902',\n",
       " 'bc639ff2-b445-45de-9f36-1bbb13ccca26',\n",
       " '2723475b-1547-4016-ac64-7ffe2bccbcbf',\n",
       " '6b953027-2afe-4e4b-a5ee-aff4e005d1f3',\n",
       " '81ff106e-c2db-49df-9dbb-7802aec857ec',\n",
       " '1f864ccb-b665-4df1-aff1-88a3f609e658',\n",
       " '91faae54-bc2e-4829-8ea2-8870c3264776',\n",
       " '1d3b81fc-3a8d-4023-9678-24022acffff3',\n",
       " 'd464abba-358b-4df6-9f77-5f87cbadefe7',\n",
       " '4d7574b5-96dc-49b1-a885-9178aca0c0ee',\n",
       " '832d7402-b7ff-4da5-8239-54360b785d31',\n",
       " 'c9b73821-d5fd-4c8c-9f40-ff8a98e6ce39',\n",
       " '9831c4b4-2c8e-4bcf-9b15-4bcfe53dcf7c',\n",
       " '4ebeb23e-ac05-4851-ab5e-f706e3f0e201',\n",
       " '26a591e9-d834-477e-b0ad-fdedd848805c',\n",
       " '18bc2cb4-bda3-423c-802f-5fe990f08717',\n",
       " '5353c8a1-7b39-49d9-9a19-a0c4d5487f94',\n",
       " 'e2d95272-20fe-401d-b819-fed68d47915a',\n",
       " '59408234-ada6-47a0-a07f-74da6ee3ccb9',\n",
       " '789e9898-07ea-418e-b06d-7f7704822393',\n",
       " 'ac651575-c2e2-4b49-b900-c164cfb61bb3',\n",
       " '087d1a1c-3cad-4a1f-846a-80786ebaae02',\n",
       " 'a48764ad-458d-419f-b728-606f23878e39',\n",
       " '5ac182fb-76f9-40d3-b22a-aead54156750',\n",
       " 'fd93dfc6-844c-4342-b6a2-f0e3cf356965',\n",
       " 'ccfbb178-9f95-4574-ab76-4121e4eeb824',\n",
       " '0820ea1f-e316-438c-9ee4-00e485a99556',\n",
       " '192f41d4-8cd5-4ff0-b500-ac840ac8ea33',\n",
       " '0ed1b7eb-2abe-4817-b28d-257c047f1d78',\n",
       " '146240cb-efef-4c63-ba39-fe5f2115f5d4',\n",
       " '73c75aa8-5734-489e-a90f-1c3fc6adf9ac',\n",
       " '54603d78-a0dd-471b-a45d-71428eb4f152',\n",
       " '9c0b42d9-0f3c-4f59-bf50-40d7631ac01e',\n",
       " 'a4d42246-36be-4f3b-adab-f82a43240883',\n",
       " 'a829a1c1-acf8-4baa-9239-82de007971ad',\n",
       " 'aa0bf686-72d7-4ca0-9ce0-b4e6bee0ac93',\n",
       " '7f5fc2db-f3e7-4bfb-a424-9540e89634d0',\n",
       " '4b8b7825-9df1-4f90-91a1-d0134cd84437',\n",
       " 'ef68d6a8-29e1-4344-a184-602fd65f98c1',\n",
       " '34669580-6b0a-4697-b147-05d8d4aa412d',\n",
       " '718dc462-52f6-4cda-a04b-95be77578e4e',\n",
       " 'fdb16dea-d200-40a6-a9a2-ac8b5f6332ee',\n",
       " 'f12b6a0a-befc-4684-84a1-d10c41a34b79',\n",
       " '6fd8f54a-3d1a-452a-9bf0-caff8468c885',\n",
       " '782e7943-7a33-4d55-950b-9dd8fa9c16cf',\n",
       " '975954dc-aacf-46a6-8c6e-6f9d707c7648',\n",
       " 'cc3f19f0-9b0c-4586-a20d-26de05eb0842',\n",
       " 'd9302b4f-2529-487b-87f1-099643cc3cfc',\n",
       " '61d9a88d-58f0-4146-a90d-a1ce02403ac3',\n",
       " '2788e76a-a9b0-4b6c-94f9-bb2248de726e',\n",
       " '464a079e-22aa-44a0-b952-77023abb31a2',\n",
       " 'c46fd515-e75e-4417-b234-5753d8f67375',\n",
       " 'f4211bd7-6b9f-4ce7-bd00-faab1f0abfdf',\n",
       " '07712717-4e27-47c2-89c8-24c9f6016bed',\n",
       " '0ce87dac-c2b0-4ebb-8462-e8bcd85bafe8',\n",
       " 'f5e183ae-c0b8-4ef0-b568-623955fd2076',\n",
       " 'a97be195-aecc-4cb6-86a0-2e4a3015f6a9',\n",
       " '01925582-ff70-4651-aa19-fc897cac4d71',\n",
       " '4ea69c87-d1d1-49e9-904e-14b314b50a07',\n",
       " '06861d24-e593-4e3b-9174-3dff51935023',\n",
       " 'aa1971dc-2a69-4531-9b17-05c244925c5f',\n",
       " '2da419c1-8519-4482-a288-9c79b4e04b61',\n",
       " '6a7fdfe6-6646-4789-bef6-a33b2abfb03f',\n",
       " '382bf9e0-3de9-4b75-8976-2c8cafadb55f',\n",
       " '32e8c276-dc04-4d2f-941a-22fbac7cd9f1',\n",
       " 'c945225d-bc13-413e-bca9-3c738d833a36',\n",
       " '156229b8-fb55-4cb1-8cee-dbf9de05ed0c',\n",
       " 'da728faa-fa32-4f43-bebe-ca5ff5815d6d',\n",
       " '3575873d-b0c0-46ca-a91b-855763c9fa39',\n",
       " '8262a95a-835d-4959-b757-6416956e776d',\n",
       " '40119840-57cf-4784-80bf-211a59223065',\n",
       " 'ec9ce84b-e16e-4aa5-a22f-0e83c4c599fd',\n",
       " '79da039a-6b45-457b-93b1-a73cbfda1e37',\n",
       " '56777093-1a72-4063-84ad-06d502e367c9',\n",
       " '18c47bd6-3697-456d-9cea-46116f5b7cd1',\n",
       " '164e8bc3-5e21-41d8-b245-8aff2a9edc32',\n",
       " 'a2890f41-7695-4492-a486-0770f92dd39c',\n",
       " '49f78a36-21c4-4c32-b2e3-83dad5a8b79a',\n",
       " 'fb7d8f04-bb10-4715-8262-bafe62e3ff75',\n",
       " '81439968-269e-4ba1-985c-84edd8cd66c6',\n",
       " '61a01d75-00ba-44e7-b13f-d011bc9cab48',\n",
       " '879e3c52-aa8d-48e6-b1be-c69c14374489',\n",
       " '92a342a0-8941-4af2-808a-68f00151b9d3',\n",
       " '213efa3c-8af1-4150-b723-4069c7739517',\n",
       " 'f535b284-bbd9-4269-bbb6-9b8b21fd5595',\n",
       " '048d0ad6-19f4-4f53-ae82-8938766fe8dc',\n",
       " '5ff47ea5-dae6-4a66-ae99-d6d03e70a657',\n",
       " '3a9c3786-1fc4-44e6-8bb6-27b226751dbb',\n",
       " 'ef1e0121-a7ac-4e8d-b9e7-8f2976a3fdbf',\n",
       " '0c635701-312a-4643-b3fb-90b4ee977dd5',\n",
       " '71092b6d-b34a-4fd6-9d19-f5633e947e0c',\n",
       " 'd3705e5c-eb36-46cd-8bf1-2d04effdde4c',\n",
       " '18b38e34-4115-42e5-93a3-28a74ab81453',\n",
       " 'bc840f71-3ca1-4d66-a945-4d5f656c1472',\n",
       " 'de3a94a6-f3de-4320-a6c6-1352e5f08a81',\n",
       " '22af0f4b-100a-4e7f-9492-00642ab94766',\n",
       " '76266224-ccca-496d-a80e-2644f6f6aad7',\n",
       " 'f976d8a2-fbc1-49d8-a5d3-89d894aeaeb2',\n",
       " 'ae0aa91c-7579-4743-9230-803a3b166703',\n",
       " '31b65d31-fa4c-4455-9f63-d91b17ae2601',\n",
       " '5bcc43d8-82f7-410a-b8d8-df85bb1cc1c1',\n",
       " '7590246c-26ab-4026-942c-e0810db2e4eb',\n",
       " 'f486569d-866a-4597-9e3f-c89dd29f345c',\n",
       " 'cc20fe1f-f34a-4b9b-b8cf-e5fe5d0d2170',\n",
       " 'd40bf358-3741-41c7-8025-567073d99e20',\n",
       " 'ca304812-9d7e-4f90-bbbe-dda435fa6279',\n",
       " '4077c921-82bd-4f15-b3aa-eceda5fd3093',\n",
       " 'c9f17f6f-0a11-4754-bb6c-106d2ee29e16',\n",
       " '5896eed1-0a9f-4d13-80e7-2b6cad236eb0',\n",
       " 'c2ae3610-9415-459e-9d2e-08d737c08edb',\n",
       " 'c89a92bf-b407-40ea-9473-7bb9ec7faced',\n",
       " 'e678cca9-ed74-42a2-a2f8-298ea7787aec',\n",
       " '907514ea-4f12-45b6-a00c-02925430cb1d',\n",
       " '3c137449-674d-4a8e-aef0-7ae4677a50fd',\n",
       " '99f98f14-3fd0-401a-961c-92e990995f58',\n",
       " 'a1396ac4-ba21-4f70-b9a0-939d817a5b0c',\n",
       " '4d06ad92-45e2-4912-94a5-80fce2c01606',\n",
       " '5f32f98a-3e26-4c5f-ae36-98f9dcf8e37c',\n",
       " '01f887e3-0315-42ad-a637-8ec52a6e3be6',\n",
       " 'ee2a0ad3-5520-4a27-b66c-5f96d8e6f3bc',\n",
       " 'ebdb4383-ad39-4683-9073-6e006169bcf8',\n",
       " 'b3c94bcb-f7cd-4c9d-b8ed-db4e1809e41b',\n",
       " '308f93bb-fcc8-4636-9999-5bfedcc8bbb1',\n",
       " '06108e48-ca26-4d32-8351-c1717d644ba5',\n",
       " '449a2b09-b34b-4d58-85bc-a41dbd8a4324',\n",
       " '627fe399-10d7-4b7f-8d37-04a21963b501',\n",
       " 'e3ba2be4-cc0f-4a79-aed2-40803804cf54',\n",
       " '0479c6e7-381d-482d-bccb-d9e00d144dbf',\n",
       " 'd00bf6c6-4031-4db1-8950-82e695ce43de',\n",
       " '9b3a3f12-9e4a-498e-997e-5b58ce3f103f',\n",
       " '1dcecfdc-3714-4611-9066-046e648e907a',\n",
       " 'b2c52f76-3050-4a57-8b41-19c880f6a900',\n",
       " '4ff90371-3bda-4e18-bcc8-af08bc688f0e',\n",
       " '9a140022-f073-4bb5-84d0-e64bee89aa58',\n",
       " '9640ed61-2d21-4d7e-8b6c-b9bab0d29af9',\n",
       " '270bad46-06ff-4d9d-bb86-a359a24cfe71',\n",
       " 'eb8bc61e-d0e6-4071-99c2-325c35139015',\n",
       " '273f9367-8f9a-4ecb-897c-86950ff71e7b',\n",
       " 'b06fc58e-95cf-4893-afb8-78fd2528c332',\n",
       " 'a15d2f8b-4bfe-4200-a9ba-51aa4e318860',\n",
       " '7b712038-e105-457b-9849-388d5aed18a0',\n",
       " '81b6678a-8f8d-4170-8235-0fcd3ab4727b',\n",
       " '910d9cf9-489d-4436-8f08-d71a2425212e',\n",
       " 'def448ac-8408-4211-bab5-fe0f4e1742e7',\n",
       " 'e934e8d3-de45-4564-97a5-aa6b4cd82d22',\n",
       " 'b038af9f-0dac-42fc-8cf7-4f82317ea999',\n",
       " 'd242e478-c982-4fab-b162-8b03a5e8b227',\n",
       " '07a17986-9227-4bd8-91f4-cf10dee0ab09',\n",
       " '9b030902-3886-4b59-8c15-fa1f28aa61eb',\n",
       " '8197a83b-bb87-4c90-bc12-cf2e5cbe4078',\n",
       " '19f9bb32-9eb1-4ecc-9c44-678f91c7e1eb',\n",
       " '550df695-31f8-4934-b532-96e0b3dc39dc',\n",
       " '0009df48-5968-4b51-8461-1f30419ddc8a',\n",
       " '428771ba-dfb5-4241-9a00-f20ee5686453',\n",
       " '116a9e4d-d766-4ba7-93b2-d73582d86e70',\n",
       " '0742b17e-2584-421f-b830-a75e70ea6017',\n",
       " 'ba272118-783b-4596-a08e-17347ef19abc',\n",
       " '3856c1e8-21c6-4184-99b7-f1ad3d3fc47c',\n",
       " 'df804e01-4c65-4f12-8dde-116095c5116b',\n",
       " '1dd1bd16-18c6-4be1-832c-92825bdb9d85',\n",
       " 'f6908060-cf29-4ce7-81d8-d21a6622b34e',\n",
       " '3482c7fe-c5a3-4d72-add1-5d5daa28f27f',\n",
       " '7378a8a4-772d-4f26-8f0f-359447b46ef4',\n",
       " '14aa928f-8182-465e-a5eb-120e186172ff',\n",
       " 'c107a89b-0273-45f7-afe2-8cd2d2e6041c',\n",
       " '76f1340c-e5c8-41c7-bc1d-57f01f2e6a4c',\n",
       " '9f3cfb82-0999-4fb6-91ef-3615c4ee09d7',\n",
       " '3f2a1828-66a3-40ca-afc5-749f8d5c7ee3',\n",
       " '987bd173-9c7a-4a7f-864d-6e2bbfb206ec',\n",
       " '4d2c072d-6883-43e2-8a5c-330a47fa2da2',\n",
       " '568b8560-9921-4833-a7b2-cbc2741abf41',\n",
       " '48f37c20-b76c-41ee-adb3-d20eff8a1cbf',\n",
       " '48b354ef-cc2b-42ad-9305-a3e7a0ff0905',\n",
       " '5f0c64cd-b6d7-4bc5-a10a-c7e6a487e1a3',\n",
       " 'f53f6c05-663a-4403-afbc-b3def51a8115',\n",
       " 'a1c2d94c-e7a6-41b1-8b52-5622d8d8e978',\n",
       " 'e01f431f-2bf8-4ea2-870a-f9c192e48318',\n",
       " '90d6c531-a633-4576-9108-eeec69e70c65',\n",
       " 'c392d3f3-ff0a-4ff7-ab34-459e880f7599',\n",
       " 'faec44ee-b6c0-4586-b7e0-0dfa65ef1646',\n",
       " '93ce9212-6104-4180-a5e0-c1ea6c910f58',\n",
       " '9e98a941-03ea-4a3f-9e9c-16b496b3e1f9',\n",
       " 'ba4ed759-bdcd-4f9a-b51d-550fa9636dfe',\n",
       " '109d484f-94d3-4d7f-bc0a-127b79df5943',\n",
       " '4a37a1ad-3353-4af0-9206-241d875b35fd',\n",
       " 'f5ce0a8e-6c97-4f0b-943f-6434705c827a',\n",
       " '7dc0e034-58b6-4099-b6f4-0249bc1916c9',\n",
       " 'dcf0b8c7-e6e8-4756-b7cf-5242d3c8b6bf',\n",
       " '73684ee1-3ee9-4708-9cce-e230d5d20118',\n",
       " 'f1630c1b-17fa-456d-b3e2-ab81f8fddc28',\n",
       " '7051a5be-a3c1-4bdd-90f8-a79e77dea36f',\n",
       " '9b3fa64d-9d97-4a53-8ecb-de6a8edb6f8f',\n",
       " '18ba0f6e-65a5-4759-ace6-6b9b1099e784',\n",
       " '8e04b53f-2243-4993-88f5-3eb9f58ccdeb',\n",
       " 'edc7a454-61ef-45aa-8c05-ce7c0c7601f2',\n",
       " '6e214d5a-4316-4a6f-983e-9b0a9cb3e597',\n",
       " 'ae2208d2-7482-48b7-a3a7-460306e3265a',\n",
       " '04dd582f-38a6-4038-8a7c-7b76c75e9c97',\n",
       " 'c735a2dc-8734-4d3c-b26d-5f802bf8917b',\n",
       " 'de6461a9-238b-4034-89ad-3419ecc11f5b',\n",
       " '50b1a0b6-72ac-4aa8-a4d9-cc1f47e0815f',\n",
       " '55478127-04ae-494a-93c8-3106f06ef735',\n",
       " '7ff56a05-981d-4715-ad7e-4281216b556d',\n",
       " '58df3aa4-c7e4-4890-855d-8fa4038a9ebc',\n",
       " 'b84269b1-7475-4ded-b1b9-43e6f043a144',\n",
       " 'de943adc-7b42-4c48-afeb-c4a654e71069',\n",
       " 'b6bac982-addb-4cda-bb2f-6d2bc36eb3f7',\n",
       " 'e693a25f-d8ef-4a78-99d4-de1ff76c978c',\n",
       " 'c163379d-39e3-4e96-918a-3ec619c3ee0a',\n",
       " '5d54d13a-6879-4160-a884-ea6457a1d7d1',\n",
       " '8cf00312-6eea-4b4c-a50e-90a450ff0cba',\n",
       " '2030a073-0346-4266-bad7-e70bee2cf618',\n",
       " 'e51465c3-71c9-4eee-92eb-1b191a6a4237',\n",
       " '94dd4016-a17c-47a5-82df-55b2d31cb658',\n",
       " '15f449b3-ed5d-4905-8d42-bb8f4e0ecdca',\n",
       " 'ba3a6b1b-5e8a-49c6-ab8e-b93de98d4b9a',\n",
       " '1c5d9f37-8de2-4b89-939d-23aabd7c91a9',\n",
       " 'd763f475-a798-44f6-9a1c-784f70b924f6',\n",
       " '93a5e54e-30fd-45a8-b0f3-996b2f72e343',\n",
       " '2d7cb80b-061c-4255-9310-6fc6be35a602',\n",
       " '972531ec-7dbc-4a9a-b098-177059983817',\n",
       " 'd30a96af-eccd-4d70-845e-f83f9afa1c58',\n",
       " 'ddf4c14c-4d7e-4a90-a405-4c68ddca7c54',\n",
       " '0b5e6410-3bc7-4ed3-9a87-0fd660a85261',\n",
       " '861a279a-6c0b-4750-866b-e485d77d0bed',\n",
       " '3853f158-33d5-4745-b5a7-b908eb17ab9d',\n",
       " '28afeb25-ea00-429f-bde6-4cbfb906c781',\n",
       " '0254de21-49a1-4e35-b4f4-3108dfb807ce',\n",
       " 'b4070fa1-b2c8-42f2-aaac-27177aed2d03',\n",
       " 'a0c24bd7-9ecb-4eae-aedd-87c32737e71c',\n",
       " 'cda1dd0a-d513-44e0-8145-73c31f78757c',\n",
       " '6f142fc2-0818-42c9-9bca-0545efcd027c',\n",
       " 'cd2e00d7-2b09-4583-9a53-4dc886c93c8d',\n",
       " '7ae3eace-ee9a-4e3b-bc89-1f739f2958c4',\n",
       " '43db48a4-4b99-4a6c-bc2c-c25d722da86b',\n",
       " 'ba50d8be-ee74-4828-aa51-b6eabddf6204',\n",
       " '5a9a0ddd-7e8c-495c-aafc-f5b87ada5259',\n",
       " 'b2d2b89b-777c-49e7-b63d-07c1a7ecfeb7',\n",
       " 'd03bd5f2-c13b-4ea1-bac5-fd4404e39421',\n",
       " 'f0a88cf5-469e-4f45-b469-3ce70b4b2c13',\n",
       " 'f1a5eab6-43cc-43b5-9f8b-5622e2af1cb8',\n",
       " 'd52345dd-f120-4bf4-be5b-70a8645c3847',\n",
       " 'f0fc7afc-50d0-49d7-9062-f43ffec73f60',\n",
       " '088b54f9-c23c-445e-8722-eaaec4e77405',\n",
       " '03fbd1e0-a874-40ad-8541-27f2c4686bf7',\n",
       " '106bdae6-d501-47c1-8821-da0d7dcdc403',\n",
       " '1c452007-2d3f-47b9-9168-068ef85a4c93',\n",
       " '5680f3c8-edf3-4294-a7f1-c0b1626f082c',\n",
       " '9c796aa3-af4e-4dc7-98b1-91dc85d9d8cd',\n",
       " '8ca21c4a-5b27-4cfd-9024-8dcbb7354736',\n",
       " '46351023-03d8-4b2f-a4aa-95bb2b0a9a6e',\n",
       " '9e7720df-3362-4535-b635-2ec3bf06d45b',\n",
       " 'de907db2-7ddf-4574-9bc9-c4ff5fbe901c',\n",
       " '1ef9da86-0831-4c76-8363-7cf68931897d',\n",
       " 'b0a6c54d-6ffd-47d6-9d0a-943efe4e81c1',\n",
       " 'a5bcc98f-66b9-4d7b-96ed-011505aa70f2',\n",
       " '4c56c2fa-a6ae-40ce-916d-ad81a274bf1f',\n",
       " 'f234730f-37de-4c65-824b-b310c698797e',\n",
       " 'cb669966-3f1e-4edb-bdbf-9a0240e3a14b',\n",
       " '894361f2-5470-4736-b253-844f599ea28a',\n",
       " '40fd63bd-521d-4ac5-a12b-8a31867f7f04',\n",
       " '780041d3-2c2f-4eae-8e72-94be0e5ec1c5',\n",
       " 'ba05822c-2d8d-4827-815f-3b3e0c071a9a',\n",
       " '8befd053-1a2c-4cea-be2f-98a6ece37c8b',\n",
       " '510f58e2-92d8-4e9f-98dc-9b62e0853253',\n",
       " '2291eacb-e6b4-46b0-8779-2842d4095e2b',\n",
       " '1b3c52b3-0f0e-4a74-b428-38265648563a',\n",
       " '150556f2-5f25-484e-9a21-fca2bd1d82b2',\n",
       " '749630b0-ecba-4edf-9dad-6a137dd3d7c4',\n",
       " '9aaeffd7-0fbf-4e0b-a347-d76291bb0481',\n",
       " '92468b78-48bc-4d99-aac5-75199278cad5',\n",
       " '7b698647-3d64-4d00-bcdf-82f6b805bffb',\n",
       " '85f54478-567d-4239-b9ff-9a81910a1fc0',\n",
       " 'c771ae99-e753-4c0b-ae2c-6b84f80463bf',\n",
       " 'be2266f5-2214-424e-82b8-7412a8925fbf',\n",
       " 'a81e5cf6-53dd-4d60-8841-45c7a9a1f9b0',\n",
       " 'ea624e34-160b-4e65-a195-ceea5dfb1327',\n",
       " 'bf96f973-24fb-4b0e-a9cb-f687b9e658bd',\n",
       " 'a07e9467-955d-447a-93f7-4a4ed194953d',\n",
       " '218fc226-548f-4301-9f12-daf096d2080c',\n",
       " 'fe2aa188-e91d-4dd1-b2d8-cd222690e8bc',\n",
       " '859ccdaf-679b-4991-b4b5-560aefa10a80',\n",
       " '20eb00e2-a063-42e9-a5b0-5ec3f8a3e3cb',\n",
       " '8c4d6e7f-193e-4b81-90f4-082a40eb5743',\n",
       " 'd7c2fa78-4e8b-4150-b786-83dec01fd9be',\n",
       " 'b0b8363f-b92a-42a2-81d5-41c016e437e1',\n",
       " 'c9f40b3b-8139-4668-be8f-786ac87ebe9d',\n",
       " 'fa4f5f09-0f2a-48c2-af4f-de5b83edc35e',\n",
       " 'a2664900-9fc9-423c-80e6-1d32d6801f8e',\n",
       " 'e581ed83-402c-477a-b335-84ca15200846',\n",
       " '5497da54-74db-4e8e-a04d-5e00ef160d5d',\n",
       " '155a9186-ca84-4525-a49c-e6350aa201eb',\n",
       " '9c42e230-2ea4-40d8-acb4-90cbd2563353',\n",
       " 'fa3fe8a7-9a70-4d26-9c73-a99d49ca8018',\n",
       " '0ca88d1f-11ca-4766-a39a-704099b3b866',\n",
       " '6c01bded-980a-4856-8fe0-7c21fa98992c',\n",
       " '51cde15b-5cce-46e1-913d-eb95731b588b',\n",
       " '8d0ed8e8-97fc-4146-ac6a-2336ee85d1e7',\n",
       " '23fac0f7-ee52-4e87-bd20-0cac4412c21e',\n",
       " '5b2446a1-79b3-42b2-9dbd-f1ec43235110',\n",
       " '4778ab40-fd46-4d53-9e99-130a3b4a9a27',\n",
       " '0d66d6a3-1aa9-4687-8b53-975d31406827',\n",
       " '07b1bd33-3a0c-44fe-8e2e-4b0bb6f8b7f3',\n",
       " '8e51f63c-3db9-487b-b785-546563375d4d',\n",
       " '067ef747-aa1b-4b4c-a926-c428e0b5c75e',\n",
       " 'edd251b3-f15c-4f71-916b-a7e9a4d60010',\n",
       " '30221912-a5dc-4ac2-a686-175a0838a26f',\n",
       " 'c8d49b44-bceb-4968-b854-c6199a208f57',\n",
       " '92f4d7a6-cbac-47a9-adcc-f546e5a10d47',\n",
       " 'e1150a10-17eb-4a92-a26b-f2e897b3bee5',\n",
       " '687fc93b-6cac-4037-8de1-58a5f85d5cde',\n",
       " '6aa0f988-66fa-4567-8e52-2de5add34894',\n",
       " '70a75b3c-a252-4670-99ec-17c753039399',\n",
       " 'dea48cdd-e751-42b4-b727-bf8a38729a33',\n",
       " '0cc22a4a-e9fe-4434-97ed-922f0e7bf06b',\n",
       " '2e371466-b04b-4fb8-bd95-5044b6f28f36',\n",
       " '37dcae7e-f2d0-4a59-9c67-59730512a1e0',\n",
       " 'f29087c7-c476-466d-b1bb-468b34e744e4',\n",
       " '741e014e-dd32-456d-8884-bf3bab017086',\n",
       " 'e4032127-d39b-4c48-b78c-2bf45904aa1b',\n",
       " '70f408d5-67ea-4396-a516-f0dbe1833131',\n",
       " 'cbe18a2f-0eb1-4d10-b5e1-9370cbbd18a9',\n",
       " 'ab212e68-9132-4f66-b4bd-9843f79f824e',\n",
       " '6e1e3e7d-9c06-4d3a-8e67-249fd5481f54',\n",
       " 'f3fd464b-c994-4ae9-bc74-4d69e3b7516d',\n",
       " '3415c60e-08d8-4004-9956-e519e219bc0a',\n",
       " '387f1fc6-446e-4232-9f61-967e29887529',\n",
       " '0bfd2b35-9cd2-4396-bf8f-217a1a36092d',\n",
       " 'c56c697f-c912-47c2-97f8-e3440a651746',\n",
       " '7f5cafd9-1e56-422d-a80b-315674fa5bb8',\n",
       " '9d5ded0c-d584-4ed7-9177-0ed816e6ad26',\n",
       " 'b2c2f19f-f02a-45c1-818b-355aa13f426c',\n",
       " '1ba2a8a1-aac2-458c-b973-5db6c3bd0854',\n",
       " '29b49070-46d0-45bd-8049-9f7e309825e9',\n",
       " 'b055ece5-3206-4bd3-a228-314f23c02826',\n",
       " '68bd00eb-911b-41cc-a14b-bc2ae39fe0b0',\n",
       " '759fae35-9801-420d-b042-847a98730974',\n",
       " '5f5c75c9-b0bf-4312-beb2-26784aff7d7f',\n",
       " '11c89448-0be8-49a8-8326-4171b1559ddd',\n",
       " '255d2cb9-ea22-44c3-aa07-52b121ccbbf2',\n",
       " 'e1d25fd6-ab49-4057-8ce8-811dc4d2108e',\n",
       " '5a7c33b3-b52b-49e2-bef0-b946c1613bde',\n",
       " '5bedc693-7a58-4d5b-9c7d-10659251ac7c',\n",
       " '8947ae65-12b4-4676-ae7e-3fa9c43ea747',\n",
       " 'f245e202-5cff-40e5-9662-3599c5b33b8a',\n",
       " '4ad16aef-d553-4613-86da-48dd1de62f4b',\n",
       " '80086091-a1e6-4df9-8f51-b41d229d6235',\n",
       " '6ad3ea06-0689-4785-a01e-c07d65571606',\n",
       " '7580b23c-c4bf-4e52-9867-1b30e3a251dc',\n",
       " '22b88eb8-836b-4b5d-964e-4e3161cbe98a',\n",
       " 'f3aea22c-0011-4d0c-865f-b085daa08271',\n",
       " 'b75ec35a-5777-487f-926c-167b59d451ec',\n",
       " '66973fda-4f0f-41db-8c27-bbc3cb785b99',\n",
       " '6b9a6226-2af9-41b6-98fe-1e0c056b5892',\n",
       " '321f4861-84db-4090-9eeb-350edc250e61',\n",
       " '3294cc22-6ee6-499e-b782-daa6daa78da3',\n",
       " '2afab327-c706-4133-bda2-cf347691eff5',\n",
       " '2f37ae72-6e7d-400d-98be-ffe9f70459c6',\n",
       " 'fd5e95b4-9912-4d75-bd90-f1230967c41e',\n",
       " '18f31252-ad21-4be7-9dac-d1f902b4f050',\n",
       " 'ecfb9ec9-e9f4-406f-9dce-41c84dc4eed8',\n",
       " '9ddcd242-372f-4a15-874d-130e326669d9',\n",
       " 'ba8d7d8c-b75d-4b13-88aa-2129bbc628a4',\n",
       " '46345212-5e85-4ae2-8218-bcd797e85a22',\n",
       " 'e2e3c389-8b79-45ac-aabd-e89c79970a31',\n",
       " 'a3d3b8fb-c2fb-4f2c-9019-10b5d3d898d0',\n",
       " '94307e7e-c7e7-4e89-998c-165443527ecf',\n",
       " '880054e5-7c17-46bb-94b6-3a76c6b64615',\n",
       " '09839adb-7414-4888-9b6e-574fe6feb5d7',\n",
       " 'd1f67ab9-4a83-4deb-b4b8-020dbe183565',\n",
       " '58819f09-0f24-438e-843e-9155c9e66d3d',\n",
       " '9b152ccb-1ebc-4049-8cb6-ffc82d09837b',\n",
       " '44642231-2255-4a00-bf47-c3bd84a24156',\n",
       " '893539f0-9d13-4ae2-9cbd-b065261031e0',\n",
       " 'fcee6c11-229b-46a2-9261-8d11161b17f5',\n",
       " 'c4d35920-a250-4e2e-89f1-13e5ec4cfe79',\n",
       " 'db15e9ca-25b5-47ec-a2b5-bd64e26ab443',\n",
       " 'a7d2e044-8f2f-4385-bf30-014156eed1b9',\n",
       " 'efbefe80-4b3b-4c3c-96d1-ec04637abf97',\n",
       " '4b01c258-6c5f-41c5-8fcf-a412db8b0f26',\n",
       " 'd944cb3f-4ca9-4968-90cb-e27c8d039bdd',\n",
       " 'bfacca69-2284-451d-8275-9f8f36433c97',\n",
       " '9674c1c6-08aa-4a02-a28b-719a5caec941',\n",
       " 'e8172af0-3f0c-41e5-9980-a0a93bbe2abc',\n",
       " 'ec4c3320-e92b-4a2a-95a3-8346fa170367',\n",
       " 'ee463c4d-6765-494b-a974-029d938bf61b',\n",
       " 'e76fbdf4-51dc-401e-930c-f4dd8a58bb18',\n",
       " 'f4a7be31-b02a-48d9-b6ed-1a3243601f5e',\n",
       " 'c28a8433-0a70-4672-941c-b6d23e5c9db7',\n",
       " 'cc057ffb-df40-41ef-8fcb-dc9994032b28',\n",
       " '588b2b9e-d55c-4cc0-80b2-a0a68af77adc',\n",
       " 'f4f9c5c6-bbdd-4d0a-9dda-e6cb9b7ec8cf',\n",
       " '67c8c023-ad48-4e2c-93e1-072782573eea',\n",
       " '4d5ce956-2a7e-4a28-8ff8-10dbedf5b0ce',\n",
       " 'ad1908a5-1b0e-4736-9d79-1fdd5abe0a47',\n",
       " '145e1e84-5b33-4396-874a-ed4c1af1ce8f',\n",
       " 'df9c3757-fb3c-4af8-bf33-81a2e52b7234',\n",
       " '24e42dd3-f976-4445-b149-c3dc2b872b91',\n",
       " '53a3472f-12a6-4f87-89be-c71753eae24a',\n",
       " 'a3c15a9c-2454-4d38-8bc4-30f6e37313f2',\n",
       " '009c0774-d185-4fc3-95ce-cb1066ceeefd',\n",
       " '9d80f1df-b93b-4b37-aa79-bbc86ae50927',\n",
       " 'fe4e8bb2-0b8a-44a6-abf7-3998a4881788',\n",
       " 'a2a2a923-31c7-488c-bf28-4f5a3f9e7a6a',\n",
       " 'df2fbe5d-3aa8-47f1-b081-b2c1b380d44e',\n",
       " '42a54621-2414-4896-bfca-f20c1b0460a0',\n",
       " '60c49e39-72da-45f9-ba0f-183f38e3d263',\n",
       " 'd292d2db-ff66-455e-8b3b-9e733756b6b4',\n",
       " '18b2d013-0d20-4e4c-9978-311819fc6f5d',\n",
       " '8d44f009-552c-477d-8aa0-ed84b301fa15',\n",
       " 'd2661d55-7c17-4d49-b7ed-3699467d5d77',\n",
       " 'c79c08c8-a436-41dd-b811-0843ca7b0c46',\n",
       " 'ebf6ab23-1714-436a-99c7-e1c143ef488c',\n",
       " '839efb42-a2f4-47f3-95fc-3781caf5f7a3',\n",
       " '0b97c5d2-fd21-42c8-a39f-2598ce612729',\n",
       " '5d289669-d091-455e-bd3c-13c7a503f549',\n",
       " '73a21d66-2911-4daf-90eb-7b97f983e810',\n",
       " 'dcd2c948-3f93-429c-ab48-bd2c918767a5',\n",
       " '29e02e7f-9148-4194-9e63-1f908d0c31be',\n",
       " '65fc1e88-bee6-4755-b1df-df818a205aae',\n",
       " 'e9ff60e3-c8b4-49a7-85b0-b406b3300d75',\n",
       " '7b8d7f76-bd43-4195-bf9a-d0d993ed2608',\n",
       " '2d075956-16a4-449b-b563-164f63e93a75',\n",
       " 'e4ba5b70-824c-4022-aaf0-952b02713e3f',\n",
       " 'adfb545b-75c8-4a0d-9599-7bfdca201caf',\n",
       " 'de6716d4-65d2-4139-9979-10e13096c538',\n",
       " 'bc39efc8-6823-48f1-ba63-686c6cc7fdcf',\n",
       " '0e81fdaf-a50e-4a5f-ba3f-8caf68d9b2ab',\n",
       " 'ac21e2c8-4b3d-44e3-8b91-3bcf2945f7b5',\n",
       " 'f567199c-f9d5-4124-8fda-0e534d94fd23',\n",
       " '64093b01-1299-4894-81be-67ee3891b7c5',\n",
       " 'f67c4012-14ea-4c8e-9260-e5c388232e3b',\n",
       " '18e1671c-fe44-44f0-9d79-c96de43e825b',\n",
       " 'b2eeafbc-4259-4875-8fbb-50ef9b1d7e21',\n",
       " 'def3e072-bc4a-4b17-a2df-382eacbaaa3e',\n",
       " 'fba481aa-cca4-4c10-833d-d4c8721b85ed',\n",
       " '0c765ba3-b8ba-4b0d-8d05-d779fdeaeb68',\n",
       " 'c25a0e42-2e72-44a5-9512-12b1a98838a3',\n",
       " '87743c0c-64e2-430c-a1a8-9454c5a18f4b',\n",
       " '04efcd1f-b66f-4bd9-af61-6e75c5cf74be',\n",
       " '7ba81134-fa37-4b10-aaa2-0d9dbfbbc73d',\n",
       " '4e16c210-49ec-4703-9232-6847bd35defe',\n",
       " '786379b0-92da-429b-835b-0dca132a7d71',\n",
       " '07d7b31c-dad3-4ac7-90cf-5dfe82f980da',\n",
       " 'd9c2f4f9-2856-4ef4-bf2d-bbce3b98c79d',\n",
       " '56107798-f85a-45a5-89de-1b845bd43ac6',\n",
       " '44cfddd2-8d9a-4465-a26b-e454bf2c2007',\n",
       " '8679a2bb-6e0d-423f-b974-70e8bcb15b54',\n",
       " '81ebc4d6-0405-4d3f-838b-90dfc4ead748',\n",
       " 'eaeded42-6c78-45b5-88e4-88b5960b7edf',\n",
       " 'fb798329-dfcd-429a-807c-d6f18b593b82',\n",
       " '27f5e48f-a308-44be-8dd6-0772b77dfe6d',\n",
       " '4cad59a9-ea52-43eb-936b-03bf51e3df4f',\n",
       " '360791c6-c71f-412f-bc6d-7c61cde71c7b',\n",
       " 'c14c4e0d-e4df-4552-ab64-e06a188a4944',\n",
       " 'fb4b120b-e0fc-4232-aab4-047dbb6efac8',\n",
       " '1c872c02-9e74-4865-8771-e313ea9cae1e',\n",
       " '6ef2508f-04d3-417a-bcf2-bc01a1f3b78b',\n",
       " '8245f7eb-4c83-4ac3-a5fb-80959f99968a',\n",
       " '553026f0-f089-4097-83e5-4935603986b0',\n",
       " 'acf223d2-1fea-4518-8ff2-88e3ce08dc5d',\n",
       " 'a81d3682-8e42-4fee-a708-9328c2c6614d',\n",
       " 'ad3a7d3c-c552-40b1-a2b8-f1d0eedd663a',\n",
       " '3e73e896-ea68-4ccf-aeea-8c0d4e760dd4',\n",
       " '5d93d0e4-8575-4dd9-ae54-fa500a7e7d38',\n",
       " '7271717f-664c-47b2-bf09-12e5baa80fda',\n",
       " '8d426181-1a0a-426e-a462-2dce3dd390a6',\n",
       " '935f8212-3f3e-4818-8a70-bab25ca1c71e',\n",
       " '70751b62-3b9e-42b9-989e-29ab5e69dc2a',\n",
       " 'bf442bc0-ddb8-49c6-9529-62f9d4b56c74',\n",
       " '12ba2e29-ab6c-48af-adbb-05f0e6bb79fc',\n",
       " '153cc750-42fa-4bab-a0af-e32b602ea2b3',\n",
       " '0585926a-68d0-4abc-94d6-ac1c54c7d231',\n",
       " 'b805242c-26eb-407f-9df2-369ccc198061',\n",
       " '06375a1e-d6fd-4560-9e4a-985b6022458e',\n",
       " '5497efbd-630b-4409-8a8f-e2d1a181e628',\n",
       " '869b625e-34b0-49b1-bf33-5cd481d6c224',\n",
       " '80f8458b-2fcc-4944-9713-4b1bc1155086',\n",
       " 'b2498b83-7ea0-481e-85c9-8cb0bd21fc7d',\n",
       " 'd0f23ee3-a8a5-44d1-82d2-c3c3a91a1768',\n",
       " '7d6cecbd-ca3f-4bef-a7e8-cc77b82f412d',\n",
       " 'a9e9bdbb-8877-40cd-994f-993213066d99',\n",
       " 'a0ce38c1-faeb-4e57-b661-e34fcafb453e',\n",
       " 'b9f7b18f-8969-491f-b18a-07a3fe2e487a',\n",
       " 'd5206902-16a4-4fcc-9b53-1b207048bac1',\n",
       " 'c6d60db3-3045-4930-a1bd-feabbad2622b',\n",
       " 'b4b1ab69-c301-455b-84dc-fae08ac4d5f7',\n",
       " '0698d675-4546-49fc-9f6e-823a4b68d2e9',\n",
       " 'b8e2cbc6-9220-49c3-a0d7-d431fa4dc2b0',\n",
       " '8b9592f5-98c2-49dd-9449-7b9478cf3303',\n",
       " '5b6b5eff-1d40-4078-a155-384795d39510',\n",
       " '7bb9f35c-ead4-4d57-ac3e-3de73788205f',\n",
       " '9dc433c0-e673-4c86-a189-46756e7af790',\n",
       " '3dda73b6-0314-4790-8279-49801c3e83ff',\n",
       " 'd8bb0130-2236-4b65-a3b7-b7b15e8c3b8f',\n",
       " 'f1f3163c-6485-47f3-bba6-ba42aac0bb93',\n",
       " '3ffb7494-9e02-4736-bddc-333d225b055f',\n",
       " '59d02c1d-fe14-4151-a323-bb0b2d371be8',\n",
       " '417a25b3-f5bf-4765-b798-f466be094d0c',\n",
       " 'acc8fea4-dfd2-4b5a-89f6-b946c4b067af',\n",
       " 'e3728ced-e083-4174-9fd0-0afb37663508',\n",
       " '750d3a8c-9fa6-4b02-941b-87d8ba08c168',\n",
       " '8157b03e-cbd4-44fa-8529-2aa9884a0048',\n",
       " '858dac2d-e399-4aa8-92aa-b801e8ed2416',\n",
       " '89308e69-78e6-42c6-a02b-3eb27d292804',\n",
       " 'd441454d-a489-494d-bbbf-c8238fbf2950',\n",
       " 'a36515b1-d3ae-41ff-b9b4-1ab6c734286d',\n",
       " 'ec4324e6-2301-404e-af82-c10e28cddce0',\n",
       " 'b23ae5a6-6284-4903-9048-f825117b566a',\n",
       " 'b372bc58-cbf3-4d8e-9fb3-6945879a0739',\n",
       " '5b1d120d-3b07-42b3-a6d7-920df0968f4e',\n",
       " 'f256c280-3eb1-4e58-b711-d048d20d1d74',\n",
       " '0c54ea82-1baf-4a54-af54-71b7e0204669',\n",
       " '6198a773-5d86-4491-a236-6ed47ff36ad2',\n",
       " '26ebff9a-cee8-4808-b8bd-69d4d45436fc',\n",
       " 'dc52099c-c60e-460b-b5e5-bb555788f07e',\n",
       " 'b7bba47f-0eaa-471a-ad47-584c59b90a15',\n",
       " '74f25abb-13b6-4852-8ed0-fc3fd57740ac',\n",
       " '9869ab3b-60f1-4b43-9371-0f04f7aa987d',\n",
       " '19fdd58f-41a9-4d30-b014-f76d6b92614f',\n",
       " 'f1bec103-dd61-4a0f-b496-809e58392a6b',\n",
       " '5cd1dd0c-88d6-4a08-ad42-b021bcc4e60f',\n",
       " '7d26c60a-7246-41b4-9b46-a81c8d1492e2',\n",
       " '2adb5547-2621-4815-85c0-1b45020ab10e',\n",
       " 'b68e1179-2375-4591-ab3f-e0166689d44e',\n",
       " 'ea39151d-0b87-491a-a3ff-aefcc68afece',\n",
       " '97b17f56-7c99-4c54-bc1e-fcc22d9988bd',\n",
       " '1fdf79a9-f566-47cb-82df-02f31c089400',\n",
       " '545e0f6e-e94a-49e4-9354-3406d3dcb32e',\n",
       " '17d9dab4-fe92-4517-80c1-836d9631314c',\n",
       " '36454b8c-fe83-4b44-b0b4-f3153aafb234',\n",
       " '17ec40dd-4627-4bc7-af2b-b4cca92a9500',\n",
       " '041c37c5-913a-4304-815a-f873940f59bf',\n",
       " 'd4988952-db04-4fe1-91c3-9e7bd6dc8ec2',\n",
       " 'a8595896-2215-4ed3-9597-af03993515f7',\n",
       " '7fe2d0d9-44f1-4f48-a473-232ef6211fce',\n",
       " '0b08ba50-1aa1-496a-a308-dd75a92642ef',\n",
       " '9adbe7fb-f85b-46bd-a4d9-7b70508692ca',\n",
       " '4b19c934-d64a-4229-a951-dd65fcb3c525',\n",
       " '3607db14-27c7-424f-a95b-feaefd731be3',\n",
       " '00f39fcc-4847-4475-bc4f-ba3f7aa58333',\n",
       " '7b66b4ac-1c5f-4eaf-95dd-7de67a8cb4ca',\n",
       " 'f6d57880-47f5-49ed-8765-17eafcbb9297',\n",
       " 'ee18f04c-e6f3-4b2a-85d3-99e3c1284762',\n",
       " 'd64c811d-39f7-4ca7-95ab-db27e630a612',\n",
       " '13a899d2-6938-49b0-8f79-691d33cbfa41',\n",
       " 'bebf8271-bbc7-4dab-b272-2e8d0f299967',\n",
       " 'c7b9474b-03c4-4029-9c38-acc0a152f3d2',\n",
       " 'a1edcb27-b13f-466d-9dce-c6533d6b061c',\n",
       " '7a984c55-ae1d-41ce-b11f-c2b96f61978c',\n",
       " '6e35529f-1d39-4ba8-b018-158cfd288dbc',\n",
       " 'c60d57fe-7608-412c-8753-fcd21046a086',\n",
       " '096b734a-b9de-4caf-bd50-f8380142a0df',\n",
       " '5254bdd5-8821-4c76-b5f8-10a7578e48d9',\n",
       " '188265ab-d54c-43a3-a83e-7e620725a58a',\n",
       " 'eb25aab6-108f-492a-80b8-a3ab528de38e',\n",
       " '562ddeda-0f4d-4bb7-a83f-ce2f6976e0bf',\n",
       " '892d81a1-1c50-494d-8995-4639586966c2',\n",
       " '92f44855-2962-4516-8299-651bbb533a1d',\n",
       " '8fe21c3e-761d-4756-b46a-f417dd5a4217',\n",
       " '5cd20ce7-3cad-420a-af0d-a27521eaa3a9',\n",
       " '2c438d5b-e410-47f5-992d-1eb1784dee6d',\n",
       " 'a79f5e35-90c2-49d5-bc43-726dd902ca27',\n",
       " '8f1d7978-b99c-40ff-8ed9-bcccdda451ee',\n",
       " '8b59ad8c-ebf7-44c5-81e3-0dd234ebdc78',\n",
       " '99617e76-b862-424d-841c-48ab7420b1d2',\n",
       " 'def45c36-7ea8-431d-9d6b-16c839bae38f',\n",
       " 'e5198dda-81af-496a-8b93-4752ea10c53e',\n",
       " '3664ad29-c984-4c26-ba22-d3410c3c023e',\n",
       " '8bdab6d8-dfc4-441d-8e7f-24cbd247e0f0',\n",
       " '8ada2079-523c-4645-ab85-06497073c66d',\n",
       " '30e399b9-3d56-4e28-83e3-e9290c339e38',\n",
       " 'b8231987-1f6b-4342-afc1-ca505798ecfe',\n",
       " '70049fdb-7ea1-462f-9f3f-3e1ed87c85d6',\n",
       " 'baf28eaf-0e3b-4427-af3f-9f6276c0b5c9',\n",
       " 'af2bb686-2ecc-4ac4-955f-08b3523a76ba',\n",
       " 'c1a2bd57-2879-4b8f-9dc1-2873cdd1acbb',\n",
       " 'f489d343-5961-428f-9177-d9a90233c6d0',\n",
       " '16ada0f3-1774-4647-b559-7d90b5767d45',\n",
       " 'b49cf477-bb7f-4e08-8273-37ec54e2e975',\n",
       " '75a502eb-cea6-4eef-a590-3a264ac9b005',\n",
       " '9fe3db33-0b21-4009-901b-a4114db96d7b',\n",
       " '2dad558a-b8cc-4502-975e-2b81511c1d53',\n",
       " '5ab58f5d-5a31-4ccd-9468-151bcf753c71',\n",
       " '60d0adf0-88d8-4b0c-8668-92778c81faef',\n",
       " 'c1253dd9-4355-475d-87ab-30693bc036b3',\n",
       " 'cf67b797-ec67-4b37-949c-7de75267e149',\n",
       " '7751d73a-0295-457f-9d07-8dd674f103d4',\n",
       " '9125f1af-2f3f-4343-8efa-c08ba5ff1c61',\n",
       " '353d964d-2989-4131-9b84-e62d3e18a30a',\n",
       " '63e415d8-3ae8-4657-af83-b3ecc11ec348',\n",
       " '56bcca1c-e25f-493b-85ef-9ba0fe594f6d',\n",
       " 'f8cb44be-c8bd-4670-b6de-ded27a5dbcc8',\n",
       " '99a1595a-1f3a-4f04-95e7-ec03c90c344f',\n",
       " 'e33c3178-79bd-4e68-9582-2c186b9c5f2b',\n",
       " '390fca0c-7ea7-4204-8f96-9b0796ef47e9',\n",
       " '4a0540d4-5ff7-401c-bc3b-d04e876cdc7e',\n",
       " '158fbd19-0a20-405e-994b-4151d02d2812',\n",
       " '738341e6-4d5f-40e2-8ce6-cf68a3cb5257',\n",
       " '2076bcfc-600a-4796-999d-35c0f5e4e61a',\n",
       " '28005af0-80b7-42f5-b804-69b8a10e739a',\n",
       " '4a72e378-391f-471a-83c3-b017b613fbaf',\n",
       " 'f805bdd3-0dab-48fc-b153-a4ae519e875c',\n",
       " '4e83ee86-0479-436a-9a91-f1fede7433ad',\n",
       " 'fb0ca9db-235a-4ab9-914a-55a98c75aa21',\n",
       " '9cd2ac02-8d88-40af-aa3a-d87fa251df8d',\n",
       " '1fe4cdf1-a5be-4632-adec-9cac1713a767',\n",
       " 'ba47bd27-1a1b-488b-9d0f-94a90eb31009',\n",
       " 'bcfa2a33-cc4a-4138-8ee0-7c30aac6116b',\n",
       " 'b7f92755-3a09-4278-b023-284fba610cad',\n",
       " 'd6b10f62-fb23-4538-97ae-badc467c5c9f',\n",
       " 'b55f70a0-36e5-4a8c-9772-7ae8f07ae3fc',\n",
       " '313a623f-dc73-447d-93f4-632a5132dd92',\n",
       " '28ebe2e6-cd63-4e07-910d-381449b1111f',\n",
       " '23f4e339-1f44-4ae1-be44-f00a6b86bc50',\n",
       " 'b62707f2-385a-44cf-a7c3-ec7f4852f49e',\n",
       " '09a9c88a-0bd8-4142-ae2a-13d22ddac31f',\n",
       " 'e00d0f00-5420-4e7c-aafc-5df1891b21b0',\n",
       " '600e286e-d041-4833-88c3-9b4b7279d31b',\n",
       " 'fcf5a7b9-12fe-42fa-872b-6ce498009b7a',\n",
       " 'cbe0907c-af45-4f4b-bc5c-6cf3ed22ffb0',\n",
       " 'e6e800cc-775f-4c99-ab49-f06f9070c44f',\n",
       " '3a2351c6-a005-4576-83f4-48f61b115599',\n",
       " '2afe27fc-63d7-4bf8-9cd1-c546cb179146',\n",
       " '54c1a1c6-cf4c-4438-bda4-87b01ab8604e',\n",
       " '87b7e8b8-c639-4f29-a070-de210fa6144b',\n",
       " 'd7793127-be72-44fc-98a5-96a26e33afbe',\n",
       " '43929b11-692e-46b1-aca3-edd253ef7ce2',\n",
       " '0424fa53-5323-4816-b0db-52cbcc2d9955',\n",
       " 'b523c74b-5f03-447e-b913-e71c6ad43951',\n",
       " '987195b5-4116-4869-9ddf-537a9c82dfc2',\n",
       " 'b8779d7f-c67a-4a10-a409-b663a0ecea8f',\n",
       " 'bc0ce9e0-7697-4511-b2a7-145131d09461',\n",
       " 'c833059f-030e-4726-8248-184a58947576',\n",
       " 'e4620cdb-c8eb-4e69-b44a-83c84a2068bd',\n",
       " 'ddfcedaa-aafd-49fa-a6c5-4a8770d1be3a',\n",
       " '8e79c9a3-c2c7-4c30-9001-aae7da0b6d32',\n",
       " 'e40881fd-70ee-4eaf-9a57-0cbf2ca3f93d',\n",
       " 'd02eb4a8-08ef-459d-961b-ce2ba1f78efc',\n",
       " '71e659da-3bb6-47b7-bf67-bd5f16689e54',\n",
       " 'cdfae19d-2d56-4613-9048-f15d566480a9',\n",
       " 'bbac1f01-a3ba-4763-bdf6-0bca08b737af',\n",
       " '767afbd3-94a8-43ee-9bd0-7434d5f17cbb',\n",
       " 'beadddd1-24fb-4430-83a8-61d0dc3f2a02',\n",
       " 'e05954d5-6bfc-4d05-993d-7d490c7d35ff',\n",
       " '129b09de-d047-4417-88cd-1cf9a3dbda15',\n",
       " 'a6af6c32-b558-4b82-9a80-98c2f2c8d9df',\n",
       " '9001317c-e8b8-4343-a93c-77b05cb11efa',\n",
       " '51135ec0-acb0-4249-9688-91b7cf11c389',\n",
       " '89c90338-4fa7-445e-bb36-a16164105c12',\n",
       " '8e3b0c2c-36f7-43a5-9421-05d2be4cb585',\n",
       " 'b6d06df1-d2f1-47d4-b755-542163096d0a',\n",
       " '54994c97-0ce9-4c0b-b1ba-4172af0221cc',\n",
       " '4bb77105-6e98-4f1b-844a-cab84a7b5f85',\n",
       " '81f7fdcc-06ab-429b-a0b2-ab24e2e5c353',\n",
       " 'a031c715-3ccf-4737-a657-735a25fcc837',\n",
       " '2d12ee9f-e0d7-4f79-9d8c-8e0c646e2ad3',\n",
       " '75eec58f-26e6-4b50-909e-b062309b8444',\n",
       " 'dd8a8746-9011-494c-b87b-70efc7ab0491',\n",
       " '4337e2b2-d6cc-494c-97ea-55641c89146a',\n",
       " 'f6c15181-ef9b-4a52-bb29-ec5f4f11909d',\n",
       " '4c192bfc-6375-4e61-8a49-4e7a662329f7',\n",
       " '69f2dfe1-2b58-4f62-86d9-5488f9f01b4b',\n",
       " '871f4aac-21cc-422c-a50b-3e666a6a1cb3',\n",
       " '83d0fe3b-4b2e-4b9f-9cad-fbedcb221826',\n",
       " '58102551-941e-4e58-af48-bfd2b05681d3',\n",
       " '5e6ac98a-d366-4d78-988a-00f362470526',\n",
       " 'fe948b92-e9be-4df5-a4cf-e8f9bbd70bab',\n",
       " 'a01cb1e7-6c03-4aa1-8eb7-31fd06033957',\n",
       " 'ba6beda8-20ee-48b1-a913-f03868828075',\n",
       " 'f47da955-a6e6-4d8e-9566-8cbde00b666e',\n",
       " '643fc367-da34-42eb-88ba-c8cb80c98d7e',\n",
       " '42f74119-d36f-4253-9fbd-e7533f7342ff',\n",
       " '1e5c385d-60bd-49d9-a62a-1f12346360bd',\n",
       " '45d4d6c0-37c0-4933-8498-b0590840bf43',\n",
       " '5e22762a-27fa-4800-a7d9-a32c28ba4af0',\n",
       " 'f18f6bf0-ac21-4b9a-9c03-067c9ed113b9',\n",
       " 'c2a48944-41aa-4b95-9c99-e94d9280ab23',\n",
       " '1bff706c-ee8e-4e02-b59f-93ccda21c645',\n",
       " '48573820-8e27-4e0d-b62a-9a8b93afe61f',\n",
       " '08eb7899-cf36-4620-a215-f4750bf07838',\n",
       " 'efcea8a9-ab7a-4b8b-9cb4-46bc34896f0f',\n",
       " 'a7f599eb-40b8-46d0-8488-da3fc2b510c4',\n",
       " '58dbb08d-4a99-4ed2-96ba-7e5c28898bc0',\n",
       " 'eb82cf38-3437-4cca-99d3-c2730f22223d',\n",
       " '318109d7-ab96-4ce3-9612-38efc7846489',\n",
       " '535fb8fe-e331-4113-9214-c6e928d78279',\n",
       " '2a609564-f89c-4bd8-b4b0-1abe603b8d9e',\n",
       " 'ce3701b5-9f68-498a-a648-c329e219ccaf',\n",
       " 'a70942a2-04bd-4245-bf62-d93b9220dc20',\n",
       " '5feae59c-8705-4f2c-94c1-606aadf7dc28',\n",
       " '6e1ece43-3225-4d15-b6d6-e5b3afcc1b96',\n",
       " '4353ca43-bf58-4075-947d-e7d9bc3d7a21',\n",
       " '9057e9b6-9460-4d54-a820-c5d7a699fb00',\n",
       " '9c8dac07-9f27-4303-9eea-8421da7248c2',\n",
       " 'bf9da313-6bce-4cd0-ade6-5a44cad0beec',\n",
       " '05e670ea-c960-4759-a7a4-4ad2ed6a5a66',\n",
       " 'faf2f5e8-8532-4173-b210-71c83e1c577a',\n",
       " '67bf80bc-124c-4b78-969d-ee05cb2f9f9c',\n",
       " 'bd9181e1-203d-4957-8a10-3270e2ab69e6',\n",
       " '3cee60d3-7598-4847-a14c-16a5a66e04f1',\n",
       " '8d96504c-aa59-4f10-8f7d-1f7b83986568',\n",
       " '42de3193-d545-4d7b-a549-ab042733fa8b',\n",
       " 'a430901d-abf7-4f37-8f51-27a9124ea450',\n",
       " 'd1835ed0-8958-4591-aea3-88f0238b3a11',\n",
       " '11fea6f7-a4b3-4a7e-8e74-b61f014324c6',\n",
       " 'c640f7d7-6df2-44bf-bce2-01e2e3b525b9',\n",
       " '2e17bf6f-54b8-41ef-a93f-6fc419edcc03',\n",
       " '5c0dca72-b354-4046-91f8-8cf2210af3c2',\n",
       " '2b3cf1a6-9ed0-4b46-aa16-5db0b693726d',\n",
       " '606643b4-1239-467f-a07a-4aaf64e7fd7b',\n",
       " '069ebae3-770e-4e15-98a7-fb7c07abcbe2',\n",
       " 'dd07cea8-aca6-45ac-aa67-a519d50ca668',\n",
       " '5461b30c-f76c-4a49-88a5-8818e5d51b85',\n",
       " '0eba037f-79ae-447e-99fc-f2a04e747dab',\n",
       " '2ec4407b-1c9d-4935-a9a2-fa6c68560c3b',\n",
       " '703d66c2-e1bb-4987-aae4-c55fdd2ac18c',\n",
       " '286fe4d1-8491-4b6a-9a20-c01771cb118b',\n",
       " 'ccb57f56-76be-4361-9a23-c517571b4044',\n",
       " '81c022b4-de40-49ad-a669-86d08b0175ec',\n",
       " 'd5bbb422-5848-46f8-b954-8a65d2c07da2',\n",
       " '833a2b8f-75eb-4241-832f-b36f9415e7b3',\n",
       " '5507a99e-9848-413d-bae9-662febf3bcb7',\n",
       " '3b1822a0-ee4d-42da-a422-061b88cf03d3',\n",
       " '2c39ea3c-1644-46c8-ad10-5855e1d4d4d4',\n",
       " 'bcf608f2-327a-4900-9b01-e06bc96b436d',\n",
       " '7dafdbfd-7252-421d-9325-f33b1ed6720a',\n",
       " 'cca1906c-a515-4d96-a165-b5b939d18851',\n",
       " '325c0a55-e394-4ec3-93e1-6e9368d8a950',\n",
       " 'b861fe9c-d999-49c4-9b5e-22b97bddb991',\n",
       " '390a5b2f-ff2a-470b-ac0f-7d4bf1068a98',\n",
       " '9ec9a14f-a2fd-45b2-af3f-d2c89ad30730',\n",
       " '0bee5bce-3053-421f-9e7d-1ae18cd216f7',\n",
       " '3ba29507-8719-48da-84ec-d7b8c7208ccb',\n",
       " '3fcd6f42-9b10-462e-840f-24a4c3691762',\n",
       " '9df110a7-a0bf-44b8-b569-1f6f9b1f0dc7',\n",
       " '5d21fd00-fe4c-4640-a97f-5eff2b425fce',\n",
       " '66c8a871-909f-4dd6-9dc0-5cb75e4d8c8e',\n",
       " 'b816aa5a-114a-4242-871c-c9be90809649',\n",
       " 'c9e92066-ae3d-482b-a7b6-93ae1fe9d99c',\n",
       " '82f1bc94-f5eb-44b5-b759-8d132f9c7a0b',\n",
       " 'e13c9129-ba43-45bc-9e1f-dbb60ccc34f3',\n",
       " 'f9cca2e3-59a0-482b-9f86-17aec4738545',\n",
       " '7faf6581-c9f3-40f4-8ad1-a4fa9b12bed1',\n",
       " '0bc3c422-b04b-4fdf-bd72-299cb2568475',\n",
       " '3e144c6b-a640-4958-ac85-101c81a27724',\n",
       " 'e55b669a-2fd1-4ada-a7ff-d36a594ebb34',\n",
       " '4bdae022-ca89-4d62-818b-2a3e9b934996',\n",
       " '2ddcdfc3-6cf6-46ae-a355-0fb88ce0bed6',\n",
       " 'da94c044-b9b7-43ab-9fe1-687003fa77bf',\n",
       " '64446e51-2b7b-46d7-8672-7faf1eebaa47',\n",
       " '52dfdd3a-7d76-48c7-96a4-4dbbb3c6a7e5',\n",
       " 'd6226900-df02-4c08-aa88-306a33bda11b',\n",
       " '5e50f7de-dc83-4ab8-9b92-6a73502c3907',\n",
       " '8428d7dd-c5f0-439c-a537-9054990d8908',\n",
       " '7d8f8c2f-7d7c-4b48-9054-2afaf4769ef6',\n",
       " 'a3286dcd-b51c-4caf-9467-2478e687b7ca',\n",
       " '2809cca2-b628-4579-b8db-2bbc9d191129',\n",
       " 'abc0cd89-5cc7-4ee5-b438-038298bbecb6',\n",
       " '57a467ed-d22a-4b8d-92d3-589a6d4f713f',\n",
       " '7622a896-b285-4956-b3f8-16048c33f8c6',\n",
       " '874a1f8f-0d49-4477-ac2b-a32fb414fe62',\n",
       " '961c7bb3-b4f9-490f-8d5d-31c4f1cc5029',\n",
       " '5685aeb6-4baa-4203-ad77-51711ecef27a',\n",
       " 'c7244ba9-a348-4574-8919-fac1a4dbea67',\n",
       " '22405af4-c30b-4f9b-8295-03c0099a7aa6',\n",
       " '81a8f1bb-b398-49b4-aaa7-5bb69df39ad0',\n",
       " '9d65f354-b55e-4432-a6a3-285a2c93b775',\n",
       " '8316eceb-bf9f-405b-ad29-a4daa3308d25',\n",
       " '56b6726c-d162-43fb-9bf6-d2979d236c54',\n",
       " '8cad8d12-f041-4458-a2e7-dcbbff52f590',\n",
       " 'f01d7e12-146f-4a63-badb-68e8e17c3ccf',\n",
       " '41f42ef9-ce3c-42f0-9f29-5a9b3cbc7e7f',\n",
       " 'f6607545-f0fe-4632-a2df-4e8ecde953e7',\n",
       " 'fb87a05b-2417-4e76-a9a1-5cab40e27ae6',\n",
       " '7e167652-b5a3-405a-9aca-15ce9a48256b',\n",
       " '525dd461-6f95-4132-a913-9fc4d3547e0a',\n",
       " '99d3e450-0e0f-4c63-be2b-6fd447f27226',\n",
       " '80502e73-707e-40eb-9b7f-b6dd928e05b7',\n",
       " '7ed26c73-3fe3-4d51-80d8-f23bc4792a8d',\n",
       " 'a10f4f13-0eb8-4af3-983a-011a046e4a88',\n",
       " 'fef0e6c2-8125-4480-be83-6a24f0bd3a4c',\n",
       " 'b73f763c-fa05-4c2b-b4b2-8aae5ead7c28',\n",
       " '9f083e61-8792-4295-b757-87525e2e203f',\n",
       " 'b9471add-9061-4151-8dfd-7726c1b989fc',\n",
       " '5eddb2b3-4c3b-43c6-b155-f4143a4e08f4',\n",
       " 'd291e43a-61e4-426d-99e0-ef4ec47d4f83',\n",
       " '18962d57-4f9c-4a4c-82a9-d5f50625e47f',\n",
       " '9d45609f-5a23-4061-b4b8-ede42587f849',\n",
       " '1ea22223-1d57-4aae-b81f-f3d968661453',\n",
       " '3ced8f95-aaf5-4f85-9735-8d376bdc68cf',\n",
       " '1fe3febd-fa32-4f54-83a1-d4479e1dcb33',\n",
       " 'e490802e-2dfc-42e2-bbf0-b16239ca1fa5',\n",
       " '69205c58-f8e1-4c27-aaed-abb57c67a491',\n",
       " 'a6116952-e61a-4b2f-b3e9-79cf6368f8d8',\n",
       " 'd79369ba-60dc-48fa-b70c-2ca876e11795',\n",
       " '374d8f47-af07-4b55-9cae-7ffa7c9e282f',\n",
       " 'f32138c8-594b-445f-8898-e577637ff071',\n",
       " '3b5bb6c7-e170-4b6a-b8d1-752644fffe59',\n",
       " '00b35675-f185-4395-a97d-90d4dc70c0e8',\n",
       " 'c3332acc-fbe6-4857-b8e4-15eec8e0deb7',\n",
       " 'cdeb46d3-3a73-46af-921f-67aa4fc6b51f',\n",
       " 'e8611cab-e2b0-437e-bfbc-10e1fbbe8e56',\n",
       " '48aa8edd-ac18-4d0a-8388-8348a644de23',\n",
       " 'f0cba320-f904-4212-9eeb-1dafd1592c72',\n",
       " '824bb829-57d8-4101-bb44-7abfef93a16b',\n",
       " 'd7803a11-9c9b-4182-894b-e8b00d707109',\n",
       " '63a2124a-1058-4833-8857-29168e69b559',\n",
       " '824b2ee5-9f91-4549-b932-6205de7f3906',\n",
       " '4247124a-caa6-4945-8201-092dfe18248c',\n",
       " '48993f36-9de4-48e1-b27a-106eac35463e',\n",
       " '846fc497-cf71-4f0a-ae1c-773162127646',\n",
       " 'e1e35b3f-4828-4834-99c3-913b31ce2168',\n",
       " '25bcf42c-8e66-489e-9e48-3c5b4f8c7acb',\n",
       " '942cbadb-c7ae-4d0b-b4fc-1acc29362d62',\n",
       " 'b26742b9-a7b9-4542-ab6a-a9f8c01c2bcb',\n",
       " 'bc254b6d-7524-4e06-b5c6-593fb8ca4f91',\n",
       " '31f563cc-6e49-4938-9219-a4f9f9d720fc',\n",
       " 'aab3b9aa-67db-48d0-a13d-ef70915c8932',\n",
       " '75614106-aa91-4309-bb9a-bed8063b2cf0',\n",
       " '94075a99-5c32-4e1b-9a91-2b965327dfba',\n",
       " '5d965c51-6f03-4533-94c7-01ac4f3ae65b',\n",
       " '8e1b18d8-495c-4247-b194-0d7343068ff0',\n",
       " '3fb69d17-c31a-4541-be5a-c6cd61943533',\n",
       " '07d00c05-9c79-4f9d-86c2-44860ce0a265',\n",
       " '08fd0c14-a902-45cb-9527-c201b80ec875',\n",
       " 'f0dc322b-da2e-4855-bbfa-ecc18f4e6c09',\n",
       " 'dd2a5c50-347c-416c-a451-7dd40ae65321',\n",
       " '5e3b7151-1d0d-4131-a658-c7ffdd7812a2',\n",
       " '11099862-b840-4f51-b797-a923f29eb94b',\n",
       " '7cc4411f-6329-4081-80dd-4f308612525b',\n",
       " '184f1f15-4f37-4185-bc3e-205fb2f2e9f5',\n",
       " 'bbe51844-0a35-4232-8b27-1cf742de7f6a',\n",
       " '51fae899-fe2a-484c-9e01-813a57ef54fc',\n",
       " '93783a8e-3e48-4556-9f72-82631240b614',\n",
       " 'f6ee34c9-6d7d-45e4-9055-1c585f75ac2d',\n",
       " '1755e623-4042-41e2-bd61-daa847669eee',\n",
       " 'bffb7dbd-6692-4245-af16-1fd887cea5b1',\n",
       " 'ac54c64b-8de1-432b-8d0a-01e88ade0f2b',\n",
       " 'b75f7c4c-669e-4a1a-b1d5-8e6aff5db2a3',\n",
       " '8ea3c75f-2bed-4999-85a4-609bb71e6fd4',\n",
       " '96bf6f85-bc5a-4604-98ca-9474749d1768',\n",
       " '99fa2556-7dca-4d3a-a984-2c88ce5a9edb',\n",
       " 'bd81f4d2-4bc0-4c60-8015-7bc7e5d67e8d',\n",
       " '666804d2-627c-49f9-8847-a9a8e15499a5',\n",
       " '9eb98b0c-1521-4cea-81e9-4ee3525761b4',\n",
       " '55f795e3-280c-47fb-a766-7337c0fa9fa5',\n",
       " 'f34b5cec-dfff-40f0-a2da-1336995d2835',\n",
       " '0976b054-5af2-40c3-9b0b-82e3c333f1f7',\n",
       " '9008c919-9273-4e90-927b-e63d37827f99',\n",
       " 'f2f2ed54-ca1a-491f-9dad-4b9e23892a88',\n",
       " 'abc7cbaf-4a16-4102-baed-e5a4394bf6e9',\n",
       " 'ccce59fe-0eaa-4643-b252-b2231bd92403',\n",
       " 'f8cde9f4-378a-4390-8d14-9fd4017cbd22',\n",
       " '46a44754-89e5-4d11-8582-d5d38b054dcb',\n",
       " '4eee1311-0cc1-471b-9cd9-d9e24e953c60',\n",
       " '9c18a8a1-2a42-4a0d-9974-d2bc18217be3',\n",
       " '1a247680-af00-4fc5-b56d-552484cc382f',\n",
       " 'ad20fab2-45f5-4b4d-ac8a-46a2f8e19425',\n",
       " '76affdaa-d167-4921-a4df-2dc6acbec04d',\n",
       " '087c2780-9d70-4026-a407-8b6e8eb92969',\n",
       " 'f5f76988-c8ec-45cd-b5b7-bff5396534db',\n",
       " '26558783-26d5-4cda-acbc-2152eef8fcd1',\n",
       " 'af78c365-44a4-4ad1-8c62-421f18553e08',\n",
       " '3ab79879-a9a0-44f5-b7ed-6ba109d6ca56',\n",
       " 'ad2cbf43-dda2-4b5a-9372-1d38c44a8588',\n",
       " '924b6daa-5f4d-468e-bbff-452f2d1cc015',\n",
       " 'da497fea-58f4-4a27-b51b-31664e90999c',\n",
       " '5cafb48b-40ca-4d7b-b0ec-177fdba6cdd7',\n",
       " 'fa02cf61-bc51-44de-b848-4d95ab30616a',\n",
       " 'b6c8f8bf-8761-4620-9cfa-2d26502f3660',\n",
       " 'ab51a210-97ee-4fae-b3b1-ab964890c9bc',\n",
       " '7da664e5-9afc-4f32-82e6-204135f5298e',\n",
       " '8dbeff59-3703-4977-9ae2-e8b3ff5eb39b',\n",
       " '2cf1a21e-d35f-4038-a5bb-bc76b717bc81',\n",
       " '18b5a99b-0857-489a-b61e-9b879f8489e5',\n",
       " '6e537c91-0301-4c3c-bb5b-766d79508c1b',\n",
       " '1329ed52-0dd9-4ed2-8b01-d748b97c6abb',\n",
       " '8b72113a-5eaf-4688-a2dd-f3df4fd1c729',\n",
       " '248b76a0-a0b3-4e4c-b6d8-283c3db16ce3',\n",
       " '70f83c91-02f2-4dd0-bedf-5200aac39686',\n",
       " 'f2aaa8dc-49ca-47e0-a838-97b60d352680',\n",
       " 'b731af1b-6f1d-410a-9e4d-c017b10526b9',\n",
       " '29971459-cf69-4b63-8987-a18974768d44',\n",
       " '197b9fe0-dabf-44fb-83da-2602ad1507ab',\n",
       " 'ed80ef64-e9fe-4a69-abf4-a43cae3b79ae',\n",
       " '93a613be-c2f6-4b63-bebc-74f03160877e',\n",
       " 'caca40d6-ee25-43d2-be36-04cdfeb6fdd8',\n",
       " ...]"
      ]
     },
     "execution_count": 22,
     "metadata": {},
     "output_type": "execute_result"
    }
   ],
   "source": [
    "%%time\n",
    "\n",
    "vector_db.add_documents(documents = chunk_docs, \n",
    "                        vector_field = \"vector_field\",\n",
    "                        bulk_size = 1000000)\n"
   ]
  },
  {
   "cell_type": "markdown",
   "metadata": {},
   "source": [
    "# 6. 검색 테스트"
   ]
  },
  {
   "cell_type": "markdown",
   "metadata": {},
   "source": [
    "## Lexical 검색"
   ]
  },
  {
   "cell_type": "code",
   "execution_count": 29,
   "metadata": {
    "tags": []
   },
   "outputs": [
    {
     "name": "stdout",
     "output_type": "stream",
     "text": [
      "query:  {'query': {'bool': {'must': [{'match': {'text': {'query': 'how to add image', 'minimum_should_match': '0%', 'operator': 'or'}}}], 'filter': []}}}\n",
      "# of searched docs:  10\n",
      "# of display: 3\n",
      "---------------------\n",
      "_id in index:  14411a75-94b4-4541-87fb-05bc92741baa\n",
      "10.037398\n",
      ". Values Allow users to use Parallels desktop &mdash; Enables Parallels Desktop. When set, you must accept the end-user license agreement. Do not allow users to use Parallels desktop &mdash; Disables Parallels Desktop. Chrome OS 99 and higher Parallels Desktop Windows image The policy set for configuring the Windows OS image that the device user downloads on their Chromebooks in order to use Parallels Desktop. Chrome OS 99 and higher &gt; URL Specifies the address for the Windows image. Values Enter the URL. Chrome OS 99 and higher &gt; SHA-256 hash Specifies the SHA-256 hash of the Windows image. Values Enter the hash. Chrome OS 99 and higher Required disk space Specifies the free disk space required for Parallels Desktop. When deciding on a value, you should take the size of your uncompressed Windows image and add how much space is needed for the additional data or apps you expect to install\n",
      "{'source': 'all_processed_data.json', 'seq_num': 914, 'title': 'Chrome OS policies', 'url': 'https://docs.samsungknox.com/admin/knox-manage/configure/profile/configure-profile-policies/chrome-os-policies', 'project': 'KM', 'last_updated': '2023-07-26'}\n",
      "---------------------\n",
      "_id in index:  978ff9d3-648f-4f5f-8a0e-cd26907628f4\n",
      "10.024201\n",
      ". Note The Screen Saver only runs while the device is charging. The Screen Saver for the Kiosk Browser only runs while the device is connected to a power source. &gt;&gt; Screen Saver Type Select either an image or video type screensaver. &gt;&gt;&gt; Image Select image files for the screen saver. You can add up to 10 image files in PNG, JPG, JPEG, or GIF formats (animated files are not supported). Each image file must be less than 5 MB. To upload an image file, click Add and select a file. To delete an image file, click next to the name of the uploaded image file. Note The device control command must be transferred to the device to apply an image file to it. &gt;&gt;&gt; Video Select a video file for the screen saver. You can add only one video file in the MP4 or MKV format. The video file must be less than 50 MB. To upload a video file, click Add and select a file. To delete a video file, click next to the name of the uploaded video file\n",
      "{'source': 'all_processed_data.json', 'seq_num': 912, 'title': 'Android Legacy policies', 'url': 'https://docs.samsungknox.com/admin/knox-manage/configure/profile/configure-profile-policies/android-legacy-policies', 'project': 'KM', 'last_updated': '2023-07-26'}\n",
      "---------------------\n",
      "_id in index:  7f5b11de-c01f-47ee-9407-a3aa735f53ec\n",
      "10.002942\n",
      ". You can also add a link to your enterprise's Website. ##Product information screen Under PRODUCT INFORMATION SCREEN, you can customize the Configuration service. Product Name - Enter the product name displayed in the product information screen. If left blank, the name of the profile is used by default. Image - Upload a custom image to display in the product information screen. If you don't add an image, the default generic image is shown. The image size can be PNG or JPG format and can't exceed 2MB in size. Optionally, select Add a non-dismissible notification to add a persistent notification that the device user can tap to quickly access the Configuration service. You can customize the notification with your own Application name and Notification message. Under Branding, you can configure the following enrollment screen elements: Background fill - Select a background color or upload an image to use your own branding for the enrollment screen background. The background image cannot exceed 2 MB in size\n",
      "{'source': 'all_processed_data.json', 'seq_num': 1650, 'title': 'Create a profile', 'url': 'https://docs.samsungknox.com/admin/knox-configure/get-started/create-a-profile', 'project': 'KC', 'last_updated': '2023-09-27'}\n",
      "---------------------\n"
     ]
    }
   ],
   "source": [
    "query = \"how to add image\"\n",
    " #query = \"how to add image\"\n",
    "query = opensearch_utils.get_query(\n",
    "    query=query\n",
    ")\n",
    "\n",
    "print(\"query: \", query)\n",
    "response = opensearch_utils.search_document(os_client, query, index_name)\n",
    "opensearch_utils.parse_keyword_response(response, show_size=3)"
   ]
  },
  {
   "cell_type": "markdown",
   "metadata": {},
   "source": [
    "## 시멘틱 검색"
   ]
  },
  {
   "cell_type": "code",
   "execution_count": 30,
   "metadata": {},
   "outputs": [
    {
     "data": {
      "text/plain": [
       "[Document(page_content='. You can add up to 10 image files in the PNG, JPG, JPEG, or GIF format (animated files are not supported). Each image file must be less than 5 MB. To upload an image file, click Add and select a file. To delete an image file, click next to the name of the uploaded image file. Note The device control command must be transferred to the device to apply an image file to it. &gt;&gt;&gt; Video Select a video file for the screen saver. You can add only one video file in the MP4 or MKV format. The video file must be less than 50 MB. To upload a video file, click Add and select a file. To delete a video file, click next to the name of the uploaded video file. Note The device control command must be transferred to the device to apply a video to it. &gt; Session timeout Allows the use of the session timeout feature for the Kiosk Browser', metadata={'source': 'all_processed_data.json', 'seq_num': 911, 'title': 'Android Enterprise policies', 'url': 'https://docs.samsungknox.com/admin/knox-manage/configure/profile/configure-profile-policies/android-enterprise-policies', 'project': 'KM', 'last_updated': '2023-09-06'}),\n",
       " Document(page_content='. Screenshot (optional) - Add up to four preview images of the app for device users. Click a frame to open a file dialog, then select an image from your file system. Each screenshot can be in JPG or PNG file formats and must not exceed 5MB in size. 4. Save the app, and choose whether to assign it right away: Click Save & Assign to save the app and assign it. The console takes you to the Assign Application page. For more details, see Assign Windows applications. Click Save to save the app and return to the app list.', metadata={'source': 'all_processed_data.json', 'seq_num': 820, 'title': 'Add public apps using the Microsoft Store', 'url': 'https://docs.samsungknox.com/admin/knox-manage/configure/applications/add-applications/add-public-apps-using-the-microsoft-store', 'project': 'KM', 'last_updated': '2023-07-26'}),\n",
       " Document(page_content=\"Create a custom animation file. You can create a custom device boot animation by uploading images to play in sequence and setting the desired image orientation, dithering and size. Once created and uploaded, you can preview and verify the animation before adding it to a profile and assigning it to devices. Create an animation To create a custom animation: 1. Click Library in the left-hand navigation menu and click the MEDIA tab. 2. Click ADD MEDIA in the upper right-hand corner. 3. Click CREATE ANIMATION to create a new animation sequence. 4. On the Upload a PNG sequence screen, upload a minimum of two and a maximum of 99 PNG images to use as the animation frames. Ensure the PNG files you upload are the same dimension and resolution as the target device's screen dimensions and display resolution to ensure an optimal display. 5. Give your animation a name and configure the following settings: Rotation - Select the animation's degree of rotation. Sizing - Select how the animation will display on the device\", metadata={'source': 'all_processed_data.json', 'seq_num': 1667, 'title': 'Create a custom animation file', 'url': 'https://docs.samsungknox.com/admin/knox-configure/how-to-guides/library/create-a-custom-animation-file', 'project': 'KC', 'last_updated': '2023-07-26'}),\n",
       " Document(page_content=\". #Logo For more information about setting the logo, see Setting the logo. Option Description Logo Image Click Select Image and upload the image file of your company logo. The image must be a GIF, JPG, PNG, or BMP file. The file cannot be larger than 190 x 33 and must be 1 MB or lower. Click Default to use the default image as your company logo. Header Colo Click the color box and set a color for the header. Header Font Colo Click the color box and set a color for the header text. Preview Preview the company logo. #Authentication/Login Configure the settings about the login environment and the administrator account. Option Description Two-Factor Authentication Enable the use of OTP authentication as well as an account ID and password when administrators sign in to the Admin Portal. For OTP authentication, the administrator's mobile phone number or email address is required. Allow Multi-point Logins Allow concurrent logins to the Admin Portal\", metadata={'source': 'all_processed_data.json', 'seq_num': 797, 'title': 'List of environment settings', 'url': 'https://docs.samsungknox.com/admin/knox-manage/configure/advanced-settings/list-of-environment-settings', 'project': 'KM', 'last_updated': '2023-07-26'})]"
      ]
     },
     "execution_count": 30,
     "metadata": {},
     "output_type": "execute_result"
    }
   ],
   "source": [
    "vector_db.similarity_search(\"How to add image\")"
   ]
  },
  {
   "cell_type": "markdown",
   "metadata": {
    "tags": []
   },
   "source": [
    "## 하이브리드 검색"
   ]
  },
  {
   "cell_type": "code",
   "execution_count": 31,
   "metadata": {
    "tags": []
   },
   "outputs": [],
   "source": [
    "from langchain.chains.question_answering import load_qa_chain\n",
    "from utils.rag import get_semantic_similar_docs, get_lexical_similar_docs, get_ensemble_results"
   ]
  },
  {
   "cell_type": "code",
   "execution_count": 32,
   "metadata": {
    "tags": []
   },
   "outputs": [],
   "source": [
    "import copy\n",
    "from langchain.schema import Document\n",
    "from langchain import PromptTemplate\n",
    "from operator import itemgetter"
   ]
  },
  {
   "cell_type": "code",
   "execution_count": 33,
   "metadata": {
    "tags": []
   },
   "outputs": [],
   "source": [
    "from utils.proc_docs import search_hybrid"
   ]
  },
  {
   "cell_type": "code",
   "execution_count": 34,
   "metadata": {
    "tags": []
   },
   "outputs": [
    {
     "name": "stdout",
     "output_type": "stream",
     "text": [
      "Query: \n",
      " How to add image\n",
      "##############################\n",
      "similar_docs_semantic\n",
      "##############################\n",
      "\n",
      "Score: 1.0\n",
      "['. You can add up to 10 image files in the PNG, JPG, JPEG, or GIF format (animated files are not supported). Each image file must be less than 5 MB. To upload an image file, click Add and select a file. To delete an image file, click next to the name of the uploaded image file. Note The device control command must be transferred to the device to apply an image file to it. &gt;&gt;&gt; Video Select a video file for the screen saver. You can add only one video file in the MP4 or MKV format. The video file must be less than 50 MB. To upload a video file, click Add and select a file. To delete a video file, click next to the name of the uploaded video file. Note The device control command must be transferred to the device to apply a video to it. &gt; Session timeout Allows the use of the session timeout feature for the Kiosk Browser']\n",
      "{'source': 'all_processed_data.json', 'seq_num': 911, 'title': 'Android Enterprise policies', 'url': 'https://docs.samsungknox.com/admin/knox-manage/configure/profile/configure-profile-policies/android-enterprise-policies', 'project': 'KM', 'last_updated': '2023-09-06'}\n",
      "--------------------------------------------------\n",
      "\n",
      "Score: 0.9549920026005402\n",
      "['. Screenshot (optional) - Add up to four preview images of the app for device users. Click a frame to open a file dialog, then select an image from your file system. Each screenshot can be in JPG or PNG file formats and must not exceed 5MB in size. 4. Save the app, and choose whether to assign it right away: Click Save & Assign to save the app and assign it. The console takes you to the Assign Application page. For more details, see Assign Windows applications. Click Save to save the app and return to the app list.']\n",
      "{'source': 'all_processed_data.json', 'seq_num': 820, 'title': 'Add public apps using the Microsoft Store', 'url': 'https://docs.samsungknox.com/admin/knox-manage/configure/applications/add-applications/add-public-apps-using-the-microsoft-store', 'project': 'KM', 'last_updated': '2023-07-26'}\n",
      "--------------------------------------------------\n",
      "\n",
      "Score: 0.9474666471929256\n",
      "[\"Create a custom animation file. You can create a custom device boot animation by uploading images to play in sequence and setting the desired image orientation, dithering and size. Once created and uploaded, you can preview and verify the animation before adding it to a profile and assigning it to devices. Create an animation To create a custom animation: 1. Click Library in the left-hand navigation menu and click the MEDIA tab. 2. Click ADD MEDIA in the upper right-hand corner. 3. Click CREATE ANIMATION to create a new animation sequence. 4. On the Upload a PNG sequence screen, upload a minimum of two and a maximum of 99 PNG images to use as the animation frames. Ensure the PNG files you upload are the same dimension and resolution as the target device's screen dimensions and display resolution to ensure an optimal display. 5. Give your animation a name and configure the following settings: Rotation - Select the animation's degree of rotation. Sizing - Select how the animation will display on the device\"]\n",
      "{'source': 'all_processed_data.json', 'seq_num': 1667, 'title': 'Create a custom animation file', 'url': 'https://docs.samsungknox.com/admin/knox-configure/how-to-guides/library/create-a-custom-animation-file', 'project': 'KC', 'last_updated': '2023-07-26'}\n",
      "--------------------------------------------------\n",
      "lexical search query: \n",
      "{'query': {'bool': {'filter': [],\n",
      "                    'must': [{'match': {'text': {'minimum_should_match': '75%',\n",
      "                                                 'operator': 'or',\n",
      "                                                 'query': 'How to add '\n",
      "                                                          'image'}}}]}},\n",
      " 'size': 3}\n",
      "##############################\n",
      "similar_docs_keyword\n",
      "##############################\n",
      "\n",
      "Score: 1.0\n",
      "['. Values Allow users to use Parallels desktop &mdash; Enables Parallels Desktop. When set, you must accept the end-user license agreement. Do not allow users to use Parallels desktop &mdash; Disables Parallels Desktop. Chrome OS 99 and higher Parallels Desktop Windows image The policy set for configuring the Windows OS image that the device user downloads on their Chromebooks in order to use Parallels Desktop. Chrome OS 99 and higher &gt; URL Specifies the address for the Windows image. Values Enter the URL. Chrome OS 99 and higher &gt; SHA-256 hash Specifies the SHA-256 hash of the Windows image. Values Enter the hash. Chrome OS 99 and higher Required disk space Specifies the free disk space required for Parallels Desktop. When deciding on a value, you should take the size of your uncompressed Windows image and add how much space is needed for the additional data or apps you expect to install']\n",
      "{'source': 'all_processed_data.json', 'seq_num': 914, 'title': 'Chrome OS policies', 'url': 'https://docs.samsungknox.com/admin/knox-manage/configure/profile/configure-profile-policies/chrome-os-policies', 'project': 'KM', 'last_updated': '2023-07-26', 'id': '14411a75-94b4-4541-87fb-05bc92741baa'}\n",
      "--------------------------------------------------\n",
      "\n",
      "Score: 0.9986852170253685\n",
      "['. Note The Screen Saver only runs while the device is charging. The Screen Saver for the Kiosk Browser only runs while the device is connected to a power source. &gt;&gt; Screen Saver Type Select either an image or video type screensaver. &gt;&gt;&gt; Image Select image files for the screen saver. You can add up to 10 image files in PNG, JPG, JPEG, or GIF formats (animated files are not supported). Each image file must be less than 5 MB. To upload an image file, click Add and select a file. To delete an image file, click next to the name of the uploaded image file. Note The device control command must be transferred to the device to apply an image file to it. &gt;&gt;&gt; Video Select a video file for the screen saver. You can add only one video file in the MP4 or MKV format. The video file must be less than 50 MB. To upload a video file, click Add and select a file. To delete a video file, click next to the name of the uploaded video file']\n",
      "{'source': 'all_processed_data.json', 'seq_num': 912, 'title': 'Android Legacy policies', 'url': 'https://docs.samsungknox.com/admin/knox-manage/configure/profile/configure-profile-policies/android-legacy-policies', 'project': 'KM', 'last_updated': '2023-07-26', 'id': '978ff9d3-648f-4f5f-8a0e-cd26907628f4'}\n",
      "--------------------------------------------------\n",
      "\n",
      "Score: 0.9965672378439113\n",
      "[\". You can also add a link to your enterprise's Website. ##Product information screen Under PRODUCT INFORMATION SCREEN, you can customize the Configuration service. Product Name - Enter the product name displayed in the product information screen. If left blank, the name of the profile is used by default. Image - Upload a custom image to display in the product information screen. If you don't add an image, the default generic image is shown. The image size can be PNG or JPG format and can't exceed 2MB in size. Optionally, select Add a non-dismissible notification to add a persistent notification that the device user can tap to quickly access the Configuration service. You can customize the notification with your own Application name and Notification message. Under Branding, you can configure the following enrollment screen elements: Background fill - Select a background color or upload an image to use your own branding for the enrollment screen background. The background image cannot exceed 2 MB in size\"]\n",
      "{'source': 'all_processed_data.json', 'seq_num': 1650, 'title': 'Create a profile', 'url': 'https://docs.samsungknox.com/admin/knox-configure/get-started/create-a-profile', 'project': 'KC', 'last_updated': '2023-09-27', 'id': '7f5b11de-c01f-47ee-9407-a3aa735f53ec'}\n",
      "--------------------------------------------------\n",
      "##############################\n",
      "similar_docs_ensemble\n",
      "##############################\n",
      "\n",
      "Score: 0.00819672131147541\n",
      "['. Values Allow users to use Parallels desktop &mdash; Enables Parallels Desktop. When set, you must accept the end-user license agreement. Do not allow users to use Parallels desktop &mdash; Disables Parallels Desktop. Chrome OS 99 and higher Parallels Desktop Windows image The policy set for configuring the Windows OS image that the device user downloads on their Chromebooks in order to use Parallels Desktop. Chrome OS 99 and higher &gt; URL Specifies the address for the Windows image. Values Enter the URL. Chrome OS 99 and higher &gt; SHA-256 hash Specifies the SHA-256 hash of the Windows image. Values Enter the hash. Chrome OS 99 and higher Required disk space Specifies the free disk space required for Parallels Desktop. When deciding on a value, you should take the size of your uncompressed Windows image and add how much space is needed for the additional data or apps you expect to install']\n",
      "{'source': 'all_processed_data.json', 'seq_num': 914, 'title': 'Chrome OS policies', 'url': 'https://docs.samsungknox.com/admin/knox-manage/configure/profile/configure-profile-policies/chrome-os-policies', 'project': 'KM', 'last_updated': '2023-07-26', 'id': '14411a75-94b4-4541-87fb-05bc92741baa'}\n",
      "--------------------------------------------------\n",
      "\n",
      "Score: 0.00819672131147541\n",
      "['. You can add up to 10 image files in the PNG, JPG, JPEG, or GIF format (animated files are not supported). Each image file must be less than 5 MB. To upload an image file, click Add and select a file. To delete an image file, click next to the name of the uploaded image file. Note The device control command must be transferred to the device to apply an image file to it. &gt;&gt;&gt; Video Select a video file for the screen saver. You can add only one video file in the MP4 or MKV format. The video file must be less than 50 MB. To upload a video file, click Add and select a file. To delete a video file, click next to the name of the uploaded video file. Note The device control command must be transferred to the device to apply a video to it. &gt; Session timeout Allows the use of the session timeout feature for the Kiosk Browser']\n",
      "{'source': 'all_processed_data.json', 'seq_num': 911, 'title': 'Android Enterprise policies', 'url': 'https://docs.samsungknox.com/admin/knox-manage/configure/profile/configure-profile-policies/android-enterprise-policies', 'project': 'KM', 'last_updated': '2023-09-06'}\n",
      "--------------------------------------------------\n",
      "\n",
      "Score: 0.008064516129032258\n",
      "['. Screenshot (optional) - Add up to four preview images of the app for device users. Click a frame to open a file dialog, then select an image from your file system. Each screenshot can be in JPG or PNG file formats and must not exceed 5MB in size. 4. Save the app, and choose whether to assign it right away: Click Save & Assign to save the app and assign it. The console takes you to the Assign Application page. For more details, see Assign Windows applications. Click Save to save the app and return to the app list.']\n",
      "{'source': 'all_processed_data.json', 'seq_num': 820, 'title': 'Add public apps using the Microsoft Store', 'url': 'https://docs.samsungknox.com/admin/knox-manage/configure/applications/add-applications/add-public-apps-using-the-microsoft-store', 'project': 'KM', 'last_updated': '2023-07-26'}\n",
      "--------------------------------------------------\n",
      "CPU times: user 9.28 ms, sys: 93 µs, total: 9.37 ms\n",
      "Wall time: 123 ms\n"
     ]
    }
   ],
   "source": [
    "%%time\n",
    "\n",
    "\n",
    "filter01 = \"[]\"\n",
    "filter02 = \"[]\"\n",
    "\n",
    "# query = \"how to add image\"\n",
    "query = \"How to add image\"\n",
    "\n",
    "search_hybrid_result = search_hybrid(\n",
    "    query=query,\n",
    "    vector_db=vector_db,\n",
    "    k=3,\n",
    "    index_name= index_name,\n",
    "    os_client=os_client,\n",
    "    filter=[\n",
    "        {\"term\": {\"metadata.type\": filter01}},\n",
    "        {\"term\": {\"metadata.source\": filter02}},\n",
    "    ],\n",
    "    Semantic_Search = False,    \n",
    "    Lexical_Search = False,    \n",
    "    Hybrid_Search = True,     \n",
    "    minimum_should_match = 75,   \n",
    "    fusion_algorithm=\"RRF\", # [\"RRF\", \"simple_weighted\"]\n",
    "    ensemble_weights=[.5, .5], # 시멘트 서치에 가중치 0.5 , 키워드 서치 가중치 0.5 부여.\n",
    "    verbose=True\n",
    ")\n",
    "\n"
   ]
  },
  {
   "cell_type": "markdown",
   "metadata": {},
   "source": [
    "# 7. 검증 인덱스 생성"
   ]
  },
  {
   "cell_type": "markdown",
   "metadata": {},
   "source": [
    "## Index 이름 결정"
   ]
  },
  {
   "cell_type": "code",
   "execution_count": 35,
   "metadata": {
    "tags": []
   },
   "outputs": [],
   "source": [
    "eval_index_name = \"genai-poc-knox-en-eval-sample-0.02-1024c-256o-v10\""
   ]
  },
  {
   "cell_type": "markdown",
   "metadata": {},
   "source": [
    "## Sampling"
   ]
  },
  {
   "cell_type": "code",
   "execution_count": 36,
   "metadata": {
    "tags": []
   },
   "outputs": [
    {
     "name": "stdout",
     "output_type": "stream",
     "text": [
      "eval docs:  34\n"
     ]
    },
    {
     "data": {
      "text/plain": [
       "[Document(page_content='AR demo barcodes. Use the following barcodes to test the Knox Capture AR features. Barcode 1 Barcode 2 Barcode 3 Barcode 4 Barcode 5 Barcode 6', metadata={'source': 'all_processed_data.json', 'seq_num': 1, 'title': 'AR demo barcodes', 'url': 'https://docs.samsungknox.com/admin/knox-capture/ar-demo-barcodes', 'project': 'KCAP', 'last_updated': '2023-10-16'}),\n",
       " Document(page_content=\"Videos. This section contains product and how-to videos related to Knox Capture. Getting started with Samsung Knox Capture In this video, we'll show you how to use Samsung Knox Capture to transform your mobile devices into powerful barcode scanners that can read, process, and output barcode data into other applications. Samsung Knox Capture: Enterprise-grade mobile scanning solution in Galaxy device This product intro video shows you how easy it is to transform rugged Samsung devices like the Galaxy XCover Pro into enterprise-grade barcode scanners.\", metadata={'source': 'all_processed_data.json', 'seq_num': 2, 'title': 'Videos', 'url': 'https://docs.samsungknox.com/admin/knox-capture/how-to-videos', 'project': 'KCAP', 'last_updated': '2023-07-26'})]"
      ]
     },
     "execution_count": 36,
     "metadata": {},
     "output_type": "execute_result"
    }
   ],
   "source": [
    "import random\n",
    "def get_sampling_doc(seed, ratio, docs):\n",
    "\n",
    "    random.seed(seed)\n",
    "    \n",
    "    eval_docs = docs[:int(len(docs)*ratio)]\n",
    "    \n",
    "    return eval_docs\n",
    "    \n",
    "eval_docs = get_sampling_doc(seed=200, ratio=0.02, docs= all_docs)\n",
    "print(\"eval docs: \", len(eval_docs))\n",
    "eval_docs[0:2]\n",
    "    \n",
    "    "
   ]
  },
  {
   "cell_type": "code",
   "execution_count": 37,
   "metadata": {
    "tags": []
   },
   "outputs": [
    {
     "name": "stdout",
     "output_type": "stream",
     "text": [
      "Number of chunk_docs after split and chunking= 152\n"
     ]
    }
   ],
   "source": [
    "chunk_docs = text_splitter.split_documents(eval_docs)\n",
    "print(f\"Number of chunk_docs after split and chunking= {len(chunk_docs)}\")"
   ]
  },
  {
   "cell_type": "markdown",
   "metadata": {},
   "source": [
    "## 오픈 서치 인덱스 유무에 따라 삭제\n",
    "오픈 서치에 해당 인덱스가 존재하면, 삭제 합니다. "
   ]
  },
  {
   "cell_type": "code",
   "execution_count": 38,
   "metadata": {
    "tags": []
   },
   "outputs": [
    {
     "name": "stdout",
     "output_type": "stream",
     "text": [
      "index_name=genai-poc-knox-en-eval-sample-0.02-1024c-256o-v10, exists=False\n",
      "\n",
      "Creating index:\n",
      "{'acknowledged': True, 'shards_acknowledged': True, 'index': 'genai-poc-knox-en-eval-sample-0.02-1024c-256o-v10'}\n",
      "Index is created\n",
      "{'genai-poc-knox-en-eval-sample-0.02-1024c-256o-v10': {'aliases': {},\n",
      "                                                       'mappings': {'properties': {'metadata': {'properties': {'last_updated': {'type': 'date'},\n",
      "                                                                                                               'project': {'type': 'keyword'},\n",
      "                                                                                                               'seq_num': {'type': 'long'},\n",
      "                                                                                                               'source': {'type': 'keyword'},\n",
      "                                                                                                               'title': {'type': 'text'},\n",
      "                                                                                                               'url': {'type': 'text'}}},\n",
      "                                                                                   'text': {'type': 'text'},\n",
      "                                                                                   'vector_field': {'dimension': 1536,\n",
      "                                                                                                    'type': 'knn_vector'}}},\n",
      "                                                       'settings': {'index': {'creation_date': '1700981275340',\n",
      "                                                                              'knn': 'true',\n",
      "                                                                              'knn.space_type': 'cosinesimil',\n",
      "                                                                              'number_of_replicas': '2',\n",
      "                                                                              'number_of_shards': '5',\n",
      "                                                                              'provided_name': 'genai-poc-knox-en-eval-sample-0.02-1024c-256o-v10',\n",
      "                                                                              'uuid': 'JqIk3izNRYuu8tUPqs0zAw',\n",
      "                                                                              'version': {'created': '136307827'}}}}}\n"
     ]
    }
   ],
   "source": [
    "index_exists = opensearch_utils.check_if_index_exists(\n",
    "    os_client,\n",
    "    eval_index_name\n",
    ")\n",
    "\n",
    "if index_exists:\n",
    "    opensearch_utils.delete_index(\n",
    "        os_client,\n",
    "        eval_index_name\n",
    "    )\n",
    "    \n",
    "opensearch_utils.create_index(os_client, eval_index_name, index_body)\n",
    "index_info = os_client.indices.get(index=eval_index_name)\n",
    "print(\"Index is created\")\n",
    "pprint(index_info)    "
   ]
  },
  {
   "cell_type": "markdown",
   "metadata": {},
   "source": [
    "## 검증 인덱스 생성"
   ]
  },
  {
   "cell_type": "code",
   "execution_count": 39,
   "metadata": {
    "tags": []
   },
   "outputs": [
    {
     "data": {
      "text/plain": [
       "<langchain.vectorstores.opensearch_vector_search.OpenSearchVectorSearch at 0x7f3b5611bca0>"
      ]
     },
     "execution_count": 39,
     "metadata": {},
     "output_type": "execute_result"
    }
   ],
   "source": [
    "eval_vector_db = OpenSearchVectorSearch(\n",
    "    index_name= eval_index_name,\n",
    "    opensearch_url=opensearch_domain_endpoint,\n",
    "    embedding_function=llm_emb,\n",
    "    http_auth=http_auth, # http_auth\n",
    "    is_aoss =False,\n",
    "    engine=\"faiss\",\n",
    "    space_type=\"l2\",\n",
    "    bulk_size=100000,\n",
    "    timeout=60    \n",
    ")\n",
    "vector_db"
   ]
  },
  {
   "cell_type": "code",
   "execution_count": 40,
   "metadata": {
    "collapsed": true,
    "jupyter": {
     "outputs_hidden": true
    },
    "tags": []
   },
   "outputs": [
    {
     "name": "stdout",
     "output_type": "stream",
     "text": [
      "CPU times: user 428 ms, sys: 16.5 ms, total: 444 ms\n",
      "Wall time: 14.9 s\n"
     ]
    },
    {
     "data": {
      "text/plain": [
       "['de4fb031-92be-4ddb-a5e4-274a27fd49df',\n",
       " '238ca909-e4d2-47d4-aea3-6578a66f7760',\n",
       " '30620de8-09b5-4d4e-9fc2-9cbd31a8e1a8',\n",
       " '682a4207-7aa1-4a81-a727-76c14a88dcea',\n",
       " '47b35eaa-9e03-40a0-9a88-918a15e355a3',\n",
       " '26ec5b0f-49dd-4988-9b3c-b5d6bbc4b42c',\n",
       " '1a911dcd-5e36-4b96-974d-9d85e556c8e0',\n",
       " 'f06c3777-911b-4dc0-a2e4-9b44398effe4',\n",
       " '9b4499e8-8ffe-4dd7-94f2-cf9a81e1539e',\n",
       " '9a2de8f6-7474-408a-b006-a15a2e41a884',\n",
       " '540517a7-7d02-45fe-8ece-778d85909d9d',\n",
       " '183a7781-ba75-4f07-8129-8a9bceb950ea',\n",
       " 'fdecb30a-6e39-4421-bc38-35d91b772ab2',\n",
       " '05cef790-bb2e-4450-b65c-c21642585406',\n",
       " 'd97e9080-b229-4b74-b737-85404d03617a',\n",
       " '5097d86a-304c-40d8-a49f-f057c1f8232f',\n",
       " 'a8f14bc6-6f8b-4e78-bcf0-034f953681f6',\n",
       " '2bc27b5e-0b1c-4841-82ff-0caa54abc6c9',\n",
       " '70a3b623-b27d-4123-b8d8-d2e18e635fd2',\n",
       " 'e90a0e8f-c32f-4b8b-aa0a-48e5895da947',\n",
       " '92d7a4e6-e05d-4af7-b7bd-d3813fb94481',\n",
       " 'f233df24-38d0-462f-bfa8-39e76df89729',\n",
       " 'ae12eaab-b90d-4730-96aa-2af9d366298e',\n",
       " '6564cc91-f270-4dea-b3df-79015498a2f0',\n",
       " '1494bb28-afd4-4a68-9384-e38539671314',\n",
       " '5e3ddd4b-f811-4d50-baa6-4a46bf34ae51',\n",
       " '7705b1cf-42a4-452c-9a75-45f905617237',\n",
       " '71edc1d5-2db5-4b05-bb0f-5e840b07b0dd',\n",
       " '121cf3e9-b5dc-435b-9fb0-d259ae912c9a',\n",
       " '5c096010-7152-4ec9-b4d9-8451f39cafcd',\n",
       " '8fe8bdb6-944f-4903-a36e-d1a2206bc2fb',\n",
       " '071583b4-7ecd-4525-990c-16f19cf34e47',\n",
       " 'dfb620dd-7ad7-42ab-a386-cd25185a5c36',\n",
       " 'b36d54a6-f7d8-41b5-a56d-7b785b0ddb7a',\n",
       " 'fd65720b-cbe0-4da4-adcb-fd8e502bbc9e',\n",
       " '8a00ff8a-78f4-47b2-bfbf-cadd30ed0087',\n",
       " 'c6ef137a-35f8-4089-952f-0a250258127c',\n",
       " '923cea00-eb88-4584-b353-4e95d297e46a',\n",
       " 'ed2bd9fc-d922-41d1-a3df-ed4470f42d09',\n",
       " 'ffa808d8-eb28-4c77-91fb-b909aabec425',\n",
       " 'c0a32b5b-a3d8-4b03-9eeb-ad809fd2cced',\n",
       " '84f62edd-56bd-422a-87c7-ffd11f27db4d',\n",
       " '9115c08f-57b0-442e-a958-af4b6077a09b',\n",
       " 'c4f088bb-f7f3-446e-8837-9678faec9d34',\n",
       " '0bac64fa-a1cc-4879-84ee-305821c8c935',\n",
       " '38de553e-0198-4695-b02e-0bb1dd31d4dd',\n",
       " 'ed74f3b7-2f62-4270-b36d-0b8625cd8dcd',\n",
       " 'cd65af16-4bff-4df6-a41c-1b49f5b73841',\n",
       " 'f73c0079-5e64-406b-a82c-f69d3de26009',\n",
       " '3f9a610a-61e8-4947-b595-ffe0caceee95',\n",
       " 'c69c5ad0-5e8e-4e74-8d6a-3fbc6b284aad',\n",
       " '983111c5-d2cd-471a-b474-1ea613ced26e',\n",
       " 'b728b899-3f43-4fe7-8366-cd4bfd2496a1',\n",
       " '636a4b11-7c1f-45cd-94ff-30f5a6a73e71',\n",
       " '3e8c9a9e-69f3-461f-b6c5-a09d285d6297',\n",
       " 'c346d96d-02cb-457b-9aa5-9136a4cfcecb',\n",
       " 'db9acc79-5ef0-46b9-80b4-116c51785b60',\n",
       " '68344300-0b54-46c4-82be-57ae3b37cc44',\n",
       " 'efb2975e-2fbb-454d-814b-081cacaa185d',\n",
       " 'c7af7f3d-f752-4c86-bd99-71171bf01e6a',\n",
       " 'debaea23-ad2f-4e21-bc33-4ead2d7e8ab1',\n",
       " '1da529f9-5621-481d-8245-40bbb2435a92',\n",
       " 'c5405ce6-895b-4f5c-bba5-6e5e07030350',\n",
       " '11ebdbfe-b05f-40d8-9412-4af3af3b3362',\n",
       " '18cea910-3789-41f8-b3c0-0d45c9c7ef93',\n",
       " '8bb19e5e-85ab-4a8b-ad95-9efd3660036f',\n",
       " '263e20f5-24b6-40a1-830e-acb63fadd0cd',\n",
       " '631d288a-128d-4eba-80c0-79508de02adb',\n",
       " '81830f89-03e6-4529-8994-437870d18931',\n",
       " 'd07b255d-c07a-41a9-8ea2-3ca9a155e59f',\n",
       " '3cd229df-3467-43de-961a-19e23e490f9b',\n",
       " '45436af7-8b88-41aa-a518-f0e35d33c101',\n",
       " 'b4e74e08-e5c8-43f6-8270-8a1a208d0390',\n",
       " '58a8d137-91a6-43be-ad40-e792cfb7e2cd',\n",
       " '2207c0b7-08cb-43ec-9b56-c65392a3a312',\n",
       " 'f406150b-ee6c-4d95-b2c0-2039bb563e70',\n",
       " '8b99ac21-3467-4601-ac4d-184a61fb0fc4',\n",
       " 'e530a3a1-a943-4ffa-be0e-0552e8336d2d',\n",
       " 'efd8716d-66fd-4714-bd9c-7d05e101f7aa',\n",
       " '67dcdb1e-8f8d-49a2-8a32-b8379b75854e',\n",
       " 'b38831f9-d03b-4d55-b3b6-dfe12a27bd87',\n",
       " '35d12f28-c675-47de-b011-8f4346b30839',\n",
       " 'b7ec2405-e2ab-490b-934f-64ac6944d0d5',\n",
       " '41478db6-b1e3-471b-88bd-4c5613067643',\n",
       " '699fa7d8-33fc-4dbb-818a-e1612697fb4a',\n",
       " 'd527a634-9b44-4a2a-90fa-79c3130bb5f0',\n",
       " 'd37811ff-252c-4c0e-a5d8-6e7fbfe67447',\n",
       " '4fb2c13c-8d37-46e3-bff2-90cfb13b752f',\n",
       " '4379a652-2d4e-4e89-b3e5-015e04ff9db5',\n",
       " '4e0b8b5c-7921-41ed-a445-c48ee6c0dcdc',\n",
       " 'a85dfac6-59fa-4c75-a22e-9f6279bd7b4c',\n",
       " 'f76d684c-f517-4973-91e9-920c694704b9',\n",
       " '2b830648-ab7b-4085-afee-ccf2b4d26456',\n",
       " 'f234ee29-bc0c-4a87-8f61-33d9ba5acff7',\n",
       " 'dadf1145-6b13-4952-866c-8070175cb907',\n",
       " 'b726fa9d-8337-4364-847a-98258e5057ae',\n",
       " '1eaf2745-f69f-42ea-aff0-460bbfe53477',\n",
       " 'b3d1a5b3-7579-4ca5-9741-78473c333b84',\n",
       " '245279d4-6789-4336-a7b8-2b2d75c528fd',\n",
       " '5532bcbe-4b24-471e-86e7-2ca0561c33e9',\n",
       " '5679f09b-f9a8-4346-a948-d72560031c97',\n",
       " '062882f2-e9f8-4fcc-9fa1-709906a1b9cb',\n",
       " '28473095-eadc-4704-bf75-d89b4fe2a2f3',\n",
       " '25e1b53c-3686-4b67-ba35-5df97bb36876',\n",
       " '1d62aaa5-f1c4-4342-9374-4cd707387a51',\n",
       " 'e412f92c-0626-4ed8-95dc-657c345dd938',\n",
       " 'd352caa1-4ec5-4f48-bded-b10fe53998a8',\n",
       " '5bee34ba-b01c-4940-a383-663351eaf104',\n",
       " '4765fb42-5ebf-45e5-8178-025ba2121630',\n",
       " '42a23e8d-48ad-4293-9e71-50a116035c26',\n",
       " 'df24eba8-360f-4cdd-938b-37a8cb9f36f0',\n",
       " 'e4b7b4f4-10f2-489d-bcb7-81f65e7e003d',\n",
       " 'f1d4fb0e-5ac8-4478-8dcb-6fbaf49192dd',\n",
       " 'd0f5a5cb-8ffe-470e-96a1-742895ab68f0',\n",
       " '99bb2146-8dc2-463f-ba14-ef5936a44481',\n",
       " '23844f4b-cb28-4aee-9678-68a131988602',\n",
       " 'da357355-2835-49f6-b7c8-f56f87db2a21',\n",
       " '76b2337e-fce1-4326-855e-1a3c9f88f1c2',\n",
       " '58c5c159-a341-4403-8328-9ff7d9a2b150',\n",
       " 'b925d864-31b4-4446-9882-dcd75559af71',\n",
       " '952708ae-ceb6-4025-a59a-23e4e4c0a965',\n",
       " '125422c2-0034-4a61-9d5c-8eb0a6bf7cbf',\n",
       " '92171a4c-ad5a-4463-8161-24aca5e770f8',\n",
       " 'cd7718cc-ab14-4c65-8ef6-2db4c12f3abb',\n",
       " 'f746a948-9d0b-4090-92ec-1c87f5674498',\n",
       " 'a5329ecf-a03e-45e6-8b2c-0c4e888b2064',\n",
       " '9ae35bd3-d08b-4ef8-b4ea-5f35e9038737',\n",
       " '68e1e6ed-4d0f-4194-a134-6f2bf214916f',\n",
       " 'bc0baea8-73e7-480a-bc86-44f6e19bb9ef',\n",
       " '3ec99669-f7dd-4cdf-85d2-e444412088ad',\n",
       " '1e486bdf-abd2-452f-afbe-73adf910acd8',\n",
       " 'eb55f827-5389-40b4-b4b9-2bf431c0198d',\n",
       " '9db02e5b-31a0-4052-afbc-b3469453c921',\n",
       " 'ebd2a7ae-6a5c-43d9-998d-3114aec6ed47',\n",
       " '961bd03a-562c-441a-817b-93d387ec81f4',\n",
       " 'cab843bc-1e79-492e-9d08-c67024cb9d89',\n",
       " '46bc023b-b2ed-422c-89d6-d6f6f0c97a04',\n",
       " '22fdc90b-1ba6-44be-b925-fbac85ff7127',\n",
       " 'f66b0df4-e4c4-4d83-bed0-4731833d09f2',\n",
       " '54cc9893-c616-4989-bce4-a765146b55d2',\n",
       " '6bae254c-fa75-4b30-864d-56de38fffc2a',\n",
       " '42546a0e-bd8f-47c8-8439-15a0ac963927',\n",
       " 'd79291ef-f798-48ac-bead-e27d8f36e56c',\n",
       " '55465a10-77ed-4cbb-b90b-9c5ea41ff61d',\n",
       " 'c416ce2e-d89a-4a50-8f85-1fb4dfee05a1',\n",
       " '2131f8f5-f94c-4d6f-a0e3-2d4aec455923',\n",
       " '9ea411b1-aa6b-486f-bd18-80223e024b12',\n",
       " '42dc68b2-36dd-47f6-b6f8-6ee8ef8fc5e7',\n",
       " '0aaf48da-d244-4773-9368-2114da69107b',\n",
       " 'b39e65bf-1e47-486e-af3d-7edf9d5f30d1',\n",
       " '84d52557-2baa-4291-95b4-b3a3f0bae46b',\n",
       " '7d647650-a568-429c-934d-7127442a0423']"
      ]
     },
     "execution_count": 40,
     "metadata": {},
     "output_type": "execute_result"
    }
   ],
   "source": [
    "%%time\n",
    "\n",
    "eval_vector_db.add_documents(documents = chunk_docs, \n",
    "                        vector_field = \"vector_field\",\n",
    "                        bulk_size = 1000000)\n"
   ]
  },
  {
   "cell_type": "code",
   "execution_count": 42,
   "metadata": {
    "tags": []
   },
   "outputs": [
    {
     "name": "stdout",
     "output_type": "stream",
     "text": [
      "Query: \n",
      " how to add image\n",
      "##############################\n",
      "similar_docs_semantic\n",
      "##############################\n",
      "\n",
      "Score: 1.0\n",
      "['. Note that this step affects the image in the product details. The thumbnail image always appears in the pop-up, regardless of the size you select. 4. In Fields, select the information that appears when the user the > button to expand the product details in the pop-up. For View-and-update AR templates, admins can specify which fields can be updated by the user by tapping the edit icon (pencil) next to a field name. The edit icon turns blue to indicate fields that can be overwritten. Note that fields only display the edit icon if they were given WRITE permissions in the database. 5. Tap Done to save the settings. Connecting AR to a database server For customers who want to display important product details in the AR overlay every time a barcode is scanned, a connection between Knox Capture and the database server must first be set up. Enterprise organizations are responsible for setting up their own database servers, either through their own IT departments, or from a third-party vendor of their choosing']\n",
      "{'source': 'all_processed_data.json', 'seq_num': 21, 'title': 'Configure AR', 'url': 'https://docs.samsungknox.com/admin/knox-capture/how-to-guides/ar/configure-ar', 'project': 'KCAP', 'last_updated': '2023-07-26'}\n",
      "--------------------------------------------------\n",
      "\n",
      "Score: 0.9967045273947844\n",
      "['. This information is presented in a pop-up above the barcode, and contains the following: Title - This is the main text that appears in the pop-up whenever a barcode is scanned. Image - This image appears as a thumbnail in the pop-up, and as a larger image in the product details whenever the user taps the > button. Fields - This information appears in the the product details after the user taps the > button. To configure the AR overlay information: 1. On the AR templates screen, find the template that you want to customize and tap the menu button (three vertical dots), then tap Edit. 2. In Title, select the data that you want to display as the main title in the pop-up. 3. In Image, select how you want the image to appear - whether a thumbnail or full size image - when the user expands the Product details. Note that this step affects the image in the product details. The thumbnail image always appears in the pop-up, regardless of the size you select. 4']\n",
      "{'source': 'all_processed_data.json', 'seq_num': 21, 'title': 'Configure AR', 'url': 'https://docs.samsungknox.com/admin/knox-capture/how-to-guides/ar/configure-ar', 'project': 'KCAP', 'last_updated': '2023-07-26'}\n",
      "--------------------------------------------------\n",
      "\n",
      "Score: 0.954812985977968\n",
      "['. 2. An app can also be selected by tapping its name, then tapping the All button at the upper-left of the app activities list. Add individual activities visually To add individual apps visually: 1. Within the app activities list page, tap the wand icon in the upper-right corner to launch the visual selection tool. 2. If this is the first time using the visual selection tool, a series of pop-up messages display with information on selecting activities. Tap anywhere on the screen to advance the pop-ups. If the visual selection tool has been previously invoked, the pop-up messages do not display. 3. Navigate within the app to locate an activity. A blue selector overlay (pictured above) displays on each screen to name the activity associated with that screen. Drag this selector around the screen as needed to view the app user interface. 4. To select an activity, tap the radio button next to the activity name within the blue overlay']\n",
      "{'source': 'all_processed_data.json', 'seq_num': 8, 'title': 'Configure apps and activities', 'url': 'https://docs.samsungknox.com/admin/knox-capture/how-to-guides/configure-apps-and-activities', 'project': 'KCAP', 'last_updated': '2023-07-26'}\n",
      "--------------------------------------------------\n",
      "lexical search query: \n",
      "{'query': {'bool': {'filter': [],\n",
      "                    'must': [{'match': {'text': {'minimum_should_match': '75%',\n",
      "                                                 'operator': 'or',\n",
      "                                                 'query': 'how to add '\n",
      "                                                          'image'}}}]}},\n",
      " 'size': 3}\n",
      "##############################\n",
      "similar_docs_keyword\n",
      "##############################\n",
      "\n",
      "Score: 1.0\n",
      "['. This information is presented in a pop-up above the barcode, and contains the following: Title - This is the main text that appears in the pop-up whenever a barcode is scanned. Image - This image appears as a thumbnail in the pop-up, and as a larger image in the product details whenever the user taps the > button. Fields - This information appears in the the product details after the user taps the > button. To configure the AR overlay information: 1. On the AR templates screen, find the template that you want to customize and tap the menu button (three vertical dots), then tap Edit. 2. In Title, select the data that you want to display as the main title in the pop-up. 3. In Image, select how you want the image to appear - whether a thumbnail or full size image - when the user expands the Product details. Note that this step affects the image in the product details. The thumbnail image always appears in the pop-up, regardless of the size you select. 4']\n",
      "{'source': 'all_processed_data.json', 'seq_num': 21, 'title': 'Configure AR', 'url': 'https://docs.samsungknox.com/admin/knox-capture/how-to-guides/ar/configure-ar', 'project': 'KCAP', 'last_updated': '2023-07-26', 'id': '25e1b53c-3686-4b67-ba35-5df97bb36876'}\n",
      "--------------------------------------------------\n",
      "\n",
      "Score: 0.4223669420047169\n",
      "[\". Step 2: Edit the default profile Tap Default scanning profile to explore and edit the profile settings. Note that you cannot change the profile's App list, as the default scanning profile works with all apps on the device. Review Scanning profiles for more information. Step 3: Change scan engine settings On the Default scanning profile screen, tap Knox Capture in the Scanner field to view or change the scan engine settings. In this example, you'll learn how to: Update the profile's list of supported barcode types. Enable a flashlight button during a barcode scan. To change these scan engine settings: 1. Tap Barcode types, then scroll down to review the selected types. Upon creation, profiles automatically use Code 128, Code 39, DataMatrix, EAN8, Interleaved 2 of 5, QR, UPCA, and UPCE. Add or remove a barcode type of your choice. For best performance, only select the barcode types necessary when creating the profile. 2. Tap Save to return to the Scan engine settings screen. 3\"]\n",
      "{'source': 'all_processed_data.json', 'seq_num': 6, 'title': 'Admin get started', 'url': 'https://docs.samsungknox.com/admin/knox-capture/get-started/admin-tutorial', 'project': 'KCAP', 'last_updated': '2023-07-26', 'id': 'a8f14bc6-6f8b-4e78-bcf0-034f953681f6'}\n",
      "--------------------------------------------------\n",
      "\n",
      "Score: 0.42041867158215684\n",
      "[\". 2. Scanner engine settings - specifying the barcode technologies (QR, Code 128, UPCA, etc.), scanning methods (single barcode, multi barcode), and camera behavior (enable flash, allow camera zoom). 3. Keystroke output rules - specifying how barcode data gets converted into keystrokes (append Tab or Enter character to each barcode, add prefix or suffix characters, convert output to hex characters, etc.) Default scanning profile Out-of-the-box, Knox Capture includes a default scanning profile that gets automatically associated with all apps on the device. In other words, when Knox Capture is launched, *any* app can trigger the camera scanner and receive barcode data in the form of keystrokes. This makes it easy to use Knox Capture for basic scanning purposes without any additional setup. When using the default scanning profile, IT admins can change the profile's scan engine settings and data processing rules, however they cannot change the default profile's apps and activities behavior\"]\n",
      "{'source': 'all_processed_data.json', 'seq_num': 13, 'title': 'Scanning profiles', 'url': 'https://docs.samsungknox.com/admin/knox-capture/how-to-guides/create-scanning-profiles', 'project': 'KCAP', 'last_updated': '2023-07-26', 'id': 'efb2975e-2fbb-454d-814b-081cacaa185d'}\n",
      "--------------------------------------------------\n",
      "##############################\n",
      "similar_docs_ensemble\n",
      "##############################\n",
      "\n",
      "Score: 0.01626123744050767\n",
      "['. This information is presented in a pop-up above the barcode, and contains the following: Title - This is the main text that appears in the pop-up whenever a barcode is scanned. Image - This image appears as a thumbnail in the pop-up, and as a larger image in the product details whenever the user taps the > button. Fields - This information appears in the the product details after the user taps the > button. To configure the AR overlay information: 1. On the AR templates screen, find the template that you want to customize and tap the menu button (three vertical dots), then tap Edit. 2. In Title, select the data that you want to display as the main title in the pop-up. 3. In Image, select how you want the image to appear - whether a thumbnail or full size image - when the user expands the Product details. Note that this step affects the image in the product details. The thumbnail image always appears in the pop-up, regardless of the size you select. 4']\n",
      "{'source': 'all_processed_data.json', 'seq_num': 21, 'title': 'Configure AR', 'url': 'https://docs.samsungknox.com/admin/knox-capture/how-to-guides/ar/configure-ar', 'project': 'KCAP', 'last_updated': '2023-07-26', 'id': '25e1b53c-3686-4b67-ba35-5df97bb36876'}\n",
      "--------------------------------------------------\n",
      "\n",
      "Score: 0.00819672131147541\n",
      "['. Note that this step affects the image in the product details. The thumbnail image always appears in the pop-up, regardless of the size you select. 4. In Fields, select the information that appears when the user the > button to expand the product details in the pop-up. For View-and-update AR templates, admins can specify which fields can be updated by the user by tapping the edit icon (pencil) next to a field name. The edit icon turns blue to indicate fields that can be overwritten. Note that fields only display the edit icon if they were given WRITE permissions in the database. 5. Tap Done to save the settings. Connecting AR to a database server For customers who want to display important product details in the AR overlay every time a barcode is scanned, a connection between Knox Capture and the database server must first be set up. Enterprise organizations are responsible for setting up their own database servers, either through their own IT departments, or from a third-party vendor of their choosing']\n",
      "{'source': 'all_processed_data.json', 'seq_num': 21, 'title': 'Configure AR', 'url': 'https://docs.samsungknox.com/admin/knox-capture/how-to-guides/ar/configure-ar', 'project': 'KCAP', 'last_updated': '2023-07-26'}\n",
      "--------------------------------------------------\n",
      "\n",
      "Score: 0.008064516129032258\n",
      "[\". Step 2: Edit the default profile Tap Default scanning profile to explore and edit the profile settings. Note that you cannot change the profile's App list, as the default scanning profile works with all apps on the device. Review Scanning profiles for more information. Step 3: Change scan engine settings On the Default scanning profile screen, tap Knox Capture in the Scanner field to view or change the scan engine settings. In this example, you'll learn how to: Update the profile's list of supported barcode types. Enable a flashlight button during a barcode scan. To change these scan engine settings: 1. Tap Barcode types, then scroll down to review the selected types. Upon creation, profiles automatically use Code 128, Code 39, DataMatrix, EAN8, Interleaved 2 of 5, QR, UPCA, and UPCE. Add or remove a barcode type of your choice. For best performance, only select the barcode types necessary when creating the profile. 2. Tap Save to return to the Scan engine settings screen. 3\"]\n",
      "{'source': 'all_processed_data.json', 'seq_num': 6, 'title': 'Admin get started', 'url': 'https://docs.samsungknox.com/admin/knox-capture/get-started/admin-tutorial', 'project': 'KCAP', 'last_updated': '2023-07-26', 'id': 'a8f14bc6-6f8b-4e78-bcf0-034f953681f6'}\n",
      "--------------------------------------------------\n",
      "CPU times: user 8.82 ms, sys: 378 µs, total: 9.2 ms\n",
      "Wall time: 120 ms\n"
     ]
    }
   ],
   "source": [
    "%%time\n",
    "\n",
    "\n",
    "filter01 = \"[]\"\n",
    "filter02 = \"[]\"\n",
    "\n",
    "query = \"how to add image\"\n",
    "\n",
    "\n",
    "search_hybrid_result = search_hybrid(\n",
    "    query=query,\n",
    "    vector_db= eval_vector_db,\n",
    "    k=3,\n",
    "    index_name= eval_index_name,\n",
    "    os_client=os_client,\n",
    "    filter=[\n",
    "        {\"term\": {\"metadata.type\": filter01}},\n",
    "        {\"term\": {\"metadata.source\": filter02}},\n",
    "    ],\n",
    "    Semantic_Search = False,    \n",
    "    Lexical_Search = False,    \n",
    "    Hybrid_Search = True,     \n",
    "    minimum_should_match = 75,   \n",
    "    fusion_algorithm=\"RRF\", # [\"RRF\", \"simple_weighted\"]\n",
    "    ensemble_weights=[.5, .5], # 시멘트 서치에 가중치 0.5 , 키워드 서치 가중치 0.5 부여.\n",
    "    verbose=True\n",
    ")\n",
    "\n"
   ]
  },
  {
   "cell_type": "markdown",
   "metadata": {},
   "source": [
    "# A. Reference"
   ]
  },
  {
   "cell_type": "markdown",
   "metadata": {},
   "source": [
    "- [Building a RAG AI with OpenSearch Serverless and LangChain](https://caylent.com/blog/building-a-rag-with-open-search-serverless-and-lang-chain)"
   ]
  },
  {
   "cell_type": "code",
   "execution_count": null,
   "metadata": {},
   "outputs": [],
   "source": []
  }
 ],
 "metadata": {
  "availableInstances": [
   {
    "_defaultOrder": 0,
    "_isFastLaunch": true,
    "category": "General purpose",
    "gpuNum": 0,
    "hideHardwareSpecs": false,
    "memoryGiB": 4,
    "name": "ml.t3.medium",
    "vcpuNum": 2
   },
   {
    "_defaultOrder": 1,
    "_isFastLaunch": false,
    "category": "General purpose",
    "gpuNum": 0,
    "hideHardwareSpecs": false,
    "memoryGiB": 8,
    "name": "ml.t3.large",
    "vcpuNum": 2
   },
   {
    "_defaultOrder": 2,
    "_isFastLaunch": false,
    "category": "General purpose",
    "gpuNum": 0,
    "hideHardwareSpecs": false,
    "memoryGiB": 16,
    "name": "ml.t3.xlarge",
    "vcpuNum": 4
   },
   {
    "_defaultOrder": 3,
    "_isFastLaunch": false,
    "category": "General purpose",
    "gpuNum": 0,
    "hideHardwareSpecs": false,
    "memoryGiB": 32,
    "name": "ml.t3.2xlarge",
    "vcpuNum": 8
   },
   {
    "_defaultOrder": 4,
    "_isFastLaunch": true,
    "category": "General purpose",
    "gpuNum": 0,
    "hideHardwareSpecs": false,
    "memoryGiB": 8,
    "name": "ml.m5.large",
    "vcpuNum": 2
   },
   {
    "_defaultOrder": 5,
    "_isFastLaunch": false,
    "category": "General purpose",
    "gpuNum": 0,
    "hideHardwareSpecs": false,
    "memoryGiB": 16,
    "name": "ml.m5.xlarge",
    "vcpuNum": 4
   },
   {
    "_defaultOrder": 6,
    "_isFastLaunch": false,
    "category": "General purpose",
    "gpuNum": 0,
    "hideHardwareSpecs": false,
    "memoryGiB": 32,
    "name": "ml.m5.2xlarge",
    "vcpuNum": 8
   },
   {
    "_defaultOrder": 7,
    "_isFastLaunch": false,
    "category": "General purpose",
    "gpuNum": 0,
    "hideHardwareSpecs": false,
    "memoryGiB": 64,
    "name": "ml.m5.4xlarge",
    "vcpuNum": 16
   },
   {
    "_defaultOrder": 8,
    "_isFastLaunch": false,
    "category": "General purpose",
    "gpuNum": 0,
    "hideHardwareSpecs": false,
    "memoryGiB": 128,
    "name": "ml.m5.8xlarge",
    "vcpuNum": 32
   },
   {
    "_defaultOrder": 9,
    "_isFastLaunch": false,
    "category": "General purpose",
    "gpuNum": 0,
    "hideHardwareSpecs": false,
    "memoryGiB": 192,
    "name": "ml.m5.12xlarge",
    "vcpuNum": 48
   },
   {
    "_defaultOrder": 10,
    "_isFastLaunch": false,
    "category": "General purpose",
    "gpuNum": 0,
    "hideHardwareSpecs": false,
    "memoryGiB": 256,
    "name": "ml.m5.16xlarge",
    "vcpuNum": 64
   },
   {
    "_defaultOrder": 11,
    "_isFastLaunch": false,
    "category": "General purpose",
    "gpuNum": 0,
    "hideHardwareSpecs": false,
    "memoryGiB": 384,
    "name": "ml.m5.24xlarge",
    "vcpuNum": 96
   },
   {
    "_defaultOrder": 12,
    "_isFastLaunch": false,
    "category": "General purpose",
    "gpuNum": 0,
    "hideHardwareSpecs": false,
    "memoryGiB": 8,
    "name": "ml.m5d.large",
    "vcpuNum": 2
   },
   {
    "_defaultOrder": 13,
    "_isFastLaunch": false,
    "category": "General purpose",
    "gpuNum": 0,
    "hideHardwareSpecs": false,
    "memoryGiB": 16,
    "name": "ml.m5d.xlarge",
    "vcpuNum": 4
   },
   {
    "_defaultOrder": 14,
    "_isFastLaunch": false,
    "category": "General purpose",
    "gpuNum": 0,
    "hideHardwareSpecs": false,
    "memoryGiB": 32,
    "name": "ml.m5d.2xlarge",
    "vcpuNum": 8
   },
   {
    "_defaultOrder": 15,
    "_isFastLaunch": false,
    "category": "General purpose",
    "gpuNum": 0,
    "hideHardwareSpecs": false,
    "memoryGiB": 64,
    "name": "ml.m5d.4xlarge",
    "vcpuNum": 16
   },
   {
    "_defaultOrder": 16,
    "_isFastLaunch": false,
    "category": "General purpose",
    "gpuNum": 0,
    "hideHardwareSpecs": false,
    "memoryGiB": 128,
    "name": "ml.m5d.8xlarge",
    "vcpuNum": 32
   },
   {
    "_defaultOrder": 17,
    "_isFastLaunch": false,
    "category": "General purpose",
    "gpuNum": 0,
    "hideHardwareSpecs": false,
    "memoryGiB": 192,
    "name": "ml.m5d.12xlarge",
    "vcpuNum": 48
   },
   {
    "_defaultOrder": 18,
    "_isFastLaunch": false,
    "category": "General purpose",
    "gpuNum": 0,
    "hideHardwareSpecs": false,
    "memoryGiB": 256,
    "name": "ml.m5d.16xlarge",
    "vcpuNum": 64
   },
   {
    "_defaultOrder": 19,
    "_isFastLaunch": false,
    "category": "General purpose",
    "gpuNum": 0,
    "hideHardwareSpecs": false,
    "memoryGiB": 384,
    "name": "ml.m5d.24xlarge",
    "vcpuNum": 96
   },
   {
    "_defaultOrder": 20,
    "_isFastLaunch": false,
    "category": "General purpose",
    "gpuNum": 0,
    "hideHardwareSpecs": true,
    "memoryGiB": 0,
    "name": "ml.geospatial.interactive",
    "supportedImageNames": [
     "sagemaker-geospatial-v1-0"
    ],
    "vcpuNum": 0
   },
   {
    "_defaultOrder": 21,
    "_isFastLaunch": true,
    "category": "Compute optimized",
    "gpuNum": 0,
    "hideHardwareSpecs": false,
    "memoryGiB": 4,
    "name": "ml.c5.large",
    "vcpuNum": 2
   },
   {
    "_defaultOrder": 22,
    "_isFastLaunch": false,
    "category": "Compute optimized",
    "gpuNum": 0,
    "hideHardwareSpecs": false,
    "memoryGiB": 8,
    "name": "ml.c5.xlarge",
    "vcpuNum": 4
   },
   {
    "_defaultOrder": 23,
    "_isFastLaunch": false,
    "category": "Compute optimized",
    "gpuNum": 0,
    "hideHardwareSpecs": false,
    "memoryGiB": 16,
    "name": "ml.c5.2xlarge",
    "vcpuNum": 8
   },
   {
    "_defaultOrder": 24,
    "_isFastLaunch": false,
    "category": "Compute optimized",
    "gpuNum": 0,
    "hideHardwareSpecs": false,
    "memoryGiB": 32,
    "name": "ml.c5.4xlarge",
    "vcpuNum": 16
   },
   {
    "_defaultOrder": 25,
    "_isFastLaunch": false,
    "category": "Compute optimized",
    "gpuNum": 0,
    "hideHardwareSpecs": false,
    "memoryGiB": 72,
    "name": "ml.c5.9xlarge",
    "vcpuNum": 36
   },
   {
    "_defaultOrder": 26,
    "_isFastLaunch": false,
    "category": "Compute optimized",
    "gpuNum": 0,
    "hideHardwareSpecs": false,
    "memoryGiB": 96,
    "name": "ml.c5.12xlarge",
    "vcpuNum": 48
   },
   {
    "_defaultOrder": 27,
    "_isFastLaunch": false,
    "category": "Compute optimized",
    "gpuNum": 0,
    "hideHardwareSpecs": false,
    "memoryGiB": 144,
    "name": "ml.c5.18xlarge",
    "vcpuNum": 72
   },
   {
    "_defaultOrder": 28,
    "_isFastLaunch": false,
    "category": "Compute optimized",
    "gpuNum": 0,
    "hideHardwareSpecs": false,
    "memoryGiB": 192,
    "name": "ml.c5.24xlarge",
    "vcpuNum": 96
   },
   {
    "_defaultOrder": 29,
    "_isFastLaunch": true,
    "category": "Accelerated computing",
    "gpuNum": 1,
    "hideHardwareSpecs": false,
    "memoryGiB": 16,
    "name": "ml.g4dn.xlarge",
    "vcpuNum": 4
   },
   {
    "_defaultOrder": 30,
    "_isFastLaunch": false,
    "category": "Accelerated computing",
    "gpuNum": 1,
    "hideHardwareSpecs": false,
    "memoryGiB": 32,
    "name": "ml.g4dn.2xlarge",
    "vcpuNum": 8
   },
   {
    "_defaultOrder": 31,
    "_isFastLaunch": false,
    "category": "Accelerated computing",
    "gpuNum": 1,
    "hideHardwareSpecs": false,
    "memoryGiB": 64,
    "name": "ml.g4dn.4xlarge",
    "vcpuNum": 16
   },
   {
    "_defaultOrder": 32,
    "_isFastLaunch": false,
    "category": "Accelerated computing",
    "gpuNum": 1,
    "hideHardwareSpecs": false,
    "memoryGiB": 128,
    "name": "ml.g4dn.8xlarge",
    "vcpuNum": 32
   },
   {
    "_defaultOrder": 33,
    "_isFastLaunch": false,
    "category": "Accelerated computing",
    "gpuNum": 4,
    "hideHardwareSpecs": false,
    "memoryGiB": 192,
    "name": "ml.g4dn.12xlarge",
    "vcpuNum": 48
   },
   {
    "_defaultOrder": 34,
    "_isFastLaunch": false,
    "category": "Accelerated computing",
    "gpuNum": 1,
    "hideHardwareSpecs": false,
    "memoryGiB": 256,
    "name": "ml.g4dn.16xlarge",
    "vcpuNum": 64
   },
   {
    "_defaultOrder": 35,
    "_isFastLaunch": false,
    "category": "Accelerated computing",
    "gpuNum": 1,
    "hideHardwareSpecs": false,
    "memoryGiB": 61,
    "name": "ml.p3.2xlarge",
    "vcpuNum": 8
   },
   {
    "_defaultOrder": 36,
    "_isFastLaunch": false,
    "category": "Accelerated computing",
    "gpuNum": 4,
    "hideHardwareSpecs": false,
    "memoryGiB": 244,
    "name": "ml.p3.8xlarge",
    "vcpuNum": 32
   },
   {
    "_defaultOrder": 37,
    "_isFastLaunch": false,
    "category": "Accelerated computing",
    "gpuNum": 8,
    "hideHardwareSpecs": false,
    "memoryGiB": 488,
    "name": "ml.p3.16xlarge",
    "vcpuNum": 64
   },
   {
    "_defaultOrder": 38,
    "_isFastLaunch": false,
    "category": "Accelerated computing",
    "gpuNum": 8,
    "hideHardwareSpecs": false,
    "memoryGiB": 768,
    "name": "ml.p3dn.24xlarge",
    "vcpuNum": 96
   },
   {
    "_defaultOrder": 39,
    "_isFastLaunch": false,
    "category": "Memory Optimized",
    "gpuNum": 0,
    "hideHardwareSpecs": false,
    "memoryGiB": 16,
    "name": "ml.r5.large",
    "vcpuNum": 2
   },
   {
    "_defaultOrder": 40,
    "_isFastLaunch": false,
    "category": "Memory Optimized",
    "gpuNum": 0,
    "hideHardwareSpecs": false,
    "memoryGiB": 32,
    "name": "ml.r5.xlarge",
    "vcpuNum": 4
   },
   {
    "_defaultOrder": 41,
    "_isFastLaunch": false,
    "category": "Memory Optimized",
    "gpuNum": 0,
    "hideHardwareSpecs": false,
    "memoryGiB": 64,
    "name": "ml.r5.2xlarge",
    "vcpuNum": 8
   },
   {
    "_defaultOrder": 42,
    "_isFastLaunch": false,
    "category": "Memory Optimized",
    "gpuNum": 0,
    "hideHardwareSpecs": false,
    "memoryGiB": 128,
    "name": "ml.r5.4xlarge",
    "vcpuNum": 16
   },
   {
    "_defaultOrder": 43,
    "_isFastLaunch": false,
    "category": "Memory Optimized",
    "gpuNum": 0,
    "hideHardwareSpecs": false,
    "memoryGiB": 256,
    "name": "ml.r5.8xlarge",
    "vcpuNum": 32
   },
   {
    "_defaultOrder": 44,
    "_isFastLaunch": false,
    "category": "Memory Optimized",
    "gpuNum": 0,
    "hideHardwareSpecs": false,
    "memoryGiB": 384,
    "name": "ml.r5.12xlarge",
    "vcpuNum": 48
   },
   {
    "_defaultOrder": 45,
    "_isFastLaunch": false,
    "category": "Memory Optimized",
    "gpuNum": 0,
    "hideHardwareSpecs": false,
    "memoryGiB": 512,
    "name": "ml.r5.16xlarge",
    "vcpuNum": 64
   },
   {
    "_defaultOrder": 46,
    "_isFastLaunch": false,
    "category": "Memory Optimized",
    "gpuNum": 0,
    "hideHardwareSpecs": false,
    "memoryGiB": 768,
    "name": "ml.r5.24xlarge",
    "vcpuNum": 96
   },
   {
    "_defaultOrder": 47,
    "_isFastLaunch": false,
    "category": "Accelerated computing",
    "gpuNum": 1,
    "hideHardwareSpecs": false,
    "memoryGiB": 16,
    "name": "ml.g5.xlarge",
    "vcpuNum": 4
   },
   {
    "_defaultOrder": 48,
    "_isFastLaunch": false,
    "category": "Accelerated computing",
    "gpuNum": 1,
    "hideHardwareSpecs": false,
    "memoryGiB": 32,
    "name": "ml.g5.2xlarge",
    "vcpuNum": 8
   },
   {
    "_defaultOrder": 49,
    "_isFastLaunch": false,
    "category": "Accelerated computing",
    "gpuNum": 1,
    "hideHardwareSpecs": false,
    "memoryGiB": 64,
    "name": "ml.g5.4xlarge",
    "vcpuNum": 16
   },
   {
    "_defaultOrder": 50,
    "_isFastLaunch": false,
    "category": "Accelerated computing",
    "gpuNum": 1,
    "hideHardwareSpecs": false,
    "memoryGiB": 128,
    "name": "ml.g5.8xlarge",
    "vcpuNum": 32
   },
   {
    "_defaultOrder": 51,
    "_isFastLaunch": false,
    "category": "Accelerated computing",
    "gpuNum": 1,
    "hideHardwareSpecs": false,
    "memoryGiB": 256,
    "name": "ml.g5.16xlarge",
    "vcpuNum": 64
   },
   {
    "_defaultOrder": 52,
    "_isFastLaunch": false,
    "category": "Accelerated computing",
    "gpuNum": 4,
    "hideHardwareSpecs": false,
    "memoryGiB": 192,
    "name": "ml.g5.12xlarge",
    "vcpuNum": 48
   },
   {
    "_defaultOrder": 53,
    "_isFastLaunch": false,
    "category": "Accelerated computing",
    "gpuNum": 4,
    "hideHardwareSpecs": false,
    "memoryGiB": 384,
    "name": "ml.g5.24xlarge",
    "vcpuNum": 96
   },
   {
    "_defaultOrder": 54,
    "_isFastLaunch": false,
    "category": "Accelerated computing",
    "gpuNum": 8,
    "hideHardwareSpecs": false,
    "memoryGiB": 768,
    "name": "ml.g5.48xlarge",
    "vcpuNum": 192
   },
   {
    "_defaultOrder": 55,
    "_isFastLaunch": false,
    "category": "Accelerated computing",
    "gpuNum": 8,
    "hideHardwareSpecs": false,
    "memoryGiB": 1152,
    "name": "ml.p4d.24xlarge",
    "vcpuNum": 96
   },
   {
    "_defaultOrder": 56,
    "_isFastLaunch": false,
    "category": "Accelerated computing",
    "gpuNum": 8,
    "hideHardwareSpecs": false,
    "memoryGiB": 1152,
    "name": "ml.p4de.24xlarge",
    "vcpuNum": 96
   }
  ],
  "instance_type": "ml.m5.xlarge",
  "kernelspec": {
   "display_name": "Python 3 (Data Science 3.0)",
   "language": "python",
   "name": "python3__SAGEMAKER_INTERNAL__arn:aws:sagemaker:us-east-1:081325390199:image/sagemaker-data-science-310-v1"
  },
  "language_info": {
   "codemirror_mode": {
    "name": "ipython",
    "version": 3
   },
   "file_extension": ".py",
   "mimetype": "text/x-python",
   "name": "python",
   "nbconvert_exporter": "python",
   "pygments_lexer": "ipython3",
   "version": "3.10.6"
  }
 },
 "nbformat": 4,
 "nbformat_minor": 4
}
