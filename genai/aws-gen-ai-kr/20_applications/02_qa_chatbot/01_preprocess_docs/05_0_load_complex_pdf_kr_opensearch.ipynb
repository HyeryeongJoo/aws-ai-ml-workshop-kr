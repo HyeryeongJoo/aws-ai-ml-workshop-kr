{
 "cells": [
  {
   "cell_type": "markdown",
   "id": "02129bd0-af47-4fd6-91af-81613fc40511",
   "metadata": {},
   "source": [
    "# Preprocessing for complex PDF"
   ]
  },
  {
   "cell_type": "markdown",
   "id": "9334e485-ef50-4ba1-b86e-b6a80c2ee676",
   "metadata": {},
   "source": [
    "## Setting\n",
    " - Auto Reload\n",
    " - path for utils"
   ]
  },
  {
   "cell_type": "code",
   "execution_count": 113,
   "id": "fefce95b-b2aa-4524-92bc-28b12699ec84",
   "metadata": {
    "tags": []
   },
   "outputs": [
    {
     "name": "stdout",
     "output_type": "stream",
     "text": [
      "The autoreload extension is already loaded. To reload it, use:\n",
      "  %reload_ext autoreload\n"
     ]
    }
   ],
   "source": [
    "%load_ext autoreload\n",
    "%autoreload 2"
   ]
  },
  {
   "cell_type": "code",
   "execution_count": 114,
   "id": "802b9aa2-a15a-46f5-925d-0f89afb2a611",
   "metadata": {
    "tags": []
   },
   "outputs": [
    {
     "name": "stdout",
     "output_type": "stream",
     "text": [
      "python path: /home/ec2-user/SageMaker/aws-ai-ml-workshop-kr/genai/aws-gen-ai-kr already exists\n",
      "sys.path:  ['/home/ec2-user/SageMaker/aws-ai-ml-workshop-kr/genai/aws-gen-ai-kr/20_applications/02_qa_chatbot/01_preprocess_docs', '/home/ec2-user/anaconda3/envs/python3/lib/python310.zip', '/home/ec2-user/anaconda3/envs/python3/lib/python3.10', '/home/ec2-user/anaconda3/envs/python3/lib/python3.10/lib-dynload', '', '/home/ec2-user/anaconda3/envs/python3/lib/python3.10/site-packages', '/home/ec2-user/SageMaker/aws-ai-ml-workshop-kr/genai/aws-gen-ai-kr']\n"
     ]
    }
   ],
   "source": [
    "import sys, os\n",
    "\n",
    "def add_python_path(module_path):\n",
    "    if os.path.abspath(module_path) not in sys.path:\n",
    "        sys.path.append(os.path.abspath(module_path))\n",
    "        print(f\"python path: {os.path.abspath(module_path)} is added\")\n",
    "    else:\n",
    "        print(f\"python path: {os.path.abspath(module_path)} already exists\")\n",
    "    print(\"sys.path: \", sys.path)\n",
    "\n",
    "module_path = \"../../..\"\n",
    "add_python_path(module_path)"
   ]
  },
  {
   "cell_type": "markdown",
   "id": "9508a21d-0d22-4adc-b928-e6c0bccaa9a6",
   "metadata": {},
   "source": [
    "## 1. Create Bedrock client"
   ]
  },
  {
   "cell_type": "code",
   "execution_count": 115,
   "id": "1da8e4df-ef07-4cb0-b76b-cc327073425c",
   "metadata": {
    "tags": []
   },
   "outputs": [],
   "source": [
    "import json\n",
    "import boto3\n",
    "from pprint import pprint\n",
    "from termcolor import colored\n",
    "from utils import bedrock, print_ww\n",
    "from utils.bedrock import bedrock_info"
   ]
  },
  {
   "cell_type": "markdown",
   "id": "4d5f222a-2cdc-490e-b1e4-43429414dcd9",
   "metadata": {},
   "source": [
    "### ---- ⚠️ Un-comment and edit the below lines as needed for your AWS setup ⚠️ ----\n",
    "- os.environ[\"AWS_DEFAULT_REGION\"] = \"<REGION_NAME>\"  # E.g. \"us-east-1\"\n",
    "- os.environ[\"AWS_PROFILE\"] = \"<YOUR_PROFILE>\"\n",
    "- os.environ[\"BEDROCK_ASSUME_ROLE\"] = \"<YOUR_ROLE_ARN>\"  # E.g. \"arn:aws:...\"\n",
    "- os.environ[\"BEDROCK_ENDPOINT_URL\"] = \"<YOUR_ENDPOINT_URL>\"  # E.g. \"https://...\""
   ]
  },
  {
   "cell_type": "code",
   "execution_count": 116,
   "id": "b10630ae-e48d-4ae3-ae4d-187d5bd232f4",
   "metadata": {
    "tags": []
   },
   "outputs": [
    {
     "name": "stdout",
     "output_type": "stream",
     "text": [
      "Create new client\n",
      "  Using region: None\n",
      "  Using profile: None\n",
      "boto3 Bedrock client successfully created!\n",
      "bedrock-runtime(https://bedrock-runtime.us-east-1.amazonaws.com)\n",
      "\u001b[32m\n",
      "== FM lists ==\u001b[0m\n",
      "{'Claude-Instant-V1': 'anthropic.claude-instant-v1',\n",
      " 'Claude-V1': 'anthropic.claude-v1',\n",
      " 'Claude-V2': 'anthropic.claude-v2',\n",
      " 'Claude-V2-1': 'anthropic.claude-v2:1',\n",
      " 'Claude-V3-Haiku': 'anthropic.claude-3-haiku-20240307-v1:0',\n",
      " 'Claude-V3-Sonnet': 'anthropic.claude-3-sonnet-20240229-v1:0',\n",
      " 'Cohere-Embeddings-En': 'cohere.embed-english-v3',\n",
      " 'Cohere-Embeddings-Multilingual': 'cohere.embed-multilingual-v3',\n",
      " 'Command': 'cohere.command-text-v14',\n",
      " 'Command-Light': 'cohere.command-light-text-v14',\n",
      " 'Jurassic-2-Mid': 'ai21.j2-mid-v1',\n",
      " 'Jurassic-2-Ultra': 'ai21.j2-ultra-v1',\n",
      " 'Llama2-13b-Chat': 'meta.llama2-13b-chat-v1',\n",
      " 'Titan-Embeddings-G1': 'amazon.titan-embed-text-v1',\n",
      " 'Titan-Text-G1': 'amazon.titan-text-express-v1',\n",
      " 'Titan-Text-G1-Light': 'amazon.titan-text-lite-v1'}\n"
     ]
    }
   ],
   "source": [
    "boto3_bedrock = bedrock.get_bedrock_client(\n",
    "    assumed_role=os.environ.get(\"BEDROCK_ASSUME_ROLE\", None),\n",
    "    endpoint_url=os.environ.get(\"BEDROCK_ENDPOINT_URL\", None),\n",
    "    region=os.environ.get(\"AWS_DEFAULT_REGION\", None),\n",
    ")\n",
    "\n",
    "print (colored(\"\\n== FM lists ==\", \"green\"))\n",
    "pprint (bedrock_info.get_list_fm_models(verbose=False))"
   ]
  },
  {
   "cell_type": "markdown",
   "id": "c4ecb09e-2662-4cee-8c4b-c4ac9228fe3d",
   "metadata": {},
   "source": [
    "## 2. Titan Embedding 및 LLM 인 Claude-v3-sonnet 모델 로딩"
   ]
  },
  {
   "cell_type": "markdown",
   "id": "9f351fdc-ed28-4b00-9150-e755e51932f7",
   "metadata": {
    "tags": []
   },
   "source": [
    "### LLM 로딩 (Claude-v3-sonnet)"
   ]
  },
  {
   "cell_type": "code",
   "execution_count": 117,
   "id": "decf2bc3-a873-4bd6-838b-6ce4cb9fe879",
   "metadata": {
    "tags": []
   },
   "outputs": [],
   "source": [
    "from langchain_community.chat_models import BedrockChat\n",
    "from langchain.callbacks.streaming_stdout import StreamingStdOutCallbackHandler"
   ]
  },
  {
   "cell_type": "code",
   "execution_count": 118,
   "id": "1585f9ee-4de7-4a16-b219-f3bde8d84b79",
   "metadata": {
    "tags": []
   },
   "outputs": [
    {
     "data": {
      "text/plain": [
       "BedrockChat(client=<botocore.client.BedrockRuntime object at 0x7f016baa70a0>, model_id='anthropic.claude-3-sonnet-20240229-v1:0', model_kwargs={'max_tokens': 1024, 'stop_sequences': ['\\n\\nHuman']}, streaming=True, callbacks=[<langchain_core.callbacks.streaming_stdout.StreamingStdOutCallbackHandler object at 0x7f01683fc4f0>])"
      ]
     },
     "execution_count": 118,
     "metadata": {},
     "output_type": "execute_result"
    }
   ],
   "source": [
    "llm_text = BedrockChat(\n",
    "    model_id=bedrock_info.get_model_id(model_name=\"Claude-V3-Sonnet\"),\n",
    "    client=boto3_bedrock,\n",
    "    streaming=True,\n",
    "    callbacks=[StreamingStdOutCallbackHandler()],\n",
    "    model_kwargs={\n",
    "        \"max_tokens\": 1024,\n",
    "        \"stop_sequences\": [\"\\n\\nHuman\"],\n",
    "        # \"temperature\": 0,\n",
    "        # \"top_k\": 350,\n",
    "        # \"top_p\": 0.999\n",
    "    }\n",
    ")\n",
    "llm_text"
   ]
  },
  {
   "cell_type": "markdown",
   "id": "0ba6e5b8-f40f-4bc8-a823-53a280ecea66",
   "metadata": {
    "tags": []
   },
   "source": [
    "### Embedding 모델 선택"
   ]
  },
  {
   "cell_type": "code",
   "execution_count": 119,
   "id": "6cad9168-72e3-4906-8abe-f5a23638cfde",
   "metadata": {
    "tags": []
   },
   "outputs": [],
   "source": [
    "from langchain.embeddings import BedrockEmbeddings"
   ]
  },
  {
   "cell_type": "code",
   "execution_count": 120,
   "id": "069404eb-4daf-4ff9-aadd-0ef694df22d2",
   "metadata": {
    "tags": []
   },
   "outputs": [
    {
     "name": "stdout",
     "output_type": "stream",
     "text": [
      "Bedrock Embeddings Model Loaded\n"
     ]
    }
   ],
   "source": [
    "llm_emb = BedrockEmbeddings(\n",
    "    client=boto3_bedrock,\n",
    "    model_id=bedrock_info.get_model_id(model_name=\"Titan-Embeddings-G1\")\n",
    ")\n",
    "dimension = 1536\n",
    "print(\"Bedrock Embeddings Model Loaded\")"
   ]
  },
  {
   "cell_type": "markdown",
   "id": "de224b4a-05ae-4f40-82a4-1109b33ff452",
   "metadata": {},
   "source": [
    "## 3. 데이터 준비 \n",
    "- https://python.langchain.com/docs/integrations/document_loaders/unstructured_file\n",
    "- cleansing: https://unstructured-io.github.io/unstructured/core/cleaning.html"
   ]
  },
  {
   "cell_type": "markdown",
   "id": "91c35df1-4183-4285-bfa7-17bff9fe9169",
   "metadata": {},
   "source": [
    "### Extract Text, Table and Image from documents"
   ]
  },
  {
   "cell_type": "code",
   "execution_count": 121,
   "id": "01fd7d69-23ea-4300-9eea-aa62e2eafd36",
   "metadata": {
    "tags": []
   },
   "outputs": [],
   "source": [
    "import shutil\n",
    "from glob import glob\n",
    "from unstructured.cleaners.core import clean_bullets, clean_extra_whitespace\n",
    "from langchain_community.document_loaders import UnstructuredFileLoader, UnstructuredAPIFileLoader"
   ]
  },
  {
   "cell_type": "markdown",
   "id": "63ff2661-6363-4f4a-ae53-31061994bbcf",
   "metadata": {
    "tags": []
   },
   "source": [
    "Parameters\n",
    "----------\n",
    "- filename\n",
    "    - A string defining the target filename path.\n",
    "- content_type\n",
    "    - A string defining the file content in MIME type\n",
    "- file\n",
    "    - A file-like object using \"rb\" mode --> open(filename, \"rb\").\n",
    "- metadata_filename\n",
    "    - When file is not None, the filename (string) to store in element metadata. E.g. \"foo.txt\"\n",
    "- url\n",
    "    - The url for a remote document. Pass in content_type if you want partition to treat the document as a specific content_type.\n",
    "- include_page_breaks\n",
    "    - If True, the output will include page breaks if the filetype supports it\n",
    "- strategy\n",
    "    - The strategy to use for partitioning PDF/image. Uses a layout detection model if set to 'hi_res', otherwise partition simply extracts the text from the document and processes it.\n",
    "- encoding\n",
    "    - The encoding method used to decode the text input. If None, utf-8 will be used.\n",
    "- headers\n",
    "    - The headers to be used in conjunction with the HTTP request if URL is set.\n",
    "- skip_infer_table_types\n",
    "    - The document types that you want to skip table extraction with.\n",
    "- ssl_verify\n",
    "    - If the URL parameter is set, determines whether or not partition uses SSL verification in the HTTP request.\n",
    "- languages\n",
    "    - The languages present in the document, for use in partitioning and/or OCR. For partitioning <BR>\n",
    "    image or pdf documents with Tesseract, you'll first need to install the appropriate <BR>\n",
    "    Tesseract language pack. For other partitions, language is detected using naive Bayesian <BR>\n",
    "    filter via `langdetect`. Multiple languages indicates text could be in either language. <BR>\n",
    "    Additional Parameters: <BR>\n",
    "        - detect_language_per_element <BR>\n",
    "            - Detect language per element instead of at the document level.\n",
    "    \n",
    "- pdf_infer_table_structure\n",
    "    - If True and strategy=hi_res, any Table Elements extracted from a PDF will include an\n",
    "    additional metadata field, \"text_as_html,\" where the value (string) is a just a\n",
    "    transformation of the data into an HTML <table>.\n",
    "    The \"text\" field for a partitioned Table Element is always present, whether True or False.\n",
    "- extract_images_in_pdf\n",
    "    - Only applicable if `strategy=hi_res`.\n",
    "    If True, any detected images will be saved in the path specified by\n",
    "    'extract_image_block_output_dir' or stored as base64 encoded data within metadata fields.\n",
    "    Deprecation Note: This parameter is marked for deprecation. Future versions will use\n",
    "    'extract_image_block_types' for broader extraction capabilities.\n",
    "- extract_image_block_types\n",
    "    - Only applicable if `strategy=hi_res`.\n",
    "    Images of the element type(s) specified in this list (e.g., [\"Image\", \"Table\"]) will be\n",
    "    saved in the path specified by 'extract_image_block_output_dir' or stored as base64\n",
    "    encoded data within metadata fields.\n",
    "- extract_image_block_to_payload\n",
    "    - Only applicable if `strategy=hi_res`.\n",
    "    If True, images of the element type(s) defined in 'extract_image_block_types' will be\n",
    "    encoded as base64 data and stored in two metadata fields: 'image_base64' and\n",
    "    'image_mime_type'.\n",
    "    This parameter facilitates the inclusion of element data directly within the payload,\n",
    "    especially for web-based applications or APIs.\n",
    "- extract_image_block_output_dir\n",
    "    - Only applicable if `strategy=hi_res` and `extract_image_block_to_payload=False`.\n",
    "    The filesystem path for saving images of the element type(s)\n",
    "    specified in 'extract_image_block_types'.\n",
    "- xml_keep_tags\n",
    "    - If True, will retain the XML tags in the output. Otherwise it will simply extract\n",
    "    the text from within the tags. Only applies to partition_xml.\n",
    "- request_timeout\n",
    "    - The timeout for the HTTP request if URL is set. Defaults to None meaning no timeout and\n",
    "    requests will block indefinitely.\n",
    "- hi_res_model_name\n",
    "    - The layout detection model used when partitioning strategy is set to `hi_res`.\n",
    "- model_name\n",
    "    - The layout detection model used when partitioning strategy is set to `hi_res`. To be\n",
    "    deprecated in favor of `hi_res_model_name`."
   ]
  },
  {
   "cell_type": "code",
   "execution_count": 123,
   "id": "7ab8820a-1906-41c3-a457-1bafe59eac49",
   "metadata": {
    "tags": []
   },
   "outputs": [],
   "source": [
    "image_path = \"./fig\"\n",
    "if os.path.isdir(image_path): shutil.rmtree(image_path)\n",
    "\n",
    "loader = UnstructuredFileLoader(\n",
    "    file_path=\"./data/complex_pdf/sample-doc.docx\",\n",
    "    #file_path=\"./data/complex_pdf/safety-administrator-job-manual.pdf\",\n",
    "\n",
    "    chunking_strategy = \"by_title\",\n",
    "    mode=\"elements\",\n",
    "\n",
    "    strategy=\"hi_res\",\n",
    "    hi_res_model_name=\"yolox\",\n",
    "\n",
    "    extract_images_in_pdf=True,\n",
    "    #skip_infer_table_types='[]',\n",
    "    pdf_infer_table_structure=False,\n",
    "\n",
    "    extract_image_block_output_dir=image_path,\n",
    "    extract_image_block_to_payload=False, ## False: to save image\n",
    "\n",
    "    post_processors=[clean_bullets, clean_extra_whitespace]\n",
    ")"
   ]
  },
  {
   "cell_type": "code",
   "execution_count": 124,
   "id": "f320a808-c49a-47d3-bb45-4e96ae690606",
   "metadata": {
    "tags": []
   },
   "outputs": [
    {
     "name": "stderr",
     "output_type": "stream",
     "text": [
      "javaldx: Could not find a Java Runtime Environment!\n",
      "Warning: failed to read path from javaldx\n"
     ]
    },
    {
     "name": "stdout",
     "output_type": "stream",
     "text": [
      "CPU times: user 101 ms, sys: 163 µs, total: 102 ms\n",
      "Wall time: 940 ms\n"
     ]
    }
   ],
   "source": [
    "%%time\n",
    "docs = loader.load()"
   ]
  },
  {
   "cell_type": "code",
   "execution_count": 125,
   "id": "e3ae854b-f608-4c7e-8539-296541f1ea68",
   "metadata": {
    "tags": []
   },
   "outputs": [
    {
     "name": "stdout",
     "output_type": "stream",
     "text": [
      " # texts: 2 \n",
      " # tables: 38 \n",
      " # images: 0\n"
     ]
    }
   ],
   "source": [
    "tables, texts = [], []\n",
    "\n",
    "for doc in docs:\n",
    "\n",
    "    category = doc.metadata[\"category\"]\n",
    "\n",
    "    if category == \"Table\": tables.append(doc)\n",
    "    elif category == \"Image\": images.append(doc)\n",
    "    else: texts.append(doc)\n",
    "\n",
    "images = glob(os.path.join(image_path, \"*\"))\n",
    "\n",
    "print (f' # texts: {len(texts)} \\n # tables: {len(tables)} \\n # images: {len(images)}')"
   ]
  },
  {
   "cell_type": "markdown",
   "id": "fb16fd2a-1983-462d-94d8-4c62e81ef28c",
   "metadata": {
    "tags": []
   },
   "source": [
    "### Summarization of table and image\n",
    "- BedrockChat with claude3: https://medium.com/@dminhk/building-with-anthropics-claude-3-on-amazon-bedrock-and-langchain-%EF%B8%8F-2b842f9c0ca8"
   ]
  },
  {
   "cell_type": "code",
   "execution_count": 126,
   "id": "dca57b50-b89e-4146-912c-a4fcc75168ee",
   "metadata": {
    "tags": []
   },
   "outputs": [],
   "source": [
    "from langchain.schema import Document\n",
    "from langchain_core.messages import HumanMessage\n",
    "from langchain.schema.output_parser import StrOutputParser\n",
    "from langchain_core.prompts import ChatPromptTemplate, HumanMessagePromptTemplate, SystemMessagePromptTemplate"
   ]
  },
  {
   "cell_type": "code",
   "execution_count": 127,
   "id": "5a6631c9-07cc-4475-9154-22400e59f4ef",
   "metadata": {
    "tags": []
   },
   "outputs": [],
   "source": [
    "system_prompt = \"You are an assistant tasked with describing table and image.\"\n",
    "system_message_template = SystemMessagePromptTemplate.from_template(system_prompt)"
   ]
  },
  {
   "cell_type": "markdown",
   "id": "c1368851-8a18-4b1c-8136-15eabc193298",
   "metadata": {},
   "source": [
    "### For images"
   ]
  },
  {
   "cell_type": "code",
   "execution_count": 128,
   "id": "680fc345-fa61-4635-bb8b-0ea724016cac",
   "metadata": {
    "tags": []
   },
   "outputs": [],
   "source": [
    "import base64\n",
    "from PIL import Image\n",
    "from io import BytesIO\n",
    "import matplotlib.pyplot as plt"
   ]
  },
  {
   "cell_type": "code",
   "execution_count": 129,
   "id": "eb17b665-25cf-4bed-820e-2f8e716c15bf",
   "metadata": {
    "tags": []
   },
   "outputs": [],
   "source": [
    "def image_to_base64(image_path):\n",
    "    \n",
    "    with open(image_path, \"rb\") as image_file:\n",
    "        encoded_string = base64.b64encode(image_file.read())\n",
    "        \n",
    "    return encoded_string.decode('utf-8')"
   ]
  },
  {
   "cell_type": "code",
   "execution_count": 130,
   "id": "12fecb7f-cd5c-45a8-937c-97a73cf02b96",
   "metadata": {
    "tags": []
   },
   "outputs": [],
   "source": [
    "human_prompt = [\n",
    "    {\n",
    "        \"type\": \"image_url\",\n",
    "        \"image_url\": {\n",
    "            \"url\": \"data:image/png;base64,\" + \"{image_base64}\",\n",
    "        },\n",
    "    },\n",
    "    {\n",
    "        \"type\": \"text\",\n",
    "        \"text\": '''\n",
    "                 Given image, give a concise summary.\n",
    "                 Don't insert any XML tag such as <text> and </text> when answering.\n",
    "                 Write in Korean.\n",
    "        '''\n",
    "    },\n",
    "]\n",
    "human_message_template = HumanMessagePromptTemplate.from_template(human_prompt)"
   ]
  },
  {
   "cell_type": "code",
   "execution_count": 131,
   "id": "4a21f1d9-2fee-47b9-a28a-cd48727e98a1",
   "metadata": {
    "tags": []
   },
   "outputs": [],
   "source": [
    "prompt = ChatPromptTemplate.from_messages(\n",
    "    [\n",
    "        system_message_template,\n",
    "        human_message_template\n",
    "    ]\n",
    ")\n",
    "\n",
    "#summarize_chain = prompt | llm_text | StrOutputParser()\n",
    "summarize_chain = {\"image_base64\": lambda x:x} | prompt | llm_text | StrOutputParser()"
   ]
  },
  {
   "cell_type": "code",
   "execution_count": 132,
   "id": "40b847d9-1bb0-41be-a8fd-c1d8cf926a79",
   "metadata": {
    "tags": []
   },
   "outputs": [],
   "source": [
    "img_info = [image_to_base64(img_path) for img_path in images]"
   ]
  },
  {
   "cell_type": "code",
   "execution_count": 133,
   "id": "9e3537a4-dfc2-4645-9431-fa5949d8861f",
   "metadata": {
    "tags": []
   },
   "outputs": [],
   "source": [
    "image_summaries = summarize_chain.batch(img_info, config={\"max_concurrency\": 1})"
   ]
  },
  {
   "cell_type": "code",
   "execution_count": 134,
   "id": "03a4109e-3510-4924-9398-c8f1b4ba9148",
   "metadata": {
    "tags": []
   },
   "outputs": [],
   "source": [
    "verbose = True\n",
    "if verbose:\n",
    "    for img_base64, summary in zip(img_info, image_summaries):\n",
    "        \n",
    "        print (\"============================\")\n",
    "        img = Image.open(BytesIO(base64.b64decode(img_base64)))\n",
    "        plt.imshow(img)\n",
    "        plt.show()\n",
    "        \n",
    "        print (f'Summary: {summary}')"
   ]
  },
  {
   "cell_type": "markdown",
   "id": "18256cfd-9cf8-4e92-a2ae-c9b921db773c",
   "metadata": {},
   "source": [
    "`요약`된 내용을 Document의 `page_content`로, `OCR`결과는 metadata의 `origin_image`로 사용"
   ]
  },
  {
   "cell_type": "code",
   "execution_count": 135,
   "id": "22f4e057-b74a-4cf2-bcbd-ad0cc4d70638",
   "metadata": {
    "tags": []
   },
   "outputs": [],
   "source": [
    "images_preprocessed = []\n",
    "\n",
    "for img_path, image_base64, summary in zip(images, img_info, image_summaries):\n",
    "    \n",
    "    metadata = {}\n",
    "    metadata[\"img_path\"] = img_path\n",
    "    metadata[\"category\"] = \"Image\"\n",
    "    metadata[\"image_base64\"] = image_base64\n",
    "    \n",
    "    doc = Document(\n",
    "        page_content=summary,\n",
    "        metadata=metadata\n",
    "    )\n",
    "    images_preprocessed.append(doc)"
   ]
  },
  {
   "cell_type": "code",
   "execution_count": 136,
   "id": "4a561c45-470a-4699-8579-69f31b68392b",
   "metadata": {
    "tags": []
   },
   "outputs": [
    {
     "data": {
      "text/plain": [
       "[]"
      ]
     },
     "execution_count": 136,
     "metadata": {},
     "output_type": "execute_result"
    }
   ],
   "source": [
    "images_preprocessed"
   ]
  },
  {
   "cell_type": "markdown",
   "id": "ded6c937-5a11-4907-b5bb-bee6ad0486a7",
   "metadata": {},
   "source": [
    "### For tables"
   ]
  },
  {
   "cell_type": "code",
   "execution_count": 137,
   "id": "001cd053-ef1e-41f7-ac42-868b4d28cd8c",
   "metadata": {
    "tags": []
   },
   "outputs": [],
   "source": [
    "human_prompt = [\n",
    "    {\n",
    "        \"type\": \"text\",\n",
    "        \"text\": '''\n",
    "                 Here is the table: <table>{table}</table>\n",
    "                 Given table, give a concise summary.\n",
    "                 Don't insert any XML tag such as <table> and </table> when answering.\n",
    "                 Write in Korean.\n",
    "        '''\n",
    "    },\n",
    "]\n",
    "human_message_template = HumanMessagePromptTemplate.from_template(human_prompt)"
   ]
  },
  {
   "cell_type": "code",
   "execution_count": 138,
   "id": "45cc06b5-2c72-4b21-bf1b-b467ee2816b9",
   "metadata": {
    "tags": []
   },
   "outputs": [],
   "source": [
    "prompt = ChatPromptTemplate.from_messages(\n",
    "    [\n",
    "        system_message_template,\n",
    "        human_message_template\n",
    "    ]\n",
    ")\n",
    "\n",
    "#summarize_chain = prompt | llm_text | StrOutputParser()\n",
    "summarize_chain = {\"table\": lambda x:x} | prompt | llm_text | StrOutputParser()"
   ]
  },
  {
   "cell_type": "code",
   "execution_count": null,
   "id": "feb76e1e-bafc-424d-8375-67cdc37fd5e2",
   "metadata": {
    "tags": []
   },
   "outputs": [
    {
     "name": "stdout",
     "output_type": "stream",
     "text": [
      "이 표는 직원의 인사 정보를 보여주고 있습니다. 직원 이름, 현재 직책, 승진 분기, 상사 이름, 제안된 새 직책, 현재 직급 근무 기간, 팀 소속 여부, 현재 비즈니스 타이틀, 승진 승인자, 직속 상사 여부, 제안된 새 비즈니스 타이틀 등의 정보가 포함되어 있습니다. 이 표를 통해 직원의 승진 및 인사 이동 관련 정보를 파악할 수 있습니다.표가 제공되지 않아 요약할 내용이 없습니다. 표가 있다면 간단하고 명확하게 요약하여 한국어로 설명해 드리겠습니다.이 표는 모든 프로모션 피드백이 Promote에서 수집된다는 것을 알려줍니다. 관리자는 Promote에서 직접 요청을 보내고 피드백을 추적하며 검토해야 합니다. 관리자와 프로모션 승인자는 Promote에서 피드백 요약과 각 피드백 응답을 다운로드하여 이 오프라인 템플릿으로 검토할 수 있습니다.역할 범위 섹션은 해당 역할을 맡는 모든 사람에게 적용되는 방식으로 작성되어야 합니다. 역할 범위는 두 가지를 달성해야 합니다:\n",
      "1) 현재 역할의 책임, 복잡성, 모호성, 필요한 영향력 수준 및 영향에 대한 설명\n",
      "2) 다음 수준에서의 역할 범위 정의\n",
      "역할 범위 작성에 대해 자세히 알아보세요. (500단어 이내로 작성하는 것이 좋습니다)안타깝게도 제공된 표가 비어있어서 요약할 내용이 없습니다. 표에 데이터가 있다면 그 내용을 간단하게 한국어로 요약하여 설명해 드리겠습니다.주어진 테이블에는 아무 데이터도 포함되어 있지 않습니다. 제가 요약할 정보가 없습니다. 따라서 제가 한국어로 요약한 내용은 없습니다.이 표는 직원의 승진 평가를 위한 가이드라인을 제시하고 있습니다. 직원이 다음 단계에서 어떻게 수행하고 있는지, 그리고 리더십 원칙을 어떻게 구현하고 있는지에 대한 예시를 들어 설명하라고 요구하고 있습니다. 직원의 주요 성과와 실수 사례를 포함하여 설명해야 하며, 최고 인재를 채용하고 육성할 수 있는 능력에 대해서도 언급해야 합니다. 리더는 매번 채용과 승진을 통해 성과 기준을 높이고, 탁월한 인재를 인정하며, 직원들이 조직 내에서 자유롭게 이동할 수 있도록 해야 합니다. 또한 리더는 리더를 육성하고 이를 매우 진지하게 받아들여야 합니다.주어진 표는 직원의 연간 성과 평가를 작성하기 위한 가이드라인을 보여줍니다. 평가 시 고려해야 할 사항으로는 업무 성과, 코칭 및 다양성/포용성 증진 노력 등이 포함됩니다. 또한 관리자의 경우 직원 연계 조사 결과에 대한 설명도 필요합니다. 평가 작성 시 1500자 이내로 간략히 작성하는 것이 권장됩니다.표는 직원 승진 시 고려해야 할 '승진하지 않을 가장 좋은 이유'를 설명하고 있습니다. 승진은 직원의 성장 기회이며, 이 섹션에서는 직원이 다음 단계에서 개발해야 할 분야를 긍정적으로 파악할 수 있습니다. 이러한 분야는 코칭과 실무 학습을 통해 개선될 수 있는 것이어야 합니다. 500자 이내로 간결하게 작성하는 것이 좋습니다.주어진 테이블이 비어있기 때문에 요약할 내용이 없습니다.주어진 표가 비어있어 요약할 내용이 없습니다.이 표는 작업 기록(선택 사항)을 제공하는 데 사용되며, 직원의 해당 역할 전 관련 직무 경험을 기록할 수 있습니다. 회사명, 직위, 근무 기간(시작일부터 종료일까지)을 3회까지 입력할 수 있는 칸이 있습니다.테이블이 비어있어 요약할 내용이 없습니다. 제공된 정보가 부족하여 설명할 수 없습니다.제공된 표에는 데이터가 없어 요약할 내용이 없습니다. 텅 빈 표만 있습니다.표가 주어지지 않아 요약할 내용이 없습니다. 표를 제공해 주시면 간결한 요약을 한국어로 제공하겠습니다.제공된 데이터가 없어서 요약할 내용이 없습니다. 테이블이나 이미지가 제공되면 그에 대한 간단한 설명을 한국어로 제공하겠습니다.표가 제공되지 않아 요약할 수 없습니다. 표를 포함하면 한국어로 간단히 요약해 드리겠습니다.주어진 표에는 데이터가 없기 때문에 요약할 내용이 없습니다.데이터가 제공되지 않아 요약할 표가 없습니다. 표를 제공해주시면 한국어로 간단히 요약하겠습니다.제공된 표는 비어 있습니다. 요약할 데이터가 없어 설명할 내용이 없습니다.제공된 표가 없어 요약할 내용이 없습니다. 표를 제시해 주시면 간단히 요약하여 설명해 드리겠습니다.제공된 표가 없어 요약할 수 없습니다. 표가 있다면 간단하게 요약해 드리겠습니다.표가 제공되지 않아서 요약할 내용이 없습니다. 한국어로 답변하겠습니다.추가 정보(선택 사항) 직원에 대한 추가 정보(예: 용어 정의, Bar Raiser 프로그램 기여도, Amazon 소속 그룹 참여 등). 특정 조직 요구 사항: WWOps, 안전 중심 행동에 대한 내러티브 섹션 및/또는 포용성 및 다양성 이니셔티브에 대한 기여도. (500자 이내로 작성하는 것이 좋습니다)제공된 표가 없기 때문에 요약할 수 없습니다. 표를 제공해 주시면 간결하게 요약하여 설명해 드리겠습니다.제공된 테이블이 없기 때문에 요약할 수 있는 내용이 없습니다. 테이블이 제시되면 간단하게 정리하여 한국어로 설명하겠습니다.이 표는 기술 직원의 승진 평가인 Tech Promotion Assessment(TPA)에 대한 정보를 제공합니다. L6 레벨로 승진하는 기술 직원의 경우,피드백 제공자가 자격 요건을 충족하지 못하면 1명의 평가자와 1명의 멘토가 TPA를 진행해야 합니다. 표에는 직책, 레벨, 지원 여부, 이유, 평가 시작일, 평가자 1, 멘토에 대한 열이 있습니다.주어진 테이블이 비어있어 요약할 내용이 없습니다.주어진 표는 내용이 없어 요약할 수 있는 정보가 없습니다. 표에 데이터가 있다면 그 내용을 간단하고 명료하게 요약하여 설명해 드리겠습니다.안내해 주신 표가 비어있어서 요약할 내용이 없습니다. 표에 데이터가 있다면 간단하게 요약해 드리겠습니다.테이블이 제공되지 않아 요약할 내용이 없습니다.표가 제공되지 않았기 때문에 요약할 수 없습니다. 데이터가 있는 표를 제공해 주시면 한국어로 간단하게 요약하겠습니다.표가 주어지지 않았기 때문에 요약할 수 있는 내용이 없습니다. 하지만 한국어로 답변하는 것을 요청했기에 한국어로 답변을 드리겠습니다.표가 제공되지 않아 요약할 수 없습니다. 앞으로 표를 포함하여 요청해 주시기 바랍니다.아직 데이터가 제공되지 않아 요약할 수 있는 표가 없습니다. 표가 제공되면 간략하게 한국어로 요약하겠습니다.주어진 표에는 아무것도 없습니다. 따라서 요약할 내용이 없습니다.제공된 "
     ]
    }
   ],
   "source": [
    "table_info = [t.page_content for t in tables]\n",
    "table_summaries = summarize_chain.batch(table_info, config={\"max_concurrency\": 1})"
   ]
  },
  {
   "cell_type": "code",
   "execution_count": null,
   "id": "92babfff-d9d5-4de5-a3f6-cd4bab5ed336",
   "metadata": {
    "tags": []
   },
   "outputs": [],
   "source": [
    "verbose = True\n",
    "if verbose:\n",
    "    for table, summary in zip(table_info, table_summaries):\n",
    "        \n",
    "        print (\"============================\")\n",
    "        print (f'table: {table}')\n",
    "        print (\"----------------------------\")\n",
    "        print (f'Summary: {summary}')\n",
    "        "
   ]
  },
  {
   "cell_type": "markdown",
   "id": "af085260-0ff9-45dd-8c0f-8c2993ae5018",
   "metadata": {},
   "source": [
    "`요약`된 내용을 Document의 `page_content`로, `parsed table`은 metadata의 `origin_table`로 사용"
   ]
  },
  {
   "cell_type": "code",
   "execution_count": null,
   "id": "b8c733fd-0274-41bb-868d-832c797aff7b",
   "metadata": {
    "tags": []
   },
   "outputs": [],
   "source": [
    "tables_preprocessed = []\n",
    "\n",
    "for origin, summary in zip(tables, table_summaries):\n",
    "    metadata = origin.metadata\n",
    "    metadata[\"origin_table\"] = origin.page_content\n",
    "    doc = Document(\n",
    "        page_content=summary,\n",
    "        metadata=metadata\n",
    "    )\n",
    "    tables_preprocessed.append(doc)"
   ]
  },
  {
   "cell_type": "markdown",
   "id": "fa0d7f61-24fa-47c2-b788-15c1c25fa1d1",
   "metadata": {},
   "source": [
    "### Text Spliter 로 청킹\n",
    "참고: 검색된 문서/텍스트는 질문에 대답하기에 충분한 정보를 포함할 만큼 커야 합니다. 하지만 LLM 프롬프트에 들어갈 만큼 충분히 작습니다. <BR>\n",
    "또한 임베딩 모델에는 입력 토큰 길이는 KoSimCSERobert는 512개, titanEmbedding(8,912개) 토큰으로 제한되어 있습니다. <BR>\n",
    "이 사용 사례를 위해 [RecursiveCharacterTextSplitter](https://python.langchain.com/en/latest/modules/indexes/text_splitters/examples/recursive_text_splitter.html)를 사용하여 500자가 겹치는 약 92자의 청크를 생성합니다."
   ]
  },
  {
   "cell_type": "code",
   "execution_count": null,
   "id": "40b0d8b7-e7e7-4ff8-b938-4fa53982ef88",
   "metadata": {
    "tags": []
   },
   "outputs": [],
   "source": [
    "from langchain.text_splitter import RecursiveCharacterTextSplitter"
   ]
  },
  {
   "cell_type": "code",
   "execution_count": null,
   "id": "dbcb6942-ec70-48ba-9c87-08d99dd7f177",
   "metadata": {
    "tags": []
   },
   "outputs": [],
   "source": [
    "chunk_size = 1024\n",
    "chunk_overlap = 50\n",
    "\n",
    "text_splitter = RecursiveCharacterTextSplitter(\n",
    "    # Set a really small chunk size, just to show.\n",
    "    chunk_size=chunk_size,\n",
    "    chunk_overlap=chunk_overlap,\n",
    "    separators=[\"\\n\\n\", \"\\n\", \".\", \" \", \"\"],\n",
    "    length_function=len,\n",
    ")\n",
    "\n",
    "texts_preprocessed = text_splitter.split_documents(texts)\n",
    "print(f\"Number of documents after split and chunking={len(texts_preprocessed)}\")"
   ]
  },
  {
   "cell_type": "markdown",
   "id": "e527c549-2f46-4037-902c-d3946d7076e8",
   "metadata": {},
   "source": [
    "### Merge text, table and image"
   ]
  },
  {
   "cell_type": "code",
   "execution_count": null,
   "id": "7a9e8c11-460a-4b3f-820e-0e31b6409ccb",
   "metadata": {
    "tags": []
   },
   "outputs": [],
   "source": [
    "from itertools import chain"
   ]
  },
  {
   "cell_type": "code",
   "execution_count": null,
   "id": "17a20338-f1be-4bff-aac7-840778a5a34c",
   "metadata": {
    "tags": []
   },
   "outputs": [],
   "source": [
    "docs_preprocessed = list(chain(texts_preprocessed, tables_preprocessed, images_preprocessed))"
   ]
  },
  {
   "cell_type": "code",
   "execution_count": null,
   "id": "58eb4c3e-d4f4-4dde-b38b-e154ed413e40",
   "metadata": {
    "tags": []
   },
   "outputs": [],
   "source": [
    "docs_preprocessed"
   ]
  },
  {
   "cell_type": "markdown",
   "id": "f41fbd15-2a30-4096-8916-d03d15ca4fb6",
   "metadata": {},
   "source": [
    "## 4. Index 생성"
   ]
  },
  {
   "cell_type": "markdown",
   "id": "5a8d684e-0963-4f85-a725-42842eb9d46e",
   "metadata": {},
   "source": [
    "### Index 이름 결정"
   ]
  },
  {
   "cell_type": "code",
   "execution_count": null,
   "id": "1079275c-6262-44bb-8bc6-0efffff1620b",
   "metadata": {
    "tags": []
   },
   "outputs": [],
   "source": [
    "import boto3\n",
    "from utils.ssm import parameter_store"
   ]
  },
  {
   "cell_type": "code",
   "execution_count": null,
   "id": "2ed6173a-8a43-49a8-945d-dbc6014a485b",
   "metadata": {
    "tags": []
   },
   "outputs": [],
   "source": [
    "region=boto3.Session().region_name\n",
    "pm = parameter_store(region)"
   ]
  },
  {
   "cell_type": "code",
   "execution_count": null,
   "id": "0657be39-a01d-4fe8-a6d8-d4bc3334ea6e",
   "metadata": {
    "tags": []
   },
   "outputs": [],
   "source": [
    "index_name = \"kb_complex_pdf\""
   ]
  },
  {
   "cell_type": "code",
   "execution_count": null,
   "id": "d40c8b5d-92a7-4400-a579-699e482cb68c",
   "metadata": {
    "tags": []
   },
   "outputs": [],
   "source": [
    "pm.put_params(\n",
    "    key=\"opensearch_index_name\",\n",
    "    value=f'{index_name}',\n",
    "    overwrite=True,\n",
    "    enc=False\n",
    ")"
   ]
  },
  {
   "cell_type": "markdown",
   "id": "32323202-e3a9-45ed-820c-a7d1087ff2e3",
   "metadata": {},
   "source": [
    "### Index 스키마 정의"
   ]
  },
  {
   "cell_type": "code",
   "execution_count": null,
   "id": "aa45ec52-8aff-4513-bc17-2f613b38910c",
   "metadata": {
    "tags": []
   },
   "outputs": [],
   "source": [
    "index_body = {\n",
    "    'settings': {\n",
    "        'analysis': {\n",
    "            'analyzer': {\n",
    "                'my_analyzer': {\n",
    "                         'char_filter':['html_strip'],\n",
    "                    'tokenizer': 'nori',\n",
    "                    'filter': [\n",
    "                        #'nori_number',\n",
    "                        #'lowercase',\n",
    "                        #'trim',\n",
    "                        'my_nori_part_of_speech'\n",
    "                    ],\n",
    "                    'type': 'custom'\n",
    "                }\n",
    "            },\n",
    "            'tokenizer': {\n",
    "                'nori': {\n",
    "                    'decompound_mode': 'mixed',\n",
    "                    'discard_punctuation': 'true',\n",
    "                    'type': 'nori_tokenizer'\n",
    "                }\n",
    "            },\n",
    "            \"filter\": {\n",
    "                \"my_nori_part_of_speech\": {\n",
    "                    \"type\": \"nori_part_of_speech\",\n",
    "                    \"stoptags\": [\n",
    "                        \"J\", \"XSV\", \"E\", \"IC\",\"MAJ\",\"NNB\",\n",
    "                        \"SP\", \"SSC\", \"SSO\",\n",
    "                        \"SC\",\"SE\",\"XSN\",\"XSV\",\n",
    "                        \"UNA\",\"NA\",\"VCP\",\"VSV\",\n",
    "                        \"VX\"\n",
    "                    ]\n",
    "                }\n",
    "            }\n",
    "        },\n",
    "        'index': {\n",
    "            'knn': True,\n",
    "            'knn.space_type': 'cosinesimil'  # Example space type\n",
    "        }\n",
    "    },\n",
    "    'mappings': {\n",
    "        'properties': {\n",
    "            'metadata': {\n",
    "                'properties': {\n",
    "                    'source': {'type': 'keyword'},\n",
    "                    'page_number': {'type':'long'},\n",
    "                    'category': {'type':'text'},\n",
    "                    'file_directory': {'type':'text'},\n",
    "                    'last_modified': {'type': 'text'},\n",
    "                    'type': {'type': 'keyword'},\n",
    "                    'image_base64': {'type':'text'},\n",
    "                    'origin_image': {'type':'text'},\n",
    "                    'origin_table': {'type':'text'},\n",
    "                }\n",
    "            },\n",
    "            'text': {\n",
    "                'analyzer': 'my_analyzer',\n",
    "                'search_analyzer': 'my_analyzer',\n",
    "                'type': 'text'\n",
    "            },\n",
    "            'vector_field': {\n",
    "                'type': 'knn_vector',\n",
    "                'dimension': f\"{dimension}\" # Replace with your vector dimension\n",
    "            }\n",
    "        }\n",
    "    }\n",
    "}\n"
   ]
  },
  {
   "cell_type": "markdown",
   "id": "679edbbd-44ca-4264-a4db-0ec489c58264",
   "metadata": {},
   "source": [
    "## 5. LangChain OpenSearch VectorStore 생성 \n",
    "### 선수 조건"
   ]
  },
  {
   "cell_type": "markdown",
   "id": "2ae8dd80-daf4-4e81-810b-b9e2f6611605",
   "metadata": {},
   "source": [
    "#### [중요] 아래에 aws parameter store 에 아래 인증정보가 먼저 입력되어 있어야 합니다."
   ]
  },
  {
   "cell_type": "code",
   "execution_count": null,
   "id": "fb47bf94-4bf9-4152-85f0-4babcb03edbb",
   "metadata": {
    "tags": []
   },
   "outputs": [],
   "source": [
    "opensearch_domain_endpoint = pm.get_params(\n",
    "    key=\"opensearch_domain_endpoint\",\n",
    "    enc=False\n",
    ")\n",
    "\n",
    "opensearch_user_id = pm.get_params(\n",
    "    key=\"opensearch_user_id\",\n",
    "    enc=False\n",
    ")\n",
    "\n",
    "opensearch_user_password = pm.get_params(\n",
    "    key=\"opensearch_user_password\",\n",
    "    enc=True\n",
    ")"
   ]
  },
  {
   "cell_type": "code",
   "execution_count": null,
   "id": "2319184c-4531-42c9-b400-77f53de071da",
   "metadata": {
    "tags": []
   },
   "outputs": [],
   "source": [
    "opensearch_domain_endpoint = opensearch_domain_endpoint\n",
    "rag_user_name = opensearch_user_id\n",
    "rag_user_password = opensearch_user_password\n",
    "\n",
    "http_auth = (rag_user_name, rag_user_password) # Master username, Master password"
   ]
  },
  {
   "cell_type": "markdown",
   "id": "f42526e7-d010-4e06-b158-3c86f9ea45e9",
   "metadata": {},
   "source": [
    "### OpenSearch Client 생성"
   ]
  },
  {
   "cell_type": "code",
   "execution_count": null,
   "id": "41c3846a-ae55-45bd-98ac-f9280dda4409",
   "metadata": {
    "tags": []
   },
   "outputs": [],
   "source": [
    "from local_utils.opensearch import opensearch_utils"
   ]
  },
  {
   "cell_type": "code",
   "execution_count": null,
   "id": "c4b0fd7c-5fe2-42c6-bf58-f41930c37c0a",
   "metadata": {
    "tags": []
   },
   "outputs": [],
   "source": [
    "aws_region = os.environ.get(\"AWS_DEFAULT_REGION\", None)\n",
    "\n",
    "os_client = opensearch_utils.create_aws_opensearch_client(\n",
    "    aws_region,\n",
    "    opensearch_domain_endpoint,\n",
    "    http_auth\n",
    ")"
   ]
  },
  {
   "cell_type": "markdown",
   "id": "f824d282-507e-44c9-bb02-a8978ae2d110",
   "metadata": {
    "tags": []
   },
   "source": [
    "### 오픈 서치 인덱스 생성 \n",
    "- 오픈 서치에 해당 인덱스가 존재하면, 삭제 합니다. "
   ]
  },
  {
   "cell_type": "code",
   "execution_count": null,
   "id": "a9429551-11f9-41e8-8c28-8e743bc308dc",
   "metadata": {
    "tags": []
   },
   "outputs": [],
   "source": [
    "index_exists = opensearch_utils.check_if_index_exists(\n",
    "    os_client,\n",
    "    index_name\n",
    ")\n",
    "\n",
    "if index_exists:\n",
    "    opensearch_utils.delete_index(\n",
    "        os_client,\n",
    "        index_name\n",
    "    )\n",
    "\n",
    "opensearch_utils.create_index(os_client, index_name, index_body)\n",
    "index_info = os_client.indices.get(index=index_name)\n",
    "print(\"Index is created\")\n",
    "pprint(index_info)"
   ]
  },
  {
   "cell_type": "markdown",
   "id": "233327e3-6c4b-43cb-a5dc-65caca085355",
   "metadata": {},
   "source": [
    "### 랭체인 인덱스 연결 오브젝트 생성\n",
    "\n",
    "- [langchain.vectorstores.opensearch_vector_search.OpenSearchVectorSearch](https://api.python.langchain.com/en/latest/vectorstores/langchain.vectorstores.opensearch_vector_search.OpenSearchVectorSearch.html)"
   ]
  },
  {
   "cell_type": "code",
   "execution_count": null,
   "id": "a29a80eb-eb52-458b-b37d-39214937c188",
   "metadata": {
    "tags": []
   },
   "outputs": [],
   "source": [
    "from langchain.vectorstores import OpenSearchVectorSearch"
   ]
  },
  {
   "cell_type": "code",
   "execution_count": null,
   "id": "8c5ee773-6952-4d9d-baef-bb11491df90f",
   "metadata": {
    "tags": []
   },
   "outputs": [],
   "source": [
    "vector_db = OpenSearchVectorSearch(\n",
    "    index_name=index_name,\n",
    "    opensearch_url=opensearch_domain_endpoint,\n",
    "    embedding_function=llm_emb,\n",
    "    http_auth=http_auth, # http_auth\n",
    "    is_aoss=False,\n",
    "    engine=\"faiss\",\n",
    "    space_type=\"l2\",\n",
    "    bulk_size=100000,\n",
    "    timeout=60\n",
    ")\n",
    "vector_db"
   ]
  },
  {
   "cell_type": "markdown",
   "id": "0bc2a7f5-cf8e-4eae-acf8-d5d01b04ee98",
   "metadata": {},
   "source": [
    "### OpenSearch 에 문서 삽입"
   ]
  },
  {
   "cell_type": "code",
   "execution_count": null,
   "id": "eb83e4ee-bdd1-44b9-8beb-337962711c19",
   "metadata": {
    "tags": []
   },
   "outputs": [],
   "source": [
    "%%time\n",
    "\n",
    "vector_db.add_documents(\n",
    "    documents = docs_preprocessed, \n",
    "    vector_field = \"vector_field\",\n",
    "    bulk_size = 1000000\n",
    ")"
   ]
  },
  {
   "cell_type": "markdown",
   "id": "0c4223fa-ca44-4197-a1cd-2a76151df2be",
   "metadata": {},
   "source": [
    "## 6. 검색 테스트"
   ]
  },
  {
   "cell_type": "code",
   "execution_count": null,
   "id": "4fdb6e42-506d-4152-949e-cb9e8abf9b53",
   "metadata": {
    "tags": []
   },
   "outputs": [],
   "source": [
    "from utils.rag import qa_chain_complex_pdf\n",
    "from utils.rag import prompt_repo, show_context_used\n",
    "from langchain.callbacks.tracers import ConsoleCallbackHandler\n",
    "from utils.rag import retriever_utils, OpenSearchHybridSearchRetriever"
   ]
  },
  {
   "cell_type": "code",
   "execution_count": null,
   "id": "8421e6fd-6070-4009-8138-59e8331d9946",
   "metadata": {
    "tags": []
   },
   "outputs": [],
   "source": [
    "opensearch_hybrid_retriever = OpenSearchHybridSearchRetriever(\n",
    "    os_client=os_client,\n",
    "    index_name=index_name,\n",
    "    llm_text=llm_text, # llm for query augmentation in both rag_fusion and HyDE\n",
    "    llm_emb=llm_emb, # Used in semantic search based on opensearch \n",
    "\n",
    "    # option for lexical\n",
    "    minimum_should_match=0,\n",
    "    filter=[],\n",
    "\n",
    "    # option for search\n",
    "    fusion_algorithm=\"RRF\", # [\"RRF\", \"simple_weighted\"], rank fusion 방식 정의\n",
    "    ensemble_weights=[.51, .49], # [for semantic, for lexical], Semantic, Lexical search 결과에 대한 최종 반영 비율 정의\n",
    "    reranker=False, # enable reranker with reranker model\n",
    "    #reranker_endpoint_name=endpoint_name, # endpoint name for reranking model\n",
    "    parent_document = False, # enable parent document\n",
    "    \n",
    "    # option for complex pdf consisting of text, table and image\n",
    "    complex_pdf=True,\n",
    "    \n",
    "    # option for async search\n",
    "    async_mode=True,\n",
    "\n",
    "    # option for output\n",
    "    k=7, # 최종 Document 수 정의\n",
    "    verbose=False,\n",
    ")"
   ]
  },
  {
   "cell_type": "markdown",
   "id": "b6c9f5ca-08a2-4656-ba5b-0ead7565182d",
   "metadata": {},
   "source": [
    "### 하이브리드 검색"
   ]
  },
  {
   "cell_type": "code",
   "execution_count": null,
   "id": "221b7201-865d-4c20-8333-88bdf635235b",
   "metadata": {
    "tags": []
   },
   "outputs": [],
   "source": [
    "query = \"만기가격이 기준가격의 100% 미만일 때 만기상환금액 계산하는 방법 알려줘\"\n",
    "#query = \"만기가격이 기준가격의 80% 일 때 만기상환금액 계산하는 방법 알려줘\"\n",
    "query = \"이 이미지는 공단 실사 및 지방 노동관서 업무 절차를 보여주는 흐름도\"\n",
    "\n",
    "search_filter=[\n",
    "    #{\"term\": {\"metadata.source\": \"신한은행\"}},\n",
    "    #{\"term\": {\"metadata.type\": \"인터넷뱅킹\"}},\n",
    "]"
   ]
  },
  {
   "cell_type": "code",
   "execution_count": null,
   "id": "0d68740c-2dc3-404c-a2e5-08f2e65481cd",
   "metadata": {
    "tags": []
   },
   "outputs": [],
   "source": [
    "%%time\n",
    "search_hybrid_result, tables, images = opensearch_hybrid_retriever.get_relevant_documents(query)\n",
    "#show_context_used(search_hybrid_result)"
   ]
  },
  {
   "cell_type": "code",
   "execution_count": null,
   "id": "2ae1553b-2f68-4cc8-940e-75f33fed0b6b",
   "metadata": {
    "tags": []
   },
   "outputs": [],
   "source": [
    "show_context_used(search_hybrid_result)"
   ]
  },
  {
   "cell_type": "code",
   "execution_count": null,
   "id": "a0917814-3c4a-49e9-858a-99a8111a45be",
   "metadata": {},
   "outputs": [],
   "source": []
  }
 ],
 "metadata": {
  "kernelspec": {
   "display_name": "conda_python3",
   "language": "python",
   "name": "conda_python3"
  },
  "language_info": {
   "codemirror_mode": {
    "name": "ipython",
    "version": 3
   },
   "file_extension": ".py",
   "mimetype": "text/x-python",
   "name": "python",
   "nbconvert_exporter": "python",
   "pygments_lexer": "ipython3",
   "version": "3.10.13"
  }
 },
 "nbformat": 4,
 "nbformat_minor": 5
}
