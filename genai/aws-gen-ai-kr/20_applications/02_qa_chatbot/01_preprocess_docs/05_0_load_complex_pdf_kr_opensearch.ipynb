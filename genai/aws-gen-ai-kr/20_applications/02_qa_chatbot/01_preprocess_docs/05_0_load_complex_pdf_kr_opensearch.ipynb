{
 "cells": [
  {
   "cell_type": "markdown",
   "id": "02129bd0-af47-4fd6-91af-81613fc40511",
   "metadata": {},
   "source": [
    "# Preprocessing for complex PDF"
   ]
  },
  {
   "cell_type": "markdown",
   "id": "9334e485-ef50-4ba1-b86e-b6a80c2ee676",
   "metadata": {},
   "source": [
    "## Setting\n",
    " - Auto Reload\n",
    " - path for utils"
   ]
  },
  {
   "cell_type": "code",
   "execution_count": 1,
   "id": "fefce95b-b2aa-4524-92bc-28b12699ec84",
   "metadata": {
    "tags": []
   },
   "outputs": [],
   "source": [
    "%load_ext autoreload\n",
    "%autoreload 2"
   ]
  },
  {
   "cell_type": "code",
   "execution_count": 3,
   "id": "802b9aa2-a15a-46f5-925d-0f89afb2a611",
   "metadata": {
    "tags": []
   },
   "outputs": [
    {
     "name": "stdout",
     "output_type": "stream",
     "text": [
      "python path: /home/ec2-user/SageMaker/aws-ai-ml-workshop-kr/genai/aws-gen-ai-kr/20_applications/02_qa_chatbot is added\n",
      "sys.path:  ['/home/ec2-user/SageMaker/aws-ai-ml-workshop-kr/genai/aws-gen-ai-kr/20_applications/02_qa_chatbot/01_preprocess_docs', '/home/ec2-user/anaconda3/envs/python3/lib/python310.zip', '/home/ec2-user/anaconda3/envs/python3/lib/python3.10', '/home/ec2-user/anaconda3/envs/python3/lib/python3.10/lib-dynload', '', '/home/ec2-user/anaconda3/envs/python3/lib/python3.10/site-packages', '/home/ec2-user/SageMaker/aws-ai-ml-workshop-kr/genai/aws-gen-ai-kr', '/home/ec2-user/SageMaker/aws-ai-ml-workshop-kr/genai/aws-gen-ai-kr/20_applications/02_qa_chatbot']\n",
      "python path: /home/ec2-user/SageMaker/aws-ai-ml-workshop-kr/genai/aws-gen-ai-kr already exists\n",
      "sys.path:  ['/home/ec2-user/SageMaker/aws-ai-ml-workshop-kr/genai/aws-gen-ai-kr/20_applications/02_qa_chatbot/01_preprocess_docs', '/home/ec2-user/anaconda3/envs/python3/lib/python310.zip', '/home/ec2-user/anaconda3/envs/python3/lib/python3.10', '/home/ec2-user/anaconda3/envs/python3/lib/python3.10/lib-dynload', '', '/home/ec2-user/anaconda3/envs/python3/lib/python3.10/site-packages', '/home/ec2-user/SageMaker/aws-ai-ml-workshop-kr/genai/aws-gen-ai-kr', '/home/ec2-user/SageMaker/aws-ai-ml-workshop-kr/genai/aws-gen-ai-kr/20_applications/02_qa_chatbot']\n"
     ]
    }
   ],
   "source": [
    "import sys, os\n",
    "\n",
    "def add_python_path(module_path):\n",
    "    if os.path.abspath(module_path) not in sys.path:\n",
    "        sys.path.append(os.path.abspath(module_path))\n",
    "        print(f\"python path: {os.path.abspath(module_path)} is added\")\n",
    "    else:\n",
    "        print(f\"python path: {os.path.abspath(module_path)} already exists\")\n",
    "    print(\"sys.path: \", sys.path)\n",
    "\n",
    "module_path = \"..\"\n",
    "add_python_path(module_path)\n",
    "module_path = \"../../..\"\n",
    "add_python_path(module_path)"
   ]
  },
  {
   "cell_type": "markdown",
   "id": "9508a21d-0d22-4adc-b928-e6c0bccaa9a6",
   "metadata": {},
   "source": [
    "## 1. Bedrock Client 생성"
   ]
  },
  {
   "cell_type": "code",
   "execution_count": 4,
   "id": "1da8e4df-ef07-4cb0-b76b-cc327073425c",
   "metadata": {
    "tags": []
   },
   "outputs": [],
   "source": [
    "import json\n",
    "import boto3\n",
    "from pprint import pprint\n",
    "from termcolor import colored\n",
    "from utils import bedrock, print_ww\n",
    "from utils.bedrock import bedrock_info"
   ]
  },
  {
   "cell_type": "markdown",
   "id": "4d5f222a-2cdc-490e-b1e4-43429414dcd9",
   "metadata": {},
   "source": [
    "### ---- ⚠️ Un-comment and edit the below lines as needed for your AWS setup ⚠️ ----\n",
    "- os.environ[\"AWS_DEFAULT_REGION\"] = \"<REGION_NAME>\"  # E.g. \"us-east-1\"\n",
    "- os.environ[\"AWS_PROFILE\"] = \"<YOUR_PROFILE>\"\n",
    "- os.environ[\"BEDROCK_ASSUME_ROLE\"] = \"<YOUR_ROLE_ARN>\"  # E.g. \"arn:aws:...\"\n",
    "- os.environ[\"BEDROCK_ENDPOINT_URL\"] = \"<YOUR_ENDPOINT_URL>\"  # E.g. \"https://...\""
   ]
  },
  {
   "cell_type": "code",
   "execution_count": 5,
   "id": "b10630ae-e48d-4ae3-ae4d-187d5bd232f4",
   "metadata": {
    "tags": []
   },
   "outputs": [
    {
     "name": "stdout",
     "output_type": "stream",
     "text": [
      "Create new client\n",
      "  Using region: None\n",
      "  Using profile: None\n",
      "boto3 Bedrock client successfully created!\n",
      "bedrock-runtime(https://bedrock-runtime.us-west-2.amazonaws.com)\n",
      "\u001b[32m\n",
      "== FM lists ==\u001b[0m\n",
      "{'Claude-Instant-V1': 'anthropic.claude-instant-v1',\n",
      " 'Claude-V1': 'anthropic.claude-v1',\n",
      " 'Claude-V2': 'anthropic.claude-v2',\n",
      " 'Claude-V2-1': 'anthropic.claude-v2:1',\n",
      " 'Claude-V3-Sonnet': 'anthropic.claude-3-sonnet-20240229-v1:0',\n",
      " 'Cohere-Embeddings-En': 'cohere.embed-english-v3',\n",
      " 'Cohere-Embeddings-Multilingual': 'cohere.embed-multilingual-v3',\n",
      " 'Command': 'cohere.command-text-v14',\n",
      " 'Command-Light': 'cohere.command-light-text-v14',\n",
      " 'Jurassic-2-Mid': 'ai21.j2-mid-v1',\n",
      " 'Jurassic-2-Ultra': 'ai21.j2-ultra-v1',\n",
      " 'Llama2-13b-Chat': 'meta.llama2-13b-chat-v1',\n",
      " 'Titan-Embeddings-G1': 'amazon.titan-embed-text-v1',\n",
      " 'Titan-Text-G1': 'amazon.titan-text-express-v1',\n",
      " 'Titan-Text-G1-Light': 'amazon.titan-text-lite-v1'}\n"
     ]
    }
   ],
   "source": [
    "boto3_bedrock = bedrock.get_bedrock_client(\n",
    "    assumed_role=os.environ.get(\"BEDROCK_ASSUME_ROLE\", None),\n",
    "    endpoint_url=os.environ.get(\"BEDROCK_ENDPOINT_URL\", None),\n",
    "    region=os.environ.get(\"AWS_DEFAULT_REGION\", None),\n",
    ")\n",
    "\n",
    "print (colored(\"\\n== FM lists ==\", \"green\"))\n",
    "pprint (bedrock_info.get_list_fm_models(verbose=False))"
   ]
  },
  {
   "cell_type": "markdown",
   "id": "c4ecb09e-2662-4cee-8c4b-c4ac9228fe3d",
   "metadata": {},
   "source": [
    "## 2. Titan Embedding 및 LLM 인 Claude-v3-sonnet 모델 로딩"
   ]
  },
  {
   "cell_type": "markdown",
   "id": "9f351fdc-ed28-4b00-9150-e755e51932f7",
   "metadata": {
    "tags": []
   },
   "source": [
    "### LLM 로딩 (Claude-v3-sonnet)"
   ]
  },
  {
   "cell_type": "code",
   "execution_count": 7,
   "id": "decf2bc3-a873-4bd6-838b-6ce4cb9fe879",
   "metadata": {
    "tags": []
   },
   "outputs": [],
   "source": [
    "from langchain_community.chat_models import BedrockChat\n",
    "from langchain.callbacks.streaming_stdout import StreamingStdOutCallbackHandler"
   ]
  },
  {
   "cell_type": "code",
   "execution_count": 8,
   "id": "1585f9ee-4de7-4a16-b219-f3bde8d84b79",
   "metadata": {
    "tags": []
   },
   "outputs": [
    {
     "data": {
      "text/plain": [
       "BedrockChat(client=<botocore.client.BedrockRuntime object at 0x7f2b6357c880>, model_id='anthropic.claude-3-sonnet-20240229-v1:0', model_kwargs={'max_tokens': 1024, 'stop_sequences': ['\\n\\nHuman']}, streaming=True, callbacks=[<langchain_core.callbacks.streaming_stdout.StreamingStdOutCallbackHandler object at 0x7f2b9ad07b50>])"
      ]
     },
     "execution_count": 8,
     "metadata": {},
     "output_type": "execute_result"
    }
   ],
   "source": [
    "llm_text = BedrockChat(\n",
    "    model_id=bedrock_info.get_model_id(model_name=\"Claude-V3-Sonnet\"),\n",
    "    client=boto3_bedrock,\n",
    "    streaming=True,\n",
    "    callbacks=[StreamingStdOutCallbackHandler()],\n",
    "    model_kwargs={\n",
    "        \"max_tokens\": 1024,\n",
    "        \"stop_sequences\": [\"\\n\\nHuman\"],\n",
    "        # \"temperature\": 0,\n",
    "        # \"top_k\": 350,\n",
    "        # \"top_p\": 0.999\n",
    "    }\n",
    ")\n",
    "llm_text"
   ]
  },
  {
   "cell_type": "markdown",
   "id": "0ba6e5b8-f40f-4bc8-a823-53a280ecea66",
   "metadata": {
    "tags": []
   },
   "source": [
    "### Embedding 모델 선택"
   ]
  },
  {
   "cell_type": "code",
   "execution_count": 12,
   "id": "6cad9168-72e3-4906-8abe-f5a23638cfde",
   "metadata": {
    "tags": []
   },
   "outputs": [],
   "source": [
    "from langchain.embeddings import BedrockEmbeddings"
   ]
  },
  {
   "cell_type": "code",
   "execution_count": 187,
   "id": "069404eb-4daf-4ff9-aadd-0ef694df22d2",
   "metadata": {
    "tags": []
   },
   "outputs": [
    {
     "name": "stdout",
     "output_type": "stream",
     "text": [
      "Bedrock Embeddings Model Loaded\n"
     ]
    }
   ],
   "source": [
    "llm_emb = BedrockEmbeddings(\n",
    "    client=boto3_bedrock,\n",
    "    model_id=bedrock_info.get_model_id(model_name=\"Titan-Embeddings-G1\")\n",
    ")\n",
    "dimension = 1536\n",
    "print(\"Bedrock Embeddings Model Loaded\")"
   ]
  },
  {
   "cell_type": "markdown",
   "id": "de224b4a-05ae-4f40-82a4-1109b33ff452",
   "metadata": {},
   "source": [
    "## 3. 데이터 준비 \n",
    "- https://python.langchain.com/docs/integrations/document_loaders/unstructured_file"
   ]
  },
  {
   "cell_type": "markdown",
   "id": "91c35df1-4183-4285-bfa7-17bff9fe9169",
   "metadata": {},
   "source": [
    "### Extract Text, Table and Image from documents"
   ]
  },
  {
   "cell_type": "code",
   "execution_count": 36,
   "id": "01fd7d69-23ea-4300-9eea-aa62e2eafd36",
   "metadata": {
    "tags": []
   },
   "outputs": [],
   "source": [
    "from unstructured.cleaners.core import clean_extra_whitespace\n",
    "from langchain_community.document_loaders import UnstructuredFileLoader"
   ]
  },
  {
   "cell_type": "markdown",
   "id": "63ff2661-6363-4f4a-ae53-31061994bbcf",
   "metadata": {
    "tags": []
   },
   "source": [
    "Parameters\n",
    "----------\n",
    "- filename\n",
    "    - A string defining the target filename path.\n",
    "- content_type\n",
    "    - A string defining the file content in MIME type\n",
    "- file\n",
    "    - A file-like object using \"rb\" mode --> open(filename, \"rb\").\n",
    "- metadata_filename\n",
    "    - When file is not None, the filename (string) to store in element metadata. E.g. \"foo.txt\"\n",
    "- url\n",
    "    - The url for a remote document. Pass in content_type if you want partition to treat the document as a specific content_type.\n",
    "- include_page_breaks\n",
    "    - If True, the output will include page breaks if the filetype supports it\n",
    "- strategy\n",
    "    - The strategy to use for partitioning PDF/image. Uses a layout detection model if set to 'hi_res', otherwise partition simply extracts the text from the document and processes it.\n",
    "- encoding\n",
    "    - The encoding method used to decode the text input. If None, utf-8 will be used.\n",
    "- headers\n",
    "    - The headers to be used in conjunction with the HTTP request if URL is set.\n",
    "- skip_infer_table_types\n",
    "    - The document types that you want to skip table extraction with.\n",
    "- ssl_verify\n",
    "    - If the URL parameter is set, determines whether or not partition uses SSL verification in the HTTP request.\n",
    "- languages\n",
    "    - The languages present in the document, for use in partitioning and/or OCR. For partitioning <BR>\n",
    "    image or pdf documents with Tesseract, you'll first need to install the appropriate <BR>\n",
    "    Tesseract language pack. For other partitions, language is detected using naive Bayesian <BR>\n",
    "    filter via `langdetect`. Multiple languages indicates text could be in either language. <BR>\n",
    "    Additional Parameters: <BR>\n",
    "        - detect_language_per_element <BR>\n",
    "            - Detect language per element instead of at the document level.\n",
    "    \n",
    "- pdf_infer_table_structure\n",
    "    - If True and strategy=hi_res, any Table Elements extracted from a PDF will include an\n",
    "    additional metadata field, \"text_as_html,\" where the value (string) is a just a\n",
    "    transformation of the data into an HTML <table>.\n",
    "    The \"text\" field for a partitioned Table Element is always present, whether True or False.\n",
    "- extract_images_in_pdf\n",
    "    - Only applicable if `strategy=hi_res`.\n",
    "    If True, any detected images will be saved in the path specified by\n",
    "    'extract_image_block_output_dir' or stored as base64 encoded data within metadata fields.\n",
    "    Deprecation Note: This parameter is marked for deprecation. Future versions will use\n",
    "    'extract_image_block_types' for broader extraction capabilities.\n",
    "- extract_image_block_types\n",
    "    - Only applicable if `strategy=hi_res`.\n",
    "    Images of the element type(s) specified in this list (e.g., [\"Image\", \"Table\"]) will be\n",
    "    saved in the path specified by 'extract_image_block_output_dir' or stored as base64\n",
    "    encoded data within metadata fields.\n",
    "- extract_image_block_to_payload\n",
    "    - Only applicable if `strategy=hi_res`.\n",
    "    If True, images of the element type(s) defined in 'extract_image_block_types' will be\n",
    "    encoded as base64 data and stored in two metadata fields: 'image_base64' and\n",
    "    'image_mime_type'.\n",
    "    This parameter facilitates the inclusion of element data directly within the payload,\n",
    "    especially for web-based applications or APIs.\n",
    "- extract_image_block_output_dir\n",
    "    - Only applicable if `strategy=hi_res` and `extract_image_block_to_payload=False`.\n",
    "    The filesystem path for saving images of the element type(s)\n",
    "    specified in 'extract_image_block_types'.\n",
    "- xml_keep_tags\n",
    "    - If True, will retain the XML tags in the output. Otherwise it will simply extract\n",
    "    the text from within the tags. Only applies to partition_xml.\n",
    "- request_timeout\n",
    "    - The timeout for the HTTP request if URL is set. Defaults to None meaning no timeout and\n",
    "    requests will block indefinitely.\n",
    "- hi_res_model_name\n",
    "    - The layout detection model used when partitioning strategy is set to `hi_res`.\n",
    "- model_name\n",
    "    - The layout detection model used when partitioning strategy is set to `hi_res`. To be\n",
    "    deprecated in favor of `hi_res_model_name`."
   ]
  },
  {
   "cell_type": "code",
   "execution_count": 133,
   "id": "7367ecd0-a35e-42b8-8800-bf4a27262ad6",
   "metadata": {
    "tags": []
   },
   "outputs": [],
   "source": [
    "loader = UnstructuredFileLoader(\n",
    "    file_path=\"./data/complex_pdf/sample.pdf\",\n",
    "    mode=\"elements\",\n",
    "\n",
    "    strategy=\"hi_res\",\n",
    "    hi_res_model_name=\"yolox\",\n",
    "\n",
    "    extract_images_in_pdf=True,\n",
    "    pdf_infer_table_structure=False,\n",
    "\n",
    "    extract_image_block_output_dir=\"./fig\",\n",
    "    extract_image_block_to_payload=True,\n",
    "\n",
    "    post_processors=[clean_extra_whitespace]\n",
    ")"
   ]
  },
  {
   "cell_type": "code",
   "execution_count": 134,
   "id": "f320a808-c49a-47d3-bb45-4e96ae690606",
   "metadata": {
    "tags": []
   },
   "outputs": [],
   "source": [
    "%%time\n",
    "docs = loader.load()"
   ]
  },
  {
   "cell_type": "code",
   "execution_count": 135,
   "id": "e3ae854b-f608-4c7e-8539-296541f1ea68",
   "metadata": {
    "tags": []
   },
   "outputs": [
    {
     "name": "stdout",
     "output_type": "stream",
     "text": [
      " # texts: 56 \n",
      " # tables: 2 \n",
      " # images: 3\n"
     ]
    }
   ],
   "source": [
    "tables, images, texts = [], [], []\n",
    "\n",
    "for doc in docs:\n",
    "\n",
    "    category = doc.metadata[\"category\"]\n",
    "\n",
    "    if category == \"Table\": tables.append(doc)\n",
    "    elif category == \"Image\": images.append(doc)\n",
    "    else: texts.append(doc)\n",
    "    \n",
    "print (f' # texts: {len(texts)} \\n # tables: {len(tables)} \\n # images: {len(images)}')\n"
   ]
  },
  {
   "cell_type": "markdown",
   "id": "fb16fd2a-1983-462d-94d8-4c62e81ef28c",
   "metadata": {
    "tags": []
   },
   "source": [
    "### Summarization of table and image\n",
    "- BedrockChat with claude3: https://medium.com/@dminhk/building-with-anthropics-claude-3-on-amazon-bedrock-and-langchain-%EF%B8%8F-2b842f9c0ca8"
   ]
  },
  {
   "cell_type": "code",
   "execution_count": 136,
   "id": "dca57b50-b89e-4146-912c-a4fcc75168ee",
   "metadata": {
    "tags": []
   },
   "outputs": [],
   "source": [
    "from langchain.schema import Document\n",
    "from langchain_core.messages import HumanMessage\n",
    "from langchain.schema.output_parser import StrOutputParser\n",
    "from langchain_core.prompts import ChatPromptTemplate, HumanMessagePromptTemplate, SystemMessagePromptTemplate"
   ]
  },
  {
   "cell_type": "code",
   "execution_count": 137,
   "id": "5a6631c9-07cc-4475-9154-22400e59f4ef",
   "metadata": {
    "tags": []
   },
   "outputs": [],
   "source": [
    "system_prompt = \"You are an assistant tasked with summarizing table and image.\"\n",
    "system_message_template = SystemMessagePromptTemplate.from_template(system_prompt)"
   ]
  },
  {
   "cell_type": "markdown",
   "id": "c1368851-8a18-4b1c-8136-15eabc193298",
   "metadata": {},
   "source": [
    "### For images"
   ]
  },
  {
   "cell_type": "code",
   "execution_count": 138,
   "id": "12fecb7f-cd5c-45a8-937c-97a73cf02b96",
   "metadata": {
    "tags": []
   },
   "outputs": [],
   "source": [
    "human_prompt = [\n",
    "    {\n",
    "        \"type\": \"image_url\",\n",
    "        \"image_url\": {\n",
    "            \"url\": \"data:image/png;base64,\" + \"{image_base64}\",\n",
    "        },\n",
    "    },\n",
    "    {\n",
    "        \"type\": \"text\",\n",
    "        \"text\": '''\n",
    "                 Here is the text: <text>{text}</text>\n",
    "                 Given image and text, give a concise summary.\n",
    "                 Don't insert any XML tag such as <text> and </text> when answering.\n",
    "                 Write in Korean.\n",
    "        '''\n",
    "    },\n",
    "]\n",
    "human_message_template = HumanMessagePromptTemplate.from_template(human_prompt)"
   ]
  },
  {
   "cell_type": "code",
   "execution_count": 139,
   "id": "4a21f1d9-2fee-47b9-a28a-cd48727e98a1",
   "metadata": {
    "tags": []
   },
   "outputs": [],
   "source": [
    "prompt = ChatPromptTemplate.from_messages(\n",
    "    [\n",
    "        system_message_template,\n",
    "        human_message_template\n",
    "    ]\n",
    ")\n",
    "\n",
    "#summarize_chain = prompt | llm_text | StrOutputParser()\n",
    "summarize_chain = {\"image_base64\": lambda x:x[0], \"text\": lambda x:x[1]} | prompt | llm_text | StrOutputParser()"
   ]
  },
  {
   "cell_type": "code",
   "execution_count": 140,
   "id": "9e3537a4-dfc2-4645-9431-fa5949d8861f",
   "metadata": {
    "tags": []
   },
   "outputs": [
    {
     "name": "stdout",
     "output_type": "stream",
     "text": [
      "제공된 이미지는 책 제목인 \"핵심설명서\"라는 한글 텍스트를 보여주고 있습니다. 검정색 바탕에 하얀색 한글 글씨체로 제목이 쓰여 있어 명확하게 보입니다. 이 이미지는 아마도 어떤 서적의 표지나 목차에 해당하는 내용일 것으로 추측됩니다.이 그래프는 수익률에 대한 그래프입니다. x축은 기준 가격 대비 기초자산가격의 백분율을 나타내고, y축은 세전수익률을 나타냅니다. 기준 가격인 100%에서 수익률은 0%이며, 기초자산가격이 130%일 때 수익률은 약 70%까지 상승합니다. 기초자산가격이 100% 원금보장 수준 이하일 경우 수익률은 마이너스가 됩니다.이미지는 세전수익률(%)과 직접기준가격대비 기준자산가액(%)의 관계를 보여주는 그래프입니다. 100% 원금보전 지점에서 세전수익률이 21%일 때 상승렬여율이 70%인 것으로 나타납니다. 또한 직접기준가격대비 기준자산가액이 130%일 때까지 그래프가 이어집니다. 이 그래프를 통해 투자 상품의 수익률과 위험수준의 상관관계를 파악할 수 있습니다."
     ]
    }
   ],
   "source": [
    "img_info = [(i.metadata[\"image_base64\"], i.page_content) for i in images]\n",
    "image_summaries = summarize_chain.batch(img_info, config={\"max_concurrency\": 1})"
   ]
  },
  {
   "cell_type": "code",
   "execution_count": 142,
   "id": "d2cb1799-d189-40b6-86c5-222ce46799e6",
   "metadata": {
    "tags": []
   },
   "outputs": [],
   "source": [
    "images_preprocessed = []\n",
    "\n",
    "for origin, summary in zip(images, image_summaries):\n",
    "    metadata = origin.metadata\n",
    "    metadata[\"origin_image\"] = [origin.page_content]\n",
    "    doc = Document(\n",
    "        page_content=summary,\n",
    "        metadata=metadata\n",
    "    )\n",
    "    images_preprocessed.append(doc)"
   ]
  },
  {
   "cell_type": "markdown",
   "id": "ded6c937-5a11-4907-b5bb-bee6ad0486a7",
   "metadata": {},
   "source": [
    "### For tables"
   ]
  },
  {
   "cell_type": "code",
   "execution_count": 144,
   "id": "001cd053-ef1e-41f7-ac42-868b4d28cd8c",
   "metadata": {
    "tags": []
   },
   "outputs": [],
   "source": [
    "human_prompt = [\n",
    "    {\n",
    "        \"type\": \"text\",\n",
    "        \"text\": '''\n",
    "                 Here is the table: <table>{table}</table>\n",
    "                 Given table, give a concise summary.\n",
    "                 Don't insert any XML tag such as <table> and </table> when answering.\n",
    "                 Write in Korean.\n",
    "        '''\n",
    "    },\n",
    "]\n",
    "human_message_template = HumanMessagePromptTemplate.from_template(human_prompt)"
   ]
  },
  {
   "cell_type": "code",
   "execution_count": 145,
   "id": "45cc06b5-2c72-4b21-bf1b-b467ee2816b9",
   "metadata": {
    "tags": []
   },
   "outputs": [],
   "source": [
    "prompt = ChatPromptTemplate.from_messages(\n",
    "    [\n",
    "        system_message_template,\n",
    "        human_message_template\n",
    "    ]\n",
    ")\n",
    "\n",
    "#summarize_chain = prompt | llm_text | StrOutputParser()\n",
    "summarize_chain = {\"table\": lambda x:x} | prompt | llm_text | StrOutputParser()"
   ]
  },
  {
   "cell_type": "code",
   "execution_count": 146,
   "id": "feb76e1e-bafc-424d-8375-67cdc37fd5e2",
   "metadata": {
    "tags": []
   },
   "outputs": [
    {
     "name": "stdout",
     "output_type": "stream",
     "text": [
      "이 표는 만기상환금액을 결정하는 방식을 설명하고 있습니다. 만기평가가격이 최초기준가격의 100% 이상일 경우에는 {(만기평가가격/최초기준가격) × 70%}를 상환받게 되며, 만기평가가격이 최초기준가격의 100% 미만일 경우에는 총액면금액의 100%를 상환받게 됩니다.주어진 표는 KOSPI200 지수와 금 가격의 수익률 및 손익을 보여주고 있습니다. 최초 기준가격 결정일에는 KOSPI200 지수가 250pt, 금 가격이 1,500달러였습니다. 만기평가일 1에서는 KOSPI200 지수가 20% 상승하여 300pt, 금 가격이 10% 상승하여 1,650달러가 되었고, 이에 따라 7.0%의 수익률과 700만원의 세전 이익이 발생했습니다. 반면 만기평가일 2에서는 KOSPI200 지수는 20% 상승한 300pt이었지만, 금 가격은 10% 하락하여 1,350달러가 되어 손익은 0이었습니다."
     ]
    }
   ],
   "source": [
    "table_info = [t.page_content for t in tables]\n",
    "table_summaries = summarize_chain.batch(table_info, config={\"max_concurrency\": 1})"
   ]
  },
  {
   "cell_type": "code",
   "execution_count": 147,
   "id": "b8c733fd-0274-41bb-868d-832c797aff7b",
   "metadata": {
    "tags": []
   },
   "outputs": [],
   "source": [
    "tables_preprocessed = []\n",
    "\n",
    "for origin, summary in zip(tables, table_summaries):\n",
    "    metadata = origin.metadata\n",
    "    metadata[\"origin_table\"] = [origin.page_content]\n",
    "    doc = Document(\n",
    "        page_content=summary,\n",
    "        metadata=metadata\n",
    "    )\n",
    "    tables_preprocessed.append(doc)"
   ]
  },
  {
   "cell_type": "markdown",
   "id": "fa0d7f61-24fa-47c2-b788-15c1c25fa1d1",
   "metadata": {},
   "source": [
    "### Text Spliter 로 청킹\n",
    "참고: 검색된 문서/텍스트는 질문에 대답하기에 충분한 정보를 포함할 만큼 커야 합니다. 하지만 LLM 프롬프트에 들어갈 만큼 충분히 작습니다. <BR>\n",
    "또한 임베딩 모델에는 입력 토큰 길이는 KoSimCSERobert는 512개, titanEmbedding(8,912개) 토큰으로 제한되어 있습니다. <BR>\n",
    "이 사용 사례를 위해 [RecursiveCharacterTextSplitter](https://python.langchain.com/en/latest/modules/indexes/text_splitters/examples/recursive_text_splitter.html)를 사용하여 500자가 겹치는 약 92자의 청크를 생성합니다."
   ]
  },
  {
   "cell_type": "code",
   "execution_count": 155,
   "id": "40b0d8b7-e7e7-4ff8-b938-4fa53982ef88",
   "metadata": {
    "tags": []
   },
   "outputs": [],
   "source": [
    "from langchain.text_splitter import RecursiveCharacterTextSplitter"
   ]
  },
  {
   "cell_type": "code",
   "execution_count": 160,
   "id": "dbcb6942-ec70-48ba-9c87-08d99dd7f177",
   "metadata": {
    "tags": []
   },
   "outputs": [
    {
     "name": "stdout",
     "output_type": "stream",
     "text": [
      "Number of documents after split and chunking=56\n"
     ]
    }
   ],
   "source": [
    "chunk_size = 1024\n",
    "chunk_overlap = 50\n",
    "\n",
    "text_splitter = RecursiveCharacterTextSplitter(\n",
    "    # Set a really small chunk size, just to show.\n",
    "    chunk_size=chunk_size,\n",
    "    chunk_overlap=chunk_overlap,\n",
    "    separators=[\"\\n\\n\", \"\\n\", \".\", \" \", \"\"],\n",
    "    length_function=len,\n",
    ")\n",
    "\n",
    "texts_preprocessed = text_splitter.split_documents(texts)\n",
    "print(f\"Number of documents after split and chunking={len(texts_preprocessed)}\")"
   ]
  },
  {
   "cell_type": "markdown",
   "id": "e527c549-2f46-4037-902c-d3946d7076e8",
   "metadata": {},
   "source": [
    "### Merge text, table and image"
   ]
  },
  {
   "cell_type": "code",
   "execution_count": 162,
   "id": "7a9e8c11-460a-4b3f-820e-0e31b6409ccb",
   "metadata": {
    "tags": []
   },
   "outputs": [],
   "source": [
    "from itertools import chain"
   ]
  },
  {
   "cell_type": "code",
   "execution_count": 179,
   "id": "17a20338-f1be-4bff-aac7-840778a5a34c",
   "metadata": {
    "tags": []
   },
   "outputs": [],
   "source": [
    "docs_preprocessed = list(chain(texts_preprocessed, tables_preprocessed, images_preprocessed))"
   ]
  },
  {
   "cell_type": "code",
   "execution_count": 180,
   "id": "6c3bd9ba-8318-43fe-ab43-5f03cb4b6208",
   "metadata": {
    "collapsed": true,
    "jupyter": {
     "outputs_hidden": true
    },
    "tags": []
   },
   "outputs": [
    {
     "data": {
      "text/plain": [
       "[Document(page_content='이 설명서는 금융소비자의 권익 보호 및 금융상품에 대한 이해 증진을 위하여 금융상품의 핵심내용을 쉽게 이해하실 수 있도록 작성한 것입니다. 상품내용을 충분히 이해하신 다음에 청약여부를 결정하시기 바랍니다.', metadata={'source': './data/complex_pdf/sample.pdf', 'detection_class_prob': 0.3390708267688751, 'coordinates': {'points': ((112.57894134521484, 41.28585433959961), (112.57894134521484, 164.21746826171875), (1547.0444444444445, 164.21746826171875), (1547.0444444444445, 41.28585433959961)), 'system': 'PixelSpace', 'layout_width': 1654, 'layout_height': 2339}, 'last_modified': '2024-03-13T13:49:55', 'filetype': 'application/pdf', 'languages': ['eng'], 'page_number': 1, 'file_directory': './data/complex_pdf', 'filename': 'sample.pdf', 'category': 'Title'}),\n",
       " Document(page_content='[미래에셋증권 제 253 회 파생결합증권(DLS)(원금보장형)]', metadata={'source': './data/complex_pdf/sample.pdf', 'detection_class_prob': 0.5520003437995911, 'coordinates': {'points': ((309.12457275390625, 357.5935555555554), (309.12457275390625, 398.43634033203125), (1348.2647777777777, 398.43634033203125), (1348.2647777777777, 357.5935555555554)), 'system': 'PixelSpace', 'layout_width': 1654, 'layout_height': 2339}, 'last_modified': '2024-03-13T13:49:55', 'filetype': 'application/pdf', 'languages': ['eng'], 'page_number': 1, 'file_directory': './data/complex_pdf', 'filename': 'sample.pdf', 'category': 'Title'}),\n",
       " Document(page_content='A', metadata={'source': './data/complex_pdf/sample.pdf', 'coordinates': {'points': ((69.0, 483.0), (69.0, 528.0), (126.0, 528.0), (126.0, 483.0)), 'system': 'PixelSpace', 'layout_width': 1654, 'layout_height': 2339}, 'last_modified': '2024-03-13T13:49:55', 'filetype': 'application/pdf', 'languages': ['eng'], 'page_number': 1, 'file_directory': './data/complex_pdf', 'filename': 'sample.pdf', 'category': 'Title'}),\n",
       " Document(page_content='1', metadata={'source': './data/complex_pdf/sample.pdf', 'coordinates': {'points': ((86.66666666666666, 487.45555555555535), (86.66666666666666, 520.7888888888887), (116.43333333333334, 520.7888888888887), (116.43333333333334, 487.45555555555535)), 'system': 'PixelSpace', 'layout_width': 1654, 'layout_height': 2339}, 'last_modified': '2024-03-13T13:49:55', 'filetype': 'application/pdf', 'languages': ['eng'], 'page_number': 1, 'parent_id': '559aead08264d5795d3909718cdd05ab', 'file_directory': './data/complex_pdf', 'filename': 'sample.pdf', 'category': 'UncategorizedText'}),\n",
       " Document(page_content='상품 개요', metadata={'source': './data/complex_pdf/sample.pdf', 'coordinates': {'points': ((139.33333333333331, 487.45555555555535), (139.33333333333331, 520.7888888888887), (324.15555555555557, 520.7888888888887), (324.15555555555557, 487.45555555555535)), 'system': 'PixelSpace', 'layout_width': 1654, 'layout_height': 2339}, 'last_modified': '2024-03-13T13:49:55', 'filetype': 'application/pdf', 'languages': ['eng'], 'page_number': 1, 'file_directory': './data/complex_pdf', 'filename': 'sample.pdf', 'category': 'Title'}),\n",
       " Document(page_content='|', metadata={'source': './data/complex_pdf/sample.pdf', 'coordinates': {'points': ((418.0, 483.0), (418.0, 528.0), (422.0, 528.0), (422.0, 483.0)), 'system': 'PixelSpace', 'layout_width': 1654, 'layout_height': 2339}, 'last_modified': '2024-03-13T13:49:55', 'filetype': 'application/pdf', 'languages': ['eng'], 'page_number': 1, 'parent_id': '1da4a4bf753a53f335862bcac9f757a1', 'file_directory': './data/complex_pdf', 'filename': 'sample.pdf', 'category': 'UncategorizedText'}),\n",
       " Document(page_content='○ 모집가액: 100 억원 (모집된 금액이 10 억 미만일 경우 발행이 취소될 수 있음)', metadata={'source': './data/complex_pdf/sample.pdf', 'detection_class_prob': 0.4995284676551819, 'coordinates': {'points': ((85.8922119140625, 579.6508888888887), (85.8922119140625, 607.3175555555553), (1152.6998291015625, 607.3175555555553), (1152.6998291015625, 579.6508888888887)), 'system': 'PixelSpace', 'layout_width': 1654, 'layout_height': 2339}, 'last_modified': '2024-03-13T13:49:55', 'filetype': 'application/pdf', 'languages': ['eng'], 'page_number': 1, 'parent_id': '1da4a4bf753a53f335862bcac9f757a1', 'file_directory': './data/complex_pdf', 'filename': 'sample.pdf', 'category': 'NarrativeText'}),\n",
       " Document(page_content='○ 기초자산: KOSPI200 지수(블룸버그 Ticker: KOSPI2 index),', metadata={'source': './data/complex_pdf/sample.pdf', 'detection_class_prob': 0.3790309429168701, 'coordinates': {'points': ((85.8846435546875, 621.3175555555555), (85.8846435546875, 649.1328125), (917.4074444444444, 649.1328125), (917.4074444444444, 621.3175555555555)), 'system': 'PixelSpace', 'layout_width': 1654, 'layout_height': 2339}, 'last_modified': '2024-03-13T13:49:55', 'filetype': 'application/pdf', 'languages': ['eng'], 'page_number': 1, 'parent_id': '1da4a4bf753a53f335862bcac9f757a1', 'file_directory': './data/complex_pdf', 'filename': 'sample.pdf', 'category': 'ListItem'}),\n",
       " Document(page_content='금가격지수 (블룸버그 Ticker: GOLDLNPM index)', metadata={'source': './data/complex_pdf/sample.pdf', 'coordinates': {'points': ((258.06666666666666, 662.9842222222221), (258.06666666666666, 690.6508888888885), (892.5194444444445, 690.6508888888885), (892.5194444444445, 662.9842222222221)), 'system': 'PixelSpace', 'layout_width': 1654, 'layout_height': 2339}, 'last_modified': '2024-03-13T13:49:55', 'filetype': 'application/pdf', 'languages': ['eng'], 'page_number': 1, 'file_directory': './data/complex_pdf', 'filename': 'sample.pdf', 'category': 'Title'}),\n",
       " Document(page_content='○ 청약기간 : 2011 년 07 월 04 일 ~2011 년 07 월 07 일 16 시', metadata={'source': './data/complex_pdf/sample.pdf', 'detection_class_prob': 0.6411125063896179, 'coordinates': {'points': ((91.33333333333334, 704.6508888888887), (91.33333333333334, 732.3748779296875), (931.2430419921875, 732.3748779296875), (931.2430419921875, 704.6508888888887)), 'system': 'PixelSpace', 'layout_width': 1654, 'layout_height': 2339}, 'last_modified': '2024-03-13T13:49:55', 'filetype': 'application/pdf', 'languages': ['eng'], 'page_number': 1, 'parent_id': '2edefb210a72364af099647c1de38359', 'file_directory': './data/complex_pdf', 'filename': 'sample.pdf', 'category': 'ListItem'}),\n",
       " Document(page_content='○ 청약단위 : 100 만원 이상 100 만원 단위 (발행 후 추가 납입 불가)', metadata={'source': './data/complex_pdf/sample.pdf', 'detection_class_prob': 0.5047706961631775, 'coordinates': {'points': ((85.46671295166016, 746.3175555555555), (85.46671295166016, 775.2879638671875), (1003.8656005859375, 775.2879638671875), (1003.8656005859375, 746.3175555555555)), 'system': 'PixelSpace', 'layout_width': 1654, 'layout_height': 2339}, 'last_modified': '2024-03-13T13:49:55', 'filetype': 'application/pdf', 'languages': ['eng'], 'page_number': 1, 'parent_id': '2edefb210a72364af099647c1de38359', 'file_directory': './data/complex_pdf', 'filename': 'sample.pdf', 'category': 'ListItem'}),\n",
       " Document(page_content='○ 발 행 일 : 2011 년 07 월 08 일', metadata={'source': './data/complex_pdf/sample.pdf', 'detection_class_prob': 0.7119676470756531, 'coordinates': {'points': ((90.03622436523438, 788.0675555555557), (90.03622436523438, 816.7616577148438), (545.3518888888888, 816.7616577148438), (545.3518888888888, 788.0675555555557)), 'system': 'PixelSpace', 'layout_width': 1654, 'layout_height': 2339}, 'last_modified': '2024-03-13T13:49:55', 'filetype': 'application/pdf', 'languages': ['eng'], 'page_number': 1, 'parent_id': '2edefb210a72364af099647c1de38359', 'file_directory': './data/complex_pdf', 'filename': 'sample.pdf', 'category': 'ListItem'}),\n",
       " Document(page_content='○ 만 기 일 : 2012 년 07 월 09 일(만기 1 년)', metadata={'source': './data/complex_pdf/sample.pdf', 'detection_class_prob': 0.7245339155197144, 'coordinates': {'points': ((91.33333333333334, 829.7342222222223), (91.33333333333334, 857.6875610351562), (700.0185555555555, 857.6875610351562), (700.0185555555555, 829.7342222222223)), 'system': 'PixelSpace', 'layout_width': 1654, 'layout_height': 2339}, 'last_modified': '2024-03-13T13:49:55', 'filetype': 'application/pdf', 'languages': ['eng'], 'page_number': 1, 'parent_id': '2edefb210a72364af099647c1de38359', 'file_directory': './data/complex_pdf', 'filename': 'sample.pdf', 'category': 'ListItem'}),\n",
       " Document(page_content='○ 상품위험등급: 4 등급', metadata={'source': './data/complex_pdf/sample.pdf', 'detection_class_prob': 0.6981909275054932, 'coordinates': {'points': ((82.37476348876953, 871.400888888889), (82.37476348876953, 900.8624267578125), (405.93522222222214, 900.8624267578125), (405.93522222222214, 871.400888888889)), 'system': 'PixelSpace', 'layout_width': 1654, 'layout_height': 2339}, 'last_modified': '2024-03-13T13:49:55', 'filetype': 'application/pdf', 'languages': ['eng'], 'page_number': 1, 'parent_id': '2edefb210a72364af099647c1de38359', 'file_directory': './data/complex_pdf', 'filename': 'sample.pdf', 'category': 'ListItem'}),\n",
       " Document(page_content='2 기준가격 결정일 및 평가방법', metadata={'source': './data/complex_pdf/sample.pdf', 'detection_class_prob': 0.3014272451400757, 'coordinates': {'points': ((82.74785614013672, 949.872222222222), (82.74785614013672, 988.8414306640625), (618.5722222222222, 988.8414306640625), (618.5722222222222, 949.872222222222)), 'system': 'PixelSpace', 'layout_width': 1654, 'layout_height': 2339}, 'last_modified': '2024-03-13T13:49:55', 'filetype': 'application/pdf', 'languages': ['eng'], 'page_number': 1, 'file_directory': './data/complex_pdf', 'filename': 'sample.pdf', 'category': 'Title'}),\n",
       " Document(page_content='○ 최초 기준가격: 2011 년 07 월 07 일의 종가(해당 거래소 기준) ○ 만기 평가가격: 2012 년 07 월 03 일의 종가(해당 거래소 기준)', metadata={'source': './data/complex_pdf/sample.pdf', 'detection_class_prob': 0.3055884838104248, 'coordinates': {'points': ((77.48686218261719, 1039.8268888888886), (77.48686218261719, 1111.7410888671875), (978.0184326171875, 1111.7410888671875), (978.0184326171875, 1039.8268888888886)), 'system': 'PixelSpace', 'layout_width': 1654, 'layout_height': 2339}, 'last_modified': '2024-03-13T13:49:55', 'filetype': 'application/pdf', 'languages': ['eng'], 'page_number': 1, 'parent_id': '31aa91499f9cb9c508fcd3c3dcffc30d', 'file_directory': './data/complex_pdf', 'filename': 'sample.pdf', 'category': 'NarrativeText'}),\n",
       " Document(page_content='3|', metadata={'source': './data/complex_pdf/sample.pdf', 'coordinates': {'points': ((88.0, 1158.0), (88.0, 1201.0), (126.0, 1201.0), (126.0, 1158.0)), 'system': 'PixelSpace', 'layout_width': 1654, 'layout_height': 2339}, 'last_modified': '2024-03-13T13:49:55', 'filetype': 'application/pdf', 'languages': ['eng'], 'page_number': 1, 'parent_id': '31aa91499f9cb9c508fcd3c3dcffc30d', 'file_directory': './data/complex_pdf', 'filename': 'sample.pdf', 'category': 'UncategorizedText'}),\n",
       " Document(page_content='3', metadata={'source': './data/complex_pdf/sample.pdf', 'coordinates': {'points': ((86.66666666666666, 1162.5388888888888), (86.66666666666666, 1195.872222222222), (116.43333333333334, 1195.872222222222), (116.43333333333334, 1162.5388888888888)), 'system': 'PixelSpace', 'layout_width': 1654, 'layout_height': 2339}, 'last_modified': '2024-03-13T13:49:55', 'filetype': 'application/pdf', 'languages': ['eng'], 'page_number': 1, 'parent_id': '31aa91499f9cb9c508fcd3c3dcffc30d', 'file_directory': './data/complex_pdf', 'filename': 'sample.pdf', 'category': 'UncategorizedText'}),\n",
       " Document(page_content='손익 구조', metadata={'source': './data/complex_pdf/sample.pdf', 'coordinates': {'points': ((139.33333333333331, 1162.5388888888888), (139.33333333333331, 1195.872222222222), (324.15555555555557, 1195.872222222222), (324.15555555555557, 1162.5388888888888)), 'system': 'PixelSpace', 'layout_width': 1654, 'layout_height': 2339}, 'last_modified': '2024-03-13T13:49:55', 'filetype': 'application/pdf', 'languages': ['eng'], 'page_number': 1, 'file_directory': './data/complex_pdf', 'filename': 'sample.pdf', 'category': 'Title'}),\n",
       " Document(page_content='※ 만기수익률=(만기평가가격-최초기준가격)/최초기준가격', metadata={'source': './data/complex_pdf/sample.pdf', 'detection_class_prob': 0.2517835199832916, 'coordinates': {'points': ((91.33333333333334, 1515.4564444444443), (91.33333333333334, 1544.0279541015625), (848.0185555555556, 1544.0279541015625), (848.0185555555556, 1515.4564444444443)), 'system': 'PixelSpace', 'layout_width': 1654, 'layout_height': 2339}, 'last_modified': '2024-03-13T13:49:55', 'filetype': 'application/pdf', 'languages': ['eng'], 'page_number': 1, 'parent_id': 'f1d0f6667f28d555fc05578bb3e90881', 'file_directory': './data/complex_pdf', 'filename': 'sample.pdf', 'category': 'ListItem'}),\n",
       " Document(page_content='(단, {(만기평가가격-최초기준가격)/최초기준가격×70%}은 소수점 다섯째자리 이하 절사)', metadata={'source': './data/complex_pdf/sample.pdf', 'detection_class_prob': 0.3833528459072113, 'coordinates': {'points': ((91.33333333333334, 1557.123111111111), (91.33333333333334, 1584.88232421875), (1241.824111111111, 1584.88232421875), (1241.824111111111, 1557.123111111111)), 'system': 'PixelSpace', 'layout_width': 1654, 'layout_height': 2339}, 'last_modified': '2024-03-13T13:49:55', 'filetype': 'application/pdf', 'languages': ['eng'], 'page_number': 1, 'parent_id': 'f1d0f6667f28d555fc05578bb3e90881', 'file_directory': './data/complex_pdf', 'filename': 'sample.pdf', 'category': 'ListItem'}),\n",
       " Document(page_content='4|', metadata={'source': './data/complex_pdf/sample.pdf', 'coordinates': {'points': ((88.0, 1673.0), (88.0, 1719.0), (126.0, 1719.0), (126.0, 1673.0)), 'system': 'PixelSpace', 'layout_width': 1654, 'layout_height': 2339}, 'last_modified': '2024-03-13T13:49:55', 'filetype': 'application/pdf', 'languages': ['eng'], 'page_number': 1, 'parent_id': 'f1d0f6667f28d555fc05578bb3e90881', 'file_directory': './data/complex_pdf', 'filename': 'sample.pdf', 'category': 'UncategorizedText'}),\n",
       " Document(page_content='4', metadata={'source': './data/complex_pdf/sample.pdf', 'coordinates': {'points': ((86.66666666666666, 1677.261111111111), (86.66666666666666, 1710.5944444444442), (116.43333333333334, 1710.5944444444442), (116.43333333333334, 1677.261111111111)), 'system': 'PixelSpace', 'layout_width': 1654, 'layout_height': 2339}, 'last_modified': '2024-03-13T13:49:55', 'filetype': 'application/pdf', 'languages': ['eng'], 'page_number': 1, 'parent_id': 'f1d0f6667f28d555fc05578bb3e90881', 'file_directory': './data/complex_pdf', 'filename': 'sample.pdf', 'category': 'UncategorizedText'}),\n",
       " Document(page_content='투자수익 사례 : 1 억원을 투자한 경우', metadata={'source': './data/complex_pdf/sample.pdf', 'coordinates': {'points': ((139.33333333333331, 1677.261111111111), (139.33333333333331, 1710.5944444444442), (755.2388888888888, 1710.5944444444442), (755.2388888888888, 1677.261111111111)), 'system': 'PixelSpace', 'layout_width': 1654, 'layout_height': 2339}, 'last_modified': '2024-03-13T13:49:55', 'filetype': 'application/pdf', 'languages': ['eng'], 'page_number': 1, 'file_directory': './data/complex_pdf', 'filename': 'sample.pdf', 'category': 'Title'}),\n",
       " Document(page_content='○ 만기상환 ① : 두 기초자산의 만기평가가격이 KOSPI200 은 300pt, 금가격지수는 $1,650 인 경우 ⇒ 1 억원 700 만원 지급', metadata={'source': './data/complex_pdf/sample.pdf', 'detection_class_prob': 0.4016065299510956, 'coordinates': {'points': ((91.33333333333334, 1769.7897777777775), (91.33333333333334, 1839.6800537109375), (1398.1574444444443, 1839.6800537109375), (1398.1574444444443, 1769.7897777777775)), 'system': 'PixelSpace', 'layout_width': 1654, 'layout_height': 2339}, 'last_modified': '2024-03-13T13:49:55', 'filetype': 'application/pdf', 'languages': ['eng'], 'page_number': 1, 'parent_id': '93fdaec2fc7e323322bec792d16587e2', 'file_directory': './data/complex_pdf', 'filename': 'sample.pdf', 'category': 'NarrativeText'}),\n",
       " Document(page_content='= 1 억원×[100%+{(1,650-1,500)/1,500×70%}] (만기수익률이 낮은 금가격지수 기준)', metadata={'source': './data/complex_pdf/sample.pdf', 'coordinates': {'points': ((91.33333333333334, 1853.2064444444443), (91.33333333333334, 1880.8731111111108), (1849.8796666666667, 1880.8731111111108), (1849.8796666666667, 1853.2064444444443)), 'system': 'PixelSpace', 'layout_width': 1654, 'layout_height': 2339}, 'last_modified': '2024-03-13T13:49:55', 'filetype': 'application/pdf', 'languages': ['eng'], 'page_number': 1, 'parent_id': '93fdaec2fc7e323322bec792d16587e2', 'file_directory': './data/complex_pdf', 'filename': 'sample.pdf', 'category': 'UncategorizedText'}),\n",
       " Document(page_content='○ 만기상환 ② : 두 기초자산의 만기평가가격이 KOSPI200 은 300pt, 금가격지수는 $1,350 인 경우 ⇒ 1 억원 지급(100% 원금보장)', metadata={'source': './data/complex_pdf/sample.pdf', 'detection_class_prob': 0.8142080307006836, 'coordinates': {'points': ((91.33333333333334, 1936.5397777777778), (91.33333333333334, 2006.0692138671875), (1398.1574444444443, 2006.0692138671875), (1398.1574444444443, 1936.5397777777778)), 'system': 'PixelSpace', 'layout_width': 1654, 'layout_height': 2339}, 'last_modified': '2024-03-13T13:49:55', 'filetype': 'application/pdf', 'languages': ['eng'], 'page_number': 1, 'parent_id': '93fdaec2fc7e323322bec792d16587e2', 'file_directory': './data/complex_pdf', 'filename': 'sample.pdf', 'category': 'NarrativeText'}),\n",
       " Document(page_content='이 설명서는 금융소비자의 권익 보호 및 금융상품에 대한 이해 증진을 위하여 금융상품의 핵심내용을 쉽게 이해하실 수 있도록 작성한 것입니다. 상품내용을 충분히 이해하신 다음에 청약여부를 결정하시기 바랍니다.', metadata={'source': './data/complex_pdf/sample.pdf', 'detection_class_prob': 0.45474040508270264, 'coordinates': {'points': ((107.97572326660156, 43.19487380981445), (107.97572326660156, 162.32247924804688), (1547.0444444444445, 162.32247924804688), (1547.0444444444445, 43.19487380981445)), 'system': 'PixelSpace', 'layout_width': 1654, 'layout_height': 2339}, 'last_modified': '2024-03-13T13:49:55', 'filetype': 'application/pdf', 'languages': ['eng'], 'page_number': 2, 'file_directory': './data/complex_pdf', 'filename': 'sample.pdf', 'category': 'Header'}),\n",
       " Document(page_content='최대 투자손실 발생사례 : 1 억원을 투자한 경우', metadata={'source': './data/complex_pdf/sample.pdf', 'detection_class_prob': 0.29370570182800293, 'coordinates': {'points': ((78.66966247558594, 211.3999999999998), (78.66966247558594, 247.93206787109375), (906.6277777777776, 247.93206787109375), (906.6277777777776, 211.3999999999998)), 'system': 'PixelSpace', 'layout_width': 1654, 'layout_height': 2339}, 'last_modified': '2024-03-13T13:49:55', 'filetype': 'application/pdf', 'languages': ['eng'], 'page_number': 2, 'parent_id': 'cd9d1b3996e90d2f4c901b4ba8e66719', 'file_directory': './data/complex_pdf', 'filename': 'sample.pdf', 'category': 'NarrativeText'}),\n",
       " Document(page_content='본 상품은 원금보장형으로 최대 투자손실 발생사례가 존재하지 않습니다.', metadata={'source': './data/complex_pdf/sample.pdf', 'detection_class_prob': 0.501422643661499, 'coordinates': {'points': ((83.23558044433594, 303.6508888888891), (83.23558044433594, 332.8887634277344), (1046.4074444444445, 332.8887634277344), (1046.4074444444445, 303.6508888888891)), 'system': 'PixelSpace', 'layout_width': 1654, 'layout_height': 2339}, 'last_modified': '2024-03-13T13:49:55', 'filetype': 'application/pdf', 'languages': ['eng'], 'page_number': 2, 'parent_id': 'cd9d1b3996e90d2f4c901b4ba8e66719', 'file_directory': './data/complex_pdf', 'filename': 'sample.pdf', 'category': 'NarrativeText'}),\n",
       " Document(page_content='6|', metadata={'source': './data/complex_pdf/sample.pdf', 'coordinates': {'points': ((98.0, 377.0), (98.0, 423.0), (136.0, 423.0), (136.0, 377.0)), 'system': 'PixelSpace', 'layout_width': 1654, 'layout_height': 2339}, 'last_modified': '2024-03-13T13:49:55', 'filetype': 'application/pdf', 'languages': ['eng'], 'page_number': 2, 'parent_id': 'cd9d1b3996e90d2f4c901b4ba8e66719', 'file_directory': './data/complex_pdf', 'filename': 'sample.pdf', 'category': 'UncategorizedText'}),\n",
       " Document(page_content='6', metadata={'source': './data/complex_pdf/sample.pdf', 'coordinates': {'points': ((96.66666666666666, 382.1222222222221), (96.66666666666666, 415.45555555555546), (126.43333333333334, 415.45555555555546), (126.43333333333334, 382.1222222222221)), 'system': 'PixelSpace', 'layout_width': 1654, 'layout_height': 2339}, 'last_modified': '2024-03-13T13:49:55', 'filetype': 'application/pdf', 'languages': ['eng'], 'page_number': 2, 'parent_id': 'cd9d1b3996e90d2f4c901b4ba8e66719', 'file_directory': './data/complex_pdf', 'filename': 'sample.pdf', 'category': 'UncategorizedText'}),\n",
       " Document(page_content='중도상환수수료 : 투자자의 요청에 의한 중도 상환 요청시', metadata={'source': './data/complex_pdf/sample.pdf', 'coordinates': {'points': ((149.33333333333331, 382.1222222222221), (149.33333333333331, 415.45555555555546), (1064.6277777777777, 415.45555555555546), (1064.6277777777777, 382.1222222222221)), 'system': 'PixelSpace', 'layout_width': 1654, 'layout_height': 2339}, 'last_modified': '2024-03-13T13:49:55', 'filetype': 'application/pdf', 'languages': ['eng'], 'page_number': 2, 'parent_id': 'cd9d1b3996e90d2f4c901b4ba8e66719', 'file_directory': './data/complex_pdf', 'filename': 'sample.pdf', 'category': 'Title'}),\n",
       " Document(page_content='○ 만기상환이 원칙이나 투자자가 원할 경우 중도상환을 신청하실 수 있습니다.', metadata={'source': './data/complex_pdf/sample.pdf', 'detection_class_prob': 0.5106072425842285, 'coordinates': {'points': ((88.03787994384766, 432.98422222222223), (88.03787994384766, 460.9460754394531), (1146.2412109375, 460.9460754394531), (1146.2412109375, 432.98422222222223)), 'system': 'PixelSpace', 'layout_width': 1654, 'layout_height': 2339}, 'last_modified': '2024-03-13T13:49:55', 'filetype': 'application/pdf', 'languages': ['eng'], 'page_number': 2, 'parent_id': 'd3cf9a1e043f2f85cf7ed9d275905f33', 'file_directory': './data/complex_pdf', 'filename': 'sample.pdf', 'category': 'ListItem'}),\n",
       " Document(page_content='○ 중도상환신청가능일 : 발행 이후 발행일 익일부터 만기평가일 4 영업일 전까지 매 영업일 오후 5 시 이전에 유선 또는 서면으로 요청, 신청취소는 신청일 당일에만 가능함.', metadata={'source': './data/complex_pdf/sample.pdf', 'detection_class_prob': 0.8568108677864075, 'coordinates': {'points': ((101.33333333333331, 474.6508888888889), (101.33333333333331, 546.18017578125), (1568.213, 546.18017578125), (1568.213, 474.6508888888889)), 'system': 'PixelSpace', 'layout_width': 1654, 'layout_height': 2339}, 'last_modified': '2024-03-13T13:49:55', 'filetype': 'application/pdf', 'languages': ['eng'], 'page_number': 2, 'parent_id': 'd3cf9a1e043f2f85cf7ed9d275905f33', 'file_directory': './data/complex_pdf', 'filename': 'sample.pdf', 'category': 'NarrativeText'}),\n",
       " Document(page_content='○ 중도상환 요청 단위 : 일백만원 이상 일백만원 단위', metadata={'source': './data/complex_pdf/sample.pdf', 'detection_class_prob': 0.5766807794570923, 'coordinates': {'points': ((93.92737579345703, 557.9842222222222), (93.92737579345703, 585.6508888888886), (814.4470825195312, 585.6508888888886), (814.4470825195312, 557.9842222222222)), 'system': 'PixelSpace', 'layout_width': 1654, 'layout_height': 2339}, 'last_modified': '2024-03-13T13:49:55', 'filetype': 'application/pdf', 'languages': ['eng'], 'page_number': 2, 'parent_id': 'd3cf9a1e043f2f85cf7ed9d275905f33', 'file_directory': './data/complex_pdf', 'filename': 'sample.pdf', 'category': 'ListItem'}),\n",
       " Document(page_content='○ 중도상환가격 결정일 : 중도상환신청일 익거래소영업일(종가) 단, 본 증권의 기초자산 중 하나라도 거래소', metadata={'source': './data/complex_pdf/sample.pdf', 'detection_class_prob': 0.8468326330184937, 'coordinates': {'points': ((101.33333333333331, 599.6508888888889), (101.33333333333331, 668.1013793945312), (1568.213, 668.1013793945312), (1568.213, 599.6508888888889)), 'system': 'PixelSpace', 'layout_width': 1654, 'layout_height': 2339}, 'last_modified': '2024-03-13T13:49:55', 'filetype': 'application/pdf', 'languages': ['eng'], 'page_number': 2, 'parent_id': 'd3cf9a1e043f2f85cf7ed9d275905f33', 'file_directory': './data/complex_pdf', 'filename': 'sample.pdf', 'category': 'NarrativeText'}),\n",
       " Document(page_content='영업일이 아닌 경우 모두 익거래소영업일(종가) ○ 중도상환금액 : 중도상환가격을 기초로 하여 발행 후 6 개월 미만인 경우 공정가액의 90%이상, 6 개월 이상인 경우 공정가액의 95%이상을 지급합니다. 이 경우 (원금보장형이라 하더라도) 원금손실이 발생할 수 있습니다.', metadata={'source': './data/complex_pdf/sample.pdf', 'coordinates': {'points': ((101.33333333333331, 641.3175555555556), (101.33333333333331, 752.3175555555554), (1568.213, 752.3175555555554), (1568.213, 641.3175555555556)), 'system': 'PixelSpace', 'layout_width': 1654, 'layout_height': 2339}, 'last_modified': '2024-03-13T13:49:55', 'filetype': 'application/pdf', 'languages': ['eng'], 'page_number': 2, 'parent_id': 'd3cf9a1e043f2f85cf7ed9d275905f33', 'file_directory': './data/complex_pdf', 'filename': 'sample.pdf', 'category': 'NarrativeText'}),\n",
       " Document(page_content='○ 중도상환금액 지급일 : 중도상환신청일(불포함) 이후 2 영업일', metadata={'source': './data/complex_pdf/sample.pdf', 'detection_class_prob': 0.8824812769889832, 'coordinates': {'points': ((101.33333333333331, 685.4236450195312), (101.33333333333331, 795.4564208984375), (1550.4140625, 795.4564208984375), (1550.4140625, 685.4236450195312)), 'system': 'PixelSpace', 'layout_width': 1654, 'layout_height': 2339}, 'last_modified': '2024-03-13T13:49:55', 'filetype': 'application/pdf', 'languages': ['eng'], 'page_number': 2, 'parent_id': 'd3cf9a1e043f2f85cf7ed9d275905f33', 'file_directory': './data/complex_pdf', 'filename': 'sample.pdf', 'category': 'NarrativeText'}),\n",
       " Document(page_content='7 위험 요인', metadata={'source': './data/complex_pdf/sample.pdf', 'detection_class_prob': 0.2635956108570099, 'coordinates': {'points': ((74.49909210205078, 843.4529418945312), (74.49909210205078, 886.3831787109375), (371.5810852050781, 886.3831787109375), (371.5810852050781, 843.4529418945312)), 'system': 'PixelSpace', 'layout_width': 1654, 'layout_height': 2339}, 'last_modified': '2024-03-13T13:49:55', 'filetype': 'application/pdf', 'languages': ['eng'], 'page_number': 2, 'parent_id': 'cd9d1b3996e90d2f4c901b4ba8e66719', 'file_directory': './data/complex_pdf', 'filename': 'sample.pdf', 'category': 'Title'}),\n",
       " Document(page_content='○ 본 상품은 예금자보호법에 의하여 보호되지 아니하며, 기초자산의 가격 변동에 따라 원금 손실이 발생할 수도 있고, 복잡한 파생상품적 성격을 포함하고 있으므로 상품을 충분히 이해하시고 투자하시기 바랍니다. ○ 본 증권은 미래에셋증권의 신용으로 발행되는 증권으로써 발행회사의 파산·회생절차 개시 또는 기초자산의 거래정지 기타 천재지변 등이 사유에 해당될 경우 고객의 의사와 관계없이 중도에 상환될 수 있으며, 이러한 경우 원금손실이 발생할 수 있습니다.', metadata={'source': './data/complex_pdf/sample.pdf', 'detection_class_prob': 0.9308664202690125, 'coordinates': {'points': ((101.0, 937.0675555555555), (101.0, 1132.233154296875), (1568.213, 1132.233154296875), (1568.213, 937.0675555555555)), 'system': 'PixelSpace', 'layout_width': 1654, 'layout_height': 2339}, 'last_modified': '2024-03-13T13:49:55', 'filetype': 'application/pdf', 'languages': ['eng'], 'page_number': 2, 'parent_id': 'e98a7073099591d976a753e9afa58a66', 'file_directory': './data/complex_pdf', 'filename': 'sample.pdf', 'category': 'NarrativeText'}),\n",
       " Document(page_content='8 기타 유의 사항', metadata={'source': './data/complex_pdf/sample.pdf', 'detection_class_prob': 0.43104782700538635, 'coordinates': {'points': ((88.1329116821289, 1182.1180419921875), (88.1329116821289, 1219.005615234375), (416.6595153808594, 1219.005615234375), (416.6595153808594, 1182.1180419921875)), 'system': 'PixelSpace', 'layout_width': 1654, 'layout_height': 2339}, 'last_modified': '2024-03-13T13:49:55', 'filetype': 'application/pdf', 'languages': ['eng'], 'page_number': 2, 'parent_id': 'cd9d1b3996e90d2f4c901b4ba8e66719', 'file_directory': './data/complex_pdf', 'filename': 'sample.pdf', 'category': 'Title'}),\n",
       " Document(page_content='○ 투자설명서 효력발생일 : 2011. 07. 01', metadata={'source': './data/complex_pdf/sample.pdf', 'detection_class_prob': 0.8185721635818481, 'coordinates': {'points': ((94.00079345703125, 1274.7897777777775), (94.00079345703125, 1303.009033203125), (641.0185555555555, 1303.009033203125), (641.0185555555555, 1274.7897777777775)), 'system': 'PixelSpace', 'layout_width': 1654, 'layout_height': 2339}, 'last_modified': '2024-03-13T13:49:55', 'filetype': 'application/pdf', 'languages': ['eng'], 'page_number': 2, 'parent_id': 'c1f4a3eba174e026b79c1213d8b59c32', 'file_directory': './data/complex_pdf', 'filename': 'sample.pdf', 'category': 'ListItem'}),\n",
       " Document(page_content='○ 투자설명서 열람장소 : http://dart.fss.or.kr 및 미래에셋증권 본지점', metadata={'source': './data/complex_pdf/sample.pdf', 'detection_class_prob': 0.8038511872291565, 'coordinates': {'points': ((95.58320617675781, 1316.4564444444443), (95.58320617675781, 1347.56005859375), (1016.7407777777778, 1347.56005859375), (1016.7407777777778, 1316.4564444444443)), 'system': 'PixelSpace', 'layout_width': 1654, 'layout_height': 2339}, 'last_modified': '2024-03-13T13:49:55', 'filetype': 'application/pdf', 'languages': ['eng'], 'page_number': 2, 'parent_id': 'c1f4a3eba174e026b79c1213d8b59c32', 'file_directory': './data/complex_pdf', 'filename': 'sample.pdf', 'category': 'ListItem'}),\n",
       " Document(page_content='○ 청약개시일까지는 수리되어 효력이 발생하였다고 하여 정부가 그 기재사항이 진실 또는 정확하다는 것을 인정하거나 당해 유가증권의 가치를 보증 또는 승인하는 것은 아닙니다.', metadata={'source': './data/complex_pdf/sample.pdf', 'detection_class_prob': 0.8865469694137573, 'coordinates': {'points': ((101.33333333333331, 1358.123111111111), (101.33333333333331, 1428.23388671875), (1580.5463333333332, 1428.23388671875), (1580.5463333333332, 1358.123111111111)), 'system': 'PixelSpace', 'layout_width': 1654, 'layout_height': 2339}, 'last_modified': '2024-03-13T13:49:55', 'filetype': 'application/pdf', 'languages': ['eng'], 'page_number': 2, 'parent_id': 'c1f4a3eba174e026b79c1213d8b59c32', 'file_directory': './data/complex_pdf', 'filename': 'sample.pdf', 'category': 'NarrativeText'}),\n",
       " Document(page_content='○ 공모결과 총 청약금액이 모집금액의 100%이상인 경우 청약금액에 비례하여 안분배정합니다.', metadata={'source': './data/complex_pdf/sample.pdf', 'detection_class_prob': 0.3431083858013153, 'coordinates': {'points': ((101.33333333333331, 1441.4564444444443), (101.33333333333331, 1470.4908447265625), (1345.1574444444445, 1470.4908447265625), (1345.1574444444445, 1441.4564444444443)), 'system': 'PixelSpace', 'layout_width': 1654, 'layout_height': 2339}, 'last_modified': '2024-03-13T13:49:55', 'filetype': 'application/pdf', 'languages': ['eng'], 'page_number': 2, 'parent_id': 'c1f4a3eba174e026b79c1213d8b59c32', 'file_directory': './data/complex_pdf', 'filename': 'sample.pdf', 'category': 'ListItem'}),\n",
       " Document(page_content='※ 상품가입 후 의문사항은 고객지원센터(1588-9200), 불만(민원)이 있을 경우 컴플라이언스팀(02-3774-1309) 또는 인터넷 홈페이지에 문의할 수 있고, 분쟁이 발생한 경우에는 금융감독원(국번없이 1332) 등의 도움을 요청할 수 있습니다.', metadata={'source': './data/complex_pdf/sample.pdf', 'detection_class_prob': 0.8600625395774841, 'coordinates': {'points': ((101.33333333333331, 1483.123111111111), (101.33333333333331, 1594.1231111111108), (1570.2130000000002, 1594.1231111111108), (1570.2130000000002, 1483.123111111111)), 'system': 'PixelSpace', 'layout_width': 1654, 'layout_height': 2339}, 'last_modified': '2024-03-13T13:49:55', 'filetype': 'application/pdf', 'languages': ['eng'], 'page_number': 2, 'parent_id': 'c1f4a3eba174e026b79c1213d8b59c32', 'file_directory': './data/complex_pdf', 'filename': 'sample.pdf', 'category': 'NarrativeText'}),\n",
       " Document(page_content='○ 본 상품의 발행조건과 기준가격은 당사홈페이지( http://www.miraeassetaccount.com )에서 확인하실 수 있습니다.', metadata={'source': './data/complex_pdf/sample.pdf', 'detection_class_prob': 0.8954569697380066, 'coordinates': {'points': ((101.33333333333331, 1608.123111111111), (101.33333333333331, 1677.5455322265625), (1580.5463333333332, 1677.5455322265625), (1580.5463333333332, 1608.123111111111)), 'system': 'PixelSpace', 'layout_width': 1654, 'layout_height': 2339}, 'last_modified': '2024-03-13T13:49:55', 'filetype': 'application/pdf', 'languages': ['eng'], 'page_number': 2, 'parent_id': 'c1f4a3eba174e026b79c1213d8b59c32', 'file_directory': './data/complex_pdf', 'filename': 'sample.pdf', 'category': 'NarrativeText'}),\n",
       " Document(page_content='□ 본 설명서는 이 상품의 중요내용만을 선별하여 요약한 것이므로 이 설명서에만 의존하지 마시고 투자설명서 등 세부 설명자료를 반드시 확인하신 후 청약하시기 바랍니다.', metadata={'source': './data/complex_pdf/sample.pdf', 'detection_class_prob': 0.8985648155212402, 'coordinates': {'points': ((96.33333333333333, 1728.4564444444445), (96.33333333333333, 1794.2657470703125), (1538.1574444444443, 1794.2657470703125), (1538.1574444444443, 1728.4564444444445)), 'system': 'PixelSpace', 'layout_width': 1654, 'layout_height': 2339}, 'last_modified': '2024-03-13T13:49:55', 'filetype': 'application/pdf', 'languages': ['eng'], 'page_number': 2, 'parent_id': 'c1f4a3eba174e026b79c1213d8b59c32', 'file_directory': './data/complex_pdf', 'filename': 'sample.pdf', 'category': 'NarrativeText'}),\n",
       " Document(page_content='[ 설명직원 확인 ] • 미래에셋증권 ( )지점 ( ) (은)는 위 내용에 대하여 고객 에게 설명하고,', metadata={'source': './data/complex_pdf/sample.pdf', 'coordinates': {'points': ((96.33333333333333, 1836.873111111111), (96.33333333333333, 1900.5397777777775), (1535.1574444444445, 1900.5397777777775), (1535.1574444444445, 1836.873111111111)), 'system': 'PixelSpace', 'layout_width': 1654, 'layout_height': 2339}, 'last_modified': '2024-03-13T13:49:55', 'filetype': 'application/pdf', 'languages': ['eng'], 'page_number': 2, 'parent_id': 'c1f4a3eba174e026b79c1213d8b59c32', 'file_directory': './data/complex_pdf', 'filename': 'sample.pdf', 'category': 'UncategorizedText'}),\n",
       " Document(page_content='이 설명서를 교부하였습니다.(☎ - - , 홈페이지 http://www.miraeassetaccount.com).', metadata={'source': './data/complex_pdf/sample.pdf', 'detection_class_prob': 0.2580079436302185, 'coordinates': {'points': ((120.03019714355469, 1871.4078369140625), (120.03019714355469, 1939.9720458984375), (1560.213, 1939.9720458984375), (1560.213, 1871.4078369140625)), 'system': 'PixelSpace', 'layout_width': 1654, 'layout_height': 2339}, 'last_modified': '2024-03-13T13:49:55', 'filetype': 'application/pdf', 'languages': ['eng'], 'page_number': 2, 'file_directory': './data/complex_pdf', 'filename': 'sample.pdf', 'category': 'Formula'}),\n",
       " Document(page_content='2011. . . (인)', metadata={'source': './data/complex_pdf/sample.pdf', 'coordinates': {'points': ((978.1944444444443, 1981.2064444444445), (978.1944444444443, 2008.8731111111108), (1502.8241111111113, 2008.8731111111108), (1502.8241111111113, 1981.2064444444445)), 'system': 'PixelSpace', 'layout_width': 1654, 'layout_height': 2339}, 'last_modified': '2024-03-13T13:49:55', 'filetype': 'application/pdf', 'languages': ['eng'], 'page_number': 2, 'file_directory': './data/complex_pdf', 'filename': 'sample.pdf', 'category': 'ListItem'}),\n",
       " Document(page_content='이 설명서는 금융소비자의 권익 보호 및 금융상품에 대한 이해 증진을 위하여 금융상품의 핵심내용을 쉽게 이해하실 수 있도록 작성한 것입니다. 상품내용을 충분히 이해하신 다음에 청약여부를 결정하시기 바랍니다.', metadata={'source': './data/complex_pdf/sample.pdf', 'detection_class_prob': 0.42698726058006287, 'coordinates': {'points': ((103.61969757080078, 42.996376037597656), (103.61969757080078, 162.7544708251953), (1547.0444444444445, 162.7544708251953), (1547.0444444444445, 42.996376037597656)), 'system': 'PixelSpace', 'layout_width': 1654, 'layout_height': 2339}, 'last_modified': '2024-03-13T13:49:55', 'filetype': 'application/pdf', 'languages': ['eng'], 'page_number': 3, 'file_directory': './data/complex_pdf', 'filename': 'sample.pdf', 'category': 'Header'}),\n",
       " Document(page_content='※ 손익구조 그래프', metadata={'source': './data/complex_pdf/sample.pdf', 'detection_class_prob': 0.35831040143966675, 'coordinates': {'points': ((64.2413330078125, 207.9727325439453), (64.2413330078125, 249.8089141845703), (435.8883361816406, 249.8089141845703), (435.8883361816406, 207.9727325439453)), 'system': 'PixelSpace', 'layout_width': 1654, 'layout_height': 2339}, 'last_modified': '2024-03-13T13:49:55', 'filetype': 'application/pdf', 'languages': ['eng'], 'page_number': 3, 'parent_id': 'cd9d1b3996e90d2f4c901b4ba8e66719', 'file_directory': './data/complex_pdf', 'filename': 'sample.pdf', 'category': 'Title'}),\n",
       " Document(page_content='※ 투자손익 사례 (1 억원 투자시)', metadata={'source': './data/complex_pdf/sample.pdf', 'coordinates': {'points': ((86.66666666666666, 982.5388888888887), (86.66666666666666, 1015.872222222222), (607.5722222222222, 1015.872222222222), (607.5722222222222, 982.5388888888887)), 'system': 'PixelSpace', 'layout_width': 1654, 'layout_height': 2339}, 'last_modified': '2024-03-13T13:49:55', 'filetype': 'application/pdf', 'languages': ['eng'], 'page_number': 3, 'file_directory': './data/complex_pdf', 'filename': 'sample.pdf', 'category': 'Title'}),\n",
       " Document(page_content='○ 최초기준가격 결정일의 KOSPI200 종가는 250pt, 금가격지수의 종가는 $1,500 인 경우', metadata={'source': './data/complex_pdf/sample.pdf', 'detection_class_prob': 0.7222521901130676, 'coordinates': {'points': ((81.35542297363281, 1065.4008888888889), (81.35542297363281, 1094.91552734375), (1257.1574444444445, 1094.91552734375), (1257.1574444444445, 1065.4008888888889)), 'system': 'PixelSpace', 'layout_width': 1654, 'layout_height': 2339}, 'last_modified': '2024-03-13T13:49:55', 'filetype': 'application/pdf', 'languages': ['eng'], 'page_number': 3, 'parent_id': 'af8d33c5e2217176814e0a947ca4524c', 'file_directory': './data/complex_pdf', 'filename': 'sample.pdf', 'category': 'NarrativeText'}),\n",
       " Document(page_content='이 표는 만기상환금액을 결정하는 방식을 설명하고 있습니다. 만기평가가격이 최초기준가격의 100% 이상일 경우에는 {(만기평가가격/최초기준가격) × 70%}를 상환받게 되며, 만기평가가격이 최초기준가격의 100% 미만일 경우에는 총액면금액의 100%를 상환받게 됩니다.', metadata={'source': './data/complex_pdf/sample.pdf', 'detection_class_prob': 0.7832361459732056, 'coordinates': {'points': ((80.69361877441406, 1239.41259765625), (80.69361877441406, 1504.050048828125), (1566.467041015625, 1504.050048828125), (1566.467041015625, 1239.41259765625)), 'system': 'PixelSpace', 'layout_width': 1654, 'layout_height': 2339}, 'last_modified': '2024-03-13T13:49:55', 'filetype': 'application/pdf', 'languages': ['eng'], 'page_number': 1, 'parent_id': 'f1d0f6667f28d555fc05578bb3e90881', 'file_directory': './data/complex_pdf', 'filename': 'sample.pdf', 'category': 'Table', 'origin_table': ['구 분 내 용 만기상환금액 ① 만기평가가격이 최초기준가격의 100% 이상인 경우 (만기수 만기 익률이 낮은 기초자산 기준) 기준가격) /최초기준가격 × 70%}] 상환 ② 만기평가가격이 최초기준가격의 100% 미만인 경우 (만기수 익률이 낮은 기초자산 기준) 총액면금액×100%']}),\n",
       " Document(page_content='주어진 표는 KOSPI200 지수와 금 가격의 수익률 및 손익을 보여주고 있습니다. 최초 기준가격 결정일에는 KOSPI200 지수가 250pt, 금 가격이 1,500달러였습니다. 만기평가일 1에서는 KOSPI200 지수가 20% 상승하여 300pt, 금 가격이 10% 상승하여 1,650달러가 되었고, 이에 따라 7.0%의 수익률과 700만원의 세전 이익이 발생했습니다. 반면 만기평가일 2에서는 KOSPI200 지수는 20% 상승한 300pt이었지만, 금 가격은 10% 하락하여 1,350달러가 되어 손익은 0이었습니다.', metadata={'source': './data/complex_pdf/sample.pdf', 'detection_class_prob': 0.9028801321983337, 'coordinates': {'points': ((74.83539581298828, 1131.6097412109375), (74.83539581298828, 1401.232666015625), (1508.137939453125, 1401.232666015625), (1508.137939453125, 1131.6097412109375)), 'system': 'PixelSpace', 'layout_width': 1654, 'layout_height': 2339}, 'last_modified': '2024-03-13T13:49:55', 'filetype': 'application/pdf', 'languages': ['eng'], 'page_number': 3, 'parent_id': 'af8d33c5e2217176814e0a947ca4524c', 'file_directory': './data/complex_pdf', 'filename': 'sample.pdf', 'category': 'Table', 'origin_table': ['결정일 KOSPI200 금 수익률 손익(세전) 최초기준가격결정일 250pt 1,500 달러 - - 만기평가일 1 300pt (20%상승) 1,650 달러 (10%상승) 7.0% +700 만원 만기평가일 2 300pt (20%상승) 1,350 달러 (10%하락) - -']}),\n",
       " Document(page_content='제공된 이미지는 책 제목인 \"핵심설명서\"라는 한글 텍스트를 보여주고 있습니다. 검정색 바탕에 하얀색 한글 글씨체로 제목이 쓰여 있어 명확하게 보입니다. 이 이미지는 아마도 어떤 서적의 표지나 목차에 해당하는 내용일 것으로 추측됩니다.', metadata={'source': './data/complex_pdf/sample.pdf', 'detection_class_prob': 0.43307003378868103, 'coordinates': {'points': ((658.2340087890625, 241.76950073242188), (658.2340087890625, 312.45555555555535), (970.4174194335938, 312.45555555555535), (970.4174194335938, 241.76950073242188)), 'system': 'PixelSpace', 'layout_width': 1654, 'layout_height': 2339}, 'last_modified': '2024-03-13T13:49:55', 'filetype': 'application/pdf', 'languages': ['eng'], 'page_number': 1, 'image_base64': '/9j/4AAQSkZJRgABAQAAAQABAAD/2wBDAAgGBgcGBQgHBwcJCQgKDBQNDAsLDBkSEw8UHRofHh0aHBwgJC4nICIsIxwcKDcpLDAxNDQ0Hyc5PTgyPC4zNDL/2wBDAQkJCQwLDBgNDRgyIRwhMjIyMjIyMjIyMjIyMjIyMjIyMjIyMjIyMjIyMjIyMjIyMjIyMjIyMjIyMjIyMjIyMjL/wAARCABGATgDASIAAhEBAxEB/8QAHwAAAQUBAQEBAQEAAAAAAAAAAAECAwQFBgcICQoL/8QAtRAAAgEDAwIEAwUFBAQAAAF9AQIDAAQRBRIhMUEGE1FhByJxFDKBkaEII0KxwRVS0fAkM2JyggkKFhcYGRolJicoKSo0NTY3ODk6Q0RFRkdISUpTVFVWV1hZWmNkZWZnaGlqc3R1dnd4eXqDhIWGh4iJipKTlJWWl5iZmqKjpKWmp6ipqrKztLW2t7i5usLDxMXGx8jJytLT1NXW19jZ2uHi4+Tl5ufo6erx8vP09fb3+Pn6/8QAHwEAAwEBAQEBAQEBAQAAAAAAAAECAwQFBgcICQoL/8QAtREAAgECBAQDBAcFBAQAAQJ3AAECAxEEBSExBhJBUQdhcRMiMoEIFEKRobHBCSMzUvAVYnLRChYkNOEl8RcYGRomJygpKjU2Nzg5OkNERUZHSElKU1RVVldYWVpjZGVmZ2hpanN0dXZ3eHl6goOEhYaHiImKkpOUlZaXmJmaoqOkpaanqKmqsrO0tba3uLm6wsPExcbHyMnK0tPU1dbX2Nna4uPk5ebn6Onq8vP09fb3+Pn6/9oADAMBAAIRAxEAPwD3+q1/qFppVjLfX9xHb2sI3SSyHCqM45NWa5f4jaVe658PtY03ToDPeXEIWKMMF3HcD1JA6CgDmfG/xg0bR/DM134b1bStQ1NZEVIHYuCpPzHCkHge9edaR+0R4kudasLfULPRILKW4jS4lEMoKRlgGbJkOMDJ6V41e2c+nX09ldKqXEEhjkVXDBWBwRkEg8+hqCgD7Xh+I3g25njgh8Sac8sjBERZhlmJwAK8ZvP2jNetr64gXRNNKxSMgJZ8nBx615r4A8P6nr/i2xTS7YXDWs8VxMvmopWNXXLYYjOPbNYeq/8AIXvf+u8n/oRoA+kdW+MWq6f8L9A8VJplm1zqVxLFJCxbYgRnUEc5/gH51Q8B/HDWPFnjXTtDudKsYIbpnDSRF9y7UZuMnH8NcN4m/wCTdvBX/X9c/wDoyasf4Mf8lb0H/fl/9EvQB9h0UVDd3UNjZT3ly4jggjaWRz0VVGSfyFAHiOu/tDyaP4h1LS18NJMtndS24l+2ld4Ryu7GzjOM4r0P4beOW+IHh241V9PFiYbtrbyxN5mcIjZzgf38Y9q+O9TvpNU1W81CUYkup3nYZ6FmLH+de/fs16sjadrmjMwEkcqXSL3YMNrH8Nq/mKAPd68W+I3xn1bwX4xuNFtNLsriGKONxJKX3Hcuexr2mvkv48/8lVvf+uEP/oAoA9o+E3xM1D4hS6sl9Y2tqLJYinkFju3785yf9kV6ZXz3+zN/x8eJf9y2/nLX0JQBFczi2tZpyCREjOQO+BmvAP8Ahpmb/oVI/wDwPP8A8br1L4qeIIvDnw51e5Z9s1xCbSAA4JkkBUY+gJb6Ka+MqAPuXwlr48U+FdO1sW/2f7XFvMW7dsOSCM8Z6VtV5R+z/r8WpfD/APsouPtGlzsjLnJ2OS6t9Mlh/wABrlviT8YvFPhXx/qei6d9h+yW3leX5sBZvmiRzk59WNADfEX7QGt6N4n1bSotH0+SOyvJrdHdnywRyoJ568V6j8M/GN1448J/2veW0NvL9oeHZCTtwuOefrXx5qmoT6vq15qVzt+0Xk73EuwYG52LHA9MmvqD9nz/AJJn/wBv0v8AJaAOj8f/ABDsfh9a2U99ZXF0t27IogKgrtAPOT71wv8Aw0loH/QD1L/vqP8Axqt+0t/yCPD/AP13m/8AQVrxLwZ4b/4S/wAW2Ghfa/sn2suPP8vzNm1Gb7uRn7uOvegD3b/hpLQP+gHqX/fUf+NH/DSWgf8AQD1L/vqP/GsiT9mfZGz/APCXZ2gnH9m//ba8CoA+4bXxKmoeBv8AhJbWBlV7FruOKXqMKWAOPpXhP/DSWv8A/QD03/vqT/GvHFsLxofOW0nMWM7xGcY9c1XoA+6vDOqya54W0rVpo0jlvbSKd0TO1SygkDPbmtWub+H3/JOfDf8A2DLf/wBFiukoA87+J/xPf4dyaYiaSt/9tEpJNx5ezZt/2TnO79KxvAPxsk8beLINEbQUsxLG7+cLvzMbVzjGwfzrmP2mf+Pjw1/uXP8AOKuP+A3/ACVWy/64Tf8AoBoA+tK5rx/4luPCHgjUddtYIp5rXy9scudp3SKhzjno1dLXn/xt/wCSQ67/ANu//pRHQB5jZ/tGa9c31vA2iaaFlkVCQz5GTj1r6Or4L0r/AJC9l/13j/8AQhX3pQAUUUUAFFFFABXN/EDVptD8Aa5qNs7JcRWjiJ06o7fKrD6Eg/hXSVj+K9G/4SLwnqukBgr3ds8SMRwrkfKT+OKAPhgkk5PJr3T4k/CXQ/DPwxttW06ORNQtDELqVpSwnDnaeDwCGYYxjj1rxK9srnTb6eyvIHguYHMcsTjBVh1BrsvFHxU1/wAV+FrHQLwQJbW6p5skYO+4ZeAzEn6HA78+gABk+AdVuNG8e6HeW8jIwvIo32/xIzBWX8VJFY+q/wDIXvf+u8n/AKEa6j4WeGLrxP4+02KGNzbWkyXV1KBwiIc4J9WICj6+xrl9V/5C97/13k/9CNAFdoZVhWZonET8K5U4b6Gu5+DH/JW9B/35f/RL1seJv+TdvBX/AF/XP/oyasf4Mf8AJW9B/wB+X/0S9AH2HXiHx3+IkFlpcnhHTJw97cgfbnRv9TH12HH8TcZH93610nxp1vxZoPhRLvw4yRWpYpe3CLmaEHAUr2APIJ6gkYx1r508I+BfEPj3UymnwOYi5NxfT58tD1JLd256DJP0yaAOftNOvL9blrS2lnFtCZ5jGpPlxggFj6AZHNbngPxdceCfFtprEQZ4lzHcxKf9bE33l+vAI9wK+sPBPgHR/BOgnTbSJZ5Zl/0u5lQbrg45yOy9cL0HuSSfG/iX8DLqymn1nwlC1xaMS8mnIMyRf9cx/Ev+z1HbPYA+gNH1nT9f0qDU9MuUuLSddySIfzB9CDwR2r5Z+PP/ACVW9/64Q/8AoArJ+HWveMdF8Tw6b4YZ2ubmXZJYyqWicjqXX+HAHLDBAHWtL44+d/wsy5+0eX5/2W38zy87d3ljOM84zQB2n7M3/Hx4l/3Lb+cte6a1rmmeHdMl1LVryO1tIh8zuep9AOpPsOTXhf7M3/Hx4l/3Lb+ctavx2+Hur65Laa7o4u75k2wTWKMz7MnAdF7dg2PY+poA8q+J/wARrjx/raNEjwaTa5FrA33jnq74/iOOnYcepNOw+GviTUvBdz4ogsnNpCw2RbT5kyfxOgxyo45+vpXoXgL4R6HZ3K33jbWdM82M8aWt4nysO0pz2P8ACPxPUV7vH4j8OxRrHHrOloiAKqrdRgADoAM0AfHngfxnf+BvEceq2QEqEeXcW7HCzRnqM9j3B7H1GQfoKz8MfDb4tXVx4ki864vZwn2mL7Q0ckRChQGQHjhQMjg4OCa534i/DHwrr0suq+Gde0ix1ByWltXu0EMx9Rg/I36H25NcX8KPB+fGbX2s6vBpVvpUg3hb1Y3nkxkIrK3K45JB5BAHXIAOE8VWFvpXi/WtOtVK21pfzwRKTkhFkZQM9+AK+lf2fP8Akmf/AG/S/wAlr5x8bSxz+PfEUsTrJG+qXLI6HIYGViCD3FfR37Pn/JM/+36X+S0Ac/8AtLf8gjw//wBd5v8A0Fa8w+DH/JW9B/35f/RL17f8ePC1/wCIvBttcaZbPc3On3HmNFGpZ2jYENtA6kHafoDXy5Z3t5pd6l1ZXM9pdRE7JYZDG6HGDgjBHBIoA+85/wDj3l/3D/KvgSt8+OvF5BB8Va4QeoOoS/8AxVYFAHu+j/Gvw3p/w0h8Ny2WqteJpzWhdIozHvKFc58zOMn0rwivUNP+COsah4Mj8Spqtitu9mbsRMH3bQpbHTGeK8voA+2/h9/yTnw3/wBgy3/9Fiukrm/h9/yTnw3/ANgy3/8ARYrpKAPnv9pn/j48Nf7lz/OKuP8AgN/yVWy/64Tf+gGt79pDVUufFelaWhybO1aR8dmkbp+SA/iK4v4SarHpHxR0O4lfbFJMbdueP3ilBn23MD+FAH17q2r2GhaZNqWp3K21nDt8yVwSFywUdPcgfjXkvxW+IvhLXfhpq+m6ZrcFzeTeT5cSKwLYmRj1HoCfwrtvinouoeIfhvq2l6VbG4vZ/J8uIMq7tsyMeWIHQE9a+Xta+GXjHw9pM+qaror29lBt8yUzxNt3MFHCsT1IHSgDndK/5C9l/wBd4/8A0IV96V8F6V/yF7L/AK7x/wDoQr70oAKKKKACiiigAooooA8I+MureA08Rf2br+gX0mo+Skv2+wdI5NpyACTw2MfxA47V5VFJ8NUm3SW3iqSMEEJ51uPwJ2/yxXunxD+DMnjvxP8A2wuurZDyEh8o2vmfdzznePX0rk/+GZpv+hrj/wDAA/8AxygB/h/42+CPC2nix0Xwpe2kPBbYULOfVmJyx9zXCT6t8LLi4kmfQ/Em+Ri7Yuo8ZJzXcf8ADM03/Q1x/wDgAf8A45R/wzNN/wBDXH/4AH/45QBgXnjv4eX3hHTfDM2h6/8A2fp8rywbbiMPuYsTk9+WNaHwyvPh9L8RNJTRdK1yDUS0nkyXNwjRr+7fOQOema5r4j/CaT4e6XZ3zayt8Lmcw7Bb+Xt+UnOdxz0qp8GP+St6D/vy/wDol6APr+4t4bu2ltrmJJoJUKSRuuVdSMEEHqK8a8W/GeL4f+JrrwtY+F7d7WwWNYzHceSuGjV8BAhAxuxXtNfIHxt/5K9rv/bv/wCk8dAHd/8ADTM3/QqR/wDgef8A43R/w0zN/wBCpH/4Hn/43XHfCb4bWHxC/tj7dfXNr9h8nZ5AU7t+/Ocj/YH516V/wzboH/Qc1L/vmP8AwoA5qP8AaCtItVk1SPwNZpqEkflvcrdASMuc4LeXkjp+QriPFvjTQ/GXiCXWdR0HUIrmRFQrb6oiphRgcNAT+teuf8M26B/0HNS/75j/AMK8c+Jng618D+Lf7Is7ma4i+zpNvmADZbPHH0oA9Z/Z3l0qWfxD/Zlle2xC2/mfabtZ93MmMbY0x39fwr3Wvnv9mb/j48S/7lt/OWvoSgD418XeEfEtx4012aHw9q0kUmo3Do6WUhVlMjEEELyDWN/whfir/oWtZ/8AACX/AOJo8af8j14h/wCwnc/+jWrDoA3P+EL8Vf8AQtaz/wCAEv8A8TR/whfir/oWtZ/8AJf/AImsOigB80MttPJBPE8U0TFJI5FKsjA4IIPIIPavqj9nz/kmf/b9L/Ja+VK+q/2fP+SZ/wDb9L/JaAPVK4Pxx8RfB3hGUw6oI73UgAfskESySAH+8Twvryc46A1t+Otdfw14G1jV4iRNb27eSducSN8qHHpuYV8SzzzXVxLcXEryzyuXkkdss7E5JJPUk0Aexan8f5JGI0rwjpMC54N0PNJH0ULj86yv+F7eId2f7D8OYz0+xN/8XXa+Fv2dLFrGG68R6pPJPIoc29kQqJnsXIJb8APx611v/ChfAe3H2K7zjGftb5oA81tf2hryewk0/WPDtnJazRtDJ9hlaAqjAg7Q27nBq94N8HfCPxswt7C51W3v8ZNnc3ASQ+u3ghvwOfUCr/ij9nSyWxmufDmqzpPGpcW97tZXx2DgDb+IP4da+fbe4mtLmK5tpXhniYPHJGxVkYHIII6GgD7v0nTbfRtIs9Mtd/2e0hSCLecttUYGT64FJrGrWehaPd6pfyiO1tYjLI3sOw9SegHckVl+CtfPiHwLpOtXDAST2oadmG0b1+Vz7DcpP0r5/wDjR8UI/FF1/YGiz7tItnzNMp4uZB6eqDt6nnsDQB5t4m1658T+JdQ1q64lu5i+3Odi9FX6BQB+FQanpl/oGrzWF9E9te2zgOueVOAQcj2INek/BH4fSeJfEUeu30J/snTpA67hxPMMFVHqBwT+A712Xx/8AyXkSeL9NhLyQoI9QRByUH3ZffHQ+2DwAaAPRvhp40i8b+D7e+ZlF/D+5vYx/DIB97How5H1I7Gs/wCNv/JIdd/7d/8A0ojr5q8AeOL7wJ4jTULfMlrJiO7ts8Sx5/Rh1B/oTX0H8T9e03xL8CdW1TSrlZ7WYW5BHVT58eVYdiO4oA+XdK/5C9l/13j/APQhX3pXwXpX/IXsv+u8f/oQr70oAKKKKACiiigAooooAKKKKACiiigDxT9pL/kVNH/6/j/6Aa8n+DH/ACVvQf8Afl/9EvX1jrPh/SPEMEcGsafb3sUbb0SZNwVsYyKoad4E8K6RfxX+n6DY213FkxzRRAMuQQcH6EigDoa+Wfj94cvbDx7LrZgkNjqMcZEwGVEioEKE9jhQffPsa+pqjmghuYWhniSWJhhkkUMp+oNAHwppmu6xonm/2Tqt9YedjzPslw8W/GcZ2kZxk9fU1of8J34w/wChr1z/AMGM3/xVfYL+B/CMjs7+FtEZmOSx0+Ikn1+7Tf8AhBPB/wD0Kmh/+C6H/wCJoA+QP+E78Yf9DXrn/gxm/wDiqytQ1TUNXuvtOpX1ze3G0L5tzM0j4HQZYk4r7U/4QTwf/wBCpof/AILof/iaP+EE8H/9Cpof/guh/wDiaAPG/wBmb/j48S/7lt/OWvoSs/TNB0bRTKdK0mwsDLjzDa2yRb8ZxnaBnGT+daFAHxl8UPDuo+H/AB9q/wBtt3SG7u5bm2lwdsiOxYYPcjOCOxrDsPFXiLSrRbXTte1SztlJIht7ySNAT1OFIFfcdzaW17CYbq3iniPVJUDKfwNYx8C+EGYk+FdDJPJJ0+Ln/wAdoA+P/wDhO/GH/Q165/4MZv8A4qj/AITvxh/0Neuf+DGb/wCKr6//AOEE8H/9Cpof/guh/wDiaP8AhBPB/wD0Kmh/+C6H/wCJoA+QP+E78Yf9DXrn/gxm/wDiq+iPgDq+p6z4M1CfVNRu76ZNQZFkup2lYL5cZwCxJxknj3rt/wDhBPB//QqaH/4Lof8A4mtTTdI0zRoGg0vTrSxhdt7R2sCxKWwBkhQBnAHPtQBHrmkwa9oN/pNySsN5A8LMBkruGMj3HX8K+MfF3grW/BeptZ6tasqEnyblBmKYeqt/Q8juK+3qgvLK01G1e1vbWG5t5Bh4pow6N9QeDQB8heGvi/4x8L20Vpbagl1ZxLtjt7yPzFUdgG4YAdhuwPSun/4aP8WeVj+y9F8zd97ypcY9MeZ198167qXwU8B6k7yf2MbWR+rWs7oB9FztH5Vl/wDDPngn/qJf+BI/+JoA8O8TfF7xj4ptpbS61BLWzlG17ezj8tWHcFuWIPcZwfSsrwd4G1vxtqaWul2r+QGAnu3XEUI7knucfwjk19N6b8FfAemyJINF+1SJ0a6meQH6rnafyrubS0trC1jtbO3it7eMbUihQIij0AHAoAz7Hw9p9n4Wt/DrQrPYRWq2rJIOJEC7Tn3PU/WvEpv2dJH8alYr/Z4ab94X3ZnUZ/1QGME/7R7ep4r6DooAp6VpVjoml2+m6bbJb2dumyKJOgH9STkknkkkmrbosiMjqGVhgqRkEelLRQB4D4v/AGe5LvxJDceGrmG2025k/wBIimz/AKL3JQfxL2C8EHHOORv+PvB2k+CfgPrem6TEwUm3aaaQ5kmfz4/mY/0HAr1+qmpaZY6zp8thqNrFdWkuPMhlXKtggjI+oB/CgD4W0r/kL2X/AF3j/wDQhX3pXLJ8NvBcUiyJ4Z01XUhlIhGQRXU0AFFFFABRRRQB5/8A8Il8Q/8Aop//AJQLf/Gj/hEviH/0U/8A8oFv/jRRQAf8Il8Q/wDop/8A5QLf/Gj/AIRL4h/9FP8A/KBb/wCNFFAB/wAIl8Q/+in/APlAt/8AGj/hEviH/wBFP/8AKBb/AONFFAB/wiXxD/6Kf/5QLf8Axo/4RL4h/wDRT/8AygW/+NFFAB/wiXxD/wCin/8AlAt/8aP+ES+If/RT/wDygW/+NFFAB/wiXxD/AOin/wDlAt/8aP8AhEviH/0U/wD8oFv/AI0UUAH/AAiXxD/6Kf8A+UC3/wAaP+ES+If/AEU//wAoFv8A40UUAH/CJfEP/op//lAt/wDGj/hEviH/ANFP/wDKBb/40UUAH/CJfEP/AKKf/wCUC3/xo/4RL4h/9FP/APKBb/40UUAH/CJfEP8A6Kf/AOUC3/xo/wCES+If/RT/APygW/8AjRRQAf8ACJfEP/op/wD5QLf/ABo/4RL4h/8ART//ACgW/wDjRRQAf8Il8Q/+in/+UC3/AMaP+ES+If8A0U//AMoFv/jRRQAf8Il8Q/8Aop//AJQLf/Gj/hEviH/0U/8A8oFv/jRRQAf8Il8Q/wDop/8A5QLf/Gj/AIRL4h/9FP8A/KBb/wCNFFAB/wAIl8Q/+in/APlAt/8AGj/hEviH/wBFP/8AKBb/AONFFAB/wiXxD/6Kf/5QLf8Axo/4RL4h/wDRT/8AygW/+NFFAB/wiXxD/wCin/8AlAt/8aP+ES+If/RT/wDygW/+NFFAB/wiXxD/AOin/wDlAt/8aP8AhEviH/0U/wD8oFv/AI0UUAH/AAiXxD/6Kf8A+UC3/wAaP+ES+If/AEU//wAoFv8A40UUAH/CJfEP/op//lAt/wDGiiigD//Z', 'image_mime_type': 'image/jpeg', 'file_directory': './data/complex_pdf', 'filename': 'sample.pdf', 'category': 'Image', 'origin_image': ['핵심설명서']}),\n",
       " Document(page_content='이 그래프는 수익률에 대한 그래프입니다. x축은 기준 가격 대비 기초자산가격의 백분율을 나타내고, y축은 세전수익률을 나타냅니다. 기준 가격인 100%에서 수익률은 0%이며, 기초자산가격이 130%일 때 수익률은 약 70%까지 상승합니다. 기초자산가격이 100% 원금보장 수준 이하일 경우 수익률은 마이너스가 됩니다.', metadata={'source': './data/complex_pdf/sample.pdf', 'detection_class_prob': 0.8377159237861633, 'coordinates': {'points': ((91.94450378417969, 285.8856201171875), (91.94450378417969, 943.0887451171875), (1552.7198486328125, 943.0887451171875), (1552.7198486328125, 285.8856201171875)), 'system': 'PixelSpace', 'layout_width': 1654, 'layout_height': 2339}, 'last_modified': '2024-03-13T13:49:55', 'filetype': 'application/pdf', 'languages': ['eng'], 'page_number': 3, 'image_base64': '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', 'image_mime_type': 'image/jpeg', 'file_directory': './data/complex_pdf', 'filename': 'sample.pdf', 'category': 'Image', 'origin_image': ['수익률 그래프']}),\n",
       " Document(page_content='이미지는 세전수익률(%)과 직접기준가격대비 기준자산가액(%)의 관계를 보여주는 그래프입니다. 100% 원금보전 지점에서 세전수익률이 21%일 때 상승렬여율이 70%인 것으로 나타납니다. 또한 직접기준가격대비 기준자산가액이 130%일 때까지 그래프가 이어집니다. 이 그래프를 통해 투자 상품의 수익률과 위험수준의 상관관계를 파악할 수 있습니다.', metadata={'source': './data/complex_pdf/sample.pdf', 'coordinates': {'points': ((333.6111111111111, 353.0555555555553), (333.6111111111111, 931.9444444444442), (1321.388888888889, 931.9444444444442), (1321.388888888889, 353.0555555555553)), 'system': 'PixelSpace', 'layout_width': 1654, 'layout_height': 2339}, 'last_modified': '2024-03-13T13:49:55', 'filetype': 'application/pdf', 'languages': ['eng'], 'page_number': 3, 'image_base64': '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', 'image_mime_type': 'image/jpeg', 'file_directory': './data/complex_pdf', 'filename': 'sample.pdf', 'category': 'Image', 'origin_image': ['HE=HE 21.00% 4STEHE 70% 130% m=oz=spzgpy| IR AT (%) (B 22 7| =X 100% HSEF']})]"
      ]
     },
     "execution_count": 180,
     "metadata": {},
     "output_type": "execute_result"
    }
   ],
   "source": [
    "docs_preprocessed"
   ]
  },
  {
   "cell_type": "markdown",
   "id": "f41fbd15-2a30-4096-8916-d03d15ca4fb6",
   "metadata": {},
   "source": [
    "## 4. Index 생성"
   ]
  },
  {
   "cell_type": "markdown",
   "id": "5a8d684e-0963-4f85-a725-42842eb9d46e",
   "metadata": {},
   "source": [
    "### Index 이름 결정"
   ]
  },
  {
   "cell_type": "code",
   "execution_count": 181,
   "id": "0871353b-5d97-4e1c-a5a9-77a52a953912",
   "metadata": {
    "tags": []
   },
   "outputs": [],
   "source": [
    "index_name = \"kb_complex_pdf\""
   ]
  },
  {
   "cell_type": "code",
   "execution_count": 182,
   "id": "8a237342-443b-47f5-bc10-5a4d239449a6",
   "metadata": {
    "tags": []
   },
   "outputs": [],
   "source": [
    "import boto3\n",
    "from utils.ssm import parameter_store"
   ]
  },
  {
   "cell_type": "code",
   "execution_count": 183,
   "id": "2ed6173a-8a43-49a8-945d-dbc6014a485b",
   "metadata": {
    "tags": []
   },
   "outputs": [],
   "source": [
    "region=boto3.Session().region_name\n",
    "pm = parameter_store(region)"
   ]
  },
  {
   "cell_type": "code",
   "execution_count": 184,
   "id": "d40c8b5d-92a7-4400-a579-699e482cb68c",
   "metadata": {
    "tags": []
   },
   "outputs": [
    {
     "name": "stdout",
     "output_type": "stream",
     "text": [
      "Parameter stored successfully.\n"
     ]
    }
   ],
   "source": [
    "pm.put_params(\n",
    "    key=\"opensearch_index_name\",\n",
    "    value=f'{index_name}',\n",
    "    overwrite=True,\n",
    "    enc=False\n",
    ")"
   ]
  },
  {
   "cell_type": "markdown",
   "id": "32323202-e3a9-45ed-820c-a7d1087ff2e3",
   "metadata": {},
   "source": [
    "### Index 스키마 정의"
   ]
  },
  {
   "cell_type": "code",
   "execution_count": 199,
   "id": "aa45ec52-8aff-4513-bc17-2f613b38910c",
   "metadata": {
    "tags": []
   },
   "outputs": [],
   "source": [
    "index_body = {\n",
    "    'settings': {\n",
    "        'analysis': {\n",
    "            'analyzer': {\n",
    "                'my_analyzer': {\n",
    "                         'char_filter':['html_strip'],\n",
    "                    'tokenizer': 'nori',\n",
    "                    'filter': [\n",
    "                        #'nori_number',\n",
    "                        #'lowercase',\n",
    "                        #'trim',\n",
    "                        'my_nori_part_of_speech'\n",
    "                    ],\n",
    "                    'type': 'custom'\n",
    "                }\n",
    "            },\n",
    "            'tokenizer': {\n",
    "                'nori': {\n",
    "                    'decompound_mode': 'mixed',\n",
    "                    'discard_punctuation': 'true',\n",
    "                    'type': 'nori_tokenizer'\n",
    "                }\n",
    "            },\n",
    "            \"filter\": {\n",
    "                \"my_nori_part_of_speech\": {\n",
    "                    \"type\": \"nori_part_of_speech\",\n",
    "                    \"stoptags\": [\n",
    "                        \"J\", \"XSV\", \"E\", \"IC\",\"MAJ\",\"NNB\",\n",
    "                        \"SP\", \"SSC\", \"SSO\",\n",
    "                        \"SC\",\"SE\",\"XSN\",\"XSV\",\n",
    "                        \"UNA\",\"NA\",\"VCP\",\"VSV\",\n",
    "                        \"VX\"\n",
    "                    ]\n",
    "                }\n",
    "            }\n",
    "        },\n",
    "        'index': {\n",
    "            'knn': True,\n",
    "            'knn.space_type': 'cosinesimil'  # Example space type\n",
    "        }\n",
    "    },\n",
    "    'mappings': {\n",
    "        'properties': {\n",
    "            'metadata': {\n",
    "                'properties': {\n",
    "                    'source': {'type': 'keyword'},\n",
    "                    'page_number': {'type':'long'},\n",
    "                    'category': {'type':'text'},\n",
    "                    'file_directory': {'type':'text'},\n",
    "                    'last_modified': {'type': 'text'},\n",
    "                    'type': {'type': 'keyword'},\n",
    "                    'image_base64': {'type':'text'},\n",
    "                    'origin_image': {'type':'text'},\n",
    "                    'origin_table': {'type':'text'},\n",
    "                }\n",
    "            },\n",
    "            'text': {\n",
    "                'analyzer': 'my_analyzer',\n",
    "                'search_analyzer': 'my_analyzer',\n",
    "                'type': 'text'\n",
    "            },\n",
    "            'vector_field': {\n",
    "                'type': 'knn_vector',\n",
    "                'dimension': f\"{dimension}\" # Replace with your vector dimension\n",
    "            }\n",
    "        }\n",
    "    }\n",
    "}\n"
   ]
  },
  {
   "cell_type": "markdown",
   "id": "679edbbd-44ca-4264-a4db-0ec489c58264",
   "metadata": {},
   "source": [
    "## 5. LangChain OpenSearch VectorStore 생성 \n",
    "### 선수 조건"
   ]
  },
  {
   "cell_type": "markdown",
   "id": "2ae8dd80-daf4-4e81-810b-b9e2f6611605",
   "metadata": {},
   "source": [
    "#### [중요] 아래에 aws parameter store 에 아래 인증정보가 먼저 입력되어 있어야 합니다."
   ]
  },
  {
   "cell_type": "code",
   "execution_count": 200,
   "id": "fb47bf94-4bf9-4152-85f0-4babcb03edbb",
   "metadata": {
    "tags": []
   },
   "outputs": [],
   "source": [
    "opensearch_domain_endpoint = pm.get_params(\n",
    "    key=\"opensearch_domain_endpoint\",\n",
    "    enc=False\n",
    ")\n",
    "\n",
    "opensearch_user_id = pm.get_params(\n",
    "    key=\"opensearch_user_id\",\n",
    "    enc=False\n",
    ")\n",
    "\n",
    "opensearch_user_password = pm.get_params(\n",
    "    key=\"opensearch_user_password\",\n",
    "    enc=True\n",
    ")"
   ]
  },
  {
   "cell_type": "code",
   "execution_count": 201,
   "id": "2319184c-4531-42c9-b400-77f53de071da",
   "metadata": {
    "tags": []
   },
   "outputs": [],
   "source": [
    "opensearch_domain_endpoint = opensearch_domain_endpoint\n",
    "rag_user_name = opensearch_user_id\n",
    "rag_user_password = opensearch_user_password\n",
    "\n",
    "http_auth = (rag_user_name, rag_user_password) # Master username, Master password"
   ]
  },
  {
   "cell_type": "markdown",
   "id": "f42526e7-d010-4e06-b158-3c86f9ea45e9",
   "metadata": {},
   "source": [
    "### OpenSearch Client 생성"
   ]
  },
  {
   "cell_type": "code",
   "execution_count": 202,
   "id": "41c3846a-ae55-45bd-98ac-f9280dda4409",
   "metadata": {
    "tags": []
   },
   "outputs": [],
   "source": [
    "from local_utils.opensearch import opensearch_utils"
   ]
  },
  {
   "cell_type": "code",
   "execution_count": 203,
   "id": "c4b0fd7c-5fe2-42c6-bf58-f41930c37c0a",
   "metadata": {
    "tags": []
   },
   "outputs": [],
   "source": [
    "aws_region = os.environ.get(\"AWS_DEFAULT_REGION\", None)\n",
    "\n",
    "os_client = opensearch_utils.create_aws_opensearch_client(\n",
    "    aws_region,\n",
    "    opensearch_domain_endpoint,\n",
    "    http_auth\n",
    ")"
   ]
  },
  {
   "cell_type": "markdown",
   "id": "f824d282-507e-44c9-bb02-a8978ae2d110",
   "metadata": {
    "tags": []
   },
   "source": [
    "### 오픈 서치 인덱스 생성 \n",
    "- 오픈 서치에 해당 인덱스가 존재하면, 삭제 합니다. "
   ]
  },
  {
   "cell_type": "code",
   "execution_count": 204,
   "id": "a9429551-11f9-41e8-8c28-8e743bc308dc",
   "metadata": {
    "tags": []
   },
   "outputs": [
    {
     "name": "stdout",
     "output_type": "stream",
     "text": [
      "index_name=kb_complex_pdf, exists=False\n",
      "\n",
      "Creating index:\n",
      "{'acknowledged': True, 'shards_acknowledged': True, 'index': 'kb_complex_pdf'}\n",
      "Index is created\n",
      "{'kb_complex_pdf': {'aliases': {},\n",
      "                    'mappings': {'properties': {'metadata': {'properties': {'category': {'type': 'text'},\n",
      "                                                                            'file_directory': {'type': 'text'},\n",
      "                                                                            'image_base64': {'type': 'text'},\n",
      "                                                                            'last_modified': {'type': 'text'},\n",
      "                                                                            'origin_image': {'type': 'text'},\n",
      "                                                                            'origin_table': {'type': 'text'},\n",
      "                                                                            'page_number': {'type': 'long'},\n",
      "                                                                            'source': {'type': 'keyword'},\n",
      "                                                                            'type': {'type': 'keyword'}}},\n",
      "                                                'text': {'analyzer': 'my_analyzer',\n",
      "                                                         'type': 'text'},\n",
      "                                                'vector_field': {'dimension': 1536,\n",
      "                                                                 'type': 'knn_vector'}}},\n",
      "                    'settings': {'index': {'analysis': {'analyzer': {'my_analyzer': {'char_filter': ['html_strip'],\n",
      "                                                                                     'filter': ['my_nori_part_of_speech'],\n",
      "                                                                                     'tokenizer': 'nori',\n",
      "                                                                                     'type': 'custom'}},\n",
      "                                                        'filter': {'my_nori_part_of_speech': {'stoptags': ['J',\n",
      "                                                                                                           'XSV',\n",
      "                                                                                                           'E',\n",
      "                                                                                                           'IC',\n",
      "                                                                                                           'MAJ',\n",
      "                                                                                                           'NNB',\n",
      "                                                                                                           'SP',\n",
      "                                                                                                           'SSC',\n",
      "                                                                                                           'SSO',\n",
      "                                                                                                           'SC',\n",
      "                                                                                                           'SE',\n",
      "                                                                                                           'XSN',\n",
      "                                                                                                           'XSV',\n",
      "                                                                                                           'UNA',\n",
      "                                                                                                           'NA',\n",
      "                                                                                                           'VCP',\n",
      "                                                                                                           'VSV',\n",
      "                                                                                                           'VX'],\n",
      "                                                                                              'type': 'nori_part_of_speech'}},\n",
      "                                                        'tokenizer': {'nori': {'decompound_mode': 'mixed',\n",
      "                                                                               'discard_punctuation': 'true',\n",
      "                                                                               'type': 'nori_tokenizer'}}},\n",
      "                                           'creation_date': '1710343486000',\n",
      "                                           'knn': 'true',\n",
      "                                           'knn.space_type': 'cosinesimil',\n",
      "                                           'number_of_replicas': '2',\n",
      "                                           'number_of_shards': '5',\n",
      "                                           'provided_name': 'kb_complex_pdf',\n",
      "                                           'replication': {'type': 'DOCUMENT'},\n",
      "                                           'uuid': 'QiqG0anhQO28ofQ6c3fypw',\n",
      "                                           'version': {'created': '136327827'}}}}}\n"
     ]
    }
   ],
   "source": [
    "index_exists = opensearch_utils.check_if_index_exists(\n",
    "    os_client,\n",
    "    index_name\n",
    ")\n",
    "\n",
    "if index_exists:\n",
    "    opensearch_utils.delete_index(\n",
    "        os_client,\n",
    "        index_name\n",
    "    )\n",
    "\n",
    "opensearch_utils.create_index(os_client, index_name, index_body)\n",
    "index_info = os_client.indices.get(index=index_name)\n",
    "print(\"Index is created\")\n",
    "pprint(index_info)"
   ]
  },
  {
   "cell_type": "markdown",
   "id": "233327e3-6c4b-43cb-a5dc-65caca085355",
   "metadata": {},
   "source": [
    "### 랭체인 인덱스 연결 오브젝트 생성\n",
    "\n",
    "- [langchain.vectorstores.opensearch_vector_search.OpenSearchVectorSearch](https://api.python.langchain.com/en/latest/vectorstores/langchain.vectorstores.opensearch_vector_search.OpenSearchVectorSearch.html)"
   ]
  },
  {
   "cell_type": "code",
   "execution_count": 205,
   "id": "a29a80eb-eb52-458b-b37d-39214937c188",
   "metadata": {
    "tags": []
   },
   "outputs": [],
   "source": [
    "from langchain.vectorstores import OpenSearchVectorSearch"
   ]
  },
  {
   "cell_type": "code",
   "execution_count": 206,
   "id": "8c5ee773-6952-4d9d-baef-bb11491df90f",
   "metadata": {
    "tags": []
   },
   "outputs": [
    {
     "data": {
      "text/plain": [
       "<langchain_community.vectorstores.opensearch_vector_search.OpenSearchVectorSearch at 0x7f29dd5a5ba0>"
      ]
     },
     "execution_count": 206,
     "metadata": {},
     "output_type": "execute_result"
    }
   ],
   "source": [
    "vector_db = OpenSearchVectorSearch(\n",
    "    index_name=index_name,\n",
    "    opensearch_url=opensearch_domain_endpoint,\n",
    "    embedding_function=llm_emb,\n",
    "    http_auth=http_auth, # http_auth\n",
    "    is_aoss=False,\n",
    "    engine=\"faiss\",\n",
    "    space_type=\"l2\",\n",
    "    bulk_size=100000,\n",
    "    timeout=60\n",
    ")\n",
    "vector_db"
   ]
  },
  {
   "cell_type": "markdown",
   "id": "0bc2a7f5-cf8e-4eae-acf8-d5d01b04ee98",
   "metadata": {},
   "source": [
    "### OpenSearch 에 문서 삽입"
   ]
  },
  {
   "cell_type": "code",
   "execution_count": 208,
   "id": "eb83e4ee-bdd1-44b9-8beb-337962711c19",
   "metadata": {
    "collapsed": true,
    "jupyter": {
     "outputs_hidden": true
    },
    "tags": []
   },
   "outputs": [
    {
     "name": "stdout",
     "output_type": "stream",
     "text": [
      "CPU times: user 221 ms, sys: 4.89 ms, total: 226 ms\n",
      "Wall time: 18.7 s\n"
     ]
    },
    {
     "data": {
      "text/plain": [
       "['df5ca164-dc0c-4372-bbbf-69009062cefc',\n",
       " '2d937f4a-80c7-4cd7-b593-fc15d2cfa7ca',\n",
       " '91b4195f-698e-4d65-99e1-afabe4aae732',\n",
       " 'c706e167-6c4e-4ed1-b996-13c9fa5ef206',\n",
       " 'e04cd18e-c186-4500-a9e4-7fd773b54d48',\n",
       " '0c257944-f23d-4240-90f3-1046f0a64c21',\n",
       " 'fa8d31c7-056b-4033-b6fa-a59f5ad5421a',\n",
       " 'e74bf8a2-f108-445b-9473-bd42a8130e5b',\n",
       " 'dafd5c5d-b321-4c12-b10e-023480f94e18',\n",
       " 'c2f3f44e-5bdf-4f36-b6f6-46b2fa9664b6',\n",
       " '8784f0ab-f69f-497e-b07a-77021a5b5f34',\n",
       " 'baf1397c-aca7-4a88-8f20-d01a7c7f255f',\n",
       " 'b310e3e4-f0be-4396-9c52-f1eb18d2fb8b',\n",
       " 'e3114220-37e8-40e2-92d1-3ef20bdffe4f',\n",
       " 'de058151-c8f7-487f-92e6-1dead5f05220',\n",
       " 'fc640b62-fb7b-4147-baf6-00780153ebaa',\n",
       " '86e27b6d-ddbe-436b-aa5c-d5db48685889',\n",
       " 'fdf3164b-d5cc-4acf-8636-386d14f8c252',\n",
       " 'eb27c2ea-6fd9-435d-a244-f6c85133506b',\n",
       " 'e7cce0da-9d3a-4745-8663-f4e4ad1791a1',\n",
       " '152ae929-8d62-43fe-a8bf-0335534203b1',\n",
       " '8ea08465-9daa-46ed-b8bb-8349bcf1cd85',\n",
       " '44ffe1b8-4f00-409b-99ae-df086e1d2160',\n",
       " '1a5e70a5-4902-4a43-892b-077290d9c6d2',\n",
       " '1e28dec3-e994-4348-a6f1-9928fcd3cb33',\n",
       " 'aadbb75d-01ec-49e9-8705-e1c592f9379d',\n",
       " '05e76b92-033a-4e26-b7d0-a177d84f150e',\n",
       " '5af76ce7-d277-4765-8aea-f49f9ea72cd3',\n",
       " 'edb0a5e5-b11f-4b03-990b-c206e304f589',\n",
       " 'cb5af8a7-b1d7-42ee-8002-1d98e0c70d5a',\n",
       " '191306e1-babe-49a4-bc03-241ff9277202',\n",
       " '6da2941d-d7c8-4227-ab5e-40b6c3711010',\n",
       " 'f9e6cf56-b9d9-46da-bbce-4b6eb89393e2',\n",
       " '889234bd-11ee-44e7-8f5b-c9d235aa1ae7',\n",
       " '45092208-9c1c-4e4c-9942-cb7344707a4b',\n",
       " '55d71d93-8480-41d9-817b-c7b43bb91b60',\n",
       " 'b449e410-fef8-41a4-9a89-8554f83a3730',\n",
       " '23d53821-a45d-4f10-8852-d267b78c849a',\n",
       " '0b585846-70b2-4a16-be14-1ddb75674bab',\n",
       " '17b35483-dbc9-4715-b6dc-2aa4655f9205',\n",
       " '78557ef0-622e-4053-8ef8-4b40d52bb907',\n",
       " '1afa8151-9451-41ed-9a22-06313d3a0b7b',\n",
       " '2a752286-22f3-42c3-8fe7-b107eda29211',\n",
       " '69da6cdd-6461-4ddb-9fad-ca4aed77c89a',\n",
       " '3faffd57-49ef-49eb-8c09-b833691c0474',\n",
       " 'ca3e4f15-e781-497c-a9c0-c53e6548aeb1',\n",
       " '32c0a2df-3561-436c-8cf1-4b767b816e48',\n",
       " '929434bc-e1f0-46b0-ad02-4bc9d97bfbf5',\n",
       " 'bf5d1e11-3ca1-4f67-a8f9-0b9735939f8d',\n",
       " '78d3ac14-2ba1-47aa-8609-75b113a0cc5c',\n",
       " 'babae475-9363-42d3-9572-98a37d9aa393',\n",
       " 'a29d0ac8-2f5e-4c9f-9386-b275e83995e9',\n",
       " 'c1ce072f-fba2-4f64-b851-e423f25083c5',\n",
       " '8ee11b71-6a0a-4b26-aeed-b911a26c1826',\n",
       " '8f093f34-f3b3-4170-b594-fcb5c5ee660f',\n",
       " 'f1e53b13-a8f9-44b4-882e-7d6d913121f7',\n",
       " '6e74b00a-f546-4f9f-80df-7b21b6df82c2',\n",
       " '2446ec73-27a1-4fd0-8879-b3c8970dc262',\n",
       " '745f821e-4fde-4a3e-82bf-b6374ed227b6',\n",
       " '08f2ba99-73c4-49af-9593-dc11401fa20d',\n",
       " '58e211ff-c387-4b2d-b9de-a66583c8afcb']"
      ]
     },
     "execution_count": 208,
     "metadata": {},
     "output_type": "execute_result"
    }
   ],
   "source": [
    "%%time\n",
    "\n",
    "vector_db.add_documents(\n",
    "    documents = docs_preprocessed, \n",
    "    vector_field = \"vector_field\",\n",
    "    bulk_size = 1000000\n",
    ")"
   ]
  },
  {
   "cell_type": "code",
   "execution_count": 220,
   "id": "5c7832ba-bad0-48e4-89e6-8db0e4965b0a",
   "metadata": {
    "tags": []
   },
   "outputs": [
    {
     "data": {
      "text/plain": [
       "[Document(page_content='상품 개요', metadata={'source': './data/complex_pdf/sample.pdf', 'coordinates': {'points': [[139.33333333333331, 487.45555555555535], [139.33333333333331, 520.7888888888887], [324.15555555555557, 520.7888888888887], [324.15555555555557, 487.45555555555535]], 'system': 'PixelSpace', 'layout_width': 1654, 'layout_height': 2339}, 'last_modified': '2024-03-13T13:49:55', 'filetype': 'application/pdf', 'languages': ['eng'], 'page_number': 1, 'file_directory': './data/complex_pdf', 'filename': 'sample.pdf', 'category': 'Title'}),\n",
       " Document(page_content='○ 상품위험등급: 4 등급', metadata={'source': './data/complex_pdf/sample.pdf', 'detection_class_prob': 0.6981909275054932, 'coordinates': {'points': [[82.37476348876953, 871.400888888889], [82.37476348876953, 900.8624267578125], [405.93522222222214, 900.8624267578125], [405.93522222222214, 871.400888888889]], 'system': 'PixelSpace', 'layout_width': 1654, 'layout_height': 2339}, 'last_modified': '2024-03-13T13:49:55', 'filetype': 'application/pdf', 'languages': ['eng'], 'page_number': 1, 'parent_id': '2edefb210a72364af099647c1de38359', 'file_directory': './data/complex_pdf', 'filename': 'sample.pdf', 'category': 'ListItem'}),\n",
       " Document(page_content='○ 본 상품의 발행조건과 기준가격은 당사홈페이지( http://www.miraeassetaccount.com )에서 확인하실 수 있습니다.', metadata={'source': './data/complex_pdf/sample.pdf', 'detection_class_prob': 0.8954569697380066, 'coordinates': {'points': [[101.33333333333331, 1608.123111111111], [101.33333333333331, 1677.5455322265625], [1580.5463333333332, 1677.5455322265625], [1580.5463333333332, 1608.123111111111]], 'system': 'PixelSpace', 'layout_width': 1654, 'layout_height': 2339}, 'last_modified': '2024-03-13T13:49:55', 'filetype': 'application/pdf', 'languages': ['eng'], 'page_number': 2, 'parent_id': 'c1f4a3eba174e026b79c1213d8b59c32', 'file_directory': './data/complex_pdf', 'filename': 'sample.pdf', 'category': 'NarrativeText'}),\n",
       " Document(page_content='○ 청약단위 : 100 만원 이상 100 만원 단위 (발행 후 추가 납입 불가)', metadata={'source': './data/complex_pdf/sample.pdf', 'detection_class_prob': 0.5047706961631775, 'coordinates': {'points': [[85.46671295166016, 746.3175555555555], [85.46671295166016, 775.2879638671875], [1003.8656005859375, 775.2879638671875], [1003.8656005859375, 746.3175555555555]], 'system': 'PixelSpace', 'layout_width': 1654, 'layout_height': 2339}, 'last_modified': '2024-03-13T13:49:55', 'filetype': 'application/pdf', 'languages': ['eng'], 'page_number': 1, 'parent_id': '2edefb210a72364af099647c1de38359', 'file_directory': './data/complex_pdf', 'filename': 'sample.pdf', 'category': 'ListItem'})]"
      ]
     },
     "execution_count": 220,
     "metadata": {},
     "output_type": "execute_result"
    }
   ],
   "source": [
    "vector_db.similarity_search(\"상품\")"
   ]
  },
  {
   "cell_type": "markdown",
   "id": "0c4223fa-ca44-4197-a1cd-2a76151df2be",
   "metadata": {},
   "source": [
    "## 6. 검색 및 질의 응답 테스트"
   ]
  },
  {
   "cell_type": "code",
   "execution_count": 214,
   "id": "4fdb6e42-506d-4152-949e-cb9e8abf9b53",
   "metadata": {
    "tags": []
   },
   "outputs": [],
   "source": [
    "from utils.rag import retriever_utils\n",
    "from local_utils.rag import show_context_used"
   ]
  },
  {
   "cell_type": "markdown",
   "id": "b6c9f5ca-08a2-4656-ba5b-0ead7565182d",
   "metadata": {},
   "source": [
    "### 하이브리드 검색"
   ]
  },
  {
   "cell_type": "code",
   "execution_count": 250,
   "id": "221b7201-865d-4c20-8333-88bdf635235b",
   "metadata": {
    "tags": []
   },
   "outputs": [],
   "source": [
    "query = \"청약 금액에 맞춰서 안분배정하는 경우는?\"\n",
    "\n",
    "search_filter=[\n",
    "    #{\"term\": {\"metadata.source\": \"신한은행\"}},\n",
    "    #{\"term\": {\"metadata.type\": \"인터넷뱅킹\"}},\n",
    "]"
   ]
  },
  {
   "cell_type": "code",
   "execution_count": 253,
   "id": "0d68740c-2dc3-404c-a2e5-08f2e65481cd",
   "metadata": {
    "tags": []
   },
   "outputs": [
    {
     "name": "stdout",
     "output_type": "stream",
     "text": [
      "CPU times: user 12.1 ms, sys: 314 µs, total: 12.4 ms\n",
      "Wall time: 259 ms\n"
     ]
    }
   ],
   "source": [
    "%%time\n",
    "similar_docs_hybrid = retriever_utils.search_hybrid(\n",
    "    query=query,\n",
    "    k=7,\n",
    "    index_name=index_name,\n",
    "    os_client=os_client,\n",
    "    filter=search_filter,\n",
    "    fusion_algorithm=\"RRF\", # [\"RRF\", \"simple_weighted\"]\n",
    "    ensemble_weights=[0.49, 0.51], # semantic, lexical\n",
    "    async_mode=True,\n",
    "    llm_emb=llm_emb,\n",
    "    verbose=False\n",
    ")\n",
    "#show_context_used(similar_docs_hybrid)"
   ]
  },
  {
   "cell_type": "code",
   "execution_count": 254,
   "id": "a3b0fd5d-a75c-490e-b311-299862da298d",
   "metadata": {
    "tags": []
   },
   "outputs": [],
   "source": [
    "system_prompt = \"You are a master answer bot designed to answer investor's questions.\"\n",
    "system_message_template = SystemMessagePromptTemplate.from_template(system_prompt)"
   ]
  },
  {
   "cell_type": "code",
   "execution_count": 255,
   "id": "34d2a03b-8dde-4ff5-9fea-fcf0cc6fd8cd",
   "metadata": {
    "tags": []
   },
   "outputs": [],
   "source": [
    "human_prompt = [\n",
    "    {\n",
    "        \"type\": \"image_url\",\n",
    "        \"image_url\": {\n",
    "            \"url\": \"data:image/png;base64,\" + \"{image_base64}\",\n",
    "        },\n",
    "    },\n",
    "    {\n",
    "        \"type\": \"text\",\n",
    "        \"text\": '''\n",
    "                I'm going to give you a context and images. Read the context carefully, because I'm going to ask you a question about it.\n",
    "                \n",
    "                Here is the context: <context>{context}</context>\n",
    "                \n",
    "                First, find a few paragraphs or sentences from the context that are most relevant to answering the question.\n",
    "                Then, answer the question as much as you can.\n",
    "                \n",
    "                Skip the preamble and go straight into the answer.\n",
    "                Don't insert any XML tag such as <context> and </context> when answering.\n",
    "                Answer in Korean.\n",
    "                \n",
    "                Here is the question: <question>{question}</question>\n",
    "                \n",
    "                If the question cannot be answered by the context, say \"No relevant context\".\n",
    "        '''\n",
    "    },\n",
    "]\n",
    "human_message_template = HumanMessagePromptTemplate.from_template(human_prompt)"
   ]
  },
  {
   "cell_type": "code",
   "execution_count": 256,
   "id": "4093c83e-c5ea-4e0f-94db-77741c89efe3",
   "metadata": {
    "tags": []
   },
   "outputs": [],
   "source": [
    "human_prompt = [\n",
    "    {\n",
    "        \"type\": \"text\",\n",
    "        \"text\": '''\n",
    "                I'm going to give you a context and tables. Read the context carefully, because I'm going to ask you a question about it.\n",
    "                \n",
    "                Here is the context: <context>{context}</context>\n",
    "                Here is the context: <table>{table}</table>\n",
    "                \n",
    "                First, find a few paragraphs or sentences from the context that are most relevant to answering the question.\n",
    "                Then, answer the question as much as you can.\n",
    "                \n",
    "                Skip the preamble and go straight into the answer.\n",
    "                Don't insert any XML tag such as <context> and </context> when answering.\n",
    "                Answer in Korean.\n",
    "                \n",
    "                Here is the question: <question>{question}</question>\n",
    "                \n",
    "                If the question cannot be answered by the context, say \"No relevant context\".\n",
    "        '''\n",
    "    },\n",
    "]\n",
    "human_message_template = HumanMessagePromptTemplate.from_template(human_prompt)"
   ]
  },
  {
   "cell_type": "code",
   "execution_count": 261,
   "id": "096001b8-5c97-4cbf-976a-2abf2394d12a",
   "metadata": {
    "tags": []
   },
   "outputs": [
    {
     "name": "stdout",
     "output_type": "stream",
     "text": [
      "공모결과 총 청약금액이 모집금액의 100% 이상인 경우 청약금액에 비례하여 안분배정합니다."
     ]
    }
   ],
   "source": [
    "prompt = ChatPromptTemplate.from_messages(\n",
    "    [\n",
    "        system_message_template,\n",
    "        human_message_template\n",
    "    ]\n",
    ")\n",
    "\n",
    "chain = prompt | llm_text | StrOutputParser()\n",
    "\n",
    "response = chain.invoke(\n",
    "    {\n",
    "        \"context\": similar_docs_hybrid,\n",
    "        #\"table\": similar_docs_hybrid[4].metadata[\"origin_table\"],\n",
    "        \"table\": \"None\",\n",
    "        \"question\": query\n",
    "    }\n",
    ")"
   ]
  },
  {
   "cell_type": "code",
   "execution_count": null,
   "id": "ce6524aa-fc57-46b4-9168-f1e2f4baebb1",
   "metadata": {},
   "outputs": [],
   "source": []
  },
  {
   "cell_type": "code",
   "execution_count": null,
   "id": "1761018e-bab1-46e2-aa11-bb058809a503",
   "metadata": {},
   "outputs": [],
   "source": []
  },
  {
   "cell_type": "code",
   "execution_count": 242,
   "id": "b02a5e6b-8c95-46f1-a2b6-cee952f1d971",
   "metadata": {
    "tags": []
   },
   "outputs": [
    {
     "ename": "SyntaxError",
     "evalue": "incomplete input (1740779636.py, line 6)",
     "output_type": "error",
     "traceback": [
      "\u001b[0;36m  Cell \u001b[0;32mIn[242], line 6\u001b[0;36m\u001b[0m\n\u001b[0;31m    '''\u001b[0m\n\u001b[0m    ^\u001b[0m\n\u001b[0;31mSyntaxError\u001b[0m\u001b[0;31m:\u001b[0m incomplete input\n"
     ]
    }
   ],
   "source": [
    "response = chain.invoke(\n",
    "    {\n",
    "        \"context\": similar_docs_hybrid,\n",
    "        \"table\": similar_docs_hybrid[4].metadata[\"origin_table\"],\n",
    "        \"question\": question\n",
    "        '''\n",
    "    }\n",
    ")"
   ]
  },
  {
   "cell_type": "code",
   "execution_count": 69,
   "id": "8135314b-9f46-4425-b8b8-73ea60320fac",
   "metadata": {
    "tags": []
   },
   "outputs": [
    {
     "data": {
      "text/plain": [
       "'HE=HE 21.00% 4STEHE 70% 130% m=oz=spzgpy| IR AT (%) (B 22 7| =X 100% HSEF'"
      ]
     },
     "execution_count": 69,
     "metadata": {},
     "output_type": "execute_result"
    }
   ],
   "source": [
    "docs[-4].page_content#.metadata[\"]"
   ]
  },
  {
   "cell_type": "code",
   "execution_count": 241,
   "id": "f71a466e-c489-4ab3-9ede-6f3dd356edae",
   "metadata": {
    "tags": []
   },
   "outputs": [
    {
     "name": "stdout",
     "output_type": "stream",
     "text": [
      "-----------------------------------------------\n",
      "1. Chunk: 84 Characters\n",
      "-----------------------------------------------\n",
      "○ 만기상환 ② : 두 기초자산의 만기평가가격이 KOSPI200 은 300pt, 금가격지수는 $1,350 인 경우 ⇒ 1 억원 지급(100% 원금보장)\n",
      "metadata:\n",
      " {'source': './data/complex_pdf/sample.pdf', 'detection_class_prob': 0.8142080307006836,\n",
      "'coordinates': {'points': [[91.33333333333334, 1936.5397777777778], [91.33333333333334,\n",
      "2006.0692138671875], [1398.1574444444443, 2006.0692138671875], [1398.1574444444443,\n",
      "1936.5397777777778]], 'system': 'PixelSpace', 'layout_width': 1654, 'layout_height': 2339},\n",
      "'last_modified': '2024-03-13T13:49:55', 'filetype': 'application/pdf', 'languages': ['eng'],\n",
      "'page_number': 1, 'parent_id': '93fdaec2fc7e323322bec792d16587e2', 'file_directory':\n",
      "'./data/complex_pdf', 'filename': 'sample.pdf', 'category': 'NarrativeText', 'id':\n",
      "'05e76b92-033a-4e26-b7d0-a177d84f150e'}\n",
      "-----------------------------------------------\n",
      "2. Chunk: 30 Characters\n",
      "-----------------------------------------------\n",
      "※ 만기수익률=(만기평가가격-최초기준가격)/최초기준가격\n",
      "metadata:\n",
      " {'source': './data/complex_pdf/sample.pdf', 'detection_class_prob': 0.2517835199832916,\n",
      "'coordinates': {'points': [[91.33333333333334, 1515.4564444444443], [91.33333333333334,\n",
      "1544.0279541015625], [848.0185555555556, 1544.0279541015625], [848.0185555555556,\n",
      "1515.4564444444443]], 'system': 'PixelSpace', 'layout_width': 1654, 'layout_height': 2339},\n",
      "'last_modified': '2024-03-13T13:49:55', 'filetype': 'application/pdf', 'languages': ['eng'],\n",
      "'page_number': 1, 'parent_id': 'f1d0f6667f28d555fc05578bb3e90881', 'file_directory':\n",
      "'./data/complex_pdf', 'filename': 'sample.pdf', 'category': 'ListItem', 'id':\n",
      "'e7cce0da-9d3a-4745-8663-f4e4ad1791a1'}\n",
      "-----------------------------------------------\n",
      "3. Chunk: 80 Characters\n",
      "-----------------------------------------------\n",
      "○ 만기상환 ① : 두 기초자산의 만기평가가격이 KOSPI200 은 300pt, 금가격지수는 $1,650 인 경우 ⇒ 1 억원 700 만원 지급\n",
      "metadata:\n",
      " {'source': './data/complex_pdf/sample.pdf', 'detection_class_prob': 0.4016065299510956,\n",
      "'coordinates': {'points': [[91.33333333333334, 1769.7897777777775], [91.33333333333334,\n",
      "1839.6800537109375], [1398.1574444444443, 1839.6800537109375], [1398.1574444444443,\n",
      "1769.7897777777775]], 'system': 'PixelSpace', 'layout_width': 1654, 'layout_height': 2339},\n",
      "'last_modified': '2024-03-13T13:49:55', 'filetype': 'application/pdf', 'languages': ['eng'],\n",
      "'page_number': 1, 'parent_id': '93fdaec2fc7e323322bec792d16587e2', 'file_directory':\n",
      "'./data/complex_pdf', 'filename': 'sample.pdf', 'category': 'NarrativeText', 'id':\n",
      "'1e28dec3-e994-4348-a6f1-9928fcd3cb33'}\n",
      "-----------------------------------------------\n",
      "4. Chunk: 60 Characters\n",
      "-----------------------------------------------\n",
      "= 1 억원×[100%+{(1,650-1,500)/1,500×70%}] (만기수익률이 낮은 금가격지수 기준)\n",
      "metadata:\n",
      " {'source': './data/complex_pdf/sample.pdf', 'coordinates': {'points': [[91.33333333333334,\n",
      "1853.2064444444443], [91.33333333333334, 1880.8731111111108], [1849.8796666666667,\n",
      "1880.8731111111108], [1849.8796666666667, 1853.2064444444443]], 'system': 'PixelSpace',\n",
      "'layout_width': 1654, 'layout_height': 2339}, 'last_modified': '2024-03-13T13:49:55', 'filetype':\n",
      "'application/pdf', 'languages': ['eng'], 'page_number': 1, 'parent_id':\n",
      "'93fdaec2fc7e323322bec792d16587e2', 'file_directory': './data/complex_pdf', 'filename':\n",
      "'sample.pdf', 'category': 'UncategorizedText', 'id': 'aadbb75d-01ec-49e9-8705-e1c592f9379d'}\n",
      "-----------------------------------------------\n",
      "5. Chunk: 292 Characters\n",
      "-----------------------------------------------\n",
      "주어진 표는 KOSPI200 지수와 금 가격의 수익률 및 손익을 보여주고 있습니다. 최초 기준가격 결정일에는 KOSPI200 지수가 250pt, 금 가격이 1,500달러였습니다.\n",
      "만기평가일 1에서는 KOSPI200 지수가 20% 상승하여 300pt, 금 가격이 10% 상승하여 1,650달러가 되었고, 이에 따라 7.0%의 수익률과 700만원의 세전 이익이\n",
      "발생했습니다. 반면 만기평가일 2에서는 KOSPI200 지수는 20% 상승한 300pt이었지만, 금 가격은 10% 하락하여 1,350달러가 되어 손익은 0이었습니다.\n",
      "metadata:\n",
      " {'source': './data/complex_pdf/sample.pdf', 'detection_class_prob': 0.9028801321983337,\n",
      "'coordinates': {'points': [[74.83539581298828, 1131.6097412109375], [74.83539581298828,\n",
      "1401.232666015625], [1508.137939453125, 1401.232666015625], [1508.137939453125,\n",
      "1131.6097412109375]], 'system': 'PixelSpace', 'layout_width': 1654, 'layout_height': 2339},\n",
      "'last_modified': '2024-03-13T13:49:55', 'filetype': 'application/pdf', 'languages': ['eng'],\n",
      "'page_number': 3, 'parent_id': 'af8d33c5e2217176814e0a947ca4524c', 'file_directory':\n",
      "'./data/complex_pdf', 'filename': 'sample.pdf', 'category': 'Table', 'origin_table': ['결정일 KOSPI200\n",
      "금 수익률 손익(세전) 최초기준가격결정일 250pt 1,500 달러 - - 만기평가일 1 300pt (20%상승) 1,650 달러 (10%상승) 7.0% +700 만원 만기평가일\n",
      "2 300pt (20%상승) 1,350 달러 (10%하락) - -'], 'id': '2446ec73-27a1-4fd0-8879-b3c8970dc262'}\n",
      "-----------------------------------------------\n",
      "6. Chunk: 34 Characters\n",
      "-----------------------------------------------\n",
      "○ 만 기 일 : 2012 년 07 월 09 일(만기 1 년)\n",
      "metadata:\n",
      " {'source': './data/complex_pdf/sample.pdf', 'detection_class_prob': 0.7245339155197144,\n",
      "'coordinates': {'points': [[91.33333333333334, 829.7342222222223], [91.33333333333334,\n",
      "857.6875610351562], [700.0185555555555, 857.6875610351562], [700.0185555555555, 829.7342222222223]],\n",
      "'system': 'PixelSpace', 'layout_width': 1654, 'layout_height': 2339}, 'last_modified':\n",
      "'2024-03-13T13:49:55', 'filetype': 'application/pdf', 'languages': ['eng'], 'page_number': 1,\n",
      "'parent_id': '2edefb210a72364af099647c1de38359', 'file_directory': './data/complex_pdf', 'filename':\n",
      "'sample.pdf', 'category': 'ListItem', 'id': 'b310e3e4-f0be-4396-9c52-f1eb18d2fb8b'}\n",
      "-----------------------------------------------\n",
      "7. Chunk: 85 Characters\n",
      "-----------------------------------------------\n",
      "○ 최초 기준가격: 2011 년 07 월 07 일의 종가(해당 거래소 기준) ○ 만기 평가가격: 2012 년 07 월 03 일의 종가(해당 거래소 기준)\n",
      "metadata:\n",
      " {'source': './data/complex_pdf/sample.pdf', 'detection_class_prob': 0.3055884838104248,\n",
      "'coordinates': {'points': [[77.48686218261719, 1039.8268888888886], [77.48686218261719,\n",
      "1111.7410888671875], [978.0184326171875, 1111.7410888671875], [978.0184326171875,\n",
      "1039.8268888888886]], 'system': 'PixelSpace', 'layout_width': 1654, 'layout_height': 2339},\n",
      "'last_modified': '2024-03-13T13:49:55', 'filetype': 'application/pdf', 'languages': ['eng'],\n",
      "'page_number': 1, 'parent_id': '31aa91499f9cb9c508fcd3c3dcffc30d', 'file_directory':\n",
      "'./data/complex_pdf', 'filename': 'sample.pdf', 'category': 'NarrativeText', 'id':\n",
      "'fc640b62-fb7b-4147-baf6-00780153ebaa'}\n"
     ]
    }
   ],
   "source": [
    "show_context_used(similar_docs_hybrid)"
   ]
  },
  {
   "cell_type": "code",
   "execution_count": null,
   "id": "f5a389d0-de8b-4a46-aaa1-8e5b531b149d",
   "metadata": {},
   "outputs": [],
   "source": []
  }
 ],
 "metadata": {
  "kernelspec": {
   "display_name": "conda_python3",
   "language": "python",
   "name": "conda_python3"
  },
  "language_info": {
   "codemirror_mode": {
    "name": "ipython",
    "version": 3
   },
   "file_extension": ".py",
   "mimetype": "text/x-python",
   "name": "python",
   "nbconvert_exporter": "python",
   "pygments_lexer": "ipython3",
   "version": "3.10.13"
  }
 },
 "nbformat": 4,
 "nbformat_minor": 5
}
