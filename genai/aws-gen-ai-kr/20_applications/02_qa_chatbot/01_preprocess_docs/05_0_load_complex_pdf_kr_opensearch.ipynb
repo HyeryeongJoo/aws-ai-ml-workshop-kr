{
 "cells": [
  {
   "cell_type": "markdown",
   "id": "02129bd0-af47-4fd6-91af-81613fc40511",
   "metadata": {},
   "source": [
    "# Preprocessing for complex PDF"
   ]
  },
  {
   "cell_type": "markdown",
   "id": "9334e485-ef50-4ba1-b86e-b6a80c2ee676",
   "metadata": {},
   "source": [
    "## Setting\n",
    " - Auto Reload\n",
    " - path for utils"
   ]
  },
  {
   "cell_type": "code",
   "execution_count": 1,
   "id": "fefce95b-b2aa-4524-92bc-28b12699ec84",
   "metadata": {
    "tags": []
   },
   "outputs": [],
   "source": [
    "%load_ext autoreload\n",
    "%autoreload 2"
   ]
  },
  {
   "cell_type": "code",
   "execution_count": 2,
   "id": "802b9aa2-a15a-46f5-925d-0f89afb2a611",
   "metadata": {
    "tags": []
   },
   "outputs": [
    {
     "name": "stdout",
     "output_type": "stream",
     "text": [
      "python path: /home/ec2-user/SageMaker/aws-ai-ml-workshop-kr/genai/aws-gen-ai-kr is added\n",
      "sys.path:  ['/home/ec2-user/SageMaker/aws-ai-ml-workshop-kr/genai/aws-gen-ai-kr/20_applications/02_qa_chatbot/01_preprocess_docs', '/home/ec2-user/anaconda3/envs/python3/lib/python310.zip', '/home/ec2-user/anaconda3/envs/python3/lib/python3.10', '/home/ec2-user/anaconda3/envs/python3/lib/python3.10/lib-dynload', '', '/home/ec2-user/anaconda3/envs/python3/lib/python3.10/site-packages', '/home/ec2-user/SageMaker/aws-ai-ml-workshop-kr/genai/aws-gen-ai-kr']\n"
     ]
    }
   ],
   "source": [
    "import sys, os\n",
    "\n",
    "def add_python_path(module_path):\n",
    "    if os.path.abspath(module_path) not in sys.path:\n",
    "        sys.path.append(os.path.abspath(module_path))\n",
    "        print(f\"python path: {os.path.abspath(module_path)} is added\")\n",
    "    else:\n",
    "        print(f\"python path: {os.path.abspath(module_path)} already exists\")\n",
    "    print(\"sys.path: \", sys.path)\n",
    "\n",
    "module_path = \"../../..\"\n",
    "add_python_path(module_path)"
   ]
  },
  {
   "cell_type": "markdown",
   "id": "9508a21d-0d22-4adc-b928-e6c0bccaa9a6",
   "metadata": {},
   "source": [
    "## 1. Create Bedrock client"
   ]
  },
  {
   "cell_type": "code",
   "execution_count": 3,
   "id": "1da8e4df-ef07-4cb0-b76b-cc327073425c",
   "metadata": {
    "tags": []
   },
   "outputs": [],
   "source": [
    "import json\n",
    "import boto3\n",
    "from pprint import pprint\n",
    "from termcolor import colored\n",
    "from utils import bedrock, print_ww\n",
    "from utils.bedrock import bedrock_info"
   ]
  },
  {
   "cell_type": "markdown",
   "id": "4d5f222a-2cdc-490e-b1e4-43429414dcd9",
   "metadata": {},
   "source": [
    "### ---- ⚠️ Un-comment and edit the below lines as needed for your AWS setup ⚠️ ----\n",
    "- os.environ[\"AWS_DEFAULT_REGION\"] = \"<REGION_NAME>\"  # E.g. \"us-east-1\"\n",
    "- os.environ[\"AWS_PROFILE\"] = \"<YOUR_PROFILE>\"\n",
    "- os.environ[\"BEDROCK_ASSUME_ROLE\"] = \"<YOUR_ROLE_ARN>\"  # E.g. \"arn:aws:...\"\n",
    "- os.environ[\"BEDROCK_ENDPOINT_URL\"] = \"<YOUR_ENDPOINT_URL>\"  # E.g. \"https://...\""
   ]
  },
  {
   "cell_type": "code",
   "execution_count": 4,
   "id": "b10630ae-e48d-4ae3-ae4d-187d5bd232f4",
   "metadata": {
    "tags": []
   },
   "outputs": [
    {
     "name": "stdout",
     "output_type": "stream",
     "text": [
      "Create new client\n",
      "  Using region: None\n",
      "  Using profile: None\n",
      "boto3 Bedrock client successfully created!\n",
      "bedrock-runtime(https://bedrock-runtime.us-east-1.amazonaws.com)\n",
      "\u001b[32m\n",
      "== FM lists ==\u001b[0m\n",
      "{'Claude-Instant-V1': 'anthropic.claude-instant-v1',\n",
      " 'Claude-V1': 'anthropic.claude-v1',\n",
      " 'Claude-V2': 'anthropic.claude-v2',\n",
      " 'Claude-V2-1': 'anthropic.claude-v2:1',\n",
      " 'Claude-V3-Haiku': 'anthropic.claude-3-haiku-20240307-v1:0',\n",
      " 'Claude-V3-Sonnet': 'anthropic.claude-3-sonnet-20240229-v1:0',\n",
      " 'Cohere-Embeddings-En': 'cohere.embed-english-v3',\n",
      " 'Cohere-Embeddings-Multilingual': 'cohere.embed-multilingual-v3',\n",
      " 'Command': 'cohere.command-text-v14',\n",
      " 'Command-Light': 'cohere.command-light-text-v14',\n",
      " 'Jurassic-2-Mid': 'ai21.j2-mid-v1',\n",
      " 'Jurassic-2-Ultra': 'ai21.j2-ultra-v1',\n",
      " 'Llama2-13b-Chat': 'meta.llama2-13b-chat-v1',\n",
      " 'Titan-Embeddings-G1': 'amazon.titan-embed-text-v1',\n",
      " 'Titan-Text-G1': 'amazon.titan-text-express-v1',\n",
      " 'Titan-Text-G1-Light': 'amazon.titan-text-lite-v1'}\n"
     ]
    }
   ],
   "source": [
    "boto3_bedrock = bedrock.get_bedrock_client(\n",
    "    assumed_role=os.environ.get(\"BEDROCK_ASSUME_ROLE\", None),\n",
    "    endpoint_url=os.environ.get(\"BEDROCK_ENDPOINT_URL\", None),\n",
    "    region=os.environ.get(\"AWS_DEFAULT_REGION\", None),\n",
    ")\n",
    "\n",
    "print (colored(\"\\n== FM lists ==\", \"green\"))\n",
    "pprint (bedrock_info.get_list_fm_models(verbose=False))"
   ]
  },
  {
   "cell_type": "markdown",
   "id": "c4ecb09e-2662-4cee-8c4b-c4ac9228fe3d",
   "metadata": {},
   "source": [
    "## 2. Titan Embedding 및 LLM 인 Claude-v3-sonnet 모델 로딩"
   ]
  },
  {
   "cell_type": "markdown",
   "id": "9f351fdc-ed28-4b00-9150-e755e51932f7",
   "metadata": {
    "tags": []
   },
   "source": [
    "### LLM 로딩 (Claude-v3-sonnet)"
   ]
  },
  {
   "cell_type": "code",
   "execution_count": 5,
   "id": "decf2bc3-a873-4bd6-838b-6ce4cb9fe879",
   "metadata": {
    "tags": []
   },
   "outputs": [],
   "source": [
    "from langchain_community.chat_models import BedrockChat\n",
    "from langchain.callbacks.streaming_stdout import StreamingStdOutCallbackHandler"
   ]
  },
  {
   "cell_type": "code",
   "execution_count": 6,
   "id": "1585f9ee-4de7-4a16-b219-f3bde8d84b79",
   "metadata": {
    "tags": []
   },
   "outputs": [
    {
     "data": {
      "text/plain": [
       "BedrockChat(client=<botocore.client.BedrockRuntime object at 0x7ff705d30df0>, model_id='anthropic.claude-3-sonnet-20240229-v1:0', model_kwargs={'max_tokens': 1024, 'stop_sequences': ['\\n\\nHuman']}, streaming=True, callbacks=[<langchain_core.callbacks.streaming_stdout.StreamingStdOutCallbackHandler object at 0x7ff73d675960>])"
      ]
     },
     "execution_count": 6,
     "metadata": {},
     "output_type": "execute_result"
    }
   ],
   "source": [
    "llm_text = BedrockChat(\n",
    "    model_id=bedrock_info.get_model_id(model_name=\"Claude-V3-Sonnet\"),\n",
    "    client=boto3_bedrock,\n",
    "    streaming=True,\n",
    "    callbacks=[StreamingStdOutCallbackHandler()],\n",
    "    model_kwargs={\n",
    "        \"max_tokens\": 1024,\n",
    "        \"stop_sequences\": [\"\\n\\nHuman\"],\n",
    "        # \"temperature\": 0,\n",
    "        # \"top_k\": 350,\n",
    "        # \"top_p\": 0.999\n",
    "    }\n",
    ")\n",
    "llm_text"
   ]
  },
  {
   "cell_type": "markdown",
   "id": "0ba6e5b8-f40f-4bc8-a823-53a280ecea66",
   "metadata": {
    "tags": []
   },
   "source": [
    "### Embedding 모델 선택"
   ]
  },
  {
   "cell_type": "code",
   "execution_count": 7,
   "id": "6cad9168-72e3-4906-8abe-f5a23638cfde",
   "metadata": {
    "tags": []
   },
   "outputs": [],
   "source": [
    "from langchain.embeddings import BedrockEmbeddings"
   ]
  },
  {
   "cell_type": "code",
   "execution_count": 8,
   "id": "069404eb-4daf-4ff9-aadd-0ef694df22d2",
   "metadata": {
    "tags": []
   },
   "outputs": [
    {
     "name": "stdout",
     "output_type": "stream",
     "text": [
      "Bedrock Embeddings Model Loaded\n"
     ]
    }
   ],
   "source": [
    "llm_emb = BedrockEmbeddings(\n",
    "    client=boto3_bedrock,\n",
    "    model_id=bedrock_info.get_model_id(model_name=\"Titan-Embeddings-G1\")\n",
    ")\n",
    "dimension = 1536\n",
    "print(\"Bedrock Embeddings Model Loaded\")"
   ]
  },
  {
   "cell_type": "markdown",
   "id": "de224b4a-05ae-4f40-82a4-1109b33ff452",
   "metadata": {},
   "source": [
    "## 3. 데이터 준비 \n",
    "- https://python.langchain.com/docs/integrations/document_loaders/unstructured_file\n",
    "- cleansing: https://unstructured-io.github.io/unstructured/core/cleaning.html"
   ]
  },
  {
   "cell_type": "markdown",
   "id": "91c35df1-4183-4285-bfa7-17bff9fe9169",
   "metadata": {},
   "source": [
    "### Extract Text, Table and Image from documents"
   ]
  },
  {
   "cell_type": "code",
   "execution_count": 9,
   "id": "01fd7d69-23ea-4300-9eea-aa62e2eafd36",
   "metadata": {
    "tags": []
   },
   "outputs": [],
   "source": [
    "import shutil\n",
    "from glob import glob\n",
    "from unstructured.cleaners.core import clean_bullets, clean_extra_whitespace\n",
    "from langchain_community.document_loaders import UnstructuredFileLoader, UnstructuredAPIFileLoader"
   ]
  },
  {
   "cell_type": "markdown",
   "id": "63ff2661-6363-4f4a-ae53-31061994bbcf",
   "metadata": {
    "tags": []
   },
   "source": [
    "Parameters\n",
    "----------\n",
    "- filename\n",
    "    - A string defining the target filename path.\n",
    "- content_type\n",
    "    - A string defining the file content in MIME type\n",
    "- file\n",
    "    - A file-like object using \"rb\" mode --> open(filename, \"rb\").\n",
    "- metadata_filename\n",
    "    - When file is not None, the filename (string) to store in element metadata. E.g. \"foo.txt\"\n",
    "- url\n",
    "    - The url for a remote document. Pass in content_type if you want partition to treat the document as a specific content_type.\n",
    "- include_page_breaks\n",
    "    - If True, the output will include page breaks if the filetype supports it\n",
    "- strategy\n",
    "    - The strategy to use for partitioning PDF/image. Uses a layout detection model if set to 'hi_res', otherwise partition simply extracts the text from the document and processes it.\n",
    "- encoding\n",
    "    - The encoding method used to decode the text input. If None, utf-8 will be used.\n",
    "- headers\n",
    "    - The headers to be used in conjunction with the HTTP request if URL is set.\n",
    "- skip_infer_table_types\n",
    "    - The document types that you want to skip table extraction with.\n",
    "- ssl_verify\n",
    "    - If the URL parameter is set, determines whether or not partition uses SSL verification in the HTTP request.\n",
    "- languages\n",
    "    - The languages present in the document, for use in partitioning and/or OCR. For partitioning <BR>\n",
    "    image or pdf documents with Tesseract, you'll first need to install the appropriate <BR>\n",
    "    Tesseract language pack. For other partitions, language is detected using naive Bayesian <BR>\n",
    "    filter via `langdetect`. Multiple languages indicates text could be in either language. <BR>\n",
    "    Additional Parameters: <BR>\n",
    "        - detect_language_per_element <BR>\n",
    "            - Detect language per element instead of at the document level.\n",
    "    \n",
    "- pdf_infer_table_structure\n",
    "    - If True and strategy=hi_res, any Table Elements extracted from a PDF will include an\n",
    "    additional metadata field, \"text_as_html,\" where the value (string) is a just a\n",
    "    transformation of the data into an HTML <table>.\n",
    "    The \"text\" field for a partitioned Table Element is always present, whether True or False.\n",
    "- extract_images_in_pdf\n",
    "    - Only applicable if `strategy=hi_res`.\n",
    "    If True, any detected images will be saved in the path specified by\n",
    "    'extract_image_block_output_dir' or stored as base64 encoded data within metadata fields.\n",
    "    Deprecation Note: This parameter is marked for deprecation. Future versions will use\n",
    "    'extract_image_block_types' for broader extraction capabilities.\n",
    "- extract_image_block_types\n",
    "    - Only applicable if `strategy=hi_res`.\n",
    "    Images of the element type(s) specified in this list (e.g., [\"Image\", \"Table\"]) will be\n",
    "    saved in the path specified by 'extract_image_block_output_dir' or stored as base64\n",
    "    encoded data within metadata fields.\n",
    "- extract_image_block_to_payload\n",
    "    - Only applicable if `strategy=hi_res`.\n",
    "    If True, images of the element type(s) defined in 'extract_image_block_types' will be\n",
    "    encoded as base64 data and stored in two metadata fields: 'image_base64' and\n",
    "    'image_mime_type'.\n",
    "    This parameter facilitates the inclusion of element data directly within the payload,\n",
    "    especially for web-based applications or APIs.\n",
    "- extract_image_block_output_dir\n",
    "    - Only applicable if `strategy=hi_res` and `extract_image_block_to_payload=False`.\n",
    "    The filesystem path for saving images of the element type(s)\n",
    "    specified in 'extract_image_block_types'.\n",
    "- xml_keep_tags\n",
    "    - If True, will retain the XML tags in the output. Otherwise it will simply extract\n",
    "    the text from within the tags. Only applies to partition_xml.\n",
    "- request_timeout\n",
    "    - The timeout for the HTTP request if URL is set. Defaults to None meaning no timeout and\n",
    "    requests will block indefinitely.\n",
    "- hi_res_model_name\n",
    "    - The layout detection model used when partitioning strategy is set to `hi_res`.\n",
    "- model_name\n",
    "    - The layout detection model used when partitioning strategy is set to `hi_res`. To be\n",
    "    deprecated in favor of `hi_res_model_name`."
   ]
  },
  {
   "cell_type": "code",
   "execution_count": 29,
   "id": "7ab8820a-1906-41c3-a457-1bafe59eac49",
   "metadata": {
    "tags": []
   },
   "outputs": [],
   "source": [
    "image_path = \"./fig\"\n",
    "if os.path.isdir(image_path): shutil.rmtree(image_path)\n",
    "\n",
    "loader = UnstructuredFileLoader(\n",
    "    #file_path=\"./data/complex_pdf/sample.pdf\",\n",
    "    file_path=\"./data/complex_pdf/l-test.pdf\",\n",
    "    #file_path=\"./data/complex_pdf/safety-administrator-job-manual.pdf\",\n",
    "\n",
    "    chunking_strategy = \"by_title\",\n",
    "    mode=\"elements\",\n",
    "\n",
    "    strategy=\"hi_res\",\n",
    "    hi_res_model_name=\"yolox\", #\"detectron2_onnx\", \"yolox\", \"yolox_quantized\"\n",
    "\n",
    "    extract_images_in_pdf=True,\n",
    "    #skip_infer_table_types='[]', # ['pdf', 'jpg', 'png', 'xls', 'xlsx', 'heic']\n",
    "    pdf_infer_table_structure=True, ## enable to get table as html using tabletrasformer\n",
    "\n",
    "    extract_image_block_output_dir=image_path,\n",
    "    extract_image_block_to_payload=False, ## False: to save image\n",
    "    \n",
    "    max_characters=4000,\n",
    "    new_after_n_chars=3800,\n",
    "    combine_text_under_n_chars=2000,\n",
    "    \n",
    "    languages= [\"kor+eng\"],\n",
    "\n",
    "    post_processors=[clean_bullets, clean_extra_whitespace]\n",
    ")"
   ]
  },
  {
   "cell_type": "code",
   "execution_count": 30,
   "id": "f320a808-c49a-47d3-bb45-4e96ae690606",
   "metadata": {
    "tags": []
   },
   "outputs": [
    {
     "name": "stderr",
     "output_type": "stream",
     "text": [
      "Conflict between variables skip_infer_table_types: ['pdf', 'jpg', 'png', 'xls', 'xlsx', 'heic'] and pdf_infer_table_structure: True, please reset skip_infer_table_types to turn on table extraction for PDFs.\n"
     ]
    },
    {
     "name": "stdout",
     "output_type": "stream",
     "text": [
      "CPU times: user 6.28 s, sys: 376 ms, total: 6.66 s\n",
      "Wall time: 9.43 s\n"
     ]
    }
   ],
   "source": [
    "%%time\n",
    "docs = loader.load()"
   ]
  },
  {
   "cell_type": "code",
   "execution_count": 31,
   "id": "e3ae854b-f608-4c7e-8539-296541f1ea68",
   "metadata": {
    "tags": []
   },
   "outputs": [
    {
     "name": "stdout",
     "output_type": "stream",
     "text": [
      " # texts: 2 \n",
      " # tables: 1 \n",
      " # images: 2\n"
     ]
    }
   ],
   "source": [
    "tables, texts = [], []\n",
    "\n",
    "for doc in docs:\n",
    "\n",
    "    category = doc.metadata[\"category\"]\n",
    "\n",
    "    if category == \"Table\": tables.append(doc)\n",
    "    elif category == \"Image\": images.append(doc)\n",
    "    else: texts.append(doc)\n",
    "\n",
    "images = glob(os.path.join(image_path, \"*\"))\n",
    "\n",
    "print (f' # texts: {len(texts)} \\n # tables: {len(tables)} \\n # images: {len(images)}')"
   ]
  },
  {
   "cell_type": "code",
   "execution_count": 33,
   "id": "935ef583-ba7f-4220-bf17-21b44478117b",
   "metadata": {
    "collapsed": true,
    "jupyter": {
     "outputs_hidden": true
    },
    "tags": []
   },
   "outputs": [
    {
     "data": {
      "text/plain": [
       "[Document(page_content='당분기 (2023.3.31) 전년동기 (2022.3.31) 구 분 금 액 구성비 금 액 구성비 현금 및 예치금 24,644 0.93 25,948 0.93 당기손익-공정가치측정유가증권 116,339 4.38 0 0.00 당기손익인식금융자산 0 0.00 13,929 0.50 기타포괄손익-공정가치측정유가증권 1,555,915 58.59 0 0.00 매도가능금융자산 0 0.00 1,792,754 64.55 만기보유금융자산 0 0.00 2,429 0.09 상각후원가측정유가증권 0 0.00 0 0.00 관계∙종속기업투자주식 135,622 5.11 99,576 3.59 대출채권 482,281 18.16 483,311 17.40 부동산 37,810 1.42 38,847 1.39 비운용자산 32,583 1.23 26,012 0.94 특별계정자산 270,406 10.18 294,570 10.61 자산총계 2,655,600 100.00 2,777,376 100.00 책임준비금 1,861,534 80.27 1,693,867 69.03 계약자지분조정 67,029 2.89 95,989 3.91 기타부채 120,139 5.18 369,418 15.06 특별계정부채 270,427 11.66 294,325 12.00 부채총계 2,319,129 100.00 2,453,599 100.00 자본총계 336,471 323,777 부채 및 자본총계 2,655,600 2,777,376', metadata={'source': './data/complex_pdf/l-test.pdf', 'detection_class_prob': 0.915132999420166, 'coordinates': {'points': ((200.8492889404297, 374.9202575683594), (200.8492889404297, 1957.1298828125), (1554.8375244140625, 1957.1298828125), (1554.8375244140625, 374.9202575683594)), 'system': 'PixelSpace', 'layout_width': 1654, 'layout_height': 2339}, 'last_modified': '2024-03-25T04:44:29', 'text_as_html': '<table><thead><th rowspan=\"2\"></th><th colspan=\"2\">당 분 기 (2023.3.31)</th><th colspan=\"2\">전 년 동? (2022.3.31)</th></thead><thead><th></th><th>금액</th><th>구성비</th><th></th><th>구성비</th></thead><tr><td></td><td>24,644</td><td>0.93</td><td></td><td></td></tr><tr><td></td><td>116,339</td><td>4.38</td><td></td><td></td></tr><tr><td></td><td>0</td><td>0.00</td><td>13,929</td><td></td></tr><tr><td></td><td>1,555,915</td><td>58.59</td><td>0</td><td></td></tr><tr><td></td><td>0</td><td>0.00</td><td>1,792,754</td><td></td></tr><tr><td></td><td>0</td><td>0.00</td><td>2,429</td><td></td></tr><tr><td></td><td>0</td><td>0.00</td><td>0</td><td>0.00</td></tr><tr><td></td><td>135,622</td><td>5.1</td><td>99,576</td><td>3.59</td></tr><tr><td></td><td>482,281</td><td>18.16</td><td>483,311</td><td>17.40</td></tr><tr><td></td><td>37,810</td><td>1.42</td><td>38,847</td><td></td></tr><tr><td rowspan=\"2\"></td><td>32,583</td><td>123</td><td>26,012</td><td></td></tr><tr><td></td><td>270,406</td><td>10.18</td><td>294,570</td><td>10.61</td></tr><tr><td></td><td>2,655,600</td><td>100.00</td><td>2,777,376</td><td>100.00</td></tr><tr><td rowspan=\"7\">채 이 즈 너 | 그 책 임 준비금 계 약 자 지 분 조정 부채 및 자 본 총계</td><td></td><td>1,861,534</td><td>80.27</td><td>1,693,867</td><td>69.03</td></tr><tr><td>67,029</td><td>2.89</td><td>95,989</td><td></td></tr><tr><td></td><td>120,139</td><td>5.18</td><td>369,418</td><td>15.06</td></tr><tr><td></td><td>270,427</td><td>11.66</td><td>294,325</td><td>12.00</td></tr><tr><td></td><td>2,319,129</td><td>100.00</td><td>2,453,599</td><td>100.00</td></tr><tr><td></td><td>336,471</td><td></td><td>323,777</td><td></td></tr><tr><td></td><td>2,655,600</td><td></td><td>2,777,376</td><td></td></tr></table>', 'filetype': 'application/pdf', 'languages': ['kor', 'eng'], 'page_number': 1, 'file_directory': './data/complex_pdf', 'filename': 'l-test.pdf', 'category': 'Table'})]"
      ]
     },
     "execution_count": 33,
     "metadata": {},
     "output_type": "execute_result"
    }
   ],
   "source": [
    "tables"
   ]
  },
  {
   "cell_type": "markdown",
   "id": "fb16fd2a-1983-462d-94d8-4c62e81ef28c",
   "metadata": {
    "tags": []
   },
   "source": [
    "### Summarization of table and image\n",
    "- BedrockChat with claude3: https://medium.com/@dminhk/building-with-anthropics-claude-3-on-amazon-bedrock-and-langchain-%EF%B8%8F-2b842f9c0ca8"
   ]
  },
  {
   "cell_type": "code",
   "execution_count": null,
   "id": "dca57b50-b89e-4146-912c-a4fcc75168ee",
   "metadata": {
    "tags": []
   },
   "outputs": [],
   "source": [
    "from langchain.schema import Document\n",
    "from langchain_core.messages import HumanMessage\n",
    "from langchain.schema.output_parser import StrOutputParser\n",
    "from langchain_core.prompts import ChatPromptTemplate, HumanMessagePromptTemplate, SystemMessagePromptTemplate"
   ]
  },
  {
   "cell_type": "code",
   "execution_count": null,
   "id": "5a6631c9-07cc-4475-9154-22400e59f4ef",
   "metadata": {
    "tags": []
   },
   "outputs": [],
   "source": [
    "system_prompt = \"You are an assistant tasked with describing table and image.\"\n",
    "system_message_template = SystemMessagePromptTemplate.from_template(system_prompt)"
   ]
  },
  {
   "cell_type": "markdown",
   "id": "c1368851-8a18-4b1c-8136-15eabc193298",
   "metadata": {},
   "source": [
    "### For images"
   ]
  },
  {
   "cell_type": "code",
   "execution_count": null,
   "id": "680fc345-fa61-4635-bb8b-0ea724016cac",
   "metadata": {
    "tags": []
   },
   "outputs": [],
   "source": [
    "import base64\n",
    "from PIL import Image\n",
    "from io import BytesIO\n",
    "import matplotlib.pyplot as plt"
   ]
  },
  {
   "cell_type": "code",
   "execution_count": null,
   "id": "eb17b665-25cf-4bed-820e-2f8e716c15bf",
   "metadata": {
    "tags": []
   },
   "outputs": [],
   "source": [
    "def image_to_base64(image_path):\n",
    "    \n",
    "    with open(image_path, \"rb\") as image_file:\n",
    "        encoded_string = base64.b64encode(image_file.read())\n",
    "        \n",
    "    return encoded_string.decode('utf-8')"
   ]
  },
  {
   "cell_type": "code",
   "execution_count": null,
   "id": "12fecb7f-cd5c-45a8-937c-97a73cf02b96",
   "metadata": {
    "tags": []
   },
   "outputs": [],
   "source": [
    "human_prompt = [\n",
    "    {\n",
    "        \"type\": \"image_url\",\n",
    "        \"image_url\": {\n",
    "            \"url\": \"data:image/png;base64,\" + \"{image_base64}\",\n",
    "        },\n",
    "    },\n",
    "    {\n",
    "        \"type\": \"text\",\n",
    "        \"text\": '''\n",
    "                 Given image, give a concise summary.\n",
    "                 Don't insert any XML tag such as <text> and </text> when answering.\n",
    "                 Write in Korean.\n",
    "        '''\n",
    "    },\n",
    "]\n",
    "human_message_template = HumanMessagePromptTemplate.from_template(human_prompt)"
   ]
  },
  {
   "cell_type": "code",
   "execution_count": null,
   "id": "4a21f1d9-2fee-47b9-a28a-cd48727e98a1",
   "metadata": {
    "tags": []
   },
   "outputs": [],
   "source": [
    "prompt = ChatPromptTemplate.from_messages(\n",
    "    [\n",
    "        system_message_template,\n",
    "        human_message_template\n",
    "    ]\n",
    ")\n",
    "\n",
    "#summarize_chain = prompt | llm_text | StrOutputParser()\n",
    "summarize_chain = {\"image_base64\": lambda x:x} | prompt | llm_text | StrOutputParser()"
   ]
  },
  {
   "cell_type": "code",
   "execution_count": null,
   "id": "40b847d9-1bb0-41be-a8fd-c1d8cf926a79",
   "metadata": {
    "tags": []
   },
   "outputs": [],
   "source": [
    "img_info = [image_to_base64(img_path) for img_path in images]"
   ]
  },
  {
   "cell_type": "code",
   "execution_count": null,
   "id": "9e3537a4-dfc2-4645-9431-fa5949d8861f",
   "metadata": {
    "tags": []
   },
   "outputs": [],
   "source": [
    "image_summaries = summarize_chain.batch(img_info, config={\"max_concurrency\": 1})"
   ]
  },
  {
   "cell_type": "code",
   "execution_count": null,
   "id": "03a4109e-3510-4924-9398-c8f1b4ba9148",
   "metadata": {
    "tags": []
   },
   "outputs": [],
   "source": [
    "verbose = True\n",
    "if verbose:\n",
    "    for img_base64, summary in zip(img_info, image_summaries):\n",
    "        \n",
    "        print (\"============================\")\n",
    "        img = Image.open(BytesIO(base64.b64decode(img_base64)))\n",
    "        plt.imshow(img)\n",
    "        plt.show()\n",
    "        \n",
    "        print (f'Summary: {summary}')"
   ]
  },
  {
   "cell_type": "markdown",
   "id": "18256cfd-9cf8-4e92-a2ae-c9b921db773c",
   "metadata": {},
   "source": [
    "`요약`된 내용을 Document의 `page_content`로, `OCR`결과는 metadata의 `origin_image`로 사용"
   ]
  },
  {
   "cell_type": "code",
   "execution_count": null,
   "id": "22f4e057-b74a-4cf2-bcbd-ad0cc4d70638",
   "metadata": {
    "tags": []
   },
   "outputs": [],
   "source": [
    "images_preprocessed = []\n",
    "\n",
    "for img_path, image_base64, summary in zip(images, img_info, image_summaries):\n",
    "    \n",
    "    metadata = {}\n",
    "    metadata[\"img_path\"] = img_path\n",
    "    metadata[\"category\"] = \"Image\"\n",
    "    metadata[\"image_base64\"] = image_base64\n",
    "    \n",
    "    doc = Document(\n",
    "        page_content=summary,\n",
    "        metadata=metadata\n",
    "    )\n",
    "    images_preprocessed.append(doc)"
   ]
  },
  {
   "cell_type": "markdown",
   "id": "ded6c937-5a11-4907-b5bb-bee6ad0486a7",
   "metadata": {},
   "source": [
    "### For tables"
   ]
  },
  {
   "cell_type": "code",
   "execution_count": null,
   "id": "001cd053-ef1e-41f7-ac42-868b4d28cd8c",
   "metadata": {
    "tags": []
   },
   "outputs": [],
   "source": [
    "human_prompt = [\n",
    "    {\n",
    "        \"type\": \"text\",\n",
    "        \"text\": '''\n",
    "                 Here is the table: <table>{table}</table>\n",
    "                 Given table, give a concise summary.\n",
    "                 Don't insert any XML tag such as <table> and </table> when answering.\n",
    "                 Write in Korean.\n",
    "        '''\n",
    "    },\n",
    "]\n",
    "human_message_template = HumanMessagePromptTemplate.from_template(human_prompt)"
   ]
  },
  {
   "cell_type": "code",
   "execution_count": null,
   "id": "45cc06b5-2c72-4b21-bf1b-b467ee2816b9",
   "metadata": {
    "tags": []
   },
   "outputs": [],
   "source": [
    "prompt = ChatPromptTemplate.from_messages(\n",
    "    [\n",
    "        system_message_template,\n",
    "        human_message_template\n",
    "    ]\n",
    ")\n",
    "\n",
    "#summarize_chain = prompt | llm_text | StrOutputParser()\n",
    "summarize_chain = {\"table\": lambda x:x} | prompt | llm_text | StrOutputParser()"
   ]
  },
  {
   "cell_type": "code",
   "execution_count": null,
   "id": "feb76e1e-bafc-424d-8375-67cdc37fd5e2",
   "metadata": {
    "tags": []
   },
   "outputs": [],
   "source": [
    "table_info = [t.page_content for t in tables]\n",
    "table_summaries = summarize_chain.batch(table_info, config={\"max_concurrency\": 1})"
   ]
  },
  {
   "cell_type": "code",
   "execution_count": null,
   "id": "92babfff-d9d5-4de5-a3f6-cd4bab5ed336",
   "metadata": {
    "tags": []
   },
   "outputs": [],
   "source": [
    "verbose = True\n",
    "if verbose:\n",
    "    for table, summary in zip(table_info, table_summaries):\n",
    "        \n",
    "        print (\"============================\")\n",
    "        print (f'table: {table}')\n",
    "        print (\"----------------------------\")\n",
    "        print (f'Summary: {summary}')\n",
    "        "
   ]
  },
  {
   "cell_type": "markdown",
   "id": "af085260-0ff9-45dd-8c0f-8c2993ae5018",
   "metadata": {},
   "source": [
    "`요약`된 내용을 Document의 `page_content`로, `parsed table`은 metadata의 `origin_table`로 사용"
   ]
  },
  {
   "cell_type": "code",
   "execution_count": null,
   "id": "b8c733fd-0274-41bb-868d-832c797aff7b",
   "metadata": {
    "tags": []
   },
   "outputs": [],
   "source": [
    "tables_preprocessed = []\n",
    "\n",
    "for origin, summary in zip(tables, table_summaries):\n",
    "    metadata = origin.metadata\n",
    "    metadata[\"origin_table\"] = origin.page_content\n",
    "    doc = Document(\n",
    "        page_content=summary,\n",
    "        metadata=metadata\n",
    "    )\n",
    "    tables_preprocessed.append(doc)"
   ]
  },
  {
   "cell_type": "code",
   "execution_count": null,
   "id": "9ce058a3-bb7d-491c-8c12-6bbe5dade0be",
   "metadata": {
    "tags": []
   },
   "outputs": [],
   "source": [
    "tables_preprocessed"
   ]
  },
  {
   "cell_type": "markdown",
   "id": "fa0d7f61-24fa-47c2-b788-15c1c25fa1d1",
   "metadata": {},
   "source": [
    "### Text Spliter 로 청킹\n",
    "참고: 검색된 문서/텍스트는 질문에 대답하기에 충분한 정보를 포함할 만큼 커야 합니다. 하지만 LLM 프롬프트에 들어갈 만큼 충분히 작습니다. <BR>\n",
    "또한 임베딩 모델에는 입력 토큰 길이는 KoSimCSERobert는 512개, titanEmbedding(8,912개) 토큰으로 제한되어 있습니다. <BR>\n",
    "이 사용 사례를 위해 [RecursiveCharacterTextSplitter](https://python.langchain.com/en/latest/modules/indexes/text_splitters/examples/recursive_text_splitter.html)를 사용하여 500자가 겹치는 약 92자의 청크를 생성합니다."
   ]
  },
  {
   "cell_type": "code",
   "execution_count": null,
   "id": "40b0d8b7-e7e7-4ff8-b938-4fa53982ef88",
   "metadata": {
    "tags": []
   },
   "outputs": [],
   "source": [
    "from langchain.text_splitter import RecursiveCharacterTextSplitter"
   ]
  },
  {
   "cell_type": "code",
   "execution_count": null,
   "id": "dbcb6942-ec70-48ba-9c87-08d99dd7f177",
   "metadata": {
    "tags": []
   },
   "outputs": [],
   "source": [
    "chunk_size = 1024\n",
    "chunk_overlap = 50\n",
    "\n",
    "text_splitter = RecursiveCharacterTextSplitter(\n",
    "    # Set a really small chunk size, just to show.\n",
    "    chunk_size=chunk_size,\n",
    "    chunk_overlap=chunk_overlap,\n",
    "    separators=[\"\\n\\n\", \"\\n\", \".\", \" \", \"\"],\n",
    "    length_function=len,\n",
    ")\n",
    "\n",
    "texts_preprocessed = text_splitter.split_documents(texts)\n",
    "print(f\"Number of documents after split and chunking={len(texts_preprocessed)}\")"
   ]
  },
  {
   "cell_type": "markdown",
   "id": "e527c549-2f46-4037-902c-d3946d7076e8",
   "metadata": {},
   "source": [
    "### Merge text, table and image"
   ]
  },
  {
   "cell_type": "code",
   "execution_count": null,
   "id": "7a9e8c11-460a-4b3f-820e-0e31b6409ccb",
   "metadata": {
    "tags": []
   },
   "outputs": [],
   "source": [
    "from itertools import chain"
   ]
  },
  {
   "cell_type": "code",
   "execution_count": null,
   "id": "17a20338-f1be-4bff-aac7-840778a5a34c",
   "metadata": {
    "tags": []
   },
   "outputs": [],
   "source": [
    "docs_preprocessed = list(chain(texts_preprocessed, tables_preprocessed, images_preprocessed))"
   ]
  },
  {
   "cell_type": "code",
   "execution_count": null,
   "id": "58eb4c3e-d4f4-4dde-b38b-e154ed413e40",
   "metadata": {
    "tags": []
   },
   "outputs": [],
   "source": [
    "docs_preprocessed"
   ]
  },
  {
   "cell_type": "markdown",
   "id": "f41fbd15-2a30-4096-8916-d03d15ca4fb6",
   "metadata": {},
   "source": [
    "## 4. Index 생성"
   ]
  },
  {
   "cell_type": "markdown",
   "id": "5a8d684e-0963-4f85-a725-42842eb9d46e",
   "metadata": {},
   "source": [
    "### Index 이름 결정"
   ]
  },
  {
   "cell_type": "code",
   "execution_count": null,
   "id": "1079275c-6262-44bb-8bc6-0efffff1620b",
   "metadata": {
    "tags": []
   },
   "outputs": [],
   "source": [
    "import boto3\n",
    "from utils.ssm import parameter_store"
   ]
  },
  {
   "cell_type": "code",
   "execution_count": null,
   "id": "2ed6173a-8a43-49a8-945d-dbc6014a485b",
   "metadata": {
    "tags": []
   },
   "outputs": [],
   "source": [
    "region=boto3.Session().region_name\n",
    "pm = parameter_store(region)"
   ]
  },
  {
   "cell_type": "code",
   "execution_count": null,
   "id": "0657be39-a01d-4fe8-a6d8-d4bc3334ea6e",
   "metadata": {
    "tags": []
   },
   "outputs": [],
   "source": [
    "index_name = \"kb_complex_pdf\""
   ]
  },
  {
   "cell_type": "code",
   "execution_count": null,
   "id": "d40c8b5d-92a7-4400-a579-699e482cb68c",
   "metadata": {
    "tags": []
   },
   "outputs": [],
   "source": [
    "pm.put_params(\n",
    "    key=\"opensearch_index_name\",\n",
    "    value=f'{index_name}',\n",
    "    overwrite=True,\n",
    "    enc=False\n",
    ")"
   ]
  },
  {
   "cell_type": "markdown",
   "id": "32323202-e3a9-45ed-820c-a7d1087ff2e3",
   "metadata": {},
   "source": [
    "### Index 스키마 정의"
   ]
  },
  {
   "cell_type": "code",
   "execution_count": null,
   "id": "aa45ec52-8aff-4513-bc17-2f613b38910c",
   "metadata": {
    "tags": []
   },
   "outputs": [],
   "source": [
    "index_body = {\n",
    "    'settings': {\n",
    "        'analysis': {\n",
    "            'analyzer': {\n",
    "                'my_analyzer': {\n",
    "                         'char_filter':['html_strip'],\n",
    "                    'tokenizer': 'nori',\n",
    "                    'filter': [\n",
    "                        #'nori_number',\n",
    "                        #'lowercase',\n",
    "                        #'trim',\n",
    "                        'my_nori_part_of_speech'\n",
    "                    ],\n",
    "                    'type': 'custom'\n",
    "                }\n",
    "            },\n",
    "            'tokenizer': {\n",
    "                'nori': {\n",
    "                    'decompound_mode': 'mixed',\n",
    "                    'discard_punctuation': 'true',\n",
    "                    'type': 'nori_tokenizer'\n",
    "                }\n",
    "            },\n",
    "            \"filter\": {\n",
    "                \"my_nori_part_of_speech\": {\n",
    "                    \"type\": \"nori_part_of_speech\",\n",
    "                    \"stoptags\": [\n",
    "                        \"J\", \"XSV\", \"E\", \"IC\",\"MAJ\",\"NNB\",\n",
    "                        \"SP\", \"SSC\", \"SSO\",\n",
    "                        \"SC\",\"SE\",\"XSN\",\"XSV\",\n",
    "                        \"UNA\",\"NA\",\"VCP\",\"VSV\",\n",
    "                        \"VX\"\n",
    "                    ]\n",
    "                }\n",
    "            }\n",
    "        },\n",
    "        'index': {\n",
    "            'knn': True,\n",
    "            'knn.space_type': 'cosinesimil'  # Example space type\n",
    "        }\n",
    "    },\n",
    "    'mappings': {\n",
    "        'properties': {\n",
    "            'metadata': {\n",
    "                'properties': {\n",
    "                    'source': {'type': 'keyword'},\n",
    "                    'page_number': {'type':'long'},\n",
    "                    'category': {'type':'text'},\n",
    "                    'file_directory': {'type':'text'},\n",
    "                    'last_modified': {'type': 'text'},\n",
    "                    'type': {'type': 'keyword'},\n",
    "                    'image_base64': {'type':'text'},\n",
    "                    'origin_image': {'type':'text'},\n",
    "                    'origin_table': {'type':'text'},\n",
    "                }\n",
    "            },\n",
    "            'text': {\n",
    "                'analyzer': 'my_analyzer',\n",
    "                'search_analyzer': 'my_analyzer',\n",
    "                'type': 'text'\n",
    "            },\n",
    "            'vector_field': {\n",
    "                'type': 'knn_vector',\n",
    "                'dimension': f\"{dimension}\" # Replace with your vector dimension\n",
    "            }\n",
    "        }\n",
    "    }\n",
    "}\n"
   ]
  },
  {
   "cell_type": "markdown",
   "id": "679edbbd-44ca-4264-a4db-0ec489c58264",
   "metadata": {},
   "source": [
    "## 5. LangChain OpenSearch VectorStore 생성 \n",
    "### 선수 조건"
   ]
  },
  {
   "cell_type": "markdown",
   "id": "2ae8dd80-daf4-4e81-810b-b9e2f6611605",
   "metadata": {},
   "source": [
    "#### [중요] 아래에 aws parameter store 에 아래 인증정보가 먼저 입력되어 있어야 합니다."
   ]
  },
  {
   "cell_type": "code",
   "execution_count": null,
   "id": "fb47bf94-4bf9-4152-85f0-4babcb03edbb",
   "metadata": {
    "tags": []
   },
   "outputs": [],
   "source": [
    "opensearch_domain_endpoint = pm.get_params(\n",
    "    key=\"opensearch_domain_endpoint\",\n",
    "    enc=False\n",
    ")\n",
    "\n",
    "opensearch_user_id = pm.get_params(\n",
    "    key=\"opensearch_user_id\",\n",
    "    enc=False\n",
    ")\n",
    "\n",
    "opensearch_user_password = pm.get_params(\n",
    "    key=\"opensearch_user_password\",\n",
    "    enc=True\n",
    ")"
   ]
  },
  {
   "cell_type": "code",
   "execution_count": null,
   "id": "2319184c-4531-42c9-b400-77f53de071da",
   "metadata": {
    "tags": []
   },
   "outputs": [],
   "source": [
    "opensearch_domain_endpoint = opensearch_domain_endpoint\n",
    "rag_user_name = opensearch_user_id\n",
    "rag_user_password = opensearch_user_password\n",
    "\n",
    "http_auth = (rag_user_name, rag_user_password) # Master username, Master password"
   ]
  },
  {
   "cell_type": "markdown",
   "id": "f42526e7-d010-4e06-b158-3c86f9ea45e9",
   "metadata": {},
   "source": [
    "### OpenSearch Client 생성"
   ]
  },
  {
   "cell_type": "code",
   "execution_count": null,
   "id": "41c3846a-ae55-45bd-98ac-f9280dda4409",
   "metadata": {
    "tags": []
   },
   "outputs": [],
   "source": [
    "from utils.opensearch import opensearch_utils"
   ]
  },
  {
   "cell_type": "code",
   "execution_count": null,
   "id": "c4b0fd7c-5fe2-42c6-bf58-f41930c37c0a",
   "metadata": {
    "tags": []
   },
   "outputs": [],
   "source": [
    "aws_region = os.environ.get(\"AWS_DEFAULT_REGION\", None)\n",
    "\n",
    "os_client = opensearch_utils.create_aws_opensearch_client(\n",
    "    aws_region,\n",
    "    opensearch_domain_endpoint,\n",
    "    http_auth\n",
    ")"
   ]
  },
  {
   "cell_type": "markdown",
   "id": "f824d282-507e-44c9-bb02-a8978ae2d110",
   "metadata": {
    "tags": []
   },
   "source": [
    "### 오픈 서치 인덱스 생성 \n",
    "- 오픈 서치에 해당 인덱스가 존재하면, 삭제 합니다. "
   ]
  },
  {
   "cell_type": "code",
   "execution_count": null,
   "id": "a9429551-11f9-41e8-8c28-8e743bc308dc",
   "metadata": {
    "tags": []
   },
   "outputs": [],
   "source": [
    "index_exists = opensearch_utils.check_if_index_exists(\n",
    "    os_client,\n",
    "    index_name\n",
    ")\n",
    "\n",
    "if index_exists:\n",
    "    opensearch_utils.delete_index(\n",
    "        os_client,\n",
    "        index_name\n",
    "    )\n",
    "\n",
    "opensearch_utils.create_index(os_client, index_name, index_body)\n",
    "index_info = os_client.indices.get(index=index_name)\n",
    "print(\"Index is created\")\n",
    "pprint(index_info)"
   ]
  },
  {
   "cell_type": "markdown",
   "id": "233327e3-6c4b-43cb-a5dc-65caca085355",
   "metadata": {},
   "source": [
    "### 랭체인 인덱스 연결 오브젝트 생성\n",
    "\n",
    "- [langchain.vectorstores.opensearch_vector_search.OpenSearchVectorSearch](https://api.python.langchain.com/en/latest/vectorstores/langchain.vectorstores.opensearch_vector_search.OpenSearchVectorSearch.html)"
   ]
  },
  {
   "cell_type": "code",
   "execution_count": null,
   "id": "a29a80eb-eb52-458b-b37d-39214937c188",
   "metadata": {
    "tags": []
   },
   "outputs": [],
   "source": [
    "from langchain.vectorstores import OpenSearchVectorSearch"
   ]
  },
  {
   "cell_type": "code",
   "execution_count": null,
   "id": "8c5ee773-6952-4d9d-baef-bb11491df90f",
   "metadata": {
    "tags": []
   },
   "outputs": [],
   "source": [
    "vector_db = OpenSearchVectorSearch(\n",
    "    index_name=index_name,\n",
    "    opensearch_url=opensearch_domain_endpoint,\n",
    "    embedding_function=llm_emb,\n",
    "    http_auth=http_auth, # http_auth\n",
    "    is_aoss=False,\n",
    "    engine=\"faiss\",\n",
    "    space_type=\"l2\",\n",
    "    bulk_size=100000,\n",
    "    timeout=60\n",
    ")\n",
    "vector_db"
   ]
  },
  {
   "cell_type": "markdown",
   "id": "0bc2a7f5-cf8e-4eae-acf8-d5d01b04ee98",
   "metadata": {},
   "source": [
    "### OpenSearch 에 문서 삽입"
   ]
  },
  {
   "cell_type": "code",
   "execution_count": null,
   "id": "eb83e4ee-bdd1-44b9-8beb-337962711c19",
   "metadata": {
    "tags": []
   },
   "outputs": [],
   "source": [
    "%%time\n",
    "\n",
    "vector_db.add_documents(\n",
    "    documents = docs_preprocessed, \n",
    "    vector_field = \"vector_field\",\n",
    "    bulk_size = 1000000\n",
    ")"
   ]
  },
  {
   "cell_type": "markdown",
   "id": "0c4223fa-ca44-4197-a1cd-2a76151df2be",
   "metadata": {},
   "source": [
    "## 6. 검색 테스트"
   ]
  },
  {
   "cell_type": "code",
   "execution_count": null,
   "id": "4fdb6e42-506d-4152-949e-cb9e8abf9b53",
   "metadata": {
    "tags": []
   },
   "outputs": [],
   "source": [
    "from utils.rag import qa_chain\n",
    "from utils.rag import prompt_repo, show_context_used\n",
    "from langchain.callbacks.tracers import ConsoleCallbackHandler\n",
    "from utils.rag import retriever_utils, OpenSearchHybridSearchRetriever"
   ]
  },
  {
   "cell_type": "code",
   "execution_count": null,
   "id": "8421e6fd-6070-4009-8138-59e8331d9946",
   "metadata": {
    "tags": []
   },
   "outputs": [],
   "source": [
    "opensearch_hybrid_retriever = OpenSearchHybridSearchRetriever(\n",
    "    os_client=os_client,\n",
    "    index_name=index_name,\n",
    "    llm_text=llm_text, # llm for query augmentation in both rag_fusion and HyDE\n",
    "    llm_emb=llm_emb, # Used in semantic search based on opensearch \n",
    "\n",
    "    # option for lexical\n",
    "    minimum_should_match=0,\n",
    "    filter=[],\n",
    "\n",
    "    # option for search\n",
    "    fusion_algorithm=\"RRF\", # [\"RRF\", \"simple_weighted\"], rank fusion 방식 정의\n",
    "    ensemble_weights=[.51, .49], # [for semantic, for lexical], Semantic, Lexical search 결과에 대한 최종 반영 비율 정의\n",
    "    reranker=False, # enable reranker with reranker model\n",
    "    #reranker_endpoint_name=endpoint_name, # endpoint name for reranking model\n",
    "    parent_document = False, # enable parent document\n",
    "    \n",
    "    # option for complex pdf consisting of text, table and image\n",
    "    complex_pdf=True,\n",
    "    \n",
    "    # option for async search\n",
    "    async_mode=True,\n",
    "\n",
    "    # option for output\n",
    "    k=7, # 최종 Document 수 정의\n",
    "    verbose=False,\n",
    ")"
   ]
  },
  {
   "cell_type": "markdown",
   "id": "b6c9f5ca-08a2-4656-ba5b-0ead7565182d",
   "metadata": {},
   "source": [
    "### 하이브리드 검색"
   ]
  },
  {
   "cell_type": "code",
   "execution_count": null,
   "id": "0d68740c-2dc3-404c-a2e5-08f2e65481cd",
   "metadata": {
    "tags": []
   },
   "outputs": [],
   "source": [
    "%%time\n",
    "search_hybrid_result, tables, images = opensearch_hybrid_retriever.get_relevant_documents(query)\n",
    "#show_context_used(search_hybrid_result)"
   ]
  },
  {
   "cell_type": "code",
   "execution_count": null,
   "id": "2ae1553b-2f68-4cc8-940e-75f33fed0b6b",
   "metadata": {
    "tags": []
   },
   "outputs": [],
   "source": [
    "show_context_used(search_hybrid_result)"
   ]
  },
  {
   "cell_type": "code",
   "execution_count": null,
   "id": "a0917814-3c4a-49e9-858a-99a8111a45be",
   "metadata": {},
   "outputs": [],
   "source": []
  }
 ],
 "metadata": {
  "kernelspec": {
   "display_name": "conda_python3",
   "language": "python",
   "name": "conda_python3"
  },
  "language_info": {
   "codemirror_mode": {
    "name": "ipython",
    "version": 3
   },
   "file_extension": ".py",
   "mimetype": "text/x-python",
   "name": "python",
   "nbconvert_exporter": "python",
   "pygments_lexer": "ipython3",
   "version": "3.10.13"
  }
 },
 "nbformat": 4,
 "nbformat_minor": 5
}
