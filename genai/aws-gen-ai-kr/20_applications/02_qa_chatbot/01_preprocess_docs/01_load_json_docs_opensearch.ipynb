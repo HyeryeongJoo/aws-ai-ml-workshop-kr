{
 "cells": [
  {
   "cell_type": "markdown",
   "metadata": {
    "tags": []
   },
   "source": [
    "# Vector Store 구축 - V2- JSON\n",
    "\n",
    "---\n",
    "\n",
    "---"
   ]
  },
  {
   "cell_type": "markdown",
   "metadata": {
    "tags": []
   },
   "source": [
    "# 1. Bedrock Client 생성"
   ]
  },
  {
   "cell_type": "code",
   "execution_count": 10,
   "metadata": {
    "tags": []
   },
   "outputs": [
    {
     "name": "stdout",
     "output_type": "stream",
     "text": [
      "langchain                            0.0.335\n",
      "opensearch-py                        2.3.2\n",
      "pypdf                                3.17.0\n"
     ]
    }
   ],
   "source": [
    "! pip list | grep langchain # 0.0.312\n",
    "! pip list | grep opensearch # 2.3.2\n",
    "! pip list | grep pypdf"
   ]
  },
  {
   "cell_type": "code",
   "execution_count": 11,
   "metadata": {
    "tags": []
   },
   "outputs": [
    {
     "name": "stdout",
     "output_type": "stream",
     "text": [
      "The autoreload extension is already loaded. To reload it, use:\n",
      "  %reload_ext autoreload\n",
      "/root/aws-ai-ml-workshop-kr/genai/aws-gen-ai-kr/20_applications/02_qa_chatbot/01_preprocess_docs/utils\n"
     ]
    }
   ],
   "source": [
    "%load_ext autoreload\n",
    "%autoreload 2\n",
    "\n",
    "import sys, os\n",
    "# module_path = \"../../../utils\"\n",
    "# sys.path.append(os.path.abspath(module_path))\n",
    "# print(os.path.abspath(module_path))\n",
    "\n",
    "module_path = \"./utils\"\n",
    "sys.path.append(os.path.abspath(module_path))\n",
    "print(os.path.abspath(module_path))"
   ]
  },
  {
   "cell_type": "code",
   "execution_count": 12,
   "metadata": {
    "tags": []
   },
   "outputs": [
    {
     "name": "stdout",
     "output_type": "stream",
     "text": [
      "Create new client\n",
      "  Using region: us-east-1\n",
      "  Using profile: None\n",
      "boto3 Bedrock client successfully created!\n",
      "bedrock-runtime(https://bedrock-runtime.us-east-1.amazonaws.com)\n",
      "\n",
      "== FM lists ==\n",
      "{'Claude-Instant-V1': 'anthropic.claude-instant-v1',\n",
      " 'Claude-V1': 'anthropic.claude-v1',\n",
      " 'Claude-V2': 'anthropic.claude-v2',\n",
      " 'Command': 'cohere.command-text-v14',\n",
      " 'Jurassic-2-Mid': 'ai21.j2-mid-v1',\n",
      " 'Jurassic-2-Ultra': 'ai21.j2-ultra-v1',\n",
      " 'Titan-Embeddings-G1': 'amazon.titan-embed-text-v1',\n",
      " 'Titan-Text-G1': 'TBD'}\n"
     ]
    }
   ],
   "source": [
    "import json\n",
    "import boto3\n",
    "from pprint import pprint\n",
    "from termcolor import colored\n",
    "from utils import bedrock, print_ww\n",
    "from utils.bedrock import bedrock_info\n",
    "\n",
    "# ---- ⚠️ Un-comment and edit the below lines as needed for your AWS setup ⚠️ ----\n",
    "\n",
    "# os.environ[\"AWS_DEFAULT_REGION\"] = \"<REGION_NAME>\"  # E.g. \"us-east-1\"\n",
    "# os.environ[\"AWS_PROFILE\"] = \"<YOUR_PROFILE>\"\n",
    "# os.environ[\"BEDROCK_ASSUME_ROLE\"] = \"<YOUR_ROLE_ARN>\"  # E.g. \"arn:aws:...\"\n",
    "# os.environ[\"BEDROCK_ENDPOINT_URL\"] = \"<YOUR_ENDPOINT_URL>\"  # E.g. \"https://...\"\n",
    "\n",
    "\n",
    "boto3_bedrock = bedrock.get_bedrock_client(\n",
    "    assumed_role=os.environ.get(\"BEDROCK_ASSUME_ROLE\", None),\n",
    "    endpoint_url=os.environ.get(\"BEDROCK_ENDPOINT_URL\", None),\n",
    "    region=os.environ.get(\"AWS_DEFAULT_REGION\", None),\n",
    ")\n",
    "\n",
    "print(colored(\"\\n== FM lists ==\", \"green\"))\n",
    "pprint(bedrock_info.get_list_fm_models())"
   ]
  },
  {
   "cell_type": "markdown",
   "metadata": {},
   "source": [
    "# 2. Titan Embedding 모델 로딩"
   ]
  },
  {
   "cell_type": "code",
   "execution_count": 13,
   "metadata": {
    "tags": []
   },
   "outputs": [
    {
     "data": {
      "text/plain": [
       "BedrockEmbeddings(client=<botocore.client.BedrockRuntime object at 0x7f143565fb20>, region_name=None, credentials_profile_name=None, model_id='amazon.titan-embed-text-v1', model_kwargs=None, endpoint_url=None)"
      ]
     },
     "execution_count": 13,
     "metadata": {},
     "output_type": "execute_result"
    }
   ],
   "source": [
    "# We will be using the Titan Embeddings Model to generate our Embeddings.\n",
    "from langchain.embeddings import BedrockEmbeddings\n",
    "from langchain.llms.bedrock import Bedrock\n",
    "\n",
    "llm_emb = BedrockEmbeddings(client=boto3_bedrock)\n",
    "llm_emb"
   ]
  },
  {
   "cell_type": "markdown",
   "metadata": {},
   "source": [
    "## Index 이름 결정"
   ]
  },
  {
   "cell_type": "code",
   "execution_count": 14,
   "metadata": {
    "tags": []
   },
   "outputs": [],
   "source": [
    "index_name = \"genai-poc-knox-v1\""
   ]
  },
  {
   "cell_type": "markdown",
   "metadata": {},
   "source": [
    "## JSON Loader 사용"
   ]
  },
  {
   "cell_type": "code",
   "execution_count": 15,
   "metadata": {
    "tags": []
   },
   "outputs": [],
   "source": [
    "from langchain.document_loaders import JSONLoader\n",
    "\n",
    "import json\n",
    "from pathlib import Path\n",
    "from pprint import pprint\n",
    "\n",
    "file_path='data/poc/customer_EFOTA.json'\n"
   ]
  },
  {
   "cell_type": "code",
   "execution_count": 16,
   "metadata": {
    "tags": []
   },
   "outputs": [],
   "source": [
    "# Define the metadata extraction function.\n",
    "def metadata_func(record: dict, metadata: dict) -> dict:\n",
    "\n",
    "    metadata[\"title\"] = record.get(\"title\")\n",
    "    metadata[\"url\"] = record.get(\"url\")\n",
    "    metadata[\"project\"] = record.get(\"project\")    \n",
    "    metadata[\"last_updated\"] = record.get(\"last_updated\")        \n",
    "\n",
    "    return metadata\n",
    "\n",
    "\n",
    "loader = JSONLoader(\n",
    "    file_path= file_path,\n",
    "    jq_schema='.sections[]',\n",
    "    content_key=\"content\",\n",
    "    metadata_func=metadata_func\n",
    ")\n",
    "\n",
    "data = loader.load()"
   ]
  },
  {
   "cell_type": "code",
   "execution_count": 17,
   "metadata": {
    "tags": []
   },
   "outputs": [
    {
     "name": "stdout",
     "output_type": "stream",
     "text": [
      "260\n",
      "page_content='How-to videos. Contains videos on how to use Knox E-FOTA. This section contains videos on how to use Knox E-FOTA. Getting started with Knox E-FOTA This video walks you through the Knox E-FOTA console and demonstrates how you can register a reseller, approve a device, create a campaign, assign a campaign, and monitor device status. Creating a campaign on Knox E-FOTA The following video provides in-depth information on how to create and apply a Knox E-FOTA campaign to your Samsung devices. Connecting Knox E-FOTA to VMware Workspace ONE The following video describes the simple steps of connecting Knox E-FOTA with VMware Workspace ONE, while adding device groups from Workspace ONE.' metadata={'source': '/root/aws-ai-ml-workshop-kr/genai/aws-gen-ai-kr/20_applications/02_qa_chatbot/01_preprocess_docs/data/poc/customer_EFOTA.json', 'seq_num': 1, 'title': 'How-to videos', 'url': 'https://docs.samsungknox.com/admin/efota-one/how-to-videos', 'project': 'EFOTA', 'last_updated': '2023-09-27'}\n"
     ]
    }
   ],
   "source": [
    "print(len(data))\n",
    "print(data[0])"
   ]
  },
  {
   "cell_type": "markdown",
   "metadata": {
    "tags": []
   },
   "source": [
    "# 4. LangChain OpenSearch VectorStore 생성 \n",
    "## 선수 조건\n"
   ]
  },
  {
   "cell_type": "markdown",
   "metadata": {
    "tags": []
   },
   "source": [
    "## 오픈 서치 도메인 및 인증 정보 세팅\n",
    "\n",
    "- [langchain.vectorstores.opensearch_vector_search.OpenSearchVectorSearch](https://api.python.langchain.com/en/latest/vectorstores/langchain.vectorstores.opensearch_vector_search.OpenSearchVectorSearch.html)"
   ]
  },
  {
   "cell_type": "markdown",
   "metadata": {},
   "source": [
    "#### [중요] 아래에 aws parameter store 에 아래 인증정보가 먼저 입력되어 있어야 합니다."
   ]
  },
  {
   "cell_type": "code",
   "execution_count": 18,
   "metadata": {
    "tags": []
   },
   "outputs": [],
   "source": [
    "from langchain.indexes import VectorstoreIndexCreator\n",
    "# from langchain.vectorstores import FAISS"
   ]
  },
  {
   "cell_type": "code",
   "execution_count": 19,
   "metadata": {
    "tags": []
   },
   "outputs": [],
   "source": [
    "from utils.proc_docs import get_parameter"
   ]
  },
  {
   "cell_type": "code",
   "execution_count": 20,
   "metadata": {
    "tags": []
   },
   "outputs": [],
   "source": [
    "import boto3\n",
    "ssm = boto3.client('ssm', 'us-east-1')\n",
    "\n",
    "opensearch_domain_endpoint = get_parameter(\n",
    "    boto3_clinet = ssm,\n",
    "    parameter_name = 'knox_opensearch_domain_endpoint',\n",
    ")\n",
    "\n",
    "opensearch_user_id = get_parameter(\n",
    "    boto3_clinet = ssm,\n",
    "    parameter_name = 'knox_opensearch_userid',\n",
    ")\n",
    "\n",
    "opensearch_user_password = get_parameter(\n",
    "    boto3_clinet = ssm,\n",
    "    parameter_name = 'knox_opensearch_password',\n",
    ")\n"
   ]
  },
  {
   "cell_type": "code",
   "execution_count": 21,
   "metadata": {
    "tags": []
   },
   "outputs": [],
   "source": [
    "opensearch_domain_endpoint = opensearch_domain_endpoint\n",
    "rag_user_name = opensearch_user_id\n",
    "rag_user_password = opensearch_user_password\n",
    "\n",
    "http_auth = (rag_user_name, rag_user_password) # Master username, Master password"
   ]
  },
  {
   "cell_type": "markdown",
   "metadata": {},
   "source": [
    "## OpenSearch Client 생성"
   ]
  },
  {
   "cell_type": "code",
   "execution_count": 22,
   "metadata": {
    "tags": []
   },
   "outputs": [],
   "source": [
    "from utils.opensearch import opensearch_utils"
   ]
  },
  {
   "cell_type": "code",
   "execution_count": 23,
   "metadata": {
    "tags": []
   },
   "outputs": [],
   "source": [
    "aws_region = os.environ.get(\"AWS_DEFAULT_REGION\", None)\n",
    "\n",
    "os_client = opensearch_utils.create_aws_opensearch_client(\n",
    "    aws_region,\n",
    "    opensearch_domain_endpoint,\n",
    "    http_auth\n",
    ")"
   ]
  },
  {
   "cell_type": "markdown",
   "metadata": {},
   "source": [
    "## 오픈 서치 인덱스 유무에 따라 삭제\n",
    "오픈 서치에 해당 인덱스가 존재하면, 삭제 합니다. "
   ]
  },
  {
   "cell_type": "code",
   "execution_count": 24,
   "metadata": {
    "tags": []
   },
   "outputs": [],
   "source": [
    "from utils.opensearch import opensearch_utils"
   ]
  },
  {
   "cell_type": "code",
   "execution_count": 25,
   "metadata": {
    "tags": []
   },
   "outputs": [
    {
     "name": "stdout",
     "output_type": "stream",
     "text": [
      "index_name=genai-poc-knox-v1, exists=False\n",
      "Index does not exist\n"
     ]
    }
   ],
   "source": [
    "os_client = opensearch_utils.create_aws_opensearch_client(\n",
    "    aws_region,\n",
    "    opensearch_domain_endpoint,\n",
    "    http_auth\n",
    ")\n",
    "\n",
    "index_exists = opensearch_utils.check_if_index_exists(\n",
    "    os_client,\n",
    "    index_name\n",
    ")\n",
    "\n",
    "if index_exists:\n",
    "    opensearch_utils.delete_index(\n",
    "        os_client,\n",
    "        index_name\n",
    "    )\n",
    "else:\n",
    "    print(\"Index does not exist\")"
   ]
  },
  {
   "cell_type": "code",
   "execution_count": 27,
   "metadata": {
    "tags": []
   },
   "outputs": [],
   "source": [
    "from langchain.vectorstores import OpenSearchVectorSearch"
   ]
  },
  {
   "cell_type": "code",
   "execution_count": 28,
   "metadata": {
    "tags": []
   },
   "outputs": [
    {
     "name": "stdout",
     "output_type": "stream",
     "text": [
      "CPU times: user 779 ms, sys: 29.1 ms, total: 808 ms\n",
      "Wall time: 37 s\n"
     ]
    }
   ],
   "source": [
    "%%time\n",
    "# by default langchain would create a k-NN index and the embeddings would be ingested as a k-NN vector type\n",
    "docsearch = OpenSearchVectorSearch.from_documents(\n",
    "    index_name=index_name,\n",
    "    documents=data,\n",
    "    embedding=llm_emb,\n",
    "    opensearch_url=opensearch_domain_endpoint,\n",
    "    http_auth=http_auth,\n",
    "    bulk_size=10000,\n",
    "    timeout=60\n",
    ")"
   ]
  },
  {
   "cell_type": "markdown",
   "metadata": {},
   "source": [
    "## 인덱스 확인"
   ]
  },
  {
   "cell_type": "code",
   "execution_count": 29,
   "metadata": {
    "tags": []
   },
   "outputs": [
    {
     "name": "stdout",
     "output_type": "stream",
     "text": [
      "{'genai-poc-knox-v1': {'aliases': {},\n",
      "                       'mappings': {'properties': {'metadata': {'properties': {'last_updated': {'type': 'date'},\n",
      "                                                                               'project': {'fields': {'keyword': {'ignore_above': 256,\n",
      "                                                                                                                  'type': 'keyword'}},\n",
      "                                                                                           'type': 'text'},\n",
      "                                                                               'seq_num': {'type': 'long'},\n",
      "                                                                               'source': {'fields': {'keyword': {'ignore_above': 256,\n",
      "                                                                                                                 'type': 'keyword'}},\n",
      "                                                                                          'type': 'text'},\n",
      "                                                                               'title': {'fields': {'keyword': {'ignore_above': 256,\n",
      "                                                                                                                'type': 'keyword'}},\n",
      "                                                                                         'type': 'text'},\n",
      "                                                                               'url': {'fields': {'keyword': {'ignore_above': 256,\n",
      "                                                                                                              'type': 'keyword'}},\n",
      "                                                                                       'type': 'text'}}},\n",
      "                                                   'text': {'fields': {'keyword': {'ignore_above': 256,\n",
      "                                                                                   'type': 'keyword'}},\n",
      "                                                            'type': 'text'},\n",
      "                                                   'vector_field': {'dimension': 1536,\n",
      "                                                                    'method': {'engine': 'nmslib',\n",
      "                                                                               'name': 'hnsw',\n",
      "                                                                               'parameters': {'ef_construction': 512,\n",
      "                                                                                              'm': 16},\n",
      "                                                                               'space_type': 'l2'},\n",
      "                                                                    'type': 'knn_vector'}}},\n",
      "                       'settings': {'index': {'creation_date': '1700033946216',\n",
      "                                              'knn': 'true',\n",
      "                                              'knn.algo_param': {'ef_search': '512'},\n",
      "                                              'number_of_replicas': '2',\n",
      "                                              'number_of_shards': '5',\n",
      "                                              'provided_name': 'genai-poc-knox-v1',\n",
      "                                              'uuid': 'QujB1za-Tm-7rl_hkEjCfA',\n",
      "                                              'version': {'created': '136307827'}}}}}\n"
     ]
    }
   ],
   "source": [
    "index_info = os_client.indices.get(index=index_name)\n",
    "pprint(index_info)"
   ]
  },
  {
   "cell_type": "markdown",
   "metadata": {
    "tags": []
   },
   "source": [
    "## 랭체인 인덱스 연결 오브젝트 생성\n",
    "\n",
    "- [langchain.vectorstores.opensearch_vector_search.OpenSearchVectorSearch](https://api.python.langchain.com/en/latest/vectorstores/langchain.vectorstores.opensearch_vector_search.OpenSearchVectorSearch.html)"
   ]
  },
  {
   "cell_type": "code",
   "execution_count": 30,
   "metadata": {
    "tags": []
   },
   "outputs": [
    {
     "data": {
      "text/plain": [
       "<langchain.vectorstores.opensearch_vector_search.OpenSearchVectorSearch at 0x7f142b882fe0>"
      ]
     },
     "execution_count": 30,
     "metadata": {},
     "output_type": "execute_result"
    }
   ],
   "source": [
    "vector_db = OpenSearchVectorSearch(\n",
    "    index_name=index_name,\n",
    "    opensearch_url=opensearch_domain_endpoint,\n",
    "    embedding_function=llm_emb,\n",
    "    http_auth=http_auth, # http_auth\n",
    "    is_aoss =False,\n",
    "    engine=\"faiss\",\n",
    "    space_type=\"l2\"\n",
    ")\n",
    "vector_db"
   ]
  },
  {
   "cell_type": "code",
   "execution_count": 31,
   "metadata": {
    "tags": []
   },
   "outputs": [
    {
     "name": "stdout",
     "output_type": "stream",
     "text": [
      "query:  {'query': {'bool': {'must': [{'match': {'text': {'query': 'knox', 'minimum_should_match': '0%', 'operator': 'or'}}}], 'filter': []}}}\n",
      "# of searched docs:  10\n",
      "# of display: 1\n",
      "---------------------\n",
      "_id in index:  29657178-7223-4b9d-8512-ee9cd6703660\n",
      "0.153074\n",
      "Knox Admin Portal release notes. Knox Admin Portal 23.09 release notes Knox Admin Portal 23.06 release notes Knox Admin Portal 23.03 release notes Knox Admin Portal 22.11 release notes Knox Admin Portal 22.08 release notes Knox Admin Portal 22.05 release notes Knox Admin Portal 22.03 release notes Knox Admin Portal 21.11 release notes Knox Admin Portal 21.09 release notes\n",
      "{'source': '/root/aws-ai-ml-workshop-kr/genai/aws-gen-ai-kr/20_applications/02_qa_chatbot/01_preprocess_docs/data/poc/customer_EFOTA.json', 'seq_num': 218, 'title': 'Knox Admin Portal release notes', 'url': 'https://docs.samsungknox.com/admin/knox-admin-portal/release-notes', 'project': 'USP', 'last_updated': '2023-09-06'}\n",
      "---------------------\n"
     ]
    }
   ],
   "source": [
    "query = \"knox\"\n",
    "query = opensearch_utils.get_query(\n",
    "    query=query\n",
    ")\n",
    "\n",
    "print(\"query: \", query)\n",
    "response = opensearch_utils.search_document(os_client, query, index_name)\n",
    "opensearch_utils.parse_keyword_response(response, show_size=1)"
   ]
  },
  {
   "cell_type": "code",
   "execution_count": null,
   "metadata": {},
   "outputs": [],
   "source": []
  },
  {
   "cell_type": "markdown",
   "metadata": {
    "tags": []
   },
   "source": [
    "# 5.오픈 서치에 \"유사 서치\" 검색\n",
    "- query 를 제공해서 실제로 유사한 내용이 검색이 되는지를 확인 합니다.\n",
    "\n"
   ]
  },
  {
   "cell_type": "code",
   "execution_count": 32,
   "metadata": {
    "tags": []
   },
   "outputs": [],
   "source": [
    "from langchain.chains.question_answering import load_qa_chain\n",
    "from utils.rag import get_semantic_similar_docs, get_lexical_similar_docs, get_ensemble_results"
   ]
  },
  {
   "cell_type": "code",
   "execution_count": 33,
   "metadata": {
    "tags": []
   },
   "outputs": [],
   "source": [
    "import copy\n",
    "from langchain.schema import Document\n",
    "from langchain import PromptTemplate\n",
    "from operator import itemgetter"
   ]
  },
  {
   "cell_type": "code",
   "execution_count": 34,
   "metadata": {
    "tags": []
   },
   "outputs": [],
   "source": [
    "from utils.proc_docs import search_hybrid"
   ]
  },
  {
   "cell_type": "markdown",
   "metadata": {},
   "source": [
    "### 아래가 원하는 정답 입니다.\n",
    "\n",
    "![DM-Verify.png](img/DM-Verify.png)"
   ]
  },
  {
   "cell_type": "code",
   "execution_count": 37,
   "metadata": {
    "tags": []
   },
   "outputs": [
    {
     "name": "stdout",
     "output_type": "stream",
     "text": [
      "Query: \n",
      " vefify DM\n",
      "##############################\n",
      "similar_docs_semantic\n",
      "##############################\n",
      "\n",
      "Score: 1.0\n",
      "[\"Manage campaigns. Explains how to create and manage campaigns in Knox E-FOTA On-Premises. The campaigns in Knox E-FOTA On-Premises have the same functionality as the campaigns in Knox E-FOTA. To view your campaigns: 1. Sign in to the Knox E-FOTA On-Premises admin console. Ensure you're in the correct workspace by verifying the workspace name in the upper-right corner of the console. 2. In the left sidebar, click Campaigns. A list of campaigns is displayed with their statuses, assigned devices, repeat frequency, start and end dates, and last modified date. Click a campaign name to view its details or modify it. If there are no available campaigns, click CREATE CAMPAIGN in the upper-right corner to create one. See Create a campaign in the Knox E-FOTA admin guide for detailed instructions on how to create a campaign. Select a campaign and click the ACTIONS menu to access the following features: Activate Campaign - Activates the campaign if it has been deactivated, and starts the firmware rollout. Deactivate Campaign - Deactivates the campaign if it's currently active, and stops the firmware rollout. Modify Campaign - Allows you to change the configured campaign policies, including the target firmware and campaign period. Delete Campaign - Deletes the selected campaign.\"]\n",
      "--------------------------------------------------\n",
      "\n",
      "Score: 0.966625413822754\n",
      "[\"Knox E-FOTA 1.36 release notes. Release notes for Knox E-FOTA 1.36 Service improvements #EMM support Devices can now be synced from the MobileIron and IBM enterprise mobility management systems (EMM) to Knox E-FOTA. #Notes on MobileIron , MobileIron on-premise server: Only version 10.8 and later are supported. MobileIron cloud server: You can only sync device groups from the default space ( Global space ). When connecting to Knox E-FOTA, your GDPR (General Data Privacy Regulation) profile must not be enabled in the MobileIron console. If it is enabled, no data will be synced between MobileIron and Knox E-FOTA. Once connected, you must keep GDPR disabled. Otherwise, the next group sync may cause your synced devices to be removed from Knox E-FOTA. #Custom firmware If you purchased the Software Customization Services license, you can now receive custom firmware by requesting it from a Samsung admin. After you receive custom firmware from a Samsung admin, you can assign it to your campaigns the same way you assign normal firmware. When creating or editing a campaign, you can find the custom firmware listed in the Custom Firmware tab in the Select the target firmware screen. Knox E-FOTA admin portal improvements #Warning message for devices synced from an EMM In the Devices tab, when you select a device that was synced from an EMM, most operations in the Actions drop-down menu are disabled. A warning message appears stating that some actions cannot be performed in this tab. Most operations on such devices can only be done in the EMM groups tab. #Viewing the client app's version number The Device details screen now includes the version number ( Agent version ) of the Knox E-FOTA client installed on the device. #Monitoring license usage in the Dashboard You can now view your license usage in the Dashboard. The Licenses widget contains the following: A pie chart that shows the total license operation rate; that is, the total number of license seats currently assigned over the total number of license seats from all commercial and trial licenses in the account. A list of up to three licenses with the most number of seats in the account. For each license, the following details are shown: Type - Commercial or Trial. Status - Active, Registered (that is, the license has been added to the account but is not yet active), Expired, and Terminated. Operation rate - Number of assigned seats over the total number of seats in this license. End date - Date the license expires. To view a license's details, click on that license's name. The remaining number of seats from all commercial and trial licenses in the account. A View all link that takes you to the Licenses tab, which contains all licenses in the account and their details. #Dashboard with no data The following improvements were made to the Dashboard: If the account has no device data, a blank Device Status widget will be shown. If the account has a device but no campaigns, the Create Campaign button will appear on the Dashboard. If you click it, the Campaign information screen opens, where you can start creating a new campaign. If the account has a device but no license, a Get a License button will appear on the Dashboard. If you click it, a popup appears, where you can get a trial license or search for commercial license resellers. Back to release notes\"]\n",
      "--------------------------------------------------\n",
      "\n",
      "Score: 0.9494734727139701\n",
      "['Prerequisites for connecting to MobileIron. Describes the prerequisites for connecting to MobileIron. This section describes prerequisite steps you need to perform before you can start connecting to MobileIron. You can connect to a MobileIron on-premise server or cloud (Saas) server. We assume that you already have a MobileIron account that you use to connect to your on-premise or cloud console. You can use the login credentials for that account to connect Knox E-FOTA to MobileIron. MobileIron On-premise: Only version 10.8 and later are supported. MobileIron Cloud: You can only sync device groups from the default space (Global space). When connecting to Knox E-FOTA, your GDPR (General Data Privacy Regulation) profile must not be enabled in the MobileIron console. If it is enabled, no data will be synced between MobileIron and Knox E-FOTA. Once connected, you must keep GDPR disabled. Otherwise, the next group sync may cause your synced devices to be removed from Knox E-FOTA. Disable your GDPR profile in MobileIron (on-premise) Follow these steps to disable your GDPR profile if you plan to connect to a MobileIron on-premise server. 1. In the MobileIron console, click Devices & Users > Users. 2. In the list of users, click the edit icon next to the user you want to use to connect Knox E-FOTA to MobileIron. 3. In the Edit User popup, deselect the Enable GDPR checkbox. 4. Click Save. Disable your GDPR profile in MobileIron (cloud) Follow these steps to disable your GDPR profile if you plan to connect to a MobileIron cloud server. 1. In the MobileIron console, click Users > Users. 2. In the Users screen, click the name of the user you want to use to connect Knox E-FOTA to MobileIron. 3. In the Details screen for that user, click Edit. 4. When prompted to authenticate, enter your admin password, and click Authenticate. 5. Still in the Details screen, scroll down to the GDPR Profile section, and switch the option OFF. 6. Click Save.']\n",
      "--------------------------------------------------\n",
      "\n",
      "Score: 0.9438263494306447\n",
      "[\"Knox E-FOTA 23.06 release notes. Release notes for Knox E-FOTA 23.06 OAuth authentication for VMware EMM Previously, you could sync devices from VMware EMM only using basic authentication. With the 23.06 release, you can also authenticate using the OAuth protocol. OAuth authentication requires a client ID and a client secret for successful EMM connection. Improvements to EMM group sync #Individually managed devices Previously, EMM groups controlled the behavior of synced devices and didn't allow you to individually manage these synced devices. This inability to manage devices individually forced you to unenroll the device from the group, even after the device was unsynced, making device management inconvenient for large fleets. With the 23.06 release, you can individually manage devices synced in EMM groups, without re-enrolling them. For example, if campaign A is assigned to devices in group A, you can now assign a few devices that are in group A to campaign B. Furthermore, for devices that are uploaded by EMMs, the Devices tab on the Devices page now lets you: Assign a campaign, create a campaign, Unassign a campaign, Unenroll devices, Force client refresh Additionally, you can click the EMM group name to access all the actions that you can perform on the Devices tab on the Devices page. #Default campaigns With the 23.06 release, when you assign a campaign to an EMM device group, this campaign is automatically set as the default campaign for the group. This default campaign is assigned only to devices in the group when they are synced from the EMM for the first time. These synced devices exhibit the following properties: The default campaign associated with these devices changes if their EMM group or EMM group priority changes. Note that these devices won't be automatically assigned to the new default campaign. After the first sync, existing devices synced from EMM groups won't be assigned the default campaign when you re-sync with the EMM. You can assign the default campaign to these devices, regardless of whether they were uploaded by a reseller or in bulk using a CSV file. You can find more information about the default campaign on the EMM groups page. Support for EMM group search With the 23.06 release, you can easily search EMM groups on the Manage EMM groups page and sync only the desired groups from the search results. Furthermore, you can individually sync each of these groups and filter the search results to display only the synced groups. You can search and add a maximum of 1,000 device groups without triggering a warning. UX enhancement to identify invalid firmware Starting with the 23.06 release, device firmware information displays a caution icon to help you determine whether a device listed on the Devices page is running invalid firmware. Support for dummy firmware in test campaigns Previously, the option to assign a test campaign to devices running dummy firmware wasn't available. This limitation persisted if you deleted or unenrolled such a device prior to reverting its firmware to regular firmware. With the 23.06 release, you can assign a test campaign even to devices running dummy firmware. Once you unassign a test campaign, the device reverts back to regular firmware. Back to release notes\"]\n",
      "--------------------------------------------------\n",
      "\n",
      "Score: 0.9396883862614481\n",
      "['Knox E-FOTA. Knox E-FOTA enables enterprise IT admins to remotely deploy OS versions and security updates to corporate devices without requiring user interaction. Test updates before deployment to verify compatibility between in-house apps and new OS versions, all while increasing the security of enterprise devices by ensuring the latest security patches are deployed on a schedule. Try for free Audience This document is intended for: System Security Architects - Understand how Knox E-FOTA works, and how you can use it to update fleets of enterprise devices. IT Admins - Learn to manage over-the-air updates for enterprise devices. Try the solution Streamline your mobile update workflow using Knox E-FOTA. Enable version control management, and deploy OS updates by setting updates to occur outside business hours to avoid disruptions to productivity. Start tutorial About Knox E-FOTA Knox E-FOTA\"is an enterprise solution that controls OS versions on Samsung mobile devices to maximize cost efficiency. It helps IT admins do the following: Ensure that the latest security patches are deployed to devices on schedule. Test updates before deployment, ensuring compatibility between in-house apps and new OS versions. Key Features , Forced updates - Simplify your device management experience by deploying forced updates so that all devices have the same OS version on every device. You can push updates without requiring user interaction. Selective OS\"version - The latest OS version isn\\'t always compatible with your in-house apps. Ensure operational continuity by controlling which OS version to deploy to your devices. You can lock them to that version until you\\'re ready to deploy the latest OS version. Scheduled updates - Minimize business interruptions by scheduling firmware updates to occur outside business hours. For a full list of all features, visit the product page for Knox E-FOTA. Benefits 1. Software compatibility testing - Only enforce updates once the software is tested to ensure compatibility between internal apps and new OS versions. This helps minimize the need for IT support for compatibility issues. 2. Device security - Deploy the latest verified firmware along with the latest security patches - also called Security Maintenance Releases (SMR) - to all corporate-liable devices immediately without requiring user interaction. 3. Efficient rollout - Maintain productivity by specifying a time when devices download and install updates to minimize business interruptions. IT admins can stagger the deployment of updates (for example, by region) to ensure operational continuity. 4. Efficient device management - Remotely deploying forced updates ensures that all enterprise devices are always running the latest validated OS version. Having a uniform view of all devices allows IT admins to manage them more efficiently. Silent updates do not require user interaction so they can\\'t be postponed or rejected. How does Knox E-FOTA work? Firmware-over-the-air (FOTA) is a service that allows IT admins to efficiently and securely push firmware updates to a fleet of enterprise mobile devices. Typically, the latest firmware updates are pushed to devices by their service provider through a Samsung Business-To-Consumer (B2C) FOTA server. The problem with this is that the latest firmware isn\\'t always compatible with a company\\'s in-house apps. Without Knox E-FOTA, companies can only address this problem by doing the following: Always update to the latest OS version, Block all OS updates using their EMM Knox E-FOTA\"allows admins to select a firmware version to deploy, even if it\\'s not the latest version. Devices are then locked to that version. When admins have performed compatibility testing on a later firmware version, they can then update devices to the tested version. With Knox E-FOTA, businesses push firmware updates from a Samsung Business-To-Business (B2B) FOTA\"server There are exceptions, such as AT&T and Verizon, which provide firmware updates from their own servers and not through Samsung\\'s Knox E-FOTA service. The B2B FOTA server then syncs the device information with the B2C FOTA server. #Downloading firmware versions Knox E-FOTA gives you access to a list of official firmware released via the general Samsung FOTA service within the last 12 months. An additional firmware list could be provided following an extra consultation. When pushing a firmware update, Samsung generates a delta file or a change file for updating from the current firmware version to a target version. This is then released via the general Samsung FOTA server and delivered to enterprise devices over-the-air. Firmware files are available from the Knox E-FOTA server for an average of 12 months. In some cases, especially when upgrading devices to a major Android OS version, you may be required to download several delta files to reach the target firmware version. On Knox E-FOTA\"Advanced, this means you may need to run several campaigns incrementally to reach a target version. On Knox E-FOTA and\"Knox E-FOTA\"on MDM, only one campaign is needed; the required delta files are sequentially installed automatically. Regardless of which Knox E-FOTA edition you\\'re using, this will result in devices rebooting multiple times. Compare the Knox E-FOTA editions There are three editions available for the Knox E-FOTA service: Knox E-FOTA, Knox E-FOTA\"Advanced, Knox E-FOTA on MDM This section describes their key differentiating features. Feature Knox E-FOTA on MDM Knox E-FOTA Advanced Knox E-FOTA Description Selective OS version ✔ ✔ ✔ Select an OS version to be deployed to the devices, and prevent updates to OS versions that have not been verified with internal apps. Forced update (silent) ✔ ✔ ✔ Deploy OS updates to devices without requiring user interaction. Scheduled update ✔ ✔ ✔ Set a specific date and time range (for example, non-business hours) to download and install an OS update. Forced update (critical) ✔ ✔ Allow the user to postpone an update (with a maximum delay duration) during an ongoing critical job. The user can\\'t decline the update. Additional campaign options ✔ ✔ Set the following options: Allow firmware download while roaming. Allow installation only when connected to a charging dock. Ability to view the campaign status ✔ ✔ View the status of campaign operations. Monitoring dashboard Widgets for device and campaign statuses are available on Knox E-FOTA Advanced. ✔ Monitor various areas of Knox E-FOTA through a dashboard. Independent web console ✔ ✔ Perform administrative tasks through a web portal. Network bandwidth control ✔ ✔ Deploy firmware updates within a set maximum bandwidth. Wi-Fi only mode ✔ ✔ Save on cellular usage costs by setting downloads and updates to occur only through Wi-Fi. Ability to update multiple models per campaign ✔ In a single campaign, you can assign multiple device models to different firmware releases. Sequential updates per campaign ✔ ✔ Update from any version to a target version with just one campaign. That is, you don\\'t need to create multiple campaigns to incrementally update a device from its current version to a target version. Ability to sync device group and organization information with EMM ✔ ✔ Streamline your device management tasks by importing device groups from your EMM. Connecting Knox E-FOTA to your EMM helps ensure that your device groups are never out of sync. Device information is managed in the EMM so that the Knox E-FOTA admin doesn\\'t have to do it manually. Automatic client app installation through EMM ✔ For certain EMMs (for example, Knox Manage and VMware), you can simplify the onboarding process by pushing the Knox E-FOTA client app to devices through the Knox E-FOTA admin portal. Push and poll Pushing is supported on Knox E-FOTA on MDM. Polling is supported on Knox E-FOTA Advanced. ✔ Push campaign updates immediately from the Knox E-FOTA server to assigned devices. There\\'s no need to wait for devices to poll the Knox E-FOTA server. Poll the server for campaign updates. The client app (that is, the agent on the device) periodically checks the policy and applies any campaign updates that may not have been successfully applied to it. Device registration through Knox Deployment Program (KDP) ✔ Resellers can automatically upload your devices to Knox E-FOTA so that you don\\'t have to add them yourself. You can auto-approve their uploads and auto-assign the devices to a default campaign. This feature is only available through KDP. Out-of-box installation of Knox E-FOTA client app ✔ For devices purchased through a reseller that have Android P or later, the client app is automatically installed during the out-of-box experience. Support for multiple licenses ✔ Add licenses as needed to support more devices, while keeping existing licenses active. Consolidated admin access ✔ Sign in to SamsungKnox.com once and gain access to all Knox Cloud Services (KCS) products you\\'re subscribed to. Consistent user experience ✔ The Knox E-FOTA admin portal has a user interface that\\'s consistent with other KCS products on SamsungKnox.com.']\n",
      "--------------------------------------------------\n",
      "lexical search query: \n",
      "{'query': {'bool': {'filter': [],\n",
      "                    'must': [{'match': {'text': {'minimum_should_match': '75%',\n",
      "                                                 'operator': 'or',\n",
      "                                                 'query': 'vefify DM'}}}]}},\n",
      " 'size': 5}\n",
      "##############################\n",
      "similar_docs_keyword\n",
      "##############################\n",
      "\n",
      "Score: 1.0\n",
      "[\"Create a test campaign. Explains how to create a Knox E-FOTA test campaign A test campaign allows you to test the campaign policies using a dummy firmware version. When you're done with your test campaign, you can revert your devices back to your regular firmware by unassigning them from the test campaign. You can't apply a real campaign on a device that has dummy firmware. Devices synced to Knox E-FOTA from an EMM can't be assigned to a test campaign. 1. Sign in to the Knox Admin Portal. In the left sidebar, click Knox E-FOTA. 2. In the Campaigns tab, click Actions > Create Test Campaign. 3. Fill in the campaign details. #Basic Info Set a unique name for the campaign and a description of what's new in it. #Schedule , Campaign period - Set the timeframe when devices in the campaign can start to download and install the update. If you want the campaign period to run indefinitely, select Set a start date only. Firmware installation period - Set the timeframe within the campaign period when the devices in the campaign can start installing the update. This timeframe is based on the device's timezone. If you want to test a campaign immediately, set the firmware installation period to the following values: From: 00:00 , To: 24:00 Devices will start installation during this period, but there is no guarantee that installation will end within this period. Firmware download period - Set the timeframe within the campaign period when the devices in the campaign can start downloading the update. You can set devices to download anytime or you can use the same timeframe as the firmware installation period. Postpone installation - Select this option if you want to allow the device user to postpone the installation. Then, set the maximum number of times they're allowed to postpone it and the duration between reminders. You can also set a timer - if the device user doesn't act on an update reminder before the timer times out, the update is automatically installed. #Network and Speed Download network - Select the network(s) in which devices in the campaign can download the update. If you choose to allow downloads in any network (Wi-Fi or mobile), you can additionally do the following: Allow firmware download while roaming. Set the campaign to switch to Wi-Fi/Ethernet when the firmware exceeds a certain size. If needed, you can also control the download speed. You can also set download speed limits for up to 5 specific SSIDs #Device Condition Specify how much battery life a device must have to start installing the update. You can also prevent an installation from starting on devices that are not connected a charging dock. #Factory Reset Specify whether you want to block end users from performing a factory reset on the device. #Support Contact Details Enter a phone number and email address end users can contact for support. You can also set these values as the default contact information for future campaigns. 4. Click Assign Devices. 5. From the device list, select one or more devices to assign to the test campaign. NOTE - You can't select a firmware version to apply when creating a test campaign. Instead, dummy firmware is applied by default. 6. Click Assign. 7. Click Create and Activate. The campaign is added to the Campaigns list. 8. Check the device for the dummy firmware update. If the campaign is applied successfully, the device status changes to Campaign Active. In the following example, the dummy firmware to be applied has the file extension .DM. 9. When you're done with your test campaign, revert the dummy firmware to regular firmware. 1. Go to Devices > All Devices. 2. Click Action > Unassign campaign. The device status changes to Enrolled and the dummy firmware is reverted to regular firmware.\"]\n",
      "--------------------------------------------------\n",
      "\n",
      "Score: 0.9075501735853354\n",
      "['Sensitive Data Protection (SDP). This feature was deprecated in API level 33 with Knox SDK v3.7. Protecting Data-At-Rest (DAR) on mobile devices is a major concern. While the industry standard is to encrypt all the data on a device, that data is decrypted and accessible after the device boots successfully. This access process means that once a device is lost or stolen, a sophisticated attack can extract data as long as the device is still running, even if the device is locked. Samsung created Sensitive Data Protection (SDP) to address this specific issue. SDP\"meets the Mobile Device Fundamentals Protection Profile (MDFPP) requirements defined by the National Information Assurance Partnership (NIAP) for DAR, meaning that SDP\"is approved for use by the US\"government and military. How SDP works KPE protects user data on the device through Data-at-Rest encryption. Data remains encrypted on disk, and can only be decrypted when the device is powered on. Recovery of data decryption keys is tied to: device hardware, meaning data is recoverable only on the same device, device boot-time integrity measurements, a user credential dependent on configuration Additionally, a mechanism is provided to optionally mark data as sensitive, which subsequently cannot be decrypted while the device is in the locked state. Here are the two protection modes that KPE provides for Data-at-Rest: Protected - All files stored on the device are treated as Protected by default. Protected data is stored on the device file system as encrypted data, and is only decrypted when an application accesses the data. This mechanism provides the data-at-rest protection while the device is powered off. Even if the device is in the lock state, applications can access protected data. Sensitive - Files can also be optionally marked as sensitive, using the Sensitive Data Protection (SDP) mechanism. SDP uses a key management scheme which ensures sensitive files can only be decrypted in the unlocked state, by purging keys from RAM when the device is locked. However, SDP also provides the ability for new files to be written and encrypted in the locked state using public key cryptography. SDP encryption Samsung Galaxy devices supporting Knox 3.3 and above are enabled to support Android\\'s File Based Encryption (FBE) for Data-at-Rest. Data encryption is enforced across the device using: EXT4 encryption FBE mechanism, FIPS compliant hardware crypto module (AES256-XTS) Optionally, the external SD Card can be used with: dm-crypt (introduced with Android 11) or eCryptfs stacked file system, FIPS compliant Kernel crypto module (AES256-CBC). FBE keys are derived using a password entry, which is either the default hard-coded password or the device user\\'s password used to unlock the device. While in the unlocked state, SDP works as follows: Encrypts sensitive data using a per-file File Encryption Key (FEK). These keys are encrypted with the SDPK.sym (Sensitive Data Protection Key, symmetric), which is encrypted by the SdpMasterKey. Keeps the SdpMasterKey in memory only while the device is unlocked, to allow decryption of the SDPK.sym and SDPK.pri (private). Encrypts the SdpMasterKey using the key that is protected by both ephemeral keys derived from the device user\\'s password and a key chaining to the Root Encryption Key (REK) using the Keystore. Clears the SdpMasterKey when it transitions to the locked state, and re-derives it when the user unlocks the device or Work container. While in the locked state, SDP handles apps writes of sensitive data differently: Rejects app attempts to open sensitive data files, as KPE no longer has the keys needed to retrieve sensitive data in memory and cannot re-derive them until the user unlocks the device or Work container. Encrypts any new sensitive app data by using both a: per-user sensitive data ECDH asymmetric key pair (SDPK.pri/pub) , per-file ECDH key pair [DataK.pri/pub] generated on behalf of the app, Protects the private portion of the ECDH key pair (SPDK.pri) with the SdpMasterKey, the same Key Encryption Key (KEK) used to encrypt the sensitive data per-file FEKs. Clears the SdpMasterKey when it transitions to the locked state. See also: File Based Encryption (FBE)\"and Full Disk Encryption (FDE). SDP protection of apps The native Samsung Email app automatically uses SDP to protect email bodies and attachments. For performance reasons, the email header (including the subject and sender) is not protected with SDP. The Knox Chamber is a dedicated directory in the Knox container file system. All stored files within the Knox Chamber directory are automatically marked as sensitive and are handled by the SDP mechanism. Unique advantages of Knox SDP , MDFPP-Compliant - Knox SDP is certified as MDFPP-compliant. Without Knox SDP, the base Android system is not certified as satisfying MDFPP requirements, which mandates a form of SDP. MDFPP compliance is a requirement for many government agencies and the companies they work with. Samsung has more MDFPP-certified products than any other mobility solution provider. Granular Control - You can use Knox SDP to protect not just the whole device, a container, or individual files but also selected database columns. Per-App Password - You can further customize Knox SDP to decrypt a particular app\\'s Sensitive Data only after an app user enters an app-specific password. In this case, the device or container unlock authentication alone does not decrypt app data. An app password is also needed for a higher layer of security. App Protection - Knox SDP is enabled by default to secure both Samsung Email as well as Knox Chamber.']\n",
      "--------------------------------------------------\n",
      "\n",
      "Score: 0.7364451892668645\n",
      "[\"Error codes. This page lists all in-console error codes, and their causes. Client status Code Cause Recommended remediation Failed to enroll 171 Client enrollment failed due to invalid license. Try to check if your license key is expired or invalid. If the problem persists, contact Samsung. Campaign error 361 Campaign error occurred due to invalid campaign information. Try to check and change the target firmware version of current campaign. If the problem persists, contact Samsung. Campaign error 362 Campaign error occurred due to invalid campaign information. Try to check and change the target firmware version of current campaign. If the problem persists, contact Samsung. Invalid firmware 364 Firmware version is invalid. Try to check and change the target firmware version of current campaign. If the problem persists, contact Samsung. Invalid firmware 365 From/to firmware path is invalid. Try to check and change the target firmware version of current campaign. If the problem persists, contact Samsung. Awaiting for Download 501 Download network option in campaign setting is set as Wi-Fi only, but the device's Wi-Fi is turned off. Turn on the device's Wi-Fi, or try to set the Download network option in campaign settings to Any (Wi-Fi or Mobile). Awaiting for Download 502 Device network is in roaming, but Download while roaming is not allowed in the campaign settings. Wait until the device leaves the roaming area, or try to check the Download allowed while roaming option in campaign settings. Awaiting for Download 503 The firmware size is over than the set Switch to Wi-Fi when firmware size is over option value in campaign settings, but the device's Wi-Fi is turned off. Turn on the device's Wi-Fi, or try to uncheck the Switch to Wi-Fi when firmware size is over option in campaign settings. Awaiting for Download 508 Current time is not within the firmware download period. Try to change the Firmware download period in campaign settings, or try to check the device within firmware download period. Failed to download 561 File size mismatch error occurred on the client during download. Try to manually refresh the client on the device by executing a Force client refresh. If the problem persists, contact Samsung. Awaiting for Download 562 Not enough storage space on the device to download firmware. Try to secure free space on the device. Need free space that's twice the size of firmware. Failed to download 563 Network error occurred on the client during download. Press the Retry button to retry downloading the firmware on the device. If the problem persists, contact Samsung. Failed to download 564 Checksum error occurred on the client during download. Try to manually refresh the client on the device by executing a Force client refresh. If the problem persists, contact Samsung. Failed to download 565 File size request error occurred on the client during download. Try to manually refresh the client on the device by executing a Force client refresh. If the problem persists, contact Samsung. Failed to download 566 Requirement rule violated error occurred on the client during download. Try to manually refresh the client on the device by executing a Force client refresh. If the problem persists, contact Samsung. Failed to download 567 File cannot be written error occurred on the client during download. Try to manually refresh the client on the device by executing a Force client refresh. If the problem persists, contact Samsung. Failed to download 568 Unknown error occurred on the client during download. Try to manually refresh the client on the device by executing a Force client refresh. If the problem persists, contact Samsung. Awaiting for install 701 Install error occurs because Allow installation only when connected to charging dock condition doesn't match. Try to install firmware on the device while the device is connected to charging dock, or change the Allow installation only when connected to charging dock option in campaign settings. Awaiting for install 702 Install error occurs because Battery level for installation condition does not match. Try to install firmware on the device after charge the device enough, or change the Battery level for installation option in campaign settings. Awaiting for install 703 At the time of installation, the user is on phone call. Try to install firmware on the device after the phone call is complete. Awaiting for install 704 Device user postponed installation on the device by tapping the Postpone button, tapping the Home or Back buttons, or turning the screen off. Try not to postpone installation on the device, or try to change the Postpone Installation option in campaign settings. Awaiting for install 707 Not enough storage space to install firmware. Try to secure free space on the device. Need free space that's the size of firmware. Awaiting for install 708 Device user tried to install firmware on the device, but the current time isn't within the firmware installation period Try to install firmware on the device within firmware installation period. Failed to install 760 Firmware installation has failed because installation is terminated. Try to manually refresh the client on the device by executing a Force client refresh. If the problem persists, contact Samsung. Failed to install 761 Firmware installation has failed because device information of firmware doesn't match the server information. Try to manually refresh the client on the device by executing a Force client refresh. If the problem persists, contact Samsung. Failed to install 762 Firmware installation has failed because the installation is terminated by the system. Try to manually refresh the client on the device by executing a Force client refresh. If the problem persists, contact Samsung. Failed to install 763 Firmware installation has failed because an unexpected error occurred. Try to manually refresh the client on the device by executing a Force client refresh. If the problem persists, contact Samsung. Failed to install 764 Firmware installation has failed because an error occurred during the delta firmware installation process. Try to manually refresh the client on the device by executing a Force client refresh. If the problem persists, contact Samsung. Failed to install 765 Firmware installation has failed because the dm-verity check failed in recovery mode. Try to manually refresh the client on the device by executing a Force client refresh. If the problem persists, contact Samsung. Failed to install 766 Firmware installation has failed because an update of the recovery area failed. Try to manually refresh the client on the device by executing a Force client refresh. If the problem persists, contact Samsung. Failed to install 767 Firmware installation has failed because an error occurred during the block-based update. Try to manually refresh the client on the device by executing a Force client refresh. If the problem persists, contact Samsung. Failed to install 768 Firmware installation has failed because the token in firmware verification failed. Try to manually refresh the client on the device by executing a Force client refresh. If the problem persists, contact Samsung. Failed to install 769 Firmware installation has failed because there is no result from recovery mode. Try to manually refresh the client on the device by executing a Force client refresh. If the problem persists, contact Samsung. Failed to install 770 Firmware installation has failed because the device is rooted. Knox E-FOTA doesn't support rooting the device. If the device isn't rooted, contact Samsung. Campaign error 921 Null Pointer Exception occurred on the client while reading a campaign. Try to manually refresh the client on the device by executing a Force client refresh. If the problem persists, contact Samsung. Campaign error 922 General Exception occurred on the client while reading a campaign. Try to manually refresh the client on the device by executing a Force client refresh. If the problem persists, contact Samsung.\"]\n",
      "--------------------------------------------------\n",
      "##############################\n",
      "similar_docs_ensemble\n",
      "##############################\n",
      "\n",
      "Score: 0.00819672131147541\n",
      "[\"Create a test campaign. Explains how to create a Knox E-FOTA test campaign A test campaign allows you to test the campaign policies using a dummy firmware version. When you're done with your test campaign, you can revert your devices back to your regular firmware by unassigning them from the test campaign. You can't apply a real campaign on a device that has dummy firmware. Devices synced to Knox E-FOTA from an EMM can't be assigned to a test campaign. 1. Sign in to the Knox Admin Portal. In the left sidebar, click Knox E-FOTA. 2. In the Campaigns tab, click Actions > Create Test Campaign. 3. Fill in the campaign details. #Basic Info Set a unique name for the campaign and a description of what's new in it. #Schedule , Campaign period - Set the timeframe when devices in the campaign can start to download and install the update. If you want the campaign period to run indefinitely, select Set a start date only. Firmware installation period - Set the timeframe within the campaign period when the devices in the campaign can start installing the update. This timeframe is based on the device's timezone. If you want to test a campaign immediately, set the firmware installation period to the following values: From: 00:00 , To: 24:00 Devices will start installation during this period, but there is no guarantee that installation will end within this period. Firmware download period - Set the timeframe within the campaign period when the devices in the campaign can start downloading the update. You can set devices to download anytime or you can use the same timeframe as the firmware installation period. Postpone installation - Select this option if you want to allow the device user to postpone the installation. Then, set the maximum number of times they're allowed to postpone it and the duration between reminders. You can also set a timer - if the device user doesn't act on an update reminder before the timer times out, the update is automatically installed. #Network and Speed Download network - Select the network(s) in which devices in the campaign can download the update. If you choose to allow downloads in any network (Wi-Fi or mobile), you can additionally do the following: Allow firmware download while roaming. Set the campaign to switch to Wi-Fi/Ethernet when the firmware exceeds a certain size. If needed, you can also control the download speed. You can also set download speed limits for up to 5 specific SSIDs #Device Condition Specify how much battery life a device must have to start installing the update. You can also prevent an installation from starting on devices that are not connected a charging dock. #Factory Reset Specify whether you want to block end users from performing a factory reset on the device. #Support Contact Details Enter a phone number and email address end users can contact for support. You can also set these values as the default contact information for future campaigns. 4. Click Assign Devices. 5. From the device list, select one or more devices to assign to the test campaign. NOTE - You can't select a firmware version to apply when creating a test campaign. Instead, dummy firmware is applied by default. 6. Click Assign. 7. Click Create and Activate. The campaign is added to the Campaigns list. 8. Check the device for the dummy firmware update. If the campaign is applied successfully, the device status changes to Campaign Active. In the following example, the dummy firmware to be applied has the file extension .DM. 9. When you're done with your test campaign, revert the dummy firmware to regular firmware. 1. Go to Devices > All Devices. 2. Click Action > Unassign campaign. The device status changes to Enrolled and the dummy firmware is reverted to regular firmware.\"]\n",
      "--------------------------------------------------\n",
      "\n",
      "Score: 0.00819672131147541\n",
      "[\"Manage campaigns. Explains how to create and manage campaigns in Knox E-FOTA On-Premises. The campaigns in Knox E-FOTA On-Premises have the same functionality as the campaigns in Knox E-FOTA. To view your campaigns: 1. Sign in to the Knox E-FOTA On-Premises admin console. Ensure you're in the correct workspace by verifying the workspace name in the upper-right corner of the console. 2. In the left sidebar, click Campaigns. A list of campaigns is displayed with their statuses, assigned devices, repeat frequency, start and end dates, and last modified date. Click a campaign name to view its details or modify it. If there are no available campaigns, click CREATE CAMPAIGN in the upper-right corner to create one. See Create a campaign in the Knox E-FOTA admin guide for detailed instructions on how to create a campaign. Select a campaign and click the ACTIONS menu to access the following features: Activate Campaign - Activates the campaign if it has been deactivated, and starts the firmware rollout. Deactivate Campaign - Deactivates the campaign if it's currently active, and stops the firmware rollout. Modify Campaign - Allows you to change the configured campaign policies, including the target firmware and campaign period. Delete Campaign - Deletes the selected campaign.\"]\n",
      "--------------------------------------------------\n",
      "\n",
      "Score: 0.008064516129032258\n",
      "[\"Knox E-FOTA 1.36 release notes. Release notes for Knox E-FOTA 1.36 Service improvements #EMM support Devices can now be synced from the MobileIron and IBM enterprise mobility management systems (EMM) to Knox E-FOTA. #Notes on MobileIron , MobileIron on-premise server: Only version 10.8 and later are supported. MobileIron cloud server: You can only sync device groups from the default space ( Global space ). When connecting to Knox E-FOTA, your GDPR (General Data Privacy Regulation) profile must not be enabled in the MobileIron console. If it is enabled, no data will be synced between MobileIron and Knox E-FOTA. Once connected, you must keep GDPR disabled. Otherwise, the next group sync may cause your synced devices to be removed from Knox E-FOTA. #Custom firmware If you purchased the Software Customization Services license, you can now receive custom firmware by requesting it from a Samsung admin. After you receive custom firmware from a Samsung admin, you can assign it to your campaigns the same way you assign normal firmware. When creating or editing a campaign, you can find the custom firmware listed in the Custom Firmware tab in the Select the target firmware screen. Knox E-FOTA admin portal improvements #Warning message for devices synced from an EMM In the Devices tab, when you select a device that was synced from an EMM, most operations in the Actions drop-down menu are disabled. A warning message appears stating that some actions cannot be performed in this tab. Most operations on such devices can only be done in the EMM groups tab. #Viewing the client app's version number The Device details screen now includes the version number ( Agent version ) of the Knox E-FOTA client installed on the device. #Monitoring license usage in the Dashboard You can now view your license usage in the Dashboard. The Licenses widget contains the following: A pie chart that shows the total license operation rate; that is, the total number of license seats currently assigned over the total number of license seats from all commercial and trial licenses in the account. A list of up to three licenses with the most number of seats in the account. For each license, the following details are shown: Type - Commercial or Trial. Status - Active, Registered (that is, the license has been added to the account but is not yet active), Expired, and Terminated. Operation rate - Number of assigned seats over the total number of seats in this license. End date - Date the license expires. To view a license's details, click on that license's name. The remaining number of seats from all commercial and trial licenses in the account. A View all link that takes you to the Licenses tab, which contains all licenses in the account and their details. #Dashboard with no data The following improvements were made to the Dashboard: If the account has no device data, a blank Device Status widget will be shown. If the account has a device but no campaigns, the Create Campaign button will appear on the Dashboard. If you click it, the Campaign information screen opens, where you can start creating a new campaign. If the account has a device but no license, a Get a License button will appear on the Dashboard. If you click it, a popup appears, where you can get a trial license or search for commercial license resellers. Back to release notes\"]\n",
      "--------------------------------------------------\n",
      "\n",
      "Score: 0.008064516129032258\n",
      "['Sensitive Data Protection (SDP). This feature was deprecated in API level 33 with Knox SDK v3.7. Protecting Data-At-Rest (DAR) on mobile devices is a major concern. While the industry standard is to encrypt all the data on a device, that data is decrypted and accessible after the device boots successfully. This access process means that once a device is lost or stolen, a sophisticated attack can extract data as long as the device is still running, even if the device is locked. Samsung created Sensitive Data Protection (SDP) to address this specific issue. SDP\"meets the Mobile Device Fundamentals Protection Profile (MDFPP) requirements defined by the National Information Assurance Partnership (NIAP) for DAR, meaning that SDP\"is approved for use by the US\"government and military. How SDP works KPE protects user data on the device through Data-at-Rest encryption. Data remains encrypted on disk, and can only be decrypted when the device is powered on. Recovery of data decryption keys is tied to: device hardware, meaning data is recoverable only on the same device, device boot-time integrity measurements, a user credential dependent on configuration Additionally, a mechanism is provided to optionally mark data as sensitive, which subsequently cannot be decrypted while the device is in the locked state. Here are the two protection modes that KPE provides for Data-at-Rest: Protected - All files stored on the device are treated as Protected by default. Protected data is stored on the device file system as encrypted data, and is only decrypted when an application accesses the data. This mechanism provides the data-at-rest protection while the device is powered off. Even if the device is in the lock state, applications can access protected data. Sensitive - Files can also be optionally marked as sensitive, using the Sensitive Data Protection (SDP) mechanism. SDP uses a key management scheme which ensures sensitive files can only be decrypted in the unlocked state, by purging keys from RAM when the device is locked. However, SDP also provides the ability for new files to be written and encrypted in the locked state using public key cryptography. SDP encryption Samsung Galaxy devices supporting Knox 3.3 and above are enabled to support Android\\'s File Based Encryption (FBE) for Data-at-Rest. Data encryption is enforced across the device using: EXT4 encryption FBE mechanism, FIPS compliant hardware crypto module (AES256-XTS) Optionally, the external SD Card can be used with: dm-crypt (introduced with Android 11) or eCryptfs stacked file system, FIPS compliant Kernel crypto module (AES256-CBC). FBE keys are derived using a password entry, which is either the default hard-coded password or the device user\\'s password used to unlock the device. While in the unlocked state, SDP works as follows: Encrypts sensitive data using a per-file File Encryption Key (FEK). These keys are encrypted with the SDPK.sym (Sensitive Data Protection Key, symmetric), which is encrypted by the SdpMasterKey. Keeps the SdpMasterKey in memory only while the device is unlocked, to allow decryption of the SDPK.sym and SDPK.pri (private). Encrypts the SdpMasterKey using the key that is protected by both ephemeral keys derived from the device user\\'s password and a key chaining to the Root Encryption Key (REK) using the Keystore. Clears the SdpMasterKey when it transitions to the locked state, and re-derives it when the user unlocks the device or Work container. While in the locked state, SDP handles apps writes of sensitive data differently: Rejects app attempts to open sensitive data files, as KPE no longer has the keys needed to retrieve sensitive data in memory and cannot re-derive them until the user unlocks the device or Work container. Encrypts any new sensitive app data by using both a: per-user sensitive data ECDH asymmetric key pair (SDPK.pri/pub) , per-file ECDH key pair [DataK.pri/pub] generated on behalf of the app, Protects the private portion of the ECDH key pair (SPDK.pri) with the SdpMasterKey, the same Key Encryption Key (KEK) used to encrypt the sensitive data per-file FEKs. Clears the SdpMasterKey when it transitions to the locked state. See also: File Based Encryption (FBE)\"and Full Disk Encryption (FDE). SDP protection of apps The native Samsung Email app automatically uses SDP to protect email bodies and attachments. For performance reasons, the email header (including the subject and sender) is not protected with SDP. The Knox Chamber is a dedicated directory in the Knox container file system. All stored files within the Knox Chamber directory are automatically marked as sensitive and are handled by the SDP mechanism. Unique advantages of Knox SDP , MDFPP-Compliant - Knox SDP is certified as MDFPP-compliant. Without Knox SDP, the base Android system is not certified as satisfying MDFPP requirements, which mandates a form of SDP. MDFPP compliance is a requirement for many government agencies and the companies they work with. Samsung has more MDFPP-certified products than any other mobility solution provider. Granular Control - You can use Knox SDP to protect not just the whole device, a container, or individual files but also selected database columns. Per-App Password - You can further customize Knox SDP to decrypt a particular app\\'s Sensitive Data only after an app user enters an app-specific password. In this case, the device or container unlock authentication alone does not decrypt app data. An app password is also needed for a higher layer of security. App Protection - Knox SDP is enabled by default to secure both Samsung Email as well as Knox Chamber.']\n",
      "--------------------------------------------------\n",
      "\n",
      "Score: 0.007936507936507936\n",
      "[\"Error codes. This page lists all in-console error codes, and their causes. Client status Code Cause Recommended remediation Failed to enroll 171 Client enrollment failed due to invalid license. Try to check if your license key is expired or invalid. If the problem persists, contact Samsung. Campaign error 361 Campaign error occurred due to invalid campaign information. Try to check and change the target firmware version of current campaign. If the problem persists, contact Samsung. Campaign error 362 Campaign error occurred due to invalid campaign information. Try to check and change the target firmware version of current campaign. If the problem persists, contact Samsung. Invalid firmware 364 Firmware version is invalid. Try to check and change the target firmware version of current campaign. If the problem persists, contact Samsung. Invalid firmware 365 From/to firmware path is invalid. Try to check and change the target firmware version of current campaign. If the problem persists, contact Samsung. Awaiting for Download 501 Download network option in campaign setting is set as Wi-Fi only, but the device's Wi-Fi is turned off. Turn on the device's Wi-Fi, or try to set the Download network option in campaign settings to Any (Wi-Fi or Mobile). Awaiting for Download 502 Device network is in roaming, but Download while roaming is not allowed in the campaign settings. Wait until the device leaves the roaming area, or try to check the Download allowed while roaming option in campaign settings. Awaiting for Download 503 The firmware size is over than the set Switch to Wi-Fi when firmware size is over option value in campaign settings, but the device's Wi-Fi is turned off. Turn on the device's Wi-Fi, or try to uncheck the Switch to Wi-Fi when firmware size is over option in campaign settings. Awaiting for Download 508 Current time is not within the firmware download period. Try to change the Firmware download period in campaign settings, or try to check the device within firmware download period. Failed to download 561 File size mismatch error occurred on the client during download. Try to manually refresh the client on the device by executing a Force client refresh. If the problem persists, contact Samsung. Awaiting for Download 562 Not enough storage space on the device to download firmware. Try to secure free space on the device. Need free space that's twice the size of firmware. Failed to download 563 Network error occurred on the client during download. Press the Retry button to retry downloading the firmware on the device. If the problem persists, contact Samsung. Failed to download 564 Checksum error occurred on the client during download. Try to manually refresh the client on the device by executing a Force client refresh. If the problem persists, contact Samsung. Failed to download 565 File size request error occurred on the client during download. Try to manually refresh the client on the device by executing a Force client refresh. If the problem persists, contact Samsung. Failed to download 566 Requirement rule violated error occurred on the client during download. Try to manually refresh the client on the device by executing a Force client refresh. If the problem persists, contact Samsung. Failed to download 567 File cannot be written error occurred on the client during download. Try to manually refresh the client on the device by executing a Force client refresh. If the problem persists, contact Samsung. Failed to download 568 Unknown error occurred on the client during download. Try to manually refresh the client on the device by executing a Force client refresh. If the problem persists, contact Samsung. Awaiting for install 701 Install error occurs because Allow installation only when connected to charging dock condition doesn't match. Try to install firmware on the device while the device is connected to charging dock, or change the Allow installation only when connected to charging dock option in campaign settings. Awaiting for install 702 Install error occurs because Battery level for installation condition does not match. Try to install firmware on the device after charge the device enough, or change the Battery level for installation option in campaign settings. Awaiting for install 703 At the time of installation, the user is on phone call. Try to install firmware on the device after the phone call is complete. Awaiting for install 704 Device user postponed installation on the device by tapping the Postpone button, tapping the Home or Back buttons, or turning the screen off. Try not to postpone installation on the device, or try to change the Postpone Installation option in campaign settings. Awaiting for install 707 Not enough storage space to install firmware. Try to secure free space on the device. Need free space that's the size of firmware. Awaiting for install 708 Device user tried to install firmware on the device, but the current time isn't within the firmware installation period Try to install firmware on the device within firmware installation period. Failed to install 760 Firmware installation has failed because installation is terminated. Try to manually refresh the client on the device by executing a Force client refresh. If the problem persists, contact Samsung. Failed to install 761 Firmware installation has failed because device information of firmware doesn't match the server information. Try to manually refresh the client on the device by executing a Force client refresh. If the problem persists, contact Samsung. Failed to install 762 Firmware installation has failed because the installation is terminated by the system. Try to manually refresh the client on the device by executing a Force client refresh. If the problem persists, contact Samsung. Failed to install 763 Firmware installation has failed because an unexpected error occurred. Try to manually refresh the client on the device by executing a Force client refresh. If the problem persists, contact Samsung. Failed to install 764 Firmware installation has failed because an error occurred during the delta firmware installation process. Try to manually refresh the client on the device by executing a Force client refresh. If the problem persists, contact Samsung. Failed to install 765 Firmware installation has failed because the dm-verity check failed in recovery mode. Try to manually refresh the client on the device by executing a Force client refresh. If the problem persists, contact Samsung. Failed to install 766 Firmware installation has failed because an update of the recovery area failed. Try to manually refresh the client on the device by executing a Force client refresh. If the problem persists, contact Samsung. Failed to install 767 Firmware installation has failed because an error occurred during the block-based update. Try to manually refresh the client on the device by executing a Force client refresh. If the problem persists, contact Samsung. Failed to install 768 Firmware installation has failed because the token in firmware verification failed. Try to manually refresh the client on the device by executing a Force client refresh. If the problem persists, contact Samsung. Failed to install 769 Firmware installation has failed because there is no result from recovery mode. Try to manually refresh the client on the device by executing a Force client refresh. If the problem persists, contact Samsung. Failed to install 770 Firmware installation has failed because the device is rooted. Knox E-FOTA doesn't support rooting the device. If the device isn't rooted, contact Samsung. Campaign error 921 Null Pointer Exception occurred on the client while reading a campaign. Try to manually refresh the client on the device by executing a Force client refresh. If the problem persists, contact Samsung. Campaign error 922 General Exception occurred on the client while reading a campaign. Try to manually refresh the client on the device by executing a Force client refresh. If the problem persists, contact Samsung.\"]\n",
      "--------------------------------------------------\n",
      "CPU times: user 10.5 ms, sys: 746 µs, total: 11.3 ms\n",
      "Wall time: 189 ms\n"
     ]
    }
   ],
   "source": [
    "%%time\n",
    "\n",
    "\n",
    "filter01 = \"[]\"\n",
    "filter02 = \"[]\"\n",
    "\n",
    "query = \"vefify DM\"\n",
    "\n",
    "search_hybrid_result = search_hybrid(\n",
    "    query=query,\n",
    "    vector_db=vector_db,\n",
    "    k=5,\n",
    "    index_name= index_name,\n",
    "    os_client=os_client,\n",
    "    filter=[\n",
    "        {\"term\": {\"metadata.type\": filter01}},\n",
    "        {\"term\": {\"metadata.source\": filter02}},\n",
    "    ],\n",
    "    Semantic_Search = False,    \n",
    "    Lexical_Search = False,    \n",
    "    Hybrid_Search = True,     \n",
    "    minimum_should_match = 75,   \n",
    "    fusion_algorithm=\"RRF\", # [\"RRF\", \"simple_weighted\"]\n",
    "    ensemble_weights=[.5, .5], # 시멘트 서치에 가중치 0.5 , 키워드 서치 가중치 0.5 부여.\n",
    "    verbose=True\n",
    ")\n",
    "\n"
   ]
  },
  {
   "cell_type": "code",
   "execution_count": null,
   "metadata": {},
   "outputs": [],
   "source": []
  },
  {
   "cell_type": "code",
   "execution_count": null,
   "metadata": {},
   "outputs": [],
   "source": []
  },
  {
   "cell_type": "code",
   "execution_count": null,
   "metadata": {},
   "outputs": [],
   "source": []
  }
 ],
 "metadata": {
  "availableInstances": [
   {
    "_defaultOrder": 0,
    "_isFastLaunch": true,
    "category": "General purpose",
    "gpuNum": 0,
    "hideHardwareSpecs": false,
    "memoryGiB": 4,
    "name": "ml.t3.medium",
    "vcpuNum": 2
   },
   {
    "_defaultOrder": 1,
    "_isFastLaunch": false,
    "category": "General purpose",
    "gpuNum": 0,
    "hideHardwareSpecs": false,
    "memoryGiB": 8,
    "name": "ml.t3.large",
    "vcpuNum": 2
   },
   {
    "_defaultOrder": 2,
    "_isFastLaunch": false,
    "category": "General purpose",
    "gpuNum": 0,
    "hideHardwareSpecs": false,
    "memoryGiB": 16,
    "name": "ml.t3.xlarge",
    "vcpuNum": 4
   },
   {
    "_defaultOrder": 3,
    "_isFastLaunch": false,
    "category": "General purpose",
    "gpuNum": 0,
    "hideHardwareSpecs": false,
    "memoryGiB": 32,
    "name": "ml.t3.2xlarge",
    "vcpuNum": 8
   },
   {
    "_defaultOrder": 4,
    "_isFastLaunch": true,
    "category": "General purpose",
    "gpuNum": 0,
    "hideHardwareSpecs": false,
    "memoryGiB": 8,
    "name": "ml.m5.large",
    "vcpuNum": 2
   },
   {
    "_defaultOrder": 5,
    "_isFastLaunch": false,
    "category": "General purpose",
    "gpuNum": 0,
    "hideHardwareSpecs": false,
    "memoryGiB": 16,
    "name": "ml.m5.xlarge",
    "vcpuNum": 4
   },
   {
    "_defaultOrder": 6,
    "_isFastLaunch": false,
    "category": "General purpose",
    "gpuNum": 0,
    "hideHardwareSpecs": false,
    "memoryGiB": 32,
    "name": "ml.m5.2xlarge",
    "vcpuNum": 8
   },
   {
    "_defaultOrder": 7,
    "_isFastLaunch": false,
    "category": "General purpose",
    "gpuNum": 0,
    "hideHardwareSpecs": false,
    "memoryGiB": 64,
    "name": "ml.m5.4xlarge",
    "vcpuNum": 16
   },
   {
    "_defaultOrder": 8,
    "_isFastLaunch": false,
    "category": "General purpose",
    "gpuNum": 0,
    "hideHardwareSpecs": false,
    "memoryGiB": 128,
    "name": "ml.m5.8xlarge",
    "vcpuNum": 32
   },
   {
    "_defaultOrder": 9,
    "_isFastLaunch": false,
    "category": "General purpose",
    "gpuNum": 0,
    "hideHardwareSpecs": false,
    "memoryGiB": 192,
    "name": "ml.m5.12xlarge",
    "vcpuNum": 48
   },
   {
    "_defaultOrder": 10,
    "_isFastLaunch": false,
    "category": "General purpose",
    "gpuNum": 0,
    "hideHardwareSpecs": false,
    "memoryGiB": 256,
    "name": "ml.m5.16xlarge",
    "vcpuNum": 64
   },
   {
    "_defaultOrder": 11,
    "_isFastLaunch": false,
    "category": "General purpose",
    "gpuNum": 0,
    "hideHardwareSpecs": false,
    "memoryGiB": 384,
    "name": "ml.m5.24xlarge",
    "vcpuNum": 96
   },
   {
    "_defaultOrder": 12,
    "_isFastLaunch": false,
    "category": "General purpose",
    "gpuNum": 0,
    "hideHardwareSpecs": false,
    "memoryGiB": 8,
    "name": "ml.m5d.large",
    "vcpuNum": 2
   },
   {
    "_defaultOrder": 13,
    "_isFastLaunch": false,
    "category": "General purpose",
    "gpuNum": 0,
    "hideHardwareSpecs": false,
    "memoryGiB": 16,
    "name": "ml.m5d.xlarge",
    "vcpuNum": 4
   },
   {
    "_defaultOrder": 14,
    "_isFastLaunch": false,
    "category": "General purpose",
    "gpuNum": 0,
    "hideHardwareSpecs": false,
    "memoryGiB": 32,
    "name": "ml.m5d.2xlarge",
    "vcpuNum": 8
   },
   {
    "_defaultOrder": 15,
    "_isFastLaunch": false,
    "category": "General purpose",
    "gpuNum": 0,
    "hideHardwareSpecs": false,
    "memoryGiB": 64,
    "name": "ml.m5d.4xlarge",
    "vcpuNum": 16
   },
   {
    "_defaultOrder": 16,
    "_isFastLaunch": false,
    "category": "General purpose",
    "gpuNum": 0,
    "hideHardwareSpecs": false,
    "memoryGiB": 128,
    "name": "ml.m5d.8xlarge",
    "vcpuNum": 32
   },
   {
    "_defaultOrder": 17,
    "_isFastLaunch": false,
    "category": "General purpose",
    "gpuNum": 0,
    "hideHardwareSpecs": false,
    "memoryGiB": 192,
    "name": "ml.m5d.12xlarge",
    "vcpuNum": 48
   },
   {
    "_defaultOrder": 18,
    "_isFastLaunch": false,
    "category": "General purpose",
    "gpuNum": 0,
    "hideHardwareSpecs": false,
    "memoryGiB": 256,
    "name": "ml.m5d.16xlarge",
    "vcpuNum": 64
   },
   {
    "_defaultOrder": 19,
    "_isFastLaunch": false,
    "category": "General purpose",
    "gpuNum": 0,
    "hideHardwareSpecs": false,
    "memoryGiB": 384,
    "name": "ml.m5d.24xlarge",
    "vcpuNum": 96
   },
   {
    "_defaultOrder": 20,
    "_isFastLaunch": false,
    "category": "General purpose",
    "gpuNum": 0,
    "hideHardwareSpecs": true,
    "memoryGiB": 0,
    "name": "ml.geospatial.interactive",
    "supportedImageNames": [
     "sagemaker-geospatial-v1-0"
    ],
    "vcpuNum": 0
   },
   {
    "_defaultOrder": 21,
    "_isFastLaunch": true,
    "category": "Compute optimized",
    "gpuNum": 0,
    "hideHardwareSpecs": false,
    "memoryGiB": 4,
    "name": "ml.c5.large",
    "vcpuNum": 2
   },
   {
    "_defaultOrder": 22,
    "_isFastLaunch": false,
    "category": "Compute optimized",
    "gpuNum": 0,
    "hideHardwareSpecs": false,
    "memoryGiB": 8,
    "name": "ml.c5.xlarge",
    "vcpuNum": 4
   },
   {
    "_defaultOrder": 23,
    "_isFastLaunch": false,
    "category": "Compute optimized",
    "gpuNum": 0,
    "hideHardwareSpecs": false,
    "memoryGiB": 16,
    "name": "ml.c5.2xlarge",
    "vcpuNum": 8
   },
   {
    "_defaultOrder": 24,
    "_isFastLaunch": false,
    "category": "Compute optimized",
    "gpuNum": 0,
    "hideHardwareSpecs": false,
    "memoryGiB": 32,
    "name": "ml.c5.4xlarge",
    "vcpuNum": 16
   },
   {
    "_defaultOrder": 25,
    "_isFastLaunch": false,
    "category": "Compute optimized",
    "gpuNum": 0,
    "hideHardwareSpecs": false,
    "memoryGiB": 72,
    "name": "ml.c5.9xlarge",
    "vcpuNum": 36
   },
   {
    "_defaultOrder": 26,
    "_isFastLaunch": false,
    "category": "Compute optimized",
    "gpuNum": 0,
    "hideHardwareSpecs": false,
    "memoryGiB": 96,
    "name": "ml.c5.12xlarge",
    "vcpuNum": 48
   },
   {
    "_defaultOrder": 27,
    "_isFastLaunch": false,
    "category": "Compute optimized",
    "gpuNum": 0,
    "hideHardwareSpecs": false,
    "memoryGiB": 144,
    "name": "ml.c5.18xlarge",
    "vcpuNum": 72
   },
   {
    "_defaultOrder": 28,
    "_isFastLaunch": false,
    "category": "Compute optimized",
    "gpuNum": 0,
    "hideHardwareSpecs": false,
    "memoryGiB": 192,
    "name": "ml.c5.24xlarge",
    "vcpuNum": 96
   },
   {
    "_defaultOrder": 29,
    "_isFastLaunch": true,
    "category": "Accelerated computing",
    "gpuNum": 1,
    "hideHardwareSpecs": false,
    "memoryGiB": 16,
    "name": "ml.g4dn.xlarge",
    "vcpuNum": 4
   },
   {
    "_defaultOrder": 30,
    "_isFastLaunch": false,
    "category": "Accelerated computing",
    "gpuNum": 1,
    "hideHardwareSpecs": false,
    "memoryGiB": 32,
    "name": "ml.g4dn.2xlarge",
    "vcpuNum": 8
   },
   {
    "_defaultOrder": 31,
    "_isFastLaunch": false,
    "category": "Accelerated computing",
    "gpuNum": 1,
    "hideHardwareSpecs": false,
    "memoryGiB": 64,
    "name": "ml.g4dn.4xlarge",
    "vcpuNum": 16
   },
   {
    "_defaultOrder": 32,
    "_isFastLaunch": false,
    "category": "Accelerated computing",
    "gpuNum": 1,
    "hideHardwareSpecs": false,
    "memoryGiB": 128,
    "name": "ml.g4dn.8xlarge",
    "vcpuNum": 32
   },
   {
    "_defaultOrder": 33,
    "_isFastLaunch": false,
    "category": "Accelerated computing",
    "gpuNum": 4,
    "hideHardwareSpecs": false,
    "memoryGiB": 192,
    "name": "ml.g4dn.12xlarge",
    "vcpuNum": 48
   },
   {
    "_defaultOrder": 34,
    "_isFastLaunch": false,
    "category": "Accelerated computing",
    "gpuNum": 1,
    "hideHardwareSpecs": false,
    "memoryGiB": 256,
    "name": "ml.g4dn.16xlarge",
    "vcpuNum": 64
   },
   {
    "_defaultOrder": 35,
    "_isFastLaunch": false,
    "category": "Accelerated computing",
    "gpuNum": 1,
    "hideHardwareSpecs": false,
    "memoryGiB": 61,
    "name": "ml.p3.2xlarge",
    "vcpuNum": 8
   },
   {
    "_defaultOrder": 36,
    "_isFastLaunch": false,
    "category": "Accelerated computing",
    "gpuNum": 4,
    "hideHardwareSpecs": false,
    "memoryGiB": 244,
    "name": "ml.p3.8xlarge",
    "vcpuNum": 32
   },
   {
    "_defaultOrder": 37,
    "_isFastLaunch": false,
    "category": "Accelerated computing",
    "gpuNum": 8,
    "hideHardwareSpecs": false,
    "memoryGiB": 488,
    "name": "ml.p3.16xlarge",
    "vcpuNum": 64
   },
   {
    "_defaultOrder": 38,
    "_isFastLaunch": false,
    "category": "Accelerated computing",
    "gpuNum": 8,
    "hideHardwareSpecs": false,
    "memoryGiB": 768,
    "name": "ml.p3dn.24xlarge",
    "vcpuNum": 96
   },
   {
    "_defaultOrder": 39,
    "_isFastLaunch": false,
    "category": "Memory Optimized",
    "gpuNum": 0,
    "hideHardwareSpecs": false,
    "memoryGiB": 16,
    "name": "ml.r5.large",
    "vcpuNum": 2
   },
   {
    "_defaultOrder": 40,
    "_isFastLaunch": false,
    "category": "Memory Optimized",
    "gpuNum": 0,
    "hideHardwareSpecs": false,
    "memoryGiB": 32,
    "name": "ml.r5.xlarge",
    "vcpuNum": 4
   },
   {
    "_defaultOrder": 41,
    "_isFastLaunch": false,
    "category": "Memory Optimized",
    "gpuNum": 0,
    "hideHardwareSpecs": false,
    "memoryGiB": 64,
    "name": "ml.r5.2xlarge",
    "vcpuNum": 8
   },
   {
    "_defaultOrder": 42,
    "_isFastLaunch": false,
    "category": "Memory Optimized",
    "gpuNum": 0,
    "hideHardwareSpecs": false,
    "memoryGiB": 128,
    "name": "ml.r5.4xlarge",
    "vcpuNum": 16
   },
   {
    "_defaultOrder": 43,
    "_isFastLaunch": false,
    "category": "Memory Optimized",
    "gpuNum": 0,
    "hideHardwareSpecs": false,
    "memoryGiB": 256,
    "name": "ml.r5.8xlarge",
    "vcpuNum": 32
   },
   {
    "_defaultOrder": 44,
    "_isFastLaunch": false,
    "category": "Memory Optimized",
    "gpuNum": 0,
    "hideHardwareSpecs": false,
    "memoryGiB": 384,
    "name": "ml.r5.12xlarge",
    "vcpuNum": 48
   },
   {
    "_defaultOrder": 45,
    "_isFastLaunch": false,
    "category": "Memory Optimized",
    "gpuNum": 0,
    "hideHardwareSpecs": false,
    "memoryGiB": 512,
    "name": "ml.r5.16xlarge",
    "vcpuNum": 64
   },
   {
    "_defaultOrder": 46,
    "_isFastLaunch": false,
    "category": "Memory Optimized",
    "gpuNum": 0,
    "hideHardwareSpecs": false,
    "memoryGiB": 768,
    "name": "ml.r5.24xlarge",
    "vcpuNum": 96
   },
   {
    "_defaultOrder": 47,
    "_isFastLaunch": false,
    "category": "Accelerated computing",
    "gpuNum": 1,
    "hideHardwareSpecs": false,
    "memoryGiB": 16,
    "name": "ml.g5.xlarge",
    "vcpuNum": 4
   },
   {
    "_defaultOrder": 48,
    "_isFastLaunch": false,
    "category": "Accelerated computing",
    "gpuNum": 1,
    "hideHardwareSpecs": false,
    "memoryGiB": 32,
    "name": "ml.g5.2xlarge",
    "vcpuNum": 8
   },
   {
    "_defaultOrder": 49,
    "_isFastLaunch": false,
    "category": "Accelerated computing",
    "gpuNum": 1,
    "hideHardwareSpecs": false,
    "memoryGiB": 64,
    "name": "ml.g5.4xlarge",
    "vcpuNum": 16
   },
   {
    "_defaultOrder": 50,
    "_isFastLaunch": false,
    "category": "Accelerated computing",
    "gpuNum": 1,
    "hideHardwareSpecs": false,
    "memoryGiB": 128,
    "name": "ml.g5.8xlarge",
    "vcpuNum": 32
   },
   {
    "_defaultOrder": 51,
    "_isFastLaunch": false,
    "category": "Accelerated computing",
    "gpuNum": 1,
    "hideHardwareSpecs": false,
    "memoryGiB": 256,
    "name": "ml.g5.16xlarge",
    "vcpuNum": 64
   },
   {
    "_defaultOrder": 52,
    "_isFastLaunch": false,
    "category": "Accelerated computing",
    "gpuNum": 4,
    "hideHardwareSpecs": false,
    "memoryGiB": 192,
    "name": "ml.g5.12xlarge",
    "vcpuNum": 48
   },
   {
    "_defaultOrder": 53,
    "_isFastLaunch": false,
    "category": "Accelerated computing",
    "gpuNum": 4,
    "hideHardwareSpecs": false,
    "memoryGiB": 384,
    "name": "ml.g5.24xlarge",
    "vcpuNum": 96
   },
   {
    "_defaultOrder": 54,
    "_isFastLaunch": false,
    "category": "Accelerated computing",
    "gpuNum": 8,
    "hideHardwareSpecs": false,
    "memoryGiB": 768,
    "name": "ml.g5.48xlarge",
    "vcpuNum": 192
   },
   {
    "_defaultOrder": 55,
    "_isFastLaunch": false,
    "category": "Accelerated computing",
    "gpuNum": 8,
    "hideHardwareSpecs": false,
    "memoryGiB": 1152,
    "name": "ml.p4d.24xlarge",
    "vcpuNum": 96
   },
   {
    "_defaultOrder": 56,
    "_isFastLaunch": false,
    "category": "Accelerated computing",
    "gpuNum": 8,
    "hideHardwareSpecs": false,
    "memoryGiB": 1152,
    "name": "ml.p4de.24xlarge",
    "vcpuNum": 96
   }
  ],
  "instance_type": "ml.m5.xlarge",
  "kernelspec": {
   "display_name": "Python 3 (Data Science 3.0)",
   "language": "python",
   "name": "python3__SAGEMAKER_INTERNAL__arn:aws:sagemaker:us-east-1:081325390199:image/sagemaker-data-science-310-v1"
  },
  "language_info": {
   "codemirror_mode": {
    "name": "ipython",
    "version": 3
   },
   "file_extension": ".py",
   "mimetype": "text/x-python",
   "name": "python",
   "nbconvert_exporter": "python",
   "pygments_lexer": "ipython3",
   "version": "3.10.6"
  }
 },
 "nbformat": 4,
 "nbformat_minor": 4
}
