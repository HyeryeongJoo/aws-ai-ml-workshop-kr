{
 "cells": [
  {
   "cell_type": "markdown",
   "metadata": {
    "tags": []
   },
   "source": [
    "# Explore JSON files\n",
    "\n",
    "\n",
    "---"
   ]
  },
  {
   "cell_type": "markdown",
   "metadata": {},
   "source": [
    "The data is presented in the following way where “sections” is a list of the different web page data and “content” is the body of text for the public facing web page, in the future we will be adding a keyword list for the body of text. The rest of the key value pairs should be easy to follow:\n",
    "########################################\n",
    "\n",
    "![json_structure.png](img/json_structure.png)\n",
    "\n",
    "\n",
    "## 참고:\n",
    "- [LangChain JASON Loaser](https://python.langchain.com/docs/modules/data_connection/document_loaders/json)"
   ]
  },
  {
   "cell_type": "code",
   "execution_count": 2,
   "metadata": {
    "tags": []
   },
   "outputs": [
    {
     "name": "stdout",
     "output_type": "stream",
     "text": [
      "Requirement already satisfied: jq in /opt/conda/lib/python3.10/site-packages (1.6.0)\n",
      "\u001b[33mWARNING: Running pip as the 'root' user can result in broken permissions and conflicting behaviour with the system package manager. It is recommended to use a virtual environment instead: https://pip.pypa.io/warnings/venv\u001b[0m\u001b[33m\n",
      "\u001b[0m"
     ]
    }
   ],
   "source": [
    "!pip install jq\n",
    "\n"
   ]
  },
  {
   "cell_type": "code",
   "execution_count": 3,
   "metadata": {
    "tags": []
   },
   "outputs": [],
   "source": [
    "%load_ext autoreload\n",
    "%autoreload 2\n",
    "\n",
    "import sys, os\n",
    "module_path = \"../..\"\n",
    "sys.path.append(os.path.abspath(module_path))\n",
    "\n",
    "module_path = \"./util\"\n",
    "sys.path.append(os.path.abspath(module_path))"
   ]
  },
  {
   "cell_type": "markdown",
   "metadata": {},
   "source": [
    "# 1. Raw 파일 확인"
   ]
  },
  {
   "cell_type": "code",
   "execution_count": 5,
   "metadata": {
    "tags": []
   },
   "outputs": [],
   "source": [
    "import json\n",
    "from pathlib import Path\n",
    "from pprint import pprint"
   ]
  },
  {
   "cell_type": "code",
   "execution_count": 6,
   "metadata": {
    "tags": []
   },
   "outputs": [],
   "source": [
    "file_path='data/poc/customer_EFOTA.json'\n",
    "# file_path='./example_data/facebook_chat.json'\n",
    "raw_data = json.loads(Path(file_path).read_text())"
   ]
  },
  {
   "cell_type": "code",
   "execution_count": 7,
   "metadata": {
    "tags": []
   },
   "outputs": [
    {
     "data": {
      "text/plain": [
       "1"
      ]
     },
     "execution_count": 7,
     "metadata": {},
     "output_type": "execute_result"
    }
   ],
   "source": [
    "len(raw_data)"
   ]
  },
  {
   "cell_type": "code",
   "execution_count": 8,
   "metadata": {
    "tags": []
   },
   "outputs": [],
   "source": [
    "## pprint(raw_data)"
   ]
  },
  {
   "cell_type": "markdown",
   "metadata": {},
   "source": [
    "# 2. JSON Loader 사용"
   ]
  },
  {
   "cell_type": "code",
   "execution_count": 9,
   "metadata": {
    "tags": []
   },
   "outputs": [],
   "source": [
    "from utils.proc_docs import get_load_json, show_doc_json"
   ]
  },
  {
   "cell_type": "code",
   "execution_count": 10,
   "metadata": {
    "tags": []
   },
   "outputs": [
    {
     "name": "stdout",
     "output_type": "stream",
     "text": [
      "### File name:  customer_KCAP.json\n",
      "### of document:  201\n",
      "### The first doc\n",
      "page_content='AR demo barcodes. Use the following barcodes to test the Knox Capture AR features. Barcode 1 Barcode 2 Barcode 3 Barcode 4 Barcode 5 Barcode 6' metadata={'source': 'customer_KCAP.json', 'seq_num': 1, 'title': 'AR demo barcodes', 'url': 'https://docs.samsungknox.com/admin/knox-capture/ar-demo-barcodes', 'project': 'KCAP', 'last_updated': '2023-10-16'}\n",
      "\n",
      "\n",
      "### File name:  customer_EFOTA.json\n",
      "### of document:  260\n",
      "### The first doc\n",
      "page_content='How-to videos. Contains videos on how to use Knox E-FOTA. This section contains videos on how to use Knox E-FOTA. Getting started with Knox E-FOTA This video walks you through the Knox E-FOTA console and demonstrates how you can register a reseller, approve a device, create a campaign, assign a campaign, and monitor device status. Creating a campaign on Knox E-FOTA The following video provides in-depth information on how to create and apply a Knox E-FOTA campaign to your Samsung devices. Connecting Knox E-FOTA to VMware Workspace ONE The following video describes the simple steps of connecting Knox E-FOTA with VMware Workspace ONE, while adding device groups from Workspace ONE.' metadata={'source': 'customer_EFOTA.json', 'seq_num': 1, 'title': 'How-to videos', 'url': 'https://docs.samsungknox.com/admin/efota-one/how-to-videos', 'project': 'EFOTA', 'last_updated': '2023-09-27'}\n",
      "\n",
      "\n",
      "### File name:  customer_SCPE.json\n",
      "### of document:  187\n",
      "### The first doc\n",
      "page_content='Samsung Care+ for Business. Samsung Care+ for Business is a device protection plan that protects your business devices from any accidental incidents. This includes physical or liquid damage; technical or mechanical failure; as well as software issues. Apply now Audience This document is intended for: IT\"Admins - Learn how to buy and apply licenses, view and manage devices and resellers, and add admins with specific roles for collaborative management. Asset Managers - Learn how to make claims for device damage or failure. Try the solution Buy extended insurance package for enterprise devices, deploy and manage insurance for each device either individually or in bulk, and keep up to date with device and license status from a single screen. Start tutorial About Samsung Care+ for Business Samsung Care+ for Business provides additional care on top of the manufacturer\\'s warranty with full coverage plan for accidental damages and extended warranty for defects. See the list of supported countries. The list is expanding as more and more countries are being added. Extended warranty Extend your basic warranty coverage to up to 5 years Device body: mechanical breakage, design/construction defects, and so on Battery: swelling, leakage, charging problem Protection from accidental damages from handling Cover your corporate devices from any accidents due to business use Screen/water damage repair* * Swap the damaged device instead of repair in some countries Prevention against theft &amp; loss Compensate with the same or equivalent device* * Currently available in select countries only The Samsung Care+ for Business program offering can have slight variations depending on the country. Please contact your local Samsung Care+ for Business sales to discuss the details. About the Knox Admin Portal The Knox Admin Portal allows you to manage your Knox cloud service. You can manage your devices, see their activation status, buy and assign licenses, and much more. For more info on the Knox Admin Portal, see the Knox Admin Portal guide.' metadata={'source': 'customer_SCPE.json', 'seq_num': 1, 'title': 'Samsung Care+ for Business', 'url': 'https://docs.samsungknox.com/admin/care-plus', 'project': 'SCPE', 'last_updated': '2023-08-28'}\n",
      "\n",
      "\n",
      "### File name:  customer_KAM.json\n",
      "### of document:  49\n",
      "### The first doc\n",
      "page_content='How-to videos. This section contains videos on how to use Knox Authentication Manager. Getting started with Knox Authentication Manager This video walks you through how to enable shared Samsung devices to provide multiuser facial biometrics and sign-in automation and help increase frontline worker productivity and safety.' metadata={'source': 'customer_KAM.json', 'seq_num': 1, 'title': 'How-to videos', 'url': 'https://docs.samsungknox.com/admin/knox-authentication-manager/how-to-videos', 'project': 'KAM', 'last_updated': '2023-11-10'}\n",
      "\n",
      "\n",
      "### File name:  customer_KME.json\n",
      "### of document:  287\n",
      "### The first doc\n",
      "page_content=\"How-to videos. This section contains how-to videos related to Knox Mobile Enrollment. Getting started with Knox Mobile Enrollment In this video, you can learn what Knox Mobile Enrollment is, the different features it offers, and how it can be used to bulk enroll devices with an EMM. Specifically, you'll learn how to create profiles, register resellers, approve and configure devices, and assign credentials to end users.\" metadata={'source': 'customer_KME.json', 'seq_num': 1, 'title': 'How-to videos', 'url': 'https://docs.samsungknox.com/admin/knox-mobile-enrollment/how-to-videos', 'project': 'KME', 'last_updated': '2023-08-18'}\n",
      "\n",
      "\n",
      "### File name:  customer_WKC.json\n",
      "### of document:  219\n",
      "### The first doc\n",
      "page_content=\"Knox Configure for Wearables. Knox Configure for wearables (WKC) is a cloud-based service that empowers enterprises to customize and automate the enrollment of Samsung wearable devices purchased from authorized Samsung resellers. Knox Configure for wearable devices simplifies the out-of-box experience and enables a large range of configuration options. #Audience This document is intended for: IT Admins - Admins create profiles with the device settings, restrictions, apps, and other content to deploy to groups of devices. After devices have been successfully enrolled in the enterprise, they receive the KC device profile via a Wi-Fi or mobile data connection. Resellers - Resellers bulk upload devices on behalf of requesting customers. Try the solution Use WKC to configure and customize wearable devices. Unlike phones and tablets, wearable devices utilize unique Tizen based applications and animation specific to the wearable device platform. START TUTORIAL About Knox Configure for wearables Knox Configure is available in separate Setup and Dynamic editions for wearable devices. The Setup edition allows you to deploy settings and profiles a single time with no additional incremental updates available. This profile is designed for customers who want to re-brand devices for their own consumers out-of-the-box. The Setup edition includes a select subset of the policies and settings available in the Dynamic edition's normal mode such as: Pull the latest watch profile, Customize the appearance of the default watch face, Customize the appearance of the booting and shutdown animation, Hide setting and menu elements, Turn USB debugging mode on/off, Remap hardware keys, Disallows software updates, Define custom connectivity settings including , Wi-Fi , Bluetooth , GPS , Airplane mode , NFC , Disable a limited amount of apps To change a wearable device configuration after initial policies are set, the wearable device must be factory reset and the new policies must be re-applied. The Dynamic edition allows you to deploy and update enrolled wearable device policies as many times as needed without a factory reset. Designed for IT admins to configure and customize devices for their employees both dynamically over-the-air and out-of-the-box. The Dynamic edition includes all the policies and settings available in the Setup edition, plus many more. For example: Ability to dynamically push updates to settings, content and applications, ProKiosk mode for purpose-built device setup and management, App restriction (allowlist/blocklist). App disable capabilities. Disabling Capabilities for power saving, lock screen enabling and USB debugging. Restrictions for power-off, factory resets, screen captures and software updates. A lock menu is now available for just devices configured with a dynamic edition Knox Configure profile, and is no longer available for setup edition profiles. If some of the selected target devices are currently assigned a Setup edition profile, the lock menu is disabled until just Dynamic edition devices are selected for update. Learn more about Knox Configure's features by going to the Knox Configure landing page. Knox wearable devices doesn't support Enterprise edition profiles. Prerequisites To begin using Knox Configure for wearable devices: 1. Purchase supported wearable devices from a participating reseller. 2. Sign up for a Samsung Knox portal account. 3. Request access to Knox Configure. 4. Set the correct firewall exceptions to connect to the protected network domain and securely connect to the Knox Configure server. 5. Use a supported browser (Internet Explorer, Firefox, and Chrome). Note that Internet Explorer isn't recommended if using an on-premise MDM. Common Criteria can't be enabled for wearable devices enrolled in Knox Configure. If Common Criteria is enabled, Knox Configure profiles cannot be effectively implemented for wearable devices. #Device User Prerequisites Note that for a wearable device to receive push updates, it needs a network connection through the following options: 1. Without phone connection (WPC) mode , Connect the wearable device to a network by Wi-Fi and receive push updates set by the IT admin through an access point (AP). Or connect the wearable device to a mobile network. 2. Bluetooth companion mode , Connect the wearable device to a network through a mobile device when using companion mode. The deployment process Using the Samsung Knox Configure web console, IT admins and System integrators can create profiles with device settings, restrictions, apps and other custom content to deploy to groups of devices. After devices have been successfully enrolled in the enterprise, they will receive device profiles via Wi-Fi or mobile data. Using a web-based console, IT Admins create profiles with wearable device settings, restrictions, apps, and other content to deploy to groups of wearable devices. After wearable devices have been successfully enrolled in the enterprise, they receive their configuration profiles via Wi-Fi or mobile data. The Knox Configure portal doesn't support these special characters: # / $ \\\\* % ^ & \\\\\\\\ ( ) + ? [ ]. Ensure they are not utilized when inputting characters within the portal. The image below outlines the steps required in the Knox Configure deployment process. A profile push can be completed by the device user by pressing FINISH on their wearable device, or after a 5 second auto-timer expires. The watch's FINISH and RESTART buttons still display, but there is a 5 second timer underneath them to complete the action with less user input. If there is no user input after the 5 second timer countdown, the device screen automatically moves to the device home screen or restarts. This reduces the labor required with large deployments, where the FINISH or RESTART button must be pressed to deploy each wearable device.\" metadata={'source': 'customer_WKC.json', 'seq_num': 1, 'title': 'Knox Configure for Wearables', 'url': 'https://docs.samsungknox.com/admin/knox-configure/knox-configure-wearables/introduction', 'project': 'WKC', 'last_updated': '2023-07-26'}\n",
      "\n",
      "\n",
      "### File name:  customer_KAI.json\n",
      "### of document:  220\n",
      "### The first doc\n",
      "page_content='How-to videos. This section contains videos on how to use Knox Asset Intelligence. Getting the most out of Knox Asset Intelligence This video walks you through how to configure your dashboards and data widgets, and it explores a couple of widgets in more detail.' metadata={'source': 'customer_KAI.json', 'seq_num': 1, 'title': 'How-to videos', 'url': 'https://docs.samsungknox.com/admin/knox-asset-intelligence/how-to-videos', 'project': 'KAI', 'last_updated': '2023-07-26'}\n",
      "\n",
      "\n",
      "### File name:  customer_KM.json\n",
      "### of document:  730\n",
      "### The first doc\n",
      "page_content=\"Add device groups from Knox Manage. Describes how to connect to your Knox Manage account and sync device groups with Knox E-FOTA. This procedure describes how to connect to your Knox Manage account and select the device groups you want to sync with Knox E-FOTA. This procedure assumes that you have the prerequisites needed to connect to . Supported group types You can sync the following types of groups from Knox Manage: Device groups, User groups, AD/LDAP, Organization Add device groups from Knox Manage To add device groups from Knox Manage: 1. Sign in to the Knox Admin Portal. In the left sidebar, click Knox E-FOTA. 2. Go to EMM groups and then click Connect EMM. 3. Select Knox Manage. 4. Enter your credentials: Client ID - For information on how to create a client ID, see Create a client ID in Knox Manage. Note that your client ID is not your Knox Manage username. Password - The password that corresponds to your client ID. URL - Full URL of your Knox Manage admin portal. Tenant ID - Name of your Knox Manage company account. It occurs after @ in your Knox Manage username. 5. Click Connect. The device groups from Knox Manage are loaded. 6. Select the device groups you want to sync to Knox E-FOTA. Only Samsung devices are shown in the device groups. 7. Click Add E-FOTA Groups. The device groups are added to Knox E-FOTA and their details are synced from your EMM. Once the sync is done, you can click on a device group name to view the devices in that group. You cannot modify device group information on Knox E-FOTA. This is only possible through your EMM's console. Every 24 hours, device group information is synced from your EMM to Knox E-FOTA. You can also do a manual sync by clicking Sync now at the top-right corner of the EMM groups tab.\" metadata={'source': 'customer_KM.json', 'seq_num': 1, 'title': 'Add device groups from Knox Manage', 'url': 'https://docs.samsungknox.com/admin/efota-one/emm-integration/knox-manage/add-device-groups-from-knox-manage', 'project': 'KM', 'last_updated': '2023-07-26'}\n",
      "\n",
      "\n",
      "### File name:  customer_USP.json\n",
      "### of document:  111\n",
      "### The first doc\n",
      "page_content=\"Knox licenses. Samsung offers a variety of Knox licenses to support your device management needs. If you're new to Knox services, check out the recommended licensing workflow and the Knox license overview to help you find the license that works best for your enterprise. This page also provides answers to some of the following licensing questions you might have: Can any Knox services be used for free?, Which Knox services offer trial licenses?, How do commercial Knox licenses work?, Which commercial licenses can I get, and where?, Where can I manage my existing licenses? Recommended workflow 1. Generate a trial license for the service you want to use on the Knox Admin Portal. Note that when you get approved for Knox Suite, a trial license is automatically added to your account in the Knox Admin Portal. 2. Test the service by enrolling a device. If you have a Knox Suite trial license, you can also try the other services included with Knox Suite. 3. When you're ready, contact your local Knox reseller to purchase a commercial license. 4. Enter your license key in the Knox Admin Portal to start using Knox services on your full device fleet. License overview Knox licenses are used to activate Knox services on a device. Each license is associated with a license key, an alphanumeric string that acts as an identifier and allows devices to use a Knox service. When you start a trial of a Knox service, you're given a trial license key. Intended for testing and development purposes, these trial keys are valid for 3 months and support up to 30 devices. When you're ready to deploy to your full device fleet, commercial license keys can be purchased from a local reseller, with various expiry dates and license quantities based on what your enterprise needs. You can enter commercial license keys in the Knox Admin Portal. If you're looking for an all-in-one device management experience, a Knox Suite license bundles multiple Knox services. Some standalone licenses are also available for those who want to use individual services instead. If you're not sure which license works best for your enterprise yet, you can replace certain standalone licenses with a Knox Suite license anytime. The reverse also applies. The following tables provide information on the available Knox services, including the license keys they support and where to get a trial license if a service offers it. Purchase Knox commercial licenses from your local reseller. Server-based licenses Server-based licenses include both cloud and on-premises services. Enter cloud license keys on the Knox Admin Portal, and enter on-premises license keys directly on the service console. Knox service Pricing Supported license keys Trial license and where to get it Server type Knox Mobile Enrollment Free No license key required No license key required Cloud Knox Mobile Enrollment(Advanced profile) Paid Knox Suite Knox Suite trial key (Knox Admin Portal) Cloud Knox Manage Paid Knox Suite Knox Manage key Knox Suite trial key (Knox Admin Portal) Cloud Knox E-FOTA Paid Knox Suite Knox E-FOTA key Knox Suite trial key (Knox Admin Portal) Cloud Knox Asset Intelligence Paid Knox Suite Knox Asset Intelligence key Knox Suite trial key (Knox Admin Portal) Cloud Knox Remote Support Paid Knox Suite Knox Manage key Knox Suite trial key (Knox Admin Portal) Cloud Knox Configure Paid Knox Configure key Knox Configure trial key (Knox Admin Portal) Cloud Knox Guard Paid Knox Guard key Knox Guard trial key (Knox Guard console) Cloud Samsung Care+ for Business Paid Samsung Care+ for Business key No trial available Cloud Knox Mobile Enrollment Direct Free No license key required No license key required On-premises Knox E-FOTA On-Premises Paid Knox E-FOTA On-Premises key Contact your Samsung representative On-premises Device-based licenses Enroll your devices with a device-based license by registering it through an EMM. Certain services, like Knox Capture and Knox Capture Scandit Edition, allow you to enroll individual devices by entering a license key directly in the app. Knox service Pricing Supported license keys Trial license and where to get it Knox Platform for Enterprise (Knox Service Plugin) Free Knox Suite Knox Platform for Enterprise Premium key No trial available Knox Platform for Enterprise DualDAR (Knox Service Plugin) Paid Knox Platform for Enterprise DualDAR key No trial available Knox Capture Paid Knox Suite Knox Suite trial key (Knox Admin Portal) Knox Capture Scandit Edition Paid Knox Capture Scandit Edition key Knox Capture Scandit Edition trial key (Knox Admin Portal) Knox Authentication Manager Paid Knox Suite Knox Suite trial key (Knox Admin Portal) Can any Knox services be used for free? Some Knox services are free to use. For certain services, you still need to generate a license to use them. Knox Mobile Enrollment - No license required. Knox Platform for Enterprise (Knox Service Plugin) - Requires a free, device-based Knox Platform for Enterprise Premium license. You can activate this license through your EMM. Knox Mobile Enrollment Direct - Requires a free, on-premises Knox Mobile Enrollment Direct license. You can generate one on the Knox Admin Portal. Which Knox services offer trial licenses? Trial licenses can be generated for the following Knox services on the Knox Admin Portal. These licenses are intended for testing purposes, and support up to 30 devices for 3 months. After your trial ends, your devices and data remain in your account. You can continue using Knox Suite by purchasing a Knox commercial license from your local reseller and replacing your trial license. #Knox Suite trial license , Knox Mobile Enrollment (Advanced profile), Knox Manage, Knox E-FOTA , Knox Asset Intelligence, Knox Remote Support, Knox Capture, Knox Authentication Manager For steps on how to generate a Knox Suite trial license key, refer to the Knox Admin Portal documentation. #Other Knox service trial licenses , Knox Guard, Knox Configure How do commercial Knox licenses work? A commercial Knox license lets you use Knox services across your entire device fleet, and can be obtained through your local Knox reseller. If you don't have a reseller yet, see the Knox reseller directory to find one near you. When you purchase a license from a reseller, you can decide how many seats the license has, which equates to the number of devices you want to activate concurrently on the service. The reseller then gives you a license key, which you can enter on the Knox Admin Portal to register the license. Once a license is assigned to a device, the service you're enrolling in consumes a seat on the license. For example, if your reseller provided you with a 200-seat Knox Configure license, you can have a maximum of 200 devices enrolled in Knox Configure. Each license has an expiry date, after which the license can't be used with Knox services anymore. The exception to this rule is staggered license keys, which allow you to use the service even after the license expiration date, until the service period ends. To add more seats to your license or renew an existing license, contact your Knox reseller. #Staggered licenses Some services, like Knox Configure, Knox Guard, and Samsung Care+ for Business, offer staggered licenses, which allows devices to use a service even after the license expires. These licenses have an activation period, which dictates when you can enroll new devices. Once a device is enrolled, its service period starts, which is how long the device can use a service for. The service period typically remains active after the activation period ends and the license expires. The activation period and service period can differ by service. However, if you purchase more seats on the license before the activation period ends, you can continue to enroll devices for a year past the new purchase date. Let's say you purchased 100 seats on a license in January 2023, which means you can enroll 100 devices until January 2024. If you purchase an extra 100 seats in August 2023, you're now able to enroll all 200 devices with that license until August 2024. Which commercial licenses can I get, and where? The following table lists each Knox service, its license type, and the licenses it supports. Each service name is also linked to its respective documentation, where you can get license information specific to that service. Knox service Type Supported licenses Where to get the license Knox Mobile Enrollment (Advanced profile) Cloud-based Knox Suite Purchase from a reseller Knox Manage Cloud-based Knox Suite Knox Manage standalone key Knox E-FOTA Cloud-based Knox Suite Knox E-FOTA standalone key Knox Asset Intelligence Cloud-based Knox Suite Knox Asset Intelligence standalone key Knox Remote Support Cloud-based Knox Suite Knox Manage standalone key Knox Configure Cloud-based Knox Configure standalone key Knox Guard Cloud-based Knox Guard standalone key Samsung Care+ for Business Cloud-based Samsung Care+ for Business key Knox Platform for Enterprise DualDAR (Knox Service Plugin) Device-based Knox Platform for Enterprise DualDAR key Knox Capture App Knox Suite Knox Capture standalone key Knox Capture Scandit Edition App Knox Capture Scandit Edition standalone key knox Authentication Manager App based Knox Suite Knox E-FOTA On-Premises On-premises Knox E-FOTA On-Premises key Where can I manage my existing licenses? Depending on the service, you can manage your licenses from different locations throughout the Knox Admin Portal, individual services, and your EMM console. If your Knox Platform for Enterprise license is about to expire within the next 90 days, make sure to renew the license for another two years. Otherwise, your existing devices will be impacted. The following table outlines where you can find license information for each Knox service. Knox service License menu location Knox Mobile Enrollment Knox Mobile Enrollment (Advanced profile) Knox Manage Knox E-FOTA Knox Asset Intelligence Knox Remote Support Knox Configure Samsung Care+ for Business Knox Capture Knox Authentication Manager Knox Admin Portal license menu Knox Manage Knox Manage license menu Knox Guard Knox Guard license menu Knox E-FOTA On-Premises Knox E-FOTA On-Premises license menu Knox Platform for Enterprise (Knox Service Plugin) Knox Platform for Enterprise Dual DAR (Knox Service Plugin) Knox Capture Scandit Edition Knox Mobile Enrollment Direct Additional Knox services license menu Knox Platform for Enterprise (Knox Service Plugin) Knox Platform for Enterprise Dual DAR (Knox Service Plugin) Knox Capture Knox Capture Scandit Edition EMM console\" metadata={'source': 'customer_USP.json', 'seq_num': 1, 'title': 'Knox licenses', 'url': 'https://docs.samsungknox.com/admin/fundamentals/knox-licenses', 'project': 'USP', 'last_updated': '2023-07-26'}\n",
      "\n",
      "\n",
      "### File name:  customer_KPE.json\n",
      "### of document:  309\n",
      "### The first doc\n",
      "page_content='How-to videos. This section contains videos on how to use Knox Platform for Enterprise. How to set up key mapping for Microsoft Teams in VMware Workspace ONE This video provides step-by-step instructions to add the Knox Service Plugin (KSP) app to the VMware Workspace ONE UEM console, configure MS Teams in the KSP policies, and deploy the policy to Galaxy XCover devices.' metadata={'source': 'customer_KPE.json', 'seq_num': 1, 'title': 'How-to videos', 'url': 'https://docs.samsungknox.com/admin/knox-platform-for-enterprise/how-to-videos', 'project': 'KPE', 'last_updated': '2023-07-26'}\n",
      "\n",
      "\n",
      "### File name:  customer_KRS.json\n",
      "### of document:  111\n",
      "### The first doc\n",
      "page_content=\"Knox licenses. Samsung offers a variety of Knox licenses to support your device management needs. If you're new to Knox services, check out the recommended licensing workflow and the Knox license overview to help you find the license that works best for your enterprise. This page also provides answers to some of the following licensing questions you might have: Can any Knox services be used for free?, Which Knox services offer trial licenses?, How do commercial Knox licenses work?, Which commercial licenses can I get, and where?, Where can I manage my existing licenses? Recommended workflow 1. Generate a trial license for the service you want to use on the Knox Admin Portal. Note that when you get approved for Knox Suite, a trial license is automatically added to your account in the Knox Admin Portal. 2. Test the service by enrolling a device. If you have a Knox Suite trial license, you can also try the other services included with Knox Suite. 3. When you're ready, contact your local Knox reseller to purchase a commercial license. 4. Enter your license key in the Knox Admin Portal to start using Knox services on your full device fleet. License overview Knox licenses are used to activate Knox services on a device. Each license is associated with a license key, an alphanumeric string that acts as an identifier and allows devices to use a Knox service. When you start a trial of a Knox service, you're given a trial license key. Intended for testing and development purposes, these trial keys are valid for 3 months and support up to 30 devices. When you're ready to deploy to your full device fleet, commercial license keys can be purchased from a local reseller, with various expiry dates and license quantities based on what your enterprise needs. You can enter commercial license keys in the Knox Admin Portal. If you're looking for an all-in-one device management experience, a Knox Suite license bundles multiple Knox services. Some standalone licenses are also available for those who want to use individual services instead. If you're not sure which license works best for your enterprise yet, you can replace certain standalone licenses with a Knox Suite license anytime. The reverse also applies. The following tables provide information on the available Knox services, including the license keys they support and where to get a trial license if a service offers it. Purchase Knox commercial licenses from your local reseller. Server-based licenses Server-based licenses include both cloud and on-premises services. Enter cloud license keys on the Knox Admin Portal, and enter on-premises license keys directly on the service console. Knox service Pricing Supported license keys Trial license and where to get it Server type Knox Mobile Enrollment Free No license key required No license key required Cloud Knox Mobile Enrollment(Advanced profile) Paid Knox Suite Knox Suite trial key (Knox Admin Portal) Cloud Knox Manage Paid Knox Suite Knox Manage key Knox Suite trial key (Knox Admin Portal) Cloud Knox E-FOTA Paid Knox Suite Knox E-FOTA key Knox Suite trial key (Knox Admin Portal) Cloud Knox Asset Intelligence Paid Knox Suite Knox Asset Intelligence key Knox Suite trial key (Knox Admin Portal) Cloud Knox Remote Support Paid Knox Suite Knox Manage key Knox Suite trial key (Knox Admin Portal) Cloud Knox Configure Paid Knox Configure key Knox Configure trial key (Knox Admin Portal) Cloud Knox Guard Paid Knox Guard key Knox Guard trial key (Knox Guard console) Cloud Samsung Care+ for Business Paid Samsung Care+ for Business key No trial available Cloud Knox Mobile Enrollment Direct Free No license key required No license key required On-premises Knox E-FOTA On-Premises Paid Knox E-FOTA On-Premises key Contact your Samsung representative On-premises Device-based licenses Enroll your devices with a device-based license by registering it through an EMM. Certain services, like Knox Capture and Knox Capture Scandit Edition, allow you to enroll individual devices by entering a license key directly in the app. Knox service Pricing Supported license keys Trial license and where to get it Knox Platform for Enterprise (Knox Service Plugin) Free Knox Suite Knox Platform for Enterprise Premium key No trial available Knox Platform for Enterprise DualDAR (Knox Service Plugin) Paid Knox Platform for Enterprise DualDAR key No trial available Knox Capture Paid Knox Suite Knox Suite trial key (Knox Admin Portal) Knox Capture Scandit Edition Paid Knox Capture Scandit Edition key Knox Capture Scandit Edition trial key (Knox Admin Portal) Knox Authentication Manager Paid Knox Suite Knox Suite trial key (Knox Admin Portal) Can any Knox services be used for free? Some Knox services are free to use. For certain services, you still need to generate a license to use them. Knox Mobile Enrollment - No license required. Knox Platform for Enterprise (Knox Service Plugin) - Requires a free, device-based Knox Platform for Enterprise Premium license. You can activate this license through your EMM. Knox Mobile Enrollment Direct - Requires a free, on-premises Knox Mobile Enrollment Direct license. You can generate one on the Knox Admin Portal. Which Knox services offer trial licenses? Trial licenses can be generated for the following Knox services on the Knox Admin Portal. These licenses are intended for testing purposes, and support up to 30 devices for 3 months. After your trial ends, your devices and data remain in your account. You can continue using Knox Suite by purchasing a Knox commercial license from your local reseller and replacing your trial license. #Knox Suite trial license , Knox Mobile Enrollment (Advanced profile), Knox Manage, Knox E-FOTA , Knox Asset Intelligence, Knox Remote Support, Knox Capture, Knox Authentication Manager For steps on how to generate a Knox Suite trial license key, refer to the Knox Admin Portal documentation. #Other Knox service trial licenses , Knox Guard, Knox Configure How do commercial Knox licenses work? A commercial Knox license lets you use Knox services across your entire device fleet, and can be obtained through your local Knox reseller. If you don't have a reseller yet, see the Knox reseller directory to find one near you. When you purchase a license from a reseller, you can decide how many seats the license has, which equates to the number of devices you want to activate concurrently on the service. The reseller then gives you a license key, which you can enter on the Knox Admin Portal to register the license. Once a license is assigned to a device, the service you're enrolling in consumes a seat on the license. For example, if your reseller provided you with a 200-seat Knox Configure license, you can have a maximum of 200 devices enrolled in Knox Configure. Each license has an expiry date, after which the license can't be used with Knox services anymore. The exception to this rule is staggered license keys, which allow you to use the service even after the license expiration date, until the service period ends. To add more seats to your license or renew an existing license, contact your Knox reseller. #Staggered licenses Some services, like Knox Configure, Knox Guard, and Samsung Care+ for Business, offer staggered licenses, which allows devices to use a service even after the license expires. These licenses have an activation period, which dictates when you can enroll new devices. Once a device is enrolled, its service period starts, which is how long the device can use a service for. The service period typically remains active after the activation period ends and the license expires. The activation period and service period can differ by service. However, if you purchase more seats on the license before the activation period ends, you can continue to enroll devices for a year past the new purchase date. Let's say you purchased 100 seats on a license in January 2023, which means you can enroll 100 devices until January 2024. If you purchase an extra 100 seats in August 2023, you're now able to enroll all 200 devices with that license until August 2024. Which commercial licenses can I get, and where? The following table lists each Knox service, its license type, and the licenses it supports. Each service name is also linked to its respective documentation, where you can get license information specific to that service. Knox service Type Supported licenses Where to get the license Knox Mobile Enrollment (Advanced profile) Cloud-based Knox Suite Purchase from a reseller Knox Manage Cloud-based Knox Suite Knox Manage standalone key Knox E-FOTA Cloud-based Knox Suite Knox E-FOTA standalone key Knox Asset Intelligence Cloud-based Knox Suite Knox Asset Intelligence standalone key Knox Remote Support Cloud-based Knox Suite Knox Manage standalone key Knox Configure Cloud-based Knox Configure standalone key Knox Guard Cloud-based Knox Guard standalone key Samsung Care+ for Business Cloud-based Samsung Care+ for Business key Knox Platform for Enterprise DualDAR (Knox Service Plugin) Device-based Knox Platform for Enterprise DualDAR key Knox Capture App Knox Suite Knox Capture standalone key Knox Capture Scandit Edition App Knox Capture Scandit Edition standalone key knox Authentication Manager App based Knox Suite Knox E-FOTA On-Premises On-premises Knox E-FOTA On-Premises key Where can I manage my existing licenses? Depending on the service, you can manage your licenses from different locations throughout the Knox Admin Portal, individual services, and your EMM console. If your Knox Platform for Enterprise license is about to expire within the next 90 days, make sure to renew the license for another two years. Otherwise, your existing devices will be impacted. The following table outlines where you can find license information for each Knox service. Knox service License menu location Knox Mobile Enrollment Knox Mobile Enrollment (Advanced profile) Knox Manage Knox E-FOTA Knox Asset Intelligence Knox Remote Support Knox Configure Samsung Care+ for Business Knox Capture Knox Authentication Manager Knox Admin Portal license menu Knox Manage Knox Manage license menu Knox Guard Knox Guard license menu Knox E-FOTA On-Premises Knox E-FOTA On-Premises license menu Knox Platform for Enterprise (Knox Service Plugin) Knox Platform for Enterprise Dual DAR (Knox Service Plugin) Knox Capture Scandit Edition Knox Mobile Enrollment Direct Additional Knox services license menu Knox Platform for Enterprise (Knox Service Plugin) Knox Platform for Enterprise Dual DAR (Knox Service Plugin) Knox Capture Knox Capture Scandit Edition EMM console\" metadata={'source': 'customer_KRS.json', 'seq_num': 1, 'title': 'Knox licenses', 'url': 'https://docs.samsungknox.com/admin/fundamentals/knox-licenses', 'project': 'USP', 'last_updated': '2023-07-26'}\n",
      "\n",
      "\n",
      "### File name:  customer_KG.json\n",
      "### of document:  228\n",
      "### The first doc\n",
      "page_content='Get support. To get support Select Support from the left-hand navigation menu to review the support resources available within Knox Guard. Refer to the RESOURCES field to review separate User guide, Q&As and API Integration Guide resources available to help navigate the Knox Guard console and use the Knox Guard API. Refer to TECHNICAL SUPPORT if you have any Knox Guard related questions for the Knox team or would like to log a support issue.' metadata={'source': 'customer_KG.json', 'seq_num': 1, 'title': 'Get support', 'url': 'https://docs.samsungknox.com/admin/knox-guard/get-support', 'project': 'KG', 'last_updated': '2023-07-26'}\n",
      "\n",
      "\n",
      "### File name:  customer_KSP.json\n",
      "### of document:  146\n",
      "### The first doc\n",
      "page_content=\"Knox Service Plugin profile failures. To help you analyze issues related to Knox Service Plugin failures, two insights are available on the main Dashboard: The Knox Service Plugin profile failed: Failure policies insight lets you see which policies caused a failure, and how many failure events occurred per policy. The Knox Service Plugin profile failed: Error categories insight lets you see which policy categories caused a profile failure, and how many failure events occurred per category. Failure cases may change, or new failure cases may be added as the Knox Service Plugin is updated. For more information related to Knox Service Plugin errors, please refer to the Error messages page in the admin guide. Main tile views #Knox Service Plugin profile failed: Failure policies The main tile view for the Knox Service Plugin profile failed: Failure policies insight displays the top 10 policies that caused a failure, and the total number of failure events that occurred per policy. #Knox Service Plugin profile failed: Error categories The main tile view displays every error category, and the total number of failure events that occurred per category. Expanded view Both Knox Service Plugin profile failed insights share the same expanded view data. From the main tile views, clicking the expanded view button displays a FAILURE LIST table outlining which devices had failures, which policies caused the failure, and the related failure category. If you hover over the text in the GUIDE column, you'll receive useful troubleshooting tips to help you identify and resolve the failure. Use the filter button near the top right corner of the page to limit the results to a specific profile name, failure policy, or error category. Alternatively, you can filter your data by selecting one of the failure policies or error categories from the respective main tile views.\" metadata={'source': 'customer_KSP.json', 'seq_num': 1, 'title': 'Knox Service Plugin profile failures', 'url': 'https://docs.samsungknox.com/admin/knox-asset-intelligence/dashboard/knox-service-plugin-insights/knox-service-plugin-profile-failures', 'project': 'KSP', 'last_updated': '2023-09-06'}\n",
      "\n",
      "\n",
      "### File name:  customer_KC.json\n",
      "### of document:  311\n",
      "### The first doc\n",
      "page_content='How-to videos. This section contains videos on how to use Knox Configure. Getting started with Knox Configure This video walks you through how to rebrand, customize, and stage your mobile devices right out of the box using Knox Configure.' metadata={'source': 'customer_KC.json', 'seq_num': 1, 'title': 'How-to videos', 'url': 'https://docs.samsungknox.com/admin/knox-configure/how-to-videos', 'project': 'KC', 'last_updated': '2023-07-26'}\n",
      "\n",
      "\n"
     ]
    }
   ],
   "source": [
    "import glob\n",
    "\n",
    "# Specify the directory and file pattern for .txt files\n",
    "folder_path = 'data/poc/*.json'\n",
    "\n",
    "# List all .txt files in the specified folder\n",
    "txt_files = glob.glob(folder_path)\n",
    "\n",
    "# Print the list of .txt files\n",
    "for file_path in txt_files:\n",
    "    doc_json = get_load_json(file_path)\n",
    "    show_doc_json(doc_json, file_path)    \n",
    "    print(\"\\n\")    \n"
   ]
  },
  {
   "cell_type": "code",
   "execution_count": null,
   "metadata": {},
   "outputs": [],
   "source": []
  }
 ],
 "metadata": {
  "availableInstances": [
   {
    "_defaultOrder": 0,
    "_isFastLaunch": true,
    "category": "General purpose",
    "gpuNum": 0,
    "hideHardwareSpecs": false,
    "memoryGiB": 4,
    "name": "ml.t3.medium",
    "vcpuNum": 2
   },
   {
    "_defaultOrder": 1,
    "_isFastLaunch": false,
    "category": "General purpose",
    "gpuNum": 0,
    "hideHardwareSpecs": false,
    "memoryGiB": 8,
    "name": "ml.t3.large",
    "vcpuNum": 2
   },
   {
    "_defaultOrder": 2,
    "_isFastLaunch": false,
    "category": "General purpose",
    "gpuNum": 0,
    "hideHardwareSpecs": false,
    "memoryGiB": 16,
    "name": "ml.t3.xlarge",
    "vcpuNum": 4
   },
   {
    "_defaultOrder": 3,
    "_isFastLaunch": false,
    "category": "General purpose",
    "gpuNum": 0,
    "hideHardwareSpecs": false,
    "memoryGiB": 32,
    "name": "ml.t3.2xlarge",
    "vcpuNum": 8
   },
   {
    "_defaultOrder": 4,
    "_isFastLaunch": true,
    "category": "General purpose",
    "gpuNum": 0,
    "hideHardwareSpecs": false,
    "memoryGiB": 8,
    "name": "ml.m5.large",
    "vcpuNum": 2
   },
   {
    "_defaultOrder": 5,
    "_isFastLaunch": false,
    "category": "General purpose",
    "gpuNum": 0,
    "hideHardwareSpecs": false,
    "memoryGiB": 16,
    "name": "ml.m5.xlarge",
    "vcpuNum": 4
   },
   {
    "_defaultOrder": 6,
    "_isFastLaunch": false,
    "category": "General purpose",
    "gpuNum": 0,
    "hideHardwareSpecs": false,
    "memoryGiB": 32,
    "name": "ml.m5.2xlarge",
    "vcpuNum": 8
   },
   {
    "_defaultOrder": 7,
    "_isFastLaunch": false,
    "category": "General purpose",
    "gpuNum": 0,
    "hideHardwareSpecs": false,
    "memoryGiB": 64,
    "name": "ml.m5.4xlarge",
    "vcpuNum": 16
   },
   {
    "_defaultOrder": 8,
    "_isFastLaunch": false,
    "category": "General purpose",
    "gpuNum": 0,
    "hideHardwareSpecs": false,
    "memoryGiB": 128,
    "name": "ml.m5.8xlarge",
    "vcpuNum": 32
   },
   {
    "_defaultOrder": 9,
    "_isFastLaunch": false,
    "category": "General purpose",
    "gpuNum": 0,
    "hideHardwareSpecs": false,
    "memoryGiB": 192,
    "name": "ml.m5.12xlarge",
    "vcpuNum": 48
   },
   {
    "_defaultOrder": 10,
    "_isFastLaunch": false,
    "category": "General purpose",
    "gpuNum": 0,
    "hideHardwareSpecs": false,
    "memoryGiB": 256,
    "name": "ml.m5.16xlarge",
    "vcpuNum": 64
   },
   {
    "_defaultOrder": 11,
    "_isFastLaunch": false,
    "category": "General purpose",
    "gpuNum": 0,
    "hideHardwareSpecs": false,
    "memoryGiB": 384,
    "name": "ml.m5.24xlarge",
    "vcpuNum": 96
   },
   {
    "_defaultOrder": 12,
    "_isFastLaunch": false,
    "category": "General purpose",
    "gpuNum": 0,
    "hideHardwareSpecs": false,
    "memoryGiB": 8,
    "name": "ml.m5d.large",
    "vcpuNum": 2
   },
   {
    "_defaultOrder": 13,
    "_isFastLaunch": false,
    "category": "General purpose",
    "gpuNum": 0,
    "hideHardwareSpecs": false,
    "memoryGiB": 16,
    "name": "ml.m5d.xlarge",
    "vcpuNum": 4
   },
   {
    "_defaultOrder": 14,
    "_isFastLaunch": false,
    "category": "General purpose",
    "gpuNum": 0,
    "hideHardwareSpecs": false,
    "memoryGiB": 32,
    "name": "ml.m5d.2xlarge",
    "vcpuNum": 8
   },
   {
    "_defaultOrder": 15,
    "_isFastLaunch": false,
    "category": "General purpose",
    "gpuNum": 0,
    "hideHardwareSpecs": false,
    "memoryGiB": 64,
    "name": "ml.m5d.4xlarge",
    "vcpuNum": 16
   },
   {
    "_defaultOrder": 16,
    "_isFastLaunch": false,
    "category": "General purpose",
    "gpuNum": 0,
    "hideHardwareSpecs": false,
    "memoryGiB": 128,
    "name": "ml.m5d.8xlarge",
    "vcpuNum": 32
   },
   {
    "_defaultOrder": 17,
    "_isFastLaunch": false,
    "category": "General purpose",
    "gpuNum": 0,
    "hideHardwareSpecs": false,
    "memoryGiB": 192,
    "name": "ml.m5d.12xlarge",
    "vcpuNum": 48
   },
   {
    "_defaultOrder": 18,
    "_isFastLaunch": false,
    "category": "General purpose",
    "gpuNum": 0,
    "hideHardwareSpecs": false,
    "memoryGiB": 256,
    "name": "ml.m5d.16xlarge",
    "vcpuNum": 64
   },
   {
    "_defaultOrder": 19,
    "_isFastLaunch": false,
    "category": "General purpose",
    "gpuNum": 0,
    "hideHardwareSpecs": false,
    "memoryGiB": 384,
    "name": "ml.m5d.24xlarge",
    "vcpuNum": 96
   },
   {
    "_defaultOrder": 20,
    "_isFastLaunch": false,
    "category": "General purpose",
    "gpuNum": 0,
    "hideHardwareSpecs": true,
    "memoryGiB": 0,
    "name": "ml.geospatial.interactive",
    "supportedImageNames": [
     "sagemaker-geospatial-v1-0"
    ],
    "vcpuNum": 0
   },
   {
    "_defaultOrder": 21,
    "_isFastLaunch": true,
    "category": "Compute optimized",
    "gpuNum": 0,
    "hideHardwareSpecs": false,
    "memoryGiB": 4,
    "name": "ml.c5.large",
    "vcpuNum": 2
   },
   {
    "_defaultOrder": 22,
    "_isFastLaunch": false,
    "category": "Compute optimized",
    "gpuNum": 0,
    "hideHardwareSpecs": false,
    "memoryGiB": 8,
    "name": "ml.c5.xlarge",
    "vcpuNum": 4
   },
   {
    "_defaultOrder": 23,
    "_isFastLaunch": false,
    "category": "Compute optimized",
    "gpuNum": 0,
    "hideHardwareSpecs": false,
    "memoryGiB": 16,
    "name": "ml.c5.2xlarge",
    "vcpuNum": 8
   },
   {
    "_defaultOrder": 24,
    "_isFastLaunch": false,
    "category": "Compute optimized",
    "gpuNum": 0,
    "hideHardwareSpecs": false,
    "memoryGiB": 32,
    "name": "ml.c5.4xlarge",
    "vcpuNum": 16
   },
   {
    "_defaultOrder": 25,
    "_isFastLaunch": false,
    "category": "Compute optimized",
    "gpuNum": 0,
    "hideHardwareSpecs": false,
    "memoryGiB": 72,
    "name": "ml.c5.9xlarge",
    "vcpuNum": 36
   },
   {
    "_defaultOrder": 26,
    "_isFastLaunch": false,
    "category": "Compute optimized",
    "gpuNum": 0,
    "hideHardwareSpecs": false,
    "memoryGiB": 96,
    "name": "ml.c5.12xlarge",
    "vcpuNum": 48
   },
   {
    "_defaultOrder": 27,
    "_isFastLaunch": false,
    "category": "Compute optimized",
    "gpuNum": 0,
    "hideHardwareSpecs": false,
    "memoryGiB": 144,
    "name": "ml.c5.18xlarge",
    "vcpuNum": 72
   },
   {
    "_defaultOrder": 28,
    "_isFastLaunch": false,
    "category": "Compute optimized",
    "gpuNum": 0,
    "hideHardwareSpecs": false,
    "memoryGiB": 192,
    "name": "ml.c5.24xlarge",
    "vcpuNum": 96
   },
   {
    "_defaultOrder": 29,
    "_isFastLaunch": true,
    "category": "Accelerated computing",
    "gpuNum": 1,
    "hideHardwareSpecs": false,
    "memoryGiB": 16,
    "name": "ml.g4dn.xlarge",
    "vcpuNum": 4
   },
   {
    "_defaultOrder": 30,
    "_isFastLaunch": false,
    "category": "Accelerated computing",
    "gpuNum": 1,
    "hideHardwareSpecs": false,
    "memoryGiB": 32,
    "name": "ml.g4dn.2xlarge",
    "vcpuNum": 8
   },
   {
    "_defaultOrder": 31,
    "_isFastLaunch": false,
    "category": "Accelerated computing",
    "gpuNum": 1,
    "hideHardwareSpecs": false,
    "memoryGiB": 64,
    "name": "ml.g4dn.4xlarge",
    "vcpuNum": 16
   },
   {
    "_defaultOrder": 32,
    "_isFastLaunch": false,
    "category": "Accelerated computing",
    "gpuNum": 1,
    "hideHardwareSpecs": false,
    "memoryGiB": 128,
    "name": "ml.g4dn.8xlarge",
    "vcpuNum": 32
   },
   {
    "_defaultOrder": 33,
    "_isFastLaunch": false,
    "category": "Accelerated computing",
    "gpuNum": 4,
    "hideHardwareSpecs": false,
    "memoryGiB": 192,
    "name": "ml.g4dn.12xlarge",
    "vcpuNum": 48
   },
   {
    "_defaultOrder": 34,
    "_isFastLaunch": false,
    "category": "Accelerated computing",
    "gpuNum": 1,
    "hideHardwareSpecs": false,
    "memoryGiB": 256,
    "name": "ml.g4dn.16xlarge",
    "vcpuNum": 64
   },
   {
    "_defaultOrder": 35,
    "_isFastLaunch": false,
    "category": "Accelerated computing",
    "gpuNum": 1,
    "hideHardwareSpecs": false,
    "memoryGiB": 61,
    "name": "ml.p3.2xlarge",
    "vcpuNum": 8
   },
   {
    "_defaultOrder": 36,
    "_isFastLaunch": false,
    "category": "Accelerated computing",
    "gpuNum": 4,
    "hideHardwareSpecs": false,
    "memoryGiB": 244,
    "name": "ml.p3.8xlarge",
    "vcpuNum": 32
   },
   {
    "_defaultOrder": 37,
    "_isFastLaunch": false,
    "category": "Accelerated computing",
    "gpuNum": 8,
    "hideHardwareSpecs": false,
    "memoryGiB": 488,
    "name": "ml.p3.16xlarge",
    "vcpuNum": 64
   },
   {
    "_defaultOrder": 38,
    "_isFastLaunch": false,
    "category": "Accelerated computing",
    "gpuNum": 8,
    "hideHardwareSpecs": false,
    "memoryGiB": 768,
    "name": "ml.p3dn.24xlarge",
    "vcpuNum": 96
   },
   {
    "_defaultOrder": 39,
    "_isFastLaunch": false,
    "category": "Memory Optimized",
    "gpuNum": 0,
    "hideHardwareSpecs": false,
    "memoryGiB": 16,
    "name": "ml.r5.large",
    "vcpuNum": 2
   },
   {
    "_defaultOrder": 40,
    "_isFastLaunch": false,
    "category": "Memory Optimized",
    "gpuNum": 0,
    "hideHardwareSpecs": false,
    "memoryGiB": 32,
    "name": "ml.r5.xlarge",
    "vcpuNum": 4
   },
   {
    "_defaultOrder": 41,
    "_isFastLaunch": false,
    "category": "Memory Optimized",
    "gpuNum": 0,
    "hideHardwareSpecs": false,
    "memoryGiB": 64,
    "name": "ml.r5.2xlarge",
    "vcpuNum": 8
   },
   {
    "_defaultOrder": 42,
    "_isFastLaunch": false,
    "category": "Memory Optimized",
    "gpuNum": 0,
    "hideHardwareSpecs": false,
    "memoryGiB": 128,
    "name": "ml.r5.4xlarge",
    "vcpuNum": 16
   },
   {
    "_defaultOrder": 43,
    "_isFastLaunch": false,
    "category": "Memory Optimized",
    "gpuNum": 0,
    "hideHardwareSpecs": false,
    "memoryGiB": 256,
    "name": "ml.r5.8xlarge",
    "vcpuNum": 32
   },
   {
    "_defaultOrder": 44,
    "_isFastLaunch": false,
    "category": "Memory Optimized",
    "gpuNum": 0,
    "hideHardwareSpecs": false,
    "memoryGiB": 384,
    "name": "ml.r5.12xlarge",
    "vcpuNum": 48
   },
   {
    "_defaultOrder": 45,
    "_isFastLaunch": false,
    "category": "Memory Optimized",
    "gpuNum": 0,
    "hideHardwareSpecs": false,
    "memoryGiB": 512,
    "name": "ml.r5.16xlarge",
    "vcpuNum": 64
   },
   {
    "_defaultOrder": 46,
    "_isFastLaunch": false,
    "category": "Memory Optimized",
    "gpuNum": 0,
    "hideHardwareSpecs": false,
    "memoryGiB": 768,
    "name": "ml.r5.24xlarge",
    "vcpuNum": 96
   },
   {
    "_defaultOrder": 47,
    "_isFastLaunch": false,
    "category": "Accelerated computing",
    "gpuNum": 1,
    "hideHardwareSpecs": false,
    "memoryGiB": 16,
    "name": "ml.g5.xlarge",
    "vcpuNum": 4
   },
   {
    "_defaultOrder": 48,
    "_isFastLaunch": false,
    "category": "Accelerated computing",
    "gpuNum": 1,
    "hideHardwareSpecs": false,
    "memoryGiB": 32,
    "name": "ml.g5.2xlarge",
    "vcpuNum": 8
   },
   {
    "_defaultOrder": 49,
    "_isFastLaunch": false,
    "category": "Accelerated computing",
    "gpuNum": 1,
    "hideHardwareSpecs": false,
    "memoryGiB": 64,
    "name": "ml.g5.4xlarge",
    "vcpuNum": 16
   },
   {
    "_defaultOrder": 50,
    "_isFastLaunch": false,
    "category": "Accelerated computing",
    "gpuNum": 1,
    "hideHardwareSpecs": false,
    "memoryGiB": 128,
    "name": "ml.g5.8xlarge",
    "vcpuNum": 32
   },
   {
    "_defaultOrder": 51,
    "_isFastLaunch": false,
    "category": "Accelerated computing",
    "gpuNum": 1,
    "hideHardwareSpecs": false,
    "memoryGiB": 256,
    "name": "ml.g5.16xlarge",
    "vcpuNum": 64
   },
   {
    "_defaultOrder": 52,
    "_isFastLaunch": false,
    "category": "Accelerated computing",
    "gpuNum": 4,
    "hideHardwareSpecs": false,
    "memoryGiB": 192,
    "name": "ml.g5.12xlarge",
    "vcpuNum": 48
   },
   {
    "_defaultOrder": 53,
    "_isFastLaunch": false,
    "category": "Accelerated computing",
    "gpuNum": 4,
    "hideHardwareSpecs": false,
    "memoryGiB": 384,
    "name": "ml.g5.24xlarge",
    "vcpuNum": 96
   },
   {
    "_defaultOrder": 54,
    "_isFastLaunch": false,
    "category": "Accelerated computing",
    "gpuNum": 8,
    "hideHardwareSpecs": false,
    "memoryGiB": 768,
    "name": "ml.g5.48xlarge",
    "vcpuNum": 192
   },
   {
    "_defaultOrder": 55,
    "_isFastLaunch": false,
    "category": "Accelerated computing",
    "gpuNum": 8,
    "hideHardwareSpecs": false,
    "memoryGiB": 1152,
    "name": "ml.p4d.24xlarge",
    "vcpuNum": 96
   },
   {
    "_defaultOrder": 56,
    "_isFastLaunch": false,
    "category": "Accelerated computing",
    "gpuNum": 8,
    "hideHardwareSpecs": false,
    "memoryGiB": 1152,
    "name": "ml.p4de.24xlarge",
    "vcpuNum": 96
   }
  ],
  "instance_type": "ml.m5.xlarge",
  "kernelspec": {
   "display_name": "Python 3 (Data Science 3.0)",
   "language": "python",
   "name": "python3__SAGEMAKER_INTERNAL__arn:aws:sagemaker:us-east-1:081325390199:image/sagemaker-data-science-310-v1"
  },
  "language_info": {
   "codemirror_mode": {
    "name": "ipython",
    "version": 3
   },
   "file_extension": ".py",
   "mimetype": "text/x-python",
   "name": "python",
   "nbconvert_exporter": "python",
   "pygments_lexer": "ipython3",
   "version": "3.10.6"
  }
 },
 "nbformat": 4,
 "nbformat_minor": 4
}
