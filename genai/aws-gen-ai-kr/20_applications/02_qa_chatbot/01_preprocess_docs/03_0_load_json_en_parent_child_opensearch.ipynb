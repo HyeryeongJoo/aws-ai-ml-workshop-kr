{
 "cells": [
  {
   "cell_type": "markdown",
   "metadata": {
    "tags": []
   },
   "source": [
    "# Parent-Child Chunk 를 OpenSearch 에 저장\n",
    "\n",
    "이 노트북은 전체 문서를 Parent, Child 문서로 구분을 하여 오픈 서치 벡터스토어에 저장을 하고, 테스트를 하는 노트북 입니다. 또한 일부 문서로 검증 인덱스를 생성하여 테스트 용으로 만들기 위한 노트북 입니다.\n",
    "\n",
    "---"
   ]
  },
  {
   "cell_type": "markdown",
   "metadata": {},
   "source": [
    "## [중요] 사전 실행 노트북\n",
    "이 노트북은 아래 두개의 셋업 노트북이 먼저 실행이 되어야 합니다.\n",
    "- (1) Setup 노트북\n",
    "    - 경로는 aws-ai-ml-workshop-kr/genai/aws-gen-ai-kr/00_setup/setup.ipynb 와 같습니다.\n",
    "    -  [Setup Notebook](https://github.com/aws-samples/aws-ai-ml-workshop-kr/blob/master/genai/aws-gen-ai-kr/00_setup/setup.ipynb)\n",
    "- (2) Amazon OpenSearch 설치 노트북    \n",
    "    - 경로는 aws-ai-ml-workshop-kr/genai/aws-gen-ai-kr/00_setup/setup_opensearch.ipynb 와 같습니다.\n",
    "    - [Setup OpenSearch](https://github.com/aws-samples/aws-ai-ml-workshop-kr/blob/master/genai/aws-gen-ai-kr/00_setup/setup_opensearch.ipynb)"
   ]
  },
  {
   "cell_type": "markdown",
   "metadata": {
    "tags": []
   },
   "source": [
    "# 1. Bedrock Client 생성"
   ]
  },
  {
   "cell_type": "code",
   "execution_count": 1,
   "metadata": {
    "tags": []
   },
   "outputs": [
    {
     "name": "stdout",
     "output_type": "stream",
     "text": [
      "python path: /home/sagemaker-user/aws-ai-ml-workshop-kr/genai/aws-gen-ai-kr/20_applications/02_qa_chatbot is added\n",
      "sys.path:  ['/home/sagemaker-user/aws-ai-ml-workshop-kr/genai/aws-gen-ai-kr/20_applications/02_qa_chatbot/01_preprocess_docs', '/opt/conda/lib/python310.zip', '/opt/conda/lib/python3.10', '/opt/conda/lib/python3.10/lib-dynload', '', '/opt/conda/lib/python3.10/site-packages', '/home/sagemaker-user/aws-ai-ml-workshop-kr/genai/aws-gen-ai-kr/20_applications/02_qa_chatbot']\n"
     ]
    }
   ],
   "source": [
    "%load_ext autoreload\n",
    "%autoreload 2\n",
    "\n",
    "import sys, os\n",
    "def add_python_path(module_path):\n",
    "    if os.path.abspath(module_path) not in sys.path:\n",
    "        sys.path.append(os.path.abspath(module_path))\n",
    "        print(f\"python path: {os.path.abspath(module_path)} is added\")\n",
    "    else:\n",
    "        print(f\"python path: {os.path.abspath(module_path)} already exists\")\n",
    "    print(\"sys.path: \", sys.path)\n",
    "\n",
    "module_path = \"..\"\n",
    "add_python_path(module_path)\n"
   ]
  },
  {
   "cell_type": "code",
   "execution_count": 3,
   "metadata": {
    "tags": []
   },
   "outputs": [
    {
     "name": "stdout",
     "output_type": "stream",
     "text": [
      "Create new client\n",
      "  Using region: us-east-1\n",
      "  Using profile: None\n",
      "boto3 Bedrock client successfully created!\n",
      "bedrock-runtime(https://bedrock-runtime.us-east-1.amazonaws.com)\n",
      "\u001b[32m\n",
      "== FM lists ==\u001b[0m\n",
      "{'Claude-Instant-V1': 'anthropic.claude-instant-v1',\n",
      " 'Claude-V1': 'anthropic.claude-v1',\n",
      " 'Claude-V2': 'anthropic.claude-v2',\n",
      " 'Claude-V2-1': 'anthropic.claude-v2:1',\n",
      " 'Cohere-Embeddings-En': 'cohere.embed-english-v3',\n",
      " 'Cohere-Embeddings-Multilingual': 'cohere.embed-multilingual-v3',\n",
      " 'Command': 'cohere.command-text-v14',\n",
      " 'Command-Light': 'cohere.command-light-text-v14',\n",
      " 'Jurassic-2-Mid': 'ai21.j2-mid-v1',\n",
      " 'Jurassic-2-Ultra': 'ai21.j2-ultra-v1',\n",
      " 'Llama2-13b-Chat': 'meta.llama2-13b-chat-v1',\n",
      " 'Titan-Embeddings-G1': 'amazon.titan-embed-text-v1',\n",
      " 'Titan-Text-G1': 'amazon.titan-text-express-v1',\n",
      " 'Titan-Text-G1-Light': 'amazon.titan-text-lite-v1'}\n"
     ]
    }
   ],
   "source": [
    "import json\n",
    "import boto3\n",
    "from pprint import pprint\n",
    "from termcolor import colored\n",
    "from local_utils import bedrock, print_ww\n",
    "from local_utils.bedrock import bedrock_info\n",
    "\n",
    "# ---- ⚠️ Un-comment and edit the below lines as needed for your AWS setup ⚠️ ----\n",
    "\n",
    "# os.environ[\"AWS_DEFAULT_REGION\"] = \"<REGION_NAME>\"  # E.g. \"us-east-1\"\n",
    "# os.environ[\"AWS_PROFILE\"] = \"<YOUR_PROFILE>\"\n",
    "# os.environ[\"BEDROCK_ASSUME_ROLE\"] = \"<YOUR_ROLE_ARN>\"  # E.g. \"arn:aws:...\"\n",
    "# os.environ[\"BEDROCK_ENDPOINT_URL\"] = \"<YOUR_ENDPOINT_URL>\"  # E.g. \"https://...\"\n",
    "\n",
    "\n",
    "boto3_bedrock = bedrock.get_bedrock_client(\n",
    "    assumed_role=os.environ.get(\"BEDROCK_ASSUME_ROLE\", None),\n",
    "    endpoint_url=os.environ.get(\"BEDROCK_ENDPOINT_URL\", None),\n",
    "    region=os.environ.get(\"AWS_DEFAULT_REGION\", None),\n",
    ")\n",
    "\n",
    "print(colored(\"\\n== FM lists ==\", \"green\"))\n",
    "pprint(bedrock_info.get_list_fm_models())"
   ]
  },
  {
   "cell_type": "markdown",
   "metadata": {},
   "source": [
    "# 2. Embedding 모델 로딩"
   ]
  },
  {
   "cell_type": "markdown",
   "metadata": {},
   "source": [
    "## Embedding Model 선택"
   ]
  },
  {
   "cell_type": "code",
   "execution_count": 4,
   "metadata": {
    "tags": []
   },
   "outputs": [],
   "source": [
    "Use_Titan_Embedding = True\n",
    "Use_Cohere_English_Embedding = False"
   ]
  },
  {
   "cell_type": "markdown",
   "metadata": {},
   "source": [
    "## Embedding Model 로딩"
   ]
  },
  {
   "cell_type": "code",
   "execution_count": 5,
   "metadata": {
    "tags": []
   },
   "outputs": [
    {
     "data": {
      "text/plain": [
       "BedrockEmbeddings(client=<botocore.client.BedrockRuntime object at 0x7fbb7327a590>, region_name=None, credentials_profile_name=None, model_id='amazon.titan-embed-text-v1', model_kwargs=None, endpoint_url=None, normalize=False)"
      ]
     },
     "execution_count": 5,
     "metadata": {},
     "output_type": "execute_result"
    }
   ],
   "source": [
    "# We will be using the Titan Embeddings Model to generate our Embeddings.\n",
    "from langchain.embeddings import BedrockEmbeddings\n",
    "from langchain.llms.bedrock import Bedrock\n",
    "\n",
    "if Use_Titan_Embedding:\n",
    "    llm_emb = BedrockEmbeddings(client=boto3_bedrock, model_id = \"amazon.titan-embed-text-v1\")\n",
    "    dimension = 1536\n",
    "elif Use_Cohere_English_Embedding:\n",
    "    llm_emb = BedrockEmbeddings(client=boto3_bedrock, model_id = \"cohere.embed-english-v3\")    \n",
    "    dimension = 1024\n",
    "else:\n",
    "    lim_emb = None\n",
    "\n",
    "llm_emb"
   ]
  },
  {
   "cell_type": "markdown",
   "metadata": {
    "tags": []
   },
   "source": [
    "# 3. Load all Json files"
   ]
  },
  {
   "cell_type": "code",
   "execution_count": 6,
   "metadata": {
    "tags": []
   },
   "outputs": [],
   "source": [
    "from local_utils.proc_docs import get_load_json, show_doc_json"
   ]
  },
  {
   "cell_type": "code",
   "execution_count": 7,
   "metadata": {
    "tags": []
   },
   "outputs": [
    {
     "name": "stdout",
     "output_type": "stream",
     "text": [
      ".[]\n",
      "all json files:  1\n",
      "all items:  1732\n"
     ]
    }
   ],
   "source": [
    "import glob\n",
    "\n",
    "# Specify the directory and file pattern for .txt files\n",
    "folder_path = 'data/poc/preprocessed_json/all_processed_data.json'\n",
    "\n",
    "# List all .txt files in the specified folder\n",
    "json_files = glob.glob(folder_path)\n",
    "# json_files = ['data/poc/customer_EFOTA.json']\n",
    "\n",
    "# Load each item per json file and append to a list\n",
    "doc_json_list = []\n",
    "for file_path in json_files:\n",
    "    doc_json = get_load_json(file_path)\n",
    "    doc_json_list.append(doc_json)\n",
    "\n",
    "print(\"all json files: \", len(doc_json_list))    \n",
    "# Flatten the list of lists into a single list\n",
    "all_docs = []\n",
    "for item in doc_json_list:\n",
    "        all_docs.extend(item)\n",
    "        \n",
    "print(\"all items: \", len(all_docs))"
   ]
  },
  {
   "cell_type": "markdown",
   "metadata": {
    "tags": []
   },
   "source": [
    "# 4. Index 생성"
   ]
  },
  {
   "cell_type": "markdown",
   "metadata": {
    "tags": []
   },
   "source": [
    "## Index 이름 결정"
   ]
  },
  {
   "cell_type": "code",
   "execution_count": 8,
   "metadata": {
    "tags": []
   },
   "outputs": [],
   "source": [
    "index_name = \"v24-genai-poc-knox-parent-doc-retriever\""
   ]
  },
  {
   "cell_type": "markdown",
   "metadata": {
    "tags": []
   },
   "source": [
    "## Index 스키마 정의"
   ]
  },
  {
   "cell_type": "code",
   "execution_count": 9,
   "metadata": {
    "tags": []
   },
   "outputs": [],
   "source": [
    "index_body = {\n",
    "    'settings': {\n",
    "        'index': {\n",
    "            'knn': True,\n",
    "            'knn.space_type': 'cosinesimil'  # Example space type\n",
    "        }\n",
    "    },\n",
    "    'mappings': {\n",
    "        'properties': {\n",
    "            'metadata': {\n",
    "                'properties': {\n",
    "                               'source' : {'type': 'keyword'},\n",
    "                               'family_tree' : {'type': 'keyword'},                                        \n",
    "                               'parent_id' : {'type': 'keyword'},                    \n",
    "                               'last_updated': {'type': 'date'},\n",
    "                               'project': {'type': 'keyword'},\n",
    "                               'seq_num': {'type': 'long'},\n",
    "                               'title': {'type': 'text'},  # For full-text search\n",
    "                               'url': {'type': 'text'},  # For full-text search\n",
    "                            }\n",
    "            },            \n",
    "            'text': {\n",
    "                'type': 'text'\n",
    "            },\n",
    "            'vector_field': {\n",
    "                'type': 'knn_vector',\n",
    "                'dimension': f\"{dimension}\"  # Replace with your vector dimension\n",
    "            }\n",
    "        }\n",
    "    }\n",
    "}\n"
   ]
  },
  {
   "cell_type": "markdown",
   "metadata": {
    "tags": []
   },
   "source": [
    "# 5. LangChain OpenSearch VectorStore 생성 \n",
    "## 선수 조건\n"
   ]
  },
  {
   "cell_type": "markdown",
   "metadata": {
    "tags": []
   },
   "source": [
    "## 오픈 서치 도메인 및 인증 정보 세팅\n",
    "\n",
    "- [langchain.vectorstores.opensearch_vector_search.OpenSearchVectorSearch](https://api.python.langchain.com/en/latest/vectorstores/langchain.vectorstores.opensearch_vector_search.OpenSearchVectorSearch.html)"
   ]
  },
  {
   "cell_type": "markdown",
   "metadata": {},
   "source": [
    "#### [중요] 아래에 aws parameter store 에 아래 인증정보가 먼저 입력되어 있어야 합니다."
   ]
  },
  {
   "cell_type": "code",
   "execution_count": 10,
   "metadata": {
    "tags": []
   },
   "outputs": [],
   "source": [
    "from local_utils.proc_docs import get_parameter"
   ]
  },
  {
   "cell_type": "code",
   "execution_count": 11,
   "metadata": {
    "tags": []
   },
   "outputs": [],
   "source": [
    "import boto3\n",
    "ssm = boto3.client('ssm', 'us-east-1')\n",
    "\n",
    "opensearch_domain_endpoint = get_parameter(\n",
    "    boto3_clinet = ssm,\n",
    "    parameter_name = 'knox_opensearch_domain_endpoint',\n",
    ")\n",
    "\n",
    "opensearch_user_id = get_parameter(\n",
    "    boto3_clinet = ssm,\n",
    "    parameter_name = 'knox_opensearch_userid',\n",
    ")\n",
    "\n",
    "opensearch_user_password = get_parameter(\n",
    "    boto3_clinet = ssm,\n",
    "    parameter_name = 'knox_opensearch_password',\n",
    ")\n"
   ]
  },
  {
   "cell_type": "code",
   "execution_count": 12,
   "metadata": {
    "tags": []
   },
   "outputs": [],
   "source": [
    "opensearch_domain_endpoint = opensearch_domain_endpoint\n",
    "rag_user_name = opensearch_user_id\n",
    "rag_user_password = opensearch_user_password\n",
    "\n",
    "http_auth = (rag_user_name, rag_user_password) # Master username, Master password"
   ]
  },
  {
   "cell_type": "markdown",
   "metadata": {},
   "source": [
    "## OpenSearch Client 생성"
   ]
  },
  {
   "cell_type": "code",
   "execution_count": 14,
   "metadata": {
    "tags": []
   },
   "outputs": [],
   "source": [
    "from local_utils.opensearch import opensearch_utils"
   ]
  },
  {
   "cell_type": "code",
   "execution_count": 15,
   "metadata": {
    "tags": []
   },
   "outputs": [],
   "source": [
    "aws_region = os.environ.get(\"AWS_DEFAULT_REGION\", None)\n",
    "\n",
    "os_client = opensearch_utils.create_aws_opensearch_client(\n",
    "    aws_region,\n",
    "    opensearch_domain_endpoint,\n",
    "    http_auth\n",
    ")"
   ]
  },
  {
   "cell_type": "markdown",
   "metadata": {},
   "source": [
    "## 오픈 서치 인덱스 생성 \n",
    "- 오픈 서치에 해당 인덱스가 존재하면, 삭제 합니다. "
   ]
  },
  {
   "cell_type": "code",
   "execution_count": 16,
   "metadata": {
    "tags": []
   },
   "outputs": [],
   "source": [
    "from local_utils.opensearch import opensearch_utils"
   ]
  },
  {
   "cell_type": "code",
   "execution_count": 17,
   "metadata": {
    "tags": []
   },
   "outputs": [
    {
     "name": "stdout",
     "output_type": "stream",
     "text": [
      "index_name=v24-genai-poc-knox-parent-doc-retriever, exists=False\n",
      "\n",
      "Creating index:\n",
      "{'acknowledged': True, 'shards_acknowledged': True, 'index': 'v24-genai-poc-knox-parent-doc-retriever'}\n",
      "Index is created\n",
      "{'v24-genai-poc-knox-parent-doc-retriever': {'aliases': {},\n",
      "                                             'mappings': {'properties': {'metadata': {'properties': {'family_tree': {'type': 'keyword'},\n",
      "                                                                                                     'last_updated': {'type': 'date'},\n",
      "                                                                                                     'parent_id': {'type': 'keyword'},\n",
      "                                                                                                     'project': {'type': 'keyword'},\n",
      "                                                                                                     'seq_num': {'type': 'long'},\n",
      "                                                                                                     'source': {'type': 'keyword'},\n",
      "                                                                                                     'title': {'type': 'text'},\n",
      "                                                                                                     'url': {'type': 'text'}}},\n",
      "                                                                         'text': {'type': 'text'},\n",
      "                                                                         'vector_field': {'dimension': 1536,\n",
      "                                                                                          'type': 'knn_vector'}}},\n",
      "                                             'settings': {'index': {'creation_date': '1708852092653',\n",
      "                                                                    'knn': 'true',\n",
      "                                                                    'knn.space_type': 'cosinesimil',\n",
      "                                                                    'number_of_replicas': '1',\n",
      "                                                                    'number_of_shards': '5',\n",
      "                                                                    'provided_name': 'v24-genai-poc-knox-parent-doc-retriever',\n",
      "                                                                    'replication': {'type': 'DOCUMENT'},\n",
      "                                                                    'uuid': 'SYUxkfAsRAG4I0yOQEyAYg',\n",
      "                                                                    'version': {'created': '136327827'}}}}}\n"
     ]
    }
   ],
   "source": [
    "\n",
    "index_exists = opensearch_utils.check_if_index_exists(\n",
    "    os_client,\n",
    "    index_name\n",
    ")\n",
    "\n",
    "if index_exists:\n",
    "    opensearch_utils.delete_index(\n",
    "        os_client,\n",
    "        index_name\n",
    "    )\n",
    "\n",
    "opensearch_utils.create_index(os_client, index_name, index_body)\n",
    "index_info = os_client.indices.get(index=index_name)\n",
    "print(\"Index is created\")\n",
    "pprint(index_info)"
   ]
  },
  {
   "cell_type": "markdown",
   "metadata": {
    "tags": []
   },
   "source": [
    "## 랭체인 인덱스 연결 오브젝트 생성\n",
    "\n",
    "- [langchain.vectorstores.opensearch_vector_search.OpenSearchVectorSearch](https://api.python.langchain.com/en/latest/vectorstores/langchain.vectorstores.opensearch_vector_search.OpenSearchVectorSearch.html)"
   ]
  },
  {
   "cell_type": "code",
   "execution_count": 18,
   "metadata": {
    "tags": []
   },
   "outputs": [],
   "source": [
    "from langchain.vectorstores import OpenSearchVectorSearch"
   ]
  },
  {
   "cell_type": "code",
   "execution_count": 19,
   "metadata": {
    "tags": []
   },
   "outputs": [
    {
     "data": {
      "text/plain": [
       "<langchain_community.vectorstores.opensearch_vector_search.OpenSearchVectorSearch at 0x7fbb56095150>"
      ]
     },
     "execution_count": 19,
     "metadata": {},
     "output_type": "execute_result"
    }
   ],
   "source": [
    "vector_db = OpenSearchVectorSearch(\n",
    "    index_name=index_name,\n",
    "    opensearch_url=opensearch_domain_endpoint,\n",
    "    embedding_function=llm_emb,\n",
    "    http_auth=http_auth, # http_auth\n",
    "    is_aoss =False,\n",
    "    engine=\"faiss\",\n",
    "    space_type=\"l2\",\n",
    "    bulk_size=100000,\n",
    "    timeout=60    \n",
    ")\n",
    "vector_db"
   ]
  },
  {
   "cell_type": "markdown",
   "metadata": {
    "tags": []
   },
   "source": [
    "# 6. Chunking JSON Doc "
   ]
  },
  {
   "cell_type": "markdown",
   "metadata": {},
   "source": [
    "## Chunk Size and Chunk Overlap Size 결정"
   ]
  },
  {
   "cell_type": "code",
   "execution_count": 20,
   "metadata": {
    "tags": []
   },
   "outputs": [],
   "source": [
    "parent_chunk_size = 4096\n",
    "parent_chunk_overlap = 0\n",
    "\n",
    "child_chunk_size = 1024\n",
    "child_chunk_overlap = 256\n",
    "\n",
    "opensearch_parent_key_name = \"parent_id\"\n",
    "opensearch_family_tree_key_name = \"family_tree\"\n"
   ]
  },
  {
   "cell_type": "code",
   "execution_count": 21,
   "metadata": {
    "tags": []
   },
   "outputs": [],
   "source": [
    "from local_utils.proc_docs import create_parent_chunk, create_child_chunk"
   ]
  },
  {
   "cell_type": "markdown",
   "metadata": {},
   "source": [
    "## Parent Chunking"
   ]
  },
  {
   "cell_type": "markdown",
   "metadata": {},
   "source": [
    "create_parent_chunk() 아래와 같은 작업을 합니다.\n",
    "- all_docs 에 있는 문서를 parent_chunk_size 만큼으로 청킹 합니다.\n",
    "- Parent Chunk 에 두개의 메타 데이타를 생성 합니다.\n",
    "    - family_tree: parent\n",
    "    - parent_id : None"
   ]
  },
  {
   "cell_type": "code",
   "execution_count": 22,
   "metadata": {
    "tags": []
   },
   "outputs": [
    {
     "name": "stdout",
     "output_type": "stream",
     "text": [
      "Number of parent_chunk_docs= 2325\n"
     ]
    }
   ],
   "source": [
    "parent_chunk_docs = create_parent_chunk(all_docs, opensearch_parent_key_name, \n",
    "                                        opensearch_family_tree_key_name,parent_chunk_size, parent_chunk_overlap)\n",
    "print(f\"Number of parent_chunk_docs= {len(parent_chunk_docs)}\")\n"
   ]
  },
  {
   "cell_type": "code",
   "execution_count": 23,
   "metadata": {
    "tags": []
   },
   "outputs": [
    {
     "data": {
      "text/plain": [
       "[Document(page_content='How-to videos. Contains videos on how to use Knox E-FOTA. This section contains videos on how to use Knox E-FOTA. Getting started with Knox E-FOTA This video walks you through the Knox E-FOTA console and demonstrates how you can register a reseller, approve a device, create a campaign, assign a campaign, and monitor device status. Creating a campaign on Knox E-FOTA The following video provides in-depth information on how to create and apply a Knox E-FOTA campaign to your Samsung devices. Connecting Knox E-FOTA to VMware Workspace ONE The following video describes the simple steps of connecting Knox E-FOTA with VMware Workspace ONE, while adding device groups from Workspace ONE.', metadata={'source': 'all_processed_data.json', 'seq_num': 1, 'title': 'How-to videos', 'url': 'https://docs.samsungknox.com/admin/efota-one/how-to-videos', 'project': 'EFOTA', 'last_updated': '2023-09-27', 'family_tree': 'parent', 'parent_id': None})]"
      ]
     },
     "execution_count": 23,
     "metadata": {},
     "output_type": "execute_result"
    }
   ],
   "source": [
    "parent_chunk_docs[0:1]"
   ]
  },
  {
   "cell_type": "markdown",
   "metadata": {},
   "source": [
    "OpenSearch 에 parent chunk 삽입"
   ]
  },
  {
   "cell_type": "code",
   "execution_count": 24,
   "metadata": {
    "tags": []
   },
   "outputs": [
    {
     "name": "stdout",
     "output_type": "stream",
     "text": [
      "CPU times: user 5.1 s, sys: 297 ms, total: 5.4 s\n",
      "Wall time: 4min 49s\n"
     ]
    }
   ],
   "source": [
    "%%time\n",
    "\n",
    "parent_ids = vector_db.add_documents(\n",
    "                        documents = parent_chunk_docs, \n",
    "                        vector_field = \"vector_field\",\n",
    "                        bulk_size = 1000000\n",
    "                    )\n",
    "\n"
   ]
  },
  {
   "cell_type": "code",
   "execution_count": 25,
   "metadata": {
    "tags": []
   },
   "outputs": [
    {
     "name": "stdout",
     "output_type": "stream",
     "text": [
      "total count docs:  {'count': 2325, '_shards': {'total': 5, 'successful': 5, 'skipped': 0, 'failed': 0}}\n"
     ]
    }
   ],
   "source": [
    "total_count_docs = opensearch_utils.get_count(os_client, index_name)\n",
    "print(\"total count docs: \", total_count_docs)\n"
   ]
  },
  {
   "cell_type": "markdown",
   "metadata": {},
   "source": [
    "삽입된 Parent Chunk 의 첫번째를 확인 합니다. family_tree, parent_id 의 값을 확인 하세요."
   ]
  },
  {
   "cell_type": "code",
   "execution_count": 26,
   "metadata": {
    "tags": []
   },
   "outputs": [
    {
     "name": "stdout",
     "output_type": "stream",
     "text": [
      "opensearch document id: dd95cc56-cecc-42e3-81df-abbefee84d80\n",
      "family_tree: parent\n",
      "parent document id: None\n",
      "parent document text: \n",
      " How-to videos. Contains videos on how to use Knox E-FOTA. This section contains videos on how to use Knox E-FOTA. Getting started with Knox E-FOTA This video walks you through the Knox E-FOTA console and demonstrates how you can register a reseller, approve a device, create a campaign, assign a campaign, and monitor device status. Creating a campaign on Knox E-FOTA The following video provides in-depth information on how to create and apply a Knox E-FOTA campaign to your Samsung devices. Connecting Knox E-FOTA to VMware Workspace ONE The following video describes the simple steps of connecting Knox E-FOTA with VMware Workspace ONE, while adding device groups from Workspace ONE.\n"
     ]
    }
   ],
   "source": [
    "def show_opensearch_doc_info(response):\n",
    "    print(\"opensearch document id:\" , response[\"_id\"])\n",
    "    print(\"family_tree:\" , response[\"_source\"][\"metadata\"][\"family_tree\"])\n",
    "    print(\"parent document id:\" , response[\"_source\"][\"metadata\"][\"parent_id\"])\n",
    "    print(\"parent document text: \\n\" , response[\"_source\"][\"text\"])\n",
    "\n",
    "response = opensearch_utils.get_document(os_client, doc_id = parent_ids[0], index_name = index_name)\n",
    "show_opensearch_doc_info(response)    "
   ]
  },
  {
   "cell_type": "markdown",
   "metadata": {},
   "source": [
    "## Child Chunking"
   ]
  },
  {
   "cell_type": "markdown",
   "metadata": {},
   "source": [
    "### Child Chunk 생성\n",
    "\n",
    "아래의 create_child_chunk() 는 다음과 같은 작업을 합니다.\n",
    "- parent_chunk_docs 각각에 대해서 Child Chunk 를 생성 합니다. \n",
    "- Child Chunk 에 두개의 메타 데이타를 생성 합니다.\n",
    "    - family_tree: child\n",
    "    - parent_id : parent 에 대한 OpenSearch document id"
   ]
  },
  {
   "cell_type": "code",
   "execution_count": 27,
   "metadata": {
    "tags": []
   },
   "outputs": [
    {
     "name": "stdout",
     "output_type": "stream",
     "text": [
      "Number of child_chunk_docs= 6884\n"
     ]
    }
   ],
   "source": [
    "# child_chunk_docs = create_child_chunk(parent_chunk_docs[0:1], parent_ids)\n",
    "child_chunk_docs = create_child_chunk(child_chunk_size, child_chunk_overlap, parent_chunk_docs, parent_ids, \n",
    "                                      opensearch_parent_key_name, opensearch_family_tree_key_name)\n",
    "print(f\"Number of child_chunk_docs= {len(child_chunk_docs)}\")\n"
   ]
  },
  {
   "cell_type": "markdown",
   "metadata": {},
   "source": [
    "### 생성된 Child 와 이에 대한 Parent 정보 확인"
   ]
  },
  {
   "cell_type": "markdown",
   "metadata": {},
   "source": [
    "Child Chunk 한개에 대한 정보를 확인 합니다."
   ]
  },
  {
   "cell_type": "code",
   "execution_count": 28,
   "metadata": {
    "tags": []
   },
   "outputs": [
    {
     "data": {
      "text/plain": [
       "[Document(page_content='How-to videos. Contains videos on how to use Knox E-FOTA. This section contains videos on how to use Knox E-FOTA. Getting started with Knox E-FOTA This video walks you through the Knox E-FOTA console and demonstrates how you can register a reseller, approve a device, create a campaign, assign a campaign, and monitor device status. Creating a campaign on Knox E-FOTA The following video provides in-depth information on how to create and apply a Knox E-FOTA campaign to your Samsung devices. Connecting Knox E-FOTA to VMware Workspace ONE The following video describes the simple steps of connecting Knox E-FOTA with VMware Workspace ONE, while adding device groups from Workspace ONE.', metadata={'source': 'all_processed_data.json', 'seq_num': 1, 'title': 'How-to videos', 'url': 'https://docs.samsungknox.com/admin/efota-one/how-to-videos', 'project': 'EFOTA', 'last_updated': '2023-09-27', 'family_tree': 'child', 'parent_id': 'dd95cc56-cecc-42e3-81df-abbefee84d80'})]"
      ]
     },
     "execution_count": 28,
     "metadata": {},
     "output_type": "execute_result"
    }
   ],
   "source": [
    "child_chunk_docs[0:1]"
   ]
  },
  {
   "cell_type": "markdown",
   "metadata": {},
   "source": [
    "Child 에 대한 Parent 정보 확인"
   ]
  },
  {
   "cell_type": "code",
   "execution_count": 29,
   "metadata": {
    "tags": []
   },
   "outputs": [
    {
     "name": "stdout",
     "output_type": "stream",
     "text": [
      "child's parent_id:  dd95cc56-cecc-42e3-81df-abbefee84d80\n",
      "\n",
      "###### Search parent in OpenSearch\n",
      "opensearch document id: dd95cc56-cecc-42e3-81df-abbefee84d80\n",
      "family_tree: parent\n",
      "parent document id: None\n",
      "parent document text: \n",
      " How-to videos. Contains videos on how to use Knox E-FOTA. This section contains videos on how to use Knox E-FOTA. Getting started with Knox E-FOTA This video walks you through the Knox E-FOTA console and demonstrates how you can register a reseller, approve a device, create a campaign, assign a campaign, and monitor device status. Creating a campaign on Knox E-FOTA The following video provides in-depth information on how to create and apply a Knox E-FOTA campaign to your Samsung devices. Connecting Knox E-FOTA to VMware Workspace ONE The following video describes the simple steps of connecting Knox E-FOTA with VMware Workspace ONE, while adding device groups from Workspace ONE.\n"
     ]
    }
   ],
   "source": [
    "parent_id = child_chunk_docs[0].metadata[\"parent_id\"]\n",
    "print(\"child's parent_id: \", parent_id)\n",
    "print(\"\\n###### Search parent in OpenSearch\")\n",
    "response = opensearch_utils.get_document(os_client, doc_id = parent_id, index_name = index_name)\n",
    "show_opensearch_doc_info(response)    \n"
   ]
  },
  {
   "cell_type": "markdown",
   "metadata": {},
   "source": [
    "### OpenSearch 에 Child 삽입"
   ]
  },
  {
   "cell_type": "code",
   "execution_count": 30,
   "metadata": {
    "tags": []
   },
   "outputs": [
    {
     "name": "stdout",
     "output_type": "stream",
     "text": [
      "length of child_ids:  6884\n",
      "CPU times: user 14.9 s, sys: 764 ms, total: 15.7 s\n",
      "Wall time: 11min 38s\n"
     ]
    }
   ],
   "source": [
    "%%time\n",
    "\n",
    "child_ids = vector_db.add_documents(\n",
    "                        documents = child_chunk_docs, \n",
    "                        vector_field = \"vector_field\",\n",
    "                        bulk_size = 1000000\n",
    "                    )\n",
    "\n",
    "print(\"length of child_ids: \", len(child_ids))"
   ]
  },
  {
   "cell_type": "code",
   "execution_count": 31,
   "metadata": {
    "tags": []
   },
   "outputs": [
    {
     "name": "stdout",
     "output_type": "stream",
     "text": [
      "total count docs:  {'count': 9209, '_shards': {'total': 5, 'successful': 5, 'skipped': 0, 'failed': 0}}\n"
     ]
    }
   ],
   "source": [
    "total_count_docs = opensearch_utils.get_count(os_client, index_name)\n",
    "print(\"total count docs: \", total_count_docs)\n"
   ]
  },
  {
   "cell_type": "code",
   "execution_count": 32,
   "metadata": {
    "tags": []
   },
   "outputs": [
    {
     "name": "stdout",
     "output_type": "stream",
     "text": [
      "opensearch document id: a08fd45b-acca-4b24-8840-a8c6169c5879\n",
      "family_tree: child\n",
      "parent document id: dd95cc56-cecc-42e3-81df-abbefee84d80\n",
      "parent document text: \n",
      " How-to videos. Contains videos on how to use Knox E-FOTA. This section contains videos on how to use Knox E-FOTA. Getting started with Knox E-FOTA This video walks you through the Knox E-FOTA console and demonstrates how you can register a reseller, approve a device, create a campaign, assign a campaign, and monitor device status. Creating a campaign on Knox E-FOTA The following video provides in-depth information on how to create and apply a Knox E-FOTA campaign to your Samsung devices. Connecting Knox E-FOTA to VMware Workspace ONE The following video describes the simple steps of connecting Knox E-FOTA with VMware Workspace ONE, while adding device groups from Workspace ONE.\n"
     ]
    }
   ],
   "source": [
    "response = opensearch_utils.get_document(os_client, doc_id = child_ids[0], index_name = index_name)\n",
    "show_opensearch_doc_info(response)    "
   ]
  },
  {
   "cell_type": "markdown",
   "metadata": {},
   "source": [
    "# 7. 검색 테스트"
   ]
  },
  {
   "cell_type": "markdown",
   "metadata": {},
   "source": [
    "## Lexical 검색"
   ]
  },
  {
   "cell_type": "code",
   "execution_count": 33,
   "metadata": {
    "tags": []
   },
   "outputs": [
    {
     "name": "stdout",
     "output_type": "stream",
     "text": [
      "{'query': {'bool': {'filter': {'term': {'metadata.family_tree': 'child'}},\n",
      "                    'must': [{'match': {'text': {'minimum_should_match': '0%',\n",
      "                                                 'operator': 'or',\n",
      "                                                 'query': '{q}'}}}]}}}\n"
     ]
    }
   ],
   "source": [
    "q = \"'how to add image\"\n",
    "query ={'query': \n",
    "        {'bool': {'must': \n",
    "                  [{'match': \n",
    "                    {'text': \n",
    "                     {'query': \"{q}\", 'minimum_should_match': '0%', 'operator': 'or'}}}], \n",
    "                  'filter': {\n",
    "                    \"term\": {\n",
    "                      \"metadata.family_tree\": \"child\"\n",
    "                    }                      \n",
    "                  }\n",
    "                 }\n",
    "        }\n",
    "       }\n",
    "pprint(query)"
   ]
  },
  {
   "cell_type": "code",
   "execution_count": 34,
   "metadata": {
    "tags": []
   },
   "outputs": [
    {
     "name": "stdout",
     "output_type": "stream",
     "text": [
      "# of searched docs:  10\n",
      "# of display: 3\n",
      "---------------------\n",
      "_id in index:  c52ec808-e4c4-4d9f-aacd-f3d3af71f24d\n",
      "9.231803\n",
      ". For more information about purchasing licenses, contact the Knox Manage support team. Licenses are granted and revoked in the order in which the devices were enrolled. Attempting to register devices in excess of the device count will result in failure. License FAQs , Q - What happens when my Knox Manage trial license expires? A - You can obtain a retail or another trial Knox Suite license, when your trial license expires. Q - How are Knox Manage licenses allocated to devices? A - Licenses with shorter expiration dates will be allocated first following the First Expired/First Out (FEFO) method. Q - Once the total number of licenses is increased through renewal or extension, how are they allocated? A - If there are more licenses than devices after the increase, licenses are allocated to all devices in the order in which they were enrolled\n",
      "{'source': 'all_processed_data.json', 'seq_num': 876, 'title': 'Licenses overview', 'url': 'https://docs.samsungknox.com/admin/knox-manage/configure/licenses/licenses-overview', 'project': 'KM', 'last_updated': '2023-07-26', 'family_tree': 'child', 'parent_id': 'b55ed2b9-fb76-42fb-ad6a-1b0f9266fc90'}\n",
      "---------------------\n",
      "_id in index:  d31c30b8-8e69-4e33-a416-1aa15a7beda0\n",
      "9.147566\n",
      ". But the data inside the container are not removed, and the user re-gains access to the container and data after license is extended or reactivated. Some Q OS devices may exhibit user behavior similar to R OS devices. Below are the limitations to the container when the license expires: If a container exists, the container will be locked and inaccessible until the license is extended or reactivated in some Q OS devices and devices with an OS lower than Q OS. You cannot push any Knox Workspace policies to devices. All Knox Workspace policies set in the EMM admin console are maintained and can't be updated.\n",
      "{'source': 'all_processed_data.json', 'seq_num': 1506, 'title': 'What happens to the Knox Workspace container if the license expires?', 'url': 'https://docs.samsungknox.com/admin/knox-platform-for-enterprise/faq/#what-happens-to-the-knox-workspace-container-if-the-license-expires', 'project': 'KPE', 'last_updated': '2023-07-26', 'family_tree': 'child', 'parent_id': '455d6b6b-597b-4db1-b619-d7af931fdb81'}\n",
      "---------------------\n",
      "_id in index:  7fcd4441-e648-4828-a9c6-cf74d5324d55\n",
      "8.659922\n",
      ".2 Android Q (10\n",
      "{'source': 'all_processed_data.json', 'seq_num': 1538, 'title': 'Guidance documents for Common Criteria evaluation', 'url': 'https://docs.samsungknox.com/admin/knox-platform-for-enterprise/kbas/cc-guidance-documents', 'project': 'KPE', 'last_updated': '2023-07-26', 'family_tree': 'child', 'parent_id': '2ca888ad-f81a-4f82-8daa-7ef754f80db2'}\n",
      "---------------------\n"
     ]
    }
   ],
   "source": [
    "# query = \"how to add image\"\n",
    "# query = opensearch_utils.get_query(\n",
    "#     query=query\n",
    "# )\n",
    "\n",
    "response = opensearch_utils.search_document(os_client, query, index_name)\n",
    "opensearch_utils.parse_keyword_response(response, show_size=3)"
   ]
  },
  {
   "cell_type": "markdown",
   "metadata": {
    "tags": []
   },
   "source": [
    "## 시맨틱 검색"
   ]
  },
  {
   "cell_type": "code",
   "execution_count": 35,
   "metadata": {
    "tags": []
   },
   "outputs": [
    {
     "data": {
      "text/plain": [
       "[Document(page_content='. You can add up to 10 image files in the PNG, JPG, JPEG, or GIF format (animated files are not supported). Each image file must be less than 5 MB. To upload an image file, click Add and select a file. To delete an image file, click next to the name of the uploaded image file. Note The device control command must be transferred to the device to apply an image file to it. &gt;&gt;&gt; Video Select a video file for the screen saver. You can add only one video file in the MP4 or MKV format. The video file must be less than 50 MB. To upload a video file, click Add and select a file. To delete a video file, click next to the name of the uploaded video file. Note The device control command must be transferred to the device to apply a video to it. &gt; Session timeout Allows the use of the session timeout feature for the Kiosk Browser', metadata={'source': 'all_processed_data.json', 'seq_num': 893, 'title': 'Android Enterprise policies', 'url': 'https://docs.samsungknox.com/admin/knox-manage/configure/profile/configure-profile-policies/android-enterprise-policies', 'project': 'KM', 'last_updated': '2023-09-06', 'family_tree': 'child', 'parent_id': '6832976f-aab4-404c-ab3c-3a331396c138'}),\n",
       " Document(page_content='. Screenshot (optional) - Add up to four preview images of the app for device users. Click a frame to open a file dialog, then select an image from your file system. Each screenshot can be in JPG or PNG file formats and must not exceed 5MB in size. 4. Save the app, and choose whether to assign it right away: Click Save & Assign to save the app and assign it. The console takes you to the Assign Application page. For more details, see Assign Windows applications. Click Save to save the app and return to the app list.', metadata={'source': 'all_processed_data.json', 'seq_num': 802, 'title': 'Add public apps using the Microsoft Store', 'url': 'https://docs.samsungknox.com/admin/knox-manage/configure/applications/add-applications/add-public-apps-using-the-microsoft-store', 'project': 'KM', 'last_updated': '2023-07-26', 'family_tree': 'child', 'parent_id': '2f5aa636-0a2f-4503-a28e-dc6cc3d8afb4'})]"
      ]
     },
     "execution_count": 35,
     "metadata": {},
     "output_type": "execute_result"
    }
   ],
   "source": [
    "vector_db.similarity_search(q, k=2)"
   ]
  },
  {
   "cell_type": "markdown",
   "metadata": {},
   "source": [
    "# 8. 검증 인덱스 생성"
   ]
  },
  {
   "cell_type": "markdown",
   "metadata": {},
   "source": [
    "## Index 이름 결정"
   ]
  },
  {
   "cell_type": "code",
   "execution_count": 36,
   "metadata": {
    "tags": []
   },
   "outputs": [],
   "source": [
    "eval_index_name = \"v25-genai-poc-knox-eval-parent-doc-retriever\""
   ]
  },
  {
   "cell_type": "markdown",
   "metadata": {},
   "source": [
    "## Sampling"
   ]
  },
  {
   "cell_type": "code",
   "execution_count": 37,
   "metadata": {
    "tags": []
   },
   "outputs": [
    {
     "name": "stdout",
     "output_type": "stream",
     "text": [
      "eval docs:  86\n"
     ]
    },
    {
     "data": {
      "text/plain": [
       "[Document(page_content='How-to videos. Contains videos on how to use Knox E-FOTA. This section contains videos on how to use Knox E-FOTA. Getting started with Knox E-FOTA This video walks you through the Knox E-FOTA console and demonstrates how you can register a reseller, approve a device, create a campaign, assign a campaign, and monitor device status. Creating a campaign on Knox E-FOTA The following video provides in-depth information on how to create and apply a Knox E-FOTA campaign to your Samsung devices. Connecting Knox E-FOTA to VMware Workspace ONE The following video describes the simple steps of connecting Knox E-FOTA with VMware Workspace ONE, while adding device groups from Workspace ONE.', metadata={'source': 'all_processed_data.json', 'seq_num': 1, 'title': 'How-to videos', 'url': 'https://docs.samsungknox.com/admin/efota-one/how-to-videos', 'project': 'EFOTA', 'last_updated': '2023-09-27'}),\n",
       " Document(page_content='Knox E-FOTA. Knox E-FOTA enables enterprise IT admins to remotely deploy OS versions and security updates to corporate devices without requiring user interaction. Test updates before deployment to verify compatibility between in-house apps and new OS versions, all while increasing the security of enterprise devices by ensuring the latest security patches are deployed on a schedule. Try for free Audience This document is intended for: System Security Architects - Understand how Knox E-FOTA works, and how you can use it to update fleets of enterprise devices. IT Admins - Learn to manage over-the-air updates for enterprise devices. Try the solution Streamline your mobile update workflow using Knox E-FOTA. Enable version control management, and deploy OS updates by setting updates to occur outside business hours to avoid disruptions to productivity. Start tutorial About Knox E-FOTA Knox E-FOTA\"is an enterprise solution that controls OS versions on Samsung mobile devices to maximize cost efficiency. It helps IT admins do the following: Ensure that the latest security patches are deployed to devices on schedule. Test updates before deployment, ensuring compatibility between in-house apps and new OS versions. Key Features , Forced updates - Simplify your device management experience by deploying forced updates so that all devices have the same OS version on every device. You can push updates without requiring user interaction. Selective OS\"version - The latest OS version isn\\'t always compatible with your in-house apps. Ensure operational continuity by controlling which OS version to deploy to your devices. You can lock them to that version until you\\'re ready to deploy the latest OS version. Scheduled updates - Minimize business interruptions by scheduling firmware updates to occur outside business hours. For a full list of all features, visit the product page for Knox E-FOTA. Benefits 1. Software compatibility testing - Only enforce updates once the software is tested to ensure compatibility between internal apps and new OS versions. This helps minimize the need for IT support for compatibility issues. 2. Device security - Deploy the latest verified firmware along with the latest security patches - also called Security Maintenance Releases (SMR) - to all corporate-liable devices immediately without requiring user interaction. 3. Efficient rollout - Maintain productivity by specifying a time when devices download and install updates to minimize business interruptions. IT admins can stagger the deployment of updates (for example, by region) to ensure operational continuity. 4. Efficient device management - Remotely deploying forced updates ensures that all enterprise devices are always running the latest validated OS version. Having a uniform view of all devices allows IT admins to manage them more efficiently. Silent updates do not require user interaction so they can\\'t be postponed or rejected. How does Knox E-FOTA work? Firmware-over-the-air (FOTA) is a service that allows IT admins to efficiently and securely push firmware updates to a fleet of enterprise mobile devices. Typically, the latest firmware updates are pushed to devices by their service provider through a Samsung Business-To-Consumer (B2C) FOTA server. The problem with this is that the latest firmware isn\\'t always compatible with a company\\'s in-house apps. Without Knox E-FOTA, companies can only address this problem by doing the following: Always update to the latest OS version, Block all OS updates using their EMM Knox E-FOTA\"allows admins to select a firmware version to deploy, even if it\\'s not the latest version. Devices are then locked to that version. When admins have performed compatibility testing on a later firmware version, they can then update devices to the tested version. With Knox E-FOTA, businesses push firmware updates from a Samsung Business-To-Business (B2B) FOTA\"server There are exceptions, such as AT&T and Verizon, which provide firmware updates from their own servers and not through Samsung\\'s Knox E-FOTA service. The B2B FOTA server then syncs the device information with the B2C FOTA server. #Downloading firmware versions Knox E-FOTA gives you access to a list of official firmware released via the general Samsung FOTA service within the last 12 months. An additional firmware list could be provided following an extra consultation. When pushing a firmware update, Samsung generates a delta file or a change file for updating from the current firmware version to a target version. This is then released via the general Samsung FOTA server and delivered to enterprise devices over-the-air. Firmware files are available from the Knox E-FOTA server for an average of 12 months. In some cases, especially when upgrading devices to a major Android OS version, you may be required to download several delta files to reach the target firmware version. On Knox E-FOTA\"Advanced, this means you may need to run several campaigns incrementally to reach a target version. On Knox E-FOTA and\"Knox E-FOTA\"on MDM, only one campaign is needed; the required delta files are sequentially installed automatically. Regardless of which Knox E-FOTA edition you\\'re using, this will result in devices rebooting multiple times. Compare the Knox E-FOTA editions There are three editions available for the Knox E-FOTA service: Knox E-FOTA, Knox E-FOTA\"Advanced, Knox E-FOTA on MDM This section describes their key differentiating features. Feature Knox E-FOTA on MDM Knox E-FOTA Advanced Knox E-FOTA Description Selective OS version ✔ ✔ ✔ Select an OS version to be deployed to the devices, and prevent updates to OS versions that have not been verified with internal apps. Forced update (silent) ✔ ✔ ✔ Deploy OS updates to devices without requiring user interaction. Scheduled update ✔ ✔ ✔ Set a specific date and time range (for example, non-business hours) to download and install an OS update. Forced update (critical) ✔ ✔ Allow the user to postpone an update (with a maximum delay duration) during an ongoing critical job. The user can\\'t decline the update. Additional campaign options ✔ ✔ Set the following options: Allow firmware download while roaming. Allow installation only when connected to a charging dock. Ability to view the campaign status ✔ ✔ View the status of campaign operations. Monitoring dashboard Widgets for device and campaign statuses are available on Knox E-FOTA Advanced. ✔ Monitor various areas of Knox E-FOTA through a dashboard. Independent web console ✔ ✔ Perform administrative tasks through a web portal. Network bandwidth control ✔ ✔ Deploy firmware updates within a set maximum bandwidth. Wi-Fi only mode ✔ ✔ Save on cellular usage costs by setting downloads and updates to occur only through Wi-Fi. Ability to update multiple models per campaign ✔ In a single campaign, you can assign multiple device models to different firmware releases. Sequential updates per campaign ✔ ✔ Update from any version to a target version with just one campaign. That is, you don\\'t need to create multiple campaigns to incrementally update a device from its current version to a target version. Ability to sync device group and organization information with EMM ✔ ✔ Streamline your device management tasks by importing device groups from your EMM. Connecting Knox E-FOTA to your EMM helps ensure that your device groups are never out of sync. Device information is managed in the EMM so that the Knox E-FOTA admin doesn\\'t have to do it manually. Automatic client app installation through EMM ✔ For certain EMMs (for example, Knox Manage and VMware), you can simplify the onboarding process by pushing the Knox E-FOTA client app to devices through the Knox E-FOTA admin portal. Push and poll Pushing is supported on Knox E-FOTA on MDM. Polling is supported on Knox E-FOTA Advanced. ✔ Push campaign updates immediately from the Knox E-FOTA server to assigned devices. There\\'s no need to wait for devices to poll the Knox E-FOTA server. Poll the server for campaign updates. The client app (that is, the agent on the device) periodically checks the policy and applies any campaign updates that may not have been successfully applied to it. Device registration through Knox Deployment Program (KDP) ✔ Resellers can automatically upload your devices to Knox E-FOTA so that you don\\'t have to add them yourself. You can auto-approve their uploads and auto-assign the devices to a default campaign. This feature is only available through KDP. Out-of-box installation of Knox E-FOTA client app ✔ For devices purchased through a reseller that have Android P or later, the client app is automatically installed during the out-of-box experience. Support for multiple licenses ✔ Add licenses as needed to support more devices, while keeping existing licenses active. Consolidated admin access ✔ Sign in to SamsungKnox.com once and gain access to all Knox Cloud Services (KCS) products you\\'re subscribed to. Consistent user experience ✔ The Knox E-FOTA admin portal has a user interface that\\'s consistent with other KCS products on SamsungKnox.com.', metadata={'source': 'all_processed_data.json', 'seq_num': 2, 'title': 'Knox E-FOTA', 'url': 'https://docs.samsungknox.com/admin/efota-one', 'project': 'EFOTA', 'last_updated': '2023-07-26'})]"
      ]
     },
     "execution_count": 37,
     "metadata": {},
     "output_type": "execute_result"
    }
   ],
   "source": [
    "import random\n",
    "def get_sampling_doc(seed, ratio, docs):\n",
    "\n",
    "    random.seed(seed)\n",
    "    \n",
    "    eval_docs = docs[:int(len(docs)*ratio)]\n",
    "    \n",
    "    return eval_docs\n",
    "    \n",
    "eval_docs = get_sampling_doc(seed=200, ratio=0.05, docs= all_docs)\n",
    "print(\"eval docs: \", len(eval_docs))\n",
    "eval_docs[0:2]\n",
    "    \n",
    "    "
   ]
  },
  {
   "cell_type": "markdown",
   "metadata": {},
   "source": [
    "## 오픈 서치 인덱스 유무에 따라 삭제\n",
    "오픈 서치에 해당 인덱스가 존재하면, 삭제 합니다. "
   ]
  },
  {
   "cell_type": "code",
   "execution_count": 38,
   "metadata": {
    "tags": []
   },
   "outputs": [
    {
     "name": "stdout",
     "output_type": "stream",
     "text": [
      "index_name=v25-genai-poc-knox-eval-parent-doc-retriever, exists=False\n",
      "\n",
      "Creating index:\n",
      "{'acknowledged': True, 'shards_acknowledged': True, 'index': 'v25-genai-poc-knox-eval-parent-doc-retriever'}\n",
      "Index is created\n",
      "{'v25-genai-poc-knox-eval-parent-doc-retriever': {'aliases': {},\n",
      "                                                  'mappings': {'properties': {'metadata': {'properties': {'family_tree': {'type': 'keyword'},\n",
      "                                                                                                          'last_updated': {'type': 'date'},\n",
      "                                                                                                          'parent_id': {'type': 'keyword'},\n",
      "                                                                                                          'project': {'type': 'keyword'},\n",
      "                                                                                                          'seq_num': {'type': 'long'},\n",
      "                                                                                                          'source': {'type': 'keyword'},\n",
      "                                                                                                          'title': {'type': 'text'},\n",
      "                                                                                                          'url': {'type': 'text'}}},\n",
      "                                                                              'text': {'type': 'text'},\n",
      "                                                                              'vector_field': {'dimension': 1536,\n",
      "                                                                                               'type': 'knn_vector'}}},\n",
      "                                                  'settings': {'index': {'creation_date': '1708853221012',\n",
      "                                                                         'knn': 'true',\n",
      "                                                                         'knn.space_type': 'cosinesimil',\n",
      "                                                                         'number_of_replicas': '1',\n",
      "                                                                         'number_of_shards': '5',\n",
      "                                                                         'provided_name': 'v25-genai-poc-knox-eval-parent-doc-retriever',\n",
      "                                                                         'replication': {'type': 'DOCUMENT'},\n",
      "                                                                         'uuid': 'yKfsiSxFS-mJqwI57uz4DA',\n",
      "                                                                         'version': {'created': '136327827'}}}}}\n"
     ]
    }
   ],
   "source": [
    "index_exists = opensearch_utils.check_if_index_exists(\n",
    "    os_client,\n",
    "    eval_index_name\n",
    ")\n",
    "\n",
    "if index_exists:\n",
    "    opensearch_utils.delete_index(\n",
    "        os_client,\n",
    "        eval_index_name\n",
    "    )\n",
    "    \n",
    "opensearch_utils.create_index(os_client, eval_index_name, index_body)\n",
    "index_info = os_client.indices.get(index=eval_index_name)\n",
    "print(\"Index is created\")\n",
    "pprint(index_info)    "
   ]
  },
  {
   "cell_type": "markdown",
   "metadata": {},
   "source": [
    "## 검증 인덱스 연결 오브젝트 생성"
   ]
  },
  {
   "cell_type": "code",
   "execution_count": 39,
   "metadata": {
    "tags": []
   },
   "outputs": [
    {
     "data": {
      "text/plain": [
       "<langchain_community.vectorstores.opensearch_vector_search.OpenSearchVectorSearch at 0x7fbb3011b250>"
      ]
     },
     "execution_count": 39,
     "metadata": {},
     "output_type": "execute_result"
    }
   ],
   "source": [
    "eval_vector_db = OpenSearchVectorSearch(\n",
    "    index_name= eval_index_name,\n",
    "    opensearch_url=opensearch_domain_endpoint,\n",
    "    embedding_function=llm_emb,\n",
    "    http_auth=http_auth, # http_auth\n",
    "    is_aoss =False,\n",
    "    engine=\"faiss\",\n",
    "    space_type=\"l2\",\n",
    "    bulk_size=100000,\n",
    "    timeout=60    \n",
    ")\n",
    "eval_vector_db"
   ]
  },
  {
   "cell_type": "markdown",
   "metadata": {},
   "source": [
    "## Parent Chunking"
   ]
  },
  {
   "cell_type": "code",
   "execution_count": 40,
   "metadata": {
    "tags": []
   },
   "outputs": [
    {
     "name": "stdout",
     "output_type": "stream",
     "text": [
      "Number of parent_chunk_docs= 107\n"
     ]
    }
   ],
   "source": [
    "parent_chunk_docs = create_parent_chunk(eval_docs, opensearch_parent_key_name, \n",
    "                                        opensearch_family_tree_key_name,parent_chunk_size, \n",
    "                                        parent_chunk_overlap)\n",
    "print(f\"Number of parent_chunk_docs= {len(parent_chunk_docs)}\")\n"
   ]
  },
  {
   "cell_type": "code",
   "execution_count": 41,
   "metadata": {
    "tags": []
   },
   "outputs": [
    {
     "data": {
      "text/plain": [
       "[Document(page_content='How-to videos. Contains videos on how to use Knox E-FOTA. This section contains videos on how to use Knox E-FOTA. Getting started with Knox E-FOTA This video walks you through the Knox E-FOTA console and demonstrates how you can register a reseller, approve a device, create a campaign, assign a campaign, and monitor device status. Creating a campaign on Knox E-FOTA The following video provides in-depth information on how to create and apply a Knox E-FOTA campaign to your Samsung devices. Connecting Knox E-FOTA to VMware Workspace ONE The following video describes the simple steps of connecting Knox E-FOTA with VMware Workspace ONE, while adding device groups from Workspace ONE.', metadata={'source': 'all_processed_data.json', 'seq_num': 1, 'title': 'How-to videos', 'url': 'https://docs.samsungknox.com/admin/efota-one/how-to-videos', 'project': 'EFOTA', 'last_updated': '2023-09-27', 'family_tree': 'parent', 'parent_id': None})]"
      ]
     },
     "execution_count": 41,
     "metadata": {},
     "output_type": "execute_result"
    }
   ],
   "source": [
    "parent_chunk_docs[0:1]"
   ]
  },
  {
   "cell_type": "code",
   "execution_count": 42,
   "metadata": {
    "tags": []
   },
   "outputs": [
    {
     "name": "stdout",
     "output_type": "stream",
     "text": [
      "CPU times: user 260 ms, sys: 7.27 ms, total: 267 ms\n",
      "Wall time: 13.4 s\n"
     ]
    }
   ],
   "source": [
    "%%time\n",
    "\n",
    "parent_ids = eval_vector_db.add_documents(\n",
    "                        documents = parent_chunk_docs, \n",
    "                        vector_field = \"vector_field\",\n",
    "                        bulk_size = 1000000\n",
    "                    )\n",
    "\n"
   ]
  },
  {
   "cell_type": "code",
   "execution_count": 43,
   "metadata": {
    "tags": []
   },
   "outputs": [
    {
     "name": "stdout",
     "output_type": "stream",
     "text": [
      "total count docs:  {'count': 107, '_shards': {'total': 5, 'successful': 5, 'skipped': 0, 'failed': 0}}\n"
     ]
    }
   ],
   "source": [
    "total_count_docs = opensearch_utils.get_count(os_client, eval_index_name)\n",
    "print(\"total count docs: \", total_count_docs)\n"
   ]
  },
  {
   "cell_type": "code",
   "execution_count": 44,
   "metadata": {
    "tags": []
   },
   "outputs": [
    {
     "name": "stdout",
     "output_type": "stream",
     "text": [
      "opensearch document id: 8b4691d4-ebd7-4198-9055-d19f66a7851f\n",
      "family_tree: parent\n",
      "parent document id: None\n",
      "parent document text: \n",
      " How-to videos. Contains videos on how to use Knox E-FOTA. This section contains videos on how to use Knox E-FOTA. Getting started with Knox E-FOTA This video walks you through the Knox E-FOTA console and demonstrates how you can register a reseller, approve a device, create a campaign, assign a campaign, and monitor device status. Creating a campaign on Knox E-FOTA The following video provides in-depth information on how to create and apply a Knox E-FOTA campaign to your Samsung devices. Connecting Knox E-FOTA to VMware Workspace ONE The following video describes the simple steps of connecting Knox E-FOTA with VMware Workspace ONE, while adding device groups from Workspace ONE.\n"
     ]
    }
   ],
   "source": [
    "response = opensearch_utils.get_document(os_client, doc_id = parent_ids[0], index_name = eval_index_name)\n",
    "show_opensearch_doc_info(response)    "
   ]
  },
  {
   "cell_type": "markdown",
   "metadata": {},
   "source": [
    "## Child Chunking"
   ]
  },
  {
   "cell_type": "code",
   "execution_count": 45,
   "metadata": {},
   "outputs": [
    {
     "name": "stdout",
     "output_type": "stream",
     "text": [
      "Number of child_chunk_docs= 308\n"
     ]
    }
   ],
   "source": [
    "# child_chunk_docs = create_child_chunk(parent_chunk_docs[0:1], parent_ids)\n",
    "child_chunk_docs = create_child_chunk(child_chunk_size, child_chunk_overlap, parent_chunk_docs, \n",
    "                                      parent_ids, \n",
    "                                      opensearch_parent_key_name, opensearch_family_tree_key_name)\n",
    "print(f\"Number of child_chunk_docs= {len(child_chunk_docs)}\")\n"
   ]
  },
  {
   "cell_type": "code",
   "execution_count": 46,
   "metadata": {
    "tags": []
   },
   "outputs": [
    {
     "data": {
      "text/plain": [
       "[Document(page_content='How-to videos. Contains videos on how to use Knox E-FOTA. This section contains videos on how to use Knox E-FOTA. Getting started with Knox E-FOTA This video walks you through the Knox E-FOTA console and demonstrates how you can register a reseller, approve a device, create a campaign, assign a campaign, and monitor device status. Creating a campaign on Knox E-FOTA The following video provides in-depth information on how to create and apply a Knox E-FOTA campaign to your Samsung devices. Connecting Knox E-FOTA to VMware Workspace ONE The following video describes the simple steps of connecting Knox E-FOTA with VMware Workspace ONE, while adding device groups from Workspace ONE.', metadata={'source': 'all_processed_data.json', 'seq_num': 1, 'title': 'How-to videos', 'url': 'https://docs.samsungknox.com/admin/efota-one/how-to-videos', 'project': 'EFOTA', 'last_updated': '2023-09-27', 'family_tree': 'child', 'parent_id': '8b4691d4-ebd7-4198-9055-d19f66a7851f'})]"
      ]
     },
     "execution_count": 46,
     "metadata": {},
     "output_type": "execute_result"
    }
   ],
   "source": [
    "child_chunk_docs[0:1]"
   ]
  },
  {
   "cell_type": "code",
   "execution_count": 47,
   "metadata": {
    "tags": []
   },
   "outputs": [
    {
     "name": "stdout",
     "output_type": "stream",
     "text": [
      "child's parent_id:  8b4691d4-ebd7-4198-9055-d19f66a7851f\n",
      "\n",
      "###### Search parent in OpenSearch\n",
      "opensearch document id: 8b4691d4-ebd7-4198-9055-d19f66a7851f\n",
      "family_tree: parent\n",
      "parent document id: None\n",
      "parent document text: \n",
      " How-to videos. Contains videos on how to use Knox E-FOTA. This section contains videos on how to use Knox E-FOTA. Getting started with Knox E-FOTA This video walks you through the Knox E-FOTA console and demonstrates how you can register a reseller, approve a device, create a campaign, assign a campaign, and monitor device status. Creating a campaign on Knox E-FOTA The following video provides in-depth information on how to create and apply a Knox E-FOTA campaign to your Samsung devices. Connecting Knox E-FOTA to VMware Workspace ONE The following video describes the simple steps of connecting Knox E-FOTA with VMware Workspace ONE, while adding device groups from Workspace ONE.\n"
     ]
    }
   ],
   "source": [
    "parent_id = child_chunk_docs[0].metadata[\"parent_id\"]\n",
    "print(\"child's parent_id: \", parent_id)\n",
    "print(\"\\n###### Search parent in OpenSearch\")\n",
    "response = opensearch_utils.get_document(os_client, doc_id = parent_id, index_name = eval_index_name)\n",
    "show_opensearch_doc_info(response)    \n"
   ]
  },
  {
   "cell_type": "code",
   "execution_count": 48,
   "metadata": {
    "tags": []
   },
   "outputs": [
    {
     "name": "stdout",
     "output_type": "stream",
     "text": [
      "length of child_ids:  308\n",
      "CPU times: user 677 ms, sys: 30.8 ms, total: 708 ms\n",
      "Wall time: 30.8 s\n"
     ]
    }
   ],
   "source": [
    "%%time\n",
    "\n",
    "child_ids = eval_vector_db.add_documents(\n",
    "                        documents = child_chunk_docs, \n",
    "                        vector_field = \"vector_field\",\n",
    "                        bulk_size = 1000000\n",
    "                    )\n",
    "\n",
    "print(\"length of child_ids: \", len(child_ids))"
   ]
  },
  {
   "cell_type": "code",
   "execution_count": 49,
   "metadata": {
    "tags": []
   },
   "outputs": [
    {
     "name": "stdout",
     "output_type": "stream",
     "text": [
      "total count docs:  {'count': 415, '_shards': {'total': 5, 'successful': 5, 'skipped': 0, 'failed': 0}}\n"
     ]
    }
   ],
   "source": [
    "total_count_docs = opensearch_utils.get_count(os_client, eval_index_name)\n",
    "print(\"total count docs: \", total_count_docs)\n"
   ]
  },
  {
   "cell_type": "code",
   "execution_count": 50,
   "metadata": {
    "tags": []
   },
   "outputs": [
    {
     "name": "stdout",
     "output_type": "stream",
     "text": [
      "opensearch document id: 59b063fc-8c7d-4415-b12f-54d480c88541\n",
      "family_tree: child\n",
      "parent document id: ba9b5904-4089-4018-800b-70a772e05ded\n",
      "parent document text: \n",
      " . Typically, the latest firmware updates are pushed to devices by their service provider through a Samsung Business-To-Consumer (B2C) FOTA server. The problem with this is that the latest firmware isn't always compatible with a company's in-house apps. Without Knox E-FOTA, companies can only address this problem by doing the following: Always update to the latest OS version, Block all OS updates using their EMM Knox E-FOTA\"allows admins to select a firmware version to deploy, even if it's not the latest version. Devices are then locked to that version. When admins have performed compatibility testing on a later firmware version, they can then update devices to the tested version. With Knox E-FOTA, businesses push firmware updates from a Samsung Business-To-Business (B2B) FOTA\"server There are exceptions, such as AT&T and Verizon, which provide firmware updates from their own servers and not through Samsung's Knox E-FOTA service\n"
     ]
    }
   ],
   "source": [
    "response = opensearch_utils.get_document(os_client, doc_id = child_ids[5], index_name = eval_index_name)\n",
    "show_opensearch_doc_info(response)    "
   ]
  },
  {
   "cell_type": "code",
   "execution_count": 51,
   "metadata": {
    "tags": []
   },
   "outputs": [
    {
     "name": "stdout",
     "output_type": "stream",
     "text": [
      "child's parent_id:  ba9b5904-4089-4018-800b-70a772e05ded\n",
      "\n",
      "###### Search parent in OpenSearch\n",
      "opensearch document id: ba9b5904-4089-4018-800b-70a772e05ded\n",
      "family_tree: parent\n",
      "parent document id: None\n",
      "parent document text: \n",
      " Knox E-FOTA. Knox E-FOTA enables enterprise IT admins to remotely deploy OS versions and security updates to corporate devices without requiring user interaction. Test updates before deployment to verify compatibility between in-house apps and new OS versions, all while increasing the security of enterprise devices by ensuring the latest security patches are deployed on a schedule. Try for free Audience This document is intended for: System Security Architects - Understand how Knox E-FOTA works, and how you can use it to update fleets of enterprise devices. IT Admins - Learn to manage over-the-air updates for enterprise devices. Try the solution Streamline your mobile update workflow using Knox E-FOTA. Enable version control management, and deploy OS updates by setting updates to occur outside business hours to avoid disruptions to productivity. Start tutorial About Knox E-FOTA Knox E-FOTA\"is an enterprise solution that controls OS versions on Samsung mobile devices to maximize cost efficiency. It helps IT admins do the following: Ensure that the latest security patches are deployed to devices on schedule. Test updates before deployment, ensuring compatibility between in-house apps and new OS versions. Key Features , Forced updates - Simplify your device management experience by deploying forced updates so that all devices have the same OS version on every device. You can push updates without requiring user interaction. Selective OS\"version - The latest OS version isn't always compatible with your in-house apps. Ensure operational continuity by controlling which OS version to deploy to your devices. You can lock them to that version until you're ready to deploy the latest OS version. Scheduled updates - Minimize business interruptions by scheduling firmware updates to occur outside business hours. For a full list of all features, visit the product page for Knox E-FOTA. Benefits 1. Software compatibility testing - Only enforce updates once the software is tested to ensure compatibility between internal apps and new OS versions. This helps minimize the need for IT support for compatibility issues. 2. Device security - Deploy the latest verified firmware along with the latest security patches - also called Security Maintenance Releases (SMR) - to all corporate-liable devices immediately without requiring user interaction. 3. Efficient rollout - Maintain productivity by specifying a time when devices download and install updates to minimize business interruptions. IT admins can stagger the deployment of updates (for example, by region) to ensure operational continuity. 4. Efficient device management - Remotely deploying forced updates ensures that all enterprise devices are always running the latest validated OS version. Having a uniform view of all devices allows IT admins to manage them more efficiently. Silent updates do not require user interaction so they can't be postponed or rejected. How does Knox E-FOTA work? Firmware-over-the-air (FOTA) is a service that allows IT admins to efficiently and securely push firmware updates to a fleet of enterprise mobile devices. Typically, the latest firmware updates are pushed to devices by their service provider through a Samsung Business-To-Consumer (B2C) FOTA server. The problem with this is that the latest firmware isn't always compatible with a company's in-house apps. Without Knox E-FOTA, companies can only address this problem by doing the following: Always update to the latest OS version, Block all OS updates using their EMM Knox E-FOTA\"allows admins to select a firmware version to deploy, even if it's not the latest version. Devices are then locked to that version. When admins have performed compatibility testing on a later firmware version, they can then update devices to the tested version. With Knox E-FOTA, businesses push firmware updates from a Samsung Business-To-Business (B2B) FOTA\"server There are exceptions, such as AT&T and Verizon, which provide firmware updates from their own servers and not through Samsung's Knox E-FOTA service\n"
     ]
    }
   ],
   "source": [
    "parent_id = response[\"_source\"][\"metadata\"][\"parent_id\"]\n",
    "print(\"child's parent_id: \", parent_id)\n",
    "print(\"\\n###### Search parent in OpenSearch\")\n",
    "response = opensearch_utils.get_document(os_client, doc_id = parent_id, index_name = eval_index_name)\n",
    "show_opensearch_doc_info(response)    \n"
   ]
  },
  {
   "cell_type": "markdown",
   "metadata": {},
   "source": [
    "## 검색 테스트"
   ]
  },
  {
   "cell_type": "code",
   "execution_count": 52,
   "metadata": {
    "tags": []
   },
   "outputs": [
    {
     "name": "stdout",
     "output_type": "stream",
     "text": [
      "{'query': {'bool': {'filter': {'term': {'metadata.family_tree': 'child'}},\n",
      "                    'must': [{'match': {'text': {'minimum_should_match': '0%',\n",
      "                                                 'operator': 'or',\n",
      "                                                 'query': \"'how to use \"\n",
      "                                                          'barcode'}}}]}}}\n"
     ]
    }
   ],
   "source": [
    "q = \"'how to use barcode\"\n",
    "query ={'query': \n",
    "        {'bool': {'must': \n",
    "                  [{'match': \n",
    "                    {'text': \n",
    "                     {'query': f\"{q}\", 'minimum_should_match': '0%', 'operator': 'or'}}}], \n",
    "                  'filter': {\n",
    "                    \"term\": {\n",
    "                      \"metadata.family_tree\": \"child\"\n",
    "                    }                      \n",
    "                  }\n",
    "                 }\n",
    "        }\n",
    "       }\n",
    "pprint(query)"
   ]
  },
  {
   "cell_type": "code",
   "execution_count": 53,
   "metadata": {
    "tags": []
   },
   "outputs": [
    {
     "name": "stdout",
     "output_type": "stream",
     "text": [
      "# of searched docs:  10\n",
      "# of display: 3\n",
      "---------------------\n",
      "_id in index:  92e9ae84-5d9f-470f-a2d3-9edbb4e39d42\n",
      "4.194215\n",
      "How-to videos. Contains videos on how to use Knox E-FOTA. This section contains videos on how to use Knox E-FOTA. Getting started with Knox E-FOTA This video walks you through the Knox E-FOTA console and demonstrates how you can register a reseller, approve a device, create a campaign, assign a campaign, and monitor device status. Creating a campaign on Knox E-FOTA The following video provides in-depth information on how to create and apply a Knox E-FOTA campaign to your Samsung devices. Connecting Knox E-FOTA to VMware Workspace ONE The following video describes the simple steps of connecting Knox E-FOTA with VMware Workspace ONE, while adding device groups from Workspace ONE.\n",
      "{'source': 'all_processed_data.json', 'seq_num': 1, 'title': 'How-to videos', 'url': 'https://docs.samsungknox.com/admin/efota-one/how-to-videos', 'project': 'EFOTA', 'last_updated': '2023-09-27', 'family_tree': 'child', 'parent_id': '8b4691d4-ebd7-4198-9055-d19f66a7851f'}\n",
      "---------------------\n",
      "_id in index:  5fa9bccc-e349-456e-8d9d-c75bb981ce36\n",
      "4.128182\n",
      "Add device groups from IBM. Describes how to connect to your IBM account and sync device groups with Knox E-FOTA. This procedure describes how to connect to your IBM account and select the device groups you want to sync with Knox E-FOTA. This procedure assumes that you have performed the prerequisite procedures needed to connect to IBM. To add device groups from IBM: 1. Sign in to the Knox Admin Portal. In the left sidebar, click Knox E-FOTA. 2. Go to EMM groups and then click Connect EMM. 3. Select IBM. 4. Enter your credentials: URL - Your partner base URL, for example, https\\://services.m3.maas360.com/. Billing ID - Your account ID. You can find this in the footer of the IBM MaaS 360 admin portal when you are signed in. Username - The username you use to sign in to the IBM MaaS 360 admin portal. Password - The password you use to sign in to the IBM MaaS 360 admin portal. App ID - The app ID associated with the access key you generated. App Access Key - The app access key you generated\n",
      "{'source': 'all_processed_data.json', 'seq_num': 10, 'title': 'Add device groups from IBM', 'url': 'https://docs.samsungknox.com/admin/efota-one/emm-integration/ibm/add-device-groups-from-ibm', 'project': 'EFOTA', 'last_updated': '2023-07-26', 'family_tree': 'child', 'parent_id': 'd9586599-fe58-4687-94cd-1d92a34f1c2f'}\n",
      "---------------------\n",
      "_id in index:  4ee49e2d-ddfb-4ed4-8977-f2cddfc43079\n",
      "3.6538787\n",
      ". 2. Use your EMM's search functionality to search for the Knox E-FOTA app in managed Google Play. 3. From the search results, select the Knox E-FOTA app and approve it. 4. Configure the EMM such that: It automatically installs the app on devices. It automatically launches the app after installation. 5. Assign the app to the devices that you plan to enroll in Knox E-FOTA. If your EMM has the capability to automatically launch the client, we strongly recommend you enable it. Enrollment can't complete until the client launches on the device. For detailed information, refer to your EMM's documentation. #Install the client through your EMM as an internal app If you use an EMM that has an app installation functionality, you may be able to use your EMM's console to push the client app to your devices. For general information on how to push an app to devices through various EMMs, see Install an app to devices through an EMM\n",
      "{'source': 'all_processed_data.json', 'seq_num': 39, 'title': 'Install and launch the Knox E-FOTA client', 'url': 'https://docs.samsungknox.com/admin/efota-one/get-started/install-and-launch-the-knox-efota-client', 'project': 'EFOTA', 'last_updated': '2023-07-26', 'family_tree': 'child', 'parent_id': 'ddd12a05-3004-4245-9ff2-8902b129d2b8'}\n",
      "---------------------\n"
     ]
    }
   ],
   "source": [
    "response = opensearch_utils.search_document(os_client, query, eval_index_name)\n",
    "opensearch_utils.parse_keyword_response(response, show_size=3)"
   ]
  },
  {
   "cell_type": "code",
   "execution_count": 54,
   "metadata": {
    "tags": []
   },
   "outputs": [
    {
     "data": {
      "text/plain": [
       "[Document(page_content='. Sign in to the Knox Admin Portal. In the left sidebar, click Knox E-FOTA. 2. Go to Devices > All Devices. 3. Click the device ID of the device you want to view. 4. In the Device details popup, click View device log. Tag a device Tagging is useful if you want to label devices and easily search for them in the device list. For example, you can label devices by their business function or by the location of their device users. This section describes how to tag a single device. If you want to tag multiple devices at once with the same tags, see Perform common operations on devices. 1. Sign in to the Knox Admin Portal. In the left sidebar, click Knox E-FOTA. 2. Go to Devices > All Devices. 3. Click the device ID of the device you want to tag. 4. In the Device details dialog, under the Tags field, enter the labels to associate with the device. For example: sales. 5. Click Save.', metadata={'source': 'all_processed_data.json', 'seq_num': 25, 'title': 'Manage devices', 'url': 'https://docs.samsungknox.com/admin/efota-one/features/manage-devices', 'project': 'EFOTA', 'last_updated': '2023-09-06', 'family_tree': 'child', 'parent_id': '8434fbc7-fb7c-48f2-b9be-b2a8fd8d5d79'}),\n",
       " Document(page_content='. Sign in to the Knox Admin Portal. In the left sidebar, click Knox E-FOTA. 2. Go to Devices > All Devices. 3. Click the device ID of the device you want to view. 4. In the Device details popup, click View device log. Tag a device Tagging is useful if you want to label devices and easily search for them in the device list. For example, you can label devices by their business function or by the location of their device users. This section describes how to tag a single device. If you want to tag multiple devices at once with the same tags, see Perform common operations on devices. 1. Sign in to the Knox Admin Portal. In the left sidebar, click Knox E-FOTA. 2. Go to Devices > All Devices. 3. Click the device ID of the device you want to tag. 4. In the Device details dialog, under the Tags field, enter the labels to associate with the device. For example: sales. 5. Click Save.', metadata={'source': 'all_processed_data.json', 'seq_num': 25, 'title': 'Manage devices', 'url': 'https://docs.samsungknox.com/admin/efota-one/features/manage-devices', 'project': 'EFOTA', 'last_updated': '2023-09-06', 'family_tree': 'parent', 'parent_id': None})]"
      ]
     },
     "execution_count": 54,
     "metadata": {},
     "output_type": "execute_result"
    }
   ],
   "source": [
    "eval_vector_db.similarity_search(q, k=2)"
   ]
  },
  {
   "cell_type": "code",
   "execution_count": null,
   "metadata": {},
   "outputs": [],
   "source": []
  }
 ],
 "metadata": {
  "availableInstances": [
   {
    "_defaultOrder": 0,
    "_isFastLaunch": true,
    "category": "General purpose",
    "gpuNum": 0,
    "hideHardwareSpecs": false,
    "memoryGiB": 4,
    "name": "ml.t3.medium",
    "vcpuNum": 2
   },
   {
    "_defaultOrder": 1,
    "_isFastLaunch": false,
    "category": "General purpose",
    "gpuNum": 0,
    "hideHardwareSpecs": false,
    "memoryGiB": 8,
    "name": "ml.t3.large",
    "vcpuNum": 2
   },
   {
    "_defaultOrder": 2,
    "_isFastLaunch": false,
    "category": "General purpose",
    "gpuNum": 0,
    "hideHardwareSpecs": false,
    "memoryGiB": 16,
    "name": "ml.t3.xlarge",
    "vcpuNum": 4
   },
   {
    "_defaultOrder": 3,
    "_isFastLaunch": false,
    "category": "General purpose",
    "gpuNum": 0,
    "hideHardwareSpecs": false,
    "memoryGiB": 32,
    "name": "ml.t3.2xlarge",
    "vcpuNum": 8
   },
   {
    "_defaultOrder": 4,
    "_isFastLaunch": true,
    "category": "General purpose",
    "gpuNum": 0,
    "hideHardwareSpecs": false,
    "memoryGiB": 8,
    "name": "ml.m5.large",
    "vcpuNum": 2
   },
   {
    "_defaultOrder": 5,
    "_isFastLaunch": false,
    "category": "General purpose",
    "gpuNum": 0,
    "hideHardwareSpecs": false,
    "memoryGiB": 16,
    "name": "ml.m5.xlarge",
    "vcpuNum": 4
   },
   {
    "_defaultOrder": 6,
    "_isFastLaunch": false,
    "category": "General purpose",
    "gpuNum": 0,
    "hideHardwareSpecs": false,
    "memoryGiB": 32,
    "name": "ml.m5.2xlarge",
    "vcpuNum": 8
   },
   {
    "_defaultOrder": 7,
    "_isFastLaunch": false,
    "category": "General purpose",
    "gpuNum": 0,
    "hideHardwareSpecs": false,
    "memoryGiB": 64,
    "name": "ml.m5.4xlarge",
    "vcpuNum": 16
   },
   {
    "_defaultOrder": 8,
    "_isFastLaunch": false,
    "category": "General purpose",
    "gpuNum": 0,
    "hideHardwareSpecs": false,
    "memoryGiB": 128,
    "name": "ml.m5.8xlarge",
    "vcpuNum": 32
   },
   {
    "_defaultOrder": 9,
    "_isFastLaunch": false,
    "category": "General purpose",
    "gpuNum": 0,
    "hideHardwareSpecs": false,
    "memoryGiB": 192,
    "name": "ml.m5.12xlarge",
    "vcpuNum": 48
   },
   {
    "_defaultOrder": 10,
    "_isFastLaunch": false,
    "category": "General purpose",
    "gpuNum": 0,
    "hideHardwareSpecs": false,
    "memoryGiB": 256,
    "name": "ml.m5.16xlarge",
    "vcpuNum": 64
   },
   {
    "_defaultOrder": 11,
    "_isFastLaunch": false,
    "category": "General purpose",
    "gpuNum": 0,
    "hideHardwareSpecs": false,
    "memoryGiB": 384,
    "name": "ml.m5.24xlarge",
    "vcpuNum": 96
   },
   {
    "_defaultOrder": 12,
    "_isFastLaunch": false,
    "category": "General purpose",
    "gpuNum": 0,
    "hideHardwareSpecs": false,
    "memoryGiB": 8,
    "name": "ml.m5d.large",
    "vcpuNum": 2
   },
   {
    "_defaultOrder": 13,
    "_isFastLaunch": false,
    "category": "General purpose",
    "gpuNum": 0,
    "hideHardwareSpecs": false,
    "memoryGiB": 16,
    "name": "ml.m5d.xlarge",
    "vcpuNum": 4
   },
   {
    "_defaultOrder": 14,
    "_isFastLaunch": false,
    "category": "General purpose",
    "gpuNum": 0,
    "hideHardwareSpecs": false,
    "memoryGiB": 32,
    "name": "ml.m5d.2xlarge",
    "vcpuNum": 8
   },
   {
    "_defaultOrder": 15,
    "_isFastLaunch": false,
    "category": "General purpose",
    "gpuNum": 0,
    "hideHardwareSpecs": false,
    "memoryGiB": 64,
    "name": "ml.m5d.4xlarge",
    "vcpuNum": 16
   },
   {
    "_defaultOrder": 16,
    "_isFastLaunch": false,
    "category": "General purpose",
    "gpuNum": 0,
    "hideHardwareSpecs": false,
    "memoryGiB": 128,
    "name": "ml.m5d.8xlarge",
    "vcpuNum": 32
   },
   {
    "_defaultOrder": 17,
    "_isFastLaunch": false,
    "category": "General purpose",
    "gpuNum": 0,
    "hideHardwareSpecs": false,
    "memoryGiB": 192,
    "name": "ml.m5d.12xlarge",
    "vcpuNum": 48
   },
   {
    "_defaultOrder": 18,
    "_isFastLaunch": false,
    "category": "General purpose",
    "gpuNum": 0,
    "hideHardwareSpecs": false,
    "memoryGiB": 256,
    "name": "ml.m5d.16xlarge",
    "vcpuNum": 64
   },
   {
    "_defaultOrder": 19,
    "_isFastLaunch": false,
    "category": "General purpose",
    "gpuNum": 0,
    "hideHardwareSpecs": false,
    "memoryGiB": 384,
    "name": "ml.m5d.24xlarge",
    "vcpuNum": 96
   },
   {
    "_defaultOrder": 20,
    "_isFastLaunch": false,
    "category": "General purpose",
    "gpuNum": 0,
    "hideHardwareSpecs": true,
    "memoryGiB": 0,
    "name": "ml.geospatial.interactive",
    "supportedImageNames": [
     "sagemaker-geospatial-v1-0"
    ],
    "vcpuNum": 0
   },
   {
    "_defaultOrder": 21,
    "_isFastLaunch": true,
    "category": "Compute optimized",
    "gpuNum": 0,
    "hideHardwareSpecs": false,
    "memoryGiB": 4,
    "name": "ml.c5.large",
    "vcpuNum": 2
   },
   {
    "_defaultOrder": 22,
    "_isFastLaunch": false,
    "category": "Compute optimized",
    "gpuNum": 0,
    "hideHardwareSpecs": false,
    "memoryGiB": 8,
    "name": "ml.c5.xlarge",
    "vcpuNum": 4
   },
   {
    "_defaultOrder": 23,
    "_isFastLaunch": false,
    "category": "Compute optimized",
    "gpuNum": 0,
    "hideHardwareSpecs": false,
    "memoryGiB": 16,
    "name": "ml.c5.2xlarge",
    "vcpuNum": 8
   },
   {
    "_defaultOrder": 24,
    "_isFastLaunch": false,
    "category": "Compute optimized",
    "gpuNum": 0,
    "hideHardwareSpecs": false,
    "memoryGiB": 32,
    "name": "ml.c5.4xlarge",
    "vcpuNum": 16
   },
   {
    "_defaultOrder": 25,
    "_isFastLaunch": false,
    "category": "Compute optimized",
    "gpuNum": 0,
    "hideHardwareSpecs": false,
    "memoryGiB": 72,
    "name": "ml.c5.9xlarge",
    "vcpuNum": 36
   },
   {
    "_defaultOrder": 26,
    "_isFastLaunch": false,
    "category": "Compute optimized",
    "gpuNum": 0,
    "hideHardwareSpecs": false,
    "memoryGiB": 96,
    "name": "ml.c5.12xlarge",
    "vcpuNum": 48
   },
   {
    "_defaultOrder": 27,
    "_isFastLaunch": false,
    "category": "Compute optimized",
    "gpuNum": 0,
    "hideHardwareSpecs": false,
    "memoryGiB": 144,
    "name": "ml.c5.18xlarge",
    "vcpuNum": 72
   },
   {
    "_defaultOrder": 28,
    "_isFastLaunch": false,
    "category": "Compute optimized",
    "gpuNum": 0,
    "hideHardwareSpecs": false,
    "memoryGiB": 192,
    "name": "ml.c5.24xlarge",
    "vcpuNum": 96
   },
   {
    "_defaultOrder": 29,
    "_isFastLaunch": true,
    "category": "Accelerated computing",
    "gpuNum": 1,
    "hideHardwareSpecs": false,
    "memoryGiB": 16,
    "name": "ml.g4dn.xlarge",
    "vcpuNum": 4
   },
   {
    "_defaultOrder": 30,
    "_isFastLaunch": false,
    "category": "Accelerated computing",
    "gpuNum": 1,
    "hideHardwareSpecs": false,
    "memoryGiB": 32,
    "name": "ml.g4dn.2xlarge",
    "vcpuNum": 8
   },
   {
    "_defaultOrder": 31,
    "_isFastLaunch": false,
    "category": "Accelerated computing",
    "gpuNum": 1,
    "hideHardwareSpecs": false,
    "memoryGiB": 64,
    "name": "ml.g4dn.4xlarge",
    "vcpuNum": 16
   },
   {
    "_defaultOrder": 32,
    "_isFastLaunch": false,
    "category": "Accelerated computing",
    "gpuNum": 1,
    "hideHardwareSpecs": false,
    "memoryGiB": 128,
    "name": "ml.g4dn.8xlarge",
    "vcpuNum": 32
   },
   {
    "_defaultOrder": 33,
    "_isFastLaunch": false,
    "category": "Accelerated computing",
    "gpuNum": 4,
    "hideHardwareSpecs": false,
    "memoryGiB": 192,
    "name": "ml.g4dn.12xlarge",
    "vcpuNum": 48
   },
   {
    "_defaultOrder": 34,
    "_isFastLaunch": false,
    "category": "Accelerated computing",
    "gpuNum": 1,
    "hideHardwareSpecs": false,
    "memoryGiB": 256,
    "name": "ml.g4dn.16xlarge",
    "vcpuNum": 64
   },
   {
    "_defaultOrder": 35,
    "_isFastLaunch": false,
    "category": "Accelerated computing",
    "gpuNum": 1,
    "hideHardwareSpecs": false,
    "memoryGiB": 61,
    "name": "ml.p3.2xlarge",
    "vcpuNum": 8
   },
   {
    "_defaultOrder": 36,
    "_isFastLaunch": false,
    "category": "Accelerated computing",
    "gpuNum": 4,
    "hideHardwareSpecs": false,
    "memoryGiB": 244,
    "name": "ml.p3.8xlarge",
    "vcpuNum": 32
   },
   {
    "_defaultOrder": 37,
    "_isFastLaunch": false,
    "category": "Accelerated computing",
    "gpuNum": 8,
    "hideHardwareSpecs": false,
    "memoryGiB": 488,
    "name": "ml.p3.16xlarge",
    "vcpuNum": 64
   },
   {
    "_defaultOrder": 38,
    "_isFastLaunch": false,
    "category": "Accelerated computing",
    "gpuNum": 8,
    "hideHardwareSpecs": false,
    "memoryGiB": 768,
    "name": "ml.p3dn.24xlarge",
    "vcpuNum": 96
   },
   {
    "_defaultOrder": 39,
    "_isFastLaunch": false,
    "category": "Memory Optimized",
    "gpuNum": 0,
    "hideHardwareSpecs": false,
    "memoryGiB": 16,
    "name": "ml.r5.large",
    "vcpuNum": 2
   },
   {
    "_defaultOrder": 40,
    "_isFastLaunch": false,
    "category": "Memory Optimized",
    "gpuNum": 0,
    "hideHardwareSpecs": false,
    "memoryGiB": 32,
    "name": "ml.r5.xlarge",
    "vcpuNum": 4
   },
   {
    "_defaultOrder": 41,
    "_isFastLaunch": false,
    "category": "Memory Optimized",
    "gpuNum": 0,
    "hideHardwareSpecs": false,
    "memoryGiB": 64,
    "name": "ml.r5.2xlarge",
    "vcpuNum": 8
   },
   {
    "_defaultOrder": 42,
    "_isFastLaunch": false,
    "category": "Memory Optimized",
    "gpuNum": 0,
    "hideHardwareSpecs": false,
    "memoryGiB": 128,
    "name": "ml.r5.4xlarge",
    "vcpuNum": 16
   },
   {
    "_defaultOrder": 43,
    "_isFastLaunch": false,
    "category": "Memory Optimized",
    "gpuNum": 0,
    "hideHardwareSpecs": false,
    "memoryGiB": 256,
    "name": "ml.r5.8xlarge",
    "vcpuNum": 32
   },
   {
    "_defaultOrder": 44,
    "_isFastLaunch": false,
    "category": "Memory Optimized",
    "gpuNum": 0,
    "hideHardwareSpecs": false,
    "memoryGiB": 384,
    "name": "ml.r5.12xlarge",
    "vcpuNum": 48
   },
   {
    "_defaultOrder": 45,
    "_isFastLaunch": false,
    "category": "Memory Optimized",
    "gpuNum": 0,
    "hideHardwareSpecs": false,
    "memoryGiB": 512,
    "name": "ml.r5.16xlarge",
    "vcpuNum": 64
   },
   {
    "_defaultOrder": 46,
    "_isFastLaunch": false,
    "category": "Memory Optimized",
    "gpuNum": 0,
    "hideHardwareSpecs": false,
    "memoryGiB": 768,
    "name": "ml.r5.24xlarge",
    "vcpuNum": 96
   },
   {
    "_defaultOrder": 47,
    "_isFastLaunch": false,
    "category": "Accelerated computing",
    "gpuNum": 1,
    "hideHardwareSpecs": false,
    "memoryGiB": 16,
    "name": "ml.g5.xlarge",
    "vcpuNum": 4
   },
   {
    "_defaultOrder": 48,
    "_isFastLaunch": false,
    "category": "Accelerated computing",
    "gpuNum": 1,
    "hideHardwareSpecs": false,
    "memoryGiB": 32,
    "name": "ml.g5.2xlarge",
    "vcpuNum": 8
   },
   {
    "_defaultOrder": 49,
    "_isFastLaunch": false,
    "category": "Accelerated computing",
    "gpuNum": 1,
    "hideHardwareSpecs": false,
    "memoryGiB": 64,
    "name": "ml.g5.4xlarge",
    "vcpuNum": 16
   },
   {
    "_defaultOrder": 50,
    "_isFastLaunch": false,
    "category": "Accelerated computing",
    "gpuNum": 1,
    "hideHardwareSpecs": false,
    "memoryGiB": 128,
    "name": "ml.g5.8xlarge",
    "vcpuNum": 32
   },
   {
    "_defaultOrder": 51,
    "_isFastLaunch": false,
    "category": "Accelerated computing",
    "gpuNum": 1,
    "hideHardwareSpecs": false,
    "memoryGiB": 256,
    "name": "ml.g5.16xlarge",
    "vcpuNum": 64
   },
   {
    "_defaultOrder": 52,
    "_isFastLaunch": false,
    "category": "Accelerated computing",
    "gpuNum": 4,
    "hideHardwareSpecs": false,
    "memoryGiB": 192,
    "name": "ml.g5.12xlarge",
    "vcpuNum": 48
   },
   {
    "_defaultOrder": 53,
    "_isFastLaunch": false,
    "category": "Accelerated computing",
    "gpuNum": 4,
    "hideHardwareSpecs": false,
    "memoryGiB": 384,
    "name": "ml.g5.24xlarge",
    "vcpuNum": 96
   },
   {
    "_defaultOrder": 54,
    "_isFastLaunch": false,
    "category": "Accelerated computing",
    "gpuNum": 8,
    "hideHardwareSpecs": false,
    "memoryGiB": 768,
    "name": "ml.g5.48xlarge",
    "vcpuNum": 192
   },
   {
    "_defaultOrder": 55,
    "_isFastLaunch": false,
    "category": "Accelerated computing",
    "gpuNum": 8,
    "hideHardwareSpecs": false,
    "memoryGiB": 1152,
    "name": "ml.p4d.24xlarge",
    "vcpuNum": 96
   },
   {
    "_defaultOrder": 56,
    "_isFastLaunch": false,
    "category": "Accelerated computing",
    "gpuNum": 8,
    "hideHardwareSpecs": false,
    "memoryGiB": 1152,
    "name": "ml.p4de.24xlarge",
    "vcpuNum": 96
   }
  ],
  "instance_type": "ml.m5.xlarge",
  "kernelspec": {
   "display_name": "base",
   "language": "python",
   "name": "python3"
  },
  "language_info": {
   "codemirror_mode": {
    "name": "ipython",
    "version": 3
   },
   "file_extension": ".py",
   "mimetype": "text/x-python",
   "name": "python",
   "nbconvert_exporter": "python",
   "pygments_lexer": "ipython3",
   "version": "3.10.13"
  }
 },
 "nbformat": 4,
 "nbformat_minor": 4
}
