{
 "cells": [
  {
   "cell_type": "markdown",
   "id": "b3549227-a8fc-473d-af32-6bf3aee353b2",
   "metadata": {},
   "source": [
    "# Evaluation\n",
    "- For retriever\n",
    "- For generator"
   ]
  },
  {
   "cell_type": "markdown",
   "id": "bd731477-d5aa-4f55-878d-9d38a7e37019",
   "metadata": {},
   "source": [
    "## Setting\n",
    " - Auto Reload\n",
    " - path for utils"
   ]
  },
  {
   "cell_type": "code",
   "execution_count": 1,
   "id": "e72acb41-2495-4835-8e8b-3e5bb5f703b4",
   "metadata": {
    "tags": []
   },
   "outputs": [],
   "source": [
    "%load_ext autoreload\n",
    "%autoreload 2"
   ]
  },
  {
   "cell_type": "code",
   "execution_count": 2,
   "id": "bd4c2205-9b56-4ac9-977d-e00a00daab38",
   "metadata": {
    "tags": []
   },
   "outputs": [],
   "source": [
    "import sys, os\n",
    "module_path = \"../../..\"\n",
    "sys.path.append(os.path.abspath(module_path))"
   ]
  },
  {
   "cell_type": "markdown",
   "id": "01670eb4-8f19-497d-837e-d9788e0a05f3",
   "metadata": {},
   "source": [
    "## 1. Bedrock Client 생성"
   ]
  },
  {
   "cell_type": "code",
   "execution_count": 3,
   "id": "1f9dcbdc-0667-4bff-afcf-0c4b5ace273b",
   "metadata": {
    "tags": []
   },
   "outputs": [],
   "source": [
    "import json\n",
    "import boto3\n",
    "from pprint import pprint\n",
    "from termcolor import colored\n",
    "from utils import bedrock, print_ww\n",
    "from utils.bedrock import bedrock_info"
   ]
  },
  {
   "cell_type": "markdown",
   "id": "259021cc-1d69-458e-879c-80076fc57c64",
   "metadata": {},
   "source": [
    "### ---- ⚠️ Un-comment and edit the below lines as needed for your AWS setup ⚠️ ----\n",
    "- os.environ[\"AWS_DEFAULT_REGION\"] = \"<REGION_NAME>\"  # E.g. \"us-east-1\"\n",
    "- os.environ[\"AWS_PROFILE\"] = \"<YOUR_PROFILE>\"\n",
    "- os.environ[\"BEDROCK_ASSUME_ROLE\"] = \"<YOUR_ROLE_ARN>\"  # E.g. \"arn:aws:...\"\n",
    "- os.environ[\"BEDROCK_ENDPOINT_URL\"] = \"<YOUR_ENDPOINT_URL>\"  # E.g. \"https://...\""
   ]
  },
  {
   "cell_type": "code",
   "execution_count": 4,
   "id": "9fde1bf1-d608-46ef-969e-40fe49b77ec5",
   "metadata": {
    "tags": []
   },
   "outputs": [
    {
     "name": "stdout",
     "output_type": "stream",
     "text": [
      "Create new client\n",
      "  Using region: None\n",
      "  Using profile: None\n",
      "boto3 Bedrock client successfully created!\n",
      "bedrock-runtime(https://bedrock-runtime.us-east-1.amazonaws.com)\n",
      "\u001b[32m\n",
      "== FM lists ==\u001b[0m\n",
      "{'Claude-Instant-V1': 'anthropic.claude-instant-v1',\n",
      " 'Claude-V1': 'anthropic.claude-v1',\n",
      " 'Claude-V2': 'anthropic.claude-v2',\n",
      " 'Cohere-Embeddings-En': 'cohere.embed-english-v3',\n",
      " 'Cohere-Embeddings-Multilingual': 'cohere.embed-multilingual-v3',\n",
      " 'Command': 'cohere.command-text-v14',\n",
      " 'Command-Light': 'cohere.command-light-text-v14',\n",
      " 'Jurassic-2-Mid': 'ai21.j2-mid-v1',\n",
      " 'Jurassic-2-Ultra': 'ai21.j2-ultra-v1',\n",
      " 'Llama2-13b-Chat': 'meta.llama2-13b-chat-v1',\n",
      " 'Titan-Embeddings-G1': 'amazon.titan-embed-text-v1',\n",
      " 'Titan-Text-G1': 'amazon.titan-text-express-v1',\n",
      " 'Titan-Text-G1-Light': 'amazon.titan-text-lite-v1'}\n"
     ]
    }
   ],
   "source": [
    "boto3_bedrock = bedrock.get_bedrock_client(\n",
    "    assumed_role=os.environ.get(\"BEDROCK_ASSUME_ROLE\", None),\n",
    "    endpoint_url=os.environ.get(\"BEDROCK_ENDPOINT_URL\", None),\n",
    "    region=os.environ.get(\"AWS_DEFAULT_REGION\", None),\n",
    ")\n",
    "\n",
    "aws_region = os.environ.get(\"AWS_DEFAULT_REGION\", None)\n",
    "print (colored(\"\\n== FM lists ==\", \"green\"))\n",
    "pprint (bedrock_info.get_list_fm_models())"
   ]
  },
  {
   "cell_type": "markdown",
   "id": "100a9b99-f66d-4447-805d-c29ee9f88c4f",
   "metadata": {},
   "source": [
    "## 2. Titan Embedding 및 LLM 인 Claude-v2 모델 로딩"
   ]
  },
  {
   "cell_type": "markdown",
   "id": "c84c0aea-2d43-493a-9538-648e5a453220",
   "metadata": {},
   "source": [
    "### LLM 로딩 (Claude-v2)"
   ]
  },
  {
   "cell_type": "code",
   "execution_count": 5,
   "id": "32924f36-0b17-4792-b382-92867c566e50",
   "metadata": {
    "tags": []
   },
   "outputs": [],
   "source": [
    "from langchain.llms.bedrock import Bedrock\n",
    "from langchain.callbacks.streaming_stdout import StreamingStdOutCallbackHandler"
   ]
  },
  {
   "cell_type": "code",
   "execution_count": 6,
   "id": "6fc13fa9-0452-4fbe-b07b-a54f1833655d",
   "metadata": {
    "tags": []
   },
   "outputs": [],
   "source": [
    "llm_text = Bedrock(\n",
    "    model_id=bedrock_info.get_model_id(model_name=\"Claude-V2\"),\n",
    "    client=boto3_bedrock,\n",
    "    model_kwargs={\n",
    "        \"max_tokens_to_sample\": 512\n",
    "    },\n",
    "    streaming=False,\n",
    "    callbacks=[StreamingStdOutCallbackHandler()]\n",
    ")\n",
    "\n",
    "llm_text_light = Bedrock(\n",
    "    model_id=bedrock_info.get_model_id(model_name=\"Claude-Instant-V1\"),\n",
    "    client=boto3_bedrock,\n",
    "    model_kwargs={\n",
    "        \"max_tokens_to_sample\": 512\n",
    "    },\n",
    "    streaming=False,\n",
    "    callbacks=[StreamingStdOutCallbackHandler()]\n",
    ")"
   ]
  },
  {
   "cell_type": "markdown",
   "id": "0ac056c9-e2ad-496e-b38a-d739724202a4",
   "metadata": {},
   "source": [
    "### Embedding 모델 선택"
   ]
  },
  {
   "cell_type": "code",
   "execution_count": 7,
   "id": "061dcf18-4681-4f16-bfa3-c76d717f307f",
   "metadata": {
    "tags": []
   },
   "outputs": [],
   "source": [
    "from utils.rag import KoSimCSERobertaContentHandler, SagemakerEndpointEmbeddingsJumpStart"
   ]
  },
  {
   "cell_type": "code",
   "execution_count": 8,
   "id": "d85536e9-3416-4f7a-96a4-c539a6a5596f",
   "metadata": {
    "tags": []
   },
   "outputs": [],
   "source": [
    "def get_embedding_model(is_bedrock_embeddings, is_KoSimCSERobert, aws_region, endpont_name=None):\n",
    "\n",
    "    if is_bedrock_embeddings:\n",
    "        # We will be using the Titan Embeddings Model to generate our Embeddings.\n",
    "        from langchain.embeddings import BedrockEmbeddings\n",
    "        llm_emb = BedrockEmbeddings(\n",
    "            client=boto3_bedrock,\n",
    "            model_id=bedrock_info.get_model_id(\n",
    "                model_name=\"Titan-Embeddings-G1\"\n",
    "                #model_name=\"Cohere-Embeddings-En\"\n",
    "            )\n",
    "        )\n",
    "        print(\"Bedrock Embeddings Model Loaded\")\n",
    "\n",
    "    elif is_KoSimCSERobert:\n",
    "        LLMEmbHandler = KoSimCSERobertaContentHandler()\n",
    "        endpoint_name_emb = endpont_name\n",
    "        llm_emb = SagemakerEndpointEmbeddingsJumpStart(\n",
    "            endpoint_name=endpoint_name_emb,\n",
    "            region_name=aws_region,\n",
    "            content_handler=LLMEmbHandler,\n",
    "        )\n",
    "        print(\"KoSimCSERobert Embeddings Model Loaded\")\n",
    "    else:\n",
    "        llm_emb = None\n",
    "        print(\"No Embedding Model Selected\")\n",
    "\n",
    "    return llm_emb"
   ]
  },
  {
   "cell_type": "markdown",
   "id": "83000f64-5855-45ee-b736-eb96e9ff0739",
   "metadata": {},
   "source": [
    "#### [중요] is_KoSimCSERobert == True 일시에 endpoint_name 을 꼭 넣어 주세요."
   ]
  },
  {
   "cell_type": "code",
   "execution_count": 9,
   "id": "dbbec6da-798a-419b-9e4e-b1cc417cfbfa",
   "metadata": {
    "tags": []
   },
   "outputs": [
    {
     "name": "stdout",
     "output_type": "stream",
     "text": [
      "Bedrock Embeddings Model Loaded\n"
     ]
    }
   ],
   "source": [
    "is_bedrock_embeddings = True\n",
    "is_KoSimCSERobert = False\n",
    "aws_region = os.environ.get(\"AWS_DEFAULT_REGION\", None)\n",
    "\n",
    "##############################\n",
    "# Parameters for is_KoSimCSERobert\n",
    "##############################\n",
    "if is_KoSimCSERobert: endpont_name = \"<endpoint-name>\"\n",
    "else: endpont_name = None\n",
    "##############################\n",
    "\n",
    "llm_emb = get_embedding_model(is_bedrock_embeddings, is_KoSimCSERobert, aws_region, endpont_name)   "
   ]
  },
  {
   "cell_type": "markdown",
   "id": "b69eff24-6ac7-4500-b5eb-9039fbe38c9f",
   "metadata": {},
   "source": [
    "## 3. Depoly ReRanker model (if needed)"
   ]
  },
  {
   "cell_type": "code",
   "execution_count": 10,
   "id": "f364b91e-b186-4920-aeca-857a34665a11",
   "metadata": {
    "tags": []
   },
   "outputs": [
    {
     "name": "stdout",
     "output_type": "stream",
     "text": [
      "sagemaker.config INFO - Not applying SDK defaults from location: /etc/xdg/sagemaker/config.yaml\n",
      "sagemaker.config INFO - Not applying SDK defaults from location: /home/ec2-user/.config/sagemaker/config.yaml\n"
     ]
    }
   ],
   "source": [
    "import json\n",
    "import sagemaker\n",
    "from sagemaker.huggingface import HuggingFaceModel"
   ]
  },
  {
   "cell_type": "code",
   "execution_count": 11,
   "id": "1d32b1f5-289b-4ba8-baa9-765501ef5b0e",
   "metadata": {
    "tags": []
   },
   "outputs": [],
   "source": [
    "depoly = False"
   ]
  },
  {
   "cell_type": "code",
   "execution_count": 12,
   "id": "9e73ea11-7dea-41b2-98fb-85de4e2851db",
   "metadata": {
    "tags": []
   },
   "outputs": [],
   "source": [
    "if depoly:\n",
    "\n",
    "    try:\n",
    "        role = sagemaker.get_execution_role()\n",
    "    except ValueError:\n",
    "        iam = boto3.client('iam')\n",
    "        role = iam.get_role(RoleName='sagemaker_execution_role')['Role']['Arn']\n",
    "\n",
    "    # Hub Model configuration. https://huggingface.co/models\n",
    "    hub = {\n",
    "        'HF_MODEL_ID':'BAAI/bge-reranker-large',\n",
    "        'HF_TASK':'text-classification'\n",
    "    }\n",
    "\n",
    "    # create Hugging Face Model Class\n",
    "    huggingface_model = HuggingFaceModel(\n",
    "        transformers_version='4.26.0',\n",
    "        pytorch_version='1.13.1',\n",
    "        py_version='py39',\n",
    "        env=hub,\n",
    "        role=role, \n",
    "    )\n",
    "\n",
    "    # deploy model to SageMaker Inference\n",
    "    predictor = huggingface_model.deploy(\n",
    "        initial_instance_count=1, # number of instances\n",
    "        instance_type='ml.g5.xlarge' # instance type\n",
    "    )\n",
    "\n",
    "    print(f'Accept: {predictor.accept}')\n",
    "    print(f'ContentType: {predictor.content_type}')\n",
    "    print(f'Endpoint: {predictor.endpoint}')"
   ]
  },
  {
   "cell_type": "markdown",
   "id": "a953ea43-3337-4300-8833-ec4b38840822",
   "metadata": {},
   "source": [
    "### Reranker"
   ]
  },
  {
   "cell_type": "code",
   "execution_count": 13,
   "id": "f0f90b69-27bb-412b-ba0a-2e2d768e92a0",
   "metadata": {
    "tags": []
   },
   "outputs": [],
   "source": [
    "#endpoint_name = \"huggingface-pytorch-inference-2023-11-15-04-37-45-120\" # ml.m5.2xlarge\n",
    "endpoint_name = \"huggingface-pytorch-inference-2023-11-15-07-53-21-605\" # ml.g5.xlarge"
   ]
  },
  {
   "cell_type": "code",
   "execution_count": 14,
   "id": "cd07db04-6140-4516-a279-bfc1a14cee7f",
   "metadata": {
    "tags": []
   },
   "outputs": [
    {
     "name": "stdout",
     "output_type": "stream",
     "text": [
      "runtime_client: <botocore.client.SageMakerRuntime object at 0x7fb9718ddba0>\n"
     ]
    }
   ],
   "source": [
    "runtime_client = boto3.Session().client('sagemaker-runtime')\n",
    "print (f'runtime_client: {runtime_client}')"
   ]
  },
  {
   "cell_type": "markdown",
   "id": "a14dee0e-7a7d-48c3-94ff-90db1cf89daf",
   "metadata": {},
   "source": [
    "## 4. LangChainmOpenSearch VectorStore 정의\n",
    "### 선수 조건\n",
    "- 01_preprocess_docs/02_load_docs_opensearch.ipynb를 통해서 OpenSearch Index 가 생성이 되어 있어야 합니다.\n",
    "#### [중요] 아래에 aws parameter store 에 아래 인증정보가 먼저 입력되어 있어야 합니다.\n",
    "- 01_preprocess_docs/01_parameter_store_example.ipynb 참고"
   ]
  },
  {
   "cell_type": "code",
   "execution_count": 15,
   "id": "d85af7d2-6b71-4125-8ba4-fa15406f5c3f",
   "metadata": {
    "tags": []
   },
   "outputs": [],
   "source": [
    "from utils.proc_docs import get_parameter"
   ]
  },
  {
   "cell_type": "code",
   "execution_count": 16,
   "id": "8b29f46c-154b-41fe-ab1a-d34af0a73b39",
   "metadata": {
    "tags": []
   },
   "outputs": [],
   "source": [
    "ssm = boto3.client(\"ssm\", \"us-east-1\")\n",
    "\n",
    "opensearch_domain_endpoint = get_parameter(\n",
    "    boto3_clinet = ssm,\n",
    "    parameter_name = 'knox_opensearch_domain_endpoint',\n",
    ")\n",
    "\n",
    "opensearch_user_id = get_parameter(\n",
    "    boto3_clinet = ssm,\n",
    "    parameter_name = 'knox_opensearch_userid',\n",
    ")\n",
    "\n",
    "opensearch_user_password = get_parameter(\n",
    "    boto3_clinet = ssm,\n",
    "    parameter_name = 'knox_opensearch_password',\n",
    ")\n",
    "\n",
    "http_auth = (opensearch_user_id, opensearch_user_password) # Master username, Master password"
   ]
  },
  {
   "cell_type": "markdown",
   "id": "354a0a15-e66c-4fd9-a555-13a15c80f327",
   "metadata": {},
   "source": [
    "### Index 이름 셋팅\n",
    "- 이전 노트북 01_preprocess_docs/02_load_docs_opensearch.ipynb를 통해서 생성된 OpenSearch Index name 입력"
   ]
  },
  {
   "cell_type": "code",
   "execution_count": 17,
   "id": "2bde847e-429f-47fa-87bf-36441a92c401",
   "metadata": {
    "tags": []
   },
   "outputs": [],
   "source": [
    "#index_name = \"v13-genai-poc-knox-titan-eval-sample-0.05-1024c-256o\"\n",
    "index_name = \"v16-genai-poc-knox-eval-parent-doc-retriever\""
   ]
  },
  {
   "cell_type": "markdown",
   "id": "1b5ef81d-27b2-4d64-9e57-0324fc627a2c",
   "metadata": {},
   "source": [
    "### OpenSearch Client 생성"
   ]
  },
  {
   "cell_type": "code",
   "execution_count": 18,
   "id": "a81604ea-e7a0-4256-931e-849fca7be994",
   "metadata": {
    "tags": []
   },
   "outputs": [],
   "source": [
    "from utils.opensearch import opensearch_utils"
   ]
  },
  {
   "cell_type": "code",
   "execution_count": 19,
   "id": "b46578e5-6113-42d4-9e2c-e4446bb4cfca",
   "metadata": {
    "tags": []
   },
   "outputs": [],
   "source": [
    "os_client = opensearch_utils.create_aws_opensearch_client(\n",
    "    aws_region,\n",
    "    opensearch_domain_endpoint,\n",
    "    http_auth\n",
    ")"
   ]
  },
  {
   "cell_type": "markdown",
   "id": "1fa855f1-f8d4-4218-ab77-84d4f5f0238e",
   "metadata": {},
   "source": [
    "### LangChain OpenSearch VectorStore 생성"
   ]
  },
  {
   "cell_type": "code",
   "execution_count": 20,
   "id": "b86443bb-ff05-4bac-a8cf-d708552fbbfb",
   "metadata": {
    "tags": []
   },
   "outputs": [],
   "source": [
    "from langchain.vectorstores import OpenSearchVectorSearch"
   ]
  },
  {
   "cell_type": "code",
   "execution_count": 21,
   "id": "51568769-47a2-42cd-90dd-02469094619b",
   "metadata": {
    "tags": []
   },
   "outputs": [
    {
     "data": {
      "text/plain": [
       "<langchain.vectorstores.opensearch_vector_search.OpenSearchVectorSearch at 0x7fb970c2a590>"
      ]
     },
     "execution_count": 21,
     "metadata": {},
     "output_type": "execute_result"
    }
   ],
   "source": [
    "vector_db = OpenSearchVectorSearch(\n",
    "    index_name=index_name,\n",
    "    opensearch_url=opensearch_domain_endpoint,\n",
    "    embedding_function=llm_emb,\n",
    "    http_auth=http_auth, # http_auth\n",
    "    is_aoss =False,\n",
    "    engine=\"faiss\",\n",
    "    space_type=\"l2\"\n",
    ")\n",
    "vector_db"
   ]
  },
  {
   "cell_type": "markdown",
   "id": "d44452ad-1945-4a1a-a18a-fd1f899814bb",
   "metadata": {},
   "source": [
    "## 5. Retriever 정의"
   ]
  },
  {
   "cell_type": "code",
   "execution_count": 22,
   "id": "409937f9-e4f3-4f2f-90a8-9b13641d3700",
   "metadata": {
    "tags": []
   },
   "outputs": [],
   "source": [
    "from utils.rag import OpenSearchHybridSearchRetriever"
   ]
  },
  {
   "cell_type": "code",
   "execution_count": 23,
   "id": "c1606bcd-502c-461b-9458-5e400e97ed92",
   "metadata": {
    "tags": []
   },
   "outputs": [],
   "source": [
    "opensearch_hybrid_retriever = OpenSearchHybridSearchRetriever(\n",
    "    os_client=os_client,\n",
    "    index_name=index_name,\n",
    "    llm_text=llm_text_light, # used in rag_fusion, hyde and reranker(num_tokens)\n",
    "    llm_emb=llm_emb,\n",
    "\n",
    "    # option for lexical\n",
    "    minimum_should_match=0,\n",
    "    filter=[],\n",
    "\n",
    "    # option for rank fusion\n",
    "    fusion_algorithm=\"RRF\", # [\"RRF\", \"simple_weighted\"], rank fusion 방식 정의\n",
    "    ensemble_weights=[.5, .5], # [for lexical, for semantic], Lexical, Semantic search 결과에 대한 최종 반영 비율 정의\n",
    "    reranker=True, # enable reranker with reranker model\n",
    "    reranker_endpoint_name=endpoint_name, # endpoint name for reranking model\n",
    "    #rag_fusion=False, # enable rag_fusion\n",
    "    #query_augmentation_size=3, # query_augmentation_size in rag_fusion\n",
    "\n",
    "    # option for async search\n",
    "    async_mode=True,\n",
    "\n",
    "    # option for output\n",
    "    k=5, # 최종 Document 수 정의\n",
    "    verbose=False,\n",
    ")"
   ]
  },
  {
   "cell_type": "code",
   "execution_count": 24,
   "id": "7333a947-d0d0-41a6-8dcc-adb3d58c2e8e",
   "metadata": {
    "tags": []
   },
   "outputs": [
    {
     "data": {
      "text/plain": [
       "[Document(page_content='What is Knox Suite?. Knox Suite is a bundled offering designed to help enterprise IT admins better manage your fleet of devices. It includes individual services such as Knox Platform for Enterprise, Knox Mobile Enrollment, Knox Manage, Knox E-FOTA, and Knox Asset Intelligence. Key features of Knox Suite include: Secure - Ensure your business data is protected with managed security features at your control. Deploy - Enroll corporate devices to EMM automatically and securely, right out of the box. Manage - Enable comprehensive management over corporate devices and OS versions. Analyze - Strengthen in-depth device analytics for mobile productivity and asset management.', metadata={'source': 'all_processed_data.json', 'seq_num': 74, 'title': ' What is Knox Suite?', 'url': 'https://docs.samsungknox.com/admin/knox-suite/faq/#what-is-knox-suite', 'project': 'KS', 'last_updated': '2023-07-26', 'family_tree': 'parent', 'parent_id': None, 'id': '5c911c77-600b-404f-a343-8a50c44aff9d'}),\n",
       " Document(page_content='Knox Suite. Knox Suite is a bundled offering of Knox solutions for enterprise mobility designed to address organizations\\' needs related to security and management throughout the entire device lifecycle. Learn more about Knox Suite #Audience This document is intended for IT Admins. Understand what\\'s included in Knox Suite and how you can use it to manage, secure, and maintain enterprise devices. Learn where to find information on how to perform various tasks with Knox\"Suite services. About Knox Suite Knox Suite is a bundled offering that includes the following Knox products: Knox Platform for Enterprise - A Knox solution that provides military-grade security to Samsung Android phones, tablets, and Tizen watches for business. Knox Mobile Enrollment - A Knox solution that allows you to enroll thousands of Samsung devices in your EMM at once. When used with a Knox Suite license, Knox Mobile Enrollment provides advanced profiles that offer IT admins additional features such as higher control over locking devices', metadata={'source': 'all_processed_data.json', 'seq_num': 65, 'title': 'Knox Suite', 'url': 'https://docs.samsungknox.com/admin/knox-suite', 'project': 'KS', 'last_updated': '2023-07-26', 'family_tree': 'child', 'parent_id': '31d8f5b8-2ced-4a02-ba10-d8fac3614439', 'id': 'ce4fc71c-7f39-4390-8079-113a7c26a18d'}),\n",
       " Document(page_content='. With Knox E-FOTA, you create a campaign, specify the campaign period, assign devices to that campaign, and select the firmware update to be pushed to those devices during the campaign period. Knox Capture - An Android solution that lets users transform their Samsung Galaxy smartphones and tablets into powerful barcode scanners that can read, process, and output barcode information to other applications, all without requiring additional hardware or writing a single line of code. Knox Authentication Manager - A managed Android app for shared Samsung devices that provides multiuser facial biometrics and sign-in automation for increased frontline worker productivity and safety. With Knox Suite, a single license key allows you to use all included Knox products on your devices. This means that you can use the same Knox Suite license key in multiple Knox service admin portals. Benefits of Knox Suite 1. All-in-one Knox B2B package - An end-to-end solution that covers every step of your enterprise mobility journey 2', metadata={'source': 'all_processed_data.json', 'seq_num': 65, 'title': 'Knox Suite', 'url': 'https://docs.samsungknox.com/admin/knox-suite', 'project': 'KS', 'last_updated': '2023-07-26', 'family_tree': 'child', 'parent_id': '31d8f5b8-2ced-4a02-ba10-d8fac3614439', 'id': 'e81f1b75-c144-4b30-914d-83cd4d28664e'}),\n",
       " Document(page_content='Knox Suite. Knox Suite is a bundled offering of Knox solutions for enterprise mobility designed to address organizations\\' needs related to security and management throughout the entire device lifecycle. Learn more about Knox Suite #Audience This document is intended for IT Admins. Understand what\\'s included in Knox Suite and how you can use it to manage, secure, and maintain enterprise devices. Learn where to find information on how to perform various tasks with Knox\"Suite services. About Knox Suite Knox Suite is a bundled offering that includes the following Knox products: Knox Platform for Enterprise - A Knox solution that provides military-grade security to Samsung Android phones, tablets, and Tizen watches for business. Knox Mobile Enrollment - A Knox solution that allows you to enroll thousands of Samsung devices in your EMM at once. When used with a Knox Suite license, Knox Mobile Enrollment provides advanced profiles that offer IT admins additional features such as higher control over locking devices. Knox Manage - A Knox solution that allows you to remotely manage your fleet of mobile devices. With this EMM, you create various policies to control how users can use their devices. Knox Asset Intelligence - A data analytics solution that offers operational visibility and actionable insights to improve the management, productivity, and lifecycle of mobile devices. This solution offers real-time monitoring and management of app performance, battery usage, network connectivity, and asset location. Knox E-FOTA - A Knox solution that allows you to remotely deploy OS and security updates to your devices without requiring user interaction. With Knox E-FOTA, you create a campaign, specify the campaign period, assign devices to that campaign, and select the firmware update to be pushed to those devices during the campaign period. Knox Capture - An Android solution that lets users transform their Samsung Galaxy smartphones and tablets into powerful barcode scanners that can read, process, and output barcode information to other applications, all without requiring additional hardware or writing a single line of code. Knox Authentication Manager - A managed Android app for shared Samsung devices that provides multiuser facial biometrics and sign-in automation for increased frontline worker productivity and safety. With Knox Suite, a single license key allows you to use all included Knox products on your devices. This means that you can use the same Knox Suite license key in multiple Knox service admin portals. Benefits of Knox Suite 1. All-in-one Knox B2B package - An end-to-end solution that covers every step of your enterprise mobility journey 2. Simplified license management - You only need one license key to use all included products. 3. Streamlined onboarding process - Register once and gain access to all included Knox products. 4. Seamless IT admin user experience - IT admin can easily access bundled Knox consoles through single sign-on. To get started, click here.', metadata={'source': 'all_processed_data.json', 'seq_num': 65, 'title': 'Knox Suite', 'url': 'https://docs.samsungknox.com/admin/knox-suite', 'project': 'KS', 'last_updated': '2023-07-26', 'family_tree': 'parent', 'parent_id': None, 'id': '31d8f5b8-2ced-4a02-ba10-d8fac3614439'}),\n",
       " Document(page_content='Learn more about Knox Suite. This section describes where you can find instructions on how to perform tasks using the different products included in Knox Suite. General documentation for the Knox Suite services Knox Service , See - , - Knox Manage , Knox Manage Admin Guide Knox Platform for Enterprise , Knox Platform for Enterprise Admin Guide Knox Mobile Enrollment , Knox Mobile Enrollment Admin Guide Knox E-FOTA , Knox E-FOTA Admin Guide Knox Asset Intelligence , Knox Asset Intelligence Admin Guide Knox Capture , Knox Capture Admin Guide Knox Authentication Manager , Knox Authentication Manager Admin Guide Knox Suite operations For information on See Knox service How to set up Knox Manage with Knox Suite Workflow:\"Set up Knox Manage with a Knox Suite license Knox Manage How to check your Knox Suite license usage View and modify a license Note Alternatively, you can sign in to your SamsungKnox.com dashboard and click Licenses to view all licenses you have for all your Knox services', metadata={'source': 'all_processed_data.json', 'seq_num': 64, 'title': 'Learn more about Knox Suite', 'url': 'https://docs.samsungknox.com/admin/knox-suite/learn-more-about-knox-suite', 'project': 'KS', 'last_updated': '2023-07-26', 'family_tree': 'child', 'parent_id': '5f426c6c-0882-4b3e-aeae-a1792b104b5b', 'id': '2ad1de59-827a-4dad-9093-3a807ed2c1e2'})]"
      ]
     },
     "execution_count": 24,
     "metadata": {},
     "output_type": "execute_result"
    }
   ],
   "source": [
    "search_hybrid_result = opensearch_hybrid_retriever.get_relevant_documents(\"knox\")\n",
    "search_hybrid_result"
   ]
  },
  {
   "cell_type": "markdown",
   "id": "05c569db-1a1d-4bbf-a713-28cf6b745982",
   "metadata": {},
   "source": [
    "## 6. RAG chain 정의"
   ]
  },
  {
   "cell_type": "code",
   "execution_count": 25,
   "id": "da9df137-076d-4230-865e-4f9ed9651062",
   "metadata": {
    "tags": []
   },
   "outputs": [],
   "source": [
    "from langchain.chains import RetrievalQA\n",
    "from langchain.prompts import PromptTemplate"
   ]
  },
  {
   "cell_type": "markdown",
   "id": "b95251a1-6dd8-4794-86d9-65b855ed27cb",
   "metadata": {},
   "source": [
    "### Prompting\n",
    "- [TIP] Prompt의 instruction의 경우 한글보다 영어로 했을 때 더 좋은 결과를 얻을 수 있습니다."
   ]
  },
  {
   "cell_type": "code",
   "execution_count": 26,
   "id": "5e05b8bd-ccb0-4f49-9e5c-0869a9afa11d",
   "metadata": {
    "tags": []
   },
   "outputs": [],
   "source": [
    "prompt_template = \"\"\"\n",
    "\\n\\nHuman: Here is the context, inside <context></context> XML tags.\n",
    "\n",
    "<context>\n",
    "{context}\n",
    "</context>\n",
    "\n",
    "Only using the context as above, answer the following question with the rules as below:\n",
    "    - Don't insert XML tag such as <context> and </context> when answering.\n",
    "    - Write as much as you can\n",
    "    - Be courteous and polite\n",
    "    - Only answer the question if you can find the answer in the context with certainty.\n",
    "\n",
    "Question:\n",
    "{question}\n",
    "\n",
    "If the answer is not in the context, just say \"Could not find answer in given contexts.\"\n",
    "\n",
    "\\n\\nAssistant:\"\"\"\n",
    "\n",
    "PROMPT = PromptTemplate(\n",
    "    template=prompt_template, input_variables=[\"context\", \"question\"]\n",
    ")"
   ]
  },
  {
   "cell_type": "markdown",
   "id": "2a758bc7-87a1-44fb-9b36-e17e987b1513",
   "metadata": {},
   "source": [
    "### Update Search Params (Optional)"
   ]
  },
  {
   "cell_type": "code",
   "execution_count": 27,
   "id": "31c68b6f-1606-455d-bd37-c467cf240b7c",
   "metadata": {
    "tags": []
   },
   "outputs": [],
   "source": [
    "opensearch_hybrid_retriever.update_search_params(\n",
    "    k=5,\n",
    "    minimum_should_match=0,\n",
    "    filter=[{'term': {'metadata.family_tree': 'child'}}],\n",
    "    reranker=True,\n",
    "    reranker_endpoint_name=endpoint_name,\n",
    "    rag_fusion=False, # enable rag_fusion\n",
    "    query_augmentation_size=3, # query_augmentation_size in rag_fusion\n",
    "    hyde=False, # enable hyde\n",
    "    hyde_query=[\"web_search\"], # query type in hyde \n",
    "    llm_text=llm_text, # used in rag_fusion, hyde and reranker\n",
    "    verbose=False\n",
    ")"
   ]
  },
  {
   "cell_type": "code",
   "execution_count": 28,
   "id": "2b2256fe-9b42-4570-9c05-d395405a534b",
   "metadata": {
    "tags": []
   },
   "outputs": [],
   "source": [
    "qa_chain = RetrievalQA.from_chain_type(\n",
    "    llm=llm_text,\n",
    "    chain_type=\"stuff\",\n",
    "    retriever=opensearch_hybrid_retriever,\n",
    "    return_source_documents=True,\n",
    "    chain_type_kwargs={\n",
    "        \"prompt\": PROMPT,\n",
    "        \"verbose\": False,\n",
    "    },\n",
    "    verbose=False\n",
    ")"
   ]
  },
  {
   "cell_type": "code",
   "execution_count": 29,
   "id": "ae0b6569-7c98-49e3-a739-e7dd16d9942e",
   "metadata": {
    "tags": []
   },
   "outputs": [
    {
     "data": {
      "text/plain": [
       "{'query': ' - What method can a user employ to select multiple barcodes when using the camera scanning UI in Multi scan mode?',\n",
       " 'result': ' Based on the context provided, the Multi scan preferences section mentions that when using the camera scanning UI in Multi scan mode, the available options for barcode selection are:\\n\\n- Automatic (default) - Allows the user to scan multiple barcodes without having to press a scan button. \\n- Batch - Lets the user scan multiple barcodes in a single camera frame using the scan button.  \\n- Aim and scan - Requires the user to aim the camera at a set of barcodes and tap the Scan button to capture the barcodes, one at a time.\\n\\nSo the methods a user can employ to select multiple barcodes when using the camera scanning UI in Multi scan mode are Automatic, Batch, and Aim and scan.',\n",
       " 'source_documents': [Document(page_content='.1 1 Device users will see a Scan button in the camera preview window when they trigger a barcode scan. Device users can simply tap Scan each time they want to capture a new barcode. As each barcode is scanned, a counter in the top-left corner of the preview window gets updated. Once the user is finished scanning, they can click Done to close the camera preview window and return to the business app. #Multi scan preferences Sets the way a user selects barcodes when interacting with the camera scanning UI in Multi scan mode. Available options: Setting Options Barcode selection Automatic (default) &mdash; Allows the user to scan multiple barcodes without having to press a scan button. Batch &mdash; Lets the user scan multiple barcodes in a single camera frame using the scan button. Aim and scan &mdash; Requires the user to aim the camera at a set of barcodes and tap the Scan button to capture the barcodes, one at a time', metadata={'source': 'all_processed_data.json', 'seq_num': 11, 'title': 'Configure scan engine settings', 'url': 'https://docs.samsungknox.com/admin/knox-capture/how-to-guides/configure-scan-engine-settings', 'project': 'KCAP', 'last_updated': '2023-10-16', 'family_tree': 'child', 'parent_id': 'bd3a98eb-c261-49d5-b0f7-41b2ad4de730', 'id': '1e43456f-befa-43ac-9c07-52485b0eb304'}),\n",
       "  Document(page_content='. Batch &mdash; Lets the user scan multiple barcodes in a single camera frame using the scan button. Aim and scan &mdash; Requires the user to aim the camera at a set of barcodes and tap the Scan button to capture the barcodes, one at a time. Tap to select &mdash; Lets a user aim the camera at multiple barcodes, freeze the scanning overlay, tap to select barcodes, and tap the Scan button to capture data from the selected barcodes. Scan session limit This defines the number of barcodes a user must scan before the camera preview window closes. A counter in the top-left corner of the preview window gets updated after each scan. Once the user has scanned the set number of barcodes, the camera preview window closes and the user returns to the business app. Users can exit the camera preview window at any time by tapping Done, regardless of the number of barcodes captured. You can set any integer value. By default, this value is set to 0 to indicate infinite scans', metadata={'source': 'all_processed_data.json', 'seq_num': 11, 'title': 'Configure scan engine settings', 'url': 'https://docs.samsungknox.com/admin/knox-capture/how-to-guides/configure-scan-engine-settings', 'project': 'KCAP', 'last_updated': '2023-10-16', 'family_tree': 'child', 'parent_id': 'bd3a98eb-c261-49d5-b0f7-41b2ad4de730', 'id': 'be69552d-70fc-4f58-9f0d-f0a339a1154a'}),\n",
       "  Document(page_content='. #Scan mode Sets the primary capture mode for scanning. Available options: Setting , Option - , - Single scan (default) , Scans and parses one barcode at a time. Multi scan , Detects multiple barcodes in the scan area at the same time. #Single scan preferences Sets the way a user selects barcodes when interacting with the camera scanning UI in Single scan mode. Available options: Setting Options Barcode selection Automatic (default) &mdash; Captures the first-detected barcode without additional user input. Aim and scan &mdash; Requires the user to aim the camera at a barcode and tap the Scan button to capture barcode data. Continuous scanning Off (default) On &mdash; Allow device users to scan several barcodes in sequence (and have each scan be registered as a single event) without having to press the camera trigger button between each scan.1 1 Device users will see a Scan button in the camera preview window when they trigger a barcode scan', metadata={'source': 'all_processed_data.json', 'seq_num': 11, 'title': 'Configure scan engine settings', 'url': 'https://docs.samsungknox.com/admin/knox-capture/how-to-guides/configure-scan-engine-settings', 'project': 'KCAP', 'last_updated': '2023-10-16', 'family_tree': 'child', 'parent_id': 'bd3a98eb-c261-49d5-b0f7-41b2ad4de730', 'id': '3242b927-b8bb-4622-b307-c2ff6fed312d'}),\n",
       "  Document(page_content='Knox Capture v1.5 release notes. Scanner overlay Starting with Knox Capture v1.5, a scanner overlay is available. This overlay appears as a scanner preview over business apps, and enables device users to immediately see scanned data entered into an app field. Functionally, the scanner overlay works much like the full-screen scanner. When the device user aims the camera at the barcode, Knox Capture then sends the scanned data to the business app depending on whether single scan or multi-scan mode is enabled, and how Barcode selection is configured. See Use the scanner overlay to learn more. Continuous scanning for single scan mode Previously, when device users scanned single barcodes, the camera preview turned on before each scan, then off again once the scan was completed. Now, in Single scan preferences, you can turn on Continuous scanning to scan back-to-back barcodes without relaunching the camera preview after every scan', metadata={'source': 'all_processed_data.json', 'seq_num': 32, 'title': 'Knox Capture v1.5 release notes', 'url': 'https://docs.samsungknox.com/admin/knox-capture/release-notes/v1-5', 'project': 'KCAP', 'last_updated': '2023-07-26', 'family_tree': 'child', 'parent_id': '4a08f293-4e62-40e4-bbb7-58fcc61b0cd7', 'id': '4087c273-06b0-447b-bb4a-85db3b7c50f9'}),\n",
       "  Document(page_content='Configure scan engine settings. Scan engine settings define the core Knox Capture behavior, such as how barcodes are scanned, and what happens with the data after each scan. The following settings are available: Barcode types Choose the barcode symbologies the scanner should recognize. For example, Code 39, and QR code. Available barcode types: Type , Options - , - Numeric-only (1D) , Codabar, EAN13, EAN8, Interleaved 2 of 5, UPCA, UPCE Alphanumeric (1D) , Code 128, Code 39, Code 93 2D , Data Matrix, PDF417, QR Every barcode except Codabar and Code 93 is enabled by default. Scanning settings Use scan settings to define how barcodes are scanned, selected, and parsed before Knox Capture sends them to a target business application. #Scan mode Sets the primary capture mode for scanning. Available options: Setting , Option - , - Single scan (default) , Scans and parses one barcode at a time. Multi scan , Detects multiple barcodes in the scan area at the same time', metadata={'source': 'all_processed_data.json', 'seq_num': 11, 'title': 'Configure scan engine settings', 'url': 'https://docs.samsungknox.com/admin/knox-capture/how-to-guides/configure-scan-engine-settings', 'project': 'KCAP', 'last_updated': '2023-10-16', 'family_tree': 'child', 'parent_id': 'bd3a98eb-c261-49d5-b0f7-41b2ad4de730', 'id': 'b127b566-301f-49ff-b41a-571a9c986403'})]}"
      ]
     },
     "execution_count": 29,
     "metadata": {},
     "output_type": "execute_result"
    }
   ],
   "source": [
    "query = \" - What method can a user employ to select multiple barcodes when using the camera scanning UI in Multi scan mode?\"\n",
    "qa_chain(query)"
   ]
  },
  {
   "cell_type": "markdown",
   "id": "fa285db7-31bf-4a82-816e-37abd5ed44af",
   "metadata": {
    "tags": []
   },
   "source": [
    "## 3.Evaluation\n",
    " - [langchain evaluator](https://python.langchain.com/docs/guides/evaluation/string/criteria_eval_chain)"
   ]
  },
  {
   "cell_type": "markdown",
   "id": "4d2fcc99-ab79-49b4-89a7-b51f3a62fc18",
   "metadata": {},
   "source": [
    "### Load ground truth"
   ]
  },
  {
   "cell_type": "code",
   "execution_count": 30,
   "id": "d3637807-9266-457e-b512-e697f951c405",
   "metadata": {
    "tags": []
   },
   "outputs": [],
   "source": [
    "import pandas as pd"
   ]
  },
  {
   "cell_type": "code",
   "execution_count": 31,
   "id": "d0403c51-23b5-4e3f-a2ec-7302d6711e4b",
   "metadata": {
    "tags": []
   },
   "outputs": [],
   "source": [
    "ground_thruth = pd.read_csv(\"eval_dataset_v16.csv\")"
   ]
  },
  {
   "cell_type": "code",
   "execution_count": 32,
   "id": "b96d03e0-cf64-4644-9578-3411883dfafa",
   "metadata": {
    "tags": []
   },
   "outputs": [],
   "source": [
    "import time\n",
    "import datetime\n",
    "from langchain.evaluation import Criteria\n",
    "from langchain.evaluation import EvaluatorType\n",
    "from langchain.evaluation import load_evaluator"
   ]
  },
  {
   "cell_type": "code",
   "execution_count": 33,
   "id": "bb3aab6f-ab32-4ea2-b1e7-43e7694f1849",
   "metadata": {
    "tags": []
   },
   "outputs": [
    {
     "data": {
      "text/plain": [
       "[<Criteria.CONCISENESS: 'conciseness'>,\n",
       " <Criteria.RELEVANCE: 'relevance'>,\n",
       " <Criteria.CORRECTNESS: 'correctness'>,\n",
       " <Criteria.COHERENCE: 'coherence'>,\n",
       " <Criteria.HARMFULNESS: 'harmfulness'>,\n",
       " <Criteria.MALICIOUSNESS: 'maliciousness'>,\n",
       " <Criteria.HELPFULNESS: 'helpfulness'>,\n",
       " <Criteria.CONTROVERSIALITY: 'controversiality'>,\n",
       " <Criteria.MISOGYNY: 'misogyny'>,\n",
       " <Criteria.CRIMINALITY: 'criminality'>,\n",
       " <Criteria.INSENSITIVITY: 'insensitivity'>,\n",
       " <Criteria.DEPTH: 'depth'>,\n",
       " <Criteria.CREATIVITY: 'creativity'>,\n",
       " <Criteria.DETAIL: 'detail'>]"
      ]
     },
     "execution_count": 33,
     "metadata": {},
     "output_type": "execute_result"
    }
   ],
   "source": [
    "list(Criteria)"
   ]
  },
  {
   "cell_type": "code",
   "execution_count": 34,
   "id": "8a680e82-980e-48d6-ae2d-e9e40535134e",
   "metadata": {
    "tags": []
   },
   "outputs": [],
   "source": [
    "langchain_evaluator = load_evaluator(\n",
    "    EvaluatorType.LABELED_CRITERIA,\n",
    "    llm=llm_text,\n",
    "    criteria=Criteria.CORRECTNESS\n",
    ")"
   ]
  },
  {
   "cell_type": "markdown",
   "id": "4d471116-d2e3-4411-979f-ba56f2ca2e7a",
   "metadata": {},
   "source": [
    "### Check prompt for evaluation"
   ]
  },
  {
   "cell_type": "code",
   "execution_count": 35,
   "id": "ab03e1d6-1209-4908-bf75-e7564a4590fa",
   "metadata": {
    "tags": []
   },
   "outputs": [
    {
     "name": "stdout",
     "output_type": "stream",
     "text": [
      "{'criteria': 'correctness: Is the submission correct, accurate, and factual?'}\n",
      "==\n",
      "You are assessing a submitted answer on a given task or input based on a set of criteria. Here is the data:\n",
      "[BEGIN DATA]\n",
      "***\n",
      "[Input]: {input}\n",
      "***\n",
      "[Submission]: {output}\n",
      "***\n",
      "[Criteria]: {criteria}\n",
      "***\n",
      "[Reference]: {reference}\n",
      "***\n",
      "[END DATA]\n",
      "Does the submission meet the Criteria? First, write out in a step by step manner your reasoning about each criterion to be sure that your conclusion is correct. Avoid simply stating the correct answers at the outset. Then print only the single character \"Y\" or \"N\" (without quotes or punctuation) on its own line corresponding to the correct answer of whether the submission meets all criteria. At the end, repeat just the letter again by itself on a new line.\n"
     ]
    }
   ],
   "source": [
    "print(langchain_evaluator.prompt.partial_variables)\n",
    "print(\"==\")\n",
    "print(langchain_evaluator.prompt.template)"
   ]
  },
  {
   "cell_type": "markdown",
   "id": "6910d4b9-5ba3-41a2-a31b-842f45abcac1",
   "metadata": {},
   "source": [
    "### [Optional] Custon evaluator"
   ]
  },
  {
   "cell_type": "code",
   "execution_count": 37,
   "id": "4e20a4e0-d66c-43e9-b203-2d26267b6137",
   "metadata": {
    "tags": []
   },
   "outputs": [],
   "source": [
    "from langchain.schema.output_parser import StrOutputParser"
   ]
  },
  {
   "cell_type": "code",
   "execution_count": 38,
   "id": "93f36edd-1cba-499b-af0b-c50d1aa3f187",
   "metadata": {
    "tags": []
   },
   "outputs": [],
   "source": [
    "EVAL_TEMPLATE = \"\"\"\n",
    "\\n\\nHuman: \n",
    "Your job is to rate the quality of a generated answer\n",
    "given a query  and a reference answer.\n",
    "\n",
    "QUERY = {query}\n",
    "\n",
    "GENERATED ANSWER = {generated_answer}\n",
    "\n",
    "REFERENCE ANSWER = {reference_answer}\n",
    "\n",
    "Your score has to be between 1 and 5.\n",
    "You must return your response in a line with only the score.\n",
    "Do not return answers in any other format.\n",
    "On a separate line provide your reasoning for the score as well.\n",
    "Please let us know score in the form below \\nScore:\"\n",
    "\n",
    "\\n\\nAssistant:\n",
    "\"\"\"\n",
    "\n",
    "prompt_template_eval = PromptTemplate(\n",
    "    template=EVAL_TEMPLATE, input_variables=[\"query\", \"generated_answer\", \"reference_answer\"]\n",
    ")\n",
    "\n",
    "question = \"What is the default mode of operation for Knox Capture?\"\n",
    "answer=\"Admin mode is the default mode of operation for Knox Capture. Therefore, a user cannot switch to Admin mode by activating a Knox Capture license, the app is exported in admin mode\"\n",
    "prediction = \"The default mode of operation for Knox Capture is Admin mode.\"\n",
    "\n",
    "\n",
    "custom_evaluator = prompt_template_eval | llm_text | StrOutputParser()"
   ]
  },
  {
   "cell_type": "code",
   "execution_count": 39,
   "id": "dc03ab59-0757-43e0-8a70-7c82edaa286e",
   "metadata": {
    "tags": []
   },
   "outputs": [
    {
     "data": {
      "text/html": [
       "<div>\n",
       "<style scoped>\n",
       "    .dataframe tbody tr th:only-of-type {\n",
       "        vertical-align: middle;\n",
       "    }\n",
       "\n",
       "    .dataframe tbody tr th {\n",
       "        vertical-align: top;\n",
       "    }\n",
       "\n",
       "    .dataframe thead th {\n",
       "        text-align: right;\n",
       "    }\n",
       "</style>\n",
       "<table border=\"1\" class=\"dataframe\">\n",
       "  <thead>\n",
       "    <tr style=\"text-align: right;\">\n",
       "      <th></th>\n",
       "      <th>question</th>\n",
       "      <th>answer</th>\n",
       "      <th>doc_id</th>\n",
       "      <th>doc</th>\n",
       "    </tr>\n",
       "  </thead>\n",
       "  <tbody>\n",
       "    <tr>\n",
       "      <th>0</th>\n",
       "      <td>What is the default mode of operation for Knox...</td>\n",
       "      <td>Admin mode is the default mode of operation fo...</td>\n",
       "      <td>7f17c8ef-7d22-44a7-b92e-b26f4716d3d0</td>\n",
       "      <td>. 3. Export profile settings as a configuratio...</td>\n",
       "    </tr>\n",
       "    <tr>\n",
       "      <th>1</th>\n",
       "      <td>What are the two types of tutorials mentioned ...</td>\n",
       "      <td>The tutorials mentioned in the provided contex...</td>\n",
       "      <td>6a70e00b-0e60-4dfa-a9cf-6d753d3eee7c</td>\n",
       "      <td>. Admin mode is the default mode of operation ...</td>\n",
       "    </tr>\n",
       "    <tr>\n",
       "      <th>2</th>\n",
       "      <td>- How can an IT admin configure camera scan tr...</td>\n",
       "      <td>An IT admin can set camera scan triggers in Kn...</td>\n",
       "      <td>709c077e-5440-4ef4-afc8-d96e4209f659</td>\n",
       "      <td>. Test mode - A feature that lets you test a s...</td>\n",
       "    </tr>\n",
       "    <tr>\n",
       "      <th>3</th>\n",
       "      <td>What step do you take in the Knox Capture prof...</td>\n",
       "      <td>To enable the device's flashlight to be used w...</td>\n",
       "      <td>2668595c-19a0-4e9a-9e38-25dbd455a85e</td>\n",
       "      <td>. Add or remove a barcode type of your choice....</td>\n",
       "    </tr>\n",
       "    <tr>\n",
       "      <th>4</th>\n",
       "      <td>- How would you summarize the key steps covere...</td>\n",
       "      <td>Knox Capture for IT admins is a workflow that ...</td>\n",
       "      <td>87a9dba8-d3a8-41c4-8fd9-eac0d1d50c61</td>\n",
       "      <td>. Save the updated settings and deploy. Summar...</td>\n",
       "    </tr>\n",
       "  </tbody>\n",
       "</table>\n",
       "</div>"
      ],
      "text/plain": [
       "                                            question  \\\n",
       "0  What is the default mode of operation for Knox...   \n",
       "1  What are the two types of tutorials mentioned ...   \n",
       "2  - How can an IT admin configure camera scan tr...   \n",
       "3  What step do you take in the Knox Capture prof...   \n",
       "4  - How would you summarize the key steps covere...   \n",
       "\n",
       "                                              answer  \\\n",
       "0  Admin mode is the default mode of operation fo...   \n",
       "1  The tutorials mentioned in the provided contex...   \n",
       "2  An IT admin can set camera scan triggers in Kn...   \n",
       "3  To enable the device's flashlight to be used w...   \n",
       "4  Knox Capture for IT admins is a workflow that ...   \n",
       "\n",
       "                                 doc_id  \\\n",
       "0  7f17c8ef-7d22-44a7-b92e-b26f4716d3d0   \n",
       "1  6a70e00b-0e60-4dfa-a9cf-6d753d3eee7c   \n",
       "2  709c077e-5440-4ef4-afc8-d96e4209f659   \n",
       "3  2668595c-19a0-4e9a-9e38-25dbd455a85e   \n",
       "4  87a9dba8-d3a8-41c4-8fd9-eac0d1d50c61   \n",
       "\n",
       "                                                 doc  \n",
       "0  . 3. Export profile settings as a configuratio...  \n",
       "1  . Admin mode is the default mode of operation ...  \n",
       "2  . Test mode - A feature that lets you test a s...  \n",
       "3  . Add or remove a barcode type of your choice....  \n",
       "4  . Save the updated settings and deploy. Summar...  "
      ]
     },
     "execution_count": 39,
     "metadata": {},
     "output_type": "execute_result"
    }
   ],
   "source": [
    "ground_thruth.head()"
   ]
  },
  {
   "cell_type": "code",
   "execution_count": null,
   "id": "86542331-d9eb-4e90-8de0-4ed770f84b62",
   "metadata": {
    "tags": []
   },
   "outputs": [
    {
     "name": "stdout",
     "output_type": "stream",
     "text": [
      "0\n",
      "\u001b[31mQuestion: \u001b[0m \u001b[31mWhat is the default mode of operation for Knox Capture?\u001b[0m\n",
      "\u001b[32mGroundTruth: \u001b[0m \u001b[32mAdmin mode is the default mode of operation for Knox Capture. Therefore, a user cannot switch to Admin mode by activating a Knox Capture license, the app is exported in admin mode\u001b[0m\n",
      "\u001b[34mPrediction: \u001b[0m \u001b[34m Admin mode is the default mode of operation for Knox Capture.\u001b[0m\n",
      "ReRanker similarity: 0.9999275207519531\n",
      "Langchain correctness: 1\n",
      "Custom correctness: 5\n",
      "has_right_context: 1\n",
      "true_context_rank: 2/5\n",
      "mrr: 0.500\n",
      "latency: 0:00:01.674414 secs\n",
      "prediction length: 62\n",
      "err 1\n",
      "err 2\n",
      "err 3\n",
      "4\n",
      "\u001b[31mQuestion: \u001b[0m \u001b[31m- How would you summarize the key steps covered in the Knox Capture workflow for IT admins described in the context?\u001b[0m\n",
      "\u001b[32mGroundTruth: \u001b[0m \u001b[32mKnox Capture for IT admins is a workflow that begins with configuring and deploying the app to managed devices. It covers how-to guides with detailed instructions for each feature. The key steps include configuring the app and deploying it to managed devices\u001b[0m\n",
      "\u001b[34mPrediction: \u001b[0m \u001b[34m Based on the context, the key steps covered in the Knox Capture workflow for IT admins are:\n",
      "\n",
      "1. Create and configure scanning profiles with settings like which business apps can launch the scanner. \n",
      "\n",
      "2. Perform test scans using the profiles.\n",
      "\n",
      "3. Export the profile configurations. \n",
      "\n",
      "4. Add the exported configuration to the app configuration in Managed Google Play.\n",
      "\n",
      "5. If using a trial version of Knox Capture, push a Knox Suite license key. \n",
      "\n",
      "6. Save updated settings and deploy the managed app to end user devices.\n",
      "\n",
      "7. On end user devices, Knox Capture will launch in Managed Mode with limited functionality. Users can review profile settings and scan using permitted business apps.\n",
      "\n",
      "The context summarizes that this introduces IT admins to the workflow for configuring and deploying Knox Capture as a managed app.\u001b[0m\n",
      "ReRanker similarity: 0.9998652935028076\n",
      "Langchain correctness: 1\n",
      "Custom correctness: 4\n",
      "has_right_context: 1\n",
      "true_context_rank: 2/5\n",
      "mrr: 0.500\n",
      "latency: 0:00:10.847482 secs\n",
      "prediction length: 818\n",
      "5\n",
      "\u001b[31mQuestion: \u001b[0m \u001b[31mWhat steps are involved in scanning a barcode using the Samsung Internet app and Knox Capture?\u001b[0m\n",
      "\u001b[32mGroundTruth: \u001b[0m \u001b[32mTo scan a barcode using the Samsung Internet app and Knox Capture, the user needs to launch the Samsung Internet app, tap an input field, trigger the scanner either by presing a hardware key set up as the camera scanner trigger or by tapping the Knox Capture button on the keyboard, scan the barcode, and view the scanned data in the app\u001b[0m\n",
      "\u001b[34mPrediction: \u001b[0m \u001b[34m Here are the steps involved in scanning a barcode using the Samsung Internet app and Knox Capture based on the given context:\n",
      "\n",
      "1. Launch the Samsung Internet app. \n",
      "2. Tap an input field in the app, like the Google search input field.\n",
      "3. Trigger the scanner by tapping the Knox Capture button on the keyboard or using the hardware key set as the camera scanner trigger if applicable. \n",
      "4. Point the camera at a barcode to scan. The barcode will automatically scan once in focus.  \n",
      "5. Review the scanned data which will be sent back to the app that triggered scanning. In this example, the barcode information will display in the Google search input field.\n",
      "6. Any keystroke output rules configured will be applied to the barcode data.\u001b[0m\n",
      "ReRanker similarity: 0.9997640252113342\n",
      "Langchain correctness: 0\n",
      "Custom correctness: 4\n",
      "has_right_context: 1\n",
      "true_context_rank: 1/5\n",
      "mrr: 1.000\n",
      "latency: 0:00:17.707141 secs\n",
      "prediction length: 732\n",
      "err 6\n",
      "7\n",
      "\u001b[31mQuestion: \u001b[0m \u001b[31mWhat are the two default append options that can be enabled to automate actions on scanned barcode data?\u001b[0m\n",
      "\u001b[32mGroundTruth: \u001b[0m \u001b[32mThe two default append options are Append Tab character and Append Enter character, which are OFF by default\u001b[0m\n",
      "\u001b[34mPrediction: \u001b[0m \u001b[34m Append Tab character and Append Enter character\u001b[0m\n",
      "ReRanker similarity: 0.9999125003814697\n",
      "Langchain correctness: 1\n",
      "Custom correctness: 5\n",
      "has_right_context: 1\n",
      "true_context_rank: 1/5\n",
      "mrr: 1.000\n",
      "latency: 0:00:03.697561 secs\n",
      "prediction length: 48\n",
      "8\n",
      "\u001b[31mQuestion: \u001b[0m \u001b[31m- How many characters should be removed starting at position 1?\u001b[0m\n",
      "\u001b[32mGroundTruth: \u001b[0m \u001b[32m- None\u001b[0m\n",
      "\u001b[34mPrediction: \u001b[0m \u001b[34m 1 character should be removed starting at position 1.\u001b[0m\n",
      "ReRanker similarity: 0.010320629924535751\n",
      "Langchain correctness: 1\n",
      "Custom correctness: 1\n",
      "has_right_context: 1\n",
      "true_context_rank: 1/5\n",
      "mrr: 1.000\n",
      "latency: 0:00:02.126486 secs\n",
      "prediction length: 54\n",
      "9\n",
      "\u001b[31mQuestion: \u001b[0m \u001b[31m- What XML tags contain the context information?\u001b[0m\n",
      "\u001b[32mGroundTruth: \u001b[0m \u001b[32m- The XML tags <context> and </context>contain the context information\u001b[0m\n",
      "\u001b[34mPrediction: \u001b[0m \u001b[34m <context> and </context> contain the context information.\u001b[0m\n",
      "ReRanker similarity: 0.9999178647994995\n",
      "Langchain correctness: 1\n",
      "Custom correctness: 5\n",
      "has_right_context: 0\n",
      "true_context_rank: 0/5\n",
      "mrr: 0.000\n",
      "latency: 0:00:01.753973 secs\n",
      "prediction length: 58\n",
      "err 10\n",
      "11\n",
      "\u001b[31mQuestion: \u001b[0m \u001b[31mAccording to the steps, when should you copy and paste the text of the exported Knox Capture configuration into the provided configuration field?\u001b[0m\n",
      "\u001b[32mGroundTruth: \u001b[0m \u001b[32mYou should copy and paste the exported Knox Capture configuration into the provided configuration field when saving the updated settings and deploy\u001b[0m\n",
      "\u001b[34mPrediction: \u001b[0m \u001b[34m Could not find answer in given contexts. The steps do not mention when to copy and paste the exported Knox Capture configuration into the provided configuration field.\u001b[0m\n",
      "ReRanker similarity: 0.09504825621843338\n",
      "Langchain correctness: 0\n",
      "Custom correctness: 5\n",
      "has_right_context: 1\n",
      "true_context_rank: 1/5\n",
      "mrr: 1.000\n",
      "latency: 0:00:03.495865 secs\n",
      "prediction length: 168\n",
      "12\n",
      "\u001b[31mQuestion: \u001b[0m \u001b[31m- What is the first step to get a Knox Suite license for Knox Capture?\u001b[0m\n",
      "\u001b[32mGroundTruth: \u001b[0m \u001b[32mTo sign up for a Samsung Knox account\u001b[0m\n",
      "\u001b[34mPrediction: \u001b[0m \u001b[34m Sign up for a Samsung Knox account if you haven't already done so.\u001b[0m\n",
      "ReRanker similarity: 0.9890785813331604\n",
      "Langchain correctness: 1\n",
      "Custom correctness: 4\n",
      "has_right_context: 1\n",
      "true_context_rank: 1/5\n",
      "mrr: 1.000\n",
      "latency: 0:00:04.040619 secs\n",
      "prediction length: 67\n",
      "13\n",
      "\u001b[31mQuestion: \u001b[0m \u001b[31mHow can you deactivate a Knox Capture license that was activated through an EMM configuration?\u001b[0m\n",
      "\u001b[32mGroundTruth: \u001b[0m \u001b[32mTo deactivate a Knox Capture license that was activated through an EMM configuration, you can push the uninstallation command for the Knox Capture app through the EMM, edit the license field in the Knox Capture app configuration, unenroll the device from the EMM, or manually remove the Knox Capture app to deactivate the license seat\u001b[0m\n",
      "\u001b[34mPrediction: \u001b[0m \u001b[34m Through your EMM, you can deactivate a Knox Capture license by:\n",
      "\n",
      "- Pushing an uninstallation command for the Knox Capture app. Once the device receives the command, the Knox Capture app is removed and its license seat is unassigned. \n",
      "\n",
      "- Editing the license field in the Knox Capture app configuration. On the app configuration screen in your EMM, replace the existing license key string with DEACTIVATE and save your changes. Once the Knox Capture agent detects the new string, the license is deactivated. Before editing the license field, verify you are targeting the correct devices in your EMM to avoid unintentionally unenrolling all devices.\n",
      "\n",
      "- Unenrolling the device from your EMM. Doing so forces an app uninstallation and releases the device's license seat.\u001b[0m\n",
      "ReRanker similarity: 0.9998283386230469\n",
      "Langchain correctness: 1\n",
      "Custom correctness: 5\n",
      "has_right_context: 1\n",
      "true_context_rank: 1/5\n",
      "mrr: 1.000\n",
      "latency: 0:00:41.052442 secs\n",
      "prediction length: 766\n",
      "14\n",
      "\u001b[31mQuestion: \u001b[0m \u001b[31m- What is the intent key used to get the scanner type from the scanned data in Kotlin?\u001b[0m\n",
      "\u001b[32mGroundTruth: \u001b[0m \u001b[32mINTENT_OUTPUT_SCANNER_TYP\u001b[0m\n",
      "\u001b[34mPrediction: \u001b[0m \u001b[34m KEY_SCANNER_TYPE_CAMERA\u001b[0m\n",
      "ReRanker similarity: 0.22708435356616974\n",
      "Langchain correctness: 0\n",
      "Custom correctness: 3\n",
      "has_right_context: 1\n",
      "true_context_rank: 1/5\n",
      "mrr: 1.000\n",
      "latency: 0:00:02.732324 secs\n",
      "prediction length: 24\n",
      "15\n",
      "\u001b[31mQuestion: \u001b[0m \u001b[31m- What action and category should be configured in Knox Capture to send intent output to the business app with package name test.smartscan?\u001b[0m\n",
      "\u001b[32mGroundTruth: \u001b[0m \u001b[32mIn Knox Capture, the intent action and category for sending intent output to the business app with package name test.smartscan should be `intent.action.activity` and `intent.category.DEFAULT`\u001b[0m\n",
      "\u001b[34mPrediction: \u001b[0m \u001b[34m Based on the context, to send intent output to the business app with package name test.smartscan, Knox Capture should be configured with:\n",
      "\n",
      "Intent action: intent.action.activity\n",
      "Intent category: android.intent.category.DEFAULT\u001b[0m\n",
      "ReRanker similarity: 0.9999071359634399\n",
      "Langchain correctness: 1\n",
      "Custom correctness: 5\n",
      "has_right_context: 1\n",
      "true_context_rank: 1/5\n",
      "mrr: 1.000\n",
      "latency: 0:00:11.566190 secs\n",
      "prediction length: 226\n",
      "16\n",
      "\u001b[31mQuestion: \u001b[0m \u001b[31mWhat feature allows device users to view the camera preview window and business app screen at the same time?\u001b[0m\n",
      "\u001b[32mGroundTruth: \u001b[0m \u001b[32mScanner overla\u001b[0m\n",
      "\u001b[34mPrediction: \u001b[0m \u001b[34m Scanner overlay\u001b[0m\n",
      "ReRanker similarity: 0.9984158277511597\n",
      "Langchain correctness: 1\n",
      "Custom correctness: 4\n",
      "has_right_context: 1\n",
      "true_context_rank: 1/5\n",
      "mrr: 1.000\n",
      "latency: 0:00:01.689687 secs\n",
      "prediction length: 16\n",
      "17\n",
      "\u001b[31mQuestion: \u001b[0m \u001b[31mWhat are the three new values that appear in the test overlay after scanning a barcode according to the instructions?\u001b[0m\n",
      "\u001b[32mGroundTruth: \u001b[0m \u001b[32mThe three new values that appear in the test overlay after scanning a barcode are: Output, Scanned data, and Scanned raw\u001b[0m\n",
      "\u001b[34mPrediction: \u001b[0m \u001b[34m Output, Scanned data, Scanned raw\u001b[0m\n",
      "ReRanker similarity: 0.9999241828918457\n",
      "Langchain correctness: 1\n",
      "Custom correctness: 5\n",
      "has_right_context: 1\n",
      "true_context_rank: 1/5\n",
      "mrr: 1.000\n",
      "latency: 0:00:01.826378 secs\n",
      "prediction length: 34\n",
      "18\n",
      "\u001b[31mQuestion: \u001b[0m \u001b[31mWhat are some examples of printable ASCII characters that would appear in their native format in a text representation?\u001b[0m\n",
      "\u001b[32mGroundTruth: \u001b[0m \u001b[32m\"abc123\" is an example of printable ASCII characters that would appear in their native format in a text representation\u001b[0m\n",
      "\u001b[34mPrediction: \u001b[0m \u001b[34m abc123 would appear as abc123.\u001b[0m\n",
      "ReRanker similarity: 0.9981645941734314\n",
      "Langchain correctness: 1\n",
      "Custom correctness: 4\n",
      "has_right_context: 1\n",
      "true_context_rank: 1/5\n",
      "mrr: 1.000\n",
      "latency: 0:00:01.530057 secs\n",
      "prediction length: 31\n",
      "19\n",
      "\u001b[31mQuestion: \u001b[0m \u001b[31mWhat ASCII control code has a decimal value of 24 and is used to indicate the end of a transmission block?\u001b[0m\n",
      "\u001b[32mGroundTruth: \u001b[0m \u001b[32mEnd of Transmission Block (ETB) - (ASCII code decimal 24)\u001b[0m\n",
      "\u001b[34mPrediction: \u001b[0m \u001b[34m ETB (End of Transmission Block)\u001b[0m\n",
      "ReRanker similarity: 0.9999278783798218\n",
      "Langchain correctness: 1\n",
      "Custom correctness: 5\n",
      "has_right_context: 1\n",
      "true_context_rank: 1/5\n",
      "mrr: 1.000\n",
      "latency: 0:00:01.816491 secs\n",
      "prediction length: 32\n",
      "20\n",
      "\u001b[31mQuestion: \u001b[0m \u001b[31m- What kind of templates does the AR software provide to help warehouse workers locate specific items?\u001b[0m\n",
      "\u001b[32mGroundTruth: \u001b[0m \u001b[32mThe AR software provides search-and-find templates to help warehouse workers locate specific items\u001b[0m\n",
      "\u001b[34mPrediction: \u001b[0m \u001b[34m The AR software provides Search-and-find templates to help warehouse workers locate specific items. These templates allow workers to scan a reference barcode for the item they are searching for. The software then analyzes the barcodes in the camera view, looking for a match to the reference barcode. When a match is found, the AR overlay highlights the matched barcode.\u001b[0m\n",
      "ReRanker similarity: 0.9999274015426636\n",
      "Langchain correctness: 1\n",
      "Custom correctness: 4\n",
      "has_right_context: 1\n",
      "true_context_rank: 1/5\n",
      "mrr: 1.000\n",
      "latency: 0:00:08.600240 secs\n",
      "prediction length: 371\n",
      "21\n",
      "\u001b[31mQuestion: \u001b[0m \u001b[31mHow do you generate a Knox Capture Scandit Edition trial license key through the Knox Admin Portal?\u001b[0m\n",
      "\u001b[32mGroundTruth: \u001b[0m \u001b[32mTo generate a Knox Capture Scandit Edition trial license key through the Knox Admin Portal, go to the Knox Admin Portal, go to Licenses > OTHER KNOX LICENSES > Manage license keys, and click Actions > Generate Knox Capture Scandit Edition trial license key\u001b[0m\n",
      "\u001b[34mPrediction: \u001b[0m \u001b[34m Step 1) Go to Licenses > OTHER KNOX LICENSES > Manage license keys in the Knox Admin Portal.\n",
      "Step 2) On the Other license keys page, click Actions > Generate Knox Capture Scandit Edition trial license key. \n",
      "\n",
      "Step 3) Use the LICENSE NUMBER to activate your Knox Capture trial on the device or through your EMM.\u001b[0m\n",
      "ReRanker similarity: 0.9999269247055054\n",
      "Langchain correctness: 1\n",
      "Custom correctness: 5\n",
      "has_right_context: 1\n",
      "true_context_rank: 1/5\n",
      "mrr: 1.000\n",
      "latency: 0:00:07.999066 secs\n",
      "prediction length: 310\n",
      "22\n",
      "\u001b[31mQuestion: \u001b[0m \u001b[31mHow can a user view the number of remaining scans in Knox Capture?\u001b[0m\n",
      "\u001b[32mGroundTruth: \u001b[0m \u001b[32mThe user can view the number of remaining scans directly on the License page from Knox Capture v1.6 onwards. The camera preview window will notify the user when 10 or fewer scans remain\u001b[0m\n",
      "\u001b[34mPrediction: \u001b[0m \u001b[34m Based on the context, a user can view the number of remaining scans in Knox Capture directly on the License page if they are using the free version of Knox Capture. When 10 or fewer scans remain, the camera preview window notifies the user that the remaining scan count is low.\u001b[0m\n",
      "ReRanker similarity: 0.9998832941055298\n",
      "Langchain correctness: 0\n",
      "Custom correctness: 5\n",
      "has_right_context: 1\n",
      "true_context_rank: 2/5\n",
      "mrr: 0.500\n",
      "latency: 0:00:06.486698 secs\n",
      "prediction length: 278\n",
      "23\n",
      "\u001b[31mQuestion: \u001b[0m \u001b[31mWhat property can be changed to include barcode lengths not enabled by default or optimize decoding performance for a certain number of symbols?\u001b[0m\n",
      "\u001b[32mGroundTruth: \u001b[0m \u001b[32mThe active symbol count property can be changed to include barcode lengths not enabled by default or optimize decoding performance for a certain number of symbols\u001b[0m\n",
      "\u001b[34mPrediction: \u001b[0m \u001b[34m The property that can be changed to include barcode lengths not enabled by default or optimize decoding performance for a certain number of symbols is the Min. length property.\u001b[0m\n",
      "ReRanker similarity: 0.9997491240501404\n",
      "Langchain correctness: 0\n",
      "Custom correctness: 3\n",
      "has_right_context: 1\n",
      "true_context_rank: 2/5\n",
      "mrr: 0.500\n",
      "latency: 0:00:01.781360 secs\n",
      "prediction length: 177\n",
      "24\n",
      "\u001b[31mQuestion: \u001b[0m \u001b[31mWhat barcode type includes mandatory checksums while others have optional checksums?\u001b[0m\n",
      "\u001b[32mGroundTruth: \u001b[0m \u001b[32mSome barcode types include a mandatory checksum, while others only have optional checksums. These types include the Code39 barcode\u001b[0m\n",
      "\u001b[34mPrediction: \u001b[0m \u001b[34m Based on the given context, some barcode types include a mandatory checksum, while others only have optional checksums.\u001b[0m\n",
      "ReRanker similarity: 0.9999274015426636\n",
      "Langchain correctness: 1\n",
      "Custom correctness: 5\n",
      "has_right_context: 1\n",
      "true_context_rank: 1/5\n",
      "mrr: 1.000\n",
      "latency: 0:00:02.333962 secs\n",
      "prediction length: 120\n",
      "25\n",
      "\u001b[31mQuestion: \u001b[0m \u001b[31mWhat new Android version is now supported in Knox Capture v1.0.01?\u001b[0m\n",
      "\u001b[32mGroundTruth: \u001b[0m \u001b[32mAndroid 1\u001b[0m\n",
      "\u001b[34mPrediction: \u001b[0m \u001b[34m Android 11\u001b[0m\n",
      "ReRanker similarity: 0.02419109456241131\n",
      "Langchain correctness: 0\n",
      "Custom correctness: 1\n",
      "has_right_context: 1\n",
      "true_context_rank: 1/5\n",
      "mrr: 1.000\n",
      "latency: 0:00:02.665413 secs\n",
      "prediction length: 11\n",
      "26\n",
      "\u001b[31mQuestion: \u001b[0m \u001b[31mHow does Knox Capture handle zooming between single-scan and multi-scan modes?\u001b[0m\n",
      "\u001b[32mGroundTruth: \u001b[0m \u001b[32mIn single-scan mode, the capture screen resets to the original zoom factor after each scan. In multi-scan mode, the screen remains zoomed in or out for the remainder of the scan session\u001b[0m\n",
      "\u001b[34mPrediction: \u001b[0m \u001b[34m Could not find answer in given contexts. The context does not mention how Knox Capture handles zooming between single-scan and multi-scan modes.\u001b[0m\n",
      "ReRanker similarity: 0.3032808303833008\n",
      "Langchain correctness: 0\n",
      "Custom correctness: 4\n",
      "has_right_context: 0\n",
      "true_context_rank: 0/5\n",
      "mrr: 0.000\n",
      "latency: 0:00:02.057874 secs\n",
      "prediction length: 145\n",
      "27\n",
      "\u001b[31mQuestion: \u001b[0m \u001b[31m- What new indicators are available when testing app configurations in Admin mode?\u001b[0m\n",
      "\u001b[32mGroundTruth: \u001b[0m \u001b[32m- IT admins can now view a list of created app activities under the profile.\n",
      "- Any activity not visible in the list behaves under the default profile.\n",
      "- After being tested, each activity displays a green checkmark to its right to indicate its tested status\u001b[0m\n",
      "\u001b[34mPrediction: \u001b[0m \u001b[34m New indicators for tested app activities are available when testing configurations in Admin mode. Any activity not visible in the list behaves under the default profile. After being tested, each activity displays a green checkmark to indicate its tested status.\u001b[0m\n",
      "ReRanker similarity: 0.9998831748962402\n",
      "Langchain correctness: 0\n",
      "Custom correctness: 4\n",
      "has_right_context: 1\n",
      "true_context_rank: 1/5\n",
      "mrr: 1.000\n",
      "latency: 0:00:02.584025 secs\n",
      "prediction length: 262\n",
      "28\n",
      "\u001b[31mQuestion: \u001b[0m \u001b[31mWhat notification will the user receive if the IT admin has restricted the camera preview window?\u001b[0m\n",
      "\u001b[32mGroundTruth: \u001b[0m \u001b[32mThe user will now get a notification asking them to contact their IT admin for more information\u001b[0m\n",
      "\u001b[34mPrediction: \u001b[0m \u001b[34m The user will now get a notification asking them to contact their IT admin for more information.\u001b[0m\n",
      "ReRanker similarity: 0.9999274015426636\n",
      "Langchain correctness: 1\n",
      "Custom correctness: 5\n",
      "has_right_context: 1\n",
      "true_context_rank: 1/5\n",
      "mrr: 1.000\n",
      "latency: 0:00:01.906990 secs\n",
      "prediction length: 97\n",
      "29\n",
      "\u001b[31mQuestion: \u001b[0m \u001b[31mHow can managed mode be enforced on enterprise devices when using Knox Capture?\u001b[0m\n",
      "\u001b[32mGroundTruth: \u001b[0m \u001b[32mTo enforce managed mode on enterprise devices when using Knox Capture, one must deploy the application through an EMM console with Knox Capture configured. Following this, managed mode will be enabled automatically\u001b[0m\n",
      "\u001b[34mPrediction: \u001b[0m \u001b[34m <context>\n",
      "Managed mode is automatically applied when Knox Capture is configured and deployed through an EMM console. For details on deploying the app in Managed mode, see Deployment.\n",
      "\n",
      "After an IT admin uses their EMM/UEM to deploy Knox Capture as a managed app to an end-user's device, the device launches the app in Managed mode.  \n",
      "</context>\u001b[0m\n",
      "ReRanker similarity: 0.998624324798584\n",
      "Langchain correctness: 1\n",
      "Custom correctness: 4\n",
      "has_right_context: 1\n",
      "true_context_rank: 1/5\n",
      "mrr: 1.000\n",
      "latency: 0:00:03.266202 secs\n",
      "prediction length: 344\n"
     ]
    }
   ],
   "source": [
    "%%time\n",
    "evaluation = []\n",
    "parent_document = True\n",
    "for idx, row in enumerate(ground_thruth.itertuples()):\n",
    "    try:\n",
    "        question, answer, doc, doc_id = getattr(row, \"question\"), getattr(row, \"answer\"), getattr(row, \"doc\"), getattr(row, \"doc_id\")\n",
    "\n",
    "        start = time.time()\n",
    "        response = qa_chain(question)\n",
    "        elapsed = time.time() - start\n",
    "\n",
    "        prediction = response[\"result\"]\n",
    "        retrieved_docs = {doc.page_content: idx+1 for idx, doc in enumerate(response[\"source_documents\"])}\n",
    "        contexts = \"\\n\\n\".join(retrieved_docs.keys())\n",
    "\n",
    "        payload = json.dumps(\n",
    "            {\n",
    "                \"inputs\": [\n",
    "                    {\"text\": answer, \"text_pair\": prediction},\n",
    "                ]\n",
    "            }\n",
    "        )\n",
    "\n",
    "        response = runtime_client.invoke_endpoint(\n",
    "            EndpointName=endpoint_name,\n",
    "            ContentType=\"application/json\",\n",
    "            Accept=\"application/json\",\n",
    "            Body=payload\n",
    "        )\n",
    "        out = json.loads(response['Body'].read().decode()) ## for json\n",
    "\n",
    "        eval_result_langchain = langchain_evaluator.evaluate_strings(\n",
    "            input=question,\n",
    "            prediction=prediction,\n",
    "            reference=answer,\n",
    "        )\n",
    "        eval_result_custom = custom_evaluator.invoke(\n",
    "            {\n",
    "                \"query\": question,\n",
    "                \"generated_answer\": prediction,\n",
    "                \"reference_answer\": answer\n",
    "            }\n",
    "        )\n",
    "        \n",
    "        reranker_sim = out[0][\"score\"]\n",
    "        langchain_correctness = eval_result_langchain[\"score\"]\n",
    "        custom_correctness = int(eval_result_custom.split(\"\\n\")[0].strip().split(\"Score: \")[1])\n",
    "        \n",
    "        if not parent_document:\n",
    "            if doc in retrieved_docs:\n",
    "                true_context_rank = retrieved_docs[doc]\n",
    "                has_right_context = 1\n",
    "                mrr = 1/true_context_rank\n",
    "            else:\n",
    "                true_context_rank = has_right_context = 0\n",
    "                mrr = 0\n",
    "        else:\n",
    "            for retrieved_doc in retrieved_docs:\n",
    "                \n",
    "                if doc in retrieved_doc:\n",
    "\n",
    "                    true_context_rank = retrieved_docs[retrieved_doc]\n",
    "                    has_right_context = 1\n",
    "                    mrr = 1/true_context_rank\n",
    "                    break\n",
    "                else:\n",
    "                    true_context_rank = has_right_context = 0\n",
    "                    mrr = 0\n",
    "\n",
    "        total_contexts = len(retrieved_docs)\n",
    "        latency = datetime.timedelta(seconds=elapsed)\n",
    "\n",
    "        print(idx)\n",
    "        print(colored(\"Question: \", \"red\"), colored(question, \"red\"))\n",
    "        print(colored(\"GroundTruth: \", \"green\"), colored(answer, \"green\"))\n",
    "        print(colored(\"Prediction: \", \"blue\"), colored(prediction, \"blue\"))\n",
    "        print(f'ReRanker similarity: {reranker_sim}')\n",
    "        print(f'Langchain correctness: {langchain_correctness}')\n",
    "        print(f'Custom correctness: {custom_correctness}')\n",
    "        print(f'has_right_context: {has_right_context}')\n",
    "        print(f'true_context_rank: {true_context_rank}/{total_contexts}')\n",
    "        print(f'mrr: {mrr:.3f}')\n",
    "        print(f'latency: {latency} secs')\n",
    "        print(f'prediction length: {len(prediction)}')\n",
    "\n",
    "        evaluation.append([question, answer, prediction, \\\n",
    "                           has_right_context, true_context_rank, total_contexts, mrr, \\\n",
    "                           reranker_sim, langchain_correctness, custom_correctness, elapsed, contexts, len(prediction)])\n",
    "    except:\n",
    "        print (\"err\", idx)\n",
    "\n",
    "eval_results = pd.DataFrame(\n",
    "    evaluation,\n",
    "    columns=[\"question\", \"true_answer\", \"prediction\", \\\n",
    "             \"has_right_context\", \"true_context_rank\", \"total_contexts\", \"mrr\", \\\n",
    "             \"reranker_sim\", \"langchain_correctness\", \"custom_correctness\", \"latency\", \"contexts\", \"pred_length\"]\n",
    ")\n",
    "\n",
    "eval_results.to_csv(\"eval_results_reranker.csv\", index=False)\n",
    "#eval_results.to_pickle(\"eval_results.pkl\")"
   ]
  },
  {
   "cell_type": "code",
   "execution_count": null,
   "id": "18453fe8-ad5b-47f3-bdbc-d3107346f56a",
   "metadata": {},
   "outputs": [],
   "source": []
  },
  {
   "cell_type": "code",
   "execution_count": null,
   "id": "4e48c933-44fa-4d6e-abef-98e05d5be8c2",
   "metadata": {},
   "outputs": [],
   "source": []
  }
 ],
 "metadata": {
  "kernelspec": {
   "display_name": "conda_python3",
   "language": "python",
   "name": "conda_python3"
  },
  "language_info": {
   "codemirror_mode": {
    "name": "ipython",
    "version": 3
   },
   "file_extension": ".py",
   "mimetype": "text/x-python",
   "name": "python",
   "nbconvert_exporter": "python",
   "pygments_lexer": "ipython3",
   "version": "3.10.12"
  }
 },
 "nbformat": 4,
 "nbformat_minor": 5
}
