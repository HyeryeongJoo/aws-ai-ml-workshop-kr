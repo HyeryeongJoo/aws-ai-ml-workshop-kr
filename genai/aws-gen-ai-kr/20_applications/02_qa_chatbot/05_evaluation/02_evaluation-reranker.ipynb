{
 "cells": [
  {
   "cell_type": "markdown",
   "id": "b3549227-a8fc-473d-af32-6bf3aee353b2",
   "metadata": {},
   "source": [
    "# Evaluation\n",
    "- For retriever\n",
    "- For generator"
   ]
  },
  {
   "cell_type": "markdown",
   "id": "bd731477-d5aa-4f55-878d-9d38a7e37019",
   "metadata": {},
   "source": [
    "## Setting\n",
    " - Auto Reload\n",
    " - path for utils"
   ]
  },
  {
   "cell_type": "code",
   "execution_count": 1,
   "id": "e72acb41-2495-4835-8e8b-3e5bb5f703b4",
   "metadata": {
    "tags": []
   },
   "outputs": [],
   "source": [
    "%load_ext autoreload\n",
    "%autoreload 2"
   ]
  },
  {
   "cell_type": "code",
   "execution_count": 2,
   "id": "bd4c2205-9b56-4ac9-977d-e00a00daab38",
   "metadata": {
    "tags": []
   },
   "outputs": [],
   "source": [
    "import sys, os\n",
    "module_path = \"../../..\"\n",
    "sys.path.append(os.path.abspath(module_path))"
   ]
  },
  {
   "cell_type": "markdown",
   "id": "01670eb4-8f19-497d-837e-d9788e0a05f3",
   "metadata": {},
   "source": [
    "## 1. Bedrock Client 생성"
   ]
  },
  {
   "cell_type": "code",
   "execution_count": 3,
   "id": "1f9dcbdc-0667-4bff-afcf-0c4b5ace273b",
   "metadata": {
    "tags": []
   },
   "outputs": [],
   "source": [
    "import json\n",
    "import boto3\n",
    "from pprint import pprint\n",
    "from termcolor import colored\n",
    "from utils import bedrock, print_ww\n",
    "from utils.bedrock import bedrock_info"
   ]
  },
  {
   "cell_type": "markdown",
   "id": "259021cc-1d69-458e-879c-80076fc57c64",
   "metadata": {},
   "source": [
    "### ---- ⚠️ Un-comment and edit the below lines as needed for your AWS setup ⚠️ ----\n",
    "- os.environ[\"AWS_DEFAULT_REGION\"] = \"<REGION_NAME>\"  # E.g. \"us-east-1\"\n",
    "- os.environ[\"AWS_PROFILE\"] = \"<YOUR_PROFILE>\"\n",
    "- os.environ[\"BEDROCK_ASSUME_ROLE\"] = \"<YOUR_ROLE_ARN>\"  # E.g. \"arn:aws:...\"\n",
    "- os.environ[\"BEDROCK_ENDPOINT_URL\"] = \"<YOUR_ENDPOINT_URL>\"  # E.g. \"https://...\""
   ]
  },
  {
   "cell_type": "code",
   "execution_count": 4,
   "id": "9fde1bf1-d608-46ef-969e-40fe49b77ec5",
   "metadata": {
    "tags": []
   },
   "outputs": [
    {
     "name": "stdout",
     "output_type": "stream",
     "text": [
      "Create new client\n",
      "  Using region: None\n",
      "  Using profile: None\n",
      "boto3 Bedrock client successfully created!\n",
      "bedrock-runtime(https://bedrock-runtime.us-east-1.amazonaws.com)\n",
      "\u001b[32m\n",
      "== FM lists ==\u001b[0m\n",
      "{'Claude-Instant-V1': 'anthropic.claude-instant-v1',\n",
      " 'Claude-V1': 'anthropic.claude-v1',\n",
      " 'Claude-V2': 'anthropic.claude-v2',\n",
      " 'Cohere-Embeddings-En': 'cohere.embed-english-v3',\n",
      " 'Cohere-Embeddings-Multilingual': 'cohere.embed-multilingual-v3',\n",
      " 'Command': 'cohere.command-text-v14',\n",
      " 'Command-Light': 'cohere.command-light-text-v14',\n",
      " 'Jurassic-2-Mid': 'ai21.j2-mid-v1',\n",
      " 'Jurassic-2-Ultra': 'ai21.j2-ultra-v1',\n",
      " 'Llama2-13b-Chat': 'meta.llama2-13b-chat-v1',\n",
      " 'Titan-Embeddings-G1': 'amazon.titan-embed-text-v1',\n",
      " 'Titan-Text-G1': 'amazon.titan-text-express-v1',\n",
      " 'Titan-Text-G1-Light': 'amazon.titan-text-lite-v1'}\n"
     ]
    }
   ],
   "source": [
    "boto3_bedrock = bedrock.get_bedrock_client(\n",
    "    assumed_role=os.environ.get(\"BEDROCK_ASSUME_ROLE\", None),\n",
    "    endpoint_url=os.environ.get(\"BEDROCK_ENDPOINT_URL\", None),\n",
    "    region=os.environ.get(\"AWS_DEFAULT_REGION\", None),\n",
    ")\n",
    "\n",
    "aws_region = os.environ.get(\"AWS_DEFAULT_REGION\", None)\n",
    "print (colored(\"\\n== FM lists ==\", \"green\"))\n",
    "pprint (bedrock_info.get_list_fm_models())"
   ]
  },
  {
   "cell_type": "markdown",
   "id": "100a9b99-f66d-4447-805d-c29ee9f88c4f",
   "metadata": {},
   "source": [
    "## 2. Titan Embedding 및 LLM 인 Claude-v2 모델 로딩"
   ]
  },
  {
   "cell_type": "markdown",
   "id": "c84c0aea-2d43-493a-9538-648e5a453220",
   "metadata": {},
   "source": [
    "### LLM 로딩 (Claude-v2)"
   ]
  },
  {
   "cell_type": "code",
   "execution_count": 5,
   "id": "32924f36-0b17-4792-b382-92867c566e50",
   "metadata": {
    "tags": []
   },
   "outputs": [],
   "source": [
    "from langchain.llms.bedrock import Bedrock\n",
    "from langchain.callbacks.streaming_stdout import StreamingStdOutCallbackHandler"
   ]
  },
  {
   "cell_type": "code",
   "execution_count": 6,
   "id": "6fc13fa9-0452-4fbe-b07b-a54f1833655d",
   "metadata": {
    "tags": []
   },
   "outputs": [],
   "source": [
    "llm_text = Bedrock(\n",
    "    model_id=bedrock_info.get_model_id(model_name=\"Claude-V2\"),\n",
    "    client=boto3_bedrock,\n",
    "    model_kwargs={\n",
    "        \"max_tokens_to_sample\": 512\n",
    "    },\n",
    "    streaming=False,\n",
    "    callbacks=[StreamingStdOutCallbackHandler()]\n",
    ")\n",
    "\n",
    "llm_text_light = Bedrock(\n",
    "    model_id=bedrock_info.get_model_id(model_name=\"Claude-Instant-V1\"),\n",
    "    client=boto3_bedrock,\n",
    "    model_kwargs={\n",
    "        \"max_tokens_to_sample\": 512\n",
    "    },\n",
    "    streaming=False,\n",
    "    callbacks=[StreamingStdOutCallbackHandler()]\n",
    ")"
   ]
  },
  {
   "cell_type": "markdown",
   "id": "0ac056c9-e2ad-496e-b38a-d739724202a4",
   "metadata": {},
   "source": [
    "### Embedding 모델 선택"
   ]
  },
  {
   "cell_type": "code",
   "execution_count": 7,
   "id": "061dcf18-4681-4f16-bfa3-c76d717f307f",
   "metadata": {
    "tags": []
   },
   "outputs": [],
   "source": [
    "from utils.rag import KoSimCSERobertaContentHandler, SagemakerEndpointEmbeddingsJumpStart"
   ]
  },
  {
   "cell_type": "code",
   "execution_count": 8,
   "id": "d85536e9-3416-4f7a-96a4-c539a6a5596f",
   "metadata": {
    "tags": []
   },
   "outputs": [],
   "source": [
    "def get_embedding_model(is_bedrock_embeddings, is_KoSimCSERobert, aws_region, endpont_name=None):\n",
    "\n",
    "    if is_bedrock_embeddings:\n",
    "        # We will be using the Titan Embeddings Model to generate our Embeddings.\n",
    "        from langchain.embeddings import BedrockEmbeddings\n",
    "        llm_emb = BedrockEmbeddings(\n",
    "            client=boto3_bedrock,\n",
    "            model_id=bedrock_info.get_model_id(\n",
    "                model_name=\"Titan-Embeddings-G1\"\n",
    "                #model_name=\"Cohere-Embeddings-En\"\n",
    "            )\n",
    "        )\n",
    "        print(\"Bedrock Embeddings Model Loaded\")\n",
    "\n",
    "    elif is_KoSimCSERobert:\n",
    "        LLMEmbHandler = KoSimCSERobertaContentHandler()\n",
    "        endpoint_name_emb = endpont_name\n",
    "        llm_emb = SagemakerEndpointEmbeddingsJumpStart(\n",
    "            endpoint_name=endpoint_name_emb,\n",
    "            region_name=aws_region,\n",
    "            content_handler=LLMEmbHandler,\n",
    "        )\n",
    "        print(\"KoSimCSERobert Embeddings Model Loaded\")\n",
    "    else:\n",
    "        llm_emb = None\n",
    "        print(\"No Embedding Model Selected\")\n",
    "\n",
    "    return llm_emb"
   ]
  },
  {
   "cell_type": "markdown",
   "id": "83000f64-5855-45ee-b736-eb96e9ff0739",
   "metadata": {},
   "source": [
    "#### [중요] is_KoSimCSERobert == True 일시에 endpoint_name 을 꼭 넣어 주세요."
   ]
  },
  {
   "cell_type": "code",
   "execution_count": 9,
   "id": "dbbec6da-798a-419b-9e4e-b1cc417cfbfa",
   "metadata": {
    "tags": []
   },
   "outputs": [
    {
     "name": "stdout",
     "output_type": "stream",
     "text": [
      "Bedrock Embeddings Model Loaded\n"
     ]
    }
   ],
   "source": [
    "is_bedrock_embeddings = True\n",
    "is_KoSimCSERobert = False\n",
    "aws_region = os.environ.get(\"AWS_DEFAULT_REGION\", None)\n",
    "\n",
    "##############################\n",
    "# Parameters for is_KoSimCSERobert\n",
    "##############################\n",
    "if is_KoSimCSERobert: endpont_name = \"<endpoint-name>\"\n",
    "else: endpont_name = None\n",
    "##############################\n",
    "\n",
    "llm_emb = get_embedding_model(is_bedrock_embeddings, is_KoSimCSERobert, aws_region, endpont_name)   "
   ]
  },
  {
   "cell_type": "markdown",
   "id": "b69eff24-6ac7-4500-b5eb-9039fbe38c9f",
   "metadata": {},
   "source": [
    "## 3. Depoly ReRanker model (if needed)"
   ]
  },
  {
   "cell_type": "code",
   "execution_count": 10,
   "id": "f364b91e-b186-4920-aeca-857a34665a11",
   "metadata": {
    "tags": []
   },
   "outputs": [
    {
     "name": "stdout",
     "output_type": "stream",
     "text": [
      "sagemaker.config INFO - Not applying SDK defaults from location: /etc/xdg/sagemaker/config.yaml\n",
      "sagemaker.config INFO - Not applying SDK defaults from location: /home/ec2-user/.config/sagemaker/config.yaml\n"
     ]
    }
   ],
   "source": [
    "import json\n",
    "import sagemaker\n",
    "from sagemaker.huggingface import HuggingFaceModel"
   ]
  },
  {
   "cell_type": "code",
   "execution_count": 11,
   "id": "1d32b1f5-289b-4ba8-baa9-765501ef5b0e",
   "metadata": {
    "tags": []
   },
   "outputs": [],
   "source": [
    "depoly = False"
   ]
  },
  {
   "cell_type": "code",
   "execution_count": 12,
   "id": "9e73ea11-7dea-41b2-98fb-85de4e2851db",
   "metadata": {
    "tags": []
   },
   "outputs": [],
   "source": [
    "if depoly:\n",
    "\n",
    "    try:\n",
    "        role = sagemaker.get_execution_role()\n",
    "    except ValueError:\n",
    "        iam = boto3.client('iam')\n",
    "        role = iam.get_role(RoleName='sagemaker_execution_role')['Role']['Arn']\n",
    "\n",
    "    # Hub Model configuration. https://huggingface.co/models\n",
    "    hub = {\n",
    "        'HF_MODEL_ID':'BAAI/bge-reranker-large',\n",
    "        'HF_TASK':'text-classification'\n",
    "    }\n",
    "\n",
    "    # create Hugging Face Model Class\n",
    "    huggingface_model = HuggingFaceModel(\n",
    "        transformers_version='4.26.0',\n",
    "        pytorch_version='1.13.1',\n",
    "        py_version='py39',\n",
    "        env=hub,\n",
    "        role=role, \n",
    "    )\n",
    "\n",
    "    # deploy model to SageMaker Inference\n",
    "    predictor = huggingface_model.deploy(\n",
    "        initial_instance_count=1, # number of instances\n",
    "        instance_type='ml.g5.xlarge' # instance type\n",
    "    )\n",
    "\n",
    "    print(f'Accept: {predictor.accept}')\n",
    "    print(f'ContentType: {predictor.content_type}')\n",
    "    print(f'Endpoint: {predictor.endpoint}')"
   ]
  },
  {
   "cell_type": "markdown",
   "id": "a953ea43-3337-4300-8833-ec4b38840822",
   "metadata": {},
   "source": [
    "### Reranker"
   ]
  },
  {
   "cell_type": "code",
   "execution_count": 13,
   "id": "f0f90b69-27bb-412b-ba0a-2e2d768e92a0",
   "metadata": {
    "tags": []
   },
   "outputs": [],
   "source": [
    "#endpoint_name = \"huggingface-pytorch-inference-2023-11-15-04-37-45-120\" # ml.m5.2xlarge\n",
    "endpoint_name = \"huggingface-pytorch-inference-2023-11-15-07-53-21-605\" # ml.g5.xlarge"
   ]
  },
  {
   "cell_type": "code",
   "execution_count": 14,
   "id": "cd07db04-6140-4516-a279-bfc1a14cee7f",
   "metadata": {
    "tags": []
   },
   "outputs": [
    {
     "name": "stdout",
     "output_type": "stream",
     "text": [
      "runtime_client: <botocore.client.SageMakerRuntime object at 0x7fc0d5d50c70>\n"
     ]
    }
   ],
   "source": [
    "runtime_client = boto3.Session().client('sagemaker-runtime')\n",
    "print (f'runtime_client: {runtime_client}')"
   ]
  },
  {
   "cell_type": "markdown",
   "id": "a14dee0e-7a7d-48c3-94ff-90db1cf89daf",
   "metadata": {},
   "source": [
    "## 4. LangChainmOpenSearch VectorStore 정의\n",
    "### 선수 조건\n",
    "- 01_preprocess_docs/02_load_docs_opensearch.ipynb를 통해서 OpenSearch Index 가 생성이 되어 있어야 합니다.\n",
    "#### [중요] 아래에 aws parameter store 에 아래 인증정보가 먼저 입력되어 있어야 합니다.\n",
    "- 01_preprocess_docs/01_parameter_store_example.ipynb 참고"
   ]
  },
  {
   "cell_type": "code",
   "execution_count": 15,
   "id": "d85af7d2-6b71-4125-8ba4-fa15406f5c3f",
   "metadata": {
    "tags": []
   },
   "outputs": [],
   "source": [
    "from utils.proc_docs import get_parameter"
   ]
  },
  {
   "cell_type": "code",
   "execution_count": 16,
   "id": "8b29f46c-154b-41fe-ab1a-d34af0a73b39",
   "metadata": {
    "tags": []
   },
   "outputs": [],
   "source": [
    "ssm = boto3.client(\"ssm\", \"us-east-1\")\n",
    "\n",
    "opensearch_domain_endpoint = get_parameter(\n",
    "    boto3_clinet = ssm,\n",
    "    parameter_name = 'knox_opensearch_domain_endpoint',\n",
    ")\n",
    "\n",
    "opensearch_user_id = get_parameter(\n",
    "    boto3_clinet = ssm,\n",
    "    parameter_name = 'knox_opensearch_userid',\n",
    ")\n",
    "\n",
    "opensearch_user_password = get_parameter(\n",
    "    boto3_clinet = ssm,\n",
    "    parameter_name = 'knox_opensearch_password',\n",
    ")\n",
    "\n",
    "http_auth = (opensearch_user_id, opensearch_user_password) # Master username, Master password"
   ]
  },
  {
   "cell_type": "markdown",
   "id": "354a0a15-e66c-4fd9-a555-13a15c80f327",
   "metadata": {},
   "source": [
    "### Index 이름 셋팅\n",
    "- 이전 노트북 01_preprocess_docs/02_load_docs_opensearch.ipynb를 통해서 생성된 OpenSearch Index name 입력"
   ]
  },
  {
   "cell_type": "code",
   "execution_count": 17,
   "id": "2bde847e-429f-47fa-87bf-36441a92c401",
   "metadata": {
    "tags": []
   },
   "outputs": [],
   "source": [
    "index_name = \"v13-genai-poc-knox-titan-eval-sample-0.05-1024c-256o\"\n",
    "#index_name = \"v14-genai-poc-knox-cohere-eval-sample-0.05-1024c-256o\""
   ]
  },
  {
   "cell_type": "markdown",
   "id": "1b5ef81d-27b2-4d64-9e57-0324fc627a2c",
   "metadata": {},
   "source": [
    "### OpenSearch Client 생성"
   ]
  },
  {
   "cell_type": "code",
   "execution_count": 18,
   "id": "a81604ea-e7a0-4256-931e-849fca7be994",
   "metadata": {
    "tags": []
   },
   "outputs": [],
   "source": [
    "from utils.opensearch import opensearch_utils"
   ]
  },
  {
   "cell_type": "code",
   "execution_count": 19,
   "id": "b46578e5-6113-42d4-9e2c-e4446bb4cfca",
   "metadata": {
    "tags": []
   },
   "outputs": [],
   "source": [
    "os_client = opensearch_utils.create_aws_opensearch_client(\n",
    "    aws_region,\n",
    "    opensearch_domain_endpoint,\n",
    "    http_auth\n",
    ")"
   ]
  },
  {
   "cell_type": "markdown",
   "id": "1fa855f1-f8d4-4218-ab77-84d4f5f0238e",
   "metadata": {},
   "source": [
    "### LangChain OpenSearch VectorStore 생성"
   ]
  },
  {
   "cell_type": "code",
   "execution_count": 20,
   "id": "b86443bb-ff05-4bac-a8cf-d708552fbbfb",
   "metadata": {
    "tags": []
   },
   "outputs": [],
   "source": [
    "from langchain.vectorstores import OpenSearchVectorSearch"
   ]
  },
  {
   "cell_type": "code",
   "execution_count": 21,
   "id": "51568769-47a2-42cd-90dd-02469094619b",
   "metadata": {
    "tags": []
   },
   "outputs": [
    {
     "data": {
      "text/plain": [
       "<langchain.vectorstores.opensearch_vector_search.OpenSearchVectorSearch at 0x7fc1b8c37250>"
      ]
     },
     "execution_count": 21,
     "metadata": {},
     "output_type": "execute_result"
    }
   ],
   "source": [
    "vector_db = OpenSearchVectorSearch(\n",
    "    index_name=index_name,\n",
    "    opensearch_url=opensearch_domain_endpoint,\n",
    "    embedding_function=llm_emb,\n",
    "    http_auth=http_auth, # http_auth\n",
    "    is_aoss =False,\n",
    "    engine=\"faiss\",\n",
    "    space_type=\"l2\"\n",
    ")\n",
    "vector_db"
   ]
  },
  {
   "cell_type": "markdown",
   "id": "d44452ad-1945-4a1a-a18a-fd1f899814bb",
   "metadata": {},
   "source": [
    "## 5. Retriever 정의"
   ]
  },
  {
   "cell_type": "code",
   "execution_count": 22,
   "id": "409937f9-e4f3-4f2f-90a8-9b13641d3700",
   "metadata": {
    "tags": []
   },
   "outputs": [],
   "source": [
    "from utils.rag import OpenSearchHybridSearchRetriever"
   ]
  },
  {
   "cell_type": "code",
   "execution_count": 23,
   "id": "c1606bcd-502c-461b-9458-5e400e97ed92",
   "metadata": {
    "tags": []
   },
   "outputs": [],
   "source": [
    "opensearch_hybrid_retriever = OpenSearchHybridSearchRetriever(\n",
    "    os_client=os_client,\n",
    "    index_name=index_name,\n",
    "    llm_text=llm_text_light, # used in rag_fusion, hyde and reranker(num_tokens)\n",
    "    llm_emb=llm_emb,\n",
    "\n",
    "    # option for lexical\n",
    "    minimum_should_match=0,\n",
    "    filter=[],\n",
    "\n",
    "    # option for rank fusion\n",
    "    fusion_algorithm=\"RRF\", # [\"RRF\", \"simple_weighted\"], rank fusion 방식 정의\n",
    "    ensemble_weights=[.5, .5], # [for lexical, for semantic], Lexical, Semantic search 결과에 대한 최종 반영 비율 정의\n",
    "    reranker=True, # enable reranker with reranker model\n",
    "    reranker_endpoint_name=endpoint_name, # endpoint name for reranking model\n",
    "    #rag_fusion=False, # enable rag_fusion\n",
    "    #query_augmentation_size=3, # query_augmentation_size in rag_fusion\n",
    "\n",
    "    # option for async search\n",
    "    async_mode=True,\n",
    "\n",
    "    # option for output\n",
    "    k=5, # 최종 Document 수 정의\n",
    "    verbose=False,\n",
    ")"
   ]
  },
  {
   "cell_type": "code",
   "execution_count": 24,
   "id": "7333a947-d0d0-41a6-8dcc-adb3d58c2e8e",
   "metadata": {
    "tags": []
   },
   "outputs": [
    {
     "data": {
      "text/plain": [
       "[Document(page_content='What is Knox Suite?. Knox Suite is a bundled offering designed to help enterprise IT admins better manage your fleet of devices. It includes individual services such as Knox Platform for Enterprise, Knox Mobile Enrollment, Knox Manage, Knox E-FOTA, and Knox Asset Intelligence. Key features of Knox Suite include: Secure - Ensure your business data is protected with managed security features at your control. Deploy - Enroll corporate devices to EMM automatically and securely, right out of the box. Manage - Enable comprehensive management over corporate devices and OS versions. Analyze - Strengthen in-depth device analytics for mobile productivity and asset management.', metadata={'source': 'all_processed_data.json', 'seq_num': 74, 'title': ' What is Knox Suite?', 'url': 'https://docs.samsungknox.com/admin/knox-suite/faq/#what-is-knox-suite', 'project': 'KS', 'last_updated': '2023-07-26', 'id': '3e69c86f-4e05-4407-b540-298f1e3d8a9f'}),\n",
       " Document(page_content='Knox Suite. Knox Suite is a bundled offering of Knox solutions for enterprise mobility designed to address organizations\\' needs related to security and management throughout the entire device lifecycle. Learn more about Knox Suite #Audience This document is intended for IT Admins. Understand what\\'s included in Knox Suite and how you can use it to manage, secure, and maintain enterprise devices. Learn where to find information on how to perform various tasks with Knox\"Suite services. About Knox Suite Knox Suite is a bundled offering that includes the following Knox products: Knox Platform for Enterprise - A Knox solution that provides military-grade security to Samsung Android phones, tablets, and Tizen watches for business. Knox Mobile Enrollment - A Knox solution that allows you to enroll thousands of Samsung devices in your EMM at once. When used with a Knox Suite license, Knox Mobile Enrollment provides advanced profiles that offer IT admins additional features such as higher control over locking devices', metadata={'source': 'all_processed_data.json', 'seq_num': 65, 'title': 'Knox Suite', 'url': 'https://docs.samsungknox.com/admin/knox-suite', 'project': 'KS', 'last_updated': '2023-07-26', 'id': '200fa83e-cdc3-441b-880a-04d8014ed8bd'}),\n",
       " Document(page_content='. With Knox E-FOTA, you create a campaign, specify the campaign period, assign devices to that campaign, and select the firmware update to be pushed to those devices during the campaign period. Knox Capture - An Android solution that lets users transform their Samsung Galaxy smartphones and tablets into powerful barcode scanners that can read, process, and output barcode information to other applications, all without requiring additional hardware or writing a single line of code. Knox Authentication Manager - A managed Android app for shared Samsung devices that provides multiuser facial biometrics and sign-in automation for increased frontline worker productivity and safety. With Knox Suite, a single license key allows you to use all included Knox products on your devices. This means that you can use the same Knox Suite license key in multiple Knox service admin portals. Benefits of Knox Suite 1. All-in-one Knox B2B package - An end-to-end solution that covers every step of your enterprise mobility journey 2', metadata={'source': 'all_processed_data.json', 'seq_num': 65, 'title': 'Knox Suite', 'url': 'https://docs.samsungknox.com/admin/knox-suite', 'project': 'KS', 'last_updated': '2023-07-26', 'id': '5b3da7a2-9b9d-4125-a805-eb74d6eb13bd'}),\n",
       " Document(page_content='Knox Capture v1.7 release notes. New features #Launch of Samsung Knox Capture The most significant addition to Knox Capture v1.7 is the launch of a brand new, Samsung-developed scan engine that provides the same great feature-set as the Scandit engine, while also laying the foundations for Samsung to deliver exciting, industry-leading features to our customers in future releases. New customers will see an option to select their scan engine preference - either Knox Capture or Knox Capture: Scandit Edition - when launching the app for the first time and accepting the Knox Capture partner agreements. New customers can test the features of Knox Capture, and perform up to 100 free scans during their trial period, after which a valid Knox Suite license is required for commercial use. See Manage Knox Capture licenses to learn more about the new Knox Suite licensing requirements', metadata={'source': 'all_processed_data.json', 'seq_num': 34, 'title': 'Knox Capture v1.7 release notes', 'url': 'https://docs.samsungknox.com/admin/knox-capture/release-notes/v1-7', 'project': 'KCAP', 'last_updated': '2023-07-26', 'id': 'e1ef4919-61b1-4eca-8434-ae1c50ac62b8'}),\n",
       " Document(page_content='Learn more about Knox Suite. This section describes where you can find instructions on how to perform tasks using the different products included in Knox Suite. General documentation for the Knox Suite services Knox Service , See - , - Knox Manage , Knox Manage Admin Guide Knox Platform for Enterprise , Knox Platform for Enterprise Admin Guide Knox Mobile Enrollment , Knox Mobile Enrollment Admin Guide Knox E-FOTA , Knox E-FOTA Admin Guide Knox Asset Intelligence , Knox Asset Intelligence Admin Guide Knox Capture , Knox Capture Admin Guide Knox Authentication Manager , Knox Authentication Manager Admin Guide Knox Suite operations For information on See Knox service How to set up Knox Manage with Knox Suite Workflow:\"Set up Knox Manage with a Knox Suite license Knox Manage How to check your Knox Suite license usage View and modify a license Note Alternatively, you can sign in to your SamsungKnox.com dashboard and click Licenses to view all licenses you have for all your Knox services', metadata={'source': 'all_processed_data.json', 'seq_num': 64, 'title': 'Learn more about Knox Suite', 'url': 'https://docs.samsungknox.com/admin/knox-suite/learn-more-about-knox-suite', 'project': 'KS', 'last_updated': '2023-07-26', 'id': '5363e4be-0d0f-4090-acd6-08cdddcabaf5'})]"
      ]
     },
     "execution_count": 24,
     "metadata": {},
     "output_type": "execute_result"
    }
   ],
   "source": [
    "search_hybrid_result = opensearch_hybrid_retriever.get_relevant_documents(\"knox\")\n",
    "search_hybrid_result"
   ]
  },
  {
   "cell_type": "markdown",
   "id": "05c569db-1a1d-4bbf-a713-28cf6b745982",
   "metadata": {},
   "source": [
    "## 6. RAG chain 정의"
   ]
  },
  {
   "cell_type": "code",
   "execution_count": 25,
   "id": "da9df137-076d-4230-865e-4f9ed9651062",
   "metadata": {
    "tags": []
   },
   "outputs": [],
   "source": [
    "from langchain.chains import RetrievalQA\n",
    "from langchain.prompts import PromptTemplate"
   ]
  },
  {
   "cell_type": "markdown",
   "id": "b95251a1-6dd8-4794-86d9-65b855ed27cb",
   "metadata": {},
   "source": [
    "### Prompting\n",
    "- [TIP] Prompt의 instruction의 경우 한글보다 영어로 했을 때 더 좋은 결과를 얻을 수 있습니다."
   ]
  },
  {
   "cell_type": "code",
   "execution_count": 26,
   "id": "5e05b8bd-ccb0-4f49-9e5c-0869a9afa11d",
   "metadata": {
    "tags": []
   },
   "outputs": [],
   "source": [
    "prompt_template = \"\"\"\n",
    "\\n\\nHuman: Here is the context, inside <context></context> XML tags.\n",
    "\n",
    "<context>\n",
    "{context}\n",
    "</context>\n",
    "\n",
    "Only using the context as above, answer the following question with the rules as below:\n",
    "    - Don't insert XML tag such as <context> and </context> when answering.\n",
    "    - Write as much as you can\n",
    "    - Be courteous and polite\n",
    "    - Only answer the question if you can find the answer in the context with certainty.\n",
    "\n",
    "Question:\n",
    "{question}\n",
    "\n",
    "If the answer is not in the context, just say \"Could not find answer in given contexts.\"\n",
    "\n",
    "\\n\\nAssistant:\"\"\"\n",
    "\n",
    "PROMPT = PromptTemplate(\n",
    "    template=prompt_template, input_variables=[\"context\", \"question\"]\n",
    ")"
   ]
  },
  {
   "cell_type": "markdown",
   "id": "2a758bc7-87a1-44fb-9b36-e17e987b1513",
   "metadata": {},
   "source": [
    "### Update Search Params (Optional)"
   ]
  },
  {
   "cell_type": "code",
   "execution_count": null,
   "id": "31c68b6f-1606-455d-bd37-c467cf240b7c",
   "metadata": {
    "tags": []
   },
   "outputs": [],
   "source": [
    "opensearch_hybrid_retriever.update_search_params(\n",
    "    k=5,\n",
    "    minimum_should_match=0,\n",
    "    filter=[],\n",
    "    reranker=True,\n",
    "    reranker_endpoint_name=endpoint_name,\n",
    "    rag_fusion=False, # enable rag_fusion\n",
    "    query_augmentation_size=3, # query_augmentation_size in rag_fusion\n",
    "    #hyde=True, # enable hyde\n",
    "    #hyde_query=[\"web_search\"], # query type in hyde \n",
    "    llm_text=llm_text, # used in rag_fusion, hyde and reranker\n",
    "    verbose=False\n",
    ")"
   ]
  },
  {
   "cell_type": "code",
   "execution_count": null,
   "id": "2b2256fe-9b42-4570-9c05-d395405a534b",
   "metadata": {
    "tags": []
   },
   "outputs": [],
   "source": [
    "qa_chain = RetrievalQA.from_chain_type(\n",
    "    llm=llm_text,\n",
    "    chain_type=\"stuff\",\n",
    "    retriever=opensearch_hybrid_retriever,\n",
    "    return_source_documents=True,\n",
    "    chain_type_kwargs={\n",
    "        \"prompt\": PROMPT,\n",
    "        \"verbose\": False,\n",
    "    },\n",
    "    verbose=False\n",
    ")"
   ]
  },
  {
   "cell_type": "code",
   "execution_count": null,
   "id": "ae0b6569-7c98-49e3-a739-e7dd16d9942e",
   "metadata": {
    "tags": []
   },
   "outputs": [],
   "source": [
    "query = \"How many characters are removed when the start position is 1 and the number of characters to remove is also 1?\"\n",
    "qa_chain(query)"
   ]
  },
  {
   "cell_type": "markdown",
   "id": "fa285db7-31bf-4a82-816e-37abd5ed44af",
   "metadata": {
    "tags": []
   },
   "source": [
    "## 3.Evaluation\n",
    " - [langchain evaluator](https://python.langchain.com/docs/guides/evaluation/string/criteria_eval_chain)"
   ]
  },
  {
   "cell_type": "markdown",
   "id": "4d2fcc99-ab79-49b4-89a7-b51f3a62fc18",
   "metadata": {},
   "source": [
    "### Load ground truth"
   ]
  },
  {
   "cell_type": "code",
   "execution_count": null,
   "id": "d3637807-9266-457e-b512-e697f951c405",
   "metadata": {
    "tags": []
   },
   "outputs": [],
   "source": [
    "import pandas as pd"
   ]
  },
  {
   "cell_type": "code",
   "execution_count": null,
   "id": "d0403c51-23b5-4e3f-a2ec-7302d6711e4b",
   "metadata": {
    "tags": []
   },
   "outputs": [],
   "source": [
    "ground_thruth = pd.read_csv(\"eval_dataset_v13.csv\")"
   ]
  },
  {
   "cell_type": "code",
   "execution_count": null,
   "id": "b96d03e0-cf64-4644-9578-3411883dfafa",
   "metadata": {
    "tags": []
   },
   "outputs": [],
   "source": [
    "import time\n",
    "import datetime\n",
    "from langchain.evaluation import Criteria\n",
    "from langchain.evaluation import EvaluatorType\n",
    "from langchain.evaluation import load_evaluator"
   ]
  },
  {
   "cell_type": "code",
   "execution_count": null,
   "id": "bb3aab6f-ab32-4ea2-b1e7-43e7694f1849",
   "metadata": {
    "tags": []
   },
   "outputs": [],
   "source": [
    "list(Criteria)"
   ]
  },
  {
   "cell_type": "code",
   "execution_count": null,
   "id": "8a680e82-980e-48d6-ae2d-e9e40535134e",
   "metadata": {
    "tags": []
   },
   "outputs": [],
   "source": [
    "evaluator = load_evaluator(\n",
    "    EvaluatorType.LABELED_CRITERIA,\n",
    "    llm=llm_text,\n",
    "    criteria=Criteria.CORRECTNESS\n",
    ")"
   ]
  },
  {
   "cell_type": "markdown",
   "id": "4d471116-d2e3-4411-979f-ba56f2ca2e7a",
   "metadata": {},
   "source": [
    "### Check prompt for evaluation"
   ]
  },
  {
   "cell_type": "code",
   "execution_count": null,
   "id": "ab03e1d6-1209-4908-bf75-e7564a4590fa",
   "metadata": {
    "tags": []
   },
   "outputs": [],
   "source": [
    "print(evaluator.prompt.partial_variables)\n",
    "print(\"==\")\n",
    "print(evaluator.prompt.template)"
   ]
  },
  {
   "cell_type": "code",
   "execution_count": null,
   "id": "dc03ab59-0757-43e0-8a70-7c82edaa286e",
   "metadata": {
    "tags": []
   },
   "outputs": [],
   "source": [
    "ground_thruth.head()"
   ]
  },
  {
   "cell_type": "code",
   "execution_count": null,
   "id": "86542331-d9eb-4e90-8de0-4ed770f84b62",
   "metadata": {
    "tags": []
   },
   "outputs": [],
   "source": [
    "%%time\n",
    "evaluation = []\n",
    "for idx, row in enumerate(ground_thruth.itertuples()):\n",
    "    try:\n",
    "        question, answer, doc, doc_id = getattr(row, \"question\"), getattr(row, \"answer\"), getattr(row, \"doc\"), getattr(row, \"doc_id\")\n",
    "\n",
    "        start = time.time()\n",
    "        response = qa_chain(question)\n",
    "        elapsed = time.time() - start\n",
    "\n",
    "        prediction = response[\"result\"]\n",
    "        retrieved_docs = {doc.page_content: idx+1 for idx, doc in enumerate(response[\"source_documents\"])}\n",
    "        contexts = \"\\n\\n\".join(retrieved_docs.keys())\n",
    "\n",
    "        payload = json.dumps(\n",
    "            {\n",
    "                \"inputs\": [\n",
    "                    {\"text\": answer, \"text_pair\": prediction},\n",
    "                ]\n",
    "            }\n",
    "        )\n",
    "\n",
    "        response = runtime_client.invoke_endpoint(\n",
    "            EndpointName=endpoint_name,\n",
    "            ContentType=\"application/json\",\n",
    "            Accept=\"application/json\",\n",
    "            Body=payload\n",
    "        )\n",
    "        out = json.loads(response['Body'].read().decode()) ## for json\n",
    "\n",
    "        eval_result = evaluator.evaluate_strings(\n",
    "            input=question,\n",
    "            prediction=prediction,\n",
    "            reference=answer,\n",
    "        )\n",
    "\n",
    "        reranker_sim = out[0][\"score\"]\n",
    "        langchain_correctness = eval_result[\"score\"]\n",
    "        if doc in retrieved_docs:\n",
    "            true_context_rank = retrieved_docs[doc]\n",
    "            has_right_context = 1\n",
    "            mrr = 1/true_context_rank\n",
    "        else:\n",
    "            true_context_rank = has_right_context = 0\n",
    "            mrr = 0\n",
    "        total_contexts = len(retrieved_docs)\n",
    "        latency = datetime.timedelta(seconds=elapsed)\n",
    "\n",
    "        print(idx)\n",
    "        print(colored(\"Question: \", \"red\"), colored(question, \"red\"))\n",
    "        print(colored(\"GroundTruth: \", \"green\"), colored(answer, \"green\"))\n",
    "        print(colored(\"Prediction: \", \"blue\"), colored(prediction, \"blue\"))\n",
    "        print(f'ReRanker similarity: {reranker_sim}')\n",
    "        print(f'Langchain correctness: {langchain_correctness}')\n",
    "        print(f'has_right_context: {has_right_context}')\n",
    "        print(f'true_context_rank: {true_context_rank}/{total_contexts}')\n",
    "        print(f'mrr: {mrr:.3f}')\n",
    "        print(f'latency: {latency} secs')\n",
    "\n",
    "        evaluation.append([question, answer, prediction, \\\n",
    "                           has_right_context, true_context_rank, total_contexts, mrr, \\\n",
    "                           reranker_sim, langchain_correctness, elapsed, contexts])\n",
    "    except:\n",
    "        print (\"err\", idx)\n",
    "\n",
    "eval_results = pd.DataFrame(\n",
    "    evaluation,\n",
    "    columns=[\"question\", \"true_answer\", \"prediction\", \\\n",
    "             \"has_right_context\", \"true_context_rank\", \"total_contexts\", \"mrr\", \\\n",
    "             \"reranker_sim\", \"langchain_correctness\", \"latency\", \"contexts\"]\n",
    ")\n",
    "eval_results.to_csv(\"eval_results_hyde.csv\", index=False)\n",
    "#eval_results.to_pickle(\"eval_results.pkl\")"
   ]
  },
  {
   "cell_type": "code",
   "execution_count": null,
   "id": "18453fe8-ad5b-47f3-bdbc-d3107346f56a",
   "metadata": {},
   "outputs": [],
   "source": []
  },
  {
   "cell_type": "code",
   "execution_count": null,
   "id": "b5a24b12-f813-45dd-b09c-20d949139670",
   "metadata": {},
   "outputs": [],
   "source": []
  }
 ],
 "metadata": {
  "kernelspec": {
   "display_name": "conda_python3",
   "language": "python",
   "name": "conda_python3"
  },
  "language_info": {
   "codemirror_mode": {
    "name": "ipython",
    "version": 3
   },
   "file_extension": ".py",
   "mimetype": "text/x-python",
   "name": "python",
   "nbconvert_exporter": "python",
   "pygments_lexer": "ipython3",
   "version": "3.10.12"
  }
 },
 "nbformat": 4,
 "nbformat_minor": 5
}
