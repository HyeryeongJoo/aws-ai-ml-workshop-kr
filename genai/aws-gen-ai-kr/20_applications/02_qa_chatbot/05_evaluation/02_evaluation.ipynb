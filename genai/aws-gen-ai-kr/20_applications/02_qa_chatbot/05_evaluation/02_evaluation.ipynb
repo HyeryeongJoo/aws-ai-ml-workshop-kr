{
 "cells": [
  {
   "cell_type": "markdown",
   "id": "b3549227-a8fc-473d-af32-6bf3aee353b2",
   "metadata": {},
   "source": [
    "# Evaluation\n",
    "- For retriever\n",
    "- For generator"
   ]
  },
  {
   "cell_type": "markdown",
   "id": "bd731477-d5aa-4f55-878d-9d38a7e37019",
   "metadata": {},
   "source": [
    "## Setting\n",
    " - Auto Reload\n",
    " - path for utils"
   ]
  },
  {
   "cell_type": "code",
   "execution_count": 1,
   "id": "e72acb41-2495-4835-8e8b-3e5bb5f703b4",
   "metadata": {
    "tags": []
   },
   "outputs": [],
   "source": [
    "%load_ext autoreload\n",
    "%autoreload 2"
   ]
  },
  {
   "cell_type": "code",
   "execution_count": 2,
   "id": "bd4c2205-9b56-4ac9-977d-e00a00daab38",
   "metadata": {
    "tags": []
   },
   "outputs": [],
   "source": [
    "import sys, os\n",
    "module_path = \"../../..\"\n",
    "sys.path.append(os.path.abspath(module_path))"
   ]
  },
  {
   "cell_type": "markdown",
   "id": "01670eb4-8f19-497d-837e-d9788e0a05f3",
   "metadata": {},
   "source": [
    "## 1. Bedrock Client 생성"
   ]
  },
  {
   "cell_type": "code",
   "execution_count": 3,
   "id": "1f9dcbdc-0667-4bff-afcf-0c4b5ace273b",
   "metadata": {
    "tags": []
   },
   "outputs": [],
   "source": [
    "import json\n",
    "import boto3\n",
    "from pprint import pprint\n",
    "from termcolor import colored\n",
    "from utils import bedrock, print_ww\n",
    "from utils.bedrock import bedrock_info"
   ]
  },
  {
   "cell_type": "markdown",
   "id": "259021cc-1d69-458e-879c-80076fc57c64",
   "metadata": {},
   "source": [
    "### ---- ⚠️ Un-comment and edit the below lines as needed for your AWS setup ⚠️ ----\n",
    "- os.environ[\"AWS_DEFAULT_REGION\"] = \"<REGION_NAME>\"  # E.g. \"us-east-1\"\n",
    "- os.environ[\"AWS_PROFILE\"] = \"<YOUR_PROFILE>\"\n",
    "- os.environ[\"BEDROCK_ASSUME_ROLE\"] = \"<YOUR_ROLE_ARN>\"  # E.g. \"arn:aws:...\"\n",
    "- os.environ[\"BEDROCK_ENDPOINT_URL\"] = \"<YOUR_ENDPOINT_URL>\"  # E.g. \"https://...\""
   ]
  },
  {
   "cell_type": "code",
   "execution_count": 4,
   "id": "9fde1bf1-d608-46ef-969e-40fe49b77ec5",
   "metadata": {
    "tags": []
   },
   "outputs": [
    {
     "name": "stdout",
     "output_type": "stream",
     "text": [
      "Create new client\n",
      "  Using region: None\n",
      "  Using profile: None\n",
      "boto3 Bedrock client successfully created!\n",
      "bedrock-runtime(https://bedrock-runtime.us-east-1.amazonaws.com)\n",
      "\u001b[32m\n",
      "== FM lists ==\u001b[0m\n",
      "{'Claude-Instant-V1': 'anthropic.claude-instant-v1',\n",
      " 'Claude-V1': 'anthropic.claude-v1',\n",
      " 'Claude-V2': 'anthropic.claude-v2',\n",
      " 'Cohere-Embeddings-En': 'cohere.embed-english-v3',\n",
      " 'Cohere-Embeddings-Multilingual': 'cohere.embed-multilingual-v3',\n",
      " 'Command': 'cohere.command-text-v14',\n",
      " 'Command-Light': 'cohere.command-light-text-v14',\n",
      " 'Jurassic-2-Mid': 'ai21.j2-mid-v1',\n",
      " 'Jurassic-2-Ultra': 'ai21.j2-ultra-v1',\n",
      " 'Llama2-13b-Chat': 'meta.llama2-13b-chat-v1',\n",
      " 'Titan-Embeddings-G1': 'amazon.titan-embed-text-v1',\n",
      " 'Titan-Text-G1': 'amazon.titan-text-express-v1',\n",
      " 'Titan-Text-G1-Light': 'amazon.titan-text-lite-v1'}\n"
     ]
    }
   ],
   "source": [
    "boto3_bedrock = bedrock.get_bedrock_client(\n",
    "    assumed_role=os.environ.get(\"BEDROCK_ASSUME_ROLE\", None),\n",
    "    endpoint_url=os.environ.get(\"BEDROCK_ENDPOINT_URL\", None),\n",
    "    region=os.environ.get(\"AWS_DEFAULT_REGION\", None),\n",
    ")\n",
    "\n",
    "aws_region = os.environ.get(\"AWS_DEFAULT_REGION\", None)\n",
    "print (colored(\"\\n== FM lists ==\", \"green\"))\n",
    "pprint (bedrock_info.get_list_fm_models())"
   ]
  },
  {
   "cell_type": "markdown",
   "id": "100a9b99-f66d-4447-805d-c29ee9f88c4f",
   "metadata": {},
   "source": [
    "## 2. Titan Embedding 및 LLM 인 Claude-v2 모델 로딩"
   ]
  },
  {
   "cell_type": "markdown",
   "id": "c84c0aea-2d43-493a-9538-648e5a453220",
   "metadata": {},
   "source": [
    "### LLM 로딩 (Claude-v2)"
   ]
  },
  {
   "cell_type": "code",
   "execution_count": 5,
   "id": "32924f36-0b17-4792-b382-92867c566e50",
   "metadata": {
    "tags": []
   },
   "outputs": [],
   "source": [
    "from langchain.llms.bedrock import Bedrock\n",
    "from langchain.callbacks.streaming_stdout import StreamingStdOutCallbackHandler"
   ]
  },
  {
   "cell_type": "code",
   "execution_count": 6,
   "id": "6fc13fa9-0452-4fbe-b07b-a54f1833655d",
   "metadata": {
    "tags": []
   },
   "outputs": [],
   "source": [
    "llm_text = Bedrock(\n",
    "    model_id=bedrock_info.get_model_id(model_name=\"Claude-V2\"),\n",
    "    client=boto3_bedrock,\n",
    "    model_kwargs={\n",
    "        \"max_tokens_to_sample\": 512\n",
    "    },\n",
    "    streaming=False,\n",
    "    callbacks=[StreamingStdOutCallbackHandler()]\n",
    ")"
   ]
  },
  {
   "cell_type": "markdown",
   "id": "0ac056c9-e2ad-496e-b38a-d739724202a4",
   "metadata": {},
   "source": [
    "### Embedding 모델 선택"
   ]
  },
  {
   "cell_type": "code",
   "execution_count": 7,
   "id": "061dcf18-4681-4f16-bfa3-c76d717f307f",
   "metadata": {
    "tags": []
   },
   "outputs": [],
   "source": [
    "from utils.rag import KoSimCSERobertaContentHandler, SagemakerEndpointEmbeddingsJumpStart"
   ]
  },
  {
   "cell_type": "code",
   "execution_count": 8,
   "id": "d85536e9-3416-4f7a-96a4-c539a6a5596f",
   "metadata": {
    "tags": []
   },
   "outputs": [],
   "source": [
    "def get_embedding_model(is_bedrock_embeddings, is_KoSimCSERobert, aws_region, endpont_name=None):\n",
    "    \n",
    "    if is_bedrock_embeddings:\n",
    "        # We will be using the Titan Embeddings Model to generate our Embeddings.\n",
    "        from langchain.embeddings import BedrockEmbeddings\n",
    "        llm_emb = BedrockEmbeddings(\n",
    "            client=boto3_bedrock,\n",
    "            model_id=bedrock_info.get_model_id(\n",
    "                model_name=\"Titan-Embeddings-G1\"\n",
    "            )\n",
    "        )\n",
    "        print(\"Bedrock Embeddings Model Loaded\")\n",
    "\n",
    "    elif is_KoSimCSERobert:\n",
    "        LLMEmbHandler = KoSimCSERobertaContentHandler()\n",
    "        endpoint_name_emb = endpont_name\n",
    "        llm_emb = SagemakerEndpointEmbeddingsJumpStart(\n",
    "            endpoint_name=endpoint_name_emb,\n",
    "            region_name=aws_region,\n",
    "            content_handler=LLMEmbHandler,\n",
    "        )        \n",
    "        print(\"KoSimCSERobert Embeddings Model Loaded\")\n",
    "    else:\n",
    "        llm_emb = None\n",
    "        print(\"No Embedding Model Selected\")\n",
    "    \n",
    "    return llm_emb"
   ]
  },
  {
   "cell_type": "markdown",
   "id": "83000f64-5855-45ee-b736-eb96e9ff0739",
   "metadata": {},
   "source": [
    "#### [중요] is_KoSimCSERobert == True 일시에 endpoint_name 을 꼭 넣어 주세요."
   ]
  },
  {
   "cell_type": "code",
   "execution_count": 9,
   "id": "dbbec6da-798a-419b-9e4e-b1cc417cfbfa",
   "metadata": {
    "tags": []
   },
   "outputs": [
    {
     "name": "stdout",
     "output_type": "stream",
     "text": [
      "Bedrock Embeddings Model Loaded\n"
     ]
    }
   ],
   "source": [
    "is_bedrock_embeddings = True\n",
    "is_KoSimCSERobert = False\n",
    "aws_region = os.environ.get(\"AWS_DEFAULT_REGION\", None)\n",
    "\n",
    "##############################\n",
    "# Parameters for is_KoSimCSERobert\n",
    "##############################\n",
    "if is_KoSimCSERobert: endpont_name = \"<endpoint-name>\"\n",
    "else: endpont_name = None\n",
    "##############################\n",
    "\n",
    "llm_emb = get_embedding_model(is_bedrock_embeddings, is_KoSimCSERobert, aws_region, endpont_name)   "
   ]
  },
  {
   "cell_type": "markdown",
   "id": "b69eff24-6ac7-4500-b5eb-9039fbe38c9f",
   "metadata": {},
   "source": [
    "## 3. Depoly ReRanker model (if needed)"
   ]
  },
  {
   "cell_type": "code",
   "execution_count": 10,
   "id": "f364b91e-b186-4920-aeca-857a34665a11",
   "metadata": {
    "tags": []
   },
   "outputs": [
    {
     "name": "stdout",
     "output_type": "stream",
     "text": [
      "sagemaker.config INFO - Not applying SDK defaults from location: /etc/xdg/sagemaker/config.yaml\n",
      "sagemaker.config INFO - Not applying SDK defaults from location: /home/ec2-user/.config/sagemaker/config.yaml\n"
     ]
    }
   ],
   "source": [
    "import json\n",
    "import sagemaker\n",
    "from sagemaker.huggingface import HuggingFaceModel"
   ]
  },
  {
   "cell_type": "code",
   "execution_count": 11,
   "id": "1d32b1f5-289b-4ba8-baa9-765501ef5b0e",
   "metadata": {
    "tags": []
   },
   "outputs": [],
   "source": [
    "depoly = False"
   ]
  },
  {
   "cell_type": "code",
   "execution_count": 12,
   "id": "9e73ea11-7dea-41b2-98fb-85de4e2851db",
   "metadata": {
    "tags": []
   },
   "outputs": [],
   "source": [
    "if depoly:\n",
    "\n",
    "    try:\n",
    "        role = sagemaker.get_execution_role()\n",
    "    except ValueError:\n",
    "        iam = boto3.client('iam')\n",
    "        role = iam.get_role(RoleName='sagemaker_execution_role')['Role']['Arn']\n",
    "\n",
    "    # Hub Model configuration. https://huggingface.co/models\n",
    "    hub = {\n",
    "        'HF_MODEL_ID':'BAAI/bge-reranker-large',\n",
    "        'HF_TASK':'text-classification'\n",
    "    }\n",
    "\n",
    "    # create Hugging Face Model Class\n",
    "    huggingface_model = HuggingFaceModel(\n",
    "        transformers_version='4.26.0',\n",
    "        pytorch_version='1.13.1',\n",
    "        py_version='py39',\n",
    "        env=hub,\n",
    "        role=role, \n",
    "    )\n",
    "\n",
    "    # deploy model to SageMaker Inference\n",
    "    predictor = huggingface_model.deploy(\n",
    "        initial_instance_count=1, # number of instances\n",
    "        instance_type='ml.g5.xlarge' # instance type\n",
    "    )\n",
    "\n",
    "    print(f'Accept: {predictor.accept}')\n",
    "    print(f'ContentType: {predictor.content_type}')\n",
    "    print(f'Endpoint: {predictor.endpoint}')"
   ]
  },
  {
   "cell_type": "markdown",
   "id": "a953ea43-3337-4300-8833-ec4b38840822",
   "metadata": {},
   "source": [
    "### Reranker"
   ]
  },
  {
   "cell_type": "code",
   "execution_count": 13,
   "id": "f0f90b69-27bb-412b-ba0a-2e2d768e92a0",
   "metadata": {
    "tags": []
   },
   "outputs": [],
   "source": [
    "#endpoint_name = \"huggingface-pytorch-inference-2023-11-15-04-37-45-120\" # ml.m5.2xlarge\n",
    "endpoint_name = \"huggingface-pytorch-inference-2023-11-15-07-53-21-605\" # ml.g5.xlarge"
   ]
  },
  {
   "cell_type": "code",
   "execution_count": 14,
   "id": "cd07db04-6140-4516-a279-bfc1a14cee7f",
   "metadata": {
    "tags": []
   },
   "outputs": [
    {
     "name": "stdout",
     "output_type": "stream",
     "text": [
      "runtime_client: <botocore.client.SageMakerRuntime object at 0x7f9c34275810>\n"
     ]
    }
   ],
   "source": [
    "runtime_client = boto3.Session().client('sagemaker-runtime')\n",
    "print (f'runtime_client: {runtime_client}')"
   ]
  },
  {
   "cell_type": "markdown",
   "id": "a14dee0e-7a7d-48c3-94ff-90db1cf89daf",
   "metadata": {},
   "source": [
    "## 4. LangChainmOpenSearch VectorStore 정의\n",
    "### 선수 조건\n",
    "- 01_preprocess_docs/02_load_docs_opensearch.ipynb를 통해서 OpenSearch Index 가 생성이 되어 있어야 합니다.\n",
    "#### [중요] 아래에 aws parameter store 에 아래 인증정보가 먼저 입력되어 있어야 합니다.\n",
    "- 01_preprocess_docs/01_parameter_store_example.ipynb 참고"
   ]
  },
  {
   "cell_type": "code",
   "execution_count": 15,
   "id": "d85af7d2-6b71-4125-8ba4-fa15406f5c3f",
   "metadata": {
    "tags": []
   },
   "outputs": [],
   "source": [
    "from utils.proc_docs import get_parameter"
   ]
  },
  {
   "cell_type": "code",
   "execution_count": 16,
   "id": "8b29f46c-154b-41fe-ab1a-d34af0a73b39",
   "metadata": {
    "tags": []
   },
   "outputs": [],
   "source": [
    "ssm = boto3.client(\"ssm\", \"us-east-1\")\n",
    "\n",
    "opensearch_domain_endpoint = get_parameter(\n",
    "    boto3_clinet = ssm,\n",
    "    parameter_name = 'knox_opensearch_domain_endpoint',\n",
    ")\n",
    "\n",
    "opensearch_user_id = get_parameter(\n",
    "    boto3_clinet = ssm,\n",
    "    parameter_name = 'knox_opensearch_userid',\n",
    ")\n",
    "\n",
    "opensearch_user_password = get_parameter(\n",
    "    boto3_clinet = ssm,\n",
    "    parameter_name = 'knox_opensearch_password',\n",
    ")\n",
    "\n",
    "http_auth = (opensearch_user_id, opensearch_user_password) # Master username, Master password"
   ]
  },
  {
   "cell_type": "markdown",
   "id": "354a0a15-e66c-4fd9-a555-13a15c80f327",
   "metadata": {},
   "source": [
    "### Index 이름 셋팅\n",
    "- 이전 노트북 01_preprocess_docs/02_load_docs_opensearch.ipynb를 통해서 생성된 OpenSearch Index name 입력"
   ]
  },
  {
   "cell_type": "code",
   "execution_count": 17,
   "id": "2bde847e-429f-47fa-87bf-36441a92c401",
   "metadata": {
    "tags": []
   },
   "outputs": [],
   "source": [
    "index_name = \"genai-poc-knox-cleaned-eval-sample-0.01-1024c-256o-v6\""
   ]
  },
  {
   "cell_type": "markdown",
   "id": "1b5ef81d-27b2-4d64-9e57-0324fc627a2c",
   "metadata": {},
   "source": [
    "### OpenSearch Client 생성"
   ]
  },
  {
   "cell_type": "code",
   "execution_count": 18,
   "id": "a81604ea-e7a0-4256-931e-849fca7be994",
   "metadata": {
    "tags": []
   },
   "outputs": [],
   "source": [
    "from utils.opensearch import opensearch_utils"
   ]
  },
  {
   "cell_type": "code",
   "execution_count": 19,
   "id": "b46578e5-6113-42d4-9e2c-e4446bb4cfca",
   "metadata": {
    "tags": []
   },
   "outputs": [],
   "source": [
    "os_client = opensearch_utils.create_aws_opensearch_client(\n",
    "    aws_region,\n",
    "    opensearch_domain_endpoint,\n",
    "    http_auth\n",
    ")"
   ]
  },
  {
   "cell_type": "markdown",
   "id": "1fa855f1-f8d4-4218-ab77-84d4f5f0238e",
   "metadata": {},
   "source": [
    "### LangChain OpenSearch VectorStore 생성"
   ]
  },
  {
   "cell_type": "code",
   "execution_count": 20,
   "id": "b86443bb-ff05-4bac-a8cf-d708552fbbfb",
   "metadata": {
    "tags": []
   },
   "outputs": [],
   "source": [
    "from langchain.vectorstores import OpenSearchVectorSearch"
   ]
  },
  {
   "cell_type": "code",
   "execution_count": 21,
   "id": "51568769-47a2-42cd-90dd-02469094619b",
   "metadata": {
    "tags": []
   },
   "outputs": [
    {
     "data": {
      "text/plain": [
       "<langchain.vectorstores.opensearch_vector_search.OpenSearchVectorSearch at 0x7f9c47d5cf40>"
      ]
     },
     "execution_count": 21,
     "metadata": {},
     "output_type": "execute_result"
    }
   ],
   "source": [
    "vector_db = OpenSearchVectorSearch(\n",
    "    index_name=index_name,\n",
    "    opensearch_url=opensearch_domain_endpoint,\n",
    "    embedding_function=llm_emb,\n",
    "    http_auth=http_auth, # http_auth\n",
    "    is_aoss =False,\n",
    "    engine=\"faiss\",\n",
    "    space_type=\"l2\"\n",
    ")\n",
    "vector_db"
   ]
  },
  {
   "cell_type": "markdown",
   "id": "d44452ad-1945-4a1a-a18a-fd1f899814bb",
   "metadata": {},
   "source": [
    "## 5. Retriever 정의"
   ]
  },
  {
   "cell_type": "code",
   "execution_count": 22,
   "id": "409937f9-e4f3-4f2f-90a8-9b13641d3700",
   "metadata": {
    "tags": []
   },
   "outputs": [],
   "source": [
    "from utils.rag import OpenSearchHybridSearchRetriever"
   ]
  },
  {
   "cell_type": "code",
   "execution_count": 23,
   "id": "c1606bcd-502c-461b-9458-5e400e97ed92",
   "metadata": {
    "tags": []
   },
   "outputs": [],
   "source": [
    "opensearch_hybrid_retriever = OpenSearchHybridSearchRetriever(\n",
    "    os_client=os_client,\n",
    "    vector_db=vector_db,\n",
    "    index_name=index_name,\n",
    "\n",
    "    # option for lexical\n",
    "    minimum_should_match=0,\n",
    "    filter=[],\n",
    "\n",
    "    # option for rank fusion\n",
    "    fusion_algorithm=\"RRF\", # [\"RRF\", \"simple_weighted\"], rank fusion 방식 정의\n",
    "    ensemble_weights=[.5, .5], # [for lexical, for semantic], Lexical, Semantic search 결과에 대한 최종 반영 비율 정의\n",
    "    reranker=False, # enable reranker with reranker model\n",
    "    reranker_endpoint_name=endpoint_name, # endpoint name for reranking model\n",
    "    rag_fusion=True, # enable rag_fusion\n",
    "    query_augmentation_size=3, # query_augmentation_size in rag_fusion\n",
    "    llm_text=llm_text, # llm for query augmentation in rag_fusion\n",
    "    \n",
    "    # option for async search\n",
    "    async_mode=True,\n",
    "\n",
    "    # option for output\n",
    "    k=5, # 최종 Document 수 정의\n",
    "    verbose=False,\n",
    ")"
   ]
  },
  {
   "cell_type": "code",
   "execution_count": 24,
   "id": "7333a947-d0d0-41a6-8dcc-adb3d58c2e8e",
   "metadata": {
    "tags": []
   },
   "outputs": [
    {
     "data": {
      "text/plain": [
       "[Document(page_content=\"Knox Capture. Knox Capture is an Android solution that lets enterprise IT admins transform their organization's Samsung Galaxy smartphones and tablets into powerful barcode scanners that can read, process, and output barcode information to other applications, all without requiring additional hardware or writing a single line of code. Learn more Supported devices and countries Knox Capture is only available for select Android devices, and in certain countries. For the most up-to-date list of devices that Knox Capture supports, see Devices Secured by Knox. For a list of countries that Knox Capture currently supports, see Supported locations. #Unsupported devices The following Samsung 32-bit devices are not supported by Knox Capture: A series: A01, A02s, A03Core, A04s, A11, A13, A13-5G, F serieis: F02s, F13, M series: M02s, M01, M11, M13, M13-5G What's new with Knox Capture Stay up-to-date with the latest Knox Capture product information and content updates. #Latest release notes , Knox Capture v1\", metadata={'source': 'all_processed_data.json', 'seq_num': 5, 'title': 'Knox Capture', 'url': 'https://docs.samsungknox.com/admin/knox-capture', 'project': 'KCAP', 'last_updated': '2023-10-16', 'id': '38f9c483-a185-4a52-a042-9244894704a7'}),\n",
       " Document(page_content=\"Manage licenses. Customers who download Knox Capture from Google Play and use it for the first time are automatically given a trial license that allows them to try the app and perform up to 100 free scans. After the free scan limit has been reached, a valid Knox Suite license is required for continued use. Get a Knox Suite license The first step towards getting a Knox Suite license is signing up for a Samsung Knox account if you haven't already done so. Refer to our detailed walkthrough of the account set up process for more information. Once you have an account, do the following: 1. Apply for access to Knox Suite. Refer to Apply for access to Knox Suite to learn more. 2. Once you sign in to the Knox Admin Portal, navigate to the Licenses page to generate your Knox Capture license. Refer to the Manage other licenses section of the Knox Admin Portal's how-to guide for a detailed walkthrough. 3. Once you generate your Knox Suite license, use the key to activate your Knox Capture license\", metadata={'source': 'all_processed_data.json', 'seq_num': 15, 'title': 'Manage licenses', 'url': 'https://docs.samsungknox.com/admin/knox-capture/how-to-guides/manage-licenses', 'project': 'KCAP', 'last_updated': '2023-10-16', 'id': '3b4660bb-b0b9-4707-b1b6-20d7d772cf7f'}),\n",
       " Document(page_content='. Knox Capture pads the left side of the string with zeros until the desired length is reached. 1 Replace string &mdash; Replaces a specific string with a new, specified string. You must specify both strings. None Remove characters When sending data, removes a specific number of characters from the given positions. You must provide the start position and the number of characters to remove. Start position: 1 Number of characters: 1 Data sending Controls a selected amount of data to send to business apps. Send next characters &mdash; Sends a specific number of characters from the current cursor position. 1 Send remaining characters &mdash; Sends all data after the current cursor position. None Send up to substring &mdash; Sends all data up to a specific string. None Send pause &mdash; Pauses all actions for a specific number of milliseconds (max. 120000). 50ms Send string &mdash; Sends a specific string when the corresponding rule is triggered', metadata={'source': 'all_processed_data.json', 'seq_num': 9, 'title': 'Configure keystroke output and data formatting', 'url': 'https://docs.samsungknox.com/admin/knox-capture/how-to-guides/configure-keystroke-output-and-data-formatting', 'project': 'KCAP', 'last_updated': '2023-07-26'}),\n",
       " Document(page_content=\"AR overview. The Knox Capture AR (Augmented Reality) is a feature that allows users to view important, business-critical information on the device screen when peforming a barcode scan. Normally, whenever a user launches the scanner, aims their camera at one or more barcodes, and captures the barcode data, Knox Capture simply passes the barcode information back to the business-app for review for the user to review. There is no way for the user to interact with any of the information until it reaches the business-app. To some organizations, scanning several barcodes and reviewing the data only _after_ it reaches the business-app can be inefficient, especially if the information isn't what they were looking for in the first place. This could lead to re-scans and additional worker overhead in order to capture the proper data\", metadata={'source': 'all_processed_data.json', 'seq_num': 20, 'title': 'AR overview', 'url': 'https://docs.samsungknox.com/admin/knox-capture/how-to-guides/ar/ar-overview', 'project': 'KCAP', 'last_updated': '2023-07-26'}),\n",
       " Document(page_content='Knox Capture v1.7 release notes. New features #Launch of Samsung Knox Capture The most significant addition to Knox Capture v1.7 is the launch of a brand new, Samsung-developed scan engine that provides the same great feature-set as the Scandit engine, while also laying the foundations for Samsung to deliver exciting, industry-leading features to our customers in future releases. New customers will see an option to select their scan engine preference - either Knox Capture or Knox Capture: Scandit Edition - when launching the app for the first time and accepting the Knox Capture partner agreements. New customers can test the features of Knox Capture, and perform up to 100 free scans during their trial period, after which a valid Knox Suite license is required for commercial use. See Manage Knox Capture licenses to learn more about the new Knox Suite licensing requirements', metadata={'source': 'all_processed_data.json', 'seq_num': 34, 'title': 'Knox Capture v1.7 release notes', 'url': 'https://docs.samsungknox.com/admin/knox-capture/release-notes/v1-7', 'project': 'KCAP', 'last_updated': '2023-07-26', 'id': '5e8dc1e9-9538-41de-b39a-57101d7631b9'})]"
      ]
     },
     "execution_count": 24,
     "metadata": {},
     "output_type": "execute_result"
    }
   ],
   "source": [
    "search_hybrid_result = opensearch_hybrid_retriever.get_relevant_documents(\"knox\")\n",
    "search_hybrid_result"
   ]
  },
  {
   "cell_type": "markdown",
   "id": "05c569db-1a1d-4bbf-a713-28cf6b745982",
   "metadata": {},
   "source": [
    "## 6. RAG chain 정의"
   ]
  },
  {
   "cell_type": "code",
   "execution_count": 25,
   "id": "da9df137-076d-4230-865e-4f9ed9651062",
   "metadata": {
    "tags": []
   },
   "outputs": [],
   "source": [
    "from langchain.chains import RetrievalQA\n",
    "from langchain.prompts import PromptTemplate"
   ]
  },
  {
   "cell_type": "markdown",
   "id": "b95251a1-6dd8-4794-86d9-65b855ed27cb",
   "metadata": {},
   "source": [
    "### Prompting\n",
    "- [TIP] Prompt의 instruction의 경우 한글보다 영어로 했을 때 더 좋은 결과를 얻을 수 있습니다."
   ]
  },
  {
   "cell_type": "code",
   "execution_count": 26,
   "id": "5e05b8bd-ccb0-4f49-9e5c-0869a9afa11d",
   "metadata": {
    "tags": []
   },
   "outputs": [],
   "source": [
    "prompt_template = \"\"\"\n",
    "\\n\\nHuman: Here is the context, inside <context></context> XML tags.\n",
    "\n",
    "<context>\n",
    "{context}\n",
    "</context>\n",
    "\n",
    "Only using the context as above, answer the following question with the rules as below:\n",
    "    - Don't insert XML tag such as <context> and </context> when answering.\n",
    "    - Write as much as you can\n",
    "    - Be courteous and polite\n",
    "    - Only answer the question if you can find the answer in the context with certainty.\n",
    "\n",
    "Question:\n",
    "{question}\n",
    "\n",
    "If the answer is not in the context, just say \"Could not find answer in given contexts.\"\n",
    "\n",
    "\\n\\nAssistant:\"\"\"\n",
    "\n",
    "PROMPT = PromptTemplate(\n",
    "    template=prompt_template, input_variables=[\"context\", \"question\"]\n",
    ")"
   ]
  },
  {
   "cell_type": "markdown",
   "id": "2a758bc7-87a1-44fb-9b36-e17e987b1513",
   "metadata": {},
   "source": [
    "### Update Search Params (Optional)"
   ]
  },
  {
   "cell_type": "code",
   "execution_count": 32,
   "id": "31c68b6f-1606-455d-bd37-c467cf240b7c",
   "metadata": {
    "tags": []
   },
   "outputs": [],
   "source": [
    "opensearch_hybrid_retriever.update_search_params(\n",
    "    k=5,\n",
    "    minimum_should_match=0,\n",
    "    filter=[],\n",
    "    reranker=True,\n",
    "    reranker_endpoint_name=endpoint_name,\n",
    "    hyde=True, # enable hyde\n",
    "    hyde_query=[\"web_search\"], # query type in hyde \n",
    "    llm_text=llm_text,\n",
    "    verbose=False\n",
    ")"
   ]
  },
  {
   "cell_type": "code",
   "execution_count": 33,
   "id": "2b2256fe-9b42-4570-9c05-d395405a534b",
   "metadata": {
    "tags": []
   },
   "outputs": [],
   "source": [
    "qa_chain = RetrievalQA.from_chain_type(\n",
    "    llm=llm_text,\n",
    "    chain_type=\"stuff\",\n",
    "    retriever=opensearch_hybrid_retriever,\n",
    "    return_source_documents=True,\n",
    "    chain_type_kwargs={\n",
    "        \"prompt\": PROMPT,\n",
    "        \"verbose\": False,\n",
    "    },\n",
    "    verbose=False\n",
    ")"
   ]
  },
  {
   "cell_type": "code",
   "execution_count": 34,
   "id": "b9e62fab-c78b-4dea-ac19-02ad28134d94",
   "metadata": {
    "tags": []
   },
   "outputs": [
    {
     "data": {
      "text/plain": [
       "{'query': 'How does RKP protect critical kernel data structures from modification?',\n",
       " 'result': \" Unfortunately I could not find the answer to how RKP protects critical kernel data structures from modification in the given context. The context talks about Knox Capture, which is Samsung's barcode scanning and data capture solution, and does not mention RKP or protection of kernel data structures.\",\n",
       " 'source_documents': [Document(page_content=\". Rebooting the device has no impact on saved scan data. In multi-scan sessions where the user leaves the business app and returns, they are prompted to either continue the original scan session or begin a new one. If the user navigates to a different business app to initiate a scan instead, the original scan data is discarded. New indicators for tested app activities When testing configurations in Admin mode, IT admins can now view a list of created app activities under the profile. Any activity not visible in the list behaves under the default profile. After being tested, each activity displays a green checkmark to its right to indicate its tested status. Refer to Check a configuration in test mode to learn more. Hardware scanner support Knox Capture v1.2 adds support for USB and Bluetooth hardware scanners. After the scanner is paired or connected, IT admins and end users can switch between their device's camera and the scanner for seamless data capture and delivery to business apps. Currently, v1\", metadata={'source': 'all_processed_data.json', 'seq_num': 29, 'title': 'Knox Capture v1.2 release notes', 'url': 'https://docs.samsungknox.com/admin/knox-capture/release-notes/v1-2', 'project': 'KCAP', 'last_updated': '2023-07-26'}),\n",
       "  Document(page_content=\"Overview. Get started with the basics by learning what Knox Capture is and how it works. What is Knox Capture? To help explain what Knox Capture does, it may be helpful to start with an understanding of what a *wedge* scanner is, and how it relates to the Knox Capture solution. In traditional hardware-based barcode scanning terminology, a wedge scanner is a physical device that attaches between a keyboard and a computer. The keyboard attaches to the scanner, and the scanner attaches to the computer. From the computer's perspective, the scanner behaves just like an additional keyboard. When the computer runs a software program (like an inventory spreadsheet app), and barcodes are read using the wedge scanner, data is sent from the scanner to the program in the form of keystrokes. From the program's point of view, data appears exactly as if someone had typed it manually using a keyboard. How Knox Capture works In a similar way, Knox Capture also acts as a wedge between a software program and keyboard\", metadata={'source': 'all_processed_data.json', 'seq_num': 3, 'title': 'Overview', 'url': 'https://docs.samsungknox.com/admin/knox-capture/overview', 'project': 'KCAP', 'last_updated': '2023-07-26', 'id': '6d6fdcc9-799b-423d-ad90-648585bddfcb'}),\n",
       "  Document(page_content=\". For a full list of supported devices, see Supported devices. Keystroke output support in WP-C deployments In previous Knox Capture versions, if an IT admin activated a KPE Premium license with a WP-C deployment, remote injection was blocked in WP-C mode. As a workaround, `AdvancedRestrictionPolicy.allowRemoteControl()` must be set to True to support keystroke output. With this release, keystroke output in WP-C deployments is supported regardless of whether `AdvancedRestrictionPolicy.allowRemoteControl()` is set to True. Keystroke output support is not yet available for Galaxy S20 devices. You must use the aforementioned workaround to use keystroke output on Galaxy S20 devices. Option to disable default profile IT admins can now enable or disable the default profile. If you create profiles for several applications and don't want the default profile's behavior to override any configurations, set the default profile to Off. The default profile setting is available on the Knox Capture main page\", metadata={'source': 'all_processed_data.json', 'seq_num': 29, 'title': 'Knox Capture v1.2 release notes', 'url': 'https://docs.samsungknox.com/admin/knox-capture/release-notes/v1-2', 'project': 'KCAP', 'last_updated': '2023-07-26'}),\n",
       "  Document(page_content='. End-users: Get started with Knox Capture - Learn how to review scanning profile settings, configure hardware key settings, and perform barcode scans from a business app as a device end-user. #How-to topics For in-depth explanations and detailed walkthroughs of key Knox Capture features, refer to the following how-to topics for more information: Manage licenses - Learn about the Knox Capture licensing procedure, and how to switch between Knox Capture and Knox Capture: Scandit Edition licenses on the app. Scanning profiles - Learn how profiles work, what the default profile does, and how to create new profiles for different scanning scenarios. Apps and activities - The component of every scanning profile that defines which busiess apps can launch the camera scanner. Learn how apps and activities work, and how you can customize them in the scanning profiles. Scan engine settings - These settings define how barcodes are scanned, and what happens with the data after each scan', metadata={'source': 'all_processed_data.json', 'seq_num': 3, 'title': 'Overview', 'url': 'https://docs.samsungknox.com/admin/knox-capture/overview', 'project': 'KCAP', 'last_updated': '2023-07-26', 'id': '269b8a10-559a-4d2c-aa44-f8f897edbec6'}),\n",
       "  Document(page_content=\"Scanning profiles. Knox Capture acts as a wedge by translating barcode data into keystrokes that can be sent to a business application. But how does Knox Capture know what barcode types to scan, how to interpret scanned data, and which business applications to pass the data to? For Knox Capture, the *Scanning profile* defines the app's core behavior. A Scanning Profile is a configuration file that gets created or modified by an IT admin using the Knox Capture application. The profile defines how Knox Capture performs a barcode scan, and primarily consists of the following parameters: 1. Apps and activities - define which applications that can launch the Knox Capture scanner. 2. Scanner engine settings - specifying the barcode technologies (QR, Code 128, UPCA, etc.), scanning methods (single barcode, multi barcode), and camera behavior (enable flash, allow camera zoom). 3\", metadata={'source': 'all_processed_data.json', 'seq_num': 13, 'title': 'Scanning profiles', 'url': 'https://docs.samsungknox.com/admin/knox-capture/how-to-guides/create-scanning-profiles', 'project': 'KCAP', 'last_updated': '2023-07-26', 'id': '73f0b3d4-d548-4dd9-8ea4-1f8162c2c805'})]}"
      ]
     },
     "execution_count": 34,
     "metadata": {},
     "output_type": "execute_result"
    }
   ],
   "source": [
    "query = \"How does RKP protect critical kernel data structures from modification?\"\n",
    "response = qa_chain(query)\n",
    "response"
   ]
  },
  {
   "cell_type": "markdown",
   "id": "fa285db7-31bf-4a82-816e-37abd5ed44af",
   "metadata": {
    "tags": []
   },
   "source": [
    "## 3.Evaluation\n",
    " - [langchain evaluator](https://python.langchain.com/docs/guides/evaluation/string/criteria_eval_chain)"
   ]
  },
  {
   "cell_type": "markdown",
   "id": "4d2fcc99-ab79-49b4-89a7-b51f3a62fc18",
   "metadata": {},
   "source": [
    "### Load ground truth"
   ]
  },
  {
   "cell_type": "code",
   "execution_count": 35,
   "id": "d3637807-9266-457e-b512-e697f951c405",
   "metadata": {
    "tags": []
   },
   "outputs": [],
   "source": [
    "import pandas as pd"
   ]
  },
  {
   "cell_type": "code",
   "execution_count": 36,
   "id": "d0403c51-23b5-4e3f-a2ec-7302d6711e4b",
   "metadata": {
    "tags": []
   },
   "outputs": [],
   "source": [
    "ground_thruth = pd.read_csv(\"eval_dataset.csv\")"
   ]
  },
  {
   "cell_type": "code",
   "execution_count": 37,
   "id": "b96d03e0-cf64-4644-9578-3411883dfafa",
   "metadata": {
    "tags": []
   },
   "outputs": [],
   "source": [
    "import time\n",
    "import datetime\n",
    "from langchain.evaluation import Criteria\n",
    "from langchain.evaluation import EvaluatorType\n",
    "from langchain.evaluation import load_evaluator"
   ]
  },
  {
   "cell_type": "code",
   "execution_count": 38,
   "id": "bb3aab6f-ab32-4ea2-b1e7-43e7694f1849",
   "metadata": {
    "tags": []
   },
   "outputs": [
    {
     "data": {
      "text/plain": [
       "[<Criteria.CONCISENESS: 'conciseness'>,\n",
       " <Criteria.RELEVANCE: 'relevance'>,\n",
       " <Criteria.CORRECTNESS: 'correctness'>,\n",
       " <Criteria.COHERENCE: 'coherence'>,\n",
       " <Criteria.HARMFULNESS: 'harmfulness'>,\n",
       " <Criteria.MALICIOUSNESS: 'maliciousness'>,\n",
       " <Criteria.HELPFULNESS: 'helpfulness'>,\n",
       " <Criteria.CONTROVERSIALITY: 'controversiality'>,\n",
       " <Criteria.MISOGYNY: 'misogyny'>,\n",
       " <Criteria.CRIMINALITY: 'criminality'>,\n",
       " <Criteria.INSENSITIVITY: 'insensitivity'>,\n",
       " <Criteria.DEPTH: 'depth'>,\n",
       " <Criteria.CREATIVITY: 'creativity'>,\n",
       " <Criteria.DETAIL: 'detail'>]"
      ]
     },
     "execution_count": 38,
     "metadata": {},
     "output_type": "execute_result"
    }
   ],
   "source": [
    "list(Criteria)"
   ]
  },
  {
   "cell_type": "code",
   "execution_count": 39,
   "id": "8a680e82-980e-48d6-ae2d-e9e40535134e",
   "metadata": {
    "tags": []
   },
   "outputs": [],
   "source": [
    "evaluator = load_evaluator(\n",
    "    EvaluatorType.LABELED_CRITERIA,\n",
    "    llm=llm_text,\n",
    "    criteria=Criteria.CORRECTNESS\n",
    ")"
   ]
  },
  {
   "cell_type": "markdown",
   "id": "4d471116-d2e3-4411-979f-ba56f2ca2e7a",
   "metadata": {},
   "source": [
    "### Check prompt for evaluation"
   ]
  },
  {
   "cell_type": "code",
   "execution_count": 40,
   "id": "ab03e1d6-1209-4908-bf75-e7564a4590fa",
   "metadata": {
    "tags": []
   },
   "outputs": [
    {
     "name": "stdout",
     "output_type": "stream",
     "text": [
      "{'criteria': 'correctness: Is the submission correct, accurate, and factual?'}\n",
      "==\n",
      "You are assessing a submitted answer on a given task or input based on a set of criteria. Here is the data:\n",
      "[BEGIN DATA]\n",
      "***\n",
      "[Input]: {input}\n",
      "***\n",
      "[Submission]: {output}\n",
      "***\n",
      "[Criteria]: {criteria}\n",
      "***\n",
      "[Reference]: {reference}\n",
      "***\n",
      "[END DATA]\n",
      "Does the submission meet the Criteria? First, write out in a step by step manner your reasoning about each criterion to be sure that your conclusion is correct. Avoid simply stating the correct answers at the outset. Then print only the single character \"Y\" or \"N\" (without quotes or punctuation) on its own line corresponding to the correct answer of whether the submission meets all criteria. At the end, repeat just the letter again by itself on a new line.\n"
     ]
    }
   ],
   "source": [
    "print(evaluator.prompt.partial_variables)\n",
    "print(\"==\")\n",
    "print(evaluator.prompt.template)"
   ]
  },
  {
   "cell_type": "code",
   "execution_count": 41,
   "id": "dc03ab59-0757-43e0-8a70-7c82edaa286e",
   "metadata": {
    "tags": []
   },
   "outputs": [
    {
     "data": {
      "text/html": [
       "<div>\n",
       "<style scoped>\n",
       "    .dataframe tbody tr th:only-of-type {\n",
       "        vertical-align: middle;\n",
       "    }\n",
       "\n",
       "    .dataframe tbody tr th {\n",
       "        vertical-align: top;\n",
       "    }\n",
       "\n",
       "    .dataframe thead th {\n",
       "        text-align: right;\n",
       "    }\n",
       "</style>\n",
       "<table border=\"1\" class=\"dataframe\">\n",
       "  <thead>\n",
       "    <tr style=\"text-align: right;\">\n",
       "      <th></th>\n",
       "      <th>question</th>\n",
       "      <th>answer</th>\n",
       "      <th>doc_id</th>\n",
       "      <th>doc</th>\n",
       "    </tr>\n",
       "  </thead>\n",
       "  <tbody>\n",
       "    <tr>\n",
       "      <th>0</th>\n",
       "      <td>How does Knox Capture translate barcode data i...</td>\n",
       "      <td>Knox Capture translates barcode data into keys...</td>\n",
       "      <td>7ed2d1f4-6876-45d5-a18f-c66674a92d12</td>\n",
       "      <td>. When an end-user launches their business app...</td>\n",
       "    </tr>\n",
       "    <tr>\n",
       "      <th>1</th>\n",
       "      <td>What are the two modes that Knox Capture can o...</td>\n",
       "      <td>Knox Capture can operate in Admin mode, or in ...</td>\n",
       "      <td>7ed2d1f4-6876-45d5-a18f-c66674a92d12</td>\n",
       "      <td>. When an end-user launches their business app...</td>\n",
       "    </tr>\n",
       "    <tr>\n",
       "      <th>2</th>\n",
       "      <td>How can a user access support within the app?</td>\n",
       "      <td>To access support within the app, one should t...</td>\n",
       "      <td>421c9d9c-15b7-48bf-b96d-a7679a525fb9</td>\n",
       "      <td>Troubleshoot. Access support from the app To a...</td>\n",
       "    </tr>\n",
       "    <tr>\n",
       "      <th>3</th>\n",
       "      <td>What steps should a user take to retrieve an a...</td>\n",
       "      <td>A user should go to the Support page within th...</td>\n",
       "      <td>421c9d9c-15b7-48bf-b96d-a7679a525fb9</td>\n",
       "      <td>Troubleshoot. Access support from the app To a...</td>\n",
       "    </tr>\n",
       "    <tr>\n",
       "      <th>4</th>\n",
       "      <td>How can a user view the current scanning confi...</td>\n",
       "      <td>An end-user can view the current scanning conf...</td>\n",
       "      <td>d0534fd8-8bb5-45a7-b34f-dbda584f610a</td>\n",
       "      <td>End-user get started. This tutorial guides an ...</td>\n",
       "    </tr>\n",
       "  </tbody>\n",
       "</table>\n",
       "</div>"
      ],
      "text/plain": [
       "                                            question  \\\n",
       "0  How does Knox Capture translate barcode data i...   \n",
       "1  What are the two modes that Knox Capture can o...   \n",
       "2      How can a user access support within the app?   \n",
       "3  What steps should a user take to retrieve an a...   \n",
       "4  How can a user view the current scanning confi...   \n",
       "\n",
       "                                              answer  \\\n",
       "0  Knox Capture translates barcode data into keys...   \n",
       "1  Knox Capture can operate in Admin mode, or in ...   \n",
       "2  To access support within the app, one should t...   \n",
       "3  A user should go to the Support page within th...   \n",
       "4  An end-user can view the current scanning conf...   \n",
       "\n",
       "                                 doc_id  \\\n",
       "0  7ed2d1f4-6876-45d5-a18f-c66674a92d12   \n",
       "1  7ed2d1f4-6876-45d5-a18f-c66674a92d12   \n",
       "2  421c9d9c-15b7-48bf-b96d-a7679a525fb9   \n",
       "3  421c9d9c-15b7-48bf-b96d-a7679a525fb9   \n",
       "4  d0534fd8-8bb5-45a7-b34f-dbda584f610a   \n",
       "\n",
       "                                                 doc  \n",
       "0  . When an end-user launches their business app...  \n",
       "1  . When an end-user launches their business app...  \n",
       "2  Troubleshoot. Access support from the app To a...  \n",
       "3  Troubleshoot. Access support from the app To a...  \n",
       "4  End-user get started. This tutorial guides an ...  "
      ]
     },
     "execution_count": 41,
     "metadata": {},
     "output_type": "execute_result"
    }
   ],
   "source": [
    "ground_thruth.head()"
   ]
  },
  {
   "cell_type": "code",
   "execution_count": null,
   "id": "86542331-d9eb-4e90-8de0-4ed770f84b62",
   "metadata": {
    "tags": []
   },
   "outputs": [
    {
     "name": "stdout",
     "output_type": "stream",
     "text": [
      "\u001b[31mQuestion: \u001b[0m \u001b[31mHow does Knox Capture translate barcode data into keystrokes?\u001b[0m\n",
      "\u001b[32mGroundTruth: \u001b[0m \u001b[32mKnox Capture translates barcode data into keystrokes by passing them back to the business applications for processing, which then allow them to appear exactly as if a user had typed them from the device's keyboard\u001b[0m\n",
      "\u001b[34mPrediction: \u001b[0m \u001b[34m According to the context, Knox Capture acts as a wedge between a software program and keyboard by translating barcode data into keystrokes that can be sent to a business application. The context mentions:\n",
      "\n",
      "\"In a similar way, Knox Capture also acts as a wedge between a software program and keyboard by translating barcode data into keystrokes, which then get passed back to the business app for processing. From the business app's point of view, keystrokes coming from Knox Capture appear exactly as if a user had typed them from the device keyboard.\"\n",
      "\n",
      "So Knox Capture translates barcode data into keystrokes which are then sent to the business application, appearing to the application as if they were manually typed on the keyboard.\u001b[0m\n",
      "ReRanker similarity: 0.9997900128364563\n",
      "Langchain correctness: 1\n",
      "has_right_context: 1\n",
      "true_context_rank: 1/5\n",
      "mrr: 1.000\n",
      "latency: 0:00:19.699338 secs\n",
      "\u001b[31mQuestion: \u001b[0m \u001b[31mWhat are the two modes that Knox Capture can operate in, and how do the features vary between them?\u001b[0m\n",
      "\u001b[32mGroundTruth: \u001b[0m \u001b[32mKnox Capture can operate in Admin mode, or in End-user mode. When in Admin mode the features are more extensive\u001b[0m\n",
      "\u001b[34mPrediction: \u001b[0m \u001b[34m Based on the context provided, Knox Capture can operate in two modes:\n",
      "\n",
      "Admin mode - This is the default mode of operation. In Admin mode, users can test scanning profiles, configure settings like barcode types and keystroke output, and export configuration files to deploy through an EMM/UEM. Features like test mode are available in Admin mode.\n",
      "\n",
      "Managed mode - When a configuration file is pushed to a device through an EMM/UEM, the device enters Managed mode. In this mode, configurations applied in Admin mode are removed. Managed mode disables test mode and clears any test results.\u001b[0m\n",
      "ReRanker similarity: 0.997134804725647\n",
      "Langchain correctness: 0\n",
      "has_right_context: 0\n",
      "true_context_rank: 0/5\n",
      "mrr: 0.000\n",
      "latency: 0:00:09.678431 secs\n",
      "\u001b[31mQuestion: \u001b[0m \u001b[31mHow can a user access support within the app?\u001b[0m\n",
      "\u001b[32mGroundTruth: \u001b[0m \u001b[32mTo access support within the app, one should tap the more actions menu icon to the right of the Profiles list label and then select the Support option\u001b[0m\n",
      "\u001b[34mPrediction: \u001b[0m \u001b[34m To access support within the app, tap the more actions menu icon to the right of the Profiles list label. Then tap the Support option to launch the Support page.\u001b[0m\n",
      "ReRanker similarity: 0.9999206066131592\n",
      "Langchain correctness: 1\n",
      "has_right_context: 1\n",
      "true_context_rank: 1/5\n",
      "mrr: 1.000\n",
      "latency: 0:00:12.671870 secs\n",
      "\u001b[31mQuestion: \u001b[0m \u001b[31mWhat steps should a user take to retrieve an app log to send to the enterprise IT admin when opening a support ticket?\u001b[0m\n",
      "\u001b[32mGroundTruth: \u001b[0m \u001b[32mA user should go to the Support page within the app, tap the Email app log to Admin option, and then send the resulting email to the IT admin\u001b[0m\n",
      "\u001b[34mPrediction: \u001b[0m \u001b[34m Based on the context, to retrieve an app log to send to the enterprise IT admin when opening a support ticket, the user should:\n",
      "\n",
      "1. Expand the more actions menu in Managed mode on the home screen and tap Support.\n",
      "2. Tap E-mail app log to Admin to launch the device's default email app. The email app opens a new message with the compressed log file attached. \n",
      "3. Send the email to the enterprise IT admin.\n",
      "4. Open a support ticket in the Knox Admin Portal.\u001b[0m\n",
      "ReRanker similarity: 0.9968984127044678\n",
      "Langchain correctness: 1\n",
      "has_right_context: 1\n",
      "true_context_rank: 1/5\n",
      "mrr: 1.000\n",
      "latency: 0:00:12.390987 secs\n",
      "\u001b[31mQuestion: \u001b[0m \u001b[31mHow can a user view the current scanning configuration in Knox Capture?\u001b[0m\n",
      "\u001b[32mGroundTruth: \u001b[0m \u001b[32mAn end-user can view the current scanning configuration in Knox Capture by following the steps below: 1. Tap the options button in the home screen of Knox Capture. 2. Tap \"View current configuration\" in the options menu\u001b[0m\n",
      "\u001b[34mPrediction: \u001b[0m \u001b[34m According to the context, to view the current scanning configuration in Knox Capture:\n",
      "\n",
      "1. Tap the options button to view the scanning configuration details, access support, and view data about the app. \n",
      "\n",
      "2. Tap View current configuration in the options menu.\n",
      "\n",
      "3. On the Current configuration page, tap a profile name in the list to review its details.\u001b[0m\n",
      "ReRanker similarity: 0.9997990727424622\n",
      "Langchain correctness: 1\n",
      "has_right_context: 1\n",
      "true_context_rank: 1/5\n",
      "mrr: 1.000\n",
      "latency: 0:00:08.396450 secs\n",
      "\u001b[31mQuestion: \u001b[0m \u001b[31mWhat must a user do after reviewing the Privacy Policy and EULA terms the first time Knox Capture is launched?\u001b[0m\n",
      "\u001b[32mGroundTruth: \u001b[0m \u001b[32mTap Agree to move to the home screen\u001b[0m\n",
      "\u001b[34mPrediction: \u001b[0m \u001b[34m Tap Agree to move to the home screen.\u001b[0m\n",
      "ReRanker similarity: 0.999927282333374\n",
      "Langchain correctness: 1\n",
      "has_right_context: 1\n",
      "true_context_rank: 1/5\n",
      "mrr: 1.000\n",
      "latency: 0:00:05.383581 secs\n",
      "\u001b[31mQuestion: \u001b[0m \u001b[31mHow do you launch the Samsung Internet app in the example workflow?\u001b[0m\n",
      "\u001b[32mGroundTruth: \u001b[0m \u001b[32m1. Launch the Samsung Internet app by tapping its icon on the home screen or apps screen.\n",
      "2. The Samsung Internet app is already launched in the provided example context\u001b[0m\n",
      "\u001b[34mPrediction: \u001b[0m \u001b[34m Based on the context, to launch the Samsung Internet app in the example workflow:\n",
      "\n",
      "1. Launch the app.\u001b[0m\n",
      "ReRanker similarity: 0.999754011631012\n",
      "Langchain correctness: 0\n",
      "has_right_context: 1\n",
      "true_context_rank: 1/5\n",
      "mrr: 1.000\n",
      "latency: 0:00:04.980321 secs\n",
      "\u001b[31mQuestion: \u001b[0m \u001b[31mWhat does Knox Capture do automatically after focusing on a barcode in the example workflow?\u001b[0m\n",
      "\u001b[32mGroundTruth: \u001b[0m \u001b[32mAfter focusing, Knox Capture automatically records and processes the captured data\u001b[0m\n",
      "\u001b[34mPrediction: \u001b[0m \u001b[34m After focusing on a barcode in the example workflow, Knox Capture automatically records and processes the captured data. Specifically, step 4 in the example states: \"Once the camera is triggered, point it at the following sample barcode: After focusing, Knox Capture automatically records and processes the captured data.\"\u001b[0m\n",
      "ReRanker similarity: 0.9996602535247803\n",
      "Langchain correctness: 1\n",
      "has_right_context: 1\n",
      "true_context_rank: 1/5\n",
      "mrr: 1.000\n",
      "latency: 0:00:08.862702 secs\n",
      "\u001b[31mQuestion: \u001b[0m \u001b[31mWhat are the 3 barcode scanning modes mentioned in the context?\u001b[0m\n",
      "\u001b[32mGroundTruth: \u001b[0m \u001b[32mThe 3 barcode scanning modes mentioned in the context are \"Batch,\" \"Aim and scan,\" and \"Tap to select.\u001b[0m\n",
      "\u001b[34mPrediction: \u001b[0m \u001b[34m Based on the provided context, the 3 barcode scanning modes mentioned are:\n",
      "\n",
      "- Single scan (Scans and parses one barcode at a time) \n",
      "- Multi scan (Detects multiple barcodes in the scan area at the same time)\n",
      "- Batch (Lets the user scan multiple barcodes in a single camera frame using the scan button)\u001b[0m\n",
      "ReRanker similarity: 0.9995927214622498\n",
      "Langchain correctness: 0\n",
      "has_right_context: 1\n",
      "true_context_rank: 5/5\n",
      "mrr: 0.200\n",
      "latency: 0:00:07.485201 secs\n"
     ]
    }
   ],
   "source": [
    "evaluation = []\n",
    "for row in ground_thruth.itertuples():\n",
    "    question, answer, doc, doc_id = getattr(row, \"question\"), getattr(row, \"answer\"), getattr(row, \"doc\"), getattr(row, \"doc_id\")\n",
    "    \n",
    "    start = time.time()\n",
    "    response = qa_chain(question)    \n",
    "    elapsed = time.time() - start\n",
    "\n",
    "    prediction = response[\"result\"]\n",
    "    retrieved_docs = {doc.page_content: idx+1 for idx, doc in enumerate(response[\"source_documents\"])}\n",
    "    contexts = \"\\n\\n\".join(retrieved_docs.keys())\n",
    "\n",
    "    payload = json.dumps(\n",
    "        {\n",
    "            \"inputs\": [\n",
    "                {\"text\": answer, \"text_pair\": prediction},\n",
    "            ]\n",
    "        }\n",
    "    )\n",
    "\n",
    "    response = runtime_client.invoke_endpoint(\n",
    "        EndpointName=endpoint_name,\n",
    "        ContentType=\"application/json\",\n",
    "        Accept=\"application/json\",\n",
    "        Body=payload\n",
    "    )\n",
    "    out = json.loads(response['Body'].read().decode()) ## for json\n",
    "\n",
    "    eval_result = evaluator.evaluate_strings(\n",
    "        input=question,\n",
    "        prediction=prediction,\n",
    "        reference=answer,\n",
    "    )\n",
    "\n",
    "    reranker_sim = out[0][\"score\"]\n",
    "    langchain_correctness = eval_result[\"score\"]\n",
    "    if doc in retrieved_docs:\n",
    "        true_context_rank = retrieved_docs[doc]\n",
    "        has_right_context = 1\n",
    "        mrr = 1/true_context_rank\n",
    "    else:\n",
    "        true_context_rank = has_right_context = 0\n",
    "        mrr = 0\n",
    "    total_contexts = len(retrieved_docs)\n",
    "    latency = datetime.timedelta(seconds=elapsed)\n",
    "    \n",
    "    print(colored(\"Question: \", \"red\"), colored(question, \"red\"))\n",
    "    print(colored(\"GroundTruth: \", \"green\"), colored(answer, \"green\"))\n",
    "    print(colored(\"Prediction: \", \"blue\"), colored(prediction, \"blue\"))\n",
    "    print(f'ReRanker similarity: {reranker_sim}')\n",
    "    print(f'Langchain correctness: {langchain_correctness}')\n",
    "    print(f'has_right_context: {has_right_context}')\n",
    "    print(f'true_context_rank: {true_context_rank}/{total_contexts}')\n",
    "    print(f'mrr: {mrr:.3f}')\n",
    "    print(f'latency: {latency} secs')\n",
    "\n",
    "    evaluation.append([question, answer, prediction, \\\n",
    "                       has_right_context, true_context_rank, total_contexts, mrr, \\\n",
    "                       reranker_sim, langchain_correctness, elapsed, contexts])\n",
    "\n",
    "eval_results = pd.DataFrame(\n",
    "    evaluation,\n",
    "    columns=[\"question\", \"true_answer\", \"prediction\", \\\n",
    "             \"has_right_context\", \"true_context_rank\", \"total_contexts\", \"mrr\", \\\n",
    "             \"reranker_sim\", \"langchain_correctness\", \"latency\", \"contexts\"]\n",
    ")\n",
    "eval_results.to_csv(\"eval_results.csv\", index=False)\n",
    "#eval_results.to_pickle(\"eval_results.pkl\")"
   ]
  },
  {
   "cell_type": "code",
   "execution_count": null,
   "id": "ca4b0065-b086-43ba-96be-8a04387d6525",
   "metadata": {},
   "outputs": [],
   "source": []
  },
  {
   "cell_type": "code",
   "execution_count": null,
   "id": "6927207f-a6a9-47c6-9cf4-dbd9c814c463",
   "metadata": {},
   "outputs": [],
   "source": []
  }
 ],
 "metadata": {
  "kernelspec": {
   "display_name": "conda_python3",
   "language": "python",
   "name": "conda_python3"
  },
  "language_info": {
   "codemirror_mode": {
    "name": "ipython",
    "version": 3
   },
   "file_extension": ".py",
   "mimetype": "text/x-python",
   "name": "python",
   "nbconvert_exporter": "python",
   "pygments_lexer": "ipython3",
   "version": "3.10.12"
  }
 },
 "nbformat": 4,
 "nbformat_minor": 5
}
