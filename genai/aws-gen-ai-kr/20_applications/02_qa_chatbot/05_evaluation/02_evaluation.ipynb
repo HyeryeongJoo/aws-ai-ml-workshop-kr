{
 "cells": [
  {
   "cell_type": "markdown",
   "id": "b3549227-a8fc-473d-af32-6bf3aee353b2",
   "metadata": {},
   "source": [
    "# Evaluation\n",
    "- For retriever\n",
    "- For generator"
   ]
  },
  {
   "cell_type": "markdown",
   "id": "bd731477-d5aa-4f55-878d-9d38a7e37019",
   "metadata": {},
   "source": [
    "## Setting\n",
    " - Auto Reload\n",
    " - path for utils"
   ]
  },
  {
   "cell_type": "code",
   "execution_count": 1,
   "id": "e72acb41-2495-4835-8e8b-3e5bb5f703b4",
   "metadata": {
    "tags": []
   },
   "outputs": [],
   "source": [
    "%load_ext autoreload\n",
    "%autoreload 2"
   ]
  },
  {
   "cell_type": "code",
   "execution_count": 2,
   "id": "bd4c2205-9b56-4ac9-977d-e00a00daab38",
   "metadata": {
    "tags": []
   },
   "outputs": [],
   "source": [
    "import sys, os\n",
    "module_path = \"../../..\"\n",
    "sys.path.append(os.path.abspath(module_path))"
   ]
  },
  {
   "cell_type": "markdown",
   "id": "01670eb4-8f19-497d-837e-d9788e0a05f3",
   "metadata": {},
   "source": [
    "## 1. Bedrock Client 생성"
   ]
  },
  {
   "cell_type": "code",
   "execution_count": 3,
   "id": "1f9dcbdc-0667-4bff-afcf-0c4b5ace273b",
   "metadata": {
    "tags": []
   },
   "outputs": [],
   "source": [
    "import json\n",
    "import boto3\n",
    "from pprint import pprint\n",
    "from termcolor import colored\n",
    "from utils import bedrock, print_ww\n",
    "from utils.bedrock import bedrock_info"
   ]
  },
  {
   "cell_type": "markdown",
   "id": "259021cc-1d69-458e-879c-80076fc57c64",
   "metadata": {},
   "source": [
    "### ---- ⚠️ Un-comment and edit the below lines as needed for your AWS setup ⚠️ ----\n",
    "- os.environ[\"AWS_DEFAULT_REGION\"] = \"<REGION_NAME>\"  # E.g. \"us-east-1\"\n",
    "- os.environ[\"AWS_PROFILE\"] = \"<YOUR_PROFILE>\"\n",
    "- os.environ[\"BEDROCK_ASSUME_ROLE\"] = \"<YOUR_ROLE_ARN>\"  # E.g. \"arn:aws:...\"\n",
    "- os.environ[\"BEDROCK_ENDPOINT_URL\"] = \"<YOUR_ENDPOINT_URL>\"  # E.g. \"https://...\""
   ]
  },
  {
   "cell_type": "code",
   "execution_count": 4,
   "id": "9fde1bf1-d608-46ef-969e-40fe49b77ec5",
   "metadata": {
    "tags": []
   },
   "outputs": [
    {
     "name": "stdout",
     "output_type": "stream",
     "text": [
      "Create new client\n",
      "  Using region: None\n",
      "  Using profile: None\n",
      "boto3 Bedrock client successfully created!\n",
      "bedrock-runtime(https://bedrock-runtime.us-east-1.amazonaws.com)\n",
      "\u001b[32m\n",
      "== FM lists ==\u001b[0m\n",
      "{'Claude-Instant-V1': 'anthropic.claude-instant-v1',\n",
      " 'Claude-V1': 'anthropic.claude-v1',\n",
      " 'Claude-V2': 'anthropic.claude-v2',\n",
      " 'Cohere-Embeddings-En': 'cohere.embed-english-v3',\n",
      " 'Cohere-Embeddings-Multilingual': 'cohere.embed-multilingual-v3',\n",
      " 'Command': 'cohere.command-text-v14',\n",
      " 'Command-Light': 'cohere.command-light-text-v14',\n",
      " 'Jurassic-2-Mid': 'ai21.j2-mid-v1',\n",
      " 'Jurassic-2-Ultra': 'ai21.j2-ultra-v1',\n",
      " 'Llama2-13b-Chat': 'meta.llama2-13b-chat-v1',\n",
      " 'Titan-Embeddings-G1': 'amazon.titan-embed-text-v1',\n",
      " 'Titan-Text-G1': 'amazon.titan-text-express-v1',\n",
      " 'Titan-Text-G1-Light': 'amazon.titan-text-lite-v1'}\n"
     ]
    }
   ],
   "source": [
    "boto3_bedrock = bedrock.get_bedrock_client(\n",
    "    assumed_role=os.environ.get(\"BEDROCK_ASSUME_ROLE\", None),\n",
    "    endpoint_url=os.environ.get(\"BEDROCK_ENDPOINT_URL\", None),\n",
    "    region=os.environ.get(\"AWS_DEFAULT_REGION\", None),\n",
    ")\n",
    "\n",
    "aws_region = os.environ.get(\"AWS_DEFAULT_REGION\", None)\n",
    "print (colored(\"\\n== FM lists ==\", \"green\"))\n",
    "pprint (bedrock_info.get_list_fm_models())"
   ]
  },
  {
   "cell_type": "markdown",
   "id": "100a9b99-f66d-4447-805d-c29ee9f88c4f",
   "metadata": {},
   "source": [
    "## 2.LLM 로딩 (Jurassic)"
   ]
  },
  {
   "cell_type": "code",
   "execution_count": 5,
   "id": "32924f36-0b17-4792-b382-92867c566e50",
   "metadata": {
    "tags": []
   },
   "outputs": [],
   "source": [
    "from langchain.llms.bedrock import Bedrock\n",
    "from langchain.callbacks.streaming_stdout import StreamingStdOutCallbackHandler"
   ]
  },
  {
   "cell_type": "code",
   "execution_count": 6,
   "id": "6fc13fa9-0452-4fbe-b07b-a54f1833655d",
   "metadata": {
    "tags": []
   },
   "outputs": [],
   "source": [
    "llm_claude = Bedrock(\n",
    "    model_id=bedrock_info.get_model_id(model_name=\"Claude-V2\"),\n",
    "    client=boto3_bedrock,\n",
    "    model_kwargs={\n",
    "        \"max_tokens_to_sample\": 512\n",
    "    },\n",
    "    streaming=False,\n",
    "    callbacks=[StreamingStdOutCallbackHandler()]\n",
    ")\n",
    "\n",
    "llm_evaluator = Bedrock(\n",
    "    model_id=bedrock_info.get_model_id(model_name=\"Jurassic-2-Ultra\"),\n",
    "    client=boto3_bedrock,\n",
    "    model_kwargs={\n",
    "        #\"max_tokens\": 512,\n",
    "        \"maxTokens\": 512\n",
    "    },\n",
    "    streaming=False,\n",
    "    callbacks=[StreamingStdOutCallbackHandler()]\n",
    ")"
   ]
  },
  {
   "cell_type": "code",
   "execution_count": null,
   "id": "08556a5a-92c7-4448-a648-9d1c928cf173",
   "metadata": {},
   "outputs": [],
   "source": []
  },
  {
   "cell_type": "markdown",
   "id": "fa285db7-31bf-4a82-816e-37abd5ed44af",
   "metadata": {
    "tags": []
   },
   "source": [
    "## 3.Evaluation\n",
    " - [langchain evaluator](https://python.langchain.com/docs/guides/evaluation/string/criteria_eval_chain)"
   ]
  },
  {
   "cell_type": "code",
   "execution_count": 7,
   "id": "d3637807-9266-457e-b512-e697f951c405",
   "metadata": {
    "tags": []
   },
   "outputs": [],
   "source": [
    "import pandas as pd"
   ]
  },
  {
   "cell_type": "code",
   "execution_count": 8,
   "id": "d0403c51-23b5-4e3f-a2ec-7302d6711e4b",
   "metadata": {
    "tags": []
   },
   "outputs": [],
   "source": [
    "ground_thruth = pd.read_csv(\"eval_dataset.csv\")"
   ]
  },
  {
   "cell_type": "code",
   "execution_count": 9,
   "id": "30d88b89-03e7-4105-9e96-c596cd7a634f",
   "metadata": {
    "tags": []
   },
   "outputs": [],
   "source": [
    "### 3.1"
   ]
  },
  {
   "cell_type": "markdown",
   "id": "fea6d3ad-240a-48b4-85a0-c9f40b4c4fec",
   "metadata": {},
   "source": [
    "### 3.2 generation evaluator"
   ]
  },
  {
   "cell_type": "code",
   "execution_count": 10,
   "id": "b96d03e0-cf64-4644-9578-3411883dfafa",
   "metadata": {
    "tags": []
   },
   "outputs": [],
   "source": [
    "from langchain.evaluation import Criteria\n",
    "from langchain.evaluation import EvaluatorType\n",
    "from langchain.evaluation import load_evaluator"
   ]
  },
  {
   "cell_type": "code",
   "execution_count": 11,
   "id": "bb3aab6f-ab32-4ea2-b1e7-43e7694f1849",
   "metadata": {
    "tags": []
   },
   "outputs": [
    {
     "data": {
      "text/plain": [
       "[<Criteria.CONCISENESS: 'conciseness'>,\n",
       " <Criteria.RELEVANCE: 'relevance'>,\n",
       " <Criteria.CORRECTNESS: 'correctness'>,\n",
       " <Criteria.COHERENCE: 'coherence'>,\n",
       " <Criteria.HARMFULNESS: 'harmfulness'>,\n",
       " <Criteria.MALICIOUSNESS: 'maliciousness'>,\n",
       " <Criteria.HELPFULNESS: 'helpfulness'>,\n",
       " <Criteria.CONTROVERSIALITY: 'controversiality'>,\n",
       " <Criteria.MISOGYNY: 'misogyny'>,\n",
       " <Criteria.CRIMINALITY: 'criminality'>,\n",
       " <Criteria.INSENSITIVITY: 'insensitivity'>,\n",
       " <Criteria.DEPTH: 'depth'>,\n",
       " <Criteria.CREATIVITY: 'creativity'>,\n",
       " <Criteria.DETAIL: 'detail'>]"
      ]
     },
     "execution_count": 11,
     "metadata": {},
     "output_type": "execute_result"
    }
   ],
   "source": [
    "list(Criteria)"
   ]
  },
  {
   "cell_type": "code",
   "execution_count": 13,
   "id": "8a680e82-980e-48d6-ae2d-e9e40535134e",
   "metadata": {
    "tags": []
   },
   "outputs": [],
   "source": [
    "evaluator = load_evaluator(\n",
    "    EvaluatorType.LABELED_CRITERIA,\n",
    "    llm=llm_evaluator,\n",
    "    criteria=Criteria.CORRECTNESS\n",
    ")"
   ]
  },
  {
   "cell_type": "markdown",
   "id": "4d471116-d2e3-4411-979f-ba56f2ca2e7a",
   "metadata": {},
   "source": [
    "### Check prompt for evaluation"
   ]
  },
  {
   "cell_type": "raw",
   "id": "1bdc797e-19e4-4121-8d1e-3503db760c90",
   "metadata": {
    "tags": []
   },
   "source": [
    "print(evaluator.prompt.partial_variables)\n",
    "print(\"==\")\n",
    "print(evaluator.prompt.template)"
   ]
  },
  {
   "cell_type": "code",
   "execution_count": 14,
   "id": "dc03ab59-0757-43e0-8a70-7c82edaa286e",
   "metadata": {
    "tags": []
   },
   "outputs": [
    {
     "data": {
      "text/html": [
       "<div>\n",
       "<style scoped>\n",
       "    .dataframe tbody tr th:only-of-type {\n",
       "        vertical-align: middle;\n",
       "    }\n",
       "\n",
       "    .dataframe tbody tr th {\n",
       "        vertical-align: top;\n",
       "    }\n",
       "\n",
       "    .dataframe thead th {\n",
       "        text-align: right;\n",
       "    }\n",
       "</style>\n",
       "<table border=\"1\" class=\"dataframe\">\n",
       "  <thead>\n",
       "    <tr style=\"text-align: right;\">\n",
       "      <th></th>\n",
       "      <th>question</th>\n",
       "      <th>answer</th>\n",
       "      <th>doc_id</th>\n",
       "      <th>doc</th>\n",
       "    </tr>\n",
       "  </thead>\n",
       "  <tbody>\n",
       "    <tr>\n",
       "      <th>0</th>\n",
       "      <td>How do you obtain the Knox E-FOTA client APK t...</td>\n",
       "      <td>To obtain the Knox E-FOTA client APK, go to th...</td>\n",
       "      <td>287d4520-4a12-4155-9894-5bde9855f147</td>\n",
       "      <td>Install an app through an EMM. Explains how to...</td>\n",
       "    </tr>\n",
       "    <tr>\n",
       "      <th>1</th>\n",
       "      <td>What are the three general steps involved in i...</td>\n",
       "      <td>1. Obtain the Knox E-FOTA client APK, 2. Add K...</td>\n",
       "      <td>287d4520-4a12-4155-9894-5bde9855f147</td>\n",
       "      <td>Install an app through an EMM. Explains how to...</td>\n",
       "    </tr>\n",
       "    <tr>\n",
       "      <th>2</th>\n",
       "      <td>How can you search for specific EMM groups in ...</td>\n",
       "      <td>You can search for specific EMM groups by name...</td>\n",
       "      <td>e701c1d1-77a5-497c-b178-d02c9e0a921a</td>\n",
       "      <td>Manage EMM groups. Explains all the tools you ...</td>\n",
       "    </tr>\n",
       "    <tr>\n",
       "      <th>3</th>\n",
       "      <td>What happens when an EMM group's status change...</td>\n",
       "      <td>When an EMM group's status changes from the in...</td>\n",
       "      <td>e701c1d1-77a5-497c-b178-d02c9e0a921a</td>\n",
       "      <td>Manage EMM groups. Explains all the tools you ...</td>\n",
       "    </tr>\n",
       "    <tr>\n",
       "      <th>4</th>\n",
       "      <td>What are the two steps required before you can...</td>\n",
       "      <td>You must add the required app to Blackberry an...</td>\n",
       "      <td>b557f573-4ab7-4737-ba5e-ead566f3e34a</td>\n",
       "      <td>Prerequisites for connecting to Blackberry. De...</td>\n",
       "    </tr>\n",
       "  </tbody>\n",
       "</table>\n",
       "</div>"
      ],
      "text/plain": [
       "                                            question  \\\n",
       "0  How do you obtain the Knox E-FOTA client APK t...   \n",
       "1  What are the three general steps involved in i...   \n",
       "2  How can you search for specific EMM groups in ...   \n",
       "3  What happens when an EMM group's status change...   \n",
       "4  What are the two steps required before you can...   \n",
       "\n",
       "                                              answer  \\\n",
       "0  To obtain the Knox E-FOTA client APK, go to th...   \n",
       "1  1. Obtain the Knox E-FOTA client APK, 2. Add K...   \n",
       "2  You can search for specific EMM groups by name...   \n",
       "3  When an EMM group's status changes from the in...   \n",
       "4  You must add the required app to Blackberry an...   \n",
       "\n",
       "                                 doc_id  \\\n",
       "0  287d4520-4a12-4155-9894-5bde9855f147   \n",
       "1  287d4520-4a12-4155-9894-5bde9855f147   \n",
       "2  e701c1d1-77a5-497c-b178-d02c9e0a921a   \n",
       "3  e701c1d1-77a5-497c-b178-d02c9e0a921a   \n",
       "4  b557f573-4ab7-4737-ba5e-ead566f3e34a   \n",
       "\n",
       "                                                 doc  \n",
       "0  Install an app through an EMM. Explains how to...  \n",
       "1  Install an app through an EMM. Explains how to...  \n",
       "2  Manage EMM groups. Explains all the tools you ...  \n",
       "3  Manage EMM groups. Explains all the tools you ...  \n",
       "4  Prerequisites for connecting to Blackberry. De...  "
      ]
     },
     "execution_count": 14,
     "metadata": {},
     "output_type": "execute_result"
    }
   ],
   "source": [
    "ground_thruth.head()"
   ]
  },
  {
   "cell_type": "markdown",
   "id": "408061b1-a7fb-4f1f-9387-68c1ab34285d",
   "metadata": {},
   "source": [
    "### Set reranker model"
   ]
  },
  {
   "cell_type": "code",
   "execution_count": 15,
   "id": "feb07953-4794-4e44-bf3d-f025fa0c9cda",
   "metadata": {
    "tags": []
   },
   "outputs": [],
   "source": [
    "import json\n",
    "import boto3\n",
    "from termcolor import colored"
   ]
  },
  {
   "cell_type": "code",
   "execution_count": 16,
   "id": "910e7144-96a3-476a-a958-40ec86fa3220",
   "metadata": {
    "tags": []
   },
   "outputs": [
    {
     "name": "stdout",
     "output_type": "stream",
     "text": [
      "runtime_client: <botocore.client.SageMakerRuntime object at 0x7f43e3b4a8f0>\n"
     ]
    }
   ],
   "source": [
    "runtime_client = boto3.Session().client('sagemaker-runtime')\n",
    "print (f'runtime_client: {runtime_client}')"
   ]
  },
  {
   "cell_type": "code",
   "execution_count": 17,
   "id": "20e3365e-288e-4712-9536-e61cd0b2f9f7",
   "metadata": {
    "tags": []
   },
   "outputs": [],
   "source": [
    "#endpoint_name = \"huggingface-pytorch-inference-2023-11-15-04-37-45-120\" # ml.m5.2xlarge\n",
    "endpoint_name = \"huggingface-pytorch-inference-2023-11-15-07-53-21-605\" # ml.g5.xlarge\n",
    "deserializer = \"application/json\""
   ]
  },
  {
   "cell_type": "code",
   "execution_count": null,
   "id": "0c5ce942-77f9-458b-bc45-9c3b92292d70",
   "metadata": {},
   "outputs": [],
   "source": []
  },
  {
   "cell_type": "code",
   "execution_count": null,
   "id": "e19f926a-a73a-43d8-9ca3-65fe8caa636f",
   "metadata": {},
   "outputs": [],
   "source": []
  },
  {
   "cell_type": "code",
   "execution_count": 18,
   "id": "f60cf459-63e2-4e34-8961-68b9b9bf49df",
   "metadata": {
    "tags": []
   },
   "outputs": [],
   "source": [
    "from langchain.chains import LLMChain\n",
    "from langchain.prompts import PromptTemplate\n",
    "\n",
    "generation_prompt_template = \"\"\"\n",
    "Here is the context, inside <context></context> XML tags.\n",
    "\n",
    "<context>\n",
    "{context}\n",
    "</context>\n",
    "\n",
    "Only using the context as above, answer the following question with the rules as below:\n",
    "    - Don't insert XML tag such as <context> and </context> when answering.\n",
    "    - Write as much as you can\n",
    "    - Be courteous and polite\n",
    "    - Only answer the question if you can find the answer in the context with certainty.\n",
    "    - Use three sentences maximum and keep the answer concise.\n",
    "    - If the answer is not in the context, just say \"Could not find answer in given contexts.\"\n",
    "\n",
    "Question:\n",
    "{question}\n",
    "\n",
    "Answer:\"\"\"\n",
    "\n",
    "PROMPT_GENERATION = PromptTemplate(\n",
    "    template=generation_prompt_template, input_variables=[\"context\", \"question\"]\n",
    ")\n",
    "\n",
    "llm_chain_generation = LLMChain(llm=llm_claude, prompt=PROMPT_GENERATION)"
   ]
  },
  {
   "cell_type": "code",
   "execution_count": null,
   "id": "6f8de2ed-f04b-40ff-a851-6ca2efe9fe68",
   "metadata": {},
   "outputs": [],
   "source": []
  },
  {
   "cell_type": "code",
   "execution_count": 19,
   "id": "a1929a16-4b7f-44ea-9889-32e2f0f5b032",
   "metadata": {
    "tags": []
   },
   "outputs": [
    {
     "name": "stdout",
     "output_type": "stream",
     "text": [
      "\u001b[31mQuestion: \u001b[0m \u001b[31mHow do you obtain the Knox E-FOTA client APK that is required to install the app through an EMM?\u001b[0m\n",
      "\u001b[32mGroundTruth: \u001b[0m \u001b[32mTo obtain the Knox E-FOTA client APK, go to the Devices page, select All Devices, and click Direct Download. A download link for the APK file will be displayed, which can be copied to download the file to the local machine\u001b[0m\n",
      "\u001b[34mPrediction: \u001b[0m \u001b[34m Go to Devices > All Devices. Click Direct Download. In the Direct Download popup, copy the download link for the APK file. The APK file is downloaded to your local machine.\u001b[0m\n",
      "ReRanker similarity: 0.9997283816337585\n",
      "Langchain correctness: 0\n",
      "\u001b[31mQuestion: \u001b[0m \u001b[31mWhat are the three general steps involved in installing an app like Knox E-FOTA using an EMM?\u001b[0m\n",
      "\u001b[32mGroundTruth: \u001b[0m \u001b[32m1. Obtain the Knox E-FOTA client APK, 2. Add Knox E-FOTA as an internal application and assign it, and 3. Set a policy to install the app to your target devices\u001b[0m\n",
      "\u001b[34mPrediction: \u001b[0m \u001b[34m Based on the given context, the three general steps involved in installing an app like Knox E-FOTA using an EMM are:\n",
      "\n",
      "1. Obtain the Knox E-FOTA client APK. \n",
      "\n",
      "2. In your EMM's console, add the Knox E-FOTA client as an internal app.\n",
      "\n",
      "3. Set a policy to install the app to your target devices.\u001b[0m\n",
      "ReRanker similarity: 0.9999086856842041\n",
      "Langchain correctness: 1\n",
      "\u001b[31mQuestion: \u001b[0m \u001b[31mHow can you search for specific EMM groups in the Knox E-FOTA console?\u001b[0m\n",
      "\u001b[32mGroundTruth: \u001b[0m \u001b[32mYou can search for specific EMM groups by name - including partial names - on the Manage EMM groups page to sync only the desired device groups. Additionally, you can toggle on the Sync switch of an EMM group to individually sync that group\u001b[0m\n",
      "\u001b[34mPrediction: \u001b[0m \u001b[34m Based on the given context, the answer is:\n",
      "\n",
      "You can search for specific EMM groups by name - including partial names - on the Manage EMM groups page to sync only the desired device groups.\u001b[0m\n",
      "ReRanker similarity: 0.9999276399612427\n",
      "Langchain correctness: 1\n",
      "\u001b[31mQuestion: \u001b[0m \u001b[31mWhat happens when an EMM group's status changes from Synced to something else according to the policies outlined?\u001b[0m\n",
      "\u001b[32mGroundTruth: \u001b[0m \u001b[32mWhen an EMM group's status changes from the initial Synced status to something else, all its members will follow the new status. For example, if the EMM group is unenrolled, all its members will also be unenrolled\u001b[0m\n",
      "\u001b[34mPrediction: \u001b[0m \u001b[34m Based on the provided context, when an EMM group's status changes from the initial Synced status to something else, all its members will follow the new status. For example, if you assign Group 1 to Campaign B, all its members, including Device A, will also be assigned to Campaign B.\u001b[0m\n",
      "ReRanker similarity: 0.9999275207519531\n",
      "Langchain correctness: 1\n",
      "\u001b[31mQuestion: \u001b[0m \u001b[31mWhat are the two steps required before you can start connecting to Blackberry?\u001b[0m\n",
      "\u001b[32mGroundTruth: \u001b[0m \u001b[32mYou must add the required app to Blackberry and create a client ID and client secret\u001b[0m\n",
      "\u001b[34mPrediction: \u001b[0m \u001b[34m Based on the given context, the two steps required before connecting to Blackberry are:\n",
      "\n",
      "1. Add the app in Blackberry account.\n",
      "2. Create a client ID and client secret in Blackberry.\u001b[0m\n",
      "ReRanker similarity: 0.9975178241729736\n",
      "Langchain correctness: 1\n",
      "\u001b[31mQuestion: \u001b[0m \u001b[31mWhat information do you need to download from Blackberry after registering a client in order to connect to Blackberry from the Knox Admin Portal?\u001b[0m\n",
      "\u001b[32mGroundTruth: \u001b[0m \u001b[32mYou need to download the client's details in JSON format\u001b[0m\n",
      "\u001b[34mPrediction: \u001b[0m \u001b[34m Based on the given context, to connect to Blackberry from the Knox Admin Portal, you need to download the client's details in JSON format after registering a client in Blackberry. This can be done by clicking Download in the upper-right corner of the screen. The downloaded client details contain the information needed to connect to Blackberry from the Knox Admin Portal.\u001b[0m\n",
      "ReRanker similarity: 0.9955219030380249\n",
      "Langchain correctness: None\n",
      "\u001b[31mQuestion: \u001b[0m \u001b[31mHow do you find your IBM account's billing ID that is needed to connect IBM device groups to Knox E-FOTA?\u001b[0m\n",
      "\u001b[32mGroundTruth: \u001b[0m \u001b[32mTo locate your IBM account's billing ID that is used to connect IBM device groups to Knox E-FOTA, look in the footer of the IBM MaaS 360 admin portal when you are signed in. The information can be found there\u001b[0m\n",
      "\u001b[34mPrediction: \u001b[0m \u001b[34m Could not find answer in given contexts. The context does not mention how to find the IBM account's billing ID. It only states that the billing ID is needed when entering credentials to connect IBM device groups to Knox E-FOTA.\u001b[0m\n",
      "ReRanker similarity: 0.8123616576194763\n",
      "Langchain correctness: 1\n",
      "\u001b[31mQuestion: \u001b[0m \u001b[31mWhat four credentials do you need to enter when connecting your IBM account to Knox E-FOTA?\u001b[0m\n",
      "\u001b[32mGroundTruth: \u001b[0m \u001b[32mWhen connecting your IBM account to Knox E-FOTA, you need the following four credentials: URL, Billing ID, Username, and Password\u001b[0m\n",
      "\u001b[34mPrediction: \u001b[0m \u001b[34m URL, Billing ID, Username, and Password.\u001b[0m\n",
      "ReRanker similarity: 0.9999263286590576\n",
      "Langchain correctness: None\n"
     ]
    },
    {
     "name": "stderr",
     "output_type": "stream",
     "text": [
      "\n",
      "KeyboardInterrupt\n",
      "\n"
     ]
    }
   ],
   "source": [
    "for row in ground_thruth.itertuples():\n",
    "    question, answer = getattr(row, \"question\"), getattr(row, \"answer\")\n",
    "    \n",
    "    doc = getattr(row, \"doc\")\n",
    "    prediction = llm_chain_generation.predict(\n",
    "        question=question,\n",
    "        context=doc\n",
    "    )    \n",
    "    payload = json.dumps(\n",
    "        {\n",
    "            \"inputs\": [\n",
    "                {\"text\": answer, \"text_pair\": prediction},\n",
    "            ]\n",
    "        }\n",
    "    )\n",
    "    \n",
    "    response = runtime_client.invoke_endpoint(\n",
    "        EndpointName=endpoint_name,\n",
    "        ContentType=\"application/json\",\n",
    "        Accept=deserializer,\n",
    "        Body=payload\n",
    "    )\n",
    "    ## deserialization\n",
    "    out = json.loads(response['Body'].read().decode()) ## for json\n",
    "    \n",
    "    eval_result = evaluator.evaluate_strings(\n",
    "        input=question,\n",
    "        prediction=prediction,\n",
    "        reference=answer,\n",
    "    )\n",
    "    \n",
    "    print (colored(\"Question: \", \"red\"), colored(question, \"red\"))\n",
    "    print (colored(\"GroundTruth: \", \"green\"), colored(answer, \"green\"))\n",
    "    print (colored(\"Prediction: \", \"blue\"), colored(prediction, \"blue\"))\n",
    "    print (f'ReRanker similarity: {out[0][\"score\"]}')\n",
    "    print (f'Langchain correctness: {eval_result[\"score\"]}')"
   ]
  },
  {
   "cell_type": "code",
   "execution_count": null,
   "id": "7ace3eaa-044e-4720-8b0c-c82b403ba3b0",
   "metadata": {},
   "outputs": [],
   "source": []
  },
  {
   "cell_type": "code",
   "execution_count": null,
   "id": "e31d61a3-58fd-400c-b496-553fb6984ffd",
   "metadata": {},
   "outputs": [],
   "source": []
  },
  {
   "cell_type": "code",
   "execution_count": null,
   "id": "ed441a49-e69b-494c-b7c4-01efdda19d21",
   "metadata": {},
   "outputs": [],
   "source": []
  },
  {
   "cell_type": "code",
   "execution_count": null,
   "id": "4048d8c5-9370-4bec-8a1d-310b0314ace2",
   "metadata": {},
   "outputs": [],
   "source": []
  },
  {
   "cell_type": "code",
   "execution_count": null,
   "id": "47c38f6a-3de8-4eff-a4a0-3651b5d90518",
   "metadata": {
    "tags": []
   },
   "outputs": [],
   "source": []
  },
  {
   "cell_type": "code",
   "execution_count": null,
   "id": "ef3d7e99-0869-4ad0-9ce2-9a850662ba14",
   "metadata": {
    "tags": []
   },
   "outputs": [],
   "source": []
  }
 ],
 "metadata": {
  "kernelspec": {
   "display_name": "conda_python3",
   "language": "python",
   "name": "conda_python3"
  },
  "language_info": {
   "codemirror_mode": {
    "name": "ipython",
    "version": 3
   },
   "file_extension": ".py",
   "mimetype": "text/x-python",
   "name": "python",
   "nbconvert_exporter": "python",
   "pygments_lexer": "ipython3",
   "version": "3.10.12"
  }
 },
 "nbformat": 4,
 "nbformat_minor": 5
}
