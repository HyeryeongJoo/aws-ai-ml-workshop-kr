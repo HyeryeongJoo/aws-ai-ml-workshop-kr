{
 "cells": [
  {
   "cell_type": "markdown",
   "id": "b3549227-a8fc-473d-af32-6bf3aee353b2",
   "metadata": {},
   "source": [
    "# Evaluation\n",
    "- For retriever\n",
    "- For generator"
   ]
  },
  {
   "cell_type": "markdown",
   "id": "bd731477-d5aa-4f55-878d-9d38a7e37019",
   "metadata": {},
   "source": [
    "## Setting\n",
    " - Auto Reload\n",
    " - path for utils"
   ]
  },
  {
   "cell_type": "code",
   "execution_count": 1,
   "id": "e72acb41-2495-4835-8e8b-3e5bb5f703b4",
   "metadata": {
    "tags": []
   },
   "outputs": [],
   "source": [
    "%load_ext autoreload\n",
    "%autoreload 2"
   ]
  },
  {
   "cell_type": "code",
   "execution_count": 2,
   "id": "bd4c2205-9b56-4ac9-977d-e00a00daab38",
   "metadata": {
    "tags": []
   },
   "outputs": [],
   "source": [
    "import sys, os\n",
    "module_path = \"../../..\"\n",
    "sys.path.append(os.path.abspath(module_path))"
   ]
  },
  {
   "cell_type": "markdown",
   "id": "01670eb4-8f19-497d-837e-d9788e0a05f3",
   "metadata": {},
   "source": [
    "## 1. Bedrock Client 생성"
   ]
  },
  {
   "cell_type": "code",
   "execution_count": 3,
   "id": "1f9dcbdc-0667-4bff-afcf-0c4b5ace273b",
   "metadata": {
    "tags": []
   },
   "outputs": [],
   "source": [
    "import json\n",
    "import boto3\n",
    "from pprint import pprint\n",
    "from termcolor import colored\n",
    "from utils import bedrock, print_ww\n",
    "from utils.bedrock import bedrock_info"
   ]
  },
  {
   "cell_type": "markdown",
   "id": "259021cc-1d69-458e-879c-80076fc57c64",
   "metadata": {},
   "source": [
    "### ---- ⚠️ Un-comment and edit the below lines as needed for your AWS setup ⚠️ ----\n",
    "- os.environ[\"AWS_DEFAULT_REGION\"] = \"<REGION_NAME>\"  # E.g. \"us-east-1\"\n",
    "- os.environ[\"AWS_PROFILE\"] = \"<YOUR_PROFILE>\"\n",
    "- os.environ[\"BEDROCK_ASSUME_ROLE\"] = \"<YOUR_ROLE_ARN>\"  # E.g. \"arn:aws:...\"\n",
    "- os.environ[\"BEDROCK_ENDPOINT_URL\"] = \"<YOUR_ENDPOINT_URL>\"  # E.g. \"https://...\""
   ]
  },
  {
   "cell_type": "code",
   "execution_count": 4,
   "id": "9fde1bf1-d608-46ef-969e-40fe49b77ec5",
   "metadata": {
    "tags": []
   },
   "outputs": [
    {
     "name": "stdout",
     "output_type": "stream",
     "text": [
      "Create new client\n",
      "  Using region: None\n",
      "  Using profile: None\n",
      "boto3 Bedrock client successfully created!\n",
      "bedrock-runtime(https://bedrock-runtime.us-east-1.amazonaws.com)\n",
      "\u001b[32m\n",
      "== FM lists ==\u001b[0m\n",
      "{'Claude-Instant-V1': 'anthropic.claude-instant-v1',\n",
      " 'Claude-V1': 'anthropic.claude-v1',\n",
      " 'Claude-V2': 'anthropic.claude-v2',\n",
      " 'Claude-V2-1': 'anthropic.claude-v2:1',\n",
      " 'Cohere-Embeddings-En': 'cohere.embed-english-v3',\n",
      " 'Cohere-Embeddings-Multilingual': 'cohere.embed-multilingual-v3',\n",
      " 'Command': 'cohere.command-text-v14',\n",
      " 'Command-Light': 'cohere.command-light-text-v14',\n",
      " 'Jurassic-2-Mid': 'ai21.j2-mid-v1',\n",
      " 'Jurassic-2-Ultra': 'ai21.j2-ultra-v1',\n",
      " 'Llama2-13b-Chat': 'meta.llama2-13b-chat-v1',\n",
      " 'Titan-Embeddings-G1': 'amazon.titan-embed-text-v1',\n",
      " 'Titan-Text-G1': 'amazon.titan-text-express-v1',\n",
      " 'Titan-Text-G1-Light': 'amazon.titan-text-lite-v1'}\n"
     ]
    }
   ],
   "source": [
    "boto3_bedrock = bedrock.get_bedrock_client(\n",
    "    assumed_role=os.environ.get(\"BEDROCK_ASSUME_ROLE\", None),\n",
    "    endpoint_url=os.environ.get(\"BEDROCK_ENDPOINT_URL\", None),\n",
    "    region=os.environ.get(\"AWS_DEFAULT_REGION\", None),\n",
    ")\n",
    "\n",
    "aws_region = os.environ.get(\"AWS_DEFAULT_REGION\", None)\n",
    "print (colored(\"\\n== FM lists ==\", \"green\"))\n",
    "pprint (bedrock_info.get_list_fm_models())"
   ]
  },
  {
   "cell_type": "markdown",
   "id": "100a9b99-f66d-4447-805d-c29ee9f88c4f",
   "metadata": {},
   "source": [
    "## 2. Titan Embedding 및 LLM 인 Claude-v2 모델 로딩"
   ]
  },
  {
   "cell_type": "markdown",
   "id": "c84c0aea-2d43-493a-9538-648e5a453220",
   "metadata": {},
   "source": [
    "### LLM 로딩 (Claude-v2)"
   ]
  },
  {
   "cell_type": "code",
   "execution_count": 5,
   "id": "32924f36-0b17-4792-b382-92867c566e50",
   "metadata": {
    "tags": []
   },
   "outputs": [],
   "source": [
    "from langchain.llms.bedrock import Bedrock\n",
    "from langchain.callbacks.streaming_stdout import StreamingStdOutCallbackHandler"
   ]
  },
  {
   "cell_type": "code",
   "execution_count": 6,
   "id": "6fc13fa9-0452-4fbe-b07b-a54f1833655d",
   "metadata": {
    "tags": []
   },
   "outputs": [],
   "source": [
    "llm_text = Bedrock(\n",
    "    model_id=bedrock_info.get_model_id(model_name=\"Claude-V2-1\"),\n",
    "    client=boto3_bedrock,\n",
    "    model_kwargs={\n",
    "        \"max_tokens_to_sample\": 512\n",
    "    },\n",
    "    streaming=False,\n",
    "    callbacks=[StreamingStdOutCallbackHandler()]\n",
    ")\n",
    "\n",
    "llm_text_light= Bedrock(\n",
    "    model_id=bedrock_info.get_model_id(model_name=\"Claude-Instant-V1\"),\n",
    "    client=boto3_bedrock,\n",
    "    model_kwargs={\n",
    "        \"max_tokens_to_sample\": 512\n",
    "    },\n",
    "    streaming=False,\n",
    "    callbacks=[StreamingStdOutCallbackHandler()]\n",
    ")"
   ]
  },
  {
   "cell_type": "markdown",
   "id": "0ac056c9-e2ad-496e-b38a-d739724202a4",
   "metadata": {},
   "source": [
    "### Embedding 모델 선택"
   ]
  },
  {
   "cell_type": "code",
   "execution_count": 7,
   "id": "061dcf18-4681-4f16-bfa3-c76d717f307f",
   "metadata": {
    "tags": []
   },
   "outputs": [],
   "source": [
    "from utils.rag import KoSimCSERobertaContentHandler, SagemakerEndpointEmbeddingsJumpStart"
   ]
  },
  {
   "cell_type": "code",
   "execution_count": 8,
   "id": "d85536e9-3416-4f7a-96a4-c539a6a5596f",
   "metadata": {
    "tags": []
   },
   "outputs": [],
   "source": [
    "def get_embedding_model(is_bedrock_embeddings, is_KoSimCSERobert, aws_region, endpont_name=None):\n",
    "\n",
    "    if is_bedrock_embeddings:\n",
    "        # We will be using the Titan Embeddings Model to generate our Embeddings.\n",
    "        from langchain.embeddings import BedrockEmbeddings\n",
    "        llm_emb = BedrockEmbeddings(\n",
    "            client=boto3_bedrock,\n",
    "            model_id=bedrock_info.get_model_id(\n",
    "                model_name=\"Titan-Embeddings-G1\"\n",
    "                #model_name=\"Cohere-Embeddings-En\"\n",
    "            )\n",
    "        )\n",
    "        print(\"Bedrock Embeddings Model Loaded\")\n",
    "\n",
    "    elif is_KoSimCSERobert:\n",
    "        LLMEmbHandler = KoSimCSERobertaContentHandler()\n",
    "        endpoint_name_emb = endpont_name\n",
    "        llm_emb = SagemakerEndpointEmbeddingsJumpStart(\n",
    "            endpoint_name=endpoint_name_emb,\n",
    "            region_name=aws_region,\n",
    "            content_handler=LLMEmbHandler,\n",
    "        )\n",
    "        print(\"KoSimCSERobert Embeddings Model Loaded\")\n",
    "    else:\n",
    "        llm_emb = None\n",
    "        print(\"No Embedding Model Selected\")\n",
    "\n",
    "    return llm_emb"
   ]
  },
  {
   "cell_type": "markdown",
   "id": "83000f64-5855-45ee-b736-eb96e9ff0739",
   "metadata": {},
   "source": [
    "#### [중요] is_KoSimCSERobert == True 일시에 endpoint_name 을 꼭 넣어 주세요."
   ]
  },
  {
   "cell_type": "code",
   "execution_count": 9,
   "id": "dbbec6da-798a-419b-9e4e-b1cc417cfbfa",
   "metadata": {
    "tags": []
   },
   "outputs": [
    {
     "name": "stdout",
     "output_type": "stream",
     "text": [
      "Bedrock Embeddings Model Loaded\n"
     ]
    }
   ],
   "source": [
    "is_bedrock_embeddings = True\n",
    "is_KoSimCSERobert = False\n",
    "aws_region = os.environ.get(\"AWS_DEFAULT_REGION\", None)\n",
    "\n",
    "##############################\n",
    "# Parameters for is_KoSimCSERobert\n",
    "##############################\n",
    "if is_KoSimCSERobert: endpont_name = \"<endpoint-name>\"\n",
    "else: endpont_name = None\n",
    "##############################\n",
    "\n",
    "llm_emb = get_embedding_model(is_bedrock_embeddings, is_KoSimCSERobert, aws_region, endpont_name)   "
   ]
  },
  {
   "cell_type": "markdown",
   "id": "b69eff24-6ac7-4500-b5eb-9039fbe38c9f",
   "metadata": {},
   "source": [
    "## 3. Depoly ReRanker model (if needed)"
   ]
  },
  {
   "cell_type": "code",
   "execution_count": 10,
   "id": "f364b91e-b186-4920-aeca-857a34665a11",
   "metadata": {
    "tags": []
   },
   "outputs": [
    {
     "name": "stdout",
     "output_type": "stream",
     "text": [
      "sagemaker.config INFO - Not applying SDK defaults from location: /etc/xdg/sagemaker/config.yaml\n",
      "sagemaker.config INFO - Not applying SDK defaults from location: /home/ec2-user/.config/sagemaker/config.yaml\n"
     ]
    }
   ],
   "source": [
    "import json\n",
    "import sagemaker\n",
    "from sagemaker.huggingface import HuggingFaceModel"
   ]
  },
  {
   "cell_type": "code",
   "execution_count": 11,
   "id": "1d32b1f5-289b-4ba8-baa9-765501ef5b0e",
   "metadata": {
    "tags": []
   },
   "outputs": [],
   "source": [
    "depoly = False"
   ]
  },
  {
   "cell_type": "code",
   "execution_count": 12,
   "id": "9e73ea11-7dea-41b2-98fb-85de4e2851db",
   "metadata": {
    "tags": []
   },
   "outputs": [],
   "source": [
    "if depoly:\n",
    "\n",
    "    try:\n",
    "        role = sagemaker.get_execution_role()\n",
    "    except ValueError:\n",
    "        iam = boto3.client('iam')\n",
    "        role = iam.get_role(RoleName='sagemaker_execution_role')['Role']['Arn']\n",
    "\n",
    "    # Hub Model configuration. https://huggingface.co/models\n",
    "    hub = {\n",
    "        'HF_MODEL_ID':'BAAI/bge-reranker-large',\n",
    "        'HF_TASK':'text-classification'\n",
    "    }\n",
    "\n",
    "    # create Hugging Face Model Class\n",
    "    huggingface_model = HuggingFaceModel(\n",
    "        transformers_version='4.26.0',\n",
    "        pytorch_version='1.13.1',\n",
    "        py_version='py39',\n",
    "        env=hub,\n",
    "        role=role, \n",
    "    )\n",
    "\n",
    "    # deploy model to SageMaker Inference\n",
    "    predictor = huggingface_model.deploy(\n",
    "        initial_instance_count=1, # number of instances\n",
    "        instance_type='ml.g5.xlarge' # instance type\n",
    "    )\n",
    "\n",
    "    print(f'Accept: {predictor.accept}')\n",
    "    print(f'ContentType: {predictor.content_type}')\n",
    "    print(f'Endpoint: {predictor.endpoint}')"
   ]
  },
  {
   "cell_type": "markdown",
   "id": "a953ea43-3337-4300-8833-ec4b38840822",
   "metadata": {},
   "source": [
    "### Reranker"
   ]
  },
  {
   "cell_type": "code",
   "execution_count": 13,
   "id": "f0f90b69-27bb-412b-ba0a-2e2d768e92a0",
   "metadata": {
    "tags": []
   },
   "outputs": [],
   "source": [
    "#endpoint_name = \"huggingface-pytorch-inference-2023-11-15-04-37-45-120\" # ml.m5.2xlarge\n",
    "endpoint_name = \"huggingface-pytorch-inference-2023-11-15-07-53-21-605\" # ml.g5.xlarge"
   ]
  },
  {
   "cell_type": "code",
   "execution_count": 14,
   "id": "cd07db04-6140-4516-a279-bfc1a14cee7f",
   "metadata": {
    "tags": []
   },
   "outputs": [
    {
     "name": "stdout",
     "output_type": "stream",
     "text": [
      "runtime_client: <botocore.client.SageMakerRuntime object at 0x7fe0d5442c50>\n"
     ]
    }
   ],
   "source": [
    "runtime_client = boto3.Session().client('sagemaker-runtime')\n",
    "print (f'runtime_client: {runtime_client}')"
   ]
  },
  {
   "cell_type": "markdown",
   "id": "a14dee0e-7a7d-48c3-94ff-90db1cf89daf",
   "metadata": {},
   "source": [
    "## 4. LangChainmOpenSearch VectorStore 정의\n",
    "### 선수 조건\n",
    "- 01_preprocess_docs/02_load_docs_opensearch.ipynb를 통해서 OpenSearch Index 가 생성이 되어 있어야 합니다.\n",
    "#### [중요] 아래에 aws parameter store 에 아래 인증정보가 먼저 입력되어 있어야 합니다.\n",
    "- 01_preprocess_docs/01_parameter_store_example.ipynb 참고"
   ]
  },
  {
   "cell_type": "code",
   "execution_count": 15,
   "id": "d85af7d2-6b71-4125-8ba4-fa15406f5c3f",
   "metadata": {
    "tags": []
   },
   "outputs": [],
   "source": [
    "from utils.proc_docs import get_parameter"
   ]
  },
  {
   "cell_type": "code",
   "execution_count": 16,
   "id": "8b29f46c-154b-41fe-ab1a-d34af0a73b39",
   "metadata": {
    "tags": []
   },
   "outputs": [],
   "source": [
    "ssm = boto3.client(\"ssm\", \"us-east-1\")\n",
    "\n",
    "opensearch_domain_endpoint = get_parameter(\n",
    "    boto3_clinet = ssm,\n",
    "    parameter_name = 'knox_opensearch_domain_endpoint',\n",
    ")\n",
    "\n",
    "opensearch_user_id = get_parameter(\n",
    "    boto3_clinet = ssm,\n",
    "    parameter_name = 'knox_opensearch_userid',\n",
    ")\n",
    "\n",
    "opensearch_user_password = get_parameter(\n",
    "    boto3_clinet = ssm,\n",
    "    parameter_name = 'knox_opensearch_password',\n",
    ")\n",
    "\n",
    "http_auth = (opensearch_user_id, opensearch_user_password) # Master username, Master password"
   ]
  },
  {
   "cell_type": "markdown",
   "id": "354a0a15-e66c-4fd9-a555-13a15c80f327",
   "metadata": {},
   "source": [
    "### Index 이름 셋팅\n",
    "- 이전 노트북 01_preprocess_docs/02_load_docs_opensearch.ipynb를 통해서 생성된 OpenSearch Index name 입력"
   ]
  },
  {
   "cell_type": "code",
   "execution_count": 17,
   "id": "2bde847e-429f-47fa-87bf-36441a92c401",
   "metadata": {
    "tags": []
   },
   "outputs": [],
   "source": [
    "#index_name = \"v13-genai-poc-knox-titan-eval-sample-0.05-1024c-256o\"\n",
    "index_name = \"v16-genai-poc-knox-eval-parent-doc-retriever\""
   ]
  },
  {
   "cell_type": "markdown",
   "id": "1b5ef81d-27b2-4d64-9e57-0324fc627a2c",
   "metadata": {},
   "source": [
    "### OpenSearch Client 생성"
   ]
  },
  {
   "cell_type": "code",
   "execution_count": 18,
   "id": "a81604ea-e7a0-4256-931e-849fca7be994",
   "metadata": {
    "tags": []
   },
   "outputs": [],
   "source": [
    "from utils.opensearch import opensearch_utils"
   ]
  },
  {
   "cell_type": "code",
   "execution_count": 19,
   "id": "b46578e5-6113-42d4-9e2c-e4446bb4cfca",
   "metadata": {
    "tags": []
   },
   "outputs": [],
   "source": [
    "os_client = opensearch_utils.create_aws_opensearch_client(\n",
    "    aws_region,\n",
    "    opensearch_domain_endpoint,\n",
    "    http_auth\n",
    ")"
   ]
  },
  {
   "cell_type": "markdown",
   "id": "1fa855f1-f8d4-4218-ab77-84d4f5f0238e",
   "metadata": {},
   "source": [
    "### LangChain OpenSearch VectorStore 생성"
   ]
  },
  {
   "cell_type": "code",
   "execution_count": 20,
   "id": "b86443bb-ff05-4bac-a8cf-d708552fbbfb",
   "metadata": {
    "tags": []
   },
   "outputs": [],
   "source": [
    "from langchain.vectorstores import OpenSearchVectorSearch"
   ]
  },
  {
   "cell_type": "code",
   "execution_count": 21,
   "id": "51568769-47a2-42cd-90dd-02469094619b",
   "metadata": {
    "tags": []
   },
   "outputs": [
    {
     "data": {
      "text/plain": [
       "<langchain.vectorstores.opensearch_vector_search.OpenSearchVectorSearch at 0x7fe209104f10>"
      ]
     },
     "execution_count": 21,
     "metadata": {},
     "output_type": "execute_result"
    }
   ],
   "source": [
    "vector_db = OpenSearchVectorSearch(\n",
    "    index_name=index_name,\n",
    "    opensearch_url=opensearch_domain_endpoint,\n",
    "    embedding_function=llm_emb,\n",
    "    http_auth=http_auth, # http_auth\n",
    "    is_aoss =False,\n",
    "    engine=\"faiss\",\n",
    "    space_type=\"l2\"\n",
    ")\n",
    "vector_db"
   ]
  },
  {
   "cell_type": "markdown",
   "id": "d44452ad-1945-4a1a-a18a-fd1f899814bb",
   "metadata": {},
   "source": [
    "## 5. Retriever 정의"
   ]
  },
  {
   "cell_type": "code",
   "execution_count": 22,
   "id": "409937f9-e4f3-4f2f-90a8-9b13641d3700",
   "metadata": {
    "tags": []
   },
   "outputs": [],
   "source": [
    "from utils.rag import OpenSearchHybridSearchRetriever"
   ]
  },
  {
   "cell_type": "code",
   "execution_count": 23,
   "id": "c1606bcd-502c-461b-9458-5e400e97ed92",
   "metadata": {
    "tags": []
   },
   "outputs": [],
   "source": [
    "opensearch_hybrid_retriever = OpenSearchHybridSearchRetriever(\n",
    "    os_client=os_client,\n",
    "    index_name=index_name,\n",
    "    llm_text=llm_text, # used in rag_fusion, hyde and reranker(num_tokens)\n",
    "    llm_emb=llm_emb,\n",
    "\n",
    "    # option for lexical\n",
    "    minimum_should_match=0,\n",
    "    filter=[],\n",
    "\n",
    "    # option for rank fusion\n",
    "    fusion_algorithm=\"RRF\", # [\"RRF\", \"simple_weighted\"], rank fusion 방식 정의\n",
    "    ensemble_weights=[.5, .5], # [for lexical, for semantic], Lexical, Semantic search 결과에 대한 최종 반영 비율 정의\n",
    "    reranker=True, # enable reranker with reranker model\n",
    "    reranker_endpoint_name=endpoint_name, # endpoint name for reranking model\n",
    "    #rag_fusion=False, # enable rag_fusion\n",
    "    #query_augmentation_size=3, # query_augmentation_size in rag_fusion\n",
    "\n",
    "    # option for async search\n",
    "    async_mode=True,\n",
    "\n",
    "    # option for output\n",
    "    k=5, # 최종 Document 수 정의\n",
    "    verbose=False,\n",
    ")"
   ]
  },
  {
   "cell_type": "code",
   "execution_count": 24,
   "id": "7333a947-d0d0-41a6-8dcc-adb3d58c2e8e",
   "metadata": {
    "tags": []
   },
   "outputs": [
    {
     "data": {
      "text/plain": [
       "[Document(page_content='What is Knox Suite?. Knox Suite is a bundled offering designed to help enterprise IT admins better manage your fleet of devices. It includes individual services such as Knox Platform for Enterprise, Knox Mobile Enrollment, Knox Manage, Knox E-FOTA, and Knox Asset Intelligence. Key features of Knox Suite include: Secure - Ensure your business data is protected with managed security features at your control. Deploy - Enroll corporate devices to EMM automatically and securely, right out of the box. Manage - Enable comprehensive management over corporate devices and OS versions. Analyze - Strengthen in-depth device analytics for mobile productivity and asset management.', metadata={'source': 'all_processed_data.json', 'seq_num': 74, 'title': ' What is Knox Suite?', 'url': 'https://docs.samsungknox.com/admin/knox-suite/faq/#what-is-knox-suite', 'project': 'KS', 'last_updated': '2023-07-26', 'family_tree': 'parent', 'parent_id': None, 'id': '5c911c77-600b-404f-a343-8a50c44aff9d'}),\n",
       " Document(page_content='Knox Suite. Knox Suite is a bundled offering of Knox solutions for enterprise mobility designed to address organizations\\' needs related to security and management throughout the entire device lifecycle. Learn more about Knox Suite #Audience This document is intended for IT Admins. Understand what\\'s included in Knox Suite and how you can use it to manage, secure, and maintain enterprise devices. Learn where to find information on how to perform various tasks with Knox\"Suite services. About Knox Suite Knox Suite is a bundled offering that includes the following Knox products: Knox Platform for Enterprise - A Knox solution that provides military-grade security to Samsung Android phones, tablets, and Tizen watches for business. Knox Mobile Enrollment - A Knox solution that allows you to enroll thousands of Samsung devices in your EMM at once. When used with a Knox Suite license, Knox Mobile Enrollment provides advanced profiles that offer IT admins additional features such as higher control over locking devices', metadata={'source': 'all_processed_data.json', 'seq_num': 65, 'title': 'Knox Suite', 'url': 'https://docs.samsungknox.com/admin/knox-suite', 'project': 'KS', 'last_updated': '2023-07-26', 'family_tree': 'child', 'parent_id': '31d8f5b8-2ced-4a02-ba10-d8fac3614439', 'id': 'ce4fc71c-7f39-4390-8079-113a7c26a18d'}),\n",
       " Document(page_content='. With Knox E-FOTA, you create a campaign, specify the campaign period, assign devices to that campaign, and select the firmware update to be pushed to those devices during the campaign period. Knox Capture - An Android solution that lets users transform their Samsung Galaxy smartphones and tablets into powerful barcode scanners that can read, process, and output barcode information to other applications, all without requiring additional hardware or writing a single line of code. Knox Authentication Manager - A managed Android app for shared Samsung devices that provides multiuser facial biometrics and sign-in automation for increased frontline worker productivity and safety. With Knox Suite, a single license key allows you to use all included Knox products on your devices. This means that you can use the same Knox Suite license key in multiple Knox service admin portals. Benefits of Knox Suite 1. All-in-one Knox B2B package - An end-to-end solution that covers every step of your enterprise mobility journey 2', metadata={'source': 'all_processed_data.json', 'seq_num': 65, 'title': 'Knox Suite', 'url': 'https://docs.samsungknox.com/admin/knox-suite', 'project': 'KS', 'last_updated': '2023-07-26', 'family_tree': 'child', 'parent_id': '31d8f5b8-2ced-4a02-ba10-d8fac3614439', 'id': 'e81f1b75-c144-4b30-914d-83cd4d28664e'}),\n",
       " Document(page_content='Knox Suite. Knox Suite is a bundled offering of Knox solutions for enterprise mobility designed to address organizations\\' needs related to security and management throughout the entire device lifecycle. Learn more about Knox Suite #Audience This document is intended for IT Admins. Understand what\\'s included in Knox Suite and how you can use it to manage, secure, and maintain enterprise devices. Learn where to find information on how to perform various tasks with Knox\"Suite services. About Knox Suite Knox Suite is a bundled offering that includes the following Knox products: Knox Platform for Enterprise - A Knox solution that provides military-grade security to Samsung Android phones, tablets, and Tizen watches for business. Knox Mobile Enrollment - A Knox solution that allows you to enroll thousands of Samsung devices in your EMM at once. When used with a Knox Suite license, Knox Mobile Enrollment provides advanced profiles that offer IT admins additional features such as higher control over locking devices. Knox Manage - A Knox solution that allows you to remotely manage your fleet of mobile devices. With this EMM, you create various policies to control how users can use their devices. Knox Asset Intelligence - A data analytics solution that offers operational visibility and actionable insights to improve the management, productivity, and lifecycle of mobile devices. This solution offers real-time monitoring and management of app performance, battery usage, network connectivity, and asset location. Knox E-FOTA - A Knox solution that allows you to remotely deploy OS and security updates to your devices without requiring user interaction. With Knox E-FOTA, you create a campaign, specify the campaign period, assign devices to that campaign, and select the firmware update to be pushed to those devices during the campaign period. Knox Capture - An Android solution that lets users transform their Samsung Galaxy smartphones and tablets into powerful barcode scanners that can read, process, and output barcode information to other applications, all without requiring additional hardware or writing a single line of code. Knox Authentication Manager - A managed Android app for shared Samsung devices that provides multiuser facial biometrics and sign-in automation for increased frontline worker productivity and safety. With Knox Suite, a single license key allows you to use all included Knox products on your devices. This means that you can use the same Knox Suite license key in multiple Knox service admin portals. Benefits of Knox Suite 1. All-in-one Knox B2B package - An end-to-end solution that covers every step of your enterprise mobility journey 2. Simplified license management - You only need one license key to use all included products. 3. Streamlined onboarding process - Register once and gain access to all included Knox products. 4. Seamless IT admin user experience - IT admin can easily access bundled Knox consoles through single sign-on. To get started, click here.', metadata={'source': 'all_processed_data.json', 'seq_num': 65, 'title': 'Knox Suite', 'url': 'https://docs.samsungknox.com/admin/knox-suite', 'project': 'KS', 'last_updated': '2023-07-26', 'family_tree': 'parent', 'parent_id': None, 'id': '31d8f5b8-2ced-4a02-ba10-d8fac3614439'}),\n",
       " Document(page_content='Learn more about Knox Suite. This section describes where you can find instructions on how to perform tasks using the different products included in Knox Suite. General documentation for the Knox Suite services Knox Service , See - , - Knox Manage , Knox Manage Admin Guide Knox Platform for Enterprise , Knox Platform for Enterprise Admin Guide Knox Mobile Enrollment , Knox Mobile Enrollment Admin Guide Knox E-FOTA , Knox E-FOTA Admin Guide Knox Asset Intelligence , Knox Asset Intelligence Admin Guide Knox Capture , Knox Capture Admin Guide Knox Authentication Manager , Knox Authentication Manager Admin Guide Knox Suite operations For information on See Knox service How to set up Knox Manage with Knox Suite Workflow:\"Set up Knox Manage with a Knox Suite license Knox Manage How to check your Knox Suite license usage View and modify a license Note Alternatively, you can sign in to your SamsungKnox.com dashboard and click Licenses to view all licenses you have for all your Knox services', metadata={'source': 'all_processed_data.json', 'seq_num': 64, 'title': 'Learn more about Knox Suite', 'url': 'https://docs.samsungknox.com/admin/knox-suite/learn-more-about-knox-suite', 'project': 'KS', 'last_updated': '2023-07-26', 'family_tree': 'child', 'parent_id': '5f426c6c-0882-4b3e-aeae-a1792b104b5b', 'id': '2ad1de59-827a-4dad-9093-3a807ed2c1e2'})]"
      ]
     },
     "execution_count": 24,
     "metadata": {},
     "output_type": "execute_result"
    }
   ],
   "source": [
    "search_hybrid_result = opensearch_hybrid_retriever.get_relevant_documents(\"knox\")\n",
    "search_hybrid_result"
   ]
  },
  {
   "cell_type": "markdown",
   "id": "05c569db-1a1d-4bbf-a713-28cf6b745982",
   "metadata": {},
   "source": [
    "## 6. RAG chain 정의"
   ]
  },
  {
   "cell_type": "code",
   "execution_count": 25,
   "id": "da9df137-076d-4230-865e-4f9ed9651062",
   "metadata": {
    "tags": []
   },
   "outputs": [],
   "source": [
    "from langchain.chains import RetrievalQA\n",
    "from langchain.prompts import PromptTemplate"
   ]
  },
  {
   "cell_type": "markdown",
   "id": "b95251a1-6dd8-4794-86d9-65b855ed27cb",
   "metadata": {},
   "source": [
    "### Prompting\n",
    "- [TIP] Prompt의 instruction의 경우 한글보다 영어로 했을 때 더 좋은 결과를 얻을 수 있습니다."
   ]
  },
  {
   "cell_type": "code",
   "execution_count": 26,
   "id": "c1bcb686-d5de-4db4-84f9-60576a887331",
   "metadata": {
    "tags": []
   },
   "outputs": [],
   "source": [
    "from utils.rag import prompt_repo"
   ]
  },
  {
   "cell_type": "code",
   "execution_count": 27,
   "id": "cbd67c3d-e565-43cd-9e44-9e81febf4f10",
   "metadata": {
    "tags": []
   },
   "outputs": [],
   "source": [
    "PROMPT = prompt_repo.get_qa(prompt_type=\"answer_only\") # [\"answer_only\", \"answer_with_ref\"]"
   ]
  },
  {
   "cell_type": "markdown",
   "id": "2a758bc7-87a1-44fb-9b36-e17e987b1513",
   "metadata": {},
   "source": [
    "### Update Search Params (Optional)"
   ]
  },
  {
   "cell_type": "code",
   "execution_count": 46,
   "id": "31c68b6f-1606-455d-bd37-c467cf240b7c",
   "metadata": {
    "tags": []
   },
   "outputs": [],
   "source": [
    "opensearch_hybrid_retriever.update_search_params(\n",
    "    k=5,\n",
    "    minimum_should_match=0,\n",
    "    filter=[],\n",
    "    reranker=True,\n",
    "    reranker_endpoint_name=endpoint_name,\n",
    "    rag_fusion=True, # enable rag_fusion\n",
    "    query_augmentation_size=3, # query_augmentation_size in rag_fusion\n",
    "    hyde=False, # enable hyde\n",
    "    hyde_query=[\"web_search\"], # query type in hyde \n",
    "    parent_document=True,\n",
    "    llm_text=llm_text, # used in rag_fusion, hyde and reranker(num_tokens)\n",
    "    verbose=False\n",
    ")"
   ]
  },
  {
   "cell_type": "code",
   "execution_count": 47,
   "id": "2b2256fe-9b42-4570-9c05-d395405a534b",
   "metadata": {
    "tags": []
   },
   "outputs": [],
   "source": [
    "qa_chain = RetrievalQA.from_chain_type(\n",
    "    llm=llm_text,\n",
    "    chain_type=\"stuff\",\n",
    "    retriever=opensearch_hybrid_retriever,\n",
    "    return_source_documents=True,\n",
    "    chain_type_kwargs={\n",
    "        \"prompt\": PROMPT,\n",
    "        \"verbose\": False,\n",
    "    },\n",
    "    verbose=False\n",
    ")"
   ]
  },
  {
   "cell_type": "code",
   "execution_count": 48,
   "id": "ae0b6569-7c98-49e3-a739-e7dd16d9942e",
   "metadata": {
    "tags": []
   },
   "outputs": [
    {
     "data": {
      "text/plain": [
       "{'query': 'How many characters are removed when the start position is 1 and the number of characters to remove is also 1?',\n",
       " 'result': ' <answer>\\nWhen the start position is 1 and the number of characters to remove is 1, one character is removed. The context specifies under the \"Remove characters\" action that you must provide the start position and the number of characters to remove. So if the start position is 1 and the number of characters is 1, then 1 character will be removed.\\n</answer>',\n",
       " 'source_documents': [Document(page_content=\". On the Knox Capture home screen, tap on the profile you want to create a rule for. 2. Under Keystroke output and data formatting, tap Advanced data formatting. 3. In the top right corner of the screen, tap +. 4. Enter a name for the rule, then tap Done. 5. Under Set criteria, configure the below settings as needed: Barcode type - The types of barcodes that the rule applies to. String length - The required length of scanned data to trigger the rule. String - A string that must be present for the rule to trigger. String position - When the cursor reaches this position in the string, the rule executes. 6. Under Set actions in order, tap Add actions. 7. A popup appears, prompting you to select actions you want to add. See the table below for details on each action. Tap Add when you're finished. 8. Configure the actions as necessary, then tap < in the top left to return to the rules list. 9. Repeat Steps 3-8 for any additional rules you want to create, then rearrange them in the order they should be executed. Refer to the advanced data formatting actions below to move the cursor, modify, send, or delay data being sent to business apps. If you add multiple actions to your rule, you can change the order in which they execute. Action Description Options Default Cursor movement Sets the cursor to move to a location in the output data. Skip ahead by characters &mdash; Moves the cursor forward by a specific number of characters. 1 Skip back by characters &mdash; Moves the cursor backwards by a specific number of characters. 1 Skip to start &mdash; Moves the cursor to the beginning of the output data. None Move ahead to substring &mdash; Moves the cursor forward until a specific string is found. None Move past substring &mdash; Moves the cursor past a specific string in the output data. None Data modification Sets the elements for Knox Capture to add, edit, or remove from the data. Remove extra spaces &mdash; Deletes all but one space between words, and removes any blank space at the beginning and end of the data. None Remove all spaces &mdash; Remove all spaces in the data. None Remove leading zeros &mdash; Remove any zeroes at the beginning of the data. None Pad with zeros to the left &mdash; Specify the desired length of the output. Knox Capture pads the left side of the string with zeros until the desired length is reached. 1 Replace string &mdash; Replaces a specific string with a new, specified string. You must specify both strings. None Remove characters When sending data, removes a specific number of characters from the given positions. You must provide the start position and the number of characters to remove. Start position: 1 Number of characters: 1 Data sending Controls a selected amount of data to send to business apps. Send next characters &mdash; Sends a specific number of characters from the current cursor position. 1 Send remaining characters &mdash; Sends all data after the current cursor position. None Send up to substring &mdash; Sends all data up to a specific string. None Send pause &mdash; Pauses all actions for a specific number of milliseconds (max. 120000). 50ms Send string &mdash; Sends a specific string when the corresponding rule is triggered. None Send cha &mdash; Sends a specific ASCII/Unicode character when the corresponding rule is triggered. 32\", metadata={'source': 'all_processed_data.json', 'seq_num': 9, 'title': 'Configure keystroke output and data formatting', 'url': 'https://docs.samsungknox.com/admin/knox-capture/how-to-guides/configure-keystroke-output-and-data-formatting', 'project': 'KCAP', 'last_updated': '2023-07-26', 'family_tree': 'parent', 'parent_id': None}),\n",
       "  Document(page_content='. #Standard ASCII control character abbreviations , ASCII , Hex , Name , Abbreviation , , - , - , - , - , , 1 , 1 , Start of Heading , SOH , , 2 , 2 , Start of Text , STX , , 3 , 3 , End of Text , ETX , , 4 , 4 , End of Transmission , EOT , , 5 , 5 , Enquiry , ENQ , , 6 , 6 , Acknowledgement , ACK , , 7 , 7 , Bell , BEL , , 8 , 8 , Backspace , BS , , 9 , 9 , Horizontal Tab , HT , , 10 , 0A , Line Feed , LF , , 11 , 0B , Vertical Tab , VT , , 12 , 0C , Form Feed , FF , , 13 , 0D , Carriage Return , CR , , 14 , 0E , Shift Out , SO , , 15 , 0F , Shift In , SI , , 16 , 10 , Data Link Escape , DLE , , 17 , 11 , Device Control 1 , DC1 , , 18 , 12 , Device Control 2 , DC2 , , 19 , 13 , Device Control 3 , DC3 , , 20 , 14 , Device Control 4 , DC4 , , 21 , 15 , Negative Acknowledgement , NAK , , 22 , 16 , Synchronous Idle , SYN , , 23 , 17 , End of Transmission Block , ETB , , 24 , 18 , Cancel , CAN , , 25 , 19 , End of Medium , EM , , 26 , 1A , Substitute , SUB , , 27 , 1B , Escape , ESC , , 28 , 1C , File Separator , FS , , 29 , 1D , Group Separator , GS , , 30 , 1E , Record Separator , RS , , 31 , 1F , Unit Separator , US , #Type interpretation ##String , Printable ASCII or Unicode characters aren\\'t modified. For example, \"abc\" will appear as \"abc\" in the test overlay. Non-printable ASCII control characters get embedded in curly brackets. For example, a Tab control character will appear as \"\" in the test overlay if sent as a string. ##Key event Printable and non-printable characters appear in their character representation embedded in angle brackets when sent as key events. For example, if sent as key events, the data `abHT` appears as `` in the test overlay. Example The following example applies test mode notation to scanned barcode data based on a small set of keystroke output rules. Barcode input: `abc\\\\n123\\\\teh` This input uses escape sequences for control characters. `\\\\n` represents Enter and `\\\\t` represents Tab. Keystroke output rules: Send Enter as String, Send Tab as Key event, Send ASCII Printable characters as String Test mode notation: Scanned data: `abc123eh`, Output : `abc123 eh`', metadata={'source': 'all_processed_data.json', 'seq_num': 19, 'title': 'Use test mode', 'url': 'https://docs.samsungknox.com/admin/knox-capture/how-to-guides/use-test-mode', 'project': 'KCAP', 'last_updated': '2023-07-26', 'family_tree': 'parent', 'parent_id': None}),\n",
       "  Document(page_content='Configure keystroke output and data formatting. Knox Capture sends scanned data to business apps as keystrokes, imitating the way a user manually enters data using a keyboard. If you activate a KPE (Knox Platform for Enterprise) Premium license with a Galaxy S20 device in WP-C mode, you must set `AdvancedRestrictionPolicy.allowRemoteControl()` to True in your EMM. Enabling this policy allows keystroke output to function as expected. Keystroke output Refer to the following settings to modify scanned data and format its output: Setting Description Options Default Send Enter character as Sets the output format for all existing and appended Enters Key event &mdash; Sends Enter as a key event. String &mdash; Sends Enter as ASCII Line Feed 0x0A. Both String and Key event &mdash; Sends Enter as ASCII Line Feed 0x0A and key event. None &mdash; Sends no output for Enter. None Send Tab character as Sets the output format for all existing and appended Tabs Key event &mdash; Sends Tab as a key event. String &mdash; Sends Tab as ASCII Horizontal Tab 0x09. Both String and Key event &mdash; Sends Tab as ASCII Horizontal Tab 0x09 and key event. None &mdash; Sends no output for Tab. None Send Carriage Return character as Sets the output format for all Carriage Returns Key event &mdash; Sends Carriage Return as a key event. String &mdash; Sends Carriage Return as ASCII Carriage Return 0x0D. Both String and Key event &mdash; Sends Carriage Return as ASCII Carriage Return 0x0D and key event. None &mdash; Sends no output for Carriage Return. None Send ASCII Control characters as Sets the output format for ASCII characters 1-31 Key event &mdash; Sends ASCII codes 1 through 31 as key events String &mdash; Sends ASCII codes 1 through 31 as strings. Both String and Key event &mdash; Sends ASCII control characters in both string and key event formats. None &mdash; Sends no output for ASCII control characters. String Send ASCII Printable characters as Sets the output format for ASCII characters 32-126 Key event &mdash; Sends ASCII characters 32-126 as key events. This is useful when a text input field, like a password input, requires key events for validation and does not accept pasted strings. String &mdash; Sends ASCII printable characters as strings. Both String and Key event &mdash; Sends ASCII printable characters as both strings and key events. None &mdash; Sends no output for ASCII printable characters. String Key event delay Sets the delay in milliseconds that Knox Capture will wait before sending a key event like Tab. Key events transmit slower than string data, which can cause synchronization problems. If your barcode output is partially cut off, try increasing the key event delay to a higher value. [0, Int32 max value] 0 Basic data formatting Refer to the following basic data formatting information to create rules to add prefixes, suffixes, and append Tab or Enter characters to scanned barcode data before output. If appending a Tab or Enter key to the data output, you must also select an output option in the Send Tab as or Sent Enter as settings above. Setting , Description , Default - , - , - Prefix to data , Prepends a string of characters to the beginning of the scanned data. None Suffix to data , Appends a string of characters to the end of the scanned data. None Append Tab characte , Appends a Tab (ASCII Horizontal Tab character, 0x09) to the end of the scanned barcode data to automate actions like moving to the adjacent cell in a spreadsheet. OFF Append Enter characte , Appends an Enter (ASCII Line Feed character, 0x0A) to the end of the scanned barcode data to automate actions like submitting a form. OFF Send as Hex , Sends the data in hexadecimal format. OFF Advanced data formatting In Knox Capture, you can add one or more rules that modify data based on certain actions and criteria. These rules convert scanned data into various formats, which are then passed to business apps through keystrokes. To create a rule and configure its actions and criteria: 1', metadata={'source': 'all_processed_data.json', 'seq_num': 9, 'title': 'Configure keystroke output and data formatting', 'url': 'https://docs.samsungknox.com/admin/knox-capture/how-to-guides/configure-keystroke-output-and-data-formatting', 'project': 'KCAP', 'last_updated': '2023-07-26', 'family_tree': 'parent', 'parent_id': None})]}"
      ]
     },
     "execution_count": 48,
     "metadata": {},
     "output_type": "execute_result"
    }
   ],
   "source": [
    "query = \"How many characters are removed when the start position is 1 and the number of characters to remove is also 1?\"\n",
    "qa_chain(query)"
   ]
  },
  {
   "cell_type": "markdown",
   "id": "fa285db7-31bf-4a82-816e-37abd5ed44af",
   "metadata": {
    "tags": []
   },
   "source": [
    "## 3.Evaluation\n",
    " - [langchain evaluator](https://python.langchain.com/docs/guides/evaluation/string/criteria_eval_chain)"
   ]
  },
  {
   "cell_type": "markdown",
   "id": "4d2fcc99-ab79-49b4-89a7-b51f3a62fc18",
   "metadata": {},
   "source": [
    "### Load ground truth"
   ]
  },
  {
   "cell_type": "code",
   "execution_count": 49,
   "id": "d3637807-9266-457e-b512-e697f951c405",
   "metadata": {
    "tags": []
   },
   "outputs": [],
   "source": [
    "import pandas as pd"
   ]
  },
  {
   "cell_type": "code",
   "execution_count": 50,
   "id": "d0403c51-23b5-4e3f-a2ec-7302d6711e4b",
   "metadata": {
    "tags": []
   },
   "outputs": [],
   "source": [
    "ground_thruth = pd.read_csv(\"eval_dataset_v16.csv\")"
   ]
  },
  {
   "cell_type": "code",
   "execution_count": 51,
   "id": "b96d03e0-cf64-4644-9578-3411883dfafa",
   "metadata": {
    "tags": []
   },
   "outputs": [],
   "source": [
    "import time\n",
    "import datetime\n",
    "from langchain.evaluation import Criteria\n",
    "from langchain.evaluation import EvaluatorType\n",
    "from langchain.evaluation import load_evaluator"
   ]
  },
  {
   "cell_type": "code",
   "execution_count": 52,
   "id": "7d97a338-040d-42ca-8b71-0e4c2251126c",
   "metadata": {
    "tags": []
   },
   "outputs": [
    {
     "data": {
      "text/plain": [
       "<Criteria.CORRECTNESS: 'correctness'>"
      ]
     },
     "execution_count": 52,
     "metadata": {},
     "output_type": "execute_result"
    }
   ],
   "source": [
    "Criteria.CORRECTNESS"
   ]
  },
  {
   "cell_type": "code",
   "execution_count": 53,
   "id": "bb3aab6f-ab32-4ea2-b1e7-43e7694f1849",
   "metadata": {
    "tags": []
   },
   "outputs": [
    {
     "data": {
      "text/plain": [
       "[<Criteria.CONCISENESS: 'conciseness'>,\n",
       " <Criteria.RELEVANCE: 'relevance'>,\n",
       " <Criteria.CORRECTNESS: 'correctness'>,\n",
       " <Criteria.COHERENCE: 'coherence'>,\n",
       " <Criteria.HARMFULNESS: 'harmfulness'>,\n",
       " <Criteria.MALICIOUSNESS: 'maliciousness'>,\n",
       " <Criteria.HELPFULNESS: 'helpfulness'>,\n",
       " <Criteria.CONTROVERSIALITY: 'controversiality'>,\n",
       " <Criteria.MISOGYNY: 'misogyny'>,\n",
       " <Criteria.CRIMINALITY: 'criminality'>,\n",
       " <Criteria.INSENSITIVITY: 'insensitivity'>,\n",
       " <Criteria.DEPTH: 'depth'>,\n",
       " <Criteria.CREATIVITY: 'creativity'>,\n",
       " <Criteria.DETAIL: 'detail'>]"
      ]
     },
     "execution_count": 53,
     "metadata": {},
     "output_type": "execute_result"
    }
   ],
   "source": [
    "list(Criteria)"
   ]
  },
  {
   "cell_type": "code",
   "execution_count": 54,
   "id": "8a680e82-980e-48d6-ae2d-e9e40535134e",
   "metadata": {
    "tags": []
   },
   "outputs": [],
   "source": [
    "langchain_evaluator = load_evaluator(\n",
    "    EvaluatorType.LABELED_CRITERIA,\n",
    "    llm=llm_text,\n",
    "    criteria=Criteria.CORRECTNESS\n",
    ")"
   ]
  },
  {
   "cell_type": "markdown",
   "id": "4d471116-d2e3-4411-979f-ba56f2ca2e7a",
   "metadata": {},
   "source": [
    "### Check prompt for evaluation"
   ]
  },
  {
   "cell_type": "code",
   "execution_count": 55,
   "id": "ab03e1d6-1209-4908-bf75-e7564a4590fa",
   "metadata": {
    "tags": []
   },
   "outputs": [
    {
     "name": "stdout",
     "output_type": "stream",
     "text": [
      "{'criteria': 'correctness: Is the submission correct, accurate, and factual?'}\n",
      "==\n",
      "You are assessing a submitted answer on a given task or input based on a set of criteria. Here is the data:\n",
      "[BEGIN DATA]\n",
      "***\n",
      "[Input]: {input}\n",
      "***\n",
      "[Submission]: {output}\n",
      "***\n",
      "[Criteria]: {criteria}\n",
      "***\n",
      "[Reference]: {reference}\n",
      "***\n",
      "[END DATA]\n",
      "Does the submission meet the Criteria? First, write out in a step by step manner your reasoning about each criterion to be sure that your conclusion is correct. Avoid simply stating the correct answers at the outset. Then print only the single character \"Y\" or \"N\" (without quotes or punctuation) on its own line corresponding to the correct answer of whether the submission meets all criteria. At the end, repeat just the letter again by itself on a new line.\n"
     ]
    }
   ],
   "source": [
    "print(langchain_evaluator.prompt.partial_variables)\n",
    "print(\"==\")\n",
    "print(langchain_evaluator.prompt.template)"
   ]
  },
  {
   "cell_type": "markdown",
   "id": "e1485d4c-2cf5-4306-85c5-400984a23cec",
   "metadata": {},
   "source": [
    "### [Optional] Custon evaluator"
   ]
  },
  {
   "cell_type": "code",
   "execution_count": 56,
   "id": "da0fc9fe-78a6-4c33-aa2a-94cc0a8fedde",
   "metadata": {
    "tags": []
   },
   "outputs": [],
   "source": [
    "from langchain.schema.output_parser import StrOutputParser"
   ]
  },
  {
   "cell_type": "code",
   "execution_count": 57,
   "id": "afde5b4d-511d-46a2-b637-510f464e30ca",
   "metadata": {
    "tags": []
   },
   "outputs": [],
   "source": [
    "EVAL_TEMPLATE = \"\"\"\n",
    "\\n\\nHuman: \n",
    "Your job is to rate the accuracy of a generated answer given a query and a reference answer.\n",
    "\n",
    "Here is query: <query>{query}</query>\n",
    "Here is generated answer: <generated_answer>{generated_answer}</generated_answer>\n",
    "Here is reference answer: <reference_answer>{reference_answer}</reference_answer>\n",
    "\n",
    "Then answer the quality of a generated answer as scores starting with \"Score:\".\n",
    "Your score has to be between 1 and 5.\n",
    "You must return your response in a line with only the score.\n",
    "Do not return answers in any other format.\n",
    "\n",
    "\\n\\nAssistant:\n",
    "\"\"\"\n",
    "\n",
    "prompt_template_eval = PromptTemplate(\n",
    "    template=EVAL_TEMPLATE, input_variables=[\"query\", \"generated_answer\", \"reference_answer\"]\n",
    ")\n",
    "\n",
    "question = \"What is the default mode of operation for Knox Capture?\"\n",
    "answer=\"Admin mode is the default mode of operation for Knox Capture. Therefore, a user cannot switch to Admin mode by activating a Knox Capture license, the app is exported in admin mode\"\n",
    "prediction = \"The default mode of operation for Knox Capture is Admin mode.\"\n",
    "\n",
    "\n",
    "custom_evaluator = prompt_template_eval | llm_text | StrOutputParser()\n"
   ]
  },
  {
   "cell_type": "code",
   "execution_count": 58,
   "id": "dc03ab59-0757-43e0-8a70-7c82edaa286e",
   "metadata": {
    "tags": []
   },
   "outputs": [
    {
     "data": {
      "text/html": [
       "<div>\n",
       "<style scoped>\n",
       "    .dataframe tbody tr th:only-of-type {\n",
       "        vertical-align: middle;\n",
       "    }\n",
       "\n",
       "    .dataframe tbody tr th {\n",
       "        vertical-align: top;\n",
       "    }\n",
       "\n",
       "    .dataframe thead th {\n",
       "        text-align: right;\n",
       "    }\n",
       "</style>\n",
       "<table border=\"1\" class=\"dataframe\">\n",
       "  <thead>\n",
       "    <tr style=\"text-align: right;\">\n",
       "      <th></th>\n",
       "      <th>question</th>\n",
       "      <th>answer</th>\n",
       "      <th>doc_id</th>\n",
       "      <th>doc</th>\n",
       "    </tr>\n",
       "  </thead>\n",
       "  <tbody>\n",
       "    <tr>\n",
       "      <th>0</th>\n",
       "      <td>What are the key differences in functionality ...</td>\n",
       "      <td>In managed mode, Knox Capture functionality is...</td>\n",
       "      <td>7f17c8ef-7d22-44a7-b92e-b26f4716d3d0</td>\n",
       "      <td>. 3. Export profile settings as a configuratio...</td>\n",
       "    </tr>\n",
       "    <tr>\n",
       "      <th>1</th>\n",
       "      <td>What are the intended audience and operation m...</td>\n",
       "      <td>The intended audience for this procedure are I...</td>\n",
       "      <td>6a70e00b-0e60-4dfa-a9cf-6d753d3eee7c</td>\n",
       "      <td>. Admin mode is the default mode of operation ...</td>\n",
       "    </tr>\n",
       "    <tr>\n",
       "      <th>2</th>\n",
       "      <td>How can an IT admin configure the scan trigger...</td>\n",
       "      <td>An IT admin can set the camera scan triggers f...</td>\n",
       "      <td>709c077e-5440-4ef4-afc8-d96e4209f659</td>\n",
       "      <td>. Test mode - A feature that lets you test a s...</td>\n",
       "    </tr>\n",
       "    <tr>\n",
       "      <th>3</th>\n",
       "      <td>What barcode type would you add or remove when...</td>\n",
       "      <td>It is not possible to determine what barcode t...</td>\n",
       "      <td>2668595c-19a0-4e9a-9e38-25dbd455a85e</td>\n",
       "      <td>. Add or remove a barcode type of your choice....</td>\n",
       "    </tr>\n",
       "    <tr>\n",
       "      <th>4</th>\n",
       "      <td>Describe the key steps involved in a typical K...</td>\n",
       "      <td>A typical Knox Capture workflow for IT admins ...</td>\n",
       "      <td>87a9dba8-d3a8-41c4-8fd9-eac0d1d50c61</td>\n",
       "      <td>. Save the updated settings and deploy. Summar...</td>\n",
       "    </tr>\n",
       "  </tbody>\n",
       "</table>\n",
       "</div>"
      ],
      "text/plain": [
       "                                            question  \\\n",
       "0  What are the key differences in functionality ...   \n",
       "1  What are the intended audience and operation m...   \n",
       "2  How can an IT admin configure the scan trigger...   \n",
       "3  What barcode type would you add or remove when...   \n",
       "4  Describe the key steps involved in a typical K...   \n",
       "\n",
       "                                              answer  \\\n",
       "0  In managed mode, Knox Capture functionality is...   \n",
       "1  The intended audience for this procedure are I...   \n",
       "2  An IT admin can set the camera scan triggers f...   \n",
       "3  It is not possible to determine what barcode t...   \n",
       "4  A typical Knox Capture workflow for IT admins ...   \n",
       "\n",
       "                                 doc_id  \\\n",
       "0  7f17c8ef-7d22-44a7-b92e-b26f4716d3d0   \n",
       "1  6a70e00b-0e60-4dfa-a9cf-6d753d3eee7c   \n",
       "2  709c077e-5440-4ef4-afc8-d96e4209f659   \n",
       "3  2668595c-19a0-4e9a-9e38-25dbd455a85e   \n",
       "4  87a9dba8-d3a8-41c4-8fd9-eac0d1d50c61   \n",
       "\n",
       "                                                 doc  \n",
       "0  . 3. Export profile settings as a configuratio...  \n",
       "1  . Admin mode is the default mode of operation ...  \n",
       "2  . Test mode - A feature that lets you test a s...  \n",
       "3  . Add or remove a barcode type of your choice....  \n",
       "4  . Save the updated settings and deploy. Summar...  "
      ]
     },
     "execution_count": 58,
     "metadata": {},
     "output_type": "execute_result"
    }
   ],
   "source": [
    "ground_thruth.head()"
   ]
  },
  {
   "cell_type": "code",
   "execution_count": null,
   "id": "86542331-d9eb-4e90-8de0-4ed770f84b62",
   "metadata": {
    "tags": []
   },
   "outputs": [
    {
     "name": "stdout",
     "output_type": "stream",
     "text": [
      "0\n",
      "\u001b[31mQuestion: \u001b[0m \u001b[31mWhat are the key differences in functionality between Knox Capture in Admin mode versus Managed mode?\u001b[0m\n",
      "\u001b[32mGroundTruth: \u001b[0m \u001b[32mIn managed mode, Knox Capture functionality is limited, as end-users cannot make changes to their scanning profiles, export profile settings, or activate a Knox Capture license to switch to Admin mode.\u001b[0m\n",
      "\u001b[34mPrediction: \u001b[0m \u001b[34m <answer>\n",
      "The key differences in functionality between Knox Capture in Admin mode versus Managed mode are:\n",
      "\n",
      "1. In Admin mode, the user (typically an IT admin) can utilize the full functionality of the app to create scanning profiles, test them, export configuration settings, etc. \n",
      "\n",
      "2. In Managed mode, the functionality is greatly reduced for end users. They can only review their scanning profile settings and perform barcode scans using their business apps as permitted by the profile. They cannot make changes to profiles, export settings, or switch to Admin mode.\n",
      "\n",
      "3. In Admin mode, licenses can be activated in-app to unlock functionality. In Managed mode, licenses must be pushed to devices through an EMM.\n",
      "\n",
      "4. The floating scan button trigger is available in both modes, but other configuration changes like disabling the default profile are Admin mode only.\n",
      "</answer>\u001b[0m\n",
      "ReRanker similarity: 0.99930739402771\n",
      "Langchain correctness: 1\n",
      "Custom correctness: 4\n",
      "has_right_context: 1\n",
      "true_context_rank: 1/3\n",
      "mrr: 1.000\n",
      "latency: 0:00:11.601936 secs\n",
      "prediction length: 876\n",
      "1\n",
      "\u001b[31mQuestion: \u001b[0m \u001b[31mWhat are the intended audience and operation mode covered in the context reading passage?\u001b[0m\n",
      "\u001b[32mGroundTruth: \u001b[0m \u001b[32mThe intended audience for this procedure are IT admins. The default operation mode covered in the tutorials is the Knox Capture admin mode.\u001b[0m\n",
      "\u001b[34mPrediction: \u001b[0m \u001b[34m <answer>\n",
      "The intended audiences covered in the context are:\n",
      "\n",
      "1. IT admins - The context covers procedures for IT admins to use the full functionality of Knox Capture in Admin mode. This includes creating scanning profiles, testing configurations, and exporting settings to deploy to end user devices.\n",
      "\n",
      "2. End users - The context also covers some basic information for end users who receive Knox Capture deployed in Managed mode. Their functionality is reduced and they cannot make changes to scanning profiles.\n",
      "\n",
      "The two operation modes covered are:\n",
      "\n",
      "1. Admin mode - The default mode with full app functionality for IT admins. \n",
      "\n",
      "2. Managed mode - A restricted mode for end users where they can scan barcodes but not change configurations.\n",
      "</answer>\u001b[0m\n",
      "ReRanker similarity: 0.9995688796043396\n",
      "Langchain correctness: 0\n",
      "Custom correctness: 5\n",
      "has_right_context: 1\n",
      "true_context_rank: 1/3\n",
      "mrr: 1.000\n",
      "latency: 0:00:09.587557 secs\n",
      "prediction length: 748\n",
      "2\n",
      "\u001b[31mQuestion: \u001b[0m \u001b[31mHow can an IT admin configure the scan triggers in Knox Capture to allow users to scan either using the hardware button or floating action button or both?\u001b[0m\n",
      "\u001b[32mGroundTruth: \u001b[0m \u001b[32mAn IT admin can set the camera scan triggers from the admin's as well as end-user's perspective through the Knox dashboard. The admin can configure the Knox Capture to scan using the hardware button, floating action button, or both.\u001b[0m\n",
      "\u001b[34mPrediction: \u001b[0m \u001b[34m <answer>\n",
      "To allow users to scan using either the hardware button or floating action button or both, the IT admin can configure the scan triggers in Knox Capture as follows:\n",
      "\n",
      "1. Go to the \"Set camera scan trigger\" section in the Knox Capture admin interface.\n",
      "2. Under \"Hardware scan trigger\", choose the option to allow scanning with the hardware button.\n",
      "3. Under \"Floating scan button\", choose the option to show the floating action button. \n",
      "4. With both options enabled, users will be able to trigger scans using either method.\n",
      "</answer>\n",
      "\n",
      "The context provides detailed steps for the IT admin to configure both the hardware scan trigger and floating scan button in the \"Set camera scan trigger\" section. By enabling both options, scans can be triggered through either method.\u001b[0m\n",
      "ReRanker similarity: 0.9999270439147949\n",
      "Langchain correctness: 1\n",
      "Custom correctness: 5\n",
      "has_right_context: 1\n",
      "true_context_rank: 1/5\n",
      "mrr: 1.000\n",
      "latency: 0:00:09.450151 secs\n",
      "prediction length: 776\n",
      "3\n",
      "\u001b[31mQuestion: \u001b[0m \u001b[31mWhat barcode type would you add or remove when creating a profile for best performance?\u001b[0m\n",
      "\u001b[32mGroundTruth: \u001b[0m \u001b[32mIt is not possible to determine what barcode type to add or remove when creating a profile for best performance within the given context.\u001b[0m\n",
      "\u001b[34mPrediction: \u001b[0m \u001b[34m <answer>When creating a Knox Capture profile, to optimize performance, you should only select the barcode types necessary for your use case. The context states: \"For best performance, only select the barcode types necessary when creating the profile.\"</answer>\u001b[0m\n",
      "ReRanker similarity: 0.9255729913711548\n",
      "Langchain correctness: 1\n",
      "Custom correctness: 1\n",
      "has_right_context: 1\n",
      "true_context_rank: 1/4\n",
      "mrr: 1.000\n",
      "latency: 0:00:06.822735 secs\n",
      "prediction length: 261\n",
      "4\n",
      "\u001b[31mQuestion: \u001b[0m \u001b[31mDescribe the key steps involved in a typical Knox Capture workflow for IT admins, according to the information provided.\u001b[0m\n",
      "\u001b[32mGroundTruth: \u001b[0m \u001b[32mA typical Knox Capture workflow for IT admins involves configuring and deploying the app to managed devices. To do this, the IT admin must first update the Knox Capture settings and then deploy the app to the managed devices. After these steps are completed, the Knox Capture app will be ready for use.\u001b[0m\n",
      "\u001b[34mPrediction: \u001b[0m \u001b[34m <answer>\n",
      "A typical Knox Capture workflow for IT admins involves:\n",
      "\n",
      "1. Downloading, installing, and launching the Knox Capture app.\n",
      "2. Editing the default scanning profile by changing scan engine settings like supported barcode types and enabling flashlight button. \n",
      "3. Setting keystroke output rules like appending an Enter keystroke to scanned data.\n",
      "4. Testing the profile in test mode using a business app like Samsung Internet. This validates barcode types, flashlight button, and keystroke output rules work as expected.\n",
      "5. Exporting the profile configuration as a text file. \n",
      "6. Using an EMM/UEM to deploy Knox Capture as a managed app to end-user devices, with the exported configuration file included.\n",
      "</answer>\u001b[0m\n",
      "ReRanker similarity: 0.9986659288406372\n",
      "Langchain correctness: 1\n",
      "Custom correctness: 4\n",
      "has_right_context: 1\n",
      "true_context_rank: 1/4\n",
      "mrr: 1.000\n",
      "latency: 0:00:12.365558 secs\n",
      "prediction length: 718\n",
      "5\n",
      "\u001b[31mQuestion: \u001b[0m \u001b[31mWhat specific action launches the scanner in step 3 according to the instructions?\u001b[0m\n",
      "\u001b[32mGroundTruth: \u001b[0m \u001b[32mTap the Knox Capture button on the keyboard.\u001b[0m\n",
      "\u001b[34mPrediction: \u001b[0m \u001b[34m <answer>In step 3, the action that launches the scanner is to ensure \"Hardware key\" is turned on. This allows the selected camera scan trigger hardware key, such as the XCover key, to launch the scanner when pressed.</answer>\u001b[0m\n",
      "ReRanker similarity: 0.001910485909320414\n",
      "Langchain correctness: 0\n",
      "Custom correctness: 1\n",
      "has_right_context: 0\n",
      "true_context_rank: 0/5\n",
      "mrr: 0.000\n",
      "latency: 0:00:08.721195 secs\n",
      "prediction length: 226\n",
      "6\n",
      "\u001b[31mQuestion: \u001b[0m \u001b[31mWhat type of configuration settings allow IT admins to append key events after barcode scans in Knox Capture?\u001b[0m\n",
      "\u001b[32mGroundTruth: \u001b[0m \u001b[32mKnox Capture includes keystroke output rules that IT admins can use to append key events after a barcode scan.\u001b[0m\n",
      "\u001b[34mPrediction: \u001b[0m \u001b[34m <answer>The keystroke output rules in a Knox Capture scanning profile allow IT admins to append key events like Tab and Enter after barcode scans. Specifically, in the Keystroke output options of a profile, admins can enable options like \"Append Tab character\" and \"Append Enter character\" to emulate pressing these keys on a keyboard after a successful barcode scan.</answer>\u001b[0m\n",
      "ReRanker similarity: 0.9999276399612427\n",
      "Langchain correctness: 1\n",
      "Custom correctness: 5\n",
      "has_right_context: 0\n",
      "true_context_rank: 0/4\n",
      "mrr: 0.000\n",
      "latency: 0:00:06.864649 secs\n",
      "prediction length: 377\n",
      "7\n",
      "\u001b[31mQuestion: \u001b[0m \u001b[31mWhat character is appended to the end of scanned barcode data to automate submitting a form?\u001b[0m\n",
      "\u001b[32mGroundTruth: \u001b[0m \u001b[32mAppend Enter character (ASCII Line Feed character, 0x0A)\u001b[0m\n",
      "\u001b[34mPrediction: \u001b[0m \u001b[34m <answer>The Append Enter character setting appends an Enter (ASCII Line Feed character, 0x0A) to the end of scanned barcode data to automate submitting a form.</answer>\u001b[0m\n",
      "ReRanker similarity: 0.9992778897285461\n",
      "Langchain correctness: 1\n",
      "Custom correctness: 5\n",
      "has_right_context: 1\n",
      "true_context_rank: 1/3\n",
      "mrr: 1.000\n",
      "latency: 0:00:05.841203 secs\n",
      "prediction length: 169\n",
      "8\n",
      "\u001b[31mQuestion: \u001b[0m \u001b[31mWhat action sends a specific number of characters from the current cursor position?\u001b[0m\n",
      "\u001b[32mGroundTruth: \u001b[0m \u001b[32mSend next characters\u001b[0m\n",
      "\u001b[34mPrediction: \u001b[0m \u001b[34m <answer>The \"Send next characters\" action under the \"Data sending\" category sends a specific number of characters from the current cursor position.</answer>\u001b[0m\n",
      "ReRanker similarity: 0.997346043586731\n",
      "Langchain correctness: 1\n",
      "Custom correctness: 5\n",
      "has_right_context: 1\n",
      "true_context_rank: 1/2\n",
      "mrr: 1.000\n",
      "latency: 0:00:05.505204 secs\n",
      "prediction length: 157\n",
      "9\n",
      "\u001b[31mQuestion: \u001b[0m \u001b[31mWhat is the default zoom factor value in Knox Capture and what is the range of values it can take?\u001b[0m\n",
      "\u001b[32mGroundTruth: \u001b[0m \u001b[32mThe default zoom factor value in Knox Capture is 1.0. It can take any value between 1.0 and 4.0.\u001b[0m\n",
      "\u001b[34mPrediction: \u001b[0m \u001b[34m <answer>\n",
      "The default zoom factor value in Knox Capture is 1.0. The range of values it can take is from 1.0 (no zoom) to 4.0 (fully zoomed in).\n",
      "</answer>\u001b[0m\n",
      "ReRanker similarity: 0.9999243021011353\n",
      "Langchain correctness: 1\n",
      "Custom correctness: 5\n",
      "has_right_context: 1\n",
      "true_context_rank: 1/5\n",
      "mrr: 1.000\n",
      "latency: 0:00:16.685637 secs\n",
      "prediction length: 153\n",
      "10\n",
      "\u001b[31mQuestion: \u001b[0m \u001b[31mWhat steps should you take to pair a new Bluetooth scanner device with Knox Capture?\u001b[0m\n",
      "\u001b[32mGroundTruth: \u001b[0m \u001b[32mTo pair a new Bluetooth scanner device with Knox Capture, you should first ensure Hardware scanner option under Scanner is enabled in your scanning profile. Then on the main Knox Capture page, tap the more actions menu icon, select Connect scanner, and on the Connect scanner screen, select Pair new device.\u001b[0m\n",
      "\u001b[34mPrediction: \u001b[0m \u001b[34m <answer>\n",
      "To pair a new Bluetooth scanner device with Knox Capture:\n",
      "\n",
      "1. On the Knox Capture main page, next to Profiles, tap the more actions menu icon.\n",
      "2. Select Connect scanner. \n",
      "3. On the Connect scanner screen, select Pair new device.\n",
      "4. If Bluetooth is turned off, you're prompted to turn it on. Afterwards, the Bluetooth connection panel appears. You can use this panel to connect to the scanner or navigate to the device settings to connect.\n",
      "5. A pop-up then appears asking the user to confirm whether they want to use the paired device for scanning with Knox Capture. Select Yes.\n",
      "</answer>\u001b[0m\n",
      "ReRanker similarity: 0.9999276399612427\n",
      "Langchain correctness: 0\n",
      "Custom correctness: 4\n",
      "has_right_context: 1\n",
      "true_context_rank: 2/3\n",
      "mrr: 0.500\n",
      "latency: 0:00:09.145206 secs\n",
      "prediction length: 597\n",
      "11\n",
      "\u001b[31mQuestion: \u001b[0m \u001b[31mWhat steps should you take when assigning the Knox Capture app to a group or organization in order to ensure all devices operate in Managed mode?\u001b[0m\n",
      "\u001b[32mGroundTruth: \u001b[0m \u001b[32mWhen assigning the Knox Capture app to a group or organization, you should ensure that the Knox Capture configuration is added to the Managed Google Play console when updating the license key. This will allow all devices to operate in Managed mode.\u001b[0m\n",
      "\u001b[34mPrediction: \u001b[0m \u001b[34m <answer>To ensure all devices operate in Managed mode when assigning the Knox Capture app to a group or organization, you should:\n",
      "\n",
      "1. Add the Knox Capture app to your Managed Google Play Store.\n",
      "2. Assign the app to a group or organization and launch the app configuration dialog. \n",
      "3. Activate the license by pasting it into the field within the app configuration (App Config) screen.\n",
      "4. Copy and paste the exported configuration into the provided app configuration field. \n",
      "5. Save the updated settings and deploy.</answer>\u001b[0m\n",
      "ReRanker similarity: 0.9999099969863892\n",
      "Langchain correctness: 1\n",
      "Custom correctness: 5\n",
      "has_right_context: 1\n",
      "true_context_rank: 1/3\n",
      "mrr: 1.000\n",
      "latency: 0:00:08.266992 secs\n",
      "prediction length: 523\n",
      "12\n",
      "\u001b[31mQuestion: \u001b[0m \u001b[31mWhat are the two steps you must complete before getting a Knox Suite license for continued use of Knox Capture after the free trial expires?\u001b[0m\n",
      "\u001b[32mGroundTruth: \u001b[0m \u001b[32m1. Sign up for a Samsung Knox account if you haven't already. 2. Apply for access to Knox Suite and sign in to the Knox Admin Portal to generate your Knox Capture license.\u001b[0m\n",
      "\u001b[34mPrediction: \u001b[0m \u001b[34m <answer>\n",
      "The two steps you must complete before getting a Knox Suite license for continued use of Knox Capture after the free trial expires are:\n",
      "\n",
      "1. Sign up for a Samsung Knox account if you haven't already done so.\n",
      "\n",
      "2. Once you have an account, apply for access to Knox Suite.\n",
      "</answer>\u001b[0m\n",
      "ReRanker similarity: 0.9990397095680237\n",
      "Langchain correctness: 0\n",
      "Custom correctness: 5\n",
      "has_right_context: 1\n",
      "true_context_rank: 1/3\n",
      "mrr: 1.000\n",
      "latency: 0:00:05.729816 secs\n",
      "prediction length: 288\n",
      "13\n",
      "\u001b[31mQuestion: \u001b[0m \u001b[31mWhat are two ways to deactivate a Knox Capture license if it was activated through an EMM?\u001b[0m\n",
      "\u001b[32mGroundTruth: \u001b[0m \u001b[32mTo deactivate a Knox Capture license if it was activated through an EMM, you can send an uninstallation command for the Knox Capture app or edit the existing license field in the Knox Capture app configuration.\u001b[0m\n",
      "\u001b[34mPrediction: \u001b[0m \u001b[34m <answer>\n",
      "The two ways to deactivate a Knox Capture license if it was activated through an EMM are:\n",
      "\n",
      "1. Push an uninstallation command for the Knox Capture app through the EMM. Once the device receives the command, the Knox Capture app is removed and its license seat is unassigned.\n",
      "\n",
      "2. Edit the license field in the Knox Capture app configuration in the EMM. Replace the existing license key string with DEACTIVATE and save the changes. Once the Knox Capture agent detects the new string, the license is deactivated.\n",
      "</answer>\u001b[0m\n",
      "ReRanker similarity: 0.9999274015426636\n",
      "Langchain correctness: 1\n",
      "Custom correctness: 5\n",
      "has_right_context: 1\n",
      "true_context_rank: 1/3\n",
      "mrr: 1.000\n",
      "latency: 0:00:11.222522 secs\n",
      "prediction length: 527\n",
      "14\n",
      "\u001b[31mQuestion: \u001b[0m \u001b[31mWhat intent output information can be obtained from the bundle according to the code snippet?\u001b[0m\n",
      "\u001b[32mGroundTruth: \u001b[0m \u001b[32mThe following intent output information can be obtained from the bundle:\n",
      "- INTENT_OUTPUT_SCAN_SOURCE\n",
      "- INTENT_OUTPUT_SYMBLOGY_TYPE\n",
      "- INTENT_OUTPUT_UNPROCESSED_STRING_DATA\u001b[0m\n",
      "\u001b[34mPrediction: \u001b[0m \u001b[34m <answer>\n",
      "The intent output information that can be obtained from the bundle according to the code snippet includes:\n",
      "\n",
      "- Test mode status (whether Knox Capture test mode is on)\n",
      "- The list of scanned bundles (the scanned barcode data)\n",
      "- The unprocessed raw data\n",
      "- The unprocessed string data  \n",
      "- The symbology type\n",
      "- The scan source\n",
      "- The scanner type\n",
      "</answer>\u001b[0m\n",
      "ReRanker similarity: 0.9985336065292358\n",
      "Langchain correctness: 0\n",
      "Custom correctness: 4\n",
      "has_right_context: 1\n",
      "true_context_rank: 1/2\n",
      "mrr: 1.000\n",
      "latency: 0:00:06.177571 secs\n",
      "prediction length: 359\n",
      "15\n",
      "\u001b[31mQuestion: \u001b[0m \u001b[31mWhat are the 4 steps outlined that Knox Capture admins need to follow to set up intent output?\u001b[0m\n",
      "\u001b[32mGroundTruth: \u001b[0m \u001b[32m1. Tap on the profile you want to set up intent output for.\n",
      "2. Under Intent output, tap Select app packages.\n",
      "3. Tap on Select app packages.\n",
      "4. Tap on Select apps for intent output.\u001b[0m\n",
      "\u001b[34mPrediction: \u001b[0m \u001b[34m <answer>\n",
      "The 4 steps outlined that Knox Capture admins need to follow to set up intent output are:\n",
      "\n",
      "1. On the Knox Capture home screen, tap on the profile you want to set intent output for.\n",
      "2. Under Intent output, tap Select app packages and select the apps for intent output.\n",
      "3. Under Intent output, specify an Intent action, Intent category, and Intent delivery method to handle the intent. \n",
      "4. Make sure the package name, intent action, and intent category match your business app's intent filter information.\n",
      "</answer>\u001b[0m\n",
      "ReRanker similarity: 0.997740626335144\n",
      "Langchain correctness: 0\n",
      "Custom correctness: 3\n",
      "has_right_context: 1\n",
      "true_context_rank: 1/3\n",
      "mrr: 1.000\n",
      "latency: 0:00:08.402533 secs\n",
      "prediction length: 523\n",
      "16\n",
      "\u001b[31mQuestion: \u001b[0m \u001b[31mWhat gesture must the user perform to enable the scanner overlay feature? The user must tap the Options button represented by three dots, then tap Scanner overlay, and finally toggle the feature On to enable it.\u001b[0m\n",
      "\u001b[32mGroundTruth: \u001b[0m \u001b[32mThe user must tap the Options button represented by three dots, then tap Scanner overlay, and finally toggle the feature On to enable it.\u001b[0m\n",
      "\u001b[34mPrediction: \u001b[0m \u001b[34m <answer>To enable the Scanner overlay feature, the user must:\n",
      "\n",
      "1. Go to the Knox Capture home screen\n",
      "2. Tap the Options button (three dots)\n",
      "3. Tap Scanner overlay\n",
      "4. Toggle the feature On\n",
      "</answer>\u001b[0m\n",
      "ReRanker similarity: 0.9998488426208496\n",
      "Langchain correctness: 1\n",
      "Custom correctness: 5\n",
      "has_right_context: 1\n",
      "true_context_rank: 1/4\n",
      "mrr: 1.000\n",
      "latency: 0:00:05.187394 secs\n",
      "prediction length: 198\n",
      "17\n",
      "\u001b[31mQuestion: \u001b[0m \u001b[31mWhat are the four new values shown in the test overlay after scanning a barcode?\u001b[0m\n",
      "\u001b[32mGroundTruth: \u001b[0m \u001b[32mThe four new values are: Output, Scanned data, Scanned raw, Active profile.\u001b[0m\n",
      "\u001b[34mPrediction: \u001b[0m \u001b[34m <answer>\n",
      "The four new values shown in the test overlay after scanning a barcode are:\n",
      "\n",
      "1. Output - The processed data in test mode notation with keystroke output rules applied.\n",
      "2. Scanned data - The scanned barcode data in test mode notation without any keystroke output rules applied. \n",
      "3. Scanned raw - The scanned barcode data in hexadecimal format without any keystroke output rules applied.\n",
      "4. Scanned - The scanned barcode data in test mode notation without any keystroke output rules applied.\n",
      "</answer>\u001b[0m\n",
      "ReRanker similarity: 0.9930211901664734\n",
      "Langchain correctness: 0\n",
      "Custom correctness: 2\n",
      "has_right_context: 1\n",
      "true_context_rank: 1/4\n",
      "mrr: 1.000\n",
      "latency: 0:00:08.064274 secs\n",
      "prediction length: 508\n",
      "18\n",
      "\u001b[31mQuestion: \u001b[0m \u001b[31mWhat are two examples provided in the text of how printable and non-printable ASCII characters are represented in the test overlay?\u001b[0m\n",
      "\u001b[32mGroundTruth: \u001b[0m \u001b[32mIn the test overlay, printable ASCII characters are represented in their native printable format, while non-printable ASCII control characters are represented with standard abbreviations. For instance, a Tab control character appears as \"HT\" and a Line Feed control character appears as \"LF\" in the test overlay.\u001b[0m\n",
      "\u001b[34mPrediction: \u001b[0m \u001b[34m <answer>\n",
      "Two examples provided in the text of how printable and non-printable ASCII characters are represented in the test overlay are:\n",
      "\n",
      "1. Printable ASCII or Unicode characters are represented in their native printable format. For example, \"abc123\" appears as \"abc123\" in the test overlay. \n",
      "\n",
      "2. Non-printable ASCII control characters are represented with standard abbreviation. For example, a Tab control character appears as \"HT\" in the test overlay.\n",
      "</answer>\u001b[0m\n",
      "ReRanker similarity: 0.9997705817222595\n",
      "Langchain correctness: 1\n",
      "Custom correctness: 5\n",
      "has_right_context: 1\n",
      "true_context_rank: 1/3\n",
      "mrr: 1.000\n",
      "latency: 0:00:07.356031 secs\n",
      "prediction length: 463\n",
      "19\n",
      "\u001b[31mQuestion: \u001b[0m \u001b[31mWhat ASCII control code has a decimal value of 27 and a hexadecimal value of 1B, and what does it represent?\u001b[0m\n",
      "\u001b[32mGroundTruth: \u001b[0m \u001b[32mEscape (ESC) is ASCII control code with a decimal value of 27 and a hexadecimal value of 1B. It is typically used to abort an operation, such as performing the function of cancelling an escape in a character following a we define in ISO/IEC 6429.\u001b[0m\n",
      "\u001b[34mPrediction: \u001b[0m \u001b[34m <answer>\n",
      "The ASCII control code with decimal value 27 and hexadecimal value 1B is the Escape (ESC) control character. It is used to signal the start of an escape sequence, which represents non-printable control characters.\n",
      "</answer>\u001b[0m\n",
      "ReRanker similarity: 0.9987409710884094\n",
      "Langchain correctness: 1\n",
      "Custom correctness: 5\n",
      "has_right_context: 1\n",
      "true_context_rank: 1/3\n",
      "mrr: 1.000\n",
      "latency: 0:00:06.916960 secs\n",
      "prediction length: 233\n",
      "20\n",
      "\u001b[31mQuestion: \u001b[0m \u001b[31mDescribe an example use case for the search-and-find AR template. What problem does it help solve?\u001b[0m\n",
      "\u001b[32mGroundTruth: \u001b[0m \u001b[32mThis AR template can help a retail worker locate a single box from a large wall of boxes in a warehouse. It analyzes each barcode in the camera preview window and overlays a match on the worker's screen for easy identification.\u001b[0m\n",
      "\u001b[34mPrediction: \u001b[0m \u001b[34m <answer>\n",
      "The search-and-find AR template helps solve the problem of locating a specific item from a group of similar items. For example, it could help a retail worker locate a single box from a large wall of boxes in a warehouse. \n",
      "\n",
      "To use it:\n",
      "1. The worker scans a reference barcode of the item they are searching for. \n",
      "2. The worker then points their camera at the wall of boxes. \n",
      "3. Knox Capture AR analyzes the barcodes in view and highlights the matching barcode when found.\n",
      "\n",
      "This saves the worker from having to scan through each box individually to find the correct item.\n",
      "</answer>\u001b[0m\n",
      "ReRanker similarity: 0.999913215637207\n",
      "Langchain correctness: 1\n",
      "Custom correctness: 5\n",
      "has_right_context: 1\n",
      "true_context_rank: 1/3\n",
      "mrr: 1.000\n",
      "latency: 0:00:15.648591 secs\n",
      "prediction length: 588\n",
      "21\n",
      "\u001b[31mQuestion: \u001b[0m \u001b[31mWhat are the two ways mentioned to activate your Knox Capture license?\u001b[0m\n",
      "\u001b[32mGroundTruth: \u001b[0m \u001b[32mThere are two ways to activate your Knox Capture license: Through your EMM and Through the License menu.\u001b[0m\n",
      "\u001b[34mPrediction: \u001b[0m \u001b[34m <answer>\n",
      "The two ways mentioned to activate your Knox Capture license are:\n",
      "\n",
      "1. Through the License menu in the Knox Capture app. Steps are provided to enter the license key manually or by scanning a QR code.\n",
      "\n",
      "2. Through your EMM. Steps are provided to paste the license key in the app configuration dialog in the EMM console.\n",
      "</answer>\u001b[0m\n",
      "ReRanker similarity: 0.9999203681945801\n",
      "Langchain correctness: 1\n",
      "Custom correctness: 5\n",
      "has_right_context: 1\n",
      "true_context_rank: 1/3\n",
      "mrr: 1.000\n",
      "latency: 0:00:05.893340 secs\n",
      "prediction length: 336\n",
      "22\n",
      "\u001b[31mQuestion: \u001b[0m \u001b[31mWhat steps should you take to enter a Knox Capture license key when prompted after tapping the license text field?\u001b[0m\n",
      "\u001b[32mGroundTruth: \u001b[0m \u001b[32mWhen prompted, one should enter the Knox Capture license key in the text field, and then tap \"Done\" to confirm.\u001b[0m\n",
      "\u001b[34mPrediction: \u001b[0m \u001b[34m <answer>To enter a Knox Capture license key when prompted after tapping the license text field, you should:\n",
      "\n",
      "1. Enter your Knox Capture license key\n",
      "2. Tap Done\n",
      "\n",
      "</answer>\n",
      "\n",
      "The relevant context is:\n",
      "\"3. A popup appears prompting you to enter your Knox Capture license key. After you've entered the license key, tap Done. The license screen then confirms your license is active.\"\u001b[0m\n",
      "ReRanker similarity: 0.999895453453064\n",
      "Langchain correctness: 1\n",
      "Custom correctness: 4\n",
      "has_right_context: 1\n",
      "true_context_rank: 1/2\n",
      "mrr: 1.000\n",
      "latency: 0:00:07.449964 secs\n",
      "prediction length: 377\n",
      "23\n",
      "\u001b[31mQuestion: \u001b[0m \u001b[31mWhat property can be changed to include barcode lengths not enabled by default or optimize decoding performance for a certain number of symbols?\u001b[0m\n",
      "\u001b[32mGroundTruth: \u001b[0m \u001b[32mThe active symbol count property can be changed to include barcode lengths not enabled by default or optimize decoding performance for a certain number of symbols. The active symbol count determines the barcode length (active symbol count) to decode.\u001b[0m\n",
      "\u001b[34mPrediction: \u001b[0m \u001b[34m <answer>The \"Min. length\" setting can be changed to include barcode lengths not enabled by default or optimize decoding performance for a certain number of symbols. This setting determines the minimum supported barcode length (active symbol count) to decode.</answer>\u001b[0m\n",
      "ReRanker similarity: 0.9971849322319031\n",
      "Langchain correctness: 1\n",
      "Custom correctness: 5\n",
      "has_right_context: 1\n",
      "true_context_rank: 1/3\n",
      "mrr: 1.000\n",
      "latency: 0:00:06.241407 secs\n",
      "prediction length: 268\n",
      "24\n",
      "\u001b[31mQuestion: \u001b[0m \u001b[31mWhat barcode type typically has optional checksums that can be enforced to help reduce false positives and provide an extra layer of error prevention?\u001b[0m\n",
      "\u001b[32mGroundTruth: \u001b[0m \u001b[32mSome barcode types include a mandatory checksum, while others only have optional checksums. Enforcing an optional checksum helps reduce false positives and provides an extra layer of error prevention.\u001b[0m\n",
      "\u001b[34mPrediction: \u001b[0m \u001b[34m <answer>Some barcode types include optional checksums that can help reduce false positives and provide an extra layer of error prevention. When enabling a checksum, ensure your barcode data includes the calculated checksum, otherwise the checksum will not match and the barcode data is discarded.</answer>\u001b[0m\n",
      "ReRanker similarity: 0.9997135996818542\n",
      "Langchain correctness: 1\n",
      "Custom correctness: 4\n",
      "has_right_context: 1\n",
      "true_context_rank: 1/3\n",
      "mrr: 1.000\n",
      "latency: 0:00:05.803637 secs\n",
      "prediction length: 306\n",
      "25\n",
      "\u001b[31mQuestion: \u001b[0m \u001b[31mWhat are the two Android versions that Knox Capture v1.0.01 now supports on devices like the XCover Pro and Tab Active3?\u001b[0m\n",
      "\u001b[32mGroundTruth: \u001b[0m \u001b[32mAndroid 10 and Android 11.\u001b[0m\n",
      "\u001b[34mPrediction: \u001b[0m \u001b[34m <answer>Knox Capture v1.0.01 now supports Android 10 and Android 11 on devices like the XCover Pro and Tab Active3.</answer>\u001b[0m\n",
      "ReRanker similarity: 0.7771793603897095\n",
      "Langchain correctness: 1\n",
      "Custom correctness: 5\n",
      "has_right_context: 1\n",
      "true_context_rank: 1/5\n",
      "mrr: 1.000\n",
      "latency: 0:00:05.797284 secs\n",
      "prediction length: 125\n",
      "26\n",
      "\u001b[31mQuestion: \u001b[0m \u001b[31mWhat new capability does Knox Capture v1.1 add to support sending scan data to business apps?\u001b[0m\n",
      "\u001b[32mGroundTruth: \u001b[0m \u001b[32mKnox Capture v1.1 adds support for intent output, which allows the scan data to be sent programmatically to a business app when triggered by an Android intent.\u001b[0m\n",
      "\u001b[34mPrediction: \u001b[0m \u001b[34m <answer>Knox Capture v1.1 adds support for intent output. As an IT admin, you can configure scan data to be sent programmatically to a business app when triggered by an Android intent. Upon scanning, the app acquires the data and can either consume or process it further.</answer>\u001b[0m\n",
      "ReRanker similarity: 0.9999276399612427\n",
      "Langchain correctness: 1\n",
      "Custom correctness: 5\n",
      "has_right_context: 1\n",
      "true_context_rank: 1/4\n",
      "mrr: 1.000\n",
      "latency: 0:00:07.674074 secs\n",
      "prediction length: 281\n",
      "27\n",
      "\u001b[31mQuestion: \u001b[0m \u001b[31mWhat new interface elements indicate when an admin has tested a configuration in Admin mode?\u001b[0m\n",
      "\u001b[32mGroundTruth: \u001b[0m \u001b[32mKnox Capture v1.2 adds support for USB and Bluetooth hardware scanners and displays a green checkmark to its right to indicate its tested status.\u001b[0m\n",
      "\u001b[34mPrediction: \u001b[0m \u001b[34m <answer>When testing configurations in Admin mode, new indicators for tested app activities are displayed under the profile. Any activity not visible in the list behaves under the default profile. After being tested, each activity displays a green checkmark to its right to indicate its tested status.</answer>\u001b[0m\n",
      "ReRanker similarity: 0.8659541010856628\n",
      "Langchain correctness: 0\n",
      "Custom correctness: 2\n",
      "has_right_context: 1\n",
      "true_context_rank: 1/3\n",
      "mrr: 1.000\n",
      "latency: 0:00:06.864170 secs\n",
      "prediction length: 311\n",
      "28\n",
      "\u001b[31mQuestion: \u001b[0m \u001b[31mWhat type of notification will the user receive if the IT admin has restricted the camera preview window?\u001b[0m\n",
      "\u001b[32mGroundTruth: \u001b[0m \u001b[32mThe user will now get a notification asking them to contact their IT admin for more information.\u001b[0m\n",
      "\u001b[34mPrediction: \u001b[0m \u001b[34m <answer>If the IT admin has restricted the camera preview window, the user will receive a notification asking them to contact their IT admin for more information.</answer>\u001b[0m\n",
      "ReRanker similarity: 0.9990179538726807\n",
      "Langchain correctness: 1\n",
      "Custom correctness: 5\n",
      "has_right_context: 1\n",
      "true_context_rank: 1/4\n",
      "mrr: 1.000\n",
      "latency: 0:00:05.362375 secs\n",
      "prediction length: 172\n",
      "29\n",
      "\u001b[31mQuestion: \u001b[0m \u001b[31mHow can managed mode be automatically applied to enterprise devices?\u001b[0m\n",
      "\u001b[32mGroundTruth: \u001b[0m \u001b[32mTo automatically apply managed mode to enterprise devices, Knox Capture must be configured and deployed through an EMM (Enterprise Mobility Management) console.\u001b[0m\n",
      "\u001b[34mPrediction: \u001b[0m \u001b[34m <answer>\n",
      "Managed mode is automatically applied when Knox Capture is configured and deployed through an EMM console. To ensure devices run Knox Capture in Managed mode, admins should:\n",
      "\n",
      "1. Install Knox Capture on an admin device, configure scanning profiles, and export the configuration as a text file.\n",
      "\n",
      "2. Add Knox Capture to Managed Google Play and assign it to groups/organizations. \n",
      "\n",
      "3. Open the app configuration dialog in the EMM console and paste in the exported configuration text.\n",
      "\n",
      "4. Save settings and deploy Knox Capture. The app will now run in Managed mode on enterprise devices.\n",
      "</answer>\u001b[0m\n",
      "ReRanker similarity: 0.9998584985733032\n",
      "Langchain correctness: 1\n",
      "Custom correctness: 4\n",
      "has_right_context: 1\n",
      "true_context_rank: 1/5\n",
      "mrr: 1.000\n",
      "latency: 0:00:10.479116 secs\n",
      "prediction length: 602\n",
      "30\n",
      "\u001b[31mQuestion: \u001b[0m \u001b[31mWhat tutorial can users follow to get started with Knox Capture for free?\u001b[0m\n",
      "\u001b[32mGroundTruth: \u001b[0m \u001b[32mTo get started with Knox Capture for free, users can download the app from Google Play and configure scan settings according to the IT admins: Get started tutorial.\u001b[0m\n",
      "\u001b[34mPrediction: \u001b[0m \u001b[34m <answer>To try Knox Capture for free, users can follow the end-user get started tutorial. This tutorial guides end-users through launching the barcode scanner from an app, reviewing scanning profile configurations, and changing camera scan triggers.</answer>\u001b[0m\n",
      "ReRanker similarity: 0.99394690990448\n",
      "Langchain correctness: 0\n",
      "Custom correctness: 4\n",
      "has_right_context: 1\n",
      "true_context_rank: 1/5\n",
      "mrr: 1.000\n",
      "latency: 0:00:08.267789 secs\n",
      "prediction length: 259\n",
      "31\n",
      "\u001b[31mQuestion: \u001b[0m \u001b[31mHow would you find more information on managing a Scandit license if using Knox Capture: Scandit Edition?\u001b[0m\n",
      "\u001b[32mGroundTruth: \u001b[0m \u001b[32mYou would refer to the Manage Scandit license page in the Scandit Edition section for more information.\u001b[0m\n",
      "\u001b[34mPrediction: \u001b[0m \u001b[34m <answer>To find more information on managing a Scandit license when using Knox Capture: Scandit Edition, refer to the \"Manage Scandit license\" page in the Scandit Edition section.</answer>\u001b[0m\n",
      "ReRanker similarity: 0.9993181228637695\n",
      "Langchain correctness: 1\n",
      "Custom correctness: 5\n",
      "has_right_context: 1\n",
      "true_context_rank: 2/4\n",
      "mrr: 0.500\n",
      "latency: 0:00:06.084203 secs\n",
      "prediction length: 189\n",
      "32\n",
      "\u001b[31mQuestion: \u001b[0m \u001b[31mWhat are some common reasons why barcode data may not output correctly to a business app?\u001b[0m\n",
      "\u001b[32mGroundTruth: \u001b[0m \u001b[32mMost barcode capture issues begin with minor errors in the keystroke output and scan engine settings.\u001b[0m\n",
      "\u001b[34mPrediction: \u001b[0m \u001b[34m <answer>Some common reasons why barcode data may not output correctly to a business app include:\n",
      "\n",
      "- Minor errors in the keystroke output and scan engine settings\n",
      "- Incorrect configurations after setting up a profile\n",
      "- Scanning overlay not appearing when launching the camera\n",
      "- Cannot output scanned barcode data to HTML fields in Chromium-based web browsers\n",
      "- Scan data only being partially sent to the business app\n",
      "</answer>\u001b[0m\n",
      "ReRanker similarity: 0.9714464545249939\n",
      "Langchain correctness: 1\n",
      "Custom correctness: 4\n",
      "has_right_context: 1\n",
      "true_context_rank: 1/5\n",
      "mrr: 1.000\n",
      "latency: 0:00:10.387155 secs\n",
      "prediction length: 426\n",
      "33\n",
      "\u001b[31mQuestion: \u001b[0m \u001b[31mIf a user is seeing a \"Your current device software is unsupported\" message when trying to install Knox Capture, what are two possible reasons for why they are seeing this message?\u001b[0m\n",
      "\u001b[32mGroundTruth: \u001b[0m \u001b[32mThere are two possible reasons for why a user is seeing this message. One is that the device's current software (operating system) is not currently supported by Knox Capture. The second reason is that the user's wireless carrier has not yet pushed the most recent updates to the device.\u001b[0m\n",
      "\u001b[34mPrediction: \u001b[0m \u001b[34m <answer>\n",
      "The two possible reasons for seeing the \"Your current device software is unsupported\" message when trying to install Knox Capture are:\n",
      "\n",
      "1. The current device software (OS) version is not supported by Knox Capture.\n",
      "\n",
      "2. The wireless carrier has not yet pushed the most recent software updates to the device.\n",
      "</answer>\u001b[0m\n",
      "ReRanker similarity: 0.9999276399612427\n",
      "Langchain correctness: 1\n",
      "Custom correctness: 5\n",
      "has_right_context: 1\n",
      "true_context_rank: 1/5\n",
      "mrr: 1.000\n",
      "latency: 0:00:06.226995 secs\n",
      "prediction length: 325\n",
      "34\n",
      "\u001b[31mQuestion: \u001b[0m \u001b[31mWhat intent action should be used for the key release event when setting up PTT key mapping on a Samsung Knox device?\u001b[0m\n",
      "\u001b[32mGroundTruth: \u001b[0m \u001b[32mcom.samsung.android.knox.intent.action.PTT_RELEASE\u001b[0m\n",
      "\u001b[34mPrediction: \u001b[0m \u001b[34m <answer>The intent action that should be used for the key release event when setting up PTT key mapping on a Samsung Knox device is:\n",
      "\n",
      "com.samsung.android.knox.intent.action.PTT_RELEASE\n",
      "\n",
      "</answer>\u001b[0m\n",
      "ReRanker similarity: 0.9991344809532166\n",
      "Langchain correctness: 1\n",
      "Custom correctness: 5\n",
      "has_right_context: 1\n",
      "true_context_rank: 1/3\n",
      "mrr: 1.000\n",
      "latency: 0:00:05.137120 secs\n",
      "prediction length: 196\n",
      "35\n",
      "\u001b[31mQuestion: \u001b[0m \u001b[31mWhat setting in the Knox Capture scanning profile results in only partial barcode data being sent to the business app when using keystroke output?\u001b[0m\n",
      "\u001b[32mGroundTruth: \u001b[0m \u001b[32mContinuous scanning being enabled and Keystroke output being set to Key events.\u001b[0m\n",
      "\u001b[34mPrediction: \u001b[0m \u001b[34m <answer>The setting that results in only partial barcode data being sent to the business app when using keystroke output is the \"Set key event delay\" under Keystroke output. When this delay is set too low, Knox Capture will switch the focus back to the scanner overlay before all the scanned data has been sent to the business app, resulting in only partial data being received by the business app.</answer>\u001b[0m\n",
      "ReRanker similarity: 0.9377393126487732\n",
      "Langchain correctness: 0\n",
      "Custom correctness: 2\n",
      "has_right_context: 1\n",
      "true_context_rank: 1/5\n",
      "mrr: 1.000\n",
      "latency: 0:00:08.872924 secs\n",
      "prediction length: 408\n",
      "36\n",
      "\u001b[31mQuestion: \u001b[0m \u001b[31mAccording to the passage, what setting should be changed to resolve the issue where undelivered data is sent to the scanner overlay instead of the business app?\u001b[0m\n",
      "\u001b[32mGroundTruth: \u001b[0m \u001b[32mIn the Knox Capture profile settings, navigate to Keystroke output > Set key event delay and extend the length of time before the foreground focus switches back to the scanner overlay.\u001b[0m\n",
      "\u001b[34mPrediction: \u001b[0m \u001b[34m <answer>To resolve the issue where undelivered data is sent to the scanner overlay instead of the business app, the passage recommends going to the Knox Capture profile settings, navigating to Keystroke output > Set key event delay, and extending the length of time before the foreground focus switches back to the scanner overlay. By default, the key event delay is set to 0 ms.</answer>\u001b[0m\n",
      "ReRanker similarity: 0.999901294708252\n",
      "Langchain correctness: 1\n",
      "Custom correctness: 5\n",
      "has_right_context: 1\n",
      "true_context_rank: 1/4\n",
      "mrr: 1.000\n",
      "latency: 0:00:05.578651 secs\n",
      "prediction length: 389\n",
      "37\n",
      "\u001b[31mQuestion: \u001b[0m \u001b[31mWhat are some of the common issues that can occur when using Knox Capture, such as problems with scanning overlays or barcode capture?\u001b[0m\n",
      "\u001b[32mGroundTruth: \u001b[0m \u001b[32mSome of the common issues that can occur when using Knox Capture include: scanning overlay doesn't appear when launching the camera; outputs scanned barcode data to HTML fields in chromium-based web browsers; and sometimes the scanned data is only partially sent to business app.\u001b[0m\n",
      "\u001b[34mPrediction: \u001b[0m \u001b[34m <answer>\n",
      "Some common issues that can occur when using Knox Capture include:\n",
      "\n",
      "- Scanning overlay doesn't appear when launching the camera\n",
      "- Cannot output scanned barcode data to HTML fields in Chromium-based web browsers\n",
      "- Scan data is only partially sent to business app\n",
      "- Barcode capture not working for business app\n",
      "- Current device software is unsupported when installing Knox Capture\n",
      "- Out-of-range barcode still scanned successfully by Knox Capture \n",
      "- Policy or license updates not applied to Knox Capture app\n",
      "- Keystroke output data sent to browser or web app instead of business app\n",
      "</answer>\u001b[0m\n",
      "ReRanker similarity: 0.999927282333374\n",
      "Langchain correctness: 1\n",
      "Custom correctness: 5\n",
      "has_right_context: 1\n",
      "true_context_rank: 1/5\n",
      "mrr: 1.000\n",
      "latency: 0:00:09.768403 secs\n",
      "prediction length: 600\n"
     ]
    }
   ],
   "source": [
    "%%time\n",
    "evaluation = []\n",
    "parent_document = True\n",
    "for idx, row in enumerate(ground_thruth.itertuples()):\n",
    "    try:\n",
    "        question, answer, doc, doc_id = getattr(row, \"question\"), getattr(row, \"answer\"), getattr(row, \"doc\"), getattr(row, \"doc_id\")\n",
    "\n",
    "        start = time.time()\n",
    "        response = qa_chain(question)\n",
    "        elapsed = time.time() - start\n",
    "\n",
    "        prediction = response[\"result\"]\n",
    "        retrieved_docs = {doc.page_content: idx+1 for idx, doc in enumerate(response[\"source_documents\"])}\n",
    "        contexts = \"\\n\\n\".join(retrieved_docs.keys())\n",
    "\n",
    "        payload = json.dumps(\n",
    "            {\n",
    "                \"inputs\": [\n",
    "                    {\"text\": answer, \"text_pair\": prediction},\n",
    "                ]\n",
    "            }\n",
    "        )\n",
    "\n",
    "        response = runtime_client.invoke_endpoint(\n",
    "            EndpointName=endpoint_name,\n",
    "            ContentType=\"application/json\",\n",
    "            Accept=\"application/json\",\n",
    "            Body=payload\n",
    "        )\n",
    "        out = json.loads(response['Body'].read().decode()) ## for json\n",
    "\n",
    "        eval_result_langchain = langchain_evaluator.evaluate_strings(\n",
    "            input=question,\n",
    "            prediction=prediction,\n",
    "            reference=answer,\n",
    "        )\n",
    "        eval_result_custom = custom_evaluator.invoke(\n",
    "            {\n",
    "                \"query\": question,\n",
    "                \"generated_answer\": prediction,\n",
    "                \"reference_answer\": answer\n",
    "            }\n",
    "        )\n",
    "        \n",
    "        reranker_sim = out[0][\"score\"]\n",
    "        langchain_correctness = eval_result_langchain[\"score\"]\n",
    "        custom_correctness = int(eval_result_custom.split(\"\\n\")[0].strip().split(\"Score: \")[1])\n",
    "        \n",
    "        if not parent_document:\n",
    "            if doc in retrieved_docs:\n",
    "                true_context_rank = retrieved_docs[doc]\n",
    "                has_right_context = 1\n",
    "                mrr = 1/true_context_rank\n",
    "            else:\n",
    "                true_context_rank = has_right_context = 0\n",
    "                mrr = 0\n",
    "        else:\n",
    "            for retrieved_doc in retrieved_docs:\n",
    "                \n",
    "                if doc in retrieved_doc:\n",
    "\n",
    "                    true_context_rank = retrieved_docs[retrieved_doc]\n",
    "                    has_right_context = 1\n",
    "                    mrr = 1/true_context_rank\n",
    "                    break\n",
    "                else:\n",
    "                    true_context_rank = has_right_context = 0\n",
    "                    mrr = 0\n",
    "\n",
    "        total_contexts = len(retrieved_docs)\n",
    "        latency = datetime.timedelta(seconds=elapsed)\n",
    "\n",
    "        print(idx)\n",
    "        print(colored(\"Question: \", \"red\"), colored(question, \"red\"))\n",
    "        print(colored(\"GroundTruth: \", \"green\"), colored(answer, \"green\"))\n",
    "        print(colored(\"Prediction: \", \"blue\"), colored(prediction, \"blue\"))\n",
    "        print(f'ReRanker similarity: {reranker_sim}')\n",
    "        print(f'Langchain correctness: {langchain_correctness}')\n",
    "        print(f'Custom correctness: {custom_correctness}')\n",
    "        print(f'has_right_context: {has_right_context}')\n",
    "        print(f'true_context_rank: {true_context_rank}/{total_contexts}')\n",
    "        print(f'mrr: {mrr:.3f}')\n",
    "        print(f'latency: {latency} secs')\n",
    "        print(f'prediction length: {len(prediction)}')\n",
    "\n",
    "        evaluation.append([question, answer, prediction, \\\n",
    "                           has_right_context, true_context_rank, total_contexts, mrr, \\\n",
    "                           reranker_sim, langchain_correctness, custom_correctness, elapsed, contexts, len(prediction)])\n",
    "    except:\n",
    "        print (\"err\", idx)\n",
    "\n",
    "eval_results = pd.DataFrame(\n",
    "    evaluation,\n",
    "    columns=[\"question\", \"true_answer\", \"prediction\", \\\n",
    "             \"has_right_context\", \"true_context_rank\", \"total_contexts\", \"mrr\", \\\n",
    "             \"reranker_sim\", \"langchain_correctness\", \"custom_correctness\", \"latency\", \"contexts\", \"pred_length\"]\n",
    ")\n",
    "eval_results.to_csv(\"eval_results_rag_fusion_parent_doc.csv\", index=False)\n",
    "#eval_results.to_pickle(\"eval_results.pkl\")"
   ]
  },
  {
   "cell_type": "code",
   "execution_count": null,
   "id": "d7b94778-0a1e-4186-88dc-f920ada8ee60",
   "metadata": {},
   "outputs": [],
   "source": []
  },
  {
   "cell_type": "code",
   "execution_count": null,
   "id": "b281859c-d511-476a-b560-7c1ed4c345f4",
   "metadata": {},
   "outputs": [],
   "source": []
  }
 ],
 "metadata": {
  "kernelspec": {
   "display_name": "conda_python3",
   "language": "python",
   "name": "conda_python3"
  },
  "language_info": {
   "codemirror_mode": {
    "name": "ipython",
    "version": 3
   },
   "file_extension": ".py",
   "mimetype": "text/x-python",
   "name": "python",
   "nbconvert_exporter": "python",
   "pygments_lexer": "ipython3",
   "version": "3.10.12"
  }
 },
 "nbformat": 4,
 "nbformat_minor": 5
}
