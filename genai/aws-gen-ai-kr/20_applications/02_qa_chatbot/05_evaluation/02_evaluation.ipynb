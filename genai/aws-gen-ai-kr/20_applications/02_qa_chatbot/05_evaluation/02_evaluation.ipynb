{
 "cells": [
  {
   "cell_type": "markdown",
   "id": "b3549227-a8fc-473d-af32-6bf3aee353b2",
   "metadata": {},
   "source": [
    "# Evaluation\n",
    "- For retriever\n",
    "- For generator"
   ]
  },
  {
   "cell_type": "markdown",
   "id": "bd731477-d5aa-4f55-878d-9d38a7e37019",
   "metadata": {},
   "source": [
    "## Setting\n",
    " - Auto Reload\n",
    " - path for utils"
   ]
  },
  {
   "cell_type": "code",
   "execution_count": 2,
   "id": "e72acb41-2495-4835-8e8b-3e5bb5f703b4",
   "metadata": {
    "tags": []
   },
   "outputs": [],
   "source": [
    "%load_ext autoreload\n",
    "%autoreload 2"
   ]
  },
  {
   "cell_type": "code",
   "execution_count": 3,
   "id": "bd4c2205-9b56-4ac9-977d-e00a00daab38",
   "metadata": {
    "tags": []
   },
   "outputs": [],
   "source": [
    "import sys, os\n",
    "module_path = \"../../..\"\n",
    "sys.path.append(os.path.abspath(module_path))"
   ]
  },
  {
   "cell_type": "markdown",
   "id": "01670eb4-8f19-497d-837e-d9788e0a05f3",
   "metadata": {},
   "source": [
    "## 1. Bedrock Client 생성"
   ]
  },
  {
   "cell_type": "code",
   "execution_count": 4,
   "id": "1f9dcbdc-0667-4bff-afcf-0c4b5ace273b",
   "metadata": {
    "tags": []
   },
   "outputs": [],
   "source": [
    "import json\n",
    "import boto3\n",
    "from pprint import pprint\n",
    "from termcolor import colored\n",
    "from utils import bedrock, print_ww\n",
    "from utils.bedrock import bedrock_info"
   ]
  },
  {
   "cell_type": "markdown",
   "id": "259021cc-1d69-458e-879c-80076fc57c64",
   "metadata": {},
   "source": [
    "### ---- ⚠️ Un-comment and edit the below lines as needed for your AWS setup ⚠️ ----\n",
    "- os.environ[\"AWS_DEFAULT_REGION\"] = \"<REGION_NAME>\"  # E.g. \"us-east-1\"\n",
    "- os.environ[\"AWS_PROFILE\"] = \"<YOUR_PROFILE>\"\n",
    "- os.environ[\"BEDROCK_ASSUME_ROLE\"] = \"<YOUR_ROLE_ARN>\"  # E.g. \"arn:aws:...\"\n",
    "- os.environ[\"BEDROCK_ENDPOINT_URL\"] = \"<YOUR_ENDPOINT_URL>\"  # E.g. \"https://...\""
   ]
  },
  {
   "cell_type": "code",
   "execution_count": 5,
   "id": "9fde1bf1-d608-46ef-969e-40fe49b77ec5",
   "metadata": {
    "tags": []
   },
   "outputs": [
    {
     "name": "stdout",
     "output_type": "stream",
     "text": [
      "Create new client\n",
      "  Using region: None\n",
      "  Using profile: None\n",
      "boto3 Bedrock client successfully created!\n",
      "bedrock-runtime(https://bedrock-runtime.us-east-1.amazonaws.com)\n",
      "\u001b[32m\n",
      "== FM lists ==\u001b[0m\n",
      "{'Claude-Instant-V1': 'anthropic.claude-instant-v1',\n",
      " 'Claude-V1': 'anthropic.claude-v1',\n",
      " 'Claude-V2': 'anthropic.claude-v2',\n",
      " 'Cohere-Embeddings-En': 'cohere.embed-english-v3',\n",
      " 'Cohere-Embeddings-Multilingual': 'cohere.embed-multilingual-v3',\n",
      " 'Command': 'cohere.command-text-v14',\n",
      " 'Command-Light': 'cohere.command-light-text-v14',\n",
      " 'Jurassic-2-Mid': 'ai21.j2-mid-v1',\n",
      " 'Jurassic-2-Ultra': 'ai21.j2-ultra-v1',\n",
      " 'Llama2-13b-Chat': 'meta.llama2-13b-chat-v1',\n",
      " 'Titan-Embeddings-G1': 'amazon.titan-embed-text-v1',\n",
      " 'Titan-Text-G1': 'amazon.titan-text-express-v1',\n",
      " 'Titan-Text-G1-Light': 'amazon.titan-text-lite-v1'}\n"
     ]
    }
   ],
   "source": [
    "boto3_bedrock = bedrock.get_bedrock_client(\n",
    "    assumed_role=os.environ.get(\"BEDROCK_ASSUME_ROLE\", None),\n",
    "    endpoint_url=os.environ.get(\"BEDROCK_ENDPOINT_URL\", None),\n",
    "    region=os.environ.get(\"AWS_DEFAULT_REGION\", None),\n",
    ")\n",
    "\n",
    "aws_region = os.environ.get(\"AWS_DEFAULT_REGION\", None)\n",
    "print (colored(\"\\n== FM lists ==\", \"green\"))\n",
    "pprint (bedrock_info.get_list_fm_models())"
   ]
  },
  {
   "cell_type": "markdown",
   "id": "100a9b99-f66d-4447-805d-c29ee9f88c4f",
   "metadata": {},
   "source": [
    "## 2. Titan Embedding 및 LLM 인 Claude-v2 모델 로딩"
   ]
  },
  {
   "cell_type": "markdown",
   "id": "c84c0aea-2d43-493a-9538-648e5a453220",
   "metadata": {},
   "source": [
    "### LLM 로딩 (Claude-v2)"
   ]
  },
  {
   "cell_type": "code",
   "execution_count": 8,
   "id": "32924f36-0b17-4792-b382-92867c566e50",
   "metadata": {
    "tags": []
   },
   "outputs": [],
   "source": [
    "from langchain.llms.bedrock import Bedrock\n",
    "from langchain.callbacks.streaming_stdout import StreamingStdOutCallbackHandler"
   ]
  },
  {
   "cell_type": "code",
   "execution_count": 10,
   "id": "6fc13fa9-0452-4fbe-b07b-a54f1833655d",
   "metadata": {
    "tags": []
   },
   "outputs": [],
   "source": [
    "llm_text = Bedrock(\n",
    "    model_id=bedrock_info.get_model_id(model_name=\"Claude-V2\"),\n",
    "    client=boto3_bedrock,\n",
    "    model_kwargs={\n",
    "        \"max_tokens_to_sample\": 512\n",
    "    },\n",
    "    streaming=False,\n",
    "    callbacks=[StreamingStdOutCallbackHandler()]\n",
    ")"
   ]
  },
  {
   "cell_type": "markdown",
   "id": "0ac056c9-e2ad-496e-b38a-d739724202a4",
   "metadata": {},
   "source": [
    "### Embedding 모델 선택"
   ]
  },
  {
   "cell_type": "code",
   "execution_count": 11,
   "id": "061dcf18-4681-4f16-bfa3-c76d717f307f",
   "metadata": {
    "tags": []
   },
   "outputs": [],
   "source": [
    "from utils.rag import KoSimCSERobertaContentHandler, SagemakerEndpointEmbeddingsJumpStart"
   ]
  },
  {
   "cell_type": "code",
   "execution_count": 12,
   "id": "d85536e9-3416-4f7a-96a4-c539a6a5596f",
   "metadata": {
    "tags": []
   },
   "outputs": [],
   "source": [
    "def get_embedding_model(is_bedrock_embeddings, is_KoSimCSERobert, aws_region, endpont_name=None):\n",
    "    \n",
    "    if is_bedrock_embeddings:\n",
    "        # We will be using the Titan Embeddings Model to generate our Embeddings.\n",
    "        from langchain.embeddings import BedrockEmbeddings\n",
    "        llm_emb = BedrockEmbeddings(\n",
    "            client=boto3_bedrock,\n",
    "            model_id=bedrock_info.get_model_id(\n",
    "                model_name=\"Titan-Embeddings-G1\"\n",
    "            )\n",
    "        )\n",
    "        print(\"Bedrock Embeddings Model Loaded\")\n",
    "\n",
    "    elif is_KoSimCSERobert:\n",
    "        LLMEmbHandler = KoSimCSERobertaContentHandler()\n",
    "        endpoint_name_emb = endpont_name\n",
    "        llm_emb = SagemakerEndpointEmbeddingsJumpStart(\n",
    "            endpoint_name=endpoint_name_emb,\n",
    "            region_name=aws_region,\n",
    "            content_handler=LLMEmbHandler,\n",
    "        )        \n",
    "        print(\"KoSimCSERobert Embeddings Model Loaded\")\n",
    "    else:\n",
    "        llm_emb = None\n",
    "        print(\"No Embedding Model Selected\")\n",
    "    \n",
    "    return llm_emb"
   ]
  },
  {
   "cell_type": "markdown",
   "id": "83000f64-5855-45ee-b736-eb96e9ff0739",
   "metadata": {},
   "source": [
    "#### [중요] is_KoSimCSERobert == True 일시에 endpoint_name 을 꼭 넣어 주세요."
   ]
  },
  {
   "cell_type": "code",
   "execution_count": 13,
   "id": "dbbec6da-798a-419b-9e4e-b1cc417cfbfa",
   "metadata": {
    "tags": []
   },
   "outputs": [
    {
     "name": "stdout",
     "output_type": "stream",
     "text": [
      "Bedrock Embeddings Model Loaded\n"
     ]
    }
   ],
   "source": [
    "is_bedrock_embeddings = True\n",
    "is_KoSimCSERobert = False\n",
    "aws_region = os.environ.get(\"AWS_DEFAULT_REGION\", None)\n",
    "\n",
    "##############################\n",
    "# Parameters for is_KoSimCSERobert\n",
    "##############################\n",
    "if is_KoSimCSERobert: endpont_name = \"<endpoint-name>\"\n",
    "else: endpont_name = None\n",
    "##############################\n",
    "\n",
    "llm_emb = get_embedding_model(is_bedrock_embeddings, is_KoSimCSERobert, aws_region, endpont_name)   "
   ]
  },
  {
   "cell_type": "markdown",
   "id": "b69eff24-6ac7-4500-b5eb-9039fbe38c9f",
   "metadata": {},
   "source": [
    "## 3. Depoly ReRanker model (if needed)"
   ]
  },
  {
   "cell_type": "code",
   "execution_count": 19,
   "id": "f364b91e-b186-4920-aeca-857a34665a11",
   "metadata": {
    "tags": []
   },
   "outputs": [],
   "source": [
    "import json\n",
    "import sagemaker\n",
    "from sagemaker.huggingface import HuggingFaceModel"
   ]
  },
  {
   "cell_type": "code",
   "execution_count": 15,
   "id": "1d32b1f5-289b-4ba8-baa9-765501ef5b0e",
   "metadata": {
    "tags": []
   },
   "outputs": [],
   "source": [
    "depoly = False"
   ]
  },
  {
   "cell_type": "code",
   "execution_count": 16,
   "id": "9e73ea11-7dea-41b2-98fb-85de4e2851db",
   "metadata": {
    "tags": []
   },
   "outputs": [],
   "source": [
    "if depoly:\n",
    "\n",
    "    try:\n",
    "        role = sagemaker.get_execution_role()\n",
    "    except ValueError:\n",
    "        iam = boto3.client('iam')\n",
    "        role = iam.get_role(RoleName='sagemaker_execution_role')['Role']['Arn']\n",
    "\n",
    "    # Hub Model configuration. https://huggingface.co/models\n",
    "    hub = {\n",
    "        'HF_MODEL_ID':'BAAI/bge-reranker-large',\n",
    "        'HF_TASK':'text-classification'\n",
    "    }\n",
    "\n",
    "    # create Hugging Face Model Class\n",
    "    huggingface_model = HuggingFaceModel(\n",
    "        transformers_version='4.26.0',\n",
    "        pytorch_version='1.13.1',\n",
    "        py_version='py39',\n",
    "        env=hub,\n",
    "        role=role, \n",
    "    )\n",
    "\n",
    "    # deploy model to SageMaker Inference\n",
    "    predictor = huggingface_model.deploy(\n",
    "        initial_instance_count=1, # number of instances\n",
    "        instance_type='ml.g5.xlarge' # instance type\n",
    "    )\n",
    "\n",
    "    print(f'Accept: {predictor.accept}')\n",
    "    print(f'ContentType: {predictor.content_type}')\n",
    "    print(f'Endpoint: {predictor.endpoint}')"
   ]
  },
  {
   "cell_type": "markdown",
   "id": "a953ea43-3337-4300-8833-ec4b38840822",
   "metadata": {},
   "source": [
    "### Reranker"
   ]
  },
  {
   "cell_type": "code",
   "execution_count": 49,
   "id": "f0f90b69-27bb-412b-ba0a-2e2d768e92a0",
   "metadata": {
    "tags": []
   },
   "outputs": [],
   "source": [
    "#endpoint_name = \"huggingface-pytorch-inference-2023-11-15-04-37-45-120\" # ml.m5.2xlarge\n",
    "endpoint_name = \"huggingface-pytorch-inference-2023-11-15-07-53-21-605\" # ml.g5.xlarge"
   ]
  },
  {
   "cell_type": "code",
   "execution_count": 50,
   "id": "cd07db04-6140-4516-a279-bfc1a14cee7f",
   "metadata": {
    "tags": []
   },
   "outputs": [
    {
     "name": "stdout",
     "output_type": "stream",
     "text": [
      "runtime_client: <botocore.client.SageMakerRuntime object at 0x7f4b92ba6a70>\n"
     ]
    }
   ],
   "source": [
    "runtime_client = boto3.Session().client('sagemaker-runtime')\n",
    "print (f'runtime_client: {runtime_client}')"
   ]
  },
  {
   "cell_type": "markdown",
   "id": "a14dee0e-7a7d-48c3-94ff-90db1cf89daf",
   "metadata": {},
   "source": [
    "## 4. LangChainmOpenSearch VectorStore 정의\n",
    "### 선수 조건\n",
    "- 01_preprocess_docs/02_load_docs_opensearch.ipynb를 통해서 OpenSearch Index 가 생성이 되어 있어야 합니다.\n",
    "#### [중요] 아래에 aws parameter store 에 아래 인증정보가 먼저 입력되어 있어야 합니다.\n",
    "- 01_preprocess_docs/01_parameter_store_example.ipynb 참고"
   ]
  },
  {
   "cell_type": "code",
   "execution_count": 51,
   "id": "d85af7d2-6b71-4125-8ba4-fa15406f5c3f",
   "metadata": {
    "tags": []
   },
   "outputs": [],
   "source": [
    "from utils.proc_docs import get_parameter"
   ]
  },
  {
   "cell_type": "code",
   "execution_count": 52,
   "id": "8b29f46c-154b-41fe-ab1a-d34af0a73b39",
   "metadata": {
    "tags": []
   },
   "outputs": [],
   "source": [
    "ssm = boto3.client(\"ssm\", \"us-east-1\")\n",
    "\n",
    "opensearch_domain_endpoint = get_parameter(\n",
    "    boto3_clinet = ssm,\n",
    "    parameter_name = 'knox_opensearch_domain_endpoint',\n",
    ")\n",
    "\n",
    "opensearch_user_id = get_parameter(\n",
    "    boto3_clinet = ssm,\n",
    "    parameter_name = 'knox_opensearch_userid',\n",
    ")\n",
    "\n",
    "opensearch_user_password = get_parameter(\n",
    "    boto3_clinet = ssm,\n",
    "    parameter_name = 'knox_opensearch_password',\n",
    ")\n",
    "\n",
    "http_auth = (opensearch_user_id, opensearch_user_password) # Master username, Master password"
   ]
  },
  {
   "cell_type": "markdown",
   "id": "354a0a15-e66c-4fd9-a555-13a15c80f327",
   "metadata": {},
   "source": [
    "### Index 이름 셋팅\n",
    "- 이전 노트북 01_preprocess_docs/02_load_docs_opensearch.ipynb를 통해서 생성된 OpenSearch Index name 입력"
   ]
  },
  {
   "cell_type": "code",
   "execution_count": 69,
   "id": "2bde847e-429f-47fa-87bf-36441a92c401",
   "metadata": {
    "tags": []
   },
   "outputs": [],
   "source": [
    "index_name = \"genai-poc-knox-512c-v2\""
   ]
  },
  {
   "cell_type": "markdown",
   "id": "1b5ef81d-27b2-4d64-9e57-0324fc627a2c",
   "metadata": {},
   "source": [
    "### OpenSearch Client 생성"
   ]
  },
  {
   "cell_type": "code",
   "execution_count": 70,
   "id": "a81604ea-e7a0-4256-931e-849fca7be994",
   "metadata": {
    "tags": []
   },
   "outputs": [],
   "source": [
    "from utils.opensearch import opensearch_utils"
   ]
  },
  {
   "cell_type": "code",
   "execution_count": 71,
   "id": "b46578e5-6113-42d4-9e2c-e4446bb4cfca",
   "metadata": {
    "tags": []
   },
   "outputs": [],
   "source": [
    "os_client = opensearch_utils.create_aws_opensearch_client(\n",
    "    aws_region,\n",
    "    opensearch_domain_endpoint,\n",
    "    http_auth\n",
    ")"
   ]
  },
  {
   "cell_type": "markdown",
   "id": "1fa855f1-f8d4-4218-ab77-84d4f5f0238e",
   "metadata": {},
   "source": [
    "### LangChain OpenSearch VectorStore 생성"
   ]
  },
  {
   "cell_type": "code",
   "execution_count": 72,
   "id": "b86443bb-ff05-4bac-a8cf-d708552fbbfb",
   "metadata": {
    "tags": []
   },
   "outputs": [],
   "source": [
    "from langchain.vectorstores import OpenSearchVectorSearch"
   ]
  },
  {
   "cell_type": "code",
   "execution_count": 73,
   "id": "51568769-47a2-42cd-90dd-02469094619b",
   "metadata": {
    "tags": []
   },
   "outputs": [
    {
     "data": {
      "text/plain": [
       "<langchain.vectorstores.opensearch_vector_search.OpenSearchVectorSearch at 0x7f4c2f9f7130>"
      ]
     },
     "execution_count": 73,
     "metadata": {},
     "output_type": "execute_result"
    }
   ],
   "source": [
    "vector_db = OpenSearchVectorSearch(\n",
    "    index_name=index_name,\n",
    "    opensearch_url=opensearch_domain_endpoint,\n",
    "    embedding_function=llm_emb,\n",
    "    http_auth=http_auth, # http_auth\n",
    "    is_aoss =False,\n",
    "    engine=\"faiss\",\n",
    "    space_type=\"l2\"\n",
    ")\n",
    "vector_db"
   ]
  },
  {
   "cell_type": "markdown",
   "id": "d44452ad-1945-4a1a-a18a-fd1f899814bb",
   "metadata": {},
   "source": [
    "## 5. Retriever 정의"
   ]
  },
  {
   "cell_type": "code",
   "execution_count": 191,
   "id": "409937f9-e4f3-4f2f-90a8-9b13641d3700",
   "metadata": {
    "tags": []
   },
   "outputs": [],
   "source": [
    "from utils.rag import OpenSearchHybridSearchRetriever"
   ]
  },
  {
   "cell_type": "code",
   "execution_count": 192,
   "id": "c1606bcd-502c-461b-9458-5e400e97ed92",
   "metadata": {
    "tags": []
   },
   "outputs": [],
   "source": [
    "opensearch_hybrid_retriever = OpenSearchHybridSearchRetriever(\n",
    "    os_client=os_client,\n",
    "    vector_db=vector_db,\n",
    "    index_name=index_name,\n",
    "\n",
    "    # option for lexical\n",
    "    minimum_should_match=0,\n",
    "    filter=[],\n",
    "\n",
    "    # option for rank fusion\n",
    "    fusion_algorithm=\"RRF\", # [\"RRF\", \"simple_weighted\"], rank fusion 방식 정의\n",
    "    ensemble_weights=[.5, .5], # [for lexical, for semantic], Lexical, Semantic search 결과에 대한 최종 반영 비율 정의\n",
    "    reranker=True, # enable reranker with reranker model\n",
    "    reranker_endpoint_name=endpoint_name, # endpoint name for reranking model\n",
    "\n",
    "    # option for output\n",
    "    k=5, # 최종 Document 수 정의\n",
    "    verbose=False,\n",
    ")"
   ]
  },
  {
   "cell_type": "code",
   "execution_count": 193,
   "id": "7333a947-d0d0-41a6-8dcc-adb3d58c2e8e",
   "metadata": {
    "tags": []
   },
   "outputs": [
    {
     "name": "stdout",
     "output_type": "stream",
     "text": [
      "\n",
      "lexical search query: \n",
      "{'query': {'bool': {'filter': [],\n",
      "                    'must': [{'match': {'text': {'minimum_should_match': '0%',\n",
      "                                                 'operator': 'or',\n",
      "                                                 'query': 'knox'}}}]}},\n",
      " 'size': 7}\n",
      "\n",
      "semantic search args: \n",
      "{'boolean_filter': {'bool': {'filter': []}},\n",
      " 'k': 7,\n",
      " 'search_type': 'approximate_search',\n",
      " 'space_type': 'l2'}\n",
      "7 7\n",
      "[{'label': 'LABEL_0', 'score': 0.8271353840827942}, {'label': 'LABEL_0', 'score': 0.9408575892448425}, {'label': 'LABEL_0', 'score': 0.863422155380249}, {'label': 'LABEL_0', 'score': 0.7925929427146912}, {'label': 'LABEL_0', 'score': 0.7220518589019775}]\n"
     ]
    },
    {
     "data": {
      "text/plain": [
       "[Document(page_content='.4) Knox Service Plugin , Android 9.0 (Knox 3.2.1) Knox Manage1 , Android 8.0 (Knox 3.0) Knox Mobile Enrollment , Android 9.0 (Knox 3.2.1) Knox Mobile Enrollment Direct , Android 11.0 (Knox 3.7.1) Knox E-FOTA , Android 9.0 (Knox 3.2.1) Knox Asset Intelligence , Android 11.0 (Knox 3.7.1) Knox Configure , Android 9.0 (Knox 3.2.1) Knox Guard , Android 9.0 (Knox 3.2.1) Knox Deployment App , Android 9.0 (Knox 3.2.1) Knox Capture , Android 11.0 (Knox 3.7', metadata={'source': 'customer_KG.json', 'seq_num': 224, 'title': 'Policy update on Knox supported versions', 'url': 'https://docs.samsungknox.com/admin/fundamentals/kbas/kba-655-policy-update-on-knox-supported-versions', 'project': 'USP', 'last_updated': '2023-07-26', 'id': '9c9243bd-0916-4dbd-92a5-991bf4d502fc'}),\n",
       " Document(page_content='. Knox service License menu location Knox Mobile Enrollment Knox Mobile Enrollment (Advanced profile) Knox Manage Knox E-FOTA Knox Asset Intelligence Knox Remote Support Knox Configure Samsung Care+ for Business Knox Capture Knox Authentication Manager Knox Admin Portal license menu Knox Manage Knox Manage license menu Knox Guard Knox Guard license menu Knox E-FOTA On-Premises Knox E-FOTA On-Premises license menu Knox Platform for Enterprise (Knox Service Plugin) Knox Platform for Enterprise Dual DAR (Knox', metadata={'source': 'customer_KRS.json', 'seq_num': 1, 'title': 'Knox licenses', 'url': 'https://docs.samsungknox.com/admin/fundamentals/knox-licenses', 'project': 'USP', 'last_updated': '2023-07-26', 'id': 'abd5221c-e675-4e7a-b4cc-2294ad77c3c9'}),\n",
       " Document(page_content='Knox knowledge base articles', metadata={'source': 'customer_KME.json', 'seq_num': 287, 'title': 'Knox knowledge base articles', 'url': 'https://docs.samsungknox.com/admin/fundamentals/kbas', 'project': 'USP', 'last_updated': '2023-07-26'}),\n",
       " Document(page_content='Knox Suite Knox E-FOTA key Knox Suite trial key (Knox Admin Portal) Cloud Knox Asset Intelligence Paid Knox Suite Knox Asset Intelligence key Knox Suite trial key (Knox Admin Portal) Cloud Knox Remote Support Paid Knox Suite Knox Manage key Knox Suite trial key (Knox Admin Portal) Cloud Knox Configure Paid Knox Configure key Knox Configure trial key (Knox Admin Portal) Cloud Knox Guard Paid Knox Guard key Knox Guard trial key (Knox Guard console) Cloud Samsung Care+ for Business Paid Samsung Care+ for', metadata={'source': 'customer_KC.json', 'seq_num': 201, 'title': 'Knox licenses', 'url': 'https://docs.samsungknox.com/admin/fundamentals/knox-licenses', 'project': 'USP', 'last_updated': '2023-07-26', 'id': '5e86536f-1600-499a-9ada-19d9a30d72e1'}),\n",
       " Document(page_content='. Knox service Type Supported licenses Where to get the license Knox Mobile Enrollment (Advanced profile) Cloud-based Knox Suite Purchase from a reseller Knox Manage Cloud-based Knox Suite Knox Manage standalone key Knox E-FOTA Cloud-based Knox Suite Knox E-FOTA standalone key Knox Asset Intelligence Cloud-based Knox Suite Knox Asset Intelligence standalone key Knox Remote Support Cloud-based Knox Suite Knox Manage standalone key Knox Configure Cloud-based Knox Configure standalone key Knox Guard', metadata={'source': 'customer_KRS.json', 'seq_num': 1, 'title': 'Knox licenses', 'url': 'https://docs.samsungknox.com/admin/fundamentals/knox-licenses', 'project': 'USP', 'last_updated': '2023-07-26', 'id': '92773e7f-c569-45da-8e90-d9dd1da19699'})]"
      ]
     },
     "execution_count": 193,
     "metadata": {},
     "output_type": "execute_result"
    }
   ],
   "source": [
    "search_hybrid_result = opensearch_hybrid_retriever.get_relevant_documents(\"knox\")\n",
    "search_hybrid_result"
   ]
  },
  {
   "cell_type": "markdown",
   "id": "05c569db-1a1d-4bbf-a713-28cf6b745982",
   "metadata": {},
   "source": [
    "## 6. RAG chain 정의"
   ]
  },
  {
   "cell_type": "code",
   "execution_count": 194,
   "id": "da9df137-076d-4230-865e-4f9ed9651062",
   "metadata": {
    "tags": []
   },
   "outputs": [],
   "source": [
    "from langchain.chains import RetrievalQA\n",
    "from langchain.prompts import PromptTemplate"
   ]
  },
  {
   "cell_type": "markdown",
   "id": "b95251a1-6dd8-4794-86d9-65b855ed27cb",
   "metadata": {},
   "source": [
    "### Prompting\n",
    "- [TIP] Prompt의 instruction의 경우 한글보다 영어로 했을 때 더 좋은 결과를 얻을 수 있습니다."
   ]
  },
  {
   "cell_type": "code",
   "execution_count": 195,
   "id": "5e05b8bd-ccb0-4f49-9e5c-0869a9afa11d",
   "metadata": {
    "tags": []
   },
   "outputs": [],
   "source": [
    "prompt_template = \"\"\"\n",
    "\\n\\nHuman: Here is the context, inside <context></context> XML tags.\n",
    "\n",
    "<context>\n",
    "{context}\n",
    "</context>\n",
    "\n",
    "Only using the context as above, answer the following question with the rules as below:\n",
    "    - Don't insert XML tag such as <context> and </context> when answering.\n",
    "    - Write as much as you can\n",
    "    - Be courteous and polite\n",
    "    - Only answer the question if you can find the answer in the context with certainty.\n",
    "\n",
    "Question:\n",
    "{question}\n",
    "\n",
    "If the answer is not in the context, just say \"Could not find answer in given contexts.\"\n",
    "\n",
    "\\n\\nAssistant:\"\"\"\n",
    "\n",
    "PROMPT = PromptTemplate(\n",
    "    template=prompt_template, input_variables=[\"context\", \"question\"]\n",
    ")"
   ]
  },
  {
   "cell_type": "markdown",
   "id": "2a758bc7-87a1-44fb-9b36-e17e987b1513",
   "metadata": {},
   "source": [
    "### Update Search Params (Optional)"
   ]
  },
  {
   "cell_type": "code",
   "execution_count": 196,
   "id": "31c68b6f-1606-455d-bd37-c467cf240b7c",
   "metadata": {
    "tags": []
   },
   "outputs": [],
   "source": [
    "opensearch_hybrid_retriever.update_search_params(\n",
    "    k=5,\n",
    "    minimum_should_match=0,\n",
    "    filter=[],\n",
    "    reranker=True,\n",
    "    reranker_endpoint_name=endpoint_name,\n",
    ")"
   ]
  },
  {
   "cell_type": "code",
   "execution_count": 197,
   "id": "2b2256fe-9b42-4570-9c05-d395405a534b",
   "metadata": {
    "tags": []
   },
   "outputs": [],
   "source": [
    "qa_chain = RetrievalQA.from_chain_type(\n",
    "    llm=llm_text,\n",
    "    chain_type=\"stuff\",\n",
    "    retriever=opensearch_hybrid_retriever,\n",
    "    return_source_documents=True,\n",
    "    chain_type_kwargs={\n",
    "        \"prompt\": PROMPT,\n",
    "        \"verbose\": False,\n",
    "    },\n",
    "    verbose=False\n",
    ")"
   ]
  },
  {
   "cell_type": "code",
   "execution_count": 202,
   "id": "b9e62fab-c78b-4dea-ac19-02ad28134d94",
   "metadata": {
    "tags": []
   },
   "outputs": [
    {
     "name": "stdout",
     "output_type": "stream",
     "text": [
      "\n",
      "lexical search query: \n",
      "{'query': {'bool': {'filter': [],\n",
      "                    'must': [{'match': {'text': {'minimum_should_match': '0%',\n",
      "                                                 'operator': 'or',\n",
      "                                                 'query': 'How does RKP '\n",
      "                                                          'protect critical '\n",
      "                                                          'kernel data '\n",
      "                                                          'structures from '\n",
      "                                                          'modification?'}}}]}},\n",
      " 'size': 7}\n",
      "\n",
      "semantic search args: \n",
      "{'boolean_filter': {'bool': {'filter': []}},\n",
      " 'k': 7,\n",
      " 'search_type': 'approximate_search',\n",
      " 'space_type': 'l2'}\n",
      "1 page_content='. Kernel data - RKP\"prevents modification of critical kernel data structures. Kernel control flow - RKP\"prevents Return-Oriented Programming (ROP) and Jump-Oriented Programming (JOP) attacks that reuse existing kernel logic to piece together exploits from the kernel\\'s own code. How is kernel protection possible? A kernel protection mechanism can\\'t exist completely in the kernel only, since an attacker could circumvent it if the kernel itself has a flaw' metadata={'source': 'customer_EFOTA.json', 'seq_num': 182, 'title': 'Real-time Kernel Protection (RKP)', 'url': 'https://docs.samsungknox.com/admin/fundamentals/whitepaper/core-platform-security/real-time-kernel-protection', 'project': 'USP', 'last_updated': '2023-07-26'}\n",
      "2 page_content='. Kernel data - RKP\"prevents modification of critical kernel data structures. Kernel control flow - RKP\"prevents Return-Oriented Programming (ROP) and Jump-Oriented Programming (JOP) attacks that reuse existing kernel logic to piece together exploits from the kernel\\'s own code. How is kernel protection possible? A kernel protection mechanism can\\'t exist completely in the kernel only, since an attacker could circumvent it if the kernel itself has a flaw' metadata={'source': 'customer_SCPE.json', 'seq_num': 109, 'title': 'Real-time Kernel Protection (RKP)', 'url': 'https://docs.samsungknox.com/admin/fundamentals/whitepaper/core-platform-security/real-time-kernel-protection', 'project': 'USP', 'last_updated': '2023-07-26'}\n",
      "3 page_content='. Kernel data - RKP\"prevents modification of critical kernel data structures. Kernel control flow - RKP\"prevents Return-Oriented Programming (ROP) and Jump-Oriented Programming (JOP) attacks that reuse existing kernel logic to piece together exploits from the kernel\\'s own code. How is kernel protection possible? A kernel protection mechanism can\\'t exist completely in the kernel only, since an attacker could circumvent it if the kernel itself has a flaw' metadata={'source': 'customer_USP.json', 'seq_num': 33, 'title': 'Real-time Kernel Protection (RKP)', 'url': 'https://docs.samsungknox.com/admin/fundamentals/whitepaper/core-platform-security/real-time-kernel-protection', 'project': 'USP', 'last_updated': '2023-07-26'}\n",
      "4 page_content='. Kernel data - RKP\"prevents modification of critical kernel data structures. Kernel control flow - RKP\"prevents Return-Oriented Programming (ROP) and Jump-Oriented Programming (JOP) attacks that reuse existing kernel logic to piece together exploits from the kernel\\'s own code. How is kernel protection possible? A kernel protection mechanism can\\'t exist completely in the kernel only, since an attacker could circumvent it if the kernel itself has a flaw' metadata={'source': 'customer_KCAP.json', 'seq_num': 123, 'title': 'Real-time Kernel Protection (RKP)', 'url': 'https://docs.samsungknox.com/admin/fundamentals/whitepaper/core-platform-security/real-time-kernel-protection', 'project': 'USP', 'last_updated': '2023-07-26'}\n",
      "5 page_content='. Kernel data - RKP\"prevents modification of critical kernel data structures. Kernel control flow - RKP\"prevents Return-Oriented Programming (ROP) and Jump-Oriented Programming (JOP) attacks that reuse existing kernel logic to piece together exploits from the kernel\\'s own code. How is kernel protection possible? A kernel protection mechanism can\\'t exist completely in the kernel only, since an attacker could circumvent it if the kernel itself has a flaw' metadata={'source': 'customer_KRS.json', 'seq_num': 33, 'title': 'Real-time Kernel Protection (RKP)', 'url': 'https://docs.samsungknox.com/admin/fundamentals/whitepaper/core-platform-security/real-time-kernel-protection', 'project': 'USP', 'last_updated': '2023-07-26'}\n",
      "6 page_content='. Kernel data - RKP\"prevents modification of critical kernel data structures. Kernel control flow - RKP\"prevents Return-Oriented Programming (ROP) and Jump-Oriented Programming (JOP) attacks that reuse existing kernel logic to piece together exploits from the kernel\\'s own code. How is kernel protection possible? A kernel protection mechanism can\\'t exist completely in the kernel only, since an attacker could circumvent it if the kernel itself has a flaw' metadata={'source': 'customer_KC.json', 'seq_num': 233, 'title': 'Real-time Kernel Protection (RKP)', 'url': 'https://docs.samsungknox.com/admin/fundamentals/whitepaper/core-platform-security/real-time-kernel-protection', 'project': 'USP', 'last_updated': '2023-07-26'}\n",
      "7 page_content='. Kernel data - RKP\"prevents modification of critical kernel data structures. Kernel control flow - RKP\"prevents Return-Oriented Programming (ROP) and Jump-Oriented Programming (JOP) attacks that reuse existing kernel logic to piece together exploits from the kernel\\'s own code. How is kernel protection possible? A kernel protection mechanism can\\'t exist completely in the kernel only, since an attacker could circumvent it if the kernel itself has a flaw' metadata={'source': 'customer_KME.json', 'seq_num': 209, 'title': 'Real-time Kernel Protection (RKP)', 'url': 'https://docs.samsungknox.com/admin/fundamentals/whitepaper/core-platform-security/real-time-kernel-protection', 'project': 'USP', 'last_updated': '2023-07-26'}\n",
      "1 page_content='. RKP\\'s isolation from the kernel shrinks the Trusted Computing Base (TCB) and helps secure it from attacks designed to compromise the kernel. This unique ability enables RKP to detect and prevent the most common kernel attacks. RKP protections are grouped into three areas: Kernel code - RKP\"prevents modification of kernel code and logic. Kernel data - RKP\"prevents modification of critical kernel data structures' metadata={'source': 'customer_SCPE.json', 'seq_num': 109, 'title': 'Real-time Kernel Protection (RKP)', 'url': 'https://docs.samsungknox.com/admin/fundamentals/whitepaper/core-platform-security/real-time-kernel-protection', 'project': 'USP', 'last_updated': '2023-07-26', 'id': '80e06330-26df-4d00-bba1-b80a661f640f'}\n",
      "2 page_content='. RKP\\'s isolation from the kernel shrinks the Trusted Computing Base (TCB) and helps secure it from attacks designed to compromise the kernel. This unique ability enables RKP to detect and prevent the most common kernel attacks. RKP protections are grouped into three areas: Kernel code - RKP\"prevents modification of kernel code and logic. Kernel data - RKP\"prevents modification of critical kernel data structures' metadata={'source': 'customer_KCAP.json', 'seq_num': 123, 'title': 'Real-time Kernel Protection (RKP)', 'url': 'https://docs.samsungknox.com/admin/fundamentals/whitepaper/core-platform-security/real-time-kernel-protection', 'project': 'USP', 'last_updated': '2023-07-26', 'id': 'd7cfa9e2-04a5-4a61-87a5-ffc373dcd3e3'}\n",
      "3 page_content='. RKP\\'s isolation from the kernel shrinks the Trusted Computing Base (TCB) and helps secure it from attacks designed to compromise the kernel. This unique ability enables RKP to detect and prevent the most common kernel attacks. RKP protections are grouped into three areas: Kernel code - RKP\"prevents modification of kernel code and logic. Kernel data - RKP\"prevents modification of critical kernel data structures' metadata={'source': 'customer_KM.json', 'seq_num': 652, 'title': 'Real-time Kernel Protection (RKP)', 'url': 'https://docs.samsungknox.com/admin/fundamentals/whitepaper/core-platform-security/real-time-kernel-protection', 'project': 'USP', 'last_updated': '2023-07-26', 'id': '523c9d14-2185-4c21-be2e-2291132bb8dc'}\n",
      "4 page_content='. RKP\\'s isolation from the kernel shrinks the Trusted Computing Base (TCB) and helps secure it from attacks designed to compromise the kernel. This unique ability enables RKP to detect and prevent the most common kernel attacks. RKP protections are grouped into three areas: Kernel code - RKP\"prevents modification of kernel code and logic. Kernel data - RKP\"prevents modification of critical kernel data structures' metadata={'source': 'customer_USP.json', 'seq_num': 33, 'title': 'Real-time Kernel Protection (RKP)', 'url': 'https://docs.samsungknox.com/admin/fundamentals/whitepaper/core-platform-security/real-time-kernel-protection', 'project': 'USP', 'last_updated': '2023-07-26', 'id': '312afdec-15c3-453a-874b-badfa3a1530f'}\n",
      "5 page_content='. RKP\\'s isolation from the kernel shrinks the Trusted Computing Base (TCB) and helps secure it from attacks designed to compromise the kernel. This unique ability enables RKP to detect and prevent the most common kernel attacks. RKP protections are grouped into three areas: Kernel code - RKP\"prevents modification of kernel code and logic. Kernel data - RKP\"prevents modification of critical kernel data structures' metadata={'source': 'customer_KRS.json', 'seq_num': 33, 'title': 'Real-time Kernel Protection (RKP)', 'url': 'https://docs.samsungknox.com/admin/fundamentals/whitepaper/core-platform-security/real-time-kernel-protection', 'project': 'USP', 'last_updated': '2023-07-26', 'id': '2899ab65-3e7a-495f-b8d2-46813792a03d'}\n",
      "6 page_content='. RKP\\'s isolation from the kernel shrinks the Trusted Computing Base (TCB) and helps secure it from attacks designed to compromise the kernel. This unique ability enables RKP to detect and prevent the most common kernel attacks. RKP protections are grouped into three areas: Kernel code - RKP\"prevents modification of kernel code and logic. Kernel data - RKP\"prevents modification of critical kernel data structures' metadata={'source': 'customer_EFOTA.json', 'seq_num': 182, 'title': 'Real-time Kernel Protection (RKP)', 'url': 'https://docs.samsungknox.com/admin/fundamentals/whitepaper/core-platform-security/real-time-kernel-protection', 'project': 'USP', 'last_updated': '2023-07-26', 'id': '3e0df538-ee18-4157-a359-038dda1c6022'}\n",
      "7 page_content='. RKP\\'s isolation from the kernel shrinks the Trusted Computing Base (TCB) and helps secure it from attacks designed to compromise the kernel. This unique ability enables RKP to detect and prevent the most common kernel attacks. RKP protections are grouped into three areas: Kernel code - RKP\"prevents modification of kernel code and logic. Kernel data - RKP\"prevents modification of critical kernel data structures' metadata={'source': 'customer_KAI.json', 'seq_num': 142, 'title': 'Real-time Kernel Protection (RKP)', 'url': 'https://docs.samsungknox.com/admin/fundamentals/whitepaper/core-platform-security/real-time-kernel-protection', 'project': 'USP', 'last_updated': '2023-07-26', 'id': '7d6cd6ec-7c40-44ec-b259-122563069466'}\n",
      "7 7 2\n",
      "[{'label': 'LABEL_0', 'score': 0.9981085062026978}, {'label': 'LABEL_0', 'score': 0.9976513981819153}]\n"
     ]
    },
    {
     "data": {
      "text/plain": [
       "{'query': 'How does RKP protect critical kernel data structures from modification?',\n",
       " 'result': \" RKP prevents modification of critical kernel data structures by isolating itself from the kernel. This shrinks the Trusted Computing Base (TCB) and helps secure it from attacks designed to compromise the kernel. RKP's unique ability to operate outside the kernel enables it to detect and prevent changes to critical kernel data structures.\",\n",
       " 'source_documents': [Document(page_content='. RKP\\'s isolation from the kernel shrinks the Trusted Computing Base (TCB) and helps secure it from attacks designed to compromise the kernel. This unique ability enables RKP to detect and prevent the most common kernel attacks. RKP protections are grouped into three areas: Kernel code - RKP\"prevents modification of kernel code and logic. Kernel data - RKP\"prevents modification of critical kernel data structures', metadata={'source': 'customer_KAI.json', 'seq_num': 142, 'title': 'Real-time Kernel Protection (RKP)', 'url': 'https://docs.samsungknox.com/admin/fundamentals/whitepaper/core-platform-security/real-time-kernel-protection', 'project': 'USP', 'last_updated': '2023-07-26', 'id': '7d6cd6ec-7c40-44ec-b259-122563069466'}),\n",
       "  Document(page_content='. Kernel data - RKP\"prevents modification of critical kernel data structures. Kernel control flow - RKP\"prevents Return-Oriented Programming (ROP) and Jump-Oriented Programming (JOP) attacks that reuse existing kernel logic to piece together exploits from the kernel\\'s own code. How is kernel protection possible? A kernel protection mechanism can\\'t exist completely in the kernel only, since an attacker could circumvent it if the kernel itself has a flaw', metadata={'source': 'customer_KME.json', 'seq_num': 209, 'title': 'Real-time Kernel Protection (RKP)', 'url': 'https://docs.samsungknox.com/admin/fundamentals/whitepaper/core-platform-security/real-time-kernel-protection', 'project': 'USP', 'last_updated': '2023-07-26'})]}"
      ]
     },
     "execution_count": 202,
     "metadata": {},
     "output_type": "execute_result"
    }
   ],
   "source": [
    "query = \"How does RKP protect critical kernel data structures from modification?\"\n",
    "response = qa_chain(query)\n",
    "response"
   ]
  },
  {
   "cell_type": "code",
   "execution_count": null,
   "id": "2472b75b-a2be-47b5-9b79-d85941354255",
   "metadata": {
    "tags": []
   },
   "outputs": [],
   "source": []
  },
  {
   "cell_type": "code",
   "execution_count": 177,
   "id": "3d1a435a-f50e-4c37-ba91-191a067961fc",
   "metadata": {
    "tags": []
   },
   "outputs": [
    {
     "data": {
      "text/plain": [
       "['40d6cd0c-3781-401c-bfb4-296a378d2a63']"
      ]
     },
     "execution_count": 177,
     "metadata": {},
     "output_type": "execute_result"
    }
   ],
   "source": [
    "retrieved_ids"
   ]
  },
  {
   "cell_type": "markdown",
   "id": "fa285db7-31bf-4a82-816e-37abd5ed44af",
   "metadata": {
    "tags": []
   },
   "source": [
    "## 3.Evaluation\n",
    " - [langchain evaluator](https://python.langchain.com/docs/guides/evaluation/string/criteria_eval_chain)"
   ]
  },
  {
   "cell_type": "code",
   "execution_count": 178,
   "id": "d3637807-9266-457e-b512-e697f951c405",
   "metadata": {
    "tags": []
   },
   "outputs": [],
   "source": [
    "import pandas as pd"
   ]
  },
  {
   "cell_type": "code",
   "execution_count": 179,
   "id": "d0403c51-23b5-4e3f-a2ec-7302d6711e4b",
   "metadata": {
    "tags": []
   },
   "outputs": [],
   "source": [
    "ground_thruth = pd.read_csv(\"eval_dataset.csv\")"
   ]
  },
  {
   "cell_type": "code",
   "execution_count": 180,
   "id": "30d88b89-03e7-4105-9e96-c596cd7a634f",
   "metadata": {
    "tags": []
   },
   "outputs": [],
   "source": [
    "### 3.1"
   ]
  },
  {
   "cell_type": "markdown",
   "id": "fea6d3ad-240a-48b4-85a0-c9f40b4c4fec",
   "metadata": {},
   "source": [
    "### 3.2 generation evaluator"
   ]
  },
  {
   "cell_type": "code",
   "execution_count": 181,
   "id": "b96d03e0-cf64-4644-9578-3411883dfafa",
   "metadata": {
    "tags": []
   },
   "outputs": [],
   "source": [
    "from langchain.evaluation import Criteria\n",
    "from langchain.evaluation import EvaluatorType\n",
    "from langchain.evaluation import load_evaluator"
   ]
  },
  {
   "cell_type": "code",
   "execution_count": 182,
   "id": "bb3aab6f-ab32-4ea2-b1e7-43e7694f1849",
   "metadata": {
    "tags": []
   },
   "outputs": [
    {
     "data": {
      "text/plain": [
       "[<Criteria.CONCISENESS: 'conciseness'>,\n",
       " <Criteria.RELEVANCE: 'relevance'>,\n",
       " <Criteria.CORRECTNESS: 'correctness'>,\n",
       " <Criteria.COHERENCE: 'coherence'>,\n",
       " <Criteria.HARMFULNESS: 'harmfulness'>,\n",
       " <Criteria.MALICIOUSNESS: 'maliciousness'>,\n",
       " <Criteria.HELPFULNESS: 'helpfulness'>,\n",
       " <Criteria.CONTROVERSIALITY: 'controversiality'>,\n",
       " <Criteria.MISOGYNY: 'misogyny'>,\n",
       " <Criteria.CRIMINALITY: 'criminality'>,\n",
       " <Criteria.INSENSITIVITY: 'insensitivity'>,\n",
       " <Criteria.DEPTH: 'depth'>,\n",
       " <Criteria.CREATIVITY: 'creativity'>,\n",
       " <Criteria.DETAIL: 'detail'>]"
      ]
     },
     "execution_count": 182,
     "metadata": {},
     "output_type": "execute_result"
    }
   ],
   "source": [
    "list(Criteria)"
   ]
  },
  {
   "cell_type": "code",
   "execution_count": 183,
   "id": "8a680e82-980e-48d6-ae2d-e9e40535134e",
   "metadata": {
    "tags": []
   },
   "outputs": [],
   "source": [
    "evaluator = load_evaluator(\n",
    "    EvaluatorType.LABELED_CRITERIA,\n",
    "    llm=llm_text,\n",
    "    criteria=Criteria.CORRECTNESS\n",
    ")"
   ]
  },
  {
   "cell_type": "markdown",
   "id": "4d471116-d2e3-4411-979f-ba56f2ca2e7a",
   "metadata": {},
   "source": [
    "### Check prompt for evaluation"
   ]
  },
  {
   "cell_type": "code",
   "execution_count": 184,
   "id": "ab03e1d6-1209-4908-bf75-e7564a4590fa",
   "metadata": {
    "tags": []
   },
   "outputs": [
    {
     "name": "stdout",
     "output_type": "stream",
     "text": [
      "{'criteria': 'correctness: Is the submission correct, accurate, and factual?'}\n",
      "==\n",
      "You are assessing a submitted answer on a given task or input based on a set of criteria. Here is the data:\n",
      "[BEGIN DATA]\n",
      "***\n",
      "[Input]: {input}\n",
      "***\n",
      "[Submission]: {output}\n",
      "***\n",
      "[Criteria]: {criteria}\n",
      "***\n",
      "[Reference]: {reference}\n",
      "***\n",
      "[END DATA]\n",
      "Does the submission meet the Criteria? First, write out in a step by step manner your reasoning about each criterion to be sure that your conclusion is correct. Avoid simply stating the correct answers at the outset. Then print only the single character \"Y\" or \"N\" (without quotes or punctuation) on its own line corresponding to the correct answer of whether the submission meets all criteria. At the end, repeat just the letter again by itself on a new line.\n"
     ]
    }
   ],
   "source": [
    "print(evaluator.prompt.partial_variables)\n",
    "print(\"==\")\n",
    "print(evaluator.prompt.template)"
   ]
  },
  {
   "cell_type": "code",
   "execution_count": 185,
   "id": "dc03ab59-0757-43e0-8a70-7c82edaa286e",
   "metadata": {
    "tags": []
   },
   "outputs": [
    {
     "data": {
      "text/html": [
       "<div>\n",
       "<style scoped>\n",
       "    .dataframe tbody tr th:only-of-type {\n",
       "        vertical-align: middle;\n",
       "    }\n",
       "\n",
       "    .dataframe tbody tr th {\n",
       "        vertical-align: top;\n",
       "    }\n",
       "\n",
       "    .dataframe thead th {\n",
       "        text-align: right;\n",
       "    }\n",
       "</style>\n",
       "<table border=\"1\" class=\"dataframe\">\n",
       "  <thead>\n",
       "    <tr style=\"text-align: right;\">\n",
       "      <th></th>\n",
       "      <th>question</th>\n",
       "      <th>answer</th>\n",
       "      <th>doc_id</th>\n",
       "      <th>doc</th>\n",
       "    </tr>\n",
       "  </thead>\n",
       "  <tbody>\n",
       "    <tr>\n",
       "      <th>0</th>\n",
       "      <td>How does RKP protect critical kernel data stru...</td>\n",
       "      <td>The RKP prevents modification of critical kern...</td>\n",
       "      <td>7bf951c1-4a6c-4e43-a8bf-6d8e0daff488</td>\n",
       "      <td>. Kernel data - RKP\"prevents modification of c...</td>\n",
       "    </tr>\n",
       "    <tr>\n",
       "      <th>1</th>\n",
       "      <td>Explain how return-oriented programming (ROP) ...</td>\n",
       "      <td>ROP and JOP attacks reuse existing kernel logi...</td>\n",
       "      <td>7bf951c1-4a6c-4e43-a8bf-6d8e0daff488</td>\n",
       "      <td>. Kernel data - RKP\"prevents modification of c...</td>\n",
       "    </tr>\n",
       "    <tr>\n",
       "      <th>2</th>\n",
       "      <td>How does RKP provide kernel protection on mobi...</td>\n",
       "      <td>RKP provides kernel protection on mobile devic...</td>\n",
       "      <td>b087ace0-671c-4448-b0ab-ae87ba5be3a3</td>\n",
       "      <td>. Since RKP is always active and requires no m...</td>\n",
       "    </tr>\n",
       "    <tr>\n",
       "      <th>3</th>\n",
       "      <td>What TrustZone-based architecture provides fea...</td>\n",
       "      <td>TrustZone-based Integrity Measurement Architec...</td>\n",
       "      <td>b087ace0-671c-4448-b0ab-ae87ba5be3a3</td>\n",
       "      <td>. Since RKP is always active and requires no m...</td>\n",
       "    </tr>\n",
       "    <tr>\n",
       "      <th>4</th>\n",
       "      <td>How does Periodic Kernel Measurement (PKM) hel...</td>\n",
       "      <td>PKM periodically monitors the kernel to detect...</td>\n",
       "      <td>713f65df-d9a5-4bf4-b121-534a4fd0446e</td>\n",
       "      <td>. One of these central TIMA features is _Perio...</td>\n",
       "    </tr>\n",
       "  </tbody>\n",
       "</table>\n",
       "</div>"
      ],
      "text/plain": [
       "                                            question  \\\n",
       "0  How does RKP protect critical kernel data stru...   \n",
       "1  Explain how return-oriented programming (ROP) ...   \n",
       "2  How does RKP provide kernel protection on mobi...   \n",
       "3  What TrustZone-based architecture provides fea...   \n",
       "4  How does Periodic Kernel Measurement (PKM) hel...   \n",
       "\n",
       "                                              answer  \\\n",
       "0  The RKP prevents modification of critical kern...   \n",
       "1  ROP and JOP attacks reuse existing kernel logi...   \n",
       "2  RKP provides kernel protection on mobile devic...   \n",
       "3  TrustZone-based Integrity Measurement Architec...   \n",
       "4  PKM periodically monitors the kernel to detect...   \n",
       "\n",
       "                                 doc_id  \\\n",
       "0  7bf951c1-4a6c-4e43-a8bf-6d8e0daff488   \n",
       "1  7bf951c1-4a6c-4e43-a8bf-6d8e0daff488   \n",
       "2  b087ace0-671c-4448-b0ab-ae87ba5be3a3   \n",
       "3  b087ace0-671c-4448-b0ab-ae87ba5be3a3   \n",
       "4  713f65df-d9a5-4bf4-b121-534a4fd0446e   \n",
       "\n",
       "                                                 doc  \n",
       "0  . Kernel data - RKP\"prevents modification of c...  \n",
       "1  . Kernel data - RKP\"prevents modification of c...  \n",
       "2  . Since RKP is always active and requires no m...  \n",
       "3  . Since RKP is always active and requires no m...  \n",
       "4  . One of these central TIMA features is _Perio...  "
      ]
     },
     "execution_count": 185,
     "metadata": {},
     "output_type": "execute_result"
    }
   ],
   "source": [
    "ground_thruth.head()"
   ]
  },
  {
   "cell_type": "code",
   "execution_count": null,
   "id": "8b7f998e-6419-4a7f-a277-31aabe706f65",
   "metadata": {},
   "outputs": [],
   "source": []
  },
  {
   "cell_type": "code",
   "execution_count": 186,
   "id": "86542331-d9eb-4e90-8de0-4ed770f84b62",
   "metadata": {
    "tags": []
   },
   "outputs": [
    {
     "name": "stdout",
     "output_type": "stream",
     "text": [
      "\n",
      "lexical search query: \n",
      "{'query': {'bool': {'filter': [],\n",
      "                    'must': [{'match': {'text': {'minimum_should_match': '0%',\n",
      "                                                 'operator': 'or',\n",
      "                                                 'query': 'How does RKP '\n",
      "                                                          'protect critical '\n",
      "                                                          'kernel data '\n",
      "                                                          'structures from '\n",
      "                                                          'modification?'}}}]}},\n",
      " 'size': 7}\n",
      "\n",
      "semantic search args: \n",
      "{'boolean_filter': {'bool': {'filter': []}},\n",
      " 'k': 7,\n",
      " 'search_type': 'approximate_search',\n",
      " 'space_type': 'l2'}\n",
      "[{'label': 'LABEL_0', 'score': 0.9976513981819153}, {'label': 'LABEL_0', 'score': 0.9981085062026978}]\n",
      "[Document(page_content='. RKP\\'s isolation from the kernel shrinks the Trusted Computing Base (TCB) and helps secure it from attacks designed to compromise the kernel. This unique ability enables RKP to detect and prevent the most common kernel attacks. RKP protections are grouped into three areas: Kernel code - RKP\"prevents modification of kernel code and logic. Kernel data - RKP\"prevents modification of critical kernel data structures', metadata={'source': 'customer_KAI.json', 'seq_num': 142, 'title': 'Real-time Kernel Protection (RKP)', 'url': 'https://docs.samsungknox.com/admin/fundamentals/whitepaper/core-platform-security/real-time-kernel-protection', 'project': 'USP', 'last_updated': '2023-07-26', 'id': '7d6cd6ec-7c40-44ec-b259-122563069466'}), Document(page_content='. Kernel data - RKP\"prevents modification of critical kernel data structures. Kernel control flow - RKP\"prevents Return-Oriented Programming (ROP) and Jump-Oriented Programming (JOP) attacks that reuse existing kernel logic to piece together exploits from the kernel\\'s own code. How is kernel protection possible? A kernel protection mechanism can\\'t exist completely in the kernel only, since an attacker could circumvent it if the kernel itself has a flaw', metadata={'source': 'customer_KME.json', 'seq_num': 209, 'title': 'Real-time Kernel Protection (RKP)', 'url': 'https://docs.samsungknox.com/admin/fundamentals/whitepaper/core-platform-security/real-time-kernel-protection', 'project': 'USP', 'last_updated': '2023-07-26'})]\n",
      "7bf951c1-4a6c-4e43-a8bf-6d8e0daff488 ['7d6cd6ec-7c40-44ec-b259-122563069466']\n",
      "\u001b[31mQuestion: \u001b[0m \u001b[31mHow does RKP protect critical kernel data structures from modification?\u001b[0m\n",
      "\u001b[32mGroundTruth: \u001b[0m \u001b[32mThe RKP prevents modification of critical kernel data structures by restricting access to them and by implementing signatures and checksums to detect any changes\u001b[0m\n",
      "\u001b[34mPrediction: \u001b[0m \u001b[34m RKP prevents modification of critical kernel data structures by isolating itself from the kernel. This shrinks the trusted computing base and helps secure it from attacks designed to compromise the kernel. RKP's unique ability to operate outside the kernel enables it to detect and prevent changes to critical kernel data structures.\u001b[0m\n",
      "ReRanker similarity: 0.9955863952636719\n",
      "Langchain correctness: 0\n",
      "doc_id: False\n",
      "\n",
      "lexical search query: \n",
      "{'query': {'bool': {'filter': [],\n",
      "                    'must': [{'match': {'text': {'minimum_should_match': '0%',\n",
      "                                                 'operator': 'or',\n",
      "                                                 'query': 'Explain how '\n",
      "                                                          'return-oriented '\n",
      "                                                          'programming (ROP) '\n",
      "                                                          'and jump-oriented '\n",
      "                                                          'programming (JOP) '\n",
      "                                                          'attacks work to '\n",
      "                                                          'exploit '\n",
      "                                                          'vulnerabilities in '\n",
      "                                                          \"the kernel's \"\n",
      "                                                          'existing logic and '\n",
      "                                                          \"code. Why can't a \"\n",
      "                                                          'kernel protection '\n",
      "                                                          'mechanism exist '\n",
      "                                                          'solely within the '\n",
      "                                                          'kernel '\n",
      "                                                          'itself?'}}}]}},\n",
      " 'size': 7}\n",
      "\n",
      "semantic search args: \n",
      "{'boolean_filter': {'bool': {'filter': []}},\n",
      " 'k': 7,\n",
      " 'search_type': 'approximate_search',\n",
      " 'space_type': 'l2'}\n",
      "[{'label': 'LABEL_0', 'score': 0.99775630235672}]\n",
      "[Document(page_content='. Kernel data - RKP\"prevents modification of critical kernel data structures. Kernel control flow - RKP\"prevents Return-Oriented Programming (ROP) and Jump-Oriented Programming (JOP) attacks that reuse existing kernel logic to piece together exploits from the kernel\\'s own code. How is kernel protection possible? A kernel protection mechanism can\\'t exist completely in the kernel only, since an attacker could circumvent it if the kernel itself has a flaw', metadata={'source': 'customer_EFOTA.json', 'seq_num': 182, 'title': 'Real-time Kernel Protection (RKP)', 'url': 'https://docs.samsungknox.com/admin/fundamentals/whitepaper/core-platform-security/real-time-kernel-protection', 'project': 'USP', 'last_updated': '2023-07-26', 'id': '7bf951c1-4a6c-4e43-a8bf-6d8e0daff488'})]\n",
      "7bf951c1-4a6c-4e43-a8bf-6d8e0daff488 ['7bf951c1-4a6c-4e43-a8bf-6d8e0daff488']\n",
      "\u001b[31mQuestion: \u001b[0m \u001b[31mExplain how return-oriented programming (ROP) and jump-oriented programming (JOP) attacks work to exploit vulnerabilities in the kernel's existing logic and code. Why can't a kernel protection mechanism exist solely within the kernel itself?\u001b[0m\n",
      "\u001b[32mGroundTruth: \u001b[0m \u001b[32mROP and JOP attacks reuse existing kernel logic to piece together exploits from the kernel's own code, by chaining together sequences of gadget-like instructions that redirect control and data, allowing an attacker to exploit flaws that are present in the kernel in order to gain unauthorized access. A kernel protection mechanism cannot exist solely within the kernel itself, because an attacker could circumvent it by exploiting a vulnerability in the kernel itself\u001b[0m\n",
      "\u001b[34mPrediction: \u001b[0m \u001b[34m ROP and JOP attacks work by reusing existing code snippets (called gadgets) in the kernel to perform malicious operations by chaining them together. Since the gadgets already exist in the kernel's code, they can bypass protections that try to prevent execution of injected code. A kernel protection mechanism can't exist completely within the kernel itself because if there is a vulnerability in the kernel, an attacker could potentially bypass the internal protection. The protection needs to exist partly outside the kernel so that even if the kernel is compromised, the external protection can still defend against attacks.\u001b[0m\n",
      "ReRanker similarity: 0.9995757937431335\n",
      "Langchain correctness: 1\n",
      "doc_id: True\n",
      "\n",
      "lexical search query: \n",
      "{'query': {'bool': {'filter': [],\n",
      "                    'must': [{'match': {'text': {'minimum_should_match': '0%',\n",
      "                                                 'operator': 'or',\n",
      "                                                 'query': 'How does RKP '\n",
      "                                                          'provide kernel '\n",
      "                                                          'protection on '\n",
      "                                                          'mobile '\n",
      "                                                          'devices?'}}}]}},\n",
      " 'size': 7}\n",
      "\n",
      "semantic search args: \n",
      "{'boolean_filter': {'bool': {'filter': []}},\n",
      " 'k': 7,\n",
      " 'search_type': 'approximate_search',\n",
      " 'space_type': 'l2'}\n",
      "[{'label': 'LABEL_0', 'score': 0.9504310488700867}, {'label': 'LABEL_0', 'score': 0.9899483919143677}]\n",
      "[Document(page_content=\"Real-time Kernel Protection (RKP). The Knox Platform's patented Real-time Kernel Protection (RKP) is the industry's strongest protection against kernel threats and exploits. RKP works seamlessly out-of-the-box, with no setup required. Simply powering on a Samsung Knox device provides world-class threat protection and attack mitigation. RKP supports the rest of the Knox security offerings to provide full security coverage without the typical gaps anticipated with mobile devices\", metadata={'source': 'customer_USP.json', 'seq_num': 33, 'title': 'Real-time Kernel Protection (RKP)', 'url': 'https://docs.samsungknox.com/admin/fundamentals/whitepaper/core-platform-security/real-time-kernel-protection', 'project': 'USP', 'last_updated': '2023-07-26', 'id': 'ab6e0cf1-04c7-4397-8d1e-860fb475ecdf'}), Document(page_content='. However, RKP succeeds by utilizing patented techniques to control device memory management and by intercepting and inspecting critical kernel actions before allowing them to execute. RKP is thus able to prevent a compromised kernel from bypassing other security protections. This prevention significantly reduces the severity of kernel attacks and limits the effectiveness of exploits that would typically cripple a mobile device', metadata={'source': 'customer_EFOTA.json', 'seq_num': 182, 'title': 'Real-time Kernel Protection (RKP)', 'url': 'https://docs.samsungknox.com/admin/fundamentals/whitepaper/core-platform-security/real-time-kernel-protection', 'project': 'USP', 'last_updated': '2023-07-26'})]\n",
      "b087ace0-671c-4448-b0ab-ae87ba5be3a3 ['ab6e0cf1-04c7-4397-8d1e-860fb475ecdf']\n",
      "\u001b[31mQuestion: \u001b[0m \u001b[31mHow does RKP provide kernel protection on mobile devices?\u001b[0m\n",
      "\u001b[32mGroundTruth: \u001b[0m \u001b[32mRKP provides kernel protection on mobile devices by meeting the strict usability and performance requirements, being active out-of-the-box with no performance impact to customers\u001b[0m\n",
      "\u001b[34mPrediction: \u001b[0m \u001b[34m Based on the provided context:\n",
      "\n",
      "RKP provides kernel protection on mobile devices through patented techniques that control device memory management and intercept critical kernel actions before allowing them to execute. This allows RKP to prevent a compromised kernel from bypassing other security protections, reducing the severity of kernel attacks and limiting the effectiveness of exploits that would typically cripple a mobile device.\u001b[0m\n",
      "ReRanker similarity: 0.9749703407287598\n",
      "Langchain correctness: 0\n",
      "doc_id: False\n",
      "\n",
      "lexical search query: \n",
      "{'query': {'bool': {'filter': [],\n",
      "                    'must': [{'match': {'text': {'minimum_should_match': '0%',\n",
      "                                                 'operator': 'or',\n",
      "                                                 'query': 'What '\n",
      "                                                          'TrustZone-based '\n",
      "                                                          'architecture '\n",
      "                                                          'provides features '\n",
      "                                                          'to protect against '\n",
      "                                                          'mobile device '\n",
      "                                                          'compromise?'}}}]}},\n",
      " 'size': 7}\n",
      "\n",
      "semantic search args: \n",
      "{'boolean_filter': {'bool': {'filter': []}},\n",
      " 'k': 7,\n",
      " 'search_type': 'approximate_search',\n",
      " 'space_type': 'l2'}\n",
      "[{'label': 'LABEL_0', 'score': 0.0005406932323239744}, {'label': 'LABEL_0', 'score': 0.9999080896377563}]\n",
      "[Document(page_content=\". Since RKP is always active and requires no management control, kernel protection is only possible if it meets strict usability and performance requirements. RKP's protections are activated out-of-the-box, with no performance impact to customers. #Periodic Kernel Measurement (PKM) The _TrustZone-based Integrity Measurement Architecture_ (TIMA) architecture provides a number of core features to protect against mobile device compromise\", metadata={'source': 'customer_KCAP.json', 'seq_num': 123, 'title': 'Real-time Kernel Protection (RKP)', 'url': 'https://docs.samsungknox.com/admin/fundamentals/whitepaper/core-platform-security/real-time-kernel-protection', 'project': 'USP', 'last_updated': '2023-07-26', 'id': '10544f18-70e7-4407-bf6f-e6f165793aed'}), Document(page_content='. Platform integrity - Does the device ensure the integrity of the platform?\"Can it query the integrity of the platform? Yes, achieved with the Real-Time Kernel Protection, Device Health Attestation, and Secure lockdown on tampering. App sandboxing - Does the device provide app sandboxing? Yes, achieved with the Android Enterprise work profile, Separated Apps, and SEAMS. App blocking - Does the device allow apps to be added to an allowlist or a blocklist? Yes, achieved with Advanced App Management', metadata={'source': 'customer_KME.json', 'seq_num': 203, 'title': 'Knox Certifications', 'url': 'https://docs.samsungknox.com/admin/fundamentals/whitepaper/appendix/knox-certifications', 'project': 'USP', 'last_updated': '2023-07-26'})]\n",
      "b087ace0-671c-4448-b0ab-ae87ba5be3a3 ['10544f18-70e7-4407-bf6f-e6f165793aed']\n",
      "\u001b[31mQuestion: \u001b[0m \u001b[31mWhat TrustZone-based architecture provides features to protect against mobile device compromise?\u001b[0m\n",
      "\u001b[32mGroundTruth: \u001b[0m \u001b[32mTrustZone-based Integrity Measurement Architecture (TIMA\u001b[0m\n",
      "\u001b[34mPrediction: \u001b[0m \u001b[34m PKM (Periodic Kernel Measurement)\n",
      "\n",
      "The TrustZone-based Integrity Measurement Architecture (TIMA) architecture provides a number of core features to protect against mobile device compromise.\u001b[0m\n",
      "ReRanker similarity: 0.9998492002487183\n",
      "Langchain correctness: 0\n",
      "doc_id: False\n",
      "\n",
      "lexical search query: \n",
      "{'query': {'bool': {'filter': [],\n",
      "                    'must': [{'match': {'text': {'minimum_should_match': '0%',\n",
      "                                                 'operator': 'or',\n",
      "                                                 'query': 'How does Periodic '\n",
      "                                                          'Kernel Measurement '\n",
      "                                                          '(PKM) help protect '\n",
      "                                                          'the kernel?'}}}]}},\n",
      " 'size': 7}\n",
      "\n",
      "semantic search args: \n",
      "{'boolean_filter': {'bool': {'filter': []}},\n",
      " 'k': 7,\n",
      " 'search_type': 'approximate_search',\n",
      " 'space_type': 'l2'}\n",
      "[{'label': 'LABEL_0', 'score': 0.9979203343391418}, {'label': 'LABEL_0', 'score': 0.9902657866477966}]\n",
      "[Document(page_content='. One of these central TIMA features is _Periodic Kernel Measurement_ (PKM). PKM periodically monitors the kernel to detect if legitimate kernel code and data were modified maliciously. PKM also monitors the key SE for Android data structures in OS kernel memory to prevent malicious attacks from corrupting and potentially disabling SE for Android. PKM\"protects the Linux kernel code and data pages from malicious exploits and helps prevent attacks attempting to disable SE for Android', metadata={'source': 'customer_KC.json', 'seq_num': 233, 'title': 'Real-time Kernel Protection (RKP)', 'url': 'https://docs.samsungknox.com/admin/fundamentals/whitepaper/core-platform-security/real-time-kernel-protection', 'project': 'USP', 'last_updated': '2023-07-26'}), Document(page_content=\". Since RKP is always active and requires no management control, kernel protection is only possible if it meets strict usability and performance requirements. RKP's protections are activated out-of-the-box, with no performance impact to customers. #Periodic Kernel Measurement (PKM) The _TrustZone-based Integrity Measurement Architecture_ (TIMA) architecture provides a number of core features to protect against mobile device compromise\", metadata={'source': 'customer_WKC.json', 'seq_num': 141, 'title': 'Real-time Kernel Protection (RKP)', 'url': 'https://docs.samsungknox.com/admin/fundamentals/whitepaper/core-platform-security/real-time-kernel-protection', 'project': 'USP', 'last_updated': '2023-07-26', 'id': '186605aa-5ba6-4d55-88b6-3caaf2f5cbc6'})]\n",
      "713f65df-d9a5-4bf4-b121-534a4fd0446e ['186605aa-5ba6-4d55-88b6-3caaf2f5cbc6']\n",
      "\u001b[31mQuestion: \u001b[0m \u001b[31mHow does Periodic Kernel Measurement (PKM) help protect the kernel?\u001b[0m\n",
      "\u001b[32mGroundTruth: \u001b[0m \u001b[32mPKM periodically monitors the kernel to detect if legitimate kernel code and data were modified maliciously. It also protects the key SE for Android data structures in the OS kernel memory to prevent malicious attacks that might corrupt and potentially disable SE for Android\u001b[0m\n",
      "\u001b[34mPrediction: \u001b[0m \u001b[34m PKM periodically monitors the kernel to detect if legitimate kernel code and data were modified maliciously. PKM also monitors the key SE for Android data structures in OS kernel memory to prevent malicious attacks from corrupting and potentially disabling SE for Android. PKM protects the Linux kernel code and data pages from malicious exploits and helps prevent attacks attempting to disable SE for Android.\u001b[0m\n",
      "ReRanker similarity: 0.9999270439147949\n",
      "Langchain correctness: 1\n",
      "doc_id: False\n",
      "\n",
      "lexical search query: \n",
      "{'query': {'bool': {'filter': [],\n",
      "                    'must': [{'match': {'text': {'minimum_should_match': '0%',\n",
      "                                                 'operator': 'or',\n",
      "                                                 'query': 'What two things '\n",
      "                                                          'does PKM monitor to '\n",
      "                                                          'help prevent '\n",
      "                                                          'attacks on the '\n",
      "                                                          'kernel?'}}}]}},\n",
      " 'size': 7}\n",
      "\n",
      "semantic search args: \n",
      "{'boolean_filter': {'bool': {'filter': []}},\n",
      " 'k': 7,\n",
      " 'search_type': 'approximate_search',\n",
      " 'space_type': 'l2'}\n",
      "[{'label': 'LABEL_0', 'score': 0.02189469151198864}, {'label': 'LABEL_0', 'score': 0.9925485253334045}]\n",
      "[Document(page_content='. One of these central TIMA features is _Periodic Kernel Measurement_ (PKM). PKM periodically monitors the kernel to detect if legitimate kernel code and data were modified maliciously. PKM also monitors the key SE for Android data structures in OS kernel memory to prevent malicious attacks from corrupting and potentially disabling SE for Android. PKM\"protects the Linux kernel code and data pages from malicious exploits and helps prevent attacks attempting to disable SE for Android', metadata={'source': 'customer_KM.json', 'seq_num': 652, 'title': 'Real-time Kernel Protection (RKP)', 'url': 'https://docs.samsungknox.com/admin/fundamentals/whitepaper/core-platform-security/real-time-kernel-protection', 'project': 'USP', 'last_updated': '2023-07-26', 'id': '409b6a93-31b1-46ab-bdb1-96b3d0888089'}), Document(page_content='. Why does kernel protection matter? Kernel protection is central to device security and enterprise data protection. When attackers find software vulnerabilities, they often escalate privileges and compromise the core of the OS: the kernel. A compromised kernel can leak sensitive data and even allow remote monitoring and control of the affected device. Other more commonplace protections like Secure Boot or hardware-backed keystores are of little value if the kernel itself is controlled at runtime', metadata={'source': 'customer_EFOTA.json', 'seq_num': 182, 'title': 'Real-time Kernel Protection (RKP)', 'url': 'https://docs.samsungknox.com/admin/fundamentals/whitepaper/core-platform-security/real-time-kernel-protection', 'project': 'USP', 'last_updated': '2023-07-26'})]\n",
      "713f65df-d9a5-4bf4-b121-534a4fd0446e ['409b6a93-31b1-46ab-bdb1-96b3d0888089']\n",
      "\u001b[31mQuestion: \u001b[0m \u001b[31mWhat two things does PKM monitor to help prevent attacks on the kernel?\u001b[0m\n",
      "\u001b[32mGroundTruth: \u001b[0m \u001b[32mPKM periodically monitors the kernel to detect if legitimate kernel code and data were modified maliciously. It also monitors key SE for Android data structures in OS kernel memory to prevent malicious attacks from corrupting and potentially disabling SE for Android\u001b[0m\n",
      "\u001b[34mPrediction: \u001b[0m \u001b[34m PKM periodically monitors the kernel to detect if legitimate kernel code and data were modified maliciously. PKM also monitors the key SE for Android data structures in OS kernel memory to prevent malicious attacks from corrupting and potentially disabling SE for Android.\u001b[0m\n",
      "ReRanker similarity: 0.9999270439147949\n",
      "Langchain correctness: 1\n",
      "doc_id: False\n",
      "\n",
      "lexical search query: \n",
      "{'query': {'bool': {'filter': [],\n",
      "                    'must': [{'match': {'text': {'minimum_should_match': '0%',\n",
      "                                                 'operator': 'or',\n",
      "                                                 'query': 'What does the Knox '\n",
      "                                                          'Platform use to '\n",
      "                                                          'establish a '\n",
      "                                                          'hardware-backed '\n",
      "                                                          'Root of '\n",
      "                                                          'Trust?'}}}]}},\n",
      " 'size': 7}\n",
      "\n",
      "semantic search args: \n",
      "{'boolean_filter': {'bool': {'filter': []}},\n",
      " 'k': 7,\n",
      " 'search_type': 'approximate_search',\n",
      " 'space_type': 'l2'}\n",
      "[{'label': 'LABEL_0', 'score': 0.9025898575782776}, {'label': 'LABEL_0', 'score': 0.9988812804222107}]\n",
      "[Document(page_content='. Samsung Knox uses these same Trusted Applications to provide its own assurances. Knox Platform trusted environment The Knox Platform builds a unique, industry-leading trusted environment in four ways: Establishes a hardware-backed Root of Trust, on which other components rely. Builds trust during boot, through features like Trusted Boot. Maintains trust while the device is in use, through features like Real-Time Kernel Protection. Proves its trustworthiness on demand, through Device Health Attestation', metadata={'source': 'customer_KAI.json', 'seq_num': 143, 'title': 'Root of Trust', 'url': 'https://docs.samsungknox.com/admin/fundamentals/whitepaper/core-platform-security/root-of-trust', 'project': 'USP', 'last_updated': '2023-07-26', 'id': '13a3cbff-ec9f-44dc-8bab-871efd707a58'}), Document(page_content='. Proves its trustworthiness on demand, through Device Health Attestation. This process and its components are as follows: How the Root of Trust works 1. Knox Platform security starts in the factory - before users even power on their device - when a Device-Unique Hardware Key (DUHK) is generated on the device using its hardware random number generator. 2. Next, the DUHK generates and encrypts the Device Root Key (DRK) and Samsung Attestation Key (SAK). 3', metadata={'source': 'customer_KAI.json', 'seq_num': 143, 'title': 'Root of Trust', 'url': 'https://docs.samsungknox.com/admin/fundamentals/whitepaper/core-platform-security/root-of-trust', 'project': 'USP', 'last_updated': '2023-07-26'})]\n",
      "6f24097b-b9be-400f-8edc-6cd274b77f51 ['13a3cbff-ec9f-44dc-8bab-871efd707a58']\n",
      "\u001b[31mQuestion: \u001b[0m \u001b[31mWhat does the Knox Platform use to establish a hardware-backed Root of Trust?\u001b[0m\n",
      "\u001b[32mGroundTruth: \u001b[0m \u001b[32mThe Knox Platform uses a hardware-backed Root of Trust to establish a unique, industry-leading trusted environment\u001b[0m\n",
      "\u001b[34mPrediction: \u001b[0m \u001b[34m Establishes a hardware-backed Root of Trust, on which other components rely.\u001b[0m\n",
      "ReRanker similarity: 0.9886791110038757\n",
      "Langchain correctness: 1\n",
      "doc_id: False\n",
      "\n",
      "lexical search query: \n",
      "{'query': {'bool': {'filter': [],\n",
      "                    'must': [{'match': {'text': {'minimum_should_match': '0%',\n",
      "                                                 'operator': 'or',\n",
      "                                                 'query': 'How does the Knox '\n",
      "                                                          'Platform maintain '\n",
      "                                                          'trust while the '\n",
      "                                                          'device is in '\n",
      "                                                          'use?'}}}]}},\n",
      " 'size': 7}\n",
      "\n",
      "semantic search args: \n",
      "{'boolean_filter': {'bool': {'filter': []}},\n",
      " 'k': 7,\n",
      " 'search_type': 'approximate_search',\n",
      " 'space_type': 'l2'}\n",
      "[{'label': 'LABEL_0', 'score': 0.7583689093589783}, {'label': 'LABEL_0', 'score': 0.998979389667511}]\n",
      "[Document(page_content='. Samsung Knox uses these same Trusted Applications to provide its own assurances. Knox Platform trusted environment The Knox Platform builds a unique, industry-leading trusted environment in four ways: Establishes a hardware-backed Root of Trust, on which other components rely. Builds trust during boot, through features like Trusted Boot. Maintains trust while the device is in use, through features like Real-Time Kernel Protection. Proves its trustworthiness on demand, through Device Health Attestation', metadata={'source': 'customer_EFOTA.json', 'seq_num': 183, 'title': 'Root of Trust', 'url': 'https://docs.samsungknox.com/admin/fundamentals/whitepaper/core-platform-security/root-of-trust', 'project': 'USP', 'last_updated': '2023-07-26', 'id': '6f24097b-b9be-400f-8edc-6cd274b77f51'}), Document(page_content='. Proves its trustworthiness on demand, through Device Health Attestation. This process and its components are as follows: How the Root of Trust works 1. Knox Platform security starts in the factory - before users even power on their device - when a Device-Unique Hardware Key (DUHK) is generated on the device using its hardware random number generator. 2. Next, the DUHK generates and encrypts the Device Root Key (DRK) and Samsung Attestation Key (SAK). 3', metadata={'source': 'customer_KAI.json', 'seq_num': 143, 'title': 'Root of Trust', 'url': 'https://docs.samsungknox.com/admin/fundamentals/whitepaper/core-platform-security/root-of-trust', 'project': 'USP', 'last_updated': '2023-07-26'})]\n",
      "6f24097b-b9be-400f-8edc-6cd274b77f51 ['6f24097b-b9be-400f-8edc-6cd274b77f51']\n",
      "\u001b[31mQuestion: \u001b[0m \u001b[31mHow does the Knox Platform maintain trust while the device is in use?\u001b[0m\n",
      "\u001b[32mGroundTruth: \u001b[0m \u001b[32mKnox Platform maintains trust while the device is in use through features like Real-Time Kernel Protection. Real-Time Kernel Protection ensures the integrity of the kernel in real time to defend against various critical threats such as malware and malicious users\u001b[0m\n",
      "\u001b[34mPrediction: \u001b[0m \u001b[34m Maintains trust while the device is in use, through features like Real-Time Kernel Protection.\u001b[0m\n",
      "ReRanker similarity: 0.9999275207519531\n",
      "Langchain correctness: 1\n",
      "doc_id: True\n",
      "\n",
      "lexical search query: \n",
      "{'query': {'bool': {'filter': [],\n",
      "                    'must': [{'match': {'text': {'minimum_should_match': '0%',\n",
      "                                                 'operator': 'or',\n",
      "                                                 'query': 'How can you '\n",
      "                                                          'customize the '\n",
      "                                                          'landing page when '\n",
      "                                                          'users sign in to '\n",
      "                                                          'the Knox Admin '\n",
      "                                                          'Portal?'}}}]}},\n",
      " 'size': 7}\n",
      "\n",
      "semantic search args: \n",
      "{'boolean_filter': {'bool': {'filter': []}},\n",
      " 'k': 7,\n",
      " 'search_type': 'approximate_search',\n",
      " 'space_type': 'l2'}\n",
      "[{'label': 'LABEL_0', 'score': 0.999439537525177}, {'label': 'LABEL_0', 'score': 0.9931526184082031}]\n",
      "[Document(page_content='Customize the portal. The Knox Admin Portal can be customized to fit your needs. You can change your default landing page and choose which services are shown in the navigation pane. Change your default landing page By default, the Knox Admin Portal dashboard is shown when you sign in as a new user. This dashboard provides helpful information about new features, services, and other resources to help you manage your devices more effectively', metadata={'source': 'customer_KAI.json', 'seq_num': 164, 'title': 'Customize the portal', 'url': 'https://docs.samsungknox.com/admin/knox-admin-portal/how-to-guides/customize-the-portal', 'project': 'USP', 'last_updated': '2023-09-06', 'id': '2bab4c91-3a83-46a2-993a-02c7af933021'}), Document(page_content=\". Click !Gear button. Active licenses - An overview of the Knox licenses associated with your account. You're notified here of licenses that are expiring soon. If you previously set a default landing page for the Knox Admin Portal, that page will still open when you sign in. If you set Home as your landing page, the new dashboard will open instead. You can change your default landing page by clicking Settings > DEFAULT LANDING PAGE in your account details. To learn more, see Customize the portal\", metadata={'source': 'customer_KG.json', 'seq_num': 185, 'title': 'Knox Admin Portal 23.09 release notes', 'url': 'https://docs.samsungknox.com/admin/knox-admin-portal/release-notes/23-09', 'project': 'USP', 'last_updated': '2023-09-06', 'id': '7036fe67-b331-4df1-be84-3ac7bdce301c'})]\n",
      "3e2dfa43-b44d-4001-b2f5-8934bbb2899d ['2bab4c91-3a83-46a2-993a-02c7af933021', '7036fe67-b331-4df1-be84-3ac7bdce301c']\n",
      "\u001b[31mQuestion: \u001b[0m \u001b[31mHow can you customize the landing page when users sign in to the Knox Admin Portal?\u001b[0m\n",
      "\u001b[32mGroundTruth: \u001b[0m \u001b[32mYou can do so by setting the landing page to be a service-specific dashboard\u001b[0m\n",
      "\u001b[34mPrediction: \u001b[0m \u001b[34m Based on the given context, you can customize the landing page when users sign in to the Knox Admin Portal by:\n",
      "\n",
      "- By default, the Knox Admin Portal dashboard is shown when users sign in. This dashboard provides information about new features, services, etc. \n",
      "\n",
      "- If you previously set a default landing page, that page will still open when users sign in instead of the dashboard.\n",
      "\n",
      "- You can change the default landing page by going to Settings > Default Landing Page in your account details. \n",
      "\n",
      "- To set the dashboard as the landing page, choose Home as the landing page.\n",
      "\n",
      "- You can also choose which services are shown in the navigation pane to customize the portal experience.\u001b[0m\n",
      "ReRanker similarity: 0.45323795080184937\n",
      "Langchain correctness: 1\n",
      "doc_id: False\n",
      "\n",
      "lexical search query: \n",
      "{'query': {'bool': {'filter': [],\n",
      "                    'must': [{'match': {'text': {'minimum_should_match': '0%',\n",
      "                                                 'operator': 'or',\n",
      "                                                 'query': 'According to the '\n",
      "                                                          'passage, what are '\n",
      "                                                          'some of the key '\n",
      "                                                          'elements '\n",
      "                                                          'highlighted in the '\n",
      "                                                          'diagram of the Knox '\n",
      "                                                          'Admin Portal?'}}}]}},\n",
      " 'size': 7}\n",
      "\n",
      "semantic search args: \n",
      "{'boolean_filter': {'bool': {'filter': []}},\n",
      " 'k': 7,\n",
      " 'search_type': 'approximate_search',\n",
      " 'space_type': 'l2'}\n",
      "[{'label': 'LABEL_0', 'score': 0.999413013458252}, {'label': 'LABEL_0', 'score': 0.8735965490341187}]\n",
      "[Document(page_content='. The following diagram highlights several key elements of the Knox Admin Portal. 1. The navigation pane, through which you can seamlessly access your Knox services and their features. 2. The Licenses page, where you can view and manage your licenses. See Manage Knox licenses for more details. 3. The Administrators & Roles page, where you can manage admins and roles for your services. See Manage admins and roles for Knox services for more details. 4', metadata={'source': 'customer_SCPE.json', 'seq_num': 129, 'title': 'Tour the portal', 'url': 'https://docs.samsungknox.com/admin/knox-admin-portal/get-started/tour-the-portal', 'project': 'USP', 'last_updated': '2023-09-06'}), Document(page_content=\". If you set the landing page to be a service-specific dashboard, you won't immediately see the Knox Admin Portal dashboard when you sign in anymore. See Customize the portal to learn more. Get started using the portal Now that you've set up the Knox Admin Portal, you're ready to start exploring what the portal and its associated Knox services have to offer. The following diagram highlights several key elements of the Knox Admin Portal. 1\", metadata={'source': 'customer_KRS.json', 'seq_num': 53, 'title': 'Tour the portal', 'url': 'https://docs.samsungknox.com/admin/knox-admin-portal/get-started/tour-the-portal', 'project': 'USP', 'last_updated': '2023-09-06', 'id': '40d6cd0c-3781-401c-bfb4-296a378d2a63'})]\n",
      "3e2dfa43-b44d-4001-b2f5-8934bbb2899d ['40d6cd0c-3781-401c-bfb4-296a378d2a63']\n",
      "\u001b[31mQuestion: \u001b[0m \u001b[31mAccording to the passage, what are some of the key elements highlighted in the diagram of the Knox Admin Portal?\u001b[0m\n",
      "\u001b[32mGroundTruth: \u001b[0m \u001b[32mThe diagram highlights several key elements of the Knox Admin Portal, including a service-specific dashboard, the Knox Admin Portal dashboard, and associated Knox services\u001b[0m\n",
      "\u001b[34mPrediction: \u001b[0m \u001b[34m According to the passage, some of the key elements highlighted in the diagram of the Knox Admin Portal are:\n",
      "\n",
      "1. The navigation pane, through which you can access Knox services and features. \n",
      "\n",
      "2. The Licenses page, where you can view and manage licenses.\n",
      "\n",
      "3. The Administrators & Roles page, where you can manage admins and roles.\n",
      "\n",
      "4. The ability to customize the portal and set a service-specific dashboard as the landing page.\n",
      "\n",
      "1. The navigation pane, through which you can access Knox services and features.\u001b[0m\n",
      "ReRanker similarity: 0.9987220168113708\n",
      "Langchain correctness: 0\n",
      "doc_id: False\n",
      "\n",
      "lexical search query: \n",
      "{'query': {'bool': {'filter': [],\n",
      "                    'must': [{'match': {'text': {'minimum_should_match': '0%',\n",
      "                                                 'operator': 'or',\n",
      "                                                 'query': 'How can a user '\n",
      "                                                          'change the default '\n",
      "                                                          'landing page when '\n",
      "                                                          'signing into the '\n",
      "                                                          'Knox Admin '\n",
      "                                                          'Portal?'}}}]}},\n",
      " 'size': 7}\n",
      "\n",
      "semantic search args: \n",
      "{'boolean_filter': {'bool': {'filter': []}},\n",
      " 'k': 7,\n",
      " 'search_type': 'approximate_search',\n",
      " 'space_type': 'l2'}\n",
      "[{'label': 'LABEL_0', 'score': 0.9984356760978699}]\n",
      "[Document(page_content='Customize the portal. The Knox Admin Portal can be customized to fit your needs. You can change your default landing page and choose which services are shown in the navigation pane. Change your default landing page By default, the Knox Admin Portal dashboard is shown when you sign in as a new user. This dashboard provides helpful information about new features, services, and other resources to help you manage your devices more effectively', metadata={'source': 'customer_KAI.json', 'seq_num': 164, 'title': 'Customize the portal', 'url': 'https://docs.samsungknox.com/admin/knox-admin-portal/how-to-guides/customize-the-portal', 'project': 'USP', 'last_updated': '2023-09-06', 'id': '2bab4c91-3a83-46a2-993a-02c7af933021'})]\n",
      "f9888137-6a91-4ed5-8027-cc226d6021cc ['2bab4c91-3a83-46a2-993a-02c7af933021']\n"
     ]
    },
    {
     "name": "stderr",
     "output_type": "stream",
     "text": [
      "\n",
      "KeyboardInterrupt\n",
      "\n"
     ]
    }
   ],
   "source": [
    "for row in ground_thruth.itertuples():\n",
    "    question, answer, doc_id = getattr(row, \"question\"), getattr(row, \"answer\"), getattr(row, \"doc_id\")\n",
    "    response = qa_chain(question)\n",
    "    prediction = response[\"result\"]\n",
    "    retrieved_ids = [doc.metadata[\"id\"] for doc in response[\"source_documents\"] if \"id\" in doc.metadata]\n",
    "    \n",
    "    print (response[\"source_documents\"])\n",
    "    print (doc_id, retrieved_ids)\n",
    "\n",
    "    payload = json.dumps(\n",
    "        {\n",
    "            \"inputs\": [\n",
    "                {\"text\": answer, \"text_pair\": prediction},\n",
    "            ]\n",
    "        }\n",
    "    )\n",
    "\n",
    "    response = runtime_client.invoke_endpoint(\n",
    "        EndpointName=endpoint_name,\n",
    "        ContentType=\"application/json\",\n",
    "        Accept=\"application/json\",\n",
    "        Body=payload\n",
    "    )\n",
    "    ## deserialization\n",
    "    out = json.loads(response['Body'].read().decode()) ## for json\n",
    "    \n",
    "    eval_result = evaluator.evaluate_strings(\n",
    "        input=question,\n",
    "        prediction=prediction,\n",
    "        reference=answer,\n",
    "    )\n",
    "    \n",
    "    print(colored(\"Question: \", \"red\"), colored(question, \"red\"))\n",
    "    print(colored(\"GroundTruth: \", \"green\"), colored(answer, \"green\"))\n",
    "    print(colored(\"Prediction: \", \"blue\"), colored(prediction, \"blue\"))\n",
    "    print(f'ReRanker similarity: {out[0][\"score\"]}')\n",
    "    print(f'Langchain correctness: {eval_result[\"score\"]}')\n",
    "    print(f'doc_id: {doc_id in retrieved_ids}')\n",
    "    "
   ]
  },
  {
   "cell_type": "markdown",
   "id": "408061b1-a7fb-4f1f-9387-68c1ab34285d",
   "metadata": {},
   "source": [
    "### Set reranker model"
   ]
  },
  {
   "cell_type": "code",
   "execution_count": null,
   "id": "feb07953-4794-4e44-bf3d-f025fa0c9cda",
   "metadata": {
    "tags": []
   },
   "outputs": [],
   "source": [
    "import json\n",
    "import boto3\n",
    "from termcolor import colored"
   ]
  },
  {
   "cell_type": "code",
   "execution_count": null,
   "id": "910e7144-96a3-476a-a958-40ec86fa3220",
   "metadata": {
    "tags": []
   },
   "outputs": [],
   "source": [
    "runtime_client = boto3.Session().client('sagemaker-runtime')\n",
    "print (f'runtime_client: {runtime_client}')"
   ]
  },
  {
   "cell_type": "code",
   "execution_count": null,
   "id": "20e3365e-288e-4712-9536-e61cd0b2f9f7",
   "metadata": {
    "tags": []
   },
   "outputs": [],
   "source": [
    "#endpoint_name = \"huggingface-pytorch-inference-2023-11-15-04-37-45-120\" # ml.m5.2xlarge\n",
    "endpoint_name = \"huggingface-pytorch-inference-2023-11-15-07-53-21-605\" # ml.g5.xlarge\n",
    "deserializer = \"application/json\""
   ]
  },
  {
   "cell_type": "code",
   "execution_count": null,
   "id": "0c5ce942-77f9-458b-bc45-9c3b92292d70",
   "metadata": {},
   "outputs": [],
   "source": []
  },
  {
   "cell_type": "code",
   "execution_count": null,
   "id": "e19f926a-a73a-43d8-9ca3-65fe8caa636f",
   "metadata": {},
   "outputs": [],
   "source": []
  },
  {
   "cell_type": "code",
   "execution_count": null,
   "id": "6f8de2ed-f04b-40ff-a851-6ca2efe9fe68",
   "metadata": {},
   "outputs": [],
   "source": []
  },
  {
   "cell_type": "code",
   "execution_count": null,
   "id": "a1929a16-4b7f-44ea-9889-32e2f0f5b032",
   "metadata": {
    "tags": []
   },
   "outputs": [],
   "source": [
    "for row in ground_thruth.itertuples():\n",
    "    question, answer = getattr(row, \"question\"), getattr(row, \"answer\")\n",
    "    \n",
    "    doc = getattr(row, \"doc\")\n",
    "    prediction = llm_chain_generation.predict(\n",
    "        question=question,\n",
    "        context=doc\n",
    "    )    \n",
    "    payload = json.dumps(\n",
    "        {\n",
    "            \"inputs\": [\n",
    "                {\"text\": answer, \"text_pair\": prediction},\n",
    "            ]\n",
    "        }\n",
    "    )\n",
    "    \n",
    "    response = runtime_client.invoke_endpoint(\n",
    "        EndpointName=endpoint_name,\n",
    "        ContentType=\"application/json\",\n",
    "        Accept=deserializer,\n",
    "        Body=payload\n",
    "    )\n",
    "    ## deserialization\n",
    "    out = json.loads(response['Body'].read().decode()) ## for json\n",
    "    \n",
    "    eval_result = evaluator.evaluate_strings(\n",
    "        input=question,\n",
    "        prediction=prediction,\n",
    "        reference=answer,\n",
    "    )\n",
    "    \n",
    "    print (colored(\"Question: \", \"red\"), colored(question, \"red\"))\n",
    "    print (colored(\"GroundTruth: \", \"green\"), colored(answer, \"green\"))\n",
    "    print (colored(\"Prediction: \", \"blue\"), colored(prediction, \"blue\"))\n",
    "    print (f'ReRanker similarity: {out[0][\"score\"]}')\n",
    "    print (f'Langchain correctness: {eval_result[\"score\"]}')"
   ]
  },
  {
   "cell_type": "code",
   "execution_count": null,
   "id": "7ace3eaa-044e-4720-8b0c-c82b403ba3b0",
   "metadata": {},
   "outputs": [],
   "source": []
  },
  {
   "cell_type": "markdown",
   "id": "45b4612e-a9a6-45ba-bfd6-55a4af19ea11",
   "metadata": {},
   "source": [
    "### "
   ]
  },
  {
   "cell_type": "code",
   "execution_count": null,
   "id": "ed441a49-e69b-494c-b7c4-01efdda19d21",
   "metadata": {},
   "outputs": [],
   "source": []
  },
  {
   "cell_type": "code",
   "execution_count": null,
   "id": "4048d8c5-9370-4bec-8a1d-310b0314ace2",
   "metadata": {},
   "outputs": [],
   "source": []
  },
  {
   "cell_type": "code",
   "execution_count": null,
   "id": "47c38f6a-3de8-4eff-a4a0-3651b5d90518",
   "metadata": {
    "tags": []
   },
   "outputs": [],
   "source": []
  },
  {
   "cell_type": "code",
   "execution_count": null,
   "id": "ef3d7e99-0869-4ad0-9ce2-9a850662ba14",
   "metadata": {
    "tags": []
   },
   "outputs": [],
   "source": []
  }
 ],
 "metadata": {
  "kernelspec": {
   "display_name": "conda_python3",
   "language": "python",
   "name": "conda_python3"
  },
  "language_info": {
   "codemirror_mode": {
    "name": "ipython",
    "version": 3
   },
   "file_extension": ".py",
   "mimetype": "text/x-python",
   "name": "python",
   "nbconvert_exporter": "python",
   "pygments_lexer": "ipython3",
   "version": "3.10.12"
  }
 },
 "nbformat": 4,
 "nbformat_minor": 5
}
