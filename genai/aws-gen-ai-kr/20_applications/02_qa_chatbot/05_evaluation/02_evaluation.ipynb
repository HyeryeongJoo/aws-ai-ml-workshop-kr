{
 "cells": [
  {
   "cell_type": "markdown",
   "id": "b3549227-a8fc-473d-af32-6bf3aee353b2",
   "metadata": {},
   "source": [
    "# Evaluation\n",
    "- For retriever\n",
    "- For generator"
   ]
  },
  {
   "cell_type": "markdown",
   "id": "bd731477-d5aa-4f55-878d-9d38a7e37019",
   "metadata": {},
   "source": [
    "## Setting\n",
    " - Auto Reload\n",
    " - path for utils"
   ]
  },
  {
   "cell_type": "code",
   "execution_count": 48,
   "id": "e72acb41-2495-4835-8e8b-3e5bb5f703b4",
   "metadata": {
    "tags": []
   },
   "outputs": [
    {
     "name": "stdout",
     "output_type": "stream",
     "text": [
      "The autoreload extension is already loaded. To reload it, use:\n",
      "  %reload_ext autoreload\n"
     ]
    }
   ],
   "source": [
    "%load_ext autoreload\n",
    "%autoreload 2"
   ]
  },
  {
   "cell_type": "code",
   "execution_count": 49,
   "id": "bd4c2205-9b56-4ac9-977d-e00a00daab38",
   "metadata": {
    "tags": []
   },
   "outputs": [],
   "source": [
    "import sys, os\n",
    "module_path = \"../../..\"\n",
    "sys.path.append(os.path.abspath(module_path))"
   ]
  },
  {
   "cell_type": "markdown",
   "id": "01670eb4-8f19-497d-837e-d9788e0a05f3",
   "metadata": {},
   "source": [
    "## 1. Bedrock Client 생성"
   ]
  },
  {
   "cell_type": "code",
   "execution_count": 50,
   "id": "1f9dcbdc-0667-4bff-afcf-0c4b5ace273b",
   "metadata": {
    "tags": []
   },
   "outputs": [],
   "source": [
    "import json\n",
    "import boto3\n",
    "from pprint import pprint\n",
    "from termcolor import colored\n",
    "from utils import bedrock, print_ww\n",
    "from utils.bedrock import bedrock_info"
   ]
  },
  {
   "cell_type": "markdown",
   "id": "259021cc-1d69-458e-879c-80076fc57c64",
   "metadata": {},
   "source": [
    "### ---- ⚠️ Un-comment and edit the below lines as needed for your AWS setup ⚠️ ----\n",
    "- os.environ[\"AWS_DEFAULT_REGION\"] = \"<REGION_NAME>\"  # E.g. \"us-east-1\"\n",
    "- os.environ[\"AWS_PROFILE\"] = \"<YOUR_PROFILE>\"\n",
    "- os.environ[\"BEDROCK_ASSUME_ROLE\"] = \"<YOUR_ROLE_ARN>\"  # E.g. \"arn:aws:...\"\n",
    "- os.environ[\"BEDROCK_ENDPOINT_URL\"] = \"<YOUR_ENDPOINT_URL>\"  # E.g. \"https://...\""
   ]
  },
  {
   "cell_type": "code",
   "execution_count": 51,
   "id": "9fde1bf1-d608-46ef-969e-40fe49b77ec5",
   "metadata": {
    "tags": []
   },
   "outputs": [
    {
     "name": "stdout",
     "output_type": "stream",
     "text": [
      "Create new client\n",
      "  Using region: None\n",
      "  Using profile: None\n",
      "boto3 Bedrock client successfully created!\n",
      "bedrock-runtime(https://bedrock-runtime.us-east-1.amazonaws.com)\n",
      "\u001b[32m\n",
      "== FM lists ==\u001b[0m\n",
      "{'Claude-Instant-V1': 'anthropic.claude-instant-v1',\n",
      " 'Claude-V1': 'anthropic.claude-v1',\n",
      " 'Claude-V2': 'anthropic.claude-v2',\n",
      " 'Cohere-Embeddings-En': 'cohere.embed-english-v3',\n",
      " 'Cohere-Embeddings-Multilingual': 'cohere.embed-multilingual-v3',\n",
      " 'Command': 'cohere.command-text-v14',\n",
      " 'Command-Light': 'cohere.command-light-text-v14',\n",
      " 'Jurassic-2-Mid': 'ai21.j2-mid-v1',\n",
      " 'Jurassic-2-Ultra': 'ai21.j2-ultra-v1',\n",
      " 'Llama2-13b-Chat': 'meta.llama2-13b-chat-v1',\n",
      " 'Titan-Embeddings-G1': 'amazon.titan-embed-text-v1',\n",
      " 'Titan-Text-G1': 'amazon.titan-text-express-v1',\n",
      " 'Titan-Text-G1-Light': 'amazon.titan-text-lite-v1'}\n"
     ]
    }
   ],
   "source": [
    "boto3_bedrock = bedrock.get_bedrock_client(\n",
    "    assumed_role=os.environ.get(\"BEDROCK_ASSUME_ROLE\", None),\n",
    "    endpoint_url=os.environ.get(\"BEDROCK_ENDPOINT_URL\", None),\n",
    "    region=os.environ.get(\"AWS_DEFAULT_REGION\", None),\n",
    ")\n",
    "\n",
    "aws_region = os.environ.get(\"AWS_DEFAULT_REGION\", None)\n",
    "print (colored(\"\\n== FM lists ==\", \"green\"))\n",
    "pprint (bedrock_info.get_list_fm_models())"
   ]
  },
  {
   "cell_type": "markdown",
   "id": "100a9b99-f66d-4447-805d-c29ee9f88c4f",
   "metadata": {},
   "source": [
    "## 2. Titan Embedding 및 LLM 인 Claude-v2 모델 로딩"
   ]
  },
  {
   "cell_type": "markdown",
   "id": "c84c0aea-2d43-493a-9538-648e5a453220",
   "metadata": {},
   "source": [
    "### LLM 로딩 (Claude-v2)"
   ]
  },
  {
   "cell_type": "code",
   "execution_count": 52,
   "id": "32924f36-0b17-4792-b382-92867c566e50",
   "metadata": {
    "tags": []
   },
   "outputs": [],
   "source": [
    "from langchain.llms.bedrock import Bedrock\n",
    "from langchain.callbacks.streaming_stdout import StreamingStdOutCallbackHandler"
   ]
  },
  {
   "cell_type": "code",
   "execution_count": 53,
   "id": "6fc13fa9-0452-4fbe-b07b-a54f1833655d",
   "metadata": {
    "tags": []
   },
   "outputs": [],
   "source": [
    "llm_text = Bedrock(\n",
    "    model_id=bedrock_info.get_model_id(model_name=\"Claude-V2\"),\n",
    "    client=boto3_bedrock,\n",
    "    model_kwargs={\n",
    "        \"max_tokens_to_sample\": 512\n",
    "    },\n",
    "    streaming=False,\n",
    "    callbacks=[StreamingStdOutCallbackHandler()]\n",
    ")"
   ]
  },
  {
   "cell_type": "markdown",
   "id": "0ac056c9-e2ad-496e-b38a-d739724202a4",
   "metadata": {},
   "source": [
    "### Embedding 모델 선택"
   ]
  },
  {
   "cell_type": "code",
   "execution_count": 54,
   "id": "061dcf18-4681-4f16-bfa3-c76d717f307f",
   "metadata": {
    "tags": []
   },
   "outputs": [],
   "source": [
    "from utils.rag import KoSimCSERobertaContentHandler, SagemakerEndpointEmbeddingsJumpStart"
   ]
  },
  {
   "cell_type": "code",
   "execution_count": 69,
   "id": "d85536e9-3416-4f7a-96a4-c539a6a5596f",
   "metadata": {
    "tags": []
   },
   "outputs": [],
   "source": [
    "def get_embedding_model(is_bedrock_embeddings, is_KoSimCSERobert, aws_region, endpont_name=None):\n",
    "\n",
    "    if is_bedrock_embeddings:\n",
    "        # We will be using the Titan Embeddings Model to generate our Embeddings.\n",
    "        from langchain.embeddings import BedrockEmbeddings\n",
    "        llm_emb = BedrockEmbeddings(\n",
    "            client=boto3_bedrock,\n",
    "            model_id=bedrock_info.get_model_id(\n",
    "                model_name=\"Titan-Embeddings-G1\"\n",
    "                #model_name=\"cohere.embed-english-v3\"\n",
    "                \n",
    "            )\n",
    "        )\n",
    "        print(\"Bedrock Embeddings Model Loaded\")\n",
    "\n",
    "    elif is_KoSimCSERobert:\n",
    "        LLMEmbHandler = KoSimCSERobertaContentHandler()\n",
    "        endpoint_name_emb = endpont_name\n",
    "        llm_emb = SagemakerEndpointEmbeddingsJumpStart(\n",
    "            endpoint_name=endpoint_name_emb,\n",
    "            region_name=aws_region,\n",
    "            content_handler=LLMEmbHandler,\n",
    "        )\n",
    "        print(\"KoSimCSERobert Embeddings Model Loaded\")\n",
    "    else:\n",
    "        llm_emb = None\n",
    "        print(\"No Embedding Model Selected\")\n",
    "\n",
    "    return llm_emb"
   ]
  },
  {
   "cell_type": "markdown",
   "id": "83000f64-5855-45ee-b736-eb96e9ff0739",
   "metadata": {},
   "source": [
    "#### [중요] is_KoSimCSERobert == True 일시에 endpoint_name 을 꼭 넣어 주세요."
   ]
  },
  {
   "cell_type": "code",
   "execution_count": 70,
   "id": "dbbec6da-798a-419b-9e4e-b1cc417cfbfa",
   "metadata": {
    "tags": []
   },
   "outputs": [
    {
     "name": "stdout",
     "output_type": "stream",
     "text": [
      "Bedrock Embeddings Model Loaded\n"
     ]
    }
   ],
   "source": [
    "is_bedrock_embeddings = True\n",
    "is_KoSimCSERobert = False\n",
    "aws_region = os.environ.get(\"AWS_DEFAULT_REGION\", None)\n",
    "\n",
    "##############################\n",
    "# Parameters for is_KoSimCSERobert\n",
    "##############################\n",
    "if is_KoSimCSERobert: endpont_name = \"<endpoint-name>\"\n",
    "else: endpont_name = None\n",
    "##############################\n",
    "\n",
    "llm_emb = get_embedding_model(is_bedrock_embeddings, is_KoSimCSERobert, aws_region, endpont_name)   "
   ]
  },
  {
   "cell_type": "markdown",
   "id": "b69eff24-6ac7-4500-b5eb-9039fbe38c9f",
   "metadata": {},
   "source": [
    "## 3. Depoly ReRanker model (if needed)"
   ]
  },
  {
   "cell_type": "code",
   "execution_count": 71,
   "id": "f364b91e-b186-4920-aeca-857a34665a11",
   "metadata": {
    "tags": []
   },
   "outputs": [],
   "source": [
    "import json\n",
    "import sagemaker\n",
    "from sagemaker.huggingface import HuggingFaceModel"
   ]
  },
  {
   "cell_type": "code",
   "execution_count": 72,
   "id": "1d32b1f5-289b-4ba8-baa9-765501ef5b0e",
   "metadata": {
    "tags": []
   },
   "outputs": [],
   "source": [
    "depoly = False"
   ]
  },
  {
   "cell_type": "code",
   "execution_count": 73,
   "id": "9e73ea11-7dea-41b2-98fb-85de4e2851db",
   "metadata": {
    "tags": []
   },
   "outputs": [],
   "source": [
    "if depoly:\n",
    "\n",
    "    try:\n",
    "        role = sagemaker.get_execution_role()\n",
    "    except ValueError:\n",
    "        iam = boto3.client('iam')\n",
    "        role = iam.get_role(RoleName='sagemaker_execution_role')['Role']['Arn']\n",
    "\n",
    "    # Hub Model configuration. https://huggingface.co/models\n",
    "    hub = {\n",
    "        'HF_MODEL_ID':'BAAI/bge-reranker-large',\n",
    "        'HF_TASK':'text-classification'\n",
    "    }\n",
    "\n",
    "    # create Hugging Face Model Class\n",
    "    huggingface_model = HuggingFaceModel(\n",
    "        transformers_version='4.26.0',\n",
    "        pytorch_version='1.13.1',\n",
    "        py_version='py39',\n",
    "        env=hub,\n",
    "        role=role, \n",
    "    )\n",
    "\n",
    "    # deploy model to SageMaker Inference\n",
    "    predictor = huggingface_model.deploy(\n",
    "        initial_instance_count=1, # number of instances\n",
    "        instance_type='ml.g5.xlarge' # instance type\n",
    "    )\n",
    "\n",
    "    print(f'Accept: {predictor.accept}')\n",
    "    print(f'ContentType: {predictor.content_type}')\n",
    "    print(f'Endpoint: {predictor.endpoint}')"
   ]
  },
  {
   "cell_type": "markdown",
   "id": "a953ea43-3337-4300-8833-ec4b38840822",
   "metadata": {},
   "source": [
    "### Reranker"
   ]
  },
  {
   "cell_type": "code",
   "execution_count": 74,
   "id": "f0f90b69-27bb-412b-ba0a-2e2d768e92a0",
   "metadata": {
    "tags": []
   },
   "outputs": [],
   "source": [
    "#endpoint_name = \"huggingface-pytorch-inference-2023-11-15-04-37-45-120\" # ml.m5.2xlarge\n",
    "endpoint_name = \"huggingface-pytorch-inference-2023-11-15-07-53-21-605\" # ml.g5.xlarge"
   ]
  },
  {
   "cell_type": "code",
   "execution_count": 75,
   "id": "cd07db04-6140-4516-a279-bfc1a14cee7f",
   "metadata": {
    "tags": []
   },
   "outputs": [
    {
     "name": "stdout",
     "output_type": "stream",
     "text": [
      "runtime_client: <botocore.client.SageMakerRuntime object at 0x7f4f268d8250>\n"
     ]
    }
   ],
   "source": [
    "runtime_client = boto3.Session().client('sagemaker-runtime')\n",
    "print (f'runtime_client: {runtime_client}')"
   ]
  },
  {
   "cell_type": "markdown",
   "id": "a14dee0e-7a7d-48c3-94ff-90db1cf89daf",
   "metadata": {},
   "source": [
    "## 4. LangChainmOpenSearch VectorStore 정의\n",
    "### 선수 조건\n",
    "- 01_preprocess_docs/02_load_docs_opensearch.ipynb를 통해서 OpenSearch Index 가 생성이 되어 있어야 합니다.\n",
    "#### [중요] 아래에 aws parameter store 에 아래 인증정보가 먼저 입력되어 있어야 합니다.\n",
    "- 01_preprocess_docs/01_parameter_store_example.ipynb 참고"
   ]
  },
  {
   "cell_type": "code",
   "execution_count": 76,
   "id": "d85af7d2-6b71-4125-8ba4-fa15406f5c3f",
   "metadata": {
    "tags": []
   },
   "outputs": [],
   "source": [
    "from utils.proc_docs import get_parameter"
   ]
  },
  {
   "cell_type": "code",
   "execution_count": 77,
   "id": "8b29f46c-154b-41fe-ab1a-d34af0a73b39",
   "metadata": {
    "tags": []
   },
   "outputs": [],
   "source": [
    "ssm = boto3.client(\"ssm\", \"us-east-1\")\n",
    "\n",
    "opensearch_domain_endpoint = get_parameter(\n",
    "    boto3_clinet = ssm,\n",
    "    parameter_name = 'knox_opensearch_domain_endpoint',\n",
    ")\n",
    "\n",
    "opensearch_user_id = get_parameter(\n",
    "    boto3_clinet = ssm,\n",
    "    parameter_name = 'knox_opensearch_userid',\n",
    ")\n",
    "\n",
    "opensearch_user_password = get_parameter(\n",
    "    boto3_clinet = ssm,\n",
    "    parameter_name = 'knox_opensearch_password',\n",
    ")\n",
    "\n",
    "http_auth = (opensearch_user_id, opensearch_user_password) # Master username, Master password"
   ]
  },
  {
   "cell_type": "markdown",
   "id": "354a0a15-e66c-4fd9-a555-13a15c80f327",
   "metadata": {},
   "source": [
    "### Index 이름 셋팅\n",
    "- 이전 노트북 01_preprocess_docs/02_load_docs_opensearch.ipynb를 통해서 생성된 OpenSearch Index name 입력"
   ]
  },
  {
   "cell_type": "code",
   "execution_count": 78,
   "id": "2bde847e-429f-47fa-87bf-36441a92c401",
   "metadata": {
    "tags": []
   },
   "outputs": [],
   "source": [
    "index_name = \"genai-poc-knox-en-eval-sample-0.02-1024c-256o-v10\""
   ]
  },
  {
   "cell_type": "markdown",
   "id": "1b5ef81d-27b2-4d64-9e57-0324fc627a2c",
   "metadata": {},
   "source": [
    "### OpenSearch Client 생성"
   ]
  },
  {
   "cell_type": "code",
   "execution_count": 79,
   "id": "a81604ea-e7a0-4256-931e-849fca7be994",
   "metadata": {
    "tags": []
   },
   "outputs": [],
   "source": [
    "from utils.opensearch import opensearch_utils"
   ]
  },
  {
   "cell_type": "code",
   "execution_count": 80,
   "id": "b46578e5-6113-42d4-9e2c-e4446bb4cfca",
   "metadata": {
    "tags": []
   },
   "outputs": [],
   "source": [
    "os_client = opensearch_utils.create_aws_opensearch_client(\n",
    "    aws_region,\n",
    "    opensearch_domain_endpoint,\n",
    "    http_auth\n",
    ")"
   ]
  },
  {
   "cell_type": "markdown",
   "id": "1fa855f1-f8d4-4218-ab77-84d4f5f0238e",
   "metadata": {},
   "source": [
    "### LangChain OpenSearch VectorStore 생성"
   ]
  },
  {
   "cell_type": "code",
   "execution_count": 81,
   "id": "b86443bb-ff05-4bac-a8cf-d708552fbbfb",
   "metadata": {
    "tags": []
   },
   "outputs": [],
   "source": [
    "from langchain.vectorstores import OpenSearchVectorSearch"
   ]
  },
  {
   "cell_type": "code",
   "execution_count": 82,
   "id": "51568769-47a2-42cd-90dd-02469094619b",
   "metadata": {
    "tags": []
   },
   "outputs": [
    {
     "data": {
      "text/plain": [
       "<langchain.vectorstores.opensearch_vector_search.OpenSearchVectorSearch at 0x7f4e42d3cee0>"
      ]
     },
     "execution_count": 82,
     "metadata": {},
     "output_type": "execute_result"
    }
   ],
   "source": [
    "vector_db = OpenSearchVectorSearch(\n",
    "    index_name=index_name,\n",
    "    opensearch_url=opensearch_domain_endpoint,\n",
    "    embedding_function=llm_emb,\n",
    "    http_auth=http_auth, # http_auth\n",
    "    is_aoss =False,\n",
    "    engine=\"faiss\",\n",
    "    space_type=\"l2\"\n",
    ")\n",
    "vector_db"
   ]
  },
  {
   "cell_type": "markdown",
   "id": "d44452ad-1945-4a1a-a18a-fd1f899814bb",
   "metadata": {},
   "source": [
    "## 5. Retriever 정의"
   ]
  },
  {
   "cell_type": "code",
   "execution_count": 83,
   "id": "409937f9-e4f3-4f2f-90a8-9b13641d3700",
   "metadata": {
    "tags": []
   },
   "outputs": [],
   "source": [
    "from utils.rag import OpenSearchHybridSearchRetriever"
   ]
  },
  {
   "cell_type": "code",
   "execution_count": 86,
   "id": "c1606bcd-502c-461b-9458-5e400e97ed92",
   "metadata": {
    "tags": []
   },
   "outputs": [],
   "source": [
    "opensearch_hybrid_retriever = OpenSearchHybridSearchRetriever(\n",
    "    os_client=os_client,\n",
    "    vector_db=vector_db,\n",
    "    index_name=index_name,\n",
    "    llm_text=llm_text, # used in rag_fusion, hyde and reranker\n",
    "    llm_emb=llm_emb,\n",
    "\n",
    "    # option for lexical\n",
    "    minimum_should_match=0,\n",
    "    filter=[],\n",
    "\n",
    "    # option for rank fusion\n",
    "    fusion_algorithm=\"RRF\", # [\"RRF\", \"simple_weighted\"], rank fusion 방식 정의\n",
    "    ensemble_weights=[.5, .5], # [for lexical, for semantic], Lexical, Semantic search 결과에 대한 최종 반영 비율 정의\n",
    "    reranker=True, # enable reranker with reranker model\n",
    "    reranker_endpoint_name=endpoint_name, # endpoint name for reranking model\n",
    "    #rag_fusion=False, # enable rag_fusion\n",
    "    #query_augmentation_size=3, # query_augmentation_size in rag_fusion\n",
    "\n",
    "    # option for async search\n",
    "    async_mode=True,\n",
    "\n",
    "    # option for output\n",
    "    k=5, # 최종 Document 수 정의\n",
    "    verbose=False,\n",
    ")"
   ]
  },
  {
   "cell_type": "code",
   "execution_count": 87,
   "id": "7333a947-d0d0-41a6-8dcc-adb3d58c2e8e",
   "metadata": {
    "tags": []
   },
   "outputs": [
    {
     "data": {
      "text/plain": [
       "[Document(page_content=\"Knox Capture. Knox Capture is an Android solution that lets enterprise IT admins transform their organization's Samsung Galaxy smartphones and tablets into powerful barcode scanners that can read, process, and output barcode information to other applications, all without requiring additional hardware or writing a single line of code. Learn more Supported devices and countries Knox Capture is only available for select Android devices, and in certain countries. For the most up-to-date list of devices that Knox Capture supports, see Devices Secured by Knox. For a list of countries that Knox Capture currently supports, see Supported locations. #Unsupported devices The following Samsung 32-bit devices are not supported by Knox Capture: A series: A01, A02s, A03Core, A04s, A11, A13, A13-5G, F serieis: F02s, F13, M series: M02s, M01, M11, M13, M13-5G What's new with Knox Capture Stay up-to-date with the latest Knox Capture product information and content updates. #Latest release notes , Knox Capture v1\", metadata={'source': 'all_processed_data.json', 'seq_num': 5, 'title': 'Knox Capture', 'url': 'https://docs.samsungknox.com/admin/knox-capture', 'project': 'KCAP', 'last_updated': '2023-10-16', 'id': '05cef790-bb2e-4450-b65c-c21642585406'}),\n",
       " Document(page_content=\"Videos. This section contains product and how-to videos related to Knox Capture. Getting started with Samsung Knox Capture In this video, we'll show you how to use Samsung Knox Capture to transform your mobile devices into powerful barcode scanners that can read, process, and output barcode data into other applications. Samsung Knox Capture: Enterprise-grade mobile scanning solution in Galaxy device This product intro video shows you how easy it is to transform rugged Samsung devices like the Galaxy XCover Pro into enterprise-grade barcode scanners.\", metadata={'source': 'all_processed_data.json', 'seq_num': 2, 'title': 'Videos', 'url': 'https://docs.samsungknox.com/admin/knox-capture/how-to-videos', 'project': 'KCAP', 'last_updated': '2023-07-26', 'id': '238ca909-e4d2-47d4-aea3-6578a66f7760'}),\n",
       " Document(page_content='Knox Capture v1.6 release notes. Update Scandit library to version 6.12 Knox Capture v1.6 includes updates to the Scandit library, which improves on 1D code highlighting accuracy whenever glare is present on the barcode. Knox capture usage counter before license activation This release introduces a new scanner usage counter for customers using the free version of Knox Capture. This counter lets users view the number of remaining scans on the license page, and notifies them when there are 10 or fewer scans remaining. Back to release notes', metadata={'source': 'all_processed_data.json', 'seq_num': 33, 'title': 'Knox Capture v1.6 release notes', 'url': 'https://docs.samsungknox.com/admin/knox-capture/release-notes/v1-6', 'project': 'KCAP', 'last_updated': '2023-07-26', 'id': '9ea411b1-aa6b-486f-bd18-80223e024b12'}),\n",
       " Document(page_content=\"Scanning profiles. Knox Capture acts as a wedge by translating barcode data into keystrokes that can be sent to a business application. But how does Knox Capture know what barcode types to scan, how to interpret scanned data, and which business applications to pass the data to? For Knox Capture, the *Scanning profile* defines the app's core behavior. A Scanning Profile is a configuration file that gets created or modified by an IT admin using the Knox Capture application. The profile defines how Knox Capture performs a barcode scan, and primarily consists of the following parameters: 1. Apps and activities - define which applications that can launch the Knox Capture scanner. 2. Scanner engine settings - specifying the barcode technologies (QR, Code 128, UPCA, etc.), scanning methods (single barcode, multi barcode), and camera behavior (enable flash, allow camera zoom). 3\", metadata={'source': 'all_processed_data.json', 'seq_num': 13, 'title': 'Scanning profiles', 'url': 'https://docs.samsungknox.com/admin/knox-capture/how-to-guides/create-scanning-profiles', 'project': 'KCAP', 'last_updated': '2023-07-26', 'id': '68344300-0b54-46c4-82be-57ae3b37cc44'}),\n",
       " Document(page_content=\"Troubleshoot. Access support from the app To access support within , tap the more actions menu icon to the right of the Profiles list label. Then tap the Support option to launch the Support page. The Support page displays a list of links to FAQs, guides, tutorials, and release notes. Tap a link to open the associated page in the device's browser app. Open a support ticket Using either a trial or paid license, open a support ticket in the Knox Admin Portal. When creating a support ticket, please provide logs to help resolve your issues. To retrieve an app log: 1. Expand the more actions menu in Managed mode on the home screen and tap Support. 2. Tap E-mail app log to Admin to launch the device's default email app. The email app opens a new message with the compressed log file attached. 3. Send the email to the enterprise IT admin. 4. Open a support ticket in the Knox Admin Portal.\", metadata={'source': 'all_processed_data.json', 'seq_num': 4, 'title': 'Troubleshoot', 'url': 'https://docs.samsungknox.com/admin/knox-capture/troubleshoot', 'project': 'KCAP', 'last_updated': '2023-07-26', 'id': 'fdecb30a-6e39-4421-bc38-35d91b772ab2'})]"
      ]
     },
     "execution_count": 87,
     "metadata": {},
     "output_type": "execute_result"
    }
   ],
   "source": [
    "search_hybrid_result = opensearch_hybrid_retriever.get_relevant_documents(\"knox\")\n",
    "search_hybrid_result"
   ]
  },
  {
   "cell_type": "markdown",
   "id": "05c569db-1a1d-4bbf-a713-28cf6b745982",
   "metadata": {},
   "source": [
    "## 6. RAG chain 정의"
   ]
  },
  {
   "cell_type": "code",
   "execution_count": 88,
   "id": "da9df137-076d-4230-865e-4f9ed9651062",
   "metadata": {
    "tags": []
   },
   "outputs": [],
   "source": [
    "from langchain.chains import RetrievalQA\n",
    "from langchain.prompts import PromptTemplate"
   ]
  },
  {
   "cell_type": "markdown",
   "id": "b95251a1-6dd8-4794-86d9-65b855ed27cb",
   "metadata": {},
   "source": [
    "### Prompting\n",
    "- [TIP] Prompt의 instruction의 경우 한글보다 영어로 했을 때 더 좋은 결과를 얻을 수 있습니다."
   ]
  },
  {
   "cell_type": "code",
   "execution_count": 89,
   "id": "5e05b8bd-ccb0-4f49-9e5c-0869a9afa11d",
   "metadata": {
    "tags": []
   },
   "outputs": [],
   "source": [
    "prompt_template = \"\"\"\n",
    "\\n\\nHuman: Here is the context, inside <context></context> XML tags.\n",
    "\n",
    "<context>\n",
    "{context}\n",
    "</context>\n",
    "\n",
    "Only using the context as above, answer the following question with the rules as below:\n",
    "    - Don't insert XML tag such as <context> and </context> when answering.\n",
    "    - Write as much as you can\n",
    "    - Be courteous and polite\n",
    "    - Only answer the question if you can find the answer in the context with certainty.\n",
    "\n",
    "Question:\n",
    "{question}\n",
    "\n",
    "If the answer is not in the context, just say \"Could not find answer in given contexts.\"\n",
    "\n",
    "\\n\\nAssistant:\"\"\"\n",
    "\n",
    "PROMPT = PromptTemplate(\n",
    "    template=prompt_template, input_variables=[\"context\", \"question\"]\n",
    ")"
   ]
  },
  {
   "cell_type": "markdown",
   "id": "2a758bc7-87a1-44fb-9b36-e17e987b1513",
   "metadata": {},
   "source": [
    "### Update Search Params (Optional)"
   ]
  },
  {
   "cell_type": "code",
   "execution_count": 107,
   "id": "31c68b6f-1606-455d-bd37-c467cf240b7c",
   "metadata": {
    "tags": []
   },
   "outputs": [],
   "source": [
    "opensearch_hybrid_retriever.update_search_params(\n",
    "    k=5,\n",
    "    minimum_should_match=0,\n",
    "    filter=[],\n",
    "    reranker=False,\n",
    "    reranker_endpoint_name=endpoint_name,\n",
    "    #rag_fusion=True, # enable rag_fusion\n",
    "    #query_augmentation_size=2, # query_augmentation_size in rag_fusion\n",
    "    #hyde=True, # enable hyde\n",
    "    #hyde_query=[\"web_search\"], # query type in hyde \n",
    "    llm_text=llm_text, # used in rag_fusion, hyde and reranker\n",
    "    verbose=False\n",
    ")"
   ]
  },
  {
   "cell_type": "code",
   "execution_count": 108,
   "id": "2b2256fe-9b42-4570-9c05-d395405a534b",
   "metadata": {
    "tags": []
   },
   "outputs": [],
   "source": [
    "qa_chain = RetrievalQA.from_chain_type(\n",
    "    llm=llm_text,\n",
    "    chain_type=\"stuff\",\n",
    "    retriever=opensearch_hybrid_retriever,\n",
    "    return_source_documents=True,\n",
    "    chain_type_kwargs={\n",
    "        \"prompt\": PROMPT,\n",
    "        \"verbose\": False,\n",
    "    },\n",
    "    verbose=False\n",
    ")"
   ]
  },
  {
   "cell_type": "code",
   "execution_count": 109,
   "id": "ae0b6569-7c98-49e3-a739-e7dd16d9942e",
   "metadata": {
    "tags": []
   },
   "outputs": [
    {
     "data": {
      "text/plain": [
       "{'query': 'What setting would send ASCII control characters 1-31 as both strings and key events?',\n",
       " 'result': ' Send ASCII Control characters as Both String and Key event',\n",
       " 'source_documents': [Document(page_content='. None Send ASCII Control characters as Sets the output format for ASCII characters 1-31 Key event &mdash; Sends ASCII codes 1 through 31 as key events String &mdash; Sends ASCII codes 1 through 31 as strings. Both String and Key event &mdash; Sends ASCII control characters in both string and key event formats. None &mdash; Sends no output for ASCII control characters. String Send ASCII Printable characters as Sets the output format for ASCII characters 32-126 Key event &mdash; Sends ASCII characters 32-126 as key events. This is useful when a text input field, like a password input, requires key events for validation and does not accept pasted strings. String &mdash; Sends ASCII printable characters as strings. Both String and Key event &mdash; Sends ASCII printable characters as both strings and key events. None &mdash; Sends no output for ASCII printable characters. String Key event delay Sets the delay in milliseconds that Knox Capture will wait before sending a key event like Tab', metadata={'source': 'all_processed_data.json', 'seq_num': 9, 'title': 'Configure keystroke output and data formatting', 'url': 'https://docs.samsungknox.com/admin/knox-capture/how-to-guides/configure-keystroke-output-and-data-formatting', 'project': 'KCAP', 'last_updated': '2023-07-26', 'id': 'fd65720b-cbe0-4da4-adcb-fd8e502bbc9e'}),\n",
       "  Document(page_content='. Both String and Key event &mdash; Sends Enter as ASCII Line Feed 0x0A and key event. None &mdash; Sends no output for Enter. None Send Tab character as Sets the output format for all existing and appended Tabs Key event &mdash; Sends Tab as a key event. String &mdash; Sends Tab as ASCII Horizontal Tab 0x09. Both String and Key event &mdash; Sends Tab as ASCII Horizontal Tab 0x09 and key event. None &mdash; Sends no output for Tab. None Send Carriage Return character as Sets the output format for all Carriage Returns Key event &mdash; Sends Carriage Return as a key event. String &mdash; Sends Carriage Return as ASCII Carriage Return 0x0D. Both String and Key event &mdash; Sends Carriage Return as ASCII Carriage Return 0x0D and key event. None &mdash; Sends no output for Carriage Return. None Send ASCII Control characters as Sets the output format for ASCII characters 1-31 Key event &mdash; Sends ASCII codes 1 through 31 as key events String &mdash; Sends ASCII codes 1 through 31 as strings', metadata={'source': 'all_processed_data.json', 'seq_num': 9, 'title': 'Configure keystroke output and data formatting', 'url': 'https://docs.samsungknox.com/admin/knox-capture/how-to-guides/configure-keystroke-output-and-data-formatting', 'project': 'KCAP', 'last_updated': '2023-07-26', 'id': 'b36d54a6-f7d8-41b5-a56d-7b785b0ddb7a'}),\n",
       "  Document(page_content='. For example, \"abc\" will appear as \"abc\" in the test overlay. Non-printable ASCII control characters get embedded in curly brackets. For example, a Tab control character will appear as \"\" in the test overlay if sent as a string. ##Key event Printable and non-printable characters appear in their character representation embedded in angle brackets when sent as key events. For example, if sent as key events, the data `abHT` appears as `` in the test overlay. Example The following example applies test mode notation to scanned barcode data based on a small set of keystroke output rules. Barcode input: `abc\\\\n123\\\\teh` This input uses escape sequences for control characters. `\\\\n` represents Enter and `\\\\t` represents Tab. Keystroke output rules: Send Enter as String, Send Tab as Key event, Send ASCII Printable characters as String Test mode notation: Scanned data: `abc123eh`, Output : `abc123 eh`', metadata={'source': 'all_processed_data.json', 'seq_num': 19, 'title': 'Use test mode', 'url': 'https://docs.samsungknox.com/admin/knox-capture/how-to-guides/use-test-mode', 'project': 'KCAP', 'last_updated': '2023-07-26', 'id': 'b726fa9d-8337-4364-847a-98258e5057ae'}),\n",
       "  Document(page_content='. None &mdash; Sends no output for ASCII printable characters. String Key event delay Sets the delay in milliseconds that Knox Capture will wait before sending a key event like Tab. Key events transmit slower than string data, which can cause synchronization problems. If your barcode output is partially cut off, try increasing the key event delay to a higher value. [0, Int32 max value] 0 Basic data formatting Refer to the following basic data formatting information to create rules to add prefixes, suffixes, and append Tab or Enter characters to scanned barcode data before output. If appending a Tab or Enter key to the data output, you must also select an output option in the Send Tab as or Sent Enter as settings above. Setting , Description , Default - , - , - Prefix to data , Prepends a string of characters to the beginning of the scanned data. None Suffix to data , Appends a string of characters to the end of the scanned data', metadata={'source': 'all_processed_data.json', 'seq_num': 9, 'title': 'Configure keystroke output and data formatting', 'url': 'https://docs.samsungknox.com/admin/knox-capture/how-to-guides/configure-keystroke-output-and-data-formatting', 'project': 'KCAP', 'last_updated': '2023-07-26', 'id': '8a00ff8a-78f4-47b2-bfbf-cadd30ed0087'}),\n",
       "  Document(page_content='. #Character representation , Printable ASCII or Unicode characters are represented in their native printable format. For example, \"abc123\" appears as \"abc123\" in the test overlay. Non-printable ASCII control characters are represented with standard abbreviation. For example, a Tab control character appears as \"HT\" in the test overlay', metadata={'source': 'all_processed_data.json', 'seq_num': 19, 'title': 'Use test mode', 'url': 'https://docs.samsungknox.com/admin/knox-capture/how-to-guides/use-test-mode', 'project': 'KCAP', 'last_updated': '2023-07-26', 'id': '2b830648-ab7b-4085-afee-ccf2b4d26456'})]}"
      ]
     },
     "execution_count": 109,
     "metadata": {},
     "output_type": "execute_result"
    }
   ],
   "source": [
    "query = \"What setting would send ASCII control characters 1-31 as both strings and key events?\"\n",
    "qa_chain(query)"
   ]
  },
  {
   "cell_type": "markdown",
   "id": "fa285db7-31bf-4a82-816e-37abd5ed44af",
   "metadata": {
    "tags": []
   },
   "source": [
    "## 3.Evaluation\n",
    " - [langchain evaluator](https://python.langchain.com/docs/guides/evaluation/string/criteria_eval_chain)"
   ]
  },
  {
   "cell_type": "markdown",
   "id": "4d2fcc99-ab79-49b4-89a7-b51f3a62fc18",
   "metadata": {},
   "source": [
    "### Load ground truth"
   ]
  },
  {
   "cell_type": "code",
   "execution_count": 93,
   "id": "d3637807-9266-457e-b512-e697f951c405",
   "metadata": {
    "tags": []
   },
   "outputs": [],
   "source": [
    "import pandas as pd"
   ]
  },
  {
   "cell_type": "code",
   "execution_count": 94,
   "id": "d0403c51-23b5-4e3f-a2ec-7302d6711e4b",
   "metadata": {
    "tags": []
   },
   "outputs": [],
   "source": [
    "ground_thruth = pd.read_csv(\"eval_dataset_v10.csv\")"
   ]
  },
  {
   "cell_type": "code",
   "execution_count": 95,
   "id": "b96d03e0-cf64-4644-9578-3411883dfafa",
   "metadata": {
    "tags": []
   },
   "outputs": [],
   "source": [
    "import time\n",
    "import datetime\n",
    "from langchain.evaluation import Criteria\n",
    "from langchain.evaluation import EvaluatorType\n",
    "from langchain.evaluation import load_evaluator"
   ]
  },
  {
   "cell_type": "code",
   "execution_count": 96,
   "id": "bb3aab6f-ab32-4ea2-b1e7-43e7694f1849",
   "metadata": {
    "tags": []
   },
   "outputs": [
    {
     "data": {
      "text/plain": [
       "[<Criteria.CONCISENESS: 'conciseness'>,\n",
       " <Criteria.RELEVANCE: 'relevance'>,\n",
       " <Criteria.CORRECTNESS: 'correctness'>,\n",
       " <Criteria.COHERENCE: 'coherence'>,\n",
       " <Criteria.HARMFULNESS: 'harmfulness'>,\n",
       " <Criteria.MALICIOUSNESS: 'maliciousness'>,\n",
       " <Criteria.HELPFULNESS: 'helpfulness'>,\n",
       " <Criteria.CONTROVERSIALITY: 'controversiality'>,\n",
       " <Criteria.MISOGYNY: 'misogyny'>,\n",
       " <Criteria.CRIMINALITY: 'criminality'>,\n",
       " <Criteria.INSENSITIVITY: 'insensitivity'>,\n",
       " <Criteria.DEPTH: 'depth'>,\n",
       " <Criteria.CREATIVITY: 'creativity'>,\n",
       " <Criteria.DETAIL: 'detail'>]"
      ]
     },
     "execution_count": 96,
     "metadata": {},
     "output_type": "execute_result"
    }
   ],
   "source": [
    "list(Criteria)"
   ]
  },
  {
   "cell_type": "code",
   "execution_count": 99,
   "id": "8a680e82-980e-48d6-ae2d-e9e40535134e",
   "metadata": {
    "tags": []
   },
   "outputs": [],
   "source": [
    "evaluator = load_evaluator(\n",
    "    EvaluatorType.LABELED_CRITERIA,\n",
    "    llm=llm_text,\n",
    "    criteria=Criteria.CORRECTNESS\n",
    ")"
   ]
  },
  {
   "cell_type": "markdown",
   "id": "4d471116-d2e3-4411-979f-ba56f2ca2e7a",
   "metadata": {},
   "source": [
    "### Check prompt for evaluation"
   ]
  },
  {
   "cell_type": "code",
   "execution_count": 100,
   "id": "ab03e1d6-1209-4908-bf75-e7564a4590fa",
   "metadata": {
    "tags": []
   },
   "outputs": [
    {
     "name": "stdout",
     "output_type": "stream",
     "text": [
      "{'criteria': 'correctness: Is the submission correct, accurate, and factual?'}\n",
      "==\n",
      "You are assessing a submitted answer on a given task or input based on a set of criteria. Here is the data:\n",
      "[BEGIN DATA]\n",
      "***\n",
      "[Input]: {input}\n",
      "***\n",
      "[Submission]: {output}\n",
      "***\n",
      "[Criteria]: {criteria}\n",
      "***\n",
      "[Reference]: {reference}\n",
      "***\n",
      "[END DATA]\n",
      "Does the submission meet the Criteria? First, write out in a step by step manner your reasoning about each criterion to be sure that your conclusion is correct. Avoid simply stating the correct answers at the outset. Then print only the single character \"Y\" or \"N\" (without quotes or punctuation) on its own line corresponding to the correct answer of whether the submission meets all criteria. At the end, repeat just the letter again by itself on a new line.\n"
     ]
    }
   ],
   "source": [
    "print(evaluator.prompt.partial_variables)\n",
    "print(\"==\")\n",
    "print(evaluator.prompt.template)"
   ]
  },
  {
   "cell_type": "code",
   "execution_count": 101,
   "id": "dc03ab59-0757-43e0-8a70-7c82edaa286e",
   "metadata": {
    "tags": []
   },
   "outputs": [
    {
     "data": {
      "text/html": [
       "<div>\n",
       "<style scoped>\n",
       "    .dataframe tbody tr th:only-of-type {\n",
       "        vertical-align: middle;\n",
       "    }\n",
       "\n",
       "    .dataframe tbody tr th {\n",
       "        vertical-align: top;\n",
       "    }\n",
       "\n",
       "    .dataframe thead th {\n",
       "        text-align: right;\n",
       "    }\n",
       "</style>\n",
       "<table border=\"1\" class=\"dataframe\">\n",
       "  <thead>\n",
       "    <tr style=\"text-align: right;\">\n",
       "      <th></th>\n",
       "      <th>question</th>\n",
       "      <th>answer</th>\n",
       "      <th>doc_id</th>\n",
       "      <th>doc</th>\n",
       "    </tr>\n",
       "  </thead>\n",
       "  <tbody>\n",
       "    <tr>\n",
       "      <th>0</th>\n",
       "      <td>What are some examples of barcodes that can be...</td>\n",
       "      <td>Use the followinng barcodes to test the Knox C...</td>\n",
       "      <td>de4fb031-92be-4ddb-a5e4-274a27fd49df</td>\n",
       "      <td>AR demo barcodes. Use the following barcodes t...</td>\n",
       "    </tr>\n",
       "    <tr>\n",
       "      <th>1</th>\n",
       "      <td>How many unique barcodes are provided in the c...</td>\n",
       "      <td>Si</td>\n",
       "      <td>de4fb031-92be-4ddb-a5e4-274a27fd49df</td>\n",
       "      <td>AR demo barcodes. Use the following barcodes t...</td>\n",
       "    </tr>\n",
       "    <tr>\n",
       "      <th>2</th>\n",
       "      <td>How can you send scanned Knox Capture data to ...</td>\n",
       "      <td>Some organizations may want to send scanned Kn...</td>\n",
       "      <td>183a7781-ba75-4f07-8129-8a9bceb950ea</td>\n",
       "      <td>. Configure the output path - Some organizatio...</td>\n",
       "    </tr>\n",
       "    <tr>\n",
       "      <th>3</th>\n",
       "      <td>What Knox Capture feature introduced in versio...</td>\n",
       "      <td>Knox Capture AR</td>\n",
       "      <td>183a7781-ba75-4f07-8129-8a9bceb950ea</td>\n",
       "      <td>. Configure the output path - Some organizatio...</td>\n",
       "    </tr>\n",
       "    <tr>\n",
       "      <th>4</th>\n",
       "      <td>How do you view the current scanning configura...</td>\n",
       "      <td>To review the details of a profile, tap a prof...</td>\n",
       "      <td>5e3ddd4b-f811-4d50-baa6-4a46bf34ae51</td>\n",
       "      <td>. Tap the options button to view the scanning ...</td>\n",
       "    </tr>\n",
       "  </tbody>\n",
       "</table>\n",
       "</div>"
      ],
      "text/plain": [
       "                                            question  \\\n",
       "0  What are some examples of barcodes that can be...   \n",
       "1  How many unique barcodes are provided in the c...   \n",
       "2  How can you send scanned Knox Capture data to ...   \n",
       "3  What Knox Capture feature introduced in versio...   \n",
       "4  How do you view the current scanning configura...   \n",
       "\n",
       "                                              answer  \\\n",
       "0  Use the followinng barcodes to test the Knox C...   \n",
       "1                                                 Si   \n",
       "2  Some organizations may want to send scanned Kn...   \n",
       "3                                    Knox Capture AR   \n",
       "4  To review the details of a profile, tap a prof...   \n",
       "\n",
       "                                 doc_id  \\\n",
       "0  de4fb031-92be-4ddb-a5e4-274a27fd49df   \n",
       "1  de4fb031-92be-4ddb-a5e4-274a27fd49df   \n",
       "2  183a7781-ba75-4f07-8129-8a9bceb950ea   \n",
       "3  183a7781-ba75-4f07-8129-8a9bceb950ea   \n",
       "4  5e3ddd4b-f811-4d50-baa6-4a46bf34ae51   \n",
       "\n",
       "                                                 doc  \n",
       "0  AR demo barcodes. Use the following barcodes t...  \n",
       "1  AR demo barcodes. Use the following barcodes t...  \n",
       "2  . Configure the output path - Some organizatio...  \n",
       "3  . Configure the output path - Some organizatio...  \n",
       "4  . Tap the options button to view the scanning ...  "
      ]
     },
     "execution_count": 101,
     "metadata": {},
     "output_type": "execute_result"
    }
   ],
   "source": [
    "ground_thruth.head()"
   ]
  },
  {
   "cell_type": "code",
   "execution_count": 102,
   "id": "86542331-d9eb-4e90-8de0-4ed770f84b62",
   "metadata": {
    "tags": []
   },
   "outputs": [
    {
     "name": "stdout",
     "output_type": "stream",
     "text": [
      "0 {'source': 'all_processed_data.json', 'seq_num': 1, 'title': 'AR demo barcodes', 'url': 'https://docs.samsungknox.com/admin/knox-capture/ar-demo-barcodes', 'project': 'KCAP', 'last_updated': '2023-10-16', 'id': 'de4fb031-92be-4ddb-a5e4-274a27fd49df'}\n",
      "de4fb031-92be-4ddb-a5e4-274a27fd49df\n",
      "1 {'source': 'all_processed_data.json', 'seq_num': 20, 'title': 'AR overview', 'url': 'https://docs.samsungknox.com/admin/knox-capture/how-to-guides/ar/ar-overview', 'project': 'KCAP', 'last_updated': '2023-07-26', 'id': 'b3d1a5b3-7579-4ca5-9741-78473c333b84'}\n",
      "b3d1a5b3-7579-4ca5-9741-78473c333b84\n",
      "2 {'source': 'all_processed_data.json', 'seq_num': 20, 'title': 'AR overview', 'url': 'https://docs.samsungknox.com/admin/knox-capture/how-to-guides/ar/ar-overview', 'project': 'KCAP', 'last_updated': '2023-07-26', 'id': '1eaf2745-f69f-42ea-aff0-460bbfe53477'}\n",
      "1eaf2745-f69f-42ea-aff0-460bbfe53477\n",
      "3 {'source': 'all_processed_data.json', 'seq_num': 22, 'title': 'Demo AR', 'url': 'https://docs.samsungknox.com/admin/knox-capture/how-to-guides/ar/demo-ar', 'project': 'KCAP', 'last_updated': '2023-10-16', 'id': '42a23e8d-48ad-4293-9e71-50a116035c26'}\n",
      "42a23e8d-48ad-4293-9e71-50a116035c26\n",
      "4 {'source': 'all_processed_data.json', 'seq_num': 3, 'title': 'Overview', 'url': 'https://docs.samsungknox.com/admin/knox-capture/overview', 'project': 'KCAP', 'last_updated': '2023-07-26', 'id': '183a7781-ba75-4f07-8129-8a9bceb950ea'}\n",
      "183a7781-ba75-4f07-8129-8a9bceb950ea\n",
      "0 {'source': 'all_processed_data.json', 'seq_num': 1, 'title': 'AR demo barcodes', 'url': 'https://docs.samsungknox.com/admin/knox-capture/ar-demo-barcodes', 'project': 'KCAP', 'last_updated': '2023-10-16', 'id': 'de4fb031-92be-4ddb-a5e4-274a27fd49df'}\n",
      "de4fb031-92be-4ddb-a5e4-274a27fd49df\n",
      "1 {'source': 'all_processed_data.json', 'seq_num': 23, 'title': 'Use AR', 'url': 'https://docs.samsungknox.com/admin/knox-capture/how-to-guides/ar/use-ar', 'project': 'KCAP', 'last_updated': '2023-07-26', 'id': 'e4b7b4f4-10f2-489d-bcb7-81f65e7e003d'}\n",
      "e4b7b4f4-10f2-489d-bcb7-81f65e7e003d\n",
      "2 {'source': 'all_processed_data.json', 'seq_num': 11, 'title': 'Configure scan engine settings', 'url': 'https://docs.samsungknox.com/admin/knox-capture/how-to-guides/configure-scan-engine-settings', 'project': 'KCAP', 'last_updated': '2023-10-16', 'id': '983111c5-d2cd-471a-b474-1ea613ced26e'}\n",
      "983111c5-d2cd-471a-b474-1ea613ced26e\n",
      "3 {'source': 'all_processed_data.json', 'seq_num': 34, 'title': 'Knox Capture v1.7 release notes', 'url': 'https://docs.samsungknox.com/admin/knox-capture/release-notes/v1-7', 'project': 'KCAP', 'last_updated': '2023-07-26', 'id': '0aaf48da-d244-4773-9368-2114da69107b'}\n",
      "0aaf48da-d244-4773-9368-2114da69107b\n",
      "4 {'source': 'all_processed_data.json', 'seq_num': 20, 'title': 'AR overview', 'url': 'https://docs.samsungknox.com/admin/knox-capture/how-to-guides/ar/ar-overview', 'project': 'KCAP', 'last_updated': '2023-07-26', 'id': '245279d4-6789-4336-a7b8-2b2d75c528fd'}\n",
      "245279d4-6789-4336-a7b8-2b2d75c528fd\n",
      "0 {'source': 'all_processed_data.json', 'seq_num': 3, 'title': 'Overview', 'url': 'https://docs.samsungknox.com/admin/knox-capture/overview', 'project': 'KCAP', 'last_updated': '2023-07-26', 'id': '183a7781-ba75-4f07-8129-8a9bceb950ea'}\n",
      "183a7781-ba75-4f07-8129-8a9bceb950ea\n",
      "1 {'source': 'all_processed_data.json', 'seq_num': 10, 'title': 'Configure output path', 'url': 'https://docs.samsungknox.com/admin/knox-capture/how-to-guides/configure-output-path', 'project': 'KCAP', 'last_updated': '2023-07-26', 'id': '9115c08f-57b0-442e-a958-af4b6077a09b'}\n",
      "9115c08f-57b0-442e-a958-af4b6077a09b\n",
      "2 {'source': 'all_processed_data.json', 'seq_num': 10, 'title': 'Configure output path', 'url': 'https://docs.samsungknox.com/admin/knox-capture/how-to-guides/configure-output-path', 'project': 'KCAP', 'last_updated': '2023-07-26', 'id': 'c4f088bb-f7f3-446e-8837-9678faec9d34'}\n",
      "c4f088bb-f7f3-446e-8837-9678faec9d34\n",
      "3 {'source': 'all_processed_data.json', 'seq_num': 3, 'title': 'Overview', 'url': 'https://docs.samsungknox.com/admin/knox-capture/overview', 'project': 'KCAP', 'last_updated': '2023-07-26', 'id': '540517a7-7d02-45fe-8ece-778d85909d9d'}\n",
      "540517a7-7d02-45fe-8ece-778d85909d9d\n",
      "4 {'source': 'all_processed_data.json', 'seq_num': 31, 'title': 'Knox Capture v1.4 release notes', 'url': 'https://docs.samsungknox.com/admin/knox-capture/release-notes/v1-4', 'project': 'KCAP', 'last_updated': '2023-07-26', 'id': '42546a0e-bd8f-47c8-8439-15a0ac963927'}\n",
      "42546a0e-bd8f-47c8-8439-15a0ac963927\n",
      "0 {'source': 'all_processed_data.json', 'seq_num': 3, 'title': 'Overview', 'url': 'https://docs.samsungknox.com/admin/knox-capture/overview', 'project': 'KCAP', 'last_updated': '2023-07-26', 'id': '183a7781-ba75-4f07-8129-8a9bceb950ea'}\n",
      "183a7781-ba75-4f07-8129-8a9bceb950ea\n",
      "1 {'source': 'all_processed_data.json', 'seq_num': 34, 'title': 'Knox Capture v1.7 release notes', 'url': 'https://docs.samsungknox.com/admin/knox-capture/release-notes/v1-7', 'project': 'KCAP', 'last_updated': '2023-07-26', 'id': '0aaf48da-d244-4773-9368-2114da69107b'}\n",
      "0aaf48da-d244-4773-9368-2114da69107b\n",
      "2 {'source': 'all_processed_data.json', 'seq_num': 20, 'title': 'AR overview', 'url': 'https://docs.samsungknox.com/admin/knox-capture/how-to-guides/ar/ar-overview', 'project': 'KCAP', 'last_updated': '2023-07-26', 'id': '1eaf2745-f69f-42ea-aff0-460bbfe53477'}\n",
      "1eaf2745-f69f-42ea-aff0-460bbfe53477\n",
      "3 {'source': 'all_processed_data.json', 'seq_num': 20, 'title': 'AR overview', 'url': 'https://docs.samsungknox.com/admin/knox-capture/how-to-guides/ar/ar-overview', 'project': 'KCAP', 'last_updated': '2023-07-26', 'id': 'b3d1a5b3-7579-4ca5-9741-78473c333b84'}\n",
      "b3d1a5b3-7579-4ca5-9741-78473c333b84\n",
      "4 {'source': 'all_processed_data.json', 'seq_num': 20, 'title': 'AR overview', 'url': 'https://docs.samsungknox.com/admin/knox-capture/how-to-guides/ar/ar-overview', 'project': 'KCAP', 'last_updated': '2023-07-26', 'id': '245279d4-6789-4336-a7b8-2b2d75c528fd'}\n",
      "245279d4-6789-4336-a7b8-2b2d75c528fd\n",
      "0 {'source': 'all_processed_data.json', 'seq_num': 7, 'title': 'End-user get started', 'url': 'https://docs.samsungknox.com/admin/knox-capture/get-started/end-user-tutorial', 'project': 'KCAP', 'last_updated': '2023-07-26', 'id': '5e3ddd4b-f811-4d50-baa6-4a46bf34ae51'}\n",
      "5e3ddd4b-f811-4d50-baa6-4a46bf34ae51\n",
      "1 {'source': 'all_processed_data.json', 'seq_num': 7, 'title': 'End-user get started', 'url': 'https://docs.samsungknox.com/admin/knox-capture/get-started/end-user-tutorial', 'project': 'KCAP', 'last_updated': '2023-07-26', 'id': '1494bb28-afd4-4a68-9384-e38539671314'}\n",
      "1494bb28-afd4-4a68-9384-e38539671314\n",
      "2 {'source': 'all_processed_data.json', 'seq_num': 6, 'title': 'Admin get started', 'url': 'https://docs.samsungknox.com/admin/knox-capture/get-started/admin-tutorial', 'project': 'KCAP', 'last_updated': '2023-07-26', 'id': 'a8f14bc6-6f8b-4e78-bcf0-034f953681f6'}\n",
      "a8f14bc6-6f8b-4e78-bcf0-034f953681f6\n",
      "3 {'source': 'all_processed_data.json', 'seq_num': 3, 'title': 'Overview', 'url': 'https://docs.samsungknox.com/admin/knox-capture/overview', 'project': 'KCAP', 'last_updated': '2023-07-26', 'id': '9a2de8f6-7474-408a-b006-a15a2e41a884'}\n",
      "9a2de8f6-7474-408a-b006-a15a2e41a884\n",
      "4 {'source': 'all_processed_data.json', 'seq_num': 11, 'title': 'Configure scan engine settings', 'url': 'https://docs.samsungknox.com/admin/knox-capture/how-to-guides/configure-scan-engine-settings', 'project': 'KCAP', 'last_updated': '2023-10-16', 'id': 'cd65af16-4bff-4df6-a41c-1b49f5b73841'}\n",
      "cd65af16-4bff-4df6-a41c-1b49f5b73841\n",
      "0 {'source': 'all_processed_data.json', 'seq_num': 7, 'title': 'End-user get started', 'url': 'https://docs.samsungknox.com/admin/knox-capture/get-started/end-user-tutorial', 'project': 'KCAP', 'last_updated': '2023-07-26', 'id': '5e3ddd4b-f811-4d50-baa6-4a46bf34ae51'}\n",
      "5e3ddd4b-f811-4d50-baa6-4a46bf34ae51\n",
      "1 {'source': 'all_processed_data.json', 'seq_num': 7, 'title': 'End-user get started', 'url': 'https://docs.samsungknox.com/admin/knox-capture/get-started/end-user-tutorial', 'project': 'KCAP', 'last_updated': '2023-07-26', 'id': '1494bb28-afd4-4a68-9384-e38539671314'}\n",
      "1494bb28-afd4-4a68-9384-e38539671314\n",
      "2 {'source': 'all_processed_data.json', 'seq_num': 6, 'title': 'Admin get started', 'url': 'https://docs.samsungknox.com/admin/knox-capture/get-started/admin-tutorial', 'project': 'KCAP', 'last_updated': '2023-07-26', 'id': 'a8f14bc6-6f8b-4e78-bcf0-034f953681f6'}\n",
      "a8f14bc6-6f8b-4e78-bcf0-034f953681f6\n",
      "3 {'source': 'all_processed_data.json', 'seq_num': 19, 'title': 'Use test mode', 'url': 'https://docs.samsungknox.com/admin/knox-capture/how-to-guides/use-test-mode', 'project': 'KCAP', 'last_updated': '2023-07-26', 'id': 'f76d684c-f517-4973-91e9-920c694704b9'}\n",
      "f76d684c-f517-4973-91e9-920c694704b9\n",
      "4 {'source': 'all_processed_data.json', 'seq_num': 13, 'title': 'Scanning profiles', 'url': 'https://docs.samsungknox.com/admin/knox-capture/how-to-guides/create-scanning-profiles', 'project': 'KCAP', 'last_updated': '2023-07-26', 'id': 'debaea23-ad2f-4e21-bc33-4ead2d7e8ab1'}\n",
      "debaea23-ad2f-4e21-bc33-4ead2d7e8ab1\n",
      "0 {'source': 'all_processed_data.json', 'seq_num': 7, 'title': 'End-user get started', 'url': 'https://docs.samsungknox.com/admin/knox-capture/get-started/end-user-tutorial', 'project': 'KCAP', 'last_updated': '2023-07-26', 'id': '7705b1cf-42a4-452c-9a75-45f905617237'}\n",
      "7705b1cf-42a4-452c-9a75-45f905617237\n",
      "1 {'source': 'all_processed_data.json', 'seq_num': 6, 'title': 'Admin get started', 'url': 'https://docs.samsungknox.com/admin/knox-capture/get-started/admin-tutorial', 'project': 'KCAP', 'last_updated': '2023-07-26', 'id': 'e90a0e8f-c32f-4b8b-aa0a-48e5895da947'}\n",
      "e90a0e8f-c32f-4b8b-aa0a-48e5895da947\n",
      "2 {'source': 'all_processed_data.json', 'seq_num': 7, 'title': 'End-user get started', 'url': 'https://docs.samsungknox.com/admin/knox-capture/get-started/end-user-tutorial', 'project': 'KCAP', 'last_updated': '2023-07-26', 'id': '1494bb28-afd4-4a68-9384-e38539671314'}\n",
      "1494bb28-afd4-4a68-9384-e38539671314\n",
      "3 {'source': 'all_processed_data.json', 'seq_num': 6, 'title': 'Admin get started', 'url': 'https://docs.samsungknox.com/admin/knox-capture/get-started/admin-tutorial', 'project': 'KCAP', 'last_updated': '2023-07-26', 'id': '70a3b623-b27d-4123-b8d8-d2e18e635fd2'}\n",
      "70a3b623-b27d-4123-b8d8-d2e18e635fd2\n",
      "4 {'source': 'all_processed_data.json', 'seq_num': 23, 'title': 'Use AR', 'url': 'https://docs.samsungknox.com/admin/knox-capture/how-to-guides/ar/use-ar', 'project': 'KCAP', 'last_updated': '2023-07-26', 'id': 'e4b7b4f4-10f2-489d-bcb7-81f65e7e003d'}\n",
      "e4b7b4f4-10f2-489d-bcb7-81f65e7e003d\n",
      "0 {'source': 'all_processed_data.json', 'seq_num': 7, 'title': 'End-user get started', 'url': 'https://docs.samsungknox.com/admin/knox-capture/get-started/end-user-tutorial', 'project': 'KCAP', 'last_updated': '2023-07-26', 'id': '7705b1cf-42a4-452c-9a75-45f905617237'}\n",
      "7705b1cf-42a4-452c-9a75-45f905617237\n",
      "1 {'source': 'all_processed_data.json', 'seq_num': 32, 'title': 'Knox Capture v1.5 release notes', 'url': 'https://docs.samsungknox.com/admin/knox-capture/release-notes/v1-5', 'project': 'KCAP', 'last_updated': '2023-07-26', 'id': '55465a10-77ed-4cbb-b90b-9c5ea41ff61d'}\n",
      "55465a10-77ed-4cbb-b90b-9c5ea41ff61d\n",
      "2 {'source': 'all_processed_data.json', 'seq_num': 20, 'title': 'AR overview', 'url': 'https://docs.samsungknox.com/admin/knox-capture/how-to-guides/ar/ar-overview', 'project': 'KCAP', 'last_updated': '2023-07-26', 'id': 'b3d1a5b3-7579-4ca5-9741-78473c333b84'}\n",
      "b3d1a5b3-7579-4ca5-9741-78473c333b84\n",
      "3 {'source': 'all_processed_data.json', 'seq_num': 6, 'title': 'Admin get started', 'url': 'https://docs.samsungknox.com/admin/knox-capture/get-started/admin-tutorial', 'project': 'KCAP', 'last_updated': '2023-07-26', 'id': '92d7a4e6-e05d-4af7-b7bd-d3813fb94481'}\n",
      "92d7a4e6-e05d-4af7-b7bd-d3813fb94481\n",
      "4 {'source': 'all_processed_data.json', 'seq_num': 13, 'title': 'Scanning profiles', 'url': 'https://docs.samsungknox.com/admin/knox-capture/how-to-guides/create-scanning-profiles', 'project': 'KCAP', 'last_updated': '2023-07-26', 'id': 'efb2975e-2fbb-454d-814b-081cacaa185d'}\n",
      "efb2975e-2fbb-454d-814b-081cacaa185d\n",
      "0 {'source': 'all_processed_data.json', 'seq_num': 8, 'title': 'Configure apps and activities', 'url': 'https://docs.samsungknox.com/admin/knox-capture/how-to-guides/configure-apps-and-activities', 'project': 'KCAP', 'last_updated': '2023-07-26', 'id': '071583b4-7ecd-4525-990c-16f19cf34e47'}\n",
      "071583b4-7ecd-4525-990c-16f19cf34e47\n",
      "1 {'source': 'all_processed_data.json', 'seq_num': 8, 'title': 'Configure apps and activities', 'url': 'https://docs.samsungknox.com/admin/knox-capture/how-to-guides/configure-apps-and-activities', 'project': 'KCAP', 'last_updated': '2023-07-26', 'id': '8fe8bdb6-944f-4903-a36e-d1a2206bc2fb'}\n",
      "8fe8bdb6-944f-4903-a36e-d1a2206bc2fb\n",
      "2 {'source': 'all_processed_data.json', 'seq_num': 8, 'title': 'Configure apps and activities', 'url': 'https://docs.samsungknox.com/admin/knox-capture/how-to-guides/configure-apps-and-activities', 'project': 'KCAP', 'last_updated': '2023-07-26', 'id': '5c096010-7152-4ec9-b4d9-8451f39cafcd'}\n",
      "5c096010-7152-4ec9-b4d9-8451f39cafcd\n",
      "3 {'source': 'all_processed_data.json', 'seq_num': 19, 'title': 'Use test mode', 'url': 'https://docs.samsungknox.com/admin/knox-capture/how-to-guides/use-test-mode', 'project': 'KCAP', 'last_updated': '2023-07-26', 'id': 'f76d684c-f517-4973-91e9-920c694704b9'}\n",
      "f76d684c-f517-4973-91e9-920c694704b9\n",
      "4 {'source': 'all_processed_data.json', 'seq_num': 8, 'title': 'Configure apps and activities', 'url': 'https://docs.samsungknox.com/admin/knox-capture/how-to-guides/configure-apps-and-activities', 'project': 'KCAP', 'last_updated': '2023-07-26', 'id': '121cf3e9-b5dc-435b-9fb0-d259ae912c9a'}\n",
      "121cf3e9-b5dc-435b-9fb0-d259ae912c9a\n",
      "0 {'source': 'all_processed_data.json', 'seq_num': 8, 'title': 'Configure apps and activities', 'url': 'https://docs.samsungknox.com/admin/knox-capture/how-to-guides/configure-apps-and-activities', 'project': 'KCAP', 'last_updated': '2023-07-26', 'id': '071583b4-7ecd-4525-990c-16f19cf34e47'}\n",
      "071583b4-7ecd-4525-990c-16f19cf34e47\n",
      "1 {'source': 'all_processed_data.json', 'seq_num': 8, 'title': 'Configure apps and activities', 'url': 'https://docs.samsungknox.com/admin/knox-capture/how-to-guides/configure-apps-and-activities', 'project': 'KCAP', 'last_updated': '2023-07-26', 'id': '8fe8bdb6-944f-4903-a36e-d1a2206bc2fb'}\n",
      "8fe8bdb6-944f-4903-a36e-d1a2206bc2fb\n",
      "2 {'source': 'all_processed_data.json', 'seq_num': 8, 'title': 'Configure apps and activities', 'url': 'https://docs.samsungknox.com/admin/knox-capture/how-to-guides/configure-apps-and-activities', 'project': 'KCAP', 'last_updated': '2023-07-26', 'id': '5c096010-7152-4ec9-b4d9-8451f39cafcd'}\n",
      "5c096010-7152-4ec9-b4d9-8451f39cafcd\n",
      "3 {'source': 'all_processed_data.json', 'seq_num': 9, 'title': 'Configure keystroke output and data formatting', 'url': 'https://docs.samsungknox.com/admin/knox-capture/how-to-guides/configure-keystroke-output-and-data-formatting', 'project': 'KCAP', 'last_updated': '2023-07-26', 'id': 'ed2bd9fc-d922-41d1-a3df-ed4470f42d09'}\n",
      "ed2bd9fc-d922-41d1-a3df-ed4470f42d09\n",
      "4 {'source': 'all_processed_data.json', 'seq_num': 19, 'title': 'Use test mode', 'url': 'https://docs.samsungknox.com/admin/knox-capture/how-to-guides/use-test-mode', 'project': 'KCAP', 'last_updated': '2023-07-26', 'id': 'f76d684c-f517-4973-91e9-920c694704b9'}\n",
      "f76d684c-f517-4973-91e9-920c694704b9\n",
      "\n",
      "Number of chunk_docs after split and chunking= 2\n",
      "\n",
      "0 {'source': 'all_processed_data.json', 'seq_num': 9, 'title': 'Configure keystroke output and data formatting', 'url': 'https://docs.samsungknox.com/admin/knox-capture/how-to-guides/configure-keystroke-output-and-data-formatting', 'project': 'KCAP', 'last_updated': '2023-07-26', 'id': 'fd65720b-cbe0-4da4-adcb-fd8e502bbc9e'}\n",
      "fd65720b-cbe0-4da4-adcb-fd8e502bbc9e\n",
      "1 {'source': 'all_processed_data.json', 'seq_num': 9, 'title': 'Configure keystroke output and data formatting', 'url': 'https://docs.samsungknox.com/admin/knox-capture/how-to-guides/configure-keystroke-output-and-data-formatting', 'project': 'KCAP', 'last_updated': '2023-07-26', 'id': 'b36d54a6-f7d8-41b5-a56d-7b785b0ddb7a'}\n",
      "b36d54a6-f7d8-41b5-a56d-7b785b0ddb7a\n",
      "2 {'source': 'all_processed_data.json', 'seq_num': 9, 'title': 'Configure keystroke output and data formatting', 'url': 'https://docs.samsungknox.com/admin/knox-capture/how-to-guides/configure-keystroke-output-and-data-formatting', 'project': 'KCAP', 'last_updated': '2023-07-26', 'id': '8a00ff8a-78f4-47b2-bfbf-cadd30ed0087'}\n",
      "8a00ff8a-78f4-47b2-bfbf-cadd30ed0087\n",
      "3 {'source': 'all_processed_data.json', 'seq_num': 19, 'title': 'Use test mode', 'url': 'https://docs.samsungknox.com/admin/knox-capture/how-to-guides/use-test-mode', 'project': 'KCAP', 'last_updated': '2023-07-26', 'id': 'b726fa9d-8337-4364-847a-98258e5057ae'}\n",
      "b726fa9d-8337-4364-847a-98258e5057ae\n",
      "4 {'source': 'all_processed_data.json', 'seq_num': 19, 'title': 'Use test mode', 'url': 'https://docs.samsungknox.com/admin/knox-capture/how-to-guides/use-test-mode', 'project': 'KCAP', 'last_updated': '2023-07-26', 'id': 'dadf1145-6b13-4952-866c-8070175cb907'}\n",
      "dadf1145-6b13-4952-866c-8070175cb907\n",
      "0 {'source': 'all_processed_data.json', 'seq_num': 9, 'title': 'Configure keystroke output and data formatting', 'url': 'https://docs.samsungknox.com/admin/knox-capture/how-to-guides/configure-keystroke-output-and-data-formatting', 'project': 'KCAP', 'last_updated': '2023-07-26', 'id': '8a00ff8a-78f4-47b2-bfbf-cadd30ed0087'}\n",
      "8a00ff8a-78f4-47b2-bfbf-cadd30ed0087\n",
      "1 {'source': 'all_processed_data.json', 'seq_num': 9, 'title': 'Configure keystroke output and data formatting', 'url': 'https://docs.samsungknox.com/admin/knox-capture/how-to-guides/configure-keystroke-output-and-data-formatting', 'project': 'KCAP', 'last_updated': '2023-07-26', 'id': 'fd65720b-cbe0-4da4-adcb-fd8e502bbc9e'}\n",
      "fd65720b-cbe0-4da4-adcb-fd8e502bbc9e\n",
      "2 {'source': 'all_processed_data.json', 'seq_num': 9, 'title': 'Configure keystroke output and data formatting', 'url': 'https://docs.samsungknox.com/admin/knox-capture/how-to-guides/configure-keystroke-output-and-data-formatting', 'project': 'KCAP', 'last_updated': '2023-07-26', 'id': 'b36d54a6-f7d8-41b5-a56d-7b785b0ddb7a'}\n",
      "b36d54a6-f7d8-41b5-a56d-7b785b0ddb7a\n",
      "3 {'source': 'all_processed_data.json', 'seq_num': 19, 'title': 'Use test mode', 'url': 'https://docs.samsungknox.com/admin/knox-capture/how-to-guides/use-test-mode', 'project': 'KCAP', 'last_updated': '2023-07-26', 'id': 'b726fa9d-8337-4364-847a-98258e5057ae'}\n",
      "b726fa9d-8337-4364-847a-98258e5057ae\n",
      "4 {'source': 'all_processed_data.json', 'seq_num': 9, 'title': 'Configure keystroke output and data formatting', 'url': 'https://docs.samsungknox.com/admin/knox-capture/how-to-guides/configure-keystroke-output-and-data-formatting', 'project': 'KCAP', 'last_updated': '2023-07-26', 'id': 'dfb620dd-7ad7-42ab-a386-cd25185a5c36'}\n",
      "dfb620dd-7ad7-42ab-a386-cd25185a5c36\n",
      "0 {'source': 'all_processed_data.json', 'seq_num': 9, 'title': 'Configure keystroke output and data formatting', 'url': 'https://docs.samsungknox.com/admin/knox-capture/how-to-guides/configure-keystroke-output-and-data-formatting', 'project': 'KCAP', 'last_updated': '2023-07-26', 'id': 'dfb620dd-7ad7-42ab-a386-cd25185a5c36'}\n",
      "dfb620dd-7ad7-42ab-a386-cd25185a5c36\n",
      "1 {'source': 'all_processed_data.json', 'seq_num': 9, 'title': 'Configure keystroke output and data formatting', 'url': 'https://docs.samsungknox.com/admin/knox-capture/how-to-guides/configure-keystroke-output-and-data-formatting', 'project': 'KCAP', 'last_updated': '2023-07-26', 'id': '8a00ff8a-78f4-47b2-bfbf-cadd30ed0087'}\n",
      "8a00ff8a-78f4-47b2-bfbf-cadd30ed0087\n",
      "2 {'source': 'all_processed_data.json', 'seq_num': 3, 'title': 'Overview', 'url': 'https://docs.samsungknox.com/admin/knox-capture/overview', 'project': 'KCAP', 'last_updated': '2023-07-26', 'id': '9a2de8f6-7474-408a-b006-a15a2e41a884'}\n",
      "9a2de8f6-7474-408a-b006-a15a2e41a884\n",
      "3 {'source': 'all_processed_data.json', 'seq_num': 3, 'title': 'Overview', 'url': 'https://docs.samsungknox.com/admin/knox-capture/overview', 'project': 'KCAP', 'last_updated': '2023-07-26', 'id': '9b4499e8-8ffe-4dd7-94f2-cf9a81e1539e'}\n",
      "9b4499e8-8ffe-4dd7-94f2-cf9a81e1539e\n",
      "4 {'source': 'all_processed_data.json', 'seq_num': 29, 'title': 'Knox Capture v1.2 release notes', 'url': 'https://docs.samsungknox.com/admin/knox-capture/release-notes/v1-2', 'project': 'KCAP', 'last_updated': '2023-07-26', 'id': 'eb55f827-5389-40b4-b4b9-2bf431c0198d'}\n",
      "eb55f827-5389-40b4-b4b9-2bf431c0198d\n",
      "0 {'source': 'all_processed_data.json', 'seq_num': 9, 'title': 'Configure keystroke output and data formatting', 'url': 'https://docs.samsungknox.com/admin/knox-capture/how-to-guides/configure-keystroke-output-and-data-formatting', 'project': 'KCAP', 'last_updated': '2023-07-26', 'id': 'fd65720b-cbe0-4da4-adcb-fd8e502bbc9e'}\n",
      "fd65720b-cbe0-4da4-adcb-fd8e502bbc9e\n",
      "1 {'source': 'all_processed_data.json', 'seq_num': 9, 'title': 'Configure keystroke output and data formatting', 'url': 'https://docs.samsungknox.com/admin/knox-capture/how-to-guides/configure-keystroke-output-and-data-formatting', 'project': 'KCAP', 'last_updated': '2023-07-26', 'id': '8a00ff8a-78f4-47b2-bfbf-cadd30ed0087'}\n",
      "8a00ff8a-78f4-47b2-bfbf-cadd30ed0087\n",
      "2 {'source': 'all_processed_data.json', 'seq_num': 9, 'title': 'Configure keystroke output and data formatting', 'url': 'https://docs.samsungknox.com/admin/knox-capture/how-to-guides/configure-keystroke-output-and-data-formatting', 'project': 'KCAP', 'last_updated': '2023-07-26', 'id': 'dfb620dd-7ad7-42ab-a386-cd25185a5c36'}\n",
      "dfb620dd-7ad7-42ab-a386-cd25185a5c36\n",
      "3 {'source': 'all_processed_data.json', 'seq_num': 9, 'title': 'Configure keystroke output and data formatting', 'url': 'https://docs.samsungknox.com/admin/knox-capture/how-to-guides/configure-keystroke-output-and-data-formatting', 'project': 'KCAP', 'last_updated': '2023-07-26', 'id': 'b36d54a6-f7d8-41b5-a56d-7b785b0ddb7a'}\n",
      "b36d54a6-f7d8-41b5-a56d-7b785b0ddb7a\n",
      "4 {'source': 'all_processed_data.json', 'seq_num': 6, 'title': 'Admin get started', 'url': 'https://docs.samsungknox.com/admin/knox-capture/get-started/admin-tutorial', 'project': 'KCAP', 'last_updated': '2023-07-26', 'id': '2bc27b5e-0b1c-4841-82ff-0caa54abc6c9'}\n",
      "2bc27b5e-0b1c-4841-82ff-0caa54abc6c9\n",
      "0 {'source': 'all_processed_data.json', 'seq_num': 9, 'title': 'Configure keystroke output and data formatting', 'url': 'https://docs.samsungknox.com/admin/knox-capture/how-to-guides/configure-keystroke-output-and-data-formatting', 'project': 'KCAP', 'last_updated': '2023-07-26', 'id': '923cea00-eb88-4584-b353-4e95d297e46a'}\n",
      "923cea00-eb88-4584-b353-4e95d297e46a\n",
      "1 {'source': 'all_processed_data.json', 'seq_num': 9, 'title': 'Configure keystroke output and data formatting', 'url': 'https://docs.samsungknox.com/admin/knox-capture/how-to-guides/configure-keystroke-output-and-data-formatting', 'project': 'KCAP', 'last_updated': '2023-07-26', 'id': 'c6ef137a-35f8-4089-952f-0a250258127c'}\n",
      "c6ef137a-35f8-4089-952f-0a250258127c\n",
      "2 {'source': 'all_processed_data.json', 'seq_num': 6, 'title': 'Admin get started', 'url': 'https://docs.samsungknox.com/admin/knox-capture/get-started/admin-tutorial', 'project': 'KCAP', 'last_updated': '2023-07-26', 'id': '5097d86a-304c-40d8-a49f-f057c1f8232f'}\n",
      "5097d86a-304c-40d8-a49f-f057c1f8232f\n",
      "3 {'source': 'all_processed_data.json', 'seq_num': 14, 'title': 'Export and deploy configuration', 'url': 'https://docs.samsungknox.com/admin/knox-capture/how-to-guides/export-and-deploy-configuration', 'project': 'KCAP', 'last_updated': '2023-07-26', 'id': '1da529f9-5621-481d-8245-40bbb2435a92'}\n",
      "1da529f9-5621-481d-8245-40bbb2435a92\n",
      "4 {'source': 'all_processed_data.json', 'seq_num': 15, 'title': 'Manage licenses', 'url': 'https://docs.samsungknox.com/admin/knox-capture/how-to-guides/manage-licenses', 'project': 'KCAP', 'last_updated': '2023-10-16', 'id': 'd07b255d-c07a-41a9-8ea2-3ca9a155e59f'}\n",
      "d07b255d-c07a-41a9-8ea2-3ca9a155e59f\n",
      "0 {'source': 'all_processed_data.json', 'seq_num': 9, 'title': 'Configure keystroke output and data formatting', 'url': 'https://docs.samsungknox.com/admin/knox-capture/how-to-guides/configure-keystroke-output-and-data-formatting', 'project': 'KCAP', 'last_updated': '2023-07-26', 'id': '923cea00-eb88-4584-b353-4e95d297e46a'}\n",
      "923cea00-eb88-4584-b353-4e95d297e46a\n",
      "1 {'source': 'all_processed_data.json', 'seq_num': 9, 'title': 'Configure keystroke output and data formatting', 'url': 'https://docs.samsungknox.com/admin/knox-capture/how-to-guides/configure-keystroke-output-and-data-formatting', 'project': 'KCAP', 'last_updated': '2023-07-26', 'id': 'ed2bd9fc-d922-41d1-a3df-ed4470f42d09'}\n",
      "ed2bd9fc-d922-41d1-a3df-ed4470f42d09\n",
      "2 {'source': 'all_processed_data.json', 'seq_num': 9, 'title': 'Configure keystroke output and data formatting', 'url': 'https://docs.samsungknox.com/admin/knox-capture/how-to-guides/configure-keystroke-output-and-data-formatting', 'project': 'KCAP', 'last_updated': '2023-07-26', 'id': 'c6ef137a-35f8-4089-952f-0a250258127c'}\n",
      "c6ef137a-35f8-4089-952f-0a250258127c\n",
      "3 {'source': 'all_processed_data.json', 'seq_num': 14, 'title': 'Export and deploy configuration', 'url': 'https://docs.samsungknox.com/admin/knox-capture/how-to-guides/export-and-deploy-configuration', 'project': 'KCAP', 'last_updated': '2023-07-26', 'id': '263e20f5-24b6-40a1-830e-acb63fadd0cd'}\n",
      "263e20f5-24b6-40a1-830e-acb63fadd0cd\n",
      "4 {'source': 'all_processed_data.json', 'seq_num': 8, 'title': 'Configure apps and activities', 'url': 'https://docs.samsungknox.com/admin/knox-capture/how-to-guides/configure-apps-and-activities', 'project': 'KCAP', 'last_updated': '2023-07-26', 'id': '5c096010-7152-4ec9-b4d9-8451f39cafcd'}\n",
      "5c096010-7152-4ec9-b4d9-8451f39cafcd\n",
      "0 {'source': 'all_processed_data.json', 'seq_num': 9, 'title': 'Configure keystroke output and data formatting', 'url': 'https://docs.samsungknox.com/admin/knox-capture/how-to-guides/configure-keystroke-output-and-data-formatting', 'project': 'KCAP', 'last_updated': '2023-07-26', 'id': '84f62edd-56bd-422a-87c7-ffd11f27db4d'}\n",
      "84f62edd-56bd-422a-87c7-ffd11f27db4d\n",
      "1 {'source': 'all_processed_data.json', 'seq_num': 9, 'title': 'Configure keystroke output and data formatting', 'url': 'https://docs.samsungknox.com/admin/knox-capture/how-to-guides/configure-keystroke-output-and-data-formatting', 'project': 'KCAP', 'last_updated': '2023-07-26', 'id': 'c0a32b5b-a3d8-4b03-9eeb-ad809fd2cced'}\n",
      "c0a32b5b-a3d8-4b03-9eeb-ad809fd2cced\n",
      "2 {'source': 'all_processed_data.json', 'seq_num': 9, 'title': 'Configure keystroke output and data formatting', 'url': 'https://docs.samsungknox.com/admin/knox-capture/how-to-guides/configure-keystroke-output-and-data-formatting', 'project': 'KCAP', 'last_updated': '2023-07-26', 'id': 'ffa808d8-eb28-4c77-91fb-b909aabec425'}\n",
      "ffa808d8-eb28-4c77-91fb-b909aabec425\n",
      "3 {'source': 'all_processed_data.json', 'seq_num': 9, 'title': 'Configure keystroke output and data formatting', 'url': 'https://docs.samsungknox.com/admin/knox-capture/how-to-guides/configure-keystroke-output-and-data-formatting', 'project': 'KCAP', 'last_updated': '2023-07-26', 'id': 'fd65720b-cbe0-4da4-adcb-fd8e502bbc9e'}\n",
      "fd65720b-cbe0-4da4-adcb-fd8e502bbc9e\n",
      "4 {'source': 'all_processed_data.json', 'seq_num': 9, 'title': 'Configure keystroke output and data formatting', 'url': 'https://docs.samsungknox.com/admin/knox-capture/how-to-guides/configure-keystroke-output-and-data-formatting', 'project': 'KCAP', 'last_updated': '2023-07-26', 'id': 'b36d54a6-f7d8-41b5-a56d-7b785b0ddb7a'}\n",
      "b36d54a6-f7d8-41b5-a56d-7b785b0ddb7a\n",
      "0 {'source': 'all_processed_data.json', 'seq_num': 9, 'title': 'Configure keystroke output and data formatting', 'url': 'https://docs.samsungknox.com/admin/knox-capture/how-to-guides/configure-keystroke-output-and-data-formatting', 'project': 'KCAP', 'last_updated': '2023-07-26', 'id': '84f62edd-56bd-422a-87c7-ffd11f27db4d'}\n",
      "84f62edd-56bd-422a-87c7-ffd11f27db4d\n",
      "1 {'source': 'all_processed_data.json', 'seq_num': 9, 'title': 'Configure keystroke output and data formatting', 'url': 'https://docs.samsungknox.com/admin/knox-capture/how-to-guides/configure-keystroke-output-and-data-formatting', 'project': 'KCAP', 'last_updated': '2023-07-26', 'id': 'c0a32b5b-a3d8-4b03-9eeb-ad809fd2cced'}\n",
      "c0a32b5b-a3d8-4b03-9eeb-ad809fd2cced\n",
      "2 {'source': 'all_processed_data.json', 'seq_num': 9, 'title': 'Configure keystroke output and data formatting', 'url': 'https://docs.samsungknox.com/admin/knox-capture/how-to-guides/configure-keystroke-output-and-data-formatting', 'project': 'KCAP', 'last_updated': '2023-07-26', 'id': 'fd65720b-cbe0-4da4-adcb-fd8e502bbc9e'}\n",
      "fd65720b-cbe0-4da4-adcb-fd8e502bbc9e\n",
      "3 {'source': 'all_processed_data.json', 'seq_num': 9, 'title': 'Configure keystroke output and data formatting', 'url': 'https://docs.samsungknox.com/admin/knox-capture/how-to-guides/configure-keystroke-output-and-data-formatting', 'project': 'KCAP', 'last_updated': '2023-07-26', 'id': '8a00ff8a-78f4-47b2-bfbf-cadd30ed0087'}\n",
      "8a00ff8a-78f4-47b2-bfbf-cadd30ed0087\n",
      "4 {'source': 'all_processed_data.json', 'seq_num': 19, 'title': 'Use test mode', 'url': 'https://docs.samsungknox.com/admin/knox-capture/how-to-guides/use-test-mode', 'project': 'KCAP', 'last_updated': '2023-07-26', 'id': 'dadf1145-6b13-4952-866c-8070175cb907'}\n",
      "dadf1145-6b13-4952-866c-8070175cb907\n",
      "0 {'source': 'all_processed_data.json', 'seq_num': 10, 'title': 'Configure output path', 'url': 'https://docs.samsungknox.com/admin/knox-capture/how-to-guides/configure-output-path', 'project': 'KCAP', 'last_updated': '2023-07-26', 'id': '9115c08f-57b0-442e-a958-af4b6077a09b'}\n",
      "9115c08f-57b0-442e-a958-af4b6077a09b\n",
      "1 {'source': 'all_processed_data.json', 'seq_num': 10, 'title': 'Configure output path', 'url': 'https://docs.samsungknox.com/admin/knox-capture/how-to-guides/configure-output-path', 'project': 'KCAP', 'last_updated': '2023-07-26', 'id': 'c4f088bb-f7f3-446e-8837-9678faec9d34'}\n",
      "c4f088bb-f7f3-446e-8837-9678faec9d34\n",
      "2 {'source': 'all_processed_data.json', 'seq_num': 31, 'title': 'Knox Capture v1.4 release notes', 'url': 'https://docs.samsungknox.com/admin/knox-capture/release-notes/v1-4', 'project': 'KCAP', 'last_updated': '2023-07-26', 'id': '42546a0e-bd8f-47c8-8439-15a0ac963927'}\n",
      "42546a0e-bd8f-47c8-8439-15a0ac963927\n",
      "3 {'source': 'all_processed_data.json', 'seq_num': 3, 'title': 'Overview', 'url': 'https://docs.samsungknox.com/admin/knox-capture/overview', 'project': 'KCAP', 'last_updated': '2023-07-26', 'id': '183a7781-ba75-4f07-8129-8a9bceb950ea'}\n",
      "183a7781-ba75-4f07-8129-8a9bceb950ea\n",
      "4 {'source': 'all_processed_data.json', 'seq_num': 3, 'title': 'Overview', 'url': 'https://docs.samsungknox.com/admin/knox-capture/overview', 'project': 'KCAP', 'last_updated': '2023-07-26', 'id': '540517a7-7d02-45fe-8ece-778d85909d9d'}\n",
      "540517a7-7d02-45fe-8ece-778d85909d9d\n",
      "0 {'source': 'all_processed_data.json', 'seq_num': 10, 'title': 'Configure output path', 'url': 'https://docs.samsungknox.com/admin/knox-capture/how-to-guides/configure-output-path', 'project': 'KCAP', 'last_updated': '2023-07-26', 'id': '9115c08f-57b0-442e-a958-af4b6077a09b'}\n",
      "9115c08f-57b0-442e-a958-af4b6077a09b\n",
      "1 {'source': 'all_processed_data.json', 'seq_num': 9, 'title': 'Configure keystroke output and data formatting', 'url': 'https://docs.samsungknox.com/admin/knox-capture/how-to-guides/configure-keystroke-output-and-data-formatting', 'project': 'KCAP', 'last_updated': '2023-07-26', 'id': 'c6ef137a-35f8-4089-952f-0a250258127c'}\n",
      "c6ef137a-35f8-4089-952f-0a250258127c\n",
      "2 {'source': 'all_processed_data.json', 'seq_num': 10, 'title': 'Configure output path', 'url': 'https://docs.samsungknox.com/admin/knox-capture/how-to-guides/configure-output-path', 'project': 'KCAP', 'last_updated': '2023-07-26', 'id': '0bac64fa-a1cc-4879-84ee-305821c8c935'}\n",
      "0bac64fa-a1cc-4879-84ee-305821c8c935\n",
      "3 {'source': 'all_processed_data.json', 'seq_num': 3, 'title': 'Overview', 'url': 'https://docs.samsungknox.com/admin/knox-capture/overview', 'project': 'KCAP', 'last_updated': '2023-07-26', 'id': '183a7781-ba75-4f07-8129-8a9bceb950ea'}\n",
      "183a7781-ba75-4f07-8129-8a9bceb950ea\n",
      "4 {'source': 'all_processed_data.json', 'seq_num': 10, 'title': 'Configure output path', 'url': 'https://docs.samsungknox.com/admin/knox-capture/how-to-guides/configure-output-path', 'project': 'KCAP', 'last_updated': '2023-07-26', 'id': 'c4f088bb-f7f3-446e-8837-9678faec9d34'}\n",
      "c4f088bb-f7f3-446e-8837-9678faec9d34\n",
      "0 {'source': 'all_processed_data.json', 'seq_num': 11, 'title': 'Configure scan engine settings', 'url': 'https://docs.samsungknox.com/admin/knox-capture/how-to-guides/configure-scan-engine-settings', 'project': 'KCAP', 'last_updated': '2023-10-16', 'id': 'ed74f3b7-2f62-4270-b36d-0b8625cd8dcd'}\n",
      "ed74f3b7-2f62-4270-b36d-0b8625cd8dcd\n",
      "1 {'source': 'all_processed_data.json', 'seq_num': 3, 'title': 'Overview', 'url': 'https://docs.samsungknox.com/admin/knox-capture/overview', 'project': 'KCAP', 'last_updated': '2023-07-26', 'id': '9a2de8f6-7474-408a-b006-a15a2e41a884'}\n",
      "9a2de8f6-7474-408a-b006-a15a2e41a884\n",
      "2 {'source': 'all_processed_data.json', 'seq_num': 29, 'title': 'Knox Capture v1.2 release notes', 'url': 'https://docs.samsungknox.com/admin/knox-capture/release-notes/v1-2', 'project': 'KCAP', 'last_updated': '2023-07-26', 'id': '9db02e5b-31a0-4052-afbc-b3469453c921'}\n",
      "9db02e5b-31a0-4052-afbc-b3469453c921\n",
      "3 {'source': 'all_processed_data.json', 'seq_num': 13, 'title': 'Scanning profiles', 'url': 'https://docs.samsungknox.com/admin/knox-capture/how-to-guides/create-scanning-profiles', 'project': 'KCAP', 'last_updated': '2023-07-26', 'id': '68344300-0b54-46c4-82be-57ae3b37cc44'}\n",
      "68344300-0b54-46c4-82be-57ae3b37cc44\n",
      "4 {'source': 'all_processed_data.json', 'seq_num': 11, 'title': 'Configure scan engine settings', 'url': 'https://docs.samsungknox.com/admin/knox-capture/how-to-guides/configure-scan-engine-settings', 'project': 'KCAP', 'last_updated': '2023-10-16', 'id': '38de553e-0198-4695-b02e-0bb1dd31d4dd'}\n",
      "38de553e-0198-4695-b02e-0bb1dd31d4dd\n",
      "0 {'source': 'all_processed_data.json', 'seq_num': 11, 'title': 'Configure scan engine settings', 'url': 'https://docs.samsungknox.com/admin/knox-capture/how-to-guides/configure-scan-engine-settings', 'project': 'KCAP', 'last_updated': '2023-10-16', 'id': 'f73c0079-5e64-406b-a82c-f69d3de26009'}\n",
      "f73c0079-5e64-406b-a82c-f69d3de26009\n",
      "1 {'source': 'all_processed_data.json', 'seq_num': 11, 'title': 'Configure scan engine settings', 'url': 'https://docs.samsungknox.com/admin/knox-capture/how-to-guides/configure-scan-engine-settings', 'project': 'KCAP', 'last_updated': '2023-10-16', 'id': '3f9a610a-61e8-4947-b595-ffe0caceee95'}\n",
      "3f9a610a-61e8-4947-b595-ffe0caceee95\n",
      "2 {'source': 'all_processed_data.json', 'seq_num': 11, 'title': 'Configure scan engine settings', 'url': 'https://docs.samsungknox.com/admin/knox-capture/how-to-guides/configure-scan-engine-settings', 'project': 'KCAP', 'last_updated': '2023-10-16', 'id': 'cd65af16-4bff-4df6-a41c-1b49f5b73841'}\n",
      "cd65af16-4bff-4df6-a41c-1b49f5b73841\n",
      "3 {'source': 'all_processed_data.json', 'seq_num': 18, 'title': 'Use scanner overlay', 'url': 'https://docs.samsungknox.com/admin/knox-capture/how-to-guides/use-scanner-overlay', 'project': 'KCAP', 'last_updated': '2023-07-26', 'id': 'd37811ff-252c-4c0e-a5d8-6e7fbfe67447'}\n",
      "d37811ff-252c-4c0e-a5d8-6e7fbfe67447\n",
      "4 {'source': 'all_processed_data.json', 'seq_num': 32, 'title': 'Knox Capture v1.5 release notes', 'url': 'https://docs.samsungknox.com/admin/knox-capture/release-notes/v1-5', 'project': 'KCAP', 'last_updated': '2023-07-26', 'id': '55465a10-77ed-4cbb-b90b-9c5ea41ff61d'}\n",
      "55465a10-77ed-4cbb-b90b-9c5ea41ff61d\n",
      "0 {'source': 'all_processed_data.json', 'seq_num': 11, 'title': 'Configure scan engine settings', 'url': 'https://docs.samsungknox.com/admin/knox-capture/how-to-guides/configure-scan-engine-settings', 'project': 'KCAP', 'last_updated': '2023-10-16', 'id': '983111c5-d2cd-471a-b474-1ea613ced26e'}\n",
      "983111c5-d2cd-471a-b474-1ea613ced26e\n",
      "1 {'source': 'all_processed_data.json', 'seq_num': 11, 'title': 'Configure scan engine settings', 'url': 'https://docs.samsungknox.com/admin/knox-capture/how-to-guides/configure-scan-engine-settings', 'project': 'KCAP', 'last_updated': '2023-10-16', 'id': 'c69c5ad0-5e8e-4e74-8d6a-3fbc6b284aad'}\n",
      "c69c5ad0-5e8e-4e74-8d6a-3fbc6b284aad\n",
      "2 {'source': 'all_processed_data.json', 'seq_num': 11, 'title': 'Configure scan engine settings', 'url': 'https://docs.samsungknox.com/admin/knox-capture/how-to-guides/configure-scan-engine-settings', 'project': 'KCAP', 'last_updated': '2023-10-16', 'id': 'b728b899-3f43-4fe7-8366-cd4bfd2496a1'}\n",
      "b728b899-3f43-4fe7-8366-cd4bfd2496a1\n",
      "3 {'source': 'all_processed_data.json', 'seq_num': 11, 'title': 'Configure scan engine settings', 'url': 'https://docs.samsungknox.com/admin/knox-capture/how-to-guides/configure-scan-engine-settings', 'project': 'KCAP', 'last_updated': '2023-10-16', 'id': '38de553e-0198-4695-b02e-0bb1dd31d4dd'}\n",
      "38de553e-0198-4695-b02e-0bb1dd31d4dd\n",
      "4 {'source': 'all_processed_data.json', 'seq_num': 3, 'title': 'Overview', 'url': 'https://docs.samsungknox.com/admin/knox-capture/overview', 'project': 'KCAP', 'last_updated': '2023-07-26', 'id': '9a2de8f6-7474-408a-b006-a15a2e41a884'}\n",
      "9a2de8f6-7474-408a-b006-a15a2e41a884\n",
      "0 {'source': 'all_processed_data.json', 'seq_num': 25, 'title': 'Scan engine settings: Scandit', 'url': 'https://docs.samsungknox.com/admin/knox-capture/knox-capture-scandit/scan-engine-settings-scandit', 'project': 'KCAP', 'last_updated': '2023-07-26', 'id': '952708ae-ceb6-4025-a59a-23e4e4c0a965'}\n",
      "952708ae-ceb6-4025-a59a-23e4e4c0a965\n",
      "1 {'source': 'all_processed_data.json', 'seq_num': 11, 'title': 'Configure scan engine settings', 'url': 'https://docs.samsungknox.com/admin/knox-capture/how-to-guides/configure-scan-engine-settings', 'project': 'KCAP', 'last_updated': '2023-10-16', 'id': '983111c5-d2cd-471a-b474-1ea613ced26e'}\n",
      "983111c5-d2cd-471a-b474-1ea613ced26e\n",
      "2 {'source': 'all_processed_data.json', 'seq_num': 3, 'title': 'Overview', 'url': 'https://docs.samsungknox.com/admin/knox-capture/overview', 'project': 'KCAP', 'last_updated': '2023-07-26', 'id': '9a2de8f6-7474-408a-b006-a15a2e41a884'}\n",
      "9a2de8f6-7474-408a-b006-a15a2e41a884\n",
      "3 {'source': 'all_processed_data.json', 'seq_num': 11, 'title': 'Configure scan engine settings', 'url': 'https://docs.samsungknox.com/admin/knox-capture/how-to-guides/configure-scan-engine-settings', 'project': 'KCAP', 'last_updated': '2023-10-16', 'id': '38de553e-0198-4695-b02e-0bb1dd31d4dd'}\n",
      "38de553e-0198-4695-b02e-0bb1dd31d4dd\n",
      "4 {'source': 'all_processed_data.json', 'seq_num': 3, 'title': 'Overview', 'url': 'https://docs.samsungknox.com/admin/knox-capture/overview', 'project': 'KCAP', 'last_updated': '2023-07-26', 'id': '9b4499e8-8ffe-4dd7-94f2-cf9a81e1539e'}\n",
      "9b4499e8-8ffe-4dd7-94f2-cf9a81e1539e\n",
      "0 {'source': 'all_processed_data.json', 'seq_num': 14, 'title': 'Export and deploy configuration', 'url': 'https://docs.samsungknox.com/admin/knox-capture/how-to-guides/export-and-deploy-configuration', 'project': 'KCAP', 'last_updated': '2023-07-26', 'id': '1da529f9-5621-481d-8245-40bbb2435a92'}\n",
      "1da529f9-5621-481d-8245-40bbb2435a92\n",
      "1 {'source': 'all_processed_data.json', 'seq_num': 6, 'title': 'Admin get started', 'url': 'https://docs.samsungknox.com/admin/knox-capture/get-started/admin-tutorial', 'project': 'KCAP', 'last_updated': '2023-07-26', 'id': '92d7a4e6-e05d-4af7-b7bd-d3813fb94481'}\n",
      "92d7a4e6-e05d-4af7-b7bd-d3813fb94481\n",
      "2 {'source': 'all_processed_data.json', 'seq_num': 29, 'title': 'Knox Capture v1.2 release notes', 'url': 'https://docs.samsungknox.com/admin/knox-capture/release-notes/v1-2', 'project': 'KCAP', 'last_updated': '2023-07-26', 'id': '961bd03a-562c-441a-817b-93d387ec81f4'}\n",
      "961bd03a-562c-441a-817b-93d387ec81f4\n",
      "3 {'source': 'all_processed_data.json', 'seq_num': 3, 'title': 'Overview', 'url': 'https://docs.samsungknox.com/admin/knox-capture/overview', 'project': 'KCAP', 'last_updated': '2023-07-26', 'id': '540517a7-7d02-45fe-8ece-778d85909d9d'}\n",
      "540517a7-7d02-45fe-8ece-778d85909d9d\n",
      "4 {'source': 'all_processed_data.json', 'seq_num': 3, 'title': 'Overview', 'url': 'https://docs.samsungknox.com/admin/knox-capture/overview', 'project': 'KCAP', 'last_updated': '2023-07-26', 'id': '1a911dcd-5e36-4b96-974d-9d85e556c8e0'}\n",
      "1a911dcd-5e36-4b96-974d-9d85e556c8e0\n",
      "0 {'source': 'all_processed_data.json', 'seq_num': 14, 'title': 'Export and deploy configuration', 'url': 'https://docs.samsungknox.com/admin/knox-capture/how-to-guides/export-and-deploy-configuration', 'project': 'KCAP', 'last_updated': '2023-07-26', 'id': '1da529f9-5621-481d-8245-40bbb2435a92'}\n",
      "1da529f9-5621-481d-8245-40bbb2435a92\n",
      "1 {'source': 'all_processed_data.json', 'seq_num': 6, 'title': 'Admin get started', 'url': 'https://docs.samsungknox.com/admin/knox-capture/get-started/admin-tutorial', 'project': 'KCAP', 'last_updated': '2023-07-26', 'id': 'f233df24-38d0-462f-bfa8-39e76df89729'}\n",
      "f233df24-38d0-462f-bfa8-39e76df89729\n",
      "2 {'source': 'all_processed_data.json', 'seq_num': 6, 'title': 'Admin get started', 'url': 'https://docs.samsungknox.com/admin/knox-capture/get-started/admin-tutorial', 'project': 'KCAP', 'last_updated': '2023-07-26', 'id': '5097d86a-304c-40d8-a49f-f057c1f8232f'}\n",
      "5097d86a-304c-40d8-a49f-f057c1f8232f\n",
      "3 {'source': 'all_processed_data.json', 'seq_num': 3, 'title': 'Overview', 'url': 'https://docs.samsungknox.com/admin/knox-capture/overview', 'project': 'KCAP', 'last_updated': '2023-07-26', 'id': '1a911dcd-5e36-4b96-974d-9d85e556c8e0'}\n",
      "1a911dcd-5e36-4b96-974d-9d85e556c8e0\n",
      "4 {'source': 'all_processed_data.json', 'seq_num': 7, 'title': 'End-user get started', 'url': 'https://docs.samsungknox.com/admin/knox-capture/get-started/end-user-tutorial', 'project': 'KCAP', 'last_updated': '2023-07-26', 'id': '5e3ddd4b-f811-4d50-baa6-4a46bf34ae51'}\n",
      "5e3ddd4b-f811-4d50-baa6-4a46bf34ae51\n",
      "0 {'source': 'all_processed_data.json', 'seq_num': 14, 'title': 'Export and deploy configuration', 'url': 'https://docs.samsungknox.com/admin/knox-capture/how-to-guides/export-and-deploy-configuration', 'project': 'KCAP', 'last_updated': '2023-07-26', 'id': '18cea910-3789-41f8-b3c0-0d45c9c7ef93'}\n",
      "18cea910-3789-41f8-b3c0-0d45c9c7ef93\n",
      "1 {'source': 'all_processed_data.json', 'seq_num': 14, 'title': 'Export and deploy configuration', 'url': 'https://docs.samsungknox.com/admin/knox-capture/how-to-guides/export-and-deploy-configuration', 'project': 'KCAP', 'last_updated': '2023-07-26', 'id': '1da529f9-5621-481d-8245-40bbb2435a92'}\n",
      "1da529f9-5621-481d-8245-40bbb2435a92\n",
      "2 {'source': 'all_processed_data.json', 'seq_num': 3, 'title': 'Overview', 'url': 'https://docs.samsungknox.com/admin/knox-capture/overview', 'project': 'KCAP', 'last_updated': '2023-07-26', 'id': '1a911dcd-5e36-4b96-974d-9d85e556c8e0'}\n",
      "1a911dcd-5e36-4b96-974d-9d85e556c8e0\n",
      "3 {'source': 'all_processed_data.json', 'seq_num': 13, 'title': 'Scanning profiles', 'url': 'https://docs.samsungknox.com/admin/knox-capture/how-to-guides/create-scanning-profiles', 'project': 'KCAP', 'last_updated': '2023-07-26', 'id': 'c7af7f3d-f752-4c86-bd99-71171bf01e6a'}\n",
      "c7af7f3d-f752-4c86-bd99-71171bf01e6a\n",
      "4 {'source': 'all_processed_data.json', 'seq_num': 6, 'title': 'Admin get started', 'url': 'https://docs.samsungknox.com/admin/knox-capture/get-started/admin-tutorial', 'project': 'KCAP', 'last_updated': '2023-07-26', 'id': 'f233df24-38d0-462f-bfa8-39e76df89729'}\n",
      "f233df24-38d0-462f-bfa8-39e76df89729\n",
      "0 {'source': 'all_processed_data.json', 'seq_num': 14, 'title': 'Export and deploy configuration', 'url': 'https://docs.samsungknox.com/admin/knox-capture/how-to-guides/export-and-deploy-configuration', 'project': 'KCAP', 'last_updated': '2023-07-26', 'id': '18cea910-3789-41f8-b3c0-0d45c9c7ef93'}\n",
      "18cea910-3789-41f8-b3c0-0d45c9c7ef93\n",
      "1 {'source': 'all_processed_data.json', 'seq_num': 14, 'title': 'Export and deploy configuration', 'url': 'https://docs.samsungknox.com/admin/knox-capture/how-to-guides/export-and-deploy-configuration', 'project': 'KCAP', 'last_updated': '2023-07-26', 'id': '631d288a-128d-4eba-80c0-79508de02adb'}\n",
      "631d288a-128d-4eba-80c0-79508de02adb\n",
      "2 {'source': 'all_processed_data.json', 'seq_num': 29, 'title': 'Knox Capture v1.2 release notes', 'url': 'https://docs.samsungknox.com/admin/knox-capture/release-notes/v1-2', 'project': 'KCAP', 'last_updated': '2023-07-26', 'id': '961bd03a-562c-441a-817b-93d387ec81f4'}\n",
      "961bd03a-562c-441a-817b-93d387ec81f4\n",
      "3 {'source': 'all_processed_data.json', 'seq_num': 14, 'title': 'Export and deploy configuration', 'url': 'https://docs.samsungknox.com/admin/knox-capture/how-to-guides/export-and-deploy-configuration', 'project': 'KCAP', 'last_updated': '2023-07-26', 'id': '11ebdbfe-b05f-40d8-9412-4af3af3b3362'}\n",
      "11ebdbfe-b05f-40d8-9412-4af3af3b3362\n",
      "4 {'source': 'all_processed_data.json', 'seq_num': 11, 'title': 'Configure scan engine settings', 'url': 'https://docs.samsungknox.com/admin/knox-capture/how-to-guides/configure-scan-engine-settings', 'project': 'KCAP', 'last_updated': '2023-10-16', 'id': 'f73c0079-5e64-406b-a82c-f69d3de26009'}\n",
      "f73c0079-5e64-406b-a82c-f69d3de26009\n",
      "0 {'source': 'all_processed_data.json', 'seq_num': 17, 'title': 'Use intent output', 'url': 'https://docs.samsungknox.com/admin/knox-capture/how-to-guides/use-intent-output', 'project': 'KCAP', 'last_updated': '2023-07-26', 'id': 'b7ec2405-e2ab-490b-934f-64ac6944d0d5'}\n",
      "b7ec2405-e2ab-490b-934f-64ac6944d0d5\n",
      "1 {'source': 'all_processed_data.json', 'seq_num': 17, 'title': 'Use intent output', 'url': 'https://docs.samsungknox.com/admin/knox-capture/how-to-guides/use-intent-output', 'project': 'KCAP', 'last_updated': '2023-07-26', 'id': 'd527a634-9b44-4a2a-90fa-79c3130bb5f0'}\n",
      "d527a634-9b44-4a2a-90fa-79c3130bb5f0\n",
      "2 {'source': 'all_processed_data.json', 'seq_num': 17, 'title': 'Use intent output', 'url': 'https://docs.samsungknox.com/admin/knox-capture/how-to-guides/use-intent-output', 'project': 'KCAP', 'last_updated': '2023-07-26', 'id': 'efd8716d-66fd-4714-bd9c-7d05e101f7aa'}\n",
      "efd8716d-66fd-4714-bd9c-7d05e101f7aa\n",
      "3 {'source': 'all_processed_data.json', 'seq_num': 17, 'title': 'Use intent output', 'url': 'https://docs.samsungknox.com/admin/knox-capture/how-to-guides/use-intent-output', 'project': 'KCAP', 'last_updated': '2023-07-26', 'id': '67dcdb1e-8f8d-49a2-8a32-b8379b75854e'}\n",
      "67dcdb1e-8f8d-49a2-8a32-b8379b75854e\n",
      "4 {'source': 'all_processed_data.json', 'seq_num': 17, 'title': 'Use intent output', 'url': 'https://docs.samsungknox.com/admin/knox-capture/how-to-guides/use-intent-output', 'project': 'KCAP', 'last_updated': '2023-07-26', 'id': '699fa7d8-33fc-4dbb-818a-e1612697fb4a'}\n",
      "699fa7d8-33fc-4dbb-818a-e1612697fb4a\n",
      "0 {'source': 'all_processed_data.json', 'seq_num': 17, 'title': 'Use intent output', 'url': 'https://docs.samsungknox.com/admin/knox-capture/how-to-guides/use-intent-output', 'project': 'KCAP', 'last_updated': '2023-07-26', 'id': 'b7ec2405-e2ab-490b-934f-64ac6944d0d5'}\n",
      "b7ec2405-e2ab-490b-934f-64ac6944d0d5\n",
      "1 {'source': 'all_processed_data.json', 'seq_num': 17, 'title': 'Use intent output', 'url': 'https://docs.samsungknox.com/admin/knox-capture/how-to-guides/use-intent-output', 'project': 'KCAP', 'last_updated': '2023-07-26', 'id': '41478db6-b1e3-471b-88bd-4c5613067643'}\n",
      "41478db6-b1e3-471b-88bd-4c5613067643\n",
      "2 {'source': 'all_processed_data.json', 'seq_num': 17, 'title': 'Use intent output', 'url': 'https://docs.samsungknox.com/admin/knox-capture/how-to-guides/use-intent-output', 'project': 'KCAP', 'last_updated': '2023-07-26', 'id': 'efd8716d-66fd-4714-bd9c-7d05e101f7aa'}\n",
      "efd8716d-66fd-4714-bd9c-7d05e101f7aa\n",
      "3 {'source': 'all_processed_data.json', 'seq_num': 17, 'title': 'Use intent output', 'url': 'https://docs.samsungknox.com/admin/knox-capture/how-to-guides/use-intent-output', 'project': 'KCAP', 'last_updated': '2023-07-26', 'id': 'd527a634-9b44-4a2a-90fa-79c3130bb5f0'}\n",
      "d527a634-9b44-4a2a-90fa-79c3130bb5f0\n",
      "4 {'source': 'all_processed_data.json', 'seq_num': 17, 'title': 'Use intent output', 'url': 'https://docs.samsungknox.com/admin/knox-capture/how-to-guides/use-intent-output', 'project': 'KCAP', 'last_updated': '2023-07-26', 'id': '67dcdb1e-8f8d-49a2-8a32-b8379b75854e'}\n",
      "67dcdb1e-8f8d-49a2-8a32-b8379b75854e\n",
      "0 {'source': 'all_processed_data.json', 'seq_num': 17, 'title': 'Use intent output', 'url': 'https://docs.samsungknox.com/admin/knox-capture/how-to-guides/use-intent-output', 'project': 'KCAP', 'last_updated': '2023-07-26', 'id': '699fa7d8-33fc-4dbb-818a-e1612697fb4a'}\n",
      "699fa7d8-33fc-4dbb-818a-e1612697fb4a\n",
      "1 {'source': 'all_processed_data.json', 'seq_num': 17, 'title': 'Use intent output', 'url': 'https://docs.samsungknox.com/admin/knox-capture/how-to-guides/use-intent-output', 'project': 'KCAP', 'last_updated': '2023-07-26', 'id': '67dcdb1e-8f8d-49a2-8a32-b8379b75854e'}\n",
      "67dcdb1e-8f8d-49a2-8a32-b8379b75854e\n",
      "2 {'source': 'all_processed_data.json', 'seq_num': 17, 'title': 'Use intent output', 'url': 'https://docs.samsungknox.com/admin/knox-capture/how-to-guides/use-intent-output', 'project': 'KCAP', 'last_updated': '2023-07-26', 'id': 'b7ec2405-e2ab-490b-934f-64ac6944d0d5'}\n",
      "b7ec2405-e2ab-490b-934f-64ac6944d0d5\n",
      "3 {'source': 'all_processed_data.json', 'seq_num': 17, 'title': 'Use intent output', 'url': 'https://docs.samsungknox.com/admin/knox-capture/how-to-guides/use-intent-output', 'project': 'KCAP', 'last_updated': '2023-07-26', 'id': '41478db6-b1e3-471b-88bd-4c5613067643'}\n",
      "41478db6-b1e3-471b-88bd-4c5613067643\n",
      "4 {'source': 'all_processed_data.json', 'seq_num': 17, 'title': 'Use intent output', 'url': 'https://docs.samsungknox.com/admin/knox-capture/how-to-guides/use-intent-output', 'project': 'KCAP', 'last_updated': '2023-07-26', 'id': 'efd8716d-66fd-4714-bd9c-7d05e101f7aa'}\n",
      "efd8716d-66fd-4714-bd9c-7d05e101f7aa\n",
      "0 {'source': 'all_processed_data.json', 'seq_num': 17, 'title': 'Use intent output', 'url': 'https://docs.samsungknox.com/admin/knox-capture/how-to-guides/use-intent-output', 'project': 'KCAP', 'last_updated': '2023-07-26', 'id': 'd527a634-9b44-4a2a-90fa-79c3130bb5f0'}\n",
      "d527a634-9b44-4a2a-90fa-79c3130bb5f0\n",
      "1 {'source': 'all_processed_data.json', 'seq_num': 17, 'title': 'Use intent output', 'url': 'https://docs.samsungknox.com/admin/knox-capture/how-to-guides/use-intent-output', 'project': 'KCAP', 'last_updated': '2023-07-26', 'id': '699fa7d8-33fc-4dbb-818a-e1612697fb4a'}\n",
      "699fa7d8-33fc-4dbb-818a-e1612697fb4a\n",
      "2 {'source': 'all_processed_data.json', 'seq_num': 17, 'title': 'Use intent output', 'url': 'https://docs.samsungknox.com/admin/knox-capture/how-to-guides/use-intent-output', 'project': 'KCAP', 'last_updated': '2023-07-26', 'id': '41478db6-b1e3-471b-88bd-4c5613067643'}\n",
      "41478db6-b1e3-471b-88bd-4c5613067643\n",
      "3 {'source': 'all_processed_data.json', 'seq_num': 17, 'title': 'Use intent output', 'url': 'https://docs.samsungknox.com/admin/knox-capture/how-to-guides/use-intent-output', 'project': 'KCAP', 'last_updated': '2023-07-26', 'id': '67dcdb1e-8f8d-49a2-8a32-b8379b75854e'}\n",
      "67dcdb1e-8f8d-49a2-8a32-b8379b75854e\n",
      "4 {'source': 'all_processed_data.json', 'seq_num': 17, 'title': 'Use intent output', 'url': 'https://docs.samsungknox.com/admin/knox-capture/how-to-guides/use-intent-output', 'project': 'KCAP', 'last_updated': '2023-07-26', 'id': 'b7ec2405-e2ab-490b-934f-64ac6944d0d5'}\n",
      "b7ec2405-e2ab-490b-934f-64ac6944d0d5\n",
      "0 {'source': 'all_processed_data.json', 'seq_num': 18, 'title': 'Use scanner overlay', 'url': 'https://docs.samsungknox.com/admin/knox-capture/how-to-guides/use-scanner-overlay', 'project': 'KCAP', 'last_updated': '2023-07-26', 'id': '4fb2c13c-8d37-46e3-bff2-90cfb13b752f'}\n",
      "4fb2c13c-8d37-46e3-bff2-90cfb13b752f\n",
      "1 {'source': 'all_processed_data.json', 'seq_num': 18, 'title': 'Use scanner overlay', 'url': 'https://docs.samsungknox.com/admin/knox-capture/how-to-guides/use-scanner-overlay', 'project': 'KCAP', 'last_updated': '2023-07-26', 'id': 'd37811ff-252c-4c0e-a5d8-6e7fbfe67447'}\n",
      "d37811ff-252c-4c0e-a5d8-6e7fbfe67447\n",
      "2 {'source': 'all_processed_data.json', 'seq_num': 32, 'title': 'Knox Capture v1.5 release notes', 'url': 'https://docs.samsungknox.com/admin/knox-capture/release-notes/v1-5', 'project': 'KCAP', 'last_updated': '2023-07-26', 'id': '55465a10-77ed-4cbb-b90b-9c5ea41ff61d'}\n",
      "55465a10-77ed-4cbb-b90b-9c5ea41ff61d\n",
      "3 {'source': 'all_processed_data.json', 'seq_num': 16, 'title': 'Set scan trigger', 'url': 'https://docs.samsungknox.com/admin/knox-capture/how-to-guides/set-scan-trigger', 'project': 'KCAP', 'last_updated': '2023-07-26', 'id': '8b99ac21-3467-4601-ac4d-184a61fb0fc4'}\n",
      "8b99ac21-3467-4601-ac4d-184a61fb0fc4\n",
      "4 {'source': 'all_processed_data.json', 'seq_num': 16, 'title': 'Set scan trigger', 'url': 'https://docs.samsungknox.com/admin/knox-capture/how-to-guides/set-scan-trigger', 'project': 'KCAP', 'last_updated': '2023-07-26', 'id': 'f406150b-ee6c-4d95-b2c0-2039bb563e70'}\n",
      "f406150b-ee6c-4d95-b2c0-2039bb563e70\n",
      "0 {'source': 'all_processed_data.json', 'seq_num': 18, 'title': 'Use scanner overlay', 'url': 'https://docs.samsungknox.com/admin/knox-capture/how-to-guides/use-scanner-overlay', 'project': 'KCAP', 'last_updated': '2023-07-26', 'id': '4fb2c13c-8d37-46e3-bff2-90cfb13b752f'}\n",
      "4fb2c13c-8d37-46e3-bff2-90cfb13b752f\n",
      "1 {'source': 'all_processed_data.json', 'seq_num': 18, 'title': 'Use scanner overlay', 'url': 'https://docs.samsungknox.com/admin/knox-capture/how-to-guides/use-scanner-overlay', 'project': 'KCAP', 'last_updated': '2023-07-26', 'id': 'd37811ff-252c-4c0e-a5d8-6e7fbfe67447'}\n",
      "d37811ff-252c-4c0e-a5d8-6e7fbfe67447\n",
      "2 {'source': 'all_processed_data.json', 'seq_num': 32, 'title': 'Knox Capture v1.5 release notes', 'url': 'https://docs.samsungknox.com/admin/knox-capture/release-notes/v1-5', 'project': 'KCAP', 'last_updated': '2023-07-26', 'id': '55465a10-77ed-4cbb-b90b-9c5ea41ff61d'}\n",
      "55465a10-77ed-4cbb-b90b-9c5ea41ff61d\n",
      "3 {'source': 'all_processed_data.json', 'seq_num': 7, 'title': 'End-user get started', 'url': 'https://docs.samsungknox.com/admin/knox-capture/get-started/end-user-tutorial', 'project': 'KCAP', 'last_updated': '2023-07-26', 'id': '1494bb28-afd4-4a68-9384-e38539671314'}\n",
      "1494bb28-afd4-4a68-9384-e38539671314\n",
      "4 {'source': 'all_processed_data.json', 'seq_num': 12, 'title': 'Connect HW scanner', 'url': 'https://docs.samsungknox.com/admin/knox-capture/how-to-guides/connect-hw-scanner', 'project': 'KCAP', 'last_updated': '2023-07-26', 'id': 'db9acc79-5ef0-46b9-80b4-116c51785b60'}\n",
      "db9acc79-5ef0-46b9-80b4-116c51785b60\n",
      "0 {'source': 'all_processed_data.json', 'seq_num': 19, 'title': 'Use test mode', 'url': 'https://docs.samsungknox.com/admin/knox-capture/how-to-guides/use-test-mode', 'project': 'KCAP', 'last_updated': '2023-07-26', 'id': '4379a652-2d4e-4e89-b3e5-015e04ff9db5'}\n",
      "4379a652-2d4e-4e89-b3e5-015e04ff9db5\n",
      "1 {'source': 'all_processed_data.json', 'seq_num': 6, 'title': 'Admin get started', 'url': 'https://docs.samsungknox.com/admin/knox-capture/get-started/admin-tutorial', 'project': 'KCAP', 'last_updated': '2023-07-26', 'id': '70a3b623-b27d-4123-b8d8-d2e18e635fd2'}\n",
      "70a3b623-b27d-4123-b8d8-d2e18e635fd2\n",
      "2 {'source': 'all_processed_data.json', 'seq_num': 17, 'title': 'Use intent output', 'url': 'https://docs.samsungknox.com/admin/knox-capture/how-to-guides/use-intent-output', 'project': 'KCAP', 'last_updated': '2023-07-26', 'id': 'b38831f9-d03b-4d55-b3b6-dfe12a27bd87'}\n",
      "b38831f9-d03b-4d55-b3b6-dfe12a27bd87\n",
      "3 {'source': 'all_processed_data.json', 'seq_num': 6, 'title': 'Admin get started', 'url': 'https://docs.samsungknox.com/admin/knox-capture/get-started/admin-tutorial', 'project': 'KCAP', 'last_updated': '2023-07-26', 'id': '92d7a4e6-e05d-4af7-b7bd-d3813fb94481'}\n",
      "92d7a4e6-e05d-4af7-b7bd-d3813fb94481\n",
      "4 {'source': 'all_processed_data.json', 'seq_num': 3, 'title': 'Overview', 'url': 'https://docs.samsungknox.com/admin/knox-capture/overview', 'project': 'KCAP', 'last_updated': '2023-07-26', 'id': 'f06c3777-911b-4dc0-a2e4-9b44398effe4'}\n",
      "f06c3777-911b-4dc0-a2e4-9b44398effe4\n"
     ]
    },
    {
     "name": "stderr",
     "output_type": "stream",
     "text": [
      "\n",
      "KeyboardInterrupt\n",
      "\n"
     ]
    }
   ],
   "source": [
    "evaluation = []\n",
    "for idx, row in enumerate(ground_thruth.itertuples()):\n",
    "    question, answer, doc, doc_id = getattr(row, \"question\"), getattr(row, \"answer\"), getattr(row, \"doc\"), getattr(row, \"doc_id\")\n",
    "\n",
    "    start = time.time()\n",
    "    response = qa_chain(question)\n",
    "    elapsed = time.time() - start\n",
    "\n",
    "    prediction = response[\"result\"]\n",
    "    \n",
    "    # for idx, doc_ in enumerate(response[\"source_documents\"]):\n",
    "    #     print (idx, doc_.metadata)\n",
    "    #     print (doc_.metadata[\"id\"])\n",
    "                              \n",
    "    retrieved_docs = {doc.page_content: idx+1 for idx, doc in enumerate(response[\"source_documents\"])}\n",
    "    contexts = \"\\n\\n\".join(retrieved_docs.keys())\n",
    "\n",
    "    payload = json.dumps(\n",
    "        {\n",
    "            \"inputs\": [\n",
    "                {\"text\": answer, \"text_pair\": prediction},\n",
    "            ]\n",
    "        }\n",
    "    )\n",
    "\n",
    "    response = runtime_client.invoke_endpoint(\n",
    "        EndpointName=endpoint_name,\n",
    "        ContentType=\"application/json\",\n",
    "        Accept=\"application/json\",\n",
    "        Body=payload\n",
    "    )\n",
    "    out = json.loads(response['Body'].read().decode()) ## for json\n",
    "\n",
    "    eval_result = evaluator.evaluate_strings(\n",
    "        input=question,\n",
    "        prediction=prediction,\n",
    "        reference=answer,\n",
    "    )\n",
    "\n",
    "    reranker_sim = out[0][\"score\"]\n",
    "    langchain_correctness = eval_result[\"score\"]\n",
    "    if doc in retrieved_docs:\n",
    "        true_context_rank = retrieved_docs[doc]\n",
    "        has_right_context = 1\n",
    "        mrr = 1/true_context_rank\n",
    "    else:\n",
    "        true_context_rank = has_right_context = 0\n",
    "        mrr = 0\n",
    "    total_contexts = len(retrieved_docs)\n",
    "    latency = datetime.timedelta(seconds=elapsed)\n",
    "\n",
    "    print(idx)\n",
    "    print(colored(\"Question: \", \"red\"), colored(question, \"red\"))\n",
    "    print(colored(\"GroundTruth: \", \"green\"), colored(answer, \"green\"))\n",
    "    print(colored(\"Prediction: \", \"blue\"), colored(prediction, \"blue\"))\n",
    "    print(f'ReRanker similarity: {reranker_sim}')\n",
    "    print(f'Langchain correctness: {langchain_correctness}')\n",
    "    print(f'has_right_context: {has_right_context}')\n",
    "    print(f'true_context_rank: {true_context_rank}/{total_contexts}')\n",
    "    print(f'mrr: {mrr:.3f}')\n",
    "    print(f'latency: {latency} secs')\n",
    "\n",
    "    evaluation.append([question, answer, prediction, \\\n",
    "                       has_right_context, true_context_rank, total_contexts, mrr, \\\n",
    "                       reranker_sim, langchain_correctness, elapsed, contexts])\n",
    "\n",
    "eval_results = pd.DataFrame(\n",
    "    evaluation,\n",
    "    columns=[\"question\", \"true_answer\", \"prediction\", \\\n",
    "             \"has_right_context\", \"true_context_rank\", \"total_contexts\", \"mrr\", \\\n",
    "             \"reranker_sim\", \"langchain_correctness\", \"latency\", \"contexts\"]\n",
    ")\n",
    "eval_results.to_csv(\"eval_results_hyde.csv\", index=False)\n",
    "#eval_results.to_pickle(\"eval_results.pkl\")"
   ]
  },
  {
   "cell_type": "code",
   "execution_count": null,
   "id": "18453fe8-ad5b-47f3-bdbc-d3107346f56a",
   "metadata": {},
   "outputs": [],
   "source": []
  }
 ],
 "metadata": {
  "kernelspec": {
   "display_name": "conda_python3",
   "language": "python",
   "name": "conda_python3"
  },
  "language_info": {
   "codemirror_mode": {
    "name": "ipython",
    "version": 3
   },
   "file_extension": ".py",
   "mimetype": "text/x-python",
   "name": "python",
   "nbconvert_exporter": "python",
   "pygments_lexer": "ipython3",
   "version": "3.10.12"
  }
 },
 "nbformat": 4,
 "nbformat_minor": 5
}
