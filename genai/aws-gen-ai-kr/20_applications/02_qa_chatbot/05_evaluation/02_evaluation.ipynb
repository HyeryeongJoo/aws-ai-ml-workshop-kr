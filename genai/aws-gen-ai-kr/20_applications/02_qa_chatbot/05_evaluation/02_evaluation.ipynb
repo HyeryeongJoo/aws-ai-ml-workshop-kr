{
 "cells": [
  {
   "cell_type": "markdown",
   "id": "b3549227-a8fc-473d-af32-6bf3aee353b2",
   "metadata": {},
   "source": [
    "# Evaluation\n",
    "- For retriever\n",
    "- For generator"
   ]
  },
  {
   "cell_type": "markdown",
   "id": "bd731477-d5aa-4f55-878d-9d38a7e37019",
   "metadata": {},
   "source": [
    "## Setting\n",
    " - Auto Reload\n",
    " - path for utils"
   ]
  },
  {
   "cell_type": "code",
   "execution_count": 1,
   "id": "e72acb41-2495-4835-8e8b-3e5bb5f703b4",
   "metadata": {
    "tags": []
   },
   "outputs": [],
   "source": [
    "%load_ext autoreload\n",
    "%autoreload 2"
   ]
  },
  {
   "cell_type": "code",
   "execution_count": 2,
   "id": "bd4c2205-9b56-4ac9-977d-e00a00daab38",
   "metadata": {
    "tags": []
   },
   "outputs": [],
   "source": [
    "import sys, os\n",
    "module_path = \"../../..\"\n",
    "sys.path.append(os.path.abspath(module_path))"
   ]
  },
  {
   "cell_type": "markdown",
   "id": "01670eb4-8f19-497d-837e-d9788e0a05f3",
   "metadata": {},
   "source": [
    "## 1. Bedrock Client 생성"
   ]
  },
  {
   "cell_type": "code",
   "execution_count": 3,
   "id": "1f9dcbdc-0667-4bff-afcf-0c4b5ace273b",
   "metadata": {
    "tags": []
   },
   "outputs": [],
   "source": [
    "import json\n",
    "import boto3\n",
    "from pprint import pprint\n",
    "from termcolor import colored\n",
    "from utils import bedrock, print_ww\n",
    "from utils.bedrock import bedrock_info"
   ]
  },
  {
   "cell_type": "markdown",
   "id": "259021cc-1d69-458e-879c-80076fc57c64",
   "metadata": {},
   "source": [
    "### ---- ⚠️ Un-comment and edit the below lines as needed for your AWS setup ⚠️ ----\n",
    "- os.environ[\"AWS_DEFAULT_REGION\"] = \"<REGION_NAME>\"  # E.g. \"us-east-1\"\n",
    "- os.environ[\"AWS_PROFILE\"] = \"<YOUR_PROFILE>\"\n",
    "- os.environ[\"BEDROCK_ASSUME_ROLE\"] = \"<YOUR_ROLE_ARN>\"  # E.g. \"arn:aws:...\"\n",
    "- os.environ[\"BEDROCK_ENDPOINT_URL\"] = \"<YOUR_ENDPOINT_URL>\"  # E.g. \"https://...\""
   ]
  },
  {
   "cell_type": "code",
   "execution_count": 4,
   "id": "9fde1bf1-d608-46ef-969e-40fe49b77ec5",
   "metadata": {
    "tags": []
   },
   "outputs": [
    {
     "name": "stdout",
     "output_type": "stream",
     "text": [
      "Create new client\n",
      "  Using region: None\n",
      "  Using profile: None\n",
      "boto3 Bedrock client successfully created!\n",
      "bedrock-runtime(https://bedrock-runtime.us-east-1.amazonaws.com)\n",
      "\u001b[32m\n",
      "== FM lists ==\u001b[0m\n",
      "{'Claude-Instant-V1': 'anthropic.claude-instant-v1',\n",
      " 'Claude-V1': 'anthropic.claude-v1',\n",
      " 'Claude-V2': 'anthropic.claude-v2',\n",
      " 'Cohere-Embeddings-En': 'cohere.embed-english-v3',\n",
      " 'Cohere-Embeddings-Multilingual': 'cohere.embed-multilingual-v3',\n",
      " 'Command': 'cohere.command-text-v14',\n",
      " 'Command-Light': 'cohere.command-light-text-v14',\n",
      " 'Jurassic-2-Mid': 'ai21.j2-mid-v1',\n",
      " 'Jurassic-2-Ultra': 'ai21.j2-ultra-v1',\n",
      " 'Llama2-13b-Chat': 'meta.llama2-13b-chat-v1',\n",
      " 'Titan-Embeddings-G1': 'amazon.titan-embed-text-v1',\n",
      " 'Titan-Text-G1': 'amazon.titan-text-express-v1',\n",
      " 'Titan-Text-G1-Light': 'amazon.titan-text-lite-v1'}\n"
     ]
    }
   ],
   "source": [
    "boto3_bedrock = bedrock.get_bedrock_client(\n",
    "    assumed_role=os.environ.get(\"BEDROCK_ASSUME_ROLE\", None),\n",
    "    endpoint_url=os.environ.get(\"BEDROCK_ENDPOINT_URL\", None),\n",
    "    region=os.environ.get(\"AWS_DEFAULT_REGION\", None),\n",
    ")\n",
    "\n",
    "aws_region = os.environ.get(\"AWS_DEFAULT_REGION\", None)\n",
    "print (colored(\"\\n== FM lists ==\", \"green\"))\n",
    "pprint (bedrock_info.get_list_fm_models())"
   ]
  },
  {
   "cell_type": "markdown",
   "id": "100a9b99-f66d-4447-805d-c29ee9f88c4f",
   "metadata": {},
   "source": [
    "## 2. Titan Embedding 및 LLM 인 Claude-v2 모델 로딩"
   ]
  },
  {
   "cell_type": "markdown",
   "id": "c84c0aea-2d43-493a-9538-648e5a453220",
   "metadata": {},
   "source": [
    "### LLM 로딩 (Claude-v2)"
   ]
  },
  {
   "cell_type": "code",
   "execution_count": 5,
   "id": "32924f36-0b17-4792-b382-92867c566e50",
   "metadata": {
    "tags": []
   },
   "outputs": [],
   "source": [
    "from langchain.llms.bedrock import Bedrock\n",
    "from langchain.callbacks.streaming_stdout import StreamingStdOutCallbackHandler"
   ]
  },
  {
   "cell_type": "code",
   "execution_count": 6,
   "id": "6fc13fa9-0452-4fbe-b07b-a54f1833655d",
   "metadata": {
    "tags": []
   },
   "outputs": [],
   "source": [
    "llm_text = Bedrock(\n",
    "    model_id=bedrock_info.get_model_id(model_name=\"Claude-V2\"),\n",
    "    client=boto3_bedrock,\n",
    "    model_kwargs={\n",
    "        \"max_tokens_to_sample\": 512\n",
    "    },\n",
    "    streaming=False,\n",
    "    callbacks=[StreamingStdOutCallbackHandler()]\n",
    ")\n",
    "\n",
    "llm_text_light = Bedrock(\n",
    "    model_id=bedrock_info.get_model_id(model_name=\"Claude-Instant-V1\"),\n",
    "    client=boto3_bedrock,\n",
    "    model_kwargs={\n",
    "        \"max_tokens_to_sample\": 512\n",
    "    },\n",
    "    streaming=False,\n",
    "    callbacks=[StreamingStdOutCallbackHandler()]\n",
    ")"
   ]
  },
  {
   "cell_type": "markdown",
   "id": "0ac056c9-e2ad-496e-b38a-d739724202a4",
   "metadata": {},
   "source": [
    "### Embedding 모델 선택"
   ]
  },
  {
   "cell_type": "code",
   "execution_count": 7,
   "id": "061dcf18-4681-4f16-bfa3-c76d717f307f",
   "metadata": {
    "tags": []
   },
   "outputs": [],
   "source": [
    "from utils.rag import KoSimCSERobertaContentHandler, SagemakerEndpointEmbeddingsJumpStart"
   ]
  },
  {
   "cell_type": "code",
   "execution_count": 8,
   "id": "d85536e9-3416-4f7a-96a4-c539a6a5596f",
   "metadata": {
    "tags": []
   },
   "outputs": [],
   "source": [
    "def get_embedding_model(is_bedrock_embeddings, is_KoSimCSERobert, aws_region, endpont_name=None):\n",
    "\n",
    "    if is_bedrock_embeddings:\n",
    "        # We will be using the Titan Embeddings Model to generate our Embeddings.\n",
    "        from langchain.embeddings import BedrockEmbeddings\n",
    "        llm_emb = BedrockEmbeddings(\n",
    "            client=boto3_bedrock,\n",
    "            model_id=bedrock_info.get_model_id(\n",
    "                model_name=\"Titan-Embeddings-G1\"\n",
    "                #model_name=\"Cohere-Embeddings-En\"\n",
    "            )\n",
    "        )\n",
    "        print(\"Bedrock Embeddings Model Loaded\")\n",
    "\n",
    "    elif is_KoSimCSERobert:\n",
    "        LLMEmbHandler = KoSimCSERobertaContentHandler()\n",
    "        endpoint_name_emb = endpont_name\n",
    "        llm_emb = SagemakerEndpointEmbeddingsJumpStart(\n",
    "            endpoint_name=endpoint_name_emb,\n",
    "            region_name=aws_region,\n",
    "            content_handler=LLMEmbHandler,\n",
    "        )\n",
    "        print(\"KoSimCSERobert Embeddings Model Loaded\")\n",
    "    else:\n",
    "        llm_emb = None\n",
    "        print(\"No Embedding Model Selected\")\n",
    "\n",
    "    return llm_emb"
   ]
  },
  {
   "cell_type": "markdown",
   "id": "83000f64-5855-45ee-b736-eb96e9ff0739",
   "metadata": {},
   "source": [
    "#### [중요] is_KoSimCSERobert == True 일시에 endpoint_name 을 꼭 넣어 주세요."
   ]
  },
  {
   "cell_type": "code",
   "execution_count": 9,
   "id": "dbbec6da-798a-419b-9e4e-b1cc417cfbfa",
   "metadata": {
    "tags": []
   },
   "outputs": [
    {
     "name": "stdout",
     "output_type": "stream",
     "text": [
      "Bedrock Embeddings Model Loaded\n"
     ]
    }
   ],
   "source": [
    "is_bedrock_embeddings = True\n",
    "is_KoSimCSERobert = False\n",
    "aws_region = os.environ.get(\"AWS_DEFAULT_REGION\", None)\n",
    "\n",
    "##############################\n",
    "# Parameters for is_KoSimCSERobert\n",
    "##############################\n",
    "if is_KoSimCSERobert: endpont_name = \"<endpoint-name>\"\n",
    "else: endpont_name = None\n",
    "##############################\n",
    "\n",
    "llm_emb = get_embedding_model(is_bedrock_embeddings, is_KoSimCSERobert, aws_region, endpont_name)   "
   ]
  },
  {
   "cell_type": "markdown",
   "id": "b69eff24-6ac7-4500-b5eb-9039fbe38c9f",
   "metadata": {},
   "source": [
    "## 3. Depoly ReRanker model (if needed)"
   ]
  },
  {
   "cell_type": "code",
   "execution_count": 10,
   "id": "f364b91e-b186-4920-aeca-857a34665a11",
   "metadata": {
    "tags": []
   },
   "outputs": [
    {
     "name": "stdout",
     "output_type": "stream",
     "text": [
      "sagemaker.config INFO - Not applying SDK defaults from location: /etc/xdg/sagemaker/config.yaml\n",
      "sagemaker.config INFO - Not applying SDK defaults from location: /home/ec2-user/.config/sagemaker/config.yaml\n"
     ]
    }
   ],
   "source": [
    "import json\n",
    "import sagemaker\n",
    "from sagemaker.huggingface import HuggingFaceModel"
   ]
  },
  {
   "cell_type": "code",
   "execution_count": 11,
   "id": "1d32b1f5-289b-4ba8-baa9-765501ef5b0e",
   "metadata": {
    "tags": []
   },
   "outputs": [],
   "source": [
    "depoly = False"
   ]
  },
  {
   "cell_type": "code",
   "execution_count": 12,
   "id": "9e73ea11-7dea-41b2-98fb-85de4e2851db",
   "metadata": {
    "tags": []
   },
   "outputs": [],
   "source": [
    "if depoly:\n",
    "\n",
    "    try:\n",
    "        role = sagemaker.get_execution_role()\n",
    "    except ValueError:\n",
    "        iam = boto3.client('iam')\n",
    "        role = iam.get_role(RoleName='sagemaker_execution_role')['Role']['Arn']\n",
    "\n",
    "    # Hub Model configuration. https://huggingface.co/models\n",
    "    hub = {\n",
    "        'HF_MODEL_ID':'BAAI/bge-reranker-large',\n",
    "        'HF_TASK':'text-classification'\n",
    "    }\n",
    "\n",
    "    # create Hugging Face Model Class\n",
    "    huggingface_model = HuggingFaceModel(\n",
    "        transformers_version='4.26.0',\n",
    "        pytorch_version='1.13.1',\n",
    "        py_version='py39',\n",
    "        env=hub,\n",
    "        role=role, \n",
    "    )\n",
    "\n",
    "    # deploy model to SageMaker Inference\n",
    "    predictor = huggingface_model.deploy(\n",
    "        initial_instance_count=1, # number of instances\n",
    "        instance_type='ml.g5.xlarge' # instance type\n",
    "    )\n",
    "\n",
    "    print(f'Accept: {predictor.accept}')\n",
    "    print(f'ContentType: {predictor.content_type}')\n",
    "    print(f'Endpoint: {predictor.endpoint}')"
   ]
  },
  {
   "cell_type": "markdown",
   "id": "a953ea43-3337-4300-8833-ec4b38840822",
   "metadata": {},
   "source": [
    "### Reranker"
   ]
  },
  {
   "cell_type": "code",
   "execution_count": 13,
   "id": "f0f90b69-27bb-412b-ba0a-2e2d768e92a0",
   "metadata": {
    "tags": []
   },
   "outputs": [],
   "source": [
    "#endpoint_name = \"huggingface-pytorch-inference-2023-11-15-04-37-45-120\" # ml.m5.2xlarge\n",
    "endpoint_name = \"huggingface-pytorch-inference-2023-11-15-07-53-21-605\" # ml.g5.xlarge"
   ]
  },
  {
   "cell_type": "code",
   "execution_count": 14,
   "id": "cd07db04-6140-4516-a279-bfc1a14cee7f",
   "metadata": {
    "tags": []
   },
   "outputs": [
    {
     "name": "stdout",
     "output_type": "stream",
     "text": [
      "runtime_client: <botocore.client.SageMakerRuntime object at 0x7f97e92959f0>\n"
     ]
    }
   ],
   "source": [
    "runtime_client = boto3.Session().client('sagemaker-runtime')\n",
    "print (f'runtime_client: {runtime_client}')"
   ]
  },
  {
   "cell_type": "markdown",
   "id": "a14dee0e-7a7d-48c3-94ff-90db1cf89daf",
   "metadata": {},
   "source": [
    "## 4. LangChainmOpenSearch VectorStore 정의\n",
    "### 선수 조건\n",
    "- 01_preprocess_docs/02_load_docs_opensearch.ipynb를 통해서 OpenSearch Index 가 생성이 되어 있어야 합니다.\n",
    "#### [중요] 아래에 aws parameter store 에 아래 인증정보가 먼저 입력되어 있어야 합니다.\n",
    "- 01_preprocess_docs/01_parameter_store_example.ipynb 참고"
   ]
  },
  {
   "cell_type": "code",
   "execution_count": 15,
   "id": "d85af7d2-6b71-4125-8ba4-fa15406f5c3f",
   "metadata": {
    "tags": []
   },
   "outputs": [],
   "source": [
    "from utils.proc_docs import get_parameter"
   ]
  },
  {
   "cell_type": "code",
   "execution_count": 16,
   "id": "8b29f46c-154b-41fe-ab1a-d34af0a73b39",
   "metadata": {
    "tags": []
   },
   "outputs": [],
   "source": [
    "ssm = boto3.client(\"ssm\", \"us-east-1\")\n",
    "\n",
    "opensearch_domain_endpoint = get_parameter(\n",
    "    boto3_clinet = ssm,\n",
    "    parameter_name = 'knox_opensearch_domain_endpoint',\n",
    ")\n",
    "\n",
    "opensearch_user_id = get_parameter(\n",
    "    boto3_clinet = ssm,\n",
    "    parameter_name = 'knox_opensearch_userid',\n",
    ")\n",
    "\n",
    "opensearch_user_password = get_parameter(\n",
    "    boto3_clinet = ssm,\n",
    "    parameter_name = 'knox_opensearch_password',\n",
    ")\n",
    "\n",
    "http_auth = (opensearch_user_id, opensearch_user_password) # Master username, Master password"
   ]
  },
  {
   "cell_type": "markdown",
   "id": "354a0a15-e66c-4fd9-a555-13a15c80f327",
   "metadata": {},
   "source": [
    "### Index 이름 셋팅\n",
    "- 이전 노트북 01_preprocess_docs/02_load_docs_opensearch.ipynb를 통해서 생성된 OpenSearch Index name 입력"
   ]
  },
  {
   "cell_type": "code",
   "execution_count": 17,
   "id": "2bde847e-429f-47fa-87bf-36441a92c401",
   "metadata": {
    "tags": []
   },
   "outputs": [],
   "source": [
    "#index_name = \"v13-genai-poc-knox-titan-eval-sample-0.05-1024c-256o\"\n",
    "index_name = \"v16-genai-poc-knox-eval-parent-doc-retriever\""
   ]
  },
  {
   "cell_type": "markdown",
   "id": "1b5ef81d-27b2-4d64-9e57-0324fc627a2c",
   "metadata": {},
   "source": [
    "### OpenSearch Client 생성"
   ]
  },
  {
   "cell_type": "code",
   "execution_count": 18,
   "id": "a81604ea-e7a0-4256-931e-849fca7be994",
   "metadata": {
    "tags": []
   },
   "outputs": [],
   "source": [
    "from utils.opensearch import opensearch_utils"
   ]
  },
  {
   "cell_type": "code",
   "execution_count": 19,
   "id": "b46578e5-6113-42d4-9e2c-e4446bb4cfca",
   "metadata": {
    "tags": []
   },
   "outputs": [],
   "source": [
    "os_client = opensearch_utils.create_aws_opensearch_client(\n",
    "    aws_region,\n",
    "    opensearch_domain_endpoint,\n",
    "    http_auth\n",
    ")"
   ]
  },
  {
   "cell_type": "markdown",
   "id": "1fa855f1-f8d4-4218-ab77-84d4f5f0238e",
   "metadata": {},
   "source": [
    "### LangChain OpenSearch VectorStore 생성"
   ]
  },
  {
   "cell_type": "code",
   "execution_count": 20,
   "id": "b86443bb-ff05-4bac-a8cf-d708552fbbfb",
   "metadata": {
    "tags": []
   },
   "outputs": [],
   "source": [
    "from langchain.vectorstores import OpenSearchVectorSearch"
   ]
  },
  {
   "cell_type": "code",
   "execution_count": 21,
   "id": "51568769-47a2-42cd-90dd-02469094619b",
   "metadata": {
    "tags": []
   },
   "outputs": [
    {
     "data": {
      "text/plain": [
       "<langchain.vectorstores.opensearch_vector_search.OpenSearchVectorSearch at 0x7f97e85ea3b0>"
      ]
     },
     "execution_count": 21,
     "metadata": {},
     "output_type": "execute_result"
    }
   ],
   "source": [
    "vector_db = OpenSearchVectorSearch(\n",
    "    index_name=index_name,\n",
    "    opensearch_url=opensearch_domain_endpoint,\n",
    "    embedding_function=llm_emb,\n",
    "    http_auth=http_auth, # http_auth\n",
    "    is_aoss =False,\n",
    "    engine=\"faiss\",\n",
    "    space_type=\"l2\"\n",
    ")\n",
    "vector_db"
   ]
  },
  {
   "cell_type": "markdown",
   "id": "d44452ad-1945-4a1a-a18a-fd1f899814bb",
   "metadata": {},
   "source": [
    "## 5. Retriever 정의"
   ]
  },
  {
   "cell_type": "code",
   "execution_count": 22,
   "id": "409937f9-e4f3-4f2f-90a8-9b13641d3700",
   "metadata": {
    "tags": []
   },
   "outputs": [],
   "source": [
    "from utils.rag import OpenSearchHybridSearchRetriever"
   ]
  },
  {
   "cell_type": "code",
   "execution_count": 23,
   "id": "c1606bcd-502c-461b-9458-5e400e97ed92",
   "metadata": {
    "tags": []
   },
   "outputs": [],
   "source": [
    "opensearch_hybrid_retriever = OpenSearchHybridSearchRetriever(\n",
    "    os_client=os_client,\n",
    "    index_name=index_name,\n",
    "    llm_text=llm_text_light, # used in rag_fusion, hyde and reranker(num_tokens)\n",
    "    llm_emb=llm_emb,\n",
    "\n",
    "    # option for lexical\n",
    "    minimum_should_match=0,\n",
    "    filter=[],\n",
    "\n",
    "    # option for rank fusion\n",
    "    fusion_algorithm=\"RRF\", # [\"RRF\", \"simple_weighted\"], rank fusion 방식 정의\n",
    "    ensemble_weights=[.5, .5], # [for lexical, for semantic], Lexical, Semantic search 결과에 대한 최종 반영 비율 정의\n",
    "    reranker=True, # enable reranker with reranker model\n",
    "    reranker_endpoint_name=endpoint_name, # endpoint name for reranking model\n",
    "    #rag_fusion=False, # enable rag_fusion\n",
    "    #query_augmentation_size=3, # query_augmentation_size in rag_fusion\n",
    "\n",
    "    # option for async search\n",
    "    async_mode=True,\n",
    "\n",
    "    # option for output\n",
    "    k=5, # 최종 Document 수 정의\n",
    "    verbose=False,\n",
    ")"
   ]
  },
  {
   "cell_type": "code",
   "execution_count": 24,
   "id": "7333a947-d0d0-41a6-8dcc-adb3d58c2e8e",
   "metadata": {
    "tags": []
   },
   "outputs": [
    {
     "data": {
      "text/plain": [
       "[Document(page_content='What is Knox Suite?. Knox Suite is a bundled offering designed to help enterprise IT admins better manage your fleet of devices. It includes individual services such as Knox Platform for Enterprise, Knox Mobile Enrollment, Knox Manage, Knox E-FOTA, and Knox Asset Intelligence. Key features of Knox Suite include: Secure - Ensure your business data is protected with managed security features at your control. Deploy - Enroll corporate devices to EMM automatically and securely, right out of the box. Manage - Enable comprehensive management over corporate devices and OS versions. Analyze - Strengthen in-depth device analytics for mobile productivity and asset management.', metadata={'source': 'all_processed_data.json', 'seq_num': 74, 'title': ' What is Knox Suite?', 'url': 'https://docs.samsungknox.com/admin/knox-suite/faq/#what-is-knox-suite', 'project': 'KS', 'last_updated': '2023-07-26', 'family_tree': 'parent', 'parent_id': None, 'id': '5c911c77-600b-404f-a343-8a50c44aff9d'}),\n",
       " Document(page_content='Knox Suite. Knox Suite is a bundled offering of Knox solutions for enterprise mobility designed to address organizations\\' needs related to security and management throughout the entire device lifecycle. Learn more about Knox Suite #Audience This document is intended for IT Admins. Understand what\\'s included in Knox Suite and how you can use it to manage, secure, and maintain enterprise devices. Learn where to find information on how to perform various tasks with Knox\"Suite services. About Knox Suite Knox Suite is a bundled offering that includes the following Knox products: Knox Platform for Enterprise - A Knox solution that provides military-grade security to Samsung Android phones, tablets, and Tizen watches for business. Knox Mobile Enrollment - A Knox solution that allows you to enroll thousands of Samsung devices in your EMM at once. When used with a Knox Suite license, Knox Mobile Enrollment provides advanced profiles that offer IT admins additional features such as higher control over locking devices', metadata={'source': 'all_processed_data.json', 'seq_num': 65, 'title': 'Knox Suite', 'url': 'https://docs.samsungknox.com/admin/knox-suite', 'project': 'KS', 'last_updated': '2023-07-26', 'family_tree': 'child', 'parent_id': '31d8f5b8-2ced-4a02-ba10-d8fac3614439', 'id': 'ce4fc71c-7f39-4390-8079-113a7c26a18d'}),\n",
       " Document(page_content='. With Knox E-FOTA, you create a campaign, specify the campaign period, assign devices to that campaign, and select the firmware update to be pushed to those devices during the campaign period. Knox Capture - An Android solution that lets users transform their Samsung Galaxy smartphones and tablets into powerful barcode scanners that can read, process, and output barcode information to other applications, all without requiring additional hardware or writing a single line of code. Knox Authentication Manager - A managed Android app for shared Samsung devices that provides multiuser facial biometrics and sign-in automation for increased frontline worker productivity and safety. With Knox Suite, a single license key allows you to use all included Knox products on your devices. This means that you can use the same Knox Suite license key in multiple Knox service admin portals. Benefits of Knox Suite 1. All-in-one Knox B2B package - An end-to-end solution that covers every step of your enterprise mobility journey 2', metadata={'source': 'all_processed_data.json', 'seq_num': 65, 'title': 'Knox Suite', 'url': 'https://docs.samsungknox.com/admin/knox-suite', 'project': 'KS', 'last_updated': '2023-07-26', 'family_tree': 'child', 'parent_id': '31d8f5b8-2ced-4a02-ba10-d8fac3614439', 'id': 'e81f1b75-c144-4b30-914d-83cd4d28664e'}),\n",
       " Document(page_content='Knox Suite. Knox Suite is a bundled offering of Knox solutions for enterprise mobility designed to address organizations\\' needs related to security and management throughout the entire device lifecycle. Learn more about Knox Suite #Audience This document is intended for IT Admins. Understand what\\'s included in Knox Suite and how you can use it to manage, secure, and maintain enterprise devices. Learn where to find information on how to perform various tasks with Knox\"Suite services. About Knox Suite Knox Suite is a bundled offering that includes the following Knox products: Knox Platform for Enterprise - A Knox solution that provides military-grade security to Samsung Android phones, tablets, and Tizen watches for business. Knox Mobile Enrollment - A Knox solution that allows you to enroll thousands of Samsung devices in your EMM at once. When used with a Knox Suite license, Knox Mobile Enrollment provides advanced profiles that offer IT admins additional features such as higher control over locking devices. Knox Manage - A Knox solution that allows you to remotely manage your fleet of mobile devices. With this EMM, you create various policies to control how users can use their devices. Knox Asset Intelligence - A data analytics solution that offers operational visibility and actionable insights to improve the management, productivity, and lifecycle of mobile devices. This solution offers real-time monitoring and management of app performance, battery usage, network connectivity, and asset location. Knox E-FOTA - A Knox solution that allows you to remotely deploy OS and security updates to your devices without requiring user interaction. With Knox E-FOTA, you create a campaign, specify the campaign period, assign devices to that campaign, and select the firmware update to be pushed to those devices during the campaign period. Knox Capture - An Android solution that lets users transform their Samsung Galaxy smartphones and tablets into powerful barcode scanners that can read, process, and output barcode information to other applications, all without requiring additional hardware or writing a single line of code. Knox Authentication Manager - A managed Android app for shared Samsung devices that provides multiuser facial biometrics and sign-in automation for increased frontline worker productivity and safety. With Knox Suite, a single license key allows you to use all included Knox products on your devices. This means that you can use the same Knox Suite license key in multiple Knox service admin portals. Benefits of Knox Suite 1. All-in-one Knox B2B package - An end-to-end solution that covers every step of your enterprise mobility journey 2. Simplified license management - You only need one license key to use all included products. 3. Streamlined onboarding process - Register once and gain access to all included Knox products. 4. Seamless IT admin user experience - IT admin can easily access bundled Knox consoles through single sign-on. To get started, click here.', metadata={'source': 'all_processed_data.json', 'seq_num': 65, 'title': 'Knox Suite', 'url': 'https://docs.samsungknox.com/admin/knox-suite', 'project': 'KS', 'last_updated': '2023-07-26', 'family_tree': 'parent', 'parent_id': None, 'id': '31d8f5b8-2ced-4a02-ba10-d8fac3614439'}),\n",
       " Document(page_content='Learn more about Knox Suite. This section describes where you can find instructions on how to perform tasks using the different products included in Knox Suite. General documentation for the Knox Suite services Knox Service , See - , - Knox Manage , Knox Manage Admin Guide Knox Platform for Enterprise , Knox Platform for Enterprise Admin Guide Knox Mobile Enrollment , Knox Mobile Enrollment Admin Guide Knox E-FOTA , Knox E-FOTA Admin Guide Knox Asset Intelligence , Knox Asset Intelligence Admin Guide Knox Capture , Knox Capture Admin Guide Knox Authentication Manager , Knox Authentication Manager Admin Guide Knox Suite operations For information on See Knox service How to set up Knox Manage with Knox Suite Workflow:\"Set up Knox Manage with a Knox Suite license Knox Manage How to check your Knox Suite license usage View and modify a license Note Alternatively, you can sign in to your SamsungKnox.com dashboard and click Licenses to view all licenses you have for all your Knox services', metadata={'source': 'all_processed_data.json', 'seq_num': 64, 'title': 'Learn more about Knox Suite', 'url': 'https://docs.samsungknox.com/admin/knox-suite/learn-more-about-knox-suite', 'project': 'KS', 'last_updated': '2023-07-26', 'family_tree': 'child', 'parent_id': '5f426c6c-0882-4b3e-aeae-a1792b104b5b', 'id': '2ad1de59-827a-4dad-9093-3a807ed2c1e2'})]"
      ]
     },
     "execution_count": 24,
     "metadata": {},
     "output_type": "execute_result"
    }
   ],
   "source": [
    "search_hybrid_result = opensearch_hybrid_retriever.get_relevant_documents(\"knox\")\n",
    "search_hybrid_result"
   ]
  },
  {
   "cell_type": "markdown",
   "id": "05c569db-1a1d-4bbf-a713-28cf6b745982",
   "metadata": {},
   "source": [
    "## 6. RAG chain 정의"
   ]
  },
  {
   "cell_type": "code",
   "execution_count": 25,
   "id": "da9df137-076d-4230-865e-4f9ed9651062",
   "metadata": {
    "tags": []
   },
   "outputs": [],
   "source": [
    "from langchain.chains import RetrievalQA\n",
    "from langchain.prompts import PromptTemplate"
   ]
  },
  {
   "cell_type": "markdown",
   "id": "b95251a1-6dd8-4794-86d9-65b855ed27cb",
   "metadata": {},
   "source": [
    "### Prompting\n",
    "- [TIP] Prompt의 instruction의 경우 한글보다 영어로 했을 때 더 좋은 결과를 얻을 수 있습니다."
   ]
  },
  {
   "cell_type": "code",
   "execution_count": 26,
   "id": "5e05b8bd-ccb0-4f49-9e5c-0869a9afa11d",
   "metadata": {
    "tags": []
   },
   "outputs": [],
   "source": [
    "prompt_template = \"\"\"\n",
    "\\n\\nHuman: Here is the context, inside <context></context> XML tags.\n",
    "\n",
    "<context>\n",
    "{context}\n",
    "</context>\n",
    "\n",
    "Only using the context as above, answer the following question with the rules as below:\n",
    "    - Don't insert XML tag such as <context> and </context> when answering.\n",
    "    - Write as much as you can\n",
    "    - Be courteous and polite\n",
    "    - Only answer the question if you can find the answer in the context with certainty.\n",
    "\n",
    "Question:\n",
    "{question}\n",
    "\n",
    "If the answer is not in the context, just say \"Could not find answer in given contexts.\"\n",
    "\n",
    "\\n\\nAssistant:\"\"\"\n",
    "\n",
    "PROMPT = PromptTemplate(\n",
    "    template=prompt_template, input_variables=[\"context\", \"question\"]\n",
    ")"
   ]
  },
  {
   "cell_type": "markdown",
   "id": "2a758bc7-87a1-44fb-9b36-e17e987b1513",
   "metadata": {},
   "source": [
    "### Update Search Params (Optional)"
   ]
  },
  {
   "cell_type": "code",
   "execution_count": 33,
   "id": "31c68b6f-1606-455d-bd37-c467cf240b7c",
   "metadata": {
    "tags": []
   },
   "outputs": [],
   "source": [
    "opensearch_hybrid_retriever.update_search_params(\n",
    "    k=5,\n",
    "    minimum_should_match=0,\n",
    "    filter=[],\n",
    "    reranker=True,\n",
    "    reranker_endpoint_name=endpoint_name,\n",
    "    rag_fusion=False, # enable rag_fusion\n",
    "    query_augmentation_size=3, # query_augmentation_size in rag_fusion\n",
    "    hyde=False, # enable hyde\n",
    "    hyde_query=[\"web_search\"], # query type in hyde \n",
    "    parent_document=True,\n",
    "    llm_text=llm_text, # used in rag_fusion, hyde and reranker\n",
    "    verbose=False\n",
    ")"
   ]
  },
  {
   "cell_type": "code",
   "execution_count": 34,
   "id": "2b2256fe-9b42-4570-9c05-d395405a534b",
   "metadata": {
    "tags": []
   },
   "outputs": [],
   "source": [
    "qa_chain = RetrievalQA.from_chain_type(\n",
    "    llm=llm_text,\n",
    "    chain_type=\"stuff\",\n",
    "    retriever=opensearch_hybrid_retriever,\n",
    "    return_source_documents=True,\n",
    "    chain_type_kwargs={\n",
    "        \"prompt\": PROMPT,\n",
    "        \"verbose\": False,\n",
    "    },\n",
    "    verbose=False\n",
    ")"
   ]
  },
  {
   "cell_type": "code",
   "execution_count": 35,
   "id": "ae0b6569-7c98-49e3-a739-e7dd16d9942e",
   "metadata": {
    "tags": []
   },
   "outputs": [
    {
     "data": {
      "text/plain": [
       "{'query': 'How many characters are removed when the start position is 1 and the number of characters to remove is also 1?',\n",
       " 'result': ' The number of characters removed when the start position is 1 and the number of characters to remove is 1 is 1 character. This is based on the \"Remove characters\" action in the context, which states: \\n\\n\"When sending data, removes a specific number of characters from the given positions. You must provide the start position and the number of characters to remove.\"',\n",
       " 'source_documents': [Document(page_content=\". On the Knox Capture home screen, tap on the profile you want to create a rule for. 2. Under Keystroke output and data formatting, tap Advanced data formatting. 3. In the top right corner of the screen, tap +. 4. Enter a name for the rule, then tap Done. 5. Under Set criteria, configure the below settings as needed: Barcode type - The types of barcodes that the rule applies to. String length - The required length of scanned data to trigger the rule. String - A string that must be present for the rule to trigger. String position - When the cursor reaches this position in the string, the rule executes. 6. Under Set actions in order, tap Add actions. 7. A popup appears, prompting you to select actions you want to add. See the table below for details on each action. Tap Add when you're finished. 8. Configure the actions as necessary, then tap < in the top left to return to the rules list. 9. Repeat Steps 3-8 for any additional rules you want to create, then rearrange them in the order they should be executed. Refer to the advanced data formatting actions below to move the cursor, modify, send, or delay data being sent to business apps. If you add multiple actions to your rule, you can change the order in which they execute. Action Description Options Default Cursor movement Sets the cursor to move to a location in the output data. Skip ahead by characters &mdash; Moves the cursor forward by a specific number of characters. 1 Skip back by characters &mdash; Moves the cursor backwards by a specific number of characters. 1 Skip to start &mdash; Moves the cursor to the beginning of the output data. None Move ahead to substring &mdash; Moves the cursor forward until a specific string is found. None Move past substring &mdash; Moves the cursor past a specific string in the output data. None Data modification Sets the elements for Knox Capture to add, edit, or remove from the data. Remove extra spaces &mdash; Deletes all but one space between words, and removes any blank space at the beginning and end of the data. None Remove all spaces &mdash; Remove all spaces in the data. None Remove leading zeros &mdash; Remove any zeroes at the beginning of the data. None Pad with zeros to the left &mdash; Specify the desired length of the output. Knox Capture pads the left side of the string with zeros until the desired length is reached. 1 Replace string &mdash; Replaces a specific string with a new, specified string. You must specify both strings. None Remove characters When sending data, removes a specific number of characters from the given positions. You must provide the start position and the number of characters to remove. Start position: 1 Number of characters: 1 Data sending Controls a selected amount of data to send to business apps. Send next characters &mdash; Sends a specific number of characters from the current cursor position. 1 Send remaining characters &mdash; Sends all data after the current cursor position. None Send up to substring &mdash; Sends all data up to a specific string. None Send pause &mdash; Pauses all actions for a specific number of milliseconds (max. 120000). 50ms Send string &mdash; Sends a specific string when the corresponding rule is triggered. None Send cha &mdash; Sends a specific ASCII/Unicode character when the corresponding rule is triggered. 32\", metadata={'source': 'all_processed_data.json', 'seq_num': 9, 'title': 'Configure keystroke output and data formatting', 'url': 'https://docs.samsungknox.com/admin/knox-capture/how-to-guides/configure-keystroke-output-and-data-formatting', 'project': 'KCAP', 'last_updated': '2023-07-26', 'family_tree': 'parent', 'parent_id': None, 'id': 'd6d4e912-0a23-4035-a014-97b4c43037f5'}),\n",
       "  Document(page_content='. #Standard ASCII control character abbreviations , ASCII , Hex , Name , Abbreviation , , - , - , - , - , , 1 , 1 , Start of Heading , SOH , , 2 , 2 , Start of Text , STX , , 3 , 3 , End of Text , ETX , , 4 , 4 , End of Transmission , EOT , , 5 , 5 , Enquiry , ENQ , , 6 , 6 , Acknowledgement , ACK , , 7 , 7 , Bell , BEL , , 8 , 8 , Backspace , BS , , 9 , 9 , Horizontal Tab , HT , , 10 , 0A , Line Feed , LF , , 11 , 0B , Vertical Tab , VT , , 12 , 0C , Form Feed , FF , , 13 , 0D , Carriage Return , CR , , 14 , 0E , Shift Out , SO , , 15 , 0F , Shift In , SI , , 16 , 10 , Data Link Escape , DLE , , 17 , 11 , Device Control 1 , DC1 , , 18 , 12 , Device Control 2 , DC2 , , 19 , 13 , Device Control 3 , DC3 , , 20 , 14 , Device Control 4 , DC4 , , 21 , 15 , Negative Acknowledgement , NAK , , 22 , 16 , Synchronous Idle , SYN , , 23 , 17 , End of Transmission Block , ETB , , 24 , 18 , Cancel , CAN , , 25 , 19 , End of Medium , EM , , 26 , 1A , Substitute , SUB , , 27 , 1B , Escape , ESC , , 28 , 1C , File Separator , FS , , 29 , 1D , Group Separator , GS , , 30 , 1E , Record Separator , RS , , 31 , 1F , Unit Separator , US , #Type interpretation ##String , Printable ASCII or Unicode characters aren\\'t modified. For example, \"abc\" will appear as \"abc\" in the test overlay. Non-printable ASCII control characters get embedded in curly brackets. For example, a Tab control character will appear as \"\" in the test overlay if sent as a string. ##Key event Printable and non-printable characters appear in their character representation embedded in angle brackets when sent as key events. For example, if sent as key events, the data `abHT` appears as `` in the test overlay. Example The following example applies test mode notation to scanned barcode data based on a small set of keystroke output rules. Barcode input: `abc\\\\n123\\\\teh` This input uses escape sequences for control characters. `\\\\n` represents Enter and `\\\\t` represents Tab. Keystroke output rules: Send Enter as String, Send Tab as Key event, Send ASCII Printable characters as String Test mode notation: Scanned data: `abc123eh`, Output : `abc123 eh`', metadata={'source': 'all_processed_data.json', 'seq_num': 19, 'title': 'Use test mode', 'url': 'https://docs.samsungknox.com/admin/knox-capture/how-to-guides/use-test-mode', 'project': 'KCAP', 'last_updated': '2023-07-26', 'family_tree': 'parent', 'parent_id': None, 'id': '369355aa-4a10-4f20-bba3-3f0e9a5ff974'}),\n",
       "  Document(page_content='Out-of-range barcode still scanned successfully by Knox Capture. Overview For example, assuming you\\'ve set a symbol count range of 7 - 20 for Code 128 barcodes, the following situations may occur: Code \"1234567\" (length 7) can be successfully scanned. Code \"12345678\" (length 8) can be successfully scanned. Code \"123456\" (length 6) can\\'t be successfully scanned. Code \"12345\" (length 5) can be successfully scanned. This is unexpected behavior. Code \"1234\" (length 4) can\\'t be successfully scanned. Cause When setting the scan length, there\\'s a difference between the number of digits or characters and the active symbol count. The correlation between characters and symbol counts depends on the encoding standard. For instance, Code 128 differs from Code 39. For Code 128, there are three different encoding schemes that can be mixed within a single Code 128 barcode to achieve the shortest possible code. Resolution Check which encoding standards your barcode data follows.', metadata={'source': 'all_processed_data.json', 'seq_num': 59, 'title': 'Out-of-range barcode still scanned successfully by Knox Capture', 'url': 'https://docs.samsungknox.com/admin/knox-capture/kbas/out-of-range-code-still-scanned-successfully', 'project': 'KCAP', 'last_updated': '2023-07-26', 'family_tree': 'parent', 'parent_id': None, 'id': '47b690b1-5daa-429e-a0b1-fc8d71c4f6a8'}),\n",
       "  Document(page_content='Scan engine settings: Scandit. Knox Capture Scandit Edition has all of the same scan engine settings as Samsung Knox Capture. See the Configure scan engine settings page for a list of common settings. The following settings are only available in Knox Capture Scandit Edition: Barcode types , Type , Options , , - , - , , Numeric-only (1D) , Codabar, Code 11, Code 25, Code 32, DataBar 14, DataBar Limited, EAN13, EAN8, Interleaved 2 of 5, MSI-Plessey, UPCA, UPCE , , Alpha-numeric (1D) , Code 128, Code 39, Code 93, DataBar Expanded, KIX, RM4SCC , , 2D , Aztec, Data Matrix, DotCode, MaxiCode, MicroPDF417, Micro QR, PDF417, QR , Scan settings , Setting , Description , Options , Default , , - , - , - , - , , Remove checksum , Global setting to remove checksums for barcode data for all barcode types. ON/OFF , OFF , , Parse GS1 , If enabled, parses scanned barcode data based on the GS1 data format before sending it to the target business app. For more information on the GS1 standard, refer to GS1 General Specifications. ON/OFF , OFF , Extended barcode type settings Use these settings to configure each barcode type used in a Knox Capture profile. Access these settings by tapping Advanced settings near the bottom of the scan engine settings menu, then tap Extended barcode type settings to display a list of all barcode types. To view the settings menu for a particular barcode type, tap its name. The following table describes the possible barcode type settings that may appear: Setting Description Options Default Min. length Determines the minimum supported barcode length (active symbol count) to decode. Change this property to include lengths not enabled by default, or to optimize decoding performance for a certain number of symbols. Character-to-symbol mapping depends on barcode type. For example, some barcodes include additional checksum characters in their symbol counts. For more information on active symbol count, refer to Configure the Active Symbol Count. Depends on barcode type. Max. length Determines the maximum supported barcode length (active symbol count) to decode. Depends on barcode type. Inverted color recognition Enables recognition of inverted barcodes that have been printed using bright ink on a dark background. ON/OFF OFF Reduced quiet zone-size Enables scanning codes with smaller than normal quiet zones (white space before and after the code) than allowed by the barcode type specification. Use this if you experience issues when scanning codes that violate quiet zone specifications. Please note that turning on this feature may lead to false positive scans in some cases. ON/OFF OFF Strip leading FNC1 Removes the leading FNC1 character that indicates a GS1 code. ON/OFF OFF Direct part marking mode Improves scan performance when reading direct part marked (DPM) Data Matrix codes. Please note that this setting increases frame processing times. Samsung recommends restricting the scanning area to a smaller portion of the screen for better performance when using direct part marking mode. ON/OFF OFF Checksum mod n Barcode checksums use a piece of barcode data and a checksum algorithm to ensure data transmission integrity. Some barcode types include a mandatory checksum, while others only have optional checksums. Enforcing an optional checksum helps reduce false positives and provides an extra layer of error prevention. When enabling a checksum, ensure your barcode data includes the calculated checksum, otherwise the checksum will not match and the barcode data is discarded. Uses and enforces a modulo n checksum algorithm. ON/OFF OFF Full ASCII support Interprets Code39 data using two symbols per output character to encode all ASCII characters. ON/OFF OFF Double checksum mod n Uses and enforces a double checksum modulo n. ON/OFF OFF Remove leading zero Removes the leading zero digit from EAN13/UCPA scanned barcode data. ON/OFF ON Return as UPCA Transforms UPCE scanned barcode data into its UPCA representation', metadata={'source': 'all_processed_data.json', 'seq_num': 25, 'title': 'Scan engine settings: Scandit', 'url': 'https://docs.samsungknox.com/admin/knox-capture/knox-capture-scandit/scan-engine-settings-scandit', 'project': 'KCAP', 'last_updated': '2023-07-26', 'family_tree': 'parent', 'parent_id': None}),\n",
       "  Document(page_content='Configure keystroke output and data formatting. Knox Capture sends scanned data to business apps as keystrokes, imitating the way a user manually enters data using a keyboard. If you activate a KPE (Knox Platform for Enterprise) Premium license with a Galaxy S20 device in WP-C mode, you must set `AdvancedRestrictionPolicy.allowRemoteControl()` to True in your EMM. Enabling this policy allows keystroke output to function as expected. Keystroke output Refer to the following settings to modify scanned data and format its output: Setting Description Options Default Send Enter character as Sets the output format for all existing and appended Enters Key event &mdash; Sends Enter as a key event. String &mdash; Sends Enter as ASCII Line Feed 0x0A. Both String and Key event &mdash; Sends Enter as ASCII Line Feed 0x0A and key event. None &mdash; Sends no output for Enter. None Send Tab character as Sets the output format for all existing and appended Tabs Key event &mdash; Sends Tab as a key event. String &mdash; Sends Tab as ASCII Horizontal Tab 0x09. Both String and Key event &mdash; Sends Tab as ASCII Horizontal Tab 0x09 and key event. None &mdash; Sends no output for Tab. None Send Carriage Return character as Sets the output format for all Carriage Returns Key event &mdash; Sends Carriage Return as a key event. String &mdash; Sends Carriage Return as ASCII Carriage Return 0x0D. Both String and Key event &mdash; Sends Carriage Return as ASCII Carriage Return 0x0D and key event. None &mdash; Sends no output for Carriage Return. None Send ASCII Control characters as Sets the output format for ASCII characters 1-31 Key event &mdash; Sends ASCII codes 1 through 31 as key events String &mdash; Sends ASCII codes 1 through 31 as strings. Both String and Key event &mdash; Sends ASCII control characters in both string and key event formats. None &mdash; Sends no output for ASCII control characters. String Send ASCII Printable characters as Sets the output format for ASCII characters 32-126 Key event &mdash; Sends ASCII characters 32-126 as key events. This is useful when a text input field, like a password input, requires key events for validation and does not accept pasted strings. String &mdash; Sends ASCII printable characters as strings. Both String and Key event &mdash; Sends ASCII printable characters as both strings and key events. None &mdash; Sends no output for ASCII printable characters. String Key event delay Sets the delay in milliseconds that Knox Capture will wait before sending a key event like Tab. Key events transmit slower than string data, which can cause synchronization problems. If your barcode output is partially cut off, try increasing the key event delay to a higher value. [0, Int32 max value] 0 Basic data formatting Refer to the following basic data formatting information to create rules to add prefixes, suffixes, and append Tab or Enter characters to scanned barcode data before output. If appending a Tab or Enter key to the data output, you must also select an output option in the Send Tab as or Sent Enter as settings above. Setting , Description , Default - , - , - Prefix to data , Prepends a string of characters to the beginning of the scanned data. None Suffix to data , Appends a string of characters to the end of the scanned data. None Append Tab characte , Appends a Tab (ASCII Horizontal Tab character, 0x09) to the end of the scanned barcode data to automate actions like moving to the adjacent cell in a spreadsheet. OFF Append Enter characte , Appends an Enter (ASCII Line Feed character, 0x0A) to the end of the scanned barcode data to automate actions like submitting a form. OFF Send as Hex , Sends the data in hexadecimal format. OFF Advanced data formatting In Knox Capture, you can add one or more rules that modify data based on certain actions and criteria. These rules convert scanned data into various formats, which are then passed to business apps through keystrokes. To create a rule and configure its actions and criteria: 1', metadata={'source': 'all_processed_data.json', 'seq_num': 9, 'title': 'Configure keystroke output and data formatting', 'url': 'https://docs.samsungknox.com/admin/knox-capture/how-to-guides/configure-keystroke-output-and-data-formatting', 'project': 'KCAP', 'last_updated': '2023-07-26', 'family_tree': 'parent', 'parent_id': None, 'id': '0c6dee92-1bc2-40dc-b8a5-cd75990d401e'})]}"
      ]
     },
     "execution_count": 35,
     "metadata": {},
     "output_type": "execute_result"
    }
   ],
   "source": [
    "query = \"How many characters are removed when the start position is 1 and the number of characters to remove is also 1?\"\n",
    "qa_chain(query)"
   ]
  },
  {
   "cell_type": "markdown",
   "id": "fa285db7-31bf-4a82-816e-37abd5ed44af",
   "metadata": {
    "tags": []
   },
   "source": [
    "## 3.Evaluation\n",
    " - [langchain evaluator](https://python.langchain.com/docs/guides/evaluation/string/criteria_eval_chain)"
   ]
  },
  {
   "cell_type": "markdown",
   "id": "4d2fcc99-ab79-49b4-89a7-b51f3a62fc18",
   "metadata": {},
   "source": [
    "### Load ground truth"
   ]
  },
  {
   "cell_type": "code",
   "execution_count": 36,
   "id": "d3637807-9266-457e-b512-e697f951c405",
   "metadata": {
    "tags": []
   },
   "outputs": [],
   "source": [
    "import pandas as pd"
   ]
  },
  {
   "cell_type": "code",
   "execution_count": 37,
   "id": "d0403c51-23b5-4e3f-a2ec-7302d6711e4b",
   "metadata": {
    "tags": []
   },
   "outputs": [],
   "source": [
    "ground_thruth = pd.read_csv(\"eval_dataset_v16.csv\")"
   ]
  },
  {
   "cell_type": "code",
   "execution_count": 38,
   "id": "b96d03e0-cf64-4644-9578-3411883dfafa",
   "metadata": {
    "tags": []
   },
   "outputs": [],
   "source": [
    "import time\n",
    "import datetime\n",
    "from langchain.evaluation import Criteria\n",
    "from langchain.evaluation import EvaluatorType\n",
    "from langchain.evaluation import load_evaluator"
   ]
  },
  {
   "cell_type": "code",
   "execution_count": 39,
   "id": "bb3aab6f-ab32-4ea2-b1e7-43e7694f1849",
   "metadata": {
    "tags": []
   },
   "outputs": [
    {
     "data": {
      "text/plain": [
       "[<Criteria.CONCISENESS: 'conciseness'>,\n",
       " <Criteria.RELEVANCE: 'relevance'>,\n",
       " <Criteria.CORRECTNESS: 'correctness'>,\n",
       " <Criteria.COHERENCE: 'coherence'>,\n",
       " <Criteria.HARMFULNESS: 'harmfulness'>,\n",
       " <Criteria.MALICIOUSNESS: 'maliciousness'>,\n",
       " <Criteria.HELPFULNESS: 'helpfulness'>,\n",
       " <Criteria.CONTROVERSIALITY: 'controversiality'>,\n",
       " <Criteria.MISOGYNY: 'misogyny'>,\n",
       " <Criteria.CRIMINALITY: 'criminality'>,\n",
       " <Criteria.INSENSITIVITY: 'insensitivity'>,\n",
       " <Criteria.DEPTH: 'depth'>,\n",
       " <Criteria.CREATIVITY: 'creativity'>,\n",
       " <Criteria.DETAIL: 'detail'>]"
      ]
     },
     "execution_count": 39,
     "metadata": {},
     "output_type": "execute_result"
    }
   ],
   "source": [
    "list(Criteria)"
   ]
  },
  {
   "cell_type": "code",
   "execution_count": 40,
   "id": "8a680e82-980e-48d6-ae2d-e9e40535134e",
   "metadata": {
    "tags": []
   },
   "outputs": [],
   "source": [
    "evaluator = load_evaluator(\n",
    "    EvaluatorType.LABELED_CRITERIA,\n",
    "    llm=llm_text,\n",
    "    criteria=Criteria.CORRECTNESS\n",
    ")"
   ]
  },
  {
   "cell_type": "markdown",
   "id": "4d471116-d2e3-4411-979f-ba56f2ca2e7a",
   "metadata": {},
   "source": [
    "### Check prompt for evaluation"
   ]
  },
  {
   "cell_type": "code",
   "execution_count": 41,
   "id": "ab03e1d6-1209-4908-bf75-e7564a4590fa",
   "metadata": {
    "tags": []
   },
   "outputs": [
    {
     "name": "stdout",
     "output_type": "stream",
     "text": [
      "{'criteria': 'correctness: Is the submission correct, accurate, and factual?'}\n",
      "==\n",
      "You are assessing a submitted answer on a given task or input based on a set of criteria. Here is the data:\n",
      "[BEGIN DATA]\n",
      "***\n",
      "[Input]: {input}\n",
      "***\n",
      "[Submission]: {output}\n",
      "***\n",
      "[Criteria]: {criteria}\n",
      "***\n",
      "[Reference]: {reference}\n",
      "***\n",
      "[END DATA]\n",
      "Does the submission meet the Criteria? First, write out in a step by step manner your reasoning about each criterion to be sure that your conclusion is correct. Avoid simply stating the correct answers at the outset. Then print only the single character \"Y\" or \"N\" (without quotes or punctuation) on its own line corresponding to the correct answer of whether the submission meets all criteria. At the end, repeat just the letter again by itself on a new line.\n"
     ]
    }
   ],
   "source": [
    "print(evaluator.prompt.partial_variables)\n",
    "print(\"==\")\n",
    "print(evaluator.prompt.template)"
   ]
  },
  {
   "cell_type": "code",
   "execution_count": 42,
   "id": "dc03ab59-0757-43e0-8a70-7c82edaa286e",
   "metadata": {
    "tags": []
   },
   "outputs": [
    {
     "data": {
      "text/html": [
       "<div>\n",
       "<style scoped>\n",
       "    .dataframe tbody tr th:only-of-type {\n",
       "        vertical-align: middle;\n",
       "    }\n",
       "\n",
       "    .dataframe tbody tr th {\n",
       "        vertical-align: top;\n",
       "    }\n",
       "\n",
       "    .dataframe thead th {\n",
       "        text-align: right;\n",
       "    }\n",
       "</style>\n",
       "<table border=\"1\" class=\"dataframe\">\n",
       "  <thead>\n",
       "    <tr style=\"text-align: right;\">\n",
       "      <th></th>\n",
       "      <th>question</th>\n",
       "      <th>answer</th>\n",
       "      <th>doc_id</th>\n",
       "      <th>doc</th>\n",
       "    </tr>\n",
       "  </thead>\n",
       "  <tbody>\n",
       "    <tr>\n",
       "      <th>0</th>\n",
       "      <td>What is the default mode of operation for Knox...</td>\n",
       "      <td>Admin mode is the default mode of operation fo...</td>\n",
       "      <td>7f17c8ef-7d22-44a7-b92e-b26f4716d3d0</td>\n",
       "      <td>. 3. Export profile settings as a configuratio...</td>\n",
       "    </tr>\n",
       "    <tr>\n",
       "      <th>1</th>\n",
       "      <td>What are the two types of tutorials mentioned ...</td>\n",
       "      <td>The tutorials mentioned in the provided contex...</td>\n",
       "      <td>6a70e00b-0e60-4dfa-a9cf-6d753d3eee7c</td>\n",
       "      <td>. Admin mode is the default mode of operation ...</td>\n",
       "    </tr>\n",
       "    <tr>\n",
       "      <th>2</th>\n",
       "      <td>- How can an IT admin configure camera scan tr...</td>\n",
       "      <td>An IT admin can set camera scan triggers in Kn...</td>\n",
       "      <td>709c077e-5440-4ef4-afc8-d96e4209f659</td>\n",
       "      <td>. Test mode - A feature that lets you test a s...</td>\n",
       "    </tr>\n",
       "    <tr>\n",
       "      <th>3</th>\n",
       "      <td>What step do you take in the Knox Capture prof...</td>\n",
       "      <td>To enable the device's flashlight to be used w...</td>\n",
       "      <td>2668595c-19a0-4e9a-9e38-25dbd455a85e</td>\n",
       "      <td>. Add or remove a barcode type of your choice....</td>\n",
       "    </tr>\n",
       "    <tr>\n",
       "      <th>4</th>\n",
       "      <td>- How would you summarize the key steps covere...</td>\n",
       "      <td>Knox Capture for IT admins is a workflow that ...</td>\n",
       "      <td>87a9dba8-d3a8-41c4-8fd9-eac0d1d50c61</td>\n",
       "      <td>. Save the updated settings and deploy. Summar...</td>\n",
       "    </tr>\n",
       "  </tbody>\n",
       "</table>\n",
       "</div>"
      ],
      "text/plain": [
       "                                            question  \\\n",
       "0  What is the default mode of operation for Knox...   \n",
       "1  What are the two types of tutorials mentioned ...   \n",
       "2  - How can an IT admin configure camera scan tr...   \n",
       "3  What step do you take in the Knox Capture prof...   \n",
       "4  - How would you summarize the key steps covere...   \n",
       "\n",
       "                                              answer  \\\n",
       "0  Admin mode is the default mode of operation fo...   \n",
       "1  The tutorials mentioned in the provided contex...   \n",
       "2  An IT admin can set camera scan triggers in Kn...   \n",
       "3  To enable the device's flashlight to be used w...   \n",
       "4  Knox Capture for IT admins is a workflow that ...   \n",
       "\n",
       "                                 doc_id  \\\n",
       "0  7f17c8ef-7d22-44a7-b92e-b26f4716d3d0   \n",
       "1  6a70e00b-0e60-4dfa-a9cf-6d753d3eee7c   \n",
       "2  709c077e-5440-4ef4-afc8-d96e4209f659   \n",
       "3  2668595c-19a0-4e9a-9e38-25dbd455a85e   \n",
       "4  87a9dba8-d3a8-41c4-8fd9-eac0d1d50c61   \n",
       "\n",
       "                                                 doc  \n",
       "0  . 3. Export profile settings as a configuratio...  \n",
       "1  . Admin mode is the default mode of operation ...  \n",
       "2  . Test mode - A feature that lets you test a s...  \n",
       "3  . Add or remove a barcode type of your choice....  \n",
       "4  . Save the updated settings and deploy. Summar...  "
      ]
     },
     "execution_count": 42,
     "metadata": {},
     "output_type": "execute_result"
    }
   ],
   "source": [
    "ground_thruth.head()"
   ]
  },
  {
   "cell_type": "code",
   "execution_count": null,
   "id": "86542331-d9eb-4e90-8de0-4ed770f84b62",
   "metadata": {
    "tags": []
   },
   "outputs": [
    {
     "name": "stdout",
     "output_type": "stream",
     "text": [
      "0\n",
      "\u001b[31mQuestion: \u001b[0m \u001b[31mWhat is the default mode of operation for Knox Capture?\u001b[0m\n",
      "\u001b[32mGroundTruth: \u001b[0m \u001b[32mAdmin mode is the default mode of operation for Knox Capture. Therefore, a user cannot switch to Admin mode by activating a Knox Capture license, the app is exported in admin mode\u001b[0m\n",
      "\u001b[34mPrediction: \u001b[0m \u001b[34m Admin mode is the default mode of operation for Knox Capture.\u001b[0m\n",
      "ReRanker similarity: 0.9999275207519531\n",
      "Langchain correctness: 1\n",
      "has_right_context: 1\n",
      "true_context_rank: 1/5\n",
      "mrr: 1.000\n",
      "latency: 0:00:05.501050 secs\n",
      "prediction length: 62 secs\n",
      "1\n",
      "\u001b[31mQuestion: \u001b[0m \u001b[31mWhat are the two types of tutorials mentioned that provide guidance for new admins and end-users of Knox Capture?\u001b[0m\n",
      "\u001b[32mGroundTruth: \u001b[0m \u001b[32mThe tutorials mentioned in the provided context are: 'Getting started tutorials' and 'While they don't cover every setting or scenario when using Knox Capture, they do provide a good starting point for learning the app's basics.\u001b[0m\n",
      "\u001b[34mPrediction: \u001b[0m \u001b[34m Admin get started and End-user get started.\u001b[0m\n",
      "ReRanker similarity: 0.04858165606856346\n",
      "Langchain correctness: 1\n",
      "has_right_context: 1\n",
      "true_context_rank: 2/5\n",
      "mrr: 0.500\n",
      "latency: 0:00:05.081101 secs\n",
      "prediction length: 44 secs\n",
      "2\n",
      "\u001b[31mQuestion: \u001b[0m \u001b[31m- How can an IT admin configure camera scan triggers in Knox Capture?\u001b[0m\n",
      "\u001b[32mGroundTruth: \u001b[0m \u001b[32mAn IT admin can set camera scan triggers in Knox Capture by configuring an on-screen floating action button, a hardware button on the device, or both\u001b[0m\n",
      "\u001b[34mPrediction: \u001b[0m \u001b[34m According to the context, an IT admin can configure camera scan triggers in Knox Capture in the following ways:\n",
      "\n",
      "- Hardware scan trigger setting: IT admins can specify whether users can trigger camera scans using a hardware button on the device, an on-screen floating action button, or both. The hardware button options are the top button, bottom button, or side buttons on rugged devices like the XCover Pro. \n",
      "\n",
      "- Floating scan button: A new floating scan button is available in Knox Capture v1.2 that launches the camera for scanning when tapped. By default it appears at bottom right corner but users can move it around. IT admins can enable or disable this trigger.\n",
      "\n",
      "- Keyboard scan icon: The on-screen Samsung keyboard displays a Knox Capture button that triggers the camera scanner when tapped. This is enabled by default if Samsung Keyboard is the default on the device.\n",
      "\n",
      "The scan triggers can be configured from the Knox Capture home screen. IT admins can choose which triggers are enabled for users in both Admin and Managed modes.\u001b[0m\n",
      "ReRanker similarity: 0.9998999834060669\n",
      "Langchain correctness: 1\n",
      "has_right_context: 1\n",
      "true_context_rank: 4/5\n",
      "mrr: 0.250\n",
      "latency: 0:00:12.893136 secs\n",
      "prediction length: 1040 secs\n",
      "3\n",
      "\u001b[31mQuestion: \u001b[0m \u001b[31mWhat step do you take in the Knox Capture profile to enable the device's flashlight to be used when scanning barcodes?\u001b[0m\n",
      "\u001b[32mGroundTruth: \u001b[0m \u001b[32mTo enable the device's flashlight to be used when scanning barcodes in the Knox Capture profile, navigate to Camera Settings within the Scan engine settings screen and enable the Flashlight button by moving the slider to the right\u001b[0m\n",
      "\u001b[34mPrediction: \u001b[0m \u001b[34m To enable the device's flashlight when scanning barcodes with Knox Capture, go to the profile's scan engine settings, scroll down to Camera Settings, and enable the Flashlight button by moving the slider to the right.\u001b[0m\n",
      "ReRanker similarity: 0.9998476505279541\n",
      "Langchain correctness: 0\n",
      "has_right_context: 1\n",
      "true_context_rank: 2/5\n",
      "mrr: 0.500\n",
      "latency: 0:00:05.676497 secs\n",
      "prediction length: 218 secs\n",
      "4\n",
      "\u001b[31mQuestion: \u001b[0m \u001b[31m- How would you summarize the key steps covered in the Knox Capture workflow for IT admins described in the context?\u001b[0m\n",
      "\u001b[32mGroundTruth: \u001b[0m \u001b[32mKnox Capture for IT admins is a workflow that begins with configuring and deploying the app to managed devices. It covers how-to guides with detailed instructions for each feature. The key steps include configuring the app and deploying it to managed devices\u001b[0m\n",
      "\u001b[34mPrediction: \u001b[0m \u001b[34m Here is a summary of the key steps covered in the Knox Capture workflow for IT admins:\n",
      "\n",
      "- Download, install, and launch Knox Capture app. App runs in admin mode by default.\n",
      "- Edit the default scanning profile. Can't change default app list, but can edit other settings. \n",
      "- Change scan engine settings like barcode types and enable flashlight button.\n",
      "- Set keystroke output rules like appending Enter after scan.\n",
      "- Test profile in Samsung Internet. Scan barcode, test flashlight, check output.\n",
      "- Export profile configuration file to deploy to end users via EMM/UEM.\n",
      "- EMM/UEM deploys Knox Capture as managed app to end users. App runs in managed mode.\n",
      "- End users can scan barcodes within allowed apps per their profile. Can't edit profile settings.\u001b[0m\n",
      "ReRanker similarity: 0.9995352029800415\n",
      "Langchain correctness: 1\n",
      "has_right_context: 1\n",
      "true_context_rank: 1/5\n",
      "mrr: 1.000\n",
      "latency: 0:00:11.245996 secs\n",
      "prediction length: 749 secs\n",
      "5\n",
      "\u001b[31mQuestion: \u001b[0m \u001b[31mWhat steps are involved in scanning a barcode using the Samsung Internet app and Knox Capture?\u001b[0m\n",
      "\u001b[32mGroundTruth: \u001b[0m \u001b[32mTo scan a barcode using the Samsung Internet app and Knox Capture, the user needs to launch the Samsung Internet app, tap an input field, trigger the scanner either by presing a hardware key set up as the camera scanner trigger or by tapping the Knox Capture button on the keyboard, scan the barcode, and view the scanned data in the app\u001b[0m\n",
      "\u001b[34mPrediction: \u001b[0m \u001b[34m Here are the steps to scan a barcode using the Samsung Internet app with Knox Capture:\n",
      "\n",
      "1. Launch the Samsung Internet app.\n",
      "\n",
      "2. Tap an input field in the app, like the search input field, so Knox Capture knows where to send the scanned data. \n",
      "\n",
      "3. Either press the hardware key set up as your camera scanner trigger, or tap the Knox Capture button on the keyboard. The Knox Capture button is only visible if Samsung Keyboard is selected as the default keyboard.\n",
      "\n",
      "4. Once the camera is triggered, point it at the barcode. \n",
      "\n",
      "5. After focusing, Knox Capture will automatically capture and process the barcode data.\n",
      "\n",
      "6. The processed barcode data will be sent to the Samsung Internet search input field.\u001b[0m\n",
      "ReRanker similarity: 0.9997386336326599\n",
      "Langchain correctness: 0\n",
      "has_right_context: 1\n",
      "true_context_rank: 1/5\n",
      "mrr: 1.000\n",
      "latency: 0:00:13.429800 secs\n",
      "prediction length: 699 secs\n",
      "6\n",
      "\u001b[31mQuestion: \u001b[0m \u001b[31mHow could an IT admin configure the Knox Capture interface to automatically append an Enter key event after scanning a barcode?\u001b[0m\n",
      "\u001b[32mGroundTruth: \u001b[0m \u001b[32mThe IT admin could configure Knox Capture to automatically append an Enter key event after scanning a barcode by creating output rules that involve the Enter key\u001b[0m\n",
      "\u001b[34mPrediction: \u001b[0m \u001b[34m Based on the context provided, an IT admin could configure the Knox Capture interface to automatically append an Enter key event after scanning a barcode by:\n",
      "\n",
      "Setting the Keystroke output rules in the scanning profile. The Keystroke output setting defines how barcode data is formatted after a successful scan. One of the formatting options is to append special characters like Tab or Enter at the end of the scanned data. This allows the data to be easily processed in spreadsheets and forms, as if the user tapped Enter on their keyboard after scanning. To enable this, the IT admin would navigate to the Keystroke output section when creating or editing a scanning profile. Then they would check the option to \"Append Enter after scan\". When this setting is enabled, an Enter key event will automatically be added to the end of each barcode scanned using that profile.\u001b[0m\n",
      "ReRanker similarity: 0.9999268054962158\n",
      "Langchain correctness: 1\n",
      "has_right_context: 1\n",
      "true_context_rank: 3/5\n",
      "mrr: 0.333\n",
      "latency: 0:00:10.379014 secs\n",
      "prediction length: 872 secs\n",
      "7\n",
      "\u001b[31mQuestion: \u001b[0m \u001b[31mWhat are the two default append options that can be enabled to automate actions on scanned barcode data?\u001b[0m\n",
      "\u001b[32mGroundTruth: \u001b[0m \u001b[32mThe two default append options are Append Tab character and Append Enter character, which are OFF by default\u001b[0m\n",
      "\u001b[34mPrediction: \u001b[0m \u001b[34m Based on the given context, the two default append options that can be enabled to automate actions on scanned barcode data are:\n",
      "\n",
      "Append Tab character - Appends a Tab (ASCII Horizontal Tab character, 0x09) to the end of the scanned barcode data to automate actions like moving to the adjacent cell in a spreadsheet. \n",
      "\n",
      "Append Enter character - Appends an Enter (ASCII Line Feed character, 0x0A) to the end of the scanned barcode data to automate actions like submitting a form.\u001b[0m\n",
      "ReRanker similarity: 0.9913199543952942\n",
      "Langchain correctness: 1\n",
      "has_right_context: 1\n",
      "true_context_rank: 1/5\n",
      "mrr: 1.000\n",
      "latency: 0:00:09.343086 secs\n",
      "prediction length: 476 secs\n",
      "8\n",
      "\u001b[31mQuestion: \u001b[0m \u001b[31m- How many characters should be removed starting at position 1?\u001b[0m\n",
      "\u001b[32mGroundTruth: \u001b[0m \u001b[32m- None\u001b[0m\n",
      "\u001b[34mPrediction: \u001b[0m \u001b[34m Remove 1 character starting at position 1.\u001b[0m\n",
      "ReRanker similarity: 0.03558966517448425\n",
      "Langchain correctness: 1\n",
      "has_right_context: 1\n",
      "true_context_rank: 1/5\n",
      "mrr: 1.000\n",
      "latency: 0:00:06.099852 secs\n",
      "prediction length: 43 secs\n",
      "9\n",
      "\u001b[31mQuestion: \u001b[0m \u001b[31m- What XML tags contain the context information?\u001b[0m\n",
      "\u001b[32mGroundTruth: \u001b[0m \u001b[32m- The XML tags <context> and </context>contain the context information\u001b[0m\n",
      "\u001b[34mPrediction: \u001b[0m \u001b[34m <context> and </context>\u001b[0m\n",
      "ReRanker similarity: 0.9985809326171875\n",
      "Langchain correctness: 1\n",
      "has_right_context: 0\n",
      "true_context_rank: 0/5\n",
      "mrr: 0.000\n",
      "latency: 0:00:04.093967 secs\n",
      "prediction length: 25 secs\n",
      "10\n",
      "\u001b[31mQuestion: \u001b[0m \u001b[31mWhat are the steps to connect a new Bluetooth scanner in Knox Capture?\u001b[0m\n",
      "\u001b[32mGroundTruth: \u001b[0m \u001b[32mTo connect a new Bluetooth scanner in Knox Capture, the user must follow the following five steps: 1) on the main Knox Capture page, tap the more actions menu icon, 2) select Connect scanner, 3) select Pair new device on the Connect scanner screen, 4) if Bluetooth is turned off, the user will be prompted to turn it on, and 5) confirm the pairing of the scanner with Knox Capture\u001b[0m\n",
      "\u001b[34mPrediction: \u001b[0m \u001b[34m Here are the steps to connect a new Bluetooth scanner in Knox Capture:\n",
      "\n",
      "1. On the Knox Capture main page, next to Profiles, tap the more actions menu icon.\n",
      "\n",
      "2. Select Connect scanner. \n",
      "\n",
      "3. On the Connect scanner screen, select Pair new device.\n",
      "\n",
      "4. If Bluetooth is turned off, you're prompted to turn it on. Afterwards, the Bluetooth connection panel appears. You can use this panel to connect to the scanner or navigate to the device settings to connect.\n",
      "\n",
      "5. A pop-up then appears asking the user to confirm whether they want to use the paired device for scanning with Knox Capture. Select Yes. \n",
      "\n",
      "If you close the pop-up without confirming, you must unpair and re-pair the scanner before you can use it with Knox Capture.\u001b[0m\n",
      "ReRanker similarity: 0.9999266862869263\n",
      "Langchain correctness: 1\n",
      "has_right_context: 1\n",
      "true_context_rank: 2/5\n",
      "mrr: 0.500\n",
      "latency: 0:00:10.240839 secs\n",
      "prediction length: 722 secs\n",
      "11\n",
      "\u001b[31mQuestion: \u001b[0m \u001b[31mAccording to the steps, when should you copy and paste the text of the exported Knox Capture configuration into the provided configuration field?\u001b[0m\n",
      "\u001b[32mGroundTruth: \u001b[0m \u001b[32mYou should copy and paste the exported Knox Capture configuration into the provided configuration field when saving the updated settings and deploy\u001b[0m\n",
      "\u001b[34mPrediction: \u001b[0m \u001b[34m Copy and paste the text of the exported Knox Capture configuration into the provided configuration field when assigning the Knox Capture app to a group or organization in your EMM console and launching the app configuration dialog.\u001b[0m\n",
      "ReRanker similarity: 0.910258948802948\n",
      "Langchain correctness: 0\n",
      "has_right_context: 1\n",
      "true_context_rank: 2/5\n",
      "mrr: 0.500\n",
      "latency: 0:00:05.273943 secs\n",
      "prediction length: 232 secs\n",
      "12\n",
      "\u001b[31mQuestion: \u001b[0m \u001b[31m- What is the first step to get a Knox Suite license for Knox Capture?\u001b[0m\n",
      "\u001b[32mGroundTruth: \u001b[0m \u001b[32mTo sign up for a Samsung Knox account\u001b[0m\n",
      "\u001b[34mPrediction: \u001b[0m \u001b[34m Based on the given context, the first step to get a Knox Suite license for Knox Capture is:\n",
      "\n",
      "Sign up for a Samsung Knox account if you haven't already done so. The context mentions \"The first step towards getting a Knox Suite license is signing up for a Samsung Knox account if you haven't already done so.\"\u001b[0m\n",
      "ReRanker similarity: 0.9374352097511292\n",
      "Langchain correctness: 1\n",
      "has_right_context: 1\n",
      "true_context_rank: 3/5\n",
      "mrr: 0.333\n",
      "latency: 0:00:05.325401 secs\n",
      "prediction length: 308 secs\n",
      "13\n",
      "\u001b[31mQuestion: \u001b[0m \u001b[31mHow can you deactivate a Knox Capture license that was activated through an EMM configuration?\u001b[0m\n",
      "\u001b[32mGroundTruth: \u001b[0m \u001b[32mTo deactivate a Knox Capture license that was activated through an EMM configuration, you can push the uninstallation command for the Knox Capture app through the EMM, edit the license field in the Knox Capture app configuration, unenroll the device from the EMM, or manually remove the Knox Capture app to deactivate the license seat\u001b[0m\n",
      "\u001b[34mPrediction: \u001b[0m \u001b[34m Through an EMM, you can deactivate a Knox Capture license by:\n",
      "\n",
      "- Pushing an uninstallation command for the Knox Capture app. Once the device receives the command, the app is removed and the license seat is unassigned.\n",
      "\n",
      "- Editing the license field in the Knox Capture app configuration. In the EMM console, replace the existing license key string with DEACTIVATE and save the changes. Once the agent detects the new string, the license is deactivated. \n",
      "\n",
      "- Unenrolling the device from the EMM. Doing so forces an app uninstallation and releases the device's license seat.\u001b[0m\n",
      "ReRanker similarity: 0.9998538494110107\n",
      "Langchain correctness: 1\n",
      "has_right_context: 1\n",
      "true_context_rank: 1/5\n",
      "mrr: 1.000\n",
      "latency: 0:00:10.074291 secs\n",
      "prediction length: 570 secs\n",
      "14\n",
      "\u001b[31mQuestion: \u001b[0m \u001b[31m- What is the intent key used to get the scanner type from the scanned data in Kotlin?\u001b[0m\n",
      "\u001b[32mGroundTruth: \u001b[0m \u001b[32mINTENT_OUTPUT_SCANNER_TYP\u001b[0m\n",
      "\u001b[34mPrediction: \u001b[0m \u001b[34m Could not find answer in given contexts.\u001b[0m\n",
      "ReRanker similarity: 8.085491572273895e-05\n",
      "Langchain correctness: 0\n",
      "has_right_context: 1\n",
      "true_context_rank: 1/5\n",
      "mrr: 1.000\n",
      "latency: 0:00:06.350720 secs\n",
      "prediction length: 41 secs\n",
      "15\n",
      "\u001b[31mQuestion: \u001b[0m \u001b[31m- What action and category should be configured in Knox Capture to send intent output to the business app with package name test.smartscan?\u001b[0m\n",
      "\u001b[32mGroundTruth: \u001b[0m \u001b[32mIn Knox Capture, the intent action and category for sending intent output to the business app with package name test.smartscan should be `intent.action.activity` and `intent.category.DEFAULT`\u001b[0m\n",
      "\u001b[34mPrediction: \u001b[0m \u001b[34m The intent action should be configured as intent.action.activity and the intent category should be configured as intent.category.DEFAULT.\u001b[0m\n",
      "ReRanker similarity: 0.9995496869087219\n",
      "Langchain correctness: 0\n",
      "has_right_context: 1\n",
      "true_context_rank: 1/5\n",
      "mrr: 1.000\n",
      "latency: 0:00:13.051702 secs\n",
      "prediction length: 138 secs\n",
      "16\n",
      "\u001b[31mQuestion: \u001b[0m \u001b[31mWhat feature allows device users to view the camera preview window and business app screen at the same time?\u001b[0m\n",
      "\u001b[32mGroundTruth: \u001b[0m \u001b[32mScanner overla\u001b[0m\n",
      "\u001b[34mPrediction: \u001b[0m \u001b[34m Scanner overlay\u001b[0m\n",
      "ReRanker similarity: 0.9984158277511597\n",
      "Langchain correctness: 1\n",
      "has_right_context: 1\n",
      "true_context_rank: 1/5\n",
      "mrr: 1.000\n",
      "latency: 0:00:08.394068 secs\n",
      "prediction length: 16 secs\n"
     ]
    }
   ],
   "source": [
    "%%time\n",
    "evaluation = []\n",
    "parent_document = True\n",
    "for idx, row in enumerate(ground_thruth.itertuples()):\n",
    "    try:\n",
    "        question, answer, doc, doc_id = getattr(row, \"question\"), getattr(row, \"answer\"), getattr(row, \"doc\"), getattr(row, \"doc_id\")\n",
    "\n",
    "        start = time.time()\n",
    "        response = qa_chain(question)\n",
    "        elapsed = time.time() - start\n",
    "\n",
    "        prediction = response[\"result\"]\n",
    "        retrieved_docs = {doc.page_content: idx+1 for idx, doc in enumerate(response[\"source_documents\"])}\n",
    "        contexts = \"\\n\\n\".join(retrieved_docs.keys())\n",
    "\n",
    "        payload = json.dumps(\n",
    "            {\n",
    "                \"inputs\": [\n",
    "                    {\"text\": answer, \"text_pair\": prediction},\n",
    "                ]\n",
    "            }\n",
    "        )\n",
    "\n",
    "        response = runtime_client.invoke_endpoint(\n",
    "            EndpointName=endpoint_name,\n",
    "            ContentType=\"application/json\",\n",
    "            Accept=\"application/json\",\n",
    "            Body=payload\n",
    "        )\n",
    "        out = json.loads(response['Body'].read().decode()) ## for json\n",
    "\n",
    "        eval_result = evaluator.evaluate_strings(\n",
    "            input=question,\n",
    "            prediction=prediction,\n",
    "            reference=answer,\n",
    "        )\n",
    "\n",
    "        reranker_sim = out[0][\"score\"]\n",
    "        langchain_correctness = eval_result[\"score\"]\n",
    "        \n",
    "        if not parent_document:\n",
    "            if doc in retrieved_docs:\n",
    "                true_context_rank = retrieved_docs[doc]\n",
    "                has_right_context = 1\n",
    "                mrr = 1/true_context_rank\n",
    "            else:\n",
    "                true_context_rank = has_right_context = 0\n",
    "                mrr = 0\n",
    "        else:\n",
    "            for retrieved_doc in retrieved_docs:\n",
    "                \n",
    "                if doc in retrieved_doc:\n",
    "\n",
    "                    true_context_rank = retrieved_docs[retrieved_doc]\n",
    "                    has_right_context = 1\n",
    "                    mrr = 1/true_context_rank\n",
    "                    break\n",
    "                else:\n",
    "                    true_context_rank = has_right_context = 0\n",
    "                    mrr = 0\n",
    "\n",
    "        total_contexts = len(retrieved_docs)\n",
    "        latency = datetime.timedelta(seconds=elapsed)\n",
    "\n",
    "        print(idx)\n",
    "        print(colored(\"Question: \", \"red\"), colored(question, \"red\"))\n",
    "        print(colored(\"GroundTruth: \", \"green\"), colored(answer, \"green\"))\n",
    "        print(colored(\"Prediction: \", \"blue\"), colored(prediction, \"blue\"))\n",
    "        print(f'ReRanker similarity: {reranker_sim}')\n",
    "        print(f'Langchain correctness: {langchain_correctness}')\n",
    "        print(f'has_right_context: {has_right_context}')\n",
    "        print(f'true_context_rank: {true_context_rank}/{total_contexts}')\n",
    "        print(f'mrr: {mrr:.3f}')\n",
    "        print(f'latency: {latency} secs')\n",
    "        print(f'prediction length: {len(prediction)}')\n",
    "\n",
    "        evaluation.append([question, answer, prediction, \\\n",
    "                           has_right_context, true_context_rank, total_contexts, mrr, \\\n",
    "                           reranker_sim, langchain_correctness, elapsed, contexts, len(prediction)])\n",
    "    except:\n",
    "        print (\"err\", idx)\n",
    "\n",
    "eval_results = pd.DataFrame(\n",
    "    evaluation,\n",
    "    columns=[\"question\", \"true_answer\", \"prediction\", \\\n",
    "             \"has_right_context\", \"true_context_rank\", \"total_contexts\", \"mrr\", \\\n",
    "             \"reranker_sim\", \"langchain_correctness\", \"latency\", \"contexts\", \"pred_length\"]\n",
    ")\n",
    "eval_results.to_csv(\"eval_results_parent_doc.csv\", index=False)\n",
    "#eval_results.to_pickle(\"eval_results.pkl\")"
   ]
  },
  {
   "cell_type": "code",
   "execution_count": null,
   "id": "eb80e92b-6560-4c60-8657-902b6b161acb",
   "metadata": {},
   "outputs": [],
   "source": []
  }
 ],
 "metadata": {
  "kernelspec": {
   "display_name": "conda_python3",
   "language": "python",
   "name": "conda_python3"
  },
  "language_info": {
   "codemirror_mode": {
    "name": "ipython",
    "version": 3
   },
   "file_extension": ".py",
   "mimetype": "text/x-python",
   "name": "python",
   "nbconvert_exporter": "python",
   "pygments_lexer": "ipython3",
   "version": "3.10.12"
  }
 },
 "nbformat": 4,
 "nbformat_minor": 5
}
