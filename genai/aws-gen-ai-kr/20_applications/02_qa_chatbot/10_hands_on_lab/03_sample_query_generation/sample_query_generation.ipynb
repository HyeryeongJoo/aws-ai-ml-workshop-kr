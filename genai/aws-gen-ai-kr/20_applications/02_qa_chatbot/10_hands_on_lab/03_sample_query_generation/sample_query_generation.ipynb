{
 "cells": [
  {
   "cell_type": "markdown",
   "id": "fca689e1-4593-4251-8915-588bf4dfb03a",
   "metadata": {},
   "source": [
    "# Sample query generator\n",
    "- This is for generating sample queries to easy understand each retrieval method. "
   ]
  },
  {
   "cell_type": "markdown",
   "id": "81a09ddd-0a24-46b4-ad4d-c517ce21cad9",
   "metadata": {},
   "source": [
    "## Setting\n",
    " - Auto Reload\n",
    " - path for utils"
   ]
  },
  {
   "cell_type": "code",
   "execution_count": 1,
   "id": "4d95a5f3-f0cf-4d61-97e2-406fe733bdfd",
   "metadata": {
    "tags": []
   },
   "outputs": [],
   "source": [
    "%load_ext autoreload\n",
    "%autoreload 2"
   ]
  },
  {
   "cell_type": "code",
   "execution_count": 5,
   "id": "58189c93-ad6a-4da1-bed6-9056586c0bf0",
   "metadata": {
    "tags": []
   },
   "outputs": [],
   "source": [
    "import sys, os\n",
    "module_path = \"../../../..\"\n",
    "sys.path.append(os.path.abspath(module_path))"
   ]
  },
  {
   "cell_type": "markdown",
   "id": "12a25ea5-1ba4-47c5-9480-7189cda54ebf",
   "metadata": {},
   "source": [
    "## 1. Creatr Bedrock client"
   ]
  },
  {
   "cell_type": "code",
   "execution_count": 6,
   "id": "5cc4fd54-771e-493e-8e24-3b83b2452891",
   "metadata": {
    "tags": []
   },
   "outputs": [],
   "source": [
    "import json\n",
    "import boto3\n",
    "from pprint import pprint\n",
    "from termcolor import colored\n",
    "from utils import bedrock, print_ww\n",
    "from utils.bedrock import bedrock_info"
   ]
  },
  {
   "cell_type": "markdown",
   "id": "2098efae-ae4b-4651-8101-89e729cae7f5",
   "metadata": {},
   "source": [
    "### ---- ⚠️ Un-comment and edit the below lines as needed for your AWS setup ⚠️ ----\n",
    "- os.environ[\"AWS_DEFAULT_REGION\"] = \"<REGION_NAME>\"  # E.g. \"us-east-1\"\n",
    "- os.environ[\"AWS_PROFILE\"] = \"<YOUR_PROFILE>\"\n",
    "- os.environ[\"BEDROCK_ASSUME_ROLE\"] = \"<YOUR_ROLE_ARN>\"  # E.g. \"arn:aws:...\"\n",
    "- os.environ[\"BEDROCK_ENDPOINT_URL\"] = \"<YOUR_ENDPOINT_URL>\"  # E.g. \"https://...\""
   ]
  },
  {
   "cell_type": "code",
   "execution_count": 7,
   "id": "53bff323-922c-46f8-9fa8-795201d7b368",
   "metadata": {
    "tags": []
   },
   "outputs": [
    {
     "name": "stdout",
     "output_type": "stream",
     "text": [
      "Create new client\n",
      "  Using region: None\n",
      "  Using profile: None\n",
      "boto3 Bedrock client successfully created!\n",
      "bedrock-runtime(https://bedrock-runtime.us-east-1.amazonaws.com)\n",
      "\u001b[32m\n",
      "== FM lists ==\u001b[0m\n",
      "{'Claude-Instant-V1': 'anthropic.claude-instant-v1',\n",
      " 'Claude-V1': 'anthropic.claude-v1',\n",
      " 'Claude-V2': 'anthropic.claude-v2',\n",
      " 'Claude-V2-1': 'anthropic.claude-v2:1',\n",
      " 'Claude-V3-Haiku': 'anthropic.claude-3-haiku-20240307-v1:0',\n",
      " 'Claude-V3-Sonnet': 'anthropic.claude-3-sonnet-20240229-v1:0',\n",
      " 'Cohere-Embeddings-En': 'cohere.embed-english-v3',\n",
      " 'Cohere-Embeddings-Multilingual': 'cohere.embed-multilingual-v3',\n",
      " 'Command': 'cohere.command-text-v14',\n",
      " 'Command-Light': 'cohere.command-light-text-v14',\n",
      " 'Jurassic-2-Mid': 'ai21.j2-mid-v1',\n",
      " 'Jurassic-2-Ultra': 'ai21.j2-ultra-v1',\n",
      " 'Llama2-13b-Chat': 'meta.llama2-13b-chat-v1',\n",
      " 'Titan-Embeddings-G1': 'amazon.titan-embed-text-v1',\n",
      " 'Titan-Text-G1': 'amazon.titan-text-express-v1',\n",
      " 'Titan-Text-G1-Light': 'amazon.titan-text-lite-v1'}\n"
     ]
    }
   ],
   "source": [
    "boto3_bedrock = bedrock.get_bedrock_client(\n",
    "    assumed_role=os.environ.get(\"BEDROCK_ASSUME_ROLE\", None),\n",
    "    endpoint_url=os.environ.get(\"BEDROCK_ENDPOINT_URL\", None),\n",
    "    region=os.environ.get(\"AWS_DEFAULT_REGION\", None),\n",
    ")\n",
    "\n",
    "print (colored(\"\\n== FM lists ==\", \"green\"))\n",
    "pprint (bedrock_info.get_list_fm_models(verbose=False))"
   ]
  },
  {
   "cell_type": "markdown",
   "id": "21b4119d-d80e-451b-8604-854e24d06294",
   "metadata": {},
   "source": [
    "## 2. Load LLM"
   ]
  },
  {
   "cell_type": "markdown",
   "id": "9a7b0dff-f445-4b47-80eb-cb1093dfa681",
   "metadata": {},
   "source": [
    "### LLM 로딩 (Claude-v3-sonnet)"
   ]
  },
  {
   "cell_type": "code",
   "execution_count": 8,
   "id": "e0cc4d61-0fb3-4a75-b1b4-143f6f20597d",
   "metadata": {
    "tags": []
   },
   "outputs": [],
   "source": [
    "from langchain_aws import ChatBedrock\n",
    "from langchain.callbacks.streaming_stdout import StreamingStdOutCallbackHandler"
   ]
  },
  {
   "cell_type": "code",
   "execution_count": 20,
   "id": "77079957-ec74-4556-986b-37d940224a04",
   "metadata": {
    "tags": []
   },
   "outputs": [
    {
     "data": {
      "text/plain": [
       "ChatBedrock(callbacks=[<langchain_core.callbacks.streaming_stdout.StreamingStdOutCallbackHandler object at 0x7fd1d2bdb760>], client=<botocore.client.BedrockRuntime object at 0x7fd1c2b2c190>, model_id='anthropic.claude-3-sonnet-20240229-v1:0', model_kwargs={'max_tokens': 1024, 'stop_sequences': ['\\n\\nHuman']}, streaming=True)"
      ]
     },
     "execution_count": 20,
     "metadata": {},
     "output_type": "execute_result"
    }
   ],
   "source": [
    "llm_text = ChatBedrock(\n",
    "    model_id=bedrock_info.get_model_id(model_name=\"Claude-V3-Sonnet\"),\n",
    "    client=boto3_bedrock,\n",
    "    streaming=True,\n",
    "    callbacks=[StreamingStdOutCallbackHandler()],\n",
    "    model_kwargs={\n",
    "        \"max_tokens\": 1024,\n",
    "        \"stop_sequences\": [\"\\n\\nHuman\"],\n",
    "        # \"temperature\": 0,\n",
    "        # \"top_k\": 350,\n",
    "        # \"top_p\": 0.999\n",
    "    }\n",
    ")\n",
    "llm_text"
   ]
  },
  {
   "cell_type": "markdown",
   "id": "3670062c-551f-4eb4-a8fd-1dedd857a3e1",
   "metadata": {},
   "source": [
    "## 3. LangChainOpenSearch VectorStore 정의\n",
    "### 선수 조건\n",
    "- 01_preprocess_docs/02_load_docs_opensearch.ipynb를 통해서 OpenSearch Index 가 생성이 되어 있어야 합니다.\n",
    "#### [중요] 아래에 aws parameter store 에 아래 인증정보가 먼저 입력되어 있어야 합니다.\n",
    "- 01_preprocess_docs/01_parameter_store_example.ipynb 참고"
   ]
  },
  {
   "cell_type": "code",
   "execution_count": 21,
   "id": "40c7100d-7710-4bef-91c5-cf5650481b8f",
   "metadata": {
    "tags": []
   },
   "outputs": [],
   "source": [
    "import boto3\n",
    "from utils.ssm import parameter_store"
   ]
  },
  {
   "cell_type": "code",
   "execution_count": 22,
   "id": "3597ae62-41a7-43dc-ae30-0f285b067af9",
   "metadata": {
    "tags": []
   },
   "outputs": [],
   "source": [
    "region=boto3.Session().region_name\n",
    "pm = parameter_store(region)"
   ]
  },
  {
   "cell_type": "code",
   "execution_count": 23,
   "id": "a734ba03-ea87-4338-9cf3-6e7953b5e213",
   "metadata": {
    "tags": []
   },
   "outputs": [],
   "source": [
    "opensearch_domain_endpoint = pm.get_params(\n",
    "    key=\"opensearch_domain_endpoint\",\n",
    "    enc=False\n",
    ")\n",
    "\n",
    "opensearch_user_id = pm.get_params(\n",
    "    key=\"opensearch_user_id\",\n",
    "    enc=False\n",
    ")\n",
    "\n",
    "opensearch_user_password = pm.get_params(\n",
    "    key=\"opensearch_user_password\",\n",
    "    enc=True\n",
    ")"
   ]
  },
  {
   "cell_type": "code",
   "execution_count": 24,
   "id": "7ff2d170-ac94-430a-9d0f-f7fcc8815777",
   "metadata": {
    "tags": []
   },
   "outputs": [],
   "source": [
    "opensearch_domain_endpoint = opensearch_domain_endpoint\n",
    "rag_user_name = opensearch_user_id\n",
    "rag_user_password = opensearch_user_password\n",
    "\n",
    "http_auth = (rag_user_name, rag_user_password) # Master username, Master password"
   ]
  },
  {
   "cell_type": "markdown",
   "id": "6a254ca9-7489-4675-8d19-854314867aa5",
   "metadata": {
    "tags": []
   },
   "source": [
    "### Index 이름 셋팅\n",
    "- 이전 노트북 01_preprocess_docs/02_load_docs_opensearch.ipynb를 통해서 생성된 OpenSearch Index name 입력"
   ]
  },
  {
   "cell_type": "code",
   "execution_count": 25,
   "id": "4c0b56e1-f507-438a-b5cf-2a251f3c011b",
   "metadata": {
    "tags": []
   },
   "outputs": [
    {
     "name": "stdout",
     "output_type": "stream",
     "text": [
      "index_name: summit-workshop-index-unstructured-pymupdf-llama\n"
     ]
    }
   ],
   "source": [
    "index_name = opensearch_user_password = pm.get_params(\n",
    "    key=\"opensearch_index_name\",\n",
    "    enc=True\n",
    ")\n",
    "\n",
    "print (f'index_name: {index_name}')"
   ]
  },
  {
   "cell_type": "code",
   "execution_count": 26,
   "id": "7e6c965a-70b0-4c55-b30a-7b075d86e9b4",
   "metadata": {
    "tags": []
   },
   "outputs": [],
   "source": [
    "index_name = \"summit-workshop-index\""
   ]
  },
  {
   "cell_type": "markdown",
   "id": "4e4c6e87-92ce-4212-ba60-0e090fe130a4",
   "metadata": {
    "tags": []
   },
   "source": [
    "### OpenSearch Client 생성"
   ]
  },
  {
   "cell_type": "code",
   "execution_count": 27,
   "id": "abdf09f6-ddf8-4a45-8c4c-637982533958",
   "metadata": {
    "tags": []
   },
   "outputs": [],
   "source": [
    "from utils.opensearch import opensearch_utils"
   ]
  },
  {
   "cell_type": "code",
   "execution_count": 28,
   "id": "2f685e70-696d-4173-b9b5-2a1a17595890",
   "metadata": {
    "tags": []
   },
   "outputs": [],
   "source": [
    "aws_region = os.environ.get(\"AWS_DEFAULT_REGION\", None)\n",
    "os_client = opensearch_utils.create_aws_opensearch_client(\n",
    "    aws_region,\n",
    "    opensearch_domain_endpoint,\n",
    "    http_auth\n",
    ")"
   ]
  },
  {
   "cell_type": "markdown",
   "id": "7e20b3e8-6283-4e2a-95e8-3bdc326e18ab",
   "metadata": {
    "tags": []
   },
   "source": [
    "## 4. Query generation"
   ]
  },
  {
   "cell_type": "code",
   "execution_count": 72,
   "id": "8f7168f2-0390-420e-90c4-1d8226070970",
   "metadata": {
    "tags": []
   },
   "outputs": [],
   "source": [
    "from termcolor import colored\n",
    "from langchain_core.tracers import ConsoleCallbackHandler\n",
    "from langchain.schema.output_parser import StrOutputParser\n",
    "from langchain_core.prompts import ChatPromptTemplate, HumanMessagePromptTemplate, SystemMessagePromptTemplate"
   ]
  },
  {
   "cell_type": "markdown",
   "id": "4713eff0-77e7-42bb-abfb-dfe407559f81",
   "metadata": {
    "tags": []
   },
   "source": [
    "### prompt"
   ]
  },
  {
   "cell_type": "code",
   "execution_count": 78,
   "id": "20dc9393-3059-4829-a891-c711a6fc1b09",
   "metadata": {
    "tags": []
   },
   "outputs": [],
   "source": [
    "system_prompt = '''\n",
    "                You are a master answer bot designed to create sample questions for someone to easily understand rerieval methods.\n",
    "                I'm going to give you the description of retrieval method and contexts.\n",
    "                Read the contexts carefully, This is because you will be asked to create questions that given retrieval methods can answer well.\n",
    "                Here is the descriptions of retrieval methods respectively.\n",
    "                <description>\n",
    "                - lexical search: Lexical search relies on matching the literal or surface-level representation of words and phrases in the query with the content in the search index. It primarily involves looking for exact matches of keywords without considering the broader meaning or context of the words. Lexical search can be precise but might lead to missed results if the exact terms aren’t present in the document. If a user searches for “apple pie recipes,” a lexical search engine returns results that specifically contain the words “apple,” “pie,” and “recipes.”\n",
    "                - semantic search: Semantic search focuses on understanding the meaning of the query and the context of the information rather than just matching keywords. It uses natural language processing (NLP), machine learning (ML), and other advanced techniques to comprehend the intent behind a user’s query. Semantic search considers synonyms, related concepts, and the relationship between words to provide more contextually relevant results. If a user searches for “healthy recipes,” a semantic search engine might also include recipes that use terms like “nutritious meals” or “wholesome cooking.”\n",
    "                - rag fusion: RAG-Fusion is able to provide accurate and comprehensive answers due to the generated queries contextualizing the original query from various perspectives. However, some answers strayed off topic when the generated queries' relevance to the original query is insufficient. \n",
    "                - hyde: Occasionally, when faced with a question that lacks specificity or lacks easily identifiable elements to derive an answer from a given context, it can be quite challenging. HyDE uses a Language Learning Model, like Claude, to create a theoretical document when responding to a query, as opposed to using the query and its computed vector to directly seek in the vector database. Rather than seeking embedding similarity for questions or queries, it focuses on answer-to-answer embedding similarity.\n",
    "                </description>\n",
    "                '''\n",
    "human_prompt = \"\"\"\n",
    "               Here is the contexts as texts: <contexts>{contexts}</contexts>\n",
    "\n",
    "               First, find a few paragraphs or sentences from the contexts that can revel difference among retrieval methods well. \n",
    "               Then, create the question and its answer as much as you can.\n",
    "\n",
    "               Skip the preamble and go straight into the answer and reason why you create.\n",
    "               Don't insert any XML tag such as <contexts> and </contexts> when answering.\n",
    "               Answer in Korean.\n",
    "\n",
    "               \"\"\"\n",
    "system_message_template = SystemMessagePromptTemplate.from_template(system_prompt)\n",
    "human_message_template = HumanMessagePromptTemplate.from_template(human_prompt)\n",
    "prompt = ChatPromptTemplate.from_messages(\n",
    "    [system_message_template, human_message_template]\n",
    ")"
   ]
  },
  {
   "cell_type": "markdown",
   "id": "05c5d32c-8753-4dda-81a4-54f075c1cc8e",
   "metadata": {
    "tags": []
   },
   "source": [
    "### chain"
   ]
  },
  {
   "cell_type": "code",
   "execution_count": 79,
   "id": "9847fd24-3df3-43ed-b57a-2475452f425b",
   "metadata": {
    "tags": []
   },
   "outputs": [
    {
     "name": "stdout",
     "output_type": "stream",
     "text": [
      "안녕하세요. 주어진 문맥을 바탕으로 다음과 같은 질문과 답변을 제시해 볼 수 있겠습니다.\n",
      "\n",
      "1. 질문: 상록수 학교의 중점 교육활동 중 '디지털 시민 역량 강화' 교육과 관련된 문장은 무엇입니까?\n",
      "답변: \"디지털 시민 역량 강화\"\n",
      "\n",
      "이 질문은 정확한 키워드 매칭을 필요로 하므로 어휘 검색에 적합합니다.\n",
      "\n",
      "2. 질문: 상록수 학교의 중점 교육활동에서 '함께하는 감성'을 기르기 위한 교육은 무엇인가요?  \n",
      "답변: \"나눔, 배려, 함께하는 감성이 자라는 예술교육\"\n",
      "\n",
      "이 질문은 '함께하는 감성'이라는 구체적인 단어는 없지만, 의미를 파악해야 하므로 의미 검색이 적절합니다.\n",
      "\n",
      "3. 질문: 상록수 학교는 어떤 방식으로 학생들의 진로교육을 제공하고 있나요?\n",
      "답변: \"디양한 진로 교육 운영\"\n",
      "\n",
      "이 질문에 대한 답변을 찾기 위해서는 \"디양한 진로 교육\"이라는 구절의 맥락을 이해해야 하므로, RAG 퓨전이 도움이 될 수 있습니다.\n",
      "\n",
      "4. 질문: 상록수 학교에서 제공하는 교육 중 학생들의 마음가짐과 관련된 교육은 무엇인가요?  \n",
      "답변: 문맥에는 학생들의 마음가짐과 직접적으로 연관된 내용이 없습니다. 이 경우 HyDE 방식으로 새로운 이론적 문서를 생성하여 답변할 수 있습니다.\n",
      "\n",
      "이렇게 다양한 질문을 만들어 봄으로써 각 검색 방법의 장단점을 파악할 수 있습니다."
     ]
    }
   ],
   "source": [
    "chain = prompt | llm_text | StrOutputParser()\n",
    "\n",
    "verbose = False\n",
    "invoke_args = {\n",
    "    \"contexts\": \"상록수(3H) 중점 교육활동 수(秀),Head 록(綠),Health 상(常), Heart 중점 교육 소통하는 공동체 하나되는 세계시민교육 나눔, 배려, 함께하는 감성이 자라는 예술교육 디지털 시민 역량 강화 독서인문교육 놀이와 쉼이 있는 교육 디양한 진로 교육 운영 체험중심 생태환경교육 인성교육 수(秀),Head 록(綠),Health 상(常), Heart 소통하는 공동체 하나되는 세계시민교육 나눔, 배려, 함께하는 감성이 자라는 예술교육 디지털 시민 역량 강화 독서인문교육 놀이와 쉼이 있는 교육 디양한 진로 교육 운영 체험중심 생태환경교육 인성교육 수(秀),Head 록(綠),Health 상(常), Heart 소통하는 공동체 하나되는 세계시민교육 나눔, 배려, 함께하는 감성이 자라는 예술교육 디지털 시민 역량 강화 독서인문교육 놀이와 쉼이 있는 교육 디양한 진로 교육 운영 체험중심 생태환경교육 인성교육 수(秀),Head 록(綠),Health 상(常), Heart 소통하는 공동체 하나되는 세계시민교육 나눔, 배려, 함께하는 감성이 자라는 예술교육 디지털 시민 역량 강화 독서인문교육 놀이와 쉼이 있는 교육 디양한 진로 교육 운영 체험중심 생태환경교육 인성교육 © © © 62 3 © 3 62 © . © . © 참여와 즐거운 배움의 열기로 신나는 학교 학교상 참여와 즐거운 배움의 열기로 신나는 학교 교사상 학생상 학부모상 큰 꿈을 키워가는 어린이 건강한 인성 감성을 가진 어린이 미래를 키워주는 교사 사랑과 열정으로 가르치는 교사 신뢰받는 교사 참여하는 학부모 믿음을 갖는 학부모 학교상 교사상 학생상 학부모상 1 - 상(常) 1. 바른 인성으로 존중과 나눔을 실천하는 자주적인 어린이\"\n",
    "}\n",
    "response = chain.invoke(\n",
    "    invoke_args,\n",
    "    config={'callbacks': [ConsoleCallbackHandler()]} if verbose else {}\n",
    ")\n"
   ]
  },
  {
   "cell_type": "code",
   "execution_count": null,
   "id": "1bf2a4ac-1f8b-4063-8a4d-648e15ff4083",
   "metadata": {
    "tags": []
   },
   "outputs": [
    {
     "name": "stdout",
     "output_type": "stream",
     "text": [
      "\u001b[32mDOC ID: 9be52644-57c2-4525-adc1-f0d2e0e61ace\u001b[0m\n",
      "\u001b[34mTEXT: 상록수(3H) 중점 교육활동 수(秀),Head 록(綠),Health 상(常), Heart 중점 교육 소통하는 공동체 하나되는 세계시민교육 나눔, 배려, 함께하는 감성이 자라는 예술교육 디지털 시민 역량 강화 독서인문교육 놀이와 쉼이 있는 교육 디양한 진로 교육 운영 체험중심 생태환경교육 인성교육 수(秀),Head 록(綠),Health 상(常), Heart 소통하는 공동체 하나되는 세계시민교육 나눔, 배려, 함께하는 감성이 자라는 예술교육 디지털 시민 역량 강화 독서인문교육 놀이와 쉼이 있는 교육 디양한 진로 교육 운영 체험중심 생태환경교육 인성교육 수(秀),Head 록(綠),Health 상(常), Heart 소통하는 공동체 하나되는 세계시민교육 나눔, 배려, 함께하는 감성이 자라는 예술교육 디지털 시민 역량 강화 독서인문교육 놀이와 쉼이 있는 교육 디양한 진로 교육 운영 체험중심 생태환경교육 인성교육 수(秀),Head 록(綠),Health 상(常), Heart 소통하는 공동체 하나되는 세계시민교육 나눔, 배려, 함께하는 감성이 자라는 예술교육 디지털 시민 역량 강화 독서인문교육 놀이와 쉼이 있는 교육 디양한 진로 교육 운영 체험중심 생태환경교육 인성교육 © © © 62 3 © 3 62 © . © . © 참여와 즐거운 배움의 열기로 신나는 학교 학교상 참여와 즐거운 배움의 열기로 신나는 학교 교사상 학생상 학부모상 큰 꿈을 키워가는 어린이 건강한 인성 감성을 가진 어린이 미래를 키워주는 교사 사랑과 열정으로 가르치는 교사 신뢰받는 교사 참여하는 학부모 믿음을 갖는 학부모 학교상 교사상 학생상 학부모상 1 - 상(常) 1. 바른 인성으로 존중과 나눔을 실천하는 자주적인 어린이\u001b[0m\n",
      "\u001b[31mFAMILY_TREE: parent\u001b[0m\n",
      "1) 질문: 학교에서 \"인성교육\"에 대해 설명하고 있는 부분을 통해 각 검색 방식의 차이를 보여줄 수 있습니다. 어떤 질문을 만들 수 있을까요?\n",
      "\n",
      "답변: \n",
      "- 어휘 검색: \"인성교육\"이라는 단어가 정확히 나오므로 \"인성교육에 대한 설명을 찾으시오.\"라는 질문에 잘 대답할 수 있습니다.\n",
      "- 의미 검색: \"바른 인성\", \"존중\", \"나눔\" 등의 관련 단어를 인식하여 \"학교에서 추구하는 인성 교육의 핵심 가치는 무엇인가?\"와 같은 질문에도 적절히 대답할 수 있습니다. \n",
      "- RAG 융합: 원래 질문에 대한 다양한 관점의 추가 질문을 생성하여 보다 포괄적인 답변을 제공할 수 있습니다.\n",
      "- HyDE: 원래 문맥에 명시적으로 드러나지 않은 \"학교 인성교육의 구체적인 방법\"과 같은 질문에 대해 가상의 문서를 생성하여 답변할 수 있습니다.\n",
      "\n",
      "2) 질문: \"디지털 시민 역량 강화\"라는 구절을 활용하여 각 검색 방식의 차이를 보여줄 수 있습니다. 어떤 질문을 만들 수 있을까요?\n",
      "\n",
      "답변:\n",
      "- 어휘 검색: \"디지털 시민 역량 강화에 대해 설명하시오.\"라는 직접적인 질문에 잘 대답할 수 있습니다.\n",
      "- 의미 검색: \"정보화 시대에 필요한 시민 역량\"과 같이 관련 의미를 포착하여 답변할 수 있습니다.\n",
      "- RAG 융합: 원래 질문에 더해 \"디지털 시민 역량이 왜 중요한지\", \"어떻게 강화할 수 있는지\" 등의 추가 질문을 생성하여 답변할 수 있습니다.\n",
      "- HyDE: \"디지털 시민 역량 강화를 위한 구체적인 교육 방안\"과 같이 원래 문맥에 없는 내용에 대해 가상 문서를 만들어 답변할 수 있습니다.\n",
      "\n",
      "이렇게 동일한 문맥에 대해 서로 다른 검색 방식으로 접근하면 다양한 유형의 질문에 대응할 수 있음을 보여줄 수 있습니다.\u001b[32mDOC ID: c4ea5875-ce82-48d7-99ed-b2dac3fbfb50\u001b[0m\n",
      "\u001b[34mTEXT: 233. 절약교실 실시 ◦학용품 아껴쓰기 ◦에너지 절약 교육 ◦쓰레기 감량 및 분리배출 교육 연중 전교생 생활인권 - 3 - 수(秀) 3. 특기와 소질을 가꾸어 미래를 준비하는 창의적인 어린이\u001b[0m\n",
      "\u001b[31mFAMILY_TREE: parent\u001b[0m\n",
      "233번 문장 \"절약교실 실시 ◦학용품 아껴쓰기 ◦에너지 절약 교육 ◦쓰레기 감량 및 분리배출 교육 연중 전교생 생활인권\"을 통해 다음과 같은 질문을 생성할 수 있습니다.\n",
      "\n",
      "질문 1) 어떤 교실이 실시되었나요?\n",
      "답변: 절약교실이 실시되었습니다.\n",
      "(lexical search는 '절약교실'이라는 단어를 직접 찾아낼 수 있습니다.)\n",
      "\n",
      "질문 2) 절약교실에서 무엇을 가르쳤나요? \n",
      "답변: 학용품 아껴쓰기, 에너지 절약, 쓰레기 감량 및 분리배출을 가르쳤습니다.\n",
      "(semantic search는 '아껴쓰기', '절약', '감량', '분리배출'과 같은 관련 단어들을 인식할 수 있습니다.)\n",
      "\n",
      "질문 3) 누구를 대상으로 절약교실이 진행되었나요?\n",
      "답변: 전교생을 대상으로 진행되었습니다.\n",
      "(RAG-Fusion은 '누구'라는 질문에 대해 '전교생'이라는 문맥 정보를 생성할 수 있습니다.)\n",
      "\n",
      "질문 4) 절약교실이 어떤 목적으로 진행되었을까요?\n",
      "답변: 생활인권을 존중하기 위해 진행되었을 것입니다. \n",
      "(HyDE는 주어진 문맥에 직접적인 답변이 없더라도 \"생활인권\"이라는 단서를 통해 적절한 답변을 제시할 수 있습니다.)\n",
      "\n",
      "이렇게 다양한 검색 방법론을 활용하여 하나의 문장에서 여러 관점의 질문과 답변을 도출할 수 있습니다.\u001b[32mDOC ID: 142f2306-8a60-4300-8fb0-a65f62e314c7\u001b[0m\n",
      "\u001b[34mTEXT: □7 성폭력 예방 교육 보건교사 김○혜 1. 아동·청소년 성폭력 현황: 하루 25명 성폭력 피해(2018년도 국감자료) 가 근 간 자 해 령 : 균 해 로 : 저 , 최근 5년간 꾸준한 증가 아동 청소년: 남자 피해자 4.1% 피해 연령: 평균 14.6세 은 을 피해 경로: SNS 메신저, 어플리케이션 등이 가장 많은 비중을 차지함. 지 . 성폭력은 아는 사람에 의한 경우가 63.3%로 가장 높음 2. 성폭력이란? 성과 관련하여 상대방의 동의 없이 행해지는 모든 신체적, 언어적, 정신적 폭력 3. 자주 발생하는 ‘또래 성폭력·성희롱’ 행동은? 가. 야한 말이나 사진, 동영상을 카카오톡, 밴드, SNS로 보냄 이 른 . . 정 유 의 에 해 에 나. 성장이 빠른 친구의 몸에 대해 지속적으로 놀리거나 특정 신체 부위에 대해 수시로 언급 서 다. 여학생의 치마 속 등을 휴대폰으로 찍어서 친구들에게 공유 로 급 라. 장난치는 척하면서 슬쩍 가슴이나 상대방의 생식기를 만짐 ☞ 장난이라고 생각하는 행동들이 성폭력 범죄이며, 가해자 행동임을 자녀들에게 반드시 지도 하여야 합니다. 4. 성폭력·성희롱 예방을 위한 좋은 습관 - ~ Safe! 안 전 하 게 친 구 들 과 생 활 하 려 면 ... 평 소 차 신 의 생 각 과 느 낌 을 정 확 하 게 표 현 하 는 습 관 을 가 져 요 . \"“ 좋 으 면 좋 다 ”, “ 싫 으 면 실 다 !” 확 실 하 게 표 현 해 요 . - 스 킨 십 을 하 고 싶 다 면 먼 저 허 락 을 구 해 야 해 요 . - 청 적 인 농 담 이 나 놀 이 , 불 필 요 한 신 체 첨 촉 은 안 돼 요 . - 여 러 사 람 이 \" 뽀 뽀 해 !'” 등과 같 은 성 적 인 행 동 을 시 키 거 나 강 요 하 면 안 돼 요 . - 친 체 노 출 이 나 성 적 인 행 동 을 사 진 찍 공 유 하 거 나 인 터 넷 에 올 리 면 안 돼 요 . I It‘l[)! 피 해 자 가 주 변 에 있 다 면 ... - 이런 말 은 친 구 를 더 힘 들 게 해 요 !( 덮 어 두 어 라 , 나 라 면 안 그 랬 을 텐 데 , 너 도 잘 못 했 네 .) - 이 야 기 를 잘 들 어 주 고 절 대 로 소 문 내 면 안 돼 요 . - 친 구 말 을 믿 어 주 고 전 문 기 관 의 도 움 을 받 도 록 꼭 권 하 세 요 . 5. 성폭력 발생 시 도움을 받을 수 있는 곳 여성 긴급전화 국번 없이 『1366』, 학교폭력(성폭력) 신고 『112』, 『117』 경기해바라기 아동센터 www.sunflower1375.or.kr, 031) 708-1375~6 성범죄알림e 사이트(http://sexoffender.go.kr), 스마트폰 성범죄알림e 앱 다운 설치 성매매 알선 권유행위 신고하기(경찰서 112, 경찰청 홈페이지 www.police.go.kr 사이버 범죄 신고) 6. 성범죄 예방을 위한 부모님의 역할 ① 자녀가 자주 다니는 곳, 집을 오가는 길에 위험요소가 있는지 미리 둘러보십시오. ② 아는 사람이라도 원하지 않는 신체 접촉을 하면 참고 있지 말고 단호하게 “싫다!”는 의사 표현을 하며 즉시 자리를 피하도록 알려줍니다. 신체 접촉 전 상대의 의사를 항상 먼저 물어보도록 알려줍 면 이 가 니다. 상대가 대답하지 않으면 yes라고 생각하는 경우 때문에 사안이 발생하는 경우가 많습니다. 무 다 . - 13 - 가 니 다 . 응답은 yes가 아니라 NO일 수 있습니다. ③ 호의를 베푼다고 모르는 사람을 따라가거나, 아는 사람이라도 가족이 아닌 경우 단 둘이 집에 있게 하거나 차를 타지 않도록 알려줍니다. 에 려 주 고 를 해 일 이 ④ 평소 성 지식에 대해 자연스럽게 알려주고 무엇이 성폭력인지 정확히 알게 해주십시오. @ ⑤ 평소 자녀와 충분한 대화를 통해 무슨 일이든지 부모님께 말할 수 있게 해주십시오. ⑥ 휴대폰 채팅 어플 사용자제: 청소년 대상으로 하는 휴대폰 채팅 어플의 종류가 많습니다. 실제로 청 소년에게 성범죄 등의 영향을 미치는 경우가 있으니 채팅 어플 사용 자제를 권유합니다 7. 성교육에 임하는 부모님의 자세 ① 자연스러운 대화의 분위기를 만들어 성교육을 합니다. ② 정확한 성지식을 알고 있어야 잘 지도하므로 부모님들도 올바른 성에 대해 공부해야 합니다. ③ 부부간에 존중하고 사랑하는 모습을 자녀 앞에서 자연스럽게 표현하도록 합니다. ④ 질문에 답할 때는 당황하거나 회피하지 말고 불충분한 대답이라도 좋으나 거짓말은 하지 말아야 합니다. - 성에 관한 설명은 구체적, 직접적으로 표현해야 합니다. 그 질문을 왜 했는지 알아보세요. ⑤ 성교육은 과학적인 면과 사회적, 윤리적인 면을 병행하여 가르쳐야 합니다. ⑥ 부모가 해결하기 어려운 문제는 전문교사나 상담기관을 찾습니다. 8. 디지털 성범죄 예방 디지터 서버시 안 전 하 고 자 유 로 운 세 상 을 위해 우 리 가 할 수 있 는 것 들 = OH™ 디 지 털 장 비 , 정 보 통 신 망 올 매 개 로 제삭 배포 유 통 되 는 형 식 의 범 죄 0 2} 8 사 이버 공 간 에 서는 다 른 사 람 의 개 인 정 보 나 타 인이 나 오 는 구 체 적 으 로는 Ol LTI 4891 9 SR 몰 래 카 메 라 제 작 물 _ ㅣ PUBIOME | |ceame Ay ｜ e “ 나 의 개 인 정 보 를 보 내 거 나 허 락 없 이 게 시 하 거 나 58 사 이 버 공 간 에 서 불 특 정 다 수 에 전 달 하 는 행 위 로 03 R |\\ 밝 메 랄 트 . / 관 비 화 트다 / . 토 sewn s 형 , 참 여 형 , 소 비 형 이 있 음 . 안 전 하 고 자 유 로 운 세 상 을 위해 우 리 가 할 수 있 는 것 들 0 2} 8 사 이버 공 간 에 서는 다 른 사 람 의 개 인 정 보 나 타 인이 나 오 는 ㅣ PUBIOME | |ceame Ay ｜ e 나 의 개 인 정 보 를 보 내 거 나 허 락 없 이 게 시 하 거 나 |\\ 밝 메 랄 트 . / 관 비 화 트다 / . 토 sewn s 디지터 서버시 = OH™ 디 지 털 장 비 , 정 보 통 신 망 올 매 개 로 제삭 배포 유 통 되 는 형 식 의 범 죄 구 체 적 으 로는 Ol LTI 4891 9 SR 몰 래 카 메 라 제 작 물 _ “ 58 사 이 버 공 간 에 서 불 특 정 다 수 에 전 달 하 는 행 위 로 03 R 형 , 참 여 형 , 소 비 형 이 있 음 .\u001b[0m\n",
      "\u001b[31mFAMILY_TREE: parent\u001b[0m\n",
      "1. 질문: 성폭력 예방을 위해 부모가 자녀에게 가르쳐야 할 중요한 습관은 무엇인가?\n",
      "답변: \"평소 자신의 생각과 느낌을 정확하게 표현하는 습관을 가져요. \"좋으면 좋다\", \"싫으면 싫다!\" 확실하게 표현해요.\"\n",
      "이 문장은 성폭력 예방을 위한 좋은 습관을 설명하고 있어, 어휘 검색이나 의미 검색으로도 답변할 수 있습니다.\n",
      "\n",
      "2. 질문: 부모가 자녀에게 가르쳐야 할 성지식에는 어떤 것이 있나요?\n",
      "답변: \"성교육은 과학적인 면과 사회적, 윤리적인 면을 병행하여 가르쳐야 합니다.\"\n",
      "이 문장은 성지식의 내용에 대해 설명하고 있어, 의미 검색이나 RAG 모델이 잘 답변할 수 있습니다.\n",
      "\n",
      "3. 질문: 디지털 성범죄의 유형에는 무엇이 있나요? \n",
      "답변: \"구체적으로는 몰래 카메라 제작물, 성적 이미지 비동의 유포, 불법 웹하드 운영 등이 있음. 형태로는 제작형, 참여형, 소비형이 있음.\"\n",
      "이 문장은 디지털 성범죄의 유형을 구체적으로 제시하고 있어, 어휘 검색이나 의미 검색으로도 답변 가능합니다.\n",
      "\n",
      "이렇게 문장에서 핵심 키워드나 개념을 잘 파악하면 각 검색 방식의 장단점을 고려하여 적절한 질문을 만들 수 있습니다. 예를 들어 HyDE 모델은 문맥 정보를 잘 활용하므로 맥락에 대한 이해가 필요한 질문에 적합할 것입니다.\u001b[32mDOC ID: becf19d7-f40a-46f1-9529-6efa63f2de26\u001b[0m\n",
      "\u001b[34mTEXT: 2. 교육활동 침해행위에 대한 조치\u001b[0m\n",
      "\u001b[31mFAMILY_TREE: parent\u001b[0m\n",
      "답변:\n",
      "\n",
      "1) 질문: 교육활동 침해행위에 대해 어떤 조치를 취할 수 있는지 묻는 질문\n",
      "이 질문에 대한 답변을 만들기 위해서는 문맥을 제대로 파악해야 합니다. 단순 키워드 검색만으로는 부족하기 때문에 의미 기반 검색이 효과적일 것입니다.\n",
      "\n",
      "2) 질문: 교육활동 침해행위의 구체적인 예시가 무엇인지 묻는 질문  \n",
      "이 질문에 답하기 위해서는 문맥 전체를 이해하고 관련 내용을 찾아야 합니다. RAG-Fusion 기법이 문맥을 다각도로 탐색하여 포괄적인 답변을 제공할 수 있습니다.\n",
      "\n",
      "3) 질문: 교육활동 침해행위에 대한 법적 근거는 무엇인지 묻는 질문\n",
      "주어진 문맥만으로는 이 질문에 대한 답변을 찾기 어렵습니다. HyDE 기법을 사용하여 추론된 문서를 바탕으로 답변을 도출해야 할 것입니다.\n",
      "\n",
      "이렇게 다양한 질문을 만들어 봄으로써 서로 다른 검색 방식의 장단점을 파악할 수 있습니다. 단순 키워드 검색보다는 의미 이해를 기반으로 한 검색이 더 나은 결과를 제공할 것입니다.\u001b[32mDOC ID: 0689af65-d5cc-4b35-b321-356d99c1f11c\u001b[0m\n",
      "\u001b[34mTEXT: 방 4. 예방 ☞ 교권 보호가 곧 학생의 학습권 보장임 모 두 의 권 권 생 중 요 ☞ 학생과 학부모 교사 모두 교원의 교권 및 학생 인권 상호 존중 필요 17 - 10 방과후학교 운영 교사 전○연 1. 목적 ㅎ © 어린이들의 소질, 적성, 창의력을 계발하고 취미, 특기신장 교육기회 제공 학교 밖의 과외 욕구를 학교 안으로 흡수하여 사교육비 절감 학교 시설 및 지역사회 인적자원의 활용을 극대화하여 다양한 학습기회 제공 2. 상록 방과후 학교 운영 상황 황 특기적성 운영 프로그램\u001b[0m\n",
      "\u001b[31mFAMILY_TREE: parent\u001b[0m\n",
      "예방에 대한 문단이 있습니다. 이 문단을 통해 각 검색 방법의 장단점을 잘 보여줄 수 있는 질문들을 만들어 보겠습니다.\n",
      "\n",
      "1. 질문: 학생의 학습권을 보장하기 위해서는 무엇이 필요한가?\n",
      "답변: 교권 보호\n",
      "\n",
      "이 질문에 대해 어휘 검색은 \"학습권\"과 \"교권\" 단어를 찾아서 답변할 수 있습니다. 하지만 의미 검색은 \"보장\"이라는 단어의 의미를 파악하여 교권 보호와 학생 학습권 보장 간의 관계를 이해할 수 있습니다.\n",
      "\n",
      "2. 질문: 교권과 학생 인권을 상호 존중하는 것이 중요한 이유는 무엇인가? \n",
      "답변: 모두의 권리 생활을 위해\n",
      "\n",
      "이 질문에는 \"상호 존중\"이라는 문맥적 의미를 이해해야 합니다. 어휘 검색으로는 부족하지만, 의미 검색을 통해 \"모두의 권리 생활\"이라는 의미를 파악할 수 있습니다.\n",
      "\n",
      "3. 질문: 교권 보호와 학생 인권 존중은 누구에게 필요한가?\n",
      "답변: 학생, 학부모, 교사 모두\n",
      "\n",
      "이 질문에 대해서는 RAG-Fusion과 같은 방법이 \"학생, 학부모, 교사 모두\"라는 구체적인 답변을 도출할 수 있습니다. 어휘나 의미 검색만으로는 이 답변을 얻기 힘듭니다.\n",
      "\n",
      "위 예시들을 통해 각 검색 방법의 장단점을 보여줄 수 있습니다. 어휘 검색은 정확성이 높지만 문맥을 고려하지 않아 제한적입니다. 의미 검색은 문맥을 파악하지만 구체적인 답변은 어렵습니다. RAG-Fusion 등의 방법은 보다 구체적이고 완전한 답변을 도출할 수 있습니다.batch 0 completed\n",
      "\u001b[32mDOC ID: 45d1171b-b64c-48dc-bd31-caf9841712d1\u001b[0m\n",
      "\u001b[34mTEXT: ❍ 인터넷 중독 예방 교육 실시(전교생, 연중) ❍ 스마트폰 이용 자율 신철 규칙 제정 운영(3~6학년, 연중) ❍ 가정과 연계한 스마트폰 이별 주간 자율 운영(4~6학년, 2024 여름방학) ❍ 저작권 교육(4~6학년, 연중) ❍ 교직원 및 학부모 정보통신윤리 연수(연 1회) ❍ 청소년 미디어 이용습관 진단조사 실시(1,4학년, 6월) 4) 참고 사항 ❍ 홈페이지 상 정보통신윤리교육 주간 배너 탑재 및 팝업 창을 통한 홍보 ❍ 가정통신문 및 SNS 등을 활용한 정보통신윤리교육 주간 운영의 취지홍보 5) 유의 사항 및 기대효과 ❍ 정보통신윤리교육을 적극적으로 실시하여 정보통신윤리 교육에 대한 인식 전환이 될 수 있도록 함. ❍ 올바른 인터넷 및 스마트폰 사용을 통해 바람직한 인터넷 문화가 조성되는 것을 기대함. - 22 - 14 정보보안 및 개인정보보호 운영 계획 교사 고○용 1) 목적 ❍ 체계적이고 효율적인 정보보안 활동으로 각종 정보보안 사고를 예방하고, 사이버 공격에 대응하기 ❍ 개인정보를 체계적으로 관리하고 개인정보 수집을 최소화 하여 개인정보가 분실, 도난, 누출, 변조, 훼손, 남용되지 않도록 하기 2) 방침 ❍ 방화벽을 통한 보안정책 수립 및 불필요한 포트를 제거하여 외부에서의 불법적 접근을 사전 차단하기 ❍ 정기적인 백신 및 운영체제 업데이트로 업무용 PC보안을 강화하기 ❍ 업무용 PC에 개인정보파일을 보유하고 있는 경우, 파일 암호 설정 등 개인정보 파일의 철저한 보호를 위한 조치하기 ❍ 개인정보보호와 정보보안 교육 실시하기 ❍ 개인정보 수집의 최소화 (꼭 필요한 자료만 수집할 수 있도록 연수 및 안내) 3) 추진내용 ❍ [상시] 사이버보안 진단의 날 운영 - 내 PC지킴이 실행: 매월 세 번째 수요일(월 1회) - 내 PC지킴이 실행 결과 보고: 매월 말 (월 1회) - 내 PC지킴이 실행 독려 및 정보보안 및 개인정보보호 관련 주요사항 안내 ❍ [상시] 개인정보 파일 정비 - 내용: 개인정보보호 종합지원시스템(intra.privacy.go.kr)에 개인정보파일등록 (파일명에 따른 보유건수, 보유기관, 담당자 등) ❍ 개인정보 수집이용 및 제3자 정보제공 동의서 발송 및 수합 - 대상: 전교생 - 일시: 3월 초 ❍ 정보보안과 개인정보보호 교직원 연수 실시 - 일시 : 4월 - 연수 내용: 개인정보 보호 및 정보보안 - 교육 방법 : 비대면 시청각 자료 및 쌍방향 프로그램 이용 ❍ 주요 정보통신 시설 관리 - 학내망 장비 및 서버 관리실 통제구역 설정 - 시스템 및 장비별 관리 책임자 지정, 시스템의 주기적 점검 - 무선통신 보안 관리(업무용 pc에서 무선 접속장치 사용금지) ❍ 기타 - 외부용역업체 보안관리 - 학교홈페이지 개인정보 처리방침 내용 수정 관리 (개인정보 책임자 또는 담당자가 변경되었을 경우이거나 개인정보 파일명과 보유기간 등의 변경 사 항을 최대한 빠른 기간에 반영) 4) 기대 효과 ❍ 정보보안 활동으로 각종 정보보안 사고를 예방하고, 사이버 공격 대응태세 갖추기 ❍ 개인정보가 분실, 도난, 누출, 변조, 훼손, 남용되지 않도록 노력하는 학교문화 만들기 - 23 - 15 불법찬조금 근절을 위한 학부모 연수 교감 김○식 Ⅰ 불법찬조금 처분 기준 불법찬조금 관련 처분기준(2020. 3. 1. 시행) 처분기준 금액\u001b[0m\n",
      "\u001b[31mFAMILY_TREE: parent\u001b[0m\n",
      "1) 질문: 학교에서 정보통신윤리 교육을 실시하는 주요 내용은 무엇인가?\n",
      "답변: ❍ 인터넷 중독 예방 교육 실시(전교생, 연중) ❍ 스마트폰 이용 자율 신철 규칙 제정 운영(3~6학년, 연중) ❍ 가정과 연계한 스마트폰 이별 주간 자율 운영(4~6학년, 2024 여름방학) ❍ 저작권 교육(4~6학년, 연중)\n",
      "\n",
      "이 문장들은 학교에서 실시하는 정보통신윤리 교육의 구체적인 내용을 나열하고 있어, 단순 키워드 검색 뿐만 아니라 의미 파악이 필요하므로 의미 검색과 RAG 퓨전 등의 방법이 적합할 것으로 보입니다.\n",
      "\n",
      "2) 질문: 학교에서 정보보안과 개인정보보호를 위해 어떤 조치를 취하고 있는가?\n",
      "답변: ❍ 방화벽을 통한 보안정책 수립 및 불필요한 포트를 제거하여 외부에서의 불법적 접근을 사전 차단하기 ❍ 정기적인 백신 및 운영체제 업데이트로 업무용 PC보안을 강화하기 ❍ 업무용 PC에 개인정보파일을 보유하고 있는 경우, 파일 암호 설정 등 개인정보 파일의 철저한 보호를 위한 조치하기\n",
      "\n",
      "이 문장들은 정보보안과 개인정보보호를 위한 구체적인 실행 방안을 담고 있어 키워드 검색만으로는 부족하고, 문맥 파악이 필요합니다. 따라서 의미 검색이나 RAG 퓨전 등의 방법이 적절할 것 같습니다.\n",
      "\n",
      "3) 질문: 학교에서 개인정보보호를 위해 어떤 교육을 실시하는가? \n",
      "답변: ❍ 개인정보보호와 정보보안 교육 실시하기\n",
      "\n",
      "이 문장은 간단하지만 개인정보보호 교육 실시 여부를 명시적으로 밝히고 있어, 키워드 검색으로도 답변이 가능할 것입니다.\n",
      "\n",
      "이렇게 문맥과 구체성 정도에 따라 적절한 검색 방식이 다를 수 있음을 보여주는 질문과 답변을 만들었습니다. 단순 키워드 검색으로 답변 가능한 경우도 있지만, 문맥 파악이 필요한 경우에는 의미 검색이나 RAG 퓨전 등의 방법이 더 적절할 것으로 보입니다.\u001b[32mDOC ID: 60e612cc-3450-4113-9b9e-30f6143dc37e\u001b[0m\n",
      "\u001b[34mTEXT: 18 생명존중 및 생명살림(자살예방) 교육 자살은 치명적인 결과를 초래하는 자해 행위로 어느 정도 자살 의도를 갖고 그 동기를 인지하면서 자 기 자신에게 가한 상해라고 정의합니다. (WHO, 1968) 2020년, 청소년 건강행태 온라인 조사에 따르면 10.9%의 학생은 자살 생각을 가지고 있고 2.0%는 자살 시도를 하였습니다. 많은 아이들은 초등학교 때부터 이런 생각이 시작되었다고 하며, 다양한 방법으로 도움을 요청하지만 어른들은 미처 알아차리지 못하기도 합니다. 조금만 예민하게 살펴보면 자녀의 극단적인 선택은 막을 수 있습니다. 소중한 자녀들 이 죽고 싶다는 절망적인 생각을 할 때 보이는 언어, 행동, 정서 표현의 신호들이 무엇인지 알아보고 이런 징후가 감지되었을 때는 즉각적, 적극적인 도움이 필요합니다. 11 죽음에 대한 개념이 확립되는 시기 : 만 10세 경 -만 10세 이전의 자녀가 죽고 싶다는 말을 할 때는 어른들이 생각하는 죽음의 개념이 아니라, 너무 힘들다는 호소일 수 있습니다. -죽고 싶다는 자녀의 호소를 무시하거나 야단치지 않습니다. 22 청소년기 우울증의 특징 - 심한 짜증, 분노, 기분의 변덕이 심함 - 학업 성적 저하 - 또래관계 위축, 등교 거부 - 과도한 수면, 폭식 - 비행과 중독, 성적 문제 33 청소년기에 자살이 많은 이유 -급격한 신체적, 정서적, 지적 변화 -자아발달의 미숙, 과도한 입시 경쟁 -급격한 사회변화에 따른 가치관의 갈등 -가족 구성원 간의 결속력 약화 -자살에 대한 태도의 변화 44 죽음을 생각하는 아이들이 보이는 징후 1) 식사와 수면 습관이 변합니다. 식사를 잘 하지 못하거나 잠을 잘 자지 못 합니다. 2) 짜증이 늘어나고 침울하고 우울하게 보입니다. 3) 두통, 복통, 소화불량 등 신체 증상을 호소합니다. 4) 일기장이나 SNS에 죽고 싶다는 표현을 하기도 합니다. 5) 지각, 등교 거부 등 평상시 해오던 일상 활동을 제대로 하지 못합니다. 6) 집에서 대화를 거부하고 무기력하게 누워만 있을 수 있습니다. 7) 반항적이고 공격적인 태도와 행동을 보이기도 합니다. 8) 스스로 신체에 상처를 입히는 위험한 행동을 보입니다. 9) 사후 세계를 동경하거나 자기 비하적인 태도를 보입니다. 10) 자기 주변을 정리하고 평소 아끼던 소유물을 다른 사람들에게 나누어 줍니다. 11) 방에 혼자 있으려고 하면서 인터넷 검색을 자주 합니다. 12) 이상한 물품을 구입하거나 갑자기 여행을 떠나려고 합니다. - 30 - 11 22 33 44 교사 서○희 55 55 자녀가 죽음에 대해서 이야기할 때 부모가 도와줄 수 있는 방법 1) 반드시 직접적으로 물어봐야 합니다. “너 요즘 많이 침울해 보이는데, 혹시 죽고 싶은 생각이 들기도 하니?” “네가 죽고 싶다고 써 놓은 메모를 봤어. 너무 걱정 되는구나” 2) 아이가 죽고 싶다고 이야기한다면 매우 당황스럽겠지만 일단 충분히 들어주시고 더 구체 적으로 물어보세요. -언제부터, 왜 그런 생각이 들었는지 물어보세요. -혹시 구체적인 계획을 했는지, 어떤 방법으로 하려고 했는지, 죽으려는 행동을 시도한 적이 있는지 물어보세요. ‘직접적이고 구체적인 질문이 자살의 위험을 높이지는 않습니다’ 3) 문제의 심각성을 부정하지 않고 아이의 입장에서 충분히 공감해 주며, 도와주고 싶다는 의사를 전달합니다. -‘죽겠다’는 자녀의 말이 단순한 투정으로 느껴지더라도 자녀의 입장에서는 그 문제는 삶과 죽음의 문제일 수 있습니다. 자녀의 입장에 서서 진지하게 이해하고 고통을 나누려고 노력해야 합니다. “엄마(아빠)가 널 어떻게 도우면 좋을까?” “그런 일이 있어서 네가 죽고 싶은 생각까지 들었던 거구나. 그 일을 엄마(아빠)가 도와줄테니 함께 해결해 보자.” “내가 보기엔 네가 많이 힘들어하는 것 같은데, 함께 병원에 가보지 않을래?” 4) 자녀의 긍정적인 측면을 지지해 줍니다. “너는 이 어려움을 이겨낼 힘이 있어. 도와줄게” “네 생각보다 우리 가족은 너에게 관심을 갖고 있고 너에겐 친구들도 있잖아.” 5) 스트레스를 건강하게 해소하는 활동을 찾을 수 있도록 도와주세요. 아이가 하고 싶 어 하고 잘하는 활동을 독려하되 압력을 가하지 않는 것이 좋습니다. 6) 신속한 조치를 취합니다. -만일 어느 시점에서 자살을 감행하려는 전조나 불안한 기분을 느낀다면, 주저하지 말고 전문가의 도 움을 요청합니다. - 31 -\u001b[0m\n",
      "\u001b[31mFAMILY_TREE: parent\u001b[0m\n",
      "1) 질문: 아이가 \"죽고 싶다\"고 말했을 때 어른들이 알아차리지 못했던 이유는 무엇일까요?\n",
      "답변: \"만 10세 이전의 자녀가 죽고 싶다는 말을 할 때는 어른들이 생각하는 죽음의 개념이 아니라, 너무 힘들다는 호소일 수 있습니다.\"\n",
      "이 문장을 통해 아이가 \"죽고 싶다\"고 말했을 때 어른들이 아이의 말을 죽음에 대한 개념으로 인식하지 못했기 때문에 중요성을 간과했음을 알 수 있습니다.\n",
      "\n",
      "이런 질문은 어휘적 검색에서는 \"죽고 싶다\"라는 단어가 포함되어 있어 답변을 찾을 수 있지만, 의미 해석이 부족해 완벽한 답변을 제공하기는 어렵습니다. 반면 RAG 퓨전이나 HyDE와 같은 의미 기반 검색 방식은 \"죽음의 개념\"과 \"호소\"의 의미를 연결 지어 문맥을 이해할 수 있어 적절한 대답을 도출할 수 있습니다.\n",
      "\n",
      "2) 질문: 청소년기에 자살이 많은 이유는 무엇일까요?\n",
      "답변: 문장 \"급격한 신체적, 정서적, 지적 변화 - 자아발달의 미숙, 과도한 입시 경쟁 - 급격한 사회변화에 따른 가치관의 갈등 - 가족 구성원 간의 결속력 약화 - 자살에 대한 태도의 변화\"를 통해 청소년기의 신체적, 심리적 변화와 사회적 압박 등의 요인으로 자살 위험이 높아짐을 알 수 있습니다.\n",
      "\n",
      "이 질문에 대한 답은 여러 요인들이 나열되어 있기 때문에 단순 어휘 검색만으로는 충분한 답변을 구하기 어렵습니다. 하지만 의미 기반 검색 방식은 \"청소년기\", \"자살\", \"이유\" 등의 키워드와 문맥을 연결 지어 적절한 답변을 도출할 수 있습니다.\n",
      "\n",
      "3) 질문: 아이가 죽음을 생각한다는 징후에는 어떤 것들이 있나요?\n",
      "답변: 문장 \"식사와 수면 습관이 변합니다..., 짜증이 늘어나고 침울하고 우울하게 보입니다..., 일기장이나 SNS에 죽고 싶다는 표현을 하기도 합니다..., 평상시 해오던 일상 활동을 제대로 하지 못합니다..., 스스로 신체에 상처를 입히는 위험한 행동을 보입니다...\" 등에서 여러 가지 징후들이 나열되어 있습니다.\n",
      "\n",
      "이 경우 단순 키워드 검색만으로도 \"징후\", \"죽음\" 등의 키워드를 통해 해당 문장을 찾아낼 수 있습니\u001b[32mDOC ID: 2d38a572-6e81-4528-b337-377ee54da586\u001b[0m\n",
      "\u001b[34mTEXT: 19 교육활동 참여자 안전교육(녹색, 폴리스) 교사 이○혜 1.1. 목적목적 어린이들의 통학로 안전성을 확보하고, 안전하게 등하교 할 수 있도록 도와주며, 아동 대상 범죄 및 학 교 주변에서 자주 발생하는 학교폭력과 유해환경에서 어린이들을 안전하게 보호하기 위함임. 2. 다양한 발생 사례 2. 다양한 발생 사례 가. 스쿨존 내 학생 교통사고 사례 : 아이들은 잘 뛰어다녀요 r\\/\\QU CICRONCORES . 교 ① 무단횡단을 하는 어른을 보고 따라하는 경우 ② 초록불이 들어오자마자 갑자기 뛰어드는 경우 ③ 인도가 없는 이면도로를 지다가는 경우 ④ 횡단보도 앞에 주‧정차된 차 앞을 지나가는 경우 ⑤ 통학버스 또는 부모님 차량에서 내려 급하게 횡단보도를 건너가는 경우 보 요 . 아 험 례 : 고 는 나. 학교 교육활동 중 위험 사례 : 아이들은 몸집이 작아 잘 안보여요 ① 차도로 굴러가는 공을 쫒아가는 아이 ▶ 어른의 도움을 받도록 함. ② 차 밑에서 공(물건)을 빼고 있는 아이 ▶ 어른의 도움을 받도록 함. ③ 차 뒤에서 놀고 있는 아이 ▶ 위험한 장소에서 놀지 않도록 함. ④ 공사장 옆에서 놀고 있는 아이 ▶ 위험한 장소에서 놀지 않도록 함. ※ 사고 발생 시 이렇게 대처해주세요 →119 신고 및 사고 2차 피해 방지 최초 발견자 →학교 교직원(담당교사 등)에 즉시 연락 ※ 어린 학생들은 사고가 나면 혼이 날까봐 얘기를 잘 못하는 경우가 있는데요. 경미한 사고라도 꼭 선생님 또는 부모님께 연락하고 치료를 받도록 해요. 다. 학교 재난 발생 사례 학교 화재, 수상한 사람이 학교에 진입(테러, 유괴 등), 지진, 폭발, 붕괴 등 ※ 재난 발생 시 이렇게 대처해주세요 ◦ 화재발생 최초 목격자는 “불이야!”하고 외치고 비상벨을 누른 화재 후, 119에 신고(담당교사에게 즉시 연락) ◦ 초기 진화가 가능한 경우, 소화기(소화전 등)을 이용하여 진화 시도(단, 개인의 안전과 학생 대피 우선) ◦ 건물 안에서 대피할 때에는 젖은 수건으로 코와 입을 막고 낮은 자세로 신속히 대피(승강기는 질식 우려, 계단 이용) 테러 지진 ◦ 학교 방문자는 반드시 방문대장 기록 및 방문증 수령 ◦ 폭발물이 의심되는 수상한 가방은 열어보지 말고 112에 신고(담당 교사에게 즉시 연락) ◦ 테러범 발견 시, 112 신고, 교내에 즉시 알림 (개인의 안전 확보 필수) ◦ 지진 발생 시, 가방 및 방석 등으로 머리를 보호 ◦ 건물 안에 있을 시, 머리를 보호하며 운동장으로 대피(계단 이용) ◦ 건물 밖에 있을 시, 떨어지는 물건에 대비 머리를 보호하고 건물과 거리를 두고 넓은 공간으로 대피 ◦ 엘리베이터 안에 있을 시, 모든 층의 버튼을 눌러 가장 먼저 열리는 층에서 내린 후 계단으로 이동 ◦ 해안에서는 해일에 대비하여 높은 곳으로 이동 - 32 - ◦ 폭발물 및 붕괴 위험 시설물 발견 시, 즉시 교육행정실 또는 담당교사에게 폭발 붕괴 연락(개인의 안전 확보 필수) ◦ 유리 파편이나 낙하물에 대비하여 머리와 얼굴을 보호 ◦ 부상자는 추가 폭발, 붕괴 등 2차 피해에 대비하여 가능한 빨리 안전 한 곳으로 대피 후 응급처치(119 신고, 담당교사 연락 등) ※ 안전한 근무를 위해 이렇게 대처하세요 여름철 폭염 <폭염 대비 3대 건강 수칙> ◦ 물 자주 마시기 ◦ 시원하게 지내기(그늘, 실내 등) ◦ 더운 시간대에 휴식하기 겨울철 빙판길 ※ 학교 정문 및 진입로에 빙판길 발견 시에는 학교 담당 교직원에 연락하여 안전사고에 예방합니다. <행동요령> ◦ 얇은 옷을 여러 벌 겹쳐 입기 ◦ 장갑을 끼고 손을 주머니에 넣지 않기 ◦ 평소보다 보폭을 10~20% 좁게 걷기 봄철 미세먼지 <행동요령> ◦ 매일 아침 기상상황 확인 ◦ 외출 시 마스크 착용, 외출 후 손과 얼굴 씻기 ◦ 충분한 수분 섭취 여름 및 가을 호우, 태풍 응급처치 <행동요령> ◦ 시설물 파손이나 누수 발견 시, 담당교직원에 연락 ◦ 집중호우 또는 태풍 등으로 인해 발생하는 고인 웅덩이, 낙하물 등에 유의 ◦ 걷는 중에는 스마트폰 사용 자제, 주변 경계 ※ 학교에서 쓰러져있거나, 크게 다친 사람을 발견했다면 즉시 119에 신고하고 담당교직원에게 반드시 연락 - 소정의 응급처치교육을 받아 응급처치가 가능하다면 아 래의 주의사항을 숙지하고 상황에 따라 조치하고, 그렇지 않다면 119 또는 학교 교직원의 도움을 받음 <응급처치 시 주의사항> ◦ 본인의 안전을 우선적으로 확보한다.(2차 피해, 상황에 대한 오해의 소지 등) ◦ 응급 상황일 때는 즉시 119에 연락한다. ◦ 함부로 물이나 음식물, 약을 먹이지 않는다. ◦ 환자에 대한 생사의 판정을 하지 않는다. ◦ 환자의 몸에서 나온 구토물이나 혈액 등이 자신의 몸에 닿지 않도록 주의한다. ◦ 환자를 안전한 지역으로 옮기되, 이로 인해 2차 손상이 우려될 경우에는 옮기지 않는다. ◦ 최종적으로는 전문 의료인의 처치에 맡긴다. P = m\\b ※ 응급상황 발생 시 119 신고 방법 (환자의 상태가 위급할 때 즉시 119에 도움 요청) ◦전달 내용 : 사고 장소 (가능하다면 명확한 주소), 주요 건물, 사고 종류, 환자 상태, 부상자 수 등 통보(일반적으로 부상자 1명에 구급차 1명) ◦구급차 도착 전까지 전화로 응급처치 요령을 지도 받을 수 있음. ◦신고 후에는 구급차 도착 전까지 연락유지를 위해 다른 통화는 자제하고 먼저 전화를 끊지 않음. - 33 -\u001b[0m\n",
      "\u001b[31mFAMILY_TREE: parent\u001b[0m\n",
      "답변: 1) 어린이들의 통학로 안전성을 확보하기 위한 다양한 사례들이 제시되어 있습니다. 이를 통해 의도와 맥락을 파악할 수 있으므로 의미 기반 검색(semantic search)이나 RAG-Fusion 등의 방법으로 관련 내용을 잘 검색할 수 있을 것 같습니다. \n",
      "\n",
      "예시 문제: 어린이들의 통학로 안전을 위협하는 위험 요인들과 그에 대한 대처 방안은 무엇인가?\n",
      "\n",
      "2) 각종 재난 상황별 대처 방안이 구체적으로 나열되어 있습니다. 이는 키워드 검색만으로도 관련 정보를 잘 찾을 수 있을 것 같습니다. \n",
      "\n",
      "예시 문제: 학교에서 화재가 발생했을 때 어떻게 대처해야 하는가?\n",
      "\n",
      "3) 응급상황 발생 시 119 신고 방법에 대한 설명이 있습니다. 이는 통합 정보가 비교적 잘 정리되어 있어 의미 검색이나 RAG-Fusion 등으로 관련 내용을 효과적으로 찾을 수 있을 것 같습니다.\n",
      "\n",
      "예시 문제: 119에 신고할 때 전달해야 하는 주요 내용에는 무엇이 있는가?\n",
      "\n",
      "위와 같이 문서에 나열된 다양한 상황과 대처 방안들을 활용하면 의미 검색, 키워드 검색, RAG-Fusion 등 여러 검색 방식의 장단점을 잘 드러낼 수 있는 문제를 출제할 수 있습니다.\u001b[32mDOC ID: c06f46c2-9864-49d4-ae36-d14a5487c38d\u001b[0m\n",
      "\u001b[34mTEXT: 청 렴 경 기 교 육 , 를 통 한 당 신 의 용 기 가 필 요 합 니 다 . 공 익 제 보 란 ? 2 e v 말 은 영 국 경 찰 관 이 호 루 라 기를 돋이 시민의 위 법 행 위 와 동 료 의 비 리 를 경 계 하 던 것 에 서 유 래 되 었 습 니 다 따 라 서 곡 익 제 보 재 빠 테 ㅎ 0는 공 익 을 위해 용 기 있 게 정 의 의 호 루 라 기를 부는 사 람 을 말 합 니 타 . 당 신 의 용 기 가 청 렴 한 경 기 교 육 을 만 들 수 있 습 니 다 . ‘ 누 구 든 지 신 고 할 수 있 습 니 다 . — 신 고 대상 공 익 침 해 행 위 《 경 기 도 교 육 청 공 익 제보 보 호 와 지 원 에 관 한 =2 제 2 조 ) 경 기 도 교 육 청 교 직 원 S ㅜ 『 공 역 신 고 자 보 호 법 」 에 따 른 공 익 침 해 행 위 — 『 부 패 방 지 권 익 위 법 」 에 따 른 부 패 행 위 — 『 경 기 도 교 육 청 공 무 원 행 동 강 령 」』 위 반 행 위 — 그 밖 의 경 기 도 교 육 청 의 청 렴 도 를 훼 손 하 는 행 위 | 4 ※ 『 부 패 밤 지 권 약 위 법 」 개 정 (20'7.4.58.) 으 로 사 립 학 교 교 직 원 및 학 교 법 인 임 직 원 의 부 패 행 위 도 보 호 - 보 상 제 도 적 용 대 상 에 포 함 공 익 제 보 는 이 렇 게 신 고 방 법 . 판 며 -6] - 전 화 031) 2490-999 ＊ 이 메 일 \"007209@906.90. [ 경 기 도 교 육 청 홈 폐 이 지] = hito: /fwww.goe gokr 『 부 조 리 신 고 및 상 담 』 = 공 익 제 보 자 보 호 합 니 다 . 오 — 제 보 자 등에 대 한 보 호 < 경 기 도 교 육 청 공 익 제보 보 호 와 지 뭔 에 관 한 조 례 제 !2 조 ) ㅡ 비 밀 보 장 및 불 이 역 조 치 금 지 - 제 보 와 관 련 한 위 법 행 위 발 견 시 제 보 쟈 에 대 한 책 임 감 면 가 능 — 인 사 조 치 의 우 선 적 고 려 | 4 — 제 보 자 에 대 한 보 상 기 준 ( 지 급 한 도 액 최 대 30 억 원 ) ( 경 기 도 교 육 청 공 익 신 고 보 상 금 지 급 에 관 한 조 례 제 !2 조 } 지 급 기 준 맥 수 수 액 의 106 미 내 추 장 액 또 는 환 수 액 의 20% 미 내 신 고 유 형 28 수 수 W 향 응 을 제 공 받 는 행 위 부 당 한 미 득 을 연 거 나 경 개 도 교 육 청 재 줘 에 츠 시 을 끼 치 는 행 위 대 가 수 수 액 의 10 빼 미 내 공 정 한 직 무 수 행 을 방 해 하 는 갈 선 ㆍ 청 틱 행 위 @ - 정 탁 행 위 신 고 300 만 원 이 내 부 조 리 근 절 을 죄 기 적 므 로 기며 부 조 리 =308 기며 ＊ 신 고 기 한 : 부 조 리 행 위 발 생 일 부 터 3 년 ( 횡 령 - 유 용 은 5 년 》 ! 고 자 의 신 청에 따 라 경 기 도 교 육 청 공 익 신 고 보 상 금 지 급 심 의 위 원 회 에 서 의 결 하 여 최 종 결 정 된 금 액 을 지 급 %’ =4 ?’7/.12,? 2wl 필램륭몰 훼 슨 한 행 위 공 직 비 리 신 고 아 -2) hotine@goe.gokr / 031-2490-5999 * 궁 기 도 교 육 정 - 38 - 24 존중과 배려의 교육환경 조성 예방 교육(갑질 근절) 교감 김○식 1. 갑질 개념 사회·경제적 관계에서 상대방보다 우월적 지위에 있는 갑이 권한을 남용하여 을에게 부당한 요구나 처우 ○ 위법 또는 재량권 일탈·남용에 해당하는 행위 ○ 적법 또는 재량권 내의 행위라도 인격적 모멸감을 유발하는 경우 2. 유형 (이익 추구형) 갑(甲)이 우월적 지위를 활용하여 유무형의 이익을 취하는 행위 ※ 금품향응 수수, 사적 심부름 편의 요구, 상대 기관에 책임·비용전가 동 (불이익 처우형) 을(乙)에게 업무적 또는 인격적 불이익을 주는 행위 ※ 부당한 인·허가 불허·지연, 부당한 전보 발령, 승진 누락, 불필요한 업무 지시 ※ 폭언 폭행 등 인격모독, 성희롱·성추행 성폭력 등\u001b[0m\n",
      "\u001b[31mFAMILY_TREE: parent\u001b[0m\n",
      "아래 문장들은 검색 방식의 차이를 잘 보여줄 수 있습니다.\n",
      "\n",
      "\"당신의 용기가 청렴한 경기교육을 만들 수 있습니다.\"\n",
      "\"공익제보는 공익을 위해 용기 있게 정의의 호루라기를 부는 사람을 말합니다.\"\n",
      "\n",
      "1) 어휘 검색의 경우: \n",
      "질문: 경기교육을 청렴하게 만드는 방법은 무엇인가?\n",
      "답변: 문장에 \"청렴한 경기교육\"과 \"용기\"라는 단어가 있으므로, 용기있게 행동하는 것이 경기교육을 청렴하게 만드는 방법이라고 할 수 있습니다.\n",
      "\n",
      "2) 의미 검색의 경우:\n",
      "질문: 부패 근절을 위해 어떤 행동이 필요한가? \n",
      "답변: \"공익제보\"와 \"정의의 호루라기\"라는 표현으로 미루어 볼 때, 부패 행위를 고발하고 용기내어 바른 행동을 하는 것이 부패 근절에 필요한 행동임을 알 수 있습니다.\n",
      "\n",
      "3) RAG 통합의 경우:\n",
      "질문: 교직원들의 부패 행위를 예방하기 위해서는 어떤 조치가 필요한가?\n",
      "답변: 원문에 교직원들의 부패행위 신고 방법과 제보자 보호 조치 등이 있으므로, 이를 통해 교직원 부패행위 예방을 위해서는 제보 활성화와 제보자 보호 조치가 필요함을 알 수 있습니다.  \n",
      "\n",
      "4) HyDE의 경우: \n",
      "질문: 교직원들이 갑질 행위를 하지 않도록 하려면 어떤 대책이 필요한가?\n",
      "답변: 원문에는 갑질 행위에 대한 직접적인 내용이 없지만, 공익제보와 제보자 보호 제도를 통해 교직원의 부당한 행위를 예방할 수 있을 것으로 추론할 수 있습니다.\n",
      "\n",
      "위와 같이 각 검색 방식의 특성에 맞는 질문과 답변을 만들어 보았습니다.\u001b[32mDOC ID: 19f1448f-3f05-4a59-b92d-010ba0958beb\u001b[0m\n",
      "\u001b[34mTEXT: 3. 주요 사례 o 공익의 목적이 아닌 개인적인 불만 사항에 대하여 본인이 원하는 대로 들어주지 않았다고 악의적으로 반복적 민원을 제기하는 등의 행위 o 민원 제기 시 직원들에게 고성이나 반말, 화풀이하는 식의 행위 o 정당한 훈육에 대해 무조건 항의 및 질책하는 행위 o 사적 심부름을 시키는 행위 o 강압적인 말투로 상대의 자존감을 떨어뜨리는 행위 - 39 - 25 교육활동보호 예방 교육 교사 나○철 2024년 달라지는 점 1. 교육지원청 교권보호위원회 설치 ⇒ 교권보호위원회 전문성·객관성 강화 2. 학부모의 교육활동 침해행위에 대한 조치 부과 ⇒ 학부모에 의한 부당한 간섭 억제 Ⅰ. 교육활동 보호의 필요 1. 교육활동보호는 교원의 수업권과 학생의 인권을 보장함으로써 교원·학생·학부모 모두가 행복한 학교 만들기의 밑거름이 됩니다. 가. 학생의 학습권 보호 슬 4 블 블 심 블 밤 블 빌 암 블 U u 질 이 유 지 되 고 학 생 들 의 학 습 효 과 를 기 대 할 수 있 습 니 다 . 교 육 활 동 보 호 의 주 목 적 은 안 정 적 교 원 이 안 심 하 고 교 육 활 동 에 집 중 할 때 수 업 의 인 수 업과 학 습 권 의 보 장 입 니 다 . 나. 배움과 실천의 인성교육: 인성교육은 학습한 내용을 일상생활에서 내면화·인격화하는 과정이 연계 되어야 합니다. 교원은 제자를 사랑하고 학생은 스승을 존경하는 문화는 학생의 올바른 인격 성장에 중요한 배경이 됩니다. 다. 행복한 학교문화 조성: 선생님이 행복하면 학생이 행복합니다. 교원의 교육활동이 위축되지 않고 학생지도에 매진할 때 학생의 전인적 성장과 안정된 학교생활을 기대할 수 있습니다. Ⅱ. 교육활동 침해행위의 이해 1. 교육활동 침해행위란? 소속 학교의 학생 또는 그 보호자 등이 교육활동 중인 교원에 대하여 다음 각 호의 어느 하나에 해당하는 행위를 하는 것 항 [교원지위법 제19조 제1항] 1. 다음 각 목의 어느 하나에 해당하는 범죄 행위 가. 「형법」 제2편 제8장 (공무방해에 관한 죄), 제11장(무고의 죄), 제25장(상해와 폭행의 죄), 제30장 (협박의 죄), 제33장 (명예에 관한 죄), 제314조(업무방해) 또는 제42장(손괴의 죄)에 해당하는 범죄 행위 위 나. 「성폭력범죄의 처벌 등에 관한 특례법」 제2조제1항에 따른 성폭력범죄 행위 다. 「정보통신망 이용촉진 및 정보보호 등에 관한 법률」 제44조의7제1항에 따른 불법정보 유통 행위 라. 그 밖에 다른 법률에서 형사처벌 대상으로 규정한 범죄 행위로서 교원의 교육활동을 침해하는 행위 2. 교원의 교육활동을 부당하게 간섭하거나 제한하는 행위로서 다음 각 목의 어느 하나에 해당하는 행위 가. 목적이 정당하지 아니한 민원을 반복적으로 제기하는 행위 나. 교원의 법적 의무가 아닌 일을 지속적으로 강요하는 행위 다. 그 밖에 교육부장관이 정하여 고시하는 행위 [교육활동 침해 행위 및 조치 기준에 관한 고시」(교육부고시 제2023-12호) 제2조] 1. 「형법」 제8장(공무방해에 관한 죄) 또는 제34장 제314조(업무방해)에 해당하는 범죄 행위로 교원의 정당한 교육활동을 방해하는 행위 적 2. 교육활동 중인 교원에게 성적 언동 등으로 성적 굴욕감 또는 혐오감을 느끼게 하는 행위 3. 교원의 정당한 교육활동에 대해 반복적으로 부당하게 간섭하는 행위 4. 교원의 정당한 생활지도에 불응하여 의도적으로 교육활동을 방해하는 행위 포 는 위 5. 교육활동 중인 교원의 영상·화상·음성 등을 촬영·녹화·녹음·합성하여 무단으로 배포하는 행위 6. 그 밖에 학교장이 「교육공무원법」 제43조 제1항에 위반한다고 판단하는 행위 - 40 - [교육활동 침해행위의 유형별 예] 1. 폭행상해: 교원의 신체를 직접 때리거나 밀치거나 멱살을 잡고 흔드는 경우 2. 협박: 교원에게 ‘교직을 그만두게 만든다’,‘ 죽여버린다‘ 라고 말하거나 말없이 날카로운 물건으로 목을 겨누는 경우 3. 명예훼손: 다른 학부모들에게 ’교사가 특정 학생의 몸을 만졌다‘고 허위 사실을 퍼뜨리거나 과거 징계 사실을 유포한 경우\u001b[0m\n",
      "\u001b[31mFAMILY_TREE: parent\u001b[0m\n",
      "1) 질문: 학생이나 학부모가 교원에게 반말이나 고성을 하는 경우에는 어떤 검색 방법이 가장 적절한 답변을 찾을 수 있겠는가?\n",
      "\n",
      "답변: 이러한 질문에 대해서는 의미론적 검색(semantic search)이 가장 적절한 답변을 찾을 수 있을 것으로 보입니다. 텍스트에서는 \"반말, 화풀이하는 식의 행위\"라는 표현이 있는데, 이는 \"욕설\" 또는 \"모욕적인 행위\"와 같은 의미를 가지고 있습니다. 의미론적 검색은 단어의 문맥과 의미를 고려하므로 관련 문장을 적절히 찾아낼 수 있을 것입니다.\n",
      "\n",
      "2) 질문: 학부모가 정당한 사유 없이 반복적으로 민원을 제기하는 경우 어떤 검색 방법이 적절할까요?\n",
      "\n",
      "답변: 이 경우에는 어휘 검색(lexical search)이 적절할 것으로 보입니다. 텍스트에 \"목적이 정당하지 아니한 민원을 반복적으로 제기하는 행위\"라는 구절이 있어, 이 문장과 정확히 일치하는 부분을 찾아낼 수 있기 때문입니다. 어휘 검색은 단어의 정확한 일치 여부를 따지므로 해당 상황에 잘 맞습니다.\n",
      "\n",
      "이유: 위 두 가지 상황은 모두 교육활동 침해행위에 해당하므로, 검색 방법에 따라 답변의 적절성이 달라질 수 있습니다. 반말이나 모욕과 같이 문맥적 의미를 파악해야 하는 경우에는 의미론적 검색이 적절하고, 특정 문구와 정확히 일치하는 경우에는 어휘 검색이 더 알맞습니다.batch 0 completed\n",
      "batch 0 completed\n",
      "batch 0 completed\n",
      "batch 0 completed\n",
      "batch 0 completed\n",
      "batch 0 completed\n",
      "batch 0 completed\n",
      "batch 0 completed\n",
      "batch 0 completed\n",
      "\u001b[32mDOC ID: 8414e230-c3a6-4b0a-86e7-940f9d51e07a\u001b[0m\n",
      "\u001b[34mTEXT: 2024학년도 학 교 교 육 과 정 설 명 회 연 수 자 료 일시: 2024년 3월 20일 (수) 바른 인성, 건강한 감성, 즐거운 배움으로 미래를 가꾸는 바른 인성, 건강한 감성, 즐거운 배움으로 미래를 가꾸는 학부모 연수 순서 학부모 연수 순서 1. 상록 교육목표 및 구현계획 2. 2024학년도 학사 일정 안내 3. 출결 관련 확인 제출자료 안내 4. 학교교육평가 5. 선행교육 예방(공교육정상화법) 6. 학생 안전 교육 7. 성폭력 예방 교육 8. 흡연 및 음주 예방 교육 9. 학생 인권조례 및 교권보호 10. 방과후학교 운영 11. 초등돌봄교실(오후돌봄) 운영 12. 학부모 서비스 신청 안내 13. 정보통신윤리교육 14. 정보보안 및 개인정보보호 운영 계획 15. 불법찬조금 근절 16. 아동학대 예방 교육 17. 가정폭력 예방 교육 18. 생명 존중 및 생명 살림(자살 예방) 교육 19. 교육활동 참여자 안전교육(녹색, 학부모폴리스) 20. 학교폭력 예방 교육 21. 감염병 예방 교육 22. 청탁금지법 23. 공익제보자 보호 및 공익 신고 보상 안내 24. 존중과 배려의 교육환경 조성 예방 교육(갑질 근절) 25. 교육활동보호예방교육 1 상록 교육 목표 및 구현 계획 비전 바른 인성, 건강한 감성, 즐거운 배움으로 미래를 가꾸는 어린이\u001b[0m\n",
      "\u001b[31mFAMILY_TREE: parent\u001b[0m\n",
      "1) 질문: 상록초등학교 교육과정 설명회 자료에서 학생 안전교육, 성폭력 예방교육, 흡연 및 음주 예방교육 등의 내용을 확인할 수 있습니다. 이러한 주제들은 어떤 검색 방법이 가장 적절할까요?\n",
      "\n",
      "답변: 이 경우 의미 기반 검색(semantic search)이 가장 적절할 것 같습니다. 학생 안전, 성폭력 예방, 흡연/음주 예방 등의 주제는 단순히 키워드만 매칭하는 것보다는 의미를 파악하고 관련된 개념들을 고려하는 것이 중요하기 때문입니다. 의미 검색은 이러한 주제와 관련된 동의어, 유사 개념 등을 인식하여 보다 관련성 높은 결과를 제공할 수 있습니다.\n",
      "\n",
      "2) 질문: 학교폭력 예방교육, 아동학대 예방교육, 가정폭력 예방교육 등의 내용은 어떤 검색 방식이 도움이 될까요? \n",
      "\n",
      "답변: 이런 경우에는 RAG-Fusion 검색 방식이 유용할 것 같습니다. RAG-Fusion은 원래 질의에 대한 다양한 관점의 생성 질의를 통해 문맥을 파악하고 포괄적인 답변을 제공할 수 있습니다. 학교폭력, 아동학대, 가정폭력 등의 주제는 서로 관련이 있지만 다른 맥락에서 다뤄질 수 있기 때문에, 여러 생성 질의를 통해 통합적으로 답변을 도출하는 것이 효과적일 것입니다.\n",
      "\n",
      "이유: 상록초등학교 교육과정 설명회 자료에는 다양한 주제의 예방교육 내용이 포함되어 있습니다. 일부 주제는 키워드 매칭보다는 의미 파악이 중요하고, 또 다른 주제들은 통합적인 관점에서 접근해야 하므로 각기 다른 검색 방식이 요구됩니다. 따라서 제시된 다양한 검색 방법 중에서 주제에 적합한 방식을 선택하는 것이 중요합니다.batch 0 completed\n",
      "\u001b[32mDOC ID: aa32948a-5eaf-48f6-8118-128c6049f609\u001b[0m\n",
      "\u001b[34mTEXT: 학 교 학 교 6학년은 초등학교 마무리 및 중학교 적응을 위한 학교 자율과정 운영 학년말 6학년 - 4 - 2024학년도 학사 일정 ※ 겨울방학 중 석면교체 및 LED설치 공기 확보(70일) 위해 여름방학 단축 및 겨울방학 70일 운영 1. 1학기 수업일수\u001b[0m\n",
      "\u001b[31mFAMILY_TREE: parent\u001b[0m\n",
      "학교 6학년은 초등학교 마무리 및 중학교 적응을 위한 과정이므로 다양한 검색 방식을 활용할 수 있는 질문을 만들 수 있습니다.\n",
      "\n",
      "질문1) 6학년 학생들이 중학교에 잘 적응하기 위해서는 어떤 준비가 필요할까요?\n",
      "답변) 이 질문에 대해 lexical search는 \"중학교 적응\"이라는 단어가 포함된 문장을 찾아 적절한 답변을 제시할 수 있습니다. 반면 semantic search는 \"준비, 대비\" 등의 관련 단어를 인식하여 보다 폭넓은 답변을 제공할 수 있습니다.\n",
      "\n",
      "질문2) 6학년 때 운영되는 \"학교 자율과정\"에는 어떤 내용이 포함되나요?\n",
      "답변) 이 질문은 특정 단어나 구가 나오지 않아 lexical search로는 적절한 답변을 찾기 어렵습니다. 하지만 semantic search나 RAG-Fusion, HyDE 등의 방법을 활용하면 \"자율과정\"의 의미를 파악하여 답변을 도출할 수 있습니다.\n",
      "\n",
      "이처럼 주어진 문맥에 따라 여러 검색 방식의 장단점이 드러나므로, 이를 활용한 다양한 질문을 만들 수 있습니다.\u001b[32mDOC ID: 60d3087a-b740-4b63-b3fb-5cecc4e14767\u001b[0m\n",
      "\u001b[34mTEXT: 0 14 11.04.∼11.08. 3 9 0 15 11.11.∼11.15. 10 11 12 13 14 15 16 0 16 11.18.∼11.22. 17 18 19 20 21 22 23 17 11.25.∼11.29. 24 25 26 27 28 29 30 0 18 12.02.∼12.06. 2 0 5 19 12.09.∼12.13. 9 10 11 12 13 14 0 20 12.16.∼12.20. 15 16 17 18 19 20 21 0 21 12.23.∼12.27. 22 23 0 7 2 학 기 합 계 3 1 학 기 합 계 0 총 계 12.3.(화 )장 애 이 해 교 육 12.5.(목 ) 2025년 1학 기 전 교 임 원 선 거 12.23.(월) 종업식(1~5학년 2교시) 졸업식(6학년 4교시) (급 식 미 실 시 ) 1 1 1 90 78 79 2 5 100 100 100 0 10 10 1 | ㅣ | 기 | 기 | | 간 ｜ | ｜ 1학기 2학기 합 계 100일 90일 190일 연 간 수 업 일 수 | 겨 울 방 학 석면 제거 공사 기간 2024. 12. 24.(화)~2025. 03. 03(월) 70일 2024. 12. 24.(화)~2025. 03. 03.(월) 70일 - 6 - □3 출결 관련 확인 제출자료 안내\u001b[0m\n",
      "\u001b[31mFAMILY_TREE: parent\u001b[0m\n",
      "질문과 답변을 만들기에 앞서, 문맥들은 대부분 날짜와 일정에 관한 내용으로 구성되어 있어 검색 기법의 차이를 잘 나타내기에는 적절하지 않습니다. 하지만 \"장애이해교육\"과 \"석면제거공사\"와 같은 구체적인 용어들을 활용할 수 있습니다.\n",
      "\n",
      "질문1) 학교에서 장애 학생들을 이해하기 위한 교육이 있었나요?\n",
      "답변1) 네, 12월 3일에 \"장애이해교육\"이 있었습니다.\n",
      "(이 질문은 lexical search로 \"장애이해교육\"이라는 단어를 정확히 찾을 수 있습니다.)\n",
      "\n",
      "질문2) 학교 시설물 보수 공사가 있었나요?\n",
      "답변2) 네, 겨울방학 기간 중에 \"석면제거공사\"가 있었습니다.\n",
      "(semantic search를 통해 \"보수공사\"와 \"석면제거공사\"가 관련된 의미임을 파악할 수 있습니다.)\n",
      "\n",
      "질문3) 문맥에서 공사 기간이 명시되어 있나요?\n",
      "답변3) 네, \"2024. 12. 24.(화)~2025. 03. 03(월) 70일\" 동안 석면제거공사가 있었다고 합니다.\n",
      "(rag fusion을 통해 \"공사 기간\"에 대한 정보를 포함하는 문장을 찾을 수 있습니다.)\n",
      "\n",
      "질문4) 공사의 구체적인 내용이 무엇인지 설명해주세요.\n",
      "답변4) 문맥 상에는 \"석면제거공사\"라고만 나와 있어 자세한 내용은 알 수 없습니다. 하지만 일반적으로 석면제거공사는 건물 내 석면을 제거하는 작업을 의미합니다.\n",
      "(hyde를 통해 \"석면제거공사\"의 일반적인 의미를 추론하여 답변할 수 있습니다.)\n",
      "\n",
      "이처럼 각 검색 기법의 장단점을 활용하여 다양한 질문에 답변할 수 있습니다.\u001b[32mDOC ID: 1b6f8872-60ed-46c4-b8f2-fc5bc7c1a2d3\u001b[0m\n",
      "\u001b[34mTEXT: 수행평가 ‧ 창의적 체험활동의 영역별 활동내용, 평가방법 및 기준은 교육과정을 근 설정하여 수시로 관찰 기록한 후 종합적인 행동 특성을 문장으로 기술 - 9 - □5 선행교육 예방 (공교육정상화법) 교사 우○주 ❍ 선행교육 -「초‧중등교육법」제23조제2항에 따라 교육부장관이 정한 초․중등학교 교육과정(국가교육과정) 및 교육감이 정한 초․중등학교 교육과정(시․도교육과정), 「초‧중등교육법」제23조제1항에 근거하여 편성․운영되는 단위학교 교육과정(학교 교육과정) 국가교육과정-시․도교육과정-학교 교육과정에 앞서서 편성 또는 제공하는 교육 일반 ❍ 선행학습 - 학습자가 국가교육과정, 시․도교육과정, 학교 교육과정에 앞서서 하는 학습 1. 추진 근거 및 목적 가. 근거 Ÿ 「공교육 정상화 촉진 및 선행교육 규제에 관한 특별법」(공교육정상화법) Ÿ 2024년 선행학습 유발 관행 근절 사업 추진계획(교육부 기초학력진로교육과-379, 2024.1.31.) { 력 진 로 교 육 가 -379, 2024.1.31.) 흐 기 진 계 획 ( 교 육 눅 T ) 적 사어 H 은 한 } 으 박 괴 * 2024 년 선 행 학 습 모 저 . 나. 목적 Ÿ 학교의 정상적인 교육과정 운영을 위한 여건 조성 및 공교육 정상화 실현 Ÿ 선행교육과 선행학습 유발 관행 근절을 위한 학생, 교원, 학부모 인식 개선 연수 및 홍보 강화 Ÿ 교육과정 편성 운영 및 선행출제 점검·컨설팅을 통해 학생의 발달단계에 맞는 교육 실시 2. 추진 계획 가. 연수 추진 계획\u001b[0m\n",
      "\u001b[31mFAMILY_TREE: parent\u001b[0m\n",
      "선행교육이란 국가교육과정, 시도교육과정, 학교교육과정에 앞서 이루어지는 교육을 의미합니다. 이를 예방하고자 공교육 정상화 촉진 및 선행교육 규제에 관한 특별법이 시행되었습니다. \n",
      "\n",
      "1) 어휘 검색 질문: \"선행교육\"이라는 단어가 문맥에 직접적으로 등장하므로, \"선행교육의 정의는 무엇인가?\"라는 질문에 대답할 수 있습니다.\n",
      "\n",
      "2) 의미 검색 질문: 선행교육의 의미를 파악하여 \"학생들의 발달단계를 고려하지 않은 교육활동은 무엇인가?\"라는 질문에 답변할 수 있습니다. \n",
      "\n",
      "3) RAG 융합 질문: 문맥을 바탕으로 \"선행교육 예방을 위해 도입된 법안의 목적은 무엇인가?\"와 같은 질문에 대한 포괄적인 답변이 가능합니다.\n",
      "\n",
      "4) HyDE 질문: 선행교육에 대한 구체적인 정보가 부족한 경우, \"학생의 발달단계에 맞지 않는 교육활동의 문제점은 무엇인가?\"와 같은 이론적인 질문에 답변할 수 있습니다.\n",
      "\n",
      "이렇게 각 검색 방식의 특성에 따라 다양한 유형의 질문을 만들 수 있습니다.\u001b[32mDOC ID: 5d916595-5906-4177-b924-6c3074119c8c\u001b[0m\n",
      "\u001b[34mTEXT: 나. 세부계획 Ÿ 교과별·학년별 교육과정과 평가 내용 일치 실천 Ÿ 선행교육 사전 예방을 위한 출제관리 및 자율점검 (학기별 1회) Ÿ 교원, 학부모 대상 선행교육 예방 관련 연수 및 홍보(연 1회) 다. 교육공동체의 책무 제5조(학교의 장의 책무) ② 학교의 장은 해당 학교에서 선행교육을 실시하지 아니하도록 지도・감독하여야 한다. . ③ 학교의 장은 학부모・학생・교원에게 선행교육 및 선행학습을 예방하기 위한 교육을 정기적으로 실시하여야 한다. ④ 학교의 장은 제3항의 내용을 포함한 선행교육 및 선행학습 예방에 관한 계획을 수립・시행하여 야 한다. 제5조의 2(교원의 책무) 교원은 학생의 학습권 보호를 위하여 학생의 선행학습을 전제로 수업을 하 여서는 아니 된다. - 10 - □6 학생 안전 교육 교사 김○희 □ 교육부 안전교육 7대 영역 표준안(나.침.반 안전교육실시)\u001b[0m\n",
      "\u001b[31mFAMILY_TREE: parent\u001b[0m\n",
      "1) 질문: 선행교육을 예방하기 위한 조치로서 '교과별·학년별 교육과정과 평가 내용 일치 실천'은 어떤 검색 방식에 적합한 질문일까요?\n",
      "답변: 이 질문은 lexical search(어휘 검색)에 적합합니다. '교과별·학년별 교육과정과 평가 내용 일치'라는 구체적인 문구가 contexts에 나오기 때문에 단어 일치 검색으로도 답을 찾을 수 있습니다.\n",
      "\n",
      "2) 질문: 선행교육 예방을 위해 교원, 학부모 대상으로 '연수 및 홍보'를 실시하는 것은 semantic search(의미 검색)에 적합한 질문인 이유는 무엇일까요? \n",
      "답변: 이 질문은 '연수', '홍보'라는 단어 외에도 '선행교육 예방'이라는 맥락을 이해해야 하므로 semantic search에 적합합니다. 단순 키워드 검색이 아니라 문장의 의미를 파악해야 답을 도출할 수 있습니다.\n",
      "\n",
      "3) 질문: \"학교의 장은 학부모・학생・교원에게 선행교육 및 선행학습을 예방하기 위한 교육을 정기적으로 실시하여야 한다.\"라는 문장을 통해 RAG-fusion 방식으로 생성할 수 있는 질문으로는 무엇이 있을까요?\n",
      "답변: RAG-fusion은 원래 질문에서 다양한 관점의 쿼리를 생성하므로, 이 문장을 기반으로 \"학교에서 정기적으로 실시해야 하는 교육에는 무엇이 있는가?\", \"선행교육 예방 교육의 대상은 누구인가?\" 등의 질문을 생성할 수 있습니다.\n",
      "\n",
      "4) 질문: \"학교의 장은 제3항의 내용을 포함한 선행교육 및 선행학습 예방에 관한 계획을 수립・시행하여야 한다.\"라는 문장을 바탕으로 HyDE 모델이 이론적 문서를 생성할 때 어떤 내용이 포함될 수 있을까요?\n",
      "답변: HyDE 모델은 contexts에 직접적으로 답이 없을 때 이론적 문서를 생성합니다. 이 문장을 기반으로 선행교육 예방 계획에 포함되어야 할 세부 사항들(예: 교사 연수, 학생 지도, 평가 방안 등)에 대한 내용이 이론적 문서에 포함될 수 있습니다.\u001b[32mDOC ID: 5de15853-bcd9-412d-ab1a-27b74d5093e5\u001b[0m\n",
      "\u001b[34mTEXT: 나. 지방간, 간염, 간경화, 간암 간은 우리 몸의 해독작용을 하는 곳으로 생명 유지에 필수적인 물질을 생산, 저장하고 유독 물질을 정화시켜 배설합니다. 술은 간에서 대사되어 신장으로 배출되기 때문에 과량의 음주는 간과 신장을 모두 손상시킵니다. 다. 위염, 위궤양 소화기관의 내부는 물기가 촉촉한 점막으로 강한 소화효소로부터 스스로를 보호하는데 알코올이 이 러한 점막에 손상을 가해 염증과 궤양을 일으킵니다. 라. 생식기계 생식기계 기능 저하로 남성은 성기능 장애, 여성은 불임, 기형아 출산을 할 수 있습니다. . - 15 - □9 학생인권 조례 및 교권보호 교사 이○혜 학생인권조례 및 학교생활인권규정 안내 1. 학생인권의 이해 가. 인권 : 사람이 개인 또는 나라의 구성원으로서 마땅히 누리고 행사하는 기본적인 자유와 권리 나. 학생인권 : 학 생 이 인 간 으 로 서 의 존 엄 과 행 복 한 삶 을 누 릴 수 있 도 록 보 장 하 는 권 리 다. 학생 인권의 보호 : 경기도교육청은 「헌법」과 「초・중등교육법」제18조의4, 국제인권 조약에서 명시 하고 있는 학생인권의 내용을 구체적으로 확인하고 보호하기 위해 2010년 10월 5일부터「경기도 학생인권 조 례」를 제 정 하여 시 행하 고 있음 인음 g8 W . nE 송운 늘 이리 오인 mlgoe=850 ST QR W mpltezoegd ©H KR <0< 트 매 WI o CERT 마 도 이비인 R == SRTaRn QT XTEr KIS %o eeeeeeeee ifee Noeeoeoe 려오 더리 라. 경기도 학생인권옹호관 : 경기도 학생인권 조례에 따라 학교에서 발생하는 인권 침해에 대한 상담 및 구제를 위해 마련된 제도 학생인권문제의 상담과 도움 학생인권 보장의 시작: 학생인권과 관련하여 궁금한 것이 있으면 언제든지 물어볼 수 있음 학생인권문제에 대해서는 학생과 학부모, 선생님 모두 이용 가능 2. 학생의 권리 차별 받지 않을 권리, 폭력 및 위험으로부터의 자유 교육에 과한 권리(학습에 관한 권리, 정규교과 이외의 교육활동의 권리, 휴식을 취할 권리) 사생활의 비밀과 자유를 보장 받을 권리(사생활의 자유, 비밀의 보호받을 권리, 정보에 관한 권리) 양심, 종교의 자유에 따른 의사표현의 자유 B9 자치 및 참여의 권리(자치활동의 권리, 학칙 등 학교규정의 재․개정에 참여할 권리, 정책 결정의 권리) 복지에 과한 권리(교육환경에 대한 권리, 문화활동을 향유할 권리, 급식 및 건강에 관한 권리) e 3. 학생의 의무 학교 규칙을 준수해야 하는 의무 조례를 악용하여 교사의 교육, 연구 활동을 방해하거나 학내 질서를 문란하게 해서는 안 됨 4. 경기도 학생인권조례 기본정신 준수 학생 인권이 교육과정에서 실현될 수 있도록 지향 학생 인권과 교사 교권의 상호존중 및 배려 학생의 존엄과 가치 및 자유와 권리 보장 인권교육: 교육과정 내 교과 관련 인권교육 및 학기 당 2시간 이상 운영(연간 4시간) 5. 상록초등학교 학교생활인권규정\u001b[0m\n",
      "\u001b[31mFAMILY_TREE: parent\u001b[0m\n",
      "1) 질문: 음주로 인한 인체 장기 손상에 대해 설명할 수 있는 문장은 무엇인가요?\n",
      "답변: \"술은 간에서 대사되어 신장으로 배출되기 때문에 과량의 음주는 간과 신장을 모두 손상시킵니다.\"\n",
      "이 문장은 음주로 인한 간과 신장 손상에 대해 직접적으로 언급하고 있어, 정확한 키워드 매칭을 통한 lexical search에 적합합니다.\n",
      "\n",
      "2) 질문: 학생인권 보장에 대한 경기도 교육청의 조치는 무엇인가요?\n",
      "답변: \"경기도교육청은 「헌법」과 「초・중등교육법」제18조의4, 국제인권 조약에서 명시 하고 있는 학생인권의 내용을 구체적으로 확인하고 보호하기 위해 2010년 10월 5일부터「경기도 학생인권 조례」를 제정하여 시행하고 있음\"\n",
      "이 문장은 학생인권 보장을 위한 경기도 교육청의 구체적인 조치를 설명하고 있어, 질문의 의도"
     ]
    }
   ],
   "source": [
    "is_done = False\n",
    "fetched_count = 0\n",
    "loop_count = 0\n",
    "offset = 0\n",
    "count = 0\n",
    "limit = docs_per_request = 5\n",
    "\n",
    "query = {\"query\": {\"match_all\": {}}}\n",
    "\n",
    "while not is_done:\n",
    "    try:\n",
    "        fetched_count += 1\n",
    "        fetched_docs = os_client.search(\n",
    "            index=index_name,\n",
    "            body=query,\n",
    "            size=limit,\n",
    "            from_=offset\n",
    "        )\n",
    "        fetched_count = 0\n",
    "    except Exception as e:\n",
    "        if fetched_count == 3:\n",
    "            print(\"Terminating script as connection is timeout more than 3 times.\")\n",
    "            break\n",
    "        print (\"{} Couldn't get records trying again for limit:{} and offset:{}\".format(e, limit, offset))\n",
    "        continue\n",
    "\n",
    "    fetched_docs = fetched_docs[\"hits\"][\"hits\"]\n",
    "    loop_count += 1\n",
    "\n",
    "    for index, doc in enumerate(fetched_docs):\n",
    "        # Process the doc here.\n",
    "        doc_id = doc[\"_id\"]\n",
    "        doc_text = doc[\"_source\"][\"text\"]\n",
    "        doc_metadata = doc[\"_source\"][\"metadata\"]\n",
    "        \n",
    "        if doc_metadata[\"family_tree\"] == \"parent\":\n",
    "        \n",
    "            print (colored(f'DOC ID: {doc_id}', \"green\"))\n",
    "            print (colored(f'TEXT: {doc_text}', \"blue\"))\n",
    "            print (colored(f'FAMILY_TREE: {doc_metadata[\"family_tree\"]}', \"red\"))\n",
    "            \n",
    "            invoke_args = {\n",
    "                \"contexts\": doc_text\n",
    "            }\n",
    "\n",
    "            response = chain.invoke(\n",
    "                invoke_args,\n",
    "                config={'callbacks': [ConsoleCallbackHandler()]} if verbose else {}\n",
    "            )\n",
    "\n",
    "#         questions = llm_chain_retriever.predict(context=doc_text, num_questions_per_chunk=str(num_questions_per_chunk))\n",
    "#         #print (questions)\n",
    "#         questions = questions.split(\"\\n\\n-\")\n",
    "#         if len(questions) <= num_questions_per_chunk + 1:\n",
    "\n",
    "#             if len(questions) == num_questions_per_chunk:\n",
    "#                 questions = list(map(lambda x:x.strip(), questions))\n",
    "#             else:\n",
    "#                 questions = list(map(lambda x:x.strip(), questions[1:]))\n",
    "#             for q in questions:\n",
    "#                 answer = llm_chain_generation.predict(question=q, context=doc_text)\n",
    "#                 answer = answer.strip()\n",
    "#                 #answer = answer[1:-1].strip()\n",
    "#                 #print (colored(f'question: {q}', \"green\"))\n",
    "#                 #print (colored(f'answer: {answer}', \"blue\"))\n",
    "#                 gt.append([q, answer, doc_id, doc_text])\n",
    "#         else:\n",
    "#             print (\"err\")\n",
    "#             print (questions)\n",
    "\n",
    "#         #print (\"==\")\n",
    "#     #break\n",
    "    #if loop_count == 3: break\n",
    "    offset += docs_per_request\n",
    "    if len(fetched_docs) < docs_per_request:\n",
    "        print(\"This is last batch.\")\n",
    "        is_done = True\n",
    "\n",
    "    print(\"batch {} completed\".format(count))"
   ]
  },
  {
   "cell_type": "code",
   "execution_count": null,
   "id": "bb01d417-c395-461d-880c-51c12c683e7f",
   "metadata": {},
   "outputs": [],
   "source": []
  }
 ],
 "metadata": {
  "kernelspec": {
   "display_name": "conda_python3",
   "language": "python",
   "name": "conda_python3"
  },
  "language_info": {
   "codemirror_mode": {
    "name": "ipython",
    "version": 3
   },
   "file_extension": ".py",
   "mimetype": "text/x-python",
   "name": "python",
   "nbconvert_exporter": "python",
   "pygments_lexer": "ipython3",
   "version": "3.10.13"
  }
 },
 "nbformat": 4,
 "nbformat_minor": 5
}
