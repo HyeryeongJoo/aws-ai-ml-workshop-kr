{
 "cells": [
  {
   "cell_type": "markdown",
   "id": "631380ad-0e36-43b7-961d-09f26460afe7",
   "metadata": {},
   "source": [
    "# RAG - Based on `hybrid-fusion` and `reranker`"
   ]
  },
  {
   "cell_type": "markdown",
   "id": "60af98b9-fe32-4992-b05f-3ec1ab8c0f25",
   "metadata": {},
   "source": [
    "## `0. Env. Setting - Hands on에 필요한 환경을 셋팅합니다.`"
   ]
  },
  {
   "cell_type": "markdown",
   "id": "332910f5-c43d-49ee-b605-1e872bd681fd",
   "metadata": {
    "tags": []
   },
   "source": [
    "### 0.1 Setup - role setup 및 package 설치\n",
    " - #### [setup.ipynb](../../../00_setup/setup.ipynb)"
   ]
  },
  {
   "cell_type": "markdown",
   "id": "5e2db578-1b67-4e58-a942-2e1fa80ce8bf",
   "metadata": {
    "tags": []
   },
   "source": [
    "### 0.2 Amazon OpenSearch - Lexical 및 Semantic search를 위한 Amazon OpenSearch를 설치합니다.\n",
    " - #### [setup-opensearch.ipynb](../../../00_setup/setup-opensearch.ipynb)"
   ]
  },
  {
   "cell_type": "markdown",
   "id": "932d9ef6-f929-4c8e-b306-87498f54b9bf",
   "metadata": {},
   "source": [
    "## `2. Preprocessing - document를 전처리 합니다.`"
   ]
  },
  {
   "cell_type": "markdown",
   "id": "67a75133-e1b8-4472-a986-79704243c71c",
   "metadata": {},
   "source": [
    "### 2.1 파일을 탐색해 봅니다. \n",
    "- #### [00_0_explore_json_input_files.ipynb](../01_preprocess_docs/00_0_explore_json_input_files.ipynb)"
   ]
  },
  {
   "cell_type": "markdown",
   "id": "84037278-91ee-4e38-932f-61b175a263d5",
   "metadata": {},
   "source": [
    "### 2.2 파일을 전처리 합니다. \n",
    "- #### [00_0_explore_json_input_files.ipynb](../01_preprocess_docs/00_1_preprocess_json_docs.ipynb)"
   ]
  },
  {
   "cell_type": "markdown",
   "id": "4dea8d64-d07e-4381-8964-78560af955a5",
   "metadata": {},
   "source": [
    "### 2.3 Amazon OpenSearch indexing 합니다. \n",
    "- #### [01_2_load_json_kr_docs_opensearch.ipynb](../01_preprocess_docs/01_2_load_json_kr_docs_opensearch.ipynb)"
   ]
  },
  {
   "cell_type": "markdown",
   "id": "c646141b-eb33-4f93-8e82-7374ae531f62",
   "metadata": {
    "tags": []
   },
   "source": [
    "## `3. RAG - RAG 기반 검색을 실습해 봅니다.`"
   ]
  },
  {
   "cell_type": "markdown",
   "id": "6a459db3-56d7-4a94-902f-62a4ee174dac",
   "metadata": {},
   "source": [
    "### 3.1 Hybrid-fusion\n",
    "- #### [01_rag_hybrid_search.ipynb](../02_rag/01_rag_hybrid_search.ipynb)"
   ]
  },
  {
   "cell_type": "markdown",
   "id": "b1d4d723-e612-4b4c-961c-261c4e7d85ac",
   "metadata": {},
   "source": [
    "### 3.2 Hybrid-fusion with Reranker\n",
    "- #### [02_rag_reranker.ipynb](../02_rag/02_rag_reranker.ipynb)"
   ]
  }
 ],
 "metadata": {
  "kernelspec": {
   "display_name": "conda_python3",
   "language": "python",
   "name": "conda_python3"
  },
  "language_info": {
   "codemirror_mode": {
    "name": "ipython",
    "version": 3
   },
   "file_extension": ".py",
   "mimetype": "text/x-python",
   "name": "python",
   "nbconvert_exporter": "python",
   "pygments_lexer": "ipython3",
   "version": "3.10.13"
  }
 },
 "nbformat": 4,
 "nbformat_minor": 5
}
