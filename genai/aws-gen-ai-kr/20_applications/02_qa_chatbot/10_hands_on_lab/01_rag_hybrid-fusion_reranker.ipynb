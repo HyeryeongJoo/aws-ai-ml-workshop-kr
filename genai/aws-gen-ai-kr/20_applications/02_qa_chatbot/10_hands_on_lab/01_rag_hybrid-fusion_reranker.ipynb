{
 "cells": [
  {
   "cell_type": "markdown",
   "id": "b9e8862b-1228-416b-8782-192df0b67aab",
   "metadata": {},
   "source": [
    "[Other notebook](../01_preprocess_docs/00_0_explore_json_input_files.ipynb)"
   ]
  },
  {
   "cell_type": "code",
   "execution_count": null,
   "id": "2f77b612-5601-4854-b163-2a6f158c0d69",
   "metadata": {},
   "outputs": [],
   "source": []
  }
 ],
 "metadata": {
  "kernelspec": {
   "display_name": "conda_python3",
   "language": "python",
   "name": "conda_python3"
  },
  "language_info": {
   "codemirror_mode": {
    "name": "ipython",
    "version": 3
   },
   "file_extension": ".py",
   "mimetype": "text/x-python",
   "name": "python",
   "nbconvert_exporter": "python",
   "pygments_lexer": "ipython3",
   "version": "3.10.13"
  }
 },
 "nbformat": 4,
 "nbformat_minor": 5
}
