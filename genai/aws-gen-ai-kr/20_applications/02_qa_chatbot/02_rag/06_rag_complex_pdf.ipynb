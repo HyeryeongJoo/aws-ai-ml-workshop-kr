{
 "cells": [
  {
   "cell_type": "markdown",
   "id": "5deb2df2-413d-49bd-a829-3a1fc344937e",
   "metadata": {},
   "source": [
    "# RAG over complex PDF\n"
   ]
  },
  {
   "cell_type": "markdown",
   "id": "b1f81abc-3277-4a6b-9ef1-d4f997d67fbe",
   "metadata": {},
   "source": [
    "## Setting\n",
    " - Auto Reload\n",
    " - path for utils"
   ]
  },
  {
   "cell_type": "code",
   "execution_count": 37,
   "id": "ddde4105-b759-4d6c-8214-8e1ab485ae48",
   "metadata": {
    "tags": []
   },
   "outputs": [
    {
     "name": "stdout",
     "output_type": "stream",
     "text": [
      "The autoreload extension is already loaded. To reload it, use:\n",
      "  %reload_ext autoreload\n"
     ]
    }
   ],
   "source": [
    "%load_ext autoreload\n",
    "%autoreload 2"
   ]
  },
  {
   "cell_type": "code",
   "execution_count": 38,
   "id": "57c2cdb1-d785-4317-afce-938f13141085",
   "metadata": {
    "tags": []
   },
   "outputs": [],
   "source": [
    "import sys, os\n",
    "module_path = \"../../..\"\n",
    "sys.path.append(os.path.abspath(module_path))"
   ]
  },
  {
   "cell_type": "markdown",
   "id": "1e913b68-f9ed-4da7-bc49-4db57f456c91",
   "metadata": {},
   "source": [
    "## 1. Creatr Bedrock client"
   ]
  },
  {
   "cell_type": "code",
   "execution_count": 39,
   "id": "424492cf-401a-486d-9c1e-f2c6617b6e75",
   "metadata": {
    "tags": []
   },
   "outputs": [],
   "source": [
    "import json\n",
    "import boto3\n",
    "from pprint import pprint\n",
    "from termcolor import colored\n",
    "from utils import bedrock, print_ww\n",
    "from utils.bedrock import bedrock_info"
   ]
  },
  {
   "cell_type": "markdown",
   "id": "e841327d-03ff-4a22-8224-91df66e0a943",
   "metadata": {},
   "source": [
    "### ---- ⚠️ Un-comment and edit the below lines as needed for your AWS setup ⚠️ ----\n",
    "- os.environ[\"AWS_DEFAULT_REGION\"] = \"<REGION_NAME>\"  # E.g. \"us-east-1\"\n",
    "- os.environ[\"AWS_PROFILE\"] = \"<YOUR_PROFILE>\"\n",
    "- os.environ[\"BEDROCK_ASSUME_ROLE\"] = \"<YOUR_ROLE_ARN>\"  # E.g. \"arn:aws:...\"\n",
    "- os.environ[\"BEDROCK_ENDPOINT_URL\"] = \"<YOUR_ENDPOINT_URL>\"  # E.g. \"https://...\""
   ]
  },
  {
   "cell_type": "code",
   "execution_count": 40,
   "id": "66a621c0-db5c-4e25-919e-099c2debbf88",
   "metadata": {
    "tags": []
   },
   "outputs": [
    {
     "name": "stdout",
     "output_type": "stream",
     "text": [
      "Create new client\n",
      "  Using region: None\n",
      "  Using profile: None\n",
      "boto3 Bedrock client successfully created!\n",
      "bedrock-runtime(https://bedrock-runtime.us-east-1.amazonaws.com)\n",
      "\u001b[32m\n",
      "== FM lists ==\u001b[0m\n",
      "{'Claude-Instant-V1': 'anthropic.claude-instant-v1',\n",
      " 'Claude-V1': 'anthropic.claude-v1',\n",
      " 'Claude-V2': 'anthropic.claude-v2',\n",
      " 'Claude-V2-1': 'anthropic.claude-v2:1',\n",
      " 'Claude-V3-Haiku': 'anthropic.claude-3-haiku-20240307-v1:0',\n",
      " 'Claude-V3-Sonnet': 'anthropic.claude-3-sonnet-20240229-v1:0',\n",
      " 'Cohere-Embeddings-En': 'cohere.embed-english-v3',\n",
      " 'Cohere-Embeddings-Multilingual': 'cohere.embed-multilingual-v3',\n",
      " 'Command': 'cohere.command-text-v14',\n",
      " 'Command-Light': 'cohere.command-light-text-v14',\n",
      " 'Jurassic-2-Mid': 'ai21.j2-mid-v1',\n",
      " 'Jurassic-2-Ultra': 'ai21.j2-ultra-v1',\n",
      " 'Llama2-13b-Chat': 'meta.llama2-13b-chat-v1',\n",
      " 'Titan-Embeddings-G1': 'amazon.titan-embed-text-v1',\n",
      " 'Titan-Text-G1': 'amazon.titan-text-express-v1',\n",
      " 'Titan-Text-G1-Light': 'amazon.titan-text-lite-v1'}\n"
     ]
    }
   ],
   "source": [
    "boto3_bedrock = bedrock.get_bedrock_client(\n",
    "    assumed_role=os.environ.get(\"BEDROCK_ASSUME_ROLE\", None),\n",
    "    endpoint_url=os.environ.get(\"BEDROCK_ENDPOINT_URL\", None),\n",
    "    region=os.environ.get(\"AWS_DEFAULT_REGION\", None),\n",
    ")\n",
    "\n",
    "print (colored(\"\\n== FM lists ==\", \"green\"))\n",
    "pprint (bedrock_info.get_list_fm_models(verbose=False))"
   ]
  },
  {
   "cell_type": "markdown",
   "id": "c22b84be-91ee-4e22-8ed0-3c23b907172a",
   "metadata": {},
   "source": [
    "## 2. Titan Embedding 및 LLM 인 Claude-v3-sonnet 모델 로딩"
   ]
  },
  {
   "cell_type": "markdown",
   "id": "381aa4d7-0ad8-467b-af4a-c1514e9559d2",
   "metadata": {},
   "source": [
    "### LLM 로딩 (Claude-v3-sonnet)"
   ]
  },
  {
   "cell_type": "code",
   "execution_count": 41,
   "id": "febdbf9e-4ed9-49d2-aaad-6cda6fed1867",
   "metadata": {
    "tags": []
   },
   "outputs": [],
   "source": [
    "from langchain_community.chat_models import BedrockChat\n",
    "from langchain.callbacks.streaming_stdout import StreamingStdOutCallbackHandler"
   ]
  },
  {
   "cell_type": "code",
   "execution_count": 42,
   "id": "bb4edb11-7ef2-4ab4-a36c-bc0f8a5c52a5",
   "metadata": {
    "tags": []
   },
   "outputs": [
    {
     "data": {
      "text/plain": [
       "BedrockChat(client=<botocore.client.BedrockRuntime object at 0x7f70140f04c0>, model_id='anthropic.claude-3-haiku-20240307-v1:0', model_kwargs={'max_tokens': 1024, 'stop_sequences': ['\\n\\nHuman']}, streaming=True, callbacks=[<langchain_core.callbacks.streaming_stdout.StreamingStdOutCallbackHandler object at 0x7f7014297eb0>])"
      ]
     },
     "execution_count": 42,
     "metadata": {},
     "output_type": "execute_result"
    }
   ],
   "source": [
    "llm_text = BedrockChat(\n",
    "    model_id=bedrock_info.get_model_id(model_name=\"Claude-V3-Haiku\"),\n",
    "    client=boto3_bedrock,\n",
    "    streaming=True,\n",
    "    callbacks=[StreamingStdOutCallbackHandler()],\n",
    "    model_kwargs={\n",
    "        \"max_tokens\": 1024,\n",
    "        \"stop_sequences\": [\"\\n\\nHuman\"],\n",
    "        # \"temperature\": 0,\n",
    "        # \"top_k\": 350,\n",
    "        # \"top_p\": 0.999\n",
    "    }\n",
    ")\n",
    "llm_text"
   ]
  },
  {
   "cell_type": "markdown",
   "id": "015716aa-a430-4811-a43b-2aab23c0f731",
   "metadata": {},
   "source": [
    "### Embedding 모델 선택"
   ]
  },
  {
   "cell_type": "code",
   "execution_count": 43,
   "id": "d58da66f-d504-4434-85c4-85ce1cc6439a",
   "metadata": {
    "tags": []
   },
   "outputs": [],
   "source": [
    "from langchain.embeddings import BedrockEmbeddings"
   ]
  },
  {
   "cell_type": "code",
   "execution_count": 44,
   "id": "372e1766-b30a-49ca-bd6d-6615397996a3",
   "metadata": {
    "tags": []
   },
   "outputs": [
    {
     "name": "stdout",
     "output_type": "stream",
     "text": [
      "Bedrock Embeddings Model Loaded\n"
     ]
    }
   ],
   "source": [
    "llm_emb = BedrockEmbeddings(\n",
    "    client=boto3_bedrock,\n",
    "    model_id=bedrock_info.get_model_id(model_name=\"Titan-Embeddings-G1\")\n",
    ")\n",
    "dimension = 1536\n",
    "print(\"Bedrock Embeddings Model Loaded\")"
   ]
  },
  {
   "cell_type": "markdown",
   "id": "256786db-df24-47ac-b9a4-f195a8b015f2",
   "metadata": {},
   "source": [
    "## 3. LangChainOpenSearch VectorStore 정의\n",
    "### 선수 조건\n",
    "- 01_preprocess_docs/02_load_docs_opensearch.ipynb를 통해서 OpenSearch Index 가 생성이 되어 있어야 합니다.\n",
    "#### [중요] 아래에 aws parameter store 에 아래 인증정보가 먼저 입력되어 있어야 합니다.\n",
    "- 01_preprocess_docs/01_parameter_store_example.ipynb 참고"
   ]
  },
  {
   "cell_type": "code",
   "execution_count": 45,
   "id": "7464c2d9-5188-4f07-81b9-451c51e028e6",
   "metadata": {
    "tags": []
   },
   "outputs": [],
   "source": [
    "import boto3\n",
    "from utils.ssm import parameter_store"
   ]
  },
  {
   "cell_type": "code",
   "execution_count": 46,
   "id": "b40da258-a9e3-4270-a315-796e507d2ec8",
   "metadata": {
    "tags": []
   },
   "outputs": [],
   "source": [
    "region=boto3.Session().region_name\n",
    "pm = parameter_store(region)"
   ]
  },
  {
   "cell_type": "code",
   "execution_count": 47,
   "id": "0df511f9-a967-4a7f-b463-873a0f4a589a",
   "metadata": {
    "tags": []
   },
   "outputs": [],
   "source": [
    "opensearch_domain_endpoint = pm.get_params(\n",
    "    key=\"opensearch_domain_endpoint\",\n",
    "    enc=False\n",
    ")\n",
    "\n",
    "opensearch_user_id = pm.get_params(\n",
    "    key=\"opensearch_user_id\",\n",
    "    enc=False\n",
    ")\n",
    "\n",
    "opensearch_user_password = pm.get_params(\n",
    "    key=\"opensearch_user_password\",\n",
    "    enc=True\n",
    ")"
   ]
  },
  {
   "cell_type": "code",
   "execution_count": 48,
   "id": "a4ed12f3-77a7-4735-9a09-c7af0d68f6e9",
   "metadata": {
    "tags": []
   },
   "outputs": [],
   "source": [
    "opensearch_domain_endpoint = opensearch_domain_endpoint\n",
    "rag_user_name = opensearch_user_id\n",
    "rag_user_password = opensearch_user_password\n",
    "\n",
    "http_auth = (rag_user_name, rag_user_password) # Master username, Master password"
   ]
  },
  {
   "cell_type": "markdown",
   "id": "1f581678-99cb-4921-a854-eba604765b3b",
   "metadata": {},
   "source": [
    "### Index 이름 셋팅\n",
    "- 이전 노트북 01_preprocess_docs/02_load_docs_opensearch.ipynb를 통해서 생성된 OpenSearch Index name 입력"
   ]
  },
  {
   "cell_type": "code",
   "execution_count": 49,
   "id": "2f215c42-8327-4d60-bb73-3a4e36977d78",
   "metadata": {
    "tags": []
   },
   "outputs": [
    {
     "name": "stdout",
     "output_type": "stream",
     "text": [
      "index_name: kb_complex_pdf\n"
     ]
    }
   ],
   "source": [
    "index_name = opensearch_user_password = pm.get_params(\n",
    "    key=\"opensearch_index_name\",\n",
    "    enc=True\n",
    ")\n",
    "\n",
    "print (f'index_name: {index_name}')"
   ]
  },
  {
   "cell_type": "markdown",
   "id": "ca9624ab-14ff-49a8-b58a-2c9e05def784",
   "metadata": {},
   "source": [
    "### OpenSearch Client 생성"
   ]
  },
  {
   "cell_type": "code",
   "execution_count": 50,
   "id": "61e4c63f-46f3-423e-95f1-4b0d80beaa43",
   "metadata": {
    "tags": []
   },
   "outputs": [],
   "source": [
    "from utils.opensearch import opensearch_utils"
   ]
  },
  {
   "cell_type": "code",
   "execution_count": 51,
   "id": "8812a5e8-3bac-43ed-a7a0-e328c3f84658",
   "metadata": {
    "tags": []
   },
   "outputs": [],
   "source": [
    "aws_region = os.environ.get(\"AWS_DEFAULT_REGION\", None)\n",
    "os_client = opensearch_utils.create_aws_opensearch_client(\n",
    "    aws_region,\n",
    "    opensearch_domain_endpoint,\n",
    "    http_auth\n",
    ")"
   ]
  },
  {
   "cell_type": "markdown",
   "id": "6910e36a-c9b0-4162-9dbb-76b151b09862",
   "metadata": {},
   "source": [
    "## 4. Question Answering\n",
    "- [BedrockChat with claude3](https://medium.com/@dminhk/building-with-anthropics-claude-3-on-amazon-bedrock-and-langchain-%EF%B8%8F-2b842f9c0ca8)"
   ]
  },
  {
   "cell_type": "code",
   "execution_count": 52,
   "id": "4c418f5d-5b26-4c2b-ac88-1e11b8f0d8ac",
   "metadata": {
    "tags": []
   },
   "outputs": [],
   "source": [
    "from utils.rag import qa_chain\n",
    "from utils.rag import prompt_repo, show_context_used\n",
    "from langchain.callbacks.tracers import ConsoleCallbackHandler\n",
    "from utils.rag import retriever_utils, OpenSearchHybridSearchRetriever"
   ]
  },
  {
   "cell_type": "markdown",
   "id": "70cb1747-c239-41a5-8f2a-f5dd9df6263f",
   "metadata": {},
   "source": [
    "### Retriever 정의"
   ]
  },
  {
   "cell_type": "code",
   "execution_count": 53,
   "id": "4244599c-356e-4cd5-8509-d2f034f9ebf9",
   "metadata": {
    "tags": []
   },
   "outputs": [],
   "source": [
    "opensearch_hybrid_retriever = OpenSearchHybridSearchRetriever(\n",
    "    os_client=os_client,\n",
    "    index_name=index_name,\n",
    "    llm_text=llm_text, # llm for query augmentation in both rag_fusion and HyDE\n",
    "    llm_emb=llm_emb, # Used in semantic search based on opensearch \n",
    "\n",
    "    # option for lexical\n",
    "    minimum_should_match=0,\n",
    "    filter=[],\n",
    "\n",
    "    # option for search\n",
    "    fusion_algorithm=\"RRF\", # [\"RRF\", \"simple_weighted\"], rank fusion 방식 정의\n",
    "    ensemble_weights=[.51, .49], # [for semantic, for lexical], Semantic, Lexical search 결과에 대한 최종 반영 비율 정의\n",
    "    reranker=False, # enable reranker with reranker model\n",
    "    #reranker_endpoint_name=endpoint_name, # endpoint name for reranking model\n",
    "    parent_document = False, # enable parent document\n",
    "    \n",
    "    # option for complex pdf consisting of text, table and image\n",
    "    complex_pdf=True,\n",
    "    \n",
    "    # option for async search\n",
    "    async_mode=True,\n",
    "\n",
    "    # option for output\n",
    "    k=5, # 최종 Document 수 정의\n",
    "    verbose=False,\n",
    ")"
   ]
  },
  {
   "cell_type": "markdown",
   "id": "d9adf603-c028-4076-8c0a-dab5e98ee366",
   "metadata": {},
   "source": [
    "### QA chain 정의"
   ]
  },
  {
   "cell_type": "code",
   "execution_count": 54,
   "id": "4d4f0756-afb7-45dc-aea7-e1f915a20d8d",
   "metadata": {
    "tags": []
   },
   "outputs": [],
   "source": [
    "system_prompt = prompt_repo.get_system_prompt()"
   ]
  },
  {
   "cell_type": "code",
   "execution_count": 55,
   "id": "8c99e6c6-d3e2-4bc3-834d-1fa9e4610a53",
   "metadata": {
    "tags": []
   },
   "outputs": [],
   "source": [
    "qa = qa_chain(\n",
    "    llm_text=llm_text,\n",
    "    retriever=opensearch_hybrid_retriever,\n",
    "    system_prompt=system_prompt,\n",
    "    return_context=True,\n",
    "    verbose=False\n",
    ")"
   ]
  },
  {
   "cell_type": "code",
   "execution_count": 62,
   "id": "c52c5de5-6ec3-4729-bc87-9bb9e82c5b35",
   "metadata": {
    "tags": []
   },
   "outputs": [
    {
     "name": "stdout",
     "output_type": "stream",
     "text": [
      "제공된 재무 상태표에 따르면, 당기손익-공정가치측정유가증권의 구성비는 전년도 4.38%였습니다. 반면에 전년도에는 당기손익인식금융자산이 포함되어 있었으며, 이에 대한 구성비가 0.50%였습니다.\n",
      "-----------------------------------------------\n",
      "1. Category: Table, Chunk: 187 Characters\n",
      "-----------------------------------------------\n",
      "이 표는 보험회사의 자산, 부채 및 자본 구성을 보여주고 있습니다. 자산 측면에서는 기타포괄손익-공정가치측정유가증권, 대출채권, 당기손익-공정가치측정유가증권 등의 비중이 높습니다.\n",
      "부채 측면에서는 책임준비금과 특별계정부채가 대부분을 차지하고 있습니다. 전년도와 비교했을 때 자산 및 부채 구성비에 다소 변화가 있었음을 알 수 있습니다.\n",
      "metadata:\n",
      " {'source': './data/complex_pdf/l-test.pdf', 'detection_class_prob': 0.9136442542076111,\n",
      "'coordinates': {'points': [[237.0698699951172, 424.6722106933594], [237.0698699951172,\n",
      "1903.337890625], [1519.3260498046875, 1903.337890625], [1519.3260498046875, 424.6722106933594]],\n",
      "'system': 'PixelSpace', 'layout_width': 1654, 'layout_height': 2339}, 'last_modified':\n",
      "'2024-03-25T04:44:29', 'text_as_html': '<table><thead><th></th><th>금 액</th><th>구 성비</th><th>금\n",
      "액</th><th>구 성비</th></thead><tr><td></td><td>24,644</td><td>0.93</td><td>25,948</td><td></td></tr><tr\n",
      "><td></td><td>116,339</td><td>4.38</td><td>0</td><td></td></tr><tr><td></td><td>0</td><td>0.00</td><\n",
      "td>13,929</td><td></td></tr><tr><td></td><td>1,555,915</td><td>58.59</td><td>0</td><td></td></tr><tr\n",
      "><td></td><td>0</td><td>0.00</td><td>1,792,754</td><td></td></tr><tr><td></td><td>0</td><td>0.00</td\n",
      "><td>2,429</td><td></td></tr><tr><td></td><td>0</td><td>0.00</td><td>0</td><td>0.00</td></tr><tr><td\n",
      "></td><td>135,622</td><td>5.11</td><td>99,576</td><td>3.59</td></tr><tr><td></td><td>482,281</td><td\n",
      ">18.16</td><td>483,311</td><td>17.40</td></tr><tr><td></td><td>37,810</td><td>1.42</td><td>38,847</t\n",
      "d><td></td></tr><tr><td rowspan=\"9\">계 약 자 지 분 조 정</td><td>32,583</td><td>1.23</td><td>26,012</td><td\n",
      ">0.94</td></tr><tr><td></td><td>270,406</td><td>10.18</td><td>294,570</td><td>10.61</td></tr><tr><td\n",
      "></td><td>2,655,600</td><td>100.00</td><td>2,777,376</td><td>100.00</td></tr><tr><td></td><td>1,861,\n",
      "534</td><td>80.27</td><td>1,693,867</td><td>69.03</td></tr><tr><td></td><td>67,029</td><td>2.89</td>\n",
      "<td>95,989</td><td></td></tr><tr><td></td><td>120,139</td><td>5.18</td><td>369,418</td><td>15.06</td\n",
      "></tr><tr><td></td><td>270,427</td><td>11.66</td><td>294,325</td><td>12.00</td></tr><tr><td></td><td\n",
      ">2,319,129</td><td>100.00</td><td>2,453,599</td><td>100.00</td></tr><tr><td></td><td>336,471</td><td\n",
      "></td><td>323,777</td><td></td></tr></table>', 'filetype': 'application/pdf', 'languages': ['kor',\n",
      "'eng'], 'page_number': 1, 'file_directory': './data/complex_pdf', 'filename': 'l-test.pdf',\n",
      "'category': 'Table', 'origin_table': '구 분 금 액 구성비 금 액 구성비 현금 및 예치금 24,644 0.93 25,948 0.93 당기손익-\n",
      "공정가치측정유가증권 116,339 4.38 0 0.00 당기손익인식금융자산 0 0.00 13,929 0.50 기타포괄손익-공정가치측정유가증권 1,555,915 58.59 0\n",
      "0.00 매도가능금융자산 0 0.00 1,792,754 64.55 만기보유금융자산 0 0.00 2,429 0.09 상각후원가측정유가증권 0 0.00 0 0.00\n",
      "관계∙종속기업투자주식 135,622 5.11 99,576 3.59 대출채권 482,281 18.16 483,311 17.40 부동산 37,810 1.42 38,847 1.39\n",
      "비운용자산 32,583 1.23 26,012 0.94 특별계정자산 270,406 10.18 294,570 10.61 자산총계 2,655,600 100.00 2,777,376\n",
      "100.00 책임준비금 1,861,534 80.27 1,693,867 69.03 계약자지분조정 67,029 2.89 95,989 3.91 기타부채 120,139 5.18\n",
      "369,418 15.06 특별계정부채 270,427 11.66 294,325 12.00 부채총계 2,319,129 100.00 2,453,599 100.00 자본총계 336,471\n",
      "323,777', 'id': 'ddfed29d-a9dc-46be-90f5-520fac97d6e2'}\n",
      "\n",
      "-----------------------------------------------\n",
      "2. Category: CompositeElement, Chunk: 273 Characters\n",
      "-----------------------------------------------\n",
      "부채 및 자본총계 2,655,600 2,777,376 주) 금융감독원 업무보고서 재무제표 기준으로 작성 주) 동 자료는 금융감독원 업무보고서 기준으로 작성되었으며, 감사보고서 상의\n",
      "공시용 재무제표와 일부 차이가 있을 수 있습니다. 주) 전년동기의 경우, IRFS17/IAS39 기준으로 작성하여 자산’의 구분을 이에 맞게 기재함 ※ 주요 변동요인 회계기준\n",
      "변경의 효과 → 23.1Q(IFRS17/9기준), 22.1Q(IFRS17/IAS39기준) Samsung Life Insurance 5\n",
      "metadata:\n",
      " {'source': './data/complex_pdf/l-test.pdf', 'filetype': 'application/pdf', 'languages': ['kor',\n",
      "'eng'], 'last_modified': '2024-03-25T04:44:29', 'page_number': 1, 'file_directory':\n",
      "'./data/complex_pdf', 'filename': 'l-test.pdf', 'category': 'CompositeElement', 'id':\n",
      "'98ade123-1dd3-405e-b573-cc181937c8d7'}\n",
      "\n",
      "-----------------------------------------------\n",
      "3. Category: CompositeElement, Chunk: 84 Characters\n",
      "-----------------------------------------------\n",
      "2. 재무∙손익 2-2. 요약 재무상태표(총괄) (단위 : 억원, %) 자 산 부채 및 자본 당분기 (2023.3.31) 전년동기 (2022.3.31)\n",
      "metadata:\n",
      " {'source': './data/complex_pdf/l-test.pdf', 'filetype': 'application/pdf', 'languages': ['kor',\n",
      "'eng'], 'last_modified': '2024-03-25T04:44:29', 'page_number': 1, 'file_directory':\n",
      "'./data/complex_pdf', 'filename': 'l-test.pdf', 'category': 'CompositeElement', 'id':\n",
      "'b293d4df-3a33-4345-b61b-cb0ac34bd7bd'}\n",
      "\n",
      "-----------------------------------------------\n",
      "4. Category: Image, Chunk: 89 Characters\n",
      "-----------------------------------------------\n"
     ]
    },
    {
     "data": {
      "image/png": "[encoded data removed]",
      "text/plain": [
       "<Figure size 640x480 with 1 Axes>"
      ]
     },
     "metadata": {},
     "output_type": "display_data"
    },
    {
     "name": "stdout",
     "output_type": "stream",
     "text": [
      "이미지는 한국어로 \"2. 재무·손익\"이라고 쓰여 있습니다. 이는 아마도 문서나 보고서의 목차 중 하나로, 재무 상황과 손익에 관한 부분을 나타내는 것 같습니다.\n",
      "metadata:\n",
      " {'img_path': './fig/figure-1-1.jpg', 'category': 'Image', 'image_base64': '', 'id':\n",
      "'f47be48b-9626-4dd7-a5f1-5b65696d0ce3', 'origin_image': ''}\n",
      "\n",
      "-----------------------------------------------\n",
      "5. Category: Image, Chunk: 146 Characters\n",
      "-----------------------------------------------\n"
     ]
    },
    {
     "data": {
      "image/png": "[encoded data removed]",
      "text/plain": [
       "<Figure size 640x480 with 1 Axes>"
      ]
     },
     "metadata": {},
     "output_type": "display_data"
    },
    {
     "name": "stdout",
     "output_type": "stream",
     "text": [
      "제공된 이미지는 삼성생명보험의 로고입니다. 영문 'Samsung Life Insurance'라는 문구와 함께 청색과 하늘색 계열의 그라데이션 색상으로 구성된 심플한 디자인의\n",
      "로고입니다. 기업의 브랜드 아이덴티티를 잘 나타내는 직관적이고 모던한 로고 디자인입니다.\n",
      "metadata:\n",
      " {'img_path': './fig/figure-1-2.jpg', 'category': 'Image', 'image_base64': '', 'id':\n",
      "'4e204d05-faf3-491e-955a-3cd1902bd8ca', 'origin_image': ''}\n"
     ]
    }
   ],
   "source": [
    "query = \"감독계획수립 후 현장감독에서 법 위반을 하면 이후 프로세스는?\" ## Image 30\n",
    "query = \"안전보건표지에서 지시표지의 종류와 용도는?\" ## Table 8\n",
    "#query = \"건강진단 순서를 알려줘\" ## Diagram 15\n",
    "\n",
    "query = \"수익률 그래프 설명해줘\"\n",
    "query = \"만기가격이 기준가격의 100% 미만일 때 만기상환금액 계산하는 방법 알려줘\"\n",
    "\n",
    "\n",
    "query = \"대출채권의 전년동기에 해당하는 구성비는 얼마입니까?\"\n",
    "\n",
    "query = \"당기손익-공정가치측정유가증권 전년동기의 구성비는?\"\n",
    "response, contexts = qa.invoke(\n",
    "    query = query\n",
    ")\n",
    "\n",
    "show_context_used(contexts)"
   ]
  },
  {
   "cell_type": "markdown",
   "id": "b68e6691-1b5f-4572-a151-6ebcabfe5b34",
   "metadata": {},
   "source": [
    "### Parameter updates"
   ]
  },
  {
   "cell_type": "code",
   "execution_count": 57,
   "id": "2e5eef84-5d10-46e2-b0fa-3dcac41084e6",
   "metadata": {
    "tags": []
   },
   "outputs": [],
   "source": [
    "opensearch_hybrid_retriever.update_search_params(\n",
    "    k=8,\n",
    "    minimum_should_match=0,\n",
    "    # filter=[\n",
    "    #     {'term': {'metadata.family_tree': 'child'}},\n",
    "    # ],\n",
    "    ensemble_weights=[0.51, 0.49], #semantic, lexical\n",
    "    verbose=False\n",
    ")"
   ]
  },
  {
   "cell_type": "code",
   "execution_count": 58,
   "id": "c317afb2-db7a-46c3-94c8-1b1418ca879d",
   "metadata": {
    "tags": []
   },
   "outputs": [],
   "source": [
    "#query = \"감독계획수립 후 현장감독에서 법 위반을 하면 이후 프로세스는?\" ## Image 30\n",
    "#query = \"안전보건표지에서 지시표지의 종류와 용도는?\" ## Table 8\n",
    "#query = \"건강진단 순서를 알려줘\" ## Diagram 15\n",
    "\n",
    "query = \"기준 자산가치가 100% 일 때 수익률은?\"\n",
    "query = \"수익률 그래프 설명해줘\"\n"
   ]
  },
  {
   "cell_type": "code",
   "execution_count": 59,
   "id": "3b5834ab-a54b-42df-82e4-7f0d5f6e11ea",
   "metadata": {
    "tags": []
   },
   "outputs": [
    {
     "name": "stdout",
     "output_type": "stream",
     "text": [
      "\u001b[32;1m\u001b[1;3m[chain/start]\u001b[0m \u001b[1m[1:chain:RunnableSequence] Entering Chain run with input:\n",
      "\u001b[0m{\n",
      "  \"contexts\": \"이미지는 한국어로 \\\"2. 재무·손익\\\"이라고 쓰여 있습니다. 이는 아마도 문서나 보고서의 목차 중 하나로, 재무 상황과 손익에 관한 부분을 나타내는 것 같습니다.\\n\\n부채 및 자본총계 2,655,600 2,777,376 주) 금융감독원 업무보고서 재무제표 기준으로 작성 주) 동 자료는 금융감독원 업무보고서 기준으로 작성되었으며, 감사보고서 상의 공시용 재무제표와 일부 차이가 있을 수 있습니다. 주) 전년동기의 경우, IRFS17/IAS39 기준으로 작성하여 자산’의 구분을 이에 맞게 기재함 ※ 주요 변동요인 회계기준 변경의 효과 → 23.1Q(IFRS17/9기준), 22.1Q(IFRS17/IAS39기준) Samsung Life Insurance 5\\n\\n2. 재무∙손익 2-2. 요약 재무상태표(총괄) (단위 : 억원, %) 자 산 부채 및 자본 당분기 (2023.3.31) 전년동기 (2022.3.31)\\n\\n이 표는 보험회사의 자산, 부채 및 자본 구성을 보여주고 있습니다. 자산 측면에서는 기타포괄손익-공정가치측정유가증권, 대출채권, 당기손익-공정가치측정유가증권 등의 비중이 높습니다. 부채 측면에서는 책임준비금과 특별계정부채가 대부분을 차지하고 있습니다. 전년도와 비교했을 때 자산 및 부채 구성비에 다소 변화가 있었음을 알 수 있습니다.\\n\\n제공된 이미지는 삼성생명보험의 로고입니다. 영문 'Samsung Life Insurance'라는 문구와 함께 청색과 하늘색 계열의 그라데이션 색상으로 구성된 심플한 디자인의 로고입니다. 기업의 브랜드 아이덴티티를 잘 나타내는 직관적이고 모던한 로고 디자인입니다.\",\n",
      "  \"tables_text\": \"구 분 금 액 구성비 금 액 구성비 현금 및 예치금 24,644 0.93 25,948 0.93 당기손익-공정가치측정유가증권 116,339 4.38 0 0.00 당기손익인식금융자산 0 0.00 13,929 0.50 기타포괄손익-공정가치측정유가증권 1,555,915 58.59 0 0.00 매도가능금융자산 0 0.00 1,792,754 64.55 만기보유금융자산 0 0.00 2,429 0.09 상각후원가측정유가증권 0 0.00 0 0.00 관계∙종속기업투자주식 135,622 5.11 99,576 3.59 대출채권 482,281 18.16 483,311 17.40 부동산 37,810 1.42 38,847 1.39 비운용자산 32,583 1.23 26,012 0.94 특별계정자산 270,406 10.18 294,570 10.61 자산총계 2,655,600 100.00 2,777,376 100.00 책임준비금 1,861,534 80.27 1,693,867 69.03 계약자지분조정 67,029 2.89 95,989 3.91 기타부채 120,139 5.18 369,418 15.06 특별계정부채 270,427 11.66 294,325 12.00 부채총계 2,319,129 100.00 2,453,599 100.00 자본총계 336,471 323,777\",\n",
      "  \"tables_html\": \"<table><thead><th></th><th>금 액</th><th>구 성비</th><th>금 액</th><th>구 성비</th></thead><tr><td></td><td>24,644</td><td>0.93</td><td>25,948</td><td></td></tr><tr><td></td><td>116,339</td><td>4.38</td><td>0</td><td></td></tr><tr><td></td><td>0</td><td>0.00</td><td>13,929</td><td></td></tr><tr><td></td><td>1,555,915</td><td>58.59</td><td>0</td><td></td></tr><tr><td></td><td>0</td><td>0.00</td><td>1,792,754</td><td></td></tr><tr><td></td><td>0</td><td>0.00</td><td>2,429</td><td></td></tr><tr><td></td><td>0</td><td>0.00</td><td>0</td><td>0.00</td></tr><tr><td></td><td>135,622</td><td>5.11</td><td>99,576</td><td>3.59</td></tr><tr><td></td><td>482,281</td><td>18.16</td><td>483,311</td><td>17.40</td></tr><tr><td></td><td>37,810</td><td>1.42</td><td>38,847</td><td></td></tr><tr><td rowspan=\\\"9\\\">계 약 자 지 분 조 정</td><td>32,583</td><td>1.23</td><td>26,012</td><td>0.94</td></tr><tr><td></td><td>270,406</td><td>10.18</td><td>294,570</td><td>10.61</td></tr><tr><td></td><td>2,655,600</td><td>100.00</td><td>2,777,376</td><td>100.00</td></tr><tr><td></td><td>1,861,534</td><td>80.27</td><td>1,693,867</td><td>69.03</td></tr><tr><td></td><td>67,029</td><td>2.89</td><td>95,989</td><td></td></tr><tr><td></td><td>120,139</td><td>5.18</td><td>369,418</td><td>15.06</td></tr><tr><td></td><td>270,427</td><td>11.66</td><td>294,325</td><td>12.00</td></tr><tr><td></td><td>2,319,129</td><td>100.00</td><td>2,453,599</td><td>100.00</td></tr><tr><td></td><td>336,471</td><td></td><td>323,777</td><td></td></tr></table>\",\n",
      "  \"question\": \"수익률 그래프 설명해줘\"\n",
      "}\n",
      "\u001b[32;1m\u001b[1;3m[chain/start]\u001b[0m \u001b[1m[1:chain:RunnableSequence > 2:prompt:ChatPromptTemplate] Entering Prompt run with input:\n",
      "\u001b[0m{\n",
      "  \"contexts\": \"이미지는 한국어로 \\\"2. 재무·손익\\\"이라고 쓰여 있습니다. 이는 아마도 문서나 보고서의 목차 중 하나로, 재무 상황과 손익에 관한 부분을 나타내는 것 같습니다.\\n\\n부채 및 자본총계 2,655,600 2,777,376 주) 금융감독원 업무보고서 재무제표 기준으로 작성 주) 동 자료는 금융감독원 업무보고서 기준으로 작성되었으며, 감사보고서 상의 공시용 재무제표와 일부 차이가 있을 수 있습니다. 주) 전년동기의 경우, IRFS17/IAS39 기준으로 작성하여 자산’의 구분을 이에 맞게 기재함 ※ 주요 변동요인 회계기준 변경의 효과 → 23.1Q(IFRS17/9기준), 22.1Q(IFRS17/IAS39기준) Samsung Life Insurance 5\\n\\n2. 재무∙손익 2-2. 요약 재무상태표(총괄) (단위 : 억원, %) 자 산 부채 및 자본 당분기 (2023.3.31) 전년동기 (2022.3.31)\\n\\n이 표는 보험회사의 자산, 부채 및 자본 구성을 보여주고 있습니다. 자산 측면에서는 기타포괄손익-공정가치측정유가증권, 대출채권, 당기손익-공정가치측정유가증권 등의 비중이 높습니다. 부채 측면에서는 책임준비금과 특별계정부채가 대부분을 차지하고 있습니다. 전년도와 비교했을 때 자산 및 부채 구성비에 다소 변화가 있었음을 알 수 있습니다.\\n\\n제공된 이미지는 삼성생명보험의 로고입니다. 영문 'Samsung Life Insurance'라는 문구와 함께 청색과 하늘색 계열의 그라데이션 색상으로 구성된 심플한 디자인의 로고입니다. 기업의 브랜드 아이덴티티를 잘 나타내는 직관적이고 모던한 로고 디자인입니다.\",\n",
      "  \"tables_text\": \"구 분 금 액 구성비 금 액 구성비 현금 및 예치금 24,644 0.93 25,948 0.93 당기손익-공정가치측정유가증권 116,339 4.38 0 0.00 당기손익인식금융자산 0 0.00 13,929 0.50 기타포괄손익-공정가치측정유가증권 1,555,915 58.59 0 0.00 매도가능금융자산 0 0.00 1,792,754 64.55 만기보유금융자산 0 0.00 2,429 0.09 상각후원가측정유가증권 0 0.00 0 0.00 관계∙종속기업투자주식 135,622 5.11 99,576 3.59 대출채권 482,281 18.16 483,311 17.40 부동산 37,810 1.42 38,847 1.39 비운용자산 32,583 1.23 26,012 0.94 특별계정자산 270,406 10.18 294,570 10.61 자산총계 2,655,600 100.00 2,777,376 100.00 책임준비금 1,861,534 80.27 1,693,867 69.03 계약자지분조정 67,029 2.89 95,989 3.91 기타부채 120,139 5.18 369,418 15.06 특별계정부채 270,427 11.66 294,325 12.00 부채총계 2,319,129 100.00 2,453,599 100.00 자본총계 336,471 323,777\",\n",
      "  \"tables_html\": \"<table><thead><th></th><th>금 액</th><th>구 성비</th><th>금 액</th><th>구 성비</th></thead><tr><td></td><td>24,644</td><td>0.93</td><td>25,948</td><td></td></tr><tr><td></td><td>116,339</td><td>4.38</td><td>0</td><td></td></tr><tr><td></td><td>0</td><td>0.00</td><td>13,929</td><td></td></tr><tr><td></td><td>1,555,915</td><td>58.59</td><td>0</td><td></td></tr><tr><td></td><td>0</td><td>0.00</td><td>1,792,754</td><td></td></tr><tr><td></td><td>0</td><td>0.00</td><td>2,429</td><td></td></tr><tr><td></td><td>0</td><td>0.00</td><td>0</td><td>0.00</td></tr><tr><td></td><td>135,622</td><td>5.11</td><td>99,576</td><td>3.59</td></tr><tr><td></td><td>482,281</td><td>18.16</td><td>483,311</td><td>17.40</td></tr><tr><td></td><td>37,810</td><td>1.42</td><td>38,847</td><td></td></tr><tr><td rowspan=\\\"9\\\">계 약 자 지 분 조 정</td><td>32,583</td><td>1.23</td><td>26,012</td><td>0.94</td></tr><tr><td></td><td>270,406</td><td>10.18</td><td>294,570</td><td>10.61</td></tr><tr><td></td><td>2,655,600</td><td>100.00</td><td>2,777,376</td><td>100.00</td></tr><tr><td></td><td>1,861,534</td><td>80.27</td><td>1,693,867</td><td>69.03</td></tr><tr><td></td><td>67,029</td><td>2.89</td><td>95,989</td><td></td></tr><tr><td></td><td>120,139</td><td>5.18</td><td>369,418</td><td>15.06</td></tr><tr><td></td><td>270,427</td><td>11.66</td><td>294,325</td><td>12.00</td></tr><tr><td></td><td>2,319,129</td><td>100.00</td><td>2,453,599</td><td>100.00</td></tr><tr><td></td><td>336,471</td><td></td><td>323,777</td><td></td></tr></table>\",\n",
      "  \"question\": \"수익률 그래프 설명해줘\"\n",
      "}\n",
      "\u001b[36;1m\u001b[1;3m[chain/end]\u001b[0m \u001b[1m[1:chain:RunnableSequence > 2:prompt:ChatPromptTemplate] [1ms] Exiting Prompt run with output:\n",
      "\u001b[0m[outputs]\n",
      "\u001b[32;1m\u001b[1;3m[llm/start]\u001b[0m \u001b[1m[1:chain:RunnableSequence > 3:llm:BedrockChat] Entering LLM run with input:\n",
      "\u001b[0m{\n",
      "  \"prompts\": [\n",
      "    \"System: \\n                        You are a master answer bot designed to answer user's questions.\\n                        I'm going to give you contexts which consist of texts, tables and images.\\n                        Read the contexts carefully, because I'm going to ask you a question about it.\\n                        \\nHuman: [{'type': 'image_url', 'image_url': {'url': 'data:image/png;base64,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'}}, {'type': 'image_url', 'image_url': {'url': 'data:image/png;base64,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'}}, {'type': 'text', 'text': '\\\\n                    Here is the contexts as texts: <contexts>이미지는 한국어로 \\\"2. 재무·손익\\\"이라고 쓰여 있습니다. 이는 아마도 문서나 보고서의 목차 중 하나로, 재무 상황과 손익에 관한 부분을 나타내는 것 같습니다.\\\\n\\\\n부채 및 자본총계 2,655,600 2,777,376 주) 금융감독원 업무보고서 재무제표 기준으로 작성 주) 동 자료는 금융감독원 업무보고서 기준으로 작성되었으며, 감사보고서 상의 공시용 재무제표와 일부 차이가 있을 수 있습니다. 주) 전년동기의 경우, IRFS17/IAS39 기준으로 작성하여 자산’의 구분을 이에 맞게 기재함 ※ 주요 변동요인 회계기준 변경의 효과 → 23.1Q(IFRS17/9기준), 22.1Q(IFRS17/IAS39기준) Samsung Life Insurance 5\\\\n\\\\n2. 재무∙손익 2-2. 요약 재무상태표(총괄) (단위 : 억원, %) 자 산 부채 및 자본 당분기 (2023.3.31) 전년동기 (2022.3.31)\\\\n\\\\n이 표는 보험회사의 자산, 부채 및 자본 구성을 보여주고 있습니다. 자산 측면에서는 기타포괄손익-공정가치측정유가증권, 대출채권, 당기손익-공정가치측정유가증권 등의 비중이 높습니다. 부채 측면에서는 책임준비금과 특별계정부채가 대부분을 차지하고 있습니다. 전년도와 비교했을 때 자산 및 부채 구성비에 다소 변화가 있었음을 알 수 있습니다.\\\\n\\\\n제공된 이미지는 삼성생명보험의 로고입니다. 영문 \\\\'Samsung Life Insurance\\\\'라는 문구와 함께 청색과 하늘색 계열의 그라데이션 색상으로 구성된 심플한 디자인의 로고입니다. 기업의 브랜드 아이덴티티를 잘 나타내는 직관적이고 모던한 로고 디자인입니다.</contexts>\\\\n                    \\\\n                Here is the contexts as tables (table as text): <tables_summay>구 분 금 액 구성비 금 액 구성비 현금 및 예치금 24,644 0.93 25,948 0.93 당기손익-공정가치측정유가증권 116,339 4.38 0 0.00 당기손익인식금융자산 0 0.00 13,929 0.50 기타포괄손익-공정가치측정유가증권 1,555,915 58.59 0 0.00 매도가능금융자산 0 0.00 1,792,754 64.55 만기보유금융자산 0 0.00 2,429 0.09 상각후원가측정유가증권 0 0.00 0 0.00 관계∙종속기업투자주식 135,622 5.11 99,576 3.59 대출채권 482,281 18.16 483,311 17.40 부동산 37,810 1.42 38,847 1.39 비운용자산 32,583 1.23 26,012 0.94 특별계정자산 270,406 10.18 294,570 10.61 자산총계 2,655,600 100.00 2,777,376 100.00 책임준비금 1,861,534 80.27 1,693,867 69.03 계약자지분조정 67,029 2.89 95,989 3.91 기타부채 120,139 5.18 369,418 15.06 특별계정부채 270,427 11.66 294,325 12.00 부채총계 2,319,129 100.00 2,453,599 100.00 자본총계 336,471 323,777</tables_summay>\\\\n                Here is the contexts as tables (table as html): <tables_html><table><thead><th></th><th>금 액</th><th>구 성비</th><th>금 액</th><th>구 성비</th></thead><tr><td></td><td>24,644</td><td>0.93</td><td>25,948</td><td></td></tr><tr><td></td><td>116,339</td><td>4.38</td><td>0</td><td></td></tr><tr><td></td><td>0</td><td>0.00</td><td>13,929</td><td></td></tr><tr><td></td><td>1,555,915</td><td>58.59</td><td>0</td><td></td></tr><tr><td></td><td>0</td><td>0.00</td><td>1,792,754</td><td></td></tr><tr><td></td><td>0</td><td>0.00</td><td>2,429</td><td></td></tr><tr><td></td><td>0</td><td>0.00</td><td>0</td><td>0.00</td></tr><tr><td></td><td>135,622</td><td>5.11</td><td>99,576</td><td>3.59</td></tr><tr><td></td><td>482,281</td><td>18.16</td><td>483,311</td><td>17.40</td></tr><tr><td></td><td>37,810</td><td>1.42</td><td>38,847</td><td></td></tr><tr><td rowspan=\\\"9\\\">계 약 자 지 분 조 정</td><td>32,583</td><td>1.23</td><td>26,012</td><td>0.94</td></tr><tr><td></td><td>270,406</td><td>10.18</td><td>294,570</td><td>10.61</td></tr><tr><td></td><td>2,655,600</td><td>100.00</td><td>2,777,376</td><td>100.00</td></tr><tr><td></td><td>1,861,534</td><td>80.27</td><td>1,693,867</td><td>69.03</td></tr><tr><td></td><td>67,029</td><td>2.89</td><td>95,989</td><td></td></tr><tr><td></td><td>120,139</td><td>5.18</td><td>369,418</td><td>15.06</td></tr><tr><td></td><td>270,427</td><td>11.66</td><td>294,325</td><td>12.00</td></tr><tr><td></td><td>2,319,129</td><td>100.00</td><td>2,453,599</td><td>100.00</td></tr><tr><td></td><td>336,471</td><td></td><td>323,777</td><td></td></tr></table></tables_html>\\\\n        \\\\n\\\\n                    First, find a few paragraphs or sentences from the contexts that are most relevant to answering the question.\\\\n                    Then, answer the question as much as you can.\\\\n\\\\n                    Skip the preamble and go straight into the answer.\\\\n                    Don\\\\'t insert any XML tag such as <contexts> and </contexts> when answering.\\\\n                    Answer in Korean.\\\\n\\\\n                    Here is the question: <question>수익률 그래프 설명해줘</question>\\\\n\\\\n                    If the question cannot be answered by the contexts, say \\\"No relevant contexts\\\".\\\\n            '}]\"\n",
      "  ]\n",
      "}\n",
      "죄송합니다. 제공된 문서와 표에는 수익률 그래프에 대한 정보가 없습니다. 문서와 표에는 삼성생명보험의 자산, 부채, 자본 구조에 대한 요약 재무정보만 포함되어 있습니다. 수익률 그래프에 대한 내용은 찾을 수 없었습니다.\u001b[36;1m\u001b[1;3m[llm/end]\u001b[0m \u001b[1m[1:chain:RunnableSequence > 3:llm:BedrockChat] [3.76s] Exiting LLM run with output:\n",
      "\u001b[0m{\n",
      "  \"generations\": [\n",
      "    [\n",
      "      {\n",
      "        \"text\": \"죄송합니다. 제공된 문서와 표에는 수익률 그래프에 대한 정보가 없습니다. 문서와 표에는 삼성생명보험의 자산, 부채, 자본 구조에 대한 요약 재무정보만 포함되어 있습니다. 수익률 그래프에 대한 내용은 찾을 수 없었습니다.\",\n",
      "        \"generation_info\": null,\n",
      "        \"type\": \"ChatGeneration\",\n",
      "        \"message\": {\n",
      "          \"lc\": 1,\n",
      "          \"type\": \"constructor\",\n",
      "          \"id\": [\n",
      "            \"langchain\",\n",
      "            \"schema\",\n",
      "            \"messages\",\n",
      "            \"AIMessage\"\n",
      "          ],\n",
      "          \"kwargs\": {\n",
      "            \"content\": \"죄송합니다. 제공된 문서와 표에는 수익률 그래프에 대한 정보가 없습니다. 문서와 표에는 삼성생명보험의 자산, 부채, 자본 구조에 대한 요약 재무정보만 포함되어 있습니다. 수익률 그래프에 대한 내용은 찾을 수 없었습니다.\"\n",
      "          }\n",
      "        }\n",
      "      }\n",
      "    ]\n",
      "  ],\n",
      "  \"llm_output\": null,\n",
      "  \"run\": null\n",
      "}\n",
      "\u001b[32;1m\u001b[1;3m[chain/start]\u001b[0m \u001b[1m[1:chain:RunnableSequence > 4:parser:StrOutputParser] Entering Parser run with input:\n",
      "\u001b[0m[inputs]\n",
      "\u001b[36;1m\u001b[1;3m[chain/end]\u001b[0m \u001b[1m[1:chain:RunnableSequence > 4:parser:StrOutputParser] [0ms] Exiting Parser run with output:\n",
      "\u001b[0m{\n",
      "  \"output\": \"죄송합니다. 제공된 문서와 표에는 수익률 그래프에 대한 정보가 없습니다. 문서와 표에는 삼성생명보험의 자산, 부채, 자본 구조에 대한 요약 재무정보만 포함되어 있습니다. 수익률 그래프에 대한 내용은 찾을 수 없었습니다.\"\n",
      "}\n",
      "\u001b[36;1m\u001b[1;3m[chain/end]\u001b[0m \u001b[1m[1:chain:RunnableSequence] [3.76s] Exiting Chain run with output:\n",
      "\u001b[0m{\n",
      "  \"output\": \"죄송합니다. 제공된 문서와 표에는 수익률 그래프에 대한 정보가 없습니다. 문서와 표에는 삼성생명보험의 자산, 부채, 자본 구조에 대한 요약 재무정보만 포함되어 있습니다. 수익률 그래프에 대한 내용은 찾을 수 없었습니다.\"\n",
      "}\n"
     ]
    }
   ],
   "source": [
    "response, contexts = qa.invoke(\n",
    "    query = query,\n",
    "    verbose=True\n",
    ")"
   ]
  },
  {
   "cell_type": "code",
   "execution_count": null,
   "id": "7589172a-c6de-42ec-8119-fa3011ecd730",
   "metadata": {
    "tags": []
   },
   "outputs": [],
   "source": [
    "print(\"##################################\")\n",
    "print(\"query: \", query)\n",
    "print(\"##################################\")\n",
    "\n",
    "print (colored(\"\\n\\n### Answer ###\", \"blue\"))\n",
    "print_ww(response)\n",
    "\n",
    "\n",
    "print (colored(\"\\n\\n### Contexts ###\", \"green\"))\n",
    "show_context_used(contexts, limit=10)"
   ]
  },
  {
   "cell_type": "code",
   "execution_count": null,
   "id": "2cd3a833-8c52-4272-87b9-0e65a941b7fb",
   "metadata": {},
   "outputs": [],
   "source": []
  }
 ],
 "metadata": {
  "kernelspec": {
   "display_name": "conda_python3",
   "language": "python",
   "name": "conda_python3"
  },
  "language_info": {
   "codemirror_mode": {
    "name": "ipython",
    "version": 3
   },
   "file_extension": ".py",
   "mimetype": "text/x-python",
   "name": "python",
   "nbconvert_exporter": "python",
   "pygments_lexer": "ipython3",
   "version": "3.10.13"
  }
 },
 "nbformat": 4,
 "nbformat_minor": 5
}
