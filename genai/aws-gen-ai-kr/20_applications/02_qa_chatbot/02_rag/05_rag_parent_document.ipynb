{
 "cells": [
  {
   "cell_type": "markdown",
   "id": "5deb2df2-413d-49bd-a829-3a1fc344937e",
   "metadata": {},
   "source": [
    "# RAG Based on parent document\n",
    "- Hybrid Search\n",
    "- ReRanker\n",
    "- [Parent Document](https://medium.aiplanet.com/advanced-rag-providing-broader-context-to-llms-using-parentdocumentretriever-cc627762305a)\n",
    "    "
   ]
  },
  {
   "cell_type": "markdown",
   "id": "b1f81abc-3277-4a6b-9ef1-d4f997d67fbe",
   "metadata": {},
   "source": [
    "## Setting\n",
    " - Auto Reload\n",
    " - path for utils"
   ]
  },
  {
   "cell_type": "code",
   "execution_count": 1,
   "id": "ddde4105-b759-4d6c-8214-8e1ab485ae48",
   "metadata": {
    "tags": []
   },
   "outputs": [],
   "source": [
    "%load_ext autoreload\n",
    "%autoreload 2"
   ]
  },
  {
   "cell_type": "code",
   "execution_count": 2,
   "id": "57c2cdb1-d785-4317-afce-938f13141085",
   "metadata": {
    "tags": []
   },
   "outputs": [],
   "source": [
    "import sys, os\n",
    "module_path = \"../../..\"\n",
    "sys.path.append(os.path.abspath(module_path))"
   ]
  },
  {
   "cell_type": "markdown",
   "id": "9c4ade56-8dbc-4ded-b355-7e4bcc971e90",
   "metadata": {},
   "source": [
    "## 1. Bedrock Client 생성"
   ]
  },
  {
   "cell_type": "code",
   "execution_count": 3,
   "id": "cc2d877f-e877-48f6-8dd4-239de20e45cd",
   "metadata": {
    "tags": []
   },
   "outputs": [],
   "source": [
    "import json\n",
    "import boto3\n",
    "from pprint import pprint\n",
    "from termcolor import colored\n",
    "from utils import bedrock, print_ww\n",
    "from utils.bedrock import bedrock_info"
   ]
  },
  {
   "cell_type": "markdown",
   "id": "088e6490-c79a-49e4-841c-9fdb91292608",
   "metadata": {},
   "source": [
    "### ---- ⚠️ Un-comment and edit the below lines as needed for your AWS setup ⚠️ ----\n",
    "- os.environ[\"AWS_DEFAULT_REGION\"] = \"<REGION_NAME>\"  # E.g. \"us-east-1\"\n",
    "- os.environ[\"AWS_PROFILE\"] = \"<YOUR_PROFILE>\"\n",
    "- os.environ[\"BEDROCK_ASSUME_ROLE\"] = \"<YOUR_ROLE_ARN>\"  # E.g. \"arn:aws:...\"\n",
    "- os.environ[\"BEDROCK_ENDPOINT_URL\"] = \"<YOUR_ENDPOINT_URL>\"  # E.g. \"https://...\""
   ]
  },
  {
   "cell_type": "code",
   "execution_count": 5,
   "id": "cab9312c-5f61-4730-96c3-5eef54a5f08c",
   "metadata": {
    "collapsed": true,
    "jupyter": {
     "outputs_hidden": true
    },
    "tags": []
   },
   "outputs": [
    {
     "name": "stdout",
     "output_type": "stream",
     "text": [
      "Create new client\n",
      "  Using region: None\n",
      "  Using profile: None\n",
      "boto3 Bedrock client successfully created!\n",
      "bedrock-runtime(https://bedrock-runtime.us-east-1.amazonaws.com)\n",
      "\u001b[32m\n",
      "== FM lists ==\u001b[0m\n",
      "[{'customizationsSupported': [],\n",
      "  'inferenceTypesSupported': ['ON_DEMAND'],\n",
      "  'inputModalities': ['TEXT'],\n",
      "  'modelArn': 'arn:aws:bedrock:us-east-1::foundation-model/amazon.titan-tg1-large',\n",
      "  'modelId': 'amazon.titan-tg1-large',\n",
      "  'modelLifecycle': {'status': 'ACTIVE'},\n",
      "  'modelName': 'Titan Text Large',\n",
      "  'outputModalities': ['TEXT'],\n",
      "  'providerName': 'Amazon',\n",
      "  'responseStreamingSupported': True},\n",
      " {'customizationsSupported': ['FINE_TUNING'],\n",
      "  'inferenceTypesSupported': ['ON_DEMAND', 'PROVISIONED'],\n",
      "  'inputModalities': ['TEXT', 'IMAGE'],\n",
      "  'modelArn': 'arn:aws:bedrock:us-east-1::foundation-model/amazon.titan-image-generator-v1:0',\n",
      "  'modelId': 'amazon.titan-image-generator-v1:0',\n",
      "  'modelLifecycle': {'status': 'ACTIVE'},\n",
      "  'modelName': 'Titan Image Generator G1',\n",
      "  'outputModalities': ['IMAGE'],\n",
      "  'providerName': 'Amazon'},\n",
      " {'customizationsSupported': [],\n",
      "  'inferenceTypesSupported': ['ON_DEMAND'],\n",
      "  'inputModalities': ['TEXT', 'IMAGE'],\n",
      "  'modelArn': 'arn:aws:bedrock:us-east-1::foundation-model/amazon.titan-image-generator-v1',\n",
      "  'modelId': 'amazon.titan-image-generator-v1',\n",
      "  'modelLifecycle': {'status': 'ACTIVE'},\n",
      "  'modelName': 'Titan Image Generator G1',\n",
      "  'outputModalities': ['IMAGE'],\n",
      "  'providerName': 'Amazon'},\n",
      " {'customizationsSupported': [],\n",
      "  'inferenceTypesSupported': ['ON_DEMAND'],\n",
      "  'inputModalities': ['TEXT'],\n",
      "  'modelArn': 'arn:aws:bedrock:us-east-1::foundation-model/amazon.titan-embed-g1-text-02',\n",
      "  'modelId': 'amazon.titan-embed-g1-text-02',\n",
      "  'modelLifecycle': {'status': 'ACTIVE'},\n",
      "  'modelName': 'Titan Text Embeddings v2',\n",
      "  'outputModalities': ['EMBEDDING'],\n",
      "  'providerName': 'Amazon'},\n",
      " {'customizationsSupported': ['FINE_TUNING', 'CONTINUED_PRE_TRAINING'],\n",
      "  'inferenceTypesSupported': ['PROVISIONED'],\n",
      "  'inputModalities': ['TEXT'],\n",
      "  'modelArn': 'arn:aws:bedrock:us-east-1::foundation-model/amazon.titan-text-lite-v1:0:4k',\n",
      "  'modelId': 'amazon.titan-text-lite-v1:0:4k',\n",
      "  'modelLifecycle': {'status': 'ACTIVE'},\n",
      "  'modelName': 'Titan Text G1 - Lite',\n",
      "  'outputModalities': ['TEXT'],\n",
      "  'providerName': 'Amazon',\n",
      "  'responseStreamingSupported': True},\n",
      " {'customizationsSupported': [],\n",
      "  'inferenceTypesSupported': ['ON_DEMAND'],\n",
      "  'inputModalities': ['TEXT'],\n",
      "  'modelArn': 'arn:aws:bedrock:us-east-1::foundation-model/amazon.titan-text-lite-v1',\n",
      "  'modelId': 'amazon.titan-text-lite-v1',\n",
      "  'modelLifecycle': {'status': 'ACTIVE'},\n",
      "  'modelName': 'Titan Text G1 - Lite',\n",
      "  'outputModalities': ['TEXT'],\n",
      "  'providerName': 'Amazon',\n",
      "  'responseStreamingSupported': True},\n",
      " {'customizationsSupported': ['FINE_TUNING', 'CONTINUED_PRE_TRAINING'],\n",
      "  'inferenceTypesSupported': ['PROVISIONED'],\n",
      "  'inputModalities': ['TEXT'],\n",
      "  'modelArn': 'arn:aws:bedrock:us-east-1::foundation-model/amazon.titan-text-express-v1:0:8k',\n",
      "  'modelId': 'amazon.titan-text-express-v1:0:8k',\n",
      "  'modelLifecycle': {'status': 'ACTIVE'},\n",
      "  'modelName': 'Titan Text G1 - Express',\n",
      "  'outputModalities': ['TEXT'],\n",
      "  'providerName': 'Amazon',\n",
      "  'responseStreamingSupported': True},\n",
      " {'customizationsSupported': [],\n",
      "  'inferenceTypesSupported': ['ON_DEMAND'],\n",
      "  'inputModalities': ['TEXT'],\n",
      "  'modelArn': 'arn:aws:bedrock:us-east-1::foundation-model/amazon.titan-text-express-v1',\n",
      "  'modelId': 'amazon.titan-text-express-v1',\n",
      "  'modelLifecycle': {'status': 'ACTIVE'},\n",
      "  'modelName': 'Titan Text G1 - Express',\n",
      "  'outputModalities': ['TEXT'],\n",
      "  'providerName': 'Amazon',\n",
      "  'responseStreamingSupported': True},\n",
      " {'customizationsSupported': [],\n",
      "  'inferenceTypesSupported': ['PROVISIONED'],\n",
      "  'inputModalities': ['TEXT'],\n",
      "  'modelArn': 'arn:aws:bedrock:us-east-1::foundation-model/amazon.titan-embed-text-v1:2:8k',\n",
      "  'modelId': 'amazon.titan-embed-text-v1:2:8k',\n",
      "  'modelLifecycle': {'status': 'ACTIVE'},\n",
      "  'modelName': 'Titan Embeddings G1 - Text',\n",
      "  'outputModalities': ['EMBEDDING'],\n",
      "  'providerName': 'Amazon',\n",
      "  'responseStreamingSupported': False},\n",
      " {'customizationsSupported': [],\n",
      "  'inferenceTypesSupported': ['ON_DEMAND'],\n",
      "  'inputModalities': ['TEXT'],\n",
      "  'modelArn': 'arn:aws:bedrock:us-east-1::foundation-model/amazon.titan-embed-text-v1',\n",
      "  'modelId': 'amazon.titan-embed-text-v1',\n",
      "  'modelLifecycle': {'status': 'ACTIVE'},\n",
      "  'modelName': 'Titan Embeddings G1 - Text',\n",
      "  'outputModalities': ['EMBEDDING'],\n",
      "  'providerName': 'Amazon',\n",
      "  'responseStreamingSupported': False},\n",
      " {'customizationsSupported': ['FINE_TUNING'],\n",
      "  'inferenceTypesSupported': ['ON_DEMAND', 'PROVISIONED'],\n",
      "  'inputModalities': ['TEXT', 'IMAGE'],\n",
      "  'modelArn': 'arn:aws:bedrock:us-east-1::foundation-model/amazon.titan-embed-image-v1:0',\n",
      "  'modelId': 'amazon.titan-embed-image-v1:0',\n",
      "  'modelLifecycle': {'status': 'ACTIVE'},\n",
      "  'modelName': 'Titan Multimodal Embeddings G1',\n",
      "  'outputModalities': ['EMBEDDING'],\n",
      "  'providerName': 'Amazon'},\n",
      " {'customizationsSupported': [],\n",
      "  'inferenceTypesSupported': ['ON_DEMAND'],\n",
      "  'inputModalities': ['TEXT', 'IMAGE'],\n",
      "  'modelArn': 'arn:aws:bedrock:us-east-1::foundation-model/amazon.titan-embed-image-v1',\n",
      "  'modelId': 'amazon.titan-embed-image-v1',\n",
      "  'modelLifecycle': {'status': 'ACTIVE'},\n",
      "  'modelName': 'Titan Multimodal Embeddings G1',\n",
      "  'outputModalities': ['EMBEDDING'],\n",
      "  'providerName': 'Amazon'},\n",
      " {'customizationsSupported': [],\n",
      "  'inferenceTypesSupported': ['ON_DEMAND'],\n",
      "  'inputModalities': ['TEXT', 'IMAGE'],\n",
      "  'modelArn': 'arn:aws:bedrock:us-east-1::foundation-model/stability.stable-diffusion-xl',\n",
      "  'modelId': 'stability.stable-diffusion-xl',\n",
      "  'modelLifecycle': {'status': 'ACTIVE'},\n",
      "  'modelName': 'SDXL 0.8',\n",
      "  'outputModalities': ['IMAGE'],\n",
      "  'providerName': 'Stability AI'},\n",
      " {'customizationsSupported': [],\n",
      "  'inferenceTypesSupported': ['ON_DEMAND'],\n",
      "  'inputModalities': ['TEXT', 'IMAGE'],\n",
      "  'modelArn': 'arn:aws:bedrock:us-east-1::foundation-model/stability.stable-diffusion-xl-v0',\n",
      "  'modelId': 'stability.stable-diffusion-xl-v0',\n",
      "  'modelLifecycle': {'status': 'ACTIVE'},\n",
      "  'modelName': 'SDXL 0.8',\n",
      "  'outputModalities': ['IMAGE'],\n",
      "  'providerName': 'Stability AI'},\n",
      " {'customizationsSupported': [],\n",
      "  'inferenceTypesSupported': ['PROVISIONED'],\n",
      "  'inputModalities': ['TEXT', 'IMAGE'],\n",
      "  'modelArn': 'arn:aws:bedrock:us-east-1::foundation-model/stability.stable-diffusion-xl-v1:0',\n",
      "  'modelId': 'stability.stable-diffusion-xl-v1:0',\n",
      "  'modelLifecycle': {'status': 'ACTIVE'},\n",
      "  'modelName': 'SDXL 1.0',\n",
      "  'outputModalities': ['IMAGE'],\n",
      "  'providerName': 'Stability AI'},\n",
      " {'customizationsSupported': [],\n",
      "  'inferenceTypesSupported': ['ON_DEMAND'],\n",
      "  'inputModalities': ['TEXT', 'IMAGE'],\n",
      "  'modelArn': 'arn:aws:bedrock:us-east-1::foundation-model/stability.stable-diffusion-xl-v1',\n",
      "  'modelId': 'stability.stable-diffusion-xl-v1',\n",
      "  'modelLifecycle': {'status': 'ACTIVE'},\n",
      "  'modelName': 'SDXL 1.0',\n",
      "  'outputModalities': ['IMAGE'],\n",
      "  'providerName': 'Stability AI'},\n",
      " {'customizationsSupported': [],\n",
      "  'inferenceTypesSupported': ['ON_DEMAND'],\n",
      "  'inputModalities': ['TEXT'],\n",
      "  'modelArn': 'arn:aws:bedrock:us-east-1::foundation-model/ai21.j2-grande-instruct',\n",
      "  'modelId': 'ai21.j2-grande-instruct',\n",
      "  'modelLifecycle': {'status': 'ACTIVE'},\n",
      "  'modelName': 'J2 Grande Instruct',\n",
      "  'outputModalities': ['TEXT'],\n",
      "  'providerName': 'AI21 Labs',\n",
      "  'responseStreamingSupported': False},\n",
      " {'customizationsSupported': [],\n",
      "  'inferenceTypesSupported': ['ON_DEMAND'],\n",
      "  'inputModalities': ['TEXT'],\n",
      "  'modelArn': 'arn:aws:bedrock:us-east-1::foundation-model/ai21.j2-jumbo-instruct',\n",
      "  'modelId': 'ai21.j2-jumbo-instruct',\n",
      "  'modelLifecycle': {'status': 'ACTIVE'},\n",
      "  'modelName': 'J2 Jumbo Instruct',\n",
      "  'outputModalities': ['TEXT'],\n",
      "  'providerName': 'AI21 Labs',\n",
      "  'responseStreamingSupported': False},\n",
      " {'customizationsSupported': [],\n",
      "  'inferenceTypesSupported': ['ON_DEMAND'],\n",
      "  'inputModalities': ['TEXT'],\n",
      "  'modelArn': 'arn:aws:bedrock:us-east-1::foundation-model/ai21.j2-mid',\n",
      "  'modelId': 'ai21.j2-mid',\n",
      "  'modelLifecycle': {'status': 'ACTIVE'},\n",
      "  'modelName': 'Jurassic-2 Mid',\n",
      "  'outputModalities': ['TEXT'],\n",
      "  'providerName': 'AI21 Labs',\n",
      "  'responseStreamingSupported': False},\n",
      " {'customizationsSupported': [],\n",
      "  'inferenceTypesSupported': ['ON_DEMAND'],\n",
      "  'inputModalities': ['TEXT'],\n",
      "  'modelArn': 'arn:aws:bedrock:us-east-1::foundation-model/ai21.j2-mid-v1',\n",
      "  'modelId': 'ai21.j2-mid-v1',\n",
      "  'modelLifecycle': {'status': 'ACTIVE'},\n",
      "  'modelName': 'Jurassic-2 Mid',\n",
      "  'outputModalities': ['TEXT'],\n",
      "  'providerName': 'AI21 Labs',\n",
      "  'responseStreamingSupported': False},\n",
      " {'customizationsSupported': [],\n",
      "  'inferenceTypesSupported': ['ON_DEMAND'],\n",
      "  'inputModalities': ['TEXT'],\n",
      "  'modelArn': 'arn:aws:bedrock:us-east-1::foundation-model/ai21.j2-ultra',\n",
      "  'modelId': 'ai21.j2-ultra',\n",
      "  'modelLifecycle': {'status': 'ACTIVE'},\n",
      "  'modelName': 'Jurassic-2 Ultra',\n",
      "  'outputModalities': ['TEXT'],\n",
      "  'providerName': 'AI21 Labs',\n",
      "  'responseStreamingSupported': False},\n",
      " {'customizationsSupported': [],\n",
      "  'inferenceTypesSupported': ['ON_DEMAND'],\n",
      "  'inputModalities': ['TEXT'],\n",
      "  'modelArn': 'arn:aws:bedrock:us-east-1::foundation-model/ai21.j2-ultra-v1',\n",
      "  'modelId': 'ai21.j2-ultra-v1',\n",
      "  'modelLifecycle': {'status': 'ACTIVE'},\n",
      "  'modelName': 'Jurassic-2 Ultra',\n",
      "  'outputModalities': ['TEXT'],\n",
      "  'providerName': 'AI21 Labs',\n",
      "  'responseStreamingSupported': False},\n",
      " {'customizationsSupported': [],\n",
      "  'inferenceTypesSupported': ['PROVISIONED'],\n",
      "  'inputModalities': ['TEXT'],\n",
      "  'modelArn': 'arn:aws:bedrock:us-east-1::foundation-model/anthropic.claude-instant-v1:2:100k',\n",
      "  'modelId': 'anthropic.claude-instant-v1:2:100k',\n",
      "  'modelLifecycle': {'status': 'ACTIVE'},\n",
      "  'modelName': 'Claude Instant',\n",
      "  'outputModalities': ['TEXT'],\n",
      "  'providerName': 'Anthropic',\n",
      "  'responseStreamingSupported': True},\n",
      " {'customizationsSupported': [],\n",
      "  'inferenceTypesSupported': ['ON_DEMAND'],\n",
      "  'inputModalities': ['TEXT'],\n",
      "  'modelArn': 'arn:aws:bedrock:us-east-1::foundation-model/anthropic.claude-instant-v1',\n",
      "  'modelId': 'anthropic.claude-instant-v1',\n",
      "  'modelLifecycle': {'status': 'ACTIVE'},\n",
      "  'modelName': 'Claude Instant',\n",
      "  'outputModalities': ['TEXT'],\n",
      "  'providerName': 'Anthropic',\n",
      "  'responseStreamingSupported': True},\n",
      " {'customizationsSupported': [],\n",
      "  'inferenceTypesSupported': ['PROVISIONED'],\n",
      "  'inputModalities': ['TEXT'],\n",
      "  'modelArn': 'arn:aws:bedrock:us-east-1::foundation-model/anthropic.claude-v1:3:18k',\n",
      "  'modelId': 'anthropic.claude-v1:3:18k',\n",
      "  'modelLifecycle': {'status': 'ACTIVE'},\n",
      "  'modelName': 'Claude',\n",
      "  'outputModalities': ['TEXT'],\n",
      "  'providerName': 'Anthropic',\n",
      "  'responseStreamingSupported': True},\n",
      " {'customizationsSupported': [],\n",
      "  'inferenceTypesSupported': ['PROVISIONED'],\n",
      "  'inputModalities': ['TEXT'],\n",
      "  'modelArn': 'arn:aws:bedrock:us-east-1::foundation-model/anthropic.claude-v1:3:100k',\n",
      "  'modelId': 'anthropic.claude-v1:3:100k',\n",
      "  'modelLifecycle': {'status': 'ACTIVE'},\n",
      "  'modelName': 'Claude',\n",
      "  'outputModalities': ['TEXT'],\n",
      "  'providerName': 'Anthropic',\n",
      "  'responseStreamingSupported': True},\n",
      " {'customizationsSupported': [],\n",
      "  'inferenceTypesSupported': ['ON_DEMAND'],\n",
      "  'inputModalities': ['TEXT'],\n",
      "  'modelArn': 'arn:aws:bedrock:us-east-1::foundation-model/anthropic.claude-v1',\n",
      "  'modelId': 'anthropic.claude-v1',\n",
      "  'modelLifecycle': {'status': 'ACTIVE'},\n",
      "  'modelName': 'Claude',\n",
      "  'outputModalities': ['TEXT'],\n",
      "  'providerName': 'Anthropic',\n",
      "  'responseStreamingSupported': True},\n",
      " {'customizationsSupported': [],\n",
      "  'inferenceTypesSupported': ['PROVISIONED'],\n",
      "  'inputModalities': ['TEXT'],\n",
      "  'modelArn': 'arn:aws:bedrock:us-east-1::foundation-model/anthropic.claude-v2:0:18k',\n",
      "  'modelId': 'anthropic.claude-v2:0:18k',\n",
      "  'modelLifecycle': {'status': 'ACTIVE'},\n",
      "  'modelName': 'Claude',\n",
      "  'outputModalities': ['TEXT'],\n",
      "  'providerName': 'Anthropic',\n",
      "  'responseStreamingSupported': True},\n",
      " {'customizationsSupported': [],\n",
      "  'inferenceTypesSupported': ['PROVISIONED'],\n",
      "  'inputModalities': ['TEXT'],\n",
      "  'modelArn': 'arn:aws:bedrock:us-east-1::foundation-model/anthropic.claude-v2:0:100k',\n",
      "  'modelId': 'anthropic.claude-v2:0:100k',\n",
      "  'modelLifecycle': {'status': 'ACTIVE'},\n",
      "  'modelName': 'Claude',\n",
      "  'outputModalities': ['TEXT'],\n",
      "  'providerName': 'Anthropic',\n",
      "  'responseStreamingSupported': True},\n",
      " {'customizationsSupported': [],\n",
      "  'inferenceTypesSupported': ['PROVISIONED'],\n",
      "  'inputModalities': ['TEXT'],\n",
      "  'modelArn': 'arn:aws:bedrock:us-east-1::foundation-model/anthropic.claude-v2:1:18k',\n",
      "  'modelId': 'anthropic.claude-v2:1:18k',\n",
      "  'modelLifecycle': {'status': 'ACTIVE'},\n",
      "  'modelName': 'Claude',\n",
      "  'outputModalities': ['TEXT'],\n",
      "  'providerName': 'Anthropic',\n",
      "  'responseStreamingSupported': True},\n",
      " {'customizationsSupported': [],\n",
      "  'inferenceTypesSupported': ['PROVISIONED'],\n",
      "  'inputModalities': ['TEXT'],\n",
      "  'modelArn': 'arn:aws:bedrock:us-east-1::foundation-model/anthropic.claude-v2:1:200k',\n",
      "  'modelId': 'anthropic.claude-v2:1:200k',\n",
      "  'modelLifecycle': {'status': 'ACTIVE'},\n",
      "  'modelName': 'Claude',\n",
      "  'outputModalities': ['TEXT'],\n",
      "  'providerName': 'Anthropic',\n",
      "  'responseStreamingSupported': True},\n",
      " {'customizationsSupported': [],\n",
      "  'inferenceTypesSupported': ['ON_DEMAND'],\n",
      "  'inputModalities': ['TEXT'],\n",
      "  'modelArn': 'arn:aws:bedrock:us-east-1::foundation-model/anthropic.claude-v2:1',\n",
      "  'modelId': 'anthropic.claude-v2:1',\n",
      "  'modelLifecycle': {'status': 'ACTIVE'},\n",
      "  'modelName': 'Claude',\n",
      "  'outputModalities': ['TEXT'],\n",
      "  'providerName': 'Anthropic',\n",
      "  'responseStreamingSupported': True},\n",
      " {'customizationsSupported': [],\n",
      "  'inferenceTypesSupported': ['ON_DEMAND'],\n",
      "  'inputModalities': ['TEXT'],\n",
      "  'modelArn': 'arn:aws:bedrock:us-east-1::foundation-model/anthropic.claude-v2',\n",
      "  'modelId': 'anthropic.claude-v2',\n",
      "  'modelLifecycle': {'status': 'ACTIVE'},\n",
      "  'modelName': 'Claude',\n",
      "  'outputModalities': ['TEXT'],\n",
      "  'providerName': 'Anthropic',\n",
      "  'responseStreamingSupported': True},\n",
      " {'customizationsSupported': ['FINE_TUNING'],\n",
      "  'inferenceTypesSupported': ['PROVISIONED'],\n",
      "  'inputModalities': ['TEXT'],\n",
      "  'modelArn': 'arn:aws:bedrock:us-east-1::foundation-model/cohere.command-text-v14:7:4k',\n",
      "  'modelId': 'cohere.command-text-v14:7:4k',\n",
      "  'modelLifecycle': {'status': 'ACTIVE'},\n",
      "  'modelName': 'Command',\n",
      "  'outputModalities': ['TEXT'],\n",
      "  'providerName': 'Cohere',\n",
      "  'responseStreamingSupported': True},\n",
      " {'customizationsSupported': [],\n",
      "  'inferenceTypesSupported': ['ON_DEMAND'],\n",
      "  'inputModalities': ['TEXT'],\n",
      "  'modelArn': 'arn:aws:bedrock:us-east-1::foundation-model/cohere.command-text-v14',\n",
      "  'modelId': 'cohere.command-text-v14',\n",
      "  'modelLifecycle': {'status': 'ACTIVE'},\n",
      "  'modelName': 'Command',\n",
      "  'outputModalities': ['TEXT'],\n",
      "  'providerName': 'Cohere',\n",
      "  'responseStreamingSupported': True},\n",
      " {'customizationsSupported': ['FINE_TUNING'],\n",
      "  'inferenceTypesSupported': ['PROVISIONED'],\n",
      "  'inputModalities': ['TEXT'],\n",
      "  'modelArn': 'arn:aws:bedrock:us-east-1::foundation-model/cohere.command-light-text-v14:7:4k',\n",
      "  'modelId': 'cohere.command-light-text-v14:7:4k',\n",
      "  'modelLifecycle': {'status': 'ACTIVE'},\n",
      "  'modelName': 'Command Light',\n",
      "  'outputModalities': ['TEXT'],\n",
      "  'providerName': 'Cohere',\n",
      "  'responseStreamingSupported': True},\n",
      " {'customizationsSupported': [],\n",
      "  'inferenceTypesSupported': ['ON_DEMAND'],\n",
      "  'inputModalities': ['TEXT'],\n",
      "  'modelArn': 'arn:aws:bedrock:us-east-1::foundation-model/cohere.command-light-text-v14',\n",
      "  'modelId': 'cohere.command-light-text-v14',\n",
      "  'modelLifecycle': {'status': 'ACTIVE'},\n",
      "  'modelName': 'Command Light',\n",
      "  'outputModalities': ['TEXT'],\n",
      "  'providerName': 'Cohere',\n",
      "  'responseStreamingSupported': True},\n",
      " {'customizationsSupported': [],\n",
      "  'inferenceTypesSupported': ['ON_DEMAND'],\n",
      "  'inputModalities': ['TEXT'],\n",
      "  'modelArn': 'arn:aws:bedrock:us-east-1::foundation-model/cohere.embed-english-v3',\n",
      "  'modelId': 'cohere.embed-english-v3',\n",
      "  'modelLifecycle': {'status': 'ACTIVE'},\n",
      "  'modelName': 'Embed English',\n",
      "  'outputModalities': ['EMBEDDING'],\n",
      "  'providerName': 'Cohere',\n",
      "  'responseStreamingSupported': False},\n",
      " {'customizationsSupported': [],\n",
      "  'inferenceTypesSupported': ['ON_DEMAND'],\n",
      "  'inputModalities': ['TEXT'],\n",
      "  'modelArn': 'arn:aws:bedrock:us-east-1::foundation-model/cohere.embed-multilingual-v3',\n",
      "  'modelId': 'cohere.embed-multilingual-v3',\n",
      "  'modelLifecycle': {'status': 'ACTIVE'},\n",
      "  'modelName': 'Embed Multilingual',\n",
      "  'outputModalities': ['EMBEDDING'],\n",
      "  'providerName': 'Cohere',\n",
      "  'responseStreamingSupported': False},\n",
      " {'customizationsSupported': [],\n",
      "  'inferenceTypesSupported': ['PROVISIONED'],\n",
      "  'inputModalities': ['TEXT'],\n",
      "  'modelArn': 'arn:aws:bedrock:us-east-1::foundation-model/meta.llama2-13b-chat-v1:0:4k',\n",
      "  'modelId': 'meta.llama2-13b-chat-v1:0:4k',\n",
      "  'modelLifecycle': {'status': 'ACTIVE'},\n",
      "  'modelName': 'Llama 2 Chat 13B',\n",
      "  'outputModalities': ['TEXT'],\n",
      "  'providerName': 'Meta',\n",
      "  'responseStreamingSupported': True},\n",
      " {'customizationsSupported': [],\n",
      "  'inferenceTypesSupported': ['ON_DEMAND'],\n",
      "  'inputModalities': ['TEXT'],\n",
      "  'modelArn': 'arn:aws:bedrock:us-east-1::foundation-model/meta.llama2-13b-chat-v1',\n",
      "  'modelId': 'meta.llama2-13b-chat-v1',\n",
      "  'modelLifecycle': {'status': 'ACTIVE'},\n",
      "  'modelName': 'Llama 2 Chat 13B',\n",
      "  'outputModalities': ['TEXT'],\n",
      "  'providerName': 'Meta',\n",
      "  'responseStreamingSupported': True},\n",
      " {'customizationsSupported': [],\n",
      "  'inferenceTypesSupported': [],\n",
      "  'inputModalities': ['TEXT'],\n",
      "  'modelArn': 'arn:aws:bedrock:us-east-1::foundation-model/meta.llama2-70b-chat-v1:0:4k',\n",
      "  'modelId': 'meta.llama2-70b-chat-v1:0:4k',\n",
      "  'modelLifecycle': {'status': 'ACTIVE'},\n",
      "  'modelName': 'Llama 2 Chat 70B',\n",
      "  'outputModalities': ['TEXT'],\n",
      "  'providerName': 'Meta',\n",
      "  'responseStreamingSupported': True},\n",
      " {'customizationsSupported': [],\n",
      "  'inferenceTypesSupported': ['ON_DEMAND'],\n",
      "  'inputModalities': ['TEXT'],\n",
      "  'modelArn': 'arn:aws:bedrock:us-east-1::foundation-model/meta.llama2-70b-chat-v1',\n",
      "  'modelId': 'meta.llama2-70b-chat-v1',\n",
      "  'modelLifecycle': {'status': 'ACTIVE'},\n",
      "  'modelName': 'Llama 2 Chat 70B',\n",
      "  'outputModalities': ['TEXT'],\n",
      "  'providerName': 'Meta',\n",
      "  'responseStreamingSupported': True},\n",
      " {'customizationsSupported': ['FINE_TUNING'],\n",
      "  'inferenceTypesSupported': [],\n",
      "  'inputModalities': ['TEXT'],\n",
      "  'modelArn': 'arn:aws:bedrock:us-east-1::foundation-model/meta.llama2-13b-v1:0:4k',\n",
      "  'modelId': 'meta.llama2-13b-v1:0:4k',\n",
      "  'modelLifecycle': {'status': 'ACTIVE'},\n",
      "  'modelName': 'Llama 2 13B',\n",
      "  'outputModalities': ['TEXT'],\n",
      "  'providerName': 'Meta',\n",
      "  'responseStreamingSupported': True},\n",
      " {'customizationsSupported': [],\n",
      "  'inferenceTypesSupported': [],\n",
      "  'inputModalities': ['TEXT'],\n",
      "  'modelArn': 'arn:aws:bedrock:us-east-1::foundation-model/meta.llama2-13b-v1',\n",
      "  'modelId': 'meta.llama2-13b-v1',\n",
      "  'modelLifecycle': {'status': 'ACTIVE'},\n",
      "  'modelName': 'Llama 2 13B',\n",
      "  'outputModalities': ['TEXT'],\n",
      "  'providerName': 'Meta',\n",
      "  'responseStreamingSupported': True},\n",
      " {'customizationsSupported': ['FINE_TUNING'],\n",
      "  'inferenceTypesSupported': [],\n",
      "  'inputModalities': ['TEXT'],\n",
      "  'modelArn': 'arn:aws:bedrock:us-east-1::foundation-model/meta.llama2-70b-v1:0:4k',\n",
      "  'modelId': 'meta.llama2-70b-v1:0:4k',\n",
      "  'modelLifecycle': {'status': 'ACTIVE'},\n",
      "  'modelName': 'Llama 2 70B',\n",
      "  'outputModalities': ['TEXT'],\n",
      "  'providerName': 'Meta',\n",
      "  'responseStreamingSupported': True},\n",
      " {'customizationsSupported': [],\n",
      "  'inferenceTypesSupported': [],\n",
      "  'inputModalities': ['TEXT'],\n",
      "  'modelArn': 'arn:aws:bedrock:us-east-1::foundation-model/meta.llama2-70b-v1',\n",
      "  'modelId': 'meta.llama2-70b-v1',\n",
      "  'modelLifecycle': {'status': 'ACTIVE'},\n",
      "  'modelName': 'Llama 2 70B',\n",
      "  'outputModalities': ['TEXT'],\n",
      "  'providerName': 'Meta',\n",
      "  'responseStreamingSupported': True}]\n"
     ]
    }
   ],
   "source": [
    "boto3_bedrock = bedrock.get_bedrock_client(\n",
    "    assumed_role=os.environ.get(\"BEDROCK_ASSUME_ROLE\", None),\n",
    "    endpoint_url=os.environ.get(\"BEDROCK_ENDPOINT_URL\", None),\n",
    "    region=os.environ.get(\"AWS_DEFAULT_REGION\", None),\n",
    ")\n",
    "\n",
    "aws_region = os.environ.get(\"AWS_DEFAULT_REGION\", None)\n",
    "print (colored(\"\\n== FM lists ==\", \"green\"))\n",
    "pprint (bedrock_info.get_list_fm_models(verbose=True))"
   ]
  },
  {
   "cell_type": "markdown",
   "id": "241a9e34-417a-422f-9f75-cb211b2e70e1",
   "metadata": {
    "tags": []
   },
   "source": [
    "## 2. Titan Embedding 및 LLM 인 Claude-v2 모델 로딩"
   ]
  },
  {
   "cell_type": "markdown",
   "id": "29bf63d2-4110-407c-af06-a45d2fbed4b5",
   "metadata": {},
   "source": [
    "### LLM 로딩 (Claude-v2)"
   ]
  },
  {
   "cell_type": "code",
   "execution_count": 7,
   "id": "9c51443a-04f9-465c-9564-53053eb3e1c2",
   "metadata": {
    "tags": []
   },
   "outputs": [],
   "source": [
    "from langchain.llms.bedrock import Bedrock\n",
    "from langchain.callbacks.streaming_stdout import StreamingStdOutCallbackHandler"
   ]
  },
  {
   "cell_type": "code",
   "execution_count": 59,
   "id": "d09e84e0-b9e1-4b12-8e7a-68f03c5416e5",
   "metadata": {
    "tags": []
   },
   "outputs": [
    {
     "data": {
      "text/plain": [
       "Bedrock(client=<botocore.client.BedrockRuntime object at 0x7efda40b56c0>, model_id='anthropic.claude-v2:1', model_kwargs={'max_tokens_to_sample': 512}, streaming=True, callbacks=[<langchain_core.callbacks.streaming_stdout.StreamingStdOutCallbackHandler object at 0x7efd748f9540>])"
      ]
     },
     "execution_count": 59,
     "metadata": {},
     "output_type": "execute_result"
    }
   ],
   "source": [
    "llm_text = Bedrock(\n",
    "    model_id=bedrock_info.get_model_id(model_name=\"Claude-V2-1\"),\n",
    "    client=boto3_bedrock,\n",
    "    model_kwargs={\n",
    "        \"max_tokens_to_sample\": 512\n",
    "    },\n",
    "    streaming=True,\n",
    "    callbacks=[StreamingStdOutCallbackHandler()]\n",
    ")\n",
    "\n",
    "llm_text"
   ]
  },
  {
   "cell_type": "markdown",
   "id": "3ba2e829-af8f-4e90-b994-59106cdec8d8",
   "metadata": {},
   "source": [
    "### Embedding 모델 선택"
   ]
  },
  {
   "cell_type": "code",
   "execution_count": 9,
   "id": "0b7b8752-d1e3-4f41-ba35-6da42c3785db",
   "metadata": {
    "tags": []
   },
   "outputs": [],
   "source": [
    "from utils.rag import KoSimCSERobertaContentHandler, SagemakerEndpointEmbeddingsJumpStart"
   ]
  },
  {
   "cell_type": "code",
   "execution_count": 10,
   "id": "793b03f7-3186-4969-b76a-98fe56bd5fdc",
   "metadata": {
    "tags": []
   },
   "outputs": [],
   "source": [
    "def get_embedding_model(is_bedrock_embeddings, is_KoSimCSERobert, aws_region, endpont_name=None):\n",
    "    \n",
    "    if is_bedrock_embeddings:\n",
    "        # We will be using the Titan Embeddings Model to generate our Embeddings.\n",
    "        from langchain.embeddings import BedrockEmbeddings\n",
    "        llm_emb = BedrockEmbeddings(\n",
    "            client=boto3_bedrock,\n",
    "            model_id=bedrock_info.get_model_id(\n",
    "                model_name=\"Titan-Embeddings-G1\"\n",
    "            )\n",
    "        )\n",
    "        print(\"Bedrock Embeddings Model Loaded\")\n",
    "\n",
    "    elif is_KoSimCSERobert:\n",
    "        LLMEmbHandler = KoSimCSERobertaContentHandler()\n",
    "        endpoint_name_emb = endpont_name\n",
    "        llm_emb = SagemakerEndpointEmbeddingsJumpStart(\n",
    "            endpoint_name=endpoint_name_emb,\n",
    "            region_name=aws_region,\n",
    "            content_handler=LLMEmbHandler,\n",
    "        )\n",
    "        print(\"KoSimCSERobert Embeddings Model Loaded\")\n",
    "    else:\n",
    "        llm_emb = None\n",
    "        print(\"No Embedding Model Selected\")\n",
    "\n",
    "    return llm_emb"
   ]
  },
  {
   "cell_type": "markdown",
   "id": "cd72a6b8-eaf0-4036-a530-3bde5ba988cd",
   "metadata": {},
   "source": [
    "#### [중요] is_KoSimCSERobert == True 일시에 endpoint_name 을 꼭 넣어 주세요."
   ]
  },
  {
   "cell_type": "code",
   "execution_count": 11,
   "id": "f42e032b-8715-432c-ae71-12a889f8ffc0",
   "metadata": {
    "tags": []
   },
   "outputs": [
    {
     "name": "stdout",
     "output_type": "stream",
     "text": [
      "Bedrock Embeddings Model Loaded\n"
     ]
    }
   ],
   "source": [
    "is_bedrock_embeddings = True\n",
    "is_KoSimCSERobert = False\n",
    "aws_region = os.environ.get(\"AWS_DEFAULT_REGION\", None)\n",
    "\n",
    "##############################\n",
    "# Parameters for is_KoSimCSERobert\n",
    "##############################\n",
    "if is_KoSimCSERobert: endpont_name = \"<endpoint-name>\"\n",
    "else: endpont_name = None\n",
    "##############################\n",
    "\n",
    "llm_emb = get_embedding_model(is_bedrock_embeddings, is_KoSimCSERobert, aws_region, endpont_name)   "
   ]
  },
  {
   "cell_type": "markdown",
   "id": "e10b67d5-382e-4715-a841-eb07b8655da8",
   "metadata": {},
   "source": [
    "## 3. Depoly ReRanker model (if needed)"
   ]
  },
  {
   "cell_type": "code",
   "execution_count": 12,
   "id": "9a08a296-41ef-44cb-857b-63d05a8d187c",
   "metadata": {
    "tags": []
   },
   "outputs": [
    {
     "name": "stdout",
     "output_type": "stream",
     "text": [
      "sagemaker.config INFO - Not applying SDK defaults from location: /etc/xdg/sagemaker/config.yaml\n",
      "sagemaker.config INFO - Not applying SDK defaults from location: /home/ec2-user/.config/sagemaker/config.yaml\n"
     ]
    }
   ],
   "source": [
    "import json\n",
    "import sagemaker\n",
    "from sagemaker.huggingface import HuggingFaceModel"
   ]
  },
  {
   "cell_type": "code",
   "execution_count": 13,
   "id": "33dd04a7-8200-49e7-ae69-55a82be199b4",
   "metadata": {
    "tags": []
   },
   "outputs": [],
   "source": [
    "depoly = False"
   ]
  },
  {
   "cell_type": "code",
   "execution_count": 14,
   "id": "9d40e3dd-a19f-4af3-831a-0cfe79e72cb3",
   "metadata": {
    "tags": []
   },
   "outputs": [],
   "source": [
    "if depoly:\n",
    "\n",
    "    try:\n",
    "        role = sagemaker.get_execution_role()\n",
    "    except ValueError:\n",
    "        iam = boto3.client('iam')\n",
    "        role = iam.get_role(RoleName='sagemaker_execution_role')['Role']['Arn']\n",
    "\n",
    "    # Hub Model configuration. https://huggingface.co/models\n",
    "    hub = {\n",
    "        'HF_MODEL_ID':'BAAI/bge-reranker-large',\n",
    "        'HF_TASK':'text-classification'\n",
    "    }\n",
    "\n",
    "    # create Hugging Face Model Class\n",
    "    huggingface_model = HuggingFaceModel(\n",
    "        transformers_version='4.26.0',\n",
    "        pytorch_version='1.13.1',\n",
    "        py_version='py39',\n",
    "        env=hub,\n",
    "        role=role, \n",
    "    )\n",
    "\n",
    "    # deploy model to SageMaker Inference\n",
    "    predictor = huggingface_model.deploy(\n",
    "        initial_instance_count=1, # number of instances\n",
    "        instance_type='ml.g5.xlarge' # instance type\n",
    "    )\n",
    "\n",
    "    print(f'Accept: {predictor.accept}')\n",
    "    print(f'ContentType: {predictor.content_type}')\n",
    "    print(f'Endpoint: {predictor.endpoint}')"
   ]
  },
  {
   "cell_type": "markdown",
   "id": "20e648ef-01ec-4e2f-ba88-7d2510fdb7a6",
   "metadata": {},
   "source": [
    "## 4. Invocation (prediction)"
   ]
  },
  {
   "cell_type": "code",
   "execution_count": 15,
   "id": "114be617-a687-4733-abb9-30394c7ef35f",
   "metadata": {
    "tags": []
   },
   "outputs": [
    {
     "name": "stdout",
     "output_type": "stream",
     "text": [
      "runtime_client: <botocore.client.SageMakerRuntime object at 0x7efc9aa51a20>\n"
     ]
    }
   ],
   "source": [
    "runtime_client = boto3.Session().client('sagemaker-runtime')\n",
    "print (f'runtime_client: {runtime_client}')"
   ]
  },
  {
   "cell_type": "code",
   "execution_count": 16,
   "id": "26ee5c45-de87-4a2b-bc04-bbc649fcd0c6",
   "metadata": {
    "tags": []
   },
   "outputs": [],
   "source": [
    "#endpoint_name = \"huggingface-pytorch-inference-2023-11-15-04-37-45-120\" # ml.m5.2xlarge\n",
    "endpoint_name = \"huggingface-pytorch-inference-2023-11-15-07-53-21-605\" # ml.g5.xlarge\n",
    "deserializer = \"application/json\""
   ]
  },
  {
   "cell_type": "code",
   "execution_count": 17,
   "id": "bd6288ed-b4fa-466f-9e2b-57484b827b0a",
   "metadata": {
    "tags": []
   },
   "outputs": [],
   "source": [
    "payload = json.dumps(\n",
    "    {\n",
    "        \"inputs\": [\n",
    "            {\"text\": \"I hate you\", \"text_pair\": \"I don't like you\"},\n",
    "            {\"text\": \"He hates you\", \"text_pair\": \"He like you\"}\n",
    "        ]\n",
    "    }\n",
    ")"
   ]
  },
  {
   "cell_type": "code",
   "execution_count": 18,
   "id": "c1eebe88-8b92-4e81-a103-b5a5d7a91bb3",
   "metadata": {
    "tags": []
   },
   "outputs": [
    {
     "name": "stdout",
     "output_type": "stream",
     "text": [
      "Response: [{'label': 'LABEL_0', 'score': 0.999653697013855}, {'label': 'LABEL_0', 'score': 0.025255175307393074}]\n",
      "CPU times: user 13.1 ms, sys: 7.08 ms, total: 20.2 ms\n",
      "Wall time: 83.1 ms\n"
     ]
    }
   ],
   "source": [
    "%%time\n",
    "response = runtime_client.invoke_endpoint(\n",
    "    EndpointName=endpoint_name,\n",
    "    ContentType=\"application/json\",\n",
    "    Accept=deserializer,\n",
    "    Body=payload\n",
    ")\n",
    "## deserialization\n",
    "out = json.loads(response['Body'].read().decode()) ## for json\n",
    "print (f'Response: {out}')"
   ]
  },
  {
   "cell_type": "markdown",
   "id": "7e432237-b9b5-4be3-aa0c-c30eeca6f480",
   "metadata": {},
   "source": [
    "## 5. LangChain OpenSearch VectorStore 정의\n",
    "### 선수 조건\n",
    "- 01_preprocess_docs/02_load_docs_opensearch.ipynb를 통해서 OpenSearch Index 가 생성이 되어 있어야 합니다.\n",
    "#### [중요] 아래에 aws parameter store 에 아래 인증정보가 먼저 입력되어 있어야 합니다.\n",
    "- 01_preprocess_docs/01_parameter_store_example.ipynb 참고"
   ]
  },
  {
   "cell_type": "code",
   "execution_count": 19,
   "id": "635ffe33-b1b1-49f7-ae14-07b782d30a63",
   "metadata": {
    "tags": []
   },
   "outputs": [],
   "source": [
    "from utils.proc_docs import get_parameter"
   ]
  },
  {
   "cell_type": "code",
   "execution_count": 20,
   "id": "42d192b6-68ce-465e-9fa7-04b5201f4453",
   "metadata": {
    "tags": []
   },
   "outputs": [],
   "source": [
    "ssm = boto3.client(\"ssm\", \"us-east-1\")\n",
    "\n",
    "opensearch_domain_endpoint = get_parameter(\n",
    "    boto3_clinet = ssm,\n",
    "    parameter_name = 'knox_opensearch_domain_endpoint',\n",
    ")\n",
    "\n",
    "opensearch_user_id = get_parameter(\n",
    "    boto3_clinet = ssm,\n",
    "    parameter_name = 'knox_opensearch_userid',\n",
    ")\n",
    "\n",
    "opensearch_user_password = get_parameter(\n",
    "    boto3_clinet = ssm,\n",
    "    parameter_name = 'knox_opensearch_password',\n",
    ")"
   ]
  },
  {
   "cell_type": "code",
   "execution_count": 21,
   "id": "fc7866fd-fd9c-4b41-b600-a91e43edfe4d",
   "metadata": {
    "tags": []
   },
   "outputs": [],
   "source": [
    "opensearch_domain_endpoint = opensearch_domain_endpoint\n",
    "rag_user_name = opensearch_user_id\n",
    "rag_user_password = opensearch_user_password\n",
    "\n",
    "http_auth = (rag_user_name, rag_user_password) # Master username, Master password"
   ]
  },
  {
   "cell_type": "markdown",
   "id": "161a900e-effc-4d7f-a179-b6c00eac03ad",
   "metadata": {
    "tags": []
   },
   "source": [
    "### Index 이름 셋팅\n",
    "- 이전 노트북 01_preprocess_docs/02_load_docs_opensearch.ipynb를 통해서 생성된 OpenSearch Index name 입력\n",
    "- parent document 용으로 생성된 index 사용할 것 "
   ]
  },
  {
   "cell_type": "code",
   "execution_count": 22,
   "id": "d5d9b5eb-052e-4e84-846b-c5385e853ba4",
   "metadata": {
    "tags": []
   },
   "outputs": [],
   "source": [
    "index_name = \"v16-genai-poc-knox-eval-parent-doc-retriever\""
   ]
  },
  {
   "cell_type": "markdown",
   "id": "482f5785-b88d-44fa-a603-080e4bd734a6",
   "metadata": {},
   "source": [
    "### OpenSearch Client 생성"
   ]
  },
  {
   "cell_type": "code",
   "execution_count": 23,
   "id": "968b7502-5799-4702-bc17-959e88c330a2",
   "metadata": {
    "tags": []
   },
   "outputs": [],
   "source": [
    "from utils.opensearch import opensearch_utils"
   ]
  },
  {
   "cell_type": "code",
   "execution_count": 24,
   "id": "6ceb46a1-e425-4f7e-9319-793b55abb938",
   "metadata": {
    "tags": []
   },
   "outputs": [],
   "source": [
    "os_client = opensearch_utils.create_aws_opensearch_client(\n",
    "    aws_region,\n",
    "    opensearch_domain_endpoint,\n",
    "    http_auth\n",
    ")"
   ]
  },
  {
   "cell_type": "markdown",
   "id": "b41d685c-7590-42fd-9f8f-339b2ff197f5",
   "metadata": {},
   "source": [
    "# 아래수정"
   ]
  },
  {
   "cell_type": "markdown",
   "id": "a5084376-7523-4cf9-9123-adc4ae79f66d",
   "metadata": {
    "tags": []
   },
   "source": [
    "## 6. Retriever based on Hybrid Search + ParentDocument + ReRanker\n",
    "- LangChain에서 제공하는 **BaseRetriever** 클래스를 상속받아 **Custom Retriever**를 정의 할 수 있습니다.\n",
    "- Hybrid-Search에 대한 자세한 내용는 **\"01_rag_hybrid_search.ipyno\"** 에서 확인 가능합니다.\n",
    "- [Parent Document](https://towardsdatascience.com/forget-rag-the-future-is-rag-fusion-1147298d8ad1)\n",
    "![parent-document.png](../../../imgs/parent-document.png)"
   ]
  },
  {
   "cell_type": "markdown",
   "id": "29cf3877-ed50-4ca6-b319-fca654f011cc",
   "metadata": {
    "tags": []
   },
   "source": [
    "## Parent documents in Hybrid search\n",
    "- Lexical search: parent documents only\n",
    "- Semantic search: child documents first, getting parent documents corresponding to that child document"
   ]
  },
  {
   "cell_type": "code",
   "execution_count": 25,
   "id": "5db8e470-63a9-4c3d-94c8-1d270a6da822",
   "metadata": {
    "tags": []
   },
   "outputs": [],
   "source": [
    "from utils.rag import OpenSearchHybridSearchRetriever"
   ]
  },
  {
   "cell_type": "markdown",
   "id": "d7feac2f-21a2-4756-b989-66c180bb1e79",
   "metadata": {},
   "source": [
    "- 필터 설정 예시\n",
    "- filter=[ <BR>\n",
    "    　{\"term\": {\"metadata.[**your_metadata_attribute_name**]\": \"**your first keyword**\"}}, <BR>\n",
    "    　{\"term\": {\"metadata.[**your_metadata_attribute_name**]\": \"**your second keyword**\"}},<BR>\n",
    "]"
   ]
  },
  {
   "cell_type": "code",
   "execution_count": 73,
   "id": "49c7e131-294f-4ff8-9331-989709c7079c",
   "metadata": {
    "tags": []
   },
   "outputs": [],
   "source": [
    "opensearch_hybrid_retriever = OpenSearchHybridSearchRetriever(\n",
    "    os_client=os_client,\n",
    "    index_name=index_name,\n",
    "    llm_text=llm_text, # llm for query augmentation in both rag_fusion and HyDE\n",
    "    llm_emb=llm_emb, # Used in semantic search based on opensearch \n",
    "\n",
    "    # option for lexical\n",
    "    minimum_should_match=0,\n",
    "    filter=[],\n",
    "\n",
    "    # option for search\n",
    "    fusion_algorithm=\"RRF\", # [\"RRF\", \"simple_weighted\"], rank fusion 방식 정의\n",
    "    ensemble_weights=[.5, .5], # [for lexical, for semantic], Lexical, Semantic search 결과에 대한 최종 반영 비율 정의\n",
    "    reranker=True, # enable reranker with reranker model\n",
    "    reranker_endpoint_name=endpoint_name, # endpoint name for reranking model\n",
    "    parent_document = True, # enable parent document\n",
    "\n",
    "    # option for async search\n",
    "    async_mode=True,\n",
    "\n",
    "    # option for output\n",
    "    k=5, # 최종 Document 수 정의\n",
    "    verbose=True,\n",
    ")"
   ]
  },
  {
   "cell_type": "markdown",
   "id": "cfb26835-ad98-41c5-9e9d-2453642e3551",
   "metadata": {},
   "source": [
    "### Retrieval example\n",
    "- default search"
   ]
  },
  {
   "cell_type": "code",
   "execution_count": 27,
   "id": "9c06e89f-79de-413c-ba9c-a188ca3fe2d0",
   "metadata": {
    "tags": []
   },
   "outputs": [],
   "source": [
    "from utils.rag import show_context_used"
   ]
  },
  {
   "cell_type": "code",
   "execution_count": 28,
   "id": "fe3bfee3-dac1-45b9-8795-03e36c1632a9",
   "metadata": {
    "tags": []
   },
   "outputs": [],
   "source": [
    "query = \"what is verify DM\""
   ]
  },
  {
   "cell_type": "code",
   "execution_count": 38,
   "id": "05b13e5e-4a66-4dc8-b18c-42a6e3bd6037",
   "metadata": {
    "collapsed": true,
    "jupyter": {
     "outputs_hidden": true
    },
    "tags": []
   },
   "outputs": [
    {
     "name": "stdout",
     "output_type": "stream",
     "text": [
      "##############################\n",
      "async_mode\n",
      "##############################\n",
      "True\n",
      "##############################\n",
      "reranker\n",
      "##############################\n",
      "True\n",
      "##############################\n",
      "rag_fusion\n",
      "##############################\n",
      "False\n",
      "##############################\n",
      "HyDE\n",
      "##############################\n",
      "False\n",
      "##############################\n",
      "parent_document\n",
      "##############################\n",
      "True\n",
      "##############################\n",
      "similar_docs_semantic\n",
      "##############################\n",
      "[(Document(page_content='. Once the IT admin has configured the profile, they push it to enterprise devices through their EMM. Device users can then start using the business app to scan barcodes.', metadata={'source': 'all_processed_data.json', 'seq_num': 40, 'title': 'Why is Knox Capture called a wedge? ', 'url': 'https://docs.samsungknox.com/admin/knox-capture/faq/#why-is-knox-capture-called-wedge', 'project': 'KCAP', 'last_updated': '2023-07-26', 'family_tree': 'child', 'parent_id': '30002eff-64a4-4161-929e-76f8056ef050', 'id': '1c9b3465-d17e-4819-9c20-98c75a8c7995'}), 1.0), (Document(page_content='. Some barcode types include a mandatory checksum, while others only have optional checksums. Enforcing an optional checksum helps reduce false positives and provides an extra layer of error prevention. When enabling a checksum, ensure your barcode data includes the calculated checksum, otherwise the checksum will not match and the barcode data is discarded. Uses and enforces a modulo n checksum algorithm. ON/OFF OFF Full ASCII support Interprets Code39 data using two symbols per output character to encode all ASCII characters. ON/OFF OFF Double checksum mod n Uses and enforces a double checksum modulo n. ON/OFF OFF Remove leading zero Removes the leading zero digit from EAN13/UCPA scanned barcode data. ON/OFF ON Return as UPCA Transforms UPCE scanned barcode data into its UPCA representation', metadata={'source': 'all_processed_data.json', 'seq_num': 25, 'title': 'Scan engine settings: Scandit', 'url': 'https://docs.samsungknox.com/admin/knox-capture/knox-capture-scandit/scan-engine-settings-scandit', 'project': 'KCAP', 'last_updated': '2023-07-26', 'family_tree': 'child', 'parent_id': '4190b258-925f-4535-be45-0ee5fdb49dc5', 'id': '53e83152-36c7-4f61-a8d9-84b9a7234e22'}), 0.9706085173362226), (Document(page_content='. However, a new device without an existing configuration will operate in Admin mode. To ensure _all_ devices operate in Managed mode, prepare and include the configuration each time you add or modify the app within the EMM console. Sharing and importing configurations Once a configuration has been exported, it can be shared with other devices running the app in Admin mode', metadata={'source': 'all_processed_data.json', 'seq_num': 14, 'title': 'Export and deploy configuration', 'url': 'https://docs.samsungknox.com/admin/knox-capture/how-to-guides/export-and-deploy-configuration', 'project': 'KCAP', 'last_updated': '2023-07-26', 'family_tree': 'child', 'parent_id': '853d626e-9416-4eb5-89f5-c84e5b998dca', 'id': '951524bf-2f35-4cfa-98a2-cf6698f8b504'}), 0.9596511133172598), (Document(page_content='. Samsung ensures that data collection is restricted to only that which is necessary. Samsung cloud solutions are SOC2-certified, so you can rest assured of the smooth operation, security, and reliability of solutions in the Knox Suite. If you want to learn more, see GDPR and Samsung Knox solutions.', metadata={'source': 'all_processed_data.json', 'seq_num': 80, 'title': 'I am subscribed to an individual Knox cloud service. Can I switch or upgrade to Knox Suite?', 'url': 'https://docs.samsungknox.com/admin/knox-suite/faq/#i-am-subscribed-individual-knox-cloud-service-can-i-switch-upgrade-knox-suite', 'project': 'KS', 'last_updated': '2023-07-26', 'family_tree': 'child', 'parent_id': '9d69525e-cabe-4bb9-a4d9-82437d7630be', 'id': '0241c15f-27d9-4070-b331-330b48052618'}), 0.9555631320419945), (Document(page_content=\". 7. Tap All activities under an app to open a list of app activities that are included in the profile you're testing. Here, you can check if individual activities were tested. If so, a green checkmark appears next to the activity. 8. Clear all the check marks by tapping the additional actions menu icon at the upper-right of the Test apps screen and selecting Clear test activity. Exit test mode Exit test mode in one of the following ways: Toggle Test mode to the off position on the Test apps screen. Tap the X in upper-right corner of the test overlay, then tap Exit to confirm. In addition to the two points mentioned above, the user can also exit test mode from the notification panel. Test mode notation Test mode uses special notation when displaying scanned data in the test overlay to verify the keystroke output rules are set up correctly. #Character representation , Printable ASCII or Unicode characters are represented in their native printable format\", metadata={'source': 'all_processed_data.json', 'seq_num': 19, 'title': 'Use test mode', 'url': 'https://docs.samsungknox.com/admin/knox-capture/how-to-guides/use-test-mode', 'project': 'KCAP', 'last_updated': '2023-07-26', 'family_tree': 'child', 'parent_id': 'b04f9857-b49b-4e49-a1f4-f114efaf49ed', 'id': 'b9305a17-663a-4f04-853c-d6fd03ee78e4'}), 0.9540951555030479), (Document(page_content=\". If the user navigates to a different business app to initiate a scan instead, the original scan data is discarded. New indicators for tested app activities When testing configurations in Admin mode, IT admins can now view a list of created app activities under the profile. Any activity not visible in the list behaves under the default profile. After being tested, each activity displays a green checkmark to its right to indicate its tested status. Refer to Check a configuration in test mode to learn more. Hardware scanner support Knox Capture v1.2 adds support for USB and Bluetooth hardware scanners. After the scanner is paired or connected, IT admins and end users can switch between their device's camera and the scanner for seamless data capture and delivery to business apps. Currently, v1.2 supports all HW scanners with HID connection\", metadata={'source': 'all_processed_data.json', 'seq_num': 29, 'title': 'Knox Capture v1.2 release notes', 'url': 'https://docs.samsungknox.com/admin/knox-capture/release-notes/v1-2', 'project': 'KCAP', 'last_updated': '2023-07-26', 'family_tree': 'child', 'parent_id': '86ce5905-33bb-4ae5-bc99-b8b6024a46a8', 'id': 'c84b9fac-3b7c-4b56-a9b9-00e171ec1aff'}), 0.9496650698474182), (Document(page_content=\". Scanned data - The scanned barcode data in test mode notation without any keystroke output rules applied. Scanned raw - The scanned barcode data in hexadecimal format without any keystroke output rules applied. 4. Expand the overlay by tapping its down arrow icon for a full view of the test data. 5. Inspect and compare the Scanned data to the Output value to verify the correct keystroke output rules and scanning settings for the activity in question. 6. Repeat for each app included in the configuration as required. After testing an app, there should be a green check mark badge next to the app logo on the Test apps screen. Use this to track testing progress. 7. Tap All activities under an app to open a list of app activities that are included in the profile you're testing. Here, you can check if individual activities were tested. If so, a green checkmark appears next to the activity. 8\", metadata={'source': 'all_processed_data.json', 'seq_num': 19, 'title': 'Use test mode', 'url': 'https://docs.samsungknox.com/admin/knox-capture/how-to-guides/use-test-mode', 'project': 'KCAP', 'last_updated': '2023-07-26', 'family_tree': 'child', 'parent_id': 'b04f9857-b49b-4e49-a1f4-f114efaf49ed', 'id': 'fbbfa2cf-2db9-40e5-a911-418aa3fbb0a2'}), 0.9494116635008173)]\n",
      "##############################\n",
      "similar_docs_keyword\n",
      "##############################\n",
      "[(Document(page_content=\"Overview. Get started with the basics by learning what Knox Capture is and how it works. What is Knox Capture? To help explain what Knox Capture does, it may be helpful to start with an understanding of what a *wedge* scanner is, and how it relates to the Knox Capture solution. In traditional hardware-based barcode scanning terminology, a wedge scanner is a physical device that attaches between a keyboard and a computer. The keyboard attaches to the scanner, and the scanner attaches to the computer. From the computer's perspective, the scanner behaves just like an additional keyboard. When the computer runs a software program (like an inventory spreadsheet app), and barcodes are read using the wedge scanner, data is sent from the scanner to the program in the form of keystrokes. From the program's point of view, data appears exactly as if someone had typed it manually using a keyboard. How Knox Capture works In a similar way, Knox Capture also acts as a wedge between a software program and keyboard\", metadata={'source': 'all_processed_data.json', 'seq_num': 3, 'title': 'Overview', 'url': 'https://docs.samsungknox.com/admin/knox-capture/overview', 'project': 'KCAP', 'last_updated': '2023-07-26', 'family_tree': 'child', 'parent_id': '2dfcb471-aea7-42eb-9dc6-75fa1ad22653', 'id': 'd5c25a47-0b73-496d-a9cb-d4f14c846856'}), 1.0), (Document(page_content='. 2. Under Device-wide policies, set Enable device policy controls to True. 3. Under Device Key Mapping (Premium), configure the mapping: 1. Set Enable Key Mapping Controls to True. 2. Set Enable PTT/Side Key Mapping for Microsoft Teams to False. 3. For Package Name, enter com.samsung.android.app.smartscan. 4. For Intent for Key press, enter com.samsung.android.knox.intent.action.PTT_PRESS. 5. For Intent for Key release, enter com.samsung.android.knox.intent.action.PTT_RELEASE. 6. Set Enable Key Mapping to Launch & Exit applications to False. 4. Save and assign the configured profile to the Verizon XCover Pro devices. 5. Verify that the configuration was applied successfully: 1. On one of the devices, launch the KSP app and tap Apply policies. 2. Go to Settings > Advanced features and verify that the XCover Key is disabled (grayed out). Pressing the XCover key now triggers a camera scan.', metadata={'source': 'all_processed_data.json', 'seq_num': 53, 'title': 'How to trigger camera scan with XCover key on Verizon device', 'url': 'https://docs.samsungknox.com/admin/knox-capture/kbas/disable-xcover-key-from-emm', 'project': 'KCAP', 'last_updated': '2023-07-26', 'family_tree': 'child', 'parent_id': 'b9d68cdd-2f36-4416-a4b5-fd612d5e96a3', 'id': 'aee429d6-8a2d-4713-b68b-444655954402'}), 0.655438813989584), (Document(page_content=\"Barcode capture not working for business app. Overview You may encounter situations where barcode data is not outputting correctly to your business app. Why isn't barcode capture working for my business app? Most barcode capture issues begin with minor errors in the keystroke output and scan engine settings. Try using test mode to verify your configurations after setting up a profile.\", metadata={'source': 'all_processed_data.json', 'seq_num': 51, 'title': 'Barcode capture not working for business app', 'url': 'https://docs.samsungknox.com/admin/knox-capture/kbas/barcode-capture-not-working-for-app', 'project': 'KCAP', 'last_updated': '2023-07-26', 'family_tree': 'child', 'parent_id': '8210f387-3d71-41a1-b29e-b3903481af52', 'id': '83ba07d2-3619-4e05-aaeb-a52045e06861'}), 0.6475693228738844), (Document(page_content=\".samsung.android.knox.intent.action.PTT_PRESS. For Intent for Key release, enter com.samsung.android.knox.intent.action.PTT_RELEASE. 4. Then, set Enable Key Mapping to Launch & Exit applications to Disable. 5. Save and apply the policies to your device. The XCover key can no longer be remapped on the device, which you can verify in the device's settings, under Advanced features. When the key is pressed, the Knox Capture camera launches as expected.\", metadata={'source': 'all_processed_data.json', 'seq_num': 54, 'title': 'How to prevent users from remapping the XCover key', 'url': 'https://docs.samsungknox.com/admin/knox-capture/kbas/how-to-prevent-users-from-remapping-xcover-key', 'project': 'KCAP', 'last_updated': '2023-07-26', 'family_tree': 'child', 'parent_id': '3eca4347-aeb8-4f15-8ac0-1fa40fc599d9', 'id': '1959ac89-6877-43e0-a837-275a8b4aa60c'}), 0.6475693228738844), (Document(page_content='What are the minimum and the maximum number of devices that Knox Suite can support?. Knox Suite has no limitations on the number of devices that can be managed by its solutions.', metadata={'source': 'all_processed_data.json', 'seq_num': 81, 'title': ' What are the minimum and the maximum number of devices that Knox Suite can support?', 'url': 'https://docs.samsungknox.com/admin/knox-suite/faq/#what-are-minimum-maximum-number-devices-knox-suite-support', 'project': 'KS', 'last_updated': '2023-07-26', 'family_tree': 'child', 'parent_id': '81d62297-ce7f-484c-a164-2a00cb157245', 'id': '2300200d-6578-4e6a-98d0-9429e7864f3a'}), 0.622119018753817), (Document(page_content='What is Knox Suite?. Knox Suite is a bundled offering designed to help enterprise IT admins better manage your fleet of devices. It includes individual services such as Knox Platform for Enterprise, Knox Mobile Enrollment, Knox Manage, Knox E-FOTA, and Knox Asset Intelligence. Key features of Knox Suite include: Secure - Ensure your business data is protected with managed security features at your control. Deploy - Enroll corporate devices to EMM automatically and securely, right out of the box. Manage - Enable comprehensive management over corporate devices and OS versions. Analyze - Strengthen in-depth device analytics for mobile productivity and asset management.', metadata={'source': 'all_processed_data.json', 'seq_num': 74, 'title': ' What is Knox Suite?', 'url': 'https://docs.samsungknox.com/admin/knox-suite/faq/#what-is-knox-suite', 'project': 'KS', 'last_updated': '2023-07-26', 'family_tree': 'child', 'parent_id': '5c911c77-600b-404f-a343-8a50c44aff9d', 'id': 'c49d4a66-7043-46db-a28c-136504538b7d'}), 0.600644744285228), (Document(page_content=\". Perform this procedure before installing Knox Capture on the device. This procedure is useful if you're still in the process of testing Knox Capture on a device. If your goal is to configure a group of Verizon XCover Pro devices, see Set the XCover key to trigger a camera scan on a group of Verizon XCover Pro devices instead. This procedure assumes that you haven't installed Knox Capture on the device. 1. On the device, tap Settings > Advanced features > XCover Key and switch off Verizon PTT. 2. Install Knox Capture. During installation, Knox Capture trigger is automatically assigned to the XCover key's Press action. You can verify this by going to Settings > Advanced features > XCover Key. Set the XCover key to trigger a camera scan on a group of Verizon XCover Pro devices This procedure describes how to use your EMM to disable the Verizon PTT key mapping on Verizon XCover Pro devices and program the XCover key to trigger a camera scan\", metadata={'source': 'all_processed_data.json', 'seq_num': 53, 'title': 'How to trigger camera scan with XCover key on Verizon device', 'url': 'https://docs.samsungknox.com/admin/knox-capture/kbas/disable-xcover-key-from-emm', 'project': 'KCAP', 'last_updated': '2023-07-26', 'family_tree': 'child', 'parent_id': 'b9d68cdd-2f36-4416-a4b5-fd612d5e96a3', 'id': '5fc0995e-48b6-4058-b9f3-2eae5a5298b9'}), 0.5941438695861057)]\n",
      "##############################\n",
      "similar_docs\n",
      "##############################\n",
      "[(Document(page_content='. 2. Under Device-wide policies, set Enable device policy controls to True. 3. Under Device Key Mapping (Premium), configure the mapping: 1. Set Enable Key Mapping Controls to True. 2. Set Enable PTT/Side Key Mapping for Microsoft Teams to False. 3. For Package Name, enter com.samsung.android.app.smartscan. 4. For Intent for Key press, enter com.samsung.android.knox.intent.action.PTT_PRESS. 5. For Intent for Key release, enter com.samsung.android.knox.intent.action.PTT_RELEASE. 6. Set Enable Key Mapping to Launch & Exit applications to False. 4. Save and assign the configured profile to the Verizon XCover Pro devices. 5. Verify that the configuration was applied successfully: 1. On one of the devices, launch the KSP app and tap Apply policies. 2. Go to Settings > Advanced features and verify that the XCover Key is disabled (grayed out). Pressing the XCover key now triggers a camera scan.', metadata={'source': 'all_processed_data.json', 'seq_num': 53, 'title': 'How to trigger camera scan with XCover key on Verizon device', 'url': 'https://docs.samsungknox.com/admin/knox-capture/kbas/disable-xcover-key-from-emm', 'project': 'KCAP', 'last_updated': '2023-07-26', 'family_tree': 'child', 'parent_id': 'b9d68cdd-2f36-4416-a4b5-fd612d5e96a3', 'id': 'aee429d6-8a2d-4713-b68b-444655954402'}), 9.932239481713623e-05), (Document(page_content='. Some barcode types include a mandatory checksum, while others only have optional checksums. Enforcing an optional checksum helps reduce false positives and provides an extra layer of error prevention. When enabling a checksum, ensure your barcode data includes the calculated checksum, otherwise the checksum will not match and the barcode data is discarded. Uses and enforces a modulo n checksum algorithm. ON/OFF OFF Full ASCII support Interprets Code39 data using two symbols per output character to encode all ASCII characters. ON/OFF OFF Double checksum mod n Uses and enforces a double checksum modulo n. ON/OFF OFF Remove leading zero Removes the leading zero digit from EAN13/UCPA scanned barcode data. ON/OFF ON Return as UPCA Transforms UPCE scanned barcode data into its UPCA representation', metadata={'source': 'all_processed_data.json', 'seq_num': 25, 'title': 'Scan engine settings: Scandit', 'url': 'https://docs.samsungknox.com/admin/knox-capture/knox-capture-scandit/scan-engine-settings-scandit', 'project': 'KCAP', 'last_updated': '2023-07-26', 'family_tree': 'child', 'parent_id': '4190b258-925f-4535-be45-0ee5fdb49dc5', 'id': '53e83152-36c7-4f61-a8d9-84b9a7234e22'}), 8.054178761085495e-05), (Document(page_content=\"Barcode capture not working for business app. Overview You may encounter situations where barcode data is not outputting correctly to your business app. Why isn't barcode capture working for my business app? Most barcode capture issues begin with minor errors in the keystroke output and scan engine settings. Try using test mode to verify your configurations after setting up a profile.\", metadata={'source': 'all_processed_data.json', 'seq_num': 51, 'title': 'Barcode capture not working for business app', 'url': 'https://docs.samsungknox.com/admin/knox-capture/kbas/barcode-capture-not-working-for-app', 'project': 'KCAP', 'last_updated': '2023-07-26', 'family_tree': 'child', 'parent_id': '8210f387-3d71-41a1-b29e-b3903481af52', 'id': '83ba07d2-3619-4e05-aaeb-a52045e06861'}), 8.039813110372052e-05), (Document(page_content='. However, a new device without an existing configuration will operate in Admin mode. To ensure _all_ devices operate in Managed mode, prepare and include the configuration each time you add or modify the app within the EMM console. Sharing and importing configurations Once a configuration has been exported, it can be shared with other devices running the app in Admin mode', metadata={'source': 'all_processed_data.json', 'seq_num': 14, 'title': 'Export and deploy configuration', 'url': 'https://docs.samsungknox.com/admin/knox-capture/how-to-guides/export-and-deploy-configuration', 'project': 'KCAP', 'last_updated': '2023-07-26', 'family_tree': 'child', 'parent_id': '853d626e-9416-4eb5-89f5-c84e5b998dca', 'id': '951524bf-2f35-4cfa-98a2-cf6698f8b504'}), 7.875215669628233e-05), (Document(page_content=\"Overview. Get started with the basics by learning what Knox Capture is and how it works. What is Knox Capture? To help explain what Knox Capture does, it may be helpful to start with an understanding of what a *wedge* scanner is, and how it relates to the Knox Capture solution. In traditional hardware-based barcode scanning terminology, a wedge scanner is a physical device that attaches between a keyboard and a computer. The keyboard attaches to the scanner, and the scanner attaches to the computer. From the computer's perspective, the scanner behaves just like an additional keyboard. When the computer runs a software program (like an inventory spreadsheet app), and barcodes are read using the wedge scanner, data is sent from the scanner to the program in the form of keystrokes. From the program's point of view, data appears exactly as if someone had typed it manually using a keyboard. How Knox Capture works In a similar way, Knox Capture also acts as a wedge between a software program and keyboard\", metadata={'source': 'all_processed_data.json', 'seq_num': 3, 'title': 'Overview', 'url': 'https://docs.samsungknox.com/admin/knox-capture/overview', 'project': 'KCAP', 'last_updated': '2023-07-26', 'family_tree': 'child', 'parent_id': '2dfcb471-aea7-42eb-9dc6-75fa1ad22653', 'id': 'd5c25a47-0b73-496d-a9cb-d4f14c846856'}), 7.762991299387068e-05)]\n",
      "\n",
      "==========  Results  ==========\n",
      "\n",
      "1. question: what is verify DM\n",
      "2. # documents: 5\n",
      "3. Documents: \n",
      "\n",
      "-----------------------------------------------\n",
      "1. Chunk: 900 Characters\n",
      "-----------------------------------------------\n",
      ". 2. Under Device-wide policies, set Enable device policy controls to True. 3. Under Device Key\n",
      "Mapping (Premium), configure the mapping: 1. Set Enable Key Mapping Controls to True. 2. Set Enable\n",
      "PTT/Side Key Mapping for Microsoft Teams to False. 3. For Package Name, enter\n",
      "com.samsung.android.app.smartscan. 4. For Intent for Key press, enter\n",
      "com.samsung.android.knox.intent.action.PTT_PRESS. 5. For Intent for Key release, enter\n",
      "com.samsung.android.knox.intent.action.PTT_RELEASE. 6. Set Enable Key Mapping to Launch & Exit\n",
      "applications to False. 4. Save and assign the configured profile to the Verizon XCover Pro devices.\n",
      "5. Verify that the configuration was applied successfully: 1. On one of the devices, launch the KSP\n",
      "app and tap Apply policies. 2. Go to Settings > Advanced features and verify that the XCover Key is\n",
      "disabled (grayed out). Pressing the XCover key now triggers a camera scan.\n",
      "metadata:\n",
      " {'source': 'all_processed_data.json', 'seq_num': 53, 'title': 'How to trigger camera scan with\n",
      "XCover key on Verizon device', 'url': 'https://docs.samsungknox.com/admin/knox-capture/kbas/disable-\n",
      "xcover-key-from-emm', 'project': 'KCAP', 'last_updated': '2023-07-26', 'family_tree': 'child',\n",
      "'parent_id': 'b9d68cdd-2f36-4416-a4b5-fd612d5e96a3', 'id': 'aee429d6-8a2d-4713-b68b-444655954402'}\n",
      "-----------------------------------------------\n",
      "2. Chunk: 803 Characters\n",
      "-----------------------------------------------\n",
      ". Some barcode types include a mandatory checksum, while others only have optional checksums.\n",
      "Enforcing an optional checksum helps reduce false positives and provides an extra layer of error\n",
      "prevention. When enabling a checksum, ensure your barcode data includes the calculated checksum,\n",
      "otherwise the checksum will not match and the barcode data is discarded. Uses and enforces a modulo\n",
      "n checksum algorithm. ON/OFF OFF Full ASCII support Interprets Code39 data using two symbols per\n",
      "output character to encode all ASCII characters. ON/OFF OFF Double checksum mod n Uses and enforces\n",
      "a double checksum modulo n. ON/OFF OFF Remove leading zero Removes the leading zero digit from\n",
      "EAN13/UCPA scanned barcode data. ON/OFF ON Return as UPCA Transforms UPCE scanned barcode data into\n",
      "its UPCA representation\n",
      "metadata:\n",
      " {'source': 'all_processed_data.json', 'seq_num': 25, 'title': 'Scan engine settings: Scandit',\n",
      "'url': 'https://docs.samsungknox.com/admin/knox-capture/knox-capture-scandit/scan-engine-settings-\n",
      "scandit', 'project': 'KCAP', 'last_updated': '2023-07-26', 'family_tree': 'child', 'parent_id':\n",
      "'4190b258-925f-4535-be45-0ee5fdb49dc5', 'id': '53e83152-36c7-4f61-a8d9-84b9a7234e22'}\n",
      "-----------------------------------------------\n",
      "3. Chunk: 387 Characters\n",
      "-----------------------------------------------\n",
      "Barcode capture not working for business app. Overview You may encounter situations where barcode\n",
      "data is not outputting correctly to your business app. Why isn't barcode capture working for my\n",
      "business app? Most barcode capture issues begin with minor errors in the keystroke output and scan\n",
      "engine settings. Try using test mode to verify your configurations after setting up a profile.\n",
      "metadata:\n",
      " {'source': 'all_processed_data.json', 'seq_num': 51, 'title': 'Barcode capture not working for\n",
      "business app', 'url': 'https://docs.samsungknox.com/admin/knox-capture/kbas/barcode-capture-not-\n",
      "working-for-app', 'project': 'KCAP', 'last_updated': '2023-07-26', 'family_tree': 'child',\n",
      "'parent_id': '8210f387-3d71-41a1-b29e-b3903481af52', 'id': '83ba07d2-3619-4e05-aaeb-a52045e06861'}\n",
      "-----------------------------------------------\n",
      "4. Chunk: 375 Characters\n",
      "-----------------------------------------------\n",
      ". However, a new device without an existing configuration will operate in Admin mode. To ensure\n",
      "_all_ devices operate in Managed mode, prepare and include the configuration each time you add or\n",
      "modify the app within the EMM console. Sharing and importing configurations Once a configuration has\n",
      "been exported, it can be shared with other devices running the app in Admin mode\n",
      "metadata:\n",
      " {'source': 'all_processed_data.json', 'seq_num': 14, 'title': 'Export and deploy configuration',\n",
      "'url': 'https://docs.samsungknox.com/admin/knox-capture/how-to-guides/export-and-deploy-\n",
      "configuration', 'project': 'KCAP', 'last_updated': '2023-07-26', 'family_tree': 'child',\n",
      "'parent_id': '853d626e-9416-4eb5-89f5-c84e5b998dca', 'id': '951524bf-2f35-4cfa-98a2-cf6698f8b504'}\n",
      "-----------------------------------------------\n",
      "5. Chunk: 1013 Characters\n",
      "-----------------------------------------------\n",
      "Overview. Get started with the basics by learning what Knox Capture is and how it works. What is\n",
      "Knox Capture? To help explain what Knox Capture does, it may be helpful to start with an\n",
      "understanding of what a *wedge* scanner is, and how it relates to the Knox Capture solution. In\n",
      "traditional hardware-based barcode scanning terminology, a wedge scanner is a physical device that\n",
      "attaches between a keyboard and a computer. The keyboard attaches to the scanner, and the scanner\n",
      "attaches to the computer. From the computer's perspective, the scanner behaves just like an\n",
      "additional keyboard. When the computer runs a software program (like an inventory spreadsheet app),\n",
      "and barcodes are read using the wedge scanner, data is sent from the scanner to the program in the\n",
      "form of keystrokes. From the program's point of view, data appears exactly as if someone had typed\n",
      "it manually using a keyboard. How Knox Capture works In a similar way, Knox Capture also acts as a\n",
      "wedge between a software program and keyboard\n",
      "metadata:\n",
      " {'source': 'all_processed_data.json', 'seq_num': 3, 'title': 'Overview', 'url':\n",
      "'https://docs.samsungknox.com/admin/knox-capture/overview', 'project': 'KCAP', 'last_updated':\n",
      "'2023-07-26', 'family_tree': 'child', 'parent_id': '2dfcb471-aea7-42eb-9dc6-75fa1ad22653', 'id':\n",
      "'d5c25a47-0b73-496d-a9cb-d4f14c846856'}\n",
      "CPU times: user 143 ms, sys: 7.85 ms, total: 151 ms\n",
      "Wall time: 431 ms\n"
     ]
    }
   ],
   "source": [
    "%%time\n",
    "search_hybrid_result = opensearch_hybrid_retriever.get_relevant_documents(query)\n",
    "\n",
    "print(\"\\n==========  Results  ==========\\n\")\n",
    "print(f'1. question: {query}')\n",
    "print (f'2. # documents: {len(search_hybrid_result)}')\n",
    "print(\"3. Documents: \\n\")\n",
    "\n",
    "show_context_used(search_hybrid_result)"
   ]
  },
  {
   "cell_type": "markdown",
   "id": "c09221b5-4a6c-463b-9769-35cc8362e33c",
   "metadata": {},
   "source": [
    "- update parameters"
   ]
  },
  {
   "cell_type": "code",
   "execution_count": 51,
   "id": "b7bb4672-d2b8-4b29-b71c-b06d84bcd470",
   "metadata": {
    "tags": []
   },
   "outputs": [],
   "source": [
    "opensearch_hybrid_retriever.update_search_params(\n",
    "    k=3,\n",
    "    minimum_should_match=0,\n",
    "    #filter=[],\n",
    "    filter=[\n",
    "        #{'term': {'metadata.project': 'KS'}},\n",
    "        #{'term': {'metadata.family_tree': 'child'}},\n",
    "    ],\n",
    "    reranker=True,\n",
    "    reranker_endpoint_name=endpoint_name,\n",
    "    parent_document=True, # enable parent document\n",
    "    verbose=True,\n",
    ")"
   ]
  },
  {
   "cell_type": "code",
   "execution_count": 52,
   "id": "1b9b45b1-cb92-4954-8087-143a550350c8",
   "metadata": {
    "collapsed": true,
    "jupyter": {
     "outputs_hidden": true
    },
    "tags": []
   },
   "outputs": [
    {
     "name": "stdout",
     "output_type": "stream",
     "text": [
      "===== ParentDocument =====\n",
      "filter: [{'term': {'metadata.family_tree': 'child'}}]\n",
      "# child_docs: 3\n",
      "# parent docs: 3\n",
      "# duplicates: 0\n",
      "##############################\n",
      "async_mode\n",
      "##############################\n",
      "True\n",
      "##############################\n",
      "reranker\n",
      "##############################\n",
      "True\n",
      "##############################\n",
      "rag_fusion\n",
      "##############################\n",
      "False\n",
      "##############################\n",
      "HyDE\n",
      "##############################\n",
      "False\n",
      "##############################\n",
      "parent_document\n",
      "##############################\n",
      "True\n",
      "##############################\n",
      "similar_docs_semantic\n",
      "##############################\n",
      "[(Document(page_content=\". Tap Add when you're finished. 8. Configure the actions as necessary, then tap < in the top left to return to the rules list. 9. Repeat Steps 3-8 for any additional rules you want to create, then rearrange them in the order they should be executed. Refer to the advanced data formatting actions below to move the cursor, modify, send, or delay data being sent to business apps. If you add multiple actions to your rule, you can change the order in which they execute. Action Description Options Default Cursor movement Sets the cursor to move to a location in the output data. Skip ahead by characters &mdash; Moves the cursor forward by a specific number of characters. 1 Skip back by characters &mdash; Moves the cursor backwards by a specific number of characters. 1 Skip to start &mdash; Moves the cursor to the beginning of the output data. None Move ahead to substring &mdash; Moves the cursor forward until a specific string is found\", metadata={'source': 'all_processed_data.json', 'seq_num': 9, 'title': 'Configure keystroke output and data formatting', 'url': 'https://docs.samsungknox.com/admin/knox-capture/how-to-guides/configure-keystroke-output-and-data-formatting', 'project': 'KCAP', 'last_updated': '2023-07-26', 'family_tree': 'child', 'parent_id': 'd6d4e912-0a23-4035-a014-97b4c43037f5', 'id': '1d52199b-c442-41b7-9e1d-95021ce20395'}), 1.0), (Document(page_content='. 2. In the pop-up, seelct Email, then select your preferred email app. The configuration file is automatically attached. 3. After sending the email with the configuration file attached, re-launch Knox Capture. You should see a notification confirming the email submission followed by the date and time. Step 7: Deploy Knox Capture using an EMM/UEM You have now configured a basic Knox Capture configuration and exported it as an email attachment. The only thing left to do is use the configuration to deploy Knox Capture as a managed-app to your end-users. Actual deployment steps vary depending on the EMM provider, but they should generally resemble the following: 1. Add the Knox Capture app to your Managed Google Play Store. 2. Assign the app to a group or organization and launch the app configuration dialog. In a typical console, the app configuration dialog opens as a pop-up window or modal. 3. Activate the license by pasting it into the field within the app configuration (App Config) screen. 4', metadata={'source': 'all_processed_data.json', 'seq_num': 6, 'title': 'Admin get started', 'url': 'https://docs.samsungknox.com/admin/knox-capture/get-started/admin-tutorial', 'project': 'KCAP', 'last_updated': '2023-07-26', 'family_tree': 'child', 'parent_id': '874e839b-6fe6-439b-8575-6fa9e5b1f7e7', 'id': '30e9b4b1-cdfe-48fc-a2a1-767206f5d10d'}), 0.9844975538189312), (Document(page_content='. Once the IT admin has configured the profile, they push it to enterprise devices through their EMM. Device users can then start using the business app to scan barcodes.', metadata={'source': 'all_processed_data.json', 'seq_num': 40, 'title': 'Why is Knox Capture called a wedge? ', 'url': 'https://docs.samsungknox.com/admin/knox-capture/faq/#why-is-knox-capture-called-wedge', 'project': 'KCAP', 'last_updated': '2023-07-26', 'family_tree': 'child', 'parent_id': '30002eff-64a4-4161-929e-76f8056ef050', 'id': '1c9b3465-d17e-4819-9c20-98c75a8c7995'}), 0.9780864117989388), (Document(page_content='. Creating custom scanning profiles Custom profiles can be created by modifying the default profile settings, or by creating entirely new profiles altogether. 1. Tap the + button near the top of the app UI to open the profile creation options. 2. Select Create profile to start a profile from scratch, or select Duplicate existing profile to copy the settings from an existing (custom or default) profile. Alternatively, you can create a custom profile by clicking Create profile without clicking the + button. 3. Provide a profile name, then tap Done. The new profile appears in the profiles area below Defult scanning profile.', metadata={'source': 'all_processed_data.json', 'seq_num': 13, 'title': 'Scanning profiles', 'url': 'https://docs.samsungknox.com/admin/knox-capture/how-to-guides/create-scanning-profiles', 'project': 'KCAP', 'last_updated': '2023-07-26', 'family_tree': 'child', 'parent_id': 'a1c8032d-2df3-4c46-89ab-27c8cdb7b6fc', 'id': '9e3d8b92-c2ce-492f-846f-4fe2a6f565a3'}), 0.9765169986213121)]\n",
      "##############################\n",
      "similar_docs_keyword\n",
      "##############################\n",
      "[(Document(page_content='. Learn how to connect Bluetooth and USB scanners to a device running Knox Capture, and how to perform a test scan once a scanner is connected. Configure the output path - Some organizations may want to send scanned Knox Capture data to a bluetooth keyboard connected to a PC, emulating the functionality of a traditional hardware scanner. Learn how output paths work, and how to pair and unpair your device to a bluetooth keyboard. Knox Capture AR - A feature introduced in Knox Capture v1.7 that provides important product information inside the camera preview window during a barcode scan. Learn what AR (Augmented Reality) is in Knox Capture, how to create AR templates, and how to use AR when performing barcode scans.', metadata={'source': 'all_processed_data.json', 'seq_num': 3, 'title': 'Overview', 'url': 'https://docs.samsungknox.com/admin/knox-capture/overview', 'project': 'KCAP', 'last_updated': '2023-07-26', 'family_tree': 'child', 'parent_id': '75bb0038-6007-4244-815b-1983b0556112', 'id': '27d81a27-e47a-4654-a433-8b426060b5ad'}), 1.0), (Document(page_content='How to generate a 2- or 3-year license key. This article will guide you on how to generate a 2- or 3-year Knox Suite license. How to generate a 2- or 3-year license key To generate a 2-3 year license key: 1. Generate a 1-year license through SamsungKnox.com. 2. Contact your reseller to extend your license. You do not need to wait until the end of the first year to do this.', metadata={'source': 'all_processed_data.json', 'seq_num': 85, 'title': 'How to generate a 2- or 3-year license key', 'url': 'https://docs.samsungknox.com/admin/knox-suite/kbas/kba-how-to-generate-two-or-three-year-license-key', 'project': 'KS', 'last_updated': '2023-07-26', 'family_tree': 'child', 'parent_id': '84c852ef-02c5-4dca-b076-04c966ac96b0', 'id': 'd4869089-188a-424d-9628-574c4b863669'}), 0.9674823841083602), (Document(page_content=\"Videos. This section contains product and how-to videos related to Knox Capture. Getting started with Samsung Knox Capture In this video, we'll show you how to use Samsung Knox Capture to transform your mobile devices into powerful barcode scanners that can read, process, and output barcode data into other applications. Samsung Knox Capture: Enterprise-grade mobile scanning solution in Galaxy device This product intro video shows you how easy it is to transform rugged Samsung devices like the Galaxy XCover Pro into enterprise-grade barcode scanners.\", metadata={'source': 'all_processed_data.json', 'seq_num': 2, 'title': 'Videos', 'url': 'https://docs.samsungknox.com/admin/knox-capture/how-to-videos', 'project': 'KCAP', 'last_updated': '2023-07-26', 'family_tree': 'child', 'parent_id': 'e0caaea3-6ef4-4044-a876-9735d99b9b5f', 'id': '927deb64-bfe0-4092-8187-19f23b9e9e88'}), 0.9259835972187903), (Document(page_content=\"How to receive a Knox customer ID. This article will guide you on how to receive a Knox customer ID. How to receive a Knox customer ID To get your Knox customer ID: 1. Create a Samsung account. 2. Apply for Knox Suite trial. 3. When your customer account is approved, you'll receive a customer ID. Provide your customer ID to your reseller, so they can upload your device details to SamsungKnox.com.\", metadata={'source': 'all_processed_data.json', 'seq_num': 86, 'title': 'How to receive a Knox customer ID', 'url': 'https://docs.samsungknox.com/admin/knox-suite/kbas/kba-how-to-receive-knox-customer-id', 'project': 'KS', 'last_updated': '2023-07-26', 'family_tree': 'child', 'parent_id': 'a042eff6-1922-463d-9487-d1d45592836e', 'id': '21489d71-5756-4ea6-a3fa-a0ff18a5e75b'}), 0.9154117545601576)]\n",
      "##############################\n",
      "similar_docs\n",
      "##############################\n",
      "[(Document(page_content=\". On the Knox Capture home screen, tap on the profile you want to create a rule for. 2. Under Keystroke output and data formatting, tap Advanced data formatting. 3. In the top right corner of the screen, tap +. 4. Enter a name for the rule, then tap Done. 5. Under Set criteria, configure the below settings as needed: Barcode type - The types of barcodes that the rule applies to. String length - The required length of scanned data to trigger the rule. String - A string that must be present for the rule to trigger. String position - When the cursor reaches this position in the string, the rule executes. 6. Under Set actions in order, tap Add actions. 7. A popup appears, prompting you to select actions you want to add. See the table below for details on each action. Tap Add when you're finished. 8. Configure the actions as necessary, then tap < in the top left to return to the rules list. 9. Repeat Steps 3-8 for any additional rules you want to create, then rearrange them in the order they should be executed. Refer to the advanced data formatting actions below to move the cursor, modify, send, or delay data being sent to business apps. If you add multiple actions to your rule, you can change the order in which they execute. Action Description Options Default Cursor movement Sets the cursor to move to a location in the output data. Skip ahead by characters &mdash; Moves the cursor forward by a specific number of characters. 1 Skip back by characters &mdash; Moves the cursor backwards by a specific number of characters. 1 Skip to start &mdash; Moves the cursor to the beginning of the output data. None Move ahead to substring &mdash; Moves the cursor forward until a specific string is found. None Move past substring &mdash; Moves the cursor past a specific string in the output data. None Data modification Sets the elements for Knox Capture to add, edit, or remove from the data. Remove extra spaces &mdash; Deletes all but one space between words, and removes any blank space at the beginning and end of the data. None Remove all spaces &mdash; Remove all spaces in the data. None Remove leading zeros &mdash; Remove any zeroes at the beginning of the data. None Pad with zeros to the left &mdash; Specify the desired length of the output. Knox Capture pads the left side of the string with zeros until the desired length is reached. 1 Replace string &mdash; Replaces a specific string with a new, specified string. You must specify both strings. None Remove characters When sending data, removes a specific number of characters from the given positions. You must provide the start position and the number of characters to remove. Start position: 1 Number of characters: 1 Data sending Controls a selected amount of data to send to business apps. Send next characters &mdash; Sends a specific number of characters from the current cursor position. 1 Send remaining characters &mdash; Sends all data after the current cursor position. None Send up to substring &mdash; Sends all data up to a specific string. None Send pause &mdash; Pauses all actions for a specific number of milliseconds (max. 120000). 50ms Send string &mdash; Sends a specific string when the corresponding rule is triggered. None Send cha &mdash; Sends a specific ASCII/Unicode character when the corresponding rule is triggered. 32\", metadata={'source': 'all_processed_data.json', 'seq_num': 9, 'title': 'Configure keystroke output and data formatting', 'url': 'https://docs.samsungknox.com/admin/knox-capture/how-to-guides/configure-keystroke-output-and-data-formatting', 'project': 'KCAP', 'last_updated': '2023-07-26', 'family_tree': 'parent', 'parent_id': None}), 0.000624670647084713), (Document(page_content=\". Scanned raw - The scanned barcode data in hexadecimal format without any keystroke output rules applied. 7. Inspect and compare the Scanned data to the Output data to ensure you've set the correct keystroke output rules. Repeat this test with other apps as required. 8. Exit test mode tapping X in the top-right corner of the test overlay, then in the confirmation pop-up, tap Close to return to the Test apps list. Step 6: Export configuration After editing your profiles, you can export the configuration as a .txt file. This configuration file can be shared with other Knox Capture IT admins, or it can be used in your EMM/UEM to deploy Knox Capture as a managed-app to end-users. To export a scanning configuration: 1. On the home screen, tap the Share button in the lower-right corner. 2. In the pop-up, seelct Email, then select your preferred email app. The configuration file is automatically attached. 3. After sending the email with the configuration file attached, re-launch Knox Capture. You should see a notification confirming the email submission followed by the date and time. Step 7: Deploy Knox Capture using an EMM/UEM You have now configured a basic Knox Capture configuration and exported it as an email attachment. The only thing left to do is use the configuration to deploy Knox Capture as a managed-app to your end-users. Actual deployment steps vary depending on the EMM provider, but they should generally resemble the following: 1. Add the Knox Capture app to your Managed Google Play Store. 2. Assign the app to a group or organization and launch the app configuration dialog. In a typical console, the app configuration dialog opens as a pop-up window or modal. 3. Activate the license by pasting it into the field within the app configuration (App Config) screen. 4. Copy and paste the exported configuration into the provided app configuration field. Adding a configuration to Managed Google Play is the only step necessary to ensure all devices installing the app operate in Managed mode. However, if you're using a trial version of Knox Capture, you'll need to push a Knox Suite license key as well. Refer to the following table for details on the configuration data: Configuration key , Configuration type , Configuration value - , - , - smartscan_license , String , Knox license key smartscan_config , String , Exported configuration data from Knox Capture 5. Save the updated settings and deploy. Summary You have now completed a typical Knox Capture workflow for IT admins, and have been introduced to configuring and deploying the app to managed devices. For more information, browse the how-to guides for detailed instructions for each feature.\", metadata={'source': 'all_processed_data.json', 'seq_num': 6, 'title': 'Admin get started', 'url': 'https://docs.samsungknox.com/admin/knox-capture/get-started/admin-tutorial', 'project': 'KCAP', 'last_updated': '2023-07-26', 'family_tree': 'parent', 'parent_id': None}), 9.524791676085442e-05), (Document(page_content=\". IT admins: Get started with Knox Capture - Learn how to create a new scanning profile, configure scan engine settings, perform a test scan, and export scanning configurations for deployment through an EMM/UEM as an IT admin. End-users: Get started with Knox Capture - Learn how to review scanning profile settings, configure hardware key settings, and perform barcode scans from a business app as a device end-user. #How-to topics For in-depth explanations and detailed walkthroughs of key Knox Capture features, refer to the following how-to topics for more information: Manage licenses - Learn about the Knox Capture licensing procedure, and how to switch between Knox Capture and Knox Capture: Scandit Edition licenses on the app. Scanning profiles - Learn how profiles work, what the default profile does, and how to create new profiles for different scanning scenarios. Apps and activities - The component of every scanning profile that defines which busiess apps can launch the camera scanner. Learn how apps and activities work, and how you can customize them in the scanning profiles. Scan engine settings - These settings define how barcodes are scanned, and what happens with the data after each scan. Learn how to set barcode types, change scan modes, control viewfinder size, and more. Keystroke output - The scanning profile setting that defines how data is formatted after each successful scan. Learn how to append or prepend special characters to scanned data, or how to insert ASCII Tabs and Enter keys at the end of each barcode to allow for easier processing in spreadsheets and forms. Test mode - A feature that lets you test a scanning profile's apps, barcode types, and keystroke ouput rules before exporting the configuration for deployment. Deploy configuration to EMM/UEM - Learn about the various scanning profile export options, and how to use the exported configuration file in an EMM/UEM to deploy Knox Capture to end-users. Set camera scan trigger - A feature that allows IT admins to specify whether a user can trigger a camera scan using a hardware button on the device, an on-screen floating action button, or both. Learn about the different button options, and how to configure the triggers from both the admin and end-user's point of view. Connect a hardware scanner - Certain enterprises may wish to use their existing hardware wedge scanners alongside Knox Capture. Learn how to connect Bluetooth and USB scanners to a device running Knox Capture, and how to perform a test scan once a scanner is connected. Configure the output path - Some organizations may want to send scanned Knox Capture data to a bluetooth keyboard connected to a PC, emulating the functionality of a traditional hardware scanner. Learn how output paths work, and how to pair and unpair your device to a bluetooth keyboard. Knox Capture AR - A feature introduced in Knox Capture v1.7 that provides important product information inside the camera preview window during a barcode scan. Learn what AR (Augmented Reality) is in Knox Capture, how to create AR templates, and how to use AR when performing barcode scans.\", metadata={'source': 'all_processed_data.json', 'seq_num': 3, 'title': 'Overview', 'url': 'https://docs.samsungknox.com/admin/knox-capture/overview', 'project': 'KCAP', 'last_updated': '2023-07-26', 'family_tree': 'parent', 'parent_id': None}), 7.779421139275655e-05)]\n",
      "\n",
      "==========  Results  ==========\n",
      "\n",
      "1. question: how to vefify DM\n",
      "2. # documents: 3\n",
      "3. Documents: \n",
      "\n",
      "-----------------------------------------------\n",
      "1. Chunk: 3328 Characters\n",
      "-----------------------------------------------\n",
      ". On the Knox Capture home screen, tap on the profile you want to create a rule for. 2. Under\n",
      "Keystroke output and data formatting, tap Advanced data formatting. 3. In the top right corner of\n",
      "the screen, tap +. 4. Enter a name for the rule, then tap Done. 5. Under Set criteria, configure the\n",
      "below settings as needed: Barcode type - The types of barcodes that the rule applies to. String\n",
      "length - The required length of scanned data to trigger the rule. String - A string that must be\n",
      "present for the rule to trigger. String position - When the cursor reaches this position in the\n",
      "string, the rule executes. 6. Under Set actions in order, tap Add actions. 7. A popup appears,\n",
      "prompting you to select actions you want to add. See the table below for details on each action. Tap\n",
      "Add when you're finished. 8. Configure the actions as necessary, then tap < in the top left to\n",
      "return to the rules list. 9. Repeat Steps 3-8 for any additional rules you want to create, then\n",
      "rearrange them in the order they should be executed. Refer to the advanced data formatting actions\n",
      "below to move the cursor, modify, send, or delay data being sent to business apps. If you add\n",
      "multiple actions to your rule, you can change the order in which they execute. Action Description\n",
      "Options Default Cursor movement Sets the cursor to move to a location in the output data. Skip ahead\n",
      "by characters &mdash; Moves the cursor forward by a specific number of characters. 1 Skip back by\n",
      "characters &mdash; Moves the cursor backwards by a specific number of characters. 1 Skip to start\n",
      "&mdash; Moves the cursor to the beginning of the output data. None Move ahead to substring &mdash;\n",
      "Moves the cursor forward until a specific string is found. None Move past substring &mdash; Moves\n",
      "the cursor past a specific string in the output data. None Data modification Sets the elements for\n",
      "Knox Capture to add, edit, or remove from the data. Remove extra spaces &mdash; Deletes all but one\n",
      "space between words, and removes any blank space at the beginning and end of the data. None Remove\n",
      "all spaces &mdash; Remove all spaces in the data. None Remove leading zeros &mdash; Remove any\n",
      "zeroes at the beginning of the data. None Pad with zeros to the left &mdash; Specify the desired\n",
      "length of the output. Knox Capture pads the left side of the string with zeros until the desired\n",
      "length is reached. 1 Replace string &mdash; Replaces a specific string with a new, specified string.\n",
      "You must specify both strings. None Remove characters When sending data, removes a specific number\n",
      "of characters from the given positions. You must provide the start position and the number of\n",
      "characters to remove. Start position: 1 Number of characters: 1 Data sending Controls a selected\n",
      "amount of data to send to business apps. Send next characters &mdash; Sends a specific number of\n",
      "characters from the current cursor position. 1 Send remaining characters &mdash; Sends all data\n",
      "after the current cursor position. None Send up to substring &mdash; Sends all data up to a specific\n",
      "string. None Send pause &mdash; Pauses all actions for a specific number of milliseconds (max.\n",
      "120000). 50ms Send string &mdash; Sends a specific string when the corresponding rule is triggered.\n",
      "None Send cha &mdash; Sends a specific ASCII/Unicode character when the corresponding rule is\n",
      "triggered. 32\n",
      "metadata:\n",
      " {'source': 'all_processed_data.json', 'seq_num': 9, 'title': 'Configure keystroke output and data\n",
      "formatting', 'url': 'https://docs.samsungknox.com/admin/knox-capture/how-to-guides/configure-\n",
      "keystroke-output-and-data-formatting', 'project': 'KCAP', 'last_updated': '2023-07-26',\n",
      "'family_tree': 'parent', 'parent_id': None}\n",
      "-----------------------------------------------\n",
      "2. Chunk: 2686 Characters\n",
      "-----------------------------------------------\n",
      ". Scanned raw - The scanned barcode data in hexadecimal format without any keystroke output rules\n",
      "applied. 7. Inspect and compare the Scanned data to the Output data to ensure you've set the correct\n",
      "keystroke output rules. Repeat this test with other apps as required. 8. Exit test mode tapping X in\n",
      "the top-right corner of the test overlay, then in the confirmation pop-up, tap Close to return to\n",
      "the Test apps list. Step 6: Export configuration After editing your profiles, you can export the\n",
      "configuration as a .txt file. This configuration file can be shared with other Knox Capture IT\n",
      "admins, or it can be used in your EMM/UEM to deploy Knox Capture as a managed-app to end-users. To\n",
      "export a scanning configuration: 1. On the home screen, tap the Share button in the lower-right\n",
      "corner. 2. In the pop-up, seelct Email, then select your preferred email app. The configuration file\n",
      "is automatically attached. 3. After sending the email with the configuration file attached, re-\n",
      "launch Knox Capture. You should see a notification confirming the email submission followed by the\n",
      "date and time. Step 7: Deploy Knox Capture using an EMM/UEM You have now configured a basic Knox\n",
      "Capture configuration and exported it as an email attachment. The only thing left to do is use the\n",
      "configuration to deploy Knox Capture as a managed-app to your end-users. Actual deployment steps\n",
      "vary depending on the EMM provider, but they should generally resemble the following: 1. Add the\n",
      "Knox Capture app to your Managed Google Play Store. 2. Assign the app to a group or organization and\n",
      "launch the app configuration dialog. In a typical console, the app configuration dialog opens as a\n",
      "pop-up window or modal. 3. Activate the license by pasting it into the field within the app\n",
      "configuration (App Config) screen. 4. Copy and paste the exported configuration into the provided\n",
      "app configuration field. Adding a configuration to Managed Google Play is the only step necessary to\n",
      "ensure all devices installing the app operate in Managed mode. However, if you're using a trial\n",
      "version of Knox Capture, you'll need to push a Knox Suite license key as well. Refer to the\n",
      "following table for details on the configuration data: Configuration key , Configuration type ,\n",
      "Configuration value - , - , - smartscan_license , String , Knox license key smartscan_config ,\n",
      "String , Exported configuration data from Knox Capture 5. Save the updated settings and deploy.\n",
      "Summary You have now completed a typical Knox Capture workflow for IT admins, and have been\n",
      "introduced to configuring and deploying the app to managed devices. For more information, browse the\n",
      "how-to guides for detailed instructions for each feature.\n",
      "metadata:\n",
      " {'source': 'all_processed_data.json', 'seq_num': 6, 'title': 'Admin get started', 'url':\n",
      "'https://docs.samsungknox.com/admin/knox-capture/get-started/admin-tutorial', 'project': 'KCAP',\n",
      "'last_updated': '2023-07-26', 'family_tree': 'parent', 'parent_id': None}\n",
      "-----------------------------------------------\n",
      "3. Chunk: 3125 Characters\n",
      "-----------------------------------------------\n",
      ". IT admins: Get started with Knox Capture - Learn how to create a new scanning profile, configure\n",
      "scan engine settings, perform a test scan, and export scanning configurations for deployment through\n",
      "an EMM/UEM as an IT admin. End-users: Get started with Knox Capture - Learn how to review scanning\n",
      "profile settings, configure hardware key settings, and perform barcode scans from a business app as\n",
      "a device end-user. #How-to topics For in-depth explanations and detailed walkthroughs of key Knox\n",
      "Capture features, refer to the following how-to topics for more information: Manage licenses - Learn\n",
      "about the Knox Capture licensing procedure, and how to switch between Knox Capture and Knox Capture:\n",
      "Scandit Edition licenses on the app. Scanning profiles - Learn how profiles work, what the default\n",
      "profile does, and how to create new profiles for different scanning scenarios. Apps and activities -\n",
      "The component of every scanning profile that defines which busiess apps can launch the camera\n",
      "scanner. Learn how apps and activities work, and how you can customize them in the scanning\n",
      "profiles. Scan engine settings - These settings define how barcodes are scanned, and what happens\n",
      "with the data after each scan. Learn how to set barcode types, change scan modes, control viewfinder\n",
      "size, and more. Keystroke output - The scanning profile setting that defines how data is formatted\n",
      "after each successful scan. Learn how to append or prepend special characters to scanned data, or\n",
      "how to insert ASCII Tabs and Enter keys at the end of each barcode to allow for easier processing in\n",
      "spreadsheets and forms. Test mode - A feature that lets you test a scanning profile's apps, barcode\n",
      "types, and keystroke ouput rules before exporting the configuration for deployment. Deploy\n",
      "configuration to EMM/UEM - Learn about the various scanning profile export options, and how to use\n",
      "the exported configuration file in an EMM/UEM to deploy Knox Capture to end-users. Set camera scan\n",
      "trigger - A feature that allows IT admins to specify whether a user can trigger a camera scan using\n",
      "a hardware button on the device, an on-screen floating action button, or both. Learn about the\n",
      "different button options, and how to configure the triggers from both the admin and end-user's point\n",
      "of view. Connect a hardware scanner - Certain enterprises may wish to use their existing hardware\n",
      "wedge scanners alongside Knox Capture. Learn how to connect Bluetooth and USB scanners to a device\n",
      "running Knox Capture, and how to perform a test scan once a scanner is connected. Configure the\n",
      "output path - Some organizations may want to send scanned Knox Capture data to a bluetooth keyboard\n",
      "connected to a PC, emulating the functionality of a traditional hardware scanner. Learn how output\n",
      "paths work, and how to pair and unpair your device to a bluetooth keyboard. Knox Capture AR - A\n",
      "feature introduced in Knox Capture v1.7 that provides important product information inside the\n",
      "camera preview window during a barcode scan. Learn what AR (Augmented Reality) is in Knox Capture,\n",
      "how to create AR templates, and how to use AR when performing barcode scans.\n",
      "metadata:\n",
      " {'source': 'all_processed_data.json', 'seq_num': 3, 'title': 'Overview', 'url':\n",
      "'https://docs.samsungknox.com/admin/knox-capture/overview', 'project': 'KCAP', 'last_updated':\n",
      "'2023-07-26', 'family_tree': 'parent', 'parent_id': None}\n"
     ]
    }
   ],
   "source": [
    "query = \"how to vefify DM\"\n",
    "search_hybrid_result = opensearch_hybrid_retriever.get_relevant_documents(query)\n",
    "\n",
    "print(\"\\n==========  Results  ==========\\n\")\n",
    "print(f'1. question: {query}')\n",
    "print(f'2. # documents: {len(search_hybrid_result)}')\n",
    "print(\"3. Documents: \\n\")\n",
    "\n",
    "show_context_used(search_hybrid_result)"
   ]
  },
  {
   "cell_type": "markdown",
   "id": "a981abe7-5208-48f5-a9cc-8c557e9941ca",
   "metadata": {},
   "source": [
    "## 5. RAG using RetrievalQA powered by LangChain"
   ]
  },
  {
   "cell_type": "code",
   "execution_count": 281,
   "id": "08cf6d2b-451b-499c-aec2-bb6f5abafbb0",
   "metadata": {
    "tags": []
   },
   "outputs": [],
   "source": [
    "from utils.rag import prompt_repo\n",
    "from utils.rag import run_RetrievalQA\n",
    "from langchain.prompts import PromptTemplate"
   ]
  },
  {
   "cell_type": "markdown",
   "id": "b490df1f-8113-4dd1-a578-a3e1a6918fde",
   "metadata": {
    "tags": []
   },
   "source": [
    "### Prompting\n",
    "- [TIP] Prompt의 instruction의 경우 한글보다 영어로 했을 때 더 좋은 결과를 얻을 수 있습니다."
   ]
  },
  {
   "cell_type": "code",
   "execution_count": 354,
   "id": "0a68b4bf-8fc5-45a6-80cf-2bc059d4e389",
   "metadata": {
    "tags": []
   },
   "outputs": [],
   "source": [
    "PROMPT = prompt_repo.get_qa(prompt_type=\"answer_with_ref\") # [\"answer_only\", \"answer_with_ref\"]"
   ]
  },
  {
   "cell_type": "code",
   "execution_count": 355,
   "id": "cbb60f9d-3594-44ad-afca-e89feea8e29a",
   "metadata": {
    "tags": []
   },
   "outputs": [
    {
     "name": "stdout",
     "output_type": "stream",
     "text": [
      "('\\n'\n",
      " '            \\n'\n",
      " '\\n'\n",
      " 'Human:\\n'\n",
      " '            You are a mater answer bot designed to answer software '\n",
      " \"developer's questions.\\n\"\n",
      " \"            I'm going to give you a context. Read the context carefully, \"\n",
      " \"because I'm going to ask you a question about it.\\n\"\n",
      " '\\n'\n",
      " '            Here is the context: <context>{context}</context>\\n'\n",
      " '\\n'\n",
      " '            First, find the paragraphs or sentences from the context that '\n",
      " 'are most relevant to answering the question, and then print them in numbered '\n",
      " 'order.\\n'\n",
      " '            The format of paragraphs or sentences to the question should '\n",
      " \"look like what's shown between the <references></references> tags.\\n\"\n",
      " '            Make sure to follow the formatting and spacing exactly.\\n'\n",
      " '\\n'\n",
      " '            <references>\\n'\n",
      " '            [Examples of question + answer pairs using parts of the given '\n",
      " 'context, with answers written exactly like how Claude’s output should be '\n",
      " 'structured]\\n'\n",
      " '            </references>\\n'\n",
      " '\\n'\n",
      " '            If there are no relevant paragraphs or sentences, write \"No '\n",
      " 'relevant context\" instead.\\n'\n",
      " '\\n'\n",
      " '            Then, answer the question within <answer></answer> XML tags as '\n",
      " 'much as you can.\\n'\n",
      " '            Skip the preamble and go straight into the answer.\\n'\n",
      " '            Don\\'t say \"According to context\" when answering.\\n'\n",
      " \"            Don't insert XML tag such as <context> and </context> when \"\n",
      " 'answering.\\n'\n",
      " '            If relevant paragraphs or sentences have code block, please show '\n",
      " 'us that as code block.\\n'\n",
      " '\\n'\n",
      " '            Here is the question: <question>{question}</question>\\n'\n",
      " '\\n'\n",
      " '            If the question cannot be answered by the context, say so.\\n'\n",
      " '\\n'\n",
      " '            \\n'\n",
      " '\\n'\n",
      " 'Assistant:')\n"
     ]
    }
   ],
   "source": [
    "pprint (PROMPT.template)"
   ]
  },
  {
   "cell_type": "markdown",
   "id": "c66157a6-aec8-4555-a90f-1178e6f4f6e0",
   "metadata": {},
   "source": [
    "### Update Search Params (Optional)"
   ]
  },
  {
   "cell_type": "code",
   "execution_count": 356,
   "id": "64df2daf-8b42-472a-885f-97320ee98132",
   "metadata": {
    "tags": []
   },
   "outputs": [],
   "source": [
    "from langchain.chains import RetrievalQA"
   ]
  },
  {
   "cell_type": "code",
   "execution_count": 357,
   "id": "d2697230-6962-43d8-8917-ba9daa4295bb",
   "metadata": {
    "tags": []
   },
   "outputs": [],
   "source": [
    "opensearch_hybrid_retriever.update_search_params(\n",
    "    k=5,\n",
    "    minimum_should_match=0,\n",
    "    filter=[],\n",
    "    reranker=True,\n",
    "    reranker_endpoint_name=endpoint_name,\n",
    "    #rag_fusion=True,\n",
    "    #hyde=True,\n",
    "    parent_document=True, # enable parent document\n",
    "    verbose=False\n",
    ")"
   ]
  },
  {
   "cell_type": "markdown",
   "id": "aee26c22-b674-4f4f-a87b-29508e336fda",
   "metadata": {},
   "source": [
    "### Request"
   ]
  },
  {
   "cell_type": "code",
   "execution_count": 358,
   "id": "95fa61d3-9256-432a-96a3-2c696c97ea68",
   "metadata": {
    "tags": []
   },
   "outputs": [],
   "source": [
    "qa = RetrievalQA.from_chain_type(\n",
    "    llm=llm_text,\n",
    "    chain_type=\"stuff\",\n",
    "    retriever=opensearch_hybrid_retriever,\n",
    "    return_source_documents=True,\n",
    "    chain_type_kwargs={\n",
    "        \"prompt\": PROMPT,\n",
    "        \"verbose\": False,\n",
    "    },\n",
    "    verbose=False\n",
    ")"
   ]
  },
  {
   "cell_type": "code",
   "execution_count": 363,
   "id": "390ad324-40b3-4bcb-92b9-50eb080492a5",
   "metadata": {
    "tags": []
   },
   "outputs": [
    {
     "name": "stdout",
     "output_type": "stream",
     "text": [
      " <references>\n",
      "1. Knox Suite is a bundled offering that includes the following Knox products: Knox Platform for Enterprise - A Knox solution that provides military-grade security to Samsung Android phones, tablets, and Tizen watches for business. \n",
      "2. Knox Mobile Enrollment - A Knox solution that allows you to enroll thousands of Samsung devices in your EMM at once.\n",
      "</references>\n",
      "\n",
      "<answer>\n",
      "Knox Suite is a bundled offering of Knox solutions from Samsung designed to help enterprises manage and secure their fleet of mobile devices. It includes various Knox products such as:\n",
      "\n",
      "- Knox Platform for Enterprise: Provides security for Samsung devices\n",
      "- Knox Mobile Enrollment: Allows enrollment of devices into EMM\n",
      "- Knox Manage: Enables device management \n",
      "- Knox E-FOTA: Allows remote OS updates\n",
      "- Knox Asset Intelligence: Provides analytics for devices\n",
      "- Knox Capture: Transforms devices into barcode scanners\n",
      "- Knox Authentication Manager: Provides multiuser authentication\n",
      "\n",
      "With a single Knox Suite license, enterprises can use all these services to address their needs around security, management, and maintenance of devices.\n",
      "</answer>"
     ]
    }
   ],
   "source": [
    "#query = \"How to insert image in knox?\"\n",
    "query = \"knox?\"\n",
    "response = qa(query)"
   ]
  },
  {
   "cell_type": "code",
   "execution_count": 364,
   "id": "01e77dad-dc19-416b-80e7-19fac3b736a5",
   "metadata": {
    "tags": []
   },
   "outputs": [
    {
     "name": "stdout",
     "output_type": "stream",
     "text": [
      "##################################\n",
      "query:  knox?\n",
      "##################################\n",
      "\u001b[34m\n",
      "\n",
      "### Answer ###\u001b[0m\n",
      " <references>\n",
      "1. Knox Suite is a bundled offering that includes the following Knox products: Knox Platform for\n",
      "Enterprise - A Knox solution that provides military-grade security to Samsung Android phones,\n",
      "tablets, and Tizen watches for business.\n",
      "2. Knox Mobile Enrollment - A Knox solution that allows you to enroll thousands of Samsung devices\n",
      "in your EMM at once.\n",
      "</references>\n",
      "\n",
      "<answer>\n",
      "Knox Suite is a bundled offering of Knox solutions from Samsung designed to help enterprises manage\n",
      "and secure their fleet of mobile devices. It includes various Knox products such as:\n",
      "\n",
      "- Knox Platform for Enterprise: Provides security for Samsung devices\n",
      "- Knox Mobile Enrollment: Allows enrollment of devices into EMM\n",
      "- Knox Manage: Enables device management\n",
      "- Knox E-FOTA: Allows remote OS updates\n",
      "- Knox Asset Intelligence: Provides analytics for devices\n",
      "- Knox Capture: Transforms devices into barcode scanners\n",
      "- Knox Authentication Manager: Provides multiuser authentication\n",
      "\n",
      "With a single Knox Suite license, enterprises can use all these services to address their needs\n",
      "around security, management, and maintenance of devices.\n",
      "</answer>\n",
      "\u001b[32m\n",
      "\n",
      "### Contexts ###\u001b[0m\n",
      "-----------------------------------------------\n",
      "1. Chunk: 674 Characters\n",
      "-----------------------------------------------\n",
      "What is Knox Suite?. Knox Suite is a bundled offering designed to help enterprise IT admins better\n",
      "manage your fleet of devices. It includes individual services such as Knox Platform for Enterprise,\n",
      "Knox Mobile Enrollment, Knox Manage, Knox E-FOTA, and Knox Asset Intelligence. Key features of Knox\n",
      "Suite include: Secure - Ensure your business data is protected with managed security features at\n",
      "your control. Deploy - Enroll corporate devices to EMM automatically and securely, right out of the\n",
      "box. Manage - Enable comprehensive management over corporate devices and OS versions. Analyze -\n",
      "Strengthen in-depth device analytics for mobile productivity and asset management.\n",
      "metadata:\n",
      " {'source': 'all_processed_data.json', 'seq_num': 74, 'title': ' What is Knox Suite?', 'url':\n",
      "'https://docs.samsungknox.com/admin/knox-suite/faq/#what-is-knox-suite', 'project': 'KS',\n",
      "'last_updated': '2023-07-26', 'family_tree': 'parent', 'parent_id': None}\n",
      "-----------------------------------------------\n",
      "2. Chunk: 3018 Characters\n",
      "-----------------------------------------------\n",
      "Knox Suite. Knox Suite is a bundled offering of Knox solutions for enterprise mobility designed to\n",
      "address organizations' needs related to security and management throughout the entire device\n",
      "lifecycle. Learn more about Knox Suite #Audience This document is intended for IT Admins. Understand\n",
      "what's included in Knox Suite and how you can use it to manage, secure, and maintain enterprise\n",
      "devices. Learn where to find information on how to perform various tasks with Knox\"Suite services.\n",
      "About Knox Suite Knox Suite is a bundled offering that includes the following Knox products: Knox\n",
      "Platform for Enterprise - A Knox solution that provides military-grade security to Samsung Android\n",
      "phones, tablets, and Tizen watches for business. Knox Mobile Enrollment - A Knox solution that\n",
      "allows you to enroll thousands of Samsung devices in your EMM at once. When used with a Knox Suite\n",
      "license, Knox Mobile Enrollment provides advanced profiles that offer IT admins additional features\n",
      "such as higher control over locking devices. Knox Manage - A Knox solution that allows you to\n",
      "remotely manage your fleet of mobile devices. With this EMM, you create various policies to control\n",
      "how users can use their devices. Knox Asset Intelligence - A data analytics solution that offers\n",
      "operational visibility and actionable insights to improve the management, productivity, and\n",
      "lifecycle of mobile devices. This solution offers real-time monitoring and management of app\n",
      "performance, battery usage, network connectivity, and asset location. Knox E-FOTA - A Knox solution\n",
      "that allows you to remotely deploy OS and security updates to your devices without requiring user\n",
      "interaction. With Knox E-FOTA, you create a campaign, specify the campaign period, assign devices to\n",
      "that campaign, and select the firmware update to be pushed to those devices during the campaign\n",
      "period. Knox Capture - An Android solution that lets users transform their Samsung Galaxy\n",
      "smartphones and tablets into powerful barcode scanners that can read, process, and output barcode\n",
      "information to other applications, all without requiring additional hardware or writing a single\n",
      "line of code. Knox Authentication Manager - A managed Android app for shared Samsung devices that\n",
      "provides multiuser facial biometrics and sign-in automation for increased frontline worker\n",
      "productivity and safety. With Knox Suite, a single license key allows you to use all included Knox\n",
      "products on your devices. This means that you can use the same Knox Suite license key in multiple\n",
      "Knox service admin portals. Benefits of Knox Suite 1. All-in-one Knox B2B package - An end-to-end\n",
      "solution that covers every step of your enterprise mobility journey 2. Simplified license management\n",
      "- You only need one license key to use all included products. 3. Streamlined onboarding process -\n",
      "Register once and gain access to all included Knox products. 4. Seamless IT admin user experience -\n",
      "IT admin can easily access bundled Knox consoles through single sign-on. To get started, click here.\n",
      "metadata:\n",
      " {'source': 'all_processed_data.json', 'seq_num': 65, 'title': 'Knox Suite', 'url':\n",
      "'https://docs.samsungknox.com/admin/knox-suite', 'project': 'KS', 'last_updated': '2023-07-26',\n",
      "'family_tree': 'parent', 'parent_id': None}\n",
      "-----------------------------------------------\n",
      "3. Chunk: 2041 Characters\n",
      "-----------------------------------------------\n",
      "Learn more about Knox Suite. This section describes where you can find instructions on how to\n",
      "perform tasks using the different products included in Knox Suite. General documentation for the\n",
      "Knox Suite services Knox Service , See - , - Knox Manage , Knox Manage Admin Guide Knox Platform for\n",
      "Enterprise , Knox Platform for Enterprise Admin Guide Knox Mobile Enrollment , Knox Mobile\n",
      "Enrollment Admin Guide Knox E-FOTA , Knox E-FOTA Admin Guide Knox Asset Intelligence , Knox Asset\n",
      "Intelligence Admin Guide Knox Capture , Knox Capture Admin Guide Knox Authentication Manager , Knox\n",
      "Authentication Manager Admin Guide Knox Suite operations For information on See Knox service How to\n",
      "set up Knox Manage with Knox Suite Workflow:\"Set up Knox Manage with a Knox Suite license Knox\n",
      "Manage How to check your Knox Suite license usage View and modify a license Note Alternatively, you\n",
      "can sign in to your SamsungKnox.com dashboard and click Licenses to view all licenses you have for\n",
      "all your Knox services. Knox Manage How to upgrade your license key from Knox Manage to Knox Suite\n",
      "Upgrade a license Knox\"Manage How to configure premium Knox features Prerequisite: Workflow:\"Set up\n",
      "Knox Manage with a Knox Suite license Samsung Knox running Android Enterprise Note Policies with a\n",
      "in the Knox Manage admin portal are Knox premium features. These features require a Knox\"Suite\n",
      "license key. Knox Manage How to approve the Knox Service Plugin (KSP) app Prerequisite:Set up\n",
      "Android Enterprise. Approve Knox Service Plugin (KSP). Knox Manage What's next? When you finish\n",
      "evaluating Knox Suite and decide to use it commercially, contact your Knox reseller to purchase a\n",
      "Knox\"Suite license. If you're in need of devices, consider purchasing Enterprise Edition devices if\n",
      "this program is supported in your country. These devices are packaged with a 1-year renewable\n",
      "Knox\"Suite license, among other benefits. Once you've purchased your Enterprise\"Edition devices, see\n",
      "the Enterprise Edition section for information on how to generate your Knox Suite license.\n",
      "metadata:\n",
      " {'source': 'all_processed_data.json', 'seq_num': 64, 'title': 'Learn more about Knox Suite', 'url':\n",
      "'https://docs.samsungknox.com/admin/knox-suite/learn-more-about-knox-suite', 'project': 'KS',\n",
      "'last_updated': '2023-07-26', 'family_tree': 'parent', 'parent_id': None}\n",
      "-----------------------------------------------\n",
      "4. Chunk: 1862 Characters\n",
      "-----------------------------------------------\n",
      "I am subscribed to an individual Knox cloud service. Can I switch or upgrade to Knox Suite?. Yes.\n",
      "You can upgrade or switch to Knox Suite while using an individual Knox cloud service. After you\n",
      "purchase a Knox Suite license from a Samsung Knox reseller, for Knox Manage and Knox E-FOTA you must\n",
      "update the license keys. Knox Manage users - Replace your existing Knox Manage license key with the\n",
      "new Knox Suite license that you purchased. Select Knox Suite from the Organization or User settings\n",
      "pages. For more information, see Convert a license in the Knox Manage documentation. Knox E-FOTA\n",
      "users - Replace your existing Knox E-FOTA license with the new Knox Suite license that you\n",
      "purchased. To replace the license, go to the unified License Management page on the Knox Admin\n",
      "Portal, enter the new Knox Suite license key you've purchased, select your existing Knox E-FOTA\n",
      "license key and then select Replace with a new Knox Suite license key. For more information, see\n",
      "Manage Knox licenses in the Knox Admin Portal documentation. Does Knox Suite record device location\n",
      "data? Yes. The location of managed devices can be tracked by services in the Knox Suite. Knox Manage\n",
      "and Knox Asset Intelligence help you locate devices and analyze their movement during the course of\n",
      "business. How securely does Samsung handle individual or business entity data acquired through Knox\n",
      "Suite services? Samsung is committed to safely handling customer information acquired from its\n",
      "business practices, and meets all data storage and handling requirements stipulated by the GDPR.\n",
      "Samsung ensures that data collection is restricted to only that which is necessary. Samsung cloud\n",
      "solutions are SOC2-certified, so you can rest assured of the smooth operation, security, and\n",
      "reliability of solutions in the Knox Suite. If you want to learn more, see GDPR and Samsung Knox\n",
      "solutions.\n",
      "metadata:\n",
      " {'source': 'all_processed_data.json', 'seq_num': 80, 'title': 'I am subscribed to an individual\n",
      "Knox cloud service. Can I switch or upgrade to Knox Suite?', 'url':\n",
      "'https://docs.samsungknox.com/admin/knox-suite/faq/#i-am-subscribed-individual-knox-cloud-service-\n",
      "can-i-switch-upgrade-knox-suite', 'project': 'KS', 'last_updated': '2023-07-26', 'family_tree':\n",
      "'parent', 'parent_id': None}\n"
     ]
    }
   ],
   "source": [
    "print(\"##################################\")\n",
    "print(\"query: \", query)\n",
    "print(\"##################################\")\n",
    "\n",
    "print (colored(\"\\n\\n### Answer ###\", \"blue\"))\n",
    "print_ww(response['result'])\n",
    "\n",
    "print (colored(\"\\n\\n### Contexts ###\", \"green\"))\n",
    "show_context_used(response['source_documents'])"
   ]
  },
  {
   "cell_type": "code",
   "execution_count": null,
   "id": "f9840743-37e7-4592-9b59-0503c2f61794",
   "metadata": {},
   "outputs": [],
   "source": []
  },
  {
   "cell_type": "code",
   "execution_count": null,
   "id": "6aa715a3-60dc-484b-bfda-8d72d631ee68",
   "metadata": {},
   "outputs": [],
   "source": []
  }
 ],
 "metadata": {
  "kernelspec": {
   "display_name": "conda_python3",
   "language": "python",
   "name": "conda_python3"
  },
  "language_info": {
   "codemirror_mode": {
    "name": "ipython",
    "version": 3
   },
   "file_extension": ".py",
   "mimetype": "text/x-python",
   "name": "python",
   "nbconvert_exporter": "python",
   "pygments_lexer": "ipython3",
   "version": "3.10.12"
  }
 },
 "nbformat": 4,
 "nbformat_minor": 5
}
