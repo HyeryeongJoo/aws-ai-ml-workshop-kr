{
 "cells": [
  {
   "cell_type": "markdown",
   "id": "5deb2df2-413d-49bd-a829-3a1fc344937e",
   "metadata": {},
   "source": [
    "# RAG Based on parent document\n",
    "- Hybrid Search\n",
    "- ReRanker\n",
    "- [Parent Document](https://medium.aiplanet.com/advanced-rag-providing-broader-context-to-llms-using-parentdocumentretriever-cc627762305a)\n",
    "    "
   ]
  },
  {
   "cell_type": "markdown",
   "id": "697401ba",
   "metadata": {},
   "source": []
  },
  {
   "cell_type": "markdown",
   "id": "b1f81abc-3277-4a6b-9ef1-d4f997d67fbe",
   "metadata": {},
   "source": [
    "## Setting\n",
    " - Auto Reload\n",
    " - path for utils"
   ]
  },
  {
   "cell_type": "code",
   "execution_count": 298,
   "id": "ddde4105-b759-4d6c-8214-8e1ab485ae48",
   "metadata": {
    "tags": []
   },
   "outputs": [
    {
     "name": "stdout",
     "output_type": "stream",
     "text": [
      "The autoreload extension is already loaded. To reload it, use:\n",
      "  %reload_ext autoreload\n"
     ]
    }
   ],
   "source": [
    "%load_ext autoreload\n",
    "%autoreload 2"
   ]
  },
  {
   "cell_type": "code",
   "execution_count": 299,
   "id": "57c2cdb1-d785-4317-afce-938f13141085",
   "metadata": {
    "tags": []
   },
   "outputs": [],
   "source": [
    "import sys, os\n",
    "module_path = \"../../..\"\n",
    "sys.path.append(os.path.abspath(module_path))"
   ]
  },
  {
   "cell_type": "markdown",
   "id": "9c4ade56-8dbc-4ded-b355-7e4bcc971e90",
   "metadata": {},
   "source": [
    "## 1. Bedrock Client 생성"
   ]
  },
  {
   "cell_type": "code",
   "execution_count": 300,
   "id": "cc2d877f-e877-48f6-8dd4-239de20e45cd",
   "metadata": {
    "tags": []
   },
   "outputs": [],
   "source": [
    "import json\n",
    "import boto3\n",
    "from pprint import pprint\n",
    "from termcolor import colored\n",
    "from utils import bedrock, print_ww\n",
    "from utils.bedrock import bedrock_info"
   ]
  },
  {
   "cell_type": "markdown",
   "id": "088e6490-c79a-49e4-841c-9fdb91292608",
   "metadata": {},
   "source": [
    "### ---- ⚠️ Un-comment and edit the below lines as needed for your AWS setup ⚠️ ----\n",
    "- os.environ[\"AWS_DEFAULT_REGION\"] = \"<REGION_NAME>\"  # E.g. \"us-east-1\"\n",
    "- os.environ[\"AWS_PROFILE\"] = \"<YOUR_PROFILE>\"\n",
    "- os.environ[\"BEDROCK_ASSUME_ROLE\"] = \"<YOUR_ROLE_ARN>\"  # E.g. \"arn:aws:...\"\n",
    "- os.environ[\"BEDROCK_ENDPOINT_URL\"] = \"<YOUR_ENDPOINT_URL>\"  # E.g. \"https://...\""
   ]
  },
  {
   "cell_type": "code",
   "execution_count": 301,
   "id": "cab9312c-5f61-4730-96c3-5eef54a5f08c",
   "metadata": {
    "tags": []
   },
   "outputs": [
    {
     "name": "stdout",
     "output_type": "stream",
     "text": [
      "Create new client\n",
      "  Using region: None\n",
      "  Using profile: None\n",
      "boto3 Bedrock client successfully created!\n",
      "bedrock-runtime(https://bedrock-runtime.us-east-1.amazonaws.com)\n",
      "\u001b[32m\n",
      "== FM lists ==\u001b[0m\n",
      "{'Claude-Instant-V1': 'anthropic.claude-instant-v1',\n",
      " 'Claude-V1': 'anthropic.claude-v1',\n",
      " 'Claude-V2': 'anthropic.claude-v2',\n",
      " 'Claude-V2-1': 'anthropic.claude-v2:1',\n",
      " 'Cohere-Embeddings-En': 'cohere.embed-english-v3',\n",
      " 'Cohere-Embeddings-Multilingual': 'cohere.embed-multilingual-v3',\n",
      " 'Command': 'cohere.command-text-v14',\n",
      " 'Command-Light': 'cohere.command-light-text-v14',\n",
      " 'Jurassic-2-Mid': 'ai21.j2-mid-v1',\n",
      " 'Jurassic-2-Ultra': 'ai21.j2-ultra-v1',\n",
      " 'Llama2-13b-Chat': 'meta.llama2-13b-chat-v1',\n",
      " 'Titan-Embeddings-G1': 'amazon.titan-embed-text-v1',\n",
      " 'Titan-Text-G1': 'amazon.titan-text-express-v1',\n",
      " 'Titan-Text-G1-Light': 'amazon.titan-text-lite-v1'}\n"
     ]
    }
   ],
   "source": [
    "boto3_bedrock = bedrock.get_bedrock_client(\n",
    "    assumed_role=os.environ.get(\"BEDROCK_ASSUME_ROLE\", None),\n",
    "    endpoint_url=os.environ.get(\"BEDROCK_ENDPOINT_URL\", None),\n",
    "    region=os.environ.get(\"AWS_DEFAULT_REGION\", None),\n",
    ")\n",
    "\n",
    "aws_region = os.environ.get(\"AWS_DEFAULT_REGION\", None)\n",
    "print (colored(\"\\n== FM lists ==\", \"green\"))\n",
    "pprint (bedrock_info.get_list_fm_models(verbose=False))"
   ]
  },
  {
   "cell_type": "markdown",
   "id": "241a9e34-417a-422f-9f75-cb211b2e70e1",
   "metadata": {
    "tags": []
   },
   "source": [
    "## 2. Titan Embedding 및 LLM 인 Claude-v2 모델 로딩"
   ]
  },
  {
   "cell_type": "markdown",
   "id": "29bf63d2-4110-407c-af06-a45d2fbed4b5",
   "metadata": {},
   "source": [
    "### LLM 로딩 (Claude-v2)"
   ]
  },
  {
   "cell_type": "code",
   "execution_count": 302,
   "id": "9c51443a-04f9-465c-9564-53053eb3e1c2",
   "metadata": {
    "tags": []
   },
   "outputs": [],
   "source": [
    "from langchain.llms.bedrock import Bedrock\n",
    "from langchain.callbacks.streaming_stdout import StreamingStdOutCallbackHandler"
   ]
  },
  {
   "cell_type": "code",
   "execution_count": 303,
   "id": "d09e84e0-b9e1-4b12-8e7a-68f03c5416e5",
   "metadata": {
    "tags": []
   },
   "outputs": [
    {
     "data": {
      "text/plain": [
       "Bedrock(client=<botocore.client.BedrockRuntime object at 0x7fc6836a8490>, model_id='anthropic.claude-v2:1', model_kwargs={'max_tokens_to_sample': 4000, 'temperature': 0.1, 'top_k': 3, 'top_p': 0.1, 'stop_sequences': ['\\n\\nHuman:']}, streaming=True, callbacks=[<langchain_core.callbacks.streaming_stdout.StreamingStdOutCallbackHandler object at 0x7fc68366d300>])"
      ]
     },
     "execution_count": 303,
     "metadata": {},
     "output_type": "execute_result"
    }
   ],
   "source": [
    "llm_text = Bedrock(\n",
    "    model_id=bedrock_info.get_model_id(model_name=\"Claude-V2-1\"),\n",
    "    client=boto3_bedrock,\n",
    "    model_kwargs={\n",
    "        \"max_tokens_to_sample\": 4000,\n",
    "        \"temperature\": 0.1,\n",
    "        \"top_k\": 3,\n",
    "        \"top_p\": 0.1,\n",
    "        \"stop_sequences\": [\"\\n\\nHuman:\"]\n",
    "    },\n",
    "    streaming=True,\n",
    "    callbacks=[StreamingStdOutCallbackHandler()]\n",
    ")\n",
    "llm_text"
   ]
  },
  {
   "cell_type": "markdown",
   "id": "3ba2e829-af8f-4e90-b994-59106cdec8d8",
   "metadata": {},
   "source": [
    "### Embedding 모델 선택"
   ]
  },
  {
   "cell_type": "code",
   "execution_count": 304,
   "id": "0b7b8752-d1e3-4f41-ba35-6da42c3785db",
   "metadata": {
    "tags": []
   },
   "outputs": [],
   "source": [
    "from utils.rag import KoSimCSERobertaContentHandler, SagemakerEndpointEmbeddingsJumpStart"
   ]
  },
  {
   "cell_type": "code",
   "execution_count": 305,
   "id": "793b03f7-3186-4969-b76a-98fe56bd5fdc",
   "metadata": {
    "tags": []
   },
   "outputs": [],
   "source": [
    "def get_embedding_model(is_bedrock_embeddings, is_KoSimCSERobert, aws_region, endpont_name=None):\n",
    "    \n",
    "    if is_bedrock_embeddings:\n",
    "        # We will be using the Titan Embeddings Model to generate our Embeddings.\n",
    "        from langchain.embeddings import BedrockEmbeddings\n",
    "        llm_emb = BedrockEmbeddings(\n",
    "            client=boto3_bedrock,\n",
    "            model_id=bedrock_info.get_model_id(\n",
    "                model_name=\"Titan-Embeddings-G1\"\n",
    "            )\n",
    "        )\n",
    "        print(\"Bedrock Embeddings Model Loaded\")\n",
    "\n",
    "    elif is_KoSimCSERobert:\n",
    "        LLMEmbHandler = KoSimCSERobertaContentHandler()\n",
    "        endpoint_name_emb = endpont_name\n",
    "        llm_emb = SagemakerEndpointEmbeddingsJumpStart(\n",
    "            endpoint_name=endpoint_name_emb,\n",
    "            region_name=aws_region,\n",
    "            content_handler=LLMEmbHandler,\n",
    "        )\n",
    "        print(\"KoSimCSERobert Embeddings Model Loaded\")\n",
    "    else:\n",
    "        llm_emb = None\n",
    "        print(\"No Embedding Model Selected\")\n",
    "\n",
    "    return llm_emb"
   ]
  },
  {
   "cell_type": "markdown",
   "id": "cd72a6b8-eaf0-4036-a530-3bde5ba988cd",
   "metadata": {},
   "source": [
    "#### [중요] is_KoSimCSERobert == True 일시에 endpoint_name 을 꼭 넣어 주세요."
   ]
  },
  {
   "cell_type": "code",
   "execution_count": 306,
   "id": "f42e032b-8715-432c-ae71-12a889f8ffc0",
   "metadata": {
    "tags": []
   },
   "outputs": [
    {
     "name": "stdout",
     "output_type": "stream",
     "text": [
      "Bedrock Embeddings Model Loaded\n"
     ]
    }
   ],
   "source": [
    "is_bedrock_embeddings = True\n",
    "is_KoSimCSERobert = False\n",
    "aws_region = os.environ.get(\"AWS_DEFAULT_REGION\", None)\n",
    "\n",
    "##############################\n",
    "# Parameters for is_KoSimCSERobert\n",
    "##############################\n",
    "if is_KoSimCSERobert: endpont_name = \"<endpoint-name>\"\n",
    "else: endpont_name = None\n",
    "##############################\n",
    "\n",
    "llm_emb = get_embedding_model(is_bedrock_embeddings, is_KoSimCSERobert, aws_region, endpont_name)   "
   ]
  },
  {
   "cell_type": "markdown",
   "id": "e10b67d5-382e-4715-a841-eb07b8655da8",
   "metadata": {},
   "source": [
    "## 3. Depoly ReRanker model (if needed)"
   ]
  },
  {
   "cell_type": "code",
   "execution_count": 307,
   "id": "9a08a296-41ef-44cb-857b-63d05a8d187c",
   "metadata": {
    "tags": []
   },
   "outputs": [],
   "source": [
    "import json\n",
    "import sagemaker\n",
    "from sagemaker.huggingface import HuggingFaceModel"
   ]
  },
  {
   "cell_type": "code",
   "execution_count": 308,
   "id": "33dd04a7-8200-49e7-ae69-55a82be199b4",
   "metadata": {
    "tags": []
   },
   "outputs": [],
   "source": [
    "depoly = False"
   ]
  },
  {
   "cell_type": "code",
   "execution_count": 309,
   "id": "9d40e3dd-a19f-4af3-831a-0cfe79e72cb3",
   "metadata": {
    "tags": []
   },
   "outputs": [],
   "source": [
    "if depoly:\n",
    "\n",
    "    try:\n",
    "        role = sagemaker.get_execution_role()\n",
    "    except ValueError:\n",
    "        iam = boto3.client('iam')\n",
    "        role = iam.get_role(RoleName='sagemaker_execution_role')['Role']['Arn']\n",
    "\n",
    "    # Hub Model configuration. https://huggingface.co/models\n",
    "    hub = {\n",
    "        'HF_MODEL_ID':'BAAI/bge-reranker-large',\n",
    "        'HF_TASK':'text-classification'\n",
    "    }\n",
    "\n",
    "    # create Hugging Face Model Class\n",
    "    huggingface_model = HuggingFaceModel(\n",
    "        transformers_version='4.26.0',\n",
    "        pytorch_version='1.13.1',\n",
    "        py_version='py39',\n",
    "        env=hub,\n",
    "        role=role, \n",
    "    )\n",
    "\n",
    "    # deploy model to SageMaker Inference\n",
    "    predictor = huggingface_model.deploy(\n",
    "        initial_instance_count=1, # number of instances\n",
    "        instance_type='ml.g5.xlarge' # instance type\n",
    "    )\n",
    "\n",
    "    print(f'Accept: {predictor.accept}')\n",
    "    print(f'ContentType: {predictor.content_type}')\n",
    "    print(f'Endpoint: {predictor.endpoint}')"
   ]
  },
  {
   "cell_type": "markdown",
   "id": "20e648ef-01ec-4e2f-ba88-7d2510fdb7a6",
   "metadata": {},
   "source": [
    "## 4. Invocation (prediction)"
   ]
  },
  {
   "cell_type": "code",
   "execution_count": 310,
   "id": "114be617-a687-4733-abb9-30394c7ef35f",
   "metadata": {
    "tags": []
   },
   "outputs": [
    {
     "name": "stdout",
     "output_type": "stream",
     "text": [
      "runtime_client: <botocore.client.SageMakerRuntime object at 0x7fc68d5e7790>\n"
     ]
    }
   ],
   "source": [
    "runtime_client = boto3.Session().client('sagemaker-runtime')\n",
    "print (f'runtime_client: {runtime_client}')"
   ]
  },
  {
   "cell_type": "code",
   "execution_count": 311,
   "id": "26ee5c45-de87-4a2b-bc04-bbc649fcd0c6",
   "metadata": {
    "tags": []
   },
   "outputs": [],
   "source": [
    "#endpoint_name = \"huggingface-pytorch-inference-2023-11-15-04-37-45-120\" # ml.m5.2xlarge\n",
    "endpoint_name = \"huggingface-pytorch-inference-2023-11-15-07-53-21-605\" # ml.g5.xlarge\n",
    "deserializer = \"application/json\""
   ]
  },
  {
   "cell_type": "code",
   "execution_count": 312,
   "id": "bd6288ed-b4fa-466f-9e2b-57484b827b0a",
   "metadata": {
    "tags": []
   },
   "outputs": [],
   "source": [
    "payload = json.dumps(\n",
    "    {\n",
    "        \"inputs\": [\n",
    "            {\"text\": \"I hate you\", \"text_pair\": \"I don't like you\"},\n",
    "            {\"text\": \"He hates you\", \"text_pair\": \"He like you\"}\n",
    "        ]\n",
    "    }\n",
    ")"
   ]
  },
  {
   "cell_type": "code",
   "execution_count": 313,
   "id": "124fd3f0-2b81-4b2b-af97-2f22b101f25d",
   "metadata": {
    "tags": []
   },
   "outputs": [],
   "source": [
    "payload = json.dumps(\n",
    "    {\n",
    "        \"inputs\": [\n",
    "            {\"text\": \"나는 너를 사랑하지 않아\", \"text_pair\": \"나는 너를 좋아하지 않아\"},\n",
    "            {\"text\": \"그는 너를 싫어해\", \"text_pair\": \"그는 너를 좋아해\"}\n",
    "        ]\n",
    "    }\n",
    ")"
   ]
  },
  {
   "cell_type": "code",
   "execution_count": 314,
   "id": "bb3b08af-e4c8-4500-837e-bf1aeefd60e9",
   "metadata": {
    "tags": []
   },
   "outputs": [],
   "source": [
    "payload = json.dumps(\n",
    "    {\n",
    "        \"inputs\": [\n",
    "            {\"text\": \"리버럴 아츠란 무엇인가?\", \"text_pair\": \"인문학. 1. 전문 또는 기술 과목이 아닌 예술, 인문학, 자연 과학 및 사회 과학을 포함하는 일반 지식을 제공하기 위한 대학의 학업 교육 과정.\"},\n",
    "            {\"text\": \"리버럴 아츠란 무엇인가?\", \"text_pair\": \"자유주의 교육: 개인의 역량을 강화하고 복잡성, 다양성 및 변화에 대처할 수 있도록 준비시키는 대학 학습 접근 방식.이 접근법은 광범위한 세계 (예: 과학, 문화, 사회) 에 대한 폭넓은 지식과 특정 관심 분야에서의 심층적인 성취를 강조합니다.\"}\n",
    "        ]\n",
    "    }\n",
    ")"
   ]
  },
  {
   "cell_type": "code",
   "execution_count": 315,
   "id": "c1eebe88-8b92-4e81-a103-b5a5d7a91bb3",
   "metadata": {
    "tags": []
   },
   "outputs": [
    {
     "name": "stdout",
     "output_type": "stream",
     "text": [
      "Response: [{'label': 'LABEL_0', 'score': 0.00045185565249994397}, {'label': 'LABEL_0', 'score': 9.195056190947071e-05}]\n",
      "CPU times: user 27.9 ms, sys: 0 ns, total: 27.9 ms\n",
      "Wall time: 105 ms\n"
     ]
    }
   ],
   "source": [
    "%%time\n",
    "response = runtime_client.invoke_endpoint(\n",
    "    EndpointName=endpoint_name,\n",
    "    ContentType=\"application/json\",\n",
    "    Accept=deserializer,\n",
    "    Body=payload\n",
    ")\n",
    "## deserialization\n",
    "out = json.loads(response['Body'].read().decode()) ## for json\n",
    "print (f'Response: {out}')"
   ]
  },
  {
   "cell_type": "markdown",
   "id": "7e432237-b9b5-4be3-aa0c-c30eeca6f480",
   "metadata": {},
   "source": [
    "## 5. LangChain OpenSearch VectorStore 정의\n",
    "### 선수 조건\n",
    "- 01_preprocess_docs/02_load_docs_opensearch.ipynb를 통해서 OpenSearch Index 가 생성이 되어 있어야 합니다.\n",
    "#### [중요] 아래에 aws parameter store 에 아래 인증정보가 먼저 입력되어 있어야 합니다.\n",
    "- 01_preprocess_docs/01_parameter_store_example.ipynb 참고"
   ]
  },
  {
   "cell_type": "code",
   "execution_count": 316,
   "id": "635ffe33-b1b1-49f7-ae14-07b782d30a63",
   "metadata": {
    "tags": []
   },
   "outputs": [],
   "source": [
    "from utils.proc_docs import get_parameter"
   ]
  },
  {
   "cell_type": "code",
   "execution_count": 317,
   "id": "42d192b6-68ce-465e-9fa7-04b5201f4453",
   "metadata": {
    "tags": []
   },
   "outputs": [],
   "source": [
    "ssm = boto3.client(\"ssm\", \"us-east-1\")\n",
    "\n",
    "opensearch_domain_endpoint = get_parameter(\n",
    "    boto3_clinet = ssm,\n",
    "    parameter_name = 'knox_opensearch_domain_endpoint',\n",
    ")\n",
    "\n",
    "opensearch_user_id = get_parameter(\n",
    "    boto3_clinet = ssm,\n",
    "    parameter_name = 'knox_opensearch_userid',\n",
    ")\n",
    "\n",
    "opensearch_user_password = get_parameter(\n",
    "    boto3_clinet = ssm,\n",
    "    parameter_name = 'knox_opensearch_password',\n",
    ")"
   ]
  },
  {
   "cell_type": "code",
   "execution_count": 318,
   "id": "fc7866fd-fd9c-4b41-b600-a91e43edfe4d",
   "metadata": {
    "tags": []
   },
   "outputs": [],
   "source": [
    "opensearch_domain_endpoint = opensearch_domain_endpoint\n",
    "rag_user_name = opensearch_user_id\n",
    "rag_user_password = opensearch_user_password\n",
    "\n",
    "http_auth = (rag_user_name, rag_user_password) # Master username, Master password"
   ]
  },
  {
   "cell_type": "markdown",
   "id": "161a900e-effc-4d7f-a179-b6c00eac03ad",
   "metadata": {
    "tags": []
   },
   "source": [
    "### Index 이름 셋팅\n",
    "- 이전 노트북 01_preprocess_docs/02_load_docs_opensearch.ipynb를 통해서 생성된 OpenSearch Index name 입력\n",
    "- parent document 용으로 생성된 index 사용할 것 "
   ]
  },
  {
   "cell_type": "code",
   "execution_count": 319,
   "id": "d5d9b5eb-052e-4e84-846b-c5385e853ba4",
   "metadata": {
    "tags": []
   },
   "outputs": [],
   "source": [
    "#index_name = \"v16-genai-poc-knox-eval-parent-doc-retriever\"\n",
    "index_name = \"v15-genai-poc-knox-parent-doc-retriever\"\n",
    "#index_name = \"v18-genai-poc-knox-kor-parent-doc-retriever\""
   ]
  },
  {
   "cell_type": "markdown",
   "id": "482f5785-b88d-44fa-a603-080e4bd734a6",
   "metadata": {},
   "source": [
    "### OpenSearch Client 생성"
   ]
  },
  {
   "cell_type": "code",
   "execution_count": 320,
   "id": "968b7502-5799-4702-bc17-959e88c330a2",
   "metadata": {
    "tags": []
   },
   "outputs": [],
   "source": [
    "from utils.opensearch import opensearch_utils"
   ]
  },
  {
   "cell_type": "code",
   "execution_count": 321,
   "id": "6ceb46a1-e425-4f7e-9319-793b55abb938",
   "metadata": {
    "tags": []
   },
   "outputs": [],
   "source": [
    "os_client = opensearch_utils.create_aws_opensearch_client(\n",
    "    aws_region,\n",
    "    opensearch_domain_endpoint,\n",
    "    http_auth\n",
    ")"
   ]
  },
  {
   "cell_type": "markdown",
   "id": "b41d685c-7590-42fd-9f8f-339b2ff197f5",
   "metadata": {},
   "source": [
    "# 아래수정"
   ]
  },
  {
   "cell_type": "markdown",
   "id": "a5084376-7523-4cf9-9123-adc4ae79f66d",
   "metadata": {
    "tags": []
   },
   "source": [
    "## 6. Retriever based on Hybrid Search + ParentDocument + ReRanker\n",
    "- LangChain에서 제공하는 **BaseRetriever** 클래스를 상속받아 **Custom Retriever**를 정의 할 수 있습니다.\n",
    "- Hybrid-Search에 대한 자세한 내용는 **\"01_rag_hybrid_search.ipyno\"** 에서 확인 가능합니다.\n",
    "- [Parent Document](https://towardsdatascience.com/forget-rag-the-future-is-rag-fusion-1147298d8ad1)\n",
    "![parent-document.png](../../../imgs/parent-document.png)"
   ]
  },
  {
   "cell_type": "markdown",
   "id": "29cf3877-ed50-4ca6-b319-fca654f011cc",
   "metadata": {
    "tags": []
   },
   "source": [
    "## Parent documents in Hybrid search\n",
    "- Lexical search: parent documents only\n",
    "- Semantic search: child documents first, getting parent documents corresponding to that child document"
   ]
  },
  {
   "cell_type": "code",
   "execution_count": 322,
   "id": "5db8e470-63a9-4c3d-94c8-1d270a6da822",
   "metadata": {
    "tags": []
   },
   "outputs": [],
   "source": [
    "from utils.rag import OpenSearchHybridSearchRetriever"
   ]
  },
  {
   "cell_type": "markdown",
   "id": "d7feac2f-21a2-4756-b989-66c180bb1e79",
   "metadata": {},
   "source": [
    "- 필터 설정 예시\n",
    "- filter=[ <BR>\n",
    "    　{\"term\": {\"metadata.[**your_metadata_attribute_name**]\": \"**your first keyword**\"}}, <BR>\n",
    "    　{\"term\": {\"metadata.[**your_metadata_attribute_name**]\": \"**your second keyword**\"}},<BR>\n",
    "]"
   ]
  },
  {
   "cell_type": "code",
   "execution_count": 323,
   "id": "49c7e131-294f-4ff8-9331-989709c7079c",
   "metadata": {
    "tags": []
   },
   "outputs": [],
   "source": [
    "opensearch_hybrid_retriever = OpenSearchHybridSearchRetriever(\n",
    "    os_client=os_client,\n",
    "    index_name=index_name,\n",
    "    llm_text=llm_text, # llm for query augmentation in both rag_fusion and HyDE\n",
    "    llm_emb=llm_emb, # Used in semantic search based on opensearch \n",
    "\n",
    "    # option for lexical\n",
    "    minimum_should_match=0,\n",
    "    filter=[],\n",
    "\n",
    "    # option for search\n",
    "    fusion_algorithm=\"RRF\", # [\"RRF\", \"simple_weighted\"], rank fusion 방식 정의\n",
    "    ensemble_weights=[.5, .5], # [for lexical, for semantic], Lexical, Semantic search 결과에 대한 최종 반영 비율 정의\n",
    "    reranker=True, # enable reranker with reranker model\n",
    "    reranker_endpoint_name=endpoint_name, # endpoint name for reranking model\n",
    "    parent_document = True, # enable parent document\n",
    "\n",
    "    # option for async search\n",
    "    async_mode=True,\n",
    "\n",
    "    # option for output\n",
    "    k=5, # 최종 Document 수 정의\n",
    "    verbose=True,\n",
    ")"
   ]
  },
  {
   "cell_type": "markdown",
   "id": "cfb26835-ad98-41c5-9e9d-2453642e3551",
   "metadata": {},
   "source": [
    "### Retrieval example\n",
    "- default search"
   ]
  },
  {
   "cell_type": "code",
   "execution_count": 324,
   "id": "9c06e89f-79de-413c-ba9c-a188ca3fe2d0",
   "metadata": {
    "tags": []
   },
   "outputs": [],
   "source": [
    "from utils.rag import show_context_used"
   ]
  },
  {
   "cell_type": "code",
   "execution_count": 325,
   "id": "fe3bfee3-dac1-45b9-8795-03e36c1632a9",
   "metadata": {
    "tags": []
   },
   "outputs": [],
   "source": [
    "query = \"what is verify DM\""
   ]
  },
  {
   "cell_type": "code",
   "execution_count": 326,
   "id": "05b13e5e-4a66-4dc8-b18c-42a6e3bd6037",
   "metadata": {
    "tags": []
   },
   "outputs": [
    {
     "name": "stdout",
     "output_type": "stream",
     "text": [
      "===== ParentDocument =====\n",
      "filter: [{'term': {'metadata.family_tree': 'child'}}]\n",
      "# child_docs: 5\n",
      "# parent docs: 5\n",
      "# duplicates: 0\n",
      "##############################\n",
      "async_mode\n",
      "##############################\n",
      "True\n",
      "##############################\n",
      "reranker\n",
      "##############################\n",
      "True\n",
      "##############################\n",
      "rag_fusion\n",
      "##############################\n",
      "False\n",
      "##############################\n",
      "HyDE\n",
      "##############################\n",
      "False\n",
      "##############################\n",
      "parent_document\n",
      "##############################\n",
      "True\n",
      "##############################\n",
      "similar_docs_semantic\n",
      "##############################\n",
      "[(Document(page_content='. The Admin package signature checksum is the Base64 encoded SHA-256 hash of the MDM APK signature, which is URL friendly. You can get this value from your MDM. Go here for information on the `EXTRA_PROVISIONING_DEVICE_ADMIN_SIGNATURE_CHECKSUM`. Alternatively, you can use utilities such as keytool on Linux to get this value. For additional information, go here.', metadata={'source': 'all_processed_data.json', 'seq_num': 559, 'title': 'What is the valid input for Signing Key?', 'url': 'https://docs.samsungknox.com/admin/knox-mobile-enrollment/on-premise/kbas/kba-3-valid-input-signing-key', 'project': 'KME', 'last_updated': '2023-07-26', 'family_tree': 'child', 'parent_id': '60aa87de-5e5b-4c35-87bd-6555ce9570e6', 'id': 'ec8db887-832d-4f53-aa09-c8ad6b7b348c'}), 1.0), (Document(page_content='. The Admin component name is expressed as _package name/class name_. For example, com.airwatch.androidagent/com.airwatch.agent.DeviceAdministratorReceiver for the Workspace ONE UEM. The Admin package signature checksum is the Base64 encoded SHA-256 hash of the MDM APK signature, which is URL friendly. You can get this value from your MDM. Go here for information on the EXTRA_PROVISIONING_DEVICE_ADMIN_SIGNATURE_CHECKSUM. Alternatively, you can use utilities such as _Keytool_ on Linux to get this value. Go here\" for additional information. The MDM app name is the name of the app displayed on the Managed Provisioning screen. The App icon is the icon displayed next to the MDM app name. The minimum size is 48 x 48 pixels, and the file format needs to be a PNG file. To use this information to create an enrollment profile, see Android Enterprise profiles. What\\'s new pop-up messaging This release introduces a pop-message with new descriptive text of the new features introduced with the KCS 1.34 release', metadata={'source': 'all_processed_data.json', 'seq_num': 503, 'title': 'Knox Mobile Enrollment 1.34 release notes', 'url': 'https://docs.samsungknox.com/admin/knox-mobile-enrollment/release-notes/20-09', 'project': 'KME', 'last_updated': '2023-07-26', 'family_tree': 'child', 'parent_id': '4de58c08-25ee-4b19-9399-77f89f9a2953', 'id': 'e530ecd8-7b22-48f3-8342-92ff3dd35f9d'}), 0.9929978977785126), (Document(page_content='. Policy Description Supported system Play Integrity (SafetyNet Attestation) Allows checks to validate the integrity of the device. The Play Integrity API replaces the SafetyNet Attestation API, which is being deprecated in June 2024. The Play Integrity API improves the detection of device-side accounts as well as Google Play app and user accounts. We recommend that you upgrade to the latest Knox Manage agent and migrate to the Play Integrity API. For more information, see Migrating from the SafetyNet Attestation API in the Android Developer documentation. Android 6 and higher &gt; Verification Interval (days) Set an interval at which to assess the devices. &gt; Verification Failure Policy (During Enrollment) Select a measure. Admin Alert &mdash; Sends an alert to the administrator. Unenrollment (Factory Reset) (for DO only)&mdash;Unenrolls the device and performs a factory reset. Unenrollment (for PO only)&mdash;Unenrolls the device. &gt; Verification Failure Policy (After Enrollment) Select a measure', metadata={'source': 'all_processed_data.json', 'seq_num': 911, 'title': 'Android Enterprise policies', 'url': 'https://docs.samsungknox.com/admin/knox-manage/configure/profile/configure-profile-policies/android-enterprise-policies', 'project': 'KM', 'last_updated': '2023-09-06', 'family_tree': 'child', 'parent_id': 'a1250780-aeac-4365-afe5-9ca6f41834cd', 'id': 'dba80154-d0a2-4e0f-9670-2c676ba91a4b'}), 0.9854943377850519), (Document(page_content='. Activate S/MIME Check to activate and configure S/MIME functions for email security. &gt; S/MIME signing certificate input method Select EMM Management Certificate or Connector interworking. EMM Management Certificate &mdash; Register an external certificate on the Knox Manage server for each network setting, and then verify each network setting using that certificate. All users share this one certificate for each network setting. Note Navigate to Advanced &gt; Certificate &gt; External Certificate to register network settings for each purpose. When you search for a user using the filter set for the connector, the user certificate (P12 or PFX) corresponding to the obtained user information is applied along with a profile, allowing you to use this certificate to verify the user. Connector interworking &mdash; Verifies network settings using the user information obtained by applying the filter set for the connector', metadata={'source': 'all_processed_data.json', 'seq_num': 916, 'title': 'iOS policies', 'url': 'https://docs.samsungknox.com/admin/knox-manage/configure/profile/configure-profile-policies/ios-policies', 'project': 'KM', 'last_updated': '2023-07-26', 'family_tree': 'child', 'parent_id': '68bf0c89-2058-4def-840b-a1691a12a986', 'id': 'e386b890-e196-4ba1-9334-1c34eee7d2b9'}), 0.9823185852985971), (Document(page_content='to activate Agent User Enrollment MDM (Device &#x2192; Server) Agent Request for check-in (Server &#x2192; Device) Agent Response for check-out (Server &#x2192; Device) Agent Request to activate MDM (Server &#x2192; Device) Agent Request for MDM profile (Server &#x2192; Device) Agent Request for SCEP profile (Server &#x2192; Device) Agent Request for token update (Server &#x2192; Device) Request to activate Agent User Enrollment MDM (Server &#x2192; Device) Confirm Enrollment (Knox) (Device &#x2192; Server) Confirm Enrollment (Knox) (Server &#x2192; Device) Generate OTP (One Time Password) Code EMM Enrollment (Device &#x2192; Server) EMM Enrollment (Server &#x2192; Device) EMM Enrollment Spec (Device &#x2192; Server) EMM Enrollment Spec (Server &#x2192; Device) Azure AD Device Sync Request Request for discovery URL (Device &#x2192; Server) Respond to the request for Discovery URL (Server &#x2192; Device) Respond to the request to set DM Client Request to verify Federated equipment (Device &#x2192;', metadata={'source': 'all_processed_data.json', 'seq_num': 781, 'title': 'Server audit events', 'url': 'https://docs.samsungknox.com/admin/knox-manage/appendix/list-of-audit-events/server-audit-events', 'project': 'KM', 'last_updated': '2023-07-26', 'family_tree': 'child', 'parent_id': '66455f42-d323-4265-af82-362139bed990', 'id': 'a424a205-ec93-4bf8-a822-18703d4b3e4e'}), 0.973594753204905), (Document(page_content='. Connector interworking &mdash; Verifies network settings using the user information obtained by applying the filter set for the connector. To verify the network settings on the device, you should set the Service Type as Profile Configuration(Certification) when you register a connector in Advanced &gt; System Integration &gt; Directory Connector. To learn more about how to add a directory connector, see Adding sync services. &gt; S/MIME Signing Certificate Available only when EMM Management Certificate is selected. Choose the signing certificate according to the S/MIME signing certificate input method. &gt; S/MIME signing certificate Connector Available only when Connector interworking is selected Choose the signing certificate connector according to the S/MIME signing certificate input method. &gt; S/MIME encryption certificate input method Select EMM Management Certificate or Connector interworking', metadata={'source': 'all_processed_data.json', 'seq_num': 916, 'title': 'iOS policies', 'url': 'https://docs.samsungknox.com/admin/knox-manage/configure/profile/configure-profile-policies/ios-policies', 'project': 'KM', 'last_updated': '2023-07-26', 'family_tree': 'child', 'parent_id': '68bf0c89-2058-4def-840b-a1691a12a986', 'id': '48eb9375-9c48-41a3-8fa8-ef06a154187e'}), 0.9724664997822489), (Document(page_content='. If set, some premium web content might be unavailable to the device user. Chrome OS 99 and higher Verified mode Controls whether Verified Access can attest the Chromebook if it boots into developer mode. For more details, see Enable Verified Access with Chrome OS devices. Values Require verified mode boot for verified access &mdash; If the Chromebook boots into developer mode, it fails verification by Verified Access. Skip boot mode for verified access &mdash; If the Chromebook boots into developer mode, it can be verified by Verified Access. Chrome OS 99 and higher &gt; Services with full access Specifies an allowlist of email addresses of Google service accounts with full access to the Google Verified Access API. These are the service accounts created on the Google Cloud Platform Console. Values To add an account, enter it and click . To remove one, click', metadata={'source': 'all_processed_data.json', 'seq_num': 914, 'title': 'Chrome OS policies', 'url': 'https://docs.samsungknox.com/admin/knox-manage/configure/profile/configure-profile-policies/chrome-os-policies', 'project': 'KM', 'last_updated': '2023-07-26', 'family_tree': 'child', 'parent_id': '2f52fe94-7528-44ea-ba57-09e2dcc692df', 'id': '3185527e-f639-490d-a5bb-0d5117b6eefe'}), 0.9709379150194914)]\n",
      "##############################\n",
      "similar_docs_keyword\n",
      "##############################\n",
      "[(Document(page_content='to activate Agent User Enrollment MDM (Device &#x2192; Server) Agent Request for check-in (Server &#x2192; Device) Agent Response for check-out (Server &#x2192; Device) Agent Request to activate MDM (Server &#x2192; Device) Agent Request for MDM profile (Server &#x2192; Device) Agent Request for SCEP profile (Server &#x2192; Device) Agent Request for token update (Server &#x2192; Device) Request to activate Agent User Enrollment MDM (Server &#x2192; Device) Confirm Enrollment (Knox) (Device &#x2192; Server) Confirm Enrollment (Knox) (Server &#x2192; Device) Generate OTP (One Time Password) Code EMM Enrollment (Device &#x2192; Server) EMM Enrollment (Server &#x2192; Device) EMM Enrollment Spec (Device &#x2192; Server) EMM Enrollment Spec (Server &#x2192; Device) Azure AD Device Sync Request Request for discovery URL (Device &#x2192; Server) Respond to the request for Discovery URL (Server &#x2192; Device) Respond to the request to set DM Client Request to verify Federated equipment (Device &#x2192;', metadata={'source': 'all_processed_data.json', 'seq_num': 781, 'title': 'Server audit events', 'url': 'https://docs.samsungknox.com/admin/knox-manage/appendix/list-of-audit-events/server-audit-events', 'project': 'KM', 'last_updated': '2023-07-26', 'family_tree': 'child', 'parent_id': '66455f42-d323-4265-af82-362139bed990', 'id': 'a424a205-ec93-4bf8-a822-18703d4b3e4e'}), 1.0), (Document(page_content='Australia. Login to the portal You can check the detailed status of your claim by logging in to your Samsung Care+ for Business portal at samsungknox.com. Submit a single service request If you want to make a service request for a single device: 1. Go to the Submit New Service Request page. 2. Search the device ID. 3. Click on the checkbox next to the device. 4. Click NEXT. 5. In the next page, verify the device details and click VERIFY MY DEVICE. 6. Select what is the issue with the device. 7. Enter and confirm the delivery details. 8. Click SUBMIT. 9. In the CONFIRM SERVICE REQUEST pop-up, verify the details and click SUBMIT MY SERVICE REQUEST. Submit multiple service requests in bulk If you want to make service requests for multiple devices: 1. Go to the Submit New Service Request page. 3. Click on the checkbox next to the devices you want to make the service request for. 4. Click NEXT. 9. In the CONFIRM BULK SERVICE REQUEST pop-up, verify the details and click SUBMIT MY SERVICE REQUEST', metadata={'source': 'all_processed_data.json', 'seq_num': 341, 'title': 'Australia', 'url': 'https://docs.samsungknox.com/admin/care-plus/submit-a-claim/australia', 'project': 'SCPE', 'last_updated': '2023-07-26', 'family_tree': 'child', 'parent_id': 'f2764903-1fd6-48fd-b3fb-1f752ddef05f', 'id': 'b79792a8-3cd7-42a3-9934-7e5c7613ffae'}), 0.8257865446132411), (Document(page_content='. Start Minimum requirements There are only a few requirements you need to meet to take advantage of the Knox Platform for Enterprise: 1. An MDM\"and a Samsung device that is compatible with Knox Platform for Enterprise. Knox Platform for Enterprise is supported on select Samsung Android Devices. Contact your operator to verify that your devices are compatible. Our MDM partners support many Knox features and comprehensive policy levels. 2. A valid Knox License. 3. A Samsung Knox account (optional). This allows you to manage your license keys, submit support tickets and access other Knox related assets. Check what version of the Knox Platform is running on your devices To find out what version of the Knox platform your device is running, go to: Settings > About Device > Software Information > Knox Version. To identify the SDK version that corresponds with the Knox API Level of your target devices, see the Knox version mapping table in Samsung Knox Developer documentation. #Recommended Knox solutions 1', metadata={'source': 'all_processed_data.json', 'seq_num': 1342, 'title': 'Knox Platform for Enterprise', 'url': 'https://docs.samsungknox.com/admin/knox-platform-for-enterprise', 'project': 'KPE', 'last_updated': '2023-07-26', 'family_tree': 'child', 'parent_id': '52a09b9b-1d20-4de4-b510-a2d59c66e22c', 'id': '9b57fafe-2587-42e3-9797-4b717563f989'}), 0.8102080154858708), (Document(page_content=\". NOTE - You can't select a firmware version to apply when creating a test campaign. Instead, dummy firmware is applied by default. 6. Click Assign. 7. Click Create and Activate. The campaign is added to the Campaigns list. 8. Check the device for the dummy firmware update. If the campaign is applied successfully, the device status changes to Campaign Active. In the following example, the dummy firmware to be applied has the file extension .DM. 9. When you're done with your test campaign, revert the dummy firmware to regular firmware. 1. Go to Devices > All Devices. 2. Click Action > Unassign campaign. The device status changes to Enrolled and the dummy firmware is reverted to regular firmware.\", metadata={'source': 'all_processed_data.json', 'seq_num': 230, 'title': 'Create a test campaign', 'url': 'https://docs.samsungknox.com/admin/efota-one/features/create-a-campaign/create-a-test-campaign', 'project': 'EFOTA', 'last_updated': '2023-07-26', 'family_tree': 'child', 'parent_id': 'a87d58c0-887b-4456-bff9-2971e8604704', 'id': '84d46303-91ef-4704-af6e-0d4f5e5f69d1'}), 0.796688887987916), (Document(page_content=\"What can I do if I'm not receiving the verification email when registering for a Samsung Account?. Here are some possible scenarios for not getting the verification email, and actions you can try: Scenario Action You can't access the device used for 2-step verification. Contact Samsung Support in your region. After we verify your identity (full name, date of birth, device IMEI or serial number), we temporarily deactivate two-step verification. You can then sign in to your account and register a new device or change the phone number used for two-step verification. You lost your backup code. Contact Samsung Support in your region. After we verify your identity (full name, date of birth, device IMEI or serial number), we send you a new backup code. You can't access the email account used to register the Samsung Account. As per our Samsung Account policy, if you lose access to your email account, you should create a new Samsung account and associate it with a new email address\", metadata={'source': 'all_processed_data.json', 'seq_num': 181, 'title': \"What can I do if I'm not receiving the verification email when registering for a Samsung Account?\", 'url': 'https://docs.samsungknox.com/admin/fundamentals/kbas/kba-360032622774', 'project': 'USP', 'last_updated': '2023-07-26', 'family_tree': 'child', 'parent_id': 'fb5cd13a-15d3-4cd3-a393-d77f25fd69f3', 'id': 'c7596d6b-3a5d-44d0-94ec-558616d7ca65'}), 0.7366747791243617), (Document(page_content='. Try to manually refresh the client on the device by executing a Force client refresh. If the problem persists, contact Samsung. Failed to install 762 Firmware installation has failed because the installation is terminated by the system. Try to manually refresh the client on the device by executing a Force client refresh. If the problem persists, contact Samsung. Failed to install 763 Firmware installation has failed because an unexpected error occurred. Try to manually refresh the client on the device by executing a Force client refresh. If the problem persists, contact Samsung. Failed to install 764 Firmware installation has failed because an error occurred during the delta firmware installation process. Try to manually refresh the client on the device by executing a Force client refresh. If the problem persists, contact Samsung. Failed to install 765 Firmware installation has failed because the dm-verity check failed in recovery mode', metadata={'source': 'all_processed_data.json', 'seq_num': 285, 'title': 'Error codes', 'url': 'https://docs.samsungknox.com/admin/efota-one/troubleshoot/error-codes', 'project': 'EFOTA', 'last_updated': '2023-08-15', 'family_tree': 'child', 'parent_id': '0c69f417-c45c-4ac6-be20-80718407c05c', 'id': '45c4d50a-bbaa-4ef3-9427-be5826a3efe0'}), 0.7126545083474819), (Document(page_content=\"Debug mode. We understand that successfully deploying your policies and settings correctly is important. To help you test and deploy your configurations, Knox Service Plugin (KSP) includes a setting called Debug mode. Overview By default, KSP runs in the background and does not have a UI. Debug mode enables you to easily see policy results and errors on a device, so you can verify that your configurations are correct. When turned on, it launches an app that displays the status of policies. This app should auto-launch when it receives any new polices. We recommend you use Debug mode with a limited number of devices. You should turn it off for full deployments. Here's what debug mode looks like when opened manually on a device: The app provides a list of the polices that you have pushed, along with details about the last configuration, including: Policy title - Name of the policy. Message - Description of the policy, along with the status of the policy application\", metadata={'source': 'all_processed_data.json', 'seq_num': 1306, 'title': 'Debug mode', 'url': 'https://docs.samsungknox.com/admin/knox-platform-for-enterprise/knox-service-plugin/troubleshoot/debug-mode', 'project': 'KSP', 'last_updated': '2023-07-26', 'family_tree': 'child', 'parent_id': 'f8199153-2888-41ef-94fa-52a503144127', 'id': 'c0cb221e-48a6-4f0c-a976-6f8dbf6f38ec'}), 0.683475514244102)]\n",
      "##############################\n",
      "similar_docs\n",
      "##############################\n",
      "[(Document(page_content='Server) Agent Respond to the request for Internal App MC Applied Result Report (Device &#x2192; Server) Agent Respond to the request to delete app data (Server &#x2192; Device) Agent Respond to the request to lock device (Server &#x2192; Device) Agent Respond to the request to run app (Server &#x2192; Device) Agent Respond to the request to unlock device (Server &#x2192; Device) Request Device Command (Reboot Device) (Device &#x2192; Server) Request to device command (Delete App Data) (Server &#x2192; google) Request to device command (Reboot Device) (Server &#x2192; google) Succeeded to add Applications event Succeeded to add Day &amp; Time event Succeeded to add Roaming event Succeeded to add SIM Change event Succeeded to add Wi-Fi SSID event Succeeded to remove Applications event Succeeded to remove Day &amp; Time event Succeeded to remove Roaming event Succeeded to remove SIM Change event Succeeded to remove Wi-Fi SSID event Update Exit Kiosk Code (Device Command) Request to update exit kiosk code (Request) Respond to the request to update exit kiosk code (Response) Request to update device unenrollment code (Request) Respond to the request to update device unenrollment code (Response) E-FOTA E-FOTA API, Get Firmware List E-FOTA API, Get License Information E-FOTA API, Get Token E-FOTA API, check group version E-FOTA API, network error E-FOTA API, view product, model, and agency E-FOTA API, Register CorpID E-FOTA API, Restrict Firmware E-FOTA history, Create group E-FOTA history, Delete group E-FOTA History, Edit group Device Finish Getting the Detailed Information of Device Commands for Chrome OS Finish Issuing the Commands for Kiosk Devices (Screenshot Set Volume) Duplicate Device Found Change License (Server) Register Device License (Server) Update Device License (Server) Register a Device Token for Push Deactivate device (Off-line) Email Send Mail To Admin (Async) Send Mail To Device (Async) Send Mail To User (Async) Execute Mail Schedule Job Execute Mail Scheduler Generate OTP(One Time Password) Code Enrollment Prevent reactivation Prevent reactivation EMM Enrollment Spec (Device &#x2192; Server) EMM Enrollment Spec (Server &#x2192; Device) EMM Enrollment Spec (Device &#x2192; Server) EMM Enrollment Spec (Server &#x2192; Device) Disable service -Android (Device &#x2192; Server) Disable service -Android (Server &#x2192; Device) Update KLM/ELM license during activation (Device &#x2192; Server) Update KLM/ELM license during activation (Server &#x2192; Device) UMC Enrollment Request UMC Enrollment Response UMC User Search Request UMC User Search Response UMC Unenrollment Request UMC Unenrollment Response UMC Enrollment Information Update Request UMC Enrollment Information Update Response Agent Request for check-in (Device &#x2192; Server) Agent Request for check-out (Device &#x2192; Server) Agent Request to activate MDM (Device &#x2192; Server) Agent Request for MDM profile (Device &#x2192; Server) Agent Request for SCEP profile (Device &#x2192; Server) Agent Request for token update (Device &#x2192; Server) Request to activate Agent User Enrollment MDM (Device &#x2192; Server) Agent Request for check-in (Server &#x2192; Device) Agent Response for check-out (Server &#x2192; Device) Agent Request to activate MDM (Server &#x2192; Device) Agent Request for MDM profile (Server &#x2192; Device) Agent Request for SCEP profile (Server &#x2192; Device) Agent Request for token update (Server &#x2192; Device) Request to activate Agent User Enrollment MDM (Server &#x2192; Device) Confirm Enrollment (Knox) (Device &#x2192; Server) Confirm Enrollment (Knox) (Server &#x2192; Device) Generate OTP (One Time Password) Code EMM Enrollment (Device &#x2192; Server) EMM Enrollment (Server &#x2192; Device) EMM Enrollment Spec (Device &#x2192; Server) EMM Enrollment Spec (Server &#x2192; Device) Azure AD Device Sync Request Request for discovery URL (Device &#x2192; Server) Respond to the request for Discovery URL (Server &#x2192; Device) Respond to the request to set DM Client Request to verify Federated equipment (Device &#x2192;', metadata={'source': 'all_processed_data.json', 'seq_num': 781, 'title': 'Server audit events', 'url': 'https://docs.samsungknox.com/admin/knox-manage/appendix/list-of-audit-events/server-audit-events', 'project': 'KM', 'last_updated': '2023-07-26', 'family_tree': 'parent', 'parent_id': None}), 0.030597355216741562), (Document(page_content='Knox Mobile Enrollment 1.34 release notes. Allow Work Profile (PO) creation in KME via MDM selection This feature addresses admin requests to create a KME supported PO profile (work profile) with supported MDMs. With this release, you can now choose what type of out-of-box Android Enterprise enrollment to use. Previously, KME only supported fully managed devices via Device Owner (DO) mode, but with this release KME is also supporting out-of-box work profile creation via the Profile Owner (PO) mode, as long as it is supported by the MDM. This is accomplished by adding a profile option to \"Let MDM choose\" what kind of enrollment to use. This is a new feature introduced in Android 10, and not all MDMs currently support it. When configuring Android Enterprise profile settings, an admin is now presented the option of setting MDM INFORMATION to Force Device Owner enrollment. When Force Device Owner enrollment checkbox is selected, an admin is displayed the Android Enterprise profile settings screen with settings for a DO profile. However, if the Force DO enrollment checkbox is _not_ selected the admin is displayed the Android Enterprise profile settings screen (if running Android 10 or later) to let the MDM optionally enroll as a PO (Profile Owner). Profiles created before the KCS 1.34 release are set to Force Device Owner enrollment. The default setting for any newly created profile will also have this value. For information on configuring an Android Enterprise KME profile, see Android Enterprise profiles. On-premises Intranet hosted MDM APK support Often the most time consuming parts of device enrollment is downloading the MDM APK over the public Internet. With this release you can now host and download the APK from inside your own Intranet. Besides speeding up device enrollment, you can also host private MDM APKs that are not publically available. With this release, a This MDM APK is locally hosted on an Intranet server checkbox has been added to the Android Enterprise profile details screen to provide an alternative to an externally hosted MDM agent APK. Select this option to use an APK resource from within a local company Intranet. This option is disabled by default. If the Publically available MDM APK option is selected, then a text box displays. Enter the URL of a publically accessible version of the exact same MDM APK you are hosting within your local company Intranet. By default, Samsung recommends a location based on the MDM name you may have previously selected, but this can be overwritten. If there is no publically available exact match, then select Privately available MDM APK and provide the required information associated with the Intranet hosted MDM APK. This is used for validation during device enrollment, and also to display on the Managed Provisioning screen. The Admin component name is expressed as _package name/class name_. For example, com.airwatch.androidagent/com.airwatch.agent.DeviceAdministratorReceiver for the Workspace ONE UEM. The Admin package signature checksum is the Base64 encoded SHA-256 hash of the MDM APK signature, which is URL friendly. You can get this value from your MDM. Go here for information on the EXTRA_PROVISIONING_DEVICE_ADMIN_SIGNATURE_CHECKSUM. Alternatively, you can use utilities such as _Keytool_ on Linux to get this value. Go here\" for additional information. The MDM app name is the name of the app displayed on the Managed Provisioning screen. The App icon is the icon displayed next to the MDM app name. The minimum size is 48 x 48 pixels, and the file format needs to be a PNG file. To use this information to create an enrollment profile, see Android Enterprise profiles. What\\'s new pop-up messaging This release introduces a pop-message with new descriptive text of the new features introduced with the KCS 1.34 release. This will help familiarize admins and users with the latest functionality to assist with enrollment and deployment', metadata={'source': 'all_processed_data.json', 'seq_num': 503, 'title': 'Knox Mobile Enrollment 1.34 release notes', 'url': 'https://docs.samsungknox.com/admin/knox-mobile-enrollment/release-notes/20-09', 'project': 'KME', 'last_updated': '2023-07-26', 'family_tree': 'parent', 'parent_id': None}), 0.000497550587169826), (Document(page_content=\".0 and higher &gt; Data transfer Allows data exchanges with other devices using Bluetooth connection. Fully Managed &mdash; Samsung Knox 1.0 and higher &gt; Search mode Allows device search mode. Fully Managed &mdash; Samsung Knox 1.0 and higher Bluetooth Setting Specifies the controls for the Bluetooth use. Fully Managed &mdash; Android 8 and higher Bluetooth Share Allows Bluetooth sharing. Fully Managed &mdash; Android 8 and higher PC connection Allows connecting user's device to PC. Fully Managed &mdash; Android 6 and higher, Samsung Knox 1.0 and higher USB Debugging Allows the device user to enable USB debugging. Work Profile &mdash; Android 6 and higher Security Configures the security settings, such as Play Integrity (SafetyNet Attestation), Multifactor authentication, and screen timeout. Policy Description Supported system Play Integrity (SafetyNet Attestation) Allows checks to validate the integrity of the device. The Play Integrity API replaces the SafetyNet Attestation API, which is being deprecated in June 2024. The Play Integrity API improves the detection of device-side accounts as well as Google Play app and user accounts. We recommend that you upgrade to the latest Knox Manage agent and migrate to the Play Integrity API. For more information, see Migrating from the SafetyNet Attestation API in the Android Developer documentation. Android 6 and higher &gt; Verification Interval (days) Set an interval at which to assess the devices. &gt; Verification Failure Policy (During Enrollment) Select a measure. Admin Alert &mdash; Sends an alert to the administrator. Unenrollment (Factory Reset) (for DO only)&mdash;Unenrolls the device and performs a factory reset. Unenrollment (for PO only)&mdash;Unenrolls the device. &gt; Verification Failure Policy (After Enrollment) Select a measure. Admin Alert &mdash; Sends an alert to the administrator. Lock device (for DO only)&mdash;Locks the device. Unenrollment (Factory Reset) (for DO only)&mdash;Unenrolls the device and performs a factory reset. Unenrollment (for PO only)&mdash;Unenrolls the device. Maximum screen timeout Set the maximum time limit that a user can linger before screen timeout. Timeout settings apply based on the Use one lock setting on the work profile of a device: If Use one lock is enabled and two different values are set for Device Controls and Work Profile Controls, the smaller value applies. If Use one lock is enabled on personal profile of a personal device, set the maximum time under Device Controls. If Use one lock is disabled on a work profile of a company-owned device, the maximum time under Work Profile Controls applies. To set Use one lock on a device, go to Settings &gt; Work profile settings. Fully Managed &mdash; Android 6 and higher, Samsung Knox 2.0 and higher Work Profile &mdash; Android 12 and higher Personal area &mdash; Android 12 and higher Enforce Multi-factor Authentication Enable multifactor authentication (2FA) that unlocks a device only after two authentication methods are provided, including one biometric input&mdash;face, iris, or fingerprint&mdash;and one lock screen method, such as PIN, password, or pattern. Note Incorrect use of this policy together with One Lock and Biometric policy can lock your device. Fully Managed &mdash; Samsung Knox 3.0 and higher Screen Timeout Specify whether to allow the user to control the screen lock time setting. Fully Managed &mdash; Android 9.0 and higher Password Configures password and device lock screen settings. Policy Description Supported system Password Set the device's lock screen type and minimum quality. Use of the camera is prohibited when the device is locked. You can set up to two lock screen policy sets: Device Controls &mdash; The lock screen settings for the personal area of the device. Work Profile Controls &mdash; The lock screen settings for a device's Work Profile. After the Work Profile is set up, the device user is directed to set a lock screen\", metadata={'source': 'all_processed_data.json', 'seq_num': 911, 'title': 'Android Enterprise policies', 'url': 'https://docs.samsungknox.com/admin/knox-manage/configure/profile/configure-profile-policies/android-enterprise-policies', 'project': 'KM', 'last_updated': '2023-09-06', 'family_tree': 'parent', 'parent_id': None}), 0.00022958243789616972), (Document(page_content=\"Australia. Login to the portal You can check the detailed status of your claim by logging in to your Samsung Care+ for Business portal at samsungknox.com. Submit a single service request If you want to make a service request for a single device: 1. Go to the Submit New Service Request page. 2. Search the device ID. 3. Click on the checkbox next to the device. 4. Click NEXT. 5. In the next page, verify the device details and click VERIFY MY DEVICE. 6. Select what is the issue with the device. 7. Enter and confirm the delivery details. 8. Click SUBMIT. 9. In the CONFIRM SERVICE REQUEST pop-up, verify the details and click SUBMIT MY SERVICE REQUEST. Submit multiple service requests in bulk If you want to make service requests for multiple devices: 1. Go to the Submit New Service Request page. 3. Click on the checkbox next to the devices you want to make the service request for. 4. Click NEXT. 9. In the CONFIRM BULK SERVICE REQUEST pop-up, verify the details and click SUBMIT MY SERVICE REQUEST. Resume or cancel a service request If you want to resume a pending service request or cancel a submitted service request: 1. Go to the Resume/Cancel Open Service Request page. 2. Select the service request you want to resume or cancel. 3. Click RESUME or CANCEL. Manage account To manage your account details, including viewing the service request history, tracking number, date shipped and so on: 1. Go to the Manage myAccount page. 2. Search for a specific device or look through the service request history. If you have misplaced the return label to send your device back, you can print another one from this page! Frequently asked questions If you have any queries, you can look through the frequently asked questions in the FAQ page. To make a claim or check your coverage, you'll need your 15 -digit IMEI number ready. See the How can I check the IMEI number of my devices? to see how to find it. Back to index\", metadata={'source': 'all_processed_data.json', 'seq_num': 341, 'title': 'Australia', 'url': 'https://docs.samsungknox.com/admin/care-plus/submit-a-claim/australia', 'project': 'SCPE', 'last_updated': '2023-07-26', 'family_tree': 'parent', 'parent_id': None}), 0.0002000283420784399), (Document(page_content='Knox Platform for Enterprise. Samsung Knox Platform for Enterprise brings defense-grade security on the most popular consumer devices to all enterprises. The Knox Platform provides best-in-class hardware-based security, policy management, and compliance capabilities beyond the standard features commonplace in the mobile device market. The Knox Platform is the cornerstone of a strong mobile security strategy supporting a wide variety of Samsung devices. Try for free Audience This document is intended for: System Security Architects - Understand how Knox works, and learn more about what sets Knox apart. IT Admins - Manage Knox licenses, deploy Knox devices, and set up in the enterprise. Try the solution Use the Knox Platform to deploy Knox devices while providing best-in-class hardware-based security, policy management, and compliance capabilities. Start Minimum requirements There are only a few requirements you need to meet to take advantage of the Knox Platform for Enterprise: 1. An MDM\"and a Samsung device that is compatible with Knox Platform for Enterprise. Knox Platform for Enterprise is supported on select Samsung Android Devices. Contact your operator to verify that your devices are compatible. Our MDM partners support many Knox features and comprehensive policy levels. 2. A valid Knox License. 3. A Samsung Knox account (optional). This allows you to manage your license keys, submit support tickets and access other Knox related assets. Check what version of the Knox Platform is running on your devices To find out what version of the Knox platform your device is running, go to: Settings > About Device > Software Information > Knox Version. To identify the SDK version that corresponds with the Knox API Level of your target devices, see the Knox version mapping table in Samsung Knox Developer documentation. #Recommended Knox solutions 1. If you don\\'t have an MDM, consider Knox Manage, which is a cross-platform, cloud-based device management solution. 2. If you would like to bulk-enroll devices through your MDM, sign up for the free Knox Mobile Enrollment service. About KPE To learn more about Samsung Knox Platform for Enterprise, go to the Knox white paper.', metadata={'source': 'all_processed_data.json', 'seq_num': 1342, 'title': 'Knox Platform for Enterprise', 'url': 'https://docs.samsungknox.com/admin/knox-platform-for-enterprise', 'project': 'KPE', 'last_updated': '2023-07-26', 'family_tree': 'parent', 'parent_id': None}), 0.00019711472850758582)]\n",
      "\n",
      "==========  Results  ==========\n",
      "\n",
      "1. question: what is verify DM\n",
      "2. # documents: 5\n",
      "3. Documents: \n",
      "\n",
      "-----------------------------------------------\n",
      "1. Chunk: 4089 Characters\n",
      "-----------------------------------------------\n",
      "Server) Agent Respond to the request for Internal App MC Applied Result Report (Device &#x2192;\n",
      "Server) Agent Respond to the request to delete app data (Server &#x2192; Device) Agent Respond to\n",
      "the request to lock device (Server &#x2192; Device) Agent Respond to the request to run app (Server\n",
      "&#x2192; Device) Agent Respond to the request to unlock device (Server &#x2192; Device) Request\n",
      "Device Command (Reboot Device) (Device &#x2192; Server) Request to device command (Delete App Data)\n",
      "(Server &#x2192; google) Request to device command (Reboot Device) (Server &#x2192; google)\n",
      "Succeeded to add Applications event Succeeded to add Day &amp; Time event Succeeded to add Roaming\n",
      "event Succeeded to add SIM Change event Succeeded to add Wi-Fi SSID event Succeeded to remove\n",
      "Applications event Succeeded to remove Day &amp; Time event Succeeded to remove Roaming event\n",
      "Succeeded to remove SIM Change event Succeeded to remove Wi-Fi SSID event Update Exit Kiosk Code\n",
      "(Device Command) Request to update exit kiosk code (Request) Respond to the request to update exit\n",
      "kiosk code (Response) Request to update device unenrollment code (Request) Respond to the request to\n",
      "update device unenrollment code (Response) E-FOTA E-FOTA API, Get Firmware List E-FOTA API, Get\n",
      "License Information E-FOTA API, Get Token E-FOTA API, check group version E-FOTA API, network error\n",
      "E-FOTA API, view product, model, and agency E-FOTA API, Register CorpID E-FOTA API, Restrict\n",
      "Firmware E-FOTA history, Create group E-FOTA history, Delete group E-FOTA History, Edit group Device\n",
      "Finish Getting the Detailed Information of Device Commands for Chrome OS Finish Issuing the Commands\n",
      "for Kiosk Devices (Screenshot Set Volume) Duplicate Device Found Change License (Server) Register\n",
      "Device License (Server) Update Device License (Server) Register a Device Token for Push Deactivate\n",
      "device (Off-line) Email Send Mail To Admin (Async) Send Mail To Device (Async) Send Mail To User\n",
      "(Async) Execute Mail Schedule Job Execute Mail Scheduler Generate OTP(One Time Password) Code\n",
      "Enrollment Prevent reactivation Prevent reactivation EMM Enrollment Spec (Device &#x2192; Server)\n",
      "EMM Enrollment Spec (Server &#x2192; Device) EMM Enrollment Spec (Device &#x2192; Server) EMM\n",
      "Enrollment Spec (Server &#x2192; Device) Disable service -Android (Device &#x2192; Server) Disable\n",
      "service -Android (Server &#x2192; Device) Update KLM/ELM license during activation (Device &#x2192;\n",
      "Server) Update KLM/ELM license during activation (Server &#x2192; Device) UMC Enrollment Request UMC\n",
      "Enrollment Response UMC User Search Request UMC User Search Response UMC Unenrollment Request UMC\n",
      "Unenrollment Response UMC Enrollment Information Update Request UMC Enrollment Information Update\n",
      "Response Agent Request for check-in (Device &#x2192; Server) Agent Request for check-out (Device\n",
      "&#x2192; Server) Agent Request to activate MDM (Device &#x2192; Server) Agent Request for MDM\n",
      "profile (Device &#x2192; Server) Agent Request for SCEP profile (Device &#x2192; Server) Agent\n",
      "Request for token update (Device &#x2192; Server) Request to activate Agent User Enrollment MDM\n",
      "(Device &#x2192; Server) Agent Request for check-in (Server &#x2192; Device) Agent Response for\n",
      "check-out (Server &#x2192; Device) Agent Request to activate MDM (Server &#x2192; Device) Agent\n",
      "Request for MDM profile (Server &#x2192; Device) Agent Request for SCEP profile (Server &#x2192;\n",
      "Device) Agent Request for token update (Server &#x2192; Device) Request to activate Agent User\n",
      "Enrollment MDM (Server &#x2192; Device) Confirm Enrollment (Knox) (Device &#x2192; Server) Confirm\n",
      "Enrollment (Knox) (Server &#x2192; Device) Generate OTP (One Time Password) Code EMM Enrollment\n",
      "(Device &#x2192; Server) EMM Enrollment (Server &#x2192; Device) EMM Enrollment Spec (Device\n",
      "&#x2192; Server) EMM Enrollment Spec (Server &#x2192; Device) Azure AD Device Sync Request Request\n",
      "for discovery URL (Device &#x2192; Server) Respond to the request for Discovery URL (Server &#x2192;\n",
      "Device) Respond to the request to set DM Client Request to verify Federated equipment (Device\n",
      "&#x2192;\n",
      "metadata:\n",
      " {'source': 'all_processed_data.json', 'seq_num': 781, 'title': 'Server audit events', 'url':\n",
      "'https://docs.samsungknox.com/admin/knox-manage/appendix/list-of-audit-events/server-audit-events',\n",
      "'project': 'KM', 'last_updated': '2023-07-26', 'family_tree': 'parent', 'parent_id': None}\n",
      "-----------------------------------------------\n",
      "2. Chunk: 3946 Characters\n",
      "-----------------------------------------------\n",
      "Knox Mobile Enrollment 1.34 release notes. Allow Work Profile (PO) creation in KME via MDM selection\n",
      "This feature addresses admin requests to create a KME supported PO profile (work profile) with\n",
      "supported MDMs. With this release, you can now choose what type of out-of-box Android Enterprise\n",
      "enrollment to use. Previously, KME only supported fully managed devices via Device Owner (DO) mode,\n",
      "but with this release KME is also supporting out-of-box work profile creation via the Profile Owner\n",
      "(PO) mode, as long as it is supported by the MDM. This is accomplished by adding a profile option to\n",
      "\"Let MDM choose\" what kind of enrollment to use. This is a new feature introduced in Android 10, and\n",
      "not all MDMs currently support it. When configuring Android Enterprise profile settings, an admin is\n",
      "now presented the option of setting MDM INFORMATION to Force Device Owner enrollment. When Force\n",
      "Device Owner enrollment checkbox is selected, an admin is displayed the Android Enterprise profile\n",
      "settings screen with settings for a DO profile. However, if the Force DO enrollment checkbox is\n",
      "_not_ selected the admin is displayed the Android Enterprise profile settings screen (if running\n",
      "Android 10 or later) to let the MDM optionally enroll as a PO (Profile Owner). Profiles created\n",
      "before the KCS 1.34 release are set to Force Device Owner enrollment. The default setting for any\n",
      "newly created profile will also have this value. For information on configuring an Android\n",
      "Enterprise KME profile, see Android Enterprise profiles. On-premises Intranet hosted MDM APK support\n",
      "Often the most time consuming parts of device enrollment is downloading the MDM APK over the public\n",
      "Internet. With this release you can now host and download the APK from inside your own Intranet.\n",
      "Besides speeding up device enrollment, you can also host private MDM APKs that are not publically\n",
      "available. With this release, a This MDM APK is locally hosted on an Intranet server checkbox has\n",
      "been added to the Android Enterprise profile details screen to provide an alternative to an\n",
      "externally hosted MDM agent APK. Select this option to use an APK resource from within a local\n",
      "company Intranet. This option is disabled by default. If the Publically available MDM APK option is\n",
      "selected, then a text box displays. Enter the URL of a publically accessible version of the exact\n",
      "same MDM APK you are hosting within your local company Intranet. By default, Samsung recommends a\n",
      "location based on the MDM name you may have previously selected, but this can be overwritten. If\n",
      "there is no publically available exact match, then select Privately available MDM APK and provide\n",
      "the required information associated with the Intranet hosted MDM APK. This is used for validation\n",
      "during device enrollment, and also to display on the Managed Provisioning screen. The Admin\n",
      "component name is expressed as _package name/class name_. For example,\n",
      "com.airwatch.androidagent/com.airwatch.agent.DeviceAdministratorReceiver for the Workspace ONE UEM.\n",
      "The Admin package signature checksum is the Base64 encoded SHA-256 hash of the MDM APK signature,\n",
      "which is URL friendly. You can get this value from your MDM. Go here for information on the\n",
      "EXTRA_PROVISIONING_DEVICE_ADMIN_SIGNATURE_CHECKSUM. Alternatively, you can use utilities such as\n",
      "_Keytool_ on Linux to get this value. Go here\" for additional information. The MDM app name is the\n",
      "name of the app displayed on the Managed Provisioning screen. The App icon is the icon displayed\n",
      "next to the MDM app name. The minimum size is 48 x 48 pixels, and the file format needs to be a PNG\n",
      "file. To use this information to create an enrollment profile, see Android Enterprise profiles.\n",
      "What's new pop-up messaging This release introduces a pop-message with new descriptive text of the\n",
      "new features introduced with the KCS 1.34 release. This will help familiarize admins and users with\n",
      "the latest functionality to assist with enrollment and deployment\n",
      "metadata:\n",
      " {'source': 'all_processed_data.json', 'seq_num': 503, 'title': 'Knox Mobile Enrollment 1.34 release\n",
      "notes', 'url': 'https://docs.samsungknox.com/admin/knox-mobile-enrollment/release-notes/20-09',\n",
      "'project': 'KME', 'last_updated': '2023-07-26', 'family_tree': 'parent', 'parent_id': None}\n",
      "-----------------------------------------------\n",
      "3. Chunk: 3967 Characters\n",
      "-----------------------------------------------\n",
      ".0 and higher &gt; Data transfer Allows data exchanges with other devices using Bluetooth\n",
      "connection. Fully Managed &mdash; Samsung Knox 1.0 and higher &gt; Search mode Allows device search\n",
      "mode. Fully Managed &mdash; Samsung Knox 1.0 and higher Bluetooth Setting Specifies the controls for\n",
      "the Bluetooth use. Fully Managed &mdash; Android 8 and higher Bluetooth Share Allows Bluetooth\n",
      "sharing. Fully Managed &mdash; Android 8 and higher PC connection Allows connecting user's device to\n",
      "PC. Fully Managed &mdash; Android 6 and higher, Samsung Knox 1.0 and higher USB Debugging Allows the\n",
      "device user to enable USB debugging. Work Profile &mdash; Android 6 and higher Security Configures\n",
      "the security settings, such as Play Integrity (SafetyNet Attestation), Multifactor authentication,\n",
      "and screen timeout. Policy Description Supported system Play Integrity (SafetyNet Attestation)\n",
      "Allows checks to validate the integrity of the device. The Play Integrity API replaces the SafetyNet\n",
      "Attestation API, which is being deprecated in June 2024. The Play Integrity API improves the\n",
      "detection of device-side accounts as well as Google Play app and user accounts. We recommend that\n",
      "you upgrade to the latest Knox Manage agent and migrate to the Play Integrity API. For more\n",
      "information, see Migrating from the SafetyNet Attestation API in the Android Developer\n",
      "documentation. Android 6 and higher &gt; Verification Interval (days) Set an interval at which to\n",
      "assess the devices. &gt; Verification Failure Policy (During Enrollment) Select a measure. Admin\n",
      "Alert &mdash; Sends an alert to the administrator. Unenrollment (Factory Reset) (for DO\n",
      "only)&mdash;Unenrolls the device and performs a factory reset. Unenrollment (for PO\n",
      "only)&mdash;Unenrolls the device. &gt; Verification Failure Policy (After Enrollment) Select a\n",
      "measure. Admin Alert &mdash; Sends an alert to the administrator. Lock device (for DO\n",
      "only)&mdash;Locks the device. Unenrollment (Factory Reset) (for DO only)&mdash;Unenrolls the device\n",
      "and performs a factory reset. Unenrollment (for PO only)&mdash;Unenrolls the device. Maximum screen\n",
      "timeout Set the maximum time limit that a user can linger before screen timeout. Timeout settings\n",
      "apply based on the Use one lock setting on the work profile of a device: If Use one lock is enabled\n",
      "and two different values are set for Device Controls and Work Profile Controls, the smaller value\n",
      "applies. If Use one lock is enabled on personal profile of a personal device, set the maximum time\n",
      "under Device Controls. If Use one lock is disabled on a work profile of a company-owned device, the\n",
      "maximum time under Work Profile Controls applies. To set Use one lock on a device, go to Settings\n",
      "&gt; Work profile settings. Fully Managed &mdash; Android 6 and higher, Samsung Knox 2.0 and higher\n",
      "Work Profile &mdash; Android 12 and higher Personal area &mdash; Android 12 and higher Enforce\n",
      "Multi-factor Authentication Enable multifactor authentication (2FA) that unlocks a device only after\n",
      "two authentication methods are provided, including one biometric input&mdash;face, iris, or\n",
      "fingerprint&mdash;and one lock screen method, such as PIN, password, or pattern. Note Incorrect use\n",
      "of this policy together with One Lock and Biometric policy can lock your device. Fully Managed\n",
      "&mdash; Samsung Knox 3.0 and higher Screen Timeout Specify whether to allow the user to control the\n",
      "screen lock time setting. Fully Managed &mdash; Android 9.0 and higher Password Configures password\n",
      "and device lock screen settings. Policy Description Supported system Password Set the device's lock\n",
      "screen type and minimum quality. Use of the camera is prohibited when the device is locked. You can\n",
      "set up to two lock screen policy sets: Device Controls &mdash; The lock screen settings for the\n",
      "personal area of the device. Work Profile Controls &mdash; The lock screen settings for a device's\n",
      "Work Profile. After the Work Profile is set up, the device user is directed to set a lock screen\n",
      "metadata:\n",
      " {'source': 'all_processed_data.json', 'seq_num': 911, 'title': 'Android Enterprise policies',\n",
      "'url': 'https://docs.samsungknox.com/admin/knox-manage/configure/profile/configure-profile-\n",
      "policies/android-enterprise-policies', 'project': 'KM', 'last_updated': '2023-09-06', 'family_tree':\n",
      "'parent', 'parent_id': None}\n",
      "-----------------------------------------------\n",
      "4. Chunk: 1922 Characters\n",
      "-----------------------------------------------\n",
      "Australia. Login to the portal You can check the detailed status of your claim by logging in to your\n",
      "Samsung Care+ for Business portal at samsungknox.com. Submit a single service request If you want to\n",
      "make a service request for a single device: 1. Go to the Submit New Service Request page. 2. Search\n",
      "the device ID. 3. Click on the checkbox next to the device. 4. Click NEXT. 5. In the next page,\n",
      "verify the device details and click VERIFY MY DEVICE. 6. Select what is the issue with the device.\n",
      "7. Enter and confirm the delivery details. 8. Click SUBMIT. 9. In the CONFIRM SERVICE REQUEST pop-\n",
      "up, verify the details and click SUBMIT MY SERVICE REQUEST. Submit multiple service requests in bulk\n",
      "If you want to make service requests for multiple devices: 1. Go to the Submit New Service Request\n",
      "page. 3. Click on the checkbox next to the devices you want to make the service request for. 4.\n",
      "Click NEXT. 9. In the CONFIRM BULK SERVICE REQUEST pop-up, verify the details and click SUBMIT MY\n",
      "SERVICE REQUEST. Resume or cancel a service request If you want to resume a pending service request\n",
      "or cancel a submitted service request: 1. Go to the Resume/Cancel Open Service Request page. 2.\n",
      "Select the service request you want to resume or cancel. 3. Click RESUME or CANCEL. Manage account\n",
      "To manage your account details, including viewing the service request history, tracking number, date\n",
      "shipped and so on: 1. Go to the Manage myAccount page. 2. Search for a specific device or look\n",
      "through the service request history. If you have misplaced the return label to send your device\n",
      "back, you can print another one from this page! Frequently asked questions If you have any queries,\n",
      "you can look through the frequently asked questions in the FAQ page. To make a claim or check your\n",
      "coverage, you'll need your 15 -digit IMEI number ready. See the How can I check the IMEI number of\n",
      "my devices? to see how to find it. Back to index\n",
      "metadata:\n",
      " {'source': 'all_processed_data.json', 'seq_num': 341, 'title': 'Australia', 'url':\n",
      "'https://docs.samsungknox.com/admin/care-plus/submit-a-claim/australia', 'project': 'SCPE',\n",
      "'last_updated': '2023-07-26', 'family_tree': 'parent', 'parent_id': None}\n",
      "-----------------------------------------------\n",
      "5. Chunk: 2198 Characters\n",
      "-----------------------------------------------\n",
      "Knox Platform for Enterprise. Samsung Knox Platform for Enterprise brings defense-grade security on\n",
      "the most popular consumer devices to all enterprises. The Knox Platform provides best-in-class\n",
      "hardware-based security, policy management, and compliance capabilities beyond the standard features\n",
      "commonplace in the mobile device market. The Knox Platform is the cornerstone of a strong mobile\n",
      "security strategy supporting a wide variety of Samsung devices. Try for free Audience This document\n",
      "is intended for: System Security Architects - Understand how Knox works, and learn more about what\n",
      "sets Knox apart. IT Admins - Manage Knox licenses, deploy Knox devices, and set up in the\n",
      "enterprise. Try the solution Use the Knox Platform to deploy Knox devices while providing best-in-\n",
      "class hardware-based security, policy management, and compliance capabilities. Start Minimum\n",
      "requirements There are only a few requirements you need to meet to take advantage of the Knox\n",
      "Platform for Enterprise: 1. An MDM\"and a Samsung device that is compatible with Knox Platform for\n",
      "Enterprise. Knox Platform for Enterprise is supported on select Samsung Android Devices. Contact\n",
      "your operator to verify that your devices are compatible. Our MDM partners support many Knox\n",
      "features and comprehensive policy levels. 2. A valid Knox License. 3. A Samsung Knox account\n",
      "(optional). This allows you to manage your license keys, submit support tickets and access other\n",
      "Knox related assets. Check what version of the Knox Platform is running on your devices To find out\n",
      "what version of the Knox platform your device is running, go to: Settings > About Device > Software\n",
      "Information > Knox Version. To identify the SDK version that corresponds with the Knox API Level of\n",
      "your target devices, see the Knox version mapping table in Samsung Knox Developer documentation.\n",
      "#Recommended Knox solutions 1. If you don't have an MDM, consider Knox Manage, which is a cross-\n",
      "platform, cloud-based device management solution. 2. If you would like to bulk-enroll devices\n",
      "through your MDM, sign up for the free Knox Mobile Enrollment service. About KPE To learn more about\n",
      "Samsung Knox Platform for Enterprise, go to the Knox white paper.\n",
      "metadata:\n",
      " {'source': 'all_processed_data.json', 'seq_num': 1342, 'title': 'Knox Platform for Enterprise',\n",
      "'url': 'https://docs.samsungknox.com/admin/knox-platform-for-enterprise', 'project': 'KPE',\n",
      "'last_updated': '2023-07-26', 'family_tree': 'parent', 'parent_id': None}\n",
      "CPU times: user 264 ms, sys: 18 ms, total: 282 ms\n",
      "Wall time: 552 ms\n"
     ]
    }
   ],
   "source": [
    "%%time\n",
    "search_hybrid_result = opensearch_hybrid_retriever.get_relevant_documents(query)\n",
    "\n",
    "print(\"\\n==========  Results  ==========\\n\")\n",
    "print(f'1. question: {query}')\n",
    "print (f'2. # documents: {len(search_hybrid_result)}')\n",
    "print(\"3. Documents: \\n\")\n",
    "\n",
    "show_context_used(search_hybrid_result)"
   ]
  },
  {
   "cell_type": "markdown",
   "id": "c09221b5-4a6c-463b-9769-35cc8362e33c",
   "metadata": {},
   "source": [
    "- update parameters"
   ]
  },
  {
   "cell_type": "code",
   "execution_count": 327,
   "id": "b7bb4672-d2b8-4b29-b71c-b06d84bcd470",
   "metadata": {
    "tags": []
   },
   "outputs": [],
   "source": [
    "opensearch_hybrid_retriever.update_search_params(\n",
    "    k=5,\n",
    "    minimum_should_match=0,\n",
    "    #filter=[],\n",
    "    filter=[\n",
    "        #{'term': {'metadata.project': 'KS'}},\n",
    "        #{'term': {'metadata.family_tree': 'child'}},\n",
    "    ],\n",
    "    reranker=True,\n",
    "    reranker_endpoint_name=endpoint_name,\n",
    "    rag_fusion=False,\n",
    "    parent_document=False, # enable parent document\n",
    "    verbose=True,\n",
    ")"
   ]
  },
  {
   "cell_type": "code",
   "execution_count": 328,
   "id": "1b9b45b1-cb92-4954-8087-143a550350c8",
   "metadata": {
    "tags": []
   },
   "outputs": [
    {
     "name": "stdout",
     "output_type": "stream",
     "text": [
      "##############################\n",
      "async_mode\n",
      "##############################\n",
      "True\n",
      "##############################\n",
      "reranker\n",
      "##############################\n",
      "True\n",
      "##############################\n",
      "rag_fusion\n",
      "##############################\n",
      "False\n",
      "##############################\n",
      "HyDE\n",
      "##############################\n",
      "False\n",
      "##############################\n",
      "parent_document\n",
      "##############################\n",
      "False\n",
      "##############################\n",
      "similar_docs_semantic\n",
      "##############################\n",
      "[(Document(page_content='. 1. In the EMM groups tab, select the device groups you want to enroll. 2. Click Actions > Enroll devices in groups. The Select license pop-up shows the active licenses that have enough seats to accommodate all devices in your selected device group(s). If you want to see all licenses, click Clear Filters. 3. Select the license you want to use, and click Done. Assign a device group to a campaign Perform this procedure if you want to assign all devices in a device group to a campaign. 1. In the EMM groups tab, select the device groups you want to assign to a campaign. 2. Click Actions > Assign campaign. The Select campaign pop-up shows only the active and scheduled campaigns. If you want to see all campaigns (including expired ones), click Clear Filters. The Select license pop-up shows the active licenses that have enough seats to accommodate all devices in your selected device group(s). If you want to see all licenses, click Clear Filters. 3. Select the campaign to assign, and click Done', metadata={'source': 'all_processed_data.json', 'seq_num': 204, 'title': 'Manage EMM groups', 'url': 'https://docs.samsungknox.com/admin/efota-one/emm-integration/manage-emm-groups', 'project': 'EFOTA', 'last_updated': '2023-07-26', 'family_tree': 'child', 'parent_id': '0fb0d98b-9e41-469f-b51f-62c532b65c90', 'id': 'd98e8d1a-12c8-4fcd-84d0-1ea475d271a9'}), 1.0), (Document(page_content='. Key & Value (iOS) - If you selected Yes in Managed App Setting, click Add and enter the key and value of a MDM setting you want to change. You can add one key and its value at a time. Ask the app developers about the key and value for the MDM settings. For example, if you want to add the ManagedAppConfig application and set its default URL to http://www.samsungsds.com, the key is the server URL and the value is http://www.samsungsds.com. Description - Enter a description for the application. Icon - Select the app icon image. Screenshot - Select screenshots of the app to provide a preview for Android device users. 5. Do one of the following: Click Save to save the information and return to the Application list. Click Save & Assign to save this information and proceed to assign the information. Continue on to the next step. 6. Assign the application. For more information, see Assigning internal applications', metadata={'source': 'all_processed_data.json', 'seq_num': 816, 'title': 'Add internal Android and iOS apps', 'url': 'https://docs.samsungknox.com/admin/knox-manage/configure/applications/add-applications/add-internal-android-and-ios-apps', 'project': 'KM', 'last_updated': '2023-07-26', 'family_tree': 'child', 'parent_id': '0bba5c03-8184-4ee3-bb3c-639469f04219', 'id': 'fb6aaca7-cf89-465b-906f-3700d274945c'}), 0.9900110776763913), (Document(page_content=\". Assign user credentials and a profile To assign user credentials and a profile: 1. Go to Devices > BULK ACTIONS and click ASSIGN USER CREDENTIALS AND PROFILE. 2. Under Upload devices list with user credentials, select a CSV file containing device IDs. If you're unsure how to format the CSV file, return to the BULK ACTIONS page and click View instructions under the ASSIGN USER CREDENTIALS AND PROFILE section. 3. (Optional) Select a new MDM profile from the Modify the MDM profile of selected devices list. The list also contains an option to Clear profiles from the device IDs in the uploaded CSV file. Consider using this action when you want to remove profile assignments from multiple devices in bulk. 4. Fill out Tags with any names associated with the devices. 5. Click SUBMIT. For information on adding new profiles or editing the configuration of existing profiles, see Profile configuration\", metadata={'source': 'all_processed_data.json', 'seq_num': 425, 'title': 'Configure devices', 'url': 'https://docs.samsungknox.com/admin/knox-mobile-enrollment/features/configure-devices', 'project': 'KME', 'last_updated': '2023-07-26', 'family_tree': 'child', 'parent_id': '0a6a15eb-a04a-4fd2-bb9b-73c2ca038b7b', 'id': '8d2030c0-ea63-4cdb-9dca-9a5fce1d5641'}), 0.9895831000359754), (Document(page_content='. For more information, see Adding VPP applications (managed distribution). Upload Redemption Code Upload the redeemable codes of the VPP applications if you purchased the applications through redeemable codes from the VPP website. For more information, see Adding VPP applications (redeemable codes). Assign Assign and apply the selected applications to group/organizations. For more information, see Assign applications. Update Update the selected applications. When updates are available for apps from Managed Google Play, Google Play Store, and Apple App Store, a Need Update label displays next to them in the Version column for easy identification. You can select and update multiple applications simultaneously. Modify Modify the selected application details. For more information, see Modify applications. Delete Delete the selected applications', metadata={'source': 'all_processed_data.json', 'seq_num': 838, 'title': 'View the application list', 'url': 'https://docs.samsungknox.com/admin/knox-manage/configure/applications/view-applications/view-the-application-list', 'project': 'KM', 'last_updated': '2023-07-26', 'family_tree': 'child', 'parent_id': 'db76f8c1-9b02-406e-8d1e-32288cba724e', 'id': '7b38c393-45e1-499c-a1cb-fa2b4ee7dc37'}), 0.9840961027973287), (Document(page_content='Basic message templates. The basic message templates are as follows: Template type Message type Template name Email Agent Installation Email_Agent Installation Administrator Authentication Email_Admin OTP Administrator Account Information Email_Admin ID Administrator Temporary Password Email_Admin Temporary Password User Temporary Password Email_User Password Reset Apple VPP Email_Apple VPP Invite: The email template for inviting VPP users Email_Apple VPP Redeem: The email template for installing purchased VPP applications through redeemable codes SMS Agent Installation User Credential Public Store Address Direct Installation KME Activation Address Administrator Authentication Admin OTP SMS Administrator Temporary Password Admin Temporary Password', metadata={'source': 'all_processed_data.json', 'seq_num': 809, 'title': 'Basic message templates', 'url': 'https://docs.samsungknox.com/admin/knox-manage/configure/advanced-settings/configure-message-template/basic-message-templates', 'project': 'KM', 'last_updated': '2023-07-26', 'family_tree': 'parent', 'parent_id': None, 'id': '85b73a25-3f9f-492b-b944-022bd27c49fe'}), 0.9774350253480353), (Document(page_content='Basic message templates. The basic message templates are as follows: Template type Message type Template name Email Agent Installation Email_Agent Installation Administrator Authentication Email_Admin OTP Administrator Account Information Email_Admin ID Administrator Temporary Password Email_Admin Temporary Password User Temporary Password Email_User Password Reset Apple VPP Email_Apple VPP Invite: The email template for inviting VPP users Email_Apple VPP Redeem: The email template for installing purchased VPP applications through redeemable codes SMS Agent Installation User Credential Public Store Address Direct Installation KME Activation Address Administrator Authentication Admin OTP SMS Administrator Temporary Password Admin Temporary Password', metadata={'source': 'all_processed_data.json', 'seq_num': 809, 'title': 'Basic message templates', 'url': 'https://docs.samsungknox.com/admin/knox-manage/configure/advanced-settings/configure-message-template/basic-message-templates', 'project': 'KM', 'last_updated': '2023-07-26', 'family_tree': 'child', 'parent_id': '85b73a25-3f9f-492b-b944-022bd27c49fe', 'id': 'd4995f2d-19fb-40e3-a622-5f2de53b506d'}), 0.9774350253480353), (Document(page_content=\". NOTE - You can't select a firmware version to apply when creating a test campaign. Instead, dummy firmware is applied by default. 6. Click Assign. 7. Click Create and Activate. The campaign is added to the Campaigns list. 8. Check the device for the dummy firmware update. If the campaign is applied successfully, the device status changes to Campaign Active. In the following example, the dummy firmware to be applied has the file extension .DM. 9. When you're done with your test campaign, revert the dummy firmware to regular firmware. 1. Go to Devices > All Devices. 2. Click Action > Unassign campaign. The device status changes to Enrolled and the dummy firmware is reverted to regular firmware.\", metadata={'source': 'all_processed_data.json', 'seq_num': 230, 'title': 'Create a test campaign', 'url': 'https://docs.samsungknox.com/admin/efota-one/features/create-a-campaign/create-a-test-campaign', 'project': 'EFOTA', 'last_updated': '2023-07-26', 'family_tree': 'child', 'parent_id': 'a87d58c0-887b-4456-bff9-2971e8604704', 'id': '84d46303-91ef-4704-af6e-0d4f5e5f69d1'}), 0.9760433697373793)]\n",
      "##############################\n",
      "similar_docs_keyword\n",
      "##############################\n",
      "[(Document(page_content=\". NOTE - You can't select a firmware version to apply when creating a test campaign. Instead, dummy firmware is applied by default. 6. Click Assign. 7. Click Create and Activate. The campaign is added to the Campaigns list. 8. Check the device for the dummy firmware update. If the campaign is applied successfully, the device status changes to Campaign Active. In the following example, the dummy firmware to be applied has the file extension .DM. 9. When you're done with your test campaign, revert the dummy firmware to regular firmware. 1. Go to Devices > All Devices. 2. Click Action > Unassign campaign. The device status changes to Enrolled and the dummy firmware is reverted to regular firmware.\", metadata={'source': 'all_processed_data.json', 'seq_num': 230, 'title': 'Create a test campaign', 'url': 'https://docs.samsungknox.com/admin/efota-one/features/create-a-campaign/create-a-test-campaign', 'project': 'EFOTA', 'last_updated': '2023-07-26', 'family_tree': 'child', 'parent_id': 'a87d58c0-887b-4456-bff9-2971e8604704', 'id': '84d46303-91ef-4704-af6e-0d4f5e5f69d1'}), 1.0), (Document(page_content='to activate Agent User Enrollment MDM (Device &#x2192; Server) Agent Request for check-in (Server &#x2192; Device) Agent Response for check-out (Server &#x2192; Device) Agent Request to activate MDM (Server &#x2192; Device) Agent Request for MDM profile (Server &#x2192; Device) Agent Request for SCEP profile (Server &#x2192; Device) Agent Request for token update (Server &#x2192; Device) Request to activate Agent User Enrollment MDM (Server &#x2192; Device) Confirm Enrollment (Knox) (Device &#x2192; Server) Confirm Enrollment (Knox) (Server &#x2192; Device) Generate OTP (One Time Password) Code EMM Enrollment (Device &#x2192; Server) EMM Enrollment (Server &#x2192; Device) EMM Enrollment Spec (Device &#x2192; Server) EMM Enrollment Spec (Server &#x2192; Device) Azure AD Device Sync Request Request for discovery URL (Device &#x2192; Server) Respond to the request for Discovery URL (Server &#x2192; Device) Respond to the request to set DM Client Request to verify Federated equipment (Device &#x2192;', metadata={'source': 'all_processed_data.json', 'seq_num': 781, 'title': 'Server audit events', 'url': 'https://docs.samsungknox.com/admin/knox-manage/appendix/list-of-audit-events/server-audit-events', 'project': 'KM', 'last_updated': '2023-07-26', 'family_tree': 'child', 'parent_id': '66455f42-d323-4265-af82-362139bed990', 'id': 'a424a205-ec93-4bf8-a822-18703d4b3e4e'}), 0.930276845657195), (Document(page_content='. Try to manually refresh the client on the device by executing a Force client refresh. If the problem persists, contact Samsung. Failed to install 762 Firmware installation has failed because the installation is terminated by the system. Try to manually refresh the client on the device by executing a Force client refresh. If the problem persists, contact Samsung. Failed to install 763 Firmware installation has failed because an unexpected error occurred. Try to manually refresh the client on the device by executing a Force client refresh. If the problem persists, contact Samsung. Failed to install 764 Firmware installation has failed because an error occurred during the delta firmware installation process. Try to manually refresh the client on the device by executing a Force client refresh. If the problem persists, contact Samsung. Failed to install 765 Firmware installation has failed because the dm-verity check failed in recovery mode', metadata={'source': 'all_processed_data.json', 'seq_num': 285, 'title': 'Error codes', 'url': 'https://docs.samsungknox.com/admin/efota-one/troubleshoot/error-codes', 'project': 'EFOTA', 'last_updated': '2023-08-15', 'family_tree': 'child', 'parent_id': '0c69f417-c45c-4ac6-be20-80718407c05c', 'id': '45c4d50a-bbaa-4ef3-9427-be5826a3efe0'}), 0.9231110849482723), (Document(page_content='. Try to manually refresh the client on the device by executing a Force client refresh. If the problem persists, contact Samsung. Failed to install 765 Firmware installation has failed because the dm-verity check failed in recovery mode. Try to manually refresh the client on the device by executing a Force client refresh. If the problem persists, contact Samsung. Failed to install 766 Firmware installation has failed because an update of the recovery area failed. Try to manually refresh the client on the device by executing a Force client refresh. If the problem persists, contact Samsung. Failed to install 767 Firmware installation has failed because an error occurred during the block-based update. Try to manually refresh the client on the device by executing a Force client refresh. If the problem persists, contact Samsung. Failed to install 768 Firmware installation has failed because the token in firmware verification failed', metadata={'source': 'all_processed_data.json', 'seq_num': 285, 'title': 'Error codes', 'url': 'https://docs.samsungknox.com/admin/efota-one/troubleshoot/error-codes', 'project': 'EFOTA', 'last_updated': '2023-08-15', 'family_tree': 'child', 'parent_id': '0c69f417-c45c-4ac6-be20-80718407c05c', 'id': '93b9fc49-f5b8-495f-89f9-48304c9eb953'}), 0.8511835350326947), (Document(page_content=\". SDP encryption Samsung Galaxy devices supporting Knox 3.3 and above are enabled to support Android's File Based Encryption (FBE) for Data-at-Rest. Data encryption is enforced across the device using: EXT4 encryption FBE mechanism, FIPS compliant hardware crypto module (AES256-XTS) Optionally, the external SD Card can be used with: dm-crypt (introduced with Android 11) or eCryptfs stacked file system, FIPS compliant Kernel crypto module (AES256-CBC). FBE keys are derived using a password entry, which is either the default hard-coded password or the device user's password used to unlock the device. While in the unlocked state, SDP works as follows: Encrypts sensitive data using a per-file File Encryption Key (FEK). These keys are encrypted with the SDPK.sym (Sensitive Data Protection Key, symmetric), which is encrypted by the SdpMasterKey. Keeps the SdpMasterKey in memory only while the device is unlocked, to allow decryption of the SDPK.sym and SDPK.pri (private)\", metadata={'source': 'all_processed_data.json', 'seq_num': 123, 'title': 'Sensitive Data Protection (SDP)', 'url': 'https://docs.samsungknox.com/admin/fundamentals/whitepaper/core-platform-security/sensitive-data-protection', 'project': 'USP', 'last_updated': '2023-07-26', 'family_tree': 'child', 'parent_id': '9365c8db-e1a9-4fc3-9e2f-273a357fce08', 'id': '4e038eba-c7e5-4277-a25a-0a98329a9479'}), 0.8328198723423198), (Document(page_content=\"Create a test campaign. Explains how to create a Knox E-FOTA test campaign A test campaign allows you to test the campaign policies using a dummy firmware version. When you're done with your test campaign, you can revert your devices back to your regular firmware by unassigning them from the test campaign. You can't apply a real campaign on a device that has dummy firmware. Devices synced to Knox E-FOTA from an EMM can't be assigned to a test campaign. 1. Sign in to the Knox Admin Portal. In the left sidebar, click Knox E-FOTA. 2. In the Campaigns tab, click Actions > Create Test Campaign. 3. Fill in the campaign details. #Basic Info Set a unique name for the campaign and a description of what's new in it. #Schedule , Campaign period - Set the timeframe when devices in the campaign can start to download and install the update. If you want the campaign period to run indefinitely, select Set a start date only. Firmware installation period - Set the timeframe within the campaign period when the devices in the campaign can start installing the update. This timeframe is based on the device's timezone. If you want to test a campaign immediately, set the firmware installation period to the following values: From: 00:00 , To: 24:00 Devices will start installation during this period, but there is no guarantee that installation will end within this period. Firmware download period - Set the timeframe within the campaign period when the devices in the campaign can start downloading the update. You can set devices to download anytime or you can use the same timeframe as the firmware installation period. Postpone installation - Select this option if you want to allow the device user to postpone the installation. Then, set the maximum number of times they're allowed to postpone it and the duration between reminders. You can also set a timer - if the device user doesn't act on an update reminder before the timer times out, the update is automatically installed. #Network and Speed Download network - Select the network(s) in which devices in the campaign can download the update. If you choose to allow downloads in any network (Wi-Fi or mobile), you can additionally do the following: Allow firmware download while roaming. Set the campaign to switch to Wi-Fi/Ethernet when the firmware exceeds a certain size. If needed, you can also control the download speed. You can also set download speed limits for up to 5 specific SSIDs #Device Condition Specify how much battery life a device must have to start installing the update. You can also prevent an installation from starting on devices that are not connected a charging dock. #Factory Reset Specify whether you want to block end users from performing a factory reset on the device. #Support Contact Details Enter a phone number and email address end users can contact for support. You can also set these values as the default contact information for future campaigns. 4. Click Assign Devices. 5. From the device list, select one or more devices to assign to the test campaign. NOTE - You can't select a firmware version to apply when creating a test campaign. Instead, dummy firmware is applied by default. 6. Click Assign. 7. Click Create and Activate. The campaign is added to the Campaigns list. 8. Check the device for the dummy firmware update. If the campaign is applied successfully, the device status changes to Campaign Active. In the following example, the dummy firmware to be applied has the file extension .DM. 9. When you're done with your test campaign, revert the dummy firmware to regular firmware. 1. Go to Devices > All Devices. 2. Click Action > Unassign campaign. The device status changes to Enrolled and the dummy firmware is reverted to regular firmware.\", metadata={'source': 'all_processed_data.json', 'seq_num': 230, 'title': 'Create a test campaign', 'url': 'https://docs.samsungknox.com/admin/efota-one/features/create-a-campaign/create-a-test-campaign', 'project': 'EFOTA', 'last_updated': '2023-07-26', 'family_tree': 'parent', 'parent_id': None, 'id': 'a87d58c0-887b-4456-bff9-2971e8604704'}), 0.6394890302568356), (Document(page_content='Sensitive Data Protection (SDP). This feature was deprecated in API level 33 with Knox SDK v3.7. Protecting Data-At-Rest (DAR) on mobile devices is a major concern. While the industry standard is to encrypt all the data on a device, that data is decrypted and accessible after the device boots successfully. This access process means that once a device is lost or stolen, a sophisticated attack can extract data as long as the device is still running, even if the device is locked. Samsung created Sensitive Data Protection (SDP) to address this specific issue. SDP\"meets the Mobile Device Fundamentals Protection Profile (MDFPP) requirements defined by the National Information Assurance Partnership (NIAP) for DAR, meaning that SDP\"is approved for use by the US\"government and military. How SDP works KPE protects user data on the device through Data-at-Rest encryption. Data remains encrypted on disk, and can only be decrypted when the device is powered on. Recovery of data decryption keys is tied to: device hardware, meaning data is recoverable only on the same device, device boot-time integrity measurements, a user credential dependent on configuration Additionally, a mechanism is provided to optionally mark data as sensitive, which subsequently cannot be decrypted while the device is in the locked state. Here are the two protection modes that KPE provides for Data-at-Rest: Protected - All files stored on the device are treated as Protected by default. Protected data is stored on the device file system as encrypted data, and is only decrypted when an application accesses the data. This mechanism provides the data-at-rest protection while the device is powered off. Even if the device is in the lock state, applications can access protected data. Sensitive - Files can also be optionally marked as sensitive, using the Sensitive Data Protection (SDP) mechanism. SDP uses a key management scheme which ensures sensitive files can only be decrypted in the unlocked state, by purging keys from RAM when the device is locked. However, SDP also provides the ability for new files to be written and encrypted in the locked state using public key cryptography. SDP encryption Samsung Galaxy devices supporting Knox 3.3 and above are enabled to support Android\\'s File Based Encryption (FBE) for Data-at-Rest. Data encryption is enforced across the device using: EXT4 encryption FBE mechanism, FIPS compliant hardware crypto module (AES256-XTS) Optionally, the external SD Card can be used with: dm-crypt (introduced with Android 11) or eCryptfs stacked file system, FIPS compliant Kernel crypto module (AES256-CBC). FBE keys are derived using a password entry, which is either the default hard-coded password or the device user\\'s password used to unlock the device. While in the unlocked state, SDP works as follows: Encrypts sensitive data using a per-file File Encryption Key (FEK). These keys are encrypted with the SDPK.sym (Sensitive Data Protection Key, symmetric), which is encrypted by the SdpMasterKey. Keeps the SdpMasterKey in memory only while the device is unlocked, to allow decryption of the SDPK.sym and SDPK.pri (private). Encrypts the SdpMasterKey using the key that is protected by both ephemeral keys derived from the device user\\'s password and a key chaining to the Root Encryption Key (REK) using the Keystore. Clears the SdpMasterKey when it transitions to the locked state, and re-derives it when the user unlocks the device or Work container. While in the locked state, SDP handles apps writes of sensitive data differently: Rejects app attempts to open sensitive data files, as KPE no longer has the keys needed to retrieve sensitive data in memory and cannot re-derive them until the user unlocks the device or Work container. Encrypts any new sensitive app data by using both a: per-user sensitive data ECDH asymmetric key pair (SDPK.pri/pub) , per-file ECDH key pair [DataK.pri/pub] generated on behalf of the app, Protects the private portion of the ECDH key pair (SPDK', metadata={'source': 'all_processed_data.json', 'seq_num': 123, 'title': 'Sensitive Data Protection (SDP)', 'url': 'https://docs.samsungknox.com/admin/fundamentals/whitepaper/core-platform-security/sensitive-data-protection', 'project': 'USP', 'last_updated': '2023-07-26', 'family_tree': 'parent', 'parent_id': None, 'id': '9365c8db-e1a9-4fc3-9e2f-273a357fce08'}), 0.5185484936461491)]\n",
      "##############################\n",
      "similar_docs\n",
      "##############################\n",
      "[(Document(page_content='to activate Agent User Enrollment MDM (Device &#x2192; Server) Agent Request for check-in (Server &#x2192; Device) Agent Response for check-out (Server &#x2192; Device) Agent Request to activate MDM (Server &#x2192; Device) Agent Request for MDM profile (Server &#x2192; Device) Agent Request for SCEP profile (Server &#x2192; Device) Agent Request for token update (Server &#x2192; Device) Request to activate Agent User Enrollment MDM (Server &#x2192; Device) Confirm Enrollment (Knox) (Device &#x2192; Server) Confirm Enrollment (Knox) (Server &#x2192; Device) Generate OTP (One Time Password) Code EMM Enrollment (Device &#x2192; Server) EMM Enrollment (Server &#x2192; Device) EMM Enrollment Spec (Device &#x2192; Server) EMM Enrollment Spec (Server &#x2192; Device) Azure AD Device Sync Request Request for discovery URL (Device &#x2192; Server) Respond to the request for Discovery URL (Server &#x2192; Device) Respond to the request to set DM Client Request to verify Federated equipment (Device &#x2192;', metadata={'source': 'all_processed_data.json', 'seq_num': 781, 'title': 'Server audit events', 'url': 'https://docs.samsungknox.com/admin/knox-manage/appendix/list-of-audit-events/server-audit-events', 'project': 'KM', 'last_updated': '2023-07-26', 'family_tree': 'child', 'parent_id': '66455f42-d323-4265-af82-362139bed990', 'id': 'a424a205-ec93-4bf8-a822-18703d4b3e4e'}), 0.038404908031225204), (Document(page_content=\". NOTE - You can't select a firmware version to apply when creating a test campaign. Instead, dummy firmware is applied by default. 6. Click Assign. 7. Click Create and Activate. The campaign is added to the Campaigns list. 8. Check the device for the dummy firmware update. If the campaign is applied successfully, the device status changes to Campaign Active. In the following example, the dummy firmware to be applied has the file extension .DM. 9. When you're done with your test campaign, revert the dummy firmware to regular firmware. 1. Go to Devices > All Devices. 2. Click Action > Unassign campaign. The device status changes to Enrolled and the dummy firmware is reverted to regular firmware.\", metadata={'source': 'all_processed_data.json', 'seq_num': 230, 'title': 'Create a test campaign', 'url': 'https://docs.samsungknox.com/admin/efota-one/features/create-a-campaign/create-a-test-campaign', 'project': 'EFOTA', 'last_updated': '2023-07-26', 'family_tree': 'child', 'parent_id': 'a87d58c0-887b-4456-bff9-2971e8604704', 'id': '84d46303-91ef-4704-af6e-0d4f5e5f69d1'}), 0.005787748843431473), (Document(page_content=\". Assign user credentials and a profile To assign user credentials and a profile: 1. Go to Devices > BULK ACTIONS and click ASSIGN USER CREDENTIALS AND PROFILE. 2. Under Upload devices list with user credentials, select a CSV file containing device IDs. If you're unsure how to format the CSV file, return to the BULK ACTIONS page and click View instructions under the ASSIGN USER CREDENTIALS AND PROFILE section. 3. (Optional) Select a new MDM profile from the Modify the MDM profile of selected devices list. The list also contains an option to Clear profiles from the device IDs in the uploaded CSV file. Consider using this action when you want to remove profile assignments from multiple devices in bulk. 4. Fill out Tags with any names associated with the devices. 5. Click SUBMIT. For information on adding new profiles or editing the configuration of existing profiles, see Profile configuration\", metadata={'source': 'all_processed_data.json', 'seq_num': 425, 'title': 'Configure devices', 'url': 'https://docs.samsungknox.com/admin/knox-mobile-enrollment/features/configure-devices', 'project': 'KME', 'last_updated': '2023-07-26', 'family_tree': 'child', 'parent_id': '0a6a15eb-a04a-4fd2-bb9b-73c2ca038b7b', 'id': '8d2030c0-ea63-4cdb-9dca-9a5fce1d5641'}), 0.0017837384948506951), (Document(page_content='. Key & Value (iOS) - If you selected Yes in Managed App Setting, click Add and enter the key and value of a MDM setting you want to change. You can add one key and its value at a time. Ask the app developers about the key and value for the MDM settings. For example, if you want to add the ManagedAppConfig application and set its default URL to http://www.samsungsds.com, the key is the server URL and the value is http://www.samsungsds.com. Description - Enter a description for the application. Icon - Select the app icon image. Screenshot - Select screenshots of the app to provide a preview for Android device users. 5. Do one of the following: Click Save to save the information and return to the Application list. Click Save & Assign to save this information and proceed to assign the information. Continue on to the next step. 6. Assign the application. For more information, see Assigning internal applications', metadata={'source': 'all_processed_data.json', 'seq_num': 816, 'title': 'Add internal Android and iOS apps', 'url': 'https://docs.samsungknox.com/admin/knox-manage/configure/applications/add-applications/add-internal-android-and-ios-apps', 'project': 'KM', 'last_updated': '2023-07-26', 'family_tree': 'child', 'parent_id': '0bba5c03-8184-4ee3-bb3c-639469f04219', 'id': 'fb6aaca7-cf89-465b-906f-3700d274945c'}), 0.0008945291046984494), (Document(page_content='. Try to manually refresh the client on the device by executing a Force client refresh. If the problem persists, contact Samsung. Failed to install 762 Firmware installation has failed because the installation is terminated by the system. Try to manually refresh the client on the device by executing a Force client refresh. If the problem persists, contact Samsung. Failed to install 763 Firmware installation has failed because an unexpected error occurred. Try to manually refresh the client on the device by executing a Force client refresh. If the problem persists, contact Samsung. Failed to install 764 Firmware installation has failed because an error occurred during the delta firmware installation process. Try to manually refresh the client on the device by executing a Force client refresh. If the problem persists, contact Samsung. Failed to install 765 Firmware installation has failed because the dm-verity check failed in recovery mode', metadata={'source': 'all_processed_data.json', 'seq_num': 285, 'title': 'Error codes', 'url': 'https://docs.samsungknox.com/admin/efota-one/troubleshoot/error-codes', 'project': 'EFOTA', 'last_updated': '2023-08-15', 'family_tree': 'child', 'parent_id': '0c69f417-c45c-4ac6-be20-80718407c05c', 'id': '45c4d50a-bbaa-4ef3-9427-be5826a3efe0'}), 0.0007675476372241974)]\n",
      "\n",
      "==========  Results  ==========\n",
      "\n",
      "1. question: how to vefify DM\n",
      "2. # documents: 5\n",
      "3. Documents: \n",
      "\n",
      "-----------------------------------------------\n",
      "1. Chunk: 1012 Characters\n",
      "-----------------------------------------------\n",
      "to activate Agent User Enrollment MDM (Device &#x2192; Server) Agent Request for check-in (Server\n",
      "&#x2192; Device) Agent Response for check-out (Server &#x2192; Device) Agent Request to activate MDM\n",
      "(Server &#x2192; Device) Agent Request for MDM profile (Server &#x2192; Device) Agent Request for\n",
      "SCEP profile (Server &#x2192; Device) Agent Request for token update (Server &#x2192; Device)\n",
      "Request to activate Agent User Enrollment MDM (Server &#x2192; Device) Confirm Enrollment (Knox)\n",
      "(Device &#x2192; Server) Confirm Enrollment (Knox) (Server &#x2192; Device) Generate OTP (One Time\n",
      "Password) Code EMM Enrollment (Device &#x2192; Server) EMM Enrollment (Server &#x2192; Device) EMM\n",
      "Enrollment Spec (Device &#x2192; Server) EMM Enrollment Spec (Server &#x2192; Device) Azure AD\n",
      "Device Sync Request Request for discovery URL (Device &#x2192; Server) Respond to the request for\n",
      "Discovery URL (Server &#x2192; Device) Respond to the request to set DM Client Request to verify\n",
      "Federated equipment (Device &#x2192;\n",
      "metadata:\n",
      " {'source': 'all_processed_data.json', 'seq_num': 781, 'title': 'Server audit events', 'url':\n",
      "'https://docs.samsungknox.com/admin/knox-manage/appendix/list-of-audit-events/server-audit-events',\n",
      "'project': 'KM', 'last_updated': '2023-07-26', 'family_tree': 'child', 'parent_id':\n",
      "'66455f42-d323-4265-af82-362139bed990', 'id': 'a424a205-ec93-4bf8-a822-18703d4b3e4e'}\n",
      "-----------------------------------------------\n",
      "2. Chunk: 703 Characters\n",
      "-----------------------------------------------\n",
      ". NOTE - You can't select a firmware version to apply when creating a test campaign. Instead, dummy\n",
      "firmware is applied by default. 6. Click Assign. 7. Click Create and Activate. The campaign is added\n",
      "to the Campaigns list. 8. Check the device for the dummy firmware update. If the campaign is applied\n",
      "successfully, the device status changes to Campaign Active. In the following example, the dummy\n",
      "firmware to be applied has the file extension .DM. 9. When you're done with your test campaign,\n",
      "revert the dummy firmware to regular firmware. 1. Go to Devices > All Devices. 2. Click Action >\n",
      "Unassign campaign. The device status changes to Enrolled and the dummy firmware is reverted to\n",
      "regular firmware.\n",
      "metadata:\n",
      " {'source': 'all_processed_data.json', 'seq_num': 230, 'title': 'Create a test campaign', 'url':\n",
      "'https://docs.samsungknox.com/admin/efota-one/features/create-a-campaign/create-a-test-campaign',\n",
      "'project': 'EFOTA', 'last_updated': '2023-07-26', 'family_tree': 'child', 'parent_id':\n",
      "'a87d58c0-887b-4456-bff9-2971e8604704', 'id': '84d46303-91ef-4704-af6e-0d4f5e5f69d1'}\n",
      "-----------------------------------------------\n",
      "3. Chunk: 903 Characters\n",
      "-----------------------------------------------\n",
      ". Assign user credentials and a profile To assign user credentials and a profile: 1. Go to Devices >\n",
      "BULK ACTIONS and click ASSIGN USER CREDENTIALS AND PROFILE. 2. Under Upload devices list with user\n",
      "credentials, select a CSV file containing device IDs. If you're unsure how to format the CSV file,\n",
      "return to the BULK ACTIONS page and click View instructions under the ASSIGN USER CREDENTIALS AND\n",
      "PROFILE section. 3. (Optional) Select a new MDM profile from the Modify the MDM profile of selected\n",
      "devices list. The list also contains an option to Clear profiles from the device IDs in the uploaded\n",
      "CSV file. Consider using this action when you want to remove profile assignments from multiple\n",
      "devices in bulk. 4. Fill out Tags with any names associated with the devices. 5. Click SUBMIT. For\n",
      "information on adding new profiles or editing the configuration of existing profiles, see Profile\n",
      "configuration\n",
      "metadata:\n",
      " {'source': 'all_processed_data.json', 'seq_num': 425, 'title': 'Configure devices', 'url':\n",
      "'https://docs.samsungknox.com/admin/knox-mobile-enrollment/features/configure-devices', 'project':\n",
      "'KME', 'last_updated': '2023-07-26', 'family_tree': 'child', 'parent_id':\n",
      "'0a6a15eb-a04a-4fd2-bb9b-73c2ca038b7b', 'id': '8d2030c0-ea63-4cdb-9dca-9a5fce1d5641'}\n",
      "-----------------------------------------------\n",
      "4. Chunk: 920 Characters\n",
      "-----------------------------------------------\n",
      ". Key & Value (iOS) - If you selected Yes in Managed App Setting, click Add and enter the key and\n",
      "value of a MDM setting you want to change. You can add one key and its value at a time. Ask the app\n",
      "developers about the key and value for the MDM settings. For example, if you want to add the\n",
      "ManagedAppConfig application and set its default URL to http://www.samsungsds.com, the key is the\n",
      "server URL and the value is http://www.samsungsds.com. Description - Enter a description for the\n",
      "application. Icon - Select the app icon image. Screenshot - Select screenshots of the app to provide\n",
      "a preview for Android device users. 5. Do one of the following: Click Save to save the information\n",
      "and return to the Application list. Click Save & Assign to save this information and proceed to\n",
      "assign the information. Continue on to the next step. 6. Assign the application. For more\n",
      "information, see Assigning internal applications\n",
      "metadata:\n",
      " {'source': 'all_processed_data.json', 'seq_num': 816, 'title': 'Add internal Android and iOS apps',\n",
      "'url': 'https://docs.samsungknox.com/admin/knox-manage/configure/applications/add-applications/add-\n",
      "internal-android-and-ios-apps', 'project': 'KM', 'last_updated': '2023-07-26', 'family_tree':\n",
      "'child', 'parent_id': '0bba5c03-8184-4ee3-bb3c-639469f04219', 'id':\n",
      "'fb6aaca7-cf89-465b-906f-3700d274945c'}\n",
      "-----------------------------------------------\n",
      "5. Chunk: 951 Characters\n",
      "-----------------------------------------------\n",
      ". Try to manually refresh the client on the device by executing a Force client refresh. If the\n",
      "problem persists, contact Samsung. Failed to install 762 Firmware installation has failed because\n",
      "the installation is terminated by the system. Try to manually refresh the client on the device by\n",
      "executing a Force client refresh. If the problem persists, contact Samsung. Failed to install 763\n",
      "Firmware installation has failed because an unexpected error occurred. Try to manually refresh the\n",
      "client on the device by executing a Force client refresh. If the problem persists, contact Samsung.\n",
      "Failed to install 764 Firmware installation has failed because an error occurred during the delta\n",
      "firmware installation process. Try to manually refresh the client on the device by executing a Force\n",
      "client refresh. If the problem persists, contact Samsung. Failed to install 765 Firmware\n",
      "installation has failed because the dm-verity check failed in recovery mode\n",
      "metadata:\n",
      " {'source': 'all_processed_data.json', 'seq_num': 285, 'title': 'Error codes', 'url':\n",
      "'https://docs.samsungknox.com/admin/efota-one/troubleshoot/error-codes', 'project': 'EFOTA',\n",
      "'last_updated': '2023-08-15', 'family_tree': 'child', 'parent_id':\n",
      "'0c69f417-c45c-4ac6-be20-80718407c05c', 'id': '45c4d50a-bbaa-4ef3-9427-be5826a3efe0'}\n"
     ]
    }
   ],
   "source": [
    "query = \"how to vefify DM\"\n",
    "search_hybrid_result = opensearch_hybrid_retriever.get_relevant_documents(query)\n",
    "\n",
    "print(\"\\n==========  Results  ==========\\n\")\n",
    "print(f'1. question: {query}')\n",
    "print(f'2. # documents: {len(search_hybrid_result)}')\n",
    "print(\"3. Documents: \\n\")\n",
    "\n",
    "show_context_used(search_hybrid_result)"
   ]
  },
  {
   "cell_type": "markdown",
   "id": "a981abe7-5208-48f5-a9cc-8c557e9941ca",
   "metadata": {},
   "source": [
    "## 5. RAG using RetrievalQA powered by LangChain"
   ]
  },
  {
   "cell_type": "code",
   "execution_count": 329,
   "id": "08cf6d2b-451b-499c-aec2-bb6f5abafbb0",
   "metadata": {
    "tags": []
   },
   "outputs": [],
   "source": [
    "from utils.rag import prompt_repo\n",
    "from utils.rag import run_RetrievalQA\n",
    "from langchain.prompts import PromptTemplate"
   ]
  },
  {
   "cell_type": "markdown",
   "id": "b490df1f-8113-4dd1-a578-a3e1a6918fde",
   "metadata": {
    "tags": []
   },
   "source": [
    "### Prompting\n",
    "- [TIP] Prompt의 instruction의 경우 한글보다 영어로 했을 때 더 좋은 결과를 얻을 수 있습니다."
   ]
  },
  {
   "cell_type": "code",
   "execution_count": 330,
   "id": "0a68b4bf-8fc5-45a6-80cf-2bc059d4e389",
   "metadata": {
    "tags": []
   },
   "outputs": [],
   "source": [
    "PROMPT = prompt_repo.get_qa(prompt_type=\"answer_only\") # [\"answer_only\", \"answer_with_ref\", \"original\"]"
   ]
  },
  {
   "cell_type": "code",
   "execution_count": 331,
   "id": "cbb60f9d-3594-44ad-afca-e89feea8e29a",
   "metadata": {
    "tags": []
   },
   "outputs": [
    {
     "name": "stdout",
     "output_type": "stream",
     "text": [
      "('\\n'\n",
      " '            \\n'\n",
      " '\\n'\n",
      " 'Human:\\n'\n",
      " '            You are a master answer bot designed to answer software '\n",
      " \"developer's questions.\\n\"\n",
      " \"            I'm going to give you a context. Read the context carefully, \"\n",
      " \"because I'm going to ask you a question about it.\\n\"\n",
      " '\\n'\n",
      " '            Here is the context: <context>{context}</context>\\n'\n",
      " '            \\n'\n",
      " '            First, find a few paragraphs or sentences from the context that '\n",
      " 'are most relevant to answering the question.\\n'\n",
      " '            Then, answer the question as much as you can.\\n'\n",
      " '\\n'\n",
      " '            Skip the preamble and go straight into the answer.\\n'\n",
      " \"            Don't insert any XML tag such as <context> and </context> when \"\n",
      " 'answering.\\n'\n",
      " '            \\n'\n",
      " '            Here is the question: <question>{question}</question>\\n'\n",
      " '\\n'\n",
      " '            If the question cannot be answered by the context, say \"No '\n",
      " 'relevant context\".\\n'\n",
      " '            \\n'\n",
      " '\\n'\n",
      " 'Assistant: Here is the answer. ')\n"
     ]
    }
   ],
   "source": [
    "pprint (PROMPT.template)"
   ]
  },
  {
   "cell_type": "markdown",
   "id": "c66157a6-aec8-4555-a90f-1178e6f4f6e0",
   "metadata": {},
   "source": [
    "### Update Search Params (Optional)"
   ]
  },
  {
   "cell_type": "code",
   "execution_count": 332,
   "id": "64df2daf-8b42-472a-885f-97320ee98132",
   "metadata": {
    "tags": []
   },
   "outputs": [],
   "source": [
    "from langchain.chains import RetrievalQA"
   ]
  },
  {
   "cell_type": "code",
   "execution_count": 334,
   "id": "d2697230-6962-43d8-8917-ba9daa4295bb",
   "metadata": {
    "tags": []
   },
   "outputs": [],
   "source": [
    "opensearch_hybrid_retriever.update_search_params(\n",
    "    k=6,\n",
    "    minimum_should_match=0,\n",
    "    filter=[\n",
    "        #{'term': {'metadata.family_tree': 'child'}},\n",
    "    ],\n",
    "    reranker=True,\n",
    "    reranker_endpoint_name=endpoint_name,\n",
    "    rag_fusion=False,\n",
    "    #hyde=True,\n",
    "    parent_document=False, # enable parent document\n",
    "    verbose=False\n",
    ")"
   ]
  },
  {
   "cell_type": "markdown",
   "id": "aee26c22-b674-4f4f-a87b-29508e336fda",
   "metadata": {},
   "source": [
    "### Request"
   ]
  },
  {
   "cell_type": "code",
   "execution_count": 335,
   "id": "95fa61d3-9256-432a-96a3-2c696c97ea68",
   "metadata": {
    "tags": []
   },
   "outputs": [],
   "source": [
    "qa = RetrievalQA.from_chain_type(\n",
    "    llm=llm_text,\n",
    "    chain_type=\"stuff\",\n",
    "    retriever=opensearch_hybrid_retriever,\n",
    "    return_source_documents=True,\n",
    "    chain_type_kwargs={\n",
    "        \"prompt\": PROMPT,\n",
    "        \"verbose\": False,\n",
    "    },\n",
    "    verbose=False\n",
    ")"
   ]
  },
  {
   "cell_type": "code",
   "execution_count": 336,
   "id": "390ad324-40b3-4bcb-92b9-50eb080492a5",
   "metadata": {
    "tags": []
   },
   "outputs": [
    {
     "name": "stdout",
     "output_type": "stream",
     "text": [
      "\n",
      "\n",
      "To add an admin to Knox Mobile Enrollment:\n",
      "\n",
      "1. Select Administrator & Roles from the left-hand navigation menu. Ensure the ADMINISTRATORS tab is selected.\n",
      "2. Select INVITE ADMINISTRATOR from the upper, right-hand side of the screen. \n",
      "3. Provide the following details:\n",
      "    - First name \n",
      "    - Last name\n",
      "    - Email \n",
      "    - Role - Use the drop-down menu to assign this new administrator a role appropriate to their intended administrative function\n",
      "\n",
      "4. Once the invitation is sent, the new admin will need to verify their Samsung Account details before accessing the Knox Mobile Enrollment console."
     ]
    }
   ],
   "source": [
    "query = \"How do I add an admin to Knox Mobile Enrollment?\"\n",
    "#query = \"내 조직을 위해 Knox Mobile 등록을 설정하려면 어떻게 해야 하나요?\"\n",
    "response = qa(query)"
   ]
  },
  {
   "cell_type": "code",
   "execution_count": 337,
   "id": "01e77dad-dc19-416b-80e7-19fac3b736a5",
   "metadata": {
    "tags": []
   },
   "outputs": [
    {
     "name": "stdout",
     "output_type": "stream",
     "text": [
      "##################################\n",
      "query:  How do I add an admin to Knox Mobile Enrollment?\n",
      "##################################\n",
      "\u001b[34m\n",
      "\n",
      "### Answer ###\u001b[0m\n",
      "\n",
      "\n",
      "To add an admin to Knox Mobile Enrollment:\n",
      "\n",
      "1. Select Administrator & Roles from the left-hand navigation menu. Ensure the ADMINISTRATORS tab is\n",
      "selected.\n",
      "2. Select INVITE ADMINISTRATOR from the upper, right-hand side of the screen.\n",
      "3. Provide the following details:\n",
      "    - First name\n",
      "    - Last name\n",
      "    - Email\n",
      "    - Role - Use the drop-down menu to assign this new administrator a role appropriate to their\n",
      "intended administrative function\n",
      "\n",
      "4. Once the invitation is sent, the new admin will need to verify their Samsung Account details\n",
      "before accessing the Knox Mobile Enrollment console.\n",
      "\u001b[32m\n",
      "\n",
      "### Contexts ###\u001b[0m\n",
      "-----------------------------------------------\n",
      "1. Chunk: 1007 Characters\n",
      "-----------------------------------------------\n",
      "Add an admin. Knox Mobile Enrollment allows you to invite and manage admins, as well as assign\n",
      "requisite privileges and roles needed to complete an admin invitation. Specifically, a super admin -\n",
      "the only super admin associated with your tenant - creates the account and assigns specific roles\n",
      "and permissions to individual sub-admins as needed. In doing so, admins with their own unique set of\n",
      "permissions are assigned new roles that map to their current permissions. If needed, you can create\n",
      "new roles - beyond what the migrated admins are currently assigned - based on a list of permissions.\n",
      "Invite an admin 1. You must create a Samsung account before you create an admin account. 2. You must\n",
      "first create a role before you invite an admin to that role. To invite an admin: 1. On the\n",
      "Administrator and Roles page on the left navigation pane, open the Administrators tab. 2. Click\n",
      "Invite administrator. 3. Enter the following information: First name - Provide the first name of the\n",
      "administrator resource\n",
      "metadata:\n",
      " {'source': 'all_processed_data.json', 'seq_num': 442, 'title': 'Add an admin', 'url':\n",
      "'https://docs.samsungknox.com/admin/knox-mobile-enrollment/how-to-guides/add-an-admin', 'project':\n",
      "'KME', 'last_updated': '2023-09-18', 'family_tree': 'child', 'parent_id':\n",
      "'9f1afff6-e1f9-4288-8c02-e5db815675ad', 'id': 'b7d382b4-5fab-4e5b-b933-b06979187e86'}\n",
      "-----------------------------------------------\n",
      "2. Chunk: 904 Characters\n",
      "-----------------------------------------------\n",
      "Add an administrator. You can send email invitations to add super admins, sub-admins, service\n",
      "admins, or read-only admins to the Knox Manage console. Add an admin To add an admin account: 1. Go\n",
      "to Setting > Administrator in the Knox Manage console. 2. On the Administrator page, click Add. 3.\n",
      "On the Add Administrator page, enter the following information: Administrator Type - Select how to\n",
      "add an admin: New - Create a new admin account. EMM User - Select an existing user to promote to the\n",
      "admin role. Admin ID - Enter an ID for the admin. Admin Name - Enter the admin name. Email - Enter\n",
      "the admin's email address. Mobile Number - Enter the mobile phone number of the admin. Role - Select\n",
      "the admin's role. Menu - Select the menu options that the admin can access. Super admins have full\n",
      "access to all menus. Read Only admins have irrevocable read-only access to all the menus, except the\n",
      "Report menu\n",
      "metadata:\n",
      " {'source': 'all_processed_data.json', 'seq_num': 803, 'title': 'Add an administrator', 'url':\n",
      "'https://docs.samsungknox.com/admin/knox-manage/configure/advanced-settings/configure-administrator-\n",
      "accounts/add-an-administrator', 'project': 'KM', 'last_updated': '2023-07-26', 'family_tree':\n",
      "'child', 'parent_id': 'ffeea369-7435-4839-8506-2af8bcc423cf', 'id':\n",
      "'aad70dbe-f84c-464a-bb3e-872593623707'}\n",
      "-----------------------------------------------\n",
      "3. Chunk: 613 Characters\n",
      "-----------------------------------------------\n",
      "How do I change the information displayed on the Knox Mobile Enrollment device splash screen?. To\n",
      "change the Company name, address or the support information that is displayed to users while\n",
      "initiating enrollment with Knox Mobile Enrollment, follow the steps below. 1. With your primary\n",
      "Admin account, sign in to SamsungKnox.com 2. On the Dashboard, click on Launch under KNOX Mobile\n",
      "Enrollment. 3. On the following page, in the top right corner, click on the account ID. 4. Click on\n",
      "Manage Support Information. 5. On the following page you can change the company name, address and\n",
      "Support email/telephone number.\n",
      "metadata:\n",
      " {'source': 'all_processed_data.json', 'seq_num': 539, 'title': 'How do I change the information\n",
      "displayed on the Knox Mobile Enrollment device splash screen?', 'url':\n",
      "'https://docs.samsungknox.com/admin/knox-mobile-enrollment/kbas/kba-115013833268', 'project': 'KME',\n",
      "'last_updated': '2023-07-26', 'family_tree': 'child', 'parent_id':\n",
      "'a302cbd2-1f4e-44f3-82e9-2a8e31b21f7f', 'id': '852087bc-2a6c-498d-a9a2-f63f1f85a230'}\n",
      "-----------------------------------------------\n",
      "4. Chunk: 1003 Characters\n",
      "-----------------------------------------------\n",
      "How to change the support information displayed on the Knox Mobile Enrollment device splash screen.\n",
      "This article guides you through the steps on how to change the support information displayed on the\n",
      "end user devices during the KME enrollment process. How do I change the support information\n",
      "displayed on the Knox Mobile Enrollment device splash screen? You can change the company name,\n",
      "address, and support contact details that are displayed to users while initiating enrollment with\n",
      "Knox Mobile Enrollment by following the steps below. 1. Sign in to SamsungKnox.com with the super\n",
      "admin of the account. 2. From the Knox Dashboard, select the Knox Mobile Enrollment tile. 3. From\n",
      "the KME console, in the top right corner, click on the circular account ID icon. 4. Select Manage\n",
      "services & preferences. 5. On the following page, under the Knox Mobile Enrollment subheader, select\n",
      "DEFAULT SUPPORT INFORMATION. 6. On this page, you can change the company name, address, and support\n",
      "email/telephone number.\n",
      "metadata:\n",
      " {'source': 'all_processed_data.json', 'seq_num': 550, 'title': 'How to change the support\n",
      "information displayed on the Knox Mobile Enrollment device splash screen', 'url':\n",
      "'https://docs.samsungknox.com/admin/knox-mobile-enrollment/kbas/kba-548-change-support-info-kme-\n",
      "spash-screen', 'project': 'KME', 'last_updated': '2023-07-26', 'family_tree': 'parent', 'parent_id':\n",
      "None, 'id': '2145067b-e75e-47d7-8fab-b0b93c7c4833'}\n",
      "-----------------------------------------------\n",
      "5. Chunk: 4053 Characters\n",
      "-----------------------------------------------\n",
      "Add an admin. This topic describes how to invite and manage admins, as well as assign the required\n",
      "roles and permissions needed to complete an admin invitation. For an overview of role-based access\n",
      "control and how it impacts an administrator invitation, go to: Role-based access control. Invite and\n",
      "manage admins Only selected and approved IT admins can enroll devices on behalf of customers. Invite\n",
      "IT admins from within the Knox Mobile Enrollment portal as needed, and assign them unique enrollment\n",
      "services and permissions. When an admin supporting multiple services applies to KME, they must be\n",
      "approved by an existing KME Samsung Admin, regardless of other existing services the applicant admin\n",
      "may already support. 1. Select Administrator & Roles from the left-hand navigation menu. Ensure the\n",
      "ADMINISTRATORS tab is selected. 2. Select INVITE ADMINISTRATOR from the upper, right-hand side of\n",
      "the screen. A different Invite administrator screen could display stating that before an\n",
      "administrator can be invited a role must be first created and available for assignment. Ensure\n",
      "appropriate roles and permissions are created and available before proceeding with an administrator\n",
      "invitation. If a role is required, proceed to step 3. Otherwise, proceed to step 4. 3. If a role is\n",
      "required to complete an administrator invitation, select the ROLES tab from the top of the\n",
      "Administrators & Roles screen, then select the CREATE ROLE button. Most permission categories within\n",
      "the Create role screen have a View only option that only permit an admin with this role to view\n",
      "items with no configuration, device or reseller administration permitted. New roles have the view\n",
      "only permission enabled by default. Existing roles that inherit a View only permission have it\n",
      "turned off by default, to prevent issues. If creating a role for a pending administrator invitation,\n",
      "provide the required Role name and an optional Description. Refer to the Permissions portion of the\n",
      "screen and enable then select additional permissions by category as required beyond the basic\n",
      "permissions assigned by default. The Invite and manage administrators permission can only be\n",
      "assigned by an administrator that themselves has that specific permission enabled. A Super Admin or\n",
      "an Admin with Admins' permissions can invite an admin belonging to a different service to a role in\n",
      "their service. Select the SAVE button to continue. If the user does not have the Assign with profile\n",
      "and manage tags permission enabled, all MDM profile options, except for Clear profile, will be\n",
      "disabled within the Configure devices pop (available from the ACTIONS drop-down menu within the\n",
      "Devices > UPLOADS screen). Enable Allow access to Knox Deployment Application to use the Knox\n",
      "Deployment App (KDA) exclusively for device enrollment into KME, without the use of the KME console.\n",
      "When relying on the KDA without the KME console an admin must login to the KDA, choose a service\n",
      "(KME, KC, KG, etc.), select a profile, pair the primary/admin device with a target device, and\n",
      "assign the profile to the target device. For more information on using the KDA, go to: Knox\n",
      "Deployment App (KDA). 4. Provide the following to complete an administrator invitation: First name -\n",
      "Provide the first name of the administrator resource. Last name - Provide the last name of the\n",
      "administrator resource. Email - If this email is not already associated with a Samsung Account, the\n",
      "user will have to create a Samsung Account before logging into Knox Mobile Enrollment. The creation\n",
      "of a Samsung account is required before an administrative account can be created. Samsung Knox does\n",
      "not support personal email addresses for _new_ Knox account requests that have not been registered\n",
      "as a Samsung account. If the administrator's email is already associated with an active\n",
      "samsungknox.com account, the invitation will fail with an error. Contact Knox Support for assistance\n",
      "in resolving the error. Role - Use the drop-down menu to assign this new administrator a role\n",
      "appropriate to their intended administrative function\n",
      "metadata:\n",
      " {'source': 'all_processed_data.json', 'seq_num': 423, 'title': 'Add an admin', 'url':\n",
      "'https://docs.samsungknox.com/admin/knox-mobile-enrollment/features/add-an-admin', 'project': 'KME',\n",
      "'last_updated': '2023-07-26', 'family_tree': 'parent', 'parent_id': None, 'id':\n",
      "'4fdea908-23d4-43e1-8017-5ae3320a7c70'}\n",
      "-----------------------------------------------\n",
      "6. Chunk: 4035 Characters\n",
      "-----------------------------------------------\n",
      "Add an administrator. You can send email invitations to add super admins, sub-admins, service\n",
      "admins, or read-only admins to the Knox Manage console. Add an admin To add an admin account: 1. Go\n",
      "to Setting > Administrator in the Knox Manage console. 2. On the Administrator page, click Add. 3.\n",
      "On the Add Administrator page, enter the following information: Administrator Type - Select how to\n",
      "add an admin: New - Create a new admin account. EMM User - Select an existing user to promote to the\n",
      "admin role. Admin ID - Enter an ID for the admin. Admin Name - Enter the admin name. Email - Enter\n",
      "the admin's email address. Mobile Number - Enter the mobile phone number of the admin. Role - Select\n",
      "the admin's role. Menu - Select the menu options that the admin can access. Super admins have full\n",
      "access to all menus. Read Only admins have irrevocable read-only access to all the menus, except the\n",
      "Report menu. Group - Specify the device commands the admin can use to manage groups: All device\n",
      "commands , Selected device commands For sub-admins, you can specify permissions at either the group-\n",
      "level or the organization-level. Organization - Specify the actions the admin can perform on the\n",
      "Organization page: Manage (Add, Modify, and Delete) - Allows the admin to add, modify, and delete\n",
      "organizations. Do not Manage (Add, Modify, and Delete) - Gives the admin read-only access to the\n",
      "page. Read Only Including Other Menus - Gives the admin read-only access to the Organization,\n",
      "Device, User, Sync Service, and Dashboard pages. Application , Profile , Certificate , Audit ,\n",
      "Service Desk - The admin can only access the Knox Manage console through mobile login. Security Code\n",
      "in the Device - Select to restrict a sub-admin's access to the security codes of a device. By\n",
      "default, all admins can view the Unlock Code, Unenrollment Code, and Exit Kiosk Code on the Device\n",
      "Details page. Service Type (service admin only) - Select the device commands that the service admin\n",
      "is allowed to use: Allow All Device Command - Allows the service admin to use all device commands.\n",
      "Selected Device Command Only - Allows the service admin to use only certain device commands as\n",
      "defined by the Device Command setting. Device Command (service admin only) - Select the device\n",
      "commands that the service admin can use: Apply Latest Profiles , Lock/Unlock Device , Reset Screen\n",
      "Password , Factory Reset , Push notification , Unenroll & Force Unenroll Device , Delete App Data ,\n",
      "Delete Unenrolled Device 4. Click Save (new admins) or Invite (Samsung accounts). Then click OK. 5.\n",
      "If the email address entered on this page is correct, the secondary IT admin receives an email\n",
      "notification. When the email recipient clicks this link, the Verify your Samsung Account details\n",
      "page opens, where they can verify their Samsung Account details. 6. The secondary admin then enters\n",
      "the appropriate details to create their new Samsung Account. 7. Upon successful completion of the\n",
      "account creation process, the Knox Admin Portal opens to show all relevant Knox cloud services in a\n",
      "single unified portal. Change an admin password (super admins) Super admins can change their account\n",
      "passwords and the passwords of sub-admin accounts. To change a password: 1. Go to Setting >\n",
      "Administrator in the Knox Manage console. 2. On the Administrator page, click the check box for an\n",
      "admin you want to change the password for, and then click Change Password. 3. On the Change Password\n",
      "screen, enter a new password. 4. (Optional) Select Reset after Sign-in to prompt the admin to reset\n",
      "the password after signing in. 5. Click Save. Change an admin password (sub-admins) The super admin\n",
      "sets the initial password for all users. Sub-admins must ask the super admin for an initial password\n",
      "for their first login. After the initial login, the Change Password screen opens, allowing sub-\n",
      "admins to change the password. In accordance with each country or region's privacy policies, ensure\n",
      "that you notify the admin or obtain consent before registering them as users in the Knox Manage\n",
      "console.\n",
      "metadata:\n",
      " {'source': 'all_processed_data.json', 'seq_num': 803, 'title': 'Add an administrator', 'url':\n",
      "'https://docs.samsungknox.com/admin/knox-manage/configure/advanced-settings/configure-administrator-\n",
      "accounts/add-an-administrator', 'project': 'KM', 'last_updated': '2023-07-26', 'family_tree':\n",
      "'parent', 'parent_id': None, 'id': 'ffeea369-7435-4839-8506-2af8bcc423cf'}\n"
     ]
    }
   ],
   "source": [
    "print(\"##################################\")\n",
    "print(\"query: \", query)\n",
    "print(\"##################################\")\n",
    "\n",
    "print (colored(\"\\n\\n### Answer ###\", \"blue\"))\n",
    "print_ww(response['result'])\n",
    "\n",
    "\n",
    "print (colored(\"\\n\\n### Contexts ###\", \"green\"))\n",
    "show_context_used(response['source_documents'])"
   ]
  },
  {
   "cell_type": "code",
   "execution_count": null,
   "id": "522d5c11",
   "metadata": {},
   "outputs": [],
   "source": [
    "import pickle\n",
    "def load_pickle():\n",
    "    with open('data/data.pickle', 'rb') as f:\n",
    "        data = pickle.load(f)\n",
    "    return data\n",
    "\n",
    "\n"
   ]
  },
  {
   "cell_type": "code",
   "execution_count": null,
   "id": "b1a40222",
   "metadata": {},
   "outputs": [],
   "source": []
  }
 ],
 "metadata": {
  "kernelspec": {
   "display_name": "Python 3.10.12 ('base')",
   "language": "python",
   "name": "python3"
  },
  "language_info": {
   "codemirror_mode": {
    "name": "ipython",
    "version": 3
   },
   "file_extension": ".py",
   "mimetype": "text/x-python",
   "name": "python",
   "nbconvert_exporter": "python",
   "pygments_lexer": "ipython3",
   "version": "3.10.12"
  },
  "vscode": {
   "interpreter": {
    "hash": "4b8e647a79df62bf31906a725b05de775d285962ac600487339d38c51a5c07b1"
   }
  }
 },
 "nbformat": 4,
 "nbformat_minor": 5
}
