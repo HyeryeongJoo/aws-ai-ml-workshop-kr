{
 "cells": [
  {
   "cell_type": "markdown",
   "id": "5deb2df2-413d-49bd-a829-3a1fc344937e",
   "metadata": {},
   "source": [
    "# RAG Based on parent document\n",
    "- Hybrid Search\n",
    "- ReRanker\n",
    "- [Parent Document](https://medium.aiplanet.com/advanced-rag-providing-broader-context-to-llms-using-parentdocumentretriever-cc627762305a)\n",
    "    "
   ]
  },
  {
   "cell_type": "markdown",
   "id": "b1f81abc-3277-4a6b-9ef1-d4f997d67fbe",
   "metadata": {},
   "source": [
    "## Setting\n",
    " - Auto Reload\n",
    " - path for utils"
   ]
  },
  {
   "cell_type": "code",
   "execution_count": 1,
   "id": "ddde4105-b759-4d6c-8214-8e1ab485ae48",
   "metadata": {
    "tags": []
   },
   "outputs": [],
   "source": [
    "%load_ext autoreload\n",
    "%autoreload 2"
   ]
  },
  {
   "cell_type": "code",
   "execution_count": 2,
   "id": "57c2cdb1-d785-4317-afce-938f13141085",
   "metadata": {
    "tags": []
   },
   "outputs": [],
   "source": [
    "import sys, os\n",
    "module_path = \"../../..\"\n",
    "sys.path.append(os.path.abspath(module_path))"
   ]
  },
  {
   "cell_type": "markdown",
   "id": "9c4ade56-8dbc-4ded-b355-7e4bcc971e90",
   "metadata": {},
   "source": [
    "## 1. Bedrock Client 생성"
   ]
  },
  {
   "cell_type": "code",
   "execution_count": 3,
   "id": "cc2d877f-e877-48f6-8dd4-239de20e45cd",
   "metadata": {
    "tags": []
   },
   "outputs": [],
   "source": [
    "import json\n",
    "import boto3\n",
    "from pprint import pprint\n",
    "from termcolor import colored\n",
    "from utils import bedrock, print_ww\n",
    "from utils.bedrock import bedrock_info"
   ]
  },
  {
   "cell_type": "markdown",
   "id": "088e6490-c79a-49e4-841c-9fdb91292608",
   "metadata": {},
   "source": [
    "### ---- ⚠️ Un-comment and edit the below lines as needed for your AWS setup ⚠️ ----\n",
    "- os.environ[\"AWS_DEFAULT_REGION\"] = \"<REGION_NAME>\"  # E.g. \"us-east-1\"\n",
    "- os.environ[\"AWS_PROFILE\"] = \"<YOUR_PROFILE>\"\n",
    "- os.environ[\"BEDROCK_ASSUME_ROLE\"] = \"<YOUR_ROLE_ARN>\"  # E.g. \"arn:aws:...\"\n",
    "- os.environ[\"BEDROCK_ENDPOINT_URL\"] = \"<YOUR_ENDPOINT_URL>\"  # E.g. \"https://...\""
   ]
  },
  {
   "cell_type": "code",
   "execution_count": 4,
   "id": "cab9312c-5f61-4730-96c3-5eef54a5f08c",
   "metadata": {
    "tags": []
   },
   "outputs": [
    {
     "name": "stdout",
     "output_type": "stream",
     "text": [
      "Create new client\n",
      "  Using region: None\n",
      "  Using profile: None\n",
      "boto3 Bedrock client successfully created!\n",
      "bedrock-runtime(https://bedrock-runtime.us-west-2.amazonaws.com)\n",
      "\u001b[32m\n",
      "== FM lists ==\u001b[0m\n",
      "{'Claude-Instant-V1': 'anthropic.claude-instant-v1',\n",
      " 'Claude-V1': 'anthropic.claude-v1',\n",
      " 'Claude-V2': 'anthropic.claude-v2',\n",
      " 'Claude-V2-1': 'anthropic.claude-v2:1',\n",
      " 'Claude-V3-5-Sonnet': 'anthropic.claude-3-5-sonnet-20240620-v1:0',\n",
      " 'Claude-V3-Haiku': 'anthropic.claude-3-haiku-20240307-v1:0',\n",
      " 'Claude-V3-Opus': 'anthropic.claude-3-sonnet-20240229-v1:0',\n",
      " 'Claude-V3-Sonnet': 'anthropic.claude-3-sonnet-20240229-v1:0',\n",
      " 'Cohere-Embeddings-En': 'cohere.embed-english-v3',\n",
      " 'Cohere-Embeddings-Multilingual': 'cohere.embed-multilingual-v3',\n",
      " 'Command': 'cohere.command-text-v14',\n",
      " 'Command-Light': 'cohere.command-light-text-v14',\n",
      " 'Jurassic-2-Mid': 'ai21.j2-mid-v1',\n",
      " 'Jurassic-2-Ultra': 'ai21.j2-ultra-v1',\n",
      " 'Llama2-13b-Chat': 'meta.llama2-13b-chat-v1',\n",
      " 'Titan-Embeddings-G1': 'amazon.titan-embed-text-v1',\n",
      " 'Titan-Text-Embeddings-V2': 'amazon.titan-embed-text-v2:0',\n",
      " 'Titan-Text-G1': 'amazon.titan-text-express-v1',\n",
      " 'Titan-Text-G1-Express': 'amazon.titan-text-express-v1',\n",
      " 'Titan-Text-G1-Light': 'amazon.titan-text-lite-v1',\n",
      " 'Titan-Text-G1-Premier': 'amazon.titan-text-premier-v1:0'}\n"
     ]
    }
   ],
   "source": [
    "boto3_bedrock = bedrock.get_bedrock_client(\n",
    "    assumed_role=os.environ.get(\"BEDROCK_ASSUME_ROLE\", None),\n",
    "    endpoint_url=os.environ.get(\"BEDROCK_ENDPOINT_URL\", None),\n",
    "    region=os.environ.get(\"AWS_DEFAULT_REGION\", None),\n",
    ")\n",
    "\n",
    "aws_region = os.environ.get(\"AWS_DEFAULT_REGION\", None)\n",
    "print (colored(\"\\n== FM lists ==\", \"green\"))\n",
    "pprint (bedrock_info.get_list_fm_models(verbose=False))"
   ]
  },
  {
   "cell_type": "markdown",
   "id": "241a9e34-417a-422f-9f75-cb211b2e70e1",
   "metadata": {
    "tags": []
   },
   "source": [
    "## 2. Titan Embedding 및 LLM 인 Claude-v3.5 모델 로딩"
   ]
  },
  {
   "cell_type": "markdown",
   "id": "29bf63d2-4110-407c-af06-a45d2fbed4b5",
   "metadata": {},
   "source": [
    "### LLM 로딩 (Claude-v3.5)"
   ]
  },
  {
   "cell_type": "code",
   "execution_count": 5,
   "id": "9c51443a-04f9-465c-9564-53053eb3e1c2",
   "metadata": {
    "tags": []
   },
   "outputs": [],
   "source": [
    "from langchain_aws import ChatBedrock\n",
    "from langchain.callbacks.streaming_stdout import StreamingStdOutCallbackHandler"
   ]
  },
  {
   "cell_type": "code",
   "execution_count": 6,
   "id": "d09e84e0-b9e1-4b12-8e7a-68f03c5416e5",
   "metadata": {
    "tags": []
   },
   "outputs": [
    {
     "data": {
      "text/plain": [
       "ChatBedrock(callbacks=[<langchain_core.callbacks.streaming_stdout.StreamingStdOutCallbackHandler object at 0x7f79ac932c80>], client=<botocore.client.BedrockRuntime object at 0x7f7990fa88b0>, model_id='anthropic.claude-3-5-sonnet-20240620-v1:0', model_kwargs={'max_tokens': 1024, 'stop_sequences': ['\\n\\nHuman']})"
      ]
     },
     "execution_count": 6,
     "metadata": {},
     "output_type": "execute_result"
    }
   ],
   "source": [
    "llm_text = ChatBedrock(\n",
    "    model_id=bedrock_info.get_model_id(model_name=\"Claude-V3-5-Sonnet\"),\n",
    "    client=boto3_bedrock,\n",
    "    model_kwargs={\n",
    "        \"max_tokens\": 1024,\n",
    "        \"stop_sequences\": [\"\\n\\nHuman\"],\n",
    "    },\n",
    "    #streaming=True,\n",
    "    callbacks=[StreamingStdOutCallbackHandler()],\n",
    ")\n",
    "llm_text"
   ]
  },
  {
   "cell_type": "markdown",
   "id": "3ba2e829-af8f-4e90-b994-59106cdec8d8",
   "metadata": {},
   "source": [
    "### Embedding 모델 선택"
   ]
  },
  {
   "cell_type": "code",
   "execution_count": 43,
   "id": "0b7b8752-d1e3-4f41-ba35-6da42c3785db",
   "metadata": {
    "tags": []
   },
   "outputs": [],
   "source": [
    "from langchain_aws import BedrockEmbeddings"
   ]
  },
  {
   "cell_type": "code",
   "execution_count": 44,
   "id": "793b03f7-3186-4969-b76a-98fe56bd5fdc",
   "metadata": {
    "tags": []
   },
   "outputs": [
    {
     "name": "stdout",
     "output_type": "stream",
     "text": [
      "Bedrock Embeddings Model Loaded\n"
     ]
    }
   ],
   "source": [
    "llm_emb = BedrockEmbeddings(\n",
    "    client=boto3_bedrock,\n",
    "    model_id=bedrock_info.get_model_id(model_name=\"Titan-Text-Embeddings-V2\")\n",
    ")\n",
    "dimension = 1024 #1536\n",
    "print(\"Bedrock Embeddings Model Loaded\")"
   ]
  },
  {
   "cell_type": "markdown",
   "id": "e10b67d5-382e-4715-a841-eb07b8655da8",
   "metadata": {},
   "source": [
    "## 3. Depoly ReRanker model (if needed)"
   ]
  },
  {
   "cell_type": "code",
   "execution_count": 10,
   "id": "9a08a296-41ef-44cb-857b-63d05a8d187c",
   "metadata": {
    "tags": []
   },
   "outputs": [
    {
     "name": "stdout",
     "output_type": "stream",
     "text": [
      "sagemaker.config INFO - Not applying SDK defaults from location: /etc/xdg/sagemaker/config.yaml\n",
      "sagemaker.config INFO - Not applying SDK defaults from location: /home/ec2-user/.config/sagemaker/config.yaml\n"
     ]
    }
   ],
   "source": [
    "import json\n",
    "import sagemaker\n",
    "from sagemaker.huggingface import HuggingFaceModel"
   ]
  },
  {
   "cell_type": "code",
   "execution_count": 11,
   "id": "33dd04a7-8200-49e7-ae69-55a82be199b4",
   "metadata": {
    "tags": []
   },
   "outputs": [],
   "source": [
    "depoly = False"
   ]
  },
  {
   "cell_type": "code",
   "execution_count": 12,
   "id": "9d40e3dd-a19f-4af3-831a-0cfe79e72cb3",
   "metadata": {
    "tags": []
   },
   "outputs": [],
   "source": [
    "if depoly:\n",
    "\n",
    "    try:\n",
    "        role = sagemaker.get_execution_role()\n",
    "    except ValueError:\n",
    "        iam = boto3.client('iam')\n",
    "        role = iam.get_role(RoleName='sagemaker_execution_role')['Role']['Arn']\n",
    "\n",
    "    # Hub Model configuration. https://huggingface.co/models\n",
    "    hub = {\n",
    "        'HF_MODEL_ID':'Dongjin-kr/ko-reranker',\n",
    "        'HF_TASK':'text-classification'\n",
    "    }\n",
    "\n",
    "    # create Hugging Face Model Class\n",
    "    huggingface_model = HuggingFaceModel(\n",
    "        transformers_version='4.26.0',\n",
    "        pytorch_version='1.13.1',\n",
    "        py_version='py39',\n",
    "        env=hub,\n",
    "        role=role, \n",
    "    )\n",
    "\n",
    "    # deploy model to SageMaker Inference\n",
    "    predictor = huggingface_model.deploy(\n",
    "        initial_instance_count=1, # number of instances\n",
    "        instance_type='ml.g5.xlarge' # instance type\n",
    "    )\n",
    "\n",
    "    print(f'Accept: {predictor.accept}')\n",
    "    print(f'ContentType: {predictor.content_type}')\n",
    "    print(f'Endpoint: {predictor.endpoint}')"
   ]
  },
  {
   "cell_type": "markdown",
   "id": "f7389708-b21d-4014-bc33-4d16ed2646d6",
   "metadata": {},
   "source": [
    "#### Save reranker endpoint to Parameter Store"
   ]
  },
  {
   "cell_type": "code",
   "execution_count": 13,
   "id": "97e5c7c6-9630-4f9e-8d55-8218b9a1cb6a",
   "metadata": {
    "tags": []
   },
   "outputs": [],
   "source": [
    "if depoly:\n",
    "\n",
    "    import boto3\n",
    "    from utils.ssm import parameter_store\n",
    "\n",
    "    region=boto3.Session().region_name\n",
    "    pm = parameter_store(region)\n",
    "\n",
    "    pm.put_params(\n",
    "        key=\"reranker_endpoint\",\n",
    "        value=f'{predictor.endpoint}',\n",
    "        overwrite=True,\n",
    "        enc=False\n",
    "    )"
   ]
  },
  {
   "cell_type": "markdown",
   "id": "20e648ef-01ec-4e2f-ba88-7d2510fdb7a6",
   "metadata": {},
   "source": [
    "## 4. Invocation (prediction)"
   ]
  },
  {
   "cell_type": "code",
   "execution_count": 14,
   "id": "d0e06044-ac6b-468d-a106-8fbeb4a555f6",
   "metadata": {
    "tags": []
   },
   "outputs": [],
   "source": [
    "from utils.ssm import parameter_store"
   ]
  },
  {
   "cell_type": "code",
   "execution_count": 15,
   "id": "ac71912f-b121-424d-97e9-6bfbed2633bf",
   "metadata": {
    "tags": []
   },
   "outputs": [],
   "source": [
    "region=boto3.Session().region_name\n",
    "pm = parameter_store(region)"
   ]
  },
  {
   "cell_type": "code",
   "execution_count": 16,
   "id": "114be617-a687-4733-abb9-30394c7ef35f",
   "metadata": {
    "tags": []
   },
   "outputs": [
    {
     "name": "stdout",
     "output_type": "stream",
     "text": [
      "runtime_client: <botocore.client.SageMakerRuntime object at 0x7f79025857b0>\n"
     ]
    }
   ],
   "source": [
    "runtime_client = boto3.Session().client('sagemaker-runtime')\n",
    "print (f'runtime_client: {runtime_client}')"
   ]
  },
  {
   "cell_type": "code",
   "execution_count": 17,
   "id": "26ee5c45-de87-4a2b-bc04-bbc649fcd0c6",
   "metadata": {
    "tags": []
   },
   "outputs": [],
   "source": [
    "endpoint_name = pm.get_params(\n",
    "    key=\"reranker_endpoint\",\n",
    "    enc=False\n",
    ")\n",
    "deserializer = \"application/json\""
   ]
  },
  {
   "cell_type": "code",
   "execution_count": 18,
   "id": "bd6288ed-b4fa-466f-9e2b-57484b827b0a",
   "metadata": {
    "tags": []
   },
   "outputs": [],
   "source": [
    "payload = json.dumps(\n",
    "    {\n",
    "        \"inputs\": [\n",
    "            {\"text\": \"I hate you\", \"text_pair\": \"I don't like you\"},\n",
    "            {\"text\": \"He hates you\", \"text_pair\": \"He like you\"}\n",
    "        ]\n",
    "    }\n",
    ")"
   ]
  },
  {
   "cell_type": "code",
   "execution_count": 19,
   "id": "124fd3f0-2b81-4b2b-af97-2f22b101f25d",
   "metadata": {
    "tags": []
   },
   "outputs": [],
   "source": [
    "payload = json.dumps(\n",
    "    {\n",
    "        \"inputs\": [\n",
    "            {\"text\": \"나는 너를 사랑하지 않아\", \"text_pair\": \"나는 너를 좋아하지 않아\"},\n",
    "            {\"text\": \"그는 너를 싫어해\", \"text_pair\": \"그는 너를 좋아해\"}\n",
    "        ]\n",
    "    }\n",
    ")"
   ]
  },
  {
   "cell_type": "code",
   "execution_count": 20,
   "id": "c1eebe88-8b92-4e81-a103-b5a5d7a91bb3",
   "metadata": {
    "tags": []
   },
   "outputs": [
    {
     "name": "stdout",
     "output_type": "stream",
     "text": [
      "Response: [{'label': 'LABEL_0', 'score': 0.9984032511711121}, {'label': 'LABEL_0', 'score': 0.004707992542535067}]\n",
      "CPU times: user 13.9 ms, sys: 257 µs, total: 14.2 ms\n",
      "Wall time: 87.3 ms\n"
     ]
    }
   ],
   "source": [
    "%%time\n",
    "response = runtime_client.invoke_endpoint(\n",
    "    EndpointName=endpoint_name,\n",
    "    ContentType=\"application/json\",\n",
    "    Accept=deserializer,\n",
    "    Body=payload\n",
    ")\n",
    "## deserialization\n",
    "out = json.loads(response['Body'].read().decode()) ## for json\n",
    "print (f'Response: {out}')"
   ]
  },
  {
   "cell_type": "markdown",
   "id": "7e432237-b9b5-4be3-aa0c-c30eeca6f480",
   "metadata": {},
   "source": [
    "## 5. LangChain OpenSearch VectorStore 정의\n",
    "### 선수 조건\n",
    "- 01_preprocess_docs/02_load_docs_opensearch.ipynb를 통해서 OpenSearch Index 가 생성이 되어 있어야 합니다.\n",
    "#### [중요] 아래에 aws parameter store 에 아래 인증정보가 먼저 입력되어 있어야 합니다.\n",
    "- 01_preprocess_docs/01_parameter_store_example.ipynb 참고"
   ]
  },
  {
   "cell_type": "code",
   "execution_count": 21,
   "id": "42d192b6-68ce-465e-9fa7-04b5201f4453",
   "metadata": {
    "tags": []
   },
   "outputs": [],
   "source": [
    "opensearch_domain_endpoint = pm.get_params(\n",
    "    key=\"opensearch_domain_endpoint\",\n",
    "    enc=False\n",
    ")\n",
    "\n",
    "opensearch_user_id = pm.get_params(\n",
    "    key=\"opensearch_user_id\",\n",
    "    enc=False\n",
    ")\n",
    "\n",
    "opensearch_user_password = pm.get_params(\n",
    "    key=\"opensearch_user_password\",\n",
    "    enc=True\n",
    ")"
   ]
  },
  {
   "cell_type": "code",
   "execution_count": 22,
   "id": "fc7866fd-fd9c-4b41-b600-a91e43edfe4d",
   "metadata": {
    "tags": []
   },
   "outputs": [],
   "source": [
    "opensearch_domain_endpoint = opensearch_domain_endpoint\n",
    "rag_user_name = opensearch_user_id\n",
    "rag_user_password = opensearch_user_password\n",
    "\n",
    "http_auth = (rag_user_name, rag_user_password) # Master username, Master password"
   ]
  },
  {
   "cell_type": "markdown",
   "id": "161a900e-effc-4d7f-a179-b6c00eac03ad",
   "metadata": {
    "tags": []
   },
   "source": [
    "### Index 이름 셋팅\n",
    "- 이전 노트북 01_preprocess_docs/02_load_docs_opensearch.ipynb를 통해서 생성된 OpenSearch Index name 입력\n",
    "- parent document 용으로 생성된 index 사용할 것 "
   ]
  },
  {
   "cell_type": "code",
   "execution_count": 23,
   "id": "d5d9b5eb-052e-4e84-846b-c5385e853ba4",
   "metadata": {
    "tags": []
   },
   "outputs": [
    {
     "name": "stdout",
     "output_type": "stream",
     "text": [
      "index_name: v01-genai-poc-parent-doc-retriever\n"
     ]
    }
   ],
   "source": [
    "index_name = opensearch_user_password = pm.get_params(\n",
    "    key=\"opensearch_index_name\",\n",
    "    enc=True\n",
    ")\n",
    "\n",
    "print (f'index_name: {index_name}')"
   ]
  },
  {
   "cell_type": "markdown",
   "id": "482f5785-b88d-44fa-a603-080e4bd734a6",
   "metadata": {},
   "source": [
    "### OpenSearch Client 생성"
   ]
  },
  {
   "cell_type": "code",
   "execution_count": 24,
   "id": "968b7502-5799-4702-bc17-959e88c330a2",
   "metadata": {
    "tags": []
   },
   "outputs": [],
   "source": [
    "from utils.opensearch import opensearch_utils"
   ]
  },
  {
   "cell_type": "code",
   "execution_count": 25,
   "id": "6ceb46a1-e425-4f7e-9319-793b55abb938",
   "metadata": {
    "tags": []
   },
   "outputs": [],
   "source": [
    "os_client = opensearch_utils.create_aws_opensearch_client(\n",
    "    aws_region,\n",
    "    opensearch_domain_endpoint,\n",
    "    http_auth\n",
    ")"
   ]
  },
  {
   "cell_type": "markdown",
   "id": "a5084376-7523-4cf9-9123-adc4ae79f66d",
   "metadata": {
    "tags": []
   },
   "source": [
    "## 6. Retriever based on Hybrid Search + ParentDocument + ReRanker\n",
    "- LangChain에서 제공하는 **BaseRetriever** 클래스를 상속받아 **Custom Retriever**를 정의 할 수 있습니다.\n",
    "- Hybrid-Search에 대한 자세한 내용는 **\"01_rag_hybrid_search.ipyno\"** 에서 확인 가능합니다.\n",
    "- [Parent Document](https://towardsdatascience.com/forget-rag-the-future-is-rag-fusion-1147298d8ad1)\n",
    "![parent-document.png](../../../imgs/parent-document.png)"
   ]
  },
  {
   "cell_type": "markdown",
   "id": "29cf3877-ed50-4ca6-b319-fca654f011cc",
   "metadata": {
    "tags": []
   },
   "source": [
    "## Parent documents in Hybrid search\n",
    "- Lexical search: parent documents only\n",
    "- Semantic search: child documents first, getting parent documents corresponding to that child document"
   ]
  },
  {
   "cell_type": "code",
   "execution_count": 26,
   "id": "5db8e470-63a9-4c3d-94c8-1d270a6da822",
   "metadata": {
    "tags": []
   },
   "outputs": [],
   "source": [
    "from utils.rag import OpenSearchHybridSearchRetriever"
   ]
  },
  {
   "cell_type": "markdown",
   "id": "d7feac2f-21a2-4756-b989-66c180bb1e79",
   "metadata": {},
   "source": [
    "- 필터 설정 예시\n",
    "- filter=[ <BR>\n",
    "    　{\"term\": {\"metadata.[**your_metadata_attribute_name**]\": \"**your first keyword**\"}}, <BR>\n",
    "    　{\"term\": {\"metadata.[**your_metadata_attribute_name**]\": \"**your second keyword**\"}},<BR>\n",
    "]"
   ]
  },
  {
   "cell_type": "code",
   "execution_count": 27,
   "id": "49c7e131-294f-4ff8-9331-989709c7079c",
   "metadata": {
    "tags": []
   },
   "outputs": [],
   "source": [
    "opensearch_hybrid_retriever = OpenSearchHybridSearchRetriever(\n",
    "    os_client=os_client,\n",
    "    index_name=index_name,\n",
    "    llm_text=llm_text, # llm for query augmentation in both rag_fusion and HyDE\n",
    "    llm_emb=llm_emb, # Used in semantic search based on opensearch \n",
    "\n",
    "    # option for lexical\n",
    "    minimum_should_match=0,\n",
    "    filter=[],\n",
    "\n",
    "    # option for search\n",
    "    fusion_algorithm=\"RRF\", # [\"RRF\", \"simple_weighted\"], rank fusion 방식 정의\n",
    "    ensemble_weights=[.51, .49], # [for semantic, for lexical], Semantic, Lexical search 결과에 대한 최종 반영 비율 정의\n",
    "    reranker=True, # enable reranker with reranker model\n",
    "    reranker_endpoint_name=endpoint_name, # endpoint name for reranking model\n",
    "    parent_document = True, # enable parent document\n",
    "\n",
    "    # option for async search\n",
    "    async_mode=True,\n",
    "\n",
    "    # option for output\n",
    "    k=5, # 최종 Document 수 정의\n",
    "    verbose=True,\n",
    ")"
   ]
  },
  {
   "cell_type": "markdown",
   "id": "cfb26835-ad98-41c5-9e9d-2453642e3551",
   "metadata": {},
   "source": [
    "### Retrieval example\n",
    "- default search"
   ]
  },
  {
   "cell_type": "code",
   "execution_count": 28,
   "id": "9c06e89f-79de-413c-ba9c-a188ca3fe2d0",
   "metadata": {
    "tags": []
   },
   "outputs": [],
   "source": [
    "from utils.rag import show_context_used"
   ]
  },
  {
   "cell_type": "code",
   "execution_count": 29,
   "id": "fe3bfee3-dac1-45b9-8795-03e36c1632a9",
   "metadata": {
    "tags": []
   },
   "outputs": [],
   "source": [
    "#query = \"vidio max size?\"\n",
    "query = \"What is knox?\""
   ]
  },
  {
   "cell_type": "code",
   "execution_count": 30,
   "id": "05b13e5e-4a66-4dc8-b18c-42a6e3bd6037",
   "metadata": {
    "collapsed": true,
    "jupyter": {
     "outputs_hidden": true
    },
    "tags": []
   },
   "outputs": [
    {
     "name": "stdout",
     "output_type": "stream",
     "text": [
      "===== ParentDocument =====\n",
      "filter: [{'bool': {'should': [{'term': {'metadata.family_tree': 'child'}}, {'term': {'metadata.family_tree': 'parent_table'}}, {'term': {'metadata.family_tree': 'parent_image'}}]}}]\n",
      "# child_docs: 5\n",
      "# parent docs: 5\n",
      "# duplicates: 0\n",
      "##############################\n",
      "async_mode\n",
      "##############################\n",
      "True\n",
      "##############################\n",
      "reranker\n",
      "##############################\n",
      "True\n",
      "##############################\n",
      "rag_fusion\n",
      "##############################\n",
      "False\n",
      "##############################\n",
      "HyDE\n",
      "##############################\n",
      "False\n",
      "##############################\n",
      "parent_document\n",
      "##############################\n",
      "True\n",
      "##############################\n",
      "complex_document\n",
      "##############################\n",
      "False\n",
      "##############################\n",
      "similar_docs_semantic\n",
      "##############################\n",
      "\n",
      "Score: 1.0\n",
      "['What is Knox Suite?. Knox Suite is a bundled offering designed to help enterprise IT admins better manage your fleet of devices. It includes individual services such as Knox Platform for Enterprise, Knox Mobile Enrollment, Knox Manage, Knox E-FOTA, and Knox Asset Intelligence. Key features of Knox Suite include: Secure - Ensure your business data is protected with managed security features at your control. Deploy - Enroll corporate devices to EMM automatically and securely, right out of the box. Manage - Enable comprehensive management over corporate devices and OS versions. Analyze - Strengthen in-depth device analytics for mobile productivity and asset management.']\n",
      "{'source': 'all_processed_data.json', 'seq_num': 133, 'title': ' What is Knox Suite?', 'url': 'https://docs.samsungknox.com/admin/knox-suite/faq/#what-is-knox-suite', 'project': 'KS', 'last_updated': '2023-07-26', 'family_tree': 'child', 'parent_id': 'e63e3a4d-619e-4fa3-8812-14c2e0d681ce', 'id': '1c8a2ee8-8e64-45ae-8b6a-79adcc5b85f3'}\n",
      "\n",
      "Score: 0.9679796885127099\n",
      "['Knox Suite. Knox Suite is a bundled offering of Knox solutions for enterprise mobility designed to address organizations\\' needs related to security and management throughout the entire device lifecycle. Learn more about Knox Suite #Audience This document is intended for IT Admins. Understand what\\'s included in Knox Suite and how you can use it to manage, secure, and maintain enterprise devices. Learn where to find information on how to perform various tasks with Knox\"Suite services. About Knox Suite Knox Suite is a bundled offering that includes the following Knox products: Knox Platform for Enterprise - A Knox solution that provides military-grade security to Samsung Android phones, tablets, and Tizen watches for business. Knox Mobile Enrollment - A Knox solution that allows you to enroll thousands of Samsung devices in your EMM at once. When used with a Knox Suite license, Knox Mobile Enrollment provides advanced profiles that offer IT admins additional features such as higher control over locking devices']\n",
      "{'source': 'all_processed_data.json', 'seq_num': 124, 'title': 'Knox Suite', 'url': 'https://docs.samsungknox.com/admin/knox-suite', 'project': 'KS', 'last_updated': '2023-07-26', 'family_tree': 'child', 'parent_id': 'fa4fbdd5-71d7-4d36-9301-a44ca563e183', 'id': '05b2ac3e-1ec1-490a-b132-f9c99e08e837'}\n",
      "\n",
      "Score: 0.9669522604376061\n",
      "['Knox Manage. Knox Manage is a mobile device management (MDM) solution that provides a cloud-based command center with almost 300 enterprise policies to empower IT admins to remotely track, manage, configure, and send messages to devices. This solution can manage any Android, iOS, or Windows 10 or Windows 11 device, but for maximum security, we recommend Samsung Galaxy devices integrated with the Knox platform. Try for free Audience This document is intended for: IT Admins - Enterprise IT Admins can learn how to get started with Knox Manage, dive deep into the comprehensive features, and learn how to configure and monitor devices and apps. Try the solution Bulk enroll devices so that they use Knox Manage right out-of-the box. Define enterprise groups and profiles. Configure device features and settings. Deploy, update apps, or add them to the allowlist. Create simple device kiosks. Learn how now']\n",
      "{'source': 'all_processed_data.json', 'seq_num': 967, 'title': 'Knox Manage', 'url': 'https://docs.samsungknox.com/admin/knox-manage/introduction/about-knox-manage', 'project': 'KM', 'last_updated': '2023-07-26', 'family_tree': 'child', 'parent_id': 'dd9b9251-4393-4ba3-bbbd-b61bcb359c82', 'id': 'edbdf88c-6c4f-4ed5-854e-95d43e3b09a2'}\n",
      "\n",
      "Score: 0.9609080347906266\n",
      "[\"Knox Configure. Knox Configure is a cloud-based service that empowers enterprises to customize and automate the enrollment of Samsung devices purchased from authorized Samsung resellers. Knox Configure simplifies the out-of-box experience and enables a large range of configuration options. Try for free Audience This document is intended for: IT Admins - Admins create profiles with the device settings, restrictions, apps, and other content to deploy to groups of devices. After devices have been successfully enrolled in the enterprise, they receive the Knox Configure device profile via a Wi-Fi or mobile data connection. Resellers - Resellers bulk upload devices on behalf of requesting customers. Try the solution Promote and embed company branding, including animated boot screens and personalized business apps. Use this guide to apply data access restrictions as needed based on your organization's application update, notification and URL requirements\"]\n",
      "{'source': 'all_processed_data.json', 'seq_num': 362, 'title': 'Knox Configure', 'url': 'https://docs.samsungknox.com/admin/knox-configure', 'project': 'KC', 'last_updated': '2023-07-26', 'family_tree': 'child', 'parent_id': '44157c32-a447-4f1a-aed3-e27b7433132e', 'id': 'ab9551b4-7719-4db1-9b26-7b0fd123a6f3'}\n",
      "\n",
      "Score: 0.9485995106225997\n",
      "[\"The Samsung Knox platform. Samsung Knox brings defense-grade security on the most popular consumer devices to all enterprises. The Knox Platform provides best-in-class hardware-based security, policy management, and compliance capabilities beyond the standard features commonplace in today's mobile device market. The Knox Platform is the cornerstone of a strong mobile security strategy supporting a wide variety of Samsung devices. Why use Samsung Knox? The Knox Platform helps you and your enterprise avoid the security gaps common on many mobile platforms. Knox received *strong* ratings in 25 of 28 categories in Gartner's December 2017 Mobile OSs and Device Security: A Comparison of Platforms and has received strong ratings for the last three years in a row. The Knox Platform's security hardening supports every aspect of mobile device operation. The Knox Platform enables trust in your mobile endpoints with advanced features like the evolutionary Knox Vault to the patented Real-Time Kernel Protection\"]\n",
      "{'source': 'all_processed_data.json', 'seq_num': 168, 'title': 'The Samsung Knox platform', 'url': 'https://docs.samsungknox.com/admin/fundamentals/whitepaper/the-samsung-knox-platform', 'project': 'USP', 'last_updated': '2023-07-26', 'family_tree': 'child', 'parent_id': 'd7d19521-e2fd-41aa-b0d7-f00bb4473f4f', 'id': 'b6e8df05-9736-408f-9366-195070c4a64a'}\n",
      "\n",
      "Score: 0.945533991605506\n",
      "['What is Knox Mobile Enrollment?. Knox Mobile Enrollment is an automated and streamlined EMM enrollment tool that enables you to provision thousands of devices for enterprise management, with less hassle for both IT admins and device users. With our advanced staging and security options that flex to your needs, enroll work devices safely across any network environment or fleet size. Knox Mobile Enrollment is fully integrated with Samsung devices and services for an end-to-end experience.']\n",
      "{'source': 'all_processed_data.json', 'seq_num': 1424, 'title': 'What is Knox Mobile Enrollment?', 'url': 'https://docs.samsungknox.com/admin/knox-mobile-enrollment/faq/#what-is-knox-mobile-enrollment', 'project': 'KME', 'last_updated': '2023-09-18', 'family_tree': 'child', 'parent_id': '78724530-b2f7-4e05-9be1-96245fd663f0', 'id': '6dbea806-cdd1-43bf-bb2d-261c55a7c8fc'}\n",
      "\n",
      "Score: 0.9450818726929261\n",
      "['What is the purpose of Knox Configure?. Knox Configure is a cloud-based solution for customizing and staging Samsung devices remotely, right out of the box. It helps service and content providers rebrand and customize Samsung devices with a frictionless, out-of-the-box setup process. Advanced device configuration enables them to tailor every granular aspect to their specific needs and to transform devices into purpose-built appliances. For a comprehensive list of features, see Knox features on Android.']\n",
      "{'source': 'all_processed_data.json', 'seq_num': 480, 'title': 'What is the purpose of Knox Configure?', 'url': 'https://docs.samsungknox.com/admin/knox-configure/faq/#what-is-the-purpose-of-knox-configure', 'project': 'KC', 'last_updated': '2023-07-26', 'family_tree': 'child', 'parent_id': '63dd8ef7-ea72-4bea-b77b-47e4088ca7b3', 'id': '7989beaa-3cf8-4f07-abc0-fb6c433f8fa7'}\n",
      "None\n",
      "##############################\n",
      "similar_docs_keyword\n",
      "##############################\n",
      "\n",
      "Score: 1.0\n",
      "['Wi-Fi Enhanced Roaming Algorithm File-based encryption (FBE) and full-disk encryption (FDE) What policy do I use to block users from adding additional accounts on the device? \"Network may be monitored\" shown after installing a private CA certificate on device Does the Samsung email client support \"opaque signed\" emails? Can a network operator configure an E_APN on an employee\\'s device? If two similar Knox policies are applied to a device with an MDM, which one takes precedence? Should the Knox VPN client be installed inside or outside the Knox container? What are the package names for the Samsung Cisco AnyConnect and Juniper VPN clients? What is the minimum level of unlock method required to install a certificate in Android credential storage? What is the proper way to wildcard APK package names? Which servers do EMMs need to communicate with in order to conduct device attestation? What is the order of precedence for firewall rules? What URLs do I have to add to an allowlist to make Samsung apps work with an']\n",
      "{'source': 'all_processed_data.json', 'seq_num': 1656, 'title': 'Knox Platform for Enterprise knowledge base articles', 'url': 'https://docs.samsungknox.com/admin/knox-platform-for-enterprise/kbas', 'project': 'KPE', 'last_updated': '2023-11-06', 'family_tree': 'child', 'parent_id': '4dcaf8c3-6a46-45f0-9480-1d7a8ce10a7d', 'id': 'a52100c0-e192-4ad7-b419-42933522a461'}\n",
      "\n",
      "Score: 0.9708813984600768\n",
      "['way to wildcard APK package names? Which servers do EMMs need to communicate with in order to conduct device attestation? What is the order of precedence for firewall rules? What URLs do I have to add to an allowlist to make Samsung apps work with an authenticated proxy? Can I disable power saving mode on Knox supported devices? If I cannot resolve an SE for Android issue, who do I escalate to? Is there a way to automatically enable email sync while roaming? What does the term \"Maximum number of licenses\" mean for KPE Standard licenses? Knox legacy workspace articles Using SSO with a Common Access Card (CAC) in the Work Profile How many certificates can be stored in the Knox platform TrustZone? Accessing Knox Workspace without connecting to Active Directory network Unlocking the Knox Workspace container using Active Directory credentials What is the certificate length limit in the Knox CCM keystore? Can I create an RSA Key Pair on a Knox Platform for Enterprise device? Known issues Unable to install Samsung']\n",
      "{'source': 'all_processed_data.json', 'seq_num': 1656, 'title': 'Knox Platform for Enterprise knowledge base articles', 'url': 'https://docs.samsungknox.com/admin/knox-platform-for-enterprise/kbas', 'project': 'KPE', 'last_updated': '2023-11-06', 'family_tree': 'child', 'parent_id': '4dcaf8c3-6a46-45f0-9480-1d7a8ce10a7d', 'id': '9879d5ec-b3c9-415b-b6a2-68221d23d346'}\n",
      "\n",
      "Score: 0.9627449144108572\n",
      "['. What is an Approval ID? Who uploads devices to Knox Guard? What does a Complete device status mean in Knox Guard? What are the options for stopping payment blink reminders on an overdue device? How do I restrict a device to a particular telecom operator? How do I restrict a device to the first inserted SIM of an allowed telecom operator?']\n",
      "{'source': 'all_processed_data.json', 'seq_num': 734, 'title': 'Knox Guard knowledge base articles', 'url': 'https://docs.samsungknox.com/admin/knox-guard/kbas', 'project': 'KG', 'last_updated': '2023-07-26', 'family_tree': 'child', 'parent_id': '8a49bda7-9d67-4406-9426-43484a47e119', 'id': '1e0d6aeb-612e-42da-ae1a-e6251549d77c'}\n",
      "\n",
      "Score: 0.9564522481879137\n",
      "[\"Overview. Get started with the basics by learning what Knox Capture is and how it works. What is Knox Capture? To help explain what Knox Capture does, it may be helpful to start with an understanding of what a *wedge* scanner is, and how it relates to the Knox Capture solution. In traditional hardware-based barcode scanning terminology, a wedge scanner is a physical device that attaches between a keyboard and a computer. The keyboard attaches to the scanner, and the scanner attaches to the computer. From the computer's perspective, the scanner behaves just like an additional keyboard. When the computer runs a software program (like an inventory spreadsheet app), and barcodes are read using the wedge scanner, data is sent from the scanner to the program in the form of keystrokes. From the program's point of view, data appears exactly as if someone had typed it manually using a keyboard. How Knox Capture works In a similar way, Knox Capture also acts as a wedge between a software program and keyboard\"]\n",
      "{'source': 'all_processed_data.json', 'seq_num': 558, 'title': 'Overview', 'url': 'https://docs.samsungknox.com/admin/knox-capture/overview', 'project': 'KCAP', 'last_updated': '2023-07-26', 'family_tree': 'child', 'parent_id': '82d8d83c-62dc-489b-bceb-46555dfc9e37', 'id': '609d9d3e-b5f1-4969-862d-86ab37e67cb9'}\n",
      "\n",
      "Score: 0.9435041223042083\n",
      "['What version of Knox Platform for Enterprise is running on my device?. The most frequently asked questions about Knox Platform for Enterprise. To find out what version of Knox Platform for Enterprise your device is running, go to: Settings > About Device > Software Information > Knox Version. This is a screenshot of the device menu containing the Knox version. Here, we see that Knox 3.1 is listed under Knox version. #Looking for more information? , See Knox on Android for a list of features available in each release of Knox.']\n",
      "{'source': 'all_processed_data.json', 'seq_num': 1499, 'title': 'What version of Knox Platform for Enterprise is running on my device?', 'url': 'https://docs.samsungknox.com/admin/knox-platform-for-enterprise/faq/#what-version-of-knox-platform-for-enterprise-is-running-on-my-device', 'project': 'KPE', 'last_updated': '2023-07-26', 'family_tree': 'child', 'parent_id': 'f3133b2f-f0e1-4103-a0d5-af60b646dabe', 'id': '5a7710f1-81c2-4720-b94e-5917b9f966d4'}\n",
      "\n",
      "Score: 0.9074682553950584\n",
      "['. XCover/Active key settings - Select what happens when the device user presses the XCover key. The options available are: Application launch, Intent broadcasting, or MS Teams. When you select Application launch or Intent broadcasting, the screen refreshes to show fields that allow you to customize what happens when the key is pressed. Top key settings - Select what happens when the device user presses the top key. Use the fields under this heading to customize what happens when the key is pressed. Side key settings - Select what happens when the device user presses the side key. Use the fields under this heading to customize what happens when the key is pressed. You can specify that launching an app requires a double press. 6. On the General configuration screen, configure the following settings, and then click Continue: NFC settings - Set whether you want to enable the use of Near Field Communication (NFC) apps on the device']\n",
      "{'source': 'all_processed_data.json', 'seq_num': 1368, 'title': 'Setup and config for admins', 'url': 'https://docs.samsungknox.com/admin/knox-mobile-enrollment/on-premise/get-started/setup-and-config-for-admins', 'project': 'KME', 'last_updated': '2023-10-30', 'family_tree': 'child', 'parent_id': '17bade6a-526e-4f61-a2f5-38937934d646', 'id': 'e41d9bf6-ea51-4006-80ad-4dbfebca5607'}\n",
      "\n",
      "Score: 0.9052949341118479\n",
      "['Samsung Care+ for Business (SCB) knowledge base articles (KBAs). Explore our knowledge base for: Known SCB advanced issues and their workarounds, How-to guides for less common setups, General SCB advanced articles - What is the license assignment? What is my customer ID, and where can I find it? What is a KDP reseller? How can I get my license number? How can I activate Samsung Care+ for Business for my devices? How can I apply for a claim? How can I check the IMEI of a device? Which app do I need to install in my devices to activate Samsung Care+ for Business? How can I cancel Samsung Care+ for Business? Does Samsung Care+ for Business cover devices from other manufacturers? What is SWAP and BER?']\n",
      "{'source': 'all_processed_data.json', 'seq_num': 1732, 'title': 'Samsung Care+ for Business (SCB) knowledge base articles (KBAs)', 'url': 'https://docs.samsungknox.com/admin/care-plus/kbas', 'project': 'SCPE', 'last_updated': '2023-07-26', 'family_tree': 'child', 'parent_id': '439c720b-6ccc-4f8c-9f7e-28b9859e1b24', 'id': '949bfee4-5c90-4aaf-80e5-88ff8613b392'}\n",
      "None\n",
      "##############################\n",
      "similar_docs_without_reranker\n",
      "##############################\n",
      "\n",
      "Score: 0.008360655737704918\n",
      "['What is Knox Suite?. Knox Suite is a bundled offering designed to help enterprise IT admins better manage your fleet of devices. It includes individual services such as Knox Platform for Enterprise, Knox Mobile Enrollment, Knox Manage, Knox E-FOTA, and Knox Asset Intelligence. Key features of Knox Suite include: Secure - Ensure your business data is protected with managed security features at your control. Deploy - Enroll corporate devices to EMM automatically and securely, right out of the box. Manage - Enable comprehensive management over corporate devices and OS versions. Analyze - Strengthen in-depth device analytics for mobile productivity and asset management.']\n",
      "{'source': 'all_processed_data.json', 'seq_num': 133, 'title': ' What is Knox Suite?', 'url': 'https://docs.samsungknox.com/admin/knox-suite/faq/#what-is-knox-suite', 'project': 'KS', 'last_updated': '2023-07-26', 'family_tree': 'child', 'parent_id': 'e63e3a4d-619e-4fa3-8812-14c2e0d681ce', 'id': '1c8a2ee8-8e64-45ae-8b6a-79adcc5b85f3'}\n",
      "\n",
      "Score: 0.008225806451612904\n",
      "['Knox Suite. Knox Suite is a bundled offering of Knox solutions for enterprise mobility designed to address organizations\\' needs related to security and management throughout the entire device lifecycle. Learn more about Knox Suite #Audience This document is intended for IT Admins. Understand what\\'s included in Knox Suite and how you can use it to manage, secure, and maintain enterprise devices. Learn where to find information on how to perform various tasks with Knox\"Suite services. About Knox Suite Knox Suite is a bundled offering that includes the following Knox products: Knox Platform for Enterprise - A Knox solution that provides military-grade security to Samsung Android phones, tablets, and Tizen watches for business. Knox Mobile Enrollment - A Knox solution that allows you to enroll thousands of Samsung devices in your EMM at once. When used with a Knox Suite license, Knox Mobile Enrollment provides advanced profiles that offer IT admins additional features such as higher control over locking devices']\n",
      "{'source': 'all_processed_data.json', 'seq_num': 124, 'title': 'Knox Suite', 'url': 'https://docs.samsungknox.com/admin/knox-suite', 'project': 'KS', 'last_updated': '2023-07-26', 'family_tree': 'child', 'parent_id': 'fa4fbdd5-71d7-4d36-9301-a44ca563e183', 'id': '05b2ac3e-1ec1-490a-b132-f9c99e08e837'}\n",
      "\n",
      "Score: 0.008095238095238095\n",
      "['Knox Manage. Knox Manage is a mobile device management (MDM) solution that provides a cloud-based command center with almost 300 enterprise policies to empower IT admins to remotely track, manage, configure, and send messages to devices. This solution can manage any Android, iOS, or Windows 10 or Windows 11 device, but for maximum security, we recommend Samsung Galaxy devices integrated with the Knox platform. Try for free Audience This document is intended for: IT Admins - Enterprise IT Admins can learn how to get started with Knox Manage, dive deep into the comprehensive features, and learn how to configure and monitor devices and apps. Try the solution Bulk enroll devices so that they use Knox Manage right out-of-the box. Define enterprise groups and profiles. Configure device features and settings. Deploy, update apps, or add them to the allowlist. Create simple device kiosks. Learn how now']\n",
      "{'source': 'all_processed_data.json', 'seq_num': 967, 'title': 'Knox Manage', 'url': 'https://docs.samsungknox.com/admin/knox-manage/introduction/about-knox-manage', 'project': 'KM', 'last_updated': '2023-07-26', 'family_tree': 'child', 'parent_id': 'dd9b9251-4393-4ba3-bbbd-b61bcb359c82', 'id': 'edbdf88c-6c4f-4ed5-854e-95d43e3b09a2'}\n",
      "\n",
      "Score: 0.008032786885245903\n",
      "['Wi-Fi Enhanced Roaming Algorithm File-based encryption (FBE) and full-disk encryption (FDE) What policy do I use to block users from adding additional accounts on the device? \"Network may be monitored\" shown after installing a private CA certificate on device Does the Samsung email client support \"opaque signed\" emails? Can a network operator configure an E_APN on an employee\\'s device? If two similar Knox policies are applied to a device with an MDM, which one takes precedence? Should the Knox VPN client be installed inside or outside the Knox container? What are the package names for the Samsung Cisco AnyConnect and Juniper VPN clients? What is the minimum level of unlock method required to install a certificate in Android credential storage? What is the proper way to wildcard APK package names? Which servers do EMMs need to communicate with in order to conduct device attestation? What is the order of precedence for firewall rules? What URLs do I have to add to an allowlist to make Samsung apps work with an']\n",
      "{'source': 'all_processed_data.json', 'seq_num': 1656, 'title': 'Knox Platform for Enterprise knowledge base articles', 'url': 'https://docs.samsungknox.com/admin/knox-platform-for-enterprise/kbas', 'project': 'KPE', 'last_updated': '2023-11-06', 'family_tree': 'child', 'parent_id': '4dcaf8c3-6a46-45f0-9480-1d7a8ce10a7d', 'id': 'a52100c0-e192-4ad7-b419-42933522a461'}\n",
      "\n",
      "Score: 0.00796875\n",
      "[\"Knox Configure. Knox Configure is a cloud-based service that empowers enterprises to customize and automate the enrollment of Samsung devices purchased from authorized Samsung resellers. Knox Configure simplifies the out-of-box experience and enables a large range of configuration options. Try for free Audience This document is intended for: IT Admins - Admins create profiles with the device settings, restrictions, apps, and other content to deploy to groups of devices. After devices have been successfully enrolled in the enterprise, they receive the Knox Configure device profile via a Wi-Fi or mobile data connection. Resellers - Resellers bulk upload devices on behalf of requesting customers. Try the solution Promote and embed company branding, including animated boot screens and personalized business apps. Use this guide to apply data access restrictions as needed based on your organization's application update, notification and URL requirements\"]\n",
      "{'source': 'all_processed_data.json', 'seq_num': 362, 'title': 'Knox Configure', 'url': 'https://docs.samsungknox.com/admin/knox-configure', 'project': 'KC', 'last_updated': '2023-07-26', 'family_tree': 'child', 'parent_id': '44157c32-a447-4f1a-aed3-e27b7433132e', 'id': 'ab9551b4-7719-4db1-9b26-7b0fd123a6f3'}\n",
      "\n",
      "Score: 0.007903225806451612\n",
      "['way to wildcard APK package names? Which servers do EMMs need to communicate with in order to conduct device attestation? What is the order of precedence for firewall rules? What URLs do I have to add to an allowlist to make Samsung apps work with an authenticated proxy? Can I disable power saving mode on Knox supported devices? If I cannot resolve an SE for Android issue, who do I escalate to? Is there a way to automatically enable email sync while roaming? What does the term \"Maximum number of licenses\" mean for KPE Standard licenses? Knox legacy workspace articles Using SSO with a Common Access Card (CAC) in the Work Profile How many certificates can be stored in the Knox platform TrustZone? Accessing Knox Workspace without connecting to Active Directory network Unlocking the Knox Workspace container using Active Directory credentials What is the certificate length limit in the Knox CCM keystore? Can I create an RSA Key Pair on a Knox Platform for Enterprise device? Known issues Unable to install Samsung']\n",
      "{'source': 'all_processed_data.json', 'seq_num': 1656, 'title': 'Knox Platform for Enterprise knowledge base articles', 'url': 'https://docs.samsungknox.com/admin/knox-platform-for-enterprise/kbas', 'project': 'KPE', 'last_updated': '2023-11-06', 'family_tree': 'child', 'parent_id': '4dcaf8c3-6a46-45f0-9480-1d7a8ce10a7d', 'id': '9879d5ec-b3c9-415b-b6a2-68221d23d346'}\n",
      "\n",
      "Score: 0.007846153846153846\n",
      "[\"The Samsung Knox platform. Samsung Knox brings defense-grade security on the most popular consumer devices to all enterprises. The Knox Platform provides best-in-class hardware-based security, policy management, and compliance capabilities beyond the standard features commonplace in today's mobile device market. The Knox Platform is the cornerstone of a strong mobile security strategy supporting a wide variety of Samsung devices. Why use Samsung Knox? The Knox Platform helps you and your enterprise avoid the security gaps common on many mobile platforms. Knox received *strong* ratings in 25 of 28 categories in Gartner's December 2017 Mobile OSs and Device Security: A Comparison of Platforms and has received strong ratings for the last three years in a row. The Knox Platform's security hardening supports every aspect of mobile device operation. The Knox Platform enables trust in your mobile endpoints with advanced features like the evolutionary Knox Vault to the patented Real-Time Kernel Protection\"]\n",
      "{'source': 'all_processed_data.json', 'seq_num': 168, 'title': 'The Samsung Knox platform', 'url': 'https://docs.samsungknox.com/admin/fundamentals/whitepaper/the-samsung-knox-platform', 'project': 'USP', 'last_updated': '2023-07-26', 'family_tree': 'child', 'parent_id': 'd7d19521-e2fd-41aa-b0d7-f00bb4473f4f', 'id': 'b6e8df05-9736-408f-9366-195070c4a64a'}\n",
      "None\n",
      "##############################\n",
      "similar_docs\n",
      "##############################\n",
      "\n",
      "Score: 0.9306533932685852\n",
      "['What is Knox Suite?. Knox Suite is a bundled offering designed to help enterprise IT admins better manage your fleet of devices. It includes individual services such as Knox Platform for Enterprise, Knox Mobile Enrollment, Knox Manage, Knox E-FOTA, and Knox Asset Intelligence. Key features of Knox Suite include: Secure - Ensure your business data is protected with managed security features at your control. Deploy - Enroll corporate devices to EMM automatically and securely, right out of the box. Manage - Enable comprehensive management over corporate devices and OS versions. Analyze - Strengthen in-depth device analytics for mobile productivity and asset management.']\n",
      "{'source': 'all_processed_data.json', 'seq_num': 133, 'title': ' What is Knox Suite?', 'url': 'https://docs.samsungknox.com/admin/knox-suite/faq/#what-is-knox-suite', 'project': 'KS', 'last_updated': '2023-07-26', 'family_tree': 'parent', 'parent_id': None}\n",
      "\n",
      "Score: 0.8687121868133545\n",
      "[\"Knox Manage. Knox Manage is a mobile device management (MDM) solution that provides a cloud-based command center with almost 300 enterprise policies to empower IT admins to remotely track, manage, configure, and send messages to devices. This solution can manage any Android, iOS, or Windows 10 or Windows 11 device, but for maximum security, we recommend Samsung Galaxy devices integrated with the Knox platform. Try for free Audience This document is intended for: IT Admins - Enterprise IT Admins can learn how to get started with Knox Manage, dive deep into the comprehensive features, and learn how to configure and monitor devices and apps. Try the solution Bulk enroll devices so that they use Knox Manage right out-of-the box. Define enterprise groups and profiles. Configure device features and settings. Deploy, update apps, or add them to the allowlist. Create simple device kiosks. Learn how now. Start tutorial About Knox Manage With Knox Manage, IT admins can effectively monitor and manage employee devices with enhanced flexibility and granularity. #Components of Knox Manage 1. Knox Manage console - A web console that allows IT admins to configure, monitor, and manage devices, deploy updates, as well as manage certificates and licenses. 2. Knox Manage MDM Client - An app that is installed on devices to automate installation and enrollment to Knox Manage. 3. Knox Manage Cloud Connector - A service that creates a secure channel for data transfer between your enterprise system and the Knox Manage cloud server. 4. Certificate Authority (CA) - An authority that generates certificates to authenticate devices and users with services such as Wi-Fi, VPN, Exchange, APN, and so on. 5. Active Directory - A Lightweight Directory Access Protocol (LDAP) service that provides access to a customer's directory-based user information. Use cases Knox Manage allows IT admins to efficiently and securely manage a fleet of enterprise devices. With Knox Manage, enterprise admins can benefit from the following main features: Quick and easy deployment Deploy and enroll multiple users with minimal steps. Set up multiple users intuitively with Bulk Add. Automate installation and enrollment with the MDM service client. Create diverse professional kiosks with Knox Manage. Robust management Control a fleet of devices in real-time with precision. Manage multi-OS devices from the Knox Manage console. Apply specific policies based on pre-defined user event scenarios. Leverage Knox-differentiated features on Samsung devices. Comprehensive control Maintain granular control of mobile devices. A list of OS update versions at your disposal. Troubleshoot and maintain devices remotely. Track device locations in real time. Verify device compliance status in an instance. Key Features For a comprehensive list of features, see the Knox features on Android for Knox Manage.\"]\n",
      "{'source': 'all_processed_data.json', 'seq_num': 967, 'title': 'Knox Manage', 'url': 'https://docs.samsungknox.com/admin/knox-manage/introduction/about-knox-manage', 'project': 'KM', 'last_updated': '2023-07-26', 'family_tree': 'parent', 'parent_id': None}\n",
      "\n",
      "Score: 0.6584871411323547\n",
      "['Knox Suite. Knox Suite is a bundled offering of Knox solutions for enterprise mobility designed to address organizations\\' needs related to security and management throughout the entire device lifecycle. Learn more about Knox Suite #Audience This document is intended for IT Admins. Understand what\\'s included in Knox Suite and how you can use it to manage, secure, and maintain enterprise devices. Learn where to find information on how to perform various tasks with Knox\"Suite services. About Knox Suite Knox Suite is a bundled offering that includes the following Knox products: Knox Platform for Enterprise - A Knox solution that provides military-grade security to Samsung Android phones, tablets, and Tizen watches for business. Knox Mobile Enrollment - A Knox solution that allows you to enroll thousands of Samsung devices in your EMM at once. When used with a Knox Suite license, Knox Mobile Enrollment provides advanced profiles that offer IT admins additional features such as higher control over locking devices. Knox Manage - A Knox solution that allows you to remotely manage your fleet of mobile devices. With this EMM, you create various policies to control how users can use their devices. Knox Asset Intelligence - A data analytics solution that offers operational visibility and actionable insights to improve the management, productivity, and lifecycle of mobile devices. This solution offers real-time monitoring and management of app performance, battery usage, network connectivity, and asset location. Knox E-FOTA - A Knox solution that allows you to remotely deploy OS and security updates to your devices without requiring user interaction. With Knox E-FOTA, you create a campaign, specify the campaign period, assign devices to that campaign, and select the firmware update to be pushed to those devices during the campaign period. Knox Capture - An Android solution that lets users transform their Samsung Galaxy smartphones and tablets into powerful barcode scanners that can read, process, and output barcode information to other applications, all without requiring additional hardware or writing a single line of code. Knox Authentication Manager - A managed Android app for shared Samsung devices that provides multiuser facial biometrics and sign-in automation for increased frontline worker productivity and safety. With Knox Suite, a single license key allows you to use all included Knox products on your devices. This means that you can use the same Knox Suite license key in multiple Knox service admin portals. Benefits of Knox Suite 1. All-in-one Knox B2B package - An end-to-end solution that covers every step of your enterprise mobility journey 2. Simplified license management - You only need one license key to use all included products. 3. Streamlined onboarding process - Register once and gain access to all included Knox products. 4. Seamless IT admin user experience - IT admin can easily access bundled Knox consoles through single sign-on. To get started, click here.']\n",
      "{'source': 'all_processed_data.json', 'seq_num': 124, 'title': 'Knox Suite', 'url': 'https://docs.samsungknox.com/admin/knox-suite', 'project': 'KS', 'last_updated': '2023-07-26', 'family_tree': 'parent', 'parent_id': None}\n",
      "\n",
      "Score: 0.6129066348075867\n",
      "[\"The Samsung Knox platform. Samsung Knox brings defense-grade security on the most popular consumer devices to all enterprises. The Knox Platform provides best-in-class hardware-based security, policy management, and compliance capabilities beyond the standard features commonplace in today's mobile device market. The Knox Platform is the cornerstone of a strong mobile security strategy supporting a wide variety of Samsung devices. Why use Samsung Knox? The Knox Platform helps you and your enterprise avoid the security gaps common on many mobile platforms. Knox received *strong* ratings in 25 of 28 categories in Gartner's December 2017 Mobile OSs and Device Security: A Comparison of Platforms and has received strong ratings for the last three years in a row. The Knox Platform's security hardening supports every aspect of mobile device operation. The Knox Platform enables trust in your mobile endpoints with advanced features like the evolutionary Knox Vault to the patented Real-Time Kernel Protection . The Knox Platform ensures IT admins can securely bulk deploy the best mobile device hardware, and quickly integrate with existing business infrastructure and apps. #Key benefits for enterprises , Easily meet your organization's security and compliance requirements by providing solid platform integrity, strong data protection, and fine-grained policy enforcement. Seamlessly activate and manage Knox Platform features through an Enterprise Mobility Management (EMM) system. Flexibly support infrastructure, deployment, and management requirements through centralized remote device control, advanced VPN management, allowing and blocking apps, and granular policies that control all aspects of Samsung devices. Effortlessly upgrade from Android Enterprise, leveraging a comprehensive set of Knox Platform benefits without affecting existing deployments. Securely deploy the innovative Samsung Desktop Experience (DeX) in new work environments, unifying mobile and desktop computing on one device. The Knox Platform's cutting-edge security technology continues to be widely adopted and proven by numerous government, security, and financial agencies throughout the world. Samsung continually works with global government organizations and international regulatory bodies to meet a wide range of certification requirements designed to protect public safety and consumer privacy. Knox Platform highlights The Knox Platform provides a robust set of features to fill security and management gaps, resolve pain points identified by enterprises, and meet the strict requirements of highly regulated industries. Key strengths include the following: For a quick overview of these features, see Feature summary. Security highlights The following sections describe how the Knox Platform provides an industry-leading ecosystem of products and services to secure and ease mobile device management. Hardware-backed security The Knox Platform defends against security threats and protects enterprise data through layers of security built on top of a hardware-backed trusted environment. Trusted of the Knox Platform's security features and how they can resolve common enterprise mobile deployment pain points. The document focuses on the unique abilities of the Knox Platform. For information about other features, see the Samsung Knox website.\"]\n",
      "{'source': 'all_processed_data.json', 'seq_num': 168, 'title': 'The Samsung Knox platform', 'url': 'https://docs.samsungknox.com/admin/fundamentals/whitepaper/the-samsung-knox-platform', 'project': 'USP', 'last_updated': '2023-07-26', 'family_tree': 'parent', 'parent_id': None}\n",
      "\n",
      "Score: 0.5416658520698547\n",
      "[\"Knox Configure. Knox Configure is a cloud-based service that empowers enterprises to customize and automate the enrollment of Samsung devices purchased from authorized Samsung resellers. Knox Configure simplifies the out-of-box experience and enables a large range of configuration options. Try for free Audience This document is intended for: IT Admins - Admins create profiles with the device settings, restrictions, apps, and other content to deploy to groups of devices. After devices have been successfully enrolled in the enterprise, they receive the Knox Configure device profile via a Wi-Fi or mobile data connection. Resellers - Resellers bulk upload devices on behalf of requesting customers. Try the solution Promote and embed company branding, including animated boot screens and personalized business apps. Use this guide to apply data access restrictions as needed based on your organization's application update, notification and URL requirements. Start tutorial About Knox Configure Knox Configure is available in separate editions: Setup edition Setup edition supports one-time configuration of enrolled devices and settings. To change a device configuration after initial policies are set, devices must be factory resettled and new policies must be re-applied. Setup edition includes a select subset of the policies and settings available in the Dynamic edition's normal mode. Dynamic edition Knox Configure Dynamic edition allows you to deploy and update enrolled device policies as many times as needed without a factory reset. Supported features include ProKiosk mode, Enterprise Billing, Knox Shared Devices and numerous other enhancements. Dynamic edition includes all the policies and settings available in the Setup edition, plus many more. Prerequisites Following prerequisites must be satisfied to use Knox Configure: Knox Configure portal doesn't support these special characters: \\\\# / $ \\\\* % ^ & \\\\\\\\ ( ) + ? [ ] Ensure they are not used when inputting characters into the portal. 1. Supported phones, tablets or wearable devices purchased from a participating reseller in the Knox Deployment Program. If you are not sure whether your reseller is participating in the program, contact the reseller or a Samsung Sales Representative for more information. 2. The appropriate Knox licenses purchased from a Knox Reseller (for commercial deployment). 3. A Knox account. For more information, see Sign up for Knox Configure. 4. The correct firewall exemptions needed to extend beyond your local and protected network domain and securely connect to the Knox Configure server. For more information, see Knox Configure firewall exceptions. 5. A supported browser (Edge, Firefox, or Chrome). The deployment process Using a web-based console, IT admins create profiles with the device settings, restrictions, apps, and other content to be deployed to groups of devices. After devices have been successfully enrolled in the enterprise, they receive device profiles via Wi-Fi or mobile data. This image below outlines the Knox Configure deployment process flow: Once a profile is configured, it can be assigned to specific Knox Configure managed devices. Device assignment is the final step in the configuration process, though devices can be locked by carriers and resellers post deployment. For more information, see Assign and deploy a profile to device. Device states Devices that are submitted to Knox Configure progress through the following states when assigned profiles and configurations are pushed to the device: For information on a selected device's unique device details and device log, see Device details and logs. Unassigned - The device is uploaded to Knox Configure, but there are no profiles yet assigned or a previously applied profile has been unassigned. Profile assigned - A profile was assigned to the device, but the device is yet to be configured. For example, the device may not have been powered on since a profile has been assigned\"]\n",
      "{'source': 'all_processed_data.json', 'seq_num': 362, 'title': 'Knox Configure', 'url': 'https://docs.samsungknox.com/admin/knox-configure', 'project': 'KC', 'last_updated': '2023-07-26', 'family_tree': 'parent', 'parent_id': None}\n",
      "None\n",
      "\n",
      "==========  Results  ==========\n",
      "\n",
      "1. question: What is knox?\n",
      "2. # documents: 5\n",
      "3. Documents: \n",
      "\n",
      "\n",
      "-----------------------------------------------\n",
      "1. Chunk: 674 Characters\n",
      "-----------------------------------------------\n",
      "What is Knox Suite?. Knox Suite is a bundled offering designed to help enterprise IT admins better\n",
      "manage your fleet of devices. It includes individual services such as Knox Platform for Enterprise,\n",
      "Knox Mobile Enrollment, Knox Manage, Knox E-FOTA, and Knox Asset Intelligence. Key features of Knox\n",
      "Suite include: Secure - Ensure your business data is protected with managed security features at\n",
      "your control. Deploy - Enroll corporate devices to EMM automatically and securely, right out of the\n",
      "box. Manage - Enable comprehensive management over corporate devices and OS versions. Analyze -\n",
      "Strengthen in-depth device analytics for mobile productivity and asset management.\n",
      "metadata:\n",
      " {'source': 'all_processed_data.json', 'seq_num': 133, 'title': ' What is Knox Suite?', 'url':\n",
      "'https://docs.samsungknox.com/admin/knox-suite/faq/#what-is-knox-suite', 'project': 'KS',\n",
      "'last_updated': '2023-07-26', 'family_tree': 'parent', 'parent_id': None, 'orig_elements': ''}\n",
      "\n",
      "-----------------------------------------------\n",
      "2. Chunk: 2878 Characters\n",
      "-----------------------------------------------\n",
      "Knox Manage. Knox Manage is a mobile device management (MDM) solution that provides a cloud-based\n",
      "command center with almost 300 enterprise policies to empower IT admins to remotely track, manage,\n",
      "configure, and send messages to devices. This solution can manage any Android, iOS, or Windows 10 or\n",
      "Windows 11 device, but for maximum security, we recommend Samsung Galaxy devices integrated with the\n",
      "Knox platform. Try for free Audience This document is intended for: IT Admins - Enterprise IT Admins\n",
      "can learn how to get started with Knox Manage, dive deep into the comprehensive features, and learn\n",
      "how to configure and monitor devices and apps. Try the solution Bulk enroll devices so that they use\n",
      "Knox Manage right out-of-the box. Define enterprise groups and profiles. Configure device features\n",
      "and settings. Deploy, update apps, or add them to the allowlist. Create simple device kiosks. Learn\n",
      "how now. Start tutorial About Knox Manage With Knox Manage, IT admins can effectively monitor and\n",
      "manage employee devices with enhanced flexibility and granularity. #Components of Knox Manage 1.\n",
      "Knox Manage console - A web console that allows IT admins to configure, monitor, and manage devices,\n",
      "deploy updates, as well as manage certificates and licenses. 2. Knox Manage MDM Client - An app that\n",
      "is installed on devices to automate installation and enrollment to Knox Manage. 3. Knox Manage Cloud\n",
      "Connector - A service that creates a secure channel for data transfer between your enterprise system\n",
      "and the Knox Manage cloud server. 4. Certificate Authority (CA) - An authority that generates\n",
      "certificates to authenticate devices and users with services such as Wi-Fi, VPN, Exchange, APN, and\n",
      "so on. 5. Active Directory - A Lightweight Directory Access Protocol (LDAP) service that provides\n",
      "access to a customer's directory-based user information. Use cases Knox Manage allows IT admins to\n",
      "efficiently and securely manage a fleet of enterprise devices. With Knox Manage, enterprise admins\n",
      "can benefit from the following main features: Quick and easy deployment Deploy and enroll multiple\n",
      "users with minimal steps. Set up multiple users intuitively with Bulk Add. Automate installation and\n",
      "enrollment with the MDM service client. Create diverse professional kiosks with Knox Manage. Robust\n",
      "management Control a fleet of devices in real-time with precision. Manage multi-OS devices from the\n",
      "Knox Manage console. Apply specific policies based on pre-defined user event scenarios. Leverage\n",
      "Knox-differentiated features on Samsung devices. Comprehensive control Maintain granular control of\n",
      "mobile devices. A list of OS update versions at your disposal. Troubleshoot and maintain devices\n",
      "remotely. Track device locations in real time. Verify device compliance status in an instance. Key\n",
      "Features For a comprehensive list of features, see the Knox features on Android for Knox Manage.\n",
      "metadata:\n",
      " {'source': 'all_processed_data.json', 'seq_num': 967, 'title': 'Knox Manage', 'url':\n",
      "'https://docs.samsungknox.com/admin/knox-manage/introduction/about-knox-manage', 'project': 'KM',\n",
      "'last_updated': '2023-07-26', 'family_tree': 'parent', 'parent_id': None, 'orig_elements': ''}\n",
      "\n",
      "-----------------------------------------------\n",
      "3. Chunk: 3018 Characters\n",
      "-----------------------------------------------\n",
      "Knox Suite. Knox Suite is a bundled offering of Knox solutions for enterprise mobility designed to\n",
      "address organizations' needs related to security and management throughout the entire device\n",
      "lifecycle. Learn more about Knox Suite #Audience This document is intended for IT Admins. Understand\n",
      "what's included in Knox Suite and how you can use it to manage, secure, and maintain enterprise\n",
      "devices. Learn where to find information on how to perform various tasks with Knox\"Suite services.\n",
      "About Knox Suite Knox Suite is a bundled offering that includes the following Knox products: Knox\n",
      "Platform for Enterprise - A Knox solution that provides military-grade security to Samsung Android\n",
      "phones, tablets, and Tizen watches for business. Knox Mobile Enrollment - A Knox solution that\n",
      "allows you to enroll thousands of Samsung devices in your EMM at once. When used with a Knox Suite\n",
      "license, Knox Mobile Enrollment provides advanced profiles that offer IT admins additional features\n",
      "such as higher control over locking devices. Knox Manage - A Knox solution that allows you to\n",
      "remotely manage your fleet of mobile devices. With this EMM, you create various policies to control\n",
      "how users can use their devices. Knox Asset Intelligence - A data analytics solution that offers\n",
      "operational visibility and actionable insights to improve the management, productivity, and\n",
      "lifecycle of mobile devices. This solution offers real-time monitoring and management of app\n",
      "performance, battery usage, network connectivity, and asset location. Knox E-FOTA - A Knox solution\n",
      "that allows you to remotely deploy OS and security updates to your devices without requiring user\n",
      "interaction. With Knox E-FOTA, you create a campaign, specify the campaign period, assign devices to\n",
      "that campaign, and select the firmware update to be pushed to those devices during the campaign\n",
      "period. Knox Capture - An Android solution that lets users transform their Samsung Galaxy\n",
      "smartphones and tablets into powerful barcode scanners that can read, process, and output barcode\n",
      "information to other applications, all without requiring additional hardware or writing a single\n",
      "line of code. Knox Authentication Manager - A managed Android app for shared Samsung devices that\n",
      "provides multiuser facial biometrics and sign-in automation for increased frontline worker\n",
      "productivity and safety. With Knox Suite, a single license key allows you to use all included Knox\n",
      "products on your devices. This means that you can use the same Knox Suite license key in multiple\n",
      "Knox service admin portals. Benefits of Knox Suite 1. All-in-one Knox B2B package - An end-to-end\n",
      "solution that covers every step of your enterprise mobility journey 2. Simplified license management\n",
      "- You only need one license key to use all included products. 3. Streamlined onboarding process -\n",
      "Register once and gain access to all included Knox products. 4. Seamless IT admin user experience -\n",
      "IT admin can easily access bundled Knox consoles through single sign-on. To get started, click here.\n",
      "metadata:\n",
      " {'source': 'all_processed_data.json', 'seq_num': 124, 'title': 'Knox Suite', 'url':\n",
      "'https://docs.samsungknox.com/admin/knox-suite', 'project': 'KS', 'last_updated': '2023-07-26',\n",
      "'family_tree': 'parent', 'parent_id': None, 'orig_elements': ''}\n",
      "\n",
      "-----------------------------------------------\n",
      "4. Chunk: 3344 Characters\n",
      "-----------------------------------------------\n",
      "The Samsung Knox platform. Samsung Knox brings defense-grade security on the most popular consumer\n",
      "devices to all enterprises. The Knox Platform provides best-in-class hardware-based security, policy\n",
      "management, and compliance capabilities beyond the standard features commonplace in today's mobile\n",
      "device market. The Knox Platform is the cornerstone of a strong mobile security strategy supporting\n",
      "a wide variety of Samsung devices. Why use Samsung Knox? The Knox Platform helps you and your\n",
      "enterprise avoid the security gaps common on many mobile platforms. Knox received *strong* ratings\n",
      "in 25 of 28 categories in Gartner's December 2017 Mobile OSs and Device Security: A Comparison of\n",
      "Platforms and has received strong ratings for the last three years in a row. The Knox Platform's\n",
      "security hardening supports every aspect of mobile device operation. The Knox Platform enables trust\n",
      "in your mobile endpoints with advanced features like the evolutionary Knox Vault to the patented\n",
      "Real-Time Kernel Protection . The Knox Platform ensures IT admins can securely bulk deploy the best\n",
      "mobile device hardware, and quickly integrate with existing business infrastructure and apps. #Key\n",
      "benefits for enterprises , Easily meet your organization's security and compliance requirements by\n",
      "providing solid platform integrity, strong data protection, and fine-grained policy enforcement.\n",
      "Seamlessly activate and manage Knox Platform features through an Enterprise Mobility Management\n",
      "(EMM) system. Flexibly support infrastructure, deployment, and management requirements through\n",
      "centralized remote device control, advanced VPN management, allowing and blocking apps, and granular\n",
      "policies that control all aspects of Samsung devices. Effortlessly upgrade from Android Enterprise,\n",
      "leveraging a comprehensive set of Knox Platform benefits without affecting existing deployments.\n",
      "Securely deploy the innovative Samsung Desktop Experience (DeX) in new work environments, unifying\n",
      "mobile and desktop computing on one device. The Knox Platform's cutting-edge security technology\n",
      "continues to be widely adopted and proven by numerous government, security, and financial agencies\n",
      "throughout the world. Samsung continually works with global government organizations and\n",
      "international regulatory bodies to meet a wide range of certification requirements designed to\n",
      "protect public safety and consumer privacy. Knox Platform highlights The Knox Platform provides a\n",
      "robust set of features to fill security and management gaps, resolve pain points identified by\n",
      "enterprises, and meet the strict requirements of highly regulated industries. Key strengths include\n",
      "the following: For a quick overview of these features, see Feature summary. Security highlights The\n",
      "following sections describe how the Knox Platform provides an industry-leading ecosystem of products\n",
      "and services to secure and ease mobile device management. Hardware-backed security The Knox Platform\n",
      "defends against security threats and protects enterprise data through layers of security built on\n",
      "top of a hardware-backed trusted environment. Trusted of the Knox Platform's security features and\n",
      "how they can resolve common enterprise mobile deployment pain points. The document focuses on the\n",
      "unique abilities of the Knox Platform. For information about other features, see the Samsung Knox\n",
      "website.\n",
      "metadata:\n",
      " {'source': 'all_processed_data.json', 'seq_num': 168, 'title': 'The Samsung Knox platform', 'url':\n",
      "'https://docs.samsungknox.com/admin/fundamentals/whitepaper/the-samsung-knox-platform', 'project':\n",
      "'USP', 'last_updated': '2023-07-26', 'family_tree': 'parent', 'parent_id': None, 'orig_elements':\n",
      "''}\n",
      "\n",
      "-----------------------------------------------\n",
      "5. Chunk: 3974 Characters\n",
      "-----------------------------------------------\n",
      "Knox Configure. Knox Configure is a cloud-based service that empowers enterprises to customize and\n",
      "automate the enrollment of Samsung devices purchased from authorized Samsung resellers. Knox\n",
      "Configure simplifies the out-of-box experience and enables a large range of configuration options.\n",
      "Try for free Audience This document is intended for: IT Admins - Admins create profiles with the\n",
      "device settings, restrictions, apps, and other content to deploy to groups of devices. After devices\n",
      "have been successfully enrolled in the enterprise, they receive the Knox Configure device profile\n",
      "via a Wi-Fi or mobile data connection. Resellers - Resellers bulk upload devices on behalf of\n",
      "requesting customers. Try the solution Promote and embed company branding, including animated boot\n",
      "screens and personalized business apps. Use this guide to apply data access restrictions as needed\n",
      "based on your organization's application update, notification and URL requirements. Start tutorial\n",
      "About Knox Configure Knox Configure is available in separate editions: Setup edition Setup edition\n",
      "supports one-time configuration of enrolled devices and settings. To change a device configuration\n",
      "after initial policies are set, devices must be factory resettled and new policies must be re-\n",
      "applied. Setup edition includes a select subset of the policies and settings available in the\n",
      "Dynamic edition's normal mode. Dynamic edition Knox Configure Dynamic edition allows you to deploy\n",
      "and update enrolled device policies as many times as needed without a factory reset. Supported\n",
      "features include ProKiosk mode, Enterprise Billing, Knox Shared Devices and numerous other\n",
      "enhancements. Dynamic edition includes all the policies and settings available in the Setup edition,\n",
      "plus many more. Prerequisites Following prerequisites must be satisfied to use Knox Configure: Knox\n",
      "Configure portal doesn't support these special characters: \\# / $ \\* % ^ & \\\\ ( ) + ? [ ] Ensure\n",
      "they are not used when inputting characters into the portal. 1. Supported phones, tablets or\n",
      "wearable devices purchased from a participating reseller in the Knox Deployment Program. If you are\n",
      "not sure whether your reseller is participating in the program, contact the reseller or a Samsung\n",
      "Sales Representative for more information. 2. The appropriate Knox licenses purchased from a Knox\n",
      "Reseller (for commercial deployment). 3. A Knox account. For more information, see Sign up for Knox\n",
      "Configure. 4. The correct firewall exemptions needed to extend beyond your local and protected\n",
      "network domain and securely connect to the Knox Configure server. For more information, see Knox\n",
      "Configure firewall exceptions. 5. A supported browser (Edge, Firefox, or Chrome). The deployment\n",
      "process Using a web-based console, IT admins create profiles with the device settings, restrictions,\n",
      "apps, and other content to be deployed to groups of devices. After devices have been successfully\n",
      "enrolled in the enterprise, they receive device profiles via Wi-Fi or mobile data. This image below\n",
      "outlines the Knox Configure deployment process flow: Once a profile is configured, it can be\n",
      "assigned to specific Knox Configure managed devices. Device assignment is the final step in the\n",
      "configuration process, though devices can be locked by carriers and resellers post deployment. For\n",
      "more information, see Assign and deploy a profile to device. Device states Devices that are\n",
      "submitted to Knox Configure progress through the following states when assigned profiles and\n",
      "configurations are pushed to the device: For information on a selected device's unique device\n",
      "details and device log, see Device details and logs. Unassigned - The device is uploaded to Knox\n",
      "Configure, but there are no profiles yet assigned or a previously applied profile has been\n",
      "unassigned. Profile assigned - A profile was assigned to the device, but the device is yet to be\n",
      "configured. For example, the device may not have been powered on since a profile has been assigned\n",
      "metadata:\n",
      " {'source': 'all_processed_data.json', 'seq_num': 362, 'title': 'Knox Configure', 'url':\n",
      "'https://docs.samsungknox.com/admin/knox-configure', 'project': 'KC', 'last_updated': '2023-07-26',\n",
      "'family_tree': 'parent', 'parent_id': None, 'orig_elements': ''}\n",
      "CPU times: user 286 ms, sys: 28.2 ms, total: 314 ms\n",
      "Wall time: 526 ms\n"
     ]
    }
   ],
   "source": [
    "%%time\n",
    "search_hybrid_result = opensearch_hybrid_retriever.invoke(query)\n",
    "\n",
    "print(\"\\n==========  Results  ==========\\n\")\n",
    "print(f'1. question: {query}')\n",
    "print (f'2. # documents: {len(search_hybrid_result)}')\n",
    "print(\"3. Documents: \\n\")\n",
    "\n",
    "show_context_used(search_hybrid_result)"
   ]
  },
  {
   "cell_type": "markdown",
   "id": "c09221b5-4a6c-463b-9769-35cc8362e33c",
   "metadata": {},
   "source": [
    "- update parameters\n",
    "    - **parent_document=False**"
   ]
  },
  {
   "cell_type": "code",
   "execution_count": 31,
   "id": "b7bb4672-d2b8-4b29-b71c-b06d84bcd470",
   "metadata": {
    "tags": []
   },
   "outputs": [],
   "source": [
    "opensearch_hybrid_retriever.update_search_params(\n",
    "    k=5,\n",
    "    minimum_should_match=0,\n",
    "    #filter=[],\n",
    "    filter=[\n",
    "        #{'term': {'metadata.project': 'KS'}},\n",
    "        #{'term': {'metadata.family_tree': 'child'}},\n",
    "    ],\n",
    "    reranker=True,\n",
    "    reranker_endpoint_name=endpoint_name,\n",
    "    parent_document=False, # enable parent document\n",
    "    verbose=True,\n",
    ")"
   ]
  },
  {
   "cell_type": "code",
   "execution_count": 32,
   "id": "1b9b45b1-cb92-4954-8087-143a550350c8",
   "metadata": {
    "collapsed": true,
    "jupyter": {
     "outputs_hidden": true
    },
    "tags": []
   },
   "outputs": [
    {
     "name": "stderr",
     "output_type": "stream",
     "text": [
      "/tmp/ipykernel_32381/3505594201.py:2: LangChainDeprecationWarning: The method `BaseRetriever.get_relevant_documents` was deprecated in langchain-core 0.1.46 and will be removed in 1.0. Use :meth:`~invoke` instead.\n",
      "  search_hybrid_result = opensearch_hybrid_retriever.get_relevant_documents(query)\n"
     ]
    },
    {
     "name": "stdout",
     "output_type": "stream",
     "text": [
      "##############################\n",
      "async_mode\n",
      "##############################\n",
      "True\n",
      "##############################\n",
      "reranker\n",
      "##############################\n",
      "True\n",
      "##############################\n",
      "rag_fusion\n",
      "##############################\n",
      "False\n",
      "##############################\n",
      "HyDE\n",
      "##############################\n",
      "False\n",
      "##############################\n",
      "parent_document\n",
      "##############################\n",
      "False\n",
      "##############################\n",
      "complex_document\n",
      "##############################\n",
      "False\n",
      "##############################\n",
      "similar_docs_semantic\n",
      "##############################\n",
      "\n",
      "Score: 1.0\n",
      "['What is Knox Suite?. Knox Suite is a bundled offering designed to help enterprise IT admins better manage your fleet of devices. It includes individual services such as Knox Platform for Enterprise, Knox Mobile Enrollment, Knox Manage, Knox E-FOTA, and Knox Asset Intelligence. Key features of Knox Suite include: Secure - Ensure your business data is protected with managed security features at your control. Deploy - Enroll corporate devices to EMM automatically and securely, right out of the box. Manage - Enable comprehensive management over corporate devices and OS versions. Analyze - Strengthen in-depth device analytics for mobile productivity and asset management.']\n",
      "{'source': 'all_processed_data.json', 'seq_num': 133, 'title': ' What is Knox Suite?', 'url': 'https://docs.samsungknox.com/admin/knox-suite/faq/#what-is-knox-suite', 'project': 'KS', 'last_updated': '2023-07-26', 'family_tree': 'child', 'parent_id': 'e63e3a4d-619e-4fa3-8812-14c2e0d681ce', 'id': '1c8a2ee8-8e64-45ae-8b6a-79adcc5b85f3'}\n",
      "\n",
      "Score: 0.9679796885127099\n",
      "['Knox Suite. Knox Suite is a bundled offering of Knox solutions for enterprise mobility designed to address organizations\\' needs related to security and management throughout the entire device lifecycle. Learn more about Knox Suite #Audience This document is intended for IT Admins. Understand what\\'s included in Knox Suite and how you can use it to manage, secure, and maintain enterprise devices. Learn where to find information on how to perform various tasks with Knox\"Suite services. About Knox Suite Knox Suite is a bundled offering that includes the following Knox products: Knox Platform for Enterprise - A Knox solution that provides military-grade security to Samsung Android phones, tablets, and Tizen watches for business. Knox Mobile Enrollment - A Knox solution that allows you to enroll thousands of Samsung devices in your EMM at once. When used with a Knox Suite license, Knox Mobile Enrollment provides advanced profiles that offer IT admins additional features such as higher control over locking devices']\n",
      "{'source': 'all_processed_data.json', 'seq_num': 124, 'title': 'Knox Suite', 'url': 'https://docs.samsungknox.com/admin/knox-suite', 'project': 'KS', 'last_updated': '2023-07-26', 'family_tree': 'child', 'parent_id': 'fa4fbdd5-71d7-4d36-9301-a44ca563e183', 'id': '05b2ac3e-1ec1-490a-b132-f9c99e08e837'}\n",
      "\n",
      "Score: 0.9669522604376061\n",
      "['Knox Manage. Knox Manage is a mobile device management (MDM) solution that provides a cloud-based command center with almost 300 enterprise policies to empower IT admins to remotely track, manage, configure, and send messages to devices. This solution can manage any Android, iOS, or Windows 10 or Windows 11 device, but for maximum security, we recommend Samsung Galaxy devices integrated with the Knox platform. Try for free Audience This document is intended for: IT Admins - Enterprise IT Admins can learn how to get started with Knox Manage, dive deep into the comprehensive features, and learn how to configure and monitor devices and apps. Try the solution Bulk enroll devices so that they use Knox Manage right out-of-the box. Define enterprise groups and profiles. Configure device features and settings. Deploy, update apps, or add them to the allowlist. Create simple device kiosks. Learn how now']\n",
      "{'source': 'all_processed_data.json', 'seq_num': 967, 'title': 'Knox Manage', 'url': 'https://docs.samsungknox.com/admin/knox-manage/introduction/about-knox-manage', 'project': 'KM', 'last_updated': '2023-07-26', 'family_tree': 'child', 'parent_id': 'dd9b9251-4393-4ba3-bbbd-b61bcb359c82', 'id': 'edbdf88c-6c4f-4ed5-854e-95d43e3b09a2'}\n",
      "\n",
      "Score: 0.9609080347906266\n",
      "[\"Knox Configure. Knox Configure is a cloud-based service that empowers enterprises to customize and automate the enrollment of Samsung devices purchased from authorized Samsung resellers. Knox Configure simplifies the out-of-box experience and enables a large range of configuration options. Try for free Audience This document is intended for: IT Admins - Admins create profiles with the device settings, restrictions, apps, and other content to deploy to groups of devices. After devices have been successfully enrolled in the enterprise, they receive the Knox Configure device profile via a Wi-Fi or mobile data connection. Resellers - Resellers bulk upload devices on behalf of requesting customers. Try the solution Promote and embed company branding, including animated boot screens and personalized business apps. Use this guide to apply data access restrictions as needed based on your organization's application update, notification and URL requirements\"]\n",
      "{'source': 'all_processed_data.json', 'seq_num': 362, 'title': 'Knox Configure', 'url': 'https://docs.samsungknox.com/admin/knox-configure', 'project': 'KC', 'last_updated': '2023-07-26', 'family_tree': 'child', 'parent_id': '44157c32-a447-4f1a-aed3-e27b7433132e', 'id': 'ab9551b4-7719-4db1-9b26-7b0fd123a6f3'}\n",
      "\n",
      "Score: 0.9485995106225997\n",
      "[\"The Samsung Knox platform. Samsung Knox brings defense-grade security on the most popular consumer devices to all enterprises. The Knox Platform provides best-in-class hardware-based security, policy management, and compliance capabilities beyond the standard features commonplace in today's mobile device market. The Knox Platform is the cornerstone of a strong mobile security strategy supporting a wide variety of Samsung devices. Why use Samsung Knox? The Knox Platform helps you and your enterprise avoid the security gaps common on many mobile platforms. Knox received *strong* ratings in 25 of 28 categories in Gartner's December 2017 Mobile OSs and Device Security: A Comparison of Platforms and has received strong ratings for the last three years in a row. The Knox Platform's security hardening supports every aspect of mobile device operation. The Knox Platform enables trust in your mobile endpoints with advanced features like the evolutionary Knox Vault to the patented Real-Time Kernel Protection\"]\n",
      "{'source': 'all_processed_data.json', 'seq_num': 168, 'title': 'The Samsung Knox platform', 'url': 'https://docs.samsungknox.com/admin/fundamentals/whitepaper/the-samsung-knox-platform', 'project': 'USP', 'last_updated': '2023-07-26', 'family_tree': 'child', 'parent_id': 'd7d19521-e2fd-41aa-b0d7-f00bb4473f4f', 'id': 'b6e8df05-9736-408f-9366-195070c4a64a'}\n",
      "\n",
      "Score: 0.945533991605506\n",
      "['What is Knox Mobile Enrollment?. Knox Mobile Enrollment is an automated and streamlined EMM enrollment tool that enables you to provision thousands of devices for enterprise management, with less hassle for both IT admins and device users. With our advanced staging and security options that flex to your needs, enroll work devices safely across any network environment or fleet size. Knox Mobile Enrollment is fully integrated with Samsung devices and services for an end-to-end experience.']\n",
      "{'source': 'all_processed_data.json', 'seq_num': 1424, 'title': 'What is Knox Mobile Enrollment?', 'url': 'https://docs.samsungknox.com/admin/knox-mobile-enrollment/faq/#what-is-knox-mobile-enrollment', 'project': 'KME', 'last_updated': '2023-09-18', 'family_tree': 'child', 'parent_id': '78724530-b2f7-4e05-9be1-96245fd663f0', 'id': '6dbea806-cdd1-43bf-bb2d-261c55a7c8fc'}\n",
      "\n",
      "Score: 0.9450818726929261\n",
      "['What is the purpose of Knox Configure?. Knox Configure is a cloud-based solution for customizing and staging Samsung devices remotely, right out of the box. It helps service and content providers rebrand and customize Samsung devices with a frictionless, out-of-the-box setup process. Advanced device configuration enables them to tailor every granular aspect to their specific needs and to transform devices into purpose-built appliances. For a comprehensive list of features, see Knox features on Android.']\n",
      "{'source': 'all_processed_data.json', 'seq_num': 480, 'title': 'What is the purpose of Knox Configure?', 'url': 'https://docs.samsungknox.com/admin/knox-configure/faq/#what-is-the-purpose-of-knox-configure', 'project': 'KC', 'last_updated': '2023-07-26', 'family_tree': 'child', 'parent_id': '63dd8ef7-ea72-4bea-b77b-47e4088ca7b3', 'id': '7989beaa-3cf8-4f07-abc0-fb6c433f8fa7'}\n",
      "None\n",
      "##############################\n",
      "similar_docs_keyword\n",
      "##############################\n",
      "\n",
      "Score: 1.0\n",
      "['Wi-Fi Enhanced Roaming Algorithm File-based encryption (FBE) and full-disk encryption (FDE) What policy do I use to block users from adding additional accounts on the device? \"Network may be monitored\" shown after installing a private CA certificate on device Does the Samsung email client support \"opaque signed\" emails? Can a network operator configure an E_APN on an employee\\'s device? If two similar Knox policies are applied to a device with an MDM, which one takes precedence? Should the Knox VPN client be installed inside or outside the Knox container? What are the package names for the Samsung Cisco AnyConnect and Juniper VPN clients? What is the minimum level of unlock method required to install a certificate in Android credential storage? What is the proper way to wildcard APK package names? Which servers do EMMs need to communicate with in order to conduct device attestation? What is the order of precedence for firewall rules? What URLs do I have to add to an allowlist to make Samsung apps work with an']\n",
      "{'source': 'all_processed_data.json', 'seq_num': 1656, 'title': 'Knox Platform for Enterprise knowledge base articles', 'url': 'https://docs.samsungknox.com/admin/knox-platform-for-enterprise/kbas', 'project': 'KPE', 'last_updated': '2023-11-06', 'family_tree': 'child', 'parent_id': '4dcaf8c3-6a46-45f0-9480-1d7a8ce10a7d', 'id': 'a52100c0-e192-4ad7-b419-42933522a461'}\n",
      "\n",
      "Score: 0.9708813984600768\n",
      "['way to wildcard APK package names? Which servers do EMMs need to communicate with in order to conduct device attestation? What is the order of precedence for firewall rules? What URLs do I have to add to an allowlist to make Samsung apps work with an authenticated proxy? Can I disable power saving mode on Knox supported devices? If I cannot resolve an SE for Android issue, who do I escalate to? Is there a way to automatically enable email sync while roaming? What does the term \"Maximum number of licenses\" mean for KPE Standard licenses? Knox legacy workspace articles Using SSO with a Common Access Card (CAC) in the Work Profile How many certificates can be stored in the Knox platform TrustZone? Accessing Knox Workspace without connecting to Active Directory network Unlocking the Knox Workspace container using Active Directory credentials What is the certificate length limit in the Knox CCM keystore? Can I create an RSA Key Pair on a Knox Platform for Enterprise device? Known issues Unable to install Samsung']\n",
      "{'source': 'all_processed_data.json', 'seq_num': 1656, 'title': 'Knox Platform for Enterprise knowledge base articles', 'url': 'https://docs.samsungknox.com/admin/knox-platform-for-enterprise/kbas', 'project': 'KPE', 'last_updated': '2023-11-06', 'family_tree': 'child', 'parent_id': '4dcaf8c3-6a46-45f0-9480-1d7a8ce10a7d', 'id': '9879d5ec-b3c9-415b-b6a2-68221d23d346'}\n",
      "\n",
      "Score: 0.9627449144108572\n",
      "['. What is an Approval ID? Who uploads devices to Knox Guard? What does a Complete device status mean in Knox Guard? What are the options for stopping payment blink reminders on an overdue device? How do I restrict a device to a particular telecom operator? How do I restrict a device to the first inserted SIM of an allowed telecom operator?']\n",
      "{'source': 'all_processed_data.json', 'seq_num': 734, 'title': 'Knox Guard knowledge base articles', 'url': 'https://docs.samsungknox.com/admin/knox-guard/kbas', 'project': 'KG', 'last_updated': '2023-07-26', 'family_tree': 'child', 'parent_id': '8a49bda7-9d67-4406-9426-43484a47e119', 'id': '1e0d6aeb-612e-42da-ae1a-e6251549d77c'}\n",
      "\n",
      "Score: 0.9564522481879137\n",
      "[\"Overview. Get started with the basics by learning what Knox Capture is and how it works. What is Knox Capture? To help explain what Knox Capture does, it may be helpful to start with an understanding of what a *wedge* scanner is, and how it relates to the Knox Capture solution. In traditional hardware-based barcode scanning terminology, a wedge scanner is a physical device that attaches between a keyboard and a computer. The keyboard attaches to the scanner, and the scanner attaches to the computer. From the computer's perspective, the scanner behaves just like an additional keyboard. When the computer runs a software program (like an inventory spreadsheet app), and barcodes are read using the wedge scanner, data is sent from the scanner to the program in the form of keystrokes. From the program's point of view, data appears exactly as if someone had typed it manually using a keyboard. How Knox Capture works In a similar way, Knox Capture also acts as a wedge between a software program and keyboard\"]\n",
      "{'source': 'all_processed_data.json', 'seq_num': 558, 'title': 'Overview', 'url': 'https://docs.samsungknox.com/admin/knox-capture/overview', 'project': 'KCAP', 'last_updated': '2023-07-26', 'family_tree': 'child', 'parent_id': '82d8d83c-62dc-489b-bceb-46555dfc9e37', 'id': '609d9d3e-b5f1-4969-862d-86ab37e67cb9'}\n",
      "\n",
      "Score: 0.9435041223042083\n",
      "['What version of Knox Platform for Enterprise is running on my device?. The most frequently asked questions about Knox Platform for Enterprise. To find out what version of Knox Platform for Enterprise your device is running, go to: Settings > About Device > Software Information > Knox Version. This is a screenshot of the device menu containing the Knox version. Here, we see that Knox 3.1 is listed under Knox version. #Looking for more information? , See Knox on Android for a list of features available in each release of Knox.']\n",
      "{'source': 'all_processed_data.json', 'seq_num': 1499, 'title': 'What version of Knox Platform for Enterprise is running on my device?', 'url': 'https://docs.samsungknox.com/admin/knox-platform-for-enterprise/faq/#what-version-of-knox-platform-for-enterprise-is-running-on-my-device', 'project': 'KPE', 'last_updated': '2023-07-26', 'family_tree': 'child', 'parent_id': 'f3133b2f-f0e1-4103-a0d5-af60b646dabe', 'id': '5a7710f1-81c2-4720-b94e-5917b9f966d4'}\n",
      "\n",
      "Score: 0.9074682553950584\n",
      "['. XCover/Active key settings - Select what happens when the device user presses the XCover key. The options available are: Application launch, Intent broadcasting, or MS Teams. When you select Application launch or Intent broadcasting, the screen refreshes to show fields that allow you to customize what happens when the key is pressed. Top key settings - Select what happens when the device user presses the top key. Use the fields under this heading to customize what happens when the key is pressed. Side key settings - Select what happens when the device user presses the side key. Use the fields under this heading to customize what happens when the key is pressed. You can specify that launching an app requires a double press. 6. On the General configuration screen, configure the following settings, and then click Continue: NFC settings - Set whether you want to enable the use of Near Field Communication (NFC) apps on the device']\n",
      "{'source': 'all_processed_data.json', 'seq_num': 1368, 'title': 'Setup and config for admins', 'url': 'https://docs.samsungknox.com/admin/knox-mobile-enrollment/on-premise/get-started/setup-and-config-for-admins', 'project': 'KME', 'last_updated': '2023-10-30', 'family_tree': 'child', 'parent_id': '17bade6a-526e-4f61-a2f5-38937934d646', 'id': 'e41d9bf6-ea51-4006-80ad-4dbfebca5607'}\n",
      "\n",
      "Score: 0.9052949341118479\n",
      "['Samsung Care+ for Business (SCB) knowledge base articles (KBAs). Explore our knowledge base for: Known SCB advanced issues and their workarounds, How-to guides for less common setups, General SCB advanced articles - What is the license assignment? What is my customer ID, and where can I find it? What is a KDP reseller? How can I get my license number? How can I activate Samsung Care+ for Business for my devices? How can I apply for a claim? How can I check the IMEI of a device? Which app do I need to install in my devices to activate Samsung Care+ for Business? How can I cancel Samsung Care+ for Business? Does Samsung Care+ for Business cover devices from other manufacturers? What is SWAP and BER?']\n",
      "{'source': 'all_processed_data.json', 'seq_num': 1732, 'title': 'Samsung Care+ for Business (SCB) knowledge base articles (KBAs)', 'url': 'https://docs.samsungknox.com/admin/care-plus/kbas', 'project': 'SCPE', 'last_updated': '2023-07-26', 'family_tree': 'child', 'parent_id': '439c720b-6ccc-4f8c-9f7e-28b9859e1b24', 'id': '949bfee4-5c90-4aaf-80e5-88ff8613b392'}\n",
      "None\n",
      "##############################\n",
      "similar_docs_without_reranker\n",
      "##############################\n",
      "\n",
      "Score: 0.008360655737704918\n",
      "['What is Knox Suite?. Knox Suite is a bundled offering designed to help enterprise IT admins better manage your fleet of devices. It includes individual services such as Knox Platform for Enterprise, Knox Mobile Enrollment, Knox Manage, Knox E-FOTA, and Knox Asset Intelligence. Key features of Knox Suite include: Secure - Ensure your business data is protected with managed security features at your control. Deploy - Enroll corporate devices to EMM automatically and securely, right out of the box. Manage - Enable comprehensive management over corporate devices and OS versions. Analyze - Strengthen in-depth device analytics for mobile productivity and asset management.']\n",
      "{'source': 'all_processed_data.json', 'seq_num': 133, 'title': ' What is Knox Suite?', 'url': 'https://docs.samsungknox.com/admin/knox-suite/faq/#what-is-knox-suite', 'project': 'KS', 'last_updated': '2023-07-26', 'family_tree': 'child', 'parent_id': 'e63e3a4d-619e-4fa3-8812-14c2e0d681ce', 'id': '1c8a2ee8-8e64-45ae-8b6a-79adcc5b85f3'}\n",
      "\n",
      "Score: 0.008225806451612904\n",
      "['Knox Suite. Knox Suite is a bundled offering of Knox solutions for enterprise mobility designed to address organizations\\' needs related to security and management throughout the entire device lifecycle. Learn more about Knox Suite #Audience This document is intended for IT Admins. Understand what\\'s included in Knox Suite and how you can use it to manage, secure, and maintain enterprise devices. Learn where to find information on how to perform various tasks with Knox\"Suite services. About Knox Suite Knox Suite is a bundled offering that includes the following Knox products: Knox Platform for Enterprise - A Knox solution that provides military-grade security to Samsung Android phones, tablets, and Tizen watches for business. Knox Mobile Enrollment - A Knox solution that allows you to enroll thousands of Samsung devices in your EMM at once. When used with a Knox Suite license, Knox Mobile Enrollment provides advanced profiles that offer IT admins additional features such as higher control over locking devices']\n",
      "{'source': 'all_processed_data.json', 'seq_num': 124, 'title': 'Knox Suite', 'url': 'https://docs.samsungknox.com/admin/knox-suite', 'project': 'KS', 'last_updated': '2023-07-26', 'family_tree': 'child', 'parent_id': 'fa4fbdd5-71d7-4d36-9301-a44ca563e183', 'id': '05b2ac3e-1ec1-490a-b132-f9c99e08e837'}\n",
      "\n",
      "Score: 0.008095238095238095\n",
      "['Knox Manage. Knox Manage is a mobile device management (MDM) solution that provides a cloud-based command center with almost 300 enterprise policies to empower IT admins to remotely track, manage, configure, and send messages to devices. This solution can manage any Android, iOS, or Windows 10 or Windows 11 device, but for maximum security, we recommend Samsung Galaxy devices integrated with the Knox platform. Try for free Audience This document is intended for: IT Admins - Enterprise IT Admins can learn how to get started with Knox Manage, dive deep into the comprehensive features, and learn how to configure and monitor devices and apps. Try the solution Bulk enroll devices so that they use Knox Manage right out-of-the box. Define enterprise groups and profiles. Configure device features and settings. Deploy, update apps, or add them to the allowlist. Create simple device kiosks. Learn how now']\n",
      "{'source': 'all_processed_data.json', 'seq_num': 967, 'title': 'Knox Manage', 'url': 'https://docs.samsungknox.com/admin/knox-manage/introduction/about-knox-manage', 'project': 'KM', 'last_updated': '2023-07-26', 'family_tree': 'child', 'parent_id': 'dd9b9251-4393-4ba3-bbbd-b61bcb359c82', 'id': 'edbdf88c-6c4f-4ed5-854e-95d43e3b09a2'}\n",
      "\n",
      "Score: 0.008032786885245903\n",
      "['Wi-Fi Enhanced Roaming Algorithm File-based encryption (FBE) and full-disk encryption (FDE) What policy do I use to block users from adding additional accounts on the device? \"Network may be monitored\" shown after installing a private CA certificate on device Does the Samsung email client support \"opaque signed\" emails? Can a network operator configure an E_APN on an employee\\'s device? If two similar Knox policies are applied to a device with an MDM, which one takes precedence? Should the Knox VPN client be installed inside or outside the Knox container? What are the package names for the Samsung Cisco AnyConnect and Juniper VPN clients? What is the minimum level of unlock method required to install a certificate in Android credential storage? What is the proper way to wildcard APK package names? Which servers do EMMs need to communicate with in order to conduct device attestation? What is the order of precedence for firewall rules? What URLs do I have to add to an allowlist to make Samsung apps work with an']\n",
      "{'source': 'all_processed_data.json', 'seq_num': 1656, 'title': 'Knox Platform for Enterprise knowledge base articles', 'url': 'https://docs.samsungknox.com/admin/knox-platform-for-enterprise/kbas', 'project': 'KPE', 'last_updated': '2023-11-06', 'family_tree': 'child', 'parent_id': '4dcaf8c3-6a46-45f0-9480-1d7a8ce10a7d', 'id': 'a52100c0-e192-4ad7-b419-42933522a461'}\n",
      "\n",
      "Score: 0.00796875\n",
      "[\"Knox Configure. Knox Configure is a cloud-based service that empowers enterprises to customize and automate the enrollment of Samsung devices purchased from authorized Samsung resellers. Knox Configure simplifies the out-of-box experience and enables a large range of configuration options. Try for free Audience This document is intended for: IT Admins - Admins create profiles with the device settings, restrictions, apps, and other content to deploy to groups of devices. After devices have been successfully enrolled in the enterprise, they receive the Knox Configure device profile via a Wi-Fi or mobile data connection. Resellers - Resellers bulk upload devices on behalf of requesting customers. Try the solution Promote and embed company branding, including animated boot screens and personalized business apps. Use this guide to apply data access restrictions as needed based on your organization's application update, notification and URL requirements\"]\n",
      "{'source': 'all_processed_data.json', 'seq_num': 362, 'title': 'Knox Configure', 'url': 'https://docs.samsungknox.com/admin/knox-configure', 'project': 'KC', 'last_updated': '2023-07-26', 'family_tree': 'child', 'parent_id': '44157c32-a447-4f1a-aed3-e27b7433132e', 'id': 'ab9551b4-7719-4db1-9b26-7b0fd123a6f3'}\n",
      "\n",
      "Score: 0.007903225806451612\n",
      "['way to wildcard APK package names? Which servers do EMMs need to communicate with in order to conduct device attestation? What is the order of precedence for firewall rules? What URLs do I have to add to an allowlist to make Samsung apps work with an authenticated proxy? Can I disable power saving mode on Knox supported devices? If I cannot resolve an SE for Android issue, who do I escalate to? Is there a way to automatically enable email sync while roaming? What does the term \"Maximum number of licenses\" mean for KPE Standard licenses? Knox legacy workspace articles Using SSO with a Common Access Card (CAC) in the Work Profile How many certificates can be stored in the Knox platform TrustZone? Accessing Knox Workspace without connecting to Active Directory network Unlocking the Knox Workspace container using Active Directory credentials What is the certificate length limit in the Knox CCM keystore? Can I create an RSA Key Pair on a Knox Platform for Enterprise device? Known issues Unable to install Samsung']\n",
      "{'source': 'all_processed_data.json', 'seq_num': 1656, 'title': 'Knox Platform for Enterprise knowledge base articles', 'url': 'https://docs.samsungknox.com/admin/knox-platform-for-enterprise/kbas', 'project': 'KPE', 'last_updated': '2023-11-06', 'family_tree': 'child', 'parent_id': '4dcaf8c3-6a46-45f0-9480-1d7a8ce10a7d', 'id': '9879d5ec-b3c9-415b-b6a2-68221d23d346'}\n",
      "\n",
      "Score: 0.007846153846153846\n",
      "[\"The Samsung Knox platform. Samsung Knox brings defense-grade security on the most popular consumer devices to all enterprises. The Knox Platform provides best-in-class hardware-based security, policy management, and compliance capabilities beyond the standard features commonplace in today's mobile device market. The Knox Platform is the cornerstone of a strong mobile security strategy supporting a wide variety of Samsung devices. Why use Samsung Knox? The Knox Platform helps you and your enterprise avoid the security gaps common on many mobile platforms. Knox received *strong* ratings in 25 of 28 categories in Gartner's December 2017 Mobile OSs and Device Security: A Comparison of Platforms and has received strong ratings for the last three years in a row. The Knox Platform's security hardening supports every aspect of mobile device operation. The Knox Platform enables trust in your mobile endpoints with advanced features like the evolutionary Knox Vault to the patented Real-Time Kernel Protection\"]\n",
      "{'source': 'all_processed_data.json', 'seq_num': 168, 'title': 'The Samsung Knox platform', 'url': 'https://docs.samsungknox.com/admin/fundamentals/whitepaper/the-samsung-knox-platform', 'project': 'USP', 'last_updated': '2023-07-26', 'family_tree': 'child', 'parent_id': 'd7d19521-e2fd-41aa-b0d7-f00bb4473f4f', 'id': 'b6e8df05-9736-408f-9366-195070c4a64a'}\n",
      "None\n",
      "##############################\n",
      "similar_docs\n",
      "##############################\n",
      "\n",
      "Score: 0.9306533932685852\n",
      "['What is Knox Suite?. Knox Suite is a bundled offering designed to help enterprise IT admins better manage your fleet of devices. It includes individual services such as Knox Platform for Enterprise, Knox Mobile Enrollment, Knox Manage, Knox E-FOTA, and Knox Asset Intelligence. Key features of Knox Suite include: Secure - Ensure your business data is protected with managed security features at your control. Deploy - Enroll corporate devices to EMM automatically and securely, right out of the box. Manage - Enable comprehensive management over corporate devices and OS versions. Analyze - Strengthen in-depth device analytics for mobile productivity and asset management.']\n",
      "{'source': 'all_processed_data.json', 'seq_num': 133, 'title': ' What is Knox Suite?', 'url': 'https://docs.samsungknox.com/admin/knox-suite/faq/#what-is-knox-suite', 'project': 'KS', 'last_updated': '2023-07-26', 'family_tree': 'child', 'parent_id': 'e63e3a4d-619e-4fa3-8812-14c2e0d681ce', 'id': '1c8a2ee8-8e64-45ae-8b6a-79adcc5b85f3'}\n",
      "\n",
      "Score: 0.8687121868133545\n",
      "['Knox Manage. Knox Manage is a mobile device management (MDM) solution that provides a cloud-based command center with almost 300 enterprise policies to empower IT admins to remotely track, manage, configure, and send messages to devices. This solution can manage any Android, iOS, or Windows 10 or Windows 11 device, but for maximum security, we recommend Samsung Galaxy devices integrated with the Knox platform. Try for free Audience This document is intended for: IT Admins - Enterprise IT Admins can learn how to get started with Knox Manage, dive deep into the comprehensive features, and learn how to configure and monitor devices and apps. Try the solution Bulk enroll devices so that they use Knox Manage right out-of-the box. Define enterprise groups and profiles. Configure device features and settings. Deploy, update apps, or add them to the allowlist. Create simple device kiosks. Learn how now']\n",
      "{'source': 'all_processed_data.json', 'seq_num': 967, 'title': 'Knox Manage', 'url': 'https://docs.samsungknox.com/admin/knox-manage/introduction/about-knox-manage', 'project': 'KM', 'last_updated': '2023-07-26', 'family_tree': 'child', 'parent_id': 'dd9b9251-4393-4ba3-bbbd-b61bcb359c82', 'id': 'edbdf88c-6c4f-4ed5-854e-95d43e3b09a2'}\n",
      "\n",
      "Score: 0.6584871411323547\n",
      "['Knox Suite. Knox Suite is a bundled offering of Knox solutions for enterprise mobility designed to address organizations\\' needs related to security and management throughout the entire device lifecycle. Learn more about Knox Suite #Audience This document is intended for IT Admins. Understand what\\'s included in Knox Suite and how you can use it to manage, secure, and maintain enterprise devices. Learn where to find information on how to perform various tasks with Knox\"Suite services. About Knox Suite Knox Suite is a bundled offering that includes the following Knox products: Knox Platform for Enterprise - A Knox solution that provides military-grade security to Samsung Android phones, tablets, and Tizen watches for business. Knox Mobile Enrollment - A Knox solution that allows you to enroll thousands of Samsung devices in your EMM at once. When used with a Knox Suite license, Knox Mobile Enrollment provides advanced profiles that offer IT admins additional features such as higher control over locking devices']\n",
      "{'source': 'all_processed_data.json', 'seq_num': 124, 'title': 'Knox Suite', 'url': 'https://docs.samsungknox.com/admin/knox-suite', 'project': 'KS', 'last_updated': '2023-07-26', 'family_tree': 'child', 'parent_id': 'fa4fbdd5-71d7-4d36-9301-a44ca563e183', 'id': '05b2ac3e-1ec1-490a-b132-f9c99e08e837'}\n",
      "\n",
      "Score: 0.6129066348075867\n",
      "[\"The Samsung Knox platform. Samsung Knox brings defense-grade security on the most popular consumer devices to all enterprises. The Knox Platform provides best-in-class hardware-based security, policy management, and compliance capabilities beyond the standard features commonplace in today's mobile device market. The Knox Platform is the cornerstone of a strong mobile security strategy supporting a wide variety of Samsung devices. Why use Samsung Knox? The Knox Platform helps you and your enterprise avoid the security gaps common on many mobile platforms. Knox received *strong* ratings in 25 of 28 categories in Gartner's December 2017 Mobile OSs and Device Security: A Comparison of Platforms and has received strong ratings for the last three years in a row. The Knox Platform's security hardening supports every aspect of mobile device operation. The Knox Platform enables trust in your mobile endpoints with advanced features like the evolutionary Knox Vault to the patented Real-Time Kernel Protection\"]\n",
      "{'source': 'all_processed_data.json', 'seq_num': 168, 'title': 'The Samsung Knox platform', 'url': 'https://docs.samsungknox.com/admin/fundamentals/whitepaper/the-samsung-knox-platform', 'project': 'USP', 'last_updated': '2023-07-26', 'family_tree': 'child', 'parent_id': 'd7d19521-e2fd-41aa-b0d7-f00bb4473f4f', 'id': 'b6e8df05-9736-408f-9366-195070c4a64a'}\n",
      "\n",
      "Score: 0.5416658520698547\n",
      "[\"Knox Configure. Knox Configure is a cloud-based service that empowers enterprises to customize and automate the enrollment of Samsung devices purchased from authorized Samsung resellers. Knox Configure simplifies the out-of-box experience and enables a large range of configuration options. Try for free Audience This document is intended for: IT Admins - Admins create profiles with the device settings, restrictions, apps, and other content to deploy to groups of devices. After devices have been successfully enrolled in the enterprise, they receive the Knox Configure device profile via a Wi-Fi or mobile data connection. Resellers - Resellers bulk upload devices on behalf of requesting customers. Try the solution Promote and embed company branding, including animated boot screens and personalized business apps. Use this guide to apply data access restrictions as needed based on your organization's application update, notification and URL requirements\"]\n",
      "{'source': 'all_processed_data.json', 'seq_num': 362, 'title': 'Knox Configure', 'url': 'https://docs.samsungknox.com/admin/knox-configure', 'project': 'KC', 'last_updated': '2023-07-26', 'family_tree': 'child', 'parent_id': '44157c32-a447-4f1a-aed3-e27b7433132e', 'id': 'ab9551b4-7719-4db1-9b26-7b0fd123a6f3'}\n",
      "None\n",
      "\n",
      "==========  Results  ==========\n",
      "\n",
      "1. question: What is knox?\n",
      "2. # documents: 5\n",
      "3. Documents: \n",
      "\n",
      "\n",
      "-----------------------------------------------\n",
      "1. Chunk: 674 Characters\n",
      "-----------------------------------------------\n",
      "What is Knox Suite?. Knox Suite is a bundled offering designed to help enterprise IT admins better\n",
      "manage your fleet of devices. It includes individual services such as Knox Platform for Enterprise,\n",
      "Knox Mobile Enrollment, Knox Manage, Knox E-FOTA, and Knox Asset Intelligence. Key features of Knox\n",
      "Suite include: Secure - Ensure your business data is protected with managed security features at\n",
      "your control. Deploy - Enroll corporate devices to EMM automatically and securely, right out of the\n",
      "box. Manage - Enable comprehensive management over corporate devices and OS versions. Analyze -\n",
      "Strengthen in-depth device analytics for mobile productivity and asset management.\n",
      "metadata:\n",
      " {'source': 'all_processed_data.json', 'seq_num': 133, 'title': ' What is Knox Suite?', 'url':\n",
      "'https://docs.samsungknox.com/admin/knox-suite/faq/#what-is-knox-suite', 'project': 'KS',\n",
      "'last_updated': '2023-07-26', 'family_tree': 'child', 'parent_id':\n",
      "'e63e3a4d-619e-4fa3-8812-14c2e0d681ce', 'id': '1c8a2ee8-8e64-45ae-8b6a-79adcc5b85f3',\n",
      "'orig_elements': ''}\n",
      "\n",
      "-----------------------------------------------\n",
      "2. Chunk: 907 Characters\n",
      "-----------------------------------------------\n",
      "Knox Manage. Knox Manage is a mobile device management (MDM) solution that provides a cloud-based\n",
      "command center with almost 300 enterprise policies to empower IT admins to remotely track, manage,\n",
      "configure, and send messages to devices. This solution can manage any Android, iOS, or Windows 10 or\n",
      "Windows 11 device, but for maximum security, we recommend Samsung Galaxy devices integrated with the\n",
      "Knox platform. Try for free Audience This document is intended for: IT Admins - Enterprise IT Admins\n",
      "can learn how to get started with Knox Manage, dive deep into the comprehensive features, and learn\n",
      "how to configure and monitor devices and apps. Try the solution Bulk enroll devices so that they use\n",
      "Knox Manage right out-of-the box. Define enterprise groups and profiles. Configure device features\n",
      "and settings. Deploy, update apps, or add them to the allowlist. Create simple device kiosks. Learn\n",
      "how now\n",
      "metadata:\n",
      " {'source': 'all_processed_data.json', 'seq_num': 967, 'title': 'Knox Manage', 'url':\n",
      "'https://docs.samsungknox.com/admin/knox-manage/introduction/about-knox-manage', 'project': 'KM',\n",
      "'last_updated': '2023-07-26', 'family_tree': 'child', 'parent_id':\n",
      "'dd9b9251-4393-4ba3-bbbd-b61bcb359c82', 'id': 'edbdf88c-6c4f-4ed5-854e-95d43e3b09a2',\n",
      "'orig_elements': ''}\n",
      "\n",
      "-----------------------------------------------\n",
      "3. Chunk: 1022 Characters\n",
      "-----------------------------------------------\n",
      "Knox Suite. Knox Suite is a bundled offering of Knox solutions for enterprise mobility designed to\n",
      "address organizations' needs related to security and management throughout the entire device\n",
      "lifecycle. Learn more about Knox Suite #Audience This document is intended for IT Admins. Understand\n",
      "what's included in Knox Suite and how you can use it to manage, secure, and maintain enterprise\n",
      "devices. Learn where to find information on how to perform various tasks with Knox\"Suite services.\n",
      "About Knox Suite Knox Suite is a bundled offering that includes the following Knox products: Knox\n",
      "Platform for Enterprise - A Knox solution that provides military-grade security to Samsung Android\n",
      "phones, tablets, and Tizen watches for business. Knox Mobile Enrollment - A Knox solution that\n",
      "allows you to enroll thousands of Samsung devices in your EMM at once. When used with a Knox Suite\n",
      "license, Knox Mobile Enrollment provides advanced profiles that offer IT admins additional features\n",
      "such as higher control over locking devices\n",
      "metadata:\n",
      " {'source': 'all_processed_data.json', 'seq_num': 124, 'title': 'Knox Suite', 'url':\n",
      "'https://docs.samsungknox.com/admin/knox-suite', 'project': 'KS', 'last_updated': '2023-07-26',\n",
      "'family_tree': 'child', 'parent_id': 'fa4fbdd5-71d7-4d36-9301-a44ca563e183', 'id':\n",
      "'05b2ac3e-1ec1-490a-b132-f9c99e08e837', 'orig_elements': ''}\n",
      "\n",
      "-----------------------------------------------\n",
      "4. Chunk: 1012 Characters\n",
      "-----------------------------------------------\n",
      "The Samsung Knox platform. Samsung Knox brings defense-grade security on the most popular consumer\n",
      "devices to all enterprises. The Knox Platform provides best-in-class hardware-based security, policy\n",
      "management, and compliance capabilities beyond the standard features commonplace in today's mobile\n",
      "device market. The Knox Platform is the cornerstone of a strong mobile security strategy supporting\n",
      "a wide variety of Samsung devices. Why use Samsung Knox? The Knox Platform helps you and your\n",
      "enterprise avoid the security gaps common on many mobile platforms. Knox received *strong* ratings\n",
      "in 25 of 28 categories in Gartner's December 2017 Mobile OSs and Device Security: A Comparison of\n",
      "Platforms and has received strong ratings for the last three years in a row. The Knox Platform's\n",
      "security hardening supports every aspect of mobile device operation. The Knox Platform enables trust\n",
      "in your mobile endpoints with advanced features like the evolutionary Knox Vault to the patented\n",
      "Real-Time Kernel Protection\n",
      "metadata:\n",
      " {'source': 'all_processed_data.json', 'seq_num': 168, 'title': 'The Samsung Knox platform', 'url':\n",
      "'https://docs.samsungknox.com/admin/fundamentals/whitepaper/the-samsung-knox-platform', 'project':\n",
      "'USP', 'last_updated': '2023-07-26', 'family_tree': 'child', 'parent_id':\n",
      "'d7d19521-e2fd-41aa-b0d7-f00bb4473f4f', 'id': 'b6e8df05-9736-408f-9366-195070c4a64a',\n",
      "'orig_elements': ''}\n",
      "\n",
      "-----------------------------------------------\n",
      "5. Chunk: 961 Characters\n",
      "-----------------------------------------------\n",
      "Knox Configure. Knox Configure is a cloud-based service that empowers enterprises to customize and\n",
      "automate the enrollment of Samsung devices purchased from authorized Samsung resellers. Knox\n",
      "Configure simplifies the out-of-box experience and enables a large range of configuration options.\n",
      "Try for free Audience This document is intended for: IT Admins - Admins create profiles with the\n",
      "device settings, restrictions, apps, and other content to deploy to groups of devices. After devices\n",
      "have been successfully enrolled in the enterprise, they receive the Knox Configure device profile\n",
      "via a Wi-Fi or mobile data connection. Resellers - Resellers bulk upload devices on behalf of\n",
      "requesting customers. Try the solution Promote and embed company branding, including animated boot\n",
      "screens and personalized business apps. Use this guide to apply data access restrictions as needed\n",
      "based on your organization's application update, notification and URL requirements\n",
      "metadata:\n",
      " {'source': 'all_processed_data.json', 'seq_num': 362, 'title': 'Knox Configure', 'url':\n",
      "'https://docs.samsungknox.com/admin/knox-configure', 'project': 'KC', 'last_updated': '2023-07-26',\n",
      "'family_tree': 'child', 'parent_id': '44157c32-a447-4f1a-aed3-e27b7433132e', 'id':\n",
      "'ab9551b4-7719-4db1-9b26-7b0fd123a6f3', 'orig_elements': ''}\n"
     ]
    }
   ],
   "source": [
    "query = \"What is knox?\"\n",
    "search_hybrid_result = opensearch_hybrid_retriever.get_relevant_documents(query)\n",
    "\n",
    "print(\"\\n==========  Results  ==========\\n\")\n",
    "print(f'1. question: {query}')\n",
    "print(f'2. # documents: {len(search_hybrid_result)}')\n",
    "print(\"3. Documents: \\n\")\n",
    "\n",
    "show_context_used(search_hybrid_result)"
   ]
  },
  {
   "cell_type": "markdown",
   "id": "a981abe7-5208-48f5-a9cc-8c557e9941ca",
   "metadata": {},
   "source": [
    "## 5. RAG using RetrievalQA powered by LangChain"
   ]
  },
  {
   "cell_type": "code",
   "execution_count": 33,
   "id": "08cf6d2b-451b-499c-aec2-bb6f5abafbb0",
   "metadata": {
    "tags": []
   },
   "outputs": [],
   "source": [
    "from textwrap import dedent"
   ]
  },
  {
   "cell_type": "markdown",
   "id": "b490df1f-8113-4dd1-a578-a3e1a6918fde",
   "metadata": {
    "tags": []
   },
   "source": [
    "### Prompting\n",
    "- [TIP] Prompt의 instruction의 경우 한글보다 영어로 했을 때 더 좋은 결과를 얻을 수 있습니다."
   ]
  },
  {
   "cell_type": "code",
   "execution_count": 37,
   "id": "0a68b4bf-8fc5-45a6-80cf-2bc059d4e389",
   "metadata": {
    "tags": []
   },
   "outputs": [],
   "source": [
    "system_prompt = dedent(\n",
    "    \"\"\"\n",
    "    You are a master answer bot designed to answer user's questions.\n",
    "    I'm going to give you contexts which consist of texts, tables and images.\n",
    "    Read the contexts carefully, because I'm going to ask you a question about it.\n",
    "    \"\"\"\n",
    ")\n",
    "\n",
    "human_prompt = dedent(\n",
    "    \"\"\"\n",
    "    Here is the contexts as texts: <contexts>{contexts}</contexts>\n",
    "\n",
    "    First, find a few paragraphs or sentences from the contexts that are most relevant to answering the question.\n",
    "    Then, answer the question as much as you can.\n",
    "\n",
    "    Skip the preamble and go straight into the answer.\n",
    "    Don't insert any XML tag such as <contexts> and </contexts> when answering.\n",
    "    Answer in Korean.\n",
    "\n",
    "    Here is the question: <question>{question}</question>\n",
    "\n",
    "    If the question cannot be answered by the contexts, say \"No relevant contexts\".\n",
    "    \"\"\"\n",
    ")"
   ]
  },
  {
   "cell_type": "markdown",
   "id": "c66157a6-aec8-4555-a90f-1178e6f4f6e0",
   "metadata": {},
   "source": [
    "### Update Search Params (Optional)"
   ]
  },
  {
   "cell_type": "code",
   "execution_count": 38,
   "id": "64df2daf-8b42-472a-885f-97320ee98132",
   "metadata": {
    "tags": []
   },
   "outputs": [],
   "source": [
    "from utils.rag import rag_chain\n",
    "from langchain.schema.output_parser import StrOutputParser"
   ]
  },
  {
   "cell_type": "code",
   "execution_count": 39,
   "id": "d2697230-6962-43d8-8917-ba9daa4295bb",
   "metadata": {
    "tags": []
   },
   "outputs": [],
   "source": [
    "opensearch_hybrid_retriever.update_search_params(\n",
    "    k=6,\n",
    "    minimum_should_match=0,\n",
    "    # filter=[\n",
    "    #     {'term': {'metadata.family_tree': 'child'}},\n",
    "    # ],\n",
    "    ensemble_weights=[0.51, 0.49], #semantic, lexical\n",
    "\n",
    "    reranker=True,\n",
    "    reranker_endpoint_name=endpoint_name,\n",
    "\n",
    "    parent_document=True, # enable parent document\n",
    "    verbose=False\n",
    ")"
   ]
  },
  {
   "cell_type": "markdown",
   "id": "aee26c22-b674-4f4f-a87b-29508e336fda",
   "metadata": {},
   "source": [
    "### Request"
   ]
  },
  {
   "cell_type": "code",
   "execution_count": 40,
   "id": "95fa61d3-9256-432a-96a3-2c696c97ea68",
   "metadata": {
    "tags": []
   },
   "outputs": [],
   "source": [
    "qa = rag_chain(\n",
    "    llm_text=llm_text,\n",
    "    retriever=opensearch_hybrid_retriever,\n",
    "    system_prompt=system_prompt,\n",
    "    human_prompt=human_prompt,\n",
    "    return_context=True,\n",
    "    verbose=False,\n",
    "    #multi_turn=True\n",
    ")"
   ]
  },
  {
   "cell_type": "code",
   "execution_count": 41,
   "id": "390ad324-40b3-4bcb-92b9-50eb080492a5",
   "metadata": {
    "tags": []
   },
   "outputs": [
    {
     "name": "stdout",
     "output_type": "stream",
     "text": [
      "관련 컨텍스트:\n",
      "\n",
      "Previously, the maximum content size was 300 MB. In 20.08, this limit was increased to 1.0 GB.\n",
      "\n",
      "답변:\n",
      "\n",
      "이전에는 최대 콘텐츠 크기가 300MB였습니다. 20.08 버전에서 이 제한이 1.0GB로 증가되었습니다. 따라서 현재 비디오 파일의 최대 크기는 1.0GB입니다."
     ]
    }
   ],
   "source": [
    "#query = \"중지된 경우 이체\"\n",
    "query = \"vidio max size?\"\n",
    "#query = \"How does Knox E-FOTA enable enterprises to deploy OS updates remotely without requiring user interaction?\"\n",
    "#query = \"What feature of Knox E-FOTA allows IT administrators to ensure that devices have the same OS version installed across the entire fleet of devices?\"\n",
    "#query = \"How does Knox E-FOTA allow IT admins to securely push updates to enterprise mobile devices while maintaining compatibility with in-house apps?\"\n",
    "#query = \"What are the three editions of Knox E-FOTA service that have different features?\"\n",
    "#query = \"How do you obtain the Knox E-FOTA client APK that is needed to install the app through an EMM?\"\n",
    "\n",
    "response, contexts = qa.invoke(\n",
    "    query = query\n",
    ")\n",
    "\n",
    "#show_context_used(contexts)"
   ]
  },
  {
   "cell_type": "code",
   "execution_count": 42,
   "id": "01e77dad-dc19-416b-80e7-19fac3b736a5",
   "metadata": {
    "tags": []
   },
   "outputs": [
    {
     "name": "stdout",
     "output_type": "stream",
     "text": [
      "##################################\n",
      "query:  vidio max size?\n",
      "##################################\n",
      "\u001b[34m\n",
      "\n",
      "### Answer ###\u001b[0m\n",
      "관련 컨텍스트:\n",
      "\n",
      "Previously, the maximum content size was 300 MB. In 20.08, this limit was increased to 1.0 GB.\n",
      "\n",
      "답변:\n",
      "\n",
      "이전에는 최대 콘텐츠 크기가 300MB였습니다. 20.08 버전에서 이 제한이 1.0GB로 증가되었습니다. 따라서 현재 비디오 파일의 최대 크기는 1.0GB입니다.\n",
      "\u001b[32m\n",
      "\n",
      "### Contexts ###\u001b[0m\n",
      "\n",
      "-----------------------------------------------\n",
      "1. Chunk: 4007 Characters\n",
      "-----------------------------------------------\n",
      ". When adding or modifying a Windows profile, you can find this setting in Windows > Interface >\n",
      "Removable Storage. The USB policy ( Interface > USB ) only applies to Windows mobile devices. ##VPN\n",
      "update for Windows devices , You can now allow (or disallow) end users to change their VPN settings.\n",
      "When adding or modifying a Windows profile, you can find this setting in Windows > System > VPN.\n",
      "When setting up the VPN configuration on devices, you can distribute end users across the following\n",
      "VPN clients: Pulse Secure , Check Point Capsule VPN , F5 Access , Palo Alto Networks GlobalProtect ,\n",
      "SonicWall Mobile Connect When adding or modifying a Windows profile, you can find this setting in\n",
      "Windows > VPN. #Device name configuration for iOS DEP You can now configure iOS DEP device names to\n",
      "include the user ID, according to the DEP style. This feature is available in Setting > iOS > DEP\n",
      "Server Setting > DEP Device Name. #Certificate installation area in Android Enterprise Previously, a\n",
      "certificate could only be installed in both the Fully Managed and the Work Profile areas. Now, you\n",
      "can install certificates according to your needs - in either Fully Managed or Work Profile or both.\n",
      "When adding or modifying an Android Enterprise profile, you can find this setting in Android\n",
      "Enterprise > Certificate > Install Area. Kiosk #Single App Kiosk mode The following enhancements\n",
      "were made: The Single App Kiosk mode's delivery method was enhanced to use an Android launcher\n",
      "similar to the one used for the Multiple App Kiosk mode. This enhancement allows you to create\n",
      "Single App Kiosks stably and easily. You can now set device settings for Single App Kiosks in the\n",
      "Kiosk Wizard. Single App Kiosks created before 20.08 will continue to work without updates as long\n",
      "as no changes are made on them. This new Single App Kiosk works only with the Knox Manage 20.08\n",
      "agent. Hence, the Knox Manage agent must be updated to the latest version. Only one app can be\n",
      "assigned in a Single App Kiosk. #Exit Kiosk without unenrollment All Kiosk modes (Single App,\n",
      "Multiple App, and Kiosk Browser) can be temporarily turned off without unenrollment, regardless of\n",
      "whether they're in offline or online state. This feature is only applicable to Kiosks created in\n",
      "20.08 or later. ##To exit Kiosk mode Provide an Exit Kiosk Code to the end user. You can get the\n",
      "code from Device Detail > Security > Kiosk Mode Status > Exit Kiosk Code. The code is randomly\n",
      "regenerated after it's applied to the device to prevent it from being used again without\n",
      "authorization from an IT admin. The user managing the Kiosk device must do the following: 1. Tap the\n",
      "icon. In the case of a Single App Kiosk, you'll need to tap the Home or Back button to make this\n",
      "icon appear. The icon disappears after 5 seconds of inactivity. 2. In the \"About Kiosk\" screen, tap\n",
      "Exit Kiosk. 3. Enter the Exit Kiosk Code from the IT admin. ##To re-enter Kiosk mode An IT admin\n",
      "must apply a profile update to the device. #Other Kiosk enhancements The Knox Manage agent must be\n",
      "updated to the latest version for these new features to take effect. Bookmark in Multiple App Kiosk\n",
      "mode now supports file uploads and downloads. You can now set Kiosk Browser and Secure Browser to be\n",
      "automatically updated through profile policies. When adding or modifying a profile, you can find\n",
      "these settings in the following locations: Secure Browser: Android Enterprise > Secure Browser > App\n",
      "Auto Update. Kiosk Browser: Android Enterprise or Android Legacy > Kiosk > Kiosk app settings\n",
      "(select Kiosk Browser ) > App Auto Update. The loading status is now shown on the progress bar:\n",
      "Content #Increased maximum file size limit Previously, the maximum content size was 300 MB. In\n",
      "20.08, this limit was increased to 1.0 GB. Knox E-FOTA license usage with Knox Suite In addition to\n",
      "the Knox E-FOTA admin portal, you can now view the Knox E-FOTA license usage in the following\n",
      "locations as well: License widget in the Knox Manage admin portal's Dashboard. SamsungKnox.com\n",
      "Dashboard\n",
      "metadata:\n",
      " {'source': 'all_processed_data.json', 'seq_num': 1044, 'title': 'Knox Manage 20.08 release notes',\n",
      "'url': 'https://docs.samsungknox.com/admin/knox-manage/release-notes/20-08', 'project': 'KM',\n",
      "'last_updated': '2023-07-26', 'family_tree': 'parent', 'parent_id': None, 'orig_elements': ''}\n",
      "\n",
      "-----------------------------------------------\n",
      "2. Chunk: 4053 Characters\n",
      "-----------------------------------------------\n",
      ". Max TTL - The maximum amount of time, or time to live (TTL), in seconds, that a packet can exist\n",
      "in a network before being discarded by the router. The default value is 64, but a number from 49 to\n",
      "255 can be entered. Packet size - The size of the packet to request, in bytes. The default value is\n",
      "64, but a number from 4 to 1472 can be entered. If the device user sets Packet size as 10, Interval\n",
      "(ms) as 1000 ms, and Timeout (ms) as 500 ms, 10 pings are sent and the interval between each ping is\n",
      "set to 1000 ms. A successful test requires all 10 pings to be received within 500 ms each. The ping\n",
      "test continues even if the device user leaves the screen, but they can stop it at any time by\n",
      "tapping the stop button. Otherwise, the test automatically stops once the set conditions are met. A\n",
      "notification is also displayed in the notification bar for the duration of the test, which the user\n",
      "can tap to return to the test screen. #Battery When the device user selects Battery from the\n",
      "Diagnostics menu, the Status and History tabs are shown at the bottom of the screen. ##Status The\n",
      "Status tab provides information on the following battery-related data points: Battery status -\n",
      "Indicates whether the device is connected to a charger or not. Battery level, State of health - The\n",
      "overall health of the device's battery, defined as Good, Normal, or Bad. Battery voltage, Charger\n",
      "type, Charger plug, Battery's rated capacity, Battery health - The percentage of the battery's\n",
      "original charge it can currently hold. Time until battery fully drained/Time until battery fully\n",
      "charged - When the device is not charging, the first option is shown. Otherwise, the second option\n",
      "is shown. Current battery charge, Current battery capacity, Average current, Current right now -\n",
      "When the device is charging, displays the charging current in milliamperes (mA). Device users can\n",
      "also generate and send debug logs to you by tapping Error report in the top-right corner of the\n",
      "screen. ##History The History tab shows historical information about how the device's battery was\n",
      "used, spanning the last 14 days. An entry is logged every time the battery charge increases, and\n",
      "includes the following data points: Date, Timestamp, Battery percentage, In and out amperage,\n",
      "Battery voltage, Charger plug, Charge type, Time until fully charged The device user can tap and\n",
      "hold an entry, then tap Remove data to hide that entry. Note that any entries deleted this way can't\n",
      "be restored. To see more battery usage information from the last 7 days, the user can also tap\n",
      "Settings (gear icon) in the top right corner to view the following additional options: Battery usage\n",
      "trend takes the user directly to Device care in the device settings. Share with your admin allows\n",
      "users to upload a log file - containing the battery's charging history - to the Knox Asset\n",
      "Intelligence console for further analysis. The log file contains the following information: Date -\n",
      "The date that the log was created , Timestamp - The time the log event occurred. Battery charge (%)\n",
      "- The battery charge percentage at the time of log creation. In and out Amperage (mA) - The battery\n",
      "current/amperage (in milliamps) measured at each log event. Negative values indicate battery\n",
      "discharging, while positive values indicate battery charging. Battery Voltage (mV) - the battery\n",
      "voltage level at time of log event , Charger Plug - the type of plug used to charge the battery at\n",
      "time of event. Available options: AC - battery was plugged in to a wall charger. Wireless - battery\n",
      "was plugged in to a wireless charger (charging station). USB - battery was plugged in to a\n",
      "computer's USB port. Pogo - device was plugged in to a charging dock with a Pogo connection (Android\n",
      "13 and higher) , N/A - Device was not plugged in. Charge Type - the type of charge occurring on the\n",
      "battery at time of log event: USB - device was charging through USB power. Normal - device was\n",
      "charging at a normal charge rate through AC power. FAST (AFC) - device was charging at a fast rate\n",
      "using Samsung's Adaptive Fast Charge technology\n",
      "metadata:\n",
      " {'source': 'all_processed_data.json', 'seq_num': 292, 'title': 'Use the agent app', 'url':\n",
      "'https://docs.samsungknox.com/admin/knox-asset-intelligence/how-to-guides/use-the-agent-app',\n",
      "'project': 'KAI', 'last_updated': '2023-09-06', 'family_tree': 'parent', 'parent_id': None,\n",
      "'orig_elements': ''}\n",
      "\n",
      "-----------------------------------------------\n",
      "3. Chunk: 4056 Characters\n",
      "-----------------------------------------------\n",
      "Portal-side errors. The following errors could occur when using Knox Configure admin console. This\n",
      "section of the guide helps you identify the cause of error and recommends troubleshooting tips to\n",
      "assist you in resolving the error. General portal related errors Portal related errors can occur\n",
      "when registering devices, profiles and apps using the Knox Configure admin console. Possible system\n",
      "errors could occur as a result of the following: Invalid file formats, exceeding the maximum file\n",
      "size, invalid/missing entries, or invalid URLs. Code Cause of Error Troubleshoot 4000013 The CSV\n",
      "file header is invalid. Ensure the CSV file header uploading doesn't have any forbidden characters.\n",
      "Try the following: In Knox Configure, go to Actions &gt; Upload devices. Under the Device list file\n",
      "field, click Download sample CSV file. Enter your device information in the sample file with the\n",
      "default headings. Save and try uploading the CSV file again. 4000014 The CSV file is empty. Ensure\n",
      "the CSV file uploading is not empty. 4000414 The EULA is invalid. A system error occurred. Refresh\n",
      "the page and load the EULA again. If the problem persists, contact Samsung. 4002009 EULA is already\n",
      "agreed to. The end user has already accepted the End User License Agreement (EULA). Do not prompt\n",
      "users to accept the EULA again. Failed to upload file. A system error occurred. Try to upload the\n",
      "file again. If the problem persists, contact Samsung. An app with this name already exists. Ensure\n",
      "the name of the app you are uploading does not already exist in Knox Configure. Re-name the app if\n",
      "necessary. Invalid APK version name. Invalid APK version name. Please change the version name and\n",
      "try uploading again. 4090001 File too large. Max 4000 devices allowed per upload. Try splitting the\n",
      "device upload list to reduce the size of .csv you are uploading. Note that there is a max of 4000\n",
      "devices allowed per upload. 4150000 File type is not supported. The file you are trying to upload is\n",
      "not supported. Knox Configure only accepts .csv files. App name cannot contain special characters.\n",
      "Rename the app so it does not contain any special or forbidden characters. App version is invalid.\n",
      "An app you are trying to upload is invalid. Verify that the version you're attempting to upload is\n",
      "correct. Try to re-upload the app again. CSV file is required. A system error occurred. Verify that\n",
      "you've attached a .csv file, try to re-attach the .csv and upload it again. If the problem persists,\n",
      "contact Samsung. 4040105 No CAPTCHA code entered. No CAPTCHA code was entered. Carefully enter the\n",
      "CAPTCHA code and submit. 4004001 The email agreeing to the Customer Terms is invalid. Verify the\n",
      "email entered is correct, refresh the page and try again. 4000113 The CAPTCHA code is incorrect. The\n",
      "CAPTCHA code is incorrect. Carefully re-enter the CAPTCHA code again and submit. 4042006 The tag\n",
      "already exists. A system error occurred. The profile tag entered is a duplicate, enter a different\n",
      "tag. If the problem persists, contact Samsung. 40001 The URL is not valid. Verify the URL entered is\n",
      "correct, refresh the page and try again. If the problem persists, contact Samsung. 4043 The\n",
      "activation status of the client is invalid. A system error occurred. If the problem persists,\n",
      "contact Samsung. Device related errors Device related portal errors can occur when registering\n",
      "devices using the Knox Configure admin console. Possible system errors could occur as a result of\n",
      "invalid or duplicate devices in the CSV file, invalid IMEIs/SNs, duplicate device uploads and\n",
      "unverified device uploads. Code Cause of Error Troubleshoot 0 Failed to register device. A system\n",
      "error occurred. Try to register the devices again. If the problem persists, contact Samsung. 4042000\n",
      "The device(s) could not be found. A system error occurred. Try to re-upload the devices again. If\n",
      "the problem persists, contact Samsung. 4041401 The device was not found. A system error occurred.\n",
      "Try to register the devices again. If the problem persists, contact Samsung 4002004 Invalid or\n",
      "duplicate devices detected\n",
      "metadata:\n",
      " {'source': 'all_processed_data.json', 'seq_num': 433, 'title': 'Portal-side errors', 'url':\n",
      "'https://docs.samsungknox.com/admin/knox-configure/knox-configure-wearables/troubleshoot/portal-\n",
      "side-errors', 'project': 'KC', 'last_updated': '2023-07-26', 'family_tree': 'parent', 'parent_id':\n",
      "None, 'orig_elements': ''}\n",
      "\n",
      "-----------------------------------------------\n",
      "4. Chunk: 4089 Characters\n",
      "-----------------------------------------------\n",
      ". To upload a video file, click Add and select a file. To delete a video file, click next to the\n",
      "name of the uploaded video file. Note The device control command must be transferred to the device\n",
      "to apply a video to it. &gt; Session timeout Allows the use of the session timeout feature for the\n",
      "Kiosk Browser. If the user does not use the device for a set time, the device deletes user\n",
      "information, such as the cache and cookies, in the device Kiosk Browser and goes to the main page\n",
      "URL. Apply &mdash; Enable the session timeout feature for the browser. &gt;&gt; Time (sec) Set the\n",
      "session timeout in seconds for the Kiosk Browser. The value must be between 10, 3600 seconds. The\n",
      "default value is 1800 seconds. &gt; Text Copy Allows the copying of text strings in the Kiosk\n",
      "Browser. &gt; Javascript Allows the running of the JavaScript contained in websites. &gt; Http Proxy\n",
      "Allows the use of an HTTP proxy for communications in the Kiosk Browser. &gt;&gt; IP/Domain:Port Set\n",
      "the HTTP proxy server IP or domain address, and Port. When not entered, the Port number is\n",
      "automatically set to 80. &gt; User agent settings key value Set the key value to be added to the\n",
      "user agent. Allow the Kiosk Browser to access the Web server and the user agent key values contained\n",
      "in the HTTP header. User agent key settings can be used to detect access to non-Kiosk Browsers on\n",
      "the web server. &gt; File Upload Allows the user to upload files to websites through the Kiosk\n",
      "Browser. Disallow is the default value. Delete Kiosk app when policy is removed Allows deleting\n",
      "applications along with policies from the device when the applied policy is deleted. Samsung Knox\n",
      "1.0 and higher Task manager Allows the use of the Task Manager. Note You can use the function to\n",
      "disable the hardware key on SDK 2.5 or later. Samsung Knox 1.0&ndash;2.4 and higher System bar Use\n",
      "the System bar which refers to the Status bar in the Notifications area at the top of the device and\n",
      "the Navigation bar in the Buttons area at the bottom. For non-Samsung devices, irrespective of\n",
      "whether you select Allow status bar only or Allow navigation bar only, both the status bar and the\n",
      "navigation bar are disabled. Samsung Knox 1.0 and higher Prohibit hardware key Allows the use of the\n",
      "hardware keys. Samsung Knox 1.0 and higher &gt; Disallow hardware keys Select hardware keys to\n",
      "disable. The availability of Hardware keys can vary by device. If you do not allow the use of the\n",
      "Task Manager, then it does not run, even if the user tries to activate it by tapping the left menu\n",
      "key in the Navigation bar at the bottom of the device. Samsung Knox 1.0 and higher Multi windows\n",
      "Allows the use of multiple windows. This feature is available for devices that provide the\n",
      "functionality of multiple windows. Samsung Knox 1.0 and higher Air command Allows the use of Air\n",
      "command. Air command is a function provided on Samsung devices. Menu items show on the screen appear\n",
      "when the user brings an S pen close to the screen. Samsung Knox 2.2 and higher Air view Allows the\n",
      "use of Air view. Air view is a function provided on Samsung devices. Users can preview a picture or\n",
      "email when they bring the S pen or finger close to the picture or other content. Samsung Knox 2.2\n",
      "and higher Edge screen Allows the use of the Edge screen of the device. The Edge screen allows users\n",
      "to create shortcuts on the edges of the screen panel to frequently used applications, favorite\n",
      "contacts, or the camera. Samsung Knox 2.5 and higher Application Configures options for application\n",
      "controls such as installation, verification, and permission. Policy Description Supported system\n",
      "Installation of application from untrusted sources Allows the installation of applications from\n",
      "untrusted sources instead of just the Google Play Store. Note Android 8 and higher is supported for\n",
      "Knox Workspace devices. Samsung Knox 1.0 and higher Play Store Allows the use of the Google Play\n",
      "Store. Samsung Knox 1.0 and higher YouTube Allows the use of YouTube. Samsung Knox 1.0 and higher\n",
      "App Installation Block/Allowlist Setting Set to control the app installation policies\n",
      "metadata:\n",
      " {'source': 'all_processed_data.json', 'seq_num': 894, 'title': 'Android Legacy policies', 'url':\n",
      "'https://docs.samsungknox.com/admin/knox-manage/configure/profile/configure-profile-\n",
      "policies/android-legacy-policies', 'project': 'KM', 'last_updated': '2023-07-26', 'family_tree':\n",
      "'parent', 'parent_id': None, 'orig_elements': ''}\n",
      "\n",
      "-----------------------------------------------\n",
      "5. Chunk: 4030 Characters\n",
      "-----------------------------------------------\n",
      "DeX. The available DeX policies include: Basic policy controls - These standard controls allow you\n",
      "to perform simple actions, such as enable or disable DeX. These policies are listed under DO > DeX\n",
      "policy > Manage DeX restrictions. Customization controls - These additional customization options\n",
      "allow you to change the DeX setup and user experience. Use of these policies requires a free Knox\n",
      "Platform for Enterprise Premium license. Enable DeX The process to enable DeX is simple and only\n",
      "requires you to turn on a few policies as follows: 1. In your supported UEM, under the Device-wide\n",
      "policies (Device Owner) category turn on Enable device policy controls. 2. Enable DeX policy. 3.\n",
      "Under Manage DeX Restrictions, enable Allow DeX connection. 4. In your UEM, save the profile and\n",
      "push it to a device. To disable DeX, simply turn off Allow DeX connection, as shown in the previous\n",
      "example. Enable DeX with basic customization This example shows you how to enable DeX so it auto-\n",
      "launches and sets a specific screen timeout. Note that all DeX customization policies require a free\n",
      "Knox Platform for Enterprise Premium license. 1. In your supported UEM, under the Device-wide\n",
      "policies (Device Owner) category turn on Enable device policy controls. 2. Enable DeX policy. 3.\n",
      "Under Manage DeX Restrictions, enable Allow DeX connection. 4. Under DeX customization profile,\n",
      "enable Auto-start DeX on HDMI connection. 5. Under DeX customization profile, find Set screen\n",
      "timeout and input your desired value. 6. Under DeX customization profile, disable Allow screen\n",
      "timeout change. 7. The device now launches DeX automatically when it is plugged in to an HDMI cable.\n",
      "8. Once the device is connected to DeX, a Display resolution screen displays. Select a single\n",
      "resolution value for the connected display. Unselected display options will be greyed out and\n",
      "unavailable. Keep in mind, changing the resolution makes displayed windows, text and other items\n",
      "appear small or larger. Options include, WQHD (2560 x 1440), FHD (1920 x 1080) _recommended\n",
      "setting_, HD+ (1600 x 900), WQXGA (2560 x 1600), WUXGA (1920 x 1200), or UWQHD (3440 x 1440). Select\n",
      "Done to commit the selected display setting. If the display resolution provided is not supported,\n",
      "then FHD (1920 x 1080) is selected by default and non-supported resolutions are greyed out in the\n",
      "DeX Display resolution screen. Industry example This example configures a tablet in DeX mode, so a\n",
      "bank employee can use it to help customers with day to day operations. For example opening a new\n",
      "account or checking account balances. In this use case, DeX is used as a dedicated employee work\n",
      "station and the bank can slowly phase out older, single-purpose computer terminals. These\n",
      "instructions do not apply to any specific UEM. Refer to your UEM documentation for specific\n",
      "instructions on menu structure and navigation. 1. In your supported UEM, under the Device-wide\n",
      "policies (Device Owner) category turn on Enable device policy controls. 2. Under DeX Policy, turn on\n",
      "Enable DeX policy controls. 3. Under Manage DeX Restrictions, enable Allow DeX connection. 4. Under\n",
      "Manage DeX Restrictions, enable Customize DeX Experience. 5. Set the DeX profile name to an\n",
      "appropriate value. For example, the following image shows a profile called Bank Terminal. 6. Under\n",
      "DeX customization profile, type the name of the DeX Profile you set in the previous step. In this\n",
      "example, it is Bank Terminal 7. Under DeX customization profile, enable DeX Auto Start on HDMI\n",
      "connection This setting minimizes potential troubleshooting for employees and can reduce IT\n",
      "overhead. If a device is unplugged, setting up the bank terminal again is as simple as plugging the\n",
      "device back in to an HDMI cable. 8. Under DeX customization profile, enable Disable buttons on the\n",
      "DeX panel. Select the buttons you want to disable. For example, selecting Exit DeX button prevents\n",
      "users from exiting the bank terminal and using the device for other purposes. 9. Under DeX\n",
      "customization profile, turn on Skip overscan detection screen\n",
      "metadata:\n",
      " {'source': 'all_processed_data.json', 'seq_num': 1225, 'title': 'DeX', 'url':\n",
      "'https://docs.samsungknox.com/admin/knox-platform-for-enterprise/knox-service-plugin/configure-\n",
      "advanced-policies/dex', 'project': 'KSP', 'last_updated': '2023-07-26', 'family_tree': 'parent',\n",
      "'parent_id': None, 'orig_elements': ''}\n"
     ]
    }
   ],
   "source": [
    "print(\"##################################\")\n",
    "print(\"query: \", query)\n",
    "print(\"##################################\")\n",
    "\n",
    "print (colored(\"\\n\\n### Answer ###\", \"blue\"))\n",
    "print_ww(response)\n",
    "\n",
    "print (colored(\"\\n\\n### Contexts ###\", \"green\"))\n",
    "show_context_used(contexts)"
   ]
  },
  {
   "cell_type": "code",
   "execution_count": null,
   "id": "b1a40222",
   "metadata": {},
   "outputs": [],
   "source": []
  },
  {
   "cell_type": "code",
   "execution_count": null,
   "id": "ce77c46a-7912-4e9f-aaf3-f3f66c6c8251",
   "metadata": {},
   "outputs": [],
   "source": []
  }
 ],
 "metadata": {
  "kernelspec": {
   "display_name": "conda_python3",
   "language": "python",
   "name": "conda_python3"
  },
  "language_info": {
   "codemirror_mode": {
    "name": "ipython",
    "version": 3
   },
   "file_extension": ".py",
   "mimetype": "text/x-python",
   "name": "python",
   "nbconvert_exporter": "python",
   "pygments_lexer": "ipython3",
   "version": "3.10.14"
  },
  "vscode": {
   "interpreter": {
    "hash": "4b8e647a79df62bf31906a725b05de775d285962ac600487339d38c51a5c07b1"
   }
  }
 },
 "nbformat": 4,
 "nbformat_minor": 5
}
