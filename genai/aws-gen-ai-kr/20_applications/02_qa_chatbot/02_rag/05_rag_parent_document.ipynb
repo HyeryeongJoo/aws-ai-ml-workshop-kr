{
 "cells": [
  {
   "cell_type": "markdown",
   "id": "5deb2df2-413d-49bd-a829-3a1fc344937e",
   "metadata": {},
   "source": [
    "# RAG Based on parent document\n",
    "- Hybrid Search\n",
    "- ReRanker\n",
    "- [Parent Document](https://medium.aiplanet.com/advanced-rag-providing-broader-context-to-llms-using-parentdocumentretriever-cc627762305a)\n",
    "    "
   ]
  },
  {
   "cell_type": "markdown",
   "id": "b1f81abc-3277-4a6b-9ef1-d4f997d67fbe",
   "metadata": {},
   "source": [
    "## Setting\n",
    " - Auto Reload\n",
    " - path for utils"
   ]
  },
  {
   "cell_type": "code",
   "execution_count": 1,
   "id": "ddde4105-b759-4d6c-8214-8e1ab485ae48",
   "metadata": {
    "tags": []
   },
   "outputs": [],
   "source": [
    "%load_ext autoreload\n",
    "%autoreload 2"
   ]
  },
  {
   "cell_type": "code",
   "execution_count": 2,
   "id": "57c2cdb1-d785-4317-afce-938f13141085",
   "metadata": {
    "tags": []
   },
   "outputs": [],
   "source": [
    "import sys, os\n",
    "module_path = \"../../..\"\n",
    "sys.path.append(os.path.abspath(module_path))"
   ]
  },
  {
   "cell_type": "markdown",
   "id": "9c4ade56-8dbc-4ded-b355-7e4bcc971e90",
   "metadata": {},
   "source": [
    "## 1. Bedrock Client 생성"
   ]
  },
  {
   "cell_type": "code",
   "execution_count": 3,
   "id": "cc2d877f-e877-48f6-8dd4-239de20e45cd",
   "metadata": {
    "tags": []
   },
   "outputs": [],
   "source": [
    "import json\n",
    "import boto3\n",
    "from pprint import pprint\n",
    "from termcolor import colored\n",
    "from utils import bedrock, print_ww\n",
    "from utils.bedrock import bedrock_info"
   ]
  },
  {
   "cell_type": "markdown",
   "id": "088e6490-c79a-49e4-841c-9fdb91292608",
   "metadata": {},
   "source": [
    "### ---- ⚠️ Un-comment and edit the below lines as needed for your AWS setup ⚠️ ----\n",
    "- os.environ[\"AWS_DEFAULT_REGION\"] = \"<REGION_NAME>\"  # E.g. \"us-east-1\"\n",
    "- os.environ[\"AWS_PROFILE\"] = \"<YOUR_PROFILE>\"\n",
    "- os.environ[\"BEDROCK_ASSUME_ROLE\"] = \"<YOUR_ROLE_ARN>\"  # E.g. \"arn:aws:...\"\n",
    "- os.environ[\"BEDROCK_ENDPOINT_URL\"] = \"<YOUR_ENDPOINT_URL>\"  # E.g. \"https://...\""
   ]
  },
  {
   "cell_type": "code",
   "execution_count": 4,
   "id": "cab9312c-5f61-4730-96c3-5eef54a5f08c",
   "metadata": {
    "tags": []
   },
   "outputs": [
    {
     "name": "stdout",
     "output_type": "stream",
     "text": [
      "Create new client\n",
      "  Using region: None\n",
      "  Using profile: None\n",
      "boto3 Bedrock client successfully created!\n",
      "bedrock-runtime(https://bedrock-runtime.us-east-1.amazonaws.com)\n",
      "\u001b[32m\n",
      "== FM lists ==\u001b[0m\n",
      "{'Claude-Instant-V1': 'anthropic.claude-instant-v1',\n",
      " 'Claude-V1': 'anthropic.claude-v1',\n",
      " 'Claude-V2': 'anthropic.claude-v2',\n",
      " 'Claude-V2-1': 'anthropic.claude-v2:1',\n",
      " 'Claude-V3-Haiku': 'anthropic.claude-3-haiku-20240307-v1:0',\n",
      " 'Claude-V3-Sonnet': 'anthropic.claude-3-sonnet-20240229-v1:0',\n",
      " 'Cohere-Embeddings-En': 'cohere.embed-english-v3',\n",
      " 'Cohere-Embeddings-Multilingual': 'cohere.embed-multilingual-v3',\n",
      " 'Command': 'cohere.command-text-v14',\n",
      " 'Command-Light': 'cohere.command-light-text-v14',\n",
      " 'Jurassic-2-Mid': 'ai21.j2-mid-v1',\n",
      " 'Jurassic-2-Ultra': 'ai21.j2-ultra-v1',\n",
      " 'Llama2-13b-Chat': 'meta.llama2-13b-chat-v1',\n",
      " 'Titan-Embeddings-G1': 'amazon.titan-embed-text-v1',\n",
      " 'Titan-Text-G1': 'amazon.titan-text-express-v1',\n",
      " 'Titan-Text-G1-Light': 'amazon.titan-text-lite-v1'}\n"
     ]
    }
   ],
   "source": [
    "boto3_bedrock = bedrock.get_bedrock_client(\n",
    "    assumed_role=os.environ.get(\"BEDROCK_ASSUME_ROLE\", None),\n",
    "    endpoint_url=os.environ.get(\"BEDROCK_ENDPOINT_URL\", None),\n",
    "    region=os.environ.get(\"AWS_DEFAULT_REGION\", None),\n",
    ")\n",
    "\n",
    "aws_region = os.environ.get(\"AWS_DEFAULT_REGION\", None)\n",
    "print (colored(\"\\n== FM lists ==\", \"green\"))\n",
    "pprint (bedrock_info.get_list_fm_models(verbose=False))"
   ]
  },
  {
   "cell_type": "markdown",
   "id": "241a9e34-417a-422f-9f75-cb211b2e70e1",
   "metadata": {
    "tags": []
   },
   "source": [
    "## 2. Titan Embedding 및 LLM 인 Claude-v2 모델 로딩"
   ]
  },
  {
   "cell_type": "markdown",
   "id": "29bf63d2-4110-407c-af06-a45d2fbed4b5",
   "metadata": {},
   "source": [
    "### LLM 로딩 (Claude-v2)"
   ]
  },
  {
   "cell_type": "code",
   "execution_count": 5,
   "id": "9c51443a-04f9-465c-9564-53053eb3e1c2",
   "metadata": {
    "tags": []
   },
   "outputs": [],
   "source": [
    "from langchain_community.chat_models import BedrockChat\n",
    "from langchain.callbacks.streaming_stdout import StreamingStdOutCallbackHandler"
   ]
  },
  {
   "cell_type": "code",
   "execution_count": 6,
   "id": "d09e84e0-b9e1-4b12-8e7a-68f03c5416e5",
   "metadata": {
    "tags": []
   },
   "outputs": [
    {
     "data": {
      "text/plain": [
       "BedrockChat(client=<botocore.client.BedrockRuntime object at 0x7f4d73474700>, model_id='anthropic.claude-3-sonnet-20240229-v1:0', model_kwargs={'max_tokens': 1024, 'stop_sequences': ['\\n\\nHuman']}, streaming=True, callbacks=[<langchain_core.callbacks.streaming_stdout.StreamingStdOutCallbackHandler object at 0x7f4daade7e20>])"
      ]
     },
     "execution_count": 6,
     "metadata": {},
     "output_type": "execute_result"
    }
   ],
   "source": [
    "llm_text = BedrockChat(\n",
    "    model_id=bedrock_info.get_model_id(model_name=\"Claude-V3-Sonnet\"),\n",
    "    client=boto3_bedrock,\n",
    "    model_kwargs={\n",
    "        \"max_tokens\": 1024,\n",
    "        \"stop_sequences\": [\"\\n\\nHuman\"],\n",
    "    },\n",
    "    streaming=True,\n",
    "    callbacks=[StreamingStdOutCallbackHandler()],\n",
    ")\n",
    "llm_text"
   ]
  },
  {
   "cell_type": "markdown",
   "id": "3ba2e829-af8f-4e90-b994-59106cdec8d8",
   "metadata": {},
   "source": [
    "### Embedding 모델 선택"
   ]
  },
  {
   "cell_type": "code",
   "execution_count": 7,
   "id": "0b7b8752-d1e3-4f41-ba35-6da42c3785db",
   "metadata": {
    "tags": []
   },
   "outputs": [],
   "source": [
    "from utils.rag import KoSimCSERobertaContentHandler, SagemakerEndpointEmbeddingsJumpStart"
   ]
  },
  {
   "cell_type": "code",
   "execution_count": 8,
   "id": "793b03f7-3186-4969-b76a-98fe56bd5fdc",
   "metadata": {
    "tags": []
   },
   "outputs": [],
   "source": [
    "def get_embedding_model(is_bedrock_embeddings, is_KoSimCSERobert, aws_region, endpont_name=None):\n",
    "    \n",
    "    if is_bedrock_embeddings:\n",
    "        # We will be using the Titan Embeddings Model to generate our Embeddings.\n",
    "        from langchain.embeddings import BedrockEmbeddings\n",
    "        llm_emb = BedrockEmbeddings(\n",
    "            client=boto3_bedrock,\n",
    "            model_id=bedrock_info.get_model_id(\n",
    "                model_name=\"Titan-Embeddings-G1\"\n",
    "            )\n",
    "        )\n",
    "        print(\"Bedrock Embeddings Model Loaded\")\n",
    "\n",
    "    elif is_KoSimCSERobert:\n",
    "        LLMEmbHandler = KoSimCSERobertaContentHandler()\n",
    "        endpoint_name_emb = endpont_name\n",
    "        llm_emb = SagemakerEndpointEmbeddingsJumpStart(\n",
    "            endpoint_name=endpoint_name_emb,\n",
    "            region_name=aws_region,\n",
    "            content_handler=LLMEmbHandler,\n",
    "        )\n",
    "        print(\"KoSimCSERobert Embeddings Model Loaded\")\n",
    "    else:\n",
    "        llm_emb = None\n",
    "        print(\"No Embedding Model Selected\")\n",
    "\n",
    "    return llm_emb"
   ]
  },
  {
   "cell_type": "markdown",
   "id": "cd72a6b8-eaf0-4036-a530-3bde5ba988cd",
   "metadata": {},
   "source": [
    "#### [중요] is_KoSimCSERobert == True 일시에 endpoint_name 을 꼭 넣어 주세요."
   ]
  },
  {
   "cell_type": "code",
   "execution_count": 9,
   "id": "f42e032b-8715-432c-ae71-12a889f8ffc0",
   "metadata": {
    "tags": []
   },
   "outputs": [
    {
     "name": "stdout",
     "output_type": "stream",
     "text": [
      "Bedrock Embeddings Model Loaded\n"
     ]
    }
   ],
   "source": [
    "is_bedrock_embeddings = True\n",
    "is_KoSimCSERobert = False\n",
    "aws_region = os.environ.get(\"AWS_DEFAULT_REGION\", None)\n",
    "\n",
    "##############################\n",
    "# Parameters for is_KoSimCSERobert\n",
    "##############################\n",
    "if is_KoSimCSERobert: endpont_name = \"<endpoint-name>\"\n",
    "else: endpont_name = None\n",
    "##############################\n",
    "\n",
    "llm_emb = get_embedding_model(is_bedrock_embeddings, is_KoSimCSERobert, aws_region, endpont_name)   "
   ]
  },
  {
   "cell_type": "markdown",
   "id": "e10b67d5-382e-4715-a841-eb07b8655da8",
   "metadata": {},
   "source": [
    "## 3. Depoly ReRanker model (if needed)"
   ]
  },
  {
   "cell_type": "code",
   "execution_count": 10,
   "id": "9a08a296-41ef-44cb-857b-63d05a8d187c",
   "metadata": {
    "tags": []
   },
   "outputs": [
    {
     "name": "stdout",
     "output_type": "stream",
     "text": [
      "sagemaker.config INFO - Not applying SDK defaults from location: /etc/xdg/sagemaker/config.yaml\n",
      "sagemaker.config INFO - Not applying SDK defaults from location: /home/ec2-user/.config/sagemaker/config.yaml\n"
     ]
    }
   ],
   "source": [
    "import json\n",
    "import sagemaker\n",
    "from sagemaker.huggingface import HuggingFaceModel"
   ]
  },
  {
   "cell_type": "code",
   "execution_count": 11,
   "id": "33dd04a7-8200-49e7-ae69-55a82be199b4",
   "metadata": {
    "tags": []
   },
   "outputs": [],
   "source": [
    "depoly = False"
   ]
  },
  {
   "cell_type": "code",
   "execution_count": 12,
   "id": "9d40e3dd-a19f-4af3-831a-0cfe79e72cb3",
   "metadata": {
    "tags": []
   },
   "outputs": [],
   "source": [
    "if depoly:\n",
    "\n",
    "    try:\n",
    "        role = sagemaker.get_execution_role()\n",
    "    except ValueError:\n",
    "        iam = boto3.client('iam')\n",
    "        role = iam.get_role(RoleName='sagemaker_execution_role')['Role']['Arn']\n",
    "\n",
    "    # Hub Model configuration. https://huggingface.co/models\n",
    "    hub = {\n",
    "        'HF_MODEL_ID':'Dongjin-kr/ko-reranker',\n",
    "        'HF_TASK':'text-classification'\n",
    "    }\n",
    "\n",
    "    # create Hugging Face Model Class\n",
    "    huggingface_model = HuggingFaceModel(\n",
    "        transformers_version='4.26.0',\n",
    "        pytorch_version='1.13.1',\n",
    "        py_version='py39',\n",
    "        env=hub,\n",
    "        role=role, \n",
    "    )\n",
    "\n",
    "    # deploy model to SageMaker Inference\n",
    "    predictor = huggingface_model.deploy(\n",
    "        initial_instance_count=1, # number of instances\n",
    "        instance_type='ml.g5.xlarge' # instance type\n",
    "    )\n",
    "\n",
    "    print(f'Accept: {predictor.accept}')\n",
    "    print(f'ContentType: {predictor.content_type}')\n",
    "    print(f'Endpoint: {predictor.endpoint}')"
   ]
  },
  {
   "cell_type": "markdown",
   "id": "20e648ef-01ec-4e2f-ba88-7d2510fdb7a6",
   "metadata": {},
   "source": [
    "## 4. Invocation (prediction)"
   ]
  },
  {
   "cell_type": "code",
   "execution_count": 13,
   "id": "d0e06044-ac6b-468d-a106-8fbeb4a555f6",
   "metadata": {
    "tags": []
   },
   "outputs": [],
   "source": [
    "from utils.ssm import parameter_store"
   ]
  },
  {
   "cell_type": "code",
   "execution_count": 14,
   "id": "ac71912f-b121-424d-97e9-6bfbed2633bf",
   "metadata": {
    "tags": []
   },
   "outputs": [],
   "source": [
    "region=boto3.Session().region_name\n",
    "pm = parameter_store(region)"
   ]
  },
  {
   "cell_type": "code",
   "execution_count": 15,
   "id": "114be617-a687-4733-abb9-30394c7ef35f",
   "metadata": {
    "tags": []
   },
   "outputs": [
    {
     "name": "stdout",
     "output_type": "stream",
     "text": [
      "runtime_client: <botocore.client.SageMakerRuntime object at 0x7f4cf80ae8c0>\n"
     ]
    }
   ],
   "source": [
    "runtime_client = boto3.Session().client('sagemaker-runtime')\n",
    "print (f'runtime_client: {runtime_client}')"
   ]
  },
  {
   "cell_type": "code",
   "execution_count": 16,
   "id": "26ee5c45-de87-4a2b-bc04-bbc649fcd0c6",
   "metadata": {
    "tags": []
   },
   "outputs": [],
   "source": [
    "endpoint_name = pm.get_params(\n",
    "    key=\"reranker_endpoint\",\n",
    "    enc=False\n",
    ")\n",
    "deserializer = \"application/json\""
   ]
  },
  {
   "cell_type": "code",
   "execution_count": 17,
   "id": "bd6288ed-b4fa-466f-9e2b-57484b827b0a",
   "metadata": {
    "tags": []
   },
   "outputs": [],
   "source": [
    "payload = json.dumps(\n",
    "    {\n",
    "        \"inputs\": [\n",
    "            {\"text\": \"I hate you\", \"text_pair\": \"I don't like you\"},\n",
    "            {\"text\": \"He hates you\", \"text_pair\": \"He like you\"}\n",
    "        ]\n",
    "    }\n",
    ")"
   ]
  },
  {
   "cell_type": "code",
   "execution_count": 18,
   "id": "124fd3f0-2b81-4b2b-af97-2f22b101f25d",
   "metadata": {
    "tags": []
   },
   "outputs": [],
   "source": [
    "payload = json.dumps(\n",
    "    {\n",
    "        \"inputs\": [\n",
    "            {\"text\": \"나는 너를 사랑하지 않아\", \"text_pair\": \"나는 너를 좋아하지 않아\"},\n",
    "            {\"text\": \"그는 너를 싫어해\", \"text_pair\": \"그는 너를 좋아해\"}\n",
    "        ]\n",
    "    }\n",
    ")"
   ]
  },
  {
   "cell_type": "code",
   "execution_count": 19,
   "id": "c1eebe88-8b92-4e81-a103-b5a5d7a91bb3",
   "metadata": {
    "tags": []
   },
   "outputs": [
    {
     "name": "stdout",
     "output_type": "stream",
     "text": [
      "Response: [{'label': 'LABEL_0', 'score': 0.9984032511711121}, {'label': 'LABEL_0', 'score': 0.004707992542535067}]\n",
      "CPU times: user 13 ms, sys: 884 µs, total: 13.9 ms\n",
      "Wall time: 634 ms\n"
     ]
    }
   ],
   "source": [
    "%%time\n",
    "response = runtime_client.invoke_endpoint(\n",
    "    EndpointName=endpoint_name,\n",
    "    ContentType=\"application/json\",\n",
    "    Accept=deserializer,\n",
    "    Body=payload\n",
    ")\n",
    "## deserialization\n",
    "out = json.loads(response['Body'].read().decode()) ## for json\n",
    "print (f'Response: {out}')"
   ]
  },
  {
   "cell_type": "markdown",
   "id": "7e432237-b9b5-4be3-aa0c-c30eeca6f480",
   "metadata": {},
   "source": [
    "## 5. LangChain OpenSearch VectorStore 정의\n",
    "### 선수 조건\n",
    "- 01_preprocess_docs/02_load_docs_opensearch.ipynb를 통해서 OpenSearch Index 가 생성이 되어 있어야 합니다.\n",
    "#### [중요] 아래에 aws parameter store 에 아래 인증정보가 먼저 입력되어 있어야 합니다.\n",
    "- 01_preprocess_docs/01_parameter_store_example.ipynb 참고"
   ]
  },
  {
   "cell_type": "code",
   "execution_count": 20,
   "id": "42d192b6-68ce-465e-9fa7-04b5201f4453",
   "metadata": {
    "tags": []
   },
   "outputs": [],
   "source": [
    "opensearch_domain_endpoint = pm.get_params(\n",
    "    key=\"opensearch_domain_endpoint\",\n",
    "    enc=False\n",
    ")\n",
    "\n",
    "opensearch_user_id = pm.get_params(\n",
    "    key=\"opensearch_user_id\",\n",
    "    enc=False\n",
    ")\n",
    "\n",
    "opensearch_user_password = pm.get_params(\n",
    "    key=\"opensearch_user_password\",\n",
    "    enc=True\n",
    ")"
   ]
  },
  {
   "cell_type": "code",
   "execution_count": 21,
   "id": "fc7866fd-fd9c-4b41-b600-a91e43edfe4d",
   "metadata": {
    "tags": []
   },
   "outputs": [],
   "source": [
    "opensearch_domain_endpoint = opensearch_domain_endpoint\n",
    "rag_user_name = opensearch_user_id\n",
    "rag_user_password = opensearch_user_password\n",
    "\n",
    "http_auth = (rag_user_name, rag_user_password) # Master username, Master password"
   ]
  },
  {
   "cell_type": "markdown",
   "id": "161a900e-effc-4d7f-a179-b6c00eac03ad",
   "metadata": {
    "tags": []
   },
   "source": [
    "### Index 이름 셋팅\n",
    "- 이전 노트북 01_preprocess_docs/02_load_docs_opensearch.ipynb를 통해서 생성된 OpenSearch Index name 입력\n",
    "- parent document 용으로 생성된 index 사용할 것 "
   ]
  },
  {
   "cell_type": "code",
   "execution_count": 22,
   "id": "d5d9b5eb-052e-4e84-846b-c5385e853ba4",
   "metadata": {
    "tags": []
   },
   "outputs": [
    {
     "name": "stdout",
     "output_type": "stream",
     "text": [
      "index_name: v01-genai-poc-parent-doc-retriever\n"
     ]
    }
   ],
   "source": [
    "index_name = opensearch_user_password = pm.get_params(\n",
    "    key=\"opensearch_index_name\",\n",
    "    enc=True\n",
    ")\n",
    "\n",
    "print (f'index_name: {index_name}')"
   ]
  },
  {
   "cell_type": "markdown",
   "id": "482f5785-b88d-44fa-a603-080e4bd734a6",
   "metadata": {},
   "source": [
    "### OpenSearch Client 생성"
   ]
  },
  {
   "cell_type": "code",
   "execution_count": 23,
   "id": "968b7502-5799-4702-bc17-959e88c330a2",
   "metadata": {
    "tags": []
   },
   "outputs": [],
   "source": [
    "from utils.opensearch import opensearch_utils"
   ]
  },
  {
   "cell_type": "code",
   "execution_count": 24,
   "id": "6ceb46a1-e425-4f7e-9319-793b55abb938",
   "metadata": {
    "tags": []
   },
   "outputs": [],
   "source": [
    "os_client = opensearch_utils.create_aws_opensearch_client(\n",
    "    aws_region,\n",
    "    opensearch_domain_endpoint,\n",
    "    http_auth\n",
    ")"
   ]
  },
  {
   "cell_type": "markdown",
   "id": "a5084376-7523-4cf9-9123-adc4ae79f66d",
   "metadata": {
    "tags": []
   },
   "source": [
    "## 6. Retriever based on Hybrid Search + ParentDocument + ReRanker\n",
    "- LangChain에서 제공하는 **BaseRetriever** 클래스를 상속받아 **Custom Retriever**를 정의 할 수 있습니다.\n",
    "- Hybrid-Search에 대한 자세한 내용는 **\"01_rag_hybrid_search.ipyno\"** 에서 확인 가능합니다.\n",
    "- [Parent Document](https://towardsdatascience.com/forget-rag-the-future-is-rag-fusion-1147298d8ad1)\n",
    "![parent-document.png](../../../imgs/parent-document.png)"
   ]
  },
  {
   "cell_type": "markdown",
   "id": "29cf3877-ed50-4ca6-b319-fca654f011cc",
   "metadata": {
    "tags": []
   },
   "source": [
    "## Parent documents in Hybrid search\n",
    "- Lexical search: parent documents only\n",
    "- Semantic search: child documents first, getting parent documents corresponding to that child document"
   ]
  },
  {
   "cell_type": "code",
   "execution_count": 25,
   "id": "5db8e470-63a9-4c3d-94c8-1d270a6da822",
   "metadata": {
    "tags": []
   },
   "outputs": [],
   "source": [
    "from utils.rag import OpenSearchHybridSearchRetriever"
   ]
  },
  {
   "cell_type": "markdown",
   "id": "d7feac2f-21a2-4756-b989-66c180bb1e79",
   "metadata": {},
   "source": [
    "- 필터 설정 예시\n",
    "- filter=[ <BR>\n",
    "    　{\"term\": {\"metadata.[**your_metadata_attribute_name**]\": \"**your first keyword**\"}}, <BR>\n",
    "    　{\"term\": {\"metadata.[**your_metadata_attribute_name**]\": \"**your second keyword**\"}},<BR>\n",
    "]"
   ]
  },
  {
   "cell_type": "code",
   "execution_count": 26,
   "id": "49c7e131-294f-4ff8-9331-989709c7079c",
   "metadata": {
    "tags": []
   },
   "outputs": [],
   "source": [
    "opensearch_hybrid_retriever = OpenSearchHybridSearchRetriever(\n",
    "    os_client=os_client,\n",
    "    index_name=index_name,\n",
    "    llm_text=llm_text, # llm for query augmentation in both rag_fusion and HyDE\n",
    "    llm_emb=llm_emb, # Used in semantic search based on opensearch \n",
    "\n",
    "    # option for lexical\n",
    "    minimum_should_match=0,\n",
    "    filter=[],\n",
    "\n",
    "    # option for search\n",
    "    fusion_algorithm=\"RRF\", # [\"RRF\", \"simple_weighted\"], rank fusion 방식 정의\n",
    "    ensemble_weights=[.51, .49], # [for semantic, for lexical], Semantic, Lexical search 결과에 대한 최종 반영 비율 정의\n",
    "    reranker=True, # enable reranker with reranker model\n",
    "    reranker_endpoint_name=endpoint_name, # endpoint name for reranking model\n",
    "    parent_document = True, # enable parent document\n",
    "\n",
    "    # option for async search\n",
    "    async_mode=True,\n",
    "\n",
    "    # option for output\n",
    "    k=5, # 최종 Document 수 정의\n",
    "    verbose=True,\n",
    ")"
   ]
  },
  {
   "cell_type": "markdown",
   "id": "cfb26835-ad98-41c5-9e9d-2453642e3551",
   "metadata": {},
   "source": [
    "### Retrieval example\n",
    "- default search"
   ]
  },
  {
   "cell_type": "code",
   "execution_count": 27,
   "id": "9c06e89f-79de-413c-ba9c-a188ca3fe2d0",
   "metadata": {
    "tags": []
   },
   "outputs": [],
   "source": [
    "from utils.rag import show_context_used"
   ]
  },
  {
   "cell_type": "code",
   "execution_count": 28,
   "id": "fe3bfee3-dac1-45b9-8795-03e36c1632a9",
   "metadata": {
    "tags": []
   },
   "outputs": [],
   "source": [
    "#query = \"vidio max size?\"\n",
    "query = \"What is knox?\""
   ]
  },
  {
   "cell_type": "code",
   "execution_count": 29,
   "id": "05b13e5e-4a66-4dc8-b18c-42a6e3bd6037",
   "metadata": {
    "collapsed": true,
    "jupyter": {
     "outputs_hidden": true
    },
    "tags": []
   },
   "outputs": [
    {
     "name": "stdout",
     "output_type": "stream",
     "text": [
      "===== ParentDocument =====\n",
      "filter: [{'term': {'metadata.family_tree': 'child'}}]\n",
      "# child_docs: 5\n",
      "# parent docs: 5\n",
      "# duplicates: 0\n",
      "##############################\n",
      "async_mode\n",
      "##############################\n",
      "True\n",
      "##############################\n",
      "reranker\n",
      "##############################\n",
      "True\n",
      "##############################\n",
      "rag_fusion\n",
      "##############################\n",
      "False\n",
      "##############################\n",
      "HyDE\n",
      "##############################\n",
      "False\n",
      "##############################\n",
      "parent_document\n",
      "##############################\n",
      "True\n",
      "##############################\n",
      "complex_document\n",
      "##############################\n",
      "False\n",
      "##############################\n",
      "similar_docs_semantic\n",
      "##############################\n",
      "\n",
      "Score: 1.0\n",
      "['Knox knowledge base articles']\n",
      "{'source': 'all_processed_data.json', 'seq_num': 256, 'title': 'Knox knowledge base articles', 'url': 'https://docs.samsungknox.com/admin/fundamentals/kbas', 'project': 'USP', 'last_updated': '2023-07-26', 'family_tree': 'child', 'parent_id': '8ad593e2-b79d-4f9b-8356-05ddea67cb31', 'id': '7d86ff26-86eb-44d2-ac25-086bd2a8d5d4'}\n",
      "\n",
      "Score: 0.9331517242798636\n",
      "['. Knox service Pricing Supported license keys Trial license and where to get it Server type Knox Mobile Enrollment Free No license key required No license key required Cloud Knox Mobile Enrollment(Advanced profile) Paid Knox Suite Knox Suite trial key (Knox Admin Portal) Cloud Knox Manage Paid Knox Suite Knox Manage key Knox Suite trial key (Knox Admin Portal) Cloud Knox E-FOTA Paid Knox Suite Knox E-FOTA key Knox Suite trial key (Knox Admin Portal) Cloud Knox Asset Intelligence Paid Knox Suite Knox Asset Intelligence key Knox Suite trial key (Knox Admin Portal) Cloud Knox Remote Support Paid Knox Suite Knox Manage key Knox Suite trial key (Knox Admin Portal) Cloud Knox Configure Paid Knox Configure key Knox Configure trial key (Knox Admin Portal) Cloud Knox Guard Paid Knox Guard key Knox Guard trial key (Knox Guard console) Cloud Samsung Care+ for Business Paid Samsung Care+ for Business key No trial available Cloud Knox Mobile Enrollment Direct Free No license key required No license key required']\n",
      "{'source': 'all_processed_data.json', 'seq_num': 150, 'title': 'Knox licenses', 'url': 'https://docs.samsungknox.com/admin/fundamentals/knox-licenses', 'project': 'USP', 'last_updated': '2023-07-26', 'family_tree': 'child', 'parent_id': '252242b8-948d-488f-8a9d-7ae3898a36a9', 'id': '763b65f1-111c-49d1-9bd7-f97a910ccd3b'}\n",
      "\n",
      "Score: 0.9318079041784717\n",
      "[\"Sign in with a Samsung account. Sign up for a Knox account A Samsung Knox account is free and can be created in just a few minutes. With a Samsung Knox account, you can register for Knox services and get access to the Knox Admin Portal, which lets you easily manage your devices, admins, and licenses across each Knox service. To sign up for a Samsung Knox account, you need to link it to a Samsung account. If you don't yet have a Samsung account, you'll be prompted to create one when you sign up for SamsungKnox.com. To create your Knox account: 1. Go to SamsungKnox.com. 2. In the top-right corner, click GET STARTED. 3. Under Business email, enter the email address you use for work. 4. Select a Knox solution that you want to access - Knox Suite, Knox Configure, Knox Guard, Samsung Care + for Business, or Other products & services. If you want access to an individual Knox Suite service, such as Knox Mobile Enrollment, select Knox Suite. 5. Click CREATE MY ACCOUNT\"]\n",
      "{'source': 'all_processed_data.json', 'seq_num': 162, 'title': 'Sign in with a Samsung account', 'url': 'https://docs.samsungknox.com/admin/fundamentals/sign-up-for-samsung-knox/sign-in-with-a-samsung-account', 'project': 'USP', 'last_updated': '2023-08-23', 'family_tree': 'child', 'parent_id': '2681ca03-f887-4300-8a34-d1eb7032c5a3', 'id': '5aff916d-d66d-4454-8917-f73a86e3e34d'}\n",
      "\n",
      "Score: 0.9290619396176194\n",
      "[\"The Samsung Knox platform. Samsung Knox brings defense-grade security on the most popular consumer devices to all enterprises. The Knox Platform provides best-in-class hardware-based security, policy management, and compliance capabilities beyond the standard features commonplace in today's mobile device market. The Knox Platform is the cornerstone of a strong mobile security strategy supporting a wide variety of Samsung devices. Why use Samsung Knox? The Knox Platform helps you and your enterprise avoid the security gaps common on many mobile platforms. Knox received *strong* ratings in 25 of 28 categories in Gartner's December 2017 Mobile OSs and Device Security: A Comparison of Platforms and has received strong ratings for the last three years in a row. The Knox Platform's security hardening supports every aspect of mobile device operation. The Knox Platform enables trust in your mobile endpoints with advanced features like the evolutionary Knox Vault to the patented Real-Time Kernel Protection\"]\n",
      "{'source': 'all_processed_data.json', 'seq_num': 168, 'title': 'The Samsung Knox platform', 'url': 'https://docs.samsungknox.com/admin/fundamentals/whitepaper/the-samsung-knox-platform', 'project': 'USP', 'last_updated': '2023-07-26', 'family_tree': 'child', 'parent_id': 'beaa4513-7749-44eb-9be0-884bd8a513d8', 'id': 'c3cb7863-4b30-4a1c-b6a6-f1804215807f'}\n",
      "\n",
      "Score: 0.9283034348395772\n",
      "[\"Knox Manage features. Component Name Description 1 Knox Manage admin portal Configures and manages Knox Manage environments. 2 Knox Manage agent An application installed on Android, iOS, and Windows devices. 3 Knox Manage server Knox Manage cloud server 4 Knox Manage Cloud Connector Transfers data securely between the client's enterprise server and the Knox Manage server. For more information, see Using Cloud Connector. 5 Lightweight Directory Access Protocol Imports the client's directory-based user information. For more information, see Sync user information with AD/LDAP and Integrate a directory server. 6 Certificate Authority Generates certificates for authentication when using a network, such as Wi-Fi, VPN, Exchange, or APN. For more information, see Certificate authority (CA). For a complete listing of all features, see the Knox Manage feature list.\"]\n",
      "{'source': 'all_processed_data.json', 'seq_num': 969, 'title': 'Knox Manage features', 'url': 'https://docs.samsungknox.com/admin/knox-manage/introduction/key-features/knox-manage-features', 'project': 'KM', 'last_updated': '2023-07-26', 'family_tree': 'child', 'parent_id': 'e92ed903-00de-4f5a-b37d-7fd01fd4447c', 'id': 'a11a5a4a-fb97-40e9-9e53-dd3808358359'}\n",
      "\n",
      "Score: 0.9270623100616721\n",
      "[\"Latest videos. Watch the latest videos to learn how Knox services work. Title , Description - , - Getting started with Knox Admin Portal , The Knox Admin Portal is the hub for all your Knox services, designed to provide a cohesive user experience. This video walks you through how to get started with the Knox Admin Portal so that it can help streamline your device management operations and help you manage your resources across services more easily. Getting started with Knox Suite , Knox Suite is an all-in-one solution, built for enterprise mobility. This video walks you through how to get started with the Knox Suite so that it can help address your enterprise's needs related to security and management throughout the entire device lifecycle. Getting started with Knox Mobile Enrollment , Knox Mobile Enrollment is an automated EMM enrollment tool for provisioning devices quickly and easily, out-of-the-box. Broad-ranging deployment and security features ensure ease of enrollment, in any situation\"]\n",
      "{'source': 'all_processed_data.json', 'seq_num': 151, 'title': 'Latest videos', 'url': 'https://docs.samsungknox.com/admin/fundamentals/latest-videos', 'project': 'USP', 'last_updated': '2023-11-10', 'family_tree': 'child', 'parent_id': 'd91ff8ec-db65-4a60-81b1-360abf2d8e4c', 'id': 'e6ae468c-fd82-4378-aa62-7354d2c6693b'}\n",
      "\n",
      "Score: 0.9260386496628273\n",
      "['Knox Suite. Knox Suite is a bundled offering of Knox solutions for enterprise mobility designed to address organizations\\' needs related to security and management throughout the entire device lifecycle. Learn more about Knox Suite #Audience This document is intended for IT Admins. Understand what\\'s included in Knox Suite and how you can use it to manage, secure, and maintain enterprise devices. Learn where to find information on how to perform various tasks with Knox\"Suite services. About Knox Suite Knox Suite is a bundled offering that includes the following Knox products: Knox Platform for Enterprise - A Knox solution that provides military-grade security to Samsung Android phones, tablets, and Tizen watches for business. Knox Mobile Enrollment - A Knox solution that allows you to enroll thousands of Samsung devices in your EMM at once. When used with a Knox Suite license, Knox Mobile Enrollment provides advanced profiles that offer IT admins additional features such as higher control over locking devices']\n",
      "{'source': 'all_processed_data.json', 'seq_num': 124, 'title': 'Knox Suite', 'url': 'https://docs.samsungknox.com/admin/knox-suite', 'project': 'KS', 'last_updated': '2023-07-26', 'family_tree': 'child', 'parent_id': '448d796e-6dad-46e7-891c-b24646d0f388', 'id': 'f0df833b-9556-41e9-ae9b-b3c24ffdc480'}\n",
      "None\n",
      "##############################\n",
      "similar_docs_keyword\n",
      "##############################\n",
      "\n",
      "Score: 1.0\n",
      "['Wi-Fi Enhanced Roaming Algorithm File-based encryption (FBE) and full-disk encryption (FDE) What policy do I use to block users from adding additional accounts on the device? \"Network may be monitored\" shown after installing a private CA certificate on device Does the Samsung email client support \"opaque signed\" emails? Can a network operator configure an E_APN on an employee\\'s device? If two similar Knox policies are applied to a device with an MDM, which one takes precedence? Should the Knox VPN client be installed inside or outside the Knox container? What are the package names for the Samsung Cisco AnyConnect and Juniper VPN clients? What is the minimum level of unlock method required to install a certificate in Android credential storage? What is the proper way to wildcard APK package names? Which servers do EMMs need to communicate with in order to conduct device attestation? What is the order of precedence for firewall rules? What URLs do I have to add to an allowlist to make Samsung apps work with an']\n",
      "{'source': 'all_processed_data.json', 'seq_num': 1656, 'title': 'Knox Platform for Enterprise knowledge base articles', 'url': 'https://docs.samsungknox.com/admin/knox-platform-for-enterprise/kbas', 'project': 'KPE', 'last_updated': '2023-11-06', 'family_tree': 'child', 'parent_id': '1bf16403-0909-46e6-b77e-15d40409fccb', 'id': '11b3fff1-1613-4081-921f-b18815587846'}\n",
      "\n",
      "Score: 0.9936811390240635\n",
      "['. What is an Approval ID? Who uploads devices to Knox Guard? What does a Complete device status mean in Knox Guard? What are the options for stopping payment blink reminders on an overdue device? How do I restrict a device to a particular telecom operator? How do I restrict a device to the first inserted SIM of an allowed telecom operator?']\n",
      "{'source': 'all_processed_data.json', 'seq_num': 734, 'title': 'Knox Guard knowledge base articles', 'url': 'https://docs.samsungknox.com/admin/knox-guard/kbas', 'project': 'KG', 'last_updated': '2023-07-26', 'family_tree': 'child', 'parent_id': '97f77950-4e98-4e2a-94b2-6a3745cb3551', 'id': '30669867-dcd2-4a2e-affb-cefb310c3f62'}\n",
      "\n",
      "Score: 0.9707182579728589\n",
      "[\"Overview. Get started with the basics by learning what Knox Capture is and how it works. What is Knox Capture? To help explain what Knox Capture does, it may be helpful to start with an understanding of what a *wedge* scanner is, and how it relates to the Knox Capture solution. In traditional hardware-based barcode scanning terminology, a wedge scanner is a physical device that attaches between a keyboard and a computer. The keyboard attaches to the scanner, and the scanner attaches to the computer. From the computer's perspective, the scanner behaves just like an additional keyboard. When the computer runs a software program (like an inventory spreadsheet app), and barcodes are read using the wedge scanner, data is sent from the scanner to the program in the form of keystrokes. From the program's point of view, data appears exactly as if someone had typed it manually using a keyboard. How Knox Capture works In a similar way, Knox Capture also acts as a wedge between a software program and keyboard\"]\n",
      "{'source': 'all_processed_data.json', 'seq_num': 558, 'title': 'Overview', 'url': 'https://docs.samsungknox.com/admin/knox-capture/overview', 'project': 'KCAP', 'last_updated': '2023-07-26', 'family_tree': 'child', 'parent_id': 'ad50477f-fbf7-4da3-bcf4-f6ca817dac05', 'id': '41bccb5c-074f-4c20-b582-5a237e553bd8'}\n",
      "\n",
      "Score: 0.9652674421895951\n",
      "['way to wildcard APK package names? Which servers do EMMs need to communicate with in order to conduct device attestation? What is the order of precedence for firewall rules? What URLs do I have to add to an allowlist to make Samsung apps work with an authenticated proxy? Can I disable power saving mode on Knox supported devices? If I cannot resolve an SE for Android issue, who do I escalate to? Is there a way to automatically enable email sync while roaming? What does the term \"Maximum number of licenses\" mean for KPE Standard licenses? Knox legacy workspace articles Using SSO with a Common Access Card (CAC) in the Work Profile How many certificates can be stored in the Knox platform TrustZone? Accessing Knox Workspace without connecting to Active Directory network Unlocking the Knox Workspace container using Active Directory credentials What is the certificate length limit in the Knox CCM keystore? Can I create an RSA Key Pair on a Knox Platform for Enterprise device? Known issues Unable to install Samsung']\n",
      "{'source': 'all_processed_data.json', 'seq_num': 1656, 'title': 'Knox Platform for Enterprise knowledge base articles', 'url': 'https://docs.samsungknox.com/admin/knox-platform-for-enterprise/kbas', 'project': 'KPE', 'last_updated': '2023-11-06', 'family_tree': 'child', 'parent_id': '1bf16403-0909-46e6-b77e-15d40409fccb', 'id': 'bc4447c0-d99e-494d-9f50-089cf54229e3'}\n",
      "\n",
      "Score: 0.9456692995376281\n",
      "['What version of Knox Platform for Enterprise is running on my device?. The most frequently asked questions about Knox Platform for Enterprise. To find out what version of Knox Platform for Enterprise your device is running, go to: Settings > About Device > Software Information > Knox Version. This is a screenshot of the device menu containing the Knox version. Here, we see that Knox 3.1 is listed under Knox version. #Looking for more information? , See Knox on Android for a list of features available in each release of Knox.']\n",
      "{'source': 'all_processed_data.json', 'seq_num': 1499, 'title': 'What version of Knox Platform for Enterprise is running on my device?', 'url': 'https://docs.samsungknox.com/admin/knox-platform-for-enterprise/faq/#what-version-of-knox-platform-for-enterprise-is-running-on-my-device', 'project': 'KPE', 'last_updated': '2023-07-26', 'family_tree': 'child', 'parent_id': '487fc94c-4524-4748-9bd1-edbf1d46f092', 'id': 'b87cf547-f2a1-4e5c-bd19-6a006aa5db01'}\n",
      "\n",
      "Score: 0.9402321083739492\n",
      "['Can I take screenshots in the Knox Workspace?. The most frequently asked questions about Knox Platform for Enterprise. This FAQ references the Knox Workspace, which is a feature of Knox Platform for Enterprise. This feature also depends on what version of the Knox framework is installed on your device. #Knox 3.0 and above Yes, by default, you can take screenshots in the Workspace. However, an IT policy with a supported EMM can disable this. #Knox 2.9 and below This feature is disabled by default and you cannot take screenshots. To enable screenshots, use an IT policy from a supported EMM. #Example Here is what happens on a device when the disable screenshot policy is applied.']\n",
      "{'source': 'all_processed_data.json', 'seq_num': 1532, 'title': 'Can I take screenshots in the Knox Workspace?', 'url': 'https://docs.samsungknox.com/admin/knox-platform-for-enterprise/faq/#can-i-take-screenshots-in-the-knox-workspace', 'project': 'KPE', 'last_updated': '2023-07-26', 'family_tree': 'child', 'parent_id': 'c59b3873-bd6c-4b7b-afbd-0d11e2634457', 'id': 'badc062f-8bfc-4689-8239-691deb4817d7'}\n",
      "\n",
      "Score: 0.9067080939186531\n",
      "['. XCover/Active key settings - Select what happens when the device user presses the XCover key. The options available are: Application launch, Intent broadcasting, or MS Teams. When you select Application launch or Intent broadcasting, the screen refreshes to show fields that allow you to customize what happens when the key is pressed. Top key settings - Select what happens when the device user presses the top key. Use the fields under this heading to customize what happens when the key is pressed. Side key settings - Select what happens when the device user presses the side key. Use the fields under this heading to customize what happens when the key is pressed. You can specify that launching an app requires a double press. 6. On the General configuration screen, configure the following settings, and then click Continue: NFC settings - Set whether you want to enable the use of Near Field Communication (NFC) apps on the device']\n",
      "{'source': 'all_processed_data.json', 'seq_num': 1368, 'title': 'Setup and config for admins', 'url': 'https://docs.samsungknox.com/admin/knox-mobile-enrollment/on-premise/get-started/setup-and-config-for-admins', 'project': 'KME', 'last_updated': '2023-10-30', 'family_tree': 'child', 'parent_id': '603fd625-4f0f-49fb-8418-31486de1f2bb', 'id': 'a5139f49-4dff-454c-aa73-e606d0f4ec21'}\n",
      "None\n",
      "##############################\n",
      "similar_docs_without_reranker\n",
      "##############################\n",
      "\n",
      "Score: 0.008360655737704918\n",
      "['Knox knowledge base articles']\n",
      "{'source': 'all_processed_data.json', 'seq_num': 256, 'title': 'Knox knowledge base articles', 'url': 'https://docs.samsungknox.com/admin/fundamentals/kbas', 'project': 'USP', 'last_updated': '2023-07-26', 'family_tree': 'child', 'parent_id': '8ad593e2-b79d-4f9b-8356-05ddea67cb31', 'id': '7d86ff26-86eb-44d2-ac25-086bd2a8d5d4'}\n",
      "\n",
      "Score: 0.008225806451612904\n",
      "['. Knox service Pricing Supported license keys Trial license and where to get it Server type Knox Mobile Enrollment Free No license key required No license key required Cloud Knox Mobile Enrollment(Advanced profile) Paid Knox Suite Knox Suite trial key (Knox Admin Portal) Cloud Knox Manage Paid Knox Suite Knox Manage key Knox Suite trial key (Knox Admin Portal) Cloud Knox E-FOTA Paid Knox Suite Knox E-FOTA key Knox Suite trial key (Knox Admin Portal) Cloud Knox Asset Intelligence Paid Knox Suite Knox Asset Intelligence key Knox Suite trial key (Knox Admin Portal) Cloud Knox Remote Support Paid Knox Suite Knox Manage key Knox Suite trial key (Knox Admin Portal) Cloud Knox Configure Paid Knox Configure key Knox Configure trial key (Knox Admin Portal) Cloud Knox Guard Paid Knox Guard key Knox Guard trial key (Knox Guard console) Cloud Samsung Care+ for Business Paid Samsung Care+ for Business key No trial available Cloud Knox Mobile Enrollment Direct Free No license key required No license key required']\n",
      "{'source': 'all_processed_data.json', 'seq_num': 150, 'title': 'Knox licenses', 'url': 'https://docs.samsungknox.com/admin/fundamentals/knox-licenses', 'project': 'USP', 'last_updated': '2023-07-26', 'family_tree': 'child', 'parent_id': '252242b8-948d-488f-8a9d-7ae3898a36a9', 'id': '763b65f1-111c-49d1-9bd7-f97a910ccd3b'}\n",
      "\n",
      "Score: 0.008095238095238095\n",
      "[\"Sign in with a Samsung account. Sign up for a Knox account A Samsung Knox account is free and can be created in just a few minutes. With a Samsung Knox account, you can register for Knox services and get access to the Knox Admin Portal, which lets you easily manage your devices, admins, and licenses across each Knox service. To sign up for a Samsung Knox account, you need to link it to a Samsung account. If you don't yet have a Samsung account, you'll be prompted to create one when you sign up for SamsungKnox.com. To create your Knox account: 1. Go to SamsungKnox.com. 2. In the top-right corner, click GET STARTED. 3. Under Business email, enter the email address you use for work. 4. Select a Knox solution that you want to access - Knox Suite, Knox Configure, Knox Guard, Samsung Care + for Business, or Other products & services. If you want access to an individual Knox Suite service, such as Knox Mobile Enrollment, select Knox Suite. 5. Click CREATE MY ACCOUNT\"]\n",
      "{'source': 'all_processed_data.json', 'seq_num': 162, 'title': 'Sign in with a Samsung account', 'url': 'https://docs.samsungknox.com/admin/fundamentals/sign-up-for-samsung-knox/sign-in-with-a-samsung-account', 'project': 'USP', 'last_updated': '2023-08-23', 'family_tree': 'child', 'parent_id': '2681ca03-f887-4300-8a34-d1eb7032c5a3', 'id': '5aff916d-d66d-4454-8917-f73a86e3e34d'}\n",
      "\n",
      "Score: 0.008032786885245903\n",
      "['Wi-Fi Enhanced Roaming Algorithm File-based encryption (FBE) and full-disk encryption (FDE) What policy do I use to block users from adding additional accounts on the device? \"Network may be monitored\" shown after installing a private CA certificate on device Does the Samsung email client support \"opaque signed\" emails? Can a network operator configure an E_APN on an employee\\'s device? If two similar Knox policies are applied to a device with an MDM, which one takes precedence? Should the Knox VPN client be installed inside or outside the Knox container? What are the package names for the Samsung Cisco AnyConnect and Juniper VPN clients? What is the minimum level of unlock method required to install a certificate in Android credential storage? What is the proper way to wildcard APK package names? Which servers do EMMs need to communicate with in order to conduct device attestation? What is the order of precedence for firewall rules? What URLs do I have to add to an allowlist to make Samsung apps work with an']\n",
      "{'source': 'all_processed_data.json', 'seq_num': 1656, 'title': 'Knox Platform for Enterprise knowledge base articles', 'url': 'https://docs.samsungknox.com/admin/knox-platform-for-enterprise/kbas', 'project': 'KPE', 'last_updated': '2023-11-06', 'family_tree': 'child', 'parent_id': '1bf16403-0909-46e6-b77e-15d40409fccb', 'id': '11b3fff1-1613-4081-921f-b18815587846'}\n",
      "\n",
      "Score: 0.00796875\n",
      "[\"The Samsung Knox platform. Samsung Knox brings defense-grade security on the most popular consumer devices to all enterprises. The Knox Platform provides best-in-class hardware-based security, policy management, and compliance capabilities beyond the standard features commonplace in today's mobile device market. The Knox Platform is the cornerstone of a strong mobile security strategy supporting a wide variety of Samsung devices. Why use Samsung Knox? The Knox Platform helps you and your enterprise avoid the security gaps common on many mobile platforms. Knox received *strong* ratings in 25 of 28 categories in Gartner's December 2017 Mobile OSs and Device Security: A Comparison of Platforms and has received strong ratings for the last three years in a row. The Knox Platform's security hardening supports every aspect of mobile device operation. The Knox Platform enables trust in your mobile endpoints with advanced features like the evolutionary Knox Vault to the patented Real-Time Kernel Protection\"]\n",
      "{'source': 'all_processed_data.json', 'seq_num': 168, 'title': 'The Samsung Knox platform', 'url': 'https://docs.samsungknox.com/admin/fundamentals/whitepaper/the-samsung-knox-platform', 'project': 'USP', 'last_updated': '2023-07-26', 'family_tree': 'child', 'parent_id': 'beaa4513-7749-44eb-9be0-884bd8a513d8', 'id': 'c3cb7863-4b30-4a1c-b6a6-f1804215807f'}\n",
      "\n",
      "Score: 0.007903225806451612\n",
      "['. What is an Approval ID? Who uploads devices to Knox Guard? What does a Complete device status mean in Knox Guard? What are the options for stopping payment blink reminders on an overdue device? How do I restrict a device to a particular telecom operator? How do I restrict a device to the first inserted SIM of an allowed telecom operator?']\n",
      "{'source': 'all_processed_data.json', 'seq_num': 734, 'title': 'Knox Guard knowledge base articles', 'url': 'https://docs.samsungknox.com/admin/knox-guard/kbas', 'project': 'KG', 'last_updated': '2023-07-26', 'family_tree': 'child', 'parent_id': '97f77950-4e98-4e2a-94b2-6a3745cb3551', 'id': '30669867-dcd2-4a2e-affb-cefb310c3f62'}\n",
      "\n",
      "Score: 0.007846153846153846\n",
      "[\"Knox Manage features. Component Name Description 1 Knox Manage admin portal Configures and manages Knox Manage environments. 2 Knox Manage agent An application installed on Android, iOS, and Windows devices. 3 Knox Manage server Knox Manage cloud server 4 Knox Manage Cloud Connector Transfers data securely between the client's enterprise server and the Knox Manage server. For more information, see Using Cloud Connector. 5 Lightweight Directory Access Protocol Imports the client's directory-based user information. For more information, see Sync user information with AD/LDAP and Integrate a directory server. 6 Certificate Authority Generates certificates for authentication when using a network, such as Wi-Fi, VPN, Exchange, or APN. For more information, see Certificate authority (CA). For a complete listing of all features, see the Knox Manage feature list.\"]\n",
      "{'source': 'all_processed_data.json', 'seq_num': 969, 'title': 'Knox Manage features', 'url': 'https://docs.samsungknox.com/admin/knox-manage/introduction/key-features/knox-manage-features', 'project': 'KM', 'last_updated': '2023-07-26', 'family_tree': 'child', 'parent_id': 'e92ed903-00de-4f5a-b37d-7fd01fd4447c', 'id': 'a11a5a4a-fb97-40e9-9e53-dd3808358359'}\n",
      "None\n",
      "##############################\n",
      "similar_docs\n",
      "##############################\n",
      "\n",
      "Score: 0.6129066348075867\n",
      "[\"The Samsung Knox platform. Samsung Knox brings defense-grade security on the most popular consumer devices to all enterprises. The Knox Platform provides best-in-class hardware-based security, policy management, and compliance capabilities beyond the standard features commonplace in today's mobile device market. The Knox Platform is the cornerstone of a strong mobile security strategy supporting a wide variety of Samsung devices. Why use Samsung Knox? The Knox Platform helps you and your enterprise avoid the security gaps common on many mobile platforms. Knox received *strong* ratings in 25 of 28 categories in Gartner's December 2017 Mobile OSs and Device Security: A Comparison of Platforms and has received strong ratings for the last three years in a row. The Knox Platform's security hardening supports every aspect of mobile device operation. The Knox Platform enables trust in your mobile endpoints with advanced features like the evolutionary Knox Vault to the patented Real-Time Kernel Protection . The Knox Platform ensures IT admins can securely bulk deploy the best mobile device hardware, and quickly integrate with existing business infrastructure and apps. #Key benefits for enterprises , Easily meet your organization's security and compliance requirements by providing solid platform integrity, strong data protection, and fine-grained policy enforcement. Seamlessly activate and manage Knox Platform features through an Enterprise Mobility Management (EMM) system. Flexibly support infrastructure, deployment, and management requirements through centralized remote device control, advanced VPN management, allowing and blocking apps, and granular policies that control all aspects of Samsung devices. Effortlessly upgrade from Android Enterprise, leveraging a comprehensive set of Knox Platform benefits without affecting existing deployments. Securely deploy the innovative Samsung Desktop Experience (DeX) in new work environments, unifying mobile and desktop computing on one device. The Knox Platform's cutting-edge security technology continues to be widely adopted and proven by numerous government, security, and financial agencies throughout the world. Samsung continually works with global government organizations and international regulatory bodies to meet a wide range of certification requirements designed to protect public safety and consumer privacy. Knox Platform highlights The Knox Platform provides a robust set of features to fill security and management gaps, resolve pain points identified by enterprises, and meet the strict requirements of highly regulated industries. Key strengths include the following: For a quick overview of these features, see Feature summary. Security highlights The following sections describe how the Knox Platform provides an industry-leading ecosystem of products and services to secure and ease mobile device management. Hardware-backed security The Knox Platform defends against security threats and protects enterprise data through layers of security built on top of a hardware-backed trusted environment. Trusted of the Knox Platform's security features and how they can resolve common enterprise mobile deployment pain points. The document focuses on the unique abilities of the Knox Platform. For information about other features, see the Samsung Knox website.\"]\n",
      "{'source': 'all_processed_data.json', 'seq_num': 168, 'title': 'The Samsung Knox platform', 'url': 'https://docs.samsungknox.com/admin/fundamentals/whitepaper/the-samsung-knox-platform', 'project': 'USP', 'last_updated': '2023-07-26', 'family_tree': 'parent', 'parent_id': None}\n",
      "\n",
      "Score: 0.029522057622671127\n",
      "[\"Knox Manage features. Component Name Description 1 Knox Manage admin portal Configures and manages Knox Manage environments. 2 Knox Manage agent An application installed on Android, iOS, and Windows devices. 3 Knox Manage server Knox Manage cloud server 4 Knox Manage Cloud Connector Transfers data securely between the client's enterprise server and the Knox Manage server. For more information, see Using Cloud Connector. 5 Lightweight Directory Access Protocol Imports the client's directory-based user information. For more information, see Sync user information with AD/LDAP and Integrate a directory server. 6 Certificate Authority Generates certificates for authentication when using a network, such as Wi-Fi, VPN, Exchange, or APN. For more information, see Certificate authority (CA). For a complete listing of all features, see the Knox Manage feature list.\"]\n",
      "{'source': 'all_processed_data.json', 'seq_num': 969, 'title': 'Knox Manage features', 'url': 'https://docs.samsungknox.com/admin/knox-manage/introduction/key-features/knox-manage-features', 'project': 'KM', 'last_updated': '2023-07-26', 'family_tree': 'parent', 'parent_id': None}\n",
      "\n",
      "Score: 0.027737464755773544\n",
      "[\"Sign in with a Samsung account. Sign up for a Knox account A Samsung Knox account is free and can be created in just a few minutes. With a Samsung Knox account, you can register for Knox services and get access to the Knox Admin Portal, which lets you easily manage your devices, admins, and licenses across each Knox service. To sign up for a Samsung Knox account, you need to link it to a Samsung account. If you don't yet have a Samsung account, you'll be prompted to create one when you sign up for SamsungKnox.com. To create your Knox account: 1. Go to SamsungKnox.com. 2. In the top-right corner, click GET STARTED. 3. Under Business email, enter the email address you use for work. 4. Select a Knox solution that you want to access - Knox Suite, Knox Configure, Knox Guard, Samsung Care + for Business, or Other products & services. If you want access to an individual Knox Suite service, such as Knox Mobile Enrollment, select Knox Suite. 5. Click CREATE MY ACCOUNT. If you already have a Samsung account, the system automatically prompts you to fill out a form with your company's details. If you don't have a Samsung account, the system prompts you to create one. Once you create your Samsung account, open the confirmation email you received and click the link. You're then automatically redirected to SamsungKnox.com to fill out a form with your company's details and submit your application for Knox services. Sign in to Samsung Knox 1. In the top-right corner of SamsungKnox.com, hover over Sign in. Then, under Samsung Account, click Sign in. 2. Enter your Samsung account email, then click Next. 3. Enter your Samsung account password, then click Sign in. You're now signed in and ready to start using Knox services and products.\"]\n",
      "{'source': 'all_processed_data.json', 'seq_num': 162, 'title': 'Sign in with a Samsung account', 'url': 'https://docs.samsungknox.com/admin/fundamentals/sign-up-for-samsung-knox/sign-in-with-a-samsung-account', 'project': 'USP', 'last_updated': '2023-08-23', 'family_tree': 'parent', 'parent_id': None}\n",
      "\n",
      "Score: 0.00762804364785552\n",
      "['Knox knowledge base articles. Service-specific articles , Knox Suite , Knox Platform for Enterprise , Knox Service Plugin , Knox Mobile Enrollment , Knox Mobile Enrollment Direct , Knox Capture , Knox Asset Intelligence , Knox Manage , Knox E-FOTA , Knox Configure , Knox Guard , Samsung Care+ for Business General articles Samsung Knox, User Experience Research Requirements for Samsung Knox device repair How to capture logs to troubleshoot a mobile device Samsung devices with Legacy One UI Core platform How to collect browser logs for troubleshooting How to collect dumpstate logs on Samsung wearable devices About Secured by Knox, Android, Others and Android Go devices Policy update on Knox supported versions What can I do if I\\'m not receiving the verification email when registering for a Samsung Account? Knox cloud services Knox Suite license cannot be recovered from Knox Remote Support How to disassociate a device from a Knox license key How to check the number of seats on a Knox license key How to reinvite or unblock a user in Knox Cloud Services How to change a super admin in Samsung Knox Cloud Services Knox Cloud Services compatibility with Samsung devices Knox Deployment App only able to add device to one Knox Cloud Service Mandatory two-factor authentication for all IT admins using Knox Deployment App Using + gesture during enrollment results in the error \"Tablet/Phone already enrolled\" My Knox Cloud Services (KCS) solutions do not start Unable to sign in to SamsungKnox.com after changes made to Samsung Account Cannot invite administrator to Knox cloud services Knox Cloud Services portals are not supported for mobile use GDPR How do I request an export of my account data? How do I delete my Samsung Knox account?']\n",
      "{'source': 'all_processed_data.json', 'seq_num': 256, 'title': 'Knox knowledge base articles', 'url': 'https://docs.samsungknox.com/admin/fundamentals/kbas', 'project': 'USP', 'last_updated': '2023-07-26', 'family_tree': 'parent', 'parent_id': None}\n",
      "\n",
      "Score: 0.003211595583707094\n",
      "['Knox Platform for Enterprise knowledge base articles. The Knox Platform for Enterprise knowledge base contains general articles, support for known issues, and guides for specific use cases. Explore our knowledge base for: General Knox Platform for Enterprise (KPE) articles, Knox legacy workspace articles, Known KPE issues and their workarounds, How-to articles for less common setups, Guides General articles Can\\'t remove permissions for unused apps in Android 13 Automatic license assignment release exceptions Upgrade managed Android devices to Android Device Policy by March 19, 2022 \"Sending of Diagnostic Data\" message shown in Android 12 Do Separated Apps (SA) have access to corporate VPNs? Guidance documents for Common Criteria evaluation Common Criteria Mode Knox Platform for Enterprise features not supported on One UI Core devices Knox PAC Support (Proxy Auto Config) Android VPN Management for Knox - configuration and troubleshooting Intelligent Wi-Fi Enhanced Roaming Algorithm File-based encryption (FBE) and full-disk encryption (FDE) What policy do I use to block users from adding additional accounts on the device? \"Network may be monitored\" shown after installing a private CA certificate on device Does the Samsung email client support \"opaque signed\" emails? Can a network operator configure an E_APN on an employee\\'s device? If two similar Knox policies are applied to a device with an MDM, which one takes precedence? Should the Knox VPN client be installed inside or outside the Knox container? What are the package names for the Samsung Cisco AnyConnect and Juniper VPN clients? What is the minimum level of unlock method required to install a certificate in Android credential storage? What is the proper way to wildcard APK package names? Which servers do EMMs need to communicate with in order to conduct device attestation? What is the order of precedence for firewall rules? What URLs do I have to add to an allowlist to make Samsung apps work with an authenticated proxy? Can I disable power saving mode on Knox supported devices? If I cannot resolve an SE for Android issue, who do I escalate to? Is there a way to automatically enable email sync while roaming? What does the term \"Maximum number of licenses\" mean for KPE Standard licenses? Knox legacy workspace articles Using SSO with a Common Access Card (CAC) in the Work Profile How many certificates can be stored in the Knox platform TrustZone? Accessing Knox Workspace without connecting to Active Directory network Unlocking the Knox Workspace container using Active Directory credentials What is the certificate length limit in the Knox CCM keystore? Can I create an RSA Key Pair on a Knox Platform for Enterprise device? Known issues Unable to install Samsung Calendar app Samsung Email app security patch for CWE-297 Unable to sign in to or sync Samsung Email app Device randomly reboots without warning Samsung devices reboot after Android System WebView update Wireless emergency alerts missing from Settings app Unable to edit contact information on lock screen Device losing permissions after upgrading to Android 13 Device locked with Workspace License Expired error after updating VMware Workspace ONE® Intelligent Hub Apps experiencing connectivity or sync issues after upgrading to Android 13 S22 device enrollment failure for Android 13 Certificates missing after updating Samsung devices to Android 12 Devices can\\'t reach sites with']\n",
      "{'source': 'all_processed_data.json', 'seq_num': 1656, 'title': 'Knox Platform for Enterprise knowledge base articles', 'url': 'https://docs.samsungknox.com/admin/knox-platform-for-enterprise/kbas', 'project': 'KPE', 'last_updated': '2023-11-06', 'family_tree': 'parent', 'parent_id': None}\n",
      "None\n",
      "\n",
      "==========  Results  ==========\n",
      "\n",
      "1. question: What is knox?\n",
      "2. # documents: 5\n",
      "3. Documents: \n",
      "\n",
      "\n",
      "-----------------------------------------------\n",
      "1. Chunk: 3344 Characters\n",
      "-----------------------------------------------\n",
      "The Samsung Knox platform. Samsung Knox brings defense-grade security on the most popular consumer\n",
      "devices to all enterprises. The Knox Platform provides best-in-class hardware-based security, policy\n",
      "management, and compliance capabilities beyond the standard features commonplace in today's mobile\n",
      "device market. The Knox Platform is the cornerstone of a strong mobile security strategy supporting\n",
      "a wide variety of Samsung devices. Why use Samsung Knox? The Knox Platform helps you and your\n",
      "enterprise avoid the security gaps common on many mobile platforms. Knox received *strong* ratings\n",
      "in 25 of 28 categories in Gartner's December 2017 Mobile OSs and Device Security: A Comparison of\n",
      "Platforms and has received strong ratings for the last three years in a row. The Knox Platform's\n",
      "security hardening supports every aspect of mobile device operation. The Knox Platform enables trust\n",
      "in your mobile endpoints with advanced features like the evolutionary Knox Vault to the patented\n",
      "Real-Time Kernel Protection . The Knox Platform ensures IT admins can securely bulk deploy the best\n",
      "mobile device hardware, and quickly integrate with existing business infrastructure and apps. #Key\n",
      "benefits for enterprises , Easily meet your organization's security and compliance requirements by\n",
      "providing solid platform integrity, strong data protection, and fine-grained policy enforcement.\n",
      "Seamlessly activate and manage Knox Platform features through an Enterprise Mobility Management\n",
      "(EMM) system. Flexibly support infrastructure, deployment, and management requirements through\n",
      "centralized remote device control, advanced VPN management, allowing and blocking apps, and granular\n",
      "policies that control all aspects of Samsung devices. Effortlessly upgrade from Android Enterprise,\n",
      "leveraging a comprehensive set of Knox Platform benefits without affecting existing deployments.\n",
      "Securely deploy the innovative Samsung Desktop Experience (DeX) in new work environments, unifying\n",
      "mobile and desktop computing on one device. The Knox Platform's cutting-edge security technology\n",
      "continues to be widely adopted and proven by numerous government, security, and financial agencies\n",
      "throughout the world. Samsung continually works with global government organizations and\n",
      "international regulatory bodies to meet a wide range of certification requirements designed to\n",
      "protect public safety and consumer privacy. Knox Platform highlights The Knox Platform provides a\n",
      "robust set of features to fill security and management gaps, resolve pain points identified by\n",
      "enterprises, and meet the strict requirements of highly regulated industries. Key strengths include\n",
      "the following: For a quick overview of these features, see Feature summary. Security highlights The\n",
      "following sections describe how the Knox Platform provides an industry-leading ecosystem of products\n",
      "and services to secure and ease mobile device management. Hardware-backed security The Knox Platform\n",
      "defends against security threats and protects enterprise data through layers of security built on\n",
      "top of a hardware-backed trusted environment. Trusted of the Knox Platform's security features and\n",
      "how they can resolve common enterprise mobile deployment pain points. The document focuses on the\n",
      "unique abilities of the Knox Platform. For information about other features, see the Samsung Knox\n",
      "website.\n",
      "metadata:\n",
      " {'source': 'all_processed_data.json', 'seq_num': 168, 'title': 'The Samsung Knox platform', 'url':\n",
      "'https://docs.samsungknox.com/admin/fundamentals/whitepaper/the-samsung-knox-platform', 'project':\n",
      "'USP', 'last_updated': '2023-07-26', 'family_tree': 'parent', 'parent_id': None}\n",
      "\n",
      "-----------------------------------------------\n",
      "2. Chunk: 867 Characters\n",
      "-----------------------------------------------\n",
      "Knox Manage features. Component Name Description 1 Knox Manage admin portal Configures and manages\n",
      "Knox Manage environments. 2 Knox Manage agent An application installed on Android, iOS, and Windows\n",
      "devices. 3 Knox Manage server Knox Manage cloud server 4 Knox Manage Cloud Connector Transfers data\n",
      "securely between the client's enterprise server and the Knox Manage server. For more information,\n",
      "see Using Cloud Connector. 5 Lightweight Directory Access Protocol Imports the client's directory-\n",
      "based user information. For more information, see Sync user information with AD/LDAP and Integrate a\n",
      "directory server. 6 Certificate Authority Generates certificates for authentication when using a\n",
      "network, such as Wi-Fi, VPN, Exchange, or APN. For more information, see Certificate authority (CA).\n",
      "For a complete listing of all features, see the Knox Manage feature list.\n",
      "metadata:\n",
      " {'source': 'all_processed_data.json', 'seq_num': 969, 'title': 'Knox Manage features', 'url':\n",
      "'https://docs.samsungknox.com/admin/knox-manage/introduction/key-features/knox-manage-features',\n",
      "'project': 'KM', 'last_updated': '2023-07-26', 'family_tree': 'parent', 'parent_id': None}\n",
      "\n",
      "-----------------------------------------------\n",
      "3. Chunk: 1745 Characters\n",
      "-----------------------------------------------\n",
      "Sign in with a Samsung account. Sign up for a Knox account A Samsung Knox account is free and can be\n",
      "created in just a few minutes. With a Samsung Knox account, you can register for Knox services and\n",
      "get access to the Knox Admin Portal, which lets you easily manage your devices, admins, and licenses\n",
      "across each Knox service. To sign up for a Samsung Knox account, you need to link it to a Samsung\n",
      "account. If you don't yet have a Samsung account, you'll be prompted to create one when you sign up\n",
      "for SamsungKnox.com. To create your Knox account: 1. Go to SamsungKnox.com. 2. In the top-right\n",
      "corner, click GET STARTED. 3. Under Business email, enter the email address you use for work. 4.\n",
      "Select a Knox solution that you want to access - Knox Suite, Knox Configure, Knox Guard, Samsung\n",
      "Care + for Business, or Other products & services. If you want access to an individual Knox Suite\n",
      "service, such as Knox Mobile Enrollment, select Knox Suite. 5. Click CREATE MY ACCOUNT. If you\n",
      "already have a Samsung account, the system automatically prompts you to fill out a form with your\n",
      "company's details. If you don't have a Samsung account, the system prompts you to create one. Once\n",
      "you create your Samsung account, open the confirmation email you received and click the link. You're\n",
      "then automatically redirected to SamsungKnox.com to fill out a form with your company's details and\n",
      "submit your application for Knox services. Sign in to Samsung Knox 1. In the top-right corner of\n",
      "SamsungKnox.com, hover over Sign in. Then, under Samsung Account, click Sign in. 2. Enter your\n",
      "Samsung account email, then click Next. 3. Enter your Samsung account password, then click Sign in.\n",
      "You're now signed in and ready to start using Knox services and products.\n",
      "metadata:\n",
      " {'source': 'all_processed_data.json', 'seq_num': 162, 'title': 'Sign in with a Samsung account',\n",
      "'url': 'https://docs.samsungknox.com/admin/fundamentals/sign-up-for-samsung-knox/sign-in-with-a-\n",
      "samsung-account', 'project': 'USP', 'last_updated': '2023-08-23', 'family_tree': 'parent',\n",
      "'parent_id': None}\n",
      "\n",
      "-----------------------------------------------\n",
      "4. Chunk: 1746 Characters\n",
      "-----------------------------------------------\n",
      "Knox knowledge base articles. Service-specific articles , Knox Suite , Knox Platform for Enterprise\n",
      ", Knox Service Plugin , Knox Mobile Enrollment , Knox Mobile Enrollment Direct , Knox Capture , Knox\n",
      "Asset Intelligence , Knox Manage , Knox E-FOTA , Knox Configure , Knox Guard , Samsung Care+ for\n",
      "Business General articles Samsung Knox, User Experience Research Requirements for Samsung Knox\n",
      "device repair How to capture logs to troubleshoot a mobile device Samsung devices with Legacy One UI\n",
      "Core platform How to collect browser logs for troubleshooting How to collect dumpstate logs on\n",
      "Samsung wearable devices About Secured by Knox, Android, Others and Android Go devices Policy update\n",
      "on Knox supported versions What can I do if I'm not receiving the verification email when\n",
      "registering for a Samsung Account? Knox cloud services Knox Suite license cannot be recovered from\n",
      "Knox Remote Support How to disassociate a device from a Knox license key How to check the number of\n",
      "seats on a Knox license key How to reinvite or unblock a user in Knox Cloud Services How to change a\n",
      "super admin in Samsung Knox Cloud Services Knox Cloud Services compatibility with Samsung devices\n",
      "Knox Deployment App only able to add device to one Knox Cloud Service Mandatory two-factor\n",
      "authentication for all IT admins using Knox Deployment App Using + gesture during enrollment results\n",
      "in the error \"Tablet/Phone already enrolled\" My Knox Cloud Services (KCS) solutions do not start\n",
      "Unable to sign in to SamsungKnox.com after changes made to Samsung Account Cannot invite\n",
      "administrator to Knox cloud services Knox Cloud Services portals are not supported for mobile use\n",
      "GDPR How do I request an export of my account data? How do I delete my Samsung Knox account?\n",
      "metadata:\n",
      " {'source': 'all_processed_data.json', 'seq_num': 256, 'title': 'Knox knowledge base articles',\n",
      "'url': 'https://docs.samsungknox.com/admin/fundamentals/kbas', 'project': 'USP', 'last_updated':\n",
      "'2023-07-26', 'family_tree': 'parent', 'parent_id': None}\n",
      "\n",
      "-----------------------------------------------\n",
      "5. Chunk: 3442 Characters\n",
      "-----------------------------------------------\n",
      "Knox Platform for Enterprise knowledge base articles. The Knox Platform for Enterprise knowledge\n",
      "base contains general articles, support for known issues, and guides for specific use cases. Explore\n",
      "our knowledge base for: General Knox Platform for Enterprise (KPE) articles, Knox legacy workspace\n",
      "articles, Known KPE issues and their workarounds, How-to articles for less common setups, Guides\n",
      "General articles Can't remove permissions for unused apps in Android 13 Automatic license assignment\n",
      "release exceptions Upgrade managed Android devices to Android Device Policy by March 19, 2022\n",
      "\"Sending of Diagnostic Data\" message shown in Android 12 Do Separated Apps (SA) have access to\n",
      "corporate VPNs? Guidance documents for Common Criteria evaluation Common Criteria Mode Knox Platform\n",
      "for Enterprise features not supported on One UI Core devices Knox PAC Support (Proxy Auto Config)\n",
      "Android VPN Management for Knox - configuration and troubleshooting Intelligent Wi-Fi Enhanced\n",
      "Roaming Algorithm File-based encryption (FBE) and full-disk encryption (FDE) What policy do I use to\n",
      "block users from adding additional accounts on the device? \"Network may be monitored\" shown after\n",
      "installing a private CA certificate on device Does the Samsung email client support \"opaque signed\"\n",
      "emails? Can a network operator configure an E_APN on an employee's device? If two similar Knox\n",
      "policies are applied to a device with an MDM, which one takes precedence? Should the Knox VPN client\n",
      "be installed inside or outside the Knox container? What are the package names for the Samsung Cisco\n",
      "AnyConnect and Juniper VPN clients? What is the minimum level of unlock method required to install a\n",
      "certificate in Android credential storage? What is the proper way to wildcard APK package names?\n",
      "Which servers do EMMs need to communicate with in order to conduct device attestation? What is the\n",
      "order of precedence for firewall rules? What URLs do I have to add to an allowlist to make Samsung\n",
      "apps work with an authenticated proxy? Can I disable power saving mode on Knox supported devices? If\n",
      "I cannot resolve an SE for Android issue, who do I escalate to? Is there a way to automatically\n",
      "enable email sync while roaming? What does the term \"Maximum number of licenses\" mean for KPE\n",
      "Standard licenses? Knox legacy workspace articles Using SSO with a Common Access Card (CAC) in the\n",
      "Work Profile How many certificates can be stored in the Knox platform TrustZone? Accessing Knox\n",
      "Workspace without connecting to Active Directory network Unlocking the Knox Workspace container\n",
      "using Active Directory credentials What is the certificate length limit in the Knox CCM keystore?\n",
      "Can I create an RSA Key Pair on a Knox Platform for Enterprise device? Known issues Unable to\n",
      "install Samsung Calendar app Samsung Email app security patch for CWE-297 Unable to sign in to or\n",
      "sync Samsung Email app Device randomly reboots without warning Samsung devices reboot after Android\n",
      "System WebView update Wireless emergency alerts missing from Settings app Unable to edit contact\n",
      "information on lock screen Device losing permissions after upgrading to Android 13 Device locked\n",
      "with Workspace License Expired error after updating VMware Workspace ONE® Intelligent Hub Apps\n",
      "experiencing connectivity or sync issues after upgrading to Android 13 S22 device enrollment failure\n",
      "for Android 13 Certificates missing after updating Samsung devices to Android 12 Devices can't reach\n",
      "sites with\n",
      "metadata:\n",
      " {'source': 'all_processed_data.json', 'seq_num': 1656, 'title': 'Knox Platform for Enterprise\n",
      "knowledge base articles', 'url': 'https://docs.samsungknox.com/admin/knox-platform-for-\n",
      "enterprise/kbas', 'project': 'KPE', 'last_updated': '2023-11-06', 'family_tree': 'parent',\n",
      "'parent_id': None}\n",
      "CPU times: user 340 ms, sys: 40.6 ms, total: 381 ms\n",
      "Wall time: 703 ms\n"
     ]
    }
   ],
   "source": [
    "%%time\n",
    "search_hybrid_result = opensearch_hybrid_retriever.get_relevant_documents(query)\n",
    "\n",
    "print(\"\\n==========  Results  ==========\\n\")\n",
    "print(f'1. question: {query}')\n",
    "print (f'2. # documents: {len(search_hybrid_result)}')\n",
    "print(\"3. Documents: \\n\")\n",
    "\n",
    "show_context_used(search_hybrid_result)"
   ]
  },
  {
   "cell_type": "markdown",
   "id": "c09221b5-4a6c-463b-9769-35cc8362e33c",
   "metadata": {},
   "source": [
    "- update parameters\n",
    "    - **parent_document=False**"
   ]
  },
  {
   "cell_type": "code",
   "execution_count": 30,
   "id": "b7bb4672-d2b8-4b29-b71c-b06d84bcd470",
   "metadata": {
    "tags": []
   },
   "outputs": [],
   "source": [
    "opensearch_hybrid_retriever.update_search_params(\n",
    "    k=5,\n",
    "    minimum_should_match=0,\n",
    "    #filter=[],\n",
    "    filter=[\n",
    "        #{'term': {'metadata.project': 'KS'}},\n",
    "        #{'term': {'metadata.family_tree': 'child'}},\n",
    "    ],\n",
    "    reranker=True,\n",
    "    reranker_endpoint_name=endpoint_name,\n",
    "    parent_document=False, # enable parent document\n",
    "    verbose=True,\n",
    ")"
   ]
  },
  {
   "cell_type": "code",
   "execution_count": 31,
   "id": "1b9b45b1-cb92-4954-8087-143a550350c8",
   "metadata": {
    "collapsed": true,
    "jupyter": {
     "outputs_hidden": true
    },
    "tags": []
   },
   "outputs": [
    {
     "name": "stdout",
     "output_type": "stream",
     "text": [
      "\n",
      "[Exeeds ReRanker token limit] Number of chunk_docs after split and chunking= 7\n",
      "\n",
      "\n",
      "[Exeeds ReRanker token limit] Number of chunk_docs after split and chunking= 4\n",
      "\n",
      "\n",
      "[Exeeds ReRanker token limit] Number of chunk_docs after split and chunking= 6\n",
      "\n",
      "##############################\n",
      "async_mode\n",
      "##############################\n",
      "True\n",
      "##############################\n",
      "reranker\n",
      "##############################\n",
      "True\n",
      "##############################\n",
      "rag_fusion\n",
      "##############################\n",
      "False\n",
      "##############################\n",
      "HyDE\n",
      "##############################\n",
      "False\n",
      "##############################\n",
      "parent_document\n",
      "##############################\n",
      "False\n",
      "##############################\n",
      "complex_document\n",
      "##############################\n",
      "False\n",
      "##############################\n",
      "similar_docs_semantic\n",
      "##############################\n",
      "\n",
      "Score: 1.0\n",
      "['Knox knowledge base articles']\n",
      "{'source': 'all_processed_data.json', 'seq_num': 256, 'title': 'Knox knowledge base articles', 'url': 'https://docs.samsungknox.com/admin/fundamentals/kbas', 'project': 'USP', 'last_updated': '2023-07-26', 'family_tree': 'child', 'parent_id': '8ad593e2-b79d-4f9b-8356-05ddea67cb31', 'id': '7d86ff26-86eb-44d2-ac25-086bd2a8d5d4'}\n",
      "\n",
      "Score: 0.9505660247923112\n",
      "['Knox Suite. Knox Suite is a bundled offering of Knox solutions for enterprise mobility designed to address organizations\\' needs related to security and management throughout the entire device lifecycle. Learn more about Knox Suite #Audience This document is intended for IT Admins. Understand what\\'s included in Knox Suite and how you can use it to manage, secure, and maintain enterprise devices. Learn where to find information on how to perform various tasks with Knox\"Suite services. About Knox Suite Knox Suite is a bundled offering that includes the following Knox products: Knox Platform for Enterprise - A Knox solution that provides military-grade security to Samsung Android phones, tablets, and Tizen watches for business. Knox Mobile Enrollment - A Knox solution that allows you to enroll thousands of Samsung devices in your EMM at once. When used with a Knox Suite license, Knox Mobile Enrollment provides advanced profiles that offer IT admins additional features such as higher control over locking devices. Knox Manage - A Knox solution that allows you to remotely manage your fleet of mobile devices. With this EMM, you create various policies to control how users can use their devices. Knox Asset Intelligence - A data analytics solution that offers operational visibility and actionable insights to improve the management, productivity, and lifecycle of mobile devices. This solution offers real-time monitoring and management of app performance, battery usage, network connectivity, and asset location. Knox E-FOTA - A Knox solution that allows you to remotely deploy OS and security updates to your devices without requiring user interaction. With Knox E-FOTA, you create a campaign, specify the campaign period, assign devices to that campaign, and select the firmware update to be pushed to those devices during the campaign period. Knox Capture - An Android solution that lets users transform their Samsung Galaxy smartphones and tablets into powerful barcode scanners that can read, process, and output barcode information to other applications, all without requiring additional hardware or writing a single line of code. Knox Authentication Manager - A managed Android app for shared Samsung devices that provides multiuser facial biometrics and sign-in automation for increased frontline worker productivity and safety. With Knox Suite, a single license key allows you to use all included Knox products on your devices. This means that you can use the same Knox Suite license key in multiple Knox service admin portals. Benefits of Knox Suite 1. All-in-one Knox B2B package - An end-to-end solution that covers every step of your enterprise mobility journey 2. Simplified license management - You only need one license key to use all included products. 3. Streamlined onboarding process - Register once and gain access to all included Knox products. 4. Seamless IT admin user experience - IT admin can easily access bundled Knox consoles through single sign-on. To get started, click here.']\n",
      "{'source': 'all_processed_data.json', 'seq_num': 124, 'title': 'Knox Suite', 'url': 'https://docs.samsungknox.com/admin/knox-suite', 'project': 'KS', 'last_updated': '2023-07-26', 'family_tree': 'parent', 'parent_id': None, 'id': '448d796e-6dad-46e7-891c-b24646d0f388'}\n",
      "\n",
      "Score: 0.9358124729884545\n",
      "[\"Sign in with a Samsung account. Sign up for a Knox account A Samsung Knox account is free and can be created in just a few minutes. With a Samsung Knox account, you can register for Knox services and get access to the Knox Admin Portal, which lets you easily manage your devices, admins, and licenses across each Knox service. To sign up for a Samsung Knox account, you need to link it to a Samsung account. If you don't yet have a Samsung account, you'll be prompted to create one when you sign up for SamsungKnox.com. To create your Knox account: 1. Go to SamsungKnox.com. 2. In the top-right corner, click GET STARTED. 3. Under Business email, enter the email address you use for work. 4. Select a Knox solution that you want to access - Knox Suite, Knox Configure, Knox Guard, Samsung Care + for Business, or Other products & services. If you want access to an individual Knox Suite service, such as Knox Mobile Enrollment, select Knox Suite. 5. Click CREATE MY ACCOUNT. If you already have a Samsung account, the system automatically prompts you to fill out a form with your company's details. If you don't have a Samsung account, the system prompts you to create one. Once you create your Samsung account, open the confirmation email you received and click the link. You're then automatically redirected to SamsungKnox.com to fill out a form with your company's details and submit your application for Knox services. Sign in to Samsung Knox 1. In the top-right corner of SamsungKnox.com, hover over Sign in. Then, under Samsung Account, click Sign in. 2. Enter your Samsung account email, then click Next. 3. Enter your Samsung account password, then click Sign in. You're now signed in and ready to start using Knox services and products.\"]\n",
      "{'source': 'all_processed_data.json', 'seq_num': 162, 'title': 'Sign in with a Samsung account', 'url': 'https://docs.samsungknox.com/admin/fundamentals/sign-up-for-samsung-knox/sign-in-with-a-samsung-account', 'project': 'USP', 'last_updated': '2023-08-23', 'family_tree': 'parent', 'parent_id': None, 'id': '2681ca03-f887-4300-8a34-d1eb7032c5a3'}\n",
      "\n",
      "Score: 0.9345546096274292\n",
      "['Learn more about Knox Suite. This section describes where you can find instructions on how to perform tasks using the different products included in Knox Suite. General documentation for the Knox Suite services Knox Service , See - , - Knox Manage , Knox Manage Admin Guide Knox Platform for Enterprise , Knox Platform for Enterprise Admin Guide Knox Mobile Enrollment , Knox Mobile Enrollment Admin Guide Knox E-FOTA , Knox E-FOTA Admin Guide Knox Asset Intelligence , Knox Asset Intelligence Admin Guide Knox Capture , Knox Capture Admin Guide Knox Authentication Manager , Knox Authentication Manager Admin Guide Knox Suite operations For information on See Knox service How to set up Knox Manage with Knox Suite Workflow:\"Set up Knox Manage with a Knox Suite license Knox Manage How to check your Knox Suite license usage View and modify a license Note Alternatively, you can sign in to your SamsungKnox.com dashboard and click Licenses to view all licenses you have for all your Knox services. Knox Manage How to upgrade your license key from Knox Manage to Knox Suite Upgrade a license Knox\"Manage How to configure premium Knox features Prerequisite: Workflow:\"Set up Knox Manage with a Knox Suite license Samsung Knox running Android Enterprise Note Policies with a in the Knox Manage admin portal are Knox premium features. These features require a Knox\"Suite license key. Knox Manage How to approve the Knox Service Plugin (KSP) app Prerequisite:Set up Android Enterprise. Approve Knox Service Plugin (KSP). Knox Manage What\\'s next? When you finish evaluating Knox Suite and decide to use it commercially, contact your Knox reseller to purchase a Knox\"Suite license. If you\\'re in need of devices, consider purchasing Enterprise Edition devices if this program is supported in your country. These devices are packaged with a 1-year renewable Knox\"Suite license, among other benefits. Once you\\'ve purchased your Enterprise\"Edition devices, see the Enterprise Edition section for information on how to generate your Knox Suite license.']\n",
      "{'source': 'all_processed_data.json', 'seq_num': 123, 'title': 'Learn more about Knox Suite', 'url': 'https://docs.samsungknox.com/admin/knox-suite/learn-more-about-knox-suite', 'project': 'KS', 'last_updated': '2023-07-26', 'family_tree': 'parent', 'parent_id': None, 'id': 'ebd949b0-e074-43cb-86e5-f0ad0cf02ad1'}\n",
      "\n",
      "Score: 0.9331517242798636\n",
      "['. Knox service Pricing Supported license keys Trial license and where to get it Server type Knox Mobile Enrollment Free No license key required No license key required Cloud Knox Mobile Enrollment(Advanced profile) Paid Knox Suite Knox Suite trial key (Knox Admin Portal) Cloud Knox Manage Paid Knox Suite Knox Manage key Knox Suite trial key (Knox Admin Portal) Cloud Knox E-FOTA Paid Knox Suite Knox E-FOTA key Knox Suite trial key (Knox Admin Portal) Cloud Knox Asset Intelligence Paid Knox Suite Knox Asset Intelligence key Knox Suite trial key (Knox Admin Portal) Cloud Knox Remote Support Paid Knox Suite Knox Manage key Knox Suite trial key (Knox Admin Portal) Cloud Knox Configure Paid Knox Configure key Knox Configure trial key (Knox Admin Portal) Cloud Knox Guard Paid Knox Guard key Knox Guard trial key (Knox Guard console) Cloud Samsung Care+ for Business Paid Samsung Care+ for Business key No trial available Cloud Knox Mobile Enrollment Direct Free No license key required No license key required']\n",
      "{'source': 'all_processed_data.json', 'seq_num': 150, 'title': 'Knox licenses', 'url': 'https://docs.samsungknox.com/admin/fundamentals/knox-licenses', 'project': 'USP', 'last_updated': '2023-07-26', 'family_tree': 'child', 'parent_id': '252242b8-948d-488f-8a9d-7ae3898a36a9', 'id': '763b65f1-111c-49d1-9bd7-f97a910ccd3b'}\n",
      "\n",
      "Score: 0.9318079041784717\n",
      "[\"Sign in with a Samsung account. Sign up for a Knox account A Samsung Knox account is free and can be created in just a few minutes. With a Samsung Knox account, you can register for Knox services and get access to the Knox Admin Portal, which lets you easily manage your devices, admins, and licenses across each Knox service. To sign up for a Samsung Knox account, you need to link it to a Samsung account. If you don't yet have a Samsung account, you'll be prompted to create one when you sign up for SamsungKnox.com. To create your Knox account: 1. Go to SamsungKnox.com. 2. In the top-right corner, click GET STARTED. 3. Under Business email, enter the email address you use for work. 4. Select a Knox solution that you want to access - Knox Suite, Knox Configure, Knox Guard, Samsung Care + for Business, or Other products & services. If you want access to an individual Knox Suite service, such as Knox Mobile Enrollment, select Knox Suite. 5. Click CREATE MY ACCOUNT\"]\n",
      "{'source': 'all_processed_data.json', 'seq_num': 162, 'title': 'Sign in with a Samsung account', 'url': 'https://docs.samsungknox.com/admin/fundamentals/sign-up-for-samsung-knox/sign-in-with-a-samsung-account', 'project': 'USP', 'last_updated': '2023-08-23', 'family_tree': 'child', 'parent_id': '2681ca03-f887-4300-8a34-d1eb7032c5a3', 'id': '5aff916d-d66d-4454-8917-f73a86e3e34d'}\n",
      "\n",
      "Score: 0.9290619396176194\n",
      "[\"The Samsung Knox platform. Samsung Knox brings defense-grade security on the most popular consumer devices to all enterprises. The Knox Platform provides best-in-class hardware-based security, policy management, and compliance capabilities beyond the standard features commonplace in today's mobile device market. The Knox Platform is the cornerstone of a strong mobile security strategy supporting a wide variety of Samsung devices. Why use Samsung Knox? The Knox Platform helps you and your enterprise avoid the security gaps common on many mobile platforms. Knox received *strong* ratings in 25 of 28 categories in Gartner's December 2017 Mobile OSs and Device Security: A Comparison of Platforms and has received strong ratings for the last three years in a row. The Knox Platform's security hardening supports every aspect of mobile device operation. The Knox Platform enables trust in your mobile endpoints with advanced features like the evolutionary Knox Vault to the patented Real-Time Kernel Protection\"]\n",
      "{'source': 'all_processed_data.json', 'seq_num': 168, 'title': 'The Samsung Knox platform', 'url': 'https://docs.samsungknox.com/admin/fundamentals/whitepaper/the-samsung-knox-platform', 'project': 'USP', 'last_updated': '2023-07-26', 'family_tree': 'child', 'parent_id': 'beaa4513-7749-44eb-9be0-884bd8a513d8', 'id': 'c3cb7863-4b30-4a1c-b6a6-f1804215807f'}\n",
      "None\n",
      "##############################\n",
      "similar_docs_keyword\n",
      "##############################\n",
      "\n",
      "Score: 1.0\n",
      "['Wi-Fi Enhanced Roaming Algorithm File-based encryption (FBE) and full-disk encryption (FDE) What policy do I use to block users from adding additional accounts on the device? \"Network may be monitored\" shown after installing a private CA certificate on device Does the Samsung email client support \"opaque signed\" emails? Can a network operator configure an E_APN on an employee\\'s device? If two similar Knox policies are applied to a device with an MDM, which one takes precedence? Should the Knox VPN client be installed inside or outside the Knox container? What are the package names for the Samsung Cisco AnyConnect and Juniper VPN clients? What is the minimum level of unlock method required to install a certificate in Android credential storage? What is the proper way to wildcard APK package names? Which servers do EMMs need to communicate with in order to conduct device attestation? What is the order of precedence for firewall rules? What URLs do I have to add to an allowlist to make Samsung apps work with an']\n",
      "{'source': 'all_processed_data.json', 'seq_num': 1656, 'title': 'Knox Platform for Enterprise knowledge base articles', 'url': 'https://docs.samsungknox.com/admin/knox-platform-for-enterprise/kbas', 'project': 'KPE', 'last_updated': '2023-11-06', 'family_tree': 'child', 'parent_id': '1bf16403-0909-46e6-b77e-15d40409fccb', 'id': '11b3fff1-1613-4081-921f-b18815587846'}\n",
      "\n",
      "Score: 0.9936811390240635\n",
      "['. What is an Approval ID? Who uploads devices to Knox Guard? What does a Complete device status mean in Knox Guard? What are the options for stopping payment blink reminders on an overdue device? How do I restrict a device to a particular telecom operator? How do I restrict a device to the first inserted SIM of an allowed telecom operator?']\n",
      "{'source': 'all_processed_data.json', 'seq_num': 734, 'title': 'Knox Guard knowledge base articles', 'url': 'https://docs.samsungknox.com/admin/knox-guard/kbas', 'project': 'KG', 'last_updated': '2023-07-26', 'family_tree': 'child', 'parent_id': '97f77950-4e98-4e2a-94b2-6a3745cb3551', 'id': '30669867-dcd2-4a2e-affb-cefb310c3f62'}\n",
      "\n",
      "Score: 0.9707182579728589\n",
      "[\"Overview. Get started with the basics by learning what Knox Capture is and how it works. What is Knox Capture? To help explain what Knox Capture does, it may be helpful to start with an understanding of what a *wedge* scanner is, and how it relates to the Knox Capture solution. In traditional hardware-based barcode scanning terminology, a wedge scanner is a physical device that attaches between a keyboard and a computer. The keyboard attaches to the scanner, and the scanner attaches to the computer. From the computer's perspective, the scanner behaves just like an additional keyboard. When the computer runs a software program (like an inventory spreadsheet app), and barcodes are read using the wedge scanner, data is sent from the scanner to the program in the form of keystrokes. From the program's point of view, data appears exactly as if someone had typed it manually using a keyboard. How Knox Capture works In a similar way, Knox Capture also acts as a wedge between a software program and keyboard\"]\n",
      "{'source': 'all_processed_data.json', 'seq_num': 558, 'title': 'Overview', 'url': 'https://docs.samsungknox.com/admin/knox-capture/overview', 'project': 'KCAP', 'last_updated': '2023-07-26', 'family_tree': 'child', 'parent_id': 'ad50477f-fbf7-4da3-bcf4-f6ca817dac05', 'id': '41bccb5c-074f-4c20-b582-5a237e553bd8'}\n",
      "\n",
      "Score: 0.9652674421895951\n",
      "['way to wildcard APK package names? Which servers do EMMs need to communicate with in order to conduct device attestation? What is the order of precedence for firewall rules? What URLs do I have to add to an allowlist to make Samsung apps work with an authenticated proxy? Can I disable power saving mode on Knox supported devices? If I cannot resolve an SE for Android issue, who do I escalate to? Is there a way to automatically enable email sync while roaming? What does the term \"Maximum number of licenses\" mean for KPE Standard licenses? Knox legacy workspace articles Using SSO with a Common Access Card (CAC) in the Work Profile How many certificates can be stored in the Knox platform TrustZone? Accessing Knox Workspace without connecting to Active Directory network Unlocking the Knox Workspace container using Active Directory credentials What is the certificate length limit in the Knox CCM keystore? Can I create an RSA Key Pair on a Knox Platform for Enterprise device? Known issues Unable to install Samsung']\n",
      "{'source': 'all_processed_data.json', 'seq_num': 1656, 'title': 'Knox Platform for Enterprise knowledge base articles', 'url': 'https://docs.samsungknox.com/admin/knox-platform-for-enterprise/kbas', 'project': 'KPE', 'last_updated': '2023-11-06', 'family_tree': 'child', 'parent_id': '1bf16403-0909-46e6-b77e-15d40409fccb', 'id': 'bc4447c0-d99e-494d-9f50-089cf54229e3'}\n",
      "\n",
      "Score: 0.9456692995376281\n",
      "['What version of Knox Platform for Enterprise is running on my device?. The most frequently asked questions about Knox Platform for Enterprise. To find out what version of Knox Platform for Enterprise your device is running, go to: Settings > About Device > Software Information > Knox Version. This is a screenshot of the device menu containing the Knox version. Here, we see that Knox 3.1 is listed under Knox version. #Looking for more information? , See Knox on Android for a list of features available in each release of Knox.']\n",
      "{'source': 'all_processed_data.json', 'seq_num': 1499, 'title': 'What version of Knox Platform for Enterprise is running on my device?', 'url': 'https://docs.samsungknox.com/admin/knox-platform-for-enterprise/faq/#what-version-of-knox-platform-for-enterprise-is-running-on-my-device', 'project': 'KPE', 'last_updated': '2023-07-26', 'family_tree': 'parent', 'parent_id': None, 'id': '487fc94c-4524-4748-9bd1-edbf1d46f092'}\n",
      "\n",
      "Score: 0.9456692995376281\n",
      "['What version of Knox Platform for Enterprise is running on my device?. The most frequently asked questions about Knox Platform for Enterprise. To find out what version of Knox Platform for Enterprise your device is running, go to: Settings > About Device > Software Information > Knox Version. This is a screenshot of the device menu containing the Knox version. Here, we see that Knox 3.1 is listed under Knox version. #Looking for more information? , See Knox on Android for a list of features available in each release of Knox.']\n",
      "{'source': 'all_processed_data.json', 'seq_num': 1499, 'title': 'What version of Knox Platform for Enterprise is running on my device?', 'url': 'https://docs.samsungknox.com/admin/knox-platform-for-enterprise/faq/#what-version-of-knox-platform-for-enterprise-is-running-on-my-device', 'project': 'KPE', 'last_updated': '2023-07-26', 'family_tree': 'child', 'parent_id': '487fc94c-4524-4748-9bd1-edbf1d46f092', 'id': 'b87cf547-f2a1-4e5c-bd19-6a006aa5db01'}\n",
      "\n",
      "Score: 0.9402321083739492\n",
      "['Can I take screenshots in the Knox Workspace?. The most frequently asked questions about Knox Platform for Enterprise. This FAQ references the Knox Workspace, which is a feature of Knox Platform for Enterprise. This feature also depends on what version of the Knox framework is installed on your device. #Knox 3.0 and above Yes, by default, you can take screenshots in the Workspace. However, an IT policy with a supported EMM can disable this. #Knox 2.9 and below This feature is disabled by default and you cannot take screenshots. To enable screenshots, use an IT policy from a supported EMM. #Example Here is what happens on a device when the disable screenshot policy is applied.']\n",
      "{'source': 'all_processed_data.json', 'seq_num': 1532, 'title': 'Can I take screenshots in the Knox Workspace?', 'url': 'https://docs.samsungknox.com/admin/knox-platform-for-enterprise/faq/#can-i-take-screenshots-in-the-knox-workspace', 'project': 'KPE', 'last_updated': '2023-07-26', 'family_tree': 'child', 'parent_id': 'c59b3873-bd6c-4b7b-afbd-0d11e2634457', 'id': 'badc062f-8bfc-4689-8239-691deb4817d7'}\n",
      "None\n",
      "##############################\n",
      "similar_docs_without_reranker\n",
      "##############################\n",
      "\n",
      "Score: 0.014962703962703962\n",
      "['What version of Knox Platform for Enterprise is running on my device?. The most frequently asked questions about Knox Platform for Enterprise. To find out what version of Knox Platform for Enterprise your device is running, go to: Settings > About Device > Software Information > Knox Version. This is a screenshot of the device menu containing the Knox version. Here, we see that Knox 3.1 is listed under Knox version. #Looking for more information? , See Knox on Android for a list of features available in each release of Knox.']\n",
      "{'source': 'all_processed_data.json', 'seq_num': 1499, 'title': 'What version of Knox Platform for Enterprise is running on my device?', 'url': 'https://docs.samsungknox.com/admin/knox-platform-for-enterprise/faq/#what-version-of-knox-platform-for-enterprise-is-running-on-my-device', 'project': 'KPE', 'last_updated': '2023-07-26', 'family_tree': 'child', 'parent_id': '487fc94c-4524-4748-9bd1-edbf1d46f092', 'id': 'b87cf547-f2a1-4e5c-bd19-6a006aa5db01'}\n",
      "\n",
      "Score: 0.008360655737704918\n",
      "['Knox knowledge base articles']\n",
      "{'source': 'all_processed_data.json', 'seq_num': 256, 'title': 'Knox knowledge base articles', 'url': 'https://docs.samsungknox.com/admin/fundamentals/kbas', 'project': 'USP', 'last_updated': '2023-07-26', 'family_tree': 'child', 'parent_id': '8ad593e2-b79d-4f9b-8356-05ddea67cb31', 'id': '7d86ff26-86eb-44d2-ac25-086bd2a8d5d4'}\n",
      "\n",
      "Score: 0.008225806451612904\n",
      "['Knox Suite. Knox Suite is a bundled offering of Knox solutions for enterprise mobility designed to address organizations\\' needs related to security and management throughout the entire device lifecycle. Learn more about Knox Suite #Audience This document is intended for IT Admins. Understand what\\'s included in Knox Suite and how you can use it to manage, secure, and maintain enterprise devices. Learn where to find information on how to perform various tasks with Knox\"Suite services. About Knox Suite Knox Suite is a bundled offering that includes the following Knox products: Knox Platform for Enterprise - A Knox solution that provides military-grade security to Samsung Android phones, tablets, and Tizen watches for business. Knox Mobile Enrollment - A Knox solution that allows you to enroll thousands of Samsung devices in your EMM at once. When used with a Knox Suite license, Knox Mobile Enrollment provides advanced profiles that offer IT admins additional features such as higher control over locking devices. Knox Manage - A Knox solution that allows you to remotely manage your fleet of mobile devices. With this EMM, you create various policies to control how users can use their devices. Knox Asset Intelligence - A data analytics solution that offers operational visibility and actionable insights to improve the management, productivity, and lifecycle of mobile devices. This solution offers real-time monitoring and management of app performance, battery usage, network connectivity, and asset location. Knox E-FOTA - A Knox solution that allows you to remotely deploy OS and security updates to your devices without requiring user interaction. With Knox E-FOTA, you create a campaign, specify the campaign period, assign devices to that campaign, and select the firmware update to be pushed to those devices during the campaign period. Knox Capture - An Android solution that lets users transform their Samsung Galaxy smartphones and tablets into powerful barcode scanners that can read, process, and output barcode information to other applications, all without requiring additional hardware or writing a single line of code. Knox Authentication Manager - A managed Android app for shared Samsung devices that provides multiuser facial biometrics and sign-in automation for increased frontline worker productivity and safety. With Knox Suite, a single license key allows you to use all included Knox products on your devices. This means that you can use the same Knox Suite license key in multiple Knox service admin portals. Benefits of Knox Suite 1. All-in-one Knox B2B package - An end-to-end solution that covers every step of your enterprise mobility journey 2. Simplified license management - You only need one license key to use all included products. 3. Streamlined onboarding process - Register once and gain access to all included Knox products. 4. Seamless IT admin user experience - IT admin can easily access bundled Knox consoles through single sign-on. To get started, click here.']\n",
      "{'source': 'all_processed_data.json', 'seq_num': 124, 'title': 'Knox Suite', 'url': 'https://docs.samsungknox.com/admin/knox-suite', 'project': 'KS', 'last_updated': '2023-07-26', 'family_tree': 'parent', 'parent_id': None, 'id': '448d796e-6dad-46e7-891c-b24646d0f388'}\n",
      "\n",
      "Score: 0.008095238095238095\n",
      "[\"Sign in with a Samsung account. Sign up for a Knox account A Samsung Knox account is free and can be created in just a few minutes. With a Samsung Knox account, you can register for Knox services and get access to the Knox Admin Portal, which lets you easily manage your devices, admins, and licenses across each Knox service. To sign up for a Samsung Knox account, you need to link it to a Samsung account. If you don't yet have a Samsung account, you'll be prompted to create one when you sign up for SamsungKnox.com. To create your Knox account: 1. Go to SamsungKnox.com. 2. In the top-right corner, click GET STARTED. 3. Under Business email, enter the email address you use for work. 4. Select a Knox solution that you want to access - Knox Suite, Knox Configure, Knox Guard, Samsung Care + for Business, or Other products & services. If you want access to an individual Knox Suite service, such as Knox Mobile Enrollment, select Knox Suite. 5. Click CREATE MY ACCOUNT. If you already have a Samsung account, the system automatically prompts you to fill out a form with your company's details. If you don't have a Samsung account, the system prompts you to create one. Once you create your Samsung account, open the confirmation email you received and click the link. You're then automatically redirected to SamsungKnox.com to fill out a form with your company's details and submit your application for Knox services. Sign in to Samsung Knox 1. In the top-right corner of SamsungKnox.com, hover over Sign in. Then, under Samsung Account, click Sign in. 2. Enter your Samsung account email, then click Next. 3. Enter your Samsung account password, then click Sign in. You're now signed in and ready to start using Knox services and products.\"]\n",
      "{'source': 'all_processed_data.json', 'seq_num': 162, 'title': 'Sign in with a Samsung account', 'url': 'https://docs.samsungknox.com/admin/fundamentals/sign-up-for-samsung-knox/sign-in-with-a-samsung-account', 'project': 'USP', 'last_updated': '2023-08-23', 'family_tree': 'parent', 'parent_id': None, 'id': '2681ca03-f887-4300-8a34-d1eb7032c5a3'}\n",
      "\n",
      "Score: 0.008032786885245903\n",
      "['Wi-Fi Enhanced Roaming Algorithm File-based encryption (FBE) and full-disk encryption (FDE) What policy do I use to block users from adding additional accounts on the device? \"Network may be monitored\" shown after installing a private CA certificate on device Does the Samsung email client support \"opaque signed\" emails? Can a network operator configure an E_APN on an employee\\'s device? If two similar Knox policies are applied to a device with an MDM, which one takes precedence? Should the Knox VPN client be installed inside or outside the Knox container? What are the package names for the Samsung Cisco AnyConnect and Juniper VPN clients? What is the minimum level of unlock method required to install a certificate in Android credential storage? What is the proper way to wildcard APK package names? Which servers do EMMs need to communicate with in order to conduct device attestation? What is the order of precedence for firewall rules? What URLs do I have to add to an allowlist to make Samsung apps work with an']\n",
      "{'source': 'all_processed_data.json', 'seq_num': 1656, 'title': 'Knox Platform for Enterprise knowledge base articles', 'url': 'https://docs.samsungknox.com/admin/knox-platform-for-enterprise/kbas', 'project': 'KPE', 'last_updated': '2023-11-06', 'family_tree': 'child', 'parent_id': '1bf16403-0909-46e6-b77e-15d40409fccb', 'id': '11b3fff1-1613-4081-921f-b18815587846'}\n",
      "\n",
      "Score: 0.00796875\n",
      "['Learn more about Knox Suite. This section describes where you can find instructions on how to perform tasks using the different products included in Knox Suite. General documentation for the Knox Suite services Knox Service , See - , - Knox Manage , Knox Manage Admin Guide Knox Platform for Enterprise , Knox Platform for Enterprise Admin Guide Knox Mobile Enrollment , Knox Mobile Enrollment Admin Guide Knox E-FOTA , Knox E-FOTA Admin Guide Knox Asset Intelligence , Knox Asset Intelligence Admin Guide Knox Capture , Knox Capture Admin Guide Knox Authentication Manager , Knox Authentication Manager Admin Guide Knox Suite operations For information on See Knox service How to set up Knox Manage with Knox Suite Workflow:\"Set up Knox Manage with a Knox Suite license Knox Manage How to check your Knox Suite license usage View and modify a license Note Alternatively, you can sign in to your SamsungKnox.com dashboard and click Licenses to view all licenses you have for all your Knox services. Knox Manage How to upgrade your license key from Knox Manage to Knox Suite Upgrade a license Knox\"Manage How to configure premium Knox features Prerequisite: Workflow:\"Set up Knox Manage with a Knox Suite license Samsung Knox running Android Enterprise Note Policies with a in the Knox Manage admin portal are Knox premium features. These features require a Knox\"Suite license key. Knox Manage How to approve the Knox Service Plugin (KSP) app Prerequisite:Set up Android Enterprise. Approve Knox Service Plugin (KSP). Knox Manage What\\'s next? When you finish evaluating Knox Suite and decide to use it commercially, contact your Knox reseller to purchase a Knox\"Suite license. If you\\'re in need of devices, consider purchasing Enterprise Edition devices if this program is supported in your country. These devices are packaged with a 1-year renewable Knox\"Suite license, among other benefits. Once you\\'ve purchased your Enterprise\"Edition devices, see the Enterprise Edition section for information on how to generate your Knox Suite license.']\n",
      "{'source': 'all_processed_data.json', 'seq_num': 123, 'title': 'Learn more about Knox Suite', 'url': 'https://docs.samsungknox.com/admin/knox-suite/learn-more-about-knox-suite', 'project': 'KS', 'last_updated': '2023-07-26', 'family_tree': 'parent', 'parent_id': None, 'id': 'ebd949b0-e074-43cb-86e5-f0ad0cf02ad1'}\n",
      "\n",
      "Score: 0.007903225806451612\n",
      "['. What is an Approval ID? Who uploads devices to Knox Guard? What does a Complete device status mean in Knox Guard? What are the options for stopping payment blink reminders on an overdue device? How do I restrict a device to a particular telecom operator? How do I restrict a device to the first inserted SIM of an allowed telecom operator?']\n",
      "{'source': 'all_processed_data.json', 'seq_num': 734, 'title': 'Knox Guard knowledge base articles', 'url': 'https://docs.samsungknox.com/admin/knox-guard/kbas', 'project': 'KG', 'last_updated': '2023-07-26', 'family_tree': 'child', 'parent_id': '97f77950-4e98-4e2a-94b2-6a3745cb3551', 'id': '30669867-dcd2-4a2e-affb-cefb310c3f62'}\n",
      "None\n",
      "##############################\n",
      "similar_docs\n",
      "##############################\n",
      "\n",
      "Score: 0.4565265718259309\n",
      "['Knox Suite. Knox Suite is a bundled offering of Knox solutions for enterprise mobility designed to address organizations\\' needs related to security and management throughout the entire device lifecycle. Learn more about Knox Suite #Audience This document is intended for IT Admins. Understand what\\'s included in Knox Suite and how you can use it to manage, secure, and maintain enterprise devices. Learn where to find information on how to perform various tasks with Knox\"Suite services. About Knox Suite Knox Suite is a bundled offering that includes the following Knox products: Knox Platform for Enterprise - A Knox solution that provides military-grade security to Samsung Android phones, tablets, and Tizen watches for business. Knox Mobile Enrollment - A Knox solution that allows you to enroll thousands of Samsung devices in your EMM at once. When used with a Knox Suite license, Knox Mobile Enrollment provides advanced profiles that offer IT admins additional features such as higher control over locking devices. Knox Manage - A Knox solution that allows you to remotely manage your fleet of mobile devices. With this EMM, you create various policies to control how users can use their devices. Knox Asset Intelligence - A data analytics solution that offers operational visibility and actionable insights to improve the management, productivity, and lifecycle of mobile devices. This solution offers real-time monitoring and management of app performance, battery usage, network connectivity, and asset location. Knox E-FOTA - A Knox solution that allows you to remotely deploy OS and security updates to your devices without requiring user interaction. With Knox E-FOTA, you create a campaign, specify the campaign period, assign devices to that campaign, and select the firmware update to be pushed to those devices during the campaign period. Knox Capture - An Android solution that lets users transform their Samsung Galaxy smartphones and tablets into powerful barcode scanners that can read, process, and output barcode information to other applications, all without requiring additional hardware or writing a single line of code. Knox Authentication Manager - A managed Android app for shared Samsung devices that provides multiuser facial biometrics and sign-in automation for increased frontline worker productivity and safety. With Knox Suite, a single license key allows you to use all included Knox products on your devices. This means that you can use the same Knox Suite license key in multiple Knox service admin portals. Benefits of Knox Suite 1. All-in-one Knox B2B package - An end-to-end solution that covers every step of your enterprise mobility journey 2. Simplified license management - You only need one license key to use all included products. 3. Streamlined onboarding process - Register once and gain access to all included Knox products. 4. Seamless IT admin user experience - IT admin can easily access bundled Knox consoles through single sign-on. To get started, click here.']\n",
      "{'source': 'all_processed_data.json', 'seq_num': 124, 'title': 'Knox Suite', 'url': 'https://docs.samsungknox.com/admin/knox-suite', 'project': 'KS', 'last_updated': '2023-07-26', 'family_tree': 'parent', 'parent_id': None, 'id': '448d796e-6dad-46e7-891c-b24646d0f388'}\n",
      "\n",
      "Score: 0.009616154925776766\n",
      "[\"Sign in with a Samsung account. Sign up for a Knox account A Samsung Knox account is free and can be created in just a few minutes. With a Samsung Knox account, you can register for Knox services and get access to the Knox Admin Portal, which lets you easily manage your devices, admins, and licenses across each Knox service. To sign up for a Samsung Knox account, you need to link it to a Samsung account. If you don't yet have a Samsung account, you'll be prompted to create one when you sign up for SamsungKnox.com. To create your Knox account: 1. Go to SamsungKnox.com. 2. In the top-right corner, click GET STARTED. 3. Under Business email, enter the email address you use for work. 4. Select a Knox solution that you want to access - Knox Suite, Knox Configure, Knox Guard, Samsung Care + for Business, or Other products & services. If you want access to an individual Knox Suite service, such as Knox Mobile Enrollment, select Knox Suite. 5. Click CREATE MY ACCOUNT. If you already have a Samsung account, the system automatically prompts you to fill out a form with your company's details. If you don't have a Samsung account, the system prompts you to create one. Once you create your Samsung account, open the confirmation email you received and click the link. You're then automatically redirected to SamsungKnox.com to fill out a form with your company's details and submit your application for Knox services. Sign in to Samsung Knox 1. In the top-right corner of SamsungKnox.com, hover over Sign in. Then, under Samsung Account, click Sign in. 2. Enter your Samsung account email, then click Next. 3. Enter your Samsung account password, then click Sign in. You're now signed in and ready to start using Knox services and products.\"]\n",
      "{'source': 'all_processed_data.json', 'seq_num': 162, 'title': 'Sign in with a Samsung account', 'url': 'https://docs.samsungknox.com/admin/fundamentals/sign-up-for-samsung-knox/sign-in-with-a-samsung-account', 'project': 'USP', 'last_updated': '2023-08-23', 'family_tree': 'parent', 'parent_id': None, 'id': '2681ca03-f887-4300-8a34-d1eb7032c5a3'}\n",
      "\n",
      "Score: 0.00762804364785552\n",
      "['Knox knowledge base articles']\n",
      "{'source': 'all_processed_data.json', 'seq_num': 256, 'title': 'Knox knowledge base articles', 'url': 'https://docs.samsungknox.com/admin/fundamentals/kbas', 'project': 'USP', 'last_updated': '2023-07-26', 'family_tree': 'child', 'parent_id': '8ad593e2-b79d-4f9b-8356-05ddea67cb31', 'id': '7d86ff26-86eb-44d2-ac25-086bd2a8d5d4'}\n",
      "\n",
      "Score: 0.003211595583707094\n",
      "['Wi-Fi Enhanced Roaming Algorithm File-based encryption (FBE) and full-disk encryption (FDE) What policy do I use to block users from adding additional accounts on the device? \"Network may be monitored\" shown after installing a private CA certificate on device Does the Samsung email client support \"opaque signed\" emails? Can a network operator configure an E_APN on an employee\\'s device? If two similar Knox policies are applied to a device with an MDM, which one takes precedence? Should the Knox VPN client be installed inside or outside the Knox container? What are the package names for the Samsung Cisco AnyConnect and Juniper VPN clients? What is the minimum level of unlock method required to install a certificate in Android credential storage? What is the proper way to wildcard APK package names? Which servers do EMMs need to communicate with in order to conduct device attestation? What is the order of precedence for firewall rules? What URLs do I have to add to an allowlist to make Samsung apps work with an']\n",
      "{'source': 'all_processed_data.json', 'seq_num': 1656, 'title': 'Knox Platform for Enterprise knowledge base articles', 'url': 'https://docs.samsungknox.com/admin/knox-platform-for-enterprise/kbas', 'project': 'KPE', 'last_updated': '2023-11-06', 'family_tree': 'child', 'parent_id': '1bf16403-0909-46e6-b77e-15d40409fccb', 'id': '11b3fff1-1613-4081-921f-b18815587846'}\n",
      "\n",
      "Score: 0.003009384921055825\n",
      "['Learn more about Knox Suite. This section describes where you can find instructions on how to perform tasks using the different products included in Knox Suite. General documentation for the Knox Suite services Knox Service , See - , - Knox Manage , Knox Manage Admin Guide Knox Platform for Enterprise , Knox Platform for Enterprise Admin Guide Knox Mobile Enrollment , Knox Mobile Enrollment Admin Guide Knox E-FOTA , Knox E-FOTA Admin Guide Knox Asset Intelligence , Knox Asset Intelligence Admin Guide Knox Capture , Knox Capture Admin Guide Knox Authentication Manager , Knox Authentication Manager Admin Guide Knox Suite operations For information on See Knox service How to set up Knox Manage with Knox Suite Workflow:\"Set up Knox Manage with a Knox Suite license Knox Manage How to check your Knox Suite license usage View and modify a license Note Alternatively, you can sign in to your SamsungKnox.com dashboard and click Licenses to view all licenses you have for all your Knox services. Knox Manage How to upgrade your license key from Knox Manage to Knox Suite Upgrade a license Knox\"Manage How to configure premium Knox features Prerequisite: Workflow:\"Set up Knox Manage with a Knox Suite license Samsung Knox running Android Enterprise Note Policies with a in the Knox Manage admin portal are Knox premium features. These features require a Knox\"Suite license key. Knox Manage How to approve the Knox Service Plugin (KSP) app Prerequisite:Set up Android Enterprise. Approve Knox Service Plugin (KSP). Knox Manage What\\'s next? When you finish evaluating Knox Suite and decide to use it commercially, contact your Knox reseller to purchase a Knox\"Suite license. If you\\'re in need of devices, consider purchasing Enterprise Edition devices if this program is supported in your country. These devices are packaged with a 1-year renewable Knox\"Suite license, among other benefits. Once you\\'ve purchased your Enterprise\"Edition devices, see the Enterprise Edition section for information on how to generate your Knox Suite license.']\n",
      "{'source': 'all_processed_data.json', 'seq_num': 123, 'title': 'Learn more about Knox Suite', 'url': 'https://docs.samsungknox.com/admin/knox-suite/learn-more-about-knox-suite', 'project': 'KS', 'last_updated': '2023-07-26', 'family_tree': 'parent', 'parent_id': None, 'id': 'ebd949b0-e074-43cb-86e5-f0ad0cf02ad1'}\n",
      "None\n",
      "\n",
      "==========  Results  ==========\n",
      "\n",
      "1. question: What is knox?\n",
      "2. # documents: 5\n",
      "3. Documents: \n",
      "\n",
      "\n",
      "-----------------------------------------------\n",
      "1. Chunk: 3018 Characters\n",
      "-----------------------------------------------\n",
      "Knox Suite. Knox Suite is a bundled offering of Knox solutions for enterprise mobility designed to\n",
      "address organizations' needs related to security and management throughout the entire device\n",
      "lifecycle. Learn more about Knox Suite #Audience This document is intended for IT Admins. Understand\n",
      "what's included in Knox Suite and how you can use it to manage, secure, and maintain enterprise\n",
      "devices. Learn where to find information on how to perform various tasks with Knox\"Suite services.\n",
      "About Knox Suite Knox Suite is a bundled offering that includes the following Knox products: Knox\n",
      "Platform for Enterprise - A Knox solution that provides military-grade security to Samsung Android\n",
      "phones, tablets, and Tizen watches for business. Knox Mobile Enrollment - A Knox solution that\n",
      "allows you to enroll thousands of Samsung devices in your EMM at once. When used with a Knox Suite\n",
      "license, Knox Mobile Enrollment provides advanced profiles that offer IT admins additional features\n",
      "such as higher control over locking devices. Knox Manage - A Knox solution that allows you to\n",
      "remotely manage your fleet of mobile devices. With this EMM, you create various policies to control\n",
      "how users can use their devices. Knox Asset Intelligence - A data analytics solution that offers\n",
      "operational visibility and actionable insights to improve the management, productivity, and\n",
      "lifecycle of mobile devices. This solution offers real-time monitoring and management of app\n",
      "performance, battery usage, network connectivity, and asset location. Knox E-FOTA - A Knox solution\n",
      "that allows you to remotely deploy OS and security updates to your devices without requiring user\n",
      "interaction. With Knox E-FOTA, you create a campaign, specify the campaign period, assign devices to\n",
      "that campaign, and select the firmware update to be pushed to those devices during the campaign\n",
      "period. Knox Capture - An Android solution that lets users transform their Samsung Galaxy\n",
      "smartphones and tablets into powerful barcode scanners that can read, process, and output barcode\n",
      "information to other applications, all without requiring additional hardware or writing a single\n",
      "line of code. Knox Authentication Manager - A managed Android app for shared Samsung devices that\n",
      "provides multiuser facial biometrics and sign-in automation for increased frontline worker\n",
      "productivity and safety. With Knox Suite, a single license key allows you to use all included Knox\n",
      "products on your devices. This means that you can use the same Knox Suite license key in multiple\n",
      "Knox service admin portals. Benefits of Knox Suite 1. All-in-one Knox B2B package - An end-to-end\n",
      "solution that covers every step of your enterprise mobility journey 2. Simplified license management\n",
      "- You only need one license key to use all included products. 3. Streamlined onboarding process -\n",
      "Register once and gain access to all included Knox products. 4. Seamless IT admin user experience -\n",
      "IT admin can easily access bundled Knox consoles through single sign-on. To get started, click here.\n",
      "metadata:\n",
      " {'source': 'all_processed_data.json', 'seq_num': 124, 'title': 'Knox Suite', 'url':\n",
      "'https://docs.samsungknox.com/admin/knox-suite', 'project': 'KS', 'last_updated': '2023-07-26',\n",
      "'family_tree': 'parent', 'parent_id': None, 'id': '448d796e-6dad-46e7-891c-b24646d0f388'}\n",
      "\n",
      "-----------------------------------------------\n",
      "2. Chunk: 1745 Characters\n",
      "-----------------------------------------------\n",
      "Sign in with a Samsung account. Sign up for a Knox account A Samsung Knox account is free and can be\n",
      "created in just a few minutes. With a Samsung Knox account, you can register for Knox services and\n",
      "get access to the Knox Admin Portal, which lets you easily manage your devices, admins, and licenses\n",
      "across each Knox service. To sign up for a Samsung Knox account, you need to link it to a Samsung\n",
      "account. If you don't yet have a Samsung account, you'll be prompted to create one when you sign up\n",
      "for SamsungKnox.com. To create your Knox account: 1. Go to SamsungKnox.com. 2. In the top-right\n",
      "corner, click GET STARTED. 3. Under Business email, enter the email address you use for work. 4.\n",
      "Select a Knox solution that you want to access - Knox Suite, Knox Configure, Knox Guard, Samsung\n",
      "Care + for Business, or Other products & services. If you want access to an individual Knox Suite\n",
      "service, such as Knox Mobile Enrollment, select Knox Suite. 5. Click CREATE MY ACCOUNT. If you\n",
      "already have a Samsung account, the system automatically prompts you to fill out a form with your\n",
      "company's details. If you don't have a Samsung account, the system prompts you to create one. Once\n",
      "you create your Samsung account, open the confirmation email you received and click the link. You're\n",
      "then automatically redirected to SamsungKnox.com to fill out a form with your company's details and\n",
      "submit your application for Knox services. Sign in to Samsung Knox 1. In the top-right corner of\n",
      "SamsungKnox.com, hover over Sign in. Then, under Samsung Account, click Sign in. 2. Enter your\n",
      "Samsung account email, then click Next. 3. Enter your Samsung account password, then click Sign in.\n",
      "You're now signed in and ready to start using Knox services and products.\n",
      "metadata:\n",
      " {'source': 'all_processed_data.json', 'seq_num': 162, 'title': 'Sign in with a Samsung account',\n",
      "'url': 'https://docs.samsungknox.com/admin/fundamentals/sign-up-for-samsung-knox/sign-in-with-a-\n",
      "samsung-account', 'project': 'USP', 'last_updated': '2023-08-23', 'family_tree': 'parent',\n",
      "'parent_id': None, 'id': '2681ca03-f887-4300-8a34-d1eb7032c5a3'}\n",
      "\n",
      "-----------------------------------------------\n",
      "3. Chunk: 28 Characters\n",
      "-----------------------------------------------\n",
      "Knox knowledge base articles\n",
      "metadata:\n",
      " {'source': 'all_processed_data.json', 'seq_num': 256, 'title': 'Knox knowledge base articles',\n",
      "'url': 'https://docs.samsungknox.com/admin/fundamentals/kbas', 'project': 'USP', 'last_updated':\n",
      "'2023-07-26', 'family_tree': 'child', 'parent_id': '8ad593e2-b79d-4f9b-8356-05ddea67cb31', 'id':\n",
      "'7d86ff26-86eb-44d2-ac25-086bd2a8d5d4'}\n",
      "\n",
      "-----------------------------------------------\n",
      "4. Chunk: 1023 Characters\n",
      "-----------------------------------------------\n",
      "Wi-Fi Enhanced Roaming Algorithm File-based encryption (FBE) and full-disk encryption (FDE) What\n",
      "policy do I use to block users from adding additional accounts on the device? \"Network may be\n",
      "monitored\" shown after installing a private CA certificate on device Does the Samsung email client\n",
      "support \"opaque signed\" emails? Can a network operator configure an E_APN on an employee's device?\n",
      "If two similar Knox policies are applied to a device with an MDM, which one takes precedence? Should\n",
      "the Knox VPN client be installed inside or outside the Knox container? What are the package names\n",
      "for the Samsung Cisco AnyConnect and Juniper VPN clients? What is the minimum level of unlock method\n",
      "required to install a certificate in Android credential storage? What is the proper way to wildcard\n",
      "APK package names? Which servers do EMMs need to communicate with in order to conduct device\n",
      "attestation? What is the order of precedence for firewall rules? What URLs do I have to add to an\n",
      "allowlist to make Samsung apps work with an\n",
      "metadata:\n",
      " {'source': 'all_processed_data.json', 'seq_num': 1656, 'title': 'Knox Platform for Enterprise\n",
      "knowledge base articles', 'url': 'https://docs.samsungknox.com/admin/knox-platform-for-\n",
      "enterprise/kbas', 'project': 'KPE', 'last_updated': '2023-11-06', 'family_tree': 'child',\n",
      "'parent_id': '1bf16403-0909-46e6-b77e-15d40409fccb', 'id': '11b3fff1-1613-4081-921f-b18815587846'}\n",
      "\n",
      "-----------------------------------------------\n",
      "5. Chunk: 2041 Characters\n",
      "-----------------------------------------------\n",
      "Learn more about Knox Suite. This section describes where you can find instructions on how to\n",
      "perform tasks using the different products included in Knox Suite. General documentation for the\n",
      "Knox Suite services Knox Service , See - , - Knox Manage , Knox Manage Admin Guide Knox Platform for\n",
      "Enterprise , Knox Platform for Enterprise Admin Guide Knox Mobile Enrollment , Knox Mobile\n",
      "Enrollment Admin Guide Knox E-FOTA , Knox E-FOTA Admin Guide Knox Asset Intelligence , Knox Asset\n",
      "Intelligence Admin Guide Knox Capture , Knox Capture Admin Guide Knox Authentication Manager , Knox\n",
      "Authentication Manager Admin Guide Knox Suite operations For information on See Knox service How to\n",
      "set up Knox Manage with Knox Suite Workflow:\"Set up Knox Manage with a Knox Suite license Knox\n",
      "Manage How to check your Knox Suite license usage View and modify a license Note Alternatively, you\n",
      "can sign in to your SamsungKnox.com dashboard and click Licenses to view all licenses you have for\n",
      "all your Knox services. Knox Manage How to upgrade your license key from Knox Manage to Knox Suite\n",
      "Upgrade a license Knox\"Manage How to configure premium Knox features Prerequisite: Workflow:\"Set up\n",
      "Knox Manage with a Knox Suite license Samsung Knox running Android Enterprise Note Policies with a\n",
      "in the Knox Manage admin portal are Knox premium features. These features require a Knox\"Suite\n",
      "license key. Knox Manage How to approve the Knox Service Plugin (KSP) app Prerequisite:Set up\n",
      "Android Enterprise. Approve Knox Service Plugin (KSP). Knox Manage What's next? When you finish\n",
      "evaluating Knox Suite and decide to use it commercially, contact your Knox reseller to purchase a\n",
      "Knox\"Suite license. If you're in need of devices, consider purchasing Enterprise Edition devices if\n",
      "this program is supported in your country. These devices are packaged with a 1-year renewable\n",
      "Knox\"Suite license, among other benefits. Once you've purchased your Enterprise\"Edition devices, see\n",
      "the Enterprise Edition section for information on how to generate your Knox Suite license.\n",
      "metadata:\n",
      " {'source': 'all_processed_data.json', 'seq_num': 123, 'title': 'Learn more about Knox Suite',\n",
      "'url': 'https://docs.samsungknox.com/admin/knox-suite/learn-more-about-knox-suite', 'project': 'KS',\n",
      "'last_updated': '2023-07-26', 'family_tree': 'parent', 'parent_id': None, 'id':\n",
      "'ebd949b0-e074-43cb-86e5-f0ad0cf02ad1'}\n"
     ]
    }
   ],
   "source": [
    "query = \"What is knox?\"\n",
    "search_hybrid_result = opensearch_hybrid_retriever.get_relevant_documents(query)\n",
    "\n",
    "print(\"\\n==========  Results  ==========\\n\")\n",
    "print(f'1. question: {query}')\n",
    "print(f'2. # documents: {len(search_hybrid_result)}')\n",
    "print(\"3. Documents: \\n\")\n",
    "\n",
    "show_context_used(search_hybrid_result)"
   ]
  },
  {
   "cell_type": "markdown",
   "id": "a981abe7-5208-48f5-a9cc-8c557e9941ca",
   "metadata": {},
   "source": [
    "## 5. RAG using RetrievalQA powered by LangChain"
   ]
  },
  {
   "cell_type": "code",
   "execution_count": 32,
   "id": "08cf6d2b-451b-499c-aec2-bb6f5abafbb0",
   "metadata": {
    "tags": []
   },
   "outputs": [],
   "source": [
    "from utils.rag import prompt_repo\n",
    "from utils.rag import run_RetrievalQA\n",
    "from langchain.prompts import PromptTemplate"
   ]
  },
  {
   "cell_type": "markdown",
   "id": "b490df1f-8113-4dd1-a578-a3e1a6918fde",
   "metadata": {
    "tags": []
   },
   "source": [
    "### Prompting\n",
    "- [TIP] Prompt의 instruction의 경우 한글보다 영어로 했을 때 더 좋은 결과를 얻을 수 있습니다."
   ]
  },
  {
   "cell_type": "code",
   "execution_count": 33,
   "id": "0a68b4bf-8fc5-45a6-80cf-2bc059d4e389",
   "metadata": {
    "tags": []
   },
   "outputs": [
    {
     "name": "stdout",
     "output_type": "stream",
     "text": [
      "('\\n'\n",
      " '                        You are a master answer bot designed to answer '\n",
      " \"user's questions.\\n\"\n",
      " \"                        I'm going to give you contexts which consist of \"\n",
      " 'texts, tables and images.\\n'\n",
      " \"                        Read the contexts carefully, because I'm going to \"\n",
      " 'ask you a question about it.\\n'\n",
      " '                        ')\n"
     ]
    }
   ],
   "source": [
    "system_prompt = prompt_repo.get_system_prompt()\n",
    "pprint (system_prompt)\n",
    "#PROMPT = prompt_repo.get_qa(prompt_type=\"answer_only\") # [\"answer_only\", \"answer_with_ref\", \"original\"]"
   ]
  },
  {
   "cell_type": "markdown",
   "id": "c66157a6-aec8-4555-a90f-1178e6f4f6e0",
   "metadata": {},
   "source": [
    "### Update Search Params (Optional)"
   ]
  },
  {
   "cell_type": "code",
   "execution_count": 39,
   "id": "64df2daf-8b42-472a-885f-97320ee98132",
   "metadata": {
    "tags": []
   },
   "outputs": [],
   "source": [
    "from utils.rag import qa_chain\n",
    "from langchain.schema.output_parser import StrOutputParser"
   ]
  },
  {
   "cell_type": "code",
   "execution_count": 42,
   "id": "d2697230-6962-43d8-8917-ba9daa4295bb",
   "metadata": {
    "tags": []
   },
   "outputs": [],
   "source": [
    "opensearch_hybrid_retriever.update_search_params(\n",
    "    k=6,\n",
    "    minimum_should_match=0,\n",
    "    # filter=[\n",
    "    #     {'term': {'metadata.family_tree': 'child'}},\n",
    "    # ],\n",
    "    ensemble_weights=[0.51, 0.49], #semantic, lexical\n",
    "\n",
    "    reranker=True,\n",
    "    reranker_endpoint_name=endpoint_name,\n",
    "\n",
    "    parent_document=True, # enable parent document\n",
    "    verbose=False\n",
    ")"
   ]
  },
  {
   "cell_type": "markdown",
   "id": "aee26c22-b674-4f4f-a87b-29508e336fda",
   "metadata": {},
   "source": [
    "### Request"
   ]
  },
  {
   "cell_type": "code",
   "execution_count": 43,
   "id": "95fa61d3-9256-432a-96a3-2c696c97ea68",
   "metadata": {
    "tags": []
   },
   "outputs": [],
   "source": [
    "qa = qa_chain(\n",
    "    llm_text=llm_text,\n",
    "    retriever=opensearch_hybrid_retriever,\n",
    "    system_prompt=system_prompt,\n",
    "    return_context=True,\n",
    "    verbose=False\n",
    ")"
   ]
  },
  {
   "cell_type": "code",
   "execution_count": 53,
   "id": "390ad324-40b3-4bcb-92b9-50eb080492a5",
   "metadata": {
    "tags": []
   },
   "outputs": [
    {
     "name": "stdout",
     "output_type": "stream",
     "text": [
      "Knox E-FOTA 클라이언트 APK를 얻는 방법은 다음과 같습니다.\n",
      "\n",
      "1. Knox Admin Portal에 로그인합니다.\n",
      "2. 왼쪽 사이드바에서 Knox E-FOTA를 클릭합니다. \n",
      "3. Devices > All Devices로 이동합니다.\n",
      "4. Direct Download를 클릭합니다.\n",
      "5. Direct Download 팝업에서 APK 파일에 대한 다운로드 링크를 복사합니다.\n",
      "\n",
      "이렇게 하면 Knox E-FOTA 클라이언트 APK 파일을 로컬 머신에 다운로드할 수 있습니다. 다운로드한 APK를 EMM 콘솔에서 내부 앱으로 추가하여 대상 기기에 설치할 수 있습니다."
     ]
    }
   ],
   "source": [
    "#query = \"중지된 경우 이체\"\n",
    "#query = \"vidio max size?\"\n",
    "query = \"How does Knox E-FOTA enable enterprises to deploy OS updates remotely without requiring user interaction?\"\n",
    "query = \"What feature of Knox E-FOTA allows IT administrators to ensure that devices have the same OS version installed across the entire fleet of devices?\"\n",
    "query = \"How does Knox E-FOTA allow IT admins to securely push updates to enterprise mobile devices while maintaining compatibility with in-house apps?\"\n",
    "query = \"What are the three editions of Knox E-FOTA service that have different features?\"\n",
    "query = \"How do you obtain the Knox E-FOTA client APK that is needed to install the app through an EMM?\"\n",
    "\n",
    "response, contexts = qa.invoke(\n",
    "    query = query\n",
    ")\n",
    "\n",
    "#show_context_used(contexts)"
   ]
  },
  {
   "cell_type": "code",
   "execution_count": 38,
   "id": "01e77dad-dc19-416b-80e7-19fac3b736a5",
   "metadata": {
    "collapsed": true,
    "jupyter": {
     "outputs_hidden": true
    },
    "tags": []
   },
   "outputs": [
    {
     "name": "stdout",
     "output_type": "stream",
     "text": [
      "##################################\n",
      "query:  vidio max size?\n",
      "##################################\n",
      "\u001b[34m\n",
      "\n",
      "### Answer ###\u001b[0m\n",
      "비디오 파일의 최대 크기는 50MB입니다. 다음과 같이 설명되어 있습니다:\n",
      "\n",
      "\"비디오 Select a video file for the screen saver. You can add only one video file in the MP4 or MKV\n",
      "format. The video file must be less than 50 MB.\"\n",
      "\u001b[32m\n",
      "\n",
      "### Contexts ###\u001b[0m\n",
      "\n",
      "-----------------------------------------------\n",
      "1. Chunk: 4078 Characters\n",
      "-----------------------------------------------\n",
      ". Previews in Pop-ups (Fully Managed, Fully Managed With Work Profile) &mdash; Hides content in app\n",
      "notifications on the lock screen. Notification (Fully Managed, Fully Managed With Work Profile, Work\n",
      "Profile on Company-Owned) &mdash; Hides all app notifications on the lock screen. Devices with a\n",
      "Work Profile: Trust Agent &mdash; Blocks the Smart Lock function, which unlocks the screen in\n",
      "certain conditions, such as during physical activity, at a specific geographic location, or when\n",
      "devices are added. Previews in pop-ups &mdash; Hides content in app notifications on the lock\n",
      "screen. Fingerprint &mdash; Blocks screen unlock through fingerprint scanning. Face &mdash; Blocks\n",
      "screen unlock through face scanning. Fully Managed &mdash; Android 5+ Work Profile &mdash; Android\n",
      "7+ Personal area &mdash; Android 7+ Kiosk Configures Kiosk applications on a Kiosk device and\n",
      "controls the device settings. Policy Description Supported system Screen on when Plugged in Enable\n",
      "this feature to set the device screen on when charging using any of the following options: &gt;\n",
      "Screen on when Plugged into Charger Select the option to apply the policy: AC Charger USB Charger\n",
      "Wireless Charger Multiple selection is possible. Kiosk app settings Select a Kiosk feature to use on\n",
      "a device. Single App Mode &mdash; Runs a single application on the device's home screen. Multi App\n",
      "Mode &mdash; Runs multiple applications that are developed using the Kiosk Wizard. Web Mode &mdash;\n",
      "Opens webpages that are specified by the administrator. Note Single-app kiosks are not available\n",
      "with non-Samsung Android Enterprise Fully Managed (DO) devices that are running Android 6-8.0. Knox\n",
      "Manage provides Single-app kiosks with Google managed applications for Android Enterprise devices\n",
      "with version 9.0 (Pie) and higher. Fully Managed &mdash; Samsung Knox 1.0 and higher Non-Samsung\n",
      "Fully Managed &mdash; Android 9 and higher &gt; Set application Click Add to select Kiosk\n",
      "applications from the list or click New to create a Kiosk App. &gt; Set Kiosk Browser When setting\n",
      "up the Kiosk Browser, the package name of the application registered as the Kiosk Browser is\n",
      "automatically selected. &gt; Default URL Set the home page of the Kiosk Browser. Values Enter a URL.\n",
      "Click Lookup to browse and select available lookup items to include in the URL. App Auto Update Set\n",
      "the Kiosk Browser to be updated automatically. &gt; Screen Saver Use the screen saver for Single App\n",
      "and Multiple App kiosks and the Kiosk Browser. When no user activity is sensed for a certain amount\n",
      "of time set in the Auto Screen Off or Session Timeout settings on the device, the registered images\n",
      "or video files are activated on the device display. Note The Screen Saver for the Kiosk Browser only\n",
      "runs while the device is charging. &gt;&gt; Screen Saver Type Select either an image or video type\n",
      "screensaver. &gt;&gt;&gt; Image Select image files for the screen saver. You can add up to 10 image\n",
      "files in the PNG, JPG, JPEG, or GIF format (animated files are not supported). Each image file must\n",
      "be less than 5 MB. To upload an image file, click Add and select a file. To delete an image file,\n",
      "click next to the name of the uploaded image file. Note The device control command must be\n",
      "transferred to the device to apply an image file to it. &gt;&gt;&gt; Video Select a video file for\n",
      "the screen saver. You can add only one video file in the MP4 or MKV format. The video file must be\n",
      "less than 50 MB. To upload a video file, click Add and select a file. To delete a video file, click\n",
      "next to the name of the uploaded video file. Note The device control command must be transferred to\n",
      "the device to apply a video to it. &gt; Session timeout Allows the use of the session timeout\n",
      "feature for the Kiosk Browser. If the user does not use the device for a set time, the device\n",
      "deletes user information, such as the cache and cookies, in the device Kiosk Browser and goes to the\n",
      "main page URL: Apply &mdash; Enables the session timeout feature for the browser. &gt;&gt; Time\n",
      "(sec) Set the session timeout in seconds for the Kiosk Browser\n",
      "metadata:\n",
      " {'source': 'all_processed_data.json', 'seq_num': 893, 'title': 'Android Enterprise policies',\n",
      "'url': 'https://docs.samsungknox.com/admin/knox-manage/configure/profile/configure-profile-\n",
      "policies/android-enterprise-policies', 'project': 'KM', 'last_updated': '2023-09-06', 'family_tree':\n",
      "'parent', 'parent_id': None}\n",
      "\n",
      "-----------------------------------------------\n",
      "2. Chunk: 2734 Characters\n",
      "-----------------------------------------------\n",
      ". Zoom factor Any value from 1.0 (no zoom) to 4.0 (fully zoomed in). Default value is 1.0. 2\n",
      "Flashlight Auto is not available in Knox Capture: Scandit Edition. Barcode highlighting Refer to the\n",
      "following settings to change the camera UI overlay displaying around recognized barcodes when\n",
      "scanning: Setting , Description - , - Fill color , Set the color inside the box highlighting a\n",
      "recognized barcode, represented as ARGB in HEX format. Set to 00000000 (transparent) by default.\n",
      "Stroke color , Set the border color of the box highlighting the recognized barcode, represented as\n",
      "ARGB in HEX format. Set to FF1C7980 by default. Stroke width , Set the border width of the box\n",
      "highlighting the recognized barcode in pixels. Set to 3 pixels by default. Advanced settings\n",
      "#Extended barcode type settings Use these settings to configure each barcode type used in a Knox\n",
      "Capture profile. Access these settings by tapping Advanced settings near the bottom of the scan\n",
      "engine settings menu, then tap Extended barcode type settings to display a list of all barcode\n",
      "types. To view the extended settings for a particular barcode type, tap its name. The following\n",
      "table describes the possible barcode type settings that may appear: Setting Options Inverted color\n",
      "recognition Off (default) On #Barcode filtering Use the following settings to conditionally validate\n",
      "barcodes and highlight rejected barcodes: Setting , Options - , - Custom validation , Set a regular\n",
      "expression (regex) used to filter scanned barcodes. Only barcodes that match the provided regular\n",
      "expression will be accepted. Refer to this reference for details on crafting an expression. By\n",
      "default, no regex is set. Highlight rejected code , Toggle on to enable an overlay in the camera\n",
      "preview window that appears around rejected codes. A Custom validation value must be set to enable\n",
      "this setting. This is toggled Off by default. #Visual cue The visual cue is the viewfinder overlay\n",
      "centered in the camera scanning UI that focuses the user's attention on a barcode. The size of the\n",
      "visual cue is the same size as of the actual scan area. Setting Options View finder selection\n",
      "Rectangular (default) &mdash; Draws a rectangle around detected barcodes. Laser &mdash; Overlays a\n",
      "horizontal \"laser\" line over detected barcodes. Rectangular viewfinder width Set the width of the\n",
      "rectangular viewfinder, specified in screen width percentage. Only active if View finder selection\n",
      "is set to Rectangular. Available values are 0% to 100%. Default value is 90%. Rectangular viewfinder\n",
      "height Set the height of the rectangular viewfinder specified in screen height percentage. Only\n",
      "active if View finder selection is set to Rectangular. Available values are 0% to 100%. Default\n",
      "value is 40%.\n",
      "metadata:\n",
      " {'source': 'all_processed_data.json', 'seq_num': 566, 'title': 'Configure scan engine settings',\n",
      "'url': 'https://docs.samsungknox.com/admin/knox-capture/how-to-guides/configure-scan-engine-\n",
      "settings', 'project': 'KCAP', 'last_updated': '2023-10-16', 'family_tree': 'parent', 'parent_id':\n",
      "None}\n",
      "\n",
      "-----------------------------------------------\n",
      "3. Chunk: 4053 Characters\n",
      "-----------------------------------------------\n",
      ". Max TTL - The maximum amount of time, or time to live (TTL), in seconds, that a packet can exist\n",
      "in a network before being discarded by the router. The default value is 64, but a number from 49 to\n",
      "255 can be entered. Packet size - The size of the packet to request, in bytes. The default value is\n",
      "64, but a number from 4 to 1472 can be entered. If the device user sets Packet size as 10, Interval\n",
      "(ms) as 1000 ms, and Timeout (ms) as 500 ms, 10 pings are sent and the interval between each ping is\n",
      "set to 1000 ms. A successful test requires all 10 pings to be received within 500 ms each. The ping\n",
      "test continues even if the device user leaves the screen, but they can stop it at any time by\n",
      "tapping the stop button. Otherwise, the test automatically stops once the set conditions are met. A\n",
      "notification is also displayed in the notification bar for the duration of the test, which the user\n",
      "can tap to return to the test screen. #Battery When the device user selects Battery from the\n",
      "Diagnostics menu, the Status and History tabs are shown at the bottom of the screen. ##Status The\n",
      "Status tab provides information on the following battery-related data points: Battery status -\n",
      "Indicates whether the device is connected to a charger or not. Battery level, State of health - The\n",
      "overall health of the device's battery, defined as Good, Normal, or Bad. Battery voltage, Charger\n",
      "type, Charger plug, Battery's rated capacity, Battery health - The percentage of the battery's\n",
      "original charge it can currently hold. Time until battery fully drained/Time until battery fully\n",
      "charged - When the device is not charging, the first option is shown. Otherwise, the second option\n",
      "is shown. Current battery charge, Current battery capacity, Average current, Current right now -\n",
      "When the device is charging, displays the charging current in milliamperes (mA). Device users can\n",
      "also generate and send debug logs to you by tapping Error report in the top-right corner of the\n",
      "screen. ##History The History tab shows historical information about how the device's battery was\n",
      "used, spanning the last 14 days. An entry is logged every time the battery charge increases, and\n",
      "includes the following data points: Date, Timestamp, Battery percentage, In and out amperage,\n",
      "Battery voltage, Charger plug, Charge type, Time until fully charged The device user can tap and\n",
      "hold an entry, then tap Remove data to hide that entry. Note that any entries deleted this way can't\n",
      "be restored. To see more battery usage information from the last 7 days, the user can also tap\n",
      "Settings (gear icon) in the top right corner to view the following additional options: Battery usage\n",
      "trend takes the user directly to Device care in the device settings. Share with your admin allows\n",
      "users to upload a log file - containing the battery's charging history - to the Knox Asset\n",
      "Intelligence console for further analysis. The log file contains the following information: Date -\n",
      "The date that the log was created , Timestamp - The time the log event occurred. Battery charge (%)\n",
      "- The battery charge percentage at the time of log creation. In and out Amperage (mA) - The battery\n",
      "current/amperage (in milliamps) measured at each log event. Negative values indicate battery\n",
      "discharging, while positive values indicate battery charging. Battery Voltage (mV) - the battery\n",
      "voltage level at time of log event , Charger Plug - the type of plug used to charge the battery at\n",
      "time of event. Available options: AC - battery was plugged in to a wall charger. Wireless - battery\n",
      "was plugged in to a wireless charger (charging station). USB - battery was plugged in to a\n",
      "computer's USB port. Pogo - device was plugged in to a charging dock with a Pogo connection (Android\n",
      "13 and higher) , N/A - Device was not plugged in. Charge Type - the type of charge occurring on the\n",
      "battery at time of log event: USB - device was charging through USB power. Normal - device was\n",
      "charging at a normal charge rate through AC power. FAST (AFC) - device was charging at a fast rate\n",
      "using Samsung's Adaptive Fast Charge technology\n",
      "metadata:\n",
      " {'source': 'all_processed_data.json', 'seq_num': 292, 'title': 'Use the agent app', 'url':\n",
      "'https://docs.samsungknox.com/admin/knox-asset-intelligence/how-to-guides/use-the-agent-app',\n",
      "'project': 'KAI', 'last_updated': '2023-09-06', 'family_tree': 'parent', 'parent_id': None}\n",
      "\n",
      "-----------------------------------------------\n",
      "4. Chunk: 3679 Characters\n",
      "-----------------------------------------------\n",
      ". Values Allow peer to peer update downloads Do not allow peer to peer update downloads &gt; Enforce\n",
      "updates Specifies when to sign the device user out of their device if they have not updated to a\n",
      "Chrome OS version that you allow. Values Block devices &amp; user sessions after &mdash; Select a\n",
      "time from the list after which the device user is signed out of their device. if they are not\n",
      "running at least version &mdash; Select the Chrome OS version from the drop down list that is the\n",
      "oldest version allowed on devices. Extend this period for Auto Update Expiration devices to &mdash;\n",
      "Select a value from the list to set when the device user is signed out of their device after the\n",
      "Auto Update Expiration (AUE) passes and the device no longer receives automatic updates from Google.\n",
      "For more information on AUE, see Auto Update policy. &gt; Enforce updates Auto Update Expiration\n",
      "(AUE) message Specifies a message shown to the device user if they have not updated to a Chrome OS\n",
      "version that you allow and their device reached its AUE date. For more information on AUE, see Auto\n",
      "Update policy. Values Enter an Auto Update Expiration (AUE) message in plain text with no formatting\n",
      "in the field. The device user will see the default message if this field is blank. &gt; Update\n",
      "downloads Specifies what Chrome OS devices download Chrome OS updates over, HTTP or HTTPS. Values\n",
      "Use HTTP for update downloads Use HTTPS for update downloads Variations Enables the Chrome\n",
      "variations framework. If this policy is enabled, Google can selectively deliver security fixes and\n",
      "experimental features to Chrome OS. Caution Disabling variations significantly increases the risk of\n",
      "future security and compatibility issues and isn't recommended. Values Enable Chrome variations\n",
      "(default) Enable variations for critical fixes only Disable variations Chrome OS 99 and higher\n",
      "#Display settings Policy Description Supported system Screen settings Allows the device user to set\n",
      "the display resolution and scale factor. Values Allow users to overwrite predefined display settings\n",
      "(default) Do not allow user changes for predefined display settings Chrome OS 99 and higher &gt;\n",
      "External resolution Sets the display resolution and scale factor for external displays. Values\n",
      "Always use native resolution (default) Use custom resolution &mdash; Applies the values specified by\n",
      "the External display width, External display height, External display scale, and Internal display\n",
      "scale sub-policies. If the custom resolution entered is not supported, the display will revert to\n",
      "its native resolution. Chrome OS 99 and higher &gt; External display width (in pixels) Specifies the\n",
      "width of the external display. This policy only applies if the External resolution policy is set to\n",
      "Use custom resolution. Values Enter the display width, in pixels. If this value is unset or not\n",
      "supported, the display reverts to its native resolution. Chrome OS 99 and higher &gt; External\n",
      "display height (in pixels) Specifies the height of the external display. This policy only applies if\n",
      "the External resolution policy is set to Use custom resolution. Values Enter the display height, in\n",
      "pixels. If this value is unset or not supported, the display reverts to its native resolution.\n",
      "Chrome OS 99 and higher &gt; External display scale (percentage) Specifies the scale of the external\n",
      "display. This policy only applies if the External resolution policy is set to Use custom resolution\n",
      "Values Choose a display scale: Not set 50% 55% 60% 65% 70% 75% 80% 85% 90% 95% 100% 105% 110% 115%\n",
      "120% 125% 130% 135% 140% 145% 150% Chrome OS 99 and higher &gt; Internal display scale (percentage)\n",
      "Specifies the scale of the internal display\n",
      "metadata:\n",
      " {'source': 'all_processed_data.json', 'seq_num': 896, 'title': 'Chrome OS policies', 'url':\n",
      "'https://docs.samsungknox.com/admin/knox-manage/configure/profile/configure-profile-policies/chrome-\n",
      "os-policies', 'project': 'KM', 'last_updated': '2023-07-26', 'family_tree': 'parent', 'parent_id':\n",
      "None}\n",
      "\n",
      "-----------------------------------------------\n",
      "5. Chunk: 4056 Characters\n",
      "-----------------------------------------------\n",
      "Portal-side errors. The following errors could occur when using Knox Configure admin console. This\n",
      "section of the guide helps you identify the cause of error and recommends troubleshooting tips to\n",
      "assist you in resolving the error. General portal related errors Portal related errors can occur\n",
      "when registering devices, profiles and apps using the Knox Configure admin console. Possible system\n",
      "errors could occur as a result of the following: Invalid file formats, exceeding the maximum file\n",
      "size, invalid/missing entries, or invalid URLs. Code Cause of Error Troubleshoot 4000013 The CSV\n",
      "file header is invalid. Ensure the CSV file header uploading doesn't have any forbidden characters.\n",
      "Try the following: In Knox Configure, go to Actions &gt; Upload devices. Under the Device list file\n",
      "field, click Download sample CSV file. Enter your device information in the sample file with the\n",
      "default headings. Save and try uploading the CSV file again. 4000014 The CSV file is empty. Ensure\n",
      "the CSV file uploading is not empty. 4000414 The EULA is invalid. A system error occurred. Refresh\n",
      "the page and load the EULA again. If the problem persists, contact Samsung. 4002009 EULA is already\n",
      "agreed to. The end user has already accepted the End User License Agreement (EULA). Do not prompt\n",
      "users to accept the EULA again. Failed to upload file. A system error occurred. Try to upload the\n",
      "file again. If the problem persists, contact Samsung. An app with this name already exists. Ensure\n",
      "the name of the app you are uploading does not already exist in Knox Configure. Re-name the app if\n",
      "necessary. Invalid APK version name. Invalid APK version name. Please change the version name and\n",
      "try uploading again. 4090001 File too large. Max 4000 devices allowed per upload. Try splitting the\n",
      "device upload list to reduce the size of .csv you are uploading. Note that there is a max of 4000\n",
      "devices allowed per upload. 4150000 File type is not supported. The file you are trying to upload is\n",
      "not supported. Knox Configure only accepts .csv files. App name cannot contain special characters.\n",
      "Rename the app so it does not contain any special or forbidden characters. App version is invalid.\n",
      "An app you are trying to upload is invalid. Verify that the version you're attempting to upload is\n",
      "correct. Try to re-upload the app again. CSV file is required. A system error occurred. Verify that\n",
      "you've attached a .csv file, try to re-attach the .csv and upload it again. If the problem persists,\n",
      "contact Samsung. 4040105 No CAPTCHA code entered. No CAPTCHA code was entered. Carefully enter the\n",
      "CAPTCHA code and submit. 4004001 The email agreeing to the Customer Terms is invalid. Verify the\n",
      "email entered is correct, refresh the page and try again. 4000113 The CAPTCHA code is incorrect. The\n",
      "CAPTCHA code is incorrect. Carefully re-enter the CAPTCHA code again and submit. 4042006 The tag\n",
      "already exists. A system error occurred. The profile tag entered is a duplicate, enter a different\n",
      "tag. If the problem persists, contact Samsung. 40001 The URL is not valid. Verify the URL entered is\n",
      "correct, refresh the page and try again. If the problem persists, contact Samsung. 4043 The\n",
      "activation status of the client is invalid. A system error occurred. If the problem persists,\n",
      "contact Samsung. Device related errors Device related portal errors can occur when registering\n",
      "devices using the Knox Configure admin console. Possible system errors could occur as a result of\n",
      "invalid or duplicate devices in the CSV file, invalid IMEIs/SNs, duplicate device uploads and\n",
      "unverified device uploads. Code Cause of Error Troubleshoot 0 Failed to register device. A system\n",
      "error occurred. Try to register the devices again. If the problem persists, contact Samsung. 4042000\n",
      "The device(s) could not be found. A system error occurred. Try to re-upload the devices again. If\n",
      "the problem persists, contact Samsung. 4041401 The device was not found. A system error occurred.\n",
      "Try to register the devices again. If the problem persists, contact Samsung 4002004 Invalid or\n",
      "duplicate devices detected\n",
      "metadata:\n",
      " {'source': 'all_processed_data.json', 'seq_num': 433, 'title': 'Portal-side errors', 'url':\n",
      "'https://docs.samsungknox.com/admin/knox-configure/knox-configure-wearables/troubleshoot/portal-\n",
      "side-errors', 'project': 'KC', 'last_updated': '2023-07-26', 'family_tree': 'parent', 'parent_id':\n",
      "None}\n"
     ]
    }
   ],
   "source": [
    "print(\"##################################\")\n",
    "print(\"query: \", query)\n",
    "print(\"##################################\")\n",
    "\n",
    "print (colored(\"\\n\\n### Answer ###\", \"blue\"))\n",
    "print_ww(response)\n",
    "\n",
    "print (colored(\"\\n\\n### Contexts ###\", \"green\"))\n",
    "show_context_used(contexts)"
   ]
  },
  {
   "cell_type": "code",
   "execution_count": null,
   "id": "b1a40222",
   "metadata": {},
   "outputs": [],
   "source": []
  },
  {
   "cell_type": "code",
   "execution_count": null,
   "id": "ce77c46a-7912-4e9f-aaf3-f3f66c6c8251",
   "metadata": {},
   "outputs": [],
   "source": []
  }
 ],
 "metadata": {
  "kernelspec": {
   "display_name": "conda_python3",
   "language": "python",
   "name": "conda_python3"
  },
  "language_info": {
   "codemirror_mode": {
    "name": "ipython",
    "version": 3
   },
   "file_extension": ".py",
   "mimetype": "text/x-python",
   "name": "python",
   "nbconvert_exporter": "python",
   "pygments_lexer": "ipython3",
   "version": "3.10.13"
  },
  "vscode": {
   "interpreter": {
    "hash": "4b8e647a79df62bf31906a725b05de775d285962ac600487339d38c51a5c07b1"
   }
  }
 },
 "nbformat": 4,
 "nbformat_minor": 5
}
