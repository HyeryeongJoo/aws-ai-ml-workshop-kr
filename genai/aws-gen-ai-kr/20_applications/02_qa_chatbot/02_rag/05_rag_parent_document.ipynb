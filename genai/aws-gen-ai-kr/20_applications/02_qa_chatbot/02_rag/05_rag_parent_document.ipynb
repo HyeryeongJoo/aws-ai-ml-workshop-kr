{
 "cells": [
  {
   "cell_type": "markdown",
   "id": "5deb2df2-413d-49bd-a829-3a1fc344937e",
   "metadata": {},
   "source": [
    "# RAG Based on parent document\n",
    "- Hybrid Search\n",
    "- ReRanker\n",
    "- [Parent Document](https://medium.aiplanet.com/advanced-rag-providing-broader-context-to-llms-using-parentdocumentretriever-cc627762305a)\n",
    "    "
   ]
  },
  {
   "cell_type": "markdown",
   "id": "b1f81abc-3277-4a6b-9ef1-d4f997d67fbe",
   "metadata": {},
   "source": [
    "## Setting\n",
    " - Auto Reload\n",
    " - path for utils"
   ]
  },
  {
   "cell_type": "code",
   "execution_count": 1,
   "id": "ddde4105-b759-4d6c-8214-8e1ab485ae48",
   "metadata": {
    "tags": []
   },
   "outputs": [],
   "source": [
    "%load_ext autoreload\n",
    "%autoreload 2"
   ]
  },
  {
   "cell_type": "code",
   "execution_count": 2,
   "id": "57c2cdb1-d785-4317-afce-938f13141085",
   "metadata": {
    "tags": []
   },
   "outputs": [],
   "source": [
    "import sys, os\n",
    "module_path = \"../../..\"\n",
    "sys.path.append(os.path.abspath(module_path))"
   ]
  },
  {
   "cell_type": "markdown",
   "id": "9c4ade56-8dbc-4ded-b355-7e4bcc971e90",
   "metadata": {},
   "source": [
    "## 1. Bedrock Client 생성"
   ]
  },
  {
   "cell_type": "code",
   "execution_count": 3,
   "id": "cc2d877f-e877-48f6-8dd4-239de20e45cd",
   "metadata": {
    "tags": []
   },
   "outputs": [],
   "source": [
    "import json\n",
    "import boto3\n",
    "from pprint import pprint\n",
    "from termcolor import colored\n",
    "from utils import bedrock, print_ww\n",
    "from utils.bedrock import bedrock_info"
   ]
  },
  {
   "cell_type": "markdown",
   "id": "088e6490-c79a-49e4-841c-9fdb91292608",
   "metadata": {},
   "source": [
    "### ---- ⚠️ Un-comment and edit the below lines as needed for your AWS setup ⚠️ ----\n",
    "- os.environ[\"AWS_DEFAULT_REGION\"] = \"<REGION_NAME>\"  # E.g. \"us-east-1\"\n",
    "- os.environ[\"AWS_PROFILE\"] = \"<YOUR_PROFILE>\"\n",
    "- os.environ[\"BEDROCK_ASSUME_ROLE\"] = \"<YOUR_ROLE_ARN>\"  # E.g. \"arn:aws:...\"\n",
    "- os.environ[\"BEDROCK_ENDPOINT_URL\"] = \"<YOUR_ENDPOINT_URL>\"  # E.g. \"https://...\""
   ]
  },
  {
   "cell_type": "code",
   "execution_count": 30,
   "id": "cab9312c-5f61-4730-96c3-5eef54a5f08c",
   "metadata": {
    "tags": []
   },
   "outputs": [
    {
     "name": "stdout",
     "output_type": "stream",
     "text": [
      "Create new client\n",
      "  Using region: None\n",
      "  Using profile: None\n",
      "boto3 Bedrock client successfully created!\n",
      "bedrock-runtime(https://bedrock-runtime.us-west-2.amazonaws.com)\n",
      "\u001b[32m\n",
      "== FM lists ==\u001b[0m\n",
      "{'Claude-Instant-V1': 'anthropic.claude-instant-v1',\n",
      " 'Claude-V1': 'anthropic.claude-v1',\n",
      " 'Claude-V2': 'anthropic.claude-v2',\n",
      " 'Claude-V2-1': 'anthropic.claude-v2:1',\n",
      " 'Claude-V3-Sonnet': 'anthropic.claude-3-sonnet-20240229-v1:0',\n",
      " 'Cohere-Embeddings-En': 'cohere.embed-english-v3',\n",
      " 'Cohere-Embeddings-Multilingual': 'cohere.embed-multilingual-v3',\n",
      " 'Command': 'cohere.command-text-v14',\n",
      " 'Command-Light': 'cohere.command-light-text-v14',\n",
      " 'Jurassic-2-Mid': 'ai21.j2-mid-v1',\n",
      " 'Jurassic-2-Ultra': 'ai21.j2-ultra-v1',\n",
      " 'Llama2-13b-Chat': 'meta.llama2-13b-chat-v1',\n",
      " 'Titan-Embeddings-G1': 'amazon.titan-embed-text-v1',\n",
      " 'Titan-Text-G1': 'amazon.titan-text-express-v1',\n",
      " 'Titan-Text-G1-Light': 'amazon.titan-text-lite-v1'}\n"
     ]
    }
   ],
   "source": [
    "boto3_bedrock = bedrock.get_bedrock_client(\n",
    "    assumed_role=os.environ.get(\"BEDROCK_ASSUME_ROLE\", None),\n",
    "    endpoint_url=os.environ.get(\"BEDROCK_ENDPOINT_URL\", None),\n",
    "    region=os.environ.get(\"AWS_DEFAULT_REGION\", None),\n",
    ")\n",
    "\n",
    "aws_region = os.environ.get(\"AWS_DEFAULT_REGION\", None)\n",
    "print (colored(\"\\n== FM lists ==\", \"green\"))\n",
    "pprint (bedrock_info.get_list_fm_models(verbose=False))"
   ]
  },
  {
   "cell_type": "markdown",
   "id": "241a9e34-417a-422f-9f75-cb211b2e70e1",
   "metadata": {
    "tags": []
   },
   "source": [
    "## 2. Titan Embedding 및 LLM 인 Claude-v2 모델 로딩"
   ]
  },
  {
   "cell_type": "markdown",
   "id": "29bf63d2-4110-407c-af06-a45d2fbed4b5",
   "metadata": {},
   "source": [
    "### LLM 로딩 (Claude-v2)"
   ]
  },
  {
   "cell_type": "code",
   "execution_count": 31,
   "id": "9c51443a-04f9-465c-9564-53053eb3e1c2",
   "metadata": {
    "tags": []
   },
   "outputs": [],
   "source": [
    "from langchain.llms.bedrock import Bedrock\n",
    "from langchain.callbacks.streaming_stdout import StreamingStdOutCallbackHandler"
   ]
  },
  {
   "cell_type": "code",
   "execution_count": 32,
   "id": "d09e84e0-b9e1-4b12-8e7a-68f03c5416e5",
   "metadata": {
    "tags": []
   },
   "outputs": [
    {
     "data": {
      "text/plain": [
       "Bedrock(client=<botocore.client.BedrockRuntime object at 0x7fc8a72d6ef0>, model_id='anthropic.claude-v2:1', model_kwargs={'max_tokens_to_sample': 4000, 'temperature': 0.1, 'top_k': 3, 'top_p': 0.1, 'stop_sequences': ['\\n\\nHuman:']}, streaming=True, callbacks=[<langchain_core.callbacks.streaming_stdout.StreamingStdOutCallbackHandler object at 0x7fc8b0a8bd00>])"
      ]
     },
     "execution_count": 32,
     "metadata": {},
     "output_type": "execute_result"
    }
   ],
   "source": [
    "llm_text = Bedrock(\n",
    "    model_id=bedrock_info.get_model_id(model_name=\"Claude-V2-1\"),\n",
    "    client=boto3_bedrock,\n",
    "    model_kwargs={\n",
    "        \"max_tokens_to_sample\": 4000,\n",
    "        \"temperature\": 0.1,\n",
    "        \"top_k\": 3,\n",
    "        \"top_p\": 0.1,\n",
    "        \"stop_sequences\": [\"\\n\\nHuman:\"]\n",
    "    },\n",
    "    streaming=True,\n",
    "    callbacks=[StreamingStdOutCallbackHandler()]\n",
    ")\n",
    "llm_text"
   ]
  },
  {
   "cell_type": "markdown",
   "id": "3ba2e829-af8f-4e90-b994-59106cdec8d8",
   "metadata": {},
   "source": [
    "### Embedding 모델 선택"
   ]
  },
  {
   "cell_type": "code",
   "execution_count": 33,
   "id": "0b7b8752-d1e3-4f41-ba35-6da42c3785db",
   "metadata": {
    "tags": []
   },
   "outputs": [],
   "source": [
    "from utils.rag import KoSimCSERobertaContentHandler, SagemakerEndpointEmbeddingsJumpStart"
   ]
  },
  {
   "cell_type": "code",
   "execution_count": 34,
   "id": "793b03f7-3186-4969-b76a-98fe56bd5fdc",
   "metadata": {
    "tags": []
   },
   "outputs": [],
   "source": [
    "def get_embedding_model(is_bedrock_embeddings, is_KoSimCSERobert, aws_region, endpont_name=None):\n",
    "    \n",
    "    if is_bedrock_embeddings:\n",
    "        # We will be using the Titan Embeddings Model to generate our Embeddings.\n",
    "        from langchain.embeddings import BedrockEmbeddings\n",
    "        llm_emb = BedrockEmbeddings(\n",
    "            client=boto3_bedrock,\n",
    "            model_id=bedrock_info.get_model_id(\n",
    "                model_name=\"Titan-Embeddings-G1\"\n",
    "            )\n",
    "        )\n",
    "        print(\"Bedrock Embeddings Model Loaded\")\n",
    "\n",
    "    elif is_KoSimCSERobert:\n",
    "        LLMEmbHandler = KoSimCSERobertaContentHandler()\n",
    "        endpoint_name_emb = endpont_name\n",
    "        llm_emb = SagemakerEndpointEmbeddingsJumpStart(\n",
    "            endpoint_name=endpoint_name_emb,\n",
    "            region_name=aws_region,\n",
    "            content_handler=LLMEmbHandler,\n",
    "        )\n",
    "        print(\"KoSimCSERobert Embeddings Model Loaded\")\n",
    "    else:\n",
    "        llm_emb = None\n",
    "        print(\"No Embedding Model Selected\")\n",
    "\n",
    "    return llm_emb"
   ]
  },
  {
   "cell_type": "markdown",
   "id": "cd72a6b8-eaf0-4036-a530-3bde5ba988cd",
   "metadata": {},
   "source": [
    "#### [중요] is_KoSimCSERobert == True 일시에 endpoint_name 을 꼭 넣어 주세요."
   ]
  },
  {
   "cell_type": "code",
   "execution_count": 35,
   "id": "f42e032b-8715-432c-ae71-12a889f8ffc0",
   "metadata": {
    "tags": []
   },
   "outputs": [
    {
     "name": "stdout",
     "output_type": "stream",
     "text": [
      "Bedrock Embeddings Model Loaded\n"
     ]
    }
   ],
   "source": [
    "is_bedrock_embeddings = True\n",
    "is_KoSimCSERobert = False\n",
    "aws_region = os.environ.get(\"AWS_DEFAULT_REGION\", None)\n",
    "\n",
    "##############################\n",
    "# Parameters for is_KoSimCSERobert\n",
    "##############################\n",
    "if is_KoSimCSERobert: endpont_name = \"<endpoint-name>\"\n",
    "else: endpont_name = None\n",
    "##############################\n",
    "\n",
    "llm_emb = get_embedding_model(is_bedrock_embeddings, is_KoSimCSERobert, aws_region, endpont_name)   "
   ]
  },
  {
   "cell_type": "markdown",
   "id": "e10b67d5-382e-4715-a841-eb07b8655da8",
   "metadata": {},
   "source": [
    "## 3. Depoly ReRanker model (if needed)"
   ]
  },
  {
   "cell_type": "code",
   "execution_count": 36,
   "id": "9a08a296-41ef-44cb-857b-63d05a8d187c",
   "metadata": {
    "tags": []
   },
   "outputs": [],
   "source": [
    "import json\n",
    "import sagemaker\n",
    "from sagemaker.huggingface import HuggingFaceModel"
   ]
  },
  {
   "cell_type": "code",
   "execution_count": 37,
   "id": "33dd04a7-8200-49e7-ae69-55a82be199b4",
   "metadata": {
    "tags": []
   },
   "outputs": [],
   "source": [
    "depoly = False"
   ]
  },
  {
   "cell_type": "code",
   "execution_count": 38,
   "id": "9d40e3dd-a19f-4af3-831a-0cfe79e72cb3",
   "metadata": {
    "tags": []
   },
   "outputs": [],
   "source": [
    "if depoly:\n",
    "\n",
    "    try:\n",
    "        role = sagemaker.get_execution_role()\n",
    "    except ValueError:\n",
    "        iam = boto3.client('iam')\n",
    "        role = iam.get_role(RoleName='sagemaker_execution_role')['Role']['Arn']\n",
    "\n",
    "    # Hub Model configuration. https://huggingface.co/models\n",
    "    hub = {\n",
    "        'HF_MODEL_ID':'Dongjin-kr/ko-reranker',\n",
    "        'HF_TASK':'text-classification'\n",
    "    }\n",
    "\n",
    "    # create Hugging Face Model Class\n",
    "    huggingface_model = HuggingFaceModel(\n",
    "        transformers_version='4.26.0',\n",
    "        pytorch_version='1.13.1',\n",
    "        py_version='py39',\n",
    "        env=hub,\n",
    "        role=role, \n",
    "    )\n",
    "\n",
    "    # deploy model to SageMaker Inference\n",
    "    predictor = huggingface_model.deploy(\n",
    "        initial_instance_count=1, # number of instances\n",
    "        instance_type='ml.g5.xlarge' # instance type\n",
    "    )\n",
    "\n",
    "    print(f'Accept: {predictor.accept}')\n",
    "    print(f'ContentType: {predictor.content_type}')\n",
    "    print(f'Endpoint: {predictor.endpoint}')"
   ]
  },
  {
   "cell_type": "markdown",
   "id": "20e648ef-01ec-4e2f-ba88-7d2510fdb7a6",
   "metadata": {},
   "source": [
    "## 4. Invocation (prediction)"
   ]
  },
  {
   "cell_type": "code",
   "execution_count": 39,
   "id": "d0e06044-ac6b-468d-a106-8fbeb4a555f6",
   "metadata": {
    "tags": []
   },
   "outputs": [],
   "source": [
    "from utils.ssm import parameter_store"
   ]
  },
  {
   "cell_type": "code",
   "execution_count": 40,
   "id": "ac71912f-b121-424d-97e9-6bfbed2633bf",
   "metadata": {
    "tags": []
   },
   "outputs": [],
   "source": [
    "region=boto3.Session().region_name\n",
    "pm = parameter_store(region)"
   ]
  },
  {
   "cell_type": "code",
   "execution_count": 41,
   "id": "114be617-a687-4733-abb9-30394c7ef35f",
   "metadata": {
    "tags": []
   },
   "outputs": [
    {
     "name": "stdout",
     "output_type": "stream",
     "text": [
      "runtime_client: <botocore.client.SageMakerRuntime object at 0x7fc8b0a7abc0>\n"
     ]
    }
   ],
   "source": [
    "runtime_client = boto3.Session().client('sagemaker-runtime')\n",
    "print (f'runtime_client: {runtime_client}')"
   ]
  },
  {
   "cell_type": "code",
   "execution_count": 42,
   "id": "26ee5c45-de87-4a2b-bc04-bbc649fcd0c6",
   "metadata": {
    "tags": []
   },
   "outputs": [],
   "source": [
    "endpoint_name = pm.get_params(\n",
    "    key=\"reranker_endpoint\",\n",
    "    enc=False\n",
    ")\n",
    "deserializer = \"application/json\""
   ]
  },
  {
   "cell_type": "code",
   "execution_count": 43,
   "id": "bd6288ed-b4fa-466f-9e2b-57484b827b0a",
   "metadata": {
    "tags": []
   },
   "outputs": [],
   "source": [
    "payload = json.dumps(\n",
    "    {\n",
    "        \"inputs\": [\n",
    "            {\"text\": \"I hate you\", \"text_pair\": \"I don't like you\"},\n",
    "            {\"text\": \"He hates you\", \"text_pair\": \"He like you\"}\n",
    "        ]\n",
    "    }\n",
    ")"
   ]
  },
  {
   "cell_type": "code",
   "execution_count": 44,
   "id": "124fd3f0-2b81-4b2b-af97-2f22b101f25d",
   "metadata": {
    "tags": []
   },
   "outputs": [],
   "source": [
    "payload = json.dumps(\n",
    "    {\n",
    "        \"inputs\": [\n",
    "            {\"text\": \"나는 너를 사랑하지 않아\", \"text_pair\": \"나는 너를 좋아하지 않아\"},\n",
    "            {\"text\": \"그는 너를 싫어해\", \"text_pair\": \"그는 너를 좋아해\"}\n",
    "        ]\n",
    "    }\n",
    ")"
   ]
  },
  {
   "cell_type": "code",
   "execution_count": 45,
   "id": "c1eebe88-8b92-4e81-a103-b5a5d7a91bb3",
   "metadata": {
    "tags": []
   },
   "outputs": [
    {
     "name": "stdout",
     "output_type": "stream",
     "text": [
      "Response: [{'label': 'LABEL_0', 'score': 0.9984032511711121}, {'label': 'LABEL_0', 'score': 0.004707992542535067}]\n",
      "CPU times: user 19.6 ms, sys: 534 µs, total: 20.1 ms\n",
      "Wall time: 92.4 ms\n"
     ]
    }
   ],
   "source": [
    "%%time\n",
    "response = runtime_client.invoke_endpoint(\n",
    "    EndpointName=endpoint_name,\n",
    "    ContentType=\"application/json\",\n",
    "    Accept=deserializer,\n",
    "    Body=payload\n",
    ")\n",
    "## deserialization\n",
    "out = json.loads(response['Body'].read().decode()) ## for json\n",
    "print (f'Response: {out}')"
   ]
  },
  {
   "cell_type": "markdown",
   "id": "7e432237-b9b5-4be3-aa0c-c30eeca6f480",
   "metadata": {},
   "source": [
    "## 5. LangChain OpenSearch VectorStore 정의\n",
    "### 선수 조건\n",
    "- 01_preprocess_docs/02_load_docs_opensearch.ipynb를 통해서 OpenSearch Index 가 생성이 되어 있어야 합니다.\n",
    "#### [중요] 아래에 aws parameter store 에 아래 인증정보가 먼저 입력되어 있어야 합니다.\n",
    "- 01_preprocess_docs/01_parameter_store_example.ipynb 참고"
   ]
  },
  {
   "cell_type": "code",
   "execution_count": 46,
   "id": "42d192b6-68ce-465e-9fa7-04b5201f4453",
   "metadata": {
    "tags": []
   },
   "outputs": [],
   "source": [
    "opensearch_domain_endpoint = pm.get_params(\n",
    "    key=\"opensearch_domain_endpoint\",\n",
    "    enc=False\n",
    ")\n",
    "\n",
    "opensearch_user_id = pm.get_params(\n",
    "    key=\"opensearch_user_id\",\n",
    "    enc=False\n",
    ")\n",
    "\n",
    "opensearch_user_password = pm.get_params(\n",
    "    key=\"opensearch_user_password\",\n",
    "    enc=True\n",
    ")"
   ]
  },
  {
   "cell_type": "code",
   "execution_count": 47,
   "id": "fc7866fd-fd9c-4b41-b600-a91e43edfe4d",
   "metadata": {
    "tags": []
   },
   "outputs": [],
   "source": [
    "opensearch_domain_endpoint = opensearch_domain_endpoint\n",
    "rag_user_name = opensearch_user_id\n",
    "rag_user_password = opensearch_user_password\n",
    "\n",
    "http_auth = (rag_user_name, rag_user_password) # Master username, Master password"
   ]
  },
  {
   "cell_type": "markdown",
   "id": "161a900e-effc-4d7f-a179-b6c00eac03ad",
   "metadata": {
    "tags": []
   },
   "source": [
    "### Index 이름 셋팅\n",
    "- 이전 노트북 01_preprocess_docs/02_load_docs_opensearch.ipynb를 통해서 생성된 OpenSearch Index name 입력\n",
    "- parent document 용으로 생성된 index 사용할 것 "
   ]
  },
  {
   "cell_type": "code",
   "execution_count": 48,
   "id": "d5d9b5eb-052e-4e84-846b-c5385e853ba4",
   "metadata": {
    "tags": []
   },
   "outputs": [
    {
     "name": "stdout",
     "output_type": "stream",
     "text": [
      "index_name: v01-genai-poc-parent-doc-retriever\n"
     ]
    }
   ],
   "source": [
    "index_name = opensearch_user_password = pm.get_params(\n",
    "    key=\"opensearch_index_name\",\n",
    "    enc=True\n",
    ")\n",
    "\n",
    "print (f'index_name: {index_name}')"
   ]
  },
  {
   "cell_type": "markdown",
   "id": "482f5785-b88d-44fa-a603-080e4bd734a6",
   "metadata": {},
   "source": [
    "### OpenSearch Client 생성"
   ]
  },
  {
   "cell_type": "code",
   "execution_count": 49,
   "id": "968b7502-5799-4702-bc17-959e88c330a2",
   "metadata": {
    "tags": []
   },
   "outputs": [],
   "source": [
    "from utils.opensearch import opensearch_utils"
   ]
  },
  {
   "cell_type": "code",
   "execution_count": 50,
   "id": "6ceb46a1-e425-4f7e-9319-793b55abb938",
   "metadata": {
    "tags": []
   },
   "outputs": [],
   "source": [
    "os_client = opensearch_utils.create_aws_opensearch_client(\n",
    "    aws_region,\n",
    "    opensearch_domain_endpoint,\n",
    "    http_auth\n",
    ")"
   ]
  },
  {
   "cell_type": "markdown",
   "id": "a5084376-7523-4cf9-9123-adc4ae79f66d",
   "metadata": {
    "tags": []
   },
   "source": [
    "## 6. Retriever based on Hybrid Search + ParentDocument + ReRanker\n",
    "- LangChain에서 제공하는 **BaseRetriever** 클래스를 상속받아 **Custom Retriever**를 정의 할 수 있습니다.\n",
    "- Hybrid-Search에 대한 자세한 내용는 **\"01_rag_hybrid_search.ipyno\"** 에서 확인 가능합니다.\n",
    "- [Parent Document](https://towardsdatascience.com/forget-rag-the-future-is-rag-fusion-1147298d8ad1)\n",
    "![parent-document.png](../../../imgs/parent-document.png)"
   ]
  },
  {
   "cell_type": "markdown",
   "id": "29cf3877-ed50-4ca6-b319-fca654f011cc",
   "metadata": {
    "tags": []
   },
   "source": [
    "## Parent documents in Hybrid search\n",
    "- Lexical search: parent documents only\n",
    "- Semantic search: child documents first, getting parent documents corresponding to that child document"
   ]
  },
  {
   "cell_type": "code",
   "execution_count": 51,
   "id": "5db8e470-63a9-4c3d-94c8-1d270a6da822",
   "metadata": {
    "tags": []
   },
   "outputs": [],
   "source": [
    "from utils.rag import OpenSearchHybridSearchRetriever"
   ]
  },
  {
   "cell_type": "markdown",
   "id": "d7feac2f-21a2-4756-b989-66c180bb1e79",
   "metadata": {},
   "source": [
    "- 필터 설정 예시\n",
    "- filter=[ <BR>\n",
    "    　{\"term\": {\"metadata.[**your_metadata_attribute_name**]\": \"**your first keyword**\"}}, <BR>\n",
    "    　{\"term\": {\"metadata.[**your_metadata_attribute_name**]\": \"**your second keyword**\"}},<BR>\n",
    "]"
   ]
  },
  {
   "cell_type": "code",
   "execution_count": 52,
   "id": "49c7e131-294f-4ff8-9331-989709c7079c",
   "metadata": {
    "tags": []
   },
   "outputs": [],
   "source": [
    "opensearch_hybrid_retriever = OpenSearchHybridSearchRetriever(\n",
    "    os_client=os_client,\n",
    "    index_name=index_name,\n",
    "    llm_text=llm_text, # llm for query augmentation in both rag_fusion and HyDE\n",
    "    llm_emb=llm_emb, # Used in semantic search based on opensearch \n",
    "\n",
    "    # option for lexical\n",
    "    minimum_should_match=0,\n",
    "    filter=[],\n",
    "\n",
    "    # option for search\n",
    "    fusion_algorithm=\"RRF\", # [\"RRF\", \"simple_weighted\"], rank fusion 방식 정의\n",
    "    ensemble_weights=[.51, .49], # [for semantic, for lexical], Semantic, Lexical search 결과에 대한 최종 반영 비율 정의\n",
    "    reranker=True, # enable reranker with reranker model\n",
    "    reranker_endpoint_name=endpoint_name, # endpoint name for reranking model\n",
    "    parent_document = True, # enable parent document\n",
    "\n",
    "    # option for async search\n",
    "    async_mode=True,\n",
    "\n",
    "    # option for output\n",
    "    k=5, # 최종 Document 수 정의\n",
    "    verbose=True,\n",
    ")"
   ]
  },
  {
   "cell_type": "markdown",
   "id": "cfb26835-ad98-41c5-9e9d-2453642e3551",
   "metadata": {},
   "source": [
    "### Retrieval example\n",
    "- default search"
   ]
  },
  {
   "cell_type": "code",
   "execution_count": 53,
   "id": "9c06e89f-79de-413c-ba9c-a188ca3fe2d0",
   "metadata": {
    "tags": []
   },
   "outputs": [],
   "source": [
    "from utils.rag import show_context_used"
   ]
  },
  {
   "cell_type": "code",
   "execution_count": 54,
   "id": "fe3bfee3-dac1-45b9-8795-03e36c1632a9",
   "metadata": {
    "tags": []
   },
   "outputs": [],
   "source": [
    "#query = \"vidio max size?\"\n",
    "query = \"What is knox?\""
   ]
  },
  {
   "cell_type": "code",
   "execution_count": 55,
   "id": "05b13e5e-4a66-4dc8-b18c-42a6e3bd6037",
   "metadata": {
    "tags": []
   },
   "outputs": [
    {
     "name": "stdout",
     "output_type": "stream",
     "text": [
      "===== ParentDocument =====\n",
      "filter: [{'term': {'metadata.family_tree': 'child'}}]\n",
      "# child_docs: 5\n",
      "# parent docs: 5\n",
      "# duplicates: 0\n",
      "##############################\n",
      "async_mode\n",
      "##############################\n",
      "True\n",
      "##############################\n",
      "reranker\n",
      "##############################\n",
      "True\n",
      "##############################\n",
      "rag_fusion\n",
      "##############################\n",
      "False\n",
      "##############################\n",
      "HyDE\n",
      "##############################\n",
      "False\n",
      "##############################\n",
      "parent_document\n",
      "##############################\n",
      "True\n",
      "##############################\n",
      "similar_docs_semantic\n",
      "##############################\n",
      "\n",
      "Score: 1.0\n",
      "['Knox knowledge base articles']\n",
      "{'source': 'all_processed_data.json', 'seq_num': 256, 'title': 'Knox knowledge base articles', 'url': 'https://docs.samsungknox.com/admin/fundamentals/kbas', 'project': 'USP', 'last_updated': '2023-07-26', 'family_tree': 'child', 'parent_id': '00e1f1a7-a357-4a35-b072-b5d24c187b86', 'id': '8c0693e3-4e00-4687-b45b-47b2bdf62734'}\n",
      "\n",
      "Score: 0.9331517242798636\n",
      "['. Knox service Pricing Supported license keys Trial license and where to get it Server type Knox Mobile Enrollment Free No license key required No license key required Cloud Knox Mobile Enrollment(Advanced profile) Paid Knox Suite Knox Suite trial key (Knox Admin Portal) Cloud Knox Manage Paid Knox Suite Knox Manage key Knox Suite trial key (Knox Admin Portal) Cloud Knox E-FOTA Paid Knox Suite Knox E-FOTA key Knox Suite trial key (Knox Admin Portal) Cloud Knox Asset Intelligence Paid Knox Suite Knox Asset Intelligence key Knox Suite trial key (Knox Admin Portal) Cloud Knox Remote Support Paid Knox Suite Knox Manage key Knox Suite trial key (Knox Admin Portal) Cloud Knox Configure Paid Knox Configure key Knox Configure trial key (Knox Admin Portal) Cloud Knox Guard Paid Knox Guard key Knox Guard trial key (Knox Guard console) Cloud Samsung Care+ for Business Paid Samsung Care+ for Business key No trial available Cloud Knox Mobile Enrollment Direct Free No license key required No license key required']\n",
      "{'source': 'all_processed_data.json', 'seq_num': 150, 'title': 'Knox licenses', 'url': 'https://docs.samsungknox.com/admin/fundamentals/knox-licenses', 'project': 'USP', 'last_updated': '2023-07-26', 'family_tree': 'child', 'parent_id': 'd4d233e9-2d76-494c-9886-8a89f2a1819b', 'id': '65850dab-337b-4ec7-9002-a1b2e1c0c786'}\n",
      "\n",
      "Score: 0.9318079041784717\n",
      "[\"Sign in with a Samsung account. Sign up for a Knox account A Samsung Knox account is free and can be created in just a few minutes. With a Samsung Knox account, you can register for Knox services and get access to the Knox Admin Portal, which lets you easily manage your devices, admins, and licenses across each Knox service. To sign up for a Samsung Knox account, you need to link it to a Samsung account. If you don't yet have a Samsung account, you'll be prompted to create one when you sign up for SamsungKnox.com. To create your Knox account: 1. Go to SamsungKnox.com. 2. In the top-right corner, click GET STARTED. 3. Under Business email, enter the email address you use for work. 4. Select a Knox solution that you want to access - Knox Suite, Knox Configure, Knox Guard, Samsung Care + for Business, or Other products & services. If you want access to an individual Knox Suite service, such as Knox Mobile Enrollment, select Knox Suite. 5. Click CREATE MY ACCOUNT\"]\n",
      "{'source': 'all_processed_data.json', 'seq_num': 162, 'title': 'Sign in with a Samsung account', 'url': 'https://docs.samsungknox.com/admin/fundamentals/sign-up-for-samsung-knox/sign-in-with-a-samsung-account', 'project': 'USP', 'last_updated': '2023-08-23', 'family_tree': 'child', 'parent_id': 'a32897a3-5af8-46c1-9baf-8e4f49b543f0', 'id': 'b5e439d5-2ea2-4c64-9a07-74123e8fc4fb'}\n",
      "\n",
      "Score: 0.9290619396176194\n",
      "[\"The Samsung Knox platform. Samsung Knox brings defense-grade security on the most popular consumer devices to all enterprises. The Knox Platform provides best-in-class hardware-based security, policy management, and compliance capabilities beyond the standard features commonplace in today's mobile device market. The Knox Platform is the cornerstone of a strong mobile security strategy supporting a wide variety of Samsung devices. Why use Samsung Knox? The Knox Platform helps you and your enterprise avoid the security gaps common on many mobile platforms. Knox received *strong* ratings in 25 of 28 categories in Gartner's December 2017 Mobile OSs and Device Security: A Comparison of Platforms and has received strong ratings for the last three years in a row. The Knox Platform's security hardening supports every aspect of mobile device operation. The Knox Platform enables trust in your mobile endpoints with advanced features like the evolutionary Knox Vault to the patented Real-Time Kernel Protection\"]\n",
      "{'source': 'all_processed_data.json', 'seq_num': 168, 'title': 'The Samsung Knox platform', 'url': 'https://docs.samsungknox.com/admin/fundamentals/whitepaper/the-samsung-knox-platform', 'project': 'USP', 'last_updated': '2023-07-26', 'family_tree': 'child', 'parent_id': 'f1cfdf2b-36dc-4a26-8176-ec386728eb39', 'id': '78298895-c50a-40a0-a145-605b471133a0'}\n",
      "\n",
      "Score: 0.9283034348395772\n",
      "[\"Knox Manage features. Component Name Description 1 Knox Manage admin portal Configures and manages Knox Manage environments. 2 Knox Manage agent An application installed on Android, iOS, and Windows devices. 3 Knox Manage server Knox Manage cloud server 4 Knox Manage Cloud Connector Transfers data securely between the client's enterprise server and the Knox Manage server. For more information, see Using Cloud Connector. 5 Lightweight Directory Access Protocol Imports the client's directory-based user information. For more information, see Sync user information with AD/LDAP and Integrate a directory server. 6 Certificate Authority Generates certificates for authentication when using a network, such as Wi-Fi, VPN, Exchange, or APN. For more information, see Certificate authority (CA). For a complete listing of all features, see the Knox Manage feature list.\"]\n",
      "{'source': 'all_processed_data.json', 'seq_num': 969, 'title': 'Knox Manage features', 'url': 'https://docs.samsungknox.com/admin/knox-manage/introduction/key-features/knox-manage-features', 'project': 'KM', 'last_updated': '2023-07-26', 'family_tree': 'child', 'parent_id': '8ee3b05f-bb48-41ae-96a7-b911912bbf56', 'id': '02539bea-39a1-4118-9661-316ce53596c9'}\n",
      "\n",
      "Score: 0.9270623100616721\n",
      "[\"Latest videos. Watch the latest videos to learn how Knox services work. Title , Description - , - Getting started with Knox Admin Portal , The Knox Admin Portal is the hub for all your Knox services, designed to provide a cohesive user experience. This video walks you through how to get started with the Knox Admin Portal so that it can help streamline your device management operations and help you manage your resources across services more easily. Getting started with Knox Suite , Knox Suite is an all-in-one solution, built for enterprise mobility. This video walks you through how to get started with the Knox Suite so that it can help address your enterprise's needs related to security and management throughout the entire device lifecycle. Getting started with Knox Mobile Enrollment , Knox Mobile Enrollment is an automated EMM enrollment tool for provisioning devices quickly and easily, out-of-the-box. Broad-ranging deployment and security features ensure ease of enrollment, in any situation\"]\n",
      "{'source': 'all_processed_data.json', 'seq_num': 151, 'title': 'Latest videos', 'url': 'https://docs.samsungknox.com/admin/fundamentals/latest-videos', 'project': 'USP', 'last_updated': '2023-11-10', 'family_tree': 'child', 'parent_id': 'e0025b33-9c8a-4815-b7d7-090334b5acb4', 'id': 'e6d75886-fbd8-49cf-979f-e4e0515a221f'}\n",
      "\n",
      "Score: 0.9260386496628273\n",
      "['Knox Suite. Knox Suite is a bundled offering of Knox solutions for enterprise mobility designed to address organizations\\' needs related to security and management throughout the entire device lifecycle. Learn more about Knox Suite #Audience This document is intended for IT Admins. Understand what\\'s included in Knox Suite and how you can use it to manage, secure, and maintain enterprise devices. Learn where to find information on how to perform various tasks with Knox\"Suite services. About Knox Suite Knox Suite is a bundled offering that includes the following Knox products: Knox Platform for Enterprise - A Knox solution that provides military-grade security to Samsung Android phones, tablets, and Tizen watches for business. Knox Mobile Enrollment - A Knox solution that allows you to enroll thousands of Samsung devices in your EMM at once. When used with a Knox Suite license, Knox Mobile Enrollment provides advanced profiles that offer IT admins additional features such as higher control over locking devices']\n",
      "{'source': 'all_processed_data.json', 'seq_num': 124, 'title': 'Knox Suite', 'url': 'https://docs.samsungknox.com/admin/knox-suite', 'project': 'KS', 'last_updated': '2023-07-26', 'family_tree': 'child', 'parent_id': '1746ccb3-35d8-448c-aebd-2608f2096337', 'id': '32e7e898-1754-485b-941d-15cf63a49d24'}\n",
      "None\n",
      "##############################\n",
      "similar_docs_keyword\n",
      "##############################\n",
      "\n",
      "Score: 1.0\n",
      "['Wi-Fi Enhanced Roaming Algorithm File-based encryption (FBE) and full-disk encryption (FDE) What policy do I use to block users from adding additional accounts on the device? \"Network may be monitored\" shown after installing a private CA certificate on device Does the Samsung email client support \"opaque signed\" emails? Can a network operator configure an E_APN on an employee\\'s device? If two similar Knox policies are applied to a device with an MDM, which one takes precedence? Should the Knox VPN client be installed inside or outside the Knox container? What are the package names for the Samsung Cisco AnyConnect and Juniper VPN clients? What is the minimum level of unlock method required to install a certificate in Android credential storage? What is the proper way to wildcard APK package names? Which servers do EMMs need to communicate with in order to conduct device attestation? What is the order of precedence for firewall rules? What URLs do I have to add to an allowlist to make Samsung apps work with an']\n",
      "{'source': 'all_processed_data.json', 'seq_num': 1656, 'title': 'Knox Platform for Enterprise knowledge base articles', 'url': 'https://docs.samsungknox.com/admin/knox-platform-for-enterprise/kbas', 'project': 'KPE', 'last_updated': '2023-11-06', 'family_tree': 'child', 'parent_id': 'da6f49da-a678-4f6c-b25d-0a46f049fc91', 'id': 'd76d56b6-b402-4dd4-99c1-b92749f2fa9a'}\n",
      "\n",
      "Score: 0.9963191283536638\n",
      "['. What is an Approval ID? Who uploads devices to Knox Guard? What does a Complete device status mean in Knox Guard? What are the options for stopping payment blink reminders on an overdue device? How do I restrict a device to a particular telecom operator? How do I restrict a device to the first inserted SIM of an allowed telecom operator?']\n",
      "{'source': 'all_processed_data.json', 'seq_num': 734, 'title': 'Knox Guard knowledge base articles', 'url': 'https://docs.samsungknox.com/admin/knox-guard/kbas', 'project': 'KG', 'last_updated': '2023-07-26', 'family_tree': 'child', 'parent_id': 'bb4991b5-1e0e-47ff-89af-4e452dfed580', 'id': 'c10b6c77-2aa6-4027-8254-b7eb9265cd20'}\n",
      "\n",
      "Score: 0.9866844650432759\n",
      "['way to wildcard APK package names? Which servers do EMMs need to communicate with in order to conduct device attestation? What is the order of precedence for firewall rules? What URLs do I have to add to an allowlist to make Samsung apps work with an authenticated proxy? Can I disable power saving mode on Knox supported devices? If I cannot resolve an SE for Android issue, who do I escalate to? Is there a way to automatically enable email sync while roaming? What does the term \"Maximum number of licenses\" mean for KPE Standard licenses? Knox legacy workspace articles Using SSO with a Common Access Card (CAC) in the Work Profile How many certificates can be stored in the Knox platform TrustZone? Accessing Knox Workspace without connecting to Active Directory network Unlocking the Knox Workspace container using Active Directory credentials What is the certificate length limit in the Knox CCM keystore? Can I create an RSA Key Pair on a Knox Platform for Enterprise device? Known issues Unable to install Samsung']\n",
      "{'source': 'all_processed_data.json', 'seq_num': 1656, 'title': 'Knox Platform for Enterprise knowledge base articles', 'url': 'https://docs.samsungknox.com/admin/knox-platform-for-enterprise/kbas', 'project': 'KPE', 'last_updated': '2023-11-06', 'family_tree': 'child', 'parent_id': 'da6f49da-a678-4f6c-b25d-0a46f049fc91', 'id': '90d363ae-6d2f-4d06-a35f-785cb4594b6d'}\n",
      "\n",
      "Score: 0.9806826541509089\n",
      "[\"Overview. Get started with the basics by learning what Knox Capture is and how it works. What is Knox Capture? To help explain what Knox Capture does, it may be helpful to start with an understanding of what a *wedge* scanner is, and how it relates to the Knox Capture solution. In traditional hardware-based barcode scanning terminology, a wedge scanner is a physical device that attaches between a keyboard and a computer. The keyboard attaches to the scanner, and the scanner attaches to the computer. From the computer's perspective, the scanner behaves just like an additional keyboard. When the computer runs a software program (like an inventory spreadsheet app), and barcodes are read using the wedge scanner, data is sent from the scanner to the program in the form of keystrokes. From the program's point of view, data appears exactly as if someone had typed it manually using a keyboard. How Knox Capture works In a similar way, Knox Capture also acts as a wedge between a software program and keyboard\"]\n",
      "{'source': 'all_processed_data.json', 'seq_num': 558, 'title': 'Overview', 'url': 'https://docs.samsungknox.com/admin/knox-capture/overview', 'project': 'KCAP', 'last_updated': '2023-07-26', 'family_tree': 'child', 'parent_id': '0bd1fb21-e613-40ba-9d24-27d0f9613b6a', 'id': '79a0567f-9798-446d-97e7-951f6da2e19f'}\n",
      "\n",
      "Score: 0.953541196586424\n",
      "['What do you mean by \\'backed by the hardware-based Knox platform security\\'?. The most frequently asked questions about Knox Platform for Enterprise. Knox Workspace leverages and extends the security features of the underlying Knox platform, which is built into Samsung smartphones, tablets, and other devices. The Knox platform leverages a \"completely isolated\" hardware region called TrustZone where cryptographic keys are stored, and this area is completely impervious to attack and inaccessible. That\\'s what Samsung means by \"hardware-based\" security. If the device is ever compromised, Knox Workspace is permanently locked because the encryption key for Workspace will never be retrievable from the HW chipset where the key has been stored. Data inside Knox Workspace becomes completely inaccessible, and enterprises keep their important data from being lost or stolen.']\n",
      "{'source': 'all_processed_data.json', 'seq_num': 1514, 'title': \"What do you mean by 'backed by the hardware-based Knox platform security'?\", 'url': 'https://docs.samsungknox.com/admin/knox-platform-for-enterprise/faq/#what-do-you-mean-by-backed-by-the-hardware-based-knox-platform-security', 'project': 'KPE', 'last_updated': '2023-07-26', 'family_tree': 'child', 'parent_id': '47ebe431-e8c4-409f-9f80-e09c43d6c637', 'id': 'fc05f7b1-bbd9-4fae-aa74-132e6b0ad782'}\n",
      "\n",
      "Score: 0.9425598613537753\n",
      "['What version of Knox Platform for Enterprise is running on my device?. The most frequently asked questions about Knox Platform for Enterprise. To find out what version of Knox Platform for Enterprise your device is running, go to: Settings > About Device > Software Information > Knox Version. This is a screenshot of the device menu containing the Knox version. Here, we see that Knox 3.1 is listed under Knox version. #Looking for more information? , See Knox on Android for a list of features available in each release of Knox.']\n",
      "{'source': 'all_processed_data.json', 'seq_num': 1499, 'title': 'What version of Knox Platform for Enterprise is running on my device?', 'url': 'https://docs.samsungknox.com/admin/knox-platform-for-enterprise/faq/#what-version-of-knox-platform-for-enterprise-is-running-on-my-device', 'project': 'KPE', 'last_updated': '2023-07-26', 'family_tree': 'child', 'parent_id': 'd63f9527-5f8a-4652-ab0f-a8e103c24b22', 'id': '9aaae6ed-f860-472e-8853-aba04f1bec9c'}\n",
      "\n",
      "Score: 0.9289015245193796\n",
      "['. XCover/Active key settings - Select what happens when the device user presses the XCover key. The options available are: Application launch, Intent broadcasting, or MS Teams. When you select Application launch or Intent broadcasting, the screen refreshes to show fields that allow you to customize what happens when the key is pressed. Top key settings - Select what happens when the device user presses the top key. Use the fields under this heading to customize what happens when the key is pressed. Side key settings - Select what happens when the device user presses the side key. Use the fields under this heading to customize what happens when the key is pressed. You can specify that launching an app requires a double press. 6. On the General configuration screen, configure the following settings, and then click Continue: NFC settings - Set whether you want to enable the use of Near Field Communication (NFC) apps on the device']\n",
      "{'source': 'all_processed_data.json', 'seq_num': 1368, 'title': 'Setup and config for admins', 'url': 'https://docs.samsungknox.com/admin/knox-mobile-enrollment/on-premise/get-started/setup-and-config-for-admins', 'project': 'KME', 'last_updated': '2023-10-30', 'family_tree': 'child', 'parent_id': '28eb7843-98f8-4a31-9aeb-10630b09aaf7', 'id': '58b88040-8283-4b96-b54b-258ed2574a38'}\n",
      "None\n",
      "##############################\n",
      "similar_docs_without_reranker\n",
      "##############################\n",
      "\n",
      "Score: 0.008360655737704918\n",
      "['Knox knowledge base articles']\n",
      "{'source': 'all_processed_data.json', 'seq_num': 256, 'title': 'Knox knowledge base articles', 'url': 'https://docs.samsungknox.com/admin/fundamentals/kbas', 'project': 'USP', 'last_updated': '2023-07-26', 'family_tree': 'child', 'parent_id': '00e1f1a7-a357-4a35-b072-b5d24c187b86', 'id': '8c0693e3-4e00-4687-b45b-47b2bdf62734'}\n",
      "\n",
      "Score: 0.008225806451612904\n",
      "['. Knox service Pricing Supported license keys Trial license and where to get it Server type Knox Mobile Enrollment Free No license key required No license key required Cloud Knox Mobile Enrollment(Advanced profile) Paid Knox Suite Knox Suite trial key (Knox Admin Portal) Cloud Knox Manage Paid Knox Suite Knox Manage key Knox Suite trial key (Knox Admin Portal) Cloud Knox E-FOTA Paid Knox Suite Knox E-FOTA key Knox Suite trial key (Knox Admin Portal) Cloud Knox Asset Intelligence Paid Knox Suite Knox Asset Intelligence key Knox Suite trial key (Knox Admin Portal) Cloud Knox Remote Support Paid Knox Suite Knox Manage key Knox Suite trial key (Knox Admin Portal) Cloud Knox Configure Paid Knox Configure key Knox Configure trial key (Knox Admin Portal) Cloud Knox Guard Paid Knox Guard key Knox Guard trial key (Knox Guard console) Cloud Samsung Care+ for Business Paid Samsung Care+ for Business key No trial available Cloud Knox Mobile Enrollment Direct Free No license key required No license key required']\n",
      "{'source': 'all_processed_data.json', 'seq_num': 150, 'title': 'Knox licenses', 'url': 'https://docs.samsungknox.com/admin/fundamentals/knox-licenses', 'project': 'USP', 'last_updated': '2023-07-26', 'family_tree': 'child', 'parent_id': 'd4d233e9-2d76-494c-9886-8a89f2a1819b', 'id': '65850dab-337b-4ec7-9002-a1b2e1c0c786'}\n",
      "\n",
      "Score: 0.008095238095238095\n",
      "[\"Sign in with a Samsung account. Sign up for a Knox account A Samsung Knox account is free and can be created in just a few minutes. With a Samsung Knox account, you can register for Knox services and get access to the Knox Admin Portal, which lets you easily manage your devices, admins, and licenses across each Knox service. To sign up for a Samsung Knox account, you need to link it to a Samsung account. If you don't yet have a Samsung account, you'll be prompted to create one when you sign up for SamsungKnox.com. To create your Knox account: 1. Go to SamsungKnox.com. 2. In the top-right corner, click GET STARTED. 3. Under Business email, enter the email address you use for work. 4. Select a Knox solution that you want to access - Knox Suite, Knox Configure, Knox Guard, Samsung Care + for Business, or Other products & services. If you want access to an individual Knox Suite service, such as Knox Mobile Enrollment, select Knox Suite. 5. Click CREATE MY ACCOUNT\"]\n",
      "{'source': 'all_processed_data.json', 'seq_num': 162, 'title': 'Sign in with a Samsung account', 'url': 'https://docs.samsungknox.com/admin/fundamentals/sign-up-for-samsung-knox/sign-in-with-a-samsung-account', 'project': 'USP', 'last_updated': '2023-08-23', 'family_tree': 'child', 'parent_id': 'a32897a3-5af8-46c1-9baf-8e4f49b543f0', 'id': 'b5e439d5-2ea2-4c64-9a07-74123e8fc4fb'}\n",
      "\n",
      "Score: 0.008032786885245903\n",
      "['Wi-Fi Enhanced Roaming Algorithm File-based encryption (FBE) and full-disk encryption (FDE) What policy do I use to block users from adding additional accounts on the device? \"Network may be monitored\" shown after installing a private CA certificate on device Does the Samsung email client support \"opaque signed\" emails? Can a network operator configure an E_APN on an employee\\'s device? If two similar Knox policies are applied to a device with an MDM, which one takes precedence? Should the Knox VPN client be installed inside or outside the Knox container? What are the package names for the Samsung Cisco AnyConnect and Juniper VPN clients? What is the minimum level of unlock method required to install a certificate in Android credential storage? What is the proper way to wildcard APK package names? Which servers do EMMs need to communicate with in order to conduct device attestation? What is the order of precedence for firewall rules? What URLs do I have to add to an allowlist to make Samsung apps work with an']\n",
      "{'source': 'all_processed_data.json', 'seq_num': 1656, 'title': 'Knox Platform for Enterprise knowledge base articles', 'url': 'https://docs.samsungknox.com/admin/knox-platform-for-enterprise/kbas', 'project': 'KPE', 'last_updated': '2023-11-06', 'family_tree': 'child', 'parent_id': 'da6f49da-a678-4f6c-b25d-0a46f049fc91', 'id': 'd76d56b6-b402-4dd4-99c1-b92749f2fa9a'}\n",
      "\n",
      "Score: 0.00796875\n",
      "[\"The Samsung Knox platform. Samsung Knox brings defense-grade security on the most popular consumer devices to all enterprises. The Knox Platform provides best-in-class hardware-based security, policy management, and compliance capabilities beyond the standard features commonplace in today's mobile device market. The Knox Platform is the cornerstone of a strong mobile security strategy supporting a wide variety of Samsung devices. Why use Samsung Knox? The Knox Platform helps you and your enterprise avoid the security gaps common on many mobile platforms. Knox received *strong* ratings in 25 of 28 categories in Gartner's December 2017 Mobile OSs and Device Security: A Comparison of Platforms and has received strong ratings for the last three years in a row. The Knox Platform's security hardening supports every aspect of mobile device operation. The Knox Platform enables trust in your mobile endpoints with advanced features like the evolutionary Knox Vault to the patented Real-Time Kernel Protection\"]\n",
      "{'source': 'all_processed_data.json', 'seq_num': 168, 'title': 'The Samsung Knox platform', 'url': 'https://docs.samsungknox.com/admin/fundamentals/whitepaper/the-samsung-knox-platform', 'project': 'USP', 'last_updated': '2023-07-26', 'family_tree': 'child', 'parent_id': 'f1cfdf2b-36dc-4a26-8176-ec386728eb39', 'id': '78298895-c50a-40a0-a145-605b471133a0'}\n",
      "\n",
      "Score: 0.007903225806451612\n",
      "['. What is an Approval ID? Who uploads devices to Knox Guard? What does a Complete device status mean in Knox Guard? What are the options for stopping payment blink reminders on an overdue device? How do I restrict a device to a particular telecom operator? How do I restrict a device to the first inserted SIM of an allowed telecom operator?']\n",
      "{'source': 'all_processed_data.json', 'seq_num': 734, 'title': 'Knox Guard knowledge base articles', 'url': 'https://docs.samsungknox.com/admin/knox-guard/kbas', 'project': 'KG', 'last_updated': '2023-07-26', 'family_tree': 'child', 'parent_id': 'bb4991b5-1e0e-47ff-89af-4e452dfed580', 'id': 'c10b6c77-2aa6-4027-8254-b7eb9265cd20'}\n",
      "\n",
      "Score: 0.007846153846153846\n",
      "[\"Knox Manage features. Component Name Description 1 Knox Manage admin portal Configures and manages Knox Manage environments. 2 Knox Manage agent An application installed on Android, iOS, and Windows devices. 3 Knox Manage server Knox Manage cloud server 4 Knox Manage Cloud Connector Transfers data securely between the client's enterprise server and the Knox Manage server. For more information, see Using Cloud Connector. 5 Lightweight Directory Access Protocol Imports the client's directory-based user information. For more information, see Sync user information with AD/LDAP and Integrate a directory server. 6 Certificate Authority Generates certificates for authentication when using a network, such as Wi-Fi, VPN, Exchange, or APN. For more information, see Certificate authority (CA). For a complete listing of all features, see the Knox Manage feature list.\"]\n",
      "{'source': 'all_processed_data.json', 'seq_num': 969, 'title': 'Knox Manage features', 'url': 'https://docs.samsungknox.com/admin/knox-manage/introduction/key-features/knox-manage-features', 'project': 'KM', 'last_updated': '2023-07-26', 'family_tree': 'child', 'parent_id': '8ee3b05f-bb48-41ae-96a7-b911912bbf56', 'id': '02539bea-39a1-4118-9661-316ce53596c9'}\n",
      "None\n",
      "##############################\n",
      "similar_docs\n",
      "##############################\n",
      "\n",
      "Score: 0.6129066348075867\n",
      "[\"The Samsung Knox platform. Samsung Knox brings defense-grade security on the most popular consumer devices to all enterprises. The Knox Platform provides best-in-class hardware-based security, policy management, and compliance capabilities beyond the standard features commonplace in today's mobile device market. The Knox Platform is the cornerstone of a strong mobile security strategy supporting a wide variety of Samsung devices. Why use Samsung Knox? The Knox Platform helps you and your enterprise avoid the security gaps common on many mobile platforms. Knox received *strong* ratings in 25 of 28 categories in Gartner's December 2017 Mobile OSs and Device Security: A Comparison of Platforms and has received strong ratings for the last three years in a row. The Knox Platform's security hardening supports every aspect of mobile device operation. The Knox Platform enables trust in your mobile endpoints with advanced features like the evolutionary Knox Vault to the patented Real-Time Kernel Protection . The Knox Platform ensures IT admins can securely bulk deploy the best mobile device hardware, and quickly integrate with existing business infrastructure and apps. #Key benefits for enterprises , Easily meet your organization's security and compliance requirements by providing solid platform integrity, strong data protection, and fine-grained policy enforcement. Seamlessly activate and manage Knox Platform features through an Enterprise Mobility Management (EMM) system. Flexibly support infrastructure, deployment, and management requirements through centralized remote device control, advanced VPN management, allowing and blocking apps, and granular policies that control all aspects of Samsung devices. Effortlessly upgrade from Android Enterprise, leveraging a comprehensive set of Knox Platform benefits without affecting existing deployments. Securely deploy the innovative Samsung Desktop Experience (DeX) in new work environments, unifying mobile and desktop computing on one device. The Knox Platform's cutting-edge security technology continues to be widely adopted and proven by numerous government, security, and financial agencies throughout the world. Samsung continually works with global government organizations and international regulatory bodies to meet a wide range of certification requirements designed to protect public safety and consumer privacy. Knox Platform highlights The Knox Platform provides a robust set of features to fill security and management gaps, resolve pain points identified by enterprises, and meet the strict requirements of highly regulated industries. Key strengths include the following: For a quick overview of these features, see Feature summary. Security highlights The following sections describe how the Knox Platform provides an industry-leading ecosystem of products and services to secure and ease mobile device management. Hardware-backed security The Knox Platform defends against security threats and protects enterprise data through layers of security built on top of a hardware-backed trusted environment. Trusted of the Knox Platform's security features and how they can resolve common enterprise mobile deployment pain points. The document focuses on the unique abilities of the Knox Platform. For information about other features, see the Samsung Knox website.\"]\n",
      "{'source': 'all_processed_data.json', 'seq_num': 168, 'title': 'The Samsung Knox platform', 'url': 'https://docs.samsungknox.com/admin/fundamentals/whitepaper/the-samsung-knox-platform', 'project': 'USP', 'last_updated': '2023-07-26', 'family_tree': 'parent', 'parent_id': None}\n",
      "\n",
      "Score: 0.029522057622671127\n",
      "[\"Knox Manage features. Component Name Description 1 Knox Manage admin portal Configures and manages Knox Manage environments. 2 Knox Manage agent An application installed on Android, iOS, and Windows devices. 3 Knox Manage server Knox Manage cloud server 4 Knox Manage Cloud Connector Transfers data securely between the client's enterprise server and the Knox Manage server. For more information, see Using Cloud Connector. 5 Lightweight Directory Access Protocol Imports the client's directory-based user information. For more information, see Sync user information with AD/LDAP and Integrate a directory server. 6 Certificate Authority Generates certificates for authentication when using a network, such as Wi-Fi, VPN, Exchange, or APN. For more information, see Certificate authority (CA). For a complete listing of all features, see the Knox Manage feature list.\"]\n",
      "{'source': 'all_processed_data.json', 'seq_num': 969, 'title': 'Knox Manage features', 'url': 'https://docs.samsungknox.com/admin/knox-manage/introduction/key-features/knox-manage-features', 'project': 'KM', 'last_updated': '2023-07-26', 'family_tree': 'parent', 'parent_id': None}\n",
      "\n",
      "Score: 0.027737464755773544\n",
      "[\"Sign in with a Samsung account. Sign up for a Knox account A Samsung Knox account is free and can be created in just a few minutes. With a Samsung Knox account, you can register for Knox services and get access to the Knox Admin Portal, which lets you easily manage your devices, admins, and licenses across each Knox service. To sign up for a Samsung Knox account, you need to link it to a Samsung account. If you don't yet have a Samsung account, you'll be prompted to create one when you sign up for SamsungKnox.com. To create your Knox account: 1. Go to SamsungKnox.com. 2. In the top-right corner, click GET STARTED. 3. Under Business email, enter the email address you use for work. 4. Select a Knox solution that you want to access - Knox Suite, Knox Configure, Knox Guard, Samsung Care + for Business, or Other products & services. If you want access to an individual Knox Suite service, such as Knox Mobile Enrollment, select Knox Suite. 5. Click CREATE MY ACCOUNT. If you already have a Samsung account, the system automatically prompts you to fill out a form with your company's details. If you don't have a Samsung account, the system prompts you to create one. Once you create your Samsung account, open the confirmation email you received and click the link. You're then automatically redirected to SamsungKnox.com to fill out a form with your company's details and submit your application for Knox services. Sign in to Samsung Knox 1. In the top-right corner of SamsungKnox.com, hover over Sign in. Then, under Samsung Account, click Sign in. 2. Enter your Samsung account email, then click Next. 3. Enter your Samsung account password, then click Sign in. You're now signed in and ready to start using Knox services and products.\"]\n",
      "{'source': 'all_processed_data.json', 'seq_num': 162, 'title': 'Sign in with a Samsung account', 'url': 'https://docs.samsungknox.com/admin/fundamentals/sign-up-for-samsung-knox/sign-in-with-a-samsung-account', 'project': 'USP', 'last_updated': '2023-08-23', 'family_tree': 'parent', 'parent_id': None}\n",
      "\n",
      "Score: 0.00762804364785552\n",
      "['Knox knowledge base articles. Service-specific articles , Knox Suite , Knox Platform for Enterprise , Knox Service Plugin , Knox Mobile Enrollment , Knox Mobile Enrollment Direct , Knox Capture , Knox Asset Intelligence , Knox Manage , Knox E-FOTA , Knox Configure , Knox Guard , Samsung Care+ for Business General articles Samsung Knox, User Experience Research Requirements for Samsung Knox device repair How to capture logs to troubleshoot a mobile device Samsung devices with Legacy One UI Core platform How to collect browser logs for troubleshooting How to collect dumpstate logs on Samsung wearable devices About Secured by Knox, Android, Others and Android Go devices Policy update on Knox supported versions What can I do if I\\'m not receiving the verification email when registering for a Samsung Account? Knox cloud services Knox Suite license cannot be recovered from Knox Remote Support How to disassociate a device from a Knox license key How to check the number of seats on a Knox license key How to reinvite or unblock a user in Knox Cloud Services How to change a super admin in Samsung Knox Cloud Services Knox Cloud Services compatibility with Samsung devices Knox Deployment App only able to add device to one Knox Cloud Service Mandatory two-factor authentication for all IT admins using Knox Deployment App Using + gesture during enrollment results in the error \"Tablet/Phone already enrolled\" My Knox Cloud Services (KCS) solutions do not start Unable to sign in to SamsungKnox.com after changes made to Samsung Account Cannot invite administrator to Knox cloud services Knox Cloud Services portals are not supported for mobile use GDPR How do I request an export of my account data? How do I delete my Samsung Knox account?']\n",
      "{'source': 'all_processed_data.json', 'seq_num': 256, 'title': 'Knox knowledge base articles', 'url': 'https://docs.samsungknox.com/admin/fundamentals/kbas', 'project': 'USP', 'last_updated': '2023-07-26', 'family_tree': 'parent', 'parent_id': None}\n",
      "\n",
      "Score: 0.003211595583707094\n",
      "['Knox Platform for Enterprise knowledge base articles. The Knox Platform for Enterprise knowledge base contains general articles, support for known issues, and guides for specific use cases. Explore our knowledge base for: General Knox Platform for Enterprise (KPE) articles, Knox legacy workspace articles, Known KPE issues and their workarounds, How-to articles for less common setups, Guides General articles Can\\'t remove permissions for unused apps in Android 13 Automatic license assignment release exceptions Upgrade managed Android devices to Android Device Policy by March 19, 2022 \"Sending of Diagnostic Data\" message shown in Android 12 Do Separated Apps (SA) have access to corporate VPNs? Guidance documents for Common Criteria evaluation Common Criteria Mode Knox Platform for Enterprise features not supported on One UI Core devices Knox PAC Support (Proxy Auto Config) Android VPN Management for Knox - configuration and troubleshooting Intelligent Wi-Fi Enhanced Roaming Algorithm File-based encryption (FBE) and full-disk encryption (FDE) What policy do I use to block users from adding additional accounts on the device? \"Network may be monitored\" shown after installing a private CA certificate on device Does the Samsung email client support \"opaque signed\" emails? Can a network operator configure an E_APN on an employee\\'s device? If two similar Knox policies are applied to a device with an MDM, which one takes precedence? Should the Knox VPN client be installed inside or outside the Knox container? What are the package names for the Samsung Cisco AnyConnect and Juniper VPN clients? What is the minimum level of unlock method required to install a certificate in Android credential storage? What is the proper way to wildcard APK package names? Which servers do EMMs need to communicate with in order to conduct device attestation? What is the order of precedence for firewall rules? What URLs do I have to add to an allowlist to make Samsung apps work with an authenticated proxy? Can I disable power saving mode on Knox supported devices? If I cannot resolve an SE for Android issue, who do I escalate to? Is there a way to automatically enable email sync while roaming? What does the term \"Maximum number of licenses\" mean for KPE Standard licenses? Knox legacy workspace articles Using SSO with a Common Access Card (CAC) in the Work Profile How many certificates can be stored in the Knox platform TrustZone? Accessing Knox Workspace without connecting to Active Directory network Unlocking the Knox Workspace container using Active Directory credentials What is the certificate length limit in the Knox CCM keystore? Can I create an RSA Key Pair on a Knox Platform for Enterprise device? Known issues Unable to install Samsung Calendar app Samsung Email app security patch for CWE-297 Unable to sign in to or sync Samsung Email app Device randomly reboots without warning Samsung devices reboot after Android System WebView update Wireless emergency alerts missing from Settings app Unable to edit contact information on lock screen Device losing permissions after upgrading to Android 13 Device locked with Workspace License Expired error after updating VMware Workspace ONE® Intelligent Hub Apps experiencing connectivity or sync issues after upgrading to Android 13 S22 device enrollment failure for Android 13 Certificates missing after updating Samsung devices to Android 12 Devices can\\'t reach sites with']\n",
      "{'source': 'all_processed_data.json', 'seq_num': 1656, 'title': 'Knox Platform for Enterprise knowledge base articles', 'url': 'https://docs.samsungknox.com/admin/knox-platform-for-enterprise/kbas', 'project': 'KPE', 'last_updated': '2023-11-06', 'family_tree': 'parent', 'parent_id': None}\n",
      "None\n",
      "\n",
      "==========  Results  ==========\n",
      "\n",
      "1. question: What is knox?\n",
      "2. # documents: 5\n",
      "3. Documents: \n",
      "\n",
      "-----------------------------------------------\n",
      "1. Chunk: 3344 Characters\n",
      "-----------------------------------------------\n",
      "The Samsung Knox platform. Samsung Knox brings defense-grade security on the most popular consumer\n",
      "devices to all enterprises. The Knox Platform provides best-in-class hardware-based security, policy\n",
      "management, and compliance capabilities beyond the standard features commonplace in today's mobile\n",
      "device market. The Knox Platform is the cornerstone of a strong mobile security strategy supporting\n",
      "a wide variety of Samsung devices. Why use Samsung Knox? The Knox Platform helps you and your\n",
      "enterprise avoid the security gaps common on many mobile platforms. Knox received *strong* ratings\n",
      "in 25 of 28 categories in Gartner's December 2017 Mobile OSs and Device Security: A Comparison of\n",
      "Platforms and has received strong ratings for the last three years in a row. The Knox Platform's\n",
      "security hardening supports every aspect of mobile device operation. The Knox Platform enables trust\n",
      "in your mobile endpoints with advanced features like the evolutionary Knox Vault to the patented\n",
      "Real-Time Kernel Protection . The Knox Platform ensures IT admins can securely bulk deploy the best\n",
      "mobile device hardware, and quickly integrate with existing business infrastructure and apps. #Key\n",
      "benefits for enterprises , Easily meet your organization's security and compliance requirements by\n",
      "providing solid platform integrity, strong data protection, and fine-grained policy enforcement.\n",
      "Seamlessly activate and manage Knox Platform features through an Enterprise Mobility Management\n",
      "(EMM) system. Flexibly support infrastructure, deployment, and management requirements through\n",
      "centralized remote device control, advanced VPN management, allowing and blocking apps, and granular\n",
      "policies that control all aspects of Samsung devices. Effortlessly upgrade from Android Enterprise,\n",
      "leveraging a comprehensive set of Knox Platform benefits without affecting existing deployments.\n",
      "Securely deploy the innovative Samsung Desktop Experience (DeX) in new work environments, unifying\n",
      "mobile and desktop computing on one device. The Knox Platform's cutting-edge security technology\n",
      "continues to be widely adopted and proven by numerous government, security, and financial agencies\n",
      "throughout the world. Samsung continually works with global government organizations and\n",
      "international regulatory bodies to meet a wide range of certification requirements designed to\n",
      "protect public safety and consumer privacy. Knox Platform highlights The Knox Platform provides a\n",
      "robust set of features to fill security and management gaps, resolve pain points identified by\n",
      "enterprises, and meet the strict requirements of highly regulated industries. Key strengths include\n",
      "the following: For a quick overview of these features, see Feature summary. Security highlights The\n",
      "following sections describe how the Knox Platform provides an industry-leading ecosystem of products\n",
      "and services to secure and ease mobile device management. Hardware-backed security The Knox Platform\n",
      "defends against security threats and protects enterprise data through layers of security built on\n",
      "top of a hardware-backed trusted environment. Trusted of the Knox Platform's security features and\n",
      "how they can resolve common enterprise mobile deployment pain points. The document focuses on the\n",
      "unique abilities of the Knox Platform. For information about other features, see the Samsung Knox\n",
      "website.\n",
      "metadata:\n",
      " {'source': 'all_processed_data.json', 'seq_num': 168, 'title': 'The Samsung Knox platform', 'url':\n",
      "'https://docs.samsungknox.com/admin/fundamentals/whitepaper/the-samsung-knox-platform', 'project':\n",
      "'USP', 'last_updated': '2023-07-26', 'family_tree': 'parent', 'parent_id': None}\n",
      "-----------------------------------------------\n",
      "2. Chunk: 867 Characters\n",
      "-----------------------------------------------\n",
      "Knox Manage features. Component Name Description 1 Knox Manage admin portal Configures and manages\n",
      "Knox Manage environments. 2 Knox Manage agent An application installed on Android, iOS, and Windows\n",
      "devices. 3 Knox Manage server Knox Manage cloud server 4 Knox Manage Cloud Connector Transfers data\n",
      "securely between the client's enterprise server and the Knox Manage server. For more information,\n",
      "see Using Cloud Connector. 5 Lightweight Directory Access Protocol Imports the client's directory-\n",
      "based user information. For more information, see Sync user information with AD/LDAP and Integrate a\n",
      "directory server. 6 Certificate Authority Generates certificates for authentication when using a\n",
      "network, such as Wi-Fi, VPN, Exchange, or APN. For more information, see Certificate authority (CA).\n",
      "For a complete listing of all features, see the Knox Manage feature list.\n",
      "metadata:\n",
      " {'source': 'all_processed_data.json', 'seq_num': 969, 'title': 'Knox Manage features', 'url':\n",
      "'https://docs.samsungknox.com/admin/knox-manage/introduction/key-features/knox-manage-features',\n",
      "'project': 'KM', 'last_updated': '2023-07-26', 'family_tree': 'parent', 'parent_id': None}\n",
      "-----------------------------------------------\n",
      "3. Chunk: 1745 Characters\n",
      "-----------------------------------------------\n",
      "Sign in with a Samsung account. Sign up for a Knox account A Samsung Knox account is free and can be\n",
      "created in just a few minutes. With a Samsung Knox account, you can register for Knox services and\n",
      "get access to the Knox Admin Portal, which lets you easily manage your devices, admins, and licenses\n",
      "across each Knox service. To sign up for a Samsung Knox account, you need to link it to a Samsung\n",
      "account. If you don't yet have a Samsung account, you'll be prompted to create one when you sign up\n",
      "for SamsungKnox.com. To create your Knox account: 1. Go to SamsungKnox.com. 2. In the top-right\n",
      "corner, click GET STARTED. 3. Under Business email, enter the email address you use for work. 4.\n",
      "Select a Knox solution that you want to access - Knox Suite, Knox Configure, Knox Guard, Samsung\n",
      "Care + for Business, or Other products & services. If you want access to an individual Knox Suite\n",
      "service, such as Knox Mobile Enrollment, select Knox Suite. 5. Click CREATE MY ACCOUNT. If you\n",
      "already have a Samsung account, the system automatically prompts you to fill out a form with your\n",
      "company's details. If you don't have a Samsung account, the system prompts you to create one. Once\n",
      "you create your Samsung account, open the confirmation email you received and click the link. You're\n",
      "then automatically redirected to SamsungKnox.com to fill out a form with your company's details and\n",
      "submit your application for Knox services. Sign in to Samsung Knox 1. In the top-right corner of\n",
      "SamsungKnox.com, hover over Sign in. Then, under Samsung Account, click Sign in. 2. Enter your\n",
      "Samsung account email, then click Next. 3. Enter your Samsung account password, then click Sign in.\n",
      "You're now signed in and ready to start using Knox services and products.\n",
      "metadata:\n",
      " {'source': 'all_processed_data.json', 'seq_num': 162, 'title': 'Sign in with a Samsung account',\n",
      "'url': 'https://docs.samsungknox.com/admin/fundamentals/sign-up-for-samsung-knox/sign-in-with-a-\n",
      "samsung-account', 'project': 'USP', 'last_updated': '2023-08-23', 'family_tree': 'parent',\n",
      "'parent_id': None}\n",
      "-----------------------------------------------\n",
      "4. Chunk: 1746 Characters\n",
      "-----------------------------------------------\n",
      "Knox knowledge base articles. Service-specific articles , Knox Suite , Knox Platform for Enterprise\n",
      ", Knox Service Plugin , Knox Mobile Enrollment , Knox Mobile Enrollment Direct , Knox Capture , Knox\n",
      "Asset Intelligence , Knox Manage , Knox E-FOTA , Knox Configure , Knox Guard , Samsung Care+ for\n",
      "Business General articles Samsung Knox, User Experience Research Requirements for Samsung Knox\n",
      "device repair How to capture logs to troubleshoot a mobile device Samsung devices with Legacy One UI\n",
      "Core platform How to collect browser logs for troubleshooting How to collect dumpstate logs on\n",
      "Samsung wearable devices About Secured by Knox, Android, Others and Android Go devices Policy update\n",
      "on Knox supported versions What can I do if I'm not receiving the verification email when\n",
      "registering for a Samsung Account? Knox cloud services Knox Suite license cannot be recovered from\n",
      "Knox Remote Support How to disassociate a device from a Knox license key How to check the number of\n",
      "seats on a Knox license key How to reinvite or unblock a user in Knox Cloud Services How to change a\n",
      "super admin in Samsung Knox Cloud Services Knox Cloud Services compatibility with Samsung devices\n",
      "Knox Deployment App only able to add device to one Knox Cloud Service Mandatory two-factor\n",
      "authentication for all IT admins using Knox Deployment App Using + gesture during enrollment results\n",
      "in the error \"Tablet/Phone already enrolled\" My Knox Cloud Services (KCS) solutions do not start\n",
      "Unable to sign in to SamsungKnox.com after changes made to Samsung Account Cannot invite\n",
      "administrator to Knox cloud services Knox Cloud Services portals are not supported for mobile use\n",
      "GDPR How do I request an export of my account data? How do I delete my Samsung Knox account?\n",
      "metadata:\n",
      " {'source': 'all_processed_data.json', 'seq_num': 256, 'title': 'Knox knowledge base articles',\n",
      "'url': 'https://docs.samsungknox.com/admin/fundamentals/kbas', 'project': 'USP', 'last_updated':\n",
      "'2023-07-26', 'family_tree': 'parent', 'parent_id': None}\n",
      "-----------------------------------------------\n",
      "5. Chunk: 3442 Characters\n",
      "-----------------------------------------------\n",
      "Knox Platform for Enterprise knowledge base articles. The Knox Platform for Enterprise knowledge\n",
      "base contains general articles, support for known issues, and guides for specific use cases. Explore\n",
      "our knowledge base for: General Knox Platform for Enterprise (KPE) articles, Knox legacy workspace\n",
      "articles, Known KPE issues and their workarounds, How-to articles for less common setups, Guides\n",
      "General articles Can't remove permissions for unused apps in Android 13 Automatic license assignment\n",
      "release exceptions Upgrade managed Android devices to Android Device Policy by March 19, 2022\n",
      "\"Sending of Diagnostic Data\" message shown in Android 12 Do Separated Apps (SA) have access to\n",
      "corporate VPNs? Guidance documents for Common Criteria evaluation Common Criteria Mode Knox Platform\n",
      "for Enterprise features not supported on One UI Core devices Knox PAC Support (Proxy Auto Config)\n",
      "Android VPN Management for Knox - configuration and troubleshooting Intelligent Wi-Fi Enhanced\n",
      "Roaming Algorithm File-based encryption (FBE) and full-disk encryption (FDE) What policy do I use to\n",
      "block users from adding additional accounts on the device? \"Network may be monitored\" shown after\n",
      "installing a private CA certificate on device Does the Samsung email client support \"opaque signed\"\n",
      "emails? Can a network operator configure an E_APN on an employee's device? If two similar Knox\n",
      "policies are applied to a device with an MDM, which one takes precedence? Should the Knox VPN client\n",
      "be installed inside or outside the Knox container? What are the package names for the Samsung Cisco\n",
      "AnyConnect and Juniper VPN clients? What is the minimum level of unlock method required to install a\n",
      "certificate in Android credential storage? What is the proper way to wildcard APK package names?\n",
      "Which servers do EMMs need to communicate with in order to conduct device attestation? What is the\n",
      "order of precedence for firewall rules? What URLs do I have to add to an allowlist to make Samsung\n",
      "apps work with an authenticated proxy? Can I disable power saving mode on Knox supported devices? If\n",
      "I cannot resolve an SE for Android issue, who do I escalate to? Is there a way to automatically\n",
      "enable email sync while roaming? What does the term \"Maximum number of licenses\" mean for KPE\n",
      "Standard licenses? Knox legacy workspace articles Using SSO with a Common Access Card (CAC) in the\n",
      "Work Profile How many certificates can be stored in the Knox platform TrustZone? Accessing Knox\n",
      "Workspace without connecting to Active Directory network Unlocking the Knox Workspace container\n",
      "using Active Directory credentials What is the certificate length limit in the Knox CCM keystore?\n",
      "Can I create an RSA Key Pair on a Knox Platform for Enterprise device? Known issues Unable to\n",
      "install Samsung Calendar app Samsung Email app security patch for CWE-297 Unable to sign in to or\n",
      "sync Samsung Email app Device randomly reboots without warning Samsung devices reboot after Android\n",
      "System WebView update Wireless emergency alerts missing from Settings app Unable to edit contact\n",
      "information on lock screen Device losing permissions after upgrading to Android 13 Device locked\n",
      "with Workspace License Expired error after updating VMware Workspace ONE® Intelligent Hub Apps\n",
      "experiencing connectivity or sync issues after upgrading to Android 13 S22 device enrollment failure\n",
      "for Android 13 Certificates missing after updating Samsung devices to Android 12 Devices can't reach\n",
      "sites with\n",
      "metadata:\n",
      " {'source': 'all_processed_data.json', 'seq_num': 1656, 'title': 'Knox Platform for Enterprise\n",
      "knowledge base articles', 'url': 'https://docs.samsungknox.com/admin/knox-platform-for-\n",
      "enterprise/kbas', 'project': 'KPE', 'last_updated': '2023-11-06', 'family_tree': 'parent',\n",
      "'parent_id': None}\n",
      "CPU times: user 181 ms, sys: 11.5 ms, total: 193 ms\n",
      "Wall time: 466 ms\n"
     ]
    }
   ],
   "source": [
    "%%time\n",
    "search_hybrid_result = opensearch_hybrid_retriever.get_relevant_documents(query)\n",
    "\n",
    "print(\"\\n==========  Results  ==========\\n\")\n",
    "print(f'1. question: {query}')\n",
    "print (f'2. # documents: {len(search_hybrid_result)}')\n",
    "print(\"3. Documents: \\n\")\n",
    "\n",
    "show_context_used(search_hybrid_result)"
   ]
  },
  {
   "cell_type": "markdown",
   "id": "c09221b5-4a6c-463b-9769-35cc8362e33c",
   "metadata": {},
   "source": [
    "- update parameters\n",
    "    - **parent_document=False**"
   ]
  },
  {
   "cell_type": "code",
   "execution_count": 56,
   "id": "b7bb4672-d2b8-4b29-b71c-b06d84bcd470",
   "metadata": {
    "tags": []
   },
   "outputs": [],
   "source": [
    "opensearch_hybrid_retriever.update_search_params(\n",
    "    k=5,\n",
    "    minimum_should_match=0,\n",
    "    #filter=[],\n",
    "    filter=[\n",
    "        #{'term': {'metadata.project': 'KS'}},\n",
    "        #{'term': {'metadata.family_tree': 'child'}},\n",
    "    ],\n",
    "    reranker=True,\n",
    "    reranker_endpoint_name=endpoint_name,\n",
    "    parent_document=False, # enable parent document\n",
    "    verbose=True,\n",
    ")"
   ]
  },
  {
   "cell_type": "code",
   "execution_count": 57,
   "id": "1b9b45b1-cb92-4954-8087-143a550350c8",
   "metadata": {
    "tags": []
   },
   "outputs": [
    {
     "name": "stdout",
     "output_type": "stream",
     "text": [
      "##############################\n",
      "async_mode\n",
      "##############################\n",
      "True\n",
      "##############################\n",
      "reranker\n",
      "##############################\n",
      "True\n",
      "##############################\n",
      "rag_fusion\n",
      "##############################\n",
      "False\n",
      "##############################\n",
      "HyDE\n",
      "##############################\n",
      "False\n",
      "##############################\n",
      "parent_document\n",
      "##############################\n",
      "False\n",
      "##############################\n",
      "similar_docs_semantic\n",
      "##############################\n",
      "\n",
      "Score: 1.0\n",
      "['Knox knowledge base articles']\n",
      "{'source': 'all_processed_data.json', 'seq_num': 256, 'title': 'Knox knowledge base articles', 'url': 'https://docs.samsungknox.com/admin/fundamentals/kbas', 'project': 'USP', 'last_updated': '2023-07-26', 'family_tree': 'child', 'parent_id': '00e1f1a7-a357-4a35-b072-b5d24c187b86', 'id': '8c0693e3-4e00-4687-b45b-47b2bdf62734'}\n",
      "\n",
      "Score: 0.9331517242798636\n",
      "['. Knox service Pricing Supported license keys Trial license and where to get it Server type Knox Mobile Enrollment Free No license key required No license key required Cloud Knox Mobile Enrollment(Advanced profile) Paid Knox Suite Knox Suite trial key (Knox Admin Portal) Cloud Knox Manage Paid Knox Suite Knox Manage key Knox Suite trial key (Knox Admin Portal) Cloud Knox E-FOTA Paid Knox Suite Knox E-FOTA key Knox Suite trial key (Knox Admin Portal) Cloud Knox Asset Intelligence Paid Knox Suite Knox Asset Intelligence key Knox Suite trial key (Knox Admin Portal) Cloud Knox Remote Support Paid Knox Suite Knox Manage key Knox Suite trial key (Knox Admin Portal) Cloud Knox Configure Paid Knox Configure key Knox Configure trial key (Knox Admin Portal) Cloud Knox Guard Paid Knox Guard key Knox Guard trial key (Knox Guard console) Cloud Samsung Care+ for Business Paid Samsung Care+ for Business key No trial available Cloud Knox Mobile Enrollment Direct Free No license key required No license key required']\n",
      "{'source': 'all_processed_data.json', 'seq_num': 150, 'title': 'Knox licenses', 'url': 'https://docs.samsungknox.com/admin/fundamentals/knox-licenses', 'project': 'USP', 'last_updated': '2023-07-26', 'family_tree': 'child', 'parent_id': 'd4d233e9-2d76-494c-9886-8a89f2a1819b', 'id': '65850dab-337b-4ec7-9002-a1b2e1c0c786'}\n",
      "\n",
      "Score: 0.9318079041784717\n",
      "[\"Sign in with a Samsung account. Sign up for a Knox account A Samsung Knox account is free and can be created in just a few minutes. With a Samsung Knox account, you can register for Knox services and get access to the Knox Admin Portal, which lets you easily manage your devices, admins, and licenses across each Knox service. To sign up for a Samsung Knox account, you need to link it to a Samsung account. If you don't yet have a Samsung account, you'll be prompted to create one when you sign up for SamsungKnox.com. To create your Knox account: 1. Go to SamsungKnox.com. 2. In the top-right corner, click GET STARTED. 3. Under Business email, enter the email address you use for work. 4. Select a Knox solution that you want to access - Knox Suite, Knox Configure, Knox Guard, Samsung Care + for Business, or Other products & services. If you want access to an individual Knox Suite service, such as Knox Mobile Enrollment, select Knox Suite. 5. Click CREATE MY ACCOUNT\"]\n",
      "{'source': 'all_processed_data.json', 'seq_num': 162, 'title': 'Sign in with a Samsung account', 'url': 'https://docs.samsungknox.com/admin/fundamentals/sign-up-for-samsung-knox/sign-in-with-a-samsung-account', 'project': 'USP', 'last_updated': '2023-08-23', 'family_tree': 'child', 'parent_id': 'a32897a3-5af8-46c1-9baf-8e4f49b543f0', 'id': 'b5e439d5-2ea2-4c64-9a07-74123e8fc4fb'}\n",
      "\n",
      "Score: 0.9290619396176194\n",
      "[\"The Samsung Knox platform. Samsung Knox brings defense-grade security on the most popular consumer devices to all enterprises. The Knox Platform provides best-in-class hardware-based security, policy management, and compliance capabilities beyond the standard features commonplace in today's mobile device market. The Knox Platform is the cornerstone of a strong mobile security strategy supporting a wide variety of Samsung devices. Why use Samsung Knox? The Knox Platform helps you and your enterprise avoid the security gaps common on many mobile platforms. Knox received *strong* ratings in 25 of 28 categories in Gartner's December 2017 Mobile OSs and Device Security: A Comparison of Platforms and has received strong ratings for the last three years in a row. The Knox Platform's security hardening supports every aspect of mobile device operation. The Knox Platform enables trust in your mobile endpoints with advanced features like the evolutionary Knox Vault to the patented Real-Time Kernel Protection\"]\n",
      "{'source': 'all_processed_data.json', 'seq_num': 168, 'title': 'The Samsung Knox platform', 'url': 'https://docs.samsungknox.com/admin/fundamentals/whitepaper/the-samsung-knox-platform', 'project': 'USP', 'last_updated': '2023-07-26', 'family_tree': 'child', 'parent_id': 'f1cfdf2b-36dc-4a26-8176-ec386728eb39', 'id': '78298895-c50a-40a0-a145-605b471133a0'}\n",
      "\n",
      "Score: 0.9283034348395772\n",
      "[\"Knox Manage features. Component Name Description 1 Knox Manage admin portal Configures and manages Knox Manage environments. 2 Knox Manage agent An application installed on Android, iOS, and Windows devices. 3 Knox Manage server Knox Manage cloud server 4 Knox Manage Cloud Connector Transfers data securely between the client's enterprise server and the Knox Manage server. For more information, see Using Cloud Connector. 5 Lightweight Directory Access Protocol Imports the client's directory-based user information. For more information, see Sync user information with AD/LDAP and Integrate a directory server. 6 Certificate Authority Generates certificates for authentication when using a network, such as Wi-Fi, VPN, Exchange, or APN. For more information, see Certificate authority (CA). For a complete listing of all features, see the Knox Manage feature list.\"]\n",
      "{'source': 'all_processed_data.json', 'seq_num': 969, 'title': 'Knox Manage features', 'url': 'https://docs.samsungknox.com/admin/knox-manage/introduction/key-features/knox-manage-features', 'project': 'KM', 'last_updated': '2023-07-26', 'family_tree': 'child', 'parent_id': '8ee3b05f-bb48-41ae-96a7-b911912bbf56', 'id': '02539bea-39a1-4118-9661-316ce53596c9'}\n",
      "\n",
      "Score: 0.9270623100616721\n",
      "[\"Latest videos. Watch the latest videos to learn how Knox services work. Title , Description - , - Getting started with Knox Admin Portal , The Knox Admin Portal is the hub for all your Knox services, designed to provide a cohesive user experience. This video walks you through how to get started with the Knox Admin Portal so that it can help streamline your device management operations and help you manage your resources across services more easily. Getting started with Knox Suite , Knox Suite is an all-in-one solution, built for enterprise mobility. This video walks you through how to get started with the Knox Suite so that it can help address your enterprise's needs related to security and management throughout the entire device lifecycle. Getting started with Knox Mobile Enrollment , Knox Mobile Enrollment is an automated EMM enrollment tool for provisioning devices quickly and easily, out-of-the-box. Broad-ranging deployment and security features ensure ease of enrollment, in any situation\"]\n",
      "{'source': 'all_processed_data.json', 'seq_num': 151, 'title': 'Latest videos', 'url': 'https://docs.samsungknox.com/admin/fundamentals/latest-videos', 'project': 'USP', 'last_updated': '2023-11-10', 'family_tree': 'child', 'parent_id': 'e0025b33-9c8a-4815-b7d7-090334b5acb4', 'id': 'e6d75886-fbd8-49cf-979f-e4e0515a221f'}\n",
      "\n",
      "Score: 0.9260386496628273\n",
      "['Knox Suite. Knox Suite is a bundled offering of Knox solutions for enterprise mobility designed to address organizations\\' needs related to security and management throughout the entire device lifecycle. Learn more about Knox Suite #Audience This document is intended for IT Admins. Understand what\\'s included in Knox Suite and how you can use it to manage, secure, and maintain enterprise devices. Learn where to find information on how to perform various tasks with Knox\"Suite services. About Knox Suite Knox Suite is a bundled offering that includes the following Knox products: Knox Platform for Enterprise - A Knox solution that provides military-grade security to Samsung Android phones, tablets, and Tizen watches for business. Knox Mobile Enrollment - A Knox solution that allows you to enroll thousands of Samsung devices in your EMM at once. When used with a Knox Suite license, Knox Mobile Enrollment provides advanced profiles that offer IT admins additional features such as higher control over locking devices']\n",
      "{'source': 'all_processed_data.json', 'seq_num': 124, 'title': 'Knox Suite', 'url': 'https://docs.samsungknox.com/admin/knox-suite', 'project': 'KS', 'last_updated': '2023-07-26', 'family_tree': 'child', 'parent_id': '1746ccb3-35d8-448c-aebd-2608f2096337', 'id': '32e7e898-1754-485b-941d-15cf63a49d24'}\n",
      "None\n",
      "##############################\n",
      "similar_docs_keyword\n",
      "##############################\n",
      "\n",
      "Score: 1.0\n",
      "['Wi-Fi Enhanced Roaming Algorithm File-based encryption (FBE) and full-disk encryption (FDE) What policy do I use to block users from adding additional accounts on the device? \"Network may be monitored\" shown after installing a private CA certificate on device Does the Samsung email client support \"opaque signed\" emails? Can a network operator configure an E_APN on an employee\\'s device? If two similar Knox policies are applied to a device with an MDM, which one takes precedence? Should the Knox VPN client be installed inside or outside the Knox container? What are the package names for the Samsung Cisco AnyConnect and Juniper VPN clients? What is the minimum level of unlock method required to install a certificate in Android credential storage? What is the proper way to wildcard APK package names? Which servers do EMMs need to communicate with in order to conduct device attestation? What is the order of precedence for firewall rules? What URLs do I have to add to an allowlist to make Samsung apps work with an']\n",
      "{'source': 'all_processed_data.json', 'seq_num': 1656, 'title': 'Knox Platform for Enterprise knowledge base articles', 'url': 'https://docs.samsungknox.com/admin/knox-platform-for-enterprise/kbas', 'project': 'KPE', 'last_updated': '2023-11-06', 'family_tree': 'child', 'parent_id': 'da6f49da-a678-4f6c-b25d-0a46f049fc91', 'id': 'd76d56b6-b402-4dd4-99c1-b92749f2fa9a'}\n",
      "\n",
      "Score: 0.9963191283536638\n",
      "['. What is an Approval ID? Who uploads devices to Knox Guard? What does a Complete device status mean in Knox Guard? What are the options for stopping payment blink reminders on an overdue device? How do I restrict a device to a particular telecom operator? How do I restrict a device to the first inserted SIM of an allowed telecom operator?']\n",
      "{'source': 'all_processed_data.json', 'seq_num': 734, 'title': 'Knox Guard knowledge base articles', 'url': 'https://docs.samsungknox.com/admin/knox-guard/kbas', 'project': 'KG', 'last_updated': '2023-07-26', 'family_tree': 'child', 'parent_id': 'bb4991b5-1e0e-47ff-89af-4e452dfed580', 'id': 'c10b6c77-2aa6-4027-8254-b7eb9265cd20'}\n",
      "\n",
      "Score: 0.9866844650432759\n",
      "['way to wildcard APK package names? Which servers do EMMs need to communicate with in order to conduct device attestation? What is the order of precedence for firewall rules? What URLs do I have to add to an allowlist to make Samsung apps work with an authenticated proxy? Can I disable power saving mode on Knox supported devices? If I cannot resolve an SE for Android issue, who do I escalate to? Is there a way to automatically enable email sync while roaming? What does the term \"Maximum number of licenses\" mean for KPE Standard licenses? Knox legacy workspace articles Using SSO with a Common Access Card (CAC) in the Work Profile How many certificates can be stored in the Knox platform TrustZone? Accessing Knox Workspace without connecting to Active Directory network Unlocking the Knox Workspace container using Active Directory credentials What is the certificate length limit in the Knox CCM keystore? Can I create an RSA Key Pair on a Knox Platform for Enterprise device? Known issues Unable to install Samsung']\n",
      "{'source': 'all_processed_data.json', 'seq_num': 1656, 'title': 'Knox Platform for Enterprise knowledge base articles', 'url': 'https://docs.samsungknox.com/admin/knox-platform-for-enterprise/kbas', 'project': 'KPE', 'last_updated': '2023-11-06', 'family_tree': 'child', 'parent_id': 'da6f49da-a678-4f6c-b25d-0a46f049fc91', 'id': '90d363ae-6d2f-4d06-a35f-785cb4594b6d'}\n",
      "\n",
      "Score: 0.9806826541509089\n",
      "[\"Overview. Get started with the basics by learning what Knox Capture is and how it works. What is Knox Capture? To help explain what Knox Capture does, it may be helpful to start with an understanding of what a *wedge* scanner is, and how it relates to the Knox Capture solution. In traditional hardware-based barcode scanning terminology, a wedge scanner is a physical device that attaches between a keyboard and a computer. The keyboard attaches to the scanner, and the scanner attaches to the computer. From the computer's perspective, the scanner behaves just like an additional keyboard. When the computer runs a software program (like an inventory spreadsheet app), and barcodes are read using the wedge scanner, data is sent from the scanner to the program in the form of keystrokes. From the program's point of view, data appears exactly as if someone had typed it manually using a keyboard. How Knox Capture works In a similar way, Knox Capture also acts as a wedge between a software program and keyboard\"]\n",
      "{'source': 'all_processed_data.json', 'seq_num': 558, 'title': 'Overview', 'url': 'https://docs.samsungknox.com/admin/knox-capture/overview', 'project': 'KCAP', 'last_updated': '2023-07-26', 'family_tree': 'child', 'parent_id': '0bd1fb21-e613-40ba-9d24-27d0f9613b6a', 'id': '79a0567f-9798-446d-97e7-951f6da2e19f'}\n",
      "\n",
      "Score: 0.953541196586424\n",
      "['What do you mean by \\'backed by the hardware-based Knox platform security\\'?. The most frequently asked questions about Knox Platform for Enterprise. Knox Workspace leverages and extends the security features of the underlying Knox platform, which is built into Samsung smartphones, tablets, and other devices. The Knox platform leverages a \"completely isolated\" hardware region called TrustZone where cryptographic keys are stored, and this area is completely impervious to attack and inaccessible. That\\'s what Samsung means by \"hardware-based\" security. If the device is ever compromised, Knox Workspace is permanently locked because the encryption key for Workspace will never be retrievable from the HW chipset where the key has been stored. Data inside Knox Workspace becomes completely inaccessible, and enterprises keep their important data from being lost or stolen.']\n",
      "{'source': 'all_processed_data.json', 'seq_num': 1514, 'title': \"What do you mean by 'backed by the hardware-based Knox platform security'?\", 'url': 'https://docs.samsungknox.com/admin/knox-platform-for-enterprise/faq/#what-do-you-mean-by-backed-by-the-hardware-based-knox-platform-security', 'project': 'KPE', 'last_updated': '2023-07-26', 'family_tree': 'child', 'parent_id': '47ebe431-e8c4-409f-9f80-e09c43d6c637', 'id': 'fc05f7b1-bbd9-4fae-aa74-132e6b0ad782'}\n",
      "\n",
      "Score: 0.9425598613537753\n",
      "['What version of Knox Platform for Enterprise is running on my device?. The most frequently asked questions about Knox Platform for Enterprise. To find out what version of Knox Platform for Enterprise your device is running, go to: Settings > About Device > Software Information > Knox Version. This is a screenshot of the device menu containing the Knox version. Here, we see that Knox 3.1 is listed under Knox version. #Looking for more information? , See Knox on Android for a list of features available in each release of Knox.']\n",
      "{'source': 'all_processed_data.json', 'seq_num': 1499, 'title': 'What version of Knox Platform for Enterprise is running on my device?', 'url': 'https://docs.samsungknox.com/admin/knox-platform-for-enterprise/faq/#what-version-of-knox-platform-for-enterprise-is-running-on-my-device', 'project': 'KPE', 'last_updated': '2023-07-26', 'family_tree': 'child', 'parent_id': 'd63f9527-5f8a-4652-ab0f-a8e103c24b22', 'id': '9aaae6ed-f860-472e-8853-aba04f1bec9c'}\n",
      "\n",
      "Score: 0.9289015245193796\n",
      "['. XCover/Active key settings - Select what happens when the device user presses the XCover key. The options available are: Application launch, Intent broadcasting, or MS Teams. When you select Application launch or Intent broadcasting, the screen refreshes to show fields that allow you to customize what happens when the key is pressed. Top key settings - Select what happens when the device user presses the top key. Use the fields under this heading to customize what happens when the key is pressed. Side key settings - Select what happens when the device user presses the side key. Use the fields under this heading to customize what happens when the key is pressed. You can specify that launching an app requires a double press. 6. On the General configuration screen, configure the following settings, and then click Continue: NFC settings - Set whether you want to enable the use of Near Field Communication (NFC) apps on the device']\n",
      "{'source': 'all_processed_data.json', 'seq_num': 1368, 'title': 'Setup and config for admins', 'url': 'https://docs.samsungknox.com/admin/knox-mobile-enrollment/on-premise/get-started/setup-and-config-for-admins', 'project': 'KME', 'last_updated': '2023-10-30', 'family_tree': 'child', 'parent_id': '28eb7843-98f8-4a31-9aeb-10630b09aaf7', 'id': '58b88040-8283-4b96-b54b-258ed2574a38'}\n",
      "None\n",
      "##############################\n",
      "similar_docs_without_reranker\n",
      "##############################\n",
      "\n",
      "Score: 0.008360655737704918\n",
      "['Knox knowledge base articles']\n",
      "{'source': 'all_processed_data.json', 'seq_num': 256, 'title': 'Knox knowledge base articles', 'url': 'https://docs.samsungknox.com/admin/fundamentals/kbas', 'project': 'USP', 'last_updated': '2023-07-26', 'family_tree': 'child', 'parent_id': '00e1f1a7-a357-4a35-b072-b5d24c187b86', 'id': '8c0693e3-4e00-4687-b45b-47b2bdf62734'}\n",
      "\n",
      "Score: 0.008225806451612904\n",
      "['. Knox service Pricing Supported license keys Trial license and where to get it Server type Knox Mobile Enrollment Free No license key required No license key required Cloud Knox Mobile Enrollment(Advanced profile) Paid Knox Suite Knox Suite trial key (Knox Admin Portal) Cloud Knox Manage Paid Knox Suite Knox Manage key Knox Suite trial key (Knox Admin Portal) Cloud Knox E-FOTA Paid Knox Suite Knox E-FOTA key Knox Suite trial key (Knox Admin Portal) Cloud Knox Asset Intelligence Paid Knox Suite Knox Asset Intelligence key Knox Suite trial key (Knox Admin Portal) Cloud Knox Remote Support Paid Knox Suite Knox Manage key Knox Suite trial key (Knox Admin Portal) Cloud Knox Configure Paid Knox Configure key Knox Configure trial key (Knox Admin Portal) Cloud Knox Guard Paid Knox Guard key Knox Guard trial key (Knox Guard console) Cloud Samsung Care+ for Business Paid Samsung Care+ for Business key No trial available Cloud Knox Mobile Enrollment Direct Free No license key required No license key required']\n",
      "{'source': 'all_processed_data.json', 'seq_num': 150, 'title': 'Knox licenses', 'url': 'https://docs.samsungknox.com/admin/fundamentals/knox-licenses', 'project': 'USP', 'last_updated': '2023-07-26', 'family_tree': 'child', 'parent_id': 'd4d233e9-2d76-494c-9886-8a89f2a1819b', 'id': '65850dab-337b-4ec7-9002-a1b2e1c0c786'}\n",
      "\n",
      "Score: 0.008095238095238095\n",
      "[\"Sign in with a Samsung account. Sign up for a Knox account A Samsung Knox account is free and can be created in just a few minutes. With a Samsung Knox account, you can register for Knox services and get access to the Knox Admin Portal, which lets you easily manage your devices, admins, and licenses across each Knox service. To sign up for a Samsung Knox account, you need to link it to a Samsung account. If you don't yet have a Samsung account, you'll be prompted to create one when you sign up for SamsungKnox.com. To create your Knox account: 1. Go to SamsungKnox.com. 2. In the top-right corner, click GET STARTED. 3. Under Business email, enter the email address you use for work. 4. Select a Knox solution that you want to access - Knox Suite, Knox Configure, Knox Guard, Samsung Care + for Business, or Other products & services. If you want access to an individual Knox Suite service, such as Knox Mobile Enrollment, select Knox Suite. 5. Click CREATE MY ACCOUNT\"]\n",
      "{'source': 'all_processed_data.json', 'seq_num': 162, 'title': 'Sign in with a Samsung account', 'url': 'https://docs.samsungknox.com/admin/fundamentals/sign-up-for-samsung-knox/sign-in-with-a-samsung-account', 'project': 'USP', 'last_updated': '2023-08-23', 'family_tree': 'child', 'parent_id': 'a32897a3-5af8-46c1-9baf-8e4f49b543f0', 'id': 'b5e439d5-2ea2-4c64-9a07-74123e8fc4fb'}\n",
      "\n",
      "Score: 0.008032786885245903\n",
      "['Wi-Fi Enhanced Roaming Algorithm File-based encryption (FBE) and full-disk encryption (FDE) What policy do I use to block users from adding additional accounts on the device? \"Network may be monitored\" shown after installing a private CA certificate on device Does the Samsung email client support \"opaque signed\" emails? Can a network operator configure an E_APN on an employee\\'s device? If two similar Knox policies are applied to a device with an MDM, which one takes precedence? Should the Knox VPN client be installed inside or outside the Knox container? What are the package names for the Samsung Cisco AnyConnect and Juniper VPN clients? What is the minimum level of unlock method required to install a certificate in Android credential storage? What is the proper way to wildcard APK package names? Which servers do EMMs need to communicate with in order to conduct device attestation? What is the order of precedence for firewall rules? What URLs do I have to add to an allowlist to make Samsung apps work with an']\n",
      "{'source': 'all_processed_data.json', 'seq_num': 1656, 'title': 'Knox Platform for Enterprise knowledge base articles', 'url': 'https://docs.samsungknox.com/admin/knox-platform-for-enterprise/kbas', 'project': 'KPE', 'last_updated': '2023-11-06', 'family_tree': 'child', 'parent_id': 'da6f49da-a678-4f6c-b25d-0a46f049fc91', 'id': 'd76d56b6-b402-4dd4-99c1-b92749f2fa9a'}\n",
      "\n",
      "Score: 0.00796875\n",
      "[\"The Samsung Knox platform. Samsung Knox brings defense-grade security on the most popular consumer devices to all enterprises. The Knox Platform provides best-in-class hardware-based security, policy management, and compliance capabilities beyond the standard features commonplace in today's mobile device market. The Knox Platform is the cornerstone of a strong mobile security strategy supporting a wide variety of Samsung devices. Why use Samsung Knox? The Knox Platform helps you and your enterprise avoid the security gaps common on many mobile platforms. Knox received *strong* ratings in 25 of 28 categories in Gartner's December 2017 Mobile OSs and Device Security: A Comparison of Platforms and has received strong ratings for the last three years in a row. The Knox Platform's security hardening supports every aspect of mobile device operation. The Knox Platform enables trust in your mobile endpoints with advanced features like the evolutionary Knox Vault to the patented Real-Time Kernel Protection\"]\n",
      "{'source': 'all_processed_data.json', 'seq_num': 168, 'title': 'The Samsung Knox platform', 'url': 'https://docs.samsungknox.com/admin/fundamentals/whitepaper/the-samsung-knox-platform', 'project': 'USP', 'last_updated': '2023-07-26', 'family_tree': 'child', 'parent_id': 'f1cfdf2b-36dc-4a26-8176-ec386728eb39', 'id': '78298895-c50a-40a0-a145-605b471133a0'}\n",
      "\n",
      "Score: 0.007903225806451612\n",
      "['. What is an Approval ID? Who uploads devices to Knox Guard? What does a Complete device status mean in Knox Guard? What are the options for stopping payment blink reminders on an overdue device? How do I restrict a device to a particular telecom operator? How do I restrict a device to the first inserted SIM of an allowed telecom operator?']\n",
      "{'source': 'all_processed_data.json', 'seq_num': 734, 'title': 'Knox Guard knowledge base articles', 'url': 'https://docs.samsungknox.com/admin/knox-guard/kbas', 'project': 'KG', 'last_updated': '2023-07-26', 'family_tree': 'child', 'parent_id': 'bb4991b5-1e0e-47ff-89af-4e452dfed580', 'id': 'c10b6c77-2aa6-4027-8254-b7eb9265cd20'}\n",
      "\n",
      "Score: 0.007846153846153846\n",
      "[\"Knox Manage features. Component Name Description 1 Knox Manage admin portal Configures and manages Knox Manage environments. 2 Knox Manage agent An application installed on Android, iOS, and Windows devices. 3 Knox Manage server Knox Manage cloud server 4 Knox Manage Cloud Connector Transfers data securely between the client's enterprise server and the Knox Manage server. For more information, see Using Cloud Connector. 5 Lightweight Directory Access Protocol Imports the client's directory-based user information. For more information, see Sync user information with AD/LDAP and Integrate a directory server. 6 Certificate Authority Generates certificates for authentication when using a network, such as Wi-Fi, VPN, Exchange, or APN. For more information, see Certificate authority (CA). For a complete listing of all features, see the Knox Manage feature list.\"]\n",
      "{'source': 'all_processed_data.json', 'seq_num': 969, 'title': 'Knox Manage features', 'url': 'https://docs.samsungknox.com/admin/knox-manage/introduction/key-features/knox-manage-features', 'project': 'KM', 'last_updated': '2023-07-26', 'family_tree': 'child', 'parent_id': '8ee3b05f-bb48-41ae-96a7-b911912bbf56', 'id': '02539bea-39a1-4118-9661-316ce53596c9'}\n",
      "None\n",
      "##############################\n",
      "similar_docs\n",
      "##############################\n",
      "\n",
      "Score: 0.6129066348075867\n",
      "[\"The Samsung Knox platform. Samsung Knox brings defense-grade security on the most popular consumer devices to all enterprises. The Knox Platform provides best-in-class hardware-based security, policy management, and compliance capabilities beyond the standard features commonplace in today's mobile device market. The Knox Platform is the cornerstone of a strong mobile security strategy supporting a wide variety of Samsung devices. Why use Samsung Knox? The Knox Platform helps you and your enterprise avoid the security gaps common on many mobile platforms. Knox received *strong* ratings in 25 of 28 categories in Gartner's December 2017 Mobile OSs and Device Security: A Comparison of Platforms and has received strong ratings for the last three years in a row. The Knox Platform's security hardening supports every aspect of mobile device operation. The Knox Platform enables trust in your mobile endpoints with advanced features like the evolutionary Knox Vault to the patented Real-Time Kernel Protection\"]\n",
      "{'source': 'all_processed_data.json', 'seq_num': 168, 'title': 'The Samsung Knox platform', 'url': 'https://docs.samsungknox.com/admin/fundamentals/whitepaper/the-samsung-knox-platform', 'project': 'USP', 'last_updated': '2023-07-26', 'family_tree': 'child', 'parent_id': 'f1cfdf2b-36dc-4a26-8176-ec386728eb39', 'id': '78298895-c50a-40a0-a145-605b471133a0'}\n",
      "\n",
      "Score: 0.029522057622671127\n",
      "[\"Knox Manage features. Component Name Description 1 Knox Manage admin portal Configures and manages Knox Manage environments. 2 Knox Manage agent An application installed on Android, iOS, and Windows devices. 3 Knox Manage server Knox Manage cloud server 4 Knox Manage Cloud Connector Transfers data securely between the client's enterprise server and the Knox Manage server. For more information, see Using Cloud Connector. 5 Lightweight Directory Access Protocol Imports the client's directory-based user information. For more information, see Sync user information with AD/LDAP and Integrate a directory server. 6 Certificate Authority Generates certificates for authentication when using a network, such as Wi-Fi, VPN, Exchange, or APN. For more information, see Certificate authority (CA). For a complete listing of all features, see the Knox Manage feature list.\"]\n",
      "{'source': 'all_processed_data.json', 'seq_num': 969, 'title': 'Knox Manage features', 'url': 'https://docs.samsungknox.com/admin/knox-manage/introduction/key-features/knox-manage-features', 'project': 'KM', 'last_updated': '2023-07-26', 'family_tree': 'child', 'parent_id': '8ee3b05f-bb48-41ae-96a7-b911912bbf56', 'id': '02539bea-39a1-4118-9661-316ce53596c9'}\n",
      "\n",
      "Score: 0.027737464755773544\n",
      "[\"Sign in with a Samsung account. Sign up for a Knox account A Samsung Knox account is free and can be created in just a few minutes. With a Samsung Knox account, you can register for Knox services and get access to the Knox Admin Portal, which lets you easily manage your devices, admins, and licenses across each Knox service. To sign up for a Samsung Knox account, you need to link it to a Samsung account. If you don't yet have a Samsung account, you'll be prompted to create one when you sign up for SamsungKnox.com. To create your Knox account: 1. Go to SamsungKnox.com. 2. In the top-right corner, click GET STARTED. 3. Under Business email, enter the email address you use for work. 4. Select a Knox solution that you want to access - Knox Suite, Knox Configure, Knox Guard, Samsung Care + for Business, or Other products & services. If you want access to an individual Knox Suite service, such as Knox Mobile Enrollment, select Knox Suite. 5. Click CREATE MY ACCOUNT\"]\n",
      "{'source': 'all_processed_data.json', 'seq_num': 162, 'title': 'Sign in with a Samsung account', 'url': 'https://docs.samsungknox.com/admin/fundamentals/sign-up-for-samsung-knox/sign-in-with-a-samsung-account', 'project': 'USP', 'last_updated': '2023-08-23', 'family_tree': 'child', 'parent_id': 'a32897a3-5af8-46c1-9baf-8e4f49b543f0', 'id': 'b5e439d5-2ea2-4c64-9a07-74123e8fc4fb'}\n",
      "\n",
      "Score: 0.00762804364785552\n",
      "['Knox knowledge base articles']\n",
      "{'source': 'all_processed_data.json', 'seq_num': 256, 'title': 'Knox knowledge base articles', 'url': 'https://docs.samsungknox.com/admin/fundamentals/kbas', 'project': 'USP', 'last_updated': '2023-07-26', 'family_tree': 'child', 'parent_id': '00e1f1a7-a357-4a35-b072-b5d24c187b86', 'id': '8c0693e3-4e00-4687-b45b-47b2bdf62734'}\n",
      "\n",
      "Score: 0.003211595583707094\n",
      "['Wi-Fi Enhanced Roaming Algorithm File-based encryption (FBE) and full-disk encryption (FDE) What policy do I use to block users from adding additional accounts on the device? \"Network may be monitored\" shown after installing a private CA certificate on device Does the Samsung email client support \"opaque signed\" emails? Can a network operator configure an E_APN on an employee\\'s device? If two similar Knox policies are applied to a device with an MDM, which one takes precedence? Should the Knox VPN client be installed inside or outside the Knox container? What are the package names for the Samsung Cisco AnyConnect and Juniper VPN clients? What is the minimum level of unlock method required to install a certificate in Android credential storage? What is the proper way to wildcard APK package names? Which servers do EMMs need to communicate with in order to conduct device attestation? What is the order of precedence for firewall rules? What URLs do I have to add to an allowlist to make Samsung apps work with an']\n",
      "{'source': 'all_processed_data.json', 'seq_num': 1656, 'title': 'Knox Platform for Enterprise knowledge base articles', 'url': 'https://docs.samsungknox.com/admin/knox-platform-for-enterprise/kbas', 'project': 'KPE', 'last_updated': '2023-11-06', 'family_tree': 'child', 'parent_id': 'da6f49da-a678-4f6c-b25d-0a46f049fc91', 'id': 'd76d56b6-b402-4dd4-99c1-b92749f2fa9a'}\n",
      "None\n",
      "\n",
      "==========  Results  ==========\n",
      "\n",
      "1. question: What is knox?\n",
      "2. # documents: 5\n",
      "3. Documents: \n",
      "\n",
      "-----------------------------------------------\n",
      "1. Chunk: 1012 Characters\n",
      "-----------------------------------------------\n",
      "The Samsung Knox platform. Samsung Knox brings defense-grade security on the most popular consumer\n",
      "devices to all enterprises. The Knox Platform provides best-in-class hardware-based security, policy\n",
      "management, and compliance capabilities beyond the standard features commonplace in today's mobile\n",
      "device market. The Knox Platform is the cornerstone of a strong mobile security strategy supporting\n",
      "a wide variety of Samsung devices. Why use Samsung Knox? The Knox Platform helps you and your\n",
      "enterprise avoid the security gaps common on many mobile platforms. Knox received *strong* ratings\n",
      "in 25 of 28 categories in Gartner's December 2017 Mobile OSs and Device Security: A Comparison of\n",
      "Platforms and has received strong ratings for the last three years in a row. The Knox Platform's\n",
      "security hardening supports every aspect of mobile device operation. The Knox Platform enables trust\n",
      "in your mobile endpoints with advanced features like the evolutionary Knox Vault to the patented\n",
      "Real-Time Kernel Protection\n",
      "metadata:\n",
      " {'source': 'all_processed_data.json', 'seq_num': 168, 'title': 'The Samsung Knox platform', 'url':\n",
      "'https://docs.samsungknox.com/admin/fundamentals/whitepaper/the-samsung-knox-platform', 'project':\n",
      "'USP', 'last_updated': '2023-07-26', 'family_tree': 'child', 'parent_id':\n",
      "'f1cfdf2b-36dc-4a26-8176-ec386728eb39', 'id': '78298895-c50a-40a0-a145-605b471133a0'}\n",
      "-----------------------------------------------\n",
      "2. Chunk: 867 Characters\n",
      "-----------------------------------------------\n",
      "Knox Manage features. Component Name Description 1 Knox Manage admin portal Configures and manages\n",
      "Knox Manage environments. 2 Knox Manage agent An application installed on Android, iOS, and Windows\n",
      "devices. 3 Knox Manage server Knox Manage cloud server 4 Knox Manage Cloud Connector Transfers data\n",
      "securely between the client's enterprise server and the Knox Manage server. For more information,\n",
      "see Using Cloud Connector. 5 Lightweight Directory Access Protocol Imports the client's directory-\n",
      "based user information. For more information, see Sync user information with AD/LDAP and Integrate a\n",
      "directory server. 6 Certificate Authority Generates certificates for authentication when using a\n",
      "network, such as Wi-Fi, VPN, Exchange, or APN. For more information, see Certificate authority (CA).\n",
      "For a complete listing of all features, see the Knox Manage feature list.\n",
      "metadata:\n",
      " {'source': 'all_processed_data.json', 'seq_num': 969, 'title': 'Knox Manage features', 'url':\n",
      "'https://docs.samsungknox.com/admin/knox-manage/introduction/key-features/knox-manage-features',\n",
      "'project': 'KM', 'last_updated': '2023-07-26', 'family_tree': 'child', 'parent_id':\n",
      "'8ee3b05f-bb48-41ae-96a7-b911912bbf56', 'id': '02539bea-39a1-4118-9661-316ce53596c9'}\n",
      "-----------------------------------------------\n",
      "3. Chunk: 973 Characters\n",
      "-----------------------------------------------\n",
      "Sign in with a Samsung account. Sign up for a Knox account A Samsung Knox account is free and can be\n",
      "created in just a few minutes. With a Samsung Knox account, you can register for Knox services and\n",
      "get access to the Knox Admin Portal, which lets you easily manage your devices, admins, and licenses\n",
      "across each Knox service. To sign up for a Samsung Knox account, you need to link it to a Samsung\n",
      "account. If you don't yet have a Samsung account, you'll be prompted to create one when you sign up\n",
      "for SamsungKnox.com. To create your Knox account: 1. Go to SamsungKnox.com. 2. In the top-right\n",
      "corner, click GET STARTED. 3. Under Business email, enter the email address you use for work. 4.\n",
      "Select a Knox solution that you want to access - Knox Suite, Knox Configure, Knox Guard, Samsung\n",
      "Care + for Business, or Other products & services. If you want access to an individual Knox Suite\n",
      "service, such as Knox Mobile Enrollment, select Knox Suite. 5. Click CREATE MY ACCOUNT\n",
      "metadata:\n",
      " {'source': 'all_processed_data.json', 'seq_num': 162, 'title': 'Sign in with a Samsung account',\n",
      "'url': 'https://docs.samsungknox.com/admin/fundamentals/sign-up-for-samsung-knox/sign-in-with-a-\n",
      "samsung-account', 'project': 'USP', 'last_updated': '2023-08-23', 'family_tree': 'child',\n",
      "'parent_id': 'a32897a3-5af8-46c1-9baf-8e4f49b543f0', 'id': 'b5e439d5-2ea2-4c64-9a07-74123e8fc4fb'}\n",
      "-----------------------------------------------\n",
      "4. Chunk: 28 Characters\n",
      "-----------------------------------------------\n",
      "Knox knowledge base articles\n",
      "metadata:\n",
      " {'source': 'all_processed_data.json', 'seq_num': 256, 'title': 'Knox knowledge base articles',\n",
      "'url': 'https://docs.samsungknox.com/admin/fundamentals/kbas', 'project': 'USP', 'last_updated':\n",
      "'2023-07-26', 'family_tree': 'child', 'parent_id': '00e1f1a7-a357-4a35-b072-b5d24c187b86', 'id':\n",
      "'8c0693e3-4e00-4687-b45b-47b2bdf62734'}\n",
      "-----------------------------------------------\n",
      "5. Chunk: 1023 Characters\n",
      "-----------------------------------------------\n",
      "Wi-Fi Enhanced Roaming Algorithm File-based encryption (FBE) and full-disk encryption (FDE) What\n",
      "policy do I use to block users from adding additional accounts on the device? \"Network may be\n",
      "monitored\" shown after installing a private CA certificate on device Does the Samsung email client\n",
      "support \"opaque signed\" emails? Can a network operator configure an E_APN on an employee's device?\n",
      "If two similar Knox policies are applied to a device with an MDM, which one takes precedence? Should\n",
      "the Knox VPN client be installed inside or outside the Knox container? What are the package names\n",
      "for the Samsung Cisco AnyConnect and Juniper VPN clients? What is the minimum level of unlock method\n",
      "required to install a certificate in Android credential storage? What is the proper way to wildcard\n",
      "APK package names? Which servers do EMMs need to communicate with in order to conduct device\n",
      "attestation? What is the order of precedence for firewall rules? What URLs do I have to add to an\n",
      "allowlist to make Samsung apps work with an\n",
      "metadata:\n",
      " {'source': 'all_processed_data.json', 'seq_num': 1656, 'title': 'Knox Platform for Enterprise\n",
      "knowledge base articles', 'url': 'https://docs.samsungknox.com/admin/knox-platform-for-\n",
      "enterprise/kbas', 'project': 'KPE', 'last_updated': '2023-11-06', 'family_tree': 'child',\n",
      "'parent_id': 'da6f49da-a678-4f6c-b25d-0a46f049fc91', 'id': 'd76d56b6-b402-4dd4-99c1-b92749f2fa9a'}\n"
     ]
    }
   ],
   "source": [
    "query = \"What is knox?\"\n",
    "search_hybrid_result = opensearch_hybrid_retriever.get_relevant_documents(query)\n",
    "\n",
    "print(\"\\n==========  Results  ==========\\n\")\n",
    "print(f'1. question: {query}')\n",
    "print(f'2. # documents: {len(search_hybrid_result)}')\n",
    "print(\"3. Documents: \\n\")\n",
    "\n",
    "show_context_used(search_hybrid_result)"
   ]
  },
  {
   "cell_type": "markdown",
   "id": "a981abe7-5208-48f5-a9cc-8c557e9941ca",
   "metadata": {},
   "source": [
    "## 5. RAG using RetrievalQA powered by LangChain"
   ]
  },
  {
   "cell_type": "code",
   "execution_count": 58,
   "id": "08cf6d2b-451b-499c-aec2-bb6f5abafbb0",
   "metadata": {
    "tags": []
   },
   "outputs": [],
   "source": [
    "from utils.rag import prompt_repo\n",
    "from utils.rag import run_RetrievalQA\n",
    "from langchain.prompts import PromptTemplate"
   ]
  },
  {
   "cell_type": "markdown",
   "id": "b490df1f-8113-4dd1-a578-a3e1a6918fde",
   "metadata": {
    "tags": []
   },
   "source": [
    "### Prompting\n",
    "- [TIP] Prompt의 instruction의 경우 한글보다 영어로 했을 때 더 좋은 결과를 얻을 수 있습니다."
   ]
  },
  {
   "cell_type": "code",
   "execution_count": 59,
   "id": "0a68b4bf-8fc5-45a6-80cf-2bc059d4e389",
   "metadata": {
    "tags": []
   },
   "outputs": [],
   "source": [
    "PROMPT = prompt_repo.get_qa(prompt_type=\"answer_only\") # [\"answer_only\", \"answer_with_ref\", \"original\"]"
   ]
  },
  {
   "cell_type": "code",
   "execution_count": 60,
   "id": "cbb60f9d-3594-44ad-afca-e89feea8e29a",
   "metadata": {
    "tags": []
   },
   "outputs": [
    {
     "name": "stdout",
     "output_type": "stream",
     "text": [
      "('\\n'\n",
      " '            \\n'\n",
      " '\\n'\n",
      " 'Human:\\n'\n",
      " '            You are a master answer bot designed to answer software '\n",
      " \"developer's questions.\\n\"\n",
      " \"            I'm going to give you a context. Read the context carefully, \"\n",
      " \"because I'm going to ask you a question about it.\\n\"\n",
      " '\\n'\n",
      " '            Here is the context: <context>{context}</context>\\n'\n",
      " '            \\n'\n",
      " '            First, find a few paragraphs or sentences from the context that '\n",
      " 'are most relevant to answering the question.\\n'\n",
      " '            Then, answer the question as much as you can.\\n'\n",
      " '\\n'\n",
      " '            Skip the preamble and go straight into the answer.\\n'\n",
      " \"            Don't insert any XML tag such as <context> and </context> when \"\n",
      " 'answering.\\n'\n",
      " '            \\n'\n",
      " '            Here is the question: <question>{question}</question>\\n'\n",
      " '\\n'\n",
      " '            If the question cannot be answered by the context, say \"No '\n",
      " 'relevant context\".\\n'\n",
      " '            \\n'\n",
      " '\\n'\n",
      " 'Assistant: Here is the answer. ')\n"
     ]
    }
   ],
   "source": [
    "pprint (PROMPT.template)"
   ]
  },
  {
   "cell_type": "markdown",
   "id": "c66157a6-aec8-4555-a90f-1178e6f4f6e0",
   "metadata": {},
   "source": [
    "### Update Search Params (Optional)"
   ]
  },
  {
   "cell_type": "code",
   "execution_count": 63,
   "id": "64df2daf-8b42-472a-885f-97320ee98132",
   "metadata": {
    "tags": []
   },
   "outputs": [],
   "source": [
    "from langchain.chains import RetrievalQA"
   ]
  },
  {
   "cell_type": "code",
   "execution_count": 75,
   "id": "d2697230-6962-43d8-8917-ba9daa4295bb",
   "metadata": {
    "tags": []
   },
   "outputs": [],
   "source": [
    "opensearch_hybrid_retriever.update_search_params(\n",
    "    k=6,\n",
    "    minimum_should_match=0,\n",
    "    # filter=[\n",
    "    #     {'term': {'metadata.family_tree': 'child'}},\n",
    "    # ],\n",
    "    ensemble_weights=[0.51, 0.49], #semantic, lexical\n",
    "\n",
    "    reranker=True,\n",
    "    reranker_endpoint_name=endpoint_name,\n",
    "\n",
    "    parent_document=True, # enable parent document\n",
    "    verbose=True\n",
    ")"
   ]
  },
  {
   "cell_type": "markdown",
   "id": "aee26c22-b674-4f4f-a87b-29508e336fda",
   "metadata": {},
   "source": [
    "### Request"
   ]
  },
  {
   "cell_type": "code",
   "execution_count": 76,
   "id": "95fa61d3-9256-432a-96a3-2c696c97ea68",
   "metadata": {
    "tags": []
   },
   "outputs": [],
   "source": [
    "qa = RetrievalQA.from_chain_type(\n",
    "    llm=llm_text,\n",
    "    chain_type=\"stuff\",\n",
    "    retriever=opensearch_hybrid_retriever,\n",
    "    return_source_documents=True,\n",
    "    chain_type_kwargs={\n",
    "        \"prompt\": PROMPT,\n",
    "        \"verbose\": False,\n",
    "    },\n",
    "    verbose=False\n",
    ")"
   ]
  },
  {
   "cell_type": "code",
   "execution_count": 77,
   "id": "390ad324-40b3-4bcb-92b9-50eb080492a5",
   "metadata": {
    "tags": []
   },
   "outputs": [
    {
     "name": "stdout",
     "output_type": "stream",
     "text": [
      "===== ParentDocument =====\n",
      "filter: [{'term': {'metadata.family_tree': 'child'}}]\n",
      "# child_docs: 6\n",
      "# parent docs: 6\n",
      "# duplicates: 0\n",
      "##############################\n",
      "async_mode\n",
      "##############################\n",
      "True\n",
      "##############################\n",
      "reranker\n",
      "##############################\n",
      "True\n",
      "##############################\n",
      "rag_fusion\n",
      "##############################\n",
      "False\n",
      "##############################\n",
      "HyDE\n",
      "##############################\n",
      "False\n",
      "##############################\n",
      "parent_document\n",
      "##############################\n",
      "True\n",
      "##############################\n",
      "similar_docs_semantic\n",
      "##############################\n",
      "\n",
      "Score: 1.0\n",
      "['Knox knowledge base articles']\n",
      "{'source': 'all_processed_data.json', 'seq_num': 256, 'title': 'Knox knowledge base articles', 'url': 'https://docs.samsungknox.com/admin/fundamentals/kbas', 'project': 'USP', 'last_updated': '2023-07-26', 'family_tree': 'child', 'parent_id': '00e1f1a7-a357-4a35-b072-b5d24c187b86', 'id': '8c0693e3-4e00-4687-b45b-47b2bdf62734'}\n",
      "\n",
      "Score: 0.9331517242798636\n",
      "['. Knox service Pricing Supported license keys Trial license and where to get it Server type Knox Mobile Enrollment Free No license key required No license key required Cloud Knox Mobile Enrollment(Advanced profile) Paid Knox Suite Knox Suite trial key (Knox Admin Portal) Cloud Knox Manage Paid Knox Suite Knox Manage key Knox Suite trial key (Knox Admin Portal) Cloud Knox E-FOTA Paid Knox Suite Knox E-FOTA key Knox Suite trial key (Knox Admin Portal) Cloud Knox Asset Intelligence Paid Knox Suite Knox Asset Intelligence key Knox Suite trial key (Knox Admin Portal) Cloud Knox Remote Support Paid Knox Suite Knox Manage key Knox Suite trial key (Knox Admin Portal) Cloud Knox Configure Paid Knox Configure key Knox Configure trial key (Knox Admin Portal) Cloud Knox Guard Paid Knox Guard key Knox Guard trial key (Knox Guard console) Cloud Samsung Care+ for Business Paid Samsung Care+ for Business key No trial available Cloud Knox Mobile Enrollment Direct Free No license key required No license key required']\n",
      "{'source': 'all_processed_data.json', 'seq_num': 150, 'title': 'Knox licenses', 'url': 'https://docs.samsungknox.com/admin/fundamentals/knox-licenses', 'project': 'USP', 'last_updated': '2023-07-26', 'family_tree': 'child', 'parent_id': 'd4d233e9-2d76-494c-9886-8a89f2a1819b', 'id': '65850dab-337b-4ec7-9002-a1b2e1c0c786'}\n",
      "\n",
      "Score: 0.9318079041784717\n",
      "[\"Sign in with a Samsung account. Sign up for a Knox account A Samsung Knox account is free and can be created in just a few minutes. With a Samsung Knox account, you can register for Knox services and get access to the Knox Admin Portal, which lets you easily manage your devices, admins, and licenses across each Knox service. To sign up for a Samsung Knox account, you need to link it to a Samsung account. If you don't yet have a Samsung account, you'll be prompted to create one when you sign up for SamsungKnox.com. To create your Knox account: 1. Go to SamsungKnox.com. 2. In the top-right corner, click GET STARTED. 3. Under Business email, enter the email address you use for work. 4. Select a Knox solution that you want to access - Knox Suite, Knox Configure, Knox Guard, Samsung Care + for Business, or Other products & services. If you want access to an individual Knox Suite service, such as Knox Mobile Enrollment, select Knox Suite. 5. Click CREATE MY ACCOUNT\"]\n",
      "{'source': 'all_processed_data.json', 'seq_num': 162, 'title': 'Sign in with a Samsung account', 'url': 'https://docs.samsungknox.com/admin/fundamentals/sign-up-for-samsung-knox/sign-in-with-a-samsung-account', 'project': 'USP', 'last_updated': '2023-08-23', 'family_tree': 'child', 'parent_id': 'a32897a3-5af8-46c1-9baf-8e4f49b543f0', 'id': 'b5e439d5-2ea2-4c64-9a07-74123e8fc4fb'}\n",
      "\n",
      "Score: 0.9290619396176194\n",
      "[\"The Samsung Knox platform. Samsung Knox brings defense-grade security on the most popular consumer devices to all enterprises. The Knox Platform provides best-in-class hardware-based security, policy management, and compliance capabilities beyond the standard features commonplace in today's mobile device market. The Knox Platform is the cornerstone of a strong mobile security strategy supporting a wide variety of Samsung devices. Why use Samsung Knox? The Knox Platform helps you and your enterprise avoid the security gaps common on many mobile platforms. Knox received *strong* ratings in 25 of 28 categories in Gartner's December 2017 Mobile OSs and Device Security: A Comparison of Platforms and has received strong ratings for the last three years in a row. The Knox Platform's security hardening supports every aspect of mobile device operation. The Knox Platform enables trust in your mobile endpoints with advanced features like the evolutionary Knox Vault to the patented Real-Time Kernel Protection\"]\n",
      "{'source': 'all_processed_data.json', 'seq_num': 168, 'title': 'The Samsung Knox platform', 'url': 'https://docs.samsungknox.com/admin/fundamentals/whitepaper/the-samsung-knox-platform', 'project': 'USP', 'last_updated': '2023-07-26', 'family_tree': 'child', 'parent_id': 'f1cfdf2b-36dc-4a26-8176-ec386728eb39', 'id': '78298895-c50a-40a0-a145-605b471133a0'}\n",
      "\n",
      "Score: 0.9283034348395772\n",
      "[\"Knox Manage features. Component Name Description 1 Knox Manage admin portal Configures and manages Knox Manage environments. 2 Knox Manage agent An application installed on Android, iOS, and Windows devices. 3 Knox Manage server Knox Manage cloud server 4 Knox Manage Cloud Connector Transfers data securely between the client's enterprise server and the Knox Manage server. For more information, see Using Cloud Connector. 5 Lightweight Directory Access Protocol Imports the client's directory-based user information. For more information, see Sync user information with AD/LDAP and Integrate a directory server. 6 Certificate Authority Generates certificates for authentication when using a network, such as Wi-Fi, VPN, Exchange, or APN. For more information, see Certificate authority (CA). For a complete listing of all features, see the Knox Manage feature list.\"]\n",
      "{'source': 'all_processed_data.json', 'seq_num': 969, 'title': 'Knox Manage features', 'url': 'https://docs.samsungknox.com/admin/knox-manage/introduction/key-features/knox-manage-features', 'project': 'KM', 'last_updated': '2023-07-26', 'family_tree': 'child', 'parent_id': '8ee3b05f-bb48-41ae-96a7-b911912bbf56', 'id': '02539bea-39a1-4118-9661-316ce53596c9'}\n",
      "\n",
      "Score: 0.9270623100616721\n",
      "[\"Latest videos. Watch the latest videos to learn how Knox services work. Title , Description - , - Getting started with Knox Admin Portal , The Knox Admin Portal is the hub for all your Knox services, designed to provide a cohesive user experience. This video walks you through how to get started with the Knox Admin Portal so that it can help streamline your device management operations and help you manage your resources across services more easily. Getting started with Knox Suite , Knox Suite is an all-in-one solution, built for enterprise mobility. This video walks you through how to get started with the Knox Suite so that it can help address your enterprise's needs related to security and management throughout the entire device lifecycle. Getting started with Knox Mobile Enrollment , Knox Mobile Enrollment is an automated EMM enrollment tool for provisioning devices quickly and easily, out-of-the-box. Broad-ranging deployment and security features ensure ease of enrollment, in any situation\"]\n",
      "{'source': 'all_processed_data.json', 'seq_num': 151, 'title': 'Latest videos', 'url': 'https://docs.samsungknox.com/admin/fundamentals/latest-videos', 'project': 'USP', 'last_updated': '2023-11-10', 'family_tree': 'child', 'parent_id': 'e0025b33-9c8a-4815-b7d7-090334b5acb4', 'id': 'e6d75886-fbd8-49cf-979f-e4e0515a221f'}\n",
      "\n",
      "Score: 0.9260386496628273\n",
      "['Knox Suite. Knox Suite is a bundled offering of Knox solutions for enterprise mobility designed to address organizations\\' needs related to security and management throughout the entire device lifecycle. Learn more about Knox Suite #Audience This document is intended for IT Admins. Understand what\\'s included in Knox Suite and how you can use it to manage, secure, and maintain enterprise devices. Learn where to find information on how to perform various tasks with Knox\"Suite services. About Knox Suite Knox Suite is a bundled offering that includes the following Knox products: Knox Platform for Enterprise - A Knox solution that provides military-grade security to Samsung Android phones, tablets, and Tizen watches for business. Knox Mobile Enrollment - A Knox solution that allows you to enroll thousands of Samsung devices in your EMM at once. When used with a Knox Suite license, Knox Mobile Enrollment provides advanced profiles that offer IT admins additional features such as higher control over locking devices']\n",
      "{'source': 'all_processed_data.json', 'seq_num': 124, 'title': 'Knox Suite', 'url': 'https://docs.samsungknox.com/admin/knox-suite', 'project': 'KS', 'last_updated': '2023-07-26', 'family_tree': 'child', 'parent_id': '1746ccb3-35d8-448c-aebd-2608f2096337', 'id': '32e7e898-1754-485b-941d-15cf63a49d24'}\n",
      "\n",
      "Score: 0.9255100122795343\n",
      "['Learn more about Knox Suite. This section describes where you can find instructions on how to perform tasks using the different products included in Knox Suite. General documentation for the Knox Suite services Knox Service , See - , - Knox Manage , Knox Manage Admin Guide Knox Platform for Enterprise , Knox Platform for Enterprise Admin Guide Knox Mobile Enrollment , Knox Mobile Enrollment Admin Guide Knox E-FOTA , Knox E-FOTA Admin Guide Knox Asset Intelligence , Knox Asset Intelligence Admin Guide Knox Capture , Knox Capture Admin Guide Knox Authentication Manager , Knox Authentication Manager Admin Guide Knox Suite operations For information on See Knox service How to set up Knox Manage with Knox Suite Workflow:\"Set up Knox Manage with a Knox Suite license Knox Manage How to check your Knox Suite license usage View and modify a license Note Alternatively, you can sign in to your SamsungKnox.com dashboard and click Licenses to view all licenses you have for all your Knox services']\n",
      "{'source': 'all_processed_data.json', 'seq_num': 123, 'title': 'Learn more about Knox Suite', 'url': 'https://docs.samsungknox.com/admin/knox-suite/learn-more-about-knox-suite', 'project': 'KS', 'last_updated': '2023-07-26', 'family_tree': 'child', 'parent_id': '1c2c946c-8fc7-49fe-8c2d-98eaccb29235', 'id': '0d0d5096-4b23-4f91-8560-f55ed67d1eee'}\n",
      "\n",
      "Score: 0.9250175960925011\n",
      "['Video introduction to Samsung Knox Workspace. The most frequently asked questions about Knox Platform for Enterprise. Brief introduction to how Knox Workspace\"works on supported Samsung devices.']\n",
      "{'source': 'all_processed_data.json', 'seq_num': 1507, 'title': 'Video introduction to Samsung Knox Workspace', 'url': 'https://docs.samsungknox.com/admin/knox-platform-for-enterprise/faq/#video-introduction-to-samsung-knox-workspace', 'project': 'KPE', 'last_updated': '2023-07-26', 'family_tree': 'child', 'parent_id': '8934a626-322a-4c84-9078-df9eec0255d0', 'id': '56b7ff81-8f0a-4457-939c-33e06e571720'}\n",
      "None\n",
      "##############################\n",
      "similar_docs_keyword\n",
      "##############################\n",
      "\n",
      "Score: 1.0\n",
      "['Wi-Fi Enhanced Roaming Algorithm File-based encryption (FBE) and full-disk encryption (FDE) What policy do I use to block users from adding additional accounts on the device? \"Network may be monitored\" shown after installing a private CA certificate on device Does the Samsung email client support \"opaque signed\" emails? Can a network operator configure an E_APN on an employee\\'s device? If two similar Knox policies are applied to a device with an MDM, which one takes precedence? Should the Knox VPN client be installed inside or outside the Knox container? What are the package names for the Samsung Cisco AnyConnect and Juniper VPN clients? What is the minimum level of unlock method required to install a certificate in Android credential storage? What is the proper way to wildcard APK package names? Which servers do EMMs need to communicate with in order to conduct device attestation? What is the order of precedence for firewall rules? What URLs do I have to add to an allowlist to make Samsung apps work with an']\n",
      "{'source': 'all_processed_data.json', 'seq_num': 1656, 'title': 'Knox Platform for Enterprise knowledge base articles', 'url': 'https://docs.samsungknox.com/admin/knox-platform-for-enterprise/kbas', 'project': 'KPE', 'last_updated': '2023-11-06', 'family_tree': 'child', 'parent_id': 'da6f49da-a678-4f6c-b25d-0a46f049fc91', 'id': 'd76d56b6-b402-4dd4-99c1-b92749f2fa9a'}\n",
      "\n",
      "Score: 0.9963191283536638\n",
      "['. What is an Approval ID? Who uploads devices to Knox Guard? What does a Complete device status mean in Knox Guard? What are the options for stopping payment blink reminders on an overdue device? How do I restrict a device to a particular telecom operator? How do I restrict a device to the first inserted SIM of an allowed telecom operator?']\n",
      "{'source': 'all_processed_data.json', 'seq_num': 734, 'title': 'Knox Guard knowledge base articles', 'url': 'https://docs.samsungknox.com/admin/knox-guard/kbas', 'project': 'KG', 'last_updated': '2023-07-26', 'family_tree': 'child', 'parent_id': 'bb4991b5-1e0e-47ff-89af-4e452dfed580', 'id': 'c10b6c77-2aa6-4027-8254-b7eb9265cd20'}\n",
      "\n",
      "Score: 0.9866844650432759\n",
      "['way to wildcard APK package names? Which servers do EMMs need to communicate with in order to conduct device attestation? What is the order of precedence for firewall rules? What URLs do I have to add to an allowlist to make Samsung apps work with an authenticated proxy? Can I disable power saving mode on Knox supported devices? If I cannot resolve an SE for Android issue, who do I escalate to? Is there a way to automatically enable email sync while roaming? What does the term \"Maximum number of licenses\" mean for KPE Standard licenses? Knox legacy workspace articles Using SSO with a Common Access Card (CAC) in the Work Profile How many certificates can be stored in the Knox platform TrustZone? Accessing Knox Workspace without connecting to Active Directory network Unlocking the Knox Workspace container using Active Directory credentials What is the certificate length limit in the Knox CCM keystore? Can I create an RSA Key Pair on a Knox Platform for Enterprise device? Known issues Unable to install Samsung']\n",
      "{'source': 'all_processed_data.json', 'seq_num': 1656, 'title': 'Knox Platform for Enterprise knowledge base articles', 'url': 'https://docs.samsungknox.com/admin/knox-platform-for-enterprise/kbas', 'project': 'KPE', 'last_updated': '2023-11-06', 'family_tree': 'child', 'parent_id': 'da6f49da-a678-4f6c-b25d-0a46f049fc91', 'id': '90d363ae-6d2f-4d06-a35f-785cb4594b6d'}\n",
      "\n",
      "Score: 0.9806826541509089\n",
      "[\"Overview. Get started with the basics by learning what Knox Capture is and how it works. What is Knox Capture? To help explain what Knox Capture does, it may be helpful to start with an understanding of what a *wedge* scanner is, and how it relates to the Knox Capture solution. In traditional hardware-based barcode scanning terminology, a wedge scanner is a physical device that attaches between a keyboard and a computer. The keyboard attaches to the scanner, and the scanner attaches to the computer. From the computer's perspective, the scanner behaves just like an additional keyboard. When the computer runs a software program (like an inventory spreadsheet app), and barcodes are read using the wedge scanner, data is sent from the scanner to the program in the form of keystrokes. From the program's point of view, data appears exactly as if someone had typed it manually using a keyboard. How Knox Capture works In a similar way, Knox Capture also acts as a wedge between a software program and keyboard\"]\n",
      "{'source': 'all_processed_data.json', 'seq_num': 558, 'title': 'Overview', 'url': 'https://docs.samsungknox.com/admin/knox-capture/overview', 'project': 'KCAP', 'last_updated': '2023-07-26', 'family_tree': 'child', 'parent_id': '0bd1fb21-e613-40ba-9d24-27d0f9613b6a', 'id': '79a0567f-9798-446d-97e7-951f6da2e19f'}\n",
      "\n",
      "Score: 0.953541196586424\n",
      "['What do you mean by \\'backed by the hardware-based Knox platform security\\'?. The most frequently asked questions about Knox Platform for Enterprise. Knox Workspace leverages and extends the security features of the underlying Knox platform, which is built into Samsung smartphones, tablets, and other devices. The Knox platform leverages a \"completely isolated\" hardware region called TrustZone where cryptographic keys are stored, and this area is completely impervious to attack and inaccessible. That\\'s what Samsung means by \"hardware-based\" security. If the device is ever compromised, Knox Workspace is permanently locked because the encryption key for Workspace will never be retrievable from the HW chipset where the key has been stored. Data inside Knox Workspace becomes completely inaccessible, and enterprises keep their important data from being lost or stolen.']\n",
      "{'source': 'all_processed_data.json', 'seq_num': 1514, 'title': \"What do you mean by 'backed by the hardware-based Knox platform security'?\", 'url': 'https://docs.samsungknox.com/admin/knox-platform-for-enterprise/faq/#what-do-you-mean-by-backed-by-the-hardware-based-knox-platform-security', 'project': 'KPE', 'last_updated': '2023-07-26', 'family_tree': 'child', 'parent_id': '47ebe431-e8c4-409f-9f80-e09c43d6c637', 'id': 'fc05f7b1-bbd9-4fae-aa74-132e6b0ad782'}\n",
      "\n",
      "Score: 0.9425598613537753\n",
      "['What version of Knox Platform for Enterprise is running on my device?. The most frequently asked questions about Knox Platform for Enterprise. To find out what version of Knox Platform for Enterprise your device is running, go to: Settings > About Device > Software Information > Knox Version. This is a screenshot of the device menu containing the Knox version. Here, we see that Knox 3.1 is listed under Knox version. #Looking for more information? , See Knox on Android for a list of features available in each release of Knox.']\n",
      "{'source': 'all_processed_data.json', 'seq_num': 1499, 'title': 'What version of Knox Platform for Enterprise is running on my device?', 'url': 'https://docs.samsungknox.com/admin/knox-platform-for-enterprise/faq/#what-version-of-knox-platform-for-enterprise-is-running-on-my-device', 'project': 'KPE', 'last_updated': '2023-07-26', 'family_tree': 'child', 'parent_id': 'd63f9527-5f8a-4652-ab0f-a8e103c24b22', 'id': '9aaae6ed-f860-472e-8853-aba04f1bec9c'}\n",
      "\n",
      "Score: 0.9289015245193796\n",
      "['. XCover/Active key settings - Select what happens when the device user presses the XCover key. The options available are: Application launch, Intent broadcasting, or MS Teams. When you select Application launch or Intent broadcasting, the screen refreshes to show fields that allow you to customize what happens when the key is pressed. Top key settings - Select what happens when the device user presses the top key. Use the fields under this heading to customize what happens when the key is pressed. Side key settings - Select what happens when the device user presses the side key. Use the fields under this heading to customize what happens when the key is pressed. You can specify that launching an app requires a double press. 6. On the General configuration screen, configure the following settings, and then click Continue: NFC settings - Set whether you want to enable the use of Near Field Communication (NFC) apps on the device']\n",
      "{'source': 'all_processed_data.json', 'seq_num': 1368, 'title': 'Setup and config for admins', 'url': 'https://docs.samsungknox.com/admin/knox-mobile-enrollment/on-premise/get-started/setup-and-config-for-admins', 'project': 'KME', 'last_updated': '2023-10-30', 'family_tree': 'child', 'parent_id': '28eb7843-98f8-4a31-9aeb-10630b09aaf7', 'id': '58b88040-8283-4b96-b54b-258ed2574a38'}\n",
      "\n",
      "Score: 0.9208224115887629\n",
      "[\"Overview. Get started with the basics by learning what Knox Authentication Manager is and how it works. What is Knox Authentication Manager? Knox Authentication Manager is a managed, Android autofill service for shared, fully managed Samsung devices. Knox Authentication Manager offers multiuser facial biometrics to speed-up shared device sign-ins, eliminates authentication friction by saving and automatically filling user credentials for any productivity app that requires manual sign-in, and securely syncs users' profiles across shared devices. Profile sync enables users to enroll once on a single device, then pick up any other device and instantly make it their own for the duration of their shift. Knox Authentication Manager has features in place to help keep personal data secure. With profile syncing, no data is stored to the cloud or a server. Device syncing is coordinated through device groups that are defined by admins or auto-defined based on Wi-Fi subnets\"]\n",
      "{'source': 'all_processed_data.json', 'seq_num': 339, 'title': 'Overview', 'url': 'https://docs.samsungknox.com/admin/knox-authentication-manager/overview', 'project': 'KAM', 'last_updated': '2023-07-26', 'family_tree': 'child', 'parent_id': '6affe229-96f4-4db7-adce-536888b07901', 'id': '9186a3d0-0b9b-4871-ac1d-32afefd960f4'}\n",
      "\n",
      "Score: 0.920399113423699\n",
      "[\". Explore our knowledge base for: General Knox E-FOTA articles, Known Knox E-FOTA issues and their workarounds, How-to guides for less common setups General articles Updates to Knox E-FOTA activity names Knox E-FOTA Feature Highlights What happens to a device after it's assigned to a campaign When an organization has multiple Knox services, in what order are the Knox services enrolled? Where are Knox E-FOTA servers hosted? What happens when an active campaign is cancelled or deleted? Known issues Unable to sync devices from your EMM to Knox E-FOTA Unwanted Knox E-FOTA device enrollments and license consumption Knox Cloud API blocked when Knox E-FOTA is connected to an EMM How-to guides How to uninstall the Knox E-FOTA Advanced app How to deploy the Knox E-FOTA client to a kiosk through KSP Knox E-FOTA on MDM to Knox E-FOTA Migration Guide for VMware Workspace ONE Knox E-FOTA on MDM to Knox E-FOTA Migration Guide for Knox Manage Knox E-FOTA on MDM to Knox E-FOTA Migration Guide for MobileIron Cloud Knox E-FOTA\"]\n",
      "{'source': 'all_processed_data.json', 'seq_num': 121, 'title': 'Knox E-FOTA knowledge base articles', 'url': 'https://docs.samsungknox.com/admin/efota-one/kbas', 'project': 'EFOTA', 'last_updated': '2023-11-09', 'family_tree': 'child', 'parent_id': '523e9a26-e425-4ae9-8f18-e7a2e069378c', 'id': '1f0c3e82-109b-4e59-98bb-3913bc25911e'}\n",
      "None\n",
      "##############################\n",
      "similar_docs_without_reranker\n",
      "##############################\n",
      "\n",
      "Score: 0.008360655737704918\n",
      "['Knox knowledge base articles']\n",
      "{'source': 'all_processed_data.json', 'seq_num': 256, 'title': 'Knox knowledge base articles', 'url': 'https://docs.samsungknox.com/admin/fundamentals/kbas', 'project': 'USP', 'last_updated': '2023-07-26', 'family_tree': 'child', 'parent_id': '00e1f1a7-a357-4a35-b072-b5d24c187b86', 'id': '8c0693e3-4e00-4687-b45b-47b2bdf62734'}\n",
      "\n",
      "Score: 0.008225806451612904\n",
      "['. Knox service Pricing Supported license keys Trial license and where to get it Server type Knox Mobile Enrollment Free No license key required No license key required Cloud Knox Mobile Enrollment(Advanced profile) Paid Knox Suite Knox Suite trial key (Knox Admin Portal) Cloud Knox Manage Paid Knox Suite Knox Manage key Knox Suite trial key (Knox Admin Portal) Cloud Knox E-FOTA Paid Knox Suite Knox E-FOTA key Knox Suite trial key (Knox Admin Portal) Cloud Knox Asset Intelligence Paid Knox Suite Knox Asset Intelligence key Knox Suite trial key (Knox Admin Portal) Cloud Knox Remote Support Paid Knox Suite Knox Manage key Knox Suite trial key (Knox Admin Portal) Cloud Knox Configure Paid Knox Configure key Knox Configure trial key (Knox Admin Portal) Cloud Knox Guard Paid Knox Guard key Knox Guard trial key (Knox Guard console) Cloud Samsung Care+ for Business Paid Samsung Care+ for Business key No trial available Cloud Knox Mobile Enrollment Direct Free No license key required No license key required']\n",
      "{'source': 'all_processed_data.json', 'seq_num': 150, 'title': 'Knox licenses', 'url': 'https://docs.samsungknox.com/admin/fundamentals/knox-licenses', 'project': 'USP', 'last_updated': '2023-07-26', 'family_tree': 'child', 'parent_id': 'd4d233e9-2d76-494c-9886-8a89f2a1819b', 'id': '65850dab-337b-4ec7-9002-a1b2e1c0c786'}\n",
      "\n",
      "Score: 0.008095238095238095\n",
      "[\"Sign in with a Samsung account. Sign up for a Knox account A Samsung Knox account is free and can be created in just a few minutes. With a Samsung Knox account, you can register for Knox services and get access to the Knox Admin Portal, which lets you easily manage your devices, admins, and licenses across each Knox service. To sign up for a Samsung Knox account, you need to link it to a Samsung account. If you don't yet have a Samsung account, you'll be prompted to create one when you sign up for SamsungKnox.com. To create your Knox account: 1. Go to SamsungKnox.com. 2. In the top-right corner, click GET STARTED. 3. Under Business email, enter the email address you use for work. 4. Select a Knox solution that you want to access - Knox Suite, Knox Configure, Knox Guard, Samsung Care + for Business, or Other products & services. If you want access to an individual Knox Suite service, such as Knox Mobile Enrollment, select Knox Suite. 5. Click CREATE MY ACCOUNT\"]\n",
      "{'source': 'all_processed_data.json', 'seq_num': 162, 'title': 'Sign in with a Samsung account', 'url': 'https://docs.samsungknox.com/admin/fundamentals/sign-up-for-samsung-knox/sign-in-with-a-samsung-account', 'project': 'USP', 'last_updated': '2023-08-23', 'family_tree': 'child', 'parent_id': 'a32897a3-5af8-46c1-9baf-8e4f49b543f0', 'id': 'b5e439d5-2ea2-4c64-9a07-74123e8fc4fb'}\n",
      "\n",
      "Score: 0.008032786885245903\n",
      "['Wi-Fi Enhanced Roaming Algorithm File-based encryption (FBE) and full-disk encryption (FDE) What policy do I use to block users from adding additional accounts on the device? \"Network may be monitored\" shown after installing a private CA certificate on device Does the Samsung email client support \"opaque signed\" emails? Can a network operator configure an E_APN on an employee\\'s device? If two similar Knox policies are applied to a device with an MDM, which one takes precedence? Should the Knox VPN client be installed inside or outside the Knox container? What are the package names for the Samsung Cisco AnyConnect and Juniper VPN clients? What is the minimum level of unlock method required to install a certificate in Android credential storage? What is the proper way to wildcard APK package names? Which servers do EMMs need to communicate with in order to conduct device attestation? What is the order of precedence for firewall rules? What URLs do I have to add to an allowlist to make Samsung apps work with an']\n",
      "{'source': 'all_processed_data.json', 'seq_num': 1656, 'title': 'Knox Platform for Enterprise knowledge base articles', 'url': 'https://docs.samsungknox.com/admin/knox-platform-for-enterprise/kbas', 'project': 'KPE', 'last_updated': '2023-11-06', 'family_tree': 'child', 'parent_id': 'da6f49da-a678-4f6c-b25d-0a46f049fc91', 'id': 'd76d56b6-b402-4dd4-99c1-b92749f2fa9a'}\n",
      "\n",
      "Score: 0.00796875\n",
      "[\"The Samsung Knox platform. Samsung Knox brings defense-grade security on the most popular consumer devices to all enterprises. The Knox Platform provides best-in-class hardware-based security, policy management, and compliance capabilities beyond the standard features commonplace in today's mobile device market. The Knox Platform is the cornerstone of a strong mobile security strategy supporting a wide variety of Samsung devices. Why use Samsung Knox? The Knox Platform helps you and your enterprise avoid the security gaps common on many mobile platforms. Knox received *strong* ratings in 25 of 28 categories in Gartner's December 2017 Mobile OSs and Device Security: A Comparison of Platforms and has received strong ratings for the last three years in a row. The Knox Platform's security hardening supports every aspect of mobile device operation. The Knox Platform enables trust in your mobile endpoints with advanced features like the evolutionary Knox Vault to the patented Real-Time Kernel Protection\"]\n",
      "{'source': 'all_processed_data.json', 'seq_num': 168, 'title': 'The Samsung Knox platform', 'url': 'https://docs.samsungknox.com/admin/fundamentals/whitepaper/the-samsung-knox-platform', 'project': 'USP', 'last_updated': '2023-07-26', 'family_tree': 'child', 'parent_id': 'f1cfdf2b-36dc-4a26-8176-ec386728eb39', 'id': '78298895-c50a-40a0-a145-605b471133a0'}\n",
      "\n",
      "Score: 0.007903225806451612\n",
      "['. What is an Approval ID? Who uploads devices to Knox Guard? What does a Complete device status mean in Knox Guard? What are the options for stopping payment blink reminders on an overdue device? How do I restrict a device to a particular telecom operator? How do I restrict a device to the first inserted SIM of an allowed telecom operator?']\n",
      "{'source': 'all_processed_data.json', 'seq_num': 734, 'title': 'Knox Guard knowledge base articles', 'url': 'https://docs.samsungknox.com/admin/knox-guard/kbas', 'project': 'KG', 'last_updated': '2023-07-26', 'family_tree': 'child', 'parent_id': 'bb4991b5-1e0e-47ff-89af-4e452dfed580', 'id': 'c10b6c77-2aa6-4027-8254-b7eb9265cd20'}\n",
      "\n",
      "Score: 0.007846153846153846\n",
      "[\"Knox Manage features. Component Name Description 1 Knox Manage admin portal Configures and manages Knox Manage environments. 2 Knox Manage agent An application installed on Android, iOS, and Windows devices. 3 Knox Manage server Knox Manage cloud server 4 Knox Manage Cloud Connector Transfers data securely between the client's enterprise server and the Knox Manage server. For more information, see Using Cloud Connector. 5 Lightweight Directory Access Protocol Imports the client's directory-based user information. For more information, see Sync user information with AD/LDAP and Integrate a directory server. 6 Certificate Authority Generates certificates for authentication when using a network, such as Wi-Fi, VPN, Exchange, or APN. For more information, see Certificate authority (CA). For a complete listing of all features, see the Knox Manage feature list.\"]\n",
      "{'source': 'all_processed_data.json', 'seq_num': 969, 'title': 'Knox Manage features', 'url': 'https://docs.samsungknox.com/admin/knox-manage/introduction/key-features/knox-manage-features', 'project': 'KM', 'last_updated': '2023-07-26', 'family_tree': 'child', 'parent_id': '8ee3b05f-bb48-41ae-96a7-b911912bbf56', 'id': '02539bea-39a1-4118-9661-316ce53596c9'}\n",
      "\n",
      "Score: 0.0077777777777777776\n",
      "['way to wildcard APK package names? Which servers do EMMs need to communicate with in order to conduct device attestation? What is the order of precedence for firewall rules? What URLs do I have to add to an allowlist to make Samsung apps work with an authenticated proxy? Can I disable power saving mode on Knox supported devices? If I cannot resolve an SE for Android issue, who do I escalate to? Is there a way to automatically enable email sync while roaming? What does the term \"Maximum number of licenses\" mean for KPE Standard licenses? Knox legacy workspace articles Using SSO with a Common Access Card (CAC) in the Work Profile How many certificates can be stored in the Knox platform TrustZone? Accessing Knox Workspace without connecting to Active Directory network Unlocking the Knox Workspace container using Active Directory credentials What is the certificate length limit in the Knox CCM keystore? Can I create an RSA Key Pair on a Knox Platform for Enterprise device? Known issues Unable to install Samsung']\n",
      "{'source': 'all_processed_data.json', 'seq_num': 1656, 'title': 'Knox Platform for Enterprise knowledge base articles', 'url': 'https://docs.samsungknox.com/admin/knox-platform-for-enterprise/kbas', 'project': 'KPE', 'last_updated': '2023-11-06', 'family_tree': 'child', 'parent_id': 'da6f49da-a678-4f6c-b25d-0a46f049fc91', 'id': '90d363ae-6d2f-4d06-a35f-785cb4594b6d'}\n",
      "\n",
      "Score: 0.007727272727272728\n",
      "[\"Latest videos. Watch the latest videos to learn how Knox services work. Title , Description - , - Getting started with Knox Admin Portal , The Knox Admin Portal is the hub for all your Knox services, designed to provide a cohesive user experience. This video walks you through how to get started with the Knox Admin Portal so that it can help streamline your device management operations and help you manage your resources across services more easily. Getting started with Knox Suite , Knox Suite is an all-in-one solution, built for enterprise mobility. This video walks you through how to get started with the Knox Suite so that it can help address your enterprise's needs related to security and management throughout the entire device lifecycle. Getting started with Knox Mobile Enrollment , Knox Mobile Enrollment is an automated EMM enrollment tool for provisioning devices quickly and easily, out-of-the-box. Broad-ranging deployment and security features ensure ease of enrollment, in any situation\"]\n",
      "{'source': 'all_processed_data.json', 'seq_num': 151, 'title': 'Latest videos', 'url': 'https://docs.samsungknox.com/admin/fundamentals/latest-videos', 'project': 'USP', 'last_updated': '2023-11-10', 'family_tree': 'child', 'parent_id': 'e0025b33-9c8a-4815-b7d7-090334b5acb4', 'id': 'e6d75886-fbd8-49cf-979f-e4e0515a221f'}\n",
      "None\n",
      "##############################\n",
      "similar_docs\n",
      "##############################\n",
      "\n",
      "Score: 0.6129066348075867\n",
      "[\"The Samsung Knox platform. Samsung Knox brings defense-grade security on the most popular consumer devices to all enterprises. The Knox Platform provides best-in-class hardware-based security, policy management, and compliance capabilities beyond the standard features commonplace in today's mobile device market. The Knox Platform is the cornerstone of a strong mobile security strategy supporting a wide variety of Samsung devices. Why use Samsung Knox? The Knox Platform helps you and your enterprise avoid the security gaps common on many mobile platforms. Knox received *strong* ratings in 25 of 28 categories in Gartner's December 2017 Mobile OSs and Device Security: A Comparison of Platforms and has received strong ratings for the last three years in a row. The Knox Platform's security hardening supports every aspect of mobile device operation. The Knox Platform enables trust in your mobile endpoints with advanced features like the evolutionary Knox Vault to the patented Real-Time Kernel Protection . The Knox Platform ensures IT admins can securely bulk deploy the best mobile device hardware, and quickly integrate with existing business infrastructure and apps. #Key benefits for enterprises , Easily meet your organization's security and compliance requirements by providing solid platform integrity, strong data protection, and fine-grained policy enforcement. Seamlessly activate and manage Knox Platform features through an Enterprise Mobility Management (EMM) system. Flexibly support infrastructure, deployment, and management requirements through centralized remote device control, advanced VPN management, allowing and blocking apps, and granular policies that control all aspects of Samsung devices. Effortlessly upgrade from Android Enterprise, leveraging a comprehensive set of Knox Platform benefits without affecting existing deployments. Securely deploy the innovative Samsung Desktop Experience (DeX) in new work environments, unifying mobile and desktop computing on one device. The Knox Platform's cutting-edge security technology continues to be widely adopted and proven by numerous government, security, and financial agencies throughout the world. Samsung continually works with global government organizations and international regulatory bodies to meet a wide range of certification requirements designed to protect public safety and consumer privacy. Knox Platform highlights The Knox Platform provides a robust set of features to fill security and management gaps, resolve pain points identified by enterprises, and meet the strict requirements of highly regulated industries. Key strengths include the following: For a quick overview of these features, see Feature summary. Security highlights The following sections describe how the Knox Platform provides an industry-leading ecosystem of products and services to secure and ease mobile device management. Hardware-backed security The Knox Platform defends against security threats and protects enterprise data through layers of security built on top of a hardware-backed trusted environment. Trusted of the Knox Platform's security features and how they can resolve common enterprise mobile deployment pain points. The document focuses on the unique abilities of the Knox Platform. For information about other features, see the Samsung Knox website.\"]\n",
      "{'source': 'all_processed_data.json', 'seq_num': 168, 'title': 'The Samsung Knox platform', 'url': 'https://docs.samsungknox.com/admin/fundamentals/whitepaper/the-samsung-knox-platform', 'project': 'USP', 'last_updated': '2023-07-26', 'family_tree': 'parent', 'parent_id': None}\n",
      "\n",
      "Score: 0.18664415180683136\n",
      "[\"Latest videos. Watch the latest videos to learn how Knox services work. Title , Description - , - Getting started with Knox Admin Portal , The Knox Admin Portal is the hub for all your Knox services, designed to provide a cohesive user experience. This video walks you through how to get started with the Knox Admin Portal so that it can help streamline your device management operations and help you manage your resources across services more easily. Getting started with Knox Suite , Knox Suite is an all-in-one solution, built for enterprise mobility. This video walks you through how to get started with the Knox Suite so that it can help address your enterprise's needs related to security and management throughout the entire device lifecycle. Getting started with Knox Mobile Enrollment , Knox Mobile Enrollment is an automated EMM enrollment tool for provisioning devices quickly and easily, out-of-the-box. Broad-ranging deployment and security features ensure ease of enrollment, in any situation. Getting started with Knox Manage for Android Enterprise , Learn the basics of Samsung Knox Manage. This video will cover how to add users, create groups & organizations, enroll devices, add applications, and assign profiles and policies. Getting started with Knox E-FOTA , Knox E-FOTA lets you manage OS and firmware updates for devices across your fleet from a single unified dashboard. Watch this video to learn how you can update and manage Samsung devices for your entire organization. Getting started with Knox Configure , Customizing devices has never been easier than with Knox Configure. Watch this video to learn how you can rebrand, customize, and stage mobile devices right out of the box. Getting started with Samsung Knox Capture , In this video, we'll show you how to use Samsung Knox Capture to transform your mobile devices to powerful barcode scanners that can read, process, and output barcode data into other applications. Getting started with the Knox MSP Portal , This video walks you through how to access the Knox MSP Portal, how to add and manage customers, devices, and licenses, and how to use the Profiles feature to easily copy Knox Configure profiles from one customer to another. How to manage Galaxy Enterprise Edition devices as a Knox MSP , This video walks you through you how to get started with managing Galaxy Enterprise Edition devices in the Knox MSP Portal. How to manage sub-admins and roles as a Knox MSP , In this video, we'll show you how to add sub-admins, give them roles, and assign them to specific customers in the Knox MSP Portal. How to apply an event profile using Knox Manage , In this video, we'll demonstrate how IT admins can use Knox Manage to apply event profiles in order to limit browser usage and block apps during a specific time period. Getting started with Knox Guard , Learn how you can use Knox Guard to protect your devices from financial risk, theft, and fraud. Getting started with Knox Authentication Manager , Learn how Knox Authentication Manager can enable shared Samsung devices to provide multiuser facial biometrics and sign-in automation to help increase frontline worker productivity and safety.\"]\n",
      "{'source': 'all_processed_data.json', 'seq_num': 151, 'title': 'Latest videos', 'url': 'https://docs.samsungknox.com/admin/fundamentals/latest-videos', 'project': 'USP', 'last_updated': '2023-11-10', 'family_tree': 'parent', 'parent_id': None}\n",
      "\n",
      "Score: 0.029522057622671127\n",
      "[\"Knox Manage features. Component Name Description 1 Knox Manage admin portal Configures and manages Knox Manage environments. 2 Knox Manage agent An application installed on Android, iOS, and Windows devices. 3 Knox Manage server Knox Manage cloud server 4 Knox Manage Cloud Connector Transfers data securely between the client's enterprise server and the Knox Manage server. For more information, see Using Cloud Connector. 5 Lightweight Directory Access Protocol Imports the client's directory-based user information. For more information, see Sync user information with AD/LDAP and Integrate a directory server. 6 Certificate Authority Generates certificates for authentication when using a network, such as Wi-Fi, VPN, Exchange, or APN. For more information, see Certificate authority (CA). For a complete listing of all features, see the Knox Manage feature list.\"]\n",
      "{'source': 'all_processed_data.json', 'seq_num': 969, 'title': 'Knox Manage features', 'url': 'https://docs.samsungknox.com/admin/knox-manage/introduction/key-features/knox-manage-features', 'project': 'KM', 'last_updated': '2023-07-26', 'family_tree': 'parent', 'parent_id': None}\n",
      "\n",
      "Score: 0.027737464755773544\n",
      "[\"Sign in with a Samsung account. Sign up for a Knox account A Samsung Knox account is free and can be created in just a few minutes. With a Samsung Knox account, you can register for Knox services and get access to the Knox Admin Portal, which lets you easily manage your devices, admins, and licenses across each Knox service. To sign up for a Samsung Knox account, you need to link it to a Samsung account. If you don't yet have a Samsung account, you'll be prompted to create one when you sign up for SamsungKnox.com. To create your Knox account: 1. Go to SamsungKnox.com. 2. In the top-right corner, click GET STARTED. 3. Under Business email, enter the email address you use for work. 4. Select a Knox solution that you want to access - Knox Suite, Knox Configure, Knox Guard, Samsung Care + for Business, or Other products & services. If you want access to an individual Knox Suite service, such as Knox Mobile Enrollment, select Knox Suite. 5. Click CREATE MY ACCOUNT. If you already have a Samsung account, the system automatically prompts you to fill out a form with your company's details. If you don't have a Samsung account, the system prompts you to create one. Once you create your Samsung account, open the confirmation email you received and click the link. You're then automatically redirected to SamsungKnox.com to fill out a form with your company's details and submit your application for Knox services. Sign in to Samsung Knox 1. In the top-right corner of SamsungKnox.com, hover over Sign in. Then, under Samsung Account, click Sign in. 2. Enter your Samsung account email, then click Next. 3. Enter your Samsung account password, then click Sign in. You're now signed in and ready to start using Knox services and products.\"]\n",
      "{'source': 'all_processed_data.json', 'seq_num': 162, 'title': 'Sign in with a Samsung account', 'url': 'https://docs.samsungknox.com/admin/fundamentals/sign-up-for-samsung-knox/sign-in-with-a-samsung-account', 'project': 'USP', 'last_updated': '2023-08-23', 'family_tree': 'parent', 'parent_id': None}\n",
      "\n",
      "Score: 0.00762804364785552\n",
      "['Knox knowledge base articles. Service-specific articles , Knox Suite , Knox Platform for Enterprise , Knox Service Plugin , Knox Mobile Enrollment , Knox Mobile Enrollment Direct , Knox Capture , Knox Asset Intelligence , Knox Manage , Knox E-FOTA , Knox Configure , Knox Guard , Samsung Care+ for Business General articles Samsung Knox, User Experience Research Requirements for Samsung Knox device repair How to capture logs to troubleshoot a mobile device Samsung devices with Legacy One UI Core platform How to collect browser logs for troubleshooting How to collect dumpstate logs on Samsung wearable devices About Secured by Knox, Android, Others and Android Go devices Policy update on Knox supported versions What can I do if I\\'m not receiving the verification email when registering for a Samsung Account? Knox cloud services Knox Suite license cannot be recovered from Knox Remote Support How to disassociate a device from a Knox license key How to check the number of seats on a Knox license key How to reinvite or unblock a user in Knox Cloud Services How to change a super admin in Samsung Knox Cloud Services Knox Cloud Services compatibility with Samsung devices Knox Deployment App only able to add device to one Knox Cloud Service Mandatory two-factor authentication for all IT admins using Knox Deployment App Using + gesture during enrollment results in the error \"Tablet/Phone already enrolled\" My Knox Cloud Services (KCS) solutions do not start Unable to sign in to SamsungKnox.com after changes made to Samsung Account Cannot invite administrator to Knox cloud services Knox Cloud Services portals are not supported for mobile use GDPR How do I request an export of my account data? How do I delete my Samsung Knox account?']\n",
      "{'source': 'all_processed_data.json', 'seq_num': 256, 'title': 'Knox knowledge base articles', 'url': 'https://docs.samsungknox.com/admin/fundamentals/kbas', 'project': 'USP', 'last_updated': '2023-07-26', 'family_tree': 'parent', 'parent_id': None}\n",
      "\n",
      "Score: 0.004520569462329149\n",
      "['Knox Platform for Enterprise knowledge base articles. The Knox Platform for Enterprise knowledge base contains general articles, support for known issues, and guides for specific use cases. Explore our knowledge base for: General Knox Platform for Enterprise (KPE) articles, Knox legacy workspace articles, Known KPE issues and their workarounds, How-to articles for less common setups, Guides General articles Can\\'t remove permissions for unused apps in Android 13 Automatic license assignment release exceptions Upgrade managed Android devices to Android Device Policy by March 19, 2022 \"Sending of Diagnostic Data\" message shown in Android 12 Do Separated Apps (SA) have access to corporate VPNs? Guidance documents for Common Criteria evaluation Common Criteria Mode Knox Platform for Enterprise features not supported on One UI Core devices Knox PAC Support (Proxy Auto Config) Android VPN Management for Knox - configuration and troubleshooting Intelligent Wi-Fi Enhanced Roaming Algorithm File-based encryption (FBE) and full-disk encryption (FDE) What policy do I use to block users from adding additional accounts on the device? \"Network may be monitored\" shown after installing a private CA certificate on device Does the Samsung email client support \"opaque signed\" emails? Can a network operator configure an E_APN on an employee\\'s device? If two similar Knox policies are applied to a device with an MDM, which one takes precedence? Should the Knox VPN client be installed inside or outside the Knox container? What are the package names for the Samsung Cisco AnyConnect and Juniper VPN clients? What is the minimum level of unlock method required to install a certificate in Android credential storage? What is the proper way to wildcard APK package names? Which servers do EMMs need to communicate with in order to conduct device attestation? What is the order of precedence for firewall rules? What URLs do I have to add to an allowlist to make Samsung apps work with an authenticated proxy? Can I disable power saving mode on Knox supported devices? If I cannot resolve an SE for Android issue, who do I escalate to? Is there a way to automatically enable email sync while roaming? What does the term \"Maximum number of licenses\" mean for KPE Standard licenses? Knox legacy workspace articles Using SSO with a Common Access Card (CAC) in the Work Profile How many certificates can be stored in the Knox platform TrustZone? Accessing Knox Workspace without connecting to Active Directory network Unlocking the Knox Workspace container using Active Directory credentials What is the certificate length limit in the Knox CCM keystore? Can I create an RSA Key Pair on a Knox Platform for Enterprise device? Known issues Unable to install Samsung Calendar app Samsung Email app security patch for CWE-297 Unable to sign in to or sync Samsung Email app Device randomly reboots without warning Samsung devices reboot after Android System WebView update Wireless emergency alerts missing from Settings app Unable to edit contact information on lock screen Device losing permissions after upgrading to Android 13 Device locked with Workspace License Expired error after updating VMware Workspace ONE® Intelligent Hub Apps experiencing connectivity or sync issues after upgrading to Android 13 S22 device enrollment failure for Android 13 Certificates missing after updating Samsung devices to Android 12 Devices can\\'t reach sites with']\n",
      "{'source': 'all_processed_data.json', 'seq_num': 1656, 'title': 'Knox Platform for Enterprise knowledge base articles', 'url': 'https://docs.samsungknox.com/admin/knox-platform-for-enterprise/kbas', 'project': 'KPE', 'last_updated': '2023-11-06', 'family_tree': 'parent', 'parent_id': None}\n",
      "None\n",
      " Knox is a security platform developed by Samsung that provides defense-grade security for mobile devices. Key things to know about Knox:\n",
      "\n",
      "- It provides hardware-backed security features and software security hardening to protect devices from threats. This includes features like the Knox Vault and Real-Time Kernel Protection.\n",
      "\n",
      "- It enables IT admins to securely manage a fleet of devices, with capabilities like remote control, VPN management, granular policy enforcement, and integration with EMMs. \n",
      "\n",
      "- It helps enterprises meet security and compliance requirements through platform integrity, data protection, and fine-grained controls.\n",
      "\n",
      "- It seamlessly upgrades from Android Enterprise, allowing leveraging of Knox capabilities without affecting existing Android deployments.\n",
      "\n",
      "In summary, Knox is Samsung's enterprise-grade security platform for mobile devices, providing robust defense-grade security, advanced fleet management, and support for compliance needs."
     ]
    }
   ],
   "source": [
    "query = \"What is knox?\"\n",
    "response = qa(query)"
   ]
  },
  {
   "cell_type": "code",
   "execution_count": 74,
   "id": "01e77dad-dc19-416b-80e7-19fac3b736a5",
   "metadata": {
    "tags": []
   },
   "outputs": [
    {
     "name": "stdout",
     "output_type": "stream",
     "text": [
      "##################################\n",
      "query:  What is knox?\n",
      "##################################\n",
      "\u001b[34m\n",
      "\n",
      "### Answer ###\u001b[0m\n",
      "\n",
      "\n",
      "Knox is a security platform developed by Samsung that provides defense-grade security, policy\n",
      "management, and compliance capabilities for Samsung devices. It helps enterprises secure their\n",
      "mobile devices by providing hardware-based security, advanced encryption, and security hardening\n",
      "across all aspects of device operation.\n",
      "\n",
      "Some key things Knox provides:\n",
      "\n",
      "- Hardware-based security using Samsung's TrustZone technology\n",
      "- Multi-layered encryption and authentication\n",
      "- Restricted access to device data and features\n",
      "- Mobile device management and policy controls\n",
      "- Compliance with security standards and regulations\n",
      "\n",
      "In summary, Knox is Samsung's enterprise mobility security platform designed to protect sensitive\n",
      "data on Samsung devices deployed in corporate environments. It provides a hardened security\n",
      "architecture and tools to manage and control mobile devices.\n",
      "\u001b[32m\n",
      "\n",
      "### Contexts ###\u001b[0m\n",
      "-----------------------------------------------\n",
      "1. Chunk: 1012 Characters\n",
      "-----------------------------------------------\n",
      "The Samsung Knox platform. Samsung Knox brings defense-grade security on the most popular consumer\n",
      "devices to all enterprises. The Knox Platform provides best-in-class hardware-based security, policy\n",
      "management, and compliance capabilities beyond the standard features commonplace in today's mobile\n",
      "device market. The Knox Platform is the cornerstone of a strong mobile security strategy supporting\n",
      "a wide variety of Samsung devices. Why use Samsung Knox? The Knox Platform helps you and your\n",
      "enterprise avoid the security gaps common on many mobile platforms. Knox received *strong* ratings\n",
      "in 25 of 28 categories in Gartner's December 2017 Mobile OSs and Device Security: A Comparison of\n",
      "Platforms and has received strong ratings for the last three years in a row. The Knox Platform's\n",
      "security hardening supports every aspect of mobile device operation. The Knox Platform enables trust\n",
      "in your mobile endpoints with advanced features like the evolutionary Knox Vault to the patented\n",
      "Real-Time Kernel Protection\n",
      "metadata:\n",
      " {'source': 'all_processed_data.json', 'seq_num': 168, 'title': 'The Samsung Knox platform', 'url':\n",
      "'https://docs.samsungknox.com/admin/fundamentals/whitepaper/the-samsung-knox-platform', 'project':\n",
      "'USP', 'last_updated': '2023-07-26', 'family_tree': 'child', 'parent_id':\n",
      "'f1cfdf2b-36dc-4a26-8176-ec386728eb39', 'id': '78298895-c50a-40a0-a145-605b471133a0'}\n",
      "-----------------------------------------------\n",
      "2. Chunk: 1006 Characters\n",
      "-----------------------------------------------\n",
      "Latest videos. Watch the latest videos to learn how Knox services work. Title , Description - , -\n",
      "Getting started with Knox Admin Portal , The Knox Admin Portal is the hub for all your Knox\n",
      "services, designed to provide a cohesive user experience. This video walks you through how to get\n",
      "started with the Knox Admin Portal so that it can help streamline your device management operations\n",
      "and help you manage your resources across services more easily. Getting started with Knox Suite ,\n",
      "Knox Suite is an all-in-one solution, built for enterprise mobility. This video walks you through\n",
      "how to get started with the Knox Suite so that it can help address your enterprise's needs related\n",
      "to security and management throughout the entire device lifecycle. Getting started with Knox Mobile\n",
      "Enrollment , Knox Mobile Enrollment is an automated EMM enrollment tool for provisioning devices\n",
      "quickly and easily, out-of-the-box. Broad-ranging deployment and security features ensure ease of\n",
      "enrollment, in any situation\n",
      "metadata:\n",
      " {'source': 'all_processed_data.json', 'seq_num': 151, 'title': 'Latest videos', 'url':\n",
      "'https://docs.samsungknox.com/admin/fundamentals/latest-videos', 'project': 'USP', 'last_updated':\n",
      "'2023-11-10', 'family_tree': 'child', 'parent_id': 'e0025b33-9c8a-4815-b7d7-090334b5acb4', 'id':\n",
      "'e6d75886-fbd8-49cf-979f-e4e0515a221f'}\n",
      "-----------------------------------------------\n",
      "3. Chunk: 867 Characters\n",
      "-----------------------------------------------\n",
      "Knox Manage features. Component Name Description 1 Knox Manage admin portal Configures and manages\n",
      "Knox Manage environments. 2 Knox Manage agent An application installed on Android, iOS, and Windows\n",
      "devices. 3 Knox Manage server Knox Manage cloud server 4 Knox Manage Cloud Connector Transfers data\n",
      "securely between the client's enterprise server and the Knox Manage server. For more information,\n",
      "see Using Cloud Connector. 5 Lightweight Directory Access Protocol Imports the client's directory-\n",
      "based user information. For more information, see Sync user information with AD/LDAP and Integrate a\n",
      "directory server. 6 Certificate Authority Generates certificates for authentication when using a\n",
      "network, such as Wi-Fi, VPN, Exchange, or APN. For more information, see Certificate authority (CA).\n",
      "For a complete listing of all features, see the Knox Manage feature list.\n",
      "metadata:\n",
      " {'source': 'all_processed_data.json', 'seq_num': 969, 'title': 'Knox Manage features', 'url':\n",
      "'https://docs.samsungknox.com/admin/knox-manage/introduction/key-features/knox-manage-features',\n",
      "'project': 'KM', 'last_updated': '2023-07-26', 'family_tree': 'child', 'parent_id':\n",
      "'8ee3b05f-bb48-41ae-96a7-b911912bbf56', 'id': '02539bea-39a1-4118-9661-316ce53596c9'}\n",
      "-----------------------------------------------\n",
      "4. Chunk: 973 Characters\n",
      "-----------------------------------------------\n",
      "Sign in with a Samsung account. Sign up for a Knox account A Samsung Knox account is free and can be\n",
      "created in just a few minutes. With a Samsung Knox account, you can register for Knox services and\n",
      "get access to the Knox Admin Portal, which lets you easily manage your devices, admins, and licenses\n",
      "across each Knox service. To sign up for a Samsung Knox account, you need to link it to a Samsung\n",
      "account. If you don't yet have a Samsung account, you'll be prompted to create one when you sign up\n",
      "for SamsungKnox.com. To create your Knox account: 1. Go to SamsungKnox.com. 2. In the top-right\n",
      "corner, click GET STARTED. 3. Under Business email, enter the email address you use for work. 4.\n",
      "Select a Knox solution that you want to access - Knox Suite, Knox Configure, Knox Guard, Samsung\n",
      "Care + for Business, or Other products & services. If you want access to an individual Knox Suite\n",
      "service, such as Knox Mobile Enrollment, select Knox Suite. 5. Click CREATE MY ACCOUNT\n",
      "metadata:\n",
      " {'source': 'all_processed_data.json', 'seq_num': 162, 'title': 'Sign in with a Samsung account',\n",
      "'url': 'https://docs.samsungknox.com/admin/fundamentals/sign-up-for-samsung-knox/sign-in-with-a-\n",
      "samsung-account', 'project': 'USP', 'last_updated': '2023-08-23', 'family_tree': 'child',\n",
      "'parent_id': 'a32897a3-5af8-46c1-9baf-8e4f49b543f0', 'id': 'b5e439d5-2ea2-4c64-9a07-74123e8fc4fb'}\n",
      "-----------------------------------------------\n",
      "5. Chunk: 28 Characters\n",
      "-----------------------------------------------\n",
      "Knox knowledge base articles\n",
      "metadata:\n",
      " {'source': 'all_processed_data.json', 'seq_num': 256, 'title': 'Knox knowledge base articles',\n",
      "'url': 'https://docs.samsungknox.com/admin/fundamentals/kbas', 'project': 'USP', 'last_updated':\n",
      "'2023-07-26', 'family_tree': 'child', 'parent_id': '00e1f1a7-a357-4a35-b072-b5d24c187b86', 'id':\n",
      "'8c0693e3-4e00-4687-b45b-47b2bdf62734'}\n",
      "-----------------------------------------------\n",
      "6. Chunk: 1022 Characters\n",
      "-----------------------------------------------\n",
      "way to wildcard APK package names? Which servers do EMMs need to communicate with in order to\n",
      "conduct device attestation? What is the order of precedence for firewall rules? What URLs do I have\n",
      "to add to an allowlist to make Samsung apps work with an authenticated proxy? Can I disable power\n",
      "saving mode on Knox supported devices? If I cannot resolve an SE for Android issue, who do I\n",
      "escalate to? Is there a way to automatically enable email sync while roaming? What does the term\n",
      "\"Maximum number of licenses\" mean for KPE Standard licenses? Knox legacy workspace articles Using\n",
      "SSO with a Common Access Card (CAC) in the Work Profile How many certificates can be stored in the\n",
      "Knox platform TrustZone? Accessing Knox Workspace without connecting to Active Directory network\n",
      "Unlocking the Knox Workspace container using Active Directory credentials What is the certificate\n",
      "length limit in the Knox CCM keystore? Can I create an RSA Key Pair on a Knox Platform for\n",
      "Enterprise device? Known issues Unable to install Samsung\n",
      "metadata:\n",
      " {'source': 'all_processed_data.json', 'seq_num': 1656, 'title': 'Knox Platform for Enterprise\n",
      "knowledge base articles', 'url': 'https://docs.samsungknox.com/admin/knox-platform-for-\n",
      "enterprise/kbas', 'project': 'KPE', 'last_updated': '2023-11-06', 'family_tree': 'child',\n",
      "'parent_id': 'da6f49da-a678-4f6c-b25d-0a46f049fc91', 'id': '90d363ae-6d2f-4d06-a35f-785cb4594b6d'}\n"
     ]
    }
   ],
   "source": [
    "print(\"##################################\")\n",
    "print(\"query: \", query)\n",
    "print(\"##################################\")\n",
    "\n",
    "print (colored(\"\\n\\n### Answer ###\", \"blue\"))\n",
    "print_ww(response['result'])\n",
    "\n",
    "\n",
    "print (colored(\"\\n\\n### Contexts ###\", \"green\"))\n",
    "show_context_used(response['source_documents'])"
   ]
  },
  {
   "cell_type": "code",
   "execution_count": null,
   "id": "b1a40222",
   "metadata": {},
   "outputs": [],
   "source": []
  },
  {
   "cell_type": "code",
   "execution_count": null,
   "id": "ce77c46a-7912-4e9f-aaf3-f3f66c6c8251",
   "metadata": {},
   "outputs": [],
   "source": []
  }
 ],
 "metadata": {
  "kernelspec": {
   "display_name": "conda_python3",
   "language": "python",
   "name": "conda_python3"
  },
  "language_info": {
   "codemirror_mode": {
    "name": "ipython",
    "version": 3
   },
   "file_extension": ".py",
   "mimetype": "text/x-python",
   "name": "python",
   "nbconvert_exporter": "python",
   "pygments_lexer": "ipython3",
   "version": "3.10.13"
  },
  "vscode": {
   "interpreter": {
    "hash": "4b8e647a79df62bf31906a725b05de775d285962ac600487339d38c51a5c07b1"
   }
  }
 },
 "nbformat": 4,
 "nbformat_minor": 5
}
