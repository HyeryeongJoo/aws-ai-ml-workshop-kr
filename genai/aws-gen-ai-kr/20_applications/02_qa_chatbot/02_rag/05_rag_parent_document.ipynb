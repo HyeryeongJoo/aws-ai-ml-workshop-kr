{
 "cells": [
  {
   "cell_type": "markdown",
   "id": "5deb2df2-413d-49bd-a829-3a1fc344937e",
   "metadata": {},
   "source": [
    "# RAG Based on parent document\n",
    "- Hybrid Search\n",
    "- ReRanker\n",
    "- [Parent Document](https://medium.aiplanet.com/advanced-rag-providing-broader-context-to-llms-using-parentdocumentretriever-cc627762305a)\n",
    "    "
   ]
  },
  {
   "cell_type": "markdown",
   "id": "b1f81abc-3277-4a6b-9ef1-d4f997d67fbe",
   "metadata": {},
   "source": [
    "## Setting\n",
    " - Auto Reload\n",
    " - path for utils"
   ]
  },
  {
   "cell_type": "code",
   "execution_count": 1,
   "id": "ddde4105-b759-4d6c-8214-8e1ab485ae48",
   "metadata": {
    "tags": []
   },
   "outputs": [],
   "source": [
    "%load_ext autoreload\n",
    "%autoreload 2"
   ]
  },
  {
   "cell_type": "code",
   "execution_count": 2,
   "id": "57c2cdb1-d785-4317-afce-938f13141085",
   "metadata": {
    "tags": []
   },
   "outputs": [],
   "source": [
    "import sys, os\n",
    "module_path = \"../../..\"\n",
    "sys.path.append(os.path.abspath(module_path))"
   ]
  },
  {
   "cell_type": "markdown",
   "id": "9c4ade56-8dbc-4ded-b355-7e4bcc971e90",
   "metadata": {},
   "source": [
    "## 1. Bedrock Client 생성"
   ]
  },
  {
   "cell_type": "code",
   "execution_count": 3,
   "id": "cc2d877f-e877-48f6-8dd4-239de20e45cd",
   "metadata": {
    "tags": []
   },
   "outputs": [],
   "source": [
    "import json\n",
    "import boto3\n",
    "from pprint import pprint\n",
    "from termcolor import colored\n",
    "from utils import bedrock, print_ww\n",
    "from utils.bedrock import bedrock_info"
   ]
  },
  {
   "cell_type": "markdown",
   "id": "088e6490-c79a-49e4-841c-9fdb91292608",
   "metadata": {},
   "source": [
    "### ---- ⚠️ Un-comment and edit the below lines as needed for your AWS setup ⚠️ ----\n",
    "- os.environ[\"AWS_DEFAULT_REGION\"] = \"<REGION_NAME>\"  # E.g. \"us-east-1\"\n",
    "- os.environ[\"AWS_PROFILE\"] = \"<YOUR_PROFILE>\"\n",
    "- os.environ[\"BEDROCK_ASSUME_ROLE\"] = \"<YOUR_ROLE_ARN>\"  # E.g. \"arn:aws:...\"\n",
    "- os.environ[\"BEDROCK_ENDPOINT_URL\"] = \"<YOUR_ENDPOINT_URL>\"  # E.g. \"https://...\""
   ]
  },
  {
   "cell_type": "code",
   "execution_count": 4,
   "id": "cab9312c-5f61-4730-96c3-5eef54a5f08c",
   "metadata": {
    "collapsed": true,
    "jupyter": {
     "outputs_hidden": true
    },
    "tags": []
   },
   "outputs": [
    {
     "name": "stdout",
     "output_type": "stream",
     "text": [
      "Create new client\n",
      "  Using region: None\n",
      "  Using profile: None\n",
      "boto3 Bedrock client successfully created!\n",
      "bedrock-runtime(https://bedrock-runtime.us-east-1.amazonaws.com)\n",
      "\u001b[32m\n",
      "== FM lists ==\u001b[0m\n",
      "[{'customizationsSupported': [],\n",
      "  'inferenceTypesSupported': ['ON_DEMAND'],\n",
      "  'inputModalities': ['TEXT'],\n",
      "  'modelArn': 'arn:aws:bedrock:us-east-1::foundation-model/amazon.titan-tg1-large',\n",
      "  'modelId': 'amazon.titan-tg1-large',\n",
      "  'modelLifecycle': {'status': 'ACTIVE'},\n",
      "  'modelName': 'Titan Text Large',\n",
      "  'outputModalities': ['TEXT'],\n",
      "  'providerName': 'Amazon',\n",
      "  'responseStreamingSupported': True},\n",
      " {'customizationsSupported': ['FINE_TUNING'],\n",
      "  'inferenceTypesSupported': ['ON_DEMAND', 'PROVISIONED'],\n",
      "  'inputModalities': ['TEXT', 'IMAGE'],\n",
      "  'modelArn': 'arn:aws:bedrock:us-east-1::foundation-model/amazon.titan-image-generator-v1:0',\n",
      "  'modelId': 'amazon.titan-image-generator-v1:0',\n",
      "  'modelLifecycle': {'status': 'ACTIVE'},\n",
      "  'modelName': 'Titan Image Generator G1',\n",
      "  'outputModalities': ['IMAGE'],\n",
      "  'providerName': 'Amazon'},\n",
      " {'customizationsSupported': [],\n",
      "  'inferenceTypesSupported': ['ON_DEMAND'],\n",
      "  'inputModalities': ['TEXT', 'IMAGE'],\n",
      "  'modelArn': 'arn:aws:bedrock:us-east-1::foundation-model/amazon.titan-image-generator-v1',\n",
      "  'modelId': 'amazon.titan-image-generator-v1',\n",
      "  'modelLifecycle': {'status': 'ACTIVE'},\n",
      "  'modelName': 'Titan Image Generator G1',\n",
      "  'outputModalities': ['IMAGE'],\n",
      "  'providerName': 'Amazon'},\n",
      " {'customizationsSupported': [],\n",
      "  'inferenceTypesSupported': ['ON_DEMAND'],\n",
      "  'inputModalities': ['TEXT'],\n",
      "  'modelArn': 'arn:aws:bedrock:us-east-1::foundation-model/amazon.titan-embed-g1-text-02',\n",
      "  'modelId': 'amazon.titan-embed-g1-text-02',\n",
      "  'modelLifecycle': {'status': 'ACTIVE'},\n",
      "  'modelName': 'Titan Text Embeddings v2',\n",
      "  'outputModalities': ['EMBEDDING'],\n",
      "  'providerName': 'Amazon'},\n",
      " {'customizationsSupported': ['FINE_TUNING', 'CONTINUED_PRE_TRAINING'],\n",
      "  'inferenceTypesSupported': ['PROVISIONED'],\n",
      "  'inputModalities': ['TEXT'],\n",
      "  'modelArn': 'arn:aws:bedrock:us-east-1::foundation-model/amazon.titan-text-lite-v1:0:4k',\n",
      "  'modelId': 'amazon.titan-text-lite-v1:0:4k',\n",
      "  'modelLifecycle': {'status': 'ACTIVE'},\n",
      "  'modelName': 'Titan Text G1 - Lite',\n",
      "  'outputModalities': ['TEXT'],\n",
      "  'providerName': 'Amazon',\n",
      "  'responseStreamingSupported': True},\n",
      " {'customizationsSupported': [],\n",
      "  'inferenceTypesSupported': ['ON_DEMAND'],\n",
      "  'inputModalities': ['TEXT'],\n",
      "  'modelArn': 'arn:aws:bedrock:us-east-1::foundation-model/amazon.titan-text-lite-v1',\n",
      "  'modelId': 'amazon.titan-text-lite-v1',\n",
      "  'modelLifecycle': {'status': 'ACTIVE'},\n",
      "  'modelName': 'Titan Text G1 - Lite',\n",
      "  'outputModalities': ['TEXT'],\n",
      "  'providerName': 'Amazon',\n",
      "  'responseStreamingSupported': True},\n",
      " {'customizationsSupported': ['FINE_TUNING', 'CONTINUED_PRE_TRAINING'],\n",
      "  'inferenceTypesSupported': ['PROVISIONED'],\n",
      "  'inputModalities': ['TEXT'],\n",
      "  'modelArn': 'arn:aws:bedrock:us-east-1::foundation-model/amazon.titan-text-express-v1:0:8k',\n",
      "  'modelId': 'amazon.titan-text-express-v1:0:8k',\n",
      "  'modelLifecycle': {'status': 'ACTIVE'},\n",
      "  'modelName': 'Titan Text G1 - Express',\n",
      "  'outputModalities': ['TEXT'],\n",
      "  'providerName': 'Amazon',\n",
      "  'responseStreamingSupported': True},\n",
      " {'customizationsSupported': [],\n",
      "  'inferenceTypesSupported': ['ON_DEMAND'],\n",
      "  'inputModalities': ['TEXT'],\n",
      "  'modelArn': 'arn:aws:bedrock:us-east-1::foundation-model/amazon.titan-text-express-v1',\n",
      "  'modelId': 'amazon.titan-text-express-v1',\n",
      "  'modelLifecycle': {'status': 'ACTIVE'},\n",
      "  'modelName': 'Titan Text G1 - Express',\n",
      "  'outputModalities': ['TEXT'],\n",
      "  'providerName': 'Amazon',\n",
      "  'responseStreamingSupported': True},\n",
      " {'customizationsSupported': [],\n",
      "  'inferenceTypesSupported': ['PROVISIONED'],\n",
      "  'inputModalities': ['TEXT'],\n",
      "  'modelArn': 'arn:aws:bedrock:us-east-1::foundation-model/amazon.titan-embed-text-v1:2:8k',\n",
      "  'modelId': 'amazon.titan-embed-text-v1:2:8k',\n",
      "  'modelLifecycle': {'status': 'ACTIVE'},\n",
      "  'modelName': 'Titan Embeddings G1 - Text',\n",
      "  'outputModalities': ['EMBEDDING'],\n",
      "  'providerName': 'Amazon',\n",
      "  'responseStreamingSupported': False},\n",
      " {'customizationsSupported': [],\n",
      "  'inferenceTypesSupported': ['ON_DEMAND'],\n",
      "  'inputModalities': ['TEXT'],\n",
      "  'modelArn': 'arn:aws:bedrock:us-east-1::foundation-model/amazon.titan-embed-text-v1',\n",
      "  'modelId': 'amazon.titan-embed-text-v1',\n",
      "  'modelLifecycle': {'status': 'ACTIVE'},\n",
      "  'modelName': 'Titan Embeddings G1 - Text',\n",
      "  'outputModalities': ['EMBEDDING'],\n",
      "  'providerName': 'Amazon',\n",
      "  'responseStreamingSupported': False},\n",
      " {'customizationsSupported': ['FINE_TUNING'],\n",
      "  'inferenceTypesSupported': ['ON_DEMAND', 'PROVISIONED'],\n",
      "  'inputModalities': ['TEXT', 'IMAGE'],\n",
      "  'modelArn': 'arn:aws:bedrock:us-east-1::foundation-model/amazon.titan-embed-image-v1:0',\n",
      "  'modelId': 'amazon.titan-embed-image-v1:0',\n",
      "  'modelLifecycle': {'status': 'ACTIVE'},\n",
      "  'modelName': 'Titan Multimodal Embeddings G1',\n",
      "  'outputModalities': ['EMBEDDING'],\n",
      "  'providerName': 'Amazon'},\n",
      " {'customizationsSupported': [],\n",
      "  'inferenceTypesSupported': ['ON_DEMAND'],\n",
      "  'inputModalities': ['TEXT', 'IMAGE'],\n",
      "  'modelArn': 'arn:aws:bedrock:us-east-1::foundation-model/amazon.titan-embed-image-v1',\n",
      "  'modelId': 'amazon.titan-embed-image-v1',\n",
      "  'modelLifecycle': {'status': 'ACTIVE'},\n",
      "  'modelName': 'Titan Multimodal Embeddings G1',\n",
      "  'outputModalities': ['EMBEDDING'],\n",
      "  'providerName': 'Amazon'},\n",
      " {'customizationsSupported': [],\n",
      "  'inferenceTypesSupported': ['ON_DEMAND'],\n",
      "  'inputModalities': ['TEXT', 'IMAGE'],\n",
      "  'modelArn': 'arn:aws:bedrock:us-east-1::foundation-model/stability.stable-diffusion-xl',\n",
      "  'modelId': 'stability.stable-diffusion-xl',\n",
      "  'modelLifecycle': {'status': 'ACTIVE'},\n",
      "  'modelName': 'SDXL 0.8',\n",
      "  'outputModalities': ['IMAGE'],\n",
      "  'providerName': 'Stability AI'},\n",
      " {'customizationsSupported': [],\n",
      "  'inferenceTypesSupported': ['ON_DEMAND'],\n",
      "  'inputModalities': ['TEXT', 'IMAGE'],\n",
      "  'modelArn': 'arn:aws:bedrock:us-east-1::foundation-model/stability.stable-diffusion-xl-v0',\n",
      "  'modelId': 'stability.stable-diffusion-xl-v0',\n",
      "  'modelLifecycle': {'status': 'ACTIVE'},\n",
      "  'modelName': 'SDXL 0.8',\n",
      "  'outputModalities': ['IMAGE'],\n",
      "  'providerName': 'Stability AI'},\n",
      " {'customizationsSupported': [],\n",
      "  'inferenceTypesSupported': ['PROVISIONED'],\n",
      "  'inputModalities': ['TEXT', 'IMAGE'],\n",
      "  'modelArn': 'arn:aws:bedrock:us-east-1::foundation-model/stability.stable-diffusion-xl-v1:0',\n",
      "  'modelId': 'stability.stable-diffusion-xl-v1:0',\n",
      "  'modelLifecycle': {'status': 'ACTIVE'},\n",
      "  'modelName': 'SDXL 1.0',\n",
      "  'outputModalities': ['IMAGE'],\n",
      "  'providerName': 'Stability AI'},\n",
      " {'customizationsSupported': [],\n",
      "  'inferenceTypesSupported': ['ON_DEMAND'],\n",
      "  'inputModalities': ['TEXT', 'IMAGE'],\n",
      "  'modelArn': 'arn:aws:bedrock:us-east-1::foundation-model/stability.stable-diffusion-xl-v1',\n",
      "  'modelId': 'stability.stable-diffusion-xl-v1',\n",
      "  'modelLifecycle': {'status': 'ACTIVE'},\n",
      "  'modelName': 'SDXL 1.0',\n",
      "  'outputModalities': ['IMAGE'],\n",
      "  'providerName': 'Stability AI'},\n",
      " {'customizationsSupported': [],\n",
      "  'inferenceTypesSupported': ['ON_DEMAND'],\n",
      "  'inputModalities': ['TEXT'],\n",
      "  'modelArn': 'arn:aws:bedrock:us-east-1::foundation-model/ai21.j2-grande-instruct',\n",
      "  'modelId': 'ai21.j2-grande-instruct',\n",
      "  'modelLifecycle': {'status': 'ACTIVE'},\n",
      "  'modelName': 'J2 Grande Instruct',\n",
      "  'outputModalities': ['TEXT'],\n",
      "  'providerName': 'AI21 Labs',\n",
      "  'responseStreamingSupported': False},\n",
      " {'customizationsSupported': [],\n",
      "  'inferenceTypesSupported': ['ON_DEMAND'],\n",
      "  'inputModalities': ['TEXT'],\n",
      "  'modelArn': 'arn:aws:bedrock:us-east-1::foundation-model/ai21.j2-jumbo-instruct',\n",
      "  'modelId': 'ai21.j2-jumbo-instruct',\n",
      "  'modelLifecycle': {'status': 'ACTIVE'},\n",
      "  'modelName': 'J2 Jumbo Instruct',\n",
      "  'outputModalities': ['TEXT'],\n",
      "  'providerName': 'AI21 Labs',\n",
      "  'responseStreamingSupported': False},\n",
      " {'customizationsSupported': [],\n",
      "  'inferenceTypesSupported': ['ON_DEMAND'],\n",
      "  'inputModalities': ['TEXT'],\n",
      "  'modelArn': 'arn:aws:bedrock:us-east-1::foundation-model/ai21.j2-mid',\n",
      "  'modelId': 'ai21.j2-mid',\n",
      "  'modelLifecycle': {'status': 'ACTIVE'},\n",
      "  'modelName': 'Jurassic-2 Mid',\n",
      "  'outputModalities': ['TEXT'],\n",
      "  'providerName': 'AI21 Labs',\n",
      "  'responseStreamingSupported': False},\n",
      " {'customizationsSupported': [],\n",
      "  'inferenceTypesSupported': ['ON_DEMAND'],\n",
      "  'inputModalities': ['TEXT'],\n",
      "  'modelArn': 'arn:aws:bedrock:us-east-1::foundation-model/ai21.j2-mid-v1',\n",
      "  'modelId': 'ai21.j2-mid-v1',\n",
      "  'modelLifecycle': {'status': 'ACTIVE'},\n",
      "  'modelName': 'Jurassic-2 Mid',\n",
      "  'outputModalities': ['TEXT'],\n",
      "  'providerName': 'AI21 Labs',\n",
      "  'responseStreamingSupported': False},\n",
      " {'customizationsSupported': [],\n",
      "  'inferenceTypesSupported': ['ON_DEMAND'],\n",
      "  'inputModalities': ['TEXT'],\n",
      "  'modelArn': 'arn:aws:bedrock:us-east-1::foundation-model/ai21.j2-ultra',\n",
      "  'modelId': 'ai21.j2-ultra',\n",
      "  'modelLifecycle': {'status': 'ACTIVE'},\n",
      "  'modelName': 'Jurassic-2 Ultra',\n",
      "  'outputModalities': ['TEXT'],\n",
      "  'providerName': 'AI21 Labs',\n",
      "  'responseStreamingSupported': False},\n",
      " {'customizationsSupported': [],\n",
      "  'inferenceTypesSupported': ['ON_DEMAND'],\n",
      "  'inputModalities': ['TEXT'],\n",
      "  'modelArn': 'arn:aws:bedrock:us-east-1::foundation-model/ai21.j2-ultra-v1',\n",
      "  'modelId': 'ai21.j2-ultra-v1',\n",
      "  'modelLifecycle': {'status': 'ACTIVE'},\n",
      "  'modelName': 'Jurassic-2 Ultra',\n",
      "  'outputModalities': ['TEXT'],\n",
      "  'providerName': 'AI21 Labs',\n",
      "  'responseStreamingSupported': False},\n",
      " {'customizationsSupported': [],\n",
      "  'inferenceTypesSupported': ['PROVISIONED'],\n",
      "  'inputModalities': ['TEXT'],\n",
      "  'modelArn': 'arn:aws:bedrock:us-east-1::foundation-model/anthropic.claude-instant-v1:2:100k',\n",
      "  'modelId': 'anthropic.claude-instant-v1:2:100k',\n",
      "  'modelLifecycle': {'status': 'ACTIVE'},\n",
      "  'modelName': 'Claude Instant',\n",
      "  'outputModalities': ['TEXT'],\n",
      "  'providerName': 'Anthropic',\n",
      "  'responseStreamingSupported': True},\n",
      " {'customizationsSupported': [],\n",
      "  'inferenceTypesSupported': ['ON_DEMAND'],\n",
      "  'inputModalities': ['TEXT'],\n",
      "  'modelArn': 'arn:aws:bedrock:us-east-1::foundation-model/anthropic.claude-instant-v1',\n",
      "  'modelId': 'anthropic.claude-instant-v1',\n",
      "  'modelLifecycle': {'status': 'ACTIVE'},\n",
      "  'modelName': 'Claude Instant',\n",
      "  'outputModalities': ['TEXT'],\n",
      "  'providerName': 'Anthropic',\n",
      "  'responseStreamingSupported': True},\n",
      " {'customizationsSupported': [],\n",
      "  'inferenceTypesSupported': ['PROVISIONED'],\n",
      "  'inputModalities': ['TEXT'],\n",
      "  'modelArn': 'arn:aws:bedrock:us-east-1::foundation-model/anthropic.claude-v1:3:18k',\n",
      "  'modelId': 'anthropic.claude-v1:3:18k',\n",
      "  'modelLifecycle': {'status': 'ACTIVE'},\n",
      "  'modelName': 'Claude',\n",
      "  'outputModalities': ['TEXT'],\n",
      "  'providerName': 'Anthropic',\n",
      "  'responseStreamingSupported': True},\n",
      " {'customizationsSupported': [],\n",
      "  'inferenceTypesSupported': ['PROVISIONED'],\n",
      "  'inputModalities': ['TEXT'],\n",
      "  'modelArn': 'arn:aws:bedrock:us-east-1::foundation-model/anthropic.claude-v1:3:100k',\n",
      "  'modelId': 'anthropic.claude-v1:3:100k',\n",
      "  'modelLifecycle': {'status': 'ACTIVE'},\n",
      "  'modelName': 'Claude',\n",
      "  'outputModalities': ['TEXT'],\n",
      "  'providerName': 'Anthropic',\n",
      "  'responseStreamingSupported': True},\n",
      " {'customizationsSupported': [],\n",
      "  'inferenceTypesSupported': ['ON_DEMAND'],\n",
      "  'inputModalities': ['TEXT'],\n",
      "  'modelArn': 'arn:aws:bedrock:us-east-1::foundation-model/anthropic.claude-v1',\n",
      "  'modelId': 'anthropic.claude-v1',\n",
      "  'modelLifecycle': {'status': 'ACTIVE'},\n",
      "  'modelName': 'Claude',\n",
      "  'outputModalities': ['TEXT'],\n",
      "  'providerName': 'Anthropic',\n",
      "  'responseStreamingSupported': True},\n",
      " {'customizationsSupported': [],\n",
      "  'inferenceTypesSupported': ['PROVISIONED'],\n",
      "  'inputModalities': ['TEXT'],\n",
      "  'modelArn': 'arn:aws:bedrock:us-east-1::foundation-model/anthropic.claude-v2:0:18k',\n",
      "  'modelId': 'anthropic.claude-v2:0:18k',\n",
      "  'modelLifecycle': {'status': 'ACTIVE'},\n",
      "  'modelName': 'Claude',\n",
      "  'outputModalities': ['TEXT'],\n",
      "  'providerName': 'Anthropic',\n",
      "  'responseStreamingSupported': True},\n",
      " {'customizationsSupported': [],\n",
      "  'inferenceTypesSupported': ['PROVISIONED'],\n",
      "  'inputModalities': ['TEXT'],\n",
      "  'modelArn': 'arn:aws:bedrock:us-east-1::foundation-model/anthropic.claude-v2:0:100k',\n",
      "  'modelId': 'anthropic.claude-v2:0:100k',\n",
      "  'modelLifecycle': {'status': 'ACTIVE'},\n",
      "  'modelName': 'Claude',\n",
      "  'outputModalities': ['TEXT'],\n",
      "  'providerName': 'Anthropic',\n",
      "  'responseStreamingSupported': True},\n",
      " {'customizationsSupported': [],\n",
      "  'inferenceTypesSupported': ['PROVISIONED'],\n",
      "  'inputModalities': ['TEXT'],\n",
      "  'modelArn': 'arn:aws:bedrock:us-east-1::foundation-model/anthropic.claude-v2:1:18k',\n",
      "  'modelId': 'anthropic.claude-v2:1:18k',\n",
      "  'modelLifecycle': {'status': 'ACTIVE'},\n",
      "  'modelName': 'Claude',\n",
      "  'outputModalities': ['TEXT'],\n",
      "  'providerName': 'Anthropic',\n",
      "  'responseStreamingSupported': True},\n",
      " {'customizationsSupported': [],\n",
      "  'inferenceTypesSupported': ['PROVISIONED'],\n",
      "  'inputModalities': ['TEXT'],\n",
      "  'modelArn': 'arn:aws:bedrock:us-east-1::foundation-model/anthropic.claude-v2:1:200k',\n",
      "  'modelId': 'anthropic.claude-v2:1:200k',\n",
      "  'modelLifecycle': {'status': 'ACTIVE'},\n",
      "  'modelName': 'Claude',\n",
      "  'outputModalities': ['TEXT'],\n",
      "  'providerName': 'Anthropic',\n",
      "  'responseStreamingSupported': True},\n",
      " {'customizationsSupported': [],\n",
      "  'inferenceTypesSupported': ['ON_DEMAND'],\n",
      "  'inputModalities': ['TEXT'],\n",
      "  'modelArn': 'arn:aws:bedrock:us-east-1::foundation-model/anthropic.claude-v2:1',\n",
      "  'modelId': 'anthropic.claude-v2:1',\n",
      "  'modelLifecycle': {'status': 'ACTIVE'},\n",
      "  'modelName': 'Claude',\n",
      "  'outputModalities': ['TEXT'],\n",
      "  'providerName': 'Anthropic',\n",
      "  'responseStreamingSupported': True},\n",
      " {'customizationsSupported': [],\n",
      "  'inferenceTypesSupported': ['ON_DEMAND'],\n",
      "  'inputModalities': ['TEXT'],\n",
      "  'modelArn': 'arn:aws:bedrock:us-east-1::foundation-model/anthropic.claude-v2',\n",
      "  'modelId': 'anthropic.claude-v2',\n",
      "  'modelLifecycle': {'status': 'ACTIVE'},\n",
      "  'modelName': 'Claude',\n",
      "  'outputModalities': ['TEXT'],\n",
      "  'providerName': 'Anthropic',\n",
      "  'responseStreamingSupported': True},\n",
      " {'customizationsSupported': ['FINE_TUNING'],\n",
      "  'inferenceTypesSupported': ['PROVISIONED'],\n",
      "  'inputModalities': ['TEXT'],\n",
      "  'modelArn': 'arn:aws:bedrock:us-east-1::foundation-model/cohere.command-text-v14:7:4k',\n",
      "  'modelId': 'cohere.command-text-v14:7:4k',\n",
      "  'modelLifecycle': {'status': 'ACTIVE'},\n",
      "  'modelName': 'Command',\n",
      "  'outputModalities': ['TEXT'],\n",
      "  'providerName': 'Cohere',\n",
      "  'responseStreamingSupported': True},\n",
      " {'customizationsSupported': [],\n",
      "  'inferenceTypesSupported': ['ON_DEMAND'],\n",
      "  'inputModalities': ['TEXT'],\n",
      "  'modelArn': 'arn:aws:bedrock:us-east-1::foundation-model/cohere.command-text-v14',\n",
      "  'modelId': 'cohere.command-text-v14',\n",
      "  'modelLifecycle': {'status': 'ACTIVE'},\n",
      "  'modelName': 'Command',\n",
      "  'outputModalities': ['TEXT'],\n",
      "  'providerName': 'Cohere',\n",
      "  'responseStreamingSupported': True},\n",
      " {'customizationsSupported': ['FINE_TUNING'],\n",
      "  'inferenceTypesSupported': ['PROVISIONED'],\n",
      "  'inputModalities': ['TEXT'],\n",
      "  'modelArn': 'arn:aws:bedrock:us-east-1::foundation-model/cohere.command-light-text-v14:7:4k',\n",
      "  'modelId': 'cohere.command-light-text-v14:7:4k',\n",
      "  'modelLifecycle': {'status': 'ACTIVE'},\n",
      "  'modelName': 'Command Light',\n",
      "  'outputModalities': ['TEXT'],\n",
      "  'providerName': 'Cohere',\n",
      "  'responseStreamingSupported': True},\n",
      " {'customizationsSupported': [],\n",
      "  'inferenceTypesSupported': ['ON_DEMAND'],\n",
      "  'inputModalities': ['TEXT'],\n",
      "  'modelArn': 'arn:aws:bedrock:us-east-1::foundation-model/cohere.command-light-text-v14',\n",
      "  'modelId': 'cohere.command-light-text-v14',\n",
      "  'modelLifecycle': {'status': 'ACTIVE'},\n",
      "  'modelName': 'Command Light',\n",
      "  'outputModalities': ['TEXT'],\n",
      "  'providerName': 'Cohere',\n",
      "  'responseStreamingSupported': True},\n",
      " {'customizationsSupported': [],\n",
      "  'inferenceTypesSupported': ['ON_DEMAND'],\n",
      "  'inputModalities': ['TEXT'],\n",
      "  'modelArn': 'arn:aws:bedrock:us-east-1::foundation-model/cohere.embed-english-v3',\n",
      "  'modelId': 'cohere.embed-english-v3',\n",
      "  'modelLifecycle': {'status': 'ACTIVE'},\n",
      "  'modelName': 'Embed English',\n",
      "  'outputModalities': ['EMBEDDING'],\n",
      "  'providerName': 'Cohere',\n",
      "  'responseStreamingSupported': False},\n",
      " {'customizationsSupported': [],\n",
      "  'inferenceTypesSupported': ['ON_DEMAND'],\n",
      "  'inputModalities': ['TEXT'],\n",
      "  'modelArn': 'arn:aws:bedrock:us-east-1::foundation-model/cohere.embed-multilingual-v3',\n",
      "  'modelId': 'cohere.embed-multilingual-v3',\n",
      "  'modelLifecycle': {'status': 'ACTIVE'},\n",
      "  'modelName': 'Embed Multilingual',\n",
      "  'outputModalities': ['EMBEDDING'],\n",
      "  'providerName': 'Cohere',\n",
      "  'responseStreamingSupported': False},\n",
      " {'customizationsSupported': [],\n",
      "  'inferenceTypesSupported': ['PROVISIONED'],\n",
      "  'inputModalities': ['TEXT'],\n",
      "  'modelArn': 'arn:aws:bedrock:us-east-1::foundation-model/meta.llama2-13b-chat-v1:0:4k',\n",
      "  'modelId': 'meta.llama2-13b-chat-v1:0:4k',\n",
      "  'modelLifecycle': {'status': 'ACTIVE'},\n",
      "  'modelName': 'Llama 2 Chat 13B',\n",
      "  'outputModalities': ['TEXT'],\n",
      "  'providerName': 'Meta',\n",
      "  'responseStreamingSupported': True},\n",
      " {'customizationsSupported': [],\n",
      "  'inferenceTypesSupported': ['ON_DEMAND'],\n",
      "  'inputModalities': ['TEXT'],\n",
      "  'modelArn': 'arn:aws:bedrock:us-east-1::foundation-model/meta.llama2-13b-chat-v1',\n",
      "  'modelId': 'meta.llama2-13b-chat-v1',\n",
      "  'modelLifecycle': {'status': 'ACTIVE'},\n",
      "  'modelName': 'Llama 2 Chat 13B',\n",
      "  'outputModalities': ['TEXT'],\n",
      "  'providerName': 'Meta',\n",
      "  'responseStreamingSupported': True},\n",
      " {'customizationsSupported': [],\n",
      "  'inferenceTypesSupported': [],\n",
      "  'inputModalities': ['TEXT'],\n",
      "  'modelArn': 'arn:aws:bedrock:us-east-1::foundation-model/meta.llama2-70b-chat-v1:0:4k',\n",
      "  'modelId': 'meta.llama2-70b-chat-v1:0:4k',\n",
      "  'modelLifecycle': {'status': 'ACTIVE'},\n",
      "  'modelName': 'Llama 2 Chat 70B',\n",
      "  'outputModalities': ['TEXT'],\n",
      "  'providerName': 'Meta',\n",
      "  'responseStreamingSupported': True},\n",
      " {'customizationsSupported': [],\n",
      "  'inferenceTypesSupported': ['ON_DEMAND'],\n",
      "  'inputModalities': ['TEXT'],\n",
      "  'modelArn': 'arn:aws:bedrock:us-east-1::foundation-model/meta.llama2-70b-chat-v1',\n",
      "  'modelId': 'meta.llama2-70b-chat-v1',\n",
      "  'modelLifecycle': {'status': 'ACTIVE'},\n",
      "  'modelName': 'Llama 2 Chat 70B',\n",
      "  'outputModalities': ['TEXT'],\n",
      "  'providerName': 'Meta',\n",
      "  'responseStreamingSupported': True},\n",
      " {'customizationsSupported': ['FINE_TUNING'],\n",
      "  'inferenceTypesSupported': [],\n",
      "  'inputModalities': ['TEXT'],\n",
      "  'modelArn': 'arn:aws:bedrock:us-east-1::foundation-model/meta.llama2-13b-v1:0:4k',\n",
      "  'modelId': 'meta.llama2-13b-v1:0:4k',\n",
      "  'modelLifecycle': {'status': 'ACTIVE'},\n",
      "  'modelName': 'Llama 2 13B',\n",
      "  'outputModalities': ['TEXT'],\n",
      "  'providerName': 'Meta',\n",
      "  'responseStreamingSupported': True},\n",
      " {'customizationsSupported': [],\n",
      "  'inferenceTypesSupported': [],\n",
      "  'inputModalities': ['TEXT'],\n",
      "  'modelArn': 'arn:aws:bedrock:us-east-1::foundation-model/meta.llama2-13b-v1',\n",
      "  'modelId': 'meta.llama2-13b-v1',\n",
      "  'modelLifecycle': {'status': 'ACTIVE'},\n",
      "  'modelName': 'Llama 2 13B',\n",
      "  'outputModalities': ['TEXT'],\n",
      "  'providerName': 'Meta',\n",
      "  'responseStreamingSupported': True},\n",
      " {'customizationsSupported': ['FINE_TUNING'],\n",
      "  'inferenceTypesSupported': [],\n",
      "  'inputModalities': ['TEXT'],\n",
      "  'modelArn': 'arn:aws:bedrock:us-east-1::foundation-model/meta.llama2-70b-v1:0:4k',\n",
      "  'modelId': 'meta.llama2-70b-v1:0:4k',\n",
      "  'modelLifecycle': {'status': 'ACTIVE'},\n",
      "  'modelName': 'Llama 2 70B',\n",
      "  'outputModalities': ['TEXT'],\n",
      "  'providerName': 'Meta',\n",
      "  'responseStreamingSupported': True},\n",
      " {'customizationsSupported': [],\n",
      "  'inferenceTypesSupported': [],\n",
      "  'inputModalities': ['TEXT'],\n",
      "  'modelArn': 'arn:aws:bedrock:us-east-1::foundation-model/meta.llama2-70b-v1',\n",
      "  'modelId': 'meta.llama2-70b-v1',\n",
      "  'modelLifecycle': {'status': 'ACTIVE'},\n",
      "  'modelName': 'Llama 2 70B',\n",
      "  'outputModalities': ['TEXT'],\n",
      "  'providerName': 'Meta',\n",
      "  'responseStreamingSupported': True}]\n"
     ]
    }
   ],
   "source": [
    "boto3_bedrock = bedrock.get_bedrock_client(\n",
    "    assumed_role=os.environ.get(\"BEDROCK_ASSUME_ROLE\", None),\n",
    "    endpoint_url=os.environ.get(\"BEDROCK_ENDPOINT_URL\", None),\n",
    "    region=os.environ.get(\"AWS_DEFAULT_REGION\", None),\n",
    ")\n",
    "\n",
    "aws_region = os.environ.get(\"AWS_DEFAULT_REGION\", None)\n",
    "print (colored(\"\\n== FM lists ==\", \"green\"))\n",
    "pprint (bedrock_info.get_list_fm_models(verbose=True))"
   ]
  },
  {
   "cell_type": "markdown",
   "id": "241a9e34-417a-422f-9f75-cb211b2e70e1",
   "metadata": {
    "tags": []
   },
   "source": [
    "## 2. Titan Embedding 및 LLM 인 Claude-v2 모델 로딩"
   ]
  },
  {
   "cell_type": "markdown",
   "id": "29bf63d2-4110-407c-af06-a45d2fbed4b5",
   "metadata": {},
   "source": [
    "### LLM 로딩 (Claude-v2)"
   ]
  },
  {
   "cell_type": "code",
   "execution_count": 5,
   "id": "9c51443a-04f9-465c-9564-53053eb3e1c2",
   "metadata": {
    "tags": []
   },
   "outputs": [],
   "source": [
    "from langchain.llms.bedrock import Bedrock\n",
    "from langchain.callbacks.streaming_stdout import StreamingStdOutCallbackHandler"
   ]
  },
  {
   "cell_type": "code",
   "execution_count": 6,
   "id": "d09e84e0-b9e1-4b12-8e7a-68f03c5416e5",
   "metadata": {
    "tags": []
   },
   "outputs": [
    {
     "data": {
      "text/plain": [
       "Bedrock(client=<botocore.client.BedrockRuntime object at 0x7fe06dd39060>, model_id='anthropic.claude-v2:1', model_kwargs={'max_tokens_to_sample': 1024}, streaming=True, callbacks=[<langchain_core.callbacks.streaming_stdout.StreamingStdOutCallbackHandler object at 0x7fe06c687d30>])"
      ]
     },
     "execution_count": 6,
     "metadata": {},
     "output_type": "execute_result"
    }
   ],
   "source": [
    "llm_text = Bedrock(\n",
    "    model_id=bedrock_info.get_model_id(model_name=\"Claude-V2-1\"),\n",
    "    client=boto3_bedrock,\n",
    "    model_kwargs={\n",
    "        \"max_tokens_to_sample\": 1024,\n",
    "        #\"temperature\": 0.1\n",
    "    },\n",
    "    streaming=True,\n",
    "    callbacks=[StreamingStdOutCallbackHandler()]\n",
    ")\n",
    "\n",
    "llm_text"
   ]
  },
  {
   "cell_type": "markdown",
   "id": "3ba2e829-af8f-4e90-b994-59106cdec8d8",
   "metadata": {},
   "source": [
    "### Embedding 모델 선택"
   ]
  },
  {
   "cell_type": "code",
   "execution_count": 7,
   "id": "0b7b8752-d1e3-4f41-ba35-6da42c3785db",
   "metadata": {
    "tags": []
   },
   "outputs": [],
   "source": [
    "from utils.rag import KoSimCSERobertaContentHandler, SagemakerEndpointEmbeddingsJumpStart"
   ]
  },
  {
   "cell_type": "code",
   "execution_count": 8,
   "id": "793b03f7-3186-4969-b76a-98fe56bd5fdc",
   "metadata": {
    "tags": []
   },
   "outputs": [],
   "source": [
    "def get_embedding_model(is_bedrock_embeddings, is_KoSimCSERobert, aws_region, endpont_name=None):\n",
    "    \n",
    "    if is_bedrock_embeddings:\n",
    "        # We will be using the Titan Embeddings Model to generate our Embeddings.\n",
    "        from langchain.embeddings import BedrockEmbeddings\n",
    "        llm_emb = BedrockEmbeddings(\n",
    "            client=boto3_bedrock,\n",
    "            model_id=bedrock_info.get_model_id(\n",
    "                model_name=\"Titan-Embeddings-G1\"\n",
    "            )\n",
    "        )\n",
    "        print(\"Bedrock Embeddings Model Loaded\")\n",
    "\n",
    "    elif is_KoSimCSERobert:\n",
    "        LLMEmbHandler = KoSimCSERobertaContentHandler()\n",
    "        endpoint_name_emb = endpont_name\n",
    "        llm_emb = SagemakerEndpointEmbeddingsJumpStart(\n",
    "            endpoint_name=endpoint_name_emb,\n",
    "            region_name=aws_region,\n",
    "            content_handler=LLMEmbHandler,\n",
    "        )\n",
    "        print(\"KoSimCSERobert Embeddings Model Loaded\")\n",
    "    else:\n",
    "        llm_emb = None\n",
    "        print(\"No Embedding Model Selected\")\n",
    "\n",
    "    return llm_emb"
   ]
  },
  {
   "cell_type": "markdown",
   "id": "cd72a6b8-eaf0-4036-a530-3bde5ba988cd",
   "metadata": {},
   "source": [
    "#### [중요] is_KoSimCSERobert == True 일시에 endpoint_name 을 꼭 넣어 주세요."
   ]
  },
  {
   "cell_type": "code",
   "execution_count": 9,
   "id": "f42e032b-8715-432c-ae71-12a889f8ffc0",
   "metadata": {
    "tags": []
   },
   "outputs": [
    {
     "name": "stdout",
     "output_type": "stream",
     "text": [
      "Bedrock Embeddings Model Loaded\n"
     ]
    }
   ],
   "source": [
    "is_bedrock_embeddings = True\n",
    "is_KoSimCSERobert = False\n",
    "aws_region = os.environ.get(\"AWS_DEFAULT_REGION\", None)\n",
    "\n",
    "##############################\n",
    "# Parameters for is_KoSimCSERobert\n",
    "##############################\n",
    "if is_KoSimCSERobert: endpont_name = \"<endpoint-name>\"\n",
    "else: endpont_name = None\n",
    "##############################\n",
    "\n",
    "llm_emb = get_embedding_model(is_bedrock_embeddings, is_KoSimCSERobert, aws_region, endpont_name)   "
   ]
  },
  {
   "cell_type": "markdown",
   "id": "e10b67d5-382e-4715-a841-eb07b8655da8",
   "metadata": {},
   "source": [
    "## 3. Depoly ReRanker model (if needed)"
   ]
  },
  {
   "cell_type": "code",
   "execution_count": 10,
   "id": "9a08a296-41ef-44cb-857b-63d05a8d187c",
   "metadata": {
    "tags": []
   },
   "outputs": [
    {
     "name": "stdout",
     "output_type": "stream",
     "text": [
      "sagemaker.config INFO - Not applying SDK defaults from location: /etc/xdg/sagemaker/config.yaml\n",
      "sagemaker.config INFO - Not applying SDK defaults from location: /home/ec2-user/SageMaker/.xdg/config/sagemaker/config.yaml\n"
     ]
    }
   ],
   "source": [
    "import json\n",
    "import sagemaker\n",
    "from sagemaker.huggingface import HuggingFaceModel"
   ]
  },
  {
   "cell_type": "code",
   "execution_count": 11,
   "id": "33dd04a7-8200-49e7-ae69-55a82be199b4",
   "metadata": {
    "tags": []
   },
   "outputs": [],
   "source": [
    "depoly = False"
   ]
  },
  {
   "cell_type": "code",
   "execution_count": 12,
   "id": "9d40e3dd-a19f-4af3-831a-0cfe79e72cb3",
   "metadata": {
    "tags": []
   },
   "outputs": [],
   "source": [
    "if depoly:\n",
    "\n",
    "    try:\n",
    "        role = sagemaker.get_execution_role()\n",
    "    except ValueError:\n",
    "        iam = boto3.client('iam')\n",
    "        role = iam.get_role(RoleName='sagemaker_execution_role')['Role']['Arn']\n",
    "\n",
    "    # Hub Model configuration. https://huggingface.co/models\n",
    "    hub = {\n",
    "        'HF_MODEL_ID':'BAAI/bge-reranker-large',\n",
    "        'HF_TASK':'text-classification'\n",
    "    }\n",
    "\n",
    "    # create Hugging Face Model Class\n",
    "    huggingface_model = HuggingFaceModel(\n",
    "        transformers_version='4.26.0',\n",
    "        pytorch_version='1.13.1',\n",
    "        py_version='py39',\n",
    "        env=hub,\n",
    "        role=role, \n",
    "    )\n",
    "\n",
    "    # deploy model to SageMaker Inference\n",
    "    predictor = huggingface_model.deploy(\n",
    "        initial_instance_count=1, # number of instances\n",
    "        instance_type='ml.g5.xlarge' # instance type\n",
    "    )\n",
    "\n",
    "    print(f'Accept: {predictor.accept}')\n",
    "    print(f'ContentType: {predictor.content_type}')\n",
    "    print(f'Endpoint: {predictor.endpoint}')"
   ]
  },
  {
   "cell_type": "markdown",
   "id": "20e648ef-01ec-4e2f-ba88-7d2510fdb7a6",
   "metadata": {},
   "source": [
    "## 4. Invocation (prediction)"
   ]
  },
  {
   "cell_type": "code",
   "execution_count": 13,
   "id": "114be617-a687-4733-abb9-30394c7ef35f",
   "metadata": {
    "tags": []
   },
   "outputs": [
    {
     "name": "stdout",
     "output_type": "stream",
     "text": [
      "runtime_client: <botocore.client.SageMakerRuntime object at 0x7fdf77601420>\n"
     ]
    }
   ],
   "source": [
    "runtime_client = boto3.Session().client('sagemaker-runtime')\n",
    "print (f'runtime_client: {runtime_client}')"
   ]
  },
  {
   "cell_type": "code",
   "execution_count": 14,
   "id": "26ee5c45-de87-4a2b-bc04-bbc649fcd0c6",
   "metadata": {
    "tags": []
   },
   "outputs": [],
   "source": [
    "#endpoint_name = \"huggingface-pytorch-inference-2023-11-15-04-37-45-120\" # ml.m5.2xlarge\n",
    "endpoint_name = \"huggingface-pytorch-inference-2023-11-15-07-53-21-605\" # ml.g5.xlarge\n",
    "deserializer = \"application/json\""
   ]
  },
  {
   "cell_type": "code",
   "execution_count": 15,
   "id": "bd6288ed-b4fa-466f-9e2b-57484b827b0a",
   "metadata": {
    "tags": []
   },
   "outputs": [],
   "source": [
    "payload = json.dumps(\n",
    "    {\n",
    "        \"inputs\": [\n",
    "            {\"text\": \"I hate you\", \"text_pair\": \"I don't like you\"},\n",
    "            {\"text\": \"He hates you\", \"text_pair\": \"He like you\"}\n",
    "        ]\n",
    "    }\n",
    ")"
   ]
  },
  {
   "cell_type": "code",
   "execution_count": 16,
   "id": "c1eebe88-8b92-4e81-a103-b5a5d7a91bb3",
   "metadata": {
    "tags": []
   },
   "outputs": [
    {
     "name": "stdout",
     "output_type": "stream",
     "text": [
      "Response: [{'label': 'LABEL_0', 'score': 0.999653697013855}, {'label': 'LABEL_0', 'score': 0.025255175307393074}]\n",
      "CPU times: user 19.8 ms, sys: 0 ns, total: 19.8 ms\n",
      "Wall time: 86.7 ms\n"
     ]
    }
   ],
   "source": [
    "%%time\n",
    "response = runtime_client.invoke_endpoint(\n",
    "    EndpointName=endpoint_name,\n",
    "    ContentType=\"application/json\",\n",
    "    Accept=deserializer,\n",
    "    Body=payload\n",
    ")\n",
    "## deserialization\n",
    "out = json.loads(response['Body'].read().decode()) ## for json\n",
    "print (f'Response: {out}')"
   ]
  },
  {
   "cell_type": "markdown",
   "id": "7e432237-b9b5-4be3-aa0c-c30eeca6f480",
   "metadata": {},
   "source": [
    "## 5. LangChain OpenSearch VectorStore 정의\n",
    "### 선수 조건\n",
    "- 01_preprocess_docs/02_load_docs_opensearch.ipynb를 통해서 OpenSearch Index 가 생성이 되어 있어야 합니다.\n",
    "#### [중요] 아래에 aws parameter store 에 아래 인증정보가 먼저 입력되어 있어야 합니다.\n",
    "- 01_preprocess_docs/01_parameter_store_example.ipynb 참고"
   ]
  },
  {
   "cell_type": "code",
   "execution_count": 17,
   "id": "635ffe33-b1b1-49f7-ae14-07b782d30a63",
   "metadata": {
    "tags": []
   },
   "outputs": [],
   "source": [
    "from utils.proc_docs import get_parameter"
   ]
  },
  {
   "cell_type": "code",
   "execution_count": 18,
   "id": "42d192b6-68ce-465e-9fa7-04b5201f4453",
   "metadata": {
    "tags": []
   },
   "outputs": [],
   "source": [
    "ssm = boto3.client(\"ssm\", \"us-east-1\")\n",
    "\n",
    "opensearch_domain_endpoint = get_parameter(\n",
    "    boto3_clinet = ssm,\n",
    "    parameter_name = 'knox_opensearch_domain_endpoint',\n",
    ")\n",
    "\n",
    "opensearch_user_id = get_parameter(\n",
    "    boto3_clinet = ssm,\n",
    "    parameter_name = 'knox_opensearch_userid',\n",
    ")\n",
    "\n",
    "opensearch_user_password = get_parameter(\n",
    "    boto3_clinet = ssm,\n",
    "    parameter_name = 'knox_opensearch_password',\n",
    ")"
   ]
  },
  {
   "cell_type": "code",
   "execution_count": 19,
   "id": "fc7866fd-fd9c-4b41-b600-a91e43edfe4d",
   "metadata": {
    "tags": []
   },
   "outputs": [],
   "source": [
    "opensearch_domain_endpoint = opensearch_domain_endpoint\n",
    "rag_user_name = opensearch_user_id\n",
    "rag_user_password = opensearch_user_password\n",
    "\n",
    "http_auth = (rag_user_name, rag_user_password) # Master username, Master password"
   ]
  },
  {
   "cell_type": "markdown",
   "id": "161a900e-effc-4d7f-a179-b6c00eac03ad",
   "metadata": {
    "tags": []
   },
   "source": [
    "### Index 이름 셋팅\n",
    "- 이전 노트북 01_preprocess_docs/02_load_docs_opensearch.ipynb를 통해서 생성된 OpenSearch Index name 입력\n",
    "- parent document 용으로 생성된 index 사용할 것 "
   ]
  },
  {
   "cell_type": "code",
   "execution_count": 62,
   "id": "d5d9b5eb-052e-4e84-846b-c5385e853ba4",
   "metadata": {
    "tags": []
   },
   "outputs": [],
   "source": [
    "#index_name = \"v16-genai-poc-knox-eval-parent-doc-retriever\"\n",
    "index_name = \"v15-genai-poc-knox-parent-doc-retriever\"\n",
    "#index_name = \"genai-poc-knox-incremental-1024c-256o-v7\""
   ]
  },
  {
   "cell_type": "markdown",
   "id": "482f5785-b88d-44fa-a603-080e4bd734a6",
   "metadata": {},
   "source": [
    "### OpenSearch Client 생성"
   ]
  },
  {
   "cell_type": "code",
   "execution_count": 63,
   "id": "968b7502-5799-4702-bc17-959e88c330a2",
   "metadata": {
    "tags": []
   },
   "outputs": [],
   "source": [
    "from utils.opensearch import opensearch_utils"
   ]
  },
  {
   "cell_type": "code",
   "execution_count": 64,
   "id": "6ceb46a1-e425-4f7e-9319-793b55abb938",
   "metadata": {
    "tags": []
   },
   "outputs": [],
   "source": [
    "os_client = opensearch_utils.create_aws_opensearch_client(\n",
    "    aws_region,\n",
    "    opensearch_domain_endpoint,\n",
    "    http_auth\n",
    ")"
   ]
  },
  {
   "cell_type": "markdown",
   "id": "b41d685c-7590-42fd-9f8f-339b2ff197f5",
   "metadata": {},
   "source": [
    "# 아래수정"
   ]
  },
  {
   "cell_type": "markdown",
   "id": "a5084376-7523-4cf9-9123-adc4ae79f66d",
   "metadata": {
    "tags": []
   },
   "source": [
    "## 6. Retriever based on Hybrid Search + ParentDocument + ReRanker\n",
    "- LangChain에서 제공하는 **BaseRetriever** 클래스를 상속받아 **Custom Retriever**를 정의 할 수 있습니다.\n",
    "- Hybrid-Search에 대한 자세한 내용는 **\"01_rag_hybrid_search.ipyno\"** 에서 확인 가능합니다.\n",
    "- [Parent Document](https://towardsdatascience.com/forget-rag-the-future-is-rag-fusion-1147298d8ad1)\n",
    "![parent-document.png](../../../imgs/parent-document.png)"
   ]
  },
  {
   "cell_type": "markdown",
   "id": "29cf3877-ed50-4ca6-b319-fca654f011cc",
   "metadata": {
    "tags": []
   },
   "source": [
    "## Parent documents in Hybrid search\n",
    "- Lexical search: parent documents only\n",
    "- Semantic search: child documents first, getting parent documents corresponding to that child document"
   ]
  },
  {
   "cell_type": "code",
   "execution_count": 65,
   "id": "5db8e470-63a9-4c3d-94c8-1d270a6da822",
   "metadata": {
    "tags": []
   },
   "outputs": [],
   "source": [
    "from utils.rag import OpenSearchHybridSearchRetriever"
   ]
  },
  {
   "cell_type": "markdown",
   "id": "d7feac2f-21a2-4756-b989-66c180bb1e79",
   "metadata": {},
   "source": [
    "- 필터 설정 예시\n",
    "- filter=[ <BR>\n",
    "    　{\"term\": {\"metadata.[**your_metadata_attribute_name**]\": \"**your first keyword**\"}}, <BR>\n",
    "    　{\"term\": {\"metadata.[**your_metadata_attribute_name**]\": \"**your second keyword**\"}},<BR>\n",
    "]"
   ]
  },
  {
   "cell_type": "code",
   "execution_count": 66,
   "id": "49c7e131-294f-4ff8-9331-989709c7079c",
   "metadata": {
    "tags": []
   },
   "outputs": [],
   "source": [
    "opensearch_hybrid_retriever = OpenSearchHybridSearchRetriever(\n",
    "    os_client=os_client,\n",
    "    index_name=index_name,\n",
    "    llm_text=llm_text, # llm for query augmentation in both rag_fusion and HyDE\n",
    "    llm_emb=llm_emb, # Used in semantic search based on opensearch \n",
    "\n",
    "    # option for lexical\n",
    "    minimum_should_match=0,\n",
    "    filter=[],\n",
    "\n",
    "    # option for search\n",
    "    fusion_algorithm=\"RRF\", # [\"RRF\", \"simple_weighted\"], rank fusion 방식 정의\n",
    "    ensemble_weights=[.5, .5], # [for lexical, for semantic], Lexical, Semantic search 결과에 대한 최종 반영 비율 정의\n",
    "    reranker=True, # enable reranker with reranker model\n",
    "    reranker_endpoint_name=endpoint_name, # endpoint name for reranking model\n",
    "    parent_document = False, # enable parent document\n",
    "\n",
    "    # option for async search\n",
    "    async_mode=True,\n",
    "\n",
    "    # option for output\n",
    "    k=5, # 최종 Document 수 정의\n",
    "    verbose=True,\n",
    ")"
   ]
  },
  {
   "cell_type": "markdown",
   "id": "cfb26835-ad98-41c5-9e9d-2453642e3551",
   "metadata": {},
   "source": [
    "### Retrieval example\n",
    "- default search"
   ]
  },
  {
   "cell_type": "code",
   "execution_count": 67,
   "id": "9c06e89f-79de-413c-ba9c-a188ca3fe2d0",
   "metadata": {
    "tags": []
   },
   "outputs": [],
   "source": [
    "from utils.rag import show_context_used"
   ]
  },
  {
   "cell_type": "code",
   "execution_count": 68,
   "id": "fe3bfee3-dac1-45b9-8795-03e36c1632a9",
   "metadata": {
    "tags": []
   },
   "outputs": [],
   "source": [
    "query = \"what is verify DM\""
   ]
  },
  {
   "cell_type": "code",
   "execution_count": 69,
   "id": "05b13e5e-4a66-4dc8-b18c-42a6e3bd6037",
   "metadata": {
    "tags": []
   },
   "outputs": [
    {
     "name": "stdout",
     "output_type": "stream",
     "text": [
      "##############################\n",
      "async_mode\n",
      "##############################\n",
      "True\n",
      "##############################\n",
      "reranker\n",
      "##############################\n",
      "True\n",
      "##############################\n",
      "rag_fusion\n",
      "##############################\n",
      "False\n",
      "##############################\n",
      "HyDE\n",
      "##############################\n",
      "False\n",
      "##############################\n",
      "parent_document\n",
      "##############################\n",
      "False\n",
      "##############################\n",
      "similar_docs_semantic\n",
      "##############################\n",
      "[(Document(page_content='. The Admin package signature checksum is the Base64 encoded SHA-256 hash of the MDM APK signature, which is URL friendly. You can get this value from your MDM. Go here for information on the `EXTRA_PROVISIONING_DEVICE_ADMIN_SIGNATURE_CHECKSUM`. Alternatively, you can use utilities such as keytool on Linux to get this value. For additional information, go here.', metadata={'source': 'all_processed_data.json', 'seq_num': 559, 'title': 'What is the valid input for Signing Key?', 'url': 'https://docs.samsungknox.com/admin/knox-mobile-enrollment/on-premise/kbas/kba-3-valid-input-signing-key', 'project': 'KME', 'last_updated': '2023-07-26', 'family_tree': 'child', 'parent_id': '60aa87de-5e5b-4c35-87bd-6555ce9570e6', 'id': 'ec8db887-832d-4f53-aa09-c8ad6b7b348c'}), 1.0), (Document(page_content='. The Admin component name is expressed as _package name/class name_. For example, com.airwatch.androidagent/com.airwatch.agent.DeviceAdministratorReceiver for the Workspace ONE UEM. The Admin package signature checksum is the Base64 encoded SHA-256 hash of the MDM APK signature, which is URL friendly. You can get this value from your MDM. Go here for information on the EXTRA_PROVISIONING_DEVICE_ADMIN_SIGNATURE_CHECKSUM. Alternatively, you can use utilities such as _Keytool_ on Linux to get this value. Go here\" for additional information. The MDM app name is the name of the app displayed on the Managed Provisioning screen. The App icon is the icon displayed next to the MDM app name. The minimum size is 48 x 48 pixels, and the file format needs to be a PNG file. To use this information to create an enrollment profile, see Android Enterprise profiles. What\\'s new pop-up messaging This release introduces a pop-message with new descriptive text of the new features introduced with the KCS 1.34 release', metadata={'source': 'all_processed_data.json', 'seq_num': 503, 'title': 'Knox Mobile Enrollment 1.34 release notes', 'url': 'https://docs.samsungknox.com/admin/knox-mobile-enrollment/release-notes/20-09', 'project': 'KME', 'last_updated': '2023-07-26', 'family_tree': 'child', 'parent_id': '4de58c08-25ee-4b19-9399-77f89f9a2953', 'id': 'e530ecd8-7b22-48f3-8342-92ff3dd35f9d'}), 0.9929978977785126), (Document(page_content='. Policy Description Supported system Play Integrity (SafetyNet Attestation) Allows checks to validate the integrity of the device. The Play Integrity API replaces the SafetyNet Attestation API, which is being deprecated in June 2024. The Play Integrity API improves the detection of device-side accounts as well as Google Play app and user accounts. We recommend that you upgrade to the latest Knox Manage agent and migrate to the Play Integrity API. For more information, see Migrating from the SafetyNet Attestation API in the Android Developer documentation. Android 6 and higher &gt; Verification Interval (days) Set an interval at which to assess the devices. &gt; Verification Failure Policy (During Enrollment) Select a measure. Admin Alert &mdash; Sends an alert to the administrator. Unenrollment (Factory Reset) (for DO only)&mdash;Unenrolls the device and performs a factory reset. Unenrollment (for PO only)&mdash;Unenrolls the device. &gt; Verification Failure Policy (After Enrollment) Select a measure', metadata={'source': 'all_processed_data.json', 'seq_num': 911, 'title': 'Android Enterprise policies', 'url': 'https://docs.samsungknox.com/admin/knox-manage/configure/profile/configure-profile-policies/android-enterprise-policies', 'project': 'KM', 'last_updated': '2023-09-06', 'family_tree': 'child', 'parent_id': 'a1250780-aeac-4365-afe5-9ca6f41834cd', 'id': 'dba80154-d0a2-4e0f-9670-2c676ba91a4b'}), 0.9854943377850519), (Document(page_content='. Activate S/MIME Check to activate and configure S/MIME functions for email security. &gt; S/MIME signing certificate input method Select EMM Management Certificate or Connector interworking. EMM Management Certificate &mdash; Register an external certificate on the Knox Manage server for each network setting, and then verify each network setting using that certificate. All users share this one certificate for each network setting. Note Navigate to Advanced &gt; Certificate &gt; External Certificate to register network settings for each purpose. When you search for a user using the filter set for the connector, the user certificate (P12 or PFX) corresponding to the obtained user information is applied along with a profile, allowing you to use this certificate to verify the user. Connector interworking &mdash; Verifies network settings using the user information obtained by applying the filter set for the connector', metadata={'source': 'all_processed_data.json', 'seq_num': 916, 'title': 'iOS policies', 'url': 'https://docs.samsungknox.com/admin/knox-manage/configure/profile/configure-profile-policies/ios-policies', 'project': 'KM', 'last_updated': '2023-07-26', 'family_tree': 'child', 'parent_id': '68bf0c89-2058-4def-840b-a1691a12a986', 'id': 'e386b890-e196-4ba1-9334-1c34eee7d2b9'}), 0.9823185852985971), (Document(page_content='to activate Agent User Enrollment MDM (Device &#x2192; Server) Agent Request for check-in (Server &#x2192; Device) Agent Response for check-out (Server &#x2192; Device) Agent Request to activate MDM (Server &#x2192; Device) Agent Request for MDM profile (Server &#x2192; Device) Agent Request for SCEP profile (Server &#x2192; Device) Agent Request for token update (Server &#x2192; Device) Request to activate Agent User Enrollment MDM (Server &#x2192; Device) Confirm Enrollment (Knox) (Device &#x2192; Server) Confirm Enrollment (Knox) (Server &#x2192; Device) Generate OTP (One Time Password) Code EMM Enrollment (Device &#x2192; Server) EMM Enrollment (Server &#x2192; Device) EMM Enrollment Spec (Device &#x2192; Server) EMM Enrollment Spec (Server &#x2192; Device) Azure AD Device Sync Request Request for discovery URL (Device &#x2192; Server) Respond to the request for Discovery URL (Server &#x2192; Device) Respond to the request to set DM Client Request to verify Federated equipment (Device &#x2192;', metadata={'source': 'all_processed_data.json', 'seq_num': 781, 'title': 'Server audit events', 'url': 'https://docs.samsungknox.com/admin/knox-manage/appendix/list-of-audit-events/server-audit-events', 'project': 'KM', 'last_updated': '2023-07-26', 'family_tree': 'child', 'parent_id': '66455f42-d323-4265-af82-362139bed990', 'id': 'a424a205-ec93-4bf8-a822-18703d4b3e4e'}), 0.973594753204905), (Document(page_content='. Connector interworking &mdash; Verifies network settings using the user information obtained by applying the filter set for the connector. To verify the network settings on the device, you should set the Service Type as Profile Configuration(Certification) when you register a connector in Advanced &gt; System Integration &gt; Directory Connector. To learn more about how to add a directory connector, see Adding sync services. &gt; S/MIME Signing Certificate Available only when EMM Management Certificate is selected. Choose the signing certificate according to the S/MIME signing certificate input method. &gt; S/MIME signing certificate Connector Available only when Connector interworking is selected Choose the signing certificate connector according to the S/MIME signing certificate input method. &gt; S/MIME encryption certificate input method Select EMM Management Certificate or Connector interworking', metadata={'source': 'all_processed_data.json', 'seq_num': 916, 'title': 'iOS policies', 'url': 'https://docs.samsungknox.com/admin/knox-manage/configure/profile/configure-profile-policies/ios-policies', 'project': 'KM', 'last_updated': '2023-07-26', 'family_tree': 'child', 'parent_id': '68bf0c89-2058-4def-840b-a1691a12a986', 'id': '48eb9375-9c48-41a3-8fa8-ef06a154187e'}), 0.9724664997822489), (Document(page_content='. If set, some premium web content might be unavailable to the device user. Chrome OS 99 and higher Verified mode Controls whether Verified Access can attest the Chromebook if it boots into developer mode. For more details, see Enable Verified Access with Chrome OS devices. Values Require verified mode boot for verified access &mdash; If the Chromebook boots into developer mode, it fails verification by Verified Access. Skip boot mode for verified access &mdash; If the Chromebook boots into developer mode, it can be verified by Verified Access. Chrome OS 99 and higher &gt; Services with full access Specifies an allowlist of email addresses of Google service accounts with full access to the Google Verified Access API. These are the service accounts created on the Google Cloud Platform Console. Values To add an account, enter it and click . To remove one, click', metadata={'source': 'all_processed_data.json', 'seq_num': 914, 'title': 'Chrome OS policies', 'url': 'https://docs.samsungknox.com/admin/knox-manage/configure/profile/configure-profile-policies/chrome-os-policies', 'project': 'KM', 'last_updated': '2023-07-26', 'family_tree': 'child', 'parent_id': '2f52fe94-7528-44ea-ba57-09e2dcc692df', 'id': '3185527e-f639-490d-a5bb-0d5117b6eefe'}), 0.9709379150194914)]\n",
      "##############################\n",
      "similar_docs_keyword\n",
      "##############################\n",
      "[(Document(page_content='to activate Agent User Enrollment MDM (Device &#x2192; Server) Agent Request for check-in (Server &#x2192; Device) Agent Response for check-out (Server &#x2192; Device) Agent Request to activate MDM (Server &#x2192; Device) Agent Request for MDM profile (Server &#x2192; Device) Agent Request for SCEP profile (Server &#x2192; Device) Agent Request for token update (Server &#x2192; Device) Request to activate Agent User Enrollment MDM (Server &#x2192; Device) Confirm Enrollment (Knox) (Device &#x2192; Server) Confirm Enrollment (Knox) (Server &#x2192; Device) Generate OTP (One Time Password) Code EMM Enrollment (Device &#x2192; Server) EMM Enrollment (Server &#x2192; Device) EMM Enrollment Spec (Device &#x2192; Server) EMM Enrollment Spec (Server &#x2192; Device) Azure AD Device Sync Request Request for discovery URL (Device &#x2192; Server) Respond to the request for Discovery URL (Server &#x2192; Device) Respond to the request to set DM Client Request to verify Federated equipment (Device &#x2192;', metadata={'source': 'all_processed_data.json', 'seq_num': 781, 'title': 'Server audit events', 'url': 'https://docs.samsungknox.com/admin/knox-manage/appendix/list-of-audit-events/server-audit-events', 'project': 'KM', 'last_updated': '2023-07-26', 'family_tree': 'child', 'parent_id': '66455f42-d323-4265-af82-362139bed990', 'id': 'a424a205-ec93-4bf8-a822-18703d4b3e4e'}), 1.0), (Document(page_content='Australia. Login to the portal You can check the detailed status of your claim by logging in to your Samsung Care+ for Business portal at samsungknox.com. Submit a single service request If you want to make a service request for a single device: 1. Go to the Submit New Service Request page. 2. Search the device ID. 3. Click on the checkbox next to the device. 4. Click NEXT. 5. In the next page, verify the device details and click VERIFY MY DEVICE. 6. Select what is the issue with the device. 7. Enter and confirm the delivery details. 8. Click SUBMIT. 9. In the CONFIRM SERVICE REQUEST pop-up, verify the details and click SUBMIT MY SERVICE REQUEST. Submit multiple service requests in bulk If you want to make service requests for multiple devices: 1. Go to the Submit New Service Request page. 3. Click on the checkbox next to the devices you want to make the service request for. 4. Click NEXT. 9. In the CONFIRM BULK SERVICE REQUEST pop-up, verify the details and click SUBMIT MY SERVICE REQUEST', metadata={'source': 'all_processed_data.json', 'seq_num': 341, 'title': 'Australia', 'url': 'https://docs.samsungknox.com/admin/care-plus/submit-a-claim/australia', 'project': 'SCPE', 'last_updated': '2023-07-26', 'family_tree': 'child', 'parent_id': 'f2764903-1fd6-48fd-b3fb-1f752ddef05f', 'id': 'b79792a8-3cd7-42a3-9934-7e5c7613ffae'}), 0.8257865446132411), (Document(page_content='. Start Minimum requirements There are only a few requirements you need to meet to take advantage of the Knox Platform for Enterprise: 1. An MDM\"and a Samsung device that is compatible with Knox Platform for Enterprise. Knox Platform for Enterprise is supported on select Samsung Android Devices. Contact your operator to verify that your devices are compatible. Our MDM partners support many Knox features and comprehensive policy levels. 2. A valid Knox License. 3. A Samsung Knox account (optional). This allows you to manage your license keys, submit support tickets and access other Knox related assets. Check what version of the Knox Platform is running on your devices To find out what version of the Knox platform your device is running, go to: Settings > About Device > Software Information > Knox Version. To identify the SDK version that corresponds with the Knox API Level of your target devices, see the Knox version mapping table in Samsung Knox Developer documentation. #Recommended Knox solutions 1', metadata={'source': 'all_processed_data.json', 'seq_num': 1342, 'title': 'Knox Platform for Enterprise', 'url': 'https://docs.samsungknox.com/admin/knox-platform-for-enterprise', 'project': 'KPE', 'last_updated': '2023-07-26', 'family_tree': 'child', 'parent_id': '52a09b9b-1d20-4de4-b510-a2d59c66e22c', 'id': '9b57fafe-2587-42e3-9797-4b717563f989'}), 0.8102080154858708), (Document(page_content=\". NOTE - You can't select a firmware version to apply when creating a test campaign. Instead, dummy firmware is applied by default. 6. Click Assign. 7. Click Create and Activate. The campaign is added to the Campaigns list. 8. Check the device for the dummy firmware update. If the campaign is applied successfully, the device status changes to Campaign Active. In the following example, the dummy firmware to be applied has the file extension .DM. 9. When you're done with your test campaign, revert the dummy firmware to regular firmware. 1. Go to Devices > All Devices. 2. Click Action > Unassign campaign. The device status changes to Enrolled and the dummy firmware is reverted to regular firmware.\", metadata={'source': 'all_processed_data.json', 'seq_num': 230, 'title': 'Create a test campaign', 'url': 'https://docs.samsungknox.com/admin/efota-one/features/create-a-campaign/create-a-test-campaign', 'project': 'EFOTA', 'last_updated': '2023-07-26', 'family_tree': 'child', 'parent_id': 'a87d58c0-887b-4456-bff9-2971e8604704', 'id': '84d46303-91ef-4704-af6e-0d4f5e5f69d1'}), 0.796688887987916), (Document(page_content=\"What can I do if I'm not receiving the verification email when registering for a Samsung Account?. Here are some possible scenarios for not getting the verification email, and actions you can try: Scenario Action You can't access the device used for 2-step verification. Contact Samsung Support in your region. After we verify your identity (full name, date of birth, device IMEI or serial number), we temporarily deactivate two-step verification. You can then sign in to your account and register a new device or change the phone number used for two-step verification. You lost your backup code. Contact Samsung Support in your region. After we verify your identity (full name, date of birth, device IMEI or serial number), we send you a new backup code. You can't access the email account used to register the Samsung Account. As per our Samsung Account policy, if you lose access to your email account, you should create a new Samsung account and associate it with a new email address\", metadata={'source': 'all_processed_data.json', 'seq_num': 181, 'title': \"What can I do if I'm not receiving the verification email when registering for a Samsung Account?\", 'url': 'https://docs.samsungknox.com/admin/fundamentals/kbas/kba-360032622774', 'project': 'USP', 'last_updated': '2023-07-26', 'family_tree': 'child', 'parent_id': 'fb5cd13a-15d3-4cd3-a393-d77f25fd69f3', 'id': 'c7596d6b-3a5d-44d0-94ec-558616d7ca65'}), 0.7366747791243617), (Document(page_content='. Try to manually refresh the client on the device by executing a Force client refresh. If the problem persists, contact Samsung. Failed to install 762 Firmware installation has failed because the installation is terminated by the system. Try to manually refresh the client on the device by executing a Force client refresh. If the problem persists, contact Samsung. Failed to install 763 Firmware installation has failed because an unexpected error occurred. Try to manually refresh the client on the device by executing a Force client refresh. If the problem persists, contact Samsung. Failed to install 764 Firmware installation has failed because an error occurred during the delta firmware installation process. Try to manually refresh the client on the device by executing a Force client refresh. If the problem persists, contact Samsung. Failed to install 765 Firmware installation has failed because the dm-verity check failed in recovery mode', metadata={'source': 'all_processed_data.json', 'seq_num': 285, 'title': 'Error codes', 'url': 'https://docs.samsungknox.com/admin/efota-one/troubleshoot/error-codes', 'project': 'EFOTA', 'last_updated': '2023-08-15', 'family_tree': 'child', 'parent_id': '0c69f417-c45c-4ac6-be20-80718407c05c', 'id': '45c4d50a-bbaa-4ef3-9427-be5826a3efe0'}), 0.7126545083474819), (Document(page_content=\"Debug mode. We understand that successfully deploying your policies and settings correctly is important. To help you test and deploy your configurations, Knox Service Plugin (KSP) includes a setting called Debug mode. Overview By default, KSP runs in the background and does not have a UI. Debug mode enables you to easily see policy results and errors on a device, so you can verify that your configurations are correct. When turned on, it launches an app that displays the status of policies. This app should auto-launch when it receives any new polices. We recommend you use Debug mode with a limited number of devices. You should turn it off for full deployments. Here's what debug mode looks like when opened manually on a device: The app provides a list of the polices that you have pushed, along with details about the last configuration, including: Policy title - Name of the policy. Message - Description of the policy, along with the status of the policy application\", metadata={'source': 'all_processed_data.json', 'seq_num': 1306, 'title': 'Debug mode', 'url': 'https://docs.samsungknox.com/admin/knox-platform-for-enterprise/knox-service-plugin/troubleshoot/debug-mode', 'project': 'KSP', 'last_updated': '2023-07-26', 'family_tree': 'child', 'parent_id': 'f8199153-2888-41ef-94fa-52a503144127', 'id': 'c0cb221e-48a6-4f0c-a976-6f8dbf6f38ec'}), 0.683475514244102)]\n",
      "##############################\n",
      "similar_docs\n",
      "##############################\n",
      "[(Document(page_content='to activate Agent User Enrollment MDM (Device &#x2192; Server) Agent Request for check-in (Server &#x2192; Device) Agent Response for check-out (Server &#x2192; Device) Agent Request to activate MDM (Server &#x2192; Device) Agent Request for MDM profile (Server &#x2192; Device) Agent Request for SCEP profile (Server &#x2192; Device) Agent Request for token update (Server &#x2192; Device) Request to activate Agent User Enrollment MDM (Server &#x2192; Device) Confirm Enrollment (Knox) (Device &#x2192; Server) Confirm Enrollment (Knox) (Server &#x2192; Device) Generate OTP (One Time Password) Code EMM Enrollment (Device &#x2192; Server) EMM Enrollment (Server &#x2192; Device) EMM Enrollment Spec (Device &#x2192; Server) EMM Enrollment Spec (Server &#x2192; Device) Azure AD Device Sync Request Request for discovery URL (Device &#x2192; Server) Respond to the request for Discovery URL (Server &#x2192; Device) Respond to the request to set DM Client Request to verify Federated equipment (Device &#x2192;', metadata={'source': 'all_processed_data.json', 'seq_num': 781, 'title': 'Server audit events', 'url': 'https://docs.samsungknox.com/admin/knox-manage/appendix/list-of-audit-events/server-audit-events', 'project': 'KM', 'last_updated': '2023-07-26', 'family_tree': 'child', 'parent_id': '66455f42-d323-4265-af82-362139bed990', 'id': 'a424a205-ec93-4bf8-a822-18703d4b3e4e'}), 0.030597355216741562), (Document(page_content='. The Admin component name is expressed as _package name/class name_. For example, com.airwatch.androidagent/com.airwatch.agent.DeviceAdministratorReceiver for the Workspace ONE UEM. The Admin package signature checksum is the Base64 encoded SHA-256 hash of the MDM APK signature, which is URL friendly. You can get this value from your MDM. Go here for information on the EXTRA_PROVISIONING_DEVICE_ADMIN_SIGNATURE_CHECKSUM. Alternatively, you can use utilities such as _Keytool_ on Linux to get this value. Go here\" for additional information. The MDM app name is the name of the app displayed on the Managed Provisioning screen. The App icon is the icon displayed next to the MDM app name. The minimum size is 48 x 48 pixels, and the file format needs to be a PNG file. To use this information to create an enrollment profile, see Android Enterprise profiles. What\\'s new pop-up messaging This release introduces a pop-message with new descriptive text of the new features introduced with the KCS 1.34 release', metadata={'source': 'all_processed_data.json', 'seq_num': 503, 'title': 'Knox Mobile Enrollment 1.34 release notes', 'url': 'https://docs.samsungknox.com/admin/knox-mobile-enrollment/release-notes/20-09', 'project': 'KME', 'last_updated': '2023-07-26', 'family_tree': 'child', 'parent_id': '4de58c08-25ee-4b19-9399-77f89f9a2953', 'id': 'e530ecd8-7b22-48f3-8342-92ff3dd35f9d'}), 0.000497550587169826), (Document(page_content='. Policy Description Supported system Play Integrity (SafetyNet Attestation) Allows checks to validate the integrity of the device. The Play Integrity API replaces the SafetyNet Attestation API, which is being deprecated in June 2024. The Play Integrity API improves the detection of device-side accounts as well as Google Play app and user accounts. We recommend that you upgrade to the latest Knox Manage agent and migrate to the Play Integrity API. For more information, see Migrating from the SafetyNet Attestation API in the Android Developer documentation. Android 6 and higher &gt; Verification Interval (days) Set an interval at which to assess the devices. &gt; Verification Failure Policy (During Enrollment) Select a measure. Admin Alert &mdash; Sends an alert to the administrator. Unenrollment (Factory Reset) (for DO only)&mdash;Unenrolls the device and performs a factory reset. Unenrollment (for PO only)&mdash;Unenrolls the device. &gt; Verification Failure Policy (After Enrollment) Select a measure', metadata={'source': 'all_processed_data.json', 'seq_num': 911, 'title': 'Android Enterprise policies', 'url': 'https://docs.samsungknox.com/admin/knox-manage/configure/profile/configure-profile-policies/android-enterprise-policies', 'project': 'KM', 'last_updated': '2023-09-06', 'family_tree': 'child', 'parent_id': 'a1250780-aeac-4365-afe5-9ca6f41834cd', 'id': 'dba80154-d0a2-4e0f-9670-2c676ba91a4b'}), 0.00022958243789616972), (Document(page_content='Australia. Login to the portal You can check the detailed status of your claim by logging in to your Samsung Care+ for Business portal at samsungknox.com. Submit a single service request If you want to make a service request for a single device: 1. Go to the Submit New Service Request page. 2. Search the device ID. 3. Click on the checkbox next to the device. 4. Click NEXT. 5. In the next page, verify the device details and click VERIFY MY DEVICE. 6. Select what is the issue with the device. 7. Enter and confirm the delivery details. 8. Click SUBMIT. 9. In the CONFIRM SERVICE REQUEST pop-up, verify the details and click SUBMIT MY SERVICE REQUEST. Submit multiple service requests in bulk If you want to make service requests for multiple devices: 1. Go to the Submit New Service Request page. 3. Click on the checkbox next to the devices you want to make the service request for. 4. Click NEXT. 9. In the CONFIRM BULK SERVICE REQUEST pop-up, verify the details and click SUBMIT MY SERVICE REQUEST', metadata={'source': 'all_processed_data.json', 'seq_num': 341, 'title': 'Australia', 'url': 'https://docs.samsungknox.com/admin/care-plus/submit-a-claim/australia', 'project': 'SCPE', 'last_updated': '2023-07-26', 'family_tree': 'child', 'parent_id': 'f2764903-1fd6-48fd-b3fb-1f752ddef05f', 'id': 'b79792a8-3cd7-42a3-9934-7e5c7613ffae'}), 0.0002000283420784399), (Document(page_content='. Start Minimum requirements There are only a few requirements you need to meet to take advantage of the Knox Platform for Enterprise: 1. An MDM\"and a Samsung device that is compatible with Knox Platform for Enterprise. Knox Platform for Enterprise is supported on select Samsung Android Devices. Contact your operator to verify that your devices are compatible. Our MDM partners support many Knox features and comprehensive policy levels. 2. A valid Knox License. 3. A Samsung Knox account (optional). This allows you to manage your license keys, submit support tickets and access other Knox related assets. Check what version of the Knox Platform is running on your devices To find out what version of the Knox platform your device is running, go to: Settings > About Device > Software Information > Knox Version. To identify the SDK version that corresponds with the Knox API Level of your target devices, see the Knox version mapping table in Samsung Knox Developer documentation. #Recommended Knox solutions 1', metadata={'source': 'all_processed_data.json', 'seq_num': 1342, 'title': 'Knox Platform for Enterprise', 'url': 'https://docs.samsungknox.com/admin/knox-platform-for-enterprise', 'project': 'KPE', 'last_updated': '2023-07-26', 'family_tree': 'child', 'parent_id': '52a09b9b-1d20-4de4-b510-a2d59c66e22c', 'id': '9b57fafe-2587-42e3-9797-4b717563f989'}), 0.00019711472850758582)]\n",
      "\n",
      "==========  Results  ==========\n",
      "\n",
      "1. question: what is verify DM\n",
      "2. # documents: 5\n",
      "3. Documents: \n",
      "\n",
      "-----------------------------------------------\n",
      "1. Chunk: 1012 Characters\n",
      "-----------------------------------------------\n",
      "to activate Agent User Enrollment MDM (Device &#x2192; Server) Agent Request for check-in (Server\n",
      "&#x2192; Device) Agent Response for check-out (Server &#x2192; Device) Agent Request to activate MDM\n",
      "(Server &#x2192; Device) Agent Request for MDM profile (Server &#x2192; Device) Agent Request for\n",
      "SCEP profile (Server &#x2192; Device) Agent Request for token update (Server &#x2192; Device)\n",
      "Request to activate Agent User Enrollment MDM (Server &#x2192; Device) Confirm Enrollment (Knox)\n",
      "(Device &#x2192; Server) Confirm Enrollment (Knox) (Server &#x2192; Device) Generate OTP (One Time\n",
      "Password) Code EMM Enrollment (Device &#x2192; Server) EMM Enrollment (Server &#x2192; Device) EMM\n",
      "Enrollment Spec (Device &#x2192; Server) EMM Enrollment Spec (Server &#x2192; Device) Azure AD\n",
      "Device Sync Request Request for discovery URL (Device &#x2192; Server) Respond to the request for\n",
      "Discovery URL (Server &#x2192; Device) Respond to the request to set DM Client Request to verify\n",
      "Federated equipment (Device &#x2192;\n",
      "metadata:\n",
      " {'source': 'all_processed_data.json', 'seq_num': 781, 'title': 'Server audit events', 'url':\n",
      "'https://docs.samsungknox.com/admin/knox-manage/appendix/list-of-audit-events/server-audit-events',\n",
      "'project': 'KM', 'last_updated': '2023-07-26', 'family_tree': 'child', 'parent_id':\n",
      "'66455f42-d323-4265-af82-362139bed990', 'id': 'a424a205-ec93-4bf8-a822-18703d4b3e4e'}\n",
      "-----------------------------------------------\n",
      "2. Chunk: 1010 Characters\n",
      "-----------------------------------------------\n",
      ". The Admin component name is expressed as _package name/class name_. For example,\n",
      "com.airwatch.androidagent/com.airwatch.agent.DeviceAdministratorReceiver for the Workspace ONE UEM.\n",
      "The Admin package signature checksum is the Base64 encoded SHA-256 hash of the MDM APK signature,\n",
      "which is URL friendly. You can get this value from your MDM. Go here for information on the\n",
      "EXTRA_PROVISIONING_DEVICE_ADMIN_SIGNATURE_CHECKSUM. Alternatively, you can use utilities such as\n",
      "_Keytool_ on Linux to get this value. Go here\" for additional information. The MDM app name is the\n",
      "name of the app displayed on the Managed Provisioning screen. The App icon is the icon displayed\n",
      "next to the MDM app name. The minimum size is 48 x 48 pixels, and the file format needs to be a PNG\n",
      "file. To use this information to create an enrollment profile, see Android Enterprise profiles.\n",
      "What's new pop-up messaging This release introduces a pop-message with new descriptive text of the\n",
      "new features introduced with the KCS 1.34 release\n",
      "metadata:\n",
      " {'source': 'all_processed_data.json', 'seq_num': 503, 'title': 'Knox Mobile Enrollment 1.34 release\n",
      "notes', 'url': 'https://docs.samsungknox.com/admin/knox-mobile-enrollment/release-notes/20-09',\n",
      "'project': 'KME', 'last_updated': '2023-07-26', 'family_tree': 'child', 'parent_id':\n",
      "'4de58c08-25ee-4b19-9399-77f89f9a2953', 'id': 'e530ecd8-7b22-48f3-8342-92ff3dd35f9d'}\n",
      "-----------------------------------------------\n",
      "3. Chunk: 1017 Characters\n",
      "-----------------------------------------------\n",
      ". Policy Description Supported system Play Integrity (SafetyNet Attestation) Allows checks to\n",
      "validate the integrity of the device. The Play Integrity API replaces the SafetyNet Attestation API,\n",
      "which is being deprecated in June 2024. The Play Integrity API improves the detection of device-side\n",
      "accounts as well as Google Play app and user accounts. We recommend that you upgrade to the latest\n",
      "Knox Manage agent and migrate to the Play Integrity API. For more information, see Migrating from\n",
      "the SafetyNet Attestation API in the Android Developer documentation. Android 6 and higher &gt;\n",
      "Verification Interval (days) Set an interval at which to assess the devices. &gt; Verification\n",
      "Failure Policy (During Enrollment) Select a measure. Admin Alert &mdash; Sends an alert to the\n",
      "administrator. Unenrollment (Factory Reset) (for DO only)&mdash;Unenrolls the device and performs a\n",
      "factory reset. Unenrollment (for PO only)&mdash;Unenrolls the device. &gt; Verification Failure\n",
      "Policy (After Enrollment) Select a measure\n",
      "metadata:\n",
      " {'source': 'all_processed_data.json', 'seq_num': 911, 'title': 'Android Enterprise policies',\n",
      "'url': 'https://docs.samsungknox.com/admin/knox-manage/configure/profile/configure-profile-\n",
      "policies/android-enterprise-policies', 'project': 'KM', 'last_updated': '2023-09-06', 'family_tree':\n",
      "'child', 'parent_id': 'a1250780-aeac-4365-afe5-9ca6f41834cd', 'id':\n",
      "'dba80154-d0a2-4e0f-9670-2c676ba91a4b'}\n",
      "-----------------------------------------------\n",
      "4. Chunk: 1004 Characters\n",
      "-----------------------------------------------\n",
      "Australia. Login to the portal You can check the detailed status of your claim by logging in to your\n",
      "Samsung Care+ for Business portal at samsungknox.com. Submit a single service request If you want to\n",
      "make a service request for a single device: 1. Go to the Submit New Service Request page. 2. Search\n",
      "the device ID. 3. Click on the checkbox next to the device. 4. Click NEXT. 5. In the next page,\n",
      "verify the device details and click VERIFY MY DEVICE. 6. Select what is the issue with the device.\n",
      "7. Enter and confirm the delivery details. 8. Click SUBMIT. 9. In the CONFIRM SERVICE REQUEST pop-\n",
      "up, verify the details and click SUBMIT MY SERVICE REQUEST. Submit multiple service requests in bulk\n",
      "If you want to make service requests for multiple devices: 1. Go to the Submit New Service Request\n",
      "page. 3. Click on the checkbox next to the devices you want to make the service request for. 4.\n",
      "Click NEXT. 9. In the CONFIRM BULK SERVICE REQUEST pop-up, verify the details and click SUBMIT MY\n",
      "SERVICE REQUEST\n",
      "metadata:\n",
      " {'source': 'all_processed_data.json', 'seq_num': 341, 'title': 'Australia', 'url':\n",
      "'https://docs.samsungknox.com/admin/care-plus/submit-a-claim/australia', 'project': 'SCPE',\n",
      "'last_updated': '2023-07-26', 'family_tree': 'child', 'parent_id':\n",
      "'f2764903-1fd6-48fd-b3fb-1f752ddef05f', 'id': 'b79792a8-3cd7-42a3-9934-7e5c7613ffae'}\n",
      "-----------------------------------------------\n",
      "5. Chunk: 1014 Characters\n",
      "-----------------------------------------------\n",
      ". Start Minimum requirements There are only a few requirements you need to meet to take advantage of\n",
      "the Knox Platform for Enterprise: 1. An MDM\"and a Samsung device that is compatible with Knox\n",
      "Platform for Enterprise. Knox Platform for Enterprise is supported on select Samsung Android\n",
      "Devices. Contact your operator to verify that your devices are compatible. Our MDM partners support\n",
      "many Knox features and comprehensive policy levels. 2. A valid Knox License. 3. A Samsung Knox\n",
      "account (optional). This allows you to manage your license keys, submit support tickets and access\n",
      "other Knox related assets. Check what version of the Knox Platform is running on your devices To\n",
      "find out what version of the Knox platform your device is running, go to: Settings > About Device >\n",
      "Software Information > Knox Version. To identify the SDK version that corresponds with the Knox API\n",
      "Level of your target devices, see the Knox version mapping table in Samsung Knox Developer\n",
      "documentation. #Recommended Knox solutions 1\n",
      "metadata:\n",
      " {'source': 'all_processed_data.json', 'seq_num': 1342, 'title': 'Knox Platform for Enterprise',\n",
      "'url': 'https://docs.samsungknox.com/admin/knox-platform-for-enterprise', 'project': 'KPE',\n",
      "'last_updated': '2023-07-26', 'family_tree': 'child', 'parent_id':\n",
      "'52a09b9b-1d20-4de4-b510-a2d59c66e22c', 'id': '9b57fafe-2587-42e3-9797-4b717563f989'}\n",
      "CPU times: user 155 ms, sys: 1.3 ms, total: 156 ms\n",
      "Wall time: 615 ms\n"
     ]
    }
   ],
   "source": [
    "%%time\n",
    "search_hybrid_result = opensearch_hybrid_retriever.get_relevant_documents(query)\n",
    "\n",
    "print(\"\\n==========  Results  ==========\\n\")\n",
    "print(f'1. question: {query}')\n",
    "print (f'2. # documents: {len(search_hybrid_result)}')\n",
    "print(\"3. Documents: \\n\")\n",
    "\n",
    "show_context_used(search_hybrid_result)"
   ]
  },
  {
   "cell_type": "markdown",
   "id": "c09221b5-4a6c-463b-9769-35cc8362e33c",
   "metadata": {},
   "source": [
    "- update parameters"
   ]
  },
  {
   "cell_type": "code",
   "execution_count": 70,
   "id": "b7bb4672-d2b8-4b29-b71c-b06d84bcd470",
   "metadata": {
    "tags": []
   },
   "outputs": [],
   "source": [
    "opensearch_hybrid_retriever.update_search_params(\n",
    "    k=5,\n",
    "    minimum_should_match=0,\n",
    "    #filter=[],\n",
    "    filter=[\n",
    "        #{'term': {'metadata.project': 'KS'}},\n",
    "        #{'term': {'metadata.family_tree': 'child'}},\n",
    "    ],\n",
    "    reranker=True,\n",
    "    reranker_endpoint_name=endpoint_name,\n",
    "    rag_fusion=False,\n",
    "    parent_document=False, # enable parent document\n",
    "    verbose=True,\n",
    ")"
   ]
  },
  {
   "cell_type": "code",
   "execution_count": 71,
   "id": "1b9b45b1-cb92-4954-8087-143a550350c8",
   "metadata": {
    "tags": []
   },
   "outputs": [
    {
     "name": "stdout",
     "output_type": "stream",
     "text": [
      "##############################\n",
      "async_mode\n",
      "##############################\n",
      "True\n",
      "##############################\n",
      "reranker\n",
      "##############################\n",
      "True\n",
      "##############################\n",
      "rag_fusion\n",
      "##############################\n",
      "False\n",
      "##############################\n",
      "HyDE\n",
      "##############################\n",
      "False\n",
      "##############################\n",
      "parent_document\n",
      "##############################\n",
      "False\n",
      "##############################\n",
      "similar_docs_semantic\n",
      "##############################\n",
      "[(Document(page_content='. 1. In the EMM groups tab, select the device groups you want to enroll. 2. Click Actions > Enroll devices in groups. The Select license pop-up shows the active licenses that have enough seats to accommodate all devices in your selected device group(s). If you want to see all licenses, click Clear Filters. 3. Select the license you want to use, and click Done. Assign a device group to a campaign Perform this procedure if you want to assign all devices in a device group to a campaign. 1. In the EMM groups tab, select the device groups you want to assign to a campaign. 2. Click Actions > Assign campaign. The Select campaign pop-up shows only the active and scheduled campaigns. If you want to see all campaigns (including expired ones), click Clear Filters. The Select license pop-up shows the active licenses that have enough seats to accommodate all devices in your selected device group(s). If you want to see all licenses, click Clear Filters. 3. Select the campaign to assign, and click Done', metadata={'source': 'all_processed_data.json', 'seq_num': 204, 'title': 'Manage EMM groups', 'url': 'https://docs.samsungknox.com/admin/efota-one/emm-integration/manage-emm-groups', 'project': 'EFOTA', 'last_updated': '2023-07-26', 'family_tree': 'child', 'parent_id': '0fb0d98b-9e41-469f-b51f-62c532b65c90', 'id': 'd98e8d1a-12c8-4fcd-84d0-1ea475d271a9'}), 1.0), (Document(page_content='. Key & Value (iOS) - If you selected Yes in Managed App Setting, click Add and enter the key and value of a MDM setting you want to change. You can add one key and its value at a time. Ask the app developers about the key and value for the MDM settings. For example, if you want to add the ManagedAppConfig application and set its default URL to http://www.samsungsds.com, the key is the server URL and the value is http://www.samsungsds.com. Description - Enter a description for the application. Icon - Select the app icon image. Screenshot - Select screenshots of the app to provide a preview for Android device users. 5. Do one of the following: Click Save to save the information and return to the Application list. Click Save & Assign to save this information and proceed to assign the information. Continue on to the next step. 6. Assign the application. For more information, see Assigning internal applications', metadata={'source': 'all_processed_data.json', 'seq_num': 816, 'title': 'Add internal Android and iOS apps', 'url': 'https://docs.samsungknox.com/admin/knox-manage/configure/applications/add-applications/add-internal-android-and-ios-apps', 'project': 'KM', 'last_updated': '2023-07-26', 'family_tree': 'child', 'parent_id': '0bba5c03-8184-4ee3-bb3c-639469f04219', 'id': 'fb6aaca7-cf89-465b-906f-3700d274945c'}), 0.9900110776763913), (Document(page_content=\". Assign user credentials and a profile To assign user credentials and a profile: 1. Go to Devices > BULK ACTIONS and click ASSIGN USER CREDENTIALS AND PROFILE. 2. Under Upload devices list with user credentials, select a CSV file containing device IDs. If you're unsure how to format the CSV file, return to the BULK ACTIONS page and click View instructions under the ASSIGN USER CREDENTIALS AND PROFILE section. 3. (Optional) Select a new MDM profile from the Modify the MDM profile of selected devices list. The list also contains an option to Clear profiles from the device IDs in the uploaded CSV file. Consider using this action when you want to remove profile assignments from multiple devices in bulk. 4. Fill out Tags with any names associated with the devices. 5. Click SUBMIT. For information on adding new profiles or editing the configuration of existing profiles, see Profile configuration\", metadata={'source': 'all_processed_data.json', 'seq_num': 425, 'title': 'Configure devices', 'url': 'https://docs.samsungknox.com/admin/knox-mobile-enrollment/features/configure-devices', 'project': 'KME', 'last_updated': '2023-07-26', 'family_tree': 'child', 'parent_id': '0a6a15eb-a04a-4fd2-bb9b-73c2ca038b7b', 'id': '8d2030c0-ea63-4cdb-9dca-9a5fce1d5641'}), 0.9895831000359754), (Document(page_content='. For more information, see Adding VPP applications (managed distribution). Upload Redemption Code Upload the redeemable codes of the VPP applications if you purchased the applications through redeemable codes from the VPP website. For more information, see Adding VPP applications (redeemable codes). Assign Assign and apply the selected applications to group/organizations. For more information, see Assign applications. Update Update the selected applications. When updates are available for apps from Managed Google Play, Google Play Store, and Apple App Store, a Need Update label displays next to them in the Version column for easy identification. You can select and update multiple applications simultaneously. Modify Modify the selected application details. For more information, see Modify applications. Delete Delete the selected applications', metadata={'source': 'all_processed_data.json', 'seq_num': 838, 'title': 'View the application list', 'url': 'https://docs.samsungknox.com/admin/knox-manage/configure/applications/view-applications/view-the-application-list', 'project': 'KM', 'last_updated': '2023-07-26', 'family_tree': 'child', 'parent_id': 'db76f8c1-9b02-406e-8d1e-32288cba724e', 'id': '7b38c393-45e1-499c-a1cb-fa2b4ee7dc37'}), 0.9840961027973287), (Document(page_content='Basic message templates. The basic message templates are as follows: Template type Message type Template name Email Agent Installation Email_Agent Installation Administrator Authentication Email_Admin OTP Administrator Account Information Email_Admin ID Administrator Temporary Password Email_Admin Temporary Password User Temporary Password Email_User Password Reset Apple VPP Email_Apple VPP Invite: The email template for inviting VPP users Email_Apple VPP Redeem: The email template for installing purchased VPP applications through redeemable codes SMS Agent Installation User Credential Public Store Address Direct Installation KME Activation Address Administrator Authentication Admin OTP SMS Administrator Temporary Password Admin Temporary Password', metadata={'source': 'all_processed_data.json', 'seq_num': 809, 'title': 'Basic message templates', 'url': 'https://docs.samsungknox.com/admin/knox-manage/configure/advanced-settings/configure-message-template/basic-message-templates', 'project': 'KM', 'last_updated': '2023-07-26', 'family_tree': 'parent', 'parent_id': None, 'id': '85b73a25-3f9f-492b-b944-022bd27c49fe'}), 0.9774350253480353), (Document(page_content='Basic message templates. The basic message templates are as follows: Template type Message type Template name Email Agent Installation Email_Agent Installation Administrator Authentication Email_Admin OTP Administrator Account Information Email_Admin ID Administrator Temporary Password Email_Admin Temporary Password User Temporary Password Email_User Password Reset Apple VPP Email_Apple VPP Invite: The email template for inviting VPP users Email_Apple VPP Redeem: The email template for installing purchased VPP applications through redeemable codes SMS Agent Installation User Credential Public Store Address Direct Installation KME Activation Address Administrator Authentication Admin OTP SMS Administrator Temporary Password Admin Temporary Password', metadata={'source': 'all_processed_data.json', 'seq_num': 809, 'title': 'Basic message templates', 'url': 'https://docs.samsungknox.com/admin/knox-manage/configure/advanced-settings/configure-message-template/basic-message-templates', 'project': 'KM', 'last_updated': '2023-07-26', 'family_tree': 'child', 'parent_id': '85b73a25-3f9f-492b-b944-022bd27c49fe', 'id': 'd4995f2d-19fb-40e3-a622-5f2de53b506d'}), 0.9774350253480353), (Document(page_content=\". NOTE - You can't select a firmware version to apply when creating a test campaign. Instead, dummy firmware is applied by default. 6. Click Assign. 7. Click Create and Activate. The campaign is added to the Campaigns list. 8. Check the device for the dummy firmware update. If the campaign is applied successfully, the device status changes to Campaign Active. In the following example, the dummy firmware to be applied has the file extension .DM. 9. When you're done with your test campaign, revert the dummy firmware to regular firmware. 1. Go to Devices > All Devices. 2. Click Action > Unassign campaign. The device status changes to Enrolled and the dummy firmware is reverted to regular firmware.\", metadata={'source': 'all_processed_data.json', 'seq_num': 230, 'title': 'Create a test campaign', 'url': 'https://docs.samsungknox.com/admin/efota-one/features/create-a-campaign/create-a-test-campaign', 'project': 'EFOTA', 'last_updated': '2023-07-26', 'family_tree': 'child', 'parent_id': 'a87d58c0-887b-4456-bff9-2971e8604704', 'id': '84d46303-91ef-4704-af6e-0d4f5e5f69d1'}), 0.9760433697373793)]\n",
      "##############################\n",
      "similar_docs_keyword\n",
      "##############################\n",
      "[(Document(page_content=\". NOTE - You can't select a firmware version to apply when creating a test campaign. Instead, dummy firmware is applied by default. 6. Click Assign. 7. Click Create and Activate. The campaign is added to the Campaigns list. 8. Check the device for the dummy firmware update. If the campaign is applied successfully, the device status changes to Campaign Active. In the following example, the dummy firmware to be applied has the file extension .DM. 9. When you're done with your test campaign, revert the dummy firmware to regular firmware. 1. Go to Devices > All Devices. 2. Click Action > Unassign campaign. The device status changes to Enrolled and the dummy firmware is reverted to regular firmware.\", metadata={'source': 'all_processed_data.json', 'seq_num': 230, 'title': 'Create a test campaign', 'url': 'https://docs.samsungknox.com/admin/efota-one/features/create-a-campaign/create-a-test-campaign', 'project': 'EFOTA', 'last_updated': '2023-07-26', 'family_tree': 'child', 'parent_id': 'a87d58c0-887b-4456-bff9-2971e8604704', 'id': '84d46303-91ef-4704-af6e-0d4f5e5f69d1'}), 1.0), (Document(page_content='to activate Agent User Enrollment MDM (Device &#x2192; Server) Agent Request for check-in (Server &#x2192; Device) Agent Response for check-out (Server &#x2192; Device) Agent Request to activate MDM (Server &#x2192; Device) Agent Request for MDM profile (Server &#x2192; Device) Agent Request for SCEP profile (Server &#x2192; Device) Agent Request for token update (Server &#x2192; Device) Request to activate Agent User Enrollment MDM (Server &#x2192; Device) Confirm Enrollment (Knox) (Device &#x2192; Server) Confirm Enrollment (Knox) (Server &#x2192; Device) Generate OTP (One Time Password) Code EMM Enrollment (Device &#x2192; Server) EMM Enrollment (Server &#x2192; Device) EMM Enrollment Spec (Device &#x2192; Server) EMM Enrollment Spec (Server &#x2192; Device) Azure AD Device Sync Request Request for discovery URL (Device &#x2192; Server) Respond to the request for Discovery URL (Server &#x2192; Device) Respond to the request to set DM Client Request to verify Federated equipment (Device &#x2192;', metadata={'source': 'all_processed_data.json', 'seq_num': 781, 'title': 'Server audit events', 'url': 'https://docs.samsungknox.com/admin/knox-manage/appendix/list-of-audit-events/server-audit-events', 'project': 'KM', 'last_updated': '2023-07-26', 'family_tree': 'child', 'parent_id': '66455f42-d323-4265-af82-362139bed990', 'id': 'a424a205-ec93-4bf8-a822-18703d4b3e4e'}), 0.930276845657195), (Document(page_content='. Try to manually refresh the client on the device by executing a Force client refresh. If the problem persists, contact Samsung. Failed to install 762 Firmware installation has failed because the installation is terminated by the system. Try to manually refresh the client on the device by executing a Force client refresh. If the problem persists, contact Samsung. Failed to install 763 Firmware installation has failed because an unexpected error occurred. Try to manually refresh the client on the device by executing a Force client refresh. If the problem persists, contact Samsung. Failed to install 764 Firmware installation has failed because an error occurred during the delta firmware installation process. Try to manually refresh the client on the device by executing a Force client refresh. If the problem persists, contact Samsung. Failed to install 765 Firmware installation has failed because the dm-verity check failed in recovery mode', metadata={'source': 'all_processed_data.json', 'seq_num': 285, 'title': 'Error codes', 'url': 'https://docs.samsungknox.com/admin/efota-one/troubleshoot/error-codes', 'project': 'EFOTA', 'last_updated': '2023-08-15', 'family_tree': 'child', 'parent_id': '0c69f417-c45c-4ac6-be20-80718407c05c', 'id': '45c4d50a-bbaa-4ef3-9427-be5826a3efe0'}), 0.9231110849482723), (Document(page_content='. Try to manually refresh the client on the device by executing a Force client refresh. If the problem persists, contact Samsung. Failed to install 765 Firmware installation has failed because the dm-verity check failed in recovery mode. Try to manually refresh the client on the device by executing a Force client refresh. If the problem persists, contact Samsung. Failed to install 766 Firmware installation has failed because an update of the recovery area failed. Try to manually refresh the client on the device by executing a Force client refresh. If the problem persists, contact Samsung. Failed to install 767 Firmware installation has failed because an error occurred during the block-based update. Try to manually refresh the client on the device by executing a Force client refresh. If the problem persists, contact Samsung. Failed to install 768 Firmware installation has failed because the token in firmware verification failed', metadata={'source': 'all_processed_data.json', 'seq_num': 285, 'title': 'Error codes', 'url': 'https://docs.samsungknox.com/admin/efota-one/troubleshoot/error-codes', 'project': 'EFOTA', 'last_updated': '2023-08-15', 'family_tree': 'child', 'parent_id': '0c69f417-c45c-4ac6-be20-80718407c05c', 'id': '93b9fc49-f5b8-495f-89f9-48304c9eb953'}), 0.8511835350326947), (Document(page_content=\". SDP encryption Samsung Galaxy devices supporting Knox 3.3 and above are enabled to support Android's File Based Encryption (FBE) for Data-at-Rest. Data encryption is enforced across the device using: EXT4 encryption FBE mechanism, FIPS compliant hardware crypto module (AES256-XTS) Optionally, the external SD Card can be used with: dm-crypt (introduced with Android 11) or eCryptfs stacked file system, FIPS compliant Kernel crypto module (AES256-CBC). FBE keys are derived using a password entry, which is either the default hard-coded password or the device user's password used to unlock the device. While in the unlocked state, SDP works as follows: Encrypts sensitive data using a per-file File Encryption Key (FEK). These keys are encrypted with the SDPK.sym (Sensitive Data Protection Key, symmetric), which is encrypted by the SdpMasterKey. Keeps the SdpMasterKey in memory only while the device is unlocked, to allow decryption of the SDPK.sym and SDPK.pri (private)\", metadata={'source': 'all_processed_data.json', 'seq_num': 123, 'title': 'Sensitive Data Protection (SDP)', 'url': 'https://docs.samsungknox.com/admin/fundamentals/whitepaper/core-platform-security/sensitive-data-protection', 'project': 'USP', 'last_updated': '2023-07-26', 'family_tree': 'child', 'parent_id': '9365c8db-e1a9-4fc3-9e2f-273a357fce08', 'id': '4e038eba-c7e5-4277-a25a-0a98329a9479'}), 0.8328198723423198), (Document(page_content=\"Create a test campaign. Explains how to create a Knox E-FOTA test campaign A test campaign allows you to test the campaign policies using a dummy firmware version. When you're done with your test campaign, you can revert your devices back to your regular firmware by unassigning them from the test campaign. You can't apply a real campaign on a device that has dummy firmware. Devices synced to Knox E-FOTA from an EMM can't be assigned to a test campaign. 1. Sign in to the Knox Admin Portal. In the left sidebar, click Knox E-FOTA. 2. In the Campaigns tab, click Actions > Create Test Campaign. 3. Fill in the campaign details. #Basic Info Set a unique name for the campaign and a description of what's new in it. #Schedule , Campaign period - Set the timeframe when devices in the campaign can start to download and install the update. If you want the campaign period to run indefinitely, select Set a start date only. Firmware installation period - Set the timeframe within the campaign period when the devices in the campaign can start installing the update. This timeframe is based on the device's timezone. If you want to test a campaign immediately, set the firmware installation period to the following values: From: 00:00 , To: 24:00 Devices will start installation during this period, but there is no guarantee that installation will end within this period. Firmware download period - Set the timeframe within the campaign period when the devices in the campaign can start downloading the update. You can set devices to download anytime or you can use the same timeframe as the firmware installation period. Postpone installation - Select this option if you want to allow the device user to postpone the installation. Then, set the maximum number of times they're allowed to postpone it and the duration between reminders. You can also set a timer - if the device user doesn't act on an update reminder before the timer times out, the update is automatically installed. #Network and Speed Download network - Select the network(s) in which devices in the campaign can download the update. If you choose to allow downloads in any network (Wi-Fi or mobile), you can additionally do the following: Allow firmware download while roaming. Set the campaign to switch to Wi-Fi/Ethernet when the firmware exceeds a certain size. If needed, you can also control the download speed. You can also set download speed limits for up to 5 specific SSIDs #Device Condition Specify how much battery life a device must have to start installing the update. You can also prevent an installation from starting on devices that are not connected a charging dock. #Factory Reset Specify whether you want to block end users from performing a factory reset on the device. #Support Contact Details Enter a phone number and email address end users can contact for support. You can also set these values as the default contact information for future campaigns. 4. Click Assign Devices. 5. From the device list, select one or more devices to assign to the test campaign. NOTE - You can't select a firmware version to apply when creating a test campaign. Instead, dummy firmware is applied by default. 6. Click Assign. 7. Click Create and Activate. The campaign is added to the Campaigns list. 8. Check the device for the dummy firmware update. If the campaign is applied successfully, the device status changes to Campaign Active. In the following example, the dummy firmware to be applied has the file extension .DM. 9. When you're done with your test campaign, revert the dummy firmware to regular firmware. 1. Go to Devices > All Devices. 2. Click Action > Unassign campaign. The device status changes to Enrolled and the dummy firmware is reverted to regular firmware.\", metadata={'source': 'all_processed_data.json', 'seq_num': 230, 'title': 'Create a test campaign', 'url': 'https://docs.samsungknox.com/admin/efota-one/features/create-a-campaign/create-a-test-campaign', 'project': 'EFOTA', 'last_updated': '2023-07-26', 'family_tree': 'parent', 'parent_id': None, 'id': 'a87d58c0-887b-4456-bff9-2971e8604704'}), 0.6394890302568356), (Document(page_content='Sensitive Data Protection (SDP). This feature was deprecated in API level 33 with Knox SDK v3.7. Protecting Data-At-Rest (DAR) on mobile devices is a major concern. While the industry standard is to encrypt all the data on a device, that data is decrypted and accessible after the device boots successfully. This access process means that once a device is lost or stolen, a sophisticated attack can extract data as long as the device is still running, even if the device is locked. Samsung created Sensitive Data Protection (SDP) to address this specific issue. SDP\"meets the Mobile Device Fundamentals Protection Profile (MDFPP) requirements defined by the National Information Assurance Partnership (NIAP) for DAR, meaning that SDP\"is approved for use by the US\"government and military. How SDP works KPE protects user data on the device through Data-at-Rest encryption. Data remains encrypted on disk, and can only be decrypted when the device is powered on. Recovery of data decryption keys is tied to: device hardware, meaning data is recoverable only on the same device, device boot-time integrity measurements, a user credential dependent on configuration Additionally, a mechanism is provided to optionally mark data as sensitive, which subsequently cannot be decrypted while the device is in the locked state. Here are the two protection modes that KPE provides for Data-at-Rest: Protected - All files stored on the device are treated as Protected by default. Protected data is stored on the device file system as encrypted data, and is only decrypted when an application accesses the data. This mechanism provides the data-at-rest protection while the device is powered off. Even if the device is in the lock state, applications can access protected data. Sensitive - Files can also be optionally marked as sensitive, using the Sensitive Data Protection (SDP) mechanism. SDP uses a key management scheme which ensures sensitive files can only be decrypted in the unlocked state, by purging keys from RAM when the device is locked. However, SDP also provides the ability for new files to be written and encrypted in the locked state using public key cryptography. SDP encryption Samsung Galaxy devices supporting Knox 3.3 and above are enabled to support Android\\'s File Based Encryption (FBE) for Data-at-Rest. Data encryption is enforced across the device using: EXT4 encryption FBE mechanism, FIPS compliant hardware crypto module (AES256-XTS) Optionally, the external SD Card can be used with: dm-crypt (introduced with Android 11) or eCryptfs stacked file system, FIPS compliant Kernel crypto module (AES256-CBC). FBE keys are derived using a password entry, which is either the default hard-coded password or the device user\\'s password used to unlock the device. While in the unlocked state, SDP works as follows: Encrypts sensitive data using a per-file File Encryption Key (FEK). These keys are encrypted with the SDPK.sym (Sensitive Data Protection Key, symmetric), which is encrypted by the SdpMasterKey. Keeps the SdpMasterKey in memory only while the device is unlocked, to allow decryption of the SDPK.sym and SDPK.pri (private). Encrypts the SdpMasterKey using the key that is protected by both ephemeral keys derived from the device user\\'s password and a key chaining to the Root Encryption Key (REK) using the Keystore. Clears the SdpMasterKey when it transitions to the locked state, and re-derives it when the user unlocks the device or Work container. While in the locked state, SDP handles apps writes of sensitive data differently: Rejects app attempts to open sensitive data files, as KPE no longer has the keys needed to retrieve sensitive data in memory and cannot re-derive them until the user unlocks the device or Work container. Encrypts any new sensitive app data by using both a: per-user sensitive data ECDH asymmetric key pair (SDPK.pri/pub) , per-file ECDH key pair [DataK.pri/pub] generated on behalf of the app, Protects the private portion of the ECDH key pair (SPDK', metadata={'source': 'all_processed_data.json', 'seq_num': 123, 'title': 'Sensitive Data Protection (SDP)', 'url': 'https://docs.samsungknox.com/admin/fundamentals/whitepaper/core-platform-security/sensitive-data-protection', 'project': 'USP', 'last_updated': '2023-07-26', 'family_tree': 'parent', 'parent_id': None, 'id': '9365c8db-e1a9-4fc3-9e2f-273a357fce08'}), 0.5185484936461491)]\n",
      "##############################\n",
      "similar_docs\n",
      "##############################\n",
      "[(Document(page_content='to activate Agent User Enrollment MDM (Device &#x2192; Server) Agent Request for check-in (Server &#x2192; Device) Agent Response for check-out (Server &#x2192; Device) Agent Request to activate MDM (Server &#x2192; Device) Agent Request for MDM profile (Server &#x2192; Device) Agent Request for SCEP profile (Server &#x2192; Device) Agent Request for token update (Server &#x2192; Device) Request to activate Agent User Enrollment MDM (Server &#x2192; Device) Confirm Enrollment (Knox) (Device &#x2192; Server) Confirm Enrollment (Knox) (Server &#x2192; Device) Generate OTP (One Time Password) Code EMM Enrollment (Device &#x2192; Server) EMM Enrollment (Server &#x2192; Device) EMM Enrollment Spec (Device &#x2192; Server) EMM Enrollment Spec (Server &#x2192; Device) Azure AD Device Sync Request Request for discovery URL (Device &#x2192; Server) Respond to the request for Discovery URL (Server &#x2192; Device) Respond to the request to set DM Client Request to verify Federated equipment (Device &#x2192;', metadata={'source': 'all_processed_data.json', 'seq_num': 781, 'title': 'Server audit events', 'url': 'https://docs.samsungknox.com/admin/knox-manage/appendix/list-of-audit-events/server-audit-events', 'project': 'KM', 'last_updated': '2023-07-26', 'family_tree': 'child', 'parent_id': '66455f42-d323-4265-af82-362139bed990', 'id': 'a424a205-ec93-4bf8-a822-18703d4b3e4e'}), 0.038404908031225204), (Document(page_content=\". NOTE - You can't select a firmware version to apply when creating a test campaign. Instead, dummy firmware is applied by default. 6. Click Assign. 7. Click Create and Activate. The campaign is added to the Campaigns list. 8. Check the device for the dummy firmware update. If the campaign is applied successfully, the device status changes to Campaign Active. In the following example, the dummy firmware to be applied has the file extension .DM. 9. When you're done with your test campaign, revert the dummy firmware to regular firmware. 1. Go to Devices > All Devices. 2. Click Action > Unassign campaign. The device status changes to Enrolled and the dummy firmware is reverted to regular firmware.\", metadata={'source': 'all_processed_data.json', 'seq_num': 230, 'title': 'Create a test campaign', 'url': 'https://docs.samsungknox.com/admin/efota-one/features/create-a-campaign/create-a-test-campaign', 'project': 'EFOTA', 'last_updated': '2023-07-26', 'family_tree': 'child', 'parent_id': 'a87d58c0-887b-4456-bff9-2971e8604704', 'id': '84d46303-91ef-4704-af6e-0d4f5e5f69d1'}), 0.005787748843431473), (Document(page_content=\". Assign user credentials and a profile To assign user credentials and a profile: 1. Go to Devices > BULK ACTIONS and click ASSIGN USER CREDENTIALS AND PROFILE. 2. Under Upload devices list with user credentials, select a CSV file containing device IDs. If you're unsure how to format the CSV file, return to the BULK ACTIONS page and click View instructions under the ASSIGN USER CREDENTIALS AND PROFILE section. 3. (Optional) Select a new MDM profile from the Modify the MDM profile of selected devices list. The list also contains an option to Clear profiles from the device IDs in the uploaded CSV file. Consider using this action when you want to remove profile assignments from multiple devices in bulk. 4. Fill out Tags with any names associated with the devices. 5. Click SUBMIT. For information on adding new profiles or editing the configuration of existing profiles, see Profile configuration\", metadata={'source': 'all_processed_data.json', 'seq_num': 425, 'title': 'Configure devices', 'url': 'https://docs.samsungknox.com/admin/knox-mobile-enrollment/features/configure-devices', 'project': 'KME', 'last_updated': '2023-07-26', 'family_tree': 'child', 'parent_id': '0a6a15eb-a04a-4fd2-bb9b-73c2ca038b7b', 'id': '8d2030c0-ea63-4cdb-9dca-9a5fce1d5641'}), 0.0017837384948506951), (Document(page_content='. Key & Value (iOS) - If you selected Yes in Managed App Setting, click Add and enter the key and value of a MDM setting you want to change. You can add one key and its value at a time. Ask the app developers about the key and value for the MDM settings. For example, if you want to add the ManagedAppConfig application and set its default URL to http://www.samsungsds.com, the key is the server URL and the value is http://www.samsungsds.com. Description - Enter a description for the application. Icon - Select the app icon image. Screenshot - Select screenshots of the app to provide a preview for Android device users. 5. Do one of the following: Click Save to save the information and return to the Application list. Click Save & Assign to save this information and proceed to assign the information. Continue on to the next step. 6. Assign the application. For more information, see Assigning internal applications', metadata={'source': 'all_processed_data.json', 'seq_num': 816, 'title': 'Add internal Android and iOS apps', 'url': 'https://docs.samsungknox.com/admin/knox-manage/configure/applications/add-applications/add-internal-android-and-ios-apps', 'project': 'KM', 'last_updated': '2023-07-26', 'family_tree': 'child', 'parent_id': '0bba5c03-8184-4ee3-bb3c-639469f04219', 'id': 'fb6aaca7-cf89-465b-906f-3700d274945c'}), 0.0008945291046984494), (Document(page_content='. Try to manually refresh the client on the device by executing a Force client refresh. If the problem persists, contact Samsung. Failed to install 762 Firmware installation has failed because the installation is terminated by the system. Try to manually refresh the client on the device by executing a Force client refresh. If the problem persists, contact Samsung. Failed to install 763 Firmware installation has failed because an unexpected error occurred. Try to manually refresh the client on the device by executing a Force client refresh. If the problem persists, contact Samsung. Failed to install 764 Firmware installation has failed because an error occurred during the delta firmware installation process. Try to manually refresh the client on the device by executing a Force client refresh. If the problem persists, contact Samsung. Failed to install 765 Firmware installation has failed because the dm-verity check failed in recovery mode', metadata={'source': 'all_processed_data.json', 'seq_num': 285, 'title': 'Error codes', 'url': 'https://docs.samsungknox.com/admin/efota-one/troubleshoot/error-codes', 'project': 'EFOTA', 'last_updated': '2023-08-15', 'family_tree': 'child', 'parent_id': '0c69f417-c45c-4ac6-be20-80718407c05c', 'id': '45c4d50a-bbaa-4ef3-9427-be5826a3efe0'}), 0.0007675476372241974)]\n",
      "\n",
      "==========  Results  ==========\n",
      "\n",
      "1. question: how to vefify DM\n",
      "2. # documents: 5\n",
      "3. Documents: \n",
      "\n",
      "-----------------------------------------------\n",
      "1. Chunk: 1012 Characters\n",
      "-----------------------------------------------\n",
      "to activate Agent User Enrollment MDM (Device &#x2192; Server) Agent Request for check-in (Server\n",
      "&#x2192; Device) Agent Response for check-out (Server &#x2192; Device) Agent Request to activate MDM\n",
      "(Server &#x2192; Device) Agent Request for MDM profile (Server &#x2192; Device) Agent Request for\n",
      "SCEP profile (Server &#x2192; Device) Agent Request for token update (Server &#x2192; Device)\n",
      "Request to activate Agent User Enrollment MDM (Server &#x2192; Device) Confirm Enrollment (Knox)\n",
      "(Device &#x2192; Server) Confirm Enrollment (Knox) (Server &#x2192; Device) Generate OTP (One Time\n",
      "Password) Code EMM Enrollment (Device &#x2192; Server) EMM Enrollment (Server &#x2192; Device) EMM\n",
      "Enrollment Spec (Device &#x2192; Server) EMM Enrollment Spec (Server &#x2192; Device) Azure AD\n",
      "Device Sync Request Request for discovery URL (Device &#x2192; Server) Respond to the request for\n",
      "Discovery URL (Server &#x2192; Device) Respond to the request to set DM Client Request to verify\n",
      "Federated equipment (Device &#x2192;\n",
      "metadata:\n",
      " {'source': 'all_processed_data.json', 'seq_num': 781, 'title': 'Server audit events', 'url':\n",
      "'https://docs.samsungknox.com/admin/knox-manage/appendix/list-of-audit-events/server-audit-events',\n",
      "'project': 'KM', 'last_updated': '2023-07-26', 'family_tree': 'child', 'parent_id':\n",
      "'66455f42-d323-4265-af82-362139bed990', 'id': 'a424a205-ec93-4bf8-a822-18703d4b3e4e'}\n",
      "-----------------------------------------------\n",
      "2. Chunk: 703 Characters\n",
      "-----------------------------------------------\n",
      ". NOTE - You can't select a firmware version to apply when creating a test campaign. Instead, dummy\n",
      "firmware is applied by default. 6. Click Assign. 7. Click Create and Activate. The campaign is added\n",
      "to the Campaigns list. 8. Check the device for the dummy firmware update. If the campaign is applied\n",
      "successfully, the device status changes to Campaign Active. In the following example, the dummy\n",
      "firmware to be applied has the file extension .DM. 9. When you're done with your test campaign,\n",
      "revert the dummy firmware to regular firmware. 1. Go to Devices > All Devices. 2. Click Action >\n",
      "Unassign campaign. The device status changes to Enrolled and the dummy firmware is reverted to\n",
      "regular firmware.\n",
      "metadata:\n",
      " {'source': 'all_processed_data.json', 'seq_num': 230, 'title': 'Create a test campaign', 'url':\n",
      "'https://docs.samsungknox.com/admin/efota-one/features/create-a-campaign/create-a-test-campaign',\n",
      "'project': 'EFOTA', 'last_updated': '2023-07-26', 'family_tree': 'child', 'parent_id':\n",
      "'a87d58c0-887b-4456-bff9-2971e8604704', 'id': '84d46303-91ef-4704-af6e-0d4f5e5f69d1'}\n",
      "-----------------------------------------------\n",
      "3. Chunk: 903 Characters\n",
      "-----------------------------------------------\n",
      ". Assign user credentials and a profile To assign user credentials and a profile: 1. Go to Devices >\n",
      "BULK ACTIONS and click ASSIGN USER CREDENTIALS AND PROFILE. 2. Under Upload devices list with user\n",
      "credentials, select a CSV file containing device IDs. If you're unsure how to format the CSV file,\n",
      "return to the BULK ACTIONS page and click View instructions under the ASSIGN USER CREDENTIALS AND\n",
      "PROFILE section. 3. (Optional) Select a new MDM profile from the Modify the MDM profile of selected\n",
      "devices list. The list also contains an option to Clear profiles from the device IDs in the uploaded\n",
      "CSV file. Consider using this action when you want to remove profile assignments from multiple\n",
      "devices in bulk. 4. Fill out Tags with any names associated with the devices. 5. Click SUBMIT. For\n",
      "information on adding new profiles or editing the configuration of existing profiles, see Profile\n",
      "configuration\n",
      "metadata:\n",
      " {'source': 'all_processed_data.json', 'seq_num': 425, 'title': 'Configure devices', 'url':\n",
      "'https://docs.samsungknox.com/admin/knox-mobile-enrollment/features/configure-devices', 'project':\n",
      "'KME', 'last_updated': '2023-07-26', 'family_tree': 'child', 'parent_id':\n",
      "'0a6a15eb-a04a-4fd2-bb9b-73c2ca038b7b', 'id': '8d2030c0-ea63-4cdb-9dca-9a5fce1d5641'}\n",
      "-----------------------------------------------\n",
      "4. Chunk: 920 Characters\n",
      "-----------------------------------------------\n",
      ". Key & Value (iOS) - If you selected Yes in Managed App Setting, click Add and enter the key and\n",
      "value of a MDM setting you want to change. You can add one key and its value at a time. Ask the app\n",
      "developers about the key and value for the MDM settings. For example, if you want to add the\n",
      "ManagedAppConfig application and set its default URL to http://www.samsungsds.com, the key is the\n",
      "server URL and the value is http://www.samsungsds.com. Description - Enter a description for the\n",
      "application. Icon - Select the app icon image. Screenshot - Select screenshots of the app to provide\n",
      "a preview for Android device users. 5. Do one of the following: Click Save to save the information\n",
      "and return to the Application list. Click Save & Assign to save this information and proceed to\n",
      "assign the information. Continue on to the next step. 6. Assign the application. For more\n",
      "information, see Assigning internal applications\n",
      "metadata:\n",
      " {'source': 'all_processed_data.json', 'seq_num': 816, 'title': 'Add internal Android and iOS apps',\n",
      "'url': 'https://docs.samsungknox.com/admin/knox-manage/configure/applications/add-applications/add-\n",
      "internal-android-and-ios-apps', 'project': 'KM', 'last_updated': '2023-07-26', 'family_tree':\n",
      "'child', 'parent_id': '0bba5c03-8184-4ee3-bb3c-639469f04219', 'id':\n",
      "'fb6aaca7-cf89-465b-906f-3700d274945c'}\n",
      "-----------------------------------------------\n",
      "5. Chunk: 951 Characters\n",
      "-----------------------------------------------\n",
      ". Try to manually refresh the client on the device by executing a Force client refresh. If the\n",
      "problem persists, contact Samsung. Failed to install 762 Firmware installation has failed because\n",
      "the installation is terminated by the system. Try to manually refresh the client on the device by\n",
      "executing a Force client refresh. If the problem persists, contact Samsung. Failed to install 763\n",
      "Firmware installation has failed because an unexpected error occurred. Try to manually refresh the\n",
      "client on the device by executing a Force client refresh. If the problem persists, contact Samsung.\n",
      "Failed to install 764 Firmware installation has failed because an error occurred during the delta\n",
      "firmware installation process. Try to manually refresh the client on the device by executing a Force\n",
      "client refresh. If the problem persists, contact Samsung. Failed to install 765 Firmware\n",
      "installation has failed because the dm-verity check failed in recovery mode\n",
      "metadata:\n",
      " {'source': 'all_processed_data.json', 'seq_num': 285, 'title': 'Error codes', 'url':\n",
      "'https://docs.samsungknox.com/admin/efota-one/troubleshoot/error-codes', 'project': 'EFOTA',\n",
      "'last_updated': '2023-08-15', 'family_tree': 'child', 'parent_id':\n",
      "'0c69f417-c45c-4ac6-be20-80718407c05c', 'id': '45c4d50a-bbaa-4ef3-9427-be5826a3efe0'}\n"
     ]
    }
   ],
   "source": [
    "query = \"how to vefify DM\"\n",
    "search_hybrid_result = opensearch_hybrid_retriever.get_relevant_documents(query)\n",
    "\n",
    "print(\"\\n==========  Results  ==========\\n\")\n",
    "print(f'1. question: {query}')\n",
    "print(f'2. # documents: {len(search_hybrid_result)}')\n",
    "print(\"3. Documents: \\n\")\n",
    "\n",
    "show_context_used(search_hybrid_result)"
   ]
  },
  {
   "cell_type": "markdown",
   "id": "a981abe7-5208-48f5-a9cc-8c557e9941ca",
   "metadata": {},
   "source": [
    "## 5. RAG using RetrievalQA powered by LangChain"
   ]
  },
  {
   "cell_type": "code",
   "execution_count": 72,
   "id": "08cf6d2b-451b-499c-aec2-bb6f5abafbb0",
   "metadata": {
    "tags": []
   },
   "outputs": [],
   "source": [
    "from utils.rag import prompt_repo\n",
    "from utils.rag import run_RetrievalQA\n",
    "from langchain.prompts import PromptTemplate"
   ]
  },
  {
   "cell_type": "markdown",
   "id": "b490df1f-8113-4dd1-a578-a3e1a6918fde",
   "metadata": {
    "tags": []
   },
   "source": [
    "### Prompting\n",
    "- [TIP] Prompt의 instruction의 경우 한글보다 영어로 했을 때 더 좋은 결과를 얻을 수 있습니다."
   ]
  },
  {
   "cell_type": "code",
   "execution_count": 73,
   "id": "0a68b4bf-8fc5-45a6-80cf-2bc059d4e389",
   "metadata": {
    "tags": []
   },
   "outputs": [],
   "source": [
    "PROMPT = prompt_repo.get_qa(prompt_type=\"original\") # [\"answer_only\", \"answer_with_ref\", \"original\"]"
   ]
  },
  {
   "cell_type": "code",
   "execution_count": 74,
   "id": "cbb60f9d-3594-44ad-afca-e89feea8e29a",
   "metadata": {
    "tags": []
   },
   "outputs": [
    {
     "name": "stdout",
     "output_type": "stream",
     "text": [
      "('\\n'\n",
      " '            \\n'\n",
      " '\\n'\n",
      " 'Human: Here is the context, inside <context></context> XML tags.\\n'\n",
      " '\\n'\n",
      " '            <context>\\n'\n",
      " '            {context}\\n'\n",
      " '            </context>\\n'\n",
      " '\\n'\n",
      " '            Only using the context as above, answer the following question '\n",
      " 'with the rules as below:\\n'\n",
      " \"                - Don't insert XML tag such as <context> and </context> when \"\n",
      " 'answering.\\n'\n",
      " '                - Write as much as you can\\n'\n",
      " '                - Be courteous and polite\\n'\n",
      " '                - Only answer the question if you can find the answer in the '\n",
      " 'context with certainty.\\n'\n",
      " '\\n'\n",
      " '            Question:\\n'\n",
      " '            {question}\\n'\n",
      " '\\n'\n",
      " '            If the answer is not in the context, just say \"I don\\'t know\"\\n'\n",
      " '            \\n'\n",
      " '\\n'\n",
      " 'Assistant:')\n"
     ]
    }
   ],
   "source": [
    "pprint (PROMPT.template)"
   ]
  },
  {
   "cell_type": "markdown",
   "id": "c66157a6-aec8-4555-a90f-1178e6f4f6e0",
   "metadata": {},
   "source": [
    "### Update Search Params (Optional)"
   ]
  },
  {
   "cell_type": "code",
   "execution_count": 75,
   "id": "64df2daf-8b42-472a-885f-97320ee98132",
   "metadata": {
    "tags": []
   },
   "outputs": [],
   "source": [
    "from langchain.chains import RetrievalQA"
   ]
  },
  {
   "cell_type": "code",
   "execution_count": 76,
   "id": "d2697230-6962-43d8-8917-ba9daa4295bb",
   "metadata": {
    "tags": []
   },
   "outputs": [],
   "source": [
    "opensearch_hybrid_retriever.update_search_params(\n",
    "    k=5,\n",
    "    minimum_should_match=0,\n",
    "    filter=[],\n",
    "    reranker=True,\n",
    "    reranker_endpoint_name=endpoint_name,\n",
    "    #rag_fusion=True,\n",
    "    #hyde=True,\n",
    "    parent_document=False, # enable parent document\n",
    "    verbose=False\n",
    ")"
   ]
  },
  {
   "cell_type": "markdown",
   "id": "aee26c22-b674-4f4f-a87b-29508e336fda",
   "metadata": {},
   "source": [
    "### Request"
   ]
  },
  {
   "cell_type": "code",
   "execution_count": 77,
   "id": "95fa61d3-9256-432a-96a3-2c696c97ea68",
   "metadata": {
    "tags": []
   },
   "outputs": [],
   "source": [
    "qa = RetrievalQA.from_chain_type(\n",
    "    llm=llm_text,\n",
    "    chain_type=\"stuff\",\n",
    "    retriever=opensearch_hybrid_retriever,\n",
    "    return_source_documents=True,\n",
    "    chain_type_kwargs={\n",
    "        \"prompt\": PROMPT,\n",
    "        \"verbose\": False,\n",
    "    },\n",
    "    verbose=False\n",
    ")"
   ]
  },
  {
   "cell_type": "code",
   "execution_count": 78,
   "id": "390ad324-40b3-4bcb-92b9-50eb080492a5",
   "metadata": {
    "tags": []
   },
   "outputs": [
    {
     "name": "stdout",
     "output_type": "stream",
     "text": [
      " Yes, the Knox Deployment App can be used with Knox Mobile Enrollment. The context states: \n",
      "\n",
      "\"Ensure that the device you are enrolling has not already been uploaded to a Knox cloud service. The Knox Deployment App is only designed for use with one Knox cloud service at a time.\"\n",
      "\n",
      "This indicates that the Knox Deployment App works with Knox cloud services, including Knox Mobile Enrollment."
     ]
    }
   ],
   "source": [
    "query = \"Can I use the Knox Deployment App with Knox Mobile Enrollment?\"\n",
    "#query = \"knox?\"\n",
    "response = qa(query)"
   ]
  },
  {
   "cell_type": "code",
   "execution_count": 102,
   "id": "01e77dad-dc19-416b-80e7-19fac3b736a5",
   "metadata": {
    "tags": []
   },
   "outputs": [
    {
     "name": "stdout",
     "output_type": "stream",
     "text": [
      "##################################\n",
      "query:  Can I use the Knox Deployment App with Knox Mobile Enrollment?\n",
      "##################################\n",
      "\u001b[34m\n",
      "\n",
      "### Answer ###\u001b[0m\n",
      "\n",
      "<references>\n",
      "[1] Knox Deployment App (KDA) - KDA is an app available on Google Play that is uniquely designed to\n",
      "help streamline the enterprise deployment of Samsung phones and tablets running an appropriate Knox\n",
      "version.\n",
      "</references>\n",
      "\n",
      "<answer>\n",
      "Yes, the Knox Deployment App can be used with Knox Mobile Enrollment. The Knox Deployment App allows\n",
      "an enterprise IT admin to upload devices directly through Bluetooth and Wi-Fi Direct to Knox Mobile\n",
      "Enrollment, without the assistance of a reseller.\n",
      "</answer>\n",
      "\u001b[32m\n",
      "\n",
      "### Contexts ###\u001b[0m\n",
      "-----------------------------------------------\n",
      "1. Chunk: 975 Characters\n",
      "-----------------------------------------------\n",
      ". The Knox Deployment App is only designed for use with one Knox cloud service at a time. Devices\n",
      "already enrolled via the Knox Deployment App can then be reassigned or updated through the KCS\n",
      "console it was uploaded to. To avoid issues with the Knox Deployment App enrollment, unenroll your\n",
      "device from any Knox cloud services it is enrolled in prior to using the Knox Deployment App for\n",
      "enrollment. See the FAQ about the Knox Deployment App being enrolled to only one Knox cloud service\n",
      "for more information. 7. Enable mandatory two-factor authentication. Using the Knox Deployment App\n",
      "To get started with using the Knox Deployment App, you must: 1. Tap Sign in once the Knox Deployment\n",
      "App launches on the device. If the Knox Deployment App is already running on the device, the initial\n",
      "screen isn't displayed, and the application displays the sign-in screen. 2. Enter your Knox Admin\n",
      "Portal username and password. Note that you'll have to set up two-factor authentication\n",
      "metadata:\n",
      " {'source': 'all_processed_data.json', 'seq_num': 446, 'title': 'Use the Knox Deployment App',\n",
      "'url': 'https://docs.samsungknox.com/admin/knox-mobile-enrollment/how-to-guides/use-the-knox-\n",
      "deployment-app', 'project': 'KME', 'last_updated': '2023-09-18', 'id':\n",
      "'273f68a2-28f9-4107-9d26-dfbd8c139651'}\n",
      "-----------------------------------------------\n",
      "2. Chunk: 932 Characters\n",
      "-----------------------------------------------\n",
      "How can I register devices to Knox Mobile Enrollment?. The following enrollment options are\n",
      "available to Knox Mobile Enrollment: Reseller uploads - Authorized Samsung resellers can directly\n",
      "upload purchased device IMEIs to Knox Mobile Enrollment on behalf of their customer(s). For more\n",
      "information on Knox Mobile Enrollment resellers, visit the Knox resellers page. Knox Deployment App\n",
      "(KDA) - KDA is an app available on Google Play that is uniquely designed to help streamline the\n",
      "enterprise deployment of Samsung phones and tablets running an appropriate Knox version. The KDA\n",
      "allows an enterprise IT admin to upload devices directly through Bluetooth and Wi-Fi Direct, without\n",
      "the assistance of a reseller. KDA runs on a designated primary device which is required to sign in\n",
      "to Knox Mobile Enrollment. The target device requires a special B2B menu activated by drawing a plus\n",
      "sign (+) gesture on the initial device setup screen\n",
      "metadata:\n",
      " {'source': 'all_processed_data.json', 'seq_num': 525, 'title': 'How can I register devices to Knox\n",
      "Mobile Enrollment?', 'url': 'https://docs.samsungknox.com/admin/knox-mobile-enrollment/faq/#how-can-\n",
      "i-register-devices-knox-mobile-enrollment', 'project': 'KME', 'last_updated': '2023-09-18', 'id':\n",
      "'65d8e769-c2fa-4ffb-affc-22232a1e233a'}\n",
      "-----------------------------------------------\n",
      "3. Chunk: 919 Characters\n",
      "-----------------------------------------------\n",
      ". 3. A Knox Portal account. 4. Install the Knox Deployment on an admin/master device, and login\n",
      "using their Knox Portal ID/password. 5. Select a profile on the master device to apply to the end-\n",
      "user devices. Using the Knox Deployment App This section describes the screen flow navigation for a\n",
      "typical Bluetooth or NFC based enrollment using the Knox Deployment App. 1. Select SIGN IN once the\n",
      "Knox Deployment App launches on the device. If the Knox Deployment App is already running on the\n",
      "device, the initial screen does not display, and the application displays the sign in screen. 2.\n",
      "Enter the Knox Portal Username and Password to sign in to the Knox Deployment App. 3. Select\n",
      "Remember me to display and utilize the username in subsequent Knox Deployment App logins. If you\n",
      "encounter difficulty logging in to the Knox Deployment App, ensure you have either a valid Knox\n",
      "Portal account with privileges for Knox Guard\n",
      "metadata:\n",
      " {'source': 'all_processed_data.json', 'seq_num': 1538, 'title': 'Samsung Knox Deployment App',\n",
      "'url': 'https://docs.samsungknox.com/admin/knox-guard/how-to-guides/samsung-knox-deployment-app',\n",
      "'project': 'KG', 'last_updated': '2023-07-26', 'id': '8daccfda-5005-4cb4-910c-7c74a2e6d016'}\n",
      "-----------------------------------------------\n",
      "4. Chunk: 601 Characters\n",
      "-----------------------------------------------\n",
      ". The following table lists the enrollment methods that each service supports, along with additional\n",
      "resources that provide more details. Knox service Supported enrollment methods Additional\n",
      "information Knox Mobile Enrollment Reseller upload Knox Deployment App Knox Mobile Enrollment\n",
      "documentation: Register resellers Use the Knox Deployment App Knox Manage Devices don't need to be\n",
      "added in advance Knox Manage supports most device enrollment methods and technologies. For more\n",
      "information and some examples of the common enrollment flows, see Enroll a single device in the Knox\n",
      "Manage documentation\n",
      "metadata:\n",
      " {'source': 'all_processed_data.json', 'seq_num': 138, 'title': 'Step 2 --- Add devices', 'url':\n",
      "'https://docs.samsungknox.com/admin/knox-admin-portal/get-started/step-2-add-devices', 'project':\n",
      "'USP', 'last_updated': '2023-07-26', 'id': '44642231-2255-4a00-bf47-c3bd84a24156'}\n",
      "-----------------------------------------------\n",
      "5. Chunk: 997 Characters\n",
      "-----------------------------------------------\n",
      ". If the account does not have Knox Deployment permission, the app will ask you to sign out of the\n",
      "current account and sign into one with this permission. 2. Enter the Knox Portal Username and\n",
      "Password to login into the Knox Deployment App using 2FA. If you encounter difficulty logging in to\n",
      "the Knox Deployment App, ensure you have either a valid Knox Portal account with privileges for the\n",
      "Knox solution you are trying to enroll in. If that is not the issue, select Forgot your email or\n",
      "password?on Knox Portal login for assistance retrieving your login credentials. Once you have\n",
      "successfully logged into the Knox Deployment App, a WELCOME screen displays providing first-time\n",
      "options for profile selection and deployment mode selection. Once the Knox Deployment App profile\n",
      "selection and configuration mode are set, the selected options display within their respective\n",
      "fields, the START DEPLOYMENT screen flow enables, and the Welcome portion of screen no longer\n",
      "displays in subsequent logins\n",
      "metadata:\n",
      " {'source': 'all_processed_data.json', 'seq_num': 433, 'title': 'Use the Knox Deployment App',\n",
      "'url': 'https://docs.samsungknox.com/admin/knox-mobile-enrollment/features/use-the-knox-deployment-\n",
      "app', 'project': 'KME', 'last_updated': '2023-07-26', 'id': '3b985fa7-5071-466e-918b-b9e0c56d07bd'}\n"
     ]
    }
   ],
   "source": [
    "print(\"##################################\")\n",
    "print(\"query: \", query)\n",
    "print(\"##################################\")\n",
    "\n",
    "print (colored(\"\\n\\n### Answer ###\", \"blue\"))\n",
    "print_ww(response['result'])\n",
    "\n",
    "print (colored(\"\\n\\n### Contexts ###\", \"green\"))\n",
    "show_context_used(response['source_documents'])"
   ]
  },
  {
   "cell_type": "code",
   "execution_count": null,
   "id": "522d5c11",
   "metadata": {},
   "outputs": [],
   "source": []
  }
 ],
 "metadata": {
  "kernelspec": {
   "display_name": "Python 3.10.9 ('base')",
   "language": "python",
   "name": "python3"
  },
  "language_info": {
   "codemirror_mode": {
    "name": "ipython",
    "version": 3
   },
   "file_extension": ".py",
   "mimetype": "text/x-python",
   "name": "python",
   "nbconvert_exporter": "python",
   "pygments_lexer": "ipython3",
   "version": "3.10.9"
  },
  "vscode": {
   "interpreter": {
    "hash": "4b8e647a79df62bf31906a725b05de775d285962ac600487339d38c51a5c07b1"
   }
  }
 },
 "nbformat": 4,
 "nbformat_minor": 5
}
