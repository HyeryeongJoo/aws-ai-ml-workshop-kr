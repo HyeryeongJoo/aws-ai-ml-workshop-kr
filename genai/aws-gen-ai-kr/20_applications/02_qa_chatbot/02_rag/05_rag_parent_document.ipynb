{
 "cells": [
  {
   "cell_type": "markdown",
   "id": "5deb2df2-413d-49bd-a829-3a1fc344937e",
   "metadata": {},
   "source": [
    "# RAG Based on parent document\n",
    "- Hybrid Search\n",
    "- ReRanker\n",
    "- [Parent Document](https://medium.aiplanet.com/advanced-rag-providing-broader-context-to-llms-using-parentdocumentretriever-cc627762305a)\n",
    "    "
   ]
  },
  {
   "cell_type": "markdown",
   "id": "b1f81abc-3277-4a6b-9ef1-d4f997d67fbe",
   "metadata": {},
   "source": [
    "## Setting\n",
    " - Auto Reload\n",
    " - path for utils"
   ]
  },
  {
   "cell_type": "code",
   "execution_count": 1,
   "id": "ddde4105-b759-4d6c-8214-8e1ab485ae48",
   "metadata": {
    "tags": []
   },
   "outputs": [],
   "source": [
    "%load_ext autoreload\n",
    "%autoreload 2"
   ]
  },
  {
   "cell_type": "code",
   "execution_count": 2,
   "id": "57c2cdb1-d785-4317-afce-938f13141085",
   "metadata": {
    "tags": []
   },
   "outputs": [],
   "source": [
    "import sys, os\n",
    "module_path = \"../../..\"\n",
    "sys.path.append(os.path.abspath(module_path))"
   ]
  },
  {
   "cell_type": "markdown",
   "id": "9c4ade56-8dbc-4ded-b355-7e4bcc971e90",
   "metadata": {},
   "source": [
    "## 1. Bedrock Client 생성"
   ]
  },
  {
   "cell_type": "code",
   "execution_count": 3,
   "id": "cc2d877f-e877-48f6-8dd4-239de20e45cd",
   "metadata": {
    "tags": []
   },
   "outputs": [],
   "source": [
    "import json\n",
    "import boto3\n",
    "from pprint import pprint\n",
    "from termcolor import colored\n",
    "from utils import bedrock, print_ww\n",
    "from utils.bedrock import bedrock_info"
   ]
  },
  {
   "cell_type": "markdown",
   "id": "088e6490-c79a-49e4-841c-9fdb91292608",
   "metadata": {},
   "source": [
    "### ---- ⚠️ Un-comment and edit the below lines as needed for your AWS setup ⚠️ ----\n",
    "- os.environ[\"AWS_DEFAULT_REGION\"] = \"<REGION_NAME>\"  # E.g. \"us-east-1\"\n",
    "- os.environ[\"AWS_PROFILE\"] = \"<YOUR_PROFILE>\"\n",
    "- os.environ[\"BEDROCK_ASSUME_ROLE\"] = \"<YOUR_ROLE_ARN>\"  # E.g. \"arn:aws:...\"\n",
    "- os.environ[\"BEDROCK_ENDPOINT_URL\"] = \"<YOUR_ENDPOINT_URL>\"  # E.g. \"https://...\""
   ]
  },
  {
   "cell_type": "code",
   "execution_count": 4,
   "id": "cab9312c-5f61-4730-96c3-5eef54a5f08c",
   "metadata": {
    "tags": []
   },
   "outputs": [
    {
     "name": "stdout",
     "output_type": "stream",
     "text": [
      "Create new client\n",
      "  Using region: None\n",
      "  Using profile: None\n",
      "boto3 Bedrock client successfully created!\n",
      "bedrock-runtime(https://bedrock-runtime.us-east-1.amazonaws.com)\n",
      "\u001b[32m\n",
      "== FM lists ==\u001b[0m\n",
      "{'Claude-Instant-V1': 'anthropic.claude-instant-v1',\n",
      " 'Claude-V1': 'anthropic.claude-v1',\n",
      " 'Claude-V2': 'anthropic.claude-v2',\n",
      " 'Cohere-Embeddings-En': 'cohere.embed-english-v3',\n",
      " 'Cohere-Embeddings-Multilingual': 'cohere.embed-multilingual-v3',\n",
      " 'Command': 'cohere.command-text-v14',\n",
      " 'Command-Light': 'cohere.command-light-text-v14',\n",
      " 'Jurassic-2-Mid': 'ai21.j2-mid-v1',\n",
      " 'Jurassic-2-Ultra': 'ai21.j2-ultra-v1',\n",
      " 'Llama2-13b-Chat': 'meta.llama2-13b-chat-v1',\n",
      " 'Titan-Embeddings-G1': 'amazon.titan-embed-text-v1',\n",
      " 'Titan-Text-G1': 'amazon.titan-text-express-v1',\n",
      " 'Titan-Text-G1-Light': 'amazon.titan-text-lite-v1'}\n"
     ]
    }
   ],
   "source": [
    "boto3_bedrock = bedrock.get_bedrock_client(\n",
    "    assumed_role=os.environ.get(\"BEDROCK_ASSUME_ROLE\", None),\n",
    "    endpoint_url=os.environ.get(\"BEDROCK_ENDPOINT_URL\", None),\n",
    "    region=os.environ.get(\"AWS_DEFAULT_REGION\", None),\n",
    ")\n",
    "\n",
    "aws_region = os.environ.get(\"AWS_DEFAULT_REGION\", None)\n",
    "print (colored(\"\\n== FM lists ==\", \"green\"))\n",
    "pprint (bedrock_info.get_list_fm_models())"
   ]
  },
  {
   "cell_type": "markdown",
   "id": "241a9e34-417a-422f-9f75-cb211b2e70e1",
   "metadata": {
    "tags": []
   },
   "source": [
    "## 2. Titan Embedding 및 LLM 인 Claude-v2 모델 로딩"
   ]
  },
  {
   "cell_type": "markdown",
   "id": "29bf63d2-4110-407c-af06-a45d2fbed4b5",
   "metadata": {},
   "source": [
    "### LLM 로딩 (Claude-v2)"
   ]
  },
  {
   "cell_type": "code",
   "execution_count": 5,
   "id": "9c51443a-04f9-465c-9564-53053eb3e1c2",
   "metadata": {
    "tags": []
   },
   "outputs": [],
   "source": [
    "from langchain.llms.bedrock import Bedrock\n",
    "from langchain.callbacks.streaming_stdout import StreamingStdOutCallbackHandler"
   ]
  },
  {
   "cell_type": "code",
   "execution_count": 6,
   "id": "d09e84e0-b9e1-4b12-8e7a-68f03c5416e5",
   "metadata": {
    "tags": []
   },
   "outputs": [
    {
     "data": {
      "text/plain": [
       "Bedrock(client=<botocore.client.BedrockRuntime object at 0x7f19d461e020>, model_id='anthropic.claude-v2', model_kwargs={'max_tokens_to_sample': 512}, streaming=True, callbacks=[<langchain_core.callbacks.streaming_stdout.StreamingStdOutCallbackHandler object at 0x7f19d4cdc550>])"
      ]
     },
     "execution_count": 6,
     "metadata": {},
     "output_type": "execute_result"
    }
   ],
   "source": [
    "llm_text = Bedrock(\n",
    "    model_id=bedrock_info.get_model_id(model_name=\"Claude-V2\"),\n",
    "    client=boto3_bedrock,\n",
    "    model_kwargs={\n",
    "        \"max_tokens_to_sample\": 512\n",
    "    },\n",
    "    streaming=True,\n",
    "    callbacks=[StreamingStdOutCallbackHandler()]\n",
    ")\n",
    "\n",
    "llm_text"
   ]
  },
  {
   "cell_type": "markdown",
   "id": "3ba2e829-af8f-4e90-b994-59106cdec8d8",
   "metadata": {},
   "source": [
    "### Embedding 모델 선택"
   ]
  },
  {
   "cell_type": "code",
   "execution_count": 7,
   "id": "0b7b8752-d1e3-4f41-ba35-6da42c3785db",
   "metadata": {
    "tags": []
   },
   "outputs": [],
   "source": [
    "from utils.rag import KoSimCSERobertaContentHandler, SagemakerEndpointEmbeddingsJumpStart"
   ]
  },
  {
   "cell_type": "code",
   "execution_count": 9,
   "id": "793b03f7-3186-4969-b76a-98fe56bd5fdc",
   "metadata": {
    "tags": []
   },
   "outputs": [],
   "source": [
    "def get_embedding_model(is_bedrock_embeddings, is_KoSimCSERobert, aws_region, endpont_name=None):\n",
    "    \n",
    "    if is_bedrock_embeddings:\n",
    "        # We will be using the Titan Embeddings Model to generate our Embeddings.\n",
    "        from langchain.embeddings import BedrockEmbeddings\n",
    "        llm_emb = BedrockEmbeddings(\n",
    "            client=boto3_bedrock,\n",
    "            model_id=bedrock_info.get_model_id(\n",
    "                model_name=\"Titan-Embeddings-G1\"\n",
    "            )\n",
    "        )\n",
    "        print(\"Bedrock Embeddings Model Loaded\")\n",
    "\n",
    "    elif is_KoSimCSERobert:\n",
    "        LLMEmbHandler = KoSimCSERobertaContentHandler()\n",
    "        endpoint_name_emb = endpont_name\n",
    "        llm_emb = SagemakerEndpointEmbeddingsJumpStart(\n",
    "            endpoint_name=endpoint_name_emb,\n",
    "            region_name=aws_region,\n",
    "            content_handler=LLMEmbHandler,\n",
    "        )\n",
    "        print(\"KoSimCSERobert Embeddings Model Loaded\")\n",
    "    else:\n",
    "        llm_emb = None\n",
    "        print(\"No Embedding Model Selected\")\n",
    "\n",
    "    return llm_emb"
   ]
  },
  {
   "cell_type": "markdown",
   "id": "cd72a6b8-eaf0-4036-a530-3bde5ba988cd",
   "metadata": {},
   "source": [
    "#### [중요] is_KoSimCSERobert == True 일시에 endpoint_name 을 꼭 넣어 주세요."
   ]
  },
  {
   "cell_type": "code",
   "execution_count": 10,
   "id": "f42e032b-8715-432c-ae71-12a889f8ffc0",
   "metadata": {
    "tags": []
   },
   "outputs": [
    {
     "name": "stdout",
     "output_type": "stream",
     "text": [
      "Bedrock Embeddings Model Loaded\n"
     ]
    }
   ],
   "source": [
    "is_bedrock_embeddings = True\n",
    "is_KoSimCSERobert = False\n",
    "aws_region = os.environ.get(\"AWS_DEFAULT_REGION\", None)\n",
    "\n",
    "##############################\n",
    "# Parameters for is_KoSimCSERobert\n",
    "##############################\n",
    "if is_KoSimCSERobert: endpont_name = \"<endpoint-name>\"\n",
    "else: endpont_name = None\n",
    "##############################\n",
    "\n",
    "llm_emb = get_embedding_model(is_bedrock_embeddings, is_KoSimCSERobert, aws_region, endpont_name)   "
   ]
  },
  {
   "cell_type": "markdown",
   "id": "e10b67d5-382e-4715-a841-eb07b8655da8",
   "metadata": {},
   "source": [
    "## 3. Depoly ReRanker model (if needed)"
   ]
  },
  {
   "cell_type": "code",
   "execution_count": 11,
   "id": "9a08a296-41ef-44cb-857b-63d05a8d187c",
   "metadata": {
    "tags": []
   },
   "outputs": [
    {
     "name": "stdout",
     "output_type": "stream",
     "text": [
      "sagemaker.config INFO - Not applying SDK defaults from location: /etc/xdg/sagemaker/config.yaml\n",
      "sagemaker.config INFO - Not applying SDK defaults from location: /home/ec2-user/.config/sagemaker/config.yaml\n"
     ]
    }
   ],
   "source": [
    "import json\n",
    "import sagemaker\n",
    "from sagemaker.huggingface import HuggingFaceModel"
   ]
  },
  {
   "cell_type": "code",
   "execution_count": 12,
   "id": "33dd04a7-8200-49e7-ae69-55a82be199b4",
   "metadata": {
    "tags": []
   },
   "outputs": [],
   "source": [
    "depoly = False"
   ]
  },
  {
   "cell_type": "code",
   "execution_count": 13,
   "id": "9d40e3dd-a19f-4af3-831a-0cfe79e72cb3",
   "metadata": {
    "tags": []
   },
   "outputs": [],
   "source": [
    "if depoly:\n",
    "\n",
    "    try:\n",
    "        role = sagemaker.get_execution_role()\n",
    "    except ValueError:\n",
    "        iam = boto3.client('iam')\n",
    "        role = iam.get_role(RoleName='sagemaker_execution_role')['Role']['Arn']\n",
    "\n",
    "    # Hub Model configuration. https://huggingface.co/models\n",
    "    hub = {\n",
    "        'HF_MODEL_ID':'BAAI/bge-reranker-large',\n",
    "        'HF_TASK':'text-classification'\n",
    "    }\n",
    "\n",
    "    # create Hugging Face Model Class\n",
    "    huggingface_model = HuggingFaceModel(\n",
    "        transformers_version='4.26.0',\n",
    "        pytorch_version='1.13.1',\n",
    "        py_version='py39',\n",
    "        env=hub,\n",
    "        role=role, \n",
    "    )\n",
    "\n",
    "    # deploy model to SageMaker Inference\n",
    "    predictor = huggingface_model.deploy(\n",
    "        initial_instance_count=1, # number of instances\n",
    "        instance_type='ml.g5.xlarge' # instance type\n",
    "    )\n",
    "\n",
    "    print(f'Accept: {predictor.accept}')\n",
    "    print(f'ContentType: {predictor.content_type}')\n",
    "    print(f'Endpoint: {predictor.endpoint}')"
   ]
  },
  {
   "cell_type": "markdown",
   "id": "20e648ef-01ec-4e2f-ba88-7d2510fdb7a6",
   "metadata": {},
   "source": [
    "## 4. Invocation (prediction)"
   ]
  },
  {
   "cell_type": "code",
   "execution_count": 14,
   "id": "114be617-a687-4733-abb9-30394c7ef35f",
   "metadata": {
    "tags": []
   },
   "outputs": [
    {
     "name": "stdout",
     "output_type": "stream",
     "text": [
      "runtime_client: <botocore.client.SageMakerRuntime object at 0x7f18cb98d780>\n"
     ]
    }
   ],
   "source": [
    "runtime_client = boto3.Session().client('sagemaker-runtime')\n",
    "print (f'runtime_client: {runtime_client}')"
   ]
  },
  {
   "cell_type": "code",
   "execution_count": 15,
   "id": "26ee5c45-de87-4a2b-bc04-bbc649fcd0c6",
   "metadata": {
    "tags": []
   },
   "outputs": [],
   "source": [
    "#endpoint_name = \"huggingface-pytorch-inference-2023-11-15-04-37-45-120\" # ml.m5.2xlarge\n",
    "endpoint_name = \"huggingface-pytorch-inference-2023-11-15-07-53-21-605\" # ml.g5.xlarge\n",
    "deserializer = \"application/json\""
   ]
  },
  {
   "cell_type": "code",
   "execution_count": 16,
   "id": "bd6288ed-b4fa-466f-9e2b-57484b827b0a",
   "metadata": {
    "tags": []
   },
   "outputs": [],
   "source": [
    "payload = json.dumps(\n",
    "    {\n",
    "        \"inputs\": [\n",
    "            {\"text\": \"I hate you\", \"text_pair\": \"I don't like you\"},\n",
    "            {\"text\": \"He hates you\", \"text_pair\": \"He like you\"}\n",
    "        ]\n",
    "    }\n",
    ")"
   ]
  },
  {
   "cell_type": "code",
   "execution_count": 17,
   "id": "c1eebe88-8b92-4e81-a103-b5a5d7a91bb3",
   "metadata": {
    "tags": []
   },
   "outputs": [
    {
     "name": "stdout",
     "output_type": "stream",
     "text": [
      "Response: [{'label': 'LABEL_0', 'score': 0.999653697013855}, {'label': 'LABEL_0', 'score': 0.025255175307393074}]\n",
      "CPU times: user 14 ms, sys: 6.87 ms, total: 20.9 ms\n",
      "Wall time: 94.5 ms\n"
     ]
    }
   ],
   "source": [
    "%%time\n",
    "response = runtime_client.invoke_endpoint(\n",
    "    EndpointName=endpoint_name,\n",
    "    ContentType=\"application/json\",\n",
    "    Accept=deserializer,\n",
    "    Body=payload\n",
    ")\n",
    "## deserialization\n",
    "out = json.loads(response['Body'].read().decode()) ## for json\n",
    "print (f'Response: {out}')"
   ]
  },
  {
   "cell_type": "markdown",
   "id": "7e432237-b9b5-4be3-aa0c-c30eeca6f480",
   "metadata": {},
   "source": [
    "## 5. LangChain OpenSearch VectorStore 정의\n",
    "### 선수 조건\n",
    "- 01_preprocess_docs/02_load_docs_opensearch.ipynb를 통해서 OpenSearch Index 가 생성이 되어 있어야 합니다.\n",
    "#### [중요] 아래에 aws parameter store 에 아래 인증정보가 먼저 입력되어 있어야 합니다.\n",
    "- 01_preprocess_docs/01_parameter_store_example.ipynb 참고"
   ]
  },
  {
   "cell_type": "code",
   "execution_count": 19,
   "id": "635ffe33-b1b1-49f7-ae14-07b782d30a63",
   "metadata": {
    "tags": []
   },
   "outputs": [],
   "source": [
    "from utils.proc_docs import get_parameter"
   ]
  },
  {
   "cell_type": "code",
   "execution_count": 20,
   "id": "42d192b6-68ce-465e-9fa7-04b5201f4453",
   "metadata": {
    "tags": []
   },
   "outputs": [],
   "source": [
    "ssm = boto3.client(\"ssm\", \"us-east-1\")\n",
    "\n",
    "opensearch_domain_endpoint = get_parameter(\n",
    "    boto3_clinet = ssm,\n",
    "    parameter_name = 'knox_opensearch_domain_endpoint',\n",
    ")\n",
    "\n",
    "opensearch_user_id = get_parameter(\n",
    "    boto3_clinet = ssm,\n",
    "    parameter_name = 'knox_opensearch_userid',\n",
    ")\n",
    "\n",
    "opensearch_user_password = get_parameter(\n",
    "    boto3_clinet = ssm,\n",
    "    parameter_name = 'knox_opensearch_password',\n",
    ")"
   ]
  },
  {
   "cell_type": "code",
   "execution_count": 21,
   "id": "fc7866fd-fd9c-4b41-b600-a91e43edfe4d",
   "metadata": {
    "tags": []
   },
   "outputs": [],
   "source": [
    "opensearch_domain_endpoint = opensearch_domain_endpoint\n",
    "rag_user_name = opensearch_user_id\n",
    "rag_user_password = opensearch_user_password\n",
    "\n",
    "http_auth = (rag_user_name, rag_user_password) # Master username, Master password"
   ]
  },
  {
   "cell_type": "markdown",
   "id": "161a900e-effc-4d7f-a179-b6c00eac03ad",
   "metadata": {
    "tags": []
   },
   "source": [
    "### Index 이름 셋팅\n",
    "- 이전 노트북 01_preprocess_docs/02_load_docs_opensearch.ipynb를 통해서 생성된 OpenSearch Index name 입력\n",
    "- parent document 용으로 생성된 index 사용할 것 "
   ]
  },
  {
   "cell_type": "code",
   "execution_count": 59,
   "id": "d5d9b5eb-052e-4e84-846b-c5385e853ba4",
   "metadata": {
    "tags": []
   },
   "outputs": [],
   "source": [
    "index_name = \"v16-genai-poc-knox-eval-parent-doc-retriever\""
   ]
  },
  {
   "cell_type": "markdown",
   "id": "482f5785-b88d-44fa-a603-080e4bd734a6",
   "metadata": {},
   "source": [
    "### OpenSearch Client 생성"
   ]
  },
  {
   "cell_type": "code",
   "execution_count": 60,
   "id": "968b7502-5799-4702-bc17-959e88c330a2",
   "metadata": {
    "tags": []
   },
   "outputs": [],
   "source": [
    "from utils.opensearch import opensearch_utils"
   ]
  },
  {
   "cell_type": "code",
   "execution_count": 61,
   "id": "6ceb46a1-e425-4f7e-9319-793b55abb938",
   "metadata": {
    "tags": []
   },
   "outputs": [],
   "source": [
    "os_client = opensearch_utils.create_aws_opensearch_client(\n",
    "    aws_region,\n",
    "    opensearch_domain_endpoint,\n",
    "    http_auth\n",
    ")"
   ]
  },
  {
   "cell_type": "markdown",
   "id": "b41d685c-7590-42fd-9f8f-339b2ff197f5",
   "metadata": {},
   "source": [
    "# 아래수정"
   ]
  },
  {
   "cell_type": "markdown",
   "id": "a5084376-7523-4cf9-9123-adc4ae79f66d",
   "metadata": {
    "tags": []
   },
   "source": [
    "## 6. Retriever based on Hybrid Search + ParentDocument + ReRanker\n",
    "- LangChain에서 제공하는 **BaseRetriever** 클래스를 상속받아 **Custom Retriever**를 정의 할 수 있습니다.\n",
    "- Hybrid-Search에 대한 자세한 내용는 **\"01_rag_hybrid_search.ipyno\"** 에서 확인 가능합니다.\n",
    "- [RAG-Fusion](https://towardsdatascience.com/forget-rag-the-future-is-rag-fusion-1147298d8ad1)\n",
    "![rag-fusion.png](../../../imgs/rag-fusion.png)"
   ]
  },
  {
   "cell_type": "markdown",
   "id": "29cf3877-ed50-4ca6-b319-fca654f011cc",
   "metadata": {
    "tags": []
   },
   "source": [
    "## Parent documents in Hybrid search\n",
    "- Lexical search: parent documents only\n",
    "- Semantic search: child documents first, getting parent documents corresponding to that child document"
   ]
  },
  {
   "cell_type": "code",
   "execution_count": 64,
   "id": "5db8e470-63a9-4c3d-94c8-1d270a6da822",
   "metadata": {
    "tags": []
   },
   "outputs": [],
   "source": [
    "from utils.rag import OpenSearchHybridSearchRetriever"
   ]
  },
  {
   "cell_type": "markdown",
   "id": "d7feac2f-21a2-4756-b989-66c180bb1e79",
   "metadata": {},
   "source": [
    "- 필터 설정 예시\n",
    "- filter=[ <BR>\n",
    "    　{\"term\": {\"metadata.[**your_metadata_attribute_name**]\": \"**your first keyword**\"}}, <BR>\n",
    "    　{\"term\": {\"metadata.[**your_metadata_attribute_name**]\": \"**your second keyword**\"}},<BR>\n",
    "]"
   ]
  },
  {
   "cell_type": "code",
   "execution_count": 333,
   "id": "49c7e131-294f-4ff8-9331-989709c7079c",
   "metadata": {
    "tags": []
   },
   "outputs": [],
   "source": [
    "opensearch_hybrid_retriever = OpenSearchHybridSearchRetriever(\n",
    "    os_client=os_client,\n",
    "    index_name=index_name,\n",
    "    llm_text=llm_text, # llm for query augmentation in both rag_fusion and HyDE\n",
    "    llm_emb=llm_emb, # Used in semantic search based on opensearch \n",
    "\n",
    "    # option for lexical\n",
    "    minimum_should_match=0,\n",
    "    filter=[],\n",
    "\n",
    "    # option for search\n",
    "    fusion_algorithm=\"RRF\", # [\"RRF\", \"simple_weighted\"], rank fusion 방식 정의\n",
    "    ensemble_weights=[.5, .5], # [for lexical, for semantic], Lexical, Semantic search 결과에 대한 최종 반영 비율 정의\n",
    "    reranker=True, # enable reranker with reranker model\n",
    "    reranker_endpoint_name=endpoint_name, # endpoint name for reranking model\n",
    "    parent_document = True, # enable parent document\n",
    "\n",
    "    # option for async search\n",
    "    async_mode=True,\n",
    "\n",
    "    # option for output\n",
    "    k=5, # 최종 Document 수 정의\n",
    "    verbose=True,\n",
    ")"
   ]
  },
  {
   "cell_type": "markdown",
   "id": "cfb26835-ad98-41c5-9e9d-2453642e3551",
   "metadata": {},
   "source": [
    "### Retrieval example\n",
    "- default search"
   ]
  },
  {
   "cell_type": "code",
   "execution_count": 334,
   "id": "9c06e89f-79de-413c-ba9c-a188ca3fe2d0",
   "metadata": {
    "tags": []
   },
   "outputs": [],
   "source": [
    "from utils.rag import show_context_used"
   ]
  },
  {
   "cell_type": "code",
   "execution_count": 335,
   "id": "fe3bfee3-dac1-45b9-8795-03e36c1632a9",
   "metadata": {
    "tags": []
   },
   "outputs": [],
   "source": [
    "query = \"what is verify DM\""
   ]
  },
  {
   "cell_type": "code",
   "execution_count": 336,
   "id": "05b13e5e-4a66-4dc8-b18c-42a6e3bd6037",
   "metadata": {
    "collapsed": true,
    "jupyter": {
     "outputs_hidden": true
    },
    "tags": []
   },
   "outputs": [
    {
     "name": "stdout",
     "output_type": "stream",
     "text": [
      "\n",
      "lexical search query: \n",
      "{'query': {'bool': {'filter': [{'term': {'metadata.family_tree': 'parent'}}],\n",
      "                    'must': [{'match': {'text': {'minimum_should_match': '0%',\n",
      "                                                 'operator': 'or',\n",
      "                                                 'query': 'what is verify '\n",
      "                                                          'DM'}}}]}},\n",
      " 'size': 7}\n",
      "===== ParentDocument =====\n",
      "filter: [{'term': {'metadata.family_tree': 'child'}}]\n",
      "# child_docs: 7\n",
      "# parent docs: 6\n",
      "# duplicates: 1\n",
      "\n",
      "[Exeeds EMB token limit] Number of chunk_docs after split and chunking= 10\n",
      "\n",
      "\n",
      "[Exeeds EMB token limit] Number of chunk_docs after split and chunking= 9\n",
      "\n",
      "\n",
      "[Exeeds EMB token limit] Number of chunk_docs after split and chunking= 7\n",
      "\n",
      "##############################\n",
      "async_mode\n",
      "##############################\n",
      "True\n",
      "##############################\n",
      "reranker\n",
      "##############################\n",
      "True\n",
      "##############################\n",
      "rag_fusion\n",
      "##############################\n",
      "False\n",
      "##############################\n",
      "HyDE\n",
      "##############################\n",
      "False\n",
      "##############################\n",
      "parent_document\n",
      "##############################\n",
      "True\n",
      "##############################\n",
      "similar_docs_semantic\n",
      "##############################\n",
      "[(Document(page_content=\"Why is Knox Capture called a wedge? . A wedge barcode scanner is a physical device that attaches to a keyboard or a computer. It reads barcode data and translates it to a string that is then input into the system, as if a user had manually typed the string using the keyboard. In the same way, Knox Capture acts as middleware that reads barcode data captured by the XCover Pro device, translates it into a string, formats the string, and then sends it to a third-party business app that understands the resulting data. Knox Capture takes care of integrating with your business app, so that you don't have to build barcode scanning logic into your business app using a software development kit (SDK). So how does Knox Capture know which barcodes to read, how to format the data, and which business app to send the data to? The IT admin defines those details in a profile in Knox Capture. Once the IT admin has configured the profile, they push it to enterprise devices through their EMM. Device users can then start using the business app to scan barcodes.\", metadata={'source': 'all_processed_data.json', 'seq_num': 40, 'title': 'Why is Knox Capture called a wedge? ', 'url': 'https://docs.samsungknox.com/admin/knox-capture/faq/#why-is-knox-capture-called-wedge', 'project': 'KCAP', 'last_updated': '2023-07-26', 'family_tree': 'parent', 'parent_id': None}), 1.0), (Document(page_content='Scan engine settings: Scandit. Knox Capture Scandit Edition has all of the same scan engine settings as Samsung Knox Capture. See the Configure scan engine settings page for a list of common settings. The following settings are only available in Knox Capture Scandit Edition: Barcode types , Type , Options , , - , - , , Numeric-only (1D) , Codabar, Code 11, Code 25, Code 32, DataBar 14, DataBar Limited, EAN13, EAN8, Interleaved 2 of 5, MSI-Plessey, UPCA, UPCE , , Alpha-numeric (1D) , Code 128, Code 39, Code 93, DataBar Expanded, KIX, RM4SCC , , 2D , Aztec, Data Matrix, DotCode, MaxiCode, MicroPDF417, Micro QR, PDF417, QR , Scan settings , Setting , Description , Options , Default , , - , - , - , - , , Remove checksum , Global setting to remove checksums for barcode data for all barcode types. ON/OFF , OFF , , Parse GS1 , If enabled, parses scanned barcode data based on the GS1 data format before sending it to the target business app. For more information on the GS1 standard, refer to GS1 General Specifications. ON/OFF , OFF , Extended barcode type settings Use these settings to configure each barcode type used in a Knox Capture profile. Access these settings by tapping Advanced settings near the bottom of the scan engine settings menu, then tap Extended barcode type settings to display a list of all barcode types. To view the settings menu for a particular barcode type, tap its name. The following table describes the possible barcode type settings that may appear: Setting Description Options Default Min. length Determines the minimum supported barcode length (active symbol count) to decode. Change this property to include lengths not enabled by default, or to optimize decoding performance for a certain number of symbols. Character-to-symbol mapping depends on barcode type. For example, some barcodes include additional checksum characters in their symbol counts. For more information on active symbol count, refer to Configure the Active Symbol Count. Depends on barcode type. Max. length Determines the maximum supported barcode length (active symbol count) to decode. Depends on barcode type. Inverted color recognition Enables recognition of inverted barcodes that have been printed using bright ink on a dark background. ON/OFF OFF Reduced quiet zone-size Enables scanning codes with smaller than normal quiet zones (white space before and after the code) than allowed by the barcode type specification. Use this if you experience issues when scanning codes that violate quiet zone specifications. Please note that turning on this feature may lead to false positive scans in some cases. ON/OFF OFF Strip leading FNC1 Removes the leading FNC1 character that indicates a GS1 code. ON/OFF OFF Direct part marking mode Improves scan performance when reading direct part marked (DPM) Data Matrix codes. Please note that this setting increases frame processing times. Samsung recommends restricting the scanning area to a smaller portion of the screen for better performance when using direct part marking mode. ON/OFF OFF Checksum mod n Barcode checksums use a piece of barcode data and a checksum algorithm to ensure data transmission integrity. Some barcode types include a mandatory checksum, while others only have optional checksums. Enforcing an optional checksum helps reduce false positives and provides an extra layer of error prevention. When enabling a checksum, ensure your barcode data includes the calculated checksum, otherwise the checksum will not match and the barcode data is discarded. Uses and enforces a modulo n checksum algorithm. ON/OFF OFF Full ASCII support Interprets Code39 data using two symbols per output character to encode all ASCII characters. ON/OFF OFF Double checksum mod n Uses and enforces a double checksum modulo n. ON/OFF OFF Remove leading zero Removes the leading zero digit from EAN13/UCPA scanned barcode data. ON/OFF ON Return as UPCA Transforms UPCE scanned barcode data into its UPCA representation', metadata={'source': 'all_processed_data.json', 'seq_num': 25, 'title': 'Scan engine settings: Scandit', 'url': 'https://docs.samsungknox.com/admin/knox-capture/knox-capture-scandit/scan-engine-settings-scandit', 'project': 'KCAP', 'last_updated': '2023-07-26', 'family_tree': 'parent', 'parent_id': None}), 0.9706085173362226), (Document(page_content=\"Export and deploy configuration. Knox Capture uses a simple EMM-based deployment model. You first need to export a scanning configuration as a .txt file, then use an EMM add the file to your app configuration to deploy Knox Capture as a managed-app to your end-users. Exporting a configuration Exporting and sharing a scan configuration enables other devices apply the configuration to their installation. #Export options An IT admin can use several methods to export the configuration: Save it as a file on the device. Email it as a file attachment. Use Nearby share to send to another IT admin's device, Generate a QR code that can be scanned by other IT admins. To share a configuration on a per-device basis, transfer the configuration using near-field communication (NFC) or with a QR code. #Launch the export menu Regardless of the export method selected, begin by tapping the Share button in the lower-right of the home page to launch the Share configuration menu. #Save as file To save the file: 1. Tap the Save icon in the Share configuration menu. 2. Enter a name and tap Done. Knox Capture saves the configuration within My Files > Downloads, and displays a success message. #Email file To email the configuration as a text file attachment with the default email program: 1. Tap the email icon within the Share configuration menu. 2. Knox Capture launches the email application and starts a new message with the configuration file attached. #Nearby share To share a configuration with another device using Nearby share: 1. Tap the Nearby icon within the Share configuration menu. 2. Ensure Nearby Share is turned on for both the transmitting and receiving devices. 3. On the receiving device, tap the Device nearby is sharing popup that appears. #QR code To generate a QR code that can be scanned by other devices to import the configuration, tap the QR code option in the Share configuration menu. Knox Capture generates and displays a QR code. Optionally save or email the QR code by tapping either the Save or Email button. Tap Save to save the QR code as an image within the device My Files > Downloads folder. Tap Email to launch the default email app. The resulting email message includes instructions for importing the configuration using the QR code. If the configuration is too large for one QR code, Knox Capture generates multiple QR codes in a PDF file. The end user must scan them all to complete the import process. Deploying through an EMM To deploy Knox Capture with a custom scanning configuration across a fleet of devices, set the scan configuration and use the EMM console to add it to Knox Capture's App Config in Managed Google Play. Doing so ensures devices that the app runs for end-users in Managed mode. Deployment varies depending on the EMM provider, but should resemble the following flow: 1. Install Knox Capture on an admin device, configure the app, and export the configuration as a text file. 2. Add the Knox Capture app to your Managed Google Play Store. 3. Assign the app to a group or organization and launch the app configuration dialog. In most consoles, the app configuration (or App Config) dialog opens as a pop-up window or modal. 4. Activate your license in the EMM. 5. Copy and paste the text of the exported Knox Capture configuration into the provided configuration field. 6. Save the updated settings and deploy. If you do not add a configuration for Knox Capture in Managed Google Play when updating a license key, the app operates according to its _previous_ configuration. For example, a device with an existing scan configuration will continue to operate in Managed mode after updating the license key. However, a new device without an existing configuration will operate in Admin mode. To ensure _all_ devices operate in Managed mode, prepare and include the configuration each time you add or modify the app within the EMM console. Sharing and importing configurations Once a configuration has been exported, it can be shared with other devices running the app in Admin mode\", metadata={'source': 'all_processed_data.json', 'seq_num': 14, 'title': 'Export and deploy configuration', 'url': 'https://docs.samsungknox.com/admin/knox-capture/how-to-guides/export-and-deploy-configuration', 'project': 'KCAP', 'last_updated': '2023-07-26', 'family_tree': 'parent', 'parent_id': None}), 0.9596511133172598), (Document(page_content=\"I am subscribed to an individual Knox cloud service. Can I switch or upgrade to Knox Suite?. Yes. You can upgrade or switch to Knox Suite while using an individual Knox cloud service. After you purchase a Knox Suite license from a Samsung Knox reseller, for Knox Manage and Knox E-FOTA you must update the license keys. Knox Manage users - Replace your existing Knox Manage license key with the new Knox Suite license that you purchased. Select Knox Suite from the Organization or User settings pages. For more information, see Convert a license in the Knox Manage documentation. Knox E-FOTA users - Replace your existing Knox E-FOTA license with the new Knox Suite license that you purchased. To replace the license, go to the unified License Management page on the Knox Admin Portal, enter the new Knox Suite license key you've purchased, select your existing Knox E-FOTA license key and then select Replace with a new Knox Suite license key. For more information, see Manage Knox licenses in the Knox Admin Portal documentation. Does Knox Suite record device location data? Yes. The location of managed devices can be tracked by services in the Knox Suite. Knox Manage and Knox Asset Intelligence help you locate devices and analyze their movement during the course of business. How securely does Samsung handle individual or business entity data acquired through Knox Suite services? Samsung is committed to safely handling customer information acquired from its business practices, and meets all data storage and handling requirements stipulated by the GDPR. Samsung ensures that data collection is restricted to only that which is necessary. Samsung cloud solutions are SOC2-certified, so you can rest assured of the smooth operation, security, and reliability of solutions in the Knox Suite. If you want to learn more, see GDPR and Samsung Knox solutions.\", metadata={'source': 'all_processed_data.json', 'seq_num': 80, 'title': 'I am subscribed to an individual Knox cloud service. Can I switch or upgrade to Knox Suite?', 'url': 'https://docs.samsungknox.com/admin/knox-suite/faq/#i-am-subscribed-individual-knox-cloud-service-can-i-switch-upgrade-knox-suite', 'project': 'KS', 'last_updated': '2023-07-26', 'family_tree': 'parent', 'parent_id': None}), 0.9555631320419945), (Document(page_content='Use test mode. Check the scanning configuration by starting Knox Capture\\'s system-wide test mode and launching a business app. Use test mode to visually confirm scan engine settings and keystroke output rules for each app in the configuration. Start test mode 1. Start test mode and open the Test configuration screen in one of the following ways: Tap the More actions menu icon next to the Profiles label on the home screen. Select Test apps. Tap the Share button in the lower-right of the home screen. Then, tap the Test configuration button in the Share configuration menu. 2. After starting test mode, look for a system pop-up notification indicating Test mode is on. Select an app to test 1. Either search for an app and tap the Open button next to it in the list on the Test apps screen, or exit Knox Capture and open the app. 2. Review the content of the blue test overlay in the open app\\'s UI. The overlay displays: Activity - The name of the activity in focus. Active profile - The Knox Capture profile to which the in-focus activity belongs. This is the profile defining scan settings and keystroke output rules for the in-focus activity. Scan a barcode and view the test overlay Each scanning experience differs depending on the configuration. For example, the camera may not automatically scan a barcode. For more information, see Scan engine settings. 1. Press the camera scan trigger to open the camera for scanning. 2. Aim the camera at the barcode to scan. 3. View the test overlay. You should see the following new values: Output - The processed data in test mode notation with keystroke output rules applied. Scanned data - The scanned barcode data in test mode notation without any keystroke output rules applied. Scanned raw - The scanned barcode data in hexadecimal format without any keystroke output rules applied. 4. Expand the overlay by tapping its down arrow icon for a full view of the test data. 5. Inspect and compare the Scanned data to the Output value to verify the correct keystroke output rules and scanning settings for the activity in question. 6. Repeat for each app included in the configuration as required. After testing an app, there should be a green check mark badge next to the app logo on the Test apps screen. Use this to track testing progress. 7. Tap All activities under an app to open a list of app activities that are included in the profile you\\'re testing. Here, you can check if individual activities were tested. If so, a green checkmark appears next to the activity. 8. Clear all the check marks by tapping the additional actions menu icon at the upper-right of the Test apps screen and selecting Clear test activity. Exit test mode Exit test mode in one of the following ways: Toggle Test mode to the off position on the Test apps screen. Tap the X in upper-right corner of the test overlay, then tap Exit to confirm. In addition to the two points mentioned above, the user can also exit test mode from the notification panel. Test mode notation Test mode uses special notation when displaying scanned data in the test overlay to verify the keystroke output rules are set up correctly. #Character representation , Printable ASCII or Unicode characters are represented in their native printable format. For example, \"abc123\" appears as \"abc123\" in the test overlay. Non-printable ASCII control characters are represented with standard abbreviation. For example, a Tab control character appears as \"HT\" in the test overlay', metadata={'source': 'all_processed_data.json', 'seq_num': 19, 'title': 'Use test mode', 'url': 'https://docs.samsungknox.com/admin/knox-capture/how-to-guides/use-test-mode', 'project': 'KCAP', 'last_updated': '2023-07-26', 'family_tree': 'parent', 'parent_id': None}), 0.9540951555030479), (Document(page_content=\". If the user navigates to a different business app to initiate a scan instead, the original scan data is discarded. New indicators for tested app activities When testing configurations in Admin mode, IT admins can now view a list of created app activities under the profile. Any activity not visible in the list behaves under the default profile. After being tested, each activity displays a green checkmark to its right to indicate its tested status. Refer to Check a configuration in test mode to learn more. Hardware scanner support Knox Capture v1.2 adds support for USB and Bluetooth hardware scanners. After the scanner is paired or connected, IT admins and end users can switch between their device's camera and the scanner for seamless data capture and delivery to business apps. Currently, v1.2 supports all HW scanners with HID connection. Tests have been completed for the devices below: Koamtac KDC280 (Bluetooth), Koamtac KDC180 (Bluetooth), Koamtac SKXPro SmartSled (USB) - Only supported for Galaxy XCover Pro devices. For more information, see Connect a hardware scanner. Scans from hardware devices count towards the 100 free scan limit, and a Knox Capture license must be activated to continue using the hardware scanning functionality past this limit. Back to release notes\", metadata={'source': 'all_processed_data.json', 'seq_num': 29, 'title': 'Knox Capture v1.2 release notes', 'url': 'https://docs.samsungknox.com/admin/knox-capture/release-notes/v1-2', 'project': 'KCAP', 'last_updated': '2023-07-26', 'family_tree': 'parent', 'parent_id': None}), 0.9496650698474182)]\n",
      "##############################\n",
      "similar_docs_keyword\n",
      "##############################\n",
      "[(Document(page_content='What are the minimum and the maximum number of devices that Knox Suite can support?. Knox Suite has no limitations on the number of devices that can be managed by its solutions.', metadata={'source': 'all_processed_data.json', 'seq_num': 81, 'title': ' What are the minimum and the maximum number of devices that Knox Suite can support?', 'url': 'https://docs.samsungknox.com/admin/knox-suite/faq/#what-are-minimum-maximum-number-devices-knox-suite-support', 'project': 'KS', 'last_updated': '2023-07-26', 'family_tree': 'parent', 'parent_id': None, 'id': '81d62297-ce7f-484c-a164-2a00cb157245'}), 1.0), (Document(page_content='What is Knox Suite?. Knox Suite is a bundled offering designed to help enterprise IT admins better manage your fleet of devices. It includes individual services such as Knox Platform for Enterprise, Knox Mobile Enrollment, Knox Manage, Knox E-FOTA, and Knox Asset Intelligence. Key features of Knox Suite include: Secure - Ensure your business data is protected with managed security features at your control. Deploy - Enroll corporate devices to EMM automatically and securely, right out of the box. Manage - Enable comprehensive management over corporate devices and OS versions. Analyze - Strengthen in-depth device analytics for mobile productivity and asset management.', metadata={'source': 'all_processed_data.json', 'seq_num': 74, 'title': ' What is Knox Suite?', 'url': 'https://docs.samsungknox.com/admin/knox-suite/faq/#what-is-knox-suite', 'project': 'KS', 'last_updated': '2023-07-26', 'family_tree': 'parent', 'parent_id': None, 'id': '5c911c77-600b-404f-a343-8a50c44aff9d'}), 0.8001136870855399), (Document(page_content=\"Barcode capture not working for business app. Overview You may encounter situations where barcode data is not outputting correctly to your business app. Why isn't barcode capture working for my business app? Most barcode capture issues begin with minor errors in the keystroke output and scan engine settings. Try using test mode to verify your configurations after setting up a profile.\", metadata={'source': 'all_processed_data.json', 'seq_num': 51, 'title': 'Barcode capture not working for business app', 'url': 'https://docs.samsungknox.com/admin/knox-capture/kbas/barcode-capture-not-working-for-app', 'project': 'KCAP', 'last_updated': '2023-07-26', 'family_tree': 'parent', 'parent_id': None, 'id': '8210f387-3d71-41a1-b29e-b3903481af52'}), 0.7911520676453563), (Document(page_content=\"How to trigger camera scan with XCover key on Verizon device. If your devices are enrolled as company-owned devices with work profiles, ensure that the Knox Service Plugin version in your EMM is 1.2.74 or higher before following the instructions below. Overview On Verizon XCover Pro devices, the XCover key is mapped to Verizon PTT (Push to Talk). This mapping prevents the device from triggering a camera scan when the user presses that key. How do I set the XCover key to trigger a camera scan on a Verizon XCover Pro device? There are two ways to override the Verizon PTT mapping: Disable the Verizon PTT key mapping, Set the XCover key to trigger a camera scan Disable the Verizon PTT key mapping on a single device before installing Knox Capture This procedure describes how to disable the Verizon PTT key mapping on a Verizon XCover Pro device. Perform this procedure before installing Knox Capture on the device. This procedure is useful if you're still in the process of testing Knox Capture on a device. If your goal is to configure a group of Verizon XCover Pro devices, see Set the XCover key to trigger a camera scan on a group of Verizon XCover Pro devices instead. This procedure assumes that you haven't installed Knox Capture on the device. 1. On the device, tap Settings > Advanced features > XCover Key and switch off Verizon PTT. 2. Install Knox Capture. During installation, Knox Capture trigger is automatically assigned to the XCover key's Press action. You can verify this by going to Settings > Advanced features > XCover Key. Set the XCover key to trigger a camera scan on a group of Verizon XCover Pro devices This procedure describes how to use your EMM to disable the Verizon PTT key mapping on Verizon XCover Pro devices and program the XCover key to trigger a camera scan. In this procedure, Knox Manage is used to illustrate the steps, but the steps are similar for other EMMs. This procedure assumes you've set up the Knox Service Plugin app with your EMM and that Knox Capture is installed on the devices. 1. On your EMM console, open the Knox Service Plugin policies. To do this on the Knox Manage console, add or modify an Android Enterprise profile. Then, in the Samsung Knox policies, click Knox Service Plugin. For information on how to open the Knox Service Plugin policies on a different EMM, refer to that EMM's documentation. 2. Under Device-wide policies, set Enable device policy controls to True. 3. Under Device Key Mapping (Premium), configure the mapping: 1. Set Enable Key Mapping Controls to True. 2. Set Enable PTT/Side Key Mapping for Microsoft Teams to False. 3. For Package Name, enter com.samsung.android.app.smartscan. 4. For Intent for Key press, enter com.samsung.android.knox.intent.action.PTT_PRESS. 5. For Intent for Key release, enter com.samsung.android.knox.intent.action.PTT_RELEASE. 6. Set Enable Key Mapping to Launch & Exit applications to False. 4. Save and assign the configured profile to the Verizon XCover Pro devices. 5. Verify that the configuration was applied successfully: 1. On one of the devices, launch the KSP app and tap Apply policies. 2. Go to Settings > Advanced features and verify that the XCover Key is disabled (grayed out). Pressing the XCover key now triggers a camera scan.\", metadata={'source': 'all_processed_data.json', 'seq_num': 53, 'title': 'How to trigger camera scan with XCover key on Verizon device', 'url': 'https://docs.samsungknox.com/admin/knox-capture/kbas/disable-xcover-key-from-emm', 'project': 'KCAP', 'last_updated': '2023-07-26', 'family_tree': 'parent', 'parent_id': None, 'id': 'b9d68cdd-2f36-4416-a4b5-fd612d5e96a3'}), 0.7750844854484766), (Document(page_content=\"Overview. Get started with the basics by learning what Knox Capture is and how it works. What is Knox Capture? To help explain what Knox Capture does, it may be helpful to start with an understanding of what a *wedge* scanner is, and how it relates to the Knox Capture solution. In traditional hardware-based barcode scanning terminology, a wedge scanner is a physical device that attaches between a keyboard and a computer. The keyboard attaches to the scanner, and the scanner attaches to the computer. From the computer's perspective, the scanner behaves just like an additional keyboard. When the computer runs a software program (like an inventory spreadsheet app), and barcodes are read using the wedge scanner, data is sent from the scanner to the program in the form of keystrokes. From the program's point of view, data appears exactly as if someone had typed it manually using a keyboard. How Knox Capture works In a similar way, Knox Capture also acts as a wedge between a software program and keyboard. However, instead of being a physical scanning device, Knox Capture is a mobile solution built for compatible Android smartphones and tablets. Enterprise IT admins can either download the Knox Capture app from Google Play, or custom-build their own wedge scanner apps using the Knox Capture SDK (Software Development Kit). Once Knox Capture is installed and running on a device, it *wedges* between an application (for example, a business app used to track inventory) and the mobile device's on-screen keyboard. When an end-user launches their business app, they can simply tap an on-screen button or press a hardware button on their device to trigger a barcode scan using the device's camera. After the camera focuses on a barcode, Knox Capture translates the barcode data into keystrokes, which then get passed back to the business app for processing. From the business app's point of view, keystrokes coming from Knox Capture appear exactly as if a user had typed them from the device keyboard. Who can use Knox Capture? Knox Capture is designed for anyone who wants to turn their mobile device into a powerful barcode scanner. However, depending on whether it's being used by an admin or an end-user, its features vary significantly. #Admin mode (Default) When Knox Capture is downloaded from Google Play and installed on a compatible Android device - and a valid license key is activated - the app operates in its default Admin mode. This mode allows the device user - typically an enterprise IT admin - to utilize the full functionality of the app to primarily do the following: 1. Create scanning profiles that define which apps can launch the barcode scanner, which barcode types can be scanned (QR, Code 128, EAN8, etc.), and how scanned data is formatted (append Tab or Enter key, insert special characters before or after data, etc.). 2. Test scanning profiles to ensure that appropriate business apps can launch the scanner and receive data back as keystrokes. 3. Export profile settings as a configuration file, which can then be used by EMM/UEM administrators to deploy Knox Capture as a managed app to end-user devices. #Managed mode After an IT admin uses their EMM/UEM to deploy Knox Capture as a managed app to an end-user's device, the device launches the app in Managed mode. In Managed mode, Knox Capture functionality is greatly reduced. End-users can review their scanning profile settings and perform barcode scans using their business apps (as permitted by their scanning profile), however they can't make changes to their scanning profiles, export profile settings, or switch to Admin mode by activating a Knox Capture license. Admin mode is the default mode of operation for Knox Capture. The procedures described in this guide are targeted at an IT admin audience. Further reading #Getting started tutorials These tutorials provide a guided workflow for new admins and end-users. While they don't cover every setting or scenario when using Knox Capture, they do provide a good starting point for learning the app's basics\", metadata={'source': 'all_processed_data.json', 'seq_num': 3, 'title': 'Overview', 'url': 'https://docs.samsungknox.com/admin/knox-capture/overview', 'project': 'KCAP', 'last_updated': '2023-07-26', 'family_tree': 'parent', 'parent_id': None, 'id': '2dfcb471-aea7-42eb-9dc6-75fa1ad22653'}), 0.7284010905025454), (Document(page_content=\". IT admins: Get started with Knox Capture - Learn how to create a new scanning profile, configure scan engine settings, perform a test scan, and export scanning configurations for deployment through an EMM/UEM as an IT admin. End-users: Get started with Knox Capture - Learn how to review scanning profile settings, configure hardware key settings, and perform barcode scans from a business app as a device end-user. #How-to topics For in-depth explanations and detailed walkthroughs of key Knox Capture features, refer to the following how-to topics for more information: Manage licenses - Learn about the Knox Capture licensing procedure, and how to switch between Knox Capture and Knox Capture: Scandit Edition licenses on the app. Scanning profiles - Learn how profiles work, what the default profile does, and how to create new profiles for different scanning scenarios. Apps and activities - The component of every scanning profile that defines which busiess apps can launch the camera scanner. Learn how apps and activities work, and how you can customize them in the scanning profiles. Scan engine settings - These settings define how barcodes are scanned, and what happens with the data after each scan. Learn how to set barcode types, change scan modes, control viewfinder size, and more. Keystroke output - The scanning profile setting that defines how data is formatted after each successful scan. Learn how to append or prepend special characters to scanned data, or how to insert ASCII Tabs and Enter keys at the end of each barcode to allow for easier processing in spreadsheets and forms. Test mode - A feature that lets you test a scanning profile's apps, barcode types, and keystroke ouput rules before exporting the configuration for deployment. Deploy configuration to EMM/UEM - Learn about the various scanning profile export options, and how to use the exported configuration file in an EMM/UEM to deploy Knox Capture to end-users. Set camera scan trigger - A feature that allows IT admins to specify whether a user can trigger a camera scan using a hardware button on the device, an on-screen floating action button, or both. Learn about the different button options, and how to configure the triggers from both the admin and end-user's point of view. Connect a hardware scanner - Certain enterprises may wish to use their existing hardware wedge scanners alongside Knox Capture. Learn how to connect Bluetooth and USB scanners to a device running Knox Capture, and how to perform a test scan once a scanner is connected. Configure the output path - Some organizations may want to send scanned Knox Capture data to a bluetooth keyboard connected to a PC, emulating the functionality of a traditional hardware scanner. Learn how output paths work, and how to pair and unpair your device to a bluetooth keyboard. Knox Capture AR - A feature introduced in Knox Capture v1.7 that provides important product information inside the camera preview window during a barcode scan. Learn what AR (Augmented Reality) is in Knox Capture, how to create AR templates, and how to use AR when performing barcode scans.\", metadata={'source': 'all_processed_data.json', 'seq_num': 3, 'title': 'Overview', 'url': 'https://docs.samsungknox.com/admin/knox-capture/overview', 'project': 'KCAP', 'last_updated': '2023-07-26', 'family_tree': 'parent', 'parent_id': None, 'id': '75bb0038-6007-4244-815b-1983b0556112'}), 0.6654008451818357), (Document(page_content=\"How to prevent users from remapping the XCover key. Overview If you want to ensure device users can only use the XCover key to launch Knox Capture, you can apply a policy to prevent them from remapping it. How do I prevent users from remapping the XCover key? Disable XCover key remapping through your EMM: 1. Navigate to the Knox Service Plugin (KSP) section of your EMM. 2. Select Device-wide policies, then set Enable device policy controls to Enable. 3. Click Device Key Mapping (Premium), then configure the settings as follows: Set Enable Key Mapping Controls to Enable. Set Enable PTT/Side Key Mapping for Microsoft Teams to Disable. For Package name, enter com.samsung.android.app.smartscan. For Intent for Key press, enter com.samsung.android.knox.intent.action.PTT_PRESS. For Intent for Key release, enter com.samsung.android.knox.intent.action.PTT_RELEASE. 4. Then, set Enable Key Mapping to Launch & Exit applications to Disable. 5. Save and apply the policies to your device. The XCover key can no longer be remapped on the device, which you can verify in the device's settings, under Advanced features. When the key is pressed, the Knox Capture camera launches as expected.\", metadata={'source': 'all_processed_data.json', 'seq_num': 54, 'title': 'How to prevent users from remapping the XCover key', 'url': 'https://docs.samsungknox.com/admin/knox-capture/kbas/how-to-prevent-users-from-remapping-xcover-key', 'project': 'KCAP', 'last_updated': '2023-07-26', 'family_tree': 'parent', 'parent_id': None, 'id': '3eca4347-aeb8-4f15-8ac0-1fa40fc599d9'}), 0.6534266912783289)]\n",
      "##############################\n",
      "similar_docs\n",
      "##############################\n",
      "[(Document(page_content=\"Why is Knox Capture called a wedge? . A wedge barcode scanner is a physical device that attaches to a keyboard or a computer. It reads barcode data and translates it to a string that is then input into the system, as if a user had manually typed the string using the keyboard. In the same way, Knox Capture acts as middleware that reads barcode data captured by the XCover Pro device, translates it into a string, formats the string, and then sends it to a third-party business app that understands the resulting data. Knox Capture takes care of integrating with your business app, so that you don't have to build barcode scanning logic into your business app using a software development kit (SDK). So how does Knox Capture know which barcodes to read, how to format the data, and which business app to send the data to? The IT admin defines those details in a profile in Knox Capture. Once the IT admin has configured the profile, they push it to enterprise devices through their EMM. Device users can then start using the business app to scan barcodes.\", metadata={'source': 'all_processed_data.json', 'seq_num': 40, 'title': 'Why is Knox Capture called a wedge? ', 'url': 'https://docs.samsungknox.com/admin/knox-capture/faq/#why-is-knox-capture-called-wedge', 'project': 'KCAP', 'last_updated': '2023-07-26', 'family_tree': 'parent', 'parent_id': None}), 8.710189285920933e-05), (Document(page_content=\"Barcode capture not working for business app. Overview You may encounter situations where barcode data is not outputting correctly to your business app. Why isn't barcode capture working for my business app? Most barcode capture issues begin with minor errors in the keystroke output and scan engine settings. Try using test mode to verify your configurations after setting up a profile.\", metadata={'source': 'all_processed_data.json', 'seq_num': 51, 'title': 'Barcode capture not working for business app', 'url': 'https://docs.samsungknox.com/admin/knox-capture/kbas/barcode-capture-not-working-for-app', 'project': 'KCAP', 'last_updated': '2023-07-26', 'family_tree': 'parent', 'parent_id': None, 'id': '8210f387-3d71-41a1-b29e-b3903481af52'}), 8.039813110372052e-05), (Document(page_content='Scan engine settings: Scandit. Knox Capture Scandit Edition has all of the same scan engine settings as Samsung Knox Capture. See the Configure scan engine settings page for a list of common settings. The following settings are only available in Knox Capture Scandit Edition: Barcode types , Type , Options , , - , - , , Numeric-only (1D) , Codabar, Code 11, Code 25, Code 32, DataBar 14, DataBar Limited, EAN13, EAN8, Interleaved 2 of 5, MSI-Plessey, UPCA, UPCE , , Alpha-numeric (1D) , Code 128, Code 39, Code 93, DataBar Expanded, KIX, RM4SCC , , 2D , Aztec, Data Matrix, DotCode, MaxiCode, MicroPDF417, Micro QR, PDF417, QR , Scan settings , Setting , Description , Options , Default , , - , - , - , - , , Remove checksum , Global setting to remove checksums for barcode data for all barcode types. ON/OFF , OFF , , Parse GS1 , If enabled, parses scanned barcode data based on the GS1 data format before sending it to the target business app. For more information on the GS1 standard, refer to GS1 General Specifications. ON/OFF , OFF , Extended barcode type settings Use these settings to configure each barcode type used in a Knox Capture profile. Access these settings by tapping Advanced settings near the bottom of the scan engine settings menu, then tap Extended barcode type settings to display a list of all barcode types. To view the settings menu for a particular barcode type, tap its name. The following table describes the possible barcode type settings that may appear: Setting Description Options Default Min. length Determines the minimum supported barcode length (active symbol count) to decode. Change this property to include lengths not enabled by default, or to optimize decoding performance for a certain number of symbols. Character-to-symbol mapping depends on barcode type. For example, some barcodes include additional checksum characters in their symbol counts. For more information on active symbol count, refer to Configure the Active Symbol Count. Depends on barcode type. Max. length Determines the maximum supported barcode length (active symbol count) to decode. Depends on barcode type. Inverted color recognition Enables recognition of inverted barcodes that have been printed using bright ink on a dark background. ON/OFF OFF Reduced quiet zone-size Enables scanning codes with smaller than normal quiet zones (white space before and after the code) than allowed by the barcode type specification. Use this if you experience issues when scanning codes that violate quiet zone specifications. Please note that turning on this feature may lead to false positive scans in some cases. ON/OFF OFF Strip leading FNC1 Removes the leading FNC1 character that indicates a GS1 code. ON/OFF OFF Direct part marking mode Improves scan performance when reading direct part marked (DPM) Data Matrix codes. Please note that this setting increases frame processing times. Samsung recommends restricting the scanning area to a smaller portion of the screen for better performance when using direct part marking mode. ON/OFF OFF Checksum mod n Barcode checksums use a piece of barcode data and a checksum algorithm to ensure data transmission integrity. Some barcode types include a mandatory checksum, while others only have optional checksums. Enforcing an optional checksum helps reduce false positives and provides an extra layer of error prevention. When enabling a checksum, ensure your barcode data includes the calculated checksum, otherwise the checksum will not match and the barcode data is discarded. Uses and enforces a modulo n checksum algorithm. ON/OFF OFF Full ASCII support Interprets Code39 data using two symbols per output character to encode all ASCII characters. ON/OFF OFF Double checksum mod n Uses and enforces a double checksum modulo n. ON/OFF OFF Remove leading zero Removes the leading zero digit from EAN13/UCPA scanned barcode data. ON/OFF ON Return as UPCA Transforms UPCE scanned barcode data into its UPCA representation', metadata={'source': 'all_processed_data.json', 'seq_num': 25, 'title': 'Scan engine settings: Scandit', 'url': 'https://docs.samsungknox.com/admin/knox-capture/knox-capture-scandit/scan-engine-settings-scandit', 'project': 'KCAP', 'last_updated': '2023-07-26', 'family_tree': 'parent', 'parent_id': None}), 7.758101838337909e-05), (Document(page_content=\"Export and deploy configuration. Knox Capture uses a simple EMM-based deployment model. You first need to export a scanning configuration as a .txt file, then use an EMM add the file to your app configuration to deploy Knox Capture as a managed-app to your end-users. Exporting a configuration Exporting and sharing a scan configuration enables other devices apply the configuration to their installation. #Export options An IT admin can use several methods to export the configuration: Save it as a file on the device. Email it as a file attachment. Use Nearby share to send to another IT admin's device, Generate a QR code that can be scanned by other IT admins. To share a configuration on a per-device basis, transfer the configuration using near-field communication (NFC) or with a QR code. #Launch the export menu Regardless of the export method selected, begin by tapping the Share button in the lower-right of the home page to launch the Share configuration menu. #Save as file To save the file: 1. Tap the Save icon in the Share configuration menu. 2. Enter a name and tap Done. Knox Capture saves the configuration within My Files > Downloads, and displays a success message. #Email file To email the configuration as a text file attachment with the default email program: 1. Tap the email icon within the Share configuration menu. 2. Knox Capture launches the email application and starts a new message with the configuration file attached. #Nearby share To share a configuration with another device using Nearby share: 1. Tap the Nearby icon within the Share configuration menu. 2. Ensure Nearby Share is turned on for both the transmitting and receiving devices. 3. On the receiving device, tap the Device nearby is sharing popup that appears. #QR code To generate a QR code that can be scanned by other devices to import the configuration, tap the QR code option in the Share configuration menu. Knox Capture generates and displays a QR code. Optionally save or email the QR code by tapping either the Save or Email button. Tap Save to save the QR code as an image within the device My Files > Downloads folder. Tap Email to launch the default email app. The resulting email message includes instructions for importing the configuration using the QR code. If the configuration is too large for one QR code, Knox Capture generates multiple QR codes in a PDF file. The end user must scan them all to complete the import process. Deploying through an EMM To deploy Knox Capture with a custom scanning configuration across a fleet of devices, set the scan configuration and use the EMM console to add it to Knox Capture's App Config in Managed Google Play. Doing so ensures devices that the app runs for end-users in Managed mode. Deployment varies depending on the EMM provider, but should resemble the following flow: 1. Install Knox Capture on an admin device, configure the app, and export the configuration as a text file. 2. Add the Knox Capture app to your Managed Google Play Store. 3. Assign the app to a group or organization and launch the app configuration dialog. In most consoles, the app configuration (or App Config) dialog opens as a pop-up window or modal. 4. Activate your license in the EMM. 5. Copy and paste the text of the exported Knox Capture configuration into the provided configuration field. 6. Save the updated settings and deploy. If you do not add a configuration for Knox Capture in Managed Google Play when updating a license key, the app operates according to its _previous_ configuration. For example, a device with an existing scan configuration will continue to operate in Managed mode after updating the license key. However, a new device without an existing configuration will operate in Admin mode. To ensure _all_ devices operate in Managed mode, prepare and include the configuration each time you add or modify the app within the EMM console. Sharing and importing configurations Once a configuration has been exported, it can be shared with other devices running the app in Admin mode\", metadata={'source': 'all_processed_data.json', 'seq_num': 14, 'title': 'Export and deploy configuration', 'url': 'https://docs.samsungknox.com/admin/knox-capture/how-to-guides/export-and-deploy-configuration', 'project': 'KCAP', 'last_updated': '2023-07-26', 'family_tree': 'parent', 'parent_id': None}), 7.748997534402339e-05), (Document(page_content='What is Knox Suite?. Knox Suite is a bundled offering designed to help enterprise IT admins better manage your fleet of devices. It includes individual services such as Knox Platform for Enterprise, Knox Mobile Enrollment, Knox Manage, Knox E-FOTA, and Knox Asset Intelligence. Key features of Knox Suite include: Secure - Ensure your business data is protected with managed security features at your control. Deploy - Enroll corporate devices to EMM automatically and securely, right out of the box. Manage - Enable comprehensive management over corporate devices and OS versions. Analyze - Strengthen in-depth device analytics for mobile productivity and asset management.', metadata={'source': 'all_processed_data.json', 'seq_num': 74, 'title': ' What is Knox Suite?', 'url': 'https://docs.samsungknox.com/admin/knox-suite/faq/#what-is-knox-suite', 'project': 'KS', 'last_updated': '2023-07-26', 'family_tree': 'parent', 'parent_id': None, 'id': '5c911c77-600b-404f-a343-8a50c44aff9d'}), 7.734433165751398e-05)]\n",
      "\n",
      "==========  Results  ==========\n",
      "\n",
      "1. question: what is verify DM\n",
      "2. # documents: 5\n",
      "3. Documents: \n",
      "\n",
      "-----------------------------------------------\n",
      "1. Chunk: 1055 Characters\n",
      "-----------------------------------------------\n",
      "Why is Knox Capture called a wedge? . A wedge barcode scanner is a physical device that attaches to\n",
      "a keyboard or a computer. It reads barcode data and translates it to a string that is then input\n",
      "into the system, as if a user had manually typed the string using the keyboard. In the same way,\n",
      "Knox Capture acts as middleware that reads barcode data captured by the XCover Pro device,\n",
      "translates it into a string, formats the string, and then sends it to a third-party business app\n",
      "that understands the resulting data. Knox Capture takes care of integrating with your business app,\n",
      "so that you don't have to build barcode scanning logic into your business app using a software\n",
      "development kit (SDK). So how does Knox Capture know which barcodes to read, how to format the data,\n",
      "and which business app to send the data to? The IT admin defines those details in a profile in Knox\n",
      "Capture. Once the IT admin has configured the profile, they push it to enterprise devices through\n",
      "their EMM. Device users can then start using the business app to scan barcodes.\n",
      "metadata:\n",
      " {'source': 'all_processed_data.json', 'seq_num': 40, 'title': 'Why is Knox Capture called a wedge?\n",
      "', 'url': 'https://docs.samsungknox.com/admin/knox-capture/faq/#why-is-knox-capture-called-wedge',\n",
      "'project': 'KCAP', 'last_updated': '2023-07-26', 'family_tree': 'parent', 'parent_id': None}\n",
      "-----------------------------------------------\n",
      "2. Chunk: 387 Characters\n",
      "-----------------------------------------------\n",
      "Barcode capture not working for business app. Overview You may encounter situations where barcode\n",
      "data is not outputting correctly to your business app. Why isn't barcode capture working for my\n",
      "business app? Most barcode capture issues begin with minor errors in the keystroke output and scan\n",
      "engine settings. Try using test mode to verify your configurations after setting up a profile.\n",
      "metadata:\n",
      " {'source': 'all_processed_data.json', 'seq_num': 51, 'title': 'Barcode capture not working for\n",
      "business app', 'url': 'https://docs.samsungknox.com/admin/knox-capture/kbas/barcode-capture-not-\n",
      "working-for-app', 'project': 'KCAP', 'last_updated': '2023-07-26', 'family_tree': 'parent',\n",
      "'parent_id': None, 'id': '8210f387-3d71-41a1-b29e-b3903481af52'}\n",
      "-----------------------------------------------\n",
      "3. Chunk: 3977 Characters\n",
      "-----------------------------------------------\n",
      "Scan engine settings: Scandit. Knox Capture Scandit Edition has all of the same scan engine settings\n",
      "as Samsung Knox Capture. See the Configure scan engine settings page for a list of common settings.\n",
      "The following settings are only available in Knox Capture Scandit Edition: Barcode types , Type ,\n",
      "Options , , - , - , , Numeric-only (1D) , Codabar, Code 11, Code 25, Code 32, DataBar 14, DataBar\n",
      "Limited, EAN13, EAN8, Interleaved 2 of 5, MSI-Plessey, UPCA, UPCE , , Alpha-numeric (1D) , Code 128,\n",
      "Code 39, Code 93, DataBar Expanded, KIX, RM4SCC , , 2D , Aztec, Data Matrix, DotCode, MaxiCode,\n",
      "MicroPDF417, Micro QR, PDF417, QR , Scan settings , Setting , Description , Options , Default , , -\n",
      ", - , - , - , , Remove checksum , Global setting to remove checksums for barcode data for all\n",
      "barcode types. ON/OFF , OFF , , Parse GS1 , If enabled, parses scanned barcode data based on the GS1\n",
      "data format before sending it to the target business app. For more information on the GS1 standard,\n",
      "refer to GS1 General Specifications. ON/OFF , OFF , Extended barcode type settings Use these\n",
      "settings to configure each barcode type used in a Knox Capture profile. Access these settings by\n",
      "tapping Advanced settings near the bottom of the scan engine settings menu, then tap Extended\n",
      "barcode type settings to display a list of all barcode types. To view the settings menu for a\n",
      "particular barcode type, tap its name. The following table describes the possible barcode type\n",
      "settings that may appear: Setting Description Options Default Min. length Determines the minimum\n",
      "supported barcode length (active symbol count) to decode. Change this property to include lengths\n",
      "not enabled by default, or to optimize decoding performance for a certain number of symbols.\n",
      "Character-to-symbol mapping depends on barcode type. For example, some barcodes include additional\n",
      "checksum characters in their symbol counts. For more information on active symbol count, refer to\n",
      "Configure the Active Symbol Count. Depends on barcode type. Max. length Determines the maximum\n",
      "supported barcode length (active symbol count) to decode. Depends on barcode type. Inverted color\n",
      "recognition Enables recognition of inverted barcodes that have been printed using bright ink on a\n",
      "dark background. ON/OFF OFF Reduced quiet zone-size Enables scanning codes with smaller than normal\n",
      "quiet zones (white space before and after the code) than allowed by the barcode type specification.\n",
      "Use this if you experience issues when scanning codes that violate quiet zone specifications. Please\n",
      "note that turning on this feature may lead to false positive scans in some cases. ON/OFF OFF Strip\n",
      "leading FNC1 Removes the leading FNC1 character that indicates a GS1 code. ON/OFF OFF Direct part\n",
      "marking mode Improves scan performance when reading direct part marked (DPM) Data Matrix codes.\n",
      "Please note that this setting increases frame processing times. Samsung recommends restricting the\n",
      "scanning area to a smaller portion of the screen for better performance when using direct part\n",
      "marking mode. ON/OFF OFF Checksum mod n Barcode checksums use a piece of barcode data and a checksum\n",
      "algorithm to ensure data transmission integrity. Some barcode types include a mandatory checksum,\n",
      "while others only have optional checksums. Enforcing an optional checksum helps reduce false\n",
      "positives and provides an extra layer of error prevention. When enabling a checksum, ensure your\n",
      "barcode data includes the calculated checksum, otherwise the checksum will not match and the barcode\n",
      "data is discarded. Uses and enforces a modulo n checksum algorithm. ON/OFF OFF Full ASCII support\n",
      "Interprets Code39 data using two symbols per output character to encode all ASCII characters. ON/OFF\n",
      "OFF Double checksum mod n Uses and enforces a double checksum modulo n. ON/OFF OFF Remove leading\n",
      "zero Removes the leading zero digit from EAN13/UCPA scanned barcode data. ON/OFF ON Return as UPCA\n",
      "Transforms UPCE scanned barcode data into its UPCA representation\n",
      "metadata:\n",
      " {'source': 'all_processed_data.json', 'seq_num': 25, 'title': 'Scan engine settings: Scandit',\n",
      "'url': 'https://docs.samsungknox.com/admin/knox-capture/knox-capture-scandit/scan-engine-settings-\n",
      "scandit', 'project': 'KCAP', 'last_updated': '2023-07-26', 'family_tree': 'parent', 'parent_id':\n",
      "None}\n",
      "-----------------------------------------------\n",
      "4. Chunk: 4039 Characters\n",
      "-----------------------------------------------\n",
      "Export and deploy configuration. Knox Capture uses a simple EMM-based deployment model. You first\n",
      "need to export a scanning configuration as a .txt file, then use an EMM add the file to your app\n",
      "configuration to deploy Knox Capture as a managed-app to your end-users. Exporting a configuration\n",
      "Exporting and sharing a scan configuration enables other devices apply the configuration to their\n",
      "installation. #Export options An IT admin can use several methods to export the configuration: Save\n",
      "it as a file on the device. Email it as a file attachment. Use Nearby share to send to another IT\n",
      "admin's device, Generate a QR code that can be scanned by other IT admins. To share a configuration\n",
      "on a per-device basis, transfer the configuration using near-field communication (NFC) or with a QR\n",
      "code. #Launch the export menu Regardless of the export method selected, begin by tapping the Share\n",
      "button in the lower-right of the home page to launch the Share configuration menu. #Save as file To\n",
      "save the file: 1. Tap the Save icon in the Share configuration menu. 2. Enter a name and tap Done.\n",
      "Knox Capture saves the configuration within My Files > Downloads, and displays a success message.\n",
      "#Email file To email the configuration as a text file attachment with the default email program: 1.\n",
      "Tap the email icon within the Share configuration menu. 2. Knox Capture launches the email\n",
      "application and starts a new message with the configuration file attached. #Nearby share To share a\n",
      "configuration with another device using Nearby share: 1. Tap the Nearby icon within the Share\n",
      "configuration menu. 2. Ensure Nearby Share is turned on for both the transmitting and receiving\n",
      "devices. 3. On the receiving device, tap the Device nearby is sharing popup that appears. #QR code\n",
      "To generate a QR code that can be scanned by other devices to import the configuration, tap the QR\n",
      "code option in the Share configuration menu. Knox Capture generates and displays a QR code.\n",
      "Optionally save or email the QR code by tapping either the Save or Email button. Tap Save to save\n",
      "the QR code as an image within the device My Files > Downloads folder. Tap Email to launch the\n",
      "default email app. The resulting email message includes instructions for importing the configuration\n",
      "using the QR code. If the configuration is too large for one QR code, Knox Capture generates\n",
      "multiple QR codes in a PDF file. The end user must scan them all to complete the import process.\n",
      "Deploying through an EMM To deploy Knox Capture with a custom scanning configuration across a fleet\n",
      "of devices, set the scan configuration and use the EMM console to add it to Knox Capture's App\n",
      "Config in Managed Google Play. Doing so ensures devices that the app runs for end-users in Managed\n",
      "mode. Deployment varies depending on the EMM provider, but should resemble the following flow: 1.\n",
      "Install Knox Capture on an admin device, configure the app, and export the configuration as a text\n",
      "file. 2. Add the Knox Capture app to your Managed Google Play Store. 3. Assign the app to a group or\n",
      "organization and launch the app configuration dialog. In most consoles, the app configuration (or\n",
      "App Config) dialog opens as a pop-up window or modal. 4. Activate your license in the EMM. 5. Copy\n",
      "and paste the text of the exported Knox Capture configuration into the provided configuration field.\n",
      "6. Save the updated settings and deploy. If you do not add a configuration for Knox Capture in\n",
      "Managed Google Play when updating a license key, the app operates according to its _previous_\n",
      "configuration. For example, a device with an existing scan configuration will continue to operate in\n",
      "Managed mode after updating the license key. However, a new device without an existing configuration\n",
      "will operate in Admin mode. To ensure _all_ devices operate in Managed mode, prepare and include the\n",
      "configuration each time you add or modify the app within the EMM console. Sharing and importing\n",
      "configurations Once a configuration has been exported, it can be shared with other devices running\n",
      "the app in Admin mode\n",
      "metadata:\n",
      " {'source': 'all_processed_data.json', 'seq_num': 14, 'title': 'Export and deploy configuration',\n",
      "'url': 'https://docs.samsungknox.com/admin/knox-capture/how-to-guides/export-and-deploy-\n",
      "configuration', 'project': 'KCAP', 'last_updated': '2023-07-26', 'family_tree': 'parent',\n",
      "'parent_id': None}\n",
      "-----------------------------------------------\n",
      "5. Chunk: 674 Characters\n",
      "-----------------------------------------------\n",
      "What is Knox Suite?. Knox Suite is a bundled offering designed to help enterprise IT admins better\n",
      "manage your fleet of devices. It includes individual services such as Knox Platform for Enterprise,\n",
      "Knox Mobile Enrollment, Knox Manage, Knox E-FOTA, and Knox Asset Intelligence. Key features of Knox\n",
      "Suite include: Secure - Ensure your business data is protected with managed security features at\n",
      "your control. Deploy - Enroll corporate devices to EMM automatically and securely, right out of the\n",
      "box. Manage - Enable comprehensive management over corporate devices and OS versions. Analyze -\n",
      "Strengthen in-depth device analytics for mobile productivity and asset management.\n",
      "metadata:\n",
      " {'source': 'all_processed_data.json', 'seq_num': 74, 'title': ' What is Knox Suite?', 'url':\n",
      "'https://docs.samsungknox.com/admin/knox-suite/faq/#what-is-knox-suite', 'project': 'KS',\n",
      "'last_updated': '2023-07-26', 'family_tree': 'parent', 'parent_id': None, 'id':\n",
      "'5c911c77-600b-404f-a343-8a50c44aff9d'}\n",
      "CPU times: user 603 ms, sys: 8 ms, total: 611 ms\n",
      "Wall time: 1.19 s\n"
     ]
    }
   ],
   "source": [
    "%%time\n",
    "search_hybrid_result = opensearch_hybrid_retriever.get_relevant_documents(query)\n",
    "\n",
    "print(\"\\n==========  Results  ==========\\n\")\n",
    "print(f'1. question: {query}')\n",
    "print (f'2. # documents: {len(search_hybrid_result)}')\n",
    "print(\"3. Documents: \\n\")\n",
    "\n",
    "show_context_used(search_hybrid_result)"
   ]
  },
  {
   "cell_type": "markdown",
   "id": "c09221b5-4a6c-463b-9769-35cc8362e33c",
   "metadata": {},
   "source": [
    "- update parameters"
   ]
  },
  {
   "cell_type": "code",
   "execution_count": 306,
   "id": "b7bb4672-d2b8-4b29-b71c-b06d84bcd470",
   "metadata": {
    "tags": []
   },
   "outputs": [],
   "source": [
    "opensearch_hybrid_retriever.update_search_params(\n",
    "    k=3,\n",
    "    minimum_should_match=0,\n",
    "    #filter=[],\n",
    "    filter=[\n",
    "        #{'term': {'metadata.project': 'KS'}},\n",
    "        #{'term': {'metadata.family_tree': 'child'}},\n",
    "    ],\n",
    "    reranker=True,\n",
    "    reranker_endpoint_name=endpoint_name,\n",
    "    parent_document=False, # enable parent document\n",
    "    verbose=True,\n",
    ")"
   ]
  },
  {
   "cell_type": "code",
   "execution_count": 337,
   "id": "1b9b45b1-cb92-4954-8087-143a550350c8",
   "metadata": {
    "tags": []
   },
   "outputs": [
    {
     "name": "stdout",
     "output_type": "stream",
     "text": [
      "===== ParentDocument =====\n",
      "filter: [{'term': {'metadata.family_tree': 'child'}}]\n",
      "# child_docs: 7\n",
      "# parent docs: 5\n",
      "# duplicates: 2\n",
      "\n",
      "[Exeeds EMB token limit] Number of chunk_docs after split and chunking= 8\n",
      "\n",
      "\n",
      "[Exeeds EMB token limit] Number of chunk_docs after split and chunking= 7\n",
      "\n",
      "\n",
      "[Exeeds EMB token limit] Number of chunk_docs after split and chunking= 7\n",
      "\n",
      "##############################\n",
      "async_mode\n",
      "##############################\n",
      "True\n",
      "##############################\n",
      "reranker\n",
      "##############################\n",
      "True\n",
      "##############################\n",
      "rag_fusion\n",
      "##############################\n",
      "False\n",
      "##############################\n",
      "HyDE\n",
      "##############################\n",
      "False\n",
      "##############################\n",
      "parent_document\n",
      "##############################\n",
      "True\n",
      "##############################\n",
      "similar_docs_semantic\n",
      "##############################\n",
      "[(Document(page_content=\". On the Knox Capture home screen, tap on the profile you want to create a rule for. 2. Under Keystroke output and data formatting, tap Advanced data formatting. 3. In the top right corner of the screen, tap +. 4. Enter a name for the rule, then tap Done. 5. Under Set criteria, configure the below settings as needed: Barcode type - The types of barcodes that the rule applies to. String length - The required length of scanned data to trigger the rule. String - A string that must be present for the rule to trigger. String position - When the cursor reaches this position in the string, the rule executes. 6. Under Set actions in order, tap Add actions. 7. A popup appears, prompting you to select actions you want to add. See the table below for details on each action. Tap Add when you're finished. 8. Configure the actions as necessary, then tap < in the top left to return to the rules list. 9. Repeat Steps 3-8 for any additional rules you want to create, then rearrange them in the order they should be executed. Refer to the advanced data formatting actions below to move the cursor, modify, send, or delay data being sent to business apps. If you add multiple actions to your rule, you can change the order in which they execute. Action Description Options Default Cursor movement Sets the cursor to move to a location in the output data. Skip ahead by characters &mdash; Moves the cursor forward by a specific number of characters. 1 Skip back by characters &mdash; Moves the cursor backwards by a specific number of characters. 1 Skip to start &mdash; Moves the cursor to the beginning of the output data. None Move ahead to substring &mdash; Moves the cursor forward until a specific string is found. None Move past substring &mdash; Moves the cursor past a specific string in the output data. None Data modification Sets the elements for Knox Capture to add, edit, or remove from the data. Remove extra spaces &mdash; Deletes all but one space between words, and removes any blank space at the beginning and end of the data. None Remove all spaces &mdash; Remove all spaces in the data. None Remove leading zeros &mdash; Remove any zeroes at the beginning of the data. None Pad with zeros to the left &mdash; Specify the desired length of the output. Knox Capture pads the left side of the string with zeros until the desired length is reached. 1 Replace string &mdash; Replaces a specific string with a new, specified string. You must specify both strings. None Remove characters When sending data, removes a specific number of characters from the given positions. You must provide the start position and the number of characters to remove. Start position: 1 Number of characters: 1 Data sending Controls a selected amount of data to send to business apps. Send next characters &mdash; Sends a specific number of characters from the current cursor position. 1 Send remaining characters &mdash; Sends all data after the current cursor position. None Send up to substring &mdash; Sends all data up to a specific string. None Send pause &mdash; Pauses all actions for a specific number of milliseconds (max. 120000). 50ms Send string &mdash; Sends a specific string when the corresponding rule is triggered. None Send cha &mdash; Sends a specific ASCII/Unicode character when the corresponding rule is triggered. 32\", metadata={'source': 'all_processed_data.json', 'seq_num': 9, 'title': 'Configure keystroke output and data formatting', 'url': 'https://docs.samsungknox.com/admin/knox-capture/how-to-guides/configure-keystroke-output-and-data-formatting', 'project': 'KCAP', 'last_updated': '2023-07-26', 'family_tree': 'parent', 'parent_id': None}), 1.0), (Document(page_content=\". Scanned raw - The scanned barcode data in hexadecimal format without any keystroke output rules applied. 7. Inspect and compare the Scanned data to the Output data to ensure you've set the correct keystroke output rules. Repeat this test with other apps as required. 8. Exit test mode tapping X in the top-right corner of the test overlay, then in the confirmation pop-up, tap Close to return to the Test apps list. Step 6: Export configuration After editing your profiles, you can export the configuration as a .txt file. This configuration file can be shared with other Knox Capture IT admins, or it can be used in your EMM/UEM to deploy Knox Capture as a managed-app to end-users. To export a scanning configuration: 1. On the home screen, tap the Share button in the lower-right corner. 2. In the pop-up, seelct Email, then select your preferred email app. The configuration file is automatically attached. 3. After sending the email with the configuration file attached, re-launch Knox Capture. You should see a notification confirming the email submission followed by the date and time. Step 7: Deploy Knox Capture using an EMM/UEM You have now configured a basic Knox Capture configuration and exported it as an email attachment. The only thing left to do is use the configuration to deploy Knox Capture as a managed-app to your end-users. Actual deployment steps vary depending on the EMM provider, but they should generally resemble the following: 1. Add the Knox Capture app to your Managed Google Play Store. 2. Assign the app to a group or organization and launch the app configuration dialog. In a typical console, the app configuration dialog opens as a pop-up window or modal. 3. Activate the license by pasting it into the field within the app configuration (App Config) screen. 4. Copy and paste the exported configuration into the provided app configuration field. Adding a configuration to Managed Google Play is the only step necessary to ensure all devices installing the app operate in Managed mode. However, if you're using a trial version of Knox Capture, you'll need to push a Knox Suite license key as well. Refer to the following table for details on the configuration data: Configuration key , Configuration type , Configuration value - , - , - smartscan_license , String , Knox license key smartscan_config , String , Exported configuration data from Knox Capture 5. Save the updated settings and deploy. Summary You have now completed a typical Knox Capture workflow for IT admins, and have been introduced to configuring and deploying the app to managed devices. For more information, browse the how-to guides for detailed instructions for each feature.\", metadata={'source': 'all_processed_data.json', 'seq_num': 6, 'title': 'Admin get started', 'url': 'https://docs.samsungknox.com/admin/knox-capture/get-started/admin-tutorial', 'project': 'KCAP', 'last_updated': '2023-07-26', 'family_tree': 'parent', 'parent_id': None}), 0.9844975538189312), (Document(page_content=\"Why is Knox Capture called a wedge? . A wedge barcode scanner is a physical device that attaches to a keyboard or a computer. It reads barcode data and translates it to a string that is then input into the system, as if a user had manually typed the string using the keyboard. In the same way, Knox Capture acts as middleware that reads barcode data captured by the XCover Pro device, translates it into a string, formats the string, and then sends it to a third-party business app that understands the resulting data. Knox Capture takes care of integrating with your business app, so that you don't have to build barcode scanning logic into your business app using a software development kit (SDK). So how does Knox Capture know which barcodes to read, how to format the data, and which business app to send the data to? The IT admin defines those details in a profile in Knox Capture. Once the IT admin has configured the profile, they push it to enterprise devices through their EMM. Device users can then start using the business app to scan barcodes.\", metadata={'source': 'all_processed_data.json', 'seq_num': 40, 'title': 'Why is Knox Capture called a wedge? ', 'url': 'https://docs.samsungknox.com/admin/knox-capture/faq/#why-is-knox-capture-called-wedge', 'project': 'KCAP', 'last_updated': '2023-07-26', 'family_tree': 'parent', 'parent_id': None}), 0.9780864117989388), (Document(page_content=\"Scanning profiles. Knox Capture acts as a wedge by translating barcode data into keystrokes that can be sent to a business application. But how does Knox Capture know what barcode types to scan, how to interpret scanned data, and which business applications to pass the data to? For Knox Capture, the *Scanning profile* defines the app's core behavior. A Scanning Profile is a configuration file that gets created or modified by an IT admin using the Knox Capture application. The profile defines how Knox Capture performs a barcode scan, and primarily consists of the following parameters: 1. Apps and activities - define which applications that can launch the Knox Capture scanner. 2. Scanner engine settings - specifying the barcode technologies (QR, Code 128, UPCA, etc.), scanning methods (single barcode, multi barcode), and camera behavior (enable flash, allow camera zoom). 3. Keystroke output rules - specifying how barcode data gets converted into keystrokes (append Tab or Enter character to each barcode, add prefix or suffix characters, convert output to hex characters, etc.) Default scanning profile Out-of-the-box, Knox Capture includes a default scanning profile that gets automatically associated with all apps on the device. In other words, when Knox Capture is launched, *any* app can trigger the camera scanner and receive barcode data in the form of keystrokes. This makes it easy to use Knox Capture for basic scanning purposes without any additional setup. When using the default scanning profile, IT admins can change the profile's scan engine settings and data processing rules, however they cannot change the default profile's apps and activities behavior. For example, an IT admin can modify the default profile to append a Tab key at the end of each barcode, but they cannot change which apps can trigger the scanner. Custom scanning profiles While the default scanning profile allows Knox Capture to be used right away without any configuration, IT admins may want to use a custom profile to better suit their needs. With a custom profile, IT admins control which apps and activities can trigger a barcode scan. Any apps that you don't select in the custom profile will follow the default behavior in that the barcode scanner is active for all apps not specified in the custom profile. Creating custom scanning profiles Custom profiles can be created by modifying the default profile settings, or by creating entirely new profiles altogether. 1. Tap the + button near the top of the app UI to open the profile creation options. 2. Select Create profile to start a profile from scratch, or select Duplicate existing profile to copy the settings from an existing (custom or default) profile. Alternatively, you can create a custom profile by clicking Create profile without clicking the + button. 3. Provide a profile name, then tap Done. The new profile appears in the profiles area below Defult scanning profile.\", metadata={'source': 'all_processed_data.json', 'seq_num': 13, 'title': 'Scanning profiles', 'url': 'https://docs.samsungknox.com/admin/knox-capture/how-to-guides/create-scanning-profiles', 'project': 'KCAP', 'last_updated': '2023-07-26', 'family_tree': 'parent', 'parent_id': None}), 0.9765169986213121), (Document(page_content=\"Export and deploy configuration. Knox Capture uses a simple EMM-based deployment model. You first need to export a scanning configuration as a .txt file, then use an EMM add the file to your app configuration to deploy Knox Capture as a managed-app to your end-users. Exporting a configuration Exporting and sharing a scan configuration enables other devices apply the configuration to their installation. #Export options An IT admin can use several methods to export the configuration: Save it as a file on the device. Email it as a file attachment. Use Nearby share to send to another IT admin's device, Generate a QR code that can be scanned by other IT admins. To share a configuration on a per-device basis, transfer the configuration using near-field communication (NFC) or with a QR code. #Launch the export menu Regardless of the export method selected, begin by tapping the Share button in the lower-right of the home page to launch the Share configuration menu. #Save as file To save the file: 1. Tap the Save icon in the Share configuration menu. 2. Enter a name and tap Done. Knox Capture saves the configuration within My Files > Downloads, and displays a success message. #Email file To email the configuration as a text file attachment with the default email program: 1. Tap the email icon within the Share configuration menu. 2. Knox Capture launches the email application and starts a new message with the configuration file attached. #Nearby share To share a configuration with another device using Nearby share: 1. Tap the Nearby icon within the Share configuration menu. 2. Ensure Nearby Share is turned on for both the transmitting and receiving devices. 3. On the receiving device, tap the Device nearby is sharing popup that appears. #QR code To generate a QR code that can be scanned by other devices to import the configuration, tap the QR code option in the Share configuration menu. Knox Capture generates and displays a QR code. Optionally save or email the QR code by tapping either the Save or Email button. Tap Save to save the QR code as an image within the device My Files > Downloads folder. Tap Email to launch the default email app. The resulting email message includes instructions for importing the configuration using the QR code. If the configuration is too large for one QR code, Knox Capture generates multiple QR codes in a PDF file. The end user must scan them all to complete the import process. Deploying through an EMM To deploy Knox Capture with a custom scanning configuration across a fleet of devices, set the scan configuration and use the EMM console to add it to Knox Capture's App Config in Managed Google Play. Doing so ensures devices that the app runs for end-users in Managed mode. Deployment varies depending on the EMM provider, but should resemble the following flow: 1. Install Knox Capture on an admin device, configure the app, and export the configuration as a text file. 2. Add the Knox Capture app to your Managed Google Play Store. 3. Assign the app to a group or organization and launch the app configuration dialog. In most consoles, the app configuration (or App Config) dialog opens as a pop-up window or modal. 4. Activate your license in the EMM. 5. Copy and paste the text of the exported Knox Capture configuration into the provided configuration field. 6. Save the updated settings and deploy. If you do not add a configuration for Knox Capture in Managed Google Play when updating a license key, the app operates according to its _previous_ configuration. For example, a device with an existing scan configuration will continue to operate in Managed mode after updating the license key. However, a new device without an existing configuration will operate in Admin mode. To ensure _all_ devices operate in Managed mode, prepare and include the configuration each time you add or modify the app within the EMM console. Sharing and importing configurations Once a configuration has been exported, it can be shared with other devices running the app in Admin mode\", metadata={'source': 'all_processed_data.json', 'seq_num': 14, 'title': 'Export and deploy configuration', 'url': 'https://docs.samsungknox.com/admin/knox-capture/how-to-guides/export-and-deploy-configuration', 'project': 'KCAP', 'last_updated': '2023-07-26', 'family_tree': 'parent', 'parent_id': None}), 0.9746821059475592)]\n",
      "##############################\n",
      "similar_docs_keyword\n",
      "##############################\n",
      "[(Document(page_content=\"How to receive a Knox customer ID. This article will guide you on how to receive a Knox customer ID. How to receive a Knox customer ID To get your Knox customer ID: 1. Create a Samsung account. 2. Apply for Knox Suite trial. 3. When your customer account is approved, you'll receive a customer ID. Provide your customer ID to your reseller, so they can upload your device details to SamsungKnox.com.\", metadata={'source': 'all_processed_data.json', 'seq_num': 86, 'title': 'How to receive a Knox customer ID', 'url': 'https://docs.samsungknox.com/admin/knox-suite/kbas/kba-how-to-receive-knox-customer-id', 'project': 'KS', 'last_updated': '2023-07-26', 'family_tree': 'parent', 'parent_id': None, 'id': 'a042eff6-1922-463d-9487-d1d45592836e'}), 1.0), (Document(page_content=\"How-to videos. This section contains how-to videos related to Knox Suite. Getting Started with Knox Suite This video walks you through how to get started with Knox Suite. How to use the Enterprise Edition dashboard to track security updates This video introduces you to the Enterprise Edition dashboard's Security Updates tab, which lets you track the release dates of upcoming security patches for your Galaxy Enterprise Edition devices.\", metadata={'source': 'all_processed_data.json', 'seq_num': 63, 'title': 'How-to videos', 'url': 'https://docs.samsungknox.com/admin/knox-suite/how-to-videos', 'project': 'KS', 'last_updated': '2023-07-26', 'family_tree': 'parent', 'parent_id': None, 'id': '6053e90a-383e-4587-8b5e-621998cd9f2a'}), 0.9876659935498193), (Document(page_content='How to generate a 2- or 3-year license key. This article will guide you on how to generate a 2- or 3-year Knox Suite license. How to generate a 2- or 3-year license key To generate a 2-3 year license key: 1. Generate a 1-year license through SamsungKnox.com. 2. Contact your reseller to extend your license. You do not need to wait until the end of the first year to do this.', metadata={'source': 'all_processed_data.json', 'seq_num': 85, 'title': 'How to generate a 2- or 3-year license key', 'url': 'https://docs.samsungknox.com/admin/knox-suite/kbas/kba-how-to-generate-two-or-three-year-license-key', 'project': 'KS', 'last_updated': '2023-07-26', 'family_tree': 'parent', 'parent_id': None, 'id': '84c852ef-02c5-4dca-b076-04c966ac96b0'}), 0.9379126604965363), (Document(page_content=\"Videos. This section contains product and how-to videos related to Knox Capture. Getting started with Samsung Knox Capture In this video, we'll show you how to use Samsung Knox Capture to transform your mobile devices into powerful barcode scanners that can read, process, and output barcode data into other applications. Samsung Knox Capture: Enterprise-grade mobile scanning solution in Galaxy device This product intro video shows you how easy it is to transform rugged Samsung devices like the Galaxy XCover Pro into enterprise-grade barcode scanners.\", metadata={'source': 'all_processed_data.json', 'seq_num': 2, 'title': 'Videos', 'url': 'https://docs.samsungknox.com/admin/knox-capture/how-to-videos', 'project': 'KCAP', 'last_updated': '2023-07-26', 'family_tree': 'parent', 'parent_id': None, 'id': 'e0caaea3-6ef4-4044-a876-9735d99b9b5f'}), 0.9232655142770316), (Document(page_content=\". IT admins: Get started with Knox Capture - Learn how to create a new scanning profile, configure scan engine settings, perform a test scan, and export scanning configurations for deployment through an EMM/UEM as an IT admin. End-users: Get started with Knox Capture - Learn how to review scanning profile settings, configure hardware key settings, and perform barcode scans from a business app as a device end-user. #How-to topics For in-depth explanations and detailed walkthroughs of key Knox Capture features, refer to the following how-to topics for more information: Manage licenses - Learn about the Knox Capture licensing procedure, and how to switch between Knox Capture and Knox Capture: Scandit Edition licenses on the app. Scanning profiles - Learn how profiles work, what the default profile does, and how to create new profiles for different scanning scenarios. Apps and activities - The component of every scanning profile that defines which busiess apps can launch the camera scanner. Learn how apps and activities work, and how you can customize them in the scanning profiles. Scan engine settings - These settings define how barcodes are scanned, and what happens with the data after each scan. Learn how to set barcode types, change scan modes, control viewfinder size, and more. Keystroke output - The scanning profile setting that defines how data is formatted after each successful scan. Learn how to append or prepend special characters to scanned data, or how to insert ASCII Tabs and Enter keys at the end of each barcode to allow for easier processing in spreadsheets and forms. Test mode - A feature that lets you test a scanning profile's apps, barcode types, and keystroke ouput rules before exporting the configuration for deployment. Deploy configuration to EMM/UEM - Learn about the various scanning profile export options, and how to use the exported configuration file in an EMM/UEM to deploy Knox Capture to end-users. Set camera scan trigger - A feature that allows IT admins to specify whether a user can trigger a camera scan using a hardware button on the device, an on-screen floating action button, or both. Learn about the different button options, and how to configure the triggers from both the admin and end-user's point of view. Connect a hardware scanner - Certain enterprises may wish to use their existing hardware wedge scanners alongside Knox Capture. Learn how to connect Bluetooth and USB scanners to a device running Knox Capture, and how to perform a test scan once a scanner is connected. Configure the output path - Some organizations may want to send scanned Knox Capture data to a bluetooth keyboard connected to a PC, emulating the functionality of a traditional hardware scanner. Learn how output paths work, and how to pair and unpair your device to a bluetooth keyboard. Knox Capture AR - A feature introduced in Knox Capture v1.7 that provides important product information inside the camera preview window during a barcode scan. Learn what AR (Augmented Reality) is in Knox Capture, how to create AR templates, and how to use AR when performing barcode scans.\", metadata={'source': 'all_processed_data.json', 'seq_num': 3, 'title': 'Overview', 'url': 'https://docs.samsungknox.com/admin/knox-capture/overview', 'project': 'KCAP', 'last_updated': '2023-07-26', 'family_tree': 'parent', 'parent_id': None, 'id': '75bb0038-6007-4244-815b-1983b0556112'}), 0.9228623560120807), (Document(page_content='How can I tell if my license has expired? . If the trial or paid license has expired, or if the 100 free scans have been consumed, a notification displays on the home screen of the Knox Capture app with information on how to purchase or re-activate a license.', metadata={'source': 'all_processed_data.json', 'seq_num': 50, 'title': 'How can I tell if my license has expired? ', 'url': 'https://docs.samsungknox.com/admin/knox-capture/faq/#tell-if-license-expired', 'project': 'KCAP', 'last_updated': '2023-07-26', 'family_tree': 'parent', 'parent_id': None, 'id': '91bbb713-3a5c-4669-b065-0ba10d65b1eb'}), 0.9210643800027876), (Document(page_content=\"Knox Capture knowledge base articles. Explore our Knox Capture knowledge base for: Known issues and workarounds, How-to guides for less common setups, General Knox Capture articles Scanning overlay doesn't appear when launching the camera Cannot output scanned barcode data to HTML fields in Chromium-based web browsers Scan data is only partially sent to business app Barcode capture not working for business app Current device software is unsupported when installing Knox Capture How to trigger camera scan with XCover key on Verizon device How to prevent users from remapping the XCover key How to turn on device flashlight with Knox Capture scanner active Out-of-range barcode still scanned successfully by Knox Capture Policy or license updates not applied to Knox Capture app Keystroke output data sent to browser or web app instead of business app\", metadata={'source': 'all_processed_data.json', 'seq_num': 62, 'title': 'Knox Capture knowledge base articles', 'url': 'https://docs.samsungknox.com/admin/knox-capture/kbas', 'project': 'KCAP', 'last_updated': '2023-07-26', 'family_tree': 'parent', 'parent_id': None, 'id': '16387b17-407b-4915-9cfc-8186f4bb2514'}), 0.9206570912880379)]\n",
      "##############################\n",
      "similar_docs\n",
      "##############################\n",
      "[(Document(page_content=\"Scanning profiles. Knox Capture acts as a wedge by translating barcode data into keystrokes that can be sent to a business application. But how does Knox Capture know what barcode types to scan, how to interpret scanned data, and which business applications to pass the data to? For Knox Capture, the *Scanning profile* defines the app's core behavior. A Scanning Profile is a configuration file that gets created or modified by an IT admin using the Knox Capture application. The profile defines how Knox Capture performs a barcode scan, and primarily consists of the following parameters: 1. Apps and activities - define which applications that can launch the Knox Capture scanner. 2. Scanner engine settings - specifying the barcode technologies (QR, Code 128, UPCA, etc.), scanning methods (single barcode, multi barcode), and camera behavior (enable flash, allow camera zoom). 3. Keystroke output rules - specifying how barcode data gets converted into keystrokes (append Tab or Enter character to each barcode, add prefix or suffix characters, convert output to hex characters, etc.) Default scanning profile Out-of-the-box, Knox Capture includes a default scanning profile that gets automatically associated with all apps on the device. In other words, when Knox Capture is launched, *any* app can trigger the camera scanner and receive barcode data in the form of keystrokes. This makes it easy to use Knox Capture for basic scanning purposes without any additional setup. When using the default scanning profile, IT admins can change the profile's scan engine settings and data processing rules, however they cannot change the default profile's apps and activities behavior. For example, an IT admin can modify the default profile to append a Tab key at the end of each barcode, but they cannot change which apps can trigger the scanner. Custom scanning profiles While the default scanning profile allows Knox Capture to be used right away without any configuration, IT admins may want to use a custom profile to better suit their needs. With a custom profile, IT admins control which apps and activities can trigger a barcode scan. Any apps that you don't select in the custom profile will follow the default behavior in that the barcode scanner is active for all apps not specified in the custom profile. Creating custom scanning profiles Custom profiles can be created by modifying the default profile settings, or by creating entirely new profiles altogether. 1. Tap the + button near the top of the app UI to open the profile creation options. 2. Select Create profile to start a profile from scratch, or select Duplicate existing profile to copy the settings from an existing (custom or default) profile. Alternatively, you can create a custom profile by clicking Create profile without clicking the + button. 3. Provide a profile name, then tap Done. The new profile appears in the profiles area below Defult scanning profile.\", metadata={'source': 'all_processed_data.json', 'seq_num': 13, 'title': 'Scanning profiles', 'url': 'https://docs.samsungknox.com/admin/knox-capture/how-to-guides/create-scanning-profiles', 'project': 'KCAP', 'last_updated': '2023-07-26', 'family_tree': 'parent', 'parent_id': None}), 0.0001537543295518122), (Document(page_content=\". On the Knox Capture home screen, tap on the profile you want to create a rule for. 2. Under Keystroke output and data formatting, tap Advanced data formatting. 3. In the top right corner of the screen, tap +. 4. Enter a name for the rule, then tap Done. 5. Under Set criteria, configure the below settings as needed: Barcode type - The types of barcodes that the rule applies to. String length - The required length of scanned data to trigger the rule. String - A string that must be present for the rule to trigger. String position - When the cursor reaches this position in the string, the rule executes. 6. Under Set actions in order, tap Add actions. 7. A popup appears, prompting you to select actions you want to add. See the table below for details on each action. Tap Add when you're finished. 8. Configure the actions as necessary, then tap < in the top left to return to the rules list. 9. Repeat Steps 3-8 for any additional rules you want to create, then rearrange them in the order they should be executed. Refer to the advanced data formatting actions below to move the cursor, modify, send, or delay data being sent to business apps. If you add multiple actions to your rule, you can change the order in which they execute. Action Description Options Default Cursor movement Sets the cursor to move to a location in the output data. Skip ahead by characters &mdash; Moves the cursor forward by a specific number of characters. 1 Skip back by characters &mdash; Moves the cursor backwards by a specific number of characters. 1 Skip to start &mdash; Moves the cursor to the beginning of the output data. None Move ahead to substring &mdash; Moves the cursor forward until a specific string is found. None Move past substring &mdash; Moves the cursor past a specific string in the output data. None Data modification Sets the elements for Knox Capture to add, edit, or remove from the data. Remove extra spaces &mdash; Deletes all but one space between words, and removes any blank space at the beginning and end of the data. None Remove all spaces &mdash; Remove all spaces in the data. None Remove leading zeros &mdash; Remove any zeroes at the beginning of the data. None Pad with zeros to the left &mdash; Specify the desired length of the output. Knox Capture pads the left side of the string with zeros until the desired length is reached. 1 Replace string &mdash; Replaces a specific string with a new, specified string. You must specify both strings. None Remove characters When sending data, removes a specific number of characters from the given positions. You must provide the start position and the number of characters to remove. Start position: 1 Number of characters: 1 Data sending Controls a selected amount of data to send to business apps. Send next characters &mdash; Sends a specific number of characters from the current cursor position. 1 Send remaining characters &mdash; Sends all data after the current cursor position. None Send up to substring &mdash; Sends all data up to a specific string. None Send pause &mdash; Pauses all actions for a specific number of milliseconds (max. 120000). 50ms Send string &mdash; Sends a specific string when the corresponding rule is triggered. None Send cha &mdash; Sends a specific ASCII/Unicode character when the corresponding rule is triggered. 32\", metadata={'source': 'all_processed_data.json', 'seq_num': 9, 'title': 'Configure keystroke output and data formatting', 'url': 'https://docs.samsungknox.com/admin/knox-capture/how-to-guides/configure-keystroke-output-and-data-formatting', 'project': 'KCAP', 'last_updated': '2023-07-26', 'family_tree': 'parent', 'parent_id': None}), 0.00011314590719848638), (Document(page_content=\". Scanned raw - The scanned barcode data in hexadecimal format without any keystroke output rules applied. 7. Inspect and compare the Scanned data to the Output data to ensure you've set the correct keystroke output rules. Repeat this test with other apps as required. 8. Exit test mode tapping X in the top-right corner of the test overlay, then in the confirmation pop-up, tap Close to return to the Test apps list. Step 6: Export configuration After editing your profiles, you can export the configuration as a .txt file. This configuration file can be shared with other Knox Capture IT admins, or it can be used in your EMM/UEM to deploy Knox Capture as a managed-app to end-users. To export a scanning configuration: 1. On the home screen, tap the Share button in the lower-right corner. 2. In the pop-up, seelct Email, then select your preferred email app. The configuration file is automatically attached. 3. After sending the email with the configuration file attached, re-launch Knox Capture. You should see a notification confirming the email submission followed by the date and time. Step 7: Deploy Knox Capture using an EMM/UEM You have now configured a basic Knox Capture configuration and exported it as an email attachment. The only thing left to do is use the configuration to deploy Knox Capture as a managed-app to your end-users. Actual deployment steps vary depending on the EMM provider, but they should generally resemble the following: 1. Add the Knox Capture app to your Managed Google Play Store. 2. Assign the app to a group or organization and launch the app configuration dialog. In a typical console, the app configuration dialog opens as a pop-up window or modal. 3. Activate the license by pasting it into the field within the app configuration (App Config) screen. 4. Copy and paste the exported configuration into the provided app configuration field. Adding a configuration to Managed Google Play is the only step necessary to ensure all devices installing the app operate in Managed mode. However, if you're using a trial version of Knox Capture, you'll need to push a Knox Suite license key as well. Refer to the following table for details on the configuration data: Configuration key , Configuration type , Configuration value - , - , - smartscan_license , String , Knox license key smartscan_config , String , Exported configuration data from Knox Capture 5. Save the updated settings and deploy. Summary You have now completed a typical Knox Capture workflow for IT admins, and have been introduced to configuring and deploying the app to managed devices. For more information, browse the how-to guides for detailed instructions for each feature.\", metadata={'source': 'all_processed_data.json', 'seq_num': 6, 'title': 'Admin get started', 'url': 'https://docs.samsungknox.com/admin/knox-capture/get-started/admin-tutorial', 'project': 'KCAP', 'last_updated': '2023-07-26', 'family_tree': 'parent', 'parent_id': None}), 0.00010396829316989457), (Document(page_content=\"Why is Knox Capture called a wedge? . A wedge barcode scanner is a physical device that attaches to a keyboard or a computer. It reads barcode data and translates it to a string that is then input into the system, as if a user had manually typed the string using the keyboard. In the same way, Knox Capture acts as middleware that reads barcode data captured by the XCover Pro device, translates it into a string, formats the string, and then sends it to a third-party business app that understands the resulting data. Knox Capture takes care of integrating with your business app, so that you don't have to build barcode scanning logic into your business app using a software development kit (SDK). So how does Knox Capture know which barcodes to read, how to format the data, and which business app to send the data to? The IT admin defines those details in a profile in Knox Capture. Once the IT admin has configured the profile, they push it to enterprise devices through their EMM. Device users can then start using the business app to scan barcodes.\", metadata={'source': 'all_processed_data.json', 'seq_num': 40, 'title': 'Why is Knox Capture called a wedge? ', 'url': 'https://docs.samsungknox.com/admin/knox-capture/faq/#why-is-knox-capture-called-wedge', 'project': 'KCAP', 'last_updated': '2023-07-26', 'family_tree': 'parent', 'parent_id': None}), 7.73167485021986e-05), (Document(page_content=\"How to receive a Knox customer ID. This article will guide you on how to receive a Knox customer ID. How to receive a Knox customer ID To get your Knox customer ID: 1. Create a Samsung account. 2. Apply for Knox Suite trial. 3. When your customer account is approved, you'll receive a customer ID. Provide your customer ID to your reseller, so they can upload your device details to SamsungKnox.com.\", metadata={'source': 'all_processed_data.json', 'seq_num': 86, 'title': 'How to receive a Knox customer ID', 'url': 'https://docs.samsungknox.com/admin/knox-suite/kbas/kba-how-to-receive-knox-customer-id', 'project': 'KS', 'last_updated': '2023-07-26', 'family_tree': 'parent', 'parent_id': None, 'id': 'a042eff6-1922-463d-9487-d1d45592836e'}), 7.656755042262375e-05)]\n",
      "\n",
      "==========  Results  ==========\n",
      "\n",
      "1. question: how to vefify DM\n",
      "2. # documents: 5\n",
      "3. Documents: \n",
      "\n",
      "-----------------------------------------------\n",
      "1. Chunk: 2942 Characters\n",
      "-----------------------------------------------\n",
      "Scanning profiles. Knox Capture acts as a wedge by translating barcode data into keystrokes that can\n",
      "be sent to a business application. But how does Knox Capture know what barcode types to scan, how to\n",
      "interpret scanned data, and which business applications to pass the data to? For Knox Capture, the\n",
      "*Scanning profile* defines the app's core behavior. A Scanning Profile is a configuration file that\n",
      "gets created or modified by an IT admin using the Knox Capture application. The profile defines how\n",
      "Knox Capture performs a barcode scan, and primarily consists of the following parameters: 1. Apps\n",
      "and activities - define which applications that can launch the Knox Capture scanner. 2. Scanner\n",
      "engine settings - specifying the barcode technologies (QR, Code 128, UPCA, etc.), scanning methods\n",
      "(single barcode, multi barcode), and camera behavior (enable flash, allow camera zoom). 3. Keystroke\n",
      "output rules - specifying how barcode data gets converted into keystrokes (append Tab or Enter\n",
      "character to each barcode, add prefix or suffix characters, convert output to hex characters, etc.)\n",
      "Default scanning profile Out-of-the-box, Knox Capture includes a default scanning profile that gets\n",
      "automatically associated with all apps on the device. In other words, when Knox Capture is launched,\n",
      "*any* app can trigger the camera scanner and receive barcode data in the form of keystrokes. This\n",
      "makes it easy to use Knox Capture for basic scanning purposes without any additional setup. When\n",
      "using the default scanning profile, IT admins can change the profile's scan engine settings and data\n",
      "processing rules, however they cannot change the default profile's apps and activities behavior. For\n",
      "example, an IT admin can modify the default profile to append a Tab key at the end of each barcode,\n",
      "but they cannot change which apps can trigger the scanner. Custom scanning profiles While the\n",
      "default scanning profile allows Knox Capture to be used right away without any configuration, IT\n",
      "admins may want to use a custom profile to better suit their needs. With a custom profile, IT admins\n",
      "control which apps and activities can trigger a barcode scan. Any apps that you don't select in the\n",
      "custom profile will follow the default behavior in that the barcode scanner is active for all apps\n",
      "not specified in the custom profile. Creating custom scanning profiles Custom profiles can be\n",
      "created by modifying the default profile settings, or by creating entirely new profiles altogether.\n",
      "1. Tap the + button near the top of the app UI to open the profile creation options. 2. Select\n",
      "Create profile to start a profile from scratch, or select Duplicate existing profile to copy the\n",
      "settings from an existing (custom or default) profile. Alternatively, you can create a custom\n",
      "profile by clicking Create profile without clicking the + button. 3. Provide a profile name, then\n",
      "tap Done. The new profile appears in the profiles area below Defult scanning profile.\n",
      "metadata:\n",
      " {'source': 'all_processed_data.json', 'seq_num': 13, 'title': 'Scanning profiles', 'url':\n",
      "'https://docs.samsungknox.com/admin/knox-capture/how-to-guides/create-scanning-profiles', 'project':\n",
      "'KCAP', 'last_updated': '2023-07-26', 'family_tree': 'parent', 'parent_id': None}\n",
      "-----------------------------------------------\n",
      "2. Chunk: 3328 Characters\n",
      "-----------------------------------------------\n",
      ". On the Knox Capture home screen, tap on the profile you want to create a rule for. 2. Under\n",
      "Keystroke output and data formatting, tap Advanced data formatting. 3. In the top right corner of\n",
      "the screen, tap +. 4. Enter a name for the rule, then tap Done. 5. Under Set criteria, configure the\n",
      "below settings as needed: Barcode type - The types of barcodes that the rule applies to. String\n",
      "length - The required length of scanned data to trigger the rule. String - A string that must be\n",
      "present for the rule to trigger. String position - When the cursor reaches this position in the\n",
      "string, the rule executes. 6. Under Set actions in order, tap Add actions. 7. A popup appears,\n",
      "prompting you to select actions you want to add. See the table below for details on each action. Tap\n",
      "Add when you're finished. 8. Configure the actions as necessary, then tap < in the top left to\n",
      "return to the rules list. 9. Repeat Steps 3-8 for any additional rules you want to create, then\n",
      "rearrange them in the order they should be executed. Refer to the advanced data formatting actions\n",
      "below to move the cursor, modify, send, or delay data being sent to business apps. If you add\n",
      "multiple actions to your rule, you can change the order in which they execute. Action Description\n",
      "Options Default Cursor movement Sets the cursor to move to a location in the output data. Skip ahead\n",
      "by characters &mdash; Moves the cursor forward by a specific number of characters. 1 Skip back by\n",
      "characters &mdash; Moves the cursor backwards by a specific number of characters. 1 Skip to start\n",
      "&mdash; Moves the cursor to the beginning of the output data. None Move ahead to substring &mdash;\n",
      "Moves the cursor forward until a specific string is found. None Move past substring &mdash; Moves\n",
      "the cursor past a specific string in the output data. None Data modification Sets the elements for\n",
      "Knox Capture to add, edit, or remove from the data. Remove extra spaces &mdash; Deletes all but one\n",
      "space between words, and removes any blank space at the beginning and end of the data. None Remove\n",
      "all spaces &mdash; Remove all spaces in the data. None Remove leading zeros &mdash; Remove any\n",
      "zeroes at the beginning of the data. None Pad with zeros to the left &mdash; Specify the desired\n",
      "length of the output. Knox Capture pads the left side of the string with zeros until the desired\n",
      "length is reached. 1 Replace string &mdash; Replaces a specific string with a new, specified string.\n",
      "You must specify both strings. None Remove characters When sending data, removes a specific number\n",
      "of characters from the given positions. You must provide the start position and the number of\n",
      "characters to remove. Start position: 1 Number of characters: 1 Data sending Controls a selected\n",
      "amount of data to send to business apps. Send next characters &mdash; Sends a specific number of\n",
      "characters from the current cursor position. 1 Send remaining characters &mdash; Sends all data\n",
      "after the current cursor position. None Send up to substring &mdash; Sends all data up to a specific\n",
      "string. None Send pause &mdash; Pauses all actions for a specific number of milliseconds (max.\n",
      "120000). 50ms Send string &mdash; Sends a specific string when the corresponding rule is triggered.\n",
      "None Send cha &mdash; Sends a specific ASCII/Unicode character when the corresponding rule is\n",
      "triggered. 32\n",
      "metadata:\n",
      " {'source': 'all_processed_data.json', 'seq_num': 9, 'title': 'Configure keystroke output and data\n",
      "formatting', 'url': 'https://docs.samsungknox.com/admin/knox-capture/how-to-guides/configure-\n",
      "keystroke-output-and-data-formatting', 'project': 'KCAP', 'last_updated': '2023-07-26',\n",
      "'family_tree': 'parent', 'parent_id': None}\n",
      "-----------------------------------------------\n",
      "3. Chunk: 2686 Characters\n",
      "-----------------------------------------------\n",
      ". Scanned raw - The scanned barcode data in hexadecimal format without any keystroke output rules\n",
      "applied. 7. Inspect and compare the Scanned data to the Output data to ensure you've set the correct\n",
      "keystroke output rules. Repeat this test with other apps as required. 8. Exit test mode tapping X in\n",
      "the top-right corner of the test overlay, then in the confirmation pop-up, tap Close to return to\n",
      "the Test apps list. Step 6: Export configuration After editing your profiles, you can export the\n",
      "configuration as a .txt file. This configuration file can be shared with other Knox Capture IT\n",
      "admins, or it can be used in your EMM/UEM to deploy Knox Capture as a managed-app to end-users. To\n",
      "export a scanning configuration: 1. On the home screen, tap the Share button in the lower-right\n",
      "corner. 2. In the pop-up, seelct Email, then select your preferred email app. The configuration file\n",
      "is automatically attached. 3. After sending the email with the configuration file attached, re-\n",
      "launch Knox Capture. You should see a notification confirming the email submission followed by the\n",
      "date and time. Step 7: Deploy Knox Capture using an EMM/UEM You have now configured a basic Knox\n",
      "Capture configuration and exported it as an email attachment. The only thing left to do is use the\n",
      "configuration to deploy Knox Capture as a managed-app to your end-users. Actual deployment steps\n",
      "vary depending on the EMM provider, but they should generally resemble the following: 1. Add the\n",
      "Knox Capture app to your Managed Google Play Store. 2. Assign the app to a group or organization and\n",
      "launch the app configuration dialog. In a typical console, the app configuration dialog opens as a\n",
      "pop-up window or modal. 3. Activate the license by pasting it into the field within the app\n",
      "configuration (App Config) screen. 4. Copy and paste the exported configuration into the provided\n",
      "app configuration field. Adding a configuration to Managed Google Play is the only step necessary to\n",
      "ensure all devices installing the app operate in Managed mode. However, if you're using a trial\n",
      "version of Knox Capture, you'll need to push a Knox Suite license key as well. Refer to the\n",
      "following table for details on the configuration data: Configuration key , Configuration type ,\n",
      "Configuration value - , - , - smartscan_license , String , Knox license key smartscan_config ,\n",
      "String , Exported configuration data from Knox Capture 5. Save the updated settings and deploy.\n",
      "Summary You have now completed a typical Knox Capture workflow for IT admins, and have been\n",
      "introduced to configuring and deploying the app to managed devices. For more information, browse the\n",
      "how-to guides for detailed instructions for each feature.\n",
      "metadata:\n",
      " {'source': 'all_processed_data.json', 'seq_num': 6, 'title': 'Admin get started', 'url':\n",
      "'https://docs.samsungknox.com/admin/knox-capture/get-started/admin-tutorial', 'project': 'KCAP',\n",
      "'last_updated': '2023-07-26', 'family_tree': 'parent', 'parent_id': None}\n",
      "-----------------------------------------------\n",
      "4. Chunk: 1055 Characters\n",
      "-----------------------------------------------\n",
      "Why is Knox Capture called a wedge? . A wedge barcode scanner is a physical device that attaches to\n",
      "a keyboard or a computer. It reads barcode data and translates it to a string that is then input\n",
      "into the system, as if a user had manually typed the string using the keyboard. In the same way,\n",
      "Knox Capture acts as middleware that reads barcode data captured by the XCover Pro device,\n",
      "translates it into a string, formats the string, and then sends it to a third-party business app\n",
      "that understands the resulting data. Knox Capture takes care of integrating with your business app,\n",
      "so that you don't have to build barcode scanning logic into your business app using a software\n",
      "development kit (SDK). So how does Knox Capture know which barcodes to read, how to format the data,\n",
      "and which business app to send the data to? The IT admin defines those details in a profile in Knox\n",
      "Capture. Once the IT admin has configured the profile, they push it to enterprise devices through\n",
      "their EMM. Device users can then start using the business app to scan barcodes.\n",
      "metadata:\n",
      " {'source': 'all_processed_data.json', 'seq_num': 40, 'title': 'Why is Knox Capture called a wedge?\n",
      "', 'url': 'https://docs.samsungknox.com/admin/knox-capture/faq/#why-is-knox-capture-called-wedge',\n",
      "'project': 'KCAP', 'last_updated': '2023-07-26', 'family_tree': 'parent', 'parent_id': None}\n",
      "-----------------------------------------------\n",
      "5. Chunk: 399 Characters\n",
      "-----------------------------------------------\n",
      "How to receive a Knox customer ID. This article will guide you on how to receive a Knox customer ID.\n",
      "How to receive a Knox customer ID To get your Knox customer ID: 1. Create a Samsung account. 2.\n",
      "Apply for Knox Suite trial. 3. When your customer account is approved, you'll receive a customer ID.\n",
      "Provide your customer ID to your reseller, so they can upload your device details to\n",
      "SamsungKnox.com.\n",
      "metadata:\n",
      " {'source': 'all_processed_data.json', 'seq_num': 86, 'title': 'How to receive a Knox customer ID',\n",
      "'url': 'https://docs.samsungknox.com/admin/knox-suite/kbas/kba-how-to-receive-knox-customer-id',\n",
      "'project': 'KS', 'last_updated': '2023-07-26', 'family_tree': 'parent', 'parent_id': None, 'id':\n",
      "'a042eff6-1922-463d-9487-d1d45592836e'}\n"
     ]
    }
   ],
   "source": [
    "query = \"how to vefify DM\"\n",
    "search_hybrid_result = opensearch_hybrid_retriever.get_relevant_documents(query)\n",
    "\n",
    "print(\"\\n==========  Results  ==========\\n\")\n",
    "print(f'1. question: {query}')\n",
    "print(f'2. # documents: {len(search_hybrid_result)}')\n",
    "print(\"3. Documents: \\n\")\n",
    "\n",
    "show_context_used(search_hybrid_result)"
   ]
  },
  {
   "cell_type": "markdown",
   "id": "a981abe7-5208-48f5-a9cc-8c557e9941ca",
   "metadata": {},
   "source": [
    "## 5. RAG using RetrievalQA powered by LangChain"
   ]
  },
  {
   "cell_type": "code",
   "execution_count": null,
   "id": "08cf6d2b-451b-499c-aec2-bb6f5abafbb0",
   "metadata": {
    "tags": []
   },
   "outputs": [],
   "source": [
    "from utils.rag import run_RetrievalQA\n",
    "from langchain.prompts import PromptTemplate"
   ]
  },
  {
   "cell_type": "markdown",
   "id": "b490df1f-8113-4dd1-a578-a3e1a6918fde",
   "metadata": {
    "tags": []
   },
   "source": [
    "### Prompting\n",
    "- [TIP] Prompt의 instruction의 경우 한글보다 영어로 했을 때 더 좋은 결과를 얻을 수 있습니다."
   ]
  },
  {
   "cell_type": "code",
   "execution_count": 285,
   "id": "572bc0ee-afb8-4dc8-b5ae-629920b8504b",
   "metadata": {
    "tags": []
   },
   "outputs": [],
   "source": [
    "prompt_template = \"\"\"\n",
    "\\n\\nHuman: Here is the context, inside <context></context> XML tags.\n",
    "\n",
    "<context>\n",
    "{context}\n",
    "</context>\n",
    "\n",
    "Only using the context as above, answer the following question with the rules as below:\n",
    "    - Don't insert XML tag such as <context> and </context> when answering.\n",
    "    - Write as much as you can\n",
    "    - Be courteous and polite\n",
    "    - Only answer the question if you can find the answer in the context with certainty.\n",
    "\n",
    "Question:\n",
    "{question}\n",
    "\n",
    "If the answer is not in the context, just say \"Could not find answer in given contexts.\"\n",
    "\n",
    "\\n\\nAssistant:\"\"\"\n",
    "\n",
    "PROMPT = PromptTemplate(\n",
    "    template=prompt_template, input_variables=[\"context\", \"question\"]\n",
    ")"
   ]
  },
  {
   "cell_type": "markdown",
   "id": "c66157a6-aec8-4555-a90f-1178e6f4f6e0",
   "metadata": {},
   "source": [
    "### Update Search Params (Optional)"
   ]
  },
  {
   "cell_type": "code",
   "execution_count": 271,
   "id": "64df2daf-8b42-472a-885f-97320ee98132",
   "metadata": {
    "tags": []
   },
   "outputs": [],
   "source": [
    "from langchain.chains import RetrievalQA"
   ]
  },
  {
   "cell_type": "code",
   "execution_count": 299,
   "id": "d2697230-6962-43d8-8917-ba9daa4295bb",
   "metadata": {
    "tags": []
   },
   "outputs": [],
   "source": [
    "opensearch_hybrid_retriever.update_search_params(\n",
    "    k=5,\n",
    "    minimum_should_match=0,\n",
    "    filter=[],\n",
    "    reranker=True,\n",
    "    reranker_endpoint_name=endpoint_name,\n",
    "    parent_document=True, # enable parent document\n",
    "    verbose=True\n",
    ")"
   ]
  },
  {
   "cell_type": "markdown",
   "id": "aee26c22-b674-4f4f-a87b-29508e336fda",
   "metadata": {},
   "source": [
    "### Request"
   ]
  },
  {
   "cell_type": "code",
   "execution_count": 300,
   "id": "95fa61d3-9256-432a-96a3-2c696c97ea68",
   "metadata": {
    "tags": []
   },
   "outputs": [],
   "source": [
    "qa = RetrievalQA.from_chain_type(\n",
    "    llm=llm_text,\n",
    "    chain_type=\"stuff\",\n",
    "    retriever=opensearch_hybrid_retriever,\n",
    "    return_source_documents=True,\n",
    "    chain_type_kwargs={\n",
    "        \"prompt\": PROMPT,\n",
    "        \"verbose\": False,\n",
    "    },\n",
    "    verbose=False\n",
    ")"
   ]
  },
  {
   "cell_type": "code",
   "execution_count": 301,
   "id": "390ad324-40b3-4bcb-92b9-50eb080492a5",
   "metadata": {
    "tags": []
   },
   "outputs": [
    {
     "name": "stdout",
     "output_type": "stream",
     "text": [
      "===== ParentDocument =====\n",
      "filter: [{'term': {'metadata.family_tree': 'child'}}]\n",
      "# child_docs: 7\n",
      "# parent docs: 5\n",
      "# duplicates: 2\n",
      "\n",
      "[Exeeds EMB token limit] Number of chunk_docs after split and chunking= 7\n",
      "\n",
      "\n",
      "[Exeeds EMB token limit] Number of chunk_docs after split and chunking= 6\n",
      "\n",
      "\n",
      "[Exeeds EMB token limit] Number of chunk_docs after split and chunking= 5\n",
      "\n",
      "\n",
      "[Exeeds EMB token limit] Number of chunk_docs after split and chunking= 4\n",
      "\n",
      "##############################\n",
      "async_mode\n",
      "##############################\n",
      "True\n",
      "##############################\n",
      "reranker\n",
      "##############################\n",
      "True\n",
      "##############################\n",
      "rag_fusion\n",
      "##############################\n",
      "False\n",
      "##############################\n",
      "HyDE\n",
      "##############################\n",
      "False\n",
      "##############################\n",
      "parent_document\n",
      "##############################\n",
      "True\n",
      "##############################\n",
      "similar_docs_semantic\n",
      "##############################\n",
      "[(Document(page_content='Knox Suite. Knox Suite is a bundled offering of Knox solutions for enterprise mobility designed to address organizations\\' needs related to security and management throughout the entire device lifecycle. Learn more about Knox Suite #Audience This document is intended for IT Admins. Understand what\\'s included in Knox Suite and how you can use it to manage, secure, and maintain enterprise devices. Learn where to find information on how to perform various tasks with Knox\"Suite services. About Knox Suite Knox Suite is a bundled offering that includes the following Knox products: Knox Platform for Enterprise - A Knox solution that provides military-grade security to Samsung Android phones, tablets, and Tizen watches for business. Knox Mobile Enrollment - A Knox solution that allows you to enroll thousands of Samsung devices in your EMM at once. When used with a Knox Suite license, Knox Mobile Enrollment provides advanced profiles that offer IT admins additional features such as higher control over locking devices. Knox Manage - A Knox solution that allows you to remotely manage your fleet of mobile devices. With this EMM, you create various policies to control how users can use their devices. Knox Asset Intelligence - A data analytics solution that offers operational visibility and actionable insights to improve the management, productivity, and lifecycle of mobile devices. This solution offers real-time monitoring and management of app performance, battery usage, network connectivity, and asset location. Knox E-FOTA - A Knox solution that allows you to remotely deploy OS and security updates to your devices without requiring user interaction. With Knox E-FOTA, you create a campaign, specify the campaign period, assign devices to that campaign, and select the firmware update to be pushed to those devices during the campaign period. Knox Capture - An Android solution that lets users transform their Samsung Galaxy smartphones and tablets into powerful barcode scanners that can read, process, and output barcode information to other applications, all without requiring additional hardware or writing a single line of code. Knox Authentication Manager - A managed Android app for shared Samsung devices that provides multiuser facial biometrics and sign-in automation for increased frontline worker productivity and safety. With Knox Suite, a single license key allows you to use all included Knox products on your devices. This means that you can use the same Knox Suite license key in multiple Knox service admin portals. Benefits of Knox Suite 1. All-in-one Knox B2B package - An end-to-end solution that covers every step of your enterprise mobility journey 2. Simplified license management - You only need one license key to use all included products. 3. Streamlined onboarding process - Register once and gain access to all included Knox products. 4. Seamless IT admin user experience - IT admin can easily access bundled Knox consoles through single sign-on. To get started, click here.', metadata={'source': 'all_processed_data.json', 'seq_num': 65, 'title': 'Knox Suite', 'url': 'https://docs.samsungknox.com/admin/knox-suite', 'project': 'KS', 'last_updated': '2023-07-26', 'family_tree': 'parent', 'parent_id': None}), 1.0), (Document(page_content='What is Knox Suite?. Knox Suite is a bundled offering designed to help enterprise IT admins better manage your fleet of devices. It includes individual services such as Knox Platform for Enterprise, Knox Mobile Enrollment, Knox Manage, Knox E-FOTA, and Knox Asset Intelligence. Key features of Knox Suite include: Secure - Ensure your business data is protected with managed security features at your control. Deploy - Enroll corporate devices to EMM automatically and securely, right out of the box. Manage - Enable comprehensive management over corporate devices and OS versions. Analyze - Strengthen in-depth device analytics for mobile productivity and asset management.', metadata={'source': 'all_processed_data.json', 'seq_num': 74, 'title': ' What is Knox Suite?', 'url': 'https://docs.samsungknox.com/admin/knox-suite/faq/#what-is-knox-suite', 'project': 'KS', 'last_updated': '2023-07-26', 'family_tree': 'parent', 'parent_id': None}), 0.9831972835095236), (Document(page_content='Learn more about Knox Suite. This section describes where you can find instructions on how to perform tasks using the different products included in Knox Suite. General documentation for the Knox Suite services Knox Service , See - , - Knox Manage , Knox Manage Admin Guide Knox Platform for Enterprise , Knox Platform for Enterprise Admin Guide Knox Mobile Enrollment , Knox Mobile Enrollment Admin Guide Knox E-FOTA , Knox E-FOTA Admin Guide Knox Asset Intelligence , Knox Asset Intelligence Admin Guide Knox Capture , Knox Capture Admin Guide Knox Authentication Manager , Knox Authentication Manager Admin Guide Knox Suite operations For information on See Knox service How to set up Knox Manage with Knox Suite Workflow:\"Set up Knox Manage with a Knox Suite license Knox Manage How to check your Knox Suite license usage View and modify a license Note Alternatively, you can sign in to your SamsungKnox.com dashboard and click Licenses to view all licenses you have for all your Knox services. Knox Manage How to upgrade your license key from Knox Manage to Knox Suite Upgrade a license Knox\"Manage How to configure premium Knox features Prerequisite: Workflow:\"Set up Knox Manage with a Knox Suite license Samsung Knox running Android Enterprise Note Policies with a in the Knox Manage admin portal are Knox premium features. These features require a Knox\"Suite license key. Knox Manage How to approve the Knox Service Plugin (KSP) app Prerequisite:Set up Android Enterprise. Approve Knox Service Plugin (KSP). Knox Manage What\\'s next? When you finish evaluating Knox Suite and decide to use it commercially, contact your Knox reseller to purchase a Knox\"Suite license. If you\\'re in need of devices, consider purchasing Enterprise Edition devices if this program is supported in your country. These devices are packaged with a 1-year renewable Knox\"Suite license, among other benefits. Once you\\'ve purchased your Enterprise\"Edition devices, see the Enterprise Edition section for information on how to generate your Knox Suite license.', metadata={'source': 'all_processed_data.json', 'seq_num': 64, 'title': 'Learn more about Knox Suite', 'url': 'https://docs.samsungknox.com/admin/knox-suite/learn-more-about-knox-suite', 'project': 'KS', 'last_updated': '2023-07-26', 'family_tree': 'parent', 'parent_id': None}), 0.9732429595178694), (Document(page_content=\"I am subscribed to an individual Knox cloud service. Can I switch or upgrade to Knox Suite?. Yes. You can upgrade or switch to Knox Suite while using an individual Knox cloud service. After you purchase a Knox Suite license from a Samsung Knox reseller, for Knox Manage and Knox E-FOTA you must update the license keys. Knox Manage users - Replace your existing Knox Manage license key with the new Knox Suite license that you purchased. Select Knox Suite from the Organization or User settings pages. For more information, see Convert a license in the Knox Manage documentation. Knox E-FOTA users - Replace your existing Knox E-FOTA license with the new Knox Suite license that you purchased. To replace the license, go to the unified License Management page on the Knox Admin Portal, enter the new Knox Suite license key you've purchased, select your existing Knox E-FOTA license key and then select Replace with a new Knox Suite license key. For more information, see Manage Knox licenses in the Knox Admin Portal documentation. Does Knox Suite record device location data? Yes. The location of managed devices can be tracked by services in the Knox Suite. Knox Manage and Knox Asset Intelligence help you locate devices and analyze their movement during the course of business. How securely does Samsung handle individual or business entity data acquired through Knox Suite services? Samsung is committed to safely handling customer information acquired from its business practices, and meets all data storage and handling requirements stipulated by the GDPR. Samsung ensures that data collection is restricted to only that which is necessary. Samsung cloud solutions are SOC2-certified, so you can rest assured of the smooth operation, security, and reliability of solutions in the Knox Suite. If you want to learn more, see GDPR and Samsung Knox solutions.\", metadata={'source': 'all_processed_data.json', 'seq_num': 80, 'title': 'I am subscribed to an individual Knox cloud service. Can I switch or upgrade to Knox Suite?', 'url': 'https://docs.samsungknox.com/admin/knox-suite/faq/#i-am-subscribed-individual-knox-cloud-service-can-i-switch-upgrade-knox-suite', 'project': 'KS', 'last_updated': '2023-07-26', 'family_tree': 'parent', 'parent_id': None}), 0.9437819483943239), (Document(page_content=\"Apply for access to Knox Suite. Once you have a Samsung Knox account and access to Knox services, you can register for Knox Suite. 1. Sign in to SamsungKnox.com. 2. On the welcome screen that opens, click Get Started. The Set up your Knox Admin Portal page opens. 3. Select Knox Suite from the list of Knox cloud solutions and click Confirm. The Knox Admin Portal opens. 4. The last step to register for Knox Suite is to complete your registration for Knox Manage. In the navigation pane of the Knox Admin Portal, click Knox Manage. Confirm or fill out your details for your tenant ID in the page that opens. Your tenant ID identifies your Knox Manage account and allows you to sign in to Knox Manage through a direct URL. If your organization isn't signed up for Knox Services, your organization's domain makes up your unique tenant ID. Confirm that your organization's domain automatically filled the Tenant ID field and click Complete Registration. If your organization is already signed up for Knox Services, you need to define a prefix to differentiate your tenant from other tenants in your organization. Confirm that your organization's domain automatically filled the Organization Domain field and enter a prefix in the Prefix field. Your tenant ID should not exceed 50 characters. Click Complete Registration. In the pop up that opens, click Confirm and Complete. 5. You're now registered for Knox Suite. A trial Knox Suite license key is automatically generated when you apply for access to Knox Suite. You can find this in the Licenses tab of the Knox Admin Portal. Tutorial Progress You've completed 2 of 3 steps! Previous Next\", metadata={'source': 'all_processed_data.json', 'seq_num': 71, 'title': 'Apply for access to Knox Suite', 'url': 'https://docs.samsungknox.com/admin/knox-suite/get-started/apply-for-access-to-knox-suite', 'project': 'KS', 'last_updated': '2023-08-23', 'family_tree': 'parent', 'parent_id': None}), 0.9391141033231464)]\n",
      "##############################\n",
      "similar_docs_keyword\n",
      "##############################\n",
      "[(Document(page_content=\"Overview. Get started with the basics by learning what Knox Capture is and how it works. What is Knox Capture? To help explain what Knox Capture does, it may be helpful to start with an understanding of what a *wedge* scanner is, and how it relates to the Knox Capture solution. In traditional hardware-based barcode scanning terminology, a wedge scanner is a physical device that attaches between a keyboard and a computer. The keyboard attaches to the scanner, and the scanner attaches to the computer. From the computer's perspective, the scanner behaves just like an additional keyboard. When the computer runs a software program (like an inventory spreadsheet app), and barcodes are read using the wedge scanner, data is sent from the scanner to the program in the form of keystrokes. From the program's point of view, data appears exactly as if someone had typed it manually using a keyboard. How Knox Capture works In a similar way, Knox Capture also acts as a wedge between a software program and keyboard\", metadata={'source': 'all_processed_data.json', 'seq_num': 3, 'title': 'Overview', 'url': 'https://docs.samsungknox.com/admin/knox-capture/overview', 'project': 'KCAP', 'last_updated': '2023-07-26', 'family_tree': 'child', 'parent_id': '2dfcb471-aea7-42eb-9dc6-75fa1ad22653', 'id': 'd5c25a47-0b73-496d-a9cb-d4f14c846856'}), 1.0), (Document(page_content='What are the minimum and the maximum number of devices that Knox Suite can support?. Knox Suite has no limitations on the number of devices that can be managed by its solutions.', metadata={'source': 'all_processed_data.json', 'seq_num': 81, 'title': ' What are the minimum and the maximum number of devices that Knox Suite can support?', 'url': 'https://docs.samsungknox.com/admin/knox-suite/faq/#what-are-minimum-maximum-number-devices-knox-suite-support', 'project': 'KS', 'last_updated': '2023-07-26', 'family_tree': 'parent', 'parent_id': None, 'id': '81d62297-ce7f-484c-a164-2a00cb157245'}), 0.7833600528095782), (Document(page_content='What is Knox Suite?. Knox Suite is a bundled offering designed to help enterprise IT admins better manage your fleet of devices. It includes individual services such as Knox Platform for Enterprise, Knox Mobile Enrollment, Knox Manage, Knox E-FOTA, and Knox Asset Intelligence. Key features of Knox Suite include: Secure - Ensure your business data is protected with managed security features at your control. Deploy - Enroll corporate devices to EMM automatically and securely, right out of the box. Manage - Enable comprehensive management over corporate devices and OS versions. Analyze - Strengthen in-depth device analytics for mobile productivity and asset management.', metadata={'source': 'all_processed_data.json', 'seq_num': 74, 'title': ' What is Knox Suite?', 'url': 'https://docs.samsungknox.com/admin/knox-suite/faq/#what-is-knox-suite', 'project': 'KS', 'last_updated': '2023-07-26', 'family_tree': 'parent', 'parent_id': None, 'id': '5c911c77-600b-404f-a343-8a50c44aff9d'}), 0.6613026248814968), (Document(page_content='What are the minimum and the maximum number of devices that Knox Suite can support?. Knox Suite has no limitations on the number of devices that can be managed by its solutions.', metadata={'source': 'all_processed_data.json', 'seq_num': 81, 'title': ' What are the minimum and the maximum number of devices that Knox Suite can support?', 'url': 'https://docs.samsungknox.com/admin/knox-suite/faq/#what-are-minimum-maximum-number-devices-knox-suite-support', 'project': 'KS', 'last_updated': '2023-07-26', 'family_tree': 'child', 'parent_id': '81d62297-ce7f-484c-a164-2a00cb157245', 'id': '2300200d-6578-4e6a-98d0-9429e7864f3a'}), 0.6286724693127218), (Document(page_content='What is Knox Suite?. Knox Suite is a bundled offering designed to help enterprise IT admins better manage your fleet of devices. It includes individual services such as Knox Platform for Enterprise, Knox Mobile Enrollment, Knox Manage, Knox E-FOTA, and Knox Asset Intelligence. Key features of Knox Suite include: Secure - Ensure your business data is protected with managed security features at your control. Deploy - Enroll corporate devices to EMM automatically and securely, right out of the box. Manage - Enable comprehensive management over corporate devices and OS versions. Analyze - Strengthen in-depth device analytics for mobile productivity and asset management.', metadata={'source': 'all_processed_data.json', 'seq_num': 74, 'title': ' What is Knox Suite?', 'url': 'https://docs.samsungknox.com/admin/knox-suite/faq/#what-is-knox-suite', 'project': 'KS', 'last_updated': '2023-07-26', 'family_tree': 'child', 'parent_id': '5c911c77-600b-404f-a343-8a50c44aff9d', 'id': 'c49d4a66-7043-46db-a28c-136504538b7d'}), 0.605852104885317), (Document(page_content=\"Overview. Get started with the basics by learning what Knox Capture is and how it works. What is Knox Capture? To help explain what Knox Capture does, it may be helpful to start with an understanding of what a *wedge* scanner is, and how it relates to the Knox Capture solution. In traditional hardware-based barcode scanning terminology, a wedge scanner is a physical device that attaches between a keyboard and a computer. The keyboard attaches to the scanner, and the scanner attaches to the computer. From the computer's perspective, the scanner behaves just like an additional keyboard. When the computer runs a software program (like an inventory spreadsheet app), and barcodes are read using the wedge scanner, data is sent from the scanner to the program in the form of keystrokes. From the program's point of view, data appears exactly as if someone had typed it manually using a keyboard. How Knox Capture works In a similar way, Knox Capture also acts as a wedge between a software program and keyboard. However, instead of being a physical scanning device, Knox Capture is a mobile solution built for compatible Android smartphones and tablets. Enterprise IT admins can either download the Knox Capture app from Google Play, or custom-build their own wedge scanner apps using the Knox Capture SDK (Software Development Kit). Once Knox Capture is installed and running on a device, it *wedges* between an application (for example, a business app used to track inventory) and the mobile device's on-screen keyboard. When an end-user launches their business app, they can simply tap an on-screen button or press a hardware button on their device to trigger a barcode scan using the device's camera. After the camera focuses on a barcode, Knox Capture translates the barcode data into keystrokes, which then get passed back to the business app for processing. From the business app's point of view, keystrokes coming from Knox Capture appear exactly as if a user had typed them from the device keyboard. Who can use Knox Capture? Knox Capture is designed for anyone who wants to turn their mobile device into a powerful barcode scanner. However, depending on whether it's being used by an admin or an end-user, its features vary significantly. #Admin mode (Default) When Knox Capture is downloaded from Google Play and installed on a compatible Android device - and a valid license key is activated - the app operates in its default Admin mode. This mode allows the device user - typically an enterprise IT admin - to utilize the full functionality of the app to primarily do the following: 1. Create scanning profiles that define which apps can launch the barcode scanner, which barcode types can be scanned (QR, Code 128, EAN8, etc.), and how scanned data is formatted (append Tab or Enter key, insert special characters before or after data, etc.). 2. Test scanning profiles to ensure that appropriate business apps can launch the scanner and receive data back as keystrokes. 3. Export profile settings as a configuration file, which can then be used by EMM/UEM administrators to deploy Knox Capture as a managed app to end-user devices. #Managed mode After an IT admin uses their EMM/UEM to deploy Knox Capture as a managed app to an end-user's device, the device launches the app in Managed mode. In Managed mode, Knox Capture functionality is greatly reduced. End-users can review their scanning profile settings and perform barcode scans using their business apps (as permitted by their scanning profile), however they can't make changes to their scanning profiles, export profile settings, or switch to Admin mode by activating a Knox Capture license. Admin mode is the default mode of operation for Knox Capture. The procedures described in this guide are targeted at an IT admin audience. Further reading #Getting started tutorials These tutorials provide a guided workflow for new admins and end-users. While they don't cover every setting or scenario when using Knox Capture, they do provide a good starting point for learning the app's basics\", metadata={'source': 'all_processed_data.json', 'seq_num': 3, 'title': 'Overview', 'url': 'https://docs.samsungknox.com/admin/knox-capture/overview', 'project': 'KCAP', 'last_updated': '2023-07-26', 'family_tree': 'parent', 'parent_id': None, 'id': '2dfcb471-aea7-42eb-9dc6-75fa1ad22653'}), 0.5802864976323094), (Document(page_content='. Learn how to connect Bluetooth and USB scanners to a device running Knox Capture, and how to perform a test scan once a scanner is connected. Configure the output path - Some organizations may want to send scanned Knox Capture data to a bluetooth keyboard connected to a PC, emulating the functionality of a traditional hardware scanner. Learn how output paths work, and how to pair and unpair your device to a bluetooth keyboard. Knox Capture AR - A feature introduced in Knox Capture v1.7 that provides important product information inside the camera preview window during a barcode scan. Learn what AR (Augmented Reality) is in Knox Capture, how to create AR templates, and how to use AR when performing barcode scans.', metadata={'source': 'all_processed_data.json', 'seq_num': 3, 'title': 'Overview', 'url': 'https://docs.samsungknox.com/admin/knox-capture/overview', 'project': 'KCAP', 'last_updated': '2023-07-26', 'family_tree': 'child', 'parent_id': '75bb0038-6007-4244-815b-1983b0556112', 'id': '27d81a27-e47a-4654-a433-8b426060b5ad'}), 0.5492413990082639)]\n",
      "##############################\n",
      "similar_docs\n",
      "##############################\n",
      "[(Document(page_content='What is Knox Suite?. Knox Suite is a bundled offering designed to help enterprise IT admins better manage your fleet of devices. It includes individual services such as Knox Platform for Enterprise, Knox Mobile Enrollment, Knox Manage, Knox E-FOTA, and Knox Asset Intelligence. Key features of Knox Suite include: Secure - Ensure your business data is protected with managed security features at your control. Deploy - Enroll corporate devices to EMM automatically and securely, right out of the box. Manage - Enable comprehensive management over corporate devices and OS versions. Analyze - Strengthen in-depth device analytics for mobile productivity and asset management.', metadata={'source': 'all_processed_data.json', 'seq_num': 74, 'title': ' What is Knox Suite?', 'url': 'https://docs.samsungknox.com/admin/knox-suite/faq/#what-is-knox-suite', 'project': 'KS', 'last_updated': '2023-07-26', 'family_tree': 'child', 'parent_id': '5c911c77-600b-404f-a343-8a50c44aff9d', 'id': 'c49d4a66-7043-46db-a28c-136504538b7d'}), 0.9707282185554504), (Document(page_content='Knox Suite. Knox Suite is a bundled offering of Knox solutions for enterprise mobility designed to address organizations\\' needs related to security and management throughout the entire device lifecycle. Learn more about Knox Suite #Audience This document is intended for IT Admins. Understand what\\'s included in Knox Suite and how you can use it to manage, secure, and maintain enterprise devices. Learn where to find information on how to perform various tasks with Knox\"Suite services. About Knox Suite Knox Suite is a bundled offering that includes the following Knox products: Knox Platform for Enterprise - A Knox solution that provides military-grade security to Samsung Android phones, tablets, and Tizen watches for business. Knox Mobile Enrollment - A Knox solution that allows you to enroll thousands of Samsung devices in your EMM at once. When used with a Knox Suite license, Knox Mobile Enrollment provides advanced profiles that offer IT admins additional features such as higher control over locking devices. Knox Manage - A Knox solution that allows you to remotely manage your fleet of mobile devices. With this EMM, you create various policies to control how users can use their devices. Knox Asset Intelligence - A data analytics solution that offers operational visibility and actionable insights to improve the management, productivity, and lifecycle of mobile devices. This solution offers real-time monitoring and management of app performance, battery usage, network connectivity, and asset location. Knox E-FOTA - A Knox solution that allows you to remotely deploy OS and security updates to your devices without requiring user interaction. With Knox E-FOTA, you create a campaign, specify the campaign period, assign devices to that campaign, and select the firmware update to be pushed to those devices during the campaign period. Knox Capture - An Android solution that lets users transform their Samsung Galaxy smartphones and tablets into powerful barcode scanners that can read, process, and output barcode information to other applications, all without requiring additional hardware or writing a single line of code. Knox Authentication Manager - A managed Android app for shared Samsung devices that provides multiuser facial biometrics and sign-in automation for increased frontline worker productivity and safety. With Knox Suite, a single license key allows you to use all included Knox products on your devices. This means that you can use the same Knox Suite license key in multiple Knox service admin portals. Benefits of Knox Suite 1. All-in-one Knox B2B package - An end-to-end solution that covers every step of your enterprise mobility journey 2. Simplified license management - You only need one license key to use all included products. 3. Streamlined onboarding process - Register once and gain access to all included Knox products. 4. Seamless IT admin user experience - IT admin can easily access bundled Knox consoles through single sign-on. To get started, click here.', metadata={'source': 'all_processed_data.json', 'seq_num': 65, 'title': 'Knox Suite', 'url': 'https://docs.samsungknox.com/admin/knox-suite', 'project': 'KS', 'last_updated': '2023-07-26', 'family_tree': 'parent', 'parent_id': None}), 0.8498102406660716), (Document(page_content=\"Overview. Get started with the basics by learning what Knox Capture is and how it works. What is Knox Capture? To help explain what Knox Capture does, it may be helpful to start with an understanding of what a *wedge* scanner is, and how it relates to the Knox Capture solution. In traditional hardware-based barcode scanning terminology, a wedge scanner is a physical device that attaches between a keyboard and a computer. The keyboard attaches to the scanner, and the scanner attaches to the computer. From the computer's perspective, the scanner behaves just like an additional keyboard. When the computer runs a software program (like an inventory spreadsheet app), and barcodes are read using the wedge scanner, data is sent from the scanner to the program in the form of keystrokes. From the program's point of view, data appears exactly as if someone had typed it manually using a keyboard. How Knox Capture works In a similar way, Knox Capture also acts as a wedge between a software program and keyboard\", metadata={'source': 'all_processed_data.json', 'seq_num': 3, 'title': 'Overview', 'url': 'https://docs.samsungknox.com/admin/knox-capture/overview', 'project': 'KCAP', 'last_updated': '2023-07-26', 'family_tree': 'child', 'parent_id': '2dfcb471-aea7-42eb-9dc6-75fa1ad22653', 'id': 'd5c25a47-0b73-496d-a9cb-d4f14c846856'}), 0.7366070747375488), (Document(page_content='Learn more about Knox Suite. This section describes where you can find instructions on how to perform tasks using the different products included in Knox Suite. General documentation for the Knox Suite services Knox Service , See - , - Knox Manage , Knox Manage Admin Guide Knox Platform for Enterprise , Knox Platform for Enterprise Admin Guide Knox Mobile Enrollment , Knox Mobile Enrollment Admin Guide Knox E-FOTA , Knox E-FOTA Admin Guide Knox Asset Intelligence , Knox Asset Intelligence Admin Guide Knox Capture , Knox Capture Admin Guide Knox Authentication Manager , Knox Authentication Manager Admin Guide Knox Suite operations For information on See Knox service How to set up Knox Manage with Knox Suite Workflow:\"Set up Knox Manage with a Knox Suite license Knox Manage How to check your Knox Suite license usage View and modify a license Note Alternatively, you can sign in to your SamsungKnox.com dashboard and click Licenses to view all licenses you have for all your Knox services. Knox Manage How to upgrade your license key from Knox Manage to Knox Suite Upgrade a license Knox\"Manage How to configure premium Knox features Prerequisite: Workflow:\"Set up Knox Manage with a Knox Suite license Samsung Knox running Android Enterprise Note Policies with a in the Knox Manage admin portal are Knox premium features. These features require a Knox\"Suite license key. Knox Manage How to approve the Knox Service Plugin (KSP) app Prerequisite:Set up Android Enterprise. Approve Knox Service Plugin (KSP). Knox Manage What\\'s next? When you finish evaluating Knox Suite and decide to use it commercially, contact your Knox reseller to purchase a Knox\"Suite license. If you\\'re in need of devices, consider purchasing Enterprise Edition devices if this program is supported in your country. These devices are packaged with a 1-year renewable Knox\"Suite license, among other benefits. Once you\\'ve purchased your Enterprise\"Edition devices, see the Enterprise Edition section for information on how to generate your Knox Suite license.', metadata={'source': 'all_processed_data.json', 'seq_num': 64, 'title': 'Learn more about Knox Suite', 'url': 'https://docs.samsungknox.com/admin/knox-suite/learn-more-about-knox-suite', 'project': 'KS', 'last_updated': '2023-07-26', 'family_tree': 'parent', 'parent_id': None}), 0.08127827374936686), (Document(page_content=\"I am subscribed to an individual Knox cloud service. Can I switch or upgrade to Knox Suite?. Yes. You can upgrade or switch to Knox Suite while using an individual Knox cloud service. After you purchase a Knox Suite license from a Samsung Knox reseller, for Knox Manage and Knox E-FOTA you must update the license keys. Knox Manage users - Replace your existing Knox Manage license key with the new Knox Suite license that you purchased. Select Knox Suite from the Organization or User settings pages. For more information, see Convert a license in the Knox Manage documentation. Knox E-FOTA users - Replace your existing Knox E-FOTA license with the new Knox Suite license that you purchased. To replace the license, go to the unified License Management page on the Knox Admin Portal, enter the new Knox Suite license key you've purchased, select your existing Knox E-FOTA license key and then select Replace with a new Knox Suite license key. For more information, see Manage Knox licenses in the Knox Admin Portal documentation. Does Knox Suite record device location data? Yes. The location of managed devices can be tracked by services in the Knox Suite. Knox Manage and Knox Asset Intelligence help you locate devices and analyze their movement during the course of business. How securely does Samsung handle individual or business entity data acquired through Knox Suite services? Samsung is committed to safely handling customer information acquired from its business practices, and meets all data storage and handling requirements stipulated by the GDPR. Samsung ensures that data collection is restricted to only that which is necessary. Samsung cloud solutions are SOC2-certified, so you can rest assured of the smooth operation, security, and reliability of solutions in the Knox Suite. If you want to learn more, see GDPR and Samsung Knox solutions.\", metadata={'source': 'all_processed_data.json', 'seq_num': 80, 'title': 'I am subscribed to an individual Knox cloud service. Can I switch or upgrade to Knox Suite?', 'url': 'https://docs.samsungknox.com/admin/knox-suite/faq/#i-am-subscribed-individual-knox-cloud-service-can-i-switch-upgrade-knox-suite', 'project': 'KS', 'last_updated': '2023-07-26', 'family_tree': 'parent', 'parent_id': None}), 0.057403581108058425)]\n",
      " Knox Suite is a bundled offering from Samsung designed to help enterprise IT admins better manage a fleet of mobile devices. It includes services like Knox Platform for Enterprise, Knox Mobile Enrollment, Knox Manage, Knox E-FOTA, and Knox Asset Intelligence. \n",
      "\n",
      "Key features of Knox Suite include:\n",
      "\n",
      "- Secure - Protect business data with managed security features. \n",
      "\n",
      "- Deploy - Enroll corporate devices to EMM automatically out of the box.\n",
      "\n",
      "- Manage - Enable comprehensive management of devices and OS versions. \n",
      "\n",
      "- Analyze - Provide insights for mobile productivity and asset management.\n",
      "\n",
      "Knox Suite offers an end-to-end solution covering every step of enterprise mobility management. It simplifies license management, onboarding, and the IT admin experience."
     ]
    }
   ],
   "source": [
    "query = \"what is knox?\"\n",
    "response = qa(query)"
   ]
  },
  {
   "cell_type": "code",
   "execution_count": 293,
   "id": "01e77dad-dc19-416b-80e7-19fac3b736a5",
   "metadata": {
    "tags": []
   },
   "outputs": [
    {
     "name": "stdout",
     "output_type": "stream",
     "text": [
      "##################################\n",
      "query:  what is knox?\n",
      "##################################\n",
      "\u001b[34m\n",
      "\n",
      "### Answer ###\u001b[0m\n",
      " Based on the provided context, Knox refers to Knox Suite, which is a bundled offering from Samsung\n",
      "designed to help enterprise IT admins better manage a fleet of mobile devices. Key aspects of Knox\n",
      "Suite include:\n",
      "\n",
      "- It is an end-to-end solution covering device security, enrollment, management, analytics, and OS\n",
      "updates.\n",
      "\n",
      "- It includes services like Knox Platform for Enterprise, Knox Mobile Enrollment, Knox Manage, Knox\n",
      "E-FOTA, and Knox Asset Intelligence.\n",
      "\n",
      "- With a single Knox Suite license, IT admins can use all the included Knox products and access them\n",
      "through single sign-on.\n",
      "\n",
      "- Benefits include simplified license management, streamlined onboarding, and a seamless IT admin\n",
      "experience.\n",
      "\n",
      "- It helps secure business data, remotely manage devices, get insights on device health/usage, and\n",
      "deploy OS updates.\n",
      "\n",
      "In summary, Knox Suite is Samsung's enterprise mobility management solution to secure, deploy,\n",
      "manage, and analyze a fleet of corporate mobile devices.\n",
      "\u001b[32m\n",
      "\n",
      "### Contexts ###\u001b[0m\n",
      "-----------------------------------------------\n",
      "1. Chunk: 674 Characters\n",
      "-----------------------------------------------\n",
      "What is Knox Suite?. Knox Suite is a bundled offering designed to help enterprise IT admins better\n",
      "manage your fleet of devices. It includes individual services such as Knox Platform for Enterprise,\n",
      "Knox Mobile Enrollment, Knox Manage, Knox E-FOTA, and Knox Asset Intelligence. Key features of Knox\n",
      "Suite include: Secure - Ensure your business data is protected with managed security features at\n",
      "your control. Deploy - Enroll corporate devices to EMM automatically and securely, right out of the\n",
      "box. Manage - Enable comprehensive management over corporate devices and OS versions. Analyze -\n",
      "Strengthen in-depth device analytics for mobile productivity and asset management.\n",
      "metadata:\n",
      " {'source': 'all_processed_data.json', 'seq_num': 74, 'title': ' What is Knox Suite?', 'url':\n",
      "'https://docs.samsungknox.com/admin/knox-suite/faq/#what-is-knox-suite', 'project': 'KS',\n",
      "'last_updated': '2023-07-26', 'family_tree': 'child', 'parent_id':\n",
      "'5c911c77-600b-404f-a343-8a50c44aff9d', 'id': 'c49d4a66-7043-46db-a28c-136504538b7d'}\n",
      "-----------------------------------------------\n",
      "2. Chunk: 3018 Characters\n",
      "-----------------------------------------------\n",
      "Knox Suite. Knox Suite is a bundled offering of Knox solutions for enterprise mobility designed to\n",
      "address organizations' needs related to security and management throughout the entire device\n",
      "lifecycle. Learn more about Knox Suite #Audience This document is intended for IT Admins. Understand\n",
      "what's included in Knox Suite and how you can use it to manage, secure, and maintain enterprise\n",
      "devices. Learn where to find information on how to perform various tasks with Knox\"Suite services.\n",
      "About Knox Suite Knox Suite is a bundled offering that includes the following Knox products: Knox\n",
      "Platform for Enterprise - A Knox solution that provides military-grade security to Samsung Android\n",
      "phones, tablets, and Tizen watches for business. Knox Mobile Enrollment - A Knox solution that\n",
      "allows you to enroll thousands of Samsung devices in your EMM at once. When used with a Knox Suite\n",
      "license, Knox Mobile Enrollment provides advanced profiles that offer IT admins additional features\n",
      "such as higher control over locking devices. Knox Manage - A Knox solution that allows you to\n",
      "remotely manage your fleet of mobile devices. With this EMM, you create various policies to control\n",
      "how users can use their devices. Knox Asset Intelligence - A data analytics solution that offers\n",
      "operational visibility and actionable insights to improve the management, productivity, and\n",
      "lifecycle of mobile devices. This solution offers real-time monitoring and management of app\n",
      "performance, battery usage, network connectivity, and asset location. Knox E-FOTA - A Knox solution\n",
      "that allows you to remotely deploy OS and security updates to your devices without requiring user\n",
      "interaction. With Knox E-FOTA, you create a campaign, specify the campaign period, assign devices to\n",
      "that campaign, and select the firmware update to be pushed to those devices during the campaign\n",
      "period. Knox Capture - An Android solution that lets users transform their Samsung Galaxy\n",
      "smartphones and tablets into powerful barcode scanners that can read, process, and output barcode\n",
      "information to other applications, all without requiring additional hardware or writing a single\n",
      "line of code. Knox Authentication Manager - A managed Android app for shared Samsung devices that\n",
      "provides multiuser facial biometrics and sign-in automation for increased frontline worker\n",
      "productivity and safety. With Knox Suite, a single license key allows you to use all included Knox\n",
      "products on your devices. This means that you can use the same Knox Suite license key in multiple\n",
      "Knox service admin portals. Benefits of Knox Suite 1. All-in-one Knox B2B package - An end-to-end\n",
      "solution that covers every step of your enterprise mobility journey 2. Simplified license management\n",
      "- You only need one license key to use all included products. 3. Streamlined onboarding process -\n",
      "Register once and gain access to all included Knox products. 4. Seamless IT admin user experience -\n",
      "IT admin can easily access bundled Knox consoles through single sign-on. To get started, click here.\n",
      "metadata:\n",
      " {'source': 'all_processed_data.json', 'seq_num': 65, 'title': 'Knox Suite', 'url':\n",
      "'https://docs.samsungknox.com/admin/knox-suite', 'project': 'KS', 'last_updated': '2023-07-26',\n",
      "'family_tree': 'parent', 'parent_id': None}\n",
      "-----------------------------------------------\n",
      "3. Chunk: 1013 Characters\n",
      "-----------------------------------------------\n",
      "Overview. Get started with the basics by learning what Knox Capture is and how it works. What is\n",
      "Knox Capture? To help explain what Knox Capture does, it may be helpful to start with an\n",
      "understanding of what a *wedge* scanner is, and how it relates to the Knox Capture solution. In\n",
      "traditional hardware-based barcode scanning terminology, a wedge scanner is a physical device that\n",
      "attaches between a keyboard and a computer. The keyboard attaches to the scanner, and the scanner\n",
      "attaches to the computer. From the computer's perspective, the scanner behaves just like an\n",
      "additional keyboard. When the computer runs a software program (like an inventory spreadsheet app),\n",
      "and barcodes are read using the wedge scanner, data is sent from the scanner to the program in the\n",
      "form of keystrokes. From the program's point of view, data appears exactly as if someone had typed\n",
      "it manually using a keyboard. How Knox Capture works In a similar way, Knox Capture also acts as a\n",
      "wedge between a software program and keyboard\n",
      "metadata:\n",
      " {'source': 'all_processed_data.json', 'seq_num': 3, 'title': 'Overview', 'url':\n",
      "'https://docs.samsungknox.com/admin/knox-capture/overview', 'project': 'KCAP', 'last_updated':\n",
      "'2023-07-26', 'family_tree': 'child', 'parent_id': '2dfcb471-aea7-42eb-9dc6-75fa1ad22653', 'id':\n",
      "'d5c25a47-0b73-496d-a9cb-d4f14c846856'}\n",
      "-----------------------------------------------\n",
      "4. Chunk: 2041 Characters\n",
      "-----------------------------------------------\n",
      "Learn more about Knox Suite. This section describes where you can find instructions on how to\n",
      "perform tasks using the different products included in Knox Suite. General documentation for the\n",
      "Knox Suite services Knox Service , See - , - Knox Manage , Knox Manage Admin Guide Knox Platform for\n",
      "Enterprise , Knox Platform for Enterprise Admin Guide Knox Mobile Enrollment , Knox Mobile\n",
      "Enrollment Admin Guide Knox E-FOTA , Knox E-FOTA Admin Guide Knox Asset Intelligence , Knox Asset\n",
      "Intelligence Admin Guide Knox Capture , Knox Capture Admin Guide Knox Authentication Manager , Knox\n",
      "Authentication Manager Admin Guide Knox Suite operations For information on See Knox service How to\n",
      "set up Knox Manage with Knox Suite Workflow:\"Set up Knox Manage with a Knox Suite license Knox\n",
      "Manage How to check your Knox Suite license usage View and modify a license Note Alternatively, you\n",
      "can sign in to your SamsungKnox.com dashboard and click Licenses to view all licenses you have for\n",
      "all your Knox services. Knox Manage How to upgrade your license key from Knox Manage to Knox Suite\n",
      "Upgrade a license Knox\"Manage How to configure premium Knox features Prerequisite: Workflow:\"Set up\n",
      "Knox Manage with a Knox Suite license Samsung Knox running Android Enterprise Note Policies with a\n",
      "in the Knox Manage admin portal are Knox premium features. These features require a Knox\"Suite\n",
      "license key. Knox Manage How to approve the Knox Service Plugin (KSP) app Prerequisite:Set up\n",
      "Android Enterprise. Approve Knox Service Plugin (KSP). Knox Manage What's next? When you finish\n",
      "evaluating Knox Suite and decide to use it commercially, contact your Knox reseller to purchase a\n",
      "Knox\"Suite license. If you're in need of devices, consider purchasing Enterprise Edition devices if\n",
      "this program is supported in your country. These devices are packaged with a 1-year renewable\n",
      "Knox\"Suite license, among other benefits. Once you've purchased your Enterprise\"Edition devices, see\n",
      "the Enterprise Edition section for information on how to generate your Knox Suite license.\n",
      "metadata:\n",
      " {'source': 'all_processed_data.json', 'seq_num': 64, 'title': 'Learn more about Knox Suite', 'url':\n",
      "'https://docs.samsungknox.com/admin/knox-suite/learn-more-about-knox-suite', 'project': 'KS',\n",
      "'last_updated': '2023-07-26', 'family_tree': 'parent', 'parent_id': None}\n",
      "-----------------------------------------------\n",
      "5. Chunk: 1862 Characters\n",
      "-----------------------------------------------\n",
      "I am subscribed to an individual Knox cloud service. Can I switch or upgrade to Knox Suite?. Yes.\n",
      "You can upgrade or switch to Knox Suite while using an individual Knox cloud service. After you\n",
      "purchase a Knox Suite license from a Samsung Knox reseller, for Knox Manage and Knox E-FOTA you must\n",
      "update the license keys. Knox Manage users - Replace your existing Knox Manage license key with the\n",
      "new Knox Suite license that you purchased. Select Knox Suite from the Organization or User settings\n",
      "pages. For more information, see Convert a license in the Knox Manage documentation. Knox E-FOTA\n",
      "users - Replace your existing Knox E-FOTA license with the new Knox Suite license that you\n",
      "purchased. To replace the license, go to the unified License Management page on the Knox Admin\n",
      "Portal, enter the new Knox Suite license key you've purchased, select your existing Knox E-FOTA\n",
      "license key and then select Replace with a new Knox Suite license key. For more information, see\n",
      "Manage Knox licenses in the Knox Admin Portal documentation. Does Knox Suite record device location\n",
      "data? Yes. The location of managed devices can be tracked by services in the Knox Suite. Knox Manage\n",
      "and Knox Asset Intelligence help you locate devices and analyze their movement during the course of\n",
      "business. How securely does Samsung handle individual or business entity data acquired through Knox\n",
      "Suite services? Samsung is committed to safely handling customer information acquired from its\n",
      "business practices, and meets all data storage and handling requirements stipulated by the GDPR.\n",
      "Samsung ensures that data collection is restricted to only that which is necessary. Samsung cloud\n",
      "solutions are SOC2-certified, so you can rest assured of the smooth operation, security, and\n",
      "reliability of solutions in the Knox Suite. If you want to learn more, see GDPR and Samsung Knox\n",
      "solutions.\n",
      "metadata:\n",
      " {'source': 'all_processed_data.json', 'seq_num': 80, 'title': 'I am subscribed to an individual\n",
      "Knox cloud service. Can I switch or upgrade to Knox Suite?', 'url':\n",
      "'https://docs.samsungknox.com/admin/knox-suite/faq/#i-am-subscribed-individual-knox-cloud-service-\n",
      "can-i-switch-upgrade-knox-suite', 'project': 'KS', 'last_updated': '2023-07-26', 'family_tree':\n",
      "'parent', 'parent_id': None}\n"
     ]
    }
   ],
   "source": [
    "print(\"##################################\")\n",
    "print(\"query: \", query)\n",
    "print(\"##################################\")\n",
    "\n",
    "print (colored(\"\\n\\n### Answer ###\", \"blue\"))\n",
    "print_ww(response['result'])\n",
    "\n",
    "print (colored(\"\\n\\n### Contexts ###\", \"green\"))\n",
    "show_context_used(response['source_documents'])"
   ]
  },
  {
   "cell_type": "code",
   "execution_count": null,
   "id": "f9840743-37e7-4592-9b59-0503c2f61794",
   "metadata": {},
   "outputs": [],
   "source": []
  },
  {
   "cell_type": "code",
   "execution_count": null,
   "id": "6aa715a3-60dc-484b-bfda-8d72d631ee68",
   "metadata": {},
   "outputs": [],
   "source": []
  }
 ],
 "metadata": {
  "kernelspec": {
   "display_name": "conda_python3",
   "language": "python",
   "name": "conda_python3"
  },
  "language_info": {
   "codemirror_mode": {
    "name": "ipython",
    "version": 3
   },
   "file_extension": ".py",
   "mimetype": "text/x-python",
   "name": "python",
   "nbconvert_exporter": "python",
   "pygments_lexer": "ipython3",
   "version": "3.10.12"
  }
 },
 "nbformat": 4,
 "nbformat_minor": 5
}
