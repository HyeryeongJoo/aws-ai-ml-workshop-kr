{
 "cells": [
  {
   "cell_type": "markdown",
   "id": "5deb2df2-413d-49bd-a829-3a1fc344937e",
   "metadata": {},
   "source": [
    "# RAG Based on parent document\n",
    "- Hybrid Search\n",
    "- ReRanker\n",
    "- [Parent Document](https://medium.aiplanet.com/advanced-rag-providing-broader-context-to-llms-using-parentdocumentretriever-cc627762305a)\n",
    "    "
   ]
  },
  {
   "cell_type": "markdown",
   "id": "697401ba",
   "metadata": {},
   "source": []
  },
  {
   "cell_type": "markdown",
   "id": "b1f81abc-3277-4a6b-9ef1-d4f997d67fbe",
   "metadata": {},
   "source": [
    "## Setting\n",
    " - Auto Reload\n",
    " - path for utils"
   ]
  },
  {
   "cell_type": "code",
   "execution_count": 1,
   "id": "ddde4105-b759-4d6c-8214-8e1ab485ae48",
   "metadata": {
    "tags": []
   },
   "outputs": [],
   "source": [
    "%load_ext autoreload\n",
    "%autoreload 2"
   ]
  },
  {
   "cell_type": "code",
   "execution_count": 2,
   "id": "57c2cdb1-d785-4317-afce-938f13141085",
   "metadata": {
    "tags": []
   },
   "outputs": [],
   "source": [
    "import sys, os\n",
    "module_path = \"../../..\"\n",
    "sys.path.append(os.path.abspath(module_path))"
   ]
  },
  {
   "cell_type": "markdown",
   "id": "9c4ade56-8dbc-4ded-b355-7e4bcc971e90",
   "metadata": {},
   "source": [
    "## 1. Bedrock Client 생성"
   ]
  },
  {
   "cell_type": "code",
   "execution_count": 3,
   "id": "cc2d877f-e877-48f6-8dd4-239de20e45cd",
   "metadata": {
    "tags": []
   },
   "outputs": [],
   "source": [
    "import json\n",
    "import boto3\n",
    "from pprint import pprint\n",
    "from termcolor import colored\n",
    "from utils import bedrock, print_ww\n",
    "from utils.bedrock import bedrock_info"
   ]
  },
  {
   "cell_type": "markdown",
   "id": "088e6490-c79a-49e4-841c-9fdb91292608",
   "metadata": {},
   "source": [
    "### ---- ⚠️ Un-comment and edit the below lines as needed for your AWS setup ⚠️ ----\n",
    "- os.environ[\"AWS_DEFAULT_REGION\"] = \"<REGION_NAME>\"  # E.g. \"us-east-1\"\n",
    "- os.environ[\"AWS_PROFILE\"] = \"<YOUR_PROFILE>\"\n",
    "- os.environ[\"BEDROCK_ASSUME_ROLE\"] = \"<YOUR_ROLE_ARN>\"  # E.g. \"arn:aws:...\"\n",
    "- os.environ[\"BEDROCK_ENDPOINT_URL\"] = \"<YOUR_ENDPOINT_URL>\"  # E.g. \"https://...\""
   ]
  },
  {
   "cell_type": "code",
   "execution_count": 4,
   "id": "cab9312c-5f61-4730-96c3-5eef54a5f08c",
   "metadata": {
    "tags": []
   },
   "outputs": [
    {
     "name": "stdout",
     "output_type": "stream",
     "text": [
      "Create new client\n",
      "  Using region: None\n",
      "  Using profile: None\n",
      "boto3 Bedrock client successfully created!\n",
      "bedrock-runtime(https://bedrock-runtime.us-east-1.amazonaws.com)\n",
      "\u001b[32m\n",
      "== FM lists ==\u001b[0m\n",
      "{'Claude-Instant-V1': 'anthropic.claude-instant-v1',\n",
      " 'Claude-V1': 'anthropic.claude-v1',\n",
      " 'Claude-V2': 'anthropic.claude-v2',\n",
      " 'Claude-V2-1': 'anthropic.claude-v2:1',\n",
      " 'Cohere-Embeddings-En': 'cohere.embed-english-v3',\n",
      " 'Cohere-Embeddings-Multilingual': 'cohere.embed-multilingual-v3',\n",
      " 'Command': 'cohere.command-text-v14',\n",
      " 'Command-Light': 'cohere.command-light-text-v14',\n",
      " 'Jurassic-2-Mid': 'ai21.j2-mid-v1',\n",
      " 'Jurassic-2-Ultra': 'ai21.j2-ultra-v1',\n",
      " 'Llama2-13b-Chat': 'meta.llama2-13b-chat-v1',\n",
      " 'Titan-Embeddings-G1': 'amazon.titan-embed-text-v1',\n",
      " 'Titan-Text-G1': 'amazon.titan-text-express-v1',\n",
      " 'Titan-Text-G1-Light': 'amazon.titan-text-lite-v1'}\n"
     ]
    }
   ],
   "source": [
    "boto3_bedrock = bedrock.get_bedrock_client(\n",
    "    assumed_role=os.environ.get(\"BEDROCK_ASSUME_ROLE\", None),\n",
    "    endpoint_url=os.environ.get(\"BEDROCK_ENDPOINT_URL\", None),\n",
    "    region=os.environ.get(\"AWS_DEFAULT_REGION\", None),\n",
    ")\n",
    "\n",
    "aws_region = os.environ.get(\"AWS_DEFAULT_REGION\", None)\n",
    "print (colored(\"\\n== FM lists ==\", \"green\"))\n",
    "pprint (bedrock_info.get_list_fm_models(verbose=False))"
   ]
  },
  {
   "cell_type": "markdown",
   "id": "241a9e34-417a-422f-9f75-cb211b2e70e1",
   "metadata": {
    "tags": []
   },
   "source": [
    "## 2. Titan Embedding 및 LLM 인 Claude-v2 모델 로딩"
   ]
  },
  {
   "cell_type": "markdown",
   "id": "29bf63d2-4110-407c-af06-a45d2fbed4b5",
   "metadata": {},
   "source": [
    "### LLM 로딩 (Claude-v2)"
   ]
  },
  {
   "cell_type": "code",
   "execution_count": 5,
   "id": "9c51443a-04f9-465c-9564-53053eb3e1c2",
   "metadata": {
    "tags": []
   },
   "outputs": [],
   "source": [
    "from langchain.llms.bedrock import Bedrock\n",
    "from langchain.callbacks.streaming_stdout import StreamingStdOutCallbackHandler"
   ]
  },
  {
   "cell_type": "code",
   "execution_count": 6,
   "id": "d09e84e0-b9e1-4b12-8e7a-68f03c5416e5",
   "metadata": {
    "tags": []
   },
   "outputs": [
    {
     "data": {
      "text/plain": [
       "Bedrock(client=<botocore.client.BedrockRuntime object at 0x7f03400fd2a0>, model_id='anthropic.claude-v2:1', model_kwargs={'max_tokens_to_sample': 4000, 'temperature': 0.1, 'top_k': 3, 'top_p': 0.1, 'stop_sequences': ['\\n\\nHuman:']}, streaming=True, callbacks=[<langchain_core.callbacks.streaming_stdout.StreamingStdOutCallbackHandler object at 0x7f0221f2da80>])"
      ]
     },
     "execution_count": 6,
     "metadata": {},
     "output_type": "execute_result"
    }
   ],
   "source": [
    "llm_text = Bedrock(\n",
    "    model_id=bedrock_info.get_model_id(model_name=\"Claude-V2-1\"),\n",
    "    client=boto3_bedrock,\n",
    "    model_kwargs={\n",
    "        \"max_tokens_to_sample\": 4000,\n",
    "        \"temperature\": 0.1,\n",
    "        \"top_k\": 3,\n",
    "        \"top_p\": 0.1,\n",
    "        \"stop_sequences\": [\"\\n\\nHuman:\"]\n",
    "    },\n",
    "    streaming=True,\n",
    "    callbacks=[StreamingStdOutCallbackHandler()]\n",
    ")\n",
    "llm_text"
   ]
  },
  {
   "cell_type": "markdown",
   "id": "3ba2e829-af8f-4e90-b994-59106cdec8d8",
   "metadata": {},
   "source": [
    "### Embedding 모델 선택"
   ]
  },
  {
   "cell_type": "code",
   "execution_count": 7,
   "id": "0b7b8752-d1e3-4f41-ba35-6da42c3785db",
   "metadata": {
    "tags": []
   },
   "outputs": [
    {
     "name": "stderr",
     "output_type": "stream",
     "text": [
      "/home/ec2-user/anaconda3/envs/python3/lib/python3.10/site-packages/pandas/core/computation/expressions.py:21: UserWarning: Pandas requires version '2.8.0' or newer of 'numexpr' (version '2.7.3' currently installed).\n",
      "  from pandas.core.computation.check import NUMEXPR_INSTALLED\n"
     ]
    }
   ],
   "source": [
    "from utils.rag import KoSimCSERobertaContentHandler, SagemakerEndpointEmbeddingsJumpStart"
   ]
  },
  {
   "cell_type": "code",
   "execution_count": 8,
   "id": "793b03f7-3186-4969-b76a-98fe56bd5fdc",
   "metadata": {
    "tags": []
   },
   "outputs": [],
   "source": [
    "def get_embedding_model(is_bedrock_embeddings, is_KoSimCSERobert, aws_region, endpont_name=None):\n",
    "    \n",
    "    if is_bedrock_embeddings:\n",
    "        # We will be using the Titan Embeddings Model to generate our Embeddings.\n",
    "        from langchain.embeddings import BedrockEmbeddings\n",
    "        llm_emb = BedrockEmbeddings(\n",
    "            client=boto3_bedrock,\n",
    "            model_id=bedrock_info.get_model_id(\n",
    "                model_name=\"Titan-Embeddings-G1\"\n",
    "            )\n",
    "        )\n",
    "        print(\"Bedrock Embeddings Model Loaded\")\n",
    "\n",
    "    elif is_KoSimCSERobert:\n",
    "        LLMEmbHandler = KoSimCSERobertaContentHandler()\n",
    "        endpoint_name_emb = endpont_name\n",
    "        llm_emb = SagemakerEndpointEmbeddingsJumpStart(\n",
    "            endpoint_name=endpoint_name_emb,\n",
    "            region_name=aws_region,\n",
    "            content_handler=LLMEmbHandler,\n",
    "        )\n",
    "        print(\"KoSimCSERobert Embeddings Model Loaded\")\n",
    "    else:\n",
    "        llm_emb = None\n",
    "        print(\"No Embedding Model Selected\")\n",
    "\n",
    "    return llm_emb"
   ]
  },
  {
   "cell_type": "markdown",
   "id": "cd72a6b8-eaf0-4036-a530-3bde5ba988cd",
   "metadata": {},
   "source": [
    "#### [중요] is_KoSimCSERobert == True 일시에 endpoint_name 을 꼭 넣어 주세요."
   ]
  },
  {
   "cell_type": "code",
   "execution_count": 9,
   "id": "f42e032b-8715-432c-ae71-12a889f8ffc0",
   "metadata": {
    "tags": []
   },
   "outputs": [
    {
     "name": "stdout",
     "output_type": "stream",
     "text": [
      "Bedrock Embeddings Model Loaded\n"
     ]
    }
   ],
   "source": [
    "is_bedrock_embeddings = True\n",
    "is_KoSimCSERobert = False\n",
    "aws_region = os.environ.get(\"AWS_DEFAULT_REGION\", None)\n",
    "\n",
    "##############################\n",
    "# Parameters for is_KoSimCSERobert\n",
    "##############################\n",
    "if is_KoSimCSERobert: endpont_name = \"<endpoint-name>\"\n",
    "else: endpont_name = None\n",
    "##############################\n",
    "\n",
    "llm_emb = get_embedding_model(is_bedrock_embeddings, is_KoSimCSERobert, aws_region, endpont_name)   "
   ]
  },
  {
   "cell_type": "markdown",
   "id": "e10b67d5-382e-4715-a841-eb07b8655da8",
   "metadata": {},
   "source": [
    "## 3. Depoly ReRanker model (if needed)"
   ]
  },
  {
   "cell_type": "code",
   "execution_count": 10,
   "id": "9a08a296-41ef-44cb-857b-63d05a8d187c",
   "metadata": {
    "tags": []
   },
   "outputs": [
    {
     "name": "stdout",
     "output_type": "stream",
     "text": [
      "sagemaker.config INFO - Not applying SDK defaults from location: /etc/xdg/sagemaker/config.yaml\n",
      "sagemaker.config INFO - Not applying SDK defaults from location: /home/ec2-user/.config/sagemaker/config.yaml\n"
     ]
    }
   ],
   "source": [
    "import json\n",
    "import sagemaker\n",
    "from sagemaker.huggingface import HuggingFaceModel"
   ]
  },
  {
   "cell_type": "code",
   "execution_count": 11,
   "id": "33dd04a7-8200-49e7-ae69-55a82be199b4",
   "metadata": {
    "tags": []
   },
   "outputs": [],
   "source": [
    "depoly = False"
   ]
  },
  {
   "cell_type": "code",
   "execution_count": 12,
   "id": "9d40e3dd-a19f-4af3-831a-0cfe79e72cb3",
   "metadata": {
    "tags": []
   },
   "outputs": [],
   "source": [
    "if depoly:\n",
    "\n",
    "    try:\n",
    "        role = sagemaker.get_execution_role()\n",
    "    except ValueError:\n",
    "        iam = boto3.client('iam')\n",
    "        role = iam.get_role(RoleName='sagemaker_execution_role')['Role']['Arn']\n",
    "\n",
    "    # Hub Model configuration. https://huggingface.co/models\n",
    "    hub = {\n",
    "        'HF_MODEL_ID':'BAAI/bge-reranker-large',\n",
    "        'HF_TASK':'text-classification'\n",
    "    }\n",
    "\n",
    "    # create Hugging Face Model Class\n",
    "    huggingface_model = HuggingFaceModel(\n",
    "        transformers_version='4.26.0',\n",
    "        pytorch_version='1.13.1',\n",
    "        py_version='py39',\n",
    "        env=hub,\n",
    "        role=role, \n",
    "    )\n",
    "\n",
    "    # deploy model to SageMaker Inference\n",
    "    predictor = huggingface_model.deploy(\n",
    "        initial_instance_count=1, # number of instances\n",
    "        instance_type='ml.g5.xlarge' # instance type\n",
    "    )\n",
    "\n",
    "    print(f'Accept: {predictor.accept}')\n",
    "    print(f'ContentType: {predictor.content_type}')\n",
    "    print(f'Endpoint: {predictor.endpoint}')"
   ]
  },
  {
   "cell_type": "markdown",
   "id": "20e648ef-01ec-4e2f-ba88-7d2510fdb7a6",
   "metadata": {},
   "source": [
    "## 4. Invocation (prediction)"
   ]
  },
  {
   "cell_type": "code",
   "execution_count": 13,
   "id": "114be617-a687-4733-abb9-30394c7ef35f",
   "metadata": {
    "tags": []
   },
   "outputs": [
    {
     "name": "stdout",
     "output_type": "stream",
     "text": [
      "runtime_client: <botocore.client.SageMakerRuntime object at 0x7f01c04678e0>\n"
     ]
    }
   ],
   "source": [
    "runtime_client = boto3.Session().client('sagemaker-runtime')\n",
    "print (f'runtime_client: {runtime_client}')"
   ]
  },
  {
   "cell_type": "code",
   "execution_count": 14,
   "id": "26ee5c45-de87-4a2b-bc04-bbc649fcd0c6",
   "metadata": {
    "tags": []
   },
   "outputs": [],
   "source": [
    "#endpoint_name = \"huggingface-pytorch-inference-2023-11-15-04-37-45-120\" # ml.m5.2xlarge\n",
    "endpoint_name = \"huggingface-pytorch-inference-2023-11-15-07-53-21-605\" # ml.g5.xlarge\n",
    "deserializer = \"application/json\""
   ]
  },
  {
   "cell_type": "code",
   "execution_count": 15,
   "id": "bd6288ed-b4fa-466f-9e2b-57484b827b0a",
   "metadata": {
    "tags": []
   },
   "outputs": [],
   "source": [
    "payload = json.dumps(\n",
    "    {\n",
    "        \"inputs\": [\n",
    "            {\"text\": \"I hate you\", \"text_pair\": \"I don't like you\"},\n",
    "            {\"text\": \"He hates you\", \"text_pair\": \"He like you\"}\n",
    "        ]\n",
    "    }\n",
    ")"
   ]
  },
  {
   "cell_type": "code",
   "execution_count": 16,
   "id": "124fd3f0-2b81-4b2b-af97-2f22b101f25d",
   "metadata": {
    "tags": []
   },
   "outputs": [],
   "source": [
    "payload = json.dumps(\n",
    "    {\n",
    "        \"inputs\": [\n",
    "            {\"text\": \"나는 너를 사랑하지 않아\", \"text_pair\": \"나는 너를 좋아하지 않아\"},\n",
    "            {\"text\": \"그는 너를 싫어해\", \"text_pair\": \"그는 너를 좋아해\"}\n",
    "        ]\n",
    "    }\n",
    ")"
   ]
  },
  {
   "cell_type": "code",
   "execution_count": 17,
   "id": "c1eebe88-8b92-4e81-a103-b5a5d7a91bb3",
   "metadata": {
    "tags": []
   },
   "outputs": [
    {
     "name": "stdout",
     "output_type": "stream",
     "text": [
      "Response: [{'label': 'LABEL_0', 'score': 0.9993010759353638}, {'label': 'LABEL_0', 'score': 0.021486487239599228}]\n",
      "CPU times: user 24.7 ms, sys: 2.56 ms, total: 27.3 ms\n",
      "Wall time: 102 ms\n"
     ]
    }
   ],
   "source": [
    "%%time\n",
    "response = runtime_client.invoke_endpoint(\n",
    "    EndpointName=endpoint_name,\n",
    "    ContentType=\"application/json\",\n",
    "    Accept=deserializer,\n",
    "    Body=payload\n",
    ")\n",
    "## deserialization\n",
    "out = json.loads(response['Body'].read().decode()) ## for json\n",
    "print (f'Response: {out}')"
   ]
  },
  {
   "cell_type": "markdown",
   "id": "7e432237-b9b5-4be3-aa0c-c30eeca6f480",
   "metadata": {},
   "source": [
    "## 5. LangChain OpenSearch VectorStore 정의\n",
    "### 선수 조건\n",
    "- 01_preprocess_docs/02_load_docs_opensearch.ipynb를 통해서 OpenSearch Index 가 생성이 되어 있어야 합니다.\n",
    "#### [중요] 아래에 aws parameter store 에 아래 인증정보가 먼저 입력되어 있어야 합니다.\n",
    "- 01_preprocess_docs/01_parameter_store_example.ipynb 참고"
   ]
  },
  {
   "cell_type": "code",
   "execution_count": 18,
   "id": "635ffe33-b1b1-49f7-ae14-07b782d30a63",
   "metadata": {
    "tags": []
   },
   "outputs": [],
   "source": [
    "from utils.proc_docs import get_parameter"
   ]
  },
  {
   "cell_type": "code",
   "execution_count": 19,
   "id": "42d192b6-68ce-465e-9fa7-04b5201f4453",
   "metadata": {
    "tags": []
   },
   "outputs": [],
   "source": [
    "ssm = boto3.client(\"ssm\", \"us-east-1\")\n",
    "\n",
    "opensearch_domain_endpoint = get_parameter(\n",
    "    boto3_clinet = ssm,\n",
    "    parameter_name = 'knox_opensearch_domain_endpoint',\n",
    ")\n",
    "\n",
    "opensearch_user_id = get_parameter(\n",
    "    boto3_clinet = ssm,\n",
    "    parameter_name = 'knox_opensearch_userid',\n",
    ")\n",
    "\n",
    "opensearch_user_password = get_parameter(\n",
    "    boto3_clinet = ssm,\n",
    "    parameter_name = 'knox_opensearch_password',\n",
    ")"
   ]
  },
  {
   "cell_type": "code",
   "execution_count": 20,
   "id": "fc7866fd-fd9c-4b41-b600-a91e43edfe4d",
   "metadata": {
    "tags": []
   },
   "outputs": [],
   "source": [
    "opensearch_domain_endpoint = opensearch_domain_endpoint\n",
    "rag_user_name = opensearch_user_id\n",
    "rag_user_password = opensearch_user_password\n",
    "\n",
    "http_auth = (rag_user_name, rag_user_password) # Master username, Master password"
   ]
  },
  {
   "cell_type": "markdown",
   "id": "161a900e-effc-4d7f-a179-b6c00eac03ad",
   "metadata": {
    "tags": []
   },
   "source": [
    "### Index 이름 셋팅\n",
    "- 이전 노트북 01_preprocess_docs/02_load_docs_opensearch.ipynb를 통해서 생성된 OpenSearch Index name 입력\n",
    "- parent document 용으로 생성된 index 사용할 것 "
   ]
  },
  {
   "cell_type": "code",
   "execution_count": 21,
   "id": "d5d9b5eb-052e-4e84-846b-c5385e853ba4",
   "metadata": {
    "tags": []
   },
   "outputs": [],
   "source": [
    "#index_name = \"v16-genai-poc-knox-eval-parent-doc-retriever\"\n",
    "index_name = \"v15-genai-poc-knox-parent-doc-retriever\"\n",
    "#index_name = \"v18-genai-poc-knox-kor-parent-doc-retriever\""
   ]
  },
  {
   "cell_type": "markdown",
   "id": "482f5785-b88d-44fa-a603-080e4bd734a6",
   "metadata": {},
   "source": [
    "### OpenSearch Client 생성"
   ]
  },
  {
   "cell_type": "code",
   "execution_count": 22,
   "id": "968b7502-5799-4702-bc17-959e88c330a2",
   "metadata": {
    "tags": []
   },
   "outputs": [],
   "source": [
    "from utils.opensearch import opensearch_utils"
   ]
  },
  {
   "cell_type": "code",
   "execution_count": 23,
   "id": "6ceb46a1-e425-4f7e-9319-793b55abb938",
   "metadata": {
    "tags": []
   },
   "outputs": [],
   "source": [
    "os_client = opensearch_utils.create_aws_opensearch_client(\n",
    "    aws_region,\n",
    "    opensearch_domain_endpoint,\n",
    "    http_auth\n",
    ")"
   ]
  },
  {
   "cell_type": "markdown",
   "id": "b41d685c-7590-42fd-9f8f-339b2ff197f5",
   "metadata": {},
   "source": [
    "# 아래수정"
   ]
  },
  {
   "cell_type": "markdown",
   "id": "a5084376-7523-4cf9-9123-adc4ae79f66d",
   "metadata": {
    "tags": []
   },
   "source": [
    "## 6. Retriever based on Hybrid Search + ParentDocument + ReRanker\n",
    "- LangChain에서 제공하는 **BaseRetriever** 클래스를 상속받아 **Custom Retriever**를 정의 할 수 있습니다.\n",
    "- Hybrid-Search에 대한 자세한 내용는 **\"01_rag_hybrid_search.ipyno\"** 에서 확인 가능합니다.\n",
    "- [Parent Document](https://towardsdatascience.com/forget-rag-the-future-is-rag-fusion-1147298d8ad1)\n",
    "![parent-document.png](../../../imgs/parent-document.png)"
   ]
  },
  {
   "cell_type": "markdown",
   "id": "29cf3877-ed50-4ca6-b319-fca654f011cc",
   "metadata": {
    "tags": []
   },
   "source": [
    "## Parent documents in Hybrid search\n",
    "- Lexical search: parent documents only\n",
    "- Semantic search: child documents first, getting parent documents corresponding to that child document"
   ]
  },
  {
   "cell_type": "code",
   "execution_count": 24,
   "id": "5db8e470-63a9-4c3d-94c8-1d270a6da822",
   "metadata": {
    "tags": []
   },
   "outputs": [],
   "source": [
    "from utils.rag import OpenSearchHybridSearchRetriever"
   ]
  },
  {
   "cell_type": "markdown",
   "id": "d7feac2f-21a2-4756-b989-66c180bb1e79",
   "metadata": {},
   "source": [
    "- 필터 설정 예시\n",
    "- filter=[ <BR>\n",
    "    　{\"term\": {\"metadata.[**your_metadata_attribute_name**]\": \"**your first keyword**\"}}, <BR>\n",
    "    　{\"term\": {\"metadata.[**your_metadata_attribute_name**]\": \"**your second keyword**\"}},<BR>\n",
    "]"
   ]
  },
  {
   "cell_type": "code",
   "execution_count": 39,
   "id": "49c7e131-294f-4ff8-9331-989709c7079c",
   "metadata": {
    "tags": []
   },
   "outputs": [],
   "source": [
    "opensearch_hybrid_retriever = OpenSearchHybridSearchRetriever(\n",
    "    os_client=os_client,\n",
    "    index_name=index_name,\n",
    "    llm_text=llm_text, # llm for query augmentation in both rag_fusion and HyDE\n",
    "    llm_emb=llm_emb, # Used in semantic search based on opensearch \n",
    "\n",
    "    # option for lexical\n",
    "    minimum_should_match=0,\n",
    "    filter=[],\n",
    "\n",
    "    # option for search\n",
    "    fusion_algorithm=\"RRF\", # [\"RRF\", \"simple_weighted\"], rank fusion 방식 정의\n",
    "    ensemble_weights=[.51, .49], # [for semantic, for lexical], Semantic, Lexical search 결과에 대한 최종 반영 비율 정의\n",
    "    reranker=True, # enable reranker with reranker model\n",
    "    reranker_endpoint_name=endpoint_name, # endpoint name for reranking model\n",
    "    parent_document = True, # enable parent document\n",
    "\n",
    "    # option for async search\n",
    "    async_mode=True,\n",
    "\n",
    "    # option for output\n",
    "    k=5, # 최종 Document 수 정의\n",
    "    verbose=True,\n",
    ")"
   ]
  },
  {
   "cell_type": "markdown",
   "id": "cfb26835-ad98-41c5-9e9d-2453642e3551",
   "metadata": {},
   "source": [
    "### Retrieval example\n",
    "- default search"
   ]
  },
  {
   "cell_type": "code",
   "execution_count": 40,
   "id": "9c06e89f-79de-413c-ba9c-a188ca3fe2d0",
   "metadata": {
    "tags": []
   },
   "outputs": [],
   "source": [
    "from utils.rag import show_context_used"
   ]
  },
  {
   "cell_type": "code",
   "execution_count": 41,
   "id": "fe3bfee3-dac1-45b9-8795-03e36c1632a9",
   "metadata": {
    "tags": []
   },
   "outputs": [],
   "source": [
    "query = \"what is verify DM\""
   ]
  },
  {
   "cell_type": "code",
   "execution_count": 42,
   "id": "05b13e5e-4a66-4dc8-b18c-42a6e3bd6037",
   "metadata": {
    "tags": []
   },
   "outputs": [
    {
     "name": "stdout",
     "output_type": "stream",
     "text": [
      "ensemble_weights [0.5, 0.4]\n",
      "===== ParentDocument =====\n",
      "filter: [{'term': {'metadata.family_tree': 'child'}}]\n",
      "# child_docs: 5\n",
      "# parent docs: 5\n",
      "# duplicates: 0\n",
      "##############################\n",
      "async_mode\n",
      "##############################\n",
      "True\n",
      "##############################\n",
      "reranker\n",
      "##############################\n",
      "True\n",
      "##############################\n",
      "rag_fusion\n",
      "##############################\n",
      "False\n",
      "##############################\n",
      "HyDE\n",
      "##############################\n",
      "False\n",
      "##############################\n",
      "parent_document\n",
      "##############################\n",
      "True\n",
      "##############################\n",
      "similar_docs_semantic\n",
      "##############################\n",
      "[(Document(page_content='. The Admin package signature checksum is the Base64 encoded SHA-256 hash of the MDM APK signature, which is URL friendly. You can get this value from your MDM. Go here for information on the `EXTRA_PROVISIONING_DEVICE_ADMIN_SIGNATURE_CHECKSUM`. Alternatively, you can use utilities such as keytool on Linux to get this value. For additional information, go here.', metadata={'source': 'all_processed_data.json', 'seq_num': 559, 'title': 'What is the valid input for Signing Key?', 'url': 'https://docs.samsungknox.com/admin/knox-mobile-enrollment/on-premise/kbas/kba-3-valid-input-signing-key', 'project': 'KME', 'last_updated': '2023-07-26', 'family_tree': 'child', 'parent_id': '60aa87de-5e5b-4c35-87bd-6555ce9570e6', 'id': 'ec8db887-832d-4f53-aa09-c8ad6b7b348c'}), 1.0), (Document(page_content='. The Admin component name is expressed as _package name/class name_. For example, com.airwatch.androidagent/com.airwatch.agent.DeviceAdministratorReceiver for the Workspace ONE UEM. The Admin package signature checksum is the Base64 encoded SHA-256 hash of the MDM APK signature, which is URL friendly. You can get this value from your MDM. Go here for information on the EXTRA_PROVISIONING_DEVICE_ADMIN_SIGNATURE_CHECKSUM. Alternatively, you can use utilities such as _Keytool_ on Linux to get this value. Go here\" for additional information. The MDM app name is the name of the app displayed on the Managed Provisioning screen. The App icon is the icon displayed next to the MDM app name. The minimum size is 48 x 48 pixels, and the file format needs to be a PNG file. To use this information to create an enrollment profile, see Android Enterprise profiles. What\\'s new pop-up messaging This release introduces a pop-message with new descriptive text of the new features introduced with the KCS 1.34 release', metadata={'source': 'all_processed_data.json', 'seq_num': 503, 'title': 'Knox Mobile Enrollment 1.34 release notes', 'url': 'https://docs.samsungknox.com/admin/knox-mobile-enrollment/release-notes/20-09', 'project': 'KME', 'last_updated': '2023-07-26', 'family_tree': 'child', 'parent_id': '4de58c08-25ee-4b19-9399-77f89f9a2953', 'id': 'e530ecd8-7b22-48f3-8342-92ff3dd35f9d'}), 0.9929978977785126), (Document(page_content='. Policy Description Supported system Play Integrity (SafetyNet Attestation) Allows checks to validate the integrity of the device. The Play Integrity API replaces the SafetyNet Attestation API, which is being deprecated in June 2024. The Play Integrity API improves the detection of device-side accounts as well as Google Play app and user accounts. We recommend that you upgrade to the latest Knox Manage agent and migrate to the Play Integrity API. For more information, see Migrating from the SafetyNet Attestation API in the Android Developer documentation. Android 6 and higher &gt; Verification Interval (days) Set an interval at which to assess the devices. &gt; Verification Failure Policy (During Enrollment) Select a measure. Admin Alert &mdash; Sends an alert to the administrator. Unenrollment (Factory Reset) (for DO only)&mdash;Unenrolls the device and performs a factory reset. Unenrollment (for PO only)&mdash;Unenrolls the device. &gt; Verification Failure Policy (After Enrollment) Select a measure', metadata={'source': 'all_processed_data.json', 'seq_num': 911, 'title': 'Android Enterprise policies', 'url': 'https://docs.samsungknox.com/admin/knox-manage/configure/profile/configure-profile-policies/android-enterprise-policies', 'project': 'KM', 'last_updated': '2023-09-06', 'family_tree': 'child', 'parent_id': 'a1250780-aeac-4365-afe5-9ca6f41834cd', 'id': 'dba80154-d0a2-4e0f-9670-2c676ba91a4b'}), 0.9854943377850519), (Document(page_content='. Activate S/MIME Check to activate and configure S/MIME functions for email security. &gt; S/MIME signing certificate input method Select EMM Management Certificate or Connector interworking. EMM Management Certificate &mdash; Register an external certificate on the Knox Manage server for each network setting, and then verify each network setting using that certificate. All users share this one certificate for each network setting. Note Navigate to Advanced &gt; Certificate &gt; External Certificate to register network settings for each purpose. When you search for a user using the filter set for the connector, the user certificate (P12 or PFX) corresponding to the obtained user information is applied along with a profile, allowing you to use this certificate to verify the user. Connector interworking &mdash; Verifies network settings using the user information obtained by applying the filter set for the connector', metadata={'source': 'all_processed_data.json', 'seq_num': 916, 'title': 'iOS policies', 'url': 'https://docs.samsungknox.com/admin/knox-manage/configure/profile/configure-profile-policies/ios-policies', 'project': 'KM', 'last_updated': '2023-07-26', 'family_tree': 'child', 'parent_id': '68bf0c89-2058-4def-840b-a1691a12a986', 'id': 'e386b890-e196-4ba1-9334-1c34eee7d2b9'}), 0.9823185852985971), (Document(page_content='to activate Agent User Enrollment MDM (Device &#x2192; Server) Agent Request for check-in (Server &#x2192; Device) Agent Response for check-out (Server &#x2192; Device) Agent Request to activate MDM (Server &#x2192; Device) Agent Request for MDM profile (Server &#x2192; Device) Agent Request for SCEP profile (Server &#x2192; Device) Agent Request for token update (Server &#x2192; Device) Request to activate Agent User Enrollment MDM (Server &#x2192; Device) Confirm Enrollment (Knox) (Device &#x2192; Server) Confirm Enrollment (Knox) (Server &#x2192; Device) Generate OTP (One Time Password) Code EMM Enrollment (Device &#x2192; Server) EMM Enrollment (Server &#x2192; Device) EMM Enrollment Spec (Device &#x2192; Server) EMM Enrollment Spec (Server &#x2192; Device) Azure AD Device Sync Request Request for discovery URL (Device &#x2192; Server) Respond to the request for Discovery URL (Server &#x2192; Device) Respond to the request to set DM Client Request to verify Federated equipment (Device &#x2192;', metadata={'source': 'all_processed_data.json', 'seq_num': 781, 'title': 'Server audit events', 'url': 'https://docs.samsungknox.com/admin/knox-manage/appendix/list-of-audit-events/server-audit-events', 'project': 'KM', 'last_updated': '2023-07-26', 'family_tree': 'child', 'parent_id': '66455f42-d323-4265-af82-362139bed990', 'id': 'a424a205-ec93-4bf8-a822-18703d4b3e4e'}), 0.973594753204905), (Document(page_content='. Connector interworking &mdash; Verifies network settings using the user information obtained by applying the filter set for the connector. To verify the network settings on the device, you should set the Service Type as Profile Configuration(Certification) when you register a connector in Advanced &gt; System Integration &gt; Directory Connector. To learn more about how to add a directory connector, see Adding sync services. &gt; S/MIME Signing Certificate Available only when EMM Management Certificate is selected. Choose the signing certificate according to the S/MIME signing certificate input method. &gt; S/MIME signing certificate Connector Available only when Connector interworking is selected Choose the signing certificate connector according to the S/MIME signing certificate input method. &gt; S/MIME encryption certificate input method Select EMM Management Certificate or Connector interworking', metadata={'source': 'all_processed_data.json', 'seq_num': 916, 'title': 'iOS policies', 'url': 'https://docs.samsungknox.com/admin/knox-manage/configure/profile/configure-profile-policies/ios-policies', 'project': 'KM', 'last_updated': '2023-07-26', 'family_tree': 'child', 'parent_id': '68bf0c89-2058-4def-840b-a1691a12a986', 'id': '48eb9375-9c48-41a3-8fa8-ef06a154187e'}), 0.9724664997822489), (Document(page_content='. If set, some premium web content might be unavailable to the device user. Chrome OS 99 and higher Verified mode Controls whether Verified Access can attest the Chromebook if it boots into developer mode. For more details, see Enable Verified Access with Chrome OS devices. Values Require verified mode boot for verified access &mdash; If the Chromebook boots into developer mode, it fails verification by Verified Access. Skip boot mode for verified access &mdash; If the Chromebook boots into developer mode, it can be verified by Verified Access. Chrome OS 99 and higher &gt; Services with full access Specifies an allowlist of email addresses of Google service accounts with full access to the Google Verified Access API. These are the service accounts created on the Google Cloud Platform Console. Values To add an account, enter it and click . To remove one, click', metadata={'source': 'all_processed_data.json', 'seq_num': 914, 'title': 'Chrome OS policies', 'url': 'https://docs.samsungknox.com/admin/knox-manage/configure/profile/configure-profile-policies/chrome-os-policies', 'project': 'KM', 'last_updated': '2023-07-26', 'family_tree': 'child', 'parent_id': '2f52fe94-7528-44ea-ba57-09e2dcc692df', 'id': '3185527e-f639-490d-a5bb-0d5117b6eefe'}), 0.9709379150194914)]\n",
      "##############################\n",
      "similar_docs_keyword\n",
      "##############################\n",
      "[(Document(page_content='to activate Agent User Enrollment MDM (Device &#x2192; Server) Agent Request for check-in (Server &#x2192; Device) Agent Response for check-out (Server &#x2192; Device) Agent Request to activate MDM (Server &#x2192; Device) Agent Request for MDM profile (Server &#x2192; Device) Agent Request for SCEP profile (Server &#x2192; Device) Agent Request for token update (Server &#x2192; Device) Request to activate Agent User Enrollment MDM (Server &#x2192; Device) Confirm Enrollment (Knox) (Device &#x2192; Server) Confirm Enrollment (Knox) (Server &#x2192; Device) Generate OTP (One Time Password) Code EMM Enrollment (Device &#x2192; Server) EMM Enrollment (Server &#x2192; Device) EMM Enrollment Spec (Device &#x2192; Server) EMM Enrollment Spec (Server &#x2192; Device) Azure AD Device Sync Request Request for discovery URL (Device &#x2192; Server) Respond to the request for Discovery URL (Server &#x2192; Device) Respond to the request to set DM Client Request to verify Federated equipment (Device &#x2192;', metadata={'source': 'all_processed_data.json', 'seq_num': 781, 'title': 'Server audit events', 'url': 'https://docs.samsungknox.com/admin/knox-manage/appendix/list-of-audit-events/server-audit-events', 'project': 'KM', 'last_updated': '2023-07-26', 'family_tree': 'child', 'parent_id': '66455f42-d323-4265-af82-362139bed990', 'id': 'a424a205-ec93-4bf8-a822-18703d4b3e4e'}), 1.0), (Document(page_content='Australia. Login to the portal You can check the detailed status of your claim by logging in to your Samsung Care+ for Business portal at samsungknox.com. Submit a single service request If you want to make a service request for a single device: 1. Go to the Submit New Service Request page. 2. Search the device ID. 3. Click on the checkbox next to the device. 4. Click NEXT. 5. In the next page, verify the device details and click VERIFY MY DEVICE. 6. Select what is the issue with the device. 7. Enter and confirm the delivery details. 8. Click SUBMIT. 9. In the CONFIRM SERVICE REQUEST pop-up, verify the details and click SUBMIT MY SERVICE REQUEST. Submit multiple service requests in bulk If you want to make service requests for multiple devices: 1. Go to the Submit New Service Request page. 3. Click on the checkbox next to the devices you want to make the service request for. 4. Click NEXT. 9. In the CONFIRM BULK SERVICE REQUEST pop-up, verify the details and click SUBMIT MY SERVICE REQUEST', metadata={'source': 'all_processed_data.json', 'seq_num': 341, 'title': 'Australia', 'url': 'https://docs.samsungknox.com/admin/care-plus/submit-a-claim/australia', 'project': 'SCPE', 'last_updated': '2023-07-26', 'family_tree': 'child', 'parent_id': 'f2764903-1fd6-48fd-b3fb-1f752ddef05f', 'id': 'b79792a8-3cd7-42a3-9934-7e5c7613ffae'}), 0.8257865446132411), (Document(page_content='. Start Minimum requirements There are only a few requirements you need to meet to take advantage of the Knox Platform for Enterprise: 1. An MDM\"and a Samsung device that is compatible with Knox Platform for Enterprise. Knox Platform for Enterprise is supported on select Samsung Android Devices. Contact your operator to verify that your devices are compatible. Our MDM partners support many Knox features and comprehensive policy levels. 2. A valid Knox License. 3. A Samsung Knox account (optional). This allows you to manage your license keys, submit support tickets and access other Knox related assets. Check what version of the Knox Platform is running on your devices To find out what version of the Knox platform your device is running, go to: Settings > About Device > Software Information > Knox Version. To identify the SDK version that corresponds with the Knox API Level of your target devices, see the Knox version mapping table in Samsung Knox Developer documentation. #Recommended Knox solutions 1', metadata={'source': 'all_processed_data.json', 'seq_num': 1342, 'title': 'Knox Platform for Enterprise', 'url': 'https://docs.samsungknox.com/admin/knox-platform-for-enterprise', 'project': 'KPE', 'last_updated': '2023-07-26', 'family_tree': 'child', 'parent_id': '52a09b9b-1d20-4de4-b510-a2d59c66e22c', 'id': '9b57fafe-2587-42e3-9797-4b717563f989'}), 0.8102080154858708), (Document(page_content=\". NOTE - You can't select a firmware version to apply when creating a test campaign. Instead, dummy firmware is applied by default. 6. Click Assign. 7. Click Create and Activate. The campaign is added to the Campaigns list. 8. Check the device for the dummy firmware update. If the campaign is applied successfully, the device status changes to Campaign Active. In the following example, the dummy firmware to be applied has the file extension .DM. 9. When you're done with your test campaign, revert the dummy firmware to regular firmware. 1. Go to Devices > All Devices. 2. Click Action > Unassign campaign. The device status changes to Enrolled and the dummy firmware is reverted to regular firmware.\", metadata={'source': 'all_processed_data.json', 'seq_num': 230, 'title': 'Create a test campaign', 'url': 'https://docs.samsungknox.com/admin/efota-one/features/create-a-campaign/create-a-test-campaign', 'project': 'EFOTA', 'last_updated': '2023-07-26', 'family_tree': 'child', 'parent_id': 'a87d58c0-887b-4456-bff9-2971e8604704', 'id': '84d46303-91ef-4704-af6e-0d4f5e5f69d1'}), 0.796688887987916), (Document(page_content=\"What can I do if I'm not receiving the verification email when registering for a Samsung Account?. Here are some possible scenarios for not getting the verification email, and actions you can try: Scenario Action You can't access the device used for 2-step verification. Contact Samsung Support in your region. After we verify your identity (full name, date of birth, device IMEI or serial number), we temporarily deactivate two-step verification. You can then sign in to your account and register a new device or change the phone number used for two-step verification. You lost your backup code. Contact Samsung Support in your region. After we verify your identity (full name, date of birth, device IMEI or serial number), we send you a new backup code. You can't access the email account used to register the Samsung Account. As per our Samsung Account policy, if you lose access to your email account, you should create a new Samsung account and associate it with a new email address\", metadata={'source': 'all_processed_data.json', 'seq_num': 181, 'title': \"What can I do if I'm not receiving the verification email when registering for a Samsung Account?\", 'url': 'https://docs.samsungknox.com/admin/fundamentals/kbas/kba-360032622774', 'project': 'USP', 'last_updated': '2023-07-26', 'family_tree': 'child', 'parent_id': 'fb5cd13a-15d3-4cd3-a393-d77f25fd69f3', 'id': 'c7596d6b-3a5d-44d0-94ec-558616d7ca65'}), 0.7366747791243617), (Document(page_content='. Try to manually refresh the client on the device by executing a Force client refresh. If the problem persists, contact Samsung. Failed to install 762 Firmware installation has failed because the installation is terminated by the system. Try to manually refresh the client on the device by executing a Force client refresh. If the problem persists, contact Samsung. Failed to install 763 Firmware installation has failed because an unexpected error occurred. Try to manually refresh the client on the device by executing a Force client refresh. If the problem persists, contact Samsung. Failed to install 764 Firmware installation has failed because an error occurred during the delta firmware installation process. Try to manually refresh the client on the device by executing a Force client refresh. If the problem persists, contact Samsung. Failed to install 765 Firmware installation has failed because the dm-verity check failed in recovery mode', metadata={'source': 'all_processed_data.json', 'seq_num': 285, 'title': 'Error codes', 'url': 'https://docs.samsungknox.com/admin/efota-one/troubleshoot/error-codes', 'project': 'EFOTA', 'last_updated': '2023-08-15', 'family_tree': 'child', 'parent_id': '0c69f417-c45c-4ac6-be20-80718407c05c', 'id': '45c4d50a-bbaa-4ef3-9427-be5826a3efe0'}), 0.7126545083474819), (Document(page_content=\"Debug mode. We understand that successfully deploying your policies and settings correctly is important. To help you test and deploy your configurations, Knox Service Plugin (KSP) includes a setting called Debug mode. Overview By default, KSP runs in the background and does not have a UI. Debug mode enables you to easily see policy results and errors on a device, so you can verify that your configurations are correct. When turned on, it launches an app that displays the status of policies. This app should auto-launch when it receives any new polices. We recommend you use Debug mode with a limited number of devices. You should turn it off for full deployments. Here's what debug mode looks like when opened manually on a device: The app provides a list of the polices that you have pushed, along with details about the last configuration, including: Policy title - Name of the policy. Message - Description of the policy, along with the status of the policy application\", metadata={'source': 'all_processed_data.json', 'seq_num': 1306, 'title': 'Debug mode', 'url': 'https://docs.samsungknox.com/admin/knox-platform-for-enterprise/knox-service-plugin/troubleshoot/debug-mode', 'project': 'KSP', 'last_updated': '2023-07-26', 'family_tree': 'child', 'parent_id': 'f8199153-2888-41ef-94fa-52a503144127', 'id': 'c0cb221e-48a6-4f0c-a976-6f8dbf6f38ec'}), 0.683475514244102)]\n",
      "##############################\n",
      "similar_docs\n",
      "##############################\n",
      "[(Document(page_content='Server) Agent Respond to the request for Internal App MC Applied Result Report (Device &#x2192; Server) Agent Respond to the request to delete app data (Server &#x2192; Device) Agent Respond to the request to lock device (Server &#x2192; Device) Agent Respond to the request to run app (Server &#x2192; Device) Agent Respond to the request to unlock device (Server &#x2192; Device) Request Device Command (Reboot Device) (Device &#x2192; Server) Request to device command (Delete App Data) (Server &#x2192; google) Request to device command (Reboot Device) (Server &#x2192; google) Succeeded to add Applications event Succeeded to add Day &amp; Time event Succeeded to add Roaming event Succeeded to add SIM Change event Succeeded to add Wi-Fi SSID event Succeeded to remove Applications event Succeeded to remove Day &amp; Time event Succeeded to remove Roaming event Succeeded to remove SIM Change event Succeeded to remove Wi-Fi SSID event Update Exit Kiosk Code (Device Command) Request to update exit kiosk code (Request) Respond to the request to update exit kiosk code (Response) Request to update device unenrollment code (Request) Respond to the request to update device unenrollment code (Response) E-FOTA E-FOTA API, Get Firmware List E-FOTA API, Get License Information E-FOTA API, Get Token E-FOTA API, check group version E-FOTA API, network error E-FOTA API, view product, model, and agency E-FOTA API, Register CorpID E-FOTA API, Restrict Firmware E-FOTA history, Create group E-FOTA history, Delete group E-FOTA History, Edit group Device Finish Getting the Detailed Information of Device Commands for Chrome OS Finish Issuing the Commands for Kiosk Devices (Screenshot Set Volume) Duplicate Device Found Change License (Server) Register Device License (Server) Update Device License (Server) Register a Device Token for Push Deactivate device (Off-line) Email Send Mail To Admin (Async) Send Mail To Device (Async) Send Mail To User (Async) Execute Mail Schedule Job Execute Mail Scheduler Generate OTP(One Time Password) Code Enrollment Prevent reactivation Prevent reactivation EMM Enrollment Spec (Device &#x2192; Server) EMM Enrollment Spec (Server &#x2192; Device) EMM Enrollment Spec (Device &#x2192; Server) EMM Enrollment Spec (Server &#x2192; Device) Disable service -Android (Device &#x2192; Server) Disable service -Android (Server &#x2192; Device) Update KLM/ELM license during activation (Device &#x2192; Server) Update KLM/ELM license during activation (Server &#x2192; Device) UMC Enrollment Request UMC Enrollment Response UMC User Search Request UMC User Search Response UMC Unenrollment Request UMC Unenrollment Response UMC Enrollment Information Update Request UMC Enrollment Information Update Response Agent Request for check-in (Device &#x2192; Server) Agent Request for check-out (Device &#x2192; Server) Agent Request to activate MDM (Device &#x2192; Server) Agent Request for MDM profile (Device &#x2192; Server) Agent Request for SCEP profile (Device &#x2192; Server) Agent Request for token update (Device &#x2192; Server) Request to activate Agent User Enrollment MDM (Device &#x2192; Server) Agent Request for check-in (Server &#x2192; Device) Agent Response for check-out (Server &#x2192; Device) Agent Request to activate MDM (Server &#x2192; Device) Agent Request for MDM profile (Server &#x2192; Device) Agent Request for SCEP profile (Server &#x2192; Device) Agent Request for token update (Server &#x2192; Device) Request to activate Agent User Enrollment MDM (Server &#x2192; Device) Confirm Enrollment (Knox) (Device &#x2192; Server) Confirm Enrollment (Knox) (Server &#x2192; Device) Generate OTP (One Time Password) Code EMM Enrollment (Device &#x2192; Server) EMM Enrollment (Server &#x2192; Device) EMM Enrollment Spec (Device &#x2192; Server) EMM Enrollment Spec (Server &#x2192; Device) Azure AD Device Sync Request Request for discovery URL (Device &#x2192; Server) Respond to the request for Discovery URL (Server &#x2192; Device) Respond to the request to set DM Client Request to verify Federated equipment (Device &#x2192;', metadata={'source': 'all_processed_data.json', 'seq_num': 781, 'title': 'Server audit events', 'url': 'https://docs.samsungknox.com/admin/knox-manage/appendix/list-of-audit-events/server-audit-events', 'project': 'KM', 'last_updated': '2023-07-26', 'family_tree': 'parent', 'parent_id': None}), 0.030597355216741562), (Document(page_content=\". For more information, see Understand Chrome policy management. Values Enter one policy per line in the field or enter the wildcard character (*) to allow all supported policies to merge. Chrome OS 99 and higher #Other Settings Policy Description Supported system Policy fetch delay Specifies the maximum delay between when a policy invalidation signal is received and the new policy is fetched from the device management service. Values Enter a delay, in milliseconds. Valid values range from 1,000 (1 second) to 300,000 (5 minutes). Values above or below the range are clamped. If this value is unset, the default delay is 10 seconds. Chrome OS 99 and higher Wi-Fi network configurations sync Allows the device user to sync Wi-Fi network configurations between the Chromebook and a connected Android phone. Values Allow Wi-Fi network configurations to be synced across Google Chrome OS devices and a connected Android phone &mdash; Wi-Fi network configurations can be synced. The device user must first explicitly opt-in to this feature by completing a setup flow. Do not allow Wi-Fi network configurations to be synced across Google Chrome OS devices and a connected Android phone &mdash;Wi-Fi network configurations can't be synced. Chrome OS 99 and higher Persistent quota for webkitRequestFileSystem Enables persistent quota functionality for the webkitRequestFileSystem until Chrome OS 107. This policy has been deprecated. Values Disable persistent quota &mdash; The persistent type webkitRequestFileSystem uses temporary quota. Enable persistent quota &mdash; The persistent type webkitRequestFileSystem uses persistent quota. Chrome OS 106 to 107 Device To access the following policies, go to Profile details > Modify Policy. #Enrollment and access Policy Description Supported system Forced re-enrollment Controls if a device is forced to re-enroll in your account after it's wiped. Re-enrolling a wiped device to your account ensures that the policies you set are still enforced. Values Force device to automatically re-enroll after wiping &mdash; A wiped device re-enrolls automatically without the device user's credentials. Force device to re-enroll with user credentials after wiping &mdash; The device user needs to enter their credentials to re-enroll a wiped device. Device is not forced to re-enroll after wiping &mdash; A wiped device isn't forced to re-enroll. Chrome OS 99 and higher Powerwash Allows the device user to factory reset the Chromebook. Values Allow users to trigger powerwash (default) Do not allow users to trigger powerwash Chrome OS 99 and higher Verified access Enables a web service that requests proof that the Chromebook is unmodified and policy-compliant. For more details on this topic, see Enable Verified Access with Chrome OS devices. Values Ensure devices in your organization will verify their identity to content providers using a unique key &mdash; Enables Verified Access on the Chromebook. Do not require devices to verify their identity to content providers &mdash; Verified Access on the Chromebook. If set, some premium web content might be unavailable to the device user. Chrome OS 99 and higher Verified mode Controls whether Verified Access can attest the Chromebook if it boots into developer mode. For more details, see Enable Verified Access with Chrome OS devices. Values Require verified mode boot for verified access &mdash; If the Chromebook boots into developer mode, it fails verification by Verified Access. Skip boot mode for verified access &mdash; If the Chromebook boots into developer mode, it can be verified by Verified Access. Chrome OS 99 and higher &gt; Services with full access Specifies an allowlist of email addresses of Google service accounts with full access to the Google Verified Access API. These are the service accounts created on the Google Cloud Platform Console. Values To add an account, enter it and click . To remove one, click\", metadata={'source': 'all_processed_data.json', 'seq_num': 914, 'title': 'Chrome OS policies', 'url': 'https://docs.samsungknox.com/admin/knox-manage/configure/profile/configure-profile-policies/chrome-os-policies', 'project': 'KM', 'last_updated': '2023-07-26', 'family_tree': 'parent', 'parent_id': None}), 0.004540398716926575), (Document(page_content='. Activate S/MIME Check to activate and configure S/MIME functions for email security. &gt; S/MIME signing certificate input method Select EMM Management Certificate or Connector interworking. EMM Management Certificate &mdash; Register an external certificate on the Knox Manage server for each network setting, and then verify each network setting using that certificate. All users share this one certificate for each network setting. Note Navigate to Advanced &gt; Certificate &gt; External Certificate to register network settings for each purpose. When you search for a user using the filter set for the connector, the user certificate (P12 or PFX) corresponding to the obtained user information is applied along with a profile, allowing you to use this certificate to verify the user. Connector interworking &mdash; Verifies network settings using the user information obtained by applying the filter set for the connector. To verify the network settings on the device, you should set the Service Type as Profile Configuration(Certification) when you register a connector in Advanced &gt; System Integration &gt; Directory Connector. To learn more about how to add a directory connector, see Adding sync services. &gt; S/MIME Signing Certificate Available only when EMM Management Certificate is selected. Choose the signing certificate according to the S/MIME signing certificate input method. &gt; S/MIME signing certificate Connector Available only when Connector interworking is selected Choose the signing certificate connector according to the S/MIME signing certificate input method. &gt; S/MIME encryption certificate input method Select EMM Management Certificate or Connector interworking. EMM Management Certificate &mdash; Register an external certificate on the Knox Manage server for each network setting, and then verify each network setting using that certificate. All users share this one certificate for each network setting. Note Navigate to Advanced &gt; Certificate &gt; External Certificate to register network settings for each purpose. Connector interworking &mdash; Verifies network settings using the user information obtained by applying the filter set for the connector. To verify the network settings on the device, you should set the Service Type as Profile Configuration(Certification) when you register a connector in Advanced &gt; System Integration &gt; Directory Connector. To learn more about how to add a directory connector, see Adding sync services. When you search for a user using the filter set for the connector, the user certificate (P12 or PFX) corresponding to the obtained user information is applied along with a profile, allowing you to use this certificate to verify the user. &gt; S/MIME Encryption Certificate Available only when EMM Management Certificate is selected. Choose the Encryption Certificate according to the S/MIME encryption certificate input method. &gt; S/MIME signing certificate Connector Available only when Connector interworking is selected Choose the signing certificate connector according to the S/MIME signing certificate input method. &gt; S/MIME Enable Per Message Switch Check the check box to enable S/MIME per message. Control Calendar App Toggles whether Exchange configures and syncs account data to the Calendar app, and whether the device user can also configure it. At least one app in this policy cluster must be set to Enable App. Control Contacts App Toggles whether Exchange configures and syncs account data to the Contacts app, and whether the device user can also configure it. At least one app in this policy cluster must be set to Enable App. Control Mail App Toggles whether Exchange configures and syncs account data to the Mail app, and whether the device user can also configure it. At least one app in this policy cluster must be set to Enable App. Control Note App Toggles whether Exchange configures and syncs account data to the Note app, and whether the device user can also configure it. At least one app in this policy cluster must be set to Enable App', metadata={'source': 'all_processed_data.json', 'seq_num': 916, 'title': 'iOS policies', 'url': 'https://docs.samsungknox.com/admin/knox-manage/configure/profile/configure-profile-policies/ios-policies', 'project': 'KM', 'last_updated': '2023-07-26', 'family_tree': 'parent', 'parent_id': None}), 0.0008257896988652647), (Document(page_content='Knox Mobile Enrollment 1.34 release notes. Allow Work Profile (PO) creation in KME via MDM selection This feature addresses admin requests to create a KME supported PO profile (work profile) with supported MDMs. With this release, you can now choose what type of out-of-box Android Enterprise enrollment to use. Previously, KME only supported fully managed devices via Device Owner (DO) mode, but with this release KME is also supporting out-of-box work profile creation via the Profile Owner (PO) mode, as long as it is supported by the MDM. This is accomplished by adding a profile option to \"Let MDM choose\" what kind of enrollment to use. This is a new feature introduced in Android 10, and not all MDMs currently support it. When configuring Android Enterprise profile settings, an admin is now presented the option of setting MDM INFORMATION to Force Device Owner enrollment. When Force Device Owner enrollment checkbox is selected, an admin is displayed the Android Enterprise profile settings screen with settings for a DO profile. However, if the Force DO enrollment checkbox is _not_ selected the admin is displayed the Android Enterprise profile settings screen (if running Android 10 or later) to let the MDM optionally enroll as a PO (Profile Owner). Profiles created before the KCS 1.34 release are set to Force Device Owner enrollment. The default setting for any newly created profile will also have this value. For information on configuring an Android Enterprise KME profile, see Android Enterprise profiles. On-premises Intranet hosted MDM APK support Often the most time consuming parts of device enrollment is downloading the MDM APK over the public Internet. With this release you can now host and download the APK from inside your own Intranet. Besides speeding up device enrollment, you can also host private MDM APKs that are not publically available. With this release, a This MDM APK is locally hosted on an Intranet server checkbox has been added to the Android Enterprise profile details screen to provide an alternative to an externally hosted MDM agent APK. Select this option to use an APK resource from within a local company Intranet. This option is disabled by default. If the Publically available MDM APK option is selected, then a text box displays. Enter the URL of a publically accessible version of the exact same MDM APK you are hosting within your local company Intranet. By default, Samsung recommends a location based on the MDM name you may have previously selected, but this can be overwritten. If there is no publically available exact match, then select Privately available MDM APK and provide the required information associated with the Intranet hosted MDM APK. This is used for validation during device enrollment, and also to display on the Managed Provisioning screen. The Admin component name is expressed as _package name/class name_. For example, com.airwatch.androidagent/com.airwatch.agent.DeviceAdministratorReceiver for the Workspace ONE UEM. The Admin package signature checksum is the Base64 encoded SHA-256 hash of the MDM APK signature, which is URL friendly. You can get this value from your MDM. Go here for information on the EXTRA_PROVISIONING_DEVICE_ADMIN_SIGNATURE_CHECKSUM. Alternatively, you can use utilities such as _Keytool_ on Linux to get this value. Go here\" for additional information. The MDM app name is the name of the app displayed on the Managed Provisioning screen. The App icon is the icon displayed next to the MDM app name. The minimum size is 48 x 48 pixels, and the file format needs to be a PNG file. To use this information to create an enrollment profile, see Android Enterprise profiles. What\\'s new pop-up messaging This release introduces a pop-message with new descriptive text of the new features introduced with the KCS 1.34 release. This will help familiarize admins and users with the latest functionality to assist with enrollment and deployment', metadata={'source': 'all_processed_data.json', 'seq_num': 503, 'title': 'Knox Mobile Enrollment 1.34 release notes', 'url': 'https://docs.samsungknox.com/admin/knox-mobile-enrollment/release-notes/20-09', 'project': 'KME', 'last_updated': '2023-07-26', 'family_tree': 'parent', 'parent_id': None}), 0.000497550587169826), (Document(page_content=\".0 and higher &gt; Data transfer Allows data exchanges with other devices using Bluetooth connection. Fully Managed &mdash; Samsung Knox 1.0 and higher &gt; Search mode Allows device search mode. Fully Managed &mdash; Samsung Knox 1.0 and higher Bluetooth Setting Specifies the controls for the Bluetooth use. Fully Managed &mdash; Android 8 and higher Bluetooth Share Allows Bluetooth sharing. Fully Managed &mdash; Android 8 and higher PC connection Allows connecting user's device to PC. Fully Managed &mdash; Android 6 and higher, Samsung Knox 1.0 and higher USB Debugging Allows the device user to enable USB debugging. Work Profile &mdash; Android 6 and higher Security Configures the security settings, such as Play Integrity (SafetyNet Attestation), Multifactor authentication, and screen timeout. Policy Description Supported system Play Integrity (SafetyNet Attestation) Allows checks to validate the integrity of the device. The Play Integrity API replaces the SafetyNet Attestation API, which is being deprecated in June 2024. The Play Integrity API improves the detection of device-side accounts as well as Google Play app and user accounts. We recommend that you upgrade to the latest Knox Manage agent and migrate to the Play Integrity API. For more information, see Migrating from the SafetyNet Attestation API in the Android Developer documentation. Android 6 and higher &gt; Verification Interval (days) Set an interval at which to assess the devices. &gt; Verification Failure Policy (During Enrollment) Select a measure. Admin Alert &mdash; Sends an alert to the administrator. Unenrollment (Factory Reset) (for DO only)&mdash;Unenrolls the device and performs a factory reset. Unenrollment (for PO only)&mdash;Unenrolls the device. &gt; Verification Failure Policy (After Enrollment) Select a measure. Admin Alert &mdash; Sends an alert to the administrator. Lock device (for DO only)&mdash;Locks the device. Unenrollment (Factory Reset) (for DO only)&mdash;Unenrolls the device and performs a factory reset. Unenrollment (for PO only)&mdash;Unenrolls the device. Maximum screen timeout Set the maximum time limit that a user can linger before screen timeout. Timeout settings apply based on the Use one lock setting on the work profile of a device: If Use one lock is enabled and two different values are set for Device Controls and Work Profile Controls, the smaller value applies. If Use one lock is enabled on personal profile of a personal device, set the maximum time under Device Controls. If Use one lock is disabled on a work profile of a company-owned device, the maximum time under Work Profile Controls applies. To set Use one lock on a device, go to Settings &gt; Work profile settings. Fully Managed &mdash; Android 6 and higher, Samsung Knox 2.0 and higher Work Profile &mdash; Android 12 and higher Personal area &mdash; Android 12 and higher Enforce Multi-factor Authentication Enable multifactor authentication (2FA) that unlocks a device only after two authentication methods are provided, including one biometric input&mdash;face, iris, or fingerprint&mdash;and one lock screen method, such as PIN, password, or pattern. Note Incorrect use of this policy together with One Lock and Biometric policy can lock your device. Fully Managed &mdash; Samsung Knox 3.0 and higher Screen Timeout Specify whether to allow the user to control the screen lock time setting. Fully Managed &mdash; Android 9.0 and higher Password Configures password and device lock screen settings. Policy Description Supported system Password Set the device's lock screen type and minimum quality. Use of the camera is prohibited when the device is locked. You can set up to two lock screen policy sets: Device Controls &mdash; The lock screen settings for the personal area of the device. Work Profile Controls &mdash; The lock screen settings for a device's Work Profile. After the Work Profile is set up, the device user is directed to set a lock screen\", metadata={'source': 'all_processed_data.json', 'seq_num': 911, 'title': 'Android Enterprise policies', 'url': 'https://docs.samsungknox.com/admin/knox-manage/configure/profile/configure-profile-policies/android-enterprise-policies', 'project': 'KM', 'last_updated': '2023-09-06', 'family_tree': 'parent', 'parent_id': None}), 0.00022958243789616972)]\n",
      "\n",
      "==========  Results  ==========\n",
      "\n",
      "1. question: what is verify DM\n",
      "2. # documents: 5\n",
      "3. Documents: \n",
      "\n",
      "-----------------------------------------------\n",
      "1. Chunk: 4089 Characters\n",
      "-----------------------------------------------\n",
      "Server) Agent Respond to the request for Internal App MC Applied Result Report (Device &#x2192;\n",
      "Server) Agent Respond to the request to delete app data (Server &#x2192; Device) Agent Respond to\n",
      "the request to lock device (Server &#x2192; Device) Agent Respond to the request to run app (Server\n",
      "&#x2192; Device) Agent Respond to the request to unlock device (Server &#x2192; Device) Request\n",
      "Device Command (Reboot Device) (Device &#x2192; Server) Request to device command (Delete App Data)\n",
      "(Server &#x2192; google) Request to device command (Reboot Device) (Server &#x2192; google)\n",
      "Succeeded to add Applications event Succeeded to add Day &amp; Time event Succeeded to add Roaming\n",
      "event Succeeded to add SIM Change event Succeeded to add Wi-Fi SSID event Succeeded to remove\n",
      "Applications event Succeeded to remove Day &amp; Time event Succeeded to remove Roaming event\n",
      "Succeeded to remove SIM Change event Succeeded to remove Wi-Fi SSID event Update Exit Kiosk Code\n",
      "(Device Command) Request to update exit kiosk code (Request) Respond to the request to update exit\n",
      "kiosk code (Response) Request to update device unenrollment code (Request) Respond to the request to\n",
      "update device unenrollment code (Response) E-FOTA E-FOTA API, Get Firmware List E-FOTA API, Get\n",
      "License Information E-FOTA API, Get Token E-FOTA API, check group version E-FOTA API, network error\n",
      "E-FOTA API, view product, model, and agency E-FOTA API, Register CorpID E-FOTA API, Restrict\n",
      "Firmware E-FOTA history, Create group E-FOTA history, Delete group E-FOTA History, Edit group Device\n",
      "Finish Getting the Detailed Information of Device Commands for Chrome OS Finish Issuing the Commands\n",
      "for Kiosk Devices (Screenshot Set Volume) Duplicate Device Found Change License (Server) Register\n",
      "Device License (Server) Update Device License (Server) Register a Device Token for Push Deactivate\n",
      "device (Off-line) Email Send Mail To Admin (Async) Send Mail To Device (Async) Send Mail To User\n",
      "(Async) Execute Mail Schedule Job Execute Mail Scheduler Generate OTP(One Time Password) Code\n",
      "Enrollment Prevent reactivation Prevent reactivation EMM Enrollment Spec (Device &#x2192; Server)\n",
      "EMM Enrollment Spec (Server &#x2192; Device) EMM Enrollment Spec (Device &#x2192; Server) EMM\n",
      "Enrollment Spec (Server &#x2192; Device) Disable service -Android (Device &#x2192; Server) Disable\n",
      "service -Android (Server &#x2192; Device) Update KLM/ELM license during activation (Device &#x2192;\n",
      "Server) Update KLM/ELM license during activation (Server &#x2192; Device) UMC Enrollment Request UMC\n",
      "Enrollment Response UMC User Search Request UMC User Search Response UMC Unenrollment Request UMC\n",
      "Unenrollment Response UMC Enrollment Information Update Request UMC Enrollment Information Update\n",
      "Response Agent Request for check-in (Device &#x2192; Server) Agent Request for check-out (Device\n",
      "&#x2192; Server) Agent Request to activate MDM (Device &#x2192; Server) Agent Request for MDM\n",
      "profile (Device &#x2192; Server) Agent Request for SCEP profile (Device &#x2192; Server) Agent\n",
      "Request for token update (Device &#x2192; Server) Request to activate Agent User Enrollment MDM\n",
      "(Device &#x2192; Server) Agent Request for check-in (Server &#x2192; Device) Agent Response for\n",
      "check-out (Server &#x2192; Device) Agent Request to activate MDM (Server &#x2192; Device) Agent\n",
      "Request for MDM profile (Server &#x2192; Device) Agent Request for SCEP profile (Server &#x2192;\n",
      "Device) Agent Request for token update (Server &#x2192; Device) Request to activate Agent User\n",
      "Enrollment MDM (Server &#x2192; Device) Confirm Enrollment (Knox) (Device &#x2192; Server) Confirm\n",
      "Enrollment (Knox) (Server &#x2192; Device) Generate OTP (One Time Password) Code EMM Enrollment\n",
      "(Device &#x2192; Server) EMM Enrollment (Server &#x2192; Device) EMM Enrollment Spec (Device\n",
      "&#x2192; Server) EMM Enrollment Spec (Server &#x2192; Device) Azure AD Device Sync Request Request\n",
      "for discovery URL (Device &#x2192; Server) Respond to the request for Discovery URL (Server &#x2192;\n",
      "Device) Respond to the request to set DM Client Request to verify Federated equipment (Device\n",
      "&#x2192;\n",
      "metadata:\n",
      " {'source': 'all_processed_data.json', 'seq_num': 781, 'title': 'Server audit events', 'url':\n",
      "'https://docs.samsungknox.com/admin/knox-manage/appendix/list-of-audit-events/server-audit-events',\n",
      "'project': 'KM', 'last_updated': '2023-07-26', 'family_tree': 'parent', 'parent_id': None}\n",
      "-----------------------------------------------\n",
      "2. Chunk: 3928 Characters\n",
      "-----------------------------------------------\n",
      ". For more information, see Understand Chrome policy management. Values Enter one policy per line in\n",
      "the field or enter the wildcard character (*) to allow all supported policies to merge. Chrome OS 99\n",
      "and higher #Other Settings Policy Description Supported system Policy fetch delay Specifies the\n",
      "maximum delay between when a policy invalidation signal is received and the new policy is fetched\n",
      "from the device management service. Values Enter a delay, in milliseconds. Valid values range from\n",
      "1,000 (1 second) to 300,000 (5 minutes). Values above or below the range are clamped. If this value\n",
      "is unset, the default delay is 10 seconds. Chrome OS 99 and higher Wi-Fi network configurations sync\n",
      "Allows the device user to sync Wi-Fi network configurations between the Chromebook and a connected\n",
      "Android phone. Values Allow Wi-Fi network configurations to be synced across Google Chrome OS\n",
      "devices and a connected Android phone &mdash; Wi-Fi network configurations can be synced. The device\n",
      "user must first explicitly opt-in to this feature by completing a setup flow. Do not allow Wi-Fi\n",
      "network configurations to be synced across Google Chrome OS devices and a connected Android phone\n",
      "&mdash;Wi-Fi network configurations can't be synced. Chrome OS 99 and higher Persistent quota for\n",
      "webkitRequestFileSystem Enables persistent quota functionality for the webkitRequestFileSystem until\n",
      "Chrome OS 107. This policy has been deprecated. Values Disable persistent quota &mdash; The\n",
      "persistent type webkitRequestFileSystem uses temporary quota. Enable persistent quota &mdash; The\n",
      "persistent type webkitRequestFileSystem uses persistent quota. Chrome OS 106 to 107 Device To access\n",
      "the following policies, go to Profile details > Modify Policy. #Enrollment and access Policy\n",
      "Description Supported system Forced re-enrollment Controls if a device is forced to re-enroll in\n",
      "your account after it's wiped. Re-enrolling a wiped device to your account ensures that the policies\n",
      "you set are still enforced. Values Force device to automatically re-enroll after wiping &mdash; A\n",
      "wiped device re-enrolls automatically without the device user's credentials. Force device to re-\n",
      "enroll with user credentials after wiping &mdash; The device user needs to enter their credentials\n",
      "to re-enroll a wiped device. Device is not forced to re-enroll after wiping &mdash; A wiped device\n",
      "isn't forced to re-enroll. Chrome OS 99 and higher Powerwash Allows the device user to factory reset\n",
      "the Chromebook. Values Allow users to trigger powerwash (default) Do not allow users to trigger\n",
      "powerwash Chrome OS 99 and higher Verified access Enables a web service that requests proof that the\n",
      "Chromebook is unmodified and policy-compliant. For more details on this topic, see Enable Verified\n",
      "Access with Chrome OS devices. Values Ensure devices in your organization will verify their identity\n",
      "to content providers using a unique key &mdash; Enables Verified Access on the Chromebook. Do not\n",
      "require devices to verify their identity to content providers &mdash; Verified Access on the\n",
      "Chromebook. If set, some premium web content might be unavailable to the device user. Chrome OS 99\n",
      "and higher Verified mode Controls whether Verified Access can attest the Chromebook if it boots into\n",
      "developer mode. For more details, see Enable Verified Access with Chrome OS devices. Values Require\n",
      "verified mode boot for verified access &mdash; If the Chromebook boots into developer mode, it fails\n",
      "verification by Verified Access. Skip boot mode for verified access &mdash; If the Chromebook boots\n",
      "into developer mode, it can be verified by Verified Access. Chrome OS 99 and higher &gt; Services\n",
      "with full access Specifies an allowlist of email addresses of Google service accounts with full\n",
      "access to the Google Verified Access API. These are the service accounts created on the Google Cloud\n",
      "Platform Console. Values To add an account, enter it and click . To remove one, click\n",
      "metadata:\n",
      " {'source': 'all_processed_data.json', 'seq_num': 914, 'title': 'Chrome OS policies', 'url':\n",
      "'https://docs.samsungknox.com/admin/knox-manage/configure/profile/configure-profile-policies/chrome-\n",
      "os-policies', 'project': 'KM', 'last_updated': '2023-07-26', 'family_tree': 'parent', 'parent_id':\n",
      "None}\n",
      "-----------------------------------------------\n",
      "3. Chunk: 4065 Characters\n",
      "-----------------------------------------------\n",
      ". Activate S/MIME Check to activate and configure S/MIME functions for email security. &gt; S/MIME\n",
      "signing certificate input method Select EMM Management Certificate or Connector interworking. EMM\n",
      "Management Certificate &mdash; Register an external certificate on the Knox Manage server for each\n",
      "network setting, and then verify each network setting using that certificate. All users share this\n",
      "one certificate for each network setting. Note Navigate to Advanced &gt; Certificate &gt; External\n",
      "Certificate to register network settings for each purpose. When you search for a user using the\n",
      "filter set for the connector, the user certificate (P12 or PFX) corresponding to the obtained user\n",
      "information is applied along with a profile, allowing you to use this certificate to verify the\n",
      "user. Connector interworking &mdash; Verifies network settings using the user information obtained\n",
      "by applying the filter set for the connector. To verify the network settings on the device, you\n",
      "should set the Service Type as Profile Configuration(Certification) when you register a connector in\n",
      "Advanced &gt; System Integration &gt; Directory Connector. To learn more about how to add a\n",
      "directory connector, see Adding sync services. &gt; S/MIME Signing Certificate Available only when\n",
      "EMM Management Certificate is selected. Choose the signing certificate according to the S/MIME\n",
      "signing certificate input method. &gt; S/MIME signing certificate Connector Available only when\n",
      "Connector interworking is selected Choose the signing certificate connector according to the S/MIME\n",
      "signing certificate input method. &gt; S/MIME encryption certificate input method Select EMM\n",
      "Management Certificate or Connector interworking. EMM Management Certificate &mdash; Register an\n",
      "external certificate on the Knox Manage server for each network setting, and then verify each\n",
      "network setting using that certificate. All users share this one certificate for each network\n",
      "setting. Note Navigate to Advanced &gt; Certificate &gt; External Certificate to register network\n",
      "settings for each purpose. Connector interworking &mdash; Verifies network settings using the user\n",
      "information obtained by applying the filter set for the connector. To verify the network settings on\n",
      "the device, you should set the Service Type as Profile Configuration(Certification) when you\n",
      "register a connector in Advanced &gt; System Integration &gt; Directory Connector. To learn more\n",
      "about how to add a directory connector, see Adding sync services. When you search for a user using\n",
      "the filter set for the connector, the user certificate (P12 or PFX) corresponding to the obtained\n",
      "user information is applied along with a profile, allowing you to use this certificate to verify the\n",
      "user. &gt; S/MIME Encryption Certificate Available only when EMM Management Certificate is selected.\n",
      "Choose the Encryption Certificate according to the S/MIME encryption certificate input method. &gt;\n",
      "S/MIME signing certificate Connector Available only when Connector interworking is selected Choose\n",
      "the signing certificate connector according to the S/MIME signing certificate input method. &gt;\n",
      "S/MIME Enable Per Message Switch Check the check box to enable S/MIME per message. Control Calendar\n",
      "App Toggles whether Exchange configures and syncs account data to the Calendar app, and whether the\n",
      "device user can also configure it. At least one app in this policy cluster must be set to Enable\n",
      "App. Control Contacts App Toggles whether Exchange configures and syncs account data to the Contacts\n",
      "app, and whether the device user can also configure it. At least one app in this policy cluster must\n",
      "be set to Enable App. Control Mail App Toggles whether Exchange configures and syncs account data to\n",
      "the Mail app, and whether the device user can also configure it. At least one app in this policy\n",
      "cluster must be set to Enable App. Control Note App Toggles whether Exchange configures and syncs\n",
      "account data to the Note app, and whether the device user can also configure it. At least one app in\n",
      "this policy cluster must be set to Enable App\n",
      "metadata:\n",
      " {'source': 'all_processed_data.json', 'seq_num': 916, 'title': 'iOS policies', 'url':\n",
      "'https://docs.samsungknox.com/admin/knox-manage/configure/profile/configure-profile-policies/ios-\n",
      "policies', 'project': 'KM', 'last_updated': '2023-07-26', 'family_tree': 'parent', 'parent_id':\n",
      "None}\n",
      "-----------------------------------------------\n",
      "4. Chunk: 3946 Characters\n",
      "-----------------------------------------------\n",
      "Knox Mobile Enrollment 1.34 release notes. Allow Work Profile (PO) creation in KME via MDM selection\n",
      "This feature addresses admin requests to create a KME supported PO profile (work profile) with\n",
      "supported MDMs. With this release, you can now choose what type of out-of-box Android Enterprise\n",
      "enrollment to use. Previously, KME only supported fully managed devices via Device Owner (DO) mode,\n",
      "but with this release KME is also supporting out-of-box work profile creation via the Profile Owner\n",
      "(PO) mode, as long as it is supported by the MDM. This is accomplished by adding a profile option to\n",
      "\"Let MDM choose\" what kind of enrollment to use. This is a new feature introduced in Android 10, and\n",
      "not all MDMs currently support it. When configuring Android Enterprise profile settings, an admin is\n",
      "now presented the option of setting MDM INFORMATION to Force Device Owner enrollment. When Force\n",
      "Device Owner enrollment checkbox is selected, an admin is displayed the Android Enterprise profile\n",
      "settings screen with settings for a DO profile. However, if the Force DO enrollment checkbox is\n",
      "_not_ selected the admin is displayed the Android Enterprise profile settings screen (if running\n",
      "Android 10 or later) to let the MDM optionally enroll as a PO (Profile Owner). Profiles created\n",
      "before the KCS 1.34 release are set to Force Device Owner enrollment. The default setting for any\n",
      "newly created profile will also have this value. For information on configuring an Android\n",
      "Enterprise KME profile, see Android Enterprise profiles. On-premises Intranet hosted MDM APK support\n",
      "Often the most time consuming parts of device enrollment is downloading the MDM APK over the public\n",
      "Internet. With this release you can now host and download the APK from inside your own Intranet.\n",
      "Besides speeding up device enrollment, you can also host private MDM APKs that are not publically\n",
      "available. With this release, a This MDM APK is locally hosted on an Intranet server checkbox has\n",
      "been added to the Android Enterprise profile details screen to provide an alternative to an\n",
      "externally hosted MDM agent APK. Select this option to use an APK resource from within a local\n",
      "company Intranet. This option is disabled by default. If the Publically available MDM APK option is\n",
      "selected, then a text box displays. Enter the URL of a publically accessible version of the exact\n",
      "same MDM APK you are hosting within your local company Intranet. By default, Samsung recommends a\n",
      "location based on the MDM name you may have previously selected, but this can be overwritten. If\n",
      "there is no publically available exact match, then select Privately available MDM APK and provide\n",
      "the required information associated with the Intranet hosted MDM APK. This is used for validation\n",
      "during device enrollment, and also to display on the Managed Provisioning screen. The Admin\n",
      "component name is expressed as _package name/class name_. For example,\n",
      "com.airwatch.androidagent/com.airwatch.agent.DeviceAdministratorReceiver for the Workspace ONE UEM.\n",
      "The Admin package signature checksum is the Base64 encoded SHA-256 hash of the MDM APK signature,\n",
      "which is URL friendly. You can get this value from your MDM. Go here for information on the\n",
      "EXTRA_PROVISIONING_DEVICE_ADMIN_SIGNATURE_CHECKSUM. Alternatively, you can use utilities such as\n",
      "_Keytool_ on Linux to get this value. Go here\" for additional information. The MDM app name is the\n",
      "name of the app displayed on the Managed Provisioning screen. The App icon is the icon displayed\n",
      "next to the MDM app name. The minimum size is 48 x 48 pixels, and the file format needs to be a PNG\n",
      "file. To use this information to create an enrollment profile, see Android Enterprise profiles.\n",
      "What's new pop-up messaging This release introduces a pop-message with new descriptive text of the\n",
      "new features introduced with the KCS 1.34 release. This will help familiarize admins and users with\n",
      "the latest functionality to assist with enrollment and deployment\n",
      "metadata:\n",
      " {'source': 'all_processed_data.json', 'seq_num': 503, 'title': 'Knox Mobile Enrollment 1.34 release\n",
      "notes', 'url': 'https://docs.samsungknox.com/admin/knox-mobile-enrollment/release-notes/20-09',\n",
      "'project': 'KME', 'last_updated': '2023-07-26', 'family_tree': 'parent', 'parent_id': None}\n",
      "-----------------------------------------------\n",
      "5. Chunk: 3967 Characters\n",
      "-----------------------------------------------\n",
      ".0 and higher &gt; Data transfer Allows data exchanges with other devices using Bluetooth\n",
      "connection. Fully Managed &mdash; Samsung Knox 1.0 and higher &gt; Search mode Allows device search\n",
      "mode. Fully Managed &mdash; Samsung Knox 1.0 and higher Bluetooth Setting Specifies the controls for\n",
      "the Bluetooth use. Fully Managed &mdash; Android 8 and higher Bluetooth Share Allows Bluetooth\n",
      "sharing. Fully Managed &mdash; Android 8 and higher PC connection Allows connecting user's device to\n",
      "PC. Fully Managed &mdash; Android 6 and higher, Samsung Knox 1.0 and higher USB Debugging Allows the\n",
      "device user to enable USB debugging. Work Profile &mdash; Android 6 and higher Security Configures\n",
      "the security settings, such as Play Integrity (SafetyNet Attestation), Multifactor authentication,\n",
      "and screen timeout. Policy Description Supported system Play Integrity (SafetyNet Attestation)\n",
      "Allows checks to validate the integrity of the device. The Play Integrity API replaces the SafetyNet\n",
      "Attestation API, which is being deprecated in June 2024. The Play Integrity API improves the\n",
      "detection of device-side accounts as well as Google Play app and user accounts. We recommend that\n",
      "you upgrade to the latest Knox Manage agent and migrate to the Play Integrity API. For more\n",
      "information, see Migrating from the SafetyNet Attestation API in the Android Developer\n",
      "documentation. Android 6 and higher &gt; Verification Interval (days) Set an interval at which to\n",
      "assess the devices. &gt; Verification Failure Policy (During Enrollment) Select a measure. Admin\n",
      "Alert &mdash; Sends an alert to the administrator. Unenrollment (Factory Reset) (for DO\n",
      "only)&mdash;Unenrolls the device and performs a factory reset. Unenrollment (for PO\n",
      "only)&mdash;Unenrolls the device. &gt; Verification Failure Policy (After Enrollment) Select a\n",
      "measure. Admin Alert &mdash; Sends an alert to the administrator. Lock device (for DO\n",
      "only)&mdash;Locks the device. Unenrollment (Factory Reset) (for DO only)&mdash;Unenrolls the device\n",
      "and performs a factory reset. Unenrollment (for PO only)&mdash;Unenrolls the device. Maximum screen\n",
      "timeout Set the maximum time limit that a user can linger before screen timeout. Timeout settings\n",
      "apply based on the Use one lock setting on the work profile of a device: If Use one lock is enabled\n",
      "and two different values are set for Device Controls and Work Profile Controls, the smaller value\n",
      "applies. If Use one lock is enabled on personal profile of a personal device, set the maximum time\n",
      "under Device Controls. If Use one lock is disabled on a work profile of a company-owned device, the\n",
      "maximum time under Work Profile Controls applies. To set Use one lock on a device, go to Settings\n",
      "&gt; Work profile settings. Fully Managed &mdash; Android 6 and higher, Samsung Knox 2.0 and higher\n",
      "Work Profile &mdash; Android 12 and higher Personal area &mdash; Android 12 and higher Enforce\n",
      "Multi-factor Authentication Enable multifactor authentication (2FA) that unlocks a device only after\n",
      "two authentication methods are provided, including one biometric input&mdash;face, iris, or\n",
      "fingerprint&mdash;and one lock screen method, such as PIN, password, or pattern. Note Incorrect use\n",
      "of this policy together with One Lock and Biometric policy can lock your device. Fully Managed\n",
      "&mdash; Samsung Knox 3.0 and higher Screen Timeout Specify whether to allow the user to control the\n",
      "screen lock time setting. Fully Managed &mdash; Android 9.0 and higher Password Configures password\n",
      "and device lock screen settings. Policy Description Supported system Password Set the device's lock\n",
      "screen type and minimum quality. Use of the camera is prohibited when the device is locked. You can\n",
      "set up to two lock screen policy sets: Device Controls &mdash; The lock screen settings for the\n",
      "personal area of the device. Work Profile Controls &mdash; The lock screen settings for a device's\n",
      "Work Profile. After the Work Profile is set up, the device user is directed to set a lock screen\n",
      "metadata:\n",
      " {'source': 'all_processed_data.json', 'seq_num': 911, 'title': 'Android Enterprise policies',\n",
      "'url': 'https://docs.samsungknox.com/admin/knox-manage/configure/profile/configure-profile-\n",
      "policies/android-enterprise-policies', 'project': 'KM', 'last_updated': '2023-09-06', 'family_tree':\n",
      "'parent', 'parent_id': None}\n",
      "CPU times: user 180 ms, sys: 1.17 ms, total: 181 ms\n",
      "Wall time: 433 ms\n"
     ]
    }
   ],
   "source": [
    "%%time\n",
    "search_hybrid_result = opensearch_hybrid_retriever.get_relevant_documents(query)\n",
    "\n",
    "print(\"\\n==========  Results  ==========\\n\")\n",
    "print(f'1. question: {query}')\n",
    "print (f'2. # documents: {len(search_hybrid_result)}')\n",
    "print(\"3. Documents: \\n\")\n",
    "\n",
    "show_context_used(search_hybrid_result)"
   ]
  },
  {
   "cell_type": "markdown",
   "id": "c09221b5-4a6c-463b-9769-35cc8362e33c",
   "metadata": {},
   "source": [
    "- update parameters"
   ]
  },
  {
   "cell_type": "code",
   "execution_count": 29,
   "id": "b7bb4672-d2b8-4b29-b71c-b06d84bcd470",
   "metadata": {
    "tags": []
   },
   "outputs": [],
   "source": [
    "opensearch_hybrid_retriever.update_search_params(\n",
    "    k=5,\n",
    "    minimum_should_match=0,\n",
    "    #filter=[],\n",
    "    filter=[\n",
    "        #{'term': {'metadata.project': 'KS'}},\n",
    "        #{'term': {'metadata.family_tree': 'child'}},\n",
    "    ],\n",
    "    reranker=False,\n",
    "    reranker_endpoint_name=endpoint_name,\n",
    "    rag_fusion=False,\n",
    "    parent_document=False, # enable parent document\n",
    "    verbose=False,\n",
    ")"
   ]
  },
  {
   "cell_type": "code",
   "execution_count": 30,
   "id": "1b9b45b1-cb92-4954-8087-143a550350c8",
   "metadata": {
    "tags": []
   },
   "outputs": [
    {
     "name": "stdout",
     "output_type": "stream",
     "text": [
      "ensemble_weights [0.51, 0.49]\n",
      "\n",
      "==========  Results  ==========\n",
      "\n",
      "1. question: how to vefify DM\n",
      "2. # documents: 5\n",
      "3. Documents: \n",
      "\n",
      "-----------------------------------------------\n",
      "1. Chunk: 1002 Characters\n",
      "-----------------------------------------------\n",
      ". 1. In the EMM groups tab, select the device groups you want to enroll. 2. Click Actions > Enroll\n",
      "devices in groups. The Select license pop-up shows the active licenses that have enough seats to\n",
      "accommodate all devices in your selected device group(s). If you want to see all licenses, click\n",
      "Clear Filters. 3. Select the license you want to use, and click Done. Assign a device group to a\n",
      "campaign Perform this procedure if you want to assign all devices in a device group to a campaign.\n",
      "1. In the EMM groups tab, select the device groups you want to assign to a campaign. 2. Click\n",
      "Actions > Assign campaign. The Select campaign pop-up shows only the active and scheduled campaigns.\n",
      "If you want to see all campaigns (including expired ones), click Clear Filters. The Select license\n",
      "pop-up shows the active licenses that have enough seats to accommodate all devices in your selected\n",
      "device group(s). If you want to see all licenses, click Clear Filters. 3. Select the campaign to\n",
      "assign, and click Done\n",
      "metadata:\n",
      " {'source': 'all_processed_data.json', 'seq_num': 204, 'title': 'Manage EMM groups', 'url':\n",
      "'https://docs.samsungknox.com/admin/efota-one/emm-integration/manage-emm-groups', 'project':\n",
      "'EFOTA', 'last_updated': '2023-07-26', 'family_tree': 'child', 'parent_id':\n",
      "'0fb0d98b-9e41-469f-b51f-62c532b65c90', 'id': 'd98e8d1a-12c8-4fcd-84d0-1ea475d271a9'}\n",
      "-----------------------------------------------\n",
      "2. Chunk: 920 Characters\n",
      "-----------------------------------------------\n",
      ". Key & Value (iOS) - If you selected Yes in Managed App Setting, click Add and enter the key and\n",
      "value of a MDM setting you want to change. You can add one key and its value at a time. Ask the app\n",
      "developers about the key and value for the MDM settings. For example, if you want to add the\n",
      "ManagedAppConfig application and set its default URL to http://www.samsungsds.com, the key is the\n",
      "server URL and the value is http://www.samsungsds.com. Description - Enter a description for the\n",
      "application. Icon - Select the app icon image. Screenshot - Select screenshots of the app to provide\n",
      "a preview for Android device users. 5. Do one of the following: Click Save to save the information\n",
      "and return to the Application list. Click Save & Assign to save this information and proceed to\n",
      "assign the information. Continue on to the next step. 6. Assign the application. For more\n",
      "information, see Assigning internal applications\n",
      "metadata:\n",
      " {'source': 'all_processed_data.json', 'seq_num': 816, 'title': 'Add internal Android and iOS apps',\n",
      "'url': 'https://docs.samsungknox.com/admin/knox-manage/configure/applications/add-applications/add-\n",
      "internal-android-and-ios-apps', 'project': 'KM', 'last_updated': '2023-07-26', 'family_tree':\n",
      "'child', 'parent_id': '0bba5c03-8184-4ee3-bb3c-639469f04219', 'id':\n",
      "'fb6aaca7-cf89-465b-906f-3700d274945c'}\n",
      "-----------------------------------------------\n",
      "3. Chunk: 903 Characters\n",
      "-----------------------------------------------\n",
      ". Assign user credentials and a profile To assign user credentials and a profile: 1. Go to Devices >\n",
      "BULK ACTIONS and click ASSIGN USER CREDENTIALS AND PROFILE. 2. Under Upload devices list with user\n",
      "credentials, select a CSV file containing device IDs. If you're unsure how to format the CSV file,\n",
      "return to the BULK ACTIONS page and click View instructions under the ASSIGN USER CREDENTIALS AND\n",
      "PROFILE section. 3. (Optional) Select a new MDM profile from the Modify the MDM profile of selected\n",
      "devices list. The list also contains an option to Clear profiles from the device IDs in the uploaded\n",
      "CSV file. Consider using this action when you want to remove profile assignments from multiple\n",
      "devices in bulk. 4. Fill out Tags with any names associated with the devices. 5. Click SUBMIT. For\n",
      "information on adding new profiles or editing the configuration of existing profiles, see Profile\n",
      "configuration\n",
      "metadata:\n",
      " {'source': 'all_processed_data.json', 'seq_num': 425, 'title': 'Configure devices', 'url':\n",
      "'https://docs.samsungknox.com/admin/knox-mobile-enrollment/features/configure-devices', 'project':\n",
      "'KME', 'last_updated': '2023-07-26', 'family_tree': 'child', 'parent_id':\n",
      "'0a6a15eb-a04a-4fd2-bb9b-73c2ca038b7b', 'id': '8d2030c0-ea63-4cdb-9dca-9a5fce1d5641'}\n",
      "-----------------------------------------------\n",
      "4. Chunk: 703 Characters\n",
      "-----------------------------------------------\n",
      ". NOTE - You can't select a firmware version to apply when creating a test campaign. Instead, dummy\n",
      "firmware is applied by default. 6. Click Assign. 7. Click Create and Activate. The campaign is added\n",
      "to the Campaigns list. 8. Check the device for the dummy firmware update. If the campaign is applied\n",
      "successfully, the device status changes to Campaign Active. In the following example, the dummy\n",
      "firmware to be applied has the file extension .DM. 9. When you're done with your test campaign,\n",
      "revert the dummy firmware to regular firmware. 1. Go to Devices > All Devices. 2. Click Action >\n",
      "Unassign campaign. The device status changes to Enrolled and the dummy firmware is reverted to\n",
      "regular firmware.\n",
      "metadata:\n",
      " {'source': 'all_processed_data.json', 'seq_num': 230, 'title': 'Create a test campaign', 'url':\n",
      "'https://docs.samsungknox.com/admin/efota-one/features/create-a-campaign/create-a-test-campaign',\n",
      "'project': 'EFOTA', 'last_updated': '2023-07-26', 'family_tree': 'child', 'parent_id':\n",
      "'a87d58c0-887b-4456-bff9-2971e8604704', 'id': '84d46303-91ef-4704-af6e-0d4f5e5f69d1'}\n",
      "-----------------------------------------------\n",
      "5. Chunk: 853 Characters\n",
      "-----------------------------------------------\n",
      ". For more information, see Adding VPP applications (managed distribution). Upload Redemption Code\n",
      "Upload the redeemable codes of the VPP applications if you purchased the applications through\n",
      "redeemable codes from the VPP website. For more information, see Adding VPP applications (redeemable\n",
      "codes). Assign Assign and apply the selected applications to group/organizations. For more\n",
      "information, see Assign applications. Update Update the selected applications. When updates are\n",
      "available for apps from Managed Google Play, Google Play Store, and Apple App Store, a Need Update\n",
      "label displays next to them in the Version column for easy identification. You can select and update\n",
      "multiple applications simultaneously. Modify Modify the selected application details. For more\n",
      "information, see Modify applications. Delete Delete the selected applications\n",
      "metadata:\n",
      " {'source': 'all_processed_data.json', 'seq_num': 838, 'title': 'View the application list', 'url':\n",
      "'https://docs.samsungknox.com/admin/knox-manage/configure/applications/view-applications/view-the-\n",
      "application-list', 'project': 'KM', 'last_updated': '2023-07-26', 'family_tree': 'child',\n",
      "'parent_id': 'db76f8c1-9b02-406e-8d1e-32288cba724e', 'id': '7b38c393-45e1-499c-a1cb-fa2b4ee7dc37'}\n"
     ]
    }
   ],
   "source": [
    "query = \"how to vefify DM\"\n",
    "search_hybrid_result = opensearch_hybrid_retriever.get_relevant_documents(query)\n",
    "\n",
    "print(\"\\n==========  Results  ==========\\n\")\n",
    "print(f'1. question: {query}')\n",
    "print(f'2. # documents: {len(search_hybrid_result)}')\n",
    "print(\"3. Documents: \\n\")\n",
    "\n",
    "show_context_used(search_hybrid_result)"
   ]
  },
  {
   "cell_type": "markdown",
   "id": "a981abe7-5208-48f5-a9cc-8c557e9941ca",
   "metadata": {},
   "source": [
    "## 5. RAG using RetrievalQA powered by LangChain"
   ]
  },
  {
   "cell_type": "code",
   "execution_count": 31,
   "id": "08cf6d2b-451b-499c-aec2-bb6f5abafbb0",
   "metadata": {
    "tags": []
   },
   "outputs": [],
   "source": [
    "from utils.rag import prompt_repo\n",
    "from utils.rag import run_RetrievalQA\n",
    "from langchain.prompts import PromptTemplate"
   ]
  },
  {
   "cell_type": "markdown",
   "id": "b490df1f-8113-4dd1-a578-a3e1a6918fde",
   "metadata": {
    "tags": []
   },
   "source": [
    "### Prompting\n",
    "- [TIP] Prompt의 instruction의 경우 한글보다 영어로 했을 때 더 좋은 결과를 얻을 수 있습니다."
   ]
  },
  {
   "cell_type": "code",
   "execution_count": 32,
   "id": "0a68b4bf-8fc5-45a6-80cf-2bc059d4e389",
   "metadata": {
    "tags": []
   },
   "outputs": [],
   "source": [
    "PROMPT = prompt_repo.get_qa(prompt_type=\"answer_only\") # [\"answer_only\", \"answer_with_ref\", \"original\"]"
   ]
  },
  {
   "cell_type": "code",
   "execution_count": 33,
   "id": "cbb60f9d-3594-44ad-afca-e89feea8e29a",
   "metadata": {
    "tags": []
   },
   "outputs": [
    {
     "name": "stdout",
     "output_type": "stream",
     "text": [
      "('\\n'\n",
      " '            \\n'\n",
      " '\\n'\n",
      " 'Human:\\n'\n",
      " '            You are a master answer bot designed to answer software '\n",
      " \"developer's questions.\\n\"\n",
      " \"            I'm going to give you a context. Read the context carefully, \"\n",
      " \"because I'm going to ask you a question about it.\\n\"\n",
      " '\\n'\n",
      " '            Here is the context: <context>{context}</context>\\n'\n",
      " '            \\n'\n",
      " '            First, find a few paragraphs or sentences from the context that '\n",
      " 'are most relevant to answering the question.\\n'\n",
      " '            Then, answer the question as much as you can.\\n'\n",
      " '\\n'\n",
      " '            Skip the preamble and go straight into the answer.\\n'\n",
      " \"            Don't insert any XML tag such as <context> and </context> when \"\n",
      " 'answering.\\n'\n",
      " '            \\n'\n",
      " '            Here is the question: <question>{question}</question>\\n'\n",
      " '\\n'\n",
      " '            If the question cannot be answered by the context, say \"No '\n",
      " 'relevant context\".\\n'\n",
      " '            \\n'\n",
      " '\\n'\n",
      " 'Assistant: Here is the answer. ')\n"
     ]
    }
   ],
   "source": [
    "pprint (PROMPT.template)"
   ]
  },
  {
   "cell_type": "markdown",
   "id": "c66157a6-aec8-4555-a90f-1178e6f4f6e0",
   "metadata": {},
   "source": [
    "### Update Search Params (Optional)"
   ]
  },
  {
   "cell_type": "code",
   "execution_count": 34,
   "id": "64df2daf-8b42-472a-885f-97320ee98132",
   "metadata": {
    "tags": []
   },
   "outputs": [],
   "source": [
    "from langchain.chains import RetrievalQA"
   ]
  },
  {
   "cell_type": "code",
   "execution_count": 35,
   "id": "d2697230-6962-43d8-8917-ba9daa4295bb",
   "metadata": {
    "tags": []
   },
   "outputs": [],
   "source": [
    "opensearch_hybrid_retriever.update_search_params(\n",
    "    k=6,\n",
    "    minimum_should_match=0,\n",
    "    filter=[\n",
    "        #{'term': {'metadata.family_tree': 'child'}},\n",
    "    ],\n",
    "    ensemble_weights=[0.51, 0.49], #semantic, lexical\n",
    "    reranker=True,\n",
    "    reranker_endpoint_name=endpoint_name,\n",
    "    rag_fusion=False,\n",
    "    #hyde=True,\n",
    "    parent_document=True, # enable parent document\n",
    "    verbose=False\n",
    ")"
   ]
  },
  {
   "cell_type": "markdown",
   "id": "aee26c22-b674-4f4f-a87b-29508e336fda",
   "metadata": {},
   "source": [
    "### Request"
   ]
  },
  {
   "cell_type": "code",
   "execution_count": 36,
   "id": "95fa61d3-9256-432a-96a3-2c696c97ea68",
   "metadata": {
    "tags": []
   },
   "outputs": [],
   "source": [
    "qa = RetrievalQA.from_chain_type(\n",
    "    llm=llm_text,\n",
    "    chain_type=\"stuff\",\n",
    "    retriever=opensearch_hybrid_retriever,\n",
    "    return_source_documents=True,\n",
    "    chain_type_kwargs={\n",
    "        \"prompt\": PROMPT,\n",
    "        \"verbose\": False,\n",
    "    },\n",
    "    verbose=False\n",
    ")"
   ]
  },
  {
   "cell_type": "code",
   "execution_count": 37,
   "id": "390ad324-40b3-4bcb-92b9-50eb080492a5",
   "metadata": {
    "tags": []
   },
   "outputs": [
    {
     "name": "stdout",
     "output_type": "stream",
     "text": [
      "ensemble_weights [0.51, 0.49]\n",
      "\n",
      "\n",
      "Knox is Samsung's defense-grade security platform for mobile devices. It provides hardware-backed security, advanced data protection, and fine-grained policy enforcement to secure enterprise mobility. \n",
      "\n",
      "Key capabilities of Knox include:\n",
      "\n",
      "- Hardware-backed security through a trusted execution environment\n",
      "- Multi-layered protection for data, apps, and the device OS\n",
      "- Centralized mobile device management \n",
      "- Fine-grained policy controls\n",
      "- Compliance with security standards and regulations\n",
      "\n",
      "In summary, Knox is Samsung's enterprise mobility platform that allows organizations to securely deploy Samsung devices by filling gaps in mobile OS security, resolving common pain points, and meeting strict industry requirements. It enables enterprises to easily meet security and compliance needs when adopting Samsung smartphones, tablets and wearables."
     ]
    }
   ],
   "source": [
    "#query = \"How do I add an admin to Knox Mobile Enrollment?\"\n",
    "query = \"What’s knox?\"\n",
    "response = qa(query)"
   ]
  },
  {
   "cell_type": "code",
   "execution_count": 38,
   "id": "01e77dad-dc19-416b-80e7-19fac3b736a5",
   "metadata": {
    "tags": []
   },
   "outputs": [
    {
     "name": "stdout",
     "output_type": "stream",
     "text": [
      "##################################\n",
      "query:  What’s knox?\n",
      "##################################\n",
      "\u001b[34m\n",
      "\n",
      "### Answer ###\u001b[0m\n",
      "\n",
      "\n",
      "Knox is Samsung's defense-grade security platform for mobile devices. It provides hardware-backed\n",
      "security, advanced data protection, and fine-grained policy enforcement to secure enterprise\n",
      "mobility.\n",
      "\n",
      "Key capabilities of Knox include:\n",
      "\n",
      "- Hardware-backed security through a trusted execution environment\n",
      "- Multi-layered protection for data, apps, and the device OS\n",
      "- Centralized mobile device management\n",
      "- Fine-grained policy controls\n",
      "- Compliance with security standards and regulations\n",
      "\n",
      "In summary, Knox is Samsung's enterprise mobility platform that allows organizations to securely\n",
      "deploy Samsung devices by filling gaps in mobile OS security, resolving common pain points, and\n",
      "meeting strict industry requirements. It enables enterprises to easily meet security and compliance\n",
      "needs when adopting Samsung smartphones, tablets and wearables.\n",
      "\u001b[32m\n",
      "\n",
      "### Contexts ###\u001b[0m\n",
      "-----------------------------------------------\n",
      "1. Chunk: 3344 Characters\n",
      "-----------------------------------------------\n",
      "The Samsung Knox platform. Samsung Knox brings defense-grade security on the most popular consumer\n",
      "devices to all enterprises. The Knox Platform provides best-in-class hardware-based security, policy\n",
      "management, and compliance capabilities beyond the standard features commonplace in today's mobile\n",
      "device market. The Knox Platform is the cornerstone of a strong mobile security strategy supporting\n",
      "a wide variety of Samsung devices. Why use Samsung Knox? The Knox Platform helps you and your\n",
      "enterprise avoid the security gaps common on many mobile platforms. Knox received *strong* ratings\n",
      "in 25 of 28 categories in Gartner's December 2017 Mobile OSs and Device Security: A Comparison of\n",
      "Platforms and has received strong ratings for the last three years in a row. The Knox Platform's\n",
      "security hardening supports every aspect of mobile device operation. The Knox Platform enables trust\n",
      "in your mobile endpoints with advanced features like the evolutionary Knox Vault to the patented\n",
      "Real-Time Kernel Protection . The Knox Platform ensures IT admins can securely bulk deploy the best\n",
      "mobile device hardware, and quickly integrate with existing business infrastructure and apps. #Key\n",
      "benefits for enterprises , Easily meet your organization's security and compliance requirements by\n",
      "providing solid platform integrity, strong data protection, and fine-grained policy enforcement.\n",
      "Seamlessly activate and manage Knox Platform features through an Enterprise Mobility Management\n",
      "(EMM) system. Flexibly support infrastructure, deployment, and management requirements through\n",
      "centralized remote device control, advanced VPN management, allowing and blocking apps, and granular\n",
      "policies that control all aspects of Samsung devices. Effortlessly upgrade from Android Enterprise,\n",
      "leveraging a comprehensive set of Knox Platform benefits without affecting existing deployments.\n",
      "Securely deploy the innovative Samsung Desktop Experience (DeX) in new work environments, unifying\n",
      "mobile and desktop computing on one device. The Knox Platform's cutting-edge security technology\n",
      "continues to be widely adopted and proven by numerous government, security, and financial agencies\n",
      "throughout the world. Samsung continually works with global government organizations and\n",
      "international regulatory bodies to meet a wide range of certification requirements designed to\n",
      "protect public safety and consumer privacy. Knox Platform highlights The Knox Platform provides a\n",
      "robust set of features to fill security and management gaps, resolve pain points identified by\n",
      "enterprises, and meet the strict requirements of highly regulated industries. Key strengths include\n",
      "the following: For a quick overview of these features, see Feature summary. Security highlights The\n",
      "following sections describe how the Knox Platform provides an industry-leading ecosystem of products\n",
      "and services to secure and ease mobile device management. Hardware-backed security The Knox Platform\n",
      "defends against security threats and protects enterprise data through layers of security built on\n",
      "top of a hardware-backed trusted environment. Trusted of the Knox Platform's security features and\n",
      "how they can resolve common enterprise mobile deployment pain points. The document focuses on the\n",
      "unique abilities of the Knox Platform. For information about other features, see the Samsung Knox\n",
      "website.\n",
      "metadata:\n",
      " {'source': 'all_processed_data.json', 'seq_num': 109, 'title': 'The Samsung Knox platform', 'url':\n",
      "'https://docs.samsungknox.com/admin/fundamentals/whitepaper/the-samsung-knox-platform', 'project':\n",
      "'USP', 'last_updated': '2023-07-26', 'family_tree': 'parent', 'parent_id': None}\n",
      "-----------------------------------------------\n",
      "2. Chunk: 2510 Characters\n",
      "-----------------------------------------------\n",
      ". Which commercial licenses can I get, and where? The following table lists each Knox service, its\n",
      "license type, and the licenses it supports. Each service name is also linked to its respective\n",
      "documentation, where you can get license information specific to that service. Knox service Type\n",
      "Supported licenses Where to get the license Knox Mobile Enrollment (Advanced profile) Cloud-based\n",
      "Knox Suite Purchase from a reseller Knox Manage Cloud-based Knox Suite Knox Manage standalone key\n",
      "Knox E-FOTA Cloud-based Knox Suite Knox E-FOTA standalone key Knox Asset Intelligence Cloud-based\n",
      "Knox Suite Knox Asset Intelligence standalone key Knox Remote Support Cloud-based Knox Suite Knox\n",
      "Manage standalone key Knox Configure Cloud-based Knox Configure standalone key Knox Guard Cloud-\n",
      "based Knox Guard standalone key Samsung Care+ for Business Cloud-based Samsung Care+ for Business\n",
      "key Knox Platform for Enterprise DualDAR (Knox Service Plugin) Device-based Knox Platform for\n",
      "Enterprise DualDAR key Knox Capture App Knox Suite Knox Capture standalone key Knox Capture Scandit\n",
      "Edition App Knox Capture Scandit Edition standalone key knox Authentication Manager App based Knox\n",
      "Suite Knox E-FOTA On-Premises On-premises Knox E-FOTA On-Premises key Where can I manage my existing\n",
      "licenses? Depending on the service, you can manage your licenses from different locations throughout\n",
      "the Knox Admin Portal, individual services, and your EMM console. If your Knox Platform for\n",
      "Enterprise license is about to expire within the next 90 days, make sure to renew the license for\n",
      "another two years. Otherwise, your existing devices will be impacted. The following table outlines\n",
      "where you can find license information for each Knox service. Knox service License menu location\n",
      "Knox Mobile Enrollment Knox Mobile Enrollment (Advanced profile) Knox Manage Knox E-FOTA Knox Asset\n",
      "Intelligence Knox Remote Support Knox Configure Samsung Care+ for Business Knox Capture Knox\n",
      "Authentication Manager Knox Admin Portal license menu Knox Manage Knox Manage license menu Knox\n",
      "Guard Knox Guard license menu Knox E-FOTA On-Premises Knox E-FOTA On-Premises license menu Knox\n",
      "Platform for Enterprise (Knox Service Plugin) Knox Platform for Enterprise Dual DAR (Knox Service\n",
      "Plugin) Knox Capture Scandit Edition Knox Mobile Enrollment Direct Additional Knox services license\n",
      "menu Knox Platform for Enterprise (Knox Service Plugin) Knox Platform for Enterprise Dual DAR (Knox\n",
      "Service Plugin) Knox Capture Knox Capture Scandit Edition EMM console\n",
      "metadata:\n",
      " {'source': 'all_processed_data.json', 'seq_num': 91, 'title': 'Knox licenses', 'url':\n",
      "'https://docs.samsungknox.com/admin/fundamentals/knox-licenses', 'project': 'USP', 'last_updated':\n",
      "'2023-07-26', 'family_tree': 'parent', 'parent_id': None}\n",
      "-----------------------------------------------\n",
      "3. Chunk: 1746 Characters\n",
      "-----------------------------------------------\n",
      "Knox knowledge base articles. Service-specific articles , Knox Suite , Knox Platform for Enterprise\n",
      ", Knox Service Plugin , Knox Mobile Enrollment , Knox Mobile Enrollment Direct , Knox Capture , Knox\n",
      "Asset Intelligence , Knox Manage , Knox E-FOTA , Knox Configure , Knox Guard , Samsung Care+ for\n",
      "Business General articles Samsung Knox, User Experience Research Requirements for Samsung Knox\n",
      "device repair How to capture logs to troubleshoot a mobile device Samsung devices with Legacy One UI\n",
      "Core platform How to collect browser logs for troubleshooting How to collect dumpstate logs on\n",
      "Samsung wearable devices About Secured by Knox, Android, Others and Android Go devices Policy update\n",
      "on Knox supported versions What can I do if I'm not receiving the verification email when\n",
      "registering for a Samsung Account? Knox cloud services Knox Suite license cannot be recovered from\n",
      "Knox Remote Support How to disassociate a device from a Knox license key How to check the number of\n",
      "seats on a Knox license key How to reinvite or unblock a user in Knox Cloud Services How to change a\n",
      "super admin in Samsung Knox Cloud Services Knox Cloud Services compatibility with Samsung devices\n",
      "Knox Deployment App only able to add device to one Knox Cloud Service Mandatory two-factor\n",
      "authentication for all IT admins using Knox Deployment App Using + gesture during enrollment results\n",
      "in the error \"Tablet/Phone already enrolled\" My Knox Cloud Services (KCS) solutions do not start\n",
      "Unable to sign in to SamsungKnox.com after changes made to Samsung Account Cannot invite\n",
      "administrator to Knox cloud services Knox Cloud Services portals are not supported for mobile use\n",
      "GDPR How do I request an export of my account data? How do I delete my Samsung Knox account?\n",
      "metadata:\n",
      " {'source': 'all_processed_data.json', 'seq_num': 197, 'title': 'Knox knowledge base articles',\n",
      "'url': 'https://docs.samsungknox.com/admin/fundamentals/kbas', 'project': 'USP', 'last_updated':\n",
      "'2023-07-26', 'family_tree': 'parent', 'parent_id': None}\n",
      "-----------------------------------------------\n",
      "4. Chunk: 4047 Characters\n",
      "-----------------------------------------------\n",
      ". Knox service Pricing Supported license keys Trial license and where to get it Knox Platform for\n",
      "Enterprise (Knox Service Plugin) Free Knox Suite Knox Platform for Enterprise Premium key No trial\n",
      "available Knox Platform for Enterprise DualDAR (Knox Service Plugin) Paid Knox Platform for\n",
      "Enterprise DualDAR key No trial available Knox Capture Paid Knox Suite Knox Suite trial key (Knox\n",
      "Admin Portal) Knox Capture Scandit Edition Paid Knox Capture Scandit Edition key Knox Capture\n",
      "Scandit Edition trial key (Knox Admin Portal) Knox Authentication Manager Paid Knox Suite Knox Suite\n",
      "trial key (Knox Admin Portal) Can any Knox services be used for free? Some Knox services are free to\n",
      "use. For certain services, you still need to generate a license to use them. Knox Mobile Enrollment\n",
      "- No license required. Knox Platform for Enterprise (Knox Service Plugin) - Requires a free, device-\n",
      "based Knox Platform for Enterprise Premium license. You can activate this license through your EMM.\n",
      "Knox Mobile Enrollment Direct - Requires a free, on-premises Knox Mobile Enrollment Direct license.\n",
      "You can generate one on the Knox Admin Portal. Which Knox services offer trial licenses? Trial\n",
      "licenses can be generated for the following Knox services on the Knox Admin Portal. These licenses\n",
      "are intended for testing purposes, and support up to 30 devices for 3 months. After your trial ends,\n",
      "your devices and data remain in your account. You can continue using Knox Suite by purchasing a Knox\n",
      "commercial license from your local reseller and replacing your trial license. #Knox Suite trial\n",
      "license , Knox Mobile Enrollment (Advanced profile), Knox Manage, Knox E-FOTA , Knox Asset\n",
      "Intelligence, Knox Remote Support, Knox Capture, Knox Authentication Manager For steps on how to\n",
      "generate a Knox Suite trial license key, refer to the Knox Admin Portal documentation. #Other Knox\n",
      "service trial licenses , Knox Guard, Knox Configure How do commercial Knox licenses work? A\n",
      "commercial Knox license lets you use Knox services across your entire device fleet, and can be\n",
      "obtained through your local Knox reseller. If you don't have a reseller yet, see the Knox reseller\n",
      "directory to find one near you. When you purchase a license from a reseller, you can decide how many\n",
      "seats the license has, which equates to the number of devices you want to activate concurrently on\n",
      "the service. The reseller then gives you a license key, which you can enter on the Knox Admin Portal\n",
      "to register the license. Once a license is assigned to a device, the service you're enrolling in\n",
      "consumes a seat on the license. For example, if your reseller provided you with a 200-seat Knox\n",
      "Configure license, you can have a maximum of 200 devices enrolled in Knox Configure. Each license\n",
      "has an expiry date, after which the license can't be used with Knox services anymore. The exception\n",
      "to this rule is staggered license keys, which allow you to use the service even after the license\n",
      "expiration date, until the service period ends. To add more seats to your license or renew an\n",
      "existing license, contact your Knox reseller. #Staggered licenses Some services, like Knox\n",
      "Configure, Knox Guard, and Samsung Care+ for Business, offer staggered licenses, which allows\n",
      "devices to use a service even after the license expires. These licenses have an activation period,\n",
      "which dictates when you can enroll new devices. Once a device is enrolled, its service period\n",
      "starts, which is how long the device can use a service for. The service period typically remains\n",
      "active after the activation period ends and the license expires. The activation period and service\n",
      "period can differ by service. However, if you purchase more seats on the license before the\n",
      "activation period ends, you can continue to enroll devices for a year past the new purchase date.\n",
      "Let's say you purchased 100 seats on a license in January 2023, which means you can enroll 100\n",
      "devices until January 2024. If you purchase an extra 100 seats in August 2023, you're now able to\n",
      "enroll all 200 devices with that license until August 2024\n",
      "metadata:\n",
      " {'source': 'all_processed_data.json', 'seq_num': 91, 'title': 'Knox licenses', 'url':\n",
      "'https://docs.samsungknox.com/admin/fundamentals/knox-licenses', 'project': 'USP', 'last_updated':\n",
      "'2023-07-26', 'family_tree': 'parent', 'parent_id': None}\n",
      "-----------------------------------------------\n",
      "5. Chunk: 4051 Characters\n",
      "-----------------------------------------------\n",
      "Knox licenses. Samsung offers a variety of Knox licenses to support your device management needs. If\n",
      "you're new to Knox services, check out the recommended licensing workflow and the Knox license\n",
      "overview to help you find the license that works best for your enterprise. This page also provides\n",
      "answers to some of the following licensing questions you might have: Can any Knox services be used\n",
      "for free?, Which Knox services offer trial licenses?, How do commercial Knox licenses work?, Which\n",
      "commercial licenses can I get, and where?, Where can I manage my existing licenses? Recommended\n",
      "workflow 1. Generate a trial license for the service you want to use on the Knox Admin Portal. Note\n",
      "that when you get approved for Knox Suite, a trial license is automatically added to your account in\n",
      "the Knox Admin Portal. 2. Test the service by enrolling a device. If you have a Knox Suite trial\n",
      "license, you can also try the other services included with Knox Suite. 3. When you're ready, contact\n",
      "your local Knox reseller to purchase a commercial license. 4. Enter your license key in the Knox\n",
      "Admin Portal to start using Knox services on your full device fleet. License overview Knox licenses\n",
      "are used to activate Knox services on a device. Each license is associated with a license key, an\n",
      "alphanumeric string that acts as an identifier and allows devices to use a Knox service. When you\n",
      "start a trial of a Knox service, you're given a trial license key. Intended for testing and\n",
      "development purposes, these trial keys are valid for 3 months and support up to 30 devices. When\n",
      "you're ready to deploy to your full device fleet, commercial license keys can be purchased from a\n",
      "local reseller, with various expiry dates and license quantities based on what your enterprise\n",
      "needs. You can enter commercial license keys in the Knox Admin Portal. If you're looking for an all-\n",
      "in-one device management experience, a Knox Suite license bundles multiple Knox services. Some\n",
      "standalone licenses are also available for those who want to use individual services instead. If\n",
      "you're not sure which license works best for your enterprise yet, you can replace certain standalone\n",
      "licenses with a Knox Suite license anytime. The reverse also applies. The following tables provide\n",
      "information on the available Knox services, including the license keys they support and where to get\n",
      "a trial license if a service offers it. Purchase Knox commercial licenses from your local reseller.\n",
      "Server-based licenses Server-based licenses include both cloud and on-premises services. Enter cloud\n",
      "license keys on the Knox Admin Portal, and enter on-premises license keys directly on the service\n",
      "console. Knox service Pricing Supported license keys Trial license and where to get it Server type\n",
      "Knox Mobile Enrollment Free No license key required No license key required Cloud Knox Mobile\n",
      "Enrollment(Advanced profile) Paid Knox Suite Knox Suite trial key (Knox Admin Portal) Cloud Knox\n",
      "Manage Paid Knox Suite Knox Manage key Knox Suite trial key (Knox Admin Portal) Cloud Knox E-FOTA\n",
      "Paid Knox Suite Knox E-FOTA key Knox Suite trial key (Knox Admin Portal) Cloud Knox Asset\n",
      "Intelligence Paid Knox Suite Knox Asset Intelligence key Knox Suite trial key (Knox Admin Portal)\n",
      "Cloud Knox Remote Support Paid Knox Suite Knox Manage key Knox Suite trial key (Knox Admin Portal)\n",
      "Cloud Knox Configure Paid Knox Configure key Knox Configure trial key (Knox Admin Portal) Cloud Knox\n",
      "Guard Paid Knox Guard key Knox Guard trial key (Knox Guard console) Cloud Samsung Care+ for Business\n",
      "Paid Samsung Care+ for Business key No trial available Cloud Knox Mobile Enrollment Direct Free No\n",
      "license key required No license key required On-premises Knox E-FOTA On-Premises Paid Knox E-FOTA\n",
      "On-Premises key Contact your Samsung representative On-premises Device-based licenses Enroll your\n",
      "devices with a device-based license by registering it through an EMM. Certain services, like Knox\n",
      "Capture and Knox Capture Scandit Edition, allow you to enroll individual devices by entering a\n",
      "license key directly in the app\n",
      "metadata:\n",
      " {'source': 'all_processed_data.json', 'seq_num': 91, 'title': 'Knox licenses', 'url':\n",
      "'https://docs.samsungknox.com/admin/fundamentals/knox-licenses', 'project': 'USP', 'last_updated':\n",
      "'2023-07-26', 'family_tree': 'parent', 'parent_id': None}\n",
      "-----------------------------------------------\n",
      "6. Chunk: 1745 Characters\n",
      "-----------------------------------------------\n",
      "Sign in with a Samsung account. Sign up for a Knox account A Samsung Knox account is free and can be\n",
      "created in just a few minutes. With a Samsung Knox account, you can register for Knox services and\n",
      "get access to the Knox Admin Portal, which lets you easily manage your devices, admins, and licenses\n",
      "across each Knox service. To sign up for a Samsung Knox account, you need to link it to a Samsung\n",
      "account. If you don't yet have a Samsung account, you'll be prompted to create one when you sign up\n",
      "for SamsungKnox.com. To create your Knox account: 1. Go to SamsungKnox.com. 2. In the top-right\n",
      "corner, click GET STARTED. 3. Under Business email, enter the email address you use for work. 4.\n",
      "Select a Knox solution that you want to access - Knox Suite, Knox Configure, Knox Guard, Samsung\n",
      "Care + for Business, or Other products & services. If you want access to an individual Knox Suite\n",
      "service, such as Knox Mobile Enrollment, select Knox Suite. 5. Click CREATE MY ACCOUNT. If you\n",
      "already have a Samsung account, the system automatically prompts you to fill out a form with your\n",
      "company's details. If you don't have a Samsung account, the system prompts you to create one. Once\n",
      "you create your Samsung account, open the confirmation email you received and click the link. You're\n",
      "then automatically redirected to SamsungKnox.com to fill out a form with your company's details and\n",
      "submit your application for Knox services. Sign in to Samsung Knox 1. In the top-right corner of\n",
      "SamsungKnox.com, hover over Sign in. Then, under Samsung Account, click Sign in. 2. Enter your\n",
      "Samsung account email, then click Next. 3. Enter your Samsung account password, then click Sign in.\n",
      "You're now signed in and ready to start using Knox services and products.\n",
      "metadata:\n",
      " {'source': 'all_processed_data.json', 'seq_num': 103, 'title': 'Sign in with a Samsung account',\n",
      "'url': 'https://docs.samsungknox.com/admin/fundamentals/sign-up-for-samsung-knox/sign-in-with-a-\n",
      "samsung-account', 'project': 'USP', 'last_updated': '2023-08-23', 'family_tree': 'parent',\n",
      "'parent_id': None}\n"
     ]
    }
   ],
   "source": [
    "print(\"##################################\")\n",
    "print(\"query: \", query)\n",
    "print(\"##################################\")\n",
    "\n",
    "print (colored(\"\\n\\n### Answer ###\", \"blue\"))\n",
    "print_ww(response['result'])\n",
    "\n",
    "\n",
    "print (colored(\"\\n\\n### Contexts ###\", \"green\"))\n",
    "show_context_used(response['source_documents'])"
   ]
  },
  {
   "cell_type": "code",
   "execution_count": null,
   "id": "b1a40222",
   "metadata": {},
   "outputs": [],
   "source": []
  },
  {
   "cell_type": "code",
   "execution_count": null,
   "id": "a600bc9d-a5b7-472b-a06e-cac6413b6979",
   "metadata": {},
   "outputs": [],
   "source": []
  }
 ],
 "metadata": {
  "kernelspec": {
   "display_name": "conda_python3",
   "language": "python",
   "name": "conda_python3"
  },
  "language_info": {
   "codemirror_mode": {
    "name": "ipython",
    "version": 3
   },
   "file_extension": ".py",
   "mimetype": "text/x-python",
   "name": "python",
   "nbconvert_exporter": "python",
   "pygments_lexer": "ipython3",
   "version": "3.10.13"
  },
  "vscode": {
   "interpreter": {
    "hash": "4b8e647a79df62bf31906a725b05de775d285962ac600487339d38c51a5c07b1"
   }
  }
 },
 "nbformat": 4,
 "nbformat_minor": 5
}
