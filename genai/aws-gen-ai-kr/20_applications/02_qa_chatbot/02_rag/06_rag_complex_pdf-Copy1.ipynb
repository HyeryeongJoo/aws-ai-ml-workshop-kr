{
 "cells": [
  {
   "cell_type": "markdown",
   "id": "5deb2df2-413d-49bd-a829-3a1fc344937e",
   "metadata": {},
   "source": [
    "# RAG over complex PDF\n"
   ]
  },
  {
   "cell_type": "markdown",
   "id": "b1f81abc-3277-4a6b-9ef1-d4f997d67fbe",
   "metadata": {},
   "source": [
    "## Setting\n",
    " - Auto Reload\n",
    " - path for utils"
   ]
  },
  {
   "cell_type": "code",
   "execution_count": 1,
   "id": "ddde4105-b759-4d6c-8214-8e1ab485ae48",
   "metadata": {
    "tags": []
   },
   "outputs": [],
   "source": [
    "%load_ext autoreload\n",
    "%autoreload 2"
   ]
  },
  {
   "cell_type": "code",
   "execution_count": 2,
   "id": "57c2cdb1-d785-4317-afce-938f13141085",
   "metadata": {
    "tags": []
   },
   "outputs": [],
   "source": [
    "import sys, os\n",
    "module_path = \"../../..\"\n",
    "sys.path.append(os.path.abspath(module_path))"
   ]
  },
  {
   "cell_type": "code",
   "execution_count": 5,
   "id": "4a1cc1f7-cb71-42c2-b55d-ccc19f386a82",
   "metadata": {
    "tags": []
   },
   "outputs": [
    {
     "name": "stdout",
     "output_type": "stream",
     "text": [
      "Requirement already satisfied: lxml in /home/ec2-user/anaconda3/envs/python3/lib/python3.10/site-packages (5.1.0)\n",
      "Requirement already satisfied: pydantic in /home/ec2-user/anaconda3/envs/python3/lib/python3.10/site-packages (2.6.3)\n",
      "Collecting pydantic\n",
      "  Downloading pydantic-2.6.4-py3-none-any.whl.metadata (85 kB)\n",
      "\u001b[2K     \u001b[90m━━━━━━━━━━━━━━━━━━━━━━━━━━━━━━━━━━━━━━━━\u001b[0m \u001b[32m85.1/85.1 kB\u001b[0m \u001b[31m4.6 MB/s\u001b[0m eta \u001b[36m0:00:00\u001b[0m\n",
      "\u001b[?25hRequirement already satisfied: annotated-types>=0.4.0 in /home/ec2-user/anaconda3/envs/python3/lib/python3.10/site-packages (from pydantic) (0.6.0)\n",
      "Requirement already satisfied: pydantic-core==2.16.3 in /home/ec2-user/anaconda3/envs/python3/lib/python3.10/site-packages (from pydantic) (2.16.3)\n",
      "Requirement already satisfied: typing-extensions>=4.6.1 in /home/ec2-user/anaconda3/envs/python3/lib/python3.10/site-packages (from pydantic) (4.8.0)\n",
      "Downloading pydantic-2.6.4-py3-none-any.whl (394 kB)\n",
      "\u001b[2K   \u001b[90m━━━━━━━━━━━━━━━━━━━━━━━━━━━━━━━━━━━━━━━━\u001b[0m \u001b[32m394.9/394.9 kB\u001b[0m \u001b[31m13.2 MB/s\u001b[0m eta \u001b[36m0:00:00\u001b[0m\n",
      "\u001b[?25hInstalling collected packages: pydantic\n",
      "  Attempting uninstall: pydantic\n",
      "    Found existing installation: pydantic 2.6.3\n",
      "    Uninstalling pydantic-2.6.3:\n",
      "      Successfully uninstalled pydantic-2.6.3\n",
      "Successfully installed pydantic-2.6.4\n",
      "Requirement already satisfied: kaleido in /home/ec2-user/anaconda3/envs/python3/lib/python3.10/site-packages (0.2.1)\n",
      "Requirement already satisfied: uvicorn in /home/ec2-user/anaconda3/envs/python3/lib/python3.10/site-packages (0.27.1)\n",
      "Collecting uvicorn\n",
      "  Downloading uvicorn-0.28.0-py3-none-any.whl.metadata (6.3 kB)\n",
      "Requirement already satisfied: click>=7.0 in /home/ec2-user/anaconda3/envs/python3/lib/python3.10/site-packages (from uvicorn) (8.1.7)\n",
      "Requirement already satisfied: h11>=0.8 in /home/ec2-user/anaconda3/envs/python3/lib/python3.10/site-packages (from uvicorn) (0.14.0)\n",
      "Requirement already satisfied: typing-extensions>=4.0 in /home/ec2-user/anaconda3/envs/python3/lib/python3.10/site-packages (from uvicorn) (4.8.0)\n",
      "Downloading uvicorn-0.28.0-py3-none-any.whl (60 kB)\n",
      "\u001b[2K   \u001b[90m━━━━━━━━━━━━━━━━━━━━━━━━━━━━━━━━━━━━━━━━\u001b[0m \u001b[32m60.6/60.6 kB\u001b[0m \u001b[31m3.9 MB/s\u001b[0m eta \u001b[36m0:00:00\u001b[0m\n",
      "\u001b[?25hInstalling collected packages: uvicorn\n",
      "  Attempting uninstall: uvicorn\n",
      "    Found existing installation: uvicorn 0.27.1\n",
      "    Uninstalling uvicorn-0.27.1:\n",
      "      Successfully uninstalled uvicorn-0.27.1\n",
      "Successfully installed uvicorn-0.28.0\n",
      "Requirement already satisfied: pandas in /home/ec2-user/anaconda3/envs/python3/lib/python3.10/site-packages (2.2.1)\n",
      "Requirement already satisfied: numpy<2,>=1.22.4 in /home/ec2-user/anaconda3/envs/python3/lib/python3.10/site-packages (from pandas) (1.22.4)\n",
      "Requirement already satisfied: python-dateutil>=2.8.2 in /home/ec2-user/anaconda3/envs/python3/lib/python3.10/site-packages (from pandas) (2.8.2)\n",
      "Requirement already satisfied: pytz>=2020.1 in /home/ec2-user/anaconda3/envs/python3/lib/python3.10/site-packages (from pandas) (2023.3.post1)\n",
      "Requirement already satisfied: tzdata>=2022.7 in /home/ec2-user/anaconda3/envs/python3/lib/python3.10/site-packages (from pandas) (2023.3)\n",
      "Requirement already satisfied: six>=1.5 in /home/ec2-user/anaconda3/envs/python3/lib/python3.10/site-packages (from python-dateutil>=2.8.2->pandas) (1.16.0)\n",
      "Requirement already satisfied: numexpr in /home/ec2-user/anaconda3/envs/python3/lib/python3.10/site-packages (2.9.0)\n",
      "Requirement already satisfied: numpy>=1.13.3 in /home/ec2-user/anaconda3/envs/python3/lib/python3.10/site-packages (from numexpr) (1.22.4)\n"
     ]
    }
   ],
   "source": [
    "!pip install -U lxml\n",
    "!pip install -U pydantic\n",
    "!pip install -U kaleido\n",
    "!pip install -U uvicorn\n",
    "!pip install -U pandas\n",
    "!pip install -U numexpr"
   ]
  },
  {
   "cell_type": "code",
   "execution_count": null,
   "id": "eed5d9e2-32d6-4cd0-bd96-e646a28949bb",
   "metadata": {
    "tags": []
   },
   "outputs": [],
   "source": [
    "!sudo rpm -Uvh https://dl.fedoraproject.org/pub/epel/epel-release-latest-7.noarch.rpm\n",
    "!sudo yum -y update\n",
    "!sudo yum install -y poppler-utils"
   ]
  },
  {
   "cell_type": "markdown",
   "id": "527b807a-c232-479c-81ea-bac0c8d6d07b",
   "metadata": {},
   "source": [
    "설치: https://gist.github.com/codesankalp/c4d8e18421bf112a70406241f6d91ee9"
   ]
  },
  {
   "cell_type": "code",
   "execution_count": null,
   "id": "dabcc30f-39c6-4ff3-8561-eaea0c571e3f",
   "metadata": {
    "tags": []
   },
   "outputs": [],
   "source": [
    "!sudo yum install clang -y && \\\n",
    " sudo yum install libpng-devel libtiff-devel zlib-devel libwebp-devel libjpeg-turbo-devel wget tar gzip -y && \\\n",
    " wget https://github.com/DanBloomberg/leptonica/releases/download/1.75.1/leptonica-1.75.1.tar.gz && \\\n",
    " tar -zxvf leptonica-1.75.1.tar.gz && \\\n",
    " cd leptonica-1.75.1 && \\\n",
    " ./configure && \\\n",
    " sudo make && \\\n",
    " sudo make install\n",
    "#cd ~ && \\\n",
    "!sudo yum install git-core libtool pkgconfig -y && \\\n",
    " git clone --depth 1  https://github.com/tesseract-ocr/tesseract.git tesseract-ocr && \\\n",
    " cd tesseract-ocr && \\\n",
    " export PKG_CONFIG_PATH=/usr/local/lib/pkgconfig && \\\n",
    " ./autogen.sh && \\\n",
    " ./configure && \\\n",
    " sudo make && \\\n",
    " sudo make install\n",
    "\n",
    "!cd /usr/local/share/tessdata && \\\n",
    " sudo wget https://github.com/tesseract-ocr/tessdata/raw/main/osd.traineddata && \\\n",
    " sudo wget https://github.com/tesseract-ocr/tessdata/raw/main/eng.traineddata && \\\n",
    " sudo wget https://github.com/tesseract-ocr/tessdata/raw/main/hin.traineddata\n",
    "\n",
    "!sudo rm -rf leptonica-1.75.1 leptonica-1.75.1.tar.gz tesseract-ocr"
   ]
  },
  {
   "cell_type": "code",
   "execution_count": null,
   "id": "2e1b5c21-bddd-4cab-8d54-9c58d42db460",
   "metadata": {},
   "outputs": [],
   "source": []
  },
  {
   "cell_type": "code",
   "execution_count": null,
   "id": "f22220f4-d674-467b-a98f-d399cd5a92f5",
   "metadata": {
    "tags": []
   },
   "outputs": [],
   "source": [
    "!pip install \"unstructured[all-docs]\""
   ]
  },
  {
   "cell_type": "markdown",
   "id": "21174b3b-8e83-4f0f-a098-1c890285913d",
   "metadata": {},
   "source": [
    "amazon linux tesseract 설치: https://blog.hikmahtechnologies.com/installing-tesseract-on-amazon-linux-2-4a08517eb2f1"
   ]
  },
  {
   "cell_type": "code",
   "execution_count": null,
   "id": "67f6de3a-cdb3-4d41-9f04-1887f1a6f5b0",
   "metadata": {},
   "outputs": [],
   "source": []
  },
  {
   "cell_type": "markdown",
   "id": "8c18d07e-21e2-4b90-beb0-fcd655b044f6",
   "metadata": {},
   "source": [
    "소스 코드: https://github.com/sudarshan-koirala/youtube-stuffs/blob/main/langchain/langchain_Semi_Structured_RAG.ipynb"
   ]
  },
  {
   "cell_type": "code",
   "execution_count": null,
   "id": "6e17f1ea-7e50-4ef0-b422-38936072871b",
   "metadata": {
    "tags": []
   },
   "outputs": [],
   "source": [
    "import urllib.request\n",
    "\n",
    "url = \"https://arxiv.org/pdf/2307.09288.pdf\"\n",
    "filename = \"Llama2.pdf\"\n",
    "urllib.request.urlretrieve(url, filename)"
   ]
  },
  {
   "cell_type": "code",
   "execution_count": 3,
   "id": "5e012c52-9199-4623-8e92-2a47671dc5b7",
   "metadata": {
    "tags": []
   },
   "outputs": [],
   "source": [
    "\n",
    "path = \"./content/\""
   ]
  },
  {
   "cell_type": "code",
   "execution_count": 4,
   "id": "2684b8e5-9b4c-42cd-bf9e-24b684e80ec7",
   "metadata": {
    "tags": []
   },
   "outputs": [
    {
     "name": "stderr",
     "output_type": "stream",
     "text": [
      "Ignoring (part of) ToUnicode map because the PDF data does not conform to the format. This could result in (cid) values in the output. The start object is not a byte.\n",
      "Ignoring (part of) ToUnicode map because the PDF data does not conform to the format. This could result in (cid) values in the output. The start object is not a byte.\n",
      "This function will be deprecated in a future release and `unstructured` will simply use the DEFAULT_MODEL from `unstructured_inference.model.base` to set default model name\n",
      "Ignoring (part of) ToUnicode map because the PDF data does not conform to the format. This could result in (cid) values in the output. The start object is not a byte.\n",
      "Ignoring (part of) ToUnicode map because the PDF data does not conform to the format. This could result in (cid) values in the output. The start object is not a byte.\n",
      "Some weights of the model checkpoint at microsoft/table-transformer-structure-recognition were not used when initializing TableTransformerForObjectDetection: ['model.backbone.conv_encoder.model.layer2.0.downsample.1.num_batches_tracked', 'model.backbone.conv_encoder.model.layer3.0.downsample.1.num_batches_tracked', 'model.backbone.conv_encoder.model.layer4.0.downsample.1.num_batches_tracked']\n",
      "- This IS expected if you are initializing TableTransformerForObjectDetection from the checkpoint of a model trained on another task or with another architecture (e.g. initializing a BertForSequenceClassification model from a BertForPreTraining model).\n",
      "- This IS NOT expected if you are initializing TableTransformerForObjectDetection from the checkpoint of a model that you expect to be exactly identical (initializing a BertForSequenceClassification model from a BertForSequenceClassification model).\n"
     ]
    }
   ],
   "source": [
    "\n",
    "from lxml import html\n",
    "from pydantic import BaseModel\n",
    "from typing import Any, Optional\n",
    "from unstructured.partition.pdf import partition_pdf\n",
    "\n",
    "# Get elements\n",
    "raw_pdf_elements = partition_pdf(\n",
    "    filename=path+\"dart-short-sample.pdf\",\n",
    "    # Unstructured first finds embedded image blocks\n",
    "    extract_images_in_pdf=True,\n",
    "    # Use layout model (YOLOX) to get bounding boxes (for tables) and find titles\n",
    "    # Titles are any sub-section of the document\n",
    "    infer_table_structure=True,\n",
    "    # Post processing to aggregate text once we have the title\n",
    "    chunking_strategy=\"by_title\",\n",
    "    # Chunking params to aggregate text blocks\n",
    "    # Attempt to create a new chunk 3800 chars\n",
    "    # Attempt to keep chunks > 2000 chars\n",
    "    max_characters=4000,\n",
    "    new_after_n_chars=3800,\n",
    "    combine_text_under_n_chars=2000,\n",
    "    #image_output_dir_path=path\n",
    ")"
   ]
  },
  {
   "cell_type": "code",
   "execution_count": 5,
   "id": "c59a1270-4cd3-4932-a08a-a1a69184e818",
   "metadata": {},
   "outputs": [
    {
     "data": {
      "text/plain": [
       "{\"<class 'unstructured.documents.elements.CompositeElement'>\": 21,\n",
       " \"<class 'unstructured.documents.elements.Table'>\": 19}"
      ]
     },
     "execution_count": 5,
     "metadata": {},
     "output_type": "execute_result"
    }
   ],
   "source": [
    "# Create a dictionary to store counts of each type\n",
    "category_counts = {}\n",
    "\n",
    "for element in raw_pdf_elements:\n",
    "    category = str(type(element))\n",
    "    if category in category_counts:\n",
    "        category_counts[category] += 1\n",
    "    else:\n",
    "        category_counts[category] = 1\n",
    "\n",
    "# Unique_categories will have unique elements\n",
    "unique_categories = set(category_counts.keys())\n",
    "category_counts"
   ]
  },
  {
   "cell_type": "code",
   "execution_count": 6,
   "id": "def7cc45-ffd4-4327-be44-00d17c3dacfd",
   "metadata": {},
   "outputs": [
    {
     "name": "stdout",
     "output_type": "stream",
     "text": [
      "19\n",
      "21\n"
     ]
    }
   ],
   "source": [
    "\n",
    "class Element(BaseModel):\n",
    "    type: str\n",
    "    text: Any\n",
    "\n",
    "# Categorize by type\n",
    "categorized_elements = []\n",
    "for element in raw_pdf_elements:\n",
    "    if \"unstructured.documents.elements.Table\" in str(type(element)):\n",
    "        categorized_elements.append(Element(type=\"table\", text=str(element)))\n",
    "    elif \"unstructured.documents.elements.CompositeElement\" in str(type(element)):\n",
    "        categorized_elements.append(Element(type=\"text\", text=str(element)))\n",
    "\n",
    "# Tables\n",
    "table_elements = [e for e in categorized_elements if e.type == \"table\"]\n",
    "print(len(table_elements))\n",
    "\n",
    "# Text\n",
    "text_elements = [e for e in categorized_elements if e.type == \"text\"]\n",
    "print(len(text_elements))"
   ]
  },
  {
   "cell_type": "code",
   "execution_count": 11,
   "id": "5e377977-91a6-46c5-9d8e-7b100cbb91db",
   "metadata": {
    "collapsed": true,
    "jupyter": {
     "outputs_hidden": true
    },
    "tags": []
   },
   "outputs": [
    {
     "name": "stdout",
     "output_type": "stream",
     "text": [
      "text\n",
      "type='text' text='[oj2HosiE )\\n\\n)\\n\\n+2IZR(X])-2021-316\\n\\n=L =| IT A ZSSH(ELS) HHU(QA)SELHM\\n\\n=L A ZSSH(ELS)\\n\\n=|\\n\\n=|\\n\\nIT\\n\\n@ 0] M= S8AH|KI| #e| HS I SZYEM Higt Ofs STIS #i510] \"FSLHIX HS0]| 2ot HE, R 2 70 27, GALe| LT SHIEAIS 7HA MUZESHEO| =0 LHZS 2l Olohet = AR Zhyet XIZRLICE lo\\n\\n70\\n\\n2\\n\\nR\\n\\nHE,\\n\\n2ot\\n\\nHS0]|\\n\\n\"FSLHIX\\n\\n#i510]\\n\\nSTIS lo\\n\\nOfs\\n\\n27,\\n\\nHigt\\n\\nS8AH|KI|\\n\\n@ 0]\\n\\n0]\\n\\nI\\n\\nHS I\\n\\nM=\\n\\n#e|\\n\\nSZYEM\\n\\nGALe|\\n\\nLT\\n\\nSHIEAIS\\n\\nXIZRLICE\\n\\n=0\\n\\nAR\\n\\n7HA\\n\\n=\\n\\nOlohet\\n\\nMUZESHEO|\\n\\nLHZS\\n\\n=0\\n\\nZhyet\\n\\n2l\\n\\n® 0] MBME THZFSHEO| EXLITM(RHEAIRT SSEAN Bet UE 0 2H)2 HES BORSIAZH DHEMH Oty S0F S MHE ST UYSLICL MR, THLUMME 0] MM} &7 IZHZHO| SXMIME YA o} YEE OlaHStAI=Tl ISHAI7| HHELICE\\n\\nDHEMH\\n\\nBORSIAZH\\n\\nHES\\n\\nUE 0\\n\\nBet\\n\\nSSEAN\\n\\nOty\\n\\n® 0]\\n\\n0]\\n\\nMBME\\n\\nTHZFSHEO|\\n\\nYA\\n\\nSXMIME\\n\\nS0F\\n\\nS\\n\\nIZHZHO|\\n\\n&7\\n\\nUYSLICL\\n\\nMHE\\n\\n0]\\n\\nTHLUMME\\n\\no}\\n\\nST\\n\\nMR,\\n\\nMM}\\n\\nOlaHStAI=Tl\\n\\nYEE\\n\\nHHELICE\\n\\n@ 2 482 2 (iZYEY 22 Y9 YR I TR 40| LYF £ QAo EXZ %t 242 EXIXH Z0A FSELD. 0] SBYE2 GISXESHY D2} HSEASA BS51X| oM, HSEH0| WAE £ ST\\n\\nEXIXH\\n\\n242\\n\\n%t\\n\\nEXZ\\n\\nQAo\\n\\n£\\n\\nLYF\\n\\n40|\\n\\nZ0A\\n\\nI\\n\\nYR\\n\\nY9\\n\\nTR\\n\\n@\\n\\n(iZYEY\\n\\n2\\n\\n482\\n\\n2\\n\\n22\\n\\nGISXESHY\\n\\n£\\n\\nWAE\\n\\nHSEH0|\\n\\noM,\\n\\n0]\\n\\nBS51X|\\n\\nHSEASA\\n\\nD2}\\n\\n˙ ˙ ˙\\n\\n-\\n\\nDAYHAE\\n\\nAZ\\n\\n71§\\n\\nOf2\\n\\nAFElS\\n\\nHHTA|\\n\\nEtol-&X|510]\\n\\nFA|7|\\n\\nHELICH -\\n\\n-'\n",
      "==\n",
      "table\n",
      "type='table' text='• ('\n",
      "==\n",
      "text\n",
      "type='text' text='AL\\n\\n2ot\\n\\nMBS\\n\\nHYS\\n\\nOlsHRCtE\\n\\n2ot YEHOIN HYS OlsHRCtE MBS AL H| A7 oS & USLICH\\n\\nYEHOIN\\n\\n&\\n\\nUSLICH\\n\\nH| A7\\n\\noS\\n\\n간 이 투 자 설 명 서\\n\\n미래에셋증권 제33037회파생결합증권(주가연계증권) 고위험, 원금비보장형\\n\\n투자위험등급 : 2등급 미래에셋증권(주)는 투자대상 자산의 종류 및 위험도 등을 감안하여 1등급 (초고위험)에서5등급(초저위험)까지 투자위험등급을5단계로 분류하고 있습니다. 따 [ 고위험 ] 라서, 이러한 분류기준에 따른금융투자상품의 위험등급에 대해 충분히 검토하신 후 합리적인 투자판단을 하시기 바랍니다.\\n\\n정부가 본 간이투자설명서의 기재사항이 진실 또는 정확하다는 것을 인정하거나 그 증권의 가치를 보증 또는 승인하지 아니함을 유의하시기 바랍니다. 또한 이 파생결합증권은「예금자보호법」에 따 라 예금보험공사가 보호하지 않는 금융투자상품으로 투자원금의 손실이 발생할 수 있으므로 투자에 신중을 기하여 주시기 바랍니다.\\n\\n【 투자결정시 유의사항 】\\n\\n※ 본 설명서는 금융소비자보호법 및 내부통제기준에 따른 절차를 거쳐 제공됩니다. ※ ELSㆍDLSㆍELBㆍDLB에 대한 상품정보는 금융투자협회 전자공시서비스 (dis.kofia.or.kr)에서 비교검색하실 수 있습니다.\\n\\n<투자결정시 유의사항>\\n\\n1. 투자판단시 일괄신고서,일괄신고추가서류, 투자설명서 및 간이투자설명 서를 반드시 참고하시기 바랍니다.\\n\\n2. 금융투자상품의 특성상 투자원금의 손실이 있을 수 있으며 예금자 보호대상 이 아닌 점을 숙지하고 투자하시기 바랍니다.\\n\\n3. 미리 정한 조건을 충족하지 못하는 경우 약정 수익을 받지 못하거나 상품에 따 라서는 원금손실이 발생될 수 있는 복잡한 구조이므로 관련 투자 위험요소를 충분히 이해하고 투자하시기 바랍니다. 운용결과에 따른 이익 또는 손실 책임은 투자 자 본인에게 귀속 됩니다.\\n\\n4. 기초자산의 가격에 연계하여 증권의 수익률이 결정되므로 투자결정 시 기초자산 의 성격 및 과거 가격 추이, 기초자산 관련 경영환경 변화 등에 따른 권리 변경 가능성 등을 충분히 감안하시기 바랍니다.기초자산이 신용위험인 경우 신용 사건 발생에 영향을 미칠 수 있는 다양한 요소를 숙지하고 투자하여야 합니다.\\n\\n5. 발행인의 신용상태에 따라 투자원금이 보호되지 않을 수 있는 신용위험이 있으므 로 발행인의 재무현황 및 신용등급(미래에셋증권, 발행사 신용등급 AA, 2021년 02월 22일 NICE신용평가 , 2021년 02월 23일 한국신용평가 , 2021년 03월 30일 한국기업평가 ) 등을 파악하고 투자결정을 하시기 바랍\\n\\n전자공시시스템 dart.fss.or.kr\\n\\nPage 1\\n\\n니다.\\n\\n6. 투자금은 법적으로 별도 예치의무가 없기 때문에 발행인의 고유재산과 분 리되어 보호되지 않는다는 점을 충분히 이해하고 투자하여야 합니다.\\n\\n7. 동 파생결합증권은 거래소에 상장되지 않아 만기 전 투자금 회수에 어려움이 있거나 투자금 회수를 위하여 발행인에게 중도상환 요청시 상환비용이 크게 발생하여 투자자에게 지급되는 금액은 원금에 미달할 수 있으므로, 중도상환절차 및 상환가격 결정방법 등을 반드시 확인하시기 바랍니다.\\n\\n8. 동 파생결합증권은 만65세 이상 고령투자자의 투자유의 상품으로 지정된 금융상품입니다. 만 65세 이상 고령투자자는 특별히 더 유의하셔서 투자결 정하시기 바랍니다.\\n\\n9.동 파생결합증권은 투자자가 이해하기 어려운 고난도금융투자상품으로 손실이 발생할 가능성이 있으니 투자에 유의하시기 바랍니다.\\n\\n10. 동 파생결합증권은 숙려제도 대상 투자자(개인일반투자자)의 투자 유의 상품으로 지정된 금융상품입니다. 특별히 더 유의하셔서 투자결정 하시기 바랍 니다.\\n\\n11. 동 파생결합증권은 개인 일반투자자에게 상품 판매 시 전 과정을 녹취 및 보관하고 고객요청시 제공토록 의무화 되어있습니다. 따라서, 녹취를 거부 하시는 경우에는 상품판매가 불가한점을 유의 하시기 바랍니다.\\n\\n12.(자료열람요구) 금융소비자보호법 제36조에 따른 분쟁조정 또는 소송의 수행 등 권리구제를 위한 목적으로 금융상품판매업자등이 기록 및 유지, 관리하는 자료의 열람(사본의 제공 또는 청취를 포함)을 요구할 수 있습니다. ※ 요구받은 날부터8일 이내 제공\\n\\n13. 궁금하신 사항이나 추가 상담을 원하시면, 아래 영업점 및 고객센터(☎1588- 6800) 통해 문의하시기 바라며, 고객 불편사항 또는 분쟁이 발생한 경우, 당사 홈페 이지(http://securities.miraeasset.com) 또는 금융감독원(국번없이1332) 등을 통해 도움 받으실 수 있습니다.\\n\\n14. 일괄신고추가서류, 투자설명서, 간이투자설명서의 내용이 서로 상이할 경우, 일 괄신고추가서류의 내용을 우선 적용합니다.'\n",
      "==\n",
      "text\n",
      "type='text' text='※ 금융투자 상품별 투자위험도 분류 기준'\n",
      "==\n",
      "table\n",
      "type='table' text='1등급(초고위험) 2등급(고위험) 3등급(중위험) 4등급(저위험) 5등급(초저위험) 구분 원금비보장형 ELS,DLS 녹인배리어 70% 이상, 130%이하/ 녹인배리어 70% 미만, 130%초과/ Pay off 레버리지 원금의 80%이 상 지급형 2배 미만'\n",
      "==\n",
      "text\n",
      "type='text' text='전자공시시스템 dart.fss.or.kr\\n\\nPage 2'\n",
      "==\n",
      "table\n",
      "type='table' text='Pay off 레버리지 2배 이상 ELB,DLB 당사발행 ELB, DLB 투자자 구분 성장형 성장추구형 위험중립형 안정추구형 안정형'\n",
      "==\n",
      "text\n",
      "type='text' text='※ 목표시장 설정 및 설정 근거 - 목표시장: 투자성향등급(5단계)중 성장형, 성장추구형 고객을 대상으로 함. - 목표시장 분석표'\n",
      "==\n",
      "table\n",
      "type='table' text='고객유형 ■ 일반투자자 ■ 전문투자자 지식과 경험 □ 낮음 ■ 중간 ■ 높음 손실감내능력 □ 원금 대비 20%까지 손실 감내 ■ 원금 20%~100% 손실 감내 □ 원금 초과 손실 감내 위험추구성향 □ 위험회피형 (투자성향:안정형 / 상품위험등급:5등급) □ 위험중립형 (투자성향:위험중립형,안전추구형 / 상품위험등급:3,4등급 ■ 위험선호형 (투자성향:성장형,성장추구형 / 상품위험등급:1,2등급 투자목적을 고려한 투자기간 □ 단기(1년 미만) ■ 중기(1년 이상 ~ 3년 미만) ■ 장기(3년이상) 보유 가능기간 ■ 중도환매가능 ■ 만기 보유'\n",
      "==\n",
      "text\n",
      "type='text' text='- 목표시장 설정 근거: 해당상품은 최대원금손실 가능금액이 원금의 100 분의 20 을 초과 하는 상품 으로 자본시장법 시행령 제 2 조 7 에서 정의하는 고난도금융투자상품 에 해당합 니다. 고난도금융투자상품 제조 및 판매에 관한 표준 영업행위 준칙 에 따라, 이 상품의 목표 시장은 위와 같이 설정하였습니다. 지식과 경험 손실감내능력 위험 추구 성향 및 투자 기간 등의 각 항목과 더불어 이 상품의 설명서 등을 참고하시어 투자에 신중을 기하여 주시기 바 랍니다.\\n\\n1. 상품개요'\n",
      "==\n",
      "table\n",
      "type='table' text='항목 내용 종목명 미래에셋증권 제33037회 파생결합증권(주가연계증권) (고위험,원금비보장)(상품위험등급:2등급)'\n",
      "==\n",
      "text\n",
      "type='text' text='전자공시시스템 dart.fss.or.kr\\n\\nPage 3\\n\\nS&P500 지수 AMD(AMD(UW)) (Advanced Micro Devices, Inc. / AMD UW Equity)'\n",
      "==\n",
      "table\n",
      "type='table' text='기초자산 모 집 총 액 1증권당 액면가액 1증권당 발행가액 발행 수량 최소청약금액 청약시작일 청약기간 청약종료일 숙려제도 대상 청약기간 숙려제도 대상 청약시작일 숙려제도 대상 청약종료일 숙 려 기 간 가입의사확인기간 납 입 일 배정 및 환불일 발 행 일 만 기 일(실물인도일) 결제방법 5,000,000,000원 10,000원 10,000원 500,000증권 1,000,000원 2022년 03월 28일 2022년 04월 06일 오후 5시까지 (청약기간이후 청약취소 불가) 2022년 03월 28일 2022년 04월 01일 2022년 04월 04일 ~ 2022년 04월 05일 2022년 04월 06일 오후 5시까지 2022년 04월 07일 2022년 04월 07일 2022년 04월 07일 2025년 04월 07일'\n",
      "==\n",
      "text\n",
      "type='text' text='자동조기상환및중도상환시: 현금결제 만기수익상환시: 현금결제 만기손실상환시: [만기평가일종가/최초기준일종가]의 비율이 가 장 낮은 기초자산이 - S&P500의 경우: 현금결제 - AMD의 경우: 실물인도대상자산을 실물인도(1주 미만 수량은 현금결제)\\n\\n전자공시시스템 dart.fss.or.kr\\n\\nPage 4\\n\\n- 일반청약이며 소정의 청약서에 필요한 사항을 기입하고 서명 또는 날인하여 청약증거금과 함께 청약취급처에서 청약하거나, 미래에셋증권 HTS(Home Trading System) 및 홈페이지 (http://securities.miraeasset.com) 상에서 온라인 청약을 하실 수 있습니다. 단, 경우에 따라 온라인 청약이 불가할 수 있으니 청약하고자 하는 고객께서는 사전에 당사 지점을 등을 통하여 확 인하시기 바랍니다.\\n\\n청약의 방식 및 절차\\n\\n- 청약자는 \"금융실명거래 및 비밀보장에 관한 법률\"의 규정에 의한 실명확인이 된 계좌를 통하여 청약을 하거나 별도로 실명확 인을 하여야 합니다. 또한, 대리인을 선임하는 경우 청약서에는 대리인이 본인 및 대리인을 표시하고, 대리인이 기명날인 또는 서명하여야 합니다.\\n\\n- 청약자의 청약분에 대하여는 청약기간의 영업개시시간 이후부 터 청약종료시간까지 접수된 것으로 합니다. 단, 온라인청약의 경우 접수시간이 상이할 수 있으니 청약하고자 하는 고객께서는 사전에 당사 지점 등을 통하여 확인하시기 바랍니다. (단, 주말 및 공휴일은 청약이 불가능합니다.)'\n",
      "==\n",
      "table\n",
      "type='table' text='※ 본 증권은 자본시장법 시행령 제2조제7호에서 정하는 고난도금융투자상품에 해당하며 만 기 또는 자동조기상환시 기초자산 가격변동에 따라 원금의 20%를 초과하는 손실이 발생할 수 있습니다. 또한 기초자산 가격변동 이외의 요인(투자자 요청에 따른 중도상환, 발행인의 지급 불이행 등)으로 추가 손실이 발생할 수 있습니다.'\n",
      "==\n",
      "text\n",
      "type='text' text='※ 개인 일반투자자인 경우 2영업일 이상의 숙려기간을갖고, 숙려기간이 지난 후 최종 투자 여부를 확정해야합니다. 이에 의하여 일부 투자자에 대한 숙려제도 적용에따라 투자자간 청 약기간이 달리 적용될 수 있습니다. 자세한 문의사항은 판매처(신탁계약의 경우 해당 금융기 관)에 문의 바랍니다.\\n\\n※ 숙려기간이 지난 후 고객으로부터 청약등의 의사가 확정적임을 확인받지 못하는 경우 청 약금액은 환불일에 투자자들의 해당 청약계좌로 반환됩니다.\\n\\n※숙려기간: 개인 일반투자자는 본 증권 판매과정에 대한 녹취 자료를 요청할 수 있으며 판 매과정 중 2영업일 이상의 숙려기간을 갖습니다. 또한 본 증권의 투자 위험 등을 요약한 설명 서를 받으며(개인 전문투자자 포함), 최대 원금손실 가능금액 등을 숙려기간 중 고지받습니 다. 숙려기간이 지난 후 금융투자회사가 고객으로부터 서명, 기명날인, 녹취 등의 방법으로 청약등의 의사가 확정적임을 확인받지 못하는 경우 해당 청약등은 집행되지 못하니 유의하 시기 바랍니다.\\n\\n※ 동 파생결합증권은 만기 손실 확정시([만기평가일종가/최초기준일종가]의 비율이 가장 낮은 기초자산이 AMD의 경우) 실물인도대상자산을 실물로 지급하는 상품으로 청약 시 실물 지급이 가능한 외화증권약정 계좌로 청약 계좌가 제한되며 청약 사전에 당사 지점 및 HTS, 홈페이지등을 통하여 청약가능계좌 및 외화증권약정 여부를 확인하시기 바랍니다.\\n\\n※ 동 파생결합증권은 만기 손실 확정시([만기평가일종가/최초기준일종가]의 비율이 가장\\n\\n전자공시시스템 dart.fss.or.kr\\n\\nPage 5\\n\\n낮은 기초자산이 AMD의 경우) 실물인도대상자산을 실물로 지급하는 상품으로 발행 이후 만 기상환 시점까지 전 보유기간동안 타사계좌로의 이체출고가 불가함을 알려드립니다.\\n\\n※ 총 청약금액이 모집총액의 100%에 미달하는 경우는 부분납입으로 종결하고 해당 금액만 을 발행하고, 모집총액의 100%를 초과하는 경우는 안분배정합니다. 단, 총 청약금액이 총 10억원에 미달되는 경우 본 증권이 취소될 수 있으며 이 경우 환불일에 청약금액을 환불하되 이자는 가산하지 않으니 이 점 유의하시기 바랍니다.\\n\\n※ 본 증권의 공정가격은 2022년 03월 22일 기준 [8,468.53원]으로 추산됩니다.\\n\\n* 이는 2022년 03월 22일 기준으로 제3의 평가기관으로부터 제시받은 이론상의 평가가격으로 본 거래에 따른 위험회피거래에 소요되는 만기까지의 헤지비용은 가산하지 않은 가격입니다. 이론가격 산출에 사용한 시장변수는 아래 표와 같습니다.'\n",
      "==\n",
      "table\n",
      "type='table' text='항 목 내 용 기초자산가격 변동성 - S&P500 지수 : 28.64% - AMD : 65.8% 기초자산 일별수익률 간의 상관계수 - S&P500 지수,AMD : 0.6003'\n",
      "==\n",
      "text\n",
      "type='text' text='[변동성 기준: Volatility Surface에 대하여 VIX방법론을 이용(Jiang and Tian(2005))하여 Volatility Term Structure를 산출한 뒤 해당만기에 상응하는 변동성을 적용, 상관계수 기준: 180영 업일 역사적 상관계수]\\n\\n발행 이후 발행인의 홈페이지에 게시하는 공정가액(기준가)은 확정된 기초자산의 기준가격과 당시 시장상황을 감안하여 추산된 헤지비용 등이 반영되므로 본 일괄신고추가서류 제출일 현재 제시한 가 격과 달라질 수 있습니다.\\n\\n2. 권리의 내용\\n\\n(1) 평가일, 관찰일 및 평가방법\\n\\n○ 최초기준가격 : 최초기준가격평가일에 각 기초자산의 종가 (현지시간 기준) ○ 최초기준가격평가일 : 2022년 04월 07일\\n\\n○ 자동조기상환평가가격 : 해당 차수 자동조기상환평가일 각 기초자산 종가 (현지시간 기준) ○ 자동조기상환평가일 및 상환금액'\n",
      "==\n",
      "table\n",
      "type='table' text='차수 자동조기상환평가일 상환금액 1차 2022년 10월 04일 액면금액 × 107.00% 2차 2023년 04월 04일 액면금액 × 114.00% 3차 2023년 10월 02일 액면금액 × 121.00% 4차 2024년 04월 02일 액면금액 × 128.00% 5차 2024년 10월 01일 액면금액 × 135.00%'\n",
      "==\n",
      "text\n",
      "type='text' text='전자공시시스템 dart.fss.or.kr\\n\\nPage 6\\n\\n○ 자동조기상환일 : 해당 차수 자동조기상환평가일(불포함) 후 3영업일 (서울 및 뉴욕 기준)\\n\\n만기평가가격 : 만기평가일 각 기초자산 종가 (현지시간 기준) ○ 만기평가일 : 2025년 03월 28일 ○ 최종관찰일 : 만기평가일(만기평가일이 복수인 경우 그 중 마지막 날) ○ 만기상환일 : 만기평가일(불포함) 후 6영업일(서울 및 뉴욕 기준)\\n\\n전자공시시스템 dart.fss.or.kr\\n\\nPage 7\\n\\n(2) 손익구조 ⅰ. 자동조기상환 및 만기수익상환'\n",
      "==\n",
      "table\n",
      "type='table' text='구분 내용 투자수익률 (세전) (1) 1차 자동조기상환평가일에 모든 기초자산의 자동조기상환 평가가격이 각 최초기준가격의 [85%] 이상인 경우 -> 액면금액 * 107.00% 지급 (2) 2차 자동조기상환평가일에 모든 기초자산의 자동조기상환 평가가격이 각 최초기준가격의 [85%] 이상인 경우 -> 액면금액 * 114.00% 지급 자동 (3) 3차 자동조기상환평가일에 모든 기초자산의 자동조기상환 조기 평가가격이 각 최초기준가격의 [85%] 이상인 경우 연 14.00% 상환 -> 액면금액 * 121.00% 지급 (4) 4차 자동조기상환평가일에 모든 기초자산의 자동조기상환 평가가격이 각 최초기준가격의 [85%] 이상인 경우 -> 액면금액 * 128.00% 지급 (5) 5차 자동조기상환평가일에 모든 기초자산의 자동조기상환 평가가격이 각 최초기준가격의 [80%] 이상인 경우 -> 액면금액 * 135.00% 지급 (6)모든 기초자산의 만기평가가격이 각 최초기준가격의 [75%] 42.00% 만기 수익 상환 이상인 경우 (7) 위 (6)에 해당하지 않고, 최초기준가격평가일 익일로부터 최 종관찰일(포함)까지 모든 기초자산 중 어느 하나도 각 최초기준 가격의 [45%]미만으로 하락한 적이 없는 경우(종가 기준)(어느 (연 14.00%) 42.00% (연 14.00%) 한 기초자산의 가격만 발표되는 날도 포함)'\n",
      "==\n",
      "text\n",
      "type='text' text='ⅱ.만기손실상환 -[만기평가일종가/최초기준일종가]의 비율이 가장 낮은 기초자산이 S&P500의 경우'\n",
      "==\n",
      "table\n",
      "type='table' text='만기 손실 상환 위 (6)에 해당하지 않고, 최초기준가격평가일 익일로부터 최종관찰 일(포함)까지 모든 기초자산 중 어느 하나라도 각 최초기준가격의 [45%]미만으로 하락한 적이 있는 경우(종가 기준)(어느 한 기초자 산의 가격만 발표되는 날도 포함)'\n",
      "==\n",
      "text\n",
      "type='text' text='* 기준종목 : 모든 기초자산 중 [만기평가가격/최초기준가격]의 비율이 가장 낮은 기초자산\\n\\n-[만기평가일종가/최초기준일종가]의 비율이 가장 낮은 기초자산이 AMD의 경 우\\n\\n전자공시시스템 dart.fss.or.kr\\n\\nPage 8'\n",
      "==\n",
      "table\n",
      "type='table' text='구분 내용 투자수익률 (세전) 1) 실물인도대상자산으로 주식실 물인도 실물인도 주식수량= (액면금액 Ⅹ만기평가일종가/최초기준일종 만기 손실 상환 위 (6)에 해당하지 않고, 최초기준가격평가일 익일로부터 최종 관찰일(포함)까지 모든 기초자산 중 어느 하나라도 각 최초기준 가격의 [45%]미만으로 하락한 적이 있는 경우(종가 기준)(어느 한 기초자산의 가격만 발표되는 날도 포함) 가)/전환기준환율/만기평가일종 가(1주미만절사) 2) 1주 미만은 현금지급 현금결제금액= (액면금액Ⅹ만기 평가일종가/최초기준일종가)-(만 기평가일종가Ⅹ실물인도수량 Ⅹ전환기준환율)'\n",
      "==\n",
      "text\n",
      "type='text' text='실물인도대상자산 : 모든 기초자산 중 [만기평가일종가/최초기준일종가]의 비율이 가장 낮 은 기초자산 (단, 두 기초자산의 가격하락률이 동일한 경우, 발행자가 결정한 기초자산을 실물인도 대상 자산으로 합니다.)\\n\\n* 실물인도주식수량 및 현금결제금액 계산을 위한 만기평가일종가 및 최초기준일종가는 실 물인도대상자산을 기준으로 합니다.\\n\\n*전환기준환율 : 만기평가일 당일 서울외국환중개㈜ 홈페이지(www.smbs.biz)에 오후 3시 30분경 고시되는 종가 고시환율(한국의 공휴일 및 토,일요일 제외)\\n\\n*만기평가일에 상환금액(액면금액Ⅹ만기평가일종가/최초기준일종가)이 확정되고, 해당금액 을 기준으로 실물인도수량 및 현금결제금액이 결정됨에 따라 만기평가일 이후 실물인도대상 자산의 가격변동은 본 증권의 상환 내용에 영향을 주지 않습니다(만기평가일 이후 실물인도 대상자산의 가격변동에 따른 시장위험은 투자자가 부담합니다.).\\n\\n*만기손실상환으로 실물인도대상자산이 교부되는 경우, 실물인도일의 전일 종가와 실물인도 일의 매매기준환율(서울외국환중개㈜ 홈페이지(www.smbs.biz)에 당일(한국의 공휴일 및 토,일요일 제외) 오전 8시 30분에 고시되는 매매기준율) 기준으로 평가한 실물인도대상자산 의 원화평가금액과 현금결제금액(1주미만)의 합계가 최초발행금액(최초발행가액 * 잔존수량 ) 대비 높으면 그 차액에 해당하는 금액이 관련 세법에 따라 배당소득으로 간주되어 발행인 이 소득세를 원천징수 할 수 있습니다.\\n\\n3. 예상 손익구조 그래프\\n\\n전자공시시스템 dart.fss.or.kr\\n\\nPage 9\\n\\n미래에셋증권 제33037회 (예상 손익구조 그래프)\\n\\n가. 손실구조 예시 (1억원 투자시) - 기초자산 S&P500 지수, AMD의 최초기준가격이 각각 4456.24pt, 113.92$인 경우\\n\\n나. 손실사례(만기평가일에 만기 상환가격 미충족, KI터치 발생 가정) - 만기평가일까지 S&P500 지수, AMD의 가격이 어느 하나라도 각 2005.308pt, 51.264$ 미만으로 하락한 적이 있는 경우(종가 기준)\\n\\n나-(1).더 많이 하락한 기초자산이 S&P500의 경우'\n",
      "==\n",
      "table\n",
      "type='table' text='구분 내용 사례1 만기평가일에 AMD, S&P500 지수의 가격이 각각 91.136$, 2228.12pt일때 (더 많이 하락한 S&P500 지수 기준) → 1억 + [1억 × (-50%)] = 5,000 만원 상환 사례2 만기평가일에 AMD, S&P500 지수의 가격이 각각 91.136$, 1782.496pt일때 (더 많이 하락한 S&P500 지수 기준) → 1억 + [1억 × (-60%)] = 4,000 만원 상환 사례3 만기평가일에 AMD, S&P500 지수의 가격이 각각 91.136$, 891.248pt일때 (더 많이 하락한 S&P500 지수 기준) → 1억 + [1억 × (-80%)] = 2,000 만원 상환 사례4 만기평가일에 AMD, S&P500 지수의 가격이 각각 91.136$, 0pt일때 (더 많이 하락한 S&P500 지수 기준) → 1억 + [1억 × (-100%)] = 0 원 상환 손실률 -50% -60% -80% -100%'\n",
      "==\n",
      "text\n",
      "type='text' text='*[만기평가가격/최초기준가격]의 비율이 가장 낮은 기초자산 기준\\n\\n나-(2).더 많이 하락한 기초자산이 AMD의 경우'\n",
      "==\n",
      "table\n",
      "type='table' text='구분 내용 만기평가일에 S&P500 지수, AMD의 가격이 각각 3564.992pt, 56.96$일때 (더 많이 하락한 AMD 기준), 전환기준환율이 1,100원인 경우 사례1 →실물인도주식수량=(1억Ⅹ56.96$/113.92$/1,100원 /56.96$ = 798주 →현금결제금액=(1억Ⅹ56.96$/113.92$) - (56.96$Ⅹ798주 Ⅹ 1,100원) = 512원 지급 손실률 -50%'\n",
      "==\n",
      "text\n",
      "type='text' text='전자공시시스템 dart.fss.or.kr\\n\\nPage 10'\n",
      "==\n",
      "table\n",
      "type='table' text='만기평가일에 S&P500 지수, AMD의 가격이 각각 3564.992pt, 22.784$일때 (더 많이 하락한 AMD 기준), 전환기준환율이 1,100원인 경우 사례2 →실물인도주식수량=(1억Ⅹ22.784$/113.92$/1,100원 /22.784$ = 798주 →현금결제금액=(1억Ⅹ22.784$/113.92$) - (22.784$Ⅹ798주 Ⅹ 1,100원) = 204원 지급 사례3 만기평가일에 S&P500 지수, AMD의 가격이 각각 3564.992pt, 0$일때 (더 많 이 하락한 AMD 기준), 전환기준환율이 1,100원인 경우 → 1억 + [1억 × (-100%)] = 0 원 상환 -80% -100%'\n",
      "==\n",
      "text\n",
      "type='text' text='실물인도대상자산 : 모든 기초자산 중 [만기평가일종가/최초기준일종가]의 비율이 가장 낮은 기초 자산 (단, 두 기초자산의 가격하락률이 동일한 경우, 발행자가 결정한 기초자산을 실물인도 대상자산으로 합니다.)\\n\\n* 실물인도 주식수량 = (액면금액Ⅹ만기평가일종가/최초기준일종가)/전환기준환율/만기평가일종가 (1주미만절사)\\n\\n* 현금결제금액 = (액면금액Ⅹ만기평가일종가/최초기준일종가)-(만기평가일종가Ⅹ실물인도수량 Ⅹ전환기준환율)\\n\\n*전환기준환율 : 만기평가일 당일 서울외국환중개㈜ 홈페이지(www.smbs.biz)에 오후 3시 30분경 고시되는 종가 고시환율(한국의 공휴일 및 토,일요일 제외)\\n\\n전자공시시스템 dart.fss.or.kr\\n\\nPage 11\\n\\n4. 기초자산의 과거 데이터를 이용한 수익률 모의실험\\n\\n—— O E(EE) ———s&PS00X|F(RF) ———aAMD(REH) 250 -120% ’S’:\\'é\\\\( p\"’:\\'é\\\\\\' 9\"7\\'6» 9‘09\"\\' 9\"755\" Q%D\\'L 9‘1\\'61 \\'Q\")\\'@( ‘0‘7\\'6\\\\( 9‘1\\'@( 0‘1\\'6\\\\( 0‘1& 9‘—:6“ Q‘—i@( \\'0\";\\'6» 9‘1\\'6\\\\\\' ‘:\\'(S\" S\\':é\\\\‘ 0‘7& P gt gl o g gl o g'\n",
      "==\n",
      "table\n",
      "type='table' text='상환구분 수익률 발생횟수 발생빈도 1차 조기상환 7.00% 2918 61.47% 2차 조기상환 14.00% 447 9.42% 3차 조기상환 21.00% 190 4.00% 4차 조기상환 28.00% 235 4.95% 5차 조기상환 35.00% 75 1.58% 만기상환 42.00% 40 0.84% -10% ~ 0% 0 0.00% -20% ~ -10% 0 0.00% 만기상환손실 -30% ~ -20% -40% ~ -30% 14 74 0.29% 1.56% -50% ~ -40% 158 3.33% -50%이하 596 12.56% 진행중 0 0.00% Total 4747 100.00%'\n",
      "==\n",
      "text\n",
      "type='text' text='주1) 위 그래프와 표는 투자시점이 2000년 05월 02일부터 2019년 03월 15일인 경우로 가 정하여 분석한 결과입니다.\\n\\n주2) 분석시작일(2000년 05월 02일)로부터 분석기간동안 매 거래소영업일에 동일한 상품이\\n\\n전자공시시스템 dart.fss.or.kr\\n\\nPage 12\\n\\n신규발행되어 투자자가 이를 반복해서 매입하는 것을 가정하였으며 이 경우 각각의 만기수 익률을 표본으로 추출하였습니다. (총 4,747회)\\n\\n주3) 자동조기상환금액의 재투자는 가정하지 않았으며, 자동조기상환이 발생한 경우에는 자 동조기상환시의 수익률을 만기수익률로 인식하였습니다.\\n\\n주4) 위 그래프와 표는 과거 기초자산의 종가를 이용한 손익구조 예시에 불과하며, 본 증권 의 투자에 따른 미래의 만기상환수익률의 예측치가 아님을 주의하셔야 합니다.\\n\\n5. 중도상환에 대한 사항\\n\\nｏ 만기 또는 자동조기상환이 원칙이나 투자자가 원할 경우 중도상환을 신청하실 수 있습니 다. 단, 미래에셋증권은 중도상환가격평가일에 시장이 열리지 않거나 시장교란사유 발생 등 으로 기초자산의 가격 평가가 곤란한 경우 중도상환에 응하지 않을 수 있으며, 이 경우 발생 하는 손실은 모두 투자자에게 귀속됩니다.'\n",
      "==\n",
      "table\n",
      "type='table' text=\"중도상환 신청가능일 발행일 익 영업일부터중도상환 신청 불가능일을 제외한 모든 영업일 중도상환 신청불가능일 다음 ①부터 ④까지의 해당 영업일 ① 최종 관찰일 이전 6영업일부터 최종 관찰일(포함) 까지의 영업일 ② 자동조기상환평가일과 그 직전 영업일 ③ 만기평가일과 그 직전 영업일 ④ 수익지급평가일과 그 직전 영업일 중도상환 요청의 철회 신청일 당일 오후 4시까지 취소 가능 중도상환가격 평가일 중도상환신청일 익거래소영업일 및 영업일 (단, 기초자산이 복수인 경우, 중도상환가격평가일은 중도상환 신청일 직후의 기초자산 모두의 거래소영업일로 한다.) 중도상환금액 지급 일 중도상환가격 평가일(불포함) 이후 2영업일에 해당하는 날 중도상환 결제방법 현금결제 중도상환 신청 단위 100만원을 최소금액으로 하며 100만원 단위로 신청 가능합니다. 중도상환가격 본 증권의 공정가액(기준가)은'미래에셋증권 홈페이지 (http://securities.miraeasset.com) > 금융상품 > ELS/DLS/ETN > ELS/DLS 기준가조회'에 게시되어 있어 중도상환 결정에 참고하실수 있습니다.실제 중 도상환 금액은 상기한 공정가액(기준가)의 95% 이상(단, 발행후 6개월까지는 90%이상)수준에서 발행인이 신의성실의 원칙에따라 산정하며, 이 경우원금손 실이 발생할 수 있습니다. 기타 증권의 양도 신청불가능일 및 단위는 중도상환 신청불가능일 및 단위와 동일 합니다.\"\n",
      "==\n",
      "text\n",
      "type='text' text='전자공시시스템 dart.fss.or.kr\\n\\nPage 13\\n\\n6. 투자자 유의사항'\n",
      "==\n",
      "table\n",
      "type='table' text='기초자산의 가격변동에 연동한 수익구조에 의한 위험 발행인의 신용과 관련한 위험 환율변동에 따른 위험 환금성 제약의 위험 과세 관련 위험 권리내용의 변경 및 조기종결 위 험 본 증권은 기초자산의 가격변동에 연동하여 수익구조가 결정되는 파생상품적 성격을 지니고 있으므로기초자산의 가격이 투자자에게 불리한 방향으로 움직이는 경우 투자자는 예상치 못한 커다란 손실 을 입게 될 수 있으며, 대상이 되는 기초자산에 직접 투자했을 때 얻을 수 있는 수익률과 본 증권에 투자하여 얻은 수익률이 전혀 다 를 수 있습니다. 본 증권은발행인의 신용으로 발행되는 무보증 증권이므로 발행인 의 재무, 손익상황이 본 증권의 상환에 중대한 영향을 미칠 수 있습 니다. 본 증권과 관련하여미래에셋증권이 부담하게 되는 채무는 다 른 무담보, 무보증 채권과 동일한 순위를 가집니다. -본 증권은 원화로 투자하고 월수익지급, 중도상환 및 만기 수익상 환(또는 원금상환) 시 원화로 상환금을 지급받는 증권으로 해당 조 건에서는 환율변동이 투자자에게 노출되지 않습니다.다만 만기 손 실상환 조건으로 확정되어 실물주식으로 지급될 경우에는 미국달 러(USD)표시 주식으로 인도 됨에 따라 환율변동에 따른 위험에 노 출될 수 있습니다. 본 증권은 상장하지 않을 예정이므로 증권 보유자는 장외매매를 통 하여 본 증권을 양도하거나, 투자자의 요청에 의한 중도상환 등 본 증권의 조건에 따라 본 증권보유자에게 부여된 발행회사의 권리행 사 가능 사유를 제외하고는유동성 확보에 지장이 있을 수 있다는 점을 고려하여야 할 것입니다. 본 증권과 관련하여 투자자가 얻게 되는발행가액 대비 초과소득은 관련세법에 따라 배당소득으로 간주되어 발행인이 소득세를 원천 징수하게 됩니다. 또한 수익금액의 발생으로 종합소득과세 대상이 될 수 있으므로, 투자판단시 고려하시기 바랍니다.'\n",
      "==\n",
      "text\n",
      "type='text' text='기초자산의 가격이 산출되지 않거나 혹은 존속하지 않게 되거나, 본 증권의 존속기간 동안 기초자산의 성격이 매우 이질적으로 변경 되어 본 증권 발행시의 기초자산과 동일한 것으로 보기 어려워지거 나, 기초자산 또는 기초자산 구성종목의 매매가 불가능해지는 등의 경우에는발행인은 상환금액 산정방식 및 평가일을 포함한 본 증권 의 발행조건 및 권리내용을 합리적으로 조정할 수 있으며, 이러한 조정에도 불구하고본 증권을 유지하는 것이 어렵다고 발행인이 판 단하는 경우에는 선관주의에 입각하여 합리적인 방법으로조기종결 을 할 수 있습니다. 또한 발행인의 파산, 회생절차 개시 또는 기타 천재지변 등의 사유로 인하여 조기종결될 수 있으며, 이 경우 원금 손실이 발생할 수 있습니다.\\n\\n고난도금융투자상품 투자에 따른 위험\\n\\n본 증권은고난도금융투자상품에 해당합니다. 본 증권의 예상손익 구조에 따르면 만기 또는 자동조기상환시기초자산 가격변동에 따 라 발생 가능한최대손실은 원금의 100%로서,원금의 20%를 초과 하는 손실이 발생할 수 있습니다.또한 기초자산 가격변동 이외의 요인(투자자 요청에 따른 중도상환, 발행인의 지급불이행 등)으로 추가 손실이 발생할 수 있습니다.\\n\\n전자공시시스템 dart.fss.or.kr\\n\\nPage 14\\n\\n7. 인수에 관한 사항\\n\\n해당사항 없음\\n\\n8. 자금의 사용목적\\n\\n미래에셋증권은 향후 발행조건에 의한 상환금의 안정적인 지급을 위하여, 당해 증권의 발행 으로 조달된 자금 일부 또는 전체를 기초자산 거래, 장내외 파생상품 거래 등의 위험회피거 래(헷지거래) 및 금융투자상품 투자에 사용할 계획입니다.\\n\\n9. 발행인이 영위하는 사업목적\\n\\n미래에셋증권은 금융투자상품 관련 투자매매업, 투자중개업, 투자자문업, 투자일임업 및 신 탁업을 금융위원회로부터 인가받아 영위하고 있습니다.\\n\\n10. 발행인의 요약 재무정보 발행인에 관한사항은 2022년 03월 16일에 금융위원회에 제출한 미래에셋증권 제53기 사업 보고서(2021년01월01일~2021년 12월31일)를 참조하시기 바랍니다.11. 기타 사항 ※ 미래에셋증권은 관련 상품특성과 위험요소에 대해 설명 의무가 있습니다. 그러나 충분히 설명을 듣고 고객의 판단으로 투자한 상품의 손실에 대한 모든 책임은 고객에게 있습니다.※ 상품가입 후 의 문사항은 또는 불만(민원)이 있을 경우 미래에셋증권 고객지원센터(1588-6800)또는 인터넷 홈페이 지(http://securities.miraeasset.com)에 문의할 수 있고, 분쟁이 발생한 경우에는 금융감독원(국번 없이 1332) 등의 도움을 요청할 수 있습니다.\\n\\n□ 본 설명서는 이 상품의 중요내용만을 선별하여 요약한 것이므로 이 설명서에만 의존하지 마시고 투자설명서 등 세부 설명자료를 반드시 확인하신 후 청약하시기 바랍니다.'\n",
      "==\n",
      "table\n",
      "type='table' text='ENETN S HE SIS S BIEA #OIGHA = HOGHAID| HHRILICH [/\\\\401700_1 30| ] : = Hd Olchol s s & ( K& ( ) (2)= 20l iddle 28AHIXUIES et 286t 0 A OIH 25D NE5IYUOH, DXH HYE WY AHA o HE0l SLotCe AtAlS SoIELICH(B , EHIOIXI http://securities.miraeasset.com). 4 2 o 4SHYNALY (MY e 2)'\n",
      "==\n",
      "text\n",
      "type='text' text='본 간이투자설명서는 투자설명서(예비투자설명서)의 기재사항 중 중요한 사항만을 요약한 것입니다 . 증권의 모집(매출) 또는 발행인의 재무상황 등에 대하여 보다 자세하고 구체적인 정보를 얻기 원하 는 투자자들께서는 증권신고서 또는 투자설명서(예비투자설명서)를 참조하시기 바랍니다. 일괄신고 추가서류, 투자설명서, 간이투자설명서의 내용이 서로 상이할 경우 일괄신고추가서류의 내용을 우 선 적용합니다. ※ 증권신고서 사본 등 열람장소:금융감독원 전자공시시스템(http://dart.fss.or.kr)\\n\\n전자공시시스템 dart.fss.or.kr\\n\\nPage 15\\n\\n본 간이투자설명서의 증권신고서는 2022년 03월 25일자로 효력이 발생하였으나, 증권신고서의 효 력발생은 정부가 증권신고서의 기재사항이 진실 또는 정확하다는 것을 인정하거나 이 증권의 가치 를 보증 또는 승인한 것이 아닙니다. 또한 본 간이투자설명서의 기재사항은 청약일 전에 정정될 수 있음을 유의하시기 바랍니다.\\n\\n전자공시시스템 dart.fss.or.kr\\n\\nPage 16'\n",
      "==\n"
     ]
    }
   ],
   "source": [
    "for e in categorized_elements:\n",
    "    print (e.type)\n",
    "    print (e)\n",
    "    print (\"==\")"
   ]
  },
  {
   "cell_type": "markdown",
   "id": "9c4ade56-8dbc-4ded-b355-7e4bcc971e90",
   "metadata": {},
   "source": [
    "## 1. Bedrock Client 생성"
   ]
  },
  {
   "cell_type": "code",
   "execution_count": 12,
   "id": "cc2d877f-e877-48f6-8dd4-239de20e45cd",
   "metadata": {
    "tags": []
   },
   "outputs": [],
   "source": [
    "import json\n",
    "import boto3\n",
    "from pprint import pprint\n",
    "from termcolor import colored\n",
    "from utils import bedrock, print_ww\n",
    "from utils.bedrock import bedrock_info"
   ]
  },
  {
   "cell_type": "markdown",
   "id": "088e6490-c79a-49e4-841c-9fdb91292608",
   "metadata": {
    "tags": []
   },
   "source": [
    "### ---- ⚠️ Un-comment and edit the below lines as needed for your AWS setup ⚠️ ----\n",
    "- os.environ[\"AWS_DEFAULT_REGION\"] = \"<REGION_NAME>\"  # E.g. \"us-east-1\"\n",
    "- os.environ[\"AWS_PROFILE\"] = \"<YOUR_PROFILE>\"\n",
    "- os.environ[\"BEDROCK_ASSUME_ROLE\"] = \"<YOUR_ROLE_ARN>\"  # E.g. \"arn:aws:...\"\n",
    "- os.environ[\"BEDROCK_ENDPOINT_URL\"] = \"<YOUR_ENDPOINT_URL>\"  # E.g. \"https://...\""
   ]
  },
  {
   "cell_type": "code",
   "execution_count": 13,
   "id": "cab9312c-5f61-4730-96c3-5eef54a5f08c",
   "metadata": {
    "tags": []
   },
   "outputs": [
    {
     "name": "stdout",
     "output_type": "stream",
     "text": [
      "Create new client\n",
      "  Using region: None\n",
      "  Using profile: None\n",
      "boto3 Bedrock client successfully created!\n",
      "bedrock-runtime(https://bedrock-runtime.us-west-2.amazonaws.com)\n",
      "\u001b[32m\n",
      "== FM lists ==\u001b[0m\n",
      "{'Claude-Instant-V1': 'anthropic.claude-instant-v1',\n",
      " 'Claude-V1': 'anthropic.claude-v1',\n",
      " 'Claude-V2': 'anthropic.claude-v2',\n",
      " 'Claude-V2-1': 'anthropic.claude-v2:1',\n",
      " 'Claude-V3-Sonnet': 'anthropic.claude-3-sonnet-20240229-v1:0',\n",
      " 'Cohere-Embeddings-En': 'cohere.embed-english-v3',\n",
      " 'Cohere-Embeddings-Multilingual': 'cohere.embed-multilingual-v3',\n",
      " 'Command': 'cohere.command-text-v14',\n",
      " 'Command-Light': 'cohere.command-light-text-v14',\n",
      " 'Jurassic-2-Mid': 'ai21.j2-mid-v1',\n",
      " 'Jurassic-2-Ultra': 'ai21.j2-ultra-v1',\n",
      " 'Llama2-13b-Chat': 'meta.llama2-13b-chat-v1',\n",
      " 'Titan-Embeddings-G1': 'amazon.titan-embed-text-v1',\n",
      " 'Titan-Text-G1': 'amazon.titan-text-express-v1',\n",
      " 'Titan-Text-G1-Light': 'amazon.titan-text-lite-v1'}\n"
     ]
    }
   ],
   "source": [
    "boto3_bedrock = bedrock.get_bedrock_client(\n",
    "    assumed_role=os.environ.get(\"BEDROCK_ASSUME_ROLE\", None),\n",
    "    endpoint_url=os.environ.get(\"BEDROCK_ENDPOINT_URL\", None),\n",
    "    region=os.environ.get(\"AWS_DEFAULT_REGION\", None),\n",
    ")\n",
    "\n",
    "print (colored(\"\\n== FM lists ==\", \"green\"))\n",
    "pprint (bedrock_info.get_list_fm_models(verbose=False))"
   ]
  },
  {
   "cell_type": "markdown",
   "id": "241a9e34-417a-422f-9f75-cb211b2e70e1",
   "metadata": {
    "tags": []
   },
   "source": [
    "## 2. Titan Embedding 및 LLM 인 Claude-v2 모델 로딩"
   ]
  },
  {
   "cell_type": "markdown",
   "id": "29bf63d2-4110-407c-af06-a45d2fbed4b5",
   "metadata": {},
   "source": [
    "### LLM 로딩 (Claude-v2)"
   ]
  },
  {
   "cell_type": "code",
   "execution_count": 14,
   "id": "9c51443a-04f9-465c-9564-53053eb3e1c2",
   "metadata": {
    "tags": []
   },
   "outputs": [],
   "source": [
    "from langchain.llms.bedrock import Bedrock\n",
    "from langchain.callbacks.streaming_stdout import StreamingStdOutCallbackHandler"
   ]
  },
  {
   "cell_type": "code",
   "execution_count": 15,
   "id": "d09e84e0-b9e1-4b12-8e7a-68f03c5416e5",
   "metadata": {
    "tags": []
   },
   "outputs": [
    {
     "data": {
      "text/plain": [
       "Bedrock(client=<botocore.client.BedrockRuntime object at 0x7ff4985d4b50>, model_id='anthropic.claude-v2:1', model_kwargs={'max_tokens_to_sample': 1024}, streaming=True, callbacks=[<langchain_core.callbacks.streaming_stdout.StreamingStdOutCallbackHandler object at 0x7ff49859b5b0>])"
      ]
     },
     "execution_count": 15,
     "metadata": {},
     "output_type": "execute_result"
    }
   ],
   "source": [
    "llm_text = Bedrock(\n",
    "    model_id=bedrock_info.get_model_id(model_name=\"Claude-V2-1\"),\n",
    "    client=boto3_bedrock,\n",
    "    model_kwargs={\n",
    "        \"max_tokens_to_sample\": 1024\n",
    "    },\n",
    "    streaming=True,\n",
    "    callbacks=[StreamingStdOutCallbackHandler()]\n",
    ")\n",
    "\n",
    "llm_text"
   ]
  },
  {
   "cell_type": "code",
   "execution_count": 16,
   "id": "a2d339fd-cb95-403c-9a28-1210c5a3b0f7",
   "metadata": {
    "tags": []
   },
   "outputs": [],
   "source": [
    "from langchain.prompts import ChatPromptTemplate\n",
    "from langchain.schema.output_parser import StrOutputParser"
   ]
  },
  {
   "cell_type": "code",
   "execution_count": 17,
   "id": "380be3af-1ed3-437d-be3d-aad58364e6c2",
   "metadata": {
    "tags": []
   },
   "outputs": [],
   "source": [
    "\n",
    "# Prompt\n",
    "prompt_text=\"\"\"You are an assistant tasked with summarizing tables and text. \\\n",
    "Give a concise summary of the table or text. Table or text chunk: {element} \"\"\"\n",
    "prompt = ChatPromptTemplate.from_template(prompt_text)\n",
    "\n",
    "# Summary chain\n",
    "#model = ChatOpenAI(temperature=0,model=\"gpt-3.5-turbo\")\n",
    "\n",
    "summarize_chain = {\"element\": lambda x:x} | prompt | llm_text | StrOutputParser()"
   ]
  },
  {
   "cell_type": "code",
   "execution_count": 18,
   "id": "9c736c4e-a3eb-4068-944f-f60e2a175b65",
   "metadata": {
    "tags": []
   },
   "outputs": [
    {
     "name": "stdout",
     "output_type": "stream",
     "text": [
      " Unfortunately I do not have access to the table or text chunk that was referenced. As an AI assistant without access to additional context, I am unable to summarize something that was not provided. If a table, text excerpt, or other content is provided for me to summarize, I would be happy to attempt to concisely summarize its key information. Please feel free to provide a table, text, or other content you would like me to summarize. 이 테이블은 구조화된 금융상품의 위험등급에 대한 기준을 보여줍니다. 1등급부터 5등급까지 초고위험에서 초저위험 수준으로 분류합니다. 각 위험등급별로 원금비보장형 ELS, DLS의 녹인배리어 범위, Pay off 레버리지 원금 지급 기준 등을 제시하고 있습니다. Unfortunately I do not have access to the table you referenced. As an AI assistant without visual perception capabilities, I need the textual content of tables or images provided explicitly in order to summarize them. If you provide the textual contents, I would be happy to generate a concise summary. Please feel free to provide the text content of the table, and I will do my best to summarize it helpfully. 이 테이블은 고객유형을 일반투자자와 전문투자자로 나누고, 각 유형의 지식과 경험, 손실감내능력, 위험추구성향, 투자목적을 고려한 투자기간, 보유 가능기간 등의 특성을 보여줍니다. 전문투자자의 경우 지식과 경험이 높고 손실감내능력도 더 크며 위험선호형입니다. 투자기간과 보유기간도 더 길 수 있습니다. 제33037회 파생결합증권 종목에 대한 내용으로, 제품명은 '미래에셋증권 제33037회 파생결합증권(주가연계증권) (고위험,원금비보장)(상품위험등급:2등급)'이며 주요 내용은 다음과 같습니다.\n",
      "\n",
      "- 고위험 상품으로 원금비보장\n",
      "- 상품위험등급 2등급\n",
      "- 주가와 연계된 파생결합증권 This table provides details related to a securities offering, including:\n",
      "\n",
      "- Total amount of base asset collection: 5,000,000,000 won\n",
      "- Face value per security: 10,000 won \n",
      "- Issue price per security: 10,000 won\n",
      "- Number of securities issued: 500,000\n",
      "- Minimum subscription amount: 1,000,000 won\n",
      "- Subscription start date: March 28, 2022\n",
      "- Subscription period: March 28, 2022 - April 6, 2022 5PM\n",
      "- Cooling-off period applies\n",
      "- Cooling-off subscription start date: March 28, 2022  \n",
      "- Cooling-off subscription end date: April 1, 2022\n",
      "- Cooling-off period: April 4, 2022 - April 5, 2022\n",
      "- Confirmation of intent to subscribe period: April 6, 2022 5PM\n",
      "- Payment date: April 7, 2022\n",
      "- Allotment/refund date: April 7, 2022  \n",
      "- Issue date: April 7, 2022\n",
      "- Maturity date (actual product delivery date): April 7, 2025\n",
      "- Settlement method: Not specified This text mentions the following key points:\n",
      "\n",
      "1) The securities fall under the category of complex financial investment products as defined by the Capital Markets Act Enforcement Decree Article 2 Clause 7.\n",
      "\n",
      "2) The principal may suffer losses exceeding 20% of the original investment amount depending on fluctuations in the underlying asset price at the time of automatic early redemption or maturity.\n",
      "\n",
      "3) Additional losses may occur due to factors other than underlying asset price fluctuations, such as early redemption at the investor's request or issuer payment default.\n",
      "\n",
      "In summary, this is a disclaimer stating that this is a complex financial product with potential for significant losses under certain conditions. * 항목들은 기초자산가격 변동성과 기초자산 일별수익률 간의 상관계수에 대한 것임\n",
      "* S&P500 지수의 가격 변동성은 28.64%\n",
      "* AMD의 가격 변동성은 65.8%\n",
      "* S&P500 지수와 AMD의 일별수익률 간의 상관계수는 0.6003 This table shows the early redemption evaluation dates, redemption amounts, and percentages for a financial product over 5 redemption periods. On the 1st early redemption evaluation date of October 4, 2022, the redemption amount is the face value multiplied by 107%. On the 2nd date of April 4, 2023 it is 114% of face value. The 3rd through 5th periods show increasing redemption percentages of 121%, 128%, and 135% on October 2, 2023, April 2, 2024, and October 1, 2024 respectively. This table outlines several automatic early redemption evaluation dates and the return rates if all underlying asset prices on those dates are at or above a certain percentage of their initial reference prices. Returns range from 107% to 135% of face value. If assets don't qualify for early redemption, the table shows the maturity evaluation criteria and returns - 42% if all assets are at 75% of initial price at maturity, or 42% if no asset falls below 45% of initial price during the period. Unfortunately I do not have access to the table or text chunk that was referenced. As an assistant focused on summarization, I would need to be provided the actual table or text in order to generate a concise summary. Please provide the table or text contents when making the request again. I'm happy to summarize once I have the necessary information. This appears to be a table with information about investment returns and payout conditions. It outlines the payout and calculation methods for cases of physical asset delivery vs cash settlement, depending on whether the underlying asset price drops below 45% of the initial price during the investment period. Specifically, it shows how the number of stocks or cash amount to be paid out at maturity is calculated in different scenarios. As it is written in Korean, I unfortunately cannot provide a more detailed summary of the content. Please let me know if you need any clarification or have another table or text you would like me to summarize. This table shows 4 examples of payouts at maturity for a structured product linked to the prices of AMD stock and the S&P500 index. In each case, the payout is 100 million KRW + [100 million KRW x the max % decline of AMD or S&P500]. As the max % decline increases from -50% to -100%, the payout decreases from 50 million to 0 KRW. So the product provides exposure to the downside movement of the worse performing asset, while guaranteeing some capital protection unless both assets fall 100%. 이 표는 만기평가일에 S&P500 지수와 AMD 주가를 기준으로 하는 구조화상품의 수익률 계산 사례를 보여줍니다. 가정한 시나리오에서 S&P500 지수는 3564.992포인트, AMD 주가는 $56.96로 하락했습니다. 이에 따라 전환기준환율 1,100원을 적용할 경우, 투자자는 798주의 AMD 주식을 인도받고 512원의 현금을 추가로 지급받는다. 이 상품의 손실률은 -50%입니다. 이 표는 만기평가일 시점의 S&P500 지수와 AMD 주가에 따라 주식연계파생상품의 상환금액을 계산한 것입니다. AMD 주가 하락 폭이 더 큰 경우를 기준으로, 전환기준환율 1,100원일 때 실물주식 수량과 현금결제금액을 계산하고 있습니다. 사례2는 AMD 주가가 22.784달러로 하락한 경우이고, 사례3은 AMD 주가가 0달러로 대폭 하락한 경우이며 원금손실 100%에 해당합니다. This table shows statistics on loan repayment outcomes. It categorizes the loans by number of early repayments made (1st through 5th), full maturity repayment, partial losses, and loans still in progress. The most common outcome is 1st early repayment at 7% yield, occurring for 2918 loans (61.47%). The least common is 5th early repayment at 35% yield, occurring for only 75 loans (1.58%). No loans had between -10% and -50% losses. This text describes the details regarding early redemption for a financial product. Key points:\n",
      "\n",
      "- Early redemption can be requested on any business day from issuance date, excluding specified non-redeemable days. \n",
      "\n",
      "- Request can be canceled by 4pm on the request date.\n",
      "\n",
      "- Redemption price is evaluated on the exchange business day after request date. Payment is made 2 business days after price evaluation date.\n",
      "\n",
      "- Minimum redemption amount is 1 million won and multiples of 100,000 won thereafter. \n",
      "\n",
      "- Redemption price is at least 95% of fair value (90% within 6 months of issuance). Actual redemption amount may result in loss of principal.\n",
      "\n",
      "- Non-transferable and denomination rules match those for non-redeemable days and minimum amounts. Here is a concise summary of the key points from the text:\n",
      "\n",
      "The securities carry risks tied to fluctuations in the underlying asset prices, issuer credit, liquidity constraints, taxation, and early termination. As derivative-linked instruments, they can result in substantial losses if the underlying assets move adversely. With no collateral, the securities carry the issuer's credit risk. They are planned for OTC trading only so liquidity can be limited. Excess income over par value is deemed dividend income for tax purposes. Comprehensive taxation may also apply to income amounts. Unfortunately I do not have access to the table or text chunk that was referenced, so I am unable to provide a summary. If the table or text is provided, I would be happy to analyze it and give a concise summary of the key information. Please let me know if you can provide the content you would like summarized."
     ]
    }
   ],
   "source": [
    "\n",
    "# Apply to tables\n",
    "tables = [i.text for i in table_elements]\n",
    "table_summaries = summarize_chain.batch(tables, {\"max_concurrency\": 5})"
   ]
  },
  {
   "cell_type": "code",
   "execution_count": null,
   "id": "fc65e5e3-0065-4038-aeee-d0d7edbd67d1",
   "metadata": {},
   "outputs": [],
   "source": []
  },
  {
   "cell_type": "code",
   "execution_count": 19,
   "id": "d0e93a49-af4a-4429-a8b2-f90380192db5",
   "metadata": {
    "tags": []
   },
   "outputs": [
    {
     "name": "stdout",
     "output_type": "stream",
     "text": [
      " Unfortunately I do not have access to the table or text chunk that was referenced. As an AI assistant without access to additional context, I am unable to summarize content that has not been provided. If a table, text excerpt, or other content is provided for me to summarize, I would be happy to attempt to generate a concise summary of it. Please feel free to provide me with the information you would like summarized and I will do my best to produce a useful summary. Let me know if you need any clarification or have additional requests! 이 테이블은 구조화금융상품(ELS, DLS)의 신용등급을 1등급(초고위험)부터 5등급(초저위험)까지 5개 등급으로 분류하고, 각 등급별로 원금비보장형과 지급형 상품의 기준을 제시하고 있습니다. 원금비보장형은 녹인배리어와 페이오프 레버리지 정도에 따라, 지급형은 원금지급 범위에 따라 등급이 구분됩니다. Unfortunately I do not have access to the table you referenced. As an AI assistant without access to additional context, I am unable to summarize a table or text that was not provided. Please provide the full table or text you would like me to summarize. I'd be happy to condense the key information into a concise summary once I have the necessary details. Please let me know if you can provide the table or text chunk for me to summarize. 이 테이블은 고객유형을 일반투자자와 전문투자자로 나누고, 각 유형의 지식/경험, 손실감내능력, 위험추구성향, 투자목적을 고려한 투자기간, 보유 가능기간 등의 특성을 보여줍니다. 전문투자자는 지식/경험과 손실감내능력이 높고 위험선호형이며, 투자기간은 주로 중장기이고 중도환매가 가능합니다. ```\n",
      "\n",
      "Title: The 33037th 파생결합증권 by 미래에셋증권 \n",
      "\n",
      "Type: 주가연계증권 with high risk and no capital guarantee \n",
      "\n",
      "Risk Category: 2등급\n",
      "\n",
      "```\n",
      "\n",
      "This table contains information about the 33037th 파생결합증권 issued by 미래에셋증권. Specifically, it is a 주가연계증권 that has high risk with no capital guarantee. Its risk category is 2등급. This table provides details related to a bond issuance, including:\n",
      "\n",
      "- Total amount issued: 5,000,000,000 won\n",
      "- Face value per bond: 10,000 won \n",
      "- Issue price per bond: 10,000 won\n",
      "- Number of bonds issued: 500,000\n",
      "- Minimum subscription amount: 1,000,000 won\n",
      "- Subscription period: March 28, 2022 - April 6, 2022 5PM\n",
      "- Cooling-off period eligible subscription period: March 28, 2022 - April 1, 2022  \n",
      "- Cooling-off period: April 4, 2022 - April 5, 2022\n",
      "- Confirmation of intent to subscribe period: April 6, 2022 5PM\n",
      "- Allotment/refund date: April 7, 2022  \n",
      "- Issue date: April 7, 2022\n",
      "- Maturity date: April 7, 2025\n",
      "- Payment method not specified\n",
      "\n",
      "Key details are the total amount issued, subscription timeline with cooling-off period, allotment and settlement dates, and maturity. This text chunk mentions that the securities fall under the category of high-risk financial investment products as defined by the Capital Markets Act Enforcement Decree Article 2 Clause 7. It states that at maturity or upon auto early redemption, the principal can suffer a loss exceeding 20% depending on the price fluctuation of the underlying asset. Additionally, factors other than the underlying asset's price fluctuation (early redemption per investor request, issuer payment default, etc.) may lead to further losses.\n",
      "\n",
      "In summary, this is a disclaimer stating that this is a high-risk product where the principal is not guaranteed and losses above 20% are possible due to underlying asset price changes or other factors. * 이 표는 두 가지 기초자산인 S&P500 지수와 AMD의 가격 변동성과 이들간의 일별수익률 상관계수를 보여줍니다.\n",
      "* S&P500 지수의 가격 변동성은 28.64%이고, AMD의 가격 변동성은 65.8%입니다.\n",
      "* S&P500 지수와 AMD의 일별수익률 간의 상관계수는 0.6003입니다. This table shows the early redemption evaluation dates, redemption amounts, and percentages for a financial product over 5 redemption periods. On the 1st redemption date of October 4, 2022, the redemption amount is the face value multiplied by 107%. On the 2nd date of April 4, 2023 it is 114% of face value. On the 3rd date of October 2, 2023 it is 121%. On the 4th date of April 2, 2024 it is 128%. And on the 5th date of October 1, 2024, it is 135% of face value. This table shows the investment return rates under different automatic early redemption evaluation scenarios. Specifically:\n",
      "\n",
      "1) If on the 1st evaluation date, prices of all underlying assets are 85% or more of their initial prices, 107% of face value is paid.\n",
      "\n",
      "2) If on the 2nd evaluation date, prices of all assets are 85% or more of initial prices, 114% of face value is paid.\n",
      "\n",
      "3) If on the 3rd evaluation date, prices of all assets are 85% or more of initial prices, 121% of face value is paid.\n",
      "\n",
      "4) If on the 4th evaluation date, prices of all assets are 85% or more of initial prices, 128% of face value is paid. \n",
      "\n",
      "5) If on the 5th evaluation date, prices of all assets are 80% or more of initial prices, 135% of face value is paid.\n",
      "\n",
      "6) If on maturity date, prices of all assets are 75% or more of initial prices, 42% yield to maturity is paid.\n",
      "\n",
      "7) If none of the above conditions are met, but prices of all assets never fell below 45% of their initial prices from the day after initial price evaluation date to the final observation date, 42% yield to maturity is paid. Unfortunately I do not have access to the table or text referenced. As an assistant I can only summarize information that is provided to me. If you provide the table or text chunk, I would be happy to give a concise summary. Please let me know if you can provide the actual content you would like me to summarize. This appears to be a table with information about investment returns and payout conditions. It outlines the payout calculation for two scenarios:\n",
      "\n",
      "1) If physical assets (stocks) are delivered at maturity, the quantity is calculated based on face value, maturity date closing price, and initial closing price. Fractions under 1 share are paid out in cash. \n",
      "\n",
      "2) If the price of any underlying asset falls below 45% of its initial price during the investment period, there will be a loss at maturity. The cash payout is calculated based on face value, maturity date closing price, initial closing price, quantity of physical assets delivered, and the conversion reference exchange rate.\n",
      "\n",
      "In summary, it details the calculations for investment payout in stocks or cash under two different scenarios at maturity. This table shows four examples of payout calculations at maturity for a product linked to the AMD stock price and S&P500 index level. In each case, the payout is based on the greater percentage decline between AMD and S&P500. It shows the stock/index prices at maturity, the percentage decline relative to the worse performing asset, the payout calculation of initial investment + (initial investment x percentage decline), and the effective loss rate. As the percentage decline worsens from -50% to -100% in the examples, the payout decreases from 50 million won down to 0 won, demonstrating the downside risk of the product. This text describes a financial instrument with a principal of 100 million won that is linked to the S&P 500 index and the AMD stock price. On the evaluation date, the S&P 500 closed at 3564.992 points, AMD closed at $56.96, and the conversion FX rate was 1,100 won per dollar. Since AMD dropped more, it is used to calculate the payout. The payout is 798 shares of AMD stock plus 512 won in cash. The loss rate is 50% compared to the original 100 million won principal. 맨 윗줄의 표에서 S&P500 지수가 3564.992pt이고 AMD의 주가가 22.784$인 경우가 제시되어 있습니다. 이후에는 이 가정 아래에서 전환사채의 실물인도주식수량과 현금결제금액을 계산하는 과정이 설명되어 있습니다. 구체적 수치는 798주의 주식을 인도하고 204원을 추가로 지급한다는 것입니다. 맨 밑줄의 표에서는 AMD의 주가가 0$로 추락한 경우이며, 이 경우 투자원금의 전액 손실을 의미하는 0원을 상환한다고 설명되어 있습니다. This table shows statistics on repayment outcomes for some kind of financial product. It breaks down the number and percentage of occurrences by early repayment schedule (1st, 2nd, 3rd, 4th, 5th), full term repayment, various levels of loss at maturity, in progress, and total. The most common outcome is 1st early repayment at 7% yield, occurring 2,918 times (61.47%). The least common is 5th early repayment at 35% yield, occurring 75 times (1.58%). The table outlines details regarding early redemption requests for a financial product, including:\n",
      "\n",
      "- Days when early redemption requests can and cannot be made, with certain business days before final observation date, auto early redemption evaluation date, maturity evaluation date, and income distribution evaluation date excluded\n",
      "\n",
      "- Early redemption request can be cancelled on the request date by 4pm\n",
      "\n",
      "- Early redemption price is evaluated on the exchange business day after the request date (or after all underlying assets' exchange business days if multiple underlying assets)\n",
      "\n",
      "- Early redemption amount is paid 2 business days after the early redemption price evaluation date \n",
      "\n",
      "- Minimum request amount is 1 million won and requests can be made in increments of 100,000 won\n",
      "\n",
      "- Early redemption price is based on fair value (benchmark price) but actual early redemption amount will be 95% or higher (90% or higher within 6 months of issuance) of that, which may result in principal loss\n",
      "\n",
      "So in summary, it outlines the key dates, amounts, and prices related to making an early redemption request for this financial product. Here is a concise summary of the key points from the table/text:\n",
      "\n",
      "The securities carry risks related to fluctuations in the price of underlying assets, credit risk of the issuer, liquidity constraints, and tax implications. The payout structure is linked to the performance of underlying assets, so losses can occur if asset prices move unfavorably. As unsecured debt, repayment is dependent on the issuer's financial position. The securities are unlisted, so selling them may be difficult outside of specified issuer repurchase options. Capital gains above the issue price are deemed dividend income for tax purposes. Investors should consider these risks and tax impacts when evaluating the securities. Unfortunately I am unable to summarize the given table or text chunk as it appears to be random characters and does not contain meaningful information or data to summarize. It does not appear to be in any recognizable language or format. Please provide a table, image, or text excerpt that contains discernible information, data, or language that can be summarized."
     ]
    }
   ],
   "source": [
    "table_summaries = summarize_chain.batch(tables, {\"max_concurrency\": 5})"
   ]
  },
  {
   "cell_type": "code",
   "execution_count": null,
   "id": "15cdaf56-c846-4e18-a60b-40d9bbb326e1",
   "metadata": {},
   "outputs": [],
   "source": []
  },
  {
   "cell_type": "code",
   "execution_count": null,
   "id": "b098d88e-c061-41c5-877c-8761e20f3325",
   "metadata": {},
   "outputs": [],
   "source": []
  },
  {
   "cell_type": "code",
   "execution_count": null,
   "id": "558b9210-24dd-4b0d-b432-61c2c4e71db3",
   "metadata": {},
   "outputs": [],
   "source": []
  },
  {
   "cell_type": "code",
   "execution_count": null,
   "id": "acc16433-82a4-4c39-b61d-87618ce84889",
   "metadata": {},
   "outputs": [],
   "source": []
  },
  {
   "cell_type": "code",
   "execution_count": null,
   "id": "50bf12cf-eaf0-49dd-a2ef-ec6ff57d2043",
   "metadata": {},
   "outputs": [],
   "source": []
  },
  {
   "cell_type": "code",
   "execution_count": null,
   "id": "de86b1f4-fcdf-4b7d-8add-10f98a9c130f",
   "metadata": {},
   "outputs": [],
   "source": []
  },
  {
   "cell_type": "code",
   "execution_count": null,
   "id": "5f2460c7-c57c-4906-8795-8c2cabec8c9e",
   "metadata": {},
   "outputs": [],
   "source": []
  },
  {
   "cell_type": "markdown",
   "id": "3ba2e829-af8f-4e90-b994-59106cdec8d8",
   "metadata": {},
   "source": [
    "### Embedding 모델 선택"
   ]
  },
  {
   "cell_type": "code",
   "execution_count": null,
   "id": "0b7b8752-d1e3-4f41-ba35-6da42c3785db",
   "metadata": {
    "tags": []
   },
   "outputs": [],
   "source": [
    "from utils.rag import KoSimCSERobertaContentHandler, SagemakerEndpointEmbeddingsJumpStart"
   ]
  },
  {
   "cell_type": "code",
   "execution_count": null,
   "id": "793b03f7-3186-4969-b76a-98fe56bd5fdc",
   "metadata": {
    "tags": []
   },
   "outputs": [],
   "source": [
    "def get_embedding_model(is_bedrock_embeddings, is_KoSimCSERobert, aws_region, endpont_name=None):\n",
    "\n",
    "    if is_bedrock_embeddings:\n",
    "        # We will be using the Titan Embeddings Model to generate our Embeddings.\n",
    "        from langchain.embeddings import BedrockEmbeddings\n",
    "        llm_emb = BedrockEmbeddings(\n",
    "            client=boto3_bedrock,\n",
    "            model_id=bedrock_info.get_model_id(\n",
    "                model_name=\"Titan-Embeddings-G1\"\n",
    "            )\n",
    "        )\n",
    "        print(\"Bedrock Embeddings Model Loaded\")\n",
    "\n",
    "    elif is_KoSimCSERobert:\n",
    "        LLMEmbHandler = KoSimCSERobertaContentHandler()\n",
    "        endpoint_name_emb = endpont_name\n",
    "        llm_emb = SagemakerEndpointEmbeddingsJumpStart(\n",
    "            endpoint_name=endpoint_name_emb,\n",
    "            region_name=aws_region,\n",
    "            content_handler=LLMEmbHandler,\n",
    "        )\n",
    "        print(\"KoSimCSERobert Embeddings Model Loaded\")\n",
    "    else:\n",
    "        llm_emb = None\n",
    "        print(\"No Embedding Model Selected\")\n",
    "\n",
    "    return llm_emb"
   ]
  },
  {
   "cell_type": "markdown",
   "id": "cd72a6b8-eaf0-4036-a530-3bde5ba988cd",
   "metadata": {},
   "source": [
    "#### [중요] is_KoSimCSERobert == True 일시에 endpoint_name 을 꼭 넣어 주세요."
   ]
  },
  {
   "cell_type": "code",
   "execution_count": null,
   "id": "f42e032b-8715-432c-ae71-12a889f8ffc0",
   "metadata": {
    "tags": []
   },
   "outputs": [],
   "source": [
    "is_bedrock_embeddings = True\n",
    "is_KoSimCSERobert = False\n",
    "aws_region = os.environ.get(\"AWS_DEFAULT_REGION\", None)\n",
    "\n",
    "##############################\n",
    "# Parameters for is_KoSimCSERobert\n",
    "##############################\n",
    "if is_KoSimCSERobert: endpont_name = \"<endpoint-name>\"\n",
    "else: endpont_name = None\n",
    "##############################\n",
    "\n",
    "llm_emb = get_embedding_model(is_bedrock_embeddings, is_KoSimCSERobert, aws_region, endpont_name)   "
   ]
  },
  {
   "cell_type": "markdown",
   "id": "7e432237-b9b5-4be3-aa0c-c30eeca6f480",
   "metadata": {},
   "source": [
    "## 3. LangChainOpenSearch VectorStore 정의\n",
    "### 선수 조건\n",
    "- 01_preprocess_docs/02_load_docs_opensearch.ipynb를 통해서 OpenSearch Index 가 생성이 되어 있어야 합니다.\n",
    "#### [중요] 아래에 aws parameter store 에 아래 인증정보가 먼저 입력되어 있어야 합니다.\n",
    "- 01_preprocess_docs/01_parameter_store_example.ipynb 참고"
   ]
  },
  {
   "cell_type": "code",
   "execution_count": null,
   "id": "635ffe33-b1b1-49f7-ae14-07b782d30a63",
   "metadata": {
    "tags": []
   },
   "outputs": [],
   "source": [
    "import boto3\n",
    "from utils.ssm import parameter_store"
   ]
  },
  {
   "cell_type": "code",
   "execution_count": null,
   "id": "7c306f9b-35e9-4f5f-aaef-0b3d00cf30e4",
   "metadata": {
    "tags": []
   },
   "outputs": [],
   "source": [
    "region=boto3.Session().region_name\n",
    "pm = parameter_store(region)"
   ]
  },
  {
   "cell_type": "code",
   "execution_count": null,
   "id": "4a7a8669-f62a-4670-8552-ec684511f272",
   "metadata": {
    "tags": []
   },
   "outputs": [],
   "source": [
    "opensearch_domain_endpoint = pm.get_params(\n",
    "    key=\"opensearch_domain_endpoint\",\n",
    "    enc=False\n",
    ")\n",
    "\n",
    "opensearch_user_id = pm.get_params(\n",
    "    key=\"opensearch_user_id\",\n",
    "    enc=False\n",
    ")\n",
    "\n",
    "opensearch_user_password = pm.get_params(\n",
    "    key=\"opensearch_user_password\",\n",
    "    enc=True\n",
    ")"
   ]
  },
  {
   "cell_type": "code",
   "execution_count": null,
   "id": "fc7866fd-fd9c-4b41-b600-a91e43edfe4d",
   "metadata": {
    "tags": []
   },
   "outputs": [],
   "source": [
    "opensearch_domain_endpoint = opensearch_domain_endpoint\n",
    "rag_user_name = opensearch_user_id\n",
    "rag_user_password = opensearch_user_password\n",
    "\n",
    "http_auth = (rag_user_name, rag_user_password) # Master username, Master password"
   ]
  },
  {
   "cell_type": "markdown",
   "id": "161a900e-effc-4d7f-a179-b6c00eac03ad",
   "metadata": {
    "tags": []
   },
   "source": [
    "### Index 이름 셋팅\n",
    "- 이전 노트북 01_preprocess_docs/02_load_docs_opensearch.ipynb를 통해서 생성된 OpenSearch Index name 입력"
   ]
  },
  {
   "cell_type": "code",
   "execution_count": null,
   "id": "513996ec-f07f-4d87-ade9-f89d1a6f451b",
   "metadata": {
    "tags": []
   },
   "outputs": [],
   "source": [
    "index_name = opensearch_user_password = pm.get_params(\n",
    "    key=\"opensearch_index_name\",\n",
    "    enc=True\n",
    ")\n",
    "\n",
    "print (f'index_name: {index_name}')"
   ]
  },
  {
   "cell_type": "markdown",
   "id": "482f5785-b88d-44fa-a603-080e4bd734a6",
   "metadata": {},
   "source": [
    "### OpenSearch Client 생성"
   ]
  },
  {
   "cell_type": "code",
   "execution_count": null,
   "id": "968b7502-5799-4702-bc17-959e88c330a2",
   "metadata": {
    "tags": []
   },
   "outputs": [],
   "source": [
    "from utils.opensearch import opensearch_utils"
   ]
  },
  {
   "cell_type": "code",
   "execution_count": null,
   "id": "6ceb46a1-e425-4f7e-9319-793b55abb938",
   "metadata": {
    "tags": []
   },
   "outputs": [],
   "source": [
    "os_client = opensearch_utils.create_aws_opensearch_client(\n",
    "    aws_region,\n",
    "    opensearch_domain_endpoint,\n",
    "    http_auth\n",
    ")"
   ]
  },
  {
   "cell_type": "markdown",
   "id": "a5084376-7523-4cf9-9123-adc4ae79f66d",
   "metadata": {
    "tags": []
   },
   "source": [
    "## 4. Retriever based on Hybrid Search 정의\n",
    "- LangChain에서 제공하는 **BaseRetriever** 클래스를 상속받아 **Custom Retriever**를 정의 할 수 있습니다.\n",
    "- 본 샘플코드 에서는 **Hybrid Search based Retriever**를 **정의**합니다. "
   ]
  },
  {
   "cell_type": "markdown",
   "id": "b0a25df0-2a13-4d73-9edc-532caf98f804",
   "metadata": {},
   "source": [
    "OpenSearch Hybrid 는 아래와 같은 방식으로 작동합니다.\n",
    "- (1) Sematic serch를 통해 각 document별 relevant score 산출\n",
    "- (2) Lexical search를 통해 각 document별 relevant score 산출\n",
    "- (3-1) Rank-fusion 방식이 \"simple weighted\" 일 경우\n",
    "    - 산출된 score에 대한 normalization 수행\n",
    "    - 전체 결과에서 가장 높은 스코어는 표준화 과정을 통하여 스코어가 1.0 이 됨.\n",
    "- (3-2) Rank-fusion 방식이 \"Reciprocal Rank Fusion (RRF)\" 일 경우\n",
    "    - Paper: https://plg.uwaterloo.ca/~gvcormac/cormacksigir09-rrf.pdf\n",
    "    - Desc: https://medium.com/@sowmiyajaganathan/hybrid-search-with-re-ranking-ff120c8a426d\n",
    "    - **RRF의 경우 score가 아닌 ranking 정보를 활용, 때문에 score normalization이 필요 없음**\n",
    "    - ![rrf.png](../../../10_advanced_question_answering/img/rrf.png)\n",
    "\n",
    "RRF는 langchain에서 \"Ensemble Retriever\" 이름으로 api를 제공합니다. \n",
    "- https://python.langchain.com/docs/modules/data_connection/retrievers/ensemble"
   ]
  },
  {
   "cell_type": "code",
   "execution_count": null,
   "id": "5db8e470-63a9-4c3d-94c8-1d270a6da822",
   "metadata": {
    "tags": []
   },
   "outputs": [],
   "source": [
    "from utils.rag import OpenSearchHybridSearchRetriever"
   ]
  },
  {
   "cell_type": "markdown",
   "id": "d7feac2f-21a2-4756-b989-66c180bb1e79",
   "metadata": {},
   "source": [
    "- 필터 설정 예시\n",
    "- filter=[ <BR>\n",
    "    　{\"term\": {\"metadata.[**your_metadata_attribute_name**]\": \"**your first keyword**\"}}, <BR>\n",
    "    　{\"term\": {\"metadata.[**your_metadata_attribute_name**]\": \"**your second keyword**\"}},<BR>\n",
    "]"
   ]
  },
  {
   "cell_type": "code",
   "execution_count": null,
   "id": "49c7e131-294f-4ff8-9331-989709c7079c",
   "metadata": {
    "tags": []
   },
   "outputs": [],
   "source": [
    "opensearch_hybrid_retriever = OpenSearchHybridSearchRetriever(\n",
    "    # necessary\n",
    "    os_client=os_client,\n",
    "    index_name=index_name,\n",
    "    llm_emb=llm_emb,\n",
    "    llm_text=llm_text,\n",
    "\n",
    "    # option for lexical\n",
    "    minimum_should_match=0,\n",
    "    filter=[],\n",
    "\n",
    "    # option for rank fusion\n",
    "    fusion_algorithm=\"RRF\", # [\"RRF\", \"simple_weighted\"], rank fusion 방식 정의\n",
    "    ensemble_weights=[.51, .49], # [for lexical, for semantic], Lexical, Semantic search 결과에 대한 최종 반영 비율 정의\n",
    "\n",
    "    # option for async search\n",
    "    async_mode=True,\n",
    "\n",
    "    # option for output\n",
    "    k=5, # 최종 Document 수 정의\n",
    "    verbose=True,\n",
    ")"
   ]
  },
  {
   "cell_type": "markdown",
   "id": "cfb26835-ad98-41c5-9e9d-2453642e3551",
   "metadata": {},
   "source": [
    "### Retrieval example\n",
    "- default search"
   ]
  },
  {
   "cell_type": "code",
   "execution_count": null,
   "id": "9c06e89f-79de-413c-ba9c-a188ca3fe2d0",
   "metadata": {
    "tags": []
   },
   "outputs": [],
   "source": [
    "from utils.rag import show_context_used"
   ]
  },
  {
   "cell_type": "code",
   "execution_count": null,
   "id": "fe3bfee3-dac1-45b9-8795-03e36c1632a9",
   "metadata": {
    "tags": []
   },
   "outputs": [],
   "source": [
    "#query = \"중지된 경우 이체\"\n",
    "query = \"vidio max size?\""
   ]
  },
  {
   "cell_type": "code",
   "execution_count": null,
   "id": "05b13e5e-4a66-4dc8-b18c-42a6e3bd6037",
   "metadata": {
    "tags": []
   },
   "outputs": [],
   "source": [
    "%%time\n",
    "search_hybrid_result = opensearch_hybrid_retriever.get_relevant_documents(query)\n",
    "\n",
    "print(\"\\n==========  Results  ==========\\n\")\n",
    "print(f'1. question: {query}')\n",
    "print (f'2. # documents: {len(search_hybrid_result)}')\n",
    "print(\"3. Documents: \\n\")\n",
    "\n",
    "show_context_used(search_hybrid_result)"
   ]
  },
  {
   "cell_type": "markdown",
   "id": "c09221b5-4a6c-463b-9769-35cc8362e33c",
   "metadata": {},
   "source": [
    "- update parameters"
   ]
  },
  {
   "cell_type": "code",
   "execution_count": null,
   "id": "b7bb4672-d2b8-4b29-b71c-b06d84bcd470",
   "metadata": {
    "tags": []
   },
   "outputs": [],
   "source": [
    "opensearch_hybrid_retriever.update_search_params(\n",
    "    k=10,\n",
    "    minimum_should_match=0,\n",
    "    filter=[],\n",
    "    #filter=[\n",
    "    #    {\"term\": {\"metadata.seq_num\": \"64\"}},\n",
    "    #],\n",
    "    async_mode=True\n",
    ")"
   ]
  },
  {
   "cell_type": "code",
   "execution_count": null,
   "id": "1b9b45b1-cb92-4954-8087-143a550350c8",
   "metadata": {
    "tags": []
   },
   "outputs": [],
   "source": [
    "#query = \"중지된 경우 이체\"\n",
    "query = \"vidio max size?\"\n",
    "search_hybrid_result = opensearch_hybrid_retriever.get_relevant_documents(query)\n",
    "\n",
    "print(\"\\n==========  Results  ==========\\n\")\n",
    "print(f'1. question: {query}')\n",
    "print(f'2. # documents: {len(search_hybrid_result)}')\n",
    "print(\"3. Documents: \\n\")\n",
    "\n",
    "show_context_used(search_hybrid_result)"
   ]
  },
  {
   "cell_type": "markdown",
   "id": "a981abe7-5208-48f5-a9cc-8c557e9941ca",
   "metadata": {},
   "source": [
    "## 5. RAG using RetrievalQA powered by LangChain"
   ]
  },
  {
   "cell_type": "code",
   "execution_count": null,
   "id": "08cf6d2b-451b-499c-aec2-bb6f5abafbb0",
   "metadata": {
    "tags": []
   },
   "outputs": [],
   "source": [
    "from utils.rag import prompt_repo\n",
    "from langchain.prompts import PromptTemplate"
   ]
  },
  {
   "cell_type": "markdown",
   "id": "b490df1f-8113-4dd1-a578-a3e1a6918fde",
   "metadata": {
    "tags": []
   },
   "source": [
    "### Prompting\n",
    "- [TIP] Prompt의 instruction의 경우 한글보다 영어로 했을 때 더 좋은 결과를 얻을 수 있습니다."
   ]
  },
  {
   "cell_type": "code",
   "execution_count": null,
   "id": "920a65f0-0110-421b-b03c-a1f3a967cf49",
   "metadata": {
    "tags": []
   },
   "outputs": [],
   "source": [
    "PROMPT = prompt_repo.get_qa(prompt_type=\"answer_only\") # [\"answer_only\", \"answer_with_ref\"]\n",
    "pprint (PROMPT.template)"
   ]
  },
  {
   "cell_type": "markdown",
   "id": "c66157a6-aec8-4555-a90f-1178e6f4f6e0",
   "metadata": {},
   "source": [
    "### Update Search Params (Optional)"
   ]
  },
  {
   "cell_type": "code",
   "execution_count": null,
   "id": "64df2daf-8b42-472a-885f-97320ee98132",
   "metadata": {
    "tags": []
   },
   "outputs": [],
   "source": [
    "from langchain.chains import RetrievalQA"
   ]
  },
  {
   "cell_type": "code",
   "execution_count": null,
   "id": "d2697230-6962-43d8-8917-ba9daa4295bb",
   "metadata": {
    "tags": []
   },
   "outputs": [],
   "source": [
    "opensearch_hybrid_retriever.update_search_params(\n",
    "    k=5,\n",
    "    minimum_should_match=3,\n",
    "    #filter=[\n",
    "    #    {\"term\": {\"metadata.project\": \"KS\"}},\n",
    "    #],\n",
    "    filter=[],\n",
    "    async_mode=True\n",
    ")"
   ]
  },
  {
   "cell_type": "markdown",
   "id": "aee26c22-b674-4f4f-a87b-29508e336fda",
   "metadata": {},
   "source": [
    "### Request"
   ]
  },
  {
   "cell_type": "code",
   "execution_count": null,
   "id": "95fa61d3-9256-432a-96a3-2c696c97ea68",
   "metadata": {
    "tags": []
   },
   "outputs": [],
   "source": [
    "qa = RetrievalQA.from_chain_type(\n",
    "    llm=llm_text,\n",
    "    chain_type=\"stuff\",\n",
    "    retriever=opensearch_hybrid_retriever,\n",
    "    return_source_documents=True,\n",
    "    chain_type_kwargs={\n",
    "        \"prompt\": PROMPT,\n",
    "        \"verbose\": False,\n",
    "    },\n",
    "    verbose=False\n",
    ")"
   ]
  },
  {
   "cell_type": "code",
   "execution_count": null,
   "id": "390ad324-40b3-4bcb-92b9-50eb080492a5",
   "metadata": {
    "tags": []
   },
   "outputs": [],
   "source": [
    "#query = \"중지된 경우 이체\"\n",
    "query = \"vidio max size?\"\n",
    "response = qa(query)"
   ]
  },
  {
   "cell_type": "code",
   "execution_count": null,
   "id": "01e77dad-dc19-416b-80e7-19fac3b736a5",
   "metadata": {
    "tags": []
   },
   "outputs": [],
   "source": [
    "print(\"##################################\")\n",
    "print(\"query: \", query)\n",
    "print(\"##################################\")\n",
    "\n",
    "print (colored(\"\\n\\n### Answer ###\", \"blue\"))\n",
    "print_ww(response['result'])\n",
    "\n",
    "print (colored(\"\\n\\n### Contexts ###\", \"green\"))\n",
    "show_context_used(response['source_documents'])"
   ]
  }
 ],
 "metadata": {
  "kernelspec": {
   "display_name": "conda_python3",
   "language": "python",
   "name": "conda_python3"
  },
  "language_info": {
   "codemirror_mode": {
    "name": "ipython",
    "version": 3
   },
   "file_extension": ".py",
   "mimetype": "text/x-python",
   "name": "python",
   "nbconvert_exporter": "python",
   "pygments_lexer": "ipython3",
   "version": "3.10.13"
  }
 },
 "nbformat": 4,
 "nbformat_minor": 5
}
