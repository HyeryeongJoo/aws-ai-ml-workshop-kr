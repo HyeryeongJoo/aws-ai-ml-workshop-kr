{
 "cells": [
  {
   "cell_type": "raw",
   "id": "83b04d5c-f317-46ab-a1a6-d3b2b9577c89",
   "metadata": {},
   "source": [
    "# RAG Based on ReRanker\n",
    "- Hybrid Search\n",
    "- ReRanker"
   ]
  },
  {
   "cell_type": "markdown",
   "id": "b1f81abc-3277-4a6b-9ef1-d4f997d67fbe",
   "metadata": {},
   "source": [
    "## Setting\n",
    " - Auto Reload\n",
    " - path for utils"
   ]
  },
  {
   "cell_type": "code",
   "execution_count": 1,
   "id": "ddde4105-b759-4d6c-8214-8e1ab485ae48",
   "metadata": {
    "tags": []
   },
   "outputs": [],
   "source": [
    "%load_ext autoreload\n",
    "%autoreload 2"
   ]
  },
  {
   "cell_type": "code",
   "execution_count": 2,
   "id": "57c2cdb1-d785-4317-afce-938f13141085",
   "metadata": {
    "tags": []
   },
   "outputs": [],
   "source": [
    "import sys, os\n",
    "module_path = \"../../..\"\n",
    "sys.path.append(os.path.abspath(module_path))"
   ]
  },
  {
   "cell_type": "markdown",
   "id": "9c4ade56-8dbc-4ded-b355-7e4bcc971e90",
   "metadata": {},
   "source": [
    "## 1. Bedrock Client 생성"
   ]
  },
  {
   "cell_type": "code",
   "execution_count": 3,
   "id": "cc2d877f-e877-48f6-8dd4-239de20e45cd",
   "metadata": {
    "tags": []
   },
   "outputs": [],
   "source": [
    "import json\n",
    "import boto3\n",
    "from pprint import pprint\n",
    "from termcolor import colored\n",
    "from utils import bedrock, print_ww\n",
    "from utils.bedrock import bedrock_info"
   ]
  },
  {
   "cell_type": "markdown",
   "id": "088e6490-c79a-49e4-841c-9fdb91292608",
   "metadata": {},
   "source": [
    "### ---- ⚠️ Un-comment and edit the below lines as needed for your AWS setup ⚠️ ----\n",
    "- os.environ[\"AWS_DEFAULT_REGION\"] = \"<REGION_NAME>\"  # E.g. \"us-east-1\"\n",
    "- os.environ[\"AWS_PROFILE\"] = \"<YOUR_PROFILE>\"\n",
    "- os.environ[\"BEDROCK_ASSUME_ROLE\"] = \"<YOUR_ROLE_ARN>\"  # E.g. \"arn:aws:...\"\n",
    "- os.environ[\"BEDROCK_ENDPOINT_URL\"] = \"<YOUR_ENDPOINT_URL>\"  # E.g. \"https://...\""
   ]
  },
  {
   "cell_type": "code",
   "execution_count": 4,
   "id": "cab9312c-5f61-4730-96c3-5eef54a5f08c",
   "metadata": {
    "tags": []
   },
   "outputs": [
    {
     "name": "stdout",
     "output_type": "stream",
     "text": [
      "Create new client\n",
      "  Using region: None\n",
      "  Using profile: None\n",
      "boto3 Bedrock client successfully created!\n",
      "bedrock-runtime(https://bedrock-runtime.us-west-2.amazonaws.com)\n",
      "\u001b[32m\n",
      "== FM lists ==\u001b[0m\n",
      "{'Claude-Instant-V1': 'anthropic.claude-instant-v1',\n",
      " 'Claude-V1': 'anthropic.claude-v1',\n",
      " 'Claude-V2': 'anthropic.claude-v2',\n",
      " 'Claude-V2-1': 'anthropic.claude-v2:1',\n",
      " 'Claude-V3-Sonnet': 'anthropic.claude-3-sonnet-20240229-v1:0',\n",
      " 'Cohere-Embeddings-En': 'cohere.embed-english-v3',\n",
      " 'Cohere-Embeddings-Multilingual': 'cohere.embed-multilingual-v3',\n",
      " 'Command': 'cohere.command-text-v14',\n",
      " 'Command-Light': 'cohere.command-light-text-v14',\n",
      " 'Jurassic-2-Mid': 'ai21.j2-mid-v1',\n",
      " 'Jurassic-2-Ultra': 'ai21.j2-ultra-v1',\n",
      " 'Llama2-13b-Chat': 'meta.llama2-13b-chat-v1',\n",
      " 'Titan-Embeddings-G1': 'amazon.titan-embed-text-v1',\n",
      " 'Titan-Text-G1': 'amazon.titan-text-express-v1',\n",
      " 'Titan-Text-G1-Light': 'amazon.titan-text-lite-v1'}\n"
     ]
    }
   ],
   "source": [
    "boto3_bedrock = bedrock.get_bedrock_client(\n",
    "    assumed_role=os.environ.get(\"BEDROCK_ASSUME_ROLE\", None),\n",
    "    endpoint_url=os.environ.get(\"BEDROCK_ENDPOINT_URL\", None),\n",
    "    region=os.environ.get(\"AWS_DEFAULT_REGION\", None),\n",
    ")\n",
    "\n",
    "aws_region = os.environ.get(\"AWS_DEFAULT_REGION\", None)\n",
    "print (colored(\"\\n== FM lists ==\", \"green\"))\n",
    "pprint (bedrock_info.get_list_fm_models())"
   ]
  },
  {
   "cell_type": "markdown",
   "id": "241a9e34-417a-422f-9f75-cb211b2e70e1",
   "metadata": {
    "tags": []
   },
   "source": [
    "## 2. Titan Embedding 및 LLM 인 Claude-v2 모델 로딩"
   ]
  },
  {
   "cell_type": "markdown",
   "id": "29bf63d2-4110-407c-af06-a45d2fbed4b5",
   "metadata": {},
   "source": [
    "### LLM 로딩 (Claude-v2.1)"
   ]
  },
  {
   "cell_type": "code",
   "execution_count": 5,
   "id": "9c51443a-04f9-465c-9564-53053eb3e1c2",
   "metadata": {
    "tags": []
   },
   "outputs": [],
   "source": [
    "from langchain.llms.bedrock import Bedrock\n",
    "from langchain.callbacks.streaming_stdout import StreamingStdOutCallbackHandler"
   ]
  },
  {
   "cell_type": "code",
   "execution_count": 6,
   "id": "d09e84e0-b9e1-4b12-8e7a-68f03c5416e5",
   "metadata": {
    "tags": []
   },
   "outputs": [
    {
     "data": {
      "text/plain": [
       "Bedrock(client=<botocore.client.BedrockRuntime object at 0x7f16d4201870>, model_id='anthropic.claude-v2:1', model_kwargs={'max_tokens_to_sample': 512}, streaming=True, callbacks=[<langchain_core.callbacks.streaming_stdout.StreamingStdOutCallbackHandler object at 0x7f16fc38bc70>])"
      ]
     },
     "execution_count": 6,
     "metadata": {},
     "output_type": "execute_result"
    }
   ],
   "source": [
    "llm_text = Bedrock(\n",
    "    model_id=bedrock_info.get_model_id(model_name=\"Claude-V2-1\"),\n",
    "    client=boto3_bedrock,\n",
    "    model_kwargs={\n",
    "        \"max_tokens_to_sample\": 512\n",
    "    },\n",
    "    streaming=True,\n",
    "    callbacks=[StreamingStdOutCallbackHandler()]\n",
    ")\n",
    "\n",
    "llm_text"
   ]
  },
  {
   "cell_type": "markdown",
   "id": "3ba2e829-af8f-4e90-b994-59106cdec8d8",
   "metadata": {},
   "source": [
    "### Embedding 모델 선택"
   ]
  },
  {
   "cell_type": "code",
   "execution_count": 7,
   "id": "0b7b8752-d1e3-4f41-ba35-6da42c3785db",
   "metadata": {
    "tags": []
   },
   "outputs": [
    {
     "name": "stderr",
     "output_type": "stream",
     "text": [
      "/home/ec2-user/anaconda3/envs/python3/lib/python3.10/site-packages/pandas/core/computation/expressions.py:21: UserWarning: Pandas requires version '2.8.0' or newer of 'numexpr' (version '2.7.3' currently installed).\n",
      "  from pandas.core.computation.check import NUMEXPR_INSTALLED\n"
     ]
    }
   ],
   "source": [
    "from utils.rag import KoSimCSERobertaContentHandler, SagemakerEndpointEmbeddingsJumpStart"
   ]
  },
  {
   "cell_type": "code",
   "execution_count": 8,
   "id": "793b03f7-3186-4969-b76a-98fe56bd5fdc",
   "metadata": {
    "tags": []
   },
   "outputs": [],
   "source": [
    "def get_embedding_model(is_bedrock_embeddings, is_KoSimCSERobert, aws_region, endpont_name=None):\n",
    "    \n",
    "    if is_bedrock_embeddings:\n",
    "        # We will be using the Titan Embeddings Model to generate our Embeddings.\n",
    "        from langchain.embeddings import BedrockEmbeddings\n",
    "        llm_emb = BedrockEmbeddings(\n",
    "            client=boto3_bedrock,\n",
    "            model_id=bedrock_info.get_model_id(\n",
    "                model_name=\"Titan-Embeddings-G1\"\n",
    "            )\n",
    "        )\n",
    "        print(\"Bedrock Embeddings Model Loaded\")\n",
    "\n",
    "    elif is_KoSimCSERobert:\n",
    "        LLMEmbHandler = KoSimCSERobertaContentHandler()\n",
    "        endpoint_name_emb = endpont_name\n",
    "        llm_emb = SagemakerEndpointEmbeddingsJumpStart(\n",
    "            endpoint_name=endpoint_name_emb,\n",
    "            region_name=aws_region,\n",
    "            content_handler=LLMEmbHandler,\n",
    "        )        \n",
    "        print(\"KoSimCSERobert Embeddings Model Loaded\")\n",
    "    else:\n",
    "        llm_emb = None\n",
    "        print(\"No Embedding Model Selected\")\n",
    "    \n",
    "    return llm_emb"
   ]
  },
  {
   "cell_type": "markdown",
   "id": "cd72a6b8-eaf0-4036-a530-3bde5ba988cd",
   "metadata": {},
   "source": [
    "#### [중요] is_KoSimCSERobert == True 일시에 endpoint_name 을 꼭 넣어 주세요."
   ]
  },
  {
   "cell_type": "code",
   "execution_count": 9,
   "id": "f42e032b-8715-432c-ae71-12a889f8ffc0",
   "metadata": {
    "tags": []
   },
   "outputs": [
    {
     "name": "stdout",
     "output_type": "stream",
     "text": [
      "Bedrock Embeddings Model Loaded\n"
     ]
    }
   ],
   "source": [
    "is_bedrock_embeddings = True\n",
    "is_KoSimCSERobert = False\n",
    "aws_region = os.environ.get(\"AWS_DEFAULT_REGION\", None)\n",
    "\n",
    "##############################\n",
    "# Parameters for is_KoSimCSERobert\n",
    "##############################\n",
    "if is_KoSimCSERobert: endpont_name = \"<endpoint-name>\"\n",
    "else: endpont_name = None\n",
    "##############################\n",
    "\n",
    "llm_emb = get_embedding_model(is_bedrock_embeddings, is_KoSimCSERobert, aws_region, endpont_name)   "
   ]
  },
  {
   "cell_type": "markdown",
   "id": "e10b67d5-382e-4715-a841-eb07b8655da8",
   "metadata": {},
   "source": [
    "## 3. Depoly ReRanker model (if needed)"
   ]
  },
  {
   "cell_type": "code",
   "execution_count": 10,
   "id": "9a08a296-41ef-44cb-857b-63d05a8d187c",
   "metadata": {
    "tags": []
   },
   "outputs": [
    {
     "name": "stdout",
     "output_type": "stream",
     "text": [
      "sagemaker.config INFO - Not applying SDK defaults from location: /etc/xdg/sagemaker/config.yaml\n",
      "sagemaker.config INFO - Not applying SDK defaults from location: /home/ec2-user/.config/sagemaker/config.yaml\n"
     ]
    }
   ],
   "source": [
    "import json\n",
    "import sagemaker\n",
    "from sagemaker.huggingface import HuggingFaceModel"
   ]
  },
  {
   "cell_type": "code",
   "execution_count": null,
   "id": "33dd04a7-8200-49e7-ae69-55a82be199b4",
   "metadata": {
    "tags": []
   },
   "outputs": [],
   "source": [
    "depoly = True"
   ]
  },
  {
   "cell_type": "markdown",
   "id": "ecbfd5d7-0fc0-4b00-8106-1e239e44f7c7",
   "metadata": {
    "tags": []
   },
   "source": [
    "* Korean fune-tuned model\n",
    "    - hugging face: https://huggingface.co/Dongjin-kr/ko-reranker\n",
    "    - git repo: https://github.com/aws-samples/aws-ai-ml-workshop-kr/tree/master/genai/aws-gen-ai-kr/30_fine_tune/reranker-kr"
   ]
  },
  {
   "cell_type": "code",
   "execution_count": null,
   "id": "9d40e3dd-a19f-4af3-831a-0cfe79e72cb3",
   "metadata": {
    "tags": []
   },
   "outputs": [],
   "source": [
    "if depoly:\n",
    "\n",
    "    try:\n",
    "        role = sagemaker.get_execution_role()\n",
    "    except ValueError:\n",
    "        iam = boto3.client('iam')\n",
    "        role = iam.get_role(RoleName='sagemaker_execution_role')['Role']['Arn']\n",
    "\n",
    "    # Hub Model configuration. https://huggingface.co/models\n",
    "    hub = {\n",
    "        'HF_MODEL_ID':'Dongjin-kr/ko-reranker',\n",
    "        'HF_TASK':'text-classification'\n",
    "    }\n",
    "\n",
    "    # create Hugging Face Model Class\n",
    "    huggingface_model = HuggingFaceModel(\n",
    "        transformers_version='4.28.1',\n",
    "        pytorch_version='2.0.0',\n",
    "        py_version='py310',\n",
    "        env=hub,\n",
    "        role=role, \n",
    "    )\n",
    "\n",
    "    # deploy model to SageMaker Inference\n",
    "    predictor = huggingface_model.deploy(\n",
    "        initial_instance_count=1, # number of instances\n",
    "        instance_type='ml.g5.xlarge' # instance type\n",
    "    )\n",
    "\n",
    "    print(f'Accept: {predictor.accept}')\n",
    "    print(f'ContentType: {predictor.content_type}')\n",
    "    print(f'Endpoint: {predictor.endpoint}')"
   ]
  },
  {
   "cell_type": "markdown",
   "id": "122a9f20-f531-49cc-8947-50a2973b49d2",
   "metadata": {},
   "source": [
    "#### Save reranker endpoint to Parameter Store"
   ]
  },
  {
   "cell_type": "code",
   "execution_count": 11,
   "id": "1070c5d9-b202-4b8c-a1ee-cb7fea9f87c3",
   "metadata": {
    "tags": []
   },
   "outputs": [],
   "source": [
    "import boto3\n",
    "from utils.ssm import parameter_store"
   ]
  },
  {
   "cell_type": "code",
   "execution_count": 12,
   "id": "982cf902-d408-48c9-883b-0c7dd9a827bf",
   "metadata": {
    "tags": []
   },
   "outputs": [],
   "source": [
    "region=boto3.Session().region_name\n",
    "pm = parameter_store(region)"
   ]
  },
  {
   "cell_type": "code",
   "execution_count": null,
   "id": "5948269e-28ea-480c-a718-9cb2f53e71fa",
   "metadata": {
    "tags": []
   },
   "outputs": [],
   "source": [
    "pm.put_params(\n",
    "    key=\"reranker_endpoint\",\n",
    "    value=f'{predictor.endpoint}',\n",
    "    overwrite=True,\n",
    "    enc=False\n",
    ")"
   ]
  },
  {
   "cell_type": "markdown",
   "id": "20e648ef-01ec-4e2f-ba88-7d2510fdb7a6",
   "metadata": {},
   "source": [
    "## 4. Invocation (prediction)"
   ]
  },
  {
   "cell_type": "code",
   "execution_count": 13,
   "id": "114be617-a687-4733-abb9-30394c7ef35f",
   "metadata": {
    "tags": []
   },
   "outputs": [
    {
     "name": "stdout",
     "output_type": "stream",
     "text": [
      "runtime_client: <botocore.client.SageMakerRuntime object at 0x7f164ab6c580>\n"
     ]
    }
   ],
   "source": [
    "runtime_client = boto3.Session().client('sagemaker-runtime')\n",
    "print (f'runtime_client: {runtime_client}')"
   ]
  },
  {
   "cell_type": "code",
   "execution_count": 14,
   "id": "26ee5c45-de87-4a2b-bc04-bbc649fcd0c6",
   "metadata": {
    "tags": []
   },
   "outputs": [],
   "source": [
    "endpoint_name = pm.get_params(\n",
    "    key=\"reranker_endpoint\",\n",
    "    enc=False\n",
    ")\n",
    "deserializer = \"application/json\""
   ]
  },
  {
   "cell_type": "code",
   "execution_count": 15,
   "id": "bd6288ed-b4fa-466f-9e2b-57484b827b0a",
   "metadata": {
    "tags": []
   },
   "outputs": [],
   "source": [
    "payload = json.dumps(\n",
    "    {\n",
    "        \"inputs\": [\n",
    "            {\"text\": \"I hate you\", \"text_pair\": \"I don't like you\"},\n",
    "            {\"text\": \"He hates you\", \"text_pair\": \"He like you\"},\n",
    "            {\"text\": \"그는 너를 싫어해\", \"text_pair\": \"그는 너를 좋아해\"}\n",
    "        ]\n",
    "    }\n",
    ")"
   ]
  },
  {
   "cell_type": "code",
   "execution_count": 16,
   "id": "c1eebe88-8b92-4e81-a103-b5a5d7a91bb3",
   "metadata": {
    "tags": []
   },
   "outputs": [
    {
     "name": "stdout",
     "output_type": "stream",
     "text": [
      "Response: [{'label': 'LABEL_0', 'score': 0.9987371563911438}, {'label': 'LABEL_0', 'score': 0.0028581616934388876}, {'label': 'LABEL_0', 'score': 0.004707992542535067}]\n",
      "CPU times: user 19.1 ms, sys: 452 µs, total: 19.6 ms\n",
      "Wall time: 109 ms\n"
     ]
    }
   ],
   "source": [
    "%%time\n",
    "response = runtime_client.invoke_endpoint(\n",
    "    EndpointName=endpoint_name,\n",
    "    ContentType=\"application/json\",\n",
    "    Accept=deserializer,\n",
    "    Body=payload\n",
    ")\n",
    "## deserialization\n",
    "out = json.loads(response['Body'].read().decode()) ## for json\n",
    "print (f'Response: {out}')"
   ]
  },
  {
   "cell_type": "markdown",
   "id": "7e432237-b9b5-4be3-aa0c-c30eeca6f480",
   "metadata": {},
   "source": [
    "## 5. LangChainmOpenSearch VectorStore 정의\n",
    "### 선수 조건\n",
    "- 01_preprocess_docs/02_load_docs_opensearch.ipynb를 통해서 OpenSearch Index 가 생성이 되어 있어야 합니다.\n",
    "#### [중요] 아래에 aws parameter store 에 아래 인증정보가 먼저 입력되어 있어야 합니다.\n",
    "- 01_preprocess_docs/01_parameter_store_example.ipynb 참고"
   ]
  },
  {
   "cell_type": "code",
   "execution_count": 17,
   "id": "42d192b6-68ce-465e-9fa7-04b5201f4453",
   "metadata": {
    "tags": []
   },
   "outputs": [],
   "source": [
    "opensearch_domain_endpoint = pm.get_params(\n",
    "    key=\"opensearch_domain_endpoint\",\n",
    "    enc=False\n",
    ")\n",
    "\n",
    "opensearch_user_id = pm.get_params(\n",
    "    key=\"opensearch_user_id\",\n",
    "    enc=False\n",
    ")\n",
    "\n",
    "opensearch_user_password = pm.get_params(\n",
    "    key=\"opensearch_user_password\",\n",
    "    enc=True\n",
    ")"
   ]
  },
  {
   "cell_type": "code",
   "execution_count": 18,
   "id": "fc7866fd-fd9c-4b41-b600-a91e43edfe4d",
   "metadata": {
    "tags": []
   },
   "outputs": [],
   "source": [
    "opensearch_domain_endpoint = opensearch_domain_endpoint\n",
    "rag_user_name = opensearch_user_id\n",
    "rag_user_password = opensearch_user_password\n",
    "\n",
    "http_auth = (rag_user_name, rag_user_password) # Master username, Master password"
   ]
  },
  {
   "cell_type": "markdown",
   "id": "161a900e-effc-4d7f-a179-b6c00eac03ad",
   "metadata": {
    "tags": []
   },
   "source": [
    "### Index 이름 셋팅\n",
    "- 이전 노트북 01_preprocess_docs/02_load_docs_opensearch.ipynb를 통해서 생성된 OpenSearch Index name 입력"
   ]
  },
  {
   "cell_type": "code",
   "execution_count": 19,
   "id": "d5d9b5eb-052e-4e84-846b-c5385e853ba4",
   "metadata": {
    "tags": []
   },
   "outputs": [
    {
     "name": "stdout",
     "output_type": "stream",
     "text": [
      "index_name: v01-genai-poc-parent-doc-retriever\n"
     ]
    }
   ],
   "source": [
    "index_name = opensearch_user_password = pm.get_params(\n",
    "    key=\"opensearch_index_name\",\n",
    "    enc=True\n",
    ")\n",
    "\n",
    "print (f'index_name: {index_name}')"
   ]
  },
  {
   "cell_type": "markdown",
   "id": "482f5785-b88d-44fa-a603-080e4bd734a6",
   "metadata": {},
   "source": [
    "### OpenSearch Client 생성"
   ]
  },
  {
   "cell_type": "code",
   "execution_count": 20,
   "id": "968b7502-5799-4702-bc17-959e88c330a2",
   "metadata": {
    "tags": []
   },
   "outputs": [],
   "source": [
    "from utils.opensearch import opensearch_utils"
   ]
  },
  {
   "cell_type": "code",
   "execution_count": 21,
   "id": "6ceb46a1-e425-4f7e-9319-793b55abb938",
   "metadata": {
    "tags": []
   },
   "outputs": [],
   "source": [
    "os_client = opensearch_utils.create_aws_opensearch_client(\n",
    "    aws_region,\n",
    "    opensearch_domain_endpoint,\n",
    "    http_auth\n",
    ")"
   ]
  },
  {
   "cell_type": "markdown",
   "id": "a5084376-7523-4cf9-9123-adc4ae79f66d",
   "metadata": {
    "tags": []
   },
   "source": [
    "## 6. Retriever based on Hybrid Search 정의\n",
    "- LangChain에서 제공하는 **BaseRetriever** 클래스를 상속받아 **Custom Retriever**를 정의 할 수 있습니다.\n",
    "- 본 샘플코드 에서는 **Hybrid Search based Retriever**를 **정의**합니다. "
   ]
  },
  {
   "cell_type": "markdown",
   "id": "b0a25df0-2a13-4d73-9edc-532caf98f804",
   "metadata": {},
   "source": [
    "OpenSearch Hybrid 는 아래와 같은 방식으로 작동합니다.\n",
    "- (1) Sematic serch를 통해 각 document별 relevant score 산출\n",
    "- (2) Lexical search를 통해 각 document별 relevant score 산출\n",
    "- (3-1) Rank-fusion 방식이 \"simple weighted\" 일 경우\n",
    "    - 산출된 score에 대한 normalization 수행\n",
    "    - 전체 결과에서 가장 높은 스코어는 표준화 과정을 통하여 스코어가 1.0 이 됨.\n",
    "- (3-2) Rank-fusion 방식이 \"Reciprocal Rank Fusion (RRF)\" 일 경우\n",
    "    - Paper: https://plg.uwaterloo.ca/~gvcormac/cormacksigir09-rrf.pdf\n",
    "    - Desc: https://medium.com/@sowmiyajaganathan/hybrid-search-with-re-ranking-ff120c8a426d\n",
    "    - **RRF의 경우 score가 아닌 ranking 정보를 활용, 때문에 score normalization이 필요 없음**\n",
    "    - ![rrf.png](../../../10_advanced_question_answering/img/rrf.png)\n",
    "\n",
    "RRF는 langchain에서 \"Ensemble Retriever\" 이름으로 api를 제공합니다. \n",
    "- https://python.langchain.com/docs/modules/data_connection/retrievers/ensemble"
   ]
  },
  {
   "cell_type": "code",
   "execution_count": 22,
   "id": "5db8e470-63a9-4c3d-94c8-1d270a6da822",
   "metadata": {
    "tags": []
   },
   "outputs": [],
   "source": [
    "from utils.rag import OpenSearchHybridSearchRetriever"
   ]
  },
  {
   "cell_type": "markdown",
   "id": "d7feac2f-21a2-4756-b989-66c180bb1e79",
   "metadata": {},
   "source": [
    "- 필터 설정 예시\n",
    "- filter=[ <BR>\n",
    "    　{\"term\": {\"metadata.[**your_metadata_attribute_name**]\": \"**your first keyword**\"}}, <BR>\n",
    "    　{\"term\": {\"metadata.[**your_metadata_attribute_name**]\": \"**your second keyword**\"}},<BR>\n",
    "]"
   ]
  },
  {
   "cell_type": "code",
   "execution_count": 23,
   "id": "49c7e131-294f-4ff8-9331-989709c7079c",
   "metadata": {
    "tags": []
   },
   "outputs": [],
   "source": [
    "opensearch_hybrid_retriever = OpenSearchHybridSearchRetriever(\n",
    "    # necessary\n",
    "    os_client=os_client,\n",
    "    index_name=index_name,\n",
    "    llm_emb=llm_emb,\n",
    "    llm_text=llm_text,\n",
    "\n",
    "    # option for lexical\n",
    "    minimum_should_match=0,\n",
    "    filter=[],\n",
    "\n",
    "    # option for rank fusion\n",
    "    fusion_algorithm=\"RRF\", # [\"RRF\", \"simple_weighted\"], rank fusion 방식 정의\n",
    "    ensemble_weights=[.51, .49], # [for semantic, for lexical], Semantic, Lexical search 결과에 대한 최종 반영 비율 정의\n",
    "\n",
    "    reranker=True, # enable reranker with reranker model\n",
    "    reranker_endpoint_name=endpoint_name, # endpoint name for reranking model\n",
    "\n",
    "    # option for async search\n",
    "    async_mode=True,\n",
    "\n",
    "    # option for output\n",
    "    k=5, # 최종 Document 수 정의\n",
    "    verbose=True,\n",
    ")"
   ]
  },
  {
   "cell_type": "markdown",
   "id": "cfb26835-ad98-41c5-9e9d-2453642e3551",
   "metadata": {},
   "source": [
    "### Retrieval example\n",
    "- default search"
   ]
  },
  {
   "cell_type": "code",
   "execution_count": 24,
   "id": "9c06e89f-79de-413c-ba9c-a188ca3fe2d0",
   "metadata": {
    "tags": []
   },
   "outputs": [],
   "source": [
    "from utils.rag import show_context_used"
   ]
  },
  {
   "cell_type": "code",
   "execution_count": 25,
   "id": "fe3bfee3-dac1-45b9-8795-03e36c1632a9",
   "metadata": {
    "tags": []
   },
   "outputs": [],
   "source": [
    "#query = \"중지된 경우 이체\"\n",
    "query = \"vidio max size?\""
   ]
  },
  {
   "cell_type": "code",
   "execution_count": 26,
   "id": "05b13e5e-4a66-4dc8-b18c-42a6e3bd6037",
   "metadata": {
    "tags": []
   },
   "outputs": [
    {
     "name": "stdout",
     "output_type": "stream",
     "text": [
      "##############################\n",
      "async_mode\n",
      "##############################\n",
      "True\n",
      "##############################\n",
      "reranker\n",
      "##############################\n",
      "True\n",
      "##############################\n",
      "rag_fusion\n",
      "##############################\n",
      "False\n",
      "##############################\n",
      "HyDE\n",
      "##############################\n",
      "False\n",
      "##############################\n",
      "parent_document\n",
      "##############################\n",
      "False\n",
      "##############################\n",
      "similar_docs_semantic\n",
      "##############################\n",
      "\n",
      "Score: 1.0\n",
      "['. Rectangular viewfinder width Set the width of the rectangular viewfinder, specified in screen width percentage. Only active if View finder selection is set to Rectangular. Available values are 0% to 100%. Default value is 90%. Rectangular viewfinder height Set the height of the rectangular viewfinder specified in screen height percentage. Only active if View finder selection is set to Rectangular. Available values are 0% to 100%. Default value is 40%.']\n",
      "{'source': 'all_processed_data.json', 'seq_num': 566, 'title': 'Configure scan engine settings', 'url': 'https://docs.samsungknox.com/admin/knox-capture/how-to-guides/configure-scan-engine-settings', 'project': 'KCAP', 'last_updated': '2023-10-16', 'family_tree': 'child', 'parent_id': '66bb973b-a366-4b7e-89c1-c1fb531dc19c', 'id': '2cc90b44-cdfa-4c0a-8c40-9161095f475e'}\n",
      "\n",
      "Score: 0.9802129398819749\n",
      "['. Values Always use native resolution (default) Use custom resolution &mdash; Applies the values specified by the External display width, External display height, External display scale, and Internal display scale sub-policies. If the custom resolution entered is not supported, the display will revert to its native resolution. Chrome OS 99 and higher &gt; External display width (in pixels) Specifies the width of the external display. This policy only applies if the External resolution policy is set to Use custom resolution. Values Enter the display width, in pixels. If this value is unset or not supported, the display reverts to its native resolution. Chrome OS 99 and higher &gt; External display height (in pixels) Specifies the height of the external display. This policy only applies if the External resolution policy is set to Use custom resolution. Values Enter the display height, in pixels. If this value is unset or not supported, the display reverts to its native resolution']\n",
      "{'source': 'all_processed_data.json', 'seq_num': 896, 'title': 'Chrome OS policies', 'url': 'https://docs.samsungknox.com/admin/knox-manage/configure/profile/configure-profile-policies/chrome-os-policies', 'project': 'KM', 'last_updated': '2023-07-26', 'family_tree': 'child', 'parent_id': '895dc3de-830f-4d04-8408-2d4baa0737ad', 'id': '1cb5d53a-12cc-4d2f-a16d-4d370d11f925'}\n",
      "\n",
      "Score: 0.9799836479124122\n",
      "['. You can add up to 10 image files in the PNG, JPG, JPEG, or GIF format (animated files are not supported). Each image file must be less than 5 MB. To upload an image file, click Add and select a file. To delete an image file, click next to the name of the uploaded image file. Note The device control command must be transferred to the device to apply an image file to it. &gt;&gt;&gt; Video Select a video file for the screen saver. You can add only one video file in the MP4 or MKV format. The video file must be less than 50 MB. To upload a video file, click Add and select a file. To delete a video file, click next to the name of the uploaded video file. Note The device control command must be transferred to the device to apply a video to it. &gt; Session timeout Allows the use of the session timeout feature for the Kiosk Browser']\n",
      "{'source': 'all_processed_data.json', 'seq_num': 893, 'title': 'Android Enterprise policies', 'url': 'https://docs.samsungknox.com/admin/knox-manage/configure/profile/configure-profile-policies/android-enterprise-policies', 'project': 'KM', 'last_updated': '2023-09-06', 'family_tree': 'child', 'parent_id': 'a8c17c68-f501-40dd-847e-9bcd875ea03a', 'id': '7b4673c6-2986-4b47-9881-6391722ca68d'}\n",
      "\n",
      "Score: 0.979457590531508\n",
      "['. 7. The device now launches DeX automatically when it is plugged in to an HDMI cable. 8. Once the device is connected to DeX, a Display resolution screen displays. Select a single resolution value for the connected display. Unselected display options will be greyed out and unavailable. Keep in mind, changing the resolution makes displayed windows, text and other items appear small or larger. Options include, WQHD (2560 x 1440), FHD (1920 x 1080) _recommended setting_, HD+ (1600 x 900), WQXGA (2560 x 1600), WUXGA (1920 x 1200), or UWQHD (3440 x 1440). Select Done to commit the selected display setting. If the display resolution provided is not supported, then FHD (1920 x 1080) is selected by default and non-supported resolutions are greyed out in the DeX Display resolution screen. Industry example This example configures a tablet in DeX mode, so a bank employee can use it to help customers with day to day operations. For example opening a new account or checking account balances']\n",
      "{'source': 'all_processed_data.json', 'seq_num': 1225, 'title': 'DeX', 'url': 'https://docs.samsungknox.com/admin/knox-platform-for-enterprise/knox-service-plugin/configure-advanced-policies/dex', 'project': 'KSP', 'last_updated': '2023-07-26', 'family_tree': 'child', 'parent_id': 'ebfb07d3-7991-42b1-a6de-efccedb9d358', 'id': '77a658b4-314e-4239-bb10-13eccf76ab2b'}\n",
      "\n",
      "Score: 0.9782048532512303\n",
      "[\". Knox Platform for Enterprise Premium &gt; Ratio Specifies the scale of the text size on Knox Browser. Only available if the Knox Browser App and Text Scaling policies are set to Use. Values To set the scale, adjust the slider. The slider has a range of 50&ndash;200% and moves in 5% increments. Knox Platform for Enterprise Premium Force Enable Zoom Forces changing the zoom level of web pages on Knox Browser. Only available if the Knox Browser App policy is set to Use. Values Use &mdash; Adjusts the zoom level to the scale set by the Force Enable Zoom &gt; Ratio policy. Do not use &mdash; The zoom level defaults to 100%, and the user can't change it. Knox Platform for Enterprise Premium &gt; Ratio Specifies the zoom level of web pages on Knox Browser. Only available if the Knox Browser App and Text Scaling policies are set to Use. Values To set the scale, adjust the slider. The slider has a range of 100&ndash;200% and moves in 10% increments\"]\n",
      "{'source': 'all_processed_data.json', 'seq_num': 893, 'title': 'Android Enterprise policies', 'url': 'https://docs.samsungknox.com/admin/knox-manage/configure/profile/configure-profile-policies/android-enterprise-policies', 'project': 'KM', 'last_updated': '2023-09-06', 'family_tree': 'child', 'parent_id': 'caa73ec8-0840-4383-a91d-cc6d50bb1205', 'id': '9b1dcbbc-f4e8-4e33-acb3-f5ded8804a34'}\n",
      "\n",
      "Score: 0.975223039420018\n",
      "['. This policy only applies if the External resolution policy is set to Use custom resolution. Values Enter the display height, in pixels. If this value is unset or not supported, the display reverts to its native resolution. Chrome OS 99 and higher &gt; External display scale (percentage) Specifies the scale of the external display. This policy only applies if the External resolution policy is set to Use custom resolution Values Choose a display scale: Not set 50% 55% 60% 65% 70% 75% 80% 85% 90% 95% 100% 105% 110% 115% 120% 125% 130% 135% 140% 145% 150% Chrome OS 99 and higher &gt; Internal display scale (percentage) Specifies the scale of the internal display']\n",
      "{'source': 'all_processed_data.json', 'seq_num': 896, 'title': 'Chrome OS policies', 'url': 'https://docs.samsungknox.com/admin/knox-manage/configure/profile/configure-profile-policies/chrome-os-policies', 'project': 'KM', 'last_updated': '2023-07-26', 'family_tree': 'child', 'parent_id': '895dc3de-830f-4d04-8408-2d4baa0737ad', 'id': '4bfdf686-a0f9-4846-b50c-e0f730bed578'}\n",
      "\n",
      "Score: 0.9684978575869678\n",
      "['. To upload a video file, click Add and select a file. To delete a video file, click next to the name of the uploaded video file. Note The device control command must be transferred to the device to apply a video to it. &gt; Session timeout Allows the use of the session timeout feature for the Kiosk Browser. If the user does not use the device for a set time, the device deletes user information, such as the cache and cookies, in the device Kiosk Browser and goes to the main page URL. Apply &mdash; Enable the session timeout feature for the browser. &gt;&gt; Time (sec) Set the session timeout in seconds for the Kiosk Browser. The value must be between 10, 3600 seconds. The default value is 1800 seconds. &gt; Text Copy Allows the copying of text strings in the Kiosk Browser. &gt; Javascript Allows the running of the JavaScript contained in websites. &gt; Http Proxy Allows the use of an HTTP proxy for communications in the Kiosk Browser']\n",
      "{'source': 'all_processed_data.json', 'seq_num': 894, 'title': 'Android Legacy policies', 'url': 'https://docs.samsungknox.com/admin/knox-manage/configure/profile/configure-profile-policies/android-legacy-policies', 'project': 'KM', 'last_updated': '2023-07-26', 'family_tree': 'child', 'parent_id': '4ff12653-aad8-40f5-908f-ca70707be4f2', 'id': '325b9222-c307-45ba-babe-e4fc56db4c94'}\n",
      "None\n",
      "##############################\n",
      "similar_docs_keyword\n",
      "##############################\n",
      "\n",
      "Score: 1.0\n",
      "[\". Invalid APK version name. Invalid APK version name. Please change the version name and try uploading again. 4090001 File too large. Max 4000 devices allowed per upload. Try splitting the device upload list to reduce the size of .csv you are uploading. Note that there is a max of 4000 devices allowed per upload. 4150000 File type is not supported. The file you are trying to upload is not supported. Knox Configure only accepts .csv files. App name cannot contain special characters. Rename the app so it does not contain any special or forbidden characters. App version is invalid. An app you are trying to upload is invalid. Verify that the version you're attempting to upload is correct. Try to re-upload the app again. CSV file is required. A system error occurred. Verify that you've attached a .csv file, try to re-attach the .csv and upload it again. If the problem persists, contact Samsung. 4040105 No CAPTCHA code entered. No CAPTCHA code was entered. Carefully enter the CAPTCHA code and submit\"]\n",
      "{'source': 'all_processed_data.json', 'seq_num': 433, 'title': 'Portal-side errors', 'url': 'https://docs.samsungknox.com/admin/knox-configure/knox-configure-wearables/troubleshoot/portal-side-errors', 'project': 'KC', 'last_updated': '2023-07-26', 'family_tree': 'child', 'parent_id': '1044085c-0477-4fd5-90b4-0a00716011b1', 'id': '80a727bf-32af-4454-af2c-775c5931f0f7'}\n",
      "\n",
      "Score: 0.9776168409712832\n",
      "['. Max TTL - The maximum amount of time, or time to live (TTL), in seconds, that a packet can exist in a network before being discarded by the router. The default value is 64, but a number from 49 to 255 can be entered. Packet size - The size of the packet to request, in bytes. The default value is 64, but a number from 4 to 1472 can be entered. If the device user sets Packet size as 10, Interval (ms) as 1000 ms, and Timeout (ms) as 500 ms, 10 pings are sent and the interval between each ping is set to 1000 ms. A successful test requires all 10 pings to be received within 500 ms each. The ping test continues even if the device user leaves the screen, but they can stop it at any time by tapping the stop button. Otherwise, the test automatically stops once the set conditions are met. A notification is also displayed in the notification bar for the duration of the test, which the user can tap to return to the test screen']\n",
      "{'source': 'all_processed_data.json', 'seq_num': 292, 'title': 'Use the agent app', 'url': 'https://docs.samsungknox.com/admin/knox-asset-intelligence/how-to-guides/use-the-agent-app', 'project': 'KAI', 'last_updated': '2023-09-06', 'family_tree': 'child', 'parent_id': 'ea3c87c4-edeb-469a-80ad-fa72ca930ba1', 'id': '40d996fe-c60e-4bdc-8beb-bdab0898d400'}\n",
      "\n",
      "Score: 0.8687346292267711\n",
      "['. Change this property to include lengths not enabled by default, or to optimize decoding performance for a certain number of symbols. Character-to-symbol mapping depends on barcode type. For example, some barcodes include additional checksum characters in their symbol counts. For more information on active symbol count, refer to Configure the Active Symbol Count. Depends on barcode type. Max. length Determines the maximum supported barcode length (active symbol count) to decode. Depends on barcode type. Inverted color recognition Enables recognition of inverted barcodes that have been printed using bright ink on a dark background. ON/OFF OFF Reduced quiet zone-size Enables scanning codes with smaller than normal quiet zones (white space before and after the code) than allowed by the barcode type specification. Use this if you experience issues when scanning codes that violate quiet zone specifications. Please note that turning on this feature may lead to false positive scans in some cases']\n",
      "{'source': 'all_processed_data.json', 'seq_num': 580, 'title': 'Scan engine settings: Scandit', 'url': 'https://docs.samsungknox.com/admin/knox-capture/knox-capture-scandit/scan-engine-settings-scandit', 'project': 'KCAP', 'last_updated': '2023-07-26', 'family_tree': 'child', 'parent_id': '11cc90ea-f675-48ca-b067-57424795bdac', 'id': '24c72118-2dda-4946-929a-0da069804466'}\n",
      "\n",
      "Score: 0.8044924250573349\n",
      "['. Enter your device information in the sample file with the default headings. Save and try uploading the CSV file again. 4000014 The CSV file is empty. Ensure the CSV file uploading is not empty. 4000414 The EULA is invalid. A system error occurred. Refresh the page and load the EULA again. If the problem persists, contact Samsung. 4002009 EULA is already agreed to. The end user has already accepted the End User License Agreement (EULA). Do not prompt users to accept the EULA again. Failed to upload file. A system error occurred. Try to upload the file again. If the problem persists, contact Samsung. An app with this name already exists. Ensure the name of the app you are uploading does not already exist in Knox Configure. Re-name the app if necessary. Invalid APK version name. Invalid APK version name. Please change the version name and try uploading again. 4090001 File too large. Max 4000 devices allowed per upload. Try splitting the device upload list to reduce the size of .csv you are uploading']\n",
      "{'source': 'all_processed_data.json', 'seq_num': 433, 'title': 'Portal-side errors', 'url': 'https://docs.samsungknox.com/admin/knox-configure/knox-configure-wearables/troubleshoot/portal-side-errors', 'project': 'KC', 'last_updated': '2023-07-26', 'family_tree': 'child', 'parent_id': '1044085c-0477-4fd5-90b4-0a00716011b1', 'id': '38e455a0-11b6-4286-9f15-ffe416d3e249'}\n",
      "\n",
      "Score: 0.7859629793036456\n",
      "['What does the term \\'Maximum number of licenses\\' mean for KPE Standard licenses?. Some customers have asked what the term \"Max # Licenses\" means for the KPE Standard type license. This term can be found in documentation such as the Knox Licenses page in the developer guide. Resolution The term \"Max # Licenses\" means the maximum number of app packages that a particular customer can cover with their KPE Standard license. One license will be for one app package.']\n",
      "{'source': 'all_processed_data.json', 'seq_num': 1638, 'title': \"What does the term 'Maximum number of licenses' mean for KPE Standard licenses?\", 'url': 'https://docs.samsungknox.com/admin/knox-platform-for-enterprise/kbas/kba-528-max-number-licenses-kpe-meaning', 'project': 'KPE', 'last_updated': '2023-07-26', 'family_tree': 'child', 'parent_id': '8260a9b7-6990-43a3-a95a-dc86d94744a4', 'id': 'adffd275-80db-4a15-a505-c77da12e1675'}\n",
      "\n",
      "Score: 0.7402041202266163\n",
      "['. PasswordPolicy setMaximumNumericSequenceLength AE * Device Password Requirements Max time to screen lock 0 minutes 15 minutes KNOX-11-000500 setMaximumTimeToLock AE * Device Password Requirements Max password failures for local wipe 0+ 10 KNOX-11-000700 setMaximumFailedPasswordsForWipe AE * Device Restrictions Installs from unknown sources globally Allow/ Disallow Disallow KNOX-11-001300 addUserRestriction DISALLOW_INSTALL_UNKNOWN_SOURCES_GLOBALLY AE * Device Restrictions Trust agents Enable/Disable Disable KNOX-11-003900 setKeyguardDisabledFeatures KEYGUARD_DISABLE_TRUST_AGENTS AE * Device Restrictions Face Enable/Disable Disable KNOX-11-004100 setKeyguardDisabledFeatures KEYGUARD_DISABLE_FACE AE * Device Restrictions Debugging features Allow/ Disallow Disallow KNOX-11-005100 addUserRestriction DISALLOW_DEBUGGING_FEATURES AE * Device Restrictions USB file transfer Allow/ Disallow Disallow KNOX-11-006500, KNOX-11-006900 addUserRestriction DISALLOW_USB_FILE_TRANSFER KPE Device Wi-Fi Unsecured hotspot Allow/']\n",
      "{'source': 'all_processed_data.json', 'seq_num': 1250, 'title': 'STIG 11 COBO\"compliance', 'url': 'https://docs.samsungknox.com/admin/knox-platform-for-enterprise/knox-service-plugin/references/stig-11/stig-11-cobo-compliance', 'project': 'KSP', 'last_updated': '2023-07-26', 'family_tree': 'child', 'parent_id': 'b6ac2613-d871-4ecb-8a01-e0a69a38d2e0', 'id': 'aa58b7ab-10a0-45fa-91ae-d7a3fa679140'}\n",
      "\n",
      "Score: 0.7133247699208374\n",
      "['. PasswordPolicy setMaximumNumericSequenceLength AE Device Password Requirements Max time to screen lock 0 minutes 15 minutes KNOX-11-000500 setMaximumTimeToLock AE Device Password Requirements Max password failures fo local wipe 0+ 10 KNOX-11-000700 setMaximumFailedPasswordsForWipe AE * Device Restrictions Installs from unknown sources globally Allow/ Disallow Disallow KNOX-11-001300 addUserRestriction DISALLOW_INSTALL_UNKNOWN_SOURCES_GLOBALLY AE Device Restrictions Trust agents Disable/Enable Disable KNOX-11-003900 setKeyguardDisabledFeatures KEYGUARD_DISABLE_TRUST_AGENTS AE * Device Restrictions Face Disable/Enable Disable KNOX-11-004100 setKeyguardDisabledFeatures KEYGUARD_DISABLE_FACE AE * Device Restrictions Debugging features Allow/ Disallow Disallow KNOX-11-005100 addUserRestriction DISALLOW_DEBUGGING_FEATURES AE * Device Restrictions USB file transfer Allow/ Disallow Disallow KNOX-11-006500, KNOX-11-006900 addUserRestriction DISALLOW_USB_FILE_TRANSFER KPE Device Wi-Fi Unsecured hotspot Allow/']\n",
      "{'source': 'all_processed_data.json', 'seq_num': 1251, 'title': 'STIG 11 COPE compliance', 'url': 'https://docs.samsungknox.com/admin/knox-platform-for-enterprise/knox-service-plugin/references/stig-11/stig-11-cope-compliance', 'project': 'KSP', 'last_updated': '2023-07-26', 'family_tree': 'child', 'parent_id': '59fa3d4c-48dd-411d-a630-eceb5be75634', 'id': '22db84ab-63f3-4ae6-816e-0e944cb62675'}\n",
      "None\n",
      "##############################\n",
      "similar_docs_without_reranker\n",
      "##############################\n",
      "\n",
      "Score: 0.008360655737704918\n",
      "['. Rectangular viewfinder width Set the width of the rectangular viewfinder, specified in screen width percentage. Only active if View finder selection is set to Rectangular. Available values are 0% to 100%. Default value is 90%. Rectangular viewfinder height Set the height of the rectangular viewfinder specified in screen height percentage. Only active if View finder selection is set to Rectangular. Available values are 0% to 100%. Default value is 40%.']\n",
      "{'source': 'all_processed_data.json', 'seq_num': 566, 'title': 'Configure scan engine settings', 'url': 'https://docs.samsungknox.com/admin/knox-capture/how-to-guides/configure-scan-engine-settings', 'project': 'KCAP', 'last_updated': '2023-10-16', 'family_tree': 'child', 'parent_id': '66bb973b-a366-4b7e-89c1-c1fb531dc19c', 'id': '2cc90b44-cdfa-4c0a-8c40-9161095f475e'}\n",
      "\n",
      "Score: 0.008225806451612904\n",
      "['. Values Always use native resolution (default) Use custom resolution &mdash; Applies the values specified by the External display width, External display height, External display scale, and Internal display scale sub-policies. If the custom resolution entered is not supported, the display will revert to its native resolution. Chrome OS 99 and higher &gt; External display width (in pixels) Specifies the width of the external display. This policy only applies if the External resolution policy is set to Use custom resolution. Values Enter the display width, in pixels. If this value is unset or not supported, the display reverts to its native resolution. Chrome OS 99 and higher &gt; External display height (in pixels) Specifies the height of the external display. This policy only applies if the External resolution policy is set to Use custom resolution. Values Enter the display height, in pixels. If this value is unset or not supported, the display reverts to its native resolution']\n",
      "{'source': 'all_processed_data.json', 'seq_num': 896, 'title': 'Chrome OS policies', 'url': 'https://docs.samsungknox.com/admin/knox-manage/configure/profile/configure-profile-policies/chrome-os-policies', 'project': 'KM', 'last_updated': '2023-07-26', 'family_tree': 'child', 'parent_id': '895dc3de-830f-4d04-8408-2d4baa0737ad', 'id': '1cb5d53a-12cc-4d2f-a16d-4d370d11f925'}\n",
      "\n",
      "Score: 0.008095238095238095\n",
      "['. You can add up to 10 image files in the PNG, JPG, JPEG, or GIF format (animated files are not supported). Each image file must be less than 5 MB. To upload an image file, click Add and select a file. To delete an image file, click next to the name of the uploaded image file. Note The device control command must be transferred to the device to apply an image file to it. &gt;&gt;&gt; Video Select a video file for the screen saver. You can add only one video file in the MP4 or MKV format. The video file must be less than 50 MB. To upload a video file, click Add and select a file. To delete a video file, click next to the name of the uploaded video file. Note The device control command must be transferred to the device to apply a video to it. &gt; Session timeout Allows the use of the session timeout feature for the Kiosk Browser']\n",
      "{'source': 'all_processed_data.json', 'seq_num': 893, 'title': 'Android Enterprise policies', 'url': 'https://docs.samsungknox.com/admin/knox-manage/configure/profile/configure-profile-policies/android-enterprise-policies', 'project': 'KM', 'last_updated': '2023-09-06', 'family_tree': 'child', 'parent_id': 'a8c17c68-f501-40dd-847e-9bcd875ea03a', 'id': '7b4673c6-2986-4b47-9881-6391722ca68d'}\n",
      "\n",
      "Score: 0.008032786885245903\n",
      "[\". Invalid APK version name. Invalid APK version name. Please change the version name and try uploading again. 4090001 File too large. Max 4000 devices allowed per upload. Try splitting the device upload list to reduce the size of .csv you are uploading. Note that there is a max of 4000 devices allowed per upload. 4150000 File type is not supported. The file you are trying to upload is not supported. Knox Configure only accepts .csv files. App name cannot contain special characters. Rename the app so it does not contain any special or forbidden characters. App version is invalid. An app you are trying to upload is invalid. Verify that the version you're attempting to upload is correct. Try to re-upload the app again. CSV file is required. A system error occurred. Verify that you've attached a .csv file, try to re-attach the .csv and upload it again. If the problem persists, contact Samsung. 4040105 No CAPTCHA code entered. No CAPTCHA code was entered. Carefully enter the CAPTCHA code and submit\"]\n",
      "{'source': 'all_processed_data.json', 'seq_num': 433, 'title': 'Portal-side errors', 'url': 'https://docs.samsungknox.com/admin/knox-configure/knox-configure-wearables/troubleshoot/portal-side-errors', 'project': 'KC', 'last_updated': '2023-07-26', 'family_tree': 'child', 'parent_id': '1044085c-0477-4fd5-90b4-0a00716011b1', 'id': '80a727bf-32af-4454-af2c-775c5931f0f7'}\n",
      "\n",
      "Score: 0.00796875\n",
      "['. 7. The device now launches DeX automatically when it is plugged in to an HDMI cable. 8. Once the device is connected to DeX, a Display resolution screen displays. Select a single resolution value for the connected display. Unselected display options will be greyed out and unavailable. Keep in mind, changing the resolution makes displayed windows, text and other items appear small or larger. Options include, WQHD (2560 x 1440), FHD (1920 x 1080) _recommended setting_, HD+ (1600 x 900), WQXGA (2560 x 1600), WUXGA (1920 x 1200), or UWQHD (3440 x 1440). Select Done to commit the selected display setting. If the display resolution provided is not supported, then FHD (1920 x 1080) is selected by default and non-supported resolutions are greyed out in the DeX Display resolution screen. Industry example This example configures a tablet in DeX mode, so a bank employee can use it to help customers with day to day operations. For example opening a new account or checking account balances']\n",
      "{'source': 'all_processed_data.json', 'seq_num': 1225, 'title': 'DeX', 'url': 'https://docs.samsungknox.com/admin/knox-platform-for-enterprise/knox-service-plugin/configure-advanced-policies/dex', 'project': 'KSP', 'last_updated': '2023-07-26', 'family_tree': 'child', 'parent_id': 'ebfb07d3-7991-42b1-a6de-efccedb9d358', 'id': '77a658b4-314e-4239-bb10-13eccf76ab2b'}\n",
      "\n",
      "Score: 0.007903225806451612\n",
      "['. Max TTL - The maximum amount of time, or time to live (TTL), in seconds, that a packet can exist in a network before being discarded by the router. The default value is 64, but a number from 49 to 255 can be entered. Packet size - The size of the packet to request, in bytes. The default value is 64, but a number from 4 to 1472 can be entered. If the device user sets Packet size as 10, Interval (ms) as 1000 ms, and Timeout (ms) as 500 ms, 10 pings are sent and the interval between each ping is set to 1000 ms. A successful test requires all 10 pings to be received within 500 ms each. The ping test continues even if the device user leaves the screen, but they can stop it at any time by tapping the stop button. Otherwise, the test automatically stops once the set conditions are met. A notification is also displayed in the notification bar for the duration of the test, which the user can tap to return to the test screen']\n",
      "{'source': 'all_processed_data.json', 'seq_num': 292, 'title': 'Use the agent app', 'url': 'https://docs.samsungknox.com/admin/knox-asset-intelligence/how-to-guides/use-the-agent-app', 'project': 'KAI', 'last_updated': '2023-09-06', 'family_tree': 'child', 'parent_id': 'ea3c87c4-edeb-469a-80ad-fa72ca930ba1', 'id': '40d996fe-c60e-4bdc-8beb-bdab0898d400'}\n",
      "\n",
      "Score: 0.007846153846153846\n",
      "[\". Knox Platform for Enterprise Premium &gt; Ratio Specifies the scale of the text size on Knox Browser. Only available if the Knox Browser App and Text Scaling policies are set to Use. Values To set the scale, adjust the slider. The slider has a range of 50&ndash;200% and moves in 5% increments. Knox Platform for Enterprise Premium Force Enable Zoom Forces changing the zoom level of web pages on Knox Browser. Only available if the Knox Browser App policy is set to Use. Values Use &mdash; Adjusts the zoom level to the scale set by the Force Enable Zoom &gt; Ratio policy. Do not use &mdash; The zoom level defaults to 100%, and the user can't change it. Knox Platform for Enterprise Premium &gt; Ratio Specifies the zoom level of web pages on Knox Browser. Only available if the Knox Browser App and Text Scaling policies are set to Use. Values To set the scale, adjust the slider. The slider has a range of 100&ndash;200% and moves in 10% increments\"]\n",
      "{'source': 'all_processed_data.json', 'seq_num': 893, 'title': 'Android Enterprise policies', 'url': 'https://docs.samsungknox.com/admin/knox-manage/configure/profile/configure-profile-policies/android-enterprise-policies', 'project': 'KM', 'last_updated': '2023-09-06', 'family_tree': 'child', 'parent_id': 'caa73ec8-0840-4383-a91d-cc6d50bb1205', 'id': '9b1dcbbc-f4e8-4e33-acb3-f5ded8804a34'}\n",
      "None\n",
      "##############################\n",
      "similar_docs\n",
      "##############################\n",
      "\n",
      "Score: 0.0010733447270467877\n",
      "['. You can add up to 10 image files in the PNG, JPG, JPEG, or GIF format (animated files are not supported). Each image file must be less than 5 MB. To upload an image file, click Add and select a file. To delete an image file, click next to the name of the uploaded image file. Note The device control command must be transferred to the device to apply an image file to it. &gt;&gt;&gt; Video Select a video file for the screen saver. You can add only one video file in the MP4 or MKV format. The video file must be less than 50 MB. To upload a video file, click Add and select a file. To delete a video file, click next to the name of the uploaded video file. Note The device control command must be transferred to the device to apply a video to it. &gt; Session timeout Allows the use of the session timeout feature for the Kiosk Browser']\n",
      "{'source': 'all_processed_data.json', 'seq_num': 893, 'title': 'Android Enterprise policies', 'url': 'https://docs.samsungknox.com/admin/knox-manage/configure/profile/configure-profile-policies/android-enterprise-policies', 'project': 'KM', 'last_updated': '2023-09-06', 'family_tree': 'child', 'parent_id': 'a8c17c68-f501-40dd-847e-9bcd875ea03a', 'id': '7b4673c6-2986-4b47-9881-6391722ca68d'}\n",
      "\n",
      "Score: 0.00024694192688912153\n",
      "['. Rectangular viewfinder width Set the width of the rectangular viewfinder, specified in screen width percentage. Only active if View finder selection is set to Rectangular. Available values are 0% to 100%. Default value is 90%. Rectangular viewfinder height Set the height of the rectangular viewfinder specified in screen height percentage. Only active if View finder selection is set to Rectangular. Available values are 0% to 100%. Default value is 40%.']\n",
      "{'source': 'all_processed_data.json', 'seq_num': 566, 'title': 'Configure scan engine settings', 'url': 'https://docs.samsungknox.com/admin/knox-capture/how-to-guides/configure-scan-engine-settings', 'project': 'KCAP', 'last_updated': '2023-10-16', 'family_tree': 'child', 'parent_id': '66bb973b-a366-4b7e-89c1-c1fb531dc19c', 'id': '2cc90b44-cdfa-4c0a-8c40-9161095f475e'}\n",
      "\n",
      "Score: 0.0001050693608704023\n",
      "['. Max TTL - The maximum amount of time, or time to live (TTL), in seconds, that a packet can exist in a network before being discarded by the router. The default value is 64, but a number from 49 to 255 can be entered. Packet size - The size of the packet to request, in bytes. The default value is 64, but a number from 4 to 1472 can be entered. If the device user sets Packet size as 10, Interval (ms) as 1000 ms, and Timeout (ms) as 500 ms, 10 pings are sent and the interval between each ping is set to 1000 ms. A successful test requires all 10 pings to be received within 500 ms each. The ping test continues even if the device user leaves the screen, but they can stop it at any time by tapping the stop button. Otherwise, the test automatically stops once the set conditions are met. A notification is also displayed in the notification bar for the duration of the test, which the user can tap to return to the test screen']\n",
      "{'source': 'all_processed_data.json', 'seq_num': 292, 'title': 'Use the agent app', 'url': 'https://docs.samsungknox.com/admin/knox-asset-intelligence/how-to-guides/use-the-agent-app', 'project': 'KAI', 'last_updated': '2023-09-06', 'family_tree': 'child', 'parent_id': 'ea3c87c4-edeb-469a-80ad-fa72ca930ba1', 'id': '40d996fe-c60e-4bdc-8beb-bdab0898d400'}\n",
      "\n",
      "Score: 0.00010467944957781583\n",
      "['. Values Always use native resolution (default) Use custom resolution &mdash; Applies the values specified by the External display width, External display height, External display scale, and Internal display scale sub-policies. If the custom resolution entered is not supported, the display will revert to its native resolution. Chrome OS 99 and higher &gt; External display width (in pixels) Specifies the width of the external display. This policy only applies if the External resolution policy is set to Use custom resolution. Values Enter the display width, in pixels. If this value is unset or not supported, the display reverts to its native resolution. Chrome OS 99 and higher &gt; External display height (in pixels) Specifies the height of the external display. This policy only applies if the External resolution policy is set to Use custom resolution. Values Enter the display height, in pixels. If this value is unset or not supported, the display reverts to its native resolution']\n",
      "{'source': 'all_processed_data.json', 'seq_num': 896, 'title': 'Chrome OS policies', 'url': 'https://docs.samsungknox.com/admin/knox-manage/configure/profile/configure-profile-policies/chrome-os-policies', 'project': 'KM', 'last_updated': '2023-07-26', 'family_tree': 'child', 'parent_id': '895dc3de-830f-4d04-8408-2d4baa0737ad', 'id': '1cb5d53a-12cc-4d2f-a16d-4d370d11f925'}\n",
      "\n",
      "Score: 6.534139538416639e-05\n",
      "[\". Invalid APK version name. Invalid APK version name. Please change the version name and try uploading again. 4090001 File too large. Max 4000 devices allowed per upload. Try splitting the device upload list to reduce the size of .csv you are uploading. Note that there is a max of 4000 devices allowed per upload. 4150000 File type is not supported. The file you are trying to upload is not supported. Knox Configure only accepts .csv files. App name cannot contain special characters. Rename the app so it does not contain any special or forbidden characters. App version is invalid. An app you are trying to upload is invalid. Verify that the version you're attempting to upload is correct. Try to re-upload the app again. CSV file is required. A system error occurred. Verify that you've attached a .csv file, try to re-attach the .csv and upload it again. If the problem persists, contact Samsung. 4040105 No CAPTCHA code entered. No CAPTCHA code was entered. Carefully enter the CAPTCHA code and submit\"]\n",
      "{'source': 'all_processed_data.json', 'seq_num': 433, 'title': 'Portal-side errors', 'url': 'https://docs.samsungknox.com/admin/knox-configure/knox-configure-wearables/troubleshoot/portal-side-errors', 'project': 'KC', 'last_updated': '2023-07-26', 'family_tree': 'child', 'parent_id': '1044085c-0477-4fd5-90b4-0a00716011b1', 'id': '80a727bf-32af-4454-af2c-775c5931f0f7'}\n",
      "None\n",
      "\n",
      "==========  Results  ==========\n",
      "\n",
      "1. question: vidio max size?\n",
      "2. # documents: 5\n",
      "3. Documents: \n",
      "\n",
      "-----------------------------------------------\n",
      "1. Chunk: 839 Characters\n",
      "-----------------------------------------------\n",
      ". You can add up to 10 image files in the PNG, JPG, JPEG, or GIF format (animated files are not\n",
      "supported). Each image file must be less than 5 MB. To upload an image file, click Add and select a\n",
      "file. To delete an image file, click next to the name of the uploaded image file. Note The device\n",
      "control command must be transferred to the device to apply an image file to it. &gt;&gt;&gt; Video\n",
      "Select a video file for the screen saver. You can add only one video file in the MP4 or MKV format.\n",
      "The video file must be less than 50 MB. To upload a video file, click Add and select a file. To\n",
      "delete a video file, click next to the name of the uploaded video file. Note The device control\n",
      "command must be transferred to the device to apply a video to it. &gt; Session timeout Allows the\n",
      "use of the session timeout feature for the Kiosk Browser\n",
      "metadata:\n",
      " {'source': 'all_processed_data.json', 'seq_num': 893, 'title': 'Android Enterprise policies',\n",
      "'url': 'https://docs.samsungknox.com/admin/knox-manage/configure/profile/configure-profile-\n",
      "policies/android-enterprise-policies', 'project': 'KM', 'last_updated': '2023-09-06', 'family_tree':\n",
      "'child', 'parent_id': 'a8c17c68-f501-40dd-847e-9bcd875ea03a', 'id':\n",
      "'7b4673c6-2986-4b47-9881-6391722ca68d'}\n",
      "-----------------------------------------------\n",
      "2. Chunk: 457 Characters\n",
      "-----------------------------------------------\n",
      ". Rectangular viewfinder width Set the width of the rectangular viewfinder, specified in screen\n",
      "width percentage. Only active if View finder selection is set to Rectangular. Available values are\n",
      "0% to 100%. Default value is 90%. Rectangular viewfinder height Set the height of the rectangular\n",
      "viewfinder specified in screen height percentage. Only active if View finder selection is set to\n",
      "Rectangular. Available values are 0% to 100%. Default value is 40%.\n",
      "metadata:\n",
      " {'source': 'all_processed_data.json', 'seq_num': 566, 'title': 'Configure scan engine settings',\n",
      "'url': 'https://docs.samsungknox.com/admin/knox-capture/how-to-guides/configure-scan-engine-\n",
      "settings', 'project': 'KCAP', 'last_updated': '2023-10-16', 'family_tree': 'child', 'parent_id':\n",
      "'66bb973b-a366-4b7e-89c1-c1fb531dc19c', 'id': '2cc90b44-cdfa-4c0a-8c40-9161095f475e'}\n",
      "-----------------------------------------------\n",
      "3. Chunk: 930 Characters\n",
      "-----------------------------------------------\n",
      ". Max TTL - The maximum amount of time, or time to live (TTL), in seconds, that a packet can exist\n",
      "in a network before being discarded by the router. The default value is 64, but a number from 49 to\n",
      "255 can be entered. Packet size - The size of the packet to request, in bytes. The default value is\n",
      "64, but a number from 4 to 1472 can be entered. If the device user sets Packet size as 10, Interval\n",
      "(ms) as 1000 ms, and Timeout (ms) as 500 ms, 10 pings are sent and the interval between each ping is\n",
      "set to 1000 ms. A successful test requires all 10 pings to be received within 500 ms each. The ping\n",
      "test continues even if the device user leaves the screen, but they can stop it at any time by\n",
      "tapping the stop button. Otherwise, the test automatically stops once the set conditions are met. A\n",
      "notification is also displayed in the notification bar for the duration of the test, which the user\n",
      "can tap to return to the test screen\n",
      "metadata:\n",
      " {'source': 'all_processed_data.json', 'seq_num': 292, 'title': 'Use the agent app', 'url':\n",
      "'https://docs.samsungknox.com/admin/knox-asset-intelligence/how-to-guides/use-the-agent-app',\n",
      "'project': 'KAI', 'last_updated': '2023-09-06', 'family_tree': 'child', 'parent_id':\n",
      "'ea3c87c4-edeb-469a-80ad-fa72ca930ba1', 'id': '40d996fe-c60e-4bdc-8beb-bdab0898d400'}\n",
      "-----------------------------------------------\n",
      "4. Chunk: 992 Characters\n",
      "-----------------------------------------------\n",
      ". Values Always use native resolution (default) Use custom resolution &mdash; Applies the values\n",
      "specified by the External display width, External display height, External display scale, and\n",
      "Internal display scale sub-policies. If the custom resolution entered is not supported, the display\n",
      "will revert to its native resolution. Chrome OS 99 and higher &gt; External display width (in\n",
      "pixels) Specifies the width of the external display. This policy only applies if the External\n",
      "resolution policy is set to Use custom resolution. Values Enter the display width, in pixels. If\n",
      "this value is unset or not supported, the display reverts to its native resolution. Chrome OS 99 and\n",
      "higher &gt; External display height (in pixels) Specifies the height of the external display. This\n",
      "policy only applies if the External resolution policy is set to Use custom resolution. Values Enter\n",
      "the display height, in pixels. If this value is unset or not supported, the display reverts to its\n",
      "native resolution\n",
      "metadata:\n",
      " {'source': 'all_processed_data.json', 'seq_num': 896, 'title': 'Chrome OS policies', 'url':\n",
      "'https://docs.samsungknox.com/admin/knox-manage/configure/profile/configure-profile-policies/chrome-\n",
      "os-policies', 'project': 'KM', 'last_updated': '2023-07-26', 'family_tree': 'child', 'parent_id':\n",
      "'895dc3de-830f-4d04-8408-2d4baa0737ad', 'id': '1cb5d53a-12cc-4d2f-a16d-4d370d11f925'}\n",
      "-----------------------------------------------\n",
      "5. Chunk: 1008 Characters\n",
      "-----------------------------------------------\n",
      ". Invalid APK version name. Invalid APK version name. Please change the version name and try\n",
      "uploading again. 4090001 File too large. Max 4000 devices allowed per upload. Try splitting the\n",
      "device upload list to reduce the size of .csv you are uploading. Note that there is a max of 4000\n",
      "devices allowed per upload. 4150000 File type is not supported. The file you are trying to upload is\n",
      "not supported. Knox Configure only accepts .csv files. App name cannot contain special characters.\n",
      "Rename the app so it does not contain any special or forbidden characters. App version is invalid.\n",
      "An app you are trying to upload is invalid. Verify that the version you're attempting to upload is\n",
      "correct. Try to re-upload the app again. CSV file is required. A system error occurred. Verify that\n",
      "you've attached a .csv file, try to re-attach the .csv and upload it again. If the problem persists,\n",
      "contact Samsung. 4040105 No CAPTCHA code entered. No CAPTCHA code was entered. Carefully enter the\n",
      "CAPTCHA code and submit\n",
      "metadata:\n",
      " {'source': 'all_processed_data.json', 'seq_num': 433, 'title': 'Portal-side errors', 'url':\n",
      "'https://docs.samsungknox.com/admin/knox-configure/knox-configure-wearables/troubleshoot/portal-\n",
      "side-errors', 'project': 'KC', 'last_updated': '2023-07-26', 'family_tree': 'child', 'parent_id':\n",
      "'1044085c-0477-4fd5-90b4-0a00716011b1', 'id': '80a727bf-32af-4454-af2c-775c5931f0f7'}\n",
      "CPU times: user 400 ms, sys: 39.9 ms, total: 440 ms\n",
      "Wall time: 721 ms\n"
     ]
    }
   ],
   "source": [
    "%%time\n",
    "search_hybrid_result = opensearch_hybrid_retriever.get_relevant_documents(query)\n",
    "\n",
    "print(\"\\n==========  Results  ==========\\n\")\n",
    "print(f'1. question: {query}')\n",
    "print (f'2. # documents: {len(search_hybrid_result)}')\n",
    "print(\"3. Documents: \\n\")\n",
    "\n",
    "show_context_used(search_hybrid_result)"
   ]
  },
  {
   "cell_type": "markdown",
   "id": "a981abe7-5208-48f5-a9cc-8c557e9941ca",
   "metadata": {},
   "source": [
    "## 5. RAG using RetrievalQA powered by LangChain"
   ]
  },
  {
   "cell_type": "code",
   "execution_count": 27,
   "id": "08cf6d2b-451b-499c-aec2-bb6f5abafbb0",
   "metadata": {
    "tags": []
   },
   "outputs": [],
   "source": [
    "from utils.rag import prompt_repo\n",
    "from utils.rag import run_RetrievalQA\n",
    "from langchain.prompts import PromptTemplate"
   ]
  },
  {
   "cell_type": "markdown",
   "id": "b490df1f-8113-4dd1-a578-a3e1a6918fde",
   "metadata": {
    "tags": []
   },
   "source": [
    "### Prompting\n",
    "- [TIP] Prompt의 instruction의 경우 한글보다 영어로 했을 때 더 좋은 결과를 얻을 수 있습니다."
   ]
  },
  {
   "cell_type": "code",
   "execution_count": 28,
   "id": "bfd3ec15-7750-40c3-bab8-341d56195057",
   "metadata": {
    "tags": []
   },
   "outputs": [
    {
     "name": "stdout",
     "output_type": "stream",
     "text": [
      "('\\n'\n",
      " '            \\n'\n",
      " '\\n'\n",
      " 'Human:\\n'\n",
      " '            You are a master answer bot designed to answer software '\n",
      " \"developer's questions.\\n\"\n",
      " \"            I'm going to give you a context. Read the context carefully, \"\n",
      " \"because I'm going to ask you a question about it.\\n\"\n",
      " '\\n'\n",
      " '            Here is the context: <context>{context}</context>\\n'\n",
      " '            \\n'\n",
      " '            First, find a few paragraphs or sentences from the context that '\n",
      " 'are most relevant to answering the question.\\n'\n",
      " '            Then, answer the question as much as you can.\\n'\n",
      " '\\n'\n",
      " '            Skip the preamble and go straight into the answer.\\n'\n",
      " \"            Don't insert any XML tag such as <context> and </context> when \"\n",
      " 'answering.\\n'\n",
      " '            \\n'\n",
      " '            Here is the question: <question>{question}</question>\\n'\n",
      " '\\n'\n",
      " '            If the question cannot be answered by the context, say \"No '\n",
      " 'relevant context\".\\n'\n",
      " '            \\n'\n",
      " '\\n'\n",
      " 'Assistant: Here is the answer. ')\n"
     ]
    }
   ],
   "source": [
    "PROMPT = prompt_repo.get_qa(prompt_type=\"answer_only\") # [\"answer_only\", \"answer_with_ref\"]\n",
    "pprint (PROMPT.template)"
   ]
  },
  {
   "cell_type": "markdown",
   "id": "c66157a6-aec8-4555-a90f-1178e6f4f6e0",
   "metadata": {},
   "source": [
    "### Update Search Params (Optional)"
   ]
  },
  {
   "cell_type": "code",
   "execution_count": 29,
   "id": "64df2daf-8b42-472a-885f-97320ee98132",
   "metadata": {
    "tags": []
   },
   "outputs": [],
   "source": [
    "from langchain.chains import RetrievalQA"
   ]
  },
  {
   "cell_type": "code",
   "execution_count": 30,
   "id": "d2697230-6962-43d8-8917-ba9daa4295bb",
   "metadata": {
    "tags": []
   },
   "outputs": [],
   "source": [
    "opensearch_hybrid_retriever.update_search_params(\n",
    "    k=5,\n",
    "    minimum_should_match=0,\n",
    "    #filter=[\n",
    "    #    {\"term\": {\"metadata.project\": \"KPE\"}},\n",
    "    #],\n",
    "    reranker=True,\n",
    "    reranker_endpoint_name=endpoint_name,\n",
    "    verbose=True\n",
    ")"
   ]
  },
  {
   "cell_type": "markdown",
   "id": "aee26c22-b674-4f4f-a87b-29508e336fda",
   "metadata": {},
   "source": [
    "### Request"
   ]
  },
  {
   "cell_type": "code",
   "execution_count": 31,
   "id": "95fa61d3-9256-432a-96a3-2c696c97ea68",
   "metadata": {
    "tags": []
   },
   "outputs": [],
   "source": [
    "from langchain.chains import RetrievalQA\n",
    "\n",
    "qa = RetrievalQA.from_chain_type(\n",
    "    llm=llm_text,\n",
    "    chain_type=\"stuff\",\n",
    "    retriever=opensearch_hybrid_retriever,\n",
    "    return_source_documents=True,\n",
    "    chain_type_kwargs={\n",
    "        \"prompt\": PROMPT,\n",
    "        \"verbose\": False,\n",
    "    },\n",
    "    verbose=False\n",
    ")"
   ]
  },
  {
   "cell_type": "code",
   "execution_count": 32,
   "id": "94b91eb8-8473-4dc4-9c49-ea8b10c55618",
   "metadata": {
    "tags": []
   },
   "outputs": [],
   "source": [
    "qa = RetrievalQA.from_chain_type(\n",
    "    llm=llm_text,\n",
    "    chain_type=\"stuff\",\n",
    "    retriever=opensearch_hybrid_retriever,\n",
    "    return_source_documents=True,\n",
    "    chain_type_kwargs={\n",
    "        \"prompt\": PROMPT,\n",
    "        \"verbose\": False,\n",
    "    },\n",
    "    verbose=False\n",
    ")"
   ]
  },
  {
   "cell_type": "code",
   "execution_count": 33,
   "id": "390ad324-40b3-4bcb-92b9-50eb080492a5",
   "metadata": {
    "tags": []
   },
   "outputs": [
    {
     "name": "stderr",
     "output_type": "stream",
     "text": [
      "/home/ec2-user/anaconda3/envs/python3/lib/python3.10/site-packages/langchain_core/_api/deprecation.py:117: LangChainDeprecationWarning: The function `__call__` was deprecated in LangChain 0.1.0 and will be removed in 0.2.0. Use invoke instead.\n",
      "  warn_deprecated(\n"
     ]
    },
    {
     "name": "stdout",
     "output_type": "stream",
     "text": [
      "##############################\n",
      "async_mode\n",
      "##############################\n",
      "True\n",
      "##############################\n",
      "reranker\n",
      "##############################\n",
      "True\n",
      "##############################\n",
      "rag_fusion\n",
      "##############################\n",
      "False\n",
      "##############################\n",
      "HyDE\n",
      "##############################\n",
      "False\n",
      "##############################\n",
      "parent_document\n",
      "##############################\n",
      "False\n",
      "##############################\n",
      "similar_docs_semantic\n",
      "##############################\n",
      "\n",
      "Score: 1.0\n",
      "['. Rectangular viewfinder width Set the width of the rectangular viewfinder, specified in screen width percentage. Only active if View finder selection is set to Rectangular. Available values are 0% to 100%. Default value is 90%. Rectangular viewfinder height Set the height of the rectangular viewfinder specified in screen height percentage. Only active if View finder selection is set to Rectangular. Available values are 0% to 100%. Default value is 40%.']\n",
      "{'source': 'all_processed_data.json', 'seq_num': 566, 'title': 'Configure scan engine settings', 'url': 'https://docs.samsungknox.com/admin/knox-capture/how-to-guides/configure-scan-engine-settings', 'project': 'KCAP', 'last_updated': '2023-10-16', 'family_tree': 'child', 'parent_id': '66bb973b-a366-4b7e-89c1-c1fb531dc19c', 'id': '2cc90b44-cdfa-4c0a-8c40-9161095f475e'}\n",
      "\n",
      "Score: 0.9802129398819749\n",
      "['. Values Always use native resolution (default) Use custom resolution &mdash; Applies the values specified by the External display width, External display height, External display scale, and Internal display scale sub-policies. If the custom resolution entered is not supported, the display will revert to its native resolution. Chrome OS 99 and higher &gt; External display width (in pixels) Specifies the width of the external display. This policy only applies if the External resolution policy is set to Use custom resolution. Values Enter the display width, in pixels. If this value is unset or not supported, the display reverts to its native resolution. Chrome OS 99 and higher &gt; External display height (in pixels) Specifies the height of the external display. This policy only applies if the External resolution policy is set to Use custom resolution. Values Enter the display height, in pixels. If this value is unset or not supported, the display reverts to its native resolution']\n",
      "{'source': 'all_processed_data.json', 'seq_num': 896, 'title': 'Chrome OS policies', 'url': 'https://docs.samsungknox.com/admin/knox-manage/configure/profile/configure-profile-policies/chrome-os-policies', 'project': 'KM', 'last_updated': '2023-07-26', 'family_tree': 'child', 'parent_id': '895dc3de-830f-4d04-8408-2d4baa0737ad', 'id': '1cb5d53a-12cc-4d2f-a16d-4d370d11f925'}\n",
      "\n",
      "Score: 0.9799836479124122\n",
      "['. You can add up to 10 image files in the PNG, JPG, JPEG, or GIF format (animated files are not supported). Each image file must be less than 5 MB. To upload an image file, click Add and select a file. To delete an image file, click next to the name of the uploaded image file. Note The device control command must be transferred to the device to apply an image file to it. &gt;&gt;&gt; Video Select a video file for the screen saver. You can add only one video file in the MP4 or MKV format. The video file must be less than 50 MB. To upload a video file, click Add and select a file. To delete a video file, click next to the name of the uploaded video file. Note The device control command must be transferred to the device to apply a video to it. &gt; Session timeout Allows the use of the session timeout feature for the Kiosk Browser']\n",
      "{'source': 'all_processed_data.json', 'seq_num': 893, 'title': 'Android Enterprise policies', 'url': 'https://docs.samsungknox.com/admin/knox-manage/configure/profile/configure-profile-policies/android-enterprise-policies', 'project': 'KM', 'last_updated': '2023-09-06', 'family_tree': 'child', 'parent_id': 'a8c17c68-f501-40dd-847e-9bcd875ea03a', 'id': '7b4673c6-2986-4b47-9881-6391722ca68d'}\n",
      "\n",
      "Score: 0.979457590531508\n",
      "['. 7. The device now launches DeX automatically when it is plugged in to an HDMI cable. 8. Once the device is connected to DeX, a Display resolution screen displays. Select a single resolution value for the connected display. Unselected display options will be greyed out and unavailable. Keep in mind, changing the resolution makes displayed windows, text and other items appear small or larger. Options include, WQHD (2560 x 1440), FHD (1920 x 1080) _recommended setting_, HD+ (1600 x 900), WQXGA (2560 x 1600), WUXGA (1920 x 1200), or UWQHD (3440 x 1440). Select Done to commit the selected display setting. If the display resolution provided is not supported, then FHD (1920 x 1080) is selected by default and non-supported resolutions are greyed out in the DeX Display resolution screen. Industry example This example configures a tablet in DeX mode, so a bank employee can use it to help customers with day to day operations. For example opening a new account or checking account balances']\n",
      "{'source': 'all_processed_data.json', 'seq_num': 1225, 'title': 'DeX', 'url': 'https://docs.samsungknox.com/admin/knox-platform-for-enterprise/knox-service-plugin/configure-advanced-policies/dex', 'project': 'KSP', 'last_updated': '2023-07-26', 'family_tree': 'child', 'parent_id': 'ebfb07d3-7991-42b1-a6de-efccedb9d358', 'id': '77a658b4-314e-4239-bb10-13eccf76ab2b'}\n",
      "\n",
      "Score: 0.9782048532512303\n",
      "[\". Knox Platform for Enterprise Premium &gt; Ratio Specifies the scale of the text size on Knox Browser. Only available if the Knox Browser App and Text Scaling policies are set to Use. Values To set the scale, adjust the slider. The slider has a range of 50&ndash;200% and moves in 5% increments. Knox Platform for Enterprise Premium Force Enable Zoom Forces changing the zoom level of web pages on Knox Browser. Only available if the Knox Browser App policy is set to Use. Values Use &mdash; Adjusts the zoom level to the scale set by the Force Enable Zoom &gt; Ratio policy. Do not use &mdash; The zoom level defaults to 100%, and the user can't change it. Knox Platform for Enterprise Premium &gt; Ratio Specifies the zoom level of web pages on Knox Browser. Only available if the Knox Browser App and Text Scaling policies are set to Use. Values To set the scale, adjust the slider. The slider has a range of 100&ndash;200% and moves in 10% increments\"]\n",
      "{'source': 'all_processed_data.json', 'seq_num': 893, 'title': 'Android Enterprise policies', 'url': 'https://docs.samsungknox.com/admin/knox-manage/configure/profile/configure-profile-policies/android-enterprise-policies', 'project': 'KM', 'last_updated': '2023-09-06', 'family_tree': 'child', 'parent_id': 'caa73ec8-0840-4383-a91d-cc6d50bb1205', 'id': '9b1dcbbc-f4e8-4e33-acb3-f5ded8804a34'}\n",
      "\n",
      "Score: 0.975223039420018\n",
      "['. This policy only applies if the External resolution policy is set to Use custom resolution. Values Enter the display height, in pixels. If this value is unset or not supported, the display reverts to its native resolution. Chrome OS 99 and higher &gt; External display scale (percentage) Specifies the scale of the external display. This policy only applies if the External resolution policy is set to Use custom resolution Values Choose a display scale: Not set 50% 55% 60% 65% 70% 75% 80% 85% 90% 95% 100% 105% 110% 115% 120% 125% 130% 135% 140% 145% 150% Chrome OS 99 and higher &gt; Internal display scale (percentage) Specifies the scale of the internal display']\n",
      "{'source': 'all_processed_data.json', 'seq_num': 896, 'title': 'Chrome OS policies', 'url': 'https://docs.samsungknox.com/admin/knox-manage/configure/profile/configure-profile-policies/chrome-os-policies', 'project': 'KM', 'last_updated': '2023-07-26', 'family_tree': 'child', 'parent_id': '895dc3de-830f-4d04-8408-2d4baa0737ad', 'id': '4bfdf686-a0f9-4846-b50c-e0f730bed578'}\n",
      "\n",
      "Score: 0.9684978575869678\n",
      "['. To upload a video file, click Add and select a file. To delete a video file, click next to the name of the uploaded video file. Note The device control command must be transferred to the device to apply a video to it. &gt; Session timeout Allows the use of the session timeout feature for the Kiosk Browser. If the user does not use the device for a set time, the device deletes user information, such as the cache and cookies, in the device Kiosk Browser and goes to the main page URL. Apply &mdash; Enable the session timeout feature for the browser. &gt;&gt; Time (sec) Set the session timeout in seconds for the Kiosk Browser. The value must be between 10, 3600 seconds. The default value is 1800 seconds. &gt; Text Copy Allows the copying of text strings in the Kiosk Browser. &gt; Javascript Allows the running of the JavaScript contained in websites. &gt; Http Proxy Allows the use of an HTTP proxy for communications in the Kiosk Browser']\n",
      "{'source': 'all_processed_data.json', 'seq_num': 894, 'title': 'Android Legacy policies', 'url': 'https://docs.samsungknox.com/admin/knox-manage/configure/profile/configure-profile-policies/android-legacy-policies', 'project': 'KM', 'last_updated': '2023-07-26', 'family_tree': 'child', 'parent_id': '4ff12653-aad8-40f5-908f-ca70707be4f2', 'id': '325b9222-c307-45ba-babe-e4fc56db4c94'}\n",
      "None\n",
      "##############################\n",
      "similar_docs_keyword\n",
      "##############################\n",
      "\n",
      "Score: 1.0\n",
      "[\". Invalid APK version name. Invalid APK version name. Please change the version name and try uploading again. 4090001 File too large. Max 4000 devices allowed per upload. Try splitting the device upload list to reduce the size of .csv you are uploading. Note that there is a max of 4000 devices allowed per upload. 4150000 File type is not supported. The file you are trying to upload is not supported. Knox Configure only accepts .csv files. App name cannot contain special characters. Rename the app so it does not contain any special or forbidden characters. App version is invalid. An app you are trying to upload is invalid. Verify that the version you're attempting to upload is correct. Try to re-upload the app again. CSV file is required. A system error occurred. Verify that you've attached a .csv file, try to re-attach the .csv and upload it again. If the problem persists, contact Samsung. 4040105 No CAPTCHA code entered. No CAPTCHA code was entered. Carefully enter the CAPTCHA code and submit\"]\n",
      "{'source': 'all_processed_data.json', 'seq_num': 433, 'title': 'Portal-side errors', 'url': 'https://docs.samsungknox.com/admin/knox-configure/knox-configure-wearables/troubleshoot/portal-side-errors', 'project': 'KC', 'last_updated': '2023-07-26', 'family_tree': 'child', 'parent_id': '1044085c-0477-4fd5-90b4-0a00716011b1', 'id': '80a727bf-32af-4454-af2c-775c5931f0f7'}\n",
      "\n",
      "Score: 0.9776168409712832\n",
      "['. Max TTL - The maximum amount of time, or time to live (TTL), in seconds, that a packet can exist in a network before being discarded by the router. The default value is 64, but a number from 49 to 255 can be entered. Packet size - The size of the packet to request, in bytes. The default value is 64, but a number from 4 to 1472 can be entered. If the device user sets Packet size as 10, Interval (ms) as 1000 ms, and Timeout (ms) as 500 ms, 10 pings are sent and the interval between each ping is set to 1000 ms. A successful test requires all 10 pings to be received within 500 ms each. The ping test continues even if the device user leaves the screen, but they can stop it at any time by tapping the stop button. Otherwise, the test automatically stops once the set conditions are met. A notification is also displayed in the notification bar for the duration of the test, which the user can tap to return to the test screen']\n",
      "{'source': 'all_processed_data.json', 'seq_num': 292, 'title': 'Use the agent app', 'url': 'https://docs.samsungknox.com/admin/knox-asset-intelligence/how-to-guides/use-the-agent-app', 'project': 'KAI', 'last_updated': '2023-09-06', 'family_tree': 'child', 'parent_id': 'ea3c87c4-edeb-469a-80ad-fa72ca930ba1', 'id': '40d996fe-c60e-4bdc-8beb-bdab0898d400'}\n",
      "\n",
      "Score: 0.8687346292267711\n",
      "['. Change this property to include lengths not enabled by default, or to optimize decoding performance for a certain number of symbols. Character-to-symbol mapping depends on barcode type. For example, some barcodes include additional checksum characters in their symbol counts. For more information on active symbol count, refer to Configure the Active Symbol Count. Depends on barcode type. Max. length Determines the maximum supported barcode length (active symbol count) to decode. Depends on barcode type. Inverted color recognition Enables recognition of inverted barcodes that have been printed using bright ink on a dark background. ON/OFF OFF Reduced quiet zone-size Enables scanning codes with smaller than normal quiet zones (white space before and after the code) than allowed by the barcode type specification. Use this if you experience issues when scanning codes that violate quiet zone specifications. Please note that turning on this feature may lead to false positive scans in some cases']\n",
      "{'source': 'all_processed_data.json', 'seq_num': 580, 'title': 'Scan engine settings: Scandit', 'url': 'https://docs.samsungknox.com/admin/knox-capture/knox-capture-scandit/scan-engine-settings-scandit', 'project': 'KCAP', 'last_updated': '2023-07-26', 'family_tree': 'child', 'parent_id': '11cc90ea-f675-48ca-b067-57424795bdac', 'id': '24c72118-2dda-4946-929a-0da069804466'}\n",
      "\n",
      "Score: 0.8044924250573349\n",
      "['. Enter your device information in the sample file with the default headings. Save and try uploading the CSV file again. 4000014 The CSV file is empty. Ensure the CSV file uploading is not empty. 4000414 The EULA is invalid. A system error occurred. Refresh the page and load the EULA again. If the problem persists, contact Samsung. 4002009 EULA is already agreed to. The end user has already accepted the End User License Agreement (EULA). Do not prompt users to accept the EULA again. Failed to upload file. A system error occurred. Try to upload the file again. If the problem persists, contact Samsung. An app with this name already exists. Ensure the name of the app you are uploading does not already exist in Knox Configure. Re-name the app if necessary. Invalid APK version name. Invalid APK version name. Please change the version name and try uploading again. 4090001 File too large. Max 4000 devices allowed per upload. Try splitting the device upload list to reduce the size of .csv you are uploading']\n",
      "{'source': 'all_processed_data.json', 'seq_num': 433, 'title': 'Portal-side errors', 'url': 'https://docs.samsungknox.com/admin/knox-configure/knox-configure-wearables/troubleshoot/portal-side-errors', 'project': 'KC', 'last_updated': '2023-07-26', 'family_tree': 'child', 'parent_id': '1044085c-0477-4fd5-90b4-0a00716011b1', 'id': '38e455a0-11b6-4286-9f15-ffe416d3e249'}\n",
      "\n",
      "Score: 0.7859629793036456\n",
      "['What does the term \\'Maximum number of licenses\\' mean for KPE Standard licenses?. Some customers have asked what the term \"Max # Licenses\" means for the KPE Standard type license. This term can be found in documentation such as the Knox Licenses page in the developer guide. Resolution The term \"Max # Licenses\" means the maximum number of app packages that a particular customer can cover with their KPE Standard license. One license will be for one app package.']\n",
      "{'source': 'all_processed_data.json', 'seq_num': 1638, 'title': \"What does the term 'Maximum number of licenses' mean for KPE Standard licenses?\", 'url': 'https://docs.samsungknox.com/admin/knox-platform-for-enterprise/kbas/kba-528-max-number-licenses-kpe-meaning', 'project': 'KPE', 'last_updated': '2023-07-26', 'family_tree': 'child', 'parent_id': '8260a9b7-6990-43a3-a95a-dc86d94744a4', 'id': 'adffd275-80db-4a15-a505-c77da12e1675'}\n",
      "\n",
      "Score: 0.7402041202266163\n",
      "['. PasswordPolicy setMaximumNumericSequenceLength AE * Device Password Requirements Max time to screen lock 0 minutes 15 minutes KNOX-11-000500 setMaximumTimeToLock AE * Device Password Requirements Max password failures for local wipe 0+ 10 KNOX-11-000700 setMaximumFailedPasswordsForWipe AE * Device Restrictions Installs from unknown sources globally Allow/ Disallow Disallow KNOX-11-001300 addUserRestriction DISALLOW_INSTALL_UNKNOWN_SOURCES_GLOBALLY AE * Device Restrictions Trust agents Enable/Disable Disable KNOX-11-003900 setKeyguardDisabledFeatures KEYGUARD_DISABLE_TRUST_AGENTS AE * Device Restrictions Face Enable/Disable Disable KNOX-11-004100 setKeyguardDisabledFeatures KEYGUARD_DISABLE_FACE AE * Device Restrictions Debugging features Allow/ Disallow Disallow KNOX-11-005100 addUserRestriction DISALLOW_DEBUGGING_FEATURES AE * Device Restrictions USB file transfer Allow/ Disallow Disallow KNOX-11-006500, KNOX-11-006900 addUserRestriction DISALLOW_USB_FILE_TRANSFER KPE Device Wi-Fi Unsecured hotspot Allow/']\n",
      "{'source': 'all_processed_data.json', 'seq_num': 1250, 'title': 'STIG 11 COBO\"compliance', 'url': 'https://docs.samsungknox.com/admin/knox-platform-for-enterprise/knox-service-plugin/references/stig-11/stig-11-cobo-compliance', 'project': 'KSP', 'last_updated': '2023-07-26', 'family_tree': 'child', 'parent_id': 'b6ac2613-d871-4ecb-8a01-e0a69a38d2e0', 'id': 'aa58b7ab-10a0-45fa-91ae-d7a3fa679140'}\n",
      "\n",
      "Score: 0.7133247699208374\n",
      "['. PasswordPolicy setMaximumNumericSequenceLength AE Device Password Requirements Max time to screen lock 0 minutes 15 minutes KNOX-11-000500 setMaximumTimeToLock AE Device Password Requirements Max password failures fo local wipe 0+ 10 KNOX-11-000700 setMaximumFailedPasswordsForWipe AE * Device Restrictions Installs from unknown sources globally Allow/ Disallow Disallow KNOX-11-001300 addUserRestriction DISALLOW_INSTALL_UNKNOWN_SOURCES_GLOBALLY AE Device Restrictions Trust agents Disable/Enable Disable KNOX-11-003900 setKeyguardDisabledFeatures KEYGUARD_DISABLE_TRUST_AGENTS AE * Device Restrictions Face Disable/Enable Disable KNOX-11-004100 setKeyguardDisabledFeatures KEYGUARD_DISABLE_FACE AE * Device Restrictions Debugging features Allow/ Disallow Disallow KNOX-11-005100 addUserRestriction DISALLOW_DEBUGGING_FEATURES AE * Device Restrictions USB file transfer Allow/ Disallow Disallow KNOX-11-006500, KNOX-11-006900 addUserRestriction DISALLOW_USB_FILE_TRANSFER KPE Device Wi-Fi Unsecured hotspot Allow/']\n",
      "{'source': 'all_processed_data.json', 'seq_num': 1251, 'title': 'STIG 11 COPE compliance', 'url': 'https://docs.samsungknox.com/admin/knox-platform-for-enterprise/knox-service-plugin/references/stig-11/stig-11-cope-compliance', 'project': 'KSP', 'last_updated': '2023-07-26', 'family_tree': 'child', 'parent_id': '59fa3d4c-48dd-411d-a630-eceb5be75634', 'id': '22db84ab-63f3-4ae6-816e-0e944cb62675'}\n",
      "None\n",
      "##############################\n",
      "similar_docs_without_reranker\n",
      "##############################\n",
      "\n",
      "Score: 0.008360655737704918\n",
      "['. Rectangular viewfinder width Set the width of the rectangular viewfinder, specified in screen width percentage. Only active if View finder selection is set to Rectangular. Available values are 0% to 100%. Default value is 90%. Rectangular viewfinder height Set the height of the rectangular viewfinder specified in screen height percentage. Only active if View finder selection is set to Rectangular. Available values are 0% to 100%. Default value is 40%.']\n",
      "{'source': 'all_processed_data.json', 'seq_num': 566, 'title': 'Configure scan engine settings', 'url': 'https://docs.samsungknox.com/admin/knox-capture/how-to-guides/configure-scan-engine-settings', 'project': 'KCAP', 'last_updated': '2023-10-16', 'family_tree': 'child', 'parent_id': '66bb973b-a366-4b7e-89c1-c1fb531dc19c', 'id': '2cc90b44-cdfa-4c0a-8c40-9161095f475e'}\n",
      "\n",
      "Score: 0.008225806451612904\n",
      "['. Values Always use native resolution (default) Use custom resolution &mdash; Applies the values specified by the External display width, External display height, External display scale, and Internal display scale sub-policies. If the custom resolution entered is not supported, the display will revert to its native resolution. Chrome OS 99 and higher &gt; External display width (in pixels) Specifies the width of the external display. This policy only applies if the External resolution policy is set to Use custom resolution. Values Enter the display width, in pixels. If this value is unset or not supported, the display reverts to its native resolution. Chrome OS 99 and higher &gt; External display height (in pixels) Specifies the height of the external display. This policy only applies if the External resolution policy is set to Use custom resolution. Values Enter the display height, in pixels. If this value is unset or not supported, the display reverts to its native resolution']\n",
      "{'source': 'all_processed_data.json', 'seq_num': 896, 'title': 'Chrome OS policies', 'url': 'https://docs.samsungknox.com/admin/knox-manage/configure/profile/configure-profile-policies/chrome-os-policies', 'project': 'KM', 'last_updated': '2023-07-26', 'family_tree': 'child', 'parent_id': '895dc3de-830f-4d04-8408-2d4baa0737ad', 'id': '1cb5d53a-12cc-4d2f-a16d-4d370d11f925'}\n",
      "\n",
      "Score: 0.008095238095238095\n",
      "['. You can add up to 10 image files in the PNG, JPG, JPEG, or GIF format (animated files are not supported). Each image file must be less than 5 MB. To upload an image file, click Add and select a file. To delete an image file, click next to the name of the uploaded image file. Note The device control command must be transferred to the device to apply an image file to it. &gt;&gt;&gt; Video Select a video file for the screen saver. You can add only one video file in the MP4 or MKV format. The video file must be less than 50 MB. To upload a video file, click Add and select a file. To delete a video file, click next to the name of the uploaded video file. Note The device control command must be transferred to the device to apply a video to it. &gt; Session timeout Allows the use of the session timeout feature for the Kiosk Browser']\n",
      "{'source': 'all_processed_data.json', 'seq_num': 893, 'title': 'Android Enterprise policies', 'url': 'https://docs.samsungknox.com/admin/knox-manage/configure/profile/configure-profile-policies/android-enterprise-policies', 'project': 'KM', 'last_updated': '2023-09-06', 'family_tree': 'child', 'parent_id': 'a8c17c68-f501-40dd-847e-9bcd875ea03a', 'id': '7b4673c6-2986-4b47-9881-6391722ca68d'}\n",
      "\n",
      "Score: 0.008032786885245903\n",
      "[\". Invalid APK version name. Invalid APK version name. Please change the version name and try uploading again. 4090001 File too large. Max 4000 devices allowed per upload. Try splitting the device upload list to reduce the size of .csv you are uploading. Note that there is a max of 4000 devices allowed per upload. 4150000 File type is not supported. The file you are trying to upload is not supported. Knox Configure only accepts .csv files. App name cannot contain special characters. Rename the app so it does not contain any special or forbidden characters. App version is invalid. An app you are trying to upload is invalid. Verify that the version you're attempting to upload is correct. Try to re-upload the app again. CSV file is required. A system error occurred. Verify that you've attached a .csv file, try to re-attach the .csv and upload it again. If the problem persists, contact Samsung. 4040105 No CAPTCHA code entered. No CAPTCHA code was entered. Carefully enter the CAPTCHA code and submit\"]\n",
      "{'source': 'all_processed_data.json', 'seq_num': 433, 'title': 'Portal-side errors', 'url': 'https://docs.samsungknox.com/admin/knox-configure/knox-configure-wearables/troubleshoot/portal-side-errors', 'project': 'KC', 'last_updated': '2023-07-26', 'family_tree': 'child', 'parent_id': '1044085c-0477-4fd5-90b4-0a00716011b1', 'id': '80a727bf-32af-4454-af2c-775c5931f0f7'}\n",
      "\n",
      "Score: 0.00796875\n",
      "['. 7. The device now launches DeX automatically when it is plugged in to an HDMI cable. 8. Once the device is connected to DeX, a Display resolution screen displays. Select a single resolution value for the connected display. Unselected display options will be greyed out and unavailable. Keep in mind, changing the resolution makes displayed windows, text and other items appear small or larger. Options include, WQHD (2560 x 1440), FHD (1920 x 1080) _recommended setting_, HD+ (1600 x 900), WQXGA (2560 x 1600), WUXGA (1920 x 1200), or UWQHD (3440 x 1440). Select Done to commit the selected display setting. If the display resolution provided is not supported, then FHD (1920 x 1080) is selected by default and non-supported resolutions are greyed out in the DeX Display resolution screen. Industry example This example configures a tablet in DeX mode, so a bank employee can use it to help customers with day to day operations. For example opening a new account or checking account balances']\n",
      "{'source': 'all_processed_data.json', 'seq_num': 1225, 'title': 'DeX', 'url': 'https://docs.samsungknox.com/admin/knox-platform-for-enterprise/knox-service-plugin/configure-advanced-policies/dex', 'project': 'KSP', 'last_updated': '2023-07-26', 'family_tree': 'child', 'parent_id': 'ebfb07d3-7991-42b1-a6de-efccedb9d358', 'id': '77a658b4-314e-4239-bb10-13eccf76ab2b'}\n",
      "\n",
      "Score: 0.007903225806451612\n",
      "['. Max TTL - The maximum amount of time, or time to live (TTL), in seconds, that a packet can exist in a network before being discarded by the router. The default value is 64, but a number from 49 to 255 can be entered. Packet size - The size of the packet to request, in bytes. The default value is 64, but a number from 4 to 1472 can be entered. If the device user sets Packet size as 10, Interval (ms) as 1000 ms, and Timeout (ms) as 500 ms, 10 pings are sent and the interval between each ping is set to 1000 ms. A successful test requires all 10 pings to be received within 500 ms each. The ping test continues even if the device user leaves the screen, but they can stop it at any time by tapping the stop button. Otherwise, the test automatically stops once the set conditions are met. A notification is also displayed in the notification bar for the duration of the test, which the user can tap to return to the test screen']\n",
      "{'source': 'all_processed_data.json', 'seq_num': 292, 'title': 'Use the agent app', 'url': 'https://docs.samsungknox.com/admin/knox-asset-intelligence/how-to-guides/use-the-agent-app', 'project': 'KAI', 'last_updated': '2023-09-06', 'family_tree': 'child', 'parent_id': 'ea3c87c4-edeb-469a-80ad-fa72ca930ba1', 'id': '40d996fe-c60e-4bdc-8beb-bdab0898d400'}\n",
      "\n",
      "Score: 0.007846153846153846\n",
      "[\". Knox Platform for Enterprise Premium &gt; Ratio Specifies the scale of the text size on Knox Browser. Only available if the Knox Browser App and Text Scaling policies are set to Use. Values To set the scale, adjust the slider. The slider has a range of 50&ndash;200% and moves in 5% increments. Knox Platform for Enterprise Premium Force Enable Zoom Forces changing the zoom level of web pages on Knox Browser. Only available if the Knox Browser App policy is set to Use. Values Use &mdash; Adjusts the zoom level to the scale set by the Force Enable Zoom &gt; Ratio policy. Do not use &mdash; The zoom level defaults to 100%, and the user can't change it. Knox Platform for Enterprise Premium &gt; Ratio Specifies the zoom level of web pages on Knox Browser. Only available if the Knox Browser App and Text Scaling policies are set to Use. Values To set the scale, adjust the slider. The slider has a range of 100&ndash;200% and moves in 10% increments\"]\n",
      "{'source': 'all_processed_data.json', 'seq_num': 893, 'title': 'Android Enterprise policies', 'url': 'https://docs.samsungknox.com/admin/knox-manage/configure/profile/configure-profile-policies/android-enterprise-policies', 'project': 'KM', 'last_updated': '2023-09-06', 'family_tree': 'child', 'parent_id': 'caa73ec8-0840-4383-a91d-cc6d50bb1205', 'id': '9b1dcbbc-f4e8-4e33-acb3-f5ded8804a34'}\n",
      "None\n",
      "##############################\n",
      "similar_docs\n",
      "##############################\n",
      "\n",
      "Score: 0.0010733447270467877\n",
      "['. You can add up to 10 image files in the PNG, JPG, JPEG, or GIF format (animated files are not supported). Each image file must be less than 5 MB. To upload an image file, click Add and select a file. To delete an image file, click next to the name of the uploaded image file. Note The device control command must be transferred to the device to apply an image file to it. &gt;&gt;&gt; Video Select a video file for the screen saver. You can add only one video file in the MP4 or MKV format. The video file must be less than 50 MB. To upload a video file, click Add and select a file. To delete a video file, click next to the name of the uploaded video file. Note The device control command must be transferred to the device to apply a video to it. &gt; Session timeout Allows the use of the session timeout feature for the Kiosk Browser']\n",
      "{'source': 'all_processed_data.json', 'seq_num': 893, 'title': 'Android Enterprise policies', 'url': 'https://docs.samsungknox.com/admin/knox-manage/configure/profile/configure-profile-policies/android-enterprise-policies', 'project': 'KM', 'last_updated': '2023-09-06', 'family_tree': 'child', 'parent_id': 'a8c17c68-f501-40dd-847e-9bcd875ea03a', 'id': '7b4673c6-2986-4b47-9881-6391722ca68d'}\n",
      "\n",
      "Score: 0.00024694192688912153\n",
      "['. Rectangular viewfinder width Set the width of the rectangular viewfinder, specified in screen width percentage. Only active if View finder selection is set to Rectangular. Available values are 0% to 100%. Default value is 90%. Rectangular viewfinder height Set the height of the rectangular viewfinder specified in screen height percentage. Only active if View finder selection is set to Rectangular. Available values are 0% to 100%. Default value is 40%.']\n",
      "{'source': 'all_processed_data.json', 'seq_num': 566, 'title': 'Configure scan engine settings', 'url': 'https://docs.samsungknox.com/admin/knox-capture/how-to-guides/configure-scan-engine-settings', 'project': 'KCAP', 'last_updated': '2023-10-16', 'family_tree': 'child', 'parent_id': '66bb973b-a366-4b7e-89c1-c1fb531dc19c', 'id': '2cc90b44-cdfa-4c0a-8c40-9161095f475e'}\n",
      "\n",
      "Score: 0.0001050693608704023\n",
      "['. Max TTL - The maximum amount of time, or time to live (TTL), in seconds, that a packet can exist in a network before being discarded by the router. The default value is 64, but a number from 49 to 255 can be entered. Packet size - The size of the packet to request, in bytes. The default value is 64, but a number from 4 to 1472 can be entered. If the device user sets Packet size as 10, Interval (ms) as 1000 ms, and Timeout (ms) as 500 ms, 10 pings are sent and the interval between each ping is set to 1000 ms. A successful test requires all 10 pings to be received within 500 ms each. The ping test continues even if the device user leaves the screen, but they can stop it at any time by tapping the stop button. Otherwise, the test automatically stops once the set conditions are met. A notification is also displayed in the notification bar for the duration of the test, which the user can tap to return to the test screen']\n",
      "{'source': 'all_processed_data.json', 'seq_num': 292, 'title': 'Use the agent app', 'url': 'https://docs.samsungknox.com/admin/knox-asset-intelligence/how-to-guides/use-the-agent-app', 'project': 'KAI', 'last_updated': '2023-09-06', 'family_tree': 'child', 'parent_id': 'ea3c87c4-edeb-469a-80ad-fa72ca930ba1', 'id': '40d996fe-c60e-4bdc-8beb-bdab0898d400'}\n",
      "\n",
      "Score: 0.00010467944957781583\n",
      "['. Values Always use native resolution (default) Use custom resolution &mdash; Applies the values specified by the External display width, External display height, External display scale, and Internal display scale sub-policies. If the custom resolution entered is not supported, the display will revert to its native resolution. Chrome OS 99 and higher &gt; External display width (in pixels) Specifies the width of the external display. This policy only applies if the External resolution policy is set to Use custom resolution. Values Enter the display width, in pixels. If this value is unset or not supported, the display reverts to its native resolution. Chrome OS 99 and higher &gt; External display height (in pixels) Specifies the height of the external display. This policy only applies if the External resolution policy is set to Use custom resolution. Values Enter the display height, in pixels. If this value is unset or not supported, the display reverts to its native resolution']\n",
      "{'source': 'all_processed_data.json', 'seq_num': 896, 'title': 'Chrome OS policies', 'url': 'https://docs.samsungknox.com/admin/knox-manage/configure/profile/configure-profile-policies/chrome-os-policies', 'project': 'KM', 'last_updated': '2023-07-26', 'family_tree': 'child', 'parent_id': '895dc3de-830f-4d04-8408-2d4baa0737ad', 'id': '1cb5d53a-12cc-4d2f-a16d-4d370d11f925'}\n",
      "\n",
      "Score: 6.534139538416639e-05\n",
      "[\". Invalid APK version name. Invalid APK version name. Please change the version name and try uploading again. 4090001 File too large. Max 4000 devices allowed per upload. Try splitting the device upload list to reduce the size of .csv you are uploading. Note that there is a max of 4000 devices allowed per upload. 4150000 File type is not supported. The file you are trying to upload is not supported. Knox Configure only accepts .csv files. App name cannot contain special characters. Rename the app so it does not contain any special or forbidden characters. App version is invalid. An app you are trying to upload is invalid. Verify that the version you're attempting to upload is correct. Try to re-upload the app again. CSV file is required. A system error occurred. Verify that you've attached a .csv file, try to re-attach the .csv and upload it again. If the problem persists, contact Samsung. 4040105 No CAPTCHA code entered. No CAPTCHA code was entered. Carefully enter the CAPTCHA code and submit\"]\n",
      "{'source': 'all_processed_data.json', 'seq_num': 433, 'title': 'Portal-side errors', 'url': 'https://docs.samsungknox.com/admin/knox-configure/knox-configure-wearables/troubleshoot/portal-side-errors', 'project': 'KC', 'last_updated': '2023-07-26', 'family_tree': 'child', 'parent_id': '1044085c-0477-4fd5-90b4-0a00716011b1', 'id': '80a727bf-32af-4454-af2c-775c5931f0f7'}\n",
      "None\n",
      "\n",
      "\n",
      "The maximum video file size that can be added is 50 MB. The context states: \"You can add only one video file in the MP4 or MKV format. The video file must be less than 50 MB.\""
     ]
    }
   ],
   "source": [
    "query = \"vidio max size?\"\n",
    "response = qa(query)"
   ]
  },
  {
   "cell_type": "code",
   "execution_count": 34,
   "id": "01e77dad-dc19-416b-80e7-19fac3b736a5",
   "metadata": {
    "tags": []
   },
   "outputs": [
    {
     "name": "stdout",
     "output_type": "stream",
     "text": [
      "##################################\n",
      "query:  vidio max size?\n",
      "##################################\n",
      "\u001b[34m\n",
      "\n",
      "### Answer ###\u001b[0m\n",
      "\n",
      "\n",
      "The maximum video file size that can be added is 50 MB. The context states: \"You can add only one\n",
      "video file in the MP4 or MKV format. The video file must be less than 50 MB.\"\n",
      "\u001b[32m\n",
      "\n",
      "### Contexts ###\u001b[0m\n",
      "-----------------------------------------------\n",
      "1. Chunk: 839 Characters\n",
      "-----------------------------------------------\n",
      ". You can add up to 10 image files in the PNG, JPG, JPEG, or GIF format (animated files are not\n",
      "supported). Each image file must be less than 5 MB. To upload an image file, click Add and select a\n",
      "file. To delete an image file, click next to the name of the uploaded image file. Note The device\n",
      "control command must be transferred to the device to apply an image file to it. &gt;&gt;&gt; Video\n",
      "Select a video file for the screen saver. You can add only one video file in the MP4 or MKV format.\n",
      "The video file must be less than 50 MB. To upload a video file, click Add and select a file. To\n",
      "delete a video file, click next to the name of the uploaded video file. Note The device control\n",
      "command must be transferred to the device to apply a video to it. &gt; Session timeout Allows the\n",
      "use of the session timeout feature for the Kiosk Browser\n",
      "metadata:\n",
      " {'source': 'all_processed_data.json', 'seq_num': 893, 'title': 'Android Enterprise policies',\n",
      "'url': 'https://docs.samsungknox.com/admin/knox-manage/configure/profile/configure-profile-\n",
      "policies/android-enterprise-policies', 'project': 'KM', 'last_updated': '2023-09-06', 'family_tree':\n",
      "'child', 'parent_id': 'a8c17c68-f501-40dd-847e-9bcd875ea03a', 'id':\n",
      "'7b4673c6-2986-4b47-9881-6391722ca68d'}\n",
      "-----------------------------------------------\n",
      "2. Chunk: 457 Characters\n",
      "-----------------------------------------------\n",
      ". Rectangular viewfinder width Set the width of the rectangular viewfinder, specified in screen\n",
      "width percentage. Only active if View finder selection is set to Rectangular. Available values are\n",
      "0% to 100%. Default value is 90%. Rectangular viewfinder height Set the height of the rectangular\n",
      "viewfinder specified in screen height percentage. Only active if View finder selection is set to\n",
      "Rectangular. Available values are 0% to 100%. Default value is 40%.\n",
      "metadata:\n",
      " {'source': 'all_processed_data.json', 'seq_num': 566, 'title': 'Configure scan engine settings',\n",
      "'url': 'https://docs.samsungknox.com/admin/knox-capture/how-to-guides/configure-scan-engine-\n",
      "settings', 'project': 'KCAP', 'last_updated': '2023-10-16', 'family_tree': 'child', 'parent_id':\n",
      "'66bb973b-a366-4b7e-89c1-c1fb531dc19c', 'id': '2cc90b44-cdfa-4c0a-8c40-9161095f475e'}\n",
      "-----------------------------------------------\n",
      "3. Chunk: 930 Characters\n",
      "-----------------------------------------------\n",
      ". Max TTL - The maximum amount of time, or time to live (TTL), in seconds, that a packet can exist\n",
      "in a network before being discarded by the router. The default value is 64, but a number from 49 to\n",
      "255 can be entered. Packet size - The size of the packet to request, in bytes. The default value is\n",
      "64, but a number from 4 to 1472 can be entered. If the device user sets Packet size as 10, Interval\n",
      "(ms) as 1000 ms, and Timeout (ms) as 500 ms, 10 pings are sent and the interval between each ping is\n",
      "set to 1000 ms. A successful test requires all 10 pings to be received within 500 ms each. The ping\n",
      "test continues even if the device user leaves the screen, but they can stop it at any time by\n",
      "tapping the stop button. Otherwise, the test automatically stops once the set conditions are met. A\n",
      "notification is also displayed in the notification bar for the duration of the test, which the user\n",
      "can tap to return to the test screen\n",
      "metadata:\n",
      " {'source': 'all_processed_data.json', 'seq_num': 292, 'title': 'Use the agent app', 'url':\n",
      "'https://docs.samsungknox.com/admin/knox-asset-intelligence/how-to-guides/use-the-agent-app',\n",
      "'project': 'KAI', 'last_updated': '2023-09-06', 'family_tree': 'child', 'parent_id':\n",
      "'ea3c87c4-edeb-469a-80ad-fa72ca930ba1', 'id': '40d996fe-c60e-4bdc-8beb-bdab0898d400'}\n",
      "-----------------------------------------------\n",
      "4. Chunk: 992 Characters\n",
      "-----------------------------------------------\n",
      ". Values Always use native resolution (default) Use custom resolution &mdash; Applies the values\n",
      "specified by the External display width, External display height, External display scale, and\n",
      "Internal display scale sub-policies. If the custom resolution entered is not supported, the display\n",
      "will revert to its native resolution. Chrome OS 99 and higher &gt; External display width (in\n",
      "pixels) Specifies the width of the external display. This policy only applies if the External\n",
      "resolution policy is set to Use custom resolution. Values Enter the display width, in pixels. If\n",
      "this value is unset or not supported, the display reverts to its native resolution. Chrome OS 99 and\n",
      "higher &gt; External display height (in pixels) Specifies the height of the external display. This\n",
      "policy only applies if the External resolution policy is set to Use custom resolution. Values Enter\n",
      "the display height, in pixels. If this value is unset or not supported, the display reverts to its\n",
      "native resolution\n",
      "metadata:\n",
      " {'source': 'all_processed_data.json', 'seq_num': 896, 'title': 'Chrome OS policies', 'url':\n",
      "'https://docs.samsungknox.com/admin/knox-manage/configure/profile/configure-profile-policies/chrome-\n",
      "os-policies', 'project': 'KM', 'last_updated': '2023-07-26', 'family_tree': 'child', 'parent_id':\n",
      "'895dc3de-830f-4d04-8408-2d4baa0737ad', 'id': '1cb5d53a-12cc-4d2f-a16d-4d370d11f925'}\n",
      "-----------------------------------------------\n",
      "5. Chunk: 1008 Characters\n",
      "-----------------------------------------------\n",
      ". Invalid APK version name. Invalid APK version name. Please change the version name and try\n",
      "uploading again. 4090001 File too large. Max 4000 devices allowed per upload. Try splitting the\n",
      "device upload list to reduce the size of .csv you are uploading. Note that there is a max of 4000\n",
      "devices allowed per upload. 4150000 File type is not supported. The file you are trying to upload is\n",
      "not supported. Knox Configure only accepts .csv files. App name cannot contain special characters.\n",
      "Rename the app so it does not contain any special or forbidden characters. App version is invalid.\n",
      "An app you are trying to upload is invalid. Verify that the version you're attempting to upload is\n",
      "correct. Try to re-upload the app again. CSV file is required. A system error occurred. Verify that\n",
      "you've attached a .csv file, try to re-attach the .csv and upload it again. If the problem persists,\n",
      "contact Samsung. 4040105 No CAPTCHA code entered. No CAPTCHA code was entered. Carefully enter the\n",
      "CAPTCHA code and submit\n",
      "metadata:\n",
      " {'source': 'all_processed_data.json', 'seq_num': 433, 'title': 'Portal-side errors', 'url':\n",
      "'https://docs.samsungknox.com/admin/knox-configure/knox-configure-wearables/troubleshoot/portal-\n",
      "side-errors', 'project': 'KC', 'last_updated': '2023-07-26', 'family_tree': 'child', 'parent_id':\n",
      "'1044085c-0477-4fd5-90b4-0a00716011b1', 'id': '80a727bf-32af-4454-af2c-775c5931f0f7'}\n"
     ]
    }
   ],
   "source": [
    "print(\"##################################\")\n",
    "print(\"query: \", query)\n",
    "print(\"##################################\")\n",
    "\n",
    "print (colored(\"\\n\\n### Answer ###\", \"blue\"))\n",
    "print_ww(response['result'])\n",
    "\n",
    "print (colored(\"\\n\\n### Contexts ###\", \"green\"))\n",
    "show_context_used(response['source_documents'])"
   ]
  },
  {
   "cell_type": "code",
   "execution_count": null,
   "id": "ab0d1ef1-8a66-4530-9080-94671c1402ce",
   "metadata": {},
   "outputs": [],
   "source": []
  },
  {
   "cell_type": "code",
   "execution_count": null,
   "id": "21b1a2a9-a914-4b61-8e8f-3523997f2181",
   "metadata": {},
   "outputs": [],
   "source": []
  },
  {
   "cell_type": "code",
   "execution_count": null,
   "id": "d6653b87-015b-4b2c-872b-26772b22c266",
   "metadata": {},
   "outputs": [],
   "source": []
  },
  {
   "cell_type": "code",
   "execution_count": null,
   "id": "995dbeec-9be1-498f-8732-465abe3eb723",
   "metadata": {},
   "outputs": [],
   "source": []
  },
  {
   "cell_type": "code",
   "execution_count": null,
   "id": "c6f437e5-7f85-469e-bf27-17fedafcf1bb",
   "metadata": {},
   "outputs": [],
   "source": [
    "#!pip install -U FlagEmbedding\n",
    "%%time\n",
    "from FlagEmbedding import FlagReranker\n",
    "reranker = FlagReranker('BAAI/bge-reranker-large', use_fp16=False) # Setting use_fp16 to True speeds up computation with a slight performance degradation\n",
    "\n",
    "score = reranker.compute_score(['query', 'passage'])\n",
    "print(score)\n",
    "\n",
    "scores = reranker.compute_score([['what is panda?', 'hi'], ['what is panda?', 'The giant panda (Ailuropoda melanoleuca), sometimes called a panda bear or simply panda, is a bear species endemic to China.']])\n",
    "print(scores)"
   ]
  }
 ],
 "metadata": {
  "kernelspec": {
   "display_name": "conda_python3",
   "language": "python",
   "name": "conda_python3"
  },
  "language_info": {
   "codemirror_mode": {
    "name": "ipython",
    "version": 3
   },
   "file_extension": ".py",
   "mimetype": "text/x-python",
   "name": "python",
   "nbconvert_exporter": "python",
   "pygments_lexer": "ipython3",
   "version": "3.10.13"
  },
  "vscode": {
   "interpreter": {
    "hash": "4b8e647a79df62bf31906a725b05de775d285962ac600487339d38c51a5c07b1"
   }
  }
 },
 "nbformat": 4,
 "nbformat_minor": 5
}
