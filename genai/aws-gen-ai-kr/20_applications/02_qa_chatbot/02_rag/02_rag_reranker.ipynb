{
 "cells": [
  {
   "cell_type": "markdown",
   "id": "00cf0287-4f34-423d-a25b-83e92acdb5d7",
   "metadata": {},
   "source": [
    "# RAG Based on ReRanker\n",
    "- Hybrid Search\n",
    "- ReRanker"
   ]
  },
  {
   "cell_type": "markdown",
   "id": "b1f81abc-3277-4a6b-9ef1-d4f997d67fbe",
   "metadata": {},
   "source": [
    "## Setting\n",
    " - Auto Reload\n",
    " - path for utils"
   ]
  },
  {
   "cell_type": "code",
   "execution_count": 1,
   "id": "ddde4105-b759-4d6c-8214-8e1ab485ae48",
   "metadata": {
    "tags": []
   },
   "outputs": [],
   "source": [
    "%load_ext autoreload\n",
    "%autoreload 2"
   ]
  },
  {
   "cell_type": "code",
   "execution_count": 2,
   "id": "57c2cdb1-d785-4317-afce-938f13141085",
   "metadata": {
    "tags": []
   },
   "outputs": [],
   "source": [
    "import sys, os\n",
    "module_path = \"../../..\"\n",
    "sys.path.append(os.path.abspath(module_path))"
   ]
  },
  {
   "cell_type": "markdown",
   "id": "9c4ade56-8dbc-4ded-b355-7e4bcc971e90",
   "metadata": {},
   "source": [
    "## 1. Bedrock Client 생성"
   ]
  },
  {
   "cell_type": "code",
   "execution_count": 3,
   "id": "cc2d877f-e877-48f6-8dd4-239de20e45cd",
   "metadata": {
    "tags": []
   },
   "outputs": [],
   "source": [
    "import json\n",
    "import boto3\n",
    "from pprint import pprint\n",
    "from termcolor import colored\n",
    "from utils import bedrock, print_ww\n",
    "from utils.bedrock import bedrock_info"
   ]
  },
  {
   "cell_type": "markdown",
   "id": "088e6490-c79a-49e4-841c-9fdb91292608",
   "metadata": {},
   "source": [
    "### ---- ⚠️ Un-comment and edit the below lines as needed for your AWS setup ⚠️ ----\n",
    "- os.environ[\"AWS_DEFAULT_REGION\"] = \"<REGION_NAME>\"  # E.g. \"us-east-1\"\n",
    "- os.environ[\"AWS_PROFILE\"] = \"<YOUR_PROFILE>\"\n",
    "- os.environ[\"BEDROCK_ASSUME_ROLE\"] = \"<YOUR_ROLE_ARN>\"  # E.g. \"arn:aws:...\"\n",
    "- os.environ[\"BEDROCK_ENDPOINT_URL\"] = \"<YOUR_ENDPOINT_URL>\"  # E.g. \"https://...\""
   ]
  },
  {
   "cell_type": "code",
   "execution_count": 4,
   "id": "cab9312c-5f61-4730-96c3-5eef54a5f08c",
   "metadata": {
    "tags": []
   },
   "outputs": [
    {
     "name": "stdout",
     "output_type": "stream",
     "text": [
      "Create new client\n",
      "  Using region: None\n",
      "  Using profile: None\n",
      "boto3 Bedrock client successfully created!\n",
      "bedrock-runtime(https://bedrock-runtime.us-east-1.amazonaws.com)\n",
      "\u001b[32m\n",
      "== FM lists ==\u001b[0m\n",
      "{'Claude-Instant-V1': 'anthropic.claude-instant-v1',\n",
      " 'Claude-V1': 'anthropic.claude-v1',\n",
      " 'Claude-V2': 'anthropic.claude-v2',\n",
      " 'Claude-V2-1': 'anthropic.claude-v2:1',\n",
      " 'Claude-V3-Haiku': 'anthropic.claude-3-haiku-20240307-v1:0',\n",
      " 'Claude-V3-Sonnet': 'anthropic.claude-3-sonnet-20240229-v1:0',\n",
      " 'Cohere-Embeddings-En': 'cohere.embed-english-v3',\n",
      " 'Cohere-Embeddings-Multilingual': 'cohere.embed-multilingual-v3',\n",
      " 'Command': 'cohere.command-text-v14',\n",
      " 'Command-Light': 'cohere.command-light-text-v14',\n",
      " 'Jurassic-2-Mid': 'ai21.j2-mid-v1',\n",
      " 'Jurassic-2-Ultra': 'ai21.j2-ultra-v1',\n",
      " 'Llama2-13b-Chat': 'meta.llama2-13b-chat-v1',\n",
      " 'Titan-Embeddings-G1': 'amazon.titan-embed-text-v1',\n",
      " 'Titan-Text-Embeddings-V2': 'amazon.titan-embed-text-v2:0',\n",
      " 'Titan-Text-G1': 'amazon.titan-text-express-v1',\n",
      " 'Titan-Text-G1-Express': 'amazon.titan-text-express-v1',\n",
      " 'Titan-Text-G1-Light': 'amazon.titan-text-lite-v1',\n",
      " 'Titan-Text-G1-Premier': 'amazon.titan-text-premier-v1:0'}\n"
     ]
    }
   ],
   "source": [
    "boto3_bedrock = bedrock.get_bedrock_client(\n",
    "    assumed_role=os.environ.get(\"BEDROCK_ASSUME_ROLE\", None),\n",
    "    endpoint_url=os.environ.get(\"BEDROCK_ENDPOINT_URL\", None),\n",
    "    region=os.environ.get(\"AWS_DEFAULT_REGION\", None),\n",
    ")\n",
    "\n",
    "aws_region = os.environ.get(\"AWS_DEFAULT_REGION\", None)\n",
    "print (colored(\"\\n== FM lists ==\", \"green\"))\n",
    "pprint (bedrock_info.get_list_fm_models())"
   ]
  },
  {
   "cell_type": "markdown",
   "id": "241a9e34-417a-422f-9f75-cb211b2e70e1",
   "metadata": {
    "tags": []
   },
   "source": [
    "## 2. Titan Embedding 및 LLM 인 Claude-v3 모델 로딩"
   ]
  },
  {
   "cell_type": "markdown",
   "id": "29bf63d2-4110-407c-af06-a45d2fbed4b5",
   "metadata": {},
   "source": [
    "### LLM 로딩 (Claude-v3)"
   ]
  },
  {
   "cell_type": "code",
   "execution_count": 5,
   "id": "9c51443a-04f9-465c-9564-53053eb3e1c2",
   "metadata": {
    "tags": []
   },
   "outputs": [],
   "source": [
    "from langchain_aws import ChatBedrock\n",
    "from langchain.callbacks.streaming_stdout import StreamingStdOutCallbackHandler"
   ]
  },
  {
   "cell_type": "code",
   "execution_count": 6,
   "id": "d09e84e0-b9e1-4b12-8e7a-68f03c5416e5",
   "metadata": {
    "tags": []
   },
   "outputs": [
    {
     "data": {
      "text/plain": [
       "ChatBedrock(callbacks=[<langchain_core.callbacks.streaming_stdout.StreamingStdOutCallbackHandler object at 0x7eff0cf3fb20>], client=<botocore.client.BedrockRuntime object at 0x7efef0e2c9a0>, model_id='anthropic.claude-3-haiku-20240307-v1:0', model_kwargs={'max_tokens': 1024, 'stop_sequences': ['\\n\\nHuman']}, streaming=True)"
      ]
     },
     "execution_count": 6,
     "metadata": {},
     "output_type": "execute_result"
    }
   ],
   "source": [
    "llm_text = ChatBedrock(\n",
    "    model_id=bedrock_info.get_model_id(model_name=\"Claude-V3-Haiku\"),\n",
    "    client=boto3_bedrock,\n",
    "    model_kwargs={\n",
    "        \"max_tokens\": 1024,\n",
    "        \"stop_sequences\": [\"\\n\\nHuman\"],\n",
    "    },\n",
    "    streaming=True,\n",
    "    callbacks=[StreamingStdOutCallbackHandler()],\n",
    ")\n",
    "llm_text"
   ]
  },
  {
   "cell_type": "markdown",
   "id": "3ba2e829-af8f-4e90-b994-59106cdec8d8",
   "metadata": {},
   "source": [
    "### Embedding 모델 선택"
   ]
  },
  {
   "cell_type": "code",
   "execution_count": 7,
   "id": "0b7b8752-d1e3-4f41-ba35-6da42c3785db",
   "metadata": {
    "tags": []
   },
   "outputs": [],
   "source": [
    "from utils.rag import KoSimCSERobertaContentHandler, SagemakerEndpointEmbeddingsJumpStart"
   ]
  },
  {
   "cell_type": "code",
   "execution_count": 8,
   "id": "793b03f7-3186-4969-b76a-98fe56bd5fdc",
   "metadata": {
    "tags": []
   },
   "outputs": [],
   "source": [
    "def get_embedding_model(is_bedrock_embeddings, is_KoSimCSERobert, aws_region, endpont_name=None):\n",
    "    \n",
    "    if is_bedrock_embeddings:\n",
    "        # We will be using the Titan Embeddings Model to generate our Embeddings.\n",
    "        from langchain.embeddings import BedrockEmbeddings\n",
    "        llm_emb = BedrockEmbeddings(\n",
    "            client=boto3_bedrock,\n",
    "            model_id=bedrock_info.get_model_id(\n",
    "                model_name=\"Titan-Embeddings-G1\"\n",
    "            )\n",
    "        )\n",
    "        print(\"Bedrock Embeddings Model Loaded\")\n",
    "\n",
    "    elif is_KoSimCSERobert:\n",
    "        LLMEmbHandler = KoSimCSERobertaContentHandler()\n",
    "        endpoint_name_emb = endpont_name\n",
    "        llm_emb = SagemakerEndpointEmbeddingsJumpStart(\n",
    "            endpoint_name=endpoint_name_emb,\n",
    "            region_name=aws_region,\n",
    "            content_handler=LLMEmbHandler,\n",
    "        )        \n",
    "        print(\"KoSimCSERobert Embeddings Model Loaded\")\n",
    "    else:\n",
    "        llm_emb = None\n",
    "        print(\"No Embedding Model Selected\")\n",
    "    \n",
    "    return llm_emb"
   ]
  },
  {
   "cell_type": "markdown",
   "id": "cd72a6b8-eaf0-4036-a530-3bde5ba988cd",
   "metadata": {},
   "source": [
    "#### [중요] is_KoSimCSERobert == True 일시에 endpoint_name 을 꼭 넣어 주세요."
   ]
  },
  {
   "cell_type": "code",
   "execution_count": 9,
   "id": "f42e032b-8715-432c-ae71-12a889f8ffc0",
   "metadata": {
    "tags": []
   },
   "outputs": [
    {
     "name": "stdout",
     "output_type": "stream",
     "text": [
      "Bedrock Embeddings Model Loaded\n"
     ]
    }
   ],
   "source": [
    "is_bedrock_embeddings = True\n",
    "is_KoSimCSERobert = False\n",
    "aws_region = os.environ.get(\"AWS_DEFAULT_REGION\", None)\n",
    "\n",
    "##############################\n",
    "# Parameters for is_KoSimCSERobert\n",
    "##############################\n",
    "if is_KoSimCSERobert: endpont_name = \"<endpoint-name>\"\n",
    "else: endpont_name = None\n",
    "##############################\n",
    "\n",
    "llm_emb = get_embedding_model(is_bedrock_embeddings, is_KoSimCSERobert, aws_region, endpont_name)   "
   ]
  },
  {
   "cell_type": "markdown",
   "id": "e10b67d5-382e-4715-a841-eb07b8655da8",
   "metadata": {},
   "source": [
    "## 3. Depoly ReRanker model (if needed)"
   ]
  },
  {
   "cell_type": "code",
   "execution_count": 10,
   "id": "9a08a296-41ef-44cb-857b-63d05a8d187c",
   "metadata": {
    "tags": []
   },
   "outputs": [
    {
     "name": "stdout",
     "output_type": "stream",
     "text": [
      "sagemaker.config INFO - Not applying SDK defaults from location: /etc/xdg/sagemaker/config.yaml\n",
      "sagemaker.config INFO - Not applying SDK defaults from location: /home/ec2-user/.config/sagemaker/config.yaml\n"
     ]
    }
   ],
   "source": [
    "import json\n",
    "import sagemaker\n",
    "from sagemaker.huggingface import HuggingFaceModel"
   ]
  },
  {
   "cell_type": "code",
   "execution_count": 11,
   "id": "33dd04a7-8200-49e7-ae69-55a82be199b4",
   "metadata": {
    "tags": []
   },
   "outputs": [],
   "source": [
    "depoly = True"
   ]
  },
  {
   "cell_type": "markdown",
   "id": "ecbfd5d7-0fc0-4b00-8106-1e239e44f7c7",
   "metadata": {
    "tags": []
   },
   "source": [
    "* Korean fune-tuned model\n",
    "    - hugging face: https://huggingface.co/Dongjin-kr/ko-reranker\n",
    "    - git repo: https://github.com/aws-samples/aws-ai-ml-workshop-kr/tree/master/genai/aws-gen-ai-kr/30_fine_tune/reranker-kr"
   ]
  },
  {
   "cell_type": "code",
   "execution_count": 12,
   "id": "9d40e3dd-a19f-4af3-831a-0cfe79e72cb3",
   "metadata": {
    "tags": []
   },
   "outputs": [
    {
     "name": "stdout",
     "output_type": "stream",
     "text": [
      "---------!"
     ]
    },
    {
     "name": "stderr",
     "output_type": "stream",
     "text": [
      "WARNING:sagemaker.deprecations:The endpoint attribute has been renamed in sagemaker>=2.\n",
      "See: https://sagemaker.readthedocs.io/en/stable/v2.html for details.\n"
     ]
    },
    {
     "name": "stdout",
     "output_type": "stream",
     "text": [
      "Accept: ('application/json',)\n",
      "ContentType: application/json\n",
      "Endpoint: huggingface-pytorch-inference-2024-05-09-08-47-31-507\n"
     ]
    }
   ],
   "source": [
    "if depoly:\n",
    "\n",
    "    try:\n",
    "        role = sagemaker.get_execution_role()\n",
    "    except ValueError:\n",
    "        iam = boto3.client('iam')\n",
    "        role = iam.get_role(RoleName='sagemaker_execution_role')['Role']['Arn']\n",
    "\n",
    "    # Hub Model configuration. https://huggingface.co/models\n",
    "    hub = {\n",
    "        'HF_MODEL_ID':'Dongjin-kr/ko-reranker',\n",
    "        'HF_TASK':'text-classification'\n",
    "    }\n",
    "\n",
    "    # create Hugging Face Model Class\n",
    "    huggingface_model = HuggingFaceModel(\n",
    "        transformers_version='4.28.1',\n",
    "        pytorch_version='2.0.0',\n",
    "        py_version='py310',\n",
    "        env=hub,\n",
    "        role=role, \n",
    "    )\n",
    "\n",
    "    # deploy model to SageMaker Inference\n",
    "    predictor = huggingface_model.deploy(\n",
    "        initial_instance_count=3, # number of instances\n",
    "        instance_type='ml.g5.xlarge' # instance type\n",
    "    )\n",
    "\n",
    "    print(f'Accept: {predictor.accept}')\n",
    "    print(f'ContentType: {predictor.content_type}')\n",
    "    print(f'Endpoint: {predictor.endpoint}')"
   ]
  },
  {
   "cell_type": "markdown",
   "id": "122a9f20-f531-49cc-8947-50a2973b49d2",
   "metadata": {},
   "source": [
    "#### Save reranker endpoint to Parameter Store"
   ]
  },
  {
   "cell_type": "code",
   "execution_count": 13,
   "id": "1070c5d9-b202-4b8c-a1ee-cb7fea9f87c3",
   "metadata": {
    "tags": []
   },
   "outputs": [],
   "source": [
    "import boto3\n",
    "from utils.ssm import parameter_store"
   ]
  },
  {
   "cell_type": "code",
   "execution_count": 14,
   "id": "982cf902-d408-48c9-883b-0c7dd9a827bf",
   "metadata": {
    "tags": []
   },
   "outputs": [],
   "source": [
    "region=boto3.Session().region_name\n",
    "pm = parameter_store(region)"
   ]
  },
  {
   "cell_type": "code",
   "execution_count": 15,
   "id": "5948269e-28ea-480c-a718-9cb2f53e71fa",
   "metadata": {
    "tags": []
   },
   "outputs": [
    {
     "name": "stderr",
     "output_type": "stream",
     "text": [
      "WARNING:sagemaker.deprecations:The endpoint attribute has been renamed in sagemaker>=2.\n",
      "See: https://sagemaker.readthedocs.io/en/stable/v2.html for details.\n"
     ]
    },
    {
     "name": "stdout",
     "output_type": "stream",
     "text": [
      "Parameter stored successfully.\n"
     ]
    }
   ],
   "source": [
    "pm.put_params(\n",
    "    key=\"reranker_endpoint\",\n",
    "    value=f'{predictor.endpoint}',\n",
    "    overwrite=True,\n",
    "    enc=False\n",
    ")"
   ]
  },
  {
   "cell_type": "markdown",
   "id": "20e648ef-01ec-4e2f-ba88-7d2510fdb7a6",
   "metadata": {},
   "source": [
    "## 4. Invocation (prediction)"
   ]
  },
  {
   "cell_type": "code",
   "execution_count": 16,
   "id": "114be617-a687-4733-abb9-30394c7ef35f",
   "metadata": {
    "tags": []
   },
   "outputs": [
    {
     "name": "stdout",
     "output_type": "stream",
     "text": [
      "runtime_client: <botocore.client.SageMakerRuntime object at 0x7efe6c4a8d00>\n"
     ]
    }
   ],
   "source": [
    "runtime_client = boto3.Session().client('sagemaker-runtime')\n",
    "print (f'runtime_client: {runtime_client}')"
   ]
  },
  {
   "cell_type": "code",
   "execution_count": 17,
   "id": "26ee5c45-de87-4a2b-bc04-bbc649fcd0c6",
   "metadata": {
    "tags": []
   },
   "outputs": [],
   "source": [
    "endpoint_name = pm.get_params(\n",
    "    key=\"reranker_endpoint\",\n",
    "    enc=False\n",
    ")\n",
    "deserializer = \"application/json\""
   ]
  },
  {
   "cell_type": "code",
   "execution_count": 18,
   "id": "bd6288ed-b4fa-466f-9e2b-57484b827b0a",
   "metadata": {
    "tags": []
   },
   "outputs": [],
   "source": [
    "payload = json.dumps(\n",
    "    {\n",
    "        \"inputs\": [\n",
    "            {\"text\": \"I hate you\", \"text_pair\": \"I don't like you\"},\n",
    "            {\"text\": \"He hates you\", \"text_pair\": \"He like you\"},\n",
    "            {\"text\": \"그는 너를 싫어해\", \"text_pair\": \"그는 너를 좋아해\"},\n",
    "        ]\n",
    "    }\n",
    ")"
   ]
  },
  {
   "cell_type": "code",
   "execution_count": 19,
   "id": "c1eebe88-8b92-4e81-a103-b5a5d7a91bb3",
   "metadata": {
    "tags": []
   },
   "outputs": [
    {
     "name": "stdout",
     "output_type": "stream",
     "text": [
      "Response: [{'label': 'LABEL_0', 'score': 0.9987371563911438}, {'label': 'LABEL_0', 'score': 0.0028581616934388876}, {'label': 'LABEL_0', 'score': 0.004707992542535067}]\n",
      "CPU times: user 14.2 ms, sys: 210 µs, total: 14.4 ms\n",
      "Wall time: 1.1 s\n"
     ]
    }
   ],
   "source": [
    "%%time\n",
    "response = runtime_client.invoke_endpoint(\n",
    "    EndpointName=endpoint_name,\n",
    "    ContentType=\"application/json\",\n",
    "    Accept=deserializer,\n",
    "    Body=payload\n",
    ")\n",
    "## deserialization\n",
    "out = json.loads(response['Body'].read().decode()) ## for json\n",
    "print (f'Response: {out}')"
   ]
  },
  {
   "cell_type": "markdown",
   "id": "7e432237-b9b5-4be3-aa0c-c30eeca6f480",
   "metadata": {},
   "source": [
    "## 5. LangChainmOpenSearch VectorStore 정의\n",
    "### 선수 조건\n",
    "- 01_preprocess_docs/02_load_docs_opensearch.ipynb를 통해서 OpenSearch Index 가 생성이 되어 있어야 합니다.\n",
    "#### [중요] 아래에 aws parameter store 에 아래 인증정보가 먼저 입력되어 있어야 합니다.\n",
    "- 01_preprocess_docs/01_parameter_store_example.ipynb 참고"
   ]
  },
  {
   "cell_type": "code",
   "execution_count": 65,
   "id": "42d192b6-68ce-465e-9fa7-04b5201f4453",
   "metadata": {
    "tags": []
   },
   "outputs": [],
   "source": [
    "opensearch_domain_endpoint = pm.get_params(\n",
    "    key=\"opensearch_domain_endpoint\",\n",
    "    enc=False\n",
    ")\n",
    "\n",
    "opensearch_user_id = pm.get_params(\n",
    "    key=\"opensearch_user_id\",\n",
    "    enc=False\n",
    ")\n",
    "\n",
    "opensearch_user_password = pm.get_params(\n",
    "    key=\"opensearch_user_password\",\n",
    "    enc=True\n",
    ")"
   ]
  },
  {
   "cell_type": "code",
   "execution_count": 66,
   "id": "fc7866fd-fd9c-4b41-b600-a91e43edfe4d",
   "metadata": {
    "tags": []
   },
   "outputs": [],
   "source": [
    "opensearch_domain_endpoint = opensearch_domain_endpoint\n",
    "rag_user_name = opensearch_user_id\n",
    "rag_user_password = opensearch_user_password\n",
    "\n",
    "http_auth = (rag_user_name, rag_user_password) # Master username, Master password"
   ]
  },
  {
   "cell_type": "markdown",
   "id": "161a900e-effc-4d7f-a179-b6c00eac03ad",
   "metadata": {
    "tags": []
   },
   "source": [
    "### Index 이름 셋팅\n",
    "- 이전 노트북 01_preprocess_docs/02_load_docs_opensearch.ipynb를 통해서 생성된 OpenSearch Index name 입력"
   ]
  },
  {
   "cell_type": "code",
   "execution_count": 67,
   "id": "d5d9b5eb-052e-4e84-846b-c5385e853ba4",
   "metadata": {
    "tags": []
   },
   "outputs": [
    {
     "name": "stdout",
     "output_type": "stream",
     "text": [
      "index_name: v1-faq-shinhan-bank\n"
     ]
    }
   ],
   "source": [
    "index_name = opensearch_user_password = pm.get_params(\n",
    "    key=\"opensearch_index_name\",\n",
    "    enc=True\n",
    ")\n",
    "\n",
    "print (f'index_name: {index_name}')"
   ]
  },
  {
   "cell_type": "markdown",
   "id": "482f5785-b88d-44fa-a603-080e4bd734a6",
   "metadata": {},
   "source": [
    "### OpenSearch Client 생성"
   ]
  },
  {
   "cell_type": "code",
   "execution_count": 68,
   "id": "968b7502-5799-4702-bc17-959e88c330a2",
   "metadata": {
    "tags": []
   },
   "outputs": [],
   "source": [
    "from utils.opensearch import opensearch_utils"
   ]
  },
  {
   "cell_type": "code",
   "execution_count": 69,
   "id": "6ceb46a1-e425-4f7e-9319-793b55abb938",
   "metadata": {
    "tags": []
   },
   "outputs": [],
   "source": [
    "os_client = opensearch_utils.create_aws_opensearch_client(\n",
    "    aws_region,\n",
    "    opensearch_domain_endpoint,\n",
    "    http_auth\n",
    ")"
   ]
  },
  {
   "cell_type": "markdown",
   "id": "a5084376-7523-4cf9-9123-adc4ae79f66d",
   "metadata": {
    "tags": []
   },
   "source": [
    "## 6. Retriever based on Hybrid Search 정의\n",
    "- LangChain에서 제공하는 **BaseRetriever** 클래스를 상속받아 **Custom Retriever**를 정의 할 수 있습니다.\n",
    "- 본 샘플코드 에서는 **Hybrid Search based Retriever**를 **정의**합니다. "
   ]
  },
  {
   "cell_type": "markdown",
   "id": "b0a25df0-2a13-4d73-9edc-532caf98f804",
   "metadata": {},
   "source": [
    "OpenSearch Hybrid 는 아래와 같은 방식으로 작동합니다.\n",
    "- (1) Sematic serch를 통해 각 document별 relevant score 산출\n",
    "- (2) Lexical search를 통해 각 document별 relevant score 산출\n",
    "- (3-1) Rank-fusion 방식이 \"simple weighted\" 일 경우\n",
    "    - 산출된 score에 대한 normalization 수행\n",
    "    - 전체 결과에서 가장 높은 스코어는 표준화 과정을 통하여 스코어가 1.0 이 됨.\n",
    "- (3-2) Rank-fusion 방식이 \"Reciprocal Rank Fusion (RRF)\" 일 경우\n",
    "    - Paper: https://plg.uwaterloo.ca/~gvcormac/cormacksigir09-rrf.pdf\n",
    "    - Desc: https://medium.com/@sowmiyajaganathan/hybrid-search-with-re-ranking-ff120c8a426d\n",
    "    - **RRF의 경우 score가 아닌 ranking 정보를 활용, 때문에 score normalization이 필요 없음**\n",
    "    - ![rrf.png](../../../10_advanced_question_answering/img/rrf.png)\n",
    "\n",
    "RRF는 langchain에서 \"Ensemble Retriever\" 이름으로 api를 제공합니다. \n",
    "- https://python.langchain.com/docs/modules/data_connection/retrievers/ensemble"
   ]
  },
  {
   "cell_type": "code",
   "execution_count": 70,
   "id": "5db8e470-63a9-4c3d-94c8-1d270a6da822",
   "metadata": {
    "tags": []
   },
   "outputs": [],
   "source": [
    "from utils.rag import OpenSearchHybridSearchRetriever"
   ]
  },
  {
   "cell_type": "markdown",
   "id": "d7feac2f-21a2-4756-b989-66c180bb1e79",
   "metadata": {},
   "source": [
    "- 필터 설정 예시\n",
    "- filter=[ <BR>\n",
    "    　{\"term\": {\"metadata.[**your_metadata_attribute_name**]\": \"**your first keyword**\"}}, <BR>\n",
    "    　{\"term\": {\"metadata.[**your_metadata_attribute_name**]\": \"**your second keyword**\"}},<BR>\n",
    "]"
   ]
  },
  {
   "cell_type": "code",
   "execution_count": 71,
   "id": "49c7e131-294f-4ff8-9331-989709c7079c",
   "metadata": {
    "tags": []
   },
   "outputs": [],
   "source": [
    "opensearch_hybrid_retriever = OpenSearchHybridSearchRetriever(\n",
    "    # necessary\n",
    "    os_client=os_client,\n",
    "    index_name=index_name,\n",
    "    llm_emb=llm_emb,\n",
    "    llm_text=llm_text,\n",
    "\n",
    "    # option for lexical\n",
    "    minimum_should_match=0,\n",
    "    filter=[],\n",
    "\n",
    "    # option for rank fusion\n",
    "    fusion_algorithm=\"RRF\", # [\"RRF\", \"simple_weighted\"], rank fusion 방식 정의\n",
    "    ensemble_weights=[.51, .49], # [for semantic, for lexical], Semantic, Lexical search 결과에 대한 최종 반영 비율 정의\n",
    "\n",
    "    reranker=True, # enable reranker with reranker model\n",
    "    reranker_endpoint_name=endpoint_name, # endpoint name for reranking model\n",
    "\n",
    "    # option for async search\n",
    "    async_mode=True,\n",
    "\n",
    "    # option for output\n",
    "    k=5, # 최종 Document 수 정의\n",
    "    verbose=True\n",
    ")"
   ]
  },
  {
   "cell_type": "markdown",
   "id": "cfb26835-ad98-41c5-9e9d-2453642e3551",
   "metadata": {},
   "source": [
    "### Retrieval example\n",
    "- default search"
   ]
  },
  {
   "cell_type": "code",
   "execution_count": 72,
   "id": "9c06e89f-79de-413c-ba9c-a188ca3fe2d0",
   "metadata": {
    "tags": []
   },
   "outputs": [],
   "source": [
    "from utils.rag import show_context_used"
   ]
  },
  {
   "cell_type": "code",
   "execution_count": 73,
   "id": "fe3bfee3-dac1-45b9-8795-03e36c1632a9",
   "metadata": {
    "tags": []
   },
   "outputs": [],
   "source": [
    "query = \"중지된 경우 이체\"\n",
    "#query = \"vidio max size?\""
   ]
  },
  {
   "cell_type": "code",
   "execution_count": 74,
   "id": "05b13e5e-4a66-4dc8-b18c-42a6e3bd6037",
   "metadata": {
    "tags": []
   },
   "outputs": [
    {
     "name": "stdout",
     "output_type": "stream",
     "text": [
      "\n",
      "[Exeeds ReRanker token limit] Number of chunk_docs after split and chunking= 1\n",
      "\n",
      "\n",
      "[Exeeds ReRanker token limit] Number of chunk_docs after split and chunking= 2\n",
      "\n",
      "\n",
      "[Exeeds ReRanker token limit] Number of chunk_docs after split and chunking= 3\n",
      "\n",
      "\n",
      "[Exeeds ReRanker token limit] Number of chunk_docs after split and chunking= 3\n",
      "\n",
      "\n",
      "[Exeeds ReRanker token limit] Number of chunk_docs after split and chunking= 1\n",
      "\n",
      "\n",
      "[Exeeds ReRanker token limit] Number of chunk_docs after split and chunking= 1\n",
      "\n",
      "##############################\n",
      "async_mode\n",
      "##############################\n",
      "True\n",
      "##############################\n",
      "reranker\n",
      "##############################\n",
      "True\n",
      "##############################\n",
      "rag_fusion\n",
      "##############################\n",
      "False\n",
      "##############################\n",
      "HyDE\n",
      "##############################\n",
      "False\n",
      "##############################\n",
      "parent_document\n",
      "##############################\n",
      "False\n",
      "##############################\n",
      "complex_document\n",
      "##############################\n",
      "False\n",
      "##############################\n",
      "similar_docs_semantic\n",
      "##############################\n",
      "\n",
      "Score: 1.0\n",
      "['ask: 이체한도란 무엇인가요?', 'Information: 이체한도란 인터넷뱅킹, 폰뱅킹, 모바일뱅킹 등을 통하여 이체할 수 있는 거래한도를 말합니다. ① 1일/1회 이체한도 1일 이체한도란 하루에 거래할 수 있는 이체금액의 합을 말하여, 1회 이체한도란 1회에 이체하실 수 있는 금액의 한도를 말합니다. ② 통합이체한도 인터넷뱅킹, 폰뱅킹, 모바일뱅킹 등을 고객님이 사용하시는 경우 고객님이 1일 또는 1회에 이체하실 수 있는 이체한도를 말합니다. 인터넷뱅킹, 폰뱅킹, 모바일뱅킹 등에서 고객님이 거래하신 이체금액의 합이 통합이체한도의 범위를 초과할 수 없습니다. ③ 최고이체한도 금융감독원에서는 개인의 전자금융 시 이용할 수 있는 이체한도의 가이드라인을 정하고 있습니다.(인터넷뱅킹 : 1일 5억원, 1회 1억원 이내)']\n",
      "{'source': '신한은행', 'row': 39, 'type': '인터넷뱅킹', 'timestamp': 1713337529.3210788, 'id': 'abbbecdf-9f2d-42d1-9f1d-7bd50168aa99'}\n",
      "\n",
      "Score: 0.9898637210725622\n",
      "['ask: 이체한도 증액은 어떻게 하나요?', 'Information: 영업점 방문하지 않아도 모바일뱅킹 신한 쏠(SOL) 에서 비대면실명 인증후 통합이체한도 증액 가능합니다. 통합이체한도는 이용하시는 보안매체에 따라, 보안등급별 최고 한도내에서 증액가능합니다.\\r', 'OTP카드 창구 발급 시 5,000원(카드형 10,000원)의 수수료가 부과됩니다. 당행에서만 사용가능한 모바일OTP는 영업점 방문없이 신한 쏠(SOL) 에서 무료로 발급가능합니다. \\r', '※ 모바일OTP를 이용하시는 경우 쏠(SOL)에서 이체한도 증액은 1회 1천만원 이하, 1일 5천만원 이하로 증액 가능합니다. \\r', '※ 만 14세 미만의 경우 법정대리인(부모/친권자/후견인)에 의해 영업점 방문하여 증액 가능하며 1일, 1회 1백만원 이하로 이체한도 제한됩니다. \\r', '통합한도란 인터넷뱅킹/신한 쏠(SOL)/폰뱅킹 등을 사용하는 경우 1일 또는 1회에 이체 가능한 통합 이체한도를 말합니다.\\r', '* 인터넷뱅킹/신한 쏠(SOL)/폰뱅킹에서 거래한 이체금액의 합이 통합이체한도의 범위를 초과할 수 없습니다.\\r', '기타 궁금하신 내용은 신한은행 고객센터 1599-8000로 문의하여 주시기 바랍니다.']\n",
      "{'source': '신한은행', 'row': 33, 'type': '인터넷뱅킹', 'timestamp': 1713337529.3208814, 'id': '887af109-e807-48e1-a233-2cc2f9bc5192'}\n",
      "\n",
      "Score: 0.987978823690562\n",
      "['ask: 온라인 서비스 신청시 구비서류는?', 'Information: 온라인 서비스 신규는 본인만 가능하고 가입시 필요서류는 다음과 같습니다. 온라인 서비스 신규 시 필요서류 : 본인 신분증. 신분증 : 국가기관 또는 지방자치단체, 교육법에 의한 학교의 장이 발급한 것으로서 성명, 주민등록번호가 기재되어 있고 부착된 사진에 의하여 본인임을 확인할 수 있는 증표 (주민등록증, 운전면허증, 공무증, 여권, 노인복지카드(경로우대증), 장애인복지카드(장애인등록증 포함), 국가 유공자증, 학생증, 외국인등록증, 국내거소신고증 등). 만14세 미만 미성년자. 만 14세 미만 미성년자는 법정대리인에 의한 신청한 가능합니다. 1. 부모가 혼인중인 경우 부 또는 모 신분증, 미성년자 기준으로 발급된 특정기본증명서, 미성년자 기준으로 발급된 상세가족관계증명서. 2. 친권자나 후견인이 지정된 경우 친권자 또는 후견인의 신분증, 미성년자 기준으로 발급된 특정 기본 증명서, 미성년 자녀 기준으로 발급된 일반 가족관계증명서(후견인은 생략). 발급서류는 3개월이내 발급된 원본으로 주민등록번호 13자리가 모두 표기된 서류로 준비부탁드립니다.']\n",
      "{'source': '신한은행', 'row': 51, 'type': '인터넷뱅킹', 'timestamp': 1713337529.3214188, 'id': 'e25eb674-5d34-4b73-b16b-e4d478b4fc65'}\n",
      "\n",
      "Score: 0.984981233819992\n",
      "['ask: 인터넷에서 이체한 거래의 상세내역 및 영수증을 인쇄하고 싶어요', 'Information: 인터넷상에서 이체한 거래의 경우 인터넷상에서 제공하는 영수증은 없으며, 거래의 참고용으로 단지 조회일자 및 출금 계좌번호 등으로 상세내역(이체 확인증 목록)을 조회하거나 그 내역을 인쇄만 가능합니다. 인터넷뱅킹 거래 상세내역(이체확인증 목록)및 입금증(이체확인증) 인쇄 방법은 다음과 같습니다. ① 인터넷뱅킹에 접속하여 로그인 ② 이체 → 즉시이체 → 이체결과조회 ③ 조회구분, 출금계좌번호, 조회일자등 상세내역을 조회 ④ 입금확인증목록을 인쇄하시려면 조회된 내역 왼쪽 상단에 보이는 [이체목록인쇄] 버튼을 클릭하면 해당 거래내역을 출력할 수 있으며, 입금확인증을 인쇄하시려면 해당 이체건의 오른쪽에 있는 [인쇄] 버튼을 클릭하시면 됩니다. ※ 참고 : 즉시이체 후에도 이체확인증 목록 및 이체확인증을 출력하실 수 있습니다.']\n",
      "{'source': '신한은행', 'row': 87, 'type': '인터넷뱅킹', 'timestamp': 1713337529.3224456, 'id': '9904ac1a-caa3-4b98-b407-c2ea899623f1'}\n",
      "\n",
      "Score: 0.9779182486701656\n",
      "['ask: 예약이체를 했는데 이체일에 송금이 안된 경우는?', 'Information: 모든 예약이체 등록건은 예약이체 지정일 지정된 시간(오전 7시, 오전 9시, 오전 11시, 오후 1시, 오후 3시, 오후 5시, 오후 7시, 오후 9시) 이전에 출금할 계좌에 송금액이 입금이 되어야 이체가 실행될 수 있습니다.\\r', '이체가 되지 않았다고 판단되실 경우에는 반드시 먼저 \"예약이체처리결과조회\" 또는 \"계좌 거래내역\"을 확인 하시어 이체여부 및 출금여부를 확인하시기 바랍니다. 또한 예약이체 신청시 SMS 결과통보신청을 하셨다면 요청하신 휴대폰번호로 수신된 문자를 확인해주시기 바라며, 정해진 시간에 이체되지 않은 경우 신한은행 고객상담센터 ☎ 1599-8000번으로 문의 주시기 바랍니다.']\n",
      "{'source': '신한은행', 'row': 37, 'type': '인터넷뱅킹', 'timestamp': 1713337529.3210208, 'id': '47dea430-0ce5-47fb-b1a8-771476614ded'}\n",
      "\n",
      "Score: 0.9700019707744418\n",
      "['ask: 즉시/예약 이체 서비스가 안되는 경우 어떻게 해야해?', 'Information: 이체서비스가 되지 않는 경우 여러가지 사유가 있을수 있으니, 신한은행 고객상담센터 1599-8000번으로 문의 주시면 자세히 상담해드리겠습니다.']\n",
      "{'source': '신한은행', 'row': 62, 'type': '인터넷뱅킹', 'timestamp': 1713337529.3217287, 'id': '7fd15f87-1cd5-4f4b-ac75-122ded6cd6aa'}\n",
      "\n",
      "Score: 0.9647631571105393\n",
      "['ask: 해외고객 추가인증 방법', 'Information: 먼저 이용에 불편을 드려 대단히 죄송합니다. 2013년 9월 전자금융사기 예방서비스 전면 시행으로 인해, 국내외에서 뱅킹이용시 거래에 따라 추가인증을 거치게 되었습니다.\\r', '① 인증서 발급/재발급, 1일 누적 300만원 이상 이체시 시행하는 추가인증 방법(누적금액은 변경될수 있습니다.)해외IP로 접속하신 부분이 자동으로 확인되면 ‘해외체류 확인’ 항목이 활성화 되기 때문에 법무부 출입국관리사무소에 출국정보를 확인 받는 부분에 동의하시면 ARS 인증없이 거래가 가능합니다.\\r', '※ 해외 소재한 국내기업의 내부 인터넷망을 이용하시는 경우 국내IP로 인식하여 해당 추가 인증기능 활성화가 안되는 경우가 있으니 유의부탁드립니다.\\r', '② 해외에서 온라인을 통한 예금해지/대출실행 업무시 추가인증 방법한국시간 기준으로 은행 영업일의 오전9시부터 오후6시 사이에 뱅킹에 접속하시면  해외 현지 연락처를 직접 입력하여 추가인증의 진행이 가능하도록 되어있습니다. \\r', '③ 고객정보 보호 목적으로 인터넷뱅킹상에서 개인정보 변경 등의 일부 중요업무이 경우는 ARS인증만을 시행하도록 하고 있습니다.  왜냐하면, 타인에 의한 정보변경 시도 등을 차단하고자 하는 부분이므로 만약 해외에서 070 등 인터넷전화를 사용하시는 경우 미리 한국에서 정보변경을 하지 못하셨다면 고객센터 82-2-3449-8000 또는 82-2-3708-8000으로 상담사에게 문의하시기 바랍니다. \\r', '④ “불법거래 방지를 위해 이체거래가 정지되었다”라고 뜨는 경우\\r', '82-2-3449-8000 또는 82-2-3708-8000으로 연락주셔서 상담직원을 통한 사고등록 해제가 가능합니다. 이체제한 해제는 24시간 가능하며, 본인확인을 위해 몇가지 정보확인을 거치는 점 양해바랍니다.\\r', '82-2-3449-8000 번호로 전화주셔서 음성이 나오면 차례대로 6-3-3-0 코드를 따라서  24시간 사고관련 상담직원과 통화가 가능합니다\\r', '해외에 계신 고객분들도 뱅킹을 이용하실 수 있도록 편의성 부분도 많이 고려하고 있으나, 최근 해외IP를 통해 전자금융서비스 이용고객분들께 피해를 입히려는 시도가 다수 발생하고 있기 때문에 제한적으로 해외체류 확인 항목을 적용할 수 밖에 없어서 안타깝게 생각합니다. 편리성 못지 않게 고객분들의 소중한 자산을 지키는 것이 중요하다보니 이와 같이 시행하고 있는 점 다시 한번 양해 부탁드립니다.']\n",
      "{'source': '신한은행', 'row': 31, 'type': '인터넷뱅킹', 'timestamp': 1713337529.3208232, 'id': '7879389d-7924-408c-b3cb-d7d7ae1203cf'}\n",
      "None\n",
      "##############################\n",
      "similar_docs_keyword\n",
      "##############################\n",
      "\n",
      "Score: 1.0\n",
      "['ask: 12개월 장기미이체로 이체서비스가 중지된 경우 어떻게 해제하나요?', 'Information: 최근 12개월동안 인터넷뱅킹/폰뱅킹/모바일뱅킹에서 이체서비스를 이용하지 않은 경우 고객님의 금융자산 보호를 위하여 이체서비스가 중단됩니다. 다시 이체를 원하시는 경우에는 인터넷뱅킹/폰뱅킹/신한쏠(SOL)에서 이체정지 해제를 하실 수 있습니다.(단, 인터넷뱅킹 출금계좌가 등록되어 있는 경우) [경로] ① 당행 고객정보에 등록되어있는 연락처로 ARS 추가인증 가능한 경우: - 인터넷뱅킹 로그인→ 사용자관리→ 인터넷뱅킹관리→ 장기미사용 정지해제 (또는) - 쏠(SOL) 로그인→ 전체메뉴→ 이체 → 이체관리→ 장기미사용정지 해제 ② ARS 추가인증이 불가한 경우 (해외체류 고객등) : - 인터넷뱅킹에서는 해제 어려우며, 쏠 (SOL)에서 해제 가능합니다. 쏠(SOL)의 경로는 위와 동일하며, 비대면 실명인증후 해제 가능합니다. 비대면실명인증 - 만 14세이상 가능 - 신분증확인 (주민등록증 또는 운전면허증 또는 여권) - 본인확인 (본인명의 계좌인증 또는 영상통화) 진행 기타 궁금하신 내용은 신한은행 고객센터 1599-8000로 문의하여 주시기 바랍니다']\n",
      "{'source': '신한은행', 'row': 40, 'type': '인터넷뱅킹', 'timestamp': 1713337529.3211083, 'id': '8f495b8d-f6e6-40ba-b291-53cc7080c641'}\n",
      "\n",
      "Score: 0.7039535480460996\n",
      "['ask: 매월 일정금액을 타은행으로 자동송금 신청시 이체기준 알려줘', 'Information: 타은행으로 매월 일정금액을 자동송금 신청 하셨을때 당월 또는 익월은 입력하지 말고, 신청등록을 하십시오. 자동이체 등록일을 기준으로 자동 이체일이 등록일보다 빠르면 익월부터 자동으로 이체가 되며, 자동 이체일이 등록일보다 늦으면 당월부터 자동이체가 되기 때문입니다. 예시 자동이체 신청 등록일 15일, 자동 이체일 10일이면 익월 10일부터 이체 자동이체 신청 등록일 15일, 자동 이체일 20일이면 당월 20일부터 이체']\n",
      "{'source': '신한은행', 'row': 38, 'type': '', 'timestamp': 1713337529.3210497, 'id': 'd580fcd8-00be-4338-93e9-331bfab1ce80'}\n",
      "\n",
      "Score: 0.660852770343251\n",
      "['ask: 타행으로 자동이체를 신청하고 싶은데요', 'Information: 인터넷뱅킹을 통한 타은행 계좌로의 자동이체(납부자 자동이체)신청이 가능하며 수수료는 건당 300원 입니다. 자동이체를 신청하시려면 인터넷뱅킹에 로그인 하신후 [이체] > [자동이체] > [자동이체 등록] 메뉴를 선택하시면 타행으로의 자동이체 등록을 하실 수 있습니다. ※ 주의: 타은행 자동이체는 이체 지정일 전영업일에 고객님의 계좌에서 인출하여 이체지정일자(지정일이 휴일인 경우에는 익영업일)에 타은행 계좌로 입금됩니다. 그러므로 예금잔액이 없으면 이체처리가 안되며, 이후잔액이 채워져도 재처리를 하지 않습니다. 따라서 고객님께서 자동이체를 신청하실 때에는 충분한 잔액이 있는지 확인하시기 바랍니다.']\n",
      "{'source': '신한은행', 'row': 88, 'type': '인터넷뱅킹', 'timestamp': 1713337529.3224752, 'id': 'eb710d3d-70da-4977-99ef-e120f737ef42'}\n",
      "\n",
      "Score: 0.6367498380828476\n",
      "['ask: 이체한도란 무엇인가요?', 'Information: 이체한도란 인터넷뱅킹, 폰뱅킹, 모바일뱅킹 등을 통하여 이체할 수 있는 거래한도를 말합니다. ① 1일/1회 이체한도 1일 이체한도란 하루에 거래할 수 있는 이체금액의 합을 말하여, 1회 이체한도란 1회에 이체하실 수 있는 금액의 한도를 말합니다. ② 통합이체한도 인터넷뱅킹, 폰뱅킹, 모바일뱅킹 등을 고객님이 사용하시는 경우 고객님이 1일 또는 1회에 이체하실 수 있는 이체한도를 말합니다. 인터넷뱅킹, 폰뱅킹, 모바일뱅킹 등에서 고객님이 거래하신 이체금액의 합이 통합이체한도의 범위를 초과할 수 없습니다. ③ 최고이체한도 금융감독원에서는 개인의 전자금융 시 이용할 수 있는 이체한도의 가이드라인을 정하고 있습니다.(인터넷뱅킹 : 1일 5억원, 1회 1억원 이내)']\n",
      "{'source': '신한은행', 'row': 39, 'type': '인터넷뱅킹', 'timestamp': 1713337529.3210788, 'id': 'abbbecdf-9f2d-42d1-9f1d-7bd50168aa99'}\n",
      "\n",
      "Score: 0.5288419411639282\n",
      "['ask: 인터넷뱅킹 자동이체 신청 및 해지 방법을 알려주세요', 'Information: 자동이체(기일이체)는 일정기간동안 주기적(매월,3개월,6개월)으로 지정하신 계좌로 이체하실때 편리한 서비스입니다. 당행간 자동이체는 이체 지정일 1영업일 전까지 등록하여야 하며, 타행간 자동이체는 이체 처리일 2영업일 전까지 등록하여야 합니다.자동이체 작업은 은행 영업시간 끝난 후 이루어지며, 당행의 일정에 따라 정확한 시간이 결정됩니다. 그러므로 영업시간 중에 지급계좌에 잔액이 있어야 합니다. 자동이체 신청 및 변경/해지는 당행 인터넷뱅킹을 통해 가능하며, 인터넷뱅킹에 로그인하신 후 \"이체 > 자동이체\" 서비스를 선택하시면 됩니다. ※ 주의 : 타행으로 자동이체는 \\'이체일 전일\\'에 자금을 미리 인출하므로 예금잔액이 없으면 이체처리가 안되며, 이후잔액이 채워져도 재처리를 하지 않습니다.']\n",
      "{'source': '신한은행', 'row': 77, 'type': '인터넷뱅킹', 'timestamp': 1713337529.3221543, 'id': '31ac8cf1-9258-4e4d-a4b1-5fcb664cce72'}\n",
      "\n",
      "Score: 0.5277975797014451\n",
      "['ask: 인터넷뱅킹의 출금계좌 추가 삭제 방법 알려줘.', 'Information: 인터넷뱅킹, 신한쏠(SOL)에서 출금계좌의 추가/삭제가 가능합니다. 단, 인터넷뱅킹 신청시 또는 그 이후에 영업점에서 \"출금계좌 인터넷추가등록 동의\" 를 하신 경우에는 인터넷뱅킹, 신한 쏠 에서 추가등록이 가능하며 동의하지 않은 경우엔 신한 쏠 에서 비대면으로 신분증 확인후 출금계좌 추가등록이 가능합니다. (출금계좌 삭제는 동의여부와 관계없이 모두 가능함)\\r', '[경로]\\r', '- 인터넷뱅킹 로그인→ 사용자관리→ 계좌관리→ 출금계좌관리\\r', '- 신한 쏠(SOL) 로그인→전체메뉴→이체→이체관리→출금계좌관리\\r', '기타 궁금하신 내용은 신한은행 고객센터 1599-8000로 문의하여 주시기 바랍니다.']\n",
      "{'source': '신한은행', 'row': 74, 'type': '인터넷뱅킹', 'timestamp': 1713337529.3220687, 'id': '14e060d0-d3ec-4f34-a64f-5e22631d78d9'}\n",
      "\n",
      "Score: 0.5199366646167727\n",
      "['ask: 즉시/예약 이체 서비스가 안되는 경우 어떻게 해야해?', 'Information: 이체서비스가 되지 않는 경우 여러가지 사유가 있을수 있으니, 신한은행 고객상담센터 1599-8000번으로 문의 주시면 자세히 상담해드리겠습니다.']\n",
      "{'source': '신한은행', 'row': 62, 'type': '인터넷뱅킹', 'timestamp': 1713337529.3217287, 'id': '7fd15f87-1cd5-4f4b-ac75-122ded6cd6aa'}\n",
      "None\n",
      "##############################\n",
      "similar_docs_without_reranker\n",
      "##############################\n",
      "\n",
      "Score: 0.016016905737704916\n",
      "['ask: 이체한도란 무엇인가요?', 'Information: 이체한도란 인터넷뱅킹, 폰뱅킹, 모바일뱅킹 등을 통하여 이체할 수 있는 거래한도를 말합니다. ① 1일/1회 이체한도 1일 이체한도란 하루에 거래할 수 있는 이체금액의 합을 말하여, 1회 이체한도란 1회에 이체하실 수 있는 금액의 한도를 말합니다. ② 통합이체한도 인터넷뱅킹, 폰뱅킹, 모바일뱅킹 등을 고객님이 사용하시는 경우 고객님이 1일 또는 1회에 이체하실 수 있는 이체한도를 말합니다. 인터넷뱅킹, 폰뱅킹, 모바일뱅킹 등에서 고객님이 거래하신 이체금액의 합이 통합이체한도의 범위를 초과할 수 없습니다. ③ 최고이체한도 금융감독원에서는 개인의 전자금융 시 이용할 수 있는 이체한도의 가이드라인을 정하고 있습니다.(인터넷뱅킹 : 1일 5억원, 1회 1억원 이내)']\n",
      "{'source': '신한은행', 'row': 39, 'type': '인터넷뱅킹', 'timestamp': 1713337529.3210788, 'id': 'abbbecdf-9f2d-42d1-9f1d-7bd50168aa99'}\n",
      "\n",
      "Score: 0.015040705563093622\n",
      "['ask: 즉시/예약 이체 서비스가 안되는 경우 어떻게 해야해?', 'Information: 이체서비스가 되지 않는 경우 여러가지 사유가 있을수 있으니, 신한은행 고객상담센터 1599-8000번으로 문의 주시면 자세히 상담해드리겠습니다.']\n",
      "{'source': '신한은행', 'row': 62, 'type': '인터넷뱅킹', 'timestamp': 1713337529.3217287, 'id': '7fd15f87-1cd5-4f4b-ac75-122ded6cd6aa'}\n",
      "\n",
      "Score: 0.008225806451612904\n",
      "['ask: 이체한도 증액은 어떻게 하나요?', 'Information: 영업점 방문하지 않아도 모바일뱅킹 신한 쏠(SOL) 에서 비대면실명 인증후 통합이체한도 증액 가능합니다. 통합이체한도는 이용하시는 보안매체에 따라, 보안등급별 최고 한도내에서 증액가능합니다.\\r', 'OTP카드 창구 발급 시 5,000원(카드형 10,000원)의 수수료가 부과됩니다. 당행에서만 사용가능한 모바일OTP는 영업점 방문없이 신한 쏠(SOL) 에서 무료로 발급가능합니다. \\r', '※ 모바일OTP를 이용하시는 경우 쏠(SOL)에서 이체한도 증액은 1회 1천만원 이하, 1일 5천만원 이하로 증액 가능합니다. \\r', '※ 만 14세 미만의 경우 법정대리인(부모/친권자/후견인)에 의해 영업점 방문하여 증액 가능하며 1일, 1회 1백만원 이하로 이체한도 제한됩니다. \\r', '통합한도란 인터넷뱅킹/신한 쏠(SOL)/폰뱅킹 등을 사용하는 경우 1일 또는 1회에 이체 가능한 통합 이체한도를 말합니다.\\r', '* 인터넷뱅킹/신한 쏠(SOL)/폰뱅킹에서 거래한 이체금액의 합이 통합이체한도의 범위를 초과할 수 없습니다.\\r', '기타 궁금하신 내용은 신한은행 고객센터 1599-8000로 문의하여 주시기 바랍니다.']\n",
      "{'source': '신한은행', 'row': 33, 'type': '인터넷뱅킹', 'timestamp': 1713337529.3208814, 'id': '887af109-e807-48e1-a233-2cc2f9bc5192'}\n",
      "\n",
      "Score: 0.008095238095238095\n",
      "['ask: 온라인 서비스 신청시 구비서류는?', 'Information: 온라인 서비스 신규는 본인만 가능하고 가입시 필요서류는 다음과 같습니다. 온라인 서비스 신규 시 필요서류 : 본인 신분증. 신분증 : 국가기관 또는 지방자치단체, 교육법에 의한 학교의 장이 발급한 것으로서 성명, 주민등록번호가 기재되어 있고 부착된 사진에 의하여 본인임을 확인할 수 있는 증표 (주민등록증, 운전면허증, 공무증, 여권, 노인복지카드(경로우대증), 장애인복지카드(장애인등록증 포함), 국가 유공자증, 학생증, 외국인등록증, 국내거소신고증 등). 만14세 미만 미성년자. 만 14세 미만 미성년자는 법정대리인에 의한 신청한 가능합니다. 1. 부모가 혼인중인 경우 부 또는 모 신분증, 미성년자 기준으로 발급된 특정기본증명서, 미성년자 기준으로 발급된 상세가족관계증명서. 2. 친권자나 후견인이 지정된 경우 친권자 또는 후견인의 신분증, 미성년자 기준으로 발급된 특정 기본 증명서, 미성년 자녀 기준으로 발급된 일반 가족관계증명서(후견인은 생략). 발급서류는 3개월이내 발급된 원본으로 주민등록번호 13자리가 모두 표기된 서류로 준비부탁드립니다.']\n",
      "{'source': '신한은행', 'row': 51, 'type': '인터넷뱅킹', 'timestamp': 1713337529.3214188, 'id': 'e25eb674-5d34-4b73-b16b-e4d478b4fc65'}\n",
      "\n",
      "Score: 0.008032786885245903\n",
      "['ask: 12개월 장기미이체로 이체서비스가 중지된 경우 어떻게 해제하나요?', 'Information: 최근 12개월동안 인터넷뱅킹/폰뱅킹/모바일뱅킹에서 이체서비스를 이용하지 않은 경우 고객님의 금융자산 보호를 위하여 이체서비스가 중단됩니다. 다시 이체를 원하시는 경우에는 인터넷뱅킹/폰뱅킹/신한쏠(SOL)에서 이체정지 해제를 하실 수 있습니다.(단, 인터넷뱅킹 출금계좌가 등록되어 있는 경우) [경로] ① 당행 고객정보에 등록되어있는 연락처로 ARS 추가인증 가능한 경우: - 인터넷뱅킹 로그인→ 사용자관리→ 인터넷뱅킹관리→ 장기미사용 정지해제 (또는) - 쏠(SOL) 로그인→ 전체메뉴→ 이체 → 이체관리→ 장기미사용정지 해제 ② ARS 추가인증이 불가한 경우 (해외체류 고객등) : - 인터넷뱅킹에서는 해제 어려우며, 쏠 (SOL)에서 해제 가능합니다. 쏠(SOL)의 경로는 위와 동일하며, 비대면 실명인증후 해제 가능합니다. 비대면실명인증 - 만 14세이상 가능 - 신분증확인 (주민등록증 또는 운전면허증 또는 여권) - 본인확인 (본인명의 계좌인증 또는 영상통화) 진행 기타 궁금하신 내용은 신한은행 고객센터 1599-8000로 문의하여 주시기 바랍니다']\n",
      "{'source': '신한은행', 'row': 40, 'type': '인터넷뱅킹', 'timestamp': 1713337529.3211083, 'id': '8f495b8d-f6e6-40ba-b291-53cc7080c641'}\n",
      "\n",
      "Score: 0.00796875\n",
      "['ask: 인터넷에서 이체한 거래의 상세내역 및 영수증을 인쇄하고 싶어요', 'Information: 인터넷상에서 이체한 거래의 경우 인터넷상에서 제공하는 영수증은 없으며, 거래의 참고용으로 단지 조회일자 및 출금 계좌번호 등으로 상세내역(이체 확인증 목록)을 조회하거나 그 내역을 인쇄만 가능합니다. 인터넷뱅킹 거래 상세내역(이체확인증 목록)및 입금증(이체확인증) 인쇄 방법은 다음과 같습니다. ① 인터넷뱅킹에 접속하여 로그인 ② 이체 → 즉시이체 → 이체결과조회 ③ 조회구분, 출금계좌번호, 조회일자등 상세내역을 조회 ④ 입금확인증목록을 인쇄하시려면 조회된 내역 왼쪽 상단에 보이는 [이체목록인쇄] 버튼을 클릭하면 해당 거래내역을 출력할 수 있으며, 입금확인증을 인쇄하시려면 해당 이체건의 오른쪽에 있는 [인쇄] 버튼을 클릭하시면 됩니다. ※ 참고 : 즉시이체 후에도 이체확인증 목록 및 이체확인증을 출력하실 수 있습니다.']\n",
      "{'source': '신한은행', 'row': 87, 'type': '인터넷뱅킹', 'timestamp': 1713337529.3224456, 'id': '9904ac1a-caa3-4b98-b407-c2ea899623f1'}\n",
      "\n",
      "Score: 0.007903225806451612\n",
      "['ask: 매월 일정금액을 타은행으로 자동송금 신청시 이체기준 알려줘', 'Information: 타은행으로 매월 일정금액을 자동송금 신청 하셨을때 당월 또는 익월은 입력하지 말고, 신청등록을 하십시오. 자동이체 등록일을 기준으로 자동 이체일이 등록일보다 빠르면 익월부터 자동으로 이체가 되며, 자동 이체일이 등록일보다 늦으면 당월부터 자동이체가 되기 때문입니다. 예시 자동이체 신청 등록일 15일, 자동 이체일 10일이면 익월 10일부터 이체 자동이체 신청 등록일 15일, 자동 이체일 20일이면 당월 20일부터 이체']\n",
      "{'source': '신한은행', 'row': 38, 'type': '', 'timestamp': 1713337529.3210497, 'id': 'd580fcd8-00be-4338-93e9-331bfab1ce80'}\n",
      "None\n",
      "##############################\n",
      "similar_docs\n",
      "##############################\n",
      "\n",
      "Score: 0.11416102094482178\n",
      "['ask: 12개월 장기미이체로 이체서비스가 중지된 경우 어떻게 해제하나요?', 'Information: 최근 12개월동안 인터넷뱅킹/폰뱅킹/모바일뱅킹에서 이체서비스를 이용하지 않은 경우 고객님의 금융자산 보호를 위하여 이체서비스가 중단됩니다. 다시 이체를 원하시는 경우에는 인터넷뱅킹/폰뱅킹/신한쏠(SOL)에서 이체정지 해제를 하실 수 있습니다.(단, 인터넷뱅킹 출금계좌가 등록되어 있는 경우) [경로] ① 당행 고객정보에 등록되어있는 연락처로 ARS 추가인증 가능한 경우: - 인터넷뱅킹 로그인→ 사용자관리→ 인터넷뱅킹관리→ 장기미사용 정지해제 (또는) - 쏠(SOL) 로그인→ 전체메뉴→ 이체 → 이체관리→ 장기미사용정지 해제 ② ARS 추가인증이 불가한 경우 (해외체류 고객등) : - 인터넷뱅킹에서는 해제 어려우며, 쏠 (SOL)에서 해제 가능합니다. 쏠(SOL)의 경로는 위와 동일하며, 비대면 실명인증후 해제 가능합니다. 비대면실명인증 - 만 14세이상 가능 - 신분증확인 (주민등록증 또는 운전면허증 또는 여권) - 본인확인 (본인명의 계좌인증 또는 영상통화) 진행 기타 궁금하신 내용은 신한은행 고객센터 1599-8000로 문의하여 주시기 바랍니다']\n",
      "{'source': '신한은행', 'row': 40, 'type': '인터넷뱅킹', 'timestamp': 1713337529.3211083, 'id': '8f495b8d-f6e6-40ba-b291-53cc7080c641'}\n",
      "\n",
      "Score: 0.07611232995986938\n",
      "['ask: 즉시/예약 이체 서비스가 안되는 경우 어떻게 해야해?', 'Information: 이체서비스가 되지 않는 경우 여러가지 사유가 있을수 있으니, 신한은행 고객상담센터 1599-8000번으로 문의 주시면 자세히 상담해드리겠습니다.']\n",
      "{'source': '신한은행', 'row': 62, 'type': '인터넷뱅킹', 'timestamp': 1713337529.3217287, 'id': '7fd15f87-1cd5-4f4b-ac75-122ded6cd6aa'}\n",
      "\n",
      "Score: 0.0023896454367786646\n",
      "['ask: 매월 일정금액을 타은행으로 자동송금 신청시 이체기준 알려줘', 'Information: 타은행으로 매월 일정금액을 자동송금 신청 하셨을때 당월 또는 익월은 입력하지 말고, 신청등록을 하십시오. 자동이체 등록일을 기준으로 자동 이체일이 등록일보다 빠르면 익월부터 자동으로 이체가 되며, 자동 이체일이 등록일보다 늦으면 당월부터 자동이체가 되기 때문입니다. 예시 자동이체 신청 등록일 15일, 자동 이체일 10일이면 익월 10일부터 이체 자동이체 신청 등록일 15일, 자동 이체일 20일이면 당월 20일부터 이체']\n",
      "{'source': '신한은행', 'row': 38, 'type': '', 'timestamp': 1713337529.3210497, 'id': 'd580fcd8-00be-4338-93e9-331bfab1ce80'}\n",
      "\n",
      "Score: 0.00041722936734813306\n",
      "['ask: 이체한도 증액은 어떻게 하나요?', 'Information: 영업점 방문하지 않아도 모바일뱅킹 신한 쏠(SOL) 에서 비대면실명 인증후 통합이체한도 증액 가능합니다. 통합이체한도는 이용하시는 보안매체에 따라, 보안등급별 최고 한도내에서 증액가능합니다.\\r', 'OTP카드 창구 발급 시 5,000원(카드형 10,000원)의 수수료가 부과됩니다. 당행에서만 사용가능한 모바일OTP는 영업점 방문없이 신한 쏠(SOL) 에서 무료로 발급가능합니다. \\r', '※ 모바일OTP를 이용하시는 경우 쏠(SOL)에서 이체한도 증액은 1회 1천만원 이하, 1일 5천만원 이하로 증액 가능합니다. \\r', '※ 만 14세 미만의 경우 법정대리인(부모/친권자/후견인)에 의해 영업점 방문하여 증액 가능하며 1일, 1회 1백만원 이하로 이체한도 제한됩니다. \\r', '통합한도란 인터넷뱅킹/신한 쏠(SOL)/폰뱅킹 등을 사용하는 경우 1일 또는 1회에 이체 가능한 통합 이체한도를 말합니다.\\r', '* 인터넷뱅킹/신한 쏠(SOL)/폰뱅킹에서 거래한 이체금액의 합이 통합이체한도의 범위를 초과할 수 없습니다.\\r', '기타 궁금하신 내용은 신한은행 고객센터 1599-8000로 문의하여 주시기 바랍니다.']\n",
      "{'source': '신한은행', 'row': 33, 'type': '인터넷뱅킹', 'timestamp': 1713337529.3208814, 'id': '887af109-e807-48e1-a233-2cc2f9bc5192'}\n",
      "\n",
      "Score: 0.0003966243821196258\n",
      "['ask: 이체한도란 무엇인가요?', 'Information: 이체한도란 인터넷뱅킹, 폰뱅킹, 모바일뱅킹 등을 통하여 이체할 수 있는 거래한도를 말합니다. ① 1일/1회 이체한도 1일 이체한도란 하루에 거래할 수 있는 이체금액의 합을 말하여, 1회 이체한도란 1회에 이체하실 수 있는 금액의 한도를 말합니다. ② 통합이체한도 인터넷뱅킹, 폰뱅킹, 모바일뱅킹 등을 고객님이 사용하시는 경우 고객님이 1일 또는 1회에 이체하실 수 있는 이체한도를 말합니다. 인터넷뱅킹, 폰뱅킹, 모바일뱅킹 등에서 고객님이 거래하신 이체금액의 합이 통합이체한도의 범위를 초과할 수 없습니다. ③ 최고이체한도 금융감독원에서는 개인의 전자금융 시 이용할 수 있는 이체한도의 가이드라인을 정하고 있습니다.(인터넷뱅킹 : 1일 5억원, 1회 1억원 이내)']\n",
      "{'source': '신한은행', 'row': 39, 'type': '인터넷뱅킹', 'timestamp': 1713337529.3210788, 'id': 'abbbecdf-9f2d-42d1-9f1d-7bd50168aa99'}\n",
      "None\n",
      "\n",
      "==========  Results  ==========\n",
      "\n",
      "1. question: 중지된 경우 이체\n",
      "2. # documents: 5\n",
      "3. Documents: \n",
      "\n",
      "\n",
      "-----------------------------------------------\n",
      "1. Chunk: 591 Characters\n",
      "-----------------------------------------------\n",
      "ask: 12개월 장기미이체로 이체서비스가 중지된 경우 어떻게 해제하나요?\n",
      "Information: 최근 12개월동안 인터넷뱅킹/폰뱅킹/모바일뱅킹에서 이체서비스를 이용하지 않은 경우 고객님의 금융자산 보호를 위하여 이체서비스가 중단됩니다. 다시 이체를\n",
      "원하시는 경우에는 인터넷뱅킹/폰뱅킹/신한쏠(SOL)에서 이체정지 해제를 하실 수 있습니다.(단, 인터넷뱅킹 출금계좌가 등록되어 있는 경우) [경로] ① 당행 고객정보에 등록되어있는\n",
      "연락처로 ARS 추가인증 가능한 경우: - 인터넷뱅킹 로그인→ 사용자관리→ 인터넷뱅킹관리→ 장기미사용 정지해제 (또는) - 쏠(SOL) 로그인→ 전체메뉴→ 이체 → 이체관리→\n",
      "장기미사용정지 해제 ② ARS 추가인증이 불가한 경우 (해외체류 고객등) : - 인터넷뱅킹에서는 해제 어려우며, 쏠 (SOL)에서 해제 가능합니다. 쏠(SOL)의 경로는 위와\n",
      "동일하며, 비대면 실명인증후 해제 가능합니다. 비대면실명인증 - 만 14세이상 가능 - 신분증확인 (주민등록증 또는 운전면허증 또는 여권) - 본인확인 (본인명의 계좌인증 또는\n",
      "영상통화) 진행 기타 궁금하신 내용은 신한은행 고객센터 1599-8000로 문의하여 주시기 바랍니다\n",
      "metadata:\n",
      " {'source': '신한은행', 'row': 40, 'type': '인터넷뱅킹', 'timestamp': 1713337529.3211083, 'id':\n",
      "'8f495b8d-f6e6-40ba-b291-53cc7080c641'}\n",
      "\n",
      "-----------------------------------------------\n",
      "2. Chunk: 128 Characters\n",
      "-----------------------------------------------\n",
      "ask: 즉시/예약 이체 서비스가 안되는 경우 어떻게 해야해?\n",
      "Information: 이체서비스가 되지 않는 경우 여러가지 사유가 있을수 있으니, 신한은행 고객상담센터 1599-8000번으로 문의 주시면 자세히 상담해드리겠습니다.\n",
      "metadata:\n",
      " {'source': '신한은행', 'row': 62, 'type': '인터넷뱅킹', 'timestamp': 1713337529.3217287, 'id':\n",
      "'7fd15f87-1cd5-4f4b-ac75-122ded6cd6aa'}\n",
      "\n",
      "-----------------------------------------------\n",
      "3. Chunk: 286 Characters\n",
      "-----------------------------------------------\n",
      "ask: 매월 일정금액을 타은행으로 자동송금 신청시 이체기준 알려줘\n",
      "Information: 타은행으로 매월 일정금액을 자동송금 신청 하셨을때 당월 또는 익월은 입력하지 말고, 신청등록을 하십시오. 자동이체 등록일을 기준으로 자동 이체일이 등록일보다\n",
      "빠르면 익월부터 자동으로 이체가 되며, 자동 이체일이 등록일보다 늦으면 당월부터 자동이체가 되기 때문입니다. 예시 자동이체 신청 등록일 15일, 자동 이체일 10일이면 익월\n",
      "10일부터 이체 자동이체 신청 등록일 15일, 자동 이체일 20일이면 당월 20일부터 이체\n",
      "metadata:\n",
      " {'source': '신한은행', 'row': 38, 'type': '', 'timestamp': 1713337529.3210497, 'id':\n",
      "'d580fcd8-00be-4338-93e9-331bfab1ce80'}\n",
      "\n",
      "-----------------------------------------------\n",
      "4. Chunk: 584 Characters\n",
      "-----------------------------------------------\n",
      "ask: 이체한도 증액은 어떻게 하나요?\n",
      "Information: 영업점 방문하지 않아도 모바일뱅킹 신한 쏠(SOL) 에서 비대면실명 인증후 통합이체한도 증액 가능합니다. 통합이체한도는 이용하시는 보안매체에 따라,\n",
      "보안등급별 최고 한도내에서 증액가능합니다.\n",
      "OTP카드 창구 발급 시 5,000원(카드형 10,000원)의 수수료가 부과됩니다. 당행에서만 사용가능한 모바일OTP는 영업점 방문없이 신한 쏠(SOL) 에서 무료로\n",
      "발급가능합니다.\n",
      "※ 모바일OTP를 이용하시는 경우 쏠(SOL)에서 이체한도 증액은 1회 1천만원 이하, 1일 5천만원 이하로 증액 가능합니다.\n",
      "※ 만 14세 미만의 경우 법정대리인(부모/친권자/후견인)에 의해 영업점 방문하여 증액 가능하며 1일, 1회 1백만원 이하로 이체한도 제한됩니다.\n",
      "통합한도란 인터넷뱅킹/신한 쏠(SOL)/폰뱅킹 등을 사용하는 경우 1일 또는 1회에 이체 가능한 통합 이체한도를 말합니다.\n",
      "* 인터넷뱅킹/신한 쏠(SOL)/폰뱅킹에서 거래한 이체금액의 합이 통합이체한도의 범위를 초과할 수 없습니다.\n",
      "기타 궁금하신 내용은 신한은행 고객센터 1599-8000로 문의하여 주시기 바랍니다.\n",
      "metadata:\n",
      " {'source': '신한은행', 'row': 33, 'type': '인터넷뱅킹', 'timestamp': 1713337529.3208814, 'id':\n",
      "'887af109-e807-48e1-a233-2cc2f9bc5192'}\n",
      "\n",
      "-----------------------------------------------\n",
      "5. Chunk: 402 Characters\n",
      "-----------------------------------------------\n",
      "ask: 이체한도란 무엇인가요?\n",
      "Information: 이체한도란 인터넷뱅킹, 폰뱅킹, 모바일뱅킹 등을 통하여 이체할 수 있는 거래한도를 말합니다. ① 1일/1회 이체한도 1일 이체한도란 하루에 거래할 수 있는\n",
      "이체금액의 합을 말하여, 1회 이체한도란 1회에 이체하실 수 있는 금액의 한도를 말합니다. ② 통합이체한도 인터넷뱅킹, 폰뱅킹, 모바일뱅킹 등을 고객님이 사용하시는 경우 고객님이\n",
      "1일 또는 1회에 이체하실 수 있는 이체한도를 말합니다. 인터넷뱅킹, 폰뱅킹, 모바일뱅킹 등에서 고객님이 거래하신 이체금액의 합이 통합이체한도의 범위를 초과할 수 없습니다. ③\n",
      "최고이체한도 금융감독원에서는 개인의 전자금융 시 이용할 수 있는 이체한도의 가이드라인을 정하고 있습니다.(인터넷뱅킹 : 1일 5억원, 1회 1억원 이내)\n",
      "metadata:\n",
      " {'source': '신한은행', 'row': 39, 'type': '인터넷뱅킹', 'timestamp': 1713337529.3210788, 'id':\n",
      "'abbbecdf-9f2d-42d1-9f1d-7bd50168aa99'}\n",
      "CPU times: user 230 ms, sys: 3.13 ms, total: 233 ms\n",
      "Wall time: 829 ms\n"
     ]
    }
   ],
   "source": [
    "%%time\n",
    "search_hybrid_result = opensearch_hybrid_retriever.get_relevant_documents(query)\n",
    "\n",
    "print(\"\\n==========  Results  ==========\\n\")\n",
    "print(f'1. question: {query}')\n",
    "print (f'2. # documents: {len(search_hybrid_result)}')\n",
    "print(\"3. Documents: \\n\")\n",
    "\n",
    "search_hybrid_result\n",
    "show_context_used(search_hybrid_result)"
   ]
  },
  {
   "cell_type": "markdown",
   "id": "a981abe7-5208-48f5-a9cc-8c557e9941ca",
   "metadata": {},
   "source": [
    "## 5. RAG using RetrievalQA powered by LangChain"
   ]
  },
  {
   "cell_type": "code",
   "execution_count": 75,
   "id": "08cf6d2b-451b-499c-aec2-bb6f5abafbb0",
   "metadata": {
    "tags": []
   },
   "outputs": [],
   "source": [
    "from utils.rag import prompt_repo"
   ]
  },
  {
   "cell_type": "markdown",
   "id": "b490df1f-8113-4dd1-a578-a3e1a6918fde",
   "metadata": {
    "tags": []
   },
   "source": [
    "### Prompting\n",
    "- [TIP] Prompt의 instruction의 경우 한글보다 영어로 했을 때 더 좋은 결과를 얻을 수 있습니다."
   ]
  },
  {
   "cell_type": "code",
   "execution_count": 76,
   "id": "bfd3ec15-7750-40c3-bab8-341d56195057",
   "metadata": {
    "tags": []
   },
   "outputs": [
    {
     "name": "stdout",
     "output_type": "stream",
     "text": [
      "('\\n'\n",
      " '                        You are a master answer bot designed to answer '\n",
      " \"user's questions.\\n\"\n",
      " \"                        I'm going to give you contexts which consist of \"\n",
      " 'texts, tables and images.\\n'\n",
      " \"                        Read the contexts carefully, because I'm going to \"\n",
      " 'ask you a question about it.\\n'\n",
      " '                        ')\n"
     ]
    }
   ],
   "source": [
    "system_prompt = prompt_repo.get_system_prompt()\n",
    "pprint (system_prompt)"
   ]
  },
  {
   "cell_type": "markdown",
   "id": "c66157a6-aec8-4555-a90f-1178e6f4f6e0",
   "metadata": {},
   "source": [
    "### Update Search Params (Optional)"
   ]
  },
  {
   "cell_type": "code",
   "execution_count": 77,
   "id": "64df2daf-8b42-472a-885f-97320ee98132",
   "metadata": {
    "tags": []
   },
   "outputs": [],
   "source": [
    "from utils.rag import qa_chain\n",
    "from langchain.schema.output_parser import StrOutputParser"
   ]
  },
  {
   "cell_type": "code",
   "execution_count": 78,
   "id": "d2697230-6962-43d8-8917-ba9daa4295bb",
   "metadata": {
    "tags": []
   },
   "outputs": [],
   "source": [
    "opensearch_hybrid_retriever.update_search_params(\n",
    "    k=5,\n",
    "    minimum_should_match=0,\n",
    "    #filter=[\n",
    "    #    {\"term\": {\"metadata.project\": \"KPE\"}},\n",
    "    #],\n",
    "    reranker=True,\n",
    "    reranker_endpoint_name=endpoint_name,\n",
    "    verbose=True\n",
    ")"
   ]
  },
  {
   "cell_type": "markdown",
   "id": "aee26c22-b674-4f4f-a87b-29508e336fda",
   "metadata": {},
   "source": [
    "### Request"
   ]
  },
  {
   "cell_type": "code",
   "execution_count": 79,
   "id": "95fa61d3-9256-432a-96a3-2c696c97ea68",
   "metadata": {
    "tags": []
   },
   "outputs": [],
   "source": [
    "qa = qa_chain(\n",
    "    llm_text=llm_text,\n",
    "    retriever=opensearch_hybrid_retriever,\n",
    "    system_prompt=system_prompt,\n",
    "    return_context=True,\n",
    "    verbose=False\n",
    ")"
   ]
  },
  {
   "cell_type": "code",
   "execution_count": 80,
   "id": "390ad324-40b3-4bcb-92b9-50eb080492a5",
   "metadata": {
    "tags": []
   },
   "outputs": [
    {
     "name": "stdout",
     "output_type": "stream",
     "text": [
      "\n",
      "[Exeeds ReRanker token limit] Number of chunk_docs after split and chunking= 1\n",
      "\n",
      "\n",
      "[Exeeds ReRanker token limit] Number of chunk_docs after split and chunking= 2\n",
      "\n",
      "\n",
      "[Exeeds ReRanker token limit] Number of chunk_docs after split and chunking= 3\n",
      "\n",
      "\n",
      "[Exeeds ReRanker token limit] Number of chunk_docs after split and chunking= 3\n",
      "\n",
      "\n",
      "[Exeeds ReRanker token limit] Number of chunk_docs after split and chunking= 1\n",
      "\n",
      "\n",
      "[Exeeds ReRanker token limit] Number of chunk_docs after split and chunking= 1\n",
      "\n",
      "##############################\n",
      "async_mode\n",
      "##############################\n",
      "True\n",
      "##############################\n",
      "reranker\n",
      "##############################\n",
      "True\n",
      "##############################\n",
      "rag_fusion\n",
      "##############################\n",
      "False\n",
      "##############################\n",
      "HyDE\n",
      "##############################\n",
      "False\n",
      "##############################\n",
      "parent_document\n",
      "##############################\n",
      "False\n",
      "##############################\n",
      "complex_document\n",
      "##############################\n",
      "False\n",
      "##############################\n",
      "similar_docs_semantic\n",
      "##############################\n",
      "\n",
      "Score: 1.0\n",
      "['ask: 이체한도란 무엇인가요?', 'Information: 이체한도란 인터넷뱅킹, 폰뱅킹, 모바일뱅킹 등을 통하여 이체할 수 있는 거래한도를 말합니다. ① 1일/1회 이체한도 1일 이체한도란 하루에 거래할 수 있는 이체금액의 합을 말하여, 1회 이체한도란 1회에 이체하실 수 있는 금액의 한도를 말합니다. ② 통합이체한도 인터넷뱅킹, 폰뱅킹, 모바일뱅킹 등을 고객님이 사용하시는 경우 고객님이 1일 또는 1회에 이체하실 수 있는 이체한도를 말합니다. 인터넷뱅킹, 폰뱅킹, 모바일뱅킹 등에서 고객님이 거래하신 이체금액의 합이 통합이체한도의 범위를 초과할 수 없습니다. ③ 최고이체한도 금융감독원에서는 개인의 전자금융 시 이용할 수 있는 이체한도의 가이드라인을 정하고 있습니다.(인터넷뱅킹 : 1일 5억원, 1회 1억원 이내)']\n",
      "{'source': '신한은행', 'row': 39, 'type': '인터넷뱅킹', 'timestamp': 1713337529.3210788, 'id': 'abbbecdf-9f2d-42d1-9f1d-7bd50168aa99'}\n",
      "\n",
      "Score: 0.9898637210725622\n",
      "['ask: 이체한도 증액은 어떻게 하나요?', 'Information: 영업점 방문하지 않아도 모바일뱅킹 신한 쏠(SOL) 에서 비대면실명 인증후 통합이체한도 증액 가능합니다. 통합이체한도는 이용하시는 보안매체에 따라, 보안등급별 최고 한도내에서 증액가능합니다.\\r', 'OTP카드 창구 발급 시 5,000원(카드형 10,000원)의 수수료가 부과됩니다. 당행에서만 사용가능한 모바일OTP는 영업점 방문없이 신한 쏠(SOL) 에서 무료로 발급가능합니다. \\r', '※ 모바일OTP를 이용하시는 경우 쏠(SOL)에서 이체한도 증액은 1회 1천만원 이하, 1일 5천만원 이하로 증액 가능합니다. \\r', '※ 만 14세 미만의 경우 법정대리인(부모/친권자/후견인)에 의해 영업점 방문하여 증액 가능하며 1일, 1회 1백만원 이하로 이체한도 제한됩니다. \\r', '통합한도란 인터넷뱅킹/신한 쏠(SOL)/폰뱅킹 등을 사용하는 경우 1일 또는 1회에 이체 가능한 통합 이체한도를 말합니다.\\r', '* 인터넷뱅킹/신한 쏠(SOL)/폰뱅킹에서 거래한 이체금액의 합이 통합이체한도의 범위를 초과할 수 없습니다.\\r', '기타 궁금하신 내용은 신한은행 고객센터 1599-8000로 문의하여 주시기 바랍니다.']\n",
      "{'source': '신한은행', 'row': 33, 'type': '인터넷뱅킹', 'timestamp': 1713337529.3208814, 'id': '887af109-e807-48e1-a233-2cc2f9bc5192'}\n",
      "\n",
      "Score: 0.987978823690562\n",
      "['ask: 온라인 서비스 신청시 구비서류는?', 'Information: 온라인 서비스 신규는 본인만 가능하고 가입시 필요서류는 다음과 같습니다. 온라인 서비스 신규 시 필요서류 : 본인 신분증. 신분증 : 국가기관 또는 지방자치단체, 교육법에 의한 학교의 장이 발급한 것으로서 성명, 주민등록번호가 기재되어 있고 부착된 사진에 의하여 본인임을 확인할 수 있는 증표 (주민등록증, 운전면허증, 공무증, 여권, 노인복지카드(경로우대증), 장애인복지카드(장애인등록증 포함), 국가 유공자증, 학생증, 외국인등록증, 국내거소신고증 등). 만14세 미만 미성년자. 만 14세 미만 미성년자는 법정대리인에 의한 신청한 가능합니다. 1. 부모가 혼인중인 경우 부 또는 모 신분증, 미성년자 기준으로 발급된 특정기본증명서, 미성년자 기준으로 발급된 상세가족관계증명서. 2. 친권자나 후견인이 지정된 경우 친권자 또는 후견인의 신분증, 미성년자 기준으로 발급된 특정 기본 증명서, 미성년 자녀 기준으로 발급된 일반 가족관계증명서(후견인은 생략). 발급서류는 3개월이내 발급된 원본으로 주민등록번호 13자리가 모두 표기된 서류로 준비부탁드립니다.']\n",
      "{'source': '신한은행', 'row': 51, 'type': '인터넷뱅킹', 'timestamp': 1713337529.3214188, 'id': 'e25eb674-5d34-4b73-b16b-e4d478b4fc65'}\n",
      "\n",
      "Score: 0.984981233819992\n",
      "['ask: 인터넷에서 이체한 거래의 상세내역 및 영수증을 인쇄하고 싶어요', 'Information: 인터넷상에서 이체한 거래의 경우 인터넷상에서 제공하는 영수증은 없으며, 거래의 참고용으로 단지 조회일자 및 출금 계좌번호 등으로 상세내역(이체 확인증 목록)을 조회하거나 그 내역을 인쇄만 가능합니다. 인터넷뱅킹 거래 상세내역(이체확인증 목록)및 입금증(이체확인증) 인쇄 방법은 다음과 같습니다. ① 인터넷뱅킹에 접속하여 로그인 ② 이체 → 즉시이체 → 이체결과조회 ③ 조회구분, 출금계좌번호, 조회일자등 상세내역을 조회 ④ 입금확인증목록을 인쇄하시려면 조회된 내역 왼쪽 상단에 보이는 [이체목록인쇄] 버튼을 클릭하면 해당 거래내역을 출력할 수 있으며, 입금확인증을 인쇄하시려면 해당 이체건의 오른쪽에 있는 [인쇄] 버튼을 클릭하시면 됩니다. ※ 참고 : 즉시이체 후에도 이체확인증 목록 및 이체확인증을 출력하실 수 있습니다.']\n",
      "{'source': '신한은행', 'row': 87, 'type': '인터넷뱅킹', 'timestamp': 1713337529.3224456, 'id': '9904ac1a-caa3-4b98-b407-c2ea899623f1'}\n",
      "\n",
      "Score: 0.9779182486701656\n",
      "['ask: 예약이체를 했는데 이체일에 송금이 안된 경우는?', 'Information: 모든 예약이체 등록건은 예약이체 지정일 지정된 시간(오전 7시, 오전 9시, 오전 11시, 오후 1시, 오후 3시, 오후 5시, 오후 7시, 오후 9시) 이전에 출금할 계좌에 송금액이 입금이 되어야 이체가 실행될 수 있습니다.\\r', '이체가 되지 않았다고 판단되실 경우에는 반드시 먼저 \"예약이체처리결과조회\" 또는 \"계좌 거래내역\"을 확인 하시어 이체여부 및 출금여부를 확인하시기 바랍니다. 또한 예약이체 신청시 SMS 결과통보신청을 하셨다면 요청하신 휴대폰번호로 수신된 문자를 확인해주시기 바라며, 정해진 시간에 이체되지 않은 경우 신한은행 고객상담센터 ☎ 1599-8000번으로 문의 주시기 바랍니다.']\n",
      "{'source': '신한은행', 'row': 37, 'type': '인터넷뱅킹', 'timestamp': 1713337529.3210208, 'id': '47dea430-0ce5-47fb-b1a8-771476614ded'}\n",
      "\n",
      "Score: 0.9700019707744418\n",
      "['ask: 즉시/예약 이체 서비스가 안되는 경우 어떻게 해야해?', 'Information: 이체서비스가 되지 않는 경우 여러가지 사유가 있을수 있으니, 신한은행 고객상담센터 1599-8000번으로 문의 주시면 자세히 상담해드리겠습니다.']\n",
      "{'source': '신한은행', 'row': 62, 'type': '인터넷뱅킹', 'timestamp': 1713337529.3217287, 'id': '7fd15f87-1cd5-4f4b-ac75-122ded6cd6aa'}\n",
      "\n",
      "Score: 0.9647631571105393\n",
      "['ask: 해외고객 추가인증 방법', 'Information: 먼저 이용에 불편을 드려 대단히 죄송합니다. 2013년 9월 전자금융사기 예방서비스 전면 시행으로 인해, 국내외에서 뱅킹이용시 거래에 따라 추가인증을 거치게 되었습니다.\\r', '① 인증서 발급/재발급, 1일 누적 300만원 이상 이체시 시행하는 추가인증 방법(누적금액은 변경될수 있습니다.)해외IP로 접속하신 부분이 자동으로 확인되면 ‘해외체류 확인’ 항목이 활성화 되기 때문에 법무부 출입국관리사무소에 출국정보를 확인 받는 부분에 동의하시면 ARS 인증없이 거래가 가능합니다.\\r', '※ 해외 소재한 국내기업의 내부 인터넷망을 이용하시는 경우 국내IP로 인식하여 해당 추가 인증기능 활성화가 안되는 경우가 있으니 유의부탁드립니다.\\r', '② 해외에서 온라인을 통한 예금해지/대출실행 업무시 추가인증 방법한국시간 기준으로 은행 영업일의 오전9시부터 오후6시 사이에 뱅킹에 접속하시면  해외 현지 연락처를 직접 입력하여 추가인증의 진행이 가능하도록 되어있습니다. \\r', '③ 고객정보 보호 목적으로 인터넷뱅킹상에서 개인정보 변경 등의 일부 중요업무이 경우는 ARS인증만을 시행하도록 하고 있습니다.  왜냐하면, 타인에 의한 정보변경 시도 등을 차단하고자 하는 부분이므로 만약 해외에서 070 등 인터넷전화를 사용하시는 경우 미리 한국에서 정보변경을 하지 못하셨다면 고객센터 82-2-3449-8000 또는 82-2-3708-8000으로 상담사에게 문의하시기 바랍니다. \\r', '④ “불법거래 방지를 위해 이체거래가 정지되었다”라고 뜨는 경우\\r', '82-2-3449-8000 또는 82-2-3708-8000으로 연락주셔서 상담직원을 통한 사고등록 해제가 가능합니다. 이체제한 해제는 24시간 가능하며, 본인확인을 위해 몇가지 정보확인을 거치는 점 양해바랍니다.\\r', '82-2-3449-8000 번호로 전화주셔서 음성이 나오면 차례대로 6-3-3-0 코드를 따라서  24시간 사고관련 상담직원과 통화가 가능합니다\\r', '해외에 계신 고객분들도 뱅킹을 이용하실 수 있도록 편의성 부분도 많이 고려하고 있으나, 최근 해외IP를 통해 전자금융서비스 이용고객분들께 피해를 입히려는 시도가 다수 발생하고 있기 때문에 제한적으로 해외체류 확인 항목을 적용할 수 밖에 없어서 안타깝게 생각합니다. 편리성 못지 않게 고객분들의 소중한 자산을 지키는 것이 중요하다보니 이와 같이 시행하고 있는 점 다시 한번 양해 부탁드립니다.']\n",
      "{'source': '신한은행', 'row': 31, 'type': '인터넷뱅킹', 'timestamp': 1713337529.3208232, 'id': '7879389d-7924-408c-b3cb-d7d7ae1203cf'}\n",
      "None\n",
      "##############################\n",
      "similar_docs_keyword\n",
      "##############################\n",
      "\n",
      "Score: 1.0\n",
      "['ask: 12개월 장기미이체로 이체서비스가 중지된 경우 어떻게 해제하나요?', 'Information: 최근 12개월동안 인터넷뱅킹/폰뱅킹/모바일뱅킹에서 이체서비스를 이용하지 않은 경우 고객님의 금융자산 보호를 위하여 이체서비스가 중단됩니다. 다시 이체를 원하시는 경우에는 인터넷뱅킹/폰뱅킹/신한쏠(SOL)에서 이체정지 해제를 하실 수 있습니다.(단, 인터넷뱅킹 출금계좌가 등록되어 있는 경우) [경로] ① 당행 고객정보에 등록되어있는 연락처로 ARS 추가인증 가능한 경우: - 인터넷뱅킹 로그인→ 사용자관리→ 인터넷뱅킹관리→ 장기미사용 정지해제 (또는) - 쏠(SOL) 로그인→ 전체메뉴→ 이체 → 이체관리→ 장기미사용정지 해제 ② ARS 추가인증이 불가한 경우 (해외체류 고객등) : - 인터넷뱅킹에서는 해제 어려우며, 쏠 (SOL)에서 해제 가능합니다. 쏠(SOL)의 경로는 위와 동일하며, 비대면 실명인증후 해제 가능합니다. 비대면실명인증 - 만 14세이상 가능 - 신분증확인 (주민등록증 또는 운전면허증 또는 여권) - 본인확인 (본인명의 계좌인증 또는 영상통화) 진행 기타 궁금하신 내용은 신한은행 고객센터 1599-8000로 문의하여 주시기 바랍니다']\n",
      "{'source': '신한은행', 'row': 40, 'type': '인터넷뱅킹', 'timestamp': 1713337529.3211083, 'id': '8f495b8d-f6e6-40ba-b291-53cc7080c641'}\n",
      "\n",
      "Score: 0.7039535480460996\n",
      "['ask: 매월 일정금액을 타은행으로 자동송금 신청시 이체기준 알려줘', 'Information: 타은행으로 매월 일정금액을 자동송금 신청 하셨을때 당월 또는 익월은 입력하지 말고, 신청등록을 하십시오. 자동이체 등록일을 기준으로 자동 이체일이 등록일보다 빠르면 익월부터 자동으로 이체가 되며, 자동 이체일이 등록일보다 늦으면 당월부터 자동이체가 되기 때문입니다. 예시 자동이체 신청 등록일 15일, 자동 이체일 10일이면 익월 10일부터 이체 자동이체 신청 등록일 15일, 자동 이체일 20일이면 당월 20일부터 이체']\n",
      "{'source': '신한은행', 'row': 38, 'type': '', 'timestamp': 1713337529.3210497, 'id': 'd580fcd8-00be-4338-93e9-331bfab1ce80'}\n",
      "\n",
      "Score: 0.660852770343251\n",
      "['ask: 타행으로 자동이체를 신청하고 싶은데요', 'Information: 인터넷뱅킹을 통한 타은행 계좌로의 자동이체(납부자 자동이체)신청이 가능하며 수수료는 건당 300원 입니다. 자동이체를 신청하시려면 인터넷뱅킹에 로그인 하신후 [이체] > [자동이체] > [자동이체 등록] 메뉴를 선택하시면 타행으로의 자동이체 등록을 하실 수 있습니다. ※ 주의: 타은행 자동이체는 이체 지정일 전영업일에 고객님의 계좌에서 인출하여 이체지정일자(지정일이 휴일인 경우에는 익영업일)에 타은행 계좌로 입금됩니다. 그러므로 예금잔액이 없으면 이체처리가 안되며, 이후잔액이 채워져도 재처리를 하지 않습니다. 따라서 고객님께서 자동이체를 신청하실 때에는 충분한 잔액이 있는지 확인하시기 바랍니다.']\n",
      "{'source': '신한은행', 'row': 88, 'type': '인터넷뱅킹', 'timestamp': 1713337529.3224752, 'id': 'eb710d3d-70da-4977-99ef-e120f737ef42'}\n",
      "\n",
      "Score: 0.6367498380828476\n",
      "['ask: 이체한도란 무엇인가요?', 'Information: 이체한도란 인터넷뱅킹, 폰뱅킹, 모바일뱅킹 등을 통하여 이체할 수 있는 거래한도를 말합니다. ① 1일/1회 이체한도 1일 이체한도란 하루에 거래할 수 있는 이체금액의 합을 말하여, 1회 이체한도란 1회에 이체하실 수 있는 금액의 한도를 말합니다. ② 통합이체한도 인터넷뱅킹, 폰뱅킹, 모바일뱅킹 등을 고객님이 사용하시는 경우 고객님이 1일 또는 1회에 이체하실 수 있는 이체한도를 말합니다. 인터넷뱅킹, 폰뱅킹, 모바일뱅킹 등에서 고객님이 거래하신 이체금액의 합이 통합이체한도의 범위를 초과할 수 없습니다. ③ 최고이체한도 금융감독원에서는 개인의 전자금융 시 이용할 수 있는 이체한도의 가이드라인을 정하고 있습니다.(인터넷뱅킹 : 1일 5억원, 1회 1억원 이내)']\n",
      "{'source': '신한은행', 'row': 39, 'type': '인터넷뱅킹', 'timestamp': 1713337529.3210788, 'id': 'abbbecdf-9f2d-42d1-9f1d-7bd50168aa99'}\n",
      "\n",
      "Score: 0.5288419411639282\n",
      "['ask: 인터넷뱅킹 자동이체 신청 및 해지 방법을 알려주세요', 'Information: 자동이체(기일이체)는 일정기간동안 주기적(매월,3개월,6개월)으로 지정하신 계좌로 이체하실때 편리한 서비스입니다. 당행간 자동이체는 이체 지정일 1영업일 전까지 등록하여야 하며, 타행간 자동이체는 이체 처리일 2영업일 전까지 등록하여야 합니다.자동이체 작업은 은행 영업시간 끝난 후 이루어지며, 당행의 일정에 따라 정확한 시간이 결정됩니다. 그러므로 영업시간 중에 지급계좌에 잔액이 있어야 합니다. 자동이체 신청 및 변경/해지는 당행 인터넷뱅킹을 통해 가능하며, 인터넷뱅킹에 로그인하신 후 \"이체 > 자동이체\" 서비스를 선택하시면 됩니다. ※ 주의 : 타행으로 자동이체는 \\'이체일 전일\\'에 자금을 미리 인출하므로 예금잔액이 없으면 이체처리가 안되며, 이후잔액이 채워져도 재처리를 하지 않습니다.']\n",
      "{'source': '신한은행', 'row': 77, 'type': '인터넷뱅킹', 'timestamp': 1713337529.3221543, 'id': '31ac8cf1-9258-4e4d-a4b1-5fcb664cce72'}\n",
      "\n",
      "Score: 0.5277975797014451\n",
      "['ask: 인터넷뱅킹의 출금계좌 추가 삭제 방법 알려줘.', 'Information: 인터넷뱅킹, 신한쏠(SOL)에서 출금계좌의 추가/삭제가 가능합니다. 단, 인터넷뱅킹 신청시 또는 그 이후에 영업점에서 \"출금계좌 인터넷추가등록 동의\" 를 하신 경우에는 인터넷뱅킹, 신한 쏠 에서 추가등록이 가능하며 동의하지 않은 경우엔 신한 쏠 에서 비대면으로 신분증 확인후 출금계좌 추가등록이 가능합니다. (출금계좌 삭제는 동의여부와 관계없이 모두 가능함)\\r', '[경로]\\r', '- 인터넷뱅킹 로그인→ 사용자관리→ 계좌관리→ 출금계좌관리\\r', '- 신한 쏠(SOL) 로그인→전체메뉴→이체→이체관리→출금계좌관리\\r', '기타 궁금하신 내용은 신한은행 고객센터 1599-8000로 문의하여 주시기 바랍니다.']\n",
      "{'source': '신한은행', 'row': 74, 'type': '인터넷뱅킹', 'timestamp': 1713337529.3220687, 'id': '14e060d0-d3ec-4f34-a64f-5e22631d78d9'}\n",
      "\n",
      "Score: 0.5199366646167727\n",
      "['ask: 즉시/예약 이체 서비스가 안되는 경우 어떻게 해야해?', 'Information: 이체서비스가 되지 않는 경우 여러가지 사유가 있을수 있으니, 신한은행 고객상담센터 1599-8000번으로 문의 주시면 자세히 상담해드리겠습니다.']\n",
      "{'source': '신한은행', 'row': 62, 'type': '인터넷뱅킹', 'timestamp': 1713337529.3217287, 'id': '7fd15f87-1cd5-4f4b-ac75-122ded6cd6aa'}\n",
      "None\n",
      "##############################\n",
      "similar_docs_without_reranker\n",
      "##############################\n",
      "\n",
      "Score: 0.016016905737704916\n",
      "['ask: 이체한도란 무엇인가요?', 'Information: 이체한도란 인터넷뱅킹, 폰뱅킹, 모바일뱅킹 등을 통하여 이체할 수 있는 거래한도를 말합니다. ① 1일/1회 이체한도 1일 이체한도란 하루에 거래할 수 있는 이체금액의 합을 말하여, 1회 이체한도란 1회에 이체하실 수 있는 금액의 한도를 말합니다. ② 통합이체한도 인터넷뱅킹, 폰뱅킹, 모바일뱅킹 등을 고객님이 사용하시는 경우 고객님이 1일 또는 1회에 이체하실 수 있는 이체한도를 말합니다. 인터넷뱅킹, 폰뱅킹, 모바일뱅킹 등에서 고객님이 거래하신 이체금액의 합이 통합이체한도의 범위를 초과할 수 없습니다. ③ 최고이체한도 금융감독원에서는 개인의 전자금융 시 이용할 수 있는 이체한도의 가이드라인을 정하고 있습니다.(인터넷뱅킹 : 1일 5억원, 1회 1억원 이내)']\n",
      "{'source': '신한은행', 'row': 39, 'type': '인터넷뱅킹', 'timestamp': 1713337529.3210788, 'id': 'abbbecdf-9f2d-42d1-9f1d-7bd50168aa99'}\n",
      "\n",
      "Score: 0.015040705563093622\n",
      "['ask: 즉시/예약 이체 서비스가 안되는 경우 어떻게 해야해?', 'Information: 이체서비스가 되지 않는 경우 여러가지 사유가 있을수 있으니, 신한은행 고객상담센터 1599-8000번으로 문의 주시면 자세히 상담해드리겠습니다.']\n",
      "{'source': '신한은행', 'row': 62, 'type': '인터넷뱅킹', 'timestamp': 1713337529.3217287, 'id': '7fd15f87-1cd5-4f4b-ac75-122ded6cd6aa'}\n",
      "\n",
      "Score: 0.008225806451612904\n",
      "['ask: 이체한도 증액은 어떻게 하나요?', 'Information: 영업점 방문하지 않아도 모바일뱅킹 신한 쏠(SOL) 에서 비대면실명 인증후 통합이체한도 증액 가능합니다. 통합이체한도는 이용하시는 보안매체에 따라, 보안등급별 최고 한도내에서 증액가능합니다.\\r', 'OTP카드 창구 발급 시 5,000원(카드형 10,000원)의 수수료가 부과됩니다. 당행에서만 사용가능한 모바일OTP는 영업점 방문없이 신한 쏠(SOL) 에서 무료로 발급가능합니다. \\r', '※ 모바일OTP를 이용하시는 경우 쏠(SOL)에서 이체한도 증액은 1회 1천만원 이하, 1일 5천만원 이하로 증액 가능합니다. \\r', '※ 만 14세 미만의 경우 법정대리인(부모/친권자/후견인)에 의해 영업점 방문하여 증액 가능하며 1일, 1회 1백만원 이하로 이체한도 제한됩니다. \\r', '통합한도란 인터넷뱅킹/신한 쏠(SOL)/폰뱅킹 등을 사용하는 경우 1일 또는 1회에 이체 가능한 통합 이체한도를 말합니다.\\r', '* 인터넷뱅킹/신한 쏠(SOL)/폰뱅킹에서 거래한 이체금액의 합이 통합이체한도의 범위를 초과할 수 없습니다.\\r', '기타 궁금하신 내용은 신한은행 고객센터 1599-8000로 문의하여 주시기 바랍니다.']\n",
      "{'source': '신한은행', 'row': 33, 'type': '인터넷뱅킹', 'timestamp': 1713337529.3208814, 'id': '887af109-e807-48e1-a233-2cc2f9bc5192'}\n",
      "\n",
      "Score: 0.008095238095238095\n",
      "['ask: 온라인 서비스 신청시 구비서류는?', 'Information: 온라인 서비스 신규는 본인만 가능하고 가입시 필요서류는 다음과 같습니다. 온라인 서비스 신규 시 필요서류 : 본인 신분증. 신분증 : 국가기관 또는 지방자치단체, 교육법에 의한 학교의 장이 발급한 것으로서 성명, 주민등록번호가 기재되어 있고 부착된 사진에 의하여 본인임을 확인할 수 있는 증표 (주민등록증, 운전면허증, 공무증, 여권, 노인복지카드(경로우대증), 장애인복지카드(장애인등록증 포함), 국가 유공자증, 학생증, 외국인등록증, 국내거소신고증 등). 만14세 미만 미성년자. 만 14세 미만 미성년자는 법정대리인에 의한 신청한 가능합니다. 1. 부모가 혼인중인 경우 부 또는 모 신분증, 미성년자 기준으로 발급된 특정기본증명서, 미성년자 기준으로 발급된 상세가족관계증명서. 2. 친권자나 후견인이 지정된 경우 친권자 또는 후견인의 신분증, 미성년자 기준으로 발급된 특정 기본 증명서, 미성년 자녀 기준으로 발급된 일반 가족관계증명서(후견인은 생략). 발급서류는 3개월이내 발급된 원본으로 주민등록번호 13자리가 모두 표기된 서류로 준비부탁드립니다.']\n",
      "{'source': '신한은행', 'row': 51, 'type': '인터넷뱅킹', 'timestamp': 1713337529.3214188, 'id': 'e25eb674-5d34-4b73-b16b-e4d478b4fc65'}\n",
      "\n",
      "Score: 0.008032786885245903\n",
      "['ask: 12개월 장기미이체로 이체서비스가 중지된 경우 어떻게 해제하나요?', 'Information: 최근 12개월동안 인터넷뱅킹/폰뱅킹/모바일뱅킹에서 이체서비스를 이용하지 않은 경우 고객님의 금융자산 보호를 위하여 이체서비스가 중단됩니다. 다시 이체를 원하시는 경우에는 인터넷뱅킹/폰뱅킹/신한쏠(SOL)에서 이체정지 해제를 하실 수 있습니다.(단, 인터넷뱅킹 출금계좌가 등록되어 있는 경우) [경로] ① 당행 고객정보에 등록되어있는 연락처로 ARS 추가인증 가능한 경우: - 인터넷뱅킹 로그인→ 사용자관리→ 인터넷뱅킹관리→ 장기미사용 정지해제 (또는) - 쏠(SOL) 로그인→ 전체메뉴→ 이체 → 이체관리→ 장기미사용정지 해제 ② ARS 추가인증이 불가한 경우 (해외체류 고객등) : - 인터넷뱅킹에서는 해제 어려우며, 쏠 (SOL)에서 해제 가능합니다. 쏠(SOL)의 경로는 위와 동일하며, 비대면 실명인증후 해제 가능합니다. 비대면실명인증 - 만 14세이상 가능 - 신분증확인 (주민등록증 또는 운전면허증 또는 여권) - 본인확인 (본인명의 계좌인증 또는 영상통화) 진행 기타 궁금하신 내용은 신한은행 고객센터 1599-8000로 문의하여 주시기 바랍니다']\n",
      "{'source': '신한은행', 'row': 40, 'type': '인터넷뱅킹', 'timestamp': 1713337529.3211083, 'id': '8f495b8d-f6e6-40ba-b291-53cc7080c641'}\n",
      "\n",
      "Score: 0.00796875\n",
      "['ask: 인터넷에서 이체한 거래의 상세내역 및 영수증을 인쇄하고 싶어요', 'Information: 인터넷상에서 이체한 거래의 경우 인터넷상에서 제공하는 영수증은 없으며, 거래의 참고용으로 단지 조회일자 및 출금 계좌번호 등으로 상세내역(이체 확인증 목록)을 조회하거나 그 내역을 인쇄만 가능합니다. 인터넷뱅킹 거래 상세내역(이체확인증 목록)및 입금증(이체확인증) 인쇄 방법은 다음과 같습니다. ① 인터넷뱅킹에 접속하여 로그인 ② 이체 → 즉시이체 → 이체결과조회 ③ 조회구분, 출금계좌번호, 조회일자등 상세내역을 조회 ④ 입금확인증목록을 인쇄하시려면 조회된 내역 왼쪽 상단에 보이는 [이체목록인쇄] 버튼을 클릭하면 해당 거래내역을 출력할 수 있으며, 입금확인증을 인쇄하시려면 해당 이체건의 오른쪽에 있는 [인쇄] 버튼을 클릭하시면 됩니다. ※ 참고 : 즉시이체 후에도 이체확인증 목록 및 이체확인증을 출력하실 수 있습니다.']\n",
      "{'source': '신한은행', 'row': 87, 'type': '인터넷뱅킹', 'timestamp': 1713337529.3224456, 'id': '9904ac1a-caa3-4b98-b407-c2ea899623f1'}\n",
      "\n",
      "Score: 0.007903225806451612\n",
      "['ask: 매월 일정금액을 타은행으로 자동송금 신청시 이체기준 알려줘', 'Information: 타은행으로 매월 일정금액을 자동송금 신청 하셨을때 당월 또는 익월은 입력하지 말고, 신청등록을 하십시오. 자동이체 등록일을 기준으로 자동 이체일이 등록일보다 빠르면 익월부터 자동으로 이체가 되며, 자동 이체일이 등록일보다 늦으면 당월부터 자동이체가 되기 때문입니다. 예시 자동이체 신청 등록일 15일, 자동 이체일 10일이면 익월 10일부터 이체 자동이체 신청 등록일 15일, 자동 이체일 20일이면 당월 20일부터 이체']\n",
      "{'source': '신한은행', 'row': 38, 'type': '', 'timestamp': 1713337529.3210497, 'id': 'd580fcd8-00be-4338-93e9-331bfab1ce80'}\n",
      "None\n",
      "##############################\n",
      "similar_docs\n",
      "##############################\n",
      "\n",
      "Score: 0.11416102094482178\n",
      "['ask: 12개월 장기미이체로 이체서비스가 중지된 경우 어떻게 해제하나요?', 'Information: 최근 12개월동안 인터넷뱅킹/폰뱅킹/모바일뱅킹에서 이체서비스를 이용하지 않은 경우 고객님의 금융자산 보호를 위하여 이체서비스가 중단됩니다. 다시 이체를 원하시는 경우에는 인터넷뱅킹/폰뱅킹/신한쏠(SOL)에서 이체정지 해제를 하실 수 있습니다.(단, 인터넷뱅킹 출금계좌가 등록되어 있는 경우) [경로] ① 당행 고객정보에 등록되어있는 연락처로 ARS 추가인증 가능한 경우: - 인터넷뱅킹 로그인→ 사용자관리→ 인터넷뱅킹관리→ 장기미사용 정지해제 (또는) - 쏠(SOL) 로그인→ 전체메뉴→ 이체 → 이체관리→ 장기미사용정지 해제 ② ARS 추가인증이 불가한 경우 (해외체류 고객등) : - 인터넷뱅킹에서는 해제 어려우며, 쏠 (SOL)에서 해제 가능합니다. 쏠(SOL)의 경로는 위와 동일하며, 비대면 실명인증후 해제 가능합니다. 비대면실명인증 - 만 14세이상 가능 - 신분증확인 (주민등록증 또는 운전면허증 또는 여권) - 본인확인 (본인명의 계좌인증 또는 영상통화) 진행 기타 궁금하신 내용은 신한은행 고객센터 1599-8000로 문의하여 주시기 바랍니다']\n",
      "{'source': '신한은행', 'row': 40, 'type': '인터넷뱅킹', 'timestamp': 1713337529.3211083, 'id': '8f495b8d-f6e6-40ba-b291-53cc7080c641'}\n",
      "\n",
      "Score: 0.07611232995986938\n",
      "['ask: 즉시/예약 이체 서비스가 안되는 경우 어떻게 해야해?', 'Information: 이체서비스가 되지 않는 경우 여러가지 사유가 있을수 있으니, 신한은행 고객상담센터 1599-8000번으로 문의 주시면 자세히 상담해드리겠습니다.']\n",
      "{'source': '신한은행', 'row': 62, 'type': '인터넷뱅킹', 'timestamp': 1713337529.3217287, 'id': '7fd15f87-1cd5-4f4b-ac75-122ded6cd6aa'}\n",
      "\n",
      "Score: 0.0023896454367786646\n",
      "['ask: 매월 일정금액을 타은행으로 자동송금 신청시 이체기준 알려줘', 'Information: 타은행으로 매월 일정금액을 자동송금 신청 하셨을때 당월 또는 익월은 입력하지 말고, 신청등록을 하십시오. 자동이체 등록일을 기준으로 자동 이체일이 등록일보다 빠르면 익월부터 자동으로 이체가 되며, 자동 이체일이 등록일보다 늦으면 당월부터 자동이체가 되기 때문입니다. 예시 자동이체 신청 등록일 15일, 자동 이체일 10일이면 익월 10일부터 이체 자동이체 신청 등록일 15일, 자동 이체일 20일이면 당월 20일부터 이체']\n",
      "{'source': '신한은행', 'row': 38, 'type': '', 'timestamp': 1713337529.3210497, 'id': 'd580fcd8-00be-4338-93e9-331bfab1ce80'}\n",
      "\n",
      "Score: 0.00041722936734813306\n",
      "['ask: 이체한도 증액은 어떻게 하나요?', 'Information: 영업점 방문하지 않아도 모바일뱅킹 신한 쏠(SOL) 에서 비대면실명 인증후 통합이체한도 증액 가능합니다. 통합이체한도는 이용하시는 보안매체에 따라, 보안등급별 최고 한도내에서 증액가능합니다.\\r', 'OTP카드 창구 발급 시 5,000원(카드형 10,000원)의 수수료가 부과됩니다. 당행에서만 사용가능한 모바일OTP는 영업점 방문없이 신한 쏠(SOL) 에서 무료로 발급가능합니다. \\r', '※ 모바일OTP를 이용하시는 경우 쏠(SOL)에서 이체한도 증액은 1회 1천만원 이하, 1일 5천만원 이하로 증액 가능합니다. \\r', '※ 만 14세 미만의 경우 법정대리인(부모/친권자/후견인)에 의해 영업점 방문하여 증액 가능하며 1일, 1회 1백만원 이하로 이체한도 제한됩니다. \\r', '통합한도란 인터넷뱅킹/신한 쏠(SOL)/폰뱅킹 등을 사용하는 경우 1일 또는 1회에 이체 가능한 통합 이체한도를 말합니다.\\r', '* 인터넷뱅킹/신한 쏠(SOL)/폰뱅킹에서 거래한 이체금액의 합이 통합이체한도의 범위를 초과할 수 없습니다.\\r', '기타 궁금하신 내용은 신한은행 고객센터 1599-8000로 문의하여 주시기 바랍니다.']\n",
      "{'source': '신한은행', 'row': 33, 'type': '인터넷뱅킹', 'timestamp': 1713337529.3208814, 'id': '887af109-e807-48e1-a233-2cc2f9bc5192'}\n",
      "\n",
      "Score: 0.0003966243821196258\n",
      "['ask: 이체한도란 무엇인가요?', 'Information: 이체한도란 인터넷뱅킹, 폰뱅킹, 모바일뱅킹 등을 통하여 이체할 수 있는 거래한도를 말합니다. ① 1일/1회 이체한도 1일 이체한도란 하루에 거래할 수 있는 이체금액의 합을 말하여, 1회 이체한도란 1회에 이체하실 수 있는 금액의 한도를 말합니다. ② 통합이체한도 인터넷뱅킹, 폰뱅킹, 모바일뱅킹 등을 고객님이 사용하시는 경우 고객님이 1일 또는 1회에 이체하실 수 있는 이체한도를 말합니다. 인터넷뱅킹, 폰뱅킹, 모바일뱅킹 등에서 고객님이 거래하신 이체금액의 합이 통합이체한도의 범위를 초과할 수 없습니다. ③ 최고이체한도 금융감독원에서는 개인의 전자금융 시 이용할 수 있는 이체한도의 가이드라인을 정하고 있습니다.(인터넷뱅킹 : 1일 5억원, 1회 1억원 이내)']\n",
      "{'source': '신한은행', 'row': 39, 'type': '인터넷뱅킹', 'timestamp': 1713337529.3210788, 'id': 'abbbecdf-9f2d-42d1-9f1d-7bd50168aa99'}\n",
      "None\n",
      "12개월 장기미이체로 이체서비스가 중지된 경우 해제 방법은 다음과 같습니다:\n",
      "\n",
      "① 당행 고객정보에 등록되어있는 연락처로 ARS 추가인증이 가능한 경우:\n",
      "- 인터넷뱅킹 로그인 > 사용자관리 > 인터넷뱅킹관리 > 장기미사용 정지해제\n",
      "- 신한쏠(SOL) 로그인 > 전체메뉴 > 이체 > 이체관리 > 장기미사용정지 해제\n",
      "\n",
      "② ARS 추가인증이 불가한 경우(해외체류 고객 등):\n",
      "- 인터넷뱅킹에서는 해제가 어려우며, 신한쏠(SOL)에서 해제 가능\n",
      "- 신한쏠(SOL)의 경로는 위와 동일하며, 비대면 실명인증 후 해제 가능\n",
      "\n",
      "따라서 ARS 추가인증이 가능한 경우에는 인터넷뱅킹이나 신한쏠(SOL)에서 장기미사용정지 해제가 가능하며, ARS 추가인증이 불가한 경우에는 신한쏠(SOL)에서 비대면 실명인증 후 해제할 수 있습니다.\n",
      "-----------------------------------------------\n",
      "1. Chunk: 591 Characters\n",
      "-----------------------------------------------\n",
      "ask: 12개월 장기미이체로 이체서비스가 중지된 경우 어떻게 해제하나요?\n",
      "Information: 최근 12개월동안 인터넷뱅킹/폰뱅킹/모바일뱅킹에서 이체서비스를 이용하지 않은 경우 고객님의 금융자산 보호를 위하여 이체서비스가 중단됩니다. 다시 이체를\n",
      "원하시는 경우에는 인터넷뱅킹/폰뱅킹/신한쏠(SOL)에서 이체정지 해제를 하실 수 있습니다.(단, 인터넷뱅킹 출금계좌가 등록되어 있는 경우) [경로] ① 당행 고객정보에 등록되어있는\n",
      "연락처로 ARS 추가인증 가능한 경우: - 인터넷뱅킹 로그인→ 사용자관리→ 인터넷뱅킹관리→ 장기미사용 정지해제 (또는) - 쏠(SOL) 로그인→ 전체메뉴→ 이체 → 이체관리→\n",
      "장기미사용정지 해제 ② ARS 추가인증이 불가한 경우 (해외체류 고객등) : - 인터넷뱅킹에서는 해제 어려우며, 쏠 (SOL)에서 해제 가능합니다. 쏠(SOL)의 경로는 위와\n",
      "동일하며, 비대면 실명인증후 해제 가능합니다. 비대면실명인증 - 만 14세이상 가능 - 신분증확인 (주민등록증 또는 운전면허증 또는 여권) - 본인확인 (본인명의 계좌인증 또는\n",
      "영상통화) 진행 기타 궁금하신 내용은 신한은행 고객센터 1599-8000로 문의하여 주시기 바랍니다\n",
      "metadata:\n",
      " {'source': '신한은행', 'row': 40, 'type': '인터넷뱅킹', 'timestamp': 1713337529.3211083, 'id':\n",
      "'8f495b8d-f6e6-40ba-b291-53cc7080c641'}\n",
      "\n",
      "-----------------------------------------------\n",
      "2. Chunk: 128 Characters\n",
      "-----------------------------------------------\n",
      "ask: 즉시/예약 이체 서비스가 안되는 경우 어떻게 해야해?\n",
      "Information: 이체서비스가 되지 않는 경우 여러가지 사유가 있을수 있으니, 신한은행 고객상담센터 1599-8000번으로 문의 주시면 자세히 상담해드리겠습니다.\n",
      "metadata:\n",
      " {'source': '신한은행', 'row': 62, 'type': '인터넷뱅킹', 'timestamp': 1713337529.3217287, 'id':\n",
      "'7fd15f87-1cd5-4f4b-ac75-122ded6cd6aa'}\n",
      "\n",
      "-----------------------------------------------\n",
      "3. Chunk: 286 Characters\n",
      "-----------------------------------------------\n",
      "ask: 매월 일정금액을 타은행으로 자동송금 신청시 이체기준 알려줘\n",
      "Information: 타은행으로 매월 일정금액을 자동송금 신청 하셨을때 당월 또는 익월은 입력하지 말고, 신청등록을 하십시오. 자동이체 등록일을 기준으로 자동 이체일이 등록일보다\n",
      "빠르면 익월부터 자동으로 이체가 되며, 자동 이체일이 등록일보다 늦으면 당월부터 자동이체가 되기 때문입니다. 예시 자동이체 신청 등록일 15일, 자동 이체일 10일이면 익월\n",
      "10일부터 이체 자동이체 신청 등록일 15일, 자동 이체일 20일이면 당월 20일부터 이체\n",
      "metadata:\n",
      " {'source': '신한은행', 'row': 38, 'type': '', 'timestamp': 1713337529.3210497, 'id':\n",
      "'d580fcd8-00be-4338-93e9-331bfab1ce80'}\n",
      "\n",
      "-----------------------------------------------\n",
      "4. Chunk: 584 Characters\n",
      "-----------------------------------------------\n",
      "ask: 이체한도 증액은 어떻게 하나요?\n",
      "Information: 영업점 방문하지 않아도 모바일뱅킹 신한 쏠(SOL) 에서 비대면실명 인증후 통합이체한도 증액 가능합니다. 통합이체한도는 이용하시는 보안매체에 따라,\n",
      "보안등급별 최고 한도내에서 증액가능합니다.\n",
      "OTP카드 창구 발급 시 5,000원(카드형 10,000원)의 수수료가 부과됩니다. 당행에서만 사용가능한 모바일OTP는 영업점 방문없이 신한 쏠(SOL) 에서 무료로\n",
      "발급가능합니다.\n",
      "※ 모바일OTP를 이용하시는 경우 쏠(SOL)에서 이체한도 증액은 1회 1천만원 이하, 1일 5천만원 이하로 증액 가능합니다.\n",
      "※ 만 14세 미만의 경우 법정대리인(부모/친권자/후견인)에 의해 영업점 방문하여 증액 가능하며 1일, 1회 1백만원 이하로 이체한도 제한됩니다.\n",
      "통합한도란 인터넷뱅킹/신한 쏠(SOL)/폰뱅킹 등을 사용하는 경우 1일 또는 1회에 이체 가능한 통합 이체한도를 말합니다.\n",
      "* 인터넷뱅킹/신한 쏠(SOL)/폰뱅킹에서 거래한 이체금액의 합이 통합이체한도의 범위를 초과할 수 없습니다.\n",
      "기타 궁금하신 내용은 신한은행 고객센터 1599-8000로 문의하여 주시기 바랍니다.\n",
      "metadata:\n",
      " {'source': '신한은행', 'row': 33, 'type': '인터넷뱅킹', 'timestamp': 1713337529.3208814, 'id':\n",
      "'887af109-e807-48e1-a233-2cc2f9bc5192'}\n",
      "\n",
      "-----------------------------------------------\n",
      "5. Chunk: 402 Characters\n",
      "-----------------------------------------------\n",
      "ask: 이체한도란 무엇인가요?\n",
      "Information: 이체한도란 인터넷뱅킹, 폰뱅킹, 모바일뱅킹 등을 통하여 이체할 수 있는 거래한도를 말합니다. ① 1일/1회 이체한도 1일 이체한도란 하루에 거래할 수 있는\n",
      "이체금액의 합을 말하여, 1회 이체한도란 1회에 이체하실 수 있는 금액의 한도를 말합니다. ② 통합이체한도 인터넷뱅킹, 폰뱅킹, 모바일뱅킹 등을 고객님이 사용하시는 경우 고객님이\n",
      "1일 또는 1회에 이체하실 수 있는 이체한도를 말합니다. 인터넷뱅킹, 폰뱅킹, 모바일뱅킹 등에서 고객님이 거래하신 이체금액의 합이 통합이체한도의 범위를 초과할 수 없습니다. ③\n",
      "최고이체한도 금융감독원에서는 개인의 전자금융 시 이용할 수 있는 이체한도의 가이드라인을 정하고 있습니다.(인터넷뱅킹 : 1일 5억원, 1회 1억원 이내)\n",
      "metadata:\n",
      " {'source': '신한은행', 'row': 39, 'type': '인터넷뱅킹', 'timestamp': 1713337529.3210788, 'id':\n",
      "'abbbecdf-9f2d-42d1-9f1d-7bd50168aa99'}\n"
     ]
    }
   ],
   "source": [
    "query = \"중지된 경우 이체\"\n",
    "#query = \"vidio max size?\"\n",
    "\n",
    "response, contexts = qa.invoke(\n",
    "    query = query\n",
    ")\n",
    "\n",
    "show_context_used(contexts)"
   ]
  },
  {
   "cell_type": "code",
   "execution_count": 81,
   "id": "01e77dad-dc19-416b-80e7-19fac3b736a5",
   "metadata": {
    "tags": []
   },
   "outputs": [
    {
     "name": "stdout",
     "output_type": "stream",
     "text": [
      "##################################\n",
      "query:  중지된 경우 이체\n",
      "##################################\n",
      "\u001b[34m\n",
      "\n",
      "### Answer ###\u001b[0m\n",
      "12개월 장기미이체로 이체서비스가 중지된 경우 해제 방법은 다음과 같습니다:\n",
      "\n",
      "① 당행 고객정보에 등록되어있는 연락처로 ARS 추가인증이 가능한 경우:\n",
      "- 인터넷뱅킹 로그인 > 사용자관리 > 인터넷뱅킹관리 > 장기미사용 정지해제\n",
      "- 신한쏠(SOL) 로그인 > 전체메뉴 > 이체 > 이체관리 > 장기미사용정지 해제\n",
      "\n",
      "② ARS 추가인증이 불가한 경우(해외체류 고객 등):\n",
      "- 인터넷뱅킹에서는 해제가 어려우며, 신한쏠(SOL)에서 해제 가능\n",
      "- 신한쏠(SOL)의 경로는 위와 동일하며, 비대면 실명인증 후 해제 가능\n",
      "\n",
      "따라서 ARS 추가인증이 가능한 경우에는 인터넷뱅킹이나 신한쏠(SOL)에서 장기미사용정지 해제가 가능하며, ARS 추가인증이 불가한 경우에는 신한쏠(SOL)에서 비대면 실명인증 후\n",
      "해제할 수 있습니다.\n",
      "\u001b[32m\n",
      "\n",
      "### Contexts ###\u001b[0m\n",
      "\n",
      "-----------------------------------------------\n",
      "1. Chunk: 591 Characters\n",
      "-----------------------------------------------\n",
      "ask: 12개월 장기미이체로 이체서비스가 중지된 경우 어떻게 해제하나요?\n",
      "Information: 최근 12개월동안 인터넷뱅킹/폰뱅킹/모바일뱅킹에서 이체서비스를 이용하지 않은 경우 고객님의 금융자산 보호를 위하여 이체서비스가 중단됩니다. 다시 이체를\n",
      "원하시는 경우에는 인터넷뱅킹/폰뱅킹/신한쏠(SOL)에서 이체정지 해제를 하실 수 있습니다.(단, 인터넷뱅킹 출금계좌가 등록되어 있는 경우) [경로] ① 당행 고객정보에 등록되어있는\n",
      "연락처로 ARS 추가인증 가능한 경우: - 인터넷뱅킹 로그인→ 사용자관리→ 인터넷뱅킹관리→ 장기미사용 정지해제 (또는) - 쏠(SOL) 로그인→ 전체메뉴→ 이체 → 이체관리→\n",
      "장기미사용정지 해제 ② ARS 추가인증이 불가한 경우 (해외체류 고객등) : - 인터넷뱅킹에서는 해제 어려우며, 쏠 (SOL)에서 해제 가능합니다. 쏠(SOL)의 경로는 위와\n",
      "동일하며, 비대면 실명인증후 해제 가능합니다. 비대면실명인증 - 만 14세이상 가능 - 신분증확인 (주민등록증 또는 운전면허증 또는 여권) - 본인확인 (본인명의 계좌인증 또는\n",
      "영상통화) 진행 기타 궁금하신 내용은 신한은행 고객센터 1599-8000로 문의하여 주시기 바랍니다\n",
      "metadata:\n",
      " {'source': '신한은행', 'row': 40, 'type': '인터넷뱅킹', 'timestamp': 1713337529.3211083, 'id':\n",
      "'8f495b8d-f6e6-40ba-b291-53cc7080c641'}\n",
      "\n",
      "-----------------------------------------------\n",
      "2. Chunk: 128 Characters\n",
      "-----------------------------------------------\n",
      "ask: 즉시/예약 이체 서비스가 안되는 경우 어떻게 해야해?\n",
      "Information: 이체서비스가 되지 않는 경우 여러가지 사유가 있을수 있으니, 신한은행 고객상담센터 1599-8000번으로 문의 주시면 자세히 상담해드리겠습니다.\n",
      "metadata:\n",
      " {'source': '신한은행', 'row': 62, 'type': '인터넷뱅킹', 'timestamp': 1713337529.3217287, 'id':\n",
      "'7fd15f87-1cd5-4f4b-ac75-122ded6cd6aa'}\n",
      "\n",
      "-----------------------------------------------\n",
      "3. Chunk: 286 Characters\n",
      "-----------------------------------------------\n",
      "ask: 매월 일정금액을 타은행으로 자동송금 신청시 이체기준 알려줘\n",
      "Information: 타은행으로 매월 일정금액을 자동송금 신청 하셨을때 당월 또는 익월은 입력하지 말고, 신청등록을 하십시오. 자동이체 등록일을 기준으로 자동 이체일이 등록일보다\n",
      "빠르면 익월부터 자동으로 이체가 되며, 자동 이체일이 등록일보다 늦으면 당월부터 자동이체가 되기 때문입니다. 예시 자동이체 신청 등록일 15일, 자동 이체일 10일이면 익월\n",
      "10일부터 이체 자동이체 신청 등록일 15일, 자동 이체일 20일이면 당월 20일부터 이체\n",
      "metadata:\n",
      " {'source': '신한은행', 'row': 38, 'type': '', 'timestamp': 1713337529.3210497, 'id':\n",
      "'d580fcd8-00be-4338-93e9-331bfab1ce80'}\n",
      "\n",
      "-----------------------------------------------\n",
      "4. Chunk: 584 Characters\n",
      "-----------------------------------------------\n",
      "ask: 이체한도 증액은 어떻게 하나요?\n",
      "Information: 영업점 방문하지 않아도 모바일뱅킹 신한 쏠(SOL) 에서 비대면실명 인증후 통합이체한도 증액 가능합니다. 통합이체한도는 이용하시는 보안매체에 따라,\n",
      "보안등급별 최고 한도내에서 증액가능합니다.\n",
      "OTP카드 창구 발급 시 5,000원(카드형 10,000원)의 수수료가 부과됩니다. 당행에서만 사용가능한 모바일OTP는 영업점 방문없이 신한 쏠(SOL) 에서 무료로\n",
      "발급가능합니다.\n",
      "※ 모바일OTP를 이용하시는 경우 쏠(SOL)에서 이체한도 증액은 1회 1천만원 이하, 1일 5천만원 이하로 증액 가능합니다.\n",
      "※ 만 14세 미만의 경우 법정대리인(부모/친권자/후견인)에 의해 영업점 방문하여 증액 가능하며 1일, 1회 1백만원 이하로 이체한도 제한됩니다.\n",
      "통합한도란 인터넷뱅킹/신한 쏠(SOL)/폰뱅킹 등을 사용하는 경우 1일 또는 1회에 이체 가능한 통합 이체한도를 말합니다.\n",
      "* 인터넷뱅킹/신한 쏠(SOL)/폰뱅킹에서 거래한 이체금액의 합이 통합이체한도의 범위를 초과할 수 없습니다.\n",
      "기타 궁금하신 내용은 신한은행 고객센터 1599-8000로 문의하여 주시기 바랍니다.\n",
      "metadata:\n",
      " {'source': '신한은행', 'row': 33, 'type': '인터넷뱅킹', 'timestamp': 1713337529.3208814, 'id':\n",
      "'887af109-e807-48e1-a233-2cc2f9bc5192'}\n",
      "\n",
      "-----------------------------------------------\n",
      "5. Chunk: 402 Characters\n",
      "-----------------------------------------------\n",
      "ask: 이체한도란 무엇인가요?\n",
      "Information: 이체한도란 인터넷뱅킹, 폰뱅킹, 모바일뱅킹 등을 통하여 이체할 수 있는 거래한도를 말합니다. ① 1일/1회 이체한도 1일 이체한도란 하루에 거래할 수 있는\n",
      "이체금액의 합을 말하여, 1회 이체한도란 1회에 이체하실 수 있는 금액의 한도를 말합니다. ② 통합이체한도 인터넷뱅킹, 폰뱅킹, 모바일뱅킹 등을 고객님이 사용하시는 경우 고객님이\n",
      "1일 또는 1회에 이체하실 수 있는 이체한도를 말합니다. 인터넷뱅킹, 폰뱅킹, 모바일뱅킹 등에서 고객님이 거래하신 이체금액의 합이 통합이체한도의 범위를 초과할 수 없습니다. ③\n",
      "최고이체한도 금융감독원에서는 개인의 전자금융 시 이용할 수 있는 이체한도의 가이드라인을 정하고 있습니다.(인터넷뱅킹 : 1일 5억원, 1회 1억원 이내)\n",
      "metadata:\n",
      " {'source': '신한은행', 'row': 39, 'type': '인터넷뱅킹', 'timestamp': 1713337529.3210788, 'id':\n",
      "'abbbecdf-9f2d-42d1-9f1d-7bd50168aa99'}\n"
     ]
    }
   ],
   "source": [
    "print(\"##################################\")\n",
    "print(\"query: \", query)\n",
    "print(\"##################################\")\n",
    "\n",
    "print (colored(\"\\n\\n### Answer ###\", \"blue\"))\n",
    "print_ww(response)\n",
    "\n",
    "print (colored(\"\\n\\n### Contexts ###\", \"green\"))\n",
    "show_context_used(contexts)"
   ]
  },
  {
   "cell_type": "code",
   "execution_count": null,
   "id": "ab0d1ef1-8a66-4530-9080-94671c1402ce",
   "metadata": {},
   "outputs": [],
   "source": []
  },
  {
   "cell_type": "code",
   "execution_count": null,
   "id": "21b1a2a9-a914-4b61-8e8f-3523997f2181",
   "metadata": {},
   "outputs": [],
   "source": []
  },
  {
   "cell_type": "code",
   "execution_count": null,
   "id": "d6653b87-015b-4b2c-872b-26772b22c266",
   "metadata": {},
   "outputs": [],
   "source": []
  },
  {
   "cell_type": "code",
   "execution_count": null,
   "id": "995dbeec-9be1-498f-8732-465abe3eb723",
   "metadata": {},
   "outputs": [],
   "source": []
  },
  {
   "cell_type": "code",
   "execution_count": null,
   "id": "c6f437e5-7f85-469e-bf27-17fedafcf1bb",
   "metadata": {},
   "outputs": [],
   "source": [
    "#!pip install -U FlagEmbedding\n",
    "%%time\n",
    "from FlagEmbedding import FlagReranker\n",
    "reranker = FlagReranker('BAAI/bge-reranker-large', use_fp16=False) # Setting use_fp16 to True speeds up computation with a slight performance degradation\n",
    "\n",
    "score = reranker.compute_score(['query', 'passage'])\n",
    "print(score)\n",
    "\n",
    "scores = reranker.compute_score([['what is panda?', 'hi'], ['what is panda?', 'The giant panda (Ailuropoda melanoleuca), sometimes called a panda bear or simply panda, is a bear species endemic to China.']])\n",
    "print(scores)"
   ]
  }
 ],
 "metadata": {
  "kernelspec": {
   "display_name": "conda_python3",
   "language": "python",
   "name": "conda_python3"
  },
  "language_info": {
   "codemirror_mode": {
    "name": "ipython",
    "version": 3
   },
   "file_extension": ".py",
   "mimetype": "text/x-python",
   "name": "python",
   "nbconvert_exporter": "python",
   "pygments_lexer": "ipython3",
   "version": "3.10.14"
  },
  "vscode": {
   "interpreter": {
    "hash": "4b8e647a79df62bf31906a725b05de775d285962ac600487339d38c51a5c07b1"
   }
  }
 },
 "nbformat": 4,
 "nbformat_minor": 5
}
