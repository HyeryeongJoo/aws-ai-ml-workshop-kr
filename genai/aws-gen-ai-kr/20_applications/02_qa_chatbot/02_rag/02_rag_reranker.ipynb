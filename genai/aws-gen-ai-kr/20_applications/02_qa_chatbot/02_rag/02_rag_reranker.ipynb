{
 "cells": [
  {
   "cell_type": "markdown",
   "id": "00cf0287-4f34-423d-a25b-83e92acdb5d7",
   "metadata": {},
   "source": [
    "# RAG Based on ReRanker\n",
    "- Hybrid Search\n",
    "- ReRanker"
   ]
  },
  {
   "cell_type": "markdown",
   "id": "b1f81abc-3277-4a6b-9ef1-d4f997d67fbe",
   "metadata": {},
   "source": [
    "## Setting\n",
    " - Auto Reload\n",
    " - path for utils"
   ]
  },
  {
   "cell_type": "code",
   "execution_count": 7,
   "id": "ddde4105-b759-4d6c-8214-8e1ab485ae48",
   "metadata": {
    "tags": []
   },
   "outputs": [
    {
     "name": "stdout",
     "output_type": "stream",
     "text": [
      "The autoreload extension is already loaded. To reload it, use:\n",
      "  %reload_ext autoreload\n"
     ]
    }
   ],
   "source": [
    "%load_ext autoreload\n",
    "%autoreload 2"
   ]
  },
  {
   "cell_type": "code",
   "execution_count": 8,
   "id": "57c2cdb1-d785-4317-afce-938f13141085",
   "metadata": {
    "tags": []
   },
   "outputs": [],
   "source": [
    "import sys, os\n",
    "module_path = \"../../..\"\n",
    "sys.path.append(os.path.abspath(module_path))"
   ]
  },
  {
   "cell_type": "markdown",
   "id": "9c4ade56-8dbc-4ded-b355-7e4bcc971e90",
   "metadata": {},
   "source": [
    "## 1. Bedrock Client 생성"
   ]
  },
  {
   "cell_type": "code",
   "execution_count": 9,
   "id": "cc2d877f-e877-48f6-8dd4-239de20e45cd",
   "metadata": {
    "tags": []
   },
   "outputs": [],
   "source": [
    "import json\n",
    "import boto3\n",
    "from pprint import pprint\n",
    "from termcolor import colored\n",
    "from utils import bedrock, print_ww\n",
    "from utils.bedrock import bedrock_info"
   ]
  },
  {
   "cell_type": "markdown",
   "id": "088e6490-c79a-49e4-841c-9fdb91292608",
   "metadata": {},
   "source": [
    "### ---- ⚠️ Un-comment and edit the below lines as needed for your AWS setup ⚠️ ----\n",
    "- os.environ[\"AWS_DEFAULT_REGION\"] = \"<REGION_NAME>\"  # E.g. \"us-east-1\"\n",
    "- os.environ[\"AWS_PROFILE\"] = \"<YOUR_PROFILE>\"\n",
    "- os.environ[\"BEDROCK_ASSUME_ROLE\"] = \"<YOUR_ROLE_ARN>\"  # E.g. \"arn:aws:...\"\n",
    "- os.environ[\"BEDROCK_ENDPOINT_URL\"] = \"<YOUR_ENDPOINT_URL>\"  # E.g. \"https://...\""
   ]
  },
  {
   "cell_type": "code",
   "execution_count": 43,
   "id": "cab9312c-5f61-4730-96c3-5eef54a5f08c",
   "metadata": {
    "tags": []
   },
   "outputs": [
    {
     "name": "stdout",
     "output_type": "stream",
     "text": [
      "Create new client\n",
      "  Using region: None\n",
      "  Using profile: None\n",
      "boto3 Bedrock client successfully created!\n",
      "bedrock-runtime(https://bedrock-runtime.us-west-2.amazonaws.com)\n",
      "\u001b[32m\n",
      "== FM lists ==\u001b[0m\n",
      "{'Claude-Instant-V1': 'anthropic.claude-instant-v1',\n",
      " 'Claude-V1': 'anthropic.claude-v1',\n",
      " 'Claude-V2': 'anthropic.claude-v2',\n",
      " 'Claude-V2-1': 'anthropic.claude-v2:1',\n",
      " 'Claude-V3-5-Sonnet': 'anthropic.claude-3-5-sonnet-20240620-v1:0',\n",
      " 'Claude-V3-Haiku': 'anthropic.claude-3-haiku-20240307-v1:0',\n",
      " 'Claude-V3-Opus': 'anthropic.claude-3-sonnet-20240229-v1:0',\n",
      " 'Claude-V3-Sonnet': 'anthropic.claude-3-sonnet-20240229-v1:0',\n",
      " 'Cohere-Embeddings-En': 'cohere.embed-english-v3',\n",
      " 'Cohere-Embeddings-Multilingual': 'cohere.embed-multilingual-v3',\n",
      " 'Command': 'cohere.command-text-v14',\n",
      " 'Command-Light': 'cohere.command-light-text-v14',\n",
      " 'Jurassic-2-Mid': 'ai21.j2-mid-v1',\n",
      " 'Jurassic-2-Ultra': 'ai21.j2-ultra-v1',\n",
      " 'Llama2-13b-Chat': 'meta.llama2-13b-chat-v1',\n",
      " 'Titan-Embeddings-G1': 'amazon.titan-embed-text-v1',\n",
      " 'Titan-Text-Embeddings-V2': 'amazon.titan-embed-text-v2:0',\n",
      " 'Titan-Text-G1': 'amazon.titan-text-express-v1',\n",
      " 'Titan-Text-G1-Express': 'amazon.titan-text-express-v1',\n",
      " 'Titan-Text-G1-Light': 'amazon.titan-text-lite-v1',\n",
      " 'Titan-Text-G1-Premier': 'amazon.titan-text-premier-v1:0'}\n"
     ]
    }
   ],
   "source": [
    "boto3_bedrock = bedrock.get_bedrock_client(\n",
    "    assumed_role=os.environ.get(\"BEDROCK_ASSUME_ROLE\", None),\n",
    "    endpoint_url=os.environ.get(\"BEDROCK_ENDPOINT_URL\", None),\n",
    "    region=os.environ.get(\"AWS_DEFAULT_REGION\", None),\n",
    ")\n",
    "\n",
    "aws_region = os.environ.get(\"AWS_DEFAULT_REGION\", None)\n",
    "print (colored(\"\\n== FM lists ==\", \"green\"))\n",
    "pprint (bedrock_info.get_list_fm_models())"
   ]
  },
  {
   "cell_type": "markdown",
   "id": "241a9e34-417a-422f-9f75-cb211b2e70e1",
   "metadata": {
    "tags": []
   },
   "source": [
    "## 2. Titan Embedding 및 LLM 인 Claude-v3.5 모델 로딩"
   ]
  },
  {
   "cell_type": "markdown",
   "id": "29bf63d2-4110-407c-af06-a45d2fbed4b5",
   "metadata": {},
   "source": [
    "### LLM 로딩 (Claude-v3.5)"
   ]
  },
  {
   "cell_type": "code",
   "execution_count": 44,
   "id": "9c51443a-04f9-465c-9564-53053eb3e1c2",
   "metadata": {
    "tags": []
   },
   "outputs": [],
   "source": [
    "from langchain_aws import ChatBedrock\n",
    "from langchain.callbacks.streaming_stdout import StreamingStdOutCallbackHandler"
   ]
  },
  {
   "cell_type": "code",
   "execution_count": 45,
   "id": "d09e84e0-b9e1-4b12-8e7a-68f03c5416e5",
   "metadata": {
    "tags": []
   },
   "outputs": [
    {
     "data": {
      "text/plain": [
       "ChatBedrock(callbacks=[<langchain_core.callbacks.streaming_stdout.StreamingStdOutCallbackHandler object at 0x7fb2d8118fd0>], client=<botocore.client.BedrockRuntime object at 0x7fb277481cf0>, model_id='anthropic.claude-3-5-sonnet-20240620-v1:0', model_kwargs={'max_tokens': 1024, 'stop_sequences': ['\\n\\nHuman']})"
      ]
     },
     "execution_count": 45,
     "metadata": {},
     "output_type": "execute_result"
    }
   ],
   "source": [
    "llm_text = ChatBedrock(\n",
    "    model_id=bedrock_info.get_model_id(model_name=\"Claude-V3-5-Sonnet\"),\n",
    "    client=boto3_bedrock,\n",
    "    model_kwargs={\n",
    "        \"max_tokens\": 1024,\n",
    "        \"stop_sequences\": [\"\\n\\nHuman\"],\n",
    "    },\n",
    "    #streaming=True,\n",
    "    callbacks=[StreamingStdOutCallbackHandler()],\n",
    ")\n",
    "llm_text"
   ]
  },
  {
   "cell_type": "markdown",
   "id": "3ba2e829-af8f-4e90-b994-59106cdec8d8",
   "metadata": {},
   "source": [
    "### Embedding 모델 선택"
   ]
  },
  {
   "cell_type": "code",
   "execution_count": 46,
   "id": "0b7b8752-d1e3-4f41-ba35-6da42c3785db",
   "metadata": {
    "tags": []
   },
   "outputs": [],
   "source": [
    "from langchain_aws import BedrockEmbeddings"
   ]
  },
  {
   "cell_type": "code",
   "execution_count": 47,
   "id": "793b03f7-3186-4969-b76a-98fe56bd5fdc",
   "metadata": {
    "tags": []
   },
   "outputs": [
    {
     "name": "stdout",
     "output_type": "stream",
     "text": [
      "Bedrock Embeddings Model Loaded\n"
     ]
    }
   ],
   "source": [
    "llm_emb = BedrockEmbeddings(\n",
    "    client=boto3_bedrock,\n",
    "    model_id=bedrock_info.get_model_id(model_name=\"Titan-Text-Embeddings-V2\")\n",
    ")\n",
    "dimension = 1024 #1536\n",
    "print(\"Bedrock Embeddings Model Loaded\")"
   ]
  },
  {
   "cell_type": "markdown",
   "id": "e10b67d5-382e-4715-a841-eb07b8655da8",
   "metadata": {},
   "source": [
    "## 3. Depoly ReRanker model (if needed)"
   ]
  },
  {
   "cell_type": "code",
   "execution_count": 16,
   "id": "9a08a296-41ef-44cb-857b-63d05a8d187c",
   "metadata": {
    "tags": []
   },
   "outputs": [
    {
     "name": "stdout",
     "output_type": "stream",
     "text": [
      "sagemaker.config INFO - Not applying SDK defaults from location: /etc/xdg/sagemaker/config.yaml\n",
      "sagemaker.config INFO - Not applying SDK defaults from location: /home/ec2-user/.config/sagemaker/config.yaml\n"
     ]
    }
   ],
   "source": [
    "import json\n",
    "import sagemaker\n",
    "from sagemaker.huggingface import HuggingFaceModel"
   ]
  },
  {
   "cell_type": "code",
   "execution_count": null,
   "id": "33dd04a7-8200-49e7-ae69-55a82be199b4",
   "metadata": {
    "tags": []
   },
   "outputs": [],
   "source": [
    "depoly = True"
   ]
  },
  {
   "cell_type": "markdown",
   "id": "ecbfd5d7-0fc0-4b00-8106-1e239e44f7c7",
   "metadata": {
    "tags": []
   },
   "source": [
    "* Korean fune-tuned model\n",
    "    - hugging face: https://huggingface.co/Dongjin-kr/ko-reranker\n",
    "    - git repo: https://github.com/aws-samples/aws-ai-ml-workshop-kr/tree/master/genai/aws-gen-ai-kr/30_fine_tune/reranker-kr"
   ]
  },
  {
   "cell_type": "code",
   "execution_count": null,
   "id": "9d40e3dd-a19f-4af3-831a-0cfe79e72cb3",
   "metadata": {
    "tags": []
   },
   "outputs": [],
   "source": [
    "if depoly:\n",
    "\n",
    "    try:\n",
    "        role = sagemaker.get_execution_role()\n",
    "    except ValueError:\n",
    "        iam = boto3.client('iam')\n",
    "        role = iam.get_role(RoleName='sagemaker_execution_role')['Role']['Arn']\n",
    "\n",
    "    # Hub Model configuration. https://huggingface.co/models\n",
    "    hub = {\n",
    "        'HF_MODEL_ID':'Dongjin-kr/ko-reranker',\n",
    "        'HF_TASK':'text-classification'\n",
    "    }\n",
    "\n",
    "    # create Hugging Face Model Class\n",
    "    huggingface_model = HuggingFaceModel(\n",
    "        transformers_version='4.28.1',\n",
    "        pytorch_version='2.0.0',\n",
    "        py_version='py310',\n",
    "        env=hub,\n",
    "        role=role, \n",
    "    )\n",
    "\n",
    "    # deploy model to SageMaker Inference\n",
    "    predictor = huggingface_model.deploy(\n",
    "        initial_instance_count=1, # number of instances\n",
    "        instance_type='ml.g5.xlarge' # instance type\n",
    "    )\n",
    "\n",
    "    print(f'Accept: {predictor.accept}')\n",
    "    print(f'ContentType: {predictor.content_type}')\n",
    "    print(f'Endpoint: {predictor.endpoint}')"
   ]
  },
  {
   "cell_type": "markdown",
   "id": "122a9f20-f531-49cc-8947-50a2973b49d2",
   "metadata": {},
   "source": [
    "#### Save reranker endpoint to Parameter Store"
   ]
  },
  {
   "cell_type": "code",
   "execution_count": 17,
   "id": "1070c5d9-b202-4b8c-a1ee-cb7fea9f87c3",
   "metadata": {
    "tags": []
   },
   "outputs": [],
   "source": [
    "import boto3\n",
    "from utils.ssm import parameter_store"
   ]
  },
  {
   "cell_type": "code",
   "execution_count": 18,
   "id": "982cf902-d408-48c9-883b-0c7dd9a827bf",
   "metadata": {
    "tags": []
   },
   "outputs": [],
   "source": [
    "region=boto3.Session().region_name\n",
    "pm = parameter_store(region)"
   ]
  },
  {
   "cell_type": "code",
   "execution_count": null,
   "id": "5948269e-28ea-480c-a718-9cb2f53e71fa",
   "metadata": {
    "tags": []
   },
   "outputs": [],
   "source": [
    "pm.put_params(\n",
    "    key=\"reranker_endpoint\",\n",
    "    value=f'{predictor.endpoint}',\n",
    "    overwrite=True,\n",
    "    enc=False\n",
    ")"
   ]
  },
  {
   "cell_type": "markdown",
   "id": "20e648ef-01ec-4e2f-ba88-7d2510fdb7a6",
   "metadata": {},
   "source": [
    "## 4. Invocation (prediction)"
   ]
  },
  {
   "cell_type": "code",
   "execution_count": 19,
   "id": "114be617-a687-4733-abb9-30394c7ef35f",
   "metadata": {
    "tags": []
   },
   "outputs": [
    {
     "name": "stdout",
     "output_type": "stream",
     "text": [
      "runtime_client: <botocore.client.SageMakerRuntime object at 0x7fb27c15f040>\n"
     ]
    }
   ],
   "source": [
    "runtime_client = boto3.Session().client('sagemaker-runtime')\n",
    "print (f'runtime_client: {runtime_client}')"
   ]
  },
  {
   "cell_type": "code",
   "execution_count": 20,
   "id": "26ee5c45-de87-4a2b-bc04-bbc649fcd0c6",
   "metadata": {
    "tags": []
   },
   "outputs": [],
   "source": [
    "endpoint_name = pm.get_params(\n",
    "    key=\"reranker_endpoint\",\n",
    "    enc=False\n",
    ")\n",
    "deserializer = \"application/json\""
   ]
  },
  {
   "cell_type": "code",
   "execution_count": 21,
   "id": "bd6288ed-b4fa-466f-9e2b-57484b827b0a",
   "metadata": {
    "tags": []
   },
   "outputs": [],
   "source": [
    "payload = json.dumps(\n",
    "    {\n",
    "        \"inputs\": [\n",
    "            {\"text\": \"I hate you\", \"text_pair\": \"I don't like you\"},\n",
    "            {\"text\": \"He hates you\", \"text_pair\": \"He like you\"},\n",
    "            {\"text\": \"그는 너를 싫어해\", \"text_pair\": \"그는 너를 좋아해\"},\n",
    "        ]\n",
    "    }\n",
    ")"
   ]
  },
  {
   "cell_type": "code",
   "execution_count": 22,
   "id": "c1eebe88-8b92-4e81-a103-b5a5d7a91bb3",
   "metadata": {
    "tags": []
   },
   "outputs": [
    {
     "name": "stdout",
     "output_type": "stream",
     "text": [
      "Response: [{'label': 'LABEL_0', 'score': 0.9987371563911438}, {'label': 'LABEL_0', 'score': 0.0028581616934388876}, {'label': 'LABEL_0', 'score': 0.004707992542535067}]\n",
      "CPU times: user 14.1 ms, sys: 0 ns, total: 14.1 ms\n",
      "Wall time: 100 ms\n"
     ]
    }
   ],
   "source": [
    "%%time\n",
    "response = runtime_client.invoke_endpoint(\n",
    "    EndpointName=endpoint_name,\n",
    "    ContentType=\"application/json\",\n",
    "    Accept=deserializer,\n",
    "    Body=payload\n",
    ")\n",
    "## deserialization\n",
    "out = json.loads(response['Body'].read().decode()) ## for json\n",
    "print (f'Response: {out}')"
   ]
  },
  {
   "cell_type": "markdown",
   "id": "7e432237-b9b5-4be3-aa0c-c30eeca6f480",
   "metadata": {},
   "source": [
    "## 5. LangChainmOpenSearch VectorStore 정의\n",
    "### 선수 조건\n",
    "- 01_preprocess_docs/02_load_docs_opensearch.ipynb를 통해서 OpenSearch Index 가 생성이 되어 있어야 합니다.\n",
    "#### [중요] 아래에 aws parameter store 에 아래 인증정보가 먼저 입력되어 있어야 합니다.\n",
    "- 01_preprocess_docs/01_parameter_store_example.ipynb 참고"
   ]
  },
  {
   "cell_type": "code",
   "execution_count": 23,
   "id": "42d192b6-68ce-465e-9fa7-04b5201f4453",
   "metadata": {
    "tags": []
   },
   "outputs": [],
   "source": [
    "opensearch_domain_endpoint = pm.get_params(\n",
    "    key=\"opensearch_domain_endpoint\",\n",
    "    enc=False\n",
    ")\n",
    "\n",
    "opensearch_user_id = pm.get_params(\n",
    "    key=\"opensearch_user_id\",\n",
    "    enc=False\n",
    ")\n",
    "\n",
    "opensearch_user_password = pm.get_params(\n",
    "    key=\"opensearch_user_password\",\n",
    "    enc=True\n",
    ")"
   ]
  },
  {
   "cell_type": "code",
   "execution_count": 24,
   "id": "fc7866fd-fd9c-4b41-b600-a91e43edfe4d",
   "metadata": {
    "tags": []
   },
   "outputs": [],
   "source": [
    "opensearch_domain_endpoint = opensearch_domain_endpoint\n",
    "rag_user_name = opensearch_user_id\n",
    "rag_user_password = opensearch_user_password\n",
    "\n",
    "http_auth = (rag_user_name, rag_user_password) # Master username, Master password"
   ]
  },
  {
   "cell_type": "markdown",
   "id": "161a900e-effc-4d7f-a179-b6c00eac03ad",
   "metadata": {
    "tags": []
   },
   "source": [
    "### Index 이름 셋팅\n",
    "- 이전 노트북 01_preprocess_docs/02_load_docs_opensearch.ipynb를 통해서 생성된 OpenSearch Index name 입력"
   ]
  },
  {
   "cell_type": "code",
   "execution_count": 25,
   "id": "d5d9b5eb-052e-4e84-846b-c5385e853ba4",
   "metadata": {
    "tags": []
   },
   "outputs": [
    {
     "name": "stdout",
     "output_type": "stream",
     "text": [
      "index_name: v01-genai-poc-parent-doc-retriever\n"
     ]
    }
   ],
   "source": [
    "index_name = opensearch_user_password = pm.get_params(\n",
    "    key=\"opensearch_index_name\",\n",
    "    enc=True\n",
    ")\n",
    "\n",
    "print (f'index_name: {index_name}')"
   ]
  },
  {
   "cell_type": "markdown",
   "id": "482f5785-b88d-44fa-a603-080e4bd734a6",
   "metadata": {},
   "source": [
    "### OpenSearch Client 생성"
   ]
  },
  {
   "cell_type": "code",
   "execution_count": 26,
   "id": "968b7502-5799-4702-bc17-959e88c330a2",
   "metadata": {
    "tags": []
   },
   "outputs": [],
   "source": [
    "from utils.opensearch import opensearch_utils"
   ]
  },
  {
   "cell_type": "code",
   "execution_count": 27,
   "id": "6ceb46a1-e425-4f7e-9319-793b55abb938",
   "metadata": {
    "tags": []
   },
   "outputs": [],
   "source": [
    "os_client = opensearch_utils.create_aws_opensearch_client(\n",
    "    aws_region,\n",
    "    opensearch_domain_endpoint,\n",
    "    http_auth\n",
    ")"
   ]
  },
  {
   "cell_type": "markdown",
   "id": "a5084376-7523-4cf9-9123-adc4ae79f66d",
   "metadata": {
    "tags": []
   },
   "source": [
    "## 6. Retriever based on Hybrid Search 정의\n",
    "- LangChain에서 제공하는 **BaseRetriever** 클래스를 상속받아 **Custom Retriever**를 정의 할 수 있습니다.\n",
    "- 본 샘플코드 에서는 **Hybrid Search based Retriever**를 **정의**합니다. "
   ]
  },
  {
   "cell_type": "markdown",
   "id": "b0a25df0-2a13-4d73-9edc-532caf98f804",
   "metadata": {},
   "source": [
    "OpenSearch Hybrid 는 아래와 같은 방식으로 작동합니다.\n",
    "- (1) Sematic search를 통해 각 document별 relevant score 산출\n",
    "- (2) Lexical search를 통해 각 document별 relevant score 산출\n",
    "- (3-1) Rank-fusion 방식이 \"simple weighted\" 일 경우\n",
    "    - 산출된 score에 대한 normalization 수행\n",
    "    - 전체 결과에서 가장 높은 스코어는 표준화 과정을 통하여 스코어가 1.0 이 됨.\n",
    "- (3-2) Rank-fusion 방식이 \"Reciprocal Rank Fusion (RRF)\" 일 경우\n",
    "    - Paper: https://plg.uwaterloo.ca/~gvcormac/cormacksigir09-rrf.pdf\n",
    "    - Desc: https://medium.com/@sowmiyajaganathan/hybrid-search-with-re-ranking-ff120c8a426d\n",
    "    - **RRF의 경우 score가 아닌 ranking 정보를 활용, 때문에 score normalization이 필요 없음**\n",
    "    - ![rrf.png](../../../10_advanced_question_answering/img/rrf.png)\n",
    "\n",
    "RRF는 langchain에서 \"Ensemble Retriever\" 이름으로 api를 제공합니다. \n",
    "- https://python.langchain.com/docs/modules/data_connection/retrievers/ensemble"
   ]
  },
  {
   "cell_type": "code",
   "execution_count": 28,
   "id": "5db8e470-63a9-4c3d-94c8-1d270a6da822",
   "metadata": {
    "tags": []
   },
   "outputs": [],
   "source": [
    "from utils.rag import OpenSearchHybridSearchRetriever"
   ]
  },
  {
   "cell_type": "markdown",
   "id": "d7feac2f-21a2-4756-b989-66c180bb1e79",
   "metadata": {},
   "source": [
    "- 필터 설정 예시\n",
    "- filter=[ <BR>\n",
    "    　{\"term\": {\"metadata.[**your_metadata_attribute_name**]\": \"**your first keyword**\"}}, <BR>\n",
    "    　{\"term\": {\"metadata.[**your_metadata_attribute_name**]\": \"**your second keyword**\"}},<BR>\n",
    "]"
   ]
  },
  {
   "cell_type": "code",
   "execution_count": 29,
   "id": "49c7e131-294f-4ff8-9331-989709c7079c",
   "metadata": {
    "tags": []
   },
   "outputs": [],
   "source": [
    "opensearch_hybrid_retriever = OpenSearchHybridSearchRetriever(\n",
    "    # necessary\n",
    "    os_client=os_client,\n",
    "    index_name=index_name,\n",
    "    llm_emb=llm_emb,\n",
    "    llm_text=llm_text,\n",
    "    \n",
    "    # hybird-search debugger\n",
    "    hybrid_search_debugger = \"None\", #[semantic, lexical, None]\n",
    "\n",
    "    # option for lexical\n",
    "    minimum_should_match=0,\n",
    "    filter=[],\n",
    "\n",
    "    # option for rank fusion\n",
    "    fusion_algorithm=\"RRF\", # [\"RRF\", \"simple_weighted\"], rank fusion 방식 정의\n",
    "    ensemble_weights=[.51, .49], # [for lexical, for semantic], Lexical, Semantic search 결과에 대한 최종 반영 비율 정의\n",
    "\n",
    "    # option for async search\n",
    "    async_mode=True,\n",
    "\n",
    "    # option for output\n",
    "    k=5, # 최종 Document 수 정의\n",
    "    verbose=True,\n",
    ")"
   ]
  },
  {
   "cell_type": "markdown",
   "id": "cfb26835-ad98-41c5-9e9d-2453642e3551",
   "metadata": {},
   "source": [
    "### Retrieval example\n",
    "- default search"
   ]
  },
  {
   "cell_type": "code",
   "execution_count": 30,
   "id": "9c06e89f-79de-413c-ba9c-a188ca3fe2d0",
   "metadata": {
    "tags": []
   },
   "outputs": [],
   "source": [
    "from utils.rag import show_context_used"
   ]
  },
  {
   "cell_type": "code",
   "execution_count": 31,
   "id": "fe3bfee3-dac1-45b9-8795-03e36c1632a9",
   "metadata": {
    "tags": []
   },
   "outputs": [],
   "source": [
    "#query = \"중지된 경우 이체\"\n",
    "query = \"vidio max size?\""
   ]
  },
  {
   "cell_type": "code",
   "execution_count": 32,
   "id": "05b13e5e-4a66-4dc8-b18c-42a6e3bd6037",
   "metadata": {
    "tags": []
   },
   "outputs": [
    {
     "name": "stdout",
     "output_type": "stream",
     "text": [
      "##############################\n",
      "async_mode\n",
      "##############################\n",
      "True\n",
      "##############################\n",
      "reranker\n",
      "##############################\n",
      "False\n",
      "##############################\n",
      "rag_fusion\n",
      "##############################\n",
      "False\n",
      "##############################\n",
      "HyDE\n",
      "##############################\n",
      "False\n",
      "##############################\n",
      "parent_document\n",
      "##############################\n",
      "False\n",
      "##############################\n",
      "complex_document\n",
      "##############################\n",
      "False\n",
      "##############################\n",
      "similar_docs_semantic\n",
      "##############################\n",
      "\n",
      "Score: 1.0\n",
      "['. To delete a video file, click next to the name of the uploaded video file. Note The device control command must be transferred to the device to apply a video to it. &gt; Session timeout Allows the use of the session timeout feature for the Kiosk Browser. If the user does not use the device for a set time, the device deletes user information, such as the cache and cookies, in the device Kiosk Browser and goes to the main page URL: Apply &mdash; Enables the session timeout feature for the browser. &gt;&gt; Time (sec) Set the session timeout in seconds for the Kiosk Browser']\n",
      "{'source': 'all_processed_data.json', 'seq_num': 893, 'title': 'Android Enterprise policies', 'url': 'https://docs.samsungknox.com/admin/knox-manage/configure/profile/configure-profile-policies/android-enterprise-policies', 'project': 'KM', 'last_updated': '2023-09-06', 'family_tree': 'child', 'parent_id': 'b72bb3cc-e122-413a-8b84-5681f19c49eb', 'id': 'e326fdce-00d4-41b8-829e-f68519856abd'}\n",
      "\n",
      "Score: 0.9925655171372633\n",
      "['. 7. The device now launches DeX automatically when it is plugged in to an HDMI cable. 8. Once the device is connected to DeX, a Display resolution screen displays. Select a single resolution value for the connected display. Unselected display options will be greyed out and unavailable. Keep in mind, changing the resolution makes displayed windows, text and other items appear small or larger. Options include, WQHD (2560 x 1440), FHD (1920 x 1080) _recommended setting_, HD+ (1600 x 900), WQXGA (2560 x 1600), WUXGA (1920 x 1200), or UWQHD (3440 x 1440). Select Done to commit the selected display setting. If the display resolution provided is not supported, then FHD (1920 x 1080) is selected by default and non-supported resolutions are greyed out in the DeX Display resolution screen. Industry example This example configures a tablet in DeX mode, so a bank employee can use it to help customers with day to day operations. For example opening a new account or checking account balances']\n",
      "{'source': 'all_processed_data.json', 'seq_num': 1225, 'title': 'DeX', 'url': 'https://docs.samsungknox.com/admin/knox-platform-for-enterprise/knox-service-plugin/configure-advanced-policies/dex', 'project': 'KSP', 'last_updated': '2023-07-26', 'family_tree': 'child', 'parent_id': '70720e43-494e-4f7a-a09c-584f2ea37e62', 'id': 'b356759a-a976-496c-9032-184730427229'}\n",
      "\n",
      "Score: 0.9864989643755366\n",
      "[\". #Other Kiosk enhancements The Knox Manage agent must be updated to the latest version for these new features to take effect. Bookmark in Multiple App Kiosk mode now supports file uploads and downloads. You can now set Kiosk Browser and Secure Browser to be automatically updated through profile policies. When adding or modifying a profile, you can find these settings in the following locations: Secure Browser: Android Enterprise > Secure Browser > App Auto Update. Kiosk Browser: Android Enterprise or Android Legacy > Kiosk > Kiosk app settings (select Kiosk Browser ) > App Auto Update. The loading status is now shown on the progress bar: Content #Increased maximum file size limit Previously, the maximum content size was 300 MB. In 20.08, this limit was increased to 1.0 GB. Knox E-FOTA license usage with Knox Suite In addition to the Knox E-FOTA admin portal, you can now view the Knox E-FOTA license usage in the following locations as well: License widget in the Knox Manage admin portal's Dashboard\"]\n",
      "{'source': 'all_processed_data.json', 'seq_num': 1044, 'title': 'Knox Manage 20.08 release notes', 'url': 'https://docs.samsungknox.com/admin/knox-manage/release-notes/20-08', 'project': 'KM', 'last_updated': '2023-07-26', 'family_tree': 'child', 'parent_id': 'aede7be4-3e2e-4dac-b671-6be82a4d0626', 'id': '634e3556-59f7-46e3-9876-fcccc81246a4'}\n",
      "\n",
      "Score: 0.9862280641853693\n",
      "['.The input value ranges from 1 to 52428800 (50MB). Maximum Size of Email Body (Kbyte) Select a maximum value for the email body size. This is only set once during the initial Exchange ActiveSync setup. &gt; Default Size of Email Body (Kbyte) Select the default value of the email body size. Note Select the setting after the Maximum Size of Email Body (Kbyte) setting. Email Account Configures the settings of a POP or IMAP email account. Click !add to add a configuration. You can add or edit up to 20 configurations when you save the profile. Policy Description Configuration ID Assign a unique ID for each email account setting. Description Enter a description for each email account setting. Remove available Allows users to delete the email account settings in Knox Workspace. Default Account Specifies to usage of the default account. User Information input method Select an input method for entering user information. &gt; Manual Input Select this to enter the email address manually']\n",
      "{'source': 'all_processed_data.json', 'seq_num': 899, 'title': 'Knox Workspace (Android Legacy) policies', 'url': 'https://docs.samsungknox.com/admin/knox-manage/configure/profile/configure-profile-policies/knox-workspace-android-legacy-policies', 'project': 'KM', 'last_updated': '2023-07-26', 'family_tree': 'child', 'parent_id': '6a3fe0cd-dbf3-4a81-ac4a-65f579d0dac2', 'id': '05248e42-9e06-4f86-b66a-f93a03a7cbb9'}\n",
      "\n",
      "Score: 0.9851859796863477\n",
      "['. Max TTL - The maximum amount of time, or time to live (TTL), in seconds, that a packet can exist in a network before being discarded by the router. The default value is 64, but a number from 49 to 255 can be entered. Packet size - The size of the packet to request, in bytes. The default value is 64, but a number from 4 to 1472 can be entered. If the device user sets Packet size as 10, Interval (ms) as 1000 ms, and Timeout (ms) as 500 ms, 10 pings are sent and the interval between each ping is set to 1000 ms. A successful test requires all 10 pings to be received within 500 ms each. The ping test continues even if the device user leaves the screen, but they can stop it at any time by tapping the stop button. Otherwise, the test automatically stops once the set conditions are met. A notification is also displayed in the notification bar for the duration of the test, which the user can tap to return to the test screen']\n",
      "{'source': 'all_processed_data.json', 'seq_num': 292, 'title': 'Use the agent app', 'url': 'https://docs.samsungknox.com/admin/knox-asset-intelligence/how-to-guides/use-the-agent-app', 'project': 'KAI', 'last_updated': '2023-09-06', 'family_tree': 'child', 'parent_id': '5e1fc1b0-0bdc-4a1f-9a43-e9d8bbe28070', 'id': 'ed5d473e-b02a-4797-9ced-fa6548a6b56b'}\n",
      "None\n",
      "##############################\n",
      "similar_docs_keyword\n",
      "##############################\n",
      "\n",
      "Score: 1.0\n",
      "[\". Invalid APK version name. Invalid APK version name. Please change the version name and try uploading again. 4090001 File too large. Max 4000 devices allowed per upload. Try splitting the device upload list to reduce the size of .csv you are uploading. Note that there is a max of 4000 devices allowed per upload. 4150000 File type is not supported. The file you are trying to upload is not supported. Knox Configure only accepts .csv files. App name cannot contain special characters. Rename the app so it does not contain any special or forbidden characters. App version is invalid. An app you are trying to upload is invalid. Verify that the version you're attempting to upload is correct. Try to re-upload the app again. CSV file is required. A system error occurred. Verify that you've attached a .csv file, try to re-attach the .csv and upload it again. If the problem persists, contact Samsung. 4040105 No CAPTCHA code entered. No CAPTCHA code was entered. Carefully enter the CAPTCHA code and submit\"]\n",
      "{'source': 'all_processed_data.json', 'seq_num': 433, 'title': 'Portal-side errors', 'url': 'https://docs.samsungknox.com/admin/knox-configure/knox-configure-wearables/troubleshoot/portal-side-errors', 'project': 'KC', 'last_updated': '2023-07-26', 'family_tree': 'child', 'parent_id': '291bc872-97b4-4b34-af40-dba8d4bb5292', 'id': '4511bd10-4429-418b-ac05-15a57c470300'}\n",
      "\n",
      "Score: 0.9815376777003425\n",
      "['. Max TTL - The maximum amount of time, or time to live (TTL), in seconds, that a packet can exist in a network before being discarded by the router. The default value is 64, but a number from 49 to 255 can be entered. Packet size - The size of the packet to request, in bytes. The default value is 64, but a number from 4 to 1472 can be entered. If the device user sets Packet size as 10, Interval (ms) as 1000 ms, and Timeout (ms) as 500 ms, 10 pings are sent and the interval between each ping is set to 1000 ms. A successful test requires all 10 pings to be received within 500 ms each. The ping test continues even if the device user leaves the screen, but they can stop it at any time by tapping the stop button. Otherwise, the test automatically stops once the set conditions are met. A notification is also displayed in the notification bar for the duration of the test, which the user can tap to return to the test screen']\n",
      "{'source': 'all_processed_data.json', 'seq_num': 292, 'title': 'Use the agent app', 'url': 'https://docs.samsungknox.com/admin/knox-asset-intelligence/how-to-guides/use-the-agent-app', 'project': 'KAI', 'last_updated': '2023-09-06', 'family_tree': 'child', 'parent_id': '5e1fc1b0-0bdc-4a1f-9a43-e9d8bbe28070', 'id': 'ed5d473e-b02a-4797-9ced-fa6548a6b56b'}\n",
      "\n",
      "Score: 0.8391050077115012\n",
      "['. Change this property to include lengths not enabled by default, or to optimize decoding performance for a certain number of symbols. Character-to-symbol mapping depends on barcode type. For example, some barcodes include additional checksum characters in their symbol counts. For more information on active symbol count, refer to Configure the Active Symbol Count. Depends on barcode type. Max. length Determines the maximum supported barcode length (active symbol count) to decode. Depends on barcode type. Inverted color recognition Enables recognition of inverted barcodes that have been printed using bright ink on a dark background. ON/OFF OFF Reduced quiet zone-size Enables scanning codes with smaller than normal quiet zones (white space before and after the code) than allowed by the barcode type specification. Use this if you experience issues when scanning codes that violate quiet zone specifications. Please note that turning on this feature may lead to false positive scans in some cases']\n",
      "{'source': 'all_processed_data.json', 'seq_num': 580, 'title': 'Scan engine settings: Scandit', 'url': 'https://docs.samsungknox.com/admin/knox-capture/knox-capture-scandit/scan-engine-settings-scandit', 'project': 'KCAP', 'last_updated': '2023-07-26', 'family_tree': 'child', 'parent_id': 'acdf0679-a0bb-4233-be7b-e68f6a0ed51a', 'id': '157c474c-79a6-4295-b5b8-ed0b5937c6f5'}\n",
      "\n",
      "Score: 0.8082443849281178\n",
      "['. Enter your device information in the sample file with the default headings. Save and try uploading the CSV file again. 4000014 The CSV file is empty. Ensure the CSV file uploading is not empty. 4000414 The EULA is invalid. A system error occurred. Refresh the page and load the EULA again. If the problem persists, contact Samsung. 4002009 EULA is already agreed to. The end user has already accepted the End User License Agreement (EULA). Do not prompt users to accept the EULA again. Failed to upload file. A system error occurred. Try to upload the file again. If the problem persists, contact Samsung. An app with this name already exists. Ensure the name of the app you are uploading does not already exist in Knox Configure. Re-name the app if necessary. Invalid APK version name. Invalid APK version name. Please change the version name and try uploading again. 4090001 File too large. Max 4000 devices allowed per upload. Try splitting the device upload list to reduce the size of .csv you are uploading']\n",
      "{'source': 'all_processed_data.json', 'seq_num': 433, 'title': 'Portal-side errors', 'url': 'https://docs.samsungknox.com/admin/knox-configure/knox-configure-wearables/troubleshoot/portal-side-errors', 'project': 'KC', 'last_updated': '2023-07-26', 'family_tree': 'child', 'parent_id': '291bc872-97b4-4b34-af40-dba8d4bb5292', 'id': '7e88ce07-12b4-4b75-a849-a50d6113afe3'}\n",
      "\n",
      "Score: 0.7808699150910374\n",
      "['. PasswordPolicy setMaximumNumericSequenceLength AE Device Password Requirements Max time to screen lock 0 minutes 15 minutes KNOX-11-000500 setMaximumTimeToLock AE Device Password Requirements Max password failures fo local wipe 0+ 10 KNOX-11-000700 setMaximumFailedPasswordsForWipe AE * Device Restrictions Installs from unknown sources globally Allow/ Disallow Disallow KNOX-11-001300 addUserRestriction DISALLOW_INSTALL_UNKNOWN_SOURCES_GLOBALLY AE Device Restrictions Trust agents Disable/Enable Disable KNOX-11-003900 setKeyguardDisabledFeatures KEYGUARD_DISABLE_TRUST_AGENTS AE * Device Restrictions Face Disable/Enable Disable KNOX-11-004100 setKeyguardDisabledFeatures KEYGUARD_DISABLE_FACE AE * Device Restrictions Debugging features Allow/ Disallow Disallow KNOX-11-005100 addUserRestriction DISALLOW_DEBUGGING_FEATURES AE * Device Restrictions USB file transfer Allow/ Disallow Disallow KNOX-11-006500, KNOX-11-006900 addUserRestriction DISALLOW_USB_FILE_TRANSFER KPE Device Wi-Fi Unsecured hotspot Allow/']\n",
      "{'source': 'all_processed_data.json', 'seq_num': 1251, 'title': 'STIG 11 COPE compliance', 'url': 'https://docs.samsungknox.com/admin/knox-platform-for-enterprise/knox-service-plugin/references/stig-11/stig-11-cope-compliance', 'project': 'KSP', 'last_updated': '2023-07-26', 'family_tree': 'child', 'parent_id': 'deafa5a8-bc23-42bb-ba99-161c505767e1', 'id': '133bc9d4-3635-4ff2-85e2-8a44ee83d377'}\n",
      "None\n",
      "##############################\n",
      "similar_docs\n",
      "##############################\n",
      "\n",
      "Score: 0.015749379652605457\n",
      "['. Max TTL - The maximum amount of time, or time to live (TTL), in seconds, that a packet can exist in a network before being discarded by the router. The default value is 64, but a number from 49 to 255 can be entered. Packet size - The size of the packet to request, in bytes. The default value is 64, but a number from 4 to 1472 can be entered. If the device user sets Packet size as 10, Interval (ms) as 1000 ms, and Timeout (ms) as 500 ms, 10 pings are sent and the interval between each ping is set to 1000 ms. A successful test requires all 10 pings to be received within 500 ms each. The ping test continues even if the device user leaves the screen, but they can stop it at any time by tapping the stop button. Otherwise, the test automatically stops once the set conditions are met. A notification is also displayed in the notification bar for the duration of the test, which the user can tap to return to the test screen']\n",
      "{'source': 'all_processed_data.json', 'seq_num': 292, 'title': 'Use the agent app', 'url': 'https://docs.samsungknox.com/admin/knox-asset-intelligence/how-to-guides/use-the-agent-app', 'project': 'KAI', 'last_updated': '2023-09-06', 'family_tree': 'child', 'parent_id': '5e1fc1b0-0bdc-4a1f-9a43-e9d8bbe28070', 'id': 'ed5d473e-b02a-4797-9ced-fa6548a6b56b'}\n",
      "\n",
      "Score: 0.008360655737704918\n",
      "['. To delete a video file, click next to the name of the uploaded video file. Note The device control command must be transferred to the device to apply a video to it. &gt; Session timeout Allows the use of the session timeout feature for the Kiosk Browser. If the user does not use the device for a set time, the device deletes user information, such as the cache and cookies, in the device Kiosk Browser and goes to the main page URL: Apply &mdash; Enables the session timeout feature for the browser. &gt;&gt; Time (sec) Set the session timeout in seconds for the Kiosk Browser']\n",
      "{'source': 'all_processed_data.json', 'seq_num': 893, 'title': 'Android Enterprise policies', 'url': 'https://docs.samsungknox.com/admin/knox-manage/configure/profile/configure-profile-policies/android-enterprise-policies', 'project': 'KM', 'last_updated': '2023-09-06', 'family_tree': 'child', 'parent_id': 'b72bb3cc-e122-413a-8b84-5681f19c49eb', 'id': 'e326fdce-00d4-41b8-829e-f68519856abd'}\n",
      "\n",
      "Score: 0.008225806451612904\n",
      "['. 7. The device now launches DeX automatically when it is plugged in to an HDMI cable. 8. Once the device is connected to DeX, a Display resolution screen displays. Select a single resolution value for the connected display. Unselected display options will be greyed out and unavailable. Keep in mind, changing the resolution makes displayed windows, text and other items appear small or larger. Options include, WQHD (2560 x 1440), FHD (1920 x 1080) _recommended setting_, HD+ (1600 x 900), WQXGA (2560 x 1600), WUXGA (1920 x 1200), or UWQHD (3440 x 1440). Select Done to commit the selected display setting. If the display resolution provided is not supported, then FHD (1920 x 1080) is selected by default and non-supported resolutions are greyed out in the DeX Display resolution screen. Industry example This example configures a tablet in DeX mode, so a bank employee can use it to help customers with day to day operations. For example opening a new account or checking account balances']\n",
      "{'source': 'all_processed_data.json', 'seq_num': 1225, 'title': 'DeX', 'url': 'https://docs.samsungknox.com/admin/knox-platform-for-enterprise/knox-service-plugin/configure-advanced-policies/dex', 'project': 'KSP', 'last_updated': '2023-07-26', 'family_tree': 'child', 'parent_id': '70720e43-494e-4f7a-a09c-584f2ea37e62', 'id': 'b356759a-a976-496c-9032-184730427229'}\n",
      "\n",
      "Score: 0.008095238095238095\n",
      "[\". #Other Kiosk enhancements The Knox Manage agent must be updated to the latest version for these new features to take effect. Bookmark in Multiple App Kiosk mode now supports file uploads and downloads. You can now set Kiosk Browser and Secure Browser to be automatically updated through profile policies. When adding or modifying a profile, you can find these settings in the following locations: Secure Browser: Android Enterprise > Secure Browser > App Auto Update. Kiosk Browser: Android Enterprise or Android Legacy > Kiosk > Kiosk app settings (select Kiosk Browser ) > App Auto Update. The loading status is now shown on the progress bar: Content #Increased maximum file size limit Previously, the maximum content size was 300 MB. In 20.08, this limit was increased to 1.0 GB. Knox E-FOTA license usage with Knox Suite In addition to the Knox E-FOTA admin portal, you can now view the Knox E-FOTA license usage in the following locations as well: License widget in the Knox Manage admin portal's Dashboard\"]\n",
      "{'source': 'all_processed_data.json', 'seq_num': 1044, 'title': 'Knox Manage 20.08 release notes', 'url': 'https://docs.samsungknox.com/admin/knox-manage/release-notes/20-08', 'project': 'KM', 'last_updated': '2023-07-26', 'family_tree': 'child', 'parent_id': 'aede7be4-3e2e-4dac-b671-6be82a4d0626', 'id': '634e3556-59f7-46e3-9876-fcccc81246a4'}\n",
      "\n",
      "Score: 0.008032786885245903\n",
      "[\". Invalid APK version name. Invalid APK version name. Please change the version name and try uploading again. 4090001 File too large. Max 4000 devices allowed per upload. Try splitting the device upload list to reduce the size of .csv you are uploading. Note that there is a max of 4000 devices allowed per upload. 4150000 File type is not supported. The file you are trying to upload is not supported. Knox Configure only accepts .csv files. App name cannot contain special characters. Rename the app so it does not contain any special or forbidden characters. App version is invalid. An app you are trying to upload is invalid. Verify that the version you're attempting to upload is correct. Try to re-upload the app again. CSV file is required. A system error occurred. Verify that you've attached a .csv file, try to re-attach the .csv and upload it again. If the problem persists, contact Samsung. 4040105 No CAPTCHA code entered. No CAPTCHA code was entered. Carefully enter the CAPTCHA code and submit\"]\n",
      "{'source': 'all_processed_data.json', 'seq_num': 433, 'title': 'Portal-side errors', 'url': 'https://docs.samsungknox.com/admin/knox-configure/knox-configure-wearables/troubleshoot/portal-side-errors', 'project': 'KC', 'last_updated': '2023-07-26', 'family_tree': 'child', 'parent_id': '291bc872-97b4-4b34-af40-dba8d4bb5292', 'id': '4511bd10-4429-418b-ac05-15a57c470300'}\n",
      "None\n",
      "\n",
      "==========  Results  ==========\n",
      "\n",
      "1. question: vidio max size?\n",
      "2. # documents: 5\n",
      "3. Documents: \n",
      "\n",
      "\n",
      "-----------------------------------------------\n",
      "1. Chunk: 930 Characters\n",
      "-----------------------------------------------\n",
      ". Max TTL - The maximum amount of time, or time to live (TTL), in seconds, that a packet can exist\n",
      "in a network before being discarded by the router. The default value is 64, but a number from 49 to\n",
      "255 can be entered. Packet size - The size of the packet to request, in bytes. The default value is\n",
      "64, but a number from 4 to 1472 can be entered. If the device user sets Packet size as 10, Interval\n",
      "(ms) as 1000 ms, and Timeout (ms) as 500 ms, 10 pings are sent and the interval between each ping is\n",
      "set to 1000 ms. A successful test requires all 10 pings to be received within 500 ms each. The ping\n",
      "test continues even if the device user leaves the screen, but they can stop it at any time by\n",
      "tapping the stop button. Otherwise, the test automatically stops once the set conditions are met. A\n",
      "notification is also displayed in the notification bar for the duration of the test, which the user\n",
      "can tap to return to the test screen\n",
      "metadata:\n",
      " {'source': 'all_processed_data.json', 'seq_num': 292, 'title': 'Use the agent app', 'url':\n",
      "'https://docs.samsungknox.com/admin/knox-asset-intelligence/how-to-guides/use-the-agent-app',\n",
      "'project': 'KAI', 'last_updated': '2023-09-06', 'family_tree': 'child', 'parent_id':\n",
      "'5e1fc1b0-0bdc-4a1f-9a43-e9d8bbe28070', 'id': 'ed5d473e-b02a-4797-9ced-fa6548a6b56b',\n",
      "'orig_elements': ''}\n",
      "\n",
      "-----------------------------------------------\n",
      "2. Chunk: 579 Characters\n",
      "-----------------------------------------------\n",
      ". To delete a video file, click next to the name of the uploaded video file. Note The device control\n",
      "command must be transferred to the device to apply a video to it. &gt; Session timeout Allows the\n",
      "use of the session timeout feature for the Kiosk Browser. If the user does not use the device for a\n",
      "set time, the device deletes user information, such as the cache and cookies, in the device Kiosk\n",
      "Browser and goes to the main page URL: Apply &mdash; Enables the session timeout feature for the\n",
      "browser. &gt;&gt; Time (sec) Set the session timeout in seconds for the Kiosk Browser\n",
      "metadata:\n",
      " {'source': 'all_processed_data.json', 'seq_num': 893, 'title': 'Android Enterprise policies',\n",
      "'url': 'https://docs.samsungknox.com/admin/knox-manage/configure/profile/configure-profile-\n",
      "policies/android-enterprise-policies', 'project': 'KM', 'last_updated': '2023-09-06', 'family_tree':\n",
      "'child', 'parent_id': 'b72bb3cc-e122-413a-8b84-5681f19c49eb', 'id':\n",
      "'e326fdce-00d4-41b8-829e-f68519856abd', 'orig_elements': ''}\n",
      "\n",
      "-----------------------------------------------\n",
      "3. Chunk: 993 Characters\n",
      "-----------------------------------------------\n",
      ". 7. The device now launches DeX automatically when it is plugged in to an HDMI cable. 8. Once the\n",
      "device is connected to DeX, a Display resolution screen displays. Select a single resolution value\n",
      "for the connected display. Unselected display options will be greyed out and unavailable. Keep in\n",
      "mind, changing the resolution makes displayed windows, text and other items appear small or larger.\n",
      "Options include, WQHD (2560 x 1440), FHD (1920 x 1080) _recommended setting_, HD+ (1600 x 900),\n",
      "WQXGA (2560 x 1600), WUXGA (1920 x 1200), or UWQHD (3440 x 1440). Select Done to commit the selected\n",
      "display setting. If the display resolution provided is not supported, then FHD (1920 x 1080) is\n",
      "selected by default and non-supported resolutions are greyed out in the DeX Display resolution\n",
      "screen. Industry example This example configures a tablet in DeX mode, so a bank employee can use it\n",
      "to help customers with day to day operations. For example opening a new account or checking account\n",
      "balances\n",
      "metadata:\n",
      " {'source': 'all_processed_data.json', 'seq_num': 1225, 'title': 'DeX', 'url':\n",
      "'https://docs.samsungknox.com/admin/knox-platform-for-enterprise/knox-service-plugin/configure-\n",
      "advanced-policies/dex', 'project': 'KSP', 'last_updated': '2023-07-26', 'family_tree': 'child',\n",
      "'parent_id': '70720e43-494e-4f7a-a09c-584f2ea37e62', 'id': 'b356759a-a976-496c-9032-184730427229',\n",
      "'orig_elements': ''}\n",
      "\n",
      "-----------------------------------------------\n",
      "4. Chunk: 1013 Characters\n",
      "-----------------------------------------------\n",
      ". #Other Kiosk enhancements The Knox Manage agent must be updated to the latest version for these\n",
      "new features to take effect. Bookmark in Multiple App Kiosk mode now supports file uploads and\n",
      "downloads. You can now set Kiosk Browser and Secure Browser to be automatically updated through\n",
      "profile policies. When adding or modifying a profile, you can find these settings in the following\n",
      "locations: Secure Browser: Android Enterprise > Secure Browser > App Auto Update. Kiosk Browser:\n",
      "Android Enterprise or Android Legacy > Kiosk > Kiosk app settings (select Kiosk Browser ) > App Auto\n",
      "Update. The loading status is now shown on the progress bar: Content #Increased maximum file size\n",
      "limit Previously, the maximum content size was 300 MB. In 20.08, this limit was increased to 1.0 GB.\n",
      "Knox E-FOTA license usage with Knox Suite In addition to the Knox E-FOTA admin portal, you can now\n",
      "view the Knox E-FOTA license usage in the following locations as well: License widget in the Knox\n",
      "Manage admin portal's Dashboard\n",
      "metadata:\n",
      " {'source': 'all_processed_data.json', 'seq_num': 1044, 'title': 'Knox Manage 20.08 release notes',\n",
      "'url': 'https://docs.samsungknox.com/admin/knox-manage/release-notes/20-08', 'project': 'KM',\n",
      "'last_updated': '2023-07-26', 'family_tree': 'child', 'parent_id':\n",
      "'aede7be4-3e2e-4dac-b671-6be82a4d0626', 'id': '634e3556-59f7-46e3-9876-fcccc81246a4',\n",
      "'orig_elements': ''}\n",
      "\n",
      "-----------------------------------------------\n",
      "5. Chunk: 1008 Characters\n",
      "-----------------------------------------------\n",
      ". Invalid APK version name. Invalid APK version name. Please change the version name and try\n",
      "uploading again. 4090001 File too large. Max 4000 devices allowed per upload. Try splitting the\n",
      "device upload list to reduce the size of .csv you are uploading. Note that there is a max of 4000\n",
      "devices allowed per upload. 4150000 File type is not supported. The file you are trying to upload is\n",
      "not supported. Knox Configure only accepts .csv files. App name cannot contain special characters.\n",
      "Rename the app so it does not contain any special or forbidden characters. App version is invalid.\n",
      "An app you are trying to upload is invalid. Verify that the version you're attempting to upload is\n",
      "correct. Try to re-upload the app again. CSV file is required. A system error occurred. Verify that\n",
      "you've attached a .csv file, try to re-attach the .csv and upload it again. If the problem persists,\n",
      "contact Samsung. 4040105 No CAPTCHA code entered. No CAPTCHA code was entered. Carefully enter the\n",
      "CAPTCHA code and submit\n",
      "metadata:\n",
      " {'source': 'all_processed_data.json', 'seq_num': 433, 'title': 'Portal-side errors', 'url':\n",
      "'https://docs.samsungknox.com/admin/knox-configure/knox-configure-wearables/troubleshoot/portal-\n",
      "side-errors', 'project': 'KC', 'last_updated': '2023-07-26', 'family_tree': 'child', 'parent_id':\n",
      "'291bc872-97b4-4b34-af40-dba8d4bb5292', 'id': '4511bd10-4429-418b-ac05-15a57c470300',\n",
      "'orig_elements': ''}\n",
      "CPU times: user 37.5 ms, sys: 0 ns, total: 37.5 ms\n",
      "Wall time: 114 ms\n"
     ]
    }
   ],
   "source": [
    "%%time\n",
    "search_hybrid_result = opensearch_hybrid_retriever.invoke(query)\n",
    "\n",
    "print(\"\\n==========  Results  ==========\\n\")\n",
    "print(f'1. question: {query}')\n",
    "print (f'2. # documents: {len(search_hybrid_result)}')\n",
    "print(\"3. Documents: \\n\")\n",
    "\n",
    "search_hybrid_result\n",
    "show_context_used(search_hybrid_result)"
   ]
  },
  {
   "cell_type": "markdown",
   "id": "a981abe7-5208-48f5-a9cc-8c557e9941ca",
   "metadata": {},
   "source": [
    "## 5. RAG using RetrievalQA powered by LangChain"
   ]
  },
  {
   "cell_type": "code",
   "execution_count": 33,
   "id": "08cf6d2b-451b-499c-aec2-bb6f5abafbb0",
   "metadata": {
    "tags": []
   },
   "outputs": [],
   "source": [
    "from textwrap import dedent"
   ]
  },
  {
   "cell_type": "markdown",
   "id": "b490df1f-8113-4dd1-a578-a3e1a6918fde",
   "metadata": {
    "tags": []
   },
   "source": [
    "### Prompting\n",
    "- [TIP] Prompt의 instruction의 경우 한글보다 영어로 했을 때 더 좋은 결과를 얻을 수 있습니다."
   ]
  },
  {
   "cell_type": "code",
   "execution_count": 34,
   "id": "bfd3ec15-7750-40c3-bab8-341d56195057",
   "metadata": {
    "tags": []
   },
   "outputs": [],
   "source": [
    "system_prompt = dedent(\n",
    "    \"\"\"\n",
    "    You are a master answer bot designed to answer user's questions.\n",
    "    I'm going to give you contexts which consist of texts, tables and images.\n",
    "    Read the contexts carefully, because I'm going to ask you a question about it.\n",
    "    \"\"\"\n",
    ")\n",
    "\n",
    "human_prompt = dedent(\n",
    "    \"\"\"\n",
    "    Here is the contexts as texts: <contexts>{contexts}</contexts>\n",
    "\n",
    "    First, find a few paragraphs or sentences from the contexts that are most relevant to answering the question.\n",
    "    Then, answer the question as much as you can.\n",
    "\n",
    "    Skip the preamble and go straight into the answer.\n",
    "    Don't insert any XML tag such as <contexts> and </contexts> when answering.\n",
    "    Answer in Korean.\n",
    "\n",
    "    Here is the question: <question>{question}</question>\n",
    "\n",
    "    If the question cannot be answered by the contexts, say \"No relevant contexts\".\n",
    "    \"\"\"\n",
    ")"
   ]
  },
  {
   "cell_type": "markdown",
   "id": "c66157a6-aec8-4555-a90f-1178e6f4f6e0",
   "metadata": {},
   "source": [
    "### Update Search Params (Optional)"
   ]
  },
  {
   "cell_type": "code",
   "execution_count": 35,
   "id": "64df2daf-8b42-472a-885f-97320ee98132",
   "metadata": {
    "tags": []
   },
   "outputs": [],
   "source": [
    "from utils.rag import rag_chain\n",
    "from langchain.schema.output_parser import StrOutputParser"
   ]
  },
  {
   "cell_type": "code",
   "execution_count": 36,
   "id": "d2697230-6962-43d8-8917-ba9daa4295bb",
   "metadata": {
    "tags": []
   },
   "outputs": [],
   "source": [
    "opensearch_hybrid_retriever.update_search_params(\n",
    "    k=5,\n",
    "    minimum_should_match=0,\n",
    "    #filter=[\n",
    "    #    {\"term\": {\"metadata.project\": \"KPE\"}},\n",
    "    #],\n",
    "    reranker=True,\n",
    "    reranker_endpoint_name=endpoint_name,\n",
    "    verbose=False\n",
    ")"
   ]
  },
  {
   "cell_type": "markdown",
   "id": "aee26c22-b674-4f4f-a87b-29508e336fda",
   "metadata": {},
   "source": [
    "### Request"
   ]
  },
  {
   "cell_type": "code",
   "execution_count": 40,
   "id": "95fa61d3-9256-432a-96a3-2c696c97ea68",
   "metadata": {
    "tags": []
   },
   "outputs": [],
   "source": [
    "qa = rag_chain(\n",
    "    llm_text=llm_text,\n",
    "    retriever=opensearch_hybrid_retriever,\n",
    "    system_prompt=system_prompt,\n",
    "    human_prompt=human_prompt,\n",
    "    return_context=True,\n",
    "    verbose=True,\n",
    "    #multi_turn=True\n",
    ")"
   ]
  },
  {
   "cell_type": "code",
   "execution_count": 41,
   "id": "390ad324-40b3-4bcb-92b9-50eb080492a5",
   "metadata": {
    "collapsed": true,
    "jupyter": {
     "outputs_hidden": true
    },
    "tags": []
   },
   "outputs": [
    {
     "name": "stdout",
     "output_type": "stream",
     "text": [
      "\u001b[32;1m\u001b[1;3m[chain/start]\u001b[0m \u001b[1m[chain:RunnableSequence] Entering Chain run with input:\n",
      "\u001b[0m{\n",
      "  \"input\": \"\"\n",
      "}\n",
      "\u001b[32;1m\u001b[1;3m[chain/start]\u001b[0m \u001b[1m[chain:RunnableSequence > prompt:ChatPromptTemplate] Entering Prompt run with input:\n",
      "\u001b[0m{\n",
      "  \"contexts\": \". #Other Kiosk enhancements The Knox Manage agent must be updated to the latest version for these new features to take effect. Bookmark in Multiple App Kiosk mode now supports file uploads and downloads. You can now set Kiosk Browser and Secure Browser to be automatically updated through profile policies. When adding or modifying a profile, you can find these settings in the following locations: Secure Browser: Android Enterprise > Secure Browser > App Auto Update. Kiosk Browser: Android Enterprise or Android Legacy > Kiosk > Kiosk app settings (select Kiosk Browser ) > App Auto Update. The loading status is now shown on the progress bar: Content #Increased maximum file size limit Previously, the maximum content size was 300 MB. In 20.08, this limit was increased to 1.0 GB. Knox E-FOTA license usage with Knox Suite In addition to the Knox E-FOTA admin portal, you can now view the Knox E-FOTA license usage in the following locations as well: License widget in the Knox Manage admin portal's Dashboard\\n\\n. Max TTL - The maximum amount of time, or time to live (TTL), in seconds, that a packet can exist in a network before being discarded by the router. The default value is 64, but a number from 49 to 255 can be entered. Packet size - The size of the packet to request, in bytes. The default value is 64, but a number from 4 to 1472 can be entered. If the device user sets Packet size as 10, Interval (ms) as 1000 ms, and Timeout (ms) as 500 ms, 10 pings are sent and the interval between each ping is set to 1000 ms. A successful test requires all 10 pings to be received within 500 ms each. The ping test continues even if the device user leaves the screen, but they can stop it at any time by tapping the stop button. Otherwise, the test automatically stops once the set conditions are met. A notification is also displayed in the notification bar for the duration of the test, which the user can tap to return to the test screen\\n\\n. Invalid APK version name. Invalid APK version name. Please change the version name and try uploading again. 4090001 File too large. Max 4000 devices allowed per upload. Try splitting the device upload list to reduce the size of .csv you are uploading. Note that there is a max of 4000 devices allowed per upload. 4150000 File type is not supported. The file you are trying to upload is not supported. Knox Configure only accepts .csv files. App name cannot contain special characters. Rename the app so it does not contain any special or forbidden characters. App version is invalid. An app you are trying to upload is invalid. Verify that the version you're attempting to upload is correct. Try to re-upload the app again. CSV file is required. A system error occurred. Verify that you've attached a .csv file, try to re-attach the .csv and upload it again. If the problem persists, contact Samsung. 4040105 No CAPTCHA code entered. No CAPTCHA code was entered. Carefully enter the CAPTCHA code and submit\\n\\n. 7. The device now launches DeX automatically when it is plugged in to an HDMI cable. 8. Once the device is connected to DeX, a Display resolution screen displays. Select a single resolution value for the connected display. Unselected display options will be greyed out and unavailable. Keep in mind, changing the resolution makes displayed windows, text and other items appear small or larger. Options include, WQHD (2560 x 1440), FHD (1920 x 1080) _recommended setting_, HD+ (1600 x 900), WQXGA (2560 x 1600), WUXGA (1920 x 1200), or UWQHD (3440 x 1440). Select Done to commit the selected display setting. If the display resolution provided is not supported, then FHD (1920 x 1080) is selected by default and non-supported resolutions are greyed out in the DeX Display resolution screen. Industry example This example configures a tablet in DeX mode, so a bank employee can use it to help customers with day to day operations. For example opening a new account or checking account balances\\n\\n.The input value ranges from 1 to 52428800 (50MB). Maximum Size of Email Body (Kbyte) Select a maximum value for the email body size. This is only set once during the initial Exchange ActiveSync setup. &gt; Default Size of Email Body (Kbyte) Select the default value of the email body size. Note Select the setting after the Maximum Size of Email Body (Kbyte) setting. Email Account Configures the settings of a POP or IMAP email account. Click !add to add a configuration. You can add or edit up to 20 configurations when you save the profile. Policy Description Configuration ID Assign a unique ID for each email account setting. Description Enter a description for each email account setting. Remove available Allows users to delete the email account settings in Knox Workspace. Default Account Specifies to usage of the default account. User Information input method Select an input method for entering user information. &gt; Manual Input Select this to enter the email address manually\",\n",
      "  \"question\": \"vidio max size?\"\n",
      "}\n",
      "\u001b[36;1m\u001b[1;3m[chain/end]\u001b[0m \u001b[1m[chain:RunnableSequence > prompt:ChatPromptTemplate] [1ms] Exiting Prompt run with output:\n",
      "\u001b[0m[outputs]\n",
      "\u001b[32;1m\u001b[1;3m[llm/start]\u001b[0m \u001b[1m[chain:RunnableSequence > llm:ChatBedrock] Entering LLM run with input:\n",
      "\u001b[0m{\n",
      "  \"prompts\": [\n",
      "    \"System: \\nYou are a master answer bot designed to answer user's questions.\\nI'm going to give you contexts which consist of texts, tables and images.\\nRead the contexts carefully, because I'm going to ask you a question about it.\\n\\nHuman: [{'type': 'text', 'text': '\\\\nHere is the contexts as texts: <contexts>. #Other Kiosk enhancements The Knox Manage agent must be updated to the latest version for these new features to take effect. Bookmark in Multiple App Kiosk mode now supports file uploads and downloads. You can now set Kiosk Browser and Secure Browser to be automatically updated through profile policies. When adding or modifying a profile, you can find these settings in the following locations: Secure Browser: Android Enterprise > Secure Browser > App Auto Update. Kiosk Browser: Android Enterprise or Android Legacy > Kiosk > Kiosk app settings (select Kiosk Browser ) > App Auto Update. The loading status is now shown on the progress bar: Content #Increased maximum file size limit Previously, the maximum content size was 300 MB. In 20.08, this limit was increased to 1.0 GB. Knox E-FOTA license usage with Knox Suite In addition to the Knox E-FOTA admin portal, you can now view the Knox E-FOTA license usage in the following locations as well: License widget in the Knox Manage admin portal\\\\'s Dashboard\\\\n\\\\n. Max TTL - The maximum amount of time, or time to live (TTL), in seconds, that a packet can exist in a network before being discarded by the router. The default value is 64, but a number from 49 to 255 can be entered. Packet size - The size of the packet to request, in bytes. The default value is 64, but a number from 4 to 1472 can be entered. If the device user sets Packet size as 10, Interval (ms) as 1000 ms, and Timeout (ms) as 500 ms, 10 pings are sent and the interval between each ping is set to 1000 ms. A successful test requires all 10 pings to be received within 500 ms each. The ping test continues even if the device user leaves the screen, but they can stop it at any time by tapping the stop button. Otherwise, the test automatically stops once the set conditions are met. A notification is also displayed in the notification bar for the duration of the test, which the user can tap to return to the test screen\\\\n\\\\n. Invalid APK version name. Invalid APK version name. Please change the version name and try uploading again. 4090001 File too large. Max 4000 devices allowed per upload. Try splitting the device upload list to reduce the size of .csv you are uploading. Note that there is a max of 4000 devices allowed per upload. 4150000 File type is not supported. The file you are trying to upload is not supported. Knox Configure only accepts .csv files. App name cannot contain special characters. Rename the app so it does not contain any special or forbidden characters. App version is invalid. An app you are trying to upload is invalid. Verify that the version you\\\\'re attempting to upload is correct. Try to re-upload the app again. CSV file is required. A system error occurred. Verify that you\\\\'ve attached a .csv file, try to re-attach the .csv and upload it again. If the problem persists, contact Samsung. 4040105 No CAPTCHA code entered. No CAPTCHA code was entered. Carefully enter the CAPTCHA code and submit\\\\n\\\\n. 7. The device now launches DeX automatically when it is plugged in to an HDMI cable. 8. Once the device is connected to DeX, a Display resolution screen displays. Select a single resolution value for the connected display. Unselected display options will be greyed out and unavailable. Keep in mind, changing the resolution makes displayed windows, text and other items appear small or larger. Options include, WQHD (2560 x 1440), FHD (1920 x 1080) _recommended setting_, HD+ (1600 x 900), WQXGA (2560 x 1600), WUXGA (1920 x 1200), or UWQHD (3440 x 1440). Select Done to commit the selected display setting. If the display resolution provided is not supported, then FHD (1920 x 1080) is selected by default and non-supported resolutions are greyed out in the DeX Display resolution screen. Industry example This example configures a tablet in DeX mode, so a bank employee can use it to help customers with day to day operations. For example opening a new account or checking account balances\\\\n\\\\n.The input value ranges from 1 to 52428800 (50MB). Maximum Size of Email Body (Kbyte) Select a maximum value for the email body size. This is only set once during the initial Exchange ActiveSync setup. &gt; Default Size of Email Body (Kbyte) Select the default value of the email body size. Note Select the setting after the Maximum Size of Email Body (Kbyte) setting. Email Account Configures the settings of a POP or IMAP email account. Click !add to add a configuration. You can add or edit up to 20 configurations when you save the profile. Policy Description Configuration ID Assign a unique ID for each email account setting. Description Enter a description for each email account setting. Remove available Allows users to delete the email account settings in Knox Workspace. Default Account Specifies to usage of the default account. User Information input method Select an input method for entering user information. &gt; Manual Input Select this to enter the email address manually</contexts>\\\\n\\\\nFirst, find a few paragraphs or sentences from the contexts that are most relevant to answering the question.\\\\nThen, answer the question as much as you can.\\\\n\\\\nSkip the preamble and go straight into the answer.\\\\nDon\\\\'t insert any XML tag such as <contexts> and </contexts> when answering.\\\\nAnswer in Korean.\\\\n\\\\nHere is the question: <question>vidio max size?</question>\\\\n\\\\nIf the question cannot be answered by the contexts, say \\\"No relevant contexts\\\".\\\\n'}]\"\n",
      "  ]\n",
      "}\n",
      "\u001b[32;1m\u001b[1;3m[chain/start]\u001b[0m \u001b[1m[chain:RunnableSequence > parser:StrOutputParser] Entering Parser run with input:\n",
      "\u001b[0m{\n",
      "  \"input\": \"\"\n",
      "}\n",
      "관련 맥락을 찾았습니다:\n",
      "\n",
      "\"Previously, the maximum content size was 300 MB. In 20.08, this limit was increased to 1.0 GB.\"\n",
      "\n",
      "답변:\n",
      "\n",
      "Knox Manage의 최대 비디오 크기 제한은 1.0 GB입니다. 이전에는 300 MB였지만 버전 20.08에서 1.0 GB로 증가되었습니다.\u001b[36;1m\u001b[1;3m[llm/end]\u001b[0m \u001b[1m[chain:RunnableSequence > llm:ChatBedrock] [5.02s] Exiting LLM run with output:\n",
      "\u001b[0m{\n",
      "  \"generations\": [\n",
      "    [\n",
      "      {\n",
      "        \"text\": \"관련 맥락을 찾았습니다:\\n\\n\\\"Previously, the maximum content size was 300 MB. In 20.08, this limit was increased to 1.0 GB.\\\"\\n\\n답변:\\n\\nKnox Manage의 최대 비디오 크기 제한은 1.0 GB입니다. 이전에는 300 MB였지만 버전 20.08에서 1.0 GB로 증가되었습니다.\",\n",
      "        \"generation_info\": null,\n",
      "        \"type\": \"ChatGenerationChunk\",\n",
      "        \"message\": {\n",
      "          \"lc\": 1,\n",
      "          \"type\": \"constructor\",\n",
      "          \"id\": [\n",
      "            \"langchain\",\n",
      "            \"schema\",\n",
      "            \"messages\",\n",
      "            \"AIMessageChunk\"\n",
      "          ],\n",
      "          \"kwargs\": {\n",
      "            \"content\": \"관련 맥락을 찾았습니다:\\n\\n\\\"Previously, the maximum content size was 300 MB. In 20.08, this limit was increased to 1.0 GB.\\\"\\n\\n답변:\\n\\nKnox Manage의 최대 비디오 크기 제한은 1.0 GB입니다. 이전에는 300 MB였지만 버전 20.08에서 1.0 GB로 증가되었습니다.\",\n",
      "            \"response_metadata\": {\n",
      "              \"stop_reason\": \"end_turn\",\n",
      "              \"stop_sequence\": null\n",
      "            },\n",
      "            \"type\": \"AIMessageChunk\",\n",
      "            \"id\": \"run-e8386da7-3c19-4bf0-915c-965e5243f7e6\",\n",
      "            \"usage_metadata\": {\n",
      "              \"input_tokens\": 1389,\n",
      "              \"output_tokens\": 120,\n",
      "              \"total_tokens\": 1509\n",
      "            },\n",
      "            \"tool_calls\": [],\n",
      "            \"invalid_tool_calls\": []\n",
      "          }\n",
      "        }\n",
      "      }\n",
      "    ]\n",
      "  ],\n",
      "  \"llm_output\": null,\n",
      "  \"run\": null,\n",
      "  \"type\": \"LLMResult\"\n",
      "}\n",
      "\u001b[36;1m\u001b[1;3m[chain/end]\u001b[0m \u001b[1m[chain:RunnableSequence > parser:StrOutputParser] [3.37s] Exiting Parser run with output:\n",
      "\u001b[0m{\n",
      "  \"output\": \"관련 맥락을 찾았습니다:\\n\\n\\\"Previously, the maximum content size was 300 MB. In 20.08, this limit was increased to 1.0 GB.\\\"\\n\\n답변:\\n\\nKnox Manage의 최대 비디오 크기 제한은 1.0 GB입니다. 이전에는 300 MB였지만 버전 20.08에서 1.0 GB로 증가되었습니다.\"\n",
      "}\n",
      "\u001b[36;1m\u001b[1;3m[chain/end]\u001b[0m \u001b[1m[chain:RunnableSequence] [5.03s] Exiting Chain run with output:\n",
      "\u001b[0m{\n",
      "  \"output\": \"관련 맥락을 찾았습니다:\\n\\n\\\"Previously, the maximum content size was 300 MB. In 20.08, this limit was increased to 1.0 GB.\\\"\\n\\n답변:\\n\\nKnox Manage의 최대 비디오 크기 제한은 1.0 GB입니다. 이전에는 300 MB였지만 버전 20.08에서 1.0 GB로 증가되었습니다.\"\n",
      "}\n",
      "\n",
      "-----------------------------------------------\n",
      "1. Chunk: 1013 Characters\n",
      "-----------------------------------------------\n",
      ". #Other Kiosk enhancements The Knox Manage agent must be updated to the latest version for these\n",
      "new features to take effect. Bookmark in Multiple App Kiosk mode now supports file uploads and\n",
      "downloads. You can now set Kiosk Browser and Secure Browser to be automatically updated through\n",
      "profile policies. When adding or modifying a profile, you can find these settings in the following\n",
      "locations: Secure Browser: Android Enterprise > Secure Browser > App Auto Update. Kiosk Browser:\n",
      "Android Enterprise or Android Legacy > Kiosk > Kiosk app settings (select Kiosk Browser ) > App Auto\n",
      "Update. The loading status is now shown on the progress bar: Content #Increased maximum file size\n",
      "limit Previously, the maximum content size was 300 MB. In 20.08, this limit was increased to 1.0 GB.\n",
      "Knox E-FOTA license usage with Knox Suite In addition to the Knox E-FOTA admin portal, you can now\n",
      "view the Knox E-FOTA license usage in the following locations as well: License widget in the Knox\n",
      "Manage admin portal's Dashboard\n",
      "metadata:\n",
      " {'source': 'all_processed_data.json', 'seq_num': 1044, 'title': 'Knox Manage 20.08 release notes',\n",
      "'url': 'https://docs.samsungknox.com/admin/knox-manage/release-notes/20-08', 'project': 'KM',\n",
      "'last_updated': '2023-07-26', 'family_tree': 'child', 'parent_id':\n",
      "'aede7be4-3e2e-4dac-b671-6be82a4d0626', 'id': '634e3556-59f7-46e3-9876-fcccc81246a4',\n",
      "'orig_elements': ''}\n",
      "\n",
      "-----------------------------------------------\n",
      "2. Chunk: 930 Characters\n",
      "-----------------------------------------------\n",
      ". Max TTL - The maximum amount of time, or time to live (TTL), in seconds, that a packet can exist\n",
      "in a network before being discarded by the router. The default value is 64, but a number from 49 to\n",
      "255 can be entered. Packet size - The size of the packet to request, in bytes. The default value is\n",
      "64, but a number from 4 to 1472 can be entered. If the device user sets Packet size as 10, Interval\n",
      "(ms) as 1000 ms, and Timeout (ms) as 500 ms, 10 pings are sent and the interval between each ping is\n",
      "set to 1000 ms. A successful test requires all 10 pings to be received within 500 ms each. The ping\n",
      "test continues even if the device user leaves the screen, but they can stop it at any time by\n",
      "tapping the stop button. Otherwise, the test automatically stops once the set conditions are met. A\n",
      "notification is also displayed in the notification bar for the duration of the test, which the user\n",
      "can tap to return to the test screen\n",
      "metadata:\n",
      " {'source': 'all_processed_data.json', 'seq_num': 292, 'title': 'Use the agent app', 'url':\n",
      "'https://docs.samsungknox.com/admin/knox-asset-intelligence/how-to-guides/use-the-agent-app',\n",
      "'project': 'KAI', 'last_updated': '2023-09-06', 'family_tree': 'child', 'parent_id':\n",
      "'5e1fc1b0-0bdc-4a1f-9a43-e9d8bbe28070', 'id': 'ed5d473e-b02a-4797-9ced-fa6548a6b56b',\n",
      "'orig_elements': ''}\n",
      "\n",
      "-----------------------------------------------\n",
      "3. Chunk: 1008 Characters\n",
      "-----------------------------------------------\n",
      ". Invalid APK version name. Invalid APK version name. Please change the version name and try\n",
      "uploading again. 4090001 File too large. Max 4000 devices allowed per upload. Try splitting the\n",
      "device upload list to reduce the size of .csv you are uploading. Note that there is a max of 4000\n",
      "devices allowed per upload. 4150000 File type is not supported. The file you are trying to upload is\n",
      "not supported. Knox Configure only accepts .csv files. App name cannot contain special characters.\n",
      "Rename the app so it does not contain any special or forbidden characters. App version is invalid.\n",
      "An app you are trying to upload is invalid. Verify that the version you're attempting to upload is\n",
      "correct. Try to re-upload the app again. CSV file is required. A system error occurred. Verify that\n",
      "you've attached a .csv file, try to re-attach the .csv and upload it again. If the problem persists,\n",
      "contact Samsung. 4040105 No CAPTCHA code entered. No CAPTCHA code was entered. Carefully enter the\n",
      "CAPTCHA code and submit\n",
      "metadata:\n",
      " {'source': 'all_processed_data.json', 'seq_num': 433, 'title': 'Portal-side errors', 'url':\n",
      "'https://docs.samsungknox.com/admin/knox-configure/knox-configure-wearables/troubleshoot/portal-\n",
      "side-errors', 'project': 'KC', 'last_updated': '2023-07-26', 'family_tree': 'child', 'parent_id':\n",
      "'291bc872-97b4-4b34-af40-dba8d4bb5292', 'id': '4511bd10-4429-418b-ac05-15a57c470300',\n",
      "'orig_elements': ''}\n",
      "\n",
      "-----------------------------------------------\n",
      "4. Chunk: 993 Characters\n",
      "-----------------------------------------------\n",
      ". 7. The device now launches DeX automatically when it is plugged in to an HDMI cable. 8. Once the\n",
      "device is connected to DeX, a Display resolution screen displays. Select a single resolution value\n",
      "for the connected display. Unselected display options will be greyed out and unavailable. Keep in\n",
      "mind, changing the resolution makes displayed windows, text and other items appear small or larger.\n",
      "Options include, WQHD (2560 x 1440), FHD (1920 x 1080) _recommended setting_, HD+ (1600 x 900),\n",
      "WQXGA (2560 x 1600), WUXGA (1920 x 1200), or UWQHD (3440 x 1440). Select Done to commit the selected\n",
      "display setting. If the display resolution provided is not supported, then FHD (1920 x 1080) is\n",
      "selected by default and non-supported resolutions are greyed out in the DeX Display resolution\n",
      "screen. Industry example This example configures a tablet in DeX mode, so a bank employee can use it\n",
      "to help customers with day to day operations. For example opening a new account or checking account\n",
      "balances\n",
      "metadata:\n",
      " {'source': 'all_processed_data.json', 'seq_num': 1225, 'title': 'DeX', 'url':\n",
      "'https://docs.samsungknox.com/admin/knox-platform-for-enterprise/knox-service-plugin/configure-\n",
      "advanced-policies/dex', 'project': 'KSP', 'last_updated': '2023-07-26', 'family_tree': 'child',\n",
      "'parent_id': '70720e43-494e-4f7a-a09c-584f2ea37e62', 'id': 'b356759a-a976-496c-9032-184730427229',\n",
      "'orig_elements': ''}\n",
      "\n",
      "-----------------------------------------------\n",
      "5. Chunk: 990 Characters\n",
      "-----------------------------------------------\n",
      ".The input value ranges from 1 to 52428800 (50MB). Maximum Size of Email Body (Kbyte) Select a\n",
      "maximum value for the email body size. This is only set once during the initial Exchange ActiveSync\n",
      "setup. &gt; Default Size of Email Body (Kbyte) Select the default value of the email body size. Note\n",
      "Select the setting after the Maximum Size of Email Body (Kbyte) setting. Email Account Configures\n",
      "the settings of a POP or IMAP email account. Click !add to add a configuration. You can add or edit\n",
      "up to 20 configurations when you save the profile. Policy Description Configuration ID Assign a\n",
      "unique ID for each email account setting. Description Enter a description for each email account\n",
      "setting. Remove available Allows users to delete the email account settings in Knox Workspace.\n",
      "Default Account Specifies to usage of the default account. User Information input method Select an\n",
      "input method for entering user information. &gt; Manual Input Select this to enter the email address\n",
      "manually\n",
      "metadata:\n",
      " {'source': 'all_processed_data.json', 'seq_num': 899, 'title': 'Knox Workspace (Android Legacy)\n",
      "policies', 'url': 'https://docs.samsungknox.com/admin/knox-manage/configure/profile/configure-\n",
      "profile-policies/knox-workspace-android-legacy-policies', 'project': 'KM', 'last_updated':\n",
      "'2023-07-26', 'family_tree': 'child', 'parent_id': '6a3fe0cd-dbf3-4a81-ac4a-65f579d0dac2', 'id':\n",
      "'05248e42-9e06-4f86-b66a-f93a03a7cbb9', 'orig_elements': ''}\n"
     ]
    }
   ],
   "source": [
    "#query = \"중지된 경우 이체\"\n",
    "query = \"vidio max size?\"\n",
    "\n",
    "response, contexts = qa.invoke(\n",
    "    query = query\n",
    ")\n",
    "\n",
    "show_context_used(contexts)"
   ]
  },
  {
   "cell_type": "code",
   "execution_count": 42,
   "id": "01e77dad-dc19-416b-80e7-19fac3b736a5",
   "metadata": {
    "tags": []
   },
   "outputs": [
    {
     "name": "stdout",
     "output_type": "stream",
     "text": [
      "##################################\n",
      "query:  vidio max size?\n",
      "##################################\n",
      "\u001b[34m\n",
      "\n",
      "### Answer ###\u001b[0m\n",
      "관련 맥락을 찾았습니다:\n",
      "\n",
      "\"Previously, the maximum content size was 300 MB. In 20.08, this limit was increased to 1.0 GB.\"\n",
      "\n",
      "답변:\n",
      "\n",
      "Knox Manage의 최대 비디오 크기 제한은 1.0 GB입니다. 이전에는 300 MB였지만 버전 20.08에서 1.0 GB로 증가되었습니다.\n",
      "\u001b[32m\n",
      "\n",
      "### Contexts ###\u001b[0m\n",
      "\n",
      "-----------------------------------------------\n",
      "1. Chunk: 1013 Characters\n",
      "-----------------------------------------------\n",
      ". #Other Kiosk enhancements The Knox Manage agent must be updated to the latest version for these\n",
      "new features to take effect. Bookmark in Multiple App Kiosk mode now supports file uploads and\n",
      "downloads. You can now set Kiosk Browser and Secure Browser to be automatically updated through\n",
      "profile policies. When adding or modifying a profile, you can find these settings in the following\n",
      "locations: Secure Browser: Android Enterprise > Secure Browser > App Auto Update. Kiosk Browser:\n",
      "Android Enterprise or Android Legacy > Kiosk > Kiosk app settings (select Kiosk Browser ) > App Auto\n",
      "Update. The loading status is now shown on the progress bar: Content #Increased maximum file size\n",
      "limit Previously, the maximum content size was 300 MB. In 20.08, this limit was increased to 1.0 GB.\n",
      "Knox E-FOTA license usage with Knox Suite In addition to the Knox E-FOTA admin portal, you can now\n",
      "view the Knox E-FOTA license usage in the following locations as well: License widget in the Knox\n",
      "Manage admin portal's Dashboard\n",
      "metadata:\n",
      " {'source': 'all_processed_data.json', 'seq_num': 1044, 'title': 'Knox Manage 20.08 release notes',\n",
      "'url': 'https://docs.samsungknox.com/admin/knox-manage/release-notes/20-08', 'project': 'KM',\n",
      "'last_updated': '2023-07-26', 'family_tree': 'child', 'parent_id':\n",
      "'aede7be4-3e2e-4dac-b671-6be82a4d0626', 'id': '634e3556-59f7-46e3-9876-fcccc81246a4',\n",
      "'orig_elements': ''}\n",
      "\n",
      "-----------------------------------------------\n",
      "2. Chunk: 930 Characters\n",
      "-----------------------------------------------\n",
      ". Max TTL - The maximum amount of time, or time to live (TTL), in seconds, that a packet can exist\n",
      "in a network before being discarded by the router. The default value is 64, but a number from 49 to\n",
      "255 can be entered. Packet size - The size of the packet to request, in bytes. The default value is\n",
      "64, but a number from 4 to 1472 can be entered. If the device user sets Packet size as 10, Interval\n",
      "(ms) as 1000 ms, and Timeout (ms) as 500 ms, 10 pings are sent and the interval between each ping is\n",
      "set to 1000 ms. A successful test requires all 10 pings to be received within 500 ms each. The ping\n",
      "test continues even if the device user leaves the screen, but they can stop it at any time by\n",
      "tapping the stop button. Otherwise, the test automatically stops once the set conditions are met. A\n",
      "notification is also displayed in the notification bar for the duration of the test, which the user\n",
      "can tap to return to the test screen\n",
      "metadata:\n",
      " {'source': 'all_processed_data.json', 'seq_num': 292, 'title': 'Use the agent app', 'url':\n",
      "'https://docs.samsungknox.com/admin/knox-asset-intelligence/how-to-guides/use-the-agent-app',\n",
      "'project': 'KAI', 'last_updated': '2023-09-06', 'family_tree': 'child', 'parent_id':\n",
      "'5e1fc1b0-0bdc-4a1f-9a43-e9d8bbe28070', 'id': 'ed5d473e-b02a-4797-9ced-fa6548a6b56b',\n",
      "'orig_elements': ''}\n",
      "\n",
      "-----------------------------------------------\n",
      "3. Chunk: 1008 Characters\n",
      "-----------------------------------------------\n",
      ". Invalid APK version name. Invalid APK version name. Please change the version name and try\n",
      "uploading again. 4090001 File too large. Max 4000 devices allowed per upload. Try splitting the\n",
      "device upload list to reduce the size of .csv you are uploading. Note that there is a max of 4000\n",
      "devices allowed per upload. 4150000 File type is not supported. The file you are trying to upload is\n",
      "not supported. Knox Configure only accepts .csv files. App name cannot contain special characters.\n",
      "Rename the app so it does not contain any special or forbidden characters. App version is invalid.\n",
      "An app you are trying to upload is invalid. Verify that the version you're attempting to upload is\n",
      "correct. Try to re-upload the app again. CSV file is required. A system error occurred. Verify that\n",
      "you've attached a .csv file, try to re-attach the .csv and upload it again. If the problem persists,\n",
      "contact Samsung. 4040105 No CAPTCHA code entered. No CAPTCHA code was entered. Carefully enter the\n",
      "CAPTCHA code and submit\n",
      "metadata:\n",
      " {'source': 'all_processed_data.json', 'seq_num': 433, 'title': 'Portal-side errors', 'url':\n",
      "'https://docs.samsungknox.com/admin/knox-configure/knox-configure-wearables/troubleshoot/portal-\n",
      "side-errors', 'project': 'KC', 'last_updated': '2023-07-26', 'family_tree': 'child', 'parent_id':\n",
      "'291bc872-97b4-4b34-af40-dba8d4bb5292', 'id': '4511bd10-4429-418b-ac05-15a57c470300',\n",
      "'orig_elements': ''}\n",
      "\n",
      "-----------------------------------------------\n",
      "4. Chunk: 993 Characters\n",
      "-----------------------------------------------\n",
      ". 7. The device now launches DeX automatically when it is plugged in to an HDMI cable. 8. Once the\n",
      "device is connected to DeX, a Display resolution screen displays. Select a single resolution value\n",
      "for the connected display. Unselected display options will be greyed out and unavailable. Keep in\n",
      "mind, changing the resolution makes displayed windows, text and other items appear small or larger.\n",
      "Options include, WQHD (2560 x 1440), FHD (1920 x 1080) _recommended setting_, HD+ (1600 x 900),\n",
      "WQXGA (2560 x 1600), WUXGA (1920 x 1200), or UWQHD (3440 x 1440). Select Done to commit the selected\n",
      "display setting. If the display resolution provided is not supported, then FHD (1920 x 1080) is\n",
      "selected by default and non-supported resolutions are greyed out in the DeX Display resolution\n",
      "screen. Industry example This example configures a tablet in DeX mode, so a bank employee can use it\n",
      "to help customers with day to day operations. For example opening a new account or checking account\n",
      "balances\n",
      "metadata:\n",
      " {'source': 'all_processed_data.json', 'seq_num': 1225, 'title': 'DeX', 'url':\n",
      "'https://docs.samsungknox.com/admin/knox-platform-for-enterprise/knox-service-plugin/configure-\n",
      "advanced-policies/dex', 'project': 'KSP', 'last_updated': '2023-07-26', 'family_tree': 'child',\n",
      "'parent_id': '70720e43-494e-4f7a-a09c-584f2ea37e62', 'id': 'b356759a-a976-496c-9032-184730427229',\n",
      "'orig_elements': ''}\n",
      "\n",
      "-----------------------------------------------\n",
      "5. Chunk: 990 Characters\n",
      "-----------------------------------------------\n",
      ".The input value ranges from 1 to 52428800 (50MB). Maximum Size of Email Body (Kbyte) Select a\n",
      "maximum value for the email body size. This is only set once during the initial Exchange ActiveSync\n",
      "setup. &gt; Default Size of Email Body (Kbyte) Select the default value of the email body size. Note\n",
      "Select the setting after the Maximum Size of Email Body (Kbyte) setting. Email Account Configures\n",
      "the settings of a POP or IMAP email account. Click !add to add a configuration. You can add or edit\n",
      "up to 20 configurations when you save the profile. Policy Description Configuration ID Assign a\n",
      "unique ID for each email account setting. Description Enter a description for each email account\n",
      "setting. Remove available Allows users to delete the email account settings in Knox Workspace.\n",
      "Default Account Specifies to usage of the default account. User Information input method Select an\n",
      "input method for entering user information. &gt; Manual Input Select this to enter the email address\n",
      "manually\n",
      "metadata:\n",
      " {'source': 'all_processed_data.json', 'seq_num': 899, 'title': 'Knox Workspace (Android Legacy)\n",
      "policies', 'url': 'https://docs.samsungknox.com/admin/knox-manage/configure/profile/configure-\n",
      "profile-policies/knox-workspace-android-legacy-policies', 'project': 'KM', 'last_updated':\n",
      "'2023-07-26', 'family_tree': 'child', 'parent_id': '6a3fe0cd-dbf3-4a81-ac4a-65f579d0dac2', 'id':\n",
      "'05248e42-9e06-4f86-b66a-f93a03a7cbb9', 'orig_elements': ''}\n"
     ]
    }
   ],
   "source": [
    "print(\"##################################\")\n",
    "print(\"query: \", query)\n",
    "print(\"##################################\")\n",
    "\n",
    "print (colored(\"\\n\\n### Answer ###\", \"blue\"))\n",
    "print_ww(response)\n",
    "\n",
    "print (colored(\"\\n\\n### Contexts ###\", \"green\"))\n",
    "show_context_used(contexts)"
   ]
  },
  {
   "cell_type": "code",
   "execution_count": null,
   "id": "ab0d1ef1-8a66-4530-9080-94671c1402ce",
   "metadata": {},
   "outputs": [],
   "source": []
  },
  {
   "cell_type": "code",
   "execution_count": null,
   "id": "21b1a2a9-a914-4b61-8e8f-3523997f2181",
   "metadata": {},
   "outputs": [],
   "source": []
  },
  {
   "cell_type": "code",
   "execution_count": null,
   "id": "d6653b87-015b-4b2c-872b-26772b22c266",
   "metadata": {},
   "outputs": [],
   "source": []
  },
  {
   "cell_type": "code",
   "execution_count": null,
   "id": "995dbeec-9be1-498f-8732-465abe3eb723",
   "metadata": {},
   "outputs": [],
   "source": []
  },
  {
   "cell_type": "code",
   "execution_count": null,
   "id": "c6f437e5-7f85-469e-bf27-17fedafcf1bb",
   "metadata": {},
   "outputs": [],
   "source": [
    "#!pip install -U FlagEmbedding\n",
    "%%time\n",
    "from FlagEmbedding import FlagReranker\n",
    "reranker = FlagReranker('BAAI/bge-reranker-large', use_fp16=False) # Setting use_fp16 to True speeds up computation with a slight performance degradation\n",
    "\n",
    "score = reranker.compute_score(['query', 'passage'])\n",
    "print(score)\n",
    "\n",
    "scores = reranker.compute_score([['what is panda?', 'hi'], ['what is panda?', 'The giant panda (Ailuropoda melanoleuca), sometimes called a panda bear or simply panda, is a bear species endemic to China.']])\n",
    "print(scores)"
   ]
  }
 ],
 "metadata": {
  "kernelspec": {
   "display_name": "conda_python3",
   "language": "python",
   "name": "conda_python3"
  },
  "language_info": {
   "codemirror_mode": {
    "name": "ipython",
    "version": 3
   },
   "file_extension": ".py",
   "mimetype": "text/x-python",
   "name": "python",
   "nbconvert_exporter": "python",
   "pygments_lexer": "ipython3",
   "version": "3.10.14"
  },
  "vscode": {
   "interpreter": {
    "hash": "4b8e647a79df62bf31906a725b05de775d285962ac600487339d38c51a5c07b1"
   }
  }
 },
 "nbformat": 4,
 "nbformat_minor": 5
}
