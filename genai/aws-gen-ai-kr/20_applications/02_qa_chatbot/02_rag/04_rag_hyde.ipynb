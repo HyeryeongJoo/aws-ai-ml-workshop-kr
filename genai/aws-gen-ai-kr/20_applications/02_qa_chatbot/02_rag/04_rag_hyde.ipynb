{
 "cells": [
  {
   "cell_type": "markdown",
   "id": "5deb2df2-413d-49bd-a829-3a1fc344937e",
   "metadata": {},
   "source": [
    "# RAG Based on HyDE\n",
    "- Hybrid Search\n",
    "- ReRanker\n",
    "- HyDE (Hypothetical Document Embeddings)"
   ]
  },
  {
   "cell_type": "markdown",
   "id": "b1f81abc-3277-4a6b-9ef1-d4f997d67fbe",
   "metadata": {},
   "source": [
    "## Setting\n",
    " - Auto Reload\n",
    " - path for utils"
   ]
  },
  {
   "cell_type": "code",
   "execution_count": 1,
   "id": "ddde4105-b759-4d6c-8214-8e1ab485ae48",
   "metadata": {
    "tags": []
   },
   "outputs": [],
   "source": [
    "%load_ext autoreload\n",
    "%autoreload 2"
   ]
  },
  {
   "cell_type": "code",
   "execution_count": 2,
   "id": "57c2cdb1-d785-4317-afce-938f13141085",
   "metadata": {
    "tags": []
   },
   "outputs": [],
   "source": [
    "import sys, os\n",
    "module_path = \"../../..\"\n",
    "sys.path.append(os.path.abspath(module_path))"
   ]
  },
  {
   "cell_type": "markdown",
   "id": "9c4ade56-8dbc-4ded-b355-7e4bcc971e90",
   "metadata": {},
   "source": [
    "## 1. Bedrock Client 생성"
   ]
  },
  {
   "cell_type": "code",
   "execution_count": 3,
   "id": "cc2d877f-e877-48f6-8dd4-239de20e45cd",
   "metadata": {
    "tags": []
   },
   "outputs": [],
   "source": [
    "import json\n",
    "import boto3\n",
    "from pprint import pprint\n",
    "from termcolor import colored\n",
    "from utils import bedrock, print_ww\n",
    "from utils.bedrock import bedrock_info"
   ]
  },
  {
   "cell_type": "markdown",
   "id": "088e6490-c79a-49e4-841c-9fdb91292608",
   "metadata": {},
   "source": [
    "### ---- ⚠️ Un-comment and edit the below lines as needed for your AWS setup ⚠️ ----\n",
    "- os.environ[\"AWS_DEFAULT_REGION\"] = \"<REGION_NAME>\"  # E.g. \"us-east-1\"\n",
    "- os.environ[\"AWS_PROFILE\"] = \"<YOUR_PROFILE>\"\n",
    "- os.environ[\"BEDROCK_ASSUME_ROLE\"] = \"<YOUR_ROLE_ARN>\"  # E.g. \"arn:aws:...\"\n",
    "- os.environ[\"BEDROCK_ENDPOINT_URL\"] = \"<YOUR_ENDPOINT_URL>\"  # E.g. \"https://...\""
   ]
  },
  {
   "cell_type": "code",
   "execution_count": 4,
   "id": "cab9312c-5f61-4730-96c3-5eef54a5f08c",
   "metadata": {
    "tags": []
   },
   "outputs": [
    {
     "name": "stdout",
     "output_type": "stream",
     "text": [
      "Create new client\n",
      "  Using region: None\n",
      "  Using profile: None\n",
      "boto3 Bedrock client successfully created!\n",
      "bedrock-runtime(https://bedrock-runtime.us-east-1.amazonaws.com)\n",
      "\u001b[32m\n",
      "== FM lists ==\u001b[0m\n",
      "{'Claude-Instant-V1': 'anthropic.claude-instant-v1',\n",
      " 'Claude-V1': 'anthropic.claude-v1',\n",
      " 'Claude-V2': 'anthropic.claude-v2',\n",
      " 'Cohere-Embeddings-En': 'cohere.embed-english-v3',\n",
      " 'Cohere-Embeddings-Multilingual': 'cohere.embed-multilingual-v3',\n",
      " 'Command': 'cohere.command-text-v14',\n",
      " 'Command-Light': 'cohere.command-light-text-v14',\n",
      " 'Jurassic-2-Mid': 'ai21.j2-mid-v1',\n",
      " 'Jurassic-2-Ultra': 'ai21.j2-ultra-v1',\n",
      " 'Llama2-13b-Chat': 'meta.llama2-13b-chat-v1',\n",
      " 'Titan-Embeddings-G1': 'amazon.titan-embed-text-v1',\n",
      " 'Titan-Text-G1': 'amazon.titan-text-express-v1',\n",
      " 'Titan-Text-G1-Light': 'amazon.titan-text-lite-v1'}\n"
     ]
    }
   ],
   "source": [
    "boto3_bedrock = bedrock.get_bedrock_client(\n",
    "    assumed_role=os.environ.get(\"BEDROCK_ASSUME_ROLE\", None),\n",
    "    endpoint_url=os.environ.get(\"BEDROCK_ENDPOINT_URL\", None),\n",
    "    region=os.environ.get(\"AWS_DEFAULT_REGION\", None),\n",
    ")\n",
    "\n",
    "aws_region = os.environ.get(\"AWS_DEFAULT_REGION\", None)\n",
    "print (colored(\"\\n== FM lists ==\", \"green\"))\n",
    "pprint (bedrock_info.get_list_fm_models())"
   ]
  },
  {
   "cell_type": "markdown",
   "id": "241a9e34-417a-422f-9f75-cb211b2e70e1",
   "metadata": {
    "tags": []
   },
   "source": [
    "## 2. Titan Embedding 및 LLM 인 Claude-v2 모델 로딩"
   ]
  },
  {
   "cell_type": "markdown",
   "id": "29bf63d2-4110-407c-af06-a45d2fbed4b5",
   "metadata": {},
   "source": [
    "### LLM 로딩 (Claude-v2)"
   ]
  },
  {
   "cell_type": "code",
   "execution_count": 5,
   "id": "9c51443a-04f9-465c-9564-53053eb3e1c2",
   "metadata": {
    "tags": []
   },
   "outputs": [],
   "source": [
    "from langchain.llms.bedrock import Bedrock\n",
    "from langchain.callbacks.streaming_stdout import StreamingStdOutCallbackHandler"
   ]
  },
  {
   "cell_type": "code",
   "execution_count": 6,
   "id": "d09e84e0-b9e1-4b12-8e7a-68f03c5416e5",
   "metadata": {
    "tags": []
   },
   "outputs": [
    {
     "data": {
      "text/plain": [
       "Bedrock(client=<botocore.client.BedrockRuntime object at 0x7fec5bcaa440>, model_id='anthropic.claude-v2', model_kwargs={'max_tokens_to_sample': 512}, streaming=True, callbacks=[<langchain_core.callbacks.streaming_stdout.StreamingStdOutCallbackHandler object at 0x7fec5bc85300>])"
      ]
     },
     "execution_count": 6,
     "metadata": {},
     "output_type": "execute_result"
    }
   ],
   "source": [
    "llm_text = Bedrock(\n",
    "    model_id=bedrock_info.get_model_id(model_name=\"Claude-V2\"),\n",
    "    client=boto3_bedrock,\n",
    "    model_kwargs={\n",
    "        \"max_tokens_to_sample\": 512\n",
    "    },\n",
    "    streaming=True,\n",
    "    callbacks=[StreamingStdOutCallbackHandler()]\n",
    ")\n",
    "\n",
    "llm_text"
   ]
  },
  {
   "cell_type": "markdown",
   "id": "3ba2e829-af8f-4e90-b994-59106cdec8d8",
   "metadata": {},
   "source": [
    "### Embedding 모델 선택"
   ]
  },
  {
   "cell_type": "code",
   "execution_count": 7,
   "id": "0b7b8752-d1e3-4f41-ba35-6da42c3785db",
   "metadata": {
    "tags": []
   },
   "outputs": [],
   "source": [
    "from utils.rag import KoSimCSERobertaContentHandler, SagemakerEndpointEmbeddingsJumpStart"
   ]
  },
  {
   "cell_type": "code",
   "execution_count": 8,
   "id": "793b03f7-3186-4969-b76a-98fe56bd5fdc",
   "metadata": {
    "tags": []
   },
   "outputs": [],
   "source": [
    "def get_embedding_model(is_bedrock_embeddings, is_KoSimCSERobert, aws_region, endpont_name=None):\n",
    "    \n",
    "    if is_bedrock_embeddings:\n",
    "        # We will be using the Titan Embeddings Model to generate our Embeddings.\n",
    "        from langchain.embeddings import BedrockEmbeddings\n",
    "        llm_emb = BedrockEmbeddings(\n",
    "            client=boto3_bedrock,\n",
    "            model_id=bedrock_info.get_model_id(\n",
    "                model_name=\"Titan-Embeddings-G1\"\n",
    "            )\n",
    "        )\n",
    "        print(\"Bedrock Embeddings Model Loaded\")\n",
    "\n",
    "    elif is_KoSimCSERobert:\n",
    "        LLMEmbHandler = KoSimCSERobertaContentHandler()\n",
    "        endpoint_name_emb = endpont_name\n",
    "        llm_emb = SagemakerEndpointEmbeddingsJumpStart(\n",
    "            endpoint_name=endpoint_name_emb,\n",
    "            region_name=aws_region,\n",
    "            content_handler=LLMEmbHandler,\n",
    "        )        \n",
    "        print(\"KoSimCSERobert Embeddings Model Loaded\")\n",
    "    else:\n",
    "        llm_emb = None\n",
    "        print(\"No Embedding Model Selected\")\n",
    "    \n",
    "    return llm_emb"
   ]
  },
  {
   "cell_type": "markdown",
   "id": "cd72a6b8-eaf0-4036-a530-3bde5ba988cd",
   "metadata": {},
   "source": [
    "#### [중요] is_KoSimCSERobert == True 일시에 endpoint_name 을 꼭 넣어 주세요."
   ]
  },
  {
   "cell_type": "code",
   "execution_count": 9,
   "id": "f42e032b-8715-432c-ae71-12a889f8ffc0",
   "metadata": {
    "tags": []
   },
   "outputs": [
    {
     "name": "stdout",
     "output_type": "stream",
     "text": [
      "Bedrock Embeddings Model Loaded\n"
     ]
    }
   ],
   "source": [
    "is_bedrock_embeddings = True\n",
    "is_KoSimCSERobert = False\n",
    "aws_region = os.environ.get(\"AWS_DEFAULT_REGION\", None)\n",
    "\n",
    "##############################\n",
    "# Parameters for is_KoSimCSERobert\n",
    "##############################\n",
    "if is_KoSimCSERobert: endpont_name = \"<endpoint-name>\"\n",
    "else: endpont_name = None\n",
    "##############################\n",
    "\n",
    "llm_emb = get_embedding_model(is_bedrock_embeddings, is_KoSimCSERobert, aws_region, endpont_name)   "
   ]
  },
  {
   "cell_type": "markdown",
   "id": "e10b67d5-382e-4715-a841-eb07b8655da8",
   "metadata": {},
   "source": [
    "## 3. Depoly ReRanker model (if needed)"
   ]
  },
  {
   "cell_type": "code",
   "execution_count": 10,
   "id": "9a08a296-41ef-44cb-857b-63d05a8d187c",
   "metadata": {
    "tags": []
   },
   "outputs": [
    {
     "name": "stdout",
     "output_type": "stream",
     "text": [
      "sagemaker.config INFO - Not applying SDK defaults from location: /etc/xdg/sagemaker/config.yaml\n",
      "sagemaker.config INFO - Not applying SDK defaults from location: /home/ec2-user/.config/sagemaker/config.yaml\n"
     ]
    }
   ],
   "source": [
    "import json\n",
    "import sagemaker\n",
    "from sagemaker.huggingface import HuggingFaceModel"
   ]
  },
  {
   "cell_type": "code",
   "execution_count": 11,
   "id": "33dd04a7-8200-49e7-ae69-55a82be199b4",
   "metadata": {
    "tags": []
   },
   "outputs": [],
   "source": [
    "depoly = False"
   ]
  },
  {
   "cell_type": "code",
   "execution_count": 12,
   "id": "9d40e3dd-a19f-4af3-831a-0cfe79e72cb3",
   "metadata": {
    "tags": []
   },
   "outputs": [],
   "source": [
    "if depoly:\n",
    "\n",
    "    try:\n",
    "        role = sagemaker.get_execution_role()\n",
    "    except ValueError:\n",
    "        iam = boto3.client('iam')\n",
    "        role = iam.get_role(RoleName='sagemaker_execution_role')['Role']['Arn']\n",
    "\n",
    "    # Hub Model configuration. https://huggingface.co/models\n",
    "    hub = {\n",
    "        'HF_MODEL_ID':'BAAI/bge-reranker-large',\n",
    "        'HF_TASK':'text-classification'\n",
    "    }\n",
    "\n",
    "    # create Hugging Face Model Class\n",
    "    huggingface_model = HuggingFaceModel(\n",
    "        transformers_version='4.26.0',\n",
    "        pytorch_version='1.13.1',\n",
    "        py_version='py39',\n",
    "        env=hub,\n",
    "        role=role, \n",
    "    )\n",
    "\n",
    "    # deploy model to SageMaker Inference\n",
    "    predictor = huggingface_model.deploy(\n",
    "        initial_instance_count=1, # number of instances\n",
    "        instance_type='ml.g5.xlarge' # instance type\n",
    "    )\n",
    "\n",
    "    print(f'Accept: {predictor.accept}')\n",
    "    print(f'ContentType: {predictor.content_type}')\n",
    "    print(f'Endpoint: {predictor.endpoint}')"
   ]
  },
  {
   "cell_type": "markdown",
   "id": "20e648ef-01ec-4e2f-ba88-7d2510fdb7a6",
   "metadata": {},
   "source": [
    "## 4. Invocation (prediction)"
   ]
  },
  {
   "cell_type": "code",
   "execution_count": 13,
   "id": "114be617-a687-4733-abb9-30394c7ef35f",
   "metadata": {
    "tags": []
   },
   "outputs": [
    {
     "name": "stdout",
     "output_type": "stream",
     "text": [
      "runtime_client: <botocore.client.SageMakerRuntime object at 0x7feb663b73d0>\n"
     ]
    }
   ],
   "source": [
    "runtime_client = boto3.Session().client('sagemaker-runtime')\n",
    "print (f'runtime_client: {runtime_client}')"
   ]
  },
  {
   "cell_type": "code",
   "execution_count": 14,
   "id": "26ee5c45-de87-4a2b-bc04-bbc649fcd0c6",
   "metadata": {
    "tags": []
   },
   "outputs": [],
   "source": [
    "#endpoint_name = \"huggingface-pytorch-inference-2023-11-15-04-37-45-120\" # ml.m5.2xlarge\n",
    "endpoint_name = \"huggingface-pytorch-inference-2023-11-15-07-53-21-605\" # ml.g5.xlarge\n",
    "deserializer = \"application/json\""
   ]
  },
  {
   "cell_type": "code",
   "execution_count": 15,
   "id": "bd6288ed-b4fa-466f-9e2b-57484b827b0a",
   "metadata": {
    "tags": []
   },
   "outputs": [],
   "source": [
    "payload = json.dumps(\n",
    "    {\n",
    "        \"inputs\": [\n",
    "            {\"text\": \"I hate you\", \"text_pair\": \"I don't like you\"},\n",
    "            {\"text\": \"He hates you\", \"text_pair\": \"He like you\"}\n",
    "        ]\n",
    "    }\n",
    ")"
   ]
  },
  {
   "cell_type": "code",
   "execution_count": 16,
   "id": "c1eebe88-8b92-4e81-a103-b5a5d7a91bb3",
   "metadata": {
    "tags": []
   },
   "outputs": [
    {
     "name": "stdout",
     "output_type": "stream",
     "text": [
      "Response: [{'label': 'LABEL_0', 'score': 0.999653697013855}, {'label': 'LABEL_0', 'score': 0.025255175307393074}]\n",
      "CPU times: user 21.7 ms, sys: 507 µs, total: 22.2 ms\n",
      "Wall time: 109 ms\n"
     ]
    }
   ],
   "source": [
    "%%time\n",
    "response = runtime_client.invoke_endpoint(\n",
    "    EndpointName=endpoint_name,\n",
    "    ContentType=\"application/json\",\n",
    "    Accept=deserializer,\n",
    "    Body=payload\n",
    ")\n",
    "## deserialization\n",
    "out = json.loads(response['Body'].read().decode()) ## for json\n",
    "print (f'Response: {out}')"
   ]
  },
  {
   "cell_type": "markdown",
   "id": "7e432237-b9b5-4be3-aa0c-c30eeca6f480",
   "metadata": {},
   "source": [
    "## 5. LangChainmOpenSearch VectorStore 정의\n",
    "### 선수 조건\n",
    "- 01_preprocess_docs/02_load_docs_opensearch.ipynb를 통해서 OpenSearch Index 가 생성이 되어 있어야 합니다.\n",
    "#### [중요] 아래에 aws parameter store 에 아래 인증정보가 먼저 입력되어 있어야 합니다.\n",
    "- 01_preprocess_docs/01_parameter_store_example.ipynb 참고"
   ]
  },
  {
   "cell_type": "code",
   "execution_count": 17,
   "id": "635ffe33-b1b1-49f7-ae14-07b782d30a63",
   "metadata": {
    "tags": []
   },
   "outputs": [],
   "source": [
    "from utils.proc_docs import get_parameter"
   ]
  },
  {
   "cell_type": "code",
   "execution_count": 18,
   "id": "42d192b6-68ce-465e-9fa7-04b5201f4453",
   "metadata": {
    "tags": []
   },
   "outputs": [],
   "source": [
    "ssm = boto3.client(\"ssm\", \"us-east-1\")\n",
    "\n",
    "opensearch_domain_endpoint = get_parameter(\n",
    "    boto3_clinet = ssm,\n",
    "    parameter_name = 'knox_opensearch_domain_endpoint',\n",
    ")\n",
    "\n",
    "opensearch_user_id = get_parameter(\n",
    "    boto3_clinet = ssm,\n",
    "    parameter_name = 'knox_opensearch_userid',\n",
    ")\n",
    "\n",
    "opensearch_user_password = get_parameter(\n",
    "    boto3_clinet = ssm,\n",
    "    parameter_name = 'knox_opensearch_password',\n",
    ")"
   ]
  },
  {
   "cell_type": "code",
   "execution_count": 19,
   "id": "fc7866fd-fd9c-4b41-b600-a91e43edfe4d",
   "metadata": {
    "tags": []
   },
   "outputs": [],
   "source": [
    "opensearch_domain_endpoint = opensearch_domain_endpoint\n",
    "rag_user_name = opensearch_user_id\n",
    "rag_user_password = opensearch_user_password\n",
    "\n",
    "http_auth = (rag_user_name, rag_user_password) # Master username, Master password"
   ]
  },
  {
   "cell_type": "markdown",
   "id": "161a900e-effc-4d7f-a179-b6c00eac03ad",
   "metadata": {
    "tags": []
   },
   "source": [
    "### Index 이름 셋팅\n",
    "- 이전 노트북 01_preprocess_docs/02_load_docs_opensearch.ipynb를 통해서 생성된 OpenSearch Index name 입력"
   ]
  },
  {
   "cell_type": "code",
   "execution_count": 20,
   "id": "d5d9b5eb-052e-4e84-846b-c5385e853ba4",
   "metadata": {
    "tags": []
   },
   "outputs": [],
   "source": [
    "index_name = \"genai-poc-knox-incremental-1024c-256o-v7\""
   ]
  },
  {
   "cell_type": "markdown",
   "id": "482f5785-b88d-44fa-a603-080e4bd734a6",
   "metadata": {},
   "source": [
    "### OpenSearch Client 생성"
   ]
  },
  {
   "cell_type": "code",
   "execution_count": 21,
   "id": "968b7502-5799-4702-bc17-959e88c330a2",
   "metadata": {
    "tags": []
   },
   "outputs": [],
   "source": [
    "from utils.opensearch import opensearch_utils"
   ]
  },
  {
   "cell_type": "code",
   "execution_count": 22,
   "id": "6ceb46a1-e425-4f7e-9319-793b55abb938",
   "metadata": {
    "tags": []
   },
   "outputs": [],
   "source": [
    "os_client = opensearch_utils.create_aws_opensearch_client(\n",
    "    aws_region,\n",
    "    opensearch_domain_endpoint,\n",
    "    http_auth\n",
    ")"
   ]
  },
  {
   "cell_type": "markdown",
   "id": "98bde525-506d-4667-9fc3-bc06dcaba93a",
   "metadata": {
    "tags": []
   },
   "source": [
    "### LangChain OpenSearch VectorStore 생성"
   ]
  },
  {
   "cell_type": "code",
   "execution_count": 23,
   "id": "7e13238f-4ff7-4f7f-b83e-04b4563bd90a",
   "metadata": {
    "tags": []
   },
   "outputs": [],
   "source": [
    "from langchain.vectorstores import OpenSearchVectorSearch"
   ]
  },
  {
   "cell_type": "code",
   "execution_count": 24,
   "id": "dd444329-cdbe-4843-9092-791840138a3a",
   "metadata": {
    "tags": []
   },
   "outputs": [
    {
     "data": {
      "text/plain": [
       "<langchain.vectorstores.opensearch_vector_search.OpenSearchVectorSearch at 0x7feb65354e80>"
      ]
     },
     "execution_count": 24,
     "metadata": {},
     "output_type": "execute_result"
    }
   ],
   "source": [
    "vector_db = OpenSearchVectorSearch(\n",
    "    index_name=index_name,\n",
    "    opensearch_url=opensearch_domain_endpoint,\n",
    "    embedding_function=llm_emb,\n",
    "    http_auth=http_auth, # http_auth\n",
    "    is_aoss =False,\n",
    "    engine=\"faiss\",\n",
    "    space_type=\"l2\"\n",
    ")\n",
    "vector_db"
   ]
  },
  {
   "cell_type": "markdown",
   "id": "b41d685c-7590-42fd-9f8f-339b2ff197f5",
   "metadata": {},
   "source": [
    "# 아래수정"
   ]
  },
  {
   "cell_type": "markdown",
   "id": "a5084376-7523-4cf9-9123-adc4ae79f66d",
   "metadata": {
    "tags": []
   },
   "source": [
    "## 6. Retriever based on Hybrid Search + HyDE + ReRanker\n",
    "- LangChain에서 제공하는 **BaseRetriever** 클래스를 상속받아 **Custom Retriever**를 정의 할 수 있습니다.\n",
    "- Hybrid-Search에 대한 자세한 내용는 **\"01_rag_hybrid_search.ipyno\"** 에서 확인 가능합니다.\n",
    "- [RAG-Fusion](https://towardsdatascience.com/forget-rag-the-future-is-rag-fusion-1147298d8ad1)\n",
    "![rag-fusion.png](../../../imgs/rag-fusion.png)"
   ]
  },
  {
   "cell_type": "code",
   "execution_count": 25,
   "id": "5db8e470-63a9-4c3d-94c8-1d270a6da822",
   "metadata": {
    "tags": []
   },
   "outputs": [],
   "source": [
    "from utils.rag import OpenSearchHybridSearchRetriever"
   ]
  },
  {
   "cell_type": "markdown",
   "id": "d7feac2f-21a2-4756-b989-66c180bb1e79",
   "metadata": {},
   "source": [
    "- 필터 설정 예시\n",
    "- filter=[ <BR>\n",
    "    　{\"term\": {\"metadata.[**your_metadata_attribute_name**]\": \"**your first keyword**\"}}, <BR>\n",
    "    　{\"term\": {\"metadata.[**your_metadata_attribute_name**]\": \"**your second keyword**\"}},<BR>\n",
    "]"
   ]
  },
  {
   "cell_type": "code",
   "execution_count": 34,
   "id": "49c7e131-294f-4ff8-9331-989709c7079c",
   "metadata": {
    "tags": []
   },
   "outputs": [],
   "source": [
    "opensearch_hybrid_retriever = OpenSearchHybridSearchRetriever(\n",
    "    os_client=os_client,\n",
    "    vector_db=vector_db,\n",
    "    index_name=index_name,\n",
    "    llm_text=llm_text, # llm for query augmentation in both rag_fusion and HyDE\n",
    "    llm_emb=llm_emb,\n",
    "\n",
    "    # option for lexical\n",
    "    minimum_should_match=0,\n",
    "    filter=[],\n",
    "\n",
    "    # option for search\n",
    "    fusion_algorithm=\"RRF\", # [\"RRF\", \"simple_weighted\"], rank fusion 방식 정의\n",
    "    ensemble_weights=[.5, .5], # [for lexical, for semantic], Lexical, Semantic search 결과에 대한 최종 반영 비율 정의\n",
    "    reranker=True, # enable reranker with reranker model\n",
    "    reranker_endpoint_name=endpoint_name, # endpoint name for reranking model\n",
    "    hyde=True, # enable hyde\n",
    "    hyde_query=[\"web_search\"], # query type in hyde \n",
    "    \n",
    "\n",
    "    # option for async search\n",
    "    async_mode=True,\n",
    "\n",
    "    # option for output\n",
    "    k=5, # 최종 Document 수 정의\n",
    "    verbose=True,\n",
    ")"
   ]
  },
  {
   "cell_type": "markdown",
   "id": "cfb26835-ad98-41c5-9e9d-2453642e3551",
   "metadata": {},
   "source": [
    "### Retrieval example\n",
    "- default search"
   ]
  },
  {
   "cell_type": "code",
   "execution_count": 35,
   "id": "9c06e89f-79de-413c-ba9c-a188ca3fe2d0",
   "metadata": {
    "tags": []
   },
   "outputs": [],
   "source": [
    "from utils.rag import show_context_used"
   ]
  },
  {
   "cell_type": "code",
   "execution_count": 36,
   "id": "fe3bfee3-dac1-45b9-8795-03e36c1632a9",
   "metadata": {
    "tags": []
   },
   "outputs": [],
   "source": [
    "query = \"what is verify DM\""
   ]
  },
  {
   "cell_type": "code",
   "execution_count": 37,
   "id": "05b13e5e-4a66-4dc8-b18c-42a6e3bd6037",
   "metadata": {
    "tags": []
   },
   "outputs": [
    {
     "name": "stdout",
     "output_type": "stream",
     "text": [
      " Here is a concise passage answering the question \"What is verify DM?\":\n",
      "\n",
      "Verify DM is a feature on Twitter that allows users with verified accounts to confirm their identity and get a blue check mark badge on their profile. When a user's account is verified, it means Twitter has confirmed that the account is authentic, notable, and active. The blue checkmark helps distinguish verified accounts from fake or impersonation accounts. To get verified on Twitter, an account must meet certain criteria like being associated with a real person, organization, brand or entity that is of public interest. Twitter manually reviews verification requests and verifies accounts that are determined to be highly visible, reputable and influential within their fields. The verification badge builds trust between influential Twitter users and their followers.===== HyDE Answers =====\n",
      "['what is verify DM', ' Here is a concise passage answering the question \"What is verify DM?\":\\n\\nVerify DM is a feature on Twitter that allows users with verified accounts to confirm their identity and get a blue check mark badge on their profile. When a user\\'s account is verified, it means Twitter has confirmed that the account is authentic, notable, and active. The blue checkmark helps distinguish verified accounts from fake or impersonation accounts. To get verified on Twitter, an account must meet certain criteria like being associated with a real person, organization, brand or entity that is of public interest. Twitter manually reviews verification requests and verifies accounts that are determined to be highly visible, reputable and influential within their fields. The verification badge builds trust between influential Twitter users and their followers.']\n",
      "##############################\n",
      "async_mode\n",
      "##############################\n",
      "True\n",
      "##############################\n",
      "reranker\n",
      "##############################\n",
      "True\n",
      "##############################\n",
      "rag_fusion\n",
      "##############################\n",
      "False\n",
      "##############################\n",
      "HyDE\n",
      "##############################\n",
      "True\n",
      "##############################\n",
      "similar_docs_semantic\n",
      "##############################\n",
      "[(Document(page_content='. The Admin package signature checksum is the Base64 encoded SHA-256 hash of the MDM APK signature, which is URL friendly. You can get this value from your MDM. Go here for information on the `EXTRA_PROVISIONING_DEVICE_ADMIN_SIGNATURE_CHECKSUM`. Alternatively, you can use utilities such as keytool on Linux to get this value. For additional information, go here.', metadata={'source': 'all_processed_data.json', 'seq_num': 559, 'title': 'What is the valid input for Signing Key?', 'url': 'https://docs.samsungknox.com/admin/knox-mobile-enrollment/on-premise/kbas/kba-3-valid-input-signing-key', 'project': 'KME', 'last_updated': '2023-07-26', 'id': 'd0c461c2-6bac-4e01-b215-11fdfbc6313c'}), 0.016009221311475412), (Document(page_content='. For more details on this topic, see Enable Verified Access with Chrome OS devices. Values Ensure devices in your organization will verify their identity to content providers using a unique key &mdash; Enables Verified Access on the Chromebook. Do not require devices to verify their identity to content providers &mdash; Verified Access on the Chromebook. If set, some premium web content might be unavailable to the device user. Chrome OS 99 and higher Verified mode Controls whether Verified Access can attest the Chromebook if it boots into developer mode. For more details, see Enable Verified Access with Chrome OS devices. Values Require verified mode boot for verified access &mdash; If the Chromebook boots into developer mode, it fails verification by Verified Access. Skip boot mode for verified access &mdash; If the Chromebook boots into developer mode, it can be verified by Verified Access', metadata={'source': 'all_processed_data.json', 'seq_num': 914, 'title': 'Chrome OS policies', 'url': 'https://docs.samsungknox.com/admin/knox-manage/configure/profile/configure-profile-policies/chrome-os-policies', 'project': 'KM', 'last_updated': '2023-07-26', 'id': 'a2eed74c-967c-4b8f-8689-6fcee4d5a627'}), 0.016001024065540194), (Document(page_content='to establish connection to certificate revocation status Compliance Check System Forgery Violated version control policy (Device) Violated recording prevention policy (Device) Device Managed Google Play token issuance (Device) Managed Google Play account registration (Device) Managed Google Play account report (Device) Managed Google Play account removal (Device) SIM card has changed', metadata={'source': 'all_processed_data.json', 'seq_num': 779, 'title': 'Device audit events', 'url': 'https://docs.samsungknox.com/admin/knox-manage/appendix/list-of-audit-events/device-audit-events', 'project': 'KM', 'last_updated': '2023-07-26', 'id': '8ef395d5-a885-499b-8c4c-5e294e202641'}), 0.015512265512265512), (Document(page_content=\"What can I do if I'm not receiving the verification email when registering for a Samsung Account?. Here are some possible scenarios for not getting the verification email, and actions you can try: Scenario Action You can't access the device used for 2-step verification. Contact Samsung Support in your region. After we verify your identity (full name, date of birth, device IMEI or serial number), we temporarily deactivate two-step verification. You can then sign in to your account and register a new device or change the phone number used for two-step verification. You lost your backup code. Contact Samsung Support in your region. After we verify your identity (full name, date of birth, device IMEI or serial number), we send you a new backup code. You can't access the email account used to register the Samsung Account. As per our Samsung Account policy, if you lose access to your email account, you should create a new Samsung account and associate it with a new email address\", metadata={'source': 'all_processed_data.json', 'seq_num': 181, 'title': \"What can I do if I'm not receiving the verification email when registering for a Samsung Account?\", 'url': 'https://docs.samsungknox.com/admin/fundamentals/kbas/kba-360032622774', 'project': 'USP', 'last_updated': '2023-07-26', 'id': 'b9f7b18f-8969-491f-b18a-07a3fe2e487a'}), 0.00819672131147541), (Document(page_content='. The Admin component name is expressed as _package name/class name_. For example, com.airwatch.androidagent/com.airwatch.agent.DeviceAdministratorReceiver for the Workspace ONE UEM. The Admin package signature checksum is the Base64 encoded SHA-256 hash of the MDM APK signature, which is URL friendly. You can get this value from your MDM. Go here for information on the EXTRA_PROVISIONING_DEVICE_ADMIN_SIGNATURE_CHECKSUM. Alternatively, you can use utilities such as _Keytool_ on Linux to get this value. Go here\" for additional information. The MDM app name is the name of the app displayed on the Managed Provisioning screen. The App icon is the icon displayed next to the MDM app name. The minimum size is 48 x 48 pixels, and the file format needs to be a PNG file. To use this information to create an enrollment profile, see Android Enterprise profiles. What\\'s new pop-up messaging This release introduces a pop-message with new descriptive text of the new features introduced with the KCS 1.34 release', metadata={'source': 'all_processed_data.json', 'seq_num': 503, 'title': 'Knox Mobile Enrollment 1.34 release notes', 'url': 'https://docs.samsungknox.com/admin/knox-mobile-enrollment/release-notes/20-09', 'project': 'KME', 'last_updated': '2023-07-26', 'id': 'c7bc7ee5-a6cb-4ad8-b268-f5dba332690e'}), 0.008064516129032258), (Document(page_content='Universal Credential Management (UCM). Digital credentials are critical mobile security building blocks, leveraging trusted authorities to validate identity and secure private channels across public deployments. Your mobile device credentials provide seamless access to secured Wi-Fi, VPN, email, and websites. Credentials include certificates providing identity and private keys to decrypt sensitive data. These credentials must be securely stored to prevent malicious parties from exploiting your identity and accessing confidential data. Universal Credential Management works only on Qualcomm and Exynos chip devices', metadata={'source': 'all_processed_data.json', 'seq_num': 117, 'title': 'Universal Credential Management (UCM)', 'url': 'https://docs.samsungknox.com/admin/fundamentals/whitepaper/certificate-management/universal-credential-management', 'project': 'USP', 'last_updated': '2023-07-26', 'id': 'f0a88cf5-469e-4f45-b469-3ce70b4b2c13'}), 0.0078125), (Document(page_content='. Skip boot mode check for Verified Access &mdash; If the Chromebook boots into developer mode, it can pass Verified Access. Chrome OS 99 and higher &gt; Service accounts which are allowed to receive user data Specifies an allowlist of email addresses of service accounts that have full access to the Google Verified Access API. These are the service accounts created on the Google API Console. Values To add an account, enter it and click . To remove one, click . Chrome OS 99 and higher &gt; Service accounts which can verify users but do not receive user data Specifies an allowlist of email addresses of service accounts that have limited access to the Google Verified Access API. These are the service accounts created on the Google API Console. Values To add an account, enter it and click . To remove one, click', metadata={'source': 'all_processed_data.json', 'seq_num': 914, 'title': 'Chrome OS policies', 'url': 'https://docs.samsungknox.com/admin/knox-manage/configure/profile/configure-profile-policies/chrome-os-policies', 'project': 'KM', 'last_updated': '2023-07-26', 'id': 'ef78a18d-2f40-4cd6-8fb5-10c45f177383'}), 0.007692307692307693)]\n",
      "##############################\n",
      "similar_docs_keyword\n",
      "##############################\n",
      "[(Document(page_content='Code EMM Enrollment (Device &#x2192; Server) EMM Enrollment (Server &#x2192; Device) EMM Enrollment Spec (Device &#x2192; Server) EMM Enrollment Spec (Server &#x2192; Device) Azure AD Device Sync Request Request for discovery URL (Device &#x2192; Server) Respond to the request for Discovery URL (Server &#x2192; Device) Respond to the request to set DM Client Request to verify Federated equipment (Device &#x2192; Server) Respond to the request to verify Federated equipment (Server &#x2192; Device) Request SOAP message Verify Security Token Respond to SOAP message Deactivate service (Device &#x2192; Server) Deactivate service (Server &#x2192; Device) Request to issue certificate (Device &#x2192; Server) Respond to request to issue certificate (Server &#x2192; Device) Request for spec to issue certificate (Device &#x2192; Server) Respond to the request for spec to issue certificate(Server &#x2192; Device) Google sync Google resource synchronization via Google API (Device) Google resource synchronization via', metadata={'source': 'all_processed_data.json', 'seq_num': 781, 'title': 'Server audit events', 'url': 'https://docs.samsungknox.com/admin/knox-manage/appendix/list-of-audit-events/server-audit-events', 'project': 'KM', 'last_updated': '2023-07-26', 'id': '230ce7a3-07f3-4138-a3e8-278fee7c856f'}), 1.0), (Document(page_content='. Start Minimum requirements There are only a few requirements you need to meet to take advantage of the Knox Platform for Enterprise: 1. An MDM\"and a Samsung device that is compatible with Knox Platform for Enterprise. Knox Platform for Enterprise is supported on select Samsung Android Devices. Contact your operator to verify that your devices are compatible. Our MDM partners support many Knox features and comprehensive policy levels. 2. A valid Knox License. 3. A Samsung Knox account (optional). This allows you to manage your license keys, submit support tickets and access other Knox related assets. Check what version of the Knox Platform is running on your devices To find out what version of the Knox platform your device is running, go to: Settings > About Device > Software Information > Knox Version. To identify the SDK version that corresponds with the Knox API Level of your target devices, see the Knox version mapping table in Samsung Knox Developer documentation. #Recommended Knox solutions 1', metadata={'source': 'all_processed_data.json', 'seq_num': 1342, 'title': 'Knox Platform for Enterprise', 'url': 'https://docs.samsungknox.com/admin/knox-platform-for-enterprise', 'project': 'KPE', 'last_updated': '2023-07-26', 'id': 'c131d530-1b72-4aa8-bf83-13c41c911561'}), 0.7526956273635976), (Document(page_content='Australia. Login to the portal You can check the detailed status of your claim by logging in to your Samsung Care+ for Business portal at samsungknox.com. Submit a single service request If you want to make a service request for a single device: 1. Go to the Submit New Service Request page. 2. Search the device ID. 3. Click on the checkbox next to the device. 4. Click NEXT. 5. In the next page, verify the device details and click VERIFY MY DEVICE. 6. Select what is the issue with the device. 7. Enter and confirm the delivery details. 8. Click SUBMIT. 9. In the CONFIRM SERVICE REQUEST pop-up, verify the details and click SUBMIT MY SERVICE REQUEST. Submit multiple service requests in bulk If you want to make service requests for multiple devices: 1. Go to the Submit New Service Request page. 3. Click on the checkbox next to the devices you want to make the service request for. 4. Click NEXT. 9. In the CONFIRM BULK SERVICE REQUEST pop-up, verify the details and click SUBMIT MY SERVICE REQUEST', metadata={'source': 'all_processed_data.json', 'seq_num': 341, 'title': 'Australia', 'url': 'https://docs.samsungknox.com/admin/care-plus/submit-a-claim/australia', 'project': 'SCPE', 'last_updated': '2023-07-26', 'id': '411abd56-034f-4d96-990c-f9a2987ffc5b'}), 0.7519282983672445), (Document(page_content=\". NOTE - You can't select a firmware version to apply when creating a test campaign. Instead, dummy firmware is applied by default. 6. Click Assign. 7. Click Create and Activate. The campaign is added to the Campaigns list. 8. Check the device for the dummy firmware update. If the campaign is applied successfully, the device status changes to Campaign Active. In the following example, the dummy firmware to be applied has the file extension .DM. 9. When you're done with your test campaign, revert the dummy firmware to regular firmware. 1. Go to Devices > All Devices. 2. Click Action > Unassign campaign. The device status changes to Enrolled and the dummy firmware is reverted to regular firmware.\", metadata={'source': 'all_processed_data.json', 'seq_num': 230, 'title': 'Create a test campaign', 'url': 'https://docs.samsungknox.com/admin/efota-one/features/create-a-campaign/create-a-test-campaign', 'project': 'EFOTA', 'last_updated': '2023-07-26', 'id': '129b09de-d047-4417-88cd-1cf9a3dbda15'}), 0.6968505858622394), (Document(page_content=\"What can I do if I'm not receiving the verification email when registering for a Samsung Account?. Here are some possible scenarios for not getting the verification email, and actions you can try: Scenario Action You can't access the device used for 2-step verification. Contact Samsung Support in your region. After we verify your identity (full name, date of birth, device IMEI or serial number), we temporarily deactivate two-step verification. You can then sign in to your account and register a new device or change the phone number used for two-step verification. You lost your backup code. Contact Samsung Support in your region. After we verify your identity (full name, date of birth, device IMEI or serial number), we send you a new backup code. You can't access the email account used to register the Samsung Account. As per our Samsung Account policy, if you lose access to your email account, you should create a new Samsung account and associate it with a new email address\", metadata={'source': 'all_processed_data.json', 'seq_num': 181, 'title': \"What can I do if I'm not receiving the verification email when registering for a Samsung Account?\", 'url': 'https://docs.samsungknox.com/admin/fundamentals/kbas/kba-360032622774', 'project': 'USP', 'last_updated': '2023-07-26', 'id': 'b9f7b18f-8969-491f-b18a-07a3fe2e487a'}), 0.6830308716124407), (Document(page_content='. Try to manually refresh the client on the device by executing a Force client refresh. If the problem persists, contact Samsung. Failed to install 762 Firmware installation has failed because the installation is terminated by the system. Try to manually refresh the client on the device by executing a Force client refresh. If the problem persists, contact Samsung. Failed to install 763 Firmware installation has failed because an unexpected error occurred. Try to manually refresh the client on the device by executing a Force client refresh. If the problem persists, contact Samsung. Failed to install 764 Firmware installation has failed because an error occurred during the delta firmware installation process. Try to manually refresh the client on the device by executing a Force client refresh. If the problem persists, contact Samsung. Failed to install 765 Firmware installation has failed because the dm-verity check failed in recovery mode', metadata={'source': 'all_processed_data.json', 'seq_num': 285, 'title': 'Error codes', 'url': 'https://docs.samsungknox.com/admin/efota-one/troubleshoot/error-codes', 'project': 'EFOTA', 'last_updated': '2023-08-15', 'id': 'ac54c64b-8de1-432b-8d0a-01e88ade0f2b'}), 0.6124550999933894), (Document(page_content=\". SDP encryption Samsung Galaxy devices supporting Knox 3.3 and above are enabled to support Android's File Based Encryption (FBE) for Data-at-Rest. Data encryption is enforced across the device using: EXT4 encryption FBE mechanism, FIPS compliant hardware crypto module (AES256-XTS) Optionally, the external SD Card can be used with: dm-crypt (introduced with Android 11) or eCryptfs stacked file system, FIPS compliant Kernel crypto module (AES256-CBC). FBE keys are derived using a password entry, which is either the default hard-coded password or the device user's password used to unlock the device. While in the unlocked state, SDP works as follows: Encrypts sensitive data using a per-file File Encryption Key (FEK). These keys are encrypted with the SDPK.sym (Sensitive Data Protection Key, symmetric), which is encrypted by the SdpMasterKey. Keeps the SdpMasterKey in memory only while the device is unlocked, to allow decryption of the SDPK.sym and SDPK.pri (private)\", metadata={'source': 'all_processed_data.json', 'seq_num': 123, 'title': 'Sensitive Data Protection (SDP)', 'url': 'https://docs.samsungknox.com/admin/fundamentals/whitepaper/core-platform-security/sensitive-data-protection', 'project': 'USP', 'last_updated': '2023-07-26', 'id': 'e1150a10-17eb-4a92-a26b-f2e897b3bee5'}), 0.581270082338229)]\n",
      "##############################\n",
      "similar_docs\n",
      "##############################\n",
      "[(Document(page_content='Code EMM Enrollment (Device &#x2192; Server) EMM Enrollment (Server &#x2192; Device) EMM Enrollment Spec (Device &#x2192; Server) EMM Enrollment Spec (Server &#x2192; Device) Azure AD Device Sync Request Request for discovery URL (Device &#x2192; Server) Respond to the request for Discovery URL (Server &#x2192; Device) Respond to the request to set DM Client Request to verify Federated equipment (Device &#x2192; Server) Respond to the request to verify Federated equipment (Server &#x2192; Device) Request SOAP message Verify Security Token Respond to SOAP message Deactivate service (Device &#x2192; Server) Deactivate service (Server &#x2192; Device) Request to issue certificate (Device &#x2192; Server) Respond to request to issue certificate (Server &#x2192; Device) Request for spec to issue certificate (Device &#x2192; Server) Respond to the request for spec to issue certificate(Server &#x2192; Device) Google sync Google resource synchronization via Google API (Device) Google resource synchronization via', metadata={'source': 'all_processed_data.json', 'seq_num': 781, 'title': 'Server audit events', 'url': 'https://docs.samsungknox.com/admin/knox-manage/appendix/list-of-audit-events/server-audit-events', 'project': 'KM', 'last_updated': '2023-07-26', 'id': '230ce7a3-07f3-4138-a3e8-278fee7c856f'}), 0.033477310091257095), (Document(page_content='. For more details on this topic, see Enable Verified Access with Chrome OS devices. Values Ensure devices in your organization will verify their identity to content providers using a unique key &mdash; Enables Verified Access on the Chromebook. Do not require devices to verify their identity to content providers &mdash; Verified Access on the Chromebook. If set, some premium web content might be unavailable to the device user. Chrome OS 99 and higher Verified mode Controls whether Verified Access can attest the Chromebook if it boots into developer mode. For more details, see Enable Verified Access with Chrome OS devices. Values Require verified mode boot for verified access &mdash; If the Chromebook boots into developer mode, it fails verification by Verified Access. Skip boot mode for verified access &mdash; If the Chromebook boots into developer mode, it can be verified by Verified Access', metadata={'source': 'all_processed_data.json', 'seq_num': 914, 'title': 'Chrome OS policies', 'url': 'https://docs.samsungknox.com/admin/knox-manage/configure/profile/configure-profile-policies/chrome-os-policies', 'project': 'KM', 'last_updated': '2023-07-26', 'id': 'a2eed74c-967c-4b8f-8689-6fcee4d5a627'}), 0.004268542397767305), (Document(page_content='to establish connection to certificate revocation status Compliance Check System Forgery Violated version control policy (Device) Violated recording prevention policy (Device) Device Managed Google Play token issuance (Device) Managed Google Play account registration (Device) Managed Google Play account report (Device) Managed Google Play account removal (Device) SIM card has changed', metadata={'source': 'all_processed_data.json', 'seq_num': 779, 'title': 'Device audit events', 'url': 'https://docs.samsungknox.com/admin/knox-manage/appendix/list-of-audit-events/device-audit-events', 'project': 'KM', 'last_updated': '2023-07-26', 'id': '8ef395d5-a885-499b-8c4c-5e294e202641'}), 0.00054655980784446), (Document(page_content='Australia. Login to the portal You can check the detailed status of your claim by logging in to your Samsung Care+ for Business portal at samsungknox.com. Submit a single service request If you want to make a service request for a single device: 1. Go to the Submit New Service Request page. 2. Search the device ID. 3. Click on the checkbox next to the device. 4. Click NEXT. 5. In the next page, verify the device details and click VERIFY MY DEVICE. 6. Select what is the issue with the device. 7. Enter and confirm the delivery details. 8. Click SUBMIT. 9. In the CONFIRM SERVICE REQUEST pop-up, verify the details and click SUBMIT MY SERVICE REQUEST. Submit multiple service requests in bulk If you want to make service requests for multiple devices: 1. Go to the Submit New Service Request page. 3. Click on the checkbox next to the devices you want to make the service request for. 4. Click NEXT. 9. In the CONFIRM BULK SERVICE REQUEST pop-up, verify the details and click SUBMIT MY SERVICE REQUEST', metadata={'source': 'all_processed_data.json', 'seq_num': 341, 'title': 'Australia', 'url': 'https://docs.samsungknox.com/admin/care-plus/submit-a-claim/australia', 'project': 'SCPE', 'last_updated': '2023-07-26', 'id': '411abd56-034f-4d96-990c-f9a2987ffc5b'}), 0.0002000283420784399), (Document(page_content='. Start Minimum requirements There are only a few requirements you need to meet to take advantage of the Knox Platform for Enterprise: 1. An MDM\"and a Samsung device that is compatible with Knox Platform for Enterprise. Knox Platform for Enterprise is supported on select Samsung Android Devices. Contact your operator to verify that your devices are compatible. Our MDM partners support many Knox features and comprehensive policy levels. 2. A valid Knox License. 3. A Samsung Knox account (optional). This allows you to manage your license keys, submit support tickets and access other Knox related assets. Check what version of the Knox Platform is running on your devices To find out what version of the Knox platform your device is running, go to: Settings > About Device > Software Information > Knox Version. To identify the SDK version that corresponds with the Knox API Level of your target devices, see the Knox version mapping table in Samsung Knox Developer documentation. #Recommended Knox solutions 1', metadata={'source': 'all_processed_data.json', 'seq_num': 1342, 'title': 'Knox Platform for Enterprise', 'url': 'https://docs.samsungknox.com/admin/knox-platform-for-enterprise', 'project': 'KPE', 'last_updated': '2023-07-26', 'id': 'c131d530-1b72-4aa8-bf83-13c41c911561'}), 0.00019711472850758582)]\n",
      "\n",
      "==========  Results  ==========\n",
      "\n",
      "1. question: what is verify DM\n",
      "2. # documents: 5\n",
      "3. Documents: \n",
      "\n",
      "-----------------------------------------------\n",
      "1. Chunk: 1019 Characters\n",
      "-----------------------------------------------\n",
      "Code EMM Enrollment (Device &#x2192; Server) EMM Enrollment (Server &#x2192; Device) EMM Enrollment\n",
      "Spec (Device &#x2192; Server) EMM Enrollment Spec (Server &#x2192; Device) Azure AD Device Sync\n",
      "Request Request for discovery URL (Device &#x2192; Server) Respond to the request for Discovery URL\n",
      "(Server &#x2192; Device) Respond to the request to set DM Client Request to verify Federated\n",
      "equipment (Device &#x2192; Server) Respond to the request to verify Federated equipment (Server\n",
      "&#x2192; Device) Request SOAP message Verify Security Token Respond to SOAP message Deactivate\n",
      "service (Device &#x2192; Server) Deactivate service (Server &#x2192; Device) Request to issue\n",
      "certificate (Device &#x2192; Server) Respond to request to issue certificate (Server &#x2192;\n",
      "Device) Request for spec to issue certificate (Device &#x2192; Server) Respond to the request for\n",
      "spec to issue certificate(Server &#x2192; Device) Google sync Google resource synchronization via\n",
      "Google API (Device) Google resource synchronization via\n",
      "metadata:\n",
      " {'source': 'all_processed_data.json', 'seq_num': 781, 'title': 'Server audit events', 'url':\n",
      "'https://docs.samsungknox.com/admin/knox-manage/appendix/list-of-audit-events/server-audit-events',\n",
      "'project': 'KM', 'last_updated': '2023-07-26', 'id': '230ce7a3-07f3-4138-a3e8-278fee7c856f'}\n",
      "-----------------------------------------------\n",
      "2. Chunk: 905 Characters\n",
      "-----------------------------------------------\n",
      ". For more details on this topic, see Enable Verified Access with Chrome OS devices. Values Ensure\n",
      "devices in your organization will verify their identity to content providers using a unique key\n",
      "&mdash; Enables Verified Access on the Chromebook. Do not require devices to verify their identity\n",
      "to content providers &mdash; Verified Access on the Chromebook. If set, some premium web content\n",
      "might be unavailable to the device user. Chrome OS 99 and higher Verified mode Controls whether\n",
      "Verified Access can attest the Chromebook if it boots into developer mode. For more details, see\n",
      "Enable Verified Access with Chrome OS devices. Values Require verified mode boot for verified access\n",
      "&mdash; If the Chromebook boots into developer mode, it fails verification by Verified Access. Skip\n",
      "boot mode for verified access &mdash; If the Chromebook boots into developer mode, it can be\n",
      "verified by Verified Access\n",
      "metadata:\n",
      " {'source': 'all_processed_data.json', 'seq_num': 914, 'title': 'Chrome OS policies', 'url':\n",
      "'https://docs.samsungknox.com/admin/knox-manage/configure/profile/configure-profile-policies/chrome-\n",
      "os-policies', 'project': 'KM', 'last_updated': '2023-07-26', 'id':\n",
      "'a2eed74c-967c-4b8f-8689-6fcee4d5a627'}\n",
      "-----------------------------------------------\n",
      "3. Chunk: 386 Characters\n",
      "-----------------------------------------------\n",
      "to establish connection to certificate revocation status Compliance Check System Forgery Violated\n",
      "version control policy (Device) Violated recording prevention policy (Device) Device Managed Google\n",
      "Play token issuance (Device) Managed Google Play account registration (Device) Managed Google Play\n",
      "account report (Device) Managed Google Play account removal (Device) SIM card has changed\n",
      "metadata:\n",
      " {'source': 'all_processed_data.json', 'seq_num': 779, 'title': 'Device audit events', 'url':\n",
      "'https://docs.samsungknox.com/admin/knox-manage/appendix/list-of-audit-events/device-audit-events',\n",
      "'project': 'KM', 'last_updated': '2023-07-26', 'id': '8ef395d5-a885-499b-8c4c-5e294e202641'}\n",
      "-----------------------------------------------\n",
      "4. Chunk: 1004 Characters\n",
      "-----------------------------------------------\n",
      "Australia. Login to the portal You can check the detailed status of your claim by logging in to your\n",
      "Samsung Care+ for Business portal at samsungknox.com. Submit a single service request If you want to\n",
      "make a service request for a single device: 1. Go to the Submit New Service Request page. 2. Search\n",
      "the device ID. 3. Click on the checkbox next to the device. 4. Click NEXT. 5. In the next page,\n",
      "verify the device details and click VERIFY MY DEVICE. 6. Select what is the issue with the device.\n",
      "7. Enter and confirm the delivery details. 8. Click SUBMIT. 9. In the CONFIRM SERVICE REQUEST pop-\n",
      "up, verify the details and click SUBMIT MY SERVICE REQUEST. Submit multiple service requests in bulk\n",
      "If you want to make service requests for multiple devices: 1. Go to the Submit New Service Request\n",
      "page. 3. Click on the checkbox next to the devices you want to make the service request for. 4.\n",
      "Click NEXT. 9. In the CONFIRM BULK SERVICE REQUEST pop-up, verify the details and click SUBMIT MY\n",
      "SERVICE REQUEST\n",
      "metadata:\n",
      " {'source': 'all_processed_data.json', 'seq_num': 341, 'title': 'Australia', 'url':\n",
      "'https://docs.samsungknox.com/admin/care-plus/submit-a-claim/australia', 'project': 'SCPE',\n",
      "'last_updated': '2023-07-26', 'id': '411abd56-034f-4d96-990c-f9a2987ffc5b'}\n",
      "-----------------------------------------------\n",
      "5. Chunk: 1014 Characters\n",
      "-----------------------------------------------\n",
      ". Start Minimum requirements There are only a few requirements you need to meet to take advantage of\n",
      "the Knox Platform for Enterprise: 1. An MDM\"and a Samsung device that is compatible with Knox\n",
      "Platform for Enterprise. Knox Platform for Enterprise is supported on select Samsung Android\n",
      "Devices. Contact your operator to verify that your devices are compatible. Our MDM partners support\n",
      "many Knox features and comprehensive policy levels. 2. A valid Knox License. 3. A Samsung Knox\n",
      "account (optional). This allows you to manage your license keys, submit support tickets and access\n",
      "other Knox related assets. Check what version of the Knox Platform is running on your devices To\n",
      "find out what version of the Knox platform your device is running, go to: Settings > About Device >\n",
      "Software Information > Knox Version. To identify the SDK version that corresponds with the Knox API\n",
      "Level of your target devices, see the Knox version mapping table in Samsung Knox Developer\n",
      "documentation. #Recommended Knox solutions 1\n",
      "metadata:\n",
      " {'source': 'all_processed_data.json', 'seq_num': 1342, 'title': 'Knox Platform for Enterprise',\n",
      "'url': 'https://docs.samsungknox.com/admin/knox-platform-for-enterprise', 'project': 'KPE',\n",
      "'last_updated': '2023-07-26', 'id': 'c131d530-1b72-4aa8-bf83-13c41c911561'}\n",
      "CPU times: user 362 ms, sys: 26.7 ms, total: 388 ms\n",
      "Wall time: 9.36 s\n"
     ]
    }
   ],
   "source": [
    "%%time\n",
    "search_hybrid_result = opensearch_hybrid_retriever.get_relevant_documents(query)\n",
    "\n",
    "print(\"\\n==========  Results  ==========\\n\")\n",
    "print(f'1. question: {query}')\n",
    "print (f'2. # documents: {len(search_hybrid_result)}')\n",
    "print(\"3. Documents: \\n\")\n",
    "\n",
    "show_context_used(search_hybrid_result)"
   ]
  },
  {
   "cell_type": "markdown",
   "id": "c09221b5-4a6c-463b-9769-35cc8362e33c",
   "metadata": {},
   "source": [
    "- update parameters"
   ]
  },
  {
   "cell_type": "code",
   "execution_count": 50,
   "id": "b7bb4672-d2b8-4b29-b71c-b06d84bcd470",
   "metadata": {
    "tags": []
   },
   "outputs": [],
   "source": [
    "opensearch_hybrid_retriever.update_search_params(\n",
    "    k=10,\n",
    "    minimum_should_match=30,\n",
    "    #filter=[],\n",
    "    filter=[\n",
    "        {\"term\": {\"metadata.project\": \"KM\"}},\n",
    "    ],\n",
    "    reranker=True,\n",
    "    reranker_endpoint_name=endpoint_name,\n",
    "    hyde=True, # enable hyde\n",
    "    hyde_query=[\"web_search\"], # query type in hyde \n",
    "    llm_text=llm_text, # llm for query augmentation in rag_fusion\n",
    "    verbose=False\n",
    ")"
   ]
  },
  {
   "cell_type": "code",
   "execution_count": 52,
   "id": "1b9b45b1-cb92-4954-8087-143a550350c8",
   "metadata": {
    "tags": []
   },
   "outputs": [
    {
     "name": "stdout",
     "output_type": "stream",
     "text": [
      " Here is a concise passage answering how to verify DM:\n",
      "\n",
      "To verify that you are interacting with the Anthropic AI assistant DALL-E Mini (DM), there are a few methods you can use:\n",
      "\n",
      "1. Ask the assistant to state its name. DM should respond by saying \"My name is DALL-E Mini.\"\n",
      "\n",
      "2. Ask the assistant who created it or who it was developed by. DM should respond that it was created/developed by Anthropic. \n",
      "\n",
      "3. Ask the assistant to describe itself or provide information about its capabilities. DM should respond accurately with details about being an AI assistant created by Anthropic to be helpful, harmless, and honest.\n",
      "\n",
      "4. Ask the assistant a unique question that only DM would know, such as asking it to describe a recent interaction you had with it. DM should be able to recall specific conversations.\n",
      "\n",
      "5. Ask the assistant to generate a unique text or image that only DM could produce. \n",
      "\n",
      "6. Look for the Anthropic watermark on any images the assistant generates.\n",
      "\n",
      "7. Check anthropic.com and the associated social media accounts to confirm DM's identity.\n",
      "\n",
      "In summary, conversing with the assistant, asking it identifying questions, requesting unique content generation, and cross-referencing official sources can help verify you are interacting with the authentic DALL-E Mini assistant created by Anthropic.\n",
      "Number of chunk_docs after split and chunking= 2\n",
      "\n",
      "\n",
      "==========  Results  ==========\n",
      "\n",
      "1. question: how to vefify DM\n",
      "2. # documents: 10\n",
      "3. Documents: \n",
      "\n",
      "-----------------------------------------------\n",
      "1. Chunk: 1019 Characters\n",
      "-----------------------------------------------\n",
      "Code EMM Enrollment (Device &#x2192; Server) EMM Enrollment (Server &#x2192; Device) EMM Enrollment\n",
      "Spec (Device &#x2192; Server) EMM Enrollment Spec (Server &#x2192; Device) Azure AD Device Sync\n",
      "Request Request for discovery URL (Device &#x2192; Server) Respond to the request for Discovery URL\n",
      "(Server &#x2192; Device) Respond to the request to set DM Client Request to verify Federated\n",
      "equipment (Device &#x2192; Server) Respond to the request to verify Federated equipment (Server\n",
      "&#x2192; Device) Request SOAP message Verify Security Token Respond to SOAP message Deactivate\n",
      "service (Device &#x2192; Server) Deactivate service (Server &#x2192; Device) Request to issue\n",
      "certificate (Device &#x2192; Server) Respond to request to issue certificate (Server &#x2192;\n",
      "Device) Request for spec to issue certificate (Device &#x2192; Server) Respond to the request for\n",
      "spec to issue certificate(Server &#x2192; Device) Google sync Google resource synchronization via\n",
      "Google API (Device) Google resource synchronization via\n",
      "metadata:\n",
      " {'source': 'all_processed_data.json', 'seq_num': 781, 'title': 'Server audit events', 'url':\n",
      "'https://docs.samsungknox.com/admin/knox-manage/appendix/list-of-audit-events/server-audit-events',\n",
      "'project': 'KM', 'last_updated': '2023-07-26', 'id': '230ce7a3-07f3-4138-a3e8-278fee7c856f'}\n",
      "-----------------------------------------------\n",
      "2. Chunk: 920 Characters\n",
      "-----------------------------------------------\n",
      ". Key & Value (iOS) - If you selected Yes in Managed App Setting, click Add and enter the key and\n",
      "value of a MDM setting you want to change. You can add one key and its value at a time. Ask the app\n",
      "developers about the key and value for the MDM settings. For example, if you want to add the\n",
      "ManagedAppConfig application and set its default URL to http://www.samsungsds.com, the key is the\n",
      "server URL and the value is http://www.samsungsds.com. Description - Enter a description for the\n",
      "application. Icon - Select the app icon image. Screenshot - Select screenshots of the app to provide\n",
      "a preview for Android device users. 5. Do one of the following: Click Save to save the information\n",
      "and return to the Application list. Click Save & Assign to save this information and proceed to\n",
      "assign the information. Continue on to the next step. 6. Assign the application. For more\n",
      "information, see Assigning internal applications\n",
      "metadata:\n",
      " {'source': 'all_processed_data.json', 'seq_num': 816, 'title': 'Add internal Android and iOS apps',\n",
      "'url': 'https://docs.samsungknox.com/admin/knox-manage/configure/applications/add-applications/add-\n",
      "internal-android-and-ios-apps', 'project': 'KM', 'last_updated': '2023-07-26', 'id':\n",
      "'ad00b49f-8ca0-4b24-8669-7565eaddc4bf'}\n",
      "-----------------------------------------------\n",
      "3. Chunk: 1024 Characters\n",
      "-----------------------------------------------\n",
      ". 2. Click Download Public Key to download your public key required to create a new MDM server on\n",
      "the Apple ADE Portal. The file uses the PEM format. 3. Go to https://deploy.apple.com and sign in\n",
      "with your Apple Business account. 4. When prompted, enter the 6-digit verification code sent to the\n",
      "mobile device registered to your enterprise's Apple ID. The start screen opens. 5. Go to Settings >\n",
      "Device Management Settings, then click Add MDM Server. 6. Configure the MDM server settings, upload\n",
      "your public key, and then click Save. 7. Click Download Token to download your ADE token. The file\n",
      "uses the P7M format. To avoid authentication conflicts, use one ADE token per EMM tenant. 8. Back on\n",
      "the Knox Manage console, click Upload ADE Token and upload your token. 9. Click OK. If the upload\n",
      "and initial handshake succeeds, then your Knox Manage tenant can successfully authenticate with the\n",
      "Apple ADE server. 10. Click Set ADE Default Profile and configure the base enrollment settings of\n",
      "devices enrolled through ADE. 11\n",
      "metadata:\n",
      " {'source': 'all_processed_data.json', 'seq_num': 863, 'title': 'Automated Device Enrollment\n",
      "quickstart', 'url': 'https://docs.samsungknox.com/admin/knox-manage/configure/devices/enroll-\n",
      "devices/enroll-devices-in-bulk/automated-device-enrollment-quickstart', 'project': 'KM',\n",
      "'last_updated': '2023-07-26', 'id': '1fe70547-20f9-4b05-a614-b0fb8fac9c37'}\n",
      "-----------------------------------------------\n",
      "4. Chunk: 1020 Characters\n",
      "-----------------------------------------------\n",
      "to enable key mapping to exit apps in a kiosk How to block app updates with Knox Service Plugin How\n",
      "to restrict the dynamic wallpaper service in Knox Manage How to add a Windows app as a control app\n",
      "How to enable or disable a specific system app How to find Knox Manage application and policy\n",
      "information on Windows devices How to collect MDM information on Windows devices How to add contacts\n",
      "to multi-app kiosks How to restrict mobile data during specific periods How to allow access to\n",
      "personal Gmail in Managed Google Play contexts How to set the side key to power off the device with\n",
      "a KSP policy How to reset the lock on a device How to disable biometric authentication as a lock\n",
      "screen method How to add a keyboard language to a kiosk How to adjust the device font on Knox Manage\n",
      "How to set up a private Access Point Name on Samsung devices through KSP How to add hidden Managed\n",
      "Google Play private apps How to block the activation of adding new keyboards How to verify managed\n",
      "Chrome app settings on a device How\n",
      "metadata:\n",
      " {'source': 'all_processed_data.json', 'seq_num': 1223, 'title': 'Knox Manage knowledge base\n",
      "articles', 'url': 'https://docs.samsungknox.com/admin/knox-manage/kbas', 'project': 'KM',\n",
      "'last_updated': '2023-10-26', 'id': '5e168015-11af-46d7-b7d3-6b4a972f0a89'}\n",
      "-----------------------------------------------\n",
      "5. Chunk: 853 Characters\n",
      "-----------------------------------------------\n",
      ". For more information, see Adding VPP applications (managed distribution). Upload Redemption Code\n",
      "Upload the redeemable codes of the VPP applications if you purchased the applications through\n",
      "redeemable codes from the VPP website. For more information, see Adding VPP applications (redeemable\n",
      "codes). Assign Assign and apply the selected applications to group/organizations. For more\n",
      "information, see Assign applications. Update Update the selected applications. When updates are\n",
      "available for apps from Managed Google Play, Google Play Store, and Apple App Store, a Need Update\n",
      "label displays next to them in the Version column for easy identification. You can select and update\n",
      "multiple applications simultaneously. Modify Modify the selected application details. For more\n",
      "information, see Modify applications. Delete Delete the selected applications\n",
      "metadata:\n",
      " {'source': 'all_processed_data.json', 'seq_num': 838, 'title': 'View the application list', 'url':\n",
      "'https://docs.samsungknox.com/admin/knox-manage/configure/applications/view-applications/view-the-\n",
      "application-list', 'project': 'KM', 'last_updated': '2023-07-26', 'id':\n",
      "'49766b85-bad2-4e8f-bcc7-af35b1e26433'}\n",
      "-----------------------------------------------\n",
      "6. Chunk: 1022 Characters\n",
      "-----------------------------------------------\n",
      "updating Postgres SQL failure when registering user accounts in bulk Error KMA_F5007 - License\n",
      "activation failure with available license assignments Error KMA_D9001 - Can't push APN configuration\n",
      "to devices Incorrect date and time set on devices resulting in a loss in connectivity How to enforce\n",
      "a password policy during enrollment for company-owned devices with a Work Profile Knox Manage\n",
      "license update failure for Android 9 or lower devices in legacy mode How-to articles Allow blue\n",
      "light filter in kiosk mode Disable the lock screen in kiosk mode How to find a device's IMEI and\n",
      "serial number with Knox Manage Open API How to configure firewall exceptions for Google Chrome How\n",
      "to set incoming text messages and phone call restrictions with Knox Service Plugin How to enable key\n",
      "mapping to exit apps in a kiosk How to block app updates with Knox Service Plugin How to restrict\n",
      "the dynamic wallpaper service in Knox Manage How to add a Windows app as a control app How to enable\n",
      "or disable a specific system app How to\n",
      "metadata:\n",
      " {'source': 'all_processed_data.json', 'seq_num': 1223, 'title': 'Knox Manage knowledge base\n",
      "articles', 'url': 'https://docs.samsungknox.com/admin/knox-manage/kbas', 'project': 'KM',\n",
      "'last_updated': '2023-10-26', 'id': 'b242a1c7-b8d5-476d-8607-0556887ec0e6'}\n",
      "-----------------------------------------------\n",
      "7. Chunk: 1020 Characters\n",
      "-----------------------------------------------\n",
      "AnyConnect using KSP How to configure email apps in Android Enterprise How to convert Google Play\n",
      "Store Application to Managed Google Play Store Application How to enable No Battery Mode for Galaxy\n",
      "Tab Active 3 devices How to set the device Auto Start-Up feature for Knox Manage How to set the\n",
      "system language and device country in Knox Manage How to unregister Knox Manage as the EMM provider\n",
      "for Google Play Accounts How to add the same version of an app to Managed Google Play Private if it\n",
      "is already registered as an internal app How to allow Accessibility Services to run in Multi-App\n",
      "Kiosk mode How to delete my Knox Manage tenant How to configure the Knox built-in VPN client in Knox\n",
      "Manage How to restrict a user from sharing or accessing device data to prevent security breaches How\n",
      "to set a new Knox Manage admin password How to deploy Knox Capture using Knox Manage How to turn\n",
      "adaptive brightness on and off with Knox Service Plugin How to configure lock screen notifications\n",
      "in Knox Manage How to configure\n",
      "metadata:\n",
      " {'source': 'all_processed_data.json', 'seq_num': 1223, 'title': 'Knox Manage knowledge base\n",
      "articles', 'url': 'https://docs.samsungknox.com/admin/knox-manage/kbas', 'project': 'KM',\n",
      "'last_updated': '2023-10-26', 'id': 'c5ccaf3e-e719-46c9-927e-a682a3751503'}\n",
      "-----------------------------------------------\n",
      "8. Chunk: 1015 Characters\n",
      "-----------------------------------------------\n",
      "security breaches How to set a new Knox Manage admin password How to deploy Knox Capture using Knox\n",
      "Manage How to turn adaptive brightness on and off with Knox Service Plugin How to configure lock\n",
      "screen notifications in Knox Manage How to configure longer screen timeouts in Knox Manage [How to\n",
      "resolve the Knox Manage error [Enrollment, UpdateLicenseRequest(1901017)]](kba-309-enrollment-\n",
      "error-1901017) How to allow external USB devices in Knox Manage Multi App Kiosk mode How to apply\n",
      "DeX customization controls using Knox Manage How to use Knox Browser in Knox Manage Kiosk mode How\n",
      "to configure Microsoft Exchange in Samsung Email on Knox Manage devices How to delete a private\n",
      "application from Knox Manage How to configure Factory Reset Protection in Knox Manage How to\n",
      "configure a Wi-Fi network with EAP-PEAP authentication using an external certificate in Knox Manage\n",
      "How to regain access to a Knox Manage console without the original administrator's credentials How\n",
      "to enable Single Sign-On for Knox Manage\n",
      "metadata:\n",
      " {'source': 'all_processed_data.json', 'seq_num': 1223, 'title': 'Knox Manage knowledge base\n",
      "articles', 'url': 'https://docs.samsungknox.com/admin/knox-manage/kbas', 'project': 'KM',\n",
      "'last_updated': '2023-10-26', 'id': '32d99006-eca4-405d-ab2d-0eb02cad4f66'}\n",
      "-----------------------------------------------\n",
      "9. Chunk: 1019 Characters\n",
      "-----------------------------------------------\n",
      "Manage How to configure a Wi-Fi network with EAP-PEAP authentication using an external certificate\n",
      "in Knox Manage How to regain access to a Knox Manage console without the original administrator's\n",
      "credentials How to enable Single Sign-On for Knox Manage sub-administrators How to enable Smart\n",
      "Switch on Knox Manage devices How to develop an app using managed AppConfig settings and apply them\n",
      "in Knox Manage How to allow or disallow device users to change mobile network setting How to enroll\n",
      "a Windows device in Knox Manage How to prevent a plugged-in Android device's screen from turning off\n",
      "How to collect dumpstate logs from a device in Knox Manage Kiosk mode How to configure Knox Browser\n",
      "in Knox Manage How to configure Android OpenVPN client with certificate authentication using Knox\n",
      "Manage How to disable a device lock screen with Knox Manage How to remotely lock or unlock device\n",
      "enrolled in Knox Manage How to set a custom boot and shutdown animation using Knox Manage How to\n",
      "manage preloaded applications in\n",
      "metadata:\n",
      " {'source': 'all_processed_data.json', 'seq_num': 1223, 'title': 'Knox Manage knowledge base\n",
      "articles', 'url': 'https://docs.samsungknox.com/admin/knox-manage/kbas', 'project': 'KM',\n",
      "'last_updated': '2023-10-26', 'id': '0458a2b1-81bb-4605-ba1f-520aa79f5374'}\n",
      "-----------------------------------------------\n",
      "10. Chunk: 956 Characters\n",
      "-----------------------------------------------\n",
      "Send SMS To Use User Delete User Authority Create User Authority Modify User Authority Activate Use\n",
      "Confirm User Password Add Use Create users Deactivate Use Initialize user password Delete Use Delete\n",
      "multiple users Reset Password (By User) Modify User Information Reset Password (By Admin) Upload\n",
      "Excel Regarding User/Device Information Delete User Device Bookmark Insert User Device Bookmark\n",
      "Insert User Device Bookmark Modify User Device Bookmark Modify User Device Bookmark Create\n",
      "synchronized users Change License (User) Search for sync target use Search for sync target users\n",
      "Search User Device Information Search User Device Information Search User Device Tags Information\n",
      "Search User Information View User Basic Information View User Detail View User Device Tags\n",
      "Information View User Preference View User Preference List Volume Purchase Program Grant the license\n",
      "by user ID Add VPP App Assign or withdraw VPP Application-specific licenses to users\n",
      "metadata:\n",
      " {'source': 'all_processed_data.json', 'seq_num': 778, 'title': 'Console audit events', 'url':\n",
      "'https://docs.samsungknox.com/admin/knox-manage/appendix/list-of-audit-events/console-audit-events',\n",
      "'project': 'KM', 'last_updated': '2023-08-25', 'id': 'fe83bd7e-b7c0-4cd9-be26-959f6fb356d3'}\n"
     ]
    }
   ],
   "source": [
    "query = \"how to vefify DM\"\n",
    "search_hybrid_result = opensearch_hybrid_retriever.get_relevant_documents(query)\n",
    "\n",
    "print(\"\\n==========  Results  ==========\\n\")\n",
    "print(f'1. question: {query}')\n",
    "print(f'2. # documents: {len(search_hybrid_result)}')\n",
    "print(\"3. Documents: \\n\")\n",
    "\n",
    "show_context_used(search_hybrid_result)"
   ]
  },
  {
   "cell_type": "markdown",
   "id": "a981abe7-5208-48f5-a9cc-8c557e9941ca",
   "metadata": {},
   "source": [
    "## 5. RAG using RetrievalQA powered by LangChain"
   ]
  },
  {
   "cell_type": "code",
   "execution_count": 53,
   "id": "08cf6d2b-451b-499c-aec2-bb6f5abafbb0",
   "metadata": {
    "tags": []
   },
   "outputs": [],
   "source": [
    "from utils.rag import run_RetrievalQA\n",
    "from langchain.prompts import PromptTemplate"
   ]
  },
  {
   "cell_type": "markdown",
   "id": "b490df1f-8113-4dd1-a578-a3e1a6918fde",
   "metadata": {
    "tags": []
   },
   "source": [
    "### Prompting\n",
    "- [TIP] Prompt의 instruction의 경우 한글보다 영어로 했을 때 더 좋은 결과를 얻을 수 있습니다."
   ]
  },
  {
   "cell_type": "code",
   "execution_count": 54,
   "id": "572bc0ee-afb8-4dc8-b5ae-629920b8504b",
   "metadata": {
    "tags": []
   },
   "outputs": [],
   "source": [
    "prompt_template = \"\"\"\n",
    "\\n\\nHuman: Here is the context, inside <context></context> XML tags.\n",
    "\n",
    "<context>\n",
    "{context}\n",
    "</context>\n",
    "\n",
    "Only using the context as above, answer the following question with the rules as below:\n",
    "    - Don't insert XML tag such as <context> and </context> when answering.\n",
    "    - Write as much as you can\n",
    "    - Be courteous and polite\n",
    "    - Only answer the question if you can find the answer in the context with certainty.\n",
    "\n",
    "Question:\n",
    "{question}\n",
    "\n",
    "If the answer is not in the context, just say \"Could not find answer in given contexts.\"\n",
    "\n",
    "\\n\\nAssistant:\"\"\"\n",
    "\n",
    "PROMPT = PromptTemplate(\n",
    "    template=prompt_template, input_variables=[\"context\", \"question\"]\n",
    ")"
   ]
  },
  {
   "cell_type": "markdown",
   "id": "c66157a6-aec8-4555-a90f-1178e6f4f6e0",
   "metadata": {},
   "source": [
    "### Update Search Params (Optional)"
   ]
  },
  {
   "cell_type": "code",
   "execution_count": 55,
   "id": "64df2daf-8b42-472a-885f-97320ee98132",
   "metadata": {
    "tags": []
   },
   "outputs": [],
   "source": [
    "from langchain.chains import RetrievalQA"
   ]
  },
  {
   "cell_type": "code",
   "execution_count": 56,
   "id": "d2697230-6962-43d8-8917-ba9daa4295bb",
   "metadata": {
    "tags": []
   },
   "outputs": [],
   "source": [
    "opensearch_hybrid_retriever.update_search_params(\n",
    "    k=3,\n",
    "    minimum_should_match=3,\n",
    "    filter=[],\n",
    "    reranker=True,\n",
    "    reranker_endpoint_name=endpoint_name,\n",
    "    hyde=True, # enable hyde\n",
    "    hyde_query=[\"web_search\"], # query type in hyde \n",
    "    llm_text=llm_text, # llm for query augmentation in rag_fusion\n",
    "    verbose=False\n",
    ")"
   ]
  },
  {
   "cell_type": "markdown",
   "id": "aee26c22-b674-4f4f-a87b-29508e336fda",
   "metadata": {},
   "source": [
    "### Request"
   ]
  },
  {
   "cell_type": "code",
   "execution_count": 57,
   "id": "95fa61d3-9256-432a-96a3-2c696c97ea68",
   "metadata": {
    "tags": []
   },
   "outputs": [],
   "source": [
    "qa = RetrievalQA.from_chain_type(\n",
    "    llm=llm_text,\n",
    "    chain_type=\"stuff\",\n",
    "    retriever=opensearch_hybrid_retriever,\n",
    "    return_source_documents=True,\n",
    "    chain_type_kwargs={\n",
    "        \"prompt\": PROMPT,\n",
    "        \"verbose\": False,\n",
    "    },\n",
    "    verbose=False\n",
    ")"
   ]
  },
  {
   "cell_type": "code",
   "execution_count": 58,
   "id": "390ad324-40b3-4bcb-92b9-50eb080492a5",
   "metadata": {
    "tags": []
   },
   "outputs": [
    {
     "name": "stdout",
     "output_type": "stream",
     "text": [
      " Here is a concise passage answering the question \"How does RKP protect critical kernel data structures from modification?\":\n",
      "\n",
      "RKP (Real-time Kernel Protection) uses several techniques to protect critical kernel data structures from unauthorized modification. It marks key data structures like the system call table and scheduler queues as read-only, preventing writes to them even from privileged kernel code. RKP also copies these structures to its own protected memory region on boot, then validates the originals against its copies at runtime to detect tampering. Additionally, RKP implements system call hooks to mediate access to sensitive kernel APIs that could be used to modify protected data structures. By leveraging these hooks, RKP can allow, deny, or sanitize certain syscalls to enforce its security policies regarding kernel data structure manipulation. RKP prevents modification of critical kernel data structures by controlling device memory management and intercepting and inspecting critical kernel actions before allowing them to execute. Specifically, the context mentions:\n",
      "\n",
      "\"RKP protections are grouped into three areas: \n",
      "Kernel data - RKP prevents modification of critical kernel data structures.\""
     ]
    }
   ],
   "source": [
    "query = \"How does RKP protect critical kernel data structures from modification?\"\n",
    "response = qa(query)"
   ]
  },
  {
   "cell_type": "code",
   "execution_count": 59,
   "id": "01e77dad-dc19-416b-80e7-19fac3b736a5",
   "metadata": {
    "tags": []
   },
   "outputs": [
    {
     "name": "stdout",
     "output_type": "stream",
     "text": [
      "##################################\n",
      "query:  How does RKP protect critical kernel data structures from modification?\n",
      "##################################\n",
      "\u001b[34m\n",
      "\n",
      "### Answer ###\u001b[0m\n",
      " RKP prevents modification of critical kernel data structures by controlling device memory\n",
      "management and intercepting and inspecting critical kernel actions before allowing them to execute.\n",
      "Specifically, the context mentions:\n",
      "\n",
      "\"RKP protections are grouped into three areas:\n",
      "Kernel data - RKP prevents modification of critical kernel data structures.\"\n",
      "\u001b[32m\n",
      "\n",
      "### Contexts ###\u001b[0m\n",
      "-----------------------------------------------\n",
      "1. Chunk: 885 Characters\n",
      "-----------------------------------------------\n",
      ". This unique ability enables RKP to detect and prevent the most common kernel attacks. RKP\n",
      "protections are grouped into three areas: Kernel code - RKP\"prevents modification of kernel code and\n",
      "logic. Kernel data - RKP\"prevents modification of critical kernel data structures. Kernel control\n",
      "flow - RKP\"prevents Return-Oriented Programming (ROP) and Jump-Oriented Programming (JOP) attacks\n",
      "that reuse existing kernel logic to piece together exploits from the kernel's own code. How is\n",
      "kernel protection possible? A kernel protection mechanism can't exist completely in the kernel only,\n",
      "since an attacker could circumvent it if the kernel itself has a flaw. The kernel is the lowest\n",
      "granular control level over the OS and, as such, usually can't be effectively monitored from any\n",
      "lower level in the system. RKP uniquely employs a security monitor within an isolated execution\n",
      "environment\n",
      "metadata:\n",
      " {'source': 'all_processed_data.json', 'seq_num': 121, 'title': 'Real-time Kernel Protection (RKP)',\n",
      "'url': 'https://docs.samsungknox.com/admin/fundamentals/whitepaper/core-platform-security/real-time-\n",
      "kernel-protection', 'project': 'USP', 'last_updated': '2023-07-26', 'id':\n",
      "'b0b8363f-b92a-42a2-81d5-41c016e437e1'}\n",
      "-----------------------------------------------\n",
      "2. Chunk: 983 Characters\n",
      "-----------------------------------------------\n",
      ". The kernel is the lowest granular control level over the OS and, as such, usually can't be\n",
      "effectively monitored from any lower level in the system. RKP uniquely employs a security monitor\n",
      "within an isolated execution environment. Running within an isolated execution environment would\n",
      "normally compromise a security mechanism's ability to see into the kernel and monitor activities at\n",
      "runtime. However, RKP succeeds by utilizing patented techniques to control device memory management\n",
      "and by intercepting and inspecting critical kernel actions before allowing them to execute. RKP is\n",
      "thus able to prevent a compromised kernel from bypassing other security protections. This prevention\n",
      "significantly reduces the severity of kernel attacks and limits the effectiveness of exploits that\n",
      "would typically cripple a mobile device. Since RKP is always active and requires no management\n",
      "control, kernel protection is only possible if it meets strict usability and performance\n",
      "requirements\n",
      "metadata:\n",
      " {'source': 'all_processed_data.json', 'seq_num': 121, 'title': 'Real-time Kernel Protection (RKP)',\n",
      "'url': 'https://docs.samsungknox.com/admin/fundamentals/whitepaper/core-platform-security/real-time-\n",
      "kernel-protection', 'project': 'USP', 'last_updated': '2023-07-26', 'id':\n",
      "'c9f40b3b-8139-4668-be8f-786ac87ebe9d'}\n",
      "-----------------------------------------------\n",
      "3. Chunk: 966 Characters\n",
      "-----------------------------------------------\n",
      ". Other more commonplace protections like Secure Boot or hardware-backed keystores are of little\n",
      "value if the kernel itself is controlled at runtime. After a device boots and decrypts sensitive\n",
      "content, a kernel compromise can result in data leaks that directly impact an enterprise's data\n",
      "integrity. RKP design and structure As part of the Knox Platform's security offerings, RKP employs a\n",
      "security monitor within an isolated execution environment. Depending on the device model, either a\n",
      "dedicated hypervisor or the hardware-backed secure world provided by ARM TrustZone technology\n",
      "provides the isolated execution environment. RKP's isolation from the kernel shrinks the Trusted\n",
      "Computing Base (TCB) and helps secure it from attacks designed to compromise the kernel. This unique\n",
      "ability enables RKP to detect and prevent the most common kernel attacks. RKP protections are\n",
      "grouped into three areas: Kernel code - RKP\"prevents modification of kernel code and logic\n",
      "metadata:\n",
      " {'source': 'all_processed_data.json', 'seq_num': 121, 'title': 'Real-time Kernel Protection (RKP)',\n",
      "'url': 'https://docs.samsungknox.com/admin/fundamentals/whitepaper/core-platform-security/real-time-\n",
      "kernel-protection', 'project': 'USP', 'last_updated': '2023-07-26', 'id':\n",
      "'d7c2fa78-4e8b-4150-b786-83dec01fd9be'}\n"
     ]
    }
   ],
   "source": [
    "print(\"##################################\")\n",
    "print(\"query: \", query)\n",
    "print(\"##################################\")\n",
    "\n",
    "print (colored(\"\\n\\n### Answer ###\", \"blue\"))\n",
    "print_ww(response['result'])\n",
    "\n",
    "print (colored(\"\\n\\n### Contexts ###\", \"green\"))\n",
    "show_context_used(response['source_documents'])"
   ]
  },
  {
   "cell_type": "code",
   "execution_count": null,
   "id": "04f0a647-b2ef-482e-9ecd-625d40f51b20",
   "metadata": {},
   "outputs": [],
   "source": []
  }
 ],
 "metadata": {
  "kernelspec": {
   "display_name": "conda_python3",
   "language": "python",
   "name": "conda_python3"
  },
  "language_info": {
   "codemirror_mode": {
    "name": "ipython",
    "version": 3
   },
   "file_extension": ".py",
   "mimetype": "text/x-python",
   "name": "python",
   "nbconvert_exporter": "python",
   "pygments_lexer": "ipython3",
   "version": "3.10.12"
  }
 },
 "nbformat": 4,
 "nbformat_minor": 5
}
