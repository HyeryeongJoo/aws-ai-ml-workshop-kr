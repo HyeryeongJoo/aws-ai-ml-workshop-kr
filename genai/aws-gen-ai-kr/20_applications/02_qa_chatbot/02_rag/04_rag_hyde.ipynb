{
 "cells": [
  {
   "cell_type": "markdown",
   "id": "5deb2df2-413d-49bd-a829-3a1fc344937e",
   "metadata": {},
   "source": [
    "# RAG Based on HyDE\n",
    "- Hybrid Search\n",
    "- ReRanker\n",
    "- HyDE (Hypothetical Document Embeddings)"
   ]
  },
  {
   "cell_type": "markdown",
   "id": "b1f81abc-3277-4a6b-9ef1-d4f997d67fbe",
   "metadata": {},
   "source": [
    "## Setting\n",
    " - Auto Reload\n",
    " - path for utils"
   ]
  },
  {
   "cell_type": "code",
   "execution_count": 1,
   "id": "ddde4105-b759-4d6c-8214-8e1ab485ae48",
   "metadata": {
    "tags": []
   },
   "outputs": [],
   "source": [
    "%load_ext autoreload\n",
    "%autoreload 2"
   ]
  },
  {
   "cell_type": "code",
   "execution_count": 2,
   "id": "57c2cdb1-d785-4317-afce-938f13141085",
   "metadata": {
    "tags": []
   },
   "outputs": [],
   "source": [
    "import sys, os\n",
    "module_path = \"../../..\"\n",
    "sys.path.append(os.path.abspath(module_path))"
   ]
  },
  {
   "cell_type": "markdown",
   "id": "9c4ade56-8dbc-4ded-b355-7e4bcc971e90",
   "metadata": {},
   "source": [
    "## 1. Bedrock Client 생성"
   ]
  },
  {
   "cell_type": "code",
   "execution_count": 3,
   "id": "cc2d877f-e877-48f6-8dd4-239de20e45cd",
   "metadata": {
    "tags": []
   },
   "outputs": [],
   "source": [
    "import json\n",
    "import boto3\n",
    "from pprint import pprint\n",
    "from termcolor import colored\n",
    "from utils import bedrock, print_ww\n",
    "from utils.bedrock import bedrock_info"
   ]
  },
  {
   "cell_type": "markdown",
   "id": "088e6490-c79a-49e4-841c-9fdb91292608",
   "metadata": {},
   "source": [
    "### ---- ⚠️ Un-comment and edit the below lines as needed for your AWS setup ⚠️ ----\n",
    "- os.environ[\"AWS_DEFAULT_REGION\"] = \"<REGION_NAME>\"  # E.g. \"us-east-1\"\n",
    "- os.environ[\"AWS_PROFILE\"] = \"<YOUR_PROFILE>\"\n",
    "- os.environ[\"BEDROCK_ASSUME_ROLE\"] = \"<YOUR_ROLE_ARN>\"  # E.g. \"arn:aws:...\"\n",
    "- os.environ[\"BEDROCK_ENDPOINT_URL\"] = \"<YOUR_ENDPOINT_URL>\"  # E.g. \"https://...\""
   ]
  },
  {
   "cell_type": "code",
   "execution_count": 4,
   "id": "cab9312c-5f61-4730-96c3-5eef54a5f08c",
   "metadata": {
    "tags": []
   },
   "outputs": [
    {
     "name": "stdout",
     "output_type": "stream",
     "text": [
      "Create new client\n",
      "  Using region: None\n",
      "  Using profile: None\n",
      "boto3 Bedrock client successfully created!\n",
      "bedrock-runtime(https://bedrock-runtime.us-east-1.amazonaws.com)\n",
      "\u001b[32m\n",
      "== FM lists ==\u001b[0m\n",
      "{'Claude-Instant-V1': 'anthropic.claude-instant-v1',\n",
      " 'Claude-V1': 'anthropic.claude-v1',\n",
      " 'Claude-V2': 'anthropic.claude-v2',\n",
      " 'Cohere-Embeddings-En': 'cohere.embed-english-v3',\n",
      " 'Cohere-Embeddings-Multilingual': 'cohere.embed-multilingual-v3',\n",
      " 'Command': 'cohere.command-text-v14',\n",
      " 'Command-Light': 'cohere.command-light-text-v14',\n",
      " 'Jurassic-2-Mid': 'ai21.j2-mid-v1',\n",
      " 'Jurassic-2-Ultra': 'ai21.j2-ultra-v1',\n",
      " 'Llama2-13b-Chat': 'meta.llama2-13b-chat-v1',\n",
      " 'Titan-Embeddings-G1': 'amazon.titan-embed-text-v1',\n",
      " 'Titan-Text-G1': 'amazon.titan-text-express-v1',\n",
      " 'Titan-Text-G1-Light': 'amazon.titan-text-lite-v1'}\n"
     ]
    }
   ],
   "source": [
    "boto3_bedrock = bedrock.get_bedrock_client(\n",
    "    assumed_role=os.environ.get(\"BEDROCK_ASSUME_ROLE\", None),\n",
    "    endpoint_url=os.environ.get(\"BEDROCK_ENDPOINT_URL\", None),\n",
    "    region=os.environ.get(\"AWS_DEFAULT_REGION\", None),\n",
    ")\n",
    "\n",
    "aws_region = os.environ.get(\"AWS_DEFAULT_REGION\", None)\n",
    "print (colored(\"\\n== FM lists ==\", \"green\"))\n",
    "pprint (bedrock_info.get_list_fm_models())"
   ]
  },
  {
   "cell_type": "markdown",
   "id": "241a9e34-417a-422f-9f75-cb211b2e70e1",
   "metadata": {
    "tags": []
   },
   "source": [
    "## 2. Titan Embedding 및 LLM 인 Claude-v2 모델 로딩"
   ]
  },
  {
   "cell_type": "markdown",
   "id": "29bf63d2-4110-407c-af06-a45d2fbed4b5",
   "metadata": {},
   "source": [
    "### LLM 로딩 (Claude-v2)"
   ]
  },
  {
   "cell_type": "code",
   "execution_count": 5,
   "id": "9c51443a-04f9-465c-9564-53053eb3e1c2",
   "metadata": {
    "tags": []
   },
   "outputs": [],
   "source": [
    "from langchain.llms.bedrock import Bedrock\n",
    "from langchain.callbacks.streaming_stdout import StreamingStdOutCallbackHandler"
   ]
  },
  {
   "cell_type": "code",
   "execution_count": 6,
   "id": "d09e84e0-b9e1-4b12-8e7a-68f03c5416e5",
   "metadata": {
    "tags": []
   },
   "outputs": [
    {
     "data": {
      "text/plain": [
       "Bedrock(client=<botocore.client.BedrockRuntime object at 0x7f39081053c0>, model_id='anthropic.claude-v2', model_kwargs={'max_tokens_to_sample': 512}, streaming=True, callbacks=[<langchain_core.callbacks.streaming_stdout.StreamingStdOutCallbackHandler object at 0x7f393642f7c0>])"
      ]
     },
     "execution_count": 6,
     "metadata": {},
     "output_type": "execute_result"
    }
   ],
   "source": [
    "llm_text = Bedrock(\n",
    "    model_id=bedrock_info.get_model_id(model_name=\"Claude-V2\"),\n",
    "    client=boto3_bedrock,\n",
    "    model_kwargs={\n",
    "        \"max_tokens_to_sample\": 512\n",
    "    },\n",
    "    streaming=True,\n",
    "    callbacks=[StreamingStdOutCallbackHandler()]\n",
    ")\n",
    "\n",
    "llm_text"
   ]
  },
  {
   "cell_type": "markdown",
   "id": "3ba2e829-af8f-4e90-b994-59106cdec8d8",
   "metadata": {},
   "source": [
    "### Embedding 모델 선택"
   ]
  },
  {
   "cell_type": "code",
   "execution_count": 7,
   "id": "0b7b8752-d1e3-4f41-ba35-6da42c3785db",
   "metadata": {
    "tags": []
   },
   "outputs": [],
   "source": [
    "from utils.rag import KoSimCSERobertaContentHandler, SagemakerEndpointEmbeddingsJumpStart"
   ]
  },
  {
   "cell_type": "code",
   "execution_count": 8,
   "id": "793b03f7-3186-4969-b76a-98fe56bd5fdc",
   "metadata": {
    "tags": []
   },
   "outputs": [],
   "source": [
    "def get_embedding_model(is_bedrock_embeddings, is_KoSimCSERobert, aws_region, endpont_name=None):\n",
    "    \n",
    "    if is_bedrock_embeddings:\n",
    "        # We will be using the Titan Embeddings Model to generate our Embeddings.\n",
    "        from langchain.embeddings import BedrockEmbeddings\n",
    "        llm_emb = BedrockEmbeddings(\n",
    "            client=boto3_bedrock,\n",
    "            model_id=bedrock_info.get_model_id(\n",
    "                model_name=\"Titan-Embeddings-G1\"\n",
    "            )\n",
    "        )\n",
    "        print(\"Bedrock Embeddings Model Loaded\")\n",
    "\n",
    "    elif is_KoSimCSERobert:\n",
    "        LLMEmbHandler = KoSimCSERobertaContentHandler()\n",
    "        endpoint_name_emb = endpont_name\n",
    "        llm_emb = SagemakerEndpointEmbeddingsJumpStart(\n",
    "            endpoint_name=endpoint_name_emb,\n",
    "            region_name=aws_region,\n",
    "            content_handler=LLMEmbHandler,\n",
    "        )        \n",
    "        print(\"KoSimCSERobert Embeddings Model Loaded\")\n",
    "    else:\n",
    "        llm_emb = None\n",
    "        print(\"No Embedding Model Selected\")\n",
    "    \n",
    "    return llm_emb"
   ]
  },
  {
   "cell_type": "markdown",
   "id": "cd72a6b8-eaf0-4036-a530-3bde5ba988cd",
   "metadata": {},
   "source": [
    "#### [중요] is_KoSimCSERobert == True 일시에 endpoint_name 을 꼭 넣어 주세요."
   ]
  },
  {
   "cell_type": "code",
   "execution_count": 9,
   "id": "f42e032b-8715-432c-ae71-12a889f8ffc0",
   "metadata": {
    "tags": []
   },
   "outputs": [
    {
     "name": "stdout",
     "output_type": "stream",
     "text": [
      "Bedrock Embeddings Model Loaded\n"
     ]
    }
   ],
   "source": [
    "is_bedrock_embeddings = True\n",
    "is_KoSimCSERobert = False\n",
    "aws_region = os.environ.get(\"AWS_DEFAULT_REGION\", None)\n",
    "\n",
    "##############################\n",
    "# Parameters for is_KoSimCSERobert\n",
    "##############################\n",
    "if is_KoSimCSERobert: endpont_name = \"<endpoint-name>\"\n",
    "else: endpont_name = None\n",
    "##############################\n",
    "\n",
    "llm_emb = get_embedding_model(is_bedrock_embeddings, is_KoSimCSERobert, aws_region, endpont_name)   "
   ]
  },
  {
   "cell_type": "markdown",
   "id": "e10b67d5-382e-4715-a841-eb07b8655da8",
   "metadata": {},
   "source": [
    "## 3. Depoly ReRanker model (if needed)"
   ]
  },
  {
   "cell_type": "code",
   "execution_count": 10,
   "id": "9a08a296-41ef-44cb-857b-63d05a8d187c",
   "metadata": {
    "tags": []
   },
   "outputs": [
    {
     "name": "stdout",
     "output_type": "stream",
     "text": [
      "sagemaker.config INFO - Not applying SDK defaults from location: /etc/xdg/sagemaker/config.yaml\n",
      "sagemaker.config INFO - Not applying SDK defaults from location: /home/ec2-user/.config/sagemaker/config.yaml\n"
     ]
    }
   ],
   "source": [
    "import json\n",
    "import sagemaker\n",
    "from sagemaker.huggingface import HuggingFaceModel"
   ]
  },
  {
   "cell_type": "code",
   "execution_count": 11,
   "id": "33dd04a7-8200-49e7-ae69-55a82be199b4",
   "metadata": {
    "tags": []
   },
   "outputs": [],
   "source": [
    "depoly = False"
   ]
  },
  {
   "cell_type": "code",
   "execution_count": 12,
   "id": "9d40e3dd-a19f-4af3-831a-0cfe79e72cb3",
   "metadata": {
    "tags": []
   },
   "outputs": [],
   "source": [
    "if depoly:\n",
    "\n",
    "    try:\n",
    "        role = sagemaker.get_execution_role()\n",
    "    except ValueError:\n",
    "        iam = boto3.client('iam')\n",
    "        role = iam.get_role(RoleName='sagemaker_execution_role')['Role']['Arn']\n",
    "\n",
    "    # Hub Model configuration. https://huggingface.co/models\n",
    "    hub = {\n",
    "        'HF_MODEL_ID':'BAAI/bge-reranker-large',\n",
    "        'HF_TASK':'text-classification'\n",
    "    }\n",
    "\n",
    "    # create Hugging Face Model Class\n",
    "    huggingface_model = HuggingFaceModel(\n",
    "        transformers_version='4.26.0',\n",
    "        pytorch_version='1.13.1',\n",
    "        py_version='py39',\n",
    "        env=hub,\n",
    "        role=role, \n",
    "    )\n",
    "\n",
    "    # deploy model to SageMaker Inference\n",
    "    predictor = huggingface_model.deploy(\n",
    "        initial_instance_count=1, # number of instances\n",
    "        instance_type='ml.g5.xlarge' # instance type\n",
    "    )\n",
    "\n",
    "    print(f'Accept: {predictor.accept}')\n",
    "    print(f'ContentType: {predictor.content_type}')\n",
    "    print(f'Endpoint: {predictor.endpoint}')"
   ]
  },
  {
   "cell_type": "markdown",
   "id": "20e648ef-01ec-4e2f-ba88-7d2510fdb7a6",
   "metadata": {},
   "source": [
    "## 4. Invocation (prediction)"
   ]
  },
  {
   "cell_type": "code",
   "execution_count": 13,
   "id": "114be617-a687-4733-abb9-30394c7ef35f",
   "metadata": {
    "tags": []
   },
   "outputs": [
    {
     "name": "stdout",
     "output_type": "stream",
     "text": [
      "runtime_client: <botocore.client.SageMakerRuntime object at 0x7f38e437dd80>\n"
     ]
    }
   ],
   "source": [
    "runtime_client = boto3.Session().client('sagemaker-runtime')\n",
    "print (f'runtime_client: {runtime_client}')"
   ]
  },
  {
   "cell_type": "code",
   "execution_count": 14,
   "id": "26ee5c45-de87-4a2b-bc04-bbc649fcd0c6",
   "metadata": {
    "tags": []
   },
   "outputs": [],
   "source": [
    "#endpoint_name = \"huggingface-pytorch-inference-2023-11-15-04-37-45-120\" # ml.m5.2xlarge\n",
    "endpoint_name = \"huggingface-pytorch-inference-2023-11-15-07-53-21-605\" # ml.g5.xlarge\n",
    "deserializer = \"application/json\""
   ]
  },
  {
   "cell_type": "code",
   "execution_count": 15,
   "id": "bd6288ed-b4fa-466f-9e2b-57484b827b0a",
   "metadata": {
    "tags": []
   },
   "outputs": [],
   "source": [
    "payload = json.dumps(\n",
    "    {\n",
    "        \"inputs\": [\n",
    "            {\"text\": \"I hate you\", \"text_pair\": \"I don't like you\"},\n",
    "            {\"text\": \"He hates you\", \"text_pair\": \"He like you\"}\n",
    "        ]\n",
    "    }\n",
    ")"
   ]
  },
  {
   "cell_type": "code",
   "execution_count": 16,
   "id": "c1eebe88-8b92-4e81-a103-b5a5d7a91bb3",
   "metadata": {
    "tags": []
   },
   "outputs": [
    {
     "name": "stdout",
     "output_type": "stream",
     "text": [
      "Response: [{'label': 'LABEL_0', 'score': 0.999653697013855}, {'label': 'LABEL_0', 'score': 0.025255175307393074}]\n",
      "CPU times: user 21 ms, sys: 300 µs, total: 21.3 ms\n",
      "Wall time: 90.4 ms\n"
     ]
    }
   ],
   "source": [
    "%%time\n",
    "response = runtime_client.invoke_endpoint(\n",
    "    EndpointName=endpoint_name,\n",
    "    ContentType=\"application/json\",\n",
    "    Accept=deserializer,\n",
    "    Body=payload\n",
    ")\n",
    "## deserialization\n",
    "out = json.loads(response['Body'].read().decode()) ## for json\n",
    "print (f'Response: {out}')"
   ]
  },
  {
   "cell_type": "markdown",
   "id": "7e432237-b9b5-4be3-aa0c-c30eeca6f480",
   "metadata": {},
   "source": [
    "## 5. LangChainmOpenSearch VectorStore 정의\n",
    "### 선수 조건\n",
    "- 01_preprocess_docs/02_load_docs_opensearch.ipynb를 통해서 OpenSearch Index 가 생성이 되어 있어야 합니다.\n",
    "#### [중요] 아래에 aws parameter store 에 아래 인증정보가 먼저 입력되어 있어야 합니다.\n",
    "- 01_preprocess_docs/01_parameter_store_example.ipynb 참고"
   ]
  },
  {
   "cell_type": "code",
   "execution_count": 17,
   "id": "635ffe33-b1b1-49f7-ae14-07b782d30a63",
   "metadata": {
    "tags": []
   },
   "outputs": [],
   "source": [
    "from utils.proc_docs import get_parameter"
   ]
  },
  {
   "cell_type": "code",
   "execution_count": 18,
   "id": "42d192b6-68ce-465e-9fa7-04b5201f4453",
   "metadata": {
    "tags": []
   },
   "outputs": [],
   "source": [
    "ssm = boto3.client(\"ssm\", \"us-east-1\")\n",
    "\n",
    "opensearch_domain_endpoint = get_parameter(\n",
    "    boto3_clinet = ssm,\n",
    "    parameter_name = 'knox_opensearch_domain_endpoint',\n",
    ")\n",
    "\n",
    "opensearch_user_id = get_parameter(\n",
    "    boto3_clinet = ssm,\n",
    "    parameter_name = 'knox_opensearch_userid',\n",
    ")\n",
    "\n",
    "opensearch_user_password = get_parameter(\n",
    "    boto3_clinet = ssm,\n",
    "    parameter_name = 'knox_opensearch_password',\n",
    ")"
   ]
  },
  {
   "cell_type": "code",
   "execution_count": 19,
   "id": "fc7866fd-fd9c-4b41-b600-a91e43edfe4d",
   "metadata": {
    "tags": []
   },
   "outputs": [],
   "source": [
    "opensearch_domain_endpoint = opensearch_domain_endpoint\n",
    "rag_user_name = opensearch_user_id\n",
    "rag_user_password = opensearch_user_password\n",
    "\n",
    "http_auth = (rag_user_name, rag_user_password) # Master username, Master password"
   ]
  },
  {
   "cell_type": "markdown",
   "id": "161a900e-effc-4d7f-a179-b6c00eac03ad",
   "metadata": {
    "tags": []
   },
   "source": [
    "### Index 이름 셋팅\n",
    "- 이전 노트북 01_preprocess_docs/02_load_docs_opensearch.ipynb를 통해서 생성된 OpenSearch Index name 입력"
   ]
  },
  {
   "cell_type": "code",
   "execution_count": 20,
   "id": "d5d9b5eb-052e-4e84-846b-c5385e853ba4",
   "metadata": {
    "tags": []
   },
   "outputs": [],
   "source": [
    "index_name = \"v13-genai-poc-knox-titan-eval-sample-0.05-1024c-256o\""
   ]
  },
  {
   "cell_type": "markdown",
   "id": "482f5785-b88d-44fa-a603-080e4bd734a6",
   "metadata": {},
   "source": [
    "### OpenSearch Client 생성"
   ]
  },
  {
   "cell_type": "code",
   "execution_count": 21,
   "id": "968b7502-5799-4702-bc17-959e88c330a2",
   "metadata": {
    "tags": []
   },
   "outputs": [],
   "source": [
    "from utils.opensearch import opensearch_utils"
   ]
  },
  {
   "cell_type": "code",
   "execution_count": 22,
   "id": "6ceb46a1-e425-4f7e-9319-793b55abb938",
   "metadata": {
    "tags": []
   },
   "outputs": [],
   "source": [
    "os_client = opensearch_utils.create_aws_opensearch_client(\n",
    "    aws_region,\n",
    "    opensearch_domain_endpoint,\n",
    "    http_auth\n",
    ")"
   ]
  },
  {
   "cell_type": "markdown",
   "id": "98bde525-506d-4667-9fc3-bc06dcaba93a",
   "metadata": {
    "tags": []
   },
   "source": [
    "### LangChain OpenSearch VectorStore 생성"
   ]
  },
  {
   "cell_type": "code",
   "execution_count": 23,
   "id": "7e13238f-4ff7-4f7f-b83e-04b4563bd90a",
   "metadata": {
    "tags": []
   },
   "outputs": [],
   "source": [
    "from langchain.vectorstores import OpenSearchVectorSearch"
   ]
  },
  {
   "cell_type": "code",
   "execution_count": 24,
   "id": "dd444329-cdbe-4843-9092-791840138a3a",
   "metadata": {
    "tags": []
   },
   "outputs": [
    {
     "data": {
      "text/plain": [
       "<langchain.vectorstores.opensearch_vector_search.OpenSearchVectorSearch at 0x7f3801a0d1e0>"
      ]
     },
     "execution_count": 24,
     "metadata": {},
     "output_type": "execute_result"
    }
   ],
   "source": [
    "vector_db = OpenSearchVectorSearch(\n",
    "    index_name=index_name,\n",
    "    opensearch_url=opensearch_domain_endpoint,\n",
    "    embedding_function=llm_emb,\n",
    "    http_auth=http_auth, # http_auth\n",
    "    is_aoss =False,\n",
    "    engine=\"faiss\",\n",
    "    space_type=\"l2\"\n",
    ")\n",
    "vector_db"
   ]
  },
  {
   "cell_type": "markdown",
   "id": "b41d685c-7590-42fd-9f8f-339b2ff197f5",
   "metadata": {},
   "source": [
    "# 아래수정"
   ]
  },
  {
   "cell_type": "markdown",
   "id": "a5084376-7523-4cf9-9123-adc4ae79f66d",
   "metadata": {
    "tags": []
   },
   "source": [
    "## 6. Retriever based on Hybrid Search + HyDE + ReRanker\n",
    "- LangChain에서 제공하는 **BaseRetriever** 클래스를 상속받아 **Custom Retriever**를 정의 할 수 있습니다.\n",
    "- Hybrid-Search에 대한 자세한 내용는 **\"01_rag_hybrid_search.ipyno\"** 에서 확인 가능합니다.\n",
    "- [RAG-Fusion](https://towardsdatascience.com/forget-rag-the-future-is-rag-fusion-1147298d8ad1)\n",
    "![rag-fusion.png](../../../imgs/rag-fusion.png)"
   ]
  },
  {
   "cell_type": "code",
   "execution_count": 25,
   "id": "5db8e470-63a9-4c3d-94c8-1d270a6da822",
   "metadata": {
    "tags": []
   },
   "outputs": [],
   "source": [
    "from utils.rag import OpenSearchHybridSearchRetriever"
   ]
  },
  {
   "cell_type": "markdown",
   "id": "d7feac2f-21a2-4756-b989-66c180bb1e79",
   "metadata": {},
   "source": [
    "- 필터 설정 예시\n",
    "- filter=[ <BR>\n",
    "    　{\"term\": {\"metadata.[**your_metadata_attribute_name**]\": \"**your first keyword**\"}}, <BR>\n",
    "    　{\"term\": {\"metadata.[**your_metadata_attribute_name**]\": \"**your second keyword**\"}},<BR>\n",
    "]"
   ]
  },
  {
   "cell_type": "code",
   "execution_count": 26,
   "id": "49c7e131-294f-4ff8-9331-989709c7079c",
   "metadata": {
    "tags": []
   },
   "outputs": [],
   "source": [
    "opensearch_hybrid_retriever = OpenSearchHybridSearchRetriever(\n",
    "    os_client=os_client,\n",
    "    vector_db=vector_db,\n",
    "    index_name=index_name,\n",
    "    llm_text=llm_text, # llm for query augmentation in both rag_fusion and HyDE\n",
    "    llm_emb=llm_emb,\n",
    "\n",
    "    # option for lexical\n",
    "    minimum_should_match=0,\n",
    "    filter=[],\n",
    "\n",
    "    # option for search\n",
    "    fusion_algorithm=\"RRF\", # [\"RRF\", \"simple_weighted\"], rank fusion 방식 정의\n",
    "    ensemble_weights=[.5, .5], # [for lexical, for semantic], Lexical, Semantic search 결과에 대한 최종 반영 비율 정의\n",
    "    reranker=True, # enable reranker with reranker model\n",
    "    reranker_endpoint_name=endpoint_name, # endpoint name for reranking model\n",
    "    hyde=True, # enable hyde\n",
    "    hyde_query=[\"web_search\"], # query type in hyde \n",
    "    \n",
    "\n",
    "    # option for async search\n",
    "    async_mode=True,\n",
    "\n",
    "    # option for output\n",
    "    k=5, # 최종 Document 수 정의\n",
    "    verbose=True,\n",
    ")"
   ]
  },
  {
   "cell_type": "markdown",
   "id": "cfb26835-ad98-41c5-9e9d-2453642e3551",
   "metadata": {},
   "source": [
    "### Retrieval example\n",
    "- default search"
   ]
  },
  {
   "cell_type": "code",
   "execution_count": 27,
   "id": "9c06e89f-79de-413c-ba9c-a188ca3fe2d0",
   "metadata": {
    "tags": []
   },
   "outputs": [],
   "source": [
    "from utils.rag import show_context_used"
   ]
  },
  {
   "cell_type": "code",
   "execution_count": 28,
   "id": "fe3bfee3-dac1-45b9-8795-03e36c1632a9",
   "metadata": {
    "tags": []
   },
   "outputs": [],
   "source": [
    "query = \"what is verify DM\""
   ]
  },
  {
   "cell_type": "code",
   "execution_count": 29,
   "id": "05b13e5e-4a66-4dc8-b18c-42a6e3bd6037",
   "metadata": {
    "tags": []
   },
   "outputs": [
    {
     "name": "stdout",
     "output_type": "stream",
     "text": [
      " Here is a concise passage answering the question \"what is verify DM\":\n",
      "\n",
      "Verify DM is a service that allows Twitter users to get a blue verified badge on their profile to indicate authenticity. It provides a blue checkmark icon next to the user's name to show that the account is genuine and belongs to the person or organization it claims to represent. The verification process requires users to provide proof of identity such as a government-issued photo ID or official documentation. Twitter verifies accounts that are determined to be of public interest, including celebrities, brands, media outlets, government agencies, and public figures. The blue checkmark allows people to easily identify authentic and influential accounts on Twitter.===== HyDE Answers =====\n",
      "['what is verify DM', ' Here is a concise passage answering the question \"what is verify DM\":\\n\\nVerify DM is a service that allows Twitter users to get a blue verified badge on their profile to indicate authenticity. It provides a blue checkmark icon next to the user\\'s name to show that the account is genuine and belongs to the person or organization it claims to represent. The verification process requires users to provide proof of identity such as a government-issued photo ID or official documentation. Twitter verifies accounts that are determined to be of public interest, including celebrities, brands, media outlets, government agencies, and public figures. The blue checkmark allows people to easily identify authentic and influential accounts on Twitter.']\n",
      "##############################\n",
      "async_mode\n",
      "##############################\n",
      "True\n",
      "##############################\n",
      "reranker\n",
      "##############################\n",
      "True\n",
      "##############################\n",
      "rag_fusion\n",
      "##############################\n",
      "False\n",
      "##############################\n",
      "HyDE\n",
      "##############################\n",
      "True\n",
      "##############################\n",
      "similar_docs_semantic\n",
      "##############################\n",
      "[(Document(page_content='. Once the IT admin has configured the profile, they push it to enterprise devices through their EMM. Device users can then start using the business app to scan barcodes.', metadata={'source': 'all_processed_data.json', 'seq_num': 40, 'title': 'Why is Knox Capture called a wedge? ', 'url': 'https://docs.samsungknox.com/admin/knox-capture/faq/#why-is-knox-capture-called-wedge', 'project': 'KCAP', 'last_updated': '2023-07-26', 'id': '8fbd2c3c-4293-4ee8-86e3-f793e34e2ab0'}), 0.01626123744050767), (Document(page_content='. Samsung ensures that data collection is restricted to only that which is necessary. Samsung cloud solutions are SOC2-certified, so you can rest assured of the smooth operation, security, and reliability of solutions in the Knox Suite. If you want to learn more, see GDPR and Samsung Knox solutions.', metadata={'source': 'all_processed_data.json', 'seq_num': 80, 'title': 'I am subscribed to an individual Knox cloud service. Can I switch or upgrade to Knox Suite?', 'url': 'https://docs.samsungknox.com/admin/knox-suite/faq/#i-am-subscribed-individual-knox-cloud-service-can-i-switch-upgrade-knox-suite', 'project': 'KS', 'last_updated': '2023-07-26', 'id': 'b391ed24-310f-4e76-afa7-6f1681ef008e'}), 0.015512265512265512), (Document(page_content=\". 7. Tap All activities under an app to open a list of app activities that are included in the profile you're testing. Here, you can check if individual activities were tested. If so, a green checkmark appears next to the activity. 8. Clear all the check marks by tapping the additional actions menu icon at the upper-right of the Test apps screen and selecting Clear test activity. Exit test mode Exit test mode in one of the following ways: Toggle Test mode to the off position on the Test apps screen. Tap the X in upper-right corner of the test overlay, then tap Exit to confirm. In addition to the two points mentioned above, the user can also exit test mode from the notification panel. Test mode notation Test mode uses special notation when displaying scanned data in the test overlay to verify the keystroke output rules are set up correctly. #Character representation , Printable ASCII or Unicode characters are represented in their native printable format\", metadata={'source': 'all_processed_data.json', 'seq_num': 19, 'title': 'Use test mode', 'url': 'https://docs.samsungknox.com/admin/knox-capture/how-to-guides/use-test-mode', 'project': 'KCAP', 'last_updated': '2023-07-26', 'id': '9fffec3a-b37f-451a-a2fd-b2f5d3934f2c'}), 0.015504807692307693), (Document(page_content='. Confirm your Knox Suite license in the Knox Admin Portal To confirm your Knox Suite license in the Knox Admin Portal: 1. Click Licenses in the Knox Admin Portal navigation pane. The consolidated licenses page opens. Alternatively, from the main dashboard you can click ACTIVATE LICENSE on the Try Knox services for free card. 2. Confirm that the Knox Suite trial license was automatically generated and registered for you. You can also navigate to the consolidated licenses page through the individual Licenses page in the dashboard of each Knox service. Confirm your Knox Suite license on the Knox Manage console To confirm your license on the Knox Manage console: 1. Launch the Knox Manage console. 2. In the navigation pane, go to Setting > License. Confirm that the license key was automatically generated and registered for you. It must have the Knox Suite license type. For more information on license registration and management in the Knox Admin Portal, see Manage Knox licenses', metadata={'source': 'all_processed_data.json', 'seq_num': 72, 'title': 'Confirm and register your license', 'url': 'https://docs.samsungknox.com/admin/knox-suite/get-started/confirm-and-register-your-license', 'project': 'KS', 'last_updated': '2023-09-06', 'id': 'ff62c040-56de-4540-a099-d1737dbd6408'}), 0.015289449112978524), (Document(page_content='. Enterprise organizations are responsible for setting up their own database servers, either through their own IT departments, or from a third-party vendor of their choosing. This section mainly provides guidelines for setting up the database server, focusing primarily on the REST APIs required for server setup. #REST API guidelines ##URI: `/login` , Description: This API is used to check user/client credential requirements. HTTP request method: `GET` Request structure Expected HTTP response structure: /login Headers: User-Agent: com.samsung.android.app.smartscan/ (Optional) Authorization: Basic: Base64_encoded 200: success 401: invalid/missing credentials Other codes will be treated as connection failure If 200 is returned without authorization header, the client assumes authorization is not required for other requests. Similarly if authorization is required for this API, then the authorization header will be included for other APIs', metadata={'source': 'all_processed_data.json', 'seq_num': 21, 'title': 'Configure AR', 'url': 'https://docs.samsungknox.com/admin/knox-capture/how-to-guides/ar/configure-ar', 'project': 'KCAP', 'last_updated': '2023-07-26', 'id': '6788b36d-f25c-43b0-82ea-c2258bc510a7'}), 0.014389233954451346), (Document(page_content=\". Otherwise, you're prompted to create one. 4. If you're prompted to create one, create a Samsung account. Read the service's terms and conditions. If you agree to all of them, select each one. Then, click Agree. Fill out the basic information for your account and click Next. Enter the verification code sent to your email. Click Done. Your Samsung account is now created. 5. You're then automatically redirected to apply for access to Knox Services. Verify the details of your Samsung Knox account and click NEXT: COMPANY INFO. Fill out the form with your company's details and click NEXT: AGREEMENT. Read the Samsung Knox agreements. If you agree to them, click AGREE. Your application for Knox Services is complete. Sign in to Samsung Knox 1. Go to SamsungKnox.com, hover over Sign in, then click Sign in under Samsung Account. 2. Enter your Samsung account email, then click Next. 3. Enter your Samsung account password, then click Sign in. You're now signed in and ready to start using Knox services and products\", metadata={'source': 'all_processed_data.json', 'seq_num': 73, 'title': 'Create a Samsung account', 'url': 'https://docs.samsungknox.com/admin/knox-suite/get-started/create-a-samsung-account', 'project': 'KS', 'last_updated': '2023-08-23', 'id': '55f18853-1da2-4a09-b299-3b486a5e15c8'}), 0.00819672131147541), (Document(page_content='. Some barcode types include a mandatory checksum, while others only have optional checksums. Enforcing an optional checksum helps reduce false positives and provides an extra layer of error prevention. When enabling a checksum, ensure your barcode data includes the calculated checksum, otherwise the checksum will not match and the barcode data is discarded. Uses and enforces a modulo n checksum algorithm. ON/OFF OFF Full ASCII support Interprets Code39 data using two symbols per output character to encode all ASCII characters. ON/OFF OFF Double checksum mod n Uses and enforces a double checksum modulo n. ON/OFF OFF Remove leading zero Removes the leading zero digit from EAN13/UCPA scanned barcode data. ON/OFF ON Return as UPCA Transforms UPCE scanned barcode data into its UPCA representation. ON/OFF OFF Remove leading UPCA zero Removes the leading zero digit from scanned barcode data if Return as UPCA is enabled. ON/OFF OFF', metadata={'source': 'all_processed_data.json', 'seq_num': 25, 'title': 'Scan engine settings: Scandit', 'url': 'https://docs.samsungknox.com/admin/knox-capture/knox-capture-scandit/scan-engine-settings-scandit', 'project': 'KCAP', 'last_updated': '2023-07-26', 'id': 'f2890e53-024b-43dc-baa5-1357651de8a4'}), 0.008064516129032258)]\n",
      "##############################\n",
      "similar_docs_keyword\n",
      "##############################\n",
      "[(Document(page_content=\"Overview. Get started with the basics by learning what Knox Capture is and how it works. What is Knox Capture? To help explain what Knox Capture does, it may be helpful to start with an understanding of what a *wedge* scanner is, and how it relates to the Knox Capture solution. In traditional hardware-based barcode scanning terminology, a wedge scanner is a physical device that attaches between a keyboard and a computer. The keyboard attaches to the scanner, and the scanner attaches to the computer. From the computer's perspective, the scanner behaves just like an additional keyboard. When the computer runs a software program (like an inventory spreadsheet app), and barcodes are read using the wedge scanner, data is sent from the scanner to the program in the form of keystrokes. From the program's point of view, data appears exactly as if someone had typed it manually using a keyboard. How Knox Capture works In a similar way, Knox Capture also acts as a wedge between a software program and keyboard\", metadata={'source': 'all_processed_data.json', 'seq_num': 3, 'title': 'Overview', 'url': 'https://docs.samsungknox.com/admin/knox-capture/overview', 'project': 'KCAP', 'last_updated': '2023-07-26', 'id': '65a8fee0-8f29-4f26-b757-f3271427bc7d'}), 1.0), (Document(page_content='What is Knox Suite?. Knox Suite is a bundled offering designed to help enterprise IT admins better manage your fleet of devices. It includes individual services such as Knox Platform for Enterprise, Knox Mobile Enrollment, Knox Manage, Knox E-FOTA, and Knox Asset Intelligence. Key features of Knox Suite include: Secure - Ensure your business data is protected with managed security features at your control. Deploy - Enroll corporate devices to EMM automatically and securely, right out of the box. Manage - Enable comprehensive management over corporate devices and OS versions. Analyze - Strengthen in-depth device analytics for mobile productivity and asset management.', metadata={'source': 'all_processed_data.json', 'seq_num': 74, 'title': ' What is Knox Suite?', 'url': 'https://docs.samsungknox.com/admin/knox-suite/faq/#what-is-knox-suite', 'project': 'KS', 'last_updated': '2023-07-26', 'id': '3e69c86f-4e05-4407-b540-298f1e3d8a9f'}), 0.9580010317558868), (Document(page_content=\"Barcode capture not working for business app. Overview You may encounter situations where barcode data is not outputting correctly to your business app. Why isn't barcode capture working for my business app? Most barcode capture issues begin with minor errors in the keystroke output and scan engine settings. Try using test mode to verify your configurations after setting up a profile.\", metadata={'source': 'all_processed_data.json', 'seq_num': 51, 'title': 'Barcode capture not working for business app', 'url': 'https://docs.samsungknox.com/admin/knox-capture/kbas/barcode-capture-not-working-for-app', 'project': 'KCAP', 'last_updated': '2023-07-26', 'id': '61292f05-4b93-4777-9fd9-d4d8e3afae21'}), 0.8912924584746228), (Document(page_content='. Configure the output path - Some organizations may want to send scanned Knox Capture data to a bluetooth keyboard connected to a PC, emulating the functionality of a traditional hardware scanner. Learn how output paths work, and how to pair and unpair your device to a bluetooth keyboard. Knox Capture AR - A feature introduced in Knox Capture v1.7 that provides important product information inside the camera preview window during a barcode scan. Learn what AR (Augmented Reality) is in Knox Capture, how to create AR templates, and how to use AR when performing barcode scans.', metadata={'source': 'all_processed_data.json', 'seq_num': 3, 'title': 'Overview', 'url': 'https://docs.samsungknox.com/admin/knox-capture/overview', 'project': 'KCAP', 'last_updated': '2023-07-26', 'id': '4c38d212-2d6f-43fe-9a2d-bb1871dad289'}), 0.8871747445949624), (Document(page_content='. 2. Under Device-wide policies, set Enable device policy controls to True. 3. Under Device Key Mapping (Premium), configure the mapping: 1. Set Enable Key Mapping Controls to True. 2. Set Enable PTT/Side Key Mapping for Microsoft Teams to False. 3. For Package Name, enter com.samsung.android.app.smartscan. 4. For Intent for Key press, enter com.samsung.android.knox.intent.action.PTT_PRESS. 5. For Intent for Key release, enter com.samsung.android.knox.intent.action.PTT_RELEASE. 6. Set Enable Key Mapping to Launch & Exit applications to False. 4. Save and assign the configured profile to the Verizon XCover Pro devices. 5. Verify that the configuration was applied successfully: 1. On one of the devices, launch the KSP app and tap Apply policies. 2. Go to Settings > Advanced features and verify that the XCover Key is disabled (grayed out). Pressing the XCover key now triggers a camera scan.', metadata={'source': 'all_processed_data.json', 'seq_num': 53, 'title': 'How to trigger camera scan with XCover key on Verizon device', 'url': 'https://docs.samsungknox.com/admin/knox-capture/kbas/disable-xcover-key-from-emm', 'project': 'KCAP', 'last_updated': '2023-07-26', 'id': '882826d3-47b6-43d1-9c5b-e881bdbe4705'}), 0.8794194858677284), (Document(page_content=\".samsung.android.knox.intent.action.PTT_PRESS. For Intent for Key release, enter com.samsung.android.knox.intent.action.PTT_RELEASE. 4. Then, set Enable Key Mapping to Launch & Exit applications to Disable. 5. Save and apply the policies to your device. The XCover key can no longer be remapped on the device, which you can verify in the device's settings, under Advanced features. When the key is pressed, the Knox Capture camera launches as expected.\", metadata={'source': 'all_processed_data.json', 'seq_num': 54, 'title': 'How to prevent users from remapping the XCover key', 'url': 'https://docs.samsungknox.com/admin/knox-capture/kbas/how-to-prevent-users-from-remapping-xcover-key', 'project': 'KCAP', 'last_updated': '2023-07-26', 'id': 'be613f71-69bd-483b-bca1-1dbd239b0f33'}), 0.8671897519533146), (Document(page_content='. End-users: Get started with Knox Capture - Learn how to review scanning profile settings, configure hardware key settings, and perform barcode scans from a business app as a device end-user. #How-to topics For in-depth explanations and detailed walkthroughs of key Knox Capture features, refer to the following how-to topics for more information: Manage licenses - Learn about the Knox Capture licensing procedure, and how to switch between Knox Capture and Knox Capture: Scandit Edition licenses on the app. Scanning profiles - Learn how profiles work, what the default profile does, and how to create new profiles for different scanning scenarios. Apps and activities - The component of every scanning profile that defines which busiess apps can launch the camera scanner. Learn how apps and activities work, and how you can customize them in the scanning profiles. Scan engine settings - These settings define how barcodes are scanned, and what happens with the data after each scan', metadata={'source': 'all_processed_data.json', 'seq_num': 3, 'title': 'Overview', 'url': 'https://docs.samsungknox.com/admin/knox-capture/overview', 'project': 'KCAP', 'last_updated': '2023-07-26', 'id': '7ff23a17-bb99-475f-a9c5-18c0160cd6fe'}), 0.840234397314655)]\n",
      "##############################\n",
      "similar_docs\n",
      "##############################\n",
      "[(Document(page_content=\". 7. Tap All activities under an app to open a list of app activities that are included in the profile you're testing. Here, you can check if individual activities were tested. If so, a green checkmark appears next to the activity. 8. Clear all the check marks by tapping the additional actions menu icon at the upper-right of the Test apps screen and selecting Clear test activity. Exit test mode Exit test mode in one of the following ways: Toggle Test mode to the off position on the Test apps screen. Tap the X in upper-right corner of the test overlay, then tap Exit to confirm. In addition to the two points mentioned above, the user can also exit test mode from the notification panel. Test mode notation Test mode uses special notation when displaying scanned data in the test overlay to verify the keystroke output rules are set up correctly. #Character representation , Printable ASCII or Unicode characters are represented in their native printable format\", metadata={'source': 'all_processed_data.json', 'seq_num': 19, 'title': 'Use test mode', 'url': 'https://docs.samsungknox.com/admin/knox-capture/how-to-guides/use-test-mode', 'project': 'KCAP', 'last_updated': '2023-07-26', 'id': '9fffec3a-b37f-451a-a2fd-b2f5d3934f2c'}), 0.00039424869464710355), (Document(page_content=\"Barcode capture not working for business app. Overview You may encounter situations where barcode data is not outputting correctly to your business app. Why isn't barcode capture working for my business app? Most barcode capture issues begin with minor errors in the keystroke output and scan engine settings. Try using test mode to verify your configurations after setting up a profile.\", metadata={'source': 'all_processed_data.json', 'seq_num': 51, 'title': 'Barcode capture not working for business app', 'url': 'https://docs.samsungknox.com/admin/knox-capture/kbas/barcode-capture-not-working-for-app', 'project': 'KCAP', 'last_updated': '2023-07-26', 'id': '61292f05-4b93-4777-9fd9-d4d8e3afae21'}), 8.039813110372052e-05), (Document(page_content=\"Overview. Get started with the basics by learning what Knox Capture is and how it works. What is Knox Capture? To help explain what Knox Capture does, it may be helpful to start with an understanding of what a *wedge* scanner is, and how it relates to the Knox Capture solution. In traditional hardware-based barcode scanning terminology, a wedge scanner is a physical device that attaches between a keyboard and a computer. The keyboard attaches to the scanner, and the scanner attaches to the computer. From the computer's perspective, the scanner behaves just like an additional keyboard. When the computer runs a software program (like an inventory spreadsheet app), and barcodes are read using the wedge scanner, data is sent from the scanner to the program in the form of keystrokes. From the program's point of view, data appears exactly as if someone had typed it manually using a keyboard. How Knox Capture works In a similar way, Knox Capture also acts as a wedge between a software program and keyboard\", metadata={'source': 'all_processed_data.json', 'seq_num': 3, 'title': 'Overview', 'url': 'https://docs.samsungknox.com/admin/knox-capture/overview', 'project': 'KCAP', 'last_updated': '2023-07-26', 'id': '65a8fee0-8f29-4f26-b757-f3271427bc7d'}), 7.762991299387068e-05), (Document(page_content='What is Knox Suite?. Knox Suite is a bundled offering designed to help enterprise IT admins better manage your fleet of devices. It includes individual services such as Knox Platform for Enterprise, Knox Mobile Enrollment, Knox Manage, Knox E-FOTA, and Knox Asset Intelligence. Key features of Knox Suite include: Secure - Ensure your business data is protected with managed security features at your control. Deploy - Enroll corporate devices to EMM automatically and securely, right out of the box. Manage - Enable comprehensive management over corporate devices and OS versions. Analyze - Strengthen in-depth device analytics for mobile productivity and asset management.', metadata={'source': 'all_processed_data.json', 'seq_num': 74, 'title': ' What is Knox Suite?', 'url': 'https://docs.samsungknox.com/admin/knox-suite/faq/#what-is-knox-suite', 'project': 'KS', 'last_updated': '2023-07-26', 'id': '3e69c86f-4e05-4407-b540-298f1e3d8a9f'}), 7.734433165751398e-05), (Document(page_content='. Once the IT admin has configured the profile, they push it to enterprise devices through their EMM. Device users can then start using the business app to scan barcodes.', metadata={'source': 'all_processed_data.json', 'seq_num': 40, 'title': 'Why is Knox Capture called a wedge? ', 'url': 'https://docs.samsungknox.com/admin/knox-capture/faq/#why-is-knox-capture-called-wedge', 'project': 'KCAP', 'last_updated': '2023-07-26', 'id': '8fbd2c3c-4293-4ee8-86e3-f793e34e2ab0'}), 7.732995436526835e-05)]\n",
      "\n",
      "==========  Results  ==========\n",
      "\n",
      "1. question: what is verify DM\n",
      "2. # documents: 5\n",
      "3. Documents: \n",
      "\n",
      "-----------------------------------------------\n",
      "1. Chunk: 966 Characters\n",
      "-----------------------------------------------\n",
      ". 7. Tap All activities under an app to open a list of app activities that are included in the\n",
      "profile you're testing. Here, you can check if individual activities were tested. If so, a green\n",
      "checkmark appears next to the activity. 8. Clear all the check marks by tapping the additional\n",
      "actions menu icon at the upper-right of the Test apps screen and selecting Clear test activity. Exit\n",
      "test mode Exit test mode in one of the following ways: Toggle Test mode to the off position on the\n",
      "Test apps screen. Tap the X in upper-right corner of the test overlay, then tap Exit to confirm. In\n",
      "addition to the two points mentioned above, the user can also exit test mode from the notification\n",
      "panel. Test mode notation Test mode uses special notation when displaying scanned data in the test\n",
      "overlay to verify the keystroke output rules are set up correctly. #Character representation ,\n",
      "Printable ASCII or Unicode characters are represented in their native printable format\n",
      "metadata:\n",
      " {'source': 'all_processed_data.json', 'seq_num': 19, 'title': 'Use test mode', 'url':\n",
      "'https://docs.samsungknox.com/admin/knox-capture/how-to-guides/use-test-mode', 'project': 'KCAP',\n",
      "'last_updated': '2023-07-26', 'id': '9fffec3a-b37f-451a-a2fd-b2f5d3934f2c'}\n",
      "-----------------------------------------------\n",
      "2. Chunk: 387 Characters\n",
      "-----------------------------------------------\n",
      "Barcode capture not working for business app. Overview You may encounter situations where barcode\n",
      "data is not outputting correctly to your business app. Why isn't barcode capture working for my\n",
      "business app? Most barcode capture issues begin with minor errors in the keystroke output and scan\n",
      "engine settings. Try using test mode to verify your configurations after setting up a profile.\n",
      "metadata:\n",
      " {'source': 'all_processed_data.json', 'seq_num': 51, 'title': 'Barcode capture not working for\n",
      "business app', 'url': 'https://docs.samsungknox.com/admin/knox-capture/kbas/barcode-capture-not-\n",
      "working-for-app', 'project': 'KCAP', 'last_updated': '2023-07-26', 'id':\n",
      "'61292f05-4b93-4777-9fd9-d4d8e3afae21'}\n",
      "-----------------------------------------------\n",
      "3. Chunk: 1013 Characters\n",
      "-----------------------------------------------\n",
      "Overview. Get started with the basics by learning what Knox Capture is and how it works. What is\n",
      "Knox Capture? To help explain what Knox Capture does, it may be helpful to start with an\n",
      "understanding of what a *wedge* scanner is, and how it relates to the Knox Capture solution. In\n",
      "traditional hardware-based barcode scanning terminology, a wedge scanner is a physical device that\n",
      "attaches between a keyboard and a computer. The keyboard attaches to the scanner, and the scanner\n",
      "attaches to the computer. From the computer's perspective, the scanner behaves just like an\n",
      "additional keyboard. When the computer runs a software program (like an inventory spreadsheet app),\n",
      "and barcodes are read using the wedge scanner, data is sent from the scanner to the program in the\n",
      "form of keystrokes. From the program's point of view, data appears exactly as if someone had typed\n",
      "it manually using a keyboard. How Knox Capture works In a similar way, Knox Capture also acts as a\n",
      "wedge between a software program and keyboard\n",
      "metadata:\n",
      " {'source': 'all_processed_data.json', 'seq_num': 3, 'title': 'Overview', 'url':\n",
      "'https://docs.samsungknox.com/admin/knox-capture/overview', 'project': 'KCAP', 'last_updated':\n",
      "'2023-07-26', 'id': '65a8fee0-8f29-4f26-b757-f3271427bc7d'}\n",
      "-----------------------------------------------\n",
      "4. Chunk: 674 Characters\n",
      "-----------------------------------------------\n",
      "What is Knox Suite?. Knox Suite is a bundled offering designed to help enterprise IT admins better\n",
      "manage your fleet of devices. It includes individual services such as Knox Platform for Enterprise,\n",
      "Knox Mobile Enrollment, Knox Manage, Knox E-FOTA, and Knox Asset Intelligence. Key features of Knox\n",
      "Suite include: Secure - Ensure your business data is protected with managed security features at\n",
      "your control. Deploy - Enroll corporate devices to EMM automatically and securely, right out of the\n",
      "box. Manage - Enable comprehensive management over corporate devices and OS versions. Analyze -\n",
      "Strengthen in-depth device analytics for mobile productivity and asset management.\n",
      "metadata:\n",
      " {'source': 'all_processed_data.json', 'seq_num': 74, 'title': ' What is Knox Suite?', 'url':\n",
      "'https://docs.samsungknox.com/admin/knox-suite/faq/#what-is-knox-suite', 'project': 'KS',\n",
      "'last_updated': '2023-07-26', 'id': '3e69c86f-4e05-4407-b540-298f1e3d8a9f'}\n",
      "-----------------------------------------------\n",
      "5. Chunk: 170 Characters\n",
      "-----------------------------------------------\n",
      ". Once the IT admin has configured the profile, they push it to enterprise devices through their\n",
      "EMM. Device users can then start using the business app to scan barcodes.\n",
      "metadata:\n",
      " {'source': 'all_processed_data.json', 'seq_num': 40, 'title': 'Why is Knox Capture called a wedge?\n",
      "', 'url': 'https://docs.samsungknox.com/admin/knox-capture/faq/#why-is-knox-capture-called-wedge',\n",
      "'project': 'KCAP', 'last_updated': '2023-07-26', 'id': '8fbd2c3c-4293-4ee8-86e3-f793e34e2ab0'}\n",
      "CPU times: user 393 ms, sys: 35.6 ms, total: 429 ms\n",
      "Wall time: 6.36 s\n"
     ]
    }
   ],
   "source": [
    "%%time\n",
    "search_hybrid_result = opensearch_hybrid_retriever.get_relevant_documents(query)\n",
    "\n",
    "print(\"\\n==========  Results  ==========\\n\")\n",
    "print(f'1. question: {query}')\n",
    "print (f'2. # documents: {len(search_hybrid_result)}')\n",
    "print(\"3. Documents: \\n\")\n",
    "\n",
    "show_context_used(search_hybrid_result)"
   ]
  },
  {
   "cell_type": "markdown",
   "id": "c09221b5-4a6c-463b-9769-35cc8362e33c",
   "metadata": {},
   "source": [
    "- update parameters"
   ]
  },
  {
   "cell_type": "code",
   "execution_count": 32,
   "id": "b7bb4672-d2b8-4b29-b71c-b06d84bcd470",
   "metadata": {
    "tags": []
   },
   "outputs": [],
   "source": [
    "opensearch_hybrid_retriever.update_search_params(\n",
    "    k=10,\n",
    "    minimum_should_match=30,\n",
    "    #filter=[],\n",
    "    filter=[\n",
    "        {\"term\": {\"metadata.project\": \"KS\"}},\n",
    "    ],\n",
    "    reranker=True,\n",
    "    reranker_endpoint_name=endpoint_name,\n",
    "    hyde=True, # enable hyde\n",
    "    hyde_query=[\"web_search\"], # query type in hyde \n",
    "    llm_text=llm_text, # llm for query augmentation in rag_fusion\n",
    "    verbose=False\n",
    ")"
   ]
  },
  {
   "cell_type": "code",
   "execution_count": 33,
   "id": "1b9b45b1-cb92-4954-8087-143a550350c8",
   "metadata": {
    "tags": []
   },
   "outputs": [
    {
     "name": "stdout",
     "output_type": "stream",
     "text": [
      " Here is a concise passage answering how to verify the identity of a direct message on social media:\n",
      "\n",
      "To verify the authenticity of a direct message (DM) received on social media, there are a few steps you can take. First, check that the account messaging you has a verified badge or other indicator that it is an official account. Be wary of parody accounts impersonating someone. Next, look for any unusual characters or spelling errors which could indicate the message is fraudulent. You can also visit the user's profile to ensure it looks legitimate and has a history of real activity. If you remain uncertain, do not click any links or provide personal info in a reply. Instead, contact the purported sender through a known reliable channel to confirm they sent the questionable DM. With caution, users can detect fake messages and avoid falling victim to DM phishing schemes.\n",
      "==========  Results  ==========\n",
      "\n",
      "1. question: how to vefify DM\n",
      "2. # documents: 10\n",
      "3. Documents: \n",
      "\n",
      "-----------------------------------------------\n",
      "1. Chunk: 918 Characters\n",
      "-----------------------------------------------\n",
      ". If your organization isn't signed up for Knox Services, your organization's domain makes up your\n",
      "unique tenant ID. Confirm that your organization's domain automatically filled the Tenant ID field\n",
      "and click Complete Registration. If your organization is already signed up for Knox Services, you\n",
      "need to define a prefix to differentiate your tenant from other tenants in your organization.\n",
      "Confirm that your organization's domain automatically filled the Organization Domain field and enter\n",
      "a prefix in the Prefix field. Your tenant ID should not exceed 50 characters. Click Complete\n",
      "Registration. In the pop up that opens, click Confirm and Complete. 5. You're now registered for\n",
      "Knox Suite. A trial Knox Suite license key is automatically generated when you apply for access to\n",
      "Knox Suite. You can find this in the Licenses tab of the Knox Admin Portal. Tutorial Progress You've\n",
      "completed 2 of 3 steps! Previous Next\n",
      "metadata:\n",
      " {'source': 'all_processed_data.json', 'seq_num': 71, 'title': 'Apply for access to Knox Suite',\n",
      "'url': 'https://docs.samsungknox.com/admin/knox-suite/get-started/apply-for-access-to-knox-suite',\n",
      "'project': 'KS', 'last_updated': '2023-08-23', 'id': 'b35ffeb0-3267-4b08-8afa-ecfac0fa4c30'}\n",
      "-----------------------------------------------\n",
      "2. Chunk: 963 Characters\n",
      "-----------------------------------------------\n",
      ". 2. On the consolidated licenses page that opens, click Manage license keys. The Other License Keys\n",
      "page opens. 3. Click Actions, and from the drop down list, select which license key you want to\n",
      "generate. The new license is added to your license key list. Launch the Knox Suite services 1. Go to\n",
      "SamsungKnox.com and sign in with your Samsung account. The Knox Admin Portal opens. 2. In the\n",
      "navigation pane, click the service you want to open. 3. The dashboard corresponding to your\n",
      "selection opens. Refer to the respective documentation of each product to learn how to get started\n",
      "with them. You can also sign in to Knox Manage through your organization's direct URL. For more\n",
      "information on signing in to Knox Manage, see Sign in to Knox Manage. Confirm your Knox Suite\n",
      "license in the Knox Admin Portal To confirm your Knox Suite license in the Knox Admin Portal: 1.\n",
      "Click Licenses in the Knox Admin Portal navigation pane. The consolidated licenses page opens\n",
      "metadata:\n",
      " {'source': 'all_processed_data.json', 'seq_num': 72, 'title': 'Confirm and register your license',\n",
      "'url': 'https://docs.samsungknox.com/admin/knox-suite/get-started/confirm-and-register-your-\n",
      "license', 'project': 'KS', 'last_updated': '2023-09-06', 'id':\n",
      "'1fe461fb-6079-4284-9dbc-d485f88f4002'}\n",
      "-----------------------------------------------\n",
      "3. Chunk: 950 Characters\n",
      "-----------------------------------------------\n",
      ". Prerequisites for organizations with legacy EE licenses Perform these procedures if you have an\n",
      "active legacy EE license (for Knox Configure and Knox E-FOTA\"on MDM) and you want to convert them to\n",
      "a Knox Suite license. When you generate your\"Knox Suite license, your legacy EE licenses for Knox\n",
      "Configure and Knox E-FOTA on MDM will expire in three months. 1. Create a Samsung account if you\n",
      "don't have one. 2. Obtain a Knox customer ID if you don't have one. You can do this by applying for\n",
      "a Knox Suite trial. When your application is approved, you'll find your Knox customer ID under your\n",
      "account icon in the Knox Admin Portal. 3. Provide your customer ID to the reseller that sold you\n",
      "your EE devices. Have them upload the devices to SamsungKnox.com under your customer ID. Your device\n",
      "reseller must be member of Knox Deployment Program (KDP). After your reseller uploads your devices,\n",
      "you can generate a Knox Suite license for your EE devices.\n",
      "metadata:\n",
      " {'source': 'all_processed_data.json', 'seq_num': 66, 'title': 'Before you begin', 'url':\n",
      "'https://docs.samsungknox.com/admin/knox-suite/enterprise-edition-devices/before-you-begin',\n",
      "'project': 'KS', 'last_updated': '2023-08-23', 'id': 'cecc9c9f-63f7-440d-a9c3-a7d2eeab13de'}\n",
      "-----------------------------------------------\n",
      "4. Chunk: 974 Characters\n",
      "-----------------------------------------------\n",
      ". A page of authorized resellers opens. 3. You can search for resellers by location and license\n",
      "keys. Select a reseller, fill out the purchase request form that appears when you click on their\n",
      "name, and send it to them. 4. Complete your license purchase. 5. After you procure your commercial\n",
      "license, sign-in to the Knox Suite portal and click Licenses > Actions > Enter license key. Enter\n",
      "your license key to start using Knox Suite. Other licenses Knox Suite includes Knox Capture and Knox\n",
      "Platform for Enterprise, which need their own separate license keys. If you plan to use either of\n",
      "those services, you need to generate a free Knox Platform for Enterprise Premium license or a Knox\n",
      "Capture trial license: 1. Click Licenses on the Knox Admin Portal navigation pane. 2. On the\n",
      "consolidated licenses page that opens, click Manage license keys. The Other License Keys page opens.\n",
      "3. Click Actions, and from the drop down list, select which license key you want to generate\n",
      "metadata:\n",
      " {'source': 'all_processed_data.json', 'seq_num': 72, 'title': 'Confirm and register your license',\n",
      "'url': 'https://docs.samsungknox.com/admin/knox-suite/get-started/confirm-and-register-your-\n",
      "license', 'project': 'KS', 'last_updated': '2023-09-06', 'id':\n",
      "'55846716-2e56-4261-a5cd-c56d73baba68'}\n",
      "-----------------------------------------------\n",
      "5. Chunk: 1018 Characters\n",
      "-----------------------------------------------\n",
      ". Otherwise, you're prompted to create one. 4. If you're prompted to create one, create a Samsung\n",
      "account. Read the service's terms and conditions. If you agree to all of them, select each one.\n",
      "Then, click Agree. Fill out the basic information for your account and click Next. Enter the\n",
      "verification code sent to your email. Click Done. Your Samsung account is now created. 5. You're\n",
      "then automatically redirected to apply for access to Knox Services. Verify the details of your\n",
      "Samsung Knox account and click NEXT: COMPANY INFO. Fill out the form with your company's details and\n",
      "click NEXT: AGREEMENT. Read the Samsung Knox agreements. If you agree to them, click AGREE. Your\n",
      "application for Knox Services is complete. Sign in to Samsung Knox 1. Go to SamsungKnox.com, hover\n",
      "over Sign in, then click Sign in under Samsung Account. 2. Enter your Samsung account email, then\n",
      "click Next. 3. Enter your Samsung account password, then click Sign in. You're now signed in and\n",
      "ready to start using Knox services and products\n",
      "metadata:\n",
      " {'source': 'all_processed_data.json', 'seq_num': 73, 'title': 'Create a Samsung account', 'url':\n",
      "'https://docs.samsungknox.com/admin/knox-suite/get-started/create-a-samsung-account', 'project':\n",
      "'KS', 'last_updated': '2023-08-23', 'id': '55f18853-1da2-4a09-b299-3b486a5e15c8'}\n",
      "-----------------------------------------------\n",
      "6. Chunk: 309 Characters\n",
      "-----------------------------------------------\n",
      ".com, hover over Sign in, then click Sign in under Samsung Account. 2. Enter your Samsung account\n",
      "email, then click Next. 3. Enter your Samsung account password, then click Sign in. You're now\n",
      "signed in and ready to start using Knox services and products. Tutorial Progress You've completed 1\n",
      "of 3 steps! Next\n",
      "metadata:\n",
      " {'source': 'all_processed_data.json', 'seq_num': 73, 'title': 'Create a Samsung account', 'url':\n",
      "'https://docs.samsungknox.com/admin/knox-suite/get-started/create-a-samsung-account', 'project':\n",
      "'KS', 'last_updated': '2023-08-23', 'id': '9969c68c-b793-453b-b910-5838b3ec1530'}\n",
      "-----------------------------------------------\n",
      "7. Chunk: 983 Characters\n",
      "-----------------------------------------------\n",
      ".com dashboard and click Licenses to view all licenses you have for all your Knox services. Knox\n",
      "Manage How to upgrade your license key from Knox Manage to Knox Suite Upgrade a license Knox\"Manage\n",
      "How to configure premium Knox features Prerequisite: Workflow:\"Set up Knox Manage with a Knox Suite\n",
      "license Samsung Knox running Android Enterprise Note Policies with a in the Knox Manage admin portal\n",
      "are Knox premium features. These features require a Knox\"Suite license key. Knox Manage How to\n",
      "approve the Knox Service Plugin (KSP) app Prerequisite:Set up Android Enterprise. Approve Knox\n",
      "Service Plugin (KSP). Knox Manage What's next? When you finish evaluating Knox Suite and decide to\n",
      "use it commercially, contact your Knox reseller to purchase a Knox\"Suite license. If you're in need\n",
      "of devices, consider purchasing Enterprise Edition devices if this program is supported in your\n",
      "country. These devices are packaged with a 1-year renewable Knox\"Suite license, among other benefits\n",
      "metadata:\n",
      " {'source': 'all_processed_data.json', 'seq_num': 64, 'title': 'Learn more about Knox Suite', 'url':\n",
      "'https://docs.samsungknox.com/admin/knox-suite/learn-more-about-knox-suite', 'project': 'KS',\n",
      "'last_updated': '2023-07-26', 'id': '8852cc9d-2f74-437a-bda4-32ffb488188f'}\n",
      "-----------------------------------------------\n",
      "8. Chunk: 574 Characters\n",
      "-----------------------------------------------\n",
      ". If you don't see any device uploads, contact your device reseller. 4. Select the reseller that\n",
      "uploaded the new devices. 5. Click Generate License. 6. In the Generate license popup, do the\n",
      "following: 1. Select Generate a new license key. 2. Select the start date of the license. This can\n",
      "be any date up to 90 days from the time you generate the license. 3. Click Generate. A Knox Suite\n",
      "license is generated. It covers all devices in the device upload you selected. To view the license,\n",
      "click View License. 7. Register the newly generated license to your Knox Admin Portal.\n",
      "metadata:\n",
      " {'source': 'all_processed_data.json', 'seq_num': 67, 'title': 'Get a Knox Suite license for\n",
      "Enterprise Edition devices', 'url': 'https://docs.samsungknox.com/admin/knox-suite/enterprise-\n",
      "edition-devices/get-a-knox-suite-license-for-enterprise-edition-devices', 'project': 'KS',\n",
      "'last_updated': '2023-07-26', 'id': '88d2e74b-a9c0-4195-a0a8-0d71777c69e6'}\n",
      "-----------------------------------------------\n",
      "9. Chunk: 997 Characters\n",
      "-----------------------------------------------\n",
      "Learn more about Knox Suite. This section describes where you can find instructions on how to\n",
      "perform tasks using the different products included in Knox Suite. General documentation for the\n",
      "Knox Suite services Knox Service , See - , - Knox Manage , Knox Manage Admin Guide Knox Platform for\n",
      "Enterprise , Knox Platform for Enterprise Admin Guide Knox Mobile Enrollment , Knox Mobile\n",
      "Enrollment Admin Guide Knox E-FOTA , Knox E-FOTA Admin Guide Knox Asset Intelligence , Knox Asset\n",
      "Intelligence Admin Guide Knox Capture , Knox Capture Admin Guide Knox Authentication Manager , Knox\n",
      "Authentication Manager Admin Guide Knox Suite operations For information on See Knox service How to\n",
      "set up Knox Manage with Knox Suite Workflow:\"Set up Knox Manage with a Knox Suite license Knox\n",
      "Manage How to check your Knox Suite license usage View and modify a license Note Alternatively, you\n",
      "can sign in to your SamsungKnox.com dashboard and click Licenses to view all licenses you have for\n",
      "all your Knox services\n",
      "metadata:\n",
      " {'source': 'all_processed_data.json', 'seq_num': 64, 'title': 'Learn more about Knox Suite', 'url':\n",
      "'https://docs.samsungknox.com/admin/knox-suite/learn-more-about-knox-suite', 'project': 'KS',\n",
      "'last_updated': '2023-07-26', 'id': '5363e4be-0d0f-4090-acd6-08cdddcabaf5'}\n",
      "-----------------------------------------------\n",
      "10. Chunk: 1022 Characters\n",
      "-----------------------------------------------\n",
      "Knox Suite. Knox Suite is a bundled offering of Knox solutions for enterprise mobility designed to\n",
      "address organizations' needs related to security and management throughout the entire device\n",
      "lifecycle. Learn more about Knox Suite #Audience This document is intended for IT Admins. Understand\n",
      "what's included in Knox Suite and how you can use it to manage, secure, and maintain enterprise\n",
      "devices. Learn where to find information on how to perform various tasks with Knox\"Suite services.\n",
      "About Knox Suite Knox Suite is a bundled offering that includes the following Knox products: Knox\n",
      "Platform for Enterprise - A Knox solution that provides military-grade security to Samsung Android\n",
      "phones, tablets, and Tizen watches for business. Knox Mobile Enrollment - A Knox solution that\n",
      "allows you to enroll thousands of Samsung devices in your EMM at once. When used with a Knox Suite\n",
      "license, Knox Mobile Enrollment provides advanced profiles that offer IT admins additional features\n",
      "such as higher control over locking devices\n",
      "metadata:\n",
      " {'source': 'all_processed_data.json', 'seq_num': 65, 'title': 'Knox Suite', 'url':\n",
      "'https://docs.samsungknox.com/admin/knox-suite', 'project': 'KS', 'last_updated': '2023-07-26',\n",
      "'id': '200fa83e-cdc3-441b-880a-04d8014ed8bd'}\n"
     ]
    }
   ],
   "source": [
    "query = \"how to vefify DM\"\n",
    "search_hybrid_result = opensearch_hybrid_retriever.get_relevant_documents(query)\n",
    "\n",
    "print(\"\\n==========  Results  ==========\\n\")\n",
    "print(f'1. question: {query}')\n",
    "print(f'2. # documents: {len(search_hybrid_result)}')\n",
    "print(\"3. Documents: \\n\")\n",
    "\n",
    "show_context_used(search_hybrid_result)"
   ]
  },
  {
   "cell_type": "markdown",
   "id": "a981abe7-5208-48f5-a9cc-8c557e9941ca",
   "metadata": {},
   "source": [
    "## 5. RAG using RetrievalQA powered by LangChain"
   ]
  },
  {
   "cell_type": "code",
   "execution_count": 34,
   "id": "08cf6d2b-451b-499c-aec2-bb6f5abafbb0",
   "metadata": {
    "tags": []
   },
   "outputs": [],
   "source": [
    "from utils.rag import run_RetrievalQA\n",
    "from langchain.prompts import PromptTemplate"
   ]
  },
  {
   "cell_type": "markdown",
   "id": "b490df1f-8113-4dd1-a578-a3e1a6918fde",
   "metadata": {
    "tags": []
   },
   "source": [
    "### Prompting\n",
    "- [TIP] Prompt의 instruction의 경우 한글보다 영어로 했을 때 더 좋은 결과를 얻을 수 있습니다."
   ]
  },
  {
   "cell_type": "code",
   "execution_count": 35,
   "id": "572bc0ee-afb8-4dc8-b5ae-629920b8504b",
   "metadata": {
    "tags": []
   },
   "outputs": [],
   "source": [
    "prompt_template = \"\"\"\n",
    "\\n\\nHuman: Here is the context, inside <context></context> XML tags.\n",
    "\n",
    "<context>\n",
    "{context}\n",
    "</context>\n",
    "\n",
    "Only using the context as above, answer the following question with the rules as below:\n",
    "    - Don't insert XML tag such as <context> and </context> when answering.\n",
    "    - Write as much as you can\n",
    "    - Be courteous and polite\n",
    "    - Only answer the question if you can find the answer in the context with certainty.\n",
    "\n",
    "Question:\n",
    "{question}\n",
    "\n",
    "If the answer is not in the context, just say \"Could not find answer in given contexts.\"\n",
    "\n",
    "\\n\\nAssistant:\"\"\"\n",
    "\n",
    "PROMPT = PromptTemplate(\n",
    "    template=prompt_template, input_variables=[\"context\", \"question\"]\n",
    ")"
   ]
  },
  {
   "cell_type": "markdown",
   "id": "c66157a6-aec8-4555-a90f-1178e6f4f6e0",
   "metadata": {},
   "source": [
    "### Update Search Params (Optional)"
   ]
  },
  {
   "cell_type": "code",
   "execution_count": 36,
   "id": "64df2daf-8b42-472a-885f-97320ee98132",
   "metadata": {
    "tags": []
   },
   "outputs": [],
   "source": [
    "from langchain.chains import RetrievalQA"
   ]
  },
  {
   "cell_type": "code",
   "execution_count": 37,
   "id": "d2697230-6962-43d8-8917-ba9daa4295bb",
   "metadata": {
    "tags": []
   },
   "outputs": [],
   "source": [
    "opensearch_hybrid_retriever.update_search_params(\n",
    "    k=3,\n",
    "    minimum_should_match=3,\n",
    "    filter=[],\n",
    "    reranker=True,\n",
    "    reranker_endpoint_name=endpoint_name,\n",
    "    hyde=True, # enable hyde\n",
    "    hyde_query=[\"web_search\"], # query type in hyde \n",
    "    llm_text=llm_text, # llm for query augmentation in rag_fusion\n",
    "    verbose=False\n",
    ")"
   ]
  },
  {
   "cell_type": "markdown",
   "id": "aee26c22-b674-4f4f-a87b-29508e336fda",
   "metadata": {},
   "source": [
    "### Request"
   ]
  },
  {
   "cell_type": "code",
   "execution_count": 38,
   "id": "95fa61d3-9256-432a-96a3-2c696c97ea68",
   "metadata": {
    "tags": []
   },
   "outputs": [],
   "source": [
    "qa = RetrievalQA.from_chain_type(\n",
    "    llm=llm_text,\n",
    "    chain_type=\"stuff\",\n",
    "    retriever=opensearch_hybrid_retriever,\n",
    "    return_source_documents=True,\n",
    "    chain_type_kwargs={\n",
    "        \"prompt\": PROMPT,\n",
    "        \"verbose\": False,\n",
    "    },\n",
    "    verbose=False\n",
    ")"
   ]
  },
  {
   "cell_type": "code",
   "execution_count": 39,
   "id": "390ad324-40b3-4bcb-92b9-50eb080492a5",
   "metadata": {
    "tags": []
   },
   "outputs": [
    {
     "name": "stdout",
     "output_type": "stream",
     "text": [
      " Here is a concise passage answering how RKP protects critical kernel data structures from modification:\n",
      "\n",
      "RKP (Real-time Kernel Protection) is a security module that protects critical kernel data structures from unauthorized modification on Android devices. It does this by storing \"shadow\" copies of important kernel data structures and comparing them to the originals at runtime. If any inconsistencies are detected, RKP triggers a kernel panic to prevent exploitation. Additionally, RKP sets certain kernel data structures like credential structures and system call tables as read-only to prevent modification. By proactively monitoring and restricting access to sensitive kernel data structures, RKP provides an added layer of security against rootkits and other kernel-level malware. Could not find answer in given contexts."
     ]
    }
   ],
   "source": [
    "query = \"How does RKP protect critical kernel data structures from modification?\"\n",
    "response = qa(query)"
   ]
  },
  {
   "cell_type": "code",
   "execution_count": 40,
   "id": "01e77dad-dc19-416b-80e7-19fac3b736a5",
   "metadata": {
    "tags": []
   },
   "outputs": [
    {
     "name": "stdout",
     "output_type": "stream",
     "text": [
      "##################################\n",
      "query:  How does RKP protect critical kernel data structures from modification?\n",
      "##################################\n",
      "\u001b[34m\n",
      "\n",
      "### Answer ###\u001b[0m\n",
      " Could not find answer in given contexts.\n",
      "\u001b[32m\n",
      "\n",
      "### Contexts ###\u001b[0m\n",
      "-----------------------------------------------\n",
      "1. Chunk: 954 Characters\n",
      "-----------------------------------------------\n",
      ". To replace the license, go to the unified License Management page on the Knox Admin Portal, enter\n",
      "the new Knox Suite license key you've purchased, select your existing Knox E-FOTA license key and\n",
      "then select Replace with a new Knox Suite license key. For more information, see Manage Knox\n",
      "licenses in the Knox Admin Portal documentation. Does Knox Suite record device location data? Yes.\n",
      "The location of managed devices can be tracked by services in the Knox Suite. Knox Manage and Knox\n",
      "Asset Intelligence help you locate devices and analyze their movement during the course of business.\n",
      "How securely does Samsung handle individual or business entity data acquired through Knox Suite\n",
      "services? Samsung is committed to safely handling customer information acquired from its business\n",
      "practices, and meets all data storage and handling requirements stipulated by the GDPR. Samsung\n",
      "ensures that data collection is restricted to only that which is necessary\n",
      "metadata:\n",
      " {'source': 'all_processed_data.json', 'seq_num': 80, 'title': 'I am subscribed to an individual\n",
      "Knox cloud service. Can I switch or upgrade to Knox Suite?', 'url':\n",
      "'https://docs.samsungknox.com/admin/knox-suite/faq/#i-am-subscribed-individual-knox-cloud-service-\n",
      "can-i-switch-upgrade-knox-suite', 'project': 'KS', 'last_updated': '2023-07-26', 'id':\n",
      "'401c39c9-069d-4465-97b1-a108c03d1cf3'}\n",
      "-----------------------------------------------\n",
      "2. Chunk: 1007 Characters\n",
      "-----------------------------------------------\n",
      ". For a full list of supported devices, see Supported devices. Keystroke output support in WP-C\n",
      "deployments In previous Knox Capture versions, if an IT admin activated a KPE Premium license with a\n",
      "WP-C deployment, remote injection was blocked in WP-C mode. As a workaround,\n",
      "`AdvancedRestrictionPolicy.allowRemoteControl()` must be set to True to support keystroke output.\n",
      "With this release, keystroke output in WP-C deployments is supported regardless of whether\n",
      "`AdvancedRestrictionPolicy.allowRemoteControl()` is set to True. Keystroke output support is not yet\n",
      "available for Galaxy S20 devices. You must use the aforementioned workaround to use keystroke output\n",
      "on Galaxy S20 devices. Option to disable default profile IT admins can now enable or disable the\n",
      "default profile. If you create profiles for several applications and don't want the default\n",
      "profile's behavior to override any configurations, set the default profile to Off. The default\n",
      "profile setting is available on the Knox Capture main page\n",
      "metadata:\n",
      " {'source': 'all_processed_data.json', 'seq_num': 29, 'title': 'Knox Capture v1.2 release notes',\n",
      "'url': 'https://docs.samsungknox.com/admin/knox-capture/release-notes/v1-2', 'project': 'KCAP',\n",
      "'last_updated': '2023-07-26', 'id': '321c5fe0-2387-474e-a9ae-536e7ba4d0a8'}\n",
      "-----------------------------------------------\n",
      "3. Chunk: 987 Characters\n",
      "-----------------------------------------------\n",
      ". End-users: Get started with Knox Capture - Learn how to review scanning profile settings,\n",
      "configure hardware key settings, and perform barcode scans from a business app as a device end-user.\n",
      "#How-to topics For in-depth explanations and detailed walkthroughs of key Knox Capture features,\n",
      "refer to the following how-to topics for more information: Manage licenses - Learn about the Knox\n",
      "Capture licensing procedure, and how to switch between Knox Capture and Knox Capture: Scandit\n",
      "Edition licenses on the app. Scanning profiles - Learn how profiles work, what the default profile\n",
      "does, and how to create new profiles for different scanning scenarios. Apps and activities - The\n",
      "component of every scanning profile that defines which busiess apps can launch the camera scanner.\n",
      "Learn how apps and activities work, and how you can customize them in the scanning profiles. Scan\n",
      "engine settings - These settings define how barcodes are scanned, and what happens with the data\n",
      "after each scan\n",
      "metadata:\n",
      " {'source': 'all_processed_data.json', 'seq_num': 3, 'title': 'Overview', 'url':\n",
      "'https://docs.samsungknox.com/admin/knox-capture/overview', 'project': 'KCAP', 'last_updated':\n",
      "'2023-07-26', 'id': '7ff23a17-bb99-475f-a9c5-18c0160cd6fe'}\n"
     ]
    }
   ],
   "source": [
    "print(\"##################################\")\n",
    "print(\"query: \", query)\n",
    "print(\"##################################\")\n",
    "\n",
    "print (colored(\"\\n\\n### Answer ###\", \"blue\"))\n",
    "print_ww(response['result'])\n",
    "\n",
    "print (colored(\"\\n\\n### Contexts ###\", \"green\"))\n",
    "show_context_used(response['source_documents'])"
   ]
  },
  {
   "cell_type": "code",
   "execution_count": null,
   "id": "04f0a647-b2ef-482e-9ecd-625d40f51b20",
   "metadata": {},
   "outputs": [],
   "source": []
  }
 ],
 "metadata": {
  "kernelspec": {
   "display_name": "conda_python3",
   "language": "python",
   "name": "conda_python3"
  },
  "language_info": {
   "codemirror_mode": {
    "name": "ipython",
    "version": 3
   },
   "file_extension": ".py",
   "mimetype": "text/x-python",
   "name": "python",
   "nbconvert_exporter": "python",
   "pygments_lexer": "ipython3",
   "version": "3.10.12"
  }
 },
 "nbformat": 4,
 "nbformat_minor": 5
}
