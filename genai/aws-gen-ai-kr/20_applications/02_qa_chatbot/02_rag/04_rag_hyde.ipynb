{
 "cells": [
  {
   "cell_type": "markdown",
   "id": "5deb2df2-413d-49bd-a829-3a1fc344937e",
   "metadata": {},
   "source": [
    "# RAG Based on HyDE\n",
    "- Hybrid Search\n",
    "- ReRanker\n",
    "- HyDE (Hypothetical Document Embeddings)"
   ]
  },
  {
   "cell_type": "markdown",
   "id": "b1f81abc-3277-4a6b-9ef1-d4f997d67fbe",
   "metadata": {},
   "source": [
    "## Setting\n",
    " - Auto Reload\n",
    " - path for utils"
   ]
  },
  {
   "cell_type": "code",
   "execution_count": 1,
   "id": "ddde4105-b759-4d6c-8214-8e1ab485ae48",
   "metadata": {
    "tags": []
   },
   "outputs": [],
   "source": [
    "%load_ext autoreload\n",
    "%autoreload 2"
   ]
  },
  {
   "cell_type": "code",
   "execution_count": 2,
   "id": "57c2cdb1-d785-4317-afce-938f13141085",
   "metadata": {
    "tags": []
   },
   "outputs": [],
   "source": [
    "import sys, os\n",
    "module_path = \"../../..\"\n",
    "sys.path.append(os.path.abspath(module_path))"
   ]
  },
  {
   "cell_type": "markdown",
   "id": "9c4ade56-8dbc-4ded-b355-7e4bcc971e90",
   "metadata": {},
   "source": [
    "## 1. Bedrock Client 생성"
   ]
  },
  {
   "cell_type": "code",
   "execution_count": 3,
   "id": "cc2d877f-e877-48f6-8dd4-239de20e45cd",
   "metadata": {
    "tags": []
   },
   "outputs": [],
   "source": [
    "import json\n",
    "import boto3\n",
    "from pprint import pprint\n",
    "from termcolor import colored\n",
    "from utils import bedrock, print_ww\n",
    "from utils.bedrock import bedrock_info"
   ]
  },
  {
   "cell_type": "markdown",
   "id": "088e6490-c79a-49e4-841c-9fdb91292608",
   "metadata": {},
   "source": [
    "### ---- ⚠️ Un-comment and edit the below lines as needed for your AWS setup ⚠️ ----\n",
    "- os.environ[\"AWS_DEFAULT_REGION\"] = \"<REGION_NAME>\"  # E.g. \"us-east-1\"\n",
    "- os.environ[\"AWS_PROFILE\"] = \"<YOUR_PROFILE>\"\n",
    "- os.environ[\"BEDROCK_ASSUME_ROLE\"] = \"<YOUR_ROLE_ARN>\"  # E.g. \"arn:aws:...\"\n",
    "- os.environ[\"BEDROCK_ENDPOINT_URL\"] = \"<YOUR_ENDPOINT_URL>\"  # E.g. \"https://...\""
   ]
  },
  {
   "cell_type": "code",
   "execution_count": 4,
   "id": "cab9312c-5f61-4730-96c3-5eef54a5f08c",
   "metadata": {
    "tags": []
   },
   "outputs": [
    {
     "name": "stdout",
     "output_type": "stream",
     "text": [
      "Create new client\n",
      "  Using region: None\n",
      "  Using profile: None\n",
      "boto3 Bedrock client successfully created!\n",
      "bedrock-runtime(https://bedrock-runtime.us-east-1.amazonaws.com)\n",
      "\u001b[32m\n",
      "== FM lists ==\u001b[0m\n",
      "{'Claude-Instant-V1': 'anthropic.claude-instant-v1',\n",
      " 'Claude-V1': 'anthropic.claude-v1',\n",
      " 'Claude-V2': 'anthropic.claude-v2',\n",
      " 'Cohere-Embeddings-En': 'cohere.embed-english-v3',\n",
      " 'Cohere-Embeddings-Multilingual': 'cohere.embed-multilingual-v3',\n",
      " 'Command': 'cohere.command-text-v14',\n",
      " 'Command-Light': 'cohere.command-light-text-v14',\n",
      " 'Jurassic-2-Mid': 'ai21.j2-mid-v1',\n",
      " 'Jurassic-2-Ultra': 'ai21.j2-ultra-v1',\n",
      " 'Llama2-13b-Chat': 'meta.llama2-13b-chat-v1',\n",
      " 'Titan-Embeddings-G1': 'amazon.titan-embed-text-v1',\n",
      " 'Titan-Text-G1': 'amazon.titan-text-express-v1',\n",
      " 'Titan-Text-G1-Light': 'amazon.titan-text-lite-v1'}\n"
     ]
    }
   ],
   "source": [
    "boto3_bedrock = bedrock.get_bedrock_client(\n",
    "    assumed_role=os.environ.get(\"BEDROCK_ASSUME_ROLE\", None),\n",
    "    endpoint_url=os.environ.get(\"BEDROCK_ENDPOINT_URL\", None),\n",
    "    region=os.environ.get(\"AWS_DEFAULT_REGION\", None),\n",
    ")\n",
    "\n",
    "aws_region = os.environ.get(\"AWS_DEFAULT_REGION\", None)\n",
    "print (colored(\"\\n== FM lists ==\", \"green\"))\n",
    "pprint (bedrock_info.get_list_fm_models())"
   ]
  },
  {
   "cell_type": "markdown",
   "id": "241a9e34-417a-422f-9f75-cb211b2e70e1",
   "metadata": {
    "tags": []
   },
   "source": [
    "## 2. Titan Embedding 및 LLM 인 Claude-v2 모델 로딩"
   ]
  },
  {
   "cell_type": "markdown",
   "id": "29bf63d2-4110-407c-af06-a45d2fbed4b5",
   "metadata": {},
   "source": [
    "### LLM 로딩 (Claude-v2)"
   ]
  },
  {
   "cell_type": "code",
   "execution_count": 5,
   "id": "9c51443a-04f9-465c-9564-53053eb3e1c2",
   "metadata": {
    "tags": []
   },
   "outputs": [],
   "source": [
    "from langchain.llms.bedrock import Bedrock\n",
    "from langchain.callbacks.streaming_stdout import StreamingStdOutCallbackHandler"
   ]
  },
  {
   "cell_type": "code",
   "execution_count": 6,
   "id": "d09e84e0-b9e1-4b12-8e7a-68f03c5416e5",
   "metadata": {
    "tags": []
   },
   "outputs": [
    {
     "data": {
      "text/plain": [
       "Bedrock(client=<botocore.client.BedrockRuntime object at 0x7f0d6030c790>, model_id='anthropic.claude-v2', model_kwargs={'max_tokens_to_sample': 512}, streaming=True, callbacks=[<langchain.callbacks.streaming_stdout.StreamingStdOutCallbackHandler object at 0x7f0d5fc8b520>])"
      ]
     },
     "execution_count": 6,
     "metadata": {},
     "output_type": "execute_result"
    }
   ],
   "source": [
    "llm_text = Bedrock(\n",
    "    model_id=bedrock_info.get_model_id(model_name=\"Claude-V2\"),\n",
    "    client=boto3_bedrock,\n",
    "    model_kwargs={\n",
    "        \"max_tokens_to_sample\": 512\n",
    "    },\n",
    "    streaming=True,\n",
    "    callbacks=[StreamingStdOutCallbackHandler()]\n",
    ")\n",
    "\n",
    "llm_text"
   ]
  },
  {
   "cell_type": "markdown",
   "id": "3ba2e829-af8f-4e90-b994-59106cdec8d8",
   "metadata": {},
   "source": [
    "### Embedding 모델 선택"
   ]
  },
  {
   "cell_type": "code",
   "execution_count": 7,
   "id": "0b7b8752-d1e3-4f41-ba35-6da42c3785db",
   "metadata": {
    "tags": []
   },
   "outputs": [],
   "source": [
    "from utils.rag import KoSimCSERobertaContentHandler, SagemakerEndpointEmbeddingsJumpStart"
   ]
  },
  {
   "cell_type": "code",
   "execution_count": 8,
   "id": "793b03f7-3186-4969-b76a-98fe56bd5fdc",
   "metadata": {
    "tags": []
   },
   "outputs": [],
   "source": [
    "def get_embedding_model(is_bedrock_embeddings, is_KoSimCSERobert, aws_region, endpont_name=None):\n",
    "    \n",
    "    if is_bedrock_embeddings:\n",
    "        # We will be using the Titan Embeddings Model to generate our Embeddings.\n",
    "        from langchain.embeddings import BedrockEmbeddings\n",
    "        llm_emb = BedrockEmbeddings(\n",
    "            client=boto3_bedrock,\n",
    "            model_id=bedrock_info.get_model_id(\n",
    "                model_name=\"Titan-Embeddings-G1\"\n",
    "            )\n",
    "        )\n",
    "        print(\"Bedrock Embeddings Model Loaded\")\n",
    "\n",
    "    elif is_KoSimCSERobert:\n",
    "        LLMEmbHandler = KoSimCSERobertaContentHandler()\n",
    "        endpoint_name_emb = endpont_name\n",
    "        llm_emb = SagemakerEndpointEmbeddingsJumpStart(\n",
    "            endpoint_name=endpoint_name_emb,\n",
    "            region_name=aws_region,\n",
    "            content_handler=LLMEmbHandler,\n",
    "        )        \n",
    "        print(\"KoSimCSERobert Embeddings Model Loaded\")\n",
    "    else:\n",
    "        llm_emb = None\n",
    "        print(\"No Embedding Model Selected\")\n",
    "    \n",
    "    return llm_emb"
   ]
  },
  {
   "cell_type": "markdown",
   "id": "cd72a6b8-eaf0-4036-a530-3bde5ba988cd",
   "metadata": {},
   "source": [
    "#### [중요] is_KoSimCSERobert == True 일시에 endpoint_name 을 꼭 넣어 주세요."
   ]
  },
  {
   "cell_type": "code",
   "execution_count": 9,
   "id": "f42e032b-8715-432c-ae71-12a889f8ffc0",
   "metadata": {
    "tags": []
   },
   "outputs": [
    {
     "name": "stdout",
     "output_type": "stream",
     "text": [
      "Bedrock Embeddings Model Loaded\n"
     ]
    }
   ],
   "source": [
    "is_bedrock_embeddings = True\n",
    "is_KoSimCSERobert = False\n",
    "aws_region = os.environ.get(\"AWS_DEFAULT_REGION\", None)\n",
    "\n",
    "##############################\n",
    "# Parameters for is_KoSimCSERobert\n",
    "##############################\n",
    "if is_KoSimCSERobert: endpont_name = \"<endpoint-name>\"\n",
    "else: endpont_name = None\n",
    "##############################\n",
    "\n",
    "llm_emb = get_embedding_model(is_bedrock_embeddings, is_KoSimCSERobert, aws_region, endpont_name)   "
   ]
  },
  {
   "cell_type": "markdown",
   "id": "e10b67d5-382e-4715-a841-eb07b8655da8",
   "metadata": {},
   "source": [
    "## 3. Depoly ReRanker model (if needed)"
   ]
  },
  {
   "cell_type": "code",
   "execution_count": 10,
   "id": "9a08a296-41ef-44cb-857b-63d05a8d187c",
   "metadata": {
    "tags": []
   },
   "outputs": [
    {
     "name": "stdout",
     "output_type": "stream",
     "text": [
      "sagemaker.config INFO - Not applying SDK defaults from location: /etc/xdg/sagemaker/config.yaml\n",
      "sagemaker.config INFO - Not applying SDK defaults from location: /home/ec2-user/.config/sagemaker/config.yaml\n"
     ]
    }
   ],
   "source": [
    "import json\n",
    "import sagemaker\n",
    "from sagemaker.huggingface import HuggingFaceModel"
   ]
  },
  {
   "cell_type": "code",
   "execution_count": 11,
   "id": "33dd04a7-8200-49e7-ae69-55a82be199b4",
   "metadata": {
    "tags": []
   },
   "outputs": [],
   "source": [
    "depoly = False"
   ]
  },
  {
   "cell_type": "code",
   "execution_count": 12,
   "id": "9d40e3dd-a19f-4af3-831a-0cfe79e72cb3",
   "metadata": {
    "tags": []
   },
   "outputs": [],
   "source": [
    "if depoly:\n",
    "\n",
    "    try:\n",
    "        role = sagemaker.get_execution_role()\n",
    "    except ValueError:\n",
    "        iam = boto3.client('iam')\n",
    "        role = iam.get_role(RoleName='sagemaker_execution_role')['Role']['Arn']\n",
    "\n",
    "    # Hub Model configuration. https://huggingface.co/models\n",
    "    hub = {\n",
    "        'HF_MODEL_ID':'BAAI/bge-reranker-large',\n",
    "        'HF_TASK':'text-classification'\n",
    "    }\n",
    "\n",
    "    # create Hugging Face Model Class\n",
    "    huggingface_model = HuggingFaceModel(\n",
    "        transformers_version='4.26.0',\n",
    "        pytorch_version='1.13.1',\n",
    "        py_version='py39',\n",
    "        env=hub,\n",
    "        role=role, \n",
    "    )\n",
    "\n",
    "    # deploy model to SageMaker Inference\n",
    "    predictor = huggingface_model.deploy(\n",
    "        initial_instance_count=1, # number of instances\n",
    "        instance_type='ml.g5.xlarge' # instance type\n",
    "    )\n",
    "\n",
    "    print(f'Accept: {predictor.accept}')\n",
    "    print(f'ContentType: {predictor.content_type}')\n",
    "    print(f'Endpoint: {predictor.endpoint}')"
   ]
  },
  {
   "cell_type": "markdown",
   "id": "20e648ef-01ec-4e2f-ba88-7d2510fdb7a6",
   "metadata": {},
   "source": [
    "## 4. Invocation (prediction)"
   ]
  },
  {
   "cell_type": "code",
   "execution_count": 13,
   "id": "114be617-a687-4733-abb9-30394c7ef35f",
   "metadata": {
    "tags": []
   },
   "outputs": [
    {
     "name": "stdout",
     "output_type": "stream",
     "text": [
      "runtime_client: <botocore.client.SageMakerRuntime object at 0x7f0d4c6069e0>\n"
     ]
    }
   ],
   "source": [
    "runtime_client = boto3.Session().client('sagemaker-runtime')\n",
    "print (f'runtime_client: {runtime_client}')"
   ]
  },
  {
   "cell_type": "code",
   "execution_count": 14,
   "id": "26ee5c45-de87-4a2b-bc04-bbc649fcd0c6",
   "metadata": {
    "tags": []
   },
   "outputs": [],
   "source": [
    "#endpoint_name = \"huggingface-pytorch-inference-2023-11-15-04-37-45-120\" # ml.m5.2xlarge\n",
    "endpoint_name = \"huggingface-pytorch-inference-2023-11-15-07-53-21-605\" # ml.g5.xlarge\n",
    "deserializer = \"application/json\""
   ]
  },
  {
   "cell_type": "code",
   "execution_count": 15,
   "id": "bd6288ed-b4fa-466f-9e2b-57484b827b0a",
   "metadata": {
    "tags": []
   },
   "outputs": [],
   "source": [
    "payload = json.dumps(\n",
    "    {\n",
    "        \"inputs\": [\n",
    "            {\"text\": \"I hate you\", \"text_pair\": \"I don't like you\"},\n",
    "            {\"text\": \"He hates you\", \"text_pair\": \"He like you\"}\n",
    "        ]\n",
    "    }\n",
    ")"
   ]
  },
  {
   "cell_type": "code",
   "execution_count": 16,
   "id": "c1eebe88-8b92-4e81-a103-b5a5d7a91bb3",
   "metadata": {
    "tags": []
   },
   "outputs": [
    {
     "name": "stdout",
     "output_type": "stream",
     "text": [
      "Response: [{'label': 'LABEL_0', 'score': 0.999653697013855}, {'label': 'LABEL_0', 'score': 0.025255175307393074}]\n",
      "CPU times: user 20.9 ms, sys: 303 µs, total: 21.2 ms\n",
      "Wall time: 92.4 ms\n"
     ]
    }
   ],
   "source": [
    "%%time\n",
    "response = runtime_client.invoke_endpoint(\n",
    "    EndpointName=endpoint_name,\n",
    "    ContentType=\"application/json\",\n",
    "    Accept=deserializer,\n",
    "    Body=payload\n",
    ")\n",
    "## deserialization\n",
    "out = json.loads(response['Body'].read().decode()) ## for json\n",
    "print (f'Response: {out}')"
   ]
  },
  {
   "cell_type": "markdown",
   "id": "7e432237-b9b5-4be3-aa0c-c30eeca6f480",
   "metadata": {},
   "source": [
    "## 5. LangChainmOpenSearch VectorStore 정의\n",
    "### 선수 조건\n",
    "- 01_preprocess_docs/02_load_docs_opensearch.ipynb를 통해서 OpenSearch Index 가 생성이 되어 있어야 합니다.\n",
    "#### [중요] 아래에 aws parameter store 에 아래 인증정보가 먼저 입력되어 있어야 합니다.\n",
    "- 01_preprocess_docs/01_parameter_store_example.ipynb 참고"
   ]
  },
  {
   "cell_type": "code",
   "execution_count": 17,
   "id": "635ffe33-b1b1-49f7-ae14-07b782d30a63",
   "metadata": {
    "tags": []
   },
   "outputs": [],
   "source": [
    "from utils.proc_docs import get_parameter"
   ]
  },
  {
   "cell_type": "code",
   "execution_count": 18,
   "id": "42d192b6-68ce-465e-9fa7-04b5201f4453",
   "metadata": {
    "tags": []
   },
   "outputs": [],
   "source": [
    "ssm = boto3.client(\"ssm\", \"us-east-1\")\n",
    "\n",
    "opensearch_domain_endpoint = get_parameter(\n",
    "    boto3_clinet = ssm,\n",
    "    parameter_name = 'knox_opensearch_domain_endpoint',\n",
    ")\n",
    "\n",
    "opensearch_user_id = get_parameter(\n",
    "    boto3_clinet = ssm,\n",
    "    parameter_name = 'knox_opensearch_userid',\n",
    ")\n",
    "\n",
    "opensearch_user_password = get_parameter(\n",
    "    boto3_clinet = ssm,\n",
    "    parameter_name = 'knox_opensearch_password',\n",
    ")"
   ]
  },
  {
   "cell_type": "code",
   "execution_count": 19,
   "id": "fc7866fd-fd9c-4b41-b600-a91e43edfe4d",
   "metadata": {
    "tags": []
   },
   "outputs": [],
   "source": [
    "opensearch_domain_endpoint = opensearch_domain_endpoint\n",
    "rag_user_name = opensearch_user_id\n",
    "rag_user_password = opensearch_user_password\n",
    "\n",
    "http_auth = (rag_user_name, rag_user_password) # Master username, Master password"
   ]
  },
  {
   "cell_type": "markdown",
   "id": "161a900e-effc-4d7f-a179-b6c00eac03ad",
   "metadata": {
    "tags": []
   },
   "source": [
    "### Index 이름 셋팅\n",
    "- 이전 노트북 01_preprocess_docs/02_load_docs_opensearch.ipynb를 통해서 생성된 OpenSearch Index name 입력"
   ]
  },
  {
   "cell_type": "code",
   "execution_count": 20,
   "id": "d5d9b5eb-052e-4e84-846b-c5385e853ba4",
   "metadata": {
    "tags": []
   },
   "outputs": [],
   "source": [
    "index_name = \"genai-demo-knox-v1\""
   ]
  },
  {
   "cell_type": "markdown",
   "id": "482f5785-b88d-44fa-a603-080e4bd734a6",
   "metadata": {},
   "source": [
    "### OpenSearch Client 생성"
   ]
  },
  {
   "cell_type": "code",
   "execution_count": 21,
   "id": "968b7502-5799-4702-bc17-959e88c330a2",
   "metadata": {
    "tags": []
   },
   "outputs": [],
   "source": [
    "from utils.opensearch import opensearch_utils"
   ]
  },
  {
   "cell_type": "code",
   "execution_count": 22,
   "id": "6ceb46a1-e425-4f7e-9319-793b55abb938",
   "metadata": {
    "tags": []
   },
   "outputs": [],
   "source": [
    "os_client = opensearch_utils.create_aws_opensearch_client(\n",
    "    aws_region,\n",
    "    opensearch_domain_endpoint,\n",
    "    http_auth\n",
    ")"
   ]
  },
  {
   "cell_type": "markdown",
   "id": "98bde525-506d-4667-9fc3-bc06dcaba93a",
   "metadata": {
    "tags": []
   },
   "source": [
    "### LangChain OpenSearch VectorStore 생성"
   ]
  },
  {
   "cell_type": "code",
   "execution_count": 23,
   "id": "7e13238f-4ff7-4f7f-b83e-04b4563bd90a",
   "metadata": {
    "tags": []
   },
   "outputs": [],
   "source": [
    "from langchain.vectorstores import OpenSearchVectorSearch"
   ]
  },
  {
   "cell_type": "code",
   "execution_count": 24,
   "id": "dd444329-cdbe-4843-9092-791840138a3a",
   "metadata": {
    "tags": []
   },
   "outputs": [
    {
     "data": {
      "text/plain": [
       "<langchain.vectorstores.opensearch_vector_search.OpenSearchVectorSearch at 0x7f0c69d63010>"
      ]
     },
     "execution_count": 24,
     "metadata": {},
     "output_type": "execute_result"
    }
   ],
   "source": [
    "vector_db = OpenSearchVectorSearch(\n",
    "    index_name=index_name,\n",
    "    opensearch_url=opensearch_domain_endpoint,\n",
    "    embedding_function=llm_emb,\n",
    "    http_auth=http_auth, # http_auth\n",
    "    is_aoss =False,\n",
    "    engine=\"faiss\",\n",
    "    space_type=\"l2\"\n",
    ")\n",
    "vector_db"
   ]
  },
  {
   "cell_type": "markdown",
   "id": "b41d685c-7590-42fd-9f8f-339b2ff197f5",
   "metadata": {},
   "source": [
    "# 아래수정"
   ]
  },
  {
   "cell_type": "markdown",
   "id": "a5084376-7523-4cf9-9123-adc4ae79f66d",
   "metadata": {
    "tags": []
   },
   "source": [
    "## 6. Retriever based on Hybrid Search + HyDE + ReRanker\n",
    "- LangChain에서 제공하는 **BaseRetriever** 클래스를 상속받아 **Custom Retriever**를 정의 할 수 있습니다.\n",
    "- Hybrid-Search에 대한 자세한 내용는 **\"01_rag_hybrid_search.ipyno\"** 에서 확인 가능합니다.\n",
    "- [RAG-Fusion](https://towardsdatascience.com/forget-rag-the-future-is-rag-fusion-1147298d8ad1)\n",
    "![rag-fusion.png](../../../imgs/rag-fusion.png)"
   ]
  },
  {
   "cell_type": "code",
   "execution_count": 25,
   "id": "5db8e470-63a9-4c3d-94c8-1d270a6da822",
   "metadata": {
    "tags": []
   },
   "outputs": [],
   "source": [
    "from utils.rag import OpenSearchHybridSearchRetriever"
   ]
  },
  {
   "cell_type": "markdown",
   "id": "d7feac2f-21a2-4756-b989-66c180bb1e79",
   "metadata": {},
   "source": [
    "- 필터 설정 예시\n",
    "- filter=[ <BR>\n",
    "    　{\"term\": {\"metadata.[**your_metadata_attribute_name**]\": \"**your first keyword**\"}}, <BR>\n",
    "    　{\"term\": {\"metadata.[**your_metadata_attribute_name**]\": \"**your second keyword**\"}},<BR>\n",
    "]"
   ]
  },
  {
   "cell_type": "code",
   "execution_count": 26,
   "id": "49c7e131-294f-4ff8-9331-989709c7079c",
   "metadata": {
    "tags": []
   },
   "outputs": [],
   "source": [
    "opensearch_hybrid_retriever = OpenSearchHybridSearchRetriever(\n",
    "    os_client=os_client,\n",
    "    vector_db=vector_db,\n",
    "    index_name=index_name,\n",
    "\n",
    "    # option for lexical\n",
    "    minimum_should_match=0,\n",
    "    filter=[],\n",
    "\n",
    "    # option for search\n",
    "    fusion_algorithm=\"RRF\", # [\"RRF\", \"simple_weighted\"], rank fusion 방식 정의\n",
    "    ensemble_weights=[.5, .5], # [for lexical, for semantic], Lexical, Semantic search 결과에 대한 최종 반영 비율 정의\n",
    "    reranker=True, # enable reranker with reranker model\n",
    "    reranker_endpoint_name=endpoint_name, # endpoint name for reranking model\n",
    "    hyde=True, # enable hyde\n",
    "    hyde_query=[\"web_search\"], # query type in hyde \n",
    "    llm_text=llm_text, # llm for query augmentation in both rag_fusion and HyDE\n",
    "\n",
    "    # option for async search\n",
    "    async_mode=True,\n",
    "\n",
    "    # option for output\n",
    "    k=5, # 최종 Document 수 정의\n",
    "    verbose=True,\n",
    ")"
   ]
  },
  {
   "cell_type": "markdown",
   "id": "cfb26835-ad98-41c5-9e9d-2453642e3551",
   "metadata": {},
   "source": [
    "### Retrieval example\n",
    "- default search"
   ]
  },
  {
   "cell_type": "code",
   "execution_count": 27,
   "id": "9c06e89f-79de-413c-ba9c-a188ca3fe2d0",
   "metadata": {
    "tags": []
   },
   "outputs": [],
   "source": [
    "from utils.rag import show_context_used"
   ]
  },
  {
   "cell_type": "code",
   "execution_count": 28,
   "id": "fe3bfee3-dac1-45b9-8795-03e36c1632a9",
   "metadata": {
    "tags": []
   },
   "outputs": [],
   "source": [
    "query = \"what is verify DM\""
   ]
  },
  {
   "cell_type": "code",
   "execution_count": 29,
   "id": "05b13e5e-4a66-4dc8-b18c-42a6e3bd6037",
   "metadata": {
    "tags": []
   },
   "outputs": [
    {
     "name": "stdout",
     "output_type": "stream",
     "text": [
      " Here is a concise passage answering the question \"what is verify DM\":\n",
      "\n",
      "Verify DM is a process used on social media platforms like Twitter to verify the authenticity of accounts belonging to public figures, celebrities, businesses, and organizations. When an account gets verified, it receives a blue checkmark icon next to the account name, indicating that the social media platform has confirmed the identity of the account holder. The verification process typically requires the account owner to provide identifying documents and information to prove they are who they claim to be. Verification helps distinguish official accounts from impersonators or fake accounts, allowing users to be confident that public figures and organizations they interact with online are legitimate. Overall, account verification aims to limit misinformation by authenticating influential users on social media.===== HyDE Answers =====\n",
      "['what is verify DM', ' Here is a concise passage answering the question \"what is verify DM\":\\n\\nVerify DM is a process used on social media platforms like Twitter to verify the authenticity of accounts belonging to public figures, celebrities, businesses, and organizations. When an account gets verified, it receives a blue checkmark icon next to the account name, indicating that the social media platform has confirmed the identity of the account holder. The verification process typically requires the account owner to provide identifying documents and information to prove they are who they claim to be. Verification helps distinguish official accounts from impersonators or fake accounts, allowing users to be confident that public figures and organizations they interact with online are legitimate. Overall, account verification aims to limit misinformation by authenticating influential users on social media.']\n",
      "##############################\n",
      "async_mode\n",
      "##############################\n",
      "True\n",
      "##############################\n",
      "reranker\n",
      "##############################\n",
      "True\n",
      "##############################\n",
      "rag_fusion\n",
      "##############################\n",
      "False\n",
      "##############################\n",
      "HyDE\n",
      "##############################\n",
      "True\n",
      "##############################\n",
      "similar_docs_semantic\n",
      "##############################\n",
      "[(Document(page_content='With stock Android, DM-Verity uses a hash tree to conduct integrity checks of individual data blocks.\\nThe hash root tree is signed by an RSA key.\\nWhenever a data block is read into memory, DM-Verity computes the hash of the block, and then uses it, along with the other hashes on the path to the root to compute the root hash.\\nIf this computed root hash matches the signed version, the block is considered good.\\nOtherwise, unauthorized modification of the block is detected, and the access to the data block is restricted.', metadata={'tag': 'para', 'row': 137}), 0.01639344262295082), (Document(page_content='EMMs can prove their devices are running a trusted environment using TIMA attestations.\\nTIMA attestation data contains boot component cryptographic hashes and security information.\\nData is signed using a key derived from the DRK, which proves that the attestation data originated from the TrustZone Secure World.', metadata={'tag': 'para', 'row': 65}), 0.016001024065540194), (Document(page_content=\"An attestation message cannot be forged, since it's signed using the TIMA Attestation Key (and traceable to Samsung’s root key).\\nEach Samsung device supporting TIMA attestation has a unique RSA key pair, called the (DRK).\\nThe DRK is generated during manufacture and is traceable to Samsung's root key using X.509 certificates (stored in TrustZone).\\nThe remote server can verify message integrity using Samsung's root key.\\nThe signature includes a server-generated cryptographic nonce (a random number used only once) to ensure an attacker cannot replay old valid attestation messages on an already compromised device.\", metadata={'tag': 'para', 'row': 142}), 0.016001024065540194), (Document(page_content='Because the DRK is device-unique, it can be used to tie data to a device through cryptographic signatures.\\nThe DRK is not used directly to sign data; instead, signing keys are derived from the DRK.\\nThe TIMA attestation data, proving the device is in a trusted state, is signed using the Attestation Key, which is itself signed by the DRK.\\nThe DRK signature proves attestation data originated from the TrustZone Secure World on a Samsung device.\\nNote that while the DRK is not stored directly in hardware, it is an important part of the root of trust, as it derives other signing keys, and is protected by both the DUHK and TrustZone Secure World.', metadata={'tag': 'para', 'row': 95}), 0.015504807692307693), (Document(page_content=\"\\uf09f RKP actively prevents kernel code modi cations \\uf09f PKM periodic kernal checks for code integrity \\uf09f DM-Verity to ensure application and data integrity on the partition \\uf09f Trusted Boot measures each software component during boottime and securely stores the cryptographic hash of the next component in TrustZone memory before loading it \\uf09f Sensitive Data Protection APIs are available for apps in Managed Pro les.\\nThe native email app enables SDP once it's installed inside Managed Pro les.\", metadata={'tag': 'para', 'row': 190}), 0.0078125), (Document(page_content=\"In a trusted environment, sensitive or enterprise-critical functionality is only enabled once the device is in an allowed state.\\nIn this context, refers to the security-relevant software and con gurations on the device.\\nFor example, parts of state considered by Knox include the bootloaders, kernel, TrustZone, and numerous security policy con gurations.\\nFurthermore, the trusted environment allows for, a process where any change is securely validated by a set of proofs.\\nThird parties can then inspect these proofs to decide if the device state meets their security requirements.\\nA device's trusted environment is rooted in hardware when its security is based on the prevention of physical tampering.\\nWhy is it important to root trust in device hardware?\\nKnox designers are aware operating system security has historically been trusted to privileged system software (mainly the OS kernel).\\nHowever, in the last two decades, attackers have become more successful at exploiting kernel aws. Other mechanisms such as heavyweight virtual machines or special (BIOS) checks have been implemented and circumvented.\\nThe Knox design recognizes the single best defense against a full-system compromise is to tie system self-checks to a secret password maintained by secure hardware and out of the reach of any software-based or physically present adversary.\", metadata={'tag': 'para', 'row': 24}), 0.007692307692307693), (Document(page_content='TIMA CCM permits the storage and retrieval of digital certificates, as well as encryption, decryption, signing, and verification in a manner similar to Smartcard functions.\\nThe certificates and associated keys are Knox encrypted with a device-unique hardware key that can only be decrypted from code running within TrustZone.', metadata={'tag': 'para', 'row': 162}), 0.007575757575757576)]\n",
      "##############################\n",
      "similar_docs_keyword\n",
      "##############################\n",
      "[(Document(page_content='(RKP), (PKM), DM-Verity', metadata={'tag': 'para', 'row': 33, 'id': '7a479b77-c2d4-4e40-9cdb-d04db547ecd8'}), 1.0), (Document(page_content='With stock Android, DM-Verity uses a hash tree to conduct integrity checks of individual data blocks.\\nThe hash root tree is signed by an RSA key.\\nWhenever a data block is read into memory, DM-Verity computes the hash of the block, and then uses it, along with the other hashes on the path to the root to compute the root hash.\\nIf this computed root hash matches the signed version, the block is considered good.\\nOtherwise, unauthorized modification of the block is detected, and the access to the data block is restricted.', metadata={'tag': 'para', 'row': 137, 'id': '66a2c9bd-ca18-40b7-bec8-92bac1c35f00'}), 0.9957275988288381), (Document(page_content=\"Samsung Knox has a dedicated team to help determine an enterprises' deployment needs and prepare custom Knox avors if you enterprise requires customizations beyond what is oﬀ ered by your EMM.\", metadata={'tag': 'para', 'row': 66, 'id': '7792a6cb-349e-4b4f-a4b5-717f7406535c'}), 0.9456644673886995), (Document(page_content='Bootloader ROM The (PBL) is the rst piece of code to run during the boot process.\\nThe PBL is trusted to measure and verify the boot chain (see the sections on Secure Boot and TIMA Trusted Boot).\\nTo prevent tampering, the PBL is kept in secure hardware (ROM).\\nThe device hardware loads and runs the PBL from ROM at boot, and the PBL starts the Secure and Trusted Boot processes.', metadata={'tag': 'para', 'row': 93, 'id': '448b6d81-4e4c-4274-9093-081f04cd06b9'}), 0.9234634392944387), (Document(page_content='Knox’s DM-Verity implementation diﬀ ers from stock Android in supporting file-based (FOTA) software updates.\\nThe Knox approach is easier to support with existing infrastructure than the stock block-based approach.', metadata={'tag': 'para', 'row': 138, 'id': '9877a97c-4404-4cfe-82e4-9a292034c25e'}), 0.9226363851988026), (Document(page_content='The kernel is not the only attractive target for malware and malicious users.\\nThere are large numbers of other code objects and configurations that can be used by malware to become persistent, and restart each time the device restarts.\\nKnox prevents such modi cations by integrating Google’s DM-Verity, a kernel module that verifies the integrity of applications and data stored on the critical system partition.\\nIf a malicious process or system partition modification is detected, DM-Verity flags the modification the next time the data is read, and blocks any attempt to access the modi ed data.', metadata={'tag': 'para', 'row': 49, 'id': '1a235e45-d91a-4797-b1c9-7f8910b0c37d'}), 0.9131915908338724), (Document(page_content=\"Both Secure Boot and Trusted Boot have their trust rooted in hardware.\\nThe first piece of software loaded is the primary bootloader, which resides in hardware-protected (ROM).\\nThe Samsung Secure Boot Key is the cryptographic key used to verify signatures, and is also stored in the device's hardware fuses.\", metadata={'tag': 'para', 'row': 47, 'id': 'f613e920-148f-4d48-8d4a-1470c21d4d0b'}), 0.8803634472471978)]\n",
      "##############################\n",
      "similar_docs\n",
      "##############################\n",
      "[(Document(page_content='With stock Android, DM-Verity uses a hash tree to conduct integrity checks of individual data blocks.\\nThe hash root tree is signed by an RSA key.\\nWhenever a data block is read into memory, DM-Verity computes the hash of the block, and then uses it, along with the other hashes on the path to the root to compute the root hash.\\nIf this computed root hash matches the signed version, the block is considered good.\\nOtherwise, unauthorized modification of the block is detected, and the access to the data block is restricted.', metadata={'tag': 'para', 'row': 137, 'id': '66a2c9bd-ca18-40b7-bec8-92bac1c35f00'}), 0.5492982864379883), (Document(page_content='(RKP), (PKM), DM-Verity', metadata={'tag': 'para', 'row': 33, 'id': '7a479b77-c2d4-4e40-9cdb-d04db547ecd8'}), 0.026328979060053825), (Document(page_content=\"An attestation message cannot be forged, since it's signed using the TIMA Attestation Key (and traceable to Samsung’s root key).\\nEach Samsung device supporting TIMA attestation has a unique RSA key pair, called the (DRK).\\nThe DRK is generated during manufacture and is traceable to Samsung's root key using X.509 certificates (stored in TrustZone).\\nThe remote server can verify message integrity using Samsung's root key.\\nThe signature includes a server-generated cryptographic nonce (a random number used only once) to ensure an attacker cannot replay old valid attestation messages on an already compromised device.\", metadata={'tag': 'para', 'row': 142}), 0.0001333815889665857), (Document(page_content='Bootloader ROM The (PBL) is the rst piece of code to run during the boot process.\\nThe PBL is trusted to measure and verify the boot chain (see the sections on Secure Boot and TIMA Trusted Boot).\\nTo prevent tampering, the PBL is kept in secure hardware (ROM).\\nThe device hardware loads and runs the PBL from ROM at boot, and the PBL starts the Secure and Trusted Boot processes.', metadata={'tag': 'para', 'row': 93, 'id': '448b6d81-4e4c-4274-9093-081f04cd06b9'}), 0.00010686270252335817), (Document(page_content='Because the DRK is device-unique, it can be used to tie data to a device through cryptographic signatures.\\nThe DRK is not used directly to sign data; instead, signing keys are derived from the DRK.\\nThe TIMA attestation data, proving the device is in a trusted state, is signed using the Attestation Key, which is itself signed by the DRK.\\nThe DRK signature proves attestation data originated from the TrustZone Secure World on a Samsung device.\\nNote that while the DRK is not stored directly in hardware, it is an important part of the root of trust, as it derives other signing keys, and is protected by both the DUHK and TrustZone Secure World.', metadata={'tag': 'para', 'row': 95}), 9.046091872733086e-05)]\n",
      "\n",
      "==========  Results  ==========\n",
      "\n",
      "1. question: what is verify DM\n",
      "2. # documents: 5\n",
      "3. Documents: \n",
      "\n",
      "-----------------------------------------------\n",
      "1. Chunk: 522 Characters\n",
      "-----------------------------------------------\n",
      "With stock Android, DM-Verity uses a hash tree to conduct integrity checks of individual data\n",
      "blocks.\n",
      "The hash root tree is signed by an RSA key.\n",
      "Whenever a data block is read into memory, DM-Verity computes the hash of the block, and then uses\n",
      "it, along with the other hashes on the path to the root to compute the root hash.\n",
      "If this computed root hash matches the signed version, the block is considered good.\n",
      "Otherwise, unauthorized modification of the block is detected, and the access to the data block is\n",
      "restricted.\n",
      "metadata:\n",
      " {'tag': 'para', 'row': 137, 'id': '66a2c9bd-ca18-40b7-bec8-92bac1c35f00'}\n",
      "-----------------------------------------------\n",
      "2. Chunk: 23 Characters\n",
      "-----------------------------------------------\n",
      "(RKP), (PKM), DM-Verity\n",
      "metadata:\n",
      " {'tag': 'para', 'row': 33, 'id': '7a479b77-c2d4-4e40-9cdb-d04db547ecd8'}\n",
      "-----------------------------------------------\n",
      "3. Chunk: 617 Characters\n",
      "-----------------------------------------------\n",
      "An attestation message cannot be forged, since it's signed using the TIMA Attestation Key (and\n",
      "traceable to Samsung’s root key).\n",
      "Each Samsung device supporting TIMA attestation has a unique RSA key pair, called the (DRK).\n",
      "The DRK is generated during manufacture and is traceable to Samsung's root key using X.509\n",
      "certificates (stored in TrustZone).\n",
      "The remote server can verify message integrity using Samsung's root key.\n",
      "The signature includes a server-generated cryptographic nonce (a random number used only once) to\n",
      "ensure an attacker cannot replay old valid attestation messages on an already compromised device.\n",
      "metadata:\n",
      " {'tag': 'para', 'row': 142}\n",
      "-----------------------------------------------\n",
      "4. Chunk: 377 Characters\n",
      "-----------------------------------------------\n",
      "Bootloader ROM The (PBL) is the rst piece of code to run during the boot process.\n",
      "The PBL is trusted to measure and verify the boot chain (see the sections on Secure Boot and TIMA\n",
      "Trusted Boot).\n",
      "To prevent tampering, the PBL is kept in secure hardware (ROM).\n",
      "The device hardware loads and runs the PBL from ROM at boot, and the PBL starts the Secure and\n",
      "Trusted Boot processes.\n",
      "metadata:\n",
      " {'tag': 'para', 'row': 93, 'id': '448b6d81-4e4c-4274-9093-081f04cd06b9'}\n",
      "-----------------------------------------------\n",
      "5. Chunk: 646 Characters\n",
      "-----------------------------------------------\n",
      "Because the DRK is device-unique, it can be used to tie data to a device through cryptographic\n",
      "signatures.\n",
      "The DRK is not used directly to sign data; instead, signing keys are derived from the DRK.\n",
      "The TIMA attestation data, proving the device is in a trusted state, is signed using the Attestation\n",
      "Key, which is itself signed by the DRK.\n",
      "The DRK signature proves attestation data originated from the TrustZone Secure World on a Samsung\n",
      "device.\n",
      "Note that while the DRK is not stored directly in hardware, it is an important part of the root of\n",
      "trust, as it derives other signing keys, and is protected by both the DUHK and TrustZone Secure\n",
      "World.\n",
      "metadata:\n",
      " {'tag': 'para', 'row': 95}\n",
      "CPU times: user 421 ms, sys: 53.6 ms, total: 475 ms\n",
      "Wall time: 14.9 s\n"
     ]
    }
   ],
   "source": [
    "%%time\n",
    "search_hybrid_result = opensearch_hybrid_retriever.get_relevant_documents(query)\n",
    "\n",
    "print(\"\\n==========  Results  ==========\\n\")\n",
    "print(f'1. question: {query}')\n",
    "print (f'2. # documents: {len(search_hybrid_result)}')\n",
    "print(\"3. Documents: \\n\")\n",
    "\n",
    "show_context_used(search_hybrid_result)"
   ]
  },
  {
   "cell_type": "markdown",
   "id": "c09221b5-4a6c-463b-9769-35cc8362e33c",
   "metadata": {},
   "source": [
    "- update parameters"
   ]
  },
  {
   "cell_type": "code",
   "execution_count": 30,
   "id": "b7bb4672-d2b8-4b29-b71c-b06d84bcd470",
   "metadata": {
    "tags": []
   },
   "outputs": [],
   "source": [
    "opensearch_hybrid_retriever.update_search_params(\n",
    "    k=10,\n",
    "    minimum_should_match=30,\n",
    "    filter=[],\n",
    "    reranker=True,\n",
    "    reranker_endpoint_name=endpoint_name,\n",
    "    hyde=True, # enable hyde\n",
    "    hyde_query=[\"web_search\"], # query type in hyde \n",
    "    llm_text=llm_text, # llm for query augmentation in rag_fusion\n",
    "    verbose=False\n",
    ")"
   ]
  },
  {
   "cell_type": "code",
   "execution_count": 31,
   "id": "1b9b45b1-cb92-4954-8087-143a550350c8",
   "metadata": {
    "tags": []
   },
   "outputs": [
    {
     "name": "stdout",
     "output_type": "stream",
     "text": [
      " Here is a concise passage answering how to verify a direct message (DM):\n",
      "\n",
      "To verify a direct message (DM) on social media or messaging platforms, there are a few steps you can take:\n",
      "\n",
      "- Check the sender's profile and handle to confirm it matches the person or account you think sent the DM. Verify it's not an impersonator account.\n",
      "\n",
      "- Look for context clues in the message content that reflect your previous conversations or relationship with the sender. This helps confirm the message is from someone you actually know.\n",
      "\n",
      "- If you're still uncertain, reply to the message asking the sender to confirm their identity. Ask a question only the real sender would know. \n",
      "\n",
      "- You can also try contacting the sender through a different platform to verify they sent the initial DM. \n",
      "\n",
      "- For high-risk conversations, consider voice or video calling the sender to fully authenticate their identity. \n",
      "\n",
      "- Enable DM privacy settings and be wary of opening DMs from accounts you can't verify are legitimate. Ignore or report suspicious messages.\n",
      "==========  Results  ==========\n",
      "\n",
      "1. question: how to vefify DM\n",
      "2. # documents: 10\n",
      "3. Documents: \n",
      "\n",
      "-----------------------------------------------\n",
      "1. Chunk: 597 Characters\n",
      "-----------------------------------------------\n",
      "The kernel is not the only attractive target for malware and malicious users.\n",
      "There are large numbers of other code objects and configurations that can be used by malware to\n",
      "become persistent, and restart each time the device restarts.\n",
      "Knox prevents such modi cations by integrating Google’s DM-Verity, a kernel module that verifies the\n",
      "integrity of applications and data stored on the critical system partition.\n",
      "If a malicious process or system partition modification is detected, DM-Verity flags the\n",
      "modification the next time the data is read, and blocks any attempt to access the modi ed data.\n",
      "metadata:\n",
      " {'tag': 'para', 'row': 49, 'id': '1a235e45-d91a-4797-b1c9-7f8910b0c37d'}\n",
      "-----------------------------------------------\n",
      "2. Chunk: 522 Characters\n",
      "-----------------------------------------------\n",
      "With stock Android, DM-Verity uses a hash tree to conduct integrity checks of individual data\n",
      "blocks.\n",
      "The hash root tree is signed by an RSA key.\n",
      "Whenever a data block is read into memory, DM-Verity computes the hash of the block, and then uses\n",
      "it, along with the other hashes on the path to the root to compute the root hash.\n",
      "If this computed root hash matches the signed version, the block is considered good.\n",
      "Otherwise, unauthorized modification of the block is detected, and the access to the data block is\n",
      "restricted.\n",
      "metadata:\n",
      " {'tag': 'para', 'row': 137, 'id': '66a2c9bd-ca18-40b7-bec8-92bac1c35f00'}\n",
      "-----------------------------------------------\n",
      "3. Chunk: 23 Characters\n",
      "-----------------------------------------------\n",
      "(RKP), (PKM), DM-Verity\n",
      "metadata:\n",
      " {'tag': 'para', 'row': 33, 'id': '7a479b77-c2d4-4e40-9cdb-d04db547ecd8'}\n",
      "-----------------------------------------------\n",
      "4. Chunk: 253 Characters\n",
      "-----------------------------------------------\n",
      "To prevent unauthorized modification to the system partition, Knox integrates a customized DM-Verity\n",
      "implementation that's a Linux/Android kernel module that performs integrity checks on all data\n",
      "blocks contained in a block device (such as a partition).\n",
      "metadata:\n",
      " {'tag': 'para', 'row': 136, 'id': '287aaedb-67e9-49e6-82e7-07c98c09a733'}\n",
      "-----------------------------------------------\n",
      "5. Chunk: 698 Characters\n",
      "-----------------------------------------------\n",
      "DM-Verity Attackers may intend to expand their exploits beyond modifying bootloader or kernel\n",
      "images.\n",
      "There are other software binaries and configuration files in storage which provide malware\n",
      "persistence.\n",
      "Persistent malware is able to restart itself each time the system is rebooted.\n",
      "The malware restarts by modifying programs or con gurations on the system partition that contain the\n",
      "system binaries, Android framework, and configuration files that were started during boot.\n",
      "Malware can survive system reboots once inserted in the boot path.\n",
      "Additional problems can arise from tampering with system data and configurations, such as the\n",
      "granting of excessive privileges to vulnerable applications.\n",
      "metadata:\n",
      " {'tag': 'para', 'row': 135, 'id': 'ff7037e3-94cd-41f0-9b7a-ea055dab8422'}\n",
      "-----------------------------------------------\n",
      "6. Chunk: 486 Characters\n",
      "-----------------------------------------------\n",
      " RKP actively prevents kernel code modi cations  PKM periodic kernal checks for code integrity \n",
      "DM-Verity to ensure application and data integrity on the partition  Trusted Boot measures each\n",
      "software component during boottime and securely stores the cryptographic hash of the next component\n",
      "in TrustZone memory before loading it  Sensitive Data Protection APIs are available for apps in\n",
      "Managed Pro les.\n",
      "The native email app enables SDP once it's installed inside Managed Pro les.\n",
      "metadata:\n",
      " {'tag': 'para', 'row': 190, 'id': '7fabf936-04ef-4e1b-b3c5-1e84e57482b1'}\n",
      "-----------------------------------------------\n",
      "7. Chunk: 213 Characters\n",
      "-----------------------------------------------\n",
      "Knox’s DM-Verity implementation diﬀ ers from stock Android in supporting file-based (FOTA) software\n",
      "updates.\n",
      "The Knox approach is easier to support with existing infrastructure than the stock block-based\n",
      "approach.\n",
      "metadata:\n",
      " {'tag': 'para', 'row': 138, 'id': '9877a97c-4404-4cfe-82e4-9a292034c25e'}\n",
      "-----------------------------------------------\n",
      "8. Chunk: 617 Characters\n",
      "-----------------------------------------------\n",
      "An attestation message cannot be forged, since it's signed using the TIMA Attestation Key (and\n",
      "traceable to Samsung’s root key).\n",
      "Each Samsung device supporting TIMA attestation has a unique RSA key pair, called the (DRK).\n",
      "The DRK is generated during manufacture and is traceable to Samsung's root key using X.509\n",
      "certificates (stored in TrustZone).\n",
      "The remote server can verify message integrity using Samsung's root key.\n",
      "The signature includes a server-generated cryptographic nonce (a random number used only once) to\n",
      "ensure an attacker cannot replay old valid attestation messages on an already compromised device.\n",
      "metadata:\n",
      " {'tag': 'para', 'row': 142}\n",
      "-----------------------------------------------\n",
      "9. Chunk: 646 Characters\n",
      "-----------------------------------------------\n",
      "Because the DRK is device-unique, it can be used to tie data to a device through cryptographic\n",
      "signatures.\n",
      "The DRK is not used directly to sign data; instead, signing keys are derived from the DRK.\n",
      "The TIMA attestation data, proving the device is in a trusted state, is signed using the Attestation\n",
      "Key, which is itself signed by the DRK.\n",
      "The DRK signature proves attestation data originated from the TrustZone Secure World on a Samsung\n",
      "device.\n",
      "Note that while the DRK is not stored directly in hardware, it is an important part of the root of\n",
      "trust, as it derives other signing keys, and is protected by both the DUHK and TrustZone Secure\n",
      "World.\n",
      "metadata:\n",
      " {'tag': 'para', 'row': 95}\n",
      "-----------------------------------------------\n",
      "10. Chunk: 96 Characters\n",
      "-----------------------------------------------\n",
      "Figure 2 on the next page shows how Knox builds, maintains, and attests its trusted environment.\n",
      "metadata:\n",
      " {'tag': 'para', 'row': 40, 'id': '02517a3b-2146-45b7-a326-aa912d2fd14f'}\n"
     ]
    }
   ],
   "source": [
    "query = \"how to vefify DM\"\n",
    "search_hybrid_result = opensearch_hybrid_retriever.get_relevant_documents(query)\n",
    "\n",
    "print(\"\\n==========  Results  ==========\\n\")\n",
    "print(f'1. question: {query}')\n",
    "print(f'2. # documents: {len(search_hybrid_result)}')\n",
    "print(\"3. Documents: \\n\")\n",
    "\n",
    "show_context_used(search_hybrid_result)"
   ]
  },
  {
   "cell_type": "markdown",
   "id": "a981abe7-5208-48f5-a9cc-8c557e9941ca",
   "metadata": {},
   "source": [
    "## 5. RAG using RetrievalQA powered by LangChain"
   ]
  },
  {
   "cell_type": "code",
   "execution_count": 32,
   "id": "08cf6d2b-451b-499c-aec2-bb6f5abafbb0",
   "metadata": {
    "tags": []
   },
   "outputs": [],
   "source": [
    "from utils.rag import run_RetrievalQA\n",
    "from langchain.prompts import PromptTemplate"
   ]
  },
  {
   "cell_type": "markdown",
   "id": "b490df1f-8113-4dd1-a578-a3e1a6918fde",
   "metadata": {
    "tags": []
   },
   "source": [
    "### Prompting\n",
    "- [TIP] Prompt의 instruction의 경우 한글보다 영어로 했을 때 더 좋은 결과를 얻을 수 있습니다."
   ]
  },
  {
   "cell_type": "code",
   "execution_count": 33,
   "id": "572bc0ee-afb8-4dc8-b5ae-629920b8504b",
   "metadata": {
    "tags": []
   },
   "outputs": [],
   "source": [
    "prompt_template = \"\"\"\n",
    "\\n\\nHuman: Here is the context, inside <context></context> XML tags.\n",
    "\n",
    "<context>\n",
    "{context}\n",
    "</context>\n",
    "\n",
    "Only using the context as above, answer the following question with the rules as below:\n",
    "    - Don't insert XML tag such as <context> and </context> when answering.\n",
    "    - Write as much as you can\n",
    "    - Be courteous and polite\n",
    "    - Only answer the question if you can find the answer in the context with certainty.\n",
    "\n",
    "Question:\n",
    "{question}\n",
    "\n",
    "If the answer is not in the context, just say \"Could not find answer in given contexts.\"\n",
    "\n",
    "\\n\\nAssistant:\"\"\"\n",
    "\n",
    "PROMPT = PromptTemplate(\n",
    "    template=prompt_template, input_variables=[\"context\", \"question\"]\n",
    ")"
   ]
  },
  {
   "cell_type": "markdown",
   "id": "c66157a6-aec8-4555-a90f-1178e6f4f6e0",
   "metadata": {},
   "source": [
    "### Update Search Params (Optional)"
   ]
  },
  {
   "cell_type": "code",
   "execution_count": 34,
   "id": "64df2daf-8b42-472a-885f-97320ee98132",
   "metadata": {
    "tags": []
   },
   "outputs": [],
   "source": [
    "from langchain.chains import RetrievalQA"
   ]
  },
  {
   "cell_type": "code",
   "execution_count": 35,
   "id": "d2697230-6962-43d8-8917-ba9daa4295bb",
   "metadata": {
    "tags": []
   },
   "outputs": [],
   "source": [
    "opensearch_hybrid_retriever.update_search_params(\n",
    "    k=3,\n",
    "    minimum_should_match=3,\n",
    "    filter=[],\n",
    "    reranker=True,\n",
    "    reranker_endpoint_name=endpoint_name,\n",
    "    hyde=True, # enable hyde\n",
    "    hyde_query=[\"web_search\"], # query type in hyde \n",
    "    llm_text=llm_text, # llm for query augmentation in rag_fusion\n",
    "    verbose=False\n",
    ")"
   ]
  },
  {
   "cell_type": "markdown",
   "id": "aee26c22-b674-4f4f-a87b-29508e336fda",
   "metadata": {},
   "source": [
    "### Request"
   ]
  },
  {
   "cell_type": "code",
   "execution_count": 36,
   "id": "95fa61d3-9256-432a-96a3-2c696c97ea68",
   "metadata": {
    "tags": []
   },
   "outputs": [],
   "source": [
    "qa = RetrievalQA.from_chain_type(\n",
    "    llm=llm_text,\n",
    "    chain_type=\"stuff\",\n",
    "    retriever=opensearch_hybrid_retriever,\n",
    "    return_source_documents=True,\n",
    "    chain_type_kwargs={\n",
    "        \"prompt\": PROMPT,\n",
    "        \"verbose\": False,\n",
    "    },\n",
    "    verbose=False\n",
    ")"
   ]
  },
  {
   "cell_type": "code",
   "execution_count": 37,
   "id": "390ad324-40b3-4bcb-92b9-50eb080492a5",
   "metadata": {
    "tags": []
   },
   "outputs": [
    {
     "name": "stdout",
     "output_type": "stream",
     "text": [
      " Here is a concise passage answering how RKP protects critical kernel data structures from modification:\n",
      "\n",
      "RKP (Real-time Kernel Protection) is a security module in Android that aims to protect the kernel by preventing unauthorized modifications to critical data structures. It does this by making certain kernel data structures read-only, restricting access to sensitive kernel code, and adding additional checks around structures that can't be made read-only. For example, RKP marks structures like the syscall table and credentials as read-only after initialization. It also hooks certain kernel functions like copy_to_user() to prevent overwrite attacks on key data. By proactively hardening the kernel in this manner, RKP reduces the kernel's attack surface and makes it more difficult for malware to tamper with critical kernel data structures. RKP protects critical kernel data structures from modification by monitoring some critical kernel data structures to verify that they are not exploited. In particular, RKP protects the data that defines the credentials assigned to running user processes to prevent attackers from modifying this data."
     ]
    }
   ],
   "source": [
    "query = \"How does RKP protect critical kernel data structures from modification?\"\n",
    "response = qa(query)"
   ]
  },
  {
   "cell_type": "code",
   "execution_count": 38,
   "id": "01e77dad-dc19-416b-80e7-19fac3b736a5",
   "metadata": {
    "tags": []
   },
   "outputs": [
    {
     "name": "stdout",
     "output_type": "stream",
     "text": [
      "##################################\n",
      "query:  How does RKP protect critical kernel data structures from modification?\n",
      "##################################\n",
      "\u001b[34m\n",
      "\n",
      "### Answer ###\u001b[0m\n",
      " RKP protects critical kernel data structures from modification by monitoring some critical kernel\n",
      "data structures to verify that they are not exploited. In particular, RKP protects the data that\n",
      "defines the credentials assigned to running user processes to prevent attackers from modifying this\n",
      "data.\n",
      "\u001b[32m\n",
      "\n",
      "### Contexts ###\u001b[0m\n",
      "-----------------------------------------------\n",
      "1. Chunk: 244 Characters\n",
      "-----------------------------------------------\n",
      " Third, RKP monitors some critical kernel data structures to verify that they are not exploited.\n",
      "In particular, RKP protects the data that de nes the credentials assigned to running user processes\n",
      "to prevent attackers from modifying this data.\n",
      "metadata:\n",
      " {'tag': 'para', 'row': 113, 'id': '1922c223-7d95-453a-9c56-043b19d98be0'}\n",
      "-----------------------------------------------\n",
      "2. Chunk: 385 Characters\n",
      "-----------------------------------------------\n",
      " Second, RKP prevents kernel data from being accessed directly by user processes.\n",
      "This includes the double-mapping of physical memory containing critical kernel key data into user\n",
      "space virtual memory.\n",
      "This is an important step to prevent kernel exploits that attempt to map malicious processes to\n",
      "kernel data regions where such regions could be modi ed by an attacker by an attacker.\n",
      "metadata:\n",
      " {'tag': 'para', 'row': 112}\n",
      "-----------------------------------------------\n",
      "3. Chunk: 247 Characters\n",
      "-----------------------------------------------\n",
      " First, RKP prevents running unauthorized code on the system, which is accomplished by preventing\n",
      "the modification of kernel code, the injection of unauthorized code into the kernel, or the\n",
      "execution of the user space code in the privileged mode.\n",
      "metadata:\n",
      " {'tag': 'para', 'row': 111}\n"
     ]
    }
   ],
   "source": [
    "print(\"##################################\")\n",
    "print(\"query: \", query)\n",
    "print(\"##################################\")\n",
    "\n",
    "print (colored(\"\\n\\n### Answer ###\", \"blue\"))\n",
    "print_ww(response['result'])\n",
    "\n",
    "print (colored(\"\\n\\n### Contexts ###\", \"green\"))\n",
    "show_context_used(response['source_documents'])"
   ]
  },
  {
   "cell_type": "code",
   "execution_count": null,
   "id": "04f0a647-b2ef-482e-9ecd-625d40f51b20",
   "metadata": {},
   "outputs": [],
   "source": []
  }
 ],
 "metadata": {
  "kernelspec": {
   "display_name": "conda_python3",
   "language": "python",
   "name": "conda_python3"
  },
  "language_info": {
   "codemirror_mode": {
    "name": "ipython",
    "version": 3
   },
   "file_extension": ".py",
   "mimetype": "text/x-python",
   "name": "python",
   "nbconvert_exporter": "python",
   "pygments_lexer": "ipython3",
   "version": "3.10.12"
  }
 },
 "nbformat": 4,
 "nbformat_minor": 5
}
