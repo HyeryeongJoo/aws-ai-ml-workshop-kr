{
 "cells": [
  {
   "cell_type": "markdown",
   "id": "5deb2df2-413d-49bd-a829-3a1fc344937e",
   "metadata": {},
   "source": [
    "# RAG Based on HyDE\n",
    "- Hybrid Search\n",
    "- ReRanker\n",
    "- HyDE (Hypothetical Document Embeddings)"
   ]
  },
  {
   "cell_type": "markdown",
   "id": "b1f81abc-3277-4a6b-9ef1-d4f997d67fbe",
   "metadata": {},
   "source": [
    "## Setting\n",
    " - Auto Reload\n",
    " - path for utils"
   ]
  },
  {
   "cell_type": "code",
   "execution_count": 1,
   "id": "ddde4105-b759-4d6c-8214-8e1ab485ae48",
   "metadata": {
    "tags": []
   },
   "outputs": [],
   "source": [
    "%load_ext autoreload\n",
    "%autoreload 2"
   ]
  },
  {
   "cell_type": "code",
   "execution_count": 2,
   "id": "57c2cdb1-d785-4317-afce-938f13141085",
   "metadata": {
    "tags": []
   },
   "outputs": [],
   "source": [
    "import sys, os\n",
    "module_path = \"../../..\"\n",
    "sys.path.append(os.path.abspath(module_path))"
   ]
  },
  {
   "cell_type": "markdown",
   "id": "9c4ade56-8dbc-4ded-b355-7e4bcc971e90",
   "metadata": {},
   "source": [
    "## 1. Bedrock Client 생성"
   ]
  },
  {
   "cell_type": "code",
   "execution_count": 3,
   "id": "cc2d877f-e877-48f6-8dd4-239de20e45cd",
   "metadata": {
    "tags": []
   },
   "outputs": [],
   "source": [
    "import json\n",
    "import boto3\n",
    "from pprint import pprint\n",
    "from termcolor import colored\n",
    "from utils import bedrock, print_ww\n",
    "from utils.bedrock import bedrock_info"
   ]
  },
  {
   "cell_type": "markdown",
   "id": "088e6490-c79a-49e4-841c-9fdb91292608",
   "metadata": {},
   "source": [
    "### ---- ⚠️ Un-comment and edit the below lines as needed for your AWS setup ⚠️ ----\n",
    "- os.environ[\"AWS_DEFAULT_REGION\"] = \"<REGION_NAME>\"  # E.g. \"us-east-1\"\n",
    "- os.environ[\"AWS_PROFILE\"] = \"<YOUR_PROFILE>\"\n",
    "- os.environ[\"BEDROCK_ASSUME_ROLE\"] = \"<YOUR_ROLE_ARN>\"  # E.g. \"arn:aws:...\"\n",
    "- os.environ[\"BEDROCK_ENDPOINT_URL\"] = \"<YOUR_ENDPOINT_URL>\"  # E.g. \"https://...\""
   ]
  },
  {
   "cell_type": "code",
   "execution_count": 4,
   "id": "cab9312c-5f61-4730-96c3-5eef54a5f08c",
   "metadata": {
    "tags": []
   },
   "outputs": [
    {
     "name": "stdout",
     "output_type": "stream",
     "text": [
      "Create new client\n",
      "  Using region: None\n",
      "  Using profile: None\n",
      "boto3 Bedrock client successfully created!\n",
      "bedrock-runtime(https://bedrock-runtime.us-east-1.amazonaws.com)\n",
      "\u001b[32m\n",
      "== FM lists ==\u001b[0m\n",
      "{'Claude-Instant-V1': 'anthropic.claude-instant-v1',\n",
      " 'Claude-V1': 'anthropic.claude-v1',\n",
      " 'Claude-V2': 'anthropic.claude-v2',\n",
      " 'Claude-V2-1': 'anthropic.claude-v2:1',\n",
      " 'Claude-V3-Haiku': 'anthropic.claude-3-haiku-20240307-v1:0',\n",
      " 'Claude-V3-Sonnet': 'anthropic.claude-3-sonnet-20240229-v1:0',\n",
      " 'Cohere-Embeddings-En': 'cohere.embed-english-v3',\n",
      " 'Cohere-Embeddings-Multilingual': 'cohere.embed-multilingual-v3',\n",
      " 'Command': 'cohere.command-text-v14',\n",
      " 'Command-Light': 'cohere.command-light-text-v14',\n",
      " 'Jurassic-2-Mid': 'ai21.j2-mid-v1',\n",
      " 'Jurassic-2-Ultra': 'ai21.j2-ultra-v1',\n",
      " 'Llama2-13b-Chat': 'meta.llama2-13b-chat-v1',\n",
      " 'Titan-Embeddings-G1': 'amazon.titan-embed-text-v1',\n",
      " 'Titan-Text-G1': 'amazon.titan-text-express-v1',\n",
      " 'Titan-Text-G1-Light': 'amazon.titan-text-lite-v1'}\n"
     ]
    }
   ],
   "source": [
    "boto3_bedrock = bedrock.get_bedrock_client(\n",
    "    assumed_role=os.environ.get(\"BEDROCK_ASSUME_ROLE\", None),\n",
    "    endpoint_url=os.environ.get(\"BEDROCK_ENDPOINT_URL\", None),\n",
    "    region=os.environ.get(\"AWS_DEFAULT_REGION\", None),\n",
    ")\n",
    "\n",
    "aws_region = os.environ.get(\"AWS_DEFAULT_REGION\", None)\n",
    "print (colored(\"\\n== FM lists ==\", \"green\"))\n",
    "pprint (bedrock_info.get_list_fm_models())"
   ]
  },
  {
   "cell_type": "markdown",
   "id": "241a9e34-417a-422f-9f75-cb211b2e70e1",
   "metadata": {
    "tags": []
   },
   "source": [
    "## 2. Titan Embedding 및 LLM 인 Claude-v3 모델 로딩"
   ]
  },
  {
   "cell_type": "markdown",
   "id": "29bf63d2-4110-407c-af06-a45d2fbed4b5",
   "metadata": {},
   "source": [
    "### LLM 로딩 (Claude-v3)"
   ]
  },
  {
   "cell_type": "code",
   "execution_count": 5,
   "id": "9c51443a-04f9-465c-9564-53053eb3e1c2",
   "metadata": {
    "tags": []
   },
   "outputs": [],
   "source": [
    "from langchain_community.chat_models import BedrockChat\n",
    "from langchain.callbacks.streaming_stdout import StreamingStdOutCallbackHandler"
   ]
  },
  {
   "cell_type": "code",
   "execution_count": 6,
   "id": "d09e84e0-b9e1-4b12-8e7a-68f03c5416e5",
   "metadata": {
    "tags": []
   },
   "outputs": [
    {
     "data": {
      "text/plain": [
       "BedrockChat(client=<botocore.client.BedrockRuntime object at 0x7ff793e950f0>, model_id='anthropic.claude-3-sonnet-20240229-v1:0', model_kwargs={'max_tokens': 1024, 'stop_sequences': ['\\n\\nHuman']}, streaming=True, callbacks=[<langchain_core.callbacks.streaming_stdout.StreamingStdOutCallbackHandler object at 0x7ff7cb849810>])"
      ]
     },
     "execution_count": 6,
     "metadata": {},
     "output_type": "execute_result"
    }
   ],
   "source": [
    "llm_text = BedrockChat(\n",
    "    model_id=bedrock_info.get_model_id(model_name=\"Claude-V3-Sonnet\"),\n",
    "    client=boto3_bedrock,\n",
    "    model_kwargs={\n",
    "        \"max_tokens\": 1024,\n",
    "        \"stop_sequences\": [\"\\n\\nHuman\"],\n",
    "    },\n",
    "    streaming=True,\n",
    "    callbacks=[StreamingStdOutCallbackHandler()],\n",
    ")\n",
    "llm_text"
   ]
  },
  {
   "cell_type": "markdown",
   "id": "3ba2e829-af8f-4e90-b994-59106cdec8d8",
   "metadata": {},
   "source": [
    "### Embedding 모델 선택"
   ]
  },
  {
   "cell_type": "code",
   "execution_count": 7,
   "id": "0b7b8752-d1e3-4f41-ba35-6da42c3785db",
   "metadata": {
    "tags": []
   },
   "outputs": [
    {
     "name": "stdout",
     "output_type": "stream",
     "text": [
      "본 과정의 교육목표는 다음과 같습니다.\n",
      "\n",
      "1. 프로그래밍 기초 지식 함양: 프로그래밍 언어의 기본 문법과 개념을 익혀 코딩 능력을 기릅니다.\n",
      "\n",
      "2. 문제해결 능력 향상: 다양한 알고리즘 문제를 해결하며 논리적 사고력과 문제해결 능력을 키웁니다. \n",
      "\n",
      "3. 프로젝트 수행 경험: 팀 프로젝트를 통해 실무 개발 환경을 경험하고 협업 능력을 기릅니다.\n",
      "\n",
      "4. 컴퓨터 사고력 배양: 컴퓨터의 작동 원리를 이해하고 프로그래밍 방식으로 사고하는 능력을 갖춥니다.\n",
      "\n",
      "5. 지속적인 자기계발: 빠르게 변화하는 기술 동향을 따라가며 평생 학습 태도를 기릅니다.본 과정의 교육목표는 다음과 같습니다:\n",
      "\n",
      "1. 학생들에게 기초적인 지식과 기술을 가르쳐 전문성을 갖추도록 한다.\n",
      "2. 창의력과 문제해결능력을 기를 수 있는 다양한 프로젝트를 수행한다. \n",
      "3. 협동심과 리더십을 함양하여 팀워크 능력을 배양한다.\n",
      "4. 직업윤리와 사회적 책임의식을 고취시켜 바람직한 인성을 기른다.\n",
      "5. 졸업 후 관련 분야에서 전문가로 활동할 수 있는 기반을 마련한다.본 강좌의 교육목표는 다음과 같습니다:\n",
      "\n",
      "1. 학생들에게 기본적인 프로그래밍 개념과 원리를 전달합니다.\n",
      "2. 문제해결능력과 논리적 사고력을 기릅니다.\n",
      "3. 프로그래밍 언어와 개발 도구 사용법을 익힙니다.\n",
      "4. 팀 프로젝트를 통해 협업 능력과 의사소통 능력을 향상시킵니다.\n",
      "5. 컴퓨터 분야에 대한 관심과 열정을 고취시킵니다.\n",
      "\n",
      "이 강좌를 통해 학생들은 프로그래밍 기초 지식을 쌓고 실무에 필요한 기술을 습득할 수 있을 것입니다.본 대학의 교육목표는 다음과 같습니다:\n",
      "\n",
      "1. 전인적 인격을 갖춘 민주시민 양성\n",
      "2. 창의적 전문인 육성\n",
      "3. 봉사정신을 실천하는 지도자 배출\n",
      "4. 세계화와 정보화 시대를 선도할 인재 양성\n",
      "\n",
      "우리 대학은 이러한 목표 아래 이론과 실무를 겸비한 유능한 인재를 길러내어 국가와 인류사회 발전에 이바지하고자 합니다.이 학교의 교육 목표는 학생들에게 전인적인 성장을 도모하는 것입니다. 지적, 정서적, 신체적 발달을 균형있게 이루어 미래 사회에서 주도적인 역할을 할 수 있는 인재를 기르는 데 중점을 둡니다. 학문적 탐구와 더불어 인성 함양, 창의성 계발, 민주시민의식 고취 등 다방면에서 교육적 노력을 기울이고 있습니다.본 교육과정의 주요 목표는 다음과 같습니다:\n",
      "\n",
      "1. 학생들의 창의력과 문제해결 능력을 기르는 것입니다. 이론 교육에만 치중하기보다는 실습과 프로젝트 수행을 통해 실질적인 문제해결 경험을 쌓을 수 있도록 합니다.\n",
      "\n",
      "2. 팀워크와 의사소통 능력을 배양하는 것입니다. 협업 프로젝트와 발표, 토론 등의 활동을 통해 상호 존중과 원활한 의사소통의 중요성을 깨닫게 됩니다. \n",
      "\n",
      "3. 지속적인 자기계발과 평생학습 태도를 기르는 것입니다. 빠르게 변화하는 시대에 맞춰 끊임없이 새로운 지식과 기술을 습득할 수 있는 자세를 갖추도록 합니다.\n",
      "\n",
      "4. 직업윤리와 사회적 책임의식을 고취하는 것입니다. 전문가로서의 윤리의식과 사회에 대한 기여의 중요성을 인식할 수 있도록 교육합니다.우리 대학의 교육목표는 다음과 같습니다:\n",
      "\n",
      "1. 전인적인 인재 양성: 지식, 인성, 실무능력을 고루 갖춘 인재 배출\n",
      "2. 국가 및 지역사회 발전에 기여: 국가 발전과 지역사회 공동체에 이바지할 수 있는 인재 육성\n",
      "3. 세계화에 대비: 글로벌 역량을 갖춘 인재 양성을 통해 국제화 시대에 대비\n",
      "4. 창의성 계발: 창의적이고 혁신적인 사고를 가진 인재 양성\n",
      "5. 실용지식 함양: 이론과 실무를 겸비하여 현장에서 바로 활용 가능한 지식 습득\n",
      "\n",
      "위와 같은 교육목표를 바탕으로 우리 대학은 매년 교육과정을 개선하고 다양한 프로그램을 운영하고 있습니다.본 교육과정의 목표는 다음과 같습니다:\n",
      "\n",
      "1. 학생들에게 기초 학문 지식을 체계적으로 전수하여 해당 분야의 전문가로 성장할 수 있는 기반을 마련한다.\n",
      "\n",
      "2. 실용적인 기술과 경험을 습득하여 졸업 후 곧바로 현장에 투입될 수 있는 실무 능력을 기른다. \n",
      "\n",
      "3. 비판적 사고력과 창의력을 배양하여 새로운 지식과 기술을 창출하고 사회 발전에 기여할 수 있게 한다.\n",
      "\n",
      "4. 윤리 의식과 리더십 능력을 고취시켜 사회적 책임감을 가지고 바람직한 영향력을 발휘할 수 있게 육성한다."
     ]
    }
   ],
   "source": [
    "from utils.rag import KoSimCSERobertaContentHandler, SagemakerEndpointEmbeddingsJumpStart"
   ]
  },
  {
   "cell_type": "code",
   "execution_count": 8,
   "id": "793b03f7-3186-4969-b76a-98fe56bd5fdc",
   "metadata": {
    "tags": []
   },
   "outputs": [],
   "source": [
    "def get_embedding_model(is_bedrock_embeddings, is_KoSimCSERobert, aws_region, endpont_name=None):\n",
    "    \n",
    "    if is_bedrock_embeddings:\n",
    "        # We will be using the Titan Embeddings Model to generate our Embeddings.\n",
    "        from langchain.embeddings import BedrockEmbeddings\n",
    "        llm_emb = BedrockEmbeddings(\n",
    "            client=boto3_bedrock,\n",
    "            model_id=bedrock_info.get_model_id(\n",
    "                model_name=\"Titan-Embeddings-G1\"\n",
    "            )\n",
    "        )\n",
    "        print(\"Bedrock Embeddings Model Loaded\")\n",
    "\n",
    "    elif is_KoSimCSERobert:\n",
    "        LLMEmbHandler = KoSimCSERobertaContentHandler()\n",
    "        endpoint_name_emb = endpont_name\n",
    "        llm_emb = SagemakerEndpointEmbeddingsJumpStart(\n",
    "            endpoint_name=endpoint_name_emb,\n",
    "            region_name=aws_region,\n",
    "            content_handler=LLMEmbHandler,\n",
    "        )        \n",
    "        print(\"KoSimCSERobert Embeddings Model Loaded\")\n",
    "    else:\n",
    "        llm_emb = None\n",
    "        print(\"No Embedding Model Selected\")\n",
    "    \n",
    "    return llm_emb"
   ]
  },
  {
   "cell_type": "markdown",
   "id": "cd72a6b8-eaf0-4036-a530-3bde5ba988cd",
   "metadata": {},
   "source": [
    "#### [중요] is_KoSimCSERobert == True 일시에 endpoint_name 을 꼭 넣어 주세요."
   ]
  },
  {
   "cell_type": "code",
   "execution_count": 9,
   "id": "f42e032b-8715-432c-ae71-12a889f8ffc0",
   "metadata": {
    "tags": []
   },
   "outputs": [
    {
     "name": "stdout",
     "output_type": "stream",
     "text": [
      "Bedrock Embeddings Model Loaded\n"
     ]
    }
   ],
   "source": [
    "is_bedrock_embeddings = True\n",
    "is_KoSimCSERobert = False\n",
    "aws_region = os.environ.get(\"AWS_DEFAULT_REGION\", None)\n",
    "\n",
    "##############################\n",
    "# Parameters for is_KoSimCSERobert\n",
    "##############################\n",
    "if is_KoSimCSERobert: endpont_name = \"<endpoint-name>\"\n",
    "else: endpont_name = None\n",
    "##############################\n",
    "\n",
    "llm_emb = get_embedding_model(is_bedrock_embeddings, is_KoSimCSERobert, aws_region, endpont_name)   "
   ]
  },
  {
   "cell_type": "markdown",
   "id": "e10b67d5-382e-4715-a841-eb07b8655da8",
   "metadata": {},
   "source": [
    "## 3. Depoly ReRanker model (if needed)"
   ]
  },
  {
   "cell_type": "code",
   "execution_count": 10,
   "id": "9a08a296-41ef-44cb-857b-63d05a8d187c",
   "metadata": {
    "tags": []
   },
   "outputs": [
    {
     "name": "stdout",
     "output_type": "stream",
     "text": [
      "sagemaker.config INFO - Not applying SDK defaults from location: /etc/xdg/sagemaker/config.yaml\n",
      "sagemaker.config INFO - Not applying SDK defaults from location: /home/ec2-user/.config/sagemaker/config.yaml\n"
     ]
    }
   ],
   "source": [
    "import json\n",
    "import sagemaker\n",
    "from sagemaker.huggingface import HuggingFaceModel"
   ]
  },
  {
   "cell_type": "code",
   "execution_count": 11,
   "id": "33dd04a7-8200-49e7-ae69-55a82be199b4",
   "metadata": {
    "tags": []
   },
   "outputs": [],
   "source": [
    "depoly = False"
   ]
  },
  {
   "cell_type": "code",
   "execution_count": 12,
   "id": "9d40e3dd-a19f-4af3-831a-0cfe79e72cb3",
   "metadata": {
    "tags": []
   },
   "outputs": [],
   "source": [
    "if depoly:\n",
    "\n",
    "    try:\n",
    "        role = sagemaker.get_execution_role()\n",
    "    except ValueError:\n",
    "        iam = boto3.client('iam')\n",
    "        role = iam.get_role(RoleName='sagemaker_execution_role')['Role']['Arn']\n",
    "\n",
    "    # Hub Model configuration. https://huggingface.co/models\n",
    "    hub = {\n",
    "        'HF_MODEL_ID':'Dongjin-kr/ko-reranker',\n",
    "        'HF_TASK':'text-classification'\n",
    "    }\n",
    "\n",
    "    # create Hugging Face Model Class\n",
    "    huggingface_model = HuggingFaceModel(\n",
    "        transformers_version='4.26.0',\n",
    "        pytorch_version='1.13.1',\n",
    "        py_version='py39',\n",
    "        env=hub,\n",
    "        role=role, \n",
    "    )\n",
    "\n",
    "    # deploy model to SageMaker Inference\n",
    "    predictor = huggingface_model.deploy(\n",
    "        initial_instance_count=1, # number of instances\n",
    "        instance_type='ml.g5.xlarge' # instance type\n",
    "    )\n",
    "\n",
    "    print(f'Accept: {predictor.accept}')\n",
    "    print(f'ContentType: {predictor.content_type}')\n",
    "    print(f'Endpoint: {predictor.endpoint}')"
   ]
  },
  {
   "cell_type": "markdown",
   "id": "7f359558-4abe-4aa5-9260-f2fe901e719f",
   "metadata": {},
   "source": [
    "#### Save reranker endpoint to Parameter Store"
   ]
  },
  {
   "cell_type": "code",
   "execution_count": 13,
   "id": "4ce18c8d-5caf-4221-a97e-1034f1fcae02",
   "metadata": {
    "tags": []
   },
   "outputs": [],
   "source": [
    "import boto3\n",
    "from utils.ssm import parameter_store"
   ]
  },
  {
   "cell_type": "code",
   "execution_count": 14,
   "id": "57286404-2900-4806-bacb-5823042a7fe1",
   "metadata": {
    "tags": []
   },
   "outputs": [],
   "source": [
    "region=boto3.Session().region_name\n",
    "pm = parameter_store(region)"
   ]
  },
  {
   "cell_type": "code",
   "execution_count": null,
   "id": "78b61fa1-8d14-4bc5-9dd7-e7dfebf6f163",
   "metadata": {},
   "outputs": [],
   "source": [
    "pm.put_params(\n",
    "    key=\"reranker_endpoint\",\n",
    "    value=f'{predictor.endpoint}',\n",
    "    overwrite=True,\n",
    "    enc=False\n",
    ")"
   ]
  },
  {
   "cell_type": "markdown",
   "id": "20e648ef-01ec-4e2f-ba88-7d2510fdb7a6",
   "metadata": {},
   "source": [
    "## 4. Invocation (prediction)"
   ]
  },
  {
   "cell_type": "code",
   "execution_count": 15,
   "id": "114be617-a687-4733-abb9-30394c7ef35f",
   "metadata": {
    "tags": []
   },
   "outputs": [
    {
     "name": "stdout",
     "output_type": "stream",
     "text": [
      "runtime_client: <botocore.client.SageMakerRuntime object at 0x7ff718b3f2b0>\n"
     ]
    }
   ],
   "source": [
    "runtime_client = boto3.Session().client('sagemaker-runtime')\n",
    "print (f'runtime_client: {runtime_client}')"
   ]
  },
  {
   "cell_type": "code",
   "execution_count": 16,
   "id": "26ee5c45-de87-4a2b-bc04-bbc649fcd0c6",
   "metadata": {
    "tags": []
   },
   "outputs": [],
   "source": [
    "endpoint_name = pm.get_params(\n",
    "    key=\"reranker_endpoint\",\n",
    "    enc=False\n",
    ")\n",
    "deserializer = \"application/json\""
   ]
  },
  {
   "cell_type": "code",
   "execution_count": 17,
   "id": "bd6288ed-b4fa-466f-9e2b-57484b827b0a",
   "metadata": {
    "tags": []
   },
   "outputs": [],
   "source": [
    "payload = json.dumps(\n",
    "    {\n",
    "        \"inputs\": [\n",
    "            {\"text\": \"I hate you\", \"text_pair\": \"I don't like you\"},\n",
    "            {\"text\": \"He hates you\", \"text_pair\": \"He like you\"}\n",
    "        ]\n",
    "    }\n",
    ")"
   ]
  },
  {
   "cell_type": "code",
   "execution_count": 18,
   "id": "c1eebe88-8b92-4e81-a103-b5a5d7a91bb3",
   "metadata": {
    "tags": []
   },
   "outputs": [
    {
     "name": "stdout",
     "output_type": "stream",
     "text": [
      "Response: [{'label': 'LABEL_0', 'score': 0.9987371563911438}, {'label': 'LABEL_0', 'score': 0.0028581616934388876}]\n",
      "CPU times: user 14.4 ms, sys: 222 µs, total: 14.6 ms\n",
      "Wall time: 91 ms\n"
     ]
    }
   ],
   "source": [
    "%%time\n",
    "response = runtime_client.invoke_endpoint(\n",
    "    EndpointName=endpoint_name,\n",
    "    ContentType=\"application/json\",\n",
    "    Accept=deserializer,\n",
    "    Body=payload\n",
    ")\n",
    "## deserialization\n",
    "out = json.loads(response['Body'].read().decode()) ## for json\n",
    "print (f'Response: {out}')"
   ]
  },
  {
   "cell_type": "markdown",
   "id": "7e432237-b9b5-4be3-aa0c-c30eeca6f480",
   "metadata": {},
   "source": [
    "## 5. LangChainmOpenSearch VectorStore 정의\n",
    "### 선수 조건\n",
    "- 01_preprocess_docs/02_load_docs_opensearch.ipynb를 통해서 OpenSearch Index 가 생성이 되어 있어야 합니다.\n",
    "#### [중요] 아래에 aws parameter store 에 아래 인증정보가 먼저 입력되어 있어야 합니다.\n",
    "- 01_preprocess_docs/01_parameter_store_example.ipynb 참고"
   ]
  },
  {
   "cell_type": "code",
   "execution_count": 19,
   "id": "fca6d70c-be38-4cb5-bf18-d68c5aac6807",
   "metadata": {
    "tags": []
   },
   "outputs": [],
   "source": [
    "import boto3\n",
    "from utils.ssm import parameter_store"
   ]
  },
  {
   "cell_type": "code",
   "execution_count": 20,
   "id": "8a032da1-6acb-4d93-9678-45ea644b0705",
   "metadata": {
    "tags": []
   },
   "outputs": [],
   "source": [
    "region=boto3.Session().region_name\n",
    "pm = parameter_store(region)"
   ]
  },
  {
   "cell_type": "code",
   "execution_count": 21,
   "id": "67d982c9-a38b-4acc-9505-4889d0b2dc46",
   "metadata": {
    "tags": []
   },
   "outputs": [],
   "source": [
    "opensearch_domain_endpoint = pm.get_params(\n",
    "    key=\"opensearch_domain_endpoint\",\n",
    "    enc=False\n",
    ")\n",
    "\n",
    "opensearch_user_id = pm.get_params(\n",
    "    key=\"opensearch_user_id\",\n",
    "    enc=False\n",
    ")\n",
    "\n",
    "opensearch_user_password = pm.get_params(\n",
    "    key=\"opensearch_user_password\",\n",
    "    enc=True\n",
    ")"
   ]
  },
  {
   "cell_type": "code",
   "execution_count": 22,
   "id": "fc7866fd-fd9c-4b41-b600-a91e43edfe4d",
   "metadata": {
    "tags": []
   },
   "outputs": [],
   "source": [
    "opensearch_domain_endpoint = opensearch_domain_endpoint\n",
    "rag_user_name = opensearch_user_id\n",
    "rag_user_password = opensearch_user_password\n",
    "\n",
    "http_auth = (rag_user_name, rag_user_password) # Master username, Master password"
   ]
  },
  {
   "cell_type": "markdown",
   "id": "161a900e-effc-4d7f-a179-b6c00eac03ad",
   "metadata": {
    "tags": []
   },
   "source": [
    "### Index 이름 셋팅\n",
    "- 이전 노트북 01_preprocess_docs/02_load_docs_opensearch.ipynb를 통해서 생성된 OpenSearch Index name 입력"
   ]
  },
  {
   "cell_type": "code",
   "execution_count": 23,
   "id": "d5d9b5eb-052e-4e84-846b-c5385e853ba4",
   "metadata": {
    "tags": []
   },
   "outputs": [
    {
     "name": "stdout",
     "output_type": "stream",
     "text": [
      "index_name: summit-workshop-index\n"
     ]
    }
   ],
   "source": [
    "index_name = opensearch_user_password = pm.get_params(\n",
    "    key=\"opensearch_index_name\",\n",
    "    enc=True\n",
    ")\n",
    "\n",
    "print (f'index_name: {index_name}')"
   ]
  },
  {
   "cell_type": "markdown",
   "id": "482f5785-b88d-44fa-a603-080e4bd734a6",
   "metadata": {},
   "source": [
    "### OpenSearch Client 생성"
   ]
  },
  {
   "cell_type": "code",
   "execution_count": 24,
   "id": "968b7502-5799-4702-bc17-959e88c330a2",
   "metadata": {
    "tags": []
   },
   "outputs": [],
   "source": [
    "from utils.opensearch import opensearch_utils"
   ]
  },
  {
   "cell_type": "code",
   "execution_count": 25,
   "id": "6ceb46a1-e425-4f7e-9319-793b55abb938",
   "metadata": {
    "tags": []
   },
   "outputs": [],
   "source": [
    "os_client = opensearch_utils.create_aws_opensearch_client(\n",
    "    aws_region,\n",
    "    opensearch_domain_endpoint,\n",
    "    http_auth\n",
    ")"
   ]
  },
  {
   "cell_type": "markdown",
   "id": "a5084376-7523-4cf9-9123-adc4ae79f66d",
   "metadata": {
    "tags": []
   },
   "source": [
    "## 6. Retriever based on Hybrid Search + HyDE + ReRanker\n",
    "- LangChain에서 제공하는 **BaseRetriever** 클래스를 상속받아 **Custom Retriever**를 정의 할 수 있습니다.\n",
    "- Hybrid-Search에 대한 자세한 내용는 **\"01_rag_hybrid_search.ipyno\"** 에서 확인 가능합니다.\n",
    "- [HyDE](https://medium.com/prompt-engineering/hyde-revolutionising-search-with-hypothetical-document-embeddings-3474df795af8)\n",
    "![HyDE.png](../../../imgs/HyDE.png)"
   ]
  },
  {
   "cell_type": "code",
   "execution_count": 26,
   "id": "5db8e470-63a9-4c3d-94c8-1d270a6da822",
   "metadata": {
    "tags": []
   },
   "outputs": [],
   "source": [
    "from utils.rag import OpenSearchHybridSearchRetriever"
   ]
  },
  {
   "cell_type": "markdown",
   "id": "d7feac2f-21a2-4756-b989-66c180bb1e79",
   "metadata": {},
   "source": [
    "- 필터 설정 예시\n",
    "- filter=[ <BR>\n",
    "    　{\"term\": {\"metadata.[**your_metadata_attribute_name**]\": \"**your first keyword**\"}}, <BR>\n",
    "    　{\"term\": {\"metadata.[**your_metadata_attribute_name**]\": \"**your second keyword**\"}},<BR>\n",
    "]"
   ]
  },
  {
   "cell_type": "code",
   "execution_count": 31,
   "id": "49c7e131-294f-4ff8-9331-989709c7079c",
   "metadata": {
    "tags": []
   },
   "outputs": [],
   "source": [
    "opensearch_hybrid_retriever = OpenSearchHybridSearchRetriever(\n",
    "    os_client=os_client,\n",
    "    index_name=index_name,\n",
    "    llm_text=llm_text, # llm for query augmentation in both rag_fusion and HyDE\n",
    "    llm_emb=llm_emb,\n",
    "\n",
    "    # option for lexical\n",
    "    minimum_should_match=0,\n",
    "    filter=[],\n",
    "\n",
    "    # option for search\n",
    "    fusion_algorithm=\"RRF\", # [\"RRF\", \"simple_weighted\"], rank fusion 방식 정의\n",
    "    ensemble_weights=[.51, .49], # [for lexical, for semantic], Lexical, Semantic search 결과에 대한 최종 반영 비율 정의\n",
    "    reranker=True, # enable reranker with reranker model\n",
    "    reranker_endpoint_name=endpoint_name, # endpoint name for reranking model\n",
    "    hyde=True, # enable hyde\n",
    "    hyde_query=[\"web_search\"], # query type in hyde \n",
    "    \n",
    "\n",
    "    # option for async search\n",
    "    async_mode=False,\n",
    "\n",
    "    # option for output\n",
    "    k=5, # 최종 Document 수 정의\n",
    "    verbose=True,\n",
    ")"
   ]
  },
  {
   "cell_type": "markdown",
   "id": "cfb26835-ad98-41c5-9e9d-2453642e3551",
   "metadata": {},
   "source": [
    "### Retrieval example\n",
    "- default search"
   ]
  },
  {
   "cell_type": "code",
   "execution_count": 32,
   "id": "9c06e89f-79de-413c-ba9c-a188ca3fe2d0",
   "metadata": {
    "tags": []
   },
   "outputs": [],
   "source": [
    "from utils.rag import show_context_used"
   ]
  },
  {
   "cell_type": "code",
   "execution_count": 33,
   "id": "fe3bfee3-dac1-45b9-8795-03e36c1632a9",
   "metadata": {
    "tags": []
   },
   "outputs": [],
   "source": [
    "query = \"중지된 경우 이체\""
   ]
  },
  {
   "cell_type": "code",
   "execution_count": 34,
   "id": "05b13e5e-4a66-4dc8-b18c-42a6e3bd6037",
   "metadata": {
    "collapsed": true,
    "jupyter": {
     "outputs_hidden": true
    },
    "tags": []
   },
   "outputs": [
    {
     "name": "stdout",
     "output_type": "stream",
     "text": [
      "\n",
      "\n",
      "===== HyDE Answers =====\n",
      "['교육목표는?', '본 과정의 교육목표는 다음과 같습니다:\\n\\n1. 학생들에게 기초적인 지식과 기술을 가르쳐 전문성을 갖추도록 한다.\\n2. 창의력과 문제해결능력을 기를 수 있는 다양한 프로젝트를 수행한다. \\n3. 협동심과 리더십을 함양하여 팀워크 능력을 배양한다.\\n4. 직업윤리와 사회적 책임의식을 고취시켜 바람직한 인성을 기른다.\\n5. 졸업 후 관련 분야에서 전문가로 활동할 수 있는 기반을 마련한다.']\n",
      "\n",
      "[Exeeds ReRanker token limit] Number of chunk_docs after split and chunking= 2\n",
      "\n",
      "\n",
      "[Exeeds ReRanker token limit] Number of chunk_docs after split and chunking= 1\n",
      "\n",
      "\n",
      "[Exeeds ReRanker token limit] Number of chunk_docs after split and chunking= 2\n",
      "\n",
      "##############################\n",
      "async_mode\n",
      "##############################\n",
      "False\n",
      "##############################\n",
      "reranker\n",
      "##############################\n",
      "True\n",
      "##############################\n",
      "rag_fusion\n",
      "##############################\n",
      "False\n",
      "##############################\n",
      "HyDE\n",
      "##############################\n",
      "True\n",
      "##############################\n",
      "parent_document\n",
      "##############################\n",
      "False\n",
      "##############################\n",
      "complex_document\n",
      "##############################\n",
      "False\n",
      "##############################\n",
      "similar_docs_semantic\n",
      "##############################\n",
      "\n",
      "Score: 0.031009615384615385\n",
      "['‧ 창의적 체험활동의 영역별 활동내용, 평가방법 및 기준은 교육과정을 근 - 9 - □5 선행교육 예방 (공교육정상화법) 교사 우○주 ❍ 선행교육 -「초‧중등교육법」제23조제2항에 따라 교육부장관이 정한 초․중등학교 교육과정(국가교육과정) 및 교육감이 정한 초․중등학교 교육과정(시․도교육과정), 「초‧중등교육법」제23조제1항에 근거하여 편성․운영되는 단위학교 교육과정(학교 교육과정) 국가교육과정-시․도교육과정-학교 교육과정에 앞서서 편성 또는 제공하는 교육 일반 ❍ 선행학습 - 학습자가 국가교육과정, 시․도교육과정, 학교 교육과정에 앞서서 하는 학습 1. 추진 근거 및 목적 L RIS 가. 근거 Ÿ 「공교육 정상화 촉진 및 선행교육 규제에 관한 특별법」(공교육정상화법) Ÿ 2024년 선행학습 유발 관행 근절 사업 추진계획(교육부 기초학력진로교육과-379, 2024.1.31.) = [9 = < [aN] & - % 5 = 해 때 R 제 0 | 버 과 E 제 o 99 = = B 회 - 0 0 80 MR Q0w 나. 목적 Ÿ 학교의 정상적인 교육과정 운영을 위한 여건 조성 및 공교육 정상화 실현 Ÿ 선행교육과 선행학습 유발 관행 근절을 위한 학생, 교원, 학부모 인식 개선 연수 및 홍보 강화 0\" 3l om0 음미 Ÿ 교육과정 편성 운영 및 선행출제 점검·컨설팅을 통해 학생의 발달단계에 맞는 교육 실시 2. 추진 계획 가. 연수 추진 계획']\n",
      "{'source': './data/complex_pdf/school_edu_guide.pdf', 'filetype': 'application/pdf', 'languages': ['kor', 'eng'], 'last_modified': '2024-04-04T01:39:24', 'page_number': 11, 'file_directory': './data/complex_pdf', 'filename': 'school_edu_guide.pdf', 'category': 'CompositeElement', 'family_tree': 'child', 'parent_id': '7d9d2ff0-d190-4356-bbbe-fbdbd44bfceb', 'id': '22312bd2-8521-4168-93d8-761a1c714eb9'}\n",
      "\n",
      "Score: 0.01626123744050767\n",
      "['. 나. 학생의 학습 수준을 확인하고 결과만이 아니라 결과에 이르기까지의 학습과정을 중시한다. 다. 학생의 학습 과정과 결과에 대한 맞춤형 피드백을 제공하여 학생의 학습을 지원한다. 라. 평가의 목표를 학생에게 미리 안내(매 학기 초 사전 안내)하여 학습 과정에서 학생이 주도적으로 자신의 학습과정을 성찰하고, 스스로 조정할 수 있도록 한다. 마. 학습한 지식과 기능을 바탕으로 종합하여 판단하거나 새로운 변화를 만들어 낼 수 있는지를 평가한다. 바. 학습과 평가의 과정에서 얻은 경험을 바탕으로 실생활 맥락 속의 문제를 해결 할 수 있는 역량을 함양할 수 있도록 한다. 3. 추진내용']\n",
      "{'source': './data/complex_pdf/school_edu_guide.pdf', 'filetype': 'application/pdf', 'languages': ['kor', 'eng'], 'last_modified': '2024-04-04T01:39:24', 'page_number': 10, 'file_directory': './data/complex_pdf', 'filename': 'school_edu_guide.pdf', 'category': 'CompositeElement', 'family_tree': 'child', 'parent_id': 'c2324ffc-6c56-43dd-bd56-f8ecac0dc26c', 'id': '6ee009ee-7664-41ea-b0d7-a980bd164f6e'}\n",
      "\n",
      "Score: 0.01626123744050767\n",
      "['주어진 이미지는 11종의 소통하는 교육, 12종의 안전한 세계시민 교육, 13종의 나눔, 배려, 협력하는 인성교육에 대한 구체적인 교육활동과 시기, 대상, 관련부서를 설명하는 표입니다. 각 교육활동 유형별로 세부 내용과 기간, 대상 학년, 담당부서가 정리되어 있어 체계적으로 교육 계획을 파악할 수 있습니다.']\n",
      "{'img_path': './fig/table-1-resize.jpg', 'category': 'Image', 'image_base64': '', 'family_tree': 'parent_image', 'parent_id': 'NA', 'id': 'f75d2013-0f6a-4dd8-83ec-6162ad2a745d'}\n",
      "\n",
      "Score: 0.015399194503672116\n",
      "['이 표는 학교에서 실시하는 교육 활동 계획을 보여주고 있습니다. 주요 내용은 디지털 시민 역량 강화를 위한 교육정보화 지원 및 정보통신윤리교육, 독서 및 독서인문교육 활성화를 위한 도서관 운영 및 독서행사, 진로교육 강화를 위한 진로체험 및 탐색 프로그램 등입니다. 각 활동의 시기, 대상 학년, 관련 부서 등의 정보가 상세히 제시되어 있습니다.']\n",
      "{'source': './data/complex_pdf/school_edu_guide.pdf', 'detection_class_prob': 0.8930906653404236, 'coordinates': {'points': [[155.992431640625, 390.875244140625], [155.992431640625, 2049.864013671875], [1519.5548095703125, 2049.864013671875], [1519.5548095703125, 390.875244140625]], 'system': 'PixelSpace', 'layout_width': 1653, 'layout_height': 2337}, 'last_modified': '2024-04-04T01:39:24', 'text_as_html': '<table><thead><th>0 Ko = 384 -</th><th>호 A 고 — T 까 Kk : g5 Mo 배 | 해 더 ) =W O | 홀 읍 메트 더] 뿌 헤 R _ R 허그 oy RATT wTAKR 덕 부 SRR o0 o</th><th>= offl N 에 S &lt; -</th><th>20 대 = [t} O &lt;</th><th>꼭 i = o 떤 미비 에 20</th></thead><tr><td rowspan=\"3\">o 랙 주 0 - 페오 때 0 듬 히</td><td>= ol 80 ok _ |2 =g 00 | 8 T | .o | @ 이얼 | 해 애정 오 에 o — R | 트 - 엄히 ㅎ | 을 | | 더 4010 | | Mm b</td><td>Ko 10 어리</td><td></td><td></td></tr><tr><td></td><td>헌 o 는 이 4 해 &amp;~ H T 후 ¥ &amp; 원 귀 T Mmoo ol oy o 매일 o 꼬 90 ol ㅡ 얘 페 더 등기 더 MmET 께 때 wHS 중 (FE o © m i</td><td>10 8l</td><td>b2 ) &lt;</td><td>T 원 ™ ol 마 20 더</td></tr><tr><td></td><td>ol N _ ol 해군 D ㅋ 이를 - Fra| &amp; 채 얘 = 이게 A Xy _Mn_ mEH g | 0 ~ R 어젠 L | w o o = 아 이 호 브 | 압 퍼 흐리 | TOHES | 누 조 0 더 때 | 때 리 는 6 | (종중 안다 | o o o o</td><td>— Ko Koo Kio ™ = 81818 1</td><td>끼 꼬 꼬꼬 인 | 10 © O OV &lt; 근 고고고</td><td>o o 깨 20</td></tr><tr><td>얘 i o 때 ™ 3l 베</td><td>Klo or 80 o X o4 U 호 해 800 내 . oz _ 꺼 ol ~ 빈 명 은 &lt; 베 가 께 B0 oy o R 구도 o &lt; 나 ogrTABou KT . 쥐 o | HooPa@ Dl S AT g 폭 레 레미 시리즈 WwXXTTHNIT | 버 버 버 판 바 아 | B o o o o o o</td><td>mw T KO o 고 2 개 Ko 고 Ko 한 한 mE Ty s % I W -</td><td>DEWE . 인 | | for ol oy © 는 o © ©v © 는 s - - - -</td><td>%0 &amp; 얘 덕</td></tr><tr><td>5 o 95 PR ㅁ</td><td>OH 헌 에 인 Y OH 녁 oir 때 = = HooR 「 ㅁ i M| 이 ) 0 o Ko o i - R 패고 o = 30 %0 e ooy B g £ X 부 교 능 그녀 하 짐 이 홍 패 et KR | 에 포메 가옥 태 때, D5 . 띠 더 을 제 그 - B o \"7 o o</td><td>Ko Ko w7 Ko 85 이지</td><td>mm o mom 히피 00 0 1ol 우우 우우 - - - &lt;</td><td>o 3l 깨 20</td></tr><tr><td>- o 3</td><td>= 고 5l 래 ¥ 2 m U 0 &amp;l 뽀 해 = M S 은 애 한 A5 &amp; 이! 더 | 때 꼼 에 | WA | gt NI B o @</td><td>s ol 띠 10 30</td><td>g ¥ or = | 호흡 —</td><td>%0 = 매 덕</td></tr></table>', 'filetype': 'application/pdf', 'languages': ['kor', 'eng'], 'page_number': 6, 'file_directory': './data/complex_pdf', 'filename': 'school_edu_guide.pdf', 'category': 'Table', 'origin_table': '구현중점 교육활동 시기 대상 관련부서 331. 교육정보화 지원확대 및 학습 준비 철저 ◦컴퓨터실 정비 및 각종 교육 S/W 구비 ◦방송실의 효율적 운영 ◦학습준비물의 효율적인 선정 및 구입 7, 2월 연중 연중 1~6학년 생활인권 31. 디지털 시민 역량 강화 332. 학교홈페이지 및 알리미 체제 운영 ◦학교홈페이지 구성 및 활성화 ◦하이클래스를 활용한 교육 주체 간 소통 연중 1~6학년 생활인권 교무기획 333. 에듀테크교육 및 정보통신 윤리교육의 강화 ◦에듀테크교육 환경 구축 ◦개인정보 보호 활성화 및 저작권 교육 강화 ◦SW 교육(미래체험) 프로그램 체험 기회확대 ◦디지털 시민교육(코딩교실 운영) 연중 연중 연중 2학기 1~6학년 1~6학년 1~6학년 1~4학년 생활인권 231. 독서교육의 활성화 ◦교육과정 재구성을 통한 온책읽기 연중 1~6학년 교육과정 ◦질문과 토론이 있는 독서토론교육 운영 연중 1~6학년 32. 232. 독서인문교육을 돕는 도서관 운영 독서인문교육 ◦도서관 운영 계획 수립 3월 1~6학년 ◦도서관 활용 수업 활성화 및 도서 확충 연중 1~6학년 ◦독서 교실 운영 방학중 1~6학년 교육과정 ◦학생 참여의 독서 행사 운영 연중 1~6학년 ◦독서인문교실-작가와의 만남 5-6학년 11월 ◦미디어리터러시 교육 1-6학년 1회 331. 꿈을 키우는 학생 맞춤형 진로교육 강화 ◦진로체험교실 운영 ◦교과 및 창의체험 활동을 통한 진로교육 운 영 연중 연중 1~6학년 1~6학년 생활인권 33. ◦학년 수준에 맞는 진로탐색 프로그램 운영 ◦사이버 진로교육 운영-커리어넷 2회 연중 1~6학년 4~6학년 다양한 진로 교육 실시 332. 진로연계교육 실시 ◦1-2학년은 성장이음과정 실시 ◦3학년은 교과목 설명 및 전담과목 및 안내 학년초 학년초 1-2학년 3학년 교육과정', 'family_tree': 'parent_table', 'parent_id': 'NA', 'id': '31a7842d-17a9-41bb-b4e6-8c3fdeeddd6d'}\n",
      "\n",
      "Score: 0.007936507936507936\n",
      "['이 표는 어린이 교육의 세 가지 주요 목표를 제시하고 있습니다. 첫째, 존중과 나눔을 실천하는 바른 인성을 기르는 것입니다. 둘째, 몸과 마음의 건강 및 예술 향유를 통해 문화적 소양을 기르는 것입니다. 셋째, 특기와 소질 계발을 통해 미래를 대비하는 창의성을 기르는 것입니다.']\n",
      "{'source': './data/complex_pdf/school_edu_guide.pdf', 'detection_class_prob': 0.5580280423164368, 'coordinates': {'points': [[161.56983947753906, 716.003173828125], [161.56983947753906, 966.0720825195312], [1475.974853515625, 966.0720825195312], [1475.974853515625, 716.003173828125]], 'system': 'PixelSpace', 'layout_width': 1653, 'layout_height': 2337}, 'last_modified': '2024-04-04T01:39:24', 'text_as_html': '<table><tr><td>K 뼈 4</td><td>특 기 와 소 질 을 가꾸어 미 래 를 준 비 하는 창의적인 어린이</td></tr></table>', 'filetype': 'application/pdf', 'languages': ['kor', 'eng'], 'page_number': 3, 'file_directory': './data/complex_pdf', 'filename': 'school_edu_guide.pdf', 'category': 'Table', 'origin_table': '교육 목표 바른 인성으로 존중과 나눔을 실천하는 자주적인 어린이 몸과 마음이 건강하고 예술을 향유하는 문화적인 어린이 특기와 소질을 가꾸어 미래를 준비하는 창의적인 어린이', 'family_tree': 'parent_table', 'parent_id': 'NA', 'id': '11c4619b-e219-4246-ade0-a53165ae27b5'}\n",
      "\n",
      "Score: 0.007575757575757576\n",
      "['이 표는 2년 이내 학생을 대상으로 하는 프로그램의 운영시간, 대상자, 수강과목 등의 정보를 제공하고 있습니다. 운영기간, 운영시간, 학습편성, 전공교실, 프로그램 구성, 특성프로그램, 급식 및 간식, 물품 납부 등의 세부사항이 명시되어 있습니다.']\n",
      "{'img_path': './fig/table-22-resize.jpg', 'category': 'Image', 'image_base64': '', 'family_tree': 'parent_image', 'parent_id': 'NA', 'id': 'ea8556ec-b0bd-4e3d-8977-2268b77cd70f'}\n",
      "\n",
      "Score: 0.007575757575757576\n",
      "['이 이미지는 교육 과정과 관련된 표를 보여주고 있습니다. 표에는 다양한 과목들과 그에 따른 수강 시기, 대상, 관련부서 등의 정보가 구체적으로 제시되어 있습니다. 과목들은 크게 디지털 시대 역량 강화, 특성화 교육, 다양한 진로 교육 영역으로 분류되어 있습니다. 전반적으로 교육 과정에 대한 체계적인 안내를 제공하는 표로 보입니다.']\n",
      "{'img_path': './fig/table-3-resize.jpg', 'category': 'Image', 'image_base64': '', 'family_tree': 'parent_image', 'parent_id': 'NA', 'id': '246800fe-08d0-47e7-a91c-f45c100554cd'}\n",
      "None\n",
      "##############################\n",
      "similar_docs_keyword\n",
      "##############################\n",
      "\n",
      "Score: 1.0\n",
      "['2024학년도 학 교 교 육 과 정 설 명 회 연 수 자 료 일시: 2024년 3월 20일 (수) 바른 인성, 건강한 감성, 즐거운 배움으로 미래를 가꾸는 바른 인성, 건강한 감성, 즐거운 배움으로 미래를 가꾸는 학부모 연수 순서 학부모 연수 순서 1. 상록 교육목표 및 구현계획 2. 2024학년도 학사 일정 안내 3. 출결 관련 확인 제출자료 안내 4. 학교교육평가 5. 선행교육 예방(공교육정상화법) 6. 학생 안전 교육 7. 성폭력 예방 교육 8. 흡연 및 음주 예방 교육 9. 학생 인권조례 및 교권보호 10. 방과후학교 운영 11. 초등돌봄교실(오후돌봄) 운영 12. 학부모 서비스 신청 안내 13. 정보통신윤리교육 14. 정보보안 및 개인정보보호 운영 계획 15. 불법찬조금 근절 16. 아동학대 예방 교육 17. 가정폭력 예방 교육 18. 생명 존중 및 생명 살림(자살 예방) 교육 19. 교육활동 참여자 안전교육(녹색, 학부모폴리스) 20. 학교폭력 예방 교육 21. 감염병 예방 교육 22. 청탁금지법 23. 공익제보자 보호 및 공익 신고 보상 안내 24. 존중과 배려의 교육환경 조성 예방 교육(갑질 근절) 25. 교육활동보호예방교육 1 상록 교육 목표 및 구현 계획 비전 바른 인성, 건강한 감성, 즐거운 배움으로 미래를 가꾸는 어린이']\n",
      "{'source': './data/complex_pdf/school_edu_guide.pdf', 'filetype': 'application/pdf', 'languages': ['kor', 'eng'], 'last_modified': '2024-04-04T01:39:24', 'page_number': 1, 'file_directory': './data/complex_pdf', 'filename': 'school_edu_guide.pdf', 'category': 'CompositeElement', 'family_tree': 'child', 'parent_id': 'b8a8496c-1a84-4f96-a020-167eab316664', 'id': '80881750-725e-4d08-900c-a0ca1e337c66'}\n",
      "\n",
      "Score: 0.973217291889316\n",
      "['2024학년도 학 교 교 육 과 정 설 명 회 연 수 자 료 일시: 2024년 3월 20일 (수) 바른 인성, 건강한 감성, 즐거운 배움으로 미래를 가꾸는 바른 인성, 건강한 감성, 즐거운 배움으로 미래를 가꾸는 학부모 연수 순서 학부모 연수 순서 1. 상록 교육목표 및 구현계획 2. 2024학년도 학사 일정 안내 3. 출결 관련 확인 제출자료 안내 4. 학교교육평가 5. 선행교육 예방(공교육정상화법) 6. 학생 안전 교육 7. 성폭력 예방 교육 8. 흡연 및 음주 예방 교육 9. 학생 인권조례 및 교권보호 10. 방과후학교 운영 11. 초등돌봄교실(오후돌봄) 운영 12. 학부모 서비스 신청 안내 13. 정보통신윤리교육 14. 정보보안 및 개인정보보호 운영 계획 15. 불법찬조금 근절 16. 아동학대 예방 교육 17. 가정폭력 예방 교육 18. 생명 존중 및 생명 살림(자살 예방) 교육 19. 교육활동 참여자 안전교육(녹색, 학부모폴리스) 20. 학교폭력 예방 교육 21. 감염병 예방 교육 22. 청탁금지법 23. 공익제보자 보호 및 공익 신고 보상 안내 24. 존중과 배려의 교육환경 조성 예방 교육(갑질 근절) 25. 교육활동보호예방교육 1 상록 교육 목표 및 구현 계획 비전 바른 인성, 건강한 감성, 즐거운 배움으로 미래를 가꾸는 어린이']\n",
      "{'source': './data/complex_pdf/school_edu_guide.pdf', 'filetype': 'application/pdf', 'languages': ['kor', 'eng'], 'last_modified': '2024-04-04T01:39:24', 'page_number': 1, 'file_directory': './data/complex_pdf', 'filename': 'school_edu_guide.pdf', 'category': 'CompositeElement', 'family_tree': 'parent', 'parent_id': None, 'id': 'b8a8496c-1a84-4f96-a020-167eab316664'}\n",
      "\n",
      "Score: 0.8793743124731145\n",
      "['이 표는 어린이 교육의 세 가지 주요 목표를 제시하고 있습니다. 첫째, 존중과 나눔을 실천하는 바른 인성을 기르는 것입니다. 둘째, 몸과 마음의 건강 및 예술 향유를 통해 문화적 소양을 기르는 것입니다. 셋째, 특기와 소질 계발을 통해 미래를 대비하는 창의성을 기르는 것입니다.']\n",
      "{'source': './data/complex_pdf/school_edu_guide.pdf', 'detection_class_prob': 0.5580280423164368, 'coordinates': {'points': [[161.56983947753906, 716.003173828125], [161.56983947753906, 966.0720825195312], [1475.974853515625, 966.0720825195312], [1475.974853515625, 716.003173828125]], 'system': 'PixelSpace', 'layout_width': 1653, 'layout_height': 2337}, 'last_modified': '2024-04-04T01:39:24', 'text_as_html': '<table><tr><td>K 뼈 4</td><td>특 기 와 소 질 을 가꾸어 미 래 를 준 비 하는 창의적인 어린이</td></tr></table>', 'filetype': 'application/pdf', 'languages': ['kor', 'eng'], 'page_number': 3, 'file_directory': './data/complex_pdf', 'filename': 'school_edu_guide.pdf', 'category': 'Table', 'origin_table': '교육 목표 바른 인성으로 존중과 나눔을 실천하는 자주적인 어린이 몸과 마음이 건강하고 예술을 향유하는 문화적인 어린이 특기와 소질을 가꾸어 미래를 준비하는 창의적인 어린이', 'family_tree': 'parent_table', 'parent_id': 'NA', 'id': '11c4619b-e219-4246-ade0-a53165ae27b5'}\n",
      "\n",
      "Score: 0.754749566354497\n",
      "['이 이미지는 학교생활에서 일어날 수 있는 세 가지 역할 즉, 학생상, 교사상, 학부모상을 설명하고 있습니다. 각 역할이 수행해야 할 바람직한 행동들을 열거하고 있으며, 궁극적으로 이 세 가지 역할이 잘 어우러져 좋은 배움의 열매를 맺는 것이 목표라는 것을 보여줍니다.']\n",
      "{'img_path': './fig/figure-3-21.jpg', 'category': 'Image', 'image_base64': '', 'family_tree': 'parent_image', 'parent_id': 'NA', 'id': 'f7042aaf-9bae-4135-a374-7dc78b666c05'}\n",
      "\n",
      "Score: 0.5896793028140627\n",
      "['. 나. 학생의 학습 수준을 확인하고 결과만이 아니라 결과에 이르기까지의 학습과정을 중시한다. 다. 학생의 학습 과정과 결과에 대한 맞춤형 피드백을 제공하여 학생의 학습을 지원한다. 라. 평가의 목표를 학생에게 미리 안내(매 학기 초 사전 안내)하여 학습 과정에서 학생이 주도적으로 자신의 학습과정을 성찰하고, 스스로 조정할 수 있도록 한다. 마. 학습한 지식과 기능을 바탕으로 종합하여 판단하거나 새로운 변화를 만들어 낼 수 있는지를 평가한다. 바. 학습과 평가의 과정에서 얻은 경험을 바탕으로 실생활 맥락 속의 문제를 해결 할 수 있는 역량을 함양할 수 있도록 한다. 3. 추진내용']\n",
      "{'source': './data/complex_pdf/school_edu_guide.pdf', 'filetype': 'application/pdf', 'languages': ['kor', 'eng'], 'last_modified': '2024-04-04T01:39:24', 'page_number': 10, 'file_directory': './data/complex_pdf', 'filename': 'school_edu_guide.pdf', 'category': 'CompositeElement', 'family_tree': 'child', 'parent_id': 'c2324ffc-6c56-43dd-bd56-f8ecac0dc26c', 'id': '6ee009ee-7664-41ea-b0d7-a980bd164f6e'}\n",
      "\n",
      "Score: 0.4616673727541937\n",
      "['결 석 계 2. 질병 이외의 결석 또는 출석인정 결석인 경우 ① 1~2일: [경조사] 결석계와 담임교사확인서 + 청첩장·부고장(문자, 카톡 포함), 사망신고서 중 1부 [미인정 결석 및 기타 결석] 결석계와 담임교사확인서 ② 경조사로 인한 출석인정 결석 3일 이상: 결석계와 담임교사확인서 + 사망신고서(사본 가능) ③ 경조사 이외 출석인정 결석: 결석계와 담임교사확인서 + 증빙서류 ④ ‘①~③’ 에 해당되지 않는 결석 3일 이상: 결석계와 담임교사확인서 + 학부모확인서 ※ 학교장허가교외체험학습은 별도의 체험학습 신청서와 보고서 제출 ------------------------------------ 교사 작성 -------------------------------------- 담임교사 확인서 1. 해당 결석 및 사유 □ 질병 결석 □ 미인정 결석 □ 출석인정 결석 □ 기타 결석 사 유 2. 확인 방법 □하이톡 확인 □하이콜 확인 □가정방문 □학부형 내교 □기 타 ( ) 3. 비 고 : 202 년 월 일 담임교사 : (인) - 8 - □4 학생평가-학습으로의 평가 교사 우○주 1. 학습으로서의 평가의 특징 학습으로서의 평가는 학습 과정과 결과에 대해 학생 스스로 성찰하고, 자기 주도적인 학습 경험을 통해 학습 내용을 실생활 맥락의 문제 해결에 적용할 수 있는 역량을 키우는 평가 2. 방침 가. 학생의 삶과 연계한 교육과정, 수업, 평가의 운영으로 학생 개개인의 삶의 역량을 키운다. 나. 학생의 학습 수준을 확인하고 결과만이 아니라 결과에 이르기까지의 학습과정을 중시한다. 다. 학생의 학습 과정과 결과에 대한 맞춤형 피드백을 제공하여 학생의 학습을 지원한다. 라. 평가의 목표를 학생에게 미리 안내(매 학기 초 사전 안내)하여 학습 과정에서 학생이 주도적으로 자신의 학습과정을 성찰하고, 스스로 조정할 수 있도록 한다. 마. 학습한 지식과 기능을 바탕으로 종합하여 판단하거나 새로운 변화를 만들어 낼 수 있는지를 평가한다. 바']\n",
      "{'source': './data/complex_pdf/school_edu_guide.pdf', 'filetype': 'application/pdf', 'languages': ['kor', 'eng'], 'last_modified': '2024-04-04T01:39:24', 'page_number': 10, 'file_directory': './data/complex_pdf', 'filename': 'school_edu_guide.pdf', 'category': 'CompositeElement', 'family_tree': 'child', 'parent_id': 'c2324ffc-6c56-43dd-bd56-f8ecac0dc26c', 'id': '058221ff-47ce-4e3a-842a-7d8bd3c60213'}\n",
      "\n",
      "Score: 0.42984714990620376\n",
      "['결 석 계 2. 질병 이외의 결석 또는 출석인정 결석인 경우 ① 1~2일: [경조사] 결석계와 담임교사확인서 + 청첩장·부고장(문자, 카톡 포함), 사망신고서 중 1부 [미인정 결석 및 기타 결석] 결석계와 담임교사확인서 ② 경조사로 인한 출석인정 결석 3일 이상: 결석계와 담임교사확인서 + 사망신고서(사본 가능) ③ 경조사 이외 출석인정 결석: 결석계와 담임교사확인서 + 증빙서류 ④ ‘①~③’ 에 해당되지 않는 결석 3일 이상: 결석계와 담임교사확인서 + 학부모확인서 ※ 학교장허가교외체험학습은 별도의 체험학습 신청서와 보고서 제출 ------------------------------------ 교사 작성 -------------------------------------- 담임교사 확인서 1. 해당 결석 및 사유 □ 질병 결석 □ 미인정 결석 □ 출석인정 결석 □ 기타 결석 사 유 2. 확인 방법 □하이톡 확인 □하이콜 확인 □가정방문 □학부형 내교 □기 타 ( ) 3. 비 고 : 202 년 월 일 담임교사 : (인) - 8 - □4 학생평가-학습으로의 평가 교사 우○주 1. 학습으로서의 평가의 특징 학습으로서의 평가는 학습 과정과 결과에 대해 학생 스스로 성찰하고, 자기 주도적인 학습 경험을 통해 학습 내용을 실생활 맥락의 문제 해결에 적용할 수 있는 역량을 키우는 평가 2. 방침 가. 학생의 삶과 연계한 교육과정, 수업, 평가의 운영으로 학생 개개인의 삶의 역량을 키운다. 나. 학생의 학습 수준을 확인하고 결과만이 아니라 결과에 이르기까지의 학습과정을 중시한다. 다. 학생의 학습 과정과 결과에 대한 맞춤형 피드백을 제공하여 학생의 학습을 지원한다. 라. 평가의 목표를 학생에게 미리 안내(매 학기 초 사전 안내)하여 학습 과정에서 학생이 주도적으로 자신의 학습과정을 성찰하고, 스스로 조정할 수 있도록 한다. 마. 학습한 지식과 기능을 바탕으로 종합하여 판단하거나 새로운 변화를 만들어 낼 수 있는지를 평가한다. 바. 학습과 평가의 과정에서 얻은 경험을 바탕으로 실생활 맥락 속의 문제를 해결 할 수 있는 역량을 함양할 수 있도록 한다. 3. 추진내용']\n",
      "{'source': './data/complex_pdf/school_edu_guide.pdf', 'filetype': 'application/pdf', 'languages': ['kor', 'eng'], 'last_modified': '2024-04-04T01:39:24', 'page_number': 10, 'file_directory': './data/complex_pdf', 'filename': 'school_edu_guide.pdf', 'category': 'CompositeElement', 'family_tree': 'parent', 'parent_id': None, 'id': 'c2324ffc-6c56-43dd-bd56-f8ecac0dc26c'}\n",
      "None\n",
      "##############################\n",
      "similar_docs_without_reranker\n",
      "##############################\n",
      "\n",
      "Score: 0.015936012691697515\n",
      "['2024학년도 학 교 교 육 과 정 설 명 회 연 수 자 료 일시: 2024년 3월 20일 (수) 바른 인성, 건강한 감성, 즐거운 배움으로 미래를 가꾸는 바른 인성, 건강한 감성, 즐거운 배움으로 미래를 가꾸는 학부모 연수 순서 학부모 연수 순서 1. 상록 교육목표 및 구현계획 2. 2024학년도 학사 일정 안내 3. 출결 관련 확인 제출자료 안내 4. 학교교육평가 5. 선행교육 예방(공교육정상화법) 6. 학생 안전 교육 7. 성폭력 예방 교육 8. 흡연 및 음주 예방 교육 9. 학생 인권조례 및 교권보호 10. 방과후학교 운영 11. 초등돌봄교실(오후돌봄) 운영 12. 학부모 서비스 신청 안내 13. 정보통신윤리교육 14. 정보보안 및 개인정보보호 운영 계획 15. 불법찬조금 근절 16. 아동학대 예방 교육 17. 가정폭력 예방 교육 18. 생명 존중 및 생명 살림(자살 예방) 교육 19. 교육활동 참여자 안전교육(녹색, 학부모폴리스) 20. 학교폭력 예방 교육 21. 감염병 예방 교육 22. 청탁금지법 23. 공익제보자 보호 및 공익 신고 보상 안내 24. 존중과 배려의 교육환경 조성 예방 교육(갑질 근절) 25. 교육활동보호예방교육 1 상록 교육 목표 및 구현 계획 비전 바른 인성, 건강한 감성, 즐거운 배움으로 미래를 가꾸는 어린이']\n",
      "{'source': './data/complex_pdf/school_edu_guide.pdf', 'filetype': 'application/pdf', 'languages': ['kor', 'eng'], 'last_modified': '2024-04-04T01:39:24', 'page_number': 1, 'file_directory': './data/complex_pdf', 'filename': 'school_edu_guide.pdf', 'category': 'CompositeElement', 'family_tree': 'parent', 'parent_id': None, 'id': 'b8a8496c-1a84-4f96-a020-167eab316664'}\n",
      "\n",
      "Score: 0.015764267990074445\n",
      "['. 나. 학생의 학습 수준을 확인하고 결과만이 아니라 결과에 이르기까지의 학습과정을 중시한다. 다. 학생의 학습 과정과 결과에 대한 맞춤형 피드백을 제공하여 학생의 학습을 지원한다. 라. 평가의 목표를 학생에게 미리 안내(매 학기 초 사전 안내)하여 학습 과정에서 학생이 주도적으로 자신의 학습과정을 성찰하고, 스스로 조정할 수 있도록 한다. 마. 학습한 지식과 기능을 바탕으로 종합하여 판단하거나 새로운 변화를 만들어 낼 수 있는지를 평가한다. 바. 학습과 평가의 과정에서 얻은 경험을 바탕으로 실생활 맥락 속의 문제를 해결 할 수 있는 역량을 함양할 수 있도록 한다. 3. 추진내용']\n",
      "{'source': './data/complex_pdf/school_edu_guide.pdf', 'filetype': 'application/pdf', 'languages': ['kor', 'eng'], 'last_modified': '2024-04-04T01:39:24', 'page_number': 10, 'file_directory': './data/complex_pdf', 'filename': 'school_edu_guide.pdf', 'category': 'CompositeElement', 'family_tree': 'child', 'parent_id': 'c2324ffc-6c56-43dd-bd56-f8ecac0dc26c', 'id': '6ee009ee-7664-41ea-b0d7-a980bd164f6e'}\n",
      "\n",
      "Score: 0.015623931623931624\n",
      "['이 표는 어린이 교육의 세 가지 주요 목표를 제시하고 있습니다. 첫째, 존중과 나눔을 실천하는 바른 인성을 기르는 것입니다. 둘째, 몸과 마음의 건강 및 예술 향유를 통해 문화적 소양을 기르는 것입니다. 셋째, 특기와 소질 계발을 통해 미래를 대비하는 창의성을 기르는 것입니다.']\n",
      "{'source': './data/complex_pdf/school_edu_guide.pdf', 'detection_class_prob': 0.5580280423164368, 'coordinates': {'points': [[161.56983947753906, 716.003173828125], [161.56983947753906, 966.0720825195312], [1475.974853515625, 966.0720825195312], [1475.974853515625, 716.003173828125]], 'system': 'PixelSpace', 'layout_width': 1653, 'layout_height': 2337}, 'last_modified': '2024-04-04T01:39:24', 'text_as_html': '<table><tr><td>K 뼈 4</td><td>특 기 와 소 질 을 가꾸어 미 래 를 준 비 하는 창의적인 어린이</td></tr></table>', 'filetype': 'application/pdf', 'languages': ['kor', 'eng'], 'page_number': 3, 'file_directory': './data/complex_pdf', 'filename': 'school_edu_guide.pdf', 'category': 'Table', 'origin_table': '교육 목표 바른 인성으로 존중과 나눔을 실천하는 자주적인 어린이 몸과 마음이 건강하고 예술을 향유하는 문화적인 어린이 특기와 소질을 가꾸어 미래를 준비하는 창의적인 어린이', 'family_tree': 'parent_table', 'parent_id': 'NA', 'id': '11c4619b-e219-4246-ade0-a53165ae27b5'}\n",
      "\n",
      "Score: 0.008360655737704918\n",
      "['‧ 창의적 체험활동의 영역별 활동내용, 평가방법 및 기준은 교육과정을 근 - 9 - □5 선행교육 예방 (공교육정상화법) 교사 우○주 ❍ 선행교육 -「초‧중등교육법」제23조제2항에 따라 교육부장관이 정한 초․중등학교 교육과정(국가교육과정) 및 교육감이 정한 초․중등학교 교육과정(시․도교육과정), 「초‧중등교육법」제23조제1항에 근거하여 편성․운영되는 단위학교 교육과정(학교 교육과정) 국가교육과정-시․도교육과정-학교 교육과정에 앞서서 편성 또는 제공하는 교육 일반 ❍ 선행학습 - 학습자가 국가교육과정, 시․도교육과정, 학교 교육과정에 앞서서 하는 학습 1. 추진 근거 및 목적 L RIS 가. 근거 Ÿ 「공교육 정상화 촉진 및 선행교육 규제에 관한 특별법」(공교육정상화법) Ÿ 2024년 선행학습 유발 관행 근절 사업 추진계획(교육부 기초학력진로교육과-379, 2024.1.31.) = [9 = < [aN] & - % 5 = 해 때 R 제 0 | 버 과 E 제 o 99 = = B 회 - 0 0 80 MR Q0w 나. 목적 Ÿ 학교의 정상적인 교육과정 운영을 위한 여건 조성 및 공교육 정상화 실현 Ÿ 선행교육과 선행학습 유발 관행 근절을 위한 학생, 교원, 학부모 인식 개선 연수 및 홍보 강화 0\" 3l om0 음미 Ÿ 교육과정 편성 운영 및 선행출제 점검·컨설팅을 통해 학생의 발달단계에 맞는 교육 실시 2. 추진 계획 가. 연수 추진 계획']\n",
      "{'source': './data/complex_pdf/school_edu_guide.pdf', 'filetype': 'application/pdf', 'languages': ['kor', 'eng'], 'last_modified': '2024-04-04T01:39:24', 'page_number': 11, 'file_directory': './data/complex_pdf', 'filename': 'school_edu_guide.pdf', 'category': 'CompositeElement', 'family_tree': 'child', 'parent_id': '7d9d2ff0-d190-4356-bbbe-fbdbd44bfceb', 'id': '22312bd2-8521-4168-93d8-761a1c714eb9'}\n",
      "\n",
      "Score: 0.008095238095238095\n",
      "['주어진 이미지는 11종의 소통하는 교육, 12종의 안전한 세계시민 교육, 13종의 나눔, 배려, 협력하는 인성교육에 대한 구체적인 교육활동과 시기, 대상, 관련부서를 설명하는 표입니다. 각 교육활동 유형별로 세부 내용과 기간, 대상 학년, 담당부서가 정리되어 있어 체계적으로 교육 계획을 파악할 수 있습니다.']\n",
      "{'img_path': './fig/table-1-resize.jpg', 'category': 'Image', 'image_base64': '', 'family_tree': 'parent_image', 'parent_id': 'NA', 'id': 'f75d2013-0f6a-4dd8-83ec-6162ad2a745d'}\n",
      "\n",
      "Score: 0.00796875\n",
      "['이 표는 학교에서 실시하는 교육 활동 계획을 보여주고 있습니다. 주요 내용은 디지털 시민 역량 강화를 위한 교육정보화 지원 및 정보통신윤리교육, 독서 및 독서인문교육 활성화를 위한 도서관 운영 및 독서행사, 진로교육 강화를 위한 진로체험 및 탐색 프로그램 등입니다. 각 활동의 시기, 대상 학년, 관련 부서 등의 정보가 상세히 제시되어 있습니다.']\n",
      "{'source': './data/complex_pdf/school_edu_guide.pdf', 'detection_class_prob': 0.8930906653404236, 'coordinates': {'points': [[155.992431640625, 390.875244140625], [155.992431640625, 2049.864013671875], [1519.5548095703125, 2049.864013671875], [1519.5548095703125, 390.875244140625]], 'system': 'PixelSpace', 'layout_width': 1653, 'layout_height': 2337}, 'last_modified': '2024-04-04T01:39:24', 'text_as_html': '<table><thead><th>0 Ko = 384 -</th><th>호 A 고 — T 까 Kk : g5 Mo 배 | 해 더 ) =W O | 홀 읍 메트 더] 뿌 헤 R _ R 허그 oy RATT wTAKR 덕 부 SRR o0 o</th><th>= offl N 에 S &lt; -</th><th>20 대 = [t} O &lt;</th><th>꼭 i = o 떤 미비 에 20</th></thead><tr><td rowspan=\"3\">o 랙 주 0 - 페오 때 0 듬 히</td><td>= ol 80 ok _ |2 =g 00 | 8 T | .o | @ 이얼 | 해 애정 오 에 o — R | 트 - 엄히 ㅎ | 을 | | 더 4010 | | Mm b</td><td>Ko 10 어리</td><td></td><td></td></tr><tr><td></td><td>헌 o 는 이 4 해 &amp;~ H T 후 ¥ &amp; 원 귀 T Mmoo ol oy o 매일 o 꼬 90 ol ㅡ 얘 페 더 등기 더 MmET 께 때 wHS 중 (FE o © m i</td><td>10 8l</td><td>b2 ) &lt;</td><td>T 원 ™ ol 마 20 더</td></tr><tr><td></td><td>ol N _ ol 해군 D ㅋ 이를 - Fra| &amp; 채 얘 = 이게 A Xy _Mn_ mEH g | 0 ~ R 어젠 L | w o o = 아 이 호 브 | 압 퍼 흐리 | TOHES | 누 조 0 더 때 | 때 리 는 6 | (종중 안다 | o o o o</td><td>— Ko Koo Kio ™ = 81818 1</td><td>끼 꼬 꼬꼬 인 | 10 © O OV &lt; 근 고고고</td><td>o o 깨 20</td></tr><tr><td>얘 i o 때 ™ 3l 베</td><td>Klo or 80 o X o4 U 호 해 800 내 . oz _ 꺼 ol ~ 빈 명 은 &lt; 베 가 께 B0 oy o R 구도 o &lt; 나 ogrTABou KT . 쥐 o | HooPa@ Dl S AT g 폭 레 레미 시리즈 WwXXTTHNIT | 버 버 버 판 바 아 | B o o o o o o</td><td>mw T KO o 고 2 개 Ko 고 Ko 한 한 mE Ty s % I W -</td><td>DEWE . 인 | | for ol oy © 는 o © ©v © 는 s - - - -</td><td>%0 &amp; 얘 덕</td></tr><tr><td>5 o 95 PR ㅁ</td><td>OH 헌 에 인 Y OH 녁 oir 때 = = HooR 「 ㅁ i M| 이 ) 0 o Ko o i - R 패고 o = 30 %0 e ooy B g £ X 부 교 능 그녀 하 짐 이 홍 패 et KR | 에 포메 가옥 태 때, D5 . 띠 더 을 제 그 - B o \"7 o o</td><td>Ko Ko w7 Ko 85 이지</td><td>mm o mom 히피 00 0 1ol 우우 우우 - - - &lt;</td><td>o 3l 깨 20</td></tr><tr><td>- o 3</td><td>= 고 5l 래 ¥ 2 m U 0 &amp;l 뽀 해 = M S 은 애 한 A5 &amp; 이! 더 | 때 꼼 에 | WA | gt NI B o @</td><td>s ol 띠 10 30</td><td>g ¥ or = | 호흡 —</td><td>%0 = 매 덕</td></tr></table>', 'filetype': 'application/pdf', 'languages': ['kor', 'eng'], 'page_number': 6, 'file_directory': './data/complex_pdf', 'filename': 'school_edu_guide.pdf', 'category': 'Table', 'origin_table': '구현중점 교육활동 시기 대상 관련부서 331. 교육정보화 지원확대 및 학습 준비 철저 ◦컴퓨터실 정비 및 각종 교육 S/W 구비 ◦방송실의 효율적 운영 ◦학습준비물의 효율적인 선정 및 구입 7, 2월 연중 연중 1~6학년 생활인권 31. 디지털 시민 역량 강화 332. 학교홈페이지 및 알리미 체제 운영 ◦학교홈페이지 구성 및 활성화 ◦하이클래스를 활용한 교육 주체 간 소통 연중 1~6학년 생활인권 교무기획 333. 에듀테크교육 및 정보통신 윤리교육의 강화 ◦에듀테크교육 환경 구축 ◦개인정보 보호 활성화 및 저작권 교육 강화 ◦SW 교육(미래체험) 프로그램 체험 기회확대 ◦디지털 시민교육(코딩교실 운영) 연중 연중 연중 2학기 1~6학년 1~6학년 1~6학년 1~4학년 생활인권 231. 독서교육의 활성화 ◦교육과정 재구성을 통한 온책읽기 연중 1~6학년 교육과정 ◦질문과 토론이 있는 독서토론교육 운영 연중 1~6학년 32. 232. 독서인문교육을 돕는 도서관 운영 독서인문교육 ◦도서관 운영 계획 수립 3월 1~6학년 ◦도서관 활용 수업 활성화 및 도서 확충 연중 1~6학년 ◦독서 교실 운영 방학중 1~6학년 교육과정 ◦학생 참여의 독서 행사 운영 연중 1~6학년 ◦독서인문교실-작가와의 만남 5-6학년 11월 ◦미디어리터러시 교육 1-6학년 1회 331. 꿈을 키우는 학생 맞춤형 진로교육 강화 ◦진로체험교실 운영 ◦교과 및 창의체험 활동을 통한 진로교육 운 영 연중 연중 1~6학년 1~6학년 생활인권 33. ◦학년 수준에 맞는 진로탐색 프로그램 운영 ◦사이버 진로교육 운영-커리어넷 2회 연중 1~6학년 4~6학년 다양한 진로 교육 실시 332. 진로연계교육 실시 ◦1-2학년은 성장이음과정 실시 ◦3학년은 교과목 설명 및 전담과목 및 안내 학년초 학년초 1-2학년 3학년 교육과정', 'family_tree': 'parent_table', 'parent_id': 'NA', 'id': '31a7842d-17a9-41bb-b4e6-8c3fdeeddd6d'}\n",
      "\n",
      "Score: 0.007727272727272728\n",
      "['이 표는 2년 이내 학생을 대상으로 하는 프로그램의 운영시간, 대상자, 수강과목 등의 정보를 제공하고 있습니다. 운영기간, 운영시간, 학습편성, 전공교실, 프로그램 구성, 특성프로그램, 급식 및 간식, 물품 납부 등의 세부사항이 명시되어 있습니다.']\n",
      "{'img_path': './fig/table-22-resize.jpg', 'category': 'Image', 'image_base64': '', 'family_tree': 'parent_image', 'parent_id': 'NA', 'id': 'ea8556ec-b0bd-4e3d-8977-2268b77cd70f'}\n",
      "None\n",
      "##############################\n",
      "similar_docs\n",
      "##############################\n",
      "\n",
      "Score: 0.937147319316864\n",
      "['이 표는 어린이 교육의 세 가지 주요 목표를 제시하고 있습니다. 첫째, 존중과 나눔을 실천하는 바른 인성을 기르는 것입니다. 둘째, 몸과 마음의 건강 및 예술 향유를 통해 문화적 소양을 기르는 것입니다. 셋째, 특기와 소질 계발을 통해 미래를 대비하는 창의성을 기르는 것입니다.']\n",
      "{'source': './data/complex_pdf/school_edu_guide.pdf', 'detection_class_prob': 0.5580280423164368, 'coordinates': {'points': [[161.56983947753906, 716.003173828125], [161.56983947753906, 966.0720825195312], [1475.974853515625, 966.0720825195312], [1475.974853515625, 716.003173828125]], 'system': 'PixelSpace', 'layout_width': 1653, 'layout_height': 2337}, 'last_modified': '2024-04-04T01:39:24', 'text_as_html': '<table><tr><td>K 뼈 4</td><td>특 기 와 소 질 을 가꾸어 미 래 를 준 비 하는 창의적인 어린이</td></tr></table>', 'filetype': 'application/pdf', 'languages': ['kor', 'eng'], 'page_number': 3, 'file_directory': './data/complex_pdf', 'filename': 'school_edu_guide.pdf', 'category': 'Table', 'origin_table': '교육 목표 바른 인성으로 존중과 나눔을 실천하는 자주적인 어린이 몸과 마음이 건강하고 예술을 향유하는 문화적인 어린이 특기와 소질을 가꾸어 미래를 준비하는 창의적인 어린이', 'family_tree': 'parent_table', 'parent_id': 'NA', 'id': '11c4619b-e219-4246-ade0-a53165ae27b5'}\n",
      "\n",
      "Score: 0.12569850582935288\n",
      "['2024학년도 학 교 교 육 과 정 설 명 회 연 수 자 료 일시: 2024년 3월 20일 (수) 바른 인성, 건강한 감성, 즐거운 배움으로 미래를 가꾸는 바른 인성, 건강한 감성, 즐거운 배움으로 미래를 가꾸는 학부모 연수 순서 학부모 연수 순서 1. 상록 교육목표 및 구현계획 2. 2024학년도 학사 일정 안내 3. 출결 관련 확인 제출자료 안내 4. 학교교육평가 5. 선행교육 예방(공교육정상화법) 6. 학생 안전 교육 7. 성폭력 예방 교육 8. 흡연 및 음주 예방 교육 9. 학생 인권조례 및 교권보호 10. 방과후학교 운영 11. 초등돌봄교실(오후돌봄) 운영 12. 학부모 서비스 신청 안내 13. 정보통신윤리교육 14. 정보보안 및 개인정보보호 운영 계획 15. 불법찬조금 근절 16. 아동학대 예방 교육 17. 가정폭력 예방 교육 18. 생명 존중 및 생명 살림(자살 예방) 교육 19. 교육활동 참여자 안전교육(녹색, 학부모폴리스) 20. 학교폭력 예방 교육 21. 감염병 예방 교육 22. 청탁금지법 23. 공익제보자 보호 및 공익 신고 보상 안내 24. 존중과 배려의 교육환경 조성 예방 교육(갑질 근절) 25. 교육활동보호예방교육 1 상록 교육 목표 및 구현 계획 비전 바른 인성, 건강한 감성, 즐거운 배움으로 미래를 가꾸는 어린이']\n",
      "{'source': './data/complex_pdf/school_edu_guide.pdf', 'filetype': 'application/pdf', 'languages': ['kor', 'eng'], 'last_modified': '2024-04-04T01:39:24', 'page_number': 1, 'file_directory': './data/complex_pdf', 'filename': 'school_edu_guide.pdf', 'category': 'CompositeElement', 'family_tree': 'parent', 'parent_id': None, 'id': 'b8a8496c-1a84-4f96-a020-167eab316664'}\n",
      "\n",
      "Score: 0.026411280035972595\n",
      "['. 나. 학생의 학습 수준을 확인하고 결과만이 아니라 결과에 이르기까지의 학습과정을 중시한다. 다. 학생의 학습 과정과 결과에 대한 맞춤형 피드백을 제공하여 학생의 학습을 지원한다. 라. 평가의 목표를 학생에게 미리 안내(매 학기 초 사전 안내)하여 학습 과정에서 학생이 주도적으로 자신의 학습과정을 성찰하고, 스스로 조정할 수 있도록 한다. 마. 학습한 지식과 기능을 바탕으로 종합하여 판단하거나 새로운 변화를 만들어 낼 수 있는지를 평가한다. 바. 학습과 평가의 과정에서 얻은 경험을 바탕으로 실생활 맥락 속의 문제를 해결 할 수 있는 역량을 함양할 수 있도록 한다. 3. 추진내용']\n",
      "{'source': './data/complex_pdf/school_edu_guide.pdf', 'filetype': 'application/pdf', 'languages': ['kor', 'eng'], 'last_modified': '2024-04-04T01:39:24', 'page_number': 10, 'file_directory': './data/complex_pdf', 'filename': 'school_edu_guide.pdf', 'category': 'CompositeElement', 'family_tree': 'child', 'parent_id': 'c2324ffc-6c56-43dd-bd56-f8ecac0dc26c', 'id': '6ee009ee-7664-41ea-b0d7-a980bd164f6e'}\n",
      "\n",
      "Score: 0.019565986469388008\n",
      "['이 표는 학교에서 실시하는 교육 활동 계획을 보여주고 있습니다. 주요 내용은 디지털 시민 역량 강화를 위한 교육정보화 지원 및 정보통신윤리교육, 독서 및 독서인문교육 활성화를 위한 도서관 운영 및 독서행사, 진로교육 강화를 위한 진로체험 및 탐색 프로그램 등입니다. 각 활동의 시기, 대상 학년, 관련 부서 등의 정보가 상세히 제시되어 있습니다.']\n",
      "{'source': './data/complex_pdf/school_edu_guide.pdf', 'detection_class_prob': 0.8930906653404236, 'coordinates': {'points': [[155.992431640625, 390.875244140625], [155.992431640625, 2049.864013671875], [1519.5548095703125, 2049.864013671875], [1519.5548095703125, 390.875244140625]], 'system': 'PixelSpace', 'layout_width': 1653, 'layout_height': 2337}, 'last_modified': '2024-04-04T01:39:24', 'text_as_html': '<table><thead><th>0 Ko = 384 -</th><th>호 A 고 — T 까 Kk : g5 Mo 배 | 해 더 ) =W O | 홀 읍 메트 더] 뿌 헤 R _ R 허그 oy RATT wTAKR 덕 부 SRR o0 o</th><th>= offl N 에 S &lt; -</th><th>20 대 = [t} O &lt;</th><th>꼭 i = o 떤 미비 에 20</th></thead><tr><td rowspan=\"3\">o 랙 주 0 - 페오 때 0 듬 히</td><td>= ol 80 ok _ |2 =g 00 | 8 T | .o | @ 이얼 | 해 애정 오 에 o — R | 트 - 엄히 ㅎ | 을 | | 더 4010 | | Mm b</td><td>Ko 10 어리</td><td></td><td></td></tr><tr><td></td><td>헌 o 는 이 4 해 &amp;~ H T 후 ¥ &amp; 원 귀 T Mmoo ol oy o 매일 o 꼬 90 ol ㅡ 얘 페 더 등기 더 MmET 께 때 wHS 중 (FE o © m i</td><td>10 8l</td><td>b2 ) &lt;</td><td>T 원 ™ ol 마 20 더</td></tr><tr><td></td><td>ol N _ ol 해군 D ㅋ 이를 - Fra| &amp; 채 얘 = 이게 A Xy _Mn_ mEH g | 0 ~ R 어젠 L | w o o = 아 이 호 브 | 압 퍼 흐리 | TOHES | 누 조 0 더 때 | 때 리 는 6 | (종중 안다 | o o o o</td><td>— Ko Koo Kio ™ = 81818 1</td><td>끼 꼬 꼬꼬 인 | 10 © O OV &lt; 근 고고고</td><td>o o 깨 20</td></tr><tr><td>얘 i o 때 ™ 3l 베</td><td>Klo or 80 o X o4 U 호 해 800 내 . oz _ 꺼 ol ~ 빈 명 은 &lt; 베 가 께 B0 oy o R 구도 o &lt; 나 ogrTABou KT . 쥐 o | HooPa@ Dl S AT g 폭 레 레미 시리즈 WwXXTTHNIT | 버 버 버 판 바 아 | B o o o o o o</td><td>mw T KO o 고 2 개 Ko 고 Ko 한 한 mE Ty s % I W -</td><td>DEWE . 인 | | for ol oy © 는 o © ©v © 는 s - - - -</td><td>%0 &amp; 얘 덕</td></tr><tr><td>5 o 95 PR ㅁ</td><td>OH 헌 에 인 Y OH 녁 oir 때 = = HooR 「 ㅁ i M| 이 ) 0 o Ko o i - R 패고 o = 30 %0 e ooy B g £ X 부 교 능 그녀 하 짐 이 홍 패 et KR | 에 포메 가옥 태 때, D5 . 띠 더 을 제 그 - B o \"7 o o</td><td>Ko Ko w7 Ko 85 이지</td><td>mm o mom 히피 00 0 1ol 우우 우우 - - - &lt;</td><td>o 3l 깨 20</td></tr><tr><td>- o 3</td><td>= 고 5l 래 ¥ 2 m U 0 &amp;l 뽀 해 = M S 은 애 한 A5 &amp; 이! 더 | 때 꼼 에 | WA | gt NI B o @</td><td>s ol 띠 10 30</td><td>g ¥ or = | 호흡 —</td><td>%0 = 매 덕</td></tr></table>', 'filetype': 'application/pdf', 'languages': ['kor', 'eng'], 'page_number': 6, 'file_directory': './data/complex_pdf', 'filename': 'school_edu_guide.pdf', 'category': 'Table', 'origin_table': '구현중점 교육활동 시기 대상 관련부서 331. 교육정보화 지원확대 및 학습 준비 철저 ◦컴퓨터실 정비 및 각종 교육 S/W 구비 ◦방송실의 효율적 운영 ◦학습준비물의 효율적인 선정 및 구입 7, 2월 연중 연중 1~6학년 생활인권 31. 디지털 시민 역량 강화 332. 학교홈페이지 및 알리미 체제 운영 ◦학교홈페이지 구성 및 활성화 ◦하이클래스를 활용한 교육 주체 간 소통 연중 1~6학년 생활인권 교무기획 333. 에듀테크교육 및 정보통신 윤리교육의 강화 ◦에듀테크교육 환경 구축 ◦개인정보 보호 활성화 및 저작권 교육 강화 ◦SW 교육(미래체험) 프로그램 체험 기회확대 ◦디지털 시민교육(코딩교실 운영) 연중 연중 연중 2학기 1~6학년 1~6학년 1~6학년 1~4학년 생활인권 231. 독서교육의 활성화 ◦교육과정 재구성을 통한 온책읽기 연중 1~6학년 교육과정 ◦질문과 토론이 있는 독서토론교육 운영 연중 1~6학년 32. 232. 독서인문교육을 돕는 도서관 운영 독서인문교육 ◦도서관 운영 계획 수립 3월 1~6학년 ◦도서관 활용 수업 활성화 및 도서 확충 연중 1~6학년 ◦독서 교실 운영 방학중 1~6학년 교육과정 ◦학생 참여의 독서 행사 운영 연중 1~6학년 ◦독서인문교실-작가와의 만남 5-6학년 11월 ◦미디어리터러시 교육 1-6학년 1회 331. 꿈을 키우는 학생 맞춤형 진로교육 강화 ◦진로체험교실 운영 ◦교과 및 창의체험 활동을 통한 진로교육 운 영 연중 연중 1~6학년 1~6학년 생활인권 33. ◦학년 수준에 맞는 진로탐색 프로그램 운영 ◦사이버 진로교육 운영-커리어넷 2회 연중 1~6학년 4~6학년 다양한 진로 교육 실시 332. 진로연계교육 실시 ◦1-2학년은 성장이음과정 실시 ◦3학년은 교과목 설명 및 전담과목 및 안내 학년초 학년초 1-2학년 3학년 교육과정', 'family_tree': 'parent_table', 'parent_id': 'NA', 'id': '31a7842d-17a9-41bb-b4e6-8c3fdeeddd6d'}\n",
      "\n",
      "Score: 0.007091263768842862\n",
      "['‧ 창의적 체험활동의 영역별 활동내용, 평가방법 및 기준은 교육과정을 근 - 9 - □5 선행교육 예방 (공교육정상화법) 교사 우○주 ❍ 선행교육 -「초‧중등교육법」제23조제2항에 따라 교육부장관이 정한 초․중등학교 교육과정(국가교육과정) 및 교육감이 정한 초․중등학교 교육과정(시․도교육과정), 「초‧중등교육법」제23조제1항에 근거하여 편성․운영되는 단위학교 교육과정(학교 교육과정) 국가교육과정-시․도교육과정-학교 교육과정에 앞서서 편성 또는 제공하는 교육 일반 ❍ 선행학습 - 학습자가 국가교육과정, 시․도교육과정, 학교 교육과정에 앞서서 하는 학습 1. 추진 근거 및 목적 L RIS 가. 근거 Ÿ 「공교육 정상화 촉진 및 선행교육 규제에 관한 특별법」(공교육정상화법) Ÿ 2024년 선행학습 유발 관행 근절 사업 추진계획(교육부 기초학력진로교육과-379, 2024.1.31.) = [9 = < [aN] & - % 5 = 해 때 R 제 0 | 버 과 E 제 o 99 = = B 회 - 0 0 80 MR Q0w 나. 목적 Ÿ 학교의 정상적인 교육과정 운영을 위한 여건 조성 및 공교육 정상화 실현 Ÿ 선행교육과 선행학습 유발 관행 근절을 위한 학생, 교원, 학부모 인식 개선 연수 및 홍보 강화 0\" 3l om0 음미 Ÿ 교육과정 편성 운영 및 선행출제 점검·컨설팅을 통해 학생의 발달단계에 맞는 교육 실시 2. 추진 계획 가. 연수 추진 계획']\n",
      "{'source': './data/complex_pdf/school_edu_guide.pdf', 'filetype': 'application/pdf', 'languages': ['kor', 'eng'], 'last_modified': '2024-04-04T01:39:24', 'page_number': 11, 'file_directory': './data/complex_pdf', 'filename': 'school_edu_guide.pdf', 'category': 'CompositeElement', 'family_tree': 'child', 'parent_id': '7d9d2ff0-d190-4356-bbbe-fbdbd44bfceb', 'id': '22312bd2-8521-4168-93d8-761a1c714eb9'}\n",
      "None\n",
      "\n",
      "==========  Results  ==========\n",
      "\n",
      "1. question: 교육목표는?\n",
      "2. # documents: 3\n",
      "3. Documents: \n",
      "\n",
      "\n",
      "-----------------------------------------------\n",
      "1. Category: CompositeElement, Chunk: 647 Characters\n",
      "-----------------------------------------------\n",
      "2024학년도 학 교 교 육 과 정 설 명 회 연 수 자 료 일시: 2024년 3월 20일 (수) 바른 인성, 건강한 감성, 즐거운 배움으로 미래를 가꾸는 바른 인성, 건강한\n",
      "감성, 즐거운 배움으로 미래를 가꾸는 학부모 연수 순서 학부모 연수 순서 1. 상록 교육목표 및 구현계획 2. 2024학년도 학사 일정 안내 3. 출결 관련 확인 제출자료 안내\n",
      "4. 학교교육평가 5. 선행교육 예방(공교육정상화법) 6. 학생 안전 교육 7. 성폭력 예방 교육 8. 흡연 및 음주 예방 교육 9. 학생 인권조례 및 교권보호 10. 방과후학교\n",
      "운영 11. 초등돌봄교실(오후돌봄) 운영 12. 학부모 서비스 신청 안내 13. 정보통신윤리교육 14. 정보보안 및 개인정보보호 운영 계획 15. 불법찬조금 근절 16. 아동학대\n",
      "예방 교육 17. 가정폭력 예방 교육 18. 생명 존중 및 생명 살림(자살 예방) 교육 19. 교육활동 참여자 안전교육(녹색, 학부모폴리스) 20. 학교폭력 예방 교육 21.\n",
      "감염병 예방 교육 22. 청탁금지법 23. 공익제보자 보호 및 공익 신고 보상 안내 24. 존중과 배려의 교육환경 조성 예방 교육(갑질 근절) 25. 교육활동보호예방교육 1 상록\n",
      "교육 목표 및 구현 계획 비전 바른 인성, 건강한 감성, 즐거운 배움으로 미래를 가꾸는 어린이\n",
      "metadata:\n",
      " {'source': './data/complex_pdf/school_edu_guide.pdf', 'filetype': 'application/pdf', 'languages':\n",
      "['kor', 'eng'], 'last_modified': '2024-04-04T01:39:24', 'page_number': 1, 'file_directory':\n",
      "'./data/complex_pdf', 'filename': 'school_edu_guide.pdf', 'category': 'CompositeElement',\n",
      "'family_tree': 'parent', 'parent_id': None, 'id': 'b8a8496c-1a84-4f96-a020-167eab316664'}\n",
      "\n",
      "-----------------------------------------------\n",
      "2. Category: CompositeElement, Chunk: 327 Characters\n",
      "-----------------------------------------------\n",
      ". 나. 학생의 학습 수준을 확인하고 결과만이 아니라 결과에 이르기까지의 학습과정을 중시한다. 다. 학생의 학습 과정과 결과에 대한 맞춤형 피드백을 제공하여 학생의 학습을\n",
      "지원한다. 라. 평가의 목표를 학생에게 미리 안내(매 학기 초 사전 안내)하여 학습 과정에서 학생이 주도적으로 자신의 학습과정을 성찰하고, 스스로 조정할 수 있도록 한다. 마.\n",
      "학습한 지식과 기능을 바탕으로 종합하여 판단하거나 새로운 변화를 만들어 낼 수 있는지를 평가한다. 바. 학습과 평가의 과정에서 얻은 경험을 바탕으로 실생활 맥락 속의 문제를 해결\n",
      "할 수 있는 역량을 함양할 수 있도록 한다. 3. 추진내용\n",
      "metadata:\n",
      " {'source': './data/complex_pdf/school_edu_guide.pdf', 'filetype': 'application/pdf', 'languages':\n",
      "['kor', 'eng'], 'last_modified': '2024-04-04T01:39:24', 'page_number': 10, 'file_directory':\n",
      "'./data/complex_pdf', 'filename': 'school_edu_guide.pdf', 'category': 'CompositeElement',\n",
      "'family_tree': 'child', 'parent_id': 'c2324ffc-6c56-43dd-bd56-f8ecac0dc26c', 'id':\n",
      "'6ee009ee-7664-41ea-b0d7-a980bd164f6e'}\n",
      "\n",
      "-----------------------------------------------\n",
      "3. Category: CompositeElement, Chunk: 699 Characters\n",
      "-----------------------------------------------\n",
      "‧ 창의적 체험활동의 영역별 활동내용, 평가방법 및 기준은 교육과정을 근 - 9 - □5 선행교육 예방 (공교육정상화법) 교사 우○주 ❍ 선행교육 -「초‧중등교육법」제23조제2항에\n",
      "따라 교육부장관이 정한 초․중등학교 교육과정(국가교육과정) 및 교육감이 정한 초․중등학교 교육과정(시․도교육과정), 「초‧중등교육법」제23조제1항에 근거하여 편성․운영되는 단위학교\n",
      "교육과정(학교 교육과정) 국가교육과정-시․도교육과정-학교 교육과정에 앞서서 편성 또는 제공하는 교육 일반 ❍ 선행학습 - 학습자가 국가교육과정, 시․도교육과정, 학교 교육과정에\n",
      "앞서서 하는 학습 1. 추진 근거 및 목적 L RIS 가. 근거 Ÿ 「공교육 정상화 촉진 및 선행교육 규제에 관한 특별법」(공교육정상화법) Ÿ 2024년 선행학습 유발 관행 근절\n",
      "사업 추진계획(교육부 기초학력진로교육과-379, 2024.1.31.) = [9 = < [aN] & - % 5 = 해 때 R 제 0 | 버 과 E 제 o 99 = = B 회 - 0\n",
      "0 80 MR Q0w 나. 목적 Ÿ 학교의 정상적인 교육과정 운영을 위한 여건 조성 및 공교육 정상화 실현 Ÿ 선행교육과 선행학습 유발 관행 근절을 위한 학생, 교원, 학부모 인식\n",
      "개선 연수 및 홍보 강화 0\" 3l om0 음미 Ÿ 교육과정 편성 운영 및 선행출제 점검·컨설팅을 통해 학생의 발달단계에 맞는 교육 실시 2. 추진 계획 가. 연수 추진 계획\n",
      "metadata:\n",
      " {'source': './data/complex_pdf/school_edu_guide.pdf', 'filetype': 'application/pdf', 'languages':\n",
      "['kor', 'eng'], 'last_modified': '2024-04-04T01:39:24', 'page_number': 11, 'file_directory':\n",
      "'./data/complex_pdf', 'filename': 'school_edu_guide.pdf', 'category': 'CompositeElement',\n",
      "'family_tree': 'child', 'parent_id': '7d9d2ff0-d190-4356-bbbe-fbdbd44bfceb', 'id':\n",
      "'22312bd2-8521-4168-93d8-761a1c714eb9'}\n",
      "CPU times: user 398 ms, sys: 52.9 ms, total: 451 ms\n",
      "Wall time: 5.72 s\n"
     ]
    }
   ],
   "source": [
    "%%time\n",
    "search_hybrid_result = opensearch_hybrid_retriever.get_relevant_documents(query)\n",
    "\n",
    "print(\"\\n==========  Results  ==========\\n\")\n",
    "print(f'1. question: {query}')\n",
    "print (f'2. # documents: {len(search_hybrid_result)}')\n",
    "print(\"3. Documents: \\n\")\n",
    "\n",
    "show_context_used(search_hybrid_result)"
   ]
  },
  {
   "cell_type": "markdown",
   "id": "c09221b5-4a6c-463b-9769-35cc8362e33c",
   "metadata": {},
   "source": [
    "- update parameters"
   ]
  },
  {
   "cell_type": "code",
   "execution_count": 35,
   "id": "b7bb4672-d2b8-4b29-b71c-b06d84bcd470",
   "metadata": {
    "tags": []
   },
   "outputs": [],
   "source": [
    "opensearch_hybrid_retriever.update_search_params(\n",
    "    k=5,\n",
    "    minimum_should_match=30,\n",
    "    filter=[\n",
    "        #{\"term\": {\"metadata.project\": \"KS\"}},\n",
    "    ],\n",
    "    reranker=True,\n",
    "    reranker_endpoint_name=endpoint_name,\n",
    "    hyde=True, # enable hyde\n",
    "    hyde_query=[\"web_search\"], # query type in hyde \n",
    "    llm_text=llm_text, # llm for query augmentation in rag_fusion\n",
    "    verbose=True\n",
    ")"
   ]
  },
  {
   "cell_type": "code",
   "execution_count": 36,
   "id": "1b9b45b1-cb92-4954-8087-143a550350c8",
   "metadata": {
    "collapsed": true,
    "jupyter": {
     "outputs_hidden": true
    },
    "tags": []
   },
   "outputs": [
    {
     "name": "stdout",
     "output_type": "stream",
     "text": [
      "\n",
      "\n",
      "===== HyDE Answers =====\n",
      "['교육목표는?', '본 강좌의 교육목표는 다음과 같습니다:\\n\\n1. 학생들에게 기본적인 프로그래밍 개념과 원리를 전달합니다.\\n2. 문제해결능력과 논리적 사고력을 기릅니다.\\n3. 프로그래밍 언어와 개발 도구 사용법을 익힙니다.\\n4. 팀 프로젝트를 통해 협업 능력과 의사소통 능력을 향상시킵니다.\\n5. 컴퓨터 분야에 대한 관심과 열정을 고취시킵니다.\\n\\n이 강좌를 통해 학생들은 프로그래밍 기초 지식을 쌓고 실무에 필요한 기술을 습득할 수 있을 것입니다.']\n",
      "\n",
      "[Exeeds ReRanker token limit] Number of chunk_docs after split and chunking= 2\n",
      "\n",
      "\n",
      "[Exeeds ReRanker token limit] Number of chunk_docs after split and chunking= 1\n",
      "\n",
      "\n",
      "[Exeeds ReRanker token limit] Number of chunk_docs after split and chunking= 2\n",
      "\n",
      "##############################\n",
      "async_mode\n",
      "##############################\n",
      "False\n",
      "##############################\n",
      "reranker\n",
      "##############################\n",
      "True\n",
      "##############################\n",
      "rag_fusion\n",
      "##############################\n",
      "False\n",
      "##############################\n",
      "HyDE\n",
      "##############################\n",
      "True\n",
      "##############################\n",
      "parent_document\n",
      "##############################\n",
      "False\n",
      "##############################\n",
      "complex_document\n",
      "##############################\n",
      "True\n",
      "##############################\n",
      "similar_docs_semantic\n",
      "##############################\n",
      "\n",
      "Score: 0.01575682382133995\n",
      "['주어진 이미지는 11종의 소통하는 교육, 12종의 안전한 세계시민 교육, 13종의 나눔, 배려, 협력하는 인성교육에 대한 구체적인 교육활동과 시기, 대상, 관련부서를 설명하는 표입니다. 각 교육활동 유형별로 세부 내용과 기간, 대상 학년, 담당부서가 정리되어 있어 체계적으로 교육 계획을 파악할 수 있습니다.']\n",
      "{'img_path': './fig/table-1-resize.jpg', 'category': 'Image', 'image_base64': '', 'family_tree': 'parent_image', 'parent_id': 'NA', 'id': 'f75d2013-0f6a-4dd8-83ec-6162ad2a745d'}\n",
      "\n",
      "Score: 0.015504807692307693\n",
      "['‧ 창의적 체험활동의 영역별 활동내용, 평가방법 및 기준은 교육과정을 근 - 9 - □5 선행교육 예방 (공교육정상화법) 교사 우○주 ❍ 선행교육 -「초‧중등교육법」제23조제2항에 따라 교육부장관이 정한 초․중등학교 교육과정(국가교육과정) 및 교육감이 정한 초․중등학교 교육과정(시․도교육과정), 「초‧중등교육법」제23조제1항에 근거하여 편성․운영되는 단위학교 교육과정(학교 교육과정) 국가교육과정-시․도교육과정-학교 교육과정에 앞서서 편성 또는 제공하는 교육 일반 ❍ 선행학습 - 학습자가 국가교육과정, 시․도교육과정, 학교 교육과정에 앞서서 하는 학습 1. 추진 근거 및 목적 L RIS 가. 근거 Ÿ 「공교육 정상화 촉진 및 선행교육 규제에 관한 특별법」(공교육정상화법) Ÿ 2024년 선행학습 유발 관행 근절 사업 추진계획(교육부 기초학력진로교육과-379, 2024.1.31.) = [9 = < [aN] & - % 5 = 해 때 R 제 0 | 버 과 E 제 o 99 = = B 회 - 0 0 80 MR Q0w 나. 목적 Ÿ 학교의 정상적인 교육과정 운영을 위한 여건 조성 및 공교육 정상화 실현 Ÿ 선행교육과 선행학습 유발 관행 근절을 위한 학생, 교원, 학부모 인식 개선 연수 및 홍보 강화 0\" 3l om0 음미 Ÿ 교육과정 편성 운영 및 선행출제 점검·컨설팅을 통해 학생의 발달단계에 맞는 교육 실시 2. 추진 계획 가. 연수 추진 계획']\n",
      "{'source': './data/complex_pdf/school_edu_guide.pdf', 'filetype': 'application/pdf', 'languages': ['kor', 'eng'], 'last_modified': '2024-04-04T01:39:24', 'page_number': 11, 'file_directory': './data/complex_pdf', 'filename': 'school_edu_guide.pdf', 'category': 'CompositeElement', 'family_tree': 'child', 'parent_id': '7d9d2ff0-d190-4356-bbbe-fbdbd44bfceb', 'id': '22312bd2-8521-4168-93d8-761a1c714eb9'}\n",
      "\n",
      "Score: 0.015038444142921756\n",
      "['이 표는 학교에서 실시하는 교육 활동 계획을 보여주고 있습니다. 주요 내용은 디지털 시민 역량 강화를 위한 교육정보화 지원 및 정보통신윤리교육, 독서 및 독서인문교육 활성화를 위한 도서관 운영 및 독서행사, 진로교육 강화를 위한 진로체험 및 탐색 프로그램 등입니다. 각 활동의 시기, 대상 학년, 관련 부서 등의 정보가 상세히 제시되어 있습니다.']\n",
      "{'source': './data/complex_pdf/school_edu_guide.pdf', 'detection_class_prob': 0.8930906653404236, 'coordinates': {'points': [[155.992431640625, 390.875244140625], [155.992431640625, 2049.864013671875], [1519.5548095703125, 2049.864013671875], [1519.5548095703125, 390.875244140625]], 'system': 'PixelSpace', 'layout_width': 1653, 'layout_height': 2337}, 'last_modified': '2024-04-04T01:39:24', 'text_as_html': '<table><thead><th>0 Ko = 384 -</th><th>호 A 고 — T 까 Kk : g5 Mo 배 | 해 더 ) =W O | 홀 읍 메트 더] 뿌 헤 R _ R 허그 oy RATT wTAKR 덕 부 SRR o0 o</th><th>= offl N 에 S &lt; -</th><th>20 대 = [t} O &lt;</th><th>꼭 i = o 떤 미비 에 20</th></thead><tr><td rowspan=\"3\">o 랙 주 0 - 페오 때 0 듬 히</td><td>= ol 80 ok _ |2 =g 00 | 8 T | .o | @ 이얼 | 해 애정 오 에 o — R | 트 - 엄히 ㅎ | 을 | | 더 4010 | | Mm b</td><td>Ko 10 어리</td><td></td><td></td></tr><tr><td></td><td>헌 o 는 이 4 해 &amp;~ H T 후 ¥ &amp; 원 귀 T Mmoo ol oy o 매일 o 꼬 90 ol ㅡ 얘 페 더 등기 더 MmET 께 때 wHS 중 (FE o © m i</td><td>10 8l</td><td>b2 ) &lt;</td><td>T 원 ™ ol 마 20 더</td></tr><tr><td></td><td>ol N _ ol 해군 D ㅋ 이를 - Fra| &amp; 채 얘 = 이게 A Xy _Mn_ mEH g | 0 ~ R 어젠 L | w o o = 아 이 호 브 | 압 퍼 흐리 | TOHES | 누 조 0 더 때 | 때 리 는 6 | (종중 안다 | o o o o</td><td>— Ko Koo Kio ™ = 81818 1</td><td>끼 꼬 꼬꼬 인 | 10 © O OV &lt; 근 고고고</td><td>o o 깨 20</td></tr><tr><td>얘 i o 때 ™ 3l 베</td><td>Klo or 80 o X o4 U 호 해 800 내 . oz _ 꺼 ol ~ 빈 명 은 &lt; 베 가 께 B0 oy o R 구도 o &lt; 나 ogrTABou KT . 쥐 o | HooPa@ Dl S AT g 폭 레 레미 시리즈 WwXXTTHNIT | 버 버 버 판 바 아 | B o o o o o o</td><td>mw T KO o 고 2 개 Ko 고 Ko 한 한 mE Ty s % I W -</td><td>DEWE . 인 | | for ol oy © 는 o © ©v © 는 s - - - -</td><td>%0 &amp; 얘 덕</td></tr><tr><td>5 o 95 PR ㅁ</td><td>OH 헌 에 인 Y OH 녁 oir 때 = = HooR 「 ㅁ i M| 이 ) 0 o Ko o i - R 패고 o = 30 %0 e ooy B g £ X 부 교 능 그녀 하 짐 이 홍 패 et KR | 에 포메 가옥 태 때, D5 . 띠 더 을 제 그 - B o \"7 o o</td><td>Ko Ko w7 Ko 85 이지</td><td>mm o mom 히피 00 0 1ol 우우 우우 - - - &lt;</td><td>o 3l 깨 20</td></tr><tr><td>- o 3</td><td>= 고 5l 래 ¥ 2 m U 0 &amp;l 뽀 해 = M S 은 애 한 A5 &amp; 이! 더 | 때 꼼 에 | WA | gt NI B o @</td><td>s ol 띠 10 30</td><td>g ¥ or = | 호흡 —</td><td>%0 = 매 덕</td></tr></table>', 'filetype': 'application/pdf', 'languages': ['kor', 'eng'], 'page_number': 6, 'file_directory': './data/complex_pdf', 'filename': 'school_edu_guide.pdf', 'category': 'Table', 'origin_table': '구현중점 교육활동 시기 대상 관련부서 331. 교육정보화 지원확대 및 학습 준비 철저 ◦컴퓨터실 정비 및 각종 교육 S/W 구비 ◦방송실의 효율적 운영 ◦학습준비물의 효율적인 선정 및 구입 7, 2월 연중 연중 1~6학년 생활인권 31. 디지털 시민 역량 강화 332. 학교홈페이지 및 알리미 체제 운영 ◦학교홈페이지 구성 및 활성화 ◦하이클래스를 활용한 교육 주체 간 소통 연중 1~6학년 생활인권 교무기획 333. 에듀테크교육 및 정보통신 윤리교육의 강화 ◦에듀테크교육 환경 구축 ◦개인정보 보호 활성화 및 저작권 교육 강화 ◦SW 교육(미래체험) 프로그램 체험 기회확대 ◦디지털 시민교육(코딩교실 운영) 연중 연중 연중 2학기 1~6학년 1~6학년 1~6학년 1~4학년 생활인권 231. 독서교육의 활성화 ◦교육과정 재구성을 통한 온책읽기 연중 1~6학년 교육과정 ◦질문과 토론이 있는 독서토론교육 운영 연중 1~6학년 32. 232. 독서인문교육을 돕는 도서관 운영 독서인문교육 ◦도서관 운영 계획 수립 3월 1~6학년 ◦도서관 활용 수업 활성화 및 도서 확충 연중 1~6학년 ◦독서 교실 운영 방학중 1~6학년 교육과정 ◦학생 참여의 독서 행사 운영 연중 1~6학년 ◦독서인문교실-작가와의 만남 5-6학년 11월 ◦미디어리터러시 교육 1-6학년 1회 331. 꿈을 키우는 학생 맞춤형 진로교육 강화 ◦진로체험교실 운영 ◦교과 및 창의체험 활동을 통한 진로교육 운 영 연중 연중 1~6학년 1~6학년 생활인권 33. ◦학년 수준에 맞는 진로탐색 프로그램 운영 ◦사이버 진로교육 운영-커리어넷 2회 연중 1~6학년 4~6학년 다양한 진로 교육 실시 332. 진로연계교육 실시 ◦1-2학년은 성장이음과정 실시 ◦3학년은 교과목 설명 및 전담과목 및 안내 학년초 학년초 1-2학년 3학년 교육과정', 'family_tree': 'parent_table', 'parent_id': 'NA', 'id': '31a7842d-17a9-41bb-b4e6-8c3fdeeddd6d'}\n",
      "\n",
      "Score: 0.00819672131147541\n",
      "['이 표는 2년 이내 학생을 대상으로 하는 프로그램의 운영시간, 대상자, 수강과목 등의 정보를 제공하고 있습니다. 운영기간, 운영시간, 학습편성, 전공교실, 프로그램 구성, 특성프로그램, 급식 및 간식, 물품 납부 등의 세부사항이 명시되어 있습니다.']\n",
      "{'img_path': './fig/table-22-resize.jpg', 'category': 'Image', 'image_base64': '', 'family_tree': 'parent_image', 'parent_id': 'NA', 'id': 'ea8556ec-b0bd-4e3d-8977-2268b77cd70f'}\n",
      "\n",
      "Score: 0.00819672131147541\n",
      "['. 나. 학생의 학습 수준을 확인하고 결과만이 아니라 결과에 이르기까지의 학습과정을 중시한다. 다. 학생의 학습 과정과 결과에 대한 맞춤형 피드백을 제공하여 학생의 학습을 지원한다. 라. 평가의 목표를 학생에게 미리 안내(매 학기 초 사전 안내)하여 학습 과정에서 학생이 주도적으로 자신의 학습과정을 성찰하고, 스스로 조정할 수 있도록 한다. 마. 학습한 지식과 기능을 바탕으로 종합하여 판단하거나 새로운 변화를 만들어 낼 수 있는지를 평가한다. 바. 학습과 평가의 과정에서 얻은 경험을 바탕으로 실생활 맥락 속의 문제를 해결 할 수 있는 역량을 함양할 수 있도록 한다. 3. 추진내용']\n",
      "{'source': './data/complex_pdf/school_edu_guide.pdf', 'filetype': 'application/pdf', 'languages': ['kor', 'eng'], 'last_modified': '2024-04-04T01:39:24', 'page_number': 10, 'file_directory': './data/complex_pdf', 'filename': 'school_edu_guide.pdf', 'category': 'CompositeElement', 'family_tree': 'child', 'parent_id': 'c2324ffc-6c56-43dd-bd56-f8ecac0dc26c', 'id': '6ee009ee-7664-41ea-b0d7-a980bd164f6e'}\n",
      "\n",
      "Score: 0.008064516129032258\n",
      "['❍ 인터넷 중독 예방 교육 실시(전교생, 연중) ❍ 스마트폰 이용 자율 신철 규칙 제정 운영(3~6학년, 연중) ❍ 가정과 연계한 스마트폰 이별 주간 자율 운영(4~6학년, 2024 여름방학) ❍ 저작권 교육(4~6학년, 연중) ❍ 교직원 및 학부모 정보통신윤리 연수(연 1회) ❍ 청소년 미디어 이용습관 진단조사 실시(1,4학년, 6월) 4) 참고 사항 ❍ 홈페이지 상 정보통신윤리교육 주간 배너 탑재 및 팝업 창을 통한 홍보 ❍ 가정통신문 및 SNS 등을 활용한 정보통신윤리교육 주간 운영의 취지홍보 5) 유의 사항 및 기대효과 ❍ 정보통신윤리교육을 적극적으로 실시하여 정보통신윤리 교육에 대한 인식 전환이 될 수 있도록 함. ❍ 올바른 인터넷 및 스마트폰 사용을 통해 바람직한 인터넷 문화가 조성되는 것을 기대함. - 22 - 14 정보보안 및 개인정보보호 운영 계획 교사 고○용 1) 목적 ❍ 체계적이고 효율적인 정보보안 활동으로 각종 정보보안 사고를 예방하고, 사이버 공격에 대응하기 ❍ 개인정보를 체계적으로 관리하고 개인정보 수집을 최소화 하여 개인정보가 분실, 도난, 누출, 변조, 훼손, 남용되지 않도록 하기 2) 방침 ❍ 방화벽을 통한 보안정책 수립 및 불필요한 포트를 제거하여 외부에서의 불법적 접근을 사전 차단하기 ❍ 정기적인 백신 및 운영체제 업데이트로 업무용 PC보안을 강화하기 ❍ 업무용 PC에 개인정보파일을 보유하고 있는 경우, 파일 암호 설정 등 개인정보 파일의 철저한 보호를 위한 조치하기 ❍ 개인정보보호와 정보보안 교육 실시하기 ❍ 개인정보 수집의 최소화 (꼭 필요한 자료만 수집할 수 있도록 연수 및 안내) 3) 추진내용 ❍ [상시] 사이버보안 진단의 날 운영 - 내 PC지킴이 실행: 매월 세 번째 수요일(월 1회) - 내 PC지킴이 실행 결과 보고: 매월 말 (월 1회) - 내 PC지킴이 실행 독려 및 정보보안 및 개인정보보호 관련 주요사항 안내 ❍ [상시] 개인정보 파일 정비 - 내용: 개인정보보호 종합지원시스템(intra.privacy.go.kr)에 개인정보파일등록 (파일명에 따른 보유건수, 보유기관, 담당자 등) ❍ 개인정보 수집이용 및 제3자 정보제공 동의서 발송 및 수합 - 대상: 전교생 - 일시: 3월 초 ❍ 정보보안과 개인정보보호 교직원 연수 실시 - 일시 : 4월 - 연수 내용: 개인정보 보호 및 정보보안 - 교육 방법 : 비대면 시청각 자료 및 쌍방향 프로그램 이용 ❍ 주요 정보통신 시설 관리 - 학내망 장비 및 서버 관리실 통제구역 설정 - 시스템 및 장비별 관리 책임자 지정, 시스템의 주기적 점검 - 무선통신 보안 관리(업무용 pc에서 무선 접속장치 사용금지) ❍ 기타 - 외부용역업체 보안관리 - 학교홈페이지 개인정보 처리방침 내용 수정 관리 (개인정보 책임자 또는 담당자가 변경되었을 경우이거나 개인정보 파일명과 보유기간 등의 변경 사 항을 최대한 빠른 기간에 반영) 4) 기대 효과 ❍ 정보보안 활동으로 각종 정보보안 사고를 예방하고, 사이버 공격 대응태세 갖추기 ❍ 개인정보가 분실, 도난, 누출, 변조, 훼손, 남용되지 않도록 노력하는 학교문화 만들기 - 23 - 15 불법찬조금 근절을 위한 학부모 연수 교감 김○식 Ⅰ 불법찬조금 처분 기준 불법찬조금 관련 처분기준(2020. 3. 1. 시행) 처분기준 금액']\n",
      "{'source': './data/complex_pdf/school_edu_guide.pdf', 'filetype': 'application/pdf', 'languages': ['kor', 'eng'], 'last_modified': '2024-04-04T01:39:24', 'page_number': 24, 'file_directory': './data/complex_pdf', 'filename': 'school_edu_guide.pdf', 'category': 'CompositeElement', 'family_tree': 'parent', 'parent_id': None, 'id': '7fc50fab-a713-4d27-ad26-34c06a91345d'}\n",
      "\n",
      "Score: 0.007936507936507936\n",
      "['이 표는 어린이 교육의 세 가지 주요 목표를 제시하고 있습니다. 첫째, 존중과 나눔을 실천하는 바른 인성을 기르는 것입니다. 둘째, 몸과 마음의 건강 및 예술 향유를 통해 문화적 소양을 기르는 것입니다. 셋째, 특기와 소질 계발을 통해 미래를 대비하는 창의성을 기르는 것입니다.']\n",
      "{'source': './data/complex_pdf/school_edu_guide.pdf', 'detection_class_prob': 0.5580280423164368, 'coordinates': {'points': [[161.56983947753906, 716.003173828125], [161.56983947753906, 966.0720825195312], [1475.974853515625, 966.0720825195312], [1475.974853515625, 716.003173828125]], 'system': 'PixelSpace', 'layout_width': 1653, 'layout_height': 2337}, 'last_modified': '2024-04-04T01:39:24', 'text_as_html': '<table><tr><td>K 뼈 4</td><td>특 기 와 소 질 을 가꾸어 미 래 를 준 비 하는 창의적인 어린이</td></tr></table>', 'filetype': 'application/pdf', 'languages': ['kor', 'eng'], 'page_number': 3, 'file_directory': './data/complex_pdf', 'filename': 'school_edu_guide.pdf', 'category': 'Table', 'origin_table': '교육 목표 바른 인성으로 존중과 나눔을 실천하는 자주적인 어린이 몸과 마음이 건강하고 예술을 향유하는 문화적인 어린이 특기와 소질을 가꾸어 미래를 준비하는 창의적인 어린이', 'family_tree': 'parent_table', 'parent_id': 'NA', 'id': '11c4619b-e219-4246-ade0-a53165ae27b5'}\n",
      "None\n",
      "##############################\n",
      "similar_docs_keyword\n",
      "##############################\n",
      "\n",
      "Score: 1.0\n",
      "['2024학년도 학 교 교 육 과 정 설 명 회 연 수 자 료 일시: 2024년 3월 20일 (수) 바른 인성, 건강한 감성, 즐거운 배움으로 미래를 가꾸는 바른 인성, 건강한 감성, 즐거운 배움으로 미래를 가꾸는 학부모 연수 순서 학부모 연수 순서 1. 상록 교육목표 및 구현계획 2. 2024학년도 학사 일정 안내 3. 출결 관련 확인 제출자료 안내 4. 학교교육평가 5. 선행교육 예방(공교육정상화법) 6. 학생 안전 교육 7. 성폭력 예방 교육 8. 흡연 및 음주 예방 교육 9. 학생 인권조례 및 교권보호 10. 방과후학교 운영 11. 초등돌봄교실(오후돌봄) 운영 12. 학부모 서비스 신청 안내 13. 정보통신윤리교육 14. 정보보안 및 개인정보보호 운영 계획 15. 불법찬조금 근절 16. 아동학대 예방 교육 17. 가정폭력 예방 교육 18. 생명 존중 및 생명 살림(자살 예방) 교육 19. 교육활동 참여자 안전교육(녹색, 학부모폴리스) 20. 학교폭력 예방 교육 21. 감염병 예방 교육 22. 청탁금지법 23. 공익제보자 보호 및 공익 신고 보상 안내 24. 존중과 배려의 교육환경 조성 예방 교육(갑질 근절) 25. 교육활동보호예방교육 1 상록 교육 목표 및 구현 계획 비전 바른 인성, 건강한 감성, 즐거운 배움으로 미래를 가꾸는 어린이']\n",
      "{'source': './data/complex_pdf/school_edu_guide.pdf', 'filetype': 'application/pdf', 'languages': ['kor', 'eng'], 'last_modified': '2024-04-04T01:39:24', 'page_number': 1, 'file_directory': './data/complex_pdf', 'filename': 'school_edu_guide.pdf', 'category': 'CompositeElement', 'family_tree': 'child', 'parent_id': 'b8a8496c-1a84-4f96-a020-167eab316664', 'id': '80881750-725e-4d08-900c-a0ca1e337c66'}\n",
      "\n",
      "Score: 0.973217291889316\n",
      "['2024학년도 학 교 교 육 과 정 설 명 회 연 수 자 료 일시: 2024년 3월 20일 (수) 바른 인성, 건강한 감성, 즐거운 배움으로 미래를 가꾸는 바른 인성, 건강한 감성, 즐거운 배움으로 미래를 가꾸는 학부모 연수 순서 학부모 연수 순서 1. 상록 교육목표 및 구현계획 2. 2024학년도 학사 일정 안내 3. 출결 관련 확인 제출자료 안내 4. 학교교육평가 5. 선행교육 예방(공교육정상화법) 6. 학생 안전 교육 7. 성폭력 예방 교육 8. 흡연 및 음주 예방 교육 9. 학생 인권조례 및 교권보호 10. 방과후학교 운영 11. 초등돌봄교실(오후돌봄) 운영 12. 학부모 서비스 신청 안내 13. 정보통신윤리교육 14. 정보보안 및 개인정보보호 운영 계획 15. 불법찬조금 근절 16. 아동학대 예방 교육 17. 가정폭력 예방 교육 18. 생명 존중 및 생명 살림(자살 예방) 교육 19. 교육활동 참여자 안전교육(녹색, 학부모폴리스) 20. 학교폭력 예방 교육 21. 감염병 예방 교육 22. 청탁금지법 23. 공익제보자 보호 및 공익 신고 보상 안내 24. 존중과 배려의 교육환경 조성 예방 교육(갑질 근절) 25. 교육활동보호예방교육 1 상록 교육 목표 및 구현 계획 비전 바른 인성, 건강한 감성, 즐거운 배움으로 미래를 가꾸는 어린이']\n",
      "{'source': './data/complex_pdf/school_edu_guide.pdf', 'filetype': 'application/pdf', 'languages': ['kor', 'eng'], 'last_modified': '2024-04-04T01:39:24', 'page_number': 1, 'file_directory': './data/complex_pdf', 'filename': 'school_edu_guide.pdf', 'category': 'CompositeElement', 'family_tree': 'parent', 'parent_id': None, 'id': 'b8a8496c-1a84-4f96-a020-167eab316664'}\n",
      "\n",
      "Score: 0.8793743124731145\n",
      "['이 표는 어린이 교육의 세 가지 주요 목표를 제시하고 있습니다. 첫째, 존중과 나눔을 실천하는 바른 인성을 기르는 것입니다. 둘째, 몸과 마음의 건강 및 예술 향유를 통해 문화적 소양을 기르는 것입니다. 셋째, 특기와 소질 계발을 통해 미래를 대비하는 창의성을 기르는 것입니다.']\n",
      "{'source': './data/complex_pdf/school_edu_guide.pdf', 'detection_class_prob': 0.5580280423164368, 'coordinates': {'points': [[161.56983947753906, 716.003173828125], [161.56983947753906, 966.0720825195312], [1475.974853515625, 966.0720825195312], [1475.974853515625, 716.003173828125]], 'system': 'PixelSpace', 'layout_width': 1653, 'layout_height': 2337}, 'last_modified': '2024-04-04T01:39:24', 'text_as_html': '<table><tr><td>K 뼈 4</td><td>특 기 와 소 질 을 가꾸어 미 래 를 준 비 하는 창의적인 어린이</td></tr></table>', 'filetype': 'application/pdf', 'languages': ['kor', 'eng'], 'page_number': 3, 'file_directory': './data/complex_pdf', 'filename': 'school_edu_guide.pdf', 'category': 'Table', 'origin_table': '교육 목표 바른 인성으로 존중과 나눔을 실천하는 자주적인 어린이 몸과 마음이 건강하고 예술을 향유하는 문화적인 어린이 특기와 소질을 가꾸어 미래를 준비하는 창의적인 어린이', 'family_tree': 'parent_table', 'parent_id': 'NA', 'id': '11c4619b-e219-4246-ade0-a53165ae27b5'}\n",
      "\n",
      "Score: 0.754749566354497\n",
      "['이 이미지는 학교생활에서 일어날 수 있는 세 가지 역할 즉, 학생상, 교사상, 학부모상을 설명하고 있습니다. 각 역할이 수행해야 할 바람직한 행동들을 열거하고 있으며, 궁극적으로 이 세 가지 역할이 잘 어우러져 좋은 배움의 열매를 맺는 것이 목표라는 것을 보여줍니다.']\n",
      "{'img_path': './fig/figure-3-21.jpg', 'category': 'Image', 'image_base64': '', 'family_tree': 'parent_image', 'parent_id': 'NA', 'id': 'f7042aaf-9bae-4135-a374-7dc78b666c05'}\n",
      "\n",
      "Score: 0.5896793028140627\n",
      "['. 나. 학생의 학습 수준을 확인하고 결과만이 아니라 결과에 이르기까지의 학습과정을 중시한다. 다. 학생의 학습 과정과 결과에 대한 맞춤형 피드백을 제공하여 학생의 학습을 지원한다. 라. 평가의 목표를 학생에게 미리 안내(매 학기 초 사전 안내)하여 학습 과정에서 학생이 주도적으로 자신의 학습과정을 성찰하고, 스스로 조정할 수 있도록 한다. 마. 학습한 지식과 기능을 바탕으로 종합하여 판단하거나 새로운 변화를 만들어 낼 수 있는지를 평가한다. 바. 학습과 평가의 과정에서 얻은 경험을 바탕으로 실생활 맥락 속의 문제를 해결 할 수 있는 역량을 함양할 수 있도록 한다. 3. 추진내용']\n",
      "{'source': './data/complex_pdf/school_edu_guide.pdf', 'filetype': 'application/pdf', 'languages': ['kor', 'eng'], 'last_modified': '2024-04-04T01:39:24', 'page_number': 10, 'file_directory': './data/complex_pdf', 'filename': 'school_edu_guide.pdf', 'category': 'CompositeElement', 'family_tree': 'child', 'parent_id': 'c2324ffc-6c56-43dd-bd56-f8ecac0dc26c', 'id': '6ee009ee-7664-41ea-b0d7-a980bd164f6e'}\n",
      "\n",
      "Score: 0.4616673727541937\n",
      "['결 석 계 2. 질병 이외의 결석 또는 출석인정 결석인 경우 ① 1~2일: [경조사] 결석계와 담임교사확인서 + 청첩장·부고장(문자, 카톡 포함), 사망신고서 중 1부 [미인정 결석 및 기타 결석] 결석계와 담임교사확인서 ② 경조사로 인한 출석인정 결석 3일 이상: 결석계와 담임교사확인서 + 사망신고서(사본 가능) ③ 경조사 이외 출석인정 결석: 결석계와 담임교사확인서 + 증빙서류 ④ ‘①~③’ 에 해당되지 않는 결석 3일 이상: 결석계와 담임교사확인서 + 학부모확인서 ※ 학교장허가교외체험학습은 별도의 체험학습 신청서와 보고서 제출 ------------------------------------ 교사 작성 -------------------------------------- 담임교사 확인서 1. 해당 결석 및 사유 □ 질병 결석 □ 미인정 결석 □ 출석인정 결석 □ 기타 결석 사 유 2. 확인 방법 □하이톡 확인 □하이콜 확인 □가정방문 □학부형 내교 □기 타 ( ) 3. 비 고 : 202 년 월 일 담임교사 : (인) - 8 - □4 학생평가-학습으로의 평가 교사 우○주 1. 학습으로서의 평가의 특징 학습으로서의 평가는 학습 과정과 결과에 대해 학생 스스로 성찰하고, 자기 주도적인 학습 경험을 통해 학습 내용을 실생활 맥락의 문제 해결에 적용할 수 있는 역량을 키우는 평가 2. 방침 가. 학생의 삶과 연계한 교육과정, 수업, 평가의 운영으로 학생 개개인의 삶의 역량을 키운다. 나. 학생의 학습 수준을 확인하고 결과만이 아니라 결과에 이르기까지의 학습과정을 중시한다. 다. 학생의 학습 과정과 결과에 대한 맞춤형 피드백을 제공하여 학생의 학습을 지원한다. 라. 평가의 목표를 학생에게 미리 안내(매 학기 초 사전 안내)하여 학습 과정에서 학생이 주도적으로 자신의 학습과정을 성찰하고, 스스로 조정할 수 있도록 한다. 마. 학습한 지식과 기능을 바탕으로 종합하여 판단하거나 새로운 변화를 만들어 낼 수 있는지를 평가한다. 바']\n",
      "{'source': './data/complex_pdf/school_edu_guide.pdf', 'filetype': 'application/pdf', 'languages': ['kor', 'eng'], 'last_modified': '2024-04-04T01:39:24', 'page_number': 10, 'file_directory': './data/complex_pdf', 'filename': 'school_edu_guide.pdf', 'category': 'CompositeElement', 'family_tree': 'child', 'parent_id': 'c2324ffc-6c56-43dd-bd56-f8ecac0dc26c', 'id': '058221ff-47ce-4e3a-842a-7d8bd3c60213'}\n",
      "\n",
      "Score: 0.42984714990620376\n",
      "['결 석 계 2. 질병 이외의 결석 또는 출석인정 결석인 경우 ① 1~2일: [경조사] 결석계와 담임교사확인서 + 청첩장·부고장(문자, 카톡 포함), 사망신고서 중 1부 [미인정 결석 및 기타 결석] 결석계와 담임교사확인서 ② 경조사로 인한 출석인정 결석 3일 이상: 결석계와 담임교사확인서 + 사망신고서(사본 가능) ③ 경조사 이외 출석인정 결석: 결석계와 담임교사확인서 + 증빙서류 ④ ‘①~③’ 에 해당되지 않는 결석 3일 이상: 결석계와 담임교사확인서 + 학부모확인서 ※ 학교장허가교외체험학습은 별도의 체험학습 신청서와 보고서 제출 ------------------------------------ 교사 작성 -------------------------------------- 담임교사 확인서 1. 해당 결석 및 사유 □ 질병 결석 □ 미인정 결석 □ 출석인정 결석 □ 기타 결석 사 유 2. 확인 방법 □하이톡 확인 □하이콜 확인 □가정방문 □학부형 내교 □기 타 ( ) 3. 비 고 : 202 년 월 일 담임교사 : (인) - 8 - □4 학생평가-학습으로의 평가 교사 우○주 1. 학습으로서의 평가의 특징 학습으로서의 평가는 학습 과정과 결과에 대해 학생 스스로 성찰하고, 자기 주도적인 학습 경험을 통해 학습 내용을 실생활 맥락의 문제 해결에 적용할 수 있는 역량을 키우는 평가 2. 방침 가. 학생의 삶과 연계한 교육과정, 수업, 평가의 운영으로 학생 개개인의 삶의 역량을 키운다. 나. 학생의 학습 수준을 확인하고 결과만이 아니라 결과에 이르기까지의 학습과정을 중시한다. 다. 학생의 학습 과정과 결과에 대한 맞춤형 피드백을 제공하여 학생의 학습을 지원한다. 라. 평가의 목표를 학생에게 미리 안내(매 학기 초 사전 안내)하여 학습 과정에서 학생이 주도적으로 자신의 학습과정을 성찰하고, 스스로 조정할 수 있도록 한다. 마. 학습한 지식과 기능을 바탕으로 종합하여 판단하거나 새로운 변화를 만들어 낼 수 있는지를 평가한다. 바. 학습과 평가의 과정에서 얻은 경험을 바탕으로 실생활 맥락 속의 문제를 해결 할 수 있는 역량을 함양할 수 있도록 한다. 3. 추진내용']\n",
      "{'source': './data/complex_pdf/school_edu_guide.pdf', 'filetype': 'application/pdf', 'languages': ['kor', 'eng'], 'last_modified': '2024-04-04T01:39:24', 'page_number': 10, 'file_directory': './data/complex_pdf', 'filename': 'school_edu_guide.pdf', 'category': 'CompositeElement', 'family_tree': 'parent', 'parent_id': None, 'id': 'c2324ffc-6c56-43dd-bd56-f8ecac0dc26c'}\n",
      "None\n",
      "##############################\n",
      "similar_docs_without_reranker\n",
      "##############################\n",
      "\n",
      "Score: 0.015936012691697515\n",
      "['2024학년도 학 교 교 육 과 정 설 명 회 연 수 자 료 일시: 2024년 3월 20일 (수) 바른 인성, 건강한 감성, 즐거운 배움으로 미래를 가꾸는 바른 인성, 건강한 감성, 즐거운 배움으로 미래를 가꾸는 학부모 연수 순서 학부모 연수 순서 1. 상록 교육목표 및 구현계획 2. 2024학년도 학사 일정 안내 3. 출결 관련 확인 제출자료 안내 4. 학교교육평가 5. 선행교육 예방(공교육정상화법) 6. 학생 안전 교육 7. 성폭력 예방 교육 8. 흡연 및 음주 예방 교육 9. 학생 인권조례 및 교권보호 10. 방과후학교 운영 11. 초등돌봄교실(오후돌봄) 운영 12. 학부모 서비스 신청 안내 13. 정보통신윤리교육 14. 정보보안 및 개인정보보호 운영 계획 15. 불법찬조금 근절 16. 아동학대 예방 교육 17. 가정폭력 예방 교육 18. 생명 존중 및 생명 살림(자살 예방) 교육 19. 교육활동 참여자 안전교육(녹색, 학부모폴리스) 20. 학교폭력 예방 교육 21. 감염병 예방 교육 22. 청탁금지법 23. 공익제보자 보호 및 공익 신고 보상 안내 24. 존중과 배려의 교육환경 조성 예방 교육(갑질 근절) 25. 교육활동보호예방교육 1 상록 교육 목표 및 구현 계획 비전 바른 인성, 건강한 감성, 즐거운 배움으로 미래를 가꾸는 어린이']\n",
      "{'source': './data/complex_pdf/school_edu_guide.pdf', 'filetype': 'application/pdf', 'languages': ['kor', 'eng'], 'last_modified': '2024-04-04T01:39:24', 'page_number': 1, 'file_directory': './data/complex_pdf', 'filename': 'school_edu_guide.pdf', 'category': 'CompositeElement', 'family_tree': 'parent', 'parent_id': None, 'id': 'b8a8496c-1a84-4f96-a020-167eab316664'}\n",
      "\n",
      "Score: 0.01538971807628524\n",
      "['이 표는 어린이 교육의 세 가지 주요 목표를 제시하고 있습니다. 첫째, 존중과 나눔을 실천하는 바른 인성을 기르는 것입니다. 둘째, 몸과 마음의 건강 및 예술 향유를 통해 문화적 소양을 기르는 것입니다. 셋째, 특기와 소질 계발을 통해 미래를 대비하는 창의성을 기르는 것입니다.']\n",
      "{'source': './data/complex_pdf/school_edu_guide.pdf', 'detection_class_prob': 0.5580280423164368, 'coordinates': {'points': [[161.56983947753906, 716.003173828125], [161.56983947753906, 966.0720825195312], [1475.974853515625, 966.0720825195312], [1475.974853515625, 716.003173828125]], 'system': 'PixelSpace', 'layout_width': 1653, 'layout_height': 2337}, 'last_modified': '2024-04-04T01:39:24', 'text_as_html': '<table><tr><td>K 뼈 4</td><td>특 기 와 소 질 을 가꾸어 미 래 를 준 비 하는 창의적인 어린이</td></tr></table>', 'filetype': 'application/pdf', 'languages': ['kor', 'eng'], 'page_number': 3, 'file_directory': './data/complex_pdf', 'filename': 'school_edu_guide.pdf', 'category': 'Table', 'origin_table': '교육 목표 바른 인성으로 존중과 나눔을 실천하는 자주적인 어린이 몸과 마음이 건강하고 예술을 향유하는 문화적인 어린이 특기와 소질을 가꾸어 미래를 준비하는 창의적인 어린이', 'family_tree': 'parent_table', 'parent_id': 'NA', 'id': '11c4619b-e219-4246-ade0-a53165ae27b5'}\n",
      "\n",
      "Score: 0.015384615384615385\n",
      "['. 나. 학생의 학습 수준을 확인하고 결과만이 아니라 결과에 이르기까지의 학습과정을 중시한다. 다. 학생의 학습 과정과 결과에 대한 맞춤형 피드백을 제공하여 학생의 학습을 지원한다. 라. 평가의 목표를 학생에게 미리 안내(매 학기 초 사전 안내)하여 학습 과정에서 학생이 주도적으로 자신의 학습과정을 성찰하고, 스스로 조정할 수 있도록 한다. 마. 학습한 지식과 기능을 바탕으로 종합하여 판단하거나 새로운 변화를 만들어 낼 수 있는지를 평가한다. 바. 학습과 평가의 과정에서 얻은 경험을 바탕으로 실생활 맥락 속의 문제를 해결 할 수 있는 역량을 함양할 수 있도록 한다. 3. 추진내용']\n",
      "{'source': './data/complex_pdf/school_edu_guide.pdf', 'filetype': 'application/pdf', 'languages': ['kor', 'eng'], 'last_modified': '2024-04-04T01:39:24', 'page_number': 10, 'file_directory': './data/complex_pdf', 'filename': 'school_edu_guide.pdf', 'category': 'CompositeElement', 'family_tree': 'child', 'parent_id': 'c2324ffc-6c56-43dd-bd56-f8ecac0dc26c', 'id': '6ee009ee-7664-41ea-b0d7-a980bd164f6e'}\n",
      "\n",
      "Score: 0.008360655737704918\n",
      "['주어진 이미지는 11종의 소통하는 교육, 12종의 안전한 세계시민 교육, 13종의 나눔, 배려, 협력하는 인성교육에 대한 구체적인 교육활동과 시기, 대상, 관련부서를 설명하는 표입니다. 각 교육활동 유형별로 세부 내용과 기간, 대상 학년, 담당부서가 정리되어 있어 체계적으로 교육 계획을 파악할 수 있습니다.']\n",
      "{'img_path': './fig/table-1-resize.jpg', 'category': 'Image', 'image_base64': '', 'family_tree': 'parent_image', 'parent_id': 'NA', 'id': 'f75d2013-0f6a-4dd8-83ec-6162ad2a745d'}\n",
      "\n",
      "Score: 0.008225806451612904\n",
      "['‧ 창의적 체험활동의 영역별 활동내용, 평가방법 및 기준은 교육과정을 근 - 9 - □5 선행교육 예방 (공교육정상화법) 교사 우○주 ❍ 선행교육 -「초‧중등교육법」제23조제2항에 따라 교육부장관이 정한 초․중등학교 교육과정(국가교육과정) 및 교육감이 정한 초․중등학교 교육과정(시․도교육과정), 「초‧중등교육법」제23조제1항에 근거하여 편성․운영되는 단위학교 교육과정(학교 교육과정) 국가교육과정-시․도교육과정-학교 교육과정에 앞서서 편성 또는 제공하는 교육 일반 ❍ 선행학습 - 학습자가 국가교육과정, 시․도교육과정, 학교 교육과정에 앞서서 하는 학습 1. 추진 근거 및 목적 L RIS 가. 근거 Ÿ 「공교육 정상화 촉진 및 선행교육 규제에 관한 특별법」(공교육정상화법) Ÿ 2024년 선행학습 유발 관행 근절 사업 추진계획(교육부 기초학력진로교육과-379, 2024.1.31.) = [9 = < [aN] & - % 5 = 해 때 R 제 0 | 버 과 E 제 o 99 = = B 회 - 0 0 80 MR Q0w 나. 목적 Ÿ 학교의 정상적인 교육과정 운영을 위한 여건 조성 및 공교육 정상화 실현 Ÿ 선행교육과 선행학습 유발 관행 근절을 위한 학생, 교원, 학부모 인식 개선 연수 및 홍보 강화 0\" 3l om0 음미 Ÿ 교육과정 편성 운영 및 선행출제 점검·컨설팅을 통해 학생의 발달단계에 맞는 교육 실시 2. 추진 계획 가. 연수 추진 계획']\n",
      "{'source': './data/complex_pdf/school_edu_guide.pdf', 'filetype': 'application/pdf', 'languages': ['kor', 'eng'], 'last_modified': '2024-04-04T01:39:24', 'page_number': 11, 'file_directory': './data/complex_pdf', 'filename': 'school_edu_guide.pdf', 'category': 'CompositeElement', 'family_tree': 'child', 'parent_id': '7d9d2ff0-d190-4356-bbbe-fbdbd44bfceb', 'id': '22312bd2-8521-4168-93d8-761a1c714eb9'}\n",
      "\n",
      "Score: 0.008095238095238095\n",
      "['이 표는 학교에서 실시하는 교육 활동 계획을 보여주고 있습니다. 주요 내용은 디지털 시민 역량 강화를 위한 교육정보화 지원 및 정보통신윤리교육, 독서 및 독서인문교육 활성화를 위한 도서관 운영 및 독서행사, 진로교육 강화를 위한 진로체험 및 탐색 프로그램 등입니다. 각 활동의 시기, 대상 학년, 관련 부서 등의 정보가 상세히 제시되어 있습니다.']\n",
      "{'source': './data/complex_pdf/school_edu_guide.pdf', 'detection_class_prob': 0.8930906653404236, 'coordinates': {'points': [[155.992431640625, 390.875244140625], [155.992431640625, 2049.864013671875], [1519.5548095703125, 2049.864013671875], [1519.5548095703125, 390.875244140625]], 'system': 'PixelSpace', 'layout_width': 1653, 'layout_height': 2337}, 'last_modified': '2024-04-04T01:39:24', 'text_as_html': '<table><thead><th>0 Ko = 384 -</th><th>호 A 고 — T 까 Kk : g5 Mo 배 | 해 더 ) =W O | 홀 읍 메트 더] 뿌 헤 R _ R 허그 oy RATT wTAKR 덕 부 SRR o0 o</th><th>= offl N 에 S &lt; -</th><th>20 대 = [t} O &lt;</th><th>꼭 i = o 떤 미비 에 20</th></thead><tr><td rowspan=\"3\">o 랙 주 0 - 페오 때 0 듬 히</td><td>= ol 80 ok _ |2 =g 00 | 8 T | .o | @ 이얼 | 해 애정 오 에 o — R | 트 - 엄히 ㅎ | 을 | | 더 4010 | | Mm b</td><td>Ko 10 어리</td><td></td><td></td></tr><tr><td></td><td>헌 o 는 이 4 해 &amp;~ H T 후 ¥ &amp; 원 귀 T Mmoo ol oy o 매일 o 꼬 90 ol ㅡ 얘 페 더 등기 더 MmET 께 때 wHS 중 (FE o © m i</td><td>10 8l</td><td>b2 ) &lt;</td><td>T 원 ™ ol 마 20 더</td></tr><tr><td></td><td>ol N _ ol 해군 D ㅋ 이를 - Fra| &amp; 채 얘 = 이게 A Xy _Mn_ mEH g | 0 ~ R 어젠 L | w o o = 아 이 호 브 | 압 퍼 흐리 | TOHES | 누 조 0 더 때 | 때 리 는 6 | (종중 안다 | o o o o</td><td>— Ko Koo Kio ™ = 81818 1</td><td>끼 꼬 꼬꼬 인 | 10 © O OV &lt; 근 고고고</td><td>o o 깨 20</td></tr><tr><td>얘 i o 때 ™ 3l 베</td><td>Klo or 80 o X o4 U 호 해 800 내 . oz _ 꺼 ol ~ 빈 명 은 &lt; 베 가 께 B0 oy o R 구도 o &lt; 나 ogrTABou KT . 쥐 o | HooPa@ Dl S AT g 폭 레 레미 시리즈 WwXXTTHNIT | 버 버 버 판 바 아 | B o o o o o o</td><td>mw T KO o 고 2 개 Ko 고 Ko 한 한 mE Ty s % I W -</td><td>DEWE . 인 | | for ol oy © 는 o © ©v © 는 s - - - -</td><td>%0 &amp; 얘 덕</td></tr><tr><td>5 o 95 PR ㅁ</td><td>OH 헌 에 인 Y OH 녁 oir 때 = = HooR 「 ㅁ i M| 이 ) 0 o Ko o i - R 패고 o = 30 %0 e ooy B g £ X 부 교 능 그녀 하 짐 이 홍 패 et KR | 에 포메 가옥 태 때, D5 . 띠 더 을 제 그 - B o \"7 o o</td><td>Ko Ko w7 Ko 85 이지</td><td>mm o mom 히피 00 0 1ol 우우 우우 - - - &lt;</td><td>o 3l 깨 20</td></tr><tr><td>- o 3</td><td>= 고 5l 래 ¥ 2 m U 0 &amp;l 뽀 해 = M S 은 애 한 A5 &amp; 이! 더 | 때 꼼 에 | WA | gt NI B o @</td><td>s ol 띠 10 30</td><td>g ¥ or = | 호흡 —</td><td>%0 = 매 덕</td></tr></table>', 'filetype': 'application/pdf', 'languages': ['kor', 'eng'], 'page_number': 6, 'file_directory': './data/complex_pdf', 'filename': 'school_edu_guide.pdf', 'category': 'Table', 'origin_table': '구현중점 교육활동 시기 대상 관련부서 331. 교육정보화 지원확대 및 학습 준비 철저 ◦컴퓨터실 정비 및 각종 교육 S/W 구비 ◦방송실의 효율적 운영 ◦학습준비물의 효율적인 선정 및 구입 7, 2월 연중 연중 1~6학년 생활인권 31. 디지털 시민 역량 강화 332. 학교홈페이지 및 알리미 체제 운영 ◦학교홈페이지 구성 및 활성화 ◦하이클래스를 활용한 교육 주체 간 소통 연중 1~6학년 생활인권 교무기획 333. 에듀테크교육 및 정보통신 윤리교육의 강화 ◦에듀테크교육 환경 구축 ◦개인정보 보호 활성화 및 저작권 교육 강화 ◦SW 교육(미래체험) 프로그램 체험 기회확대 ◦디지털 시민교육(코딩교실 운영) 연중 연중 연중 2학기 1~6학년 1~6학년 1~6학년 1~4학년 생활인권 231. 독서교육의 활성화 ◦교육과정 재구성을 통한 온책읽기 연중 1~6학년 교육과정 ◦질문과 토론이 있는 독서토론교육 운영 연중 1~6학년 32. 232. 독서인문교육을 돕는 도서관 운영 독서인문교육 ◦도서관 운영 계획 수립 3월 1~6학년 ◦도서관 활용 수업 활성화 및 도서 확충 연중 1~6학년 ◦독서 교실 운영 방학중 1~6학년 교육과정 ◦학생 참여의 독서 행사 운영 연중 1~6학년 ◦독서인문교실-작가와의 만남 5-6학년 11월 ◦미디어리터러시 교육 1-6학년 1회 331. 꿈을 키우는 학생 맞춤형 진로교육 강화 ◦진로체험교실 운영 ◦교과 및 창의체험 활동을 통한 진로교육 운 영 연중 연중 1~6학년 1~6학년 생활인권 33. ◦학년 수준에 맞는 진로탐색 프로그램 운영 ◦사이버 진로교육 운영-커리어넷 2회 연중 1~6학년 4~6학년 다양한 진로 교육 실시 332. 진로연계교육 실시 ◦1-2학년은 성장이음과정 실시 ◦3학년은 교과목 설명 및 전담과목 및 안내 학년초 학년초 1-2학년 3학년 교육과정', 'family_tree': 'parent_table', 'parent_id': 'NA', 'id': '31a7842d-17a9-41bb-b4e6-8c3fdeeddd6d'}\n",
      "\n",
      "Score: 0.00796875\n",
      "['이 표는 2년 이내 학생을 대상으로 하는 프로그램의 운영시간, 대상자, 수강과목 등의 정보를 제공하고 있습니다. 운영기간, 운영시간, 학습편성, 전공교실, 프로그램 구성, 특성프로그램, 급식 및 간식, 물품 납부 등의 세부사항이 명시되어 있습니다.']\n",
      "{'img_path': './fig/table-22-resize.jpg', 'category': 'Image', 'image_base64': '', 'family_tree': 'parent_image', 'parent_id': 'NA', 'id': 'ea8556ec-b0bd-4e3d-8977-2268b77cd70f'}\n",
      "None\n",
      "##############################\n",
      "similar_docs\n",
      "##############################\n",
      "\n",
      "Score: 0.937147319316864\n",
      "['이 표는 어린이 교육의 세 가지 주요 목표를 제시하고 있습니다. 첫째, 존중과 나눔을 실천하는 바른 인성을 기르는 것입니다. 둘째, 몸과 마음의 건강 및 예술 향유를 통해 문화적 소양을 기르는 것입니다. 셋째, 특기와 소질 계발을 통해 미래를 대비하는 창의성을 기르는 것입니다.']\n",
      "{'source': './data/complex_pdf/school_edu_guide.pdf', 'detection_class_prob': 0.5580280423164368, 'coordinates': {'points': [[161.56983947753906, 716.003173828125], [161.56983947753906, 966.0720825195312], [1475.974853515625, 966.0720825195312], [1475.974853515625, 716.003173828125]], 'system': 'PixelSpace', 'layout_width': 1653, 'layout_height': 2337}, 'last_modified': '2024-04-04T01:39:24', 'text_as_html': '<table><tr><td>K 뼈 4</td><td>특 기 와 소 질 을 가꾸어 미 래 를 준 비 하는 창의적인 어린이</td></tr></table>', 'filetype': 'application/pdf', 'languages': ['kor', 'eng'], 'page_number': 3, 'file_directory': './data/complex_pdf', 'filename': 'school_edu_guide.pdf', 'category': 'Table', 'origin_table': '교육 목표 바른 인성으로 존중과 나눔을 실천하는 자주적인 어린이 몸과 마음이 건강하고 예술을 향유하는 문화적인 어린이 특기와 소질을 가꾸어 미래를 준비하는 창의적인 어린이', 'family_tree': 'parent_table', 'parent_id': 'NA', 'id': '11c4619b-e219-4246-ade0-a53165ae27b5'}\n",
      "\n",
      "Score: 0.12569850582935288\n",
      "['2024학년도 학 교 교 육 과 정 설 명 회 연 수 자 료 일시: 2024년 3월 20일 (수) 바른 인성, 건강한 감성, 즐거운 배움으로 미래를 가꾸는 바른 인성, 건강한 감성, 즐거운 배움으로 미래를 가꾸는 학부모 연수 순서 학부모 연수 순서 1. 상록 교육목표 및 구현계획 2. 2024학년도 학사 일정 안내 3. 출결 관련 확인 제출자료 안내 4. 학교교육평가 5. 선행교육 예방(공교육정상화법) 6. 학생 안전 교육 7. 성폭력 예방 교육 8. 흡연 및 음주 예방 교육 9. 학생 인권조례 및 교권보호 10. 방과후학교 운영 11. 초등돌봄교실(오후돌봄) 운영 12. 학부모 서비스 신청 안내 13. 정보통신윤리교육 14. 정보보안 및 개인정보보호 운영 계획 15. 불법찬조금 근절 16. 아동학대 예방 교육 17. 가정폭력 예방 교육 18. 생명 존중 및 생명 살림(자살 예방) 교육 19. 교육활동 참여자 안전교육(녹색, 학부모폴리스) 20. 학교폭력 예방 교육 21. 감염병 예방 교육 22. 청탁금지법 23. 공익제보자 보호 및 공익 신고 보상 안내 24. 존중과 배려의 교육환경 조성 예방 교육(갑질 근절) 25. 교육활동보호예방교육 1 상록 교육 목표 및 구현 계획 비전 바른 인성, 건강한 감성, 즐거운 배움으로 미래를 가꾸는 어린이']\n",
      "{'source': './data/complex_pdf/school_edu_guide.pdf', 'filetype': 'application/pdf', 'languages': ['kor', 'eng'], 'last_modified': '2024-04-04T01:39:24', 'page_number': 1, 'file_directory': './data/complex_pdf', 'filename': 'school_edu_guide.pdf', 'category': 'CompositeElement', 'family_tree': 'parent', 'parent_id': None, 'id': 'b8a8496c-1a84-4f96-a020-167eab316664'}\n",
      "\n",
      "Score: 0.026411280035972595\n",
      "['. 나. 학생의 학습 수준을 확인하고 결과만이 아니라 결과에 이르기까지의 학습과정을 중시한다. 다. 학생의 학습 과정과 결과에 대한 맞춤형 피드백을 제공하여 학생의 학습을 지원한다. 라. 평가의 목표를 학생에게 미리 안내(매 학기 초 사전 안내)하여 학습 과정에서 학생이 주도적으로 자신의 학습과정을 성찰하고, 스스로 조정할 수 있도록 한다. 마. 학습한 지식과 기능을 바탕으로 종합하여 판단하거나 새로운 변화를 만들어 낼 수 있는지를 평가한다. 바. 학습과 평가의 과정에서 얻은 경험을 바탕으로 실생활 맥락 속의 문제를 해결 할 수 있는 역량을 함양할 수 있도록 한다. 3. 추진내용']\n",
      "{'source': './data/complex_pdf/school_edu_guide.pdf', 'filetype': 'application/pdf', 'languages': ['kor', 'eng'], 'last_modified': '2024-04-04T01:39:24', 'page_number': 10, 'file_directory': './data/complex_pdf', 'filename': 'school_edu_guide.pdf', 'category': 'CompositeElement', 'family_tree': 'child', 'parent_id': 'c2324ffc-6c56-43dd-bd56-f8ecac0dc26c', 'id': '6ee009ee-7664-41ea-b0d7-a980bd164f6e'}\n",
      "\n",
      "Score: 0.019565986469388008\n",
      "['이 표는 학교에서 실시하는 교육 활동 계획을 보여주고 있습니다. 주요 내용은 디지털 시민 역량 강화를 위한 교육정보화 지원 및 정보통신윤리교육, 독서 및 독서인문교육 활성화를 위한 도서관 운영 및 독서행사, 진로교육 강화를 위한 진로체험 및 탐색 프로그램 등입니다. 각 활동의 시기, 대상 학년, 관련 부서 등의 정보가 상세히 제시되어 있습니다.']\n",
      "{'source': './data/complex_pdf/school_edu_guide.pdf', 'detection_class_prob': 0.8930906653404236, 'coordinates': {'points': [[155.992431640625, 390.875244140625], [155.992431640625, 2049.864013671875], [1519.5548095703125, 2049.864013671875], [1519.5548095703125, 390.875244140625]], 'system': 'PixelSpace', 'layout_width': 1653, 'layout_height': 2337}, 'last_modified': '2024-04-04T01:39:24', 'text_as_html': '<table><thead><th>0 Ko = 384 -</th><th>호 A 고 — T 까 Kk : g5 Mo 배 | 해 더 ) =W O | 홀 읍 메트 더] 뿌 헤 R _ R 허그 oy RATT wTAKR 덕 부 SRR o0 o</th><th>= offl N 에 S &lt; -</th><th>20 대 = [t} O &lt;</th><th>꼭 i = o 떤 미비 에 20</th></thead><tr><td rowspan=\"3\">o 랙 주 0 - 페오 때 0 듬 히</td><td>= ol 80 ok _ |2 =g 00 | 8 T | .o | @ 이얼 | 해 애정 오 에 o — R | 트 - 엄히 ㅎ | 을 | | 더 4010 | | Mm b</td><td>Ko 10 어리</td><td></td><td></td></tr><tr><td></td><td>헌 o 는 이 4 해 &amp;~ H T 후 ¥ &amp; 원 귀 T Mmoo ol oy o 매일 o 꼬 90 ol ㅡ 얘 페 더 등기 더 MmET 께 때 wHS 중 (FE o © m i</td><td>10 8l</td><td>b2 ) &lt;</td><td>T 원 ™ ol 마 20 더</td></tr><tr><td></td><td>ol N _ ol 해군 D ㅋ 이를 - Fra| &amp; 채 얘 = 이게 A Xy _Mn_ mEH g | 0 ~ R 어젠 L | w o o = 아 이 호 브 | 압 퍼 흐리 | TOHES | 누 조 0 더 때 | 때 리 는 6 | (종중 안다 | o o o o</td><td>— Ko Koo Kio ™ = 81818 1</td><td>끼 꼬 꼬꼬 인 | 10 © O OV &lt; 근 고고고</td><td>o o 깨 20</td></tr><tr><td>얘 i o 때 ™ 3l 베</td><td>Klo or 80 o X o4 U 호 해 800 내 . oz _ 꺼 ol ~ 빈 명 은 &lt; 베 가 께 B0 oy o R 구도 o &lt; 나 ogrTABou KT . 쥐 o | HooPa@ Dl S AT g 폭 레 레미 시리즈 WwXXTTHNIT | 버 버 버 판 바 아 | B o o o o o o</td><td>mw T KO o 고 2 개 Ko 고 Ko 한 한 mE Ty s % I W -</td><td>DEWE . 인 | | for ol oy © 는 o © ©v © 는 s - - - -</td><td>%0 &amp; 얘 덕</td></tr><tr><td>5 o 95 PR ㅁ</td><td>OH 헌 에 인 Y OH 녁 oir 때 = = HooR 「 ㅁ i M| 이 ) 0 o Ko o i - R 패고 o = 30 %0 e ooy B g £ X 부 교 능 그녀 하 짐 이 홍 패 et KR | 에 포메 가옥 태 때, D5 . 띠 더 을 제 그 - B o \"7 o o</td><td>Ko Ko w7 Ko 85 이지</td><td>mm o mom 히피 00 0 1ol 우우 우우 - - - &lt;</td><td>o 3l 깨 20</td></tr><tr><td>- o 3</td><td>= 고 5l 래 ¥ 2 m U 0 &amp;l 뽀 해 = M S 은 애 한 A5 &amp; 이! 더 | 때 꼼 에 | WA | gt NI B o @</td><td>s ol 띠 10 30</td><td>g ¥ or = | 호흡 —</td><td>%0 = 매 덕</td></tr></table>', 'filetype': 'application/pdf', 'languages': ['kor', 'eng'], 'page_number': 6, 'file_directory': './data/complex_pdf', 'filename': 'school_edu_guide.pdf', 'category': 'Table', 'origin_table': '구현중점 교육활동 시기 대상 관련부서 331. 교육정보화 지원확대 및 학습 준비 철저 ◦컴퓨터실 정비 및 각종 교육 S/W 구비 ◦방송실의 효율적 운영 ◦학습준비물의 효율적인 선정 및 구입 7, 2월 연중 연중 1~6학년 생활인권 31. 디지털 시민 역량 강화 332. 학교홈페이지 및 알리미 체제 운영 ◦학교홈페이지 구성 및 활성화 ◦하이클래스를 활용한 교육 주체 간 소통 연중 1~6학년 생활인권 교무기획 333. 에듀테크교육 및 정보통신 윤리교육의 강화 ◦에듀테크교육 환경 구축 ◦개인정보 보호 활성화 및 저작권 교육 강화 ◦SW 교육(미래체험) 프로그램 체험 기회확대 ◦디지털 시민교육(코딩교실 운영) 연중 연중 연중 2학기 1~6학년 1~6학년 1~6학년 1~4학년 생활인권 231. 독서교육의 활성화 ◦교육과정 재구성을 통한 온책읽기 연중 1~6학년 교육과정 ◦질문과 토론이 있는 독서토론교육 운영 연중 1~6학년 32. 232. 독서인문교육을 돕는 도서관 운영 독서인문교육 ◦도서관 운영 계획 수립 3월 1~6학년 ◦도서관 활용 수업 활성화 및 도서 확충 연중 1~6학년 ◦독서 교실 운영 방학중 1~6학년 교육과정 ◦학생 참여의 독서 행사 운영 연중 1~6학년 ◦독서인문교실-작가와의 만남 5-6학년 11월 ◦미디어리터러시 교육 1-6학년 1회 331. 꿈을 키우는 학생 맞춤형 진로교육 강화 ◦진로체험교실 운영 ◦교과 및 창의체험 활동을 통한 진로교육 운 영 연중 연중 1~6학년 1~6학년 생활인권 33. ◦학년 수준에 맞는 진로탐색 프로그램 운영 ◦사이버 진로교육 운영-커리어넷 2회 연중 1~6학년 4~6학년 다양한 진로 교육 실시 332. 진로연계교육 실시 ◦1-2학년은 성장이음과정 실시 ◦3학년은 교과목 설명 및 전담과목 및 안내 학년초 학년초 1-2학년 3학년 교육과정', 'family_tree': 'parent_table', 'parent_id': 'NA', 'id': '31a7842d-17a9-41bb-b4e6-8c3fdeeddd6d'}\n",
      "\n",
      "Score: 0.007091263768842862\n",
      "['‧ 창의적 체험활동의 영역별 활동내용, 평가방법 및 기준은 교육과정을 근 - 9 - □5 선행교육 예방 (공교육정상화법) 교사 우○주 ❍ 선행교육 -「초‧중등교육법」제23조제2항에 따라 교육부장관이 정한 초․중등학교 교육과정(국가교육과정) 및 교육감이 정한 초․중등학교 교육과정(시․도교육과정), 「초‧중등교육법」제23조제1항에 근거하여 편성․운영되는 단위학교 교육과정(학교 교육과정) 국가교육과정-시․도교육과정-학교 교육과정에 앞서서 편성 또는 제공하는 교육 일반 ❍ 선행학습 - 학습자가 국가교육과정, 시․도교육과정, 학교 교육과정에 앞서서 하는 학습 1. 추진 근거 및 목적 L RIS 가. 근거 Ÿ 「공교육 정상화 촉진 및 선행교육 규제에 관한 특별법」(공교육정상화법) Ÿ 2024년 선행학습 유발 관행 근절 사업 추진계획(교육부 기초학력진로교육과-379, 2024.1.31.) = [9 = < [aN] & - % 5 = 해 때 R 제 0 | 버 과 E 제 o 99 = = B 회 - 0 0 80 MR Q0w 나. 목적 Ÿ 학교의 정상적인 교육과정 운영을 위한 여건 조성 및 공교육 정상화 실현 Ÿ 선행교육과 선행학습 유발 관행 근절을 위한 학생, 교원, 학부모 인식 개선 연수 및 홍보 강화 0\" 3l om0 음미 Ÿ 교육과정 편성 운영 및 선행출제 점검·컨설팅을 통해 학생의 발달단계에 맞는 교육 실시 2. 추진 계획 가. 연수 추진 계획']\n",
      "{'source': './data/complex_pdf/school_edu_guide.pdf', 'filetype': 'application/pdf', 'languages': ['kor', 'eng'], 'last_modified': '2024-04-04T01:39:24', 'page_number': 11, 'file_directory': './data/complex_pdf', 'filename': 'school_edu_guide.pdf', 'category': 'CompositeElement', 'family_tree': 'child', 'parent_id': '7d9d2ff0-d190-4356-bbbe-fbdbd44bfceb', 'id': '22312bd2-8521-4168-93d8-761a1c714eb9'}\n",
      "None\n",
      "\n",
      "==========  Results  ==========\n",
      "\n",
      "1. question: 교육목표는?\n",
      "2. # documents: 3\n",
      "3. Documents: \n",
      "\n",
      "\n",
      "-----------------------------------------------\n",
      "1. Category: Table, Chunk: 155 Characters\n",
      "-----------------------------------------------\n",
      "이 표는 어린이 교육의 세 가지 주요 목표를 제시하고 있습니다. 첫째, 존중과 나눔을 실천하는 바른 인성을 기르는 것입니다. 둘째, 몸과 마음의 건강 및 예술 향유를 통해 문화적\n",
      "소양을 기르는 것입니다. 셋째, 특기와 소질 계발을 통해 미래를 대비하는 창의성을 기르는 것입니다.\n",
      "metadata:\n",
      " {'source': './data/complex_pdf/school_edu_guide.pdf', 'detection_class_prob': 0.5580280423164368,\n",
      "'coordinates': {'points': [[161.56983947753906, 716.003173828125], [161.56983947753906,\n",
      "966.0720825195312], [1475.974853515625, 966.0720825195312], [1475.974853515625, 716.003173828125]],\n",
      "'system': 'PixelSpace', 'layout_width': 1653, 'layout_height': 2337}, 'last_modified':\n",
      "'2024-04-04T01:39:24', 'text_as_html': '<table><tr><td>K 뼈 4</td><td>특 기 와 소 질 을 가꾸어 미 래 를 준 비 하는\n",
      "창의적인 어린이</td></tr></table>', 'filetype': 'application/pdf', 'languages': ['kor', 'eng'],\n",
      "'page_number': 3, 'file_directory': './data/complex_pdf', 'filename': 'school_edu_guide.pdf',\n",
      "'category': 'Table', 'origin_table': '교육 목표 바른 인성으로 존중과 나눔을 실천하는 자주적인 어린이 몸과 마음이 건강하고 예술을 향유하는 문화적인\n",
      "어린이 특기와 소질을 가꾸어 미래를 준비하는 창의적인 어린이', 'family_tree': 'parent_table', 'parent_id': 'NA', 'id':\n",
      "'11c4619b-e219-4246-ade0-a53165ae27b5'}\n",
      "\n",
      "-----------------------------------------------\n",
      "2. Category: CompositeElement, Chunk: 647 Characters\n",
      "-----------------------------------------------\n",
      "2024학년도 학 교 교 육 과 정 설 명 회 연 수 자 료 일시: 2024년 3월 20일 (수) 바른 인성, 건강한 감성, 즐거운 배움으로 미래를 가꾸는 바른 인성, 건강한\n",
      "감성, 즐거운 배움으로 미래를 가꾸는 학부모 연수 순서 학부모 연수 순서 1. 상록 교육목표 및 구현계획 2. 2024학년도 학사 일정 안내 3. 출결 관련 확인 제출자료 안내\n",
      "4. 학교교육평가 5. 선행교육 예방(공교육정상화법) 6. 학생 안전 교육 7. 성폭력 예방 교육 8. 흡연 및 음주 예방 교육 9. 학생 인권조례 및 교권보호 10. 방과후학교\n",
      "운영 11. 초등돌봄교실(오후돌봄) 운영 12. 학부모 서비스 신청 안내 13. 정보통신윤리교육 14. 정보보안 및 개인정보보호 운영 계획 15. 불법찬조금 근절 16. 아동학대\n",
      "예방 교육 17. 가정폭력 예방 교육 18. 생명 존중 및 생명 살림(자살 예방) 교육 19. 교육활동 참여자 안전교육(녹색, 학부모폴리스) 20. 학교폭력 예방 교육 21.\n",
      "감염병 예방 교육 22. 청탁금지법 23. 공익제보자 보호 및 공익 신고 보상 안내 24. 존중과 배려의 교육환경 조성 예방 교육(갑질 근절) 25. 교육활동보호예방교육 1 상록\n",
      "교육 목표 및 구현 계획 비전 바른 인성, 건강한 감성, 즐거운 배움으로 미래를 가꾸는 어린이\n",
      "metadata:\n",
      " {'source': './data/complex_pdf/school_edu_guide.pdf', 'filetype': 'application/pdf', 'languages':\n",
      "['kor', 'eng'], 'last_modified': '2024-04-04T01:39:24', 'page_number': 1, 'file_directory':\n",
      "'./data/complex_pdf', 'filename': 'school_edu_guide.pdf', 'category': 'CompositeElement',\n",
      "'family_tree': 'parent', 'parent_id': None, 'id': 'b8a8496c-1a84-4f96-a020-167eab316664'}\n",
      "\n",
      "-----------------------------------------------\n",
      "3. Category: CompositeElement, Chunk: 327 Characters\n",
      "-----------------------------------------------\n",
      ". 나. 학생의 학습 수준을 확인하고 결과만이 아니라 결과에 이르기까지의 학습과정을 중시한다. 다. 학생의 학습 과정과 결과에 대한 맞춤형 피드백을 제공하여 학생의 학습을\n",
      "지원한다. 라. 평가의 목표를 학생에게 미리 안내(매 학기 초 사전 안내)하여 학습 과정에서 학생이 주도적으로 자신의 학습과정을 성찰하고, 스스로 조정할 수 있도록 한다. 마.\n",
      "학습한 지식과 기능을 바탕으로 종합하여 판단하거나 새로운 변화를 만들어 낼 수 있는지를 평가한다. 바. 학습과 평가의 과정에서 얻은 경험을 바탕으로 실생활 맥락 속의 문제를 해결\n",
      "할 수 있는 역량을 함양할 수 있도록 한다. 3. 추진내용\n",
      "metadata:\n",
      " {'source': './data/complex_pdf/school_edu_guide.pdf', 'filetype': 'application/pdf', 'languages':\n",
      "['kor', 'eng'], 'last_modified': '2024-04-04T01:39:24', 'page_number': 10, 'file_directory':\n",
      "'./data/complex_pdf', 'filename': 'school_edu_guide.pdf', 'category': 'CompositeElement',\n",
      "'family_tree': 'child', 'parent_id': 'c2324ffc-6c56-43dd-bd56-f8ecac0dc26c', 'id':\n",
      "'6ee009ee-7664-41ea-b0d7-a980bd164f6e'}\n",
      "\n",
      "-----------------------------------------------\n",
      "4. Category: Table, Chunk: 193 Characters\n",
      "-----------------------------------------------\n",
      "이 표는 학교에서 실시하는 교육 활동 계획을 보여주고 있습니다. 주요 내용은 디지털 시민 역량 강화를 위한 교육정보화 지원 및 정보통신윤리교육, 독서 및 독서인문교육 활성화를 위한\n",
      "도서관 운영 및 독서행사, 진로교육 강화를 위한 진로체험 및 탐색 프로그램 등입니다. 각 활동의 시기, 대상 학년, 관련 부서 등의 정보가 상세히 제시되어 있습니다.\n",
      "metadata:\n",
      " {'source': './data/complex_pdf/school_edu_guide.pdf', 'detection_class_prob': 0.8930906653404236,\n",
      "'coordinates': {'points': [[155.992431640625, 390.875244140625], [155.992431640625,\n",
      "2049.864013671875], [1519.5548095703125, 2049.864013671875], [1519.5548095703125,\n",
      "390.875244140625]], 'system': 'PixelSpace', 'layout_width': 1653, 'layout_height': 2337},\n",
      "'last_modified': '2024-04-04T01:39:24', 'text_as_html': '<table><thead><th>0 Ko = 384 -</th><th>호 A\n",
      "고 — T 까 Kk : g5 Mo 배 | 해 더 ) =W O | 홀 읍 메트 더] 뿌 헤 R _ R 허그 oy RATT wTAKR 덕 부 SRR o0 o</th><th>= offl\n",
      "N 에 S &lt; -</th><th>20 대 = [t} O &lt;</th><th>꼭 i = o 떤 미비 에 20</th></thead><tr><td rowspan=\"3\">o 랙\n",
      "주 0 - 페오 때 0 듬 히</td><td>= ol 80 ok _ |2 =g 00 | 8 T | .o | @ 이얼 | 해 애정 오 에 o — R | 트 - 엄히 ㅎ | 을 | |\n",
      "더 4010 | | Mm b</td><td>Ko 10 어리</td><td></td><td></td></tr><tr><td></td><td>헌 o 는 이 4 해 &amp;~ H T\n",
      "후 ¥ &amp; 원 귀 T Mmoo ol oy o 매일 o 꼬 90 ol ㅡ 얘 페 더 등기 더 MmET 께 때 wHS 중 (FE o © m i</td><td>10\n",
      "8l</td><td>b2 ) &lt;</td><td>T 원 ™ ol 마 20 더</td></tr><tr><td></td><td>ol N _ ol 해군 D ㅋ 이를 - Fra|\n",
      "&amp; 채 얘 = 이게 A Xy _Mn_ mEH g | 0 ~ R 어젠 L | w o o = 아 이 호 브 | 압 퍼 흐리 | TOHES | 누 조 0 더 때 | 때 리 는 6\n",
      "| (종중 안다 | o o o o</td><td>— Ko Koo Kio ™ = 81818 1</td><td>끼 꼬 꼬꼬 인 | 10 © O OV &lt; 근\n",
      "고고고</td><td>o o 깨 20</td></tr><tr><td>얘 i o 때 ™ 3l 베</td><td>Klo or 80 o X o4 U 호 해 800 내 . oz _ 꺼\n",
      "ol ~ 빈 명 은 &lt; 베 가 께 B0 oy o R 구도 o &lt; 나 ogrTABou KT . 쥐 o | HooPa@ Dl S AT g 폭 레 레미 시리즈\n",
      "WwXXTTHNIT | 버 버 버 판 바 아 | B o o o o o o</td><td>mw T KO o 고 2 개 Ko 고 Ko 한 한 mE Ty s % I W\n",
      "-</td><td>DEWE . 인 | | for ol oy © 는 o © ©v © 는 s - - - -</td><td>%0 &amp; 얘 덕</td></tr><tr><td>5 o\n",
      "95 PR ㅁ</td><td>OH 헌 에 인 Y OH 녁 oir 때 = = HooR 「 ㅁ i M| 이 ) 0 o Ko o i - R 패고 o = 30 %0 e ooy B g £\n",
      "X 부 교 능 그녀 하 짐 이 홍 패 et KR | 에 포메 가옥 태 때, D5 . 띠 더 을 제 그 - B o \"7 o o</td><td>Ko Ko w7 Ko 85\n",
      "이지</td><td>mm o mom 히피 00 0 1ol 우우 우우 - - - &lt;</td><td>o 3l 깨 20</td></tr><tr><td>- o 3</td><td>=\n",
      "고 5l 래 ¥ 2 m U 0 &amp;l 뽀 해 = M S 은 애 한 A5 &amp; 이! 더 | 때 꼼 에 | WA | gt NI B o @</td><td>s ol 띠 10\n",
      "30</td><td>g ¥ or = | 호흡 —</td><td>%0 = 매 덕</td></tr></table>', 'filetype': 'application/pdf',\n",
      "'languages': ['kor', 'eng'], 'page_number': 6, 'file_directory': './data/complex_pdf', 'filename':\n",
      "'school_edu_guide.pdf', 'category': 'Table', 'origin_table': '구현중점 교육활동 시기 대상 관련부서 331. 교육정보화 지원확대 및\n",
      "학습 준비 철저 ◦컴퓨터실 정비 및 각종 교육 S/W 구비 ◦방송실의 효율적 운영 ◦학습준비물의 효율적인 선정 및 구입 7, 2월 연중 연중 1~6학년 생활인권 31. 디지털 시민\n",
      "역량 강화 332. 학교홈페이지 및 알리미 체제 운영 ◦학교홈페이지 구성 및 활성화 ◦하이클래스를 활용한 교육 주체 간 소통 연중 1~6학년 생활인권 교무기획 333. 에듀테크교육\n",
      "및 정보통신 윤리교육의 강화 ◦에듀테크교육 환경 구축 ◦개인정보 보호 활성화 및 저작권 교육 강화 ◦SW 교육(미래체험) 프로그램 체험 기회확대 ◦디지털 시민교육(코딩교실 운영)\n",
      "연중 연중 연중 2학기 1~6학년 1~6학년 1~6학년 1~4학년 생활인권 231. 독서교육의 활성화 ◦교육과정 재구성을 통한 온책읽기 연중 1~6학년 교육과정 ◦질문과 토론이\n",
      "있는 독서토론교육 운영 연중 1~6학년 32. 232. 독서인문교육을 돕는 도서관 운영 독서인문교육 ◦도서관 운영 계획 수립 3월 1~6학년 ◦도서관 활용 수업 활성화 및 도서\n",
      "확충 연중 1~6학년 ◦독서 교실 운영 방학중 1~6학년 교육과정 ◦학생 참여의 독서 행사 운영 연중 1~6학년 ◦독서인문교실-작가와의 만남 5-6학년 11월 ◦미디어리터러시 교육\n",
      "1-6학년 1회 331. 꿈을 키우는 학생 맞춤형 진로교육 강화 ◦진로체험교실 운영 ◦교과 및 창의체험 활동을 통한 진로교육 운 영 연중 연중 1~6학년 1~6학년 생활인권 33.\n",
      "◦학년 수준에 맞는 진로탐색 프로그램 운영 ◦사이버 진로교육 운영-커리어넷 2회 연중 1~6학년 4~6학년 다양한 진로 교육 실시 332. 진로연계교육 실시 ◦1-2학년은\n",
      "성장이음과정 실시 ◦3학년은 교과목 설명 및 전담과목 및 안내 학년초 학년초 1-2학년 3학년 교육과정', 'family_tree': 'parent_table',\n",
      "'parent_id': 'NA', 'id': '31a7842d-17a9-41bb-b4e6-8c3fdeeddd6d'}\n",
      "\n",
      "-----------------------------------------------\n",
      "5. Category: CompositeElement, Chunk: 699 Characters\n",
      "-----------------------------------------------\n",
      "‧ 창의적 체험활동의 영역별 활동내용, 평가방법 및 기준은 교육과정을 근 - 9 - □5 선행교육 예방 (공교육정상화법) 교사 우○주 ❍ 선행교육 -「초‧중등교육법」제23조제2항에\n",
      "따라 교육부장관이 정한 초․중등학교 교육과정(국가교육과정) 및 교육감이 정한 초․중등학교 교육과정(시․도교육과정), 「초‧중등교육법」제23조제1항에 근거하여 편성․운영되는 단위학교\n",
      "교육과정(학교 교육과정) 국가교육과정-시․도교육과정-학교 교육과정에 앞서서 편성 또는 제공하는 교육 일반 ❍ 선행학습 - 학습자가 국가교육과정, 시․도교육과정, 학교 교육과정에\n",
      "앞서서 하는 학습 1. 추진 근거 및 목적 L RIS 가. 근거 Ÿ 「공교육 정상화 촉진 및 선행교육 규제에 관한 특별법」(공교육정상화법) Ÿ 2024년 선행학습 유발 관행 근절\n",
      "사업 추진계획(교육부 기초학력진로교육과-379, 2024.1.31.) = [9 = < [aN] & - % 5 = 해 때 R 제 0 | 버 과 E 제 o 99 = = B 회 - 0\n",
      "0 80 MR Q0w 나. 목적 Ÿ 학교의 정상적인 교육과정 운영을 위한 여건 조성 및 공교육 정상화 실현 Ÿ 선행교육과 선행학습 유발 관행 근절을 위한 학생, 교원, 학부모 인식\n",
      "개선 연수 및 홍보 강화 0\" 3l om0 음미 Ÿ 교육과정 편성 운영 및 선행출제 점검·컨설팅을 통해 학생의 발달단계에 맞는 교육 실시 2. 추진 계획 가. 연수 추진 계획\n",
      "metadata:\n",
      " {'source': './data/complex_pdf/school_edu_guide.pdf', 'filetype': 'application/pdf', 'languages':\n",
      "['kor', 'eng'], 'last_modified': '2024-04-04T01:39:24', 'page_number': 11, 'file_directory':\n",
      "'./data/complex_pdf', 'filename': 'school_edu_guide.pdf', 'category': 'CompositeElement',\n",
      "'family_tree': 'child', 'parent_id': '7d9d2ff0-d190-4356-bbbe-fbdbd44bfceb', 'id':\n",
      "'22312bd2-8521-4168-93d8-761a1c714eb9'}\n"
     ]
    }
   ],
   "source": [
    "query = \"중지된 경우 이체\"\n",
    "search_hybrid_result = opensearch_hybrid_retriever.get_relevant_documents(query)\n",
    "\n",
    "print(\"\\n==========  Results  ==========\\n\")\n",
    "print(f'1. question: {query}')\n",
    "print(f'2. # documents: {len(search_hybrid_result)}')\n",
    "print(\"3. Documents: \\n\")\n",
    "\n",
    "show_context_used(search_hybrid_result)"
   ]
  },
  {
   "cell_type": "markdown",
   "id": "a981abe7-5208-48f5-a9cc-8c557e9941ca",
   "metadata": {},
   "source": [
    "## 5. RAG using RetrievalQA powered by LangChain"
   ]
  },
  {
   "cell_type": "code",
   "execution_count": 37,
   "id": "08cf6d2b-451b-499c-aec2-bb6f5abafbb0",
   "metadata": {
    "tags": []
   },
   "outputs": [],
   "source": [
    "from utils.rag import prompt_repo"
   ]
  },
  {
   "cell_type": "markdown",
   "id": "b490df1f-8113-4dd1-a578-a3e1a6918fde",
   "metadata": {
    "tags": []
   },
   "source": [
    "### Prompting\n",
    "- [TIP] Prompt의 instruction의 경우 한글보다 영어로 했을 때 더 좋은 결과를 얻을 수 있습니다."
   ]
  },
  {
   "cell_type": "code",
   "execution_count": 38,
   "id": "076bed85-0a6b-408e-87b2-6aa5074ed6da",
   "metadata": {
    "tags": []
   },
   "outputs": [
    {
     "name": "stdout",
     "output_type": "stream",
     "text": [
      "('\\n'\n",
      " '                        You are a master answer bot designed to answer '\n",
      " \"user's questions.\\n\"\n",
      " \"                        I'm going to give you contexts which consist of \"\n",
      " 'texts, tables and images.\\n'\n",
      " \"                        Read the contexts carefully, because I'm going to \"\n",
      " 'ask you a question about it.\\n'\n",
      " '                        ')\n"
     ]
    }
   ],
   "source": [
    "system_prompt = prompt_repo.get_system_prompt()\n",
    "pprint (system_prompt)"
   ]
  },
  {
   "cell_type": "markdown",
   "id": "c66157a6-aec8-4555-a90f-1178e6f4f6e0",
   "metadata": {},
   "source": [
    "### Update Search Params (Optional)"
   ]
  },
  {
   "cell_type": "code",
   "execution_count": 39,
   "id": "64df2daf-8b42-472a-885f-97320ee98132",
   "metadata": {
    "tags": []
   },
   "outputs": [],
   "source": [
    "from utils.rag import qa_chain\n",
    "from langchain.schema.output_parser import StrOutputParser"
   ]
  },
  {
   "cell_type": "code",
   "execution_count": 65,
   "id": "d2697230-6962-43d8-8917-ba9daa4295bb",
   "metadata": {
    "tags": []
   },
   "outputs": [],
   "source": [
    "opensearch_hybrid_retriever.update_search_params(\n",
    "    k=10,\n",
    "    minimum_should_match=0,\n",
    "    filter=[],\n",
    "    reranker=True,\n",
    "    reranker_endpoint_name=endpoint_name,\n",
    "    hyde=False, # enable hyde\n",
    "    hyde_query=[\"web_search\"], # query type in hyde \n",
    "    llm_text=llm_text, # llm for query augmentation in rag_fusion\n",
    "    async_mode=True,\n",
    "    verbose=False,\n",
    "    \n",
    "    # option for complex documents consisting of text, table and image\n",
    "    complex_doc=True, # False 이면, invocation시 text만 넣는다.\n",
    ")"
   ]
  },
  {
   "cell_type": "markdown",
   "id": "aee26c22-b674-4f4f-a87b-29508e336fda",
   "metadata": {},
   "source": [
    "### Request"
   ]
  },
  {
   "cell_type": "code",
   "execution_count": 66,
   "id": "95fa61d3-9256-432a-96a3-2c696c97ea68",
   "metadata": {
    "tags": []
   },
   "outputs": [],
   "source": [
    "qa = qa_chain(\n",
    "    llm_text=llm_text,\n",
    "    retriever=opensearch_hybrid_retriever,\n",
    "    system_prompt=system_prompt,\n",
    "    return_context=True,\n",
    "    verbose=False\n",
    ")"
   ]
  },
  {
   "cell_type": "code",
   "execution_count": 67,
   "id": "390ad324-40b3-4bcb-92b9-50eb080492a5",
   "metadata": {
    "tags": []
   },
   "outputs": [
    {
     "name": "stdout",
     "output_type": "stream",
     "text": [
      "초등학교 교육 과정은 다음과 같은 내용을 포함하고 있습니다.\n",
      "\n",
      "1. 문화예술교육 강화: 예술강사 무용 수업, 1인 1악기(칼림바), 문화예술교실, 상록 문화예술의 날 행사 등을 통해 예술교육을 강화함.\n",
      "\n",
      "2. 스포츠클럽 활성화: 반별 스포츠클럽 조직 및 운영, 스포츠클럽데이 행사 등을 통해 체육활동을 장려함.  \n",
      "\n",
      "3. 건강체력증진 프로그램: 줄넘기 급수제, 건강체력교실, 생존수영교육, 해양안전체험활동 등을 운영하여 학생들의 건강과 체력 향상을 도모함.\n",
      "\n",
      "4. 놀이중심 교육과정 운영: 놀이교실 확보, 블록타임 놀이시간 확보, 점심시간 자유놀이 시간 확보 등을 통해 학생들에게 휴식과 놀이 기회를 제공함.\n",
      "\n",
      "5. 생태환경교육: 숲체험교실, 탄소중립환경교육, 교과연계환경교육, 환경교육주간 운영 등을 통해 학생들의 환경의식을 기름.\n",
      "\n",
      "6. 인성교육: 인성교육실천주간, 학급별 인성교육, 친구사랑의 날 행사, 예절교실 운영 등을 통해 학생들의 인성을 함양함.\n",
      "-----------------------------------------------\n",
      "1. Category: CompositeElement, Chunk: 699 Characters\n",
      "-----------------------------------------------\n",
      "‧ 창의적 체험활동의 영역별 활동내용, 평가방법 및 기준은 교육과정을 근 - 9 - □5 선행교육 예방 (공교육정상화법) 교사 우○주 ❍ 선행교육 -「초‧중등교육법」제23조제2항에\n",
      "따라 교육부장관이 정한 초․중등학교 교육과정(국가교육과정) 및 교육감이 정한 초․중등학교 교육과정(시․도교육과정), 「초‧중등교육법」제23조제1항에 근거하여 편성․운영되는 단위학교\n",
      "교육과정(학교 교육과정) 국가교육과정-시․도교육과정-학교 교육과정에 앞서서 편성 또는 제공하는 교육 일반 ❍ 선행학습 - 학습자가 국가교육과정, 시․도교육과정, 학교 교육과정에\n",
      "앞서서 하는 학습 1. 추진 근거 및 목적 L RIS 가. 근거 Ÿ 「공교육 정상화 촉진 및 선행교육 규제에 관한 특별법」(공교육정상화법) Ÿ 2024년 선행학습 유발 관행 근절\n",
      "사업 추진계획(교육부 기초학력진로교육과-379, 2024.1.31.) = [9 = < [aN] & - % 5 = 해 때 R 제 0 | 버 과 E 제 o 99 = = B 회 - 0\n",
      "0 80 MR Q0w 나. 목적 Ÿ 학교의 정상적인 교육과정 운영을 위한 여건 조성 및 공교육 정상화 실현 Ÿ 선행교육과 선행학습 유발 관행 근절을 위한 학생, 교원, 학부모 인식\n",
      "개선 연수 및 홍보 강화 0\" 3l om0 음미 Ÿ 교육과정 편성 운영 및 선행출제 점검·컨설팅을 통해 학생의 발달단계에 맞는 교육 실시 2. 추진 계획 가. 연수 추진 계획\n",
      "metadata:\n",
      " {'source': './data/complex_pdf/school_edu_guide.pdf', 'filetype': 'application/pdf', 'languages':\n",
      "['kor', 'eng'], 'last_modified': '2024-04-04T01:39:24', 'page_number': 11, 'file_directory':\n",
      "'./data/complex_pdf', 'filename': 'school_edu_guide.pdf', 'category': 'CompositeElement',\n",
      "'family_tree': 'parent', 'parent_id': None, 'id': '7d9d2ff0-d190-4356-bbbe-fbdbd44bfceb'}\n",
      "\n",
      "-----------------------------------------------\n",
      "2. Category: Image, Chunk: 219 Characters\n",
      "-----------------------------------------------\n"
     ]
    },
    {
     "data": {
      "image/png": "[encoded data removed]",
      "text/plain": [
       "<Figure size 640x480 with 1 Axes>"
      ]
     },
     "metadata": {},
     "output_type": "display_data"
    },
    {
     "name": "stdout",
     "output_type": "stream",
     "text": [
      "이 이미지는 학교 활동의 전반적인 과정을 설명하는 흐름도입니다. 왼쪽에서 시작하여 학교, 학교운영계획, 사업운영 등의 준비 단계를 거쳐 중앙의 학부모회, 사인회 등 학교 운영\n",
      "주체들이 관여하는 활동 과정을 보여줍니다. 마지막으로 학교 활동의 결과로 학교평가, 자체평가, 재정지원 등의 결과물이 산출되는 것을 나타내고 있습니다. 전체적으로 학교 운영의 전체\n",
      "흐름을 구조화하여 제시하고 있습니다.\n",
      "metadata:\n",
      " {'img_path': './fig/figure-37-88-resize.jpg', 'category': 'Image', 'image_base64': '',\n",
      "'family_tree': 'parent_image', 'parent_id': 'NA', 'id': '8f3a8a9d-d8bf-44e9-a61f-ea51c75f2553',\n",
      "'origin_image': ''}\n",
      "\n",
      "-----------------------------------------------\n",
      "3. Category: Table, Chunk: 531 Characters\n",
      "-----------------------------------------------\n",
      "이 표는 학교에서 운영하는 다양한 교육활동을 정리한 것입니다. 주요 내용은 다음과 같습니다.\n",
      "\n",
      "1. 문화예술교육의 강화: 아르떼 예술강사 무용 수업, 1인 1악기(칼림바), 문화예술교실(악기교실), 상록 문화예술의 날 행사 등을 통해 예술교육을 강화함.\n",
      "\n",
      "2. 학교 스포츠클럽 활성화: 반별 스포츠 클럽 조직 및 운영, 스포츠클럽데이 운영 등을 통해 학생들의 체육활동을 장려함.\n",
      "\n",
      "3. 건강, 체력 증진 프로그램: 줄넘기 급수제, 건강체력교실, 생존수영교육, 해양 안전 체험활동 등을 운영하여 학생들의 건강과 체력 향상을 도모함.\n",
      "\n",
      "4. 놀이와 쉼이 있는 교육과정 운영: 학년별 놀이교실 확보, 블록타임 놀이시간 확보, 점심시간 자유놀이 시간 확보 등을 통해 학생들에게 휴식과 놀이 기회를 제공함.\n",
      "\n",
      "5. 체험중심의 생태환경교육: 숲체험교실, 탄소중립 환경교육, 교과 연계 환경교육, 환경교육주간 운영 등을 통해 학생들의 환경의식을 기름.\n",
      "\n",
      "6. 학교 교재원 운영: 학교 교재원을 화단과 재배원, 수생식물원으로 운영하여 체험 학습의 기회를 제공함.\n",
      "metadata:\n",
      " {'source': './data/complex_pdf/school_edu_guide.pdf', 'detection_class_prob': 0.8882335424423218,\n",
      "'coordinates': {'points': [[165.31134033203125, 376.06396484375], [165.31134033203125,\n",
      "1968.8123779296875], [1504.1602783203125, 1968.8123779296875], [1504.1602783203125,\n",
      "376.06396484375]], 'system': 'PixelSpace', 'layout_width': 1653, 'layout_height': 2337},\n",
      "'last_modified': '2024-04-04T01:39:24', 'text_as_html': '<table><thead><th>0 \"0 Bl -</th><th>0 벤 ofr\n",
      "g</th><th>— K| I =</th><th>\" 드르 5</th><th>&lt; 과 W 따</th></thead><tr><td rowspan=\"3\">J 가 야 모 &lt;K\n",
      "NS &amp; A</td><td>31 가 — —~ | 하이 에 | %o oo 코마 _Hw 마 = 혹 훌 하 고 때 인 E_A/E%M__% M= =3 새 웅 혼 명 을. 오하 고\n",
      "매 허 름 으 흥 U g o __r_ﬁ 0 능 맺 종 b</td><td>Ko Ko Ko @ n Bl BBl T</td><td>g B B | 하인 인한 강우 우우 근 곤 곤\n",
      "고</td><td>oW OB o 도트 마 마 마마 녁 녁 녁 더</td></tr><tr><td></td><td>8o oH = I 허 빗 =0 K o o7 1 B0 AME S Eu®\n",
      "흐 m.__A_H - NP o 밥 더 oy or 펫 태 여 파싱 도</td><td>110 0 n B =</td><td>끼 4 한 © 내</td><td>끄 내 .\n",
      ")</td></tr><tr><td></td><td>90 oH 0 더 T Hl Tz o R 할 푸 힙 A% = 10 a:x_.u_:Mew_mﬂI. (내 Fmlldm | e T wrE\n",
      "s 닌 99 60 0 50 80 | , 벤 정 정 힌 후 도 o o</td><td>o Ko Ko 3 그 T 0 BIBIB S 6</td><td>it Bt 낄 | 낄 4 한 한알 한\n",
      "고 oL L w 은근 G</td><td>내 . )</td></tr><tr><td rowspan=\"3\">얘 히 덕 Qo - 덕 』 은 Ko 7o N O 5 B o = T E g\n",
      "=</td><td>by 께 = =&lt; B0 =) o Ao I, 0 ol =r 께 g . 때 떼 R0 N = &lt; £ 멜 러 즈 H_ o wwmIsm 걸 혹 셜 홀로 _ -\n",
      "\"3 maw%mé o 오 에 여 페오 허고 I ntey KT &lt; O T 힌 9 m o o o o</td><td>Ko 5</td><td>한 © o</td><td>RO = or\n",
      "o</td></tr><tr><td></td><td>_ =3 =3 u o | aefm ol OH 규 80 hlﬂ_www_a 고 | 했 더 농부 S T | Fwmwdr EAFR =\n",
      "ko B o o o o</td><td>해 S S Ko Ko 0 =i 이 이 6 &lt;</td><td>골 꺼 끼 꺼 T80 R</td><td>@ 쁜 마\n",
      "녁</td></tr><tr><td></td><td>80 D 고 = g 이기 FERT MR 머 메 더) 레그 g T o o 8 가 B o o o</td><td>Ko</td><td>2\n",
      "3 R</td><td>께 쁜 마 녁</td></tr></table>', 'filetype': 'application/pdf', 'languages': ['kor', 'eng'],\n",
      "'page_number': 5, 'file_directory': './data/complex_pdf', 'filename': 'school_edu_guide.pdf',\n",
      "'category': 'Table', 'origin_table': '구현중점 교육활동 시기 대상 관련부서 211. 문화예술교육의 강화 ◦아르떼 예술강사 무용 수업 ◦1인\n",
      "1악기(칼림바) ◦문화예술교실(악기교실) ◦상록 문화예술의 날 연중 연중 연중 11월 1~4학년 1~6학년 1~6학년 1~6학년 교무기획 교무기획 교무기획 교무기획 21. 감성이\n",
      "자라는 예술교육 212. 학교 스포츠클럽의 활성화 ◦반별 학교 스포츠 클럽 조직 및 운영 ◦스포츠클럽데이 운영 연중 11월 2~6학년 5학년부 213. 건강, 체력 증진 프로그램\n",
      "운영 ◦줄넘기 급수제 실시 연중 1-6학년 ◦건강체력교실 운영 ◦건강365교실 연중 연중 1-6학년 5-6학년 5학년부 ◦학생 생존수영 교육 ◦해양 안전 체험 활동 5-6월 3월\n",
      "3-4학년 6학년 214. 놀이와 쉽이 있는 교육과정 운영 22. ◦학년별 놀이교실 확보 놀이와 ◦매주 수요일 1,2교시 블록타임-놀이시간확보 연중 1-6학년 교육과정 쉼이 있는\n",
      "교육 ◦학년별 놀이교실에 놀잇감 확보 ◦점심식사 후 자유놀이 시간 확보 231. 생태전환교육 ◦숲체험 교실 운영 ◦탄소중립 환경교육 실시 ◦교과 연계 환경교육 실시 ◦환경교육주간\n",
      "운영 4월,10월 연중 연중 6월 1-4학년 1-6학년 1-6학년 1-6학년 교무기획 23. 체험중심의 생태환경교육 232. 학교 교재원 운영 ◦학교 교재원화 ◦재배원 관리\n",
      "◦수생식물원 관리 연중 전교생 교무기획', 'family_tree': 'parent_table', 'parent_id': 'NA', 'id': '720cd8fa-\n",
      "ba7e-442a-aab6-5849faa6a67a'}\n",
      "\n",
      "-----------------------------------------------\n",
      "4. Category: CompositeElement, Chunk: 461 Characters\n",
      "-----------------------------------------------\n",
      "나. 세부계획 Ÿ 교과별·학년별 교육과정과 평가 내용 일치 실천 w20 oG ) 23 된 ST -3 M Ao Ÿ 선행교육 사전 예방을 위한 출제관리 및 자율점검 (학기별 1회) g\n",
      "Ÿ 교원, 학부모 대상 선행교육 예방 관련 연수 및 홍보(연 1회) 다. 교육공동체의 책무 제5조(학교의 장의 책무) ② 학교의 장은 해당 학교에서 선행교육을 실시하지 아니하도록\n",
      "지도・감독하여야 한다. ③ 학교의 장은 학부모・학생・교원에게 선행교육 및 선행학습을 예방하기 위한 교육을 정기적으로 실시하여야 한다. ④ 학교의 장은 제3항의 내용을 포함한\n",
      "선행교육 및 선행학습 예방에 관한 계획을 수립・시행하여 야 한다. 제5조의 2(교원의 책무) 교원은 학생의 학습권 보호를 위하여 학생의 선행학습을 전제로 수업을 하 여서는 아니\n",
      "된다. - 10 - □6 학생 안전 교육 교사 김○희 □ 교육부 안전교육 7대 영역 표준안(나.침.반 안전교육실시)\n",
      "metadata:\n",
      " {'source': './data/complex_pdf/school_edu_guide.pdf', 'filetype': 'application/pdf', 'languages':\n",
      "['kor', 'eng'], 'last_modified': '2024-04-04T01:39:24', 'page_number': 12, 'file_directory':\n",
      "'./data/complex_pdf', 'filename': 'school_edu_guide.pdf', 'category': 'CompositeElement',\n",
      "'family_tree': 'child', 'parent_id': '0cd4f61e-badb-48e8-a4a6-bd92e6db3c3c', 'id':\n",
      "'153e0b02-e873-4893-9faf-f547363d760c'}\n",
      "\n",
      "-----------------------------------------------\n",
      "5. Category: Table, Chunk: 250 Characters\n",
      "-----------------------------------------------\n",
      "이 표는 초등학생을 대상으로 한 방과후학교 프로그램 내용을 보여줍니다. 프로그램별로 수업 시간, 대상 학년, 정원, 수업 횟수, 분기별 수강료 등의 정보를 제공합니다. 가야금,\n",
      "노래, 독서토론, 뜨개질, 로봇과학, 미술, 방송댄스, 영어, 예쁜글씨, 창의과학, 축구, 컴퓨터, 영재큐브, 클레이아트, 바둑, 한자 등 다양한 프로그램이 있습니다. 일부\n",
      "프로그램에는 재료비나 교재비가 별도로 부과됩니다. 수업 장소도 각 프로그램별로 지정되어 있습니다.\n",
      "metadata:\n",
      " {'source': './data/complex_pdf/school_edu_guide.pdf', 'detection_class_prob': 0.9259703159332275,\n",
      "'coordinates': {'points': [[186.4056396484375, 689.3862915039062], [186.4056396484375,\n",
      "2113.361328125], [1467.9617919921875, 2113.361328125], [1467.9617919921875, 689.3862915039062]],\n",
      "'system': 'PixelSpace', 'layout_width': 1653, 'layout_height': 2337}, 'last_modified':\n",
      "'2024-04-04T01:39:24', 'text_as_html': '<table><thead><th colspan=\"2\">프 로 그 램 명 ]</th><th\n",
      "colspan=\"2\">수업 일시 일시</th><th>학년</th><th rowspan=\"2\">정원 1 0 명</th><th rowspan=\"2\">수 업 횟수</th><th>분 기\n",
      "별 (3 개 월) 수강료</th><th rowspan=\"2\">스어 자소 수업 장소 - 1%</th></thead><tr><td rowspan=\"2\"></td><td></td><td\n",
      "rowspan=\"2\">수</td><td>1:00~2:10</td><td>1 학 년</td><td></td><td></td><td rowspan=\"2\">73,500 원 = ( 가 야\n",
      "금 은 학 교 에 비치)</td><td></td></tr><tr><td></td><td>가야금</td><td></td><td>: 2:10~3:20</td><td>2~-6 학 년\n",
      "=&lt;</td><td>100 3</td><td>|</td><td></td><td>예 절 준 비 실</td></tr><tr><td colspan=\"2\" rowspan=\"2\">노\n",
      "래 보컬</td><td></td><td>1:50~3:00</td><td>1~2 학 년</td><td>20 명</td><td></td><td></td><td rowspan=\"2\">4\n",
      "층 방과후 24</td></tr><tr><td colspan=\"2\"></td><td>글</td><td>3:10~4:20</td><td>3~-6 학 년 —</td><td>20\n",
      "명</td><td>12 회</td><td>81,840 원</td><td></td></tr><tr><td>독 독</td><td>서 토론 서 토론</td><td>-</td><td\n",
      "rowspan=\"3\">- 1:50~3:00 3:10~4:20 1:50~3:00</td><td>1~2 학 년</td><td>25 명</td><td>12 회</td><td>이\n",
      ");820 원</td><td>4 층</td></tr><tr><td></td><td>논술</td><td>-</td><td></td><td>3~-6 학 년 놀리</td><td>255\n",
      "더</td><td></td><td>( 자 체 제작 교 재 포함)</td><td rowspan=\"2\">방과후 2 실 3%</td></tr><tr><td colspan=\"2\"\n",
      "rowspan=\"2\">- 뜨개질 &amp; 바느질</td><td colspan=\"2\"></td><td>o</td><td></td><td>1~3 학 년</td><td>25\n",
      "명</td><td>122</td><td>78,720 7204</td><td></td></tr><tr><td>=</td><td>3:10~4:20</td><td>4~6 학 년\n",
      "느티</td><td>250 i</td><td></td><td>재료비: 39,0009</td><td>방과후 1 실</td></tr><tr><td\n",
      "rowspan=\"2\">로</td><td rowspan=\"2\">봇 과학</td><td></td><td>o0z :00~2:10</td><td>~ 1~2 학 년</td><td>25\n",
      "명</td><td></td><td>68,200 원 =</td><td rowspan=\"2\">- 3% 방과후 1\n",
      "실</td></tr><tr><td></td><td></td><td>수</td><td>2:40~3:50</td><td>3~6 학 년 각 년</td><td>25 명</td><td>10\n",
      "회</td><td>재료비: 85,000 원</td><td></td></tr><tr><td colspan=\"2\" rowspan=\"3\">미술</td><td></td><td\n",
      "rowspan=\"4\">B 2o 3:10~4:20 1:00~2:10</td><td>1~2 학 년</td><td>25%</td><td rowspan=\"3\">122l</td><td\n",
      "rowspan=\"3\">78,7209 = 재료비: 21,0009</td><td>15</td></tr><tr><td\n",
      "colspan=\"2\"></td><td>목</td><td></td><td>3~46 학 년</td><td></td><td></td><td></td><td>2 과 학\n",
      "실</td></tr><tr><td colspan=\"2\"></td><td></td><td></td><td>학년</td><td>250\n",
      "3</td><td></td><td></td><td></td></tr><tr><td></td><td colspan=\"2\" rowspan=\"2\">송 댄스\n",
      "월</td><td></td><td>1~2 학 년</td><td>25 명</td><td>12</td><td>75,0209</td><td rowspan=\"3\">아즈 1 절\n",
      "실</td><td></td></tr><tr><td colspan=\"2\" rowspan=\"2\">방 어 (기초)</td><td colspan=\"2\"></td><td\n",
      "colspan=\"2\"></td><td>2:40~3:50</td><td>3~46 학 년</td><td>25 명</td><td rowspan=\"5\">o\n",
      "362l</td><td></td><td></td><td></td></tr><tr><td>화 금</td><td>1:50~2:30</td><td>1~2 학 년 -\n",
      "느</td><td>25 명</td><td></td></tr><tr><td>영</td><td></td><td>, 목\n",
      ",</td><td></td><td></td><td></td><td></td><td>132,120 원</td><td rowspan=\"8\">할일. ( 세 이 프 존 )\n",
      "층</td></tr><tr><td>영</td><td>어 (초급) 브</td><td>화 , 목 , 금 +, 목 , 금</td><td>:9048\n",
      "2:30~3:10</td><td>1m0</td><td>250</td><td rowspan=\"7\">36 회 3621 36 회 회</td><td></td><td></td><td></t\n",
      "d></tr><tr><td></td><td></td><td></td><td></td><td>테스트</td><td></td><td></td><td></td><td>교재비:</td><\n",
      "td></td></tr><tr><td colspan=\"2\" rowspan=\"5\">영 어 (중급) 영 어 (고급) 예 쁜 글씨</td><td>화 , 목 ,\n",
      "금</td><td>3:10~3:50</td><td>(레벨 후</td><td>25 명</td><td></td><td></td><td></td></tr><tr><td\n",
      "colspan=\"2\"></td><td></td><td></td><td>결정)</td><td></td><td></td><td>15,000~19,440\n",
      "원</td><td></td></tr><tr><td colspan=\"2\"></td><td>화 , 목 , 금</td><td>3:50~4:30</td><td></td><td>25\n",
      "명</td><td></td><td></td><td></td></tr><tr><td colspan=\"2\" rowspan=\"3\">캘리 2</td><td\n",
      "colspan=\"2\"></td><td colspan=\"2\"></td><td rowspan=\"4\">. 수</td><td></td><td>1:00~2:10</td><td>1~2 학 년\n",
      "2</td><td rowspan=\"4\">25 명 25 명 3 25 명</td><td></td><td></td><td></td><td></td></tr><tr><td\n",
      "colspan=\"2\"></td><td></td><td></td><td></td><td>65,6009 =</td><td></td></tr><tr><td\n",
      "colspan=\"2\"></td><td></td><td>2:20~3:30</td><td>3~6 학 년 —</td><td></td><td>10</td><td>재료비:\n",
      "21,0009</td><td>2 과 학 실</td></tr><tr><td colspan=\"2\" rowspan=\"3\">창 의 과학</td><td></td><td>7\n",
      "1507300</td><td>et</td><td></td><td rowspan=\"3\">12 회</td><td>78,720 원 =</td><td rowspan=\"2\">33 1\n",
      "실</td></tr><tr><td colspan=\"2\"></td><td>목</td><td>3:10~4:20</td><td>3~6 학\n",
      "년</td><td>250</td><td></td><td>&gt; 재료비:</td><td rowspan=\"3\">방과', 'filetype': 'application/pdf',\n",
      "'languages': ['kor', 'eng'], 'page_number': 20, 'file_directory': './data/complex_pdf', 'filename':\n",
      "'school_edu_guide.pdf', 'category': 'Table', 'origin_table': '프로그램명 수업 일시 학년 정원 수업횟수 분기별(3개월) 수강료\n",
      "가야금 수 1:00~2:10 2:10~3:20 1학년 2~6학년 10명 10명 10회 73,500원 (가야금은 학교에 비치) 노래보컬 금 1:50~3:00 3:10~4:20\n",
      "1~2학년 3~6학년 20명 20명 12회 81,840원 독서토론 논술 목 1:50~3:00 3:10~4:20 1~2학년 3~6학년 25명 25명 12회 91,320원 (자체제작\n",
      "교재포함) 뜨개질 & 바느질 금 1:50~3:00 3:10~4:20 1~3학년 4~6학년 25명 25명 12회 78,720원 재료비: 39,000원 로봇과학 수 1:00~2:10\n",
      "2:40~3:50 1~2학년 3~6학년 25명 25명 10회 68,200원 재료비: 85,000원 미술 목 1:50~3:00 3:10~4:20 1~2학년 3~6학년 25명 25명\n",
      "12회 78,720원 재료비: 21,000원 방송댄스 월 1:00~2:10 2:40~3:50 1~2학년 3~6학년 25명 25명 11회 75,020원 영어(기초) 영어(초급)\n",
      "영어(중급) 영어(고급) 화,목,금 화,목,금 화,목,금 화,목,금 1:50~2:30 2:30~3:10 3:10~3:50 3:50~4:30 1~2학년 1~6학년 (레벨 테스트 후\n",
      "결정) 25명 25명 25명 25명 36회 36회 36회 36회 132,120원 교재비: 15,000~19,440원 예쁜글씨 캘리 수 1:00~2:10 2:20~3:30 1~2학년\n",
      "3~6학년 25명 25명 10회 65,600원 재료비: 21,000원 창의과학 목 1:50~3:00 3:10~4:20 1~2학년 3~6학년 25명 25명 12회 78,720원\n",
      "재료비: 56,000원 축구 수 1:00~2:10 2:20~3:30 1~2학년 3~6학년 25명 25명 10회 68,200원 컴 퓨 터 A 컴 퓨 터 B 컴퓨터 기초 OA 마스터\n",
      "스팩 자격증 코딩 (기초) 코딩 (게임) 월,수 월,수 월,수 금 금 12:50~1:40 1:50~2:40 2:50~3:40 1:50~2:40 2:50~3:40 1학년 3~4학년\n",
      "3~6학년 1~2학년 3~6학년 25명 25명 25명 25명 25명 21회 21회 21회 12회 78,540원 교재비: 10,000~18,000원 (자격증반 응시료 별도)\n",
      "67,320원 교재비: 10,000~12,000원 영재큐브 화 1:50~3:00 3:10~4:20 1~2학년 3~6학년 20명 20명 12회 78,720원 재료비(교구포함):\n",
      "50,000~70,000원 클레이아트 화 1:50~3:00 3:10~4:20 1~2학년 3~6학년 25명 25명 12회 78,720원 재료비: 48,000원 바둑 화\n",
      "1:50~3:00 3:10~4:20 1~2학년 3~6학년 25명 25명 12회 78,720원 교재비: 13,000원 한자 월 1:00~2:10 2:40~3:50 1~2학년\n",
      "3~6학년 25명 25명 30회 무료 1기 신청자 3기까지 수강 기간: 4.8~11.25. 수업 장소 1층 예절준비실 4층 방과후 2실 4층 방과후 2실 3층 방과후 1실 3층\n",
      "방과후 1실 1층 2과학실 1층 예절실 신관 2층 영어실Ⅰ (세이프존) 1층 2과학실 3층 방과후 1실 운동장 3층 컴퓨터실 4층 방과후 2실 3층 방과후 1실 4층 수업녹화교실\n",
      "3층 방과후 1실', 'family_tree': 'parent_table', 'parent_id': 'NA', 'id':\n",
      "'bb2b9ae1-3537-46d2-8466-1ed7b5214327'}\n",
      "\n",
      "-----------------------------------------------\n",
      "6. Category: Table, Chunk: 184 Characters\n",
      "-----------------------------------------------\n",
      "이 표는 학교에서 학생들의 인성 및 시민의식 교육을 위해 실시하는 다양한 교육활동을 안내하고 있습니다. 교실 환경 구성, 학생 자치 활동, 인권/평화 교육, 체험 인성교육,\n",
      "학교폭력 예방교육 등의 활동이 연중 계획되어 있습니다. 각 활동의 시기, 대상, 관련 부서 등의 정보를 제공하여 체계적인 교육활동 계획을 보여주고 있습니다.\n",
      "metadata:\n",
      " {'source': './data/complex_pdf/school_edu_guide.pdf', 'detection_class_prob': 0.8744701147079468,\n",
      "'coordinates': {'points': [[201.83421325683594, 379.5096740722656], [201.83421325683594,\n",
      "1965.944091796875], [1483.7281494140625, 1965.944091796875], [1483.7281494140625,\n",
      "379.5096740722656]], 'system': 'PixelSpace', 'layout_width': 1653, 'layout_height': 2337},\n",
      "'last_modified': '2024-04-04T01:39:24', 'text_as_html': '<table><thead><th>R 10 K % +</th><th>_.__o\n",
      "고 ol R</th><th>— N S T</th><th>o .uAﬂo x|</th><th>&lt; 가 Mh 2</th></thead><tr><td rowspan=\"3\">&amp;\n",
      "w &amp; o A : -</td><td>&lt;+ K % = | K o | RO 기 N h Yo L R RO R 보일 9 은 o D 10 위 oo [ 루 귀 오이 . L o\n",
      "HES -</td><td>” of o g Ko o5 올 륭 빌</td><td>T 홈 홈 홈 우우우 &lt; - ㅠ</td><td>규 | ml i 이 o\n",
      "20</td></tr><tr><td></td><td>TR i} o s 히포. B 께 원 =~ gD T g2 으라 R X0z OF RSaRo 매 무 메 덤 하아 BT 뱀 80 애 회\n",
      "o S me_mm%usvm 물 디 이 보 한 O 고 B -</td><td>은 호 = o Ko g pEsm Bl</td><td>R— FH MO 뿔 파 프 프 1 o oI\n",
      "ol</td><td>0 m 삐삐 RO 6664 ™ Bl B 해 야 20 20 20 I3 50 더</td></tr><tr><td></td><td>o Okl 0 oF Hh Ho ® R\n",
      "WX K 끼 ㄷ o| 늘 o 일 우울 세 | o ㅠㅠ 너 gy’ &lt;y 밸 허 어이 S @ | B B 렬 호 모호 momou| T ROR - O O ©o\n",
      "는</td><td>110 8</td><td>= | A &amp;</td><td>0 or |</td></tr><tr><td>N</td><td>0 &lt; 합지 합지 0 5 of 80\n",
      "o o0 o 비 핸 허 Moy ㅇㅇ mmwm Trw 새해 grA A : 딘 둔 홍 ﬂooo o</td><td>T o &amp; 연 00 B 인 00 &amp; A% i 51\n",
      "7</td><td>T T ey 은 소오 00 ㅎㅎ 이</td><td>| °- 2 2 %0</td></tr><tr><td rowspan=\"3\">2 1wl T 보메 T an \"고프\"\n",
      "은 E R o THED .|.__.|_“_$=NL</td><td>or o 덕 o — ol 3 전 년 R 옮기 80 애 시 i mn R B O o ® | 애 는 바 o doror°\n",
      "mE e ol EE 이 룰 인 운 으 | 어 닝 mV_OOOO</td><td>이. 00 40000 mEEE</td><td>끼 4 S &lt; —</td><td>T iy 2 해\n",
      "%0</td></tr><tr><td></td><td>o o 3 &amp; G R | 300\" O gREND oz i [해 사 있 으 wﬂﬂma%m__ S 즐 지 유 인 종 대세 울\n",
      ": 아 개 BOOOO</td><td>0000 ol mE-s| %38</td><td>&amp; mvoﬁ ! 때</td><td>B = g o\n",
      "B</td></tr><tr><td></td><td>80 y » o i Kk 비 얘 더 앰 9 격 o oM g 배 고니 5 인 에 s ㅠ 30 90 이 을 E | 뿔 헤 을 지그\n",
      "2wl a i # 엄 알홈 분 j 4@ 90 하 nu._wuvaOn_vl ]</td><td>K o a8 L85 B T ol</td><td>REEE 3 %% J||_666 R\n",
      "—</td><td>2 : £ 20</td></tr></table>', 'filetype': 'application/pdf', 'languages': ['kor', 'eng'],\n",
      "'page_number': 4, 'file_directory': './data/complex_pdf', 'filename': 'school_edu_guide.pdf',\n",
      "'category': 'Table', 'origin_table': '구현중점 교육활동 시기 대상 관련부서 111. 학교 교육 환경개선 ◦교실 학습 환경 구성 ◦학년 및 학급 규칙\n",
      "제정 및 준수 ◦인권 친화적 학생 생활인권규정 제정 준수 3월,9월 3월 연중 4~6학년 1~6학년 1~6학년 생활인권 공동체 112. 학교교육 참여기회 확대 ◦학교 운영위원회\n",
      "활성화 ◦학교 교육 설명회 ◦학부모 학교교육 참여기회 확대 ◦수업 공개의 날 운영 연중10회 2회 연중 5월 학운위 학부모 학부모 학부모 생활인권 생활인권 생활인권 교육과정\n",
      "113. 전문적 학습공동체 조직 운영 ◦학년별 협의회 구성 ◦자율과정과 연계되는 학습공동체 운영 ◦자율적인 참여로 집단지성 발휘 연중 전교사 교육과정 12. 121. 학생 자치\n",
      "활동 능력 신장 ◦전교 어린이회 임원 선출 ◦전교 어린이회 운영 ◦학급임원선출 7월,12월 연중 3월,8월 3~6학년 1~6학년 2~6학년 생활인권 하나되는 세계시민 교육 122.\n",
      "인권교육 및 평화 교육 ◦평화교육(민주시민교육) ◦인권교육주간 운영 ◦장애학생 이해교육 ◦다문화 이해교육 실시 연중 연중 연중 연중 1~6학년 생활인권 131. 체험위주의 인성교육\n",
      "◦인성교육 실천주간 ◦학급별 특색있는 인성교육 ◦친구사랑의 날 ◦예절교실 운영 연중 연중 4,11월 연중 1~6학년 생활인권 13. 나눔, 배려, 함께하는 인성교육 132.\n",
      "학교폭력 예방교육 ◦교외 생활 지도 ◦학교폭력예방 프로그램 운영 ◦방학 전 생활안전교육주간 운영 ◦위클래스(상담실) 운영 방학중 연중 학기말 연중 전교사 1~6학년 1~6학년\n",
      "1~6학년 생활인권', 'family_tree': 'parent_table', 'parent_id': 'NA', 'id':\n",
      "'aaf60d3c-29b7-4178-bfbf-c3c45bb5ba2a'}\n",
      "\n",
      "-----------------------------------------------\n",
      "7. Category: CompositeElement, Chunk: 723 Characters\n",
      "-----------------------------------------------\n",
      ".aﬁxnxﬁﬁo&ﬂooooooo_oﬂoo._Aoooo 라. 경기도 학생인권옹호관 : 경기도 학생인권 조례에 따라 학교에서 발생하는 인권 침해에 대한 상담 및 구제를 위해 마련된\n",
      "제도 학생인권문제의 상담과 도움 학생인권 보장의 시작: 학생인권과 관련하여 궁금한 것이 있으면 언제든지 물어볼 수 있음 학생인권문제에 대해서는 학생과 학부모, 선생님 모두 이용\n",
      "가능 2. 학생의 권리 차별 받지 않을 권리, 폭력 및 위험으로부터의 자유 교육에 과한 권리(학습에 관한 권리, 정규교과 이외의 교육활동의 권리, 휴식을 취할 권리) 사생활의\n",
      "비밀과 자유를 보장 받을 권리(사생활의 자유, 비밀의 보호받을 권리, 정보에 관한 권리) 양심, 종교의 자유에 따른 의사표현의 자유 자치 및 참여의 권리(자치활동의 권리, 학칙 등\n",
      "학교규정의 재․개정에 참여할 권리, 정책 결정의 권리) 복지에 과한 권리(교육환경에 대한 권리, 문화활동을 향유할 권리, 급식 및 건강에 관한 권리) 3. 학생의 의무 학교 규칙을\n",
      "준수해야 하는 의무 조례를 악용하여 교사의 교육, 연구 활동을 방해하거나 학내 질서를 문란하게 해서는 안 됨 4. 경기도 학생인권조례 기본정신 준수 학생 인권이 교육과정에서 실현될\n",
      "수 있도록 지향 학생 인권과 교사 교권의 상호존중 및 배려 학생의 존엄과 가치 및 자유와 권리 보장 인권교육: 교육과정 내 교과 관련 인권교육 및 학기 당 2시간 이상 운영(연간\n",
      "4시간) 5. 상록초등학교 학교생활인권규정\n",
      "metadata:\n",
      " {'source': './data/complex_pdf/school_edu_guide.pdf', 'filetype': 'application/pdf', 'languages':\n",
      "['kor', 'eng'], 'last_modified': '2024-04-04T01:39:24', 'page_number': 17, 'file_directory':\n",
      "'./data/complex_pdf', 'filename': 'school_edu_guide.pdf', 'category': 'CompositeElement',\n",
      "'family_tree': 'child', 'parent_id': 'f2a56596-57b7-4509-af44-df97013a4da8', 'id': '846fe2ea-\n",
      "bba1-4fe1-b1ba-dedffda8e583'}\n",
      "\n",
      "-----------------------------------------------\n",
      "8. Category: Table, Chunk: 114 Characters\n",
      "-----------------------------------------------\n",
      "표에는 공교육 정상화 촉진 및 선행교육 규제 특별법과 관련하여 교원과 학부모를 대상으로 실시되는 연수와 교육의 내용이 기술되어 있습니다. 교원 대상 연수는 4월에 열리고, 학부모\n",
      "교육은 3월에 실시됩니다.\n",
      "metadata:\n",
      " {'source': './data/complex_pdf/school_edu_guide.pdf', 'detection_class_prob': 0.81902676820755,\n",
      "'coordinates': {'points': [[176.40438842773438, 1221.6395263671875], [176.40438842773438,\n",
      "1415.4593505859375], [1382.06640625, 1415.4593505859375], [1382.06640625, 1221.6395263671875]],\n",
      "'system': 'PixelSpace', 'layout_width': 1653, 'layout_height': 2337}, 'last_modified':\n",
      "'2024-04-04T01:39:24', 'text_as_html': '<table><thead><th>H|</th><th>20 급</th><th>N | &lt;</th><th>@\n",
      "30|</th><th>ol 주</th></thead><tr><td>— |</td><td>| o | 녀</td><td>o &lt;</td><td>| 가 81 |</td><td>가\n",
      "8l 3 피 ur ol | 흐 ㅣ | or | 드 랩 ! | oK | 일 세 &lt;0 %0 ofr | H MO 2</td></tr><tr><td>이</td><td>w__._. |\n",
      "공 or</td><td>| 레 m</td><td>| o 더</td><td>| 가 | 81 | 51 | 패 | wr | o) BB &amp; X E 얘 볼 트 ! = oK | = |\n",
      "i o6 | &lt;0 | 0 얘 | o | MO | ㅁ</td></tr></table>', 'filetype': 'application/pdf', 'languages':\n",
      "['kor', 'eng'], 'page_number': 12, 'file_directory': './data/complex_pdf', 'filename':\n",
      "'school_edu_guide.pdf', 'category': 'Table', 'origin_table': '순 대상 시기 형태 내용 1 교원 4월 연수 「공교육 정상화 촉진 및\n",
      "선행교육 규제에 관한 특별법」연수 2 학부모 3월 교육 「공교육 정상화 촉진 및 선행교육 규제에 관한 특별법」연수', 'family_tree': 'parent_table',\n",
      "'parent_id': 'NA', 'id': '399d502f-0f58-4f3d-b4b7-8bc6a2da7c6b'}\n",
      "\n",
      "-----------------------------------------------\n",
      "9. Category: CompositeElement, Chunk: 142 Characters\n",
      "-----------------------------------------------\n",
      "메키 R 6학년은 초등학교 마무리 및 중학교 적응을 T 위한 학교 자율과정 운영 학년말 6학년 - 4 - 2024학년도 학사 일정 ※ 겨울방학 중 석면교체 및 LED설치 공기\n",
      "확보(70일) 위해 여름방학 단축 및 겨울방학 70일 운영 1. 1학기 수업일수\n",
      "metadata:\n",
      " {'source': './data/complex_pdf/school_edu_guide.pdf', 'filetype': 'application/pdf', 'languages':\n",
      "['kor', 'eng'], 'last_modified': '2024-04-04T01:39:24', 'page_number': 6, 'file_directory':\n",
      "'./data/complex_pdf', 'filename': 'school_edu_guide.pdf', 'category': 'CompositeElement',\n",
      "'family_tree': 'child', 'parent_id': 'ec86eb71-849f-48e0-9509-1632c149a055', 'id':\n",
      "'fa8283fb-7e11-46ff-8e6d-1ed5991a7092'}\n",
      "\n",
      "-----------------------------------------------\n",
      "10. Category: CompositeElement, Chunk: 232 Characters\n",
      "-----------------------------------------------\n",
      "□ 학교폭력 관련 외부 상담기관: 117(학교폭력 신고·상담센터), 1388(청소년 상담), 상록초등학교 학교전담경찰관 □ 학교폭력 신고 및 갈등조정 관련 문의: 상록초등학교\n",
      "학교폭력전담기구((031-487-5743) □ 학교폭력 사안 심의 및 조치 불복 관련 문의: 안산교육지원청 학생지원센터(031-412-4555~4557) - 35 - 21 감염병\n",
      "예방 교육 보건교사 김○혜 1. 학교에서 자주 발생하는 감염병\n",
      "metadata:\n",
      " {'source': './data/complex_pdf/school_edu_guide.pdf', 'filetype': 'application/pdf', 'languages':\n",
      "['kor', 'eng'], 'last_modified': '2024-04-04T01:39:24', 'page_number': 37, 'file_directory':\n",
      "'./data/complex_pdf', 'filename': 'school_edu_guide.pdf', 'category': 'CompositeElement',\n",
      "'family_tree': 'child', 'parent_id': 'c5afb1f0-6c85-40a0-8d83-92d1d522e057', 'id':\n",
      "'922ccf66-cf8b-41d5-b365-f9cc4dafb769'}\n"
     ]
    }
   ],
   "source": [
    "query = \"중지된 경우 이체\"\n",
    "query = \"초등학교 교육 과정\"\n",
    "#query = \"vidio max size?\"\n",
    "\n",
    "response, contexts = qa.invoke(\n",
    "    query = query\n",
    ")\n",
    "\n",
    "show_context_used(contexts)"
   ]
  },
  {
   "cell_type": "code",
   "execution_count": 69,
   "id": "01e77dad-dc19-416b-80e7-19fac3b736a5",
   "metadata": {
    "tags": []
   },
   "outputs": [
    {
     "name": "stdout",
     "output_type": "stream",
     "text": [
      "##################################\n",
      "query:  초등학교 교육 과정\n",
      "##################################\n",
      "\u001b[34m\n",
      "\n",
      "### Answer ###\u001b[0m\n",
      "초등학교 교육 과정은 다음과 같은 내용을 포함하고 있습니다.\n",
      "\n",
      "1. 문화예술교육 강화: 예술강사 무용 수업, 1인 1악기(칼림바), 문화예술교실, 상록 문화예술의 날 행사 등을 통해 예술교육을 강화함.\n",
      "\n",
      "2. 스포츠클럽 활성화: 반별 스포츠클럽 조직 및 운영, 스포츠클럽데이 행사 등을 통해 체육활동을 장려함.\n",
      "\n",
      "3. 건강체력증진 프로그램: 줄넘기 급수제, 건강체력교실, 생존수영교육, 해양안전체험활동 등을 운영하여 학생들의 건강과 체력 향상을 도모함.\n",
      "\n",
      "4. 놀이중심 교육과정 운영: 놀이교실 확보, 블록타임 놀이시간 확보, 점심시간 자유놀이 시간 확보 등을 통해 학생들에게 휴식과 놀이 기회를 제공함.\n",
      "\n",
      "5. 생태환경교육: 숲체험교실, 탄소중립환경교육, 교과연계환경교육, 환경교육주간 운영 등을 통해 학생들의 환경의식을 기름.\n",
      "\n",
      "6. 인성교육: 인성교육실천주간, 학급별 인성교육, 친구사랑의 날 행사, 예절교실 운영 등을 통해 학생들의 인성을 함양함.\n",
      "\u001b[32m\n",
      "\n",
      "### Contexts ###\u001b[0m\n",
      "\n",
      "-----------------------------------------------\n",
      "1. Category: CompositeElement, Chunk: 699 Characters\n",
      "-----------------------------------------------\n",
      "‧ 창의적 체험활동의 영역별 활동내용, 평가방법 및 기준은 교육과정을 근 - 9 - □5 선행교육 예방 (공교육정상화법) 교사 우○주 ❍ 선행교육 -「초‧중등교육법」제23조제2항에\n",
      "따라 교육부장관이 정한 초․중등학교 교육과정(국가교육과정) 및 교육감이 정한 초․중등학교 교육과정(시․도교육과정), 「초‧중등교육법」제23조제1항에 근거하여 편성․운영되는 단위학교\n",
      "교육과정(학교 교육과정) 국가교육과정-시․도교육과정-학교 교육과정에 앞서서 편성 또는 제공하는 교육 일반 ❍ 선행학습 - 학습자가 국가교육과정, 시․도교육과정, 학교 교육과정에\n",
      "앞서서 하는 학습 1. 추진 근거 및 목적 L RIS 가. 근거 Ÿ 「공교육 정상화 촉진 및 선행교육 규제에 관한 특별법」(공교육정상화법) Ÿ 2024년 선행학습 유발 관행 근절\n",
      "사업 추진계획(교육부 기초학력진로교육과-379, 2024.1.31.) = [9 = < [aN] & - % 5 = 해 때 R 제 0 | 버 과 E 제 o 99 = = B 회 - 0\n",
      "0 80 MR Q0w 나. 목적 Ÿ 학교의 정상적인 교육과정 운영을 위한 여건 조성 및 공교육 정상화 실현 Ÿ 선행교육과 선행학습 유발 관행 근절을 위한 학생, 교원, 학부모 인식\n",
      "개선 연수 및 홍보 강화 0\" 3l om0 음미 Ÿ 교육과정 편성 운영 및 선행출제 점검·컨설팅을 통해 학생의 발달단계에 맞는 교육 실시 2. 추진 계획 가. 연수 추진 계획\n",
      "metadata:\n",
      " {'source': './data/complex_pdf/school_edu_guide.pdf', 'filetype': 'application/pdf', 'languages':\n",
      "['kor', 'eng'], 'last_modified': '2024-04-04T01:39:24', 'page_number': 11, 'file_directory':\n",
      "'./data/complex_pdf', 'filename': 'school_edu_guide.pdf', 'category': 'CompositeElement',\n",
      "'family_tree': 'parent', 'parent_id': None, 'id': '7d9d2ff0-d190-4356-bbbe-fbdbd44bfceb'}\n",
      "\n",
      "-----------------------------------------------\n",
      "2. Category: Image, Chunk: 219 Characters\n",
      "-----------------------------------------------\n"
     ]
    },
    {
     "data": {
      "image/png": "[encoded data removed]",
      "text/plain": [
       "<Figure size 640x480 with 1 Axes>"
      ]
     },
     "metadata": {},
     "output_type": "display_data"
    },
    {
     "name": "stdout",
     "output_type": "stream",
     "text": [
      "이 이미지는 학교 활동의 전반적인 과정을 설명하는 흐름도입니다. 왼쪽에서 시작하여 학교, 학교운영계획, 사업운영 등의 준비 단계를 거쳐 중앙의 학부모회, 사인회 등 학교 운영\n",
      "주체들이 관여하는 활동 과정을 보여줍니다. 마지막으로 학교 활동의 결과로 학교평가, 자체평가, 재정지원 등의 결과물이 산출되는 것을 나타내고 있습니다. 전체적으로 학교 운영의 전체\n",
      "흐름을 구조화하여 제시하고 있습니다.\n",
      "metadata:\n",
      " {'img_path': './fig/figure-37-88-resize.jpg', 'category': 'Image', 'image_base64': '',\n",
      "'family_tree': 'parent_image', 'parent_id': 'NA', 'id': '8f3a8a9d-d8bf-44e9-a61f-ea51c75f2553',\n",
      "'origin_image': ''}\n",
      "\n",
      "-----------------------------------------------\n",
      "3. Category: Table, Chunk: 531 Characters\n",
      "-----------------------------------------------\n",
      "이 표는 학교에서 운영하는 다양한 교육활동을 정리한 것입니다. 주요 내용은 다음과 같습니다.\n",
      "\n",
      "1. 문화예술교육의 강화: 아르떼 예술강사 무용 수업, 1인 1악기(칼림바), 문화예술교실(악기교실), 상록 문화예술의 날 행사 등을 통해 예술교육을 강화함.\n",
      "\n",
      "2. 학교 스포츠클럽 활성화: 반별 스포츠 클럽 조직 및 운영, 스포츠클럽데이 운영 등을 통해 학생들의 체육활동을 장려함.\n",
      "\n",
      "3. 건강, 체력 증진 프로그램: 줄넘기 급수제, 건강체력교실, 생존수영교육, 해양 안전 체험활동 등을 운영하여 학생들의 건강과 체력 향상을 도모함.\n",
      "\n",
      "4. 놀이와 쉼이 있는 교육과정 운영: 학년별 놀이교실 확보, 블록타임 놀이시간 확보, 점심시간 자유놀이 시간 확보 등을 통해 학생들에게 휴식과 놀이 기회를 제공함.\n",
      "\n",
      "5. 체험중심의 생태환경교육: 숲체험교실, 탄소중립 환경교육, 교과 연계 환경교육, 환경교육주간 운영 등을 통해 학생들의 환경의식을 기름.\n",
      "\n",
      "6. 학교 교재원 운영: 학교 교재원을 화단과 재배원, 수생식물원으로 운영하여 체험 학습의 기회를 제공함.\n",
      "metadata:\n",
      " {'source': './data/complex_pdf/school_edu_guide.pdf', 'detection_class_prob': 0.8882335424423218,\n",
      "'coordinates': {'points': [[165.31134033203125, 376.06396484375], [165.31134033203125,\n",
      "1968.8123779296875], [1504.1602783203125, 1968.8123779296875], [1504.1602783203125,\n",
      "376.06396484375]], 'system': 'PixelSpace', 'layout_width': 1653, 'layout_height': 2337},\n",
      "'last_modified': '2024-04-04T01:39:24', 'text_as_html': '<table><thead><th>0 \"0 Bl -</th><th>0 벤 ofr\n",
      "g</th><th>— K| I =</th><th>\" 드르 5</th><th>&lt; 과 W 따</th></thead><tr><td rowspan=\"3\">J 가 야 모 &lt;K\n",
      "NS &amp; A</td><td>31 가 — —~ | 하이 에 | %o oo 코마 _Hw 마 = 혹 훌 하 고 때 인 E_A/E%M__% M= =3 새 웅 혼 명 을. 오하 고\n",
      "매 허 름 으 흥 U g o __r_ﬁ 0 능 맺 종 b</td><td>Ko Ko Ko @ n Bl BBl T</td><td>g B B | 하인 인한 강우 우우 근 곤 곤\n",
      "고</td><td>oW OB o 도트 마 마 마마 녁 녁 녁 더</td></tr><tr><td></td><td>8o oH = I 허 빗 =0 K o o7 1 B0 AME S Eu®\n",
      "흐 m.__A_H - NP o 밥 더 oy or 펫 태 여 파싱 도</td><td>110 0 n B =</td><td>끼 4 한 © 내</td><td>끄 내 .\n",
      ")</td></tr><tr><td></td><td>90 oH 0 더 T Hl Tz o R 할 푸 힙 A% = 10 a:x_.u_:Mew_mﬂI. (내 Fmlldm | e T wrE\n",
      "s 닌 99 60 0 50 80 | , 벤 정 정 힌 후 도 o o</td><td>o Ko Ko 3 그 T 0 BIBIB S 6</td><td>it Bt 낄 | 낄 4 한 한알 한\n",
      "고 oL L w 은근 G</td><td>내 . )</td></tr><tr><td rowspan=\"3\">얘 히 덕 Qo - 덕 』 은 Ko 7o N O 5 B o = T E g\n",
      "=</td><td>by 께 = =&lt; B0 =) o Ao I, 0 ol =r 께 g . 때 떼 R0 N = &lt; £ 멜 러 즈 H_ o wwmIsm 걸 혹 셜 홀로 _ -\n",
      "\"3 maw%mé o 오 에 여 페오 허고 I ntey KT &lt; O T 힌 9 m o o o o</td><td>Ko 5</td><td>한 © o</td><td>RO = or\n",
      "o</td></tr><tr><td></td><td>_ =3 =3 u o | aefm ol OH 규 80 hlﬂ_www_a 고 | 했 더 농부 S T | Fwmwdr EAFR =\n",
      "ko B o o o o</td><td>해 S S Ko Ko 0 =i 이 이 6 &lt;</td><td>골 꺼 끼 꺼 T80 R</td><td>@ 쁜 마\n",
      "녁</td></tr><tr><td></td><td>80 D 고 = g 이기 FERT MR 머 메 더) 레그 g T o o 8 가 B o o o</td><td>Ko</td><td>2\n",
      "3 R</td><td>께 쁜 마 녁</td></tr></table>', 'filetype': 'application/pdf', 'languages': ['kor', 'eng'],\n",
      "'page_number': 5, 'file_directory': './data/complex_pdf', 'filename': 'school_edu_guide.pdf',\n",
      "'category': 'Table', 'origin_table': '구현중점 교육활동 시기 대상 관련부서 211. 문화예술교육의 강화 ◦아르떼 예술강사 무용 수업 ◦1인\n",
      "1악기(칼림바) ◦문화예술교실(악기교실) ◦상록 문화예술의 날 연중 연중 연중 11월 1~4학년 1~6학년 1~6학년 1~6학년 교무기획 교무기획 교무기획 교무기획 21. 감성이\n",
      "자라는 예술교육 212. 학교 스포츠클럽의 활성화 ◦반별 학교 스포츠 클럽 조직 및 운영 ◦스포츠클럽데이 운영 연중 11월 2~6학년 5학년부 213. 건강, 체력 증진 프로그램\n",
      "운영 ◦줄넘기 급수제 실시 연중 1-6학년 ◦건강체력교실 운영 ◦건강365교실 연중 연중 1-6학년 5-6학년 5학년부 ◦학생 생존수영 교육 ◦해양 안전 체험 활동 5-6월 3월\n",
      "3-4학년 6학년 214. 놀이와 쉽이 있는 교육과정 운영 22. ◦학년별 놀이교실 확보 놀이와 ◦매주 수요일 1,2교시 블록타임-놀이시간확보 연중 1-6학년 교육과정 쉼이 있는\n",
      "교육 ◦학년별 놀이교실에 놀잇감 확보 ◦점심식사 후 자유놀이 시간 확보 231. 생태전환교육 ◦숲체험 교실 운영 ◦탄소중립 환경교육 실시 ◦교과 연계 환경교육 실시 ◦환경교육주간\n",
      "운영 4월,10월 연중 연중 6월 1-4학년 1-6학년 1-6학년 1-6학년 교무기획 23. 체험중심의 생태환경교육 232. 학교 교재원 운영 ◦학교 교재원화 ◦재배원 관리\n",
      "◦수생식물원 관리 연중 전교생 교무기획', 'family_tree': 'parent_table', 'parent_id': 'NA', 'id': '720cd8fa-\n",
      "ba7e-442a-aab6-5849faa6a67a'}\n",
      "\n",
      "-----------------------------------------------\n",
      "4. Category: CompositeElement, Chunk: 461 Characters\n",
      "-----------------------------------------------\n",
      "나. 세부계획 Ÿ 교과별·학년별 교육과정과 평가 내용 일치 실천 w20 oG ) 23 된 ST -3 M Ao Ÿ 선행교육 사전 예방을 위한 출제관리 및 자율점검 (학기별 1회) g\n",
      "Ÿ 교원, 학부모 대상 선행교육 예방 관련 연수 및 홍보(연 1회) 다. 교육공동체의 책무 제5조(학교의 장의 책무) ② 학교의 장은 해당 학교에서 선행교육을 실시하지 아니하도록\n",
      "지도・감독하여야 한다. ③ 학교의 장은 학부모・학생・교원에게 선행교육 및 선행학습을 예방하기 위한 교육을 정기적으로 실시하여야 한다. ④ 학교의 장은 제3항의 내용을 포함한\n",
      "선행교육 및 선행학습 예방에 관한 계획을 수립・시행하여 야 한다. 제5조의 2(교원의 책무) 교원은 학생의 학습권 보호를 위하여 학생의 선행학습을 전제로 수업을 하 여서는 아니\n",
      "된다. - 10 - □6 학생 안전 교육 교사 김○희 □ 교육부 안전교육 7대 영역 표준안(나.침.반 안전교육실시)\n",
      "metadata:\n",
      " {'source': './data/complex_pdf/school_edu_guide.pdf', 'filetype': 'application/pdf', 'languages':\n",
      "['kor', 'eng'], 'last_modified': '2024-04-04T01:39:24', 'page_number': 12, 'file_directory':\n",
      "'./data/complex_pdf', 'filename': 'school_edu_guide.pdf', 'category': 'CompositeElement',\n",
      "'family_tree': 'child', 'parent_id': '0cd4f61e-badb-48e8-a4a6-bd92e6db3c3c', 'id':\n",
      "'153e0b02-e873-4893-9faf-f547363d760c'}\n",
      "\n",
      "-----------------------------------------------\n",
      "5. Category: Table, Chunk: 250 Characters\n",
      "-----------------------------------------------\n",
      "이 표는 초등학생을 대상으로 한 방과후학교 프로그램 내용을 보여줍니다. 프로그램별로 수업 시간, 대상 학년, 정원, 수업 횟수, 분기별 수강료 등의 정보를 제공합니다. 가야금,\n",
      "노래, 독서토론, 뜨개질, 로봇과학, 미술, 방송댄스, 영어, 예쁜글씨, 창의과학, 축구, 컴퓨터, 영재큐브, 클레이아트, 바둑, 한자 등 다양한 프로그램이 있습니다. 일부\n",
      "프로그램에는 재료비나 교재비가 별도로 부과됩니다. 수업 장소도 각 프로그램별로 지정되어 있습니다.\n",
      "metadata:\n",
      " {'source': './data/complex_pdf/school_edu_guide.pdf', 'detection_class_prob': 0.9259703159332275,\n",
      "'coordinates': {'points': [[186.4056396484375, 689.3862915039062], [186.4056396484375,\n",
      "2113.361328125], [1467.9617919921875, 2113.361328125], [1467.9617919921875, 689.3862915039062]],\n",
      "'system': 'PixelSpace', 'layout_width': 1653, 'layout_height': 2337}, 'last_modified':\n",
      "'2024-04-04T01:39:24', 'text_as_html': '<table><thead><th colspan=\"2\">프 로 그 램 명 ]</th><th\n",
      "colspan=\"2\">수업 일시 일시</th><th>학년</th><th rowspan=\"2\">정원 1 0 명</th><th rowspan=\"2\">수 업 횟수</th><th>분 기\n",
      "별 (3 개 월) 수강료</th><th rowspan=\"2\">스어 자소 수업 장소 - 1%</th></thead><tr><td rowspan=\"2\"></td><td></td><td\n",
      "rowspan=\"2\">수</td><td>1:00~2:10</td><td>1 학 년</td><td></td><td></td><td rowspan=\"2\">73,500 원 = ( 가 야\n",
      "금 은 학 교 에 비치)</td><td></td></tr><tr><td></td><td>가야금</td><td></td><td>: 2:10~3:20</td><td>2~-6 학 년\n",
      "=&lt;</td><td>100 3</td><td>|</td><td></td><td>예 절 준 비 실</td></tr><tr><td colspan=\"2\" rowspan=\"2\">노\n",
      "래 보컬</td><td></td><td>1:50~3:00</td><td>1~2 학 년</td><td>20 명</td><td></td><td></td><td rowspan=\"2\">4\n",
      "층 방과후 24</td></tr><tr><td colspan=\"2\"></td><td>글</td><td>3:10~4:20</td><td>3~-6 학 년 —</td><td>20\n",
      "명</td><td>12 회</td><td>81,840 원</td><td></td></tr><tr><td>독 독</td><td>서 토론 서 토론</td><td>-</td><td\n",
      "rowspan=\"3\">- 1:50~3:00 3:10~4:20 1:50~3:00</td><td>1~2 학 년</td><td>25 명</td><td>12 회</td><td>이\n",
      ");820 원</td><td>4 층</td></tr><tr><td></td><td>논술</td><td>-</td><td></td><td>3~-6 학 년 놀리</td><td>255\n",
      "더</td><td></td><td>( 자 체 제작 교 재 포함)</td><td rowspan=\"2\">방과후 2 실 3%</td></tr><tr><td colspan=\"2\"\n",
      "rowspan=\"2\">- 뜨개질 &amp; 바느질</td><td colspan=\"2\"></td><td>o</td><td></td><td>1~3 학 년</td><td>25\n",
      "명</td><td>122</td><td>78,720 7204</td><td></td></tr><tr><td>=</td><td>3:10~4:20</td><td>4~6 학 년\n",
      "느티</td><td>250 i</td><td></td><td>재료비: 39,0009</td><td>방과후 1 실</td></tr><tr><td\n",
      "rowspan=\"2\">로</td><td rowspan=\"2\">봇 과학</td><td></td><td>o0z :00~2:10</td><td>~ 1~2 학 년</td><td>25\n",
      "명</td><td></td><td>68,200 원 =</td><td rowspan=\"2\">- 3% 방과후 1\n",
      "실</td></tr><tr><td></td><td></td><td>수</td><td>2:40~3:50</td><td>3~6 학 년 각 년</td><td>25 명</td><td>10\n",
      "회</td><td>재료비: 85,000 원</td><td></td></tr><tr><td colspan=\"2\" rowspan=\"3\">미술</td><td></td><td\n",
      "rowspan=\"4\">B 2o 3:10~4:20 1:00~2:10</td><td>1~2 학 년</td><td>25%</td><td rowspan=\"3\">122l</td><td\n",
      "rowspan=\"3\">78,7209 = 재료비: 21,0009</td><td>15</td></tr><tr><td\n",
      "colspan=\"2\"></td><td>목</td><td></td><td>3~46 학 년</td><td></td><td></td><td></td><td>2 과 학\n",
      "실</td></tr><tr><td colspan=\"2\"></td><td></td><td></td><td>학년</td><td>250\n",
      "3</td><td></td><td></td><td></td></tr><tr><td></td><td colspan=\"2\" rowspan=\"2\">송 댄스\n",
      "월</td><td></td><td>1~2 학 년</td><td>25 명</td><td>12</td><td>75,0209</td><td rowspan=\"3\">아즈 1 절\n",
      "실</td><td></td></tr><tr><td colspan=\"2\" rowspan=\"2\">방 어 (기초)</td><td colspan=\"2\"></td><td\n",
      "colspan=\"2\"></td><td>2:40~3:50</td><td>3~46 학 년</td><td>25 명</td><td rowspan=\"5\">o\n",
      "362l</td><td></td><td></td><td></td></tr><tr><td>화 금</td><td>1:50~2:30</td><td>1~2 학 년 -\n",
      "느</td><td>25 명</td><td></td></tr><tr><td>영</td><td></td><td>, 목\n",
      ",</td><td></td><td></td><td></td><td></td><td>132,120 원</td><td rowspan=\"8\">할일. ( 세 이 프 존 )\n",
      "층</td></tr><tr><td>영</td><td>어 (초급) 브</td><td>화 , 목 , 금 +, 목 , 금</td><td>:9048\n",
      "2:30~3:10</td><td>1m0</td><td>250</td><td rowspan=\"7\">36 회 3621 36 회 회</td><td></td><td></td><td></t\n",
      "d></tr><tr><td></td><td></td><td></td><td></td><td>테스트</td><td></td><td></td><td></td><td>교재비:</td><\n",
      "td></td></tr><tr><td colspan=\"2\" rowspan=\"5\">영 어 (중급) 영 어 (고급) 예 쁜 글씨</td><td>화 , 목 ,\n",
      "금</td><td>3:10~3:50</td><td>(레벨 후</td><td>25 명</td><td></td><td></td><td></td></tr><tr><td\n",
      "colspan=\"2\"></td><td></td><td></td><td>결정)</td><td></td><td></td><td>15,000~19,440\n",
      "원</td><td></td></tr><tr><td colspan=\"2\"></td><td>화 , 목 , 금</td><td>3:50~4:30</td><td></td><td>25\n",
      "명</td><td></td><td></td><td></td></tr><tr><td colspan=\"2\" rowspan=\"3\">캘리 2</td><td\n",
      "colspan=\"2\"></td><td colspan=\"2\"></td><td rowspan=\"4\">. 수</td><td></td><td>1:00~2:10</td><td>1~2 학 년\n",
      "2</td><td rowspan=\"4\">25 명 25 명 3 25 명</td><td></td><td></td><td></td><td></td></tr><tr><td\n",
      "colspan=\"2\"></td><td></td><td></td><td></td><td>65,6009 =</td><td></td></tr><tr><td\n",
      "colspan=\"2\"></td><td></td><td>2:20~3:30</td><td>3~6 학 년 —</td><td></td><td>10</td><td>재료비:\n",
      "21,0009</td><td>2 과 학 실</td></tr><tr><td colspan=\"2\" rowspan=\"3\">창 의 과학</td><td></td><td>7\n",
      "1507300</td><td>et</td><td></td><td rowspan=\"3\">12 회</td><td>78,720 원 =</td><td rowspan=\"2\">33 1\n",
      "실</td></tr><tr><td colspan=\"2\"></td><td>목</td><td>3:10~4:20</td><td>3~6 학\n",
      "년</td><td>250</td><td></td><td>&gt; 재료비:</td><td rowspan=\"3\">방과', 'filetype': 'application/pdf',\n",
      "'languages': ['kor', 'eng'], 'page_number': 20, 'file_directory': './data/complex_pdf', 'filename':\n",
      "'school_edu_guide.pdf', 'category': 'Table', 'origin_table': '프로그램명 수업 일시 학년 정원 수업횟수 분기별(3개월) 수강료\n",
      "가야금 수 1:00~2:10 2:10~3:20 1학년 2~6학년 10명 10명 10회 73,500원 (가야금은 학교에 비치) 노래보컬 금 1:50~3:00 3:10~4:20\n",
      "1~2학년 3~6학년 20명 20명 12회 81,840원 독서토론 논술 목 1:50~3:00 3:10~4:20 1~2학년 3~6학년 25명 25명 12회 91,320원 (자체제작\n",
      "교재포함) 뜨개질 & 바느질 금 1:50~3:00 3:10~4:20 1~3학년 4~6학년 25명 25명 12회 78,720원 재료비: 39,000원 로봇과학 수 1:00~2:10\n",
      "2:40~3:50 1~2학년 3~6학년 25명 25명 10회 68,200원 재료비: 85,000원 미술 목 1:50~3:00 3:10~4:20 1~2학년 3~6학년 25명 25명\n",
      "12회 78,720원 재료비: 21,000원 방송댄스 월 1:00~2:10 2:40~3:50 1~2학년 3~6학년 25명 25명 11회 75,020원 영어(기초) 영어(초급)\n",
      "영어(중급) 영어(고급) 화,목,금 화,목,금 화,목,금 화,목,금 1:50~2:30 2:30~3:10 3:10~3:50 3:50~4:30 1~2학년 1~6학년 (레벨 테스트 후\n",
      "결정) 25명 25명 25명 25명 36회 36회 36회 36회 132,120원 교재비: 15,000~19,440원 예쁜글씨 캘리 수 1:00~2:10 2:20~3:30 1~2학년\n",
      "3~6학년 25명 25명 10회 65,600원 재료비: 21,000원 창의과학 목 1:50~3:00 3:10~4:20 1~2학년 3~6학년 25명 25명 12회 78,720원\n",
      "재료비: 56,000원 축구 수 1:00~2:10 2:20~3:30 1~2학년 3~6학년 25명 25명 10회 68,200원 컴 퓨 터 A 컴 퓨 터 B 컴퓨터 기초 OA 마스터\n",
      "스팩 자격증 코딩 (기초) 코딩 (게임) 월,수 월,수 월,수 금 금 12:50~1:40 1:50~2:40 2:50~3:40 1:50~2:40 2:50~3:40 1학년 3~4학년\n",
      "3~6학년 1~2학년 3~6학년 25명 25명 25명 25명 25명 21회 21회 21회 12회 78,540원 교재비: 10,000~18,000원 (자격증반 응시료 별도)\n",
      "67,320원 교재비: 10,000~12,000원 영재큐브 화 1:50~3:00 3:10~4:20 1~2학년 3~6학년 20명 20명 12회 78,720원 재료비(교구포함):\n",
      "50,000~70,000원 클레이아트 화 1:50~3:00 3:10~4:20 1~2학년 3~6학년 25명 25명 12회 78,720원 재료비: 48,000원 바둑 화\n",
      "1:50~3:00 3:10~4:20 1~2학년 3~6학년 25명 25명 12회 78,720원 교재비: 13,000원 한자 월 1:00~2:10 2:40~3:50 1~2학년\n",
      "3~6학년 25명 25명 30회 무료 1기 신청자 3기까지 수강 기간: 4.8~11.25. 수업 장소 1층 예절준비실 4층 방과후 2실 4층 방과후 2실 3층 방과후 1실 3층\n",
      "방과후 1실 1층 2과학실 1층 예절실 신관 2층 영어실Ⅰ (세이프존) 1층 2과학실 3층 방과후 1실 운동장 3층 컴퓨터실 4층 방과후 2실 3층 방과후 1실 4층 수업녹화교실\n",
      "3층 방과후 1실', 'family_tree': 'parent_table', 'parent_id': 'NA', 'id':\n",
      "'bb2b9ae1-3537-46d2-8466-1ed7b5214327'}\n",
      "\n",
      "-----------------------------------------------\n",
      "6. Category: Table, Chunk: 184 Characters\n",
      "-----------------------------------------------\n",
      "이 표는 학교에서 학생들의 인성 및 시민의식 교육을 위해 실시하는 다양한 교육활동을 안내하고 있습니다. 교실 환경 구성, 학생 자치 활동, 인권/평화 교육, 체험 인성교육,\n",
      "학교폭력 예방교육 등의 활동이 연중 계획되어 있습니다. 각 활동의 시기, 대상, 관련 부서 등의 정보를 제공하여 체계적인 교육활동 계획을 보여주고 있습니다.\n",
      "metadata:\n",
      " {'source': './data/complex_pdf/school_edu_guide.pdf', 'detection_class_prob': 0.8744701147079468,\n",
      "'coordinates': {'points': [[201.83421325683594, 379.5096740722656], [201.83421325683594,\n",
      "1965.944091796875], [1483.7281494140625, 1965.944091796875], [1483.7281494140625,\n",
      "379.5096740722656]], 'system': 'PixelSpace', 'layout_width': 1653, 'layout_height': 2337},\n",
      "'last_modified': '2024-04-04T01:39:24', 'text_as_html': '<table><thead><th>R 10 K % +</th><th>_.__o\n",
      "고 ol R</th><th>— N S T</th><th>o .uAﬂo x|</th><th>&lt; 가 Mh 2</th></thead><tr><td rowspan=\"3\">&amp;\n",
      "w &amp; o A : -</td><td>&lt;+ K % = | K o | RO 기 N h Yo L R RO R 보일 9 은 o D 10 위 oo [ 루 귀 오이 . L o\n",
      "HES -</td><td>” of o g Ko o5 올 륭 빌</td><td>T 홈 홈 홈 우우우 &lt; - ㅠ</td><td>규 | ml i 이 o\n",
      "20</td></tr><tr><td></td><td>TR i} o s 히포. B 께 원 =~ gD T g2 으라 R X0z OF RSaRo 매 무 메 덤 하아 BT 뱀 80 애 회\n",
      "o S me_mm%usvm 물 디 이 보 한 O 고 B -</td><td>은 호 = o Ko g pEsm Bl</td><td>R— FH MO 뿔 파 프 프 1 o oI\n",
      "ol</td><td>0 m 삐삐 RO 6664 ™ Bl B 해 야 20 20 20 I3 50 더</td></tr><tr><td></td><td>o Okl 0 oF Hh Ho ® R\n",
      "WX K 끼 ㄷ o| 늘 o 일 우울 세 | o ㅠㅠ 너 gy’ &lt;y 밸 허 어이 S @ | B B 렬 호 모호 momou| T ROR - O O ©o\n",
      "는</td><td>110 8</td><td>= | A &amp;</td><td>0 or |</td></tr><tr><td>N</td><td>0 &lt; 합지 합지 0 5 of 80\n",
      "o o0 o 비 핸 허 Moy ㅇㅇ mmwm Trw 새해 grA A : 딘 둔 홍 ﬂooo o</td><td>T o &amp; 연 00 B 인 00 &amp; A% i 51\n",
      "7</td><td>T T ey 은 소오 00 ㅎㅎ 이</td><td>| °- 2 2 %0</td></tr><tr><td rowspan=\"3\">2 1wl T 보메 T an \"고프\"\n",
      "은 E R o THED .|.__.|_“_$=NL</td><td>or o 덕 o — ol 3 전 년 R 옮기 80 애 시 i mn R B O o ® | 애 는 바 o doror°\n",
      "mE e ol EE 이 룰 인 운 으 | 어 닝 mV_OOOO</td><td>이. 00 40000 mEEE</td><td>끼 4 S &lt; —</td><td>T iy 2 해\n",
      "%0</td></tr><tr><td></td><td>o o 3 &amp; G R | 300\" O gREND oz i [해 사 있 으 wﬂﬂma%m__ S 즐 지 유 인 종 대세 울\n",
      ": 아 개 BOOOO</td><td>0000 ol mE-s| %38</td><td>&amp; mvoﬁ ! 때</td><td>B = g o\n",
      "B</td></tr><tr><td></td><td>80 y » o i Kk 비 얘 더 앰 9 격 o oM g 배 고니 5 인 에 s ㅠ 30 90 이 을 E | 뿔 헤 을 지그\n",
      "2wl a i # 엄 알홈 분 j 4@ 90 하 nu._wuvaOn_vl ]</td><td>K o a8 L85 B T ol</td><td>REEE 3 %% J||_666 R\n",
      "—</td><td>2 : £ 20</td></tr></table>', 'filetype': 'application/pdf', 'languages': ['kor', 'eng'],\n",
      "'page_number': 4, 'file_directory': './data/complex_pdf', 'filename': 'school_edu_guide.pdf',\n",
      "'category': 'Table', 'origin_table': '구현중점 교육활동 시기 대상 관련부서 111. 학교 교육 환경개선 ◦교실 학습 환경 구성 ◦학년 및 학급 규칙\n",
      "제정 및 준수 ◦인권 친화적 학생 생활인권규정 제정 준수 3월,9월 3월 연중 4~6학년 1~6학년 1~6학년 생활인권 공동체 112. 학교교육 참여기회 확대 ◦학교 운영위원회\n",
      "활성화 ◦학교 교육 설명회 ◦학부모 학교교육 참여기회 확대 ◦수업 공개의 날 운영 연중10회 2회 연중 5월 학운위 학부모 학부모 학부모 생활인권 생활인권 생활인권 교육과정\n",
      "113. 전문적 학습공동체 조직 운영 ◦학년별 협의회 구성 ◦자율과정과 연계되는 학습공동체 운영 ◦자율적인 참여로 집단지성 발휘 연중 전교사 교육과정 12. 121. 학생 자치\n",
      "활동 능력 신장 ◦전교 어린이회 임원 선출 ◦전교 어린이회 운영 ◦학급임원선출 7월,12월 연중 3월,8월 3~6학년 1~6학년 2~6학년 생활인권 하나되는 세계시민 교육 122.\n",
      "인권교육 및 평화 교육 ◦평화교육(민주시민교육) ◦인권교육주간 운영 ◦장애학생 이해교육 ◦다문화 이해교육 실시 연중 연중 연중 연중 1~6학년 생활인권 131. 체험위주의 인성교육\n",
      "◦인성교육 실천주간 ◦학급별 특색있는 인성교육 ◦친구사랑의 날 ◦예절교실 운영 연중 연중 4,11월 연중 1~6학년 생활인권 13. 나눔, 배려, 함께하는 인성교육 132.\n",
      "학교폭력 예방교육 ◦교외 생활 지도 ◦학교폭력예방 프로그램 운영 ◦방학 전 생활안전교육주간 운영 ◦위클래스(상담실) 운영 방학중 연중 학기말 연중 전교사 1~6학년 1~6학년\n",
      "1~6학년 생활인권', 'family_tree': 'parent_table', 'parent_id': 'NA', 'id':\n",
      "'aaf60d3c-29b7-4178-bfbf-c3c45bb5ba2a'}\n",
      "\n",
      "-----------------------------------------------\n",
      "7. Category: CompositeElement, Chunk: 723 Characters\n",
      "-----------------------------------------------\n",
      ".aﬁxnxﬁﬁo&ﬂooooooo_oﬂoo._Aoooo 라. 경기도 학생인권옹호관 : 경기도 학생인권 조례에 따라 학교에서 발생하는 인권 침해에 대한 상담 및 구제를 위해 마련된\n",
      "제도 학생인권문제의 상담과 도움 학생인권 보장의 시작: 학생인권과 관련하여 궁금한 것이 있으면 언제든지 물어볼 수 있음 학생인권문제에 대해서는 학생과 학부모, 선생님 모두 이용\n",
      "가능 2. 학생의 권리 차별 받지 않을 권리, 폭력 및 위험으로부터의 자유 교육에 과한 권리(학습에 관한 권리, 정규교과 이외의 교육활동의 권리, 휴식을 취할 권리) 사생활의\n",
      "비밀과 자유를 보장 받을 권리(사생활의 자유, 비밀의 보호받을 권리, 정보에 관한 권리) 양심, 종교의 자유에 따른 의사표현의 자유 자치 및 참여의 권리(자치활동의 권리, 학칙 등\n",
      "학교규정의 재․개정에 참여할 권리, 정책 결정의 권리) 복지에 과한 권리(교육환경에 대한 권리, 문화활동을 향유할 권리, 급식 및 건강에 관한 권리) 3. 학생의 의무 학교 규칙을\n",
      "준수해야 하는 의무 조례를 악용하여 교사의 교육, 연구 활동을 방해하거나 학내 질서를 문란하게 해서는 안 됨 4. 경기도 학생인권조례 기본정신 준수 학생 인권이 교육과정에서 실현될\n",
      "수 있도록 지향 학생 인권과 교사 교권의 상호존중 및 배려 학생의 존엄과 가치 및 자유와 권리 보장 인권교육: 교육과정 내 교과 관련 인권교육 및 학기 당 2시간 이상 운영(연간\n",
      "4시간) 5. 상록초등학교 학교생활인권규정\n",
      "metadata:\n",
      " {'source': './data/complex_pdf/school_edu_guide.pdf', 'filetype': 'application/pdf', 'languages':\n",
      "['kor', 'eng'], 'last_modified': '2024-04-04T01:39:24', 'page_number': 17, 'file_directory':\n",
      "'./data/complex_pdf', 'filename': 'school_edu_guide.pdf', 'category': 'CompositeElement',\n",
      "'family_tree': 'child', 'parent_id': 'f2a56596-57b7-4509-af44-df97013a4da8', 'id': '846fe2ea-\n",
      "bba1-4fe1-b1ba-dedffda8e583'}\n",
      "\n",
      "-----------------------------------------------\n",
      "8. Category: Table, Chunk: 114 Characters\n",
      "-----------------------------------------------\n",
      "표에는 공교육 정상화 촉진 및 선행교육 규제 특별법과 관련하여 교원과 학부모를 대상으로 실시되는 연수와 교육의 내용이 기술되어 있습니다. 교원 대상 연수는 4월에 열리고, 학부모\n",
      "교육은 3월에 실시됩니다.\n",
      "metadata:\n",
      " {'source': './data/complex_pdf/school_edu_guide.pdf', 'detection_class_prob': 0.81902676820755,\n",
      "'coordinates': {'points': [[176.40438842773438, 1221.6395263671875], [176.40438842773438,\n",
      "1415.4593505859375], [1382.06640625, 1415.4593505859375], [1382.06640625, 1221.6395263671875]],\n",
      "'system': 'PixelSpace', 'layout_width': 1653, 'layout_height': 2337}, 'last_modified':\n",
      "'2024-04-04T01:39:24', 'text_as_html': '<table><thead><th>H|</th><th>20 급</th><th>N | &lt;</th><th>@\n",
      "30|</th><th>ol 주</th></thead><tr><td>— |</td><td>| o | 녀</td><td>o &lt;</td><td>| 가 81 |</td><td>가\n",
      "8l 3 피 ur ol | 흐 ㅣ | or | 드 랩 ! | oK | 일 세 &lt;0 %0 ofr | H MO 2</td></tr><tr><td>이</td><td>w__._. |\n",
      "공 or</td><td>| 레 m</td><td>| o 더</td><td>| 가 | 81 | 51 | 패 | wr | o) BB &amp; X E 얘 볼 트 ! = oK | = |\n",
      "i o6 | &lt;0 | 0 얘 | o | MO | ㅁ</td></tr></table>', 'filetype': 'application/pdf', 'languages':\n",
      "['kor', 'eng'], 'page_number': 12, 'file_directory': './data/complex_pdf', 'filename':\n",
      "'school_edu_guide.pdf', 'category': 'Table', 'origin_table': '순 대상 시기 형태 내용 1 교원 4월 연수 「공교육 정상화 촉진 및\n",
      "선행교육 규제에 관한 특별법」연수 2 학부모 3월 교육 「공교육 정상화 촉진 및 선행교육 규제에 관한 특별법」연수', 'family_tree': 'parent_table',\n",
      "'parent_id': 'NA', 'id': '399d502f-0f58-4f3d-b4b7-8bc6a2da7c6b'}\n",
      "\n",
      "-----------------------------------------------\n",
      "9. Category: CompositeElement, Chunk: 142 Characters\n",
      "-----------------------------------------------\n",
      "메키 R 6학년은 초등학교 마무리 및 중학교 적응을 T 위한 학교 자율과정 운영 학년말 6학년 - 4 - 2024학년도 학사 일정 ※ 겨울방학 중 석면교체 및 LED설치 공기\n",
      "확보(70일) 위해 여름방학 단축 및 겨울방학 70일 운영 1. 1학기 수업일수\n",
      "metadata:\n",
      " {'source': './data/complex_pdf/school_edu_guide.pdf', 'filetype': 'application/pdf', 'languages':\n",
      "['kor', 'eng'], 'last_modified': '2024-04-04T01:39:24', 'page_number': 6, 'file_directory':\n",
      "'./data/complex_pdf', 'filename': 'school_edu_guide.pdf', 'category': 'CompositeElement',\n",
      "'family_tree': 'child', 'parent_id': 'ec86eb71-849f-48e0-9509-1632c149a055', 'id':\n",
      "'fa8283fb-7e11-46ff-8e6d-1ed5991a7092'}\n",
      "\n",
      "-----------------------------------------------\n",
      "10. Category: CompositeElement, Chunk: 232 Characters\n",
      "-----------------------------------------------\n",
      "□ 학교폭력 관련 외부 상담기관: 117(학교폭력 신고·상담센터), 1388(청소년 상담), 상록초등학교 학교전담경찰관 □ 학교폭력 신고 및 갈등조정 관련 문의: 상록초등학교\n",
      "학교폭력전담기구((031-487-5743) □ 학교폭력 사안 심의 및 조치 불복 관련 문의: 안산교육지원청 학생지원센터(031-412-4555~4557) - 35 - 21 감염병\n",
      "예방 교육 보건교사 김○혜 1. 학교에서 자주 발생하는 감염병\n",
      "metadata:\n",
      " {'source': './data/complex_pdf/school_edu_guide.pdf', 'filetype': 'application/pdf', 'languages':\n",
      "['kor', 'eng'], 'last_modified': '2024-04-04T01:39:24', 'page_number': 37, 'file_directory':\n",
      "'./data/complex_pdf', 'filename': 'school_edu_guide.pdf', 'category': 'CompositeElement',\n",
      "'family_tree': 'child', 'parent_id': 'c5afb1f0-6c85-40a0-8d83-92d1d522e057', 'id':\n",
      "'922ccf66-cf8b-41d5-b365-f9cc4dafb769'}\n"
     ]
    }
   ],
   "source": [
    "print(\"##################################\")\n",
    "print(\"query: \", query)\n",
    "print(\"##################################\")\n",
    "\n",
    "print (colored(\"\\n\\n### Answer ###\", \"blue\"))\n",
    "print_ww(response)\n",
    "\n",
    "print (colored(\"\\n\\n### Contexts ###\", \"green\"))\n",
    "show_context_used(contexts)"
   ]
  },
  {
   "cell_type": "code",
   "execution_count": null,
   "id": "04f0a647-b2ef-482e-9ecd-625d40f51b20",
   "metadata": {},
   "outputs": [],
   "source": []
  },
  {
   "cell_type": "code",
   "execution_count": null,
   "id": "743e290e-3809-49dc-bb26-74ee9cb79879",
   "metadata": {},
   "outputs": [],
   "source": []
  }
 ],
 "metadata": {
  "kernelspec": {
   "display_name": "conda_python3",
   "language": "python",
   "name": "conda_python3"
  },
  "language_info": {
   "codemirror_mode": {
    "name": "ipython",
    "version": 3
   },
   "file_extension": ".py",
   "mimetype": "text/x-python",
   "name": "python",
   "nbconvert_exporter": "python",
   "pygments_lexer": "ipython3",
   "version": "3.10.13"
  }
 },
 "nbformat": 4,
 "nbformat_minor": 5
}
