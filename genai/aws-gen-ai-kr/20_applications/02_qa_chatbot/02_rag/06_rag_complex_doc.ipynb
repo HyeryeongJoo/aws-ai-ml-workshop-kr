{
 "cells": [
  {
   "cell_type": "markdown",
   "id": "5deb2df2-413d-49bd-a829-3a1fc344937e",
   "metadata": {},
   "source": [
    "# RAG over complex Documents\n"
   ]
  },
  {
   "cell_type": "markdown",
   "id": "b1f81abc-3277-4a6b-9ef1-d4f997d67fbe",
   "metadata": {},
   "source": [
    "## Setting\n",
    " - Auto Reload\n",
    " - path for utils"
   ]
  },
  {
   "cell_type": "code",
   "execution_count": 1,
   "id": "ddde4105-b759-4d6c-8214-8e1ab485ae48",
   "metadata": {
    "tags": []
   },
   "outputs": [],
   "source": [
    "%load_ext autoreload\n",
    "%autoreload 2"
   ]
  },
  {
   "cell_type": "code",
   "execution_count": 2,
   "id": "57c2cdb1-d785-4317-afce-938f13141085",
   "metadata": {
    "tags": []
   },
   "outputs": [],
   "source": [
    "import sys, os\n",
    "module_path = \"../../..\"\n",
    "sys.path.append(os.path.abspath(module_path))"
   ]
  },
  {
   "cell_type": "markdown",
   "id": "1e913b68-f9ed-4da7-bc49-4db57f456c91",
   "metadata": {},
   "source": [
    "## 1. Creatr Bedrock client"
   ]
  },
  {
   "cell_type": "code",
   "execution_count": 3,
   "id": "424492cf-401a-486d-9c1e-f2c6617b6e75",
   "metadata": {
    "tags": []
   },
   "outputs": [],
   "source": [
    "import json\n",
    "import boto3\n",
    "from pprint import pprint\n",
    "from termcolor import colored\n",
    "from utils import bedrock, print_ww\n",
    "from utils.bedrock import bedrock_info"
   ]
  },
  {
   "cell_type": "markdown",
   "id": "e841327d-03ff-4a22-8224-91df66e0a943",
   "metadata": {},
   "source": [
    "### ---- ⚠️ Un-comment and edit the below lines as needed for your AWS setup ⚠️ ----\n",
    "- os.environ[\"AWS_DEFAULT_REGION\"] = \"<REGION_NAME>\"  # E.g. \"us-east-1\"\n",
    "- os.environ[\"AWS_PROFILE\"] = \"<YOUR_PROFILE>\"\n",
    "- os.environ[\"BEDROCK_ASSUME_ROLE\"] = \"<YOUR_ROLE_ARN>\"  # E.g. \"arn:aws:...\"\n",
    "- os.environ[\"BEDROCK_ENDPOINT_URL\"] = \"<YOUR_ENDPOINT_URL>\"  # E.g. \"https://...\""
   ]
  },
  {
   "cell_type": "code",
   "execution_count": 4,
   "id": "66a621c0-db5c-4e25-919e-099c2debbf88",
   "metadata": {
    "tags": []
   },
   "outputs": [
    {
     "name": "stdout",
     "output_type": "stream",
     "text": [
      "Create new client\n",
      "  Using region: None\n",
      "  Using profile: None\n",
      "boto3 Bedrock client successfully created!\n",
      "bedrock-runtime(https://bedrock-runtime.us-east-1.amazonaws.com)\n",
      "\u001b[32m\n",
      "== FM lists ==\u001b[0m\n",
      "{'Claude-Instant-V1': 'anthropic.claude-instant-v1',\n",
      " 'Claude-V1': 'anthropic.claude-v1',\n",
      " 'Claude-V2': 'anthropic.claude-v2',\n",
      " 'Claude-V2-1': 'anthropic.claude-v2:1',\n",
      " 'Claude-V3-Haiku': 'anthropic.claude-3-haiku-20240307-v1:0',\n",
      " 'Claude-V3-Sonnet': 'anthropic.claude-3-sonnet-20240229-v1:0',\n",
      " 'Cohere-Embeddings-En': 'cohere.embed-english-v3',\n",
      " 'Cohere-Embeddings-Multilingual': 'cohere.embed-multilingual-v3',\n",
      " 'Command': 'cohere.command-text-v14',\n",
      " 'Command-Light': 'cohere.command-light-text-v14',\n",
      " 'Jurassic-2-Mid': 'ai21.j2-mid-v1',\n",
      " 'Jurassic-2-Ultra': 'ai21.j2-ultra-v1',\n",
      " 'Llama2-13b-Chat': 'meta.llama2-13b-chat-v1',\n",
      " 'Titan-Embeddings-G1': 'amazon.titan-embed-text-v1',\n",
      " 'Titan-Text-G1': 'amazon.titan-text-express-v1',\n",
      " 'Titan-Text-G1-Light': 'amazon.titan-text-lite-v1'}\n"
     ]
    }
   ],
   "source": [
    "boto3_bedrock = bedrock.get_bedrock_client(\n",
    "    assumed_role=os.environ.get(\"BEDROCK_ASSUME_ROLE\", None),\n",
    "    endpoint_url=os.environ.get(\"BEDROCK_ENDPOINT_URL\", None),\n",
    "    region=os.environ.get(\"AWS_DEFAULT_REGION\", None),\n",
    ")\n",
    "\n",
    "print (colored(\"\\n== FM lists ==\", \"green\"))\n",
    "pprint (bedrock_info.get_list_fm_models(verbose=False))"
   ]
  },
  {
   "cell_type": "markdown",
   "id": "c22b84be-91ee-4e22-8ed0-3c23b907172a",
   "metadata": {},
   "source": [
    "## 2. Titan Embedding 및 LLM 인 Claude-v3-sonnet 모델 로딩"
   ]
  },
  {
   "cell_type": "markdown",
   "id": "381aa4d7-0ad8-467b-af4a-c1514e9559d2",
   "metadata": {},
   "source": [
    "### LLM 로딩 (Claude-v3-sonnet)"
   ]
  },
  {
   "cell_type": "code",
   "execution_count": 5,
   "id": "febdbf9e-4ed9-49d2-aaad-6cda6fed1867",
   "metadata": {
    "tags": []
   },
   "outputs": [],
   "source": [
    "from langchain_aws import ChatBedrock\n",
    "from langchain.callbacks.streaming_stdout import StreamingStdOutCallbackHandler"
   ]
  },
  {
   "cell_type": "code",
   "execution_count": 6,
   "id": "bb4edb11-7ef2-4ab4-a36c-bc0f8a5c52a5",
   "metadata": {
    "tags": []
   },
   "outputs": [
    {
     "data": {
      "text/plain": [
       "ChatBedrock(callbacks=[<langchain_core.callbacks.streaming_stdout.StreamingStdOutCallbackHandler object at 0x7f1a99a5e2c0>], client=<botocore.client.BedrockRuntime object at 0x7f1a99a74c70>, model_id='anthropic.claude-3-sonnet-20240229-v1:0', model_kwargs={'max_tokens': 1024, 'stop_sequences': ['\\n\\nHuman']}, streaming=True)"
      ]
     },
     "execution_count": 6,
     "metadata": {},
     "output_type": "execute_result"
    }
   ],
   "source": [
    "llm_text = ChatBedrock(\n",
    "    model_id=bedrock_info.get_model_id(model_name=\"Claude-V3-Sonnet\"),\n",
    "    client=boto3_bedrock,\n",
    "    streaming=True,\n",
    "    callbacks=[StreamingStdOutCallbackHandler()],\n",
    "    model_kwargs={\n",
    "        \"max_tokens\": 1024,\n",
    "        \"stop_sequences\": [\"\\n\\nHuman\"],\n",
    "        # \"temperature\": 0,\n",
    "        # \"top_k\": 350,\n",
    "        # \"top_p\": 0.999\n",
    "    }\n",
    ")\n",
    "llm_text"
   ]
  },
  {
   "cell_type": "markdown",
   "id": "015716aa-a430-4811-a43b-2aab23c0f731",
   "metadata": {},
   "source": [
    "### Embedding 모델 선택"
   ]
  },
  {
   "cell_type": "code",
   "execution_count": 7,
   "id": "d58da66f-d504-4434-85c4-85ce1cc6439a",
   "metadata": {
    "tags": []
   },
   "outputs": [],
   "source": [
    "from langchain.embeddings import BedrockEmbeddings"
   ]
  },
  {
   "cell_type": "code",
   "execution_count": 8,
   "id": "372e1766-b30a-49ca-bd6d-6615397996a3",
   "metadata": {
    "tags": []
   },
   "outputs": [
    {
     "name": "stdout",
     "output_type": "stream",
     "text": [
      "Bedrock Embeddings Model Loaded\n"
     ]
    }
   ],
   "source": [
    "llm_emb = BedrockEmbeddings(\n",
    "    client=boto3_bedrock,\n",
    "    model_id=bedrock_info.get_model_id(model_name=\"Titan-Embeddings-G1\")\n",
    ")\n",
    "dimension = 1536\n",
    "print(\"Bedrock Embeddings Model Loaded\")"
   ]
  },
  {
   "cell_type": "markdown",
   "id": "460fa49e-170e-4ca3-b3f4-0405e53a9e65",
   "metadata": {},
   "source": [
    "## 3. Depoly ReRanker model (if needed)"
   ]
  },
  {
   "cell_type": "code",
   "execution_count": 9,
   "id": "8825f948-e6a4-4fdd-b820-7d2461331679",
   "metadata": {
    "tags": []
   },
   "outputs": [
    {
     "name": "stdout",
     "output_type": "stream",
     "text": [
      "sagemaker.config INFO - Not applying SDK defaults from location: /etc/xdg/sagemaker/config.yaml\n",
      "sagemaker.config INFO - Not applying SDK defaults from location: /home/ec2-user/.config/sagemaker/config.yaml\n"
     ]
    }
   ],
   "source": [
    "import json\n",
    "import sagemaker\n",
    "from sagemaker.huggingface import HuggingFaceModel"
   ]
  },
  {
   "cell_type": "code",
   "execution_count": 10,
   "id": "22a22b0a-a289-4cc9-94da-70ceaa6c399f",
   "metadata": {
    "tags": []
   },
   "outputs": [],
   "source": [
    "depoly = False"
   ]
  },
  {
   "cell_type": "code",
   "execution_count": 11,
   "id": "ab95ab6d-2521-4e54-8dc6-c30713613c18",
   "metadata": {
    "tags": []
   },
   "outputs": [],
   "source": [
    "if depoly:\n",
    "\n",
    "    try:\n",
    "        role = sagemaker.get_execution_role()\n",
    "    except ValueError:\n",
    "        iam = boto3.client('iam')\n",
    "        role = iam.get_role(RoleName='sagemaker_execution_role')['Role']['Arn']\n",
    "\n",
    "    # Hub Model configuration. https://huggingface.co/models\n",
    "    hub = {\n",
    "        'HF_MODEL_ID':'Dongjin-kr/ko-reranker',\n",
    "        'HF_TASK':'text-classification'\n",
    "    }\n",
    "\n",
    "    # create Hugging Face Model Class\n",
    "    huggingface_model = HuggingFaceModel(\n",
    "        transformers_version='4.26.0',\n",
    "        pytorch_version='1.13.1',\n",
    "        py_version='py39',\n",
    "        env=hub,\n",
    "        role=role, \n",
    "    )\n",
    "\n",
    "    # deploy model to SageMaker Inference\n",
    "    predictor = huggingface_model.deploy(\n",
    "        initial_instance_count=1, # number of instances\n",
    "        instance_type='ml.g5.xlarge' # instance type\n",
    "    )\n",
    "\n",
    "    print(f'Accept: {predictor.accept}')\n",
    "    print(f'ContentType: {predictor.content_type}')\n",
    "    print(f'Endpoint: {predictor.endpoint}')"
   ]
  },
  {
   "cell_type": "markdown",
   "id": "8159075b-f792-49dd-bafa-d35064712f43",
   "metadata": {},
   "source": [
    "#### Save reranker endpoint to Parameter Store"
   ]
  },
  {
   "cell_type": "code",
   "execution_count": 12,
   "id": "94464cdf-469f-4c46-a6ca-d54a714fe0bc",
   "metadata": {
    "tags": []
   },
   "outputs": [],
   "source": [
    "if depoly:\n",
    "\n",
    "    import boto3\n",
    "    from utils.ssm import parameter_store\n",
    "\n",
    "    region=boto3.Session().region_name\n",
    "    pm = parameter_store(region)\n",
    "\n",
    "    pm.put_params(\n",
    "        key=\"reranker_endpoint\",\n",
    "        value=f'{predictor.endpoint}',\n",
    "        overwrite=True,\n",
    "        enc=False\n",
    "    )"
   ]
  },
  {
   "cell_type": "markdown",
   "id": "3bb8a33a-3ec6-466e-b1ba-25b34ddae850",
   "metadata": {},
   "source": [
    "## 4. Invocation (prediction)"
   ]
  },
  {
   "cell_type": "code",
   "execution_count": 13,
   "id": "68b0e072-c49e-4deb-8ffb-01fdc807f30c",
   "metadata": {
    "tags": []
   },
   "outputs": [],
   "source": [
    "from utils.ssm import parameter_store"
   ]
  },
  {
   "cell_type": "code",
   "execution_count": 14,
   "id": "534c3cb5-1a8b-42e6-bf98-24479f5f9506",
   "metadata": {
    "tags": []
   },
   "outputs": [],
   "source": [
    "region=boto3.Session().region_name\n",
    "pm = parameter_store(region)"
   ]
  },
  {
   "cell_type": "code",
   "execution_count": 15,
   "id": "d13eae8d-6e1e-4203-9975-b968d8e87a08",
   "metadata": {
    "tags": []
   },
   "outputs": [
    {
     "name": "stdout",
     "output_type": "stream",
     "text": [
      "runtime_client: <botocore.client.SageMakerRuntime object at 0x7f1a7da16770>\n"
     ]
    }
   ],
   "source": [
    "runtime_client = boto3.Session().client('sagemaker-runtime')\n",
    "print (f'runtime_client: {runtime_client}')"
   ]
  },
  {
   "cell_type": "code",
   "execution_count": 16,
   "id": "c360b768-f988-44cd-b3b3-8c7966a4f750",
   "metadata": {
    "tags": []
   },
   "outputs": [],
   "source": [
    "endpoint_name = pm.get_params(\n",
    "    key=\"reranker_endpoint\",\n",
    "    enc=False\n",
    ")\n",
    "deserializer = \"application/json\""
   ]
  },
  {
   "cell_type": "code",
   "execution_count": 17,
   "id": "6d10e73d-8e2d-465f-b62d-93fe9cc10e19",
   "metadata": {
    "tags": []
   },
   "outputs": [],
   "source": [
    "payload = json.dumps(\n",
    "    {\n",
    "        \"inputs\": [\n",
    "            {\"text\": \"I hate you\", \"text_pair\": \"I don't like you\"},\n",
    "            {\"text\": \"He hates you\", \"text_pair\": \"He like you\"}\n",
    "        ]\n",
    "    }\n",
    ")"
   ]
  },
  {
   "cell_type": "code",
   "execution_count": 18,
   "id": "aa7dc3d0-6798-473b-a1c0-fba39fdbc467",
   "metadata": {
    "tags": []
   },
   "outputs": [],
   "source": [
    "payload = json.dumps(\n",
    "    {\n",
    "        \"inputs\": [\n",
    "            {\"text\": \"나는 너를 사랑하지 않아\", \"text_pair\": \"나는 너를 좋아하지 않아\"},\n",
    "            {\"text\": \"그는 너를 싫어해\", \"text_pair\": \"그는 너를 좋아해\"}\n",
    "        ]\n",
    "    }\n",
    ")"
   ]
  },
  {
   "cell_type": "code",
   "execution_count": 19,
   "id": "c71afa63-e158-4ad9-9ce2-46e3a5c263d4",
   "metadata": {
    "tags": []
   },
   "outputs": [
    {
     "name": "stdout",
     "output_type": "stream",
     "text": [
      "Response: [{'label': 'LABEL_0', 'score': 0.9984032511711121}, {'label': 'LABEL_0', 'score': 0.004707992542535067}]\n",
      "CPU times: user 14.1 ms, sys: 0 ns, total: 14.1 ms\n",
      "Wall time: 104 ms\n"
     ]
    }
   ],
   "source": [
    "%%time\n",
    "response = runtime_client.invoke_endpoint(\n",
    "    EndpointName=endpoint_name,\n",
    "    ContentType=\"application/json\",\n",
    "    Accept=deserializer,\n",
    "    Body=payload\n",
    ")\n",
    "## deserialization\n",
    "out = json.loads(response['Body'].read().decode()) ## for json\n",
    "print (f'Response: {out}')"
   ]
  },
  {
   "cell_type": "markdown",
   "id": "256786db-df24-47ac-b9a4-f195a8b015f2",
   "metadata": {},
   "source": [
    "## 5. LangChainOpenSearch VectorStore 정의\n",
    "### 선수 조건\n",
    "- 01_preprocess_docs/02_load_docs_opensearch.ipynb를 통해서 OpenSearch Index 가 생성이 되어 있어야 합니다.\n",
    "#### [중요] 아래에 aws parameter store 에 아래 인증정보가 먼저 입력되어 있어야 합니다.\n",
    "- 01_preprocess_docs/01_parameter_store_example.ipynb 참고"
   ]
  },
  {
   "cell_type": "code",
   "execution_count": 20,
   "id": "7464c2d9-5188-4f07-81b9-451c51e028e6",
   "metadata": {
    "tags": []
   },
   "outputs": [],
   "source": [
    "import boto3\n",
    "from utils.ssm import parameter_store"
   ]
  },
  {
   "cell_type": "code",
   "execution_count": 21,
   "id": "b40da258-a9e3-4270-a315-796e507d2ec8",
   "metadata": {
    "tags": []
   },
   "outputs": [],
   "source": [
    "region=boto3.Session().region_name\n",
    "pm = parameter_store(region)"
   ]
  },
  {
   "cell_type": "code",
   "execution_count": 22,
   "id": "0df511f9-a967-4a7f-b463-873a0f4a589a",
   "metadata": {
    "tags": []
   },
   "outputs": [],
   "source": [
    "opensearch_domain_endpoint = pm.get_params(\n",
    "    key=\"opensearch_domain_endpoint\",\n",
    "    enc=False\n",
    ")\n",
    "\n",
    "opensearch_user_id = pm.get_params(\n",
    "    key=\"opensearch_user_id\",\n",
    "    enc=False\n",
    ")\n",
    "\n",
    "opensearch_user_password = pm.get_params(\n",
    "    key=\"opensearch_user_password\",\n",
    "    enc=True\n",
    ")"
   ]
  },
  {
   "cell_type": "code",
   "execution_count": 23,
   "id": "a4ed12f3-77a7-4735-9a09-c7af0d68f6e9",
   "metadata": {
    "tags": []
   },
   "outputs": [],
   "source": [
    "opensearch_domain_endpoint = opensearch_domain_endpoint\n",
    "rag_user_name = opensearch_user_id\n",
    "rag_user_password = opensearch_user_password\n",
    "\n",
    "http_auth = (rag_user_name, rag_user_password) # Master username, Master password"
   ]
  },
  {
   "cell_type": "markdown",
   "id": "1f581678-99cb-4921-a854-eba604765b3b",
   "metadata": {},
   "source": [
    "### Index 이름 셋팅\n",
    "- 이전 노트북 01_preprocess_docs/02_load_docs_opensearch.ipynb를 통해서 생성된 OpenSearch Index name 입력"
   ]
  },
  {
   "cell_type": "code",
   "execution_count": 24,
   "id": "2f215c42-8327-4d60-bb73-3a4e36977d78",
   "metadata": {
    "tags": []
   },
   "outputs": [
    {
     "name": "stdout",
     "output_type": "stream",
     "text": [
      "index_name: summit-workshop-index-unstructured-pymupdf-llama\n"
     ]
    }
   ],
   "source": [
    "index_name = opensearch_user_password = pm.get_params(\n",
    "    key=\"opensearch_index_name\",\n",
    "    enc=True\n",
    ")\n",
    "\n",
    "print (f'index_name: {index_name}')"
   ]
  },
  {
   "cell_type": "code",
   "execution_count": 25,
   "id": "8aecf7e8-4a17-438d-951f-35d1190805a9",
   "metadata": {
    "tags": []
   },
   "outputs": [],
   "source": [
    "index_name = \"summit-workshop-index\""
   ]
  },
  {
   "cell_type": "markdown",
   "id": "ca9624ab-14ff-49a8-b58a-2c9e05def784",
   "metadata": {},
   "source": [
    "### OpenSearch Client 생성"
   ]
  },
  {
   "cell_type": "code",
   "execution_count": 26,
   "id": "61e4c63f-46f3-423e-95f1-4b0d80beaa43",
   "metadata": {
    "tags": []
   },
   "outputs": [],
   "source": [
    "from utils.opensearch import opensearch_utils"
   ]
  },
  {
   "cell_type": "code",
   "execution_count": 27,
   "id": "8812a5e8-3bac-43ed-a7a0-e328c3f84658",
   "metadata": {
    "tags": []
   },
   "outputs": [],
   "source": [
    "aws_region = os.environ.get(\"AWS_DEFAULT_REGION\", None)\n",
    "os_client = opensearch_utils.create_aws_opensearch_client(\n",
    "    aws_region,\n",
    "    opensearch_domain_endpoint,\n",
    "    http_auth\n",
    ")"
   ]
  },
  {
   "cell_type": "markdown",
   "id": "6910e36a-c9b0-4162-9dbb-76b151b09862",
   "metadata": {},
   "source": [
    "## 4. Question Answering\n",
    "- [BedrockChat with claude3](https://medium.com/@dminhk/building-with-anthropics-claude-3-on-amazon-bedrock-and-langchain-%EF%B8%8F-2b842f9c0ca8)"
   ]
  },
  {
   "cell_type": "code",
   "execution_count": 28,
   "id": "4c418f5d-5b26-4c2b-ac88-1e11b8f0d8ac",
   "metadata": {
    "tags": []
   },
   "outputs": [],
   "source": [
    "from utils.rag import qa_chain\n",
    "from utils.rag import prompt_repo, show_context_used\n",
    "from langchain.callbacks.tracers import ConsoleCallbackHandler\n",
    "from utils.rag import retriever_utils, OpenSearchHybridSearchRetriever"
   ]
  },
  {
   "cell_type": "markdown",
   "id": "70cb1747-c239-41a5-8f2a-f5dd9df6263f",
   "metadata": {},
   "source": [
    "### Retriever 정의"
   ]
  },
  {
   "cell_type": "code",
   "execution_count": 227,
   "id": "4244599c-356e-4cd5-8509-d2f034f9ebf9",
   "metadata": {
    "tags": []
   },
   "outputs": [],
   "source": [
    "opensearch_hybrid_retriever = OpenSearchHybridSearchRetriever(\n",
    "    os_client=os_client,\n",
    "    index_name=index_name,\n",
    "    llm_text=llm_text, # llm for query augmentation in both rag_fusion and HyDE\n",
    "    llm_emb=llm_emb, # Used in semantic search based on opensearch \n",
    "\n",
    "    # hybird-search debugger\n",
    "    hybrid_search_debugger = \"lexical\", #[semantic, lexical, None]\n",
    "    \n",
    "    # option for lexical\n",
    "    minimum_should_match=0,\n",
    "    filter=[],\n",
    "\n",
    "    # option for search\n",
    "    fusion_algorithm=\"RRF\", # [\"RRF\", \"simple_weighted\"], rank fusion 방식 정의\n",
    "    ensemble_weights=[.51, .49], # [for semantic, for lexical], Semantic, Lexical search 결과에 대한 최종 반영 비율 정의\n",
    "    reranker=True, # enable reranker with reranker model\n",
    "    reranker_endpoint_name=endpoint_name, # endpoint name for reranking model\n",
    "    parent_document=False, # enable parent document\n",
    "    \n",
    "    # hybird-search debugger\n",
    "    #hybrid_search_debugger = \"semantic\", #[semantic, lexical, None]\n",
    "\n",
    "    #rag_fusion=True, # enable rag_fusion\n",
    "    #query_augmentation_size=2, # query_augmentation_size in rag_fusion\n",
    "    #hyde=False, # enable hyde\n",
    "    #hyde_query=[\"web_search\"], # query type in hyde \n",
    "    \n",
    "    # option for complex documents consisting of text, table and image\n",
    "    complex_doc=True,\n",
    "    \n",
    "    # option for async search\n",
    "    async_mode=True,\n",
    "\n",
    "    # option for output\n",
    "    k=5, # 최종 Document 수 정의\n",
    "    verbose=False,\n",
    ")"
   ]
  },
  {
   "cell_type": "markdown",
   "id": "d9adf603-c028-4076-8c0a-dab5e98ee366",
   "metadata": {},
   "source": [
    "### QA chain 정의"
   ]
  },
  {
   "cell_type": "code",
   "execution_count": 228,
   "id": "4d4f0756-afb7-45dc-aea7-e1f915a20d8d",
   "metadata": {
    "tags": []
   },
   "outputs": [],
   "source": [
    "system_prompt = prompt_repo.get_system_prompt()"
   ]
  },
  {
   "cell_type": "code",
   "execution_count": 229,
   "id": "8c99e6c6-d3e2-4bc3-834d-1fa9e4610a53",
   "metadata": {
    "tags": []
   },
   "outputs": [],
   "source": [
    "qa = qa_chain(\n",
    "    llm_text=llm_text,\n",
    "    retriever=opensearch_hybrid_retriever,\n",
    "    system_prompt=system_prompt,\n",
    "    return_context=True,\n",
    "    verbose=False\n",
    ")"
   ]
  },
  {
   "cell_type": "code",
   "execution_count": 230,
   "id": "c52c5de5-6ec3-4729-bc87-9bb9e82c5b35",
   "metadata": {
    "tags": []
   },
   "outputs": [
    {
     "name": "stdout",
     "output_type": "stream",
     "text": [
      "학교에서 정보통신윤리 교육을 실시하는 주요 내용은 다음과 같습니다:\n",
      "\n",
      "1. 정보통신윤리교육 주간 운영(6월 셋째 주) 및 홍보 활동을 통해 사이버폭력 예방 교육을 실시합니다.\n",
      "\n",
      "2. 교과 및 창의적 체험활동과 연계하여 정보통신윤리교육을 실시합니다. 토론, 토의, 역할극, 글짓기 등 다양한 활동을 통해 체험중심 교육을 합니다.  \n",
      "\n",
      "3. 인터넷 중독 예방 교육, 스마트폰 이용 자율 실천 규칙 제정 및 운영, 스마트폰 이별 주간 자율 운영, 저작권 교육을 실시합니다.\n",
      "\n",
      "4. 교직원 및 학부모 대상 정보통신윤리 연수를 연 1회 실시합니다. \n",
      "\n",
      "5. 청소년 미디어 이용습관 진단조사를 실시합니다.\n",
      "-----------------------------------------------\n",
      "1. Category: CompositeElement, Chunk: 676 Characters\n",
      "-----------------------------------------------\n",
      ".kr) 학생 선 가입 후 로그인 ➜ ‘나의 정보 관리( 학부모 정보 확인 후 정보 열람 ‘동의’(자녀가 나이스플러스 가입해야 사용 가능합니다.) 〇 온라인 문의(학부모서비스\n",
      "메인화면 하단에 있는 ‘사용문의’) 또는 중앙상담센터(1600-7440) - 21 - 13 정보통신윤리교육 교사 고○용 1) 목적 ❍ 건전한 사이버 문화를 조성하고 학생들의 사이버\n",
      "윤리 의식을 고취시키며, 인터넷 문화 수준 제고 를 통해 사이버 폭력 예방 및 올바른 사용 습관을 강조하기 위함 2) 방침 ❍ 정보통신윤리 교육주간의 취지 홍보 및 캠페인 활동\n",
      "실시 학교 홈페이지 및 가정통신문과 SNS 등을 활용한 사이버폭력 예방 교육주간 홍보 ❍ 교과 및 창의적 체험활동 등과 연계한 정보통신윤리교육 실시 교육과정 운영상 가능한 범위\n",
      "내에서 교과 및 창의적 체험활동과 연계한 교육을 진행 ❍ 수업 지도안, 자료는 에듀넷 홈페이지(☞ 정보통신윤리교육)에 탑재된 관련 학습지도안 중 활용 가능 한지도안 및 학습 자료를\n",
      "학교 실정에 맞게 선택 활용 ❍ 토론·토의 중심 수업, 역할극, 글짓기 등 다양한 학예행사와 가족·친구 서약식, 거리 캠페인 등 체험중 심 활동을 실시할 것을 당부함 3) 추진\n",
      "내용 ❍ 정보통신윤리교육 주간 운영 -일시 : 6월 셋째 주 -장소 : 각 교실(상황에 따라 비대면 교육 실시) -세부 운영 계획 내용 행사명\n",
      "metadata:\n",
      " {'source': './data/complex_pdf/school_edu_guide.pdf', 'filetype': 'application/pdf', 'languages':\n",
      "['kor', 'eng'], 'last_modified': '2024-04-04T01:39:24', 'page_number': 23, 'orig_elements': '',\n",
      "'file_directory': './data/complex_pdf', 'filename': 'school_edu_guide.pdf', 'category':\n",
      "'CompositeElement', 'family_tree': 'child', 'parent_id': 'f28e342a-1445-44ae-8d70-949b0bb03787',\n",
      "'id': '01b4321d-1187-4e09-8bf8-f43b5f62636e'}\n",
      "\n",
      "-----------------------------------------------\n",
      "2. Category: CompositeElement, Chunk: 999 Characters\n",
      "-----------------------------------------------\n",
      "❍ 인터넷 중독 예방 교육 실시(전교생, 연중) ❍ 스마트폰 이용 자율 신철 규칙 제정 운영(3~6학년, 연중) ❍ 가정과 연계한 스마트폰 이별 주간 자율 운영(4~6학년,\n",
      "2024 여름방학) ❍ 저작권 교육(4~6학년, 연중) ❍ 교직원 및 학부모 정보통신윤리 연수(연 1회) ❍ 청소년 미디어 이용습관 진단조사 실시(1,4학년, 6월) 4) 참고\n",
      "사항 ❍ 홈페이지 상 정보통신윤리교육 주간 배너 탑재 및 팝업 창을 통한 홍보 ❍ 가정통신문 및 SNS 등을 활용한 정보통신윤리교육 주간 운영의 취지홍보 5) 유의 사항 및\n",
      "기대효과 ❍ 정보통신윤리교육을 적극적으로 실시하여 정보통신윤리 교육에 대한 인식 전환이 될 수 있도록 함. ❍ 올바른 인터넷 및 스마트폰 사용을 통해 바람직한 인터넷 문화가\n",
      "조성되는 것을 기대함. - 22 - 14 정보보안 및 개인정보보호 운영 계획 교사 고○용 1) 목적 ❍ 체계적이고 효율적인 정보보안 활동으로 각종 정보보안 사고를 예방하고, 사이버\n",
      "공격에 대응하기 ❍ 개인정보를 체계적으로 관리하고 개인정보 수집을 최소화 하여 개인정보가 분실, 도난, 누출, 변조, 훼손, 남용되지 않도록 하기 2) 방침 ❍ 방화벽을 통한\n",
      "보안정책 수립 및 불필요한 포트를 제거하여 외부에서의 불법적 접근을 사전 차단하기 ❍ 정기적인 백신 및 운영체제 업데이트로 업무용 PC보안을 강화하기 ❍ 업무용 PC에\n",
      "개인정보파일을 보유하고 있는 경우, 파일 암호 설정 등 개인정보 파일의 철저한 보호를 위한 조치하기 ❍ 개인정보보호와 정보보안 교육 실시하기 ❍ 개인정보 수집의 최소화 (꼭 필요한\n",
      "자료만 수집할 수 있도록 연수 및 안내) 3) 추진내용 ❍ [상시] 사이버보안 진단의 날 운영 - 내 PC지킴이 실행: 매월 세 번째 수요일(월 1회) - 내 PC지킴이 실행 결과\n",
      "보고: 매월 말 (월 1회) - 내 PC지킴이 실행 독려 및 정보보안 및 개인정보보호 관련 주요사항 안내 ❍ [상시] 개인정보 파일 정비 - 내용: 개인정보보호\n",
      "종합지원시스템(intra.privacy.go\n",
      "metadata:\n",
      " {'source': './data/complex_pdf/school_edu_guide.pdf', 'filetype': 'application/pdf', 'languages':\n",
      "['kor', 'eng'], 'last_modified': '2024-04-04T01:39:24', 'page_number': 24, 'orig_elements': '',\n",
      "'file_directory': './data/complex_pdf', 'filename': 'school_edu_guide.pdf', 'category':\n",
      "'CompositeElement', 'family_tree': 'child', 'parent_id': '45d1171b-b64c-48dc-bd31-caf9841712d1',\n",
      "'id': 'd025c108-1853-4f6c-92ae-680179d079b4'}\n",
      "\n",
      "-----------------------------------------------\n",
      "3. Category: CompositeElement, Chunk: 629 Characters\n",
      "-----------------------------------------------\n",
      ".privacy.go.kr)에 개인정보파일등록 (파일명에 따른 보유건수, 보유기관, 담당자 등) ❍ 개인정보 수집이용 및 제3자 정보제공 동의서 발송 및 수합 - 대상: 전교생 -\n",
      "일시: 3월 초 ❍ 정보보안과 개인정보보호 교직원 연수 실시 - 일시 : 4월 - 연수 내용: 개인정보 보호 및 정보보안 - 교육 방법 : 비대면 시청각 자료 및 쌍방향 프로그램\n",
      "이용 ❍ 주요 정보통신 시설 관리 - 학내망 장비 및 서버 관리실 통제구역 설정 - 시스템 및 장비별 관리 책임자 지정, 시스템의 주기적 점검 - 무선통신 보안 관리(업무용\n",
      "pc에서 무선 접속장치 사용금지) ❍ 기타 - 외부용역업체 보안관리 - 학교홈페이지 개인정보 처리방침 내용 수정 관리 (개인정보 책임자 또는 담당자가 변경되었을 경우이거나 개인정보\n",
      "파일명과 보유기간 등의 변경 사 항을 최대한 빠른 기간에 반영) 4) 기대 효과 ❍ 정보보안 활동으로 각종 정보보안 사고를 예방하고, 사이버 공격 대응태세 갖추기 ❍ 개인정보가\n",
      "분실, 도난, 누출, 변조, 훼손, 남용되지 않도록 노력하는 학교문화 만들기 - 23 - 15 불법찬조금 근절을 위한 학부모 연수 교감 김○식 Ⅰ 불법찬조금 처분 기준 불법찬조금\n",
      "관련 처분기준(2020. 3. 1. 시행) 처분기준 금액\n",
      "metadata:\n",
      " {'source': './data/complex_pdf/school_edu_guide.pdf', 'filetype': 'application/pdf', 'languages':\n",
      "['kor', 'eng'], 'last_modified': '2024-04-04T01:39:24', 'page_number': 24, 'orig_elements': '',\n",
      "'file_directory': './data/complex_pdf', 'filename': 'school_edu_guide.pdf', 'category':\n",
      "'CompositeElement', 'family_tree': 'child', 'parent_id': '45d1171b-b64c-48dc-bd31-caf9841712d1',\n",
      "'id': 'c09b9971-c6dc-4422-afe2-aed677e4a2af'}\n",
      "\n",
      "-----------------------------------------------\n",
      "4. Category: CompositeElement, Chunk: 436 Characters\n",
      "-----------------------------------------------\n",
      "나. 세부계획 Ÿ 교과별·학년별 교육과정과 평가 내용 일치 실천 Ÿ 선행교육 사전 예방을 위한 출제관리 및 자율점검 (학기별 1회) Ÿ 교원, 학부모 대상 선행교육 예방 관련 연수\n",
      "및 홍보(연 1회) 다. 교육공동체의 책무 제5조(학교의 장의 책무) ② 학교의 장은 해당 학교에서 선행교육을 실시하지 아니하도록 지도・감독하여야 한다. . ③ 학교의 장은\n",
      "학부모・학생・교원에게 선행교육 및 선행학습을 예방하기 위한 교육을 정기적으로 실시하여야 한다. ④ 학교의 장은 제3항의 내용을 포함한 선행교육 및 선행학습 예방에 관한 계획을\n",
      "수립・시행하여 야 한다. 제5조의 2(교원의 책무) 교원은 학생의 학습권 보호를 위하여 학생의 선행학습을 전제로 수업을 하 여서는 아니 된다. - 10 - □6 학생 안전 교육\n",
      "교사 김○희 □ 교육부 안전교육 7대 영역 표준안(나.침.반 안전교육실시)\n",
      "metadata:\n",
      " {'source': './data/complex_pdf/school_edu_guide.pdf', 'filetype': 'application/pdf', 'languages':\n",
      "['kor', 'eng'], 'last_modified': '2024-04-04T01:39:24', 'page_number': 12, 'orig_elements': '',\n",
      "'file_directory': './data/complex_pdf', 'filename': 'school_edu_guide.pdf', 'category':\n",
      "'CompositeElement', 'family_tree': 'child', 'parent_id': '5d916595-5906-4177-b924-6c3074119c8c',\n",
      "'id': 'd707bb1c-54ec-4f85-a010-eb02b73820a4'}\n",
      "\n",
      "-----------------------------------------------\n",
      "5. Category: CompositeElement, Chunk: 647 Characters\n",
      "-----------------------------------------------\n",
      "2024학년도 학 교 교 육 과 정 설 명 회 연 수 자 료 일시: 2024년 3월 20일 (수) 바른 인성, 건강한 감성, 즐거운 배움으로 미래를 가꾸는 바른 인성, 건강한\n",
      "감성, 즐거운 배움으로 미래를 가꾸는 학부모 연수 순서 학부모 연수 순서 1. 상록 교육목표 및 구현계획 2. 2024학년도 학사 일정 안내 3. 출결 관련 확인 제출자료 안내\n",
      "4. 학교교육평가 5. 선행교육 예방(공교육정상화법) 6. 학생 안전 교육 7. 성폭력 예방 교육 8. 흡연 및 음주 예방 교육 9. 학생 인권조례 및 교권보호 10. 방과후학교\n",
      "운영 11. 초등돌봄교실(오후돌봄) 운영 12. 학부모 서비스 신청 안내 13. 정보통신윤리교육 14. 정보보안 및 개인정보보호 운영 계획 15. 불법찬조금 근절 16. 아동학대\n",
      "예방 교육 17. 가정폭력 예방 교육 18. 생명 존중 및 생명 살림(자살 예방) 교육 19. 교육활동 참여자 안전교육(녹색, 학부모폴리스) 20. 학교폭력 예방 교육 21.\n",
      "감염병 예방 교육 22. 청탁금지법 23. 공익제보자 보호 및 공익 신고 보상 안내 24. 존중과 배려의 교육환경 조성 예방 교육(갑질 근절) 25. 교육활동보호예방교육 1 상록\n",
      "교육 목표 및 구현 계획 비전 바른 인성, 건강한 감성, 즐거운 배움으로 미래를 가꾸는 어린이\n",
      "metadata:\n",
      " {'source': './data/complex_pdf/school_edu_guide.pdf', 'filetype': 'application/pdf', 'languages':\n",
      "['kor', 'eng'], 'last_modified': '2024-04-04T01:39:24', 'page_number': 1, 'orig_elements': '',\n",
      "'file_directory': './data/complex_pdf', 'filename': 'school_edu_guide.pdf', 'category':\n",
      "'CompositeElement', 'family_tree': 'child', 'parent_id': '8414e230-c3a6-4b0a-86e7-940f9d51e07a',\n",
      "'id': '234f91cb-78cc-4aa0-8edd-0ec246efab5b'}\n"
     ]
    }
   ],
   "source": [
    "#query = \"감독계획수립 후 현장감독에서 법 위반을 하면 이후 프로세스는?\" ## Image 30\n",
    "#query = \"안전보건표지에서 지시표지의 종류와 용도는?\" ## Table 8\n",
    "#query = \"건강진단 순서를 알려줘\" ## Diagram 15\n",
    "\n",
    "#query = \"수익률 그래프 설명해줘\"\n",
    "#query = \"만기가격이 기준가격의 100% 미만일 때 만기상환금액 계산하는 방법 알려줘\"\n",
    "#query = \"전년 동기 현금 예치금 구성비 알려줘\"\n",
    "#query = \"자산총계 금액 알려줘\"\n",
    "#query = \"대출채권 금액은?\"\n",
    "\n",
    "#query = \"대출채권의 전년동기에 해당하는 구성비는 얼마입니까?\"\n",
    "#query = \"당기손익-공정가치측정유가증권 전년동기의 구성비는?\"\n",
    "\n",
    "query = \"재난 발생 시 대처사항은?\"\n",
    "query = \"학교폭력 처리 과정은?\"\n",
    "#query = \"감염병의 종류와 경로는?\"\n",
    "query = \"홍역에 대한 백신 이름은?\"\n",
    "\n",
    "query = \"부모가 자녀에게 가르쳐야 할 성지식에는 어떤 것이 있나요?\"\n",
    "#query = \"MMR 2차의 예방접종 시기는?\"\n",
    "#query = \"교육목표는?\"\n",
    "#query = \"만기상환금액 알려줘\"\n",
    "query = \"학교에서 정보통신윤리 교육을 실시하는 주요 내용은 무엇인가?\"\n",
    "\n",
    "response, contexts = qa.invoke(\n",
    "    query=query,\n",
    "    verbose=False\n",
    ")\n",
    "\n",
    "show_context_used(contexts)"
   ]
  },
  {
   "cell_type": "markdown",
   "id": "b68e6691-1b5f-4572-a151-6ebcabfe5b34",
   "metadata": {},
   "source": [
    "### Parameter updates"
   ]
  },
  {
   "cell_type": "code",
   "execution_count": 233,
   "id": "2e5eef84-5d10-46e2-b0fa-3dcac41084e6",
   "metadata": {
    "tags": []
   },
   "outputs": [],
   "source": [
    "opensearch_hybrid_retriever.update_search_params(\n",
    "    k=7,\n",
    "    minimum_should_match=0,\n",
    "    \n",
    "    # hybird-search debugger\n",
    "    hybrid_search_debugger = \"None\", #[lexical, semantic, None]\n",
    "    \n",
    "    # filter=[\n",
    "    #     {'term': {'metadata.family_tree': 'child'}},\n",
    "    # ],\n",
    "    \n",
    "    reranker=True, # enable reranker with reranker model\n",
    "    reranker_endpoint_name=endpoint_name, # endpoint name for reranking model\n",
    "    parent_document=True, # enable parent document\n",
    "    rag_fusion=False, # enable rag_fusion\n",
    "    #query_augmentation_size=2, # query_augmentation_size in rag_fusion\n",
    "    #hyde=False, # enable hyde\n",
    "    #hyde_query=[\"web_search\"], # query type in hyde \n",
    "    \n",
    "    # option for complex documents consisting of text, table and image\n",
    "    complex_doc=True, # False 이면, invocation시 text만 넣는다. 단, \n",
    "    \n",
    "    ensemble_weights=[0.51, 0.49], #semantic, lexical\n",
    "    verbose=False\n",
    ")"
   ]
  },
  {
   "cell_type": "code",
   "execution_count": 251,
   "id": "c317afb2-db7a-46c3-94c8-1b1418ca879d",
   "metadata": {
    "tags": []
   },
   "outputs": [],
   "source": [
    "#query = \"감독계획수립 후 현장감독에서 법 위반을 하면 이후 프로세스는?\" ## Image 30\n",
    "#query = \"안전보건표지에서 지시표지의 종류와 용도는?\" ## Table 8\n",
    "#query = \"건강진단 순서를 알려줘\" ## Diagram 15\n",
    "\n",
    "##\n",
    "query = \"학기 초에 어린이 납치 예방 방법은?\" # semantic o, lexical x\n",
    "query = \"차 흡연 옷. 벽면에 붙은 연기로 인한 피해?\" # semantic o, lexical x\n",
    "query = \"교육목표는?\"\n",
    "#query = \"수익률 그래프 설명해줘\"\n",
    "query = \"감염병의 종류와 경로는?\"\n",
    "query = \"학교폭력 유형의 개수와 종류 알려줘\"\n",
    "query = \"응급처치 방법에 대해서 알려줘\"\n",
    "query = \"차 밑에서 물건을 꺼내는 아이는 누가 도와줘야 해?\"\n",
    "query = \"공사장 근처에서 노는 아이는 누가 도와줘야 해?\"\n",
    "query = \"학교에서 정보통신윤리 교육을 실시하는 주요 내용은 무엇인가?\"\n",
    "#query = \"중지된 경우 이체\"\n"
   ]
  },
  {
   "cell_type": "code",
   "execution_count": 252,
   "id": "3b5834ab-a54b-42df-82e4-7f0d5f6e11ea",
   "metadata": {
    "tags": []
   },
   "outputs": [
    {
     "name": "stdout",
     "output_type": "stream",
     "text": [
      "학교에서 정보통신윤리 교육을 실시하는 주요 내용은 다음과 같습니다.\n",
      "\n",
      "1. 방송 시청 및 학습지 활동: 스마트폰 중독의 사례, 유형 및 문제점, 올바른 사용 방법 등을 영상으로 시청하고 학습지를 작성합니다.\n",
      "\n",
      "2. 스마트폰 사용 습관 진단: 학생들이 스마트폰 중독 증상과 유형, 현황 등을 파악하고 자신의 스마트폰 사용 습관을 진단해보며 바른 사용법을 익힙니다. \n",
      "\n",
      "3. 가정통신문 발송: 사이버 폭력 예방과 올바른 인터넷, 스마트폰 사용 방법에 대해 가정통신문을 통해 학부모에게 안내합니다.\n",
      "\n",
      "4. 기타 활동: 토론, 토의, 역할극, 글짓기, 가족·친구 서약식, 거리 캠페인 등 다양한 체험 중심 활동도 실시합니다.\n",
      "\n",
      "정보통신윤리 교육 주간 동안 집중적으로 교육이 이루어지지만, 연중 지속적으로 스마트폰 이용 자율 실천 규칙 운영, 저작권 교육, 인터넷 중독 예방 교육 등도 병행됩니다."
     ]
    }
   ],
   "source": [
    "response, contexts = qa.invoke(\n",
    "    query = query,\n",
    "    verbose=False\n",
    ")"
   ]
  },
  {
   "cell_type": "code",
   "execution_count": 236,
   "id": "7589172a-c6de-42ec-8119-fa3011ecd730",
   "metadata": {
    "collapsed": true,
    "jupyter": {
     "outputs_hidden": true
    },
    "tags": []
   },
   "outputs": [
    {
     "name": "stdout",
     "output_type": "stream",
     "text": [
      "##################################\n",
      "query:  학교에서 정보통신윤리 교육을 실시하는 주요 내용은 무엇인가?\n",
      "##################################\n",
      "\u001b[34m\n",
      "\n",
      "### Answer ###\u001b[0m\n",
      "주요 내용은 다음과 같습니다.\n",
      "\n",
      "1. 스마트폰 중독의 사례, 유형 및 문제점에 대한 방송 시청 및 학습지 활동 (1-6학년 대상)\n",
      "2. 교실에 스마트폰 중독 증상, 중독 유형, 중독 현황 및 실태에 대한 자료를 게시하고, 학생들이 자신의 스마트폰 사용 습관을 진단하고 바른 사용법을 익힘 (1-6학년 대상)\n",
      "3. 사이버 폭력 예방 및 올바른 인터넷, 스마트폰 사용 방법에 대한 가정통신문 발송 (학부모 및 전교생 대상)\n",
      "\u001b[32m\n",
      "\n",
      "### Contexts ###\u001b[0m\n",
      "\n",
      "-----------------------------------------------\n",
      "1. Category: Table, Chunk: 212 Characters\n",
      "-----------------------------------------------\n"
     ]
    },
    {
     "data": {
      "image/png": "[encoded data removed]",
      "text/plain": [
       "<Figure size 640x480 with 1 Axes>"
      ]
     },
     "metadata": {},
     "output_type": "display_data"
    },
    {
     "name": "stdout",
     "output_type": "stream",
     "text": [
      "제시된 표는 학생들을 대상으로 한 정보통신 윤리교육의 세부 내용을 보여주고 있습니다. 주요 내용으로는 스마트폰 중독의 사례, 유형 및 문제점, 올바른 사용 방법 등에 대한 방송\n",
      "시청과 학습지 활동이 있습니다. 또한 학생들 스스로 자신의 스마트폰 사용 습관을 진단해보고, 가정통신문을 통해 사이버 폭력 예방과 올바른 인터넷, 스마트폰 사용 방법을 안내하는\n",
      "내용이 포함되어 있습니다.\n"
     ]
    },
    {
     "data": {
      "text/html": [
       "<table><tr><td>uluj i &lt; 4o T T &lt;0 30 &lt;1 &lt;I&lt;I 80</td></tr></table>"
      ],
      "text/plain": [
       "<IPython.core.display.HTML object>"
      ]
     },
     "metadata": {},
     "output_type": "display_data"
    },
    {
     "name": "stdout",
     "output_type": "stream",
     "text": [
      "metadata:\n",
      " {'source': './data/complex_pdf/school_edu_guide.pdf', 'detection_class_prob': 0.8441886305809021,\n",
      "'coordinates': {'points': [[173.7473907470703, 1167.6917724609375], [173.7473907470703,\n",
      "1551.6904296875], [1498.5126953125, 1551.6904296875], [1498.5126953125, 1167.6917724609375]],\n",
      "'system': 'PixelSpace', 'layout_width': 1653, 'layout_height': 2337}, 'last_modified':\n",
      "'2024-04-04T01:39:24', 'text_as_html': '<table><tr><td>uluj i &lt; 4o T T &lt;0 30 &lt;1 &lt;I&lt;I\n",
      "80</td></tr></table>', 'filetype': 'application/pdf', 'languages': ['kor', 'eng'], 'page_number':\n",
      "24, 'orig_elements': '', 'file_directory': './data/complex_pdf', 'filename': 'school_edu_guide.pdf',\n",
      "'category': 'Table', 'image_base64': '', 'origin_table': '세부사항 대상 정보통신 윤리교육 방송시청 및 학습지 활동 ․ 방송 내용\n",
      "-스마트폰 중독의 사례 -스마트폰 중독의 유형 및 문제점 -스마트폰 사용의 올바른 방법 ․ 영상 시청 후 학습지 완성하기 1-6학년 (영상 시청) 3-6학년 (학습지 활동) 교실에\n",
      "스마트폰 사용 습관 진단 자료 게시 ․ 스마트폰 중독 증상, 중독 유형, 중독 현황 및 실태 ․ 스스로 자신의 스마트폰 사용 습관을 진단해보고 바른 사용을 위한 방법 이야기 나누기\n",
      "1-6학년 가정통신문 발송 ․ 사이버 폭력 예방 및 올바른 인터넷, 스마트폰 사용을 지도하기 위한 방법 안내 학부모 및 전교생', 'family_tree':\n",
      "'parent_table', 'parent_id': 'NA', 'id': '34bae1b7-8b6e-4f2c-9020-c60db255f498', 'origin_image': ''}\n",
      "\n",
      "-----------------------------------------------\n",
      "2. Category: Table, Chunk: 196 Characters\n",
      "-----------------------------------------------\n",
      "이 표는 정보통신 윤리교육 행사에 대한 내용을 보여주고 있습니다. 1-6학년 학생들을 대상으로 스마트폰 중독 사례 영상 시청, 스마트폰 중독의 유형 및 문제점 학습, 스마트폰 사용\n",
      "습관 진단 및 바른 사용법에 대한 활동이 진행됩니다. 또한 학부모와 전교생을 대상으로 사이버 폭력 예방과 올바른 스마트폰 사용 방법에 대한 가정통신문이 발송될 예정입니다.\n"
     ]
    },
    {
     "data": {
      "text/html": [
       "<table><tr><td>행사명</td><td>내용</td><td>세부사항</td><td>대상</td></tr><tr><td>정보통신 윤리교육</td><td>방송내용</td><td>스마트폰 중독의 사례 (영상시청)</td><td>1-6학년</td></tr><tr><td></td><td>방송시청 및 학습지 활동</td><td>스마트폰 중독의 유형 및 문제점, 스마트폰 사용의 올바른 방법 (학습지 활동)</td><td>3-6학년</td></tr><tr><td>교실에 스마트폰 사용 습관 진단 자료 게시</td><td>스마트폰 중독 증상, 중독 유형, 중독 현황 및 실태, 스스로 자신의 스마트폰 사용 습관을 진단해보고 바른 사용을 위한 방법 이야기 나누기</td><td></td><td>1-6학년</td></tr><tr><td>가정통신문 발송</td><td>사이버 폭력 예방 및 올바른 인터넷, 스마트폰 사용을 지도하기 위한 방법 안내</td><td></td><td>학부모 및 전교생</td></tr></table>"
      ],
      "text/plain": [
       "<IPython.core.display.HTML object>"
      ]
     },
     "metadata": {},
     "output_type": "display_data"
    },
    {
     "name": "stdout",
     "output_type": "stream",
     "text": [
      "metadata:\n",
      " {'source': './data/complex_pdf/pickle/parsed_llamaparse.md', 'last_modified':\n",
      "'2024-04-20T12:46:46', 'text_as_html':\n",
      "'<table><tr><td>행사명</td><td>내용</td><td>세부사항</td><td>대상</td></tr><tr><td>정보통신\n",
      "윤리교육</td><td>방송내용</td><td>스마트폰 중독의 사례 (영상시청)</td><td>1-6학년</td></tr><tr><td></td><td>방송시청 및 학습지\n",
      "활동</td><td>스마트폰 중독의 유형 및 문제점, 스마트폰 사용의 올바른 방법 (학습지 활동)</td><td>3-6학년</td></tr><tr><td>교실에 스마트폰 사용 습관\n",
      "진단 자료 게시</td><td>스마트폰 중독 증상, 중독 유형, 중독 현황 및 실태, 스스로 자신의 스마트폰 사용 습관을 진단해보고 바른 사용을 위한 방법 이야기\n",
      "나누기</td><td></td><td>1-6학년</td></tr><tr><td>가정통신문 발송</td><td>사이버 폭력 예방 및 올바른 인터넷, 스마트폰 사용을 지도하기 위한\n",
      "방법 안내</td><td></td><td>학부모 및 전교생</td></tr></table>', 'page_number': 5, 'languages': ['kor'],\n",
      "'parent_id': 'NA', 'filetype': 'text/markdown', 'orig_elements': '', 'file_directory':\n",
      "'./data/complex_pdf/pickle', 'filename': 'parsed_llamaparse.md', 'category': 'Table',\n",
      "'origin_table': '행사명 내용 세부사항 대상 정보통신 윤리교육 방송내용 스마트폰 중독의 사례 (영상시청) 1-6학년 방송시청 및 학습지 활동 스마트폰 중독의 유형 및\n",
      "문제점, 스마트폰 사용의 올바른 방법 (학습지 활동) 3-6학년 교실에 스마트폰 사용 습관 진단 자료 게시 스마트폰 중독 증상, 중독 유형, 중독 현황 및 실태, 스스로 자신의\n",
      "스마트폰 사용 습관을 진단해보고 바른 사용을 위한 방법 이야기 나누기 1-6학년 가정통신문 발송 사이버 폭력 예방 및 올바른 인터넷, 스마트폰 사용을 지도하기 위한 방법 안내\n",
      "학부모 및 전교생', 'family_tree': 'parent_table', 'id': 'd432529d-bfff-42da-8627-58108126b5ce'}\n",
      "\n",
      "-----------------------------------------------\n",
      "3. Category: Table, Chunk: 310 Characters\n",
      "-----------------------------------------------\n",
      "이 표는 학교 운영계획을 제시하고 있습니다. 주요 내용은 다음과 같습니다.\n",
      "\n",
      "1. 학생 생활인권 및 환경교육: 학용품 아껴쓰기, 에너지 절약, 쓰레기 감량 및 분리배출 교육 실시\n",
      "2. 창의적인 어린이 교육활동: 교육정보화 지원, 학교홈페이지 및 알리미 체제 운영, 에듀테크교육, 정보통신윤리교육 등\n",
      "3. 독서교육 및 도서관 운영: 독서토론교육, 도서관 활용수업, 독서행사 등\n",
      "4. 진로교육: 진로체험교실, 진로탐색 프로그램, 사이버 진로교육 등\n",
      "5. 2024학년도 학사일정: 겨울방학 중 석면교체 및 LED설치를 위해 여름방학 단축, 겨울방학 70일 운영\n"
     ]
    },
    {
     "data": {
      "text/html": [
       "<table><tr><td>◦학용품 아껴쓰기</td><td>연중</td><td>전교생 생활인권</td></tr><tr><td>◦에너지 절약 교육</td><td></td><td></td></tr><tr><td>◦쓰레기 감량 및 분리배출 교육- 3-</td><td></td><td></td></tr><tr><td>---</td><td></td><td></td></tr><tr><td>수(秀)</td><td>특기와 소질을 가꾸어 미래를 준비하는 창의적인 어린이 교육활동</td><td>시기</td></tr><tr><td>---</td><td>---</td><td>---</td></tr><tr><td>331.교육정보화 지원확대 및 학습 준비 철저</td><td>컴퓨터실 정비 및 각종 교육 S/W 구비</td><td>7,2월</td></tr><tr><td></td><td>방송실의 효율적 운영</td><td>연중</td></tr><tr><td></td><td>학습준비물의 효율적인 선정 및 구입</td><td>연중</td></tr><tr><td>332.학교홈페이지 및 알리미 체제 운영</td><td>학교홈페이지 구성 및 활성화</td><td>연중</td></tr><tr><td></td><td>하이클래스를 활용한 교육 주체 간 소통</td><td></td></tr><tr><td>333.에듀테크교육 및 정보통신 윤리교육의 강화</td><td>에듀테크교육 환경 구축</td><td>연중</td></tr><tr><td></td><td>개인정보 보호 활성화 및 저작권 교육 강화</td><td>연중</td></tr><tr><td></td><td>SW 교육(미래체험) 프로그램 체험 기회확대</td><td>연중</td></tr><tr><td></td><td>디지털 시민교육(코딩교실 운영)</td><td>2학기</td></tr><tr><td>231.독서교육의 활성화</td><td>교육과정 재구성을 통한 온책읽기</td><td>연중</td></tr><tr><td></td><td>질문과 토론이 있는 독서토론교육 운영</td><td>연중</td></tr><tr><td>232.독서인문교육을 돕는 도서관 운영</td><td>도서관 운영 계획 수립</td><td>3월</td></tr><tr><td></td><td>도서관 활용 수업 활성화 및 도서 확충</td><td>연중</td></tr><tr><td></td><td>독서 교실 운영</td><td>방학중</td></tr><tr><td></td><td>학생 참여의 독서 행사 운영</td><td>연중</td></tr><tr><td></td><td>독서인문교실-작가와의 만남</td><td>5-6학년</td></tr><tr><td></td><td>미디어리터러시 교육</td><td>1-6학년</td></tr><tr><td>331.꿈을 키우는 학생 맞춤형 진로교육 강화</td><td>진로체험교실 운영</td><td>연중</td></tr><tr><td></td><td>교과 및 창의체험 활동을 통한 진로교육</td><td>연중</td></tr><tr><td></td><td>학년 수준에 맞는 진로탐색 프로그램 운영</td><td>2회</td></tr><tr><td></td><td>사이버 진로교육 운영-커리어넷</td><td>연중</td></tr><tr><td>332.진로연계교육 실시</td><td>학년초 1-2학년</td><td></td></tr><tr><td></td><td>1-2학년은 성장이음과정 실시</td><td>학년초 3학년</td></tr><tr><td></td><td>3학년은 교과목 설명 및 전담과목 및 안내</td><td></td></tr><tr><td></td><td>6학년은 초등학교 마무리 및 중학교 적응을 위한 학교 자율과정 운영</td><td>학년말 6학년</td></tr><tr><td>---</td><td></td><td></td></tr><tr><td>학사 일정</td><td></td><td></td></tr><tr><td>---</td><td></td><td></td></tr><tr><td>2024학년도</td><td>학사 일정</td><td></td></tr><tr><td>※ 겨울방학 중 석면교체 및 LED설치 공기 확보(70일) 위해 여름방학 단축 및 겨울방학 70일 운영</td><td></td><td></td></tr></table>"
      ],
      "text/plain": [
       "<IPython.core.display.HTML object>"
      ]
     },
     "metadata": {},
     "output_type": "display_data"
    },
    {
     "name": "stdout",
     "output_type": "stream",
     "text": [
      "metadata:\n",
      " {'source': './data/complex_pdf/pickle/parsed_llamaparse.md', 'last_modified':\n",
      "'2024-04-20T12:46:46', 'text_as_html': '<table><tr><td>◦학용품 아껴쓰기</td><td>연중</td><td>전교생\n",
      "생활인권</td></tr><tr><td>◦에너지 절약 교육</td><td></td><td></td></tr><tr><td>◦쓰레기 감량 및 분리배출 교육-\n",
      "3-</td><td></td><td></td></tr><tr><td>---</td><td></td><td></td></tr><tr><td>수(秀)</td><td>특기와 소질을\n",
      "가꾸어 미래를 준비하는 창의적인 어린이\n",
      "교육활동</td><td>시기</td></tr><tr><td>---</td><td>---</td><td>---</td></tr><tr><td>331.교육정보화 지원확대 및 학습 준비\n",
      "철저</td><td>컴퓨터실 정비 및 각종 교육 S/W 구비</td><td>7,2월</td></tr><tr><td></td><td>방송실의 효율적\n",
      "운영</td><td>연중</td></tr><tr><td></td><td>학습준비물의 효율적인 선정 및 구입</td><td>연중</td></tr><tr><td>332.학교홈페이지 및\n",
      "알리미 체제 운영</td><td>학교홈페이지 구성 및 활성화</td><td>연중</td></tr><tr><td></td><td>하이클래스를 활용한 교육 주체 간\n",
      "소통</td><td></td></tr><tr><td>333.에듀테크교육 및 정보통신 윤리교육의 강화</td><td>에듀테크교육 환경\n",
      "구축</td><td>연중</td></tr><tr><td></td><td>개인정보 보호 활성화 및 저작권 교육\n",
      "강화</td><td>연중</td></tr><tr><td></td><td>SW 교육(미래체험) 프로그램 체험\n",
      "기회확대</td><td>연중</td></tr><tr><td></td><td>디지털 시민교육(코딩교실 운영)</td><td>2학기</td></tr><tr><td>231.독서교육의\n",
      "활성화</td><td>교육과정 재구성을 통한 온책읽기</td><td>연중</td></tr><tr><td></td><td>질문과 토론이 있는 독서토론교육\n",
      "운영</td><td>연중</td></tr><tr><td>232.독서인문교육을 돕는 도서관 운영</td><td>도서관 운영 계획\n",
      "수립</td><td>3월</td></tr><tr><td></td><td>도서관 활용 수업 활성화 및 도서\n",
      "확충</td><td>연중</td></tr><tr><td></td><td>독서 교실 운영</td><td>방학중</td></tr><tr><td></td><td>학생 참여의 독서 행사\n",
      "운영</td><td>연중</td></tr><tr><td></td><td>독서인문교실-작가와의\n",
      "만남</td><td>5-6학년</td></tr><tr><td></td><td>미디어리터러시 교육</td><td>1-6학년</td></tr><tr><td>331.꿈을 키우는 학생\n",
      "맞춤형 진로교육 강화</td><td>진로체험교실 운영</td><td>연중</td></tr><tr><td></td><td>교과 및 창의체험 활동을 통한\n",
      "진로교육</td><td>연중</td></tr><tr><td></td><td>학년 수준에 맞는 진로탐색 프로그램\n",
      "운영</td><td>2회</td></tr><tr><td></td><td>사이버 진로교육 운영-커리어넷</td><td>연중</td></tr><tr><td>332.진로연계교육\n",
      "실시</td><td>학년초 1-2학년</td><td></td></tr><tr><td></td><td>1-2학년은 성장이음과정 실시</td><td>학년초\n",
      "3학년</td></tr><tr><td></td><td>3학년은 교과목 설명 및 전담과목 및 안내</td><td></td></tr><tr><td></td><td>6학년은 초등학교\n",
      "마무리 및 중학교 적응을 위한 학교 자율과정 운영</td><td>학년말\n",
      "6학년</td></tr><tr><td>---</td><td></td><td></td></tr><tr><td>학사\n",
      "일정</td><td></td><td></td></tr><tr><td>---</td><td></td><td></td></tr><tr><td>2024학년도</td><td>학사\n",
      "일정</td><td></td></tr><tr><td>※ 겨울방학 중 석면교체 및 LED설치 공기 확보(70일) 위해 여름방학 단축 및 겨울방학 70일\n",
      "운영</td><td></td><td></td></tr></table>', 'page_number': 2, 'languages': ['kor'], 'parent_id': 'NA',\n",
      "'filetype': 'text/markdown', 'orig_elements': '', 'file_directory': './data/complex_pdf/pickle',\n",
      "'filename': 'parsed_llamaparse.md', 'category': 'Table', 'origin_table': '◦학용품 아껴쓰기 연중 전교생 생활인권 ◦에너지\n",
      "절약 교육 ◦쓰레기 감량 및 분리배출 교육- 3- --- 수(秀) 특기와 소질을 가꾸어 미래를 준비하는 창의적인 어린이 교육활동 시기 --- --- --- 331.교육정보화\n",
      "지원확대 및 학습 준비 철저 컴퓨터실 정비 및 각종 교육 S/W 구비 7,2월 방송실의 효율적 운영 연중 학습준비물의 효율적인 선정 및 구입 연중 332.학교홈페이지 및 알리미\n",
      "체제 운영 학교홈페이지 구성 및 활성화 연중 하이클래스를 활용한 교육 주체 간 소통 333.에듀테크교육 및 정보통신 윤리교육의 강화 에듀테크교육 환경 구축 연중 개인정보 보호\n",
      "활성화 및 저작권 교육 강화 연중 SW 교육(미래체험) 프로그램 체험 기회확대 연중 디지털 시민교육(코딩교실 운영) 2학기 231.독서교육의 활성화 교육과정 재구성을 통한 온책읽기\n",
      "연중 질문과 토론이 있는 독서토론교육 운영 연중 232.독서인문교육을 돕는 도서관 운영 도서관 운영 계획 수립 3월 도서관 활용 수업 활성화 및 도서 확충 연중 독서 교실 운영\n",
      "방학중 학생 참여의 독서 행사 운영 연중 독서인문교실-작가와의 만남 5-6학년 미디어리터러시 교육 1-6학년 331.꿈을 키우는 학생 맞춤형 진로교육 강화 진로체험교실 운영 연중\n",
      "교과 및 창의체험 활동을 통한 진로교육 연중 학년 수준에 맞는 진로탐색 프로그램 운영 2회 사이버 진로교육 운영-커리어넷 연중 332.진로연계교육 실시 학년초 1-2학년\n",
      "1-2학년은 성장이음과정 실시 학년초 3학년 3학년은 교과목 설명 및 전담과목 및 안내 6학년은 초등학교 마무리 및 중학교 적응을 위한 학교 자율과정 운영 학년말 6학년 ---\n",
      "학사 일정 --- 2024학년도 학사 일정 ※ 겨울방학 중 석면교체 및 LED설치 공기 확보(70일) 위해 여름방학 단축 및 겨울방학 70일 운영', 'family_tree':\n",
      "'parent_table', 'id': 'bc661fb4-9c2c-4331-9e01-245af8492e53'}\n",
      "\n",
      "-----------------------------------------------\n",
      "4. Category: CompositeElement, Chunk: 1288 Characters\n",
      "-----------------------------------------------\n",
      "2. 학 부 모 서 비 스 이 용 방 법 (1) 회원가입 및 로그인 〇 학부모서비스(https://parents.neis.go.kr)에 접속하여 학부모서비스 회원가입을 합니다. ※\n",
      "(구)학부모서비스의 회원은 기존 아이디로 자녀정보 등록 후 바로 서비스 이용이 가능합니다. ※ 행안부 디지털원패스, 간편인증에 이미 가입된 경우 인증 후 학부모서비스에 가입하면\n",
      "됩니다. ▣ 디지털원패스(https://onepass.go.kr) 행정안전부에서 제공하는 인증서비스로, 전자정부의 여러 서비스를 이용할 수 있음 ※ 모바일 앱 다운 :\n",
      "(안드로이드) Play스토어, 원스토어 / (아이폰) 앱스토어에서 ‘학부모서비스’를 검색합니다. (2) 학부모서비스 로그인 (방법1) 아이디, 패스워드 로그인 ※ 이 경우 일부\n",
      "자료 열람이 제한됩니다. (방법2) 디지털원패스 로그인 (방법3) 간편인증 로그인 (카카오톡, 네이버, PASS 등) (3) 학부모서비스의 자녀등록 및 정보제공 요청 - (학부모)\n",
      "학부모서비스 로그인 ➜ ‘자녀 등록하기’에서 자녀 학적 정보 입력 후 조회(소속교육청, 학교명, 학년, 반, 번호, 이름 등) ➜ 자녀등록 및 정보제공 요청 - (자녀)\n",
      "나이스플러스(https://neisplus.kr) 학생 선 가입 후 로그인 ➜ ‘나의 정보 관리( 학부모 정보 확인 후 정보 열람 ‘동의’(자녀가 나이스플러스 가입해야 사용\n",
      "가능합니다.) 〇 온라인 문의(학부모서비스 메인화면 하단에 있는 ‘사용문의’) 또는 중앙상담센터(1600-7440) - 21 - 13 정보통신윤리교육 교사 고○용 1) 목적 ❍\n",
      "건전한 사이버 문화를 조성하고 학생들의 사이버 윤리 의식을 고취시키며, 인터넷 문화 수준 제고 를 통해 사이버 폭력 예방 및 올바른 사용 습관을 강조하기 위함 2) 방침 ❍\n",
      "정보통신윤리 교육주간의 취지 홍보 및 캠페인 활동 실시 학교 홈페이지 및 가정통신문과 SNS 등을 활용한 사이버폭력 예방 교육주간 홍보 ❍ 교과 및 창의적 체험활동 등과 연계한\n",
      "정보통신윤리교육 실시 교육과정 운영상 가능한 범위 내에서 교과 및 창의적 체험활동과 연계한 교육을 진행 ❍ 수업 지도안, 자료는 에듀넷 홈페이지(☞ 정보통신윤리교육)에 탑재된 관련\n",
      "학습지도안 중 활용 가능 한지도안 및 학습 자료를 학교 실정에 맞게 선택 활용 ❍ 토론·토의 중심 수업, 역할극, 글짓기 등 다양한 학예행사와 가족·친구 서약식, 거리 캠페인 등\n",
      "체험중 심 활동을 실시할 것을 당부함 3) 추진 내용 ❍ 정보통신윤리교육 주간 운영 -일시 : 6월 셋째 주 -장소 : 각 교실(상황에 따라 비대면 교육 실시) -세부 운영 계획\n",
      "내용 행사명\n",
      "metadata:\n",
      " {'source': './data/complex_pdf/school_edu_guide.pdf', 'filetype': 'application/pdf', 'languages':\n",
      "['kor', 'eng'], 'last_modified': '2024-04-04T01:39:24', 'page_number': 23, 'orig_elements': '',\n",
      "'file_directory': './data/complex_pdf', 'filename': 'school_edu_guide.pdf', 'category':\n",
      "'CompositeElement', 'family_tree': 'parent', 'parent_id': None}\n",
      "\n",
      "-----------------------------------------------\n",
      "5. Category: CompositeElement, Chunk: 1617 Characters\n",
      "-----------------------------------------------\n",
      "❍ 인터넷 중독 예방 교육 실시(전교생, 연중) ❍ 스마트폰 이용 자율 신철 규칙 제정 운영(3~6학년, 연중) ❍ 가정과 연계한 스마트폰 이별 주간 자율 운영(4~6학년,\n",
      "2024 여름방학) ❍ 저작권 교육(4~6학년, 연중) ❍ 교직원 및 학부모 정보통신윤리 연수(연 1회) ❍ 청소년 미디어 이용습관 진단조사 실시(1,4학년, 6월) 4) 참고\n",
      "사항 ❍ 홈페이지 상 정보통신윤리교육 주간 배너 탑재 및 팝업 창을 통한 홍보 ❍ 가정통신문 및 SNS 등을 활용한 정보통신윤리교육 주간 운영의 취지홍보 5) 유의 사항 및\n",
      "기대효과 ❍ 정보통신윤리교육을 적극적으로 실시하여 정보통신윤리 교육에 대한 인식 전환이 될 수 있도록 함. ❍ 올바른 인터넷 및 스마트폰 사용을 통해 바람직한 인터넷 문화가\n",
      "조성되는 것을 기대함. - 22 - 14 정보보안 및 개인정보보호 운영 계획 교사 고○용 1) 목적 ❍ 체계적이고 효율적인 정보보안 활동으로 각종 정보보안 사고를 예방하고, 사이버\n",
      "공격에 대응하기 ❍ 개인정보를 체계적으로 관리하고 개인정보 수집을 최소화 하여 개인정보가 분실, 도난, 누출, 변조, 훼손, 남용되지 않도록 하기 2) 방침 ❍ 방화벽을 통한\n",
      "보안정책 수립 및 불필요한 포트를 제거하여 외부에서의 불법적 접근을 사전 차단하기 ❍ 정기적인 백신 및 운영체제 업데이트로 업무용 PC보안을 강화하기 ❍ 업무용 PC에\n",
      "개인정보파일을 보유하고 있는 경우, 파일 암호 설정 등 개인정보 파일의 철저한 보호를 위한 조치하기 ❍ 개인정보보호와 정보보안 교육 실시하기 ❍ 개인정보 수집의 최소화 (꼭 필요한\n",
      "자료만 수집할 수 있도록 연수 및 안내) 3) 추진내용 ❍ [상시] 사이버보안 진단의 날 운영 - 내 PC지킴이 실행: 매월 세 번째 수요일(월 1회) - 내 PC지킴이 실행 결과\n",
      "보고: 매월 말 (월 1회) - 내 PC지킴이 실행 독려 및 정보보안 및 개인정보보호 관련 주요사항 안내 ❍ [상시] 개인정보 파일 정비 - 내용: 개인정보보호\n",
      "종합지원시스템(intra.privacy.go.kr)에 개인정보파일등록 (파일명에 따른 보유건수, 보유기관, 담당자 등) ❍ 개인정보 수집이용 및 제3자 정보제공 동의서 발송 및\n",
      "수합 - 대상: 전교생 - 일시: 3월 초 ❍ 정보보안과 개인정보보호 교직원 연수 실시 - 일시 : 4월 - 연수 내용: 개인정보 보호 및 정보보안 - 교육 방법 : 비대면 시청각\n",
      "자료 및 쌍방향 프로그램 이용 ❍ 주요 정보통신 시설 관리 - 학내망 장비 및 서버 관리실 통제구역 설정 - 시스템 및 장비별 관리 책임자 지정, 시스템의 주기적 점검 - 무선통신\n",
      "보안 관리(업무용 pc에서 무선 접속장치 사용금지) ❍ 기타 - 외부용역업체 보안관리 - 학교홈페이지 개인정보 처리방침 내용 수정 관리 (개인정보 책임자 또는 담당자가 변경되었을\n",
      "경우이거나 개인정보 파일명과 보유기간 등의 변경 사 항을 최대한 빠른 기간에 반영) 4) 기대 효과 ❍ 정보보안 활동으로 각종 정보보안 사고를 예방하고, 사이버 공격 대응태세\n",
      "갖추기 ❍ 개인정보가 분실, 도난, 누출, 변조, 훼손, 남용되지 않도록 노력하는 학교문화 만들기 - 23 - 15 불법찬조금 근절을 위한 학부모 연수 교감 김○식 Ⅰ 불법찬조금\n",
      "처분 기준 불법찬조금 관련 처분기준(2020. 3. 1. 시행) 처분기준 금액\n",
      "metadata:\n",
      " {'source': './data/complex_pdf/school_edu_guide.pdf', 'filetype': 'application/pdf', 'languages':\n",
      "['kor', 'eng'], 'last_modified': '2024-04-04T01:39:24', 'page_number': 24, 'orig_elements': '',\n",
      "'file_directory': './data/complex_pdf', 'filename': 'school_edu_guide.pdf', 'category':\n",
      "'CompositeElement', 'family_tree': 'parent', 'parent_id': None}\n",
      "\n",
      "-----------------------------------------------\n",
      "6. Category: CompositeElement, Chunk: 1106 Characters\n",
      "-----------------------------------------------\n",
      "힌 버 TANEY =T 4. 모욕: 교사에게 욕설을 하는 경우, 외모나 신체적 특징을 비하하거나 비하하는 별명을 만들어 부르는 경우 5. 손괴: 교사의 지도에 반항하며 학교 기물을\n",
      "망가뜨리는 경우, 교사의 문서나 파일을 사용하지 못 하게 만드는 경우 6. 성범죄: 휴대전화로 교원의 신체를 몰래 촬영거나 나체 합성사진을 만들어 퍼뜨린 경우, 수업 중 자위행위를\n",
      "하는 경우 7. 불법정보 유통: 교원에게 음란 사진을 전송한 경우, 인터넷 게시판에 허위 사실을 작성한 경우, 교원 에게 공포심을 유발하는 전화나 메시지를 반복적으로 보내는 경우\n",
      "8. 공무집행 방해, 부당한 간섭, 의도적인 수업방해, 악성민원제기, 교원의 의무가 아닌 일을 강요하는 행위, 무고 2. 교육활동 침해행위 조치 가. 안산교육지원청\n",
      "안산교권보호센터에서 심의·의결 또는 분쟁조정 나. 침해 학생에 대한 조치 (교원지위법 제25조) 에 의 사 지 6 학 ① 학교에서의 봉사 ② 사회봉사 ③ 학내외 전문가에 의한\n",
      "특별교육 이수 또는 심리치료 ④ 출석정지 ⑤ 학급교체 ⑥ 전학 ⑦ 퇴학처분(의무교육대상자 미적용) 다. 침해 보호자 등에 대한 조치(교원지위법 제26조) 2023.9.27. 신설\n",
      "① 서면사과 및 재발방지 서약 ② 교육감이 정하는 기관에서의 특별교육 이수 또는 심리치료 4) 피해교원 보호조치 중 보호조치 비용 (교원지위법 제20조 제5항, 2023.9.27.\n",
      "신설) ① 침해행위를 한 학생의 보호자 등이 부담하는 것이 원칙 ② 교원이 도교육청에 치료비 등을 선지급 요청할 경우 도교육청은 비용을 부담한 후 침해자에게 구상권을 행사할 수\n",
      "있음. Ⅲ. 가정에서의 교육활동 침해행위 예방교육 1. 가정교육의 중요성 인식하기: 가정교육은 학교교육의 성패에 중요한 영향을 미치며, 가정교육이 튼튼하지 못하면 학교교육이\n",
      "위험해질 수 있습니다. 학교교육을 통해서 얻을 수 있는 인성교육이나 생활습관 개선, 관계성 교육 등은 가정교육을 통해 내면화하는 것이 필요합니다. 2. 교원과 학부모의 관계\n",
      "재정립하기: 학부모와 학생이 교원과 학교를 신뢰할수록 학생의 전인적 성장이 가속됩니다. 교원의 교육활동을 존중하면 학생의 학습권과 학부모의 교육권이 함께 존중되는 바람직한\n",
      "상호관계가 조성될 수 있습니다. - 41 -\n",
      "metadata:\n",
      " {'source': './data/complex_pdf/school_edu_guide.pdf', 'filetype': 'application/pdf', 'languages':\n",
      "['kor', 'eng'], 'last_modified': '2024-04-04T01:39:24', 'page_number': 43, 'orig_elements': '',\n",
      "'file_directory': './data/complex_pdf', 'filename': 'school_edu_guide.pdf', 'category':\n",
      "'CompositeElement', 'family_tree': 'parent', 'parent_id': None}\n"
     ]
    }
   ],
   "source": [
    "print(\"##################################\")\n",
    "print(\"query: \", query)\n",
    "print(\"##################################\")\n",
    "\n",
    "print (colored(\"\\n\\n### Answer ###\", \"blue\"))\n",
    "print_ww(response)\n",
    "\n",
    "\n",
    "print (colored(\"\\n\\n### Contexts ###\", \"green\"))\n",
    "show_context_used(contexts, limit=10)"
   ]
  },
  {
   "cell_type": "markdown",
   "id": "993c427e-aa41-4c8b-ae00-9dc6dd6c6f7a",
   "metadata": {
    "tags": []
   },
   "source": [
    "### Multi-turn using chat history"
   ]
  },
  {
   "cell_type": "code",
   "execution_count": 253,
   "id": "4ade616d-7ba4-4f19-ad62-3f246204eb2a",
   "metadata": {
    "tags": []
   },
   "outputs": [],
   "source": [
    "from utils.chat import chat_utils\n",
    "from langchain.schema.output_parser import StrOutputParser\n",
    "from langchain_core.prompts import MessagesPlaceholder\n",
    "from langchain_core.prompts import ChatPromptTemplate, HumanMessagePromptTemplate, SystemMessagePromptTemplate"
   ]
  },
  {
   "cell_type": "markdown",
   "id": "2af4d169-9736-4eab-b587-abd650388122",
   "metadata": {
    "tags": []
   },
   "source": [
    "#### Momory setting and Save query and response as chat history"
   ]
  },
  {
   "cell_type": "code",
   "execution_count": 258,
   "id": "2913f43d-d397-4a15-b246-e41d1d81b043",
   "metadata": {
    "tags": []
   },
   "outputs": [],
   "source": [
    "memory = chat_utils.get_memory(\n",
    "    memory_type=\"ConversationBufferMemory\",\n",
    "    memory_key=\"chat_history\"\n",
    ")\n",
    "\n",
    "history = memory.load_memory_variables({})[\"chat_history\"]"
   ]
  },
  {
   "cell_type": "code",
   "execution_count": 259,
   "id": "f5acef41-e2e6-4f92-ba4e-623b1d7f01e1",
   "metadata": {
    "tags": []
   },
   "outputs": [],
   "source": [
    "memory.chat_memory.add_user_message(query)\n",
    "memory.chat_memory.add_ai_message(response)"
   ]
  },
  {
   "cell_type": "code",
   "execution_count": 260,
   "id": "37f70130-f55d-4b40-8d5e-fab19154d17f",
   "metadata": {
    "tags": []
   },
   "outputs": [
    {
     "name": "stdout",
     "output_type": "stream",
     "text": [
      "memory:  [HumanMessage(content='학교에서 정보통신윤리 교육을 실시하는 주요 내용은 무엇인가?'), AIMessage(content='학교에서 정보통신윤리 교육을 실시하는 주요 내용은 다음과 같습니다.\\n\\n1. 방송 시청 및 학습지 활동: 스마트폰 중독의 사례, 유형 및 문제점, 올바른 사용 방법 등을 영상으로 시청하고 학습지를 작성합니다.\\n\\n2. 스마트폰 사용 습관 진단: 학생들이 스마트폰 중독 증상과 유형, 현황 등을 파악하고 자신의 스마트폰 사용 습관을 진단해보며 바른 사용법을 익힙니다. \\n\\n3. 가정통신문 발송: 사이버 폭력 예방과 올바른 인터넷, 스마트폰 사용 방법에 대해 가정통신문을 통해 학부모에게 안내합니다.\\n\\n4. 기타 활동: 토론, 토의, 역할극, 글짓기, 가족·친구 서약식, 거리 캠페인 등 다양한 체험 중심 활동도 실시합니다.\\n\\n정보통신윤리 교육 주간 동안 집중적으로 교육이 이루어지지만, 연중 지속적으로 스마트폰 이용 자율 실천 규칙 운영, 저작권 교육, 인터넷 중독 예방 교육 등도 병행됩니다.')]\n"
     ]
    }
   ],
   "source": [
    "print('memory: ', history)"
   ]
  },
  {
   "cell_type": "markdown",
   "id": "e03a81eb-d431-4393-8ef9-7ee9d159d36e",
   "metadata": {},
   "source": [
    "#### Rephrase quetions based on chat hostory "
   ]
  },
  {
   "cell_type": "code",
   "execution_count": 261,
   "id": "1a9d7221-d5f3-4b3a-904c-623252b84e56",
   "metadata": {
    "tags": []
   },
   "outputs": [],
   "source": [
    "human_prompt = \"\"\"\n",
    "               Here is the question: <question>{question}</question>\n",
    "               Write in Korean.\n",
    "               \"\"\"\n",
    "               \n",
    "system_prompt = prompt_repo.get_contextualize_system_prompt()\n",
    "system_message_template = SystemMessagePromptTemplate.from_template(system_prompt)\n",
    "human_message_template = HumanMessagePromptTemplate.from_template(human_prompt)"
   ]
  },
  {
   "cell_type": "code",
   "execution_count": 262,
   "id": "dd67c58e-df9a-409b-9f2c-20d072fecbb5",
   "metadata": {
    "tags": []
   },
   "outputs": [],
   "source": [
    "contextualize_q_prompt = ChatPromptTemplate.from_messages(\n",
    "    [\n",
    "        system_message_template,\n",
    "        MessagesPlaceholder(\"chat_history\"),\n",
    "        human_message_template\n",
    "    ]\n",
    ")"
   ]
  },
  {
   "cell_type": "code",
   "execution_count": 263,
   "id": "80476aef-af26-43d8-b82e-d21035ba2480",
   "metadata": {
    "tags": []
   },
   "outputs": [],
   "source": [
    "chain = contextualize_q_prompt | llm_text | StrOutputParser()"
   ]
  },
  {
   "cell_type": "code",
   "execution_count": 266,
   "id": "77f57d5c-1e67-4ede-bcd1-cac42784ed0d",
   "metadata": {
    "tags": []
   },
   "outputs": [
    {
     "name": "stdout",
     "output_type": "stream",
     "text": [
      "memory:  [HumanMessage(content='학교에서 정보통신윤리 교육을 실시하는 주요 내용은 무엇인가?'), AIMessage(content='학교에서 정보통신윤리 교육을 실시하는 주요 내용은 다음과 같습니다.\\n\\n1. 방송 시청 및 학습지 활동: 스마트폰 중독의 사례, 유형 및 문제점, 올바른 사용 방법 등을 영상으로 시청하고 학습지를 작성합니다.\\n\\n2. 스마트폰 사용 습관 진단: 학생들이 스마트폰 중독 증상과 유형, 현황 등을 파악하고 자신의 스마트폰 사용 습관을 진단해보며 바른 사용법을 익힙니다. \\n\\n3. 가정통신문 발송: 사이버 폭력 예방과 올바른 인터넷, 스마트폰 사용 방법에 대해 가정통신문을 통해 학부모에게 안내합니다.\\n\\n4. 기타 활동: 토론, 토의, 역할극, 글짓기, 가족·친구 서약식, 거리 캠페인 등 다양한 체험 중심 활동도 실시합니다.\\n\\n정보통신윤리 교육 주간 동안 집중적으로 교육이 이루어지지만, 연중 지속적으로 스마트폰 이용 자율 실천 규칙 운영, 저작권 교육, 인터넷 중독 예방 교육 등도 병행됩니다.')]\n",
      "<result>스마트폰 사용 습관 진단에 대해 자세히 설명하겠습니다. 이 활동에서는 학생들이 스마트폰 중독 자가진단 테스트를 하게 됩니다. 스마트폰 중독 척도에 따라 점수를 매기고 자신의 중독 위험 수준을 확인합니다. 그리고 스마트폰 사용 시간, 사용 패턴 등 자신의 스마트폰 사용 습관을 점검하고 반성해 봅니다. 이를 통해 스마트폰 중독의 위험성과 문제점을 인식하고 개선할 점을 찾아냅니다. 마지막으로 스마트폰 사용 절제 방법, 대안 활동 등 올바른 사용법에 대해 배웁니다.</result>=============\n",
      "revised_question: 스마트폰 사용 습관 진단에 대해 자세히 설명하겠습니다. 이 활동에서는 학생들이 스마트폰 중독 자가진단 테스트를 하게 됩니다. 스마트폰 중독 척도에 따라 점수를 매기고 자신의 중독 위험 수준을 확인합니다. 그리고 스마트폰 사용 시간, 사용 패턴 등 자신의 스마트폰 사용 습관을 점검하고 반성해 봅니다. 이를 통해 스마트폰 중독의 위험성과 문제점을 인식하고 개선할 점을 찾아냅니다. 마지막으로 스마트폰 사용 절제 방법, 대안 활동 등 올바른 사용법에 대해 배웁니다.\n"
     ]
    }
   ],
   "source": [
    "query = \"두번째 내용을 좀 더 자세히 이야기 해줘\"\n",
    "history = memory.load_memory_variables({})[\"chat_history\"]\n",
    "print('memory: ', history)\n",
    "revised_question = chain.invoke(\n",
    "    {\n",
    "        \"chat_history\": history,\n",
    "        \"question\": query,\n",
    "    }\n",
    ")\n",
    "revised_question = revised_question.replace(\"<result>\", \"\").replace(\"</result>\", \"\")\n",
    "print (\"=============\")\n",
    "print (f'revised_question: {revised_question}')"
   ]
  },
  {
   "cell_type": "markdown",
   "id": "333b352b-6d62-4b0c-b083-ac5e8458f59f",
   "metadata": {},
   "source": [
    "#### Repeat QA and save chat history"
   ]
  },
  {
   "cell_type": "code",
   "execution_count": 267,
   "id": "16966868-841d-4ea2-b196-566b8a8726fc",
   "metadata": {
    "tags": []
   },
   "outputs": [
    {
     "name": "stdout",
     "output_type": "stream",
     "text": [
      "교실에 스마트폰 사용 습관 진단 자료를 게시하여, 학생들이 스스로 자신의 스마트폰 사용 습관을 진단해볼 수 있도록 합니다. 진단 자료에는 스마트폰 중독 증상, 중독 유형, 중독 현황 및 실태 등의 정보가 포함됩니다. 학생들은 이를 통해 자신의 스마트폰 사용 습관을 점검하고, 중독 위험 수준을 파악할 수 있습니다. 또한 바른 스마트폰 사용 방법에 대해서도 배우게 됩니다."
     ]
    }
   ],
   "source": [
    "response, contexts = qa.invoke(\n",
    "    query = revised_question,\n",
    "    verbose=False\n",
    ")"
   ]
  },
  {
   "cell_type": "code",
   "execution_count": 268,
   "id": "e1baae7e-aa9f-456b-a455-bf9bea04c12a",
   "metadata": {
    "tags": []
   },
   "outputs": [],
   "source": [
    "memory.chat_memory.add_user_message(query)\n",
    "memory.chat_memory.add_ai_message(response)"
   ]
  },
  {
   "cell_type": "code",
   "execution_count": 269,
   "id": "2db51ac6-1374-42f1-be5e-c4cb9d177b16",
   "metadata": {
    "tags": []
   },
   "outputs": [
    {
     "name": "stdout",
     "output_type": "stream",
     "text": [
      "memory:  [HumanMessage(content='학교에서 정보통신윤리 교육을 실시하는 주요 내용은 무엇인가?'), AIMessage(content='학교에서 정보통신윤리 교육을 실시하는 주요 내용은 다음과 같습니다.\\n\\n1. 방송 시청 및 학습지 활동: 스마트폰 중독의 사례, 유형 및 문제점, 올바른 사용 방법 등을 영상으로 시청하고 학습지를 작성합니다.\\n\\n2. 스마트폰 사용 습관 진단: 학생들이 스마트폰 중독 증상과 유형, 현황 등을 파악하고 자신의 스마트폰 사용 습관을 진단해보며 바른 사용법을 익힙니다. \\n\\n3. 가정통신문 발송: 사이버 폭력 예방과 올바른 인터넷, 스마트폰 사용 방법에 대해 가정통신문을 통해 학부모에게 안내합니다.\\n\\n4. 기타 활동: 토론, 토의, 역할극, 글짓기, 가족·친구 서약식, 거리 캠페인 등 다양한 체험 중심 활동도 실시합니다.\\n\\n정보통신윤리 교육 주간 동안 집중적으로 교육이 이루어지지만, 연중 지속적으로 스마트폰 이용 자율 실천 규칙 운영, 저작권 교육, 인터넷 중독 예방 교육 등도 병행됩니다.'), HumanMessage(content='두번째 내용을 좀 더 자세히 이야기 해줘'), AIMessage(content='교실에 스마트폰 사용 습관 진단 자료를 게시하여, 학생들이 스스로 자신의 스마트폰 사용 습관을 진단해볼 수 있도록 합니다. 진단 자료에는 스마트폰 중독 증상, 중독 유형, 중독 현황 및 실태 등의 정보가 포함됩니다. 학생들은 이를 통해 자신의 스마트폰 사용 습관을 점검하고, 중독 위험 수준을 파악할 수 있습니다. 또한 바른 스마트폰 사용 방법에 대해서도 배우게 됩니다.')]\n"
     ]
    }
   ],
   "source": [
    "print('memory: ', history)"
   ]
  }
 ],
 "metadata": {
  "kernelspec": {
   "display_name": "conda_python3",
   "language": "python",
   "name": "conda_python3"
  },
  "language_info": {
   "codemirror_mode": {
    "name": "ipython",
    "version": 3
   },
   "file_extension": ".py",
   "mimetype": "text/x-python",
   "name": "python",
   "nbconvert_exporter": "python",
   "pygments_lexer": "ipython3",
   "version": "3.10.13"
  }
 },
 "nbformat": 4,
 "nbformat_minor": 5
}
