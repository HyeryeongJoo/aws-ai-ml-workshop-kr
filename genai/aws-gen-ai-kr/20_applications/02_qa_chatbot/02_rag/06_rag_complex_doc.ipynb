{
 "cells": [
  {
   "cell_type": "markdown",
   "id": "5deb2df2-413d-49bd-a829-3a1fc344937e",
   "metadata": {},
   "source": [
    "# RAG over complex Documents\n"
   ]
  },
  {
   "cell_type": "markdown",
   "id": "b1f81abc-3277-4a6b-9ef1-d4f997d67fbe",
   "metadata": {},
   "source": [
    "## Setting\n",
    " - Auto Reload\n",
    " - path for utils"
   ]
  },
  {
   "cell_type": "code",
   "execution_count": 1,
   "id": "ddde4105-b759-4d6c-8214-8e1ab485ae48",
   "metadata": {
    "tags": []
   },
   "outputs": [],
   "source": [
    "%load_ext autoreload\n",
    "%autoreload 2"
   ]
  },
  {
   "cell_type": "code",
   "execution_count": 2,
   "id": "57c2cdb1-d785-4317-afce-938f13141085",
   "metadata": {
    "tags": []
   },
   "outputs": [],
   "source": [
    "import sys, os\n",
    "module_path = \"../../..\"\n",
    "sys.path.append(os.path.abspath(module_path))"
   ]
  },
  {
   "cell_type": "markdown",
   "id": "1e913b68-f9ed-4da7-bc49-4db57f456c91",
   "metadata": {},
   "source": [
    "## 1. Creatr Bedrock client"
   ]
  },
  {
   "cell_type": "code",
   "execution_count": 3,
   "id": "424492cf-401a-486d-9c1e-f2c6617b6e75",
   "metadata": {
    "tags": []
   },
   "outputs": [],
   "source": [
    "import json\n",
    "import boto3\n",
    "from pprint import pprint\n",
    "from termcolor import colored\n",
    "from utils import bedrock, print_ww\n",
    "from utils.bedrock import bedrock_info"
   ]
  },
  {
   "cell_type": "markdown",
   "id": "e841327d-03ff-4a22-8224-91df66e0a943",
   "metadata": {},
   "source": [
    "### ---- ⚠️ Un-comment and edit the below lines as needed for your AWS setup ⚠️ ----\n",
    "- os.environ[\"AWS_DEFAULT_REGION\"] = \"<REGION_NAME>\"  # E.g. \"us-east-1\"\n",
    "- os.environ[\"AWS_PROFILE\"] = \"<YOUR_PROFILE>\"\n",
    "- os.environ[\"BEDROCK_ASSUME_ROLE\"] = \"<YOUR_ROLE_ARN>\"  # E.g. \"arn:aws:...\"\n",
    "- os.environ[\"BEDROCK_ENDPOINT_URL\"] = \"<YOUR_ENDPOINT_URL>\"  # E.g. \"https://...\""
   ]
  },
  {
   "cell_type": "code",
   "execution_count": 4,
   "id": "66a621c0-db5c-4e25-919e-099c2debbf88",
   "metadata": {
    "tags": []
   },
   "outputs": [
    {
     "name": "stdout",
     "output_type": "stream",
     "text": [
      "Create new client\n",
      "  Using region: None\n",
      "  Using profile: None\n",
      "boto3 Bedrock client successfully created!\n",
      "bedrock-runtime(https://bedrock-runtime.us-east-1.amazonaws.com)\n",
      "\u001b[32m\n",
      "== FM lists ==\u001b[0m\n",
      "{'Claude-Instant-V1': 'anthropic.claude-instant-v1',\n",
      " 'Claude-V1': 'anthropic.claude-v1',\n",
      " 'Claude-V2': 'anthropic.claude-v2',\n",
      " 'Claude-V2-1': 'anthropic.claude-v2:1',\n",
      " 'Claude-V3-Haiku': 'anthropic.claude-3-haiku-20240307-v1:0',\n",
      " 'Claude-V3-Sonnet': 'anthropic.claude-3-sonnet-20240229-v1:0',\n",
      " 'Cohere-Embeddings-En': 'cohere.embed-english-v3',\n",
      " 'Cohere-Embeddings-Multilingual': 'cohere.embed-multilingual-v3',\n",
      " 'Command': 'cohere.command-text-v14',\n",
      " 'Command-Light': 'cohere.command-light-text-v14',\n",
      " 'Jurassic-2-Mid': 'ai21.j2-mid-v1',\n",
      " 'Jurassic-2-Ultra': 'ai21.j2-ultra-v1',\n",
      " 'Llama2-13b-Chat': 'meta.llama2-13b-chat-v1',\n",
      " 'Titan-Embeddings-G1': 'amazon.titan-embed-text-v1',\n",
      " 'Titan-Text-G1': 'amazon.titan-text-express-v1',\n",
      " 'Titan-Text-G1-Light': 'amazon.titan-text-lite-v1'}\n"
     ]
    }
   ],
   "source": [
    "boto3_bedrock = bedrock.get_bedrock_client(\n",
    "    assumed_role=os.environ.get(\"BEDROCK_ASSUME_ROLE\", None),\n",
    "    endpoint_url=os.environ.get(\"BEDROCK_ENDPOINT_URL\", None),\n",
    "    region=os.environ.get(\"AWS_DEFAULT_REGION\", None),\n",
    ")\n",
    "\n",
    "print (colored(\"\\n== FM lists ==\", \"green\"))\n",
    "pprint (bedrock_info.get_list_fm_models(verbose=False))"
   ]
  },
  {
   "cell_type": "markdown",
   "id": "c22b84be-91ee-4e22-8ed0-3c23b907172a",
   "metadata": {},
   "source": [
    "## 2. Titan Embedding 및 LLM 인 Claude-v3-sonnet 모델 로딩"
   ]
  },
  {
   "cell_type": "markdown",
   "id": "381aa4d7-0ad8-467b-af4a-c1514e9559d2",
   "metadata": {},
   "source": [
    "### LLM 로딩 (Claude-v3-sonnet)"
   ]
  },
  {
   "cell_type": "code",
   "execution_count": 5,
   "id": "febdbf9e-4ed9-49d2-aaad-6cda6fed1867",
   "metadata": {
    "tags": []
   },
   "outputs": [],
   "source": [
    "from langchain_aws import ChatBedrock\n",
    "from langchain.callbacks.streaming_stdout import StreamingStdOutCallbackHandler"
   ]
  },
  {
   "cell_type": "code",
   "execution_count": 6,
   "id": "bb4edb11-7ef2-4ab4-a36c-bc0f8a5c52a5",
   "metadata": {
    "tags": []
   },
   "outputs": [
    {
     "data": {
      "text/plain": [
       "ChatBedrock(callbacks=[<langchain_core.callbacks.streaming_stdout.StreamingStdOutCallbackHandler object at 0x7f7db6162470>], client=<botocore.client.BedrockRuntime object at 0x7f7db6178f40>, model_id='anthropic.claude-3-sonnet-20240229-v1:0', model_kwargs={'max_tokens': 1024, 'stop_sequences': ['\\n\\nHuman']}, streaming=True)"
      ]
     },
     "execution_count": 6,
     "metadata": {},
     "output_type": "execute_result"
    }
   ],
   "source": [
    "llm_text = ChatBedrock(\n",
    "    model_id=bedrock_info.get_model_id(model_name=\"Claude-V3-Sonnet\"),\n",
    "    client=boto3_bedrock,\n",
    "    streaming=True,\n",
    "    callbacks=[StreamingStdOutCallbackHandler()],\n",
    "    model_kwargs={\n",
    "        \"max_tokens\": 1024,\n",
    "        \"stop_sequences\": [\"\\n\\nHuman\"],\n",
    "        # \"temperature\": 0,\n",
    "        # \"top_k\": 350,\n",
    "        # \"top_p\": 0.999\n",
    "    }\n",
    ")\n",
    "llm_text"
   ]
  },
  {
   "cell_type": "markdown",
   "id": "015716aa-a430-4811-a43b-2aab23c0f731",
   "metadata": {},
   "source": [
    "### Embedding 모델 선택"
   ]
  },
  {
   "cell_type": "code",
   "execution_count": 7,
   "id": "d58da66f-d504-4434-85c4-85ce1cc6439a",
   "metadata": {
    "tags": []
   },
   "outputs": [],
   "source": [
    "from langchain.embeddings import BedrockEmbeddings"
   ]
  },
  {
   "cell_type": "code",
   "execution_count": 8,
   "id": "372e1766-b30a-49ca-bd6d-6615397996a3",
   "metadata": {
    "tags": []
   },
   "outputs": [
    {
     "name": "stdout",
     "output_type": "stream",
     "text": [
      "Bedrock Embeddings Model Loaded\n"
     ]
    }
   ],
   "source": [
    "llm_emb = BedrockEmbeddings(\n",
    "    client=boto3_bedrock,\n",
    "    model_id=bedrock_info.get_model_id(model_name=\"Titan-Embeddings-G1\")\n",
    ")\n",
    "dimension = 1536\n",
    "print(\"Bedrock Embeddings Model Loaded\")"
   ]
  },
  {
   "cell_type": "markdown",
   "id": "460fa49e-170e-4ca3-b3f4-0405e53a9e65",
   "metadata": {},
   "source": [
    "## 3. Depoly ReRanker model (if needed)"
   ]
  },
  {
   "cell_type": "code",
   "execution_count": 9,
   "id": "8825f948-e6a4-4fdd-b820-7d2461331679",
   "metadata": {
    "tags": []
   },
   "outputs": [
    {
     "name": "stdout",
     "output_type": "stream",
     "text": [
      "sagemaker.config INFO - Not applying SDK defaults from location: /etc/xdg/sagemaker/config.yaml\n",
      "sagemaker.config INFO - Not applying SDK defaults from location: /home/ec2-user/.config/sagemaker/config.yaml\n"
     ]
    }
   ],
   "source": [
    "import json\n",
    "import sagemaker\n",
    "from sagemaker.huggingface import HuggingFaceModel"
   ]
  },
  {
   "cell_type": "code",
   "execution_count": 10,
   "id": "22a22b0a-a289-4cc9-94da-70ceaa6c399f",
   "metadata": {
    "tags": []
   },
   "outputs": [],
   "source": [
    "depoly = False"
   ]
  },
  {
   "cell_type": "code",
   "execution_count": 11,
   "id": "ab95ab6d-2521-4e54-8dc6-c30713613c18",
   "metadata": {
    "tags": []
   },
   "outputs": [],
   "source": [
    "if depoly:\n",
    "\n",
    "    try:\n",
    "        role = sagemaker.get_execution_role()\n",
    "    except ValueError:\n",
    "        iam = boto3.client('iam')\n",
    "        role = iam.get_role(RoleName='sagemaker_execution_role')['Role']['Arn']\n",
    "\n",
    "    # Hub Model configuration. https://huggingface.co/models\n",
    "    hub = {\n",
    "        'HF_MODEL_ID':'Dongjin-kr/ko-reranker',\n",
    "        'HF_TASK':'text-classification'\n",
    "    }\n",
    "\n",
    "    # create Hugging Face Model Class\n",
    "    huggingface_model = HuggingFaceModel(\n",
    "        transformers_version='4.26.0',\n",
    "        pytorch_version='1.13.1',\n",
    "        py_version='py39',\n",
    "        env=hub,\n",
    "        role=role, \n",
    "    )\n",
    "\n",
    "    # deploy model to SageMaker Inference\n",
    "    predictor = huggingface_model.deploy(\n",
    "        initial_instance_count=1, # number of instances\n",
    "        instance_type='ml.g5.xlarge' # instance type\n",
    "    )\n",
    "\n",
    "    print(f'Accept: {predictor.accept}')\n",
    "    print(f'ContentType: {predictor.content_type}')\n",
    "    print(f'Endpoint: {predictor.endpoint}')"
   ]
  },
  {
   "cell_type": "markdown",
   "id": "8159075b-f792-49dd-bafa-d35064712f43",
   "metadata": {},
   "source": [
    "#### Save reranker endpoint to Parameter Store"
   ]
  },
  {
   "cell_type": "code",
   "execution_count": 12,
   "id": "94464cdf-469f-4c46-a6ca-d54a714fe0bc",
   "metadata": {
    "tags": []
   },
   "outputs": [],
   "source": [
    "if depoly:\n",
    "\n",
    "    import boto3\n",
    "    from utils.ssm import parameter_store\n",
    "\n",
    "    region=boto3.Session().region_name\n",
    "    pm = parameter_store(region)\n",
    "\n",
    "    pm.put_params(\n",
    "        key=\"reranker_endpoint\",\n",
    "        value=f'{predictor.endpoint}',\n",
    "        overwrite=True,\n",
    "        enc=False\n",
    "    )"
   ]
  },
  {
   "cell_type": "markdown",
   "id": "3bb8a33a-3ec6-466e-b1ba-25b34ddae850",
   "metadata": {},
   "source": [
    "## 4. Invocation (prediction)"
   ]
  },
  {
   "cell_type": "code",
   "execution_count": 13,
   "id": "68b0e072-c49e-4deb-8ffb-01fdc807f30c",
   "metadata": {
    "tags": []
   },
   "outputs": [],
   "source": [
    "from utils.ssm import parameter_store"
   ]
  },
  {
   "cell_type": "code",
   "execution_count": 14,
   "id": "534c3cb5-1a8b-42e6-bf98-24479f5f9506",
   "metadata": {
    "tags": []
   },
   "outputs": [],
   "source": [
    "region=boto3.Session().region_name\n",
    "pm = parameter_store(region)"
   ]
  },
  {
   "cell_type": "code",
   "execution_count": 15,
   "id": "d13eae8d-6e1e-4203-9975-b968d8e87a08",
   "metadata": {
    "tags": []
   },
   "outputs": [
    {
     "name": "stdout",
     "output_type": "stream",
     "text": [
      "runtime_client: <botocore.client.SageMakerRuntime object at 0x7f7d9a1143a0>\n"
     ]
    }
   ],
   "source": [
    "runtime_client = boto3.Session().client('sagemaker-runtime')\n",
    "print (f'runtime_client: {runtime_client}')"
   ]
  },
  {
   "cell_type": "code",
   "execution_count": 16,
   "id": "c360b768-f988-44cd-b3b3-8c7966a4f750",
   "metadata": {
    "tags": []
   },
   "outputs": [],
   "source": [
    "endpoint_name = pm.get_params(\n",
    "    key=\"reranker_endpoint\",\n",
    "    enc=False\n",
    ")\n",
    "deserializer = \"application/json\""
   ]
  },
  {
   "cell_type": "code",
   "execution_count": 17,
   "id": "6d10e73d-8e2d-465f-b62d-93fe9cc10e19",
   "metadata": {
    "tags": []
   },
   "outputs": [],
   "source": [
    "payload = json.dumps(\n",
    "    {\n",
    "        \"inputs\": [\n",
    "            {\"text\": \"I hate you\", \"text_pair\": \"I don't like you\"},\n",
    "            {\"text\": \"He hates you\", \"text_pair\": \"He like you\"}\n",
    "        ]\n",
    "    }\n",
    ")"
   ]
  },
  {
   "cell_type": "code",
   "execution_count": 18,
   "id": "aa7dc3d0-6798-473b-a1c0-fba39fdbc467",
   "metadata": {
    "tags": []
   },
   "outputs": [],
   "source": [
    "payload = json.dumps(\n",
    "    {\n",
    "        \"inputs\": [\n",
    "            {\"text\": \"나는 너를 사랑하지 않아\", \"text_pair\": \"나는 너를 좋아하지 않아\"},\n",
    "            {\"text\": \"그는 너를 싫어해\", \"text_pair\": \"그는 너를 좋아해\"}\n",
    "        ]\n",
    "    }\n",
    ")"
   ]
  },
  {
   "cell_type": "code",
   "execution_count": 19,
   "id": "c71afa63-e158-4ad9-9ce2-46e3a5c263d4",
   "metadata": {
    "tags": []
   },
   "outputs": [
    {
     "name": "stdout",
     "output_type": "stream",
     "text": [
      "Response: [{'label': 'LABEL_0', 'score': 0.9984032511711121}, {'label': 'LABEL_0', 'score': 0.004707992542535067}]\n",
      "CPU times: user 12.7 ms, sys: 1.2 ms, total: 13.9 ms\n",
      "Wall time: 94 ms\n"
     ]
    }
   ],
   "source": [
    "%%time\n",
    "response = runtime_client.invoke_endpoint(\n",
    "    EndpointName=endpoint_name,\n",
    "    ContentType=\"application/json\",\n",
    "    Accept=deserializer,\n",
    "    Body=payload\n",
    ")\n",
    "## deserialization\n",
    "out = json.loads(response['Body'].read().decode()) ## for json\n",
    "print (f'Response: {out}')"
   ]
  },
  {
   "cell_type": "markdown",
   "id": "256786db-df24-47ac-b9a4-f195a8b015f2",
   "metadata": {},
   "source": [
    "## 5. LangChainOpenSearch VectorStore 정의\n",
    "### 선수 조건\n",
    "- 01_preprocess_docs/02_load_docs_opensearch.ipynb를 통해서 OpenSearch Index 가 생성이 되어 있어야 합니다.\n",
    "#### [중요] 아래에 aws parameter store 에 아래 인증정보가 먼저 입력되어 있어야 합니다.\n",
    "- 01_preprocess_docs/01_parameter_store_example.ipynb 참고"
   ]
  },
  {
   "cell_type": "code",
   "execution_count": 20,
   "id": "7464c2d9-5188-4f07-81b9-451c51e028e6",
   "metadata": {
    "tags": []
   },
   "outputs": [],
   "source": [
    "import boto3\n",
    "from utils.ssm import parameter_store"
   ]
  },
  {
   "cell_type": "code",
   "execution_count": 21,
   "id": "b40da258-a9e3-4270-a315-796e507d2ec8",
   "metadata": {
    "tags": []
   },
   "outputs": [],
   "source": [
    "region=boto3.Session().region_name\n",
    "pm = parameter_store(region)"
   ]
  },
  {
   "cell_type": "code",
   "execution_count": 22,
   "id": "0df511f9-a967-4a7f-b463-873a0f4a589a",
   "metadata": {
    "tags": []
   },
   "outputs": [],
   "source": [
    "opensearch_domain_endpoint = pm.get_params(\n",
    "    key=\"opensearch_domain_endpoint\",\n",
    "    enc=False\n",
    ")\n",
    "\n",
    "opensearch_user_id = pm.get_params(\n",
    "    key=\"opensearch_user_id\",\n",
    "    enc=False\n",
    ")\n",
    "\n",
    "opensearch_user_password = pm.get_params(\n",
    "    key=\"opensearch_user_password\",\n",
    "    enc=True\n",
    ")"
   ]
  },
  {
   "cell_type": "code",
   "execution_count": 23,
   "id": "a4ed12f3-77a7-4735-9a09-c7af0d68f6e9",
   "metadata": {
    "tags": []
   },
   "outputs": [],
   "source": [
    "opensearch_domain_endpoint = opensearch_domain_endpoint\n",
    "rag_user_name = opensearch_user_id\n",
    "rag_user_password = opensearch_user_password\n",
    "\n",
    "http_auth = (rag_user_name, rag_user_password) # Master username, Master password"
   ]
  },
  {
   "cell_type": "markdown",
   "id": "1f581678-99cb-4921-a854-eba604765b3b",
   "metadata": {},
   "source": [
    "### Index 이름 셋팅\n",
    "- 이전 노트북 01_preprocess_docs/02_load_docs_opensearch.ipynb를 통해서 생성된 OpenSearch Index name 입력"
   ]
  },
  {
   "cell_type": "code",
   "execution_count": 24,
   "id": "2f215c42-8327-4d60-bb73-3a4e36977d78",
   "metadata": {
    "tags": []
   },
   "outputs": [
    {
     "name": "stdout",
     "output_type": "stream",
     "text": [
      "index_name: summit-workshop-index-unstructured-pymupdf-llama\n"
     ]
    }
   ],
   "source": [
    "index_name = opensearch_user_password = pm.get_params(\n",
    "    key=\"opensearch_index_name\",\n",
    "    enc=True\n",
    ")\n",
    "\n",
    "print (f'index_name: {index_name}')"
   ]
  },
  {
   "cell_type": "code",
   "execution_count": 25,
   "id": "8aecf7e8-4a17-438d-951f-35d1190805a9",
   "metadata": {
    "tags": []
   },
   "outputs": [],
   "source": [
    "index_name = \"summit-workshop-index\""
   ]
  },
  {
   "cell_type": "markdown",
   "id": "ca9624ab-14ff-49a8-b58a-2c9e05def784",
   "metadata": {},
   "source": [
    "### OpenSearch Client 생성"
   ]
  },
  {
   "cell_type": "code",
   "execution_count": 26,
   "id": "61e4c63f-46f3-423e-95f1-4b0d80beaa43",
   "metadata": {
    "tags": []
   },
   "outputs": [],
   "source": [
    "from utils.opensearch import opensearch_utils"
   ]
  },
  {
   "cell_type": "code",
   "execution_count": 27,
   "id": "8812a5e8-3bac-43ed-a7a0-e328c3f84658",
   "metadata": {
    "tags": []
   },
   "outputs": [],
   "source": [
    "aws_region = os.environ.get(\"AWS_DEFAULT_REGION\", None)\n",
    "os_client = opensearch_utils.create_aws_opensearch_client(\n",
    "    aws_region,\n",
    "    opensearch_domain_endpoint,\n",
    "    http_auth\n",
    ")"
   ]
  },
  {
   "cell_type": "markdown",
   "id": "6910e36a-c9b0-4162-9dbb-76b151b09862",
   "metadata": {},
   "source": [
    "## 4. Question Answering\n",
    "- [BedrockChat with claude3](https://medium.com/@dminhk/building-with-anthropics-claude-3-on-amazon-bedrock-and-langchain-%EF%B8%8F-2b842f9c0ca8)"
   ]
  },
  {
   "cell_type": "code",
   "execution_count": 28,
   "id": "4c418f5d-5b26-4c2b-ac88-1e11b8f0d8ac",
   "metadata": {
    "tags": []
   },
   "outputs": [],
   "source": [
    "from utils.rag import qa_chain\n",
    "from utils.rag import prompt_repo, show_context_used\n",
    "from langchain.callbacks.tracers import ConsoleCallbackHandler\n",
    "from utils.rag import retriever_utils, OpenSearchHybridSearchRetriever"
   ]
  },
  {
   "cell_type": "markdown",
   "id": "70cb1747-c239-41a5-8f2a-f5dd9df6263f",
   "metadata": {},
   "source": [
    "### Retriever 정의"
   ]
  },
  {
   "cell_type": "code",
   "execution_count": 29,
   "id": "4244599c-356e-4cd5-8509-d2f034f9ebf9",
   "metadata": {
    "tags": []
   },
   "outputs": [],
   "source": [
    "opensearch_hybrid_retriever = OpenSearchHybridSearchRetriever(\n",
    "    os_client=os_client,\n",
    "    index_name=index_name,\n",
    "    llm_text=llm_text, # llm for query augmentation in both rag_fusion and HyDE\n",
    "    llm_emb=llm_emb, # Used in semantic search based on opensearch \n",
    "\n",
    "    # hybird-search debugger\n",
    "    hybrid_search_debugger = \"lexical\", #[semantic, lexical, None]\n",
    "    \n",
    "    # option for lexical\n",
    "    minimum_should_match=0,\n",
    "    filter=[],\n",
    "\n",
    "    # option for search\n",
    "    fusion_algorithm=\"RRF\", # [\"RRF\", \"simple_weighted\"], rank fusion 방식 정의\n",
    "    ensemble_weights=[.51, .49], # [for semantic, for lexical], Semantic, Lexical search 결과에 대한 최종 반영 비율 정의\n",
    "    reranker=True, # enable reranker with reranker model\n",
    "    reranker_endpoint_name=endpoint_name, # endpoint name for reranking model\n",
    "    parent_document=False, # enable parent document\n",
    "    \n",
    "    # hybird-search debugger\n",
    "    #hybrid_search_debugger = \"semantic\", #[semantic, lexical, None]\n",
    "\n",
    "    #rag_fusion=True, # enable rag_fusion\n",
    "    #query_augmentation_size=2, # query_augmentation_size in rag_fusion\n",
    "    #hyde=False, # enable hyde\n",
    "    #hyde_query=[\"web_search\"], # query type in hyde \n",
    "    \n",
    "    # option for complex documents consisting of text, table and image\n",
    "    complex_doc=True,\n",
    "    \n",
    "    # option for async search\n",
    "    async_mode=True,\n",
    "\n",
    "    # option for output\n",
    "    k=5, # 최종 Document 수 정의\n",
    "    verbose=False,\n",
    ")"
   ]
  },
  {
   "cell_type": "markdown",
   "id": "d9adf603-c028-4076-8c0a-dab5e98ee366",
   "metadata": {},
   "source": [
    "### QA chain 정의"
   ]
  },
  {
   "cell_type": "code",
   "execution_count": 30,
   "id": "4d4f0756-afb7-45dc-aea7-e1f915a20d8d",
   "metadata": {
    "tags": []
   },
   "outputs": [],
   "source": [
    "system_prompt = prompt_repo.get_system_prompt()"
   ]
  },
  {
   "cell_type": "code",
   "execution_count": 31,
   "id": "8c99e6c6-d3e2-4bc3-834d-1fa9e4610a53",
   "metadata": {
    "tags": []
   },
   "outputs": [],
   "source": [
    "qa = qa_chain(\n",
    "    llm_text=llm_text,\n",
    "    retriever=opensearch_hybrid_retriever,\n",
    "    system_prompt=system_prompt,\n",
    "    return_context=True,\n",
    "    verbose=False\n",
    ")"
   ]
  },
  {
   "cell_type": "code",
   "execution_count": 32,
   "id": "c52c5de5-6ec3-4729-bc87-9bb9e82c5b35",
   "metadata": {
    "tags": []
   },
   "outputs": [
    {
     "name": "stdout",
     "output_type": "stream",
     "text": [
      "아동의 4가지 권리는 다음과 같습니다.\n",
      "\n",
      "1. 생존권: 아동이 생명을 유지하고 건강하게 자랄 수 있도록 하는 권리로, 영양가 있는 음식을 먹고 깨끗하고 안전한 환경에서 보호받으며 아플 때 치료받을 수 있는 권리입니다.\n",
      "\n",
      "2. 보호권: 아동이 자신의 몸과 마음을 아프게 하는 모든 해로운 것으로부터 보호받을 권리입니다. \n",
      "\n",
      "3. 발달권: 아동이 자신의 재능과 능력을 펼칠 수 있도록 하고, 여가를 즐길 권리입니다.\n",
      "\n",
      "4. 참여권: 아동이 자신과 관련된 문제에 관하여 의견을 말하고 참여할 권리입니다.\n",
      "-----------------------------------------------\n",
      "1. Category: CompositeElement, Chunk: 883 Characters\n",
      "-----------------------------------------------\n",
      ".goe.go.kr → 전자민원 → 신고 센터 → 공익제보센터→불법찬조금 신고 - 전 화 : 경기도교육청 감사관 031) 820-0852 ○ 안산교육지원청 :\n",
      "www.goeas.kr→ 열린공간 → 사이버신고센터 - 전 화 : 031) 412-4620 ○ 참교육을 위한 전국학부모회 : www.hakbumo.or.kr →학교길라잡이→\n",
      "불법찬조금 ○ 국민신문고 :www.epeople.gr.kr → 민원 16 아동학대 예방 교육 11 “아동은 한 인간으로서 고유한 존재이며, 스스로가 권리의 주체자임을 인식하고 적극\n",
      "적인 참여를 통해 자신의 권리를 온전하게 보장받을 수 있어야 함” (UN아동권리협약) 아동 인권의 보장 22 22 아동의 4가지 권리 생 촌 권 아 동 이 생 명 을 유 지 하 고\n",
      "건 강 하 게 자 랄 수 있 도록 + 동 미 재 능 과 능 력 을 펼 칠 수 있 도록 고 늘 이 와 여 가 를 즐 길 권 리 명 양 가 있 는 음 식 을 먹 고 깨 끗 하 고 안\n",
      "전 한 환 경 메 서 = 보 호 받 으 며 아 플 때 치 료 받 을 수 있 는 권 리 = 보 호 권 마 동 의 몽 과 마 음 을 아 프 게 하 는 마 동 이 자 신과 관 련된 문\n",
      "제에 관 하 여 모 든 해 로 운 것 으 로 부 터 보 호 받 을 권 리 의 견 을 말 하 고 참 여 할 권 리 33 아동학대의 개념 33 보호자를 포함한 성인이 아동의 건강 또는\n",
      "복지를 해치거나 정상적 발달을 저해할 수 있는 신 체적, 정신적, 성적 폭력이나 가혹행위를 하는 것 아동의 보호자가 아동을 유기하거나 방임하는 것 ‘보호자’란 친권자, 후견인,\n",
      "아동을 보호·양육·교육하거나 그러한 의무가 있는 자 또는 업 무· 고용 등의 관계로 사실상 아동을 보호·감독하는 자를 말함 ※「아동복지법」 제3조 44 44 아동학대 유형\n",
      "metadata:\n",
      " {'source': './data/complex_pdf/school_edu_guide.pdf', 'filetype': 'application/pdf', 'languages':\n",
      "['kor', 'eng'], 'last_modified': '2024-04-04T01:39:24', 'page_number': 26, 'orig_elements': '',\n",
      "'file_directory': './data/complex_pdf', 'filename': 'school_edu_guide.pdf', 'category':\n",
      "'CompositeElement', 'family_tree': 'child', 'parent_id': 'a0b99ffb-1cb2-469d-b075-47f520da1086',\n",
      "'id': '6d96d4c0-415b-4d33-9988-23ee68a03fa0'}\n",
      "\n",
      "-----------------------------------------------\n",
      "2. Category: CompositeElement, Chunk: 696 Characters\n",
      "-----------------------------------------------\n",
      ". 경기도 학생인권옹호관 : 경기도 학생인권 조례에 따라 학교에서 발생하는 인권 침해에 대한 상담 및 구제를 위해 마련된 제도 학생인권문제의 상담과 도움 학생인권 보장의 시작:\n",
      "학생인권과 관련하여 궁금한 것이 있으면 언제든지 물어볼 수 있음 학생인권문제에 대해서는 학생과 학부모, 선생님 모두 이용 가능 2. 학생의 권리 차별 받지 않을 권리, 폭력 및\n",
      "위험으로부터의 자유 교육에 과한 권리(학습에 관한 권리, 정규교과 이외의 교육활동의 권리, 휴식을 취할 권리) 사생활의 비밀과 자유를 보장 받을 권리(사생활의 자유, 비밀의\n",
      "보호받을 권리, 정보에 관한 권리) 양심, 종교의 자유에 따른 의사표현의 자유 B9 자치 및 참여의 권리(자치활동의 권리, 학칙 등 학교규정의 재․개정에 참여할 권리, 정책 결정의\n",
      "권리) 복지에 과한 권리(교육환경에 대한 권리, 문화활동을 향유할 권리, 급식 및 건강에 관한 권리) e 3. 학생의 의무 학교 규칙을 준수해야 하는 의무 조례를 악용하여 교사의\n",
      "교육, 연구 활동을 방해하거나 학내 질서를 문란하게 해서는 안 됨 4. 경기도 학생인권조례 기본정신 준수 학생 인권이 교육과정에서 실현될 수 있도록 지향 학생 인권과 교사 교권의\n",
      "상호존중 및 배려 학생의 존엄과 가치 및 자유와 권리 보장 인권교육: 교육과정 내 교과 관련 인권교육 및 학기 당 2시간 이상 운영(연간 4시간) 5. 상록초등학교 학교생활인권규정\n",
      "metadata:\n",
      " {'source': './data/complex_pdf/school_edu_guide.pdf', 'filetype': 'application/pdf', 'languages':\n",
      "['kor', 'eng'], 'last_modified': '2024-04-04T01:39:24', 'page_number': 17, 'orig_elements': '',\n",
      "'file_directory': './data/complex_pdf', 'filename': 'school_edu_guide.pdf', 'category':\n",
      "'CompositeElement', 'family_tree': 'child', 'parent_id': '5de15853-bcd9-412d-ab1a-27b74d5093e5',\n",
      "'id': 'a63b54f9-8f20-4668-ae91-7eb6e068aa6b'}\n",
      "\n",
      "-----------------------------------------------\n",
      "3. Category: CompositeElement, Chunk: 826 Characters\n",
      "-----------------------------------------------\n",
      ". -가정폭력 재발 우려 시 형사절차와 별개로 피해자 또는 법정대리인이 직접 법원에 피 해자보호명령을 청구할 수 있습니다. 경찰 등 수사기관을 거치지 않고 피해자가 직접 가정법원에\n",
      "① 주거 등에서 가해자 격리 ② 주거, 직 장에서 100m 내 접근금지 ③ 전화, 전자 우편 등 접근금지 ④ 친권행사제한을 신청할 수 있습니다 ※ 가해자가 법원의 피해자보호명령을\n",
      "위반할 경우 징역 또는 벌금이 부과될 수 있습니다. -가정폭력으로부터 보호 가능한 지원제도 : 보호시설(쉼터)입소지원, 무료 법류지원(대 한법률구조공단(☎132),\n",
      "한국가정법률상담소(☎1644-7077), 의료지원, 아동 취학지원 , 주민등록 열람제한, 주거지원 a_pw&a 66 66 가정폭력 대처법 아동기의 중요성 인식 - 아동기의\n",
      "가정폭력·아동학대는 아동에게 심각한 스트레스를 주는 사건 으로서 아동의 건강, 발달, 복지에 심각한 영향을 줍니다. 특히 가정폭력 및 아동학대는 세대 간 전이가 될 수 있습니다.\n",
      "연령 별 아동 특성 이해 - 자녀가 가진 능력이나 발달 이상으로 부모의 기대 수준에 맞게 행동해 주기를 원하는데 이처럼 높은 기대는 아동학대의 가능성을 높이는 원인이 되기도\n",
      "합니다. 이에 다 양한 아동 발달에 대한 지식을 습득하도록 노력하여야 합니다. 올바른 자녀양육방법 습득 - 아동을 소유물로 생각하지 않고 아동의 권리를 존중하여 체벌과 훈 육을\n",
      "혼동하지 않도록 해야 합니다. 부모의 스트레스 관리 - 부모들은 자신의 욕구가 충족되지 못하거나 스트레스를 받을 때 아동에 게 그 불만을 터뜨리게 되는 경우가 발생할 수 있으므로\n",
      "적절하게 정서적 욕구불만을 해소할 수 있는 방법을 찾아봅니다. - 29 -\n",
      "metadata:\n",
      " {'source': './data/complex_pdf/school_edu_guide.pdf', 'filetype': 'application/pdf', 'languages':\n",
      "['kor', 'eng'], 'last_modified': '2024-04-04T01:39:24', 'page_number': 29, 'orig_elements': '',\n",
      "'file_directory': './data/complex_pdf', 'filename': 'school_edu_guide.pdf', 'category':\n",
      "'CompositeElement', 'family_tree': 'child', 'parent_id': 'be922a08-4441-4352-b6e4-add8d2b8ef92',\n",
      "'id': 'c4836268-23e2-4aca-ad29-0d3652888c7e'}\n",
      "\n",
      "-----------------------------------------------\n",
      "4. Category: CompositeElement, Chunk: 781 Characters\n",
      "-----------------------------------------------\n",
      "줄 생각이 없으면서 돈을 요구하는 행위 ▪ 옷, 문구류 등을 빌린다며 되돌려주지 않는 행위 ▪ 일부러 물품을 망가뜨리는 행위 ▪ 돈을 걷어오라고 하는 행위 등 ▪ 속칭 빵 셔틀,\n",
      "와이파이 셔틀, 과제대행, 게임대행, 심부름 강요 등 의사에 반하는 행동을 강요하는 행 강요 위 따돌림 성폭력 ▪ 폭행 또는 협박으로 상대방의 권리행사를 방해하거나 해야 할 의무가\n",
      "없는 일을 하게 하는 행위(강요) ▪ 집단적으로 상대방을 의도적이고, 반복적으로 피하는 행위 ▪ 지속적으로 싫어하는 말로 바보취급 등 놀리기, 빈정거림, 면박주기, 겁주는 행동,\n",
      "골탕 먹이기, 비웃기 ▪ 다른 학생들과 어울리지 못하도록 막는 행위 ▪ 상대방에게 폭행과 협박을 하면서 정적 모멸감을 느끼도록 신체적 접촉을 하는 행위 ▪ 성적인 말과 행동을\n",
      "함으로써 상대방이 성적 굴욕감, 수치감을 느끼도록 하는 행위 ➜ 「아동·청소년의 성보호에 관한 법률」에 따라 성폭력에 대해서는 반드시 수사기관에 신고해야 함 ▪ 특정인에 대해\n",
      "모욕적 언사나 욕설 등을 인터넷 게시판,채팅,카페 등에 올리는 행위, 특정인에 대한 ‘저격 글’ 사이버 폭력 ▪ 특정인에 대한 허위 글이나 개인의 사생활에 관한 사실을 인터넷,\n",
      "SNS, 카카오톡 등을 통해 불특정 다 수에 공개하는 행위 ▪ 성적 수치심을 주거나,위협하는 내용, 조롱하는 글, 그림, 동영상 등을 정보통신망을 통해 유포하는 행 위 ▪\n",
      "공포심이나 불안감을 유발하는 문자, 음향, 영상 등을 정보통신망을 통해 반복적으로 보내는 행위 이렇게 예방해요 ➠ 초등학생 학교폭력 피해 유형 중 언어폭력(34\n",
      "metadata:\n",
      " {'source': './data/complex_pdf/school_edu_guide.pdf', 'filetype': 'application/pdf', 'languages':\n",
      "['kor', 'eng'], 'last_modified': '2024-04-04T01:39:24', 'page_number': 36, 'orig_elements': '',\n",
      "'file_directory': './data/complex_pdf', 'filename': 'school_edu_guide.pdf', 'category':\n",
      "'CompositeElement', 'family_tree': 'child', 'parent_id': 'c16e8417-64fc-45ca-abb0-ebd6d96791e0',\n",
      "'id': 'e4eaf511-3dce-45db-8093-79dbe0055a28'}\n",
      "\n",
      "-----------------------------------------------\n",
      "5. Category: CompositeElement, Chunk: 967 Characters\n",
      "-----------------------------------------------\n",
      "□7 성폭력 예방 교육 보건교사 김○혜 1. 아동·청소년 성폭력 현황: 하루 25명 성폭력 피해(2018년도 국감자료) 가 근 간 자 해 령 : 균 해 로 : 저 , 최근 5년간\n",
      "꾸준한 증가 아동 청소년: 남자 피해자 4.1% 피해 연령: 평균 14.6세 은 을 피해 경로: SNS 메신저, 어플리케이션 등이 가장 많은 비중을 차지함. 지 . 성폭력은 아는\n",
      "사람에 의한 경우가 63.3%로 가장 높음 2. 성폭력이란? 성과 관련하여 상대방의 동의 없이 행해지는 모든 신체적, 언어적, 정신적 폭력 3. 자주 발생하는 ‘또래\n",
      "성폭력·성희롱’ 행동은? 가. 야한 말이나 사진, 동영상을 카카오톡, 밴드, SNS로 보냄 이 른 . . 정 유 의 에 해 에 나. 성장이 빠른 친구의 몸에 대해 지속적으로\n",
      "놀리거나 특정 신체 부위에 대해 수시로 언급 서 다. 여학생의 치마 속 등을 휴대폰으로 찍어서 친구들에게 공유 로 급 라. 장난치는 척하면서 슬쩍 가슴이나 상대방의 생식기를 만짐\n",
      "☞ 장난이라고 생각하는 행동들이 성폭력 범죄이며, 가해자 행동임을 자녀들에게 반드시 지도 하여야 합니다. 4. 성폭력·성희롱 예방을 위한 좋은 습관 - ~ Safe! 안 전 하 게\n",
      "친 구 들 과 생 활 하 려 면 ... 평 소 차 신 의 생 각 과 느 낌 을 정 확 하 게 표 현 하 는 습 관 을 가 져 요 . \"“ 좋 으 면 좋 다 ”, “ 싫 으 면 실\n",
      "다 !” 확 실 하 게 표 현 해 요 . - 스 킨 십 을 하 고 싶 다 면 먼 저 허 락 을 구 해 야 해 요 . - 청 적 인 농 담 이 나 놀 이 , 불 필 요 한 신 체 첨\n",
      "촉 은 안 돼 요 . - 여 러 사 람 이 \" 뽀 뽀 해 !'” 등과 같 은 성 적 인 행 동 을 시 키 거 나 강 요 하 면 안 돼 요 . - 친 체 노 출 이 나 성 적 인 행\n",
      "동 을 사 진 찍 공 유 하 거 나 인 터 넷 에 올 리 면 안 돼 요 . I It‘l[)! 피 해 자 가 주 변 에 있 다 면 ..\n",
      "metadata:\n",
      " {'source': './data/complex_pdf/school_edu_guide.pdf', 'filetype': 'application/pdf', 'languages':\n",
      "['kor', 'eng'], 'last_modified': '2024-04-04T01:39:24', 'page_number': 15, 'orig_elements': '',\n",
      "'file_directory': './data/complex_pdf', 'filename': 'school_edu_guide.pdf', 'category':\n",
      "'CompositeElement', 'family_tree': 'child', 'parent_id': '142f2306-8a60-4300-8fb0-a65f62e314c7',\n",
      "'id': '3b9fa741-c869-4167-b359-250629ac5a16'}\n"
     ]
    }
   ],
   "source": [
    "#query = \"감독계획수립 후 현장감독에서 법 위반을 하면 이후 프로세스는?\" ## Image 30\n",
    "#query = \"안전보건표지에서 지시표지의 종류와 용도는?\" ## Table 8\n",
    "#query = \"건강진단 순서를 알려줘\" ## Diagram 15\n",
    "\n",
    "#query = \"수익률 그래프 설명해줘\"\n",
    "#query = \"만기가격이 기준가격의 100% 미만일 때 만기상환금액 계산하는 방법 알려줘\"\n",
    "#query = \"전년 동기 현금 예치금 구성비 알려줘\"\n",
    "#query = \"자산총계 금액 알려줘\"\n",
    "#query = \"대출채권 금액은?\"\n",
    "\n",
    "#query = \"대출채권의 전년동기에 해당하는 구성비는 얼마입니까?\"\n",
    "#query = \"당기손익-공정가치측정유가증권 전년동기의 구성비는?\"\n",
    "\n",
    "query = \"재난 발생 시 대처사항은?\"\n",
    "query = \"학교폭력 처리 과정은?\"\n",
    "#query = \"감염병의 종류와 경로는?\"\n",
    "query = \"홍역에 대한 백신 이름은?\"\n",
    "\n",
    "query = \"부모가 자녀에게 가르쳐야 할 성지식에는 어떤 것이 있나요?\"\n",
    "#query = \"MMR 2차의 예방접종 시기는?\"\n",
    "#query = \"교육목표는?\"\n",
    "#query = \"만기상환금액 알려줘\"\n",
    "query = \"아동의 권리는?\"\n",
    "\n",
    "response, contexts = qa.invoke(\n",
    "    query=query,\n",
    "    verbose=False\n",
    ")\n",
    "\n",
    "show_context_used(contexts)"
   ]
  },
  {
   "cell_type": "markdown",
   "id": "b68e6691-1b5f-4572-a151-6ebcabfe5b34",
   "metadata": {},
   "source": [
    "### Parameter updates"
   ]
  },
  {
   "cell_type": "code",
   "execution_count": null,
   "id": "2e5eef84-5d10-46e2-b0fa-3dcac41084e6",
   "metadata": {
    "tags": []
   },
   "outputs": [],
   "source": [
    "opensearch_hybrid_retriever.update_search_params(\n",
    "    k=7,\n",
    "    minimum_should_match=0,\n",
    "    \n",
    "    # hybird-search debugger\n",
    "    hybrid_search_debugger = \"None\", #[lexical, semantic, None]\n",
    "    \n",
    "    # filter=[\n",
    "    #     {'term': {'metadata.family_tree': 'child'}},\n",
    "    # ],\n",
    "    \n",
    "    reranker=True, # enable reranker with reranker model\n",
    "    reranker_endpoint_name=endpoint_name, # endpoint name for reranking model\n",
    "    parent_document=True, # enable parent document\n",
    "    rag_fusion=False, # enable rag_fusion\n",
    "    #query_augmentation_size=2, # query_augmentation_size in rag_fusion\n",
    "    #hyde=False, # enable hyde\n",
    "    #hyde_query=[\"web_search\"], # query type in hyde \n",
    "    \n",
    "    # option for complex documents consisting of text, table and image\n",
    "    complex_doc=True, # False 이면, invocation시 text만 넣는다. 단, \n",
    "    \n",
    "    ensemble_weights=[0.51, 0.49], #semantic, lexical\n",
    "    verbose=False\n",
    ")"
   ]
  },
  {
   "cell_type": "code",
   "execution_count": null,
   "id": "c317afb2-db7a-46c3-94c8-1b1418ca879d",
   "metadata": {
    "tags": []
   },
   "outputs": [],
   "source": [
    "#query = \"감독계획수립 후 현장감독에서 법 위반을 하면 이후 프로세스는?\" ## Image 30\n",
    "#query = \"안전보건표지에서 지시표지의 종류와 용도는?\" ## Table 8\n",
    "#query = \"건강진단 순서를 알려줘\" ## Diagram 15\n",
    "\n",
    "##\n",
    "query = \"학기 초에 어린이 납치 예방 방법은?\" # semantic o, lexical x\n",
    "query = \"차 흡연 옷. 벽면에 붙은 연기로 인한 피해?\" # semantic o, lexical x\n",
    "query = \"교육목표는?\"\n",
    "#query = \"수익률 그래프 설명해줘\"\n",
    "query = \"감염병의 종류와 경로는?\"\n",
    "query = \"학교폭력 유형의 개수와 종류 알려줘\"\n",
    "query = \"응급처치 방법에 대해서 알려줘\"\n",
    "query = \"차 밑에서 물건을 꺼내는 아이는 누가 도와줘야 해?\"\n",
    "query = \"공사장 근처에서 노는 아이는 누가 도와줘야 해?\"\n",
    "query = \"학교에서 정보통신윤리 교육을 실시하는 주요 내용은 무엇인가?\"\n",
    "#query = \"중지된 경우 이체\"\n"
   ]
  },
  {
   "cell_type": "code",
   "execution_count": null,
   "id": "3b5834ab-a54b-42df-82e4-7f0d5f6e11ea",
   "metadata": {
    "tags": []
   },
   "outputs": [],
   "source": [
    "response, contexts = qa.invoke(\n",
    "    query = query,\n",
    "    verbose=False\n",
    ")"
   ]
  },
  {
   "cell_type": "code",
   "execution_count": null,
   "id": "503ff0f5-5b44-4e74-9c84-85fb32f01edd",
   "metadata": {
    "tags": []
   },
   "outputs": [],
   "source": [
    "query"
   ]
  },
  {
   "cell_type": "code",
   "execution_count": null,
   "id": "06b55ff4-97a8-4c82-8c71-993ff143689f",
   "metadata": {
    "tags": []
   },
   "outputs": [],
   "source": [
    "response"
   ]
  },
  {
   "cell_type": "code",
   "execution_count": null,
   "id": "7589172a-c6de-42ec-8119-fa3011ecd730",
   "metadata": {
    "tags": []
   },
   "outputs": [],
   "source": [
    "print(\"##################################\")\n",
    "print(\"query: \", query)\n",
    "print(\"##################################\")\n",
    "\n",
    "print (colored(\"\\n\\n### Answer ###\", \"blue\"))\n",
    "print_ww(response)\n",
    "\n",
    "\n",
    "print (colored(\"\\n\\n### Contexts ###\", \"green\"))\n",
    "show_context_used(contexts, limit=10)"
   ]
  },
  {
   "cell_type": "markdown",
   "id": "993c427e-aa41-4c8b-ae00-9dc6dd6c6f7a",
   "metadata": {
    "tags": []
   },
   "source": [
    "### Multi-turn using chat history"
   ]
  },
  {
   "cell_type": "code",
   "execution_count": null,
   "id": "4ade616d-7ba4-4f19-ad62-3f246204eb2a",
   "metadata": {
    "tags": []
   },
   "outputs": [],
   "source": [
    "from utils.chat import chat_utils\n",
    "from langchain.schema.output_parser import StrOutputParser\n",
    "from langchain_core.prompts import MessagesPlaceholder\n",
    "from langchain_core.prompts import ChatPromptTemplate, HumanMessagePromptTemplate, SystemMessagePromptTemplate"
   ]
  },
  {
   "cell_type": "markdown",
   "id": "2af4d169-9736-4eab-b587-abd650388122",
   "metadata": {
    "tags": []
   },
   "source": [
    "#### Momory setting and Save query and response as chat history"
   ]
  },
  {
   "cell_type": "code",
   "execution_count": null,
   "id": "2913f43d-d397-4a15-b246-e41d1d81b043",
   "metadata": {
    "tags": []
   },
   "outputs": [],
   "source": [
    "memory = chat_utils.get_memory(\n",
    "    memory_type=\"ConversationBufferMemory\",\n",
    "    memory_key=\"chat_history\"\n",
    ")\n",
    "\n",
    "history = memory.load_memory_variables({})[\"chat_history\"]"
   ]
  },
  {
   "cell_type": "code",
   "execution_count": null,
   "id": "f5acef41-e2e6-4f92-ba4e-623b1d7f01e1",
   "metadata": {
    "tags": []
   },
   "outputs": [],
   "source": [
    "memory.chat_memory.add_user_message(query)\n",
    "memory.chat_memory.add_ai_message(response)"
   ]
  },
  {
   "cell_type": "code",
   "execution_count": null,
   "id": "37f70130-f55d-4b40-8d5e-fab19154d17f",
   "metadata": {
    "tags": []
   },
   "outputs": [],
   "source": [
    "print('memory: ', history)"
   ]
  },
  {
   "cell_type": "markdown",
   "id": "e03a81eb-d431-4393-8ef9-7ee9d159d36e",
   "metadata": {},
   "source": [
    "#### Rephrase quetions based on chat hostory "
   ]
  },
  {
   "cell_type": "code",
   "execution_count": null,
   "id": "1a9d7221-d5f3-4b3a-904c-623252b84e56",
   "metadata": {
    "tags": []
   },
   "outputs": [],
   "source": [
    "human_prompt = \"\"\"\n",
    "               Here is the question: <question>{question}</question>\n",
    "               Write in Korean.\n",
    "               \"\"\"\n",
    "               \n",
    "system_prompt = prompt_repo.get_contextualize_system_prompt()\n",
    "system_message_template = SystemMessagePromptTemplate.from_template(system_prompt)\n",
    "human_message_template = HumanMessagePromptTemplate.from_template(human_prompt)"
   ]
  },
  {
   "cell_type": "code",
   "execution_count": null,
   "id": "dd67c58e-df9a-409b-9f2c-20d072fecbb5",
   "metadata": {
    "tags": []
   },
   "outputs": [],
   "source": [
    "contextualize_q_prompt = ChatPromptTemplate.from_messages(\n",
    "    [\n",
    "        system_message_template,\n",
    "        MessagesPlaceholder(\"chat_history\"),\n",
    "        human_message_template\n",
    "    ]\n",
    ")"
   ]
  },
  {
   "cell_type": "code",
   "execution_count": null,
   "id": "80476aef-af26-43d8-b82e-d21035ba2480",
   "metadata": {
    "tags": []
   },
   "outputs": [],
   "source": [
    "chain = contextualize_q_prompt | llm_text | StrOutputParser()"
   ]
  },
  {
   "cell_type": "code",
   "execution_count": null,
   "id": "77f57d5c-1e67-4ede-bcd1-cac42784ed0d",
   "metadata": {
    "tags": []
   },
   "outputs": [],
   "source": [
    "query = \"첫 번째 답에서 각 사례, 유형은 뭐가 있어?\"\n",
    "history = memory.load_memory_variables({})[\"chat_history\"]\n",
    "print('memory: ', history)\n",
    "revised_question = chain.invoke(\n",
    "    {\n",
    "        \"chat_history\": history,\n",
    "        \"question\": query,\n",
    "    }\n",
    ")\n",
    "revised_question = revised_question.replace(\"<result>\", \"\").replace(\"</result>\", \"\")\n",
    "print (\"=============\")\n",
    "print (f'revised_question: {revised_question}')"
   ]
  },
  {
   "cell_type": "code",
   "execution_count": null,
   "id": "1d31c8a4-5f2e-4419-989b-551b4d690e34",
   "metadata": {
    "tags": []
   },
   "outputs": [],
   "source": [
    "print (f'revised_question: {revised_question}')"
   ]
  },
  {
   "cell_type": "markdown",
   "id": "333b352b-6d62-4b0c-b083-ac5e8458f59f",
   "metadata": {},
   "source": [
    "#### Repeat QA and save chat history"
   ]
  },
  {
   "cell_type": "code",
   "execution_count": null,
   "id": "16966868-841d-4ea2-b196-566b8a8726fc",
   "metadata": {
    "tags": []
   },
   "outputs": [],
   "source": [
    "response, contexts = qa.invoke(\n",
    "    query = revised_question,\n",
    "    verbose=False\n",
    ")"
   ]
  },
  {
   "cell_type": "code",
   "execution_count": null,
   "id": "e1baae7e-aa9f-456b-a455-bf9bea04c12a",
   "metadata": {
    "tags": []
   },
   "outputs": [],
   "source": [
    "memory.chat_memory.add_user_message(query)\n",
    "memory.chat_memory.add_ai_message(response)"
   ]
  },
  {
   "cell_type": "code",
   "execution_count": null,
   "id": "2db51ac6-1374-42f1-be5e-c4cb9d177b16",
   "metadata": {
    "tags": []
   },
   "outputs": [],
   "source": [
    "print('memory: ', history)"
   ]
  },
  {
   "cell_type": "code",
   "execution_count": null,
   "id": "c194eca7-a024-4309-81d1-3e8f02da643e",
   "metadata": {},
   "outputs": [],
   "source": []
  }
 ],
 "metadata": {
  "kernelspec": {
   "display_name": "conda_python3",
   "language": "python",
   "name": "conda_python3"
  },
  "language_info": {
   "codemirror_mode": {
    "name": "ipython",
    "version": 3
   },
   "file_extension": ".py",
   "mimetype": "text/x-python",
   "name": "python",
   "nbconvert_exporter": "python",
   "pygments_lexer": "ipython3",
   "version": "3.10.13"
  }
 },
 "nbformat": 4,
 "nbformat_minor": 5
}
