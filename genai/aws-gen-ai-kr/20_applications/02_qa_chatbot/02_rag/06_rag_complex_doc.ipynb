{
 "cells": [
  {
   "cell_type": "markdown",
   "id": "5deb2df2-413d-49bd-a829-3a1fc344937e",
   "metadata": {},
   "source": [
    "# RAG over complex Documents\n"
   ]
  },
  {
   "cell_type": "markdown",
   "id": "b1f81abc-3277-4a6b-9ef1-d4f997d67fbe",
   "metadata": {},
   "source": [
    "## Setting\n",
    " - Auto Reload\n",
    " - path for utils"
   ]
  },
  {
   "cell_type": "code",
   "execution_count": 1,
   "id": "ddde4105-b759-4d6c-8214-8e1ab485ae48",
   "metadata": {
    "tags": []
   },
   "outputs": [],
   "source": [
    "%load_ext autoreload\n",
    "%autoreload 2"
   ]
  },
  {
   "cell_type": "code",
   "execution_count": 2,
   "id": "57c2cdb1-d785-4317-afce-938f13141085",
   "metadata": {
    "tags": []
   },
   "outputs": [],
   "source": [
    "import sys, os\n",
    "module_path = \"../../..\"\n",
    "sys.path.append(os.path.abspath(module_path))"
   ]
  },
  {
   "cell_type": "markdown",
   "id": "1e913b68-f9ed-4da7-bc49-4db57f456c91",
   "metadata": {},
   "source": [
    "## 1. Creatr Bedrock client"
   ]
  },
  {
   "cell_type": "code",
   "execution_count": 3,
   "id": "424492cf-401a-486d-9c1e-f2c6617b6e75",
   "metadata": {
    "tags": []
   },
   "outputs": [],
   "source": [
    "import json\n",
    "import boto3\n",
    "from pprint import pprint\n",
    "from termcolor import colored\n",
    "from utils import bedrock, print_ww\n",
    "from utils.bedrock import bedrock_info"
   ]
  },
  {
   "cell_type": "markdown",
   "id": "e841327d-03ff-4a22-8224-91df66e0a943",
   "metadata": {},
   "source": [
    "### ---- ⚠️ Un-comment and edit the below lines as needed for your AWS setup ⚠️ ----\n",
    "- os.environ[\"AWS_DEFAULT_REGION\"] = \"<REGION_NAME>\"  # E.g. \"us-east-1\"\n",
    "- os.environ[\"AWS_PROFILE\"] = \"<YOUR_PROFILE>\"\n",
    "- os.environ[\"BEDROCK_ASSUME_ROLE\"] = \"<YOUR_ROLE_ARN>\"  # E.g. \"arn:aws:...\"\n",
    "- os.environ[\"BEDROCK_ENDPOINT_URL\"] = \"<YOUR_ENDPOINT_URL>\"  # E.g. \"https://...\""
   ]
  },
  {
   "cell_type": "code",
   "execution_count": 4,
   "id": "66a621c0-db5c-4e25-919e-099c2debbf88",
   "metadata": {
    "tags": []
   },
   "outputs": [
    {
     "name": "stdout",
     "output_type": "stream",
     "text": [
      "Create new client\n",
      "  Using region: None\n",
      "  Using profile: None\n",
      "boto3 Bedrock client successfully created!\n",
      "bedrock-runtime(https://bedrock-runtime.us-east-1.amazonaws.com)\n",
      "\u001b[32m\n",
      "== FM lists ==\u001b[0m\n",
      "{'Claude-Instant-V1': 'anthropic.claude-instant-v1',\n",
      " 'Claude-V1': 'anthropic.claude-v1',\n",
      " 'Claude-V2': 'anthropic.claude-v2',\n",
      " 'Claude-V2-1': 'anthropic.claude-v2:1',\n",
      " 'Claude-V3-Haiku': 'anthropic.claude-3-haiku-20240307-v1:0',\n",
      " 'Claude-V3-Sonnet': 'anthropic.claude-3-sonnet-20240229-v1:0',\n",
      " 'Cohere-Embeddings-En': 'cohere.embed-english-v3',\n",
      " 'Cohere-Embeddings-Multilingual': 'cohere.embed-multilingual-v3',\n",
      " 'Command': 'cohere.command-text-v14',\n",
      " 'Command-Light': 'cohere.command-light-text-v14',\n",
      " 'Jurassic-2-Mid': 'ai21.j2-mid-v1',\n",
      " 'Jurassic-2-Ultra': 'ai21.j2-ultra-v1',\n",
      " 'Llama2-13b-Chat': 'meta.llama2-13b-chat-v1',\n",
      " 'Titan-Embeddings-G1': 'amazon.titan-embed-text-v1',\n",
      " 'Titan-Text-G1': 'amazon.titan-text-express-v1',\n",
      " 'Titan-Text-G1-Light': 'amazon.titan-text-lite-v1'}\n"
     ]
    }
   ],
   "source": [
    "boto3_bedrock = bedrock.get_bedrock_client(\n",
    "    assumed_role=os.environ.get(\"BEDROCK_ASSUME_ROLE\", None),\n",
    "    endpoint_url=os.environ.get(\"BEDROCK_ENDPOINT_URL\", None),\n",
    "    region=os.environ.get(\"AWS_DEFAULT_REGION\", None),\n",
    ")\n",
    "\n",
    "print (colored(\"\\n== FM lists ==\", \"green\"))\n",
    "pprint (bedrock_info.get_list_fm_models(verbose=False))"
   ]
  },
  {
   "cell_type": "markdown",
   "id": "c22b84be-91ee-4e22-8ed0-3c23b907172a",
   "metadata": {},
   "source": [
    "## 2. Titan Embedding 및 LLM 인 Claude-v3-sonnet 모델 로딩"
   ]
  },
  {
   "cell_type": "markdown",
   "id": "381aa4d7-0ad8-467b-af4a-c1514e9559d2",
   "metadata": {},
   "source": [
    "### LLM 로딩 (Claude-v3-sonnet)"
   ]
  },
  {
   "cell_type": "code",
   "execution_count": 5,
   "id": "febdbf9e-4ed9-49d2-aaad-6cda6fed1867",
   "metadata": {
    "tags": []
   },
   "outputs": [],
   "source": [
    "from langchain_community.chat_models import BedrockChat\n",
    "from langchain.callbacks.streaming_stdout import StreamingStdOutCallbackHandler"
   ]
  },
  {
   "cell_type": "code",
   "execution_count": 6,
   "id": "bb4edb11-7ef2-4ab4-a36c-bc0f8a5c52a5",
   "metadata": {
    "tags": []
   },
   "outputs": [
    {
     "data": {
      "text/plain": [
       "BedrockChat(client=<botocore.client.BedrockRuntime object at 0x7f76082261d0>, model_id='anthropic.claude-3-sonnet-20240229-v1:0', model_kwargs={'max_tokens': 1024, 'stop_sequences': ['\\n\\nHuman']}, streaming=True, callbacks=[<langchain_core.callbacks.streaming_stdout.StreamingStdOutCallbackHandler object at 0x7f760040b700>])"
      ]
     },
     "execution_count": 6,
     "metadata": {},
     "output_type": "execute_result"
    }
   ],
   "source": [
    "llm_text = BedrockChat(\n",
    "    model_id=bedrock_info.get_model_id(model_name=\"Claude-V3-Sonnet\"),\n",
    "    client=boto3_bedrock,\n",
    "    streaming=True,\n",
    "    callbacks=[StreamingStdOutCallbackHandler()],\n",
    "    model_kwargs={\n",
    "        \"max_tokens\": 1024,\n",
    "        \"stop_sequences\": [\"\\n\\nHuman\"],\n",
    "        # \"temperature\": 0,\n",
    "        # \"top_k\": 350,\n",
    "        # \"top_p\": 0.999\n",
    "    }\n",
    ")\n",
    "llm_text"
   ]
  },
  {
   "cell_type": "markdown",
   "id": "015716aa-a430-4811-a43b-2aab23c0f731",
   "metadata": {},
   "source": [
    "### Embedding 모델 선택"
   ]
  },
  {
   "cell_type": "code",
   "execution_count": 7,
   "id": "d58da66f-d504-4434-85c4-85ce1cc6439a",
   "metadata": {
    "tags": []
   },
   "outputs": [],
   "source": [
    "from langchain.embeddings import BedrockEmbeddings"
   ]
  },
  {
   "cell_type": "code",
   "execution_count": 8,
   "id": "372e1766-b30a-49ca-bd6d-6615397996a3",
   "metadata": {
    "tags": []
   },
   "outputs": [
    {
     "name": "stdout",
     "output_type": "stream",
     "text": [
      "Bedrock Embeddings Model Loaded\n"
     ]
    }
   ],
   "source": [
    "llm_emb = BedrockEmbeddings(\n",
    "    client=boto3_bedrock,\n",
    "    model_id=bedrock_info.get_model_id(model_name=\"Titan-Embeddings-G1\")\n",
    ")\n",
    "dimension = 1536\n",
    "print(\"Bedrock Embeddings Model Loaded\")"
   ]
  },
  {
   "cell_type": "markdown",
   "id": "256786db-df24-47ac-b9a4-f195a8b015f2",
   "metadata": {},
   "source": [
    "## 3. LangChainOpenSearch VectorStore 정의\n",
    "### 선수 조건\n",
    "- 01_preprocess_docs/02_load_docs_opensearch.ipynb를 통해서 OpenSearch Index 가 생성이 되어 있어야 합니다.\n",
    "#### [중요] 아래에 aws parameter store 에 아래 인증정보가 먼저 입력되어 있어야 합니다.\n",
    "- 01_preprocess_docs/01_parameter_store_example.ipynb 참고"
   ]
  },
  {
   "cell_type": "code",
   "execution_count": 9,
   "id": "7464c2d9-5188-4f07-81b9-451c51e028e6",
   "metadata": {
    "tags": []
   },
   "outputs": [],
   "source": [
    "import boto3\n",
    "from utils.ssm import parameter_store"
   ]
  },
  {
   "cell_type": "code",
   "execution_count": 10,
   "id": "b40da258-a9e3-4270-a315-796e507d2ec8",
   "metadata": {
    "tags": []
   },
   "outputs": [],
   "source": [
    "region=boto3.Session().region_name\n",
    "pm = parameter_store(region)"
   ]
  },
  {
   "cell_type": "code",
   "execution_count": 11,
   "id": "0df511f9-a967-4a7f-b463-873a0f4a589a",
   "metadata": {
    "tags": []
   },
   "outputs": [],
   "source": [
    "opensearch_domain_endpoint = pm.get_params(\n",
    "    key=\"opensearch_domain_endpoint\",\n",
    "    enc=False\n",
    ")\n",
    "\n",
    "opensearch_user_id = pm.get_params(\n",
    "    key=\"opensearch_user_id\",\n",
    "    enc=False\n",
    ")\n",
    "\n",
    "opensearch_user_password = pm.get_params(\n",
    "    key=\"opensearch_user_password\",\n",
    "    enc=True\n",
    ")"
   ]
  },
  {
   "cell_type": "code",
   "execution_count": 12,
   "id": "a4ed12f3-77a7-4735-9a09-c7af0d68f6e9",
   "metadata": {
    "tags": []
   },
   "outputs": [],
   "source": [
    "opensearch_domain_endpoint = opensearch_domain_endpoint\n",
    "rag_user_name = opensearch_user_id\n",
    "rag_user_password = opensearch_user_password\n",
    "\n",
    "http_auth = (rag_user_name, rag_user_password) # Master username, Master password"
   ]
  },
  {
   "cell_type": "markdown",
   "id": "1f581678-99cb-4921-a854-eba604765b3b",
   "metadata": {},
   "source": [
    "### Index 이름 셋팅\n",
    "- 이전 노트북 01_preprocess_docs/02_load_docs_opensearch.ipynb를 통해서 생성된 OpenSearch Index name 입력"
   ]
  },
  {
   "cell_type": "code",
   "execution_count": 13,
   "id": "2f215c42-8327-4d60-bb73-3a4e36977d78",
   "metadata": {
    "tags": []
   },
   "outputs": [
    {
     "name": "stdout",
     "output_type": "stream",
     "text": [
      "index_name: v02-genai-poc-parent-doc-retriever\n"
     ]
    }
   ],
   "source": [
    "index_name = opensearch_user_password = pm.get_params(\n",
    "    key=\"opensearch_index_name\",\n",
    "    enc=True\n",
    ")\n",
    "\n",
    "print (f'index_name: {index_name}')"
   ]
  },
  {
   "cell_type": "markdown",
   "id": "ca9624ab-14ff-49a8-b58a-2c9e05def784",
   "metadata": {},
   "source": [
    "### OpenSearch Client 생성"
   ]
  },
  {
   "cell_type": "code",
   "execution_count": 14,
   "id": "61e4c63f-46f3-423e-95f1-4b0d80beaa43",
   "metadata": {
    "tags": []
   },
   "outputs": [],
   "source": [
    "from utils.opensearch import opensearch_utils"
   ]
  },
  {
   "cell_type": "code",
   "execution_count": 15,
   "id": "8812a5e8-3bac-43ed-a7a0-e328c3f84658",
   "metadata": {
    "tags": []
   },
   "outputs": [],
   "source": [
    "aws_region = os.environ.get(\"AWS_DEFAULT_REGION\", None)\n",
    "os_client = opensearch_utils.create_aws_opensearch_client(\n",
    "    aws_region,\n",
    "    opensearch_domain_endpoint,\n",
    "    http_auth\n",
    ")"
   ]
  },
  {
   "cell_type": "markdown",
   "id": "6910e36a-c9b0-4162-9dbb-76b151b09862",
   "metadata": {},
   "source": [
    "## 4. Question Answering\n",
    "- [BedrockChat with claude3](https://medium.com/@dminhk/building-with-anthropics-claude-3-on-amazon-bedrock-and-langchain-%EF%B8%8F-2b842f9c0ca8)"
   ]
  },
  {
   "cell_type": "code",
   "execution_count": 16,
   "id": "4c418f5d-5b26-4c2b-ac88-1e11b8f0d8ac",
   "metadata": {
    "tags": []
   },
   "outputs": [],
   "source": [
    "from utils.rag import qa_chain\n",
    "from utils.rag import prompt_repo, show_context_used\n",
    "from langchain.callbacks.tracers import ConsoleCallbackHandler\n",
    "from utils.rag import retriever_utils, OpenSearchHybridSearchRetriever"
   ]
  },
  {
   "cell_type": "markdown",
   "id": "70cb1747-c239-41a5-8f2a-f5dd9df6263f",
   "metadata": {},
   "source": [
    "### Retriever 정의"
   ]
  },
  {
   "cell_type": "code",
   "execution_count": 17,
   "id": "4244599c-356e-4cd5-8509-d2f034f9ebf9",
   "metadata": {
    "tags": []
   },
   "outputs": [],
   "source": [
    "opensearch_hybrid_retriever = OpenSearchHybridSearchRetriever(\n",
    "    os_client=os_client,\n",
    "    index_name=index_name,\n",
    "    llm_text=llm_text, # llm for query augmentation in both rag_fusion and HyDE\n",
    "    llm_emb=llm_emb, # Used in semantic search based on opensearch \n",
    "\n",
    "    # option for lexical\n",
    "    minimum_should_match=0,\n",
    "    filter=[],\n",
    "\n",
    "    # option for search\n",
    "    fusion_algorithm=\"RRF\", # [\"RRF\", \"simple_weighted\"], rank fusion 방식 정의\n",
    "    ensemble_weights=[.51, .49], # [for semantic, for lexical], Semantic, Lexical search 결과에 대한 최종 반영 비율 정의\n",
    "    reranker=False, # enable reranker with reranker model\n",
    "    #reranker_endpoint_name=endpoint_name, # endpoint name for reranking model\n",
    "    parent_document = False, # enable parent document\n",
    "    \n",
    "    # option for complex documents consisting of text, table and image\n",
    "    complex_doc=True,\n",
    "    \n",
    "    # option for async search\n",
    "    async_mode=True,\n",
    "\n",
    "    # option for output\n",
    "    k=5, # 최종 Document 수 정의\n",
    "    verbose=False,\n",
    ")"
   ]
  },
  {
   "cell_type": "markdown",
   "id": "d9adf603-c028-4076-8c0a-dab5e98ee366",
   "metadata": {},
   "source": [
    "### QA chain 정의"
   ]
  },
  {
   "cell_type": "code",
   "execution_count": 18,
   "id": "4d4f0756-afb7-45dc-aea7-e1f915a20d8d",
   "metadata": {
    "tags": []
   },
   "outputs": [],
   "source": [
    "system_prompt = prompt_repo.get_system_prompt()"
   ]
  },
  {
   "cell_type": "code",
   "execution_count": 19,
   "id": "8c99e6c6-d3e2-4bc3-834d-1fa9e4610a53",
   "metadata": {
    "tags": []
   },
   "outputs": [],
   "source": [
    "qa = qa_chain(\n",
    "    llm_text=llm_text,\n",
    "    retriever=opensearch_hybrid_retriever,\n",
    "    system_prompt=system_prompt,\n",
    "    return_context=True,\n",
    "    verbose=True\n",
    ")"
   ]
  },
  {
   "cell_type": "code",
   "execution_count": 20,
   "id": "c52c5de5-6ec3-4729-bc87-9bb9e82c5b35",
   "metadata": {
    "tags": []
   },
   "outputs": [
    {
     "name": "stdout",
     "output_type": "stream",
     "text": [
      "죄송합니다. 주어진 맥락에서 수익률 그래프에 대한 설명을 찾을 수 없습니다. 대신 Knox Asset Intelligence 대시보드의 여러 타일과 그래프에 대한 설명이 있습니다. 수익률과 관련된 내용이 없어 해당 질문에 대한 관련 정보를 제공할 수 없습니다.\n",
      "-----------------------------------------------\n",
      "1. Chunk: 4047 Characters\n",
      "-----------------------------------------------\n",
      ". Can view data for Today, Yesterday, or Last 7, 14, 30, or 60 days. KSP Knox Service Plugin Real-\n",
      "time Can only view data for Today. Location Location status Real-time Can only view data for Today.\n",
      "Security Warranty bit Real-time Can only view data for Today. Dashboard tiles explained Whether\n",
      "you're viewing the main Knox Asset Intelligence Dashboard, or one of the sub-dashboards for Network,\n",
      "App, or Battery insights, each tile generally consist of the following components: 1. The main data\n",
      "set displaying a table or chart of the insight's top issues or events. 2. An option to view expanded\n",
      "data insights or settings. 3. A notification section that lets you know when data thresholds are\n",
      "reached, as well as other important information related to your insight. See Dashboard settings:\n",
      "Thresholds for more information. 4. A date and time stamp for the last update, and a manual refresh\n",
      "button to request new data. See Data refresh rates to learn more. Some dashboard tiles - like Device\n",
      "statuses and App type - do not provide expanded or drill-down views of the data. #Main tile view\n",
      "Most dashboard tiles display their key data insights in the form of charts, tables, or lists. Some\n",
      "tiles like the Apps with most issues provide both a chart and a list to provide greater detail into\n",
      "the insight. Just below the main data set, you might see alerts, notifications, or other important\n",
      "information related to your insight. Some dashboard insights display notifications when critical\n",
      "event thresholds are reached (for example, when apps use more than 100MB of mobile data per day),\n",
      "while others display the top issue, app, or group contributing to the insight (for example, which is\n",
      "the most used app across your entire fleet). Near the bottom-right corner of each tile, you'll see\n",
      "the last date and time data got refreshed. Some tiles like Today's issues allow you to refresh data\n",
      "on demand. If a tile has a Refresh icon next to the timestamp, you can click the icon to request the\n",
      "latest data from the server. #Expanded view To help you analyze critical issues in greater detail,\n",
      "most Dashboard tiles provide an _expanded_ view of the data set. To see an insight's expanded view,\n",
      "click the > button near to top-right corner of the tile. Depending on the insight, some expanded\n",
      "views include a chart of the most critical issues near the top of the page, and a table detailing\n",
      "all issues near the bottom. Others might just display information in a table (without a chart). For\n",
      "example, the expanded view for Apps with highest battery consumption shows the top 5 worst\n",
      "performing apps, and their consumed battery power percentage over the selected reporting period.\n",
      "While the chart only displays the top 5 worst apps, the table below displays every app that has\n",
      "consumed excessive battery over the same reporting period. Most insights allow you to filter the\n",
      "data set and download a CSV file of the data from the expanded view. If the option is available,\n",
      "click the Filter icon to open the filter panel and select specific parameters, then click Apply to\n",
      "save your changes. The page updates and shows only the filtered results, and filter tags appear\n",
      "above the data. To remove the filters and restore the default settings, click CLEAR ALL FILTERS. If\n",
      "available, you can click the CUSTOMIZE TABLE button ( ... ) to show or hide columns in your table.\n",
      "Note that some columns are mandatory and cannot be hidden, and some insights only allow you to\n",
      "display up to 7 columns at a time. And if the CSV option is available, you can click DOWNLOAD AS CSV\n",
      "to export the table in CSV format. The columns in the CSV file will match the columns in the table.\n",
      "#Drill-down view For some insights, you can get an even deeper analysis of the data by clicking\n",
      "certain key-values in the expanded-view table. This will open a _drill-down_ view for those values,\n",
      "providing additional details not found in the insight's expanded view. For example, in the expanded\n",
      "view table for Apps with highest battery consumption, the key-values are the applications in the APP\n",
      "column\n",
      "metadata:\n",
      " {'source': 'all_processed_data.json', 'seq_num': 262, 'title': 'Overview', 'url':\n",
      "'https://docs.samsungknox.com/admin/knox-asset-intelligence/dashboard/overview', 'project': 'KAI',\n",
      "'last_updated': '2023-09-06', 'family_tree': 'parent', 'parent_id': None, 'id':\n",
      "'ef05de10-3267-4ca1-b75c-d1a08a5c7250'}\n",
      "\n",
      "-----------------------------------------------\n",
      "2. Chunk: 2680 Characters\n",
      "-----------------------------------------------\n",
      ". Below the line graph is a detailed list of app usage metrics, broken down into the following\n",
      "categories: APP - The name of the app. Click to open the drill-down view for metrics on running time\n",
      "and the number of devices using an app version. PACKAGE NAME - The package name. Use this to\n",
      "uniquely identify an app on your devices. DEVICE COUNT - The number of devices that use the app,\n",
      "TOTAL RUN TIME - The total amount of time, in hours, that the app has been running on your devices.\n",
      "Sum of total foreground and background run times. TOTAL FOREGROUND RUN TIME - The total amount of\n",
      "time, in hours, that the app was running in the foreground on your devices. TOTAL BACKGROUND RUN\n",
      "TIME - The total amount of time, in hours, that the app was running in the background on your\n",
      "devices. AVG RUN TIME - The average amount of time, in hours and minutes, per device that the app\n",
      "ran. AVG MOBILE DATA USAGE - The average amount of mobile data the app used on a device. A VG WIFI\n",
      "DATA USAGE - The average amount of Wi-Fi data the app used on a device. AVG NETWORK DATA USAGE - The\n",
      "average amount of data, in MB, per device that the app consumed. AVG BATTERY CONSUMPTION - The\n",
      "average battery percentage consumed by an app on the device. NORMALIZED BATTERY CONSUMPTION - The\n",
      "percentage of battery power consumed per hour of app run time #Drill down view In the expanded view\n",
      "of any app usage tile, click an app name in the app list to open the drill-down view for that app.\n",
      "The top ribbon displays usage metrics for the selected timeframe, including the total run time,\n",
      "average network data usage, average run time, and average amount of battery used by the app per\n",
      "day.You can also see the total number of groups containing devices that reported usage for the app\n",
      "you're viewing. Under the group count, click View all for another drill-down view that summarizes\n",
      "app usage data per group in an easy-to-read table. The TOTAL RUN TIME AND DEVICE COUNT graph\n",
      "displays the total background and foreground app usage over the configured time period, as well as\n",
      "the number of devices. Hover over a section of the graph to see run time totals, average network\n",
      "usage, and average battery usage for that group of devices. In the pop-up's Device field, you can\n",
      "click the download link to get a CSV file that summarizes your app usage for every device that\n",
      "reported data The DEVICE COUNT PER APP VERSIONS graph provides a quick visualization of the\n",
      "proportion of your devices running outdated versions. Under the graph, the APP VERSIONS FOR *APP\n",
      "NAME_*_ list displays additional details about the number of devices running each version, as well\n",
      "as total and average run time and network usage metrics.\n",
      "metadata:\n",
      " {'source': 'all_processed_data.json', 'seq_num': 266, 'title': 'App usage', 'url':\n",
      "'https://docs.samsungknox.com/admin/knox-asset-intelligence/dashboard/app-insights/app-usage',\n",
      "'project': 'KAI', 'last_updated': '2023-07-26', 'family_tree': 'parent', 'parent_id': None, 'id':\n",
      "'8861bca4-3a6a-413a-8510-b1dbd325bf13'}\n",
      "\n",
      "-----------------------------------------------\n",
      "3. Chunk: 4011 Characters\n",
      "-----------------------------------------------\n",
      "View venue analytics (Labs). Using information about location, frequency, date and time reported by\n",
      "your assets, the real-time location service now provides insight into how your assets move around\n",
      "your venue. With these analytics, you can determine where your workers are spending the most time\n",
      "and optimize business operations in those key areas. To see the analytics, in the navigation pane,\n",
      "click Analytics. If you selected a default venue, you'll see it here. Location data is represented\n",
      "on the console through charts and heatmaps, and you can search for a specific device in a venue to\n",
      "see a travel history chart for just that device. The analytics view changes depending on whether\n",
      "you're seeing data for all venues or a specific venue. At the top of the screen, under Venue, select\n",
      "All Venues or the name of a venue to change the view. Analytics for all venues When you filter\n",
      "analytics by all venues, the number of venues you have in each status is shown. See Venue status for\n",
      "a list of these statuses and what they mean. You also see all your venues plotted on a geographical\n",
      "map, which you can navigate with the same actions described in Use the map. #Traffic trends for the\n",
      "top 5 venues This chart consolidates the traffic trends for your top 5 venues. In other words, the\n",
      "real-time location service takes the 5 venues that reported the highest amount of asset traffic and\n",
      "compares them for your reference. Hover over a point in the chart to see the name of the venue, the\n",
      "date, and the asset count. In conjunction with the Traffic trends for the bottom 5 venues chart, you\n",
      "can use these insights to analyze your most productive and least productive venues, and identify\n",
      "areas of improvement for the latter. #Traffic trends for the bottom 5 venues This chart consolidates\n",
      "the traffic trends for your bottom 5 venues. Similar to the previous chart, the real-time location\n",
      "service takes the 5 venues that reported the lowest amount of asset traffic, and compares them for\n",
      "your reference. Hover over a point in the chart to see the name of the venue, the date, and the\n",
      "asset count. Analytics for a specific venue #Venue map After you create your first venue, the Venue\n",
      "map section displays a geographical map or floor plan with the last known location of devices marked\n",
      "on it. Above the map, the total number of devices and the total number of zones are shown. You can\n",
      "also search for a specific device by its IMEI, which shows its corresponding location on the venue\n",
      "map. #Asset travel history by zone This chart is only available when you search for a device under\n",
      "Venue map. To help you easily visualize how an asset is moving around the venue, a chart is shown\n",
      "that maps your asset's movement between zones, including how long it stays in each zone and how many\n",
      "times it visits a zone during the set time period. You can use this information to determine how you\n",
      "can optimize a specific worker or department's workflow - for example, you might find that device\n",
      "traffic is high between zones that are further apart. To increase productivity, you could consider\n",
      "moving those zones, or tasks done in those zones, closer together. If you delete a zone, historical\n",
      "location data collected for that zone might still be shown in this chart. #Floor traffic heatmap For\n",
      "an overall view of which areas in your venue encounter the highest amount of asset traffic, you can\n",
      "refer to the heatmap. To see the heatmap, make sure you've selected a Building at the top of the\n",
      "screen first. You can also search for a device to see the heatmap for just that device, which\n",
      "displays information about where the device spends most of its time. To the right of the heatmap, a\n",
      "legend specifies what the colors correspond to. Zoom in to see a detailed breakdown of the traffic,\n",
      "and zoom out for a more general visualization. Any zones you've defined for the floorplan are also\n",
      "marked in blue. #Venue traffic trend The venue traffic trend helps you identify how many devices\n",
      "moved through your venue over the set time period\n",
      "metadata:\n",
      " {'source': 'all_processed_data.json', 'seq_num': 279, 'title': 'View venue analytics (Labs)',\n",
      "'url': 'https://docs.samsungknox.com/admin/knox-asset-intelligence/dashboard/location-\n",
      "dashboard/indoor-location-tracking/view-venue-analytics', 'project': 'KAI', 'last_updated':\n",
      "'2023-07-26', 'family_tree': 'parent', 'parent_id': None, 'id':\n",
      "'666748de-815b-4ae1-affb-6c3fc50772f4'}\n",
      "\n",
      "-----------------------------------------------\n",
      "4. Chunk: 2408 Characters\n",
      "-----------------------------------------------\n",
      ". Others might just display information in a table (without a chart). For example, the expanded view\n",
      "for Apps with highest battery consumption shows the top 5 worst performing apps, and their consumed\n",
      "battery power percentage over the selected reporting period. While the chart only displays the top 5\n",
      "worst apps, the table below displays every app that has consumed excessive battery over the same\n",
      "reporting period. Most insights allow you to filter the data set and download a CSV file of the data\n",
      "from the expanded view. If the option is available, click the Filter icon to open the filter panel\n",
      "and select specific parameters, then click Apply to save your changes. The page updates and shows\n",
      "only the filtered results, and filter tags appear above the data. To remove the filters and restore\n",
      "the default settings, click CLEAR ALL FILTERS. If available, you can click the CUSTOMIZE TABLE\n",
      "button ( ... ) to show or hide columns in your table. Note that some columns are mandatory and\n",
      "cannot be hidden, and some insights only allow you to display up to 7 columns at a time. And if the\n",
      "CSV option is available, you can click DOWNLOAD AS CSV to export the table in CSV format. The\n",
      "columns in the CSV file will match the columns in the table. #Drill-down view For some insights, you\n",
      "can get an even deeper analysis of the data by clicking certain key-values in the expanded-view\n",
      "table. This will open a _drill-down_ view for those values, providing additional details not found\n",
      "in the insight's expanded view. For example, in the expanded view table for Apps with highest\n",
      "battery consumption, the key-values are the applications in the APP column. Clicking any link in the\n",
      "APP column takes you to a drill-down view for that application, letting you see extended details\n",
      "like which _versions_ of the app consume the most battery power, and how many _devices_ are running\n",
      "each version. Like with the expanded view, you can also use the filter (if available) to focus on\n",
      "specific data, customize your table, or download the table as a CSV file for offline viewing. #Next\n",
      "steps Now that you know how to launch Knox Asset Intelligence and use the Dashboard, expand your\n",
      "knowledge by reviewing the various how-to guide topics or watching the how-to video. If you need\n",
      "help or assistance with Knox Asset Intelligence, please reach out to the support team by submitting\n",
      "a support ticket through the Knox Admin Portal.\n",
      "metadata:\n",
      " {'source': 'all_processed_data.json', 'seq_num': 285, 'title': 'Get started with Knox Asset\n",
      "Intelligence', 'url': 'https://docs.samsungknox.com/admin/knox-asset-intelligence/get-\n",
      "started/tutorials/get-started-with-knox-asset-intelligence', 'project': 'KAI', 'last_updated':\n",
      "'2023-09-06', 'family_tree': 'parent', 'parent_id': None, 'id':\n",
      "'ae59ebec-b0c1-4b54-8888-9d9c01c99591'}\n",
      "\n",
      "-----------------------------------------------\n",
      "5. Chunk: 2372 Characters\n",
      "-----------------------------------------------\n",
      ". Campaigns that were activated before KCS 1.32 will not have the trend view. The Network view shows\n",
      "a pie chart of which networks were used by devices to install firmware. You can do the following:\n",
      "View more details of the campaign's progress by hovering over the graph. Go to the campaign by\n",
      "clicking the campaign name. Unpin a campaign widget by clicking the X icon on it. Pin a campaign\n",
      "you've previously unpinned. To pin an active campaign: 1. Click Select Campaign to Pin Here. 2. In\n",
      "the drop-down menu, select the campaign you want to pin. 3. Click Add. Canceled or expired campaign\n",
      "Canceled or expired campaign widgets are shown for 7 days from the time they ended. They show pie\n",
      "charts showing the success rate for each device model and device status. You can view more details\n",
      "by hovering over the graphs. You can have multiple canceled or expired campaign widgets. Scheduled\n",
      "campaigns The Scheduled Campaigns widget lists up to 5 campaigns scheduled to begin soon, sorted by\n",
      "start date. Clicking View all displays a filtered campaigns list showing only scheduled campaigns.\n",
      "This widget becomes available as soon as you create a campaign. Firmware release The Firmware\n",
      "Release widget lists firmware releases, sorted by release date. Clicking View all displays a more\n",
      "detailed list of all firmware releases. Licenses The LICENSES widget lists up to 3 licenses, sorted\n",
      "by end date. Clicking View all takes you to the Licenses tab, which contains all licenses in the\n",
      "account and their details. This widget becomes available as soon as you add a license. It contains\n",
      "the following: A pie chart that shows the total license operation rate; that is, the total number of\n",
      "license seats currently assigned over the total number of license seats from all commercial and\n",
      "trial licenses in the account. A list of up to three licenses with the most number of seats in the\n",
      "account. For each license, the following details are shown: Type - Commercial or Trial. Status -\n",
      "Active, Registered (that is, the license has been added to the account but is not yet active ),\n",
      "Expired, or Terminated. Operation rate - Number of assigned seats over the total number of seats in\n",
      "this license. End date - Date the license expires. To view the details of a particular license,\n",
      "click on that license's name. The remaining number of seats from all commercial and trial licenses\n",
      "in the account.\n",
      "metadata:\n",
      " {'source': 'all_processed_data.json', 'seq_num': 27, 'title': 'Monitor operations', 'url':\n",
      "'https://docs.samsungknox.com/admin/efota-one/features/monitor-operations', 'project': 'EFOTA',\n",
      "'last_updated': '2023-09-06', 'family_tree': 'parent', 'parent_id': None, 'id':\n",
      "'8b5388fe-f168-447a-935b-d0c5584c1a0d'}\n"
     ]
    }
   ],
   "source": [
    "#query = \"감독계획수립 후 현장감독에서 법 위반을 하면 이후 프로세스는?\" ## Image 30\n",
    "#query = \"안전보건표지에서 지시표지의 종류와 용도는?\" ## Table 8\n",
    "#query = \"건강진단 순서를 알려줘\" ## Diagram 15\n",
    "\n",
    "query = \"수익률 그래프 설명해줘\"\n",
    "#query = \"만기가격이 기준가격의 100% 미만일 때 만기상환금액 계산하는 방법 알려줘\"\n",
    "#query = \"전년 동기 현금 예치금 구성비 알려줘\"\n",
    "#query = \"자산총계 금액 알려줘\"\n",
    "#query = \"대출채권 금액은?\"\n",
    "\n",
    "#query = \"대출채권의 전년동기에 해당하는 구성비는 얼마입니까?\"\n",
    "#query = \"당기손익-공정가치측정유가증권 전년동기의 구성비는?\"\n",
    "response, contexts = qa.invoke(\n",
    "    query = query,\n",
    "    verbose=False\n",
    ")\n",
    "\n",
    "show_context_used(contexts)"
   ]
  },
  {
   "cell_type": "markdown",
   "id": "b68e6691-1b5f-4572-a151-6ebcabfe5b34",
   "metadata": {},
   "source": [
    "### Parameter updates"
   ]
  },
  {
   "cell_type": "code",
   "execution_count": 21,
   "id": "2e5eef84-5d10-46e2-b0fa-3dcac41084e6",
   "metadata": {
    "tags": []
   },
   "outputs": [],
   "source": [
    "opensearch_hybrid_retriever.update_search_params(\n",
    "    k=8,\n",
    "    minimum_should_match=0,\n",
    "    # filter=[\n",
    "    #     {'term': {'metadata.family_tree': 'child'}},\n",
    "    # ],\n",
    "    ensemble_weights=[0.51, 0.49], #semantic, lexical\n",
    "    verbose=False\n",
    ")"
   ]
  },
  {
   "cell_type": "code",
   "execution_count": null,
   "id": "c317afb2-db7a-46c3-94c8-1b1418ca879d",
   "metadata": {
    "tags": []
   },
   "outputs": [],
   "source": [
    "#query = \"감독계획수립 후 현장감독에서 법 위반을 하면 이후 프로세스는?\" ## Image 30\n",
    "#query = \"안전보건표지에서 지시표지의 종류와 용도는?\" ## Table 8\n",
    "#query = \"건강진단 순서를 알려줘\" ## Diagram 15\n",
    "\n",
    "query = \"기준 자산가치가 100% 일 때 수익률은?\"\n",
    "query = \"수익률 그래프 설명해줘\"\n"
   ]
  },
  {
   "cell_type": "code",
   "execution_count": null,
   "id": "3b5834ab-a54b-42df-82e4-7f0d5f6e11ea",
   "metadata": {
    "tags": []
   },
   "outputs": [],
   "source": [
    "response, contexts = qa.invoke(\n",
    "    query = query,\n",
    "    verbose=True\n",
    ")"
   ]
  },
  {
   "cell_type": "code",
   "execution_count": null,
   "id": "7589172a-c6de-42ec-8119-fa3011ecd730",
   "metadata": {
    "tags": []
   },
   "outputs": [],
   "source": [
    "print(\"##################################\")\n",
    "print(\"query: \", query)\n",
    "print(\"##################################\")\n",
    "\n",
    "print (colored(\"\\n\\n### Answer ###\", \"blue\"))\n",
    "print_ww(response)\n",
    "\n",
    "\n",
    "print (colored(\"\\n\\n### Contexts ###\", \"green\"))\n",
    "show_context_used(contexts, limit=10)"
   ]
  },
  {
   "cell_type": "code",
   "execution_count": null,
   "id": "2cd3a833-8c52-4272-87b9-0e65a941b7fb",
   "metadata": {},
   "outputs": [],
   "source": []
  }
 ],
 "metadata": {
  "kernelspec": {
   "display_name": "conda_python3",
   "language": "python",
   "name": "conda_python3"
  },
  "language_info": {
   "codemirror_mode": {
    "name": "ipython",
    "version": 3
   },
   "file_extension": ".py",
   "mimetype": "text/x-python",
   "name": "python",
   "nbconvert_exporter": "python",
   "pygments_lexer": "ipython3",
   "version": "3.10.13"
  }
 },
 "nbformat": 4,
 "nbformat_minor": 5
}
