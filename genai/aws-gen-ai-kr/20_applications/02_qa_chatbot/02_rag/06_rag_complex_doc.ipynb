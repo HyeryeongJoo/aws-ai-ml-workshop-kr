{
 "cells": [
  {
   "cell_type": "markdown",
   "id": "5deb2df2-413d-49bd-a829-3a1fc344937e",
   "metadata": {},
   "source": [
    "# RAG over complex Documents\n"
   ]
  },
  {
   "cell_type": "markdown",
   "id": "b1f81abc-3277-4a6b-9ef1-d4f997d67fbe",
   "metadata": {},
   "source": [
    "## Setting\n",
    " - Auto Reload\n",
    " - path for utils"
   ]
  },
  {
   "cell_type": "code",
   "execution_count": 1,
   "id": "ddde4105-b759-4d6c-8214-8e1ab485ae48",
   "metadata": {
    "tags": []
   },
   "outputs": [],
   "source": [
    "%load_ext autoreload\n",
    "%autoreload 2"
   ]
  },
  {
   "cell_type": "code",
   "execution_count": 2,
   "id": "57c2cdb1-d785-4317-afce-938f13141085",
   "metadata": {
    "tags": []
   },
   "outputs": [],
   "source": [
    "import sys, os\n",
    "module_path = \"../../..\"\n",
    "sys.path.append(os.path.abspath(module_path))"
   ]
  },
  {
   "cell_type": "markdown",
   "id": "1e913b68-f9ed-4da7-bc49-4db57f456c91",
   "metadata": {},
   "source": [
    "## 1. Creatr Bedrock client"
   ]
  },
  {
   "cell_type": "code",
   "execution_count": 3,
   "id": "424492cf-401a-486d-9c1e-f2c6617b6e75",
   "metadata": {
    "tags": []
   },
   "outputs": [],
   "source": [
    "import json\n",
    "import boto3\n",
    "from pprint import pprint\n",
    "from termcolor import colored\n",
    "from utils import bedrock, print_ww\n",
    "from utils.bedrock import bedrock_info"
   ]
  },
  {
   "cell_type": "markdown",
   "id": "e841327d-03ff-4a22-8224-91df66e0a943",
   "metadata": {},
   "source": [
    "### ---- ⚠️ Un-comment and edit the below lines as needed for your AWS setup ⚠️ ----\n",
    "- os.environ[\"AWS_DEFAULT_REGION\"] = \"<REGION_NAME>\"  # E.g. \"us-east-1\"\n",
    "- os.environ[\"AWS_PROFILE\"] = \"<YOUR_PROFILE>\"\n",
    "- os.environ[\"BEDROCK_ASSUME_ROLE\"] = \"<YOUR_ROLE_ARN>\"  # E.g. \"arn:aws:...\"\n",
    "- os.environ[\"BEDROCK_ENDPOINT_URL\"] = \"<YOUR_ENDPOINT_URL>\"  # E.g. \"https://...\""
   ]
  },
  {
   "cell_type": "code",
   "execution_count": 4,
   "id": "66a621c0-db5c-4e25-919e-099c2debbf88",
   "metadata": {
    "tags": []
   },
   "outputs": [
    {
     "name": "stdout",
     "output_type": "stream",
     "text": [
      "Create new client\n",
      "  Using region: None\n",
      "  Using profile: None\n",
      "boto3 Bedrock client successfully created!\n",
      "bedrock-runtime(https://bedrock-runtime.us-east-1.amazonaws.com)\n",
      "\u001b[32m\n",
      "== FM lists ==\u001b[0m\n",
      "{'Claude-Instant-V1': 'anthropic.claude-instant-v1',\n",
      " 'Claude-V1': 'anthropic.claude-v1',\n",
      " 'Claude-V2': 'anthropic.claude-v2',\n",
      " 'Claude-V2-1': 'anthropic.claude-v2:1',\n",
      " 'Claude-V3-Haiku': 'anthropic.claude-3-haiku-20240307-v1:0',\n",
      " 'Claude-V3-Sonnet': 'anthropic.claude-3-sonnet-20240229-v1:0',\n",
      " 'Cohere-Embeddings-En': 'cohere.embed-english-v3',\n",
      " 'Cohere-Embeddings-Multilingual': 'cohere.embed-multilingual-v3',\n",
      " 'Command': 'cohere.command-text-v14',\n",
      " 'Command-Light': 'cohere.command-light-text-v14',\n",
      " 'Jurassic-2-Mid': 'ai21.j2-mid-v1',\n",
      " 'Jurassic-2-Ultra': 'ai21.j2-ultra-v1',\n",
      " 'Llama2-13b-Chat': 'meta.llama2-13b-chat-v1',\n",
      " 'Titan-Embeddings-G1': 'amazon.titan-embed-text-v1',\n",
      " 'Titan-Text-G1': 'amazon.titan-text-express-v1',\n",
      " 'Titan-Text-G1-Light': 'amazon.titan-text-lite-v1'}\n"
     ]
    }
   ],
   "source": [
    "boto3_bedrock = bedrock.get_bedrock_client(\n",
    "    assumed_role=os.environ.get(\"BEDROCK_ASSUME_ROLE\", None),\n",
    "    endpoint_url=os.environ.get(\"BEDROCK_ENDPOINT_URL\", None),\n",
    "    region=os.environ.get(\"AWS_DEFAULT_REGION\", None),\n",
    ")\n",
    "\n",
    "print (colored(\"\\n== FM lists ==\", \"green\"))\n",
    "pprint (bedrock_info.get_list_fm_models(verbose=False))"
   ]
  },
  {
   "cell_type": "markdown",
   "id": "c22b84be-91ee-4e22-8ed0-3c23b907172a",
   "metadata": {},
   "source": [
    "## 2. Titan Embedding 및 LLM 인 Claude-v3-sonnet 모델 로딩"
   ]
  },
  {
   "cell_type": "markdown",
   "id": "381aa4d7-0ad8-467b-af4a-c1514e9559d2",
   "metadata": {},
   "source": [
    "### LLM 로딩 (Claude-v3-sonnet)"
   ]
  },
  {
   "cell_type": "code",
   "execution_count": 5,
   "id": "febdbf9e-4ed9-49d2-aaad-6cda6fed1867",
   "metadata": {
    "tags": []
   },
   "outputs": [],
   "source": [
    "from langchain_aws import ChatBedrock\n",
    "from langchain.callbacks.streaming_stdout import StreamingStdOutCallbackHandler"
   ]
  },
  {
   "cell_type": "code",
   "execution_count": 76,
   "id": "bb4edb11-7ef2-4ab4-a36c-bc0f8a5c52a5",
   "metadata": {
    "tags": []
   },
   "outputs": [
    {
     "data": {
      "text/plain": [
       "ChatBedrock(callbacks=[<langchain_core.callbacks.streaming_stdout.StreamingStdOutCallbackHandler object at 0x7f26384d48b0>], client=<botocore.client.BedrockRuntime object at 0x7f26b0600cd0>, model_id='anthropic.claude-3-sonnet-20240229-v1:0', model_kwargs={'max_tokens': 1024, 'stop_sequences': ['\\n\\nHuman']}, streaming=True)"
      ]
     },
     "execution_count": 76,
     "metadata": {},
     "output_type": "execute_result"
    }
   ],
   "source": [
    "llm_text = ChatBedrock(\n",
    "    model_id=bedrock_info.get_model_id(model_name=\"Claude-V3-Sonnet\"),\n",
    "    client=boto3_bedrock,\n",
    "    streaming=True,\n",
    "    callbacks=[StreamingStdOutCallbackHandler()],\n",
    "    model_kwargs={\n",
    "        \"max_tokens\": 1024,\n",
    "        \"stop_sequences\": [\"\\n\\nHuman\"],\n",
    "        # \"temperature\": 0,\n",
    "        # \"top_k\": 350,\n",
    "        # \"top_p\": 0.999\n",
    "    }\n",
    ")\n",
    "llm_text"
   ]
  },
  {
   "cell_type": "markdown",
   "id": "015716aa-a430-4811-a43b-2aab23c0f731",
   "metadata": {},
   "source": [
    "### Embedding 모델 선택"
   ]
  },
  {
   "cell_type": "code",
   "execution_count": 7,
   "id": "d58da66f-d504-4434-85c4-85ce1cc6439a",
   "metadata": {
    "tags": []
   },
   "outputs": [],
   "source": [
    "from langchain.embeddings import BedrockEmbeddings"
   ]
  },
  {
   "cell_type": "code",
   "execution_count": 8,
   "id": "372e1766-b30a-49ca-bd6d-6615397996a3",
   "metadata": {
    "tags": []
   },
   "outputs": [
    {
     "name": "stdout",
     "output_type": "stream",
     "text": [
      "Bedrock Embeddings Model Loaded\n"
     ]
    }
   ],
   "source": [
    "llm_emb = BedrockEmbeddings(\n",
    "    client=boto3_bedrock,\n",
    "    model_id=bedrock_info.get_model_id(model_name=\"Titan-Embeddings-G1\")\n",
    ")\n",
    "dimension = 1536\n",
    "print(\"Bedrock Embeddings Model Loaded\")"
   ]
  },
  {
   "cell_type": "markdown",
   "id": "460fa49e-170e-4ca3-b3f4-0405e53a9e65",
   "metadata": {},
   "source": [
    "## 3. Depoly ReRanker model (if needed)"
   ]
  },
  {
   "cell_type": "code",
   "execution_count": 9,
   "id": "8825f948-e6a4-4fdd-b820-7d2461331679",
   "metadata": {
    "tags": []
   },
   "outputs": [
    {
     "name": "stdout",
     "output_type": "stream",
     "text": [
      "sagemaker.config INFO - Not applying SDK defaults from location: /etc/xdg/sagemaker/config.yaml\n",
      "sagemaker.config INFO - Not applying SDK defaults from location: /home/ec2-user/.config/sagemaker/config.yaml\n"
     ]
    }
   ],
   "source": [
    "import json\n",
    "import sagemaker\n",
    "from sagemaker.huggingface import HuggingFaceModel"
   ]
  },
  {
   "cell_type": "code",
   "execution_count": 10,
   "id": "22a22b0a-a289-4cc9-94da-70ceaa6c399f",
   "metadata": {
    "tags": []
   },
   "outputs": [],
   "source": [
    "depoly = False"
   ]
  },
  {
   "cell_type": "code",
   "execution_count": 11,
   "id": "ab95ab6d-2521-4e54-8dc6-c30713613c18",
   "metadata": {
    "tags": []
   },
   "outputs": [],
   "source": [
    "if depoly:\n",
    "\n",
    "    try:\n",
    "        role = sagemaker.get_execution_role()\n",
    "    except ValueError:\n",
    "        iam = boto3.client('iam')\n",
    "        role = iam.get_role(RoleName='sagemaker_execution_role')['Role']['Arn']\n",
    "\n",
    "    # Hub Model configuration. https://huggingface.co/models\n",
    "    hub = {\n",
    "        'HF_MODEL_ID':'Dongjin-kr/ko-reranker',\n",
    "        'HF_TASK':'text-classification'\n",
    "    }\n",
    "\n",
    "    # create Hugging Face Model Class\n",
    "    huggingface_model = HuggingFaceModel(\n",
    "        transformers_version='4.26.0',\n",
    "        pytorch_version='1.13.1',\n",
    "        py_version='py39',\n",
    "        env=hub,\n",
    "        role=role, \n",
    "    )\n",
    "\n",
    "    # deploy model to SageMaker Inference\n",
    "    predictor = huggingface_model.deploy(\n",
    "        initial_instance_count=1, # number of instances\n",
    "        instance_type='ml.g5.xlarge' # instance type\n",
    "    )\n",
    "\n",
    "    print(f'Accept: {predictor.accept}')\n",
    "    print(f'ContentType: {predictor.content_type}')\n",
    "    print(f'Endpoint: {predictor.endpoint}')"
   ]
  },
  {
   "cell_type": "markdown",
   "id": "8159075b-f792-49dd-bafa-d35064712f43",
   "metadata": {},
   "source": [
    "#### Save reranker endpoint to Parameter Store"
   ]
  },
  {
   "cell_type": "code",
   "execution_count": 12,
   "id": "94464cdf-469f-4c46-a6ca-d54a714fe0bc",
   "metadata": {
    "tags": []
   },
   "outputs": [],
   "source": [
    "if depoly:\n",
    "\n",
    "    import boto3\n",
    "    from utils.ssm import parameter_store\n",
    "\n",
    "    region=boto3.Session().region_name\n",
    "    pm = parameter_store(region)\n",
    "\n",
    "    pm.put_params(\n",
    "        key=\"reranker_endpoint\",\n",
    "        value=f'{predictor.endpoint}',\n",
    "        overwrite=True,\n",
    "        enc=False\n",
    "    )"
   ]
  },
  {
   "cell_type": "markdown",
   "id": "3bb8a33a-3ec6-466e-b1ba-25b34ddae850",
   "metadata": {},
   "source": [
    "## 4. Invocation (prediction)"
   ]
  },
  {
   "cell_type": "code",
   "execution_count": 13,
   "id": "68b0e072-c49e-4deb-8ffb-01fdc807f30c",
   "metadata": {
    "tags": []
   },
   "outputs": [],
   "source": [
    "from utils.ssm import parameter_store"
   ]
  },
  {
   "cell_type": "code",
   "execution_count": 14,
   "id": "534c3cb5-1a8b-42e6-bf98-24479f5f9506",
   "metadata": {
    "tags": []
   },
   "outputs": [],
   "source": [
    "region=boto3.Session().region_name\n",
    "pm = parameter_store(region)"
   ]
  },
  {
   "cell_type": "code",
   "execution_count": 15,
   "id": "d13eae8d-6e1e-4203-9975-b968d8e87a08",
   "metadata": {
    "tags": []
   },
   "outputs": [
    {
     "name": "stdout",
     "output_type": "stream",
     "text": [
      "runtime_client: <botocore.client.SageMakerRuntime object at 0x7f26944d1ea0>\n"
     ]
    }
   ],
   "source": [
    "runtime_client = boto3.Session().client('sagemaker-runtime')\n",
    "print (f'runtime_client: {runtime_client}')"
   ]
  },
  {
   "cell_type": "code",
   "execution_count": 16,
   "id": "c360b768-f988-44cd-b3b3-8c7966a4f750",
   "metadata": {
    "tags": []
   },
   "outputs": [],
   "source": [
    "endpoint_name = pm.get_params(\n",
    "    key=\"reranker_endpoint\",\n",
    "    enc=False\n",
    ")\n",
    "deserializer = \"application/json\""
   ]
  },
  {
   "cell_type": "code",
   "execution_count": 17,
   "id": "6d10e73d-8e2d-465f-b62d-93fe9cc10e19",
   "metadata": {
    "tags": []
   },
   "outputs": [],
   "source": [
    "payload = json.dumps(\n",
    "    {\n",
    "        \"inputs\": [\n",
    "            {\"text\": \"I hate you\", \"text_pair\": \"I don't like you\"},\n",
    "            {\"text\": \"He hates you\", \"text_pair\": \"He like you\"}\n",
    "        ]\n",
    "    }\n",
    ")"
   ]
  },
  {
   "cell_type": "code",
   "execution_count": 18,
   "id": "aa7dc3d0-6798-473b-a1c0-fba39fdbc467",
   "metadata": {
    "tags": []
   },
   "outputs": [],
   "source": [
    "payload = json.dumps(\n",
    "    {\n",
    "        \"inputs\": [\n",
    "            {\"text\": \"나는 너를 사랑하지 않아\", \"text_pair\": \"나는 너를 좋아하지 않아\"},\n",
    "            {\"text\": \"그는 너를 싫어해\", \"text_pair\": \"그는 너를 좋아해\"}\n",
    "        ]\n",
    "    }\n",
    ")"
   ]
  },
  {
   "cell_type": "code",
   "execution_count": 19,
   "id": "c71afa63-e158-4ad9-9ce2-46e3a5c263d4",
   "metadata": {
    "tags": []
   },
   "outputs": [
    {
     "name": "stdout",
     "output_type": "stream",
     "text": [
      "Response: [{'label': 'LABEL_0', 'score': 0.9984032511711121}, {'label': 'LABEL_0', 'score': 0.004707992542535067}]\n",
      "CPU times: user 14.1 ms, sys: 0 ns, total: 14.1 ms\n",
      "Wall time: 90.7 ms\n"
     ]
    }
   ],
   "source": [
    "%%time\n",
    "response = runtime_client.invoke_endpoint(\n",
    "    EndpointName=endpoint_name,\n",
    "    ContentType=\"application/json\",\n",
    "    Accept=deserializer,\n",
    "    Body=payload\n",
    ")\n",
    "## deserialization\n",
    "out = json.loads(response['Body'].read().decode()) ## for json\n",
    "print (f'Response: {out}')"
   ]
  },
  {
   "cell_type": "markdown",
   "id": "256786db-df24-47ac-b9a4-f195a8b015f2",
   "metadata": {},
   "source": [
    "## 5. LangChainOpenSearch VectorStore 정의\n",
    "### 선수 조건\n",
    "- 01_preprocess_docs/02_load_docs_opensearch.ipynb를 통해서 OpenSearch Index 가 생성이 되어 있어야 합니다.\n",
    "#### [중요] 아래에 aws parameter store 에 아래 인증정보가 먼저 입력되어 있어야 합니다.\n",
    "- 01_preprocess_docs/01_parameter_store_example.ipynb 참고"
   ]
  },
  {
   "cell_type": "code",
   "execution_count": 20,
   "id": "7464c2d9-5188-4f07-81b9-451c51e028e6",
   "metadata": {
    "tags": []
   },
   "outputs": [],
   "source": [
    "import boto3\n",
    "from utils.ssm import parameter_store"
   ]
  },
  {
   "cell_type": "code",
   "execution_count": 21,
   "id": "b40da258-a9e3-4270-a315-796e507d2ec8",
   "metadata": {
    "tags": []
   },
   "outputs": [],
   "source": [
    "region=boto3.Session().region_name\n",
    "pm = parameter_store(region)"
   ]
  },
  {
   "cell_type": "code",
   "execution_count": 22,
   "id": "0df511f9-a967-4a7f-b463-873a0f4a589a",
   "metadata": {
    "tags": []
   },
   "outputs": [],
   "source": [
    "opensearch_domain_endpoint = pm.get_params(\n",
    "    key=\"opensearch_domain_endpoint\",\n",
    "    enc=False\n",
    ")\n",
    "\n",
    "opensearch_user_id = pm.get_params(\n",
    "    key=\"opensearch_user_id\",\n",
    "    enc=False\n",
    ")\n",
    "\n",
    "opensearch_user_password = pm.get_params(\n",
    "    key=\"opensearch_user_password\",\n",
    "    enc=True\n",
    ")"
   ]
  },
  {
   "cell_type": "code",
   "execution_count": 23,
   "id": "a4ed12f3-77a7-4735-9a09-c7af0d68f6e9",
   "metadata": {
    "tags": []
   },
   "outputs": [],
   "source": [
    "opensearch_domain_endpoint = opensearch_domain_endpoint\n",
    "rag_user_name = opensearch_user_id\n",
    "rag_user_password = opensearch_user_password\n",
    "\n",
    "http_auth = (rag_user_name, rag_user_password) # Master username, Master password"
   ]
  },
  {
   "cell_type": "markdown",
   "id": "1f581678-99cb-4921-a854-eba604765b3b",
   "metadata": {},
   "source": [
    "### Index 이름 셋팅\n",
    "- 이전 노트북 01_preprocess_docs/02_load_docs_opensearch.ipynb를 통해서 생성된 OpenSearch Index name 입력"
   ]
  },
  {
   "cell_type": "code",
   "execution_count": 24,
   "id": "2f215c42-8327-4d60-bb73-3a4e36977d78",
   "metadata": {
    "tags": []
   },
   "outputs": [
    {
     "name": "stdout",
     "output_type": "stream",
     "text": [
      "index_name: summit-workshop-index-unstructured-pymupdf-llama\n"
     ]
    }
   ],
   "source": [
    "index_name = opensearch_user_password = pm.get_params(\n",
    "    key=\"opensearch_index_name\",\n",
    "    enc=True\n",
    ")\n",
    "\n",
    "print (f'index_name: {index_name}')"
   ]
  },
  {
   "cell_type": "code",
   "execution_count": 43,
   "id": "8aecf7e8-4a17-438d-951f-35d1190805a9",
   "metadata": {
    "tags": []
   },
   "outputs": [],
   "source": [
    "index_name = \"summit-workshop-index\""
   ]
  },
  {
   "cell_type": "code",
   "execution_count": null,
   "id": "d09643ac-9411-41b9-afac-47821ad3909e",
   "metadata": {},
   "outputs": [],
   "source": []
  },
  {
   "cell_type": "markdown",
   "id": "ca9624ab-14ff-49a8-b58a-2c9e05def784",
   "metadata": {},
   "source": [
    "### OpenSearch Client 생성"
   ]
  },
  {
   "cell_type": "code",
   "execution_count": 44,
   "id": "61e4c63f-46f3-423e-95f1-4b0d80beaa43",
   "metadata": {
    "tags": []
   },
   "outputs": [],
   "source": [
    "from utils.opensearch import opensearch_utils"
   ]
  },
  {
   "cell_type": "code",
   "execution_count": 45,
   "id": "8812a5e8-3bac-43ed-a7a0-e328c3f84658",
   "metadata": {
    "tags": []
   },
   "outputs": [],
   "source": [
    "aws_region = os.environ.get(\"AWS_DEFAULT_REGION\", None)\n",
    "os_client = opensearch_utils.create_aws_opensearch_client(\n",
    "    aws_region,\n",
    "    opensearch_domain_endpoint,\n",
    "    http_auth\n",
    ")"
   ]
  },
  {
   "cell_type": "markdown",
   "id": "6910e36a-c9b0-4162-9dbb-76b151b09862",
   "metadata": {},
   "source": [
    "## 4. Question Answering\n",
    "- [BedrockChat with claude3](https://medium.com/@dminhk/building-with-anthropics-claude-3-on-amazon-bedrock-and-langchain-%EF%B8%8F-2b842f9c0ca8)"
   ]
  },
  {
   "cell_type": "code",
   "execution_count": 46,
   "id": "4c418f5d-5b26-4c2b-ac88-1e11b8f0d8ac",
   "metadata": {
    "tags": []
   },
   "outputs": [],
   "source": [
    "from utils.rag import qa_chain\n",
    "from utils.rag import prompt_repo, show_context_used\n",
    "from langchain.callbacks.tracers import ConsoleCallbackHandler\n",
    "from utils.rag import retriever_utils, OpenSearchHybridSearchRetriever"
   ]
  },
  {
   "cell_type": "markdown",
   "id": "70cb1747-c239-41a5-8f2a-f5dd9df6263f",
   "metadata": {},
   "source": [
    "### Retriever 정의"
   ]
  },
  {
   "cell_type": "code",
   "execution_count": 103,
   "id": "4244599c-356e-4cd5-8509-d2f034f9ebf9",
   "metadata": {
    "tags": []
   },
   "outputs": [],
   "source": [
    "opensearch_hybrid_retriever = OpenSearchHybridSearchRetriever(\n",
    "    os_client=os_client,\n",
    "    index_name=index_name,\n",
    "    llm_text=llm_text, # llm for query augmentation in both rag_fusion and HyDE\n",
    "    llm_emb=llm_emb, # Used in semantic search based on opensearch \n",
    "\n",
    "    # hybird-search debugger\n",
    "    hybrid_search_debugger = \"semantic\", #[semantic, lexical, None]\n",
    "    \n",
    "    # option for lexical\n",
    "    minimum_should_match=0,\n",
    "    filter=[],\n",
    "\n",
    "    # option for search\n",
    "    fusion_algorithm=\"RRF\", # [\"RRF\", \"simple_weighted\"], rank fusion 방식 정의\n",
    "    ensemble_weights=[.51, .49], # [for semantic, for lexical], Semantic, Lexical search 결과에 대한 최종 반영 비율 정의\n",
    "    reranker=True, # enable reranker with reranker model\n",
    "    reranker_endpoint_name=endpoint_name, # endpoint name for reranking model\n",
    "    parent_document=False, # enable parent document\n",
    "    \n",
    "    # hybird-search debugger\n",
    "    #hybrid_search_debugger = \"semantic\", #[semantic, lexical, None]\n",
    "\n",
    "    #rag_fusion=True, # enable rag_fusion\n",
    "    #query_augmentation_size=2, # query_augmentation_size in rag_fusion\n",
    "    #hyde=False, # enable hyde\n",
    "    #hyde_query=[\"web_search\"], # query type in hyde \n",
    "    \n",
    "    # option for complex documents consisting of text, table and image\n",
    "    complex_doc=True,\n",
    "    \n",
    "    # option for async search\n",
    "    async_mode=True,\n",
    "\n",
    "    # option for output\n",
    "    k=5, # 최종 Document 수 정의\n",
    "    verbose=False,\n",
    ")"
   ]
  },
  {
   "cell_type": "markdown",
   "id": "d9adf603-c028-4076-8c0a-dab5e98ee366",
   "metadata": {},
   "source": [
    "### QA chain 정의"
   ]
  },
  {
   "cell_type": "code",
   "execution_count": 104,
   "id": "4d4f0756-afb7-45dc-aea7-e1f915a20d8d",
   "metadata": {
    "tags": []
   },
   "outputs": [],
   "source": [
    "system_prompt = prompt_repo.get_system_prompt()"
   ]
  },
  {
   "cell_type": "code",
   "execution_count": 105,
   "id": "8c99e6c6-d3e2-4bc3-834d-1fa9e4610a53",
   "metadata": {
    "tags": []
   },
   "outputs": [],
   "source": [
    "qa = qa_chain(\n",
    "    llm_text=llm_text,\n",
    "    retriever=opensearch_hybrid_retriever,\n",
    "    system_prompt=system_prompt,\n",
    "    return_context=True,\n",
    "    verbose=False\n",
    ")"
   ]
  },
  {
   "cell_type": "code",
   "execution_count": 106,
   "id": "c52c5de5-6ec3-4729-bc87-9bb9e82c5b35",
   "metadata": {
    "tags": []
   },
   "outputs": [
    {
     "name": "stdout",
     "output_type": "stream",
     "text": [
      "성교육에서 부모가 자녀에게 가르쳐야 할 주요 내용은 다음과 같습니다.\n",
      "\n",
      "③ 부부간에 존중하고 사랑하는 모습을 자녀 앞에서 자연스럽게 표현하도록 합니다. \n",
      "④ 질문에 답할 때는 회피하지 말고 불충분한 대답이라도 구체적, 직접적으로 성에 관한 설명을 해야 합니다. 질문 이유도 알아보세요.\n",
      "⑤ 성교육은 과학적인 면과 사회적, 윤리적인 면을 병행하여 가르쳐야 합니다.\n",
      "\n",
      "또한 ④ 평소 성 지식에 대해 자연스럽게 알려주고 무엇이 성폭력인지 정확히 알게 해주어야 합니다.\n",
      "\n",
      "부모가 자녀에게 바른 성지식을 구체적이고 직접적으로 알려주고, 과학적, 윤리적 측면을 고르게 교육하며, 부부 사이의 존중과 사랑의 모습을 보여주는 것이 중요합니다.\n",
      "-----------------------------------------------\n",
      "1. Category: CompositeElement, Chunk: 853 Characters\n",
      "-----------------------------------------------\n",
      ". ② 아는 사람이라도 원하지 않는 신체 접촉을 하면 참고 있지 말고 단호하게 “싫다!”는 의사 표현을 하며 즉시 자리를 피하도록 알려줍니다. 신체 접촉 전 상대의 의사를 항상\n",
      "먼저 물어보도록 알려줍 면 이 가 니다. 상대가 대답하지 않으면 yes라고 생각하는 경우 때문에 사안이 발생하는 경우가 많습니다. 무 다 . - 13 - 가 니 다 . 응답은\n",
      "yes가 아니라 NO일 수 있습니다. ③ 호의를 베푼다고 모르는 사람을 따라가거나, 아는 사람이라도 가족이 아닌 경우 단 둘이 집에 있게 하거나 차를 타지 않도록 알려줍니다. 에\n",
      "려 주 고 를 해 일 이 ④ 평소 성 지식에 대해 자연스럽게 알려주고 무엇이 성폭력인지 정확히 알게 해주십시오. @ ⑤ 평소 자녀와 충분한 대화를 통해 무슨 일이든지 부모님께 말할\n",
      "수 있게 해주십시오. ⑥ 휴대폰 채팅 어플 사용자제: 청소년 대상으로 하는 휴대폰 채팅 어플의 종류가 많습니다. 실제로 청 소년에게 성범죄 등의 영향을 미치는 경우가 있으니 채팅\n",
      "어플 사용 자제를 권유합니다 7. 성교육에 임하는 부모님의 자세 ① 자연스러운 대화의 분위기를 만들어 성교육을 합니다. ② 정확한 성지식을 알고 있어야 잘 지도하므로 부모님들도\n",
      "올바른 성에 대해 공부해야 합니다. ③ 부부간에 존중하고 사랑하는 모습을 자녀 앞에서 자연스럽게 표현하도록 합니다. ④ 질문에 답할 때는 당황하거나 회피하지 말고 불충분한\n",
      "대답이라도 좋으나 거짓말은 하지 말아야 합니다. - 성에 관한 설명은 구체적, 직접적으로 표현해야 합니다. 그 질문을 왜 했는지 알아보세요. ⑤ 성교육은 과학적인 면과 사회적,\n",
      "윤리적인 면을 병행하여 가르쳐야 합니다. ⑥ 부모가 해결하기 어려운 문제는 전문교사나 상담기관을 찾습니다. 8\n",
      "metadata:\n",
      " {'source': './data/complex_pdf/school_edu_guide.pdf', 'filetype': 'application/pdf', 'languages':\n",
      "['kor', 'eng'], 'last_modified': '2024-04-04T01:39:24', 'page_number': 15, 'orig_elements': '',\n",
      "'file_directory': './data/complex_pdf', 'filename': 'school_edu_guide.pdf', 'category':\n",
      "'CompositeElement', 'family_tree': 'child', 'parent_id': '142f2306-8a60-4300-8fb0-a65f62e314c7',\n",
      "'id': 'eb8c05bc-6e59-41a3-8b72-e0a7fe70ccdf'}\n",
      "\n",
      "-----------------------------------------------\n",
      "2. Category: CompositeElement, Chunk: 825 Characters\n",
      "-----------------------------------------------\n",
      ". ③ 부부간에 존중하고 사랑하는 모습을 자녀 앞에서 자연스럽게 표현하도록 합니다. ④ 질문에 답할 때는 당황하거나 회피하지 말고 불충분한 대답이라도 좋으나 거짓말은 하지 말아야\n",
      "합니다. - 성에 관한 설명은 구체적, 직접적으로 표현해야 합니다. 그 질문을 왜 했는지 알아보세요. ⑤ 성교육은 과학적인 면과 사회적, 윤리적인 면을 병행하여 가르쳐야 합니다.\n",
      "⑥ 부모가 해결하기 어려운 문제는 전문교사나 상담기관을 찾습니다. 8. 디지털 성범죄 예방 디지터 서버시 안 전 하 고 자 유 로 운 세 상 을 위해 우 리 가 할 수 있 는 것\n",
      "들 = OH™ 디 지 털 장 비 , 정 보 통 신 망 올 매 개 로 제삭 배포 유 통 되 는 형 식 의 범 죄 0 2} 8 사 이버 공 간 에 서는 다 른 사 람 의 개 인 정 보\n",
      "나 타 인이 나 오 는 구 체 적 으 로는 Ol LTI 4891 9 SR 몰 래 카 메 라 제 작 물 _ ㅣ PUBIOME | |ceame Ay ｜ e “ 나 의 개 인 정 보 를\n",
      "보 내 거 나 허 락 없 이 게 시 하 거 나 58 사 이 버 공 간 에 서 불 특 정 다 수 에 전 달 하 는 행 위 로 03 R |\\ 밝 메 랄 트 . / 관 비 화 트다 /\n",
      ". 토 sewn s 형 , 참 여 형 , 소 비 형 이 있 음 . 안 전 하 고 자 유 로 운 세 상 을 위해 우 리 가 할 수 있 는 것 들 0 2} 8 사 이버 공 간 에 서는\n",
      "다 른 사 람 의 개 인 정 보 나 타 인이 나 오 는 ㅣ PUBIOME | |ceame Ay ｜ e 나 의 개 인 정 보 를 보 내 거 나 허 락 없 이 게 시 하 거 나 |\\\n",
      "밝 메 랄 트 . / 관 비 화 트다 /\n",
      "metadata:\n",
      " {'source': './data/complex_pdf/school_edu_guide.pdf', 'filetype': 'application/pdf', 'languages':\n",
      "['kor', 'eng'], 'last_modified': '2024-04-04T01:39:24', 'page_number': 15, 'orig_elements': '',\n",
      "'file_directory': './data/complex_pdf', 'filename': 'school_edu_guide.pdf', 'category':\n",
      "'CompositeElement', 'family_tree': 'child', 'parent_id': '142f2306-8a60-4300-8fb0-a65f62e314c7',\n",
      "'id': 'aa82a018-2fc3-4ed9-8140-b6820de9ed54'}\n",
      "\n",
      "-----------------------------------------------\n",
      "3. Category: CompositeElement, Chunk: 3096 Characters\n",
      "-----------------------------------------------\n",
      "□7 성폭력 예방 교육 보건교사 김○혜 1. 아동·청소년 성폭력 현황: 하루 25명 성폭력 피해(2018년도 국감자료) 가 근 간 자 해 령 : 균 해 로 : 저 , 최근 5년간\n",
      "꾸준한 증가 아동 청소년: 남자 피해자 4.1% 피해 연령: 평균 14.6세 은 을 피해 경로: SNS 메신저, 어플리케이션 등이 가장 많은 비중을 차지함. 지 . 성폭력은 아는\n",
      "사람에 의한 경우가 63.3%로 가장 높음 2. 성폭력이란? 성과 관련하여 상대방의 동의 없이 행해지는 모든 신체적, 언어적, 정신적 폭력 3. 자주 발생하는 ‘또래\n",
      "성폭력·성희롱’ 행동은? 가. 야한 말이나 사진, 동영상을 카카오톡, 밴드, SNS로 보냄 이 른 . . 정 유 의 에 해 에 나. 성장이 빠른 친구의 몸에 대해 지속적으로\n",
      "놀리거나 특정 신체 부위에 대해 수시로 언급 서 다. 여학생의 치마 속 등을 휴대폰으로 찍어서 친구들에게 공유 로 급 라. 장난치는 척하면서 슬쩍 가슴이나 상대방의 생식기를 만짐\n",
      "☞ 장난이라고 생각하는 행동들이 성폭력 범죄이며, 가해자 행동임을 자녀들에게 반드시 지도 하여야 합니다. 4. 성폭력·성희롱 예방을 위한 좋은 습관 - ~ Safe! 안 전 하 게\n",
      "친 구 들 과 생 활 하 려 면 ... 평 소 차 신 의 생 각 과 느 낌 을 정 확 하 게 표 현 하 는 습 관 을 가 져 요 . \"“ 좋 으 면 좋 다 ”, “ 싫 으 면 실\n",
      "다 !” 확 실 하 게 표 현 해 요 . - 스 킨 십 을 하 고 싶 다 면 먼 저 허 락 을 구 해 야 해 요 . - 청 적 인 농 담 이 나 놀 이 , 불 필 요 한 신 체 첨\n",
      "촉 은 안 돼 요 . - 여 러 사 람 이 \" 뽀 뽀 해 !'” 등과 같 은 성 적 인 행 동 을 시 키 거 나 강 요 하 면 안 돼 요 . - 친 체 노 출 이 나 성 적 인 행\n",
      "동 을 사 진 찍 공 유 하 거 나 인 터 넷 에 올 리 면 안 돼 요 . I It‘l[)! 피 해 자 가 주 변 에 있 다 면 ... - 이런 말 은 친 구 를 더 힘 들 게 해\n",
      "요 !( 덮 어 두 어 라 , 나 라 면 안 그 랬 을 텐 데 , 너 도 잘 못 했 네 .) - 이 야 기 를 잘 들 어 주 고 절 대 로 소 문 내 면 안 돼 요 . - 친 구\n",
      "말 을 믿 어 주 고 전 문 기 관 의 도 움 을 받 도 록 꼭 권 하 세 요 . 5. 성폭력 발생 시 도움을 받을 수 있는 곳 여성 긴급전화 국번 없이 『1366』,\n",
      "학교폭력(성폭력) 신고 『112』, 『117』 경기해바라기 아동센터 www.sunflower1375.or.kr, 031) 708-1375~6 성범죄알림e\n",
      "사이트(http://sexoffender.go.kr), 스마트폰 성범죄알림e 앱 다운 설치 성매매 알선 권유행위 신고하기(경찰서 112, 경찰청 홈페이지\n",
      "www.police.go.kr 사이버 범죄 신고) 6. 성범죄 예방을 위한 부모님의 역할 ① 자녀가 자주 다니는 곳, 집을 오가는 길에 위험요소가 있는지 미리 둘러보십시오. ②\n",
      "아는 사람이라도 원하지 않는 신체 접촉을 하면 참고 있지 말고 단호하게 “싫다!”는 의사 표현을 하며 즉시 자리를 피하도록 알려줍니다. 신체 접촉 전 상대의 의사를 항상 먼저\n",
      "물어보도록 알려줍 면 이 가 니다. 상대가 대답하지 않으면 yes라고 생각하는 경우 때문에 사안이 발생하는 경우가 많습니다. 무 다 . - 13 - 가 니 다 . 응답은 yes가\n",
      "아니라 NO일 수 있습니다. ③ 호의를 베푼다고 모르는 사람을 따라가거나, 아는 사람이라도 가족이 아닌 경우 단 둘이 집에 있게 하거나 차를 타지 않도록 알려줍니다. 에 려 주 고\n",
      "를 해 일 이 ④ 평소 성 지식에 대해 자연스럽게 알려주고 무엇이 성폭력인지 정확히 알게 해주십시오. @ ⑤ 평소 자녀와 충분한 대화를 통해 무슨 일이든지 부모님께 말할 수 있게\n",
      "해주십시오. ⑥ 휴대폰 채팅 어플 사용자제: 청소년 대상으로 하는 휴대폰 채팅 어플의 종류가 많습니다. 실제로 청 소년에게 성범죄 등의 영향을 미치는 경우가 있으니 채팅 어플 사용\n",
      "자제를 권유합니다 7. 성교육에 임하는 부모님의 자세 ① 자연스러운 대화의 분위기를 만들어 성교육을 합니다. ② 정확한 성지식을 알고 있어야 잘 지도하므로 부모님들도 올바른 성에\n",
      "대해 공부해야 합니다. ③ 부부간에 존중하고 사랑하는 모습을 자녀 앞에서 자연스럽게 표현하도록 합니다. ④ 질문에 답할 때는 당황하거나 회피하지 말고 불충분한 대답이라도 좋으나\n",
      "거짓말은 하지 말아야 합니다. - 성에 관한 설명은 구체적, 직접적으로 표현해야 합니다. 그 질문을 왜 했는지 알아보세요. ⑤ 성교육은 과학적인 면과 사회적, 윤리적인 면을\n",
      "병행하여 가르쳐야 합니다. ⑥ 부모가 해결하기 어려운 문제는 전문교사나 상담기관을 찾습니다. 8. 디지털 성범죄 예방 디지터 서버시 안 전 하 고 자 유 로 운 세 상 을 위해 우\n",
      "리 가 할 수 있 는 것 들 = OH™ 디 지 털 장 비 , 정 보 통 신 망 올 매 개 로 제삭 배포 유 통 되 는 형 식 의 범 죄 0 2} 8 사 이버 공 간 에 서는 다 른\n",
      "사 람 의 개 인 정 보 나 타 인이 나 오 는 구 체 적 으 로는 Ol LTI 4891 9 SR 몰 래 카 메 라 제 작 물 _ ㅣ PUBIOME | |ceame Ay ｜ e “\n",
      "나 의 개 인 정 보 를 보 내 거 나 허 락 없 이 게 시 하 거 나 58 사 이 버 공 간 에 서 불 특 정 다 수 에 전 달 하 는 행 위 로 03 R |\\ 밝 메 랄 트 .\n",
      "/ 관 비 화 트다 / . 토 sewn s 형 , 참 여 형 , 소 비 형 이 있 음 . 안 전 하 고 자 유 로 운 세 상 을 위해 우 리 가 할 수 있 는 것 들 0 2} 8\n",
      "사 이버 공 간 에 서는 다 른 사 람 의 개 인 정 보 나 타 인이 나 오 는 ㅣ PUBIOME | |ceame Ay ｜ e 나 의 개 인 정 보 를 보 내 거 나 허 락 없 이\n",
      "게 시 하 거 나 |\\ 밝 메 랄 트 . / 관 비 화 트다 / . 토 sewn s 디지터 서버시 = OH™ 디 지 털 장 비 , 정 보 통 신 망 올 매 개 로 제삭 배포 유 통\n",
      "되 는 형 식 의 범 죄 구 체 적 으 로는 Ol LTI 4891 9 SR 몰 래 카 메 라 제 작 물 _ “ 58 사 이 버 공 간 에 서 불 특 정 다 수 에 전 달 하 는 행\n",
      "위 로 03 R 형 , 참 여 형 , 소 비 형 이 있 음 .\n",
      "metadata:\n",
      " {'source': './data/complex_pdf/school_edu_guide.pdf', 'filetype': 'application/pdf', 'languages':\n",
      "['kor', 'eng'], 'last_modified': '2024-04-04T01:39:24', 'page_number': 15, 'orig_elements': '',\n",
      "'file_directory': './data/complex_pdf', 'filename': 'school_edu_guide.pdf', 'category':\n",
      "'CompositeElement', 'family_tree': 'parent', 'parent_id': None, 'id':\n",
      "'142f2306-8a60-4300-8fb0-a65f62e314c7'}\n",
      "\n",
      "-----------------------------------------------\n",
      "4. Category: CompositeElement, Chunk: 959 Characters\n",
      "-----------------------------------------------\n",
      ". - 스 킨 십 을 하 고 싶 다 면 먼 저 허 락 을 구 해 야 해 요 . - 청 적 인 농 담 이 나 놀 이 , 불 필 요 한 신 체 첨 촉 은 안 돼 요 . - 여 러 사\n",
      "람 이 \" 뽀 뽀 해 !'” 등과 같 은 성 적 인 행 동 을 시 키 거 나 강 요 하 면 안 돼 요 . - 친 체 노 출 이 나 성 적 인 행 동 을 사 진 찍 공 유 하 거 나\n",
      "인 터 넷 에 올 리 면 안 돼 요 . I It‘l[)! 피 해 자 가 주 변 에 있 다 면 ... - 이런 말 은 친 구 를 더 힘 들 게 해 요 !( 덮 어 두 어 라 , 나\n",
      "라 면 안 그 랬 을 텐 데 , 너 도 잘 못 했 네 .) - 이 야 기 를 잘 들 어 주 고 절 대 로 소 문 내 면 안 돼 요 . - 친 구 말 을 믿 어 주 고 전 문 기 관\n",
      "의 도 움 을 받 도 록 꼭 권 하 세 요 . 5. 성폭력 발생 시 도움을 받을 수 있는 곳 여성 긴급전화 국번 없이 『1366』, 학교폭력(성폭력) 신고 『112』, 『117』\n",
      "경기해바라기 아동센터 www.sunflower1375.or.kr, 031) 708-1375~6 성범죄알림e 사이트(http://sexoffender.go.kr), 스마트폰\n",
      "성범죄알림e 앱 다운 설치 성매매 알선 권유행위 신고하기(경찰서 112, 경찰청 홈페이지 www.police.go.kr 사이버 범죄 신고) 6. 성범죄 예방을 위한 부모님의 역할\n",
      "① 자녀가 자주 다니는 곳, 집을 오가는 길에 위험요소가 있는지 미리 둘러보십시오. ② 아는 사람이라도 원하지 않는 신체 접촉을 하면 참고 있지 말고 단호하게 “싫다!”는 의사\n",
      "표현을 하며 즉시 자리를 피하도록 알려줍니다. 신체 접촉 전 상대의 의사를 항상 먼저 물어보도록 알려줍 면 이 가 니다. 상대가 대답하지 않으면 yes라고 생각하는 경우 때문에\n",
      "사안이 발생하는 경우가 많습니다. 무 다 . - 13 - 가 니 다 . 응답은 yes가 아니라 NO일 수 있습니다\n",
      "metadata:\n",
      " {'source': './data/complex_pdf/school_edu_guide.pdf', 'filetype': 'application/pdf', 'languages':\n",
      "['kor', 'eng'], 'last_modified': '2024-04-04T01:39:24', 'page_number': 15, 'orig_elements': '',\n",
      "'file_directory': './data/complex_pdf', 'filename': 'school_edu_guide.pdf', 'category':\n",
      "'CompositeElement', 'family_tree': 'child', 'parent_id': '142f2306-8a60-4300-8fb0-a65f62e314c7',\n",
      "'id': 'b6074abc-f48a-46ba-a0f8-4ffbd60035a0'}\n",
      "\n",
      "-----------------------------------------------\n",
      "5. Category: CompositeElement, Chunk: 513 Characters\n",
      "-----------------------------------------------\n",
      ". -‘죽겠다’는 자녀의 말이 단순한 투정으로 느껴지더라도 자녀의 입장에서는 그 문제는 삶과 죽음의 문제일 수 있습니다. 자녀의 입장에 서서 진지하게 이해하고 고통을 나누려고\n",
      "노력해야 합니다. “엄마(아빠)가 널 어떻게 도우면 좋을까?” “그런 일이 있어서 네가 죽고 싶은 생각까지 들었던 거구나. 그 일을 엄마(아빠)가 도와줄테니 함께 해결해 보자.”\n",
      "“내가 보기엔 네가 많이 힘들어하는 것 같은데, 함께 병원에 가보지 않을래?” 4) 자녀의 긍정적인 측면을 지지해 줍니다. “너는 이 어려움을 이겨낼 힘이 있어. 도와줄게” “네\n",
      "생각보다 우리 가족은 너에게 관심을 갖고 있고 너에겐 친구들도 있잖아.” 5) 스트레스를 건강하게 해소하는 활동을 찾을 수 있도록 도와주세요. 아이가 하고 싶 어 하고 잘하는\n",
      "활동을 독려하되 압력을 가하지 않는 것이 좋습니다. 6) 신속한 조치를 취합니다. -만일 어느 시점에서 자살을 감행하려는 전조나 불안한 기분을 느낀다면, 주저하지 말고 전문가의 도\n",
      "움을 요청합니다. - 31 -\n",
      "metadata:\n",
      " {'source': './data/complex_pdf/school_edu_guide.pdf', 'filetype': 'application/pdf', 'languages':\n",
      "['kor', 'eng'], 'last_modified': '2024-04-04T01:39:24', 'page_number': 32, 'orig_elements': '',\n",
      "'file_directory': './data/complex_pdf', 'filename': 'school_edu_guide.pdf', 'category':\n",
      "'CompositeElement', 'family_tree': 'child', 'parent_id': '60e612cc-3450-4113-9b9e-30f6143dc37e',\n",
      "'id': 'c93905f9-575f-43d6-bd39-460963f07b7a'}\n"
     ]
    }
   ],
   "source": [
    "#query = \"감독계획수립 후 현장감독에서 법 위반을 하면 이후 프로세스는?\" ## Image 30\n",
    "#query = \"안전보건표지에서 지시표지의 종류와 용도는?\" ## Table 8\n",
    "#query = \"건강진단 순서를 알려줘\" ## Diagram 15\n",
    "\n",
    "#query = \"수익률 그래프 설명해줘\"\n",
    "#query = \"만기가격이 기준가격의 100% 미만일 때 만기상환금액 계산하는 방법 알려줘\"\n",
    "#query = \"전년 동기 현금 예치금 구성비 알려줘\"\n",
    "#query = \"자산총계 금액 알려줘\"\n",
    "#query = \"대출채권 금액은?\"\n",
    "\n",
    "#query = \"대출채권의 전년동기에 해당하는 구성비는 얼마입니까?\"\n",
    "#query = \"당기손익-공정가치측정유가증권 전년동기의 구성비는?\"\n",
    "\n",
    "query = \"재난 발생 시 대처사항은?\"\n",
    "query = \"학교폭력 처리 과정은?\"\n",
    "#query = \"감염병의 종류와 경로는?\"\n",
    "query = \"홍역에 대한 백신 이름은?\"\n",
    "\n",
    "query = \"부모가 자녀에게 가르쳐야 할 성지식에는 어떤 것이 있나요?\"\n",
    "#query = \"MMR 2차의 예방접종 시기는?\"\n",
    "#query = \"교육목표는?\"\n",
    "#query = \"만기상환금액 알려줘\"\n",
    "#query = \"asdf\"\n",
    "\n",
    "response, contexts = qa.invoke(\n",
    "    query = query,\n",
    "    verbose=False\n",
    ")\n",
    "\n",
    "show_context_used(contexts)"
   ]
  },
  {
   "cell_type": "markdown",
   "id": "b68e6691-1b5f-4572-a151-6ebcabfe5b34",
   "metadata": {},
   "source": [
    "### Parameter updates"
   ]
  },
  {
   "cell_type": "code",
   "execution_count": 42,
   "id": "2e5eef84-5d10-46e2-b0fa-3dcac41084e6",
   "metadata": {
    "tags": []
   },
   "outputs": [],
   "source": [
    "opensearch_hybrid_retriever.update_search_params(\n",
    "    k=7,\n",
    "    minimum_should_match=0,\n",
    "    \n",
    "    # hybird-search debugger\n",
    "    hybrid_search_debugger = \"None\", #[lexical, semantic, None]\n",
    "    \n",
    "    # filter=[\n",
    "    #     {'term': {'metadata.family_tree': 'child'}},\n",
    "    # ],\n",
    "    \n",
    "    reranker=True, # enable reranker with reranker model\n",
    "    reranker_endpoint_name=endpoint_name, # endpoint name for reranking model\n",
    "    parent_document=True, # enable parent document\n",
    "    rag_fusion=False, # enable rag_fusion\n",
    "    #query_augmentation_size=2, # query_augmentation_size in rag_fusion\n",
    "    #hyde=False, # enable hyde\n",
    "    #hyde_query=[\"web_search\"], # query type in hyde \n",
    "    \n",
    "    # option for complex documents consisting of text, table and image\n",
    "    complex_doc=True, # False 이면, invocation시 text만 넣는다. 단, \n",
    "    \n",
    "    ensemble_weights=[0.51, 0.49], #semantic, lexical\n",
    "    verbose=False\n",
    ")"
   ]
  },
  {
   "cell_type": "code",
   "execution_count": null,
   "id": "c317afb2-db7a-46c3-94c8-1b1418ca879d",
   "metadata": {
    "tags": []
   },
   "outputs": [],
   "source": [
    "#query = \"감독계획수립 후 현장감독에서 법 위반을 하면 이후 프로세스는?\" ## Image 30\n",
    "#query = \"안전보건표지에서 지시표지의 종류와 용도는?\" ## Table 8\n",
    "#query = \"건강진단 순서를 알려줘\" ## Diagram 15\n",
    "\n",
    "##\n",
    "query = \"학기 초에 어린이 납치 예방 방법은?\" # semantic o, lexical x\n",
    "query = \"차 흡연 옷. 벽면에 붙은 연기로 인한 피해?\" # semantic o, lexical x\n",
    "query = \"교육목표는?\"\n",
    "#query = \"수익률 그래프 설명해줘\"\n",
    "query = \"감염병의 종류와 경로는?\"\n",
    "query = \"학교폭력 유형의 개수와 종류 알려줘\"\n",
    "query = \"응급처치 방법에 대해서 알려줘\"\n",
    "query = \"차 밑에서 물건을 꺼내는 아이는 누가 도와줘야 해?\"\n",
    "query = \"공사장 근처에서 노는 아이는 누가 도와줘야 해?\"\n",
    "#query = \"중지된 경우 이체\"\n"
   ]
  },
  {
   "cell_type": "code",
   "execution_count": null,
   "id": "3b5834ab-a54b-42df-82e4-7f0d5f6e11ea",
   "metadata": {
    "tags": []
   },
   "outputs": [],
   "source": [
    "response, contexts = qa.invoke(\n",
    "    query = query,\n",
    "    verbose=False\n",
    ")"
   ]
  },
  {
   "cell_type": "code",
   "execution_count": null,
   "id": "7589172a-c6de-42ec-8119-fa3011ecd730",
   "metadata": {
    "tags": []
   },
   "outputs": [],
   "source": [
    "print(\"##################################\")\n",
    "print(\"query: \", query)\n",
    "print(\"##################################\")\n",
    "\n",
    "print (colored(\"\\n\\n### Answer ###\", \"blue\"))\n",
    "print_ww(response)\n",
    "\n",
    "\n",
    "print (colored(\"\\n\\n### Contexts ###\", \"green\"))\n",
    "show_context_used(contexts, limit=10)"
   ]
  },
  {
   "cell_type": "code",
   "execution_count": null,
   "id": "2cd3a833-8c52-4272-87b9-0e65a941b7fb",
   "metadata": {},
   "outputs": [],
   "source": []
  }
 ],
 "metadata": {
  "kernelspec": {
   "display_name": "conda_python3",
   "language": "python",
   "name": "conda_python3"
  },
  "language_info": {
   "codemirror_mode": {
    "name": "ipython",
    "version": 3
   },
   "file_extension": ".py",
   "mimetype": "text/x-python",
   "name": "python",
   "nbconvert_exporter": "python",
   "pygments_lexer": "ipython3",
   "version": "3.10.13"
  }
 },
 "nbformat": 4,
 "nbformat_minor": 5
}
