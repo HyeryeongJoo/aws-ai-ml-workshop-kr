{
 "cells": [
  {
   "cell_type": "markdown",
   "id": "5deb2df2-413d-49bd-a829-3a1fc344937e",
   "metadata": {},
   "source": [
    "# RAG over complex Documents\n"
   ]
  },
  {
   "cell_type": "markdown",
   "id": "b1f81abc-3277-4a6b-9ef1-d4f997d67fbe",
   "metadata": {},
   "source": [
    "## Setting\n",
    " - Auto Reload\n",
    " - path for utils"
   ]
  },
  {
   "cell_type": "code",
   "execution_count": 1,
   "id": "ddde4105-b759-4d6c-8214-8e1ab485ae48",
   "metadata": {
    "tags": []
   },
   "outputs": [],
   "source": [
    "%load_ext autoreload\n",
    "%autoreload 2"
   ]
  },
  {
   "cell_type": "code",
   "execution_count": 2,
   "id": "57c2cdb1-d785-4317-afce-938f13141085",
   "metadata": {
    "tags": []
   },
   "outputs": [],
   "source": [
    "import sys, os\n",
    "module_path = \"../../..\"\n",
    "sys.path.append(os.path.abspath(module_path))"
   ]
  },
  {
   "cell_type": "markdown",
   "id": "1e913b68-f9ed-4da7-bc49-4db57f456c91",
   "metadata": {},
   "source": [
    "## 1. Creatr Bedrock client"
   ]
  },
  {
   "cell_type": "code",
   "execution_count": 3,
   "id": "424492cf-401a-486d-9c1e-f2c6617b6e75",
   "metadata": {
    "tags": []
   },
   "outputs": [],
   "source": [
    "import json\n",
    "import boto3\n",
    "from pprint import pprint\n",
    "from termcolor import colored\n",
    "from utils import bedrock, print_ww\n",
    "from utils.bedrock import bedrock_info"
   ]
  },
  {
   "cell_type": "markdown",
   "id": "e841327d-03ff-4a22-8224-91df66e0a943",
   "metadata": {},
   "source": [
    "### ---- ⚠️ Un-comment and edit the below lines as needed for your AWS setup ⚠️ ----\n",
    "- os.environ[\"AWS_DEFAULT_REGION\"] = \"<REGION_NAME>\"  # E.g. \"us-east-1\"\n",
    "- os.environ[\"AWS_PROFILE\"] = \"<YOUR_PROFILE>\"\n",
    "- os.environ[\"BEDROCK_ASSUME_ROLE\"] = \"<YOUR_ROLE_ARN>\"  # E.g. \"arn:aws:...\"\n",
    "- os.environ[\"BEDROCK_ENDPOINT_URL\"] = \"<YOUR_ENDPOINT_URL>\"  # E.g. \"https://...\""
   ]
  },
  {
   "cell_type": "code",
   "execution_count": 4,
   "id": "66a621c0-db5c-4e25-919e-099c2debbf88",
   "metadata": {
    "tags": []
   },
   "outputs": [
    {
     "name": "stdout",
     "output_type": "stream",
     "text": [
      "Create new client\n",
      "  Using region: None\n",
      "  Using profile: None\n",
      "boto3 Bedrock client successfully created!\n",
      "bedrock-runtime(https://bedrock-runtime.us-east-1.amazonaws.com)\n",
      "\u001b[32m\n",
      "== FM lists ==\u001b[0m\n",
      "{'Claude-Instant-V1': 'anthropic.claude-instant-v1',\n",
      " 'Claude-V1': 'anthropic.claude-v1',\n",
      " 'Claude-V2': 'anthropic.claude-v2',\n",
      " 'Claude-V2-1': 'anthropic.claude-v2:1',\n",
      " 'Claude-V3-Haiku': 'anthropic.claude-3-haiku-20240307-v1:0',\n",
      " 'Claude-V3-Sonnet': 'anthropic.claude-3-sonnet-20240229-v1:0',\n",
      " 'Cohere-Embeddings-En': 'cohere.embed-english-v3',\n",
      " 'Cohere-Embeddings-Multilingual': 'cohere.embed-multilingual-v3',\n",
      " 'Command': 'cohere.command-text-v14',\n",
      " 'Command-Light': 'cohere.command-light-text-v14',\n",
      " 'Jurassic-2-Mid': 'ai21.j2-mid-v1',\n",
      " 'Jurassic-2-Ultra': 'ai21.j2-ultra-v1',\n",
      " 'Llama2-13b-Chat': 'meta.llama2-13b-chat-v1',\n",
      " 'Titan-Embeddings-G1': 'amazon.titan-embed-text-v1',\n",
      " 'Titan-Text-G1': 'amazon.titan-text-express-v1',\n",
      " 'Titan-Text-G1-Light': 'amazon.titan-text-lite-v1'}\n"
     ]
    }
   ],
   "source": [
    "boto3_bedrock = bedrock.get_bedrock_client(\n",
    "    assumed_role=os.environ.get(\"BEDROCK_ASSUME_ROLE\", None),\n",
    "    endpoint_url=os.environ.get(\"BEDROCK_ENDPOINT_URL\", None),\n",
    "    region=os.environ.get(\"AWS_DEFAULT_REGION\", None),\n",
    ")\n",
    "\n",
    "print (colored(\"\\n== FM lists ==\", \"green\"))\n",
    "pprint (bedrock_info.get_list_fm_models(verbose=False))"
   ]
  },
  {
   "cell_type": "markdown",
   "id": "c22b84be-91ee-4e22-8ed0-3c23b907172a",
   "metadata": {},
   "source": [
    "## 2. Titan Embedding 및 LLM 인 Claude-v3-sonnet 모델 로딩"
   ]
  },
  {
   "cell_type": "markdown",
   "id": "381aa4d7-0ad8-467b-af4a-c1514e9559d2",
   "metadata": {},
   "source": [
    "### LLM 로딩 (Claude-v3-sonnet)"
   ]
  },
  {
   "cell_type": "code",
   "execution_count": 5,
   "id": "febdbf9e-4ed9-49d2-aaad-6cda6fed1867",
   "metadata": {
    "tags": []
   },
   "outputs": [],
   "source": [
    "from langchain_aws import ChatBedrock\n",
    "from langchain.callbacks.streaming_stdout import StreamingStdOutCallbackHandler"
   ]
  },
  {
   "cell_type": "code",
   "execution_count": 6,
   "id": "bb4edb11-7ef2-4ab4-a36c-bc0f8a5c52a5",
   "metadata": {
    "tags": []
   },
   "outputs": [
    {
     "data": {
      "text/plain": [
       "ChatBedrock(callbacks=[<langchain_core.callbacks.streaming_stdout.StreamingStdOutCallbackHandler object at 0x7fb87a23e3b0>], client=<botocore.client.BedrockRuntime object at 0x7fb86b37c370>, model_id='anthropic.claude-3-sonnet-20240229-v1:0', model_kwargs={'max_tokens': 1024, 'stop_sequences': ['\\n\\nHuman']}, streaming=True)"
      ]
     },
     "execution_count": 6,
     "metadata": {},
     "output_type": "execute_result"
    }
   ],
   "source": [
    "llm_text = ChatBedrock(\n",
    "    model_id=bedrock_info.get_model_id(model_name=\"Claude-V3-Sonnet\"),\n",
    "    client=boto3_bedrock,\n",
    "    streaming=True,\n",
    "    callbacks=[StreamingStdOutCallbackHandler()],\n",
    "    model_kwargs={\n",
    "        \"max_tokens\": 1024,\n",
    "        \"stop_sequences\": [\"\\n\\nHuman\"],\n",
    "        # \"temperature\": 0,\n",
    "        # \"top_k\": 350,\n",
    "        # \"top_p\": 0.999\n",
    "    }\n",
    ")\n",
    "llm_text"
   ]
  },
  {
   "cell_type": "markdown",
   "id": "015716aa-a430-4811-a43b-2aab23c0f731",
   "metadata": {},
   "source": [
    "### Embedding 모델 선택"
   ]
  },
  {
   "cell_type": "code",
   "execution_count": 7,
   "id": "d58da66f-d504-4434-85c4-85ce1cc6439a",
   "metadata": {
    "tags": []
   },
   "outputs": [],
   "source": [
    "from langchain.embeddings import BedrockEmbeddings"
   ]
  },
  {
   "cell_type": "code",
   "execution_count": 8,
   "id": "372e1766-b30a-49ca-bd6d-6615397996a3",
   "metadata": {
    "tags": []
   },
   "outputs": [
    {
     "name": "stdout",
     "output_type": "stream",
     "text": [
      "Bedrock Embeddings Model Loaded\n"
     ]
    }
   ],
   "source": [
    "llm_emb = BedrockEmbeddings(\n",
    "    client=boto3_bedrock,\n",
    "    model_id=bedrock_info.get_model_id(model_name=\"Titan-Embeddings-G1\")\n",
    ")\n",
    "dimension = 1536\n",
    "print(\"Bedrock Embeddings Model Loaded\")"
   ]
  },
  {
   "cell_type": "markdown",
   "id": "460fa49e-170e-4ca3-b3f4-0405e53a9e65",
   "metadata": {},
   "source": [
    "## 3. Depoly ReRanker model (if needed)"
   ]
  },
  {
   "cell_type": "code",
   "execution_count": 9,
   "id": "8825f948-e6a4-4fdd-b820-7d2461331679",
   "metadata": {
    "tags": []
   },
   "outputs": [
    {
     "name": "stdout",
     "output_type": "stream",
     "text": [
      "sagemaker.config INFO - Not applying SDK defaults from location: /etc/xdg/sagemaker/config.yaml\n",
      "sagemaker.config INFO - Not applying SDK defaults from location: /home/ec2-user/.config/sagemaker/config.yaml\n"
     ]
    }
   ],
   "source": [
    "import json\n",
    "import sagemaker\n",
    "from sagemaker.huggingface import HuggingFaceModel"
   ]
  },
  {
   "cell_type": "code",
   "execution_count": 10,
   "id": "22a22b0a-a289-4cc9-94da-70ceaa6c399f",
   "metadata": {
    "tags": []
   },
   "outputs": [],
   "source": [
    "depoly = False"
   ]
  },
  {
   "cell_type": "code",
   "execution_count": 11,
   "id": "ab95ab6d-2521-4e54-8dc6-c30713613c18",
   "metadata": {
    "tags": []
   },
   "outputs": [],
   "source": [
    "if depoly:\n",
    "\n",
    "    try:\n",
    "        role = sagemaker.get_execution_role()\n",
    "    except ValueError:\n",
    "        iam = boto3.client('iam')\n",
    "        role = iam.get_role(RoleName='sagemaker_execution_role')['Role']['Arn']\n",
    "\n",
    "    # Hub Model configuration. https://huggingface.co/models\n",
    "    hub = {\n",
    "        'HF_MODEL_ID':'Dongjin-kr/ko-reranker',\n",
    "        'HF_TASK':'text-classification'\n",
    "    }\n",
    "\n",
    "    # create Hugging Face Model Class\n",
    "    huggingface_model = HuggingFaceModel(\n",
    "        transformers_version='4.26.0',\n",
    "        pytorch_version='1.13.1',\n",
    "        py_version='py39',\n",
    "        env=hub,\n",
    "        role=role, \n",
    "    )\n",
    "\n",
    "    # deploy model to SageMaker Inference\n",
    "    predictor = huggingface_model.deploy(\n",
    "        initial_instance_count=1, # number of instances\n",
    "        instance_type='ml.g5.xlarge' # instance type\n",
    "    )\n",
    "\n",
    "    print(f'Accept: {predictor.accept}')\n",
    "    print(f'ContentType: {predictor.content_type}')\n",
    "    print(f'Endpoint: {predictor.endpoint}')"
   ]
  },
  {
   "cell_type": "markdown",
   "id": "8159075b-f792-49dd-bafa-d35064712f43",
   "metadata": {},
   "source": [
    "#### Save reranker endpoint to Parameter Store"
   ]
  },
  {
   "cell_type": "code",
   "execution_count": 12,
   "id": "94464cdf-469f-4c46-a6ca-d54a714fe0bc",
   "metadata": {
    "tags": []
   },
   "outputs": [],
   "source": [
    "if depoly:\n",
    "\n",
    "    import boto3\n",
    "    from utils.ssm import parameter_store\n",
    "\n",
    "    region=boto3.Session().region_name\n",
    "    pm = parameter_store(region)\n",
    "\n",
    "    pm.put_params(\n",
    "        key=\"reranker_endpoint\",\n",
    "        value=f'{predictor.endpoint}',\n",
    "        overwrite=True,\n",
    "        enc=False\n",
    "    )"
   ]
  },
  {
   "cell_type": "markdown",
   "id": "3bb8a33a-3ec6-466e-b1ba-25b34ddae850",
   "metadata": {},
   "source": [
    "## 4. Invocation (prediction)"
   ]
  },
  {
   "cell_type": "code",
   "execution_count": 13,
   "id": "68b0e072-c49e-4deb-8ffb-01fdc807f30c",
   "metadata": {
    "tags": []
   },
   "outputs": [],
   "source": [
    "from utils.ssm import parameter_store"
   ]
  },
  {
   "cell_type": "code",
   "execution_count": 14,
   "id": "534c3cb5-1a8b-42e6-bf98-24479f5f9506",
   "metadata": {
    "tags": []
   },
   "outputs": [],
   "source": [
    "region=boto3.Session().region_name\n",
    "pm = parameter_store(region)"
   ]
  },
  {
   "cell_type": "code",
   "execution_count": 15,
   "id": "d13eae8d-6e1e-4203-9975-b968d8e87a08",
   "metadata": {
    "tags": []
   },
   "outputs": [
    {
     "name": "stdout",
     "output_type": "stream",
     "text": [
      "runtime_client: <botocore.client.SageMakerRuntime object at 0x7fb84f3253f0>\n"
     ]
    }
   ],
   "source": [
    "runtime_client = boto3.Session().client('sagemaker-runtime')\n",
    "print (f'runtime_client: {runtime_client}')"
   ]
  },
  {
   "cell_type": "code",
   "execution_count": 16,
   "id": "c360b768-f988-44cd-b3b3-8c7966a4f750",
   "metadata": {
    "tags": []
   },
   "outputs": [],
   "source": [
    "endpoint_name = pm.get_params(\n",
    "    key=\"reranker_endpoint\",\n",
    "    enc=False\n",
    ")\n",
    "deserializer = \"application/json\""
   ]
  },
  {
   "cell_type": "code",
   "execution_count": 17,
   "id": "6d10e73d-8e2d-465f-b62d-93fe9cc10e19",
   "metadata": {
    "tags": []
   },
   "outputs": [],
   "source": [
    "payload = json.dumps(\n",
    "    {\n",
    "        \"inputs\": [\n",
    "            {\"text\": \"I hate you\", \"text_pair\": \"I don't like you\"},\n",
    "            {\"text\": \"He hates you\", \"text_pair\": \"He like you\"}\n",
    "        ]\n",
    "    }\n",
    ")"
   ]
  },
  {
   "cell_type": "code",
   "execution_count": 18,
   "id": "aa7dc3d0-6798-473b-a1c0-fba39fdbc467",
   "metadata": {
    "tags": []
   },
   "outputs": [],
   "source": [
    "payload = json.dumps(\n",
    "    {\n",
    "        \"inputs\": [\n",
    "            {\"text\": \"나는 너를 사랑하지 않아\", \"text_pair\": \"나는 너를 좋아하지 않아\"},\n",
    "            {\"text\": \"그는 너를 싫어해\", \"text_pair\": \"그는 너를 좋아해\"}\n",
    "        ]\n",
    "    }\n",
    ")"
   ]
  },
  {
   "cell_type": "code",
   "execution_count": 19,
   "id": "c71afa63-e158-4ad9-9ce2-46e3a5c263d4",
   "metadata": {
    "tags": []
   },
   "outputs": [
    {
     "name": "stdout",
     "output_type": "stream",
     "text": [
      "Response: [{'label': 'LABEL_0', 'score': 0.9984032511711121}, {'label': 'LABEL_0', 'score': 0.004707992542535067}]\n",
      "CPU times: user 15.4 ms, sys: 0 ns, total: 15.4 ms\n",
      "Wall time: 89.2 ms\n"
     ]
    }
   ],
   "source": [
    "%%time\n",
    "response = runtime_client.invoke_endpoint(\n",
    "    EndpointName=endpoint_name,\n",
    "    ContentType=\"application/json\",\n",
    "    Accept=deserializer,\n",
    "    Body=payload\n",
    ")\n",
    "## deserialization\n",
    "out = json.loads(response['Body'].read().decode()) ## for json\n",
    "print (f'Response: {out}')"
   ]
  },
  {
   "cell_type": "markdown",
   "id": "256786db-df24-47ac-b9a4-f195a8b015f2",
   "metadata": {},
   "source": [
    "## 5. LangChainOpenSearch VectorStore 정의\n",
    "### 선수 조건\n",
    "- 01_preprocess_docs/02_load_docs_opensearch.ipynb를 통해서 OpenSearch Index 가 생성이 되어 있어야 합니다.\n",
    "#### [중요] 아래에 aws parameter store 에 아래 인증정보가 먼저 입력되어 있어야 합니다.\n",
    "- 01_preprocess_docs/01_parameter_store_example.ipynb 참고"
   ]
  },
  {
   "cell_type": "code",
   "execution_count": 20,
   "id": "7464c2d9-5188-4f07-81b9-451c51e028e6",
   "metadata": {
    "tags": []
   },
   "outputs": [],
   "source": [
    "import boto3\n",
    "from utils.ssm import parameter_store"
   ]
  },
  {
   "cell_type": "code",
   "execution_count": 21,
   "id": "b40da258-a9e3-4270-a315-796e507d2ec8",
   "metadata": {
    "tags": []
   },
   "outputs": [],
   "source": [
    "region=boto3.Session().region_name\n",
    "pm = parameter_store(region)"
   ]
  },
  {
   "cell_type": "code",
   "execution_count": 22,
   "id": "0df511f9-a967-4a7f-b463-873a0f4a589a",
   "metadata": {
    "tags": []
   },
   "outputs": [],
   "source": [
    "opensearch_domain_endpoint = pm.get_params(\n",
    "    key=\"opensearch_domain_endpoint\",\n",
    "    enc=False\n",
    ")\n",
    "\n",
    "opensearch_user_id = pm.get_params(\n",
    "    key=\"opensearch_user_id\",\n",
    "    enc=False\n",
    ")\n",
    "\n",
    "opensearch_user_password = pm.get_params(\n",
    "    key=\"opensearch_user_password\",\n",
    "    enc=True\n",
    ")"
   ]
  },
  {
   "cell_type": "code",
   "execution_count": 23,
   "id": "a4ed12f3-77a7-4735-9a09-c7af0d68f6e9",
   "metadata": {
    "tags": []
   },
   "outputs": [],
   "source": [
    "opensearch_domain_endpoint = opensearch_domain_endpoint\n",
    "rag_user_name = opensearch_user_id\n",
    "rag_user_password = opensearch_user_password\n",
    "\n",
    "http_auth = (rag_user_name, rag_user_password) # Master username, Master password"
   ]
  },
  {
   "cell_type": "markdown",
   "id": "1f581678-99cb-4921-a854-eba604765b3b",
   "metadata": {},
   "source": [
    "### Index 이름 셋팅\n",
    "- 이전 노트북 01_preprocess_docs/02_load_docs_opensearch.ipynb를 통해서 생성된 OpenSearch Index name 입력"
   ]
  },
  {
   "cell_type": "code",
   "execution_count": 24,
   "id": "2f215c42-8327-4d60-bb73-3a4e36977d78",
   "metadata": {
    "tags": []
   },
   "outputs": [
    {
     "name": "stdout",
     "output_type": "stream",
     "text": [
      "index_name: summit-workshop-index\n"
     ]
    }
   ],
   "source": [
    "index_name = opensearch_user_password = pm.get_params(\n",
    "    key=\"opensearch_index_name\",\n",
    "    enc=True\n",
    ")\n",
    "\n",
    "print (f'index_name: {index_name}')"
   ]
  },
  {
   "cell_type": "code",
   "execution_count": 25,
   "id": "8aecf7e8-4a17-438d-951f-35d1190805a9",
   "metadata": {
    "tags": []
   },
   "outputs": [],
   "source": [
    "index_name = \"summit-workshop-index\""
   ]
  },
  {
   "cell_type": "markdown",
   "id": "ca9624ab-14ff-49a8-b58a-2c9e05def784",
   "metadata": {},
   "source": [
    "### OpenSearch Client 생성"
   ]
  },
  {
   "cell_type": "code",
   "execution_count": 26,
   "id": "61e4c63f-46f3-423e-95f1-4b0d80beaa43",
   "metadata": {
    "tags": []
   },
   "outputs": [],
   "source": [
    "from utils.opensearch import opensearch_utils"
   ]
  },
  {
   "cell_type": "code",
   "execution_count": 27,
   "id": "8812a5e8-3bac-43ed-a7a0-e328c3f84658",
   "metadata": {
    "tags": []
   },
   "outputs": [],
   "source": [
    "aws_region = os.environ.get(\"AWS_DEFAULT_REGION\", None)\n",
    "os_client = opensearch_utils.create_aws_opensearch_client(\n",
    "    aws_region,\n",
    "    opensearch_domain_endpoint,\n",
    "    http_auth\n",
    ")"
   ]
  },
  {
   "cell_type": "markdown",
   "id": "6910e36a-c9b0-4162-9dbb-76b151b09862",
   "metadata": {},
   "source": [
    "## 4. Question Answering\n",
    "- [BedrockChat with claude3](https://medium.com/@dminhk/building-with-anthropics-claude-3-on-amazon-bedrock-and-langchain-%EF%B8%8F-2b842f9c0ca8)"
   ]
  },
  {
   "cell_type": "code",
   "execution_count": 28,
   "id": "4c418f5d-5b26-4c2b-ac88-1e11b8f0d8ac",
   "metadata": {
    "tags": []
   },
   "outputs": [],
   "source": [
    "from utils.rag import qa_chain\n",
    "from utils.rag import prompt_repo, show_context_used\n",
    "from langchain.callbacks.tracers import ConsoleCallbackHandler\n",
    "from utils.rag import retriever_utils, OpenSearchHybridSearchRetriever"
   ]
  },
  {
   "cell_type": "markdown",
   "id": "70cb1747-c239-41a5-8f2a-f5dd9df6263f",
   "metadata": {},
   "source": [
    "### Retriever 정의"
   ]
  },
  {
   "cell_type": "code",
   "execution_count": 34,
   "id": "4244599c-356e-4cd5-8509-d2f034f9ebf9",
   "metadata": {
    "tags": []
   },
   "outputs": [],
   "source": [
    "opensearch_hybrid_retriever = OpenSearchHybridSearchRetriever(\n",
    "    os_client=os_client,\n",
    "    index_name=index_name,\n",
    "    llm_text=llm_text, # llm for query augmentation in both rag_fusion and HyDE\n",
    "    llm_emb=llm_emb, # Used in semantic search based on opensearch \n",
    "\n",
    "    # hybird-search debugger\n",
    "    hybrid_search_debugger=\"None\", #[semantic, lexical, None]\n",
    "    \n",
    "    # option for lexical\n",
    "    minimum_should_match=0,\n",
    "    filter=[],\n",
    "\n",
    "    # option for search\n",
    "    fusion_algorithm=\"RRF\", # [\"RRF\", \"simple_weighted\"], rank fusion 방식 정의\n",
    "    ensemble_weights=[.51, .49], # [for semantic, for lexical], Semantic, Lexical search 결과에 대한 최종 반영 비율 정의\n",
    "    reranker=False, # enable reranker with reranker model\n",
    "    reranker_endpoint_name=endpoint_name, # endpoint name for reranking model\n",
    "    parent_document=False, # enable parent document\n",
    "    \n",
    "    # hybird-search debugger\n",
    "    #hybrid_search_debugger = \"semantic\", #[semantic, lexical, None]\n",
    "\n",
    "    #rag_fusion=True, # enable rag_fusion\n",
    "    #query_augmentation_size=2, # query_augmentation_size in rag_fusion\n",
    "    #hyde=False, # enable hyde\n",
    "    #hyde_query=[\"web_search\"], # query type in hyde \n",
    "    \n",
    "    # option for complex documents consisting of text, table and image\n",
    "    complex_doc=True,\n",
    "    \n",
    "    # option for async search\n",
    "    async_mode=True,\n",
    "\n",
    "    # option for output\n",
    "    k=5, # 최종 Document 수 정의\n",
    "    verbose=False,\n",
    ")"
   ]
  },
  {
   "cell_type": "markdown",
   "id": "d9adf603-c028-4076-8c0a-dab5e98ee366",
   "metadata": {},
   "source": [
    "### QA chain 정의"
   ]
  },
  {
   "cell_type": "code",
   "execution_count": 35,
   "id": "4d4f0756-afb7-45dc-aea7-e1f915a20d8d",
   "metadata": {
    "tags": []
   },
   "outputs": [],
   "source": [
    "system_prompt = prompt_repo.get_system_prompt()"
   ]
  },
  {
   "cell_type": "code",
   "execution_count": 36,
   "id": "8c99e6c6-d3e2-4bc3-834d-1fa9e4610a53",
   "metadata": {
    "tags": []
   },
   "outputs": [],
   "source": [
    "qa = qa_chain(\n",
    "    llm_text=llm_text,\n",
    "    retriever=opensearch_hybrid_retriever,\n",
    "    system_prompt=system_prompt,\n",
    "    return_context=True,\n",
    "    verbose=False\n",
    ")"
   ]
  },
  {
   "cell_type": "code",
   "execution_count": 37,
   "id": "c52c5de5-6ec3-4729-bc87-9bb9e82c5b35",
   "metadata": {
    "tags": []
   },
   "outputs": [
    {
     "name": "stdout",
     "output_type": "stream",
     "text": [
      "아동의 4가지 권리는 생존권, 발달권, 보호권, 참여권입니다.\n",
      "\n",
      "생존권은 아동이 생명을 유지하고 건강하게 자랄 수 있도록 하는 권리로, 영양가 있는 음식을 먹고 깨끗하고 안전한 환경에서 보호받으며 아플 때 치료받을 수 있는 권리입니다. \n",
      "\n",
      "발달권은 아동의 재능과 능력을 펼칠 수 있도록 하는 권리로, 놀이와 여가를 즐길 수 있는 권리입니다.\n",
      "\n",
      "보호권은 아동의 몸과 마음을 아프게 하는 모든 해로운 것으로부터 보호받을 권리입니다.  \n",
      "\n",
      "참여권은 아동이 자신과 관련된 문제에 관하여 의견을 말하고 참여할 권리입니다.\n",
      "-----------------------------------------------\n",
      "1. Category: CompositeElement, Chunk: 883 Characters\n",
      "-----------------------------------------------\n",
      ".goe.go.kr → 전자민원 → 신고 센터 → 공익제보센터→불법찬조금 신고 - 전 화 : 경기도교육청 감사관 031) 820-0852 ○ 안산교육지원청 :\n",
      "www.goeas.kr→ 열린공간 → 사이버신고센터 - 전 화 : 031) 412-4620 ○ 참교육을 위한 전국학부모회 : www.hakbumo.or.kr →학교길라잡이→\n",
      "불법찬조금 ○ 국민신문고 :www.epeople.gr.kr → 민원 16 아동학대 예방 교육 11 “아동은 한 인간으로서 고유한 존재이며, 스스로가 권리의 주체자임을 인식하고 적극\n",
      "적인 참여를 통해 자신의 권리를 온전하게 보장받을 수 있어야 함” (UN아동권리협약) 아동 인권의 보장 22 22 아동의 4가지 권리 생 촌 권 아 동 이 생 명 을 유 지 하 고\n",
      "건 강 하 게 자 랄 수 있 도록 + 동 미 재 능 과 능 력 을 펼 칠 수 있 도록 고 늘 이 와 여 가 를 즐 길 권 리 명 양 가 있 는 음 식 을 먹 고 깨 끗 하 고 안\n",
      "전 한 환 경 메 서 = 보 호 받 으 며 아 플 때 치 료 받 을 수 있 는 권 리 = 보 호 권 마 동 의 몽 과 마 음 을 아 프 게 하 는 마 동 이 자 신과 관 련된 문\n",
      "제에 관 하 여 모 든 해 로 운 것 으 로 부 터 보 호 받 을 권 리 의 견 을 말 하 고 참 여 할 권 리 33 아동학대의 개념 33 보호자를 포함한 성인이 아동의 건강 또는\n",
      "복지를 해치거나 정상적 발달을 저해할 수 있는 신 체적, 정신적, 성적 폭력이나 가혹행위를 하는 것 아동의 보호자가 아동을 유기하거나 방임하는 것 ‘보호자’란 친권자, 후견인,\n",
      "아동을 보호·양육·교육하거나 그러한 의무가 있는 자 또는 업 무· 고용 등의 관계로 사실상 아동을 보호·감독하는 자를 말함 ※「아동복지법」 제3조 44 44 아동학대 유형\n",
      "metadata:\n",
      " {'source': './data/complex_pdf/school_edu_guide.pdf', 'filetype': 'application/pdf', 'languages':\n",
      "['kor', 'eng'], 'last_modified': '2024-04-04T01:39:24', 'page_number': 26, 'orig_elements': '',\n",
      "'file_directory': './data/complex_pdf', 'filename': 'school_edu_guide.pdf', 'category':\n",
      "'CompositeElement', 'family_tree': 'child', 'parent_id': '3b527d29-c56b-4007-827f-22cfbf892333',\n",
      "'id': '99679545-bba6-4227-b496-b9528a91d5c5'}\n",
      "\n",
      "-----------------------------------------------\n",
      "2. Category: CompositeElement, Chunk: 826 Characters\n",
      "-----------------------------------------------\n",
      ". -가정폭력 재발 우려 시 형사절차와 별개로 피해자 또는 법정대리인이 직접 법원에 피 해자보호명령을 청구할 수 있습니다. 경찰 등 수사기관을 거치지 않고 피해자가 직접 가정법원에\n",
      "① 주거 등에서 가해자 격리 ② 주거, 직 장에서 100m 내 접근금지 ③ 전화, 전자 우편 등 접근금지 ④ 친권행사제한을 신청할 수 있습니다 ※ 가해자가 법원의 피해자보호명령을\n",
      "위반할 경우 징역 또는 벌금이 부과될 수 있습니다. -가정폭력으로부터 보호 가능한 지원제도 : 보호시설(쉼터)입소지원, 무료 법류지원(대 한법률구조공단(☎132),\n",
      "한국가정법률상담소(☎1644-7077), 의료지원, 아동 취학지원 , 주민등록 열람제한, 주거지원 a_pw&a 66 66 가정폭력 대처법 아동기의 중요성 인식 - 아동기의\n",
      "가정폭력·아동학대는 아동에게 심각한 스트레스를 주는 사건 으로서 아동의 건강, 발달, 복지에 심각한 영향을 줍니다. 특히 가정폭력 및 아동학대는 세대 간 전이가 될 수 있습니다.\n",
      "연령 별 아동 특성 이해 - 자녀가 가진 능력이나 발달 이상으로 부모의 기대 수준에 맞게 행동해 주기를 원하는데 이처럼 높은 기대는 아동학대의 가능성을 높이는 원인이 되기도\n",
      "합니다. 이에 다 양한 아동 발달에 대한 지식을 습득하도록 노력하여야 합니다. 올바른 자녀양육방법 습득 - 아동을 소유물로 생각하지 않고 아동의 권리를 존중하여 체벌과 훈 육을\n",
      "혼동하지 않도록 해야 합니다. 부모의 스트레스 관리 - 부모들은 자신의 욕구가 충족되지 못하거나 스트레스를 받을 때 아동에 게 그 불만을 터뜨리게 되는 경우가 발생할 수 있으므로\n",
      "적절하게 정서적 욕구불만을 해소할 수 있는 방법을 찾아봅니다. - 29 -\n",
      "metadata:\n",
      " {'source': './data/complex_pdf/school_edu_guide.pdf', 'filetype': 'application/pdf', 'languages':\n",
      "['kor', 'eng'], 'last_modified': '2024-04-04T01:39:24', 'page_number': 29, 'orig_elements': '',\n",
      "'file_directory': './data/complex_pdf', 'filename': 'school_edu_guide.pdf', 'category':\n",
      "'CompositeElement', 'family_tree': 'child', 'parent_id': 'ddb5cf70-9b7e-4b8f-a2d5-b34268fb4253',\n",
      "'id': '9ab7a71d-6154-4628-b011-5c48bb709736'}\n",
      "\n",
      "-----------------------------------------------\n",
      "3. Category: Image, Chunk: 218 Characters\n",
      "-----------------------------------------------\n"
     ]
    },
    {
     "data": {
      "image/png": "[encoded data removed]",
      "text/plain": [
       "<Figure size 640x480 with 1 Axes>"
      ]
     },
     "metadata": {},
     "output_type": "display_data"
    },
    {
     "name": "stdout",
     "output_type": "stream",
     "text": [
      "이미지는 생각하는 방식에 대한 4가지 유형을 설명하고 있습니다. 성실형은 아동의 생각을 좋지 않고 건강하게 자를 수 있도록 영향을 주는 습성을 묘사하고, 발달형은 아동이 객관적으로\n",
      "평가할 수 있도록 돕습니다. 보존형은 아동의 문화 마음을 아프게 하는 모든 해로운 것으로부터 보호할 것을 권리하고, 참여형은 아동이 자신과 관련된 문제에 참여하여 의견을 말하고\n",
      "참여할 권리가 있음을 설명합니다.\n",
      "metadata:\n",
      " {'img_path': './fig/table-10-resize.jpg', 'category': 'Image', 'image_base64': '', 'family_tree':\n",
      "'parent_image', 'parent_id': 'NA', 'id': '81499fe5-7dce-488e-bbde-ef701ba1afdf', 'origin_image': '',\n",
      "'orig_elements': ''}\n",
      "\n",
      "-----------------------------------------------\n",
      "4. Category: Table, Chunk: 191 Characters\n",
      "-----------------------------------------------\n"
     ]
    },
    {
     "data": {
      "image/png": "[encoded data removed]",
      "text/plain": [
       "<Figure size 640x480 with 1 Axes>"
      ]
     },
     "metadata": {},
     "output_type": "display_data"
    },
    {
     "name": "stdout",
     "output_type": "stream",
     "text": [
      "이 표는 아동학대의 유형을 신체학대, 정서학대, 성학대, 방임·유기로 나누어 각각의 정의와 구체적인 행위 예시를 제시하고 있습니다. 신체학대는 신체적 손상을 입히거나 허용하는\n",
      "행위, 정서학대는 언어적·정서적 위협이나 가혹행위, 성학대는 성인의 성적 만족을 위한 부적절한 행위, 방임·유기는 아동의 양육과 보호를 소홀히 하는 행위를 의미합니다.\n"
     ]
    },
    {
     "data": {
      "text/html": [
       "<table><thead><th>신 체 학 대</th><th>성 인이 아 동 에 게 ( 도 구 를 사 용 하 하 여 신 체 를 위 협</th><th>신 체 적 손 상 을 입 히 거 나 이 를 허 용 하 는 모 든 행 위 거 나 신 체 에 유 해 한 물 질 로 신 체 를 가 해 하 는 행 위 , 완 력 을 사 용 하 는 행 위 )</th></thead><tr><td>정 서 학 대</td><td>성 인이 아 동 에 게 ( 언 어 적 폭 력 , 정 종 교 행 위 를 강 요</td><td>하 는 언 어 적 ㆍ 정 서 적 위 협 , 감 금 ㆍ 억 제 ㆍ 기타 가 학 적 인 행 위 서 적 위 협 , 아 동 에 대 한 비 현 실 적 인 기 대 또 는 강 요 , 보 호 자 의 , 형 제 나 친 구 등과 비 교 ㆍ 차 별 ㆍ 편 애 ㆍ 왕 따 시 키 는 행 위 )</td></tr><tr><td>성 학 대</td><td>성 인 의 성 적 만 족 정 핸 동 적 행 동 ( 아 동 을 관 찰 하 거 유 사 성 행 위 를</td><td>을 위해 아 동 의 신 체 에 접 촉 하 는 행 위 나 아 동 과 의 부 적 절 한 성 나 아 동 에 게 성 적 노 출 을 하 는 행 위 , 성 적 으 로 추 행 하 는 행 위 , 하 는 행 위 등 )</td></tr><tr><td>방임 ㆍ 유 기</td><td>아 동 의 양 육 과 보 ( 물 리 적 방 교</td><td>호 를 소 홀 히 하 여 정 상 적 인 발 달 을 저 해 하 는 모 든 행 위 육 적 방 의 료 적 ¢y, 유 기 &lt; 아 동 을 버 리 는 것 &gt;)</td></tr><tr><td></td><td>임 ,</td><td>임 ,</td></tr><tr><td></td><td></td><td></td></tr></table>"
      ],
      "text/plain": [
       "<IPython.core.display.HTML object>"
      ]
     },
     "metadata": {},
     "output_type": "display_data"
    },
    {
     "name": "stdout",
     "output_type": "stream",
     "text": [
      "metadata:\n",
      " {'source': './data/complex_pdf/school_edu_guide.pdf', 'detection_class_prob': 0.37135568261146545,\n",
      "'coordinates': {'points': [[156.2832794189453, 1585.385009765625], [156.2832794189453,\n",
      "2086.09521484375], [1413.203369140625, 2086.09521484375], [1413.203369140625, 1585.385009765625]],\n",
      "'system': 'PixelSpace', 'layout_width': 1653, 'layout_height': 2337}, 'last_modified':\n",
      "'2024-04-04T01:39:24', 'text_as_html': '<table><thead><th>신 체 학 대</th><th>성 인이 아 동 에 게 ( 도 구 를 사 용 하\n",
      "하 여 신 체 를 위 협</th><th>신 체 적 손 상 을 입 히 거 나 이 를 허 용 하 는 모 든 행 위 거 나 신 체 에 유 해 한 물 질 로 신 체 를 가 해 하 는 행\n",
      "위 , 완 력 을 사 용 하 는 행 위 )</th></thead><tr><td>정 서 학 대</td><td>성 인이 아 동 에 게 ( 언 어 적 폭 력 , 정 종 교 행 위 를 강\n",
      "요</td><td>하 는 언 어 적 ㆍ 정 서 적 위 협 , 감 금 ㆍ 억 제 ㆍ 기타 가 학 적 인 행 위 서 적 위 협 , 아 동 에 대 한 비 현 실 적 인 기 대 또 는 강\n",
      "요 , 보 호 자 의 , 형 제 나 친 구 등과 비 교 ㆍ 차 별 ㆍ 편 애 ㆍ 왕 따 시 키 는 행 위 )</td></tr><tr><td>성 학 대</td><td>성 인 의 성\n",
      "적 만 족 정 핸 동 적 행 동 ( 아 동 을 관 찰 하 거 유 사 성 행 위 를</td><td>을 위해 아 동 의 신 체 에 접 촉 하 는 행 위 나 아 동 과 의 부 적 절 한\n",
      "성 나 아 동 에 게 성 적 노 출 을 하 는 행 위 , 성 적 으 로 추 행 하 는 행 위 , 하 는 행 위 등 )</td></tr><tr><td>방임 ㆍ 유\n",
      "기</td><td>아 동 의 양 육 과 보 ( 물 리 적 방 교</td><td>호 를 소 홀 히 하 여 정 상 적 인 발 달 을 저 해 하 는 모 든 행 위 육 적 방 의 료 적\n",
      "¢y, 유 기 &lt; 아 동 을 버 리 는 것 &gt;)</td></tr><tr><td></td><td>임 ,</td><td>임\n",
      ",</td></tr><tr><td></td><td></td><td></td></tr></table>', 'filetype': 'application/pdf',\n",
      "'languages': ['kor', 'eng'], 'page_number': 28, 'orig_elements': '', 'file_directory':\n",
      "'./data/complex_pdf', 'filename': 'school_edu_guide.pdf', 'category': 'Table', 'image_base64': '',\n",
      "'origin_table': '신체학대 정서학대 성학대 성인이 아동에게 신체적 손상을 입히거나 이를 허용하는 모든 행위 (도구를 사용하거나 신체에 유해한 물질로 신체를 가해하는\n",
      "행위, 완력을 사용 하여 신체를 위협하는 행위) 성인이 아동에게 하는 언어적·정서적 위협, 감금·억제·기타 가학적인 행위 (언어적 폭력, 정서적 위협, 아동에 대한 비현실적인 기대\n",
      "또는 강요, 보호자의 종교 행위를 강요, 형제나 친구 등과 비교·차별·편애·왕따 시키는 행위) 성인의 성적 만족을 위해 아동의 신체에 접촉하는 행위나 아동과의 부적절한 성 적 행동\n",
      "(아동을 관찰하거나 아동에게 성적 노출을 하는 행위, 성적으로 추행하는 행위, 유사성행위를 하는 행위 등) 방임·유기 아동의 양육과 보호를 소홀히 하여 정상적인 발달을 저해하는\n",
      "모든 행위 (물리적 방임, 교육적 방임, 의료적 방임, 유기<아동을 버리는 것>)', 'family_tree': 'parent_table', 'parent_id': 'NA',\n",
      "'id': 'fd04670e-3835-4288-a364-68e89948097e', 'origin_image': ''}\n",
      "\n",
      "-----------------------------------------------\n",
      "5. Category: CompositeElement, Chunk: 781 Characters\n",
      "-----------------------------------------------\n",
      "줄 생각이 없으면서 돈을 요구하는 행위 ▪ 옷, 문구류 등을 빌린다며 되돌려주지 않는 행위 ▪ 일부러 물품을 망가뜨리는 행위 ▪ 돈을 걷어오라고 하는 행위 등 ▪ 속칭 빵 셔틀,\n",
      "와이파이 셔틀, 과제대행, 게임대행, 심부름 강요 등 의사에 반하는 행동을 강요하는 행 강요 위 따돌림 성폭력 ▪ 폭행 또는 협박으로 상대방의 권리행사를 방해하거나 해야 할 의무가\n",
      "없는 일을 하게 하는 행위(강요) ▪ 집단적으로 상대방을 의도적이고, 반복적으로 피하는 행위 ▪ 지속적으로 싫어하는 말로 바보취급 등 놀리기, 빈정거림, 면박주기, 겁주는 행동,\n",
      "골탕 먹이기, 비웃기 ▪ 다른 학생들과 어울리지 못하도록 막는 행위 ▪ 상대방에게 폭행과 협박을 하면서 정적 모멸감을 느끼도록 신체적 접촉을 하는 행위 ▪ 성적인 말과 행동을\n",
      "함으로써 상대방이 성적 굴욕감, 수치감을 느끼도록 하는 행위 ➜ 「아동·청소년의 성보호에 관한 법률」에 따라 성폭력에 대해서는 반드시 수사기관에 신고해야 함 ▪ 특정인에 대해\n",
      "모욕적 언사나 욕설 등을 인터넷 게시판,채팅,카페 등에 올리는 행위, 특정인에 대한 ‘저격 글’ 사이버 폭력 ▪ 특정인에 대한 허위 글이나 개인의 사생활에 관한 사실을 인터넷,\n",
      "SNS, 카카오톡 등을 통해 불특정 다 수에 공개하는 행위 ▪ 성적 수치심을 주거나,위협하는 내용, 조롱하는 글, 그림, 동영상 등을 정보통신망을 통해 유포하는 행 위 ▪\n",
      "공포심이나 불안감을 유발하는 문자, 음향, 영상 등을 정보통신망을 통해 반복적으로 보내는 행위 이렇게 예방해요 ➠ 초등학생 학교폭력 피해 유형 중 언어폭력(34\n",
      "metadata:\n",
      " {'source': './data/complex_pdf/school_edu_guide.pdf', 'filetype': 'application/pdf', 'languages':\n",
      "['kor', 'eng'], 'last_modified': '2024-04-04T01:39:24', 'page_number': 36, 'orig_elements': '',\n",
      "'file_directory': './data/complex_pdf', 'filename': 'school_edu_guide.pdf', 'category':\n",
      "'CompositeElement', 'family_tree': 'child', 'parent_id': '37204c47-1a85-48bd-8fdd-659e55c70b3d',\n",
      "'id': '3dfd3468-8854-4b11-bfc8-bc535b530a43'}\n"
     ]
    }
   ],
   "source": [
    "#query = \"감독계획수립 후 현장감독에서 법 위반을 하면 이후 프로세스는?\" ## Image 30\n",
    "#query = \"안전보건표지에서 지시표지의 종류와 용도는?\" ## Table 8\n",
    "#query = \"건강진단 순서를 알려줘\" ## Diagram 15\n",
    "\n",
    "#query = \"수익률 그래프 설명해줘\"\n",
    "#query = \"만기가격이 기준가격의 100% 미만일 때 만기상환금액 계산하는 방법 알려줘\"\n",
    "#query = \"전년 동기 현금 예치금 구성비 알려줘\"\n",
    "#query = \"자산총계 금액 알려줘\"\n",
    "#query = \"대출채권 금액은?\"\n",
    "\n",
    "#query = \"대출채권의 전년동기에 해당하는 구성비는 얼마입니까?\"\n",
    "#query = \"당기손익-공정가치측정유가증권 전년동기의 구성비는?\"\n",
    "\n",
    "query = \"재난 발생 시 대처사항은?\"\n",
    "query = \"학교폭력 처리 과정은?\"\n",
    "#query = \"감염병의 종류와 경로는?\"\n",
    "query = \"홍역에 대한 백신 이름은?\"\n",
    "\n",
    "query = \"부모가 자녀에게 가르쳐야 할 성지식에는 어떤 것이 있나요?\"\n",
    "#query = \"MMR 2차의 예방접종 시기는?\"\n",
    "#query = \"교육목표는?\"\n",
    "#query = \"만기상환금액 알려줘\"\n",
    "query = \"아동의 권리는?\"\n",
    "\n",
    "response, contexts = qa.invoke(\n",
    "    query=query,\n",
    "    verbose=False\n",
    ")\n",
    "\n",
    "show_context_used(contexts)"
   ]
  },
  {
   "cell_type": "markdown",
   "id": "b68e6691-1b5f-4572-a151-6ebcabfe5b34",
   "metadata": {},
   "source": [
    "### Parameter updates"
   ]
  },
  {
   "cell_type": "code",
   "execution_count": 176,
   "id": "2e5eef84-5d10-46e2-b0fa-3dcac41084e6",
   "metadata": {
    "tags": []
   },
   "outputs": [],
   "source": [
    "opensearch_hybrid_retriever.update_search_params(\n",
    "    k=7,\n",
    "    minimum_should_match=0,\n",
    "    \n",
    "    # hybird-search debugger\n",
    "    hybrid_search_debugger=\"None\", #[lexical, semantic, None]\n",
    "    \n",
    "    # filter=[\n",
    "    #     {'term': {'metadata.family_tree': 'child'}},\n",
    "    # ],\n",
    "    \n",
    "    reranker=True, # enable reranker with reranker model\n",
    "    reranker_endpoint_name=endpoint_name, # endpoint name for reranking model\n",
    "    \n",
    "    rag_fusion=False, # enable rag_fusion\n",
    "    query_augmentation_size=2, # query_augmentation_size in rag_fusion\n",
    "    \n",
    "    hyde=False, # enable hyde\n",
    "    hyde_query=[\"web_search\"], # query type in hyde \n",
    "    \n",
    "    parent_document=False, # enable parent document\n",
    "    \n",
    "    # option for complex documents consisting of text, table and image\n",
    "    complex_doc=True, # False 이면, invocation시 text만 넣는다. 단, \n",
    "    \n",
    "    ensemble_weights=[0.51, 0.49], #semantic, lexical\n",
    "    verbose=False\n",
    ")"
   ]
  },
  {
   "cell_type": "code",
   "execution_count": 177,
   "id": "c317afb2-db7a-46c3-94c8-1b1418ca879d",
   "metadata": {
    "tags": []
   },
   "outputs": [],
   "source": [
    "#query = \"감독계획수립 후 현장감독에서 법 위반을 하면 이후 프로세스는?\" ## Image 30\n",
    "#query = \"안전보건표지에서 지시표지의 종류와 용도는?\" ## Table 8\n",
    "#query = \"건강진단 순서를 알려줘\" ## Diagram 15\n",
    "\n",
    "##\n",
    "#query = \"학기 초에 어린이 납치 예방 방법은?\" # semantic o, lexical x\n",
    "#query = \"창의적 마인드로 미래를 내다 볼 수 있기 위해 어떤 것들을 길러야 하나요?\"# semantic x, lexical o, reranker 7 -> 3 \"어린이들의 소질 로 컨택스트 검색\"\n",
    "#query = \"학교 오기전에 맞아야 할 예방접종 종류는?\" # for table\n",
    "query = \"학교에서 발생할 수 있는 감염병의 종류와 감염경로?\" # 테이블 질문\n",
    "#query = \"위반 행위 발견 시 신고 처리 절차는?\" # for diagram\n",
    "\n",
    "query = \"음주 및 흡연 예방을 위한 교육을 자세히 최대한 설명해줘\"\n"
   ]
  },
  {
   "cell_type": "code",
   "execution_count": 178,
   "id": "3b5834ab-a54b-42df-82e4-7f0d5f6e11ea",
   "metadata": {
    "tags": []
   },
   "outputs": [
    {
     "name": "stdout",
     "output_type": "stream",
     "text": [
      "1. 학생 흡연의 피해\n",
      "- 일산화탄소 영향으로 두뇌 활동이 저하되고 학습능력이 떨어집니다.\n",
      "- 성인에 비해 폐 용적이 작아 담배연기로 인한 피해가 더 크고, 폐 성숙에 장애를 가져옵니다. \n",
      "- 성장기에는 세포분열이 왕성하므로 흡연으로 인해 세포의 성장이 방해받을 수 있습니다.\n",
      "- 어릴 때부터 시작하면 니코틴 중독이 더 심해져 금연이 어려워집니다.\n",
      "- 15세 이전 흡연자는 25세 이후 흡연자보다 폐암 등의 사망률이 2~3배 더 높습니다.\n",
      "- 어린 시기 흡연은 유전자 변형을 일으켜 2세에게 나쁜 유전자를 전달합니다.\n",
      "\n",
      "2. 어린이 간접흡연의 피해\n",
      "- 성장에 영향을 미쳐 키가 잘 자라지 않습니다.\n",
      "- 급성 호흡기 질환 감염률이 5.7배 높습니다. \n",
      "- 폐암에 걸릴 가능성이 2배 높아집니다.\n",
      "- 천식, 중이염, 폐렴에 걸릴 확률이 6배 높습니다.\n",
      "- 뇌세포 파괴로 기억력, 학습능력이 떨어집니다.\n",
      "- 장기적으로 청력이 떨어집니다.\n",
      "\n",
      "3. 알코올의 작용\n",
      "- 뇌기능을 억제시켜 기분을 좋게 합니다.\n",
      "- 각 장기와 조직에 머물면서 해를 줍니다.\n",
      "- 우리 몸 세포의 산소 신진대사와 영양물질 흡수를 방해하여 영양장애를 초래합니다.\n",
      "- 수면장애를 일으킵니다."
     ]
    }
   ],
   "source": [
    "response, contexts = qa.invoke(\n",
    "    query = query,\n",
    "    verbose=False\n",
    ")"
   ]
  },
  {
   "cell_type": "code",
   "execution_count": 179,
   "id": "7589172a-c6de-42ec-8119-fa3011ecd730",
   "metadata": {
    "tags": []
   },
   "outputs": [
    {
     "name": "stdout",
     "output_type": "stream",
     "text": [
      "##################################\n",
      "query:  음주 및 흡연 예방을 위한 교육을 자세히 최대한 설명해줘\n",
      "##################################\n",
      "\u001b[34m\n",
      "\n",
      "### Answer ###\u001b[0m\n",
      "1. 학생 흡연의 피해\n",
      "- 일산화탄소 영향으로 두뇌 활동이 저하되고 학습능력이 떨어집니다.\n",
      "- 성인에 비해 폐 용적이 작아 담배연기로 인한 피해가 더 크고, 폐 성숙에 장애를 가져옵니다.\n",
      "- 성장기에는 세포분열이 왕성하므로 흡연으로 인해 세포의 성장이 방해받을 수 있습니다.\n",
      "- 어릴 때부터 시작하면 니코틴 중독이 더 심해져 금연이 어려워집니다.\n",
      "- 15세 이전 흡연자는 25세 이후 흡연자보다 폐암 등의 사망률이 2~3배 더 높습니다.\n",
      "- 어린 시기 흡연은 유전자 변형을 일으켜 2세에게 나쁜 유전자를 전달합니다.\n",
      "\n",
      "2. 어린이 간접흡연의 피해\n",
      "- 성장에 영향을 미쳐 키가 잘 자라지 않습니다.\n",
      "- 급성 호흡기 질환 감염률이 5.7배 높습니다.\n",
      "- 폐암에 걸릴 가능성이 2배 높아집니다.\n",
      "- 천식, 중이염, 폐렴에 걸릴 확률이 6배 높습니다.\n",
      "- 뇌세포 파괴로 기억력, 학습능력이 떨어집니다.\n",
      "- 장기적으로 청력이 떨어집니다.\n",
      "\n",
      "3. 알코올의 작용\n",
      "- 뇌기능을 억제시켜 기분을 좋게 합니다.\n",
      "- 각 장기와 조직에 머물면서 해를 줍니다.\n",
      "- 우리 몸 세포의 산소 신진대사와 영양물질 흡수를 방해하여 영양장애를 초래합니다.\n",
      "- 수면장애를 일으킵니다.\n",
      "\u001b[32m\n",
      "\n",
      "### Contexts ###\u001b[0m\n",
      "\n",
      "-----------------------------------------------\n",
      "1. Category: CompositeElement, Chunk: 979 Characters\n",
      "-----------------------------------------------\n",
      ". - 14 - □8 흡연 및 음주 예방 교육 보건교사 김○혜 1. 학생 흡연의 피해 일산화탄소 영향으로 두뇌 활동이 저하되고, 학습능력이 떨어집니다. 성인에 비해 폐 용적이 작아\n",
      "담배연기로 인한 피해가 더 크고, 폐 성숙에 장애를 가져옵니다. 성장기는 세포분열이 왕성하게 일어나는 시기이므로 흡연으로 인해 세포의 성장이 방해받을 수 있습니다. 어릴 때부터\n",
      "시작하는 경우는 니코틴 중독이 더 심해 금연하는 것이 더욱 힘들어집니다. 15세 이전 흡연은 25세 이후 흡연자보다 폐암 등 흡연으로 인한 사망률이 2~3배 더 높습니다. 어린\n",
      "시기의 흡연은 유전자변형을 일으켜 2세에게 나쁜 유전자를 전달합니다. 2. 어린이 간접흡연의 피해 성장에 영향을 미쳐 키가 잘 자라지 않습니다. 켓 > g ¥ Cale) P moo\n",
      "oz 겐스 랜에흐넨짐짝쁘 기를 1차 흡연 흡연자 본인의 피해 ▪ 백내장, 치매, 뇌졸중, 류마티스 관절염, 췌장염 ▪ 폐암, 유방암, 신장암, 고혈압, 고지혈증, 심장병 ▪\n",
      "우울증, 만성스트레스, 정자 손상 등 초래 2차 흡연 비흡연자의 간접흡연 피해 ▪ 우울증, 당뇨병, 고혈압, 동맥 손상 ▪ 성대 손상, 유방암 등 3차 흡연 옷․ 벽면에 붙은\n",
      "연기로 인한 피해 ▪ 실내 유해물질과 결합 - 발암 물질 생성 ▪ 어린이, 유아, 태아에게 피해 집중 ▪ 니코틴 중독, 태아 폐 발달 저해, 천식 등 급성 호흡기 질환 감염률이\n",
      "5.7배 높습니다. 폐암에 걸릴 가능성이 2배 높아집니다. 천식, 중이염, 폐렴에 걸릴 확률이 6배 높습니다. 뇌세포 파괴로 기억력, 학습 능력이 떨어집니다. 장기적으로 청력이\n",
      "떨어집니다. 3. 알코올의 작용 뇌기능을 억제시켜 대담하고 편안한 느낌으로 기분을 좋게 합니다. 구강점막, 식도, 위로 흡수되어 혈액으로 들어가 각 장기와 조직에 머물면서 해를\n",
      "줍니다. 우리 몸 세포의 산소 신진대사와 영양물질의 흡수를 방해하여 영양장애를 <) 초래합니다. 꿈꾸는 시간을 감소시켜 숙면을 방해하고 수면장애를 일으킵니다\n",
      "metadata:\n",
      " {'source': './data/complex_pdf/school_edu_guide.pdf', 'filetype': 'application/pdf', 'languages':\n",
      "['kor', 'eng'], 'last_modified': '2024-04-04T01:39:24', 'page_number': 16, 'orig_elements': '',\n",
      "'file_directory': './data/complex_pdf', 'filename': 'school_edu_guide.pdf', 'category':\n",
      "'CompositeElement', 'family_tree': 'child', 'parent_id': '41a1532c-9ba8-4718-81af-4e885e1f521c',\n",
      "'id': 'd209808b-5fcf-4af9-964e-bab04efdf8e1'}\n",
      "\n",
      "-----------------------------------------------\n",
      "2. Category: CompositeElement, Chunk: 1002 Characters\n",
      "-----------------------------------------------\n",
      "9. 청소년 인터넷 음란물 중독 예방 청소년 인터넷 음란물 중독 예방 음란물은 매우 선정적이고 자극적이기 때문에 특히 청소년기에 이런 음란물에 빠지게 되면 점점 더 현실과 환상을\n",
      "혼돈하게 되고 자신도 모르게 점점 빠져들게 되면서 무감각해집니다. 우리 아이들이 음란 물에 물들어 되돌릴 수 없는 행동을 하게 되지 않도록 가정에서 음란물에 대한 적극적인 관리가\n",
      "필요합 니다. • 컴퓨터에 저장돼 있는 음란물을 모두 삭제하고 유해차단 프로그램을 설치합니다. - 그린 I-Net www.greeninet.or.kr 에서 무료로 다운 받아\n",
      "사용가능 • 공부방에 컴퓨터가 있다면 거실로 컴퓨터를 옮기세요. • 하루 중 컴퓨터를 켜고 끄는 시간을 일정하게 정하고 꼭 지키세요. 음란물을 보는 아이들 ‘판별법’ • 인터넷에\n",
      "접속하는 시간이 갑자기 많아지거나 한밤중에 잠을 자지 않고 인터넷을 하는 경우가 잦다. • 컴퓨터에 수록된 파일 가운데 확장자가 ‘GIF'나 ’JPG' 등으로 끝나는 그래픽 파일이\n",
      "많다. • 신용카드 청구서에 알지 못하는 내용과 금액이 청구된다. - 청구업체의 이름이 명시되어 있지 않고 ‘web.site' 등으로만 적혀 있는 경우 (음란물업체들은 회사명을\n",
      "명확히 표시하지 않음) • 방으로 들어가면 순간적으로 컴퓨터를 끄거나 화면을 바꾸는 등 당황해 한다. ○ 아이가 음란물을 보고 있는 걸 알았을 때는? 음란물은 우연히 접하지만\n",
      "다음부터는 의도적으로 찾게 되는 것이 문제입니다. 하지만 청소년기의 자연 스러운 모습으로 받아들이고, 다그치기보다는 열린 마음으로 자녀들과 자연스럽게 대화하며 음란물이 왜 나쁜지\n",
      "서로 이야기하는 것이 좋습니다. - 14 - □8 흡연 및 음주 예방 교육 보건교사 김○혜 1. 학생 흡연의 피해 일산화탄소 영향으로 두뇌 활동이 저하되고, 학습능력이 떨어집니다.\n",
      "성인에 비해 폐 용적이 작아 담배연기로 인한 피해가 더 크고, 폐 성숙에 장애를 가져옵니다. 성장기는 세포분열이 왕성하게 일어나는 시기이므로 흡연으로 인해 세포의 성장이 방해받을\n",
      "수 있습니다\n",
      "metadata:\n",
      " {'source': './data/complex_pdf/school_edu_guide.pdf', 'filetype': 'application/pdf', 'languages':\n",
      "['kor', 'eng'], 'last_modified': '2024-04-04T01:39:24', 'page_number': 16, 'orig_elements': '',\n",
      "'file_directory': './data/complex_pdf', 'filename': 'school_edu_guide.pdf', 'category':\n",
      "'CompositeElement', 'family_tree': 'child', 'parent_id': '41a1532c-9ba8-4718-81af-4e885e1f521c',\n",
      "'id': 'd171e3da-d009-41b3-be8a-a2f24d8bf741'}\n",
      "\n",
      "-----------------------------------------------\n",
      "3. Category: CompositeElement, Chunk: 647 Characters\n",
      "-----------------------------------------------\n",
      "2024학년도 학 교 교 육 과 정 설 명 회 연 수 자 료 일시: 2024년 3월 20일 (수) 바른 인성, 건강한 감성, 즐거운 배움으로 미래를 가꾸는 바른 인성, 건강한\n",
      "감성, 즐거운 배움으로 미래를 가꾸는 학부모 연수 순서 학부모 연수 순서 1. 상록 교육목표 및 구현계획 2. 2024학년도 학사 일정 안내 3. 출결 관련 확인 제출자료 안내\n",
      "4. 학교교육평가 5. 선행교육 예방(공교육정상화법) 6. 학생 안전 교육 7. 성폭력 예방 교육 8. 흡연 및 음주 예방 교육 9. 학생 인권조례 및 교권보호 10. 방과후학교\n",
      "운영 11. 초등돌봄교실(오후돌봄) 운영 12. 학부모 서비스 신청 안내 13. 정보통신윤리교육 14. 정보보안 및 개인정보보호 운영 계획 15. 불법찬조금 근절 16. 아동학대\n",
      "예방 교육 17. 가정폭력 예방 교육 18. 생명 존중 및 생명 살림(자살 예방) 교육 19. 교육활동 참여자 안전교육(녹색, 학부모폴리스) 20. 학교폭력 예방 교육 21.\n",
      "감염병 예방 교육 22. 청탁금지법 23. 공익제보자 보호 및 공익 신고 보상 안내 24. 존중과 배려의 교육환경 조성 예방 교육(갑질 근절) 25. 교육활동보호예방교육 1 상록\n",
      "교육 목표 및 구현 계획 비전 바른 인성, 건강한 감성, 즐거운 배움으로 미래를 가꾸는 어린이\n",
      "metadata:\n",
      " {'source': './data/complex_pdf/school_edu_guide.pdf', 'filetype': 'application/pdf', 'languages':\n",
      "['kor', 'eng'], 'last_modified': '2024-04-04T01:39:24', 'page_number': 1, 'orig_elements': '',\n",
      "'file_directory': './data/complex_pdf', 'filename': 'school_edu_guide.pdf', 'category':\n",
      "'CompositeElement', 'family_tree': 'child', 'parent_id': 'b25bbfff-991e-4bc1-9d13-ced783678f0a',\n",
      "'id': '5d9dcf1a-a93b-4d22-bb58-091cc9d02958'}\n",
      "\n",
      "-----------------------------------------------\n",
      "4. Category: CompositeElement, Chunk: 402 Characters\n",
      "-----------------------------------------------\n",
      "학생, 학부모, 교직원 대상 예방교육(학기당 1회) ∙또래활동, 체육·예술활동 등 활동중심 예방활동 ∙어울림(사이버어울림)프로그램 교육과정 반영(연 8차시 이상, 사이버폭력예방\n",
      "2차시 이상 포함) CCTV, 학생보호인력 등 안전인프라 구축 ∙신고방법 홍보: 112,117,학교전담경찰관,담임교사 등) □ 학교폭력 관련 외부 상담기관: 117(학교폭력\n",
      "신고·상담센터), 1388(청소년 상담), 상록초등학교 학교전담경찰관 □ 학교폭력 신고 및 갈등조정 관련 문의: 상록초등학교 학교폭력전담기구((031-487-5743) □ 학교폭력\n",
      "사안 심의 및 조치 불복 관련 문의: 안산교육지원청 학생지원센터(031-412-4555~4557) - 35 - | 21 감염병 예방 교육 보건교사 김○혜 1. 학교에서 자주\n",
      "발생하는 감염병\n",
      "metadata:\n",
      " {'source': './data/complex_pdf/school_edu_guide.pdf', 'filetype': 'application/pdf', 'languages':\n",
      "['kor', 'eng'], 'last_modified': '2024-04-04T01:39:24', 'page_number': 37, 'orig_elements': '',\n",
      "'file_directory': './data/complex_pdf', 'filename': 'school_edu_guide.pdf', 'category':\n",
      "'CompositeElement', 'family_tree': 'child', 'parent_id': 'f69ca1d4-267f-453c-ae36-95b9fd236b4e',\n",
      "'id': '561fde90-79df-4855-bba1-a61c00534dc9'}\n",
      "\n",
      "-----------------------------------------------\n",
      "5. Category: CompositeElement, Chunk: 926 Characters\n",
      "-----------------------------------------------\n",
      ". 출입지점 관리 1) 학생은 정해진 보행로로 등하교: 차량 출입이 많은 경사로는 학생 출입 통제 2) 등하교 학생을 위해 교내 외부 차량(학부모 차량 포함) 진입 금지, 교문 앞\n",
      "주․정차 금지 3) 학생들의 교육활동 시간에는 외부인(학부모 포함)을 통제 ① 방문객은 배움터지킴실에서 관리대장에 성명 및 방문목적을 기재하고 방문증을 교부받는다. (신분증 지참)\n",
      "② 교내에서는 반드시 방문증을 패용하고 용무 후에는 방문증을 배움터지킴이실에 반납한다. 2. 유괴 예방 가. 신학기 대비 실종 유괴 예방 수칙 1) 비상시를 대비하여 자녀의 새\n",
      "친구, 주변 사람들의 연락처를 미리 파악한다. 2) 부모의 허락 없이 낯선 사람의 차에 타지 않도록 하며, 얼굴을 아는 사람이어도 함부로 따라가지 않도록 교육한다. 3) 자녀의\n",
      "이름, 전화번호를 옷 안, 신발 안, 가방 안쪽 등 보이지 않는 곳에 써둔다. 4) 다른 사람을 통해서는 어떠한 경우에도 아이를 데려오게 하거나 심부름시키지 않는다는 것을\n",
      "강조한다. 5) 도로와 떨어져서 인도 안쪽으로 걷는 습관을 기르도록 교육한다. 6) 통학로의 우범지역과 사각지대를 파악하여 아이에게 위험한 곳임을 미리 알려준다. 7) 모르는\n",
      "사람에게 예의 바르게 행동하는 것보다는 자신의 안전을 지키는 것이 우선임을 강조한다. 8) 자녀들이 스스로 자신을 보호할 수 있도록 실종예방수칙(안돼요! 싫어요! 도와주세요!)을\n",
      "반복해서 지도한다. 3. 불조심 예방 가. 화재 발생 시 대피요령 1) 낮은 자세로 기어서 피난해야 합니다. 2) 수건이나 휴지 등으로 코와 입을 막고 열과 연기로부터 멀리\n",
      "떨어져야 합니다. 나. 피난을 위한 복도, 계단에 적치된 물건은 없나요? 복도, 계단 등은 화재 발생 등 유사시 피난 통로로 사용됩니다. 계단에 문을 설치하거나 물건을 적치 하는\n",
      "행위는 피난 시 장애가 되어 인명피해가 발생할 수 있습니다. 다\n",
      "metadata:\n",
      " {'source': './data/complex_pdf/school_edu_guide.pdf', 'filetype': 'application/pdf', 'languages':\n",
      "['kor', 'eng'], 'last_modified': '2024-04-04T01:39:24', 'page_number': 13, 'orig_elements': '',\n",
      "'file_directory': './data/complex_pdf', 'filename': 'school_edu_guide.pdf', 'category':\n",
      "'CompositeElement', 'family_tree': 'child', 'parent_id': '0ac83987-e72f-4f30-81ef-55ed49849156',\n",
      "'id': '64360600-4f1a-49c3-bbcc-e3cba8415efe'}\n",
      "\n",
      "-----------------------------------------------\n",
      "6. Category: CompositeElement, Chunk: 629 Characters\n",
      "-----------------------------------------------\n",
      ".privacy.go.kr)에 개인정보파일등록 (파일명에 따른 보유건수, 보유기관, 담당자 등) ❍ 개인정보 수집이용 및 제3자 정보제공 동의서 발송 및 수합 - 대상: 전교생 -\n",
      "일시: 3월 초 ❍ 정보보안과 개인정보보호 교직원 연수 실시 - 일시 : 4월 - 연수 내용: 개인정보 보호 및 정보보안 - 교육 방법 : 비대면 시청각 자료 및 쌍방향 프로그램\n",
      "이용 ❍ 주요 정보통신 시설 관리 - 학내망 장비 및 서버 관리실 통제구역 설정 - 시스템 및 장비별 관리 책임자 지정, 시스템의 주기적 점검 - 무선통신 보안 관리(업무용\n",
      "pc에서 무선 접속장치 사용금지) ❍ 기타 - 외부용역업체 보안관리 - 학교홈페이지 개인정보 처리방침 내용 수정 관리 (개인정보 책임자 또는 담당자가 변경되었을 경우이거나 개인정보\n",
      "파일명과 보유기간 등의 변경 사 항을 최대한 빠른 기간에 반영) 4) 기대 효과 ❍ 정보보안 활동으로 각종 정보보안 사고를 예방하고, 사이버 공격 대응태세 갖추기 ❍ 개인정보가\n",
      "분실, 도난, 누출, 변조, 훼손, 남용되지 않도록 노력하는 학교문화 만들기 - 23 - 15 불법찬조금 근절을 위한 학부모 연수 교감 김○식 Ⅰ 불법찬조금 처분 기준 불법찬조금\n",
      "관련 처분기준(2020. 3. 1. 시행) 처분기준 금액\n",
      "metadata:\n",
      " {'source': './data/complex_pdf/school_edu_guide.pdf', 'filetype': 'application/pdf', 'languages':\n",
      "['kor', 'eng'], 'last_modified': '2024-04-04T01:39:24', 'page_number': 24, 'orig_elements': '',\n",
      "'file_directory': './data/complex_pdf', 'filename': 'school_edu_guide.pdf', 'category':\n",
      "'CompositeElement', 'family_tree': 'child', 'parent_id': 'c1e0f75d-ee27-4748-b77e-8d21ffab0241',\n",
      "'id': '5f32d463-e647-4e92-b5af-16ebd27aa1b0'}\n",
      "\n",
      "-----------------------------------------------\n",
      "7. Category: CompositeElement, Chunk: 1014 Characters\n",
      "-----------------------------------------------\n",
      "2. 감염병 발생 시 등교중지 및 출석인정 ▪ 감염병이 의심되면 등교하기 전에 담임 선생님께 연락한 후 병원에 갑니다. ▪ 감염병 진단시 담임 선생님께 연락을 하고 집에서 안정을\n",
      "합니다. : 학교, 학원, 지역아동센터 등 사람이 많이 모이는 곳에 가지 않습니다. ▪ 치료, 완치 후 병원에서 받은 ‘등교중지 기간이 명시된 의사 소견서(진료 확인서)’를 담임\n",
      "선생님께 제출합니다.(출석 인정) ▪ 등교중지 기간보다 미리 등교 시에는 감염성이 없다는 의사의 진료소견서를 제출합니다. ☞ 학생에게 발생하는 주요 법정 감염병 발생 시 출석\n",
      "인정이 됩니다. 3. 감염병 예방을 위한 행동수칙 및 올바른 손 씻기 ▪ 1830 손 씻기: 하루에 8번 30초간 흐르는 물에 비누를 사용하여 손씻기 ▪ 기침 예절 지키기: 마스크\n",
      "착용, 안쪽 소매로 가리기 ▪ 면역력 강화: 수분 섭취, 아침 식사, 적절한 수면 및 운동 ▪ 눈, 코, 입 주변에 손을 가져가는 습관 가지지 않기 ▪ 의심 증상 시 조기 진료로\n",
      "확산 방지 4. 입학 전 챙겨야 할 예방접종 1Al 12 세 6 세 4 세 류 0 < CH&E 2 8 너 내 & & | ® © = ot 연 ㅠ - K & g 모 | 듀 Q 촬 >\n",
      "니 | 두 뺀윙 K 뿔 니 N 존 체 > 콕 95 ®133% N > 뽀 『 지 운 L Vg g |g| § 3| & o N 뜨 K0 2 &l 2 찌 ㅇ = 웨 L o] 3 3 B 이\n",
      "o 6 | - 뜨 |y slalzl 3 B §F |2 0 m 1 2 께 삐 T i o 빅 | 복 2 겨 4] 10 흐 핀 0 1080 기중 어 호 으 히 | 유 춤밖감\n",
      "테싱입리홈。퓸 께 。쏘 H B (W ™3 헤 il & a 햇 ㅋ 오 Ok o - 36 - 22 청탁금지법 교감 김○식 1. 적용 대상 가. 적용 대상 기관 ○ 공공기관, 언론기관,\n",
      "금융 등 나. 적용 대상자 : 공직자 등, 공적 업무 종사자 ○ 적용 대상 기관의 직원과 배우자 ○ 공공기관의 의사결정 등에 참여하는 민간인 ○ 공직자 등에게 부정 청탁을 하거나\n",
      "수수 금지 금품 등을 제공한 자 2\n",
      "metadata:\n",
      " {'source': './data/complex_pdf/school_edu_guide.pdf', 'filetype': 'application/pdf', 'languages':\n",
      "['kor', 'eng'], 'last_modified': '2024-04-04T01:39:24', 'page_number': 38, 'orig_elements': '',\n",
      "'file_directory': './data/complex_pdf', 'filename': 'school_edu_guide.pdf', 'category':\n",
      "'CompositeElement', 'family_tree': 'child', 'parent_id': 'cc80f346-8125-4fee-8b06-b77acfbb381c',\n",
      "'id': '3234ba65-c3f9-44d6-bace-f8293d0b6826'}\n"
     ]
    }
   ],
   "source": [
    "print(\"##################################\")\n",
    "print(\"query: \", query)\n",
    "print(\"##################################\")\n",
    "\n",
    "print (colored(\"\\n\\n### Answer ###\", \"blue\"))\n",
    "print_ww(response)\n",
    "\n",
    "\n",
    "print (colored(\"\\n\\n### Contexts ###\", \"green\"))\n",
    "show_context_used(contexts, limit=10)"
   ]
  },
  {
   "cell_type": "markdown",
   "id": "993c427e-aa41-4c8b-ae00-9dc6dd6c6f7a",
   "metadata": {
    "tags": []
   },
   "source": [
    "### Multi-turn using chat history"
   ]
  },
  {
   "cell_type": "code",
   "execution_count": 42,
   "id": "4ade616d-7ba4-4f19-ad62-3f246204eb2a",
   "metadata": {
    "tags": []
   },
   "outputs": [],
   "source": [
    "from utils.chat import chat_utils\n",
    "from langchain.schema.output_parser import StrOutputParser\n",
    "from langchain_core.prompts import MessagesPlaceholder\n",
    "from langchain_core.prompts import ChatPromptTemplate, HumanMessagePromptTemplate, SystemMessagePromptTemplate"
   ]
  },
  {
   "cell_type": "markdown",
   "id": "2af4d169-9736-4eab-b587-abd650388122",
   "metadata": {
    "tags": []
   },
   "source": [
    "#### Momory setting and Save query and response as chat history"
   ]
  },
  {
   "cell_type": "code",
   "execution_count": null,
   "id": "2913f43d-d397-4a15-b246-e41d1d81b043",
   "metadata": {
    "tags": []
   },
   "outputs": [],
   "source": [
    "memory = chat_utils.get_memory(\n",
    "    memory_type=\"ConversationBufferMemory\",\n",
    "    memory_key=\"chat_history\"\n",
    ")\n",
    "\n",
    "history = memory.load_memory_variables({})[\"chat_history\"]"
   ]
  },
  {
   "cell_type": "code",
   "execution_count": null,
   "id": "f5acef41-e2e6-4f92-ba4e-623b1d7f01e1",
   "metadata": {
    "tags": []
   },
   "outputs": [],
   "source": [
    "memory.chat_memory.add_user_message(query)\n",
    "memory.chat_memory.add_ai_message(response)"
   ]
  },
  {
   "cell_type": "code",
   "execution_count": null,
   "id": "37f70130-f55d-4b40-8d5e-fab19154d17f",
   "metadata": {
    "tags": []
   },
   "outputs": [],
   "source": [
    "print('memory: ', history)"
   ]
  },
  {
   "cell_type": "markdown",
   "id": "e03a81eb-d431-4393-8ef9-7ee9d159d36e",
   "metadata": {},
   "source": [
    "#### Rephrase quetions based on chat hostory "
   ]
  },
  {
   "cell_type": "code",
   "execution_count": null,
   "id": "1a9d7221-d5f3-4b3a-904c-623252b84e56",
   "metadata": {
    "tags": []
   },
   "outputs": [],
   "source": [
    "human_prompt = \"\"\"\n",
    "               Here is the question: <question>{question}</question>\n",
    "               Write in Korean.\n",
    "               \"\"\"\n",
    "               \n",
    "system_prompt = prompt_repo.get_contextualize_system_prompt()\n",
    "system_message_template = SystemMessagePromptTemplate.from_template(system_prompt)\n",
    "human_message_template = HumanMessagePromptTemplate.from_template(human_prompt)"
   ]
  },
  {
   "cell_type": "code",
   "execution_count": null,
   "id": "dd67c58e-df9a-409b-9f2c-20d072fecbb5",
   "metadata": {
    "tags": []
   },
   "outputs": [],
   "source": [
    "contextualize_q_prompt = ChatPromptTemplate.from_messages(\n",
    "    [\n",
    "        system_message_template,\n",
    "        MessagesPlaceholder(\"chat_history\"),\n",
    "        human_message_template\n",
    "    ]\n",
    ")"
   ]
  },
  {
   "cell_type": "code",
   "execution_count": null,
   "id": "80476aef-af26-43d8-b82e-d21035ba2480",
   "metadata": {
    "tags": []
   },
   "outputs": [],
   "source": [
    "chain = contextualize_q_prompt | llm_text | StrOutputParser()"
   ]
  },
  {
   "cell_type": "code",
   "execution_count": null,
   "id": "77f57d5c-1e67-4ede-bcd1-cac42784ed0d",
   "metadata": {
    "tags": []
   },
   "outputs": [],
   "source": [
    "#query = \"첫 번째 답에서 각 사례, 유형은 뭐가 있어?\"\n",
    "query = \"학교에서 발생할 수 있는 감염병의 종류와 감염경로?\"\n",
    "\n",
    "history = memory.load_memory_variables({})[\"chat_history\"]\n",
    "print('memory: ', history)\n",
    "revised_question = chain.invoke(\n",
    "    {\n",
    "        \"chat_history\": history,\n",
    "        \"question\": query,\n",
    "    }\n",
    ")\n",
    "revised_question = revised_question.replace(\"<result>\", \"\").replace(\"</result>\", \"\")\n",
    "print (\"=============\")\n",
    "print (f'revised_question: {revised_question}')"
   ]
  },
  {
   "cell_type": "code",
   "execution_count": null,
   "id": "1d31c8a4-5f2e-4419-989b-551b4d690e34",
   "metadata": {
    "tags": []
   },
   "outputs": [],
   "source": [
    "print (f'revised_question: {revised_question}')"
   ]
  },
  {
   "cell_type": "markdown",
   "id": "333b352b-6d62-4b0c-b083-ac5e8458f59f",
   "metadata": {},
   "source": [
    "#### Repeat QA and save chat history"
   ]
  },
  {
   "cell_type": "code",
   "execution_count": null,
   "id": "16966868-841d-4ea2-b196-566b8a8726fc",
   "metadata": {
    "tags": []
   },
   "outputs": [],
   "source": [
    "response, contexts = qa.invoke(\n",
    "    query = revised_question,\n",
    "    verbose=False\n",
    ")"
   ]
  },
  {
   "cell_type": "code",
   "execution_count": null,
   "id": "e1baae7e-aa9f-456b-a455-bf9bea04c12a",
   "metadata": {
    "tags": []
   },
   "outputs": [],
   "source": [
    "memory.chat_memory.add_user_message(query)\n",
    "memory.chat_memory.add_ai_message(response)"
   ]
  },
  {
   "cell_type": "code",
   "execution_count": null,
   "id": "2db51ac6-1374-42f1-be5e-c4cb9d177b16",
   "metadata": {
    "tags": []
   },
   "outputs": [],
   "source": [
    "print('memory: ', history)"
   ]
  },
  {
   "cell_type": "code",
   "execution_count": null,
   "id": "c194eca7-a024-4309-81d1-3e8f02da643e",
   "metadata": {},
   "outputs": [],
   "source": []
  }
 ],
 "metadata": {
  "kernelspec": {
   "display_name": "conda_python3",
   "language": "python",
   "name": "conda_python3"
  },
  "language_info": {
   "codemirror_mode": {
    "name": "ipython",
    "version": 3
   },
   "file_extension": ".py",
   "mimetype": "text/x-python",
   "name": "python",
   "nbconvert_exporter": "python",
   "pygments_lexer": "ipython3",
   "version": "3.10.13"
  }
 },
 "nbformat": 4,
 "nbformat_minor": 5
}
