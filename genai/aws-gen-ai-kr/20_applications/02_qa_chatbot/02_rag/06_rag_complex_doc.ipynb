{
 "cells": [
  {
   "cell_type": "markdown",
   "id": "5deb2df2-413d-49bd-a829-3a1fc344937e",
   "metadata": {},
   "source": [
    "# RAG over complex Documents\n"
   ]
  },
  {
   "cell_type": "markdown",
   "id": "b1f81abc-3277-4a6b-9ef1-d4f997d67fbe",
   "metadata": {},
   "source": [
    "## Setting\n",
    " - Auto Reload\n",
    " - path for utils"
   ]
  },
  {
   "cell_type": "code",
   "execution_count": null,
   "id": "ddde4105-b759-4d6c-8214-8e1ab485ae48",
   "metadata": {
    "tags": []
   },
   "outputs": [],
   "source": [
    "%load_ext autoreload\n",
    "%autoreload 2"
   ]
  },
  {
   "cell_type": "code",
   "execution_count": null,
   "id": "57c2cdb1-d785-4317-afce-938f13141085",
   "metadata": {
    "tags": []
   },
   "outputs": [],
   "source": [
    "import sys, os\n",
    "module_path = \"../../..\"\n",
    "sys.path.append(os.path.abspath(module_path))"
   ]
  },
  {
   "cell_type": "markdown",
   "id": "1e913b68-f9ed-4da7-bc49-4db57f456c91",
   "metadata": {},
   "source": [
    "## 1. Creatr Bedrock client"
   ]
  },
  {
   "cell_type": "code",
   "execution_count": null,
   "id": "424492cf-401a-486d-9c1e-f2c6617b6e75",
   "metadata": {
    "tags": []
   },
   "outputs": [],
   "source": [
    "import json\n",
    "import boto3\n",
    "from pprint import pprint\n",
    "from termcolor import colored\n",
    "from utils import bedrock, print_ww\n",
    "from utils.bedrock import bedrock_info"
   ]
  },
  {
   "cell_type": "markdown",
   "id": "e841327d-03ff-4a22-8224-91df66e0a943",
   "metadata": {},
   "source": [
    "### ---- ⚠️ Un-comment and edit the below lines as needed for your AWS setup ⚠️ ----\n",
    "- os.environ[\"AWS_DEFAULT_REGION\"] = \"<REGION_NAME>\"  # E.g. \"us-east-1\"\n",
    "- os.environ[\"AWS_PROFILE\"] = \"<YOUR_PROFILE>\"\n",
    "- os.environ[\"BEDROCK_ASSUME_ROLE\"] = \"<YOUR_ROLE_ARN>\"  # E.g. \"arn:aws:...\"\n",
    "- os.environ[\"BEDROCK_ENDPOINT_URL\"] = \"<YOUR_ENDPOINT_URL>\"  # E.g. \"https://...\""
   ]
  },
  {
   "cell_type": "code",
   "execution_count": null,
   "id": "66a621c0-db5c-4e25-919e-099c2debbf88",
   "metadata": {
    "tags": []
   },
   "outputs": [],
   "source": [
    "boto3_bedrock = bedrock.get_bedrock_client(\n",
    "    assumed_role=os.environ.get(\"BEDROCK_ASSUME_ROLE\", None),\n",
    "    endpoint_url=os.environ.get(\"BEDROCK_ENDPOINT_URL\", None),\n",
    "    region=os.environ.get(\"AWS_DEFAULT_REGION\", None),\n",
    ")\n",
    "\n",
    "print (colored(\"\\n== FM lists ==\", \"green\"))\n",
    "pprint (bedrock_info.get_list_fm_models(verbose=False))"
   ]
  },
  {
   "cell_type": "markdown",
   "id": "c22b84be-91ee-4e22-8ed0-3c23b907172a",
   "metadata": {},
   "source": [
    "## 2. Titan Embedding 및 LLM 인 Claude-v3-sonnet 모델 로딩"
   ]
  },
  {
   "cell_type": "markdown",
   "id": "381aa4d7-0ad8-467b-af4a-c1514e9559d2",
   "metadata": {},
   "source": [
    "### LLM 로딩 (Claude-v3-sonnet)"
   ]
  },
  {
   "cell_type": "code",
   "execution_count": null,
   "id": "febdbf9e-4ed9-49d2-aaad-6cda6fed1867",
   "metadata": {
    "tags": []
   },
   "outputs": [],
   "source": [
    "from langchain_community.chat_models import BedrockChat\n",
    "from langchain.callbacks.streaming_stdout import StreamingStdOutCallbackHandler"
   ]
  },
  {
   "cell_type": "code",
   "execution_count": null,
   "id": "bb4edb11-7ef2-4ab4-a36c-bc0f8a5c52a5",
   "metadata": {
    "tags": []
   },
   "outputs": [],
   "source": [
    "llm_text = BedrockChat(\n",
    "    model_id=bedrock_info.get_model_id(model_name=\"Claude-V3-Sonnet\"),\n",
    "    client=boto3_bedrock,\n",
    "    streaming=True,\n",
    "    callbacks=[StreamingStdOutCallbackHandler()],\n",
    "    model_kwargs={\n",
    "        \"max_tokens\": 1024,\n",
    "        \"stop_sequences\": [\"\\n\\nHuman\"],\n",
    "        # \"temperature\": 0,\n",
    "        # \"top_k\": 350,\n",
    "        # \"top_p\": 0.999\n",
    "    }\n",
    ")\n",
    "llm_text"
   ]
  },
  {
   "cell_type": "markdown",
   "id": "015716aa-a430-4811-a43b-2aab23c0f731",
   "metadata": {},
   "source": [
    "### Embedding 모델 선택"
   ]
  },
  {
   "cell_type": "code",
   "execution_count": null,
   "id": "d58da66f-d504-4434-85c4-85ce1cc6439a",
   "metadata": {
    "tags": []
   },
   "outputs": [],
   "source": [
    "from langchain.embeddings import BedrockEmbeddings"
   ]
  },
  {
   "cell_type": "code",
   "execution_count": null,
   "id": "372e1766-b30a-49ca-bd6d-6615397996a3",
   "metadata": {
    "tags": []
   },
   "outputs": [],
   "source": [
    "llm_emb = BedrockEmbeddings(\n",
    "    client=boto3_bedrock,\n",
    "    model_id=bedrock_info.get_model_id(model_name=\"Titan-Embeddings-G1\")\n",
    ")\n",
    "dimension = 1536\n",
    "print(\"Bedrock Embeddings Model Loaded\")"
   ]
  },
  {
   "cell_type": "markdown",
   "id": "460fa49e-170e-4ca3-b3f4-0405e53a9e65",
   "metadata": {},
   "source": [
    "## 3. Depoly ReRanker model (if needed)"
   ]
  },
  {
   "cell_type": "code",
   "execution_count": null,
   "id": "8825f948-e6a4-4fdd-b820-7d2461331679",
   "metadata": {
    "tags": []
   },
   "outputs": [],
   "source": [
    "import json\n",
    "import sagemaker\n",
    "from sagemaker.huggingface import HuggingFaceModel"
   ]
  },
  {
   "cell_type": "code",
   "execution_count": null,
   "id": "22a22b0a-a289-4cc9-94da-70ceaa6c399f",
   "metadata": {
    "tags": []
   },
   "outputs": [],
   "source": [
    "depoly = False"
   ]
  },
  {
   "cell_type": "code",
   "execution_count": null,
   "id": "ab95ab6d-2521-4e54-8dc6-c30713613c18",
   "metadata": {
    "tags": []
   },
   "outputs": [],
   "source": [
    "if depoly:\n",
    "\n",
    "    try:\n",
    "        role = sagemaker.get_execution_role()\n",
    "    except ValueError:\n",
    "        iam = boto3.client('iam')\n",
    "        role = iam.get_role(RoleName='sagemaker_execution_role')['Role']['Arn']\n",
    "\n",
    "    # Hub Model configuration. https://huggingface.co/models\n",
    "    hub = {\n",
    "        'HF_MODEL_ID':'Dongjin-kr/ko-reranker',\n",
    "        'HF_TASK':'text-classification'\n",
    "    }\n",
    "\n",
    "    # create Hugging Face Model Class\n",
    "    huggingface_model = HuggingFaceModel(\n",
    "        transformers_version='4.26.0',\n",
    "        pytorch_version='1.13.1',\n",
    "        py_version='py39',\n",
    "        env=hub,\n",
    "        role=role, \n",
    "    )\n",
    "\n",
    "    # deploy model to SageMaker Inference\n",
    "    predictor = huggingface_model.deploy(\n",
    "        initial_instance_count=1, # number of instances\n",
    "        instance_type='ml.g5.xlarge' # instance type\n",
    "    )\n",
    "\n",
    "    print(f'Accept: {predictor.accept}')\n",
    "    print(f'ContentType: {predictor.content_type}')\n",
    "    print(f'Endpoint: {predictor.endpoint}')"
   ]
  },
  {
   "cell_type": "markdown",
   "id": "8159075b-f792-49dd-bafa-d35064712f43",
   "metadata": {},
   "source": [
    "#### Save reranker endpoint to Parameter Store"
   ]
  },
  {
   "cell_type": "code",
   "execution_count": null,
   "id": "94464cdf-469f-4c46-a6ca-d54a714fe0bc",
   "metadata": {
    "tags": []
   },
   "outputs": [],
   "source": [
    "if depoly:\n",
    "\n",
    "    import boto3\n",
    "    from utils.ssm import parameter_store\n",
    "\n",
    "    region=boto3.Session().region_name\n",
    "    pm = parameter_store(region)\n",
    "\n",
    "    pm.put_params(\n",
    "        key=\"reranker_endpoint\",\n",
    "        value=f'{predictor.endpoint}',\n",
    "        overwrite=True,\n",
    "        enc=False\n",
    "    )"
   ]
  },
  {
   "cell_type": "markdown",
   "id": "3bb8a33a-3ec6-466e-b1ba-25b34ddae850",
   "metadata": {},
   "source": [
    "## 4. Invocation (prediction)"
   ]
  },
  {
   "cell_type": "code",
   "execution_count": null,
   "id": "68b0e072-c49e-4deb-8ffb-01fdc807f30c",
   "metadata": {
    "tags": []
   },
   "outputs": [],
   "source": [
    "from utils.ssm import parameter_store"
   ]
  },
  {
   "cell_type": "code",
   "execution_count": null,
   "id": "534c3cb5-1a8b-42e6-bf98-24479f5f9506",
   "metadata": {
    "tags": []
   },
   "outputs": [],
   "source": [
    "region=boto3.Session().region_name\n",
    "pm = parameter_store(region)"
   ]
  },
  {
   "cell_type": "code",
   "execution_count": null,
   "id": "d13eae8d-6e1e-4203-9975-b968d8e87a08",
   "metadata": {
    "tags": []
   },
   "outputs": [],
   "source": [
    "runtime_client = boto3.Session().client('sagemaker-runtime')\n",
    "print (f'runtime_client: {runtime_client}')"
   ]
  },
  {
   "cell_type": "code",
   "execution_count": null,
   "id": "c360b768-f988-44cd-b3b3-8c7966a4f750",
   "metadata": {
    "tags": []
   },
   "outputs": [],
   "source": [
    "endpoint_name = pm.get_params(\n",
    "    key=\"reranker_endpoint\",\n",
    "    enc=False\n",
    ")\n",
    "deserializer = \"application/json\""
   ]
  },
  {
   "cell_type": "code",
   "execution_count": null,
   "id": "6d10e73d-8e2d-465f-b62d-93fe9cc10e19",
   "metadata": {
    "tags": []
   },
   "outputs": [],
   "source": [
    "payload = json.dumps(\n",
    "    {\n",
    "        \"inputs\": [\n",
    "            {\"text\": \"I hate you\", \"text_pair\": \"I don't like you\"},\n",
    "            {\"text\": \"He hates you\", \"text_pair\": \"He like you\"}\n",
    "        ]\n",
    "    }\n",
    ")"
   ]
  },
  {
   "cell_type": "code",
   "execution_count": null,
   "id": "aa7dc3d0-6798-473b-a1c0-fba39fdbc467",
   "metadata": {
    "tags": []
   },
   "outputs": [],
   "source": [
    "payload = json.dumps(\n",
    "    {\n",
    "        \"inputs\": [\n",
    "            {\"text\": \"나는 너를 사랑하지 않아\", \"text_pair\": \"나는 너를 좋아하지 않아\"},\n",
    "            {\"text\": \"그는 너를 싫어해\", \"text_pair\": \"그는 너를 좋아해\"}\n",
    "        ]\n",
    "    }\n",
    ")"
   ]
  },
  {
   "cell_type": "code",
   "execution_count": null,
   "id": "c71afa63-e158-4ad9-9ce2-46e3a5c263d4",
   "metadata": {
    "tags": []
   },
   "outputs": [],
   "source": [
    "%%time\n",
    "response = runtime_client.invoke_endpoint(\n",
    "    EndpointName=endpoint_name,\n",
    "    ContentType=\"application/json\",\n",
    "    Accept=deserializer,\n",
    "    Body=payload\n",
    ")\n",
    "## deserialization\n",
    "out = json.loads(response['Body'].read().decode()) ## for json\n",
    "print (f'Response: {out}')"
   ]
  },
  {
   "cell_type": "markdown",
   "id": "256786db-df24-47ac-b9a4-f195a8b015f2",
   "metadata": {},
   "source": [
    "## 5. LangChainOpenSearch VectorStore 정의\n",
    "### 선수 조건\n",
    "- 01_preprocess_docs/02_load_docs_opensearch.ipynb를 통해서 OpenSearch Index 가 생성이 되어 있어야 합니다.\n",
    "#### [중요] 아래에 aws parameter store 에 아래 인증정보가 먼저 입력되어 있어야 합니다.\n",
    "- 01_preprocess_docs/01_parameter_store_example.ipynb 참고"
   ]
  },
  {
   "cell_type": "code",
   "execution_count": null,
   "id": "7464c2d9-5188-4f07-81b9-451c51e028e6",
   "metadata": {
    "tags": []
   },
   "outputs": [],
   "source": [
    "import boto3\n",
    "from utils.ssm import parameter_store"
   ]
  },
  {
   "cell_type": "code",
   "execution_count": null,
   "id": "b40da258-a9e3-4270-a315-796e507d2ec8",
   "metadata": {
    "tags": []
   },
   "outputs": [],
   "source": [
    "region=boto3.Session().region_name\n",
    "pm = parameter_store(region)"
   ]
  },
  {
   "cell_type": "code",
   "execution_count": null,
   "id": "0df511f9-a967-4a7f-b463-873a0f4a589a",
   "metadata": {
    "tags": []
   },
   "outputs": [],
   "source": [
    "opensearch_domain_endpoint = pm.get_params(\n",
    "    key=\"opensearch_domain_endpoint\",\n",
    "    enc=False\n",
    ")\n",
    "\n",
    "opensearch_user_id = pm.get_params(\n",
    "    key=\"opensearch_user_id\",\n",
    "    enc=False\n",
    ")\n",
    "\n",
    "opensearch_user_password = pm.get_params(\n",
    "    key=\"opensearch_user_password\",\n",
    "    enc=True\n",
    ")"
   ]
  },
  {
   "cell_type": "code",
   "execution_count": null,
   "id": "a4ed12f3-77a7-4735-9a09-c7af0d68f6e9",
   "metadata": {
    "tags": []
   },
   "outputs": [],
   "source": [
    "opensearch_domain_endpoint = opensearch_domain_endpoint\n",
    "rag_user_name = opensearch_user_id\n",
    "rag_user_password = opensearch_user_password\n",
    "\n",
    "http_auth = (rag_user_name, rag_user_password) # Master username, Master password"
   ]
  },
  {
   "cell_type": "markdown",
   "id": "1f581678-99cb-4921-a854-eba604765b3b",
   "metadata": {},
   "source": [
    "### Index 이름 셋팅\n",
    "- 이전 노트북 01_preprocess_docs/02_load_docs_opensearch.ipynb를 통해서 생성된 OpenSearch Index name 입력"
   ]
  },
  {
   "cell_type": "code",
   "execution_count": null,
   "id": "2f215c42-8327-4d60-bb73-3a4e36977d78",
   "metadata": {
    "tags": []
   },
   "outputs": [],
   "source": [
    "index_name = opensearch_user_password = pm.get_params(\n",
    "    key=\"opensearch_index_name\",\n",
    "    enc=True\n",
    ")\n",
    "\n",
    "print (f'index_name: {index_name}')"
   ]
  },
  {
   "cell_type": "markdown",
   "id": "ca9624ab-14ff-49a8-b58a-2c9e05def784",
   "metadata": {},
   "source": [
    "### OpenSearch Client 생성"
   ]
  },
  {
   "cell_type": "code",
   "execution_count": null,
   "id": "61e4c63f-46f3-423e-95f1-4b0d80beaa43",
   "metadata": {
    "tags": []
   },
   "outputs": [],
   "source": [
    "from utils.opensearch import opensearch_utils"
   ]
  },
  {
   "cell_type": "code",
   "execution_count": null,
   "id": "8812a5e8-3bac-43ed-a7a0-e328c3f84658",
   "metadata": {
    "tags": []
   },
   "outputs": [],
   "source": [
    "aws_region = os.environ.get(\"AWS_DEFAULT_REGION\", None)\n",
    "os_client = opensearch_utils.create_aws_opensearch_client(\n",
    "    aws_region,\n",
    "    opensearch_domain_endpoint,\n",
    "    http_auth\n",
    ")"
   ]
  },
  {
   "cell_type": "markdown",
   "id": "6910e36a-c9b0-4162-9dbb-76b151b09862",
   "metadata": {},
   "source": [
    "## 4. Question Answering\n",
    "- [BedrockChat with claude3](https://medium.com/@dminhk/building-with-anthropics-claude-3-on-amazon-bedrock-and-langchain-%EF%B8%8F-2b842f9c0ca8)"
   ]
  },
  {
   "cell_type": "code",
   "execution_count": null,
   "id": "4c418f5d-5b26-4c2b-ac88-1e11b8f0d8ac",
   "metadata": {
    "tags": []
   },
   "outputs": [],
   "source": [
    "from utils.rag import qa_chain\n",
    "from utils.rag import prompt_repo, show_context_used\n",
    "from langchain.callbacks.tracers import ConsoleCallbackHandler\n",
    "from utils.rag import retriever_utils, OpenSearchHybridSearchRetriever"
   ]
  },
  {
   "cell_type": "markdown",
   "id": "70cb1747-c239-41a5-8f2a-f5dd9df6263f",
   "metadata": {},
   "source": [
    "### Retriever 정의"
   ]
  },
  {
   "cell_type": "code",
   "execution_count": null,
   "id": "4244599c-356e-4cd5-8509-d2f034f9ebf9",
   "metadata": {
    "tags": []
   },
   "outputs": [],
   "source": [
    "opensearch_hybrid_retriever = OpenSearchHybridSearchRetriever(\n",
    "    os_client=os_client,\n",
    "    index_name=index_name,\n",
    "    llm_text=llm_text, # llm for query augmentation in both rag_fusion and HyDE\n",
    "    llm_emb=llm_emb, # Used in semantic search based on opensearch \n",
    "\n",
    "    # hybird-search debugger\n",
    "    #hybrid_search_debugger = \"semantic\", #[semantic, lexical, None]\n",
    "    \n",
    "    # option for lexical\n",
    "    minimum_should_match=0,\n",
    "    filter=[],\n",
    "\n",
    "    # option for search\n",
    "    fusion_algorithm=\"RRF\", # [\"RRF\", \"simple_weighted\"], rank fusion 방식 정의\n",
    "    ensemble_weights=[.51, .49], # [for semantic, for lexical], Semantic, Lexical search 결과에 대한 최종 반영 비율 정의\n",
    "    reranker=True, # enable reranker with reranker model\n",
    "    reranker_endpoint_name=endpoint_name, # endpoint name for reranking model\n",
    "    parent_document=True, # enable parent document\n",
    "    \n",
    "    rag_fusion=True, # enable rag_fusion\n",
    "    query_augmentation_size=2, # query_augmentation_size in rag_fusion\n",
    "    #hyde=True, # enable hyde\n",
    "    #hyde_query=[\"web_search\"], # query type in hyde \n",
    "    \n",
    "    # option for complex documents consisting of text, table and image\n",
    "    complex_doc=True,\n",
    "    \n",
    "    # option for async search\n",
    "    async_mode=False,\n",
    "\n",
    "    # option for output\n",
    "    k=5, # 최종 Document 수 정의\n",
    "    verbose=True,\n",
    ")"
   ]
  },
  {
   "cell_type": "markdown",
   "id": "d9adf603-c028-4076-8c0a-dab5e98ee366",
   "metadata": {},
   "source": [
    "### QA chain 정의"
   ]
  },
  {
   "cell_type": "code",
   "execution_count": null,
   "id": "4d4f0756-afb7-45dc-aea7-e1f915a20d8d",
   "metadata": {
    "tags": []
   },
   "outputs": [],
   "source": [
    "system_prompt = prompt_repo.get_system_prompt()"
   ]
  },
  {
   "cell_type": "code",
   "execution_count": null,
   "id": "8c99e6c6-d3e2-4bc3-834d-1fa9e4610a53",
   "metadata": {
    "tags": []
   },
   "outputs": [],
   "source": [
    "qa = qa_chain(\n",
    "    llm_text=llm_text,\n",
    "    retriever=opensearch_hybrid_retriever,\n",
    "    system_prompt=system_prompt,\n",
    "    return_context=True,\n",
    "    verbose=False\n",
    ")"
   ]
  },
  {
   "cell_type": "code",
   "execution_count": null,
   "id": "c52c5de5-6ec3-4729-bc87-9bb9e82c5b35",
   "metadata": {
    "tags": []
   },
   "outputs": [],
   "source": [
    "#query = \"감독계획수립 후 현장감독에서 법 위반을 하면 이후 프로세스는?\" ## Image 30\n",
    "#query = \"안전보건표지에서 지시표지의 종류와 용도는?\" ## Table 8\n",
    "#query = \"건강진단 순서를 알려줘\" ## Diagram 15\n",
    "\n",
    "#query = \"수익률 그래프 설명해줘\"\n",
    "#query = \"만기가격이 기준가격의 100% 미만일 때 만기상환금액 계산하는 방법 알려줘\"\n",
    "#query = \"전년 동기 현금 예치금 구성비 알려줘\"\n",
    "#query = \"자산총계 금액 알려줘\"\n",
    "#query = \"대출채권 금액은?\"\n",
    "\n",
    "#query = \"대출채권의 전년동기에 해당하는 구성비는 얼마입니까?\"\n",
    "#query = \"당기손익-공정가치측정유가증권 전년동기의 구성비는?\"\n",
    "\n",
    "query = \"재난 발생 시 대처사항은?\"\n",
    "query = \"학교폭력 처리 과정은?\"\n",
    "#query = \"감염병의 종류와 경로는?\"\n",
    "query = \"홍역에 대한 백신 이름은?\"\n",
    "#query = \"MMR 2차의 예방접종 시기는?\"\n",
    "#query = \"교육목표는?\"\n",
    "#query = \"만기상환금액 알려줘\"\n",
    "\n",
    "response, contexts = qa.invoke(\n",
    "    query = query,\n",
    "    verbose=False\n",
    ")\n",
    "\n",
    "show_context_used(contexts)"
   ]
  },
  {
   "cell_type": "markdown",
   "id": "b68e6691-1b5f-4572-a151-6ebcabfe5b34",
   "metadata": {},
   "source": [
    "### Parameter updates"
   ]
  },
  {
   "cell_type": "code",
   "execution_count": null,
   "id": "2e5eef84-5d10-46e2-b0fa-3dcac41084e6",
   "metadata": {
    "tags": []
   },
   "outputs": [],
   "source": [
    "opensearch_hybrid_retriever.update_search_params(\n",
    "    k=7,\n",
    "    minimum_should_match=0,\n",
    "    \n",
    "    # hybird-search debugger\n",
    "    hybrid_search_debugger = \"None\", #[lexical, semantic, None]\n",
    "    \n",
    "    # filter=[\n",
    "    #     {'term': {'metadata.family_tree': 'child'}},\n",
    "    # ],\n",
    "    \n",
    "    reranker=True, # enable reranker with reranker model\n",
    "    reranker_endpoint_name=endpoint_name, # endpoint name for reranking model\n",
    "    parent_document=True, # enable parent document\n",
    "    rag_fusion=False, # enable rag_fusion\n",
    "    #query_augmentation_size=2, # query_augmentation_size in rag_fusion\n",
    "    #hyde=False, # enable hyde\n",
    "    #hyde_query=[\"web_search\"], # query type in hyde \n",
    "    \n",
    "    # option for complex documents consisting of text, table and image\n",
    "    complex_doc=True, # False 이면, invocation시 text만 넣는다. 단, \n",
    "    \n",
    "    ensemble_weights=[0.51, 0.49], #semantic, lexical\n",
    "    verbose=True\n",
    ")"
   ]
  },
  {
   "cell_type": "code",
   "execution_count": null,
   "id": "c317afb2-db7a-46c3-94c8-1b1418ca879d",
   "metadata": {
    "tags": []
   },
   "outputs": [],
   "source": [
    "#query = \"감독계획수립 후 현장감독에서 법 위반을 하면 이후 프로세스는?\" ## Image 30\n",
    "#query = \"안전보건표지에서 지시표지의 종류와 용도는?\" ## Table 8\n",
    "#query = \"건강진단 순서를 알려줘\" ## Diagram 15\n",
    "\n",
    "##\n",
    "query = \"학기 초에 어린이 납치 예방 방법은?\" # semantic o, lexical x\n",
    "query = \"차 흡연 옷. 벽면에 붙은 연기로 인한 피해?\" # semantic o, lexical x\n",
    "query = \"교육목표는?\"\n",
    "#query = \"수익률 그래프 설명해줘\"\n",
    "query = \"감염병의 종류와 경로는?\"\n",
    "query = \"학교폭력 유형의 개수와 종류 알려줘\"\n",
    "query = \"응급처치 방법에 대해서 알려줘\"\n",
    "query = \"차 밑에서 물건을 꺼내는 아이는 누가 도와줘야 해?\"\n",
    "query = \"공사장 근처에서 노는 아이는 누가 도와줘야 해?\"\n",
    "#query = \"중지된 경우 이체\"\n"
   ]
  },
  {
   "cell_type": "code",
   "execution_count": null,
   "id": "3b5834ab-a54b-42df-82e4-7f0d5f6e11ea",
   "metadata": {
    "tags": []
   },
   "outputs": [],
   "source": [
    "response, contexts = qa.invoke(\n",
    "    query = query,\n",
    "    verbose=False\n",
    ")"
   ]
  },
  {
   "cell_type": "code",
   "execution_count": null,
   "id": "7589172a-c6de-42ec-8119-fa3011ecd730",
   "metadata": {
    "tags": []
   },
   "outputs": [],
   "source": [
    "print(\"##################################\")\n",
    "print(\"query: \", query)\n",
    "print(\"##################################\")\n",
    "\n",
    "print (colored(\"\\n\\n### Answer ###\", \"blue\"))\n",
    "print_ww(response)\n",
    "\n",
    "\n",
    "print (colored(\"\\n\\n### Contexts ###\", \"green\"))\n",
    "show_context_used(contexts, limit=10)"
   ]
  },
  {
   "cell_type": "code",
   "execution_count": null,
   "id": "2cd3a833-8c52-4272-87b9-0e65a941b7fb",
   "metadata": {},
   "outputs": [],
   "source": []
  }
 ],
 "metadata": {
  "kernelspec": {
   "display_name": "conda_python3",
   "language": "python",
   "name": "conda_python3"
  },
  "language_info": {
   "codemirror_mode": {
    "name": "ipython",
    "version": 3
   },
   "file_extension": ".py",
   "mimetype": "text/x-python",
   "name": "python",
   "nbconvert_exporter": "python",
   "pygments_lexer": "ipython3",
   "version": "3.10.13"
  }
 },
 "nbformat": 4,
 "nbformat_minor": 5
}
