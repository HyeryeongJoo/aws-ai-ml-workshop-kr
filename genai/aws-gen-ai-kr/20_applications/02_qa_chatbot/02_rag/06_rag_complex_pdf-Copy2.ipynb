{
 "cells": [
  {
   "cell_type": "markdown",
   "id": "5deb2df2-413d-49bd-a829-3a1fc344937e",
   "metadata": {},
   "source": [
    "# RAG over complex PDF\n"
   ]
  },
  {
   "cell_type": "markdown",
   "id": "b1f81abc-3277-4a6b-9ef1-d4f997d67fbe",
   "metadata": {},
   "source": [
    "## Setting\n",
    " - Auto Reload\n",
    " - path for utils"
   ]
  },
  {
   "cell_type": "code",
   "execution_count": 32,
   "id": "ddde4105-b759-4d6c-8214-8e1ab485ae48",
   "metadata": {
    "tags": []
   },
   "outputs": [
    {
     "name": "stdout",
     "output_type": "stream",
     "text": [
      "The autoreload extension is already loaded. To reload it, use:\n",
      "  %reload_ext autoreload\n"
     ]
    }
   ],
   "source": [
    "%load_ext autoreload\n",
    "%autoreload 2"
   ]
  },
  {
   "cell_type": "code",
   "execution_count": 33,
   "id": "57c2cdb1-d785-4317-afce-938f13141085",
   "metadata": {
    "tags": []
   },
   "outputs": [],
   "source": [
    "import sys, os\n",
    "module_path = \"../../..\"\n",
    "sys.path.append(os.path.abspath(module_path))"
   ]
  },
  {
   "cell_type": "code",
   "execution_count": null,
   "id": "9ec35f18-c31a-4aab-939b-3beb3e0ea880",
   "metadata": {},
   "outputs": [],
   "source": [
    "!pip install \"unstructured[all-docs]\""
   ]
  },
  {
   "cell_type": "markdown",
   "id": "1e913b68-f9ed-4da7-bc49-4db57f456c91",
   "metadata": {},
   "source": [
    "## 1. Bedrock Client 생성"
   ]
  },
  {
   "cell_type": "code",
   "execution_count": 48,
   "id": "424492cf-401a-486d-9c1e-f2c6617b6e75",
   "metadata": {
    "tags": []
   },
   "outputs": [],
   "source": [
    "import json\n",
    "import boto3\n",
    "from pprint import pprint\n",
    "from termcolor import colored\n",
    "from utils import bedrock, print_ww\n",
    "from utils.bedrock import bedrock_info"
   ]
  },
  {
   "cell_type": "markdown",
   "id": "e841327d-03ff-4a22-8224-91df66e0a943",
   "metadata": {},
   "source": [
    "### ---- ⚠️ Un-comment and edit the below lines as needed for your AWS setup ⚠️ ----\n",
    "- os.environ[\"AWS_DEFAULT_REGION\"] = \"<REGION_NAME>\"  # E.g. \"us-east-1\"\n",
    "- os.environ[\"AWS_PROFILE\"] = \"<YOUR_PROFILE>\"\n",
    "- os.environ[\"BEDROCK_ASSUME_ROLE\"] = \"<YOUR_ROLE_ARN>\"  # E.g. \"arn:aws:...\"\n",
    "- os.environ[\"BEDROCK_ENDPOINT_URL\"] = \"<YOUR_ENDPOINT_URL>\"  # E.g. \"https://...\""
   ]
  },
  {
   "cell_type": "code",
   "execution_count": 49,
   "id": "66a621c0-db5c-4e25-919e-099c2debbf88",
   "metadata": {
    "tags": []
   },
   "outputs": [
    {
     "name": "stdout",
     "output_type": "stream",
     "text": [
      "Create new client\n",
      "  Using region: None\n",
      "  Using profile: None\n",
      "INFO: Found credentials from IAM Role: BaseNotebookInstanceEc2InstanceRole\n",
      "boto3 Bedrock client successfully created!\n",
      "bedrock-runtime(https://bedrock-runtime.us-west-2.amazonaws.com)\n",
      "\u001b[32m\n",
      "== FM lists ==\u001b[0m\n",
      "{'Claude-Instant-V1': 'anthropic.claude-instant-v1',\n",
      " 'Claude-V1': 'anthropic.claude-v1',\n",
      " 'Claude-V2': 'anthropic.claude-v2',\n",
      " 'Claude-V2-1': 'anthropic.claude-v2:1',\n",
      " 'Claude-V3-Sonnet': 'anthropic.claude-3-sonnet-20240229-v1:0',\n",
      " 'Cohere-Embeddings-En': 'cohere.embed-english-v3',\n",
      " 'Cohere-Embeddings-Multilingual': 'cohere.embed-multilingual-v3',\n",
      " 'Command': 'cohere.command-text-v14',\n",
      " 'Command-Light': 'cohere.command-light-text-v14',\n",
      " 'Jurassic-2-Mid': 'ai21.j2-mid-v1',\n",
      " 'Jurassic-2-Ultra': 'ai21.j2-ultra-v1',\n",
      " 'Llama2-13b-Chat': 'meta.llama2-13b-chat-v1',\n",
      " 'Titan-Embeddings-G1': 'amazon.titan-embed-text-v1',\n",
      " 'Titan-Text-G1': 'amazon.titan-text-express-v1',\n",
      " 'Titan-Text-G1-Light': 'amazon.titan-text-lite-v1'}\n"
     ]
    }
   ],
   "source": [
    "boto3_bedrock = bedrock.get_bedrock_client(\n",
    "    assumed_role=os.environ.get(\"BEDROCK_ASSUME_ROLE\", None),\n",
    "    endpoint_url=os.environ.get(\"BEDROCK_ENDPOINT_URL\", None),\n",
    "    region=os.environ.get(\"AWS_DEFAULT_REGION\", None),\n",
    ")\n",
    "\n",
    "print (colored(\"\\n== FM lists ==\", \"green\"))\n",
    "pprint (bedrock_info.get_list_fm_models(verbose=False))"
   ]
  },
  {
   "cell_type": "markdown",
   "id": "c22b84be-91ee-4e22-8ed0-3c23b907172a",
   "metadata": {},
   "source": [
    "## 2. Titan Embedding 및 LLM 인 Claude-v3-sonnet 모델 로딩"
   ]
  },
  {
   "cell_type": "markdown",
   "id": "381aa4d7-0ad8-467b-af4a-c1514e9559d2",
   "metadata": {},
   "source": [
    "### LLM 로딩 (Claude-v3-sonnet)"
   ]
  },
  {
   "cell_type": "code",
   "execution_count": 56,
   "id": "febdbf9e-4ed9-49d2-aaad-6cda6fed1867",
   "metadata": {
    "tags": []
   },
   "outputs": [],
   "source": [
    "from langchain_community.chat_models import BedrockChat\n",
    "from langchain.callbacks.streaming_stdout import StreamingStdOutCallbackHandler"
   ]
  },
  {
   "cell_type": "code",
   "execution_count": 55,
   "id": "bb4edb11-7ef2-4ab4-a36c-bc0f8a5c52a5",
   "metadata": {
    "tags": []
   },
   "outputs": [
    {
     "data": {
      "text/plain": [
       "BedrockChat(client=<botocore.client.BedrockRuntime object at 0x7f098c286b90>, model_id='anthropic.claude-3-sonnet-20240229-v1:0', model_kwargs={'max_tokens': 1024, 'stop_sequences': ['\\n\\nHuman']}, streaming=True, callbacks=[<langchain_core.callbacks.streaming_stdout.StreamingStdOutCallbackHandler object at 0x7f098c25e560>])"
      ]
     },
     "execution_count": 55,
     "metadata": {},
     "output_type": "execute_result"
    }
   ],
   "source": [
    "llm_text = BedrockChat(\n",
    "    model_id=bedrock_info.get_model_id(model_name=\"Claude-V3-Sonnet\"),\n",
    "    client=boto3_bedrock,\n",
    "    streaming=True,\n",
    "    callbacks=[StreamingStdOutCallbackHandler()],\n",
    "    model_kwargs={\n",
    "        \"max_tokens\": 1024,\n",
    "        \"stop_sequences\": [\"\\n\\nHuman\"],\n",
    "        # \"temperature\": 0,\n",
    "        # \"top_k\": 350,\n",
    "        # \"top_p\": 0.999\n",
    "    }\n",
    ")\n",
    "llm_text"
   ]
  },
  {
   "cell_type": "markdown",
   "id": "015716aa-a430-4811-a43b-2aab23c0f731",
   "metadata": {},
   "source": [
    "### Embedding 모델 선택"
   ]
  },
  {
   "cell_type": "code",
   "execution_count": 82,
   "id": "d58da66f-d504-4434-85c4-85ce1cc6439a",
   "metadata": {
    "tags": []
   },
   "outputs": [
    {
     "name": "stdout",
     "output_type": "stream",
     "text": [
      "INFO: Found credentials from IAM Role: BaseNotebookInstanceEc2InstanceRole\n"
     ]
    }
   ],
   "source": [
    "from utils.rag import KoSimCSERobertaContentHandler, SagemakerEndpointEmbeddingsJumpStart"
   ]
  },
  {
   "cell_type": "code",
   "execution_count": 83,
   "id": "372e1766-b30a-49ca-bd6d-6615397996a3",
   "metadata": {
    "tags": []
   },
   "outputs": [],
   "source": [
    "def get_embedding_model(is_bedrock_embeddings, is_KoSimCSERobert, aws_region, endpont_name=None):\n",
    "\n",
    "    if is_bedrock_embeddings:\n",
    "        # We will be using the Titan Embeddings Model to generate our Embeddings.\n",
    "        from langchain.embeddings import BedrockEmbeddings\n",
    "        llm_emb = BedrockEmbeddings(\n",
    "            client=boto3_bedrock,\n",
    "            model_id=bedrock_info.get_model_id(\n",
    "                model_name=\"Titan-Embeddings-G1\"\n",
    "            )\n",
    "        )\n",
    "        print(\"Bedrock Embeddings Model Loaded\")\n",
    "\n",
    "    elif is_KoSimCSERobert:\n",
    "        LLMEmbHandler = KoSimCSERobertaContentHandler()\n",
    "        endpoint_name_emb = endpont_name\n",
    "        llm_emb = SagemakerEndpointEmbeddingsJumpStart(\n",
    "            endpoint_name=endpoint_name_emb,\n",
    "            region_name=aws_region,\n",
    "            content_handler=LLMEmbHandler,\n",
    "        )\n",
    "        print(\"KoSimCSERobert Embeddings Model Loaded\")\n",
    "    else:\n",
    "        llm_emb = None\n",
    "        print(\"No Embedding Model Selected\")\n",
    "\n",
    "    return llm_emb"
   ]
  },
  {
   "cell_type": "markdown",
   "id": "f2e1c3d0-5c61-4564-9865-2cfe9468af2c",
   "metadata": {},
   "source": [
    "#### [중요] is_KoSimCSERobert == True 일시에 endpoint_name 을 꼭 넣어 주세요."
   ]
  },
  {
   "cell_type": "code",
   "execution_count": 84,
   "id": "6a91880d-1c3d-4ba4-9985-426b64411630",
   "metadata": {
    "tags": []
   },
   "outputs": [
    {
     "name": "stdout",
     "output_type": "stream",
     "text": [
      "Bedrock Embeddings Model Loaded\n"
     ]
    }
   ],
   "source": [
    "is_bedrock_embeddings = True\n",
    "is_KoSimCSERobert = False\n",
    "aws_region = os.environ.get(\"AWS_DEFAULT_REGION\", None)\n",
    "\n",
    "##############################\n",
    "# Parameters for is_KoSimCSERobert\n",
    "##############################\n",
    "if is_KoSimCSERobert: endpont_name = \"<endpoint-name>\"\n",
    "else: endpont_name = None\n",
    "##############################\n",
    "\n",
    "llm_emb = get_embedding_model(is_bedrock_embeddings, is_KoSimCSERobert, aws_region, endpont_name)   "
   ]
  },
  {
   "cell_type": "code",
   "execution_count": null,
   "id": "fba543a7-3435-42c8-b2bc-48ca81595ad3",
   "metadata": {},
   "outputs": [],
   "source": []
  },
  {
   "cell_type": "code",
   "execution_count": null,
   "id": "35e14140-f5ec-4a13-b1e4-7946652b8ebf",
   "metadata": {},
   "outputs": [],
   "source": []
  },
  {
   "cell_type": "code",
   "execution_count": null,
   "id": "57b16607-d255-4c20-a61f-9d3e75243def",
   "metadata": {},
   "outputs": [],
   "source": []
  },
  {
   "cell_type": "code",
   "execution_count": null,
   "id": "a8810206-5df8-47b0-9e98-007252ade081",
   "metadata": {},
   "outputs": [],
   "source": []
  },
  {
   "cell_type": "code",
   "execution_count": null,
   "id": "5825eb1a-cbf2-424c-a459-c1a4120e9862",
   "metadata": {},
   "outputs": [],
   "source": []
  },
  {
   "cell_type": "code",
   "execution_count": null,
   "id": "67f5a948-adf4-447f-9895-0790b20870ce",
   "metadata": {},
   "outputs": [],
   "source": []
  },
  {
   "cell_type": "markdown",
   "id": "256786db-df24-47ac-b9a4-f195a8b015f2",
   "metadata": {},
   "source": [
    "## 3. LangChainOpenSearch VectorStore 정의\n",
    "### 선수 조건\n",
    "- 01_preprocess_docs/02_load_docs_opensearch.ipynb를 통해서 OpenSearch Index 가 생성이 되어 있어야 합니다.\n",
    "#### [중요] 아래에 aws parameter store 에 아래 인증정보가 먼저 입력되어 있어야 합니다.\n",
    "- 01_preprocess_docs/01_parameter_store_example.ipynb 참고"
   ]
  },
  {
   "cell_type": "code",
   "execution_count": 85,
   "id": "7464c2d9-5188-4f07-81b9-451c51e028e6",
   "metadata": {
    "tags": []
   },
   "outputs": [],
   "source": [
    "import boto3\n",
    "from utils.ssm import parameter_store"
   ]
  },
  {
   "cell_type": "code",
   "execution_count": 86,
   "id": "b40da258-a9e3-4270-a315-796e507d2ec8",
   "metadata": {
    "tags": []
   },
   "outputs": [
    {
     "name": "stdout",
     "output_type": "stream",
     "text": [
      "INFO: Found credentials from IAM Role: BaseNotebookInstanceEc2InstanceRole\n"
     ]
    }
   ],
   "source": [
    "region=boto3.Session().region_name\n",
    "pm = parameter_store(region)"
   ]
  },
  {
   "cell_type": "code",
   "execution_count": 87,
   "id": "0df511f9-a967-4a7f-b463-873a0f4a589a",
   "metadata": {
    "tags": []
   },
   "outputs": [],
   "source": [
    "opensearch_domain_endpoint = pm.get_params(\n",
    "    key=\"opensearch_domain_endpoint\",\n",
    "    enc=False\n",
    ")\n",
    "\n",
    "opensearch_user_id = pm.get_params(\n",
    "    key=\"opensearch_user_id\",\n",
    "    enc=False\n",
    ")\n",
    "\n",
    "opensearch_user_password = pm.get_params(\n",
    "    key=\"opensearch_user_password\",\n",
    "    enc=True\n",
    ")"
   ]
  },
  {
   "cell_type": "code",
   "execution_count": 88,
   "id": "a4ed12f3-77a7-4735-9a09-c7af0d68f6e9",
   "metadata": {
    "tags": []
   },
   "outputs": [],
   "source": [
    "opensearch_domain_endpoint = opensearch_domain_endpoint\n",
    "rag_user_name = opensearch_user_id\n",
    "rag_user_password = opensearch_user_password\n",
    "\n",
    "http_auth = (rag_user_name, rag_user_password) # Master username, Master password"
   ]
  },
  {
   "cell_type": "markdown",
   "id": "1f581678-99cb-4921-a854-eba604765b3b",
   "metadata": {},
   "source": [
    "### Index 이름 셋팅\n",
    "- 이전 노트북 01_preprocess_docs/02_load_docs_opensearch.ipynb를 통해서 생성된 OpenSearch Index name 입력"
   ]
  },
  {
   "cell_type": "code",
   "execution_count": 89,
   "id": "2f215c42-8327-4d60-bb73-3a4e36977d78",
   "metadata": {
    "tags": []
   },
   "outputs": [
    {
     "name": "stdout",
     "output_type": "stream",
     "text": [
      "index_name: v01-genai-poc-parent-doc-retriever\n"
     ]
    }
   ],
   "source": [
    "index_name = opensearch_user_password = pm.get_params(\n",
    "    key=\"opensearch_index_name\",\n",
    "    enc=True\n",
    ")\n",
    "\n",
    "print (f'index_name: {index_name}')"
   ]
  },
  {
   "cell_type": "markdown",
   "id": "ca9624ab-14ff-49a8-b58a-2c9e05def784",
   "metadata": {},
   "source": [
    "### OpenSearch Client 생성"
   ]
  },
  {
   "cell_type": "code",
   "execution_count": 90,
   "id": "61e4c63f-46f3-423e-95f1-4b0d80beaa43",
   "metadata": {
    "tags": []
   },
   "outputs": [],
   "source": [
    "from utils.opensearch import opensearch_utils"
   ]
  },
  {
   "cell_type": "code",
   "execution_count": 91,
   "id": "8812a5e8-3bac-43ed-a7a0-e328c3f84658",
   "metadata": {
    "tags": []
   },
   "outputs": [],
   "source": [
    "os_client = opensearch_utils.create_aws_opensearch_client(\n",
    "    aws_region,\n",
    "    opensearch_domain_endpoint,\n",
    "    http_auth\n",
    ")"
   ]
  },
  {
   "cell_type": "code",
   "execution_count": null,
   "id": "3f3e6874-8a77-441a-83cd-11fa35726ae4",
   "metadata": {},
   "outputs": [],
   "source": []
  },
  {
   "cell_type": "code",
   "execution_count": null,
   "id": "7582c595-0e71-4402-b862-4ebda599b285",
   "metadata": {},
   "outputs": [],
   "source": []
  },
  {
   "cell_type": "markdown",
   "id": "a4faa068-90e5-44b0-9c44-1d4ed763f291",
   "metadata": {},
   "source": [
    "BedrockChat with claude3: https://medium.com/@dminhk/building-with-anthropics-claude-3-on-amazon-bedrock-and-langchain-%EF%B8%8F-2b842f9c0ca8"
   ]
  },
  {
   "cell_type": "code",
   "execution_count": 73,
   "id": "5f7159e8-6352-4069-9fa6-73fef07dde7a",
   "metadata": {
    "tags": []
   },
   "outputs": [],
   "source": [
    "from langchain_core.messages import HumanMessage\n",
    "from langchain.schema.output_parser import StrOutputParser\n",
    "from langchain_core.prompts import ChatPromptTemplate, HumanMessagePromptTemplate, SystemMessagePromptTemplate"
   ]
  },
  {
   "cell_type": "code",
   "execution_count": 79,
   "id": "a0212cde-0d12-451e-b6d6-9fa4c772e7c4",
   "metadata": {
    "tags": []
   },
   "outputs": [],
   "source": [
    "system_prompt = \"You are an assistant tasked with summarizing text, table and image.\"\n",
    "system_message_template = SystemMessagePromptTemplate.from_template(system_prompt)"
   ]
  },
  {
   "cell_type": "code",
   "execution_count": 80,
   "id": "54ae136a-56e8-48a2-92e7-d543f2c0371b",
   "metadata": {
    "tags": []
   },
   "outputs": [],
   "source": [
    "human_prompt = [\n",
    "    {\n",
    "        \"type\": \"image_url\",\n",
    "        \"image_url\": {\n",
    "            \"url\": f\"data:image/png;base64,{docs[-5].metadata['image_base64']}\",\n",
    "        },\n",
    "    },\n",
    "    {\n",
    "        \"type\": \"image_url\",\n",
    "        \"image_url\": {\n",
    "            \"url\": f\"data:image/png;base64,{docs[-4].metadata['image_base64']}\",\n",
    "        },\n",
    "    },\n",
    "    {\n",
    "        \"type\": \"text\",\n",
    "        \"text\": \"{question}\"\n",
    "    },\n",
    "]\n",
    "human_message_template = HumanMessagePromptTemplate.from_template(human_prompt)"
   ]
  },
  {
   "cell_type": "code",
   "execution_count": 78,
   "id": "8bc6485f-a634-49ff-b2c7-1e1da634f375",
   "metadata": {
    "tags": []
   },
   "outputs": [
    {
     "name": "stdout",
     "output_type": "stream",
     "text": [
      "이 두 이미지는 비슷한 그래프를 보여주지만, 약간의 차이점이 있습니다.\n",
      "\n",
      "첫 번째 이미지는 한국어로 \"수익률 그래프\"라는 제목이 있습니다. 가로축은 \"직조기준가격대비 기준자산가격(%)\"으로 표시되어 있고, 세로축은 \"세전수익률\"로 나와 있습니다. \n",
      "\n",
      "두 번째 이미지에는 제목이 없지만, 축 레이블과 데이터 값은 동일합니다.\n",
      "\n",
      "두 그래프 모두 원금보장 수준인 100%에서 시작하여 오른쪽 상단으로 기울어진 직선을 보여주고 있습니다. 이 직선은 기준자산가격이 130%일 때 상승폭여율이 약 70%임을 나타냅니다. 세전수익률은 21%로 표시되어 있습니다.\n",
      "\n",
      "전반적으로 두 이미지는 동일한 정보를 전달하지만, 첫 번째 이미지에는 제목이 있는 반면 두 번째에는 제목이 없다는 점이 다릅니다.이 두 이미지는 비슷한 그래프를 보여주지만, 약간의 차이점이 있습니다.\n",
      "\n",
      "첫 번째 이미지는 한국어로 \"수익률 그래프\"라는 제목이 있습니다. 가로축은 \"직조기준가격대비 기준자산가격(%)\"으로 표시되어 있고, 세로축은 \"세전수익률\"로 나와 있습니다. \n",
      "\n",
      "두 번째 이미지에는 제목이 없지만, 축 레이블과 데이터 값은 동일합니다.\n",
      "\n",
      "두 그래프 모두 원금보장 수준인 100%에서 시작하여 오른쪽 상단으로 기울어진 직선을 보여주고 있습니다. 이 직선은 기준자산가격이 130%일 때 상승폭여율이 약 70%임을 나타냅니다. 세전수익률은 21%로 표시되어 있습니다.\n",
      "\n",
      "전반적으로 두 이미지는 동일한 정보를 전달하지만, 첫 번째 이미지에는 제목이 있는 반면 두 번째에는 제목이 없다는 점이 다릅니다.\n"
     ]
    }
   ],
   "source": [
    "prompt = ChatPromptTemplate.from_messages(\n",
    "    [\n",
    "        system_message_template,\n",
    "        human_message_template\n",
    "    ]\n",
    ")\n",
    "\n",
    "chain = prompt | llm_text | StrOutputParser()\n",
    "\n",
    "response = chain.invoke({\"question\": \"두 사진에 대해서 각각 설명하고 차이점을 알려줘\"})\n",
    "\n",
    "print(response)"
   ]
  },
  {
   "cell_type": "code",
   "execution_count": null,
   "id": "be08ed10-5a68-4e10-a0c4-4941a2ec590e",
   "metadata": {},
   "outputs": [],
   "source": []
  },
  {
   "cell_type": "code",
   "execution_count": null,
   "id": "3a2f8bcd-aacd-4e59-a37f-2a36f70f421a",
   "metadata": {},
   "outputs": [],
   "source": []
  },
  {
   "cell_type": "code",
   "execution_count": null,
   "id": "75d8b112-8103-40ab-97d2-6c8fda1e86c5",
   "metadata": {},
   "outputs": [],
   "source": []
  },
  {
   "cell_type": "code",
   "execution_count": null,
   "id": "6432387a-12ff-448f-a08b-68468034852e",
   "metadata": {},
   "outputs": [],
   "source": [
    "prompt_text=\"\"\"\n",
    "\\n\\nHuman:\n",
    "You are an assistant tasked with summarizing tables and text. \\\n",
    "Give a concise summary of the table or text.\n",
    "Table or text chunk: {element}\n",
    "\\n\\nAssistant:\n",
    "\"\"\""
   ]
  },
  {
   "cell_type": "code",
   "execution_count": null,
   "id": "bc9fbca2-57e1-4ad7-b118-dd94f567a848",
   "metadata": {},
   "outputs": [],
   "source": []
  },
  {
   "cell_type": "code",
   "execution_count": null,
   "id": "8acd63cf-3b1a-44af-b3e9-25f79e2b7598",
   "metadata": {},
   "outputs": [],
   "source": []
  },
  {
   "cell_type": "code",
   "execution_count": null,
   "id": "b087b556-499e-4706-ba2e-791150dab9f9",
   "metadata": {},
   "outputs": [],
   "source": []
  },
  {
   "cell_type": "code",
   "execution_count": 54,
   "id": "91e9accf-bace-4bbb-b033-c49f7b3d8068",
   "metadata": {
    "tags": []
   },
   "outputs": [
    {
     "name": "stdout",
     "output_type": "stream",
     "text": [
      "물론 생명보험과 손해보험의 주요 차이점을 설명해 드리겠습니다.\n",
      "\n",
      "1. 보상대상\n",
      "- 생명보험: 사람의 생명과 관련된 위험을 보장합니다. 예를 들어 사망, 상해, 질병 등의 위험을 담보합니다.\n",
      "- 손해보험: 재산상의 손해를 보상하는 것이 목적입니다. 화재, 자동차사고, 해상사고 등으로 인한 재산 피해를 보장합니다.\n",
      "\n",
      "2. 보상방식 \n",
      "- 생명보험: 가입 때 약정한 보험금액을 지급받습니다. 예를 들어 사망보험금이라면 정해진 금액을 지급합니다.  \n",
      "- 손해보험: 실제 발생한 손해액수만큼만 보상을 받습니다. 전부 보상되지 않을 수 있습니다.\n",
      "\n",
      "3. 가입대상\n",
      "- 생명보험: 사람의 생명과 신체를 대상으로 합니다.\n",
      "- 손해보험: 재산, 자동차, 배상책임 등 다양한 위험을 담보대상으로 합니다.\n",
      "\n",
      "4. 계약기간\n",
      "- 생명보험: 일반적으로 장기계약으로 운영됩니다. \n",
      "- 손해보험: 단기계약이 주를 이룹니다. 1년 만기로 갱신하는 경우가 많습니다.\n",
      "\n",
      "간단히 말해 생명보험은 사람의 생명과 관련된 위험을, 손해보험은 재산상의 손해 위험을 보장하는 것이 가장 큰 차이점입니다."
     ]
    }
   ],
   "source": [
    "prompt1 = \"나는 인공지능 AI 보험 서비스입니다. 생명과 손해 보험의 차이에 대해 설명해 주세요.\"\n",
    "messages = [\n",
    "    HumanMessage(content=prompt1)\n",
    "]\n",
    "\n",
    "# messages = [\n",
    "#     {\"role\": \"user\", \"content\": [{\"type\": \"text\", \"text\": prompt1}]},\n",
    "# ]\n",
    "\n",
    "response1 = llm_text.invoke(messages)"
   ]
  },
  {
   "cell_type": "code",
   "execution_count": null,
   "id": "d194cc7f-1d90-4eb1-9574-5b83cc7329bf",
   "metadata": {},
   "outputs": [],
   "source": []
  },
  {
   "cell_type": "code",
   "execution_count": null,
   "id": "2b2a0cfa-4878-423e-8fe0-bf63ce0241e8",
   "metadata": {},
   "outputs": [],
   "source": []
  },
  {
   "cell_type": "code",
   "execution_count": null,
   "id": "15851a4c-feeb-4d0c-8040-c211313b3592",
   "metadata": {},
   "outputs": [],
   "source": []
  },
  {
   "cell_type": "code",
   "execution_count": 34,
   "id": "4a1cc1f7-cb71-42c2-b55d-ccc19f386a82",
   "metadata": {
    "tags": []
   },
   "outputs": [],
   "source": [
    "from langchain_community.document_loaders import UnstructuredAPIFileLoader\n",
    "from langchain_community.document_loaders import UnstructuredFileLoader"
   ]
  },
  {
   "cell_type": "code",
   "execution_count": 92,
   "id": "55edd6f0-21f0-4cfa-9f86-0c0b0d681db1",
   "metadata": {
    "tags": []
   },
   "outputs": [
    {
     "data": {
      "text/plain": [
       "\u001b[0;31mSignature:\u001b[0m\n",
       "\u001b[0mpartition\u001b[0m\u001b[0;34m(\u001b[0m\u001b[0;34m\u001b[0m\n",
       "\u001b[0;34m\u001b[0m    \u001b[0mfilename\u001b[0m\u001b[0;34m:\u001b[0m \u001b[0mOptional\u001b[0m\u001b[0;34m[\u001b[0m\u001b[0mstr\u001b[0m\u001b[0;34m]\u001b[0m \u001b[0;34m=\u001b[0m \u001b[0;32mNone\u001b[0m\u001b[0;34m,\u001b[0m\u001b[0;34m\u001b[0m\n",
       "\u001b[0;34m\u001b[0m    \u001b[0mcontent_type\u001b[0m\u001b[0;34m:\u001b[0m \u001b[0mOptional\u001b[0m\u001b[0;34m[\u001b[0m\u001b[0mstr\u001b[0m\u001b[0;34m]\u001b[0m \u001b[0;34m=\u001b[0m \u001b[0;32mNone\u001b[0m\u001b[0;34m,\u001b[0m\u001b[0;34m\u001b[0m\n",
       "\u001b[0;34m\u001b[0m    \u001b[0mfile\u001b[0m\u001b[0;34m:\u001b[0m \u001b[0mOptional\u001b[0m\u001b[0;34m[\u001b[0m\u001b[0mIO\u001b[0m\u001b[0;34m[\u001b[0m\u001b[0mbytes\u001b[0m\u001b[0;34m]\u001b[0m\u001b[0;34m]\u001b[0m \u001b[0;34m=\u001b[0m \u001b[0;32mNone\u001b[0m\u001b[0;34m,\u001b[0m\u001b[0;34m\u001b[0m\n",
       "\u001b[0;34m\u001b[0m    \u001b[0mfile_filename\u001b[0m\u001b[0;34m:\u001b[0m \u001b[0mOptional\u001b[0m\u001b[0;34m[\u001b[0m\u001b[0mstr\u001b[0m\u001b[0;34m]\u001b[0m \u001b[0;34m=\u001b[0m \u001b[0;32mNone\u001b[0m\u001b[0;34m,\u001b[0m\u001b[0;34m\u001b[0m\n",
       "\u001b[0;34m\u001b[0m    \u001b[0murl\u001b[0m\u001b[0;34m:\u001b[0m \u001b[0mOptional\u001b[0m\u001b[0;34m[\u001b[0m\u001b[0mstr\u001b[0m\u001b[0;34m]\u001b[0m \u001b[0;34m=\u001b[0m \u001b[0;32mNone\u001b[0m\u001b[0;34m,\u001b[0m\u001b[0;34m\u001b[0m\n",
       "\u001b[0;34m\u001b[0m    \u001b[0minclude_page_breaks\u001b[0m\u001b[0;34m:\u001b[0m \u001b[0mbool\u001b[0m \u001b[0;34m=\u001b[0m \u001b[0;32mFalse\u001b[0m\u001b[0;34m,\u001b[0m\u001b[0;34m\u001b[0m\n",
       "\u001b[0;34m\u001b[0m    \u001b[0mstrategy\u001b[0m\u001b[0;34m:\u001b[0m \u001b[0mstr\u001b[0m \u001b[0;34m=\u001b[0m \u001b[0;34m'auto'\u001b[0m\u001b[0;34m,\u001b[0m\u001b[0;34m\u001b[0m\n",
       "\u001b[0;34m\u001b[0m    \u001b[0mencoding\u001b[0m\u001b[0;34m:\u001b[0m \u001b[0mOptional\u001b[0m\u001b[0;34m[\u001b[0m\u001b[0mstr\u001b[0m\u001b[0;34m]\u001b[0m \u001b[0;34m=\u001b[0m \u001b[0;32mNone\u001b[0m\u001b[0;34m,\u001b[0m\u001b[0;34m\u001b[0m\n",
       "\u001b[0;34m\u001b[0m    \u001b[0mparagraph_grouper\u001b[0m\u001b[0;34m:\u001b[0m \u001b[0mOptional\u001b[0m\u001b[0;34m[\u001b[0m\u001b[0mCallable\u001b[0m\u001b[0;34m[\u001b[0m\u001b[0;34m[\u001b[0m\u001b[0mstr\u001b[0m\u001b[0;34m]\u001b[0m\u001b[0;34m,\u001b[0m \u001b[0mstr\u001b[0m\u001b[0;34m]\u001b[0m\u001b[0;34m]\u001b[0m \u001b[0;34m=\u001b[0m \u001b[0;32mNone\u001b[0m\u001b[0;34m,\u001b[0m\u001b[0;34m\u001b[0m\n",
       "\u001b[0;34m\u001b[0m    \u001b[0mheaders\u001b[0m\u001b[0;34m:\u001b[0m \u001b[0mDict\u001b[0m\u001b[0;34m[\u001b[0m\u001b[0mstr\u001b[0m\u001b[0;34m,\u001b[0m \u001b[0mstr\u001b[0m\u001b[0;34m]\u001b[0m \u001b[0;34m=\u001b[0m \u001b[0;34m{\u001b[0m\u001b[0;34m}\u001b[0m\u001b[0;34m,\u001b[0m\u001b[0;34m\u001b[0m\n",
       "\u001b[0;34m\u001b[0m    \u001b[0mskip_infer_table_types\u001b[0m\u001b[0;34m:\u001b[0m \u001b[0mList\u001b[0m\u001b[0;34m[\u001b[0m\u001b[0mstr\u001b[0m\u001b[0;34m]\u001b[0m \u001b[0;34m=\u001b[0m \u001b[0;34m[\u001b[0m\u001b[0;34m'pdf'\u001b[0m\u001b[0;34m,\u001b[0m \u001b[0;34m'jpg'\u001b[0m\u001b[0;34m,\u001b[0m \u001b[0;34m'png'\u001b[0m\u001b[0;34m,\u001b[0m \u001b[0;34m'xls'\u001b[0m\u001b[0;34m,\u001b[0m \u001b[0;34m'xlsx'\u001b[0m\u001b[0;34m,\u001b[0m \u001b[0;34m'heic'\u001b[0m\u001b[0;34m]\u001b[0m\u001b[0;34m,\u001b[0m\u001b[0;34m\u001b[0m\n",
       "\u001b[0;34m\u001b[0m    \u001b[0mssl_verify\u001b[0m\u001b[0;34m:\u001b[0m \u001b[0mbool\u001b[0m \u001b[0;34m=\u001b[0m \u001b[0;32mTrue\u001b[0m\u001b[0;34m,\u001b[0m\u001b[0;34m\u001b[0m\n",
       "\u001b[0;34m\u001b[0m    \u001b[0mocr_languages\u001b[0m\u001b[0;34m:\u001b[0m \u001b[0mOptional\u001b[0m\u001b[0;34m[\u001b[0m\u001b[0mstr\u001b[0m\u001b[0;34m]\u001b[0m \u001b[0;34m=\u001b[0m \u001b[0;32mNone\u001b[0m\u001b[0;34m,\u001b[0m\u001b[0;34m\u001b[0m\n",
       "\u001b[0;34m\u001b[0m    \u001b[0mlanguages\u001b[0m\u001b[0;34m:\u001b[0m \u001b[0mOptional\u001b[0m\u001b[0;34m[\u001b[0m\u001b[0mList\u001b[0m\u001b[0;34m[\u001b[0m\u001b[0mstr\u001b[0m\u001b[0;34m]\u001b[0m\u001b[0;34m]\u001b[0m \u001b[0;34m=\u001b[0m \u001b[0;32mNone\u001b[0m\u001b[0;34m,\u001b[0m\u001b[0;34m\u001b[0m\n",
       "\u001b[0;34m\u001b[0m    \u001b[0mdetect_language_per_element\u001b[0m\u001b[0;34m:\u001b[0m \u001b[0mbool\u001b[0m \u001b[0;34m=\u001b[0m \u001b[0;32mFalse\u001b[0m\u001b[0;34m,\u001b[0m\u001b[0;34m\u001b[0m\n",
       "\u001b[0;34m\u001b[0m    \u001b[0mpdf_infer_table_structure\u001b[0m\u001b[0;34m:\u001b[0m \u001b[0mbool\u001b[0m \u001b[0;34m=\u001b[0m \u001b[0;32mFalse\u001b[0m\u001b[0;34m,\u001b[0m\u001b[0;34m\u001b[0m\n",
       "\u001b[0;34m\u001b[0m    \u001b[0mextract_images_in_pdf\u001b[0m\u001b[0;34m:\u001b[0m \u001b[0mbool\u001b[0m \u001b[0;34m=\u001b[0m \u001b[0;32mFalse\u001b[0m\u001b[0;34m,\u001b[0m\u001b[0;34m\u001b[0m\n",
       "\u001b[0;34m\u001b[0m    \u001b[0mextract_image_block_types\u001b[0m\u001b[0;34m:\u001b[0m \u001b[0mOptional\u001b[0m\u001b[0;34m[\u001b[0m\u001b[0mList\u001b[0m\u001b[0;34m[\u001b[0m\u001b[0mstr\u001b[0m\u001b[0;34m]\u001b[0m\u001b[0;34m]\u001b[0m \u001b[0;34m=\u001b[0m \u001b[0;32mNone\u001b[0m\u001b[0;34m,\u001b[0m\u001b[0;34m\u001b[0m\n",
       "\u001b[0;34m\u001b[0m    \u001b[0mextract_image_block_output_dir\u001b[0m\u001b[0;34m:\u001b[0m \u001b[0mOptional\u001b[0m\u001b[0;34m[\u001b[0m\u001b[0mstr\u001b[0m\u001b[0;34m]\u001b[0m \u001b[0;34m=\u001b[0m \u001b[0;32mNone\u001b[0m\u001b[0;34m,\u001b[0m\u001b[0;34m\u001b[0m\n",
       "\u001b[0;34m\u001b[0m    \u001b[0mextract_image_block_to_payload\u001b[0m\u001b[0;34m:\u001b[0m \u001b[0mbool\u001b[0m \u001b[0;34m=\u001b[0m \u001b[0;32mFalse\u001b[0m\u001b[0;34m,\u001b[0m\u001b[0;34m\u001b[0m\n",
       "\u001b[0;34m\u001b[0m    \u001b[0mxml_keep_tags\u001b[0m\u001b[0;34m:\u001b[0m \u001b[0mbool\u001b[0m \u001b[0;34m=\u001b[0m \u001b[0;32mFalse\u001b[0m\u001b[0;34m,\u001b[0m\u001b[0;34m\u001b[0m\n",
       "\u001b[0;34m\u001b[0m    \u001b[0mdata_source_metadata\u001b[0m\u001b[0;34m:\u001b[0m \u001b[0mOptional\u001b[0m\u001b[0;34m[\u001b[0m\u001b[0munstructured\u001b[0m\u001b[0;34m.\u001b[0m\u001b[0mdocuments\u001b[0m\u001b[0;34m.\u001b[0m\u001b[0melements\u001b[0m\u001b[0;34m.\u001b[0m\u001b[0mDataSourceMetadata\u001b[0m\u001b[0;34m]\u001b[0m \u001b[0;34m=\u001b[0m \u001b[0;32mNone\u001b[0m\u001b[0;34m,\u001b[0m\u001b[0;34m\u001b[0m\n",
       "\u001b[0;34m\u001b[0m    \u001b[0mmetadata_filename\u001b[0m\u001b[0;34m:\u001b[0m \u001b[0mOptional\u001b[0m\u001b[0;34m[\u001b[0m\u001b[0mstr\u001b[0m\u001b[0;34m]\u001b[0m \u001b[0;34m=\u001b[0m \u001b[0;32mNone\u001b[0m\u001b[0;34m,\u001b[0m\u001b[0;34m\u001b[0m\n",
       "\u001b[0;34m\u001b[0m    \u001b[0mrequest_timeout\u001b[0m\u001b[0;34m:\u001b[0m \u001b[0mOptional\u001b[0m\u001b[0;34m[\u001b[0m\u001b[0mint\u001b[0m\u001b[0;34m]\u001b[0m \u001b[0;34m=\u001b[0m \u001b[0;32mNone\u001b[0m\u001b[0;34m,\u001b[0m\u001b[0;34m\u001b[0m\n",
       "\u001b[0;34m\u001b[0m    \u001b[0mhi_res_model_name\u001b[0m\u001b[0;34m:\u001b[0m \u001b[0mOptional\u001b[0m\u001b[0;34m[\u001b[0m\u001b[0mstr\u001b[0m\u001b[0;34m]\u001b[0m \u001b[0;34m=\u001b[0m \u001b[0;32mNone\u001b[0m\u001b[0;34m,\u001b[0m\u001b[0;34m\u001b[0m\n",
       "\u001b[0;34m\u001b[0m    \u001b[0mmodel_name\u001b[0m\u001b[0;34m:\u001b[0m \u001b[0mOptional\u001b[0m\u001b[0;34m[\u001b[0m\u001b[0mstr\u001b[0m\u001b[0;34m]\u001b[0m \u001b[0;34m=\u001b[0m \u001b[0;32mNone\u001b[0m\u001b[0;34m,\u001b[0m\u001b[0;34m\u001b[0m\n",
       "\u001b[0;34m\u001b[0m    \u001b[0;34m**\u001b[0m\u001b[0mkwargs\u001b[0m\u001b[0;34m,\u001b[0m\u001b[0;34m\u001b[0m\n",
       "\u001b[0;34m\u001b[0m\u001b[0;34m)\u001b[0m\u001b[0;34m\u001b[0m\u001b[0;34m\u001b[0m\u001b[0m\n",
       "\u001b[0;31mDocstring:\u001b[0m\n",
       "Partitions a document into its constituent elements. Will use libmagic to determine\n",
       "the file's type and route it to the appropriate partitioning function. Applies the default\n",
       "parameters for each partitioning function. Use the document-type specific partitioning\n",
       "functions if you need access to additional kwarg options.\n",
       "\n",
       "Parameters\n",
       "----------\n",
       "filename\n",
       "    A string defining the target filename path.\n",
       "content_type\n",
       "    A string defining the file content in MIME type\n",
       "file\n",
       "    A file-like object using \"rb\" mode --> open(filename, \"rb\").\n",
       "metadata_filename\n",
       "    When file is not None, the filename (string) to store in element metadata. E.g. \"foo.txt\"\n",
       "url\n",
       "    The url for a remote document. Pass in content_type if you want partition to treat\n",
       "    the document as a specific content_type.\n",
       "include_page_breaks\n",
       "    If True, the output will include page breaks if the filetype supports it\n",
       "strategy\n",
       "    The strategy to use for partitioning PDF/image. Uses a layout detection model if set\n",
       "    to 'hi_res', otherwise partition simply extracts the text from the document\n",
       "    and processes it.\n",
       "encoding\n",
       "    The encoding method used to decode the text input. If None, utf-8 will be used.\n",
       "headers\n",
       "    The headers to be used in conjunction with the HTTP request if URL is set.\n",
       "skip_infer_table_types\n",
       "    The document types that you want to skip table extraction with.\n",
       "ssl_verify\n",
       "    If the URL parameter is set, determines whether or not partition uses SSL verification\n",
       "    in the HTTP request.\n",
       "languages\n",
       "    The languages present in the document, for use in partitioning and/or OCR. For partitioning\n",
       "    image or pdf documents with Tesseract, you'll first need to install the appropriate\n",
       "    Tesseract language pack. For other partitions, language is detected using naive Bayesian\n",
       "    filter via `langdetect`. Multiple languages indicates text could be in either language.\n",
       "    Additional Parameters:\n",
       "        detect_language_per_element\n",
       "            Detect language per element instead of at the document level.\n",
       "pdf_infer_table_structure\n",
       "    If True and strategy=hi_res, any Table Elements extracted from a PDF will include an\n",
       "    additional metadata field, \"text_as_html,\" where the value (string) is a just a\n",
       "    transformation of the data into an HTML <table>.\n",
       "    The \"text\" field for a partitioned Table Element is always present, whether True or False.\n",
       "extract_images_in_pdf\n",
       "    Only applicable if `strategy=hi_res`.\n",
       "    If True, any detected images will be saved in the path specified by\n",
       "    'extract_image_block_output_dir' or stored as base64 encoded data within metadata fields.\n",
       "    Deprecation Note: This parameter is marked for deprecation. Future versions will use\n",
       "    'extract_image_block_types' for broader extraction capabilities.\n",
       "extract_image_block_types\n",
       "    Only applicable if `strategy=hi_res`.\n",
       "    Images of the element type(s) specified in this list (e.g., [\"Image\", \"Table\"]) will be\n",
       "    saved in the path specified by 'extract_image_block_output_dir' or stored as base64\n",
       "    encoded data within metadata fields.\n",
       "extract_image_block_to_payload\n",
       "    Only applicable if `strategy=hi_res`.\n",
       "    If True, images of the element type(s) defined in 'extract_image_block_types' will be\n",
       "    encoded as base64 data and stored in two metadata fields: 'image_base64' and\n",
       "    'image_mime_type'.\n",
       "    This parameter facilitates the inclusion of element data directly within the payload,\n",
       "    especially for web-based applications or APIs.\n",
       "extract_image_block_output_dir\n",
       "    Only applicable if `strategy=hi_res` and `extract_image_block_to_payload=False`.\n",
       "    The filesystem path for saving images of the element type(s)\n",
       "    specified in 'extract_image_block_types'.\n",
       "xml_keep_tags\n",
       "    If True, will retain the XML tags in the output. Otherwise it will simply extract\n",
       "    the text from within the tags. Only applies to partition_xml.\n",
       "request_timeout\n",
       "    The timeout for the HTTP request if URL is set. Defaults to None meaning no timeout and\n",
       "    requests will block indefinitely.\n",
       "hi_res_model_name\n",
       "    The layout detection model used when partitioning strategy is set to `hi_res`.\n",
       "model_name\n",
       "    The layout detection model used when partitioning strategy is set to `hi_res`. To be\n",
       "    deprecated in favor of `hi_res_model_name`.\n",
       "\u001b[0;31mFile:\u001b[0m      ~/anaconda3/envs/python3/lib/python3.10/site-packages/unstructured/partition/auto.py\n",
       "\u001b[0;31mType:\u001b[0m      function"
      ]
     },
     "metadata": {},
     "output_type": "display_data"
    }
   ],
   "source": [
    "from unstructured.partition.auto import partition\n",
    "partition?"
   ]
  },
  {
   "cell_type": "code",
   "execution_count": 43,
   "id": "54b521cb-9465-4577-9e38-35817b8cdbff",
   "metadata": {
    "tags": []
   },
   "outputs": [],
   "source": [
    "loader = UnstructuredFileLoader(\n",
    "    file_path=\"./content/sample.pdf\",\n",
    "    mode=\"elements\",\n",
    "\n",
    "    strategy=\"hi_res\",\n",
    "    hi_res_model_name=\"yolox\",\n",
    "    \n",
    "    extract_images_in_pdf=True,\n",
    "    pdf_infer_table_structure=False,\n",
    "\n",
    "    extract_image_block_output_dir=\"./fig\",\n",
    "    extract_image_block_to_payload=True,\n",
    "\n",
    ")"
   ]
  },
  {
   "cell_type": "code",
   "execution_count": 44,
   "id": "d97b44d0-29fb-4241-bf7a-0f39d3ca6fab",
   "metadata": {
    "tags": []
   },
   "outputs": [
    {
     "name": "stdout",
     "output_type": "stream",
     "text": [
      "INFO: Reading PDF for file: ./content/sample.pdf ...\n",
      "INFO: Detecting page elements ...\n",
      "INFO: Detecting page elements ...\n",
      "INFO: Detecting page elements ...\n",
      "INFO: Processing entire page OCR with tesseract...\n",
      "INFO: Processing entire page OCR with tesseract...\n",
      "INFO: Processing entire page OCR with tesseract...\n"
     ]
    }
   ],
   "source": [
    "docs = loader.load()"
   ]
  },
  {
   "cell_type": "code",
   "execution_count": 64,
   "id": "e030d293-c30f-4e1f-afa1-2b229bf59409",
   "metadata": {
    "collapsed": true,
    "jupyter": {
     "outputs_hidden": true
    },
    "tags": []
   },
   "outputs": [
    {
     "data": {
      "text/plain": [
       "'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'"
      ]
     },
     "execution_count": 64,
     "metadata": {},
     "output_type": "execute_result"
    }
   ],
   "source": [
    "docs[-5].metadata[\"image_base64\"]"
   ]
  },
  {
   "cell_type": "code",
   "execution_count": null,
   "id": "7bb4707d-d4f0-42e9-a29d-ef6adcac0ff3",
   "metadata": {},
   "outputs": [],
   "source": []
  },
  {
   "cell_type": "code",
   "execution_count": null,
   "id": "5ddcd747-2d6e-4fe0-9fa8-8f99c42889e5",
   "metadata": {},
   "outputs": [],
   "source": []
  },
  {
   "cell_type": "code",
   "execution_count": null,
   "id": "986d0eeb-5465-4c54-9110-2b0647667fe5",
   "metadata": {},
   "outputs": [],
   "source": []
  },
  {
   "cell_type": "markdown",
   "id": "8c18d07e-21e2-4b90-beb0-fcd655b044f6",
   "metadata": {},
   "source": [
    "소스 코드: https://github.com/sudarshan-koirala/youtube-stuffs/blob/main/langchain/langchain_Semi_Structured_RAG.ipynb"
   ]
  },
  {
   "cell_type": "code",
   "execution_count": null,
   "id": "6e17f1ea-7e50-4ef0-b422-38936072871b",
   "metadata": {
    "tags": []
   },
   "outputs": [],
   "source": [
    "import urllib.request\n",
    "\n",
    "url = \"https://arxiv.org/pdf/2307.09288.pdf\"\n",
    "filename = \"Llama2.pdf\"\n",
    "urllib.request.urlretrieve(url, filename)"
   ]
  },
  {
   "cell_type": "code",
   "execution_count": 3,
   "id": "5e012c52-9199-4623-8e92-2a47671dc5b7",
   "metadata": {
    "tags": []
   },
   "outputs": [],
   "source": [
    "\n",
    "path = \"./content/\""
   ]
  },
  {
   "cell_type": "code",
   "execution_count": 53,
   "id": "c59a1270-4cd3-4932-a08a-a1a69184e818",
   "metadata": {},
   "outputs": [
    {
     "data": {
      "text/plain": [
       "{\"<class 'unstructured.documents.elements.CompositeElement'>\": 2}"
      ]
     },
     "execution_count": 53,
     "metadata": {},
     "output_type": "execute_result"
    }
   ],
   "source": [
    "# Create a dictionary to store counts of each type\n",
    "category_counts = {}\n",
    "\n",
    "for element in raw_pdf_elements:\n",
    "    category = str(type(element))\n",
    "    if category in category_counts:\n",
    "        category_counts[category] += 1\n",
    "    else:\n",
    "        category_counts[category] = 1\n",
    "\n",
    "# Unique_categories will have unique elements\n",
    "unique_categories = set(category_counts.keys())\n",
    "category_counts"
   ]
  },
  {
   "cell_type": "code",
   "execution_count": 54,
   "id": "def7cc45-ffd4-4327-be44-00d17c3dacfd",
   "metadata": {
    "tags": []
   },
   "outputs": [
    {
     "name": "stdout",
     "output_type": "stream",
     "text": [
      "AN TIA\n",
      "\n",
      "2 Kl 253 3| MM\n",
      "\n",
      "x\n",
      "\n",
      "O\n",
      "\n",
      "[OleH o4t\n",
      "\n",
      "EEEl )L\n",
      "\n",
      "[=]\n",
      "\n",
      "A A2 e |\n",
      "\n",
      "HArE\n",
      "\n",
      "S\n",
      "\n",
      "AI:III}—-I de 25 2 SsHE0 WEt ol SXE foto s 4 OI'H te = AUAESE L AYLICH A4SUHES\n",
      "\n",
      "]\n",
      "\n",
      "O DEIIMH: 100 o2l (SEE 20| 109 0|2HY B LH0| HAZ £ US) O JIEXHaH: KOSPI200 XI4:(S28 1 Ticker: KOSPI2 index), S2It2A X4 (E2H 0 Ticker: GOLDLNPM index) O HO 2 12011 07\" 042 ~2011 = 072 07 Y 16 Al O HOrCHe| 1 100 2Hel 014 100 OHRl ©F9 (28 5 D} Yol 24 Og & 2:20114 078 08Y O B J] & 2012 07 & 09 (8] 1H) O AMEQBSZ: 452 2| JIEJH 23 o EHOYHE O HZE JIFJH2: 20119 072 07 2o EXHENY HalA JIF) O 8] BIIIIA: 20123 07 € 03 2o ZIHEHY Heha JIE) 3| &9 3= 7= =3 A ESY @ SFIIEIIIIA0l FEIIFEIIAHC 100% 0|40l AL (BH)]|4 | ZHHIMUx[100%+{(2HIBIIII2H -5 % o1 A0 W IEXA JIIE) JIZ=0HA) /EIEIIZNA x 70%}] Asb (@ BEIIEIIIIA0| EZIIEINAO 100% 0I9F01 HL (2H)]% ZOHO{ 2 OH % B0l W2 IEX JIF) SHESHX100% # PED| 201 B =(0)| BOIDI A -2 2| EIHA)/E £ F0HA (S, {(SFDI - A2 ZDIEINA)/Z R EINAXT70%}I2 A CHAMA2 Olat = AD 4| EXg0 AlY 1 SRS EXNE F2 O o|atet @O @ § JIEXAS SHDIEIEIF20| KOSPI200 2 300pt, 22X += $1,650 0 Z= = 199 700 0+ X2 =1 ARIx[100%+{(1,650-1,500)/1,500%70%}] (I £AE0| W2 2I2AX % =) O 9|atg @ @ § JIEXAS QDI EIEIF20| KOSPI200 2 300pt, 22X 4+= $1,350 0 2= =122 X3(100% FSLH)\n",
      "\n",
      "ds fsto\n",
      "\n",
      ". 4ElI8S 5| Z0 SXEA SLMAR 1 A/S EXE FL MES ATSIHOR O SHEA TMARI ZWEHK 2SLICH 6| STHES P EXAS QM QE S M8 QA O erI&#0l aaom SN AY AL FTASS MY & USLH O BSHSNEIISY © 28 013 LYY AALE ODIFIIY 4 AU MNX 0 FAY 25 5 Al 0IF0f S8 TE NHOR 28, NEIAS MHY AN IHsE. O STHE QF o9l : AWoI 0|4 YWD CIe| O ECA8IIZ ZEHY @ ZCASMAEY ANYLARAA(EI) ©, 2 =AY JETA F SLAT HAL AAAO Ol AL DS AN AHAA(ZIN O STHB3Y : ZCTHSIIAS JIE2 501 2B 5 604 0129 S /LA 90%0I4, 6HE 040l Y B 95%0142 KIZELICL 0l 22 (RSSOl SICHRHE) WSLA0l 24T 4 YSLICH O ET4E3Y N3 : STHENFA(SEH) 015 2 YA 7| 98 ol\n",
      "\n",
      "O 2 4352 tSNESYol 25tol 2 X OlLISHH, JI=XHete J12 Bisol et ¥3 &40 288 =& A0, STE MYAER JAHS ZEILD UALCE 4ES =26 0IaiStAIL SXISHAID] HIELICH\n",
      "\n",
      "@] A2 OlcHHASHES AE202 Lilts ZSHACZN LA eI MEX Al L= =X Bt EMAE SOl AL70l oigE 22 10240 SIAret A0l S=0 &&E = A2,\n",
      "Olcist 22 ASTA0| LHE 4+ ASLICH\n",
      "\n",
      "8| JIEt 8o Ag O EXNEYAN S2LMA 2011, 07. 01 O SEXNEYEAM S>EA @ http://dart.fss.or.kr L OlHUASE 2XE O FHAMAMLNKs 20 S20] LMEACID o6 HEIH O JIMAIEOCl A = MEoite A28 OIFGIHLE Yol RIISAS JIXIE B8 L& S0Qlote A2 ordLICh O S22 & HAS2U0| LESHO 100%0/ 401 B HAZ M Hl2oted HZUHAEILICEH ¥ OASIY & EAEE DX RAHE(1588-9200), S2HEIR)0l UAS B HELH0IAE(02-3774-1309) CEe oHY EHOIXN 228 £ AN, SOl LM A0 S SLSA(2H0| 1332) S9 T3S Y 2 USLICH O AZOl WZAD JIEIAES LAEHOIXI( http://www.miraeassetaccount.com )OlAl 2QIGtA = ASLICH\n",
      "\n",
      "HBAM=E 0 432 SQUE2S HE0t0 st 2022 0 €A 2AESHA OtAI2 SXESA S NS SYXEE BEAl #olgtdl & HOtGHAID| HHELICH\n",
      "\n",
      "[ 422 ol ] > OO A SA ( YRI& ( (2)= 9 WSl st 2 Ol A £%stn 0l #EHME WRGIASLICH(B = = , EHOIXI http-//v»Ww.miraeassetaccount.com).\n",
      "\n",
      "2011. 0 0 (o)\n",
      "\n",
      "PEEER O €8 A =.s_/tl:|II}_-l do 25 2L 38 o_.,. SSHFY HYUESES g olalicta = AUAEF st HLICH 4SUES E=0| Olalidtal D.:.OII FANHRE 2\n",
      "\n",
      "JGMIDI HHELICEH\n",
      "\n",
      "HE=HE\n",
      "\n",
      "21.00%\n",
      "\n",
      "4STEHE 70%\n",
      "\n",
      "130% m=oz=spzgpy| IR AT (%) (B 22 7| =X\n",
      "\n",
      "100% HSEF\n",
      "\n",
      "éIEOII gt ol s&S <5t\n",
      "\n",
      "KOSPI200 &2t= 250pt, 2ItA X2l Sot= $1,500 ¢ F<\n",
      "\n",
      "250pt 1,500 el\n",
      "\n",
      "OIEOtE 1\n",
      "\n",
      "300pt 1,650 el (20%4 &) (10%4t5)\n",
      "\n",
      "+700 0t\n",
      "\n",
      "18I 2\n",
      "\n",
      "300pt 1,350 el (20%4 &) (10%5t2})\n",
      "0\n",
      "2\n"
     ]
    }
   ],
   "source": [
    "\n",
    "class Element(BaseModel):\n",
    "    type: str\n",
    "    text: Any\n",
    "\n",
    "# Categorize by type\n",
    "categorized_elements = []\n",
    "for element in raw_pdf_elements:\n",
    "    if \"unstructured.documents.elements.Table\" in str(type(element)):\n",
    "        categorized_elements.append(Element(type=\"table\", text=str(element)))\n",
    "    elif \"unstructured.documents.elements.CompositeElement\" in str(type(element)):\n",
    "        \n",
    "        print (element)\n",
    "        \n",
    "        categorized_elements.append(Element(type=\"text\", text=str(element)))\n",
    "\n",
    "# Tables\n",
    "table_elements = [e for e in categorized_elements if e.type == \"table\"]\n",
    "print(len(table_elements))\n",
    "\n",
    "# Text\n",
    "text_elements = [e for e in categorized_elements if e.type == \"text\"]\n",
    "print(len(text_elements))"
   ]
  },
  {
   "cell_type": "code",
   "execution_count": 51,
   "id": "5e377977-91a6-46c5-9d8e-7b100cbb91db",
   "metadata": {},
   "outputs": [
    {
     "name": "stdout",
     "output_type": "stream",
     "text": [
      "text\n",
      "type='text' text='이 설명서는 금융소비자의 권익 보호 및 금융상품에 대한 이해 증진을 위하여 금융상품의 핵심내용을 쉽게 이해하실 수 있도록 작성한 것입니다. 상품내용을 충분히 이해하신 다음에 청약여부를 결정하시기 바랍니다.\\n\\n핵심설명서  \\n\\n[미래에셋증권 제 253 회 파생결합증권(DLS)(원금보장형)]\\n\\nA\\n\\n1\\n\\n상품 개요\\n\\n|\\n\\n○ 모집가액: 100 억원 (모집된 금액이 10 억 미만일 경우 발행이 취소될 수 있음)\\n\\n○ 기초자산: KOSPI200 지수(블룸버그 Ticker: KOSPI2 index),\\n\\n금가격지수 (블룸버그 Ticker: GOLDLNPM index)\\n\\n○ 청약기간 : 2011 년 07 월 04 일 ~2011 년 07 월 07 일 16 시\\n\\n○ 청약단위 : 100 만원 이상 100 만원 단위 (발행 후 추가 납입 불가)\\n\\n○ 발 행 일 : 2011 년 07 월 08 일\\n\\n○ 만 기 일 : 2012 년 07 월 09 일(만기 1 년)\\n\\n○ 상품위험등급: 4 등급\\n\\n2 기준가격 결정일 및 평가방법\\n\\n○ 최초 기준가격: 2011 년 07 월 07 일의 종가(해당 거래소 기준) ○ 만기 평가가격: 2012 년 07 월 03 일의 종가(해당 거래소 기준)\\n\\n3|\\n\\n3\\n\\n손익 구조'\n",
      "==\n",
      "table\n",
      "type='table' text='구 분 내 용 만기상환금액 ① 만기평가가격이 최초기준가격의 100% 이상인 경우 (만기수 만기 익률이 낮은 기초자산 기준) 기준가격) /최초기준가격 × 70%}] 상환 ② 만기평가가격이 최초기준가격의 100% 미만인 경우 (만기수 익률이 낮은 기초자산 기준) 총액면금액×100%'\n",
      "==\n",
      "text\n",
      "type='text' text='※ 만기수익률=(만기평가가격-최초기준가격)/최초기준가격\\n\\n(단, {(만기평가가격-최초기준가격)/최초기준가격×70%}은 소수점 다섯째자리 이하 절사)\\n\\n4|\\n\\n4\\n\\n투자수익 사례 : 1 억원을 투자한 경우\\n\\n○ 만기상환 ① : 두 기초자산의 만기평가가격이 KOSPI200 은 300pt, 금가격지수는 $1,650 인 경우 ⇒ 1 억원 700 만원 지급\\n\\n= 1 억원×[100%+{(1,650-1,500)/1,500×70%}] (만기수익률이 낮은 금가격지수 기준)\\n\\n○ 만기상환 ② : 두 기초자산의 만기평가가격이 KOSPI200 은 300pt, 금가격지수는 $1,350 인 경우 ⇒ 1 억원 지급(100% 원금보장)\\n\\n이 설명서는 금융소비자의 권익 보호 및 금융상품에 대한 이해 증진을 위하여 금융상품의 핵심내용을 쉽게 이해하실 수 있도록 작성한 것입니다. 상품내용을 충분히 이해하신 다음에 청약여부를 결정하시기 바랍니다.\\n\\n최대 투자손실 발생사례 : 1 억원을 투자한 경우\\n\\n본 상품은 원금보장형으로 최대 투자손실 발생사례가 존재하지 않습니다.\\n\\n6|\\n\\n6\\n\\n중도상환수수료 : 투자자의 요청에 의한 중도 상환 요청시\\n\\n○ 만기상환이 원칙이나 투자자가 원할 경우 중도상환을 신청하실 수 있습니다.\\n\\n○ 중도상환신청가능일 : 발행 이후 발행일 익일부터 만기평가일 4 영업일 전까지 매 영업일 오후 5 시 이전에 유선 또는 서면으로 요청, 신청취소는 신청일 당일에만 가능함.\\n\\n○ 중도상환 요청 단위 : 일백만원 이상 일백만원 단위\\n\\n○ 중도상환가격 결정일 : 중도상환신청일 익거래소영업일(종가) 단, 본 증권의 기초자산 중 하나라도 거래소\\n\\n영업일이 아닌 경우 모두 익거래소영업일(종가) ○ 중도상환금액 : 중도상환가격을 기초로 하여 발행 후 6 개월 미만인 경우 공정가액의 90%이상, 6 개월 이상인 경우 공정가액의 95%이상을 지급합니다. 이 경우 (원금보장형이라 하더라도) 원금손실이 발생할 수 있습니다.\\n\\n○ 중도상환금액 지급일 : 중도상환신청일(불포함) 이후 2 영업일\\n\\n7 위험 요인\\n\\n○ 본 상품은 예금자보호법에 의하여 보호되지 아니하며, 기초자산의 가격 변동에 따라 원금 손실이 발생할 수도 있고, 복잡한 파생상품적 성격을 포함하고 있으므로 상품을 충분히 이해하시고 투자하시기 바랍니다. ○ 본 증권은 미래에셋증권의 신용으로 발행되는 증권으로써 발행회사의 파산·회생절차 개시 또는 기초자산의 거래정지 기타 천재지변 등이 사유에 해당될 경우 고객의 의사와 관계없이 중도에 상환될 수 있으며, 이러한 경우 원금손실이 발생할 수 있습니다.\\n\\n8 기타 유의 사항\\n\\n○ 투자설명서 효력발생일 : 2011. 07. 01\\n\\n○ 투자설명서 열람장소 : http://dart.fss.or.kr 및 미래에셋증권 본지점\\n\\n○ 청약개시일까지는 수리되어 효력이 발생하였다고 하여 정부가 그 기재사항이 진실 또는 정확하다는 것을 인정하거나 당해 유가증권의 가치를 보증 또는 승인하는 것은 아닙니다.\\n\\n○ 공모결과 총 청약금액이 모집금액의 100%이상인 경우 청약금액에 비례하여 안분배정합니다.\\n\\n※ 상품가입 후 의문사항은 고객지원센터(1588-9200), 불만(민원)이 있을 경우 컴플라이언스팀(02-3774-1309) 또는 인터넷 홈페이지에 문의할 수 있고, 분쟁이 발생한 경우에는 금융감독원(국번없이 1332) 등의 도움을 요청할 수 있습니다.\\n\\n○ 본 상품의 발행조건과 기준가격은 당사홈페이지( http://www.miraeassetaccount.com )에서 확인하실 수 있습니다.\\n\\n□ 본 설명서는 이 상품의 중요내용만을 선별하여 요약한 것이므로 이 설명서에만 의존하지 마시고 투자설명서 등 세부 설명자료를 반드시 확인하신 후 청약하시기 바랍니다.\\n\\n[ 설명직원 확인 ] • 미래에셋증권 ( )지점 ( ) (은)는 위 내용에 대하여 고객 에게 설명하고,\\n\\n이 설명서를 교부하였습니다.(☎ - - , 홈페이지 http://www.miraeassetaccount.com).\\n\\n2011. . . (인)\\n\\n이 설명서는 금융소비자의 권익 보호 및 금융상품에 대한 이해 증진을 위하여 금융상품의 핵심내용을 쉽게 이해하실 수 있도록 작성한 것입니다. 상품내용을 충분히 이해하신 다음에 청약여부를 결정하시기 바랍니다.'\n",
      "==\n",
      "text\n",
      "type='text' text='※ 손익구조 그래프\\n\\n수익률  그래프     \\n\\nHE=HE 21.00% 4STEHE 70% 130% m=oz=spzgpy| IR AT (%) (B 22 7| =X 100% HSEF\\n\\n※ 투자손익 사례 (1 억원 투자시)\\n\\n○ 최초기준가격 결정일의 KOSPI200 종가는 250pt, 금가격지수의 종가는 $1,500 인 경우'\n",
      "==\n",
      "table\n",
      "type='table' text='결정일 KOSPI200 금 수익률 손익(세전) 최초기준가격결정일 250pt 1,500 달러 - - 만기평가일 1 300pt (20%상승) 1,650 달러 (10%상승) 7.0% +700 만원 만기평가일 2 300pt (20%상승) 1,350 달러 (10%하락) - -'\n",
      "==\n"
     ]
    }
   ],
   "source": [
    "for e in categorized_elements:\n",
    "    \n",
    "    print (e.type)\n",
    "    print (e)\n",
    "    print (\"==\")"
   ]
  },
  {
   "cell_type": "code",
   "execution_count": null,
   "id": "a9164908-6601-4d31-b0b0-698d788194d1",
   "metadata": {},
   "outputs": [],
   "source": []
  },
  {
   "cell_type": "code",
   "execution_count": null,
   "id": "388ca7e3-b48f-4372-9de9-d7e426e9e761",
   "metadata": {},
   "outputs": [],
   "source": []
  },
  {
   "cell_type": "code",
   "execution_count": null,
   "id": "1c230a8d-baa2-4d6d-a1bb-3a24ad0a7ec8",
   "metadata": {},
   "outputs": [],
   "source": []
  },
  {
   "cell_type": "markdown",
   "id": "9c4ade56-8dbc-4ded-b355-7e4bcc971e90",
   "metadata": {},
   "source": [
    "## 1. Bedrock Client 생성"
   ]
  },
  {
   "cell_type": "code",
   "execution_count": 24,
   "id": "cc2d877f-e877-48f6-8dd4-239de20e45cd",
   "metadata": {
    "tags": []
   },
   "outputs": [],
   "source": [
    "import json\n",
    "import boto3\n",
    "from pprint import pprint\n",
    "from termcolor import colored\n",
    "from utils import bedrock, print_ww\n",
    "from utils.bedrock import bedrock_info"
   ]
  },
  {
   "cell_type": "markdown",
   "id": "088e6490-c79a-49e4-841c-9fdb91292608",
   "metadata": {
    "tags": []
   },
   "source": [
    "### ---- ⚠️ Un-comment and edit the below lines as needed for your AWS setup ⚠️ ----\n",
    "- os.environ[\"AWS_DEFAULT_REGION\"] = \"<REGION_NAME>\"  # E.g. \"us-east-1\"\n",
    "- os.environ[\"AWS_PROFILE\"] = \"<YOUR_PROFILE>\"\n",
    "- os.environ[\"BEDROCK_ASSUME_ROLE\"] = \"<YOUR_ROLE_ARN>\"  # E.g. \"arn:aws:...\"\n",
    "- os.environ[\"BEDROCK_ENDPOINT_URL\"] = \"<YOUR_ENDPOINT_URL>\"  # E.g. \"https://...\""
   ]
  },
  {
   "cell_type": "code",
   "execution_count": 25,
   "id": "cab9312c-5f61-4730-96c3-5eef54a5f08c",
   "metadata": {
    "tags": []
   },
   "outputs": [
    {
     "name": "stdout",
     "output_type": "stream",
     "text": [
      "Create new client\n",
      "  Using region: None\n",
      "  Using profile: None\n",
      "boto3 Bedrock client successfully created!\n",
      "bedrock-runtime(https://bedrock-runtime.us-west-2.amazonaws.com)\n",
      "\u001b[32m\n",
      "== FM lists ==\u001b[0m\n",
      "{'Claude-Instant-V1': 'anthropic.claude-instant-v1',\n",
      " 'Claude-V1': 'anthropic.claude-v1',\n",
      " 'Claude-V2': 'anthropic.claude-v2',\n",
      " 'Claude-V2-1': 'anthropic.claude-v2:1',\n",
      " 'Claude-V3-Sonnet': 'anthropic.claude-3-sonnet-20240229-v1:0',\n",
      " 'Cohere-Embeddings-En': 'cohere.embed-english-v3',\n",
      " 'Cohere-Embeddings-Multilingual': 'cohere.embed-multilingual-v3',\n",
      " 'Command': 'cohere.command-text-v14',\n",
      " 'Command-Light': 'cohere.command-light-text-v14',\n",
      " 'Jurassic-2-Mid': 'ai21.j2-mid-v1',\n",
      " 'Jurassic-2-Ultra': 'ai21.j2-ultra-v1',\n",
      " 'Llama2-13b-Chat': 'meta.llama2-13b-chat-v1',\n",
      " 'Titan-Embeddings-G1': 'amazon.titan-embed-text-v1',\n",
      " 'Titan-Text-G1': 'amazon.titan-text-express-v1',\n",
      " 'Titan-Text-G1-Light': 'amazon.titan-text-lite-v1'}\n"
     ]
    }
   ],
   "source": [
    "boto3_bedrock = bedrock.get_bedrock_client(\n",
    "    assumed_role=os.environ.get(\"BEDROCK_ASSUME_ROLE\", None),\n",
    "    endpoint_url=os.environ.get(\"BEDROCK_ENDPOINT_URL\", None),\n",
    "    region=os.environ.get(\"AWS_DEFAULT_REGION\", None),\n",
    ")\n",
    "\n",
    "print (colored(\"\\n== FM lists ==\", \"green\"))\n",
    "pprint (bedrock_info.get_list_fm_models(verbose=False))"
   ]
  },
  {
   "cell_type": "markdown",
   "id": "241a9e34-417a-422f-9f75-cb211b2e70e1",
   "metadata": {
    "tags": []
   },
   "source": [
    "## 2. Titan Embedding 및 LLM 인 Claude-v2 모델 로딩"
   ]
  },
  {
   "cell_type": "markdown",
   "id": "29bf63d2-4110-407c-af06-a45d2fbed4b5",
   "metadata": {},
   "source": [
    "### LLM 로딩 (Claude-v2)"
   ]
  },
  {
   "cell_type": "code",
   "execution_count": 26,
   "id": "9c51443a-04f9-465c-9564-53053eb3e1c2",
   "metadata": {
    "tags": []
   },
   "outputs": [],
   "source": [
    "from langchain_core.messages import HumanMessage\n",
    "from langchain_community.chat_models import BedrockChat\n",
    "from langchain.callbacks.streaming_stdout import StreamingStdOutCallbackHandler"
   ]
  },
  {
   "cell_type": "code",
   "execution_count": 27,
   "id": "d09e84e0-b9e1-4b12-8e7a-68f03c5416e5",
   "metadata": {
    "tags": []
   },
   "outputs": [
    {
     "data": {
      "text/plain": [
       "BedrockChat(client=<botocore.client.BedrockRuntime object at 0x7fd148434ac0>, region_name='us-west-2', model_id='anthropic.claude-3-sonnet-20240229-v1:0', model_kwargs={'anthropic_version': 'bedrock-2023-05-31', 'max_tokens': 1024}, streaming=True, callbacks=[<langchain_core.callbacks.streaming_stdout.StreamingStdOutCallbackHandler object at 0x7fd27afb38b0>])"
      ]
     },
     "execution_count": 27,
     "metadata": {},
     "output_type": "execute_result"
    }
   ],
   "source": [
    "# llm_text = Bedrock(\n",
    "#     model_id=bedrock_info.get_model_id(model_name=\"Claude-V2-1\"),\n",
    "#     client=boto3_bedrock,\n",
    "#     model_kwargs={\n",
    "#         \"max_tokens_to_sample\": 1024\n",
    "#     },\n",
    "#     streaming=True,\n",
    "#     callbacks=[StreamingStdOutCallbackHandler()]\n",
    "# )\n",
    "\n",
    "# llm_text\n",
    "\n",
    "\n",
    "llm_text = BedrockChat(\n",
    "    model_id=bedrock_info.get_model_id(model_name=\"Claude-V3-Sonnet\"),\n",
    "    streaming=True,\n",
    "    callbacks=[StreamingStdOutCallbackHandler()],\n",
    "    model_kwargs={\n",
    "        \"anthropic_version\": \"bedrock-2023-05-31\",\n",
    "        \"max_tokens\": 1024,\n",
    "        # \"temperature\": 0,\n",
    "        # \"top_k\": 350,\n",
    "        # \"top_p\": 0.999\n",
    "    }\n",
    ")\n",
    "llm_text"
   ]
  },
  {
   "cell_type": "code",
   "execution_count": 32,
   "id": "bc737d3f-53ff-46f3-9d7d-d9e2ab3423ef",
   "metadata": {
    "tags": []
   },
   "outputs": [
    {
     "name": "stdout",
     "output_type": "stream",
     "text": [
      "요약하이 면 표는 다음과만 같기 습니다시 상환금액:에 대한 \n",
      "\n",
      "이 내용표을 설명는하고  KOS있PI200 습니다.지수  옵션\n",
      "\n",
      "두 가지  경우계약에 로 대한 나뉘어 만기있 는시데:나리오\n",
      "\n",
      "1. 만기를 평가가격이 최초기보여줍니준가격의 다.100% 이상 일 \n",
      "\n",
      "- 때:최초 기준가격 결정일 에는\n",
      "상 환금KOS액 PI200 =지수 {최가 저250pt기준가격이(고,= 1최초기준가계약당 1격 ,500달러또는 를 만기평가가격지 불합니다중 낮은.\n",
      "\n",
      "-  가격만기) / 평가일 1최초기준가에격 × 70서%}\n",
      "\n",
      "2.는 만기평가 가KOS격이 PI최200 초기준가격지수가 의 100% 20% 상승미만일 때하:\n",
      "상환금액 = 총액면금액 × 100여 %300pt가 되 고, 옵션 가\n",
      "\n",
      "요약치가 10하면 % 상승하여 1,650만기평가가격 수준달러가 됩니에다 . 따라이 경우 7% 수익률로  상환금액700의 만계산 방원식이 달라의 지는 것세전 이익을 이 보여발주고생 합니다.\n",
      "\n",
      "- 만기평가일 2에있서는 KOSPI200 지습니다수는 여전히 20.% 상승한 300pt이지만, 옵션 가치는 10% 하락하여 1,350달러가 됩니다. 이 경우 손실이 발생합니다.\n",
      "\n",
      "KOSPI200 지수와 옵션 가격 간의 불일치로 인해 수익 또는 손실이 결정됩니다."
     ]
    }
   ],
   "source": [
    "\n",
    "# Apply to tables\n",
    "tables = [i.text for i in table_elements]\n",
    "table_summaries = summarize_chain.batch(tables, {\"max_concurrency\": 5})"
   ]
  },
  {
   "cell_type": "code",
   "execution_count": 33,
   "id": "3873f544-6b35-47c2-a998-b276ce6e5fc1",
   "metadata": {
    "tags": []
   },
   "outputs": [
    {
     "name": "stdout",
     "output_type": "stream",
     "text": [
      "이 표는 투자 상품의 수익률 구조이와  1문억원 서투자는  시 미래에셋손익증 권사례에를 서 발행하는 보여주제고 있습니다. 253회 \n",
      "\n",
      "첫 번째 본 파생결합증문그서는래 프는 제E목LS이 권(DLS)((\"수익률 원금주보장형그래프\"이)가며 다에 연계양한대증권 퍼센) 한트상품 핵심와 에 대한 설명서입니비율설다명서입니, 다. 계산. 주주식요 등이 요있 내 습니다. 용은 내용하지만 은 다음과 같다음과 같습니다:습니다\n",
      "\n",
      "- 자세모집:금액한 설명\n",
      "\n",
      "1. :이  상품 개요100없억원: 어  (원금보장그형10억원 미만래프일  경우의 ELS 발행 취로 정확소기초자산한  은의미 KOSPI가능를 200 지수)\n",
      "- 와파 악하기 기초자산금어렵습니: KOSPI가다격지수200 지수입니.다, 금. 가격 \n",
      "\n",
      "2. 수\n",
      "\n",
      "두 번째 부분은 익 지구수조: 1억원만기  \n",
      "- 청약을 투자시기간했을  때의: 2두 011 년 기사례초자7산월 4일를 의 가격 설명변동에 합니다. KOSPI200 ~ 따라  지수수익이 가 결정됩니250pt다,.  금가격지수7금 가격  지수가 기일\n",
      "-$ 청1,500준약단위: 일 때으로 손100만원 이를 익상이 산정되며, 최기준으로 대  100만원 70%까지 수익하이 고단가능 있습니다위\n",
      "- 발행일: 2011년 7월 8일. 합니  다\n",
      "- 만하지만 기일: 2구.\n",
      "\n",
      "3.012 년 7월체적인 투 9일자 (만기 1년) \n",
      "- 손익 위험등급:금액 4등중도급이\n",
      "- 나 기준가격 비결정율은 : 제시되상환: 최초 지 않2011년 7투자자았습니다월 7일  종가,요 만기 .2012년 7청\n",
      "\n",
      "전월  시 반적으로 3일 종가중도\n",
      "-투상 자 환원금보장상이품의  가수능익하 나, 구조6개월 이와 내에초형 는 기 조상건을 공품개괄적으로 설명하고 있지\n",
      "\n",
      "투자정만가액의 자90% 이는,  상세상품, 부 6개월내용을 이 잘 이해한후 후  에는 청내약용95% 이상 을 이나 여부를 결지계정산 방급하합니라고다 안내하고 있습니다.식.에 \n",
      "\n",
      "4. 대한  위험추가 정보요가 인: 필요원금손실 해 보입니가능성다, .발행회사 신용위험, 기초자산 거래정지 위험 등이 있습니다.\n",
      "\n",
      "5. 유의사항: 정부 보증 상품이 아니며, 청약 시 투자설명서를 반드시 확인해야 합니다.\n",
      "\n",
      "요약하면 원금보장형 ELS이나 기초자산 가격 변동, 발행회사 신용 등에 따라 원금손실 위험이 있으므로 투자 시 주의가 필요합니다."
     ]
    }
   ],
   "source": [
    "\n",
    "# Apply to texts\n",
    "texts = [i.text for i in text_elements]\n",
    "text_summaries = summarize_chain.batch(texts, {\"max_concurrency\": 5})"
   ]
  },
  {
   "cell_type": "code",
   "execution_count": 34,
   "id": "130a2b37-ca39-436c-8080-1a17962a7478",
   "metadata": {
    "tags": []
   },
   "outputs": [],
   "source": [
    "from langchain.prompts import ChatPromptTemplate\n",
    "from langchain.schema.output_parser import StrOutputParser"
   ]
  },
  {
   "cell_type": "code",
   "execution_count": 35,
   "id": "ec6f769b-993c-4e0b-9f7e-c9da03af8cf9",
   "metadata": {
    "tags": []
   },
   "outputs": [],
   "source": [
    "# Prompt\n",
    "prompt_text=\"\"\"\n",
    "\\n\\nHuman:\n",
    "You are an assistant tasked with summarizing tables and text. \\\n",
    "Give a concise summary of the table or text.\n",
    "Table or text chunk: {element}\n",
    "\\n\\nAssistant:\n",
    "\"\"\"\n",
    "prompt = ChatPromptTemplate.from_template(prompt_text)\n",
    "\n",
    "summarize_chain = {\"element\": lambda x:x} | prompt | llm_text | StrOutputParser()"
   ]
  },
  {
   "cell_type": "code",
   "execution_count": 36,
   "id": "6fc24ecb-12b3-4229-a5a8-841e3798eb7d",
   "metadata": {
    "tags": []
   },
   "outputs": [
    {
     "data": {
      "text/plain": [
       "ChatPromptTemplate(input_variables=['element'], messages=[HumanMessagePromptTemplate(prompt=PromptTemplate(input_variables=['element'], template='\\n\\n\\nHuman:\\nYou are an assistant tasked with summarizing tables and text. Give a concise summary of the table or text.\\nTable or text chunk: {element}\\n\\n\\nAssistant:\\n'))])"
      ]
     },
     "execution_count": 36,
     "metadata": {},
     "output_type": "execute_result"
    }
   ],
   "source": [
    "prompt"
   ]
  },
  {
   "cell_type": "code",
   "execution_count": null,
   "id": "34cd16ea-84d2-493d-91bb-99c9f593c484",
   "metadata": {
    "tags": []
   },
   "outputs": [],
   "source": []
  },
  {
   "cell_type": "code",
   "execution_count": 43,
   "id": "cb29b865-a833-48fb-aaf2-16c3425a3f2c",
   "metadata": {
    "tags": []
   },
   "outputs": [],
   "source": [
    "import uuid\n",
    "from langchain.vectorstores import Chroma\n",
    "from langchain.storage import InMemoryStore\n",
    "from langchain.schema.document import Document\n",
    "from langchain.embeddings import OpenAIEmbeddings\n",
    "from langchain.retrievers.multi_vector import MultiVectorRetriever\n",
    "\n",
    "# The vectorstore to use to index the child chunks\n",
    "vectorstore = Chroma(\n",
    "    collection_name=\"summaries\",\n",
    "    embedding_function=llm_emb\n",
    ")\n",
    "\n",
    "# The storage layer for the parent documents\n",
    "store = InMemoryStore()\n",
    "id_key = \"doc_id\"\n",
    "\n",
    "# The retriever (empty to start)\n",
    "retriever = MultiVectorRetriever(\n",
    "    vectorstore=vectorstore,\n",
    "    docstore=store,\n",
    "    id_key=id_key,\n",
    ")\n",
    "\n",
    "# Add texts\n",
    "doc_ids = [str(uuid.uuid4()) for _ in texts]\n",
    "summary_texts = [Document(page_content=s,metadata={id_key: doc_ids[i]}) for i, s in enumerate(text_summaries)]\n",
    "retriever.vectorstore.add_documents(summary_texts)\n",
    "retriever.docstore.mset(list(zip(doc_ids, texts)))\n",
    "\n",
    "# Add tables\n",
    "table_ids = [str(uuid.uuid4()) for _ in tables]\n",
    "summary_tables = [Document(page_content=s,metadata={id_key: table_ids[i]}) for i, s in enumerate(table_summaries)]\n",
    "retriever.vectorstore.add_documents(summary_tables)\n",
    "retriever.docstore.mset(list(zip(table_ids, tables)))"
   ]
  },
  {
   "cell_type": "code",
   "execution_count": 47,
   "id": "3efd25f2-ba17-44c0-89fd-08aa1b2f1f69",
   "metadata": {
    "tags": []
   },
   "outputs": [
    {
     "data": {
      "text/plain": [
       "[Document(page_content='이 표는 만기 시 상환금액에 대한 내용을 설명하고 있습니다. \\n\\n두 가지 경우로 나뉘어 있는데:\\n\\n1. 만기평가가격이 최초기준가격의 100% 이상일 때: \\n상환금액 = {최저기준가격(=최초기준가격 또는 만기평가가격 중 낮은 가격) / 최초기준가격 × 70%}\\n\\n2. 만기평가가격이 최초기준가격의 100% 미만일 때:\\n상환금액 = 총액면금액 × 100% \\n\\n요약하면 만기평가가격 수준에 따라 상환금액의 계산 방식이 달라지는 것을 보여주고 있습니다.', metadata={'doc_id': '5a9b9725-bef1-4f10-83e9-d57fb6afe05c'}),\n",
       " Document(page_content='요약하면 다음과 같습니다:\\n\\n이 표는 KOSPI200 지수 옵션 계약에 대한 만기 시나리오를 보여줍니다. \\n\\n- 최초 기준가격 결정일에는 KOSPI200 지수가 250pt이고, 1계약당 1,500달러를 지불합니다.\\n\\n- 만기평가일 1에서는 KOSPI200 지수가 20% 상승하여 300pt가 되고, 옵션 가치가 10% 상승하여 1,650달러가 됩니다. 이 경우 7% 수익률로 700만원의 세전 이익이 발생합니다.\\n\\n- 만기평가일 2에서는 KOSPI200 지수는 여전히 20% 상승한 300pt이지만, 옵션 가치는 10% 하락하여 1,350달러가 됩니다. 이 경우 손실이 발생합니다.\\n\\nKOSPI200 지수와 옵션 가격 간의 불일치로 인해 수익 또는 손실이 결정됩니다.', metadata={'doc_id': 'f97f5295-c003-430c-a77a-b15b270f9a72'})]"
      ]
     },
     "execution_count": 47,
     "metadata": {},
     "output_type": "execute_result"
    }
   ],
   "source": [
    "summary_tables"
   ]
  },
  {
   "cell_type": "code",
   "execution_count": 45,
   "id": "7329d722-7339-4038-811d-a17e5d31e8d2",
   "metadata": {
    "tags": []
   },
   "outputs": [],
   "source": [
    "from operator import itemgetter\n",
    "from langchain.schema.runnable import RunnablePassthrough\n",
    "\n",
    "# Prompt template\n",
    "template = \"\"\"\n",
    "\\n\\nHuman:\n",
    "Answer the question based only on the following context, which can include text and tables:\n",
    "{context}\n",
    "Question: {question}\n",
    "\\n\\nAssistant:\n",
    "\"\"\"\n",
    "prompt = ChatPromptTemplate.from_template(template)\n",
    "\n",
    "# LLM\n",
    "\n",
    "#model = ChatOpenAI(temperature=0,model=\"gpt-3.5-turbo\")\n",
    "\n",
    "# RAG pipeline\n",
    "chain = (\n",
    "    {\"context\": retriever, \"question\": RunnablePassthrough()}\n",
    "    | prompt\n",
    "    | llm_text\n",
    "    | StrOutputParser()\n",
    ")"
   ]
  },
  {
   "cell_type": "code",
   "execution_count": 46,
   "id": "89594f21-1148-4eba-a6e6-6deb156f16f7",
   "metadata": {
    "tags": []
   },
   "outputs": [
    {
     "name": "stdout",
     "output_type": "stream",
     "text": [
      "주어진 정보를 바탕으로 KOSPI200 지수의 가격은 다음과 같습니다.\n",
      "\n",
      "- 최초기준가격결정일(2011년 7월 7일) KOSPI200 종가: 250pt\n",
      "- 만기평가일 1의 KOSPI200 종가: 300pt (최초 대비 20% 상승)  \n",
      "- 만기평가일 2의 KOSPI200 종가: 300pt (최초 대비 20% 상승)\n",
      "\n",
      "따라서 최초기준가격결정일의 KOSPI200 지수는 250pt이었고, 두 번의 만기평가일에는 모두 300pt로 20% 상승했음을 알 수 있습니다."
     ]
    },
    {
     "data": {
      "text/plain": [
       "'주어진 정보를 바탕으로 KOSPI200 지수의 가격은 다음과 같습니다.\\n\\n- 최초기준가격결정일(2011년 7월 7일) KOSPI200 종가: 250pt\\n- 만기평가일 1의 KOSPI200 종가: 300pt (최초 대비 20% 상승)  \\n- 만기평가일 2의 KOSPI200 종가: 300pt (최초 대비 20% 상승)\\n\\n따라서 최초기준가격결정일의 KOSPI200 지수는 250pt이었고, 두 번의 만기평가일에는 모두 300pt로 20% 상승했음을 알 수 있습니다.'"
      ]
     },
     "execution_count": 46,
     "metadata": {},
     "output_type": "execute_result"
    }
   ],
   "source": [
    "chain.invoke(\"KOSPI200 가격은?\")"
   ]
  },
  {
   "cell_type": "code",
   "execution_count": null,
   "id": "2704626c-322f-4475-90a3-94137920e5ea",
   "metadata": {},
   "outputs": [],
   "source": []
  },
  {
   "cell_type": "code",
   "execution_count": null,
   "id": "1856dea1-dd54-45d6-b2f9-9ba1b04f332a",
   "metadata": {},
   "outputs": [],
   "source": []
  },
  {
   "cell_type": "code",
   "execution_count": null,
   "id": "56869fe6-18fd-44fa-82a7-25ece7d58064",
   "metadata": {},
   "outputs": [],
   "source": []
  },
  {
   "cell_type": "code",
   "execution_count": null,
   "id": "816842c6-bdf5-47de-82ce-966b5d181307",
   "metadata": {
    "tags": []
   },
   "outputs": [],
   "source": [
    "\n",
    "prompt1 = \"나는 인공지능 AI 보험 서비스입니다. 생명과 손해 보험의 차이에 대해 설명해 주세요.\"\n",
    "messages = [\n",
    "    HumanMessage(content=prompt1)\n",
    "]\n",
    "\n",
    "# messages = [\n",
    "#     {\"role\": \"user\", \"content\": [{\"type\": \"text\", \"text\": prompt1}]},\n",
    "# ]\n",
    "\n",
    "response1 = llm_text.invoke(messages)"
   ]
  },
  {
   "cell_type": "code",
   "execution_count": null,
   "id": "a3d7624e-02f2-405c-bf89-7563e862f487",
   "metadata": {},
   "outputs": [],
   "source": []
  },
  {
   "cell_type": "code",
   "execution_count": null,
   "id": "9b9f8e5c-5f73-437d-bd13-7ed89685e64d",
   "metadata": {},
   "outputs": [],
   "source": []
  },
  {
   "cell_type": "code",
   "execution_count": null,
   "id": "c2e70406-bc2e-400e-ade1-4392c5cf81dd",
   "metadata": {},
   "outputs": [],
   "source": []
  },
  {
   "cell_type": "code",
   "execution_count": null,
   "id": "b80b1d61-2058-41b0-abf8-5b3fd234d807",
   "metadata": {},
   "outputs": [],
   "source": []
  },
  {
   "cell_type": "markdown",
   "id": "3ba2e829-af8f-4e90-b994-59106cdec8d8",
   "metadata": {},
   "source": [
    "### Embedding 모델 선택"
   ]
  },
  {
   "cell_type": "code",
   "execution_count": 39,
   "id": "0b7b8752-d1e3-4f41-ba35-6da42c3785db",
   "metadata": {
    "tags": []
   },
   "outputs": [],
   "source": [
    "from utils.rag import KoSimCSERobertaContentHandler, SagemakerEndpointEmbeddingsJumpStart"
   ]
  },
  {
   "cell_type": "code",
   "execution_count": 40,
   "id": "793b03f7-3186-4969-b76a-98fe56bd5fdc",
   "metadata": {
    "tags": []
   },
   "outputs": [],
   "source": [
    "def get_embedding_model(is_bedrock_embeddings, is_KoSimCSERobert, aws_region, endpont_name=None):\n",
    "\n",
    "    if is_bedrock_embeddings:\n",
    "        # We will be using the Titan Embeddings Model to generate our Embeddings.\n",
    "        from langchain.embeddings import BedrockEmbeddings\n",
    "        llm_emb = BedrockEmbeddings(\n",
    "            client=boto3_bedrock,\n",
    "            model_id=bedrock_info.get_model_id(\n",
    "                model_name=\"Titan-Embeddings-G1\"\n",
    "            )\n",
    "        )\n",
    "        print(\"Bedrock Embeddings Model Loaded\")\n",
    "\n",
    "    elif is_KoSimCSERobert:\n",
    "        LLMEmbHandler = KoSimCSERobertaContentHandler()\n",
    "        endpoint_name_emb = endpont_name\n",
    "        llm_emb = SagemakerEndpointEmbeddingsJumpStart(\n",
    "            endpoint_name=endpoint_name_emb,\n",
    "            region_name=aws_region,\n",
    "            content_handler=LLMEmbHandler,\n",
    "        )\n",
    "        print(\"KoSimCSERobert Embeddings Model Loaded\")\n",
    "    else:\n",
    "        llm_emb = None\n",
    "        print(\"No Embedding Model Selected\")\n",
    "\n",
    "    return llm_emb"
   ]
  },
  {
   "cell_type": "markdown",
   "id": "cd72a6b8-eaf0-4036-a530-3bde5ba988cd",
   "metadata": {},
   "source": [
    "#### [중요] is_KoSimCSERobert == True 일시에 endpoint_name 을 꼭 넣어 주세요."
   ]
  },
  {
   "cell_type": "code",
   "execution_count": 42,
   "id": "f42e032b-8715-432c-ae71-12a889f8ffc0",
   "metadata": {
    "tags": []
   },
   "outputs": [
    {
     "name": "stdout",
     "output_type": "stream",
     "text": [
      "Bedrock Embeddings Model Loaded\n"
     ]
    }
   ],
   "source": [
    "is_bedrock_embeddings = True\n",
    "is_KoSimCSERobert = False\n",
    "aws_region = os.environ.get(\"AWS_DEFAULT_REGION\", None)\n",
    "\n",
    "##############################\n",
    "# Parameters for is_KoSimCSERobert\n",
    "##############################\n",
    "if is_KoSimCSERobert: endpont_name = \"<endpoint-name>\"\n",
    "else: endpont_name = None\n",
    "##############################\n",
    "\n",
    "llm_emb = get_embedding_model(is_bedrock_embeddings, is_KoSimCSERobert, aws_region, endpont_name)   "
   ]
  },
  {
   "cell_type": "markdown",
   "id": "7e432237-b9b5-4be3-aa0c-c30eeca6f480",
   "metadata": {},
   "source": [
    "## 3. LangChainOpenSearch VectorStore 정의\n",
    "### 선수 조건\n",
    "- 01_preprocess_docs/02_load_docs_opensearch.ipynb를 통해서 OpenSearch Index 가 생성이 되어 있어야 합니다.\n",
    "#### [중요] 아래에 aws parameter store 에 아래 인증정보가 먼저 입력되어 있어야 합니다.\n",
    "- 01_preprocess_docs/01_parameter_store_example.ipynb 참고"
   ]
  },
  {
   "cell_type": "code",
   "execution_count": null,
   "id": "635ffe33-b1b1-49f7-ae14-07b782d30a63",
   "metadata": {
    "tags": []
   },
   "outputs": [],
   "source": [
    "import boto3\n",
    "from utils.ssm import parameter_store"
   ]
  },
  {
   "cell_type": "code",
   "execution_count": null,
   "id": "7c306f9b-35e9-4f5f-aaef-0b3d00cf30e4",
   "metadata": {
    "tags": []
   },
   "outputs": [],
   "source": [
    "region=boto3.Session().region_name\n",
    "pm = parameter_store(region)"
   ]
  },
  {
   "cell_type": "code",
   "execution_count": null,
   "id": "4a7a8669-f62a-4670-8552-ec684511f272",
   "metadata": {
    "tags": []
   },
   "outputs": [],
   "source": [
    "opensearch_domain_endpoint = pm.get_params(\n",
    "    key=\"opensearch_domain_endpoint\",\n",
    "    enc=False\n",
    ")\n",
    "\n",
    "opensearch_user_id = pm.get_params(\n",
    "    key=\"opensearch_user_id\",\n",
    "    enc=False\n",
    ")\n",
    "\n",
    "opensearch_user_password = pm.get_params(\n",
    "    key=\"opensearch_user_password\",\n",
    "    enc=True\n",
    ")"
   ]
  },
  {
   "cell_type": "code",
   "execution_count": null,
   "id": "fc7866fd-fd9c-4b41-b600-a91e43edfe4d",
   "metadata": {
    "tags": []
   },
   "outputs": [],
   "source": [
    "opensearch_domain_endpoint = opensearch_domain_endpoint\n",
    "rag_user_name = opensearch_user_id\n",
    "rag_user_password = opensearch_user_password\n",
    "\n",
    "http_auth = (rag_user_name, rag_user_password) # Master username, Master password"
   ]
  },
  {
   "cell_type": "markdown",
   "id": "161a900e-effc-4d7f-a179-b6c00eac03ad",
   "metadata": {
    "tags": []
   },
   "source": [
    "### Index 이름 셋팅\n",
    "- 이전 노트북 01_preprocess_docs/02_load_docs_opensearch.ipynb를 통해서 생성된 OpenSearch Index name 입력"
   ]
  },
  {
   "cell_type": "code",
   "execution_count": null,
   "id": "513996ec-f07f-4d87-ade9-f89d1a6f451b",
   "metadata": {
    "tags": []
   },
   "outputs": [],
   "source": [
    "index_name = opensearch_user_password = pm.get_params(\n",
    "    key=\"opensearch_index_name\",\n",
    "    enc=True\n",
    ")\n",
    "\n",
    "print (f'index_name: {index_name}')"
   ]
  },
  {
   "cell_type": "markdown",
   "id": "482f5785-b88d-44fa-a603-080e4bd734a6",
   "metadata": {},
   "source": [
    "### OpenSearch Client 생성"
   ]
  },
  {
   "cell_type": "code",
   "execution_count": null,
   "id": "968b7502-5799-4702-bc17-959e88c330a2",
   "metadata": {
    "tags": []
   },
   "outputs": [],
   "source": [
    "from utils.opensearch import opensearch_utils"
   ]
  },
  {
   "cell_type": "code",
   "execution_count": null,
   "id": "6ceb46a1-e425-4f7e-9319-793b55abb938",
   "metadata": {
    "tags": []
   },
   "outputs": [],
   "source": [
    "os_client = opensearch_utils.create_aws_opensearch_client(\n",
    "    aws_region,\n",
    "    opensearch_domain_endpoint,\n",
    "    http_auth\n",
    ")"
   ]
  },
  {
   "cell_type": "markdown",
   "id": "a5084376-7523-4cf9-9123-adc4ae79f66d",
   "metadata": {
    "tags": []
   },
   "source": [
    "## 4. Retriever based on Hybrid Search 정의\n",
    "- LangChain에서 제공하는 **BaseRetriever** 클래스를 상속받아 **Custom Retriever**를 정의 할 수 있습니다.\n",
    "- 본 샘플코드 에서는 **Hybrid Search based Retriever**를 **정의**합니다. "
   ]
  },
  {
   "cell_type": "markdown",
   "id": "b0a25df0-2a13-4d73-9edc-532caf98f804",
   "metadata": {},
   "source": [
    "OpenSearch Hybrid 는 아래와 같은 방식으로 작동합니다.\n",
    "- (1) Sematic serch를 통해 각 document별 relevant score 산출\n",
    "- (2) Lexical search를 통해 각 document별 relevant score 산출\n",
    "- (3-1) Rank-fusion 방식이 \"simple weighted\" 일 경우\n",
    "    - 산출된 score에 대한 normalization 수행\n",
    "    - 전체 결과에서 가장 높은 스코어는 표준화 과정을 통하여 스코어가 1.0 이 됨.\n",
    "- (3-2) Rank-fusion 방식이 \"Reciprocal Rank Fusion (RRF)\" 일 경우\n",
    "    - Paper: https://plg.uwaterloo.ca/~gvcormac/cormacksigir09-rrf.pdf\n",
    "    - Desc: https://medium.com/@sowmiyajaganathan/hybrid-search-with-re-ranking-ff120c8a426d\n",
    "    - **RRF의 경우 score가 아닌 ranking 정보를 활용, 때문에 score normalization이 필요 없음**\n",
    "    - ![rrf.png](../../../10_advanced_question_answering/img/rrf.png)\n",
    "\n",
    "RRF는 langchain에서 \"Ensemble Retriever\" 이름으로 api를 제공합니다. \n",
    "- https://python.langchain.com/docs/modules/data_connection/retrievers/ensemble"
   ]
  },
  {
   "cell_type": "code",
   "execution_count": null,
   "id": "5db8e470-63a9-4c3d-94c8-1d270a6da822",
   "metadata": {
    "tags": []
   },
   "outputs": [],
   "source": [
    "from utils.rag import OpenSearchHybridSearchRetriever"
   ]
  },
  {
   "cell_type": "markdown",
   "id": "d7feac2f-21a2-4756-b989-66c180bb1e79",
   "metadata": {},
   "source": [
    "- 필터 설정 예시\n",
    "- filter=[ <BR>\n",
    "    　{\"term\": {\"metadata.[**your_metadata_attribute_name**]\": \"**your first keyword**\"}}, <BR>\n",
    "    　{\"term\": {\"metadata.[**your_metadata_attribute_name**]\": \"**your second keyword**\"}},<BR>\n",
    "]"
   ]
  },
  {
   "cell_type": "code",
   "execution_count": null,
   "id": "49c7e131-294f-4ff8-9331-989709c7079c",
   "metadata": {
    "tags": []
   },
   "outputs": [],
   "source": [
    "opensearch_hybrid_retriever = OpenSearchHybridSearchRetriever(\n",
    "    # necessary\n",
    "    os_client=os_client,\n",
    "    index_name=index_name,\n",
    "    llm_emb=llm_emb,\n",
    "    llm_text=llm_text,\n",
    "\n",
    "    # option for lexical\n",
    "    minimum_should_match=0,\n",
    "    filter=[],\n",
    "\n",
    "    # option for rank fusion\n",
    "    fusion_algorithm=\"RRF\", # [\"RRF\", \"simple_weighted\"], rank fusion 방식 정의\n",
    "    ensemble_weights=[.51, .49], # [for lexical, for semantic], Lexical, Semantic search 결과에 대한 최종 반영 비율 정의\n",
    "\n",
    "    # option for async search\n",
    "    async_mode=True,\n",
    "\n",
    "    # option for output\n",
    "    k=5, # 최종 Document 수 정의\n",
    "    verbose=True,\n",
    ")"
   ]
  },
  {
   "cell_type": "markdown",
   "id": "cfb26835-ad98-41c5-9e9d-2453642e3551",
   "metadata": {},
   "source": [
    "### Retrieval example\n",
    "- default search"
   ]
  },
  {
   "cell_type": "code",
   "execution_count": null,
   "id": "9c06e89f-79de-413c-ba9c-a188ca3fe2d0",
   "metadata": {
    "tags": []
   },
   "outputs": [],
   "source": [
    "from utils.rag import show_context_used"
   ]
  },
  {
   "cell_type": "code",
   "execution_count": null,
   "id": "fe3bfee3-dac1-45b9-8795-03e36c1632a9",
   "metadata": {
    "tags": []
   },
   "outputs": [],
   "source": [
    "#query = \"중지된 경우 이체\"\n",
    "query = \"vidio max size?\""
   ]
  },
  {
   "cell_type": "code",
   "execution_count": null,
   "id": "05b13e5e-4a66-4dc8-b18c-42a6e3bd6037",
   "metadata": {
    "tags": []
   },
   "outputs": [],
   "source": [
    "%%time\n",
    "search_hybrid_result = opensearch_hybrid_retriever.get_relevant_documents(query)\n",
    "\n",
    "print(\"\\n==========  Results  ==========\\n\")\n",
    "print(f'1. question: {query}')\n",
    "print (f'2. # documents: {len(search_hybrid_result)}')\n",
    "print(\"3. Documents: \\n\")\n",
    "\n",
    "show_context_used(search_hybrid_result)"
   ]
  },
  {
   "cell_type": "markdown",
   "id": "c09221b5-4a6c-463b-9769-35cc8362e33c",
   "metadata": {},
   "source": [
    "- update parameters"
   ]
  },
  {
   "cell_type": "code",
   "execution_count": null,
   "id": "b7bb4672-d2b8-4b29-b71c-b06d84bcd470",
   "metadata": {
    "tags": []
   },
   "outputs": [],
   "source": [
    "opensearch_hybrid_retriever.update_search_params(\n",
    "    k=10,\n",
    "    minimum_should_match=0,\n",
    "    filter=[],\n",
    "    #filter=[\n",
    "    #    {\"term\": {\"metadata.seq_num\": \"64\"}},\n",
    "    #],\n",
    "    async_mode=True\n",
    ")"
   ]
  },
  {
   "cell_type": "code",
   "execution_count": null,
   "id": "1b9b45b1-cb92-4954-8087-143a550350c8",
   "metadata": {
    "tags": []
   },
   "outputs": [],
   "source": [
    "#query = \"중지된 경우 이체\"\n",
    "query = \"vidio max size?\"\n",
    "search_hybrid_result = opensearch_hybrid_retriever.get_relevant_documents(query)\n",
    "\n",
    "print(\"\\n==========  Results  ==========\\n\")\n",
    "print(f'1. question: {query}')\n",
    "print(f'2. # documents: {len(search_hybrid_result)}')\n",
    "print(\"3. Documents: \\n\")\n",
    "\n",
    "show_context_used(search_hybrid_result)"
   ]
  },
  {
   "cell_type": "markdown",
   "id": "a981abe7-5208-48f5-a9cc-8c557e9941ca",
   "metadata": {},
   "source": [
    "## 5. RAG using RetrievalQA powered by LangChain"
   ]
  },
  {
   "cell_type": "code",
   "execution_count": null,
   "id": "08cf6d2b-451b-499c-aec2-bb6f5abafbb0",
   "metadata": {
    "tags": []
   },
   "outputs": [],
   "source": [
    "from utils.rag import prompt_repo\n",
    "from langchain.prompts import PromptTemplate"
   ]
  },
  {
   "cell_type": "markdown",
   "id": "b490df1f-8113-4dd1-a578-a3e1a6918fde",
   "metadata": {
    "tags": []
   },
   "source": [
    "### Prompting\n",
    "- [TIP] Prompt의 instruction의 경우 한글보다 영어로 했을 때 더 좋은 결과를 얻을 수 있습니다."
   ]
  },
  {
   "cell_type": "code",
   "execution_count": null,
   "id": "920a65f0-0110-421b-b03c-a1f3a967cf49",
   "metadata": {
    "tags": []
   },
   "outputs": [],
   "source": [
    "PROMPT = prompt_repo.get_qa(prompt_type=\"answer_only\") # [\"answer_only\", \"answer_with_ref\"]\n",
    "pprint (PROMPT.template)"
   ]
  },
  {
   "cell_type": "markdown",
   "id": "c66157a6-aec8-4555-a90f-1178e6f4f6e0",
   "metadata": {},
   "source": [
    "### Update Search Params (Optional)"
   ]
  },
  {
   "cell_type": "code",
   "execution_count": null,
   "id": "64df2daf-8b42-472a-885f-97320ee98132",
   "metadata": {
    "tags": []
   },
   "outputs": [],
   "source": [
    "from langchain.chains import RetrievalQA"
   ]
  },
  {
   "cell_type": "code",
   "execution_count": null,
   "id": "d2697230-6962-43d8-8917-ba9daa4295bb",
   "metadata": {
    "tags": []
   },
   "outputs": [],
   "source": [
    "opensearch_hybrid_retriever.update_search_params(\n",
    "    k=5,\n",
    "    minimum_should_match=3,\n",
    "    #filter=[\n",
    "    #    {\"term\": {\"metadata.project\": \"KS\"}},\n",
    "    #],\n",
    "    filter=[],\n",
    "    async_mode=True\n",
    ")"
   ]
  },
  {
   "cell_type": "markdown",
   "id": "aee26c22-b674-4f4f-a87b-29508e336fda",
   "metadata": {},
   "source": [
    "### Request"
   ]
  },
  {
   "cell_type": "code",
   "execution_count": null,
   "id": "95fa61d3-9256-432a-96a3-2c696c97ea68",
   "metadata": {
    "tags": []
   },
   "outputs": [],
   "source": [
    "qa = RetrievalQA.from_chain_type(\n",
    "    llm=llm_text,\n",
    "    chain_type=\"stuff\",\n",
    "    retriever=opensearch_hybrid_retriever,\n",
    "    return_source_documents=True,\n",
    "    chain_type_kwargs={\n",
    "        \"prompt\": PROMPT,\n",
    "        \"verbose\": False,\n",
    "    },\n",
    "    verbose=False\n",
    ")"
   ]
  },
  {
   "cell_type": "code",
   "execution_count": null,
   "id": "390ad324-40b3-4bcb-92b9-50eb080492a5",
   "metadata": {
    "tags": []
   },
   "outputs": [],
   "source": [
    "#query = \"중지된 경우 이체\"\n",
    "query = \"vidio max size?\"\n",
    "response = qa(query)"
   ]
  },
  {
   "cell_type": "code",
   "execution_count": null,
   "id": "01e77dad-dc19-416b-80e7-19fac3b736a5",
   "metadata": {
    "tags": []
   },
   "outputs": [],
   "source": [
    "print(\"##################################\")\n",
    "print(\"query: \", query)\n",
    "print(\"##################################\")\n",
    "\n",
    "print (colored(\"\\n\\n### Answer ###\", \"blue\"))\n",
    "print_ww(response['result'])\n",
    "\n",
    "print (colored(\"\\n\\n### Contexts ###\", \"green\"))\n",
    "show_context_used(response['source_documents'])"
   ]
  }
 ],
 "metadata": {
  "kernelspec": {
   "display_name": "conda_python3",
   "language": "python",
   "name": "conda_python3"
  },
  "language_info": {
   "codemirror_mode": {
    "name": "ipython",
    "version": 3
   },
   "file_extension": ".py",
   "mimetype": "text/x-python",
   "name": "python",
   "nbconvert_exporter": "python",
   "pygments_lexer": "ipython3",
   "version": "3.10.13"
  }
 },
 "nbformat": 4,
 "nbformat_minor": 5
}
