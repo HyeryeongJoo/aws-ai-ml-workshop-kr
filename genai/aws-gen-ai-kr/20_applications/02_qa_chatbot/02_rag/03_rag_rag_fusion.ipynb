{
 "cells": [
  {
   "cell_type": "markdown",
   "id": "5deb2df2-413d-49bd-a829-3a1fc344937e",
   "metadata": {},
   "source": [
    "# RAG Based on RAG-Fusion\n",
    "- Hybrid Search\n",
    "- ReRanker\n",
    "- RAG-Fusion"
   ]
  },
  {
   "cell_type": "markdown",
   "id": "b1f81abc-3277-4a6b-9ef1-d4f997d67fbe",
   "metadata": {},
   "source": [
    "## Setting\n",
    " - Auto Reload\n",
    " - path for utils"
   ]
  },
  {
   "cell_type": "code",
   "execution_count": 1,
   "id": "ddde4105-b759-4d6c-8214-8e1ab485ae48",
   "metadata": {
    "tags": []
   },
   "outputs": [],
   "source": [
    "%load_ext autoreload\n",
    "%autoreload 2"
   ]
  },
  {
   "cell_type": "code",
   "execution_count": 2,
   "id": "57c2cdb1-d785-4317-afce-938f13141085",
   "metadata": {
    "tags": []
   },
   "outputs": [],
   "source": [
    "import sys, os\n",
    "module_path = \"../../..\"\n",
    "sys.path.append(os.path.abspath(module_path))"
   ]
  },
  {
   "cell_type": "markdown",
   "id": "9c4ade56-8dbc-4ded-b355-7e4bcc971e90",
   "metadata": {},
   "source": [
    "## 1. Bedrock Client 생성"
   ]
  },
  {
   "cell_type": "code",
   "execution_count": 3,
   "id": "cc2d877f-e877-48f6-8dd4-239de20e45cd",
   "metadata": {
    "tags": []
   },
   "outputs": [],
   "source": [
    "import json\n",
    "import boto3\n",
    "from pprint import pprint\n",
    "from termcolor import colored\n",
    "from utils import bedrock, print_ww\n",
    "from utils.bedrock import bedrock_info"
   ]
  },
  {
   "cell_type": "markdown",
   "id": "088e6490-c79a-49e4-841c-9fdb91292608",
   "metadata": {},
   "source": [
    "### ---- ⚠️ Un-comment and edit the below lines as needed for your AWS setup ⚠️ ----\n",
    "- os.environ[\"AWS_DEFAULT_REGION\"] = \"<REGION_NAME>\"  # E.g. \"us-east-1\"\n",
    "- os.environ[\"AWS_PROFILE\"] = \"<YOUR_PROFILE>\"\n",
    "- os.environ[\"BEDROCK_ASSUME_ROLE\"] = \"<YOUR_ROLE_ARN>\"  # E.g. \"arn:aws:...\"\n",
    "- os.environ[\"BEDROCK_ENDPOINT_URL\"] = \"<YOUR_ENDPOINT_URL>\"  # E.g. \"https://...\""
   ]
  },
  {
   "cell_type": "code",
   "execution_count": 4,
   "id": "cab9312c-5f61-4730-96c3-5eef54a5f08c",
   "metadata": {
    "tags": []
   },
   "outputs": [
    {
     "name": "stdout",
     "output_type": "stream",
     "text": [
      "Create new client\n",
      "  Using region: None\n",
      "  Using profile: None\n",
      "boto3 Bedrock client successfully created!\n",
      "bedrock-runtime(https://bedrock-runtime.us-east-1.amazonaws.com)\n",
      "\u001b[32m\n",
      "== FM lists ==\u001b[0m\n",
      "{'Claude-Instant-V1': 'anthropic.claude-instant-v1',\n",
      " 'Claude-V1': 'anthropic.claude-v1',\n",
      " 'Claude-V2': 'anthropic.claude-v2',\n",
      " 'Cohere-Embeddings-En': 'cohere.embed-english-v3',\n",
      " 'Cohere-Embeddings-Multilingual': 'cohere.embed-multilingual-v3',\n",
      " 'Command': 'cohere.command-text-v14',\n",
      " 'Command-Light': 'cohere.command-light-text-v14',\n",
      " 'Jurassic-2-Mid': 'ai21.j2-mid-v1',\n",
      " 'Jurassic-2-Ultra': 'ai21.j2-ultra-v1',\n",
      " 'Llama2-13b-Chat': 'meta.llama2-13b-chat-v1',\n",
      " 'Titan-Embeddings-G1': 'amazon.titan-embed-text-v1',\n",
      " 'Titan-Text-G1': 'amazon.titan-text-express-v1',\n",
      " 'Titan-Text-G1-Light': 'amazon.titan-text-lite-v1'}\n"
     ]
    }
   ],
   "source": [
    "boto3_bedrock = bedrock.get_bedrock_client(\n",
    "    assumed_role=os.environ.get(\"BEDROCK_ASSUME_ROLE\", None),\n",
    "    endpoint_url=os.environ.get(\"BEDROCK_ENDPOINT_URL\", None),\n",
    "    region=os.environ.get(\"AWS_DEFAULT_REGION\", None),\n",
    ")\n",
    "\n",
    "aws_region = os.environ.get(\"AWS_DEFAULT_REGION\", None)\n",
    "print (colored(\"\\n== FM lists ==\", \"green\"))\n",
    "pprint (bedrock_info.get_list_fm_models())"
   ]
  },
  {
   "cell_type": "markdown",
   "id": "241a9e34-417a-422f-9f75-cb211b2e70e1",
   "metadata": {
    "tags": []
   },
   "source": [
    "## 2. Titan Embedding 및 LLM 인 Claude-v2 모델 로딩"
   ]
  },
  {
   "cell_type": "markdown",
   "id": "29bf63d2-4110-407c-af06-a45d2fbed4b5",
   "metadata": {},
   "source": [
    "### LLM 로딩 (Claude-v2)"
   ]
  },
  {
   "cell_type": "code",
   "execution_count": 5,
   "id": "9c51443a-04f9-465c-9564-53053eb3e1c2",
   "metadata": {
    "tags": []
   },
   "outputs": [],
   "source": [
    "from langchain.llms.bedrock import Bedrock\n",
    "from langchain.callbacks.streaming_stdout import StreamingStdOutCallbackHandler"
   ]
  },
  {
   "cell_type": "code",
   "execution_count": 6,
   "id": "d09e84e0-b9e1-4b12-8e7a-68f03c5416e5",
   "metadata": {
    "tags": []
   },
   "outputs": [
    {
     "data": {
      "text/plain": [
       "Bedrock(client=<botocore.client.BedrockRuntime object at 0x7fd660085de0>, model_id='anthropic.claude-v2', model_kwargs={'max_tokens_to_sample': 512}, callbacks=[<langchain_core.callbacks.streaming_stdout.StreamingStdOutCallbackHandler object at 0x7fd662408c10>])"
      ]
     },
     "execution_count": 6,
     "metadata": {},
     "output_type": "execute_result"
    }
   ],
   "source": [
    "llm_text = Bedrock(\n",
    "    model_id=bedrock_info.get_model_id(model_name=\"Claude-V2\"),\n",
    "    client=boto3_bedrock,\n",
    "    model_kwargs={\n",
    "        \"max_tokens_to_sample\": 512\n",
    "    },\n",
    "    streaming=False,\n",
    "    callbacks=[StreamingStdOutCallbackHandler()]\n",
    ")\n",
    "\n",
    "llm_text"
   ]
  },
  {
   "cell_type": "markdown",
   "id": "3ba2e829-af8f-4e90-b994-59106cdec8d8",
   "metadata": {},
   "source": [
    "### Embedding 모델 선택"
   ]
  },
  {
   "cell_type": "code",
   "execution_count": 7,
   "id": "0b7b8752-d1e3-4f41-ba35-6da42c3785db",
   "metadata": {
    "tags": []
   },
   "outputs": [],
   "source": [
    "from utils.rag import KoSimCSERobertaContentHandler, SagemakerEndpointEmbeddingsJumpStart"
   ]
  },
  {
   "cell_type": "code",
   "execution_count": 8,
   "id": "793b03f7-3186-4969-b76a-98fe56bd5fdc",
   "metadata": {
    "tags": []
   },
   "outputs": [],
   "source": [
    "def get_embedding_model(is_bedrock_embeddings, is_KoSimCSERobert, aws_region, endpont_name=None):\n",
    "    \n",
    "    if is_bedrock_embeddings:\n",
    "        # We will be using the Titan Embeddings Model to generate our Embeddings.\n",
    "        from langchain.embeddings import BedrockEmbeddings\n",
    "        llm_emb = BedrockEmbeddings(\n",
    "            client=boto3_bedrock,\n",
    "            model_id=bedrock_info.get_model_id(\n",
    "                model_name=\"Titan-Embeddings-G1\"\n",
    "            )\n",
    "        )\n",
    "        print(\"Bedrock Embeddings Model Loaded\")\n",
    "\n",
    "    elif is_KoSimCSERobert:\n",
    "        LLMEmbHandler = KoSimCSERobertaContentHandler()\n",
    "        endpoint_name_emb = endpont_name\n",
    "        llm_emb = SagemakerEndpointEmbeddingsJumpStart(\n",
    "            endpoint_name=endpoint_name_emb,\n",
    "            region_name=aws_region,\n",
    "            content_handler=LLMEmbHandler,\n",
    "        )        \n",
    "        print(\"KoSimCSERobert Embeddings Model Loaded\")\n",
    "    else:\n",
    "        llm_emb = None\n",
    "        print(\"No Embedding Model Selected\")\n",
    "    \n",
    "    return llm_emb"
   ]
  },
  {
   "cell_type": "markdown",
   "id": "cd72a6b8-eaf0-4036-a530-3bde5ba988cd",
   "metadata": {},
   "source": [
    "#### [중요] is_KoSimCSERobert == True 일시에 endpoint_name 을 꼭 넣어 주세요."
   ]
  },
  {
   "cell_type": "code",
   "execution_count": 9,
   "id": "f42e032b-8715-432c-ae71-12a889f8ffc0",
   "metadata": {
    "tags": []
   },
   "outputs": [
    {
     "name": "stdout",
     "output_type": "stream",
     "text": [
      "Bedrock Embeddings Model Loaded\n"
     ]
    }
   ],
   "source": [
    "is_bedrock_embeddings = True\n",
    "is_KoSimCSERobert = False\n",
    "aws_region = os.environ.get(\"AWS_DEFAULT_REGION\", None)\n",
    "\n",
    "##############################\n",
    "# Parameters for is_KoSimCSERobert\n",
    "##############################\n",
    "if is_KoSimCSERobert: endpont_name = \"<endpoint-name>\"\n",
    "else: endpont_name = None\n",
    "##############################\n",
    "\n",
    "llm_emb = get_embedding_model(is_bedrock_embeddings, is_KoSimCSERobert, aws_region, endpont_name)   "
   ]
  },
  {
   "cell_type": "markdown",
   "id": "e10b67d5-382e-4715-a841-eb07b8655da8",
   "metadata": {},
   "source": [
    "## 3. Depoly ReRanker model (if needed)"
   ]
  },
  {
   "cell_type": "code",
   "execution_count": 10,
   "id": "9a08a296-41ef-44cb-857b-63d05a8d187c",
   "metadata": {
    "tags": []
   },
   "outputs": [
    {
     "name": "stdout",
     "output_type": "stream",
     "text": [
      "sagemaker.config INFO - Not applying SDK defaults from location: /etc/xdg/sagemaker/config.yaml\n",
      "sagemaker.config INFO - Not applying SDK defaults from location: /home/ec2-user/.config/sagemaker/config.yaml\n"
     ]
    }
   ],
   "source": [
    "import json\n",
    "import sagemaker\n",
    "from sagemaker.huggingface import HuggingFaceModel"
   ]
  },
  {
   "cell_type": "code",
   "execution_count": 11,
   "id": "33dd04a7-8200-49e7-ae69-55a82be199b4",
   "metadata": {
    "tags": []
   },
   "outputs": [],
   "source": [
    "depoly = False"
   ]
  },
  {
   "cell_type": "code",
   "execution_count": 12,
   "id": "9d40e3dd-a19f-4af3-831a-0cfe79e72cb3",
   "metadata": {
    "tags": []
   },
   "outputs": [],
   "source": [
    "if depoly:\n",
    "\n",
    "    try:\n",
    "        role = sagemaker.get_execution_role()\n",
    "    except ValueError:\n",
    "        iam = boto3.client('iam')\n",
    "        role = iam.get_role(RoleName='sagemaker_execution_role')['Role']['Arn']\n",
    "\n",
    "    # Hub Model configuration. https://huggingface.co/models\n",
    "    hub = {\n",
    "        'HF_MODEL_ID':'BAAI/bge-reranker-large',\n",
    "        'HF_TASK':'text-classification'\n",
    "    }\n",
    "\n",
    "    # create Hugging Face Model Class\n",
    "    huggingface_model = HuggingFaceModel(\n",
    "        transformers_version='4.26.0',\n",
    "        pytorch_version='1.13.1',\n",
    "        py_version='py39',\n",
    "        env=hub,\n",
    "        role=role, \n",
    "    )\n",
    "\n",
    "    # deploy model to SageMaker Inference\n",
    "    predictor = huggingface_model.deploy(\n",
    "        initial_instance_count=1, # number of instances\n",
    "        instance_type='ml.g5.xlarge' # instance type\n",
    "    )\n",
    "\n",
    "    print(f'Accept: {predictor.accept}')\n",
    "    print(f'ContentType: {predictor.content_type}')\n",
    "    print(f'Endpoint: {predictor.endpoint}')"
   ]
  },
  {
   "cell_type": "markdown",
   "id": "20e648ef-01ec-4e2f-ba88-7d2510fdb7a6",
   "metadata": {},
   "source": [
    "## 4. Invocation (prediction)"
   ]
  },
  {
   "cell_type": "code",
   "execution_count": 13,
   "id": "114be617-a687-4733-abb9-30394c7ef35f",
   "metadata": {
    "tags": []
   },
   "outputs": [
    {
     "name": "stdout",
     "output_type": "stream",
     "text": [
      "runtime_client: <botocore.client.SageMakerRuntime object at 0x7fd6382a3d30>\n"
     ]
    }
   ],
   "source": [
    "runtime_client = boto3.Session().client('sagemaker-runtime')\n",
    "print (f'runtime_client: {runtime_client}')"
   ]
  },
  {
   "cell_type": "code",
   "execution_count": 14,
   "id": "26ee5c45-de87-4a2b-bc04-bbc649fcd0c6",
   "metadata": {
    "tags": []
   },
   "outputs": [],
   "source": [
    "#endpoint_name = \"huggingface-pytorch-inference-2023-11-15-04-37-45-120\" # ml.m5.2xlarge\n",
    "endpoint_name = \"huggingface-pytorch-inference-2023-11-15-07-53-21-605\" # ml.g5.xlarge\n",
    "deserializer = \"application/json\""
   ]
  },
  {
   "cell_type": "code",
   "execution_count": 15,
   "id": "bd6288ed-b4fa-466f-9e2b-57484b827b0a",
   "metadata": {
    "tags": []
   },
   "outputs": [],
   "source": [
    "payload = json.dumps(\n",
    "    {\n",
    "        \"inputs\": [\n",
    "            {\"text\": \"I hate you\", \"text_pair\": \"I don't like you\"},\n",
    "            {\"text\": \"He hates you\", \"text_pair\": \"He like you\"}\n",
    "        ]\n",
    "    }\n",
    ")"
   ]
  },
  {
   "cell_type": "code",
   "execution_count": 16,
   "id": "c1eebe88-8b92-4e81-a103-b5a5d7a91bb3",
   "metadata": {
    "tags": []
   },
   "outputs": [
    {
     "name": "stdout",
     "output_type": "stream",
     "text": [
      "Response: [{'label': 'LABEL_0', 'score': 0.999653697013855}, {'label': 'LABEL_0', 'score': 0.025255175307393074}]\n",
      "CPU times: user 21.6 ms, sys: 479 µs, total: 22.1 ms\n",
      "Wall time: 91.7 ms\n"
     ]
    }
   ],
   "source": [
    "%%time\n",
    "response = runtime_client.invoke_endpoint(\n",
    "    EndpointName=endpoint_name,\n",
    "    ContentType=\"application/json\",\n",
    "    Accept=deserializer,\n",
    "    Body=payload\n",
    ")\n",
    "## deserialization\n",
    "out = json.loads(response['Body'].read().decode()) ## for json\n",
    "print (f'Response: {out}')"
   ]
  },
  {
   "cell_type": "markdown",
   "id": "7e432237-b9b5-4be3-aa0c-c30eeca6f480",
   "metadata": {},
   "source": [
    "## 5. LangChainmOpenSearch VectorStore 정의\n",
    "### 선수 조건\n",
    "- 01_preprocess_docs/02_load_docs_opensearch.ipynb를 통해서 OpenSearch Index 가 생성이 되어 있어야 합니다.\n",
    "#### [중요] 아래에 aws parameter store 에 아래 인증정보가 먼저 입력되어 있어야 합니다.\n",
    "- 01_preprocess_docs/01_parameter_store_example.ipynb 참고"
   ]
  },
  {
   "cell_type": "code",
   "execution_count": 17,
   "id": "635ffe33-b1b1-49f7-ae14-07b782d30a63",
   "metadata": {
    "tags": []
   },
   "outputs": [],
   "source": [
    "from utils.proc_docs import get_parameter"
   ]
  },
  {
   "cell_type": "code",
   "execution_count": 18,
   "id": "42d192b6-68ce-465e-9fa7-04b5201f4453",
   "metadata": {
    "tags": []
   },
   "outputs": [],
   "source": [
    "ssm = boto3.client(\"ssm\", \"us-east-1\")\n",
    "\n",
    "opensearch_domain_endpoint = get_parameter(\n",
    "    boto3_clinet = ssm,\n",
    "    parameter_name = 'knox_opensearch_domain_endpoint',\n",
    ")\n",
    "\n",
    "opensearch_user_id = get_parameter(\n",
    "    boto3_clinet = ssm,\n",
    "    parameter_name = 'knox_opensearch_userid',\n",
    ")\n",
    "\n",
    "opensearch_user_password = get_parameter(\n",
    "    boto3_clinet = ssm,\n",
    "    parameter_name = 'knox_opensearch_password',\n",
    ")"
   ]
  },
  {
   "cell_type": "code",
   "execution_count": 19,
   "id": "fc7866fd-fd9c-4b41-b600-a91e43edfe4d",
   "metadata": {
    "tags": []
   },
   "outputs": [],
   "source": [
    "opensearch_domain_endpoint = opensearch_domain_endpoint\n",
    "rag_user_name = opensearch_user_id\n",
    "rag_user_password = opensearch_user_password\n",
    "\n",
    "http_auth = (rag_user_name, rag_user_password) # Master username, Master password"
   ]
  },
  {
   "cell_type": "markdown",
   "id": "161a900e-effc-4d7f-a179-b6c00eac03ad",
   "metadata": {
    "tags": []
   },
   "source": [
    "### Index 이름 셋팅\n",
    "- 이전 노트북 01_preprocess_docs/02_load_docs_opensearch.ipynb를 통해서 생성된 OpenSearch Index name 입력"
   ]
  },
  {
   "cell_type": "code",
   "execution_count": 21,
   "id": "d5d9b5eb-052e-4e84-846b-c5385e853ba4",
   "metadata": {
    "tags": []
   },
   "outputs": [],
   "source": [
    "index_name = \"genai-poc-knox-incremental-1024c-256o-v7\""
   ]
  },
  {
   "cell_type": "markdown",
   "id": "482f5785-b88d-44fa-a603-080e4bd734a6",
   "metadata": {},
   "source": [
    "### OpenSearch Client 생성"
   ]
  },
  {
   "cell_type": "code",
   "execution_count": 22,
   "id": "968b7502-5799-4702-bc17-959e88c330a2",
   "metadata": {
    "tags": []
   },
   "outputs": [],
   "source": [
    "from utils.opensearch import opensearch_utils"
   ]
  },
  {
   "cell_type": "code",
   "execution_count": 23,
   "id": "6ceb46a1-e425-4f7e-9319-793b55abb938",
   "metadata": {
    "tags": []
   },
   "outputs": [],
   "source": [
    "os_client = opensearch_utils.create_aws_opensearch_client(\n",
    "    aws_region,\n",
    "    opensearch_domain_endpoint,\n",
    "    http_auth\n",
    ")"
   ]
  },
  {
   "cell_type": "markdown",
   "id": "98bde525-506d-4667-9fc3-bc06dcaba93a",
   "metadata": {
    "tags": []
   },
   "source": [
    "### LangChain OpenSearch VectorStore 생성"
   ]
  },
  {
   "cell_type": "code",
   "execution_count": 24,
   "id": "7e13238f-4ff7-4f7f-b83e-04b4563bd90a",
   "metadata": {
    "tags": []
   },
   "outputs": [],
   "source": [
    "from langchain.vectorstores import OpenSearchVectorSearch"
   ]
  },
  {
   "cell_type": "code",
   "execution_count": 25,
   "id": "dd444329-cdbe-4843-9092-791840138a3a",
   "metadata": {
    "tags": []
   },
   "outputs": [
    {
     "data": {
      "text/plain": [
       "<langchain.vectorstores.opensearch_vector_search.OpenSearchVectorSearch at 0x7fd68ada21d0>"
      ]
     },
     "execution_count": 25,
     "metadata": {},
     "output_type": "execute_result"
    }
   ],
   "source": [
    "vector_db = OpenSearchVectorSearch(\n",
    "    index_name=index_name,\n",
    "    opensearch_url=opensearch_domain_endpoint,\n",
    "    embedding_function=llm_emb,\n",
    "    http_auth=http_auth, # http_auth\n",
    "    is_aoss =False,\n",
    "    engine=\"faiss\",\n",
    "    space_type=\"l2\"\n",
    ")\n",
    "vector_db"
   ]
  },
  {
   "cell_type": "markdown",
   "id": "a5084376-7523-4cf9-9123-adc4ae79f66d",
   "metadata": {
    "tags": []
   },
   "source": [
    "## 6. Retriever based on Hybrid Search + RAG-Fusion + ReRanker\n",
    "- LangChain에서 제공하는 **BaseRetriever** 클래스를 상속받아 **Custom Retriever**를 정의 할 수 있습니다.\n",
    "- Hybrid-Search에 대한 자세한 내용는 **\"01_rag_hybrid_search.ipyno\"** 에서 확인 가능합니다.\n",
    "- [RAG-Fusion](https://towardsdatascience.com/forget-rag-the-future-is-rag-fusion-1147298d8ad1)\n",
    "![rag-fusion.png](../../../imgs/rag-fusion.png)"
   ]
  },
  {
   "cell_type": "code",
   "execution_count": 26,
   "id": "5db8e470-63a9-4c3d-94c8-1d270a6da822",
   "metadata": {
    "tags": []
   },
   "outputs": [],
   "source": [
    "from utils.rag import OpenSearchHybridSearchRetriever"
   ]
  },
  {
   "cell_type": "markdown",
   "id": "d7feac2f-21a2-4756-b989-66c180bb1e79",
   "metadata": {},
   "source": [
    "- 필터 설정 예시\n",
    "- filter=[ <BR>\n",
    "    　{\"term\": {\"metadata.[**your_metadata_attribute_name**]\": \"**your first keyword**\"}}, <BR>\n",
    "    　{\"term\": {\"metadata.[**your_metadata_attribute_name**]\": \"**your second keyword**\"}},<BR>\n",
    "]"
   ]
  },
  {
   "cell_type": "code",
   "execution_count": 57,
   "id": "49c7e131-294f-4ff8-9331-989709c7079c",
   "metadata": {
    "tags": []
   },
   "outputs": [],
   "source": [
    "opensearch_hybrid_retriever = OpenSearchHybridSearchRetriever(\n",
    "    # necessary\n",
    "    os_client=os_client,\n",
    "    vector_db=vector_db,\n",
    "    index_name=index_name,\n",
    "    llm_text=llm_text, # llm for query augmentation in rag_fusion\n",
    "    llm_emb=llm_emb,\n",
    "\n",
    "    # option for lexical\n",
    "    minimum_should_match=0,\n",
    "    filter=[],\n",
    "\n",
    "    # option for search\n",
    "    fusion_algorithm=\"RRF\", # [\"RRF\", \"simple_weighted\"], rank fusion 방식 정의\n",
    "    ensemble_weights=[.5, .5], # [for lexical, for semantic], Lexical, Semantic search 결과에 대한 최종 반영 비율 정의\n",
    "    reranker=True, # enable reranker with reranker model\n",
    "    reranker_endpoint_name=endpoint_name, # endpoint name for reranking model\n",
    "    rag_fusion=True, # enable rag_fusion\n",
    "    query_augmentation_size=3, # query_augmentation_size in rag_fusion\n",
    "    \n",
    "    # option for async search\n",
    "    async_mode=True,\n",
    "\n",
    "    # option for output\n",
    "    k=5, # 최종 Document 수 정의\n",
    "    verbose=True\n",
    ")"
   ]
  },
  {
   "cell_type": "markdown",
   "id": "cfb26835-ad98-41c5-9e9d-2453642e3551",
   "metadata": {},
   "source": [
    "### Retrieval example\n",
    "- default search"
   ]
  },
  {
   "cell_type": "code",
   "execution_count": 58,
   "id": "9c06e89f-79de-413c-ba9c-a188ca3fe2d0",
   "metadata": {
    "tags": []
   },
   "outputs": [],
   "source": [
    "from utils.rag import show_context_used"
   ]
  },
  {
   "cell_type": "code",
   "execution_count": 59,
   "id": "fe3bfee3-dac1-45b9-8795-03e36c1632a9",
   "metadata": {
    "tags": []
   },
   "outputs": [],
   "source": [
    "query = \"what is verify DM\""
   ]
  },
  {
   "cell_type": "code",
   "execution_count": 60,
   "id": "05b13e5e-4a66-4dc8-b18c-42a6e3bd6037",
   "metadata": {
    "tags": []
   },
   "outputs": [
    {
     "name": "stdout",
     "output_type": "stream",
     "text": [
      "===== RAG-Fusion Queries =====\n",
      "['what is verify DM', '1. How does Twitter verify accounts?', '2. What does the blue verified badge mean on Twitter? ', '3. How to get verified on Twitter']\n",
      "##############################\n",
      "async_mode\n",
      "##############################\n",
      "True\n",
      "##############################\n",
      "reranker\n",
      "##############################\n",
      "True\n",
      "##############################\n",
      "rag_fusion\n",
      "##############################\n",
      "True\n",
      "##############################\n",
      "HyDE\n",
      "##############################\n",
      "False\n",
      "##############################\n",
      "similar_docs_semantic\n",
      "##############################\n",
      "[(Document(page_content=\"What can I do if I'm not receiving the verification email when registering for a Samsung Account?. Here are some possible scenarios for not getting the verification email, and actions you can try: Scenario Action You can't access the device used for 2-step verification. Contact Samsung Support in your region. After we verify your identity (full name, date of birth, device IMEI or serial number), we temporarily deactivate two-step verification. You can then sign in to your account and register a new device or change the phone number used for two-step verification. You lost your backup code. Contact Samsung Support in your region. After we verify your identity (full name, date of birth, device IMEI or serial number), we send you a new backup code. You can't access the email account used to register the Samsung Account. As per our Samsung Account policy, if you lose access to your email account, you should create a new Samsung account and associate it with a new email address\", metadata={'source': 'all_processed_data.json', 'seq_num': 181, 'title': \"What can I do if I'm not receiving the verification email when registering for a Samsung Account?\", 'url': 'https://docs.samsungknox.com/admin/fundamentals/kbas/kba-360032622774', 'project': 'USP', 'last_updated': '2023-07-26', 'id': 'b9f7b18f-8969-491f-b18a-07a3fe2e487a'}), 0.012295081967213115), (Document(page_content=\". If you're ready to create the profile, click SUBMIT. List any modifications and add an optional comment, and click Submit to save the profile. Your new profile is now visible on the Profiles screen.\", metadata={'source': 'all_processed_data.json', 'seq_num': 1650, 'title': 'Create a profile', 'url': 'https://docs.samsungknox.com/admin/knox-configure/get-started/create-a-profile', 'project': 'KC', 'last_updated': '2023-09-27', 'id': '4967999e-90ff-4faa-874e-2e3efaff7f25'}), 0.007938508064516129), (Document(page_content='. Once the user has set up 2FA on their account, it will also be required when they sign in to SamsungKnox.com. Users using a personal Samsung Account for B2C services (for example, Samsung Health, SmartThings, and so on) will not be able to sign in to KDA on the same device with their enterprise account. They will need to sign out of their personal account first. Additional information For more information, see the FAQs for two-step verification.', metadata={'source': 'all_processed_data.json', 'seq_num': 177, 'title': 'Mandatory two-factor authentication for all IT admins using Knox Deployment App', 'url': 'https://docs.samsungknox.com/admin/fundamentals/kbas/kba-340-mandatory-2fa-kda', 'project': 'USP', 'last_updated': '2023-07-26', 'id': '5497efbd-630b-4409-8a8f-e2d1a181e628'}), 0.007763601348098219), (Document(page_content='to establish connection to certificate revocation status Compliance Check System Forgery Violated version control policy (Device) Violated recording prevention policy (Device) Device Managed Google Play token issuance (Device) Managed Google Play account registration (Device) Managed Google Play account report (Device) Managed Google Play account removal (Device) SIM card has changed', metadata={'source': 'all_processed_data.json', 'seq_num': 779, 'title': 'Device audit events', 'url': 'https://docs.samsungknox.com/admin/knox-manage/appendix/list-of-audit-events/device-audit-events', 'project': 'KM', 'last_updated': '2023-07-26', 'id': '8ef395d5-a885-499b-8c4c-5e294e202641'}), 0.007634032634032634), (Document(page_content='. 5. Click Authenticate. 6. Fill the required field to authenticate your account. Click Next to submit your request. 7. You are redirected to the Privacy Settings page. 8. If the personal data deletion request succeeds, a confirmation message shows. !A confirmation message under Privacy Settings', metadata={'source': 'all_processed_data.json', 'seq_num': 191, 'title': 'How do I request deletion of personal data collected by Samsung related to Samsung Knox?', 'url': 'https://docs.samsungknox.com/admin/fundamentals/kbas/kba-573-how-to-request-deletion-of-personal-data', 'project': 'USP', 'last_updated': '2023-07-26', 'id': 'b23ae5a6-6284-4903-9048-f825117b566a'}), 0.007582720588235294), (Document(page_content='. A user who logs in to KDA effectively logs in with their Samsung Account on the entire device - not just KDA. In addition, the minimum Knox version for KDA is now Knox 2.8 (Android 7.1). The following are accepted as the second form of authentication: Phone numbe, Authenticator app (such as Microsoft Authenticator, Google OTP, and so on), Verification code sent to other Galaxy devices, Backup codes The following are the user impacts: Once the user has successfully logged in, they no longer need to log in again. Once the user has set up 2FA on their account, it will also be required when they log in to SamsungKnox.com. Users using a personal Samsung Account for B2C services (for example, Samsung Health, SmartThings, and so on) will not be able to log in to KDA on the same device with their enterprise account. They will need to log out of their personal account first. For more information, see the FAQs for two-step verification', metadata={'source': 'all_processed_data.json', 'seq_num': 504, 'title': 'Knox Mobile Enrollment 1.36 release notes', 'url': 'https://docs.samsungknox.com/admin/knox-mobile-enrollment/release-notes/20-11', 'project': 'KME', 'last_updated': '2023-07-26', 'id': '50f14d62-1a98-4e26-9ee7-77df168c8bb0'}), 0.007529438405797102), (Document(page_content=\"Get started as a user. The following tutorial is intended for end users and guides you through the basics of setting up a Knox Authentication Manager account. Step 1: Register a user account and start using Knox Authentication Manager Learn how to register your account with Knox Authentication Manager and save your sign-in credentials for apps. #Register a user account with face sign-in To register your account when face sign-in is enabled and configured: 1. Unlock your device. Knox Authentication Manager automatically launches on devices managed by VMware Workspace ONE. Knox Authentication Manager doesn't automatically launch on devices managed by Knox Manage or SOTI unless your IT admin configured it to. In this case, open the app and tap Sign in or enroll. If this is the first time Knox Authentication Manager is used on a device, two notifications will pop up on the device which ask you to allow Knox Authentication Manager to send notifications and get camera access\", metadata={'source': 'all_processed_data.json', 'seq_num': 398, 'title': 'Get started as a user', 'url': 'https://docs.samsungknox.com/admin/knox-authentication-manager/get-started/get-started-as-a-user', 'project': 'KAM', 'last_updated': '2023-09-26', 'id': '452f21c1-c9a6-495b-90af-38dba531bcdf'}), 0.007462686567164179)]\n",
      "##############################\n",
      "similar_docs_keyword\n",
      "##############################\n",
      "[(Document(page_content='Code EMM Enrollment (Device &#x2192; Server) EMM Enrollment (Server &#x2192; Device) EMM Enrollment Spec (Device &#x2192; Server) EMM Enrollment Spec (Server &#x2192; Device) Azure AD Device Sync Request Request for discovery URL (Device &#x2192; Server) Respond to the request for Discovery URL (Server &#x2192; Device) Respond to the request to set DM Client Request to verify Federated equipment (Device &#x2192; Server) Respond to the request to verify Federated equipment (Server &#x2192; Device) Request SOAP message Verify Security Token Respond to SOAP message Deactivate service (Device &#x2192; Server) Deactivate service (Server &#x2192; Device) Request to issue certificate (Device &#x2192; Server) Respond to request to issue certificate (Server &#x2192; Device) Request for spec to issue certificate (Device &#x2192; Server) Respond to the request for spec to issue certificate(Server &#x2192; Device) Google sync Google resource synchronization via Google API (Device) Google resource synchronization via', metadata={'source': 'all_processed_data.json', 'seq_num': 781, 'title': 'Server audit events', 'url': 'https://docs.samsungknox.com/admin/knox-manage/appendix/list-of-audit-events/server-audit-events', 'project': 'KM', 'last_updated': '2023-07-26', 'id': '230ce7a3-07f3-4138-a3e8-278fee7c856f'}), 1.0), (Document(page_content='. Start Minimum requirements There are only a few requirements you need to meet to take advantage of the Knox Platform for Enterprise: 1. An MDM\"and a Samsung device that is compatible with Knox Platform for Enterprise. Knox Platform for Enterprise is supported on select Samsung Android Devices. Contact your operator to verify that your devices are compatible. Our MDM partners support many Knox features and comprehensive policy levels. 2. A valid Knox License. 3. A Samsung Knox account (optional). This allows you to manage your license keys, submit support tickets and access other Knox related assets. Check what version of the Knox Platform is running on your devices To find out what version of the Knox platform your device is running, go to: Settings > About Device > Software Information > Knox Version. To identify the SDK version that corresponds with the Knox API Level of your target devices, see the Knox version mapping table in Samsung Knox Developer documentation. #Recommended Knox solutions 1', metadata={'source': 'all_processed_data.json', 'seq_num': 1342, 'title': 'Knox Platform for Enterprise', 'url': 'https://docs.samsungknox.com/admin/knox-platform-for-enterprise', 'project': 'KPE', 'last_updated': '2023-07-26', 'id': 'c131d530-1b72-4aa8-bf83-13c41c911561'}), 0.7526956273635976), (Document(page_content='Australia. Login to the portal You can check the detailed status of your claim by logging in to your Samsung Care+ for Business portal at samsungknox.com. Submit a single service request If you want to make a service request for a single device: 1. Go to the Submit New Service Request page. 2. Search the device ID. 3. Click on the checkbox next to the device. 4. Click NEXT. 5. In the next page, verify the device details and click VERIFY MY DEVICE. 6. Select what is the issue with the device. 7. Enter and confirm the delivery details. 8. Click SUBMIT. 9. In the CONFIRM SERVICE REQUEST pop-up, verify the details and click SUBMIT MY SERVICE REQUEST. Submit multiple service requests in bulk If you want to make service requests for multiple devices: 1. Go to the Submit New Service Request page. 3. Click on the checkbox next to the devices you want to make the service request for. 4. Click NEXT. 9. In the CONFIRM BULK SERVICE REQUEST pop-up, verify the details and click SUBMIT MY SERVICE REQUEST', metadata={'source': 'all_processed_data.json', 'seq_num': 341, 'title': 'Australia', 'url': 'https://docs.samsungknox.com/admin/care-plus/submit-a-claim/australia', 'project': 'SCPE', 'last_updated': '2023-07-26', 'id': '411abd56-034f-4d96-990c-f9a2987ffc5b'}), 0.7519282983672445), (Document(page_content=\". NOTE - You can't select a firmware version to apply when creating a test campaign. Instead, dummy firmware is applied by default. 6. Click Assign. 7. Click Create and Activate. The campaign is added to the Campaigns list. 8. Check the device for the dummy firmware update. If the campaign is applied successfully, the device status changes to Campaign Active. In the following example, the dummy firmware to be applied has the file extension .DM. 9. When you're done with your test campaign, revert the dummy firmware to regular firmware. 1. Go to Devices > All Devices. 2. Click Action > Unassign campaign. The device status changes to Enrolled and the dummy firmware is reverted to regular firmware.\", metadata={'source': 'all_processed_data.json', 'seq_num': 230, 'title': 'Create a test campaign', 'url': 'https://docs.samsungknox.com/admin/efota-one/features/create-a-campaign/create-a-test-campaign', 'project': 'EFOTA', 'last_updated': '2023-07-26', 'id': '129b09de-d047-4417-88cd-1cf9a3dbda15'}), 0.6968505858622394), (Document(page_content=\"What can I do if I'm not receiving the verification email when registering for a Samsung Account?. Here are some possible scenarios for not getting the verification email, and actions you can try: Scenario Action You can't access the device used for 2-step verification. Contact Samsung Support in your region. After we verify your identity (full name, date of birth, device IMEI or serial number), we temporarily deactivate two-step verification. You can then sign in to your account and register a new device or change the phone number used for two-step verification. You lost your backup code. Contact Samsung Support in your region. After we verify your identity (full name, date of birth, device IMEI or serial number), we send you a new backup code. You can't access the email account used to register the Samsung Account. As per our Samsung Account policy, if you lose access to your email account, you should create a new Samsung account and associate it with a new email address\", metadata={'source': 'all_processed_data.json', 'seq_num': 181, 'title': \"What can I do if I'm not receiving the verification email when registering for a Samsung Account?\", 'url': 'https://docs.samsungknox.com/admin/fundamentals/kbas/kba-360032622774', 'project': 'USP', 'last_updated': '2023-07-26', 'id': 'b9f7b18f-8969-491f-b18a-07a3fe2e487a'}), 0.6830308716124407), (Document(page_content='. Try to manually refresh the client on the device by executing a Force client refresh. If the problem persists, contact Samsung. Failed to install 762 Firmware installation has failed because the installation is terminated by the system. Try to manually refresh the client on the device by executing a Force client refresh. If the problem persists, contact Samsung. Failed to install 763 Firmware installation has failed because an unexpected error occurred. Try to manually refresh the client on the device by executing a Force client refresh. If the problem persists, contact Samsung. Failed to install 764 Firmware installation has failed because an error occurred during the delta firmware installation process. Try to manually refresh the client on the device by executing a Force client refresh. If the problem persists, contact Samsung. Failed to install 765 Firmware installation has failed because the dm-verity check failed in recovery mode', metadata={'source': 'all_processed_data.json', 'seq_num': 285, 'title': 'Error codes', 'url': 'https://docs.samsungknox.com/admin/efota-one/troubleshoot/error-codes', 'project': 'EFOTA', 'last_updated': '2023-08-15', 'id': 'ac54c64b-8de1-432b-8d0a-01e88ade0f2b'}), 0.6124550999933894), (Document(page_content=\". SDP encryption Samsung Galaxy devices supporting Knox 3.3 and above are enabled to support Android's File Based Encryption (FBE) for Data-at-Rest. Data encryption is enforced across the device using: EXT4 encryption FBE mechanism, FIPS compliant hardware crypto module (AES256-XTS) Optionally, the external SD Card can be used with: dm-crypt (introduced with Android 11) or eCryptfs stacked file system, FIPS compliant Kernel crypto module (AES256-CBC). FBE keys are derived using a password entry, which is either the default hard-coded password or the device user's password used to unlock the device. While in the unlocked state, SDP works as follows: Encrypts sensitive data using a per-file File Encryption Key (FEK). These keys are encrypted with the SDPK.sym (Sensitive Data Protection Key, symmetric), which is encrypted by the SdpMasterKey. Keeps the SdpMasterKey in memory only while the device is unlocked, to allow decryption of the SDPK.sym and SDPK.pri (private)\", metadata={'source': 'all_processed_data.json', 'seq_num': 123, 'title': 'Sensitive Data Protection (SDP)', 'url': 'https://docs.samsungknox.com/admin/fundamentals/whitepaper/core-platform-security/sensitive-data-protection', 'project': 'USP', 'last_updated': '2023-07-26', 'id': 'e1150a10-17eb-4a92-a26b-f2e897b3bee5'}), 0.581270082338229)]\n",
      "##############################\n",
      "similar_docs\n",
      "##############################\n",
      "[(Document(page_content='Code EMM Enrollment (Device &#x2192; Server) EMM Enrollment (Server &#x2192; Device) EMM Enrollment Spec (Device &#x2192; Server) EMM Enrollment Spec (Server &#x2192; Device) Azure AD Device Sync Request Request for discovery URL (Device &#x2192; Server) Respond to the request for Discovery URL (Server &#x2192; Device) Respond to the request to set DM Client Request to verify Federated equipment (Device &#x2192; Server) Respond to the request to verify Federated equipment (Server &#x2192; Device) Request SOAP message Verify Security Token Respond to SOAP message Deactivate service (Device &#x2192; Server) Deactivate service (Server &#x2192; Device) Request to issue certificate (Device &#x2192; Server) Respond to request to issue certificate (Server &#x2192; Device) Request for spec to issue certificate (Device &#x2192; Server) Respond to the request for spec to issue certificate(Server &#x2192; Device) Google sync Google resource synchronization via Google API (Device) Google resource synchronization via', metadata={'source': 'all_processed_data.json', 'seq_num': 781, 'title': 'Server audit events', 'url': 'https://docs.samsungknox.com/admin/knox-manage/appendix/list-of-audit-events/server-audit-events', 'project': 'KM', 'last_updated': '2023-07-26', 'id': '230ce7a3-07f3-4138-a3e8-278fee7c856f'}), 0.033477310091257095), (Document(page_content='Australia. Login to the portal You can check the detailed status of your claim by logging in to your Samsung Care+ for Business portal at samsungknox.com. Submit a single service request If you want to make a service request for a single device: 1. Go to the Submit New Service Request page. 2. Search the device ID. 3. Click on the checkbox next to the device. 4. Click NEXT. 5. In the next page, verify the device details and click VERIFY MY DEVICE. 6. Select what is the issue with the device. 7. Enter and confirm the delivery details. 8. Click SUBMIT. 9. In the CONFIRM SERVICE REQUEST pop-up, verify the details and click SUBMIT MY SERVICE REQUEST. Submit multiple service requests in bulk If you want to make service requests for multiple devices: 1. Go to the Submit New Service Request page. 3. Click on the checkbox next to the devices you want to make the service request for. 4. Click NEXT. 9. In the CONFIRM BULK SERVICE REQUEST pop-up, verify the details and click SUBMIT MY SERVICE REQUEST', metadata={'source': 'all_processed_data.json', 'seq_num': 341, 'title': 'Australia', 'url': 'https://docs.samsungknox.com/admin/care-plus/submit-a-claim/australia', 'project': 'SCPE', 'last_updated': '2023-07-26', 'id': '411abd56-034f-4d96-990c-f9a2987ffc5b'}), 0.0002000283420784399), (Document(page_content='. Start Minimum requirements There are only a few requirements you need to meet to take advantage of the Knox Platform for Enterprise: 1. An MDM\"and a Samsung device that is compatible with Knox Platform for Enterprise. Knox Platform for Enterprise is supported on select Samsung Android Devices. Contact your operator to verify that your devices are compatible. Our MDM partners support many Knox features and comprehensive policy levels. 2. A valid Knox License. 3. A Samsung Knox account (optional). This allows you to manage your license keys, submit support tickets and access other Knox related assets. Check what version of the Knox Platform is running on your devices To find out what version of the Knox platform your device is running, go to: Settings > About Device > Software Information > Knox Version. To identify the SDK version that corresponds with the Knox API Level of your target devices, see the Knox version mapping table in Samsung Knox Developer documentation. #Recommended Knox solutions 1', metadata={'source': 'all_processed_data.json', 'seq_num': 1342, 'title': 'Knox Platform for Enterprise', 'url': 'https://docs.samsungknox.com/admin/knox-platform-for-enterprise', 'project': 'KPE', 'last_updated': '2023-07-26', 'id': 'c131d530-1b72-4aa8-bf83-13c41c911561'}), 0.00019711472850758582), (Document(page_content=\". NOTE - You can't select a firmware version to apply when creating a test campaign. Instead, dummy firmware is applied by default. 6. Click Assign. 7. Click Create and Activate. The campaign is added to the Campaigns list. 8. Check the device for the dummy firmware update. If the campaign is applied successfully, the device status changes to Campaign Active. In the following example, the dummy firmware to be applied has the file extension .DM. 9. When you're done with your test campaign, revert the dummy firmware to regular firmware. 1. Go to Devices > All Devices. 2. Click Action > Unassign campaign. The device status changes to Enrolled and the dummy firmware is reverted to regular firmware.\", metadata={'source': 'all_processed_data.json', 'seq_num': 230, 'title': 'Create a test campaign', 'url': 'https://docs.samsungknox.com/admin/efota-one/features/create-a-campaign/create-a-test-campaign', 'project': 'EFOTA', 'last_updated': '2023-07-26', 'id': '129b09de-d047-4417-88cd-1cf9a3dbda15'}), 0.00019014552526641637), (Document(page_content=\"What can I do if I'm not receiving the verification email when registering for a Samsung Account?. Here are some possible scenarios for not getting the verification email, and actions you can try: Scenario Action You can't access the device used for 2-step verification. Contact Samsung Support in your region. After we verify your identity (full name, date of birth, device IMEI or serial number), we temporarily deactivate two-step verification. You can then sign in to your account and register a new device or change the phone number used for two-step verification. You lost your backup code. Contact Samsung Support in your region. After we verify your identity (full name, date of birth, device IMEI or serial number), we send you a new backup code. You can't access the email account used to register the Samsung Account. As per our Samsung Account policy, if you lose access to your email account, you should create a new Samsung account and associate it with a new email address\", metadata={'source': 'all_processed_data.json', 'seq_num': 181, 'title': \"What can I do if I'm not receiving the verification email when registering for a Samsung Account?\", 'url': 'https://docs.samsungknox.com/admin/fundamentals/kbas/kba-360032622774', 'project': 'USP', 'last_updated': '2023-07-26', 'id': 'b9f7b18f-8969-491f-b18a-07a3fe2e487a'}), 8.433104085270315e-05)]\n",
      "\n",
      "==========  Results  ==========\n",
      "\n",
      "1. question: what is verify DM\n",
      "2. # documents: 5\n",
      "3. Documents: \n",
      "\n",
      "-----------------------------------------------\n",
      "1. Chunk: 1019 Characters\n",
      "-----------------------------------------------\n",
      "Code EMM Enrollment (Device &#x2192; Server) EMM Enrollment (Server &#x2192; Device) EMM Enrollment\n",
      "Spec (Device &#x2192; Server) EMM Enrollment Spec (Server &#x2192; Device) Azure AD Device Sync\n",
      "Request Request for discovery URL (Device &#x2192; Server) Respond to the request for Discovery URL\n",
      "(Server &#x2192; Device) Respond to the request to set DM Client Request to verify Federated\n",
      "equipment (Device &#x2192; Server) Respond to the request to verify Federated equipment (Server\n",
      "&#x2192; Device) Request SOAP message Verify Security Token Respond to SOAP message Deactivate\n",
      "service (Device &#x2192; Server) Deactivate service (Server &#x2192; Device) Request to issue\n",
      "certificate (Device &#x2192; Server) Respond to request to issue certificate (Server &#x2192;\n",
      "Device) Request for spec to issue certificate (Device &#x2192; Server) Respond to the request for\n",
      "spec to issue certificate(Server &#x2192; Device) Google sync Google resource synchronization via\n",
      "Google API (Device) Google resource synchronization via\n",
      "metadata:\n",
      " {'source': 'all_processed_data.json', 'seq_num': 781, 'title': 'Server audit events', 'url':\n",
      "'https://docs.samsungknox.com/admin/knox-manage/appendix/list-of-audit-events/server-audit-events',\n",
      "'project': 'KM', 'last_updated': '2023-07-26', 'id': '230ce7a3-07f3-4138-a3e8-278fee7c856f'}\n",
      "-----------------------------------------------\n",
      "2. Chunk: 1004 Characters\n",
      "-----------------------------------------------\n",
      "Australia. Login to the portal You can check the detailed status of your claim by logging in to your\n",
      "Samsung Care+ for Business portal at samsungknox.com. Submit a single service request If you want to\n",
      "make a service request for a single device: 1. Go to the Submit New Service Request page. 2. Search\n",
      "the device ID. 3. Click on the checkbox next to the device. 4. Click NEXT. 5. In the next page,\n",
      "verify the device details and click VERIFY MY DEVICE. 6. Select what is the issue with the device.\n",
      "7. Enter and confirm the delivery details. 8. Click SUBMIT. 9. In the CONFIRM SERVICE REQUEST pop-\n",
      "up, verify the details and click SUBMIT MY SERVICE REQUEST. Submit multiple service requests in bulk\n",
      "If you want to make service requests for multiple devices: 1. Go to the Submit New Service Request\n",
      "page. 3. Click on the checkbox next to the devices you want to make the service request for. 4.\n",
      "Click NEXT. 9. In the CONFIRM BULK SERVICE REQUEST pop-up, verify the details and click SUBMIT MY\n",
      "SERVICE REQUEST\n",
      "metadata:\n",
      " {'source': 'all_processed_data.json', 'seq_num': 341, 'title': 'Australia', 'url':\n",
      "'https://docs.samsungknox.com/admin/care-plus/submit-a-claim/australia', 'project': 'SCPE',\n",
      "'last_updated': '2023-07-26', 'id': '411abd56-034f-4d96-990c-f9a2987ffc5b'}\n",
      "-----------------------------------------------\n",
      "3. Chunk: 1014 Characters\n",
      "-----------------------------------------------\n",
      ". Start Minimum requirements There are only a few requirements you need to meet to take advantage of\n",
      "the Knox Platform for Enterprise: 1. An MDM\"and a Samsung device that is compatible with Knox\n",
      "Platform for Enterprise. Knox Platform for Enterprise is supported on select Samsung Android\n",
      "Devices. Contact your operator to verify that your devices are compatible. Our MDM partners support\n",
      "many Knox features and comprehensive policy levels. 2. A valid Knox License. 3. A Samsung Knox\n",
      "account (optional). This allows you to manage your license keys, submit support tickets and access\n",
      "other Knox related assets. Check what version of the Knox Platform is running on your devices To\n",
      "find out what version of the Knox platform your device is running, go to: Settings > About Device >\n",
      "Software Information > Knox Version. To identify the SDK version that corresponds with the Knox API\n",
      "Level of your target devices, see the Knox version mapping table in Samsung Knox Developer\n",
      "documentation. #Recommended Knox solutions 1\n",
      "metadata:\n",
      " {'source': 'all_processed_data.json', 'seq_num': 1342, 'title': 'Knox Platform for Enterprise',\n",
      "'url': 'https://docs.samsungknox.com/admin/knox-platform-for-enterprise', 'project': 'KPE',\n",
      "'last_updated': '2023-07-26', 'id': 'c131d530-1b72-4aa8-bf83-13c41c911561'}\n",
      "-----------------------------------------------\n",
      "4. Chunk: 703 Characters\n",
      "-----------------------------------------------\n",
      ". NOTE - You can't select a firmware version to apply when creating a test campaign. Instead, dummy\n",
      "firmware is applied by default. 6. Click Assign. 7. Click Create and Activate. The campaign is added\n",
      "to the Campaigns list. 8. Check the device for the dummy firmware update. If the campaign is applied\n",
      "successfully, the device status changes to Campaign Active. In the following example, the dummy\n",
      "firmware to be applied has the file extension .DM. 9. When you're done with your test campaign,\n",
      "revert the dummy firmware to regular firmware. 1. Go to Devices > All Devices. 2. Click Action >\n",
      "Unassign campaign. The device status changes to Enrolled and the dummy firmware is reverted to\n",
      "regular firmware.\n",
      "metadata:\n",
      " {'source': 'all_processed_data.json', 'seq_num': 230, 'title': 'Create a test campaign', 'url':\n",
      "'https://docs.samsungknox.com/admin/efota-one/features/create-a-campaign/create-a-test-campaign',\n",
      "'project': 'EFOTA', 'last_updated': '2023-07-26', 'id': '129b09de-d047-4417-88cd-1cf9a3dbda15'}\n",
      "-----------------------------------------------\n",
      "5. Chunk: 987 Characters\n",
      "-----------------------------------------------\n",
      "What can I do if I'm not receiving the verification email when registering for a Samsung Account?.\n",
      "Here are some possible scenarios for not getting the verification email, and actions you can try:\n",
      "Scenario Action You can't access the device used for 2-step verification. Contact Samsung Support in\n",
      "your region. After we verify your identity (full name, date of birth, device IMEI or serial number),\n",
      "we temporarily deactivate two-step verification. You can then sign in to your account and register a\n",
      "new device or change the phone number used for two-step verification. You lost your backup code.\n",
      "Contact Samsung Support in your region. After we verify your identity (full name, date of birth,\n",
      "device IMEI or serial number), we send you a new backup code. You can't access the email account\n",
      "used to register the Samsung Account. As per our Samsung Account policy, if you lose access to your\n",
      "email account, you should create a new Samsung account and associate it with a new email address\n",
      "metadata:\n",
      " {'source': 'all_processed_data.json', 'seq_num': 181, 'title': \"What can I do if I'm not receiving\n",
      "the verification email when registering for a Samsung Account?\", 'url':\n",
      "'https://docs.samsungknox.com/admin/fundamentals/kbas/kba-360032622774', 'project': 'USP',\n",
      "'last_updated': '2023-07-26', 'id': 'b9f7b18f-8969-491f-b18a-07a3fe2e487a'}\n",
      "CPU times: user 322 ms, sys: 13 ms, total: 335 ms\n",
      "Wall time: 2.48 s\n"
     ]
    }
   ],
   "source": [
    "%%time\n",
    "search_hybrid_result = opensearch_hybrid_retriever.get_relevant_documents(query)\n",
    "\n",
    "print(\"\\n==========  Results  ==========\\n\")\n",
    "print(f'1. question: {query}')\n",
    "print (f'2. # documents: {len(search_hybrid_result)}')\n",
    "print(\"3. Documents: \\n\")\n",
    "\n",
    "show_context_used(search_hybrid_result)"
   ]
  },
  {
   "cell_type": "markdown",
   "id": "c09221b5-4a6c-463b-9769-35cc8362e33c",
   "metadata": {},
   "source": [
    "- update parameters"
   ]
  },
  {
   "cell_type": "code",
   "execution_count": 61,
   "id": "b7bb4672-d2b8-4b29-b71c-b06d84bcd470",
   "metadata": {
    "tags": []
   },
   "outputs": [],
   "source": [
    "opensearch_hybrid_retriever.update_search_params(\n",
    "    k=10,\n",
    "    minimum_should_match=30,\n",
    "    filter=[\n",
    "        {\"term\": {\"metadata.project\": \"KM\"}},\n",
    "    ],\n",
    "    reranker=True,\n",
    "    reranker_endpoint_name=endpoint_name,\n",
    "    rag_fusion=True, # enable rag_fusion\n",
    "    query_augmentation_size=5, # query_augmentation_size in rag_fusion\n",
    "    llm_text=llm_text, # llm for query augmentation in rag_fusion\n",
    "    verbose=False\n",
    ")"
   ]
  },
  {
   "cell_type": "code",
   "execution_count": 62,
   "id": "1b9b45b1-cb92-4954-8087-143a550350c8",
   "metadata": {
    "tags": []
   },
   "outputs": [
    {
     "name": "stdout",
     "output_type": "stream",
     "text": [
      "\n",
      "Number of chunk_docs after split and chunking= 2\n",
      "\n",
      "\n",
      "==========  Results  ==========\n",
      "\n",
      "1. question: vefify DM\n",
      "2. # documents: 10\n",
      "3. Documents: \n",
      "\n",
      "-----------------------------------------------\n",
      "1. Chunk: 1019 Characters\n",
      "-----------------------------------------------\n",
      "Code EMM Enrollment (Device &#x2192; Server) EMM Enrollment (Server &#x2192; Device) EMM Enrollment\n",
      "Spec (Device &#x2192; Server) EMM Enrollment Spec (Server &#x2192; Device) Azure AD Device Sync\n",
      "Request Request for discovery URL (Device &#x2192; Server) Respond to the request for Discovery URL\n",
      "(Server &#x2192; Device) Respond to the request to set DM Client Request to verify Federated\n",
      "equipment (Device &#x2192; Server) Respond to the request to verify Federated equipment (Server\n",
      "&#x2192; Device) Request SOAP message Verify Security Token Respond to SOAP message Deactivate\n",
      "service (Device &#x2192; Server) Deactivate service (Server &#x2192; Device) Request to issue\n",
      "certificate (Device &#x2192; Server) Respond to request to issue certificate (Server &#x2192;\n",
      "Device) Request for spec to issue certificate (Device &#x2192; Server) Respond to the request for\n",
      "spec to issue certificate(Server &#x2192; Device) Google sync Google resource synchronization via\n",
      "Google API (Device) Google resource synchronization via\n",
      "metadata:\n",
      " {'source': 'all_processed_data.json', 'seq_num': 781, 'title': 'Server audit events', 'url':\n",
      "'https://docs.samsungknox.com/admin/knox-manage/appendix/list-of-audit-events/server-audit-events',\n",
      "'project': 'KM', 'last_updated': '2023-07-26', 'id': '230ce7a3-07f3-4138-a3e8-278fee7c856f'}\n",
      "-----------------------------------------------\n",
      "2. Chunk: 1015 Characters\n",
      "-----------------------------------------------\n",
      ". Authentication with integrity - Ensure integrity of all the data exchanged, as well as\n",
      "authentication. Authentication with integrity and privacy - Ensure integrity of all data exchanges,\n",
      "as well as authentication through data encryption. Protection Strength - Select a data protection\n",
      "level, and determine whether or not mutual authentication should be performed when exchanging data.\n",
      "High - Use 128-bit encryption. Medium - Use 56-bit encryption. Low - Use 40-bit encryption. Mutual\n",
      "authentication - Click the check box next to Mutual authentication to ensure data validity by\n",
      "inserting the key into the data exchanged between the client and server. User ID - Enter the\n",
      "administrator information of the directory server in any of the following forms:\n",
      "domain/administrator ID , administrator ID @ domain , CN = administrator ID, CN = Users, DC =\n",
      "domain, and DC = com. Password - Enter the user ID's password. 5. Click the User, Group, or\n",
      "Organization tab according to your selection in Target. Fill in the details\n",
      "metadata:\n",
      " {'source': 'all_processed_data.json', 'seq_num': 935, 'title': 'Add sync services', 'url':\n",
      "'https://docs.samsungknox.com/admin/knox-manage/configure/sync-user-information/add-sync-services',\n",
      "'project': 'KM', 'last_updated': '2023-07-26', 'id': '4f4ebeb0-a3d4-4987-ab65-75fa233be705'}\n",
      "-----------------------------------------------\n",
      "3. Chunk: 950 Characters\n",
      "-----------------------------------------------\n",
      ". Fully Managed &mdash; Android 8 and higher Set a Message for Blocked Settings Enables a custom\n",
      "message to display when the device user taps or tries to use a disabled setting. This policy has two\n",
      "sub-policies, one for a short message to display in most screens of the Settings app, and the other\n",
      "for a longer message to display in the device administrators screen of the Settings app. Fully\n",
      "Managed &mdash; Android 7 and higher &gt; Short Message Specifies the custom message to display when\n",
      "the device user taps or tries to use a disabled setting on the Settings app. Only available if the\n",
      "Set a Message for Blocked Settings policy is set to Apply. Fully Managed &mdash; Android 7 and\n",
      "higher &gt; Long Message Specifies the custom message to display when the device user taps or tries\n",
      "to use a disabled setting in the device administrators screen of the Settings app. Only available if\n",
      "the Set a Message for Blocked Settings policy is set to Apply\n",
      "metadata:\n",
      " {'source': 'all_processed_data.json', 'seq_num': 911, 'title': 'Android Enterprise policies',\n",
      "'url': 'https://docs.samsungknox.com/admin/knox-manage/configure/profile/configure-profile-\n",
      "policies/android-enterprise-policies', 'project': 'KM', 'last_updated': '2023-09-06', 'id':\n",
      "'529b9d9c-e1b2-4635-bb35-96f6c8050011'}\n",
      "-----------------------------------------------\n",
      "4. Chunk: 757 Characters\n",
      "-----------------------------------------------\n",
      "Basic message templates. The basic message templates are as follows: Template type Message type\n",
      "Template name Email Agent Installation Email_Agent Installation Administrator Authentication\n",
      "Email_Admin OTP Administrator Account Information Email_Admin ID Administrator Temporary Password\n",
      "Email_Admin Temporary Password User Temporary Password Email_User Password Reset Apple VPP\n",
      "Email_Apple VPP Invite: The email template for inviting VPP users Email_Apple VPP Redeem: The email\n",
      "template for installing purchased VPP applications through redeemable codes SMS Agent Installation\n",
      "User Credential Public Store Address Direct Installation KME Activation Address Administrator\n",
      "Authentication Admin OTP SMS Administrator Temporary Password Admin Temporary Password\n",
      "metadata:\n",
      " {'source': 'all_processed_data.json', 'seq_num': 809, 'title': 'Basic message templates', 'url':\n",
      "'https://docs.samsungknox.com/admin/knox-manage/configure/advanced-settings/configure-message-\n",
      "template/basic-message-templates', 'project': 'KM', 'last_updated': '2023-07-26', 'id':\n",
      "'682c21fc-f522-4916-a736-e3b01d0de608'}\n",
      "-----------------------------------------------\n",
      "5. Chunk: 983 Characters\n",
      "-----------------------------------------------\n",
      ". This protocol is only available when Manual Input is selected. You can also click Lookup to open\n",
      "the reference items list and select an item from it. The reference value will be entered\n",
      "automatically. Outgoing Server Password Enter an outgoing server password to manually sign in to the\n",
      "outgoing mail server. This protocol is only available when Manual Input is selected.You can also\n",
      "click Lookup to open the reference items list and select an item from it. The reference value will\n",
      "be entered automatically. Incoming SSL Select this to use SSL encryption. Outgoing SSL Select this\n",
      "to use SSL encryption. Notification Select an email notification method. Enable Notification &mdash;\n",
      "Activates email notification. Enable \"Always notify by vibrate mode\" &mdash; Notifies the user of\n",
      "new emails with a vibration. Disable Notification &mdash; Deactivates email notification. All\n",
      "incoming certificates Allows receiving certificates. All outgoing certificates Allows sending\n",
      "certificates\n",
      "metadata:\n",
      " {'source': 'all_processed_data.json', 'seq_num': 917, 'title': 'Knox Workspace (Android Legacy)\n",
      "policies', 'url': 'https://docs.samsungknox.com/admin/knox-manage/configure/profile/configure-\n",
      "profile-policies/knox-workspace-android-legacy-policies', 'project': 'KM', 'last_updated':\n",
      "'2023-07-26', 'id': '509cdd2c-607d-42ce-b8e0-b984617cbeda'}\n",
      "-----------------------------------------------\n",
      "6. Chunk: 967 Characters\n",
      "-----------------------------------------------\n",
      ". To close the search window, re-tap the icon. Sort Rearrange the user list by the date of\n",
      "occurrence or in ascending/descending order. Filter Filter the user list by the current user account\n",
      "status. Activating or deactivating user accounts To activate or deactivate the user account,\n",
      "complete the following steps: 1. Navigate to ![](../assets/B-mo_ad_menu.png) > Users. 2. On the\n",
      "Users screen, tap the user on the user list whose account you want to activate or deactivate. 3. On\n",
      "the User Information screen, tap the following: Tap ![](../assets/B-mo_ad_deactivated.png) (\n",
      "Inactive ) to activate the user account. Once the user account is activated, devices enrolled for\n",
      "the user account can be controlled. Tap ![](../assets/B-mo_ad_activated.png) ( Activated ) to\n",
      "deactivate the user account. Once the user account is inactive, devices enrolled for to the account\n",
      "cannot be controlled, regardless of the device status. 4. In the confirmation message pop-up, tap\n",
      "OK.\n",
      "metadata:\n",
      " {'source': 'all_processed_data.json', 'seq_num': 1024, 'title': 'Manage users on Mobile Admin',\n",
      "'url': 'https://docs.samsungknox.com/admin/knox-manage/mobile-admin/manage-users-on-mobile-admin',\n",
      "'project': 'KM', 'last_updated': '2023-07-26', 'id': 'f31f5d65-9ada-4073-b775-5075bace3422'}\n",
      "-----------------------------------------------\n",
      "7. Chunk: 1018 Characters\n",
      "-----------------------------------------------\n",
      "Agent Request for MDM profile (Device &#x2192; Server) Agent Request for SCEP profile (Device\n",
      "&#x2192; Server) Agent Request for token update (Device &#x2192; Server) Request to activate Agent\n",
      "User Enrollment MDM (Device &#x2192; Server) Agent Request for check-in (Server &#x2192; Device)\n",
      "Agent Response for check-out (Server &#x2192; Device) Agent Request to activate MDM (Server &#x2192;\n",
      "Device) Agent Request for MDM profile (Server &#x2192; Device) Agent Request for SCEP profile\n",
      "(Server &#x2192; Device) Agent Request for token update (Server &#x2192; Device) Request to activate\n",
      "Agent User Enrollment MDM (Server &#x2192; Device) Confirm Enrollment (Knox) (Device &#x2192;\n",
      "Server) Confirm Enrollment (Knox) (Server &#x2192; Device) Generate OTP (One Time Password) Code EMM\n",
      "Enrollment (Device &#x2192; Server) EMM Enrollment (Server &#x2192; Device) EMM Enrollment Spec\n",
      "(Device &#x2192; Server) EMM Enrollment Spec (Server &#x2192; Device) Azure AD Device Sync Request\n",
      "Request for discovery URL (Device &#x2192;\n",
      "metadata:\n",
      " {'source': 'all_processed_data.json', 'seq_num': 781, 'title': 'Server audit events', 'url':\n",
      "'https://docs.samsungknox.com/admin/knox-manage/appendix/list-of-audit-events/server-audit-events',\n",
      "'project': 'KM', 'last_updated': '2023-07-26', 'id': '702116f3-2dad-4de0-a6ea-6fca5348aef3'}\n",
      "-----------------------------------------------\n",
      "8. Chunk: 853 Characters\n",
      "-----------------------------------------------\n",
      ". For more information, see Adding VPP applications (managed distribution). Upload Redemption Code\n",
      "Upload the redeemable codes of the VPP applications if you purchased the applications through\n",
      "redeemable codes from the VPP website. For more information, see Adding VPP applications (redeemable\n",
      "codes). Assign Assign and apply the selected applications to group/organizations. For more\n",
      "information, see Assign applications. Update Update the selected applications. When updates are\n",
      "available for apps from Managed Google Play, Google Play Store, and Apple App Store, a Need Update\n",
      "label displays next to them in the Version column for easy identification. You can select and update\n",
      "multiple applications simultaneously. Modify Modify the selected application details. For more\n",
      "information, see Modify applications. Delete Delete the selected applications\n",
      "metadata:\n",
      " {'source': 'all_processed_data.json', 'seq_num': 838, 'title': 'View the application list', 'url':\n",
      "'https://docs.samsungknox.com/admin/knox-manage/configure/applications/view-applications/view-the-\n",
      "application-list', 'project': 'KM', 'last_updated': '2023-07-26', 'id':\n",
      "'49766b85-bad2-4e8f-bcc7-af35b1e26433'}\n",
      "-----------------------------------------------\n",
      "9. Chunk: 1003 Characters\n",
      "-----------------------------------------------\n",
      ". For more information, see Sending templates or user notifications to users via email. Request\n",
      "Enrollment Send installation guides to the selected users via email and SMS. For more information,\n",
      "see Sending enrollment guides to users via email and SMS. Note To send enrollment guides to users\n",
      "using SMS, the mobile numbers of the users must be registered to their accounts. Delete Delete the\n",
      "selected user from the group. Note You cannot delete users from the AD/LDAP group. Tab: User (for\n",
      "device groups) The User tab for device groups shows the information of the user's devices and user\n",
      "accounts in the group. Detail - Move to the User Details page for the selected user. For more\n",
      "information on the User Details page, see Viewing the user details. The following function buttons\n",
      "are available: Function button Description Send Email Send templates or user notifications\n",
      "registered in Knox Manage to users via email. For more information, see Sending templates or user\n",
      "notifications to users via email\n",
      "metadata:\n",
      " {'source': 'all_processed_data.json', 'seq_num': 883, 'title': 'View group details', 'url':\n",
      "'https://docs.samsungknox.com/admin/knox-manage/configure/groups/view-group-details', 'project':\n",
      "'KM', 'last_updated': '2023-07-26', 'id': '4970180a-5a81-46b7-ab3d-617b6f5aac0d'}\n",
      "-----------------------------------------------\n",
      "10. Chunk: 1022 Characters\n",
      "-----------------------------------------------\n",
      "Agent Feedback on settings of apps installed through MDM (Server &#x2192; Device) Agent Information\n",
      "on apps installed through MDM Agent Shared iPad Passcode Grace Period Settings (Server &#x2192;\n",
      "Device) Collect Profile ID (Device &#x2192; Server) Collect Profile ID (Server &#x2192; Device)\n",
      "Update eSIM Cellular Plan (Device &#x2192; Server) Update eSIM Cellular Plan (Server &#x2192;\n",
      "Device) Agent Delete app (Server &#x2192; Device) Agent Delete profile(Server &#x2192; Device) Agent\n",
      "Respond to the request to handle command(Device &#x2192; Server) Agent Request for command (Device\n",
      "&#x2192; Server) Agent Reboot Device (Server &#x2192; Device) Schedule OS Update (Server &#x2192;\n",
      "Device) Agent Search security information (Server &#x2192; Device) Deactivate MDM agent for\n",
      "synchronization between server and device Agent Shared iPad Settings (Server &#x2192; Device) Agent\n",
      "Power off the device (Server &#x2192; Device) Request for property sync of app auto deletion when\n",
      "deactivating (Device &#x2192; Server) Respond to\n",
      "metadata:\n",
      " {'source': 'all_processed_data.json', 'seq_num': 781, 'title': 'Server audit events', 'url':\n",
      "'https://docs.samsungknox.com/admin/knox-manage/appendix/list-of-audit-events/server-audit-events',\n",
      "'project': 'KM', 'last_updated': '2023-07-26', 'id': '77a515e7-30a7-4ad1-b079-cefc05db60e3'}\n"
     ]
    }
   ],
   "source": [
    "query = \"vefify DM\"\n",
    "search_hybrid_result = opensearch_hybrid_retriever.get_relevant_documents(query)\n",
    "\n",
    "print(\"\\n==========  Results  ==========\\n\")\n",
    "print(f'1. question: {query}')\n",
    "print(f'2. # documents: {len(search_hybrid_result)}')\n",
    "print(\"3. Documents: \\n\")\n",
    "\n",
    "show_context_used(search_hybrid_result)"
   ]
  },
  {
   "cell_type": "markdown",
   "id": "a981abe7-5208-48f5-a9cc-8c557e9941ca",
   "metadata": {},
   "source": [
    "## 5. RAG using RetrievalQA powered by LangChain"
   ]
  },
  {
   "cell_type": "code",
   "execution_count": 46,
   "id": "08cf6d2b-451b-499c-aec2-bb6f5abafbb0",
   "metadata": {
    "tags": []
   },
   "outputs": [],
   "source": [
    "from utils.rag import run_RetrievalQA\n",
    "from langchain.prompts import PromptTemplate"
   ]
  },
  {
   "cell_type": "markdown",
   "id": "b490df1f-8113-4dd1-a578-a3e1a6918fde",
   "metadata": {
    "tags": []
   },
   "source": [
    "### Prompting\n",
    "- [TIP] Prompt의 instruction의 경우 한글보다 영어로 했을 때 더 좋은 결과를 얻을 수 있습니다."
   ]
  },
  {
   "cell_type": "code",
   "execution_count": 47,
   "id": "572bc0ee-afb8-4dc8-b5ae-629920b8504b",
   "metadata": {
    "tags": []
   },
   "outputs": [],
   "source": [
    "prompt_template = \"\"\"\n",
    "\\n\\nHuman: Here is the context, inside <context></context> XML tags.\n",
    "\n",
    "<context>\n",
    "{context}\n",
    "</context>\n",
    "\n",
    "Only using the context as above, answer the following question with the rules as below:\n",
    "    - Don't insert XML tag such as <context> and </context> when answering.\n",
    "    - Write as much as you can\n",
    "    - Be courteous and polite\n",
    "    - Only answer the question if you can find the answer in the context with certainty.\n",
    "\n",
    "Question:\n",
    "{question}\n",
    "\n",
    "If the answer is not in the context, just say \"Could not find answer in given contexts.\"\n",
    "\n",
    "\\n\\nAssistant:\"\"\"\n",
    "\n",
    "PROMPT = PromptTemplate(\n",
    "    template=prompt_template, input_variables=[\"context\", \"question\"]\n",
    ")"
   ]
  },
  {
   "cell_type": "markdown",
   "id": "c66157a6-aec8-4555-a90f-1178e6f4f6e0",
   "metadata": {},
   "source": [
    "### Update Search Params (Optional)"
   ]
  },
  {
   "cell_type": "code",
   "execution_count": 48,
   "id": "64df2daf-8b42-472a-885f-97320ee98132",
   "metadata": {
    "tags": []
   },
   "outputs": [],
   "source": [
    "from langchain.chains import RetrievalQA"
   ]
  },
  {
   "cell_type": "code",
   "execution_count": 53,
   "id": "d2697230-6962-43d8-8917-ba9daa4295bb",
   "metadata": {
    "tags": []
   },
   "outputs": [],
   "source": [
    "opensearch_hybrid_retriever.update_search_params(\n",
    "    k=3,\n",
    "    minimum_should_match=3,\n",
    "    filter=[],\n",
    "    reranker=True,\n",
    "    reranker_endpoint_name=endpoint_name,\n",
    "    rag_fusion=True, # enable rag_fusion\n",
    "    query_augmentation_size=5, # query_augmentation_size in rag_fusion\n",
    "    llm_text=llm_text, # llm for query augmentation in rag_fusion\n",
    "    verbose=True\n",
    ")"
   ]
  },
  {
   "cell_type": "markdown",
   "id": "aee26c22-b674-4f4f-a87b-29508e336fda",
   "metadata": {},
   "source": [
    "### Request"
   ]
  },
  {
   "cell_type": "code",
   "execution_count": 54,
   "id": "95fa61d3-9256-432a-96a3-2c696c97ea68",
   "metadata": {
    "tags": []
   },
   "outputs": [],
   "source": [
    "qa = RetrievalQA.from_chain_type(\n",
    "    llm=llm_text,\n",
    "    chain_type=\"stuff\",\n",
    "    retriever=opensearch_hybrid_retriever,\n",
    "    return_source_documents=True,\n",
    "    chain_type_kwargs={\n",
    "        \"prompt\": PROMPT,\n",
    "        \"verbose\": False,\n",
    "    },\n",
    "    verbose=False\n",
    ")"
   ]
  },
  {
   "cell_type": "code",
   "execution_count": 55,
   "id": "390ad324-40b3-4bcb-92b9-50eb080492a5",
   "metadata": {
    "tags": []
   },
   "outputs": [
    {
     "name": "stdout",
     "output_type": "stream",
     "text": [
      "===== RAG-Fusion Queries =====\n",
      "['How does RKP protect critical kernel data structures from modification?', '1. What kernel data structures does RKP protect?', '2. How does RKP use page table isolation to protect kernel data? ', '3. What integrity checks does RKP perform on kernel data structures?', '4. How does RKP prevent modification of function pointers in the kernel?', '5. What mechanisms does RKP use to prevent unauthorized write access to kernel memory?']\n",
      "##############################\n",
      "async_mode\n",
      "##############################\n",
      "True\n",
      "##############################\n",
      "reranker\n",
      "##############################\n",
      "True\n",
      "##############################\n",
      "rag_fusion\n",
      "##############################\n",
      "True\n",
      "##############################\n",
      "HyDE\n",
      "##############################\n",
      "False\n",
      "##############################\n",
      "similar_docs_semantic\n",
      "##############################\n",
      "[(Document(page_content='. This unique ability enables RKP to detect and prevent the most common kernel attacks. RKP protections are grouped into three areas: Kernel code - RKP\"prevents modification of kernel code and logic. Kernel data - RKP\"prevents modification of critical kernel data structures. Kernel control flow - RKP\"prevents Return-Oriented Programming (ROP) and Jump-Oriented Programming (JOP) attacks that reuse existing kernel logic to piece together exploits from the kernel\\'s own code. How is kernel protection possible? A kernel protection mechanism can\\'t exist completely in the kernel only, since an attacker could circumvent it if the kernel itself has a flaw. The kernel is the lowest granular control level over the OS and, as such, usually can\\'t be effectively monitored from any lower level in the system. RKP uniquely employs a security monitor within an isolated execution environment', metadata={'source': 'all_processed_data.json', 'seq_num': 121, 'title': 'Real-time Kernel Protection (RKP)', 'url': 'https://docs.samsungknox.com/admin/fundamentals/whitepaper/core-platform-security/real-time-kernel-protection', 'project': 'USP', 'last_updated': '2023-07-26', 'id': 'b0b8363f-b92a-42a2-81d5-41c016e437e1'}), 0.01639344262295082), (Document(page_content='. Other more commonplace protections like Secure Boot or hardware-backed keystores are of little value if the kernel itself is controlled at runtime. After a device boots and decrypts sensitive content, a kernel compromise can result in data leaks that directly impact an enterprise\\'s data integrity. RKP design and structure As part of the Knox Platform\\'s security offerings, RKP employs a security monitor within an isolated execution environment. Depending on the device model, either a dedicated hypervisor or the hardware-backed secure world provided by ARM TrustZone technology provides the isolated execution environment. RKP\\'s isolation from the kernel shrinks the Trusted Computing Base (TCB) and helps secure it from attacks designed to compromise the kernel. This unique ability enables RKP to detect and prevent the most common kernel attacks. RKP protections are grouped into three areas: Kernel code - RKP\"prevents modification of kernel code and logic', metadata={'source': 'all_processed_data.json', 'seq_num': 121, 'title': 'Real-time Kernel Protection (RKP)', 'url': 'https://docs.samsungknox.com/admin/fundamentals/whitepaper/core-platform-security/real-time-kernel-protection', 'project': 'USP', 'last_updated': '2023-07-26', 'id': 'd7c2fa78-4e8b-4150-b786-83dec01fd9be'}), 0.016129032258064516), (Document(page_content=\". The kernel is the lowest granular control level over the OS and, as such, usually can't be effectively monitored from any lower level in the system. RKP uniquely employs a security monitor within an isolated execution environment. Running within an isolated execution environment would normally compromise a security mechanism's ability to see into the kernel and monitor activities at runtime. However, RKP succeeds by utilizing patented techniques to control device memory management and by intercepting and inspecting critical kernel actions before allowing them to execute. RKP is thus able to prevent a compromised kernel from bypassing other security protections. This prevention significantly reduces the severity of kernel attacks and limits the effectiveness of exploits that would typically cripple a mobile device. Since RKP is always active and requires no management control, kernel protection is only possible if it meets strict usability and performance requirements\", metadata={'source': 'all_processed_data.json', 'seq_num': 121, 'title': 'Real-time Kernel Protection (RKP)', 'url': 'https://docs.samsungknox.com/admin/fundamentals/whitepaper/core-platform-security/real-time-kernel-protection', 'project': 'USP', 'last_updated': '2023-07-26', 'id': 'c9f40b3b-8139-4668-be8f-786ac87ebe9d'}), 0.01575027981277981), (Document(page_content=\". Page Table Protection (PTP): Protects against any attempt to forge or manipulate the Kernel and user page table. Kernel Data Protection (KDP): Protects against any attempt to forge or manipulate the Kernel namespace/credential/security ID/double map including kernel code, kernel data, and kernel control flow protections. Control Flow Protection (CFP): Prevents Return-Oriented Programming (ROP) and Jump-Oriented Programming (JOP) attacks that re-use existing kernel logic to piece together exploits from the kernel's own code. DualDAR Encryption With a single instance of encryption, potential flaws in the implementation can result in a single point of failure. KPE DualDAR provides two independent layers of encryption to achieve an even higher level of reliability by enabling redundancies in protecting Data-At-Rest. You can further strengthen data encryption by using a third-party cryptographic module to customize encryption. This dual encryption is required for classified deployments\", metadata={'source': 'all_processed_data.json', 'seq_num': 108, 'title': 'Feature Summary', 'url': 'https://docs.samsungknox.com/admin/fundamentals/whitepaper/feature-summary', 'project': 'USP', 'last_updated': '2023-07-26', 'id': '73684ee1-3ee9-4708-9cce-e230d5d20118'}), 0.015586207773707771)]\n",
      "##############################\n",
      "similar_docs_keyword\n",
      "##############################\n",
      "[(Document(page_content='. This unique ability enables RKP to detect and prevent the most common kernel attacks. RKP protections are grouped into three areas: Kernel code - RKP\"prevents modification of kernel code and logic. Kernel data - RKP\"prevents modification of critical kernel data structures. Kernel control flow - RKP\"prevents Return-Oriented Programming (ROP) and Jump-Oriented Programming (JOP) attacks that reuse existing kernel logic to piece together exploits from the kernel\\'s own code. How is kernel protection possible? A kernel protection mechanism can\\'t exist completely in the kernel only, since an attacker could circumvent it if the kernel itself has a flaw. The kernel is the lowest granular control level over the OS and, as such, usually can\\'t be effectively monitored from any lower level in the system. RKP uniquely employs a security monitor within an isolated execution environment', metadata={'source': 'all_processed_data.json', 'seq_num': 121, 'title': 'Real-time Kernel Protection (RKP)', 'url': 'https://docs.samsungknox.com/admin/fundamentals/whitepaper/core-platform-security/real-time-kernel-protection', 'project': 'USP', 'last_updated': '2023-07-26', 'id': 'b0b8363f-b92a-42a2-81d5-41c016e437e1'}), 1.0), (Document(page_content='. Other more commonplace protections like Secure Boot or hardware-backed keystores are of little value if the kernel itself is controlled at runtime. After a device boots and decrypts sensitive content, a kernel compromise can result in data leaks that directly impact an enterprise\\'s data integrity. RKP design and structure As part of the Knox Platform\\'s security offerings, RKP employs a security monitor within an isolated execution environment. Depending on the device model, either a dedicated hypervisor or the hardware-backed secure world provided by ARM TrustZone technology provides the isolated execution environment. RKP\\'s isolation from the kernel shrinks the Trusted Computing Base (TCB) and helps secure it from attacks designed to compromise the kernel. This unique ability enables RKP to detect and prevent the most common kernel attacks. RKP protections are grouped into three areas: Kernel code - RKP\"prevents modification of kernel code and logic', metadata={'source': 'all_processed_data.json', 'seq_num': 121, 'title': 'Real-time Kernel Protection (RKP)', 'url': 'https://docs.samsungknox.com/admin/fundamentals/whitepaper/core-platform-security/real-time-kernel-protection', 'project': 'USP', 'last_updated': '2023-07-26', 'id': 'd7c2fa78-4e8b-4150-b786-83dec01fd9be'}), 0.643548418209918), (Document(page_content='. Since RKP is always active and requires no management control, kernel protection is only possible if it meets strict usability and performance requirements. RKP\\'s protections are activated out-of-the-box, with no performance impact to customers. #Periodic Kernel Measurement (PKM) The _TrustZone-based Integrity Measurement Architecture_ (TIMA) architecture provides a number of core features to protect against mobile device compromise. One of these central TIMA features is _Periodic Kernel Measurement_ (PKM). PKM periodically monitors the kernel to detect if legitimate kernel code and data were modified maliciously. PKM also monitors the key SE for Android data structures in OS kernel memory to prevent malicious attacks from corrupting and potentially disabling SE for Android. PKM\"protects the Linux kernel code and data pages from malicious exploits and helps prevent attacks attempting to disable SE for Android', metadata={'source': 'all_processed_data.json', 'seq_num': 121, 'title': 'Real-time Kernel Protection (RKP)', 'url': 'https://docs.samsungknox.com/admin/fundamentals/whitepaper/core-platform-security/real-time-kernel-protection', 'project': 'USP', 'last_updated': '2023-07-26', 'id': 'fa4f5f09-0f2a-48c2-af4f-de5b83edc35e'}), 0.642792386139465), (Document(page_content=\". The kernel is the lowest granular control level over the OS and, as such, usually can't be effectively monitored from any lower level in the system. RKP uniquely employs a security monitor within an isolated execution environment. Running within an isolated execution environment would normally compromise a security mechanism's ability to see into the kernel and monitor activities at runtime. However, RKP succeeds by utilizing patented techniques to control device memory management and by intercepting and inspecting critical kernel actions before allowing them to execute. RKP is thus able to prevent a compromised kernel from bypassing other security protections. This prevention significantly reduces the severity of kernel attacks and limits the effectiveness of exploits that would typically cripple a mobile device. Since RKP is always active and requires no management control, kernel protection is only possible if it meets strict usability and performance requirements\", metadata={'source': 'all_processed_data.json', 'seq_num': 121, 'title': 'Real-time Kernel Protection (RKP)', 'url': 'https://docs.samsungknox.com/admin/fundamentals/whitepaper/core-platform-security/real-time-kernel-protection', 'project': 'USP', 'last_updated': '2023-07-26', 'id': 'c9f40b3b-8139-4668-be8f-786ac87ebe9d'}), 0.5041382740231419)]\n",
      "##############################\n",
      "similar_docs\n",
      "##############################\n",
      "[(Document(page_content='. This unique ability enables RKP to detect and prevent the most common kernel attacks. RKP protections are grouped into three areas: Kernel code - RKP\"prevents modification of kernel code and logic. Kernel data - RKP\"prevents modification of critical kernel data structures. Kernel control flow - RKP\"prevents Return-Oriented Programming (ROP) and Jump-Oriented Programming (JOP) attacks that reuse existing kernel logic to piece together exploits from the kernel\\'s own code. How is kernel protection possible? A kernel protection mechanism can\\'t exist completely in the kernel only, since an attacker could circumvent it if the kernel itself has a flaw. The kernel is the lowest granular control level over the OS and, as such, usually can\\'t be effectively monitored from any lower level in the system. RKP uniquely employs a security monitor within an isolated execution environment', metadata={'source': 'all_processed_data.json', 'seq_num': 121, 'title': 'Real-time Kernel Protection (RKP)', 'url': 'https://docs.samsungknox.com/admin/fundamentals/whitepaper/core-platform-security/real-time-kernel-protection', 'project': 'USP', 'last_updated': '2023-07-26', 'id': 'b0b8363f-b92a-42a2-81d5-41c016e437e1'}), 0.995341420173645), (Document(page_content=\". The kernel is the lowest granular control level over the OS and, as such, usually can't be effectively monitored from any lower level in the system. RKP uniquely employs a security monitor within an isolated execution environment. Running within an isolated execution environment would normally compromise a security mechanism's ability to see into the kernel and monitor activities at runtime. However, RKP succeeds by utilizing patented techniques to control device memory management and by intercepting and inspecting critical kernel actions before allowing them to execute. RKP is thus able to prevent a compromised kernel from bypassing other security protections. This prevention significantly reduces the severity of kernel attacks and limits the effectiveness of exploits that would typically cripple a mobile device. Since RKP is always active and requires no management control, kernel protection is only possible if it meets strict usability and performance requirements\", metadata={'source': 'all_processed_data.json', 'seq_num': 121, 'title': 'Real-time Kernel Protection (RKP)', 'url': 'https://docs.samsungknox.com/admin/fundamentals/whitepaper/core-platform-security/real-time-kernel-protection', 'project': 'USP', 'last_updated': '2023-07-26', 'id': 'c9f40b3b-8139-4668-be8f-786ac87ebe9d'}), 0.907402515411377), (Document(page_content='. Other more commonplace protections like Secure Boot or hardware-backed keystores are of little value if the kernel itself is controlled at runtime. After a device boots and decrypts sensitive content, a kernel compromise can result in data leaks that directly impact an enterprise\\'s data integrity. RKP design and structure As part of the Knox Platform\\'s security offerings, RKP employs a security monitor within an isolated execution environment. Depending on the device model, either a dedicated hypervisor or the hardware-backed secure world provided by ARM TrustZone technology provides the isolated execution environment. RKP\\'s isolation from the kernel shrinks the Trusted Computing Base (TCB) and helps secure it from attacks designed to compromise the kernel. This unique ability enables RKP to detect and prevent the most common kernel attacks. RKP protections are grouped into three areas: Kernel code - RKP\"prevents modification of kernel code and logic', metadata={'source': 'all_processed_data.json', 'seq_num': 121, 'title': 'Real-time Kernel Protection (RKP)', 'url': 'https://docs.samsungknox.com/admin/fundamentals/whitepaper/core-platform-security/real-time-kernel-protection', 'project': 'USP', 'last_updated': '2023-07-26', 'id': 'd7c2fa78-4e8b-4150-b786-83dec01fd9be'}), 0.8904443979263306)]\n"
     ]
    }
   ],
   "source": [
    "query = \"How does RKP protect critical kernel data structures from modification?\"\n",
    "response = qa(query)"
   ]
  },
  {
   "cell_type": "code",
   "execution_count": 56,
   "id": "01e77dad-dc19-416b-80e7-19fac3b736a5",
   "metadata": {
    "tags": []
   },
   "outputs": [
    {
     "name": "stdout",
     "output_type": "stream",
     "text": [
      "##################################\n",
      "query:  How does RKP protect critical kernel data structures from modification?\n",
      "##################################\n",
      "\u001b[34m\n",
      "\n",
      "### Answer ###\u001b[0m\n",
      " Based on the given context, RKP protects critical kernel data structures from modification by:\n",
      "\n",
      "Preventing modification of kernel data - RKP \"prevents modification of critical kernel data\n",
      "structures.\"\n",
      "\u001b[32m\n",
      "\n",
      "### Contexts ###\u001b[0m\n",
      "-----------------------------------------------\n",
      "1. Chunk: 885 Characters\n",
      "-----------------------------------------------\n",
      ". This unique ability enables RKP to detect and prevent the most common kernel attacks. RKP\n",
      "protections are grouped into three areas: Kernel code - RKP\"prevents modification of kernel code and\n",
      "logic. Kernel data - RKP\"prevents modification of critical kernel data structures. Kernel control\n",
      "flow - RKP\"prevents Return-Oriented Programming (ROP) and Jump-Oriented Programming (JOP) attacks\n",
      "that reuse existing kernel logic to piece together exploits from the kernel's own code. How is\n",
      "kernel protection possible? A kernel protection mechanism can't exist completely in the kernel only,\n",
      "since an attacker could circumvent it if the kernel itself has a flaw. The kernel is the lowest\n",
      "granular control level over the OS and, as such, usually can't be effectively monitored from any\n",
      "lower level in the system. RKP uniquely employs a security monitor within an isolated execution\n",
      "environment\n",
      "metadata:\n",
      " {'source': 'all_processed_data.json', 'seq_num': 121, 'title': 'Real-time Kernel Protection (RKP)',\n",
      "'url': 'https://docs.samsungknox.com/admin/fundamentals/whitepaper/core-platform-security/real-time-\n",
      "kernel-protection', 'project': 'USP', 'last_updated': '2023-07-26', 'id':\n",
      "'b0b8363f-b92a-42a2-81d5-41c016e437e1'}\n",
      "-----------------------------------------------\n",
      "2. Chunk: 983 Characters\n",
      "-----------------------------------------------\n",
      ". The kernel is the lowest granular control level over the OS and, as such, usually can't be\n",
      "effectively monitored from any lower level in the system. RKP uniquely employs a security monitor\n",
      "within an isolated execution environment. Running within an isolated execution environment would\n",
      "normally compromise a security mechanism's ability to see into the kernel and monitor activities at\n",
      "runtime. However, RKP succeeds by utilizing patented techniques to control device memory management\n",
      "and by intercepting and inspecting critical kernel actions before allowing them to execute. RKP is\n",
      "thus able to prevent a compromised kernel from bypassing other security protections. This prevention\n",
      "significantly reduces the severity of kernel attacks and limits the effectiveness of exploits that\n",
      "would typically cripple a mobile device. Since RKP is always active and requires no management\n",
      "control, kernel protection is only possible if it meets strict usability and performance\n",
      "requirements\n",
      "metadata:\n",
      " {'source': 'all_processed_data.json', 'seq_num': 121, 'title': 'Real-time Kernel Protection (RKP)',\n",
      "'url': 'https://docs.samsungknox.com/admin/fundamentals/whitepaper/core-platform-security/real-time-\n",
      "kernel-protection', 'project': 'USP', 'last_updated': '2023-07-26', 'id':\n",
      "'c9f40b3b-8139-4668-be8f-786ac87ebe9d'}\n",
      "-----------------------------------------------\n",
      "3. Chunk: 966 Characters\n",
      "-----------------------------------------------\n",
      ". Other more commonplace protections like Secure Boot or hardware-backed keystores are of little\n",
      "value if the kernel itself is controlled at runtime. After a device boots and decrypts sensitive\n",
      "content, a kernel compromise can result in data leaks that directly impact an enterprise's data\n",
      "integrity. RKP design and structure As part of the Knox Platform's security offerings, RKP employs a\n",
      "security monitor within an isolated execution environment. Depending on the device model, either a\n",
      "dedicated hypervisor or the hardware-backed secure world provided by ARM TrustZone technology\n",
      "provides the isolated execution environment. RKP's isolation from the kernel shrinks the Trusted\n",
      "Computing Base (TCB) and helps secure it from attacks designed to compromise the kernel. This unique\n",
      "ability enables RKP to detect and prevent the most common kernel attacks. RKP protections are\n",
      "grouped into three areas: Kernel code - RKP\"prevents modification of kernel code and logic\n",
      "metadata:\n",
      " {'source': 'all_processed_data.json', 'seq_num': 121, 'title': 'Real-time Kernel Protection (RKP)',\n",
      "'url': 'https://docs.samsungknox.com/admin/fundamentals/whitepaper/core-platform-security/real-time-\n",
      "kernel-protection', 'project': 'USP', 'last_updated': '2023-07-26', 'id':\n",
      "'d7c2fa78-4e8b-4150-b786-83dec01fd9be'}\n"
     ]
    }
   ],
   "source": [
    "print(\"##################################\")\n",
    "print(\"query: \", query)\n",
    "print(\"##################################\")\n",
    "\n",
    "print (colored(\"\\n\\n### Answer ###\", \"blue\"))\n",
    "print_ww(response['result'])\n",
    "\n",
    "print (colored(\"\\n\\n### Contexts ###\", \"green\"))\n",
    "show_context_used(response['source_documents'])"
   ]
  },
  {
   "cell_type": "code",
   "execution_count": null,
   "id": "04f0a647-b2ef-482e-9ecd-625d40f51b20",
   "metadata": {},
   "outputs": [],
   "source": []
  }
 ],
 "metadata": {
  "kernelspec": {
   "display_name": "conda_python3",
   "language": "python",
   "name": "conda_python3"
  },
  "language_info": {
   "codemirror_mode": {
    "name": "ipython",
    "version": 3
   },
   "file_extension": ".py",
   "mimetype": "text/x-python",
   "name": "python",
   "nbconvert_exporter": "python",
   "pygments_lexer": "ipython3",
   "version": "3.10.12"
  }
 },
 "nbformat": 4,
 "nbformat_minor": 5
}
