{
 "cells": [
  {
   "cell_type": "markdown",
   "id": "5deb2df2-413d-49bd-a829-3a1fc344937e",
   "metadata": {},
   "source": [
    "# RAG Based on RAG-Fusion\n",
    "- Hybrid Search\n",
    "- ReRanker\n",
    "- RAG-Fusion"
   ]
  },
  {
   "cell_type": "markdown",
   "id": "b1f81abc-3277-4a6b-9ef1-d4f997d67fbe",
   "metadata": {},
   "source": [
    "## Setting\n",
    " - Auto Reload\n",
    " - path for utils"
   ]
  },
  {
   "cell_type": "code",
   "execution_count": 1,
   "id": "ddde4105-b759-4d6c-8214-8e1ab485ae48",
   "metadata": {
    "tags": []
   },
   "outputs": [],
   "source": [
    "%load_ext autoreload\n",
    "%autoreload 2"
   ]
  },
  {
   "cell_type": "code",
   "execution_count": 2,
   "id": "57c2cdb1-d785-4317-afce-938f13141085",
   "metadata": {
    "tags": []
   },
   "outputs": [],
   "source": [
    "import sys, os\n",
    "module_path = \"../../..\"\n",
    "sys.path.append(os.path.abspath(module_path))"
   ]
  },
  {
   "cell_type": "markdown",
   "id": "9c4ade56-8dbc-4ded-b355-7e4bcc971e90",
   "metadata": {},
   "source": [
    "## 1. Bedrock Client 생성"
   ]
  },
  {
   "cell_type": "code",
   "execution_count": 3,
   "id": "cc2d877f-e877-48f6-8dd4-239de20e45cd",
   "metadata": {
    "tags": []
   },
   "outputs": [],
   "source": [
    "import json\n",
    "import boto3\n",
    "from pprint import pprint\n",
    "from termcolor import colored\n",
    "from utils import bedrock, print_ww\n",
    "from utils.bedrock import bedrock_info"
   ]
  },
  {
   "cell_type": "markdown",
   "id": "088e6490-c79a-49e4-841c-9fdb91292608",
   "metadata": {},
   "source": [
    "### ---- ⚠️ Un-comment and edit the below lines as needed for your AWS setup ⚠️ ----\n",
    "- os.environ[\"AWS_DEFAULT_REGION\"] = \"<REGION_NAME>\"  # E.g. \"us-east-1\"\n",
    "- os.environ[\"AWS_PROFILE\"] = \"<YOUR_PROFILE>\"\n",
    "- os.environ[\"BEDROCK_ASSUME_ROLE\"] = \"<YOUR_ROLE_ARN>\"  # E.g. \"arn:aws:...\"\n",
    "- os.environ[\"BEDROCK_ENDPOINT_URL\"] = \"<YOUR_ENDPOINT_URL>\"  # E.g. \"https://...\""
   ]
  },
  {
   "cell_type": "code",
   "execution_count": 4,
   "id": "cab9312c-5f61-4730-96c3-5eef54a5f08c",
   "metadata": {
    "tags": []
   },
   "outputs": [
    {
     "name": "stdout",
     "output_type": "stream",
     "text": [
      "Create new client\n",
      "  Using region: None\n",
      "  Using profile: None\n",
      "boto3 Bedrock client successfully created!\n",
      "bedrock-runtime(https://bedrock-runtime.us-east-1.amazonaws.com)\n",
      "\u001b[32m\n",
      "== FM lists ==\u001b[0m\n",
      "{'Claude-Instant-V1': 'anthropic.claude-instant-v1',\n",
      " 'Claude-V1': 'anthropic.claude-v1',\n",
      " 'Claude-V2': 'anthropic.claude-v2',\n",
      " 'Cohere-Embeddings-En': 'cohere.embed-english-v3',\n",
      " 'Cohere-Embeddings-Multilingual': 'cohere.embed-multilingual-v3',\n",
      " 'Command': 'cohere.command-text-v14',\n",
      " 'Command-Light': 'cohere.command-light-text-v14',\n",
      " 'Jurassic-2-Mid': 'ai21.j2-mid-v1',\n",
      " 'Jurassic-2-Ultra': 'ai21.j2-ultra-v1',\n",
      " 'Llama2-13b-Chat': 'meta.llama2-13b-chat-v1',\n",
      " 'Titan-Embeddings-G1': 'amazon.titan-embed-text-v1',\n",
      " 'Titan-Text-G1': 'amazon.titan-text-express-v1',\n",
      " 'Titan-Text-G1-Light': 'amazon.titan-text-lite-v1'}\n"
     ]
    }
   ],
   "source": [
    "boto3_bedrock = bedrock.get_bedrock_client(\n",
    "    assumed_role=os.environ.get(\"BEDROCK_ASSUME_ROLE\", None),\n",
    "    endpoint_url=os.environ.get(\"BEDROCK_ENDPOINT_URL\", None),\n",
    "    region=os.environ.get(\"AWS_DEFAULT_REGION\", None),\n",
    ")\n",
    "\n",
    "aws_region = os.environ.get(\"AWS_DEFAULT_REGION\", None)\n",
    "print (colored(\"\\n== FM lists ==\", \"green\"))\n",
    "pprint (bedrock_info.get_list_fm_models())"
   ]
  },
  {
   "cell_type": "markdown",
   "id": "241a9e34-417a-422f-9f75-cb211b2e70e1",
   "metadata": {
    "tags": []
   },
   "source": [
    "## 2. Titan Embedding 및 LLM 인 Claude-v2 모델 로딩"
   ]
  },
  {
   "cell_type": "markdown",
   "id": "29bf63d2-4110-407c-af06-a45d2fbed4b5",
   "metadata": {},
   "source": [
    "### LLM 로딩 (Claude-v2)"
   ]
  },
  {
   "cell_type": "code",
   "execution_count": 5,
   "id": "9c51443a-04f9-465c-9564-53053eb3e1c2",
   "metadata": {
    "tags": []
   },
   "outputs": [],
   "source": [
    "from langchain.llms.bedrock import Bedrock\n",
    "from langchain.callbacks.streaming_stdout import StreamingStdOutCallbackHandler"
   ]
  },
  {
   "cell_type": "code",
   "execution_count": 6,
   "id": "d09e84e0-b9e1-4b12-8e7a-68f03c5416e5",
   "metadata": {
    "tags": []
   },
   "outputs": [
    {
     "data": {
      "text/plain": [
       "Bedrock(client=<botocore.client.BedrockRuntime object at 0x7fe9680b5d50>, model_id='anthropic.claude-v2', model_kwargs={'max_tokens_to_sample': 512}, callbacks=[<langchain_core.callbacks.streaming_stdout.StreamingStdOutCallbackHandler object at 0x7fe968663c70>])"
      ]
     },
     "execution_count": 6,
     "metadata": {},
     "output_type": "execute_result"
    }
   ],
   "source": [
    "llm_text = Bedrock(\n",
    "    model_id=bedrock_info.get_model_id(model_name=\"Claude-V2\"),\n",
    "    client=boto3_bedrock,\n",
    "    model_kwargs={\n",
    "        \"max_tokens_to_sample\": 512\n",
    "    },\n",
    "    streaming=False,\n",
    "    callbacks=[StreamingStdOutCallbackHandler()]\n",
    ")\n",
    "\n",
    "llm_text"
   ]
  },
  {
   "cell_type": "markdown",
   "id": "3ba2e829-af8f-4e90-b994-59106cdec8d8",
   "metadata": {},
   "source": [
    "### Embedding 모델 선택"
   ]
  },
  {
   "cell_type": "code",
   "execution_count": 7,
   "id": "0b7b8752-d1e3-4f41-ba35-6da42c3785db",
   "metadata": {
    "tags": []
   },
   "outputs": [],
   "source": [
    "from utils.rag import KoSimCSERobertaContentHandler, SagemakerEndpointEmbeddingsJumpStart"
   ]
  },
  {
   "cell_type": "code",
   "execution_count": 8,
   "id": "793b03f7-3186-4969-b76a-98fe56bd5fdc",
   "metadata": {
    "tags": []
   },
   "outputs": [],
   "source": [
    "def get_embedding_model(is_bedrock_embeddings, is_KoSimCSERobert, aws_region, endpont_name=None):\n",
    "    \n",
    "    if is_bedrock_embeddings:\n",
    "        # We will be using the Titan Embeddings Model to generate our Embeddings.\n",
    "        from langchain.embeddings import BedrockEmbeddings\n",
    "        llm_emb = BedrockEmbeddings(\n",
    "            client=boto3_bedrock,\n",
    "            model_id=bedrock_info.get_model_id(\n",
    "                model_name=\"Titan-Embeddings-G1\"\n",
    "            )\n",
    "        )\n",
    "        print(\"Bedrock Embeddings Model Loaded\")\n",
    "\n",
    "    elif is_KoSimCSERobert:\n",
    "        LLMEmbHandler = KoSimCSERobertaContentHandler()\n",
    "        endpoint_name_emb = endpont_name\n",
    "        llm_emb = SagemakerEndpointEmbeddingsJumpStart(\n",
    "            endpoint_name=endpoint_name_emb,\n",
    "            region_name=aws_region,\n",
    "            content_handler=LLMEmbHandler,\n",
    "        )        \n",
    "        print(\"KoSimCSERobert Embeddings Model Loaded\")\n",
    "    else:\n",
    "        llm_emb = None\n",
    "        print(\"No Embedding Model Selected\")\n",
    "    \n",
    "    return llm_emb"
   ]
  },
  {
   "cell_type": "markdown",
   "id": "cd72a6b8-eaf0-4036-a530-3bde5ba988cd",
   "metadata": {},
   "source": [
    "#### [중요] is_KoSimCSERobert == True 일시에 endpoint_name 을 꼭 넣어 주세요."
   ]
  },
  {
   "cell_type": "code",
   "execution_count": 9,
   "id": "f42e032b-8715-432c-ae71-12a889f8ffc0",
   "metadata": {
    "tags": []
   },
   "outputs": [
    {
     "name": "stdout",
     "output_type": "stream",
     "text": [
      "Bedrock Embeddings Model Loaded\n"
     ]
    }
   ],
   "source": [
    "is_bedrock_embeddings = True\n",
    "is_KoSimCSERobert = False\n",
    "aws_region = os.environ.get(\"AWS_DEFAULT_REGION\", None)\n",
    "\n",
    "##############################\n",
    "# Parameters for is_KoSimCSERobert\n",
    "##############################\n",
    "if is_KoSimCSERobert: endpont_name = \"<endpoint-name>\"\n",
    "else: endpont_name = None\n",
    "##############################\n",
    "\n",
    "llm_emb = get_embedding_model(is_bedrock_embeddings, is_KoSimCSERobert, aws_region, endpont_name)   "
   ]
  },
  {
   "cell_type": "markdown",
   "id": "e10b67d5-382e-4715-a841-eb07b8655da8",
   "metadata": {},
   "source": [
    "## 3. Depoly ReRanker model (if needed)"
   ]
  },
  {
   "cell_type": "code",
   "execution_count": 10,
   "id": "9a08a296-41ef-44cb-857b-63d05a8d187c",
   "metadata": {
    "tags": []
   },
   "outputs": [
    {
     "name": "stdout",
     "output_type": "stream",
     "text": [
      "sagemaker.config INFO - Not applying SDK defaults from location: /etc/xdg/sagemaker/config.yaml\n",
      "sagemaker.config INFO - Not applying SDK defaults from location: /home/ec2-user/.config/sagemaker/config.yaml\n"
     ]
    }
   ],
   "source": [
    "import json\n",
    "import sagemaker\n",
    "from sagemaker.huggingface import HuggingFaceModel"
   ]
  },
  {
   "cell_type": "code",
   "execution_count": 11,
   "id": "33dd04a7-8200-49e7-ae69-55a82be199b4",
   "metadata": {
    "tags": []
   },
   "outputs": [],
   "source": [
    "depoly = False"
   ]
  },
  {
   "cell_type": "code",
   "execution_count": 12,
   "id": "9d40e3dd-a19f-4af3-831a-0cfe79e72cb3",
   "metadata": {
    "tags": []
   },
   "outputs": [],
   "source": [
    "if depoly:\n",
    "\n",
    "    try:\n",
    "        role = sagemaker.get_execution_role()\n",
    "    except ValueError:\n",
    "        iam = boto3.client('iam')\n",
    "        role = iam.get_role(RoleName='sagemaker_execution_role')['Role']['Arn']\n",
    "\n",
    "    # Hub Model configuration. https://huggingface.co/models\n",
    "    hub = {\n",
    "        'HF_MODEL_ID':'BAAI/bge-reranker-large',\n",
    "        'HF_TASK':'text-classification'\n",
    "    }\n",
    "\n",
    "    # create Hugging Face Model Class\n",
    "    huggingface_model = HuggingFaceModel(\n",
    "        transformers_version='4.26.0',\n",
    "        pytorch_version='1.13.1',\n",
    "        py_version='py39',\n",
    "        env=hub,\n",
    "        role=role, \n",
    "    )\n",
    "\n",
    "    # deploy model to SageMaker Inference\n",
    "    predictor = huggingface_model.deploy(\n",
    "        initial_instance_count=1, # number of instances\n",
    "        instance_type='ml.g5.xlarge' # instance type\n",
    "    )\n",
    "\n",
    "    print(f'Accept: {predictor.accept}')\n",
    "    print(f'ContentType: {predictor.content_type}')\n",
    "    print(f'Endpoint: {predictor.endpoint}')"
   ]
  },
  {
   "cell_type": "markdown",
   "id": "20e648ef-01ec-4e2f-ba88-7d2510fdb7a6",
   "metadata": {},
   "source": [
    "## 4. Invocation (prediction)"
   ]
  },
  {
   "cell_type": "code",
   "execution_count": 13,
   "id": "114be617-a687-4733-abb9-30394c7ef35f",
   "metadata": {
    "tags": []
   },
   "outputs": [
    {
     "name": "stdout",
     "output_type": "stream",
     "text": [
      "runtime_client: <botocore.client.SageMakerRuntime object at 0x7fe9404bfb80>\n"
     ]
    }
   ],
   "source": [
    "runtime_client = boto3.Session().client('sagemaker-runtime')\n",
    "print (f'runtime_client: {runtime_client}')"
   ]
  },
  {
   "cell_type": "code",
   "execution_count": 14,
   "id": "26ee5c45-de87-4a2b-bc04-bbc649fcd0c6",
   "metadata": {
    "tags": []
   },
   "outputs": [],
   "source": [
    "#endpoint_name = \"huggingface-pytorch-inference-2023-11-15-04-37-45-120\" # ml.m5.2xlarge\n",
    "endpoint_name = \"huggingface-pytorch-inference-2023-11-15-07-53-21-605\" # ml.g5.xlarge\n",
    "deserializer = \"application/json\""
   ]
  },
  {
   "cell_type": "code",
   "execution_count": 15,
   "id": "bd6288ed-b4fa-466f-9e2b-57484b827b0a",
   "metadata": {
    "tags": []
   },
   "outputs": [],
   "source": [
    "payload = json.dumps(\n",
    "    {\n",
    "        \"inputs\": [\n",
    "            {\"text\": \"I hate you\", \"text_pair\": \"I don't like you\"},\n",
    "            {\"text\": \"He hates you\", \"text_pair\": \"He like you\"}\n",
    "        ]\n",
    "    }\n",
    ")"
   ]
  },
  {
   "cell_type": "code",
   "execution_count": 16,
   "id": "c1eebe88-8b92-4e81-a103-b5a5d7a91bb3",
   "metadata": {
    "tags": []
   },
   "outputs": [
    {
     "name": "stdout",
     "output_type": "stream",
     "text": [
      "Response: [{'label': 'LABEL_0', 'score': 0.999653697013855}, {'label': 'LABEL_0', 'score': 0.025255175307393074}]\n",
      "CPU times: user 20.6 ms, sys: 213 µs, total: 20.8 ms\n",
      "Wall time: 85.9 ms\n"
     ]
    }
   ],
   "source": [
    "%%time\n",
    "response = runtime_client.invoke_endpoint(\n",
    "    EndpointName=endpoint_name,\n",
    "    ContentType=\"application/json\",\n",
    "    Accept=deserializer,\n",
    "    Body=payload\n",
    ")\n",
    "## deserialization\n",
    "out = json.loads(response['Body'].read().decode()) ## for json\n",
    "print (f'Response: {out}')"
   ]
  },
  {
   "cell_type": "markdown",
   "id": "7e432237-b9b5-4be3-aa0c-c30eeca6f480",
   "metadata": {},
   "source": [
    "## 5. LangChainmOpenSearch VectorStore 정의\n",
    "### 선수 조건\n",
    "- 01_preprocess_docs/02_load_docs_opensearch.ipynb를 통해서 OpenSearch Index 가 생성이 되어 있어야 합니다.\n",
    "#### [중요] 아래에 aws parameter store 에 아래 인증정보가 먼저 입력되어 있어야 합니다.\n",
    "- 01_preprocess_docs/01_parameter_store_example.ipynb 참고"
   ]
  },
  {
   "cell_type": "code",
   "execution_count": 17,
   "id": "635ffe33-b1b1-49f7-ae14-07b782d30a63",
   "metadata": {
    "tags": []
   },
   "outputs": [],
   "source": [
    "from utils.proc_docs import get_parameter"
   ]
  },
  {
   "cell_type": "code",
   "execution_count": 18,
   "id": "42d192b6-68ce-465e-9fa7-04b5201f4453",
   "metadata": {
    "tags": []
   },
   "outputs": [],
   "source": [
    "ssm = boto3.client(\"ssm\", \"us-east-1\")\n",
    "\n",
    "opensearch_domain_endpoint = get_parameter(\n",
    "    boto3_clinet = ssm,\n",
    "    parameter_name = 'knox_opensearch_domain_endpoint',\n",
    ")\n",
    "\n",
    "opensearch_user_id = get_parameter(\n",
    "    boto3_clinet = ssm,\n",
    "    parameter_name = 'knox_opensearch_userid',\n",
    ")\n",
    "\n",
    "opensearch_user_password = get_parameter(\n",
    "    boto3_clinet = ssm,\n",
    "    parameter_name = 'knox_opensearch_password',\n",
    ")"
   ]
  },
  {
   "cell_type": "code",
   "execution_count": 19,
   "id": "fc7866fd-fd9c-4b41-b600-a91e43edfe4d",
   "metadata": {
    "tags": []
   },
   "outputs": [],
   "source": [
    "opensearch_domain_endpoint = opensearch_domain_endpoint\n",
    "rag_user_name = opensearch_user_id\n",
    "rag_user_password = opensearch_user_password\n",
    "\n",
    "http_auth = (rag_user_name, rag_user_password) # Master username, Master password"
   ]
  },
  {
   "cell_type": "markdown",
   "id": "161a900e-effc-4d7f-a179-b6c00eac03ad",
   "metadata": {
    "tags": []
   },
   "source": [
    "### Index 이름 셋팅\n",
    "- 이전 노트북 01_preprocess_docs/02_load_docs_opensearch.ipynb를 통해서 생성된 OpenSearch Index name 입력"
   ]
  },
  {
   "cell_type": "code",
   "execution_count": 20,
   "id": "d5d9b5eb-052e-4e84-846b-c5385e853ba4",
   "metadata": {
    "tags": []
   },
   "outputs": [],
   "source": [
    "index_name = \"v13-genai-poc-knox-titan-eval-sample-0.05-1024c-256o\""
   ]
  },
  {
   "cell_type": "markdown",
   "id": "482f5785-b88d-44fa-a603-080e4bd734a6",
   "metadata": {},
   "source": [
    "### OpenSearch Client 생성"
   ]
  },
  {
   "cell_type": "code",
   "execution_count": 21,
   "id": "968b7502-5799-4702-bc17-959e88c330a2",
   "metadata": {
    "tags": []
   },
   "outputs": [],
   "source": [
    "from utils.opensearch import opensearch_utils"
   ]
  },
  {
   "cell_type": "code",
   "execution_count": 22,
   "id": "6ceb46a1-e425-4f7e-9319-793b55abb938",
   "metadata": {
    "tags": []
   },
   "outputs": [],
   "source": [
    "os_client = opensearch_utils.create_aws_opensearch_client(\n",
    "    aws_region,\n",
    "    opensearch_domain_endpoint,\n",
    "    http_auth\n",
    ")"
   ]
  },
  {
   "cell_type": "markdown",
   "id": "98bde525-506d-4667-9fc3-bc06dcaba93a",
   "metadata": {
    "tags": []
   },
   "source": [
    "### LangChain OpenSearch VectorStore 생성"
   ]
  },
  {
   "cell_type": "code",
   "execution_count": 23,
   "id": "7e13238f-4ff7-4f7f-b83e-04b4563bd90a",
   "metadata": {
    "tags": []
   },
   "outputs": [],
   "source": [
    "from langchain.vectorstores import OpenSearchVectorSearch"
   ]
  },
  {
   "cell_type": "code",
   "execution_count": 24,
   "id": "dd444329-cdbe-4843-9092-791840138a3a",
   "metadata": {
    "tags": []
   },
   "outputs": [
    {
     "data": {
      "text/plain": [
       "<langchain.vectorstores.opensearch_vector_search.OpenSearchVectorSearch at 0x7fe954697100>"
      ]
     },
     "execution_count": 24,
     "metadata": {},
     "output_type": "execute_result"
    }
   ],
   "source": [
    "vector_db = OpenSearchVectorSearch(\n",
    "    index_name=index_name,\n",
    "    opensearch_url=opensearch_domain_endpoint,\n",
    "    embedding_function=llm_emb,\n",
    "    http_auth=http_auth, # http_auth\n",
    "    is_aoss =False,\n",
    "    engine=\"faiss\",\n",
    "    space_type=\"l2\"\n",
    ")\n",
    "vector_db"
   ]
  },
  {
   "cell_type": "markdown",
   "id": "a5084376-7523-4cf9-9123-adc4ae79f66d",
   "metadata": {
    "tags": []
   },
   "source": [
    "## 6. Retriever based on Hybrid Search + RAG-Fusion + ReRanker\n",
    "- LangChain에서 제공하는 **BaseRetriever** 클래스를 상속받아 **Custom Retriever**를 정의 할 수 있습니다.\n",
    "- Hybrid-Search에 대한 자세한 내용는 **\"01_rag_hybrid_search.ipyno\"** 에서 확인 가능합니다.\n",
    "- [RAG-Fusion](https://towardsdatascience.com/forget-rag-the-future-is-rag-fusion-1147298d8ad1)\n",
    "![rag-fusion.png](../../../imgs/rag-fusion.png)"
   ]
  },
  {
   "cell_type": "code",
   "execution_count": 25,
   "id": "5db8e470-63a9-4c3d-94c8-1d270a6da822",
   "metadata": {
    "tags": []
   },
   "outputs": [],
   "source": [
    "from utils.rag import OpenSearchHybridSearchRetriever"
   ]
  },
  {
   "cell_type": "markdown",
   "id": "d7feac2f-21a2-4756-b989-66c180bb1e79",
   "metadata": {},
   "source": [
    "- 필터 설정 예시\n",
    "- filter=[ <BR>\n",
    "    　{\"term\": {\"metadata.[**your_metadata_attribute_name**]\": \"**your first keyword**\"}}, <BR>\n",
    "    　{\"term\": {\"metadata.[**your_metadata_attribute_name**]\": \"**your second keyword**\"}},<BR>\n",
    "]"
   ]
  },
  {
   "cell_type": "code",
   "execution_count": 26,
   "id": "49c7e131-294f-4ff8-9331-989709c7079c",
   "metadata": {
    "tags": []
   },
   "outputs": [],
   "source": [
    "opensearch_hybrid_retriever = OpenSearchHybridSearchRetriever(\n",
    "    # necessary\n",
    "    os_client=os_client,\n",
    "    vector_db=vector_db,\n",
    "    index_name=index_name,\n",
    "    llm_text=llm_text, # llm for query augmentation in rag_fusion\n",
    "    llm_emb=llm_emb,\n",
    "\n",
    "    # option for lexical\n",
    "    minimum_should_match=0,\n",
    "    filter=[],\n",
    "\n",
    "    # option for search\n",
    "    fusion_algorithm=\"RRF\", # [\"RRF\", \"simple_weighted\"], rank fusion 방식 정의\n",
    "    ensemble_weights=[.5, .5], # [for lexical, for semantic], Lexical, Semantic search 결과에 대한 최종 반영 비율 정의\n",
    "    reranker=True, # enable reranker with reranker model\n",
    "    reranker_endpoint_name=endpoint_name, # endpoint name for reranking model\n",
    "    rag_fusion=True, # enable rag_fusion\n",
    "    query_augmentation_size=3, # query_augmentation_size in rag_fusion\n",
    "    \n",
    "    # option for async search\n",
    "    async_mode=True,\n",
    "\n",
    "    # option for output\n",
    "    k=5, # 최종 Document 수 정의\n",
    "    verbose=True\n",
    ")"
   ]
  },
  {
   "cell_type": "markdown",
   "id": "cfb26835-ad98-41c5-9e9d-2453642e3551",
   "metadata": {},
   "source": [
    "### Retrieval example\n",
    "- default search"
   ]
  },
  {
   "cell_type": "code",
   "execution_count": 27,
   "id": "9c06e89f-79de-413c-ba9c-a188ca3fe2d0",
   "metadata": {
    "tags": []
   },
   "outputs": [],
   "source": [
    "from utils.rag import show_context_used"
   ]
  },
  {
   "cell_type": "code",
   "execution_count": 28,
   "id": "fe3bfee3-dac1-45b9-8795-03e36c1632a9",
   "metadata": {
    "tags": []
   },
   "outputs": [],
   "source": [
    "query = \"what is verify DM\""
   ]
  },
  {
   "cell_type": "code",
   "execution_count": 29,
   "id": "05b13e5e-4a66-4dc8-b18c-42a6e3bd6037",
   "metadata": {
    "tags": []
   },
   "outputs": [
    {
     "name": "stdout",
     "output_type": "stream",
     "text": [
      "===== RAG-Fusion Queries =====\n",
      "['what is verify DM', \"1. How does Twitter's verified badge work?\", '2. What does it mean to have a verified account on social media? ', '3. How to get verified on platforms like Twitter, Instagram, and Facebook.']\n",
      "##############################\n",
      "async_mode\n",
      "##############################\n",
      "True\n",
      "##############################\n",
      "reranker\n",
      "##############################\n",
      "True\n",
      "##############################\n",
      "rag_fusion\n",
      "##############################\n",
      "True\n",
      "##############################\n",
      "HyDE\n",
      "##############################\n",
      "False\n",
      "##############################\n",
      "similar_docs_semantic\n",
      "##############################\n",
      "[(Document(page_content='. Confirm your Knox Suite license in the Knox Admin Portal To confirm your Knox Suite license in the Knox Admin Portal: 1. Click Licenses in the Knox Admin Portal navigation pane. The consolidated licenses page opens. Alternatively, from the main dashboard you can click ACTIVATE LICENSE on the Try Knox services for free card. 2. Confirm that the Knox Suite trial license was automatically generated and registered for you. You can also navigate to the consolidated licenses page through the individual Licenses page in the dashboard of each Knox service. Confirm your Knox Suite license on the Knox Manage console To confirm your license on the Knox Manage console: 1. Launch the Knox Manage console. 2. In the navigation pane, go to Setting > License. Confirm that the license key was automatically generated and registered for you. It must have the Knox Suite license type. For more information on license registration and management in the Knox Admin Portal, see Manage Knox licenses', metadata={'source': 'all_processed_data.json', 'seq_num': 72, 'title': 'Confirm and register your license', 'url': 'https://docs.samsungknox.com/admin/knox-suite/get-started/confirm-and-register-your-license', 'project': 'KS', 'last_updated': '2023-09-06', 'id': 'ff62c040-56de-4540-a099-d1737dbd6408'}), 0.014818881065493273), (Document(page_content=\". Otherwise, you're prompted to create one. 4. If you're prompted to create one, create a Samsung account. Read the service's terms and conditions. If you agree to all of them, select each one. Then, click Agree. Fill out the basic information for your account and click Next. Enter the verification code sent to your email. Click Done. Your Samsung account is now created. 5. You're then automatically redirected to apply for access to Knox Services. Verify the details of your Samsung Knox account and click NEXT: COMPANY INFO. Fill out the form with your company's details and click NEXT: AGREEMENT. Read the Samsung Knox agreements. If you agree to them, click AGREE. Your application for Knox Services is complete. Sign in to Samsung Knox 1. Go to SamsungKnox.com, hover over Sign in, then click Sign in under Samsung Account. 2. Enter your Samsung account email, then click Next. 3. Enter your Samsung account password, then click Sign in. You're now signed in and ready to start using Knox services and products\", metadata={'source': 'all_processed_data.json', 'seq_num': 73, 'title': 'Create a Samsung account', 'url': 'https://docs.samsungknox.com/admin/knox-suite/get-started/create-a-samsung-account', 'project': 'KS', 'last_updated': '2023-08-23', 'id': '55f18853-1da2-4a09-b299-3b486a5e15c8'}), 0.012295081967213115), (Document(page_content=\".com, hover over Sign in, then click Sign in under Samsung Account. 2. Enter your Samsung account email, then click Next. 3. Enter your Samsung account password, then click Sign in. You're now signed in and ready to start using Knox services and products. Tutorial Progress You've completed 1 of 3 steps! Next\", metadata={'source': 'all_processed_data.json', 'seq_num': 73, 'title': 'Create a Samsung account', 'url': 'https://docs.samsungknox.com/admin/knox-suite/get-started/create-a-samsung-account', 'project': 'KS', 'last_updated': '2023-08-23', 'id': '9969c68c-b793-453b-b910-5838b3ec1530'}), 0.011968766001024065), (Document(page_content=\"Create a Samsung account. To use Knox Suite, you need to create a Samsung account. If you already have a Samsung account, you can skip to the next procedure. Your Samsung account provides access to various Knox solutions and tools through the Knox Admin Portal. Your account also allows you to create support tickets if you're having issues with a product. A Samsung account is free and you can create one in just a few minutes. Personal email accounts, such as Gmail and Hotmail accounts, aren't accepted. To create a Samsung account: 1. Go to SamsungKnox.com. 2. Click GET STARTED in the top right corner. 3. Enter your work email address and select Knox Suite from the list of Knox solutions. Then, click CREATE MY ACCOUNT. If your email address is already associated with a Samsung account, you're prompted to sign in to your Samsung account. Otherwise, you're prompted to create one. 4. If you're prompted to create one, create a Samsung account. Read the service's terms and conditions\", metadata={'source': 'all_processed_data.json', 'seq_num': 73, 'title': 'Create a Samsung account', 'url': 'https://docs.samsungknox.com/admin/knox-suite/get-started/create-a-samsung-account', 'project': 'KS', 'last_updated': '2023-08-23', 'id': 'b297b1e8-5513-4a29-baf7-2e5b6d0c4a82'}), 0.011906762032770097), (Document(page_content=\"Apply for access to Knox Suite. Once you have a Samsung Knox account and access to Knox services, you can register for Knox Suite. 1. Sign in to SamsungKnox.com. 2. On the welcome screen that opens, click Get Started. The Set up your Knox Admin Portal page opens. 3. Select Knox Suite from the list of Knox cloud solutions and click Confirm. The Knox Admin Portal opens. 4. The last step to register for Knox Suite is to complete your registration for Knox Manage. In the navigation pane of the Knox Admin Portal, click Knox Manage. Confirm or fill out your details for your tenant ID in the page that opens. Your tenant ID identifies your Knox Manage account and allows you to sign in to Knox Manage through a direct URL. If your organization isn't signed up for Knox Services, your organization's domain makes up your unique tenant ID. Confirm that your organization's domain automatically filled the Tenant ID field and click Complete Registration\", metadata={'source': 'all_processed_data.json', 'seq_num': 71, 'title': 'Apply for access to Knox Suite', 'url': 'https://docs.samsungknox.com/admin/knox-suite/get-started/apply-for-access-to-knox-suite', 'project': 'KS', 'last_updated': '2023-08-23', 'id': '33ddbda0-4cfd-4302-939f-a4a19a68b867'}), 0.01148018648018648), (Document(page_content=\"How to receive a Knox customer ID. This article will guide you on how to receive a Knox customer ID. How to receive a Knox customer ID To get your Knox customer ID: 1. Create a Samsung account. 2. Apply for Knox Suite trial. 3. When your customer account is approved, you'll receive a customer ID. Provide your customer ID to your reseller, so they can upload your device details to SamsungKnox.com.\", metadata={'source': 'all_processed_data.json', 'seq_num': 86, 'title': 'How to receive a Knox customer ID', 'url': 'https://docs.samsungknox.com/admin/knox-suite/kbas/kba-how-to-receive-knox-customer-id', 'project': 'KS', 'last_updated': '2023-07-26', 'id': '3ebd4d5f-e222-4735-b722-8fb1daca9258'}), 0.011375592251950948), (Document(page_content=\". If your organization isn't signed up for Knox Services, your organization's domain makes up your unique tenant ID. Confirm that your organization's domain automatically filled the Tenant ID field and click Complete Registration. If your organization is already signed up for Knox Services, you need to define a prefix to differentiate your tenant from other tenants in your organization. Confirm that your organization's domain automatically filled the Organization Domain field and enter a prefix in the Prefix field. Your tenant ID should not exceed 50 characters. Click Complete Registration. In the pop up that opens, click Confirm and Complete. 5. You're now registered for Knox Suite. A trial Knox Suite license key is automatically generated when you apply for access to Knox Suite. You can find this in the Licenses tab of the Knox Admin Portal. Tutorial Progress You've completed 2 of 3 steps! Previous Next\", metadata={'source': 'all_processed_data.json', 'seq_num': 71, 'title': 'Apply for access to Knox Suite', 'url': 'https://docs.samsungknox.com/admin/knox-suite/get-started/apply-for-access-to-knox-suite', 'project': 'KS', 'last_updated': '2023-08-23', 'id': 'b35ffeb0-3267-4b08-8afa-ecfac0fa4c30'}), 0.011084284460052678)]\n",
      "##############################\n",
      "similar_docs_keyword\n",
      "##############################\n",
      "[(Document(page_content=\"Overview. Get started with the basics by learning what Knox Capture is and how it works. What is Knox Capture? To help explain what Knox Capture does, it may be helpful to start with an understanding of what a *wedge* scanner is, and how it relates to the Knox Capture solution. In traditional hardware-based barcode scanning terminology, a wedge scanner is a physical device that attaches between a keyboard and a computer. The keyboard attaches to the scanner, and the scanner attaches to the computer. From the computer's perspective, the scanner behaves just like an additional keyboard. When the computer runs a software program (like an inventory spreadsheet app), and barcodes are read using the wedge scanner, data is sent from the scanner to the program in the form of keystrokes. From the program's point of view, data appears exactly as if someone had typed it manually using a keyboard. How Knox Capture works In a similar way, Knox Capture also acts as a wedge between a software program and keyboard\", metadata={'source': 'all_processed_data.json', 'seq_num': 3, 'title': 'Overview', 'url': 'https://docs.samsungknox.com/admin/knox-capture/overview', 'project': 'KCAP', 'last_updated': '2023-07-26', 'id': '65a8fee0-8f29-4f26-b757-f3271427bc7d'}), 1.0), (Document(page_content='What is Knox Suite?. Knox Suite is a bundled offering designed to help enterprise IT admins better manage your fleet of devices. It includes individual services such as Knox Platform for Enterprise, Knox Mobile Enrollment, Knox Manage, Knox E-FOTA, and Knox Asset Intelligence. Key features of Knox Suite include: Secure - Ensure your business data is protected with managed security features at your control. Deploy - Enroll corporate devices to EMM automatically and securely, right out of the box. Manage - Enable comprehensive management over corporate devices and OS versions. Analyze - Strengthen in-depth device analytics for mobile productivity and asset management.', metadata={'source': 'all_processed_data.json', 'seq_num': 74, 'title': ' What is Knox Suite?', 'url': 'https://docs.samsungknox.com/admin/knox-suite/faq/#what-is-knox-suite', 'project': 'KS', 'last_updated': '2023-07-26', 'id': '3e69c86f-4e05-4407-b540-298f1e3d8a9f'}), 0.9580010317558868), (Document(page_content=\"Barcode capture not working for business app. Overview You may encounter situations where barcode data is not outputting correctly to your business app. Why isn't barcode capture working for my business app? Most barcode capture issues begin with minor errors in the keystroke output and scan engine settings. Try using test mode to verify your configurations after setting up a profile.\", metadata={'source': 'all_processed_data.json', 'seq_num': 51, 'title': 'Barcode capture not working for business app', 'url': 'https://docs.samsungknox.com/admin/knox-capture/kbas/barcode-capture-not-working-for-app', 'project': 'KCAP', 'last_updated': '2023-07-26', 'id': '61292f05-4b93-4777-9fd9-d4d8e3afae21'}), 0.8912924584746228), (Document(page_content='. Configure the output path - Some organizations may want to send scanned Knox Capture data to a bluetooth keyboard connected to a PC, emulating the functionality of a traditional hardware scanner. Learn how output paths work, and how to pair and unpair your device to a bluetooth keyboard. Knox Capture AR - A feature introduced in Knox Capture v1.7 that provides important product information inside the camera preview window during a barcode scan. Learn what AR (Augmented Reality) is in Knox Capture, how to create AR templates, and how to use AR when performing barcode scans.', metadata={'source': 'all_processed_data.json', 'seq_num': 3, 'title': 'Overview', 'url': 'https://docs.samsungknox.com/admin/knox-capture/overview', 'project': 'KCAP', 'last_updated': '2023-07-26', 'id': '4c38d212-2d6f-43fe-9a2d-bb1871dad289'}), 0.8871747445949624), (Document(page_content='. 2. Under Device-wide policies, set Enable device policy controls to True. 3. Under Device Key Mapping (Premium), configure the mapping: 1. Set Enable Key Mapping Controls to True. 2. Set Enable PTT/Side Key Mapping for Microsoft Teams to False. 3. For Package Name, enter com.samsung.android.app.smartscan. 4. For Intent for Key press, enter com.samsung.android.knox.intent.action.PTT_PRESS. 5. For Intent for Key release, enter com.samsung.android.knox.intent.action.PTT_RELEASE. 6. Set Enable Key Mapping to Launch & Exit applications to False. 4. Save and assign the configured profile to the Verizon XCover Pro devices. 5. Verify that the configuration was applied successfully: 1. On one of the devices, launch the KSP app and tap Apply policies. 2. Go to Settings > Advanced features and verify that the XCover Key is disabled (grayed out). Pressing the XCover key now triggers a camera scan.', metadata={'source': 'all_processed_data.json', 'seq_num': 53, 'title': 'How to trigger camera scan with XCover key on Verizon device', 'url': 'https://docs.samsungknox.com/admin/knox-capture/kbas/disable-xcover-key-from-emm', 'project': 'KCAP', 'last_updated': '2023-07-26', 'id': '882826d3-47b6-43d1-9c5b-e881bdbe4705'}), 0.8794194858677284), (Document(page_content=\".samsung.android.knox.intent.action.PTT_PRESS. For Intent for Key release, enter com.samsung.android.knox.intent.action.PTT_RELEASE. 4. Then, set Enable Key Mapping to Launch & Exit applications to Disable. 5. Save and apply the policies to your device. The XCover key can no longer be remapped on the device, which you can verify in the device's settings, under Advanced features. When the key is pressed, the Knox Capture camera launches as expected.\", metadata={'source': 'all_processed_data.json', 'seq_num': 54, 'title': 'How to prevent users from remapping the XCover key', 'url': 'https://docs.samsungknox.com/admin/knox-capture/kbas/how-to-prevent-users-from-remapping-xcover-key', 'project': 'KCAP', 'last_updated': '2023-07-26', 'id': 'be613f71-69bd-483b-bca1-1dbd239b0f33'}), 0.8671897519533146), (Document(page_content='. End-users: Get started with Knox Capture - Learn how to review scanning profile settings, configure hardware key settings, and perform barcode scans from a business app as a device end-user. #How-to topics For in-depth explanations and detailed walkthroughs of key Knox Capture features, refer to the following how-to topics for more information: Manage licenses - Learn about the Knox Capture licensing procedure, and how to switch between Knox Capture and Knox Capture: Scandit Edition licenses on the app. Scanning profiles - Learn how profiles work, what the default profile does, and how to create new profiles for different scanning scenarios. Apps and activities - The component of every scanning profile that defines which busiess apps can launch the camera scanner. Learn how apps and activities work, and how you can customize them in the scanning profiles. Scan engine settings - These settings define how barcodes are scanned, and what happens with the data after each scan', metadata={'source': 'all_processed_data.json', 'seq_num': 3, 'title': 'Overview', 'url': 'https://docs.samsungknox.com/admin/knox-capture/overview', 'project': 'KCAP', 'last_updated': '2023-07-26', 'id': '7ff23a17-bb99-475f-a9c5-18c0160cd6fe'}), 0.840234397314655)]\n",
      "##############################\n",
      "similar_docs\n",
      "##############################\n",
      "[(Document(page_content=\"Barcode capture not working for business app. Overview You may encounter situations where barcode data is not outputting correctly to your business app. Why isn't barcode capture working for my business app? Most barcode capture issues begin with minor errors in the keystroke output and scan engine settings. Try using test mode to verify your configurations after setting up a profile.\", metadata={'source': 'all_processed_data.json', 'seq_num': 51, 'title': 'Barcode capture not working for business app', 'url': 'https://docs.samsungknox.com/admin/knox-capture/kbas/barcode-capture-not-working-for-app', 'project': 'KCAP', 'last_updated': '2023-07-26', 'id': '61292f05-4b93-4777-9fd9-d4d8e3afae21'}), 8.039813110372052e-05), (Document(page_content=\". Otherwise, you're prompted to create one. 4. If you're prompted to create one, create a Samsung account. Read the service's terms and conditions. If you agree to all of them, select each one. Then, click Agree. Fill out the basic information for your account and click Next. Enter the verification code sent to your email. Click Done. Your Samsung account is now created. 5. You're then automatically redirected to apply for access to Knox Services. Verify the details of your Samsung Knox account and click NEXT: COMPANY INFO. Fill out the form with your company's details and click NEXT: AGREEMENT. Read the Samsung Knox agreements. If you agree to them, click AGREE. Your application for Knox Services is complete. Sign in to Samsung Knox 1. Go to SamsungKnox.com, hover over Sign in, then click Sign in under Samsung Account. 2. Enter your Samsung account email, then click Next. 3. Enter your Samsung account password, then click Sign in. You're now signed in and ready to start using Knox services and products\", metadata={'source': 'all_processed_data.json', 'seq_num': 73, 'title': 'Create a Samsung account', 'url': 'https://docs.samsungknox.com/admin/knox-suite/get-started/create-a-samsung-account', 'project': 'KS', 'last_updated': '2023-08-23', 'id': '55f18853-1da2-4a09-b299-3b486a5e15c8'}), 7.83191280788742e-05), (Document(page_content='. Confirm your Knox Suite license in the Knox Admin Portal To confirm your Knox Suite license in the Knox Admin Portal: 1. Click Licenses in the Knox Admin Portal navigation pane. The consolidated licenses page opens. Alternatively, from the main dashboard you can click ACTIVATE LICENSE on the Try Knox services for free card. 2. Confirm that the Knox Suite trial license was automatically generated and registered for you. You can also navigate to the consolidated licenses page through the individual Licenses page in the dashboard of each Knox service. Confirm your Knox Suite license on the Knox Manage console To confirm your license on the Knox Manage console: 1. Launch the Knox Manage console. 2. In the navigation pane, go to Setting > License. Confirm that the license key was automatically generated and registered for you. It must have the Knox Suite license type. For more information on license registration and management in the Knox Admin Portal, see Manage Knox licenses', metadata={'source': 'all_processed_data.json', 'seq_num': 72, 'title': 'Confirm and register your license', 'url': 'https://docs.samsungknox.com/admin/knox-suite/get-started/confirm-and-register-your-license', 'project': 'KS', 'last_updated': '2023-09-06', 'id': 'ff62c040-56de-4540-a099-d1737dbd6408'}), 7.795908459229395e-05), (Document(page_content=\"Overview. Get started with the basics by learning what Knox Capture is and how it works. What is Knox Capture? To help explain what Knox Capture does, it may be helpful to start with an understanding of what a *wedge* scanner is, and how it relates to the Knox Capture solution. In traditional hardware-based barcode scanning terminology, a wedge scanner is a physical device that attaches between a keyboard and a computer. The keyboard attaches to the scanner, and the scanner attaches to the computer. From the computer's perspective, the scanner behaves just like an additional keyboard. When the computer runs a software program (like an inventory spreadsheet app), and barcodes are read using the wedge scanner, data is sent from the scanner to the program in the form of keystrokes. From the program's point of view, data appears exactly as if someone had typed it manually using a keyboard. How Knox Capture works In a similar way, Knox Capture also acts as a wedge between a software program and keyboard\", metadata={'source': 'all_processed_data.json', 'seq_num': 3, 'title': 'Overview', 'url': 'https://docs.samsungknox.com/admin/knox-capture/overview', 'project': 'KCAP', 'last_updated': '2023-07-26', 'id': '65a8fee0-8f29-4f26-b757-f3271427bc7d'}), 7.762991299387068e-05), (Document(page_content='What is Knox Suite?. Knox Suite is a bundled offering designed to help enterprise IT admins better manage your fleet of devices. It includes individual services such as Knox Platform for Enterprise, Knox Mobile Enrollment, Knox Manage, Knox E-FOTA, and Knox Asset Intelligence. Key features of Knox Suite include: Secure - Ensure your business data is protected with managed security features at your control. Deploy - Enroll corporate devices to EMM automatically and securely, right out of the box. Manage - Enable comprehensive management over corporate devices and OS versions. Analyze - Strengthen in-depth device analytics for mobile productivity and asset management.', metadata={'source': 'all_processed_data.json', 'seq_num': 74, 'title': ' What is Knox Suite?', 'url': 'https://docs.samsungknox.com/admin/knox-suite/faq/#what-is-knox-suite', 'project': 'KS', 'last_updated': '2023-07-26', 'id': '3e69c86f-4e05-4407-b540-298f1e3d8a9f'}), 7.734433165751398e-05)]\n",
      "\n",
      "==========  Results  ==========\n",
      "\n",
      "1. question: what is verify DM\n",
      "2. # documents: 5\n",
      "3. Documents: \n",
      "\n",
      "-----------------------------------------------\n",
      "1. Chunk: 387 Characters\n",
      "-----------------------------------------------\n",
      "Barcode capture not working for business app. Overview You may encounter situations where barcode\n",
      "data is not outputting correctly to your business app. Why isn't barcode capture working for my\n",
      "business app? Most barcode capture issues begin with minor errors in the keystroke output and scan\n",
      "engine settings. Try using test mode to verify your configurations after setting up a profile.\n",
      "metadata:\n",
      " {'source': 'all_processed_data.json', 'seq_num': 51, 'title': 'Barcode capture not working for\n",
      "business app', 'url': 'https://docs.samsungknox.com/admin/knox-capture/kbas/barcode-capture-not-\n",
      "working-for-app', 'project': 'KCAP', 'last_updated': '2023-07-26', 'id':\n",
      "'61292f05-4b93-4777-9fd9-d4d8e3afae21'}\n",
      "-----------------------------------------------\n",
      "2. Chunk: 1018 Characters\n",
      "-----------------------------------------------\n",
      ". Otherwise, you're prompted to create one. 4. If you're prompted to create one, create a Samsung\n",
      "account. Read the service's terms and conditions. If you agree to all of them, select each one.\n",
      "Then, click Agree. Fill out the basic information for your account and click Next. Enter the\n",
      "verification code sent to your email. Click Done. Your Samsung account is now created. 5. You're\n",
      "then automatically redirected to apply for access to Knox Services. Verify the details of your\n",
      "Samsung Knox account and click NEXT: COMPANY INFO. Fill out the form with your company's details and\n",
      "click NEXT: AGREEMENT. Read the Samsung Knox agreements. If you agree to them, click AGREE. Your\n",
      "application for Knox Services is complete. Sign in to Samsung Knox 1. Go to SamsungKnox.com, hover\n",
      "over Sign in, then click Sign in under Samsung Account. 2. Enter your Samsung account email, then\n",
      "click Next. 3. Enter your Samsung account password, then click Sign in. You're now signed in and\n",
      "ready to start using Knox services and products\n",
      "metadata:\n",
      " {'source': 'all_processed_data.json', 'seq_num': 73, 'title': 'Create a Samsung account', 'url':\n",
      "'https://docs.samsungknox.com/admin/knox-suite/get-started/create-a-samsung-account', 'project':\n",
      "'KS', 'last_updated': '2023-08-23', 'id': '55f18853-1da2-4a09-b299-3b486a5e15c8'}\n",
      "-----------------------------------------------\n",
      "3. Chunk: 988 Characters\n",
      "-----------------------------------------------\n",
      ". Confirm your Knox Suite license in the Knox Admin Portal To confirm your Knox Suite license in the\n",
      "Knox Admin Portal: 1. Click Licenses in the Knox Admin Portal navigation pane. The consolidated\n",
      "licenses page opens. Alternatively, from the main dashboard you can click ACTIVATE LICENSE on the\n",
      "Try Knox services for free card. 2. Confirm that the Knox Suite trial license was automatically\n",
      "generated and registered for you. You can also navigate to the consolidated licenses page through\n",
      "the individual Licenses page in the dashboard of each Knox service. Confirm your Knox Suite license\n",
      "on the Knox Manage console To confirm your license on the Knox Manage console: 1. Launch the Knox\n",
      "Manage console. 2. In the navigation pane, go to Setting > License. Confirm that the license key was\n",
      "automatically generated and registered for you. It must have the Knox Suite license type. For more\n",
      "information on license registration and management in the Knox Admin Portal, see Manage Knox\n",
      "licenses\n",
      "metadata:\n",
      " {'source': 'all_processed_data.json', 'seq_num': 72, 'title': 'Confirm and register your license',\n",
      "'url': 'https://docs.samsungknox.com/admin/knox-suite/get-started/confirm-and-register-your-\n",
      "license', 'project': 'KS', 'last_updated': '2023-09-06', 'id':\n",
      "'ff62c040-56de-4540-a099-d1737dbd6408'}\n",
      "-----------------------------------------------\n",
      "4. Chunk: 1013 Characters\n",
      "-----------------------------------------------\n",
      "Overview. Get started with the basics by learning what Knox Capture is and how it works. What is\n",
      "Knox Capture? To help explain what Knox Capture does, it may be helpful to start with an\n",
      "understanding of what a *wedge* scanner is, and how it relates to the Knox Capture solution. In\n",
      "traditional hardware-based barcode scanning terminology, a wedge scanner is a physical device that\n",
      "attaches between a keyboard and a computer. The keyboard attaches to the scanner, and the scanner\n",
      "attaches to the computer. From the computer's perspective, the scanner behaves just like an\n",
      "additional keyboard. When the computer runs a software program (like an inventory spreadsheet app),\n",
      "and barcodes are read using the wedge scanner, data is sent from the scanner to the program in the\n",
      "form of keystrokes. From the program's point of view, data appears exactly as if someone had typed\n",
      "it manually using a keyboard. How Knox Capture works In a similar way, Knox Capture also acts as a\n",
      "wedge between a software program and keyboard\n",
      "metadata:\n",
      " {'source': 'all_processed_data.json', 'seq_num': 3, 'title': 'Overview', 'url':\n",
      "'https://docs.samsungknox.com/admin/knox-capture/overview', 'project': 'KCAP', 'last_updated':\n",
      "'2023-07-26', 'id': '65a8fee0-8f29-4f26-b757-f3271427bc7d'}\n",
      "-----------------------------------------------\n",
      "5. Chunk: 674 Characters\n",
      "-----------------------------------------------\n",
      "What is Knox Suite?. Knox Suite is a bundled offering designed to help enterprise IT admins better\n",
      "manage your fleet of devices. It includes individual services such as Knox Platform for Enterprise,\n",
      "Knox Mobile Enrollment, Knox Manage, Knox E-FOTA, and Knox Asset Intelligence. Key features of Knox\n",
      "Suite include: Secure - Ensure your business data is protected with managed security features at\n",
      "your control. Deploy - Enroll corporate devices to EMM automatically and securely, right out of the\n",
      "box. Manage - Enable comprehensive management over corporate devices and OS versions. Analyze -\n",
      "Strengthen in-depth device analytics for mobile productivity and asset management.\n",
      "metadata:\n",
      " {'source': 'all_processed_data.json', 'seq_num': 74, 'title': ' What is Knox Suite?', 'url':\n",
      "'https://docs.samsungknox.com/admin/knox-suite/faq/#what-is-knox-suite', 'project': 'KS',\n",
      "'last_updated': '2023-07-26', 'id': '3e69c86f-4e05-4407-b540-298f1e3d8a9f'}\n",
      "CPU times: user 437 ms, sys: 31.8 ms, total: 469 ms\n",
      "Wall time: 2.64 s\n"
     ]
    }
   ],
   "source": [
    "%%time\n",
    "search_hybrid_result = opensearch_hybrid_retriever.get_relevant_documents(query)\n",
    "\n",
    "print(\"\\n==========  Results  ==========\\n\")\n",
    "print(f'1. question: {query}')\n",
    "print (f'2. # documents: {len(search_hybrid_result)}')\n",
    "print(\"3. Documents: \\n\")\n",
    "\n",
    "show_context_used(search_hybrid_result)"
   ]
  },
  {
   "cell_type": "markdown",
   "id": "c09221b5-4a6c-463b-9769-35cc8362e33c",
   "metadata": {},
   "source": [
    "- update parameters"
   ]
  },
  {
   "cell_type": "code",
   "execution_count": 40,
   "id": "b7bb4672-d2b8-4b29-b71c-b06d84bcd470",
   "metadata": {
    "tags": []
   },
   "outputs": [],
   "source": [
    "opensearch_hybrid_retriever.update_search_params(\n",
    "    k=10,\n",
    "    minimum_should_match=30,\n",
    "    filter=[\n",
    "        {\"term\": {\"metadata.project\": \"KS\"}},\n",
    "    ],\n",
    "    reranker=True,\n",
    "    reranker_endpoint_name=endpoint_name,\n",
    "    rag_fusion=True, # enable rag_fusion\n",
    "    query_augmentation_size=5, # query_augmentation_size in rag_fusion\n",
    "    llm_text=llm_text, # llm for query augmentation in rag_fusion\n",
    "    verbose=False\n",
    ")"
   ]
  },
  {
   "cell_type": "code",
   "execution_count": 41,
   "id": "1b9b45b1-cb92-4954-8087-143a550350c8",
   "metadata": {
    "tags": []
   },
   "outputs": [
    {
     "name": "stdout",
     "output_type": "stream",
     "text": [
      "\n",
      "==========  Results  ==========\n",
      "\n",
      "1. question: vefify DM\n",
      "2. # documents: 10\n",
      "3. Documents: \n",
      "\n",
      "-----------------------------------------------\n",
      "1. Chunk: 990 Characters\n",
      "-----------------------------------------------\n",
      ". 3. The Enterprise Edition Dashboard opens. If your device reseller has already uploaded the\n",
      "devices for you, the reseller's name and ID appears in a table along with the number of devices\n",
      "uploaded. The table columns are defined as follows: Reseller (ID) - The name and ID of the device\n",
      "reseller that uploaded EE devices for you. Devices Last Uploaded - The date the reseller last\n",
      "uploaded devices for you. # of Devices Uploaded to Date - The number of devices the reseller has\n",
      "ever uploaded for you. # of Devices License Generated - The number of devices that have a Knox Suite\n",
      "license. # of Devices Remaining - The number of devices that have no Knox Suite license. License\n",
      "Last Generated - The date you last generated a Knox Suite license for devices you purchased from\n",
      "this reseller. If you don't see any device uploads, contact your device reseller. 4. Select the\n",
      "reseller that uploaded the new devices. 5. Click Generate License. 6. In the Generate license popup,\n",
      "do the following: 1\n",
      "metadata:\n",
      " {'source': 'all_processed_data.json', 'seq_num': 67, 'title': 'Get a Knox Suite license for\n",
      "Enterprise Edition devices', 'url': 'https://docs.samsungknox.com/admin/knox-suite/enterprise-\n",
      "edition-devices/get-a-knox-suite-license-for-enterprise-edition-devices', 'project': 'KS',\n",
      "'last_updated': '2023-07-26', 'id': '3df9537d-21e8-4df1-863d-1df5fb3edc39'}\n",
      "-----------------------------------------------\n",
      "2. Chunk: 918 Characters\n",
      "-----------------------------------------------\n",
      ". If your organization isn't signed up for Knox Services, your organization's domain makes up your\n",
      "unique tenant ID. Confirm that your organization's domain automatically filled the Tenant ID field\n",
      "and click Complete Registration. If your organization is already signed up for Knox Services, you\n",
      "need to define a prefix to differentiate your tenant from other tenants in your organization.\n",
      "Confirm that your organization's domain automatically filled the Organization Domain field and enter\n",
      "a prefix in the Prefix field. Your tenant ID should not exceed 50 characters. Click Complete\n",
      "Registration. In the pop up that opens, click Confirm and Complete. 5. You're now registered for\n",
      "Knox Suite. A trial Knox Suite license key is automatically generated when you apply for access to\n",
      "Knox Suite. You can find this in the Licenses tab of the Knox Admin Portal. Tutorial Progress You've\n",
      "completed 2 of 3 steps! Previous Next\n",
      "metadata:\n",
      " {'source': 'all_processed_data.json', 'seq_num': 71, 'title': 'Apply for access to Knox Suite',\n",
      "'url': 'https://docs.samsungknox.com/admin/knox-suite/get-started/apply-for-access-to-knox-suite',\n",
      "'project': 'KS', 'last_updated': '2023-08-23', 'id': 'b35ffeb0-3267-4b08-8afa-ecfac0fa4c30'}\n",
      "-----------------------------------------------\n",
      "3. Chunk: 1024 Characters\n",
      "-----------------------------------------------\n",
      ". With Knox E-FOTA, you create a campaign, specify the campaign period, assign devices to that\n",
      "campaign, and select the firmware update to be pushed to those devices during the campaign period.\n",
      "Knox Capture - An Android solution that lets users transform their Samsung Galaxy smartphones and\n",
      "tablets into powerful barcode scanners that can read, process, and output barcode information to\n",
      "other applications, all without requiring additional hardware or writing a single line of code. Knox\n",
      "Authentication Manager - A managed Android app for shared Samsung devices that provides multiuser\n",
      "facial biometrics and sign-in automation for increased frontline worker productivity and safety.\n",
      "With Knox Suite, a single license key allows you to use all included Knox products on your devices.\n",
      "This means that you can use the same Knox Suite license key in multiple Knox service admin portals.\n",
      "Benefits of Knox Suite 1. All-in-one Knox B2B package - An end-to-end solution that covers every\n",
      "step of your enterprise mobility journey 2\n",
      "metadata:\n",
      " {'source': 'all_processed_data.json', 'seq_num': 65, 'title': 'Knox Suite', 'url':\n",
      "'https://docs.samsungknox.com/admin/knox-suite', 'project': 'KS', 'last_updated': '2023-07-26',\n",
      "'id': '5b3da7a2-9b9d-4125-a805-eb74d6eb13bd'}\n",
      "-----------------------------------------------\n",
      "4. Chunk: 974 Characters\n",
      "-----------------------------------------------\n",
      ". A page of authorized resellers opens. 3. You can search for resellers by location and license\n",
      "keys. Select a reseller, fill out the purchase request form that appears when you click on their\n",
      "name, and send it to them. 4. Complete your license purchase. 5. After you procure your commercial\n",
      "license, sign-in to the Knox Suite portal and click Licenses > Actions > Enter license key. Enter\n",
      "your license key to start using Knox Suite. Other licenses Knox Suite includes Knox Capture and Knox\n",
      "Platform for Enterprise, which need their own separate license keys. If you plan to use either of\n",
      "those services, you need to generate a free Knox Platform for Enterprise Premium license or a Knox\n",
      "Capture trial license: 1. Click Licenses on the Knox Admin Portal navigation pane. 2. On the\n",
      "consolidated licenses page that opens, click Manage license keys. The Other License Keys page opens.\n",
      "3. Click Actions, and from the drop down list, select which license key you want to generate\n",
      "metadata:\n",
      " {'source': 'all_processed_data.json', 'seq_num': 72, 'title': 'Confirm and register your license',\n",
      "'url': 'https://docs.samsungknox.com/admin/knox-suite/get-started/confirm-and-register-your-\n",
      "license', 'project': 'KS', 'last_updated': '2023-09-06', 'id':\n",
      "'55846716-2e56-4261-a5cd-c56d73baba68'}\n",
      "-----------------------------------------------\n",
      "5. Chunk: 1007 Characters\n",
      "-----------------------------------------------\n",
      ". When used with a Knox Suite license, Knox Mobile Enrollment provides advanced profiles that offer\n",
      "IT admins additional features such as higher control over locking devices. Knox Manage - A Knox\n",
      "solution that allows you to remotely manage your fleet of mobile devices. With this EMM, you create\n",
      "various policies to control how users can use their devices. Knox Asset Intelligence - A data\n",
      "analytics solution that offers operational visibility and actionable insights to improve the\n",
      "management, productivity, and lifecycle of mobile devices. This solution offers real-time monitoring\n",
      "and management of app performance, battery usage, network connectivity, and asset location. Knox\n",
      "E-FOTA - A Knox solution that allows you to remotely deploy OS and security updates to your devices\n",
      "without requiring user interaction. With Knox E-FOTA, you create a campaign, specify the campaign\n",
      "period, assign devices to that campaign, and select the firmware update to be pushed to those\n",
      "devices during the campaign period\n",
      "metadata:\n",
      " {'source': 'all_processed_data.json', 'seq_num': 65, 'title': 'Knox Suite', 'url':\n",
      "'https://docs.samsungknox.com/admin/knox-suite', 'project': 'KS', 'last_updated': '2023-07-26',\n",
      "'id': 'b0290d77-9297-4e1c-8d41-7b4f0d9ec42d'}\n",
      "-----------------------------------------------\n",
      "6. Chunk: 988 Characters\n",
      "-----------------------------------------------\n",
      ". Confirm your Knox Suite license in the Knox Admin Portal To confirm your Knox Suite license in the\n",
      "Knox Admin Portal: 1. Click Licenses in the Knox Admin Portal navigation pane. The consolidated\n",
      "licenses page opens. Alternatively, from the main dashboard you can click ACTIVATE LICENSE on the\n",
      "Try Knox services for free card. 2. Confirm that the Knox Suite trial license was automatically\n",
      "generated and registered for you. You can also navigate to the consolidated licenses page through\n",
      "the individual Licenses page in the dashboard of each Knox service. Confirm your Knox Suite license\n",
      "on the Knox Manage console To confirm your license on the Knox Manage console: 1. Launch the Knox\n",
      "Manage console. 2. In the navigation pane, go to Setting > License. Confirm that the license key was\n",
      "automatically generated and registered for you. It must have the Knox Suite license type. For more\n",
      "information on license registration and management in the Knox Admin Portal, see Manage Knox\n",
      "licenses\n",
      "metadata:\n",
      " {'source': 'all_processed_data.json', 'seq_num': 72, 'title': 'Confirm and register your license',\n",
      "'url': 'https://docs.samsungknox.com/admin/knox-suite/get-started/confirm-and-register-your-\n",
      "license', 'project': 'KS', 'last_updated': '2023-09-06', 'id':\n",
      "'ff62c040-56de-4540-a099-d1737dbd6408'}\n",
      "-----------------------------------------------\n",
      "7. Chunk: 221 Characters\n",
      "-----------------------------------------------\n",
      "Can I convert a trial to a paid subscription without losing my settings and data?. Yes. Settings and\n",
      "data are bound to the account (also known as a _tenant_ ), and will carry over from your trial\n",
      "account when you upgrade.\n",
      "metadata:\n",
      " {'source': 'all_processed_data.json', 'seq_num': 77, 'title': 'Can I convert a trial to a paid\n",
      "subscription without losing my settings and data?', 'url': 'https://docs.samsungknox.com/admin/knox-\n",
      "suite/faq/#can-i-convert-trial-paid-subscription-without-losing-settings-data', 'project': 'KS',\n",
      "'last_updated': '2023-07-26', 'id': 'b82a3a11-5fd7-4ebd-bfce-ebe9e282b215'}\n",
      "-----------------------------------------------\n",
      "8. Chunk: 1018 Characters\n",
      "-----------------------------------------------\n",
      ". Otherwise, you're prompted to create one. 4. If you're prompted to create one, create a Samsung\n",
      "account. Read the service's terms and conditions. If you agree to all of them, select each one.\n",
      "Then, click Agree. Fill out the basic information for your account and click Next. Enter the\n",
      "verification code sent to your email. Click Done. Your Samsung account is now created. 5. You're\n",
      "then automatically redirected to apply for access to Knox Services. Verify the details of your\n",
      "Samsung Knox account and click NEXT: COMPANY INFO. Fill out the form with your company's details and\n",
      "click NEXT: AGREEMENT. Read the Samsung Knox agreements. If you agree to them, click AGREE. Your\n",
      "application for Knox Services is complete. Sign in to Samsung Knox 1. Go to SamsungKnox.com, hover\n",
      "over Sign in, then click Sign in under Samsung Account. 2. Enter your Samsung account email, then\n",
      "click Next. 3. Enter your Samsung account password, then click Sign in. You're now signed in and\n",
      "ready to start using Knox services and products\n",
      "metadata:\n",
      " {'source': 'all_processed_data.json', 'seq_num': 73, 'title': 'Create a Samsung account', 'url':\n",
      "'https://docs.samsungknox.com/admin/knox-suite/get-started/create-a-samsung-account', 'project':\n",
      "'KS', 'last_updated': '2023-08-23', 'id': '55f18853-1da2-4a09-b299-3b486a5e15c8'}\n",
      "-----------------------------------------------\n",
      "9. Chunk: 991 Characters\n",
      "-----------------------------------------------\n",
      "Create a Samsung account. To use Knox Suite, you need to create a Samsung account. If you already\n",
      "have a Samsung account, you can skip to the next procedure. Your Samsung account provides access to\n",
      "various Knox solutions and tools through the Knox Admin Portal. Your account also allows you to\n",
      "create support tickets if you're having issues with a product. A Samsung account is free and you can\n",
      "create one in just a few minutes. Personal email accounts, such as Gmail and Hotmail accounts,\n",
      "aren't accepted. To create a Samsung account: 1. Go to SamsungKnox.com. 2. Click GET STARTED in the\n",
      "top right corner. 3. Enter your work email address and select Knox Suite from the list of Knox\n",
      "solutions. Then, click CREATE MY ACCOUNT. If your email address is already associated with a Samsung\n",
      "account, you're prompted to sign in to your Samsung account. Otherwise, you're prompted to create\n",
      "one. 4. If you're prompted to create one, create a Samsung account. Read the service's terms and\n",
      "conditions\n",
      "metadata:\n",
      " {'source': 'all_processed_data.json', 'seq_num': 73, 'title': 'Create a Samsung account', 'url':\n",
      "'https://docs.samsungknox.com/admin/knox-suite/get-started/create-a-samsung-account', 'project':\n",
      "'KS', 'last_updated': '2023-08-23', 'id': 'b297b1e8-5513-4a29-baf7-2e5b6d0c4a82'}\n",
      "-----------------------------------------------\n",
      "10. Chunk: 574 Characters\n",
      "-----------------------------------------------\n",
      ". If you don't see any device uploads, contact your device reseller. 4. Select the reseller that\n",
      "uploaded the new devices. 5. Click Generate License. 6. In the Generate license popup, do the\n",
      "following: 1. Select Generate a new license key. 2. Select the start date of the license. This can\n",
      "be any date up to 90 days from the time you generate the license. 3. Click Generate. A Knox Suite\n",
      "license is generated. It covers all devices in the device upload you selected. To view the license,\n",
      "click View License. 7. Register the newly generated license to your Knox Admin Portal.\n",
      "metadata:\n",
      " {'source': 'all_processed_data.json', 'seq_num': 67, 'title': 'Get a Knox Suite license for\n",
      "Enterprise Edition devices', 'url': 'https://docs.samsungknox.com/admin/knox-suite/enterprise-\n",
      "edition-devices/get-a-knox-suite-license-for-enterprise-edition-devices', 'project': 'KS',\n",
      "'last_updated': '2023-07-26', 'id': '88d2e74b-a9c0-4195-a0a8-0d71777c69e6'}\n"
     ]
    }
   ],
   "source": [
    "query = \"vefify DM\"\n",
    "search_hybrid_result = opensearch_hybrid_retriever.get_relevant_documents(query)\n",
    "\n",
    "print(\"\\n==========  Results  ==========\\n\")\n",
    "print(f'1. question: {query}')\n",
    "print(f'2. # documents: {len(search_hybrid_result)}')\n",
    "print(\"3. Documents: \\n\")\n",
    "\n",
    "show_context_used(search_hybrid_result)"
   ]
  },
  {
   "cell_type": "markdown",
   "id": "a981abe7-5208-48f5-a9cc-8c557e9941ca",
   "metadata": {},
   "source": [
    "## 5. RAG using RetrievalQA powered by LangChain"
   ]
  },
  {
   "cell_type": "code",
   "execution_count": 42,
   "id": "08cf6d2b-451b-499c-aec2-bb6f5abafbb0",
   "metadata": {
    "tags": []
   },
   "outputs": [],
   "source": [
    "from utils.rag import run_RetrievalQA\n",
    "from langchain.prompts import PromptTemplate"
   ]
  },
  {
   "cell_type": "markdown",
   "id": "b490df1f-8113-4dd1-a578-a3e1a6918fde",
   "metadata": {
    "tags": []
   },
   "source": [
    "### Prompting\n",
    "- [TIP] Prompt의 instruction의 경우 한글보다 영어로 했을 때 더 좋은 결과를 얻을 수 있습니다."
   ]
  },
  {
   "cell_type": "code",
   "execution_count": 43,
   "id": "572bc0ee-afb8-4dc8-b5ae-629920b8504b",
   "metadata": {
    "tags": []
   },
   "outputs": [],
   "source": [
    "prompt_template = \"\"\"\n",
    "\\n\\nHuman: Here is the context, inside <context></context> XML tags.\n",
    "\n",
    "<context>\n",
    "{context}\n",
    "</context>\n",
    "\n",
    "Only using the context as above, answer the following question with the rules as below:\n",
    "    - Don't insert XML tag such as <context> and </context> when answering.\n",
    "    - Write as much as you can\n",
    "    - Be courteous and polite\n",
    "    - Only answer the question if you can find the answer in the context with certainty.\n",
    "\n",
    "Question:\n",
    "{question}\n",
    "\n",
    "If the answer is not in the context, just say \"Could not find answer in given contexts.\"\n",
    "\n",
    "\\n\\nAssistant:\"\"\"\n",
    "\n",
    "PROMPT = PromptTemplate(\n",
    "    template=prompt_template, input_variables=[\"context\", \"question\"]\n",
    ")"
   ]
  },
  {
   "cell_type": "markdown",
   "id": "c66157a6-aec8-4555-a90f-1178e6f4f6e0",
   "metadata": {},
   "source": [
    "### Update Search Params (Optional)"
   ]
  },
  {
   "cell_type": "code",
   "execution_count": 44,
   "id": "64df2daf-8b42-472a-885f-97320ee98132",
   "metadata": {
    "tags": []
   },
   "outputs": [],
   "source": [
    "from langchain.chains import RetrievalQA"
   ]
  },
  {
   "cell_type": "code",
   "execution_count": 45,
   "id": "d2697230-6962-43d8-8917-ba9daa4295bb",
   "metadata": {
    "tags": []
   },
   "outputs": [],
   "source": [
    "opensearch_hybrid_retriever.update_search_params(\n",
    "    k=3,\n",
    "    minimum_should_match=3,\n",
    "    filter=[],\n",
    "    reranker=True,\n",
    "    reranker_endpoint_name=endpoint_name,\n",
    "    rag_fusion=True, # enable rag_fusion\n",
    "    query_augmentation_size=5, # query_augmentation_size in rag_fusion\n",
    "    llm_text=llm_text, # llm for query augmentation in rag_fusion\n",
    "    verbose=True\n",
    ")"
   ]
  },
  {
   "cell_type": "markdown",
   "id": "aee26c22-b674-4f4f-a87b-29508e336fda",
   "metadata": {},
   "source": [
    "### Request"
   ]
  },
  {
   "cell_type": "code",
   "execution_count": 46,
   "id": "95fa61d3-9256-432a-96a3-2c696c97ea68",
   "metadata": {
    "tags": []
   },
   "outputs": [],
   "source": [
    "qa = RetrievalQA.from_chain_type(\n",
    "    llm=llm_text,\n",
    "    chain_type=\"stuff\",\n",
    "    retriever=opensearch_hybrid_retriever,\n",
    "    return_source_documents=True,\n",
    "    chain_type_kwargs={\n",
    "        \"prompt\": PROMPT,\n",
    "        \"verbose\": False,\n",
    "    },\n",
    "    verbose=False\n",
    ")"
   ]
  },
  {
   "cell_type": "code",
   "execution_count": 47,
   "id": "390ad324-40b3-4bcb-92b9-50eb080492a5",
   "metadata": {
    "tags": []
   },
   "outputs": [
    {
     "name": "stdout",
     "output_type": "stream",
     "text": [
      "===== RAG-Fusion Queries =====\n",
      "['How does RKP protect critical kernel data structures from modification?', '1. What techniques does RKP use to protect the kernel?', '2. How does RKP prevent unauthorized modification of kernel data? ', '3. What critical kernel data structures does RKP protect?', '4. How does RKP detect unauthorized modifications to the kernel?', '5. What is the difference between RKP and other kernel protection mechanisms?']\n",
      "##############################\n",
      "async_mode\n",
      "##############################\n",
      "True\n",
      "##############################\n",
      "reranker\n",
      "##############################\n",
      "True\n",
      "##############################\n",
      "rag_fusion\n",
      "##############################\n",
      "True\n",
      "##############################\n",
      "HyDE\n",
      "##############################\n",
      "False\n",
      "##############################\n",
      "similar_docs_semantic\n",
      "##############################\n",
      "[(Document(page_content=\". When connecting the keyboard, they would see a prompt asking if they wanted to use the USB keyboard for scanning purposes, even though they may not be using Knox Capture at the time. This release improves the prompt so that it only shows when Knox Capture is being used in the foreground. The device user must grant system permissions for connected devices in order for the prompt to display. If no permissions are granted, the prompt will not display on any screen. #Seamlessly switch between multiple paired devices in Output path If a user is paired with multiple devices in Knox Capture's Output path, they can now switch between each of their paired devices more easily. Previously, if a user had two paired devices in Output path, and Knox Capture was connected to _device A_, the user would first have to disconnect from _device A_ before connecting to _device B_. With this release, the user simply has to connect to _device B_. Knox Capture automatically disconnects from any previously paired devices\", metadata={'source': 'all_processed_data.json', 'seq_num': 35, 'title': 'Knox Capture v1.8 release notes', 'url': 'https://docs.samsungknox.com/admin/knox-capture/release-notes/v1-8', 'project': 'KCAP', 'last_updated': '2023-07-26', 'id': 'f4cd229b-dda2-41a7-ac26-ca9b2efa3ad7'}), 0.015583194810785185), (Document(page_content=\". For a full list of supported devices, see Supported devices. Keystroke output support in WP-C deployments In previous Knox Capture versions, if an IT admin activated a KPE Premium license with a WP-C deployment, remote injection was blocked in WP-C mode. As a workaround, `AdvancedRestrictionPolicy.allowRemoteControl()` must be set to True to support keystroke output. With this release, keystroke output in WP-C deployments is supported regardless of whether `AdvancedRestrictionPolicy.allowRemoteControl()` is set to True. Keystroke output support is not yet available for Galaxy S20 devices. You must use the aforementioned workaround to use keystroke output on Galaxy S20 devices. Option to disable default profile IT admins can now enable or disable the default profile. If you create profiles for several applications and don't want the default profile's behavior to override any configurations, set the default profile to Off. The default profile setting is available on the Knox Capture main page\", metadata={'source': 'all_processed_data.json', 'seq_num': 29, 'title': 'Knox Capture v1.2 release notes', 'url': 'https://docs.samsungknox.com/admin/knox-capture/release-notes/v1-2', 'project': 'KCAP', 'last_updated': '2023-07-26', 'id': '321c5fe0-2387-474e-a9ae-536e7ba4d0a8'}), 0.015485729548229547), (Document(page_content='Before you begin. Before you can start generating Knox Suite licenses for your Enterprise Edition (EE) devices, you must perform the prerequisite steps described in this section. Prerequisites Before you can manage your Knox Suite license and view the security update schedule for your EE devices, you must: 1. Register for the Knox Admin Portal with your Samsung account. 2. Sign in to the Knox Admin Portal. 3. Click your account icon to view your Knox Customer ID. 4. Purchase EE devices from a Samsung device reseller. Give your customer ID to your reseller. Your device reseller must be a member of the Knox Deployment Program (KDP). 5. Generate a Knox Suite license. You can now manage a Knox Suite license and look up the security update schedule and history for your EE devices. Prerequisites for organizations with legacy EE licenses Perform these procedures if you have an active legacy EE license (for Knox Configure and Knox E-FOTA\"on MDM) and you want to convert them to a Knox Suite license', metadata={'source': 'all_processed_data.json', 'seq_num': 66, 'title': 'Before you begin', 'url': 'https://docs.samsungknox.com/admin/knox-suite/enterprise-edition-devices/before-you-begin', 'project': 'KS', 'last_updated': '2023-08-23', 'id': '87d63c2d-7667-498e-a265-28e207f9a922'}), 0.013530395999988806), (Document(page_content='How to prevent users from remapping the XCover key. Overview If you want to ensure device users can only use the XCover key to launch Knox Capture, you can apply a policy to prevent them from remapping it. How do I prevent users from remapping the XCover key? Disable XCover key remapping through your EMM: 1. Navigate to the Knox Service Plugin (KSP) section of your EMM. 2. Select Device-wide policies, then set Enable device policy controls to Enable. 3. Click Device Key Mapping (Premium), then configure the settings as follows: Set Enable Key Mapping Controls to Enable. Set Enable PTT/Side Key Mapping for Microsoft Teams to Disable. For Package name, enter com.samsung.android.app.smartscan. For Intent for Key press, enter com.samsung.android.knox.intent.action.PTT_PRESS. For Intent for Key release, enter com.samsung.android.knox.intent.action.PTT_RELEASE. 4. Then, set Enable Key Mapping to Launch & Exit applications to Disable. 5. Save and apply the policies to your device', metadata={'source': 'all_processed_data.json', 'seq_num': 54, 'title': 'How to prevent users from remapping the XCover key', 'url': 'https://docs.samsungknox.com/admin/knox-capture/kbas/how-to-prevent-users-from-remapping-xcover-key', 'project': 'KCAP', 'last_updated': '2023-07-26', 'id': '73718d49-53b8-4a6c-b001-22222993d694'}), 0.01315399833875508)]\n",
      "##############################\n",
      "similar_docs_keyword\n",
      "##############################\n",
      "[(Document(page_content='. End-users: Get started with Knox Capture - Learn how to review scanning profile settings, configure hardware key settings, and perform barcode scans from a business app as a device end-user. #How-to topics For in-depth explanations and detailed walkthroughs of key Knox Capture features, refer to the following how-to topics for more information: Manage licenses - Learn about the Knox Capture licensing procedure, and how to switch between Knox Capture and Knox Capture: Scandit Edition licenses on the app. Scanning profiles - Learn how profiles work, what the default profile does, and how to create new profiles for different scanning scenarios. Apps and activities - The component of every scanning profile that defines which busiess apps can launch the camera scanner. Learn how apps and activities work, and how you can customize them in the scanning profiles. Scan engine settings - These settings define how barcodes are scanned, and what happens with the data after each scan', metadata={'source': 'all_processed_data.json', 'seq_num': 3, 'title': 'Overview', 'url': 'https://docs.samsungknox.com/admin/knox-capture/overview', 'project': 'KCAP', 'last_updated': '2023-07-26', 'id': '7ff23a17-bb99-475f-a9c5-18c0160cd6fe'}), 1.0), (Document(page_content=\". To replace the license, go to the unified License Management page on the Knox Admin Portal, enter the new Knox Suite license key you've purchased, select your existing Knox E-FOTA license key and then select Replace with a new Knox Suite license key. For more information, see Manage Knox licenses in the Knox Admin Portal documentation. Does Knox Suite record device location data? Yes. The location of managed devices can be tracked by services in the Knox Suite. Knox Manage and Knox Asset Intelligence help you locate devices and analyze their movement during the course of business. How securely does Samsung handle individual or business entity data acquired through Knox Suite services? Samsung is committed to safely handling customer information acquired from its business practices, and meets all data storage and handling requirements stipulated by the GDPR. Samsung ensures that data collection is restricted to only that which is necessary\", metadata={'source': 'all_processed_data.json', 'seq_num': 80, 'title': 'I am subscribed to an individual Knox cloud service. Can I switch or upgrade to Knox Suite?', 'url': 'https://docs.samsungknox.com/admin/knox-suite/faq/#i-am-subscribed-individual-knox-cloud-service-can-i-switch-upgrade-knox-suite', 'project': 'KS', 'last_updated': '2023-07-26', 'id': '401c39c9-069d-4465-97b1-a108c03d1cf3'}), 0.9690114887896714), (Document(page_content=\"Scanning profiles. Knox Capture acts as a wedge by translating barcode data into keystrokes that can be sent to a business application. But how does Knox Capture know what barcode types to scan, how to interpret scanned data, and which business applications to pass the data to? For Knox Capture, the *Scanning profile* defines the app's core behavior. A Scanning Profile is a configuration file that gets created or modified by an IT admin using the Knox Capture application. The profile defines how Knox Capture performs a barcode scan, and primarily consists of the following parameters: 1. Apps and activities - define which applications that can launch the Knox Capture scanner. 2. Scanner engine settings - specifying the barcode technologies (QR, Code 128, UPCA, etc.), scanning methods (single barcode, multi barcode), and camera behavior (enable flash, allow camera zoom). 3\", metadata={'source': 'all_processed_data.json', 'seq_num': 13, 'title': 'Scanning profiles', 'url': 'https://docs.samsungknox.com/admin/knox-capture/how-to-guides/create-scanning-profiles', 'project': 'KCAP', 'last_updated': '2023-07-26', 'id': '569903e8-76bd-4e73-9af9-62d330979c14'}), 0.9237777542674845), (Document(page_content=\"Overview. Get started with the basics by learning what Knox Capture is and how it works. What is Knox Capture? To help explain what Knox Capture does, it may be helpful to start with an understanding of what a *wedge* scanner is, and how it relates to the Knox Capture solution. In traditional hardware-based barcode scanning terminology, a wedge scanner is a physical device that attaches between a keyboard and a computer. The keyboard attaches to the scanner, and the scanner attaches to the computer. From the computer's perspective, the scanner behaves just like an additional keyboard. When the computer runs a software program (like an inventory spreadsheet app), and barcodes are read using the wedge scanner, data is sent from the scanner to the program in the form of keystrokes. From the program's point of view, data appears exactly as if someone had typed it manually using a keyboard. How Knox Capture works In a similar way, Knox Capture also acts as a wedge between a software program and keyboard\", metadata={'source': 'all_processed_data.json', 'seq_num': 3, 'title': 'Overview', 'url': 'https://docs.samsungknox.com/admin/knox-capture/overview', 'project': 'KCAP', 'last_updated': '2023-07-26', 'id': '65a8fee0-8f29-4f26-b757-f3271427bc7d'}), 0.8478748334309675)]\n",
      "##############################\n",
      "similar_docs\n",
      "##############################\n",
      "[(Document(page_content=\". When connecting the keyboard, they would see a prompt asking if they wanted to use the USB keyboard for scanning purposes, even though they may not be using Knox Capture at the time. This release improves the prompt so that it only shows when Knox Capture is being used in the foreground. The device user must grant system permissions for connected devices in order for the prompt to display. If no permissions are granted, the prompt will not display on any screen. #Seamlessly switch between multiple paired devices in Output path If a user is paired with multiple devices in Knox Capture's Output path, they can now switch between each of their paired devices more easily. Previously, if a user had two paired devices in Output path, and Knox Capture was connected to _device A_, the user would first have to disconnect from _device A_ before connecting to _device B_. With this release, the user simply has to connect to _device B_. Knox Capture automatically disconnects from any previously paired devices\", metadata={'source': 'all_processed_data.json', 'seq_num': 35, 'title': 'Knox Capture v1.8 release notes', 'url': 'https://docs.samsungknox.com/admin/knox-capture/release-notes/v1-8', 'project': 'KCAP', 'last_updated': '2023-07-26', 'id': 'f4cd229b-dda2-41a7-ac26-ca9b2efa3ad7'}), 0.00014547088358085603), (Document(page_content=\". To replace the license, go to the unified License Management page on the Knox Admin Portal, enter the new Knox Suite license key you've purchased, select your existing Knox E-FOTA license key and then select Replace with a new Knox Suite license key. For more information, see Manage Knox licenses in the Knox Admin Portal documentation. Does Knox Suite record device location data? Yes. The location of managed devices can be tracked by services in the Knox Suite. Knox Manage and Knox Asset Intelligence help you locate devices and analyze their movement during the course of business. How securely does Samsung handle individual or business entity data acquired through Knox Suite services? Samsung is committed to safely handling customer information acquired from its business practices, and meets all data storage and handling requirements stipulated by the GDPR. Samsung ensures that data collection is restricted to only that which is necessary\", metadata={'source': 'all_processed_data.json', 'seq_num': 80, 'title': 'I am subscribed to an individual Knox cloud service. Can I switch or upgrade to Knox Suite?', 'url': 'https://docs.samsungknox.com/admin/knox-suite/faq/#i-am-subscribed-individual-knox-cloud-service-can-i-switch-upgrade-knox-suite', 'project': 'KS', 'last_updated': '2023-07-26', 'id': '401c39c9-069d-4465-97b1-a108c03d1cf3'}), 7.872046990087256e-05), (Document(page_content=\". For a full list of supported devices, see Supported devices. Keystroke output support in WP-C deployments In previous Knox Capture versions, if an IT admin activated a KPE Premium license with a WP-C deployment, remote injection was blocked in WP-C mode. As a workaround, `AdvancedRestrictionPolicy.allowRemoteControl()` must be set to True to support keystroke output. With this release, keystroke output in WP-C deployments is supported regardless of whether `AdvancedRestrictionPolicy.allowRemoteControl()` is set to True. Keystroke output support is not yet available for Galaxy S20 devices. You must use the aforementioned workaround to use keystroke output on Galaxy S20 devices. Option to disable default profile IT admins can now enable or disable the default profile. If you create profiles for several applications and don't want the default profile's behavior to override any configurations, set the default profile to Off. The default profile setting is available on the Knox Capture main page\", metadata={'source': 'all_processed_data.json', 'seq_num': 29, 'title': 'Knox Capture v1.2 release notes', 'url': 'https://docs.samsungknox.com/admin/knox-capture/release-notes/v1-2', 'project': 'KCAP', 'last_updated': '2023-07-26', 'id': '321c5fe0-2387-474e-a9ae-536e7ba4d0a8'}), 7.842068589525297e-05)]\n"
     ]
    }
   ],
   "source": [
    "query = \"How does RKP protect critical kernel data structures from modification?\"\n",
    "response = qa(query)"
   ]
  },
  {
   "cell_type": "code",
   "execution_count": 48,
   "id": "01e77dad-dc19-416b-80e7-19fac3b736a5",
   "metadata": {
    "tags": []
   },
   "outputs": [
    {
     "name": "stdout",
     "output_type": "stream",
     "text": [
      "##################################\n",
      "query:  How does RKP protect critical kernel data structures from modification?\n",
      "##################################\n",
      "\u001b[34m\n",
      "\n",
      "### Answer ###\u001b[0m\n",
      " Unfortunately I could not find the answer to how RKP protects critical kernel data structures from\n",
      "modification within the given context. The context talks about Knox Capture software features,\n",
      "licenses, and supported devices, but does not mention RKP or protecting kernel data structures.\n",
      "\u001b[32m\n",
      "\n",
      "### Contexts ###\u001b[0m\n",
      "-----------------------------------------------\n",
      "1. Chunk: 1012 Characters\n",
      "-----------------------------------------------\n",
      ". When connecting the keyboard, they would see a prompt asking if they wanted to use the USB\n",
      "keyboard for scanning purposes, even though they may not be using Knox Capture at the time. This\n",
      "release improves the prompt so that it only shows when Knox Capture is being used in the foreground.\n",
      "The device user must grant system permissions for connected devices in order for the prompt to\n",
      "display. If no permissions are granted, the prompt will not display on any screen. #Seamlessly\n",
      "switch between multiple paired devices in Output path If a user is paired with multiple devices in\n",
      "Knox Capture's Output path, they can now switch between each of their paired devices more easily.\n",
      "Previously, if a user had two paired devices in Output path, and Knox Capture was connected to\n",
      "_device A_, the user would first have to disconnect from _device A_ before connecting to _device B_.\n",
      "With this release, the user simply has to connect to _device B_. Knox Capture automatically\n",
      "disconnects from any previously paired devices\n",
      "metadata:\n",
      " {'source': 'all_processed_data.json', 'seq_num': 35, 'title': 'Knox Capture v1.8 release notes',\n",
      "'url': 'https://docs.samsungknox.com/admin/knox-capture/release-notes/v1-8', 'project': 'KCAP',\n",
      "'last_updated': '2023-07-26', 'id': 'f4cd229b-dda2-41a7-ac26-ca9b2efa3ad7'}\n",
      "-----------------------------------------------\n",
      "2. Chunk: 954 Characters\n",
      "-----------------------------------------------\n",
      ". To replace the license, go to the unified License Management page on the Knox Admin Portal, enter\n",
      "the new Knox Suite license key you've purchased, select your existing Knox E-FOTA license key and\n",
      "then select Replace with a new Knox Suite license key. For more information, see Manage Knox\n",
      "licenses in the Knox Admin Portal documentation. Does Knox Suite record device location data? Yes.\n",
      "The location of managed devices can be tracked by services in the Knox Suite. Knox Manage and Knox\n",
      "Asset Intelligence help you locate devices and analyze their movement during the course of business.\n",
      "How securely does Samsung handle individual or business entity data acquired through Knox Suite\n",
      "services? Samsung is committed to safely handling customer information acquired from its business\n",
      "practices, and meets all data storage and handling requirements stipulated by the GDPR. Samsung\n",
      "ensures that data collection is restricted to only that which is necessary\n",
      "metadata:\n",
      " {'source': 'all_processed_data.json', 'seq_num': 80, 'title': 'I am subscribed to an individual\n",
      "Knox cloud service. Can I switch or upgrade to Knox Suite?', 'url':\n",
      "'https://docs.samsungknox.com/admin/knox-suite/faq/#i-am-subscribed-individual-knox-cloud-service-\n",
      "can-i-switch-upgrade-knox-suite', 'project': 'KS', 'last_updated': '2023-07-26', 'id':\n",
      "'401c39c9-069d-4465-97b1-a108c03d1cf3'}\n",
      "-----------------------------------------------\n",
      "3. Chunk: 1007 Characters\n",
      "-----------------------------------------------\n",
      ". For a full list of supported devices, see Supported devices. Keystroke output support in WP-C\n",
      "deployments In previous Knox Capture versions, if an IT admin activated a KPE Premium license with a\n",
      "WP-C deployment, remote injection was blocked in WP-C mode. As a workaround,\n",
      "`AdvancedRestrictionPolicy.allowRemoteControl()` must be set to True to support keystroke output.\n",
      "With this release, keystroke output in WP-C deployments is supported regardless of whether\n",
      "`AdvancedRestrictionPolicy.allowRemoteControl()` is set to True. Keystroke output support is not yet\n",
      "available for Galaxy S20 devices. You must use the aforementioned workaround to use keystroke output\n",
      "on Galaxy S20 devices. Option to disable default profile IT admins can now enable or disable the\n",
      "default profile. If you create profiles for several applications and don't want the default\n",
      "profile's behavior to override any configurations, set the default profile to Off. The default\n",
      "profile setting is available on the Knox Capture main page\n",
      "metadata:\n",
      " {'source': 'all_processed_data.json', 'seq_num': 29, 'title': 'Knox Capture v1.2 release notes',\n",
      "'url': 'https://docs.samsungknox.com/admin/knox-capture/release-notes/v1-2', 'project': 'KCAP',\n",
      "'last_updated': '2023-07-26', 'id': '321c5fe0-2387-474e-a9ae-536e7ba4d0a8'}\n"
     ]
    }
   ],
   "source": [
    "print(\"##################################\")\n",
    "print(\"query: \", query)\n",
    "print(\"##################################\")\n",
    "\n",
    "print (colored(\"\\n\\n### Answer ###\", \"blue\"))\n",
    "print_ww(response['result'])\n",
    "\n",
    "print (colored(\"\\n\\n### Contexts ###\", \"green\"))\n",
    "show_context_used(response['source_documents'])"
   ]
  }
 ],
 "metadata": {
  "kernelspec": {
   "display_name": "conda_python3",
   "language": "python",
   "name": "conda_python3"
  },
  "language_info": {
   "codemirror_mode": {
    "name": "ipython",
    "version": 3
   },
   "file_extension": ".py",
   "mimetype": "text/x-python",
   "name": "python",
   "nbconvert_exporter": "python",
   "pygments_lexer": "ipython3",
   "version": "3.10.12"
  }
 },
 "nbformat": 4,
 "nbformat_minor": 5
}
