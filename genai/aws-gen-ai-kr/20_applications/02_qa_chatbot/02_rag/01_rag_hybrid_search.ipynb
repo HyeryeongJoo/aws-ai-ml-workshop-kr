{
 "cells": [
  {
   "cell_type": "markdown",
   "id": "5deb2df2-413d-49bd-a829-3a1fc344937e",
   "metadata": {},
   "source": [
    "# RAG Based on Hybrid Search (Lexical + Semantic)\n"
   ]
  },
  {
   "cell_type": "markdown",
   "id": "b1f81abc-3277-4a6b-9ef1-d4f997d67fbe",
   "metadata": {},
   "source": [
    "## Setting\n",
    " - Auto Reload\n",
    " - path for utils"
   ]
  },
  {
   "cell_type": "code",
   "execution_count": 23,
   "id": "ddde4105-b759-4d6c-8214-8e1ab485ae48",
   "metadata": {
    "tags": []
   },
   "outputs": [
    {
     "name": "stdout",
     "output_type": "stream",
     "text": [
      "The autoreload extension is already loaded. To reload it, use:\n",
      "  %reload_ext autoreload\n"
     ]
    }
   ],
   "source": [
    "%load_ext autoreload\n",
    "%autoreload 2"
   ]
  },
  {
   "cell_type": "code",
   "execution_count": 24,
   "id": "57c2cdb1-d785-4317-afce-938f13141085",
   "metadata": {
    "tags": []
   },
   "outputs": [],
   "source": [
    "import sys, os\n",
    "module_path = \"../../..\"\n",
    "sys.path.append(os.path.abspath(module_path))"
   ]
  },
  {
   "cell_type": "markdown",
   "id": "9c4ade56-8dbc-4ded-b355-7e4bcc971e90",
   "metadata": {},
   "source": [
    "## 1. Bedrock Client 생성"
   ]
  },
  {
   "cell_type": "code",
   "execution_count": 25,
   "id": "cc2d877f-e877-48f6-8dd4-239de20e45cd",
   "metadata": {
    "tags": []
   },
   "outputs": [],
   "source": [
    "import json\n",
    "import boto3\n",
    "from pprint import pprint\n",
    "from termcolor import colored\n",
    "from utils import bedrock, print_ww\n",
    "from utils.bedrock import bedrock_info"
   ]
  },
  {
   "cell_type": "markdown",
   "id": "088e6490-c79a-49e4-841c-9fdb91292608",
   "metadata": {},
   "source": [
    "### ---- ⚠️ Un-comment and edit the below lines as needed for your AWS setup ⚠️ ----\n",
    "- os.environ[\"AWS_DEFAULT_REGION\"] = \"<REGION_NAME>\"  # E.g. \"us-east-1\"\n",
    "- os.environ[\"AWS_PROFILE\"] = \"<YOUR_PROFILE>\"\n",
    "- os.environ[\"BEDROCK_ASSUME_ROLE\"] = \"<YOUR_ROLE_ARN>\"  # E.g. \"arn:aws:...\"\n",
    "- os.environ[\"BEDROCK_ENDPOINT_URL\"] = \"<YOUR_ENDPOINT_URL>\"  # E.g. \"https://...\""
   ]
  },
  {
   "cell_type": "code",
   "execution_count": 26,
   "id": "cab9312c-5f61-4730-96c3-5eef54a5f08c",
   "metadata": {
    "tags": []
   },
   "outputs": [
    {
     "name": "stdout",
     "output_type": "stream",
     "text": [
      "Create new client\n",
      "  Using region: None\n",
      "  Using profile: None\n",
      "boto3 Bedrock client successfully created!\n",
      "bedrock-runtime(https://bedrock-runtime.us-west-2.amazonaws.com)\n",
      "\u001b[32m\n",
      "== FM lists ==\u001b[0m\n",
      "{'Claude-Instant-V1': 'anthropic.claude-instant-v1',\n",
      " 'Claude-V1': 'anthropic.claude-v1',\n",
      " 'Claude-V2': 'anthropic.claude-v2',\n",
      " 'Claude-V2-1': 'anthropic.claude-v2:1',\n",
      " 'Cohere-Embeddings-En': 'cohere.embed-english-v3',\n",
      " 'Cohere-Embeddings-Multilingual': 'cohere.embed-multilingual-v3',\n",
      " 'Command': 'cohere.command-text-v14',\n",
      " 'Command-Light': 'cohere.command-light-text-v14',\n",
      " 'Jurassic-2-Mid': 'ai21.j2-mid-v1',\n",
      " 'Jurassic-2-Ultra': 'ai21.j2-ultra-v1',\n",
      " 'Llama2-13b-Chat': 'meta.llama2-13b-chat-v1',\n",
      " 'Titan-Embeddings-G1': 'amazon.titan-embed-text-v1',\n",
      " 'Titan-Text-G1': 'amazon.titan-text-express-v1',\n",
      " 'Titan-Text-G1-Light': 'amazon.titan-text-lite-v1'}\n"
     ]
    }
   ],
   "source": [
    "boto3_bedrock = bedrock.get_bedrock_client(\n",
    "    assumed_role=os.environ.get(\"BEDROCK_ASSUME_ROLE\", None),\n",
    "    endpoint_url=os.environ.get(\"BEDROCK_ENDPOINT_URL\", None),\n",
    "    region=os.environ.get(\"AWS_DEFAULT_REGION\", None),\n",
    ")\n",
    "\n",
    "print (colored(\"\\n== FM lists ==\", \"green\"))\n",
    "pprint (bedrock_info.get_list_fm_models(verbose=False))"
   ]
  },
  {
   "cell_type": "markdown",
   "id": "241a9e34-417a-422f-9f75-cb211b2e70e1",
   "metadata": {
    "tags": []
   },
   "source": [
    "## 2. Titan Embedding 및 LLM 인 Claude-v2 모델 로딩"
   ]
  },
  {
   "cell_type": "markdown",
   "id": "29bf63d2-4110-407c-af06-a45d2fbed4b5",
   "metadata": {},
   "source": [
    "### LLM 로딩 (Claude-v2)"
   ]
  },
  {
   "cell_type": "code",
   "execution_count": 27,
   "id": "9c51443a-04f9-465c-9564-53053eb3e1c2",
   "metadata": {
    "tags": []
   },
   "outputs": [],
   "source": [
    "from langchain.llms.bedrock import Bedrock\n",
    "from langchain.callbacks.streaming_stdout import StreamingStdOutCallbackHandler"
   ]
  },
  {
   "cell_type": "code",
   "execution_count": 28,
   "id": "d09e84e0-b9e1-4b12-8e7a-68f03c5416e5",
   "metadata": {
    "tags": []
   },
   "outputs": [
    {
     "data": {
      "text/plain": [
       "Bedrock(client=<botocore.client.BedrockRuntime object at 0x7f6be5656110>, model_id='anthropic.claude-v2:1', model_kwargs={'max_tokens_to_sample': 1024}, streaming=True, callbacks=[<langchain_core.callbacks.streaming_stdout.StreamingStdOutCallbackHandler object at 0x7f6c460f0550>])"
      ]
     },
     "execution_count": 28,
     "metadata": {},
     "output_type": "execute_result"
    }
   ],
   "source": [
    "llm_text = Bedrock(\n",
    "    model_id=bedrock_info.get_model_id(model_name=\"Claude-V2-1\"),\n",
    "    client=boto3_bedrock,\n",
    "    model_kwargs={\n",
    "        \"max_tokens_to_sample\": 1024\n",
    "    },\n",
    "    streaming=True,\n",
    "    callbacks=[StreamingStdOutCallbackHandler()]\n",
    ")\n",
    "\n",
    "llm_text"
   ]
  },
  {
   "cell_type": "markdown",
   "id": "3ba2e829-af8f-4e90-b994-59106cdec8d8",
   "metadata": {},
   "source": [
    "### Embedding 모델 선택"
   ]
  },
  {
   "cell_type": "code",
   "execution_count": 29,
   "id": "0b7b8752-d1e3-4f41-ba35-6da42c3785db",
   "metadata": {
    "tags": []
   },
   "outputs": [],
   "source": [
    "from utils.rag import KoSimCSERobertaContentHandler, SagemakerEndpointEmbeddingsJumpStart"
   ]
  },
  {
   "cell_type": "code",
   "execution_count": 30,
   "id": "793b03f7-3186-4969-b76a-98fe56bd5fdc",
   "metadata": {
    "tags": []
   },
   "outputs": [],
   "source": [
    "def get_embedding_model(is_bedrock_embeddings, is_KoSimCSERobert, aws_region, endpont_name=None):\n",
    "\n",
    "    if is_bedrock_embeddings:\n",
    "        # We will be using the Titan Embeddings Model to generate our Embeddings.\n",
    "        from langchain.embeddings import BedrockEmbeddings\n",
    "        llm_emb = BedrockEmbeddings(\n",
    "            client=boto3_bedrock,\n",
    "            model_id=bedrock_info.get_model_id(\n",
    "                model_name=\"Titan-Embeddings-G1\"\n",
    "            )\n",
    "        )\n",
    "        print(\"Bedrock Embeddings Model Loaded\")\n",
    "\n",
    "    elif is_KoSimCSERobert:\n",
    "        LLMEmbHandler = KoSimCSERobertaContentHandler()\n",
    "        endpoint_name_emb = endpont_name\n",
    "        llm_emb = SagemakerEndpointEmbeddingsJumpStart(\n",
    "            endpoint_name=endpoint_name_emb,\n",
    "            region_name=aws_region,\n",
    "            content_handler=LLMEmbHandler,\n",
    "        )\n",
    "        print(\"KoSimCSERobert Embeddings Model Loaded\")\n",
    "    else:\n",
    "        llm_emb = None\n",
    "        print(\"No Embedding Model Selected\")\n",
    "\n",
    "    return llm_emb"
   ]
  },
  {
   "cell_type": "markdown",
   "id": "cd72a6b8-eaf0-4036-a530-3bde5ba988cd",
   "metadata": {},
   "source": [
    "#### [중요] is_KoSimCSERobert == True 일시에 endpoint_name 을 꼭 넣어 주세요."
   ]
  },
  {
   "cell_type": "code",
   "execution_count": 31,
   "id": "f42e032b-8715-432c-ae71-12a889f8ffc0",
   "metadata": {
    "tags": []
   },
   "outputs": [
    {
     "name": "stdout",
     "output_type": "stream",
     "text": [
      "Bedrock Embeddings Model Loaded\n"
     ]
    }
   ],
   "source": [
    "is_bedrock_embeddings = True\n",
    "is_KoSimCSERobert = False\n",
    "aws_region = os.environ.get(\"AWS_DEFAULT_REGION\", None)\n",
    "\n",
    "##############################\n",
    "# Parameters for is_KoSimCSERobert\n",
    "##############################\n",
    "if is_KoSimCSERobert: endpont_name = \"<endpoint-name>\"\n",
    "else: endpont_name = None\n",
    "##############################\n",
    "\n",
    "llm_emb = get_embedding_model(is_bedrock_embeddings, is_KoSimCSERobert, aws_region, endpont_name)   "
   ]
  },
  {
   "cell_type": "markdown",
   "id": "7e432237-b9b5-4be3-aa0c-c30eeca6f480",
   "metadata": {},
   "source": [
    "## 3. LangChainOpenSearch VectorStore 정의\n",
    "### 선수 조건\n",
    "- 01_preprocess_docs/02_load_docs_opensearch.ipynb를 통해서 OpenSearch Index 가 생성이 되어 있어야 합니다.\n",
    "#### [중요] 아래에 aws parameter store 에 아래 인증정보가 먼저 입력되어 있어야 합니다.\n",
    "- 01_preprocess_docs/01_parameter_store_example.ipynb 참고"
   ]
  },
  {
   "cell_type": "code",
   "execution_count": 35,
   "id": "635ffe33-b1b1-49f7-ae14-07b782d30a63",
   "metadata": {
    "tags": []
   },
   "outputs": [],
   "source": [
    "import boto3\n",
    "from utils.ssm import parameter_store"
   ]
  },
  {
   "cell_type": "code",
   "execution_count": 36,
   "id": "7c306f9b-35e9-4f5f-aaef-0b3d00cf30e4",
   "metadata": {
    "tags": []
   },
   "outputs": [],
   "source": [
    "region=boto3.Session().region_name\n",
    "pm = parameter_store(region)"
   ]
  },
  {
   "cell_type": "code",
   "execution_count": 37,
   "id": "4a7a8669-f62a-4670-8552-ec684511f272",
   "metadata": {
    "tags": []
   },
   "outputs": [],
   "source": [
    "opensearch_domain_endpoint = pm.get_params(\n",
    "    key=\"opensearch_domain_endpoint\",\n",
    "    enc=False\n",
    ")\n",
    "\n",
    "opensearch_user_id = pm.get_params(\n",
    "    key=\"opensearch_user_id\",\n",
    "    enc=False\n",
    ")\n",
    "\n",
    "opensearch_user_password = pm.get_params(\n",
    "    key=\"opensearch_user_password\",\n",
    "    enc=True\n",
    ")"
   ]
  },
  {
   "cell_type": "code",
   "execution_count": 38,
   "id": "fc7866fd-fd9c-4b41-b600-a91e43edfe4d",
   "metadata": {
    "tags": []
   },
   "outputs": [],
   "source": [
    "opensearch_domain_endpoint = opensearch_domain_endpoint\n",
    "rag_user_name = opensearch_user_id\n",
    "rag_user_password = opensearch_user_password\n",
    "\n",
    "http_auth = (rag_user_name, rag_user_password) # Master username, Master password"
   ]
  },
  {
   "cell_type": "markdown",
   "id": "161a900e-effc-4d7f-a179-b6c00eac03ad",
   "metadata": {
    "tags": []
   },
   "source": [
    "### Index 이름 셋팅\n",
    "- 이전 노트북 01_preprocess_docs/02_load_docs_opensearch.ipynb를 통해서 생성된 OpenSearch Index name 입력"
   ]
  },
  {
   "cell_type": "code",
   "execution_count": 39,
   "id": "d5d9b5eb-052e-4e84-846b-c5385e853ba4",
   "metadata": {
    "tags": []
   },
   "outputs": [],
   "source": [
    "#index_name = \"genai-poc-knox-incremental-1024c-256o-v7\"\n",
    "index_name = \"<your index>\"\n",
    "index_name = \"rag-index-ko\""
   ]
  },
  {
   "cell_type": "markdown",
   "id": "482f5785-b88d-44fa-a603-080e4bd734a6",
   "metadata": {},
   "source": [
    "### OpenSearch Client 생성"
   ]
  },
  {
   "cell_type": "code",
   "execution_count": 40,
   "id": "968b7502-5799-4702-bc17-959e88c330a2",
   "metadata": {
    "tags": []
   },
   "outputs": [],
   "source": [
    "from utils.opensearch import opensearch_utils"
   ]
  },
  {
   "cell_type": "code",
   "execution_count": 41,
   "id": "6ceb46a1-e425-4f7e-9319-793b55abb938",
   "metadata": {
    "tags": []
   },
   "outputs": [],
   "source": [
    "os_client = opensearch_utils.create_aws_opensearch_client(\n",
    "    aws_region,\n",
    "    opensearch_domain_endpoint,\n",
    "    http_auth\n",
    ")"
   ]
  },
  {
   "cell_type": "markdown",
   "id": "a5084376-7523-4cf9-9123-adc4ae79f66d",
   "metadata": {
    "tags": []
   },
   "source": [
    "## 4. Retriever based on Hybrid Search 정의\n",
    "- LangChain에서 제공하는 **BaseRetriever** 클래스를 상속받아 **Custom Retriever**를 정의 할 수 있습니다.\n",
    "- 본 샘플코드 에서는 **Hybrid Search based Retriever**를 **정의**합니다. "
   ]
  },
  {
   "cell_type": "markdown",
   "id": "b0a25df0-2a13-4d73-9edc-532caf98f804",
   "metadata": {},
   "source": [
    "OpenSearch Hybrid 는 아래와 같은 방식으로 작동합니다.\n",
    "- (1) Sematic serch를 통해 각 document별 relevant score 산출\n",
    "- (2) Lexical search를 통해 각 document별 relevant score 산출\n",
    "- (3-1) Rank-fusion 방식이 \"simple weighted\" 일 경우\n",
    "    - 산출된 score에 대한 normalization 수행\n",
    "    - 전체 결과에서 가장 높은 스코어는 표준화 과정을 통하여 스코어가 1.0 이 됨.\n",
    "- (3-2) Rank-fusion 방식이 \"Reciprocal Rank Fusion (RRF)\" 일 경우\n",
    "    - Paper: https://plg.uwaterloo.ca/~gvcormac/cormacksigir09-rrf.pdf\n",
    "    - Desc: https://medium.com/@sowmiyajaganathan/hybrid-search-with-re-ranking-ff120c8a426d\n",
    "    - **RRF의 경우 score가 아닌 ranking 정보를 활용, 때문에 score normalization이 필요 없음**\n",
    "    - ![rrf.png](../../../10_advanced_question_answering/img/rrf.png)\n",
    "\n",
    "RRF는 langchain에서 \"Ensemble Retriever\" 이름으로 api를 제공합니다. \n",
    "- https://python.langchain.com/docs/modules/data_connection/retrievers/ensemble"
   ]
  },
  {
   "cell_type": "code",
   "execution_count": 42,
   "id": "5db8e470-63a9-4c3d-94c8-1d270a6da822",
   "metadata": {
    "tags": []
   },
   "outputs": [],
   "source": [
    "from utils.rag import OpenSearchHybridSearchRetriever"
   ]
  },
  {
   "cell_type": "markdown",
   "id": "d7feac2f-21a2-4756-b989-66c180bb1e79",
   "metadata": {},
   "source": [
    "- 필터 설정 예시\n",
    "- filter=[ <BR>\n",
    "    　{\"term\": {\"metadata.[**your_metadata_attribute_name**]\": \"**your first keyword**\"}}, <BR>\n",
    "    　{\"term\": {\"metadata.[**your_metadata_attribute_name**]\": \"**your second keyword**\"}},<BR>\n",
    "]"
   ]
  },
  {
   "cell_type": "code",
   "execution_count": 43,
   "id": "49c7e131-294f-4ff8-9331-989709c7079c",
   "metadata": {
    "tags": []
   },
   "outputs": [],
   "source": [
    "opensearch_hybrid_retriever = OpenSearchHybridSearchRetriever(\n",
    "    # necessary\n",
    "    os_client=os_client,\n",
    "    index_name=index_name,\n",
    "    llm_emb=llm_emb,\n",
    "    llm_text=llm_text,\n",
    "\n",
    "    # option for lexical\n",
    "    minimum_should_match=0,\n",
    "    filter=[],\n",
    "\n",
    "    # option for rank fusion\n",
    "    fusion_algorithm=\"RRF\", # [\"RRF\", \"simple_weighted\"], rank fusion 방식 정의\n",
    "    ensemble_weights=[.51, .49], # [for lexical, for semantic], Lexical, Semantic search 결과에 대한 최종 반영 비율 정의\n",
    "\n",
    "    # option for async search\n",
    "    async_mode=True,\n",
    "\n",
    "    # option for output\n",
    "    k=5, # 최종 Document 수 정의\n",
    "    verbose=False,\n",
    ")"
   ]
  },
  {
   "cell_type": "markdown",
   "id": "cfb26835-ad98-41c5-9e9d-2453642e3551",
   "metadata": {},
   "source": [
    "### Retrieval example\n",
    "- default search"
   ]
  },
  {
   "cell_type": "code",
   "execution_count": 44,
   "id": "9c06e89f-79de-413c-ba9c-a188ca3fe2d0",
   "metadata": {
    "tags": []
   },
   "outputs": [],
   "source": [
    "from utils.rag import show_context_used"
   ]
  },
  {
   "cell_type": "code",
   "execution_count": 63,
   "id": "fe3bfee3-dac1-45b9-8795-03e36c1632a9",
   "metadata": {
    "tags": []
   },
   "outputs": [],
   "source": [
    "query = \"새로운 AR 데모 모드 기능을 도입한 Knox Capture 버전은 무엇인가요?\""
   ]
  },
  {
   "cell_type": "code",
   "execution_count": 64,
   "id": "05b13e5e-4a66-4dc8-b18c-42a6e3bd6037",
   "metadata": {
    "tags": []
   },
   "outputs": [
    {
     "name": "stdout",
     "output_type": "stream",
     "text": [
      "\n",
      "==========  Results  ==========\n",
      "\n",
      "1. question: 새로운 AR 데모 모드 기능을 도입한 Knox Capture 버전은 무엇인가요?\n",
      "2. # documents: 5\n",
      "3. Documents: \n",
      "\n",
      "-----------------------------------------------\n",
      "1. Chunk: 938 Characters\n",
      "-----------------------------------------------\n",
      ".Knox 관리 포털에서 Knox 클라우드 서비스를 함께 사용하는 기존 Knox Guard 고객인 경우 기본적으로 탐색 창에서 Knox Guard가 숨겨집니다.서비스 표시/숨기기\n",
      "페이지로 이동하여 다시 추가하세요.녹스가드 어드밴스드 녹스가드 23.03은 _녹스 가드 어드밴스드_라는 새로운 라이선스를 제공합니다. 이 라이선스는 기존 녹스 가드 기능 외에\n",
      "부가가치 기능을 제공합니다.이번 릴리스에서는 디바이스에 최대 다섯 개의 앱을 설치할 수 있습니다. 이전 버전에서는 한 개만 설치할 수 있었습니다.API를 사용하여 삭제된 디바이스의\n",
      "PIN 생성 Knox Guard 23.03은 삭제된 디바이스의 PIN을 생성할 수 있는 새로운 API를 제공하여 디바이스 사용자가 디바이스를 잠금 해제할 수 있도록\n",
      "지원합니다.PIN 잠금 생성과 관련된 API 호출은 다음과 같습니다. GET /KCS/v1.1/kg/Devices/Deleted/getPin, GET\n",
      "/KCS/v1.1/kg/Devices/Deleted/getPinbyChallenge 녹스 가드용 새로운 녹스 웹후크 알림 API 이전에는 업데이트된 디바이스 정보를 가져오려면 녹스\n",
      "클라우드 API를 반복해서 호출해야 했습니다.시리얼 Knox Cloud API 호출을 대량으로 수행하면 때때로 성능이 느려질 수 있습니다.23.03 릴리스에는 KWN 구독 API에\n",
      "Knox Guard 이벤트를 구독할 수 있는 Knox 웹후크 알림이 도입되었습니다.구독한 이벤트가 완료되면 KWN은 API의 출력을 다시 전송합니다.이 새로운 서비스를 통해 이제\n",
      "구독한 이벤트가 처리되는 즉시 웹 서비스에서 알림을 받을 수 있습니다. 23.03 릴리스에서 사용할 수 있는 Knox Guard 웹후크 이벤트는 장치 등록 및 장치 재잠금\n",
      "타임스탬핑입니다.자세한 내용은 Knox Guard용 Knox 웹후크 알림 가이드를 참조하십시오.릴리스 노트로 돌아가기\n",
      "metadata:\n",
      " {'source': 'all_processed_data_ko.json', 'seq_num': 72, 'title': '녹스 가드 23.03 릴리즈 노트', 'url':\n",
      "'https://docs.samsungknox.com/admin/knox-guard/release-notes/23-03', 'project': 'KG',\n",
      "'last_updated': '2023-07-26', 'id': '6db3c371-25f4-4793-95bc-83e1f413251f'}\n",
      "-----------------------------------------------\n",
      "2. Chunk: 1009 Characters\n",
      "-----------------------------------------------\n",
      ".사용 사례: 소규모 기업에서는 이 모델을 사용하여 기기 구매와 관련된 자본 비용을 절감할 수 있습니다.Google은 Android 10의 레거시 기기 관리자 (DA) 관리 모드를\n",
      "더 이상 사용하지 않습니다.2020년 11월 2일까지 구글은 API 레벨 29 또는 Android 10을 타겟팅하기 위한 앱 업데이트를 요구합니다.이날부터 더 이상 사용되지 않는\n",
      "4개의 DA 정책을 호출하면 앱 업데이트에서 예외가 발생하기 시작합니다.자세한 내용은 기기 관리자 지원 중단을 참조하세요.녹스 워크스페이스 컨테이너는 노트 10과 함께 출시된\n",
      "안드로이드 10의 Knox 3.4.1에서 지원이 중단되었습니다.하지만 Knox 3.4.1 이상으로 업그레이드된 S10과 같은 구형 디바이스는 EOL 이전까지 Knox\n",
      "Workspace 컨테이너를 계속 지원합니다.Android Enterprise와 Knox의 최신 기능을 모두 활용하려면 Knox Workspace 컨테이너 대신 작업 프로필을\n",
      "사용하는 것이 좋습니다.Knox로 강화된 작업 프로필 Android Enterprise 작업 프로필은 기업에 업무 앱과 데이터를 하나의 디바이스에서 안전하게 격리할 수 있는\n",
      "솔루션을 제공합니다.엔터프라이즈용 Knox Platform은 삼성 디바이스의 작업 프로필에 대해 보다 세분화된 관리 정책을 제공합니다.#Data 전송 업무 데이터와 개인 데이터를\n",
      "분리하면 디바이스 사용자는 별도의 두 공간에 액세스할 수 있습니다.특정 상황에서 생산성을 높이려면 공간 간에 데이터를 공유해야 하는 경우가 많습니다.예를 들어 개인 공간에서 전화\n",
      "앱을 사용하는 동안 보안 업무용 공간에 저장된 회사 연락처로 전화를 걸어야 할 수 있습니다.작업 프로필을 사용하면 IT 관리자는 작업 프로필로 데이터를 가져오거나 작업 프로필에서\n",
      "데이터를 가져오고 내보내는 작업을 관리할 수 있는 세분화된 관리 정책을 갖게 됩니다.이 데이터에는 앱, 파일, 클립보드 데이터, 통화 기록, 연락처, 캘린더 이벤트, 북마크,\n",
      "알림, 단축어, SMS가 포함될 수 있습니다\n",
      "metadata:\n",
      " {'source': 'all_processed_data_ko.json', 'seq_num': 145, 'title': '앱 보안', 'url':\n",
      "'https://docs.samsungknox.com/admin/fundamentals/whitepaper/core-platform-security/app-security',\n",
      "'project': 'USP', 'last_updated': '2023-07-26', 'id': 'e876d3b8-ddf7-4d1d-982b-8c07fe2b18b6'}\n",
      "-----------------------------------------------\n",
      "3. Chunk: 1019 Characters\n",
      "-----------------------------------------------\n",
      ".사용자 지정이며 엔터프라이즈 배포에는 적합하지 않습니다.전체 Knox 기능 세트를 활용하려면 대신 Android, Secure by Knox로 지정된 디바이스를 선택하는 것이\n",
      "좋습니다.안드로이드 고 디바이스는 어떤 Knox 솔루션을 지원하나요?지원되는 Knox 솔루션 및 기능: 엔터프라이즈용 Knox Platform 또는 엔터프라이즈용 Knox\n",
      "Platform Premium 정책이 없는 Knox Manage 정책, Android Enterprise (일반) 특정 디바이스에서 지원되지 않는 고급 Knox 기능 대부분의 삼성\n",
      "디바이스는 모바일 디바이스 시장에서 흔히 볼 수 있는 표준 기능을 넘어서는 동급 최고의 하드웨어 기반 보안, 정책 관리, 규정 준수 기능을 제공하지만 하드웨어 사양이 더 가벼운\n",
      "일부 디바이스는 일부 고급 기능을 지원하지 않을 수 있습니다.이러한 기능 목록은 관련 제품에 대한 다음 문서를 참조하십시오. 엔터프라이즈용 Knox Platform, Knox\n",
      "Configure Knox Manage에서 안드로이드, 기타/Android Go 디바이스에서 키오스크 모드를 활성화하려면 어떻게 해야 하나요?키오스크 모드를 사용하려면 디바이스를\n",
      "디바이스 소유자 (DO) 모드로 등록하세요.Android 레거시의 키오스크 모드는 지원되지 않습니다.DO 모드로 등록하려면: 1.이미 키오스크 모드에 있는 장치의 경우 공장\n",
      "초기화를 수행하십시오.그런 다음 키오스크를 사용하기 전에 Android 엔터프라이즈 DO 모드를 활성화하세요. 2.아직 등록되지 않은 장치의 경우 키오스크를 사용하기 전에 먼저\n",
      "Android 엔터프라이즈 DO 모드를 활성화하십시오.추가 정보 Android, 기타/Android Go 디바이스에서 Knox SDK를 사용하는 경우 다음 리소스를 참조하여 자세히\n",
      "알아보세요. Knox SDK를 사용하여 Android Go 또는 One UI Core 디바이스를 식별하는 방법, Android 10 업그레이드 후 Android, 기타 및\n",
      "Android Go 디바이스에서 KPE 기능이 손실되는 경우\n",
      "metadata:\n",
      " {'source': 'all_processed_data_ko.json', 'seq_num': 205, 'title': '시큐어드 바이 녹스, 안드로이드 소개 - 기타 및\n",
      "안드로이드 Go 디바이스', 'url': 'https://docs.samsungknox.com/admin/fundamentals/kbas/kba-349-about-android-\n",
      "others-android-go-devices', 'project': 'USP', 'last_updated': '2023-07-26', 'id':\n",
      "'8d59c3d7-5c25-4457-9510-4344d65b98ed'}\n",
      "-----------------------------------------------\n",
      "4. Chunk: 959 Characters\n",
      "-----------------------------------------------\n",
      ".Knox 보안 디바이스에서 디바이스가 어떤 범주에 속하는지 확인할 수 있습니다.Knox를 완전히 지원하는 모든 디바이스에는 Android, Secure by Knox로 지정되어\n",
      "있으며, Knox 호환성이 제한적이거나 전혀 없는 디바이스는 Android, Other 또는 Android Go로 표시됩니다.시큐어드 바이 녹스 디바이스와 안드로이드,\n",
      "기타/안드로이드 Go 디바이스의 차이점은 무엇인가요?Secure by Knox 디바이스에는 부팅 및 런타임 중에 데이터를 보호하는 하드웨어 지원 아키텍처가 포함되어\n",
      "있습니다.하드웨어 수준에서 보면 Android, 기타 및 Android Go 디바이스에는 신뢰할 수 있는 실행 환경 (예: “TrustZone”) 의 루트 오브 트러스트 키가\n",
      "없습니다.일반적으로 이러한 디바이스는 엔터프라이즈용 Knox Platform, 나아가 다른 Knox 솔루션을 지원할 수 없지만 특정 Knox 클라우드 제품에서 이를 지원하기 위한\n",
      "특별한 해결 방법이 구현되어 있습니다.Android 및 기타 디바이스에서 지원하는 Knox 솔루션은 무엇인가요?지원되는 Knox 솔루션 및 기능: Knox 모바일 등록, Knox\n",
      "Configure, 엔터프라이즈용 Knox 플랫폼 또는 엔터프라이즈 프리미엄을 위한 Knox 플랫폼 없는 Knox 관리 정책, Knox E-FOTA, Android\n",
      "Enterprise (일반) 지원되지 않는 Knox 솔루션 및 기능: 엔터프라이즈용 Knox 플랫폼, Knox 서비스 플러그인, Knox Manage, 엔터프라이즈용 Knox\n",
      "플랫폼 또는 엔터프라이즈 프리미엄용 Knox 플랫폼 정책, Knox Mobile Enterpriment Direct, Knox Capture, Knox Asset\n",
      "Intelligence, Knox 배포 앱 Android, 기타 디바이스는 기본적인 보안, 관리 기능만 제공합니다.사용자 지정이며 엔터프라이즈 배포에는 적합하지 않습니다\n",
      "metadata:\n",
      " {'source': 'all_processed_data_ko.json', 'seq_num': 205, 'title': '시큐어드 바이 녹스, 안드로이드 소개 - 기타 및\n",
      "안드로이드 Go 디바이스', 'url': 'https://docs.samsungknox.com/admin/fundamentals/kbas/kba-349-about-android-\n",
      "others-android-go-devices', 'project': 'USP', 'last_updated': '2023-07-26', 'id':\n",
      "'82d042f4-ce0a-4004-90a6-761d7b88f882'}\n",
      "-----------------------------------------------\n",
      "5. Chunk: 1021 Characters\n",
      "-----------------------------------------------\n",
      "디바이스의 위치를 확인합니다.선택한 장치의 위치를 확인할 수 있습니다.위치 정책이 적용된 디바이스만 추적할 수 있습니다.위치 데이터가 한 번 이상 수집된 경우에만 장치의 위치를\n",
      "확인할 수 있습니다.Android 11 및 12 디바이스의 위치를 추적하려면 디바이스 사용자가 Knox Manage 에이전트에 위치 액세스 권한을 부여해야 합니다.이는 다음과 같은\n",
      "배포 유형의 디바이스에 영향을 미칩니다. 작업 프로필이 있는 직원 소유 디바이스, 보조 계정이 있는 공유 디바이스. 이러한 디바이스를 사용하는 사용자에게 다음과 같은 액세스 설정을\n",
      "허용하도록 알려야 합니다. Android 11:1.Knox Manage 에이전트가 위치 액세스를 요청하면 사용자는 이 앱을 사용하는 동안 을 선택해야 합니다. 2.그런 다음 작업\n",
      "프로필 설정 > 앱 > Knox Manage > 앱 권한으로 이동하고 위치를 항상 허용으로 설정해야 합니다.Android 12 이상: Knox Manage 에이전트가 위치 액세스를\n",
      "요청하면 사용자는 Precise와 이 앱을 사용하는 동안 옵션을 선택해야 합니다. 1.디바이스로 이동합니다. 2.기기 페이지에서 기기를 하나 이상 선택한 다음 위치 확인을\n",
      "클릭합니다. 3.위치 확인 페이지에서 날짜별로 검색합니다.뷰에는 디바이스의 대화형 지도와 위치 기록이 표시됩니다.이 페이지에서는 개별 장치 정보를 검사하고 위치 기록을 GPX\n",
      "파일로 내보낼 수 있습니다.기기 맵 위치 확인 화면에서 맵은 추적된 모든 기기의 최신 위치를 표시합니다.맵에는 요소, 의미 -, -! 범례가 사용됩니다.액티브 디바이스 핀, 액티브\n",
      "디바이스!비활성 디바이스 핀, 킵얼라이브 기간이 만료된 디바이스!액티브 디바이스 클러스터, 1~9개의 디바이스로 구성된 클러스터!액티브 디바이스 클러스터, 10~99개 디바이스로\n",
      "구성된 클러스터!액티브 디바이스 클러스터, 100~999개 디바이스로 구성된 클러스터!활성 장치 클러스터, 1000~9999개 장치 클러스터 핀 위로 마우스를 가져가면 개별 장치의\n",
      "상태를 볼 수 있습니다!액티브 디바이스 핀\n",
      "metadata:\n",
      " {'source': 'all_processed_data_ko.json', 'seq_num': 344, 'title': '디바이스 위치 확인', 'url':\n",
      "'https://docs.samsungknox.com/admin/knox-manage/configure/devices/monitor-devices/check-the-\n",
      "locations-of-devices', 'project': 'KM', 'last_updated': '2023-07-26', 'id':\n",
      "'a0aac6b7-a054-4a87-8abb-ba51f8fea19a'}\n",
      "CPU times: user 14.6 ms, sys: 0 ns, total: 14.6 ms\n",
      "Wall time: 115 ms\n"
     ]
    }
   ],
   "source": [
    "%%time\n",
    "search_hybrid_result = opensearch_hybrid_retriever.get_relevant_documents(query)\n",
    "\n",
    "print(\"\\n==========  Results  ==========\\n\")\n",
    "print(f'1. question: {query}')\n",
    "print (f'2. # documents: {len(search_hybrid_result)}')\n",
    "print(\"3. Documents: \\n\")\n",
    "\n",
    "show_context_used(search_hybrid_result)"
   ]
  },
  {
   "cell_type": "markdown",
   "id": "c09221b5-4a6c-463b-9769-35cc8362e33c",
   "metadata": {},
   "source": [
    "- update parameters"
   ]
  },
  {
   "cell_type": "code",
   "execution_count": 65,
   "id": "b7bb4672-d2b8-4b29-b71c-b06d84bcd470",
   "metadata": {
    "tags": []
   },
   "outputs": [],
   "source": [
    "opensearch_hybrid_retriever.update_search_params(\n",
    "    k=10,\n",
    "    minimum_should_match=0,\n",
    "    filter=[],\n",
    "    #filter=[\n",
    "    #    {\"term\": {\"metadata.seq_num\": \"64\"}},\n",
    "    #],\n",
    "    async_mode=True\n",
    ")"
   ]
  },
  {
   "cell_type": "code",
   "execution_count": 66,
   "id": "1b9b45b1-cb92-4954-8087-143a550350c8",
   "metadata": {
    "tags": []
   },
   "outputs": [
    {
     "name": "stdout",
     "output_type": "stream",
     "text": [
      "\n",
      "==========  Results  ==========\n",
      "\n",
      "1. question: 새로운 AR 데모 모드 기능을 도입한 Knox Capture 버전은 무엇인가요?\n",
      "2. # documents: 10\n",
      "3. Documents: \n",
      "\n",
      "-----------------------------------------------\n",
      "1. Chunk: 938 Characters\n",
      "-----------------------------------------------\n",
      ".Knox 관리 포털에서 Knox 클라우드 서비스를 함께 사용하는 기존 Knox Guard 고객인 경우 기본적으로 탐색 창에서 Knox Guard가 숨겨집니다.서비스 표시/숨기기\n",
      "페이지로 이동하여 다시 추가하세요.녹스가드 어드밴스드 녹스가드 23.03은 _녹스 가드 어드밴스드_라는 새로운 라이선스를 제공합니다. 이 라이선스는 기존 녹스 가드 기능 외에\n",
      "부가가치 기능을 제공합니다.이번 릴리스에서는 디바이스에 최대 다섯 개의 앱을 설치할 수 있습니다. 이전 버전에서는 한 개만 설치할 수 있었습니다.API를 사용하여 삭제된 디바이스의\n",
      "PIN 생성 Knox Guard 23.03은 삭제된 디바이스의 PIN을 생성할 수 있는 새로운 API를 제공하여 디바이스 사용자가 디바이스를 잠금 해제할 수 있도록\n",
      "지원합니다.PIN 잠금 생성과 관련된 API 호출은 다음과 같습니다. GET /KCS/v1.1/kg/Devices/Deleted/getPin, GET\n",
      "/KCS/v1.1/kg/Devices/Deleted/getPinbyChallenge 녹스 가드용 새로운 녹스 웹후크 알림 API 이전에는 업데이트된 디바이스 정보를 가져오려면 녹스\n",
      "클라우드 API를 반복해서 호출해야 했습니다.시리얼 Knox Cloud API 호출을 대량으로 수행하면 때때로 성능이 느려질 수 있습니다.23.03 릴리스에는 KWN 구독 API에\n",
      "Knox Guard 이벤트를 구독할 수 있는 Knox 웹후크 알림이 도입되었습니다.구독한 이벤트가 완료되면 KWN은 API의 출력을 다시 전송합니다.이 새로운 서비스를 통해 이제\n",
      "구독한 이벤트가 처리되는 즉시 웹 서비스에서 알림을 받을 수 있습니다. 23.03 릴리스에서 사용할 수 있는 Knox Guard 웹후크 이벤트는 장치 등록 및 장치 재잠금\n",
      "타임스탬핑입니다.자세한 내용은 Knox Guard용 Knox 웹후크 알림 가이드를 참조하십시오.릴리스 노트로 돌아가기\n",
      "metadata:\n",
      " {'source': 'all_processed_data_ko.json', 'seq_num': 72, 'title': '녹스 가드 23.03 릴리즈 노트', 'url':\n",
      "'https://docs.samsungknox.com/admin/knox-guard/release-notes/23-03', 'project': 'KG',\n",
      "'last_updated': '2023-07-26', 'id': '6db3c371-25f4-4793-95bc-83e1f413251f'}\n",
      "-----------------------------------------------\n",
      "2. Chunk: 1009 Characters\n",
      "-----------------------------------------------\n",
      ".사용 사례: 소규모 기업에서는 이 모델을 사용하여 기기 구매와 관련된 자본 비용을 절감할 수 있습니다.Google은 Android 10의 레거시 기기 관리자 (DA) 관리 모드를\n",
      "더 이상 사용하지 않습니다.2020년 11월 2일까지 구글은 API 레벨 29 또는 Android 10을 타겟팅하기 위한 앱 업데이트를 요구합니다.이날부터 더 이상 사용되지 않는\n",
      "4개의 DA 정책을 호출하면 앱 업데이트에서 예외가 발생하기 시작합니다.자세한 내용은 기기 관리자 지원 중단을 참조하세요.녹스 워크스페이스 컨테이너는 노트 10과 함께 출시된\n",
      "안드로이드 10의 Knox 3.4.1에서 지원이 중단되었습니다.하지만 Knox 3.4.1 이상으로 업그레이드된 S10과 같은 구형 디바이스는 EOL 이전까지 Knox\n",
      "Workspace 컨테이너를 계속 지원합니다.Android Enterprise와 Knox의 최신 기능을 모두 활용하려면 Knox Workspace 컨테이너 대신 작업 프로필을\n",
      "사용하는 것이 좋습니다.Knox로 강화된 작업 프로필 Android Enterprise 작업 프로필은 기업에 업무 앱과 데이터를 하나의 디바이스에서 안전하게 격리할 수 있는\n",
      "솔루션을 제공합니다.엔터프라이즈용 Knox Platform은 삼성 디바이스의 작업 프로필에 대해 보다 세분화된 관리 정책을 제공합니다.#Data 전송 업무 데이터와 개인 데이터를\n",
      "분리하면 디바이스 사용자는 별도의 두 공간에 액세스할 수 있습니다.특정 상황에서 생산성을 높이려면 공간 간에 데이터를 공유해야 하는 경우가 많습니다.예를 들어 개인 공간에서 전화\n",
      "앱을 사용하는 동안 보안 업무용 공간에 저장된 회사 연락처로 전화를 걸어야 할 수 있습니다.작업 프로필을 사용하면 IT 관리자는 작업 프로필로 데이터를 가져오거나 작업 프로필에서\n",
      "데이터를 가져오고 내보내는 작업을 관리할 수 있는 세분화된 관리 정책을 갖게 됩니다.이 데이터에는 앱, 파일, 클립보드 데이터, 통화 기록, 연락처, 캘린더 이벤트, 북마크,\n",
      "알림, 단축어, SMS가 포함될 수 있습니다\n",
      "metadata:\n",
      " {'source': 'all_processed_data_ko.json', 'seq_num': 145, 'title': '앱 보안', 'url':\n",
      "'https://docs.samsungknox.com/admin/fundamentals/whitepaper/core-platform-security/app-security',\n",
      "'project': 'USP', 'last_updated': '2023-07-26', 'id': 'e876d3b8-ddf7-4d1d-982b-8c07fe2b18b6'}\n",
      "-----------------------------------------------\n",
      "3. Chunk: 1019 Characters\n",
      "-----------------------------------------------\n",
      ".사용자 지정이며 엔터프라이즈 배포에는 적합하지 않습니다.전체 Knox 기능 세트를 활용하려면 대신 Android, Secure by Knox로 지정된 디바이스를 선택하는 것이\n",
      "좋습니다.안드로이드 고 디바이스는 어떤 Knox 솔루션을 지원하나요?지원되는 Knox 솔루션 및 기능: 엔터프라이즈용 Knox Platform 또는 엔터프라이즈용 Knox\n",
      "Platform Premium 정책이 없는 Knox Manage 정책, Android Enterprise (일반) 특정 디바이스에서 지원되지 않는 고급 Knox 기능 대부분의 삼성\n",
      "디바이스는 모바일 디바이스 시장에서 흔히 볼 수 있는 표준 기능을 넘어서는 동급 최고의 하드웨어 기반 보안, 정책 관리, 규정 준수 기능을 제공하지만 하드웨어 사양이 더 가벼운\n",
      "일부 디바이스는 일부 고급 기능을 지원하지 않을 수 있습니다.이러한 기능 목록은 관련 제품에 대한 다음 문서를 참조하십시오. 엔터프라이즈용 Knox Platform, Knox\n",
      "Configure Knox Manage에서 안드로이드, 기타/Android Go 디바이스에서 키오스크 모드를 활성화하려면 어떻게 해야 하나요?키오스크 모드를 사용하려면 디바이스를\n",
      "디바이스 소유자 (DO) 모드로 등록하세요.Android 레거시의 키오스크 모드는 지원되지 않습니다.DO 모드로 등록하려면: 1.이미 키오스크 모드에 있는 장치의 경우 공장\n",
      "초기화를 수행하십시오.그런 다음 키오스크를 사용하기 전에 Android 엔터프라이즈 DO 모드를 활성화하세요. 2.아직 등록되지 않은 장치의 경우 키오스크를 사용하기 전에 먼저\n",
      "Android 엔터프라이즈 DO 모드를 활성화하십시오.추가 정보 Android, 기타/Android Go 디바이스에서 Knox SDK를 사용하는 경우 다음 리소스를 참조하여 자세히\n",
      "알아보세요. Knox SDK를 사용하여 Android Go 또는 One UI Core 디바이스를 식별하는 방법, Android 10 업그레이드 후 Android, 기타 및\n",
      "Android Go 디바이스에서 KPE 기능이 손실되는 경우\n",
      "metadata:\n",
      " {'source': 'all_processed_data_ko.json', 'seq_num': 205, 'title': '시큐어드 바이 녹스, 안드로이드 소개 - 기타 및\n",
      "안드로이드 Go 디바이스', 'url': 'https://docs.samsungknox.com/admin/fundamentals/kbas/kba-349-about-android-\n",
      "others-android-go-devices', 'project': 'USP', 'last_updated': '2023-07-26', 'id':\n",
      "'8d59c3d7-5c25-4457-9510-4344d65b98ed'}\n",
      "-----------------------------------------------\n",
      "4. Chunk: 959 Characters\n",
      "-----------------------------------------------\n",
      ".Knox 보안 디바이스에서 디바이스가 어떤 범주에 속하는지 확인할 수 있습니다.Knox를 완전히 지원하는 모든 디바이스에는 Android, Secure by Knox로 지정되어\n",
      "있으며, Knox 호환성이 제한적이거나 전혀 없는 디바이스는 Android, Other 또는 Android Go로 표시됩니다.시큐어드 바이 녹스 디바이스와 안드로이드,\n",
      "기타/안드로이드 Go 디바이스의 차이점은 무엇인가요?Secure by Knox 디바이스에는 부팅 및 런타임 중에 데이터를 보호하는 하드웨어 지원 아키텍처가 포함되어\n",
      "있습니다.하드웨어 수준에서 보면 Android, 기타 및 Android Go 디바이스에는 신뢰할 수 있는 실행 환경 (예: “TrustZone”) 의 루트 오브 트러스트 키가\n",
      "없습니다.일반적으로 이러한 디바이스는 엔터프라이즈용 Knox Platform, 나아가 다른 Knox 솔루션을 지원할 수 없지만 특정 Knox 클라우드 제품에서 이를 지원하기 위한\n",
      "특별한 해결 방법이 구현되어 있습니다.Android 및 기타 디바이스에서 지원하는 Knox 솔루션은 무엇인가요?지원되는 Knox 솔루션 및 기능: Knox 모바일 등록, Knox\n",
      "Configure, 엔터프라이즈용 Knox 플랫폼 또는 엔터프라이즈 프리미엄을 위한 Knox 플랫폼 없는 Knox 관리 정책, Knox E-FOTA, Android\n",
      "Enterprise (일반) 지원되지 않는 Knox 솔루션 및 기능: 엔터프라이즈용 Knox 플랫폼, Knox 서비스 플러그인, Knox Manage, 엔터프라이즈용 Knox\n",
      "플랫폼 또는 엔터프라이즈 프리미엄용 Knox 플랫폼 정책, Knox Mobile Enterpriment Direct, Knox Capture, Knox Asset\n",
      "Intelligence, Knox 배포 앱 Android, 기타 디바이스는 기본적인 보안, 관리 기능만 제공합니다.사용자 지정이며 엔터프라이즈 배포에는 적합하지 않습니다\n",
      "metadata:\n",
      " {'source': 'all_processed_data_ko.json', 'seq_num': 205, 'title': '시큐어드 바이 녹스, 안드로이드 소개 - 기타 및\n",
      "안드로이드 Go 디바이스', 'url': 'https://docs.samsungknox.com/admin/fundamentals/kbas/kba-349-about-android-\n",
      "others-android-go-devices', 'project': 'USP', 'last_updated': '2023-07-26', 'id':\n",
      "'82d042f4-ce0a-4004-90a6-761d7b88f882'}\n",
      "-----------------------------------------------\n",
      "5. Chunk: 1021 Characters\n",
      "-----------------------------------------------\n",
      "디바이스의 위치를 확인합니다.선택한 장치의 위치를 확인할 수 있습니다.위치 정책이 적용된 디바이스만 추적할 수 있습니다.위치 데이터가 한 번 이상 수집된 경우에만 장치의 위치를\n",
      "확인할 수 있습니다.Android 11 및 12 디바이스의 위치를 추적하려면 디바이스 사용자가 Knox Manage 에이전트에 위치 액세스 권한을 부여해야 합니다.이는 다음과 같은\n",
      "배포 유형의 디바이스에 영향을 미칩니다. 작업 프로필이 있는 직원 소유 디바이스, 보조 계정이 있는 공유 디바이스. 이러한 디바이스를 사용하는 사용자에게 다음과 같은 액세스 설정을\n",
      "허용하도록 알려야 합니다. Android 11:1.Knox Manage 에이전트가 위치 액세스를 요청하면 사용자는 이 앱을 사용하는 동안 을 선택해야 합니다. 2.그런 다음 작업\n",
      "프로필 설정 > 앱 > Knox Manage > 앱 권한으로 이동하고 위치를 항상 허용으로 설정해야 합니다.Android 12 이상: Knox Manage 에이전트가 위치 액세스를\n",
      "요청하면 사용자는 Precise와 이 앱을 사용하는 동안 옵션을 선택해야 합니다. 1.디바이스로 이동합니다. 2.기기 페이지에서 기기를 하나 이상 선택한 다음 위치 확인을\n",
      "클릭합니다. 3.위치 확인 페이지에서 날짜별로 검색합니다.뷰에는 디바이스의 대화형 지도와 위치 기록이 표시됩니다.이 페이지에서는 개별 장치 정보를 검사하고 위치 기록을 GPX\n",
      "파일로 내보낼 수 있습니다.기기 맵 위치 확인 화면에서 맵은 추적된 모든 기기의 최신 위치를 표시합니다.맵에는 요소, 의미 -, -! 범례가 사용됩니다.액티브 디바이스 핀, 액티브\n",
      "디바이스!비활성 디바이스 핀, 킵얼라이브 기간이 만료된 디바이스!액티브 디바이스 클러스터, 1~9개의 디바이스로 구성된 클러스터!액티브 디바이스 클러스터, 10~99개 디바이스로\n",
      "구성된 클러스터!액티브 디바이스 클러스터, 100~999개 디바이스로 구성된 클러스터!활성 장치 클러스터, 1000~9999개 장치 클러스터 핀 위로 마우스를 가져가면 개별 장치의\n",
      "상태를 볼 수 있습니다!액티브 디바이스 핀\n",
      "metadata:\n",
      " {'source': 'all_processed_data_ko.json', 'seq_num': 344, 'title': '디바이스 위치 확인', 'url':\n",
      "'https://docs.samsungknox.com/admin/knox-manage/configure/devices/monitor-devices/check-the-\n",
      "locations-of-devices', 'project': 'KM', 'last_updated': '2023-07-26', 'id':\n",
      "'a0aac6b7-a054-4a87-8abb-ba51f8fea19a'}\n",
      "-----------------------------------------------\n",
      "6. Chunk: 887 Characters\n",
      "-----------------------------------------------\n",
      ".Android 및 기타 디바이스에서 지원하는 Knox 솔루션은 무엇인가요?지원되는 Knox 솔루션 및 기능: Knox 모바일 등록, Knox Configure, 엔터프라이즈용\n",
      "Knox 플랫폼 또는 엔터프라이즈 프리미엄을 위한 Knox 플랫폼 없는 Knox 관리 정책, Knox E-FOTA, Android Enterprise (일반) 지원되지 않는\n",
      "Knox 솔루션 및 기능: 엔터프라이즈용 Knox 플랫폼, Knox 서비스 플러그인, Knox Manage, 엔터프라이즈용 Knox 플랫폼 또는 엔터프라이즈 프리미엄용 Knox\n",
      "플랫폼 정책, Knox Mobile Enterpriment Direct, Knox Capture, Knox Asset Intelligence, Knox 배포 앱 Android,\n",
      "기타 디바이스는 기본적인 보안, 관리 기능만 제공합니다.사용자 지정이며 엔터프라이즈 배포에는 적합하지 않습니다.전체 Knox 기능 세트를 활용하려면 대신 Android,\n",
      "Secure by Knox로 지정된 디바이스를 선택하는 것이 좋습니다.안드로이드 고 디바이스는 어떤 Knox 솔루션을 지원하나요?지원되는 Knox 솔루션 및 기능: 엔터프라이즈용\n",
      "Knox Platform 또는 엔터프라이즈용 Knox Platform Premium 정책이 없는 Knox Manage 정책, Android Enterprise (일반) 특정\n",
      "디바이스에서 지원되지 않는 고급 Knox 기능 대부분의 삼성 디바이스는 모바일 디바이스 시장에서 흔히 볼 수 있는 표준 기능을 넘어서는 동급 최고의 하드웨어 기반 보안, 정책\n",
      "관리, 규정 준수 기능을 제공하지만 하드웨어 사양이 더 가벼운 일부 디바이스는 일부 고급 기능을 지원하지 않을 수 있습니다.이러한 기능 목록은 관련 제품에 대한 다음 문서를\n",
      "참조하십시오\n",
      "metadata:\n",
      " {'source': 'all_processed_data_ko.json', 'seq_num': 205, 'title': '시큐어드 바이 녹스, 안드로이드 소개 - 기타 및\n",
      "안드로이드 Go 디바이스', 'url': 'https://docs.samsungknox.com/admin/fundamentals/kbas/kba-349-about-android-\n",
      "others-android-go-devices', 'project': 'USP', 'last_updated': '2023-07-26', 'id':\n",
      "'d9c4c04f-0d36-46ed-b253-716a3bdec208'}\n",
      "-----------------------------------------------\n",
      "7. Chunk: 707 Characters\n",
      "-----------------------------------------------\n",
      ".기한이 지난 알림을 무시하기 어렵도록 기본 기한이 지난 알림 화면에 처음에는 사용자 장치의 전체 화면 메시지로 알림 표시 확인란 옵션을 추가했습니다.선택하면 알림 패널에 메시지가\n",
      "표시되기 전에 기기 사용자에게 전체 화면 메시지가 표시됩니다.대상 사용자의 장치에서 알림이 어떻게 표시될지 잘 모르겠으면 전체 화면 메시지 미리 보기를 선택하십시오.디바이스 이벤트\n",
      "로그 수집 요청 시 특정 조건이 충족될 때 자동으로 전송되거나 Knox Guard 서버로부터 푸시 커맨드를 수신할 때 동적으로 전송되는 이벤트를 캡처하도록 디바이스 로그가\n",
      "구현되었습니다.디바이스 로그는 내부 디버깅용이며 로그 생성을 위한 디바이스 사용자 인터페이스가 필요하지 않습니다.진단 정보 수신은 선택 사항입니다.관리자는 이제 여러 서비스에\n",
      "초대할 수 있습니다. 현재까지는 관리자가 다른 Knox Cloud 서비스에 속한 다른 관리자를 초대할 수 없습니다.이번 릴리스에서는 최고 관리자 또는 관리자 초대 권한이 있는\n",
      "관리자가 이제 다른 서비스에 속한 관리자를 서비스 내 역할에 초대할 수 있습니다.예를 들어 관리자 1은 최고 관리자 역할이 아닌 KG에만 속합니다.관리자 2는 슈퍼 관리자 역할이\n",
      "아닌 KME에 속하지만 관리자 초대 권한을 가지고 있습니다.따라서 관리자 2는 관리자 2가 현재 권한을 가지고 있는 모든 역할의 KME에 가입하도록 관리자 1을 초대할 수\n",
      "있습니다.릴리스 노트로 돌아가기\n",
      "metadata:\n",
      " {'source': 'all_processed_data_ko.json', 'seq_num': 56, 'title': '녹스 가드 1.27 릴리즈 노트', 'url':\n",
      "'https://docs.samsungknox.com/admin/knox-guard/release-notes/19-12', 'project': 'KG',\n",
      "'last_updated': '2023-07-26', 'id': '0dadba1c-0e54-4cd3-9aa9-8474015fd0e2'}\n",
      "-----------------------------------------------\n",
      "8. Chunk: 206 Characters\n",
      "-----------------------------------------------\n",
      ".승인 ID란 무엇인가요?누가 녹스 가드에 디바이스를 업로드하나요?Knox Guard에서 완료 디바이스 상태란 무엇을 의미하나요?기한이 지난 디바이스에서 결제 깜박임 알림을 중지할\n",
      "수 있는 옵션은 무엇인가요?특정 통신 사업자만 사용할 수 있도록 기기를 제한하려면 어떻게 해야 하나요?허용된 통신 사업자의 첫 번째 삽입된 SIM으로 장치를 제한하려면 어떻게 해야\n",
      "합니까?\n",
      "metadata:\n",
      " {'source': 'all_processed_data_ko.json', 'seq_num': 117, 'title': '녹스가드 지식베이스 문서', 'url':\n",
      "'https://docs.samsungknox.com/admin/knox-guard/kbas', 'project': 'KG', 'last_updated': '2023-07-26',\n",
      "'id': '062e81c3-6bcb-4da5-b35a-44bd1a9be638'}\n",
      "-----------------------------------------------\n",
      "9. Chunk: 542 Characters\n",
      "-----------------------------------------------\n",
      ".휴대폰을 잠금 해제하면 네트워크에 연결하고 업데이트된 정책을 받을 수 있습니다.자세한 내용은 Knox Guard에서 PIN을 사용하여 디바이스를 잠금 해제하는 방법을\n",
      "참조하십시오.MSP 포털의 녹스 가드 라이선스 이제 Knox MSP 포털에서 녹스 가드 라이선스 및 관련 정보를 볼 수 있습니다.Knox Guard용 새로운 Knox 웹후크 알림\n",
      "API 이전 23.03 릴리스에서는 KWN 구독 API에 Knox Guard 이벤트를 구독할 수 있는 KWN (Knox Webhook Notification) 서비스가\n",
      "도입되었습니다.구독한 이벤트가 완료되면 KWN은 API의 출력을 다시 전송하므로 네트워크의 컴퓨팅 부하가 줄어듭니다.이번 Knox Guard 23.06 릴리스에는 KWN 서비스에\n",
      "디바이스 잠금 및 디바이스 잠금 해제 이벤트가 추가되었습니다.자세한 내용은 녹스 가드용 Knox 웹후크 알림 가이드를 참조하십시오.액세스 로그에 사용할 수 있는 IP 주소 이제\n",
      "활동 로그에서 IP 주소 액세스 로그를 CSV 파일로 다운로드할 수 있습니다.릴리스 노트로 돌아가기\n",
      "metadata:\n",
      " {'source': 'all_processed_data_ko.json', 'seq_num': 73, 'title': '녹스 가드 23.06 릴리즈 노트', 'url':\n",
      "'https://docs.samsungknox.com/admin/knox-guard/release-notes/23-06', 'project': 'KG',\n",
      "'last_updated': '2023-07-26', 'id': 'ee771525-be84-4c46-a273-aec008e9c09e'}\n",
      "-----------------------------------------------\n",
      "10. Chunk: 163 Characters\n",
      "-----------------------------------------------\n",
      "슈퍼 어드민이란 무엇인가요?.슈퍼 관리자 또는 기본 관리자는 SamsungKnox.com, Knox 클라우드 서비스 또는 Knox 파트너 프로그램에 처음으로 등록한 사용자를\n",
      "말합니다.최고 관리자는 추가 관리자를 초대하여 각 Knox 서비스의 관리 콘솔 내에서 기능을 보고 관리할 수 있습니다.\n",
      "metadata:\n",
      " {'source': 'all_processed_data_ko.json', 'seq_num': 185, 'title': '슈퍼 어드민이란 무엇인가요?', 'url':\n",
      "'https://docs.samsungknox.com/admin/fundamentals/knox-faq/#what-is-a-super-admin', 'project': 'USP',\n",
      "'last_updated': '2023-07-26', 'id': 'cf87b56b-4dfa-4cd5-9f22-92e02fa4bda4'}\n"
     ]
    }
   ],
   "source": [
    "query = \"새로운 AR 데모 모드 기능을 도입한 Knox Capture 버전은 무엇인가요?\"\n",
    "search_hybrid_result = opensearch_hybrid_retriever.get_relevant_documents(query)\n",
    "\n",
    "print(\"\\n==========  Results  ==========\\n\")\n",
    "print(f'1. question: {query}')\n",
    "print(f'2. # documents: {len(search_hybrid_result)}')\n",
    "print(\"3. Documents: \\n\")\n",
    "\n",
    "show_context_used(search_hybrid_result)"
   ]
  },
  {
   "cell_type": "markdown",
   "id": "a981abe7-5208-48f5-a9cc-8c557e9941ca",
   "metadata": {},
   "source": [
    "## 5. RAG using RetrievalQA powered by LangChain"
   ]
  },
  {
   "cell_type": "code",
   "execution_count": 67,
   "id": "08cf6d2b-451b-499c-aec2-bb6f5abafbb0",
   "metadata": {
    "tags": []
   },
   "outputs": [],
   "source": [
    "from utils.rag import prompt_repo\n",
    "from utils.rag import run_RetrievalQA\n",
    "from langchain.prompts import PromptTemplate"
   ]
  },
  {
   "cell_type": "markdown",
   "id": "b490df1f-8113-4dd1-a578-a3e1a6918fde",
   "metadata": {
    "tags": []
   },
   "source": [
    "### Prompting\n",
    "- [TIP] Prompt의 instruction의 경우 한글보다 영어로 했을 때 더 좋은 결과를 얻을 수 있습니다."
   ]
  },
  {
   "cell_type": "code",
   "execution_count": 68,
   "id": "920a65f0-0110-421b-b03c-a1f3a967cf49",
   "metadata": {
    "tags": []
   },
   "outputs": [
    {
     "name": "stdout",
     "output_type": "stream",
     "text": [
      "('\\n'\n",
      " '            \\n'\n",
      " '\\n'\n",
      " 'Human:\\n'\n",
      " '            You are a master answer bot designed to answer software '\n",
      " \"developer's questions.\\n\"\n",
      " \"            I'm going to give you a context. Read the context carefully, \"\n",
      " \"because I'm going to ask you a question about it.\\n\"\n",
      " '\\n'\n",
      " '            Here is the context: <context>{context}</context>\\n'\n",
      " '            \\n'\n",
      " '            First, find a few paragraphs or sentences from the context that '\n",
      " 'are most relevant to answering the question.\\n'\n",
      " '            Then, answer the question as much as you can.\\n'\n",
      " '\\n'\n",
      " '            Skip the preamble and go straight into the answer.\\n'\n",
      " \"            Don't insert any XML tag such as <context> and </context> when \"\n",
      " 'answering.\\n'\n",
      " '            \\n'\n",
      " '            Here is the question: <question>{question}</question>\\n'\n",
      " '\\n'\n",
      " '            If the question cannot be answered by the context, say \"No '\n",
      " 'relevant context\".\\n'\n",
      " '            \\n'\n",
      " '\\n'\n",
      " 'Assistant: Here is the answer. ')\n"
     ]
    }
   ],
   "source": [
    "PROMPT = prompt_repo.get_qa(prompt_type=\"answer_only\") # [\"answer_only\", \"answer_with_ref\"]\n",
    "pprint (PROMPT.template)"
   ]
  },
  {
   "cell_type": "markdown",
   "id": "c66157a6-aec8-4555-a90f-1178e6f4f6e0",
   "metadata": {},
   "source": [
    "### Update Search Params (Optional)"
   ]
  },
  {
   "cell_type": "code",
   "execution_count": 69,
   "id": "64df2daf-8b42-472a-885f-97320ee98132",
   "metadata": {
    "tags": []
   },
   "outputs": [],
   "source": [
    "from langchain.chains import RetrievalQA"
   ]
  },
  {
   "cell_type": "code",
   "execution_count": 70,
   "id": "d2697230-6962-43d8-8917-ba9daa4295bb",
   "metadata": {
    "tags": []
   },
   "outputs": [],
   "source": [
    "opensearch_hybrid_retriever.update_search_params(\n",
    "    k=5,\n",
    "    minimum_should_match=3,\n",
    "    #filter=[\n",
    "    #    {\"term\": {\"metadata.project\": \"KS\"}},\n",
    "    #],\n",
    "    filter=[],\n",
    "    async_mode=True\n",
    ")"
   ]
  },
  {
   "cell_type": "markdown",
   "id": "aee26c22-b674-4f4f-a87b-29508e336fda",
   "metadata": {},
   "source": [
    "### Request"
   ]
  },
  {
   "cell_type": "code",
   "execution_count": 71,
   "id": "95fa61d3-9256-432a-96a3-2c696c97ea68",
   "metadata": {
    "tags": []
   },
   "outputs": [],
   "source": [
    "qa = RetrievalQA.from_chain_type(\n",
    "    llm=llm_text,\n",
    "    chain_type=\"stuff\",\n",
    "    retriever=opensearch_hybrid_retriever,\n",
    "    return_source_documents=True,\n",
    "    chain_type_kwargs={\n",
    "        \"prompt\": PROMPT,\n",
    "        \"verbose\": False,\n",
    "    },\n",
    "    verbose=False\n",
    ")"
   ]
  },
  {
   "cell_type": "code",
   "execution_count": 72,
   "id": "390ad324-40b3-4bcb-92b9-50eb080492a5",
   "metadata": {
    "tags": []
   },
   "outputs": [
    {
     "name": "stdout",
     "output_type": "stream",
     "text": [
      " The Knox Capture version that introduces the new AR demo mode feature is 23.03."
     ]
    }
   ],
   "source": [
    "#query = \"What version of Knox Capture introduced the new AR demo mode feature?\"\n",
    "query = \"새로운 AR 데모 모드 기능을 도입한 Knox Capture 버전은 무엇인가요?\"\n",
    "response = qa(query)"
   ]
  },
  {
   "cell_type": "code",
   "execution_count": 73,
   "id": "01e77dad-dc19-416b-80e7-19fac3b736a5",
   "metadata": {
    "tags": []
   },
   "outputs": [
    {
     "name": "stdout",
     "output_type": "stream",
     "text": [
      "##################################\n",
      "query:  새로운 AR 데모 모드 기능을 도입한 Knox Capture 버전은 무엇인가요?\n",
      "##################################\n",
      "\u001b[34m\n",
      "\n",
      "### Answer ###\u001b[0m\n",
      " The Knox Capture version that introduces the new AR demo mode feature is 23.03.\n",
      "\u001b[32m\n",
      "\n",
      "### Contexts ###\u001b[0m\n",
      "-----------------------------------------------\n",
      "1. Chunk: 938 Characters\n",
      "-----------------------------------------------\n",
      ".Knox 관리 포털에서 Knox 클라우드 서비스를 함께 사용하는 기존 Knox Guard 고객인 경우 기본적으로 탐색 창에서 Knox Guard가 숨겨집니다.서비스 표시/숨기기\n",
      "페이지로 이동하여 다시 추가하세요.녹스가드 어드밴스드 녹스가드 23.03은 _녹스 가드 어드밴스드_라는 새로운 라이선스를 제공합니다. 이 라이선스는 기존 녹스 가드 기능 외에\n",
      "부가가치 기능을 제공합니다.이번 릴리스에서는 디바이스에 최대 다섯 개의 앱을 설치할 수 있습니다. 이전 버전에서는 한 개만 설치할 수 있었습니다.API를 사용하여 삭제된 디바이스의\n",
      "PIN 생성 Knox Guard 23.03은 삭제된 디바이스의 PIN을 생성할 수 있는 새로운 API를 제공하여 디바이스 사용자가 디바이스를 잠금 해제할 수 있도록\n",
      "지원합니다.PIN 잠금 생성과 관련된 API 호출은 다음과 같습니다. GET /KCS/v1.1/kg/Devices/Deleted/getPin, GET\n",
      "/KCS/v1.1/kg/Devices/Deleted/getPinbyChallenge 녹스 가드용 새로운 녹스 웹후크 알림 API 이전에는 업데이트된 디바이스 정보를 가져오려면 녹스\n",
      "클라우드 API를 반복해서 호출해야 했습니다.시리얼 Knox Cloud API 호출을 대량으로 수행하면 때때로 성능이 느려질 수 있습니다.23.03 릴리스에는 KWN 구독 API에\n",
      "Knox Guard 이벤트를 구독할 수 있는 Knox 웹후크 알림이 도입되었습니다.구독한 이벤트가 완료되면 KWN은 API의 출력을 다시 전송합니다.이 새로운 서비스를 통해 이제\n",
      "구독한 이벤트가 처리되는 즉시 웹 서비스에서 알림을 받을 수 있습니다. 23.03 릴리스에서 사용할 수 있는 Knox Guard 웹후크 이벤트는 장치 등록 및 장치 재잠금\n",
      "타임스탬핑입니다.자세한 내용은 Knox Guard용 Knox 웹후크 알림 가이드를 참조하십시오.릴리스 노트로 돌아가기\n",
      "metadata:\n",
      " {'source': 'all_processed_data_ko.json', 'seq_num': 72, 'title': '녹스 가드 23.03 릴리즈 노트', 'url':\n",
      "'https://docs.samsungknox.com/admin/knox-guard/release-notes/23-03', 'project': 'KG',\n",
      "'last_updated': '2023-07-26', 'id': '6db3c371-25f4-4793-95bc-83e1f413251f'}\n",
      "-----------------------------------------------\n",
      "2. Chunk: 1009 Characters\n",
      "-----------------------------------------------\n",
      ".사용 사례: 소규모 기업에서는 이 모델을 사용하여 기기 구매와 관련된 자본 비용을 절감할 수 있습니다.Google은 Android 10의 레거시 기기 관리자 (DA) 관리 모드를\n",
      "더 이상 사용하지 않습니다.2020년 11월 2일까지 구글은 API 레벨 29 또는 Android 10을 타겟팅하기 위한 앱 업데이트를 요구합니다.이날부터 더 이상 사용되지 않는\n",
      "4개의 DA 정책을 호출하면 앱 업데이트에서 예외가 발생하기 시작합니다.자세한 내용은 기기 관리자 지원 중단을 참조하세요.녹스 워크스페이스 컨테이너는 노트 10과 함께 출시된\n",
      "안드로이드 10의 Knox 3.4.1에서 지원이 중단되었습니다.하지만 Knox 3.4.1 이상으로 업그레이드된 S10과 같은 구형 디바이스는 EOL 이전까지 Knox\n",
      "Workspace 컨테이너를 계속 지원합니다.Android Enterprise와 Knox의 최신 기능을 모두 활용하려면 Knox Workspace 컨테이너 대신 작업 프로필을\n",
      "사용하는 것이 좋습니다.Knox로 강화된 작업 프로필 Android Enterprise 작업 프로필은 기업에 업무 앱과 데이터를 하나의 디바이스에서 안전하게 격리할 수 있는\n",
      "솔루션을 제공합니다.엔터프라이즈용 Knox Platform은 삼성 디바이스의 작업 프로필에 대해 보다 세분화된 관리 정책을 제공합니다.#Data 전송 업무 데이터와 개인 데이터를\n",
      "분리하면 디바이스 사용자는 별도의 두 공간에 액세스할 수 있습니다.특정 상황에서 생산성을 높이려면 공간 간에 데이터를 공유해야 하는 경우가 많습니다.예를 들어 개인 공간에서 전화\n",
      "앱을 사용하는 동안 보안 업무용 공간에 저장된 회사 연락처로 전화를 걸어야 할 수 있습니다.작업 프로필을 사용하면 IT 관리자는 작업 프로필로 데이터를 가져오거나 작업 프로필에서\n",
      "데이터를 가져오고 내보내는 작업을 관리할 수 있는 세분화된 관리 정책을 갖게 됩니다.이 데이터에는 앱, 파일, 클립보드 데이터, 통화 기록, 연락처, 캘린더 이벤트, 북마크,\n",
      "알림, 단축어, SMS가 포함될 수 있습니다\n",
      "metadata:\n",
      " {'source': 'all_processed_data_ko.json', 'seq_num': 145, 'title': '앱 보안', 'url':\n",
      "'https://docs.samsungknox.com/admin/fundamentals/whitepaper/core-platform-security/app-security',\n",
      "'project': 'USP', 'last_updated': '2023-07-26', 'id': 'e876d3b8-ddf7-4d1d-982b-8c07fe2b18b6'}\n",
      "-----------------------------------------------\n",
      "3. Chunk: 1019 Characters\n",
      "-----------------------------------------------\n",
      ".사용자 지정이며 엔터프라이즈 배포에는 적합하지 않습니다.전체 Knox 기능 세트를 활용하려면 대신 Android, Secure by Knox로 지정된 디바이스를 선택하는 것이\n",
      "좋습니다.안드로이드 고 디바이스는 어떤 Knox 솔루션을 지원하나요?지원되는 Knox 솔루션 및 기능: 엔터프라이즈용 Knox Platform 또는 엔터프라이즈용 Knox\n",
      "Platform Premium 정책이 없는 Knox Manage 정책, Android Enterprise (일반) 특정 디바이스에서 지원되지 않는 고급 Knox 기능 대부분의 삼성\n",
      "디바이스는 모바일 디바이스 시장에서 흔히 볼 수 있는 표준 기능을 넘어서는 동급 최고의 하드웨어 기반 보안, 정책 관리, 규정 준수 기능을 제공하지만 하드웨어 사양이 더 가벼운\n",
      "일부 디바이스는 일부 고급 기능을 지원하지 않을 수 있습니다.이러한 기능 목록은 관련 제품에 대한 다음 문서를 참조하십시오. 엔터프라이즈용 Knox Platform, Knox\n",
      "Configure Knox Manage에서 안드로이드, 기타/Android Go 디바이스에서 키오스크 모드를 활성화하려면 어떻게 해야 하나요?키오스크 모드를 사용하려면 디바이스를\n",
      "디바이스 소유자 (DO) 모드로 등록하세요.Android 레거시의 키오스크 모드는 지원되지 않습니다.DO 모드로 등록하려면: 1.이미 키오스크 모드에 있는 장치의 경우 공장\n",
      "초기화를 수행하십시오.그런 다음 키오스크를 사용하기 전에 Android 엔터프라이즈 DO 모드를 활성화하세요. 2.아직 등록되지 않은 장치의 경우 키오스크를 사용하기 전에 먼저\n",
      "Android 엔터프라이즈 DO 모드를 활성화하십시오.추가 정보 Android, 기타/Android Go 디바이스에서 Knox SDK를 사용하는 경우 다음 리소스를 참조하여 자세히\n",
      "알아보세요. Knox SDK를 사용하여 Android Go 또는 One UI Core 디바이스를 식별하는 방법, Android 10 업그레이드 후 Android, 기타 및\n",
      "Android Go 디바이스에서 KPE 기능이 손실되는 경우\n",
      "metadata:\n",
      " {'source': 'all_processed_data_ko.json', 'seq_num': 205, 'title': '시큐어드 바이 녹스, 안드로이드 소개 - 기타 및\n",
      "안드로이드 Go 디바이스', 'url': 'https://docs.samsungknox.com/admin/fundamentals/kbas/kba-349-about-android-\n",
      "others-android-go-devices', 'project': 'USP', 'last_updated': '2023-07-26', 'id':\n",
      "'8d59c3d7-5c25-4457-9510-4344d65b98ed'}\n",
      "-----------------------------------------------\n",
      "4. Chunk: 959 Characters\n",
      "-----------------------------------------------\n",
      ".Knox 보안 디바이스에서 디바이스가 어떤 범주에 속하는지 확인할 수 있습니다.Knox를 완전히 지원하는 모든 디바이스에는 Android, Secure by Knox로 지정되어\n",
      "있으며, Knox 호환성이 제한적이거나 전혀 없는 디바이스는 Android, Other 또는 Android Go로 표시됩니다.시큐어드 바이 녹스 디바이스와 안드로이드,\n",
      "기타/안드로이드 Go 디바이스의 차이점은 무엇인가요?Secure by Knox 디바이스에는 부팅 및 런타임 중에 데이터를 보호하는 하드웨어 지원 아키텍처가 포함되어\n",
      "있습니다.하드웨어 수준에서 보면 Android, 기타 및 Android Go 디바이스에는 신뢰할 수 있는 실행 환경 (예: “TrustZone”) 의 루트 오브 트러스트 키가\n",
      "없습니다.일반적으로 이러한 디바이스는 엔터프라이즈용 Knox Platform, 나아가 다른 Knox 솔루션을 지원할 수 없지만 특정 Knox 클라우드 제품에서 이를 지원하기 위한\n",
      "특별한 해결 방법이 구현되어 있습니다.Android 및 기타 디바이스에서 지원하는 Knox 솔루션은 무엇인가요?지원되는 Knox 솔루션 및 기능: Knox 모바일 등록, Knox\n",
      "Configure, 엔터프라이즈용 Knox 플랫폼 또는 엔터프라이즈 프리미엄을 위한 Knox 플랫폼 없는 Knox 관리 정책, Knox E-FOTA, Android\n",
      "Enterprise (일반) 지원되지 않는 Knox 솔루션 및 기능: 엔터프라이즈용 Knox 플랫폼, Knox 서비스 플러그인, Knox Manage, 엔터프라이즈용 Knox\n",
      "플랫폼 또는 엔터프라이즈 프리미엄용 Knox 플랫폼 정책, Knox Mobile Enterpriment Direct, Knox Capture, Knox Asset\n",
      "Intelligence, Knox 배포 앱 Android, 기타 디바이스는 기본적인 보안, 관리 기능만 제공합니다.사용자 지정이며 엔터프라이즈 배포에는 적합하지 않습니다\n",
      "metadata:\n",
      " {'source': 'all_processed_data_ko.json', 'seq_num': 205, 'title': '시큐어드 바이 녹스, 안드로이드 소개 - 기타 및\n",
      "안드로이드 Go 디바이스', 'url': 'https://docs.samsungknox.com/admin/fundamentals/kbas/kba-349-about-android-\n",
      "others-android-go-devices', 'project': 'USP', 'last_updated': '2023-07-26', 'id':\n",
      "'82d042f4-ce0a-4004-90a6-761d7b88f882'}\n",
      "-----------------------------------------------\n",
      "5. Chunk: 1021 Characters\n",
      "-----------------------------------------------\n",
      "디바이스의 위치를 확인합니다.선택한 장치의 위치를 확인할 수 있습니다.위치 정책이 적용된 디바이스만 추적할 수 있습니다.위치 데이터가 한 번 이상 수집된 경우에만 장치의 위치를\n",
      "확인할 수 있습니다.Android 11 및 12 디바이스의 위치를 추적하려면 디바이스 사용자가 Knox Manage 에이전트에 위치 액세스 권한을 부여해야 합니다.이는 다음과 같은\n",
      "배포 유형의 디바이스에 영향을 미칩니다. 작업 프로필이 있는 직원 소유 디바이스, 보조 계정이 있는 공유 디바이스. 이러한 디바이스를 사용하는 사용자에게 다음과 같은 액세스 설정을\n",
      "허용하도록 알려야 합니다. Android 11:1.Knox Manage 에이전트가 위치 액세스를 요청하면 사용자는 이 앱을 사용하는 동안 을 선택해야 합니다. 2.그런 다음 작업\n",
      "프로필 설정 > 앱 > Knox Manage > 앱 권한으로 이동하고 위치를 항상 허용으로 설정해야 합니다.Android 12 이상: Knox Manage 에이전트가 위치 액세스를\n",
      "요청하면 사용자는 Precise와 이 앱을 사용하는 동안 옵션을 선택해야 합니다. 1.디바이스로 이동합니다. 2.기기 페이지에서 기기를 하나 이상 선택한 다음 위치 확인을\n",
      "클릭합니다. 3.위치 확인 페이지에서 날짜별로 검색합니다.뷰에는 디바이스의 대화형 지도와 위치 기록이 표시됩니다.이 페이지에서는 개별 장치 정보를 검사하고 위치 기록을 GPX\n",
      "파일로 내보낼 수 있습니다.기기 맵 위치 확인 화면에서 맵은 추적된 모든 기기의 최신 위치를 표시합니다.맵에는 요소, 의미 -, -! 범례가 사용됩니다.액티브 디바이스 핀, 액티브\n",
      "디바이스!비활성 디바이스 핀, 킵얼라이브 기간이 만료된 디바이스!액티브 디바이스 클러스터, 1~9개의 디바이스로 구성된 클러스터!액티브 디바이스 클러스터, 10~99개 디바이스로\n",
      "구성된 클러스터!액티브 디바이스 클러스터, 100~999개 디바이스로 구성된 클러스터!활성 장치 클러스터, 1000~9999개 장치 클러스터 핀 위로 마우스를 가져가면 개별 장치의\n",
      "상태를 볼 수 있습니다!액티브 디바이스 핀\n",
      "metadata:\n",
      " {'source': 'all_processed_data_ko.json', 'seq_num': 344, 'title': '디바이스 위치 확인', 'url':\n",
      "'https://docs.samsungknox.com/admin/knox-manage/configure/devices/monitor-devices/check-the-\n",
      "locations-of-devices', 'project': 'KM', 'last_updated': '2023-07-26', 'id':\n",
      "'a0aac6b7-a054-4a87-8abb-ba51f8fea19a'}\n"
     ]
    }
   ],
   "source": [
    "print(\"##################################\")\n",
    "print(\"query: \", query)\n",
    "print(\"##################################\")\n",
    "\n",
    "print (colored(\"\\n\\n### Answer ###\", \"blue\"))\n",
    "print_ww(response['result'])\n",
    "\n",
    "print (colored(\"\\n\\n### Contexts ###\", \"green\"))\n",
    "show_context_used(response['source_documents'])"
   ]
  },
  {
   "cell_type": "code",
   "execution_count": null,
   "id": "122b0648-14a2-4ceb-877a-ee6e206ba35c",
   "metadata": {},
   "outputs": [],
   "source": []
  }
 ],
 "metadata": {
  "kernelspec": {
   "display_name": "conda_python3",
   "language": "python",
   "name": "conda_python3"
  },
  "language_info": {
   "codemirror_mode": {
    "name": "ipython",
    "version": 3
   },
   "file_extension": ".py",
   "mimetype": "text/x-python",
   "name": "python",
   "nbconvert_exporter": "python",
   "pygments_lexer": "ipython3",
   "version": "3.10.13"
  }
 },
 "nbformat": 4,
 "nbformat_minor": 5
}
