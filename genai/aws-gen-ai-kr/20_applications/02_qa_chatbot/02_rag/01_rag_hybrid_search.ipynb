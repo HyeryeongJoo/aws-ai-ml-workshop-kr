{
 "cells": [
  {
   "cell_type": "markdown",
   "id": "5deb2df2-413d-49bd-a829-3a1fc344937e",
   "metadata": {},
   "source": [
    "# RAG Based on Hybrid Search (Lexical + Semantic)\n"
   ]
  },
  {
   "cell_type": "markdown",
   "id": "b1f81abc-3277-4a6b-9ef1-d4f997d67fbe",
   "metadata": {},
   "source": [
    "## Setting\n",
    " - Auto Reload\n",
    " - path for utils"
   ]
  },
  {
   "cell_type": "code",
   "execution_count": 1,
   "id": "ddde4105-b759-4d6c-8214-8e1ab485ae48",
   "metadata": {
    "tags": []
   },
   "outputs": [],
   "source": [
    "%load_ext autoreload\n",
    "%autoreload 2"
   ]
  },
  {
   "cell_type": "code",
   "execution_count": 2,
   "id": "57c2cdb1-d785-4317-afce-938f13141085",
   "metadata": {
    "tags": []
   },
   "outputs": [],
   "source": [
    "import sys, os\n",
    "module_path = \"../../..\"\n",
    "sys.path.append(os.path.abspath(module_path))"
   ]
  },
  {
   "cell_type": "markdown",
   "id": "9c4ade56-8dbc-4ded-b355-7e4bcc971e90",
   "metadata": {},
   "source": [
    "## 1. Bedrock Client 생성"
   ]
  },
  {
   "cell_type": "code",
   "execution_count": 3,
   "id": "cc2d877f-e877-48f6-8dd4-239de20e45cd",
   "metadata": {
    "tags": []
   },
   "outputs": [],
   "source": [
    "import json\n",
    "import boto3\n",
    "from pprint import pprint\n",
    "from termcolor import colored\n",
    "from utils import bedrock, print_ww\n",
    "from utils.bedrock import bedrock_info"
   ]
  },
  {
   "cell_type": "markdown",
   "id": "088e6490-c79a-49e4-841c-9fdb91292608",
   "metadata": {},
   "source": [
    "### ---- ⚠️ Un-comment and edit the below lines as needed for your AWS setup ⚠️ ----\n",
    "- os.environ[\"AWS_DEFAULT_REGION\"] = \"<REGION_NAME>\"  # E.g. \"us-east-1\"\n",
    "- os.environ[\"AWS_PROFILE\"] = \"<YOUR_PROFILE>\"\n",
    "- os.environ[\"BEDROCK_ASSUME_ROLE\"] = \"<YOUR_ROLE_ARN>\"  # E.g. \"arn:aws:...\"\n",
    "- os.environ[\"BEDROCK_ENDPOINT_URL\"] = \"<YOUR_ENDPOINT_URL>\"  # E.g. \"https://...\""
   ]
  },
  {
   "cell_type": "code",
   "execution_count": 4,
   "id": "cab9312c-5f61-4730-96c3-5eef54a5f08c",
   "metadata": {
    "tags": []
   },
   "outputs": [
    {
     "name": "stdout",
     "output_type": "stream",
     "text": [
      "Create new client\n",
      "  Using region: None\n",
      "  Using profile: None\n",
      "boto3 Bedrock client successfully created!\n",
      "bedrock-runtime(https://bedrock-runtime.us-east-1.amazonaws.com)\n",
      "\u001b[32m\n",
      "== FM lists ==\u001b[0m\n",
      "{'Claude-Instant-V1': 'anthropic.claude-instant-v1',\n",
      " 'Claude-V1': 'anthropic.claude-v1',\n",
      " 'Claude-V2': 'anthropic.claude-v2',\n",
      " 'Cohere-Embeddings-En': 'cohere.embed-english-v3',\n",
      " 'Cohere-Embeddings-Multilingual': 'cohere.embed-multilingual-v3',\n",
      " 'Command': 'cohere.command-text-v14',\n",
      " 'Command-Light': 'cohere.command-light-text-v14',\n",
      " 'Jurassic-2-Mid': 'ai21.j2-mid-v1',\n",
      " 'Jurassic-2-Ultra': 'ai21.j2-ultra-v1',\n",
      " 'Llama2-13b-Chat': 'meta.llama2-13b-chat-v1',\n",
      " 'Titan-Embeddings-G1': 'amazon.titan-embed-text-v1',\n",
      " 'Titan-Text-G1': 'amazon.titan-text-express-v1',\n",
      " 'Titan-Text-G1-Light': 'amazon.titan-text-lite-v1'}\n"
     ]
    }
   ],
   "source": [
    "boto3_bedrock = bedrock.get_bedrock_client(\n",
    "    assumed_role=os.environ.get(\"BEDROCK_ASSUME_ROLE\", None),\n",
    "    endpoint_url=os.environ.get(\"BEDROCK_ENDPOINT_URL\", None),\n",
    "    region=os.environ.get(\"AWS_DEFAULT_REGION\", None),\n",
    ")\n",
    "\n",
    "print (colored(\"\\n== FM lists ==\", \"green\"))\n",
    "pprint (bedrock_info.get_list_fm_models(verbose=False))"
   ]
  },
  {
   "cell_type": "markdown",
   "id": "241a9e34-417a-422f-9f75-cb211b2e70e1",
   "metadata": {
    "tags": []
   },
   "source": [
    "## 2. Titan Embedding 및 LLM 인 Claude-v2 모델 로딩"
   ]
  },
  {
   "cell_type": "markdown",
   "id": "29bf63d2-4110-407c-af06-a45d2fbed4b5",
   "metadata": {},
   "source": [
    "### LLM 로딩 (Claude-v2)"
   ]
  },
  {
   "cell_type": "code",
   "execution_count": 5,
   "id": "9c51443a-04f9-465c-9564-53053eb3e1c2",
   "metadata": {
    "tags": []
   },
   "outputs": [],
   "source": [
    "from langchain.llms.bedrock import Bedrock\n",
    "from langchain.callbacks.streaming_stdout import StreamingStdOutCallbackHandler"
   ]
  },
  {
   "cell_type": "code",
   "execution_count": 46,
   "id": "d09e84e0-b9e1-4b12-8e7a-68f03c5416e5",
   "metadata": {
    "tags": []
   },
   "outputs": [
    {
     "data": {
      "text/plain": [
       "Bedrock(client=<botocore.client.BedrockRuntime object at 0x7f669d82c370>, model_id='anthropic.claude-v2', model_kwargs={'max_tokens_to_sample': 1024}, streaming=True, callbacks=[<langchain.callbacks.streaming_stdout.StreamingStdOutCallbackHandler object at 0x7f669d9e45e0>])"
      ]
     },
     "execution_count": 46,
     "metadata": {},
     "output_type": "execute_result"
    }
   ],
   "source": [
    "llm_text = Bedrock(\n",
    "    model_id=bedrock_info.get_model_id(model_name=\"Claude-V2\"),\n",
    "    client=boto3_bedrock,\n",
    "    model_kwargs={\n",
    "        \"max_tokens_to_sample\": 1024\n",
    "    },\n",
    "    streaming=True,\n",
    "    callbacks=[StreamingStdOutCallbackHandler()]\n",
    ")\n",
    "\n",
    "llm_text"
   ]
  },
  {
   "cell_type": "markdown",
   "id": "3ba2e829-af8f-4e90-b994-59106cdec8d8",
   "metadata": {},
   "source": [
    "### Embedding 모델 선택"
   ]
  },
  {
   "cell_type": "code",
   "execution_count": 9,
   "id": "0b7b8752-d1e3-4f41-ba35-6da42c3785db",
   "metadata": {
    "tags": []
   },
   "outputs": [],
   "source": [
    "from utils.rag import KoSimCSERobertaContentHandler, SagemakerEndpointEmbeddingsJumpStart"
   ]
  },
  {
   "cell_type": "code",
   "execution_count": 11,
   "id": "793b03f7-3186-4969-b76a-98fe56bd5fdc",
   "metadata": {
    "tags": []
   },
   "outputs": [],
   "source": [
    "def get_embedding_model(is_bedrock_embeddings, is_KoSimCSERobert, aws_region, endpont_name=None):\n",
    "\n",
    "    if is_bedrock_embeddings:\n",
    "        # We will be using the Titan Embeddings Model to generate our Embeddings.\n",
    "        from langchain.embeddings import BedrockEmbeddings\n",
    "        llm_emb = BedrockEmbeddings(\n",
    "            client=boto3_bedrock,\n",
    "            model_id=bedrock_info.get_model_id(\n",
    "                model_name=\"Titan-Embeddings-G1\"\n",
    "            )\n",
    "        )\n",
    "        print(\"Bedrock Embeddings Model Loaded\")\n",
    "\n",
    "    elif is_KoSimCSERobert:\n",
    "        LLMEmbHandler = KoSimCSERobertaContentHandler()\n",
    "        endpoint_name_emb = endpont_name\n",
    "        llm_emb = SagemakerEndpointEmbeddingsJumpStart(\n",
    "            endpoint_name=endpoint_name_emb,\n",
    "            region_name=aws_region,\n",
    "            content_handler=LLMEmbHandler,\n",
    "        )\n",
    "        print(\"KoSimCSERobert Embeddings Model Loaded\")\n",
    "    else:\n",
    "        llm_emb = None\n",
    "        print(\"No Embedding Model Selected\")\n",
    "\n",
    "    return llm_emb"
   ]
  },
  {
   "cell_type": "markdown",
   "id": "cd72a6b8-eaf0-4036-a530-3bde5ba988cd",
   "metadata": {},
   "source": [
    "#### [중요] is_KoSimCSERobert == True 일시에 endpoint_name 을 꼭 넣어 주세요."
   ]
  },
  {
   "cell_type": "code",
   "execution_count": 12,
   "id": "f42e032b-8715-432c-ae71-12a889f8ffc0",
   "metadata": {
    "tags": []
   },
   "outputs": [
    {
     "name": "stdout",
     "output_type": "stream",
     "text": [
      "Bedrock Embeddings Model Loaded\n"
     ]
    }
   ],
   "source": [
    "is_bedrock_embeddings = True\n",
    "is_KoSimCSERobert = False\n",
    "aws_region = os.environ.get(\"AWS_DEFAULT_REGION\", None)\n",
    "\n",
    "##############################\n",
    "# Parameters for is_KoSimCSERobert\n",
    "##############################\n",
    "if is_KoSimCSERobert: endpont_name = \"<endpoint-name>\"\n",
    "else: endpont_name = None\n",
    "##############################\n",
    "\n",
    "llm_emb = get_embedding_model(is_bedrock_embeddings, is_KoSimCSERobert, aws_region, endpont_name)   "
   ]
  },
  {
   "cell_type": "markdown",
   "id": "7e432237-b9b5-4be3-aa0c-c30eeca6f480",
   "metadata": {},
   "source": [
    "## 3. LangChainmOpenSearch VectorStore 정의\n",
    "### 선수 조건\n",
    "- 01_preprocess_docs/02_load_docs_opensearch.ipynb를 통해서 OpenSearch Index 가 생성이 되어 있어야 합니다.\n",
    "#### [중요] 아래에 aws parameter store 에 아래 인증정보가 먼저 입력되어 있어야 합니다.\n",
    "- 01_preprocess_docs/01_parameter_store_example.ipynb 참고"
   ]
  },
  {
   "cell_type": "code",
   "execution_count": 13,
   "id": "635ffe33-b1b1-49f7-ae14-07b782d30a63",
   "metadata": {
    "tags": []
   },
   "outputs": [],
   "source": [
    "from utils.proc_docs import get_parameter"
   ]
  },
  {
   "cell_type": "code",
   "execution_count": 14,
   "id": "42d192b6-68ce-465e-9fa7-04b5201f4453",
   "metadata": {
    "tags": []
   },
   "outputs": [],
   "source": [
    "ssm = boto3.client(\"ssm\", \"us-east-1\")\n",
    "\n",
    "opensearch_domain_endpoint = get_parameter(\n",
    "    boto3_clinet = ssm,\n",
    "    parameter_name = 'knox_opensearch_domain_endpoint',\n",
    ")\n",
    "\n",
    "opensearch_user_id = get_parameter(\n",
    "    boto3_clinet = ssm,\n",
    "    parameter_name = 'knox_opensearch_userid',\n",
    ")\n",
    "\n",
    "opensearch_user_password = get_parameter(\n",
    "    boto3_clinet = ssm,\n",
    "    parameter_name = 'knox_opensearch_password',\n",
    ")"
   ]
  },
  {
   "cell_type": "code",
   "execution_count": 15,
   "id": "fc7866fd-fd9c-4b41-b600-a91e43edfe4d",
   "metadata": {
    "tags": []
   },
   "outputs": [],
   "source": [
    "opensearch_domain_endpoint = opensearch_domain_endpoint\n",
    "rag_user_name = opensearch_user_id\n",
    "rag_user_password = opensearch_user_password\n",
    "\n",
    "http_auth = (rag_user_name, rag_user_password) # Master username, Master password"
   ]
  },
  {
   "cell_type": "markdown",
   "id": "161a900e-effc-4d7f-a179-b6c00eac03ad",
   "metadata": {
    "tags": []
   },
   "source": [
    "### Index 이름 셋팅\n",
    "- 이전 노트북 01_preprocess_docs/02_load_docs_opensearch.ipynb를 통해서 생성된 OpenSearch Index name 입력"
   ]
  },
  {
   "cell_type": "code",
   "execution_count": 47,
   "id": "d5d9b5eb-052e-4e84-846b-c5385e853ba4",
   "metadata": {
    "tags": []
   },
   "outputs": [],
   "source": [
    "#index_name = \"genai-demo-knox-v1\"\n",
    "index_name = \"genai-poc-knox-v1\""
   ]
  },
  {
   "cell_type": "markdown",
   "id": "482f5785-b88d-44fa-a603-080e4bd734a6",
   "metadata": {},
   "source": [
    "### OpenSearch Client 생성"
   ]
  },
  {
   "cell_type": "code",
   "execution_count": 48,
   "id": "968b7502-5799-4702-bc17-959e88c330a2",
   "metadata": {
    "tags": []
   },
   "outputs": [],
   "source": [
    "from utils.opensearch import opensearch_utils"
   ]
  },
  {
   "cell_type": "code",
   "execution_count": 49,
   "id": "6ceb46a1-e425-4f7e-9319-793b55abb938",
   "metadata": {
    "tags": []
   },
   "outputs": [],
   "source": [
    "os_client = opensearch_utils.create_aws_opensearch_client(\n",
    "    aws_region,\n",
    "    opensearch_domain_endpoint,\n",
    "    http_auth\n",
    ")"
   ]
  },
  {
   "cell_type": "markdown",
   "id": "98bde525-506d-4667-9fc3-bc06dcaba93a",
   "metadata": {
    "tags": []
   },
   "source": [
    "### LangChain OpenSearch VectorStore 생성"
   ]
  },
  {
   "cell_type": "code",
   "execution_count": 50,
   "id": "7e13238f-4ff7-4f7f-b83e-04b4563bd90a",
   "metadata": {
    "tags": []
   },
   "outputs": [],
   "source": [
    "from langchain.vectorstores import OpenSearchVectorSearch"
   ]
  },
  {
   "cell_type": "code",
   "execution_count": 51,
   "id": "dd444329-cdbe-4843-9092-791840138a3a",
   "metadata": {
    "tags": []
   },
   "outputs": [
    {
     "data": {
      "text/plain": [
       "<langchain.vectorstores.opensearch_vector_search.OpenSearchVectorSearch at 0x7f6673b638b0>"
      ]
     },
     "execution_count": 51,
     "metadata": {},
     "output_type": "execute_result"
    }
   ],
   "source": [
    "vector_db = OpenSearchVectorSearch(\n",
    "    index_name=index_name,\n",
    "    opensearch_url=opensearch_domain_endpoint,\n",
    "    embedding_function=llm_emb,\n",
    "    http_auth=http_auth, # http_auth\n",
    "    is_aoss =False,\n",
    "    engine=\"faiss\",\n",
    "    space_type=\"l2\"\n",
    ")\n",
    "vector_db"
   ]
  },
  {
   "cell_type": "markdown",
   "id": "a5084376-7523-4cf9-9123-adc4ae79f66d",
   "metadata": {
    "tags": []
   },
   "source": [
    "## 4. Retriever based on Hybrid Search 정의\n",
    "- LangChain에서 제공하는 **BaseRetriever** 클래스를 상속받아 **Custom Retriever**를 정의 할 수 있습니다.\n",
    "- 본 샘플코드 에서는 **Hybrid Search based Retriever**를 **정의**합니다. "
   ]
  },
  {
   "cell_type": "markdown",
   "id": "b0a25df0-2a13-4d73-9edc-532caf98f804",
   "metadata": {},
   "source": [
    "OpenSearch Hybrid 는 아래와 같은 방식으로 작동합니다.\n",
    "- (1) Sematic serch를 통해 각 document별 relevant score 산출\n",
    "- (2) Lexical search를 통해 각 document별 relevant score 산출\n",
    "- (3-1) Rank-fusion 방식이 \"simple weighted\" 일 경우\n",
    "    - 산출된 score에 대한 normalization 수행\n",
    "    - 전체 결과에서 가장 높은 스코어는 표준화 과정을 통하여 스코어가 1.0 이 됨.\n",
    "- (3-2) Rank-fusion 방식이 \"Reciprocal Rank Fusion (RRF)\" 일 경우\n",
    "    - Paper: https://plg.uwaterloo.ca/~gvcormac/cormacksigir09-rrf.pdf\n",
    "    - Desc: https://medium.com/@sowmiyajaganathan/hybrid-search-with-re-ranking-ff120c8a426d\n",
    "    - **RRF의 경우 score가 아닌 ranking 정보를 활용, 때문에 score normalization이 필요 없음**\n",
    "    - ![rrf.png](../../../10_advanced_question_answering/img/rrf.png)\n",
    "\n",
    "RRF는 langchain에서 \"Ensemble Retriever\" 이름으로 api를 제공합니다. \n",
    "- https://python.langchain.com/docs/modules/data_connection/retrievers/ensemble"
   ]
  },
  {
   "cell_type": "code",
   "execution_count": 52,
   "id": "5db8e470-63a9-4c3d-94c8-1d270a6da822",
   "metadata": {
    "tags": []
   },
   "outputs": [],
   "source": [
    "from utils.rag import OpenSearchHybridSearchRetriever"
   ]
  },
  {
   "cell_type": "markdown",
   "id": "d7feac2f-21a2-4756-b989-66c180bb1e79",
   "metadata": {},
   "source": [
    "- 필터 설정 예시\n",
    "- filter=[ <BR>\n",
    "    　{\"term\": {\"metadata.[**your_metadata_attribute_name**]\": \"**your first keyword**\"}}, <BR>\n",
    "    　{\"term\": {\"metadata.[**your_metadata_attribute_name**]\": \"**your second keyword**\"}},<BR>\n",
    "]"
   ]
  },
  {
   "cell_type": "code",
   "execution_count": 68,
   "id": "49c7e131-294f-4ff8-9331-989709c7079c",
   "metadata": {
    "tags": []
   },
   "outputs": [],
   "source": [
    "opensearch_hybrid_retriever = OpenSearchHybridSearchRetriever(\n",
    "    os_client=os_client,\n",
    "    vector_db=vector_db,\n",
    "    index_name=index_name,\n",
    "\n",
    "    # option for lexical\n",
    "    minimum_should_match=0,\n",
    "    filter=[],\n",
    "\n",
    "    # option for rank fusion\n",
    "    fusion_algorithm=\"RRF\", # [\"RRF\", \"simple_weighted\"], rank fusion 방식 정의\n",
    "    ensemble_weights=[.5, .5], # [for lexical, for semantic], Lexical, Semantic search 결과에 대한 최종 반영 비율 정의\n",
    "\n",
    "    # option for async search\n",
    "    async_mode=True,\n",
    "    \n",
    "    # option for output\n",
    "    k=5, # 최종 Document 수 정의\n",
    "    verbose=False,\n",
    ")"
   ]
  },
  {
   "cell_type": "markdown",
   "id": "cfb26835-ad98-41c5-9e9d-2453642e3551",
   "metadata": {},
   "source": [
    "### Retrieval example\n",
    "- default search"
   ]
  },
  {
   "cell_type": "code",
   "execution_count": 72,
   "id": "9c06e89f-79de-413c-ba9c-a188ca3fe2d0",
   "metadata": {
    "tags": []
   },
   "outputs": [],
   "source": [
    "from utils.rag import show_context_used"
   ]
  },
  {
   "cell_type": "code",
   "execution_count": 73,
   "id": "fe3bfee3-dac1-45b9-8795-03e36c1632a9",
   "metadata": {
    "tags": []
   },
   "outputs": [],
   "source": [
    "query = \"knox\""
   ]
  },
  {
   "cell_type": "code",
   "execution_count": 74,
   "id": "05b13e5e-4a66-4dc8-b18c-42a6e3bd6037",
   "metadata": {
    "tags": []
   },
   "outputs": [
    {
     "name": "stdout",
     "output_type": "stream",
     "text": [
      "\n",
      "lexical search query: \n",
      "{'query': {'bool': {'filter': [],\n",
      "                    'must': [{'match': {'text': {'minimum_should_match': '0%',\n",
      "                                                 'operator': 'or',\n",
      "                                                 'query': 'knox'}}}]}},\n",
      " 'size': 5}\n",
      "\n",
      "semantic search args: \n",
      "{'boolean_filter': {'bool': {'filter': []}},\n",
      " 'k': 5,\n",
      " 'search_type': 'approximate_search',\n",
      " 'space_type': 'l2'}\n",
      "\n",
      "==========  Results  ==========\n",
      "\n",
      "1. question: knox\n",
      "2. # documents: 5\n",
      "3. Documents: \n",
      "\n",
      "-----------------------------------------------\n",
      "1. Chunk: 374 Characters\n",
      "-----------------------------------------------\n",
      "Knox Admin Portal release notes. Knox Admin Portal 23.09 release notes Knox Admin Portal 23.06\n",
      "release notes Knox Admin Portal 23.03 release notes Knox Admin Portal 22.11 release notes Knox Admin\n",
      "Portal 22.08 release notes Knox Admin Portal 22.05 release notes Knox Admin Portal 22.03 release\n",
      "notes Knox Admin Portal 21.11 release notes Knox Admin Portal 21.09 release notes\n",
      "metadata:\n",
      " {'source': '/root/aws-ai-ml-workshop-kr/genai/aws-gen-ai-\n",
      "kr/20_applications/02_qa_chatbot/01_preprocess_docs/data/poc/customer_EFOTA.json', 'seq_num': 218,\n",
      "'title': 'Knox Admin Portal release notes', 'url': 'https://docs.samsungknox.com/admin/knox-admin-\n",
      "portal/release-notes', 'project': 'USP', 'last_updated': '2023-09-06', 'id':\n",
      "'29657178-7223-4b9d-8512-ee9cd6703660'}\n",
      "-----------------------------------------------\n",
      "2. Chunk: 3018 Characters\n",
      "-----------------------------------------------\n",
      "Knox Suite. Knox Suite is a bundled offering of Knox solutions for enterprise mobility designed to\n",
      "address organizations' needs related to security and management throughout the entire device\n",
      "lifecycle. Learn more about Knox Suite #Audience This document is intended for IT Admins. Understand\n",
      "what's included in Knox Suite and how you can use it to manage, secure, and maintain enterprise\n",
      "devices. Learn where to find information on how to perform various tasks with Knox\"Suite services.\n",
      "About Knox Suite Knox Suite is a bundled offering that includes the following Knox products: Knox\n",
      "Platform for Enterprise - A Knox solution that provides military-grade security to Samsung Android\n",
      "phones, tablets, and Tizen watches for business. Knox Mobile Enrollment - A Knox solution that\n",
      "allows you to enroll thousands of Samsung devices in your EMM at once. When used with a Knox Suite\n",
      "license, Knox Mobile Enrollment provides advanced profiles that offer IT admins additional features\n",
      "such as higher control over locking devices. Knox Manage - A Knox solution that allows you to\n",
      "remotely manage your fleet of mobile devices. With this EMM, you create various policies to control\n",
      "how users can use their devices. Knox Asset Intelligence - A data analytics solution that offers\n",
      "operational visibility and actionable insights to improve the management, productivity, and\n",
      "lifecycle of mobile devices. This solution offers real-time monitoring and management of app\n",
      "performance, battery usage, network connectivity, and asset location. Knox E-FOTA - A Knox solution\n",
      "that allows you to remotely deploy OS and security updates to your devices without requiring user\n",
      "interaction. With Knox E-FOTA, you create a campaign, specify the campaign period, assign devices to\n",
      "that campaign, and select the firmware update to be pushed to those devices during the campaign\n",
      "period. Knox Capture - An Android solution that lets users transform their Samsung Galaxy\n",
      "smartphones and tablets into powerful barcode scanners that can read, process, and output barcode\n",
      "information to other applications, all without requiring additional hardware or writing a single\n",
      "line of code. Knox Authentication Manager - A managed Android app for shared Samsung devices that\n",
      "provides multiuser facial biometrics and sign-in automation for increased frontline worker\n",
      "productivity and safety. With Knox Suite, a single license key allows you to use all included Knox\n",
      "products on your devices. This means that you can use the same Knox Suite license key in multiple\n",
      "Knox service admin portals. Benefits of Knox Suite 1. All-in-one Knox B2B package - An end-to-end\n",
      "solution that covers every step of your enterprise mobility journey 2. Simplified license management\n",
      "- You only need one license key to use all included products. 3. Streamlined onboarding process -\n",
      "Register once and gain access to all included Knox products. 4. Seamless IT admin user experience -\n",
      "IT admin can easily access bundled Knox consoles through single sign-on. To get started, click here.\n",
      "metadata:\n",
      " {'source': '/root/aws-ai-ml-workshop-kr/genai/aws-gen-ai-\n",
      "kr/20_applications/02_qa_chatbot/01_preprocess_docs/data/poc/customer_EFOTA.json', 'seq_num': 124,\n",
      "'title': 'Knox Suite', 'url': 'https://docs.samsungknox.com/admin/knox-suite', 'project': 'KS',\n",
      "'last_updated': '2023-07-26'}\n",
      "-----------------------------------------------\n",
      "3. Chunk: 1306 Characters\n",
      "-----------------------------------------------\n",
      "Knox E-FOTA knowledge base articles. The Knox E-FOTA knowledge base contains general articles,\n",
      "support for known issues, and guides for specific use cases. Explore our knowledge base for: General\n",
      "Knox E-FOTA articles, Known Knox E-FOTA issues and their workarounds, How-to guides for less common\n",
      "setups General articles Updates to Knox E-FOTA activity names Knox E-FOTA Feature Highlights What\n",
      "happens to a device after it's assigned to a campaign When an organization has multiple Knox\n",
      "services, in what order are the Knox services enrolled? Where are Knox E-FOTA servers hosted? What\n",
      "happens when an active campaign is cancelled or deleted? Known issues Unable to sync devices from\n",
      "your EMM to Knox E-FOTA Unwanted Knox E-FOTA device enrollments and license consumption Knox Cloud\n",
      "API blocked when Knox E-FOTA is connected to an EMM How-to guides How to uninstall the Knox E-FOTA\n",
      "Advanced app How to deploy the Knox E-FOTA client to a kiosk through KSP Knox E-FOTA on MDM to Knox\n",
      "E-FOTA Migration Guide for VMware Workspace ONE Knox E-FOTA on MDM to Knox E-FOTA Migration Guide\n",
      "for Knox Manage Knox E-FOTA on MDM to Knox E-FOTA Migration Guide for MobileIron Cloud Knox E-FOTA\n",
      "on MDM to Knox E-FOTA Migration Guide for BlackBerry Knox E-FOTA on MDM to Knox E-FOTA One Migration\n",
      "Guide for SOTI Mobicontrol\n",
      "metadata:\n",
      " {'source': '/root/aws-ai-ml-workshop-kr/genai/aws-gen-ai-\n",
      "kr/20_applications/02_qa_chatbot/01_preprocess_docs/data/poc/customer_EFOTA.json', 'seq_num': 121,\n",
      "'title': 'Knox E-FOTA knowledge base articles', 'url': 'https://docs.samsungknox.com/admin/efota-\n",
      "one/kbas', 'project': 'EFOTA', 'last_updated': '2023-11-09'}\n",
      "-----------------------------------------------\n",
      "4. Chunk: 1735 Characters\n",
      "-----------------------------------------------\n",
      "Before you begin. Before you can start generating Knox Suite licenses for your Enterprise Edition\n",
      "(EE) devices, you must perform the prerequisite steps described in this section. Prerequisites\n",
      "Before you can manage your Knox Suite license and view the security update schedule for your EE\n",
      "devices, you must: 1. Register for the Knox Admin Portal with your Samsung account. 2. Sign in to\n",
      "the Knox Admin Portal. 3. Click your account icon to view your Knox Customer ID. 4. Purchase EE\n",
      "devices from a Samsung device reseller. Give your customer ID to your reseller. Your device reseller\n",
      "must be a member of the Knox Deployment Program (KDP). 5. Generate a Knox Suite license. You can now\n",
      "manage a Knox Suite license and look up the security update schedule and history for your EE\n",
      "devices. Prerequisites for organizations with legacy EE licenses Perform these procedures if you\n",
      "have an active legacy EE license (for Knox Configure and Knox E-FOTA\"on MDM) and you want to convert\n",
      "them to a Knox Suite license. When you generate your\"Knox Suite license, your legacy EE licenses for\n",
      "Knox Configure and Knox E-FOTA on MDM will expire in three months. 1. Create a Samsung account if\n",
      "you don't have one. 2. Obtain a Knox customer ID if you don't have one. You can do this by applying\n",
      "for a Knox Suite trial. When your application is approved, you'll find your Knox customer ID under\n",
      "your account icon in the Knox Admin Portal. 3. Provide your customer ID to the reseller that sold\n",
      "you your EE devices. Have them upload the devices to SamsungKnox.com under your customer ID. Your\n",
      "device reseller must be member of Knox Deployment Program (KDP). After your reseller uploads your\n",
      "devices, you can generate a Knox Suite license for your EE devices.\n",
      "metadata:\n",
      " {'source': '/root/aws-ai-ml-workshop-kr/genai/aws-gen-ai-\n",
      "kr/20_applications/02_qa_chatbot/01_preprocess_docs/data/poc/customer_EFOTA.json', 'seq_num': 125,\n",
      "'title': 'Before you begin', 'url': 'https://docs.samsungknox.com/admin/knox-suite/enterprise-\n",
      "edition-devices/before-you-begin', 'project': 'KS', 'last_updated': '2023-08-23', 'id':\n",
      "'2a4b1e8b-83e4-4591-b610-a199dda0cf4d'}\n",
      "-----------------------------------------------\n",
      "5. Chunk: 3181 Characters\n",
      "-----------------------------------------------\n",
      "Latest videos. Watch the latest videos to learn how Knox services work. Title , Description - , -\n",
      "Getting started with Knox Admin Portal , The Knox Admin Portal is the hub for all your Knox\n",
      "services, designed to provide a cohesive user experience. This video walks you through how to get\n",
      "started with the Knox Admin Portal so that it can help streamline your device management operations\n",
      "and help you manage your resources across services more easily. Getting started with Knox Suite ,\n",
      "Knox Suite is an all-in-one solution, built for enterprise mobility. This video walks you through\n",
      "how to get started with the Knox Suite so that it can help address your enterprise's needs related\n",
      "to security and management throughout the entire device lifecycle. Getting started with Knox Mobile\n",
      "Enrollment , Knox Mobile Enrollment is an automated EMM enrollment tool for provisioning devices\n",
      "quickly and easily, out-of-the-box. Broad-ranging deployment and security features ensure ease of\n",
      "enrollment, in any situation. Getting started with Knox Manage for Android Enterprise , Learn the\n",
      "basics of Samsung Knox Manage. This video will cover how to add users, create groups &\n",
      "organizations, enroll devices, add applications, and assign profiles and policies. Getting started\n",
      "with Knox E-FOTA , Knox E-FOTA lets you manage OS and firmware updates for devices across your fleet\n",
      "from a single unified dashboard. Watch this video to learn how you can update and manage Samsung\n",
      "devices for your entire organization. Getting started with Knox Configure , Customizing devices has\n",
      "never been easier than with Knox Configure. Watch this video to learn how you can rebrand,\n",
      "customize, and stage mobile devices right out of the box. Getting started with Samsung Knox Capture\n",
      ", In this video, we'll show you how to use Samsung Knox Capture to transform your mobile devices to\n",
      "powerful barcode scanners that can read, process, and output barcode data into other applications.\n",
      "Getting started with the Knox MSP Portal , This video walks you through how to access the Knox MSP\n",
      "Portal, how to add and manage customers, devices, and licenses, and how to use the Profiles feature\n",
      "to easily copy Knox Configure profiles from one customer to another. How to manage Galaxy Enterprise\n",
      "Edition devices as a Knox MSP , This video walks you through you how to get started with managing\n",
      "Galaxy Enterprise Edition devices in the Knox MSP Portal. How to manage sub-admins and roles as a\n",
      "Knox MSP , In this video, we'll show you how to add sub-admins, give them roles, and assign them to\n",
      "specific customers in the Knox MSP Portal. How to apply an event profile using Knox Manage , In this\n",
      "video, we'll demonstrate how IT admins can use Knox Manage to apply event profiles in order to limit\n",
      "browser usage and block apps during a specific time period. Getting started with Knox Guard , Learn\n",
      "how you can use Knox Guard to protect your devices from financial risk, theft, and fraud. Getting\n",
      "started with Knox Authentication Manager , Learn how Knox Authentication Manager can enable shared\n",
      "Samsung devices to provide multiuser facial biometrics and sign-in automation to help increase\n",
      "frontline worker productivity and safety.\n",
      "metadata:\n",
      " {'source': '/root/aws-ai-ml-workshop-kr/genai/aws-gen-ai-\n",
      "kr/20_applications/02_qa_chatbot/01_preprocess_docs/data/poc/customer_EFOTA.json', 'seq_num': 151,\n",
      "'title': 'Latest videos', 'url': 'https://docs.samsungknox.com/admin/fundamentals/latest-videos',\n",
      "'project': 'USP', 'last_updated': '2023-11-10'}\n",
      "CPU times: user 8.64 ms, sys: 4.76 ms, total: 13.4 ms\n",
      "Wall time: 151 ms\n"
     ]
    }
   ],
   "source": [
    "%%time\n",
    "search_hybrid_result = opensearch_hybrid_retriever.get_relevant_documents(query)\n",
    "\n",
    "print(\"\\n==========  Results  ==========\\n\")\n",
    "print(f'1. question: {query}')\n",
    "print (f'2. # documents: {len(search_hybrid_result)}')\n",
    "print(\"3. Documents: \\n\")\n",
    "\n",
    "show_context_used(search_hybrid_result)"
   ]
  },
  {
   "cell_type": "markdown",
   "id": "c09221b5-4a6c-463b-9769-35cc8362e33c",
   "metadata": {},
   "source": [
    "- update parameters"
   ]
  },
  {
   "cell_type": "code",
   "execution_count": 85,
   "id": "b7bb4672-d2b8-4b29-b71c-b06d84bcd470",
   "metadata": {
    "tags": []
   },
   "outputs": [],
   "source": [
    "opensearch_hybrid_retriever.update_search_params(\n",
    "    k=10,\n",
    "    minimum_should_match=0,\n",
    "    filter=[\n",
    "        {\"term\": {\"metadata.project\": \"ks\"}},\n",
    "    ],\n",
    "    async_mode=True\n",
    ")"
   ]
  },
  {
   "cell_type": "code",
   "execution_count": 86,
   "id": "1b9b45b1-cb92-4954-8087-143a550350c8",
   "metadata": {
    "tags": []
   },
   "outputs": [
    {
     "name": "stdout",
     "output_type": "stream",
     "text": [
      "\n",
      "lexical search query: \n",
      "{'query': {'bool': {'filter': [{'term': {'metadata.project': 'ks'}}],\n",
      "                    'must': [{'match': {'text': {'minimum_should_match': '0%',\n",
      "                                                 'operator': 'or',\n",
      "                                                 'query': 'knox'}}}]}},\n",
      " 'size': 10}\n",
      "\n",
      "semantic search args: \n",
      "{'boolean_filter': {'bool': {'filter': [{'term': {'metadata.project': 'ks'}}]}},\n",
      " 'k': 10,\n",
      " 'search_type': 'approximate_search',\n",
      " 'space_type': 'l2'}\n",
      "\n",
      "==========  Results  ==========\n",
      "\n",
      "1. question: knox\n",
      "2. # documents: 10\n",
      "3. Documents: \n",
      "\n",
      "-----------------------------------------------\n",
      "1. Chunk: 667 Characters\n",
      "-----------------------------------------------\n",
      "Knox Suite knowledge base articles. Explore our knowledge base for: General Knox Suite articles,\n",
      "Known Knox Suite issues and their workarounds, How-to guides for less common setups General articles\n",
      "Am I eligible for a 1-year renewable Knox Suite license if I have legacy EE licenses? Am I able to\n",
      "get a Knox Suite for EE license if I purchase EE devices from a hardware reseller that hasn't joined\n",
      "KDP? Can I merge multiple Knox Suite licenses? What happens when my Knox Suite license expires?\n",
      "Known issues Active Knox Suite license fails to activate all Knox Suite services How-to articles How\n",
      "to generate a 2- or 3-year license key How to receive a Knox customer ID\n",
      "metadata:\n",
      " {'source': '/root/aws-ai-ml-workshop-kr/genai/aws-gen-ai-\n",
      "kr/20_applications/02_qa_chatbot/01_preprocess_docs/data/poc/customer_EFOTA.json', 'seq_num': 149,\n",
      "'title': 'Knox Suite knowledge base articles', 'url': 'https://docs.samsungknox.com/admin/knox-\n",
      "suite/kbas', 'project': 'KS', 'last_updated': '2023-07-26', 'id':\n",
      "'df438698-ecd9-4486-999c-9ea673135c48'}\n",
      "-----------------------------------------------\n",
      "2. Chunk: 674 Characters\n",
      "-----------------------------------------------\n",
      "What is Knox Suite?. Knox Suite is a bundled offering designed to help enterprise IT admins better\n",
      "manage your fleet of devices. It includes individual services such as Knox Platform for Enterprise,\n",
      "Knox Mobile Enrollment, Knox Manage, Knox E-FOTA, and Knox Asset Intelligence. Key features of Knox\n",
      "Suite include: Secure - Ensure your business data is protected with managed security features at\n",
      "your control. Deploy - Enroll corporate devices to EMM automatically and securely, right out of the\n",
      "box. Manage - Enable comprehensive management over corporate devices and OS versions. Analyze -\n",
      "Strengthen in-depth device analytics for mobile productivity and asset management.\n",
      "metadata:\n",
      " {'source': '/root/aws-ai-ml-workshop-kr/genai/aws-gen-ai-\n",
      "kr/20_applications/02_qa_chatbot/01_preprocess_docs/data/poc/customer_EFOTA.json', 'seq_num': 133,\n",
      "'title': ' What is Knox Suite?', 'url': 'https://docs.samsungknox.com/admin/knox-suite/faq/#what-is-\n",
      "knox-suite', 'project': 'KS', 'last_updated': '2023-07-26', 'id':\n",
      "'b072dbb7-9ff1-489a-aaf8-2e276815650f'}\n",
      "-----------------------------------------------\n",
      "3. Chunk: 1735 Characters\n",
      "-----------------------------------------------\n",
      "Before you begin. Before you can start generating Knox Suite licenses for your Enterprise Edition\n",
      "(EE) devices, you must perform the prerequisite steps described in this section. Prerequisites\n",
      "Before you can manage your Knox Suite license and view the security update schedule for your EE\n",
      "devices, you must: 1. Register for the Knox Admin Portal with your Samsung account. 2. Sign in to\n",
      "the Knox Admin Portal. 3. Click your account icon to view your Knox Customer ID. 4. Purchase EE\n",
      "devices from a Samsung device reseller. Give your customer ID to your reseller. Your device reseller\n",
      "must be a member of the Knox Deployment Program (KDP). 5. Generate a Knox Suite license. You can now\n",
      "manage a Knox Suite license and look up the security update schedule and history for your EE\n",
      "devices. Prerequisites for organizations with legacy EE licenses Perform these procedures if you\n",
      "have an active legacy EE license (for Knox Configure and Knox E-FOTA\"on MDM) and you want to convert\n",
      "them to a Knox Suite license. When you generate your\"Knox Suite license, your legacy EE licenses for\n",
      "Knox Configure and Knox E-FOTA on MDM will expire in three months. 1. Create a Samsung account if\n",
      "you don't have one. 2. Obtain a Knox customer ID if you don't have one. You can do this by applying\n",
      "for a Knox Suite trial. When your application is approved, you'll find your Knox customer ID under\n",
      "your account icon in the Knox Admin Portal. 3. Provide your customer ID to the reseller that sold\n",
      "you your EE devices. Have them upload the devices to SamsungKnox.com under your customer ID. Your\n",
      "device reseller must be member of Knox Deployment Program (KDP). After your reseller uploads your\n",
      "devices, you can generate a Knox Suite license for your EE devices.\n",
      "metadata:\n",
      " {'source': '/root/aws-ai-ml-workshop-kr/genai/aws-gen-ai-\n",
      "kr/20_applications/02_qa_chatbot/01_preprocess_docs/data/poc/customer_EFOTA.json', 'seq_num': 125,\n",
      "'title': 'Before you begin', 'url': 'https://docs.samsungknox.com/admin/knox-suite/enterprise-\n",
      "edition-devices/before-you-begin', 'project': 'KS', 'last_updated': '2023-08-23', 'id':\n",
      "'2a4b1e8b-83e4-4591-b610-a199dda0cf4d'}\n",
      "-----------------------------------------------\n",
      "4. Chunk: 438 Characters\n",
      "-----------------------------------------------\n",
      "How-to videos. This section contains how-to videos related to Knox Suite. Getting Started with Knox\n",
      "Suite This video walks you through how to get started with Knox Suite. How to use the Enterprise\n",
      "Edition dashboard to track security updates This video introduces you to the Enterprise Edition\n",
      "dashboard's Security Updates tab, which lets you track the release dates of upcoming security\n",
      "patches for your Galaxy Enterprise Edition devices.\n",
      "metadata:\n",
      " {'source': '/root/aws-ai-ml-workshop-kr/genai/aws-gen-ai-\n",
      "kr/20_applications/02_qa_chatbot/01_preprocess_docs/data/poc/customer_EFOTA.json', 'seq_num': 122,\n",
      "'title': 'How-to videos', 'url': 'https://docs.samsungknox.com/admin/knox-suite/how-to-videos',\n",
      "'project': 'KS', 'last_updated': '2023-07-26', 'id': '9f8b9692-88cf-4c17-bd75-27510623df23'}\n",
      "-----------------------------------------------\n",
      "5. Chunk: 1639 Characters\n",
      "-----------------------------------------------\n",
      "Apply for access to Knox Suite. Once you have a Samsung Knox account and access to Knox services,\n",
      "you can register for Knox Suite. 1. Sign in to SamsungKnox.com. 2. On the welcome screen that opens,\n",
      "click Get Started. The Set up your Knox Admin Portal page opens. 3. Select Knox Suite from the list\n",
      "of Knox cloud solutions and click Confirm. The Knox Admin Portal opens. 4. The last step to register\n",
      "for Knox Suite is to complete your registration for Knox Manage. In the navigation pane of the Knox\n",
      "Admin Portal, click Knox Manage. Confirm or fill out your details for your tenant ID in the page\n",
      "that opens. Your tenant ID identifies your Knox Manage account and allows you to sign in to Knox\n",
      "Manage through a direct URL. If your organization isn't signed up for Knox Services, your\n",
      "organization's domain makes up your unique tenant ID. Confirm that your organization's domain\n",
      "automatically filled the Tenant ID field and click Complete Registration. If your organization is\n",
      "already signed up for Knox Services, you need to define a prefix to differentiate your tenant from\n",
      "other tenants in your organization. Confirm that your organization's domain automatically filled the\n",
      "Organization Domain field and enter a prefix in the Prefix field. Your tenant ID should not exceed\n",
      "50 characters. Click Complete Registration. In the pop up that opens, click Confirm and Complete. 5.\n",
      "You're now registered for Knox Suite. A trial Knox Suite license key is automatically generated when\n",
      "you apply for access to Knox Suite. You can find this in the Licenses tab of the Knox Admin Portal.\n",
      "Tutorial Progress You've completed 2 of 3 steps! Previous Next\n",
      "metadata:\n",
      " {'source': '/root/aws-ai-ml-workshop-kr/genai/aws-gen-ai-\n",
      "kr/20_applications/02_qa_chatbot/01_preprocess_docs/data/poc/customer_EFOTA.json', 'seq_num': 130,\n",
      "'title': 'Apply for access to Knox Suite', 'url': 'https://docs.samsungknox.com/admin/knox-\n",
      "suite/get-started/apply-for-access-to-knox-suite', 'project': 'KS', 'last_updated': '2023-08-23',\n",
      "'id': 'e31ae169-1835-45a6-b77e-491615e239d7'}\n",
      "-----------------------------------------------\n",
      "6. Chunk: 3018 Characters\n",
      "-----------------------------------------------\n",
      "Knox Suite. Knox Suite is a bundled offering of Knox solutions for enterprise mobility designed to\n",
      "address organizations' needs related to security and management throughout the entire device\n",
      "lifecycle. Learn more about Knox Suite #Audience This document is intended for IT Admins. Understand\n",
      "what's included in Knox Suite and how you can use it to manage, secure, and maintain enterprise\n",
      "devices. Learn where to find information on how to perform various tasks with Knox\"Suite services.\n",
      "About Knox Suite Knox Suite is a bundled offering that includes the following Knox products: Knox\n",
      "Platform for Enterprise - A Knox solution that provides military-grade security to Samsung Android\n",
      "phones, tablets, and Tizen watches for business. Knox Mobile Enrollment - A Knox solution that\n",
      "allows you to enroll thousands of Samsung devices in your EMM at once. When used with a Knox Suite\n",
      "license, Knox Mobile Enrollment provides advanced profiles that offer IT admins additional features\n",
      "such as higher control over locking devices. Knox Manage - A Knox solution that allows you to\n",
      "remotely manage your fleet of mobile devices. With this EMM, you create various policies to control\n",
      "how users can use their devices. Knox Asset Intelligence - A data analytics solution that offers\n",
      "operational visibility and actionable insights to improve the management, productivity, and\n",
      "lifecycle of mobile devices. This solution offers real-time monitoring and management of app\n",
      "performance, battery usage, network connectivity, and asset location. Knox E-FOTA - A Knox solution\n",
      "that allows you to remotely deploy OS and security updates to your devices without requiring user\n",
      "interaction. With Knox E-FOTA, you create a campaign, specify the campaign period, assign devices to\n",
      "that campaign, and select the firmware update to be pushed to those devices during the campaign\n",
      "period. Knox Capture - An Android solution that lets users transform their Samsung Galaxy\n",
      "smartphones and tablets into powerful barcode scanners that can read, process, and output barcode\n",
      "information to other applications, all without requiring additional hardware or writing a single\n",
      "line of code. Knox Authentication Manager - A managed Android app for shared Samsung devices that\n",
      "provides multiuser facial biometrics and sign-in automation for increased frontline worker\n",
      "productivity and safety. With Knox Suite, a single license key allows you to use all included Knox\n",
      "products on your devices. This means that you can use the same Knox Suite license key in multiple\n",
      "Knox service admin portals. Benefits of Knox Suite 1. All-in-one Knox B2B package - An end-to-end\n",
      "solution that covers every step of your enterprise mobility journey 2. Simplified license management\n",
      "- You only need one license key to use all included products. 3. Streamlined onboarding process -\n",
      "Register once and gain access to all included Knox products. 4. Seamless IT admin user experience -\n",
      "IT admin can easily access bundled Knox consoles through single sign-on. To get started, click here.\n",
      "metadata:\n",
      " {'source': '/root/aws-ai-ml-workshop-kr/genai/aws-gen-ai-\n",
      "kr/20_applications/02_qa_chatbot/01_preprocess_docs/data/poc/customer_EFOTA.json', 'seq_num': 124,\n",
      "'title': 'Knox Suite', 'url': 'https://docs.samsungknox.com/admin/knox-suite', 'project': 'KS',\n",
      "'last_updated': '2023-07-26'}\n",
      "-----------------------------------------------\n",
      "7. Chunk: 2276 Characters\n",
      "-----------------------------------------------\n",
      "Merge Knox Suite licenses. If you want to reduce the number of licenses you manage, you can merge\n",
      "Knox Suite licenses. There are two ways to do this: By adding a new batch of devices with no license\n",
      "to an existing license, By merging Knox Suite licenses Append Enterprise Edition devices to an\n",
      "existing Knox Suite license If you already have a Knox Suite license for EE devices and you receive\n",
      "an additional device upload of EE devices, you can add the new batch of devices to your existing\n",
      "license. This operation increases the number of seats in your existing license to include the\n",
      "additional devices. It also adjusts the license key's expiration date. To append EE devices to an\n",
      "existing Knox Suite license: 1. Sign in to the Knox Admin Portal. 2. Go to the Enterprise Edition\n",
      "dashboard. 3. Select the reseller that uploaded a new batch of devices. 4. Click Generate License.\n",
      "5. In the Generate license popup, do the following: 1. Select Append to an existing license key,\n",
      "then click Next. 2. Select the existing license key you want to add devices to, then click Next. 3.\n",
      "Read and confirm the changes (simulated result) to be made on the existing license key, then click\n",
      "Generate. 6. The newly uploaded devices are added to your existing license. Merge Knox Suite for EE\n",
      "licenses If you have generated multiple license keys and you want to lessen the number of EE\n",
      "licenses you manage, you can merge licenses into a single key. The resulting quantity of license\n",
      "seats is equal to the sum of the licenses that were merged. The expiration date is adjusted\n",
      "accordingly. You can only merge a license if it has 0 seats activated. In addition, only licenses\n",
      "issued by the same reseller can be merged. To merge Knox Suite for EE licenses: 1. Sign in to the\n",
      "Knox Admin Portal. 2. Go to the Enterprise Edition dashboard. 3. Click the Merge Licenses tab, then\n",
      "click Merge on the license key you want to merge. You can merge up to two license keys at a time. 4.\n",
      "In the Merge license popup, do the following: 1. Select the license key you want to merge to, then\n",
      "click Next. 2. Select the license key you want to merge to, then click Next. 3. Read and confirm the\n",
      "changes (simulated result) to be made on the license key you're merging to, then click Merge. 5. The\n",
      "licenses are merged.\n",
      "metadata:\n",
      " {'source': '/root/aws-ai-ml-workshop-kr/genai/aws-gen-ai-\n",
      "kr/20_applications/02_qa_chatbot/01_preprocess_docs/data/poc/customer_EFOTA.json', 'seq_num': 128,\n",
      "'title': 'Merge Knox Suite licenses', 'url': 'https://docs.samsungknox.com/admin/knox-\n",
      "suite/enterprise-edition-devices/merge-knox-suite-licenses', 'project': 'KS', 'last_updated':\n",
      "'2023-07-26', 'id': '3f9525e4-1491-4706-8c4e-0bb854ff66b0'}\n",
      "-----------------------------------------------\n",
      "8. Chunk: 2041 Characters\n",
      "-----------------------------------------------\n",
      "Learn more about Knox Suite. This section describes where you can find instructions on how to\n",
      "perform tasks using the different products included in Knox Suite. General documentation for the\n",
      "Knox Suite services Knox Service , See - , - Knox Manage , Knox Manage Admin Guide Knox Platform for\n",
      "Enterprise , Knox Platform for Enterprise Admin Guide Knox Mobile Enrollment , Knox Mobile\n",
      "Enrollment Admin Guide Knox E-FOTA , Knox E-FOTA Admin Guide Knox Asset Intelligence , Knox Asset\n",
      "Intelligence Admin Guide Knox Capture , Knox Capture Admin Guide Knox Authentication Manager , Knox\n",
      "Authentication Manager Admin Guide Knox Suite operations For information on See Knox service How to\n",
      "set up Knox Manage with Knox Suite Workflow:\"Set up Knox Manage with a Knox Suite license Knox\n",
      "Manage How to check your Knox Suite license usage View and modify a license Note Alternatively, you\n",
      "can sign in to your SamsungKnox.com dashboard and click Licenses to view all licenses you have for\n",
      "all your Knox services. Knox Manage How to upgrade your license key from Knox Manage to Knox Suite\n",
      "Upgrade a license Knox\"Manage How to configure premium Knox features Prerequisite: Workflow:\"Set up\n",
      "Knox Manage with a Knox Suite license Samsung Knox running Android Enterprise Note Policies with a\n",
      "in the Knox Manage admin portal are Knox premium features. These features require a Knox\"Suite\n",
      "license key. Knox Manage How to approve the Knox Service Plugin (KSP) app Prerequisite:Set up\n",
      "Android Enterprise. Approve Knox Service Plugin (KSP). Knox Manage What's next? When you finish\n",
      "evaluating Knox Suite and decide to use it commercially, contact your Knox reseller to purchase a\n",
      "Knox\"Suite license. If you're in need of devices, consider purchasing Enterprise Edition devices if\n",
      "this program is supported in your country. These devices are packaged with a 1-year renewable\n",
      "Knox\"Suite license, among other benefits. Once you've purchased your Enterprise\"Edition devices, see\n",
      "the Enterprise Edition section for information on how to generate your Knox Suite license.\n",
      "metadata:\n",
      " {'source': '/root/aws-ai-ml-workshop-kr/genai/aws-gen-ai-\n",
      "kr/20_applications/02_qa_chatbot/01_preprocess_docs/data/poc/customer_EFOTA.json', 'seq_num': 123,\n",
      "'title': 'Learn more about Knox Suite', 'url': 'https://docs.samsungknox.com/admin/knox-suite/learn-\n",
      "more-about-knox-suite', 'project': 'KS', 'last_updated': '2023-07-26'}\n",
      "-----------------------------------------------\n",
      "9. Chunk: 223 Characters\n",
      "-----------------------------------------------\n",
      "Where and how can I purchase the Knox Suite?. You can contact the Knox Resellers in your country to\n",
      "purchase a Knox Suite license. To find the official Knox Suite resellers in your location, see the\n",
      "Knox Reseller Directory.\n",
      "metadata:\n",
      " {'source': '/root/aws-ai-ml-workshop-kr/genai/aws-gen-ai-\n",
      "kr/20_applications/02_qa_chatbot/01_preprocess_docs/data/poc/customer_EFOTA.json', 'seq_num': 134,\n",
      "'title': ' Where and how can I purchase the Knox Suite?', 'url':\n",
      "'https://docs.samsungknox.com/admin/knox-suite/faq/#where-how-can-i-purchase-knox-suite', 'project':\n",
      "'KS', 'last_updated': '2023-07-26', 'id': '6f281d83-1f41-4281-8bcb-5eb9ddc41e69'}\n",
      "-----------------------------------------------\n",
      "10. Chunk: 2725 Characters\n",
      "-----------------------------------------------\n",
      "Use the enterprise edition dashboard. This page describes the various elements of the Enterprise\n",
      "Edition dashboard and how to view the security and maintenance release history. Access the\n",
      "Enterprise Edition dashboard To access the Enterprise Edition dashboard: 1. Sign in to the Knox\n",
      "Admin Portal. 2. Go to the Enterprise Edition Dashboard. There are two ways to open the dashboard:\n",
      "From the Licenses page - In the navigation pane of the Knox Admin Portal, click Licenses. The\n",
      "consolidated licenses page opens. Click ACTIONS > Get a license > GENERATE KNOX SUITE LICENSE. From\n",
      "the Additional Solutions tab (only available to Knox Suite users) - First, make sure your dashboard\n",
      "is configured to show the Additional Solutions tab, which is only available for Knox Suite users.\n",
      "Click your account icon > Settings > SHOW/HIDE SERVICES. In the navigation pane, click Additional\n",
      "Solutions. On the Enterprise Edition devices card, click Generate a free Knox Suite license key. 3.\n",
      "The Enterprise Edition dashboard opens. View devices and licenses To view your devices and licenses,\n",
      "go to the DEVICES tab. If your device reseller uploaded devices for you, the reseller's name and ID\n",
      "appears in a table along with the number of devices uploaded. The table columns display the\n",
      "following information about your devices: RESELLER (ID) - The name and ID of the device reseller\n",
      "that uploaded EE devices for you. DEVICES LAST UPLOADED - The date that the reseller last uploaded\n",
      "devices for you. DEVICES UPLOADED - The total number of devices that the reseller has uploaded for\n",
      "you. LICENSES GENERATED - The number of devices that have a Knox Suite license. DEVICES REMAINING -\n",
      "The number of devices that don't have a Knox Suite license. LICENSE LAST GENERATED - The date you\n",
      "last generated a Knox Suite license for devices you purchased from this reseller. If you don't see\n",
      "any device uploads, contact your device reseller. View security and maintenance history of devices\n",
      "To view the device security updates and update history, go to the SECURITY UPDATES tab. The table\n",
      "columns display the following information about your devices: NAME - The device model name. MODEL -\n",
      "The device model code. QUANTITY - The number of devices of that model. COUNTRY - The country the\n",
      "devices are associated with. LATEST - The release date of the most recent security update. UPCOMING\n",
      "- The date of the next upcoming security update. FINAL - The date of the final security update. To\n",
      "view a device's Security Maintenance Release (SMR) history, click the date under LATEST. Release\n",
      "dates are subject to change without prior notice. The Enterprise Edition dashboard provides the\n",
      "schedule and history of the security updates for Enterprise Edition devices only.\n",
      "metadata:\n",
      " {'source': '/root/aws-ai-ml-workshop-kr/genai/aws-gen-ai-\n",
      "kr/20_applications/02_qa_chatbot/01_preprocess_docs/data/poc/customer_EFOTA.json', 'seq_num': 129,\n",
      "'title': 'Use the enterprise edition dashboard', 'url': 'https://docs.samsungknox.com/admin/knox-\n",
      "suite/enterprise-edition-devices/use-the-enterprise-edition-dashboard', 'project': 'KS',\n",
      "'last_updated': '2023-07-26', 'id': '1a2edaf2-c3e8-4043-aba7-cddc8c529e57'}\n"
     ]
    }
   ],
   "source": [
    "query = \"knox\"\n",
    "search_hybrid_result = opensearch_hybrid_retriever.get_relevant_documents(query)\n",
    "\n",
    "print(\"\\n==========  Results  ==========\\n\")\n",
    "print(f'1. question: {query}')\n",
    "print(f'2. # documents: {len(search_hybrid_result)}')\n",
    "print(\"3. Documents: \\n\")\n",
    "\n",
    "show_context_used(search_hybrid_result)"
   ]
  },
  {
   "cell_type": "markdown",
   "id": "a981abe7-5208-48f5-a9cc-8c557e9941ca",
   "metadata": {},
   "source": [
    "## 5. RAG using RetrievalQA powered by LangChain"
   ]
  },
  {
   "cell_type": "code",
   "execution_count": 87,
   "id": "08cf6d2b-451b-499c-aec2-bb6f5abafbb0",
   "metadata": {
    "tags": []
   },
   "outputs": [],
   "source": [
    "from utils.rag import run_RetrievalQA\n",
    "from langchain.prompts import PromptTemplate"
   ]
  },
  {
   "cell_type": "markdown",
   "id": "b490df1f-8113-4dd1-a578-a3e1a6918fde",
   "metadata": {
    "tags": []
   },
   "source": [
    "### Prompting\n",
    "- [TIP] Prompt의 instruction의 경우 한글보다 영어로 했을 때 더 좋은 결과를 얻을 수 있습니다."
   ]
  },
  {
   "cell_type": "code",
   "execution_count": 88,
   "id": "572bc0ee-afb8-4dc8-b5ae-629920b8504b",
   "metadata": {
    "tags": []
   },
   "outputs": [],
   "source": [
    "prompt_template = \"\"\"\n",
    "\\n\\nHuman: Here is the context, inside <context></context> XML tags.\n",
    "\n",
    "<context>\n",
    "{context}\n",
    "</context>\n",
    "\n",
    "Only using the contex as above, answer the following question with the rules as below:\n",
    "    - Don't insert XML tag such as <context> and </context> when answering.\n",
    "    - Write as much as you can\n",
    "    - Be courteous and polite\n",
    "    - Only answer the question if you can find the answer in the context with certainty.\n",
    "\n",
    "Question:\n",
    "{question}\n",
    "\n",
    "If the answer is not in the context, just say \"Could not find answer in given contexts.\"\n",
    "\n",
    "\\n\\nAssistant:\"\"\"\n",
    "\n",
    "PROMPT = PromptTemplate(\n",
    "    template=prompt_template, input_variables=[\"context\", \"question\"]\n",
    ")"
   ]
  },
  {
   "cell_type": "markdown",
   "id": "c66157a6-aec8-4555-a90f-1178e6f4f6e0",
   "metadata": {},
   "source": [
    "### Update Search Params (Optional)"
   ]
  },
  {
   "cell_type": "code",
   "execution_count": 40,
   "id": "64df2daf-8b42-472a-885f-97320ee98132",
   "metadata": {
    "tags": []
   },
   "outputs": [],
   "source": [
    "from langchain.chains import RetrievalQA"
   ]
  },
  {
   "cell_type": "code",
   "execution_count": 89,
   "id": "d2697230-6962-43d8-8917-ba9daa4295bb",
   "metadata": {
    "tags": []
   },
   "outputs": [],
   "source": [
    "opensearch_hybrid_retriever.update_search_params(\n",
    "    k=5,\n",
    "    minimum_should_match=3,\n",
    "    filter=[\n",
    "        {\"term\": {\"metadata.project\": \"ks\"}},\n",
    "    ],\n",
    "    async_mode=True\n",
    ")"
   ]
  },
  {
   "cell_type": "markdown",
   "id": "aee26c22-b674-4f4f-a87b-29508e336fda",
   "metadata": {},
   "source": [
    "### Request"
   ]
  },
  {
   "cell_type": "code",
   "execution_count": 90,
   "id": "95fa61d3-9256-432a-96a3-2c696c97ea68",
   "metadata": {
    "tags": []
   },
   "outputs": [],
   "source": [
    "qa = RetrievalQA.from_chain_type(\n",
    "    llm=llm_text,\n",
    "    chain_type=\"stuff\",\n",
    "    retriever=opensearch_hybrid_retriever,\n",
    "    return_source_documents=True,\n",
    "    chain_type_kwargs={\n",
    "        \"prompt\": PROMPT,\n",
    "        \"verbose\": False,\n",
    "    },\n",
    "    verbose=False\n",
    ")"
   ]
  },
  {
   "cell_type": "code",
   "execution_count": 91,
   "id": "390ad324-40b3-4bcb-92b9-50eb080492a5",
   "metadata": {
    "tags": []
   },
   "outputs": [
    {
     "name": "stdout",
     "output_type": "stream",
     "text": [
      "\n",
      "lexical search query: \n",
      "{'query': {'bool': {'filter': [{'term': {'metadata.project': 'ks'}}],\n",
      "                    'must': [{'match': {'text': {'minimum_should_match': '3%',\n",
      "                                                 'operator': 'or',\n",
      "                                                 'query': 'verify DM'}}}]}},\n",
      " 'size': 5}\n",
      "\n",
      "semantic search args: \n",
      "{'boolean_filter': {'bool': {'filter': [{'term': {'metadata.project': 'ks'}}]}},\n",
      " 'k': 5,\n",
      " 'search_type': 'approximate_search',\n",
      " 'space_type': 'l2'}\n",
      " Based on the provided context, I could not find enough information to verify a DM or answer the question \"verify DM\". The context focuses on creating a Samsung account, registering a Knox Suite license, and starting a Knox Suite trial. It does not mention anything about verifying a DM. Please provide more context related to verifying a DM if you would like me to answer this question."
     ]
    }
   ],
   "source": [
    "query = \"verify DM\"\n",
    "response = qa(query)"
   ]
  },
  {
   "cell_type": "code",
   "execution_count": 92,
   "id": "01e77dad-dc19-416b-80e7-19fac3b736a5",
   "metadata": {
    "tags": []
   },
   "outputs": [
    {
     "name": "stdout",
     "output_type": "stream",
     "text": [
      "##################################\n",
      "query:  verify DM\n",
      "##################################\n",
      "\u001b[34m\n",
      "\n",
      "### Answer ###\u001b[0m\n",
      " Based on the provided context, I could not find enough information to verify a DM or answer the\n",
      "question \"verify DM\". The context focuses on creating a Samsung account, registering a Knox Suite\n",
      "license, and starting a Knox Suite trial. It does not mention anything about verifying a DM. Please\n",
      "provide more context related to verifying a DM if you would like me to answer this question.\n",
      "\u001b[32m\n",
      "\n",
      "### Contexts ###\u001b[0m\n",
      "-----------------------------------------------\n",
      "1. Chunk: 1918 Characters\n",
      "-----------------------------------------------\n",
      "Create a Samsung account. To use Knox Suite, you need to create a Samsung account. If you already\n",
      "have a Samsung account, you can skip to the next procedure. Your Samsung account provides access to\n",
      "various Knox solutions and tools through the Knox Admin Portal. Your account also allows you to\n",
      "create support tickets if you're having issues with a product. A Samsung account is free and you can\n",
      "create one in just a few minutes. Personal email accounts, such as Gmail and Hotmail accounts,\n",
      "aren't accepted. To create a Samsung account: 1. Go to SamsungKnox.com. 2. Click GET STARTED in the\n",
      "top right corner. 3. Enter your work email address and select Knox Suite from the list of Knox\n",
      "solutions. Then, click CREATE MY ACCOUNT. If your email address is already associated with a Samsung\n",
      "account, you're prompted to sign in to your Samsung account. Otherwise, you're prompted to create\n",
      "one. 4. If you're prompted to create one, create a Samsung account. Read the service's terms and\n",
      "conditions. If you agree to all of them, select each one. Then, click Agree. Fill out the basic\n",
      "information for your account and click Next. Enter the verification code sent to your email. Click\n",
      "Done. Your Samsung account is now created. 5. You're then automatically redirected to apply for\n",
      "access to Knox Services. Verify the details of your Samsung Knox account and click NEXT: COMPANY\n",
      "INFO. Fill out the form with your company's details and click NEXT: AGREEMENT. Read the Samsung Knox\n",
      "agreements. If you agree to them, click AGREE. Your application for Knox Services is complete. Sign\n",
      "in to Samsung Knox 1. Go to SamsungKnox.com, hover over Sign in, then click Sign in under Samsung\n",
      "Account. 2. Enter your Samsung account email, then click Next. 3. Enter your Samsung account\n",
      "password, then click Sign in. You're now signed in and ready to start using Knox services and\n",
      "products. Tutorial Progress You've completed 1 of 3 steps! Next\n",
      "metadata:\n",
      " {'source': '/root/aws-ai-ml-workshop-kr/genai/aws-gen-ai-\n",
      "kr/20_applications/02_qa_chatbot/01_preprocess_docs/data/poc/customer_EFOTA.json', 'seq_num': 132,\n",
      "'title': 'Create a Samsung account', 'url': 'https://docs.samsungknox.com/admin/knox-suite/get-\n",
      "started/create-a-samsung-account', 'project': 'KS', 'last_updated': '2023-08-23', 'id':\n",
      "'74a6d602-d118-4473-b3c2-33a82d522773'}\n",
      "-----------------------------------------------\n",
      "2. Chunk: 3393 Characters\n",
      "-----------------------------------------------\n",
      "Confirm and register your license. This section provides information about the Knox Suite license,\n",
      "and describes how to navigate through the Knox Suite products to ensure that your Knox Suite license\n",
      "is properly registered. Knox Suite license When you apply for access to Knox Suite, a trial license\n",
      "is automatically generated and registered for you. This license applies to all Knox Suite services,\n",
      "covers up to 30 active devices, and expires after three months. When your trial license expires, you\n",
      "can purchase a commercial license from an authorized reseller to continue to use Knox Services. 1.\n",
      "Click Licenses on the Knox Admin Portal navigation pane. 2. On the consolidated licenses page that\n",
      "opens, click Actions > Get a license > Find Reseller. A page of authorized resellers opens. 3. You\n",
      "can search for resellers by location and license keys. Select a reseller, fill out the purchase\n",
      "request form that appears when you click on their name, and send it to them. 4. Complete your\n",
      "license purchase. 5. After you procure your commercial license, sign-in to the Knox Suite portal and\n",
      "click Licenses > Actions > Enter license key. Enter your license key to start using Knox Suite.\n",
      "Other licenses Knox Suite includes Knox Capture and Knox Platform for Enterprise, which need their\n",
      "own separate license keys. If you plan to use either of those services, you need to generate a free\n",
      "Knox Platform for Enterprise Premium license or a Knox Capture trial license: 1. Click Licenses on\n",
      "the Knox Admin Portal navigation pane. 2. On the consolidated licenses page that opens, click Manage\n",
      "license keys. The Other License Keys page opens. 3. Click Actions, and from the drop down list,\n",
      "select which license key you want to generate. The new license is added to your license key list.\n",
      "Launch the Knox Suite services 1. Go to SamsungKnox.com and sign in with your Samsung account. The\n",
      "Knox Admin Portal opens. 2. In the navigation pane, click the service you want to open. 3. The\n",
      "dashboard corresponding to your selection opens. Refer to the respective documentation of each\n",
      "product to learn how to get started with them. You can also sign in to Knox Manage through your\n",
      "organization's direct URL. For more information on signing in to Knox Manage, see Sign in to Knox\n",
      "Manage. Confirm your Knox Suite license in the Knox Admin Portal To confirm your Knox Suite license\n",
      "in the Knox Admin Portal: 1. Click Licenses in the Knox Admin Portal navigation pane. The\n",
      "consolidated licenses page opens. Alternatively, from the main dashboard you can click ACTIVATE\n",
      "LICENSE on the Try Knox services for free card. 2. Confirm that the Knox Suite trial license was\n",
      "automatically generated and registered for you. You can also navigate to the consolidated licenses\n",
      "page through the individual Licenses page in the dashboard of each Knox service. Confirm your Knox\n",
      "Suite license on the Knox Manage console To confirm your license on the Knox Manage console: 1.\n",
      "Launch the Knox Manage console. 2. In the navigation pane, go to Setting > License. Confirm that the\n",
      "license key was automatically generated and registered for you. It must have the Knox Suite license\n",
      "type. For more information on license registration and management in the Knox Admin Portal, see\n",
      "Manage Knox licenses. Tutorial Progress Congratulations! You've completed 3 of 3 steps of this\n",
      "tutorial! You're ready to use the Knox\"Suite services. Previous\n",
      "metadata:\n",
      " {'source': '/root/aws-ai-ml-workshop-kr/genai/aws-gen-ai-\n",
      "kr/20_applications/02_qa_chatbot/01_preprocess_docs/data/poc/customer_EFOTA.json', 'seq_num': 131,\n",
      "'title': 'Confirm and register your license', 'url': 'https://docs.samsungknox.com/admin/knox-\n",
      "suite/get-started/confirm-and-register-your-license', 'project': 'KS', 'last_updated': '2023-09-06'}\n",
      "-----------------------------------------------\n",
      "3. Chunk: 2903 Characters\n",
      "-----------------------------------------------\n",
      "Get a Knox Suite license for Enterprise Edition devices. This section describes how to generate a\n",
      "Knox Suite license for your EE devices. The number of license seats generated is equal to the number\n",
      "of devices included in the upload you selected. This procedure assumes you have completed the\n",
      "prerequisite steps. If you have a legacy EE license and you're converting your license, you can also\n",
      "perform this procedure to generate a Knox Suite license. As soon as you generate your Knox Suite\n",
      "license, your legacy licenses for Knox Configure and Knox E-FOTA on MDM will expire in three months.\n",
      "If you want to add a new batch of EE devices to an existing license instead of generating a new\n",
      "license, see Append Enterprise Edition devices to an existing Knox Suite license for more\n",
      "information. To get a Knox Suite license for EE devices: 1. Sign in to the Knox Admin Portal. 2. Go\n",
      "to the Enterprise Edition Dashboard. There are two ways to open the dashboard: From the Licenses\n",
      "page - In the navigation pane of the Knox Admin Portal, click Licenses. The consolidated licenses\n",
      "page opens. Click ACTIONS > Get a license > GENERATE KNOX SUITE LICENSE. From the Additional\n",
      "Solutions tab (only available to Knox Suite users) - First, make sure your dashboard is configured\n",
      "to show the Additional Solutions tab, which is only available for Knox Suite users. Click your\n",
      "account icon > Settings > SHOW/HIDE SERVICES. In the navigation pane, click Additional Solutions. On\n",
      "the Enterprise Edition devices card, click Generate a free Knox Suite license key. 3. The Enterprise\n",
      "Edition Dashboard opens. If your device reseller has already uploaded the devices for you, the\n",
      "reseller's name and ID appears in a table along with the number of devices uploaded. The table\n",
      "columns are defined as follows: Reseller (ID) - The name and ID of the device reseller that uploaded\n",
      "EE devices for you. Devices Last Uploaded - The date the reseller last uploaded devices for you. #\n",
      "of Devices Uploaded to Date - The number of devices the reseller has ever uploaded for you. # of\n",
      "Devices License Generated - The number of devices that have a Knox Suite license. # of Devices\n",
      "Remaining - The number of devices that have no Knox Suite license. License Last Generated - The date\n",
      "you last generated a Knox Suite license for devices you purchased from this reseller. If you don't\n",
      "see any device uploads, contact your device reseller. 4. Select the reseller that uploaded the new\n",
      "devices. 5. Click Generate License. 6. In the Generate license popup, do the following: 1. Select\n",
      "Generate a new license key. 2. Select the start date of the license. This can be any date up to 90\n",
      "days from the time you generate the license. 3. Click Generate. A Knox Suite license is generated.\n",
      "It covers all devices in the device upload you selected. To view the license, click View License. 7.\n",
      "Register the newly generated license to your Knox Admin Portal.\n",
      "metadata:\n",
      " {'source': '/root/aws-ai-ml-workshop-kr/genai/aws-gen-ai-\n",
      "kr/20_applications/02_qa_chatbot/01_preprocess_docs/data/poc/customer_EFOTA.json', 'seq_num': 126,\n",
      "'title': 'Get a Knox Suite license for Enterprise Edition devices', 'url':\n",
      "'https://docs.samsungknox.com/admin/knox-suite/enterprise-edition-devices/get-a-knox-suite-license-\n",
      "for-enterprise-edition-devices', 'project': 'KS', 'last_updated': '2023-07-26'}\n",
      "-----------------------------------------------\n",
      "4. Chunk: 434 Characters\n",
      "-----------------------------------------------\n",
      "Is there a Knox Suite trial available?. Yes, a free, fully-featured, 3-month trial of Knox Suite is\n",
      "available. The trial license will support up to 30 devices on a per-seat basis. To start the trial,\n",
      "enter your email address under Get Started on the Knox solutions page and click GET A FREE TRIAL.\n",
      "Complete the signup process, and after you sign in to the Knox dashboard, click each Knox Suite\n",
      "product card that you would like to try.\n",
      "metadata:\n",
      " {'source': '/root/aws-ai-ml-workshop-kr/genai/aws-gen-ai-\n",
      "kr/20_applications/02_qa_chatbot/01_preprocess_docs/data/poc/customer_EFOTA.json', 'seq_num': 135,\n",
      "'title': ' Is there a Knox Suite trial available?', 'url': 'https://docs.samsungknox.com/admin/knox-\n",
      "suite/faq/#is-there-knox-suite-trial-available', 'project': 'KS', 'last_updated': '2023-07-26'}\n"
     ]
    }
   ],
   "source": [
    "print(\"##################################\")\n",
    "print(\"query: \", query)\n",
    "print(\"##################################\")\n",
    "\n",
    "print (colored(\"\\n\\n### Answer ###\", \"blue\"))\n",
    "print_ww(response['result'])\n",
    "\n",
    "print (colored(\"\\n\\n### Contexts ###\", \"green\"))\n",
    "show_context_used(response['source_documents'])"
   ]
  },
  {
   "cell_type": "code",
   "execution_count": null,
   "id": "122b0648-14a2-4ceb-877a-ee6e206ba35c",
   "metadata": {},
   "outputs": [],
   "source": []
  }
 ],
 "metadata": {
  "kernelspec": {
   "display_name": "conda_python3",
   "language": "python",
   "name": "conda_python3"
  },
  "language_info": {
   "codemirror_mode": {
    "name": "ipython",
    "version": 3
   },
   "file_extension": ".py",
   "mimetype": "text/x-python",
   "name": "python",
   "nbconvert_exporter": "python",
   "pygments_lexer": "ipython3",
   "version": "3.10.12"
  }
 },
 "nbformat": 4,
 "nbformat_minor": 5
}
