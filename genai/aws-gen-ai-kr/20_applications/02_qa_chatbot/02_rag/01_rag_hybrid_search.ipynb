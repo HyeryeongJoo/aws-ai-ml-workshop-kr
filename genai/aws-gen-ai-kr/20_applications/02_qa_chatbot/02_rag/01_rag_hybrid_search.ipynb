{
 "cells": [
  {
   "cell_type": "markdown",
   "id": "5deb2df2-413d-49bd-a829-3a1fc344937e",
   "metadata": {},
   "source": [
    "# RAG Based on Hybrid Search (Lexical + Semantic)\n"
   ]
  },
  {
   "cell_type": "markdown",
   "id": "b1f81abc-3277-4a6b-9ef1-d4f997d67fbe",
   "metadata": {},
   "source": [
    "## Setting\n",
    " - Auto Reload\n",
    " - path for utils"
   ]
  },
  {
   "cell_type": "code",
   "execution_count": 1,
   "id": "ddde4105-b759-4d6c-8214-8e1ab485ae48",
   "metadata": {
    "tags": []
   },
   "outputs": [],
   "source": [
    "%load_ext autoreload\n",
    "%autoreload 2"
   ]
  },
  {
   "cell_type": "code",
   "execution_count": 2,
   "id": "57c2cdb1-d785-4317-afce-938f13141085",
   "metadata": {
    "tags": []
   },
   "outputs": [],
   "source": [
    "import sys, os\n",
    "module_path = \"../../..\"\n",
    "sys.path.append(os.path.abspath(module_path))"
   ]
  },
  {
   "cell_type": "markdown",
   "id": "9c4ade56-8dbc-4ded-b355-7e4bcc971e90",
   "metadata": {},
   "source": [
    "## 1. Bedrock Client 생성"
   ]
  },
  {
   "cell_type": "code",
   "execution_count": 3,
   "id": "cc2d877f-e877-48f6-8dd4-239de20e45cd",
   "metadata": {
    "tags": []
   },
   "outputs": [],
   "source": [
    "import json\n",
    "import boto3\n",
    "from pprint import pprint\n",
    "from termcolor import colored\n",
    "from utils import bedrock, print_ww\n",
    "from utils.bedrock import bedrock_info"
   ]
  },
  {
   "cell_type": "markdown",
   "id": "088e6490-c79a-49e4-841c-9fdb91292608",
   "metadata": {},
   "source": [
    "### ---- ⚠️ Un-comment and edit the below lines as needed for your AWS setup ⚠️ ----\n",
    "- os.environ[\"AWS_DEFAULT_REGION\"] = \"<REGION_NAME>\"  # E.g. \"us-east-1\"\n",
    "- os.environ[\"AWS_PROFILE\"] = \"<YOUR_PROFILE>\"\n",
    "- os.environ[\"BEDROCK_ASSUME_ROLE\"] = \"<YOUR_ROLE_ARN>\"  # E.g. \"arn:aws:...\"\n",
    "- os.environ[\"BEDROCK_ENDPOINT_URL\"] = \"<YOUR_ENDPOINT_URL>\"  # E.g. \"https://...\""
   ]
  },
  {
   "cell_type": "code",
   "execution_count": 4,
   "id": "cab9312c-5f61-4730-96c3-5eef54a5f08c",
   "metadata": {
    "tags": []
   },
   "outputs": [
    {
     "name": "stdout",
     "output_type": "stream",
     "text": [
      "Create new client\n",
      "  Using region: None\n",
      "  Using profile: None\n",
      "boto3 Bedrock client successfully created!\n",
      "bedrock-runtime(https://bedrock-runtime.us-east-1.amazonaws.com)\n",
      "\u001b[32m\n",
      "== FM lists ==\u001b[0m\n",
      "{'Claude-Instant-V1': 'anthropic.claude-instant-v1',\n",
      " 'Claude-V1': 'anthropic.claude-v1',\n",
      " 'Claude-V2': 'anthropic.claude-v2',\n",
      " 'Cohere-Embeddings-En': 'cohere.embed-english-v3',\n",
      " 'Cohere-Embeddings-Multilingual': 'cohere.embed-multilingual-v3',\n",
      " 'Command': 'cohere.command-text-v14',\n",
      " 'Command-Light': 'cohere.command-light-text-v14',\n",
      " 'Jurassic-2-Mid': 'ai21.j2-mid-v1',\n",
      " 'Jurassic-2-Ultra': 'ai21.j2-ultra-v1',\n",
      " 'Llama2-13b-Chat': 'meta.llama2-13b-chat-v1',\n",
      " 'Titan-Embeddings-G1': 'amazon.titan-embed-text-v1',\n",
      " 'Titan-Text-G1': 'amazon.titan-text-express-v1',\n",
      " 'Titan-Text-G1-Light': 'amazon.titan-text-lite-v1'}\n"
     ]
    }
   ],
   "source": [
    "boto3_bedrock = bedrock.get_bedrock_client(\n",
    "    assumed_role=os.environ.get(\"BEDROCK_ASSUME_ROLE\", None),\n",
    "    endpoint_url=os.environ.get(\"BEDROCK_ENDPOINT_URL\", None),\n",
    "    region=os.environ.get(\"AWS_DEFAULT_REGION\", None),\n",
    ")\n",
    "\n",
    "print (colored(\"\\n== FM lists ==\", \"green\"))\n",
    "pprint (bedrock_info.get_list_fm_models(verbose=False))"
   ]
  },
  {
   "cell_type": "markdown",
   "id": "241a9e34-417a-422f-9f75-cb211b2e70e1",
   "metadata": {
    "tags": []
   },
   "source": [
    "## 2. Titan Embedding 및 LLM 인 Claude-v2 모델 로딩"
   ]
  },
  {
   "cell_type": "markdown",
   "id": "29bf63d2-4110-407c-af06-a45d2fbed4b5",
   "metadata": {},
   "source": [
    "### LLM 로딩 (Claude-v2)"
   ]
  },
  {
   "cell_type": "code",
   "execution_count": 5,
   "id": "9c51443a-04f9-465c-9564-53053eb3e1c2",
   "metadata": {
    "tags": []
   },
   "outputs": [],
   "source": [
    "from langchain.llms.bedrock import Bedrock\n",
    "from langchain.callbacks.streaming_stdout import StreamingStdOutCallbackHandler"
   ]
  },
  {
   "cell_type": "code",
   "execution_count": 6,
   "id": "d09e84e0-b9e1-4b12-8e7a-68f03c5416e5",
   "metadata": {
    "tags": []
   },
   "outputs": [
    {
     "data": {
      "text/plain": [
       "Bedrock(client=<botocore.client.BedrockRuntime object at 0x7efcd7e99c90>, model_id='anthropic.claude-v2', model_kwargs={'max_tokens_to_sample': 1024}, streaming=True, callbacks=[<langchain_core.callbacks.streaming_stdout.StreamingStdOutCallbackHandler object at 0x7efcd7e98d90>])"
      ]
     },
     "execution_count": 6,
     "metadata": {},
     "output_type": "execute_result"
    }
   ],
   "source": [
    "llm_text = Bedrock(\n",
    "    model_id=bedrock_info.get_model_id(model_name=\"Claude-V2\"),\n",
    "    client=boto3_bedrock,\n",
    "    model_kwargs={\n",
    "        \"max_tokens_to_sample\": 1024\n",
    "    },\n",
    "    streaming=True,\n",
    "    callbacks=[StreamingStdOutCallbackHandler()]\n",
    ")\n",
    "\n",
    "llm_text"
   ]
  },
  {
   "cell_type": "markdown",
   "id": "3ba2e829-af8f-4e90-b994-59106cdec8d8",
   "metadata": {},
   "source": [
    "### Embedding 모델 선택"
   ]
  },
  {
   "cell_type": "code",
   "execution_count": 7,
   "id": "0b7b8752-d1e3-4f41-ba35-6da42c3785db",
   "metadata": {
    "tags": []
   },
   "outputs": [],
   "source": [
    "from utils.rag import KoSimCSERobertaContentHandler, SagemakerEndpointEmbeddingsJumpStart"
   ]
  },
  {
   "cell_type": "code",
   "execution_count": 8,
   "id": "793b03f7-3186-4969-b76a-98fe56bd5fdc",
   "metadata": {
    "tags": []
   },
   "outputs": [],
   "source": [
    "def get_embedding_model(is_bedrock_embeddings, is_KoSimCSERobert, aws_region, endpont_name=None):\n",
    "\n",
    "    if is_bedrock_embeddings:\n",
    "        # We will be using the Titan Embeddings Model to generate our Embeddings.\n",
    "        from langchain.embeddings import BedrockEmbeddings\n",
    "        llm_emb = BedrockEmbeddings(\n",
    "            client=boto3_bedrock,\n",
    "            model_id=bedrock_info.get_model_id(\n",
    "                model_name=\"Titan-Embeddings-G1\"\n",
    "            )\n",
    "        )\n",
    "        print(\"Bedrock Embeddings Model Loaded\")\n",
    "\n",
    "    elif is_KoSimCSERobert:\n",
    "        LLMEmbHandler = KoSimCSERobertaContentHandler()\n",
    "        endpoint_name_emb = endpont_name\n",
    "        llm_emb = SagemakerEndpointEmbeddingsJumpStart(\n",
    "            endpoint_name=endpoint_name_emb,\n",
    "            region_name=aws_region,\n",
    "            content_handler=LLMEmbHandler,\n",
    "        )\n",
    "        print(\"KoSimCSERobert Embeddings Model Loaded\")\n",
    "    else:\n",
    "        llm_emb = None\n",
    "        print(\"No Embedding Model Selected\")\n",
    "\n",
    "    return llm_emb"
   ]
  },
  {
   "cell_type": "markdown",
   "id": "cd72a6b8-eaf0-4036-a530-3bde5ba988cd",
   "metadata": {},
   "source": [
    "#### [중요] is_KoSimCSERobert == True 일시에 endpoint_name 을 꼭 넣어 주세요."
   ]
  },
  {
   "cell_type": "code",
   "execution_count": 9,
   "id": "f42e032b-8715-432c-ae71-12a889f8ffc0",
   "metadata": {
    "tags": []
   },
   "outputs": [
    {
     "name": "stdout",
     "output_type": "stream",
     "text": [
      "Bedrock Embeddings Model Loaded\n"
     ]
    }
   ],
   "source": [
    "is_bedrock_embeddings = True\n",
    "is_KoSimCSERobert = False\n",
    "aws_region = os.environ.get(\"AWS_DEFAULT_REGION\", None)\n",
    "\n",
    "##############################\n",
    "# Parameters for is_KoSimCSERobert\n",
    "##############################\n",
    "if is_KoSimCSERobert: endpont_name = \"<endpoint-name>\"\n",
    "else: endpont_name = None\n",
    "##############################\n",
    "\n",
    "llm_emb = get_embedding_model(is_bedrock_embeddings, is_KoSimCSERobert, aws_region, endpont_name)   "
   ]
  },
  {
   "cell_type": "markdown",
   "id": "7e432237-b9b5-4be3-aa0c-c30eeca6f480",
   "metadata": {},
   "source": [
    "## 3. LangChainOpenSearch VectorStore 정의\n",
    "### 선수 조건\n",
    "- 01_preprocess_docs/02_load_docs_opensearch.ipynb를 통해서 OpenSearch Index 가 생성이 되어 있어야 합니다.\n",
    "#### [중요] 아래에 aws parameter store 에 아래 인증정보가 먼저 입력되어 있어야 합니다.\n",
    "- 01_preprocess_docs/01_parameter_store_example.ipynb 참고"
   ]
  },
  {
   "cell_type": "code",
   "execution_count": 10,
   "id": "635ffe33-b1b1-49f7-ae14-07b782d30a63",
   "metadata": {
    "tags": []
   },
   "outputs": [],
   "source": [
    "from utils.proc_docs import get_parameter"
   ]
  },
  {
   "cell_type": "code",
   "execution_count": 11,
   "id": "42d192b6-68ce-465e-9fa7-04b5201f4453",
   "metadata": {
    "tags": []
   },
   "outputs": [],
   "source": [
    "ssm = boto3.client(\"ssm\", \"us-east-1\")\n",
    "\n",
    "opensearch_domain_endpoint = get_parameter(\n",
    "    boto3_clinet = ssm,\n",
    "    parameter_name = 'knox_opensearch_domain_endpoint',\n",
    ")\n",
    "\n",
    "opensearch_user_id = get_parameter(\n",
    "    boto3_clinet = ssm,\n",
    "    parameter_name = 'knox_opensearch_userid',\n",
    ")\n",
    "\n",
    "opensearch_user_password = get_parameter(\n",
    "    boto3_clinet = ssm,\n",
    "    parameter_name = 'knox_opensearch_password',\n",
    ")"
   ]
  },
  {
   "cell_type": "code",
   "execution_count": 12,
   "id": "fc7866fd-fd9c-4b41-b600-a91e43edfe4d",
   "metadata": {
    "tags": []
   },
   "outputs": [],
   "source": [
    "opensearch_domain_endpoint = opensearch_domain_endpoint\n",
    "rag_user_name = opensearch_user_id\n",
    "rag_user_password = opensearch_user_password\n",
    "\n",
    "http_auth = (rag_user_name, rag_user_password) # Master username, Master password"
   ]
  },
  {
   "cell_type": "markdown",
   "id": "161a900e-effc-4d7f-a179-b6c00eac03ad",
   "metadata": {
    "tags": []
   },
   "source": [
    "### Index 이름 셋팅\n",
    "- 이전 노트북 01_preprocess_docs/02_load_docs_opensearch.ipynb를 통해서 생성된 OpenSearch Index name 입력"
   ]
  },
  {
   "cell_type": "code",
   "execution_count": 15,
   "id": "d5d9b5eb-052e-4e84-846b-c5385e853ba4",
   "metadata": {
    "tags": []
   },
   "outputs": [],
   "source": [
    "index_name = \"v13-genai-poc-knox-titan-eval-sample-0.05-1024c-256o\""
   ]
  },
  {
   "cell_type": "markdown",
   "id": "482f5785-b88d-44fa-a603-080e4bd734a6",
   "metadata": {},
   "source": [
    "### OpenSearch Client 생성"
   ]
  },
  {
   "cell_type": "code",
   "execution_count": 16,
   "id": "968b7502-5799-4702-bc17-959e88c330a2",
   "metadata": {
    "tags": []
   },
   "outputs": [],
   "source": [
    "from utils.opensearch import opensearch_utils"
   ]
  },
  {
   "cell_type": "code",
   "execution_count": 17,
   "id": "6ceb46a1-e425-4f7e-9319-793b55abb938",
   "metadata": {
    "tags": []
   },
   "outputs": [],
   "source": [
    "os_client = opensearch_utils.create_aws_opensearch_client(\n",
    "    aws_region,\n",
    "    opensearch_domain_endpoint,\n",
    "    http_auth\n",
    ")"
   ]
  },
  {
   "cell_type": "markdown",
   "id": "98bde525-506d-4667-9fc3-bc06dcaba93a",
   "metadata": {
    "tags": []
   },
   "source": [
    "### LangChain OpenSearch VectorStore 생성"
   ]
  },
  {
   "cell_type": "code",
   "execution_count": 18,
   "id": "7e13238f-4ff7-4f7f-b83e-04b4563bd90a",
   "metadata": {
    "tags": []
   },
   "outputs": [],
   "source": [
    "from langchain.vectorstores import OpenSearchVectorSearch"
   ]
  },
  {
   "cell_type": "code",
   "execution_count": 19,
   "id": "dd444329-cdbe-4843-9092-791840138a3a",
   "metadata": {
    "tags": []
   },
   "outputs": [
    {
     "data": {
      "text/plain": [
       "<langchain.vectorstores.opensearch_vector_search.OpenSearchVectorSearch at 0x7efc8416be50>"
      ]
     },
     "execution_count": 19,
     "metadata": {},
     "output_type": "execute_result"
    }
   ],
   "source": [
    "vector_db = OpenSearchVectorSearch(\n",
    "    index_name=index_name,\n",
    "    opensearch_url=opensearch_domain_endpoint,\n",
    "    embedding_function=llm_emb,\n",
    "    http_auth=http_auth, # http_auth\n",
    "    is_aoss =False,\n",
    "    engine=\"faiss\",\n",
    "    space_type=\"l2\"\n",
    ")\n",
    "vector_db"
   ]
  },
  {
   "cell_type": "markdown",
   "id": "a5084376-7523-4cf9-9123-adc4ae79f66d",
   "metadata": {
    "tags": []
   },
   "source": [
    "## 4. Retriever based on Hybrid Search 정의\n",
    "- LangChain에서 제공하는 **BaseRetriever** 클래스를 상속받아 **Custom Retriever**를 정의 할 수 있습니다.\n",
    "- 본 샘플코드 에서는 **Hybrid Search based Retriever**를 **정의**합니다. "
   ]
  },
  {
   "cell_type": "markdown",
   "id": "b0a25df0-2a13-4d73-9edc-532caf98f804",
   "metadata": {},
   "source": [
    "OpenSearch Hybrid 는 아래와 같은 방식으로 작동합니다.\n",
    "- (1) Sematic serch를 통해 각 document별 relevant score 산출\n",
    "- (2) Lexical search를 통해 각 document별 relevant score 산출\n",
    "- (3-1) Rank-fusion 방식이 \"simple weighted\" 일 경우\n",
    "    - 산출된 score에 대한 normalization 수행\n",
    "    - 전체 결과에서 가장 높은 스코어는 표준화 과정을 통하여 스코어가 1.0 이 됨.\n",
    "- (3-2) Rank-fusion 방식이 \"Reciprocal Rank Fusion (RRF)\" 일 경우\n",
    "    - Paper: https://plg.uwaterloo.ca/~gvcormac/cormacksigir09-rrf.pdf\n",
    "    - Desc: https://medium.com/@sowmiyajaganathan/hybrid-search-with-re-ranking-ff120c8a426d\n",
    "    - **RRF의 경우 score가 아닌 ranking 정보를 활용, 때문에 score normalization이 필요 없음**\n",
    "    - ![rrf.png](../../../10_advanced_question_answering/img/rrf.png)\n",
    "\n",
    "RRF는 langchain에서 \"Ensemble Retriever\" 이름으로 api를 제공합니다. \n",
    "- https://python.langchain.com/docs/modules/data_connection/retrievers/ensemble"
   ]
  },
  {
   "cell_type": "code",
   "execution_count": 20,
   "id": "5db8e470-63a9-4c3d-94c8-1d270a6da822",
   "metadata": {
    "tags": []
   },
   "outputs": [],
   "source": [
    "from utils.rag import OpenSearchHybridSearchRetriever"
   ]
  },
  {
   "cell_type": "markdown",
   "id": "d7feac2f-21a2-4756-b989-66c180bb1e79",
   "metadata": {},
   "source": [
    "- 필터 설정 예시\n",
    "- filter=[ <BR>\n",
    "    　{\"term\": {\"metadata.[**your_metadata_attribute_name**]\": \"**your first keyword**\"}}, <BR>\n",
    "    　{\"term\": {\"metadata.[**your_metadata_attribute_name**]\": \"**your second keyword**\"}},<BR>\n",
    "]"
   ]
  },
  {
   "cell_type": "code",
   "execution_count": 32,
   "id": "49c7e131-294f-4ff8-9331-989709c7079c",
   "metadata": {
    "tags": []
   },
   "outputs": [],
   "source": [
    "opensearch_hybrid_retriever = OpenSearchHybridSearchRetriever(\n",
    "    # necessary\n",
    "    os_client=os_client,\n",
    "    vector_db=vector_db,\n",
    "    index_name=index_name,\n",
    "    llm_emb=llm_emb,\n",
    "    llm_text=llm_text,\n",
    "\n",
    "    # option for lexical\n",
    "    minimum_should_match=0,\n",
    "    filter=[],\n",
    "\n",
    "    # option for rank fusion\n",
    "    fusion_algorithm=\"RRF\", # [\"RRF\", \"simple_weighted\"], rank fusion 방식 정의\n",
    "    ensemble_weights=[.5, .5], # [for lexical, for semantic], Lexical, Semantic search 결과에 대한 최종 반영 비율 정의\n",
    "\n",
    "    # option for async search\n",
    "    async_mode=True,\n",
    "\n",
    "    # option for output\n",
    "    k=5, # 최종 Document 수 정의\n",
    "    verbose=False,\n",
    ")"
   ]
  },
  {
   "cell_type": "markdown",
   "id": "cfb26835-ad98-41c5-9e9d-2453642e3551",
   "metadata": {},
   "source": [
    "### Retrieval example\n",
    "- default search"
   ]
  },
  {
   "cell_type": "code",
   "execution_count": 33,
   "id": "9c06e89f-79de-413c-ba9c-a188ca3fe2d0",
   "metadata": {
    "tags": []
   },
   "outputs": [],
   "source": [
    "from utils.rag import show_context_used"
   ]
  },
  {
   "cell_type": "code",
   "execution_count": 34,
   "id": "fe3bfee3-dac1-45b9-8795-03e36c1632a9",
   "metadata": {
    "tags": []
   },
   "outputs": [],
   "source": [
    "query = \"knox\""
   ]
  },
  {
   "cell_type": "code",
   "execution_count": 35,
   "id": "05b13e5e-4a66-4dc8-b18c-42a6e3bd6037",
   "metadata": {
    "tags": []
   },
   "outputs": [
    {
     "name": "stdout",
     "output_type": "stream",
     "text": [
      "\n",
      "==========  Results  ==========\n",
      "\n",
      "1. question: knox\n",
      "2. # documents: 5\n",
      "3. Documents: \n",
      "\n",
      "-----------------------------------------------\n",
      "1. Chunk: 997 Characters\n",
      "-----------------------------------------------\n",
      "Learn more about Knox Suite. This section describes where you can find instructions on how to\n",
      "perform tasks using the different products included in Knox Suite. General documentation for the\n",
      "Knox Suite services Knox Service , See - , - Knox Manage , Knox Manage Admin Guide Knox Platform for\n",
      "Enterprise , Knox Platform for Enterprise Admin Guide Knox Mobile Enrollment , Knox Mobile\n",
      "Enrollment Admin Guide Knox E-FOTA , Knox E-FOTA Admin Guide Knox Asset Intelligence , Knox Asset\n",
      "Intelligence Admin Guide Knox Capture , Knox Capture Admin Guide Knox Authentication Manager , Knox\n",
      "Authentication Manager Admin Guide Knox Suite operations For information on See Knox service How to\n",
      "set up Knox Manage with Knox Suite Workflow:\"Set up Knox Manage with a Knox Suite license Knox\n",
      "Manage How to check your Knox Suite license usage View and modify a license Note Alternatively, you\n",
      "can sign in to your SamsungKnox.com dashboard and click Licenses to view all licenses you have for\n",
      "all your Knox services\n",
      "metadata:\n",
      " {'source': 'all_processed_data.json', 'seq_num': 64, 'title': 'Learn more about Knox Suite', 'url':\n",
      "'https://docs.samsungknox.com/admin/knox-suite/learn-more-about-knox-suite', 'project': 'KS',\n",
      "'last_updated': '2023-07-26', 'id': '5363e4be-0d0f-4090-acd6-08cdddcabaf5'}\n",
      "-----------------------------------------------\n",
      "2. Chunk: 983 Characters\n",
      "-----------------------------------------------\n",
      ".com dashboard and click Licenses to view all licenses you have for all your Knox services. Knox\n",
      "Manage How to upgrade your license key from Knox Manage to Knox Suite Upgrade a license Knox\"Manage\n",
      "How to configure premium Knox features Prerequisite: Workflow:\"Set up Knox Manage with a Knox Suite\n",
      "license Samsung Knox running Android Enterprise Note Policies with a in the Knox Manage admin portal\n",
      "are Knox premium features. These features require a Knox\"Suite license key. Knox Manage How to\n",
      "approve the Knox Service Plugin (KSP) app Prerequisite:Set up Android Enterprise. Approve Knox\n",
      "Service Plugin (KSP). Knox Manage What's next? When you finish evaluating Knox Suite and decide to\n",
      "use it commercially, contact your Knox reseller to purchase a Knox\"Suite license. If you're in need\n",
      "of devices, consider purchasing Enterprise Edition devices if this program is supported in your\n",
      "country. These devices are packaged with a 1-year renewable Knox\"Suite license, among other benefits\n",
      "metadata:\n",
      " {'source': 'all_processed_data.json', 'seq_num': 64, 'title': 'Learn more about Knox Suite', 'url':\n",
      "'https://docs.samsungknox.com/admin/knox-suite/learn-more-about-knox-suite', 'project': 'KS',\n",
      "'last_updated': '2023-07-26', 'id': '8852cc9d-2f74-437a-bda4-32ffb488188f'}\n",
      "-----------------------------------------------\n",
      "3. Chunk: 1022 Characters\n",
      "-----------------------------------------------\n",
      "Knox Suite. Knox Suite is a bundled offering of Knox solutions for enterprise mobility designed to\n",
      "address organizations' needs related to security and management throughout the entire device\n",
      "lifecycle. Learn more about Knox Suite #Audience This document is intended for IT Admins. Understand\n",
      "what's included in Knox Suite and how you can use it to manage, secure, and maintain enterprise\n",
      "devices. Learn where to find information on how to perform various tasks with Knox\"Suite services.\n",
      "About Knox Suite Knox Suite is a bundled offering that includes the following Knox products: Knox\n",
      "Platform for Enterprise - A Knox solution that provides military-grade security to Samsung Android\n",
      "phones, tablets, and Tizen watches for business. Knox Mobile Enrollment - A Knox solution that\n",
      "allows you to enroll thousands of Samsung devices in your EMM at once. When used with a Knox Suite\n",
      "license, Knox Mobile Enrollment provides advanced profiles that offer IT admins additional features\n",
      "such as higher control over locking devices\n",
      "metadata:\n",
      " {'source': 'all_processed_data.json', 'seq_num': 65, 'title': 'Knox Suite', 'url':\n",
      "'https://docs.samsungknox.com/admin/knox-suite', 'project': 'KS', 'last_updated': '2023-07-26',\n",
      "'id': '200fa83e-cdc3-441b-880a-04d8014ed8bd'}\n",
      "-----------------------------------------------\n",
      "4. Chunk: 1024 Characters\n",
      "-----------------------------------------------\n",
      ". With Knox E-FOTA, you create a campaign, specify the campaign period, assign devices to that\n",
      "campaign, and select the firmware update to be pushed to those devices during the campaign period.\n",
      "Knox Capture - An Android solution that lets users transform their Samsung Galaxy smartphones and\n",
      "tablets into powerful barcode scanners that can read, process, and output barcode information to\n",
      "other applications, all without requiring additional hardware or writing a single line of code. Knox\n",
      "Authentication Manager - A managed Android app for shared Samsung devices that provides multiuser\n",
      "facial biometrics and sign-in automation for increased frontline worker productivity and safety.\n",
      "With Knox Suite, a single license key allows you to use all included Knox products on your devices.\n",
      "This means that you can use the same Knox Suite license key in multiple Knox service admin portals.\n",
      "Benefits of Knox Suite 1. All-in-one Knox B2B package - An end-to-end solution that covers every\n",
      "step of your enterprise mobility journey 2\n",
      "metadata:\n",
      " {'source': 'all_processed_data.json', 'seq_num': 65, 'title': 'Knox Suite', 'url':\n",
      "'https://docs.samsungknox.com/admin/knox-suite', 'project': 'KS', 'last_updated': '2023-07-26',\n",
      "'id': '5b3da7a2-9b9d-4125-a805-eb74d6eb13bd'}\n",
      "-----------------------------------------------\n",
      "5. Chunk: 950 Characters\n",
      "-----------------------------------------------\n",
      ". Prerequisites for organizations with legacy EE licenses Perform these procedures if you have an\n",
      "active legacy EE license (for Knox Configure and Knox E-FOTA\"on MDM) and you want to convert them to\n",
      "a Knox Suite license. When you generate your\"Knox Suite license, your legacy EE licenses for Knox\n",
      "Configure and Knox E-FOTA on MDM will expire in three months. 1. Create a Samsung account if you\n",
      "don't have one. 2. Obtain a Knox customer ID if you don't have one. You can do this by applying for\n",
      "a Knox Suite trial. When your application is approved, you'll find your Knox customer ID under your\n",
      "account icon in the Knox Admin Portal. 3. Provide your customer ID to the reseller that sold you\n",
      "your EE devices. Have them upload the devices to SamsungKnox.com under your customer ID. Your device\n",
      "reseller must be member of Knox Deployment Program (KDP). After your reseller uploads your devices,\n",
      "you can generate a Knox Suite license for your EE devices.\n",
      "metadata:\n",
      " {'source': 'all_processed_data.json', 'seq_num': 66, 'title': 'Before you begin', 'url':\n",
      "'https://docs.samsungknox.com/admin/knox-suite/enterprise-edition-devices/before-you-begin',\n",
      "'project': 'KS', 'last_updated': '2023-08-23', 'id': 'cecc9c9f-63f7-440d-a9c3-a7d2eeab13de'}\n",
      "CPU times: user 6.38 ms, sys: 7.32 ms, total: 13.7 ms\n",
      "Wall time: 150 ms\n"
     ]
    }
   ],
   "source": [
    "%%time\n",
    "search_hybrid_result = opensearch_hybrid_retriever.get_relevant_documents(query)\n",
    "\n",
    "print(\"\\n==========  Results  ==========\\n\")\n",
    "print(f'1. question: {query}')\n",
    "print (f'2. # documents: {len(search_hybrid_result)}')\n",
    "print(\"3. Documents: \\n\")\n",
    "\n",
    "show_context_used(search_hybrid_result)"
   ]
  },
  {
   "cell_type": "markdown",
   "id": "c09221b5-4a6c-463b-9769-35cc8362e33c",
   "metadata": {},
   "source": [
    "- update parameters"
   ]
  },
  {
   "cell_type": "code",
   "execution_count": 38,
   "id": "b7bb4672-d2b8-4b29-b71c-b06d84bcd470",
   "metadata": {
    "tags": []
   },
   "outputs": [],
   "source": [
    "opensearch_hybrid_retriever.update_search_params(\n",
    "    k=10,\n",
    "    minimum_should_match=0,\n",
    "    filter=[\n",
    "        {\"term\": {\"metadata.seq_num\": \"64\"}},\n",
    "    ],\n",
    "    async_mode=True\n",
    ")"
   ]
  },
  {
   "cell_type": "code",
   "execution_count": 39,
   "id": "1b9b45b1-cb92-4954-8087-143a550350c8",
   "metadata": {
    "tags": []
   },
   "outputs": [
    {
     "name": "stdout",
     "output_type": "stream",
     "text": [
      "\n",
      "==========  Results  ==========\n",
      "\n",
      "1. question: knox\n",
      "2. # documents: 3\n",
      "3. Documents: \n",
      "\n",
      "-----------------------------------------------\n",
      "1. Chunk: 997 Characters\n",
      "-----------------------------------------------\n",
      "Learn more about Knox Suite. This section describes where you can find instructions on how to\n",
      "perform tasks using the different products included in Knox Suite. General documentation for the\n",
      "Knox Suite services Knox Service , See - , - Knox Manage , Knox Manage Admin Guide Knox Platform for\n",
      "Enterprise , Knox Platform for Enterprise Admin Guide Knox Mobile Enrollment , Knox Mobile\n",
      "Enrollment Admin Guide Knox E-FOTA , Knox E-FOTA Admin Guide Knox Asset Intelligence , Knox Asset\n",
      "Intelligence Admin Guide Knox Capture , Knox Capture Admin Guide Knox Authentication Manager , Knox\n",
      "Authentication Manager Admin Guide Knox Suite operations For information on See Knox service How to\n",
      "set up Knox Manage with Knox Suite Workflow:\"Set up Knox Manage with a Knox Suite license Knox\n",
      "Manage How to check your Knox Suite license usage View and modify a license Note Alternatively, you\n",
      "can sign in to your SamsungKnox.com dashboard and click Licenses to view all licenses you have for\n",
      "all your Knox services\n",
      "metadata:\n",
      " {'source': 'all_processed_data.json', 'seq_num': 64, 'title': 'Learn more about Knox Suite', 'url':\n",
      "'https://docs.samsungknox.com/admin/knox-suite/learn-more-about-knox-suite', 'project': 'KS',\n",
      "'last_updated': '2023-07-26', 'id': '5363e4be-0d0f-4090-acd6-08cdddcabaf5'}\n",
      "-----------------------------------------------\n",
      "2. Chunk: 983 Characters\n",
      "-----------------------------------------------\n",
      ".com dashboard and click Licenses to view all licenses you have for all your Knox services. Knox\n",
      "Manage How to upgrade your license key from Knox Manage to Knox Suite Upgrade a license Knox\"Manage\n",
      "How to configure premium Knox features Prerequisite: Workflow:\"Set up Knox Manage with a Knox Suite\n",
      "license Samsung Knox running Android Enterprise Note Policies with a in the Knox Manage admin portal\n",
      "are Knox premium features. These features require a Knox\"Suite license key. Knox Manage How to\n",
      "approve the Knox Service Plugin (KSP) app Prerequisite:Set up Android Enterprise. Approve Knox\n",
      "Service Plugin (KSP). Knox Manage What's next? When you finish evaluating Knox Suite and decide to\n",
      "use it commercially, contact your Knox reseller to purchase a Knox\"Suite license. If you're in need\n",
      "of devices, consider purchasing Enterprise Edition devices if this program is supported in your\n",
      "country. These devices are packaged with a 1-year renewable Knox\"Suite license, among other benefits\n",
      "metadata:\n",
      " {'source': 'all_processed_data.json', 'seq_num': 64, 'title': 'Learn more about Knox Suite', 'url':\n",
      "'https://docs.samsungknox.com/admin/knox-suite/learn-more-about-knox-suite', 'project': 'KS',\n",
      "'last_updated': '2023-07-26', 'id': '8852cc9d-2f74-437a-bda4-32ffb488188f'}\n",
      "-----------------------------------------------\n",
      "3. Chunk: 367 Characters\n",
      "-----------------------------------------------\n",
      ". If you're in need of devices, consider purchasing Enterprise Edition devices if this program is\n",
      "supported in your country. These devices are packaged with a 1-year renewable Knox\"Suite license,\n",
      "among other benefits. Once you've purchased your Enterprise\"Edition devices, see the Enterprise\n",
      "Edition section for information on how to generate your Knox Suite license.\n",
      "metadata:\n",
      " {'source': 'all_processed_data.json', 'seq_num': 64, 'title': 'Learn more about Knox Suite', 'url':\n",
      "'https://docs.samsungknox.com/admin/knox-suite/learn-more-about-knox-suite', 'project': 'KS',\n",
      "'last_updated': '2023-07-26', 'id': 'fe5b4751-47aa-496a-aeff-14bd0dcaa6f3'}\n"
     ]
    }
   ],
   "source": [
    "query = \"knox\"\n",
    "search_hybrid_result = opensearch_hybrid_retriever.get_relevant_documents(query)\n",
    "\n",
    "print(\"\\n==========  Results  ==========\\n\")\n",
    "print(f'1. question: {query}')\n",
    "print(f'2. # documents: {len(search_hybrid_result)}')\n",
    "print(\"3. Documents: \\n\")\n",
    "\n",
    "show_context_used(search_hybrid_result)"
   ]
  },
  {
   "cell_type": "markdown",
   "id": "a981abe7-5208-48f5-a9cc-8c557e9941ca",
   "metadata": {},
   "source": [
    "## 5. RAG using RetrievalQA powered by LangChain"
   ]
  },
  {
   "cell_type": "code",
   "execution_count": 40,
   "id": "08cf6d2b-451b-499c-aec2-bb6f5abafbb0",
   "metadata": {
    "tags": []
   },
   "outputs": [],
   "source": [
    "from utils.rag import run_RetrievalQA\n",
    "from langchain.prompts import PromptTemplate"
   ]
  },
  {
   "cell_type": "markdown",
   "id": "b490df1f-8113-4dd1-a578-a3e1a6918fde",
   "metadata": {
    "tags": []
   },
   "source": [
    "### Prompting\n",
    "- [TIP] Prompt의 instruction의 경우 한글보다 영어로 했을 때 더 좋은 결과를 얻을 수 있습니다."
   ]
  },
  {
   "cell_type": "code",
   "execution_count": 41,
   "id": "572bc0ee-afb8-4dc8-b5ae-629920b8504b",
   "metadata": {
    "tags": []
   },
   "outputs": [],
   "source": [
    "prompt_template = \"\"\"\n",
    "\\n\\nHuman: Here is the context, inside <context></context> XML tags.\n",
    "\n",
    "<context>\n",
    "{context}\n",
    "</context>\n",
    "\n",
    "Only using the context as above, answer the following question with the rules as below:\n",
    "    - Don't insert XML tag such as <context> and </context> when answering.\n",
    "    - Write as much as you can\n",
    "    - Be courteous and polite\n",
    "    - Only answer the question if you can find the answer in the context with certainty.\n",
    "\n",
    "Question:\n",
    "{question}\n",
    "\n",
    "If the answer is not in the context, just say \"Could not find answer in given contexts.\"\n",
    "\n",
    "\\n\\nAssistant:\"\"\"\n",
    "\n",
    "PROMPT = PromptTemplate(\n",
    "    template=prompt_template, input_variables=[\"context\", \"question\"]\n",
    ")\n",
    "\n"
   ]
  },
  {
   "cell_type": "markdown",
   "id": "c66157a6-aec8-4555-a90f-1178e6f4f6e0",
   "metadata": {},
   "source": [
    "### Update Search Params (Optional)"
   ]
  },
  {
   "cell_type": "code",
   "execution_count": 42,
   "id": "64df2daf-8b42-472a-885f-97320ee98132",
   "metadata": {
    "tags": []
   },
   "outputs": [],
   "source": [
    "from langchain.chains import RetrievalQA"
   ]
  },
  {
   "cell_type": "code",
   "execution_count": 53,
   "id": "d2697230-6962-43d8-8917-ba9daa4295bb",
   "metadata": {
    "tags": []
   },
   "outputs": [],
   "source": [
    "opensearch_hybrid_retriever.update_search_params(\n",
    "    k=5,\n",
    "    minimum_should_match=3,\n",
    "    #filter=[\n",
    "    #    {\"term\": {\"metadata.project\": \"KS\"}},\n",
    "    #],\n",
    "    filter=[],\n",
    "    async_mode=True\n",
    ")"
   ]
  },
  {
   "cell_type": "markdown",
   "id": "aee26c22-b674-4f4f-a87b-29508e336fda",
   "metadata": {},
   "source": [
    "### Request"
   ]
  },
  {
   "cell_type": "code",
   "execution_count": 54,
   "id": "95fa61d3-9256-432a-96a3-2c696c97ea68",
   "metadata": {
    "tags": []
   },
   "outputs": [],
   "source": [
    "qa = RetrievalQA.from_chain_type(\n",
    "    llm=llm_text,\n",
    "    chain_type=\"stuff\",\n",
    "    retriever=opensearch_hybrid_retriever,\n",
    "    return_source_documents=True,\n",
    "    chain_type_kwargs={\n",
    "        \"prompt\": PROMPT,\n",
    "        \"verbose\": False,\n",
    "    },\n",
    "    verbose=False\n",
    ")"
   ]
  },
  {
   "cell_type": "code",
   "execution_count": 55,
   "id": "390ad324-40b3-4bcb-92b9-50eb080492a5",
   "metadata": {
    "tags": []
   },
   "outputs": [
    {
     "name": "stdout",
     "output_type": "stream",
     "text": [
      " Knox Capture v1.9 introduces the new AR demo mode feature."
     ]
    }
   ],
   "source": [
    "query = \"What version of Knox Capture introduced the new AR demo mode feature?\"\n",
    "response = qa(query)"
   ]
  },
  {
   "cell_type": "code",
   "execution_count": 56,
   "id": "01e77dad-dc19-416b-80e7-19fac3b736a5",
   "metadata": {
    "tags": []
   },
   "outputs": [
    {
     "name": "stdout",
     "output_type": "stream",
     "text": [
      "##################################\n",
      "query:  What version of Knox Capture introduced the new AR demo mode feature?\n",
      "##################################\n",
      "\u001b[34m\n",
      "\n",
      "### Answer ###\u001b[0m\n",
      " Knox Capture v1.9 introduces the new AR demo mode feature.\n",
      "\u001b[32m\n",
      "\n",
      "### Contexts ###\u001b[0m\n",
      "-----------------------------------------------\n",
      "1. Chunk: 995 Characters\n",
      "-----------------------------------------------\n",
      "Knox Capture v1.9 release notes. New features Knox Capture v1.9 introduces the following new\n",
      "features: #Support for AR demo mode You can now test the Knox Capture AR feature without having to\n",
      "set up a real server or go through any profile creation or setup process. To learn more about this\n",
      "new feature, please see the Demo AR guide. #On-screen suggestions for increasing scanning success\n",
      "rate To help increase the success rate of barcode scans, Knox Capture now provides suggestions on-\n",
      "screen to tell end-users when their device is either too far from a barcode, or at an angle in which\n",
      "the barcode cannot be easily read. #Ability to turn on flashlight by default You can now choose from\n",
      "three different flashlight options (Off/On/Automatic) in the scan engine settings, making it easier\n",
      "for device users to work in all lighting conditions. To learn about these flashlight options, see\n",
      "Configure scan engine settings. Knox Capture: Scandit Edition only supports On and Off as flashlight\n",
      "options\n",
      "metadata:\n",
      " {'source': 'all_processed_data.json', 'seq_num': 36, 'title': 'Knox Capture v1.9 release notes',\n",
      "'url': 'https://docs.samsungknox.com/admin/knox-capture/release-notes/v1-9', 'project': 'KCAP',\n",
      "'last_updated': '2023-10-16', 'id': 'f7a41013-5fae-47c1-84e5-1ca2a4bd3056'}\n",
      "-----------------------------------------------\n",
      "2. Chunk: 572 Characters\n",
      "-----------------------------------------------\n",
      ". #Latest release notes , Knox Capture v1.9 - October 16, 2023, Knox Capture v1.8 - June 30, 2023,\n",
      "Knox Capture v1.7 - March 31, 2023, Knox Capture v1.6 - November 24, 2022 View all release notes\n",
      "#Latest content updates , A new Demo AR page has been added to support the new AR demo mode feature\n",
      "added in Knox Capture v1.9. The Scan engine settings page has been updated to include the new\n",
      "flashlight options added to Knox Capture v1.9. The Manage licenses page has been updated to include\n",
      "descriptions for the new QR license activation feature added in Knox Capture v1.9.\n",
      "metadata:\n",
      " {'source': 'all_processed_data.json', 'seq_num': 5, 'title': 'Knox Capture', 'url':\n",
      "'https://docs.samsungknox.com/admin/knox-capture', 'project': 'KCAP', 'last_updated': '2023-10-16',\n",
      "'id': '3ebb8dd8-788b-4690-8eeb-3cfea58c86df'}\n",
      "-----------------------------------------------\n",
      "3. Chunk: 990 Characters\n",
      "-----------------------------------------------\n",
      "Demo AR. As an IT admin, you can demo the Knox Capture AR features without having to set up a real\n",
      "server or go through any profile configuration or setup process. AR demo mode only supports the\n",
      "View-and-update template. To learn more about templates, see AR overview. Before you begin Before\n",
      "you can demo the AR features, you'll first need to display the Knox Capture demo AR barcodes on a\n",
      "screen. To do this, simply open the demo AR barcodes page on a computer or separate mobile device,\n",
      "then scan these barcodes to test the AR features. View demo AR barcodes. Try AR demo mode Once you\n",
      "have the sample barcodes available, you can demo the AR features. To do this: 1. Go to the Knox\n",
      "Capture app's home screen, then tap the options menu button and select Knox Capture AR. 2. On the\n",
      "Knox Capture Augmented Reality screen, tap Demo AR, then tap Start. 3. On the next screen, tap\n",
      "Continue. You can demo the AR features up to a maximum of five times per device. 4. Open the AR demo\n",
      "barcodes. 5\n",
      "metadata:\n",
      " {'source': 'all_processed_data.json', 'seq_num': 22, 'title': 'Demo AR', 'url':\n",
      "'https://docs.samsungknox.com/admin/knox-capture/how-to-guides/ar/demo-ar', 'project': 'KCAP',\n",
      "'last_updated': '2023-10-16', 'id': '21ab9527-3790-455f-9a5b-4019ba51cea6'}\n",
      "-----------------------------------------------\n",
      "4. Chunk: 1017 Characters\n",
      "-----------------------------------------------\n",
      ". See Manage Knox Capture licenses to learn more about the new Knox Suite licensing requirements.\n",
      "#Knox Capture SDK This release introduces a brand new Knox Capture SDK to allow Android app\n",
      "developers to create their own barcode scanning applications. To learn more about our Knox Capture\n",
      "SDK, please visit our developer documentation site #Knox Capture AR (Augmented Reality) Version 1.7\n",
      "of Knox Capture introduces a new AR (augmented reality) feature that displays an overlay on the\n",
      "device screen whenever one or more barcodes are scanned. IT admins can create AR templates to\n",
      "customize the information that displays on the overlay, as well as the overlay behavior. To get\n",
      "started with this exciting new feature, take a look at our Knox Capture AR guide for more\n",
      "information. #Low light scanning notification When using the camera to scan a barcode in low light\n",
      "conditions, a notification now displays in the capture preview window to suggest that the user\n",
      "enable their camera flashlight for better scanning results\n",
      "metadata:\n",
      " {'source': 'all_processed_data.json', 'seq_num': 34, 'title': 'Knox Capture v1.7 release notes',\n",
      "'url': 'https://docs.samsungknox.com/admin/knox-capture/release-notes/v1-7', 'project': 'KCAP',\n",
      "'last_updated': '2023-07-26', 'id': '34d2b6ba-c644-49d9-b256-0c85957a6ba0'}\n",
      "-----------------------------------------------\n",
      "5. Chunk: 581 Characters\n",
      "-----------------------------------------------\n",
      ". Configure the output path - Some organizations may want to send scanned Knox Capture data to a\n",
      "bluetooth keyboard connected to a PC, emulating the functionality of a traditional hardware scanner.\n",
      "Learn how output paths work, and how to pair and unpair your device to a bluetooth keyboard. Knox\n",
      "Capture AR - A feature introduced in Knox Capture v1.7 that provides important product information\n",
      "inside the camera preview window during a barcode scan. Learn what AR (Augmented Reality) is in Knox\n",
      "Capture, how to create AR templates, and how to use AR when performing barcode scans.\n",
      "metadata:\n",
      " {'source': 'all_processed_data.json', 'seq_num': 3, 'title': 'Overview', 'url':\n",
      "'https://docs.samsungknox.com/admin/knox-capture/overview', 'project': 'KCAP', 'last_updated':\n",
      "'2023-07-26', 'id': '4c38d212-2d6f-43fe-9a2d-bb1871dad289'}\n"
     ]
    }
   ],
   "source": [
    "print(\"##################################\")\n",
    "print(\"query: \", query)\n",
    "print(\"##################################\")\n",
    "\n",
    "print (colored(\"\\n\\n### Answer ###\", \"blue\"))\n",
    "print_ww(response['result'])\n",
    "\n",
    "print (colored(\"\\n\\n### Contexts ###\", \"green\"))\n",
    "show_context_used(response['source_documents'])"
   ]
  },
  {
   "cell_type": "code",
   "execution_count": null,
   "id": "122b0648-14a2-4ceb-877a-ee6e206ba35c",
   "metadata": {},
   "outputs": [],
   "source": []
  }
 ],
 "metadata": {
  "kernelspec": {
   "display_name": "conda_python3",
   "language": "python",
   "name": "conda_python3"
  },
  "language_info": {
   "codemirror_mode": {
    "name": "ipython",
    "version": 3
   },
   "file_extension": ".py",
   "mimetype": "text/x-python",
   "name": "python",
   "nbconvert_exporter": "python",
   "pygments_lexer": "ipython3",
   "version": "3.10.12"
  }
 },
 "nbformat": 4,
 "nbformat_minor": 5
}
