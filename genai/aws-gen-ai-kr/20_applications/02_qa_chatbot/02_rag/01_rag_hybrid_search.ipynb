{
 "cells": [
  {
   "cell_type": "markdown",
   "id": "5deb2df2-413d-49bd-a829-3a1fc344937e",
   "metadata": {},
   "source": [
    "# RAG Based on Hybrid Search (Lexical + Semantic)\n"
   ]
  },
  {
   "cell_type": "markdown",
   "id": "b1f81abc-3277-4a6b-9ef1-d4f997d67fbe",
   "metadata": {},
   "source": [
    "## Setting\n",
    " - Auto Reload\n",
    " - path for utils"
   ]
  },
  {
   "cell_type": "code",
   "execution_count": 1,
   "id": "ddde4105-b759-4d6c-8214-8e1ab485ae48",
   "metadata": {
    "tags": []
   },
   "outputs": [],
   "source": [
    "%load_ext autoreload\n",
    "%autoreload 2"
   ]
  },
  {
   "cell_type": "code",
   "execution_count": 2,
   "id": "57c2cdb1-d785-4317-afce-938f13141085",
   "metadata": {
    "tags": []
   },
   "outputs": [],
   "source": [
    "import sys, os\n",
    "module_path = \"../../..\"\n",
    "sys.path.append(os.path.abspath(module_path))"
   ]
  },
  {
   "cell_type": "markdown",
   "id": "9c4ade56-8dbc-4ded-b355-7e4bcc971e90",
   "metadata": {},
   "source": [
    "## 1. Bedrock Client 생성"
   ]
  },
  {
   "cell_type": "code",
   "execution_count": 3,
   "id": "cc2d877f-e877-48f6-8dd4-239de20e45cd",
   "metadata": {
    "tags": []
   },
   "outputs": [],
   "source": [
    "import json\n",
    "import boto3\n",
    "from pprint import pprint\n",
    "from termcolor import colored\n",
    "from utils import bedrock, print_ww\n",
    "from utils.bedrock import bedrock_info"
   ]
  },
  {
   "cell_type": "markdown",
   "id": "088e6490-c79a-49e4-841c-9fdb91292608",
   "metadata": {
    "tags": []
   },
   "source": [
    "### ---- ⚠️ Un-comment and edit the below lines as needed for your AWS setup ⚠️ ----\n",
    "- os.environ[\"AWS_DEFAULT_REGION\"] = \"<REGION_NAME>\"  # E.g. \"us-east-1\"\n",
    "- os.environ[\"AWS_PROFILE\"] = \"<YOUR_PROFILE>\"\n",
    "- os.environ[\"BEDROCK_ASSUME_ROLE\"] = \"<YOUR_ROLE_ARN>\"  # E.g. \"arn:aws:...\"\n",
    "- os.environ[\"BEDROCK_ENDPOINT_URL\"] = \"<YOUR_ENDPOINT_URL>\"  # E.g. \"https://...\""
   ]
  },
  {
   "cell_type": "code",
   "execution_count": 4,
   "id": "cab9312c-5f61-4730-96c3-5eef54a5f08c",
   "metadata": {
    "tags": []
   },
   "outputs": [
    {
     "name": "stdout",
     "output_type": "stream",
     "text": [
      "Create new client\n",
      "  Using region: None\n",
      "  Using profile: None\n",
      "boto3 Bedrock client successfully created!\n",
      "bedrock-runtime(https://bedrock-runtime.us-west-2.amazonaws.com)\n",
      "\u001b[32m\n",
      "== FM lists ==\u001b[0m\n",
      "{'Claude-Instant-V1': 'anthropic.claude-instant-v1',\n",
      " 'Claude-V1': 'anthropic.claude-v1',\n",
      " 'Claude-V2': 'anthropic.claude-v2',\n",
      " 'Claude-V2-1': 'anthropic.claude-v2:1',\n",
      " 'Claude-V3-5-Sonnet': 'anthropic.claude-3-5-sonnet-20240620-v1:0',\n",
      " 'Claude-V3-Haiku': 'anthropic.claude-3-haiku-20240307-v1:0',\n",
      " 'Claude-V3-Opus': 'anthropic.claude-3-sonnet-20240229-v1:0',\n",
      " 'Claude-V3-Sonnet': 'anthropic.claude-3-sonnet-20240229-v1:0',\n",
      " 'Cohere-Embeddings-En': 'cohere.embed-english-v3',\n",
      " 'Cohere-Embeddings-Multilingual': 'cohere.embed-multilingual-v3',\n",
      " 'Command': 'cohere.command-text-v14',\n",
      " 'Command-Light': 'cohere.command-light-text-v14',\n",
      " 'Jurassic-2-Mid': 'ai21.j2-mid-v1',\n",
      " 'Jurassic-2-Ultra': 'ai21.j2-ultra-v1',\n",
      " 'Llama2-13b-Chat': 'meta.llama2-13b-chat-v1',\n",
      " 'Titan-Embeddings-G1': 'amazon.titan-embed-text-v1',\n",
      " 'Titan-Text-Embeddings-V2': 'amazon.titan-embed-text-v2:0',\n",
      " 'Titan-Text-G1': 'amazon.titan-text-express-v1',\n",
      " 'Titan-Text-G1-Express': 'amazon.titan-text-express-v1',\n",
      " 'Titan-Text-G1-Light': 'amazon.titan-text-lite-v1',\n",
      " 'Titan-Text-G1-Premier': 'amazon.titan-text-premier-v1:0'}\n"
     ]
    }
   ],
   "source": [
    "boto3_bedrock = bedrock.get_bedrock_client(\n",
    "    assumed_role=os.environ.get(\"BEDROCK_ASSUME_ROLE\", None),\n",
    "    endpoint_url=os.environ.get(\"BEDROCK_ENDPOINT_URL\", None),\n",
    "    region=os.environ.get(\"AWS_DEFAULT_REGION\", None),\n",
    ")\n",
    "\n",
    "print (colored(\"\\n== FM lists ==\", \"green\"))\n",
    "pprint (bedrock_info.get_list_fm_models(verbose=False))"
   ]
  },
  {
   "cell_type": "markdown",
   "id": "241a9e34-417a-422f-9f75-cb211b2e70e1",
   "metadata": {
    "tags": []
   },
   "source": [
    "## 2. Titan Embedding 및 LLM 인 Claude-v2 모델 로딩"
   ]
  },
  {
   "cell_type": "markdown",
   "id": "29bf63d2-4110-407c-af06-a45d2fbed4b5",
   "metadata": {},
   "source": [
    "### LLM 로딩 (Claude-v2)"
   ]
  },
  {
   "cell_type": "code",
   "execution_count": 71,
   "id": "9c51443a-04f9-465c-9564-53053eb3e1c2",
   "metadata": {
    "tags": []
   },
   "outputs": [],
   "source": [
    "from langchain_aws import ChatBedrock\n",
    "from langchain.callbacks.streaming_stdout import StreamingStdOutCallbackHandler"
   ]
  },
  {
   "cell_type": "code",
   "execution_count": 72,
   "id": "d09e84e0-b9e1-4b12-8e7a-68f03c5416e5",
   "metadata": {
    "tags": []
   },
   "outputs": [
    {
     "data": {
      "text/plain": [
       "ChatBedrock(callbacks=[<langchain_core.callbacks.streaming_stdout.StreamingStdOutCallbackHandler object at 0x7f2152099db0>], client=<botocore.client.BedrockRuntime object at 0x7f21d1c9f2b0>, model_id='anthropic.claude-3-5-sonnet-20240620-v1:0', model_kwargs={'max_tokens': 1024, 'stop_sequences': ['\\n\\nHuman']})"
      ]
     },
     "execution_count": 72,
     "metadata": {},
     "output_type": "execute_result"
    }
   ],
   "source": [
    "llm_text = ChatBedrock(\n",
    "    model_id=bedrock_info.get_model_id(model_name=\"Claude-V3-5-Sonnet\"),\n",
    "    client=boto3_bedrock,\n",
    "    model_kwargs={\n",
    "        \"max_tokens\": 1024,\n",
    "        \"stop_sequences\": [\"\\n\\nHuman\"],\n",
    "    },\n",
    "    #streaming=True,\n",
    "    callbacks=[StreamingStdOutCallbackHandler()],\n",
    ")\n",
    "llm_text"
   ]
  },
  {
   "cell_type": "markdown",
   "id": "3ba2e829-af8f-4e90-b994-59106cdec8d8",
   "metadata": {},
   "source": [
    "### Embedding 모델 선택"
   ]
  },
  {
   "cell_type": "code",
   "execution_count": 73,
   "id": "0b7b8752-d1e3-4f41-ba35-6da42c3785db",
   "metadata": {
    "tags": []
   },
   "outputs": [],
   "source": [
    "from utils.rag import KoSimCSERobertaContentHandler, SagemakerEndpointEmbeddingsJumpStart"
   ]
  },
  {
   "cell_type": "code",
   "execution_count": 74,
   "id": "793b03f7-3186-4969-b76a-98fe56bd5fdc",
   "metadata": {
    "tags": []
   },
   "outputs": [],
   "source": [
    "def get_embedding_model(is_bedrock_embeddings, is_KoSimCSERobert, aws_region, endpont_name=None):\n",
    "\n",
    "    if is_bedrock_embeddings:\n",
    "        # We will be using the Titan Embeddings Model to generate our Embeddings.\n",
    "        from langchain_aws import BedrockEmbeddings\n",
    "        llm_emb = BedrockEmbeddings(\n",
    "            client=boto3_bedrock,\n",
    "            model_id=bedrock_info.get_model_id(\n",
    "                model_name=\"Titan-Text-Embeddings-V2\"\n",
    "            )\n",
    "        )\n",
    "        print(\"Bedrock Embeddings Model Loaded\")\n",
    "\n",
    "    elif is_KoSimCSERobert:\n",
    "        LLMEmbHandler = KoSimCSERobertaContentHandler()\n",
    "        endpoint_name_emb = endpont_name\n",
    "        llm_emb = SagemakerEndpointEmbeddingsJumpStart(\n",
    "            endpoint_name=endpoint_name_emb,\n",
    "            region_name=aws_region,\n",
    "            content_handler=LLMEmbHandler,\n",
    "        )\n",
    "        print(\"KoSimCSERobert Embeddings Model Loaded\")\n",
    "    else:\n",
    "        llm_emb = None\n",
    "        print(\"No Embedding Model Selected\")\n",
    "\n",
    "    return llm_emb"
   ]
  },
  {
   "cell_type": "markdown",
   "id": "cd72a6b8-eaf0-4036-a530-3bde5ba988cd",
   "metadata": {},
   "source": [
    "#### [중요] is_KoSimCSERobert == True 일시에 endpoint_name 을 꼭 넣어 주세요."
   ]
  },
  {
   "cell_type": "code",
   "execution_count": 75,
   "id": "f42e032b-8715-432c-ae71-12a889f8ffc0",
   "metadata": {
    "tags": []
   },
   "outputs": [
    {
     "name": "stdout",
     "output_type": "stream",
     "text": [
      "Bedrock Embeddings Model Loaded\n"
     ]
    }
   ],
   "source": [
    "is_bedrock_embeddings = True\n",
    "is_KoSimCSERobert = False\n",
    "aws_region = os.environ.get(\"AWS_DEFAULT_REGION\", None)\n",
    "\n",
    "##############################\n",
    "# Parameters for is_KoSimCSERobert\n",
    "##############################\n",
    "if is_KoSimCSERobert: endpont_name = \"<endpoint-name>\"\n",
    "else: endpont_name = None\n",
    "##############################\n",
    "\n",
    "llm_emb = get_embedding_model(is_bedrock_embeddings, is_KoSimCSERobert, aws_region, endpont_name)   "
   ]
  },
  {
   "cell_type": "markdown",
   "id": "7e432237-b9b5-4be3-aa0c-c30eeca6f480",
   "metadata": {},
   "source": [
    "## 3. LangChainOpenSearch VectorStore 정의\n",
    "### 선수 조건\n",
    "- 01_preprocess_docs/02_load_docs_opensearch.ipynb를 통해서 OpenSearch Index 가 생성이 되어 있어야 합니다.\n",
    "#### [중요] 아래에 aws parameter store 에 아래 인증정보가 먼저 입력되어 있어야 합니다.\n",
    "- 01_preprocess_docs/01_parameter_store_example.ipynb 참고"
   ]
  },
  {
   "cell_type": "code",
   "execution_count": 76,
   "id": "635ffe33-b1b1-49f7-ae14-07b782d30a63",
   "metadata": {
    "tags": []
   },
   "outputs": [],
   "source": [
    "import boto3\n",
    "from utils.ssm import parameter_store"
   ]
  },
  {
   "cell_type": "code",
   "execution_count": 77,
   "id": "7c306f9b-35e9-4f5f-aaef-0b3d00cf30e4",
   "metadata": {
    "tags": []
   },
   "outputs": [],
   "source": [
    "region=boto3.Session().region_name\n",
    "pm = parameter_store(region)"
   ]
  },
  {
   "cell_type": "code",
   "execution_count": 78,
   "id": "4a7a8669-f62a-4670-8552-ec684511f272",
   "metadata": {
    "tags": []
   },
   "outputs": [],
   "source": [
    "opensearch_domain_endpoint = pm.get_params(\n",
    "    key=\"opensearch_domain_endpoint\",\n",
    "    enc=False\n",
    ")\n",
    "\n",
    "opensearch_user_id = pm.get_params(\n",
    "    key=\"opensearch_user_id\",\n",
    "    enc=False\n",
    ")\n",
    "\n",
    "opensearch_user_password = pm.get_params(\n",
    "    key=\"opensearch_user_password\",\n",
    "    enc=True\n",
    ")"
   ]
  },
  {
   "cell_type": "code",
   "execution_count": 79,
   "id": "fc7866fd-fd9c-4b41-b600-a91e43edfe4d",
   "metadata": {
    "tags": []
   },
   "outputs": [],
   "source": [
    "opensearch_domain_endpoint = opensearch_domain_endpoint\n",
    "rag_user_name = opensearch_user_id\n",
    "rag_user_password = opensearch_user_password\n",
    "\n",
    "http_auth = (rag_user_name, rag_user_password) # Master username, Master password"
   ]
  },
  {
   "cell_type": "markdown",
   "id": "161a900e-effc-4d7f-a179-b6c00eac03ad",
   "metadata": {
    "tags": []
   },
   "source": [
    "### Index 이름 셋팅\n",
    "- 이전 노트북 01_preprocess_docs/02_load_docs_opensearch.ipynb를 통해서 생성된 OpenSearch Index name 입력"
   ]
  },
  {
   "cell_type": "code",
   "execution_count": 80,
   "id": "513996ec-f07f-4d87-ade9-f89d1a6f451b",
   "metadata": {
    "tags": []
   },
   "outputs": [
    {
     "name": "stdout",
     "output_type": "stream",
     "text": [
      "index_name: v01-genai-poc-parent-doc-retriever\n"
     ]
    }
   ],
   "source": [
    "index_name = opensearch_user_password = pm.get_params(\n",
    "    key=\"opensearch_index_name\",\n",
    "    enc=True\n",
    ")\n",
    "\n",
    "print (f'index_name: {index_name}')"
   ]
  },
  {
   "cell_type": "markdown",
   "id": "482f5785-b88d-44fa-a603-080e4bd734a6",
   "metadata": {},
   "source": [
    "### OpenSearch Client 생성"
   ]
  },
  {
   "cell_type": "code",
   "execution_count": 81,
   "id": "968b7502-5799-4702-bc17-959e88c330a2",
   "metadata": {
    "tags": []
   },
   "outputs": [],
   "source": [
    "from utils.opensearch import opensearch_utils"
   ]
  },
  {
   "cell_type": "code",
   "execution_count": 82,
   "id": "6ceb46a1-e425-4f7e-9319-793b55abb938",
   "metadata": {
    "tags": []
   },
   "outputs": [],
   "source": [
    "os_client = opensearch_utils.create_aws_opensearch_client(\n",
    "    aws_region,\n",
    "    opensearch_domain_endpoint,\n",
    "    http_auth\n",
    ")"
   ]
  },
  {
   "cell_type": "markdown",
   "id": "a5084376-7523-4cf9-9123-adc4ae79f66d",
   "metadata": {
    "tags": []
   },
   "source": [
    "## 4. Retriever based on Hybrid Search 정의\n",
    "- LangChain에서 제공하는 **BaseRetriever** 클래스를 상속받아 **Custom Retriever**를 정의 할 수 있습니다.\n",
    "- 본 샘플코드 에서는 **Hybrid Search based Retriever**를 **정의**합니다. "
   ]
  },
  {
   "cell_type": "markdown",
   "id": "b0a25df0-2a13-4d73-9edc-532caf98f804",
   "metadata": {},
   "source": [
    "OpenSearch Hybrid 는 아래와 같은 방식으로 작동합니다.\n",
    "- (1) Sematic serch를 통해 각 document별 relevant score 산출\n",
    "- (2) Lexical search를 통해 각 document별 relevant score 산출\n",
    "- (3-1) Rank-fusion 방식이 \"simple weighted\" 일 경우\n",
    "    - 산출된 score에 대한 normalization 수행\n",
    "    - 전체 결과에서 가장 높은 스코어는 표준화 과정을 통하여 스코어가 1.0 이 됨.\n",
    "- (3-2) Rank-fusion 방식이 \"Reciprocal Rank Fusion (RRF)\" 일 경우\n",
    "    - Paper: https://plg.uwaterloo.ca/~gvcormac/cormacksigir09-rrf.pdf\n",
    "    - Desc: https://medium.com/@sowmiyajaganathan/hybrid-search-with-re-ranking-ff120c8a426d\n",
    "    - **RRF의 경우 score가 아닌 ranking 정보를 활용, 때문에 score normalization이 필요 없음**\n",
    "    - ![rrf.png](../../../10_advanced_question_answering/img/rrf.png)\n",
    "\n",
    "RRF는 langchain에서 \"Ensemble Retriever\" 이름으로 api를 제공합니다. \n",
    "- https://python.langchain.com/docs/modules/data_connection/retrievers/ensemble"
   ]
  },
  {
   "cell_type": "code",
   "execution_count": 83,
   "id": "5db8e470-63a9-4c3d-94c8-1d270a6da822",
   "metadata": {
    "tags": []
   },
   "outputs": [],
   "source": [
    "from utils.rag import OpenSearchHybridSearchRetriever"
   ]
  },
  {
   "cell_type": "markdown",
   "id": "d7feac2f-21a2-4756-b989-66c180bb1e79",
   "metadata": {},
   "source": [
    "- 필터 설정 예시\n",
    "- filter=[ <BR>\n",
    "    　{\"term\": {\"metadata.[**your_metadata_attribute_name**]\": \"**your first keyword**\"}}, <BR>\n",
    "    　{\"term\": {\"metadata.[**your_metadata_attribute_name**]\": \"**your second keyword**\"}},<BR>\n",
    "]"
   ]
  },
  {
   "cell_type": "code",
   "execution_count": 84,
   "id": "49c7e131-294f-4ff8-9331-989709c7079c",
   "metadata": {
    "tags": []
   },
   "outputs": [],
   "source": [
    "opensearch_hybrid_retriever = OpenSearchHybridSearchRetriever(\n",
    "    # necessary\n",
    "    os_client=os_client,\n",
    "    index_name=index_name,\n",
    "    llm_emb=llm_emb,\n",
    "    llm_text=llm_text,\n",
    "    \n",
    "    # hybird-search debugger\n",
    "    hybrid_search_debugger = \"None\", #[semantic, lexical, None]\n",
    "\n",
    "    # option for lexical\n",
    "    minimum_should_match=0,\n",
    "    filter=[],\n",
    "\n",
    "    # option for rank fusion\n",
    "    fusion_algorithm=\"RRF\", # [\"RRF\", \"simple_weighted\"], rank fusion 방식 정의\n",
    "    ensemble_weights=[.51, .49], # [for lexical, for semantic], Lexical, Semantic search 결과에 대한 최종 반영 비율 정의\n",
    "\n",
    "    # option for async search\n",
    "    async_mode=True,\n",
    "\n",
    "    # option for output\n",
    "    k=5, # 최종 Document 수 정의\n",
    "    verbose=True,\n",
    ")"
   ]
  },
  {
   "cell_type": "markdown",
   "id": "cfb26835-ad98-41c5-9e9d-2453642e3551",
   "metadata": {},
   "source": [
    "### Retrieval example\n",
    "- default search"
   ]
  },
  {
   "cell_type": "code",
   "execution_count": 85,
   "id": "9c06e89f-79de-413c-ba9c-a188ca3fe2d0",
   "metadata": {
    "tags": []
   },
   "outputs": [],
   "source": [
    "from utils.rag import show_context_used"
   ]
  },
  {
   "cell_type": "code",
   "execution_count": 86,
   "id": "b5b528f6-b075-4009-aa11-f7f0a8036acc",
   "metadata": {
    "tags": []
   },
   "outputs": [],
   "source": [
    "#query = \"중지된 경우 이체\"\n",
    "query = \"vidio max size?\""
   ]
  },
  {
   "cell_type": "code",
   "execution_count": 87,
   "id": "05b13e5e-4a66-4dc8-b18c-42a6e3bd6037",
   "metadata": {
    "tags": []
   },
   "outputs": [
    {
     "name": "stdout",
     "output_type": "stream",
     "text": [
      "##############################\n",
      "async_mode\n",
      "##############################\n",
      "True\n",
      "##############################\n",
      "reranker\n",
      "##############################\n",
      "False\n",
      "##############################\n",
      "rag_fusion\n",
      "##############################\n",
      "False\n",
      "##############################\n",
      "HyDE\n",
      "##############################\n",
      "False\n",
      "##############################\n",
      "parent_document\n",
      "##############################\n",
      "False\n",
      "##############################\n",
      "complex_document\n",
      "##############################\n",
      "False\n",
      "##############################\n",
      "similar_docs_semantic\n",
      "##############################\n",
      "\n",
      "Score: 1.0\n",
      "['. To delete a video file, click next to the name of the uploaded video file. Note The device control command must be transferred to the device to apply a video to it. &gt; Session timeout Allows the use of the session timeout feature for the Kiosk Browser. If the user does not use the device for a set time, the device deletes user information, such as the cache and cookies, in the device Kiosk Browser and goes to the main page URL: Apply &mdash; Enables the session timeout feature for the browser. &gt;&gt; Time (sec) Set the session timeout in seconds for the Kiosk Browser']\n",
      "{'source': 'all_processed_data.json', 'seq_num': 893, 'title': 'Android Enterprise policies', 'url': 'https://docs.samsungknox.com/admin/knox-manage/configure/profile/configure-profile-policies/android-enterprise-policies', 'project': 'KM', 'last_updated': '2023-09-06', 'family_tree': 'child', 'parent_id': 'b72bb3cc-e122-413a-8b84-5681f19c49eb', 'id': 'e326fdce-00d4-41b8-829e-f68519856abd'}\n",
      "\n",
      "Score: 0.9925655171372633\n",
      "['. 7. The device now launches DeX automatically when it is plugged in to an HDMI cable. 8. Once the device is connected to DeX, a Display resolution screen displays. Select a single resolution value for the connected display. Unselected display options will be greyed out and unavailable. Keep in mind, changing the resolution makes displayed windows, text and other items appear small or larger. Options include, WQHD (2560 x 1440), FHD (1920 x 1080) _recommended setting_, HD+ (1600 x 900), WQXGA (2560 x 1600), WUXGA (1920 x 1200), or UWQHD (3440 x 1440). Select Done to commit the selected display setting. If the display resolution provided is not supported, then FHD (1920 x 1080) is selected by default and non-supported resolutions are greyed out in the DeX Display resolution screen. Industry example This example configures a tablet in DeX mode, so a bank employee can use it to help customers with day to day operations. For example opening a new account or checking account balances']\n",
      "{'source': 'all_processed_data.json', 'seq_num': 1225, 'title': 'DeX', 'url': 'https://docs.samsungknox.com/admin/knox-platform-for-enterprise/knox-service-plugin/configure-advanced-policies/dex', 'project': 'KSP', 'last_updated': '2023-07-26', 'family_tree': 'child', 'parent_id': '70720e43-494e-4f7a-a09c-584f2ea37e62', 'id': 'b356759a-a976-496c-9032-184730427229'}\n",
      "\n",
      "Score: 0.9864989643755366\n",
      "[\". #Other Kiosk enhancements The Knox Manage agent must be updated to the latest version for these new features to take effect. Bookmark in Multiple App Kiosk mode now supports file uploads and downloads. You can now set Kiosk Browser and Secure Browser to be automatically updated through profile policies. When adding or modifying a profile, you can find these settings in the following locations: Secure Browser: Android Enterprise > Secure Browser > App Auto Update. Kiosk Browser: Android Enterprise or Android Legacy > Kiosk > Kiosk app settings (select Kiosk Browser ) > App Auto Update. The loading status is now shown on the progress bar: Content #Increased maximum file size limit Previously, the maximum content size was 300 MB. In 20.08, this limit was increased to 1.0 GB. Knox E-FOTA license usage with Knox Suite In addition to the Knox E-FOTA admin portal, you can now view the Knox E-FOTA license usage in the following locations as well: License widget in the Knox Manage admin portal's Dashboard\"]\n",
      "{'source': 'all_processed_data.json', 'seq_num': 1044, 'title': 'Knox Manage 20.08 release notes', 'url': 'https://docs.samsungknox.com/admin/knox-manage/release-notes/20-08', 'project': 'KM', 'last_updated': '2023-07-26', 'family_tree': 'child', 'parent_id': 'aede7be4-3e2e-4dac-b671-6be82a4d0626', 'id': '634e3556-59f7-46e3-9876-fcccc81246a4'}\n",
      "\n",
      "Score: 0.9862280641853693\n",
      "['.The input value ranges from 1 to 52428800 (50MB). Maximum Size of Email Body (Kbyte) Select a maximum value for the email body size. This is only set once during the initial Exchange ActiveSync setup. &gt; Default Size of Email Body (Kbyte) Select the default value of the email body size. Note Select the setting after the Maximum Size of Email Body (Kbyte) setting. Email Account Configures the settings of a POP or IMAP email account. Click !add to add a configuration. You can add or edit up to 20 configurations when you save the profile. Policy Description Configuration ID Assign a unique ID for each email account setting. Description Enter a description for each email account setting. Remove available Allows users to delete the email account settings in Knox Workspace. Default Account Specifies to usage of the default account. User Information input method Select an input method for entering user information. &gt; Manual Input Select this to enter the email address manually']\n",
      "{'source': 'all_processed_data.json', 'seq_num': 899, 'title': 'Knox Workspace (Android Legacy) policies', 'url': 'https://docs.samsungknox.com/admin/knox-manage/configure/profile/configure-profile-policies/knox-workspace-android-legacy-policies', 'project': 'KM', 'last_updated': '2023-07-26', 'family_tree': 'child', 'parent_id': '6a3fe0cd-dbf3-4a81-ac4a-65f579d0dac2', 'id': '05248e42-9e06-4f86-b66a-f93a03a7cbb9'}\n",
      "\n",
      "Score: 0.9851859796863477\n",
      "['. Max TTL - The maximum amount of time, or time to live (TTL), in seconds, that a packet can exist in a network before being discarded by the router. The default value is 64, but a number from 49 to 255 can be entered. Packet size - The size of the packet to request, in bytes. The default value is 64, but a number from 4 to 1472 can be entered. If the device user sets Packet size as 10, Interval (ms) as 1000 ms, and Timeout (ms) as 500 ms, 10 pings are sent and the interval between each ping is set to 1000 ms. A successful test requires all 10 pings to be received within 500 ms each. The ping test continues even if the device user leaves the screen, but they can stop it at any time by tapping the stop button. Otherwise, the test automatically stops once the set conditions are met. A notification is also displayed in the notification bar for the duration of the test, which the user can tap to return to the test screen']\n",
      "{'source': 'all_processed_data.json', 'seq_num': 292, 'title': 'Use the agent app', 'url': 'https://docs.samsungknox.com/admin/knox-asset-intelligence/how-to-guides/use-the-agent-app', 'project': 'KAI', 'last_updated': '2023-09-06', 'family_tree': 'child', 'parent_id': '5e1fc1b0-0bdc-4a1f-9a43-e9d8bbe28070', 'id': 'ed5d473e-b02a-4797-9ced-fa6548a6b56b'}\n",
      "None\n",
      "##############################\n",
      "similar_docs_keyword\n",
      "##############################\n",
      "\n",
      "Score: 1.0\n",
      "[\". Invalid APK version name. Invalid APK version name. Please change the version name and try uploading again. 4090001 File too large. Max 4000 devices allowed per upload. Try splitting the device upload list to reduce the size of .csv you are uploading. Note that there is a max of 4000 devices allowed per upload. 4150000 File type is not supported. The file you are trying to upload is not supported. Knox Configure only accepts .csv files. App name cannot contain special characters. Rename the app so it does not contain any special or forbidden characters. App version is invalid. An app you are trying to upload is invalid. Verify that the version you're attempting to upload is correct. Try to re-upload the app again. CSV file is required. A system error occurred. Verify that you've attached a .csv file, try to re-attach the .csv and upload it again. If the problem persists, contact Samsung. 4040105 No CAPTCHA code entered. No CAPTCHA code was entered. Carefully enter the CAPTCHA code and submit\"]\n",
      "{'source': 'all_processed_data.json', 'seq_num': 433, 'title': 'Portal-side errors', 'url': 'https://docs.samsungknox.com/admin/knox-configure/knox-configure-wearables/troubleshoot/portal-side-errors', 'project': 'KC', 'last_updated': '2023-07-26', 'family_tree': 'child', 'parent_id': '291bc872-97b4-4b34-af40-dba8d4bb5292', 'id': '4511bd10-4429-418b-ac05-15a57c470300'}\n",
      "\n",
      "Score: 0.9815376777003425\n",
      "['. Max TTL - The maximum amount of time, or time to live (TTL), in seconds, that a packet can exist in a network before being discarded by the router. The default value is 64, but a number from 49 to 255 can be entered. Packet size - The size of the packet to request, in bytes. The default value is 64, but a number from 4 to 1472 can be entered. If the device user sets Packet size as 10, Interval (ms) as 1000 ms, and Timeout (ms) as 500 ms, 10 pings are sent and the interval between each ping is set to 1000 ms. A successful test requires all 10 pings to be received within 500 ms each. The ping test continues even if the device user leaves the screen, but they can stop it at any time by tapping the stop button. Otherwise, the test automatically stops once the set conditions are met. A notification is also displayed in the notification bar for the duration of the test, which the user can tap to return to the test screen']\n",
      "{'source': 'all_processed_data.json', 'seq_num': 292, 'title': 'Use the agent app', 'url': 'https://docs.samsungknox.com/admin/knox-asset-intelligence/how-to-guides/use-the-agent-app', 'project': 'KAI', 'last_updated': '2023-09-06', 'family_tree': 'child', 'parent_id': '5e1fc1b0-0bdc-4a1f-9a43-e9d8bbe28070', 'id': 'ed5d473e-b02a-4797-9ced-fa6548a6b56b'}\n",
      "\n",
      "Score: 0.8391050077115012\n",
      "['. Change this property to include lengths not enabled by default, or to optimize decoding performance for a certain number of symbols. Character-to-symbol mapping depends on barcode type. For example, some barcodes include additional checksum characters in their symbol counts. For more information on active symbol count, refer to Configure the Active Symbol Count. Depends on barcode type. Max. length Determines the maximum supported barcode length (active symbol count) to decode. Depends on barcode type. Inverted color recognition Enables recognition of inverted barcodes that have been printed using bright ink on a dark background. ON/OFF OFF Reduced quiet zone-size Enables scanning codes with smaller than normal quiet zones (white space before and after the code) than allowed by the barcode type specification. Use this if you experience issues when scanning codes that violate quiet zone specifications. Please note that turning on this feature may lead to false positive scans in some cases']\n",
      "{'source': 'all_processed_data.json', 'seq_num': 580, 'title': 'Scan engine settings: Scandit', 'url': 'https://docs.samsungknox.com/admin/knox-capture/knox-capture-scandit/scan-engine-settings-scandit', 'project': 'KCAP', 'last_updated': '2023-07-26', 'family_tree': 'child', 'parent_id': 'acdf0679-a0bb-4233-be7b-e68f6a0ed51a', 'id': '157c474c-79a6-4295-b5b8-ed0b5937c6f5'}\n",
      "\n",
      "Score: 0.8082443849281178\n",
      "['. Enter your device information in the sample file with the default headings. Save and try uploading the CSV file again. 4000014 The CSV file is empty. Ensure the CSV file uploading is not empty. 4000414 The EULA is invalid. A system error occurred. Refresh the page and load the EULA again. If the problem persists, contact Samsung. 4002009 EULA is already agreed to. The end user has already accepted the End User License Agreement (EULA). Do not prompt users to accept the EULA again. Failed to upload file. A system error occurred. Try to upload the file again. If the problem persists, contact Samsung. An app with this name already exists. Ensure the name of the app you are uploading does not already exist in Knox Configure. Re-name the app if necessary. Invalid APK version name. Invalid APK version name. Please change the version name and try uploading again. 4090001 File too large. Max 4000 devices allowed per upload. Try splitting the device upload list to reduce the size of .csv you are uploading']\n",
      "{'source': 'all_processed_data.json', 'seq_num': 433, 'title': 'Portal-side errors', 'url': 'https://docs.samsungknox.com/admin/knox-configure/knox-configure-wearables/troubleshoot/portal-side-errors', 'project': 'KC', 'last_updated': '2023-07-26', 'family_tree': 'child', 'parent_id': '291bc872-97b4-4b34-af40-dba8d4bb5292', 'id': '7e88ce07-12b4-4b75-a849-a50d6113afe3'}\n",
      "\n",
      "Score: 0.7808699150910374\n",
      "['. PasswordPolicy setMaximumNumericSequenceLength AE Device Password Requirements Max time to screen lock 0 minutes 15 minutes KNOX-11-000500 setMaximumTimeToLock AE Device Password Requirements Max password failures fo local wipe 0+ 10 KNOX-11-000700 setMaximumFailedPasswordsForWipe AE * Device Restrictions Installs from unknown sources globally Allow/ Disallow Disallow KNOX-11-001300 addUserRestriction DISALLOW_INSTALL_UNKNOWN_SOURCES_GLOBALLY AE Device Restrictions Trust agents Disable/Enable Disable KNOX-11-003900 setKeyguardDisabledFeatures KEYGUARD_DISABLE_TRUST_AGENTS AE * Device Restrictions Face Disable/Enable Disable KNOX-11-004100 setKeyguardDisabledFeatures KEYGUARD_DISABLE_FACE AE * Device Restrictions Debugging features Allow/ Disallow Disallow KNOX-11-005100 addUserRestriction DISALLOW_DEBUGGING_FEATURES AE * Device Restrictions USB file transfer Allow/ Disallow Disallow KNOX-11-006500, KNOX-11-006900 addUserRestriction DISALLOW_USB_FILE_TRANSFER KPE Device Wi-Fi Unsecured hotspot Allow/']\n",
      "{'source': 'all_processed_data.json', 'seq_num': 1251, 'title': 'STIG 11 COPE compliance', 'url': 'https://docs.samsungknox.com/admin/knox-platform-for-enterprise/knox-service-plugin/references/stig-11/stig-11-cope-compliance', 'project': 'KSP', 'last_updated': '2023-07-26', 'family_tree': 'child', 'parent_id': 'deafa5a8-bc23-42bb-ba99-161c505767e1', 'id': '133bc9d4-3635-4ff2-85e2-8a44ee83d377'}\n",
      "None\n",
      "##############################\n",
      "similar_docs\n",
      "##############################\n",
      "\n",
      "Score: 0.015749379652605457\n",
      "['. Max TTL - The maximum amount of time, or time to live (TTL), in seconds, that a packet can exist in a network before being discarded by the router. The default value is 64, but a number from 49 to 255 can be entered. Packet size - The size of the packet to request, in bytes. The default value is 64, but a number from 4 to 1472 can be entered. If the device user sets Packet size as 10, Interval (ms) as 1000 ms, and Timeout (ms) as 500 ms, 10 pings are sent and the interval between each ping is set to 1000 ms. A successful test requires all 10 pings to be received within 500 ms each. The ping test continues even if the device user leaves the screen, but they can stop it at any time by tapping the stop button. Otherwise, the test automatically stops once the set conditions are met. A notification is also displayed in the notification bar for the duration of the test, which the user can tap to return to the test screen']\n",
      "{'source': 'all_processed_data.json', 'seq_num': 292, 'title': 'Use the agent app', 'url': 'https://docs.samsungknox.com/admin/knox-asset-intelligence/how-to-guides/use-the-agent-app', 'project': 'KAI', 'last_updated': '2023-09-06', 'family_tree': 'child', 'parent_id': '5e1fc1b0-0bdc-4a1f-9a43-e9d8bbe28070', 'id': 'ed5d473e-b02a-4797-9ced-fa6548a6b56b'}\n",
      "\n",
      "Score: 0.008360655737704918\n",
      "['. To delete a video file, click next to the name of the uploaded video file. Note The device control command must be transferred to the device to apply a video to it. &gt; Session timeout Allows the use of the session timeout feature for the Kiosk Browser. If the user does not use the device for a set time, the device deletes user information, such as the cache and cookies, in the device Kiosk Browser and goes to the main page URL: Apply &mdash; Enables the session timeout feature for the browser. &gt;&gt; Time (sec) Set the session timeout in seconds for the Kiosk Browser']\n",
      "{'source': 'all_processed_data.json', 'seq_num': 893, 'title': 'Android Enterprise policies', 'url': 'https://docs.samsungknox.com/admin/knox-manage/configure/profile/configure-profile-policies/android-enterprise-policies', 'project': 'KM', 'last_updated': '2023-09-06', 'family_tree': 'child', 'parent_id': 'b72bb3cc-e122-413a-8b84-5681f19c49eb', 'id': 'e326fdce-00d4-41b8-829e-f68519856abd'}\n",
      "\n",
      "Score: 0.008225806451612904\n",
      "['. 7. The device now launches DeX automatically when it is plugged in to an HDMI cable. 8. Once the device is connected to DeX, a Display resolution screen displays. Select a single resolution value for the connected display. Unselected display options will be greyed out and unavailable. Keep in mind, changing the resolution makes displayed windows, text and other items appear small or larger. Options include, WQHD (2560 x 1440), FHD (1920 x 1080) _recommended setting_, HD+ (1600 x 900), WQXGA (2560 x 1600), WUXGA (1920 x 1200), or UWQHD (3440 x 1440). Select Done to commit the selected display setting. If the display resolution provided is not supported, then FHD (1920 x 1080) is selected by default and non-supported resolutions are greyed out in the DeX Display resolution screen. Industry example This example configures a tablet in DeX mode, so a bank employee can use it to help customers with day to day operations. For example opening a new account or checking account balances']\n",
      "{'source': 'all_processed_data.json', 'seq_num': 1225, 'title': 'DeX', 'url': 'https://docs.samsungknox.com/admin/knox-platform-for-enterprise/knox-service-plugin/configure-advanced-policies/dex', 'project': 'KSP', 'last_updated': '2023-07-26', 'family_tree': 'child', 'parent_id': '70720e43-494e-4f7a-a09c-584f2ea37e62', 'id': 'b356759a-a976-496c-9032-184730427229'}\n",
      "\n",
      "Score: 0.008095238095238095\n",
      "[\". #Other Kiosk enhancements The Knox Manage agent must be updated to the latest version for these new features to take effect. Bookmark in Multiple App Kiosk mode now supports file uploads and downloads. You can now set Kiosk Browser and Secure Browser to be automatically updated through profile policies. When adding or modifying a profile, you can find these settings in the following locations: Secure Browser: Android Enterprise > Secure Browser > App Auto Update. Kiosk Browser: Android Enterprise or Android Legacy > Kiosk > Kiosk app settings (select Kiosk Browser ) > App Auto Update. The loading status is now shown on the progress bar: Content #Increased maximum file size limit Previously, the maximum content size was 300 MB. In 20.08, this limit was increased to 1.0 GB. Knox E-FOTA license usage with Knox Suite In addition to the Knox E-FOTA admin portal, you can now view the Knox E-FOTA license usage in the following locations as well: License widget in the Knox Manage admin portal's Dashboard\"]\n",
      "{'source': 'all_processed_data.json', 'seq_num': 1044, 'title': 'Knox Manage 20.08 release notes', 'url': 'https://docs.samsungknox.com/admin/knox-manage/release-notes/20-08', 'project': 'KM', 'last_updated': '2023-07-26', 'family_tree': 'child', 'parent_id': 'aede7be4-3e2e-4dac-b671-6be82a4d0626', 'id': '634e3556-59f7-46e3-9876-fcccc81246a4'}\n",
      "\n",
      "Score: 0.008032786885245903\n",
      "[\". Invalid APK version name. Invalid APK version name. Please change the version name and try uploading again. 4090001 File too large. Max 4000 devices allowed per upload. Try splitting the device upload list to reduce the size of .csv you are uploading. Note that there is a max of 4000 devices allowed per upload. 4150000 File type is not supported. The file you are trying to upload is not supported. Knox Configure only accepts .csv files. App name cannot contain special characters. Rename the app so it does not contain any special or forbidden characters. App version is invalid. An app you are trying to upload is invalid. Verify that the version you're attempting to upload is correct. Try to re-upload the app again. CSV file is required. A system error occurred. Verify that you've attached a .csv file, try to re-attach the .csv and upload it again. If the problem persists, contact Samsung. 4040105 No CAPTCHA code entered. No CAPTCHA code was entered. Carefully enter the CAPTCHA code and submit\"]\n",
      "{'source': 'all_processed_data.json', 'seq_num': 433, 'title': 'Portal-side errors', 'url': 'https://docs.samsungknox.com/admin/knox-configure/knox-configure-wearables/troubleshoot/portal-side-errors', 'project': 'KC', 'last_updated': '2023-07-26', 'family_tree': 'child', 'parent_id': '291bc872-97b4-4b34-af40-dba8d4bb5292', 'id': '4511bd10-4429-418b-ac05-15a57c470300'}\n",
      "None\n",
      "\n",
      "==========  Results  ==========\n",
      "\n",
      "1. question: vidio max size?\n",
      "2. # documents: 5\n",
      "3. Documents: \n",
      "\n",
      "\n",
      "-----------------------------------------------\n",
      "1. Chunk: 930 Characters\n",
      "-----------------------------------------------\n",
      ". Max TTL - The maximum amount of time, or time to live (TTL), in seconds, that a packet can exist\n",
      "in a network before being discarded by the router. The default value is 64, but a number from 49 to\n",
      "255 can be entered. Packet size - The size of the packet to request, in bytes. The default value is\n",
      "64, but a number from 4 to 1472 can be entered. If the device user sets Packet size as 10, Interval\n",
      "(ms) as 1000 ms, and Timeout (ms) as 500 ms, 10 pings are sent and the interval between each ping is\n",
      "set to 1000 ms. A successful test requires all 10 pings to be received within 500 ms each. The ping\n",
      "test continues even if the device user leaves the screen, but they can stop it at any time by\n",
      "tapping the stop button. Otherwise, the test automatically stops once the set conditions are met. A\n",
      "notification is also displayed in the notification bar for the duration of the test, which the user\n",
      "can tap to return to the test screen\n",
      "metadata:\n",
      " {'source': 'all_processed_data.json', 'seq_num': 292, 'title': 'Use the agent app', 'url':\n",
      "'https://docs.samsungknox.com/admin/knox-asset-intelligence/how-to-guides/use-the-agent-app',\n",
      "'project': 'KAI', 'last_updated': '2023-09-06', 'family_tree': 'child', 'parent_id':\n",
      "'5e1fc1b0-0bdc-4a1f-9a43-e9d8bbe28070', 'id': 'ed5d473e-b02a-4797-9ced-fa6548a6b56b',\n",
      "'orig_elements': ''}\n",
      "\n",
      "-----------------------------------------------\n",
      "2. Chunk: 579 Characters\n",
      "-----------------------------------------------\n",
      ". To delete a video file, click next to the name of the uploaded video file. Note The device control\n",
      "command must be transferred to the device to apply a video to it. &gt; Session timeout Allows the\n",
      "use of the session timeout feature for the Kiosk Browser. If the user does not use the device for a\n",
      "set time, the device deletes user information, such as the cache and cookies, in the device Kiosk\n",
      "Browser and goes to the main page URL: Apply &mdash; Enables the session timeout feature for the\n",
      "browser. &gt;&gt; Time (sec) Set the session timeout in seconds for the Kiosk Browser\n",
      "metadata:\n",
      " {'source': 'all_processed_data.json', 'seq_num': 893, 'title': 'Android Enterprise policies',\n",
      "'url': 'https://docs.samsungknox.com/admin/knox-manage/configure/profile/configure-profile-\n",
      "policies/android-enterprise-policies', 'project': 'KM', 'last_updated': '2023-09-06', 'family_tree':\n",
      "'child', 'parent_id': 'b72bb3cc-e122-413a-8b84-5681f19c49eb', 'id':\n",
      "'e326fdce-00d4-41b8-829e-f68519856abd', 'orig_elements': ''}\n",
      "\n",
      "-----------------------------------------------\n",
      "3. Chunk: 993 Characters\n",
      "-----------------------------------------------\n",
      ". 7. The device now launches DeX automatically when it is plugged in to an HDMI cable. 8. Once the\n",
      "device is connected to DeX, a Display resolution screen displays. Select a single resolution value\n",
      "for the connected display. Unselected display options will be greyed out and unavailable. Keep in\n",
      "mind, changing the resolution makes displayed windows, text and other items appear small or larger.\n",
      "Options include, WQHD (2560 x 1440), FHD (1920 x 1080) _recommended setting_, HD+ (1600 x 900),\n",
      "WQXGA (2560 x 1600), WUXGA (1920 x 1200), or UWQHD (3440 x 1440). Select Done to commit the selected\n",
      "display setting. If the display resolution provided is not supported, then FHD (1920 x 1080) is\n",
      "selected by default and non-supported resolutions are greyed out in the DeX Display resolution\n",
      "screen. Industry example This example configures a tablet in DeX mode, so a bank employee can use it\n",
      "to help customers with day to day operations. For example opening a new account or checking account\n",
      "balances\n",
      "metadata:\n",
      " {'source': 'all_processed_data.json', 'seq_num': 1225, 'title': 'DeX', 'url':\n",
      "'https://docs.samsungknox.com/admin/knox-platform-for-enterprise/knox-service-plugin/configure-\n",
      "advanced-policies/dex', 'project': 'KSP', 'last_updated': '2023-07-26', 'family_tree': 'child',\n",
      "'parent_id': '70720e43-494e-4f7a-a09c-584f2ea37e62', 'id': 'b356759a-a976-496c-9032-184730427229',\n",
      "'orig_elements': ''}\n",
      "\n",
      "-----------------------------------------------\n",
      "4. Chunk: 1013 Characters\n",
      "-----------------------------------------------\n",
      ". #Other Kiosk enhancements The Knox Manage agent must be updated to the latest version for these\n",
      "new features to take effect. Bookmark in Multiple App Kiosk mode now supports file uploads and\n",
      "downloads. You can now set Kiosk Browser and Secure Browser to be automatically updated through\n",
      "profile policies. When adding or modifying a profile, you can find these settings in the following\n",
      "locations: Secure Browser: Android Enterprise > Secure Browser > App Auto Update. Kiosk Browser:\n",
      "Android Enterprise or Android Legacy > Kiosk > Kiosk app settings (select Kiosk Browser ) > App Auto\n",
      "Update. The loading status is now shown on the progress bar: Content #Increased maximum file size\n",
      "limit Previously, the maximum content size was 300 MB. In 20.08, this limit was increased to 1.0 GB.\n",
      "Knox E-FOTA license usage with Knox Suite In addition to the Knox E-FOTA admin portal, you can now\n",
      "view the Knox E-FOTA license usage in the following locations as well: License widget in the Knox\n",
      "Manage admin portal's Dashboard\n",
      "metadata:\n",
      " {'source': 'all_processed_data.json', 'seq_num': 1044, 'title': 'Knox Manage 20.08 release notes',\n",
      "'url': 'https://docs.samsungknox.com/admin/knox-manage/release-notes/20-08', 'project': 'KM',\n",
      "'last_updated': '2023-07-26', 'family_tree': 'child', 'parent_id':\n",
      "'aede7be4-3e2e-4dac-b671-6be82a4d0626', 'id': '634e3556-59f7-46e3-9876-fcccc81246a4',\n",
      "'orig_elements': ''}\n",
      "\n",
      "-----------------------------------------------\n",
      "5. Chunk: 1008 Characters\n",
      "-----------------------------------------------\n",
      ". Invalid APK version name. Invalid APK version name. Please change the version name and try\n",
      "uploading again. 4090001 File too large. Max 4000 devices allowed per upload. Try splitting the\n",
      "device upload list to reduce the size of .csv you are uploading. Note that there is a max of 4000\n",
      "devices allowed per upload. 4150000 File type is not supported. The file you are trying to upload is\n",
      "not supported. Knox Configure only accepts .csv files. App name cannot contain special characters.\n",
      "Rename the app so it does not contain any special or forbidden characters. App version is invalid.\n",
      "An app you are trying to upload is invalid. Verify that the version you're attempting to upload is\n",
      "correct. Try to re-upload the app again. CSV file is required. A system error occurred. Verify that\n",
      "you've attached a .csv file, try to re-attach the .csv and upload it again. If the problem persists,\n",
      "contact Samsung. 4040105 No CAPTCHA code entered. No CAPTCHA code was entered. Carefully enter the\n",
      "CAPTCHA code and submit\n",
      "metadata:\n",
      " {'source': 'all_processed_data.json', 'seq_num': 433, 'title': 'Portal-side errors', 'url':\n",
      "'https://docs.samsungknox.com/admin/knox-configure/knox-configure-wearables/troubleshoot/portal-\n",
      "side-errors', 'project': 'KC', 'last_updated': '2023-07-26', 'family_tree': 'child', 'parent_id':\n",
      "'291bc872-97b4-4b34-af40-dba8d4bb5292', 'id': '4511bd10-4429-418b-ac05-15a57c470300',\n",
      "'orig_elements': ''}\n",
      "CPU times: user 35.9 ms, sys: 179 µs, total: 36.1 ms\n",
      "Wall time: 117 ms\n"
     ]
    }
   ],
   "source": [
    "%%time\n",
    "search_hybrid_result = opensearch_hybrid_retriever.invoke(query)\n",
    "\n",
    "print(\"\\n==========  Results  ==========\\n\")\n",
    "print(f'1. question: {query}')\n",
    "print (f'2. # documents: {len(search_hybrid_result)}')\n",
    "print(\"3. Documents: \\n\")\n",
    "\n",
    "show_context_used(search_hybrid_result)"
   ]
  },
  {
   "cell_type": "markdown",
   "id": "c09221b5-4a6c-463b-9769-35cc8362e33c",
   "metadata": {},
   "source": [
    "- update parameters"
   ]
  },
  {
   "cell_type": "code",
   "execution_count": 88,
   "id": "b7bb4672-d2b8-4b29-b71c-b06d84bcd470",
   "metadata": {
    "tags": []
   },
   "outputs": [],
   "source": [
    "opensearch_hybrid_retriever.update_search_params(\n",
    "    k=5,\n",
    "    minimum_should_match=0,\n",
    "    filter=[],\n",
    "    #filter=[\n",
    "    #    {\"term\": {\"metadata.seq_num\": \"64\"}},\n",
    "    #],\n",
    "    async_mode=True\n",
    ")"
   ]
  },
  {
   "cell_type": "code",
   "execution_count": 89,
   "id": "1b9b45b1-cb92-4954-8087-143a550350c8",
   "metadata": {
    "tags": []
   },
   "outputs": [
    {
     "name": "stdout",
     "output_type": "stream",
     "text": [
      "##############################\n",
      "async_mode\n",
      "##############################\n",
      "True\n",
      "##############################\n",
      "reranker\n",
      "##############################\n",
      "False\n",
      "##############################\n",
      "rag_fusion\n",
      "##############################\n",
      "False\n",
      "##############################\n",
      "HyDE\n",
      "##############################\n",
      "False\n",
      "##############################\n",
      "parent_document\n",
      "##############################\n",
      "False\n",
      "##############################\n",
      "complex_document\n",
      "##############################\n",
      "False\n",
      "##############################\n",
      "similar_docs_semantic\n",
      "##############################\n",
      "\n",
      "Score: 1.0\n",
      "['. To delete a video file, click next to the name of the uploaded video file. Note The device control command must be transferred to the device to apply a video to it. &gt; Session timeout Allows the use of the session timeout feature for the Kiosk Browser. If the user does not use the device for a set time, the device deletes user information, such as the cache and cookies, in the device Kiosk Browser and goes to the main page URL: Apply &mdash; Enables the session timeout feature for the browser. &gt;&gt; Time (sec) Set the session timeout in seconds for the Kiosk Browser']\n",
      "{'source': 'all_processed_data.json', 'seq_num': 893, 'title': 'Android Enterprise policies', 'url': 'https://docs.samsungknox.com/admin/knox-manage/configure/profile/configure-profile-policies/android-enterprise-policies', 'project': 'KM', 'last_updated': '2023-09-06', 'family_tree': 'child', 'parent_id': 'b72bb3cc-e122-413a-8b84-5681f19c49eb', 'id': 'e326fdce-00d4-41b8-829e-f68519856abd'}\n",
      "\n",
      "Score: 0.9925655171372633\n",
      "['. 7. The device now launches DeX automatically when it is plugged in to an HDMI cable. 8. Once the device is connected to DeX, a Display resolution screen displays. Select a single resolution value for the connected display. Unselected display options will be greyed out and unavailable. Keep in mind, changing the resolution makes displayed windows, text and other items appear small or larger. Options include, WQHD (2560 x 1440), FHD (1920 x 1080) _recommended setting_, HD+ (1600 x 900), WQXGA (2560 x 1600), WUXGA (1920 x 1200), or UWQHD (3440 x 1440). Select Done to commit the selected display setting. If the display resolution provided is not supported, then FHD (1920 x 1080) is selected by default and non-supported resolutions are greyed out in the DeX Display resolution screen. Industry example This example configures a tablet in DeX mode, so a bank employee can use it to help customers with day to day operations. For example opening a new account or checking account balances']\n",
      "{'source': 'all_processed_data.json', 'seq_num': 1225, 'title': 'DeX', 'url': 'https://docs.samsungknox.com/admin/knox-platform-for-enterprise/knox-service-plugin/configure-advanced-policies/dex', 'project': 'KSP', 'last_updated': '2023-07-26', 'family_tree': 'child', 'parent_id': '70720e43-494e-4f7a-a09c-584f2ea37e62', 'id': 'b356759a-a976-496c-9032-184730427229'}\n",
      "\n",
      "Score: 0.9864989643755366\n",
      "[\". #Other Kiosk enhancements The Knox Manage agent must be updated to the latest version for these new features to take effect. Bookmark in Multiple App Kiosk mode now supports file uploads and downloads. You can now set Kiosk Browser and Secure Browser to be automatically updated through profile policies. When adding or modifying a profile, you can find these settings in the following locations: Secure Browser: Android Enterprise > Secure Browser > App Auto Update. Kiosk Browser: Android Enterprise or Android Legacy > Kiosk > Kiosk app settings (select Kiosk Browser ) > App Auto Update. The loading status is now shown on the progress bar: Content #Increased maximum file size limit Previously, the maximum content size was 300 MB. In 20.08, this limit was increased to 1.0 GB. Knox E-FOTA license usage with Knox Suite In addition to the Knox E-FOTA admin portal, you can now view the Knox E-FOTA license usage in the following locations as well: License widget in the Knox Manage admin portal's Dashboard\"]\n",
      "{'source': 'all_processed_data.json', 'seq_num': 1044, 'title': 'Knox Manage 20.08 release notes', 'url': 'https://docs.samsungknox.com/admin/knox-manage/release-notes/20-08', 'project': 'KM', 'last_updated': '2023-07-26', 'family_tree': 'child', 'parent_id': 'aede7be4-3e2e-4dac-b671-6be82a4d0626', 'id': '634e3556-59f7-46e3-9876-fcccc81246a4'}\n",
      "\n",
      "Score: 0.9862280641853693\n",
      "['.The input value ranges from 1 to 52428800 (50MB). Maximum Size of Email Body (Kbyte) Select a maximum value for the email body size. This is only set once during the initial Exchange ActiveSync setup. &gt; Default Size of Email Body (Kbyte) Select the default value of the email body size. Note Select the setting after the Maximum Size of Email Body (Kbyte) setting. Email Account Configures the settings of a POP or IMAP email account. Click !add to add a configuration. You can add or edit up to 20 configurations when you save the profile. Policy Description Configuration ID Assign a unique ID for each email account setting. Description Enter a description for each email account setting. Remove available Allows users to delete the email account settings in Knox Workspace. Default Account Specifies to usage of the default account. User Information input method Select an input method for entering user information. &gt; Manual Input Select this to enter the email address manually']\n",
      "{'source': 'all_processed_data.json', 'seq_num': 899, 'title': 'Knox Workspace (Android Legacy) policies', 'url': 'https://docs.samsungknox.com/admin/knox-manage/configure/profile/configure-profile-policies/knox-workspace-android-legacy-policies', 'project': 'KM', 'last_updated': '2023-07-26', 'family_tree': 'child', 'parent_id': '6a3fe0cd-dbf3-4a81-ac4a-65f579d0dac2', 'id': '05248e42-9e06-4f86-b66a-f93a03a7cbb9'}\n",
      "\n",
      "Score: 0.9851859796863477\n",
      "['. Max TTL - The maximum amount of time, or time to live (TTL), in seconds, that a packet can exist in a network before being discarded by the router. The default value is 64, but a number from 49 to 255 can be entered. Packet size - The size of the packet to request, in bytes. The default value is 64, but a number from 4 to 1472 can be entered. If the device user sets Packet size as 10, Interval (ms) as 1000 ms, and Timeout (ms) as 500 ms, 10 pings are sent and the interval between each ping is set to 1000 ms. A successful test requires all 10 pings to be received within 500 ms each. The ping test continues even if the device user leaves the screen, but they can stop it at any time by tapping the stop button. Otherwise, the test automatically stops once the set conditions are met. A notification is also displayed in the notification bar for the duration of the test, which the user can tap to return to the test screen']\n",
      "{'source': 'all_processed_data.json', 'seq_num': 292, 'title': 'Use the agent app', 'url': 'https://docs.samsungknox.com/admin/knox-asset-intelligence/how-to-guides/use-the-agent-app', 'project': 'KAI', 'last_updated': '2023-09-06', 'family_tree': 'child', 'parent_id': '5e1fc1b0-0bdc-4a1f-9a43-e9d8bbe28070', 'id': 'ed5d473e-b02a-4797-9ced-fa6548a6b56b'}\n",
      "None\n",
      "##############################\n",
      "similar_docs_keyword\n",
      "##############################\n",
      "\n",
      "Score: 1.0\n",
      "[\". Invalid APK version name. Invalid APK version name. Please change the version name and try uploading again. 4090001 File too large. Max 4000 devices allowed per upload. Try splitting the device upload list to reduce the size of .csv you are uploading. Note that there is a max of 4000 devices allowed per upload. 4150000 File type is not supported. The file you are trying to upload is not supported. Knox Configure only accepts .csv files. App name cannot contain special characters. Rename the app so it does not contain any special or forbidden characters. App version is invalid. An app you are trying to upload is invalid. Verify that the version you're attempting to upload is correct. Try to re-upload the app again. CSV file is required. A system error occurred. Verify that you've attached a .csv file, try to re-attach the .csv and upload it again. If the problem persists, contact Samsung. 4040105 No CAPTCHA code entered. No CAPTCHA code was entered. Carefully enter the CAPTCHA code and submit\"]\n",
      "{'source': 'all_processed_data.json', 'seq_num': 433, 'title': 'Portal-side errors', 'url': 'https://docs.samsungknox.com/admin/knox-configure/knox-configure-wearables/troubleshoot/portal-side-errors', 'project': 'KC', 'last_updated': '2023-07-26', 'family_tree': 'child', 'parent_id': '291bc872-97b4-4b34-af40-dba8d4bb5292', 'id': '4511bd10-4429-418b-ac05-15a57c470300'}\n",
      "\n",
      "Score: 0.9815376777003425\n",
      "['. Max TTL - The maximum amount of time, or time to live (TTL), in seconds, that a packet can exist in a network before being discarded by the router. The default value is 64, but a number from 49 to 255 can be entered. Packet size - The size of the packet to request, in bytes. The default value is 64, but a number from 4 to 1472 can be entered. If the device user sets Packet size as 10, Interval (ms) as 1000 ms, and Timeout (ms) as 500 ms, 10 pings are sent and the interval between each ping is set to 1000 ms. A successful test requires all 10 pings to be received within 500 ms each. The ping test continues even if the device user leaves the screen, but they can stop it at any time by tapping the stop button. Otherwise, the test automatically stops once the set conditions are met. A notification is also displayed in the notification bar for the duration of the test, which the user can tap to return to the test screen']\n",
      "{'source': 'all_processed_data.json', 'seq_num': 292, 'title': 'Use the agent app', 'url': 'https://docs.samsungknox.com/admin/knox-asset-intelligence/how-to-guides/use-the-agent-app', 'project': 'KAI', 'last_updated': '2023-09-06', 'family_tree': 'child', 'parent_id': '5e1fc1b0-0bdc-4a1f-9a43-e9d8bbe28070', 'id': 'ed5d473e-b02a-4797-9ced-fa6548a6b56b'}\n",
      "\n",
      "Score: 0.8391050077115012\n",
      "['. Change this property to include lengths not enabled by default, or to optimize decoding performance for a certain number of symbols. Character-to-symbol mapping depends on barcode type. For example, some barcodes include additional checksum characters in their symbol counts. For more information on active symbol count, refer to Configure the Active Symbol Count. Depends on barcode type. Max. length Determines the maximum supported barcode length (active symbol count) to decode. Depends on barcode type. Inverted color recognition Enables recognition of inverted barcodes that have been printed using bright ink on a dark background. ON/OFF OFF Reduced quiet zone-size Enables scanning codes with smaller than normal quiet zones (white space before and after the code) than allowed by the barcode type specification. Use this if you experience issues when scanning codes that violate quiet zone specifications. Please note that turning on this feature may lead to false positive scans in some cases']\n",
      "{'source': 'all_processed_data.json', 'seq_num': 580, 'title': 'Scan engine settings: Scandit', 'url': 'https://docs.samsungknox.com/admin/knox-capture/knox-capture-scandit/scan-engine-settings-scandit', 'project': 'KCAP', 'last_updated': '2023-07-26', 'family_tree': 'child', 'parent_id': 'acdf0679-a0bb-4233-be7b-e68f6a0ed51a', 'id': '157c474c-79a6-4295-b5b8-ed0b5937c6f5'}\n",
      "\n",
      "Score: 0.8082443849281178\n",
      "['. Enter your device information in the sample file with the default headings. Save and try uploading the CSV file again. 4000014 The CSV file is empty. Ensure the CSV file uploading is not empty. 4000414 The EULA is invalid. A system error occurred. Refresh the page and load the EULA again. If the problem persists, contact Samsung. 4002009 EULA is already agreed to. The end user has already accepted the End User License Agreement (EULA). Do not prompt users to accept the EULA again. Failed to upload file. A system error occurred. Try to upload the file again. If the problem persists, contact Samsung. An app with this name already exists. Ensure the name of the app you are uploading does not already exist in Knox Configure. Re-name the app if necessary. Invalid APK version name. Invalid APK version name. Please change the version name and try uploading again. 4090001 File too large. Max 4000 devices allowed per upload. Try splitting the device upload list to reduce the size of .csv you are uploading']\n",
      "{'source': 'all_processed_data.json', 'seq_num': 433, 'title': 'Portal-side errors', 'url': 'https://docs.samsungknox.com/admin/knox-configure/knox-configure-wearables/troubleshoot/portal-side-errors', 'project': 'KC', 'last_updated': '2023-07-26', 'family_tree': 'child', 'parent_id': '291bc872-97b4-4b34-af40-dba8d4bb5292', 'id': '7e88ce07-12b4-4b75-a849-a50d6113afe3'}\n",
      "\n",
      "Score: 0.7808699150910374\n",
      "['. PasswordPolicy setMaximumNumericSequenceLength AE Device Password Requirements Max time to screen lock 0 minutes 15 minutes KNOX-11-000500 setMaximumTimeToLock AE Device Password Requirements Max password failures fo local wipe 0+ 10 KNOX-11-000700 setMaximumFailedPasswordsForWipe AE * Device Restrictions Installs from unknown sources globally Allow/ Disallow Disallow KNOX-11-001300 addUserRestriction DISALLOW_INSTALL_UNKNOWN_SOURCES_GLOBALLY AE Device Restrictions Trust agents Disable/Enable Disable KNOX-11-003900 setKeyguardDisabledFeatures KEYGUARD_DISABLE_TRUST_AGENTS AE * Device Restrictions Face Disable/Enable Disable KNOX-11-004100 setKeyguardDisabledFeatures KEYGUARD_DISABLE_FACE AE * Device Restrictions Debugging features Allow/ Disallow Disallow KNOX-11-005100 addUserRestriction DISALLOW_DEBUGGING_FEATURES AE * Device Restrictions USB file transfer Allow/ Disallow Disallow KNOX-11-006500, KNOX-11-006900 addUserRestriction DISALLOW_USB_FILE_TRANSFER KPE Device Wi-Fi Unsecured hotspot Allow/']\n",
      "{'source': 'all_processed_data.json', 'seq_num': 1251, 'title': 'STIG 11 COPE compliance', 'url': 'https://docs.samsungknox.com/admin/knox-platform-for-enterprise/knox-service-plugin/references/stig-11/stig-11-cope-compliance', 'project': 'KSP', 'last_updated': '2023-07-26', 'family_tree': 'child', 'parent_id': 'deafa5a8-bc23-42bb-ba99-161c505767e1', 'id': '133bc9d4-3635-4ff2-85e2-8a44ee83d377'}\n",
      "None\n",
      "##############################\n",
      "similar_docs\n",
      "##############################\n",
      "\n",
      "Score: 0.015749379652605457\n",
      "['. Max TTL - The maximum amount of time, or time to live (TTL), in seconds, that a packet can exist in a network before being discarded by the router. The default value is 64, but a number from 49 to 255 can be entered. Packet size - The size of the packet to request, in bytes. The default value is 64, but a number from 4 to 1472 can be entered. If the device user sets Packet size as 10, Interval (ms) as 1000 ms, and Timeout (ms) as 500 ms, 10 pings are sent and the interval between each ping is set to 1000 ms. A successful test requires all 10 pings to be received within 500 ms each. The ping test continues even if the device user leaves the screen, but they can stop it at any time by tapping the stop button. Otherwise, the test automatically stops once the set conditions are met. A notification is also displayed in the notification bar for the duration of the test, which the user can tap to return to the test screen']\n",
      "{'source': 'all_processed_data.json', 'seq_num': 292, 'title': 'Use the agent app', 'url': 'https://docs.samsungknox.com/admin/knox-asset-intelligence/how-to-guides/use-the-agent-app', 'project': 'KAI', 'last_updated': '2023-09-06', 'family_tree': 'child', 'parent_id': '5e1fc1b0-0bdc-4a1f-9a43-e9d8bbe28070', 'id': 'ed5d473e-b02a-4797-9ced-fa6548a6b56b'}\n",
      "\n",
      "Score: 0.008360655737704918\n",
      "['. To delete a video file, click next to the name of the uploaded video file. Note The device control command must be transferred to the device to apply a video to it. &gt; Session timeout Allows the use of the session timeout feature for the Kiosk Browser. If the user does not use the device for a set time, the device deletes user information, such as the cache and cookies, in the device Kiosk Browser and goes to the main page URL: Apply &mdash; Enables the session timeout feature for the browser. &gt;&gt; Time (sec) Set the session timeout in seconds for the Kiosk Browser']\n",
      "{'source': 'all_processed_data.json', 'seq_num': 893, 'title': 'Android Enterprise policies', 'url': 'https://docs.samsungknox.com/admin/knox-manage/configure/profile/configure-profile-policies/android-enterprise-policies', 'project': 'KM', 'last_updated': '2023-09-06', 'family_tree': 'child', 'parent_id': 'b72bb3cc-e122-413a-8b84-5681f19c49eb', 'id': 'e326fdce-00d4-41b8-829e-f68519856abd'}\n",
      "\n",
      "Score: 0.008225806451612904\n",
      "['. 7. The device now launches DeX automatically when it is plugged in to an HDMI cable. 8. Once the device is connected to DeX, a Display resolution screen displays. Select a single resolution value for the connected display. Unselected display options will be greyed out and unavailable. Keep in mind, changing the resolution makes displayed windows, text and other items appear small or larger. Options include, WQHD (2560 x 1440), FHD (1920 x 1080) _recommended setting_, HD+ (1600 x 900), WQXGA (2560 x 1600), WUXGA (1920 x 1200), or UWQHD (3440 x 1440). Select Done to commit the selected display setting. If the display resolution provided is not supported, then FHD (1920 x 1080) is selected by default and non-supported resolutions are greyed out in the DeX Display resolution screen. Industry example This example configures a tablet in DeX mode, so a bank employee can use it to help customers with day to day operations. For example opening a new account or checking account balances']\n",
      "{'source': 'all_processed_data.json', 'seq_num': 1225, 'title': 'DeX', 'url': 'https://docs.samsungknox.com/admin/knox-platform-for-enterprise/knox-service-plugin/configure-advanced-policies/dex', 'project': 'KSP', 'last_updated': '2023-07-26', 'family_tree': 'child', 'parent_id': '70720e43-494e-4f7a-a09c-584f2ea37e62', 'id': 'b356759a-a976-496c-9032-184730427229'}\n",
      "\n",
      "Score: 0.008095238095238095\n",
      "[\". #Other Kiosk enhancements The Knox Manage agent must be updated to the latest version for these new features to take effect. Bookmark in Multiple App Kiosk mode now supports file uploads and downloads. You can now set Kiosk Browser and Secure Browser to be automatically updated through profile policies. When adding or modifying a profile, you can find these settings in the following locations: Secure Browser: Android Enterprise > Secure Browser > App Auto Update. Kiosk Browser: Android Enterprise or Android Legacy > Kiosk > Kiosk app settings (select Kiosk Browser ) > App Auto Update. The loading status is now shown on the progress bar: Content #Increased maximum file size limit Previously, the maximum content size was 300 MB. In 20.08, this limit was increased to 1.0 GB. Knox E-FOTA license usage with Knox Suite In addition to the Knox E-FOTA admin portal, you can now view the Knox E-FOTA license usage in the following locations as well: License widget in the Knox Manage admin portal's Dashboard\"]\n",
      "{'source': 'all_processed_data.json', 'seq_num': 1044, 'title': 'Knox Manage 20.08 release notes', 'url': 'https://docs.samsungknox.com/admin/knox-manage/release-notes/20-08', 'project': 'KM', 'last_updated': '2023-07-26', 'family_tree': 'child', 'parent_id': 'aede7be4-3e2e-4dac-b671-6be82a4d0626', 'id': '634e3556-59f7-46e3-9876-fcccc81246a4'}\n",
      "\n",
      "Score: 0.008032786885245903\n",
      "[\". Invalid APK version name. Invalid APK version name. Please change the version name and try uploading again. 4090001 File too large. Max 4000 devices allowed per upload. Try splitting the device upload list to reduce the size of .csv you are uploading. Note that there is a max of 4000 devices allowed per upload. 4150000 File type is not supported. The file you are trying to upload is not supported. Knox Configure only accepts .csv files. App name cannot contain special characters. Rename the app so it does not contain any special or forbidden characters. App version is invalid. An app you are trying to upload is invalid. Verify that the version you're attempting to upload is correct. Try to re-upload the app again. CSV file is required. A system error occurred. Verify that you've attached a .csv file, try to re-attach the .csv and upload it again. If the problem persists, contact Samsung. 4040105 No CAPTCHA code entered. No CAPTCHA code was entered. Carefully enter the CAPTCHA code and submit\"]\n",
      "{'source': 'all_processed_data.json', 'seq_num': 433, 'title': 'Portal-side errors', 'url': 'https://docs.samsungknox.com/admin/knox-configure/knox-configure-wearables/troubleshoot/portal-side-errors', 'project': 'KC', 'last_updated': '2023-07-26', 'family_tree': 'child', 'parent_id': '291bc872-97b4-4b34-af40-dba8d4bb5292', 'id': '4511bd10-4429-418b-ac05-15a57c470300'}\n",
      "None\n",
      "\n",
      "==========  Results  ==========\n",
      "\n",
      "1. question: vidio max size?\n",
      "2. # documents: 5\n",
      "3. Documents: \n",
      "\n",
      "\n",
      "-----------------------------------------------\n",
      "1. Chunk: 930 Characters\n",
      "-----------------------------------------------\n",
      ". Max TTL - The maximum amount of time, or time to live (TTL), in seconds, that a packet can exist\n",
      "in a network before being discarded by the router. The default value is 64, but a number from 49 to\n",
      "255 can be entered. Packet size - The size of the packet to request, in bytes. The default value is\n",
      "64, but a number from 4 to 1472 can be entered. If the device user sets Packet size as 10, Interval\n",
      "(ms) as 1000 ms, and Timeout (ms) as 500 ms, 10 pings are sent and the interval between each ping is\n",
      "set to 1000 ms. A successful test requires all 10 pings to be received within 500 ms each. The ping\n",
      "test continues even if the device user leaves the screen, but they can stop it at any time by\n",
      "tapping the stop button. Otherwise, the test automatically stops once the set conditions are met. A\n",
      "notification is also displayed in the notification bar for the duration of the test, which the user\n",
      "can tap to return to the test screen\n",
      "metadata:\n",
      " {'source': 'all_processed_data.json', 'seq_num': 292, 'title': 'Use the agent app', 'url':\n",
      "'https://docs.samsungknox.com/admin/knox-asset-intelligence/how-to-guides/use-the-agent-app',\n",
      "'project': 'KAI', 'last_updated': '2023-09-06', 'family_tree': 'child', 'parent_id':\n",
      "'5e1fc1b0-0bdc-4a1f-9a43-e9d8bbe28070', 'id': 'ed5d473e-b02a-4797-9ced-fa6548a6b56b',\n",
      "'orig_elements': ''}\n",
      "\n",
      "-----------------------------------------------\n",
      "2. Chunk: 579 Characters\n",
      "-----------------------------------------------\n",
      ". To delete a video file, click next to the name of the uploaded video file. Note The device control\n",
      "command must be transferred to the device to apply a video to it. &gt; Session timeout Allows the\n",
      "use of the session timeout feature for the Kiosk Browser. If the user does not use the device for a\n",
      "set time, the device deletes user information, such as the cache and cookies, in the device Kiosk\n",
      "Browser and goes to the main page URL: Apply &mdash; Enables the session timeout feature for the\n",
      "browser. &gt;&gt; Time (sec) Set the session timeout in seconds for the Kiosk Browser\n",
      "metadata:\n",
      " {'source': 'all_processed_data.json', 'seq_num': 893, 'title': 'Android Enterprise policies',\n",
      "'url': 'https://docs.samsungknox.com/admin/knox-manage/configure/profile/configure-profile-\n",
      "policies/android-enterprise-policies', 'project': 'KM', 'last_updated': '2023-09-06', 'family_tree':\n",
      "'child', 'parent_id': 'b72bb3cc-e122-413a-8b84-5681f19c49eb', 'id':\n",
      "'e326fdce-00d4-41b8-829e-f68519856abd', 'orig_elements': ''}\n",
      "\n",
      "-----------------------------------------------\n",
      "3. Chunk: 993 Characters\n",
      "-----------------------------------------------\n",
      ". 7. The device now launches DeX automatically when it is plugged in to an HDMI cable. 8. Once the\n",
      "device is connected to DeX, a Display resolution screen displays. Select a single resolution value\n",
      "for the connected display. Unselected display options will be greyed out and unavailable. Keep in\n",
      "mind, changing the resolution makes displayed windows, text and other items appear small or larger.\n",
      "Options include, WQHD (2560 x 1440), FHD (1920 x 1080) _recommended setting_, HD+ (1600 x 900),\n",
      "WQXGA (2560 x 1600), WUXGA (1920 x 1200), or UWQHD (3440 x 1440). Select Done to commit the selected\n",
      "display setting. If the display resolution provided is not supported, then FHD (1920 x 1080) is\n",
      "selected by default and non-supported resolutions are greyed out in the DeX Display resolution\n",
      "screen. Industry example This example configures a tablet in DeX mode, so a bank employee can use it\n",
      "to help customers with day to day operations. For example opening a new account or checking account\n",
      "balances\n",
      "metadata:\n",
      " {'source': 'all_processed_data.json', 'seq_num': 1225, 'title': 'DeX', 'url':\n",
      "'https://docs.samsungknox.com/admin/knox-platform-for-enterprise/knox-service-plugin/configure-\n",
      "advanced-policies/dex', 'project': 'KSP', 'last_updated': '2023-07-26', 'family_tree': 'child',\n",
      "'parent_id': '70720e43-494e-4f7a-a09c-584f2ea37e62', 'id': 'b356759a-a976-496c-9032-184730427229',\n",
      "'orig_elements': ''}\n",
      "\n",
      "-----------------------------------------------\n",
      "4. Chunk: 1013 Characters\n",
      "-----------------------------------------------\n",
      ". #Other Kiosk enhancements The Knox Manage agent must be updated to the latest version for these\n",
      "new features to take effect. Bookmark in Multiple App Kiosk mode now supports file uploads and\n",
      "downloads. You can now set Kiosk Browser and Secure Browser to be automatically updated through\n",
      "profile policies. When adding or modifying a profile, you can find these settings in the following\n",
      "locations: Secure Browser: Android Enterprise > Secure Browser > App Auto Update. Kiosk Browser:\n",
      "Android Enterprise or Android Legacy > Kiosk > Kiosk app settings (select Kiosk Browser ) > App Auto\n",
      "Update. The loading status is now shown on the progress bar: Content #Increased maximum file size\n",
      "limit Previously, the maximum content size was 300 MB. In 20.08, this limit was increased to 1.0 GB.\n",
      "Knox E-FOTA license usage with Knox Suite In addition to the Knox E-FOTA admin portal, you can now\n",
      "view the Knox E-FOTA license usage in the following locations as well: License widget in the Knox\n",
      "Manage admin portal's Dashboard\n",
      "metadata:\n",
      " {'source': 'all_processed_data.json', 'seq_num': 1044, 'title': 'Knox Manage 20.08 release notes',\n",
      "'url': 'https://docs.samsungknox.com/admin/knox-manage/release-notes/20-08', 'project': 'KM',\n",
      "'last_updated': '2023-07-26', 'family_tree': 'child', 'parent_id':\n",
      "'aede7be4-3e2e-4dac-b671-6be82a4d0626', 'id': '634e3556-59f7-46e3-9876-fcccc81246a4',\n",
      "'orig_elements': ''}\n",
      "\n",
      "-----------------------------------------------\n",
      "5. Chunk: 1008 Characters\n",
      "-----------------------------------------------\n",
      ". Invalid APK version name. Invalid APK version name. Please change the version name and try\n",
      "uploading again. 4090001 File too large. Max 4000 devices allowed per upload. Try splitting the\n",
      "device upload list to reduce the size of .csv you are uploading. Note that there is a max of 4000\n",
      "devices allowed per upload. 4150000 File type is not supported. The file you are trying to upload is\n",
      "not supported. Knox Configure only accepts .csv files. App name cannot contain special characters.\n",
      "Rename the app so it does not contain any special or forbidden characters. App version is invalid.\n",
      "An app you are trying to upload is invalid. Verify that the version you're attempting to upload is\n",
      "correct. Try to re-upload the app again. CSV file is required. A system error occurred. Verify that\n",
      "you've attached a .csv file, try to re-attach the .csv and upload it again. If the problem persists,\n",
      "contact Samsung. 4040105 No CAPTCHA code entered. No CAPTCHA code was entered. Carefully enter the\n",
      "CAPTCHA code and submit\n",
      "metadata:\n",
      " {'source': 'all_processed_data.json', 'seq_num': 433, 'title': 'Portal-side errors', 'url':\n",
      "'https://docs.samsungknox.com/admin/knox-configure/knox-configure-wearables/troubleshoot/portal-\n",
      "side-errors', 'project': 'KC', 'last_updated': '2023-07-26', 'family_tree': 'child', 'parent_id':\n",
      "'291bc872-97b4-4b34-af40-dba8d4bb5292', 'id': '4511bd10-4429-418b-ac05-15a57c470300',\n",
      "'orig_elements': ''}\n"
     ]
    }
   ],
   "source": [
    "#query = \"중지된 경우 이체\"\n",
    "query = \"vidio max size?\"\n",
    "search_hybrid_result = opensearch_hybrid_retriever.invoke(query)\n",
    "\n",
    "print(\"\\n==========  Results  ==========\\n\")\n",
    "print(f'1. question: {query}')\n",
    "print(f'2. # documents: {len(search_hybrid_result)}')\n",
    "print(\"3. Documents: \\n\")\n",
    "\n",
    "show_context_used(search_hybrid_result)"
   ]
  },
  {
   "cell_type": "markdown",
   "id": "a981abe7-5208-48f5-a9cc-8c557e9941ca",
   "metadata": {},
   "source": [
    "## 5. RAG"
   ]
  },
  {
   "cell_type": "code",
   "execution_count": 90,
   "id": "0165a6ae-ea4e-415f-a3f9-c6c05439869a",
   "metadata": {
    "tags": []
   },
   "outputs": [],
   "source": [
    "from textwrap import dedent"
   ]
  },
  {
   "cell_type": "markdown",
   "id": "b490df1f-8113-4dd1-a578-a3e1a6918fde",
   "metadata": {
    "tags": []
   },
   "source": [
    "### Prompting\n",
    "- [TIP] Prompt의 instruction의 경우 한글보다 영어로 했을 때 더 좋은 결과를 얻을 수 있습니다."
   ]
  },
  {
   "cell_type": "code",
   "execution_count": 91,
   "id": "6c76b0ad-c6f6-4a61-960d-7956e14e6550",
   "metadata": {
    "tags": []
   },
   "outputs": [],
   "source": [
    "system_prompt = dedent(\n",
    "    \"\"\"\n",
    "    You are a master answer bot designed to answer user's questions.\n",
    "    I'm going to give you contexts which consist of texts, tables and images.\n",
    "    Read the contexts carefully, because I'm going to ask you a question about it.\n",
    "    \"\"\"\n",
    ")\n",
    "\n",
    "human_prompt = dedent(\n",
    "    \"\"\"\n",
    "    Here is the contexts as texts: <contexts>{contexts}</contexts>\n",
    "\n",
    "    First, find a few paragraphs or sentences from the contexts that are most relevant to answering the question.\n",
    "    Then, answer the question as much as you can.\n",
    "\n",
    "    Skip the preamble and go straight into the answer.\n",
    "    Don't insert any XML tag such as <contexts> and </contexts> when answering.\n",
    "    Answer in Korean.\n",
    "\n",
    "    Here is the question: <question>{question}</question>\n",
    "\n",
    "    If the question cannot be answered by the contexts, say \"No relevant contexts\".\n",
    "    \"\"\"\n",
    ")"
   ]
  },
  {
   "cell_type": "markdown",
   "id": "c66157a6-aec8-4555-a90f-1178e6f4f6e0",
   "metadata": {},
   "source": [
    "### Update Search Params (Optional)"
   ]
  },
  {
   "cell_type": "code",
   "execution_count": 92,
   "id": "64df2daf-8b42-472a-885f-97320ee98132",
   "metadata": {
    "tags": []
   },
   "outputs": [],
   "source": [
    "from utils.rag import rag_chain\n",
    "from langchain.schema.output_parser import StrOutputParser"
   ]
  },
  {
   "cell_type": "code",
   "execution_count": 93,
   "id": "d2697230-6962-43d8-8917-ba9daa4295bb",
   "metadata": {
    "tags": []
   },
   "outputs": [],
   "source": [
    "opensearch_hybrid_retriever.update_search_params(\n",
    "    k=10,\n",
    "    minimum_should_match=0,\n",
    "    #filter=[\n",
    "    #    {\"term\": {\"metadata.project\": \"KS\"}},\n",
    "    #],\n",
    "    filter=[],\n",
    "    async_mode=True,\n",
    "    verbose=False\n",
    ")"
   ]
  },
  {
   "cell_type": "markdown",
   "id": "aee26c22-b674-4f4f-a87b-29508e336fda",
   "metadata": {},
   "source": [
    "### Request"
   ]
  },
  {
   "cell_type": "code",
   "execution_count": 94,
   "id": "31f59782-a7b8-4677-a51b-83556d5011f2",
   "metadata": {
    "tags": []
   },
   "outputs": [],
   "source": [
    "qa = rag_chain(\n",
    "    llm_text=llm_text,\n",
    "    retriever=opensearch_hybrid_retriever,\n",
    "    system_prompt=system_prompt,\n",
    "    human_prompt=human_prompt,\n",
    "    return_context=True,\n",
    "    verbose=False,\n",
    "    #multi_turn=True\n",
    ")"
   ]
  },
  {
   "cell_type": "code",
   "execution_count": 95,
   "id": "390ad324-40b3-4bcb-92b9-50eb080492a5",
   "metadata": {
    "tags": []
   },
   "outputs": [
    {
     "name": "stdout",
     "output_type": "stream",
     "text": [
      "관련 정보를 찾았습니다:\n",
      "\n",
      "\"You can add only one video file in the MP4 or MKV format. The video file must be less than 50 MB.\"\n",
      "\n",
      "답변:\n",
      "\n",
      "비디오 파일의 최대 크기는 50MB입니다. MP4나 MKV 형식의 비디오 파일 1개만 추가할 수 있으며, 파일 크기는 50MB를 초과할 수 없습니다."
     ]
    },
    {
     "data": {
      "text/plain": [
       "'관련 정보를 찾았습니다:\\n\\n\"You can add only one video file in the MP4 or MKV format. The video file must be less than 50 MB.\"\\n\\n답변:\\n\\n비디오 파일의 최대 크기는 50MB입니다. MP4나 MKV 형식의 비디오 파일 1개만 추가할 수 있으며, 파일 크기는 50MB를 초과할 수 없습니다.'"
      ]
     },
     "execution_count": 95,
     "metadata": {},
     "output_type": "execute_result"
    }
   ],
   "source": [
    "#query = \"중지된 경우 이체\"\n",
    "query = \"vidio max size?\"\n",
    "\n",
    "response, contexts = qa.invoke(\n",
    "    query = query\n",
    ")\n",
    "\n",
    "response"
   ]
  },
  {
   "cell_type": "code",
   "execution_count": 70,
   "id": "14be2ca3-f318-423a-a68d-393c0e14f26d",
   "metadata": {
    "tags": []
   },
   "outputs": [
    {
     "name": "stdout",
     "output_type": "stream",
     "text": [
      "\n",
      "-----------------------------------------------\n",
      "1. Chunk: 930 Characters\n",
      "-----------------------------------------------\n",
      ". Max TTL - The maximum amount of time, or time to live (TTL), in seconds, that a packet can exist\n",
      "in a network before being discarded by the router. The default value is 64, but a number from 49 to\n",
      "255 can be entered. Packet size - The size of the packet to request, in bytes. The default value is\n",
      "64, but a number from 4 to 1472 can be entered. If the device user sets Packet size as 10, Interval\n",
      "(ms) as 1000 ms, and Timeout (ms) as 500 ms, 10 pings are sent and the interval between each ping is\n",
      "set to 1000 ms. A successful test requires all 10 pings to be received within 500 ms each. The ping\n",
      "test continues even if the device user leaves the screen, but they can stop it at any time by\n",
      "tapping the stop button. Otherwise, the test automatically stops once the set conditions are met. A\n",
      "notification is also displayed in the notification bar for the duration of the test, which the user\n",
      "can tap to return to the test screen\n",
      "metadata:\n",
      " {'source': 'all_processed_data.json', 'seq_num': 292, 'title': 'Use the agent app', 'url':\n",
      "'https://docs.samsungknox.com/admin/knox-asset-intelligence/how-to-guides/use-the-agent-app',\n",
      "'project': 'KAI', 'last_updated': '2023-09-06', 'family_tree': 'child', 'parent_id':\n",
      "'5e1fc1b0-0bdc-4a1f-9a43-e9d8bbe28070', 'id': 'ed5d473e-b02a-4797-9ced-fa6548a6b56b',\n",
      "'orig_elements': ''}\n",
      "\n",
      "-----------------------------------------------\n",
      "2. Chunk: 579 Characters\n",
      "-----------------------------------------------\n",
      ". To delete a video file, click next to the name of the uploaded video file. Note The device control\n",
      "command must be transferred to the device to apply a video to it. &gt; Session timeout Allows the\n",
      "use of the session timeout feature for the Kiosk Browser. If the user does not use the device for a\n",
      "set time, the device deletes user information, such as the cache and cookies, in the device Kiosk\n",
      "Browser and goes to the main page URL: Apply &mdash; Enables the session timeout feature for the\n",
      "browser. &gt;&gt; Time (sec) Set the session timeout in seconds for the Kiosk Browser\n",
      "metadata:\n",
      " {'source': 'all_processed_data.json', 'seq_num': 893, 'title': 'Android Enterprise policies',\n",
      "'url': 'https://docs.samsungknox.com/admin/knox-manage/configure/profile/configure-profile-\n",
      "policies/android-enterprise-policies', 'project': 'KM', 'last_updated': '2023-09-06', 'family_tree':\n",
      "'child', 'parent_id': 'b72bb3cc-e122-413a-8b84-5681f19c49eb', 'id':\n",
      "'e326fdce-00d4-41b8-829e-f68519856abd', 'orig_elements': ''}\n",
      "\n",
      "-----------------------------------------------\n",
      "3. Chunk: 993 Characters\n",
      "-----------------------------------------------\n",
      ". 7. The device now launches DeX automatically when it is plugged in to an HDMI cable. 8. Once the\n",
      "device is connected to DeX, a Display resolution screen displays. Select a single resolution value\n",
      "for the connected display. Unselected display options will be greyed out and unavailable. Keep in\n",
      "mind, changing the resolution makes displayed windows, text and other items appear small or larger.\n",
      "Options include, WQHD (2560 x 1440), FHD (1920 x 1080) _recommended setting_, HD+ (1600 x 900),\n",
      "WQXGA (2560 x 1600), WUXGA (1920 x 1200), or UWQHD (3440 x 1440). Select Done to commit the selected\n",
      "display setting. If the display resolution provided is not supported, then FHD (1920 x 1080) is\n",
      "selected by default and non-supported resolutions are greyed out in the DeX Display resolution\n",
      "screen. Industry example This example configures a tablet in DeX mode, so a bank employee can use it\n",
      "to help customers with day to day operations. For example opening a new account or checking account\n",
      "balances\n",
      "metadata:\n",
      " {'source': 'all_processed_data.json', 'seq_num': 1225, 'title': 'DeX', 'url':\n",
      "'https://docs.samsungknox.com/admin/knox-platform-for-enterprise/knox-service-plugin/configure-\n",
      "advanced-policies/dex', 'project': 'KSP', 'last_updated': '2023-07-26', 'family_tree': 'child',\n",
      "'parent_id': '70720e43-494e-4f7a-a09c-584f2ea37e62', 'id': 'b356759a-a976-496c-9032-184730427229',\n",
      "'orig_elements': ''}\n",
      "\n",
      "-----------------------------------------------\n",
      "4. Chunk: 1013 Characters\n",
      "-----------------------------------------------\n",
      ". #Other Kiosk enhancements The Knox Manage agent must be updated to the latest version for these\n",
      "new features to take effect. Bookmark in Multiple App Kiosk mode now supports file uploads and\n",
      "downloads. You can now set Kiosk Browser and Secure Browser to be automatically updated through\n",
      "profile policies. When adding or modifying a profile, you can find these settings in the following\n",
      "locations: Secure Browser: Android Enterprise > Secure Browser > App Auto Update. Kiosk Browser:\n",
      "Android Enterprise or Android Legacy > Kiosk > Kiosk app settings (select Kiosk Browser ) > App Auto\n",
      "Update. The loading status is now shown on the progress bar: Content #Increased maximum file size\n",
      "limit Previously, the maximum content size was 300 MB. In 20.08, this limit was increased to 1.0 GB.\n",
      "Knox E-FOTA license usage with Knox Suite In addition to the Knox E-FOTA admin portal, you can now\n",
      "view the Knox E-FOTA license usage in the following locations as well: License widget in the Knox\n",
      "Manage admin portal's Dashboard\n",
      "metadata:\n",
      " {'source': 'all_processed_data.json', 'seq_num': 1044, 'title': 'Knox Manage 20.08 release notes',\n",
      "'url': 'https://docs.samsungknox.com/admin/knox-manage/release-notes/20-08', 'project': 'KM',\n",
      "'last_updated': '2023-07-26', 'family_tree': 'child', 'parent_id':\n",
      "'aede7be4-3e2e-4dac-b671-6be82a4d0626', 'id': '634e3556-59f7-46e3-9876-fcccc81246a4',\n",
      "'orig_elements': ''}\n",
      "\n",
      "-----------------------------------------------\n",
      "5. Chunk: 1008 Characters\n",
      "-----------------------------------------------\n",
      ". Invalid APK version name. Invalid APK version name. Please change the version name and try\n",
      "uploading again. 4090001 File too large. Max 4000 devices allowed per upload. Try splitting the\n",
      "device upload list to reduce the size of .csv you are uploading. Note that there is a max of 4000\n",
      "devices allowed per upload. 4150000 File type is not supported. The file you are trying to upload is\n",
      "not supported. Knox Configure only accepts .csv files. App name cannot contain special characters.\n",
      "Rename the app so it does not contain any special or forbidden characters. App version is invalid.\n",
      "An app you are trying to upload is invalid. Verify that the version you're attempting to upload is\n",
      "correct. Try to re-upload the app again. CSV file is required. A system error occurred. Verify that\n",
      "you've attached a .csv file, try to re-attach the .csv and upload it again. If the problem persists,\n",
      "contact Samsung. 4040105 No CAPTCHA code entered. No CAPTCHA code was entered. Carefully enter the\n",
      "CAPTCHA code and submit\n",
      "metadata:\n",
      " {'source': 'all_processed_data.json', 'seq_num': 433, 'title': 'Portal-side errors', 'url':\n",
      "'https://docs.samsungknox.com/admin/knox-configure/knox-configure-wearables/troubleshoot/portal-\n",
      "side-errors', 'project': 'KC', 'last_updated': '2023-07-26', 'family_tree': 'child', 'parent_id':\n",
      "'291bc872-97b4-4b34-af40-dba8d4bb5292', 'id': '4511bd10-4429-418b-ac05-15a57c470300',\n",
      "'orig_elements': ''}\n",
      "\n",
      "-----------------------------------------------\n",
      "6. Chunk: 990 Characters\n",
      "-----------------------------------------------\n",
      ".The input value ranges from 1 to 52428800 (50MB). Maximum Size of Email Body (Kbyte) Select a\n",
      "maximum value for the email body size. This is only set once during the initial Exchange ActiveSync\n",
      "setup. &gt; Default Size of Email Body (Kbyte) Select the default value of the email body size. Note\n",
      "Select the setting after the Maximum Size of Email Body (Kbyte) setting. Email Account Configures\n",
      "the settings of a POP or IMAP email account. Click !add to add a configuration. You can add or edit\n",
      "up to 20 configurations when you save the profile. Policy Description Configuration ID Assign a\n",
      "unique ID for each email account setting. Description Enter a description for each email account\n",
      "setting. Remove available Allows users to delete the email account settings in Knox Workspace.\n",
      "Default Account Specifies to usage of the default account. User Information input method Select an\n",
      "input method for entering user information. &gt; Manual Input Select this to enter the email address\n",
      "manually\n",
      "metadata:\n",
      " {'source': 'all_processed_data.json', 'seq_num': 899, 'title': 'Knox Workspace (Android Legacy)\n",
      "policies', 'url': 'https://docs.samsungknox.com/admin/knox-manage/configure/profile/configure-\n",
      "profile-policies/knox-workspace-android-legacy-policies', 'project': 'KM', 'last_updated':\n",
      "'2023-07-26', 'family_tree': 'child', 'parent_id': '6a3fe0cd-dbf3-4a81-ac4a-65f579d0dac2', 'id':\n",
      "'05248e42-9e06-4f86-b66a-f93a03a7cbb9', 'orig_elements': ''}\n",
      "\n",
      "-----------------------------------------------\n",
      "7. Chunk: 1004 Characters\n",
      "-----------------------------------------------\n",
      ". Change this property to include lengths not enabled by default, or to optimize decoding\n",
      "performance for a certain number of symbols. Character-to-symbol mapping depends on barcode type.\n",
      "For example, some barcodes include additional checksum characters in their symbol counts. For more\n",
      "information on active symbol count, refer to Configure the Active Symbol Count. Depends on barcode\n",
      "type. Max. length Determines the maximum supported barcode length (active symbol count) to decode.\n",
      "Depends on barcode type. Inverted color recognition Enables recognition of inverted barcodes that\n",
      "have been printed using bright ink on a dark background. ON/OFF OFF Reduced quiet zone-size Enables\n",
      "scanning codes with smaller than normal quiet zones (white space before and after the code) than\n",
      "allowed by the barcode type specification. Use this if you experience issues when scanning codes\n",
      "that violate quiet zone specifications. Please note that turning on this feature may lead to false\n",
      "positive scans in some cases\n",
      "metadata:\n",
      " {'source': 'all_processed_data.json', 'seq_num': 580, 'title': 'Scan engine settings: Scandit',\n",
      "'url': 'https://docs.samsungknox.com/admin/knox-capture/knox-capture-scandit/scan-engine-settings-\n",
      "scandit', 'project': 'KCAP', 'last_updated': '2023-07-26', 'family_tree': 'child', 'parent_id':\n",
      "'acdf0679-a0bb-4233-be7b-e68f6a0ed51a', 'id': '157c474c-79a6-4295-b5b8-ed0b5937c6f5',\n",
      "'orig_elements': ''}\n",
      "\n",
      "-----------------------------------------------\n",
      "8. Chunk: 947 Characters\n",
      "-----------------------------------------------\n",
      ". To upload a video file, click Add and select a file. To delete a video file, click next to the\n",
      "name of the uploaded video file. Note The device control command must be transferred to the device\n",
      "to apply a video to it. &gt; Session timeout Allows the use of the session timeout feature for the\n",
      "Kiosk Browser. If the user does not use the device for a set time, the device deletes user\n",
      "information, such as the cache and cookies, in the device Kiosk Browser and goes to the main page\n",
      "URL. Apply &mdash; Enable the session timeout feature for the browser. &gt;&gt; Time (sec) Set the\n",
      "session timeout in seconds for the Kiosk Browser. The value must be between 10, 3600 seconds. The\n",
      "default value is 1800 seconds. &gt; Text Copy Allows the copying of text strings in the Kiosk\n",
      "Browser. &gt; Javascript Allows the running of the JavaScript contained in websites. &gt; Http Proxy\n",
      "Allows the use of an HTTP proxy for communications in the Kiosk Browser\n",
      "metadata:\n",
      " {'source': 'all_processed_data.json', 'seq_num': 894, 'title': 'Android Legacy policies', 'url':\n",
      "'https://docs.samsungknox.com/admin/knox-manage/configure/profile/configure-profile-\n",
      "policies/android-legacy-policies', 'project': 'KM', 'last_updated': '2023-07-26', 'family_tree':\n",
      "'child', 'parent_id': '56cb2880-3025-43fd-ab14-3d8346bc8ec7', 'id':\n",
      "'a4f3bc0a-163d-430c-86be-2fbd944b726b', 'orig_elements': ''}\n",
      "\n",
      "-----------------------------------------------\n",
      "9. Chunk: 1013 Characters\n",
      "-----------------------------------------------\n",
      ". Enter your device information in the sample file with the default headings. Save and try uploading\n",
      "the CSV file again. 4000014 The CSV file is empty. Ensure the CSV file uploading is not empty.\n",
      "4000414 The EULA is invalid. A system error occurred. Refresh the page and load the EULA again. If\n",
      "the problem persists, contact Samsung. 4002009 EULA is already agreed to. The end user has already\n",
      "accepted the End User License Agreement (EULA). Do not prompt users to accept the EULA again. Failed\n",
      "to upload file. A system error occurred. Try to upload the file again. If the problem persists,\n",
      "contact Samsung. An app with this name already exists. Ensure the name of the app you are uploading\n",
      "does not already exist in Knox Configure. Re-name the app if necessary. Invalid APK version name.\n",
      "Invalid APK version name. Please change the version name and try uploading again. 4090001 File too\n",
      "large. Max 4000 devices allowed per upload. Try splitting the device upload list to reduce the size\n",
      "of .csv you are uploading\n",
      "metadata:\n",
      " {'source': 'all_processed_data.json', 'seq_num': 433, 'title': 'Portal-side errors', 'url':\n",
      "'https://docs.samsungknox.com/admin/knox-configure/knox-configure-wearables/troubleshoot/portal-\n",
      "side-errors', 'project': 'KC', 'last_updated': '2023-07-26', 'family_tree': 'child', 'parent_id':\n",
      "'291bc872-97b4-4b34-af40-dba8d4bb5292', 'id': '7e88ce07-12b4-4b75-a849-a50d6113afe3',\n",
      "'orig_elements': ''}\n",
      "\n",
      "-----------------------------------------------\n",
      "10. Chunk: 839 Characters\n",
      "-----------------------------------------------\n",
      ". You can add up to 10 image files in the PNG, JPG, JPEG, or GIF format (animated files are not\n",
      "supported). Each image file must be less than 5 MB. To upload an image file, click Add and select a\n",
      "file. To delete an image file, click next to the name of the uploaded image file. Note The device\n",
      "control command must be transferred to the device to apply an image file to it. &gt;&gt;&gt; Video\n",
      "Select a video file for the screen saver. You can add only one video file in the MP4 or MKV format.\n",
      "The video file must be less than 50 MB. To upload a video file, click Add and select a file. To\n",
      "delete a video file, click next to the name of the uploaded video file. Note The device control\n",
      "command must be transferred to the device to apply a video to it. &gt; Session timeout Allows the\n",
      "use of the session timeout feature for the Kiosk Browser\n",
      "metadata:\n",
      " {'source': 'all_processed_data.json', 'seq_num': 893, 'title': 'Android Enterprise policies',\n",
      "'url': 'https://docs.samsungknox.com/admin/knox-manage/configure/profile/configure-profile-\n",
      "policies/android-enterprise-policies', 'project': 'KM', 'last_updated': '2023-09-06', 'family_tree':\n",
      "'child', 'parent_id': 'b72bb3cc-e122-413a-8b84-5681f19c49eb', 'id':\n",
      "'2f26cba8-c934-4a41-9aab-50046bde8a8c', 'orig_elements': ''}\n"
     ]
    }
   ],
   "source": [
    "show_context_used(contexts)"
   ]
  },
  {
   "cell_type": "code",
   "execution_count": 62,
   "id": "01e77dad-dc19-416b-80e7-19fac3b736a5",
   "metadata": {
    "tags": []
   },
   "outputs": [
    {
     "name": "stdout",
     "output_type": "stream",
     "text": [
      "##################################\n",
      "query:  조금더 자세히 말해 볼래?\n",
      "##################################\n",
      "\u001b[34m\n",
      "\n",
      "### Answer ###\u001b[0m\n",
      "해당 컨텍스트에는 조금 더 자세히 설명을 요구하는 질문에 대한 직접적인 정보가 없습니다. 하지만 컨텍스트에서 고급 프로필 기능과 모니터링에 대한 정보를 확인할 수 있습니다. 고급\n",
      "프로파일 기능을 사용하려면 활성화된 Knox Suite 라이센스가 필요하고, 고급 프로파일이 할당된 디바이스의 상태를 모니터링할 수 있습니다. 또한 프로파일 유형별로 필터링하거나\n",
      "디바이스를 대량으로 잠그거나 잠금 해제할 수 있습니다. 디바이스의 잠금, 등록 및 프로파일 잠금 상태를 모니터링할 수 있습니다.\n",
      "\u001b[32m\n",
      "\n",
      "### Contexts ###\u001b[0m\n",
      "\n",
      "-----------------------------------------------\n",
      "1. Chunk: 415 Characters\n",
      "-----------------------------------------------\n",
      ". Clicking any link in the APP column takes you to a drill-down view for that application, letting\n",
      "you see extended details like which _versions_ of the app consume the most battery power, and how\n",
      "many _devices_ are running each version. Like with the expanded view, you can also use the filter\n",
      "(if available) to focus on specific data, customize your table, or download the table as a CSV file\n",
      "for offline viewing.\n",
      "metadata:\n",
      " {'source': 'all_processed_data.json', 'seq_num': 262, 'title': 'Overview', 'url':\n",
      "'https://docs.samsungknox.com/admin/knox-asset-intelligence/dashboard/overview', 'project': 'KAI',\n",
      "'last_updated': '2023-09-06', 'family_tree': 'child', 'parent_id':\n",
      "'508e6f0d-b3ad-451b-867e-98c6151cafa8', 'id': 'd8db8425-7997-4e42-89a8-6558a989214c',\n",
      "'orig_elements': ''}\n",
      "\n",
      "-----------------------------------------------\n",
      "2. Chunk: 588 Characters\n",
      "-----------------------------------------------\n",
      ". High Accuracy Mode - Enable this mode to improve the accuracy of collected location data. When you\n",
      "enabled this mode, locations are detected using GPS and Wi-Fi and mobile networks. When you disable\n",
      "it, the locating method that the user has specified on the device is used instead. For devices with\n",
      "Android 10 (Q) or higher, the user must agree to the notification on the status bar that asks for\n",
      "permission to use location data. When collecting location data by sending a device command, the\n",
      "locating method differs depending on whether the High Accuracy Mode is in use. 8. Click Save.\n",
      "metadata:\n",
      " {'source': 'all_processed_data.json', 'seq_num': 904, 'title': 'Collect device location\n",
      "information', 'url': 'https://docs.samsungknox.com/admin/knox-manage/configure/profile/manage-\n",
      "profiles/collect-device-location-information', 'project': 'KM', 'last_updated': '2023-07-26',\n",
      "'family_tree': 'child', 'parent_id': '1df2ebf6-7e3d-4b46-9118-304f3a5d0f34', 'id':\n",
      "'96ceccad-5081-4a06-9d14-f10468c790f6', 'orig_elements': ''}\n",
      "\n",
      "-----------------------------------------------\n",
      "3. Chunk: 193 Characters\n",
      "-----------------------------------------------\n",
      "How do I disable advanced profile features on a device?. After assigning a regular profile on the\n",
      "console, you must factory reset the device to apply the regular profile settings to the device.\n",
      "metadata:\n",
      " {'source': 'all_processed_data.json', 'seq_num': 1441, 'title': 'How do I disable advanced profile\n",
      "features on a device?', 'url': 'https://docs.samsungknox.com/admin/knox-mobile-enrollment/faq/#how-\n",
      "do-i-disable-advanced-profiles', 'project': 'KME', 'last_updated': '2023-09-18', 'family_tree':\n",
      "'child', 'parent_id': '7f9c825f-fb7e-4e49-81a8-b1c251f07892', 'id':\n",
      "'bbe08b3b-5cc2-44d8-96bc-f8c41b25eed0', 'orig_elements': ''}\n",
      "\n",
      "-----------------------------------------------\n",
      "4. Chunk: 544 Characters\n",
      "-----------------------------------------------\n",
      ". Yellow Filter profiles by type When reviewing all the profiles in your tenant on the Profiles\n",
      "page, you can filter devices by whether they were assigned an advanced profile. To do so: 1. Click\n",
      "the Profile Type column header to view a filterable list of profile types. 2. Select one or more\n",
      "profile types, then click Apply Filters. Only profiles with the selected profile types are now\n",
      "displayed. Additionally, see lock and unlock devices to learn how you can lock or unlock devices in\n",
      "bulk and unlock them in offline environments using a PIN.\n",
      "metadata:\n",
      " {'source': 'all_processed_data.json', 'seq_num': 1357, 'title': 'Monitor advanced profiles', 'url':\n",
      "'https://docs.samsungknox.com/admin/knox-mobile-enrollment/how-to-guides/advanced-profiles/monitor-\n",
      "advanced-profiles', 'project': 'KME', 'last_updated': '2023-09-18', 'family_tree': 'child',\n",
      "'parent_id': '9d16eb8c-4a0b-4fb8-baa9-b0769e874eaf', 'id': '01eb15f4-2d8f-47f9-a59f-95a4f8776e73',\n",
      "'orig_elements': ''}\n",
      "\n",
      "-----------------------------------------------\n",
      "5. Chunk: 235 Characters\n",
      "-----------------------------------------------\n",
      ". In the DEVICE ID column, click an ID to view the device's extended details. If you want to\n",
      "download a CSV file of the storage statuses for your devices, select one or more devices from the\n",
      "list, then click the DOWNLOAD AS CSV button.\n",
      "metadata:\n",
      " {'source': 'all_processed_data.json', 'seq_num': 283, 'title': 'Storage usage status', 'url':\n",
      "'https://docs.samsungknox.com/admin/knox-asset-intelligence/dashboard/system-insights/storage-usage-\n",
      "status', 'project': 'KAI', 'last_updated': '2023-07-26', 'family_tree': 'child', 'parent_id':\n",
      "'c66e69be-5bcc-400e-acd5-80dba1ee496e', 'id': '1eadc6e5-2e6c-452f-8aaa-e8b5bec4697b',\n",
      "'orig_elements': ''}\n",
      "\n",
      "-----------------------------------------------\n",
      "6. Chunk: 971 Characters\n",
      "-----------------------------------------------\n",
      "Monitor advanced profiles. When you assign and enroll advanced profiles to devices, Knox Mobile\n",
      "Enrollment provides the following monitoring capabilities and actions: Lock or unlock devices in\n",
      "bulk. Monitor the device lock, device enrollment, and profile lock statuses on the Advanced tab.\n",
      "Unlock the device in offline environments. This page helps you learn how to monitor the different\n",
      "features and settings on the uploaded devices with advanced profiles. View the Advanced tab The\n",
      "Advanced tab on the Devices page displays a list of all the devices that have been assigned advanced\n",
      "profiles. For active Knox Suite license holders, the Advanced tab functions when the following\n",
      "conditions are met: If no advanced profile is created, the Advanced tab will not be displayed. If no\n",
      "devices are assigned the advanced profile, then the Advanced tab is displayed but is disabled. The\n",
      "Advanced tab becomes enabled and accessible once you assign an advanced profile to a device\n",
      "metadata:\n",
      " {'source': 'all_processed_data.json', 'seq_num': 1327, 'title': 'Monitor advanced profiles', 'url':\n",
      "'https://docs.samsungknox.com/admin/knox-mobile-enrollment/advanced-profiles/monitor-advanced-\n",
      "profiles', 'project': 'KME', 'last_updated': '2023-07-26', 'family_tree': 'child', 'parent_id':\n",
      "'3086064f-1cd2-4cfe-9003-318351927753', 'id': '7afe230a-ed95-498e-b717-a62ce48e38b3',\n",
      "'orig_elements': ''}\n",
      "\n",
      "-----------------------------------------------\n",
      "7. Chunk: 708 Characters\n",
      "-----------------------------------------------\n",
      "View and modify a license. This section describes various operations you can perform on a license.\n",
      "View the details of a license You can view the details of a license, such as its expiration date,\n",
      "the total number of seats it contains, the number of seats left, and the devices enrolled under it.\n",
      "If both a Knox Manage and a KPE license key are applied to a device at the same time, the usage\n",
      "count may differ between the license server and Knox Manage server. Refer to the count on the\n",
      "Setting > License page on the Knox Manage console for the most accurate tally. To view the details\n",
      "of a license, complete the following steps: 1. Navigate to Setting > License. 2. Click on the\n",
      "license key you want to view\n",
      "metadata:\n",
      " {'source': 'all_processed_data.json', 'seq_num': 880, 'title': 'View and modify a license', 'url':\n",
      "'https://docs.samsungknox.com/admin/knox-manage/configure/licenses/view-and-modify-a-license',\n",
      "'project': 'KM', 'last_updated': '2023-07-26', 'family_tree': 'child', 'parent_id':\n",
      "'7722ad91-5199-49c9-ae8a-0a895d256e8e', 'id': 'eea2a3ed-25b0-4f17-a224-1423982014dc',\n",
      "'orig_elements': ''}\n",
      "\n",
      "-----------------------------------------------\n",
      "8. Chunk: 172 Characters\n",
      "-----------------------------------------------\n",
      "Lists of audit events. View the detailed information of audit events. You can view the lists of the\n",
      "audit events for the user devices, servers, and the Knox Manage console.\n",
      "metadata:\n",
      " {'source': 'all_processed_data.json', 'seq_num': 762, 'title': 'Lists of audit events', 'url':\n",
      "'https://docs.samsungknox.com/admin/knox-manage/appendix/list-of-audit-events/lists-of-audit-\n",
      "events', 'project': 'KM', 'last_updated': '2023-07-26', 'family_tree': 'child', 'parent_id':\n",
      "'8872d00b-b223-4fdd-8a95-aa8d407b7e4c', 'id': '9381d829-311c-4b69-a84a-03a0d573ebdb',\n",
      "'orig_elements': ''}\n",
      "\n",
      "-----------------------------------------------\n",
      "9. Chunk: 244 Characters\n",
      "-----------------------------------------------\n",
      ". Advanced profile features require an active Knox Suite license. If your tenant doesn't have one\n",
      "available when you enroll a device with an EMM, the device will enroll, but the advanced features\n",
      "won't be available for it. Back to release notes\n",
      "metadata:\n",
      " {'source': 'all_processed_data.json', 'seq_num': 1420, 'title': 'Knox Mobile Enrollment 23.03\n",
      "release notes', 'url': 'https://docs.samsungknox.com/admin/knox-mobile-enrollment/release-\n",
      "notes/23-03', 'project': 'KME', 'last_updated': '2023-07-26', 'family_tree': 'child', 'parent_id':\n",
      "'520fa9be-fbf1-4f41-b8a5-fa489ad71a3e', 'id': 'e8a21112-7aab-4beb-8635-ba8898e54777',\n",
      "'orig_elements': ''}\n",
      "\n",
      "-----------------------------------------------\n",
      "10. Chunk: 1017 Characters\n",
      "-----------------------------------------------\n",
      "Monitor advanced profiles. For devices that applied advanced profiles, Knox Mobile Enrollment\n",
      "provides the following monitoring capabilities and actions: Monitor the device lock, device\n",
      "enrollment, and profile lock statuses on the Advanced profile assigned tab. Filter profiles by their\n",
      "type on the Advanced profile assigned tab. Lock or unlock devices in bulk. Unlock the device in\n",
      "offline environments. This page helps you learn how to monitor the different features and settings\n",
      "on devices with advanced profiles. Access the Advanced profile assigned tab The Advanced profile\n",
      "assigned tab on the Devices page displays a list of all the devices that are assigned advanced\n",
      "profiles. For active Knox Suite license holders, the Advanced profile assigned tab is accessible\n",
      "depending on specific conditions: If no advanced profile is created, the Advanced profile assigned\n",
      "tab is hidden. If an advanced profile exists but isn't assigned to any devices, then the Advanced\n",
      "profile assigned tab is displayed but is disabled\n",
      "metadata:\n",
      " {'source': 'all_processed_data.json', 'seq_num': 1357, 'title': 'Monitor advanced profiles', 'url':\n",
      "'https://docs.samsungknox.com/admin/knox-mobile-enrollment/how-to-guides/advanced-profiles/monitor-\n",
      "advanced-profiles', 'project': 'KME', 'last_updated': '2023-09-18', 'family_tree': 'child',\n",
      "'parent_id': '9d16eb8c-4a0b-4fb8-baa9-b0769e874eaf', 'id': 'b20eedc9-4e73-4353-a4d3-5c6a829c956f',\n",
      "'orig_elements': ''}\n"
     ]
    }
   ],
   "source": [
    "print(\"##################################\")\n",
    "print(\"query: \", query)\n",
    "print(\"##################################\")\n",
    "\n",
    "print (colored(\"\\n\\n### Answer ###\", \"blue\"))\n",
    "print_ww(response)\n",
    "\n",
    "print (colored(\"\\n\\n### Contexts ###\", \"green\"))\n",
    "show_context_used(contexts)"
   ]
  },
  {
   "cell_type": "code",
   "execution_count": null,
   "id": "c36aae2b-74cc-4db8-af5f-51968fadf9b7",
   "metadata": {},
   "outputs": [],
   "source": []
  }
 ],
 "metadata": {
  "kernelspec": {
   "display_name": "conda_python3",
   "language": "python",
   "name": "conda_python3"
  },
  "language_info": {
   "codemirror_mode": {
    "name": "ipython",
    "version": 3
   },
   "file_extension": ".py",
   "mimetype": "text/x-python",
   "name": "python",
   "nbconvert_exporter": "python",
   "pygments_lexer": "ipython3",
   "version": "3.10.14"
  }
 },
 "nbformat": 4,
 "nbformat_minor": 5
}
