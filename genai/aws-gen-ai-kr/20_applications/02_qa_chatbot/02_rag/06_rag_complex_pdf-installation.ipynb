{
 "cells": [
  {
   "cell_type": "markdown",
   "id": "5deb2df2-413d-49bd-a829-3a1fc344937e",
   "metadata": {},
   "source": [
    "# RAG over complex PDF\n"
   ]
  },
  {
   "cell_type": "markdown",
   "id": "b1f81abc-3277-4a6b-9ef1-d4f997d67fbe",
   "metadata": {},
   "source": [
    "## Setting\n",
    " - Auto Reload\n",
    " - path for utils"
   ]
  },
  {
   "cell_type": "code",
   "execution_count": 1,
   "id": "ddde4105-b759-4d6c-8214-8e1ab485ae48",
   "metadata": {
    "tags": []
   },
   "outputs": [],
   "source": [
    "%load_ext autoreload\n",
    "%autoreload 2"
   ]
  },
  {
   "cell_type": "code",
   "execution_count": 2,
   "id": "57c2cdb1-d785-4317-afce-938f13141085",
   "metadata": {
    "tags": []
   },
   "outputs": [],
   "source": [
    "import sys, os\n",
    "module_path = \"../../..\"\n",
    "sys.path.append(os.path.abspath(module_path))"
   ]
  },
  {
   "cell_type": "code",
   "execution_count": null,
   "id": "4a1cc1f7-cb71-42c2-b55d-ccc19f386a82",
   "metadata": {
    "tags": []
   },
   "outputs": [],
   "source": [
    "!pip install -U lxml\n",
    "!pip install -U pydantic\n",
    "!pip install -U kaleido\n",
    "!pip install -U uvicorn\n",
    "!pip install -U pandas\n",
    "!pip install -U numexpr"
   ]
  },
  {
   "cell_type": "code",
   "execution_count": null,
   "id": "eed5d9e2-32d6-4cd0-bd96-e646a28949bb",
   "metadata": {
    "tags": []
   },
   "outputs": [],
   "source": [
    "!sudo rpm -Uvh https://dl.fedoraproject.org/pub/epel/epel-release-latest-7.noarch.rpm\n",
    "!sudo yum -y update\n",
    "!sudo yum install -y poppler-utils"
   ]
  },
  {
   "cell_type": "markdown",
   "id": "527b807a-c232-479c-81ea-bac0c8d6d07b",
   "metadata": {},
   "source": [
    "설치: https://gist.github.com/codesankalp/c4d8e18421bf112a70406241f6d91ee9"
   ]
  },
  {
   "cell_type": "code",
   "execution_count": null,
   "id": "dabcc30f-39c6-4ff3-8561-eaea0c571e3f",
   "metadata": {
    "tags": []
   },
   "outputs": [],
   "source": [
    "!sudo yum install clang -y && \\\n",
    " sudo yum install libpng-devel libtiff-devel zlib-devel libwebp-devel libjpeg-turbo-devel wget tar gzip -y && \\\n",
    " wget https://github.com/DanBloomberg/leptonica/releases/download/1.75.1/leptonica-1.75.1.tar.gz && \\\n",
    " tar -zxvf leptonica-1.75.1.tar.gz && \\\n",
    " cd leptonica-1.75.1 && \\\n",
    " ./configure && \\\n",
    " sudo make && \\\n",
    " sudo make install\n",
    "#cd ~ && \\\n",
    "!sudo yum install git-core libtool pkgconfig -y && \\\n",
    " git clone --depth 1  https://github.com/tesseract-ocr/tesseract.git tesseract-ocr && \\\n",
    " cd tesseract-ocr && \\\n",
    " export PKG_CONFIG_PATH=/usr/local/lib/pkgconfig && \\\n",
    " ./autogen.sh && \\\n",
    " ./configure && \\\n",
    " sudo make && \\\n",
    " sudo make install\n",
    "\n",
    "!cd /usr/local/share/tessdata && \\\n",
    " sudo wget https://github.com/tesseract-ocr/tessdata/raw/main/osd.traineddata && \\\n",
    " sudo wget https://github.com/tesseract-ocr/tessdata/raw/main/eng.traineddata && \\\n",
    " sudo wget https://github.com/tesseract-ocr/tessdata/raw/main/hin.traineddata\n",
    "\n",
    "!sudo rm -rf leptonica-1.75.1 leptonica-1.75.1.tar.gz tesseract-ocr"
   ]
  },
  {
   "cell_type": "code",
   "execution_count": null,
   "id": "2e1b5c21-bddd-4cab-8d54-9c58d42db460",
   "metadata": {},
   "outputs": [],
   "source": []
  },
  {
   "cell_type": "code",
   "execution_count": null,
   "id": "f22220f4-d674-467b-a98f-d399cd5a92f5",
   "metadata": {
    "tags": []
   },
   "outputs": [],
   "source": [
    "!pip install \"unstructured[all-docs]\""
   ]
  },
  {
   "cell_type": "markdown",
   "id": "21174b3b-8e83-4f0f-a098-1c890285913d",
   "metadata": {},
   "source": [
    "amazon linux tesseract 설치: https://blog.hikmahtechnologies.com/installing-tesseract-on-amazon-linux-2-4a08517eb2f1"
   ]
  },
  {
   "cell_type": "code",
   "execution_count": null,
   "id": "67f6de3a-cdb3-4d41-9f04-1887f1a6f5b0",
   "metadata": {},
   "outputs": [],
   "source": []
  },
  {
   "cell_type": "markdown",
   "id": "8c18d07e-21e2-4b90-beb0-fcd655b044f6",
   "metadata": {},
   "source": [
    "소스 코드: https://github.com/sudarshan-koirala/youtube-stuffs/blob/main/langchain/langchain_Semi_Structured_RAG.ipynb"
   ]
  },
  {
   "cell_type": "code",
   "execution_count": null,
   "id": "6e17f1ea-7e50-4ef0-b422-38936072871b",
   "metadata": {
    "tags": []
   },
   "outputs": [],
   "source": [
    "import urllib.request\n",
    "\n",
    "url = \"https://arxiv.org/pdf/2307.09288.pdf\"\n",
    "filename = \"Llama2.pdf\"\n",
    "urllib.request.urlretrieve(url, filename)"
   ]
  },
  {
   "cell_type": "code",
   "execution_count": 3,
   "id": "5e012c52-9199-4623-8e92-2a47671dc5b7",
   "metadata": {
    "tags": []
   },
   "outputs": [],
   "source": [
    "\n",
    "path = \"./content/\""
   ]
  },
  {
   "cell_type": "code",
   "execution_count": 52,
   "id": "2684b8e5-9b4c-42cd-bf9e-24b684e80ec7",
   "metadata": {
    "tags": []
   },
   "outputs": [],
   "source": [
    "from lxml import html\n",
    "from pydantic import BaseModel\n",
    "from typing import Any, Optional\n",
    "from unstructured.partition.pdf import partition_pdf\n",
    "\n",
    "# Get elements\n",
    "raw_pdf_elements = partition_pdf(\n",
    "    filename=path+\"sample.pdf\",\n",
    "    strategy=\"ocr_only\",\n",
    "    # Unstructured first finds embedded image blocks\n",
    "    extract_images_in_pdf=True,\n",
    "    # Use layout model (YOLOX) to get bounding boxes (for tables) and find titles\n",
    "    # Titles are any sub-section of the document\n",
    "    infer_table_structure=True,\n",
    "    # Post processing to aggregate text once we have the title\n",
    "    chunking_strategy=\"by_title\",\n",
    "    # Chunking params to aggregate text blocks\n",
    "    # Attempt to create a new chunk 3800 chars\n",
    "    # Attempt to keep chunks > 2000 chars\n",
    "    max_characters=4000,\n",
    "    new_after_n_chars=3800,\n",
    "    combine_text_under_n_chars=2000,\n",
    "    #image_output_dir_path=path\n",
    ")"
   ]
  },
  {
   "cell_type": "code",
   "execution_count": 53,
   "id": "c59a1270-4cd3-4932-a08a-a1a69184e818",
   "metadata": {},
   "outputs": [
    {
     "data": {
      "text/plain": [
       "{\"<class 'unstructured.documents.elements.CompositeElement'>\": 2}"
      ]
     },
     "execution_count": 53,
     "metadata": {},
     "output_type": "execute_result"
    }
   ],
   "source": [
    "# Create a dictionary to store counts of each type\n",
    "category_counts = {}\n",
    "\n",
    "for element in raw_pdf_elements:\n",
    "    category = str(type(element))\n",
    "    if category in category_counts:\n",
    "        category_counts[category] += 1\n",
    "    else:\n",
    "        category_counts[category] = 1\n",
    "\n",
    "# Unique_categories will have unique elements\n",
    "unique_categories = set(category_counts.keys())\n",
    "category_counts"
   ]
  },
  {
   "cell_type": "code",
   "execution_count": 54,
   "id": "def7cc45-ffd4-4327-be44-00d17c3dacfd",
   "metadata": {
    "tags": []
   },
   "outputs": [
    {
     "name": "stdout",
     "output_type": "stream",
     "text": [
      "AN TIA\n",
      "\n",
      "2 Kl 253 3| MM\n",
      "\n",
      "x\n",
      "\n",
      "O\n",
      "\n",
      "[OleH o4t\n",
      "\n",
      "EEEl )L\n",
      "\n",
      "[=]\n",
      "\n",
      "A A2 e |\n",
      "\n",
      "HArE\n",
      "\n",
      "S\n",
      "\n",
      "AI:III}—-I de 25 2 SsHE0 WEt ol SXE foto s 4 OI'H te = AUAESE L AYLICH A4SUHES\n",
      "\n",
      "]\n",
      "\n",
      "O DEIIMH: 100 o2l (SEE 20| 109 0|2HY B LH0| HAZ £ US) O JIEXHaH: KOSPI200 XI4:(S28 1 Ticker: KOSPI2 index), S2It2A X4 (E2H 0 Ticker: GOLDLNPM index) O HO 2 12011 07\" 042 ~2011 = 072 07 Y 16 Al O HOrCHe| 1 100 2Hel 014 100 OHRl ©F9 (28 5 D} Yol 24 Og & 2:20114 078 08Y O B J] & 2012 07 & 09 (8] 1H) O AMEQBSZ: 452 2| JIEJH 23 o EHOYHE O HZE JIFJH2: 20119 072 07 2o EXHENY HalA JIF) O 8] BIIIIA: 20123 07 € 03 2o ZIHEHY Heha JIE) 3| &9 3= 7= =3 A ESY @ SFIIEIIIIA0l FEIIFEIIAHC 100% 0|40l AL (BH)]|4 | ZHHIMUx[100%+{(2HIBIIII2H -5 % o1 A0 W IEXA JIIE) JIZ=0HA) /EIEIIZNA x 70%}] Asb (@ BEIIEIIIIA0| EZIIEINAO 100% 0I9F01 HL (2H)]% ZOHO{ 2 OH % B0l W2 IEX JIF) SHESHX100% # PED| 201 B =(0)| BOIDI A -2 2| EIHA)/E £ F0HA (S, {(SFDI - A2 ZDIEINA)/Z R EINAXT70%}I2 A CHAMA2 Olat = AD 4| EXg0 AlY 1 SRS EXNE F2 O o|atet @O @ § JIEXAS SHDIEIEIF20| KOSPI200 2 300pt, 22X += $1,650 0 Z= = 199 700 0+ X2 =1 ARIx[100%+{(1,650-1,500)/1,500%70%}] (I £AE0| W2 2I2AX % =) O 9|atg @ @ § JIEXAS QDI EIEIF20| KOSPI200 2 300pt, 22X 4+= $1,350 0 2= =122 X3(100% FSLH)\n",
      "\n",
      "ds fsto\n",
      "\n",
      ". 4ElI8S 5| Z0 SXEA SLMAR 1 A/S EXE FL MES ATSIHOR O SHEA TMARI ZWEHK 2SLICH 6| STHES P EXAS QM QE S M8 QA O erI&#0l aaom SN AY AL FTASS MY & USLH O BSHSNEIISY © 28 013 LYY AALE ODIFIIY 4 AU MNX 0 FAY 25 5 Al 0IF0f S8 TE NHOR 28, NEIAS MHY AN IHsE. O STHE QF o9l : AWoI 0|4 YWD CIe| O ECA8IIZ ZEHY @ ZCASMAEY ANYLARAA(EI) ©, 2 =AY JETA F SLAT HAL AAAO Ol AL DS AN AHAA(ZIN O STHB3Y : ZCTHSIIAS JIE2 501 2B 5 604 0129 S /LA 90%0I4, 6HE 040l Y B 95%0142 KIZELICL 0l 22 (RSSOl SICHRHE) WSLA0l 24T 4 YSLICH O ET4E3Y N3 : STHENFA(SEH) 015 2 YA 7| 98 ol\n",
      "\n",
      "O 2 4352 tSNESYol 25tol 2 X OlLISHH, JI=XHete J12 Bisol et ¥3 &40 288 =& A0, STE MYAER JAHS ZEILD UALCE 4ES =26 0IaiStAIL SXISHAID] HIELICH\n",
      "\n",
      "@] A2 OlcHHASHES AE202 Lilts ZSHACZN LA eI MEX Al L= =X Bt EMAE SOl AL70l oigE 22 10240 SIAret A0l S=0 &&E = A2,\n",
      "Olcist 22 ASTA0| LHE 4+ ASLICH\n",
      "\n",
      "8| JIEt 8o Ag O EXNEYAN S2LMA 2011, 07. 01 O SEXNEYEAM S>EA @ http://dart.fss.or.kr L OlHUASE 2XE O FHAMAMLNKs 20 S20] LMEACID o6 HEIH O JIMAIEOCl A = MEoite A28 OIFGIHLE Yol RIISAS JIXIE B8 L& S0Qlote A2 ordLICh O S22 & HAS2U0| LESHO 100%0/ 401 B HAZ M Hl2oted HZUHAEILICEH ¥ OASIY & EAEE DX RAHE(1588-9200), S2HEIR)0l UAS B HELH0IAE(02-3774-1309) CEe oHY EHOIXN 228 £ AN, SOl LM A0 S SLSA(2H0| 1332) S9 T3S Y 2 USLICH O AZOl WZAD JIEIAES LAEHOIXI( http://www.miraeassetaccount.com )OlAl 2QIGtA = ASLICH\n",
      "\n",
      "HBAM=E 0 432 SQUE2S HE0t0 st 2022 0 €A 2AESHA OtAI2 SXESA S NS SYXEE BEAl #olgtdl & HOtGHAID| HHELICH\n",
      "\n",
      "[ 422 ol ] > OO A SA ( YRI& ( (2)= 9 WSl st 2 Ol A £%stn 0l #EHME WRGIASLICH(B = = , EHOIXI http-//v»Ww.miraeassetaccount.com).\n",
      "\n",
      "2011. 0 0 (o)\n",
      "\n",
      "PEEER O €8 A =.s_/tl:|II}_-l do 25 2L 38 o_.,. SSHFY HYUESES g olalicta = AUAEF st HLICH 4SUES E=0| Olalidtal D.:.OII FANHRE 2\n",
      "\n",
      "JGMIDI HHELICEH\n",
      "\n",
      "HE=HE\n",
      "\n",
      "21.00%\n",
      "\n",
      "4STEHE 70%\n",
      "\n",
      "130% m=oz=spzgpy| IR AT (%) (B 22 7| =X\n",
      "\n",
      "100% HSEF\n",
      "\n",
      "éIEOII gt ol s&S <5t\n",
      "\n",
      "KOSPI200 &2t= 250pt, 2ItA X2l Sot= $1,500 ¢ F<\n",
      "\n",
      "250pt 1,500 el\n",
      "\n",
      "OIEOtE 1\n",
      "\n",
      "300pt 1,650 el (20%4 &) (10%4t5)\n",
      "\n",
      "+700 0t\n",
      "\n",
      "18I 2\n",
      "\n",
      "300pt 1,350 el (20%4 &) (10%5t2})\n",
      "0\n",
      "2\n"
     ]
    }
   ],
   "source": [
    "\n",
    "class Element(BaseModel):\n",
    "    type: str\n",
    "    text: Any\n",
    "\n",
    "# Categorize by type\n",
    "categorized_elements = []\n",
    "for element in raw_pdf_elements:\n",
    "    if \"unstructured.documents.elements.Table\" in str(type(element)):\n",
    "        categorized_elements.append(Element(type=\"table\", text=str(element)))\n",
    "    elif \"unstructured.documents.elements.CompositeElement\" in str(type(element)):\n",
    "        \n",
    "        print (element)\n",
    "        \n",
    "        categorized_elements.append(Element(type=\"text\", text=str(element)))\n",
    "\n",
    "# Tables\n",
    "table_elements = [e for e in categorized_elements if e.type == \"table\"]\n",
    "print(len(table_elements))\n",
    "\n",
    "# Text\n",
    "text_elements = [e for e in categorized_elements if e.type == \"text\"]\n",
    "print(len(text_elements))"
   ]
  },
  {
   "cell_type": "code",
   "execution_count": 51,
   "id": "5e377977-91a6-46c5-9d8e-7b100cbb91db",
   "metadata": {},
   "outputs": [
    {
     "name": "stdout",
     "output_type": "stream",
     "text": [
      "text\n",
      "type='text' text='이 설명서는 금융소비자의 권익 보호 및 금융상품에 대한 이해 증진을 위하여 금융상품의 핵심내용을 쉽게 이해하실 수 있도록 작성한 것입니다. 상품내용을 충분히 이해하신 다음에 청약여부를 결정하시기 바랍니다.\\n\\n핵심설명서  \\n\\n[미래에셋증권 제 253 회 파생결합증권(DLS)(원금보장형)]\\n\\nA\\n\\n1\\n\\n상품 개요\\n\\n|\\n\\n○ 모집가액: 100 억원 (모집된 금액이 10 억 미만일 경우 발행이 취소될 수 있음)\\n\\n○ 기초자산: KOSPI200 지수(블룸버그 Ticker: KOSPI2 index),\\n\\n금가격지수 (블룸버그 Ticker: GOLDLNPM index)\\n\\n○ 청약기간 : 2011 년 07 월 04 일 ~2011 년 07 월 07 일 16 시\\n\\n○ 청약단위 : 100 만원 이상 100 만원 단위 (발행 후 추가 납입 불가)\\n\\n○ 발 행 일 : 2011 년 07 월 08 일\\n\\n○ 만 기 일 : 2012 년 07 월 09 일(만기 1 년)\\n\\n○ 상품위험등급: 4 등급\\n\\n2 기준가격 결정일 및 평가방법\\n\\n○ 최초 기준가격: 2011 년 07 월 07 일의 종가(해당 거래소 기준) ○ 만기 평가가격: 2012 년 07 월 03 일의 종가(해당 거래소 기준)\\n\\n3|\\n\\n3\\n\\n손익 구조'\n",
      "==\n",
      "table\n",
      "type='table' text='구 분 내 용 만기상환금액 ① 만기평가가격이 최초기준가격의 100% 이상인 경우 (만기수 만기 익률이 낮은 기초자산 기준) 기준가격) /최초기준가격 × 70%}] 상환 ② 만기평가가격이 최초기준가격의 100% 미만인 경우 (만기수 익률이 낮은 기초자산 기준) 총액면금액×100%'\n",
      "==\n",
      "text\n",
      "type='text' text='※ 만기수익률=(만기평가가격-최초기준가격)/최초기준가격\\n\\n(단, {(만기평가가격-최초기준가격)/최초기준가격×70%}은 소수점 다섯째자리 이하 절사)\\n\\n4|\\n\\n4\\n\\n투자수익 사례 : 1 억원을 투자한 경우\\n\\n○ 만기상환 ① : 두 기초자산의 만기평가가격이 KOSPI200 은 300pt, 금가격지수는 $1,650 인 경우 ⇒ 1 억원 700 만원 지급\\n\\n= 1 억원×[100%+{(1,650-1,500)/1,500×70%}] (만기수익률이 낮은 금가격지수 기준)\\n\\n○ 만기상환 ② : 두 기초자산의 만기평가가격이 KOSPI200 은 300pt, 금가격지수는 $1,350 인 경우 ⇒ 1 억원 지급(100% 원금보장)\\n\\n이 설명서는 금융소비자의 권익 보호 및 금융상품에 대한 이해 증진을 위하여 금융상품의 핵심내용을 쉽게 이해하실 수 있도록 작성한 것입니다. 상품내용을 충분히 이해하신 다음에 청약여부를 결정하시기 바랍니다.\\n\\n최대 투자손실 발생사례 : 1 억원을 투자한 경우\\n\\n본 상품은 원금보장형으로 최대 투자손실 발생사례가 존재하지 않습니다.\\n\\n6|\\n\\n6\\n\\n중도상환수수료 : 투자자의 요청에 의한 중도 상환 요청시\\n\\n○ 만기상환이 원칙이나 투자자가 원할 경우 중도상환을 신청하실 수 있습니다.\\n\\n○ 중도상환신청가능일 : 발행 이후 발행일 익일부터 만기평가일 4 영업일 전까지 매 영업일 오후 5 시 이전에 유선 또는 서면으로 요청, 신청취소는 신청일 당일에만 가능함.\\n\\n○ 중도상환 요청 단위 : 일백만원 이상 일백만원 단위\\n\\n○ 중도상환가격 결정일 : 중도상환신청일 익거래소영업일(종가) 단, 본 증권의 기초자산 중 하나라도 거래소\\n\\n영업일이 아닌 경우 모두 익거래소영업일(종가) ○ 중도상환금액 : 중도상환가격을 기초로 하여 발행 후 6 개월 미만인 경우 공정가액의 90%이상, 6 개월 이상인 경우 공정가액의 95%이상을 지급합니다. 이 경우 (원금보장형이라 하더라도) 원금손실이 발생할 수 있습니다.\\n\\n○ 중도상환금액 지급일 : 중도상환신청일(불포함) 이후 2 영업일\\n\\n7 위험 요인\\n\\n○ 본 상품은 예금자보호법에 의하여 보호되지 아니하며, 기초자산의 가격 변동에 따라 원금 손실이 발생할 수도 있고, 복잡한 파생상품적 성격을 포함하고 있으므로 상품을 충분히 이해하시고 투자하시기 바랍니다. ○ 본 증권은 미래에셋증권의 신용으로 발행되는 증권으로써 발행회사의 파산·회생절차 개시 또는 기초자산의 거래정지 기타 천재지변 등이 사유에 해당될 경우 고객의 의사와 관계없이 중도에 상환될 수 있으며, 이러한 경우 원금손실이 발생할 수 있습니다.\\n\\n8 기타 유의 사항\\n\\n○ 투자설명서 효력발생일 : 2011. 07. 01\\n\\n○ 투자설명서 열람장소 : http://dart.fss.or.kr 및 미래에셋증권 본지점\\n\\n○ 청약개시일까지는 수리되어 효력이 발생하였다고 하여 정부가 그 기재사항이 진실 또는 정확하다는 것을 인정하거나 당해 유가증권의 가치를 보증 또는 승인하는 것은 아닙니다.\\n\\n○ 공모결과 총 청약금액이 모집금액의 100%이상인 경우 청약금액에 비례하여 안분배정합니다.\\n\\n※ 상품가입 후 의문사항은 고객지원센터(1588-9200), 불만(민원)이 있을 경우 컴플라이언스팀(02-3774-1309) 또는 인터넷 홈페이지에 문의할 수 있고, 분쟁이 발생한 경우에는 금융감독원(국번없이 1332) 등의 도움을 요청할 수 있습니다.\\n\\n○ 본 상품의 발행조건과 기준가격은 당사홈페이지( http://www.miraeassetaccount.com )에서 확인하실 수 있습니다.\\n\\n□ 본 설명서는 이 상품의 중요내용만을 선별하여 요약한 것이므로 이 설명서에만 의존하지 마시고 투자설명서 등 세부 설명자료를 반드시 확인하신 후 청약하시기 바랍니다.\\n\\n[ 설명직원 확인 ] • 미래에셋증권 ( )지점 ( ) (은)는 위 내용에 대하여 고객 에게 설명하고,\\n\\n이 설명서를 교부하였습니다.(☎ - - , 홈페이지 http://www.miraeassetaccount.com).\\n\\n2011. . . (인)\\n\\n이 설명서는 금융소비자의 권익 보호 및 금융상품에 대한 이해 증진을 위하여 금융상품의 핵심내용을 쉽게 이해하실 수 있도록 작성한 것입니다. 상품내용을 충분히 이해하신 다음에 청약여부를 결정하시기 바랍니다.'\n",
      "==\n",
      "text\n",
      "type='text' text='※ 손익구조 그래프\\n\\n수익률  그래프     \\n\\nHE=HE 21.00% 4STEHE 70% 130% m=oz=spzgpy| IR AT (%) (B 22 7| =X 100% HSEF\\n\\n※ 투자손익 사례 (1 억원 투자시)\\n\\n○ 최초기준가격 결정일의 KOSPI200 종가는 250pt, 금가격지수의 종가는 $1,500 인 경우'\n",
      "==\n",
      "table\n",
      "type='table' text='결정일 KOSPI200 금 수익률 손익(세전) 최초기준가격결정일 250pt 1,500 달러 - - 만기평가일 1 300pt (20%상승) 1,650 달러 (10%상승) 7.0% +700 만원 만기평가일 2 300pt (20%상승) 1,350 달러 (10%하락) - -'\n",
      "==\n"
     ]
    }
   ],
   "source": [
    "for e in categorized_elements:\n",
    "    \n",
    "    print (e.type)\n",
    "    print (e)\n",
    "    print (\"==\")"
   ]
  },
  {
   "cell_type": "code",
   "execution_count": null,
   "id": "a9164908-6601-4d31-b0b0-698d788194d1",
   "metadata": {},
   "outputs": [],
   "source": []
  },
  {
   "cell_type": "code",
   "execution_count": null,
   "id": "388ca7e3-b48f-4372-9de9-d7e426e9e761",
   "metadata": {},
   "outputs": [],
   "source": []
  },
  {
   "cell_type": "code",
   "execution_count": null,
   "id": "1c230a8d-baa2-4d6d-a1bb-3a24ad0a7ec8",
   "metadata": {},
   "outputs": [],
   "source": []
  },
  {
   "cell_type": "markdown",
   "id": "9c4ade56-8dbc-4ded-b355-7e4bcc971e90",
   "metadata": {},
   "source": [
    "## 1. Bedrock Client 생성"
   ]
  },
  {
   "cell_type": "code",
   "execution_count": 24,
   "id": "cc2d877f-e877-48f6-8dd4-239de20e45cd",
   "metadata": {
    "tags": []
   },
   "outputs": [],
   "source": [
    "import json\n",
    "import boto3\n",
    "from pprint import pprint\n",
    "from termcolor import colored\n",
    "from utils import bedrock, print_ww\n",
    "from utils.bedrock import bedrock_info"
   ]
  },
  {
   "cell_type": "markdown",
   "id": "088e6490-c79a-49e4-841c-9fdb91292608",
   "metadata": {
    "tags": []
   },
   "source": [
    "### ---- ⚠️ Un-comment and edit the below lines as needed for your AWS setup ⚠️ ----\n",
    "- os.environ[\"AWS_DEFAULT_REGION\"] = \"<REGION_NAME>\"  # E.g. \"us-east-1\"\n",
    "- os.environ[\"AWS_PROFILE\"] = \"<YOUR_PROFILE>\"\n",
    "- os.environ[\"BEDROCK_ASSUME_ROLE\"] = \"<YOUR_ROLE_ARN>\"  # E.g. \"arn:aws:...\"\n",
    "- os.environ[\"BEDROCK_ENDPOINT_URL\"] = \"<YOUR_ENDPOINT_URL>\"  # E.g. \"https://...\""
   ]
  },
  {
   "cell_type": "code",
   "execution_count": 25,
   "id": "cab9312c-5f61-4730-96c3-5eef54a5f08c",
   "metadata": {
    "tags": []
   },
   "outputs": [
    {
     "name": "stdout",
     "output_type": "stream",
     "text": [
      "Create new client\n",
      "  Using region: None\n",
      "  Using profile: None\n",
      "boto3 Bedrock client successfully created!\n",
      "bedrock-runtime(https://bedrock-runtime.us-west-2.amazonaws.com)\n",
      "\u001b[32m\n",
      "== FM lists ==\u001b[0m\n",
      "{'Claude-Instant-V1': 'anthropic.claude-instant-v1',\n",
      " 'Claude-V1': 'anthropic.claude-v1',\n",
      " 'Claude-V2': 'anthropic.claude-v2',\n",
      " 'Claude-V2-1': 'anthropic.claude-v2:1',\n",
      " 'Claude-V3-Sonnet': 'anthropic.claude-3-sonnet-20240229-v1:0',\n",
      " 'Cohere-Embeddings-En': 'cohere.embed-english-v3',\n",
      " 'Cohere-Embeddings-Multilingual': 'cohere.embed-multilingual-v3',\n",
      " 'Command': 'cohere.command-text-v14',\n",
      " 'Command-Light': 'cohere.command-light-text-v14',\n",
      " 'Jurassic-2-Mid': 'ai21.j2-mid-v1',\n",
      " 'Jurassic-2-Ultra': 'ai21.j2-ultra-v1',\n",
      " 'Llama2-13b-Chat': 'meta.llama2-13b-chat-v1',\n",
      " 'Titan-Embeddings-G1': 'amazon.titan-embed-text-v1',\n",
      " 'Titan-Text-G1': 'amazon.titan-text-express-v1',\n",
      " 'Titan-Text-G1-Light': 'amazon.titan-text-lite-v1'}\n"
     ]
    }
   ],
   "source": [
    "boto3_bedrock = bedrock.get_bedrock_client(\n",
    "    assumed_role=os.environ.get(\"BEDROCK_ASSUME_ROLE\", None),\n",
    "    endpoint_url=os.environ.get(\"BEDROCK_ENDPOINT_URL\", None),\n",
    "    region=os.environ.get(\"AWS_DEFAULT_REGION\", None),\n",
    ")\n",
    "\n",
    "print (colored(\"\\n== FM lists ==\", \"green\"))\n",
    "pprint (bedrock_info.get_list_fm_models(verbose=False))"
   ]
  },
  {
   "cell_type": "markdown",
   "id": "241a9e34-417a-422f-9f75-cb211b2e70e1",
   "metadata": {
    "tags": []
   },
   "source": [
    "## 2. Titan Embedding 및 LLM 인 Claude-v2 모델 로딩"
   ]
  },
  {
   "cell_type": "markdown",
   "id": "29bf63d2-4110-407c-af06-a45d2fbed4b5",
   "metadata": {},
   "source": [
    "### LLM 로딩 (Claude-v2)"
   ]
  },
  {
   "cell_type": "code",
   "execution_count": 26,
   "id": "9c51443a-04f9-465c-9564-53053eb3e1c2",
   "metadata": {
    "tags": []
   },
   "outputs": [],
   "source": [
    "from langchain_core.messages import HumanMessage\n",
    "from langchain_community.chat_models import BedrockChat\n",
    "from langchain.callbacks.streaming_stdout import StreamingStdOutCallbackHandler"
   ]
  },
  {
   "cell_type": "code",
   "execution_count": 27,
   "id": "d09e84e0-b9e1-4b12-8e7a-68f03c5416e5",
   "metadata": {
    "tags": []
   },
   "outputs": [
    {
     "data": {
      "text/plain": [
       "BedrockChat(client=<botocore.client.BedrockRuntime object at 0x7fd148434ac0>, region_name='us-west-2', model_id='anthropic.claude-3-sonnet-20240229-v1:0', model_kwargs={'anthropic_version': 'bedrock-2023-05-31', 'max_tokens': 1024}, streaming=True, callbacks=[<langchain_core.callbacks.streaming_stdout.StreamingStdOutCallbackHandler object at 0x7fd27afb38b0>])"
      ]
     },
     "execution_count": 27,
     "metadata": {},
     "output_type": "execute_result"
    }
   ],
   "source": [
    "# llm_text = Bedrock(\n",
    "#     model_id=bedrock_info.get_model_id(model_name=\"Claude-V2-1\"),\n",
    "#     client=boto3_bedrock,\n",
    "#     model_kwargs={\n",
    "#         \"max_tokens_to_sample\": 1024\n",
    "#     },\n",
    "#     streaming=True,\n",
    "#     callbacks=[StreamingStdOutCallbackHandler()]\n",
    "# )\n",
    "\n",
    "# llm_text\n",
    "\n",
    "\n",
    "llm_text = BedrockChat(\n",
    "    model_id=bedrock_info.get_model_id(model_name=\"Claude-V3-Sonnet\"),\n",
    "    streaming=True,\n",
    "    callbacks=[StreamingStdOutCallbackHandler()],\n",
    "    model_kwargs={\n",
    "        \"anthropic_version\": \"bedrock-2023-05-31\",\n",
    "        \"max_tokens\": 1024,\n",
    "        # \"temperature\": 0,\n",
    "        # \"top_k\": 350,\n",
    "        # \"top_p\": 0.999\n",
    "    }\n",
    ")\n",
    "llm_text"
   ]
  },
  {
   "cell_type": "code",
   "execution_count": 32,
   "id": "bc737d3f-53ff-46f3-9d7d-d9e2ab3423ef",
   "metadata": {
    "tags": []
   },
   "outputs": [
    {
     "name": "stdout",
     "output_type": "stream",
     "text": [
      "요약하이 면 표는 다음과만 같기 습니다시 상환금액:에 대한 \n",
      "\n",
      "이 내용표을 설명는하고  KOS있PI200 습니다.지수  옵션\n",
      "\n",
      "두 가지  경우계약에 로 대한 나뉘어 만기있 는시데:나리오\n",
      "\n",
      "1. 만기를 평가가격이 최초기보여줍니준가격의 다.100% 이상 일 \n",
      "\n",
      "- 때:최초 기준가격 결정일 에는\n",
      "상 환금KOS액 PI200 =지수 {최가 저250pt기준가격이(고,= 1최초기준가계약당 1격 ,500달러또는 를 만기평가가격지 불합니다중 낮은.\n",
      "\n",
      "-  가격만기) / 평가일 1최초기준가에격 × 70서%}\n",
      "\n",
      "2.는 만기평가 가KOS격이 PI최200 초기준가격지수가 의 100% 20% 상승미만일 때하:\n",
      "상환금액 = 총액면금액 × 100여 %300pt가 되 고, 옵션 가\n",
      "\n",
      "요약치가 10하면 % 상승하여 1,650만기평가가격 수준달러가 됩니에다 . 따라이 경우 7% 수익률로  상환금액700의 만계산 방원식이 달라의 지는 것세전 이익을 이 보여발주고생 합니다.\n",
      "\n",
      "- 만기평가일 2에있서는 KOSPI200 지습니다수는 여전히 20.% 상승한 300pt이지만, 옵션 가치는 10% 하락하여 1,350달러가 됩니다. 이 경우 손실이 발생합니다.\n",
      "\n",
      "KOSPI200 지수와 옵션 가격 간의 불일치로 인해 수익 또는 손실이 결정됩니다."
     ]
    }
   ],
   "source": [
    "\n",
    "# Apply to tables\n",
    "tables = [i.text for i in table_elements]\n",
    "table_summaries = summarize_chain.batch(tables, {\"max_concurrency\": 5})"
   ]
  },
  {
   "cell_type": "code",
   "execution_count": 33,
   "id": "3873f544-6b35-47c2-a998-b276ce6e5fc1",
   "metadata": {
    "tags": []
   },
   "outputs": [
    {
     "name": "stdout",
     "output_type": "stream",
     "text": [
      "이 표는 투자 상품의 수익률 구조이와  1문억원 서투자는  시 미래에셋손익증 권사례에를 서 발행하는 보여주제고 있습니다. 253회 \n",
      "\n",
      "첫 번째 본 파생결합증문그서는래 프는 제E목LS이 권(DLS)((\"수익률 원금주보장형그래프\"이)가며 다에 연계양한대증권 퍼센) 한트상품 핵심와 에 대한 설명서입니비율설다명서입니, 다. 계산. 주주식요 등이 요있 내 습니다. 용은 내용하지만 은 다음과 같다음과 같습니다:습니다\n",
      "\n",
      "- 자세모집:금액한 설명\n",
      "\n",
      "1. :이  상품 개요100없억원: 어  (원금보장그형10억원 미만래프일  경우의 ELS 발행 취로 정확소기초자산한  은의미 KOSPI가능를 200 지수)\n",
      "- 와파 악하기 기초자산금어렵습니: KOSPI가다격지수200 지수입니.다, 금. 가격 \n",
      "\n",
      "2. 수\n",
      "\n",
      "두 번째 부분은 익 지구수조: 1억원만기  \n",
      "- 청약을 투자시기간했을  때의: 2두 011 년 기사례초자7산월 4일를 의 가격 설명변동에 합니다. KOSPI200 ~ 따라  지수수익이 가 결정됩니250pt다,.  금가격지수7금 가격  지수가 기일\n",
      "-$ 청1,500준약단위: 일 때으로 손100만원 이를 익상이 산정되며, 최기준으로 대  100만원 70%까지 수익하이 고단가능 있습니다위\n",
      "- 발행일: 2011년 7월 8일. 합니  다\n",
      "- 만하지만 기일: 2구.\n",
      "\n",
      "3.012 년 7월체적인 투 9일자 (만기 1년) \n",
      "- 손익 위험등급:금액 4등중도급이\n",
      "- 나 기준가격 비결정율은 : 제시되상환: 최초 지 않2011년 7투자자았습니다월 7일  종가,요 만기 .2012년 7청\n",
      "\n",
      "전월  시 반적으로 3일 종가중도\n",
      "-투상 자 환원금보장상이품의  가수능익하 나, 구조6개월 이와 내에초형 는 기 조상건을 공품개괄적으로 설명하고 있지\n",
      "\n",
      "투자정만가액의 자90% 이는,  상세상품, 부 6개월내용을 이 잘 이해한후 후  에는 청내약용95% 이상 을 이나 여부를 결지계정산 방급하합니라고다 안내하고 있습니다.식.에 \n",
      "\n",
      "4. 대한  위험추가 정보요가 인: 필요원금손실 해 보입니가능성다, .발행회사 신용위험, 기초자산 거래정지 위험 등이 있습니다.\n",
      "\n",
      "5. 유의사항: 정부 보증 상품이 아니며, 청약 시 투자설명서를 반드시 확인해야 합니다.\n",
      "\n",
      "요약하면 원금보장형 ELS이나 기초자산 가격 변동, 발행회사 신용 등에 따라 원금손실 위험이 있으므로 투자 시 주의가 필요합니다."
     ]
    }
   ],
   "source": [
    "\n",
    "# Apply to texts\n",
    "texts = [i.text for i in text_elements]\n",
    "text_summaries = summarize_chain.batch(texts, {\"max_concurrency\": 5})"
   ]
  },
  {
   "cell_type": "code",
   "execution_count": 34,
   "id": "130a2b37-ca39-436c-8080-1a17962a7478",
   "metadata": {
    "tags": []
   },
   "outputs": [],
   "source": [
    "from langchain.prompts import ChatPromptTemplate\n",
    "from langchain.schema.output_parser import StrOutputParser"
   ]
  },
  {
   "cell_type": "code",
   "execution_count": 35,
   "id": "ec6f769b-993c-4e0b-9f7e-c9da03af8cf9",
   "metadata": {
    "tags": []
   },
   "outputs": [],
   "source": [
    "# Prompt\n",
    "prompt_text=\"\"\"\n",
    "\\n\\nHuman:\n",
    "You are an assistant tasked with summarizing tables and text. \\\n",
    "Give a concise summary of the table or text.\n",
    "Table or text chunk: {element}\n",
    "\\n\\nAssistant:\n",
    "\"\"\"\n",
    "prompt = ChatPromptTemplate.from_template(prompt_text)\n",
    "\n",
    "summarize_chain = {\"element\": lambda x:x} | prompt | llm_text | StrOutputParser()"
   ]
  },
  {
   "cell_type": "code",
   "execution_count": 36,
   "id": "6fc24ecb-12b3-4229-a5a8-841e3798eb7d",
   "metadata": {
    "tags": []
   },
   "outputs": [
    {
     "data": {
      "text/plain": [
       "ChatPromptTemplate(input_variables=['element'], messages=[HumanMessagePromptTemplate(prompt=PromptTemplate(input_variables=['element'], template='\\n\\n\\nHuman:\\nYou are an assistant tasked with summarizing tables and text. Give a concise summary of the table or text.\\nTable or text chunk: {element}\\n\\n\\nAssistant:\\n'))])"
      ]
     },
     "execution_count": 36,
     "metadata": {},
     "output_type": "execute_result"
    }
   ],
   "source": [
    "prompt"
   ]
  },
  {
   "cell_type": "code",
   "execution_count": null,
   "id": "34cd16ea-84d2-493d-91bb-99c9f593c484",
   "metadata": {
    "tags": []
   },
   "outputs": [],
   "source": []
  },
  {
   "cell_type": "code",
   "execution_count": 43,
   "id": "cb29b865-a833-48fb-aaf2-16c3425a3f2c",
   "metadata": {
    "tags": []
   },
   "outputs": [],
   "source": [
    "import uuid\n",
    "from langchain.vectorstores import Chroma\n",
    "from langchain.storage import InMemoryStore\n",
    "from langchain.schema.document import Document\n",
    "from langchain.embeddings import OpenAIEmbeddings\n",
    "from langchain.retrievers.multi_vector import MultiVectorRetriever\n",
    "\n",
    "# The vectorstore to use to index the child chunks\n",
    "vectorstore = Chroma(\n",
    "    collection_name=\"summaries\",\n",
    "    embedding_function=llm_emb\n",
    ")\n",
    "\n",
    "# The storage layer for the parent documents\n",
    "store = InMemoryStore()\n",
    "id_key = \"doc_id\"\n",
    "\n",
    "# The retriever (empty to start)\n",
    "retriever = MultiVectorRetriever(\n",
    "    vectorstore=vectorstore,\n",
    "    docstore=store,\n",
    "    id_key=id_key,\n",
    ")\n",
    "\n",
    "# Add texts\n",
    "doc_ids = [str(uuid.uuid4()) for _ in texts]\n",
    "summary_texts = [Document(page_content=s,metadata={id_key: doc_ids[i]}) for i, s in enumerate(text_summaries)]\n",
    "retriever.vectorstore.add_documents(summary_texts)\n",
    "retriever.docstore.mset(list(zip(doc_ids, texts)))\n",
    "\n",
    "# Add tables\n",
    "table_ids = [str(uuid.uuid4()) for _ in tables]\n",
    "summary_tables = [Document(page_content=s,metadata={id_key: table_ids[i]}) for i, s in enumerate(table_summaries)]\n",
    "retriever.vectorstore.add_documents(summary_tables)\n",
    "retriever.docstore.mset(list(zip(table_ids, tables)))"
   ]
  },
  {
   "cell_type": "code",
   "execution_count": 47,
   "id": "3efd25f2-ba17-44c0-89fd-08aa1b2f1f69",
   "metadata": {
    "tags": []
   },
   "outputs": [
    {
     "data": {
      "text/plain": [
       "[Document(page_content='이 표는 만기 시 상환금액에 대한 내용을 설명하고 있습니다. \\n\\n두 가지 경우로 나뉘어 있는데:\\n\\n1. 만기평가가격이 최초기준가격의 100% 이상일 때: \\n상환금액 = {최저기준가격(=최초기준가격 또는 만기평가가격 중 낮은 가격) / 최초기준가격 × 70%}\\n\\n2. 만기평가가격이 최초기준가격의 100% 미만일 때:\\n상환금액 = 총액면금액 × 100% \\n\\n요약하면 만기평가가격 수준에 따라 상환금액의 계산 방식이 달라지는 것을 보여주고 있습니다.', metadata={'doc_id': '5a9b9725-bef1-4f10-83e9-d57fb6afe05c'}),\n",
       " Document(page_content='요약하면 다음과 같습니다:\\n\\n이 표는 KOSPI200 지수 옵션 계약에 대한 만기 시나리오를 보여줍니다. \\n\\n- 최초 기준가격 결정일에는 KOSPI200 지수가 250pt이고, 1계약당 1,500달러를 지불합니다.\\n\\n- 만기평가일 1에서는 KOSPI200 지수가 20% 상승하여 300pt가 되고, 옵션 가치가 10% 상승하여 1,650달러가 됩니다. 이 경우 7% 수익률로 700만원의 세전 이익이 발생합니다.\\n\\n- 만기평가일 2에서는 KOSPI200 지수는 여전히 20% 상승한 300pt이지만, 옵션 가치는 10% 하락하여 1,350달러가 됩니다. 이 경우 손실이 발생합니다.\\n\\nKOSPI200 지수와 옵션 가격 간의 불일치로 인해 수익 또는 손실이 결정됩니다.', metadata={'doc_id': 'f97f5295-c003-430c-a77a-b15b270f9a72'})]"
      ]
     },
     "execution_count": 47,
     "metadata": {},
     "output_type": "execute_result"
    }
   ],
   "source": [
    "summary_tables"
   ]
  },
  {
   "cell_type": "code",
   "execution_count": 45,
   "id": "7329d722-7339-4038-811d-a17e5d31e8d2",
   "metadata": {
    "tags": []
   },
   "outputs": [],
   "source": [
    "from operator import itemgetter\n",
    "from langchain.schema.runnable import RunnablePassthrough\n",
    "\n",
    "# Prompt template\n",
    "template = \"\"\"\n",
    "\\n\\nHuman:\n",
    "Answer the question based only on the following context, which can include text and tables:\n",
    "{context}\n",
    "Question: {question}\n",
    "\\n\\nAssistant:\n",
    "\"\"\"\n",
    "prompt = ChatPromptTemplate.from_template(template)\n",
    "\n",
    "# LLM\n",
    "\n",
    "#model = ChatOpenAI(temperature=0,model=\"gpt-3.5-turbo\")\n",
    "\n",
    "# RAG pipeline\n",
    "chain = (\n",
    "    {\"context\": retriever, \"question\": RunnablePassthrough()}\n",
    "    | prompt\n",
    "    | llm_text\n",
    "    | StrOutputParser()\n",
    ")"
   ]
  },
  {
   "cell_type": "code",
   "execution_count": 46,
   "id": "89594f21-1148-4eba-a6e6-6deb156f16f7",
   "metadata": {
    "tags": []
   },
   "outputs": [
    {
     "name": "stdout",
     "output_type": "stream",
     "text": [
      "주어진 정보를 바탕으로 KOSPI200 지수의 가격은 다음과 같습니다.\n",
      "\n",
      "- 최초기준가격결정일(2011년 7월 7일) KOSPI200 종가: 250pt\n",
      "- 만기평가일 1의 KOSPI200 종가: 300pt (최초 대비 20% 상승)  \n",
      "- 만기평가일 2의 KOSPI200 종가: 300pt (최초 대비 20% 상승)\n",
      "\n",
      "따라서 최초기준가격결정일의 KOSPI200 지수는 250pt이었고, 두 번의 만기평가일에는 모두 300pt로 20% 상승했음을 알 수 있습니다."
     ]
    },
    {
     "data": {
      "text/plain": [
       "'주어진 정보를 바탕으로 KOSPI200 지수의 가격은 다음과 같습니다.\\n\\n- 최초기준가격결정일(2011년 7월 7일) KOSPI200 종가: 250pt\\n- 만기평가일 1의 KOSPI200 종가: 300pt (최초 대비 20% 상승)  \\n- 만기평가일 2의 KOSPI200 종가: 300pt (최초 대비 20% 상승)\\n\\n따라서 최초기준가격결정일의 KOSPI200 지수는 250pt이었고, 두 번의 만기평가일에는 모두 300pt로 20% 상승했음을 알 수 있습니다.'"
      ]
     },
     "execution_count": 46,
     "metadata": {},
     "output_type": "execute_result"
    }
   ],
   "source": [
    "chain.invoke(\"KOSPI200 가격은?\")"
   ]
  },
  {
   "cell_type": "code",
   "execution_count": null,
   "id": "2704626c-322f-4475-90a3-94137920e5ea",
   "metadata": {},
   "outputs": [],
   "source": []
  },
  {
   "cell_type": "code",
   "execution_count": null,
   "id": "1856dea1-dd54-45d6-b2f9-9ba1b04f332a",
   "metadata": {},
   "outputs": [],
   "source": []
  },
  {
   "cell_type": "code",
   "execution_count": null,
   "id": "56869fe6-18fd-44fa-82a7-25ece7d58064",
   "metadata": {},
   "outputs": [],
   "source": []
  },
  {
   "cell_type": "code",
   "execution_count": null,
   "id": "816842c6-bdf5-47de-82ce-966b5d181307",
   "metadata": {
    "tags": []
   },
   "outputs": [],
   "source": [
    "\n",
    "prompt1 = \"나는 인공지능 AI 보험 서비스입니다. 생명과 손해 보험의 차이에 대해 설명해 주세요.\"\n",
    "messages = [\n",
    "    HumanMessage(content=prompt1)\n",
    "]\n",
    "\n",
    "# messages = [\n",
    "#     {\"role\": \"user\", \"content\": [{\"type\": \"text\", \"text\": prompt1}]},\n",
    "# ]\n",
    "\n",
    "response1 = llm_text.invoke(messages)"
   ]
  },
  {
   "cell_type": "code",
   "execution_count": null,
   "id": "a3d7624e-02f2-405c-bf89-7563e862f487",
   "metadata": {},
   "outputs": [],
   "source": []
  },
  {
   "cell_type": "code",
   "execution_count": null,
   "id": "9b9f8e5c-5f73-437d-bd13-7ed89685e64d",
   "metadata": {},
   "outputs": [],
   "source": []
  },
  {
   "cell_type": "code",
   "execution_count": null,
   "id": "c2e70406-bc2e-400e-ade1-4392c5cf81dd",
   "metadata": {},
   "outputs": [],
   "source": []
  },
  {
   "cell_type": "code",
   "execution_count": null,
   "id": "b80b1d61-2058-41b0-abf8-5b3fd234d807",
   "metadata": {},
   "outputs": [],
   "source": []
  },
  {
   "cell_type": "markdown",
   "id": "3ba2e829-af8f-4e90-b994-59106cdec8d8",
   "metadata": {},
   "source": [
    "### Embedding 모델 선택"
   ]
  },
  {
   "cell_type": "code",
   "execution_count": 39,
   "id": "0b7b8752-d1e3-4f41-ba35-6da42c3785db",
   "metadata": {
    "tags": []
   },
   "outputs": [],
   "source": [
    "from utils.rag import KoSimCSERobertaContentHandler, SagemakerEndpointEmbeddingsJumpStart"
   ]
  },
  {
   "cell_type": "code",
   "execution_count": 40,
   "id": "793b03f7-3186-4969-b76a-98fe56bd5fdc",
   "metadata": {
    "tags": []
   },
   "outputs": [],
   "source": [
    "def get_embedding_model(is_bedrock_embeddings, is_KoSimCSERobert, aws_region, endpont_name=None):\n",
    "\n",
    "    if is_bedrock_embeddings:\n",
    "        # We will be using the Titan Embeddings Model to generate our Embeddings.\n",
    "        from langchain.embeddings import BedrockEmbeddings\n",
    "        llm_emb = BedrockEmbeddings(\n",
    "            client=boto3_bedrock,\n",
    "            model_id=bedrock_info.get_model_id(\n",
    "                model_name=\"Titan-Embeddings-G1\"\n",
    "            )\n",
    "        )\n",
    "        print(\"Bedrock Embeddings Model Loaded\")\n",
    "\n",
    "    elif is_KoSimCSERobert:\n",
    "        LLMEmbHandler = KoSimCSERobertaContentHandler()\n",
    "        endpoint_name_emb = endpont_name\n",
    "        llm_emb = SagemakerEndpointEmbeddingsJumpStart(\n",
    "            endpoint_name=endpoint_name_emb,\n",
    "            region_name=aws_region,\n",
    "            content_handler=LLMEmbHandler,\n",
    "        )\n",
    "        print(\"KoSimCSERobert Embeddings Model Loaded\")\n",
    "    else:\n",
    "        llm_emb = None\n",
    "        print(\"No Embedding Model Selected\")\n",
    "\n",
    "    return llm_emb"
   ]
  },
  {
   "cell_type": "markdown",
   "id": "cd72a6b8-eaf0-4036-a530-3bde5ba988cd",
   "metadata": {},
   "source": [
    "#### [중요] is_KoSimCSERobert == True 일시에 endpoint_name 을 꼭 넣어 주세요."
   ]
  },
  {
   "cell_type": "code",
   "execution_count": 42,
   "id": "f42e032b-8715-432c-ae71-12a889f8ffc0",
   "metadata": {
    "tags": []
   },
   "outputs": [
    {
     "name": "stdout",
     "output_type": "stream",
     "text": [
      "Bedrock Embeddings Model Loaded\n"
     ]
    }
   ],
   "source": [
    "is_bedrock_embeddings = True\n",
    "is_KoSimCSERobert = False\n",
    "aws_region = os.environ.get(\"AWS_DEFAULT_REGION\", None)\n",
    "\n",
    "##############################\n",
    "# Parameters for is_KoSimCSERobert\n",
    "##############################\n",
    "if is_KoSimCSERobert: endpont_name = \"<endpoint-name>\"\n",
    "else: endpont_name = None\n",
    "##############################\n",
    "\n",
    "llm_emb = get_embedding_model(is_bedrock_embeddings, is_KoSimCSERobert, aws_region, endpont_name)   "
   ]
  },
  {
   "cell_type": "markdown",
   "id": "7e432237-b9b5-4be3-aa0c-c30eeca6f480",
   "metadata": {},
   "source": [
    "## 3. LangChainOpenSearch VectorStore 정의\n",
    "### 선수 조건\n",
    "- 01_preprocess_docs/02_load_docs_opensearch.ipynb를 통해서 OpenSearch Index 가 생성이 되어 있어야 합니다.\n",
    "#### [중요] 아래에 aws parameter store 에 아래 인증정보가 먼저 입력되어 있어야 합니다.\n",
    "- 01_preprocess_docs/01_parameter_store_example.ipynb 참고"
   ]
  },
  {
   "cell_type": "code",
   "execution_count": null,
   "id": "635ffe33-b1b1-49f7-ae14-07b782d30a63",
   "metadata": {
    "tags": []
   },
   "outputs": [],
   "source": [
    "import boto3\n",
    "from utils.ssm import parameter_store"
   ]
  },
  {
   "cell_type": "code",
   "execution_count": null,
   "id": "7c306f9b-35e9-4f5f-aaef-0b3d00cf30e4",
   "metadata": {
    "tags": []
   },
   "outputs": [],
   "source": [
    "region=boto3.Session().region_name\n",
    "pm = parameter_store(region)"
   ]
  },
  {
   "cell_type": "code",
   "execution_count": null,
   "id": "4a7a8669-f62a-4670-8552-ec684511f272",
   "metadata": {
    "tags": []
   },
   "outputs": [],
   "source": [
    "opensearch_domain_endpoint = pm.get_params(\n",
    "    key=\"opensearch_domain_endpoint\",\n",
    "    enc=False\n",
    ")\n",
    "\n",
    "opensearch_user_id = pm.get_params(\n",
    "    key=\"opensearch_user_id\",\n",
    "    enc=False\n",
    ")\n",
    "\n",
    "opensearch_user_password = pm.get_params(\n",
    "    key=\"opensearch_user_password\",\n",
    "    enc=True\n",
    ")"
   ]
  },
  {
   "cell_type": "code",
   "execution_count": null,
   "id": "fc7866fd-fd9c-4b41-b600-a91e43edfe4d",
   "metadata": {
    "tags": []
   },
   "outputs": [],
   "source": [
    "opensearch_domain_endpoint = opensearch_domain_endpoint\n",
    "rag_user_name = opensearch_user_id\n",
    "rag_user_password = opensearch_user_password\n",
    "\n",
    "http_auth = (rag_user_name, rag_user_password) # Master username, Master password"
   ]
  },
  {
   "cell_type": "markdown",
   "id": "161a900e-effc-4d7f-a179-b6c00eac03ad",
   "metadata": {
    "tags": []
   },
   "source": [
    "### Index 이름 셋팅\n",
    "- 이전 노트북 01_preprocess_docs/02_load_docs_opensearch.ipynb를 통해서 생성된 OpenSearch Index name 입력"
   ]
  },
  {
   "cell_type": "code",
   "execution_count": null,
   "id": "513996ec-f07f-4d87-ade9-f89d1a6f451b",
   "metadata": {
    "tags": []
   },
   "outputs": [],
   "source": [
    "index_name = opensearch_user_password = pm.get_params(\n",
    "    key=\"opensearch_index_name\",\n",
    "    enc=True\n",
    ")\n",
    "\n",
    "print (f'index_name: {index_name}')"
   ]
  },
  {
   "cell_type": "markdown",
   "id": "482f5785-b88d-44fa-a603-080e4bd734a6",
   "metadata": {},
   "source": [
    "### OpenSearch Client 생성"
   ]
  },
  {
   "cell_type": "code",
   "execution_count": null,
   "id": "968b7502-5799-4702-bc17-959e88c330a2",
   "metadata": {
    "tags": []
   },
   "outputs": [],
   "source": [
    "from utils.opensearch import opensearch_utils"
   ]
  },
  {
   "cell_type": "code",
   "execution_count": null,
   "id": "6ceb46a1-e425-4f7e-9319-793b55abb938",
   "metadata": {
    "tags": []
   },
   "outputs": [],
   "source": [
    "os_client = opensearch_utils.create_aws_opensearch_client(\n",
    "    aws_region,\n",
    "    opensearch_domain_endpoint,\n",
    "    http_auth\n",
    ")"
   ]
  },
  {
   "cell_type": "markdown",
   "id": "a5084376-7523-4cf9-9123-adc4ae79f66d",
   "metadata": {
    "tags": []
   },
   "source": [
    "## 4. Retriever based on Hybrid Search 정의\n",
    "- LangChain에서 제공하는 **BaseRetriever** 클래스를 상속받아 **Custom Retriever**를 정의 할 수 있습니다.\n",
    "- 본 샘플코드 에서는 **Hybrid Search based Retriever**를 **정의**합니다. "
   ]
  },
  {
   "cell_type": "markdown",
   "id": "b0a25df0-2a13-4d73-9edc-532caf98f804",
   "metadata": {},
   "source": [
    "OpenSearch Hybrid 는 아래와 같은 방식으로 작동합니다.\n",
    "- (1) Sematic serch를 통해 각 document별 relevant score 산출\n",
    "- (2) Lexical search를 통해 각 document별 relevant score 산출\n",
    "- (3-1) Rank-fusion 방식이 \"simple weighted\" 일 경우\n",
    "    - 산출된 score에 대한 normalization 수행\n",
    "    - 전체 결과에서 가장 높은 스코어는 표준화 과정을 통하여 스코어가 1.0 이 됨.\n",
    "- (3-2) Rank-fusion 방식이 \"Reciprocal Rank Fusion (RRF)\" 일 경우\n",
    "    - Paper: https://plg.uwaterloo.ca/~gvcormac/cormacksigir09-rrf.pdf\n",
    "    - Desc: https://medium.com/@sowmiyajaganathan/hybrid-search-with-re-ranking-ff120c8a426d\n",
    "    - **RRF의 경우 score가 아닌 ranking 정보를 활용, 때문에 score normalization이 필요 없음**\n",
    "    - ![rrf.png](../../../10_advanced_question_answering/img/rrf.png)\n",
    "\n",
    "RRF는 langchain에서 \"Ensemble Retriever\" 이름으로 api를 제공합니다. \n",
    "- https://python.langchain.com/docs/modules/data_connection/retrievers/ensemble"
   ]
  },
  {
   "cell_type": "code",
   "execution_count": null,
   "id": "5db8e470-63a9-4c3d-94c8-1d270a6da822",
   "metadata": {
    "tags": []
   },
   "outputs": [],
   "source": [
    "from utils.rag import OpenSearchHybridSearchRetriever"
   ]
  },
  {
   "cell_type": "markdown",
   "id": "d7feac2f-21a2-4756-b989-66c180bb1e79",
   "metadata": {},
   "source": [
    "- 필터 설정 예시\n",
    "- filter=[ <BR>\n",
    "    　{\"term\": {\"metadata.[**your_metadata_attribute_name**]\": \"**your first keyword**\"}}, <BR>\n",
    "    　{\"term\": {\"metadata.[**your_metadata_attribute_name**]\": \"**your second keyword**\"}},<BR>\n",
    "]"
   ]
  },
  {
   "cell_type": "code",
   "execution_count": null,
   "id": "49c7e131-294f-4ff8-9331-989709c7079c",
   "metadata": {
    "tags": []
   },
   "outputs": [],
   "source": [
    "opensearch_hybrid_retriever = OpenSearchHybridSearchRetriever(\n",
    "    # necessary\n",
    "    os_client=os_client,\n",
    "    index_name=index_name,\n",
    "    llm_emb=llm_emb,\n",
    "    llm_text=llm_text,\n",
    "\n",
    "    # option for lexical\n",
    "    minimum_should_match=0,\n",
    "    filter=[],\n",
    "\n",
    "    # option for rank fusion\n",
    "    fusion_algorithm=\"RRF\", # [\"RRF\", \"simple_weighted\"], rank fusion 방식 정의\n",
    "    ensemble_weights=[.51, .49], # [for lexical, for semantic], Lexical, Semantic search 결과에 대한 최종 반영 비율 정의\n",
    "\n",
    "    # option for async search\n",
    "    async_mode=True,\n",
    "\n",
    "    # option for output\n",
    "    k=5, # 최종 Document 수 정의\n",
    "    verbose=True,\n",
    ")"
   ]
  },
  {
   "cell_type": "markdown",
   "id": "cfb26835-ad98-41c5-9e9d-2453642e3551",
   "metadata": {},
   "source": [
    "### Retrieval example\n",
    "- default search"
   ]
  },
  {
   "cell_type": "code",
   "execution_count": null,
   "id": "9c06e89f-79de-413c-ba9c-a188ca3fe2d0",
   "metadata": {
    "tags": []
   },
   "outputs": [],
   "source": [
    "from utils.rag import show_context_used"
   ]
  },
  {
   "cell_type": "code",
   "execution_count": null,
   "id": "fe3bfee3-dac1-45b9-8795-03e36c1632a9",
   "metadata": {
    "tags": []
   },
   "outputs": [],
   "source": [
    "#query = \"중지된 경우 이체\"\n",
    "query = \"vidio max size?\""
   ]
  },
  {
   "cell_type": "code",
   "execution_count": null,
   "id": "05b13e5e-4a66-4dc8-b18c-42a6e3bd6037",
   "metadata": {
    "tags": []
   },
   "outputs": [],
   "source": [
    "%%time\n",
    "search_hybrid_result = opensearch_hybrid_retriever.get_relevant_documents(query)\n",
    "\n",
    "print(\"\\n==========  Results  ==========\\n\")\n",
    "print(f'1. question: {query}')\n",
    "print (f'2. # documents: {len(search_hybrid_result)}')\n",
    "print(\"3. Documents: \\n\")\n",
    "\n",
    "show_context_used(search_hybrid_result)"
   ]
  },
  {
   "cell_type": "markdown",
   "id": "c09221b5-4a6c-463b-9769-35cc8362e33c",
   "metadata": {},
   "source": [
    "- update parameters"
   ]
  },
  {
   "cell_type": "code",
   "execution_count": null,
   "id": "b7bb4672-d2b8-4b29-b71c-b06d84bcd470",
   "metadata": {
    "tags": []
   },
   "outputs": [],
   "source": [
    "opensearch_hybrid_retriever.update_search_params(\n",
    "    k=10,\n",
    "    minimum_should_match=0,\n",
    "    filter=[],\n",
    "    #filter=[\n",
    "    #    {\"term\": {\"metadata.seq_num\": \"64\"}},\n",
    "    #],\n",
    "    async_mode=True\n",
    ")"
   ]
  },
  {
   "cell_type": "code",
   "execution_count": null,
   "id": "1b9b45b1-cb92-4954-8087-143a550350c8",
   "metadata": {
    "tags": []
   },
   "outputs": [],
   "source": [
    "#query = \"중지된 경우 이체\"\n",
    "query = \"vidio max size?\"\n",
    "search_hybrid_result = opensearch_hybrid_retriever.get_relevant_documents(query)\n",
    "\n",
    "print(\"\\n==========  Results  ==========\\n\")\n",
    "print(f'1. question: {query}')\n",
    "print(f'2. # documents: {len(search_hybrid_result)}')\n",
    "print(\"3. Documents: \\n\")\n",
    "\n",
    "show_context_used(search_hybrid_result)"
   ]
  },
  {
   "cell_type": "markdown",
   "id": "a981abe7-5208-48f5-a9cc-8c557e9941ca",
   "metadata": {},
   "source": [
    "## 5. RAG using RetrievalQA powered by LangChain"
   ]
  },
  {
   "cell_type": "code",
   "execution_count": null,
   "id": "08cf6d2b-451b-499c-aec2-bb6f5abafbb0",
   "metadata": {
    "tags": []
   },
   "outputs": [],
   "source": [
    "from utils.rag import prompt_repo\n",
    "from langchain.prompts import PromptTemplate"
   ]
  },
  {
   "cell_type": "markdown",
   "id": "b490df1f-8113-4dd1-a578-a3e1a6918fde",
   "metadata": {
    "tags": []
   },
   "source": [
    "### Prompting\n",
    "- [TIP] Prompt의 instruction의 경우 한글보다 영어로 했을 때 더 좋은 결과를 얻을 수 있습니다."
   ]
  },
  {
   "cell_type": "code",
   "execution_count": null,
   "id": "920a65f0-0110-421b-b03c-a1f3a967cf49",
   "metadata": {
    "tags": []
   },
   "outputs": [],
   "source": [
    "PROMPT = prompt_repo.get_qa(prompt_type=\"answer_only\") # [\"answer_only\", \"answer_with_ref\"]\n",
    "pprint (PROMPT.template)"
   ]
  },
  {
   "cell_type": "markdown",
   "id": "c66157a6-aec8-4555-a90f-1178e6f4f6e0",
   "metadata": {},
   "source": [
    "### Update Search Params (Optional)"
   ]
  },
  {
   "cell_type": "code",
   "execution_count": null,
   "id": "64df2daf-8b42-472a-885f-97320ee98132",
   "metadata": {
    "tags": []
   },
   "outputs": [],
   "source": [
    "from langchain.chains import RetrievalQA"
   ]
  },
  {
   "cell_type": "code",
   "execution_count": null,
   "id": "d2697230-6962-43d8-8917-ba9daa4295bb",
   "metadata": {
    "tags": []
   },
   "outputs": [],
   "source": [
    "opensearch_hybrid_retriever.update_search_params(\n",
    "    k=5,\n",
    "    minimum_should_match=3,\n",
    "    #filter=[\n",
    "    #    {\"term\": {\"metadata.project\": \"KS\"}},\n",
    "    #],\n",
    "    filter=[],\n",
    "    async_mode=True\n",
    ")"
   ]
  },
  {
   "cell_type": "markdown",
   "id": "aee26c22-b674-4f4f-a87b-29508e336fda",
   "metadata": {},
   "source": [
    "### Request"
   ]
  },
  {
   "cell_type": "code",
   "execution_count": null,
   "id": "95fa61d3-9256-432a-96a3-2c696c97ea68",
   "metadata": {
    "tags": []
   },
   "outputs": [],
   "source": [
    "qa = RetrievalQA.from_chain_type(\n",
    "    llm=llm_text,\n",
    "    chain_type=\"stuff\",\n",
    "    retriever=opensearch_hybrid_retriever,\n",
    "    return_source_documents=True,\n",
    "    chain_type_kwargs={\n",
    "        \"prompt\": PROMPT,\n",
    "        \"verbose\": False,\n",
    "    },\n",
    "    verbose=False\n",
    ")"
   ]
  },
  {
   "cell_type": "code",
   "execution_count": null,
   "id": "390ad324-40b3-4bcb-92b9-50eb080492a5",
   "metadata": {
    "tags": []
   },
   "outputs": [],
   "source": [
    "#query = \"중지된 경우 이체\"\n",
    "query = \"vidio max size?\"\n",
    "response = qa(query)"
   ]
  },
  {
   "cell_type": "code",
   "execution_count": null,
   "id": "01e77dad-dc19-416b-80e7-19fac3b736a5",
   "metadata": {
    "tags": []
   },
   "outputs": [],
   "source": [
    "print(\"##################################\")\n",
    "print(\"query: \", query)\n",
    "print(\"##################################\")\n",
    "\n",
    "print (colored(\"\\n\\n### Answer ###\", \"blue\"))\n",
    "print_ww(response['result'])\n",
    "\n",
    "print (colored(\"\\n\\n### Contexts ###\", \"green\"))\n",
    "show_context_used(response['source_documents'])"
   ]
  }
 ],
 "metadata": {
  "kernelspec": {
   "display_name": "conda_python3",
   "language": "python",
   "name": "conda_python3"
  },
  "language_info": {
   "codemirror_mode": {
    "name": "ipython",
    "version": 3
   },
   "file_extension": ".py",
   "mimetype": "text/x-python",
   "name": "python",
   "nbconvert_exporter": "python",
   "pygments_lexer": "ipython3",
   "version": "3.10.12"
  }
 },
 "nbformat": 4,
 "nbformat_minor": 5
}
