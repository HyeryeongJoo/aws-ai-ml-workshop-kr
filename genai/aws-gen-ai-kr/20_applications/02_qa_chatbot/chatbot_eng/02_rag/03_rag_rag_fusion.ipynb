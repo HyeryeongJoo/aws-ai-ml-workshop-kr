{
 "cells": [
  {
   "cell_type": "markdown",
   "id": "5deb2df2-413d-49bd-a829-3a1fc344937e",
   "metadata": {},
   "source": [
    "# RAG Based on RAG-Fusion\n",
    "- Hybrid Search\n",
    "- ReRanker\n",
    "- RAG-Fusion"
   ]
  },
  {
   "cell_type": "markdown",
   "id": "b1f81abc-3277-4a6b-9ef1-d4f997d67fbe",
   "metadata": {},
   "source": [
    "## Setting\n",
    " - Auto Reload\n",
    " - path for utils"
   ]
  },
  {
   "cell_type": "code",
   "execution_count": 1,
   "id": "ddde4105-b759-4d6c-8214-8e1ab485ae48",
   "metadata": {
    "tags": []
   },
   "outputs": [],
   "source": [
    "%load_ext autoreload\n",
    "%autoreload 2"
   ]
  },
  {
   "cell_type": "code",
   "execution_count": 2,
   "id": "57c2cdb1-d785-4317-afce-938f13141085",
   "metadata": {
    "tags": []
   },
   "outputs": [],
   "source": [
    "import sys, os\n",
    "module_path = \"../../..\"\n",
    "sys.path.append(os.path.abspath(module_path))"
   ]
  },
  {
   "cell_type": "markdown",
   "id": "9c4ade56-8dbc-4ded-b355-7e4bcc971e90",
   "metadata": {},
   "source": [
    "## 1. Bedrock Client 생성"
   ]
  },
  {
   "cell_type": "code",
   "execution_count": 3,
   "id": "cc2d877f-e877-48f6-8dd4-239de20e45cd",
   "metadata": {
    "tags": []
   },
   "outputs": [],
   "source": [
    "import json\n",
    "import boto3\n",
    "from pprint import pprint\n",
    "from termcolor import colored\n",
    "from utils import bedrock, print_ww\n",
    "from utils.bedrock import bedrock_info"
   ]
  },
  {
   "cell_type": "markdown",
   "id": "088e6490-c79a-49e4-841c-9fdb91292608",
   "metadata": {},
   "source": [
    "### ---- ⚠️ Un-comment and edit the below lines as needed for your AWS setup ⚠️ ----\n",
    "- os.environ[\"AWS_DEFAULT_REGION\"] = \"<REGION_NAME>\"  # E.g. \"us-east-1\"\n",
    "- os.environ[\"AWS_PROFILE\"] = \"<YOUR_PROFILE>\"\n",
    "- os.environ[\"BEDROCK_ASSUME_ROLE\"] = \"<YOUR_ROLE_ARN>\"  # E.g. \"arn:aws:...\"\n",
    "- os.environ[\"BEDROCK_ENDPOINT_URL\"] = \"<YOUR_ENDPOINT_URL>\"  # E.g. \"https://...\""
   ]
  },
  {
   "cell_type": "code",
   "execution_count": 44,
   "id": "cab9312c-5f61-4730-96c3-5eef54a5f08c",
   "metadata": {
    "tags": []
   },
   "outputs": [
    {
     "name": "stdout",
     "output_type": "stream",
     "text": [
      "Create new client\n",
      "  Using region: None\n",
      "  Using profile: None\n",
      "boto3 Bedrock client successfully created!\n",
      "bedrock-runtime(https://bedrock-runtime.us-west-2.amazonaws.com)\n",
      "\u001b[32m\n",
      "== FM lists ==\u001b[0m\n",
      "{'Claude-Instant-V1': 'anthropic.claude-instant-v1',\n",
      " 'Claude-V1': 'anthropic.claude-v1',\n",
      " 'Claude-V2': 'anthropic.claude-v2',\n",
      " 'Claude-V2-1': 'anthropic.claude-v2:1',\n",
      " 'Claude-V3-5-Sonnet': 'anthropic.claude-3-5-sonnet-20240620-v1:0',\n",
      " 'Claude-V3-Haiku': 'anthropic.claude-3-haiku-20240307-v1:0',\n",
      " 'Claude-V3-Opus': 'anthropic.claude-3-sonnet-20240229-v1:0',\n",
      " 'Claude-V3-Sonnet': 'anthropic.claude-3-sonnet-20240229-v1:0',\n",
      " 'Cohere-Embeddings-En': 'cohere.embed-english-v3',\n",
      " 'Cohere-Embeddings-Multilingual': 'cohere.embed-multilingual-v3',\n",
      " 'Command': 'cohere.command-text-v14',\n",
      " 'Command-Light': 'cohere.command-light-text-v14',\n",
      " 'Jurassic-2-Mid': 'ai21.j2-mid-v1',\n",
      " 'Jurassic-2-Ultra': 'ai21.j2-ultra-v1',\n",
      " 'Llama2-13b-Chat': 'meta.llama2-13b-chat-v1',\n",
      " 'Titan-Embeddings-G1': 'amazon.titan-embed-text-v1',\n",
      " 'Titan-Text-Embeddings-V2': 'amazon.titan-embed-text-v2:0',\n",
      " 'Titan-Text-G1': 'amazon.titan-text-express-v1',\n",
      " 'Titan-Text-G1-Express': 'amazon.titan-text-express-v1',\n",
      " 'Titan-Text-G1-Light': 'amazon.titan-text-lite-v1',\n",
      " 'Titan-Text-G1-Premier': 'amazon.titan-text-premier-v1:0'}\n"
     ]
    }
   ],
   "source": [
    "boto3_bedrock = bedrock.get_bedrock_client(\n",
    "    assumed_role=os.environ.get(\"BEDROCK_ASSUME_ROLE\", None),\n",
    "    endpoint_url=os.environ.get(\"BEDROCK_ENDPOINT_URL\", None),\n",
    "    region=os.environ.get(\"AWS_DEFAULT_REGION\", None),\n",
    ")\n",
    "\n",
    "aws_region = os.environ.get(\"AWS_DEFAULT_REGION\", None)\n",
    "print (colored(\"\\n== FM lists ==\", \"green\"))\n",
    "pprint (bedrock_info.get_list_fm_models())"
   ]
  },
  {
   "cell_type": "markdown",
   "id": "241a9e34-417a-422f-9f75-cb211b2e70e1",
   "metadata": {
    "tags": []
   },
   "source": [
    "## 2. Titan Embedding 및 LLM 인 Claude-v3.5 모델 로딩"
   ]
  },
  {
   "cell_type": "markdown",
   "id": "29bf63d2-4110-407c-af06-a45d2fbed4b5",
   "metadata": {},
   "source": [
    "### LLM 로딩 (Claude-v3.5)"
   ]
  },
  {
   "cell_type": "code",
   "execution_count": 5,
   "id": "9c51443a-04f9-465c-9564-53053eb3e1c2",
   "metadata": {
    "tags": []
   },
   "outputs": [],
   "source": [
    "from langchain_aws import ChatBedrock\n",
    "from langchain.callbacks.streaming_stdout import StreamingStdOutCallbackHandler"
   ]
  },
  {
   "cell_type": "code",
   "execution_count": 6,
   "id": "d09e84e0-b9e1-4b12-8e7a-68f03c5416e5",
   "metadata": {
    "tags": []
   },
   "outputs": [
    {
     "data": {
      "text/plain": [
       "ChatBedrock(callbacks=[<langchain_core.callbacks.streaming_stdout.StreamingStdOutCallbackHandler object at 0x7fba3a6be710>], client=<botocore.client.BedrockRuntime object at 0x7fba4a4a65f0>, model_id='anthropic.claude-3-5-sonnet-20240620-v1:0', model_kwargs={'max_tokens': 1024, 'stop_sequences': ['\\n\\nHuman']}, streaming=True)"
      ]
     },
     "execution_count": 6,
     "metadata": {},
     "output_type": "execute_result"
    }
   ],
   "source": [
    "llm_text = ChatBedrock(\n",
    "    model_id=bedrock_info.get_model_id(model_name=\"Claude-V3-5-Sonnet\"),\n",
    "    client=boto3_bedrock,\n",
    "    model_kwargs={\n",
    "        \"max_tokens\": 1024,\n",
    "        \"stop_sequences\": [\"\\n\\nHuman\"],\n",
    "    },\n",
    "    streaming=True,\n",
    "    callbacks=[StreamingStdOutCallbackHandler()],\n",
    ")\n",
    "llm_text"
   ]
  },
  {
   "cell_type": "markdown",
   "id": "3ba2e829-af8f-4e90-b994-59106cdec8d8",
   "metadata": {},
   "source": [
    "### Embedding 모델 선택"
   ]
  },
  {
   "cell_type": "code",
   "execution_count": 45,
   "id": "0b7b8752-d1e3-4f41-ba35-6da42c3785db",
   "metadata": {
    "tags": []
   },
   "outputs": [],
   "source": [
    "from langchain_aws import BedrockEmbeddings"
   ]
  },
  {
   "cell_type": "code",
   "execution_count": 46,
   "id": "793b03f7-3186-4969-b76a-98fe56bd5fdc",
   "metadata": {
    "tags": []
   },
   "outputs": [
    {
     "name": "stdout",
     "output_type": "stream",
     "text": [
      "Bedrock Embeddings Model Loaded\n"
     ]
    }
   ],
   "source": [
    "llm_emb = BedrockEmbeddings(\n",
    "    client=boto3_bedrock,\n",
    "    model_id=bedrock_info.get_model_id(model_name=\"Titan-Text-Embeddings-V2\")\n",
    ")\n",
    "dimension = 1024 #1536\n",
    "print(\"Bedrock Embeddings Model Loaded\")"
   ]
  },
  {
   "cell_type": "markdown",
   "id": "e10b67d5-382e-4715-a841-eb07b8655da8",
   "metadata": {},
   "source": [
    "## 3. Depoly ReRanker model (if needed)"
   ]
  },
  {
   "cell_type": "code",
   "execution_count": 10,
   "id": "9a08a296-41ef-44cb-857b-63d05a8d187c",
   "metadata": {
    "tags": []
   },
   "outputs": [
    {
     "name": "stdout",
     "output_type": "stream",
     "text": [
      "sagemaker.config INFO - Not applying SDK defaults from location: /etc/xdg/sagemaker/config.yaml\n",
      "sagemaker.config INFO - Not applying SDK defaults from location: /home/ec2-user/.config/sagemaker/config.yaml\n"
     ]
    }
   ],
   "source": [
    "import json\n",
    "import sagemaker\n",
    "from sagemaker.huggingface import HuggingFaceModel"
   ]
  },
  {
   "cell_type": "code",
   "execution_count": 11,
   "id": "33dd04a7-8200-49e7-ae69-55a82be199b4",
   "metadata": {
    "tags": []
   },
   "outputs": [],
   "source": [
    "depoly = False"
   ]
  },
  {
   "cell_type": "code",
   "execution_count": 12,
   "id": "9d40e3dd-a19f-4af3-831a-0cfe79e72cb3",
   "metadata": {
    "tags": []
   },
   "outputs": [],
   "source": [
    "if depoly:\n",
    "\n",
    "    try:\n",
    "        role = sagemaker.get_execution_role()\n",
    "    except ValueError:\n",
    "        iam = boto3.client('iam')\n",
    "        role = iam.get_role(RoleName='sagemaker_execution_role')['Role']['Arn']\n",
    "\n",
    "    # Hub Model configuration. https://huggingface.co/models\n",
    "    hub = {\n",
    "        'HF_MODEL_ID':'BAAI/bge-reranker-large',\n",
    "        'HF_TASK':'text-classification'\n",
    "    }\n",
    "\n",
    "    # create Hugging Face Model Class\n",
    "    huggingface_model = HuggingFaceModel(\n",
    "        transformers_version='4.26.0',\n",
    "        pytorch_version='1.13.1',\n",
    "        py_version='py39',\n",
    "        env=hub,\n",
    "        role=role, \n",
    "    )\n",
    "\n",
    "    # deploy model to SageMaker Inference\n",
    "    predictor = huggingface_model.deploy(\n",
    "        initial_instance_count=1, # number of instances\n",
    "        instance_type='ml.g5.xlarge' # instance type\n",
    "    )\n",
    "\n",
    "    print(f'Accept: {predictor.accept}')\n",
    "    print(f'ContentType: {predictor.content_type}')\n",
    "    print(f'Endpoint: {predictor.endpoint}')"
   ]
  },
  {
   "cell_type": "markdown",
   "id": "1e59a8ca-ea59-49ef-9fa5-ce24f1f3a5c0",
   "metadata": {},
   "source": [
    "#### Save reranker endpoint to Parameter Store"
   ]
  },
  {
   "cell_type": "code",
   "execution_count": 13,
   "id": "8c733b94-d649-40a4-9f16-a44873111519",
   "metadata": {
    "tags": []
   },
   "outputs": [],
   "source": [
    "import boto3\n",
    "from utils.ssm import parameter_store"
   ]
  },
  {
   "cell_type": "code",
   "execution_count": 14,
   "id": "2cdb5605-c0d2-4c93-91d9-cce9119f0908",
   "metadata": {
    "tags": []
   },
   "outputs": [],
   "source": [
    "region=boto3.Session().region_name\n",
    "pm = parameter_store(region)"
   ]
  },
  {
   "cell_type": "code",
   "execution_count": 15,
   "id": "cd180f42-e1a3-4667-a7a5-a40668363482",
   "metadata": {
    "tags": []
   },
   "outputs": [
    {
     "ename": "NameError",
     "evalue": "name 'predictor' is not defined",
     "output_type": "error",
     "traceback": [
      "\u001b[0;31m---------------------------------------------------------------------------\u001b[0m",
      "\u001b[0;31mNameError\u001b[0m                                 Traceback (most recent call last)",
      "Cell \u001b[0;32mIn[15], line 3\u001b[0m\n\u001b[1;32m      1\u001b[0m pm\u001b[38;5;241m.\u001b[39mput_params(\n\u001b[1;32m      2\u001b[0m     key\u001b[38;5;241m=\u001b[39m\u001b[38;5;124m\"\u001b[39m\u001b[38;5;124mreranker_endpoint\u001b[39m\u001b[38;5;124m\"\u001b[39m,\n\u001b[0;32m----> 3\u001b[0m     value\u001b[38;5;241m=\u001b[39m\u001b[38;5;124mf\u001b[39m\u001b[38;5;124m'\u001b[39m\u001b[38;5;132;01m{\u001b[39;00m\u001b[43mpredictor\u001b[49m\u001b[38;5;241m.\u001b[39mendpoint\u001b[38;5;132;01m}\u001b[39;00m\u001b[38;5;124m'\u001b[39m,\n\u001b[1;32m      4\u001b[0m     overwrite\u001b[38;5;241m=\u001b[39m\u001b[38;5;28;01mTrue\u001b[39;00m,\n\u001b[1;32m      5\u001b[0m     enc\u001b[38;5;241m=\u001b[39m\u001b[38;5;28;01mFalse\u001b[39;00m\n\u001b[1;32m      6\u001b[0m )\n",
      "\u001b[0;31mNameError\u001b[0m: name 'predictor' is not defined"
     ]
    }
   ],
   "source": [
    "pm.put_params(\n",
    "    key=\"reranker_endpoint\",\n",
    "    value=f'{predictor.endpoint}',\n",
    "    overwrite=True,\n",
    "    enc=False\n",
    ")"
   ]
  },
  {
   "cell_type": "markdown",
   "id": "20e648ef-01ec-4e2f-ba88-7d2510fdb7a6",
   "metadata": {},
   "source": [
    "## 4. Invocation (prediction)"
   ]
  },
  {
   "cell_type": "code",
   "execution_count": 16,
   "id": "114be617-a687-4733-abb9-30394c7ef35f",
   "metadata": {
    "tags": []
   },
   "outputs": [
    {
     "name": "stdout",
     "output_type": "stream",
     "text": [
      "runtime_client: <botocore.client.SageMakerRuntime object at 0x7fb9c8e9a890>\n"
     ]
    }
   ],
   "source": [
    "runtime_client = boto3.Session().client('sagemaker-runtime')\n",
    "print (f'runtime_client: {runtime_client}')"
   ]
  },
  {
   "cell_type": "code",
   "execution_count": 17,
   "id": "26ee5c45-de87-4a2b-bc04-bbc649fcd0c6",
   "metadata": {
    "tags": []
   },
   "outputs": [],
   "source": [
    "endpoint_name = pm.get_params(\n",
    "    key=\"reranker_endpoint\",\n",
    "    enc=False\n",
    ")\n",
    "deserializer = \"application/json\""
   ]
  },
  {
   "cell_type": "code",
   "execution_count": 18,
   "id": "bd6288ed-b4fa-466f-9e2b-57484b827b0a",
   "metadata": {
    "tags": []
   },
   "outputs": [],
   "source": [
    "payload = json.dumps(\n",
    "    {\n",
    "        \"inputs\": [\n",
    "            {\"text\": \"I hate you\", \"text_pair\": \"I don't like you\"},\n",
    "            {\"text\": \"He hates you\", \"text_pair\": \"He like you\"}\n",
    "        ]\n",
    "    }\n",
    ")"
   ]
  },
  {
   "cell_type": "code",
   "execution_count": 19,
   "id": "c1eebe88-8b92-4e81-a103-b5a5d7a91bb3",
   "metadata": {
    "tags": []
   },
   "outputs": [
    {
     "name": "stdout",
     "output_type": "stream",
     "text": [
      "Response: [{'label': 'LABEL_0', 'score': 0.9987371563911438}, {'label': 'LABEL_0', 'score': 0.0028581616934388876}]\n",
      "CPU times: user 14.3 ms, sys: 0 ns, total: 14.3 ms\n",
      "Wall time: 86.1 ms\n"
     ]
    }
   ],
   "source": [
    "%%time\n",
    "response = runtime_client.invoke_endpoint(\n",
    "    EndpointName=endpoint_name,\n",
    "    ContentType=\"application/json\",\n",
    "    Accept=deserializer,\n",
    "    Body=payload\n",
    ")\n",
    "## deserialization\n",
    "out = json.loads(response['Body'].read().decode()) ## for json\n",
    "print (f'Response: {out}')"
   ]
  },
  {
   "cell_type": "markdown",
   "id": "7e432237-b9b5-4be3-aa0c-c30eeca6f480",
   "metadata": {},
   "source": [
    "## 5. LangChainmOpenSearch VectorStore 정의\n",
    "### 선수 조건\n",
    "- 01_preprocess_docs/02_load_docs_opensearch.ipynb를 통해서 OpenSearch Index 가 생성이 되어 있어야 합니다.\n",
    "#### [중요] 아래에 aws parameter store 에 아래 인증정보가 먼저 입력되어 있어야 합니다.\n",
    "- 01_preprocess_docs/01_parameter_store_example.ipynb 참고"
   ]
  },
  {
   "cell_type": "code",
   "execution_count": 20,
   "id": "b795f9aa-1aa4-452c-8320-c0a21b19bdab",
   "metadata": {
    "tags": []
   },
   "outputs": [],
   "source": [
    "import boto3\n",
    "from utils.ssm import parameter_store"
   ]
  },
  {
   "cell_type": "code",
   "execution_count": 21,
   "id": "5d375fad-56fb-46d1-8dcc-9cf714486b82",
   "metadata": {
    "tags": []
   },
   "outputs": [],
   "source": [
    "region=boto3.Session().region_name\n",
    "pm = parameter_store(region)"
   ]
  },
  {
   "cell_type": "code",
   "execution_count": 22,
   "id": "ec57f150-da21-4887-bc72-43e212cdbb6c",
   "metadata": {
    "tags": []
   },
   "outputs": [],
   "source": [
    "opensearch_domain_endpoint = pm.get_params(\n",
    "    key=\"opensearch_domain_endpoint\",\n",
    "    enc=False\n",
    ")\n",
    "\n",
    "opensearch_user_id = pm.get_params(\n",
    "    key=\"opensearch_user_id\",\n",
    "    enc=False\n",
    ")\n",
    "\n",
    "opensearch_user_password = pm.get_params(\n",
    "    key=\"opensearch_user_password\",\n",
    "    enc=True\n",
    ")"
   ]
  },
  {
   "cell_type": "code",
   "execution_count": 23,
   "id": "fc7866fd-fd9c-4b41-b600-a91e43edfe4d",
   "metadata": {
    "tags": []
   },
   "outputs": [],
   "source": [
    "opensearch_domain_endpoint = opensearch_domain_endpoint\n",
    "rag_user_name = opensearch_user_id\n",
    "rag_user_password = opensearch_user_password\n",
    "\n",
    "http_auth = (rag_user_name, rag_user_password) # Master username, Master password"
   ]
  },
  {
   "cell_type": "markdown",
   "id": "161a900e-effc-4d7f-a179-b6c00eac03ad",
   "metadata": {
    "tags": []
   },
   "source": [
    "### Index 이름 셋팅\n",
    "- 이전 노트북 01_preprocess_docs/02_load_docs_opensearch.ipynb를 통해서 생성된 OpenSearch Index name 입력"
   ]
  },
  {
   "cell_type": "code",
   "execution_count": 24,
   "id": "d5d9b5eb-052e-4e84-846b-c5385e853ba4",
   "metadata": {
    "tags": []
   },
   "outputs": [
    {
     "name": "stdout",
     "output_type": "stream",
     "text": [
      "index_name: v01-genai-poc-parent-doc-retriever\n"
     ]
    }
   ],
   "source": [
    "index_name = opensearch_user_password = pm.get_params(\n",
    "    key=\"opensearch_index_name\",\n",
    "    enc=True\n",
    ")\n",
    "\n",
    "print (f'index_name: {index_name}')"
   ]
  },
  {
   "cell_type": "markdown",
   "id": "482f5785-b88d-44fa-a603-080e4bd734a6",
   "metadata": {},
   "source": [
    "### OpenSearch Client 생성"
   ]
  },
  {
   "cell_type": "code",
   "execution_count": 25,
   "id": "968b7502-5799-4702-bc17-959e88c330a2",
   "metadata": {
    "tags": []
   },
   "outputs": [],
   "source": [
    "from utils.opensearch import opensearch_utils"
   ]
  },
  {
   "cell_type": "code",
   "execution_count": 26,
   "id": "6ceb46a1-e425-4f7e-9319-793b55abb938",
   "metadata": {
    "tags": []
   },
   "outputs": [],
   "source": [
    "os_client = opensearch_utils.create_aws_opensearch_client(\n",
    "    aws_region,\n",
    "    opensearch_domain_endpoint,\n",
    "    http_auth\n",
    ")"
   ]
  },
  {
   "cell_type": "markdown",
   "id": "a5084376-7523-4cf9-9123-adc4ae79f66d",
   "metadata": {
    "tags": []
   },
   "source": [
    "## 6. Retriever based on Hybrid Search + RAG-Fusion + ReRanker\n",
    "- LangChain에서 제공하는 **BaseRetriever** 클래스를 상속받아 **Custom Retriever**를 정의 할 수 있습니다.\n",
    "- Hybrid-Search에 대한 자세한 내용는 **\"01_rag_hybrid_search.ipyno\"** 에서 확인 가능합니다.\n",
    "- [RAG-Fusion](https://towardsdatascience.com/forget-rag-the-future-is-rag-fusion-1147298d8ad1)\n",
    "![rag-fusion.png](../../../imgs/rag-fusion.png)"
   ]
  },
  {
   "cell_type": "code",
   "execution_count": 27,
   "id": "5db8e470-63a9-4c3d-94c8-1d270a6da822",
   "metadata": {
    "tags": []
   },
   "outputs": [],
   "source": [
    "from utils.rag import OpenSearchHybridSearchRetriever"
   ]
  },
  {
   "cell_type": "markdown",
   "id": "d7feac2f-21a2-4756-b989-66c180bb1e79",
   "metadata": {},
   "source": [
    "- 필터 설정 예시\n",
    "- filter=[ <BR>\n",
    "    　{\"term\": {\"metadata.[**your_metadata_attribute_name**]\": \"**your first keyword**\"}}, <BR>\n",
    "    　{\"term\": {\"metadata.[**your_metadata_attribute_name**]\": \"**your second keyword**\"}},<BR>\n",
    "]"
   ]
  },
  {
   "cell_type": "code",
   "execution_count": 28,
   "id": "49c7e131-294f-4ff8-9331-989709c7079c",
   "metadata": {
    "tags": []
   },
   "outputs": [],
   "source": [
    "opensearch_hybrid_retriever = OpenSearchHybridSearchRetriever(\n",
    "    # necessary\n",
    "    os_client=os_client,\n",
    "    index_name=index_name,\n",
    "    llm_text=llm_text, # llm for query augmentation in rag_fusion\n",
    "    llm_emb=llm_emb,\n",
    "\n",
    "    # option for lexical\n",
    "    minimum_should_match=0,\n",
    "    filter=[],\n",
    "\n",
    "    # option for search\n",
    "    fusion_algorithm=\"RRF\", # [\"RRF\", \"simple_weighted\"], rank fusion 방식 정의\n",
    "    ensemble_weights=[.5, .5], # [for lexical, for semantic], Lexical, Semantic search 결과에 대한 최종 반영 비율 정의\n",
    "    reranker=True, # enable reranker with reranker model\n",
    "    reranker_endpoint_name=endpoint_name, # endpoint name for reranking model\n",
    "    rag_fusion=True, # enable rag_fusion\n",
    "    query_augmentation_size=3, # query_augmentation_size in rag_fusion\n",
    "\n",
    "    # option for async search\n",
    "    async_mode=False,\n",
    "\n",
    "    # option for output\n",
    "    k=5, # 최종 Document 수 정의\n",
    "    verbose=True\n",
    ")"
   ]
  },
  {
   "cell_type": "markdown",
   "id": "cfb26835-ad98-41c5-9e9d-2453642e3551",
   "metadata": {},
   "source": [
    "### Retrieval example\n",
    "- default search"
   ]
  },
  {
   "cell_type": "code",
   "execution_count": 29,
   "id": "9c06e89f-79de-413c-ba9c-a188ca3fe2d0",
   "metadata": {
    "tags": []
   },
   "outputs": [],
   "source": [
    "from utils.rag import show_context_used"
   ]
  },
  {
   "cell_type": "code",
   "execution_count": 30,
   "id": "fe3bfee3-dac1-45b9-8795-03e36c1632a9",
   "metadata": {
    "tags": []
   },
   "outputs": [],
   "source": [
    "query = \"중지된 경우 이체\""
   ]
  },
  {
   "cell_type": "code",
   "execution_count": 31,
   "id": "05b13e5e-4a66-4dc8-b18c-42a6e3bd6037",
   "metadata": {
    "collapsed": true,
    "jupyter": {
     "outputs_hidden": true
    },
    "tags": []
   },
   "outputs": [
    {
     "name": "stdout",
     "output_type": "stream",
     "text": [
      "\n",
      "\n",
      "===== RAG-Fusion Queries =====\n",
      "['중지된 경우 이체', '1. 자동이체 중단 시 대처 방법', '2. 계좌 이체 실패 원인과 해결책', '3. 송금 중지된 상황에서의 처리 절차']\n",
      "\n",
      "[Exeeds ReRanker token limit] Number of chunk_docs after split and chunking= 2\n",
      "\n",
      "##############################\n",
      "async_mode\n",
      "##############################\n",
      "False\n",
      "##############################\n",
      "reranker\n",
      "##############################\n",
      "True\n",
      "##############################\n",
      "rag_fusion\n",
      "##############################\n",
      "True\n",
      "##############################\n",
      "HyDE\n",
      "##############################\n",
      "False\n",
      "##############################\n",
      "parent_document\n",
      "##############################\n",
      "False\n",
      "##############################\n",
      "complex_document\n",
      "##############################\n",
      "False\n",
      "##############################\n",
      "similar_docs_semantic\n",
      "##############################\n",
      "\n",
      "Score: 0.004098360655737705\n",
      "['. Select the ACTIONS drop-down menu from the Devices page and select Manage device > Lock device. 3. Define the 350 character maximum Message devices receive informing them about their overdue payment and, if necessary, instructions on how to pay. 4. Enter the Phone number of the contact managing the selected devices delinquent subscription. Either a phone number or E-mail address is required as a contact resource. Special characters can be used if necessary. 5. Enter the E-mail address of the contact managing the selected devices delinquent subscription. Either a phone number or E-mail address is required as a contact resource. 6. Refer to the Block incoming calls when device is locked checkbox to block incoming calls when the device is in any lock state (SIM Lock, Offline lock, etc.). Leave this option unselected to permit the receipt of incoming calls when the device is locked']\n",
      "{'source': 'all_processed_data.json', 'seq_num': 636, 'title': 'Lock and unlock devices and update lock message', 'url': 'https://docs.samsungknox.com/admin/knox-guard/how-to-guides/manage-devices/lock-and-unlock-devices-and-update-lock-message', 'project': 'KG', 'last_updated': '2023-07-26', 'family_tree': 'child', 'parent_id': '17c775dd-cc6b-4ca5-86f9-556625b03a1c', 'id': 'b617b682-3f65-4e6b-9a50-c2cd1da0f164'}\n",
      "\n",
      "Score: 0.004098360655737705\n",
      "['How do I fix \"signing failed\" errors?. There are many common causes for \"signing failed\" error messages, including: Using an undefined privilege, Broken files, Using an accessory protocol, Using an SDK default key. Doing so can result in a \"signing failed\" error message. A Samsung certificate registered to the Knox Configure portal must be used to sign the app. For more details, see Getting Certificates in the Galaxy Watch for Tizen documentation. See Device-side errors for additional details on error codes and error messages.']\n",
      "{'source': 'all_processed_data.json', 'seq_num': 519, 'title': 'How do I fix \"signing failed\" errors?', 'url': 'https://docs.samsungknox.com/admin/knox-configure/kbas/kba-360020502594', 'project': 'KC', 'last_updated': '2023-07-26', 'family_tree': 'child', 'parent_id': 'e922b743-9178-4d3d-aad8-2835aedc3aaf', 'id': 'cc1822c7-06cb-4a60-b98d-4b63816f29a7'}\n",
      "\n",
      "Score: 0.004098360655737705\n",
      "['. A device can be unassigned from its assigned profile when the device is using a staggered license, and the service period has ended, or when the device is using a non-staggered license, and the 30-day license expiration grace period has ended. Replace a license Complete the following steps if you are: Switching all devices on one license to another (useful when replacing licenses that are about to expire) 1. Select the license you would like to replace. 2. On the Licenses screen, select Replace license. 3. Select the new license to replace the previous license. Switch configured devices to a different license Complete the following steps if you are: Switching from a trial license to a commercial license, Switching from a commercial license to a different commercial license 1. From within the Licenses screen, select the ENTER LICENSE KEY button. Add the new license key to the list of available licenses. 2. Select the name of the profile to utilize with your devices']\n",
      "{'source': 'all_processed_data.json', 'seq_num': 360, 'title': 'Manage licenses', 'url': 'https://docs.samsungknox.com/admin/knox-configure/manage-licenses', 'project': 'KC', 'last_updated': '2023-09-06', 'family_tree': 'child', 'parent_id': 'd651fdd8-c7e2-4809-a105-04a9ecb72a1a', 'id': 'c3f443fd-d70c-4e6a-ae58-966019daf2d3'}\n",
      "\n",
      "Score: 0.004098360655737705\n",
      "['. However, if there are currently still devices associated with a reseller, the following tooltip displays to let an admin know that devices will require reseller re-assignment to proceed with the reseller deletion. 9. Click SAVE to commit the reseller management updates. Profile auto-assignments Optionally select an existing reseller for profile auto-assignments']\n",
      "{'source': 'all_processed_data.json', 'seq_num': 1337, 'title': 'Register resellers', 'url': 'https://docs.samsungknox.com/admin/knox-mobile-enrollment/features/register-resellers', 'project': 'KME', 'last_updated': '2023-07-26', 'family_tree': 'child', 'parent_id': '5c0b4cc5-ec76-4a3b-a49c-f86953ae6d3d', 'id': '038536cb-0709-412a-87d4-44e24bfb39a4'}\n",
      "\n",
      "Score: 0.004032258064516129\n",
      "['. For more information on configuring KME DO and DA profiles, go to: Profile configuration. 2. Ensure the user is not allowed to cancel enrollment (the Allow end user to cancel enrollment checkbox is unselected). This setting is disabled by default for DO KME\"profiles, but must be manually disabled for DA KME profiles. For more information on configuring KME DO and DA profiles, go to: Profile configuration. 2. Once the device is assigned a profile with the above settings, perform a hard factory reset using a combination of external button actions (button combinations vary per device). 3. After the device powers on, connect to the network. You will be prompted for a reboot. 4. Perform the reboot. The enrollment will proceed without prompting for Google account login credentials.']\n",
      "{'source': 'all_processed_data.json', 'seq_num': 1336, 'title': 'Recovering Google FRP-locked devices', 'url': 'https://docs.samsungknox.com/admin/knox-mobile-enrollment/features/recovering-google-frp-locked-devices', 'project': 'KME', 'last_updated': '2023-07-26', 'family_tree': 'child', 'parent_id': 'ab8f05f1-19b7-4757-8ae5-9ee6b53d8a45', 'id': '742b452a-1fc6-4962-9e3f-eb7351f803e6'}\n",
      "\n",
      "Score: 0.004032258064516129\n",
      "['. KMA_F5010 License Activation Failed A server error occurred while checking a valid license. Please contact your administrator. Unenrollment KMA_F4025 Enrollment Failure Failed to enroll the Samsung Knox Manage service. If the problem continues, please contact your administrator. Shared Device User KMA_E1000 User Operation Failed Failed to create a user due to an unknown error. KMA_E1001 User Operation Failed Unable to create a user because the maximum number of users allowed on the device has been exceeded. Contact your administrator. KMA_E1002 User Operation Failed Unable to activate the user because the maximum number of users allowed on the device has been exceeded. KMA_E1003 User Operation Failed Failed to create a user because the device does not have enough storage. KMA_E1004 User Operation Failed Failed to switch users because the user information was not found. If this problem persists, contact your administrator']\n",
      "{'source': 'all_processed_data.json', 'seq_num': 765, 'title': 'Client error codes', 'url': 'https://docs.samsungknox.com/admin/knox-manage/appendix/lists-of-error-codes/client-error-codes', 'project': 'KM', 'last_updated': '2023-07-26', 'family_tree': 'child', 'parent_id': '30a76f14-6039-406f-a31b-444767345aaa', 'id': '25d16dcf-3e51-4c9f-8398-1be3460dce50'}\n",
      "\n",
      "Score: 0.004032258064516129\n",
      "['frame: Disassociated due to external service requirements 48 , Invalid FT Action frame count 49 , Invalid pairwise master key identifier (PMKID) 50 , Invalid MDE 51 , Invalid FTE 52 , Mesh peering canceled for unknown reasons 53 , The mesh STA has reached the supported maximum number of peer mesh STAs 54 , The received information violates the Mesh Configuration policy configured in the mesh STA profile 55 , The mesh STA has received a Mesh Peering Close frame requesting to close the mesh peering']\n",
      "{'source': 'all_processed_data.json', 'seq_num': 282, 'title': 'Wi-Fi disconnection events', 'url': 'https://docs.samsungknox.com/admin/knox-asset-intelligence/dashboard/network-insights/wifi-disconnection-events', 'project': 'KAI', 'last_updated': '2023-07-26', 'family_tree': 'child', 'parent_id': 'b528795d-32d2-4f9b-8932-7d3629022012', 'id': 'aee378dc-5e16-4ec3-86e0-bf96d9e94d47'}\n",
      "None\n",
      "##############################\n",
      "similar_docs_keyword\n",
      "##############################\n",
      "\n",
      "Score: 1.0\n",
      "['Korea. Samsung Care+ for Business에 가입된 단말의 수리는 삼성전자 서비스센터 ( www.samsungsvc.co.kr ) 에서 제공합니다. 지역별 서비스 센터 위치는 삼성전자 서비스센터 웹사이트를 통해 확인하실 수 있습니다. 서비스 운영 시간 월 ~ 금 : 09:00 ~ 19:00, 토요일 : 09:00 ~ 13:00 (일요일 · 공휴일 : 휴무) 혼잡 시간대 - 월/금요일 09시 ~ 11시 화/수/목요일 12시 ~ 14시 토요일 10시 ~ 13시 노트 - ※ 월요일/연휴 다음 날은 방문객 증가로 혼잡이 예상 되오니 다른 날 방문을 요청 드립니다. 노트 - ※ 방문객 증가 시 업무가 일찍 마감되어 당일 수리가 어려울 수 있는 점 양해 부탁드립니다. 아울러, 평일은 제품 점검 시간을 고려하여 운영시간 종료 최소 1시간 전까지 방문 바랍니다. 수리 상태 조회 기업 IT 장비 관리자의 경우 Samsungknox.com 에 로그인 후, Samsung Care+ for Business 메뉴 대시보드에서 Samsung Care+ for Business에 가입된 단말의 서비스 이력 및 수리 세부 상태를 확인할 수 있습니다. 문의처 삼성케어플러스 전용 콜센터 ☎ 1566-4590 (toll free number) , 월요일 ~ 일요일 24시간 지원 색인으로 돌아 가기']\n",
      "{'source': 'all_processed_data.json', 'seq_num': 1692, 'title': 'Korea', 'url': 'https://docs.samsungknox.com/admin/care-plus/submit-a-claim/korea', 'project': 'SCPE', 'last_updated': '2023-07-26', 'family_tree': 'child', 'parent_id': '4fb665fb-37d6-48fc-8f21-7bcba7636dd3', 'id': '5d9b7797-e345-453e-9ab0-99239dca610d'}\n",
      "None\n",
      "##############################\n",
      "similar_docs_without_reranker\n",
      "##############################\n",
      "\n",
      "Score: 0.00819672131147541\n",
      "['Korea. Samsung Care+ for Business에 가입된 단말의 수리는 삼성전자 서비스센터 ( www.samsungsvc.co.kr ) 에서 제공합니다. 지역별 서비스 센터 위치는 삼성전자 서비스센터 웹사이트를 통해 확인하실 수 있습니다. 서비스 운영 시간 월 ~ 금 : 09:00 ~ 19:00, 토요일 : 09:00 ~ 13:00 (일요일 · 공휴일 : 휴무) 혼잡 시간대 - 월/금요일 09시 ~ 11시 화/수/목요일 12시 ~ 14시 토요일 10시 ~ 13시 노트 - ※ 월요일/연휴 다음 날은 방문객 증가로 혼잡이 예상 되오니 다른 날 방문을 요청 드립니다. 노트 - ※ 방문객 증가 시 업무가 일찍 마감되어 당일 수리가 어려울 수 있는 점 양해 부탁드립니다. 아울러, 평일은 제품 점검 시간을 고려하여 운영시간 종료 최소 1시간 전까지 방문 바랍니다. 수리 상태 조회 기업 IT 장비 관리자의 경우 Samsungknox.com 에 로그인 후, Samsung Care+ for Business 메뉴 대시보드에서 Samsung Care+ for Business에 가입된 단말의 서비스 이력 및 수리 세부 상태를 확인할 수 있습니다. 문의처 삼성케어플러스 전용 콜센터 ☎ 1566-4590 (toll free number) , 월요일 ~ 일요일 24시간 지원 색인으로 돌아 가기']\n",
      "{'source': 'all_processed_data.json', 'seq_num': 1692, 'title': 'Korea', 'url': 'https://docs.samsungknox.com/admin/care-plus/submit-a-claim/korea', 'project': 'SCPE', 'last_updated': '2023-07-26', 'family_tree': 'child', 'parent_id': '4fb665fb-37d6-48fc-8f21-7bcba7636dd3', 'id': '5d9b7797-e345-453e-9ab0-99239dca610d'}\n",
      "\n",
      "Score: 0.00819672131147541\n",
      "['. Select the ACTIONS drop-down menu from the Devices page and select Manage device > Lock device. 3. Define the 350 character maximum Message devices receive informing them about their overdue payment and, if necessary, instructions on how to pay. 4. Enter the Phone number of the contact managing the selected devices delinquent subscription. Either a phone number or E-mail address is required as a contact resource. Special characters can be used if necessary. 5. Enter the E-mail address of the contact managing the selected devices delinquent subscription. Either a phone number or E-mail address is required as a contact resource. 6. Refer to the Block incoming calls when device is locked checkbox to block incoming calls when the device is in any lock state (SIM Lock, Offline lock, etc.). Leave this option unselected to permit the receipt of incoming calls when the device is locked']\n",
      "{'source': 'all_processed_data.json', 'seq_num': 636, 'title': 'Lock and unlock devices and update lock message', 'url': 'https://docs.samsungknox.com/admin/knox-guard/how-to-guides/manage-devices/lock-and-unlock-devices-and-update-lock-message', 'project': 'KG', 'last_updated': '2023-07-26', 'family_tree': 'child', 'parent_id': '17c775dd-cc6b-4ca5-86f9-556625b03a1c', 'id': 'b617b682-3f65-4e6b-9a50-c2cd1da0f164'}\n",
      "\n",
      "Score: 0.008064516129032258\n",
      "['How do I fix \"signing failed\" errors?. There are many common causes for \"signing failed\" error messages, including: Using an undefined privilege, Broken files, Using an accessory protocol, Using an SDK default key. Doing so can result in a \"signing failed\" error message. A Samsung certificate registered to the Knox Configure portal must be used to sign the app. For more details, see Getting Certificates in the Galaxy Watch for Tizen documentation. See Device-side errors for additional details on error codes and error messages.']\n",
      "{'source': 'all_processed_data.json', 'seq_num': 519, 'title': 'How do I fix \"signing failed\" errors?', 'url': 'https://docs.samsungknox.com/admin/knox-configure/kbas/kba-360020502594', 'project': 'KC', 'last_updated': '2023-07-26', 'family_tree': 'child', 'parent_id': 'e922b743-9178-4d3d-aad8-2835aedc3aaf', 'id': 'cc1822c7-06cb-4a60-b98d-4b63816f29a7'}\n",
      "\n",
      "Score: 0.007936507936507936\n",
      "['. A device can be unassigned from its assigned profile when the device is using a staggered license, and the service period has ended, or when the device is using a non-staggered license, and the 30-day license expiration grace period has ended. Replace a license Complete the following steps if you are: Switching all devices on one license to another (useful when replacing licenses that are about to expire) 1. Select the license you would like to replace. 2. On the Licenses screen, select Replace license. 3. Select the new license to replace the previous license. Switch configured devices to a different license Complete the following steps if you are: Switching from a trial license to a commercial license, Switching from a commercial license to a different commercial license 1. From within the Licenses screen, select the ENTER LICENSE KEY button. Add the new license key to the list of available licenses. 2. Select the name of the profile to utilize with your devices']\n",
      "{'source': 'all_processed_data.json', 'seq_num': 360, 'title': 'Manage licenses', 'url': 'https://docs.samsungknox.com/admin/knox-configure/manage-licenses', 'project': 'KC', 'last_updated': '2023-09-06', 'family_tree': 'child', 'parent_id': 'd651fdd8-c7e2-4809-a105-04a9ecb72a1a', 'id': 'c3f443fd-d70c-4e6a-ae58-966019daf2d3'}\n",
      "\n",
      "Score: 0.0078125\n",
      "['. However, if there are currently still devices associated with a reseller, the following tooltip displays to let an admin know that devices will require reseller re-assignment to proceed with the reseller deletion. 9. Click SAVE to commit the reseller management updates. Profile auto-assignments Optionally select an existing reseller for profile auto-assignments']\n",
      "{'source': 'all_processed_data.json', 'seq_num': 1337, 'title': 'Register resellers', 'url': 'https://docs.samsungknox.com/admin/knox-mobile-enrollment/features/register-resellers', 'project': 'KME', 'last_updated': '2023-07-26', 'family_tree': 'child', 'parent_id': '5c0b4cc5-ec76-4a3b-a49c-f86953ae6d3d', 'id': '038536cb-0709-412a-87d4-44e24bfb39a4'}\n",
      "\n",
      "Score: 0.007692307692307693\n",
      "['. For more information on configuring KME DO and DA profiles, go to: Profile configuration. 2. Ensure the user is not allowed to cancel enrollment (the Allow end user to cancel enrollment checkbox is unselected). This setting is disabled by default for DO KME\"profiles, but must be manually disabled for DA KME profiles. For more information on configuring KME DO and DA profiles, go to: Profile configuration. 2. Once the device is assigned a profile with the above settings, perform a hard factory reset using a combination of external button actions (button combinations vary per device). 3. After the device powers on, connect to the network. You will be prompted for a reboot. 4. Perform the reboot. The enrollment will proceed without prompting for Google account login credentials.']\n",
      "{'source': 'all_processed_data.json', 'seq_num': 1336, 'title': 'Recovering Google FRP-locked devices', 'url': 'https://docs.samsungknox.com/admin/knox-mobile-enrollment/features/recovering-google-frp-locked-devices', 'project': 'KME', 'last_updated': '2023-07-26', 'family_tree': 'child', 'parent_id': 'ab8f05f1-19b7-4757-8ae5-9ee6b53d8a45', 'id': '742b452a-1fc6-4962-9e3f-eb7351f803e6'}\n",
      "\n",
      "Score: 0.007575757575757576\n",
      "['. KMA_F5010 License Activation Failed A server error occurred while checking a valid license. Please contact your administrator. Unenrollment KMA_F4025 Enrollment Failure Failed to enroll the Samsung Knox Manage service. If the problem continues, please contact your administrator. Shared Device User KMA_E1000 User Operation Failed Failed to create a user due to an unknown error. KMA_E1001 User Operation Failed Unable to create a user because the maximum number of users allowed on the device has been exceeded. Contact your administrator. KMA_E1002 User Operation Failed Unable to activate the user because the maximum number of users allowed on the device has been exceeded. KMA_E1003 User Operation Failed Failed to create a user because the device does not have enough storage. KMA_E1004 User Operation Failed Failed to switch users because the user information was not found. If this problem persists, contact your administrator']\n",
      "{'source': 'all_processed_data.json', 'seq_num': 765, 'title': 'Client error codes', 'url': 'https://docs.samsungknox.com/admin/knox-manage/appendix/lists-of-error-codes/client-error-codes', 'project': 'KM', 'last_updated': '2023-07-26', 'family_tree': 'child', 'parent_id': '30a76f14-6039-406f-a31b-444767345aaa', 'id': '25d16dcf-3e51-4c9f-8398-1be3460dce50'}\n",
      "None\n",
      "##############################\n",
      "similar_docs\n",
      "##############################\n",
      "\n",
      "Score: 0.0009557706653140485\n",
      "['. A device can be unassigned from its assigned profile when the device is using a staggered license, and the service period has ended, or when the device is using a non-staggered license, and the 30-day license expiration grace period has ended. Replace a license Complete the following steps if you are: Switching all devices on one license to another (useful when replacing licenses that are about to expire) 1. Select the license you would like to replace. 2. On the Licenses screen, select Replace license. 3. Select the new license to replace the previous license. Switch configured devices to a different license Complete the following steps if you are: Switching from a trial license to a commercial license, Switching from a commercial license to a different commercial license 1. From within the Licenses screen, select the ENTER LICENSE KEY button. Add the new license key to the list of available licenses. 2. Select the name of the profile to utilize with your devices']\n",
      "{'source': 'all_processed_data.json', 'seq_num': 360, 'title': 'Manage licenses', 'url': 'https://docs.samsungknox.com/admin/knox-configure/manage-licenses', 'project': 'KC', 'last_updated': '2023-09-06', 'family_tree': 'child', 'parent_id': 'd651fdd8-c7e2-4809-a105-04a9ecb72a1a', 'id': 'c3f443fd-d70c-4e6a-ae58-966019daf2d3'}\n",
      "\n",
      "Score: 0.00011383065006544921\n",
      "['Korea. Samsung Care+ for Business에 가입된 단말의 수리는 삼성전자 서비스센터 ( www.samsungsvc.co.kr ) 에서 제공합니다. 지역별 서비스 센터 위치는 삼성전자 서비스센터 웹사이트를 통해 확인하실 수 있습니다. 서비스 운영 시간 월 ~ 금 : 09:00 ~ 19:00, 토요일 : 09:00 ~ 13:00 (일요일 · 공휴일 : 휴무) 혼잡 시간대 - 월/금요일 09시 ~ 11시 화/수/목요일 12시 ~ 14시 토요일 10시 ~ 13시 노트 - ※ 월요일/연휴 다음 날은 방문객 증가로 혼잡이 예상 되오니 다른 날 방문을 요청 드립니다. 노트 - ※ 방문객 증가 시 업무가 일찍 마감되어 당일 수리가 어려울 수 있는 점 양해 부탁드립니다. 아울러, 평일은 제품 점검 시간을 고려하여 운영시간 종료 최소 1시간 전까지 방문 바랍니다. 수리 상태 조회 기업 IT 장비 관리자의 경우 Samsungknox.com 에 로그인 후, Samsung Care+ for Business 메뉴 대시보드에서 Samsung Care+ for Business에 가입된 단말의 서비스 이력 및 수리 세부 상태를 확인할 수 있습니다. 문의처 삼성케어플러스 전용 콜센터 ☎ 1566-4590 (toll free number) , 월요일 ~ 일요일 24시간 지원 색인으로 돌아 가기']\n",
      "{'source': 'all_processed_data.json', 'seq_num': 1692, 'title': 'Korea', 'url': 'https://docs.samsungknox.com/admin/care-plus/submit-a-claim/korea', 'project': 'SCPE', 'last_updated': '2023-07-26', 'family_tree': 'child', 'parent_id': '4fb665fb-37d6-48fc-8f21-7bcba7636dd3', 'id': '5d9b7797-e345-453e-9ab0-99239dca610d'}\n",
      "\n",
      "Score: 7.088414713507518e-05\n",
      "['. Select the ACTIONS drop-down menu from the Devices page and select Manage device > Lock device. 3. Define the 350 character maximum Message devices receive informing them about their overdue payment and, if necessary, instructions on how to pay. 4. Enter the Phone number of the contact managing the selected devices delinquent subscription. Either a phone number or E-mail address is required as a contact resource. Special characters can be used if necessary. 5. Enter the E-mail address of the contact managing the selected devices delinquent subscription. Either a phone number or E-mail address is required as a contact resource. 6. Refer to the Block incoming calls when device is locked checkbox to block incoming calls when the device is in any lock state (SIM Lock, Offline lock, etc.). Leave this option unselected to permit the receipt of incoming calls when the device is locked']\n",
      "{'source': 'all_processed_data.json', 'seq_num': 636, 'title': 'Lock and unlock devices and update lock message', 'url': 'https://docs.samsungknox.com/admin/knox-guard/how-to-guides/manage-devices/lock-and-unlock-devices-and-update-lock-message', 'project': 'KG', 'last_updated': '2023-07-26', 'family_tree': 'child', 'parent_id': '17c775dd-cc6b-4ca5-86f9-556625b03a1c', 'id': 'b617b682-3f65-4e6b-9a50-c2cd1da0f164'}\n",
      "\n",
      "Score: 6.087681322242133e-05\n",
      "['. However, if there are currently still devices associated with a reseller, the following tooltip displays to let an admin know that devices will require reseller re-assignment to proceed with the reseller deletion. 9. Click SAVE to commit the reseller management updates. Profile auto-assignments Optionally select an existing reseller for profile auto-assignments']\n",
      "{'source': 'all_processed_data.json', 'seq_num': 1337, 'title': 'Register resellers', 'url': 'https://docs.samsungknox.com/admin/knox-mobile-enrollment/features/register-resellers', 'project': 'KME', 'last_updated': '2023-07-26', 'family_tree': 'child', 'parent_id': '5c0b4cc5-ec76-4a3b-a49c-f86953ae6d3d', 'id': '038536cb-0709-412a-87d4-44e24bfb39a4'}\n",
      "\n",
      "Score: 5.434597915154882e-05\n",
      "['. KMA_F5010 License Activation Failed A server error occurred while checking a valid license. Please contact your administrator. Unenrollment KMA_F4025 Enrollment Failure Failed to enroll the Samsung Knox Manage service. If the problem continues, please contact your administrator. Shared Device User KMA_E1000 User Operation Failed Failed to create a user due to an unknown error. KMA_E1001 User Operation Failed Unable to create a user because the maximum number of users allowed on the device has been exceeded. Contact your administrator. KMA_E1002 User Operation Failed Unable to activate the user because the maximum number of users allowed on the device has been exceeded. KMA_E1003 User Operation Failed Failed to create a user because the device does not have enough storage. KMA_E1004 User Operation Failed Failed to switch users because the user information was not found. If this problem persists, contact your administrator']\n",
      "{'source': 'all_processed_data.json', 'seq_num': 765, 'title': 'Client error codes', 'url': 'https://docs.samsungknox.com/admin/knox-manage/appendix/lists-of-error-codes/client-error-codes', 'project': 'KM', 'last_updated': '2023-07-26', 'family_tree': 'child', 'parent_id': '30a76f14-6039-406f-a31b-444767345aaa', 'id': '25d16dcf-3e51-4c9f-8398-1be3460dce50'}\n",
      "None\n",
      "\n",
      "==========  Results  ==========\n",
      "\n",
      "1. question: 중지된 경우 이체\n",
      "2. # documents: 5\n",
      "3. Documents: \n",
      "\n",
      "\n",
      "-----------------------------------------------\n",
      "1. Chunk: 980 Characters\n",
      "-----------------------------------------------\n",
      ". A device can be unassigned from its assigned profile when the device is using a staggered license,\n",
      "and the service period has ended, or when the device is using a non-staggered license, and the\n",
      "30-day license expiration grace period has ended. Replace a license Complete the following steps if\n",
      "you are: Switching all devices on one license to another (useful when replacing licenses that are\n",
      "about to expire) 1. Select the license you would like to replace. 2. On the Licenses screen, select\n",
      "Replace license. 3. Select the new license to replace the previous license. Switch configured\n",
      "devices to a different license Complete the following steps if you are: Switching from a trial\n",
      "license to a commercial license, Switching from a commercial license to a different commercial\n",
      "license 1. From within the Licenses screen, select the ENTER LICENSE KEY button. Add the new license\n",
      "key to the list of available licenses. 2. Select the name of the profile to utilize with your\n",
      "devices\n",
      "metadata:\n",
      " {'source': 'all_processed_data.json', 'seq_num': 360, 'title': 'Manage licenses', 'url':\n",
      "'https://docs.samsungknox.com/admin/knox-configure/manage-licenses', 'project': 'KC',\n",
      "'last_updated': '2023-09-06', 'family_tree': 'child', 'parent_id':\n",
      "'d651fdd8-c7e2-4809-a105-04a9ecb72a1a', 'id': 'c3f443fd-d70c-4e6a-ae58-966019daf2d3',\n",
      "'orig_elements': ''}\n",
      "\n",
      "-----------------------------------------------\n",
      "2. Chunk: 669 Characters\n",
      "-----------------------------------------------\n",
      "Korea. Samsung Care+ for Business에 가입된 단말의 수리는 삼성전자 서비스센터 ( www.samsungsvc.co.kr ) 에서 제공합니다. 지역별 서비스\n",
      "센터 위치는 삼성전자 서비스센터 웹사이트를 통해 확인하실 수 있습니다. 서비스 운영 시간 월 ~ 금 : 09:00 ~ 19:00, 토요일 : 09:00 ~ 13:00 (일요일 ·\n",
      "공휴일 : 휴무) 혼잡 시간대 - 월/금요일 09시 ~ 11시 화/수/목요일 12시 ~ 14시 토요일 10시 ~ 13시 노트 - ※ 월요일/연휴 다음 날은 방문객 증가로 혼잡이\n",
      "예상 되오니 다른 날 방문을 요청 드립니다. 노트 - ※ 방문객 증가 시 업무가 일찍 마감되어 당일 수리가 어려울 수 있는 점 양해 부탁드립니다. 아울러, 평일은 제품 점검 시간을\n",
      "고려하여 운영시간 종료 최소 1시간 전까지 방문 바랍니다. 수리 상태 조회 기업 IT 장비 관리자의 경우 Samsungknox.com 에 로그인 후, Samsung Care+\n",
      "for Business 메뉴 대시보드에서 Samsung Care+ for Business에 가입된 단말의 서비스 이력 및 수리 세부 상태를 확인할 수 있습니다. 문의처\n",
      "삼성케어플러스 전용 콜센터 ☎ 1566-4590 (toll free number) , 월요일 ~ 일요일 24시간 지원 색인으로 돌아 가기\n",
      "metadata:\n",
      " {'source': 'all_processed_data.json', 'seq_num': 1692, 'title': 'Korea', 'url':\n",
      "'https://docs.samsungknox.com/admin/care-plus/submit-a-claim/korea', 'project': 'SCPE',\n",
      "'last_updated': '2023-07-26', 'family_tree': 'child', 'parent_id':\n",
      "'4fb665fb-37d6-48fc-8f21-7bcba7636dd3', 'id': '5d9b7797-e345-453e-9ab0-99239dca610d',\n",
      "'orig_elements': ''}\n",
      "\n",
      "-----------------------------------------------\n",
      "3. Chunk: 892 Characters\n",
      "-----------------------------------------------\n",
      ". Select the ACTIONS drop-down menu from the Devices page and select Manage device > Lock device. 3.\n",
      "Define the 350 character maximum Message devices receive informing them about their overdue payment\n",
      "and, if necessary, instructions on how to pay. 4. Enter the Phone number of the contact managing the\n",
      "selected devices delinquent subscription. Either a phone number or E-mail address is required as a\n",
      "contact resource. Special characters can be used if necessary. 5. Enter the E-mail address of the\n",
      "contact managing the selected devices delinquent subscription. Either a phone number or E-mail\n",
      "address is required as a contact resource. 6. Refer to the Block incoming calls when device is\n",
      "locked checkbox to block incoming calls when the device is in any lock state (SIM Lock, Offline\n",
      "lock, etc.). Leave this option unselected to permit the receipt of incoming calls when the device is\n",
      "locked\n",
      "metadata:\n",
      " {'source': 'all_processed_data.json', 'seq_num': 636, 'title': 'Lock and unlock devices and update\n",
      "lock message', 'url': 'https://docs.samsungknox.com/admin/knox-guard/how-to-guides/manage-\n",
      "devices/lock-and-unlock-devices-and-update-lock-message', 'project': 'KG', 'last_updated':\n",
      "'2023-07-26', 'family_tree': 'child', 'parent_id': '17c775dd-cc6b-4ca5-86f9-556625b03a1c', 'id':\n",
      "'b617b682-3f65-4e6b-9a50-c2cd1da0f164', 'orig_elements': ''}\n",
      "\n",
      "-----------------------------------------------\n",
      "4. Chunk: 365 Characters\n",
      "-----------------------------------------------\n",
      ". However, if there are currently still devices associated with a reseller, the following tooltip\n",
      "displays to let an admin know that devices will require reseller re-assignment to proceed with the\n",
      "reseller deletion. 9. Click SAVE to commit the reseller management updates. Profile auto-assignments\n",
      "Optionally select an existing reseller for profile auto-assignments\n",
      "metadata:\n",
      " {'source': 'all_processed_data.json', 'seq_num': 1337, 'title': 'Register resellers', 'url':\n",
      "'https://docs.samsungknox.com/admin/knox-mobile-enrollment/features/register-resellers', 'project':\n",
      "'KME', 'last_updated': '2023-07-26', 'family_tree': 'child', 'parent_id':\n",
      "'5c0b4cc5-ec76-4a3b-a49c-f86953ae6d3d', 'id': '038536cb-0709-412a-87d4-44e24bfb39a4',\n",
      "'orig_elements': ''}\n",
      "\n",
      "-----------------------------------------------\n",
      "5. Chunk: 936 Characters\n",
      "-----------------------------------------------\n",
      ". KMA_F5010 License Activation Failed A server error occurred while checking a valid license. Please\n",
      "contact your administrator. Unenrollment KMA_F4025 Enrollment Failure Failed to enroll the Samsung\n",
      "Knox Manage service. If the problem continues, please contact your administrator. Shared Device User\n",
      "KMA_E1000 User Operation Failed Failed to create a user due to an unknown error. KMA_E1001 User\n",
      "Operation Failed Unable to create a user because the maximum number of users allowed on the device\n",
      "has been exceeded. Contact your administrator. KMA_E1002 User Operation Failed Unable to activate\n",
      "the user because the maximum number of users allowed on the device has been exceeded. KMA_E1003 User\n",
      "Operation Failed Failed to create a user because the device does not have enough storage. KMA_E1004\n",
      "User Operation Failed Failed to switch users because the user information was not found. If this\n",
      "problem persists, contact your administrator\n",
      "metadata:\n",
      " {'source': 'all_processed_data.json', 'seq_num': 765, 'title': 'Client error codes', 'url':\n",
      "'https://docs.samsungknox.com/admin/knox-manage/appendix/lists-of-error-codes/client-error-codes',\n",
      "'project': 'KM', 'last_updated': '2023-07-26', 'family_tree': 'child', 'parent_id':\n",
      "'30a76f14-6039-406f-a31b-444767345aaa', 'id': '25d16dcf-3e51-4c9f-8398-1be3460dce50',\n",
      "'orig_elements': ''}\n",
      "CPU times: user 416 ms, sys: 11.3 ms, total: 427 ms\n",
      "Wall time: 2.33 s\n"
     ]
    }
   ],
   "source": [
    "%%time\n",
    "search_hybrid_result = opensearch_hybrid_retriever.invoke(query)\n",
    "\n",
    "print(\"\\n==========  Results  ==========\\n\")\n",
    "print(f'1. question: {query}')\n",
    "print (f'2. # documents: {len(search_hybrid_result)}')\n",
    "print(\"3. Documents: \\n\")\n",
    "\n",
    "show_context_used(search_hybrid_result)"
   ]
  },
  {
   "cell_type": "markdown",
   "id": "c09221b5-4a6c-463b-9769-35cc8362e33c",
   "metadata": {},
   "source": [
    "- update parameters"
   ]
  },
  {
   "cell_type": "code",
   "execution_count": 32,
   "id": "b7bb4672-d2b8-4b29-b71c-b06d84bcd470",
   "metadata": {
    "tags": []
   },
   "outputs": [],
   "source": [
    "opensearch_hybrid_retriever.update_search_params(\n",
    "    k=10,\n",
    "    minimum_should_match=30,\n",
    "    filter=[\n",
    "        #{\"term\": {\"metadata.project\": \"KS\"}},\n",
    "    ],\n",
    "    reranker=True,\n",
    "    reranker_endpoint_name=endpoint_name,\n",
    "    rag_fusion=True, # enable rag_fusion\n",
    "    query_augmentation_size=2, # query_augmentation_size in rag_fusion\n",
    "    llm_text=llm_text, # llm for query augmentation in rag_fusion\n",
    "    verbose=False\n",
    ")"
   ]
  },
  {
   "cell_type": "code",
   "execution_count": 33,
   "id": "1b9b45b1-cb92-4954-8087-143a550350c8",
   "metadata": {
    "collapsed": true,
    "jupyter": {
     "outputs_hidden": true
    },
    "tags": []
   },
   "outputs": [
    {
     "name": "stdout",
     "output_type": "stream",
     "text": [
      "\n",
      "==========  Results  ==========\n",
      "\n",
      "1. question: 중지된 경우 이체\n",
      "2. # documents: 10\n",
      "3. Documents: \n",
      "\n",
      "\n",
      "-----------------------------------------------\n",
      "1. Chunk: 980 Characters\n",
      "-----------------------------------------------\n",
      ". A device can be unassigned from its assigned profile when the device is using a staggered license,\n",
      "and the service period has ended, or when the device is using a non-staggered license, and the\n",
      "30-day license expiration grace period has ended. Replace a license Complete the following steps if\n",
      "you are: Switching all devices on one license to another (useful when replacing licenses that are\n",
      "about to expire) 1. Select the license you would like to replace. 2. On the Licenses screen, select\n",
      "Replace license. 3. Select the new license to replace the previous license. Switch configured\n",
      "devices to a different license Complete the following steps if you are: Switching from a trial\n",
      "license to a commercial license, Switching from a commercial license to a different commercial\n",
      "license 1. From within the Licenses screen, select the ENTER LICENSE KEY button. Add the new license\n",
      "key to the list of available licenses. 2. Select the name of the profile to utilize with your\n",
      "devices\n",
      "metadata:\n",
      " {'source': 'all_processed_data.json', 'seq_num': 360, 'title': 'Manage licenses', 'url':\n",
      "'https://docs.samsungknox.com/admin/knox-configure/manage-licenses', 'project': 'KC',\n",
      "'last_updated': '2023-09-06', 'family_tree': 'child', 'parent_id':\n",
      "'d651fdd8-c7e2-4809-a105-04a9ecb72a1a', 'id': 'c3f443fd-d70c-4e6a-ae58-966019daf2d3',\n",
      "'orig_elements': ''}\n",
      "\n",
      "-----------------------------------------------\n",
      "2. Chunk: 405 Characters\n",
      "-----------------------------------------------\n",
      ". When Success appears in the Server Transmission Result column, it only indicates that the email\n",
      "has been sent successfully to the SMTP server, and the message has been sent from the Admin Portal.\n",
      "When Failed appears in this column, you can check the failure cause in the Log Details window. In\n",
      "the Sender column, the email sender account ID or the phone number of the outgoing text message is\n",
      "displayed.\n",
      "metadata:\n",
      " {'source': 'all_processed_data.json', 'seq_num': 1009, 'title': 'Service history', 'url':\n",
      "'https://docs.samsungknox.com/admin/knox-manage/monitor/service-history', 'project': 'KM',\n",
      "'last_updated': '2023-07-26', 'family_tree': 'child', 'parent_id':\n",
      "'accf7f66-19ab-47ad-897b-14917a5e5bbd', 'id': '9e903cb7-f71e-40e4-8ba9-75efb3a5333f',\n",
      "'orig_elements': ''}\n",
      "\n",
      "-----------------------------------------------\n",
      "3. Chunk: 669 Characters\n",
      "-----------------------------------------------\n",
      "Korea. Samsung Care+ for Business에 가입된 단말의 수리는 삼성전자 서비스센터 ( www.samsungsvc.co.kr ) 에서 제공합니다. 지역별 서비스\n",
      "센터 위치는 삼성전자 서비스센터 웹사이트를 통해 확인하실 수 있습니다. 서비스 운영 시간 월 ~ 금 : 09:00 ~ 19:00, 토요일 : 09:00 ~ 13:00 (일요일 ·\n",
      "공휴일 : 휴무) 혼잡 시간대 - 월/금요일 09시 ~ 11시 화/수/목요일 12시 ~ 14시 토요일 10시 ~ 13시 노트 - ※ 월요일/연휴 다음 날은 방문객 증가로 혼잡이\n",
      "예상 되오니 다른 날 방문을 요청 드립니다. 노트 - ※ 방문객 증가 시 업무가 일찍 마감되어 당일 수리가 어려울 수 있는 점 양해 부탁드립니다. 아울러, 평일은 제품 점검 시간을\n",
      "고려하여 운영시간 종료 최소 1시간 전까지 방문 바랍니다. 수리 상태 조회 기업 IT 장비 관리자의 경우 Samsungknox.com 에 로그인 후, Samsung Care+\n",
      "for Business 메뉴 대시보드에서 Samsung Care+ for Business에 가입된 단말의 서비스 이력 및 수리 세부 상태를 확인할 수 있습니다. 문의처\n",
      "삼성케어플러스 전용 콜센터 ☎ 1566-4590 (toll free number) , 월요일 ~ 일요일 24시간 지원 색인으로 돌아 가기\n",
      "metadata:\n",
      " {'source': 'all_processed_data.json', 'seq_num': 1692, 'title': 'Korea', 'url':\n",
      "'https://docs.samsungknox.com/admin/care-plus/submit-a-claim/korea', 'project': 'SCPE',\n",
      "'last_updated': '2023-07-26', 'family_tree': 'child', 'parent_id':\n",
      "'4fb665fb-37d6-48fc-8f21-7bcba7636dd3', 'id': '5d9b7797-e345-453e-9ab0-99239dca610d',\n",
      "'orig_elements': ''}\n",
      "\n",
      "-----------------------------------------------\n",
      "4. Chunk: 1019 Characters\n",
      "-----------------------------------------------\n",
      ". , 4040000 , The resource is not found. A system error occurred. Refresh the page and try again. If\n",
      "the problem persists, contact Samsung Knox Support. , 5000000 , An internal server error occurred. A\n",
      "system error occurred. Refresh the page and try again. If the problem persists, contact Samsung Knox\n",
      "Support. , 5000001 , The file format is unsupported. Check the file format. The file must be in CSV\n",
      "format and encoded in UTF-8. If the problem persists, contact Samsung Knox Support. , 5000002 , An\n",
      "error occurred when reading the CSV file. Retry the CSV upload again. If the problem persists,\n",
      "contact Samsung Knox Support. , 4000801 , The file type is unsupported. Ensure the file extension is\n",
      "\".csv\", then retry the upload. , 4000802 , The uploaded CSV file is empty. Check the CSV file\n",
      "content and retry the upload. If the error persists, contact Samsung Knox Support. , 4000803 , The\n",
      "uploaded CSV file is empty. Check the CSV file content and retry the upload. If the error persists,\n",
      "contact Samsung Knox Support\n",
      "metadata:\n",
      " {'source': 'all_processed_data.json', 'seq_num': 309, 'title': 'Portal-side errors', 'url':\n",
      "'https://docs.samsungknox.com/admin/knox-asset-intelligence/troubleshoot/portal-side-errors',\n",
      "'project': 'KAI', 'last_updated': '2023-07-26', 'family_tree': 'child', 'parent_id': 'b2dee0ad-\n",
      "edee-4d1d-98a8-42dde2ce7366', 'id': '95a6560d-27bf-4238-9b0b-6c367f6693b9', 'orig_elements': ''}\n",
      "\n",
      "-----------------------------------------------\n",
      "5. Chunk: 898 Characters\n",
      "-----------------------------------------------\n",
      ". The device is using a staggered license and the service period has ended. The device is using a\n",
      "non-staggered license and the 30-day license expiration grace period has ended. Additionally, when a\n",
      "device is unassigned from its profile, the following occurs regardless of profile type: The Knox\n",
      "Configure server sends a push update to revoke policies. The Knox Configure client keeps apps and\n",
      "content. The Knox Configure client will not be uninstalled. A factory reset is allowed. Devices can\n",
      "be unassigned from the DEVICES screen when the selected device has a status of Profile assigned,\n",
      "Error, Canceled by user, Configured, Failed to configure, or Updates pushed. To unassign a device\n",
      "from its current profile assignment: 1. Click Profiles from the left-hand navigation menu. 2. Click\n",
      "the profile you want to unassign the device from. 3. On the Profile configuration dashboard, click\n",
      "DEVICES. 4\n",
      "metadata:\n",
      " {'source': 'all_processed_data.json', 'seq_num': 377, 'title': 'Enroll a device', 'url':\n",
      "'https://docs.samsungknox.com/admin/knox-configure/how-to-guides/devices/enroll-a-device',\n",
      "'project': 'KC', 'last_updated': '2023-09-27', 'family_tree': 'child', 'parent_id':\n",
      "'5ffd5fd0-4a93-46c0-9007-8160bd0cd85a', 'id': '1892a4a1-f248-446e-b05c-998d89785a5a',\n",
      "'orig_elements': ''}\n",
      "\n",
      "-----------------------------------------------\n",
      "6. Chunk: 184 Characters\n",
      "-----------------------------------------------\n",
      ". The device is assigned to a different group. The device is unassigned. After the old content is\n",
      "removed, any content belonging to the new assignment will be automatically downloaded.\n",
      "metadata:\n",
      " {'source': 'all_processed_data.json', 'seq_num': 831, 'title': 'Content overview ', 'url':\n",
      "'https://docs.samsungknox.com/admin/knox-manage/configure/content/content-overview', 'project':\n",
      "'KM', 'last_updated': '2023-09-06', 'family_tree': 'child', 'parent_id':\n",
      "'b270ee4b-e5c2-4153-b7ae-0b6c39d93c48', 'id': '9576f2e1-1a5d-4aa2-8dee-50515afd229c',\n",
      "'orig_elements': ''}\n",
      "\n",
      "-----------------------------------------------\n",
      "7. Chunk: 892 Characters\n",
      "-----------------------------------------------\n",
      ". Select the ACTIONS drop-down menu from the Devices page and select Manage device > Lock device. 3.\n",
      "Define the 350 character maximum Message devices receive informing them about their overdue payment\n",
      "and, if necessary, instructions on how to pay. 4. Enter the Phone number of the contact managing the\n",
      "selected devices delinquent subscription. Either a phone number or E-mail address is required as a\n",
      "contact resource. Special characters can be used if necessary. 5. Enter the E-mail address of the\n",
      "contact managing the selected devices delinquent subscription. Either a phone number or E-mail\n",
      "address is required as a contact resource. 6. Refer to the Block incoming calls when device is\n",
      "locked checkbox to block incoming calls when the device is in any lock state (SIM Lock, Offline\n",
      "lock, etc.). Leave this option unselected to permit the receipt of incoming calls when the device is\n",
      "locked\n",
      "metadata:\n",
      " {'source': 'all_processed_data.json', 'seq_num': 636, 'title': 'Lock and unlock devices and update\n",
      "lock message', 'url': 'https://docs.samsungknox.com/admin/knox-guard/how-to-guides/manage-\n",
      "devices/lock-and-unlock-devices-and-update-lock-message', 'project': 'KG', 'last_updated':\n",
      "'2023-07-26', 'family_tree': 'child', 'parent_id': '17c775dd-cc6b-4ca5-86f9-556625b03a1c', 'id':\n",
      "'b617b682-3f65-4e6b-9a50-c2cd1da0f164', 'orig_elements': ''}\n",
      "\n",
      "-----------------------------------------------\n",
      "8. Chunk: 191 Characters\n",
      "-----------------------------------------------\n",
      "What happens if I change my mind after my account has been removed? . Unfortunately, there is no way\n",
      "to recover your account. You will have to enroll again to access SamsungKnox.com services.\n",
      "metadata:\n",
      " {'source': 'all_processed_data.json', 'seq_num': 229, 'title': 'What happens if I change my mind\n",
      "after my account has been removed? ', 'url': 'https://docs.samsungknox.com/admin/fundamentals/knox-\n",
      "faq/#what-happens-i-change-my-mind-after-my-account-removed', 'project': 'USP', 'last_updated':\n",
      "'2023-07-26', 'family_tree': 'child', 'parent_id': '867b2e2d-2921-4dcc-bfe2-0bf709a2c9cb', 'id':\n",
      "'2454edf2-df6b-4be0-b80a-f92bbed906d8', 'orig_elements': ''}\n",
      "\n",
      "-----------------------------------------------\n",
      "9. Chunk: 630 Characters\n",
      "-----------------------------------------------\n",
      "What happens to my Knox Configure license if a device is lost or damaged?. If your device is lost or\n",
      "damaged and you want to change the device IMEI associated with your Knox Configure license, you may\n",
      "request a Device IMEI/Serial Number Swap by contacting your local Samsung sales office. You will be\n",
      "asked to provide proof of the IMEI change. For example, you can share an invoice with the device's\n",
      "original IMEI along with an invoice from an authorized service center documenting the repair. After\n",
      "your request's status is approved, the new device's IMEI shows in your Knox Configure console\n",
      "without affecting the license count.\n",
      "metadata:\n",
      " {'source': 'all_processed_data.json', 'seq_num': 503, 'title': 'What happens to my Knox Configure\n",
      "license if a device is lost or damaged?', 'url': 'https://docs.samsungknox.com/admin/knox-\n",
      "configure/kbas/kba-217-what-happens-to-kc-license-if-device-lost', 'project': 'KC', 'last_updated':\n",
      "'2023-07-26', 'family_tree': 'child', 'parent_id': '617492f1-ce7f-47e4-8d02-3acab88d6c2a', 'id':\n",
      "'f3bfbf9d-6f0d-40b0-bad6-943dfb2f6918', 'orig_elements': ''}\n",
      "\n",
      "-----------------------------------------------\n",
      "10. Chunk: 991 Characters\n",
      "-----------------------------------------------\n",
      ". 5. Click CONFIRM. #Revoke invitation 1. Once approved, sign in to the Knox Admin Portal. 2. From\n",
      "the left-navigation, click on Administrators &\"roles. 3. Under NAME, select the target customer link\n",
      "with a pending status. 4. Click REVOKE\"INVITATION. 5. Read the notice to verify that you understand\n",
      "that the user will not be notified with this action and when the user clicks the link in the\n",
      "invitation email, they will not be granted access to Knox solutions or data. 6. Click REVOKE. View\n",
      "and edit admins and roles #View admin and role details In the Administrators & Roles page you'll be\n",
      "able to view the administrator summary by default. To view the role summary, click on the ROLES tab.\n",
      "All the Administrators and Roles can be easily shuffled using the arrows beside table heading NAME\n",
      "in ADMINISTRATORS tab and ROLE\"NAME in ROLES tab. In addition, Administrators can be filtered for a\n",
      "specific role using the drop-down ROLE as shown below. #Edit admin and role details #View details 1\n",
      "metadata:\n",
      " {'source': 'all_processed_data.json', 'seq_num': 1662, 'title': 'Manage admins and roles', 'url':\n",
      "'https://docs.samsungknox.com/admin/care-plus/get-started/manage-admins-and-roles', 'project':\n",
      "'SCPE', 'last_updated': '2023-07-26', 'family_tree': 'child', 'parent_id':\n",
      "'e971e3d5-13cd-4c93-b0a3-ffc762de5abe', 'id': '9d8e1276-d8e1-48c1-bd97-060e8d9622f7',\n",
      "'orig_elements': ''}\n"
     ]
    }
   ],
   "source": [
    "query = \"중지된 경우 이체\"\n",
    "search_hybrid_result = opensearch_hybrid_retriever.invoke(query)\n",
    "\n",
    "print(\"\\n==========  Results  ==========\\n\")\n",
    "print(f'1. question: {query}')\n",
    "print(f'2. # documents: {len(search_hybrid_result)}')\n",
    "print(\"3. Documents: \\n\")\n",
    "\n",
    "show_context_used(search_hybrid_result)"
   ]
  },
  {
   "cell_type": "markdown",
   "id": "a981abe7-5208-48f5-a9cc-8c557e9941ca",
   "metadata": {},
   "source": [
    "## 5. RAG using RetrievalQA powered by LangChain"
   ]
  },
  {
   "cell_type": "code",
   "execution_count": 35,
   "id": "08cf6d2b-451b-499c-aec2-bb6f5abafbb0",
   "metadata": {
    "tags": []
   },
   "outputs": [],
   "source": [
    "from textwrap import dedent"
   ]
  },
  {
   "cell_type": "markdown",
   "id": "b490df1f-8113-4dd1-a578-a3e1a6918fde",
   "metadata": {
    "tags": []
   },
   "source": [
    "### Prompting\n",
    "- [TIP] Prompt의 instruction의 경우 한글보다 영어로 했을 때 더 좋은 결과를 얻을 수 있습니다."
   ]
  },
  {
   "cell_type": "code",
   "execution_count": 36,
   "id": "73a0cf9e-7a9a-4eb4-bf87-7282e5587fb3",
   "metadata": {
    "tags": []
   },
   "outputs": [],
   "source": [
    "system_prompt = dedent(\n",
    "    \"\"\"\n",
    "    You are a master answer bot designed to answer user's questions.\n",
    "    I'm going to give you contexts which consist of texts, tables and images.\n",
    "    Read the contexts carefully, because I'm going to ask you a question about it.\n",
    "    \"\"\"\n",
    ")\n",
    "\n",
    "human_prompt = dedent(\n",
    "    \"\"\"\n",
    "    Here is the contexts as texts: <contexts>{contexts}</contexts>\n",
    "\n",
    "    First, find a few paragraphs or sentences from the contexts that are most relevant to answering the question.\n",
    "    Then, answer the question as much as you can.\n",
    "\n",
    "    Skip the preamble and go straight into the answer.\n",
    "    Don't insert any XML tag such as <contexts> and </contexts> when answering.\n",
    "    Answer in Korean.\n",
    "\n",
    "    Here is the question: <question>{question}</question>\n",
    "\n",
    "    If the question cannot be answered by the contexts, say \"No relevant contexts\".\n",
    "    \"\"\"\n",
    ")"
   ]
  },
  {
   "cell_type": "markdown",
   "id": "c66157a6-aec8-4555-a90f-1178e6f4f6e0",
   "metadata": {},
   "source": [
    "### Update Search Params (Optional)"
   ]
  },
  {
   "cell_type": "code",
   "execution_count": 37,
   "id": "758d19e0-03c5-4996-b783-a9dd3f40cf8d",
   "metadata": {
    "tags": []
   },
   "outputs": [],
   "source": [
    "from utils.rag import rag_chain\n",
    "from langchain.schema.output_parser import StrOutputParser"
   ]
  },
  {
   "cell_type": "code",
   "execution_count": 38,
   "id": "d2697230-6962-43d8-8917-ba9daa4295bb",
   "metadata": {
    "tags": []
   },
   "outputs": [],
   "source": [
    "opensearch_hybrid_retriever.update_search_params(\n",
    "    k=5,\n",
    "    minimum_should_match=0,\n",
    "    filter=[],\n",
    "    reranker=True,\n",
    "    reranker_endpoint_name=endpoint_name,\n",
    "    rag_fusion=True, # enable rag_fusion\n",
    "    query_augmentation_size=2, # query_augmentation_size in rag_fusion\n",
    "    llm_text=llm_text, # llm for query augmentation in rag_fusion\n",
    "    \n",
    "    # option for complex documents consisting of text, table and image\n",
    "    complex_doc=False, # False 이면, invocation시 text만 넣는다.\n",
    "    \n",
    "    async_mode=True,\n",
    "    verbose=False\n",
    ")"
   ]
  },
  {
   "cell_type": "markdown",
   "id": "aee26c22-b674-4f4f-a87b-29508e336fda",
   "metadata": {},
   "source": [
    "### Request"
   ]
  },
  {
   "cell_type": "code",
   "execution_count": 41,
   "id": "95fa61d3-9256-432a-96a3-2c696c97ea68",
   "metadata": {
    "tags": []
   },
   "outputs": [],
   "source": [
    "qa = rag_chain(\n",
    "    llm_text=llm_text,\n",
    "    retriever=opensearch_hybrid_retriever,\n",
    "    system_prompt=system_prompt,\n",
    "    human_prompt=human_prompt,\n",
    "    return_context=True,\n",
    "    verbose=False,\n",
    "    #multi_turn=True\n",
    ")"
   ]
  },
  {
   "cell_type": "code",
   "execution_count": 42,
   "id": "390ad324-40b3-4bcb-92b9-50eb080492a5",
   "metadata": {
    "tags": []
   },
   "outputs": [
    {
     "name": "stdout",
     "output_type": "stream",
     "text": [
      "관련 정보를 찾았습니다. 해당 내용은 다음과 같습니다:\n",
      "\n",
      "\"You can add only one video file in the MP4 or MKV format. The video file must be less than 50 MB.\"\n",
      "\n",
      "따라서 답변은 다음과 같습니다:\n",
      "\n",
      "비디오 파일의 최대 크기는 50MB입니다. MP4나 MKV 형식의 비디오 파일 하나만 추가할 수 있으며, 이 파일은 50MB 미만이어야 합니다."
     ]
    },
    {
     "data": {
      "text/plain": [
       "'관련 정보를 찾았습니다. 해당 내용은 다음과 같습니다:\\n\\n\"You can add only one video file in the MP4 or MKV format. The video file must be less than 50 MB.\"\\n\\n따라서 답변은 다음과 같습니다:\\n\\n비디오 파일의 최대 크기는 50MB입니다. MP4나 MKV 형식의 비디오 파일 하나만 추가할 수 있으며, 이 파일은 50MB 미만이어야 합니다.'"
      ]
     },
     "execution_count": 42,
     "metadata": {},
     "output_type": "execute_result"
    }
   ],
   "source": [
    "#query = \"중지된 경우 이체\"\n",
    "#query = \"교육목표는?\"\n",
    "query = \"vidio max size?\"\n",
    "#query = \"수익률 그래프를 설명해줘\"\n",
    "response, contexts = qa.invoke(\n",
    "    query = query\n",
    ")\n",
    "response\n",
    "\n",
    "#show_context_used(contexts)"
   ]
  },
  {
   "cell_type": "code",
   "execution_count": 43,
   "id": "01e77dad-dc19-416b-80e7-19fac3b736a5",
   "metadata": {
    "tags": []
   },
   "outputs": [
    {
     "name": "stdout",
     "output_type": "stream",
     "text": [
      "##################################\n",
      "query:  vidio max size?\n",
      "##################################\n",
      "\u001b[34m\n",
      "\n",
      "### Answer ###\u001b[0m\n",
      "관련 정보를 찾았습니다. 해당 내용은 다음과 같습니다:\n",
      "\n",
      "\"You can add only one video file in the MP4 or MKV format. The video file must be less than 50 MB.\"\n",
      "\n",
      "따라서 답변은 다음과 같습니다:\n",
      "\n",
      "비디오 파일의 최대 크기는 50MB입니다. MP4나 MKV 형식의 비디오 파일 하나만 추가할 수 있으며, 이 파일은 50MB 미만이어야 합니다.\n",
      "\u001b[32m\n",
      "\n",
      "### Contexts ###\u001b[0m\n",
      "\n",
      "-----------------------------------------------\n",
      "1. Chunk: 839 Characters\n",
      "-----------------------------------------------\n",
      ". You can add up to 10 image files in the PNG, JPG, JPEG, or GIF format (animated files are not\n",
      "supported). Each image file must be less than 5 MB. To upload an image file, click Add and select a\n",
      "file. To delete an image file, click next to the name of the uploaded image file. Note The device\n",
      "control command must be transferred to the device to apply an image file to it. &gt;&gt;&gt; Video\n",
      "Select a video file for the screen saver. You can add only one video file in the MP4 or MKV format.\n",
      "The video file must be less than 50 MB. To upload a video file, click Add and select a file. To\n",
      "delete a video file, click next to the name of the uploaded video file. Note The device control\n",
      "command must be transferred to the device to apply a video to it. &gt; Session timeout Allows the\n",
      "use of the session timeout feature for the Kiosk Browser\n",
      "metadata:\n",
      " {'source': 'all_processed_data.json', 'seq_num': 893, 'title': 'Android Enterprise policies',\n",
      "'url': 'https://docs.samsungknox.com/admin/knox-manage/configure/profile/configure-profile-\n",
      "policies/android-enterprise-policies', 'project': 'KM', 'last_updated': '2023-09-06', 'family_tree':\n",
      "'child', 'parent_id': 'b72bb3cc-e122-413a-8b84-5681f19c49eb', 'id':\n",
      "'2f26cba8-c934-4a41-9aab-50046bde8a8c', 'orig_elements': ''}\n",
      "\n",
      "-----------------------------------------------\n",
      "2. Chunk: 1022 Characters\n",
      "-----------------------------------------------\n",
      ". IT admins must deploy the files again for device users to see the modifications. The following\n",
      "conditions are required to upload and distribute content. Only enrolled Android devices are\n",
      "available. Content files must be 2 GB or less. Available content formats: Type , Format - , -\n",
      "Document , DOC/DOCX, PPT/PPTX, XLS/XLSX, GUL, HWP, PDF, RTF, WKS, WPD, TXT, CSV, VCF Image , BMP,\n",
      "GIF, JPEG, JPG, PNG, PSD, TIF, TIFF, ICO, 3GP Video , AVI, MKV, MP4, MOV, MPG, MPEG, RM, SWF, WMV,\n",
      "MP3, WAV File , RAR, ZIP, JSON, DB3, XML, KML, KMZ, OVPN, HTML, HTM, QMG, OGG, VTPK, GEODATABASE,\n",
      "DKF, SB, CRYPT, XPDS, MBTILES, QGS, QPKG, MMPK, TPK, TPKX , For devices with a screen size smaller\n",
      "than 8 inches, device users can only view content in portrait mode. After a device has downloaded\n",
      "assigned content, the content will be automatically deleted from the device under the following\n",
      "circumstances: The user account is assigned to a different organization or group. The device is\n",
      "assigned to a different group. The device is unassigned\n",
      "metadata:\n",
      " {'source': 'all_processed_data.json', 'seq_num': 831, 'title': 'Content overview ', 'url':\n",
      "'https://docs.samsungknox.com/admin/knox-manage/configure/content/content-overview', 'project':\n",
      "'KM', 'last_updated': '2023-09-06', 'family_tree': 'child', 'parent_id':\n",
      "'b270ee4b-e5c2-4153-b7ae-0b6c39d93c48', 'id': '3673dab2-68da-473b-a031-4e7b52acb0f0',\n",
      "'orig_elements': ''}\n",
      "\n",
      "-----------------------------------------------\n",
      "3. Chunk: 758 Characters\n",
      "-----------------------------------------------\n",
      ". By default, Knox Configure profiles have a 300 MB size limit, which includes uploaded apps. If you\n",
      "exceed this limit, uploaded apps will not be automatically updated and you will need to upload newer\n",
      "versions and push updates manually. ##Application restrictions Disable apps on the device as well as\n",
      "restrict device users from installing, updating, or stopping apps and opening URLs. Under\n",
      "APPLICATION RESTRICTIONS, configure the following settings: Disable system applications , Disable\n",
      "all pre-installed browsers - Disables the internet browsers on the device. Disable Google Play store\n",
      "- Prevents the device from accessing the Google Play store to install additional applications.\n",
      "Disable S Voice - Disables the S Voice personal assistant on the device\n",
      "metadata:\n",
      " {'source': 'all_processed_data.json', 'seq_num': 389, 'title': 'Configure profile settings', 'url':\n",
      "'https://docs.samsungknox.com/admin/knox-configure/how-to-guides/profiles/configure-profile-\n",
      "settings', 'project': 'KC', 'last_updated': '2023-09-06', 'family_tree': 'child', 'parent_id':\n",
      "'99b499b3-7f71-4cf7-aa81-d13c4e90c7c9', 'id': 'b6d29041-2630-45de-ad20-9173b7357e7e',\n",
      "'orig_elements': ''}\n",
      "\n",
      "-----------------------------------------------\n",
      "4. Chunk: 930 Characters\n",
      "-----------------------------------------------\n",
      ". Max TTL - The maximum amount of time, or time to live (TTL), in seconds, that a packet can exist\n",
      "in a network before being discarded by the router. The default value is 64, but a number from 49 to\n",
      "255 can be entered. Packet size - The size of the packet to request, in bytes. The default value is\n",
      "64, but a number from 4 to 1472 can be entered. If the device user sets Packet size as 10, Interval\n",
      "(ms) as 1000 ms, and Timeout (ms) as 500 ms, 10 pings are sent and the interval between each ping is\n",
      "set to 1000 ms. A successful test requires all 10 pings to be received within 500 ms each. The ping\n",
      "test continues even if the device user leaves the screen, but they can stop it at any time by\n",
      "tapping the stop button. Otherwise, the test automatically stops once the set conditions are met. A\n",
      "notification is also displayed in the notification bar for the duration of the test, which the user\n",
      "can tap to return to the test screen\n",
      "metadata:\n",
      " {'source': 'all_processed_data.json', 'seq_num': 292, 'title': 'Use the agent app', 'url':\n",
      "'https://docs.samsungknox.com/admin/knox-asset-intelligence/how-to-guides/use-the-agent-app',\n",
      "'project': 'KAI', 'last_updated': '2023-09-06', 'family_tree': 'child', 'parent_id':\n",
      "'5e1fc1b0-0bdc-4a1f-9a43-e9d8bbe28070', 'id': 'ed5d473e-b02a-4797-9ced-fa6548a6b56b',\n",
      "'orig_elements': ''}\n",
      "\n",
      "-----------------------------------------------\n",
      "5. Chunk: 1013 Characters\n",
      "-----------------------------------------------\n",
      ". Enter your device information in the sample file with the default headings. Save and try uploading\n",
      "the CSV file again. 4000014 The CSV file is empty. Ensure the CSV file uploading is not empty.\n",
      "4000414 The EULA is invalid. A system error occurred. Refresh the page and load the EULA again. If\n",
      "the problem persists, contact Samsung. 4002009 EULA is already agreed to. The end user has already\n",
      "accepted the End User License Agreement (EULA). Do not prompt users to accept the EULA again. Failed\n",
      "to upload file. A system error occurred. Try to upload the file again. If the problem persists,\n",
      "contact Samsung. An app with this name already exists. Ensure the name of the app you are uploading\n",
      "does not already exist in Knox Configure. Re-name the app if necessary. Invalid APK version name.\n",
      "Invalid APK version name. Please change the version name and try uploading again. 4090001 File too\n",
      "large. Max 4000 devices allowed per upload. Try splitting the device upload list to reduce the size\n",
      "of .csv you are uploading\n",
      "metadata:\n",
      " {'source': 'all_processed_data.json', 'seq_num': 433, 'title': 'Portal-side errors', 'url':\n",
      "'https://docs.samsungknox.com/admin/knox-configure/knox-configure-wearables/troubleshoot/portal-\n",
      "side-errors', 'project': 'KC', 'last_updated': '2023-07-26', 'family_tree': 'child', 'parent_id':\n",
      "'291bc872-97b4-4b34-af40-dba8d4bb5292', 'id': '7e88ce07-12b4-4b75-a849-a50d6113afe3',\n",
      "'orig_elements': ''}\n"
     ]
    }
   ],
   "source": [
    "print(\"##################################\")\n",
    "print(\"query: \", query)\n",
    "print(\"##################################\")\n",
    "\n",
    "print (colored(\"\\n\\n### Answer ###\", \"blue\"))\n",
    "print_ww(response)\n",
    "\n",
    "print (colored(\"\\n\\n### Contexts ###\", \"green\"))\n",
    "show_context_used(contexts)"
   ]
  },
  {
   "cell_type": "code",
   "execution_count": null,
   "id": "afa7ff92-4954-4a83-997d-bed08b18aa3b",
   "metadata": {},
   "outputs": [],
   "source": []
  },
  {
   "cell_type": "code",
   "execution_count": null,
   "id": "1a7cd4b8-dde6-44bc-8957-190fd13508ac",
   "metadata": {},
   "outputs": [],
   "source": []
  }
 ],
 "metadata": {
  "kernelspec": {
   "display_name": "conda_python3",
   "language": "python",
   "name": "conda_python3"
  },
  "language_info": {
   "codemirror_mode": {
    "name": "ipython",
    "version": 3
   },
   "file_extension": ".py",
   "mimetype": "text/x-python",
   "name": "python",
   "nbconvert_exporter": "python",
   "pygments_lexer": "ipython3",
   "version": "3.10.14"
  }
 },
 "nbformat": 4,
 "nbformat_minor": 5
}
