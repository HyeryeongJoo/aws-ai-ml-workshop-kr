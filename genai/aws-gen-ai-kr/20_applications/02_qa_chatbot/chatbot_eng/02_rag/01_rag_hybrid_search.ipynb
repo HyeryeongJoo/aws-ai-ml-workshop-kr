{
 "cells": [
  {
   "cell_type": "markdown",
   "id": "5deb2df2-413d-49bd-a829-3a1fc344937e",
   "metadata": {},
   "source": [
    "# RAG Based on Hybrid Search (Lexical + Semantic)\n"
   ]
  },
  {
   "cell_type": "markdown",
   "id": "b1f81abc-3277-4a6b-9ef1-d4f997d67fbe",
   "metadata": {},
   "source": [
    "## Setting\n",
    " - Auto Reload\n",
    " - path for utils"
   ]
  },
  {
   "cell_type": "code",
   "execution_count": 1,
   "id": "ddde4105-b759-4d6c-8214-8e1ab485ae48",
   "metadata": {
    "tags": []
   },
   "outputs": [],
   "source": [
    "%load_ext autoreload\n",
    "%autoreload 2"
   ]
  },
  {
   "cell_type": "code",
   "execution_count": 2,
   "id": "57c2cdb1-d785-4317-afce-938f13141085",
   "metadata": {
    "tags": []
   },
   "outputs": [],
   "source": [
    "import sys, os\n",
    "module_path = \"../../../..\"\n",
    "sys.path.append(os.path.abspath(module_path))"
   ]
  },
  {
   "cell_type": "markdown",
   "id": "9c4ade56-8dbc-4ded-b355-7e4bcc971e90",
   "metadata": {},
   "source": [
    "## 1. Bedrock Client 생성"
   ]
  },
  {
   "cell_type": "code",
   "execution_count": 3,
   "id": "cc2d877f-e877-48f6-8dd4-239de20e45cd",
   "metadata": {
    "tags": []
   },
   "outputs": [],
   "source": [
    "import json\n",
    "import boto3\n",
    "from pprint import pprint\n",
    "from termcolor import colored\n",
    "from utils import bedrock, print_ww\n",
    "from utils.bedrock import bedrock_info"
   ]
  },
  {
   "cell_type": "markdown",
   "id": "088e6490-c79a-49e4-841c-9fdb91292608",
   "metadata": {
    "tags": []
   },
   "source": [
    "### ---- ⚠️ Un-comment and edit the below lines as needed for your AWS setup ⚠️ ----\n",
    "- os.environ[\"AWS_DEFAULT_REGION\"] = \"<REGION_NAME>\"  # E.g. \"us-east-1\"\n",
    "- os.environ[\"AWS_PROFILE\"] = \"<YOUR_PROFILE>\"\n",
    "- os.environ[\"BEDROCK_ASSUME_ROLE\"] = \"<YOUR_ROLE_ARN>\"  # E.g. \"arn:aws:...\"\n",
    "- os.environ[\"BEDROCK_ENDPOINT_URL\"] = \"<YOUR_ENDPOINT_URL>\"  # E.g. \"https://...\""
   ]
  },
  {
   "cell_type": "code",
   "execution_count": 4,
   "id": "cab9312c-5f61-4730-96c3-5eef54a5f08c",
   "metadata": {
    "tags": []
   },
   "outputs": [
    {
     "name": "stdout",
     "output_type": "stream",
     "text": [
      "Create new client\n",
      "  Using region: None\n",
      "  Using profile: None\n",
      "boto3 Bedrock client successfully created!\n",
      "bedrock-runtime(https://bedrock-runtime.us-west-2.amazonaws.com)\n",
      "\u001b[32m\n",
      "== FM lists ==\u001b[0m\n",
      "{'Claude-Instant-V1': 'anthropic.claude-instant-v1',\n",
      " 'Claude-V1': 'anthropic.claude-v1',\n",
      " 'Claude-V2': 'anthropic.claude-v2',\n",
      " 'Claude-V2-1': 'anthropic.claude-v2:1',\n",
      " 'Claude-V3-5-Sonnet': 'anthropic.claude-3-5-sonnet-20240620-v1:0',\n",
      " 'Claude-V3-Haiku': 'anthropic.claude-3-haiku-20240307-v1:0',\n",
      " 'Claude-V3-Opus': 'anthropic.claude-3-sonnet-20240229-v1:0',\n",
      " 'Claude-V3-Sonnet': 'anthropic.claude-3-sonnet-20240229-v1:0',\n",
      " 'Cohere-Embeddings-En': 'cohere.embed-english-v3',\n",
      " 'Cohere-Embeddings-Multilingual': 'cohere.embed-multilingual-v3',\n",
      " 'Command': 'cohere.command-text-v14',\n",
      " 'Command-Light': 'cohere.command-light-text-v14',\n",
      " 'Jurassic-2-Mid': 'ai21.j2-mid-v1',\n",
      " 'Jurassic-2-Ultra': 'ai21.j2-ultra-v1',\n",
      " 'Llama2-13b-Chat': 'meta.llama2-13b-chat-v1',\n",
      " 'Titan-Embeddings-G1': 'amazon.titan-embed-text-v1',\n",
      " 'Titan-Text-Embeddings-V2': 'amazon.titan-embed-text-v2:0',\n",
      " 'Titan-Text-G1': 'amazon.titan-text-express-v1',\n",
      " 'Titan-Text-G1-Express': 'amazon.titan-text-express-v1',\n",
      " 'Titan-Text-G1-Light': 'amazon.titan-text-lite-v1',\n",
      " 'Titan-Text-G1-Premier': 'amazon.titan-text-premier-v1:0'}\n"
     ]
    }
   ],
   "source": [
    "boto3_bedrock = bedrock.get_bedrock_client(\n",
    "    assumed_role=os.environ.get(\"BEDROCK_ASSUME_ROLE\", None),\n",
    "    endpoint_url=os.environ.get(\"BEDROCK_ENDPOINT_URL\", None),\n",
    "    region=os.environ.get(\"AWS_DEFAULT_REGION\", None),\n",
    ")\n",
    "aws_region = os.environ.get(\"AWS_DEFAULT_REGION\", None)\n",
    "\n",
    "print (colored(\"\\n== FM lists ==\", \"green\"))\n",
    "pprint (bedrock_info.get_list_fm_models(verbose=False))"
   ]
  },
  {
   "cell_type": "markdown",
   "id": "241a9e34-417a-422f-9f75-cb211b2e70e1",
   "metadata": {
    "tags": []
   },
   "source": [
    "## 2. Titan Embedding 및 LLM 인 Claude-v3.5 모델 로딩"
   ]
  },
  {
   "cell_type": "markdown",
   "id": "29bf63d2-4110-407c-af06-a45d2fbed4b5",
   "metadata": {},
   "source": [
    "### LLM 로딩 (Claude-v3.5)"
   ]
  },
  {
   "cell_type": "code",
   "execution_count": 5,
   "id": "9c51443a-04f9-465c-9564-53053eb3e1c2",
   "metadata": {
    "tags": []
   },
   "outputs": [],
   "source": [
    "from langchain_aws import ChatBedrock\n",
    "from langchain.callbacks.streaming_stdout import StreamingStdOutCallbackHandler"
   ]
  },
  {
   "cell_type": "code",
   "execution_count": 6,
   "id": "d09e84e0-b9e1-4b12-8e7a-68f03c5416e5",
   "metadata": {
    "tags": []
   },
   "outputs": [
    {
     "data": {
      "text/plain": [
       "ChatBedrock(callbacks=[<langchain_core.callbacks.streaming_stdout.StreamingStdOutCallbackHandler object at 0x7f2e45027640>], client=<botocore.client.BedrockRuntime object at 0x7f2e294fc640>, model_id='anthropic.claude-3-5-sonnet-20240620-v1:0', model_kwargs={'max_tokens': 1024, 'stop_sequences': ['\\n\\nHuman']})"
      ]
     },
     "execution_count": 6,
     "metadata": {},
     "output_type": "execute_result"
    }
   ],
   "source": [
    "llm_text = ChatBedrock(\n",
    "    model_id=bedrock_info.get_model_id(model_name=\"Claude-V3-5-Sonnet\"),\n",
    "    client=boto3_bedrock,\n",
    "    model_kwargs={\n",
    "        \"max_tokens\": 1024,\n",
    "        \"stop_sequences\": [\"\\n\\nHuman\"],\n",
    "    },\n",
    "    #streaming=True,\n",
    "    callbacks=[StreamingStdOutCallbackHandler()],\n",
    ")\n",
    "llm_text"
   ]
  },
  {
   "cell_type": "markdown",
   "id": "3ba2e829-af8f-4e90-b994-59106cdec8d8",
   "metadata": {},
   "source": [
    "### Embedding 모델 선택"
   ]
  },
  {
   "cell_type": "code",
   "execution_count": 7,
   "id": "8eeff6cc-6fac-4798-813f-c39a9696e5e3",
   "metadata": {
    "tags": []
   },
   "outputs": [],
   "source": [
    "from langchain_aws import BedrockEmbeddings"
   ]
  },
  {
   "cell_type": "code",
   "execution_count": 8,
   "id": "a6aebf45-c05c-444f-afcf-6dae383d5e12",
   "metadata": {
    "tags": []
   },
   "outputs": [
    {
     "name": "stdout",
     "output_type": "stream",
     "text": [
      "Bedrock Embeddings Model Loaded\n"
     ]
    }
   ],
   "source": [
    "llm_emb = BedrockEmbeddings(\n",
    "    client=boto3_bedrock,\n",
    "    model_id=bedrock_info.get_model_id(model_name=\"Titan-Text-Embeddings-V2\")\n",
    ")\n",
    "dimension = 1024 #1536\n",
    "print(\"Bedrock Embeddings Model Loaded\")"
   ]
  },
  {
   "cell_type": "markdown",
   "id": "7e432237-b9b5-4be3-aa0c-c30eeca6f480",
   "metadata": {},
   "source": [
    "## 3. LangChainOpenSearch VectorStore 정의\n",
    "### 선수 조건\n",
    "- 01_preprocess_docs/02_load_docs_opensearch.ipynb를 통해서 OpenSearch Index 가 생성이 되어 있어야 합니다.\n",
    "#### [중요] 아래에 aws parameter store 에 아래 인증정보가 먼저 입력되어 있어야 합니다.\n",
    "- 01_preprocess_docs/01_parameter_store_example.ipynb 참고"
   ]
  },
  {
   "cell_type": "code",
   "execution_count": 9,
   "id": "635ffe33-b1b1-49f7-ae14-07b782d30a63",
   "metadata": {
    "tags": []
   },
   "outputs": [],
   "source": [
    "import boto3\n",
    "from utils.ssm import parameter_store"
   ]
  },
  {
   "cell_type": "code",
   "execution_count": 10,
   "id": "7c306f9b-35e9-4f5f-aaef-0b3d00cf30e4",
   "metadata": {
    "tags": []
   },
   "outputs": [],
   "source": [
    "region=boto3.Session().region_name\n",
    "pm = parameter_store(region)"
   ]
  },
  {
   "cell_type": "code",
   "execution_count": 11,
   "id": "4a7a8669-f62a-4670-8552-ec684511f272",
   "metadata": {
    "tags": []
   },
   "outputs": [],
   "source": [
    "opensearch_domain_endpoint = pm.get_params(\n",
    "    key=\"opensearch_domain_endpoint\",\n",
    "    enc=False\n",
    ")\n",
    "\n",
    "opensearch_user_id = pm.get_params(\n",
    "    key=\"opensearch_user_id\",\n",
    "    enc=False\n",
    ")\n",
    "\n",
    "opensearch_user_password = pm.get_params(\n",
    "    key=\"opensearch_user_password\",\n",
    "    enc=True\n",
    ")"
   ]
  },
  {
   "cell_type": "code",
   "execution_count": 12,
   "id": "fc7866fd-fd9c-4b41-b600-a91e43edfe4d",
   "metadata": {
    "tags": []
   },
   "outputs": [],
   "source": [
    "opensearch_domain_endpoint = opensearch_domain_endpoint\n",
    "rag_user_name = opensearch_user_id\n",
    "rag_user_password = opensearch_user_password\n",
    "\n",
    "http_auth = (rag_user_name, rag_user_password) # Master username, Master password"
   ]
  },
  {
   "cell_type": "markdown",
   "id": "161a900e-effc-4d7f-a179-b6c00eac03ad",
   "metadata": {
    "tags": []
   },
   "source": [
    "### Index 이름 셋팅\n",
    "- 이전 노트북 01_preprocess_docs/02_load_docs_opensearch.ipynb를 통해서 생성된 OpenSearch Index name 입력"
   ]
  },
  {
   "cell_type": "code",
   "execution_count": 13,
   "id": "513996ec-f07f-4d87-ade9-f89d1a6f451b",
   "metadata": {
    "tags": []
   },
   "outputs": [
    {
     "name": "stdout",
     "output_type": "stream",
     "text": [
      "index_name: v01-genai-poc-parent-doc-retriever\n"
     ]
    }
   ],
   "source": [
    "index_name = opensearch_user_password = pm.get_params(\n",
    "    key=\"opensearch_index_name\",\n",
    "    enc=True\n",
    ")\n",
    "\n",
    "print (f'index_name: {index_name}')"
   ]
  },
  {
   "cell_type": "markdown",
   "id": "482f5785-b88d-44fa-a603-080e4bd734a6",
   "metadata": {},
   "source": [
    "### OpenSearch Client 생성"
   ]
  },
  {
   "cell_type": "code",
   "execution_count": 14,
   "id": "968b7502-5799-4702-bc17-959e88c330a2",
   "metadata": {
    "tags": []
   },
   "outputs": [],
   "source": [
    "from utils.opensearch import opensearch_utils"
   ]
  },
  {
   "cell_type": "code",
   "execution_count": 15,
   "id": "6ceb46a1-e425-4f7e-9319-793b55abb938",
   "metadata": {
    "tags": []
   },
   "outputs": [],
   "source": [
    "os_client = opensearch_utils.create_aws_opensearch_client(\n",
    "    aws_region,\n",
    "    opensearch_domain_endpoint,\n",
    "    http_auth\n",
    ")"
   ]
  },
  {
   "cell_type": "markdown",
   "id": "a5084376-7523-4cf9-9123-adc4ae79f66d",
   "metadata": {
    "tags": []
   },
   "source": [
    "## 4. Retriever based on Hybrid Search 정의\n",
    "- LangChain에서 제공하는 **BaseRetriever** 클래스를 상속받아 **Custom Retriever**를 정의 할 수 있습니다.\n",
    "- 본 샘플코드 에서는 **Hybrid Search based Retriever**를 **정의**합니다. "
   ]
  },
  {
   "cell_type": "markdown",
   "id": "b0a25df0-2a13-4d73-9edc-532caf98f804",
   "metadata": {},
   "source": [
    "OpenSearch Hybrid 는 아래와 같은 방식으로 작동합니다.\n",
    "- (1) Sematic serch를 통해 각 document별 relevant score 산출\n",
    "- (2) Lexical search를 통해 각 document별 relevant score 산출\n",
    "- (3-1) Rank-fusion 방식이 \"simple weighted\" 일 경우\n",
    "    - 산출된 score에 대한 normalization 수행\n",
    "    - 전체 결과에서 가장 높은 스코어는 표준화 과정을 통하여 스코어가 1.0 이 됨.\n",
    "- (3-2) Rank-fusion 방식이 \"Reciprocal Rank Fusion (RRF)\" 일 경우\n",
    "    - Paper: https://plg.uwaterloo.ca/~gvcormac/cormacksigir09-rrf.pdf\n",
    "    - Desc: https://medium.com/@sowmiyajaganathan/hybrid-search-with-re-ranking-ff120c8a426d\n",
    "    - **RRF의 경우 score가 아닌 ranking 정보를 활용, 때문에 score normalization이 필요 없음**\n",
    "    - ![rrf.png](../../../../10_advanced_question_answering/img/rrf.png)\n",
    "\n",
    "RRF는 langchain에서 \"Ensemble Retriever\" 이름으로 api를 제공합니다. \n",
    "- https://python.langchain.com/docs/modules/data_connection/retrievers/ensemble"
   ]
  },
  {
   "cell_type": "code",
   "execution_count": 16,
   "id": "5db8e470-63a9-4c3d-94c8-1d270a6da822",
   "metadata": {
    "tags": []
   },
   "outputs": [],
   "source": [
    "from utils.rag import OpenSearchHybridSearchRetriever"
   ]
  },
  {
   "cell_type": "markdown",
   "id": "d7feac2f-21a2-4756-b989-66c180bb1e79",
   "metadata": {},
   "source": [
    "- 필터 설정 예시\n",
    "- filter=[ <BR>\n",
    "    　{\"term\": {\"metadata.[**your_metadata_attribute_name**]\": \"**your first keyword**\"}}, <BR>\n",
    "    　{\"term\": {\"metadata.[**your_metadata_attribute_name**]\": \"**your second keyword**\"}},<BR>\n",
    "]"
   ]
  },
  {
   "cell_type": "code",
   "execution_count": 17,
   "id": "49c7e131-294f-4ff8-9331-989709c7079c",
   "metadata": {
    "tags": []
   },
   "outputs": [],
   "source": [
    "opensearch_hybrid_retriever = OpenSearchHybridSearchRetriever(\n",
    "    # necessary\n",
    "    os_client=os_client,\n",
    "    index_name=index_name,\n",
    "    llm_emb=llm_emb,\n",
    "    llm_text=llm_text,\n",
    "    \n",
    "    # hybird-search debugger\n",
    "    hybrid_search_debugger = \"None\", #[semantic, lexical, None]\n",
    "\n",
    "    # option for lexical\n",
    "    minimum_should_match=0,\n",
    "    filter=[],\n",
    "\n",
    "    # option for rank fusion\n",
    "    fusion_algorithm=\"RRF\", # [\"RRF\", \"simple_weighted\"], rank fusion 방식 정의\n",
    "    ensemble_weights=[.51, .49], # [for lexical, for semantic], Lexical, Semantic search 결과에 대한 최종 반영 비율 정의\n",
    "\n",
    "    # option for async search\n",
    "    async_mode=True,\n",
    "\n",
    "    # option for output\n",
    "    k=5, # 최종 Document 수 정의\n",
    "    verbose=True,\n",
    ")"
   ]
  },
  {
   "cell_type": "markdown",
   "id": "cfb26835-ad98-41c5-9e9d-2453642e3551",
   "metadata": {},
   "source": [
    "### Retrieval example\n",
    "- default search"
   ]
  },
  {
   "cell_type": "code",
   "execution_count": 18,
   "id": "9c06e89f-79de-413c-ba9c-a188ca3fe2d0",
   "metadata": {
    "tags": []
   },
   "outputs": [],
   "source": [
    "from utils.rag import show_context_used"
   ]
  },
  {
   "cell_type": "code",
   "execution_count": 19,
   "id": "b5b528f6-b075-4009-aa11-f7f0a8036acc",
   "metadata": {
    "tags": []
   },
   "outputs": [],
   "source": [
    "#query = \"중지된 경우 이체\"\n",
    "query = \"vidio max size?\""
   ]
  },
  {
   "cell_type": "code",
   "execution_count": 20,
   "id": "05b13e5e-4a66-4dc8-b18c-42a6e3bd6037",
   "metadata": {
    "collapsed": true,
    "jupyter": {
     "outputs_hidden": true
    },
    "tags": []
   },
   "outputs": [
    {
     "name": "stdout",
     "output_type": "stream",
     "text": [
      "##############################\n",
      "async_mode\n",
      "##############################\n",
      "True\n",
      "##############################\n",
      "reranker\n",
      "##############################\n",
      "False\n",
      "##############################\n",
      "rag_fusion\n",
      "##############################\n",
      "False\n",
      "##############################\n",
      "HyDE\n",
      "##############################\n",
      "False\n",
      "##############################\n",
      "parent_document\n",
      "##############################\n",
      "False\n",
      "##############################\n",
      "complex_document\n",
      "##############################\n",
      "False\n",
      "##############################\n",
      "similar_docs_semantic\n",
      "##############################\n",
      "\n",
      "Score: 1.0\n",
      "['. To delete a video file, click next to the name of the uploaded video file. Note The device control command must be transferred to the device to apply a video to it. &gt; Session timeout Allows the use of the session timeout feature for the Kiosk Browser. If the user does not use the device for a set time, the device deletes user information, such as the cache and cookies, in the device Kiosk Browser and goes to the main page URL: Apply &mdash; Enables the session timeout feature for the browser. &gt;&gt; Time (sec) Set the session timeout in seconds for the Kiosk Browser']\n",
      "{'source': 'all_processed_data.json', 'seq_num': 893, 'title': 'Android Enterprise policies', 'url': 'https://docs.samsungknox.com/admin/knox-manage/configure/profile/configure-profile-policies/android-enterprise-policies', 'project': 'KM', 'last_updated': '2023-09-06', 'family_tree': 'child', 'parent_id': '91fe851c-947c-4abf-b7cc-b27ffbb4ff02', 'id': 'e1925763-2507-444d-a7e9-0e8aa406da24'}\n",
      "\n",
      "Score: 0.9925655171372633\n",
      "['. 7. The device now launches DeX automatically when it is plugged in to an HDMI cable. 8. Once the device is connected to DeX, a Display resolution screen displays. Select a single resolution value for the connected display. Unselected display options will be greyed out and unavailable. Keep in mind, changing the resolution makes displayed windows, text and other items appear small or larger. Options include, WQHD (2560 x 1440), FHD (1920 x 1080) _recommended setting_, HD+ (1600 x 900), WQXGA (2560 x 1600), WUXGA (1920 x 1200), or UWQHD (3440 x 1440). Select Done to commit the selected display setting. If the display resolution provided is not supported, then FHD (1920 x 1080) is selected by default and non-supported resolutions are greyed out in the DeX Display resolution screen. Industry example This example configures a tablet in DeX mode, so a bank employee can use it to help customers with day to day operations. For example opening a new account or checking account balances']\n",
      "{'source': 'all_processed_data.json', 'seq_num': 1225, 'title': 'DeX', 'url': 'https://docs.samsungknox.com/admin/knox-platform-for-enterprise/knox-service-plugin/configure-advanced-policies/dex', 'project': 'KSP', 'last_updated': '2023-07-26', 'family_tree': 'child', 'parent_id': 'beee7adf-3279-41f3-9f60-64baf4598e3e', 'id': 'dd26f691-d3f6-45ef-bee3-976b990f75d2'}\n",
      "\n",
      "Score: 0.9864989643755366\n",
      "[\". #Other Kiosk enhancements The Knox Manage agent must be updated to the latest version for these new features to take effect. Bookmark in Multiple App Kiosk mode now supports file uploads and downloads. You can now set Kiosk Browser and Secure Browser to be automatically updated through profile policies. When adding or modifying a profile, you can find these settings in the following locations: Secure Browser: Android Enterprise > Secure Browser > App Auto Update. Kiosk Browser: Android Enterprise or Android Legacy > Kiosk > Kiosk app settings (select Kiosk Browser ) > App Auto Update. The loading status is now shown on the progress bar: Content #Increased maximum file size limit Previously, the maximum content size was 300 MB. In 20.08, this limit was increased to 1.0 GB. Knox E-FOTA license usage with Knox Suite In addition to the Knox E-FOTA admin portal, you can now view the Knox E-FOTA license usage in the following locations as well: License widget in the Knox Manage admin portal's Dashboard\"]\n",
      "{'source': 'all_processed_data.json', 'seq_num': 1044, 'title': 'Knox Manage 20.08 release notes', 'url': 'https://docs.samsungknox.com/admin/knox-manage/release-notes/20-08', 'project': 'KM', 'last_updated': '2023-07-26', 'family_tree': 'child', 'parent_id': '6f170535-c299-4cc6-bda3-d6a2a3ce3041', 'id': '8b02057a-fbfa-49b2-bdcf-177d2f75554d'}\n",
      "\n",
      "Score: 0.9862280641853693\n",
      "['.The input value ranges from 1 to 52428800 (50MB). Maximum Size of Email Body (Kbyte) Select a maximum value for the email body size. This is only set once during the initial Exchange ActiveSync setup. &gt; Default Size of Email Body (Kbyte) Select the default value of the email body size. Note Select the setting after the Maximum Size of Email Body (Kbyte) setting. Email Account Configures the settings of a POP or IMAP email account. Click !add to add a configuration. You can add or edit up to 20 configurations when you save the profile. Policy Description Configuration ID Assign a unique ID for each email account setting. Description Enter a description for each email account setting. Remove available Allows users to delete the email account settings in Knox Workspace. Default Account Specifies to usage of the default account. User Information input method Select an input method for entering user information. &gt; Manual Input Select this to enter the email address manually']\n",
      "{'source': 'all_processed_data.json', 'seq_num': 899, 'title': 'Knox Workspace (Android Legacy) policies', 'url': 'https://docs.samsungknox.com/admin/knox-manage/configure/profile/configure-profile-policies/knox-workspace-android-legacy-policies', 'project': 'KM', 'last_updated': '2023-07-26', 'family_tree': 'child', 'parent_id': 'da17fa3c-2c2b-4731-9cdb-ee7a431808fc', 'id': 'c5c20a1d-a473-4a59-a1eb-39dd8b5b1620'}\n",
      "\n",
      "Score: 0.9851859796863477\n",
      "['. Max TTL - The maximum amount of time, or time to live (TTL), in seconds, that a packet can exist in a network before being discarded by the router. The default value is 64, but a number from 49 to 255 can be entered. Packet size - The size of the packet to request, in bytes. The default value is 64, but a number from 4 to 1472 can be entered. If the device user sets Packet size as 10, Interval (ms) as 1000 ms, and Timeout (ms) as 500 ms, 10 pings are sent and the interval between each ping is set to 1000 ms. A successful test requires all 10 pings to be received within 500 ms each. The ping test continues even if the device user leaves the screen, but they can stop it at any time by tapping the stop button. Otherwise, the test automatically stops once the set conditions are met. A notification is also displayed in the notification bar for the duration of the test, which the user can tap to return to the test screen']\n",
      "{'source': 'all_processed_data.json', 'seq_num': 292, 'title': 'Use the agent app', 'url': 'https://docs.samsungknox.com/admin/knox-asset-intelligence/how-to-guides/use-the-agent-app', 'project': 'KAI', 'last_updated': '2023-09-06', 'family_tree': 'child', 'parent_id': '4cbef679-2118-42cc-b643-c9f1eb832670', 'id': 'bf02fe64-62d5-4455-8607-8745f9f7a18b'}\n",
      "None\n",
      "##############################\n",
      "similar_docs_keyword\n",
      "##############################\n",
      "\n",
      "Score: 1.0\n",
      "[\". Invalid APK version name. Invalid APK version name. Please change the version name and try uploading again. 4090001 File too large. Max 4000 devices allowed per upload. Try splitting the device upload list to reduce the size of .csv you are uploading. Note that there is a max of 4000 devices allowed per upload. 4150000 File type is not supported. The file you are trying to upload is not supported. Knox Configure only accepts .csv files. App name cannot contain special characters. Rename the app so it does not contain any special or forbidden characters. App version is invalid. An app you are trying to upload is invalid. Verify that the version you're attempting to upload is correct. Try to re-upload the app again. CSV file is required. A system error occurred. Verify that you've attached a .csv file, try to re-attach the .csv and upload it again. If the problem persists, contact Samsung. 4040105 No CAPTCHA code entered. No CAPTCHA code was entered. Carefully enter the CAPTCHA code and submit\"]\n",
      "{'source': 'all_processed_data.json', 'seq_num': 433, 'title': 'Portal-side errors', 'url': 'https://docs.samsungknox.com/admin/knox-configure/knox-configure-wearables/troubleshoot/portal-side-errors', 'project': 'KC', 'last_updated': '2023-07-26', 'family_tree': 'child', 'parent_id': 'a6a25b3c-c4d2-4f38-9f96-ff3ee72f64e3', 'id': 'e68915cc-9e55-49ff-93a9-8a9ed747b294'}\n",
      "\n",
      "Score: 0.8815187024774439\n",
      "['. Max TTL - The maximum amount of time, or time to live (TTL), in seconds, that a packet can exist in a network before being discarded by the router. The default value is 64, but a number from 49 to 255 can be entered. Packet size - The size of the packet to request, in bytes. The default value is 64, but a number from 4 to 1472 can be entered. If the device user sets Packet size as 10, Interval (ms) as 1000 ms, and Timeout (ms) as 500 ms, 10 pings are sent and the interval between each ping is set to 1000 ms. A successful test requires all 10 pings to be received within 500 ms each. The ping test continues even if the device user leaves the screen, but they can stop it at any time by tapping the stop button. Otherwise, the test automatically stops once the set conditions are met. A notification is also displayed in the notification bar for the duration of the test, which the user can tap to return to the test screen']\n",
      "{'source': 'all_processed_data.json', 'seq_num': 292, 'title': 'Use the agent app', 'url': 'https://docs.samsungknox.com/admin/knox-asset-intelligence/how-to-guides/use-the-agent-app', 'project': 'KAI', 'last_updated': '2023-09-06', 'family_tree': 'child', 'parent_id': '4cbef679-2118-42cc-b643-c9f1eb832670', 'id': 'bf02fe64-62d5-4455-8607-8745f9f7a18b'}\n",
      "\n",
      "Score: 0.8195609692127032\n",
      "['What does the term \\'Maximum number of licenses\\' mean for KPE Standard licenses?. Some customers have asked what the term \"Max # Licenses\" means for the KPE Standard type license. This term can be found in documentation such as the Knox Licenses page in the developer guide. Resolution The term \"Max # Licenses\" means the maximum number of app packages that a particular customer can cover with their KPE Standard license. One license will be for one app package.']\n",
      "{'source': 'all_processed_data.json', 'seq_num': 1638, 'title': \"What does the term 'Maximum number of licenses' mean for KPE Standard licenses?\", 'url': 'https://docs.samsungknox.com/admin/knox-platform-for-enterprise/kbas/kba-528-max-number-licenses-kpe-meaning', 'project': 'KPE', 'last_updated': '2023-07-26', 'family_tree': 'child', 'parent_id': '341cc6ac-b9ae-4b55-8145-79497c7c30bf', 'id': '579afec1-e78e-4cbe-9aca-fcf1d5dedf74'}\n",
      "\n",
      "Score: 0.7409357430963961\n",
      "['. Change this property to include lengths not enabled by default, or to optimize decoding performance for a certain number of symbols. Character-to-symbol mapping depends on barcode type. For example, some barcodes include additional checksum characters in their symbol counts. For more information on active symbol count, refer to Configure the Active Symbol Count. Depends on barcode type. Max. length Determines the maximum supported barcode length (active symbol count) to decode. Depends on barcode type. Inverted color recognition Enables recognition of inverted barcodes that have been printed using bright ink on a dark background. ON/OFF OFF Reduced quiet zone-size Enables scanning codes with smaller than normal quiet zones (white space before and after the code) than allowed by the barcode type specification. Use this if you experience issues when scanning codes that violate quiet zone specifications. Please note that turning on this feature may lead to false positive scans in some cases']\n",
      "{'source': 'all_processed_data.json', 'seq_num': 580, 'title': 'Scan engine settings: Scandit', 'url': 'https://docs.samsungknox.com/admin/knox-capture/knox-capture-scandit/scan-engine-settings-scandit', 'project': 'KCAP', 'last_updated': '2023-07-26', 'family_tree': 'child', 'parent_id': '55f251e9-a117-4010-bb25-557849519f12', 'id': 'c1af6baa-7834-4f5d-9b6b-9a2f6c858343'}\n",
      "\n",
      "Score: 0.7357604960159928\n",
      "['. Password Restrictions 6. Minimum Password Length [6] Device Password Requirements Minimum password quality COPE: Use MDM native capability COBO: 1. Device-wide policies (Device Owner) 2. Enable device-wide policies [enable] 3. Password policy 4. Enable password policy controls with KSP [enable] 5. Password Quality [numeric]\" Device Password Requirements Maximum sequential numbers 1. Device-wide policies (Device Owner) 2. Enable device-wide policies [enable] 3. Password policy 4. Enable password policy controls with KSP [enable] 5. Password Restrictions 6. Maximum Character Sequence Length [2] Device Password Requirements Max time to screen lock COPE: Use MDM native capability COBO: 1. Device-wide policies (Device Owner) 2. Enable device-wide policies [enable] 3. Password policy 4. Enable password policy controls with KSP [enable] 5. Allowed Time for User Activity before Device Locks [900000] Device Password Requirements Max password failures for local wipe COPE: Use MDM native capability COBO: 1']\n",
      "{'source': 'all_processed_data.json', 'seq_num': 1252, 'title': 'STIG 11 Knox Service Plugin reference', 'url': 'https://docs.samsungknox.com/admin/knox-platform-for-enterprise/knox-service-plugin/references/stig-11/stig-11-ksp-reference', 'project': 'KSP', 'last_updated': '2023-07-26', 'family_tree': 'child', 'parent_id': '4661bed0-a795-432a-9301-dd0d3c8c5da6', 'id': '34fda345-fc67-430f-87c5-f36374c931cb'}\n",
      "None\n",
      "##############################\n",
      "similar_docs\n",
      "##############################\n",
      "\n",
      "Score: 0.015749379652605457\n",
      "['. Max TTL - The maximum amount of time, or time to live (TTL), in seconds, that a packet can exist in a network before being discarded by the router. The default value is 64, but a number from 49 to 255 can be entered. Packet size - The size of the packet to request, in bytes. The default value is 64, but a number from 4 to 1472 can be entered. If the device user sets Packet size as 10, Interval (ms) as 1000 ms, and Timeout (ms) as 500 ms, 10 pings are sent and the interval between each ping is set to 1000 ms. A successful test requires all 10 pings to be received within 500 ms each. The ping test continues even if the device user leaves the screen, but they can stop it at any time by tapping the stop button. Otherwise, the test automatically stops once the set conditions are met. A notification is also displayed in the notification bar for the duration of the test, which the user can tap to return to the test screen']\n",
      "{'source': 'all_processed_data.json', 'seq_num': 292, 'title': 'Use the agent app', 'url': 'https://docs.samsungknox.com/admin/knox-asset-intelligence/how-to-guides/use-the-agent-app', 'project': 'KAI', 'last_updated': '2023-09-06', 'family_tree': 'child', 'parent_id': '4cbef679-2118-42cc-b643-c9f1eb832670', 'id': 'bf02fe64-62d5-4455-8607-8745f9f7a18b'}\n",
      "\n",
      "Score: 0.008360655737704918\n",
      "['. To delete a video file, click next to the name of the uploaded video file. Note The device control command must be transferred to the device to apply a video to it. &gt; Session timeout Allows the use of the session timeout feature for the Kiosk Browser. If the user does not use the device for a set time, the device deletes user information, such as the cache and cookies, in the device Kiosk Browser and goes to the main page URL: Apply &mdash; Enables the session timeout feature for the browser. &gt;&gt; Time (sec) Set the session timeout in seconds for the Kiosk Browser']\n",
      "{'source': 'all_processed_data.json', 'seq_num': 893, 'title': 'Android Enterprise policies', 'url': 'https://docs.samsungknox.com/admin/knox-manage/configure/profile/configure-profile-policies/android-enterprise-policies', 'project': 'KM', 'last_updated': '2023-09-06', 'family_tree': 'child', 'parent_id': '91fe851c-947c-4abf-b7cc-b27ffbb4ff02', 'id': 'e1925763-2507-444d-a7e9-0e8aa406da24'}\n",
      "\n",
      "Score: 0.008225806451612904\n",
      "['. 7. The device now launches DeX automatically when it is plugged in to an HDMI cable. 8. Once the device is connected to DeX, a Display resolution screen displays. Select a single resolution value for the connected display. Unselected display options will be greyed out and unavailable. Keep in mind, changing the resolution makes displayed windows, text and other items appear small or larger. Options include, WQHD (2560 x 1440), FHD (1920 x 1080) _recommended setting_, HD+ (1600 x 900), WQXGA (2560 x 1600), WUXGA (1920 x 1200), or UWQHD (3440 x 1440). Select Done to commit the selected display setting. If the display resolution provided is not supported, then FHD (1920 x 1080) is selected by default and non-supported resolutions are greyed out in the DeX Display resolution screen. Industry example This example configures a tablet in DeX mode, so a bank employee can use it to help customers with day to day operations. For example opening a new account or checking account balances']\n",
      "{'source': 'all_processed_data.json', 'seq_num': 1225, 'title': 'DeX', 'url': 'https://docs.samsungknox.com/admin/knox-platform-for-enterprise/knox-service-plugin/configure-advanced-policies/dex', 'project': 'KSP', 'last_updated': '2023-07-26', 'family_tree': 'child', 'parent_id': 'beee7adf-3279-41f3-9f60-64baf4598e3e', 'id': 'dd26f691-d3f6-45ef-bee3-976b990f75d2'}\n",
      "\n",
      "Score: 0.008095238095238095\n",
      "[\". #Other Kiosk enhancements The Knox Manage agent must be updated to the latest version for these new features to take effect. Bookmark in Multiple App Kiosk mode now supports file uploads and downloads. You can now set Kiosk Browser and Secure Browser to be automatically updated through profile policies. When adding or modifying a profile, you can find these settings in the following locations: Secure Browser: Android Enterprise > Secure Browser > App Auto Update. Kiosk Browser: Android Enterprise or Android Legacy > Kiosk > Kiosk app settings (select Kiosk Browser ) > App Auto Update. The loading status is now shown on the progress bar: Content #Increased maximum file size limit Previously, the maximum content size was 300 MB. In 20.08, this limit was increased to 1.0 GB. Knox E-FOTA license usage with Knox Suite In addition to the Knox E-FOTA admin portal, you can now view the Knox E-FOTA license usage in the following locations as well: License widget in the Knox Manage admin portal's Dashboard\"]\n",
      "{'source': 'all_processed_data.json', 'seq_num': 1044, 'title': 'Knox Manage 20.08 release notes', 'url': 'https://docs.samsungknox.com/admin/knox-manage/release-notes/20-08', 'project': 'KM', 'last_updated': '2023-07-26', 'family_tree': 'child', 'parent_id': '6f170535-c299-4cc6-bda3-d6a2a3ce3041', 'id': '8b02057a-fbfa-49b2-bdcf-177d2f75554d'}\n",
      "\n",
      "Score: 0.008032786885245903\n",
      "[\". Invalid APK version name. Invalid APK version name. Please change the version name and try uploading again. 4090001 File too large. Max 4000 devices allowed per upload. Try splitting the device upload list to reduce the size of .csv you are uploading. Note that there is a max of 4000 devices allowed per upload. 4150000 File type is not supported. The file you are trying to upload is not supported. Knox Configure only accepts .csv files. App name cannot contain special characters. Rename the app so it does not contain any special or forbidden characters. App version is invalid. An app you are trying to upload is invalid. Verify that the version you're attempting to upload is correct. Try to re-upload the app again. CSV file is required. A system error occurred. Verify that you've attached a .csv file, try to re-attach the .csv and upload it again. If the problem persists, contact Samsung. 4040105 No CAPTCHA code entered. No CAPTCHA code was entered. Carefully enter the CAPTCHA code and submit\"]\n",
      "{'source': 'all_processed_data.json', 'seq_num': 433, 'title': 'Portal-side errors', 'url': 'https://docs.samsungknox.com/admin/knox-configure/knox-configure-wearables/troubleshoot/portal-side-errors', 'project': 'KC', 'last_updated': '2023-07-26', 'family_tree': 'child', 'parent_id': 'a6a25b3c-c4d2-4f38-9f96-ff3ee72f64e3', 'id': 'e68915cc-9e55-49ff-93a9-8a9ed747b294'}\n",
      "None\n",
      "\n",
      "==========  Results  ==========\n",
      "\n",
      "1. question: vidio max size?\n",
      "2. # documents: 5\n",
      "3. Documents: \n",
      "\n",
      "\n",
      "-----------------------------------------------\n",
      "1. Chunk: 930 Characters\n",
      "-----------------------------------------------\n",
      ". Max TTL - The maximum amount of time, or time to live (TTL), in seconds, that a packet can exist\n",
      "in a network before being discarded by the router. The default value is 64, but a number from 49 to\n",
      "255 can be entered. Packet size - The size of the packet to request, in bytes. The default value is\n",
      "64, but a number from 4 to 1472 can be entered. If the device user sets Packet size as 10, Interval\n",
      "(ms) as 1000 ms, and Timeout (ms) as 500 ms, 10 pings are sent and the interval between each ping is\n",
      "set to 1000 ms. A successful test requires all 10 pings to be received within 500 ms each. The ping\n",
      "test continues even if the device user leaves the screen, but they can stop it at any time by\n",
      "tapping the stop button. Otherwise, the test automatically stops once the set conditions are met. A\n",
      "notification is also displayed in the notification bar for the duration of the test, which the user\n",
      "can tap to return to the test screen\n",
      "metadata:\n",
      " {'source': 'all_processed_data.json', 'seq_num': 292, 'title': 'Use the agent app', 'url':\n",
      "'https://docs.samsungknox.com/admin/knox-asset-intelligence/how-to-guides/use-the-agent-app',\n",
      "'project': 'KAI', 'last_updated': '2023-09-06', 'family_tree': 'child', 'parent_id':\n",
      "'4cbef679-2118-42cc-b643-c9f1eb832670', 'id': 'bf02fe64-62d5-4455-8607-8745f9f7a18b',\n",
      "'orig_elements': ''}\n",
      "\n",
      "-----------------------------------------------\n",
      "2. Chunk: 579 Characters\n",
      "-----------------------------------------------\n",
      ". To delete a video file, click next to the name of the uploaded video file. Note The device control\n",
      "command must be transferred to the device to apply a video to it. &gt; Session timeout Allows the\n",
      "use of the session timeout feature for the Kiosk Browser. If the user does not use the device for a\n",
      "set time, the device deletes user information, such as the cache and cookies, in the device Kiosk\n",
      "Browser and goes to the main page URL: Apply &mdash; Enables the session timeout feature for the\n",
      "browser. &gt;&gt; Time (sec) Set the session timeout in seconds for the Kiosk Browser\n",
      "metadata:\n",
      " {'source': 'all_processed_data.json', 'seq_num': 893, 'title': 'Android Enterprise policies',\n",
      "'url': 'https://docs.samsungknox.com/admin/knox-manage/configure/profile/configure-profile-\n",
      "policies/android-enterprise-policies', 'project': 'KM', 'last_updated': '2023-09-06', 'family_tree':\n",
      "'child', 'parent_id': '91fe851c-947c-4abf-b7cc-b27ffbb4ff02', 'id':\n",
      "'e1925763-2507-444d-a7e9-0e8aa406da24', 'orig_elements': ''}\n",
      "\n",
      "-----------------------------------------------\n",
      "3. Chunk: 993 Characters\n",
      "-----------------------------------------------\n",
      ". 7. The device now launches DeX automatically when it is plugged in to an HDMI cable. 8. Once the\n",
      "device is connected to DeX, a Display resolution screen displays. Select a single resolution value\n",
      "for the connected display. Unselected display options will be greyed out and unavailable. Keep in\n",
      "mind, changing the resolution makes displayed windows, text and other items appear small or larger.\n",
      "Options include, WQHD (2560 x 1440), FHD (1920 x 1080) _recommended setting_, HD+ (1600 x 900),\n",
      "WQXGA (2560 x 1600), WUXGA (1920 x 1200), or UWQHD (3440 x 1440). Select Done to commit the selected\n",
      "display setting. If the display resolution provided is not supported, then FHD (1920 x 1080) is\n",
      "selected by default and non-supported resolutions are greyed out in the DeX Display resolution\n",
      "screen. Industry example This example configures a tablet in DeX mode, so a bank employee can use it\n",
      "to help customers with day to day operations. For example opening a new account or checking account\n",
      "balances\n",
      "metadata:\n",
      " {'source': 'all_processed_data.json', 'seq_num': 1225, 'title': 'DeX', 'url':\n",
      "'https://docs.samsungknox.com/admin/knox-platform-for-enterprise/knox-service-plugin/configure-\n",
      "advanced-policies/dex', 'project': 'KSP', 'last_updated': '2023-07-26', 'family_tree': 'child',\n",
      "'parent_id': 'beee7adf-3279-41f3-9f60-64baf4598e3e', 'id': 'dd26f691-d3f6-45ef-bee3-976b990f75d2',\n",
      "'orig_elements': ''}\n",
      "\n",
      "-----------------------------------------------\n",
      "4. Chunk: 1013 Characters\n",
      "-----------------------------------------------\n",
      ". #Other Kiosk enhancements The Knox Manage agent must be updated to the latest version for these\n",
      "new features to take effect. Bookmark in Multiple App Kiosk mode now supports file uploads and\n",
      "downloads. You can now set Kiosk Browser and Secure Browser to be automatically updated through\n",
      "profile policies. When adding or modifying a profile, you can find these settings in the following\n",
      "locations: Secure Browser: Android Enterprise > Secure Browser > App Auto Update. Kiosk Browser:\n",
      "Android Enterprise or Android Legacy > Kiosk > Kiosk app settings (select Kiosk Browser ) > App Auto\n",
      "Update. The loading status is now shown on the progress bar: Content #Increased maximum file size\n",
      "limit Previously, the maximum content size was 300 MB. In 20.08, this limit was increased to 1.0 GB.\n",
      "Knox E-FOTA license usage with Knox Suite In addition to the Knox E-FOTA admin portal, you can now\n",
      "view the Knox E-FOTA license usage in the following locations as well: License widget in the Knox\n",
      "Manage admin portal's Dashboard\n",
      "metadata:\n",
      " {'source': 'all_processed_data.json', 'seq_num': 1044, 'title': 'Knox Manage 20.08 release notes',\n",
      "'url': 'https://docs.samsungknox.com/admin/knox-manage/release-notes/20-08', 'project': 'KM',\n",
      "'last_updated': '2023-07-26', 'family_tree': 'child', 'parent_id':\n",
      "'6f170535-c299-4cc6-bda3-d6a2a3ce3041', 'id': '8b02057a-fbfa-49b2-bdcf-177d2f75554d',\n",
      "'orig_elements': ''}\n",
      "\n",
      "-----------------------------------------------\n",
      "5. Chunk: 1008 Characters\n",
      "-----------------------------------------------\n",
      ". Invalid APK version name. Invalid APK version name. Please change the version name and try\n",
      "uploading again. 4090001 File too large. Max 4000 devices allowed per upload. Try splitting the\n",
      "device upload list to reduce the size of .csv you are uploading. Note that there is a max of 4000\n",
      "devices allowed per upload. 4150000 File type is not supported. The file you are trying to upload is\n",
      "not supported. Knox Configure only accepts .csv files. App name cannot contain special characters.\n",
      "Rename the app so it does not contain any special or forbidden characters. App version is invalid.\n",
      "An app you are trying to upload is invalid. Verify that the version you're attempting to upload is\n",
      "correct. Try to re-upload the app again. CSV file is required. A system error occurred. Verify that\n",
      "you've attached a .csv file, try to re-attach the .csv and upload it again. If the problem persists,\n",
      "contact Samsung. 4040105 No CAPTCHA code entered. No CAPTCHA code was entered. Carefully enter the\n",
      "CAPTCHA code and submit\n",
      "metadata:\n",
      " {'source': 'all_processed_data.json', 'seq_num': 433, 'title': 'Portal-side errors', 'url':\n",
      "'https://docs.samsungknox.com/admin/knox-configure/knox-configure-wearables/troubleshoot/portal-\n",
      "side-errors', 'project': 'KC', 'last_updated': '2023-07-26', 'family_tree': 'child', 'parent_id':\n",
      "'a6a25b3c-c4d2-4f38-9f96-ff3ee72f64e3', 'id': 'e68915cc-9e55-49ff-93a9-8a9ed747b294',\n",
      "'orig_elements': ''}\n",
      "CPU times: user 36.4 ms, sys: 4.05 ms, total: 40.5 ms\n",
      "Wall time: 132 ms\n"
     ]
    }
   ],
   "source": [
    "%%time\n",
    "search_hybrid_result = opensearch_hybrid_retriever.invoke(query)\n",
    "\n",
    "print(\"\\n==========  Results  ==========\\n\")\n",
    "print(f'1. question: {query}')\n",
    "print (f'2. # documents: {len(search_hybrid_result)}')\n",
    "print(\"3. Documents: \\n\")\n",
    "\n",
    "show_context_used(search_hybrid_result)"
   ]
  },
  {
   "cell_type": "markdown",
   "id": "c09221b5-4a6c-463b-9769-35cc8362e33c",
   "metadata": {},
   "source": [
    "- update parameters"
   ]
  },
  {
   "cell_type": "code",
   "execution_count": 21,
   "id": "b7bb4672-d2b8-4b29-b71c-b06d84bcd470",
   "metadata": {
    "tags": []
   },
   "outputs": [],
   "source": [
    "opensearch_hybrid_retriever.update_search_params(\n",
    "    k=5,\n",
    "    minimum_should_match=0,\n",
    "    filter=[],\n",
    "    #filter=[\n",
    "    #    {\"term\": {\"metadata.seq_num\": \"64\"}},\n",
    "    #],\n",
    "    async_mode=True\n",
    ")"
   ]
  },
  {
   "cell_type": "code",
   "execution_count": 22,
   "id": "1b9b45b1-cb92-4954-8087-143a550350c8",
   "metadata": {
    "collapsed": true,
    "jupyter": {
     "outputs_hidden": true
    },
    "tags": []
   },
   "outputs": [
    {
     "name": "stdout",
     "output_type": "stream",
     "text": [
      "##############################\n",
      "async_mode\n",
      "##############################\n",
      "True\n",
      "##############################\n",
      "reranker\n",
      "##############################\n",
      "False\n",
      "##############################\n",
      "rag_fusion\n",
      "##############################\n",
      "False\n",
      "##############################\n",
      "HyDE\n",
      "##############################\n",
      "False\n",
      "##############################\n",
      "parent_document\n",
      "##############################\n",
      "False\n",
      "##############################\n",
      "complex_document\n",
      "##############################\n",
      "False\n",
      "##############################\n",
      "similar_docs_semantic\n",
      "##############################\n",
      "\n",
      "Score: 1.0\n",
      "['. To delete a video file, click next to the name of the uploaded video file. Note The device control command must be transferred to the device to apply a video to it. &gt; Session timeout Allows the use of the session timeout feature for the Kiosk Browser. If the user does not use the device for a set time, the device deletes user information, such as the cache and cookies, in the device Kiosk Browser and goes to the main page URL: Apply &mdash; Enables the session timeout feature for the browser. &gt;&gt; Time (sec) Set the session timeout in seconds for the Kiosk Browser']\n",
      "{'source': 'all_processed_data.json', 'seq_num': 893, 'title': 'Android Enterprise policies', 'url': 'https://docs.samsungknox.com/admin/knox-manage/configure/profile/configure-profile-policies/android-enterprise-policies', 'project': 'KM', 'last_updated': '2023-09-06', 'family_tree': 'child', 'parent_id': '91fe851c-947c-4abf-b7cc-b27ffbb4ff02', 'id': 'e1925763-2507-444d-a7e9-0e8aa406da24'}\n",
      "\n",
      "Score: 0.9925655171372633\n",
      "['. 7. The device now launches DeX automatically when it is plugged in to an HDMI cable. 8. Once the device is connected to DeX, a Display resolution screen displays. Select a single resolution value for the connected display. Unselected display options will be greyed out and unavailable. Keep in mind, changing the resolution makes displayed windows, text and other items appear small or larger. Options include, WQHD (2560 x 1440), FHD (1920 x 1080) _recommended setting_, HD+ (1600 x 900), WQXGA (2560 x 1600), WUXGA (1920 x 1200), or UWQHD (3440 x 1440). Select Done to commit the selected display setting. If the display resolution provided is not supported, then FHD (1920 x 1080) is selected by default and non-supported resolutions are greyed out in the DeX Display resolution screen. Industry example This example configures a tablet in DeX mode, so a bank employee can use it to help customers with day to day operations. For example opening a new account or checking account balances']\n",
      "{'source': 'all_processed_data.json', 'seq_num': 1225, 'title': 'DeX', 'url': 'https://docs.samsungknox.com/admin/knox-platform-for-enterprise/knox-service-plugin/configure-advanced-policies/dex', 'project': 'KSP', 'last_updated': '2023-07-26', 'family_tree': 'child', 'parent_id': 'beee7adf-3279-41f3-9f60-64baf4598e3e', 'id': 'dd26f691-d3f6-45ef-bee3-976b990f75d2'}\n",
      "\n",
      "Score: 0.9864989643755366\n",
      "[\". #Other Kiosk enhancements The Knox Manage agent must be updated to the latest version for these new features to take effect. Bookmark in Multiple App Kiosk mode now supports file uploads and downloads. You can now set Kiosk Browser and Secure Browser to be automatically updated through profile policies. When adding or modifying a profile, you can find these settings in the following locations: Secure Browser: Android Enterprise > Secure Browser > App Auto Update. Kiosk Browser: Android Enterprise or Android Legacy > Kiosk > Kiosk app settings (select Kiosk Browser ) > App Auto Update. The loading status is now shown on the progress bar: Content #Increased maximum file size limit Previously, the maximum content size was 300 MB. In 20.08, this limit was increased to 1.0 GB. Knox E-FOTA license usage with Knox Suite In addition to the Knox E-FOTA admin portal, you can now view the Knox E-FOTA license usage in the following locations as well: License widget in the Knox Manage admin portal's Dashboard\"]\n",
      "{'source': 'all_processed_data.json', 'seq_num': 1044, 'title': 'Knox Manage 20.08 release notes', 'url': 'https://docs.samsungknox.com/admin/knox-manage/release-notes/20-08', 'project': 'KM', 'last_updated': '2023-07-26', 'family_tree': 'child', 'parent_id': '6f170535-c299-4cc6-bda3-d6a2a3ce3041', 'id': '8b02057a-fbfa-49b2-bdcf-177d2f75554d'}\n",
      "\n",
      "Score: 0.9862280641853693\n",
      "['.The input value ranges from 1 to 52428800 (50MB). Maximum Size of Email Body (Kbyte) Select a maximum value for the email body size. This is only set once during the initial Exchange ActiveSync setup. &gt; Default Size of Email Body (Kbyte) Select the default value of the email body size. Note Select the setting after the Maximum Size of Email Body (Kbyte) setting. Email Account Configures the settings of a POP or IMAP email account. Click !add to add a configuration. You can add or edit up to 20 configurations when you save the profile. Policy Description Configuration ID Assign a unique ID for each email account setting. Description Enter a description for each email account setting. Remove available Allows users to delete the email account settings in Knox Workspace. Default Account Specifies to usage of the default account. User Information input method Select an input method for entering user information. &gt; Manual Input Select this to enter the email address manually']\n",
      "{'source': 'all_processed_data.json', 'seq_num': 899, 'title': 'Knox Workspace (Android Legacy) policies', 'url': 'https://docs.samsungknox.com/admin/knox-manage/configure/profile/configure-profile-policies/knox-workspace-android-legacy-policies', 'project': 'KM', 'last_updated': '2023-07-26', 'family_tree': 'child', 'parent_id': 'da17fa3c-2c2b-4731-9cdb-ee7a431808fc', 'id': 'c5c20a1d-a473-4a59-a1eb-39dd8b5b1620'}\n",
      "\n",
      "Score: 0.9851859796863477\n",
      "['. Max TTL - The maximum amount of time, or time to live (TTL), in seconds, that a packet can exist in a network before being discarded by the router. The default value is 64, but a number from 49 to 255 can be entered. Packet size - The size of the packet to request, in bytes. The default value is 64, but a number from 4 to 1472 can be entered. If the device user sets Packet size as 10, Interval (ms) as 1000 ms, and Timeout (ms) as 500 ms, 10 pings are sent and the interval between each ping is set to 1000 ms. A successful test requires all 10 pings to be received within 500 ms each. The ping test continues even if the device user leaves the screen, but they can stop it at any time by tapping the stop button. Otherwise, the test automatically stops once the set conditions are met. A notification is also displayed in the notification bar for the duration of the test, which the user can tap to return to the test screen']\n",
      "{'source': 'all_processed_data.json', 'seq_num': 292, 'title': 'Use the agent app', 'url': 'https://docs.samsungknox.com/admin/knox-asset-intelligence/how-to-guides/use-the-agent-app', 'project': 'KAI', 'last_updated': '2023-09-06', 'family_tree': 'child', 'parent_id': '4cbef679-2118-42cc-b643-c9f1eb832670', 'id': 'bf02fe64-62d5-4455-8607-8745f9f7a18b'}\n",
      "None\n",
      "##############################\n",
      "similar_docs_keyword\n",
      "##############################\n",
      "\n",
      "Score: 1.0\n",
      "[\". Invalid APK version name. Invalid APK version name. Please change the version name and try uploading again. 4090001 File too large. Max 4000 devices allowed per upload. Try splitting the device upload list to reduce the size of .csv you are uploading. Note that there is a max of 4000 devices allowed per upload. 4150000 File type is not supported. The file you are trying to upload is not supported. Knox Configure only accepts .csv files. App name cannot contain special characters. Rename the app so it does not contain any special or forbidden characters. App version is invalid. An app you are trying to upload is invalid. Verify that the version you're attempting to upload is correct. Try to re-upload the app again. CSV file is required. A system error occurred. Verify that you've attached a .csv file, try to re-attach the .csv and upload it again. If the problem persists, contact Samsung. 4040105 No CAPTCHA code entered. No CAPTCHA code was entered. Carefully enter the CAPTCHA code and submit\"]\n",
      "{'source': 'all_processed_data.json', 'seq_num': 433, 'title': 'Portal-side errors', 'url': 'https://docs.samsungknox.com/admin/knox-configure/knox-configure-wearables/troubleshoot/portal-side-errors', 'project': 'KC', 'last_updated': '2023-07-26', 'family_tree': 'child', 'parent_id': 'a6a25b3c-c4d2-4f38-9f96-ff3ee72f64e3', 'id': 'e68915cc-9e55-49ff-93a9-8a9ed747b294'}\n",
      "\n",
      "Score: 0.8815187024774439\n",
      "['. Max TTL - The maximum amount of time, or time to live (TTL), in seconds, that a packet can exist in a network before being discarded by the router. The default value is 64, but a number from 49 to 255 can be entered. Packet size - The size of the packet to request, in bytes. The default value is 64, but a number from 4 to 1472 can be entered. If the device user sets Packet size as 10, Interval (ms) as 1000 ms, and Timeout (ms) as 500 ms, 10 pings are sent and the interval between each ping is set to 1000 ms. A successful test requires all 10 pings to be received within 500 ms each. The ping test continues even if the device user leaves the screen, but they can stop it at any time by tapping the stop button. Otherwise, the test automatically stops once the set conditions are met. A notification is also displayed in the notification bar for the duration of the test, which the user can tap to return to the test screen']\n",
      "{'source': 'all_processed_data.json', 'seq_num': 292, 'title': 'Use the agent app', 'url': 'https://docs.samsungknox.com/admin/knox-asset-intelligence/how-to-guides/use-the-agent-app', 'project': 'KAI', 'last_updated': '2023-09-06', 'family_tree': 'child', 'parent_id': '4cbef679-2118-42cc-b643-c9f1eb832670', 'id': 'bf02fe64-62d5-4455-8607-8745f9f7a18b'}\n",
      "\n",
      "Score: 0.8195609692127032\n",
      "['What does the term \\'Maximum number of licenses\\' mean for KPE Standard licenses?. Some customers have asked what the term \"Max # Licenses\" means for the KPE Standard type license. This term can be found in documentation such as the Knox Licenses page in the developer guide. Resolution The term \"Max # Licenses\" means the maximum number of app packages that a particular customer can cover with their KPE Standard license. One license will be for one app package.']\n",
      "{'source': 'all_processed_data.json', 'seq_num': 1638, 'title': \"What does the term 'Maximum number of licenses' mean for KPE Standard licenses?\", 'url': 'https://docs.samsungknox.com/admin/knox-platform-for-enterprise/kbas/kba-528-max-number-licenses-kpe-meaning', 'project': 'KPE', 'last_updated': '2023-07-26', 'family_tree': 'child', 'parent_id': '341cc6ac-b9ae-4b55-8145-79497c7c30bf', 'id': '579afec1-e78e-4cbe-9aca-fcf1d5dedf74'}\n",
      "\n",
      "Score: 0.7409357430963961\n",
      "['. Change this property to include lengths not enabled by default, or to optimize decoding performance for a certain number of symbols. Character-to-symbol mapping depends on barcode type. For example, some barcodes include additional checksum characters in their symbol counts. For more information on active symbol count, refer to Configure the Active Symbol Count. Depends on barcode type. Max. length Determines the maximum supported barcode length (active symbol count) to decode. Depends on barcode type. Inverted color recognition Enables recognition of inverted barcodes that have been printed using bright ink on a dark background. ON/OFF OFF Reduced quiet zone-size Enables scanning codes with smaller than normal quiet zones (white space before and after the code) than allowed by the barcode type specification. Use this if you experience issues when scanning codes that violate quiet zone specifications. Please note that turning on this feature may lead to false positive scans in some cases']\n",
      "{'source': 'all_processed_data.json', 'seq_num': 580, 'title': 'Scan engine settings: Scandit', 'url': 'https://docs.samsungknox.com/admin/knox-capture/knox-capture-scandit/scan-engine-settings-scandit', 'project': 'KCAP', 'last_updated': '2023-07-26', 'family_tree': 'child', 'parent_id': '55f251e9-a117-4010-bb25-557849519f12', 'id': 'c1af6baa-7834-4f5d-9b6b-9a2f6c858343'}\n",
      "\n",
      "Score: 0.7357604960159928\n",
      "['. Password Restrictions 6. Minimum Password Length [6] Device Password Requirements Minimum password quality COPE: Use MDM native capability COBO: 1. Device-wide policies (Device Owner) 2. Enable device-wide policies [enable] 3. Password policy 4. Enable password policy controls with KSP [enable] 5. Password Quality [numeric]\" Device Password Requirements Maximum sequential numbers 1. Device-wide policies (Device Owner) 2. Enable device-wide policies [enable] 3. Password policy 4. Enable password policy controls with KSP [enable] 5. Password Restrictions 6. Maximum Character Sequence Length [2] Device Password Requirements Max time to screen lock COPE: Use MDM native capability COBO: 1. Device-wide policies (Device Owner) 2. Enable device-wide policies [enable] 3. Password policy 4. Enable password policy controls with KSP [enable] 5. Allowed Time for User Activity before Device Locks [900000] Device Password Requirements Max password failures for local wipe COPE: Use MDM native capability COBO: 1']\n",
      "{'source': 'all_processed_data.json', 'seq_num': 1252, 'title': 'STIG 11 Knox Service Plugin reference', 'url': 'https://docs.samsungknox.com/admin/knox-platform-for-enterprise/knox-service-plugin/references/stig-11/stig-11-ksp-reference', 'project': 'KSP', 'last_updated': '2023-07-26', 'family_tree': 'child', 'parent_id': '4661bed0-a795-432a-9301-dd0d3c8c5da6', 'id': '34fda345-fc67-430f-87c5-f36374c931cb'}\n",
      "None\n",
      "##############################\n",
      "similar_docs\n",
      "##############################\n",
      "\n",
      "Score: 0.015749379652605457\n",
      "['. Max TTL - The maximum amount of time, or time to live (TTL), in seconds, that a packet can exist in a network before being discarded by the router. The default value is 64, but a number from 49 to 255 can be entered. Packet size - The size of the packet to request, in bytes. The default value is 64, but a number from 4 to 1472 can be entered. If the device user sets Packet size as 10, Interval (ms) as 1000 ms, and Timeout (ms) as 500 ms, 10 pings are sent and the interval between each ping is set to 1000 ms. A successful test requires all 10 pings to be received within 500 ms each. The ping test continues even if the device user leaves the screen, but they can stop it at any time by tapping the stop button. Otherwise, the test automatically stops once the set conditions are met. A notification is also displayed in the notification bar for the duration of the test, which the user can tap to return to the test screen']\n",
      "{'source': 'all_processed_data.json', 'seq_num': 292, 'title': 'Use the agent app', 'url': 'https://docs.samsungknox.com/admin/knox-asset-intelligence/how-to-guides/use-the-agent-app', 'project': 'KAI', 'last_updated': '2023-09-06', 'family_tree': 'child', 'parent_id': '4cbef679-2118-42cc-b643-c9f1eb832670', 'id': 'bf02fe64-62d5-4455-8607-8745f9f7a18b'}\n",
      "\n",
      "Score: 0.008360655737704918\n",
      "['. To delete a video file, click next to the name of the uploaded video file. Note The device control command must be transferred to the device to apply a video to it. &gt; Session timeout Allows the use of the session timeout feature for the Kiosk Browser. If the user does not use the device for a set time, the device deletes user information, such as the cache and cookies, in the device Kiosk Browser and goes to the main page URL: Apply &mdash; Enables the session timeout feature for the browser. &gt;&gt; Time (sec) Set the session timeout in seconds for the Kiosk Browser']\n",
      "{'source': 'all_processed_data.json', 'seq_num': 893, 'title': 'Android Enterprise policies', 'url': 'https://docs.samsungknox.com/admin/knox-manage/configure/profile/configure-profile-policies/android-enterprise-policies', 'project': 'KM', 'last_updated': '2023-09-06', 'family_tree': 'child', 'parent_id': '91fe851c-947c-4abf-b7cc-b27ffbb4ff02', 'id': 'e1925763-2507-444d-a7e9-0e8aa406da24'}\n",
      "\n",
      "Score: 0.008225806451612904\n",
      "['. 7. The device now launches DeX automatically when it is plugged in to an HDMI cable. 8. Once the device is connected to DeX, a Display resolution screen displays. Select a single resolution value for the connected display. Unselected display options will be greyed out and unavailable. Keep in mind, changing the resolution makes displayed windows, text and other items appear small or larger. Options include, WQHD (2560 x 1440), FHD (1920 x 1080) _recommended setting_, HD+ (1600 x 900), WQXGA (2560 x 1600), WUXGA (1920 x 1200), or UWQHD (3440 x 1440). Select Done to commit the selected display setting. If the display resolution provided is not supported, then FHD (1920 x 1080) is selected by default and non-supported resolutions are greyed out in the DeX Display resolution screen. Industry example This example configures a tablet in DeX mode, so a bank employee can use it to help customers with day to day operations. For example opening a new account or checking account balances']\n",
      "{'source': 'all_processed_data.json', 'seq_num': 1225, 'title': 'DeX', 'url': 'https://docs.samsungknox.com/admin/knox-platform-for-enterprise/knox-service-plugin/configure-advanced-policies/dex', 'project': 'KSP', 'last_updated': '2023-07-26', 'family_tree': 'child', 'parent_id': 'beee7adf-3279-41f3-9f60-64baf4598e3e', 'id': 'dd26f691-d3f6-45ef-bee3-976b990f75d2'}\n",
      "\n",
      "Score: 0.008095238095238095\n",
      "[\". #Other Kiosk enhancements The Knox Manage agent must be updated to the latest version for these new features to take effect. Bookmark in Multiple App Kiosk mode now supports file uploads and downloads. You can now set Kiosk Browser and Secure Browser to be automatically updated through profile policies. When adding or modifying a profile, you can find these settings in the following locations: Secure Browser: Android Enterprise > Secure Browser > App Auto Update. Kiosk Browser: Android Enterprise or Android Legacy > Kiosk > Kiosk app settings (select Kiosk Browser ) > App Auto Update. The loading status is now shown on the progress bar: Content #Increased maximum file size limit Previously, the maximum content size was 300 MB. In 20.08, this limit was increased to 1.0 GB. Knox E-FOTA license usage with Knox Suite In addition to the Knox E-FOTA admin portal, you can now view the Knox E-FOTA license usage in the following locations as well: License widget in the Knox Manage admin portal's Dashboard\"]\n",
      "{'source': 'all_processed_data.json', 'seq_num': 1044, 'title': 'Knox Manage 20.08 release notes', 'url': 'https://docs.samsungknox.com/admin/knox-manage/release-notes/20-08', 'project': 'KM', 'last_updated': '2023-07-26', 'family_tree': 'child', 'parent_id': '6f170535-c299-4cc6-bda3-d6a2a3ce3041', 'id': '8b02057a-fbfa-49b2-bdcf-177d2f75554d'}\n",
      "\n",
      "Score: 0.008032786885245903\n",
      "[\". Invalid APK version name. Invalid APK version name. Please change the version name and try uploading again. 4090001 File too large. Max 4000 devices allowed per upload. Try splitting the device upload list to reduce the size of .csv you are uploading. Note that there is a max of 4000 devices allowed per upload. 4150000 File type is not supported. The file you are trying to upload is not supported. Knox Configure only accepts .csv files. App name cannot contain special characters. Rename the app so it does not contain any special or forbidden characters. App version is invalid. An app you are trying to upload is invalid. Verify that the version you're attempting to upload is correct. Try to re-upload the app again. CSV file is required. A system error occurred. Verify that you've attached a .csv file, try to re-attach the .csv and upload it again. If the problem persists, contact Samsung. 4040105 No CAPTCHA code entered. No CAPTCHA code was entered. Carefully enter the CAPTCHA code and submit\"]\n",
      "{'source': 'all_processed_data.json', 'seq_num': 433, 'title': 'Portal-side errors', 'url': 'https://docs.samsungknox.com/admin/knox-configure/knox-configure-wearables/troubleshoot/portal-side-errors', 'project': 'KC', 'last_updated': '2023-07-26', 'family_tree': 'child', 'parent_id': 'a6a25b3c-c4d2-4f38-9f96-ff3ee72f64e3', 'id': 'e68915cc-9e55-49ff-93a9-8a9ed747b294'}\n",
      "None\n",
      "\n",
      "==========  Results  ==========\n",
      "\n",
      "1. question: vidio max size?\n",
      "2. # documents: 5\n",
      "3. Documents: \n",
      "\n",
      "\n",
      "-----------------------------------------------\n",
      "1. Chunk: 930 Characters\n",
      "-----------------------------------------------\n",
      ". Max TTL - The maximum amount of time, or time to live (TTL), in seconds, that a packet can exist\n",
      "in a network before being discarded by the router. The default value is 64, but a number from 49 to\n",
      "255 can be entered. Packet size - The size of the packet to request, in bytes. The default value is\n",
      "64, but a number from 4 to 1472 can be entered. If the device user sets Packet size as 10, Interval\n",
      "(ms) as 1000 ms, and Timeout (ms) as 500 ms, 10 pings are sent and the interval between each ping is\n",
      "set to 1000 ms. A successful test requires all 10 pings to be received within 500 ms each. The ping\n",
      "test continues even if the device user leaves the screen, but they can stop it at any time by\n",
      "tapping the stop button. Otherwise, the test automatically stops once the set conditions are met. A\n",
      "notification is also displayed in the notification bar for the duration of the test, which the user\n",
      "can tap to return to the test screen\n",
      "metadata:\n",
      " {'source': 'all_processed_data.json', 'seq_num': 292, 'title': 'Use the agent app', 'url':\n",
      "'https://docs.samsungknox.com/admin/knox-asset-intelligence/how-to-guides/use-the-agent-app',\n",
      "'project': 'KAI', 'last_updated': '2023-09-06', 'family_tree': 'child', 'parent_id':\n",
      "'4cbef679-2118-42cc-b643-c9f1eb832670', 'id': 'bf02fe64-62d5-4455-8607-8745f9f7a18b',\n",
      "'orig_elements': ''}\n",
      "\n",
      "-----------------------------------------------\n",
      "2. Chunk: 579 Characters\n",
      "-----------------------------------------------\n",
      ". To delete a video file, click next to the name of the uploaded video file. Note The device control\n",
      "command must be transferred to the device to apply a video to it. &gt; Session timeout Allows the\n",
      "use of the session timeout feature for the Kiosk Browser. If the user does not use the device for a\n",
      "set time, the device deletes user information, such as the cache and cookies, in the device Kiosk\n",
      "Browser and goes to the main page URL: Apply &mdash; Enables the session timeout feature for the\n",
      "browser. &gt;&gt; Time (sec) Set the session timeout in seconds for the Kiosk Browser\n",
      "metadata:\n",
      " {'source': 'all_processed_data.json', 'seq_num': 893, 'title': 'Android Enterprise policies',\n",
      "'url': 'https://docs.samsungknox.com/admin/knox-manage/configure/profile/configure-profile-\n",
      "policies/android-enterprise-policies', 'project': 'KM', 'last_updated': '2023-09-06', 'family_tree':\n",
      "'child', 'parent_id': '91fe851c-947c-4abf-b7cc-b27ffbb4ff02', 'id':\n",
      "'e1925763-2507-444d-a7e9-0e8aa406da24', 'orig_elements': ''}\n",
      "\n",
      "-----------------------------------------------\n",
      "3. Chunk: 993 Characters\n",
      "-----------------------------------------------\n",
      ". 7. The device now launches DeX automatically when it is plugged in to an HDMI cable. 8. Once the\n",
      "device is connected to DeX, a Display resolution screen displays. Select a single resolution value\n",
      "for the connected display. Unselected display options will be greyed out and unavailable. Keep in\n",
      "mind, changing the resolution makes displayed windows, text and other items appear small or larger.\n",
      "Options include, WQHD (2560 x 1440), FHD (1920 x 1080) _recommended setting_, HD+ (1600 x 900),\n",
      "WQXGA (2560 x 1600), WUXGA (1920 x 1200), or UWQHD (3440 x 1440). Select Done to commit the selected\n",
      "display setting. If the display resolution provided is not supported, then FHD (1920 x 1080) is\n",
      "selected by default and non-supported resolutions are greyed out in the DeX Display resolution\n",
      "screen. Industry example This example configures a tablet in DeX mode, so a bank employee can use it\n",
      "to help customers with day to day operations. For example opening a new account or checking account\n",
      "balances\n",
      "metadata:\n",
      " {'source': 'all_processed_data.json', 'seq_num': 1225, 'title': 'DeX', 'url':\n",
      "'https://docs.samsungknox.com/admin/knox-platform-for-enterprise/knox-service-plugin/configure-\n",
      "advanced-policies/dex', 'project': 'KSP', 'last_updated': '2023-07-26', 'family_tree': 'child',\n",
      "'parent_id': 'beee7adf-3279-41f3-9f60-64baf4598e3e', 'id': 'dd26f691-d3f6-45ef-bee3-976b990f75d2',\n",
      "'orig_elements': ''}\n",
      "\n",
      "-----------------------------------------------\n",
      "4. Chunk: 1013 Characters\n",
      "-----------------------------------------------\n",
      ". #Other Kiosk enhancements The Knox Manage agent must be updated to the latest version for these\n",
      "new features to take effect. Bookmark in Multiple App Kiosk mode now supports file uploads and\n",
      "downloads. You can now set Kiosk Browser and Secure Browser to be automatically updated through\n",
      "profile policies. When adding or modifying a profile, you can find these settings in the following\n",
      "locations: Secure Browser: Android Enterprise > Secure Browser > App Auto Update. Kiosk Browser:\n",
      "Android Enterprise or Android Legacy > Kiosk > Kiosk app settings (select Kiosk Browser ) > App Auto\n",
      "Update. The loading status is now shown on the progress bar: Content #Increased maximum file size\n",
      "limit Previously, the maximum content size was 300 MB. In 20.08, this limit was increased to 1.0 GB.\n",
      "Knox E-FOTA license usage with Knox Suite In addition to the Knox E-FOTA admin portal, you can now\n",
      "view the Knox E-FOTA license usage in the following locations as well: License widget in the Knox\n",
      "Manage admin portal's Dashboard\n",
      "metadata:\n",
      " {'source': 'all_processed_data.json', 'seq_num': 1044, 'title': 'Knox Manage 20.08 release notes',\n",
      "'url': 'https://docs.samsungknox.com/admin/knox-manage/release-notes/20-08', 'project': 'KM',\n",
      "'last_updated': '2023-07-26', 'family_tree': 'child', 'parent_id':\n",
      "'6f170535-c299-4cc6-bda3-d6a2a3ce3041', 'id': '8b02057a-fbfa-49b2-bdcf-177d2f75554d',\n",
      "'orig_elements': ''}\n",
      "\n",
      "-----------------------------------------------\n",
      "5. Chunk: 1008 Characters\n",
      "-----------------------------------------------\n",
      ". Invalid APK version name. Invalid APK version name. Please change the version name and try\n",
      "uploading again. 4090001 File too large. Max 4000 devices allowed per upload. Try splitting the\n",
      "device upload list to reduce the size of .csv you are uploading. Note that there is a max of 4000\n",
      "devices allowed per upload. 4150000 File type is not supported. The file you are trying to upload is\n",
      "not supported. Knox Configure only accepts .csv files. App name cannot contain special characters.\n",
      "Rename the app so it does not contain any special or forbidden characters. App version is invalid.\n",
      "An app you are trying to upload is invalid. Verify that the version you're attempting to upload is\n",
      "correct. Try to re-upload the app again. CSV file is required. A system error occurred. Verify that\n",
      "you've attached a .csv file, try to re-attach the .csv and upload it again. If the problem persists,\n",
      "contact Samsung. 4040105 No CAPTCHA code entered. No CAPTCHA code was entered. Carefully enter the\n",
      "CAPTCHA code and submit\n",
      "metadata:\n",
      " {'source': 'all_processed_data.json', 'seq_num': 433, 'title': 'Portal-side errors', 'url':\n",
      "'https://docs.samsungknox.com/admin/knox-configure/knox-configure-wearables/troubleshoot/portal-\n",
      "side-errors', 'project': 'KC', 'last_updated': '2023-07-26', 'family_tree': 'child', 'parent_id':\n",
      "'a6a25b3c-c4d2-4f38-9f96-ff3ee72f64e3', 'id': 'e68915cc-9e55-49ff-93a9-8a9ed747b294',\n",
      "'orig_elements': ''}\n"
     ]
    }
   ],
   "source": [
    "#query = \"중지된 경우 이체\"\n",
    "query = \"vidio max size?\"\n",
    "search_hybrid_result = opensearch_hybrid_retriever.invoke(query)\n",
    "\n",
    "print(\"\\n==========  Results  ==========\\n\")\n",
    "print(f'1. question: {query}')\n",
    "print(f'2. # documents: {len(search_hybrid_result)}')\n",
    "print(\"3. Documents: \\n\")\n",
    "\n",
    "show_context_used(search_hybrid_result)"
   ]
  },
  {
   "cell_type": "markdown",
   "id": "a981abe7-5208-48f5-a9cc-8c557e9941ca",
   "metadata": {},
   "source": [
    "## 5. RAG"
   ]
  },
  {
   "cell_type": "code",
   "execution_count": 23,
   "id": "0165a6ae-ea4e-415f-a3f9-c6c05439869a",
   "metadata": {
    "tags": []
   },
   "outputs": [],
   "source": [
    "from textwrap import dedent"
   ]
  },
  {
   "cell_type": "markdown",
   "id": "b490df1f-8113-4dd1-a578-a3e1a6918fde",
   "metadata": {
    "tags": []
   },
   "source": [
    "### Prompting\n",
    "- [TIP] Prompt의 instruction의 경우 한글보다 영어로 했을 때 더 좋은 결과를 얻을 수 있습니다."
   ]
  },
  {
   "cell_type": "code",
   "execution_count": 24,
   "id": "6c76b0ad-c6f6-4a61-960d-7956e14e6550",
   "metadata": {
    "tags": []
   },
   "outputs": [],
   "source": [
    "system_prompt = dedent(\n",
    "    \"\"\"\n",
    "    You are a master answer bot designed to answer user's questions.\n",
    "    I'm going to give you contexts which consist of texts, tables and images.\n",
    "    Read the contexts carefully, because I'm going to ask you a question about it.\n",
    "    \"\"\"\n",
    ")\n",
    "\n",
    "human_prompt = dedent(\n",
    "    \"\"\"\n",
    "    Here is the contexts as texts: <contexts>{contexts}</contexts>\n",
    "\n",
    "    First, find a few paragraphs or sentences from the contexts that are most relevant to answering the question.\n",
    "    Then, answer the question as much as you can.\n",
    "\n",
    "    Skip the preamble and go straight into the answer.\n",
    "    Don't insert any XML tag such as <contexts> and </contexts> when answering.\n",
    "    Answer in Korean.\n",
    "\n",
    "    Here is the question: <question>{question}</question>\n",
    "\n",
    "    If the question cannot be answered by the contexts, say \"No relevant contexts\".\n",
    "    \"\"\"\n",
    ")"
   ]
  },
  {
   "cell_type": "markdown",
   "id": "c66157a6-aec8-4555-a90f-1178e6f4f6e0",
   "metadata": {},
   "source": [
    "### Update Search Params (Optional)"
   ]
  },
  {
   "cell_type": "code",
   "execution_count": 25,
   "id": "64df2daf-8b42-472a-885f-97320ee98132",
   "metadata": {
    "tags": []
   },
   "outputs": [],
   "source": [
    "from utils.rag import rag_chain\n",
    "from langchain.schema.output_parser import StrOutputParser"
   ]
  },
  {
   "cell_type": "code",
   "execution_count": 26,
   "id": "d2697230-6962-43d8-8917-ba9daa4295bb",
   "metadata": {
    "tags": []
   },
   "outputs": [],
   "source": [
    "opensearch_hybrid_retriever.update_search_params(\n",
    "    k=10,\n",
    "    minimum_should_match=0,\n",
    "    #filter=[\n",
    "    #    {\"term\": {\"metadata.project\": \"KS\"}},\n",
    "    #],\n",
    "    filter=[],\n",
    "    async_mode=True,\n",
    "    verbose=False\n",
    ")"
   ]
  },
  {
   "cell_type": "markdown",
   "id": "aee26c22-b674-4f4f-a87b-29508e336fda",
   "metadata": {},
   "source": [
    "### Request"
   ]
  },
  {
   "cell_type": "code",
   "execution_count": 27,
   "id": "31f59782-a7b8-4677-a51b-83556d5011f2",
   "metadata": {
    "tags": []
   },
   "outputs": [],
   "source": [
    "qa = rag_chain(\n",
    "    llm_text=llm_text,\n",
    "    retriever=opensearch_hybrid_retriever,\n",
    "    system_prompt=system_prompt,\n",
    "    human_prompt=human_prompt,\n",
    "    return_context=True,\n",
    "    verbose=False\n",
    ")"
   ]
  },
  {
   "cell_type": "code",
   "execution_count": 28,
   "id": "390ad324-40b3-4bcb-92b9-50eb080492a5",
   "metadata": {
    "tags": []
   },
   "outputs": [
    {
     "name": "stdout",
     "output_type": "stream",
     "text": [
      "관련 문맥:\n",
      "\n",
      "You can add only one video file in the MP4 or MKV format. The video file must be less than 50 MB. To upload a video file, click Add and select a file.\n",
      "\n",
      "답변:\n",
      "\n",
      "비디오 파일의 최대 크기는 50MB입니다. MP4 또는 MKV 형식의 비디오 파일 하나만 추가할 수 있으며, 파일 크기는 50MB 미만이어야 합니다."
     ]
    }
   ],
   "source": [
    "query = \"vidio max size?\"\n",
    "\n",
    "response, contexts = qa.invoke(\n",
    "    query = query\n",
    ")"
   ]
  },
  {
   "cell_type": "code",
   "execution_count": 29,
   "id": "14be2ca3-f318-423a-a68d-393c0e14f26d",
   "metadata": {
    "tags": []
   },
   "outputs": [
    {
     "name": "stdout",
     "output_type": "stream",
     "text": [
      "\n",
      "-----------------------------------------------\n",
      "1. Chunk: 930 Characters\n",
      "-----------------------------------------------\n",
      ". Max TTL - The maximum amount of time, or time to live (TTL), in seconds, that a packet can exist\n",
      "in a network before being discarded by the router. The default value is 64, but a number from 49 to\n",
      "255 can be entered. Packet size - The size of the packet to request, in bytes. The default value is\n",
      "64, but a number from 4 to 1472 can be entered. If the device user sets Packet size as 10, Interval\n",
      "(ms) as 1000 ms, and Timeout (ms) as 500 ms, 10 pings are sent and the interval between each ping is\n",
      "set to 1000 ms. A successful test requires all 10 pings to be received within 500 ms each. The ping\n",
      "test continues even if the device user leaves the screen, but they can stop it at any time by\n",
      "tapping the stop button. Otherwise, the test automatically stops once the set conditions are met. A\n",
      "notification is also displayed in the notification bar for the duration of the test, which the user\n",
      "can tap to return to the test screen\n",
      "metadata:\n",
      " {'source': 'all_processed_data.json', 'seq_num': 292, 'title': 'Use the agent app', 'url':\n",
      "'https://docs.samsungknox.com/admin/knox-asset-intelligence/how-to-guides/use-the-agent-app',\n",
      "'project': 'KAI', 'last_updated': '2023-09-06', 'family_tree': 'child', 'parent_id':\n",
      "'4cbef679-2118-42cc-b643-c9f1eb832670', 'id': 'bf02fe64-62d5-4455-8607-8745f9f7a18b',\n",
      "'orig_elements': ''}\n",
      "\n",
      "-----------------------------------------------\n",
      "2. Chunk: 579 Characters\n",
      "-----------------------------------------------\n",
      ". To delete a video file, click next to the name of the uploaded video file. Note The device control\n",
      "command must be transferred to the device to apply a video to it. &gt; Session timeout Allows the\n",
      "use of the session timeout feature for the Kiosk Browser. If the user does not use the device for a\n",
      "set time, the device deletes user information, such as the cache and cookies, in the device Kiosk\n",
      "Browser and goes to the main page URL: Apply &mdash; Enables the session timeout feature for the\n",
      "browser. &gt;&gt; Time (sec) Set the session timeout in seconds for the Kiosk Browser\n",
      "metadata:\n",
      " {'source': 'all_processed_data.json', 'seq_num': 893, 'title': 'Android Enterprise policies',\n",
      "'url': 'https://docs.samsungknox.com/admin/knox-manage/configure/profile/configure-profile-\n",
      "policies/android-enterprise-policies', 'project': 'KM', 'last_updated': '2023-09-06', 'family_tree':\n",
      "'child', 'parent_id': '91fe851c-947c-4abf-b7cc-b27ffbb4ff02', 'id':\n",
      "'e1925763-2507-444d-a7e9-0e8aa406da24', 'orig_elements': ''}\n",
      "\n",
      "-----------------------------------------------\n",
      "3. Chunk: 993 Characters\n",
      "-----------------------------------------------\n",
      ". 7. The device now launches DeX automatically when it is plugged in to an HDMI cable. 8. Once the\n",
      "device is connected to DeX, a Display resolution screen displays. Select a single resolution value\n",
      "for the connected display. Unselected display options will be greyed out and unavailable. Keep in\n",
      "mind, changing the resolution makes displayed windows, text and other items appear small or larger.\n",
      "Options include, WQHD (2560 x 1440), FHD (1920 x 1080) _recommended setting_, HD+ (1600 x 900),\n",
      "WQXGA (2560 x 1600), WUXGA (1920 x 1200), or UWQHD (3440 x 1440). Select Done to commit the selected\n",
      "display setting. If the display resolution provided is not supported, then FHD (1920 x 1080) is\n",
      "selected by default and non-supported resolutions are greyed out in the DeX Display resolution\n",
      "screen. Industry example This example configures a tablet in DeX mode, so a bank employee can use it\n",
      "to help customers with day to day operations. For example opening a new account or checking account\n",
      "balances\n",
      "metadata:\n",
      " {'source': 'all_processed_data.json', 'seq_num': 1225, 'title': 'DeX', 'url':\n",
      "'https://docs.samsungknox.com/admin/knox-platform-for-enterprise/knox-service-plugin/configure-\n",
      "advanced-policies/dex', 'project': 'KSP', 'last_updated': '2023-07-26', 'family_tree': 'child',\n",
      "'parent_id': 'beee7adf-3279-41f3-9f60-64baf4598e3e', 'id': 'dd26f691-d3f6-45ef-bee3-976b990f75d2',\n",
      "'orig_elements': ''}\n",
      "\n",
      "-----------------------------------------------\n",
      "4. Chunk: 1013 Characters\n",
      "-----------------------------------------------\n",
      ". #Other Kiosk enhancements The Knox Manage agent must be updated to the latest version for these\n",
      "new features to take effect. Bookmark in Multiple App Kiosk mode now supports file uploads and\n",
      "downloads. You can now set Kiosk Browser and Secure Browser to be automatically updated through\n",
      "profile policies. When adding or modifying a profile, you can find these settings in the following\n",
      "locations: Secure Browser: Android Enterprise > Secure Browser > App Auto Update. Kiosk Browser:\n",
      "Android Enterprise or Android Legacy > Kiosk > Kiosk app settings (select Kiosk Browser ) > App Auto\n",
      "Update. The loading status is now shown on the progress bar: Content #Increased maximum file size\n",
      "limit Previously, the maximum content size was 300 MB. In 20.08, this limit was increased to 1.0 GB.\n",
      "Knox E-FOTA license usage with Knox Suite In addition to the Knox E-FOTA admin portal, you can now\n",
      "view the Knox E-FOTA license usage in the following locations as well: License widget in the Knox\n",
      "Manage admin portal's Dashboard\n",
      "metadata:\n",
      " {'source': 'all_processed_data.json', 'seq_num': 1044, 'title': 'Knox Manage 20.08 release notes',\n",
      "'url': 'https://docs.samsungknox.com/admin/knox-manage/release-notes/20-08', 'project': 'KM',\n",
      "'last_updated': '2023-07-26', 'family_tree': 'child', 'parent_id':\n",
      "'6f170535-c299-4cc6-bda3-d6a2a3ce3041', 'id': '8b02057a-fbfa-49b2-bdcf-177d2f75554d',\n",
      "'orig_elements': ''}\n",
      "\n",
      "-----------------------------------------------\n",
      "5. Chunk: 1008 Characters\n",
      "-----------------------------------------------\n",
      ". Invalid APK version name. Invalid APK version name. Please change the version name and try\n",
      "uploading again. 4090001 File too large. Max 4000 devices allowed per upload. Try splitting the\n",
      "device upload list to reduce the size of .csv you are uploading. Note that there is a max of 4000\n",
      "devices allowed per upload. 4150000 File type is not supported. The file you are trying to upload is\n",
      "not supported. Knox Configure only accepts .csv files. App name cannot contain special characters.\n",
      "Rename the app so it does not contain any special or forbidden characters. App version is invalid.\n",
      "An app you are trying to upload is invalid. Verify that the version you're attempting to upload is\n",
      "correct. Try to re-upload the app again. CSV file is required. A system error occurred. Verify that\n",
      "you've attached a .csv file, try to re-attach the .csv and upload it again. If the problem persists,\n",
      "contact Samsung. 4040105 No CAPTCHA code entered. No CAPTCHA code was entered. Carefully enter the\n",
      "CAPTCHA code and submit\n",
      "metadata:\n",
      " {'source': 'all_processed_data.json', 'seq_num': 433, 'title': 'Portal-side errors', 'url':\n",
      "'https://docs.samsungknox.com/admin/knox-configure/knox-configure-wearables/troubleshoot/portal-\n",
      "side-errors', 'project': 'KC', 'last_updated': '2023-07-26', 'family_tree': 'child', 'parent_id':\n",
      "'a6a25b3c-c4d2-4f38-9f96-ff3ee72f64e3', 'id': 'e68915cc-9e55-49ff-93a9-8a9ed747b294',\n",
      "'orig_elements': ''}\n",
      "\n",
      "-----------------------------------------------\n",
      "6. Chunk: 990 Characters\n",
      "-----------------------------------------------\n",
      ".The input value ranges from 1 to 52428800 (50MB). Maximum Size of Email Body (Kbyte) Select a\n",
      "maximum value for the email body size. This is only set once during the initial Exchange ActiveSync\n",
      "setup. &gt; Default Size of Email Body (Kbyte) Select the default value of the email body size. Note\n",
      "Select the setting after the Maximum Size of Email Body (Kbyte) setting. Email Account Configures\n",
      "the settings of a POP or IMAP email account. Click !add to add a configuration. You can add or edit\n",
      "up to 20 configurations when you save the profile. Policy Description Configuration ID Assign a\n",
      "unique ID for each email account setting. Description Enter a description for each email account\n",
      "setting. Remove available Allows users to delete the email account settings in Knox Workspace.\n",
      "Default Account Specifies to usage of the default account. User Information input method Select an\n",
      "input method for entering user information. &gt; Manual Input Select this to enter the email address\n",
      "manually\n",
      "metadata:\n",
      " {'source': 'all_processed_data.json', 'seq_num': 899, 'title': 'Knox Workspace (Android Legacy)\n",
      "policies', 'url': 'https://docs.samsungknox.com/admin/knox-manage/configure/profile/configure-\n",
      "profile-policies/knox-workspace-android-legacy-policies', 'project': 'KM', 'last_updated':\n",
      "'2023-07-26', 'family_tree': 'child', 'parent_id': 'da17fa3c-2c2b-4731-9cdb-ee7a431808fc', 'id':\n",
      "'c5c20a1d-a473-4a59-a1eb-39dd8b5b1620', 'orig_elements': ''}\n",
      "\n",
      "-----------------------------------------------\n",
      "7. Chunk: 462 Characters\n",
      "-----------------------------------------------\n",
      "What does the term 'Maximum number of licenses' mean for KPE Standard licenses?. Some customers have\n",
      "asked what the term \"Max # Licenses\" means for the KPE Standard type license. This term can be found\n",
      "in documentation such as the Knox Licenses page in the developer guide. Resolution The term \"Max #\n",
      "Licenses\" means the maximum number of app packages that a particular customer can cover with their\n",
      "KPE Standard license. One license will be for one app package.\n",
      "metadata:\n",
      " {'source': 'all_processed_data.json', 'seq_num': 1638, 'title': \"What does the term 'Maximum number\n",
      "of licenses' mean for KPE Standard licenses?\", 'url': 'https://docs.samsungknox.com/admin/knox-\n",
      "platform-for-enterprise/kbas/kba-528-max-number-licenses-kpe-meaning', 'project': 'KPE',\n",
      "'last_updated': '2023-07-26', 'family_tree': 'child', 'parent_id':\n",
      "'341cc6ac-b9ae-4b55-8145-79497c7c30bf', 'id': '579afec1-e78e-4cbe-9aca-fcf1d5dedf74',\n",
      "'orig_elements': ''}\n",
      "\n",
      "-----------------------------------------------\n",
      "8. Chunk: 947 Characters\n",
      "-----------------------------------------------\n",
      ". To upload a video file, click Add and select a file. To delete a video file, click next to the\n",
      "name of the uploaded video file. Note The device control command must be transferred to the device\n",
      "to apply a video to it. &gt; Session timeout Allows the use of the session timeout feature for the\n",
      "Kiosk Browser. If the user does not use the device for a set time, the device deletes user\n",
      "information, such as the cache and cookies, in the device Kiosk Browser and goes to the main page\n",
      "URL. Apply &mdash; Enable the session timeout feature for the browser. &gt;&gt; Time (sec) Set the\n",
      "session timeout in seconds for the Kiosk Browser. The value must be between 10, 3600 seconds. The\n",
      "default value is 1800 seconds. &gt; Text Copy Allows the copying of text strings in the Kiosk\n",
      "Browser. &gt; Javascript Allows the running of the JavaScript contained in websites. &gt; Http Proxy\n",
      "Allows the use of an HTTP proxy for communications in the Kiosk Browser\n",
      "metadata:\n",
      " {'source': 'all_processed_data.json', 'seq_num': 894, 'title': 'Android Legacy policies', 'url':\n",
      "'https://docs.samsungknox.com/admin/knox-manage/configure/profile/configure-profile-\n",
      "policies/android-legacy-policies', 'project': 'KM', 'last_updated': '2023-07-26', 'family_tree':\n",
      "'child', 'parent_id': '3297c0c7-605f-4c0f-9b3d-0b284534c8d1', 'id':\n",
      "'83990dcb-d5c6-45e1-be57-ca7b8edbd7b6', 'orig_elements': ''}\n",
      "\n",
      "-----------------------------------------------\n",
      "9. Chunk: 1004 Characters\n",
      "-----------------------------------------------\n",
      ". Change this property to include lengths not enabled by default, or to optimize decoding\n",
      "performance for a certain number of symbols. Character-to-symbol mapping depends on barcode type.\n",
      "For example, some barcodes include additional checksum characters in their symbol counts. For more\n",
      "information on active symbol count, refer to Configure the Active Symbol Count. Depends on barcode\n",
      "type. Max. length Determines the maximum supported barcode length (active symbol count) to decode.\n",
      "Depends on barcode type. Inverted color recognition Enables recognition of inverted barcodes that\n",
      "have been printed using bright ink on a dark background. ON/OFF OFF Reduced quiet zone-size Enables\n",
      "scanning codes with smaller than normal quiet zones (white space before and after the code) than\n",
      "allowed by the barcode type specification. Use this if you experience issues when scanning codes\n",
      "that violate quiet zone specifications. Please note that turning on this feature may lead to false\n",
      "positive scans in some cases\n",
      "metadata:\n",
      " {'source': 'all_processed_data.json', 'seq_num': 580, 'title': 'Scan engine settings: Scandit',\n",
      "'url': 'https://docs.samsungknox.com/admin/knox-capture/knox-capture-scandit/scan-engine-settings-\n",
      "scandit', 'project': 'KCAP', 'last_updated': '2023-07-26', 'family_tree': 'child', 'parent_id':\n",
      "'55f251e9-a117-4010-bb25-557849519f12', 'id': 'c1af6baa-7834-4f5d-9b6b-9a2f6c858343',\n",
      "'orig_elements': ''}\n",
      "\n",
      "-----------------------------------------------\n",
      "10. Chunk: 839 Characters\n",
      "-----------------------------------------------\n",
      ". You can add up to 10 image files in the PNG, JPG, JPEG, or GIF format (animated files are not\n",
      "supported). Each image file must be less than 5 MB. To upload an image file, click Add and select a\n",
      "file. To delete an image file, click next to the name of the uploaded image file. Note The device\n",
      "control command must be transferred to the device to apply an image file to it. &gt;&gt;&gt; Video\n",
      "Select a video file for the screen saver. You can add only one video file in the MP4 or MKV format.\n",
      "The video file must be less than 50 MB. To upload a video file, click Add and select a file. To\n",
      "delete a video file, click next to the name of the uploaded video file. Note The device control\n",
      "command must be transferred to the device to apply a video to it. &gt; Session timeout Allows the\n",
      "use of the session timeout feature for the Kiosk Browser\n",
      "metadata:\n",
      " {'source': 'all_processed_data.json', 'seq_num': 893, 'title': 'Android Enterprise policies',\n",
      "'url': 'https://docs.samsungknox.com/admin/knox-manage/configure/profile/configure-profile-\n",
      "policies/android-enterprise-policies', 'project': 'KM', 'last_updated': '2023-09-06', 'family_tree':\n",
      "'child', 'parent_id': '91fe851c-947c-4abf-b7cc-b27ffbb4ff02', 'id':\n",
      "'dc040613-9af3-45d3-8243-f9103338acaa', 'orig_elements': ''}\n"
     ]
    }
   ],
   "source": [
    "show_context_used(contexts)"
   ]
  },
  {
   "cell_type": "code",
   "execution_count": 33,
   "id": "01e77dad-dc19-416b-80e7-19fac3b736a5",
   "metadata": {
    "tags": []
   },
   "outputs": [
    {
     "name": "stdout",
     "output_type": "stream",
     "text": [
      "##################################\n",
      "query:  vidio max size?\n",
      "##################################\n",
      "\u001b[34m\n",
      "\n",
      "### Answer ###\u001b[0m\n",
      "관련 정보를 찾을 수 없어 질문에 정확히 답변하기 어렵습니다. 주어진 컨텍스트에는 비디오 파일 크기 제한에 대한 구체적인 내용이 포함되어 있지 않습니다.\n",
      "\n",
      "일반적으로 비디오 파일의 최대 크기는 플랫폼이나 서비스에 따라 다릅니다. 예를 들어 YouTube, Instagram, TikTok 등 각 플랫폼마다 업로드 가능한 최대 비디오\n",
      "크기가 다릅니다. 정확한 정보를 원하신다면 특정 플랫폼이나 서비스의 공식 지원 페이지를 확인하시는 것이 좋습니다.\n",
      "\u001b[32m\n",
      "\n",
      "### Contexts ###\u001b[0m\n"
     ]
    }
   ],
   "source": [
    "print(\"##################################\")\n",
    "print(\"query: \", query)\n",
    "print(\"##################################\")\n",
    "\n",
    "print (colored(\"\\n\\n### Answer ###\", \"blue\"))\n",
    "print_ww(response)\n",
    "\n",
    "print (colored(\"\\n\\n### Contexts ###\", \"green\"))\n",
    "show_context_used(contexts)"
   ]
  }
 ],
 "metadata": {
  "kernelspec": {
   "display_name": "conda_python3",
   "language": "python",
   "name": "conda_python3"
  },
  "language_info": {
   "codemirror_mode": {
    "name": "ipython",
    "version": 3
   },
   "file_extension": ".py",
   "mimetype": "text/x-python",
   "name": "python",
   "nbconvert_exporter": "python",
   "pygments_lexer": "ipython3",
   "version": "3.10.14"
  }
 },
 "nbformat": 4,
 "nbformat_minor": 5
}
