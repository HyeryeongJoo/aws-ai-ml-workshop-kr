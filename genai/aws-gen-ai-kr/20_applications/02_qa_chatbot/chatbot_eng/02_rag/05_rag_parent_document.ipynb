{
 "cells": [
  {
   "cell_type": "markdown",
   "id": "5deb2df2-413d-49bd-a829-3a1fc344937e",
   "metadata": {},
   "source": [
    "# RAG Based on parent document\n",
    "- Hybrid Search\n",
    "- ReRanker\n",
    "- [Parent Document](https://medium.aiplanet.com/advanced-rag-providing-broader-context-to-llms-using-parentdocumentretriever-cc627762305a)\n",
    "    "
   ]
  },
  {
   "cell_type": "markdown",
   "id": "b1f81abc-3277-4a6b-9ef1-d4f997d67fbe",
   "metadata": {},
   "source": [
    "## Setting\n",
    " - Auto Reload\n",
    " - path for utils"
   ]
  },
  {
   "cell_type": "code",
   "execution_count": 2,
   "id": "ddde4105-b759-4d6c-8214-8e1ab485ae48",
   "metadata": {
    "tags": []
   },
   "outputs": [],
   "source": [
    "%load_ext autoreload\n",
    "%autoreload 2"
   ]
  },
  {
   "cell_type": "code",
   "execution_count": 3,
   "id": "57c2cdb1-d785-4317-afce-938f13141085",
   "metadata": {
    "tags": []
   },
   "outputs": [],
   "source": [
    "import sys, os\n",
    "module_path = \"../../../..\"\n",
    "sys.path.append(os.path.abspath(module_path))"
   ]
  },
  {
   "cell_type": "markdown",
   "id": "9c4ade56-8dbc-4ded-b355-7e4bcc971e90",
   "metadata": {},
   "source": [
    "## 1. Bedrock Client 생성"
   ]
  },
  {
   "cell_type": "code",
   "execution_count": 4,
   "id": "cc2d877f-e877-48f6-8dd4-239de20e45cd",
   "metadata": {
    "tags": []
   },
   "outputs": [],
   "source": [
    "import json\n",
    "import boto3\n",
    "from pprint import pprint\n",
    "from termcolor import colored\n",
    "from utils import bedrock, print_ww\n",
    "from utils.bedrock import bedrock_info"
   ]
  },
  {
   "cell_type": "markdown",
   "id": "088e6490-c79a-49e4-841c-9fdb91292608",
   "metadata": {},
   "source": [
    "### ---- ⚠️ Un-comment and edit the below lines as needed for your AWS setup ⚠️ ----\n",
    "- os.environ[\"AWS_DEFAULT_REGION\"] = \"<REGION_NAME>\"  # E.g. \"us-east-1\"\n",
    "- os.environ[\"AWS_PROFILE\"] = \"<YOUR_PROFILE>\"\n",
    "- os.environ[\"BEDROCK_ASSUME_ROLE\"] = \"<YOUR_ROLE_ARN>\"  # E.g. \"arn:aws:...\"\n",
    "- os.environ[\"BEDROCK_ENDPOINT_URL\"] = \"<YOUR_ENDPOINT_URL>\"  # E.g. \"https://...\""
   ]
  },
  {
   "cell_type": "code",
   "execution_count": 5,
   "id": "cab9312c-5f61-4730-96c3-5eef54a5f08c",
   "metadata": {
    "tags": []
   },
   "outputs": [
    {
     "name": "stdout",
     "output_type": "stream",
     "text": [
      "Create new client\n",
      "  Using region: None\n",
      "  Using profile: None\n",
      "boto3 Bedrock client successfully created!\n",
      "bedrock-runtime(https://bedrock-runtime.us-west-2.amazonaws.com)\n",
      "\u001b[32m\n",
      "== FM lists ==\u001b[0m\n",
      "{'Claude-Instant-V1': 'anthropic.claude-instant-v1',\n",
      " 'Claude-V1': 'anthropic.claude-v1',\n",
      " 'Claude-V2': 'anthropic.claude-v2',\n",
      " 'Claude-V2-1': 'anthropic.claude-v2:1',\n",
      " 'Claude-V3-5-Sonnet': 'anthropic.claude-3-5-sonnet-20240620-v1:0',\n",
      " 'Claude-V3-Haiku': 'anthropic.claude-3-haiku-20240307-v1:0',\n",
      " 'Claude-V3-Opus': 'anthropic.claude-3-sonnet-20240229-v1:0',\n",
      " 'Claude-V3-Sonnet': 'anthropic.claude-3-sonnet-20240229-v1:0',\n",
      " 'Cohere-Embeddings-En': 'cohere.embed-english-v3',\n",
      " 'Cohere-Embeddings-Multilingual': 'cohere.embed-multilingual-v3',\n",
      " 'Command': 'cohere.command-text-v14',\n",
      " 'Command-Light': 'cohere.command-light-text-v14',\n",
      " 'Jurassic-2-Mid': 'ai21.j2-mid-v1',\n",
      " 'Jurassic-2-Ultra': 'ai21.j2-ultra-v1',\n",
      " 'Llama2-13b-Chat': 'meta.llama2-13b-chat-v1',\n",
      " 'Titan-Embeddings-G1': 'amazon.titan-embed-text-v1',\n",
      " 'Titan-Text-Embeddings-V2': 'amazon.titan-embed-text-v2:0',\n",
      " 'Titan-Text-G1': 'amazon.titan-text-express-v1',\n",
      " 'Titan-Text-G1-Express': 'amazon.titan-text-express-v1',\n",
      " 'Titan-Text-G1-Light': 'amazon.titan-text-lite-v1',\n",
      " 'Titan-Text-G1-Premier': 'amazon.titan-text-premier-v1:0'}\n"
     ]
    }
   ],
   "source": [
    "boto3_bedrock = bedrock.get_bedrock_client(\n",
    "    assumed_role=os.environ.get(\"BEDROCK_ASSUME_ROLE\", None),\n",
    "    endpoint_url=os.environ.get(\"BEDROCK_ENDPOINT_URL\", None),\n",
    "    region=os.environ.get(\"AWS_DEFAULT_REGION\", None),\n",
    ")\n",
    "\n",
    "aws_region = os.environ.get(\"AWS_DEFAULT_REGION\", None)\n",
    "print (colored(\"\\n== FM lists ==\", \"green\"))\n",
    "pprint (bedrock_info.get_list_fm_models(verbose=False))"
   ]
  },
  {
   "cell_type": "markdown",
   "id": "241a9e34-417a-422f-9f75-cb211b2e70e1",
   "metadata": {
    "tags": []
   },
   "source": [
    "## 2. Titan Embedding 및 LLM 인 Claude-v3.5 모델 로딩"
   ]
  },
  {
   "cell_type": "markdown",
   "id": "29bf63d2-4110-407c-af06-a45d2fbed4b5",
   "metadata": {},
   "source": [
    "### LLM 로딩 (Claude-v3.5)"
   ]
  },
  {
   "cell_type": "code",
   "execution_count": 6,
   "id": "9c51443a-04f9-465c-9564-53053eb3e1c2",
   "metadata": {
    "tags": []
   },
   "outputs": [],
   "source": [
    "from langchain_aws import ChatBedrock\n",
    "from langchain.callbacks.streaming_stdout import StreamingStdOutCallbackHandler"
   ]
  },
  {
   "cell_type": "code",
   "execution_count": 7,
   "id": "d09e84e0-b9e1-4b12-8e7a-68f03c5416e5",
   "metadata": {
    "tags": []
   },
   "outputs": [
    {
     "data": {
      "text/plain": [
       "ChatBedrock(callbacks=[<langchain_core.callbacks.streaming_stdout.StreamingStdOutCallbackHandler object at 0x7f689d011210>], client=<botocore.client.BedrockRuntime object at 0x7f6881504700>, model_id='anthropic.claude-3-5-sonnet-20240620-v1:0', model_kwargs={'max_tokens': 1024, 'stop_sequences': ['\\n\\nHuman']})"
      ]
     },
     "execution_count": 7,
     "metadata": {},
     "output_type": "execute_result"
    }
   ],
   "source": [
    "llm_text = ChatBedrock(\n",
    "    model_id=bedrock_info.get_model_id(model_name=\"Claude-V3-5-Sonnet\"),\n",
    "    client=boto3_bedrock,\n",
    "    model_kwargs={\n",
    "        \"max_tokens\": 1024,\n",
    "        \"stop_sequences\": [\"\\n\\nHuman\"],\n",
    "    },\n",
    "    #streaming=True,\n",
    "    callbacks=[StreamingStdOutCallbackHandler()],\n",
    ")\n",
    "llm_text"
   ]
  },
  {
   "cell_type": "markdown",
   "id": "3ba2e829-af8f-4e90-b994-59106cdec8d8",
   "metadata": {},
   "source": [
    "### Embedding 모델 선택"
   ]
  },
  {
   "cell_type": "code",
   "execution_count": 8,
   "id": "0b7b8752-d1e3-4f41-ba35-6da42c3785db",
   "metadata": {
    "tags": []
   },
   "outputs": [],
   "source": [
    "from langchain_aws import BedrockEmbeddings"
   ]
  },
  {
   "cell_type": "code",
   "execution_count": 9,
   "id": "793b03f7-3186-4969-b76a-98fe56bd5fdc",
   "metadata": {
    "tags": []
   },
   "outputs": [
    {
     "name": "stdout",
     "output_type": "stream",
     "text": [
      "Bedrock Embeddings Model Loaded\n"
     ]
    }
   ],
   "source": [
    "llm_emb = BedrockEmbeddings(\n",
    "    client=boto3_bedrock,\n",
    "    model_id=bedrock_info.get_model_id(model_name=\"Titan-Text-Embeddings-V2\")\n",
    ")\n",
    "dimension = 1024 #1536\n",
    "print(\"Bedrock Embeddings Model Loaded\")"
   ]
  },
  {
   "cell_type": "markdown",
   "id": "e10b67d5-382e-4715-a841-eb07b8655da8",
   "metadata": {},
   "source": [
    "## 3. Depoly ReRanker model (if needed)"
   ]
  },
  {
   "cell_type": "code",
   "execution_count": 10,
   "id": "9a08a296-41ef-44cb-857b-63d05a8d187c",
   "metadata": {
    "tags": []
   },
   "outputs": [
    {
     "name": "stdout",
     "output_type": "stream",
     "text": [
      "sagemaker.config INFO - Not applying SDK defaults from location: /etc/xdg/sagemaker/config.yaml\n",
      "sagemaker.config INFO - Not applying SDK defaults from location: /home/ec2-user/.config/sagemaker/config.yaml\n"
     ]
    }
   ],
   "source": [
    "import json\n",
    "import sagemaker\n",
    "from sagemaker.huggingface import HuggingFaceModel"
   ]
  },
  {
   "cell_type": "code",
   "execution_count": 11,
   "id": "33dd04a7-8200-49e7-ae69-55a82be199b4",
   "metadata": {
    "tags": []
   },
   "outputs": [],
   "source": [
    "depoly = False"
   ]
  },
  {
   "cell_type": "code",
   "execution_count": 12,
   "id": "9d40e3dd-a19f-4af3-831a-0cfe79e72cb3",
   "metadata": {
    "tags": []
   },
   "outputs": [],
   "source": [
    "if depoly:\n",
    "\n",
    "    try:\n",
    "        role = sagemaker.get_execution_role()\n",
    "    except ValueError:\n",
    "        iam = boto3.client('iam')\n",
    "        role = iam.get_role(RoleName='sagemaker_execution_role')['Role']['Arn']\n",
    "\n",
    "    # Hub Model configuration. https://huggingface.co/models\n",
    "    hub = {\n",
    "        'HF_MODEL_ID':'BAAI/bge-reranker-large',\n",
    "        'HF_TASK':'text-classification'\n",
    "    }\n",
    "\n",
    "    # create Hugging Face Model Class\n",
    "    huggingface_model = HuggingFaceModel(\n",
    "        transformers_version='4.26.0',\n",
    "        pytorch_version='1.13.1',\n",
    "        py_version='py39',\n",
    "        env=hub,\n",
    "        role=role, \n",
    "    )\n",
    "\n",
    "    # deploy model to SageMaker Inference\n",
    "    predictor = huggingface_model.deploy(\n",
    "        initial_instance_count=1, # number of instances\n",
    "        instance_type='ml.g5.xlarge' # instance type\n",
    "    )\n",
    "\n",
    "    print(f'Accept: {predictor.accept}')\n",
    "    print(f'ContentType: {predictor.content_type}')\n",
    "    print(f'Endpoint: {predictor.endpoint}')"
   ]
  },
  {
   "cell_type": "markdown",
   "id": "f7389708-b21d-4014-bc33-4d16ed2646d6",
   "metadata": {},
   "source": [
    "#### Save reranker endpoint to Parameter Store"
   ]
  },
  {
   "cell_type": "code",
   "execution_count": 13,
   "id": "97e5c7c6-9630-4f9e-8d55-8218b9a1cb6a",
   "metadata": {
    "tags": []
   },
   "outputs": [],
   "source": [
    "if depoly:\n",
    "\n",
    "    import boto3\n",
    "    from utils.ssm import parameter_store\n",
    "\n",
    "    region=boto3.Session().region_name\n",
    "    pm = parameter_store(region)\n",
    "\n",
    "    pm.put_params(\n",
    "        key=\"reranker_endpoint\",\n",
    "        value=f'{predictor.endpoint}',\n",
    "        overwrite=True,\n",
    "        enc=False\n",
    "    )"
   ]
  },
  {
   "cell_type": "markdown",
   "id": "20e648ef-01ec-4e2f-ba88-7d2510fdb7a6",
   "metadata": {},
   "source": [
    "## 4. Invocation (prediction)"
   ]
  },
  {
   "cell_type": "code",
   "execution_count": 14,
   "id": "d0e06044-ac6b-468d-a106-8fbeb4a555f6",
   "metadata": {
    "tags": []
   },
   "outputs": [],
   "source": [
    "from utils.ssm import parameter_store"
   ]
  },
  {
   "cell_type": "code",
   "execution_count": 15,
   "id": "ac71912f-b121-424d-97e9-6bfbed2633bf",
   "metadata": {
    "tags": []
   },
   "outputs": [],
   "source": [
    "region=boto3.Session().region_name\n",
    "pm = parameter_store(region)"
   ]
  },
  {
   "cell_type": "code",
   "execution_count": 16,
   "id": "114be617-a687-4733-abb9-30394c7ef35f",
   "metadata": {
    "tags": []
   },
   "outputs": [
    {
     "name": "stdout",
     "output_type": "stream",
     "text": [
      "runtime_client: <botocore.client.SageMakerRuntime object at 0x7f68517aeb30>\n"
     ]
    }
   ],
   "source": [
    "runtime_client = boto3.Session().client('sagemaker-runtime')\n",
    "print (f'runtime_client: {runtime_client}')"
   ]
  },
  {
   "cell_type": "code",
   "execution_count": 17,
   "id": "26ee5c45-de87-4a2b-bc04-bbc649fcd0c6",
   "metadata": {
    "tags": []
   },
   "outputs": [],
   "source": [
    "endpoint_name = pm.get_params(\n",
    "    key=\"reranker_endpoint\",\n",
    "    enc=False\n",
    ")\n",
    "deserializer = \"application/json\""
   ]
  },
  {
   "cell_type": "code",
   "execution_count": 18,
   "id": "bd6288ed-b4fa-466f-9e2b-57484b827b0a",
   "metadata": {
    "tags": []
   },
   "outputs": [],
   "source": [
    "payload = json.dumps(\n",
    "    {\n",
    "        \"inputs\": [\n",
    "            {\"text\": \"I hate you\", \"text_pair\": \"I don't like you\"},\n",
    "            {\"text\": \"He hates you\", \"text_pair\": \"He like you\"}\n",
    "        ]\n",
    "    }\n",
    ")"
   ]
  },
  {
   "cell_type": "code",
   "execution_count": 19,
   "id": "124fd3f0-2b81-4b2b-af97-2f22b101f25d",
   "metadata": {
    "tags": []
   },
   "outputs": [],
   "source": [
    "payload = json.dumps(\n",
    "    {\n",
    "        \"inputs\": [\n",
    "            {\"text\": \"나는 너를 사랑하지 않아\", \"text_pair\": \"나는 너를 좋아하지 않아\"},\n",
    "            {\"text\": \"그는 너를 싫어해\", \"text_pair\": \"그는 너를 좋아해\"}\n",
    "        ]\n",
    "    }\n",
    ")"
   ]
  },
  {
   "cell_type": "code",
   "execution_count": 20,
   "id": "c1eebe88-8b92-4e81-a103-b5a5d7a91bb3",
   "metadata": {
    "tags": []
   },
   "outputs": [
    {
     "name": "stdout",
     "output_type": "stream",
     "text": [
      "Response: [{'label': 'LABEL_0', 'score': 0.9984032511711121}, {'label': 'LABEL_0', 'score': 0.004707992542535067}]\n",
      "CPU times: user 14 ms, sys: 265 µs, total: 14.2 ms\n",
      "Wall time: 84.3 ms\n"
     ]
    }
   ],
   "source": [
    "%%time\n",
    "response = runtime_client.invoke_endpoint(\n",
    "    EndpointName=endpoint_name,\n",
    "    ContentType=\"application/json\",\n",
    "    Accept=deserializer,\n",
    "    Body=payload\n",
    ")\n",
    "## deserialization\n",
    "out = json.loads(response['Body'].read().decode()) ## for json\n",
    "print (f'Response: {out}')"
   ]
  },
  {
   "cell_type": "markdown",
   "id": "7e432237-b9b5-4be3-aa0c-c30eeca6f480",
   "metadata": {},
   "source": [
    "## 5. LangChain OpenSearch VectorStore 정의\n",
    "### 선수 조건\n",
    "- 01_preprocess_docs/02_load_docs_opensearch.ipynb를 통해서 OpenSearch Index 가 생성이 되어 있어야 합니다.\n",
    "#### [중요] 아래에 aws parameter store 에 아래 인증정보가 먼저 입력되어 있어야 합니다.\n",
    "- 01_preprocess_docs/01_parameter_store_example.ipynb 참고"
   ]
  },
  {
   "cell_type": "code",
   "execution_count": 21,
   "id": "42d192b6-68ce-465e-9fa7-04b5201f4453",
   "metadata": {
    "tags": []
   },
   "outputs": [],
   "source": [
    "opensearch_domain_endpoint = pm.get_params(\n",
    "    key=\"opensearch_domain_endpoint\",\n",
    "    enc=False\n",
    ")\n",
    "\n",
    "opensearch_user_id = pm.get_params(\n",
    "    key=\"opensearch_user_id\",\n",
    "    enc=False\n",
    ")\n",
    "\n",
    "opensearch_user_password = pm.get_params(\n",
    "    key=\"opensearch_user_password\",\n",
    "    enc=True\n",
    ")"
   ]
  },
  {
   "cell_type": "code",
   "execution_count": 22,
   "id": "fc7866fd-fd9c-4b41-b600-a91e43edfe4d",
   "metadata": {
    "tags": []
   },
   "outputs": [],
   "source": [
    "opensearch_domain_endpoint = opensearch_domain_endpoint\n",
    "rag_user_name = opensearch_user_id\n",
    "rag_user_password = opensearch_user_password\n",
    "\n",
    "http_auth = (rag_user_name, rag_user_password) # Master username, Master password"
   ]
  },
  {
   "cell_type": "markdown",
   "id": "161a900e-effc-4d7f-a179-b6c00eac03ad",
   "metadata": {
    "tags": []
   },
   "source": [
    "### Index 이름 셋팅\n",
    "- 이전 노트북 01_preprocess_docs/02_load_docs_opensearch.ipynb를 통해서 생성된 OpenSearch Index name 입력\n",
    "- parent document 용으로 생성된 index 사용할 것 "
   ]
  },
  {
   "cell_type": "code",
   "execution_count": 23,
   "id": "d5d9b5eb-052e-4e84-846b-c5385e853ba4",
   "metadata": {
    "tags": []
   },
   "outputs": [
    {
     "name": "stdout",
     "output_type": "stream",
     "text": [
      "index_name: v01-genai-poc-parent-doc-retriever\n"
     ]
    }
   ],
   "source": [
    "index_name = opensearch_user_password = pm.get_params(\n",
    "    key=\"opensearch_index_name\",\n",
    "    enc=True\n",
    ")\n",
    "\n",
    "print (f'index_name: {index_name}')"
   ]
  },
  {
   "cell_type": "markdown",
   "id": "482f5785-b88d-44fa-a603-080e4bd734a6",
   "metadata": {},
   "source": [
    "### OpenSearch Client 생성"
   ]
  },
  {
   "cell_type": "code",
   "execution_count": 24,
   "id": "968b7502-5799-4702-bc17-959e88c330a2",
   "metadata": {
    "tags": []
   },
   "outputs": [],
   "source": [
    "from utils.opensearch import opensearch_utils"
   ]
  },
  {
   "cell_type": "code",
   "execution_count": 25,
   "id": "6ceb46a1-e425-4f7e-9319-793b55abb938",
   "metadata": {
    "tags": []
   },
   "outputs": [],
   "source": [
    "os_client = opensearch_utils.create_aws_opensearch_client(\n",
    "    aws_region,\n",
    "    opensearch_domain_endpoint,\n",
    "    http_auth\n",
    ")"
   ]
  },
  {
   "cell_type": "markdown",
   "id": "a5084376-7523-4cf9-9123-adc4ae79f66d",
   "metadata": {
    "tags": []
   },
   "source": [
    "## 6. Retriever based on Hybrid Search + ParentDocument + ReRanker\n",
    "- LangChain에서 제공하는 **BaseRetriever** 클래스를 상속받아 **Custom Retriever**를 정의 할 수 있습니다.\n",
    "- Hybrid-Search에 대한 자세한 내용는 **\"01_rag_hybrid_search.ipyno\"** 에서 확인 가능합니다.\n",
    "- [Parent Document](https://towardsdatascience.com/forget-rag-the-future-is-rag-fusion-1147298d8ad1)\n",
    "![parent-document.png](../../../../imgs/parent-document.png)"
   ]
  },
  {
   "cell_type": "markdown",
   "id": "29cf3877-ed50-4ca6-b319-fca654f011cc",
   "metadata": {
    "tags": []
   },
   "source": [
    "## Parent documents in Hybrid search\n",
    "- Lexical search: parent documents only\n",
    "- Semantic search: child documents first, getting parent documents corresponding to that child document"
   ]
  },
  {
   "cell_type": "code",
   "execution_count": 26,
   "id": "5db8e470-63a9-4c3d-94c8-1d270a6da822",
   "metadata": {
    "tags": []
   },
   "outputs": [],
   "source": [
    "from utils.rag import OpenSearchHybridSearchRetriever"
   ]
  },
  {
   "cell_type": "markdown",
   "id": "d7feac2f-21a2-4756-b989-66c180bb1e79",
   "metadata": {},
   "source": [
    "- 필터 설정 예시\n",
    "- filter=[ <BR>\n",
    "    　{\"term\": {\"metadata.[**your_metadata_attribute_name**]\": \"**your first keyword**\"}}, <BR>\n",
    "    　{\"term\": {\"metadata.[**your_metadata_attribute_name**]\": \"**your second keyword**\"}},<BR>\n",
    "]"
   ]
  },
  {
   "cell_type": "code",
   "execution_count": 27,
   "id": "49c7e131-294f-4ff8-9331-989709c7079c",
   "metadata": {
    "tags": []
   },
   "outputs": [],
   "source": [
    "opensearch_hybrid_retriever = OpenSearchHybridSearchRetriever(\n",
    "    os_client=os_client,\n",
    "    index_name=index_name,\n",
    "    llm_text=llm_text, # llm for query augmentation in both rag_fusion and HyDE\n",
    "    llm_emb=llm_emb, # Used in semantic search based on opensearch \n",
    "\n",
    "    # option for lexical\n",
    "    minimum_should_match=0,\n",
    "    filter=[],\n",
    "\n",
    "    # option for search\n",
    "    fusion_algorithm=\"RRF\", # [\"RRF\", \"simple_weighted\"], rank fusion 방식 정의\n",
    "    ensemble_weights=[.51, .49], # [for semantic, for lexical], Semantic, Lexical search 결과에 대한 최종 반영 비율 정의\n",
    "    reranker=True, # enable reranker with reranker model\n",
    "    reranker_endpoint_name=endpoint_name, # endpoint name for reranking model\n",
    "    parent_document = True, # enable parent document\n",
    "\n",
    "    # option for async search\n",
    "    async_mode=True,\n",
    "\n",
    "    # option for output\n",
    "    k=5, # 최종 Document 수 정의\n",
    "    verbose=True,\n",
    ")"
   ]
  },
  {
   "cell_type": "markdown",
   "id": "cfb26835-ad98-41c5-9e9d-2453642e3551",
   "metadata": {},
   "source": [
    "### Retrieval example\n",
    "- default search"
   ]
  },
  {
   "cell_type": "code",
   "execution_count": 28,
   "id": "9c06e89f-79de-413c-ba9c-a188ca3fe2d0",
   "metadata": {
    "tags": []
   },
   "outputs": [],
   "source": [
    "from utils.rag import show_context_used"
   ]
  },
  {
   "cell_type": "code",
   "execution_count": 30,
   "id": "fe3bfee3-dac1-45b9-8795-03e36c1632a9",
   "metadata": {
    "tags": []
   },
   "outputs": [],
   "source": [
    "query = \"vidio max size?\"\n",
    "#query = \"What is knox?\""
   ]
  },
  {
   "cell_type": "code",
   "execution_count": 31,
   "id": "05b13e5e-4a66-4dc8-b18c-42a6e3bd6037",
   "metadata": {
    "collapsed": true,
    "jupyter": {
     "outputs_hidden": true
    },
    "tags": []
   },
   "outputs": [
    {
     "name": "stdout",
     "output_type": "stream",
     "text": [
      "===== ParentDocument =====\n",
      "filter: [{'bool': {'should': [{'term': {'metadata.family_tree': 'child'}}, {'term': {'metadata.family_tree': 'parent_table'}}, {'term': {'metadata.family_tree': 'parent_image'}}]}}]\n",
      "# child_docs: 5\n",
      "# parent docs: 5\n",
      "# duplicates: 0\n",
      "##############################\n",
      "async_mode\n",
      "##############################\n",
      "True\n",
      "##############################\n",
      "reranker\n",
      "##############################\n",
      "True\n",
      "##############################\n",
      "rag_fusion\n",
      "##############################\n",
      "False\n",
      "##############################\n",
      "HyDE\n",
      "##############################\n",
      "False\n",
      "##############################\n",
      "parent_document\n",
      "##############################\n",
      "True\n",
      "##############################\n",
      "complex_document\n",
      "##############################\n",
      "False\n",
      "##############################\n",
      "similar_docs_semantic\n",
      "##############################\n",
      "\n",
      "Score: 1.0\n",
      "['. To delete a video file, click next to the name of the uploaded video file. Note The device control command must be transferred to the device to apply a video to it. &gt; Session timeout Allows the use of the session timeout feature for the Kiosk Browser. If the user does not use the device for a set time, the device deletes user information, such as the cache and cookies, in the device Kiosk Browser and goes to the main page URL: Apply &mdash; Enables the session timeout feature for the browser. &gt;&gt; Time (sec) Set the session timeout in seconds for the Kiosk Browser']\n",
      "{'source': 'all_processed_data.json', 'seq_num': 893, 'title': 'Android Enterprise policies', 'url': 'https://docs.samsungknox.com/admin/knox-manage/configure/profile/configure-profile-policies/android-enterprise-policies', 'project': 'KM', 'last_updated': '2023-09-06', 'family_tree': 'child', 'parent_id': '91fe851c-947c-4abf-b7cc-b27ffbb4ff02', 'id': 'e1925763-2507-444d-a7e9-0e8aa406da24'}\n",
      "\n",
      "Score: 0.9925655171372633\n",
      "['. 7. The device now launches DeX automatically when it is plugged in to an HDMI cable. 8. Once the device is connected to DeX, a Display resolution screen displays. Select a single resolution value for the connected display. Unselected display options will be greyed out and unavailable. Keep in mind, changing the resolution makes displayed windows, text and other items appear small or larger. Options include, WQHD (2560 x 1440), FHD (1920 x 1080) _recommended setting_, HD+ (1600 x 900), WQXGA (2560 x 1600), WUXGA (1920 x 1200), or UWQHD (3440 x 1440). Select Done to commit the selected display setting. If the display resolution provided is not supported, then FHD (1920 x 1080) is selected by default and non-supported resolutions are greyed out in the DeX Display resolution screen. Industry example This example configures a tablet in DeX mode, so a bank employee can use it to help customers with day to day operations. For example opening a new account or checking account balances']\n",
      "{'source': 'all_processed_data.json', 'seq_num': 1225, 'title': 'DeX', 'url': 'https://docs.samsungknox.com/admin/knox-platform-for-enterprise/knox-service-plugin/configure-advanced-policies/dex', 'project': 'KSP', 'last_updated': '2023-07-26', 'family_tree': 'child', 'parent_id': 'beee7adf-3279-41f3-9f60-64baf4598e3e', 'id': 'dd26f691-d3f6-45ef-bee3-976b990f75d2'}\n",
      "\n",
      "Score: 0.9864989643755366\n",
      "[\". #Other Kiosk enhancements The Knox Manage agent must be updated to the latest version for these new features to take effect. Bookmark in Multiple App Kiosk mode now supports file uploads and downloads. You can now set Kiosk Browser and Secure Browser to be automatically updated through profile policies. When adding or modifying a profile, you can find these settings in the following locations: Secure Browser: Android Enterprise > Secure Browser > App Auto Update. Kiosk Browser: Android Enterprise or Android Legacy > Kiosk > Kiosk app settings (select Kiosk Browser ) > App Auto Update. The loading status is now shown on the progress bar: Content #Increased maximum file size limit Previously, the maximum content size was 300 MB. In 20.08, this limit was increased to 1.0 GB. Knox E-FOTA license usage with Knox Suite In addition to the Knox E-FOTA admin portal, you can now view the Knox E-FOTA license usage in the following locations as well: License widget in the Knox Manage admin portal's Dashboard\"]\n",
      "{'source': 'all_processed_data.json', 'seq_num': 1044, 'title': 'Knox Manage 20.08 release notes', 'url': 'https://docs.samsungknox.com/admin/knox-manage/release-notes/20-08', 'project': 'KM', 'last_updated': '2023-07-26', 'family_tree': 'child', 'parent_id': '6f170535-c299-4cc6-bda3-d6a2a3ce3041', 'id': '8b02057a-fbfa-49b2-bdcf-177d2f75554d'}\n",
      "\n",
      "Score: 0.9862280641853693\n",
      "['.The input value ranges from 1 to 52428800 (50MB). Maximum Size of Email Body (Kbyte) Select a maximum value for the email body size. This is only set once during the initial Exchange ActiveSync setup. &gt; Default Size of Email Body (Kbyte) Select the default value of the email body size. Note Select the setting after the Maximum Size of Email Body (Kbyte) setting. Email Account Configures the settings of a POP or IMAP email account. Click !add to add a configuration. You can add or edit up to 20 configurations when you save the profile. Policy Description Configuration ID Assign a unique ID for each email account setting. Description Enter a description for each email account setting. Remove available Allows users to delete the email account settings in Knox Workspace. Default Account Specifies to usage of the default account. User Information input method Select an input method for entering user information. &gt; Manual Input Select this to enter the email address manually']\n",
      "{'source': 'all_processed_data.json', 'seq_num': 899, 'title': 'Knox Workspace (Android Legacy) policies', 'url': 'https://docs.samsungknox.com/admin/knox-manage/configure/profile/configure-profile-policies/knox-workspace-android-legacy-policies', 'project': 'KM', 'last_updated': '2023-07-26', 'family_tree': 'child', 'parent_id': 'da17fa3c-2c2b-4731-9cdb-ee7a431808fc', 'id': 'c5c20a1d-a473-4a59-a1eb-39dd8b5b1620'}\n",
      "\n",
      "Score: 0.9851859796863477\n",
      "['. Max TTL - The maximum amount of time, or time to live (TTL), in seconds, that a packet can exist in a network before being discarded by the router. The default value is 64, but a number from 49 to 255 can be entered. Packet size - The size of the packet to request, in bytes. The default value is 64, but a number from 4 to 1472 can be entered. If the device user sets Packet size as 10, Interval (ms) as 1000 ms, and Timeout (ms) as 500 ms, 10 pings are sent and the interval between each ping is set to 1000 ms. A successful test requires all 10 pings to be received within 500 ms each. The ping test continues even if the device user leaves the screen, but they can stop it at any time by tapping the stop button. Otherwise, the test automatically stops once the set conditions are met. A notification is also displayed in the notification bar for the duration of the test, which the user can tap to return to the test screen']\n",
      "{'source': 'all_processed_data.json', 'seq_num': 292, 'title': 'Use the agent app', 'url': 'https://docs.samsungknox.com/admin/knox-asset-intelligence/how-to-guides/use-the-agent-app', 'project': 'KAI', 'last_updated': '2023-09-06', 'family_tree': 'child', 'parent_id': '4cbef679-2118-42cc-b643-c9f1eb832670', 'id': 'bf02fe64-62d5-4455-8607-8745f9f7a18b'}\n",
      "\n",
      "Score: 0.9849716399169113\n",
      "['. To upload a video file, click Add and select a file. To delete a video file, click next to the name of the uploaded video file. Note The device control command must be transferred to the device to apply a video to it. &gt; Session timeout Allows the use of the session timeout feature for the Kiosk Browser. If the user does not use the device for a set time, the device deletes user information, such as the cache and cookies, in the device Kiosk Browser and goes to the main page URL. Apply &mdash; Enable the session timeout feature for the browser. &gt;&gt; Time (sec) Set the session timeout in seconds for the Kiosk Browser. The value must be between 10, 3600 seconds. The default value is 1800 seconds. &gt; Text Copy Allows the copying of text strings in the Kiosk Browser. &gt; Javascript Allows the running of the JavaScript contained in websites. &gt; Http Proxy Allows the use of an HTTP proxy for communications in the Kiosk Browser']\n",
      "{'source': 'all_processed_data.json', 'seq_num': 894, 'title': 'Android Legacy policies', 'url': 'https://docs.samsungknox.com/admin/knox-manage/configure/profile/configure-profile-policies/android-legacy-policies', 'project': 'KM', 'last_updated': '2023-07-26', 'family_tree': 'child', 'parent_id': '3297c0c7-605f-4c0f-9b3d-0b284534c8d1', 'id': '83990dcb-d5c6-45e1-be57-ca7b8edbd7b6'}\n",
      "\n",
      "Score: 0.9828392137504668\n",
      "['. You can add up to 10 image files in the PNG, JPG, JPEG, or GIF format (animated files are not supported). Each image file must be less than 5 MB. To upload an image file, click Add and select a file. To delete an image file, click next to the name of the uploaded image file. Note The device control command must be transferred to the device to apply an image file to it. &gt;&gt;&gt; Video Select a video file for the screen saver. You can add only one video file in the MP4 or MKV format. The video file must be less than 50 MB. To upload a video file, click Add and select a file. To delete a video file, click next to the name of the uploaded video file. Note The device control command must be transferred to the device to apply a video to it. &gt; Session timeout Allows the use of the session timeout feature for the Kiosk Browser']\n",
      "{'source': 'all_processed_data.json', 'seq_num': 893, 'title': 'Android Enterprise policies', 'url': 'https://docs.samsungknox.com/admin/knox-manage/configure/profile/configure-profile-policies/android-enterprise-policies', 'project': 'KM', 'last_updated': '2023-09-06', 'family_tree': 'child', 'parent_id': '91fe851c-947c-4abf-b7cc-b27ffbb4ff02', 'id': 'dc040613-9af3-45d3-8243-f9103338acaa'}\n",
      "None\n",
      "##############################\n",
      "similar_docs_keyword\n",
      "##############################\n",
      "\n",
      "Score: 1.0\n",
      "[\". Invalid APK version name. Invalid APK version name. Please change the version name and try uploading again. 4090001 File too large. Max 4000 devices allowed per upload. Try splitting the device upload list to reduce the size of .csv you are uploading. Note that there is a max of 4000 devices allowed per upload. 4150000 File type is not supported. The file you are trying to upload is not supported. Knox Configure only accepts .csv files. App name cannot contain special characters. Rename the app so it does not contain any special or forbidden characters. App version is invalid. An app you are trying to upload is invalid. Verify that the version you're attempting to upload is correct. Try to re-upload the app again. CSV file is required. A system error occurred. Verify that you've attached a .csv file, try to re-attach the .csv and upload it again. If the problem persists, contact Samsung. 4040105 No CAPTCHA code entered. No CAPTCHA code was entered. Carefully enter the CAPTCHA code and submit\"]\n",
      "{'source': 'all_processed_data.json', 'seq_num': 433, 'title': 'Portal-side errors', 'url': 'https://docs.samsungknox.com/admin/knox-configure/knox-configure-wearables/troubleshoot/portal-side-errors', 'project': 'KC', 'last_updated': '2023-07-26', 'family_tree': 'child', 'parent_id': 'a6a25b3c-c4d2-4f38-9f96-ff3ee72f64e3', 'id': 'e68915cc-9e55-49ff-93a9-8a9ed747b294'}\n",
      "\n",
      "Score: 0.8815187024774439\n",
      "['. Max TTL - The maximum amount of time, or time to live (TTL), in seconds, that a packet can exist in a network before being discarded by the router. The default value is 64, but a number from 49 to 255 can be entered. Packet size - The size of the packet to request, in bytes. The default value is 64, but a number from 4 to 1472 can be entered. If the device user sets Packet size as 10, Interval (ms) as 1000 ms, and Timeout (ms) as 500 ms, 10 pings are sent and the interval between each ping is set to 1000 ms. A successful test requires all 10 pings to be received within 500 ms each. The ping test continues even if the device user leaves the screen, but they can stop it at any time by tapping the stop button. Otherwise, the test automatically stops once the set conditions are met. A notification is also displayed in the notification bar for the duration of the test, which the user can tap to return to the test screen']\n",
      "{'source': 'all_processed_data.json', 'seq_num': 292, 'title': 'Use the agent app', 'url': 'https://docs.samsungknox.com/admin/knox-asset-intelligence/how-to-guides/use-the-agent-app', 'project': 'KAI', 'last_updated': '2023-09-06', 'family_tree': 'child', 'parent_id': '4cbef679-2118-42cc-b643-c9f1eb832670', 'id': 'bf02fe64-62d5-4455-8607-8745f9f7a18b'}\n",
      "\n",
      "Score: 0.8195609692127032\n",
      "['What does the term \\'Maximum number of licenses\\' mean for KPE Standard licenses?. Some customers have asked what the term \"Max # Licenses\" means for the KPE Standard type license. This term can be found in documentation such as the Knox Licenses page in the developer guide. Resolution The term \"Max # Licenses\" means the maximum number of app packages that a particular customer can cover with their KPE Standard license. One license will be for one app package.']\n",
      "{'source': 'all_processed_data.json', 'seq_num': 1638, 'title': \"What does the term 'Maximum number of licenses' mean for KPE Standard licenses?\", 'url': 'https://docs.samsungknox.com/admin/knox-platform-for-enterprise/kbas/kba-528-max-number-licenses-kpe-meaning', 'project': 'KPE', 'last_updated': '2023-07-26', 'family_tree': 'child', 'parent_id': '341cc6ac-b9ae-4b55-8145-79497c7c30bf', 'id': '579afec1-e78e-4cbe-9aca-fcf1d5dedf74'}\n",
      "\n",
      "Score: 0.7409357430963961\n",
      "['. Change this property to include lengths not enabled by default, or to optimize decoding performance for a certain number of symbols. Character-to-symbol mapping depends on barcode type. For example, some barcodes include additional checksum characters in their symbol counts. For more information on active symbol count, refer to Configure the Active Symbol Count. Depends on barcode type. Max. length Determines the maximum supported barcode length (active symbol count) to decode. Depends on barcode type. Inverted color recognition Enables recognition of inverted barcodes that have been printed using bright ink on a dark background. ON/OFF OFF Reduced quiet zone-size Enables scanning codes with smaller than normal quiet zones (white space before and after the code) than allowed by the barcode type specification. Use this if you experience issues when scanning codes that violate quiet zone specifications. Please note that turning on this feature may lead to false positive scans in some cases']\n",
      "{'source': 'all_processed_data.json', 'seq_num': 580, 'title': 'Scan engine settings: Scandit', 'url': 'https://docs.samsungknox.com/admin/knox-capture/knox-capture-scandit/scan-engine-settings-scandit', 'project': 'KCAP', 'last_updated': '2023-07-26', 'family_tree': 'child', 'parent_id': '55f251e9-a117-4010-bb25-557849519f12', 'id': 'c1af6baa-7834-4f5d-9b6b-9a2f6c858343'}\n",
      "\n",
      "Score: 0.7357604960159928\n",
      "['. Password Restrictions 6. Minimum Password Length [6] Device Password Requirements Minimum password quality COPE: Use MDM native capability COBO: 1. Device-wide policies (Device Owner) 2. Enable device-wide policies [enable] 3. Password policy 4. Enable password policy controls with KSP [enable] 5. Password Quality [numeric]\" Device Password Requirements Maximum sequential numbers 1. Device-wide policies (Device Owner) 2. Enable device-wide policies [enable] 3. Password policy 4. Enable password policy controls with KSP [enable] 5. Password Restrictions 6. Maximum Character Sequence Length [2] Device Password Requirements Max time to screen lock COPE: Use MDM native capability COBO: 1. Device-wide policies (Device Owner) 2. Enable device-wide policies [enable] 3. Password policy 4. Enable password policy controls with KSP [enable] 5. Allowed Time for User Activity before Device Locks [900000] Device Password Requirements Max password failures for local wipe COPE: Use MDM native capability COBO: 1']\n",
      "{'source': 'all_processed_data.json', 'seq_num': 1252, 'title': 'STIG 11 Knox Service Plugin reference', 'url': 'https://docs.samsungknox.com/admin/knox-platform-for-enterprise/knox-service-plugin/references/stig-11/stig-11-ksp-reference', 'project': 'KSP', 'last_updated': '2023-07-26', 'family_tree': 'child', 'parent_id': '4661bed0-a795-432a-9301-dd0d3c8c5da6', 'id': '34fda345-fc67-430f-87c5-f36374c931cb'}\n",
      "\n",
      "Score: 0.7137338125095225\n",
      "['. Enter your device information in the sample file with the default headings. Save and try uploading the CSV file again. 4000014 The CSV file is empty. Ensure the CSV file uploading is not empty. 4000414 The EULA is invalid. A system error occurred. Refresh the page and load the EULA again. If the problem persists, contact Samsung. 4002009 EULA is already agreed to. The end user has already accepted the End User License Agreement (EULA). Do not prompt users to accept the EULA again. Failed to upload file. A system error occurred. Try to upload the file again. If the problem persists, contact Samsung. An app with this name already exists. Ensure the name of the app you are uploading does not already exist in Knox Configure. Re-name the app if necessary. Invalid APK version name. Invalid APK version name. Please change the version name and try uploading again. 4090001 File too large. Max 4000 devices allowed per upload. Try splitting the device upload list to reduce the size of .csv you are uploading']\n",
      "{'source': 'all_processed_data.json', 'seq_num': 433, 'title': 'Portal-side errors', 'url': 'https://docs.samsungknox.com/admin/knox-configure/knox-configure-wearables/troubleshoot/portal-side-errors', 'project': 'KC', 'last_updated': '2023-07-26', 'family_tree': 'child', 'parent_id': 'a6a25b3c-c4d2-4f38-9f96-ff3ee72f64e3', 'id': '84f347cc-3c8b-4447-b67c-086649f9916a'}\n",
      "\n",
      "Score: 0.6771583859452852\n",
      "['. PasswordPolicy setMaximumNumericSequenceLength AE Device Password Requirements Max time to screen lock 0 minutes 15 minutes KNOX-11-000500 setMaximumTimeToLock AE Device Password Requirements Max password failures fo local wipe 0+ 10 KNOX-11-000700 setMaximumFailedPasswordsForWipe AE * Device Restrictions Installs from unknown sources globally Allow/ Disallow Disallow KNOX-11-001300 addUserRestriction DISALLOW_INSTALL_UNKNOWN_SOURCES_GLOBALLY AE Device Restrictions Trust agents Disable/Enable Disable KNOX-11-003900 setKeyguardDisabledFeatures KEYGUARD_DISABLE_TRUST_AGENTS AE * Device Restrictions Face Disable/Enable Disable KNOX-11-004100 setKeyguardDisabledFeatures KEYGUARD_DISABLE_FACE AE * Device Restrictions Debugging features Allow/ Disallow Disallow KNOX-11-005100 addUserRestriction DISALLOW_DEBUGGING_FEATURES AE * Device Restrictions USB file transfer Allow/ Disallow Disallow KNOX-11-006500, KNOX-11-006900 addUserRestriction DISALLOW_USB_FILE_TRANSFER KPE Device Wi-Fi Unsecured hotspot Allow/']\n",
      "{'source': 'all_processed_data.json', 'seq_num': 1251, 'title': 'STIG 11 COPE compliance', 'url': 'https://docs.samsungknox.com/admin/knox-platform-for-enterprise/knox-service-plugin/references/stig-11/stig-11-cope-compliance', 'project': 'KSP', 'last_updated': '2023-07-26', 'family_tree': 'child', 'parent_id': '2b677627-d597-43c3-aaea-2abe400ddf68', 'id': 'e8e1e890-045c-4b1f-b38b-083d2f1839f4'}\n",
      "None\n",
      "##############################\n",
      "similar_docs_without_reranker\n",
      "##############################\n",
      "\n",
      "Score: 0.015749379652605457\n",
      "['. Max TTL - The maximum amount of time, or time to live (TTL), in seconds, that a packet can exist in a network before being discarded by the router. The default value is 64, but a number from 49 to 255 can be entered. Packet size - The size of the packet to request, in bytes. The default value is 64, but a number from 4 to 1472 can be entered. If the device user sets Packet size as 10, Interval (ms) as 1000 ms, and Timeout (ms) as 500 ms, 10 pings are sent and the interval between each ping is set to 1000 ms. A successful test requires all 10 pings to be received within 500 ms each. The ping test continues even if the device user leaves the screen, but they can stop it at any time by tapping the stop button. Otherwise, the test automatically stops once the set conditions are met. A notification is also displayed in the notification bar for the duration of the test, which the user can tap to return to the test screen']\n",
      "{'source': 'all_processed_data.json', 'seq_num': 292, 'title': 'Use the agent app', 'url': 'https://docs.samsungknox.com/admin/knox-asset-intelligence/how-to-guides/use-the-agent-app', 'project': 'KAI', 'last_updated': '2023-09-06', 'family_tree': 'child', 'parent_id': '4cbef679-2118-42cc-b643-c9f1eb832670', 'id': 'bf02fe64-62d5-4455-8607-8745f9f7a18b'}\n",
      "\n",
      "Score: 0.008360655737704918\n",
      "['. To delete a video file, click next to the name of the uploaded video file. Note The device control command must be transferred to the device to apply a video to it. &gt; Session timeout Allows the use of the session timeout feature for the Kiosk Browser. If the user does not use the device for a set time, the device deletes user information, such as the cache and cookies, in the device Kiosk Browser and goes to the main page URL: Apply &mdash; Enables the session timeout feature for the browser. &gt;&gt; Time (sec) Set the session timeout in seconds for the Kiosk Browser']\n",
      "{'source': 'all_processed_data.json', 'seq_num': 893, 'title': 'Android Enterprise policies', 'url': 'https://docs.samsungknox.com/admin/knox-manage/configure/profile/configure-profile-policies/android-enterprise-policies', 'project': 'KM', 'last_updated': '2023-09-06', 'family_tree': 'child', 'parent_id': '91fe851c-947c-4abf-b7cc-b27ffbb4ff02', 'id': 'e1925763-2507-444d-a7e9-0e8aa406da24'}\n",
      "\n",
      "Score: 0.008225806451612904\n",
      "['. 7. The device now launches DeX automatically when it is plugged in to an HDMI cable. 8. Once the device is connected to DeX, a Display resolution screen displays. Select a single resolution value for the connected display. Unselected display options will be greyed out and unavailable. Keep in mind, changing the resolution makes displayed windows, text and other items appear small or larger. Options include, WQHD (2560 x 1440), FHD (1920 x 1080) _recommended setting_, HD+ (1600 x 900), WQXGA (2560 x 1600), WUXGA (1920 x 1200), or UWQHD (3440 x 1440). Select Done to commit the selected display setting. If the display resolution provided is not supported, then FHD (1920 x 1080) is selected by default and non-supported resolutions are greyed out in the DeX Display resolution screen. Industry example This example configures a tablet in DeX mode, so a bank employee can use it to help customers with day to day operations. For example opening a new account or checking account balances']\n",
      "{'source': 'all_processed_data.json', 'seq_num': 1225, 'title': 'DeX', 'url': 'https://docs.samsungknox.com/admin/knox-platform-for-enterprise/knox-service-plugin/configure-advanced-policies/dex', 'project': 'KSP', 'last_updated': '2023-07-26', 'family_tree': 'child', 'parent_id': 'beee7adf-3279-41f3-9f60-64baf4598e3e', 'id': 'dd26f691-d3f6-45ef-bee3-976b990f75d2'}\n",
      "\n",
      "Score: 0.008095238095238095\n",
      "[\". #Other Kiosk enhancements The Knox Manage agent must be updated to the latest version for these new features to take effect. Bookmark in Multiple App Kiosk mode now supports file uploads and downloads. You can now set Kiosk Browser and Secure Browser to be automatically updated through profile policies. When adding or modifying a profile, you can find these settings in the following locations: Secure Browser: Android Enterprise > Secure Browser > App Auto Update. Kiosk Browser: Android Enterprise or Android Legacy > Kiosk > Kiosk app settings (select Kiosk Browser ) > App Auto Update. The loading status is now shown on the progress bar: Content #Increased maximum file size limit Previously, the maximum content size was 300 MB. In 20.08, this limit was increased to 1.0 GB. Knox E-FOTA license usage with Knox Suite In addition to the Knox E-FOTA admin portal, you can now view the Knox E-FOTA license usage in the following locations as well: License widget in the Knox Manage admin portal's Dashboard\"]\n",
      "{'source': 'all_processed_data.json', 'seq_num': 1044, 'title': 'Knox Manage 20.08 release notes', 'url': 'https://docs.samsungknox.com/admin/knox-manage/release-notes/20-08', 'project': 'KM', 'last_updated': '2023-07-26', 'family_tree': 'child', 'parent_id': '6f170535-c299-4cc6-bda3-d6a2a3ce3041', 'id': '8b02057a-fbfa-49b2-bdcf-177d2f75554d'}\n",
      "\n",
      "Score: 0.008032786885245903\n",
      "[\". Invalid APK version name. Invalid APK version name. Please change the version name and try uploading again. 4090001 File too large. Max 4000 devices allowed per upload. Try splitting the device upload list to reduce the size of .csv you are uploading. Note that there is a max of 4000 devices allowed per upload. 4150000 File type is not supported. The file you are trying to upload is not supported. Knox Configure only accepts .csv files. App name cannot contain special characters. Rename the app so it does not contain any special or forbidden characters. App version is invalid. An app you are trying to upload is invalid. Verify that the version you're attempting to upload is correct. Try to re-upload the app again. CSV file is required. A system error occurred. Verify that you've attached a .csv file, try to re-attach the .csv and upload it again. If the problem persists, contact Samsung. 4040105 No CAPTCHA code entered. No CAPTCHA code was entered. Carefully enter the CAPTCHA code and submit\"]\n",
      "{'source': 'all_processed_data.json', 'seq_num': 433, 'title': 'Portal-side errors', 'url': 'https://docs.samsungknox.com/admin/knox-configure/knox-configure-wearables/troubleshoot/portal-side-errors', 'project': 'KC', 'last_updated': '2023-07-26', 'family_tree': 'child', 'parent_id': 'a6a25b3c-c4d2-4f38-9f96-ff3ee72f64e3', 'id': 'e68915cc-9e55-49ff-93a9-8a9ed747b294'}\n",
      "\n",
      "Score: 0.00796875\n",
      "['.The input value ranges from 1 to 52428800 (50MB). Maximum Size of Email Body (Kbyte) Select a maximum value for the email body size. This is only set once during the initial Exchange ActiveSync setup. &gt; Default Size of Email Body (Kbyte) Select the default value of the email body size. Note Select the setting after the Maximum Size of Email Body (Kbyte) setting. Email Account Configures the settings of a POP or IMAP email account. Click !add to add a configuration. You can add or edit up to 20 configurations when you save the profile. Policy Description Configuration ID Assign a unique ID for each email account setting. Description Enter a description for each email account setting. Remove available Allows users to delete the email account settings in Knox Workspace. Default Account Specifies to usage of the default account. User Information input method Select an input method for entering user information. &gt; Manual Input Select this to enter the email address manually']\n",
      "{'source': 'all_processed_data.json', 'seq_num': 899, 'title': 'Knox Workspace (Android Legacy) policies', 'url': 'https://docs.samsungknox.com/admin/knox-manage/configure/profile/configure-profile-policies/knox-workspace-android-legacy-policies', 'project': 'KM', 'last_updated': '2023-07-26', 'family_tree': 'child', 'parent_id': 'da17fa3c-2c2b-4731-9cdb-ee7a431808fc', 'id': 'c5c20a1d-a473-4a59-a1eb-39dd8b5b1620'}\n",
      "\n",
      "Score: 0.0077777777777777776\n",
      "['What does the term \\'Maximum number of licenses\\' mean for KPE Standard licenses?. Some customers have asked what the term \"Max # Licenses\" means for the KPE Standard type license. This term can be found in documentation such as the Knox Licenses page in the developer guide. Resolution The term \"Max # Licenses\" means the maximum number of app packages that a particular customer can cover with their KPE Standard license. One license will be for one app package.']\n",
      "{'source': 'all_processed_data.json', 'seq_num': 1638, 'title': \"What does the term 'Maximum number of licenses' mean for KPE Standard licenses?\", 'url': 'https://docs.samsungknox.com/admin/knox-platform-for-enterprise/kbas/kba-528-max-number-licenses-kpe-meaning', 'project': 'KPE', 'last_updated': '2023-07-26', 'family_tree': 'child', 'parent_id': '341cc6ac-b9ae-4b55-8145-79497c7c30bf', 'id': '579afec1-e78e-4cbe-9aca-fcf1d5dedf74'}\n",
      "None\n",
      "##############################\n",
      "similar_docs\n",
      "##############################\n",
      "\n",
      "Score: 0.00019622566469479352\n",
      "['. When adding or modifying a Windows profile, you can find this setting in Windows > Interface > Removable Storage. The USB policy ( Interface > USB ) only applies to Windows mobile devices. ##VPN update for Windows devices , You can now allow (or disallow) end users to change their VPN settings. When adding or modifying a Windows profile, you can find this setting in Windows > System > VPN. When setting up the VPN configuration on devices, you can distribute end users across the following VPN clients: Pulse Secure , Check Point Capsule VPN , F5 Access , Palo Alto Networks GlobalProtect , SonicWall Mobile Connect When adding or modifying a Windows profile, you can find this setting in Windows > VPN. #Device name configuration for iOS DEP You can now configure iOS DEP device names to include the user ID, according to the DEP style. This feature is available in Setting > iOS > DEP Server Setting > DEP Device Name. #Certificate installation area in Android Enterprise Previously, a certificate could only be installed in both the Fully Managed and the Work Profile areas. Now, you can install certificates according to your needs - in either Fully Managed or Work Profile or both. When adding or modifying an Android Enterprise profile, you can find this setting in Android Enterprise > Certificate > Install Area. Kiosk #Single App Kiosk mode The following enhancements were made: The Single App Kiosk mode\\'s delivery method was enhanced to use an Android launcher similar to the one used for the Multiple App Kiosk mode. This enhancement allows you to create Single App Kiosks stably and easily. You can now set device settings for Single App Kiosks in the Kiosk Wizard. Single App Kiosks created before 20.08 will continue to work without updates as long as no changes are made on them. This new Single App Kiosk works only with the Knox Manage 20.08 agent. Hence, the Knox Manage agent must be updated to the latest version. Only one app can be assigned in a Single App Kiosk. #Exit Kiosk without unenrollment All Kiosk modes (Single App, Multiple App, and Kiosk Browser) can be temporarily turned off without unenrollment, regardless of whether they\\'re in offline or online state. This feature is only applicable to Kiosks created in 20.08 or later. ##To exit Kiosk mode Provide an Exit Kiosk Code to the end user. You can get the code from Device Detail > Security > Kiosk Mode Status > Exit Kiosk Code. The code is randomly regenerated after it\\'s applied to the device to prevent it from being used again without authorization from an IT admin. The user managing the Kiosk device must do the following: 1. Tap the icon. In the case of a Single App Kiosk, you\\'ll need to tap the Home or Back button to make this icon appear. The icon disappears after 5 seconds of inactivity. 2. In the \"About Kiosk\" screen, tap Exit Kiosk. 3. Enter the Exit Kiosk Code from the IT admin. ##To re-enter Kiosk mode An IT admin must apply a profile update to the device. #Other Kiosk enhancements The Knox Manage agent must be updated to the latest version for these new features to take effect. Bookmark in Multiple App Kiosk mode now supports file uploads and downloads. You can now set Kiosk Browser and Secure Browser to be automatically updated through profile policies. When adding or modifying a profile, you can find these settings in the following locations: Secure Browser: Android Enterprise > Secure Browser > App Auto Update. Kiosk Browser: Android Enterprise or Android Legacy > Kiosk > Kiosk app settings (select Kiosk Browser ) > App Auto Update. The loading status is now shown on the progress bar: Content #Increased maximum file size limit Previously, the maximum content size was 300 MB. In 20.08, this limit was increased to 1.0 GB. Knox E-FOTA license usage with Knox Suite In addition to the Knox E-FOTA admin portal, you can now view the Knox E-FOTA license usage in the following locations as well: License widget in the Knox Manage admin portal\\'s Dashboard. SamsungKnox.com Dashboard']\n",
      "{'source': 'all_processed_data.json', 'seq_num': 1044, 'title': 'Knox Manage 20.08 release notes', 'url': 'https://docs.samsungknox.com/admin/knox-manage/release-notes/20-08', 'project': 'KM', 'last_updated': '2023-07-26', 'family_tree': 'parent', 'parent_id': None}\n",
      "\n",
      "Score: 0.0001050693608704023\n",
      "[\". Max TTL - The maximum amount of time, or time to live (TTL), in seconds, that a packet can exist in a network before being discarded by the router. The default value is 64, but a number from 49 to 255 can be entered. Packet size - The size of the packet to request, in bytes. The default value is 64, but a number from 4 to 1472 can be entered. If the device user sets Packet size as 10, Interval (ms) as 1000 ms, and Timeout (ms) as 500 ms, 10 pings are sent and the interval between each ping is set to 1000 ms. A successful test requires all 10 pings to be received within 500 ms each. The ping test continues even if the device user leaves the screen, but they can stop it at any time by tapping the stop button. Otherwise, the test automatically stops once the set conditions are met. A notification is also displayed in the notification bar for the duration of the test, which the user can tap to return to the test screen. #Battery When the device user selects Battery from the Diagnostics menu, the Status and History tabs are shown at the bottom of the screen. ##Status The Status tab provides information on the following battery-related data points: Battery status - Indicates whether the device is connected to a charger or not. Battery level, State of health - The overall health of the device's battery, defined as Good, Normal, or Bad. Battery voltage, Charger type, Charger plug, Battery's rated capacity, Battery health - The percentage of the battery's original charge it can currently hold. Time until battery fully drained/Time until battery fully charged - When the device is not charging, the first option is shown. Otherwise, the second option is shown. Current battery charge, Current battery capacity, Average current, Current right now - When the device is charging, displays the charging current in milliamperes (mA). Device users can also generate and send debug logs to you by tapping Error report in the top-right corner of the screen. ##History The History tab shows historical information about how the device's battery was used, spanning the last 14 days. An entry is logged every time the battery charge increases, and includes the following data points: Date, Timestamp, Battery percentage, In and out amperage, Battery voltage, Charger plug, Charge type, Time until fully charged The device user can tap and hold an entry, then tap Remove data to hide that entry. Note that any entries deleted this way can't be restored. To see more battery usage information from the last 7 days, the user can also tap Settings (gear icon) in the top right corner to view the following additional options: Battery usage trend takes the user directly to Device care in the device settings. Share with your admin allows users to upload a log file - containing the battery's charging history - to the Knox Asset Intelligence console for further analysis. The log file contains the following information: Date - The date that the log was created , Timestamp - The time the log event occurred. Battery charge (%) - The battery charge percentage at the time of log creation. In and out Amperage (mA) - The battery current/amperage (in milliamps) measured at each log event. Negative values indicate battery discharging, while positive values indicate battery charging. Battery Voltage (mV) - the battery voltage level at time of log event , Charger Plug - the type of plug used to charge the battery at time of event. Available options: AC - battery was plugged in to a wall charger. Wireless - battery was plugged in to a wireless charger (charging station). USB - battery was plugged in to a computer's USB port. Pogo - device was plugged in to a charging dock with a Pogo connection (Android 13 and higher) , N/A - Device was not plugged in. Charge Type - the type of charge occurring on the battery at time of log event: USB - device was charging through USB power. Normal - device was charging at a normal charge rate through AC power. FAST (AFC) - device was charging at a fast rate using Samsung's Adaptive Fast Charge technology\"]\n",
      "{'source': 'all_processed_data.json', 'seq_num': 292, 'title': 'Use the agent app', 'url': 'https://docs.samsungknox.com/admin/knox-asset-intelligence/how-to-guides/use-the-agent-app', 'project': 'KAI', 'last_updated': '2023-09-06', 'family_tree': 'parent', 'parent_id': None}\n",
      "\n",
      "Score: 6.534139538416639e-05\n",
      "[\"Portal-side errors. The following errors could occur when using Knox Configure admin console. This section of the guide helps you identify the cause of error and recommends troubleshooting tips to assist you in resolving the error. General portal related errors Portal related errors can occur when registering devices, profiles and apps using the Knox Configure admin console. Possible system errors could occur as a result of the following: Invalid file formats, exceeding the maximum file size, invalid/missing entries, or invalid URLs. Code Cause of Error Troubleshoot 4000013 The CSV file header is invalid. Ensure the CSV file header uploading doesn't have any forbidden characters. Try the following: In Knox Configure, go to Actions &gt; Upload devices. Under the Device list file field, click Download sample CSV file. Enter your device information in the sample file with the default headings. Save and try uploading the CSV file again. 4000014 The CSV file is empty. Ensure the CSV file uploading is not empty. 4000414 The EULA is invalid. A system error occurred. Refresh the page and load the EULA again. If the problem persists, contact Samsung. 4002009 EULA is already agreed to. The end user has already accepted the End User License Agreement (EULA). Do not prompt users to accept the EULA again. Failed to upload file. A system error occurred. Try to upload the file again. If the problem persists, contact Samsung. An app with this name already exists. Ensure the name of the app you are uploading does not already exist in Knox Configure. Re-name the app if necessary. Invalid APK version name. Invalid APK version name. Please change the version name and try uploading again. 4090001 File too large. Max 4000 devices allowed per upload. Try splitting the device upload list to reduce the size of .csv you are uploading. Note that there is a max of 4000 devices allowed per upload. 4150000 File type is not supported. The file you are trying to upload is not supported. Knox Configure only accepts .csv files. App name cannot contain special characters. Rename the app so it does not contain any special or forbidden characters. App version is invalid. An app you are trying to upload is invalid. Verify that the version you're attempting to upload is correct. Try to re-upload the app again. CSV file is required. A system error occurred. Verify that you've attached a .csv file, try to re-attach the .csv and upload it again. If the problem persists, contact Samsung. 4040105 No CAPTCHA code entered. No CAPTCHA code was entered. Carefully enter the CAPTCHA code and submit. 4004001 The email agreeing to the Customer Terms is invalid. Verify the email entered is correct, refresh the page and try again. 4000113 The CAPTCHA code is incorrect. The CAPTCHA code is incorrect. Carefully re-enter the CAPTCHA code again and submit. 4042006 The tag already exists. A system error occurred. The profile tag entered is a duplicate, enter a different tag. If the problem persists, contact Samsung. 40001 The URL is not valid. Verify the URL entered is correct, refresh the page and try again. If the problem persists, contact Samsung. 4043 The activation status of the client is invalid. A system error occurred. If the problem persists, contact Samsung. Device related errors Device related portal errors can occur when registering devices using the Knox Configure admin console. Possible system errors could occur as a result of invalid or duplicate devices in the CSV file, invalid IMEIs/SNs, duplicate device uploads and unverified device uploads. Code Cause of Error Troubleshoot 0 Failed to register device. A system error occurred. Try to register the devices again. If the problem persists, contact Samsung. 4042000 The device(s) could not be found. A system error occurred. Try to re-upload the devices again. If the problem persists, contact Samsung. 4041401 The device was not found. A system error occurred. Try to register the devices again. If the problem persists, contact Samsung 4002004 Invalid or duplicate devices detected\"]\n",
      "{'source': 'all_processed_data.json', 'seq_num': 433, 'title': 'Portal-side errors', 'url': 'https://docs.samsungknox.com/admin/knox-configure/knox-configure-wearables/troubleshoot/portal-side-errors', 'project': 'KC', 'last_updated': '2023-07-26', 'family_tree': 'parent', 'parent_id': None}\n",
      "\n",
      "Score: 5.8629942941479385e-05\n",
      "['DeX. The available DeX policies include: Basic policy controls - These standard controls allow you to perform simple actions, such as enable or disable DeX. These policies are listed under DO > DeX policy > Manage DeX restrictions. Customization controls - These additional customization options allow you to change the DeX setup and user experience. Use of these policies requires a free Knox Platform for Enterprise Premium license. Enable DeX The process to enable DeX is simple and only requires you to turn on a few policies as follows: 1. In your supported UEM, under the Device-wide policies (Device Owner) category turn on Enable device policy controls. 2. Enable DeX policy. 3. Under Manage DeX Restrictions, enable Allow DeX connection. 4. In your UEM, save the profile and push it to a device. To disable DeX, simply turn off Allow DeX connection, as shown in the previous example. Enable DeX with basic customization This example shows you how to enable DeX so it auto-launches and sets a specific screen timeout. Note that all DeX customization policies require a free Knox Platform for Enterprise Premium license. 1. In your supported UEM, under the Device-wide policies (Device Owner) category turn on Enable device policy controls. 2. Enable DeX policy. 3. Under Manage DeX Restrictions, enable Allow DeX connection. 4. Under DeX customization profile, enable Auto-start DeX on HDMI connection. 5. Under DeX customization profile, find Set screen timeout and input your desired value. 6. Under DeX customization profile, disable Allow screen timeout change. 7. The device now launches DeX automatically when it is plugged in to an HDMI cable. 8. Once the device is connected to DeX, a Display resolution screen displays. Select a single resolution value for the connected display. Unselected display options will be greyed out and unavailable. Keep in mind, changing the resolution makes displayed windows, text and other items appear small or larger. Options include, WQHD (2560 x 1440), FHD (1920 x 1080) _recommended setting_, HD+ (1600 x 900), WQXGA (2560 x 1600), WUXGA (1920 x 1200), or UWQHD (3440 x 1440). Select Done to commit the selected display setting. If the display resolution provided is not supported, then FHD (1920 x 1080) is selected by default and non-supported resolutions are greyed out in the DeX Display resolution screen. Industry example This example configures a tablet in DeX mode, so a bank employee can use it to help customers with day to day operations. For example opening a new account or checking account balances. In this use case, DeX is used as a dedicated employee work station and the bank can slowly phase out older, single-purpose computer terminals. These instructions do not apply to any specific UEM. Refer to your UEM documentation for specific instructions on menu structure and navigation. 1. In your supported UEM, under the Device-wide policies (Device Owner) category turn on Enable device policy controls. 2. Under DeX Policy, turn on Enable DeX policy controls. 3. Under Manage DeX Restrictions, enable Allow DeX connection. 4. Under Manage DeX Restrictions, enable Customize DeX Experience. 5. Set the DeX profile name to an appropriate value. For example, the following image shows a profile called Bank Terminal. 6. Under DeX customization profile, type the name of the DeX Profile you set in the previous step. In this example, it is Bank Terminal 7. Under DeX customization profile, enable DeX Auto Start on HDMI connection This setting minimizes potential troubleshooting for employees and can reduce IT overhead. If a device is unplugged, setting up the bank terminal again is as simple as plugging the device back in to an HDMI cable. 8. Under DeX customization profile, enable Disable buttons on the DeX panel. Select the buttons you want to disable. For example, selecting Exit DeX button prevents users from exiting the bank terminal and using the device for other purposes. 9. Under DeX customization profile, turn on Skip overscan detection screen']\n",
      "{'source': 'all_processed_data.json', 'seq_num': 1225, 'title': 'DeX', 'url': 'https://docs.samsungknox.com/admin/knox-platform-for-enterprise/knox-service-plugin/configure-advanced-policies/dex', 'project': 'KSP', 'last_updated': '2023-07-26', 'family_tree': 'parent', 'parent_id': None}\n",
      "\n",
      "Score: 5.7733297580853105e-05\n",
      "[\". When you search for a user using the filter set for the connector, the user certificate (.p12 or .pfx) corresponding to the obtained user information is applied along with a profile, allowing you to use this certificate to verify the user. User certificate Connector &mdash; Select a connector to use from the User certificate Connector list. &gt; Issuing External CA Register a certificate obtained from an external certificate authority to Advanced&gt; Certificate &gt; Certificate Template. Then, you register a certificate template for each network setting, and verify it as a user certificate. To learn more about how to add an external certificate, see Adding external certificates. Issuing external CA &mdash; Select an external CA to use from the Issuing external CA list. Sync calendar Syncs schedules on a calendar from a server to a device. Sync contacts Syncs contact information in a phone book from a server to a device. Sync task Syncs tasks items from a server to a device. Sync notes Syncs notes from a server to a device. SSL Set to use SSL for email encryption. Note If Office365 setting is used, the SSL option is automatically set to Use. Signature Enter the email signature to use. Notification Notifies the user of new emails. Always vibrate on notification Notifies the user of new emails with a vibration. Silent notification Mutes email notifications. Note Always vibrate on notification and Silent notification cannot be used at the same time. Attachments capacity (byte) Enter the email attachment file size limit in bytes.The input value ranges from 1 to 52428800 (50MB). Maximum Size of Email Body (Kbyte) Select a maximum value for the email body size. This is only set once during the initial Exchange ActiveSync setup. &gt; Default Size of Email Body (Kbyte) Select the default value of the email body size. Note Select the setting after the Maximum Size of Email Body (Kbyte) setting. Email Account Configures the settings of a POP or IMAP email account. Click !add to add a configuration. You can add or edit up to 20 configurations when you save the profile. Policy Description Configuration ID Assign a unique ID for each email account setting. Description Enter a description for each email account setting. Remove available Allows users to delete the email account settings in Knox Workspace. Default Account Specifies to usage of the default account. User Information input method Select an input method for entering user information. &gt; Manual Input Select this to enter the email address manually. You can also enter the incoming server ID, incoming server password, outgoing server ID, and outgoing server password for the email connection.You can also click Lookup to open the reference items list and select an item from it. The reference value will be entered automatically. &gt; Connector interworking Select a connector from the user information connector. Note The connectors are listed in Advanced &gt; System Integration &gt; Directory Connector. &gt; User Information Select to access the relevant mail server using the registered Knox Manage email, ID, and password. The password must be entered from the user's device. Incoming Server Protocol Select between the POP3 (pop3) and IMAP (imap) protocol. Outgoing Server Protocol Entered automatically as SMTP. Incoming Server Address/port Enter the Incoming Server address/port in a provided format. Outgoing Server Address/port Enter the outgoing server address in a provided format. Incoming Server ID Enter an incoming server ID to sign in to the incoming mail server manually. This protocol is only available when Manual Input is selected.You can also click Lookup to open the reference items list and select an item from it. The reference value will be entered automatically. Outgoing Server ID Enter an outgoing server ID to sign in to the outgoing mail server manually. This protocol is only available when Manual Input is selected.You can also click Lookup to open the reference items list and select an item from it. The reference value will be entered automatically\"]\n",
      "{'source': 'all_processed_data.json', 'seq_num': 899, 'title': 'Knox Workspace (Android Legacy) policies', 'url': 'https://docs.samsungknox.com/admin/knox-manage/configure/profile/configure-profile-policies/knox-workspace-android-legacy-policies', 'project': 'KM', 'last_updated': '2023-07-26', 'family_tree': 'parent', 'parent_id': None}\n",
      "None\n",
      "\n",
      "==========  Results  ==========\n",
      "\n",
      "1. question: vidio max size?\n",
      "2. # documents: 5\n",
      "3. Documents: \n",
      "\n",
      "\n",
      "-----------------------------------------------\n",
      "1. Chunk: 4007 Characters\n",
      "-----------------------------------------------\n",
      ". When adding or modifying a Windows profile, you can find this setting in Windows > Interface >\n",
      "Removable Storage. The USB policy ( Interface > USB ) only applies to Windows mobile devices. ##VPN\n",
      "update for Windows devices , You can now allow (or disallow) end users to change their VPN settings.\n",
      "When adding or modifying a Windows profile, you can find this setting in Windows > System > VPN.\n",
      "When setting up the VPN configuration on devices, you can distribute end users across the following\n",
      "VPN clients: Pulse Secure , Check Point Capsule VPN , F5 Access , Palo Alto Networks GlobalProtect ,\n",
      "SonicWall Mobile Connect When adding or modifying a Windows profile, you can find this setting in\n",
      "Windows > VPN. #Device name configuration for iOS DEP You can now configure iOS DEP device names to\n",
      "include the user ID, according to the DEP style. This feature is available in Setting > iOS > DEP\n",
      "Server Setting > DEP Device Name. #Certificate installation area in Android Enterprise Previously, a\n",
      "certificate could only be installed in both the Fully Managed and the Work Profile areas. Now, you\n",
      "can install certificates according to your needs - in either Fully Managed or Work Profile or both.\n",
      "When adding or modifying an Android Enterprise profile, you can find this setting in Android\n",
      "Enterprise > Certificate > Install Area. Kiosk #Single App Kiosk mode The following enhancements\n",
      "were made: The Single App Kiosk mode's delivery method was enhanced to use an Android launcher\n",
      "similar to the one used for the Multiple App Kiosk mode. This enhancement allows you to create\n",
      "Single App Kiosks stably and easily. You can now set device settings for Single App Kiosks in the\n",
      "Kiosk Wizard. Single App Kiosks created before 20.08 will continue to work without updates as long\n",
      "as no changes are made on them. This new Single App Kiosk works only with the Knox Manage 20.08\n",
      "agent. Hence, the Knox Manage agent must be updated to the latest version. Only one app can be\n",
      "assigned in a Single App Kiosk. #Exit Kiosk without unenrollment All Kiosk modes (Single App,\n",
      "Multiple App, and Kiosk Browser) can be temporarily turned off without unenrollment, regardless of\n",
      "whether they're in offline or online state. This feature is only applicable to Kiosks created in\n",
      "20.08 or later. ##To exit Kiosk mode Provide an Exit Kiosk Code to the end user. You can get the\n",
      "code from Device Detail > Security > Kiosk Mode Status > Exit Kiosk Code. The code is randomly\n",
      "regenerated after it's applied to the device to prevent it from being used again without\n",
      "authorization from an IT admin. The user managing the Kiosk device must do the following: 1. Tap the\n",
      "icon. In the case of a Single App Kiosk, you'll need to tap the Home or Back button to make this\n",
      "icon appear. The icon disappears after 5 seconds of inactivity. 2. In the \"About Kiosk\" screen, tap\n",
      "Exit Kiosk. 3. Enter the Exit Kiosk Code from the IT admin. ##To re-enter Kiosk mode An IT admin\n",
      "must apply a profile update to the device. #Other Kiosk enhancements The Knox Manage agent must be\n",
      "updated to the latest version for these new features to take effect. Bookmark in Multiple App Kiosk\n",
      "mode now supports file uploads and downloads. You can now set Kiosk Browser and Secure Browser to be\n",
      "automatically updated through profile policies. When adding or modifying a profile, you can find\n",
      "these settings in the following locations: Secure Browser: Android Enterprise > Secure Browser > App\n",
      "Auto Update. Kiosk Browser: Android Enterprise or Android Legacy > Kiosk > Kiosk app settings\n",
      "(select Kiosk Browser ) > App Auto Update. The loading status is now shown on the progress bar:\n",
      "Content #Increased maximum file size limit Previously, the maximum content size was 300 MB. In\n",
      "20.08, this limit was increased to 1.0 GB. Knox E-FOTA license usage with Knox Suite In addition to\n",
      "the Knox E-FOTA admin portal, you can now view the Knox E-FOTA license usage in the following\n",
      "locations as well: License widget in the Knox Manage admin portal's Dashboard. SamsungKnox.com\n",
      "Dashboard\n",
      "metadata:\n",
      " {'source': 'all_processed_data.json', 'seq_num': 1044, 'title': 'Knox Manage 20.08 release notes',\n",
      "'url': 'https://docs.samsungknox.com/admin/knox-manage/release-notes/20-08', 'project': 'KM',\n",
      "'last_updated': '2023-07-26', 'family_tree': 'parent', 'parent_id': None, 'orig_elements': ''}\n",
      "\n",
      "-----------------------------------------------\n",
      "2. Chunk: 4053 Characters\n",
      "-----------------------------------------------\n",
      ". Max TTL - The maximum amount of time, or time to live (TTL), in seconds, that a packet can exist\n",
      "in a network before being discarded by the router. The default value is 64, but a number from 49 to\n",
      "255 can be entered. Packet size - The size of the packet to request, in bytes. The default value is\n",
      "64, but a number from 4 to 1472 can be entered. If the device user sets Packet size as 10, Interval\n",
      "(ms) as 1000 ms, and Timeout (ms) as 500 ms, 10 pings are sent and the interval between each ping is\n",
      "set to 1000 ms. A successful test requires all 10 pings to be received within 500 ms each. The ping\n",
      "test continues even if the device user leaves the screen, but they can stop it at any time by\n",
      "tapping the stop button. Otherwise, the test automatically stops once the set conditions are met. A\n",
      "notification is also displayed in the notification bar for the duration of the test, which the user\n",
      "can tap to return to the test screen. #Battery When the device user selects Battery from the\n",
      "Diagnostics menu, the Status and History tabs are shown at the bottom of the screen. ##Status The\n",
      "Status tab provides information on the following battery-related data points: Battery status -\n",
      "Indicates whether the device is connected to a charger or not. Battery level, State of health - The\n",
      "overall health of the device's battery, defined as Good, Normal, or Bad. Battery voltage, Charger\n",
      "type, Charger plug, Battery's rated capacity, Battery health - The percentage of the battery's\n",
      "original charge it can currently hold. Time until battery fully drained/Time until battery fully\n",
      "charged - When the device is not charging, the first option is shown. Otherwise, the second option\n",
      "is shown. Current battery charge, Current battery capacity, Average current, Current right now -\n",
      "When the device is charging, displays the charging current in milliamperes (mA). Device users can\n",
      "also generate and send debug logs to you by tapping Error report in the top-right corner of the\n",
      "screen. ##History The History tab shows historical information about how the device's battery was\n",
      "used, spanning the last 14 days. An entry is logged every time the battery charge increases, and\n",
      "includes the following data points: Date, Timestamp, Battery percentage, In and out amperage,\n",
      "Battery voltage, Charger plug, Charge type, Time until fully charged The device user can tap and\n",
      "hold an entry, then tap Remove data to hide that entry. Note that any entries deleted this way can't\n",
      "be restored. To see more battery usage information from the last 7 days, the user can also tap\n",
      "Settings (gear icon) in the top right corner to view the following additional options: Battery usage\n",
      "trend takes the user directly to Device care in the device settings. Share with your admin allows\n",
      "users to upload a log file - containing the battery's charging history - to the Knox Asset\n",
      "Intelligence console for further analysis. The log file contains the following information: Date -\n",
      "The date that the log was created , Timestamp - The time the log event occurred. Battery charge (%)\n",
      "- The battery charge percentage at the time of log creation. In and out Amperage (mA) - The battery\n",
      "current/amperage (in milliamps) measured at each log event. Negative values indicate battery\n",
      "discharging, while positive values indicate battery charging. Battery Voltage (mV) - the battery\n",
      "voltage level at time of log event , Charger Plug - the type of plug used to charge the battery at\n",
      "time of event. Available options: AC - battery was plugged in to a wall charger. Wireless - battery\n",
      "was plugged in to a wireless charger (charging station). USB - battery was plugged in to a\n",
      "computer's USB port. Pogo - device was plugged in to a charging dock with a Pogo connection (Android\n",
      "13 and higher) , N/A - Device was not plugged in. Charge Type - the type of charge occurring on the\n",
      "battery at time of log event: USB - device was charging through USB power. Normal - device was\n",
      "charging at a normal charge rate through AC power. FAST (AFC) - device was charging at a fast rate\n",
      "using Samsung's Adaptive Fast Charge technology\n",
      "metadata:\n",
      " {'source': 'all_processed_data.json', 'seq_num': 292, 'title': 'Use the agent app', 'url':\n",
      "'https://docs.samsungknox.com/admin/knox-asset-intelligence/how-to-guides/use-the-agent-app',\n",
      "'project': 'KAI', 'last_updated': '2023-09-06', 'family_tree': 'parent', 'parent_id': None,\n",
      "'orig_elements': ''}\n",
      "\n",
      "-----------------------------------------------\n",
      "3. Chunk: 4056 Characters\n",
      "-----------------------------------------------\n",
      "Portal-side errors. The following errors could occur when using Knox Configure admin console. This\n",
      "section of the guide helps you identify the cause of error and recommends troubleshooting tips to\n",
      "assist you in resolving the error. General portal related errors Portal related errors can occur\n",
      "when registering devices, profiles and apps using the Knox Configure admin console. Possible system\n",
      "errors could occur as a result of the following: Invalid file formats, exceeding the maximum file\n",
      "size, invalid/missing entries, or invalid URLs. Code Cause of Error Troubleshoot 4000013 The CSV\n",
      "file header is invalid. Ensure the CSV file header uploading doesn't have any forbidden characters.\n",
      "Try the following: In Knox Configure, go to Actions &gt; Upload devices. Under the Device list file\n",
      "field, click Download sample CSV file. Enter your device information in the sample file with the\n",
      "default headings. Save and try uploading the CSV file again. 4000014 The CSV file is empty. Ensure\n",
      "the CSV file uploading is not empty. 4000414 The EULA is invalid. A system error occurred. Refresh\n",
      "the page and load the EULA again. If the problem persists, contact Samsung. 4002009 EULA is already\n",
      "agreed to. The end user has already accepted the End User License Agreement (EULA). Do not prompt\n",
      "users to accept the EULA again. Failed to upload file. A system error occurred. Try to upload the\n",
      "file again. If the problem persists, contact Samsung. An app with this name already exists. Ensure\n",
      "the name of the app you are uploading does not already exist in Knox Configure. Re-name the app if\n",
      "necessary. Invalid APK version name. Invalid APK version name. Please change the version name and\n",
      "try uploading again. 4090001 File too large. Max 4000 devices allowed per upload. Try splitting the\n",
      "device upload list to reduce the size of .csv you are uploading. Note that there is a max of 4000\n",
      "devices allowed per upload. 4150000 File type is not supported. The file you are trying to upload is\n",
      "not supported. Knox Configure only accepts .csv files. App name cannot contain special characters.\n",
      "Rename the app so it does not contain any special or forbidden characters. App version is invalid.\n",
      "An app you are trying to upload is invalid. Verify that the version you're attempting to upload is\n",
      "correct. Try to re-upload the app again. CSV file is required. A system error occurred. Verify that\n",
      "you've attached a .csv file, try to re-attach the .csv and upload it again. If the problem persists,\n",
      "contact Samsung. 4040105 No CAPTCHA code entered. No CAPTCHA code was entered. Carefully enter the\n",
      "CAPTCHA code and submit. 4004001 The email agreeing to the Customer Terms is invalid. Verify the\n",
      "email entered is correct, refresh the page and try again. 4000113 The CAPTCHA code is incorrect. The\n",
      "CAPTCHA code is incorrect. Carefully re-enter the CAPTCHA code again and submit. 4042006 The tag\n",
      "already exists. A system error occurred. The profile tag entered is a duplicate, enter a different\n",
      "tag. If the problem persists, contact Samsung. 40001 The URL is not valid. Verify the URL entered is\n",
      "correct, refresh the page and try again. If the problem persists, contact Samsung. 4043 The\n",
      "activation status of the client is invalid. A system error occurred. If the problem persists,\n",
      "contact Samsung. Device related errors Device related portal errors can occur when registering\n",
      "devices using the Knox Configure admin console. Possible system errors could occur as a result of\n",
      "invalid or duplicate devices in the CSV file, invalid IMEIs/SNs, duplicate device uploads and\n",
      "unverified device uploads. Code Cause of Error Troubleshoot 0 Failed to register device. A system\n",
      "error occurred. Try to register the devices again. If the problem persists, contact Samsung. 4042000\n",
      "The device(s) could not be found. A system error occurred. Try to re-upload the devices again. If\n",
      "the problem persists, contact Samsung. 4041401 The device was not found. A system error occurred.\n",
      "Try to register the devices again. If the problem persists, contact Samsung 4002004 Invalid or\n",
      "duplicate devices detected\n",
      "metadata:\n",
      " {'source': 'all_processed_data.json', 'seq_num': 433, 'title': 'Portal-side errors', 'url':\n",
      "'https://docs.samsungknox.com/admin/knox-configure/knox-configure-wearables/troubleshoot/portal-\n",
      "side-errors', 'project': 'KC', 'last_updated': '2023-07-26', 'family_tree': 'parent', 'parent_id':\n",
      "None, 'orig_elements': ''}\n",
      "\n",
      "-----------------------------------------------\n",
      "4. Chunk: 4030 Characters\n",
      "-----------------------------------------------\n",
      "DeX. The available DeX policies include: Basic policy controls - These standard controls allow you\n",
      "to perform simple actions, such as enable or disable DeX. These policies are listed under DO > DeX\n",
      "policy > Manage DeX restrictions. Customization controls - These additional customization options\n",
      "allow you to change the DeX setup and user experience. Use of these policies requires a free Knox\n",
      "Platform for Enterprise Premium license. Enable DeX The process to enable DeX is simple and only\n",
      "requires you to turn on a few policies as follows: 1. In your supported UEM, under the Device-wide\n",
      "policies (Device Owner) category turn on Enable device policy controls. 2. Enable DeX policy. 3.\n",
      "Under Manage DeX Restrictions, enable Allow DeX connection. 4. In your UEM, save the profile and\n",
      "push it to a device. To disable DeX, simply turn off Allow DeX connection, as shown in the previous\n",
      "example. Enable DeX with basic customization This example shows you how to enable DeX so it auto-\n",
      "launches and sets a specific screen timeout. Note that all DeX customization policies require a free\n",
      "Knox Platform for Enterprise Premium license. 1. In your supported UEM, under the Device-wide\n",
      "policies (Device Owner) category turn on Enable device policy controls. 2. Enable DeX policy. 3.\n",
      "Under Manage DeX Restrictions, enable Allow DeX connection. 4. Under DeX customization profile,\n",
      "enable Auto-start DeX on HDMI connection. 5. Under DeX customization profile, find Set screen\n",
      "timeout and input your desired value. 6. Under DeX customization profile, disable Allow screen\n",
      "timeout change. 7. The device now launches DeX automatically when it is plugged in to an HDMI cable.\n",
      "8. Once the device is connected to DeX, a Display resolution screen displays. Select a single\n",
      "resolution value for the connected display. Unselected display options will be greyed out and\n",
      "unavailable. Keep in mind, changing the resolution makes displayed windows, text and other items\n",
      "appear small or larger. Options include, WQHD (2560 x 1440), FHD (1920 x 1080) _recommended\n",
      "setting_, HD+ (1600 x 900), WQXGA (2560 x 1600), WUXGA (1920 x 1200), or UWQHD (3440 x 1440). Select\n",
      "Done to commit the selected display setting. If the display resolution provided is not supported,\n",
      "then FHD (1920 x 1080) is selected by default and non-supported resolutions are greyed out in the\n",
      "DeX Display resolution screen. Industry example This example configures a tablet in DeX mode, so a\n",
      "bank employee can use it to help customers with day to day operations. For example opening a new\n",
      "account or checking account balances. In this use case, DeX is used as a dedicated employee work\n",
      "station and the bank can slowly phase out older, single-purpose computer terminals. These\n",
      "instructions do not apply to any specific UEM. Refer to your UEM documentation for specific\n",
      "instructions on menu structure and navigation. 1. In your supported UEM, under the Device-wide\n",
      "policies (Device Owner) category turn on Enable device policy controls. 2. Under DeX Policy, turn on\n",
      "Enable DeX policy controls. 3. Under Manage DeX Restrictions, enable Allow DeX connection. 4. Under\n",
      "Manage DeX Restrictions, enable Customize DeX Experience. 5. Set the DeX profile name to an\n",
      "appropriate value. For example, the following image shows a profile called Bank Terminal. 6. Under\n",
      "DeX customization profile, type the name of the DeX Profile you set in the previous step. In this\n",
      "example, it is Bank Terminal 7. Under DeX customization profile, enable DeX Auto Start on HDMI\n",
      "connection This setting minimizes potential troubleshooting for employees and can reduce IT\n",
      "overhead. If a device is unplugged, setting up the bank terminal again is as simple as plugging the\n",
      "device back in to an HDMI cable. 8. Under DeX customization profile, enable Disable buttons on the\n",
      "DeX panel. Select the buttons you want to disable. For example, selecting Exit DeX button prevents\n",
      "users from exiting the bank terminal and using the device for other purposes. 9. Under DeX\n",
      "customization profile, turn on Skip overscan detection screen\n",
      "metadata:\n",
      " {'source': 'all_processed_data.json', 'seq_num': 1225, 'title': 'DeX', 'url':\n",
      "'https://docs.samsungknox.com/admin/knox-platform-for-enterprise/knox-service-plugin/configure-\n",
      "advanced-policies/dex', 'project': 'KSP', 'last_updated': '2023-07-26', 'family_tree': 'parent',\n",
      "'parent_id': None, 'orig_elements': ''}\n",
      "\n",
      "-----------------------------------------------\n",
      "5. Chunk: 4080 Characters\n",
      "-----------------------------------------------\n",
      ". When you search for a user using the filter set for the connector, the user certificate (.p12 or\n",
      ".pfx) corresponding to the obtained user information is applied along with a profile, allowing you\n",
      "to use this certificate to verify the user. User certificate Connector &mdash; Select a connector to\n",
      "use from the User certificate Connector list. &gt; Issuing External CA Register a certificate\n",
      "obtained from an external certificate authority to Advanced&gt; Certificate &gt; Certificate\n",
      "Template. Then, you register a certificate template for each network setting, and verify it as a\n",
      "user certificate. To learn more about how to add an external certificate, see Adding external\n",
      "certificates. Issuing external CA &mdash; Select an external CA to use from the Issuing external CA\n",
      "list. Sync calendar Syncs schedules on a calendar from a server to a device. Sync contacts Syncs\n",
      "contact information in a phone book from a server to a device. Sync task Syncs tasks items from a\n",
      "server to a device. Sync notes Syncs notes from a server to a device. SSL Set to use SSL for email\n",
      "encryption. Note If Office365 setting is used, the SSL option is automatically set to Use. Signature\n",
      "Enter the email signature to use. Notification Notifies the user of new emails. Always vibrate on\n",
      "notification Notifies the user of new emails with a vibration. Silent notification Mutes email\n",
      "notifications. Note Always vibrate on notification and Silent notification cannot be used at the\n",
      "same time. Attachments capacity (byte) Enter the email attachment file size limit in bytes.The input\n",
      "value ranges from 1 to 52428800 (50MB). Maximum Size of Email Body (Kbyte) Select a maximum value\n",
      "for the email body size. This is only set once during the initial Exchange ActiveSync setup. &gt;\n",
      "Default Size of Email Body (Kbyte) Select the default value of the email body size. Note Select the\n",
      "setting after the Maximum Size of Email Body (Kbyte) setting. Email Account Configures the settings\n",
      "of a POP or IMAP email account. Click !add to add a configuration. You can add or edit up to 20\n",
      "configurations when you save the profile. Policy Description Configuration ID Assign a unique ID for\n",
      "each email account setting. Description Enter a description for each email account setting. Remove\n",
      "available Allows users to delete the email account settings in Knox Workspace. Default Account\n",
      "Specifies to usage of the default account. User Information input method Select an input method for\n",
      "entering user information. &gt; Manual Input Select this to enter the email address manually. You\n",
      "can also enter the incoming server ID, incoming server password, outgoing server ID, and outgoing\n",
      "server password for the email connection.You can also click Lookup to open the reference items list\n",
      "and select an item from it. The reference value will be entered automatically. &gt; Connector\n",
      "interworking Select a connector from the user information connector. Note The connectors are listed\n",
      "in Advanced &gt; System Integration &gt; Directory Connector. &gt; User Information Select to access\n",
      "the relevant mail server using the registered Knox Manage email, ID, and password. The password must\n",
      "be entered from the user's device. Incoming Server Protocol Select between the POP3 (pop3) and IMAP\n",
      "(imap) protocol. Outgoing Server Protocol Entered automatically as SMTP. Incoming Server\n",
      "Address/port Enter the Incoming Server address/port in a provided format. Outgoing Server\n",
      "Address/port Enter the outgoing server address in a provided format. Incoming Server ID Enter an\n",
      "incoming server ID to sign in to the incoming mail server manually. This protocol is only available\n",
      "when Manual Input is selected.You can also click Lookup to open the reference items list and select\n",
      "an item from it. The reference value will be entered automatically. Outgoing Server ID Enter an\n",
      "outgoing server ID to sign in to the outgoing mail server manually. This protocol is only available\n",
      "when Manual Input is selected.You can also click Lookup to open the reference items list and select\n",
      "an item from it. The reference value will be entered automatically\n",
      "metadata:\n",
      " {'source': 'all_processed_data.json', 'seq_num': 899, 'title': 'Knox Workspace (Android Legacy)\n",
      "policies', 'url': 'https://docs.samsungknox.com/admin/knox-manage/configure/profile/configure-\n",
      "profile-policies/knox-workspace-android-legacy-policies', 'project': 'KM', 'last_updated':\n",
      "'2023-07-26', 'family_tree': 'parent', 'parent_id': None, 'orig_elements': ''}\n",
      "CPU times: user 295 ms, sys: 15.5 ms, total: 311 ms\n",
      "Wall time: 542 ms\n"
     ]
    }
   ],
   "source": [
    "%%time\n",
    "search_hybrid_result = opensearch_hybrid_retriever.invoke(query)\n",
    "\n",
    "print(\"\\n==========  Results  ==========\\n\")\n",
    "print(f'1. question: {query}')\n",
    "print (f'2. # documents: {len(search_hybrid_result)}')\n",
    "print(\"3. Documents: \\n\")\n",
    "\n",
    "show_context_used(search_hybrid_result)"
   ]
  },
  {
   "cell_type": "markdown",
   "id": "c09221b5-4a6c-463b-9769-35cc8362e33c",
   "metadata": {},
   "source": [
    "- update parameters\n",
    "    - **parent_document=False**"
   ]
  },
  {
   "cell_type": "code",
   "execution_count": 32,
   "id": "b7bb4672-d2b8-4b29-b71c-b06d84bcd470",
   "metadata": {
    "tags": []
   },
   "outputs": [],
   "source": [
    "opensearch_hybrid_retriever.update_search_params(\n",
    "    k=5,\n",
    "    minimum_should_match=0,\n",
    "    #filter=[],\n",
    "    filter=[\n",
    "        #{'term': {'metadata.project': 'KS'}},\n",
    "        #{'term': {'metadata.family_tree': 'child'}},\n",
    "    ],\n",
    "    reranker=True,\n",
    "    reranker_endpoint_name=endpoint_name,\n",
    "    parent_document=False, # enable parent document\n",
    "    verbose=True,\n",
    ")"
   ]
  },
  {
   "cell_type": "code",
   "execution_count": 34,
   "id": "1b9b45b1-cb92-4954-8087-143a550350c8",
   "metadata": {
    "collapsed": true,
    "jupyter": {
     "outputs_hidden": true
    },
    "tags": []
   },
   "outputs": [
    {
     "name": "stdout",
     "output_type": "stream",
     "text": [
      "##############################\n",
      "async_mode\n",
      "##############################\n",
      "True\n",
      "##############################\n",
      "reranker\n",
      "##############################\n",
      "True\n",
      "##############################\n",
      "rag_fusion\n",
      "##############################\n",
      "False\n",
      "##############################\n",
      "HyDE\n",
      "##############################\n",
      "False\n",
      "##############################\n",
      "parent_document\n",
      "##############################\n",
      "False\n",
      "##############################\n",
      "complex_document\n",
      "##############################\n",
      "False\n",
      "##############################\n",
      "similar_docs_semantic\n",
      "##############################\n",
      "\n",
      "Score: 1.0\n",
      "['. To delete a video file, click next to the name of the uploaded video file. Note The device control command must be transferred to the device to apply a video to it. &gt; Session timeout Allows the use of the session timeout feature for the Kiosk Browser. If the user does not use the device for a set time, the device deletes user information, such as the cache and cookies, in the device Kiosk Browser and goes to the main page URL: Apply &mdash; Enables the session timeout feature for the browser. &gt;&gt; Time (sec) Set the session timeout in seconds for the Kiosk Browser']\n",
      "{'source': 'all_processed_data.json', 'seq_num': 893, 'title': 'Android Enterprise policies', 'url': 'https://docs.samsungknox.com/admin/knox-manage/configure/profile/configure-profile-policies/android-enterprise-policies', 'project': 'KM', 'last_updated': '2023-09-06', 'family_tree': 'child', 'parent_id': '91fe851c-947c-4abf-b7cc-b27ffbb4ff02', 'id': 'e1925763-2507-444d-a7e9-0e8aa406da24'}\n",
      "\n",
      "Score: 0.9925655171372633\n",
      "['. 7. The device now launches DeX automatically when it is plugged in to an HDMI cable. 8. Once the device is connected to DeX, a Display resolution screen displays. Select a single resolution value for the connected display. Unselected display options will be greyed out and unavailable. Keep in mind, changing the resolution makes displayed windows, text and other items appear small or larger. Options include, WQHD (2560 x 1440), FHD (1920 x 1080) _recommended setting_, HD+ (1600 x 900), WQXGA (2560 x 1600), WUXGA (1920 x 1200), or UWQHD (3440 x 1440). Select Done to commit the selected display setting. If the display resolution provided is not supported, then FHD (1920 x 1080) is selected by default and non-supported resolutions are greyed out in the DeX Display resolution screen. Industry example This example configures a tablet in DeX mode, so a bank employee can use it to help customers with day to day operations. For example opening a new account or checking account balances']\n",
      "{'source': 'all_processed_data.json', 'seq_num': 1225, 'title': 'DeX', 'url': 'https://docs.samsungknox.com/admin/knox-platform-for-enterprise/knox-service-plugin/configure-advanced-policies/dex', 'project': 'KSP', 'last_updated': '2023-07-26', 'family_tree': 'child', 'parent_id': 'beee7adf-3279-41f3-9f60-64baf4598e3e', 'id': 'dd26f691-d3f6-45ef-bee3-976b990f75d2'}\n",
      "\n",
      "Score: 0.9864989643755366\n",
      "[\". #Other Kiosk enhancements The Knox Manage agent must be updated to the latest version for these new features to take effect. Bookmark in Multiple App Kiosk mode now supports file uploads and downloads. You can now set Kiosk Browser and Secure Browser to be automatically updated through profile policies. When adding or modifying a profile, you can find these settings in the following locations: Secure Browser: Android Enterprise > Secure Browser > App Auto Update. Kiosk Browser: Android Enterprise or Android Legacy > Kiosk > Kiosk app settings (select Kiosk Browser ) > App Auto Update. The loading status is now shown on the progress bar: Content #Increased maximum file size limit Previously, the maximum content size was 300 MB. In 20.08, this limit was increased to 1.0 GB. Knox E-FOTA license usage with Knox Suite In addition to the Knox E-FOTA admin portal, you can now view the Knox E-FOTA license usage in the following locations as well: License widget in the Knox Manage admin portal's Dashboard\"]\n",
      "{'source': 'all_processed_data.json', 'seq_num': 1044, 'title': 'Knox Manage 20.08 release notes', 'url': 'https://docs.samsungknox.com/admin/knox-manage/release-notes/20-08', 'project': 'KM', 'last_updated': '2023-07-26', 'family_tree': 'child', 'parent_id': '6f170535-c299-4cc6-bda3-d6a2a3ce3041', 'id': '8b02057a-fbfa-49b2-bdcf-177d2f75554d'}\n",
      "\n",
      "Score: 0.9862280641853693\n",
      "['.The input value ranges from 1 to 52428800 (50MB). Maximum Size of Email Body (Kbyte) Select a maximum value for the email body size. This is only set once during the initial Exchange ActiveSync setup. &gt; Default Size of Email Body (Kbyte) Select the default value of the email body size. Note Select the setting after the Maximum Size of Email Body (Kbyte) setting. Email Account Configures the settings of a POP or IMAP email account. Click !add to add a configuration. You can add or edit up to 20 configurations when you save the profile. Policy Description Configuration ID Assign a unique ID for each email account setting. Description Enter a description for each email account setting. Remove available Allows users to delete the email account settings in Knox Workspace. Default Account Specifies to usage of the default account. User Information input method Select an input method for entering user information. &gt; Manual Input Select this to enter the email address manually']\n",
      "{'source': 'all_processed_data.json', 'seq_num': 899, 'title': 'Knox Workspace (Android Legacy) policies', 'url': 'https://docs.samsungknox.com/admin/knox-manage/configure/profile/configure-profile-policies/knox-workspace-android-legacy-policies', 'project': 'KM', 'last_updated': '2023-07-26', 'family_tree': 'child', 'parent_id': 'da17fa3c-2c2b-4731-9cdb-ee7a431808fc', 'id': 'c5c20a1d-a473-4a59-a1eb-39dd8b5b1620'}\n",
      "\n",
      "Score: 0.9851859796863477\n",
      "['. Max TTL - The maximum amount of time, or time to live (TTL), in seconds, that a packet can exist in a network before being discarded by the router. The default value is 64, but a number from 49 to 255 can be entered. Packet size - The size of the packet to request, in bytes. The default value is 64, but a number from 4 to 1472 can be entered. If the device user sets Packet size as 10, Interval (ms) as 1000 ms, and Timeout (ms) as 500 ms, 10 pings are sent and the interval between each ping is set to 1000 ms. A successful test requires all 10 pings to be received within 500 ms each. The ping test continues even if the device user leaves the screen, but they can stop it at any time by tapping the stop button. Otherwise, the test automatically stops once the set conditions are met. A notification is also displayed in the notification bar for the duration of the test, which the user can tap to return to the test screen']\n",
      "{'source': 'all_processed_data.json', 'seq_num': 292, 'title': 'Use the agent app', 'url': 'https://docs.samsungknox.com/admin/knox-asset-intelligence/how-to-guides/use-the-agent-app', 'project': 'KAI', 'last_updated': '2023-09-06', 'family_tree': 'child', 'parent_id': '4cbef679-2118-42cc-b643-c9f1eb832670', 'id': 'bf02fe64-62d5-4455-8607-8745f9f7a18b'}\n",
      "\n",
      "Score: 0.9849716399169113\n",
      "['. To upload a video file, click Add and select a file. To delete a video file, click next to the name of the uploaded video file. Note The device control command must be transferred to the device to apply a video to it. &gt; Session timeout Allows the use of the session timeout feature for the Kiosk Browser. If the user does not use the device for a set time, the device deletes user information, such as the cache and cookies, in the device Kiosk Browser and goes to the main page URL. Apply &mdash; Enable the session timeout feature for the browser. &gt;&gt; Time (sec) Set the session timeout in seconds for the Kiosk Browser. The value must be between 10, 3600 seconds. The default value is 1800 seconds. &gt; Text Copy Allows the copying of text strings in the Kiosk Browser. &gt; Javascript Allows the running of the JavaScript contained in websites. &gt; Http Proxy Allows the use of an HTTP proxy for communications in the Kiosk Browser']\n",
      "{'source': 'all_processed_data.json', 'seq_num': 894, 'title': 'Android Legacy policies', 'url': 'https://docs.samsungknox.com/admin/knox-manage/configure/profile/configure-profile-policies/android-legacy-policies', 'project': 'KM', 'last_updated': '2023-07-26', 'family_tree': 'child', 'parent_id': '3297c0c7-605f-4c0f-9b3d-0b284534c8d1', 'id': '83990dcb-d5c6-45e1-be57-ca7b8edbd7b6'}\n",
      "\n",
      "Score: 0.9828392137504668\n",
      "['. You can add up to 10 image files in the PNG, JPG, JPEG, or GIF format (animated files are not supported). Each image file must be less than 5 MB. To upload an image file, click Add and select a file. To delete an image file, click next to the name of the uploaded image file. Note The device control command must be transferred to the device to apply an image file to it. &gt;&gt;&gt; Video Select a video file for the screen saver. You can add only one video file in the MP4 or MKV format. The video file must be less than 50 MB. To upload a video file, click Add and select a file. To delete a video file, click next to the name of the uploaded video file. Note The device control command must be transferred to the device to apply a video to it. &gt; Session timeout Allows the use of the session timeout feature for the Kiosk Browser']\n",
      "{'source': 'all_processed_data.json', 'seq_num': 893, 'title': 'Android Enterprise policies', 'url': 'https://docs.samsungknox.com/admin/knox-manage/configure/profile/configure-profile-policies/android-enterprise-policies', 'project': 'KM', 'last_updated': '2023-09-06', 'family_tree': 'child', 'parent_id': '91fe851c-947c-4abf-b7cc-b27ffbb4ff02', 'id': 'dc040613-9af3-45d3-8243-f9103338acaa'}\n",
      "None\n",
      "##############################\n",
      "similar_docs_keyword\n",
      "##############################\n",
      "\n",
      "Score: 1.0\n",
      "[\". Invalid APK version name. Invalid APK version name. Please change the version name and try uploading again. 4090001 File too large. Max 4000 devices allowed per upload. Try splitting the device upload list to reduce the size of .csv you are uploading. Note that there is a max of 4000 devices allowed per upload. 4150000 File type is not supported. The file you are trying to upload is not supported. Knox Configure only accepts .csv files. App name cannot contain special characters. Rename the app so it does not contain any special or forbidden characters. App version is invalid. An app you are trying to upload is invalid. Verify that the version you're attempting to upload is correct. Try to re-upload the app again. CSV file is required. A system error occurred. Verify that you've attached a .csv file, try to re-attach the .csv and upload it again. If the problem persists, contact Samsung. 4040105 No CAPTCHA code entered. No CAPTCHA code was entered. Carefully enter the CAPTCHA code and submit\"]\n",
      "{'source': 'all_processed_data.json', 'seq_num': 433, 'title': 'Portal-side errors', 'url': 'https://docs.samsungknox.com/admin/knox-configure/knox-configure-wearables/troubleshoot/portal-side-errors', 'project': 'KC', 'last_updated': '2023-07-26', 'family_tree': 'child', 'parent_id': 'a6a25b3c-c4d2-4f38-9f96-ff3ee72f64e3', 'id': 'e68915cc-9e55-49ff-93a9-8a9ed747b294'}\n",
      "\n",
      "Score: 0.8815187024774439\n",
      "['. Max TTL - The maximum amount of time, or time to live (TTL), in seconds, that a packet can exist in a network before being discarded by the router. The default value is 64, but a number from 49 to 255 can be entered. Packet size - The size of the packet to request, in bytes. The default value is 64, but a number from 4 to 1472 can be entered. If the device user sets Packet size as 10, Interval (ms) as 1000 ms, and Timeout (ms) as 500 ms, 10 pings are sent and the interval between each ping is set to 1000 ms. A successful test requires all 10 pings to be received within 500 ms each. The ping test continues even if the device user leaves the screen, but they can stop it at any time by tapping the stop button. Otherwise, the test automatically stops once the set conditions are met. A notification is also displayed in the notification bar for the duration of the test, which the user can tap to return to the test screen']\n",
      "{'source': 'all_processed_data.json', 'seq_num': 292, 'title': 'Use the agent app', 'url': 'https://docs.samsungknox.com/admin/knox-asset-intelligence/how-to-guides/use-the-agent-app', 'project': 'KAI', 'last_updated': '2023-09-06', 'family_tree': 'child', 'parent_id': '4cbef679-2118-42cc-b643-c9f1eb832670', 'id': 'bf02fe64-62d5-4455-8607-8745f9f7a18b'}\n",
      "\n",
      "Score: 0.8195609692127032\n",
      "['What does the term \\'Maximum number of licenses\\' mean for KPE Standard licenses?. Some customers have asked what the term \"Max # Licenses\" means for the KPE Standard type license. This term can be found in documentation such as the Knox Licenses page in the developer guide. Resolution The term \"Max # Licenses\" means the maximum number of app packages that a particular customer can cover with their KPE Standard license. One license will be for one app package.']\n",
      "{'source': 'all_processed_data.json', 'seq_num': 1638, 'title': \"What does the term 'Maximum number of licenses' mean for KPE Standard licenses?\", 'url': 'https://docs.samsungknox.com/admin/knox-platform-for-enterprise/kbas/kba-528-max-number-licenses-kpe-meaning', 'project': 'KPE', 'last_updated': '2023-07-26', 'family_tree': 'child', 'parent_id': '341cc6ac-b9ae-4b55-8145-79497c7c30bf', 'id': '579afec1-e78e-4cbe-9aca-fcf1d5dedf74'}\n",
      "\n",
      "Score: 0.7409357430963961\n",
      "['. Change this property to include lengths not enabled by default, or to optimize decoding performance for a certain number of symbols. Character-to-symbol mapping depends on barcode type. For example, some barcodes include additional checksum characters in their symbol counts. For more information on active symbol count, refer to Configure the Active Symbol Count. Depends on barcode type. Max. length Determines the maximum supported barcode length (active symbol count) to decode. Depends on barcode type. Inverted color recognition Enables recognition of inverted barcodes that have been printed using bright ink on a dark background. ON/OFF OFF Reduced quiet zone-size Enables scanning codes with smaller than normal quiet zones (white space before and after the code) than allowed by the barcode type specification. Use this if you experience issues when scanning codes that violate quiet zone specifications. Please note that turning on this feature may lead to false positive scans in some cases']\n",
      "{'source': 'all_processed_data.json', 'seq_num': 580, 'title': 'Scan engine settings: Scandit', 'url': 'https://docs.samsungknox.com/admin/knox-capture/knox-capture-scandit/scan-engine-settings-scandit', 'project': 'KCAP', 'last_updated': '2023-07-26', 'family_tree': 'child', 'parent_id': '55f251e9-a117-4010-bb25-557849519f12', 'id': 'c1af6baa-7834-4f5d-9b6b-9a2f6c858343'}\n",
      "\n",
      "Score: 0.7357604960159928\n",
      "['. Password Restrictions 6. Minimum Password Length [6] Device Password Requirements Minimum password quality COPE: Use MDM native capability COBO: 1. Device-wide policies (Device Owner) 2. Enable device-wide policies [enable] 3. Password policy 4. Enable password policy controls with KSP [enable] 5. Password Quality [numeric]\" Device Password Requirements Maximum sequential numbers 1. Device-wide policies (Device Owner) 2. Enable device-wide policies [enable] 3. Password policy 4. Enable password policy controls with KSP [enable] 5. Password Restrictions 6. Maximum Character Sequence Length [2] Device Password Requirements Max time to screen lock COPE: Use MDM native capability COBO: 1. Device-wide policies (Device Owner) 2. Enable device-wide policies [enable] 3. Password policy 4. Enable password policy controls with KSP [enable] 5. Allowed Time for User Activity before Device Locks [900000] Device Password Requirements Max password failures for local wipe COPE: Use MDM native capability COBO: 1']\n",
      "{'source': 'all_processed_data.json', 'seq_num': 1252, 'title': 'STIG 11 Knox Service Plugin reference', 'url': 'https://docs.samsungknox.com/admin/knox-platform-for-enterprise/knox-service-plugin/references/stig-11/stig-11-ksp-reference', 'project': 'KSP', 'last_updated': '2023-07-26', 'family_tree': 'child', 'parent_id': '4661bed0-a795-432a-9301-dd0d3c8c5da6', 'id': '34fda345-fc67-430f-87c5-f36374c931cb'}\n",
      "\n",
      "Score: 0.7137338125095225\n",
      "['. Enter your device information in the sample file with the default headings. Save and try uploading the CSV file again. 4000014 The CSV file is empty. Ensure the CSV file uploading is not empty. 4000414 The EULA is invalid. A system error occurred. Refresh the page and load the EULA again. If the problem persists, contact Samsung. 4002009 EULA is already agreed to. The end user has already accepted the End User License Agreement (EULA). Do not prompt users to accept the EULA again. Failed to upload file. A system error occurred. Try to upload the file again. If the problem persists, contact Samsung. An app with this name already exists. Ensure the name of the app you are uploading does not already exist in Knox Configure. Re-name the app if necessary. Invalid APK version name. Invalid APK version name. Please change the version name and try uploading again. 4090001 File too large. Max 4000 devices allowed per upload. Try splitting the device upload list to reduce the size of .csv you are uploading']\n",
      "{'source': 'all_processed_data.json', 'seq_num': 433, 'title': 'Portal-side errors', 'url': 'https://docs.samsungknox.com/admin/knox-configure/knox-configure-wearables/troubleshoot/portal-side-errors', 'project': 'KC', 'last_updated': '2023-07-26', 'family_tree': 'child', 'parent_id': 'a6a25b3c-c4d2-4f38-9f96-ff3ee72f64e3', 'id': '84f347cc-3c8b-4447-b67c-086649f9916a'}\n",
      "\n",
      "Score: 0.6771583859452852\n",
      "['. PasswordPolicy setMaximumNumericSequenceLength AE Device Password Requirements Max time to screen lock 0 minutes 15 minutes KNOX-11-000500 setMaximumTimeToLock AE Device Password Requirements Max password failures fo local wipe 0+ 10 KNOX-11-000700 setMaximumFailedPasswordsForWipe AE * Device Restrictions Installs from unknown sources globally Allow/ Disallow Disallow KNOX-11-001300 addUserRestriction DISALLOW_INSTALL_UNKNOWN_SOURCES_GLOBALLY AE Device Restrictions Trust agents Disable/Enable Disable KNOX-11-003900 setKeyguardDisabledFeatures KEYGUARD_DISABLE_TRUST_AGENTS AE * Device Restrictions Face Disable/Enable Disable KNOX-11-004100 setKeyguardDisabledFeatures KEYGUARD_DISABLE_FACE AE * Device Restrictions Debugging features Allow/ Disallow Disallow KNOX-11-005100 addUserRestriction DISALLOW_DEBUGGING_FEATURES AE * Device Restrictions USB file transfer Allow/ Disallow Disallow KNOX-11-006500, KNOX-11-006900 addUserRestriction DISALLOW_USB_FILE_TRANSFER KPE Device Wi-Fi Unsecured hotspot Allow/']\n",
      "{'source': 'all_processed_data.json', 'seq_num': 1251, 'title': 'STIG 11 COPE compliance', 'url': 'https://docs.samsungknox.com/admin/knox-platform-for-enterprise/knox-service-plugin/references/stig-11/stig-11-cope-compliance', 'project': 'KSP', 'last_updated': '2023-07-26', 'family_tree': 'child', 'parent_id': '2b677627-d597-43c3-aaea-2abe400ddf68', 'id': 'e8e1e890-045c-4b1f-b38b-083d2f1839f4'}\n",
      "None\n",
      "##############################\n",
      "similar_docs_without_reranker\n",
      "##############################\n",
      "\n",
      "Score: 0.015749379652605457\n",
      "['. Max TTL - The maximum amount of time, or time to live (TTL), in seconds, that a packet can exist in a network before being discarded by the router. The default value is 64, but a number from 49 to 255 can be entered. Packet size - The size of the packet to request, in bytes. The default value is 64, but a number from 4 to 1472 can be entered. If the device user sets Packet size as 10, Interval (ms) as 1000 ms, and Timeout (ms) as 500 ms, 10 pings are sent and the interval between each ping is set to 1000 ms. A successful test requires all 10 pings to be received within 500 ms each. The ping test continues even if the device user leaves the screen, but they can stop it at any time by tapping the stop button. Otherwise, the test automatically stops once the set conditions are met. A notification is also displayed in the notification bar for the duration of the test, which the user can tap to return to the test screen']\n",
      "{'source': 'all_processed_data.json', 'seq_num': 292, 'title': 'Use the agent app', 'url': 'https://docs.samsungknox.com/admin/knox-asset-intelligence/how-to-guides/use-the-agent-app', 'project': 'KAI', 'last_updated': '2023-09-06', 'family_tree': 'child', 'parent_id': '4cbef679-2118-42cc-b643-c9f1eb832670', 'id': 'bf02fe64-62d5-4455-8607-8745f9f7a18b'}\n",
      "\n",
      "Score: 0.008360655737704918\n",
      "['. To delete a video file, click next to the name of the uploaded video file. Note The device control command must be transferred to the device to apply a video to it. &gt; Session timeout Allows the use of the session timeout feature for the Kiosk Browser. If the user does not use the device for a set time, the device deletes user information, such as the cache and cookies, in the device Kiosk Browser and goes to the main page URL: Apply &mdash; Enables the session timeout feature for the browser. &gt;&gt; Time (sec) Set the session timeout in seconds for the Kiosk Browser']\n",
      "{'source': 'all_processed_data.json', 'seq_num': 893, 'title': 'Android Enterprise policies', 'url': 'https://docs.samsungknox.com/admin/knox-manage/configure/profile/configure-profile-policies/android-enterprise-policies', 'project': 'KM', 'last_updated': '2023-09-06', 'family_tree': 'child', 'parent_id': '91fe851c-947c-4abf-b7cc-b27ffbb4ff02', 'id': 'e1925763-2507-444d-a7e9-0e8aa406da24'}\n",
      "\n",
      "Score: 0.008225806451612904\n",
      "['. 7. The device now launches DeX automatically when it is plugged in to an HDMI cable. 8. Once the device is connected to DeX, a Display resolution screen displays. Select a single resolution value for the connected display. Unselected display options will be greyed out and unavailable. Keep in mind, changing the resolution makes displayed windows, text and other items appear small or larger. Options include, WQHD (2560 x 1440), FHD (1920 x 1080) _recommended setting_, HD+ (1600 x 900), WQXGA (2560 x 1600), WUXGA (1920 x 1200), or UWQHD (3440 x 1440). Select Done to commit the selected display setting. If the display resolution provided is not supported, then FHD (1920 x 1080) is selected by default and non-supported resolutions are greyed out in the DeX Display resolution screen. Industry example This example configures a tablet in DeX mode, so a bank employee can use it to help customers with day to day operations. For example opening a new account or checking account balances']\n",
      "{'source': 'all_processed_data.json', 'seq_num': 1225, 'title': 'DeX', 'url': 'https://docs.samsungknox.com/admin/knox-platform-for-enterprise/knox-service-plugin/configure-advanced-policies/dex', 'project': 'KSP', 'last_updated': '2023-07-26', 'family_tree': 'child', 'parent_id': 'beee7adf-3279-41f3-9f60-64baf4598e3e', 'id': 'dd26f691-d3f6-45ef-bee3-976b990f75d2'}\n",
      "\n",
      "Score: 0.008095238095238095\n",
      "[\". #Other Kiosk enhancements The Knox Manage agent must be updated to the latest version for these new features to take effect. Bookmark in Multiple App Kiosk mode now supports file uploads and downloads. You can now set Kiosk Browser and Secure Browser to be automatically updated through profile policies. When adding or modifying a profile, you can find these settings in the following locations: Secure Browser: Android Enterprise > Secure Browser > App Auto Update. Kiosk Browser: Android Enterprise or Android Legacy > Kiosk > Kiosk app settings (select Kiosk Browser ) > App Auto Update. The loading status is now shown on the progress bar: Content #Increased maximum file size limit Previously, the maximum content size was 300 MB. In 20.08, this limit was increased to 1.0 GB. Knox E-FOTA license usage with Knox Suite In addition to the Knox E-FOTA admin portal, you can now view the Knox E-FOTA license usage in the following locations as well: License widget in the Knox Manage admin portal's Dashboard\"]\n",
      "{'source': 'all_processed_data.json', 'seq_num': 1044, 'title': 'Knox Manage 20.08 release notes', 'url': 'https://docs.samsungknox.com/admin/knox-manage/release-notes/20-08', 'project': 'KM', 'last_updated': '2023-07-26', 'family_tree': 'child', 'parent_id': '6f170535-c299-4cc6-bda3-d6a2a3ce3041', 'id': '8b02057a-fbfa-49b2-bdcf-177d2f75554d'}\n",
      "\n",
      "Score: 0.008032786885245903\n",
      "[\". Invalid APK version name. Invalid APK version name. Please change the version name and try uploading again. 4090001 File too large. Max 4000 devices allowed per upload. Try splitting the device upload list to reduce the size of .csv you are uploading. Note that there is a max of 4000 devices allowed per upload. 4150000 File type is not supported. The file you are trying to upload is not supported. Knox Configure only accepts .csv files. App name cannot contain special characters. Rename the app so it does not contain any special or forbidden characters. App version is invalid. An app you are trying to upload is invalid. Verify that the version you're attempting to upload is correct. Try to re-upload the app again. CSV file is required. A system error occurred. Verify that you've attached a .csv file, try to re-attach the .csv and upload it again. If the problem persists, contact Samsung. 4040105 No CAPTCHA code entered. No CAPTCHA code was entered. Carefully enter the CAPTCHA code and submit\"]\n",
      "{'source': 'all_processed_data.json', 'seq_num': 433, 'title': 'Portal-side errors', 'url': 'https://docs.samsungknox.com/admin/knox-configure/knox-configure-wearables/troubleshoot/portal-side-errors', 'project': 'KC', 'last_updated': '2023-07-26', 'family_tree': 'child', 'parent_id': 'a6a25b3c-c4d2-4f38-9f96-ff3ee72f64e3', 'id': 'e68915cc-9e55-49ff-93a9-8a9ed747b294'}\n",
      "\n",
      "Score: 0.00796875\n",
      "['.The input value ranges from 1 to 52428800 (50MB). Maximum Size of Email Body (Kbyte) Select a maximum value for the email body size. This is only set once during the initial Exchange ActiveSync setup. &gt; Default Size of Email Body (Kbyte) Select the default value of the email body size. Note Select the setting after the Maximum Size of Email Body (Kbyte) setting. Email Account Configures the settings of a POP or IMAP email account. Click !add to add a configuration. You can add or edit up to 20 configurations when you save the profile. Policy Description Configuration ID Assign a unique ID for each email account setting. Description Enter a description for each email account setting. Remove available Allows users to delete the email account settings in Knox Workspace. Default Account Specifies to usage of the default account. User Information input method Select an input method for entering user information. &gt; Manual Input Select this to enter the email address manually']\n",
      "{'source': 'all_processed_data.json', 'seq_num': 899, 'title': 'Knox Workspace (Android Legacy) policies', 'url': 'https://docs.samsungknox.com/admin/knox-manage/configure/profile/configure-profile-policies/knox-workspace-android-legacy-policies', 'project': 'KM', 'last_updated': '2023-07-26', 'family_tree': 'child', 'parent_id': 'da17fa3c-2c2b-4731-9cdb-ee7a431808fc', 'id': 'c5c20a1d-a473-4a59-a1eb-39dd8b5b1620'}\n",
      "\n",
      "Score: 0.0077777777777777776\n",
      "['What does the term \\'Maximum number of licenses\\' mean for KPE Standard licenses?. Some customers have asked what the term \"Max # Licenses\" means for the KPE Standard type license. This term can be found in documentation such as the Knox Licenses page in the developer guide. Resolution The term \"Max # Licenses\" means the maximum number of app packages that a particular customer can cover with their KPE Standard license. One license will be for one app package.']\n",
      "{'source': 'all_processed_data.json', 'seq_num': 1638, 'title': \"What does the term 'Maximum number of licenses' mean for KPE Standard licenses?\", 'url': 'https://docs.samsungknox.com/admin/knox-platform-for-enterprise/kbas/kba-528-max-number-licenses-kpe-meaning', 'project': 'KPE', 'last_updated': '2023-07-26', 'family_tree': 'child', 'parent_id': '341cc6ac-b9ae-4b55-8145-79497c7c30bf', 'id': '579afec1-e78e-4cbe-9aca-fcf1d5dedf74'}\n",
      "None\n",
      "##############################\n",
      "similar_docs\n",
      "##############################\n",
      "\n",
      "Score: 0.00019622566469479352\n",
      "[\". #Other Kiosk enhancements The Knox Manage agent must be updated to the latest version for these new features to take effect. Bookmark in Multiple App Kiosk mode now supports file uploads and downloads. You can now set Kiosk Browser and Secure Browser to be automatically updated through profile policies. When adding or modifying a profile, you can find these settings in the following locations: Secure Browser: Android Enterprise > Secure Browser > App Auto Update. Kiosk Browser: Android Enterprise or Android Legacy > Kiosk > Kiosk app settings (select Kiosk Browser ) > App Auto Update. The loading status is now shown on the progress bar: Content #Increased maximum file size limit Previously, the maximum content size was 300 MB. In 20.08, this limit was increased to 1.0 GB. Knox E-FOTA license usage with Knox Suite In addition to the Knox E-FOTA admin portal, you can now view the Knox E-FOTA license usage in the following locations as well: License widget in the Knox Manage admin portal's Dashboard\"]\n",
      "{'source': 'all_processed_data.json', 'seq_num': 1044, 'title': 'Knox Manage 20.08 release notes', 'url': 'https://docs.samsungknox.com/admin/knox-manage/release-notes/20-08', 'project': 'KM', 'last_updated': '2023-07-26', 'family_tree': 'child', 'parent_id': '6f170535-c299-4cc6-bda3-d6a2a3ce3041', 'id': '8b02057a-fbfa-49b2-bdcf-177d2f75554d'}\n",
      "\n",
      "Score: 0.0001050693608704023\n",
      "['. Max TTL - The maximum amount of time, or time to live (TTL), in seconds, that a packet can exist in a network before being discarded by the router. The default value is 64, but a number from 49 to 255 can be entered. Packet size - The size of the packet to request, in bytes. The default value is 64, but a number from 4 to 1472 can be entered. If the device user sets Packet size as 10, Interval (ms) as 1000 ms, and Timeout (ms) as 500 ms, 10 pings are sent and the interval between each ping is set to 1000 ms. A successful test requires all 10 pings to be received within 500 ms each. The ping test continues even if the device user leaves the screen, but they can stop it at any time by tapping the stop button. Otherwise, the test automatically stops once the set conditions are met. A notification is also displayed in the notification bar for the duration of the test, which the user can tap to return to the test screen']\n",
      "{'source': 'all_processed_data.json', 'seq_num': 292, 'title': 'Use the agent app', 'url': 'https://docs.samsungknox.com/admin/knox-asset-intelligence/how-to-guides/use-the-agent-app', 'project': 'KAI', 'last_updated': '2023-09-06', 'family_tree': 'child', 'parent_id': '4cbef679-2118-42cc-b643-c9f1eb832670', 'id': 'bf02fe64-62d5-4455-8607-8745f9f7a18b'}\n",
      "\n",
      "Score: 6.534139538416639e-05\n",
      "[\". Invalid APK version name. Invalid APK version name. Please change the version name and try uploading again. 4090001 File too large. Max 4000 devices allowed per upload. Try splitting the device upload list to reduce the size of .csv you are uploading. Note that there is a max of 4000 devices allowed per upload. 4150000 File type is not supported. The file you are trying to upload is not supported. Knox Configure only accepts .csv files. App name cannot contain special characters. Rename the app so it does not contain any special or forbidden characters. App version is invalid. An app you are trying to upload is invalid. Verify that the version you're attempting to upload is correct. Try to re-upload the app again. CSV file is required. A system error occurred. Verify that you've attached a .csv file, try to re-attach the .csv and upload it again. If the problem persists, contact Samsung. 4040105 No CAPTCHA code entered. No CAPTCHA code was entered. Carefully enter the CAPTCHA code and submit\"]\n",
      "{'source': 'all_processed_data.json', 'seq_num': 433, 'title': 'Portal-side errors', 'url': 'https://docs.samsungknox.com/admin/knox-configure/knox-configure-wearables/troubleshoot/portal-side-errors', 'project': 'KC', 'last_updated': '2023-07-26', 'family_tree': 'child', 'parent_id': 'a6a25b3c-c4d2-4f38-9f96-ff3ee72f64e3', 'id': 'e68915cc-9e55-49ff-93a9-8a9ed747b294'}\n",
      "\n",
      "Score: 5.8629942941479385e-05\n",
      "['. 7. The device now launches DeX automatically when it is plugged in to an HDMI cable. 8. Once the device is connected to DeX, a Display resolution screen displays. Select a single resolution value for the connected display. Unselected display options will be greyed out and unavailable. Keep in mind, changing the resolution makes displayed windows, text and other items appear small or larger. Options include, WQHD (2560 x 1440), FHD (1920 x 1080) _recommended setting_, HD+ (1600 x 900), WQXGA (2560 x 1600), WUXGA (1920 x 1200), or UWQHD (3440 x 1440). Select Done to commit the selected display setting. If the display resolution provided is not supported, then FHD (1920 x 1080) is selected by default and non-supported resolutions are greyed out in the DeX Display resolution screen. Industry example This example configures a tablet in DeX mode, so a bank employee can use it to help customers with day to day operations. For example opening a new account or checking account balances']\n",
      "{'source': 'all_processed_data.json', 'seq_num': 1225, 'title': 'DeX', 'url': 'https://docs.samsungknox.com/admin/knox-platform-for-enterprise/knox-service-plugin/configure-advanced-policies/dex', 'project': 'KSP', 'last_updated': '2023-07-26', 'family_tree': 'child', 'parent_id': 'beee7adf-3279-41f3-9f60-64baf4598e3e', 'id': 'dd26f691-d3f6-45ef-bee3-976b990f75d2'}\n",
      "\n",
      "Score: 5.7733297580853105e-05\n",
      "['.The input value ranges from 1 to 52428800 (50MB). Maximum Size of Email Body (Kbyte) Select a maximum value for the email body size. This is only set once during the initial Exchange ActiveSync setup. &gt; Default Size of Email Body (Kbyte) Select the default value of the email body size. Note Select the setting after the Maximum Size of Email Body (Kbyte) setting. Email Account Configures the settings of a POP or IMAP email account. Click !add to add a configuration. You can add or edit up to 20 configurations when you save the profile. Policy Description Configuration ID Assign a unique ID for each email account setting. Description Enter a description for each email account setting. Remove available Allows users to delete the email account settings in Knox Workspace. Default Account Specifies to usage of the default account. User Information input method Select an input method for entering user information. &gt; Manual Input Select this to enter the email address manually']\n",
      "{'source': 'all_processed_data.json', 'seq_num': 899, 'title': 'Knox Workspace (Android Legacy) policies', 'url': 'https://docs.samsungknox.com/admin/knox-manage/configure/profile/configure-profile-policies/knox-workspace-android-legacy-policies', 'project': 'KM', 'last_updated': '2023-07-26', 'family_tree': 'child', 'parent_id': 'da17fa3c-2c2b-4731-9cdb-ee7a431808fc', 'id': 'c5c20a1d-a473-4a59-a1eb-39dd8b5b1620'}\n",
      "None\n",
      "\n",
      "==========  Results  ==========\n",
      "\n",
      "1. question: vidio max size?\n",
      "2. # documents: 5\n",
      "3. Documents: \n",
      "\n",
      "\n",
      "-----------------------------------------------\n",
      "1. Chunk: 1013 Characters\n",
      "-----------------------------------------------\n",
      ". #Other Kiosk enhancements The Knox Manage agent must be updated to the latest version for these\n",
      "new features to take effect. Bookmark in Multiple App Kiosk mode now supports file uploads and\n",
      "downloads. You can now set Kiosk Browser and Secure Browser to be automatically updated through\n",
      "profile policies. When adding or modifying a profile, you can find these settings in the following\n",
      "locations: Secure Browser: Android Enterprise > Secure Browser > App Auto Update. Kiosk Browser:\n",
      "Android Enterprise or Android Legacy > Kiosk > Kiosk app settings (select Kiosk Browser ) > App Auto\n",
      "Update. The loading status is now shown on the progress bar: Content #Increased maximum file size\n",
      "limit Previously, the maximum content size was 300 MB. In 20.08, this limit was increased to 1.0 GB.\n",
      "Knox E-FOTA license usage with Knox Suite In addition to the Knox E-FOTA admin portal, you can now\n",
      "view the Knox E-FOTA license usage in the following locations as well: License widget in the Knox\n",
      "Manage admin portal's Dashboard\n",
      "metadata:\n",
      " {'source': 'all_processed_data.json', 'seq_num': 1044, 'title': 'Knox Manage 20.08 release notes',\n",
      "'url': 'https://docs.samsungknox.com/admin/knox-manage/release-notes/20-08', 'project': 'KM',\n",
      "'last_updated': '2023-07-26', 'family_tree': 'child', 'parent_id':\n",
      "'6f170535-c299-4cc6-bda3-d6a2a3ce3041', 'id': '8b02057a-fbfa-49b2-bdcf-177d2f75554d',\n",
      "'orig_elements': ''}\n",
      "\n",
      "-----------------------------------------------\n",
      "2. Chunk: 930 Characters\n",
      "-----------------------------------------------\n",
      ". Max TTL - The maximum amount of time, or time to live (TTL), in seconds, that a packet can exist\n",
      "in a network before being discarded by the router. The default value is 64, but a number from 49 to\n",
      "255 can be entered. Packet size - The size of the packet to request, in bytes. The default value is\n",
      "64, but a number from 4 to 1472 can be entered. If the device user sets Packet size as 10, Interval\n",
      "(ms) as 1000 ms, and Timeout (ms) as 500 ms, 10 pings are sent and the interval between each ping is\n",
      "set to 1000 ms. A successful test requires all 10 pings to be received within 500 ms each. The ping\n",
      "test continues even if the device user leaves the screen, but they can stop it at any time by\n",
      "tapping the stop button. Otherwise, the test automatically stops once the set conditions are met. A\n",
      "notification is also displayed in the notification bar for the duration of the test, which the user\n",
      "can tap to return to the test screen\n",
      "metadata:\n",
      " {'source': 'all_processed_data.json', 'seq_num': 292, 'title': 'Use the agent app', 'url':\n",
      "'https://docs.samsungknox.com/admin/knox-asset-intelligence/how-to-guides/use-the-agent-app',\n",
      "'project': 'KAI', 'last_updated': '2023-09-06', 'family_tree': 'child', 'parent_id':\n",
      "'4cbef679-2118-42cc-b643-c9f1eb832670', 'id': 'bf02fe64-62d5-4455-8607-8745f9f7a18b',\n",
      "'orig_elements': ''}\n",
      "\n",
      "-----------------------------------------------\n",
      "3. Chunk: 1008 Characters\n",
      "-----------------------------------------------\n",
      ". Invalid APK version name. Invalid APK version name. Please change the version name and try\n",
      "uploading again. 4090001 File too large. Max 4000 devices allowed per upload. Try splitting the\n",
      "device upload list to reduce the size of .csv you are uploading. Note that there is a max of 4000\n",
      "devices allowed per upload. 4150000 File type is not supported. The file you are trying to upload is\n",
      "not supported. Knox Configure only accepts .csv files. App name cannot contain special characters.\n",
      "Rename the app so it does not contain any special or forbidden characters. App version is invalid.\n",
      "An app you are trying to upload is invalid. Verify that the version you're attempting to upload is\n",
      "correct. Try to re-upload the app again. CSV file is required. A system error occurred. Verify that\n",
      "you've attached a .csv file, try to re-attach the .csv and upload it again. If the problem persists,\n",
      "contact Samsung. 4040105 No CAPTCHA code entered. No CAPTCHA code was entered. Carefully enter the\n",
      "CAPTCHA code and submit\n",
      "metadata:\n",
      " {'source': 'all_processed_data.json', 'seq_num': 433, 'title': 'Portal-side errors', 'url':\n",
      "'https://docs.samsungknox.com/admin/knox-configure/knox-configure-wearables/troubleshoot/portal-\n",
      "side-errors', 'project': 'KC', 'last_updated': '2023-07-26', 'family_tree': 'child', 'parent_id':\n",
      "'a6a25b3c-c4d2-4f38-9f96-ff3ee72f64e3', 'id': 'e68915cc-9e55-49ff-93a9-8a9ed747b294',\n",
      "'orig_elements': ''}\n",
      "\n",
      "-----------------------------------------------\n",
      "4. Chunk: 993 Characters\n",
      "-----------------------------------------------\n",
      ". 7. The device now launches DeX automatically when it is plugged in to an HDMI cable. 8. Once the\n",
      "device is connected to DeX, a Display resolution screen displays. Select a single resolution value\n",
      "for the connected display. Unselected display options will be greyed out and unavailable. Keep in\n",
      "mind, changing the resolution makes displayed windows, text and other items appear small or larger.\n",
      "Options include, WQHD (2560 x 1440), FHD (1920 x 1080) _recommended setting_, HD+ (1600 x 900),\n",
      "WQXGA (2560 x 1600), WUXGA (1920 x 1200), or UWQHD (3440 x 1440). Select Done to commit the selected\n",
      "display setting. If the display resolution provided is not supported, then FHD (1920 x 1080) is\n",
      "selected by default and non-supported resolutions are greyed out in the DeX Display resolution\n",
      "screen. Industry example This example configures a tablet in DeX mode, so a bank employee can use it\n",
      "to help customers with day to day operations. For example opening a new account or checking account\n",
      "balances\n",
      "metadata:\n",
      " {'source': 'all_processed_data.json', 'seq_num': 1225, 'title': 'DeX', 'url':\n",
      "'https://docs.samsungknox.com/admin/knox-platform-for-enterprise/knox-service-plugin/configure-\n",
      "advanced-policies/dex', 'project': 'KSP', 'last_updated': '2023-07-26', 'family_tree': 'child',\n",
      "'parent_id': 'beee7adf-3279-41f3-9f60-64baf4598e3e', 'id': 'dd26f691-d3f6-45ef-bee3-976b990f75d2',\n",
      "'orig_elements': ''}\n",
      "\n",
      "-----------------------------------------------\n",
      "5. Chunk: 990 Characters\n",
      "-----------------------------------------------\n",
      ".The input value ranges from 1 to 52428800 (50MB). Maximum Size of Email Body (Kbyte) Select a\n",
      "maximum value for the email body size. This is only set once during the initial Exchange ActiveSync\n",
      "setup. &gt; Default Size of Email Body (Kbyte) Select the default value of the email body size. Note\n",
      "Select the setting after the Maximum Size of Email Body (Kbyte) setting. Email Account Configures\n",
      "the settings of a POP or IMAP email account. Click !add to add a configuration. You can add or edit\n",
      "up to 20 configurations when you save the profile. Policy Description Configuration ID Assign a\n",
      "unique ID for each email account setting. Description Enter a description for each email account\n",
      "setting. Remove available Allows users to delete the email account settings in Knox Workspace.\n",
      "Default Account Specifies to usage of the default account. User Information input method Select an\n",
      "input method for entering user information. &gt; Manual Input Select this to enter the email address\n",
      "manually\n",
      "metadata:\n",
      " {'source': 'all_processed_data.json', 'seq_num': 899, 'title': 'Knox Workspace (Android Legacy)\n",
      "policies', 'url': 'https://docs.samsungknox.com/admin/knox-manage/configure/profile/configure-\n",
      "profile-policies/knox-workspace-android-legacy-policies', 'project': 'KM', 'last_updated':\n",
      "'2023-07-26', 'family_tree': 'child', 'parent_id': 'da17fa3c-2c2b-4731-9cdb-ee7a431808fc', 'id':\n",
      "'c5c20a1d-a473-4a59-a1eb-39dd8b5b1620', 'orig_elements': ''}\n"
     ]
    }
   ],
   "source": [
    "#query = \"What is knox?\"\n",
    "query = \"vidio max size?\"\n",
    "search_hybrid_result = opensearch_hybrid_retriever.get_relevant_documents(query)\n",
    "\n",
    "print(\"\\n==========  Results  ==========\\n\")\n",
    "print(f'1. question: {query}')\n",
    "print(f'2. # documents: {len(search_hybrid_result)}')\n",
    "print(\"3. Documents: \\n\")\n",
    "\n",
    "show_context_used(search_hybrid_result)"
   ]
  },
  {
   "cell_type": "markdown",
   "id": "a981abe7-5208-48f5-a9cc-8c557e9941ca",
   "metadata": {},
   "source": [
    "## 5. RAG using RetrievalQA powered by LangChain"
   ]
  },
  {
   "cell_type": "code",
   "execution_count": 35,
   "id": "08cf6d2b-451b-499c-aec2-bb6f5abafbb0",
   "metadata": {
    "tags": []
   },
   "outputs": [],
   "source": [
    "from textwrap import dedent"
   ]
  },
  {
   "cell_type": "markdown",
   "id": "b490df1f-8113-4dd1-a578-a3e1a6918fde",
   "metadata": {
    "tags": []
   },
   "source": [
    "### Prompting\n",
    "- [TIP] Prompt의 instruction의 경우 한글보다 영어로 했을 때 더 좋은 결과를 얻을 수 있습니다."
   ]
  },
  {
   "cell_type": "code",
   "execution_count": 36,
   "id": "0a68b4bf-8fc5-45a6-80cf-2bc059d4e389",
   "metadata": {
    "tags": []
   },
   "outputs": [],
   "source": [
    "system_prompt = dedent(\n",
    "    \"\"\"\n",
    "    You are a master answer bot designed to answer user's questions.\n",
    "    I'm going to give you contexts which consist of texts, tables and images.\n",
    "    Read the contexts carefully, because I'm going to ask you a question about it.\n",
    "    \"\"\"\n",
    ")\n",
    "\n",
    "human_prompt = dedent(\n",
    "    \"\"\"\n",
    "    Here is the contexts as texts: <contexts>{contexts}</contexts>\n",
    "\n",
    "    First, find a few paragraphs or sentences from the contexts that are most relevant to answering the question.\n",
    "    Then, answer the question as much as you can.\n",
    "\n",
    "    Skip the preamble and go straight into the answer.\n",
    "    Don't insert any XML tag such as <contexts> and </contexts> when answering.\n",
    "    Answer in Korean.\n",
    "\n",
    "    Here is the question: <question>{question}</question>\n",
    "\n",
    "    If the question cannot be answered by the contexts, say \"No relevant contexts\".\n",
    "    \"\"\"\n",
    ")"
   ]
  },
  {
   "cell_type": "markdown",
   "id": "c66157a6-aec8-4555-a90f-1178e6f4f6e0",
   "metadata": {},
   "source": [
    "### Update Search Params (Optional)"
   ]
  },
  {
   "cell_type": "code",
   "execution_count": 37,
   "id": "64df2daf-8b42-472a-885f-97320ee98132",
   "metadata": {
    "tags": []
   },
   "outputs": [],
   "source": [
    "from utils.rag import rag_chain\n",
    "from langchain.schema.output_parser import StrOutputParser"
   ]
  },
  {
   "cell_type": "code",
   "execution_count": 38,
   "id": "d2697230-6962-43d8-8917-ba9daa4295bb",
   "metadata": {
    "tags": []
   },
   "outputs": [],
   "source": [
    "opensearch_hybrid_retriever.update_search_params(\n",
    "    k=6,\n",
    "    minimum_should_match=0,\n",
    "    # filter=[\n",
    "    #     {'term': {'metadata.family_tree': 'child'}},\n",
    "    # ],\n",
    "    ensemble_weights=[0.51, 0.49], #semantic, lexical\n",
    "\n",
    "    reranker=True,\n",
    "    reranker_endpoint_name=endpoint_name,\n",
    "\n",
    "    parent_document=True, # enable parent document\n",
    "    verbose=False\n",
    ")"
   ]
  },
  {
   "cell_type": "markdown",
   "id": "aee26c22-b674-4f4f-a87b-29508e336fda",
   "metadata": {},
   "source": [
    "### Request"
   ]
  },
  {
   "cell_type": "code",
   "execution_count": 39,
   "id": "95fa61d3-9256-432a-96a3-2c696c97ea68",
   "metadata": {
    "tags": []
   },
   "outputs": [],
   "source": [
    "qa = rag_chain(\n",
    "    llm_text=llm_text,\n",
    "    retriever=opensearch_hybrid_retriever,\n",
    "    system_prompt=system_prompt,\n",
    "    human_prompt=human_prompt,\n",
    "    return_context=True,\n",
    "    verbose=False,\n",
    "    #multi_turn=True\n",
    ")"
   ]
  },
  {
   "cell_type": "code",
   "execution_count": 42,
   "id": "390ad324-40b3-4bcb-92b9-50eb080492a5",
   "metadata": {
    "tags": []
   },
   "outputs": [
    {
     "name": "stdout",
     "output_type": "stream",
     "text": [
      "verbose False\n",
      "콘텐츠 크기 제한과 관련된 정보를 찾았습니다. 관련 내용은 다음과 같습니다:\n",
      "\n",
      "이전에는 최대 콘텐츠 크기가 300 MB였습니다. 20.08 버전에서 이 제한이 1.0 GB로 증가되었습니다.\n",
      "\n",
      "따라서 현재 비디오 파일의 최대 크기 제한은 1.0 GB (1000 MB)입니다."
     ]
    }
   ],
   "source": [
    "#query = \"중지된 경우 이체\"\n",
    "query = \"vidio max size?\"\n",
    "#query = \"How does Knox E-FOTA enable enterprises to deploy OS updates remotely without requiring user interaction?\"\n",
    "#query = \"What feature of Knox E-FOTA allows IT administrators to ensure that devices have the same OS version installed across the entire fleet of devices?\"\n",
    "#query = \"How does Knox E-FOTA allow IT admins to securely push updates to enterprise mobile devices while maintaining compatibility with in-house apps?\"\n",
    "#query = \"What are the three editions of Knox E-FOTA service that have different features?\"\n",
    "#query = \"How do you obtain the Knox E-FOTA client APK that is needed to install the app through an EMM?\"\n",
    "\n",
    "response, contexts = qa.invoke(\n",
    "    query = query,\n",
    "    verbose=False\n",
    ")"
   ]
  },
  {
   "cell_type": "code",
   "execution_count": 43,
   "id": "01e77dad-dc19-416b-80e7-19fac3b736a5",
   "metadata": {
    "tags": []
   },
   "outputs": [
    {
     "name": "stdout",
     "output_type": "stream",
     "text": [
      "##################################\n",
      "query:  vidio max size?\n",
      "##################################\n",
      "\u001b[34m\n",
      "\n",
      "### Answer ###\u001b[0m\n",
      "콘텐츠 크기 제한과 관련된 정보를 찾았습니다. 관련 내용은 다음과 같습니다:\n",
      "\n",
      "이전에는 최대 콘텐츠 크기가 300 MB였습니다. 20.08 버전에서 이 제한이 1.0 GB로 증가되었습니다.\n",
      "\n",
      "따라서 현재 비디오 파일의 최대 크기 제한은 1.0 GB (1000 MB)입니다.\n",
      "\u001b[32m\n",
      "\n",
      "### Contexts ###\u001b[0m\n",
      "\n",
      "-----------------------------------------------\n",
      "1. Chunk: 4007 Characters\n",
      "-----------------------------------------------\n",
      ". When adding or modifying a Windows profile, you can find this setting in Windows > Interface >\n",
      "Removable Storage. The USB policy ( Interface > USB ) only applies to Windows mobile devices. ##VPN\n",
      "update for Windows devices , You can now allow (or disallow) end users to change their VPN settings.\n",
      "When adding or modifying a Windows profile, you can find this setting in Windows > System > VPN.\n",
      "When setting up the VPN configuration on devices, you can distribute end users across the following\n",
      "VPN clients: Pulse Secure , Check Point Capsule VPN , F5 Access , Palo Alto Networks GlobalProtect ,\n",
      "SonicWall Mobile Connect When adding or modifying a Windows profile, you can find this setting in\n",
      "Windows > VPN. #Device name configuration for iOS DEP You can now configure iOS DEP device names to\n",
      "include the user ID, according to the DEP style. This feature is available in Setting > iOS > DEP\n",
      "Server Setting > DEP Device Name. #Certificate installation area in Android Enterprise Previously, a\n",
      "certificate could only be installed in both the Fully Managed and the Work Profile areas. Now, you\n",
      "can install certificates according to your needs - in either Fully Managed or Work Profile or both.\n",
      "When adding or modifying an Android Enterprise profile, you can find this setting in Android\n",
      "Enterprise > Certificate > Install Area. Kiosk #Single App Kiosk mode The following enhancements\n",
      "were made: The Single App Kiosk mode's delivery method was enhanced to use an Android launcher\n",
      "similar to the one used for the Multiple App Kiosk mode. This enhancement allows you to create\n",
      "Single App Kiosks stably and easily. You can now set device settings for Single App Kiosks in the\n",
      "Kiosk Wizard. Single App Kiosks created before 20.08 will continue to work without updates as long\n",
      "as no changes are made on them. This new Single App Kiosk works only with the Knox Manage 20.08\n",
      "agent. Hence, the Knox Manage agent must be updated to the latest version. Only one app can be\n",
      "assigned in a Single App Kiosk. #Exit Kiosk without unenrollment All Kiosk modes (Single App,\n",
      "Multiple App, and Kiosk Browser) can be temporarily turned off without unenrollment, regardless of\n",
      "whether they're in offline or online state. This feature is only applicable to Kiosks created in\n",
      "20.08 or later. ##To exit Kiosk mode Provide an Exit Kiosk Code to the end user. You can get the\n",
      "code from Device Detail > Security > Kiosk Mode Status > Exit Kiosk Code. The code is randomly\n",
      "regenerated after it's applied to the device to prevent it from being used again without\n",
      "authorization from an IT admin. The user managing the Kiosk device must do the following: 1. Tap the\n",
      "icon. In the case of a Single App Kiosk, you'll need to tap the Home or Back button to make this\n",
      "icon appear. The icon disappears after 5 seconds of inactivity. 2. In the \"About Kiosk\" screen, tap\n",
      "Exit Kiosk. 3. Enter the Exit Kiosk Code from the IT admin. ##To re-enter Kiosk mode An IT admin\n",
      "must apply a profile update to the device. #Other Kiosk enhancements The Knox Manage agent must be\n",
      "updated to the latest version for these new features to take effect. Bookmark in Multiple App Kiosk\n",
      "mode now supports file uploads and downloads. You can now set Kiosk Browser and Secure Browser to be\n",
      "automatically updated through profile policies. When adding or modifying a profile, you can find\n",
      "these settings in the following locations: Secure Browser: Android Enterprise > Secure Browser > App\n",
      "Auto Update. Kiosk Browser: Android Enterprise or Android Legacy > Kiosk > Kiosk app settings\n",
      "(select Kiosk Browser ) > App Auto Update. The loading status is now shown on the progress bar:\n",
      "Content #Increased maximum file size limit Previously, the maximum content size was 300 MB. In\n",
      "20.08, this limit was increased to 1.0 GB. Knox E-FOTA license usage with Knox Suite In addition to\n",
      "the Knox E-FOTA admin portal, you can now view the Knox E-FOTA license usage in the following\n",
      "locations as well: License widget in the Knox Manage admin portal's Dashboard. SamsungKnox.com\n",
      "Dashboard\n",
      "metadata:\n",
      " {'source': 'all_processed_data.json', 'seq_num': 1044, 'title': 'Knox Manage 20.08 release notes',\n",
      "'url': 'https://docs.samsungknox.com/admin/knox-manage/release-notes/20-08', 'project': 'KM',\n",
      "'last_updated': '2023-07-26', 'family_tree': 'parent', 'parent_id': None, 'orig_elements': ''}\n",
      "\n",
      "-----------------------------------------------\n",
      "2. Chunk: 4053 Characters\n",
      "-----------------------------------------------\n",
      ". Max TTL - The maximum amount of time, or time to live (TTL), in seconds, that a packet can exist\n",
      "in a network before being discarded by the router. The default value is 64, but a number from 49 to\n",
      "255 can be entered. Packet size - The size of the packet to request, in bytes. The default value is\n",
      "64, but a number from 4 to 1472 can be entered. If the device user sets Packet size as 10, Interval\n",
      "(ms) as 1000 ms, and Timeout (ms) as 500 ms, 10 pings are sent and the interval between each ping is\n",
      "set to 1000 ms. A successful test requires all 10 pings to be received within 500 ms each. The ping\n",
      "test continues even if the device user leaves the screen, but they can stop it at any time by\n",
      "tapping the stop button. Otherwise, the test automatically stops once the set conditions are met. A\n",
      "notification is also displayed in the notification bar for the duration of the test, which the user\n",
      "can tap to return to the test screen. #Battery When the device user selects Battery from the\n",
      "Diagnostics menu, the Status and History tabs are shown at the bottom of the screen. ##Status The\n",
      "Status tab provides information on the following battery-related data points: Battery status -\n",
      "Indicates whether the device is connected to a charger or not. Battery level, State of health - The\n",
      "overall health of the device's battery, defined as Good, Normal, or Bad. Battery voltage, Charger\n",
      "type, Charger plug, Battery's rated capacity, Battery health - The percentage of the battery's\n",
      "original charge it can currently hold. Time until battery fully drained/Time until battery fully\n",
      "charged - When the device is not charging, the first option is shown. Otherwise, the second option\n",
      "is shown. Current battery charge, Current battery capacity, Average current, Current right now -\n",
      "When the device is charging, displays the charging current in milliamperes (mA). Device users can\n",
      "also generate and send debug logs to you by tapping Error report in the top-right corner of the\n",
      "screen. ##History The History tab shows historical information about how the device's battery was\n",
      "used, spanning the last 14 days. An entry is logged every time the battery charge increases, and\n",
      "includes the following data points: Date, Timestamp, Battery percentage, In and out amperage,\n",
      "Battery voltage, Charger plug, Charge type, Time until fully charged The device user can tap and\n",
      "hold an entry, then tap Remove data to hide that entry. Note that any entries deleted this way can't\n",
      "be restored. To see more battery usage information from the last 7 days, the user can also tap\n",
      "Settings (gear icon) in the top right corner to view the following additional options: Battery usage\n",
      "trend takes the user directly to Device care in the device settings. Share with your admin allows\n",
      "users to upload a log file - containing the battery's charging history - to the Knox Asset\n",
      "Intelligence console for further analysis. The log file contains the following information: Date -\n",
      "The date that the log was created , Timestamp - The time the log event occurred. Battery charge (%)\n",
      "- The battery charge percentage at the time of log creation. In and out Amperage (mA) - The battery\n",
      "current/amperage (in milliamps) measured at each log event. Negative values indicate battery\n",
      "discharging, while positive values indicate battery charging. Battery Voltage (mV) - the battery\n",
      "voltage level at time of log event , Charger Plug - the type of plug used to charge the battery at\n",
      "time of event. Available options: AC - battery was plugged in to a wall charger. Wireless - battery\n",
      "was plugged in to a wireless charger (charging station). USB - battery was plugged in to a\n",
      "computer's USB port. Pogo - device was plugged in to a charging dock with a Pogo connection (Android\n",
      "13 and higher) , N/A - Device was not plugged in. Charge Type - the type of charge occurring on the\n",
      "battery at time of log event: USB - device was charging through USB power. Normal - device was\n",
      "charging at a normal charge rate through AC power. FAST (AFC) - device was charging at a fast rate\n",
      "using Samsung's Adaptive Fast Charge technology\n",
      "metadata:\n",
      " {'source': 'all_processed_data.json', 'seq_num': 292, 'title': 'Use the agent app', 'url':\n",
      "'https://docs.samsungknox.com/admin/knox-asset-intelligence/how-to-guides/use-the-agent-app',\n",
      "'project': 'KAI', 'last_updated': '2023-09-06', 'family_tree': 'parent', 'parent_id': None,\n",
      "'orig_elements': ''}\n",
      "\n",
      "-----------------------------------------------\n",
      "3. Chunk: 4089 Characters\n",
      "-----------------------------------------------\n",
      ". To upload a video file, click Add and select a file. To delete a video file, click next to the\n",
      "name of the uploaded video file. Note The device control command must be transferred to the device\n",
      "to apply a video to it. &gt; Session timeout Allows the use of the session timeout feature for the\n",
      "Kiosk Browser. If the user does not use the device for a set time, the device deletes user\n",
      "information, such as the cache and cookies, in the device Kiosk Browser and goes to the main page\n",
      "URL. Apply &mdash; Enable the session timeout feature for the browser. &gt;&gt; Time (sec) Set the\n",
      "session timeout in seconds for the Kiosk Browser. The value must be between 10, 3600 seconds. The\n",
      "default value is 1800 seconds. &gt; Text Copy Allows the copying of text strings in the Kiosk\n",
      "Browser. &gt; Javascript Allows the running of the JavaScript contained in websites. &gt; Http Proxy\n",
      "Allows the use of an HTTP proxy for communications in the Kiosk Browser. &gt;&gt; IP/Domain:Port Set\n",
      "the HTTP proxy server IP or domain address, and Port. When not entered, the Port number is\n",
      "automatically set to 80. &gt; User agent settings key value Set the key value to be added to the\n",
      "user agent. Allow the Kiosk Browser to access the Web server and the user agent key values contained\n",
      "in the HTTP header. User agent key settings can be used to detect access to non-Kiosk Browsers on\n",
      "the web server. &gt; File Upload Allows the user to upload files to websites through the Kiosk\n",
      "Browser. Disallow is the default value. Delete Kiosk app when policy is removed Allows deleting\n",
      "applications along with policies from the device when the applied policy is deleted. Samsung Knox\n",
      "1.0 and higher Task manager Allows the use of the Task Manager. Note You can use the function to\n",
      "disable the hardware key on SDK 2.5 or later. Samsung Knox 1.0&ndash;2.4 and higher System bar Use\n",
      "the System bar which refers to the Status bar in the Notifications area at the top of the device and\n",
      "the Navigation bar in the Buttons area at the bottom. For non-Samsung devices, irrespective of\n",
      "whether you select Allow status bar only or Allow navigation bar only, both the status bar and the\n",
      "navigation bar are disabled. Samsung Knox 1.0 and higher Prohibit hardware key Allows the use of the\n",
      "hardware keys. Samsung Knox 1.0 and higher &gt; Disallow hardware keys Select hardware keys to\n",
      "disable. The availability of Hardware keys can vary by device. If you do not allow the use of the\n",
      "Task Manager, then it does not run, even if the user tries to activate it by tapping the left menu\n",
      "key in the Navigation bar at the bottom of the device. Samsung Knox 1.0 and higher Multi windows\n",
      "Allows the use of multiple windows. This feature is available for devices that provide the\n",
      "functionality of multiple windows. Samsung Knox 1.0 and higher Air command Allows the use of Air\n",
      "command. Air command is a function provided on Samsung devices. Menu items show on the screen appear\n",
      "when the user brings an S pen close to the screen. Samsung Knox 2.2 and higher Air view Allows the\n",
      "use of Air view. Air view is a function provided on Samsung devices. Users can preview a picture or\n",
      "email when they bring the S pen or finger close to the picture or other content. Samsung Knox 2.2\n",
      "and higher Edge screen Allows the use of the Edge screen of the device. The Edge screen allows users\n",
      "to create shortcuts on the edges of the screen panel to frequently used applications, favorite\n",
      "contacts, or the camera. Samsung Knox 2.5 and higher Application Configures options for application\n",
      "controls such as installation, verification, and permission. Policy Description Supported system\n",
      "Installation of application from untrusted sources Allows the installation of applications from\n",
      "untrusted sources instead of just the Google Play Store. Note Android 8 and higher is supported for\n",
      "Knox Workspace devices. Samsung Knox 1.0 and higher Play Store Allows the use of the Google Play\n",
      "Store. Samsung Knox 1.0 and higher YouTube Allows the use of YouTube. Samsung Knox 1.0 and higher\n",
      "App Installation Block/Allowlist Setting Set to control the app installation policies\n",
      "metadata:\n",
      " {'source': 'all_processed_data.json', 'seq_num': 894, 'title': 'Android Legacy policies', 'url':\n",
      "'https://docs.samsungknox.com/admin/knox-manage/configure/profile/configure-profile-\n",
      "policies/android-legacy-policies', 'project': 'KM', 'last_updated': '2023-07-26', 'family_tree':\n",
      "'parent', 'parent_id': None, 'orig_elements': ''}\n",
      "\n",
      "-----------------------------------------------\n",
      "4. Chunk: 4056 Characters\n",
      "-----------------------------------------------\n",
      "Portal-side errors. The following errors could occur when using Knox Configure admin console. This\n",
      "section of the guide helps you identify the cause of error and recommends troubleshooting tips to\n",
      "assist you in resolving the error. General portal related errors Portal related errors can occur\n",
      "when registering devices, profiles and apps using the Knox Configure admin console. Possible system\n",
      "errors could occur as a result of the following: Invalid file formats, exceeding the maximum file\n",
      "size, invalid/missing entries, or invalid URLs. Code Cause of Error Troubleshoot 4000013 The CSV\n",
      "file header is invalid. Ensure the CSV file header uploading doesn't have any forbidden characters.\n",
      "Try the following: In Knox Configure, go to Actions &gt; Upload devices. Under the Device list file\n",
      "field, click Download sample CSV file. Enter your device information in the sample file with the\n",
      "default headings. Save and try uploading the CSV file again. 4000014 The CSV file is empty. Ensure\n",
      "the CSV file uploading is not empty. 4000414 The EULA is invalid. A system error occurred. Refresh\n",
      "the page and load the EULA again. If the problem persists, contact Samsung. 4002009 EULA is already\n",
      "agreed to. The end user has already accepted the End User License Agreement (EULA). Do not prompt\n",
      "users to accept the EULA again. Failed to upload file. A system error occurred. Try to upload the\n",
      "file again. If the problem persists, contact Samsung. An app with this name already exists. Ensure\n",
      "the name of the app you are uploading does not already exist in Knox Configure. Re-name the app if\n",
      "necessary. Invalid APK version name. Invalid APK version name. Please change the version name and\n",
      "try uploading again. 4090001 File too large. Max 4000 devices allowed per upload. Try splitting the\n",
      "device upload list to reduce the size of .csv you are uploading. Note that there is a max of 4000\n",
      "devices allowed per upload. 4150000 File type is not supported. The file you are trying to upload is\n",
      "not supported. Knox Configure only accepts .csv files. App name cannot contain special characters.\n",
      "Rename the app so it does not contain any special or forbidden characters. App version is invalid.\n",
      "An app you are trying to upload is invalid. Verify that the version you're attempting to upload is\n",
      "correct. Try to re-upload the app again. CSV file is required. A system error occurred. Verify that\n",
      "you've attached a .csv file, try to re-attach the .csv and upload it again. If the problem persists,\n",
      "contact Samsung. 4040105 No CAPTCHA code entered. No CAPTCHA code was entered. Carefully enter the\n",
      "CAPTCHA code and submit. 4004001 The email agreeing to the Customer Terms is invalid. Verify the\n",
      "email entered is correct, refresh the page and try again. 4000113 The CAPTCHA code is incorrect. The\n",
      "CAPTCHA code is incorrect. Carefully re-enter the CAPTCHA code again and submit. 4042006 The tag\n",
      "already exists. A system error occurred. The profile tag entered is a duplicate, enter a different\n",
      "tag. If the problem persists, contact Samsung. 40001 The URL is not valid. Verify the URL entered is\n",
      "correct, refresh the page and try again. If the problem persists, contact Samsung. 4043 The\n",
      "activation status of the client is invalid. A system error occurred. If the problem persists,\n",
      "contact Samsung. Device related errors Device related portal errors can occur when registering\n",
      "devices using the Knox Configure admin console. Possible system errors could occur as a result of\n",
      "invalid or duplicate devices in the CSV file, invalid IMEIs/SNs, duplicate device uploads and\n",
      "unverified device uploads. Code Cause of Error Troubleshoot 0 Failed to register device. A system\n",
      "error occurred. Try to register the devices again. If the problem persists, contact Samsung. 4042000\n",
      "The device(s) could not be found. A system error occurred. Try to re-upload the devices again. If\n",
      "the problem persists, contact Samsung. 4041401 The device was not found. A system error occurred.\n",
      "Try to register the devices again. If the problem persists, contact Samsung 4002004 Invalid or\n",
      "duplicate devices detected\n",
      "metadata:\n",
      " {'source': 'all_processed_data.json', 'seq_num': 433, 'title': 'Portal-side errors', 'url':\n",
      "'https://docs.samsungknox.com/admin/knox-configure/knox-configure-wearables/troubleshoot/portal-\n",
      "side-errors', 'project': 'KC', 'last_updated': '2023-07-26', 'family_tree': 'parent', 'parent_id':\n",
      "None, 'orig_elements': ''}\n",
      "\n",
      "-----------------------------------------------\n",
      "5. Chunk: 4030 Characters\n",
      "-----------------------------------------------\n",
      "DeX. The available DeX policies include: Basic policy controls - These standard controls allow you\n",
      "to perform simple actions, such as enable or disable DeX. These policies are listed under DO > DeX\n",
      "policy > Manage DeX restrictions. Customization controls - These additional customization options\n",
      "allow you to change the DeX setup and user experience. Use of these policies requires a free Knox\n",
      "Platform for Enterprise Premium license. Enable DeX The process to enable DeX is simple and only\n",
      "requires you to turn on a few policies as follows: 1. In your supported UEM, under the Device-wide\n",
      "policies (Device Owner) category turn on Enable device policy controls. 2. Enable DeX policy. 3.\n",
      "Under Manage DeX Restrictions, enable Allow DeX connection. 4. In your UEM, save the profile and\n",
      "push it to a device. To disable DeX, simply turn off Allow DeX connection, as shown in the previous\n",
      "example. Enable DeX with basic customization This example shows you how to enable DeX so it auto-\n",
      "launches and sets a specific screen timeout. Note that all DeX customization policies require a free\n",
      "Knox Platform for Enterprise Premium license. 1. In your supported UEM, under the Device-wide\n",
      "policies (Device Owner) category turn on Enable device policy controls. 2. Enable DeX policy. 3.\n",
      "Under Manage DeX Restrictions, enable Allow DeX connection. 4. Under DeX customization profile,\n",
      "enable Auto-start DeX on HDMI connection. 5. Under DeX customization profile, find Set screen\n",
      "timeout and input your desired value. 6. Under DeX customization profile, disable Allow screen\n",
      "timeout change. 7. The device now launches DeX automatically when it is plugged in to an HDMI cable.\n",
      "8. Once the device is connected to DeX, a Display resolution screen displays. Select a single\n",
      "resolution value for the connected display. Unselected display options will be greyed out and\n",
      "unavailable. Keep in mind, changing the resolution makes displayed windows, text and other items\n",
      "appear small or larger. Options include, WQHD (2560 x 1440), FHD (1920 x 1080) _recommended\n",
      "setting_, HD+ (1600 x 900), WQXGA (2560 x 1600), WUXGA (1920 x 1200), or UWQHD (3440 x 1440). Select\n",
      "Done to commit the selected display setting. If the display resolution provided is not supported,\n",
      "then FHD (1920 x 1080) is selected by default and non-supported resolutions are greyed out in the\n",
      "DeX Display resolution screen. Industry example This example configures a tablet in DeX mode, so a\n",
      "bank employee can use it to help customers with day to day operations. For example opening a new\n",
      "account or checking account balances. In this use case, DeX is used as a dedicated employee work\n",
      "station and the bank can slowly phase out older, single-purpose computer terminals. These\n",
      "instructions do not apply to any specific UEM. Refer to your UEM documentation for specific\n",
      "instructions on menu structure and navigation. 1. In your supported UEM, under the Device-wide\n",
      "policies (Device Owner) category turn on Enable device policy controls. 2. Under DeX Policy, turn on\n",
      "Enable DeX policy controls. 3. Under Manage DeX Restrictions, enable Allow DeX connection. 4. Under\n",
      "Manage DeX Restrictions, enable Customize DeX Experience. 5. Set the DeX profile name to an\n",
      "appropriate value. For example, the following image shows a profile called Bank Terminal. 6. Under\n",
      "DeX customization profile, type the name of the DeX Profile you set in the previous step. In this\n",
      "example, it is Bank Terminal 7. Under DeX customization profile, enable DeX Auto Start on HDMI\n",
      "connection This setting minimizes potential troubleshooting for employees and can reduce IT\n",
      "overhead. If a device is unplugged, setting up the bank terminal again is as simple as plugging the\n",
      "device back in to an HDMI cable. 8. Under DeX customization profile, enable Disable buttons on the\n",
      "DeX panel. Select the buttons you want to disable. For example, selecting Exit DeX button prevents\n",
      "users from exiting the bank terminal and using the device for other purposes. 9. Under DeX\n",
      "customization profile, turn on Skip overscan detection screen\n",
      "metadata:\n",
      " {'source': 'all_processed_data.json', 'seq_num': 1225, 'title': 'DeX', 'url':\n",
      "'https://docs.samsungknox.com/admin/knox-platform-for-enterprise/knox-service-plugin/configure-\n",
      "advanced-policies/dex', 'project': 'KSP', 'last_updated': '2023-07-26', 'family_tree': 'parent',\n",
      "'parent_id': None, 'orig_elements': ''}\n",
      "\n",
      "-----------------------------------------------\n",
      "6. Chunk: 4080 Characters\n",
      "-----------------------------------------------\n",
      ". When you search for a user using the filter set for the connector, the user certificate (.p12 or\n",
      ".pfx) corresponding to the obtained user information is applied along with a profile, allowing you\n",
      "to use this certificate to verify the user. User certificate Connector &mdash; Select a connector to\n",
      "use from the User certificate Connector list. &gt; Issuing External CA Register a certificate\n",
      "obtained from an external certificate authority to Advanced&gt; Certificate &gt; Certificate\n",
      "Template. Then, you register a certificate template for each network setting, and verify it as a\n",
      "user certificate. To learn more about how to add an external certificate, see Adding external\n",
      "certificates. Issuing external CA &mdash; Select an external CA to use from the Issuing external CA\n",
      "list. Sync calendar Syncs schedules on a calendar from a server to a device. Sync contacts Syncs\n",
      "contact information in a phone book from a server to a device. Sync task Syncs tasks items from a\n",
      "server to a device. Sync notes Syncs notes from a server to a device. SSL Set to use SSL for email\n",
      "encryption. Note If Office365 setting is used, the SSL option is automatically set to Use. Signature\n",
      "Enter the email signature to use. Notification Notifies the user of new emails. Always vibrate on\n",
      "notification Notifies the user of new emails with a vibration. Silent notification Mutes email\n",
      "notifications. Note Always vibrate on notification and Silent notification cannot be used at the\n",
      "same time. Attachments capacity (byte) Enter the email attachment file size limit in bytes.The input\n",
      "value ranges from 1 to 52428800 (50MB). Maximum Size of Email Body (Kbyte) Select a maximum value\n",
      "for the email body size. This is only set once during the initial Exchange ActiveSync setup. &gt;\n",
      "Default Size of Email Body (Kbyte) Select the default value of the email body size. Note Select the\n",
      "setting after the Maximum Size of Email Body (Kbyte) setting. Email Account Configures the settings\n",
      "of a POP or IMAP email account. Click !add to add a configuration. You can add or edit up to 20\n",
      "configurations when you save the profile. Policy Description Configuration ID Assign a unique ID for\n",
      "each email account setting. Description Enter a description for each email account setting. Remove\n",
      "available Allows users to delete the email account settings in Knox Workspace. Default Account\n",
      "Specifies to usage of the default account. User Information input method Select an input method for\n",
      "entering user information. &gt; Manual Input Select this to enter the email address manually. You\n",
      "can also enter the incoming server ID, incoming server password, outgoing server ID, and outgoing\n",
      "server password for the email connection.You can also click Lookup to open the reference items list\n",
      "and select an item from it. The reference value will be entered automatically. &gt; Connector\n",
      "interworking Select a connector from the user information connector. Note The connectors are listed\n",
      "in Advanced &gt; System Integration &gt; Directory Connector. &gt; User Information Select to access\n",
      "the relevant mail server using the registered Knox Manage email, ID, and password. The password must\n",
      "be entered from the user's device. Incoming Server Protocol Select between the POP3 (pop3) and IMAP\n",
      "(imap) protocol. Outgoing Server Protocol Entered automatically as SMTP. Incoming Server\n",
      "Address/port Enter the Incoming Server address/port in a provided format. Outgoing Server\n",
      "Address/port Enter the outgoing server address in a provided format. Incoming Server ID Enter an\n",
      "incoming server ID to sign in to the incoming mail server manually. This protocol is only available\n",
      "when Manual Input is selected.You can also click Lookup to open the reference items list and select\n",
      "an item from it. The reference value will be entered automatically. Outgoing Server ID Enter an\n",
      "outgoing server ID to sign in to the outgoing mail server manually. This protocol is only available\n",
      "when Manual Input is selected.You can also click Lookup to open the reference items list and select\n",
      "an item from it. The reference value will be entered automatically\n",
      "metadata:\n",
      " {'source': 'all_processed_data.json', 'seq_num': 899, 'title': 'Knox Workspace (Android Legacy)\n",
      "policies', 'url': 'https://docs.samsungknox.com/admin/knox-manage/configure/profile/configure-\n",
      "profile-policies/knox-workspace-android-legacy-policies', 'project': 'KM', 'last_updated':\n",
      "'2023-07-26', 'family_tree': 'parent', 'parent_id': None, 'orig_elements': ''}\n"
     ]
    }
   ],
   "source": [
    "print(\"##################################\")\n",
    "print(\"query: \", query)\n",
    "print(\"##################################\")\n",
    "\n",
    "print (colored(\"\\n\\n### Answer ###\", \"blue\"))\n",
    "print_ww(response)\n",
    "\n",
    "print (colored(\"\\n\\n### Contexts ###\", \"green\"))\n",
    "show_context_used(contexts)"
   ]
  }
 ],
 "metadata": {
  "kernelspec": {
   "display_name": "conda_python3",
   "language": "python",
   "name": "conda_python3"
  },
  "language_info": {
   "codemirror_mode": {
    "name": "ipython",
    "version": 3
   },
   "file_extension": ".py",
   "mimetype": "text/x-python",
   "name": "python",
   "nbconvert_exporter": "python",
   "pygments_lexer": "ipython3",
   "version": "3.10.14"
  },
  "vscode": {
   "interpreter": {
    "hash": "4b8e647a79df62bf31906a725b05de775d285962ac600487339d38c51a5c07b1"
   }
  }
 },
 "nbformat": 4,
 "nbformat_minor": 5
}
