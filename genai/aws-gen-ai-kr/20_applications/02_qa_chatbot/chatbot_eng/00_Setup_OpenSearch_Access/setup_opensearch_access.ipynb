{
 "cells": [
  {
   "cell_type": "markdown",
   "id": "466ff25a-fb52-4200-9fd1-65aa8d81d68c",
   "metadata": {},
   "source": [
    "# OpenSearch Access Setting"
   ]
  },
  {
   "cell_type": "markdown",
   "id": "0ae1ea41-92c7-4dc2-8dfa-36585c36d1a5",
   "metadata": {},
   "source": [
    "## Prerequisites\n",
    "- For this hands-on exercise, the role (Role) executing the notebook must have the following permissions added.\n",
    "    - AmazonOpenSearchServiceFullAccess\n",
    "    - AmazonSSMFullAccess\n",
    "- Amazon OpenSearch's domain had to be created and id/pw was stored in AWS Secret Manager"
   ]
  },
  {
   "cell_type": "markdown",
   "id": "2b5787ac-54cc-4a5e-8f99-86f7a5e3a066",
   "metadata": {},
   "source": [
    "### Load library"
   ]
  },
  {
   "cell_type": "code",
   "execution_count": null,
   "id": "b7ccaebc-1f3b-4da4-92bd-565bc0d4f7b8",
   "metadata": {
    "tags": []
   },
   "outputs": [],
   "source": [
    "%load_ext autoreload\n",
    "%autoreload 2"
   ]
  },
  {
   "cell_type": "code",
   "execution_count": null,
   "id": "2827ad26-7798-4ca1-a11e-b1cf57863c78",
   "metadata": {
    "tags": []
   },
   "outputs": [],
   "source": [
    "import sys, os\n",
    "module_path = \"../../../..\"\n",
    "sys.path.append(os.path.abspath(module_path))"
   ]
  },
  {
   "cell_type": "code",
   "execution_count": null,
   "id": "689e69ed-57fc-44ae-a65d-001930e6e2bb",
   "metadata": {
    "tags": []
   },
   "outputs": [],
   "source": [
    "import boto3\n",
    "import uuid\n",
    "import botocore\n",
    "import time"
   ]
  },
  {
   "cell_type": "code",
   "execution_count": null,
   "id": "7107e2ff-6369-4a13-abfb-b56c3955db9c",
   "metadata": {
    "tags": []
   },
   "outputs": [],
   "source": [
    "from utils.ssm import parameter_store"
   ]
  },
  {
   "cell_type": "markdown",
   "id": "904c520a-896b-437f-9c6d-08efc55efe75",
   "metadata": {},
   "source": [
    "### Extract id and pw from AWS Secret Manager"
   ]
  },
  {
   "cell_type": "code",
   "execution_count": null,
   "id": "012f2797-26ee-41ff-843b-2b15bfc69ecb",
   "metadata": {
    "tags": []
   },
   "outputs": [],
   "source": [
    "secrets_manager = boto3.client(\"secretsmanager\")\n",
    "response = secrets_manager.get_secret_value(\n",
    "    SecretId = 'opensearch_user_password'\n",
    ")\n",
    "secrets_string = response.get('SecretString')\n",
    "secrets_dict = eval(secrets_string)\n",
    "\n",
    "opensearch_user_id = secrets_dict['es.net.http.auth.user']\n",
    "opensearch_user_password = secrets_dict['pwkey']\n"
   ]
  },
  {
   "cell_type": "markdown",
   "id": "76ff479c-88b0-4b45-8edd-d567d1152166",
   "metadata": {},
   "source": [
    "### Obtain opensearch_domain_endpoint from OpenSearch Console"
   ]
  },
  {
   "cell_type": "code",
   "execution_count": null,
   "id": "6fe63d5a-842f-4374-a434-d5a895d762de",
   "metadata": {
    "tags": []
   },
   "outputs": [],
   "source": [
    "opensearch_domain_endpoint =  \"Paste domain url from OpenSearch Console\"\n",
    "opensearch_domain_endpoint = \"https://search-rag-hol-mydomain-ehghqwhortwcjrvsk2tmj3edce.us-west-2.es.amazonaws.com\"\n"
   ]
  },
  {
   "cell_type": "markdown",
   "id": "d568e41a-bd7b-406a-b227-7e4745e4a0b3",
   "metadata": {},
   "source": [
    "### Store id, pw, opensearch_domain_endpoint into parameter store"
   ]
  },
  {
   "cell_type": "code",
   "execution_count": null,
   "id": "d0f85455-908b-415c-92c7-c2e4cebde6fb",
   "metadata": {
    "tags": []
   },
   "outputs": [],
   "source": [
    "# 2. Store OpenSearch authentication information in SSM\n",
    "\n",
    "region=boto3.Session().region_name\n",
    "pm = parameter_store(region)\n",
    "\n",
    "pm.put_params(\n",
    "    key=\"opensearch_domain_endpoint\",\n",
    "    value=f'{opensearch_domain_endpoint}',\n",
    "    overwrite=True,\n",
    "    enc=False\n",
    ")\n",
    "\n",
    "pm.put_params(\n",
    "    key=\"opensearch_user_id\",\n",
    "    value=f'{opensearch_user_id}',\n",
    "    overwrite=True,\n",
    "    enc=False\n",
    ")\n",
    "\n",
    "pm.put_params(\n",
    "    key=\"opensearch_user_password\",\n",
    "    value=f'{opensearch_user_password}',\n",
    "    overwrite=True,\n",
    "    enc=True\n",
    ")\n"
   ]
  },
  {
   "cell_type": "code",
   "execution_count": null,
   "id": "f6beecf3-d556-4fcd-af9c-ec327e0a63e9",
   "metadata": {
    "tags": []
   },
   "outputs": [],
   "source": [
    "print (pm.get_params(key=\"opensearch_domain_endpoint\", enc=False))\n",
    "print (pm.get_params(key=\"opensearch_user_id\", enc=False))\n",
    "print (pm.get_params(key=\"opensearch_user_password\", enc=True))"
   ]
  },
  {
   "cell_type": "code",
   "execution_count": null,
   "id": "fc7aba1f-2446-4a01-8546-01ba65f91c2c",
   "metadata": {},
   "outputs": [],
   "source": []
  },
  {
   "cell_type": "code",
   "execution_count": null,
   "id": "73f37ef4-2038-4cb2-b976-59d91a47937f",
   "metadata": {},
   "outputs": [],
   "source": []
  }
 ],
 "metadata": {
  "kernelspec": {
   "display_name": "conda_python3",
   "language": "python",
   "name": "conda_python3"
  },
  "language_info": {
   "codemirror_mode": {
    "name": "ipython",
    "version": 3
   },
   "file_extension": ".py",
   "mimetype": "text/x-python",
   "name": "python",
   "nbconvert_exporter": "python",
   "pygments_lexer": "ipython3",
   "version": "3.10.14"
  }
 },
 "nbformat": 4,
 "nbformat_minor": 5
}
