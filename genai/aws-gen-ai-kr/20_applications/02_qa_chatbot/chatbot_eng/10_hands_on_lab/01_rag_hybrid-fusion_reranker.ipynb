{
 "cells": [
  {
   "cell_type": "markdown",
   "id": "631380ad-0e36-43b7-961d-09f26460afe7",
   "metadata": {},
   "source": [
    "# **RAG - Based on `hybrid-fusion`,`parent-doc` and `reranker`**\n",
    "-----"
   ]
  },
  {
   "cell_type": "markdown",
   "id": "60af98b9-fe32-4992-b05f-3ec1ab8c0f25",
   "metadata": {},
   "source": [
    "## **`0. Env. Setting - Setting up the environment needed for hands-on`**\n",
    "--- "
   ]
  },
  {
   "cell_type": "markdown",
   "id": "8a343bf2-38a1-4092-aba6-8f334a3ec612",
   "metadata": {},
   "source": [
    "### 0.1 Amazon OpenSearch - Set up Amazon OpenSearch for lexical and semantic search.\n",
    "- #### [setup_opensearch_access.ipynb](../00_Setup_OpenSearch_Access/setup_opensearch_access.ipynb)"
   ]
  },
  {
   "cell_type": "markdown",
   "id": "932d9ef6-f929-4c8e-b306-87498f54b9bf",
   "metadata": {},
   "source": [
    "## **`2. Preprocessing - document manipulation.`**\n",
    "---"
   ]
  },
  {
   "cell_type": "markdown",
   "id": "4dea8d64-d07e-4381-8964-78560af955a5",
   "metadata": {},
   "source": [
    "### 2.1 Exploring data and performing Amazon OpenSearch indexing. \n",
    "- [03_0_load_json_en_parent_child_opensearch.ipynb](../01_preprocess_docs/03_0_load_json_en_parent_child_opensearch.ipynb)\n",
    "\n",
    "     "
   ]
  },
  {
   "cell_type": "markdown",
   "id": "c646141b-eb33-4f93-8e82-7374ae531f62",
   "metadata": {
    "tags": []
   },
   "source": [
    "## **`3. RAG - Practice RAG-based search.`**\n",
    "---"
   ]
  },
  {
   "cell_type": "markdown",
   "id": "5b3fa58b-2170-4bcb-83d6-5205163f67cc",
   "metadata": {},
   "source": [
    "### 3.3 Hybrid-fusion + Reranker + Parent document\n",
    "- #### [05_rag_parent_document.ipynb](../02_rag/05_rag_parent_document.ipynb)"
   ]
  },
  {
   "cell_type": "markdown",
   "id": "b5035096-320e-4765-b009-b2e3c4189b73",
   "metadata": {},
   "source": [
    "## **`4. Application`**\n",
    "---"
   ]
  },
  {
   "cell_type": "markdown",
   "id": "cc4f5e20-e2fa-4525-a41f-f2c345b64067",
   "metadata": {},
   "source": [
    "### 4.1 Bedrock.py - Application Back-end\n",
    "- #### [04_web_ui/bedrock.py](../04_web_ui/bedrock.py)"
   ]
  },
  {
   "cell_type": "markdown",
   "id": "dacd4c75",
   "metadata": {},
   "source": [
    "### 4.2 Streamlit.py - Application Front-end\n",
    "- #### [04_web_ui/streamlit.py](../04_web_ui/streamlit.py)"
   ]
  }
 ],
 "metadata": {
  "kernelspec": {
   "display_name": "conda_python3",
   "language": "python",
   "name": "conda_python3"
  },
  "language_info": {
   "codemirror_mode": {
    "name": "ipython",
    "version": 3
   },
   "file_extension": ".py",
   "mimetype": "text/x-python",
   "name": "python",
   "nbconvert_exporter": "python",
   "pygments_lexer": "ipython3",
   "version": "3.10.14"
  }
 },
 "nbformat": 4,
 "nbformat_minor": 5
}
