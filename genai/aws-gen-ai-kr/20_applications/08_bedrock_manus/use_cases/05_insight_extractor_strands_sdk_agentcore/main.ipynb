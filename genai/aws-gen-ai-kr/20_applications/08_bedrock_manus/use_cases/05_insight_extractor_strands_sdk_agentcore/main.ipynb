{
 "cells": [
  {
   "cell_type": "code",
   "execution_count": 1,
   "id": "8daa2248-2979-43f7-a945-85784fb716a0",
   "metadata": {
    "tags": []
   },
   "outputs": [],
   "source": [
    "%load_ext autoreload\n",
    "%autoreload 2"
   ]
  },
  {
   "cell_type": "code",
   "execution_count": 8,
   "id": "def70031",
   "metadata": {},
   "outputs": [
    {
     "name": "stdout",
     "output_type": "stream",
     "text": [
      "Overwriting .env\n"
     ]
    }
   ],
   "source": [
    "%%writefile .env\n",
    "\n",
    "TAVILY_API_KEY = your_key\n",
    "JINA_API_KEY = your_key\n",
    "CHROME_INSTANCE_PATH = /Applications/Google Chrome.app/Contents/MacOS/Google Chrome\n",
    "BROWSER_HEADLESS=False\n"
   ]
  },
  {
   "cell_type": "code",
   "execution_count": 9,
   "id": "12c20d61",
   "metadata": {},
   "outputs": [],
   "source": [
    "import sys\n",
    "from src.workflow import run_agent_workflow"
   ]
  },
  {
   "cell_type": "code",
   "execution_count": null,
   "id": "8e915a3c-bb0d-4d3d-88cf-bfa0b61e8f9f",
   "metadata": {
    "tags": []
   },
   "outputs": [],
   "source": [
    "user_query = '''\n",
    "    I would like to analyze Amazon product sales data.\n",
    "    The target for analysis is the './data/Amazon_Sale_Report.csv' file.\n",
    "    Please conduct an analysis to extract marketing insights based on this data.\n",
    "    Please perform various analytical techniques starting from basic data attribute exploration, product sales trends, variable relationships, variable combinations, etc.\n",
    "    If there are any additional analyses needed to extract insights after the data analysis, please perform those as well.\n",
    "    Please include detailed analysis in the report along with supporting images and charts.\n",
    "    Please save the final report in PDF format.\n",
    "'''\n",
    "\n",
    "user_query = '''\n",
    "    이것은 아마존 상품판매 데이터를 분석하고 싶습니다.\n",
    "    분석대상은 \"./data/Amazon_Sale_Report.csv\" 파일 입니다.\n",
    "    데이터를 기반으로 마케팅 인사이트 추출을 위한 분석을 진행해 주세요.\n",
    "    분석은 기본적인 데이터 속성 탐색 부터, 상품 판매 트렌드, 변수 관계, 변수 조합 등 다양한 분석 기법을 수행해 주세요.\n",
    "    데이터 분석 후 인사이트 추출에 필요한 사항이 있다면 그를 위한 추가 분석도 수행해 주세요.\n",
    "    분석 리포트는 상세 분석과 그 것을 뒷받침 할 수 있는 이미지 및 차트를 함께 삽입해 주세요.\n",
    "    최종 리포트는 pdf 형태로 저장해 주세요.\n",
    "'''\n",
    "\n",
    "#user_query = \"안녕 나는 장동진이야\"\n",
    "#user_query = '''\n",
    "#    이것은 아마존 상품판매 데이터를 분석하고 싶습니다. 분석대상은 \"./data/Amazon_Sale_Report.csv\" 파일 입니다. 데이터를 기반으로 마케팅 인사이트 추출을 위한 분석을 진행해 주세요. 분석은 간단하게 1개정도만 해 주세요. 코드 테스트 중이거든요 데이터 분석 후 인사이트 추출에 필요한 사항이 있다면 그를 위한 추가 분석도 수행해 주세요. 분석 리포트는 상세 분석과 그 것을 뒷받침 할 수 있는 이미지 및 차트를 함께 삽입해 주세요. 최종 리포트는 pdf 형태로 저장해 주세요.\n",
    "#    '''\n",
    "\n",
    "# user_query = '''\n",
    "#     영문으로 작성된 pptx 파일을 한글로 변환하고 싶습니다.\n",
    "#     대상은 \"./data/bedrock.pptx\" 파일 입니다.\n",
    "#     슬라이드의 영문을 한글로 번역하고 슬라이드 structure는 유지해 주세요.\n",
    "# '''\n",
    "\n",
    "# user_query = '''\n",
    "#     주어진 프로젝트 소스코드는 \"Bedrock-Manus: AI automation framework optimized for Amazon Bedrock and business use cases 입니다.\"\n",
    "#     프로젝트 소스코드는 \"./data/08_bedrock_manus.tar.gz\" 파일 입니다.\n",
    "#     나는 Streamlit을 이용해서 이 소스코드에 대한 UI를 만들고 싶습니다. \n",
    "#     제가 원하는 요구사항은\n",
    "#     1. 현재 스텝이 무엇인지 (coodinator, supervisor, planner 등등) 보이는 곳이 있으면 좋겠습니다.\n",
    "#         - 스텝에 대한 자세한 정보는 \"./README.md\"를 참고하시면 됩니다. \n",
    "#     2. 각 스텝에서 진행되는 것이 보였으면 좋겠습니다. 즉, 각 스텝에서 llm이 생성하는 토큰들을 실시간으로 볼 수 있으면 좋겠습니다. \n",
    "#     3. \"app.py\" 파일만 생성하지 말고, 필요하다면 기존의 다른 파일 (workflow.py 등)들도  수정하세요. \n",
    "#     4. 수정된 파일은 모두 ./artifacts 에 넣어주세요.\n",
    "#     참고할 사항이 있습니다. \n",
    "#     1. 소스코드 수행은 \"main.py\"로 수행됩니다. \n",
    "#     2. \"./src/service/workflow_service.py\" 이 파일은 참고하지 마세요. \n",
    "\n",
    "#     UI 생성을 위한 프로젝트 코드를 작성해주세요\n",
    "#     결과물은 ./artifacts 에 넣어주세요.\n",
    "# '''\n",
    "\n",
    "# user_query = '''\n",
    "#     \"2025년 중국 가전 신제품 출시에 대한 리포트 작성해줘.\"\n",
    "# '''"
   ]
  },
  {
   "cell_type": "code",
   "execution_count": null,
   "id": "1bf1bef5",
   "metadata": {},
   "outputs": [
    {
     "name": "stderr",
     "output_type": "stream",
     "text": [
      "\n",
      "INFO [src.workflow] \u001b[92m===== Starting workflow =====\u001b[0m\n",
      "\n",
      "INFO [src.workflow] \u001b[92m\n",
      "user input: \n",
      "    이것은 아마존 상품판매 데이터를 분석하고 싶습니다.\n",
      "    분석대상은 \"./data/Amazon_Sale_Report.csv\" 파일 입니다.\n",
      "    데이터를 기반으로 마케팅 인사이트 추출을 위한 분석을 진행해 주세요.\n",
      "    분석은 기본적인 데이터 속성 탐색 부터, 상품 판매 트렌드, 변수 관계, 변수 조합 등 다양한 분석 기법을 수행해 주세요.\n",
      "    데이터 분석 후 인사이트 추출에 필요한 사항이 있다면 그를 위한 추가 분석도 수행해 주세요.\n",
      "    분석 리포트는 상세 분석과 그 것을 뒷받침 할 수 있는 이미지 및 차트를 함께 삽입해 주세요.\n",
      "    최종 리포트는 pdf 형태로 저장해 주세요.\n",
      "\u001b[0m\n",
      "\n",
      "INFO [src.graph.nodes] \u001b[92m===== Coordinator talking...... =====\u001b[0m\n",
      "\n",
      "INFO [src.utils.strands_sdk_utils] \u001b[92mCOORDINATOR - Prompt Cache Disabled\u001b[0m\n"
     ]
    },
    {
     "name": "stdout",
     "output_type": "stream",
     "text": [
      "'./artifacts/' 폴더가 존재하지 않습니다.\n",
      "\u001b[97mhan\u001b[0m\u001b[97mdoff_to_\u001b[0m\u001b[97mplanner: I\u001b[0m\u001b[97m'll need to cons\u001b[0m\u001b[97mult our planning system\u001b[0m\u001b[97m for this request.\u001b[0m\u001b[97m\n",
      "\n",
      "이\u001b[0m\u001b[97m 요청은\u001b[0m\u001b[97m 아마존\u001b[0m\u001b[97m 판\u001b[0m\u001b[97m매 데이\u001b[0m\u001b[97m터 분석과\u001b[0m\u001b[97m 관련된 복\u001b[0m\u001b[97m잡한 \u001b[0m\u001b[97m작업을\u001b[0m\u001b[97m 포함하고 \u001b[0m\u001b[97m있어\u001b[0m\u001b[97m 플\u001b[0m\u001b[97m래너 \u001b[0m\u001b[97m시스템의\u001b[0m\u001b[97m 도움이\u001b[0m\u001b[97m 필요합\u001b[0m\u001b[97m니다. \u001b[0m\u001b[97m데이터 분\u001b[0m\u001b[97m석,\u001b[0m\u001b[97m 시\u001b[0m\u001b[97m각화, PDF\u001b[0m\u001b[97m 리포트 생\u001b[0m\u001b[97m성 등 \u001b[0m\u001b[97m전문적인 \u001b[0m\u001b[97m작업이 요\u001b[0m\u001b[97m구되\u001b[0m\u001b[97m므로 플\u001b[0m\u001b[97m래너에게 이\u001b[0m\u001b[97m관하도록 하\u001b[0m\u001b[97m겠습니다\u001b[0m\u001b[97m.\u001b[0m"
     ]
    },
    {
     "name": "stderr",
     "output_type": "stream",
     "text": [
      "\n",
      "INFO [src.graph.nodes] \u001b[94m===== Coordinator updated shared global state with 5 keys =====\u001b[0m\n",
      "\n",
      "INFO [src.graph.nodes] \u001b[92m===== Coordinator completed task =====\u001b[0m\n",
      "\n",
      "INFO [src.graph.nodes] \u001b[92m===== Planner generating plan =====\u001b[0m\n",
      "\n",
      "INFO [src.graph.nodes] \u001b[94m===== Successfully retrieved shared state from global storage =====\u001b[0m\n",
      "\n",
      "INFO [src.utils.strands_sdk_utils] \u001b[92mPLANNER - Prompt Cache Enabled\u001b[0m\n"
     ]
    },
    {
     "name": "stdout",
     "output_type": "stream",
     "text": [
      "\u001b[95m사\u001b[0m\u001b[95m용자는\u001b[0m\u001b[95m Amazon\u001b[0m\u001b[95m_\u001b[0m\u001b[95mSale\u001b[0m\u001b[95m_Report\u001b[0m\u001b[95m.\u001b[0m\u001b[95mcsv\u001b[0m\u001b[95m 파일을\u001b[0m\u001b[95m 분\u001b[0m\u001b[95m석하고,\u001b[0m\u001b[95m 이\u001b[0m\u001b[95m를 기반\u001b[0m\u001b[95m으로 마\u001b[0m\u001b[95m케\u001b[0m\u001b[95m팅 인\u001b[0m\u001b[95m사이트를\u001b[0m\u001b[95m 추\u001b[0m\u001b[95m출하기\u001b[0m\u001b[95m \u001b[0m\u001b[95m위한 분\u001b[0m\u001b[95m석을\u001b[0m\u001b[95m 요\u001b[0m\u001b[95m청했습니\u001b[0m\u001b[95m다. 분\u001b[0m\u001b[95m석은\u001b[0m\u001b[95m 기\u001b[0m\u001b[95m본\u001b[0m\u001b[95m적인\u001b[0m\u001b[95m 데이터\u001b[0m\u001b[95m \u001b[0m\u001b[95m탐색부\u001b[0m\u001b[95m터 시작\u001b[0m\u001b[95m하여\u001b[0m\u001b[95m 판\u001b[0m\u001b[95m매 트\u001b[0m\u001b[95m렌드,\u001b[0m\u001b[95m 변\u001b[0m\u001b[95m수\u001b[0m\u001b[95m 관\u001b[0m\u001b[95m계, 변\u001b[0m\u001b[95m수 조\u001b[0m\u001b[95m합 등 \u001b[0m\u001b[95m다양한 \u001b[0m\u001b[95m기\u001b[0m\u001b[95m법\u001b[0m\u001b[95m을 활용\u001b[0m\u001b[95m해\u001b[0m\u001b[95m야 하\u001b[0m\u001b[95m며\u001b[0m\u001b[95m, 최\u001b[0m\u001b[95m종 \u001b[0m\u001b[95m결과물\u001b[0m\u001b[95m은\u001b[0m\u001b[95m PDF\u001b[0m\u001b[95m 형태\u001b[0m\u001b[95m의\u001b[0m\u001b[95m 리포트\u001b[0m\u001b[95m로 제공\u001b[0m\u001b[95m해야 합\u001b[0m\u001b[95m니다.\u001b[0m\u001b[95m\n",
      "\n",
      "이\u001b[0m\u001b[95m \u001b[0m\u001b[95m작\u001b[0m\u001b[95m업을\u001b[0m\u001b[95m 효\u001b[0m\u001b[95m과적으로\u001b[0m\u001b[95m 수행하\u001b[0m\u001b[95m기 위한\u001b[0m\u001b[95m 계\u001b[0m\u001b[95m획을\u001b[0m\u001b[95m 세\u001b[0m\u001b[95m워\u001b[0m\u001b[95m보\u001b[0m\u001b[95m겠습니다\u001b[0m\u001b[95m:\n",
      "\n",
      "1.\u001b[0m\u001b[95m 데이터\u001b[0m\u001b[95m 불\u001b[0m\u001b[95m러오기 \u001b[0m\u001b[95m및 기\u001b[0m\u001b[95m본\u001b[0m\u001b[95m \u001b[0m\u001b[95m탐색 \u001b[0m\u001b[95m-\u001b[0m\u001b[95m C\u001b[0m\u001b[95moder 담\u001b[0m\u001b[95m당\u001b[0m\u001b[95m\n",
      "   \u001b[0m\u001b[95m- CSV\u001b[0m\u001b[95m 파일 \u001b[0m\u001b[95m불러오기\u001b[0m\u001b[95m\n",
      "   - 데\u001b[0m\u001b[95m이터 구\u001b[0m\u001b[95m조\u001b[0m\u001b[95m 확\u001b[0m\u001b[95m인 \u001b[0m\u001b[95m(\u001b[0m\u001b[95m행\u001b[0m\u001b[95m/\u001b[0m\u001b[95m열 수,\u001b[0m\u001b[95m \u001b[0m\u001b[95m컬럼명\u001b[0m\u001b[95m, 데이\u001b[0m\u001b[95m터 타입\u001b[0m\u001b[95m 등)\u001b[0m\u001b[95m\n",
      "   - 기\u001b[0m\u001b[95m초\u001b[0m\u001b[95m \u001b[0m\u001b[95m통계량\u001b[0m\u001b[95m 계산\u001b[0m\u001b[95m\n",
      "   - 결\u001b[0m\u001b[95m측치\u001b[0m\u001b[95m/\u001b[0m\u001b[95m이\u001b[0m\u001b[95m상치 확\u001b[0m\u001b[95m인 \u001b[0m\u001b[95m및\u001b[0m\u001b[95m 처\u001b[0m\u001b[95m리\u001b[0m\u001b[95m\n",
      "   \u001b[0m\u001b[95m- 데\u001b[0m\u001b[95m이터 전\u001b[0m\u001b[95m처리 수\u001b[0m\u001b[95m행\u001b[0m\u001b[95m\n",
      "\n",
      "2. 데\u001b[0m\u001b[95m이터 시\u001b[0m\u001b[95m각화 및\u001b[0m\u001b[95m 분석 \u001b[0m\u001b[95m-\u001b[0m\u001b[95m Coder 담\u001b[0m\u001b[95m당 \u001b[0m\u001b[95m(\u001b[0m\u001b[95m1\u001b[0m\u001b[95m번\u001b[0m\u001b[95m과\u001b[0m\u001b[95m 통\u001b[0m\u001b[95m합)\n",
      "   \u001b[0m\u001b[95m- 판\u001b[0m\u001b[95m매 트\u001b[0m\u001b[95m렌드 분\u001b[0m\u001b[95m석 (시\u001b[0m\u001b[95m계열 분\u001b[0m\u001b[95m석)\u001b[0m\u001b[95m\n",
      "   - \u001b[0m\u001b[95m카\u001b[0m\u001b[95m테고리/\u001b[0m\u001b[95m제품별\u001b[0m\u001b[95m 판매 \u001b[0m\u001b[95m분\u001b[0m\u001b[95m석\n",
      "   -\u001b[0m\u001b[95m 변수 \u001b[0m\u001b[95m간\u001b[0m\u001b[95m 상\u001b[0m\u001b[95m관관계 \u001b[0m\u001b[95m분\u001b[0m\u001b[95m석\n",
      "   -\u001b[0m\u001b[95m 주\u001b[0m\u001b[95m요 성\u001b[0m\u001b[95m과 지\u001b[0m\u001b[95m표(\u001b[0m\u001b[95mK\u001b[0m\u001b[95mPI) 시\u001b[0m\u001b[95m각화\u001b[0m\u001b[95m\n",
      "   - 고\u001b[0m\u001b[95m급\u001b[0m\u001b[95m 분석 \u001b[0m\u001b[95m(예: \u001b[0m\u001b[95m세\u001b[0m\u001b[95m분화,\u001b[0m\u001b[95m 클\u001b[0m\u001b[95m러스터링\u001b[0m\u001b[95m, 예측\u001b[0m\u001b[95m 모\u001b[0m\u001b[95m델링\u001b[0m\u001b[95m \u001b[0m\u001b[95m등)\n",
      "\n",
      "3\u001b[0m\u001b[95m. 최\u001b[0m\u001b[95m종 보\u001b[0m\u001b[95m고서 작\u001b[0m\u001b[95m성 - Reporter\u001b[0m\u001b[95m 담당\u001b[0m\u001b[95m\n",
      "   - 분\u001b[0m\u001b[95m석 결과\u001b[0m\u001b[95m 정\u001b[0m\u001b[95m리\n",
      "   -\u001b[0m\u001b[95m 마\u001b[0m\u001b[95m케팅 \u001b[0m\u001b[95m인사이트\u001b[0m\u001b[95m 도출\u001b[0m\u001b[95m\n",
      "   - 시\u001b[0m\u001b[95m각\u001b[0m\u001b[95m적\u001b[0m\u001b[95m 자\u001b[0m\u001b[95m료 통\u001b[0m\u001b[95m합\u001b[0m\u001b[95m\n",
      "   - PDF\u001b[0m\u001b[95m 형태의\u001b[0m\u001b[95m 최\u001b[0m\u001b[95m종 보고\u001b[0m\u001b[95m서 생\u001b[0m\u001b[95m성\n",
      "\n",
      "각\u001b[0m\u001b[95m 단계별\u001b[0m\u001b[95m 세\u001b[0m\u001b[95m부 계획\u001b[0m\u001b[95m을 정\u001b[0m\u001b[95m리\u001b[0m\u001b[95m해보\u001b[0m\u001b[95m겠습니다\u001b[0m\u001b[95m:\n",
      "\n",
      "1단\u001b[0m\u001b[95m계와\u001b[0m\u001b[95m 2단계\u001b[0m\u001b[95m는 C\u001b[0m\u001b[95moder가\u001b[0m\u001b[95m 수\u001b[0m\u001b[95m행해야 \u001b[0m\u001b[95m하는\u001b[0m\u001b[95m 작업이\u001b[0m\u001b[95m므로 이\u001b[0m\u001b[95m를\u001b[0m\u001b[95m 통합하\u001b[0m\u001b[95m여 한 \u001b[0m\u001b[95m번의\u001b[0m\u001b[95m \u001b[0m\u001b[95mCoder 호\u001b[0m\u001b[95m출로 처\u001b[0m\u001b[95m리합니다\u001b[0m\u001b[95m. 이\u001b[0m\u001b[95m는 실\u001b[0m\u001b[95m행\u001b[0m\u001b[95m \u001b[0m\u001b[95m규\u001b[0m\u001b[95m칙에\u001b[0m\u001b[95m 따\u001b[0m\u001b[95m라 동\u001b[0m\u001b[95m일한 에\u001b[0m\u001b[95m이전트를\u001b[0m\u001b[95m 연\u001b[0m\u001b[95m속해서 \u001b[0m\u001b[95m호출하지\u001b[0m\u001b[95m 않기\u001b[0m\u001b[95m 위\u001b[0m\u001b[95m함입니다\u001b[0m\u001b[95m.\u001b[0m\u001b[97m# Plan\u001b[0m\u001b[97m\n",
      "\n",
      "##\u001b[0m\u001b[97m thought\u001b[0m\u001b[97m\n",
      "이\u001b[0m\u001b[97m 요\u001b[0m\u001b[97m청은 아\u001b[0m\u001b[97m마존 판\u001b[0m\u001b[97m매 데이\u001b[0m\u001b[97m터(\"\u001b[0m\u001b[97m./\u001b[0m\u001b[97mdata\u001b[0m\u001b[97m/Amazon_Sale\u001b[0m\u001b[97m_Report.csv\u001b[0m\u001b[97m\")를 분\u001b[0m\u001b[97m석하여\u001b[0m\u001b[97m 마케\u001b[0m\u001b[97m팅 인사\u001b[0m\u001b[97m이트를 \u001b[0m\u001b[97m추출하는\u001b[0m\u001b[97m 작\u001b[0m\u001b[97m업입\u001b[0m\u001b[97m니다. \u001b[0m\u001b[97m데이터 \u001b[0m\u001b[97m분석, \u001b[0m\u001b[97m시각화,\u001b[0m\u001b[97m \u001b[0m\u001b[97m인\u001b[0m\u001b[97m사이트 \u001b[0m\u001b[97m추출,\u001b[0m\u001b[97m PDF\u001b[0m\u001b[97m 리포트\u001b[0m\u001b[97m 생성 \u001b[0m\u001b[97m등 여\u001b[0m\u001b[97m러 단\u001b[0m\u001b[97m계가 필\u001b[0m\u001b[97m요합\u001b[0m\u001b[97m니다. \u001b[0m\u001b[97m효\u001b[0m\u001b[97m율\u001b[0m\u001b[97m적인 작\u001b[0m\u001b[97m업을 위\u001b[0m\u001b[97m해 \u001b[0m\u001b[97mCoder가\u001b[0m\u001b[97m 데\u001b[0m\u001b[97m이터 처\u001b[0m\u001b[97m리와 분\u001b[0m\u001b[97m석을\u001b[0m\u001b[97m 모\u001b[0m\u001b[97m두 담당\u001b[0m\u001b[97m하고\u001b[0m\u001b[97m, Reporter가 \u001b[0m\u001b[97m최종 보\u001b[0m\u001b[97m고서를\u001b[0m\u001b[97m 작성하\u001b[0m\u001b[97m는 방식\u001b[0m\u001b[97m으로 계\u001b[0m\u001b[97m획을 세\u001b[0m\u001b[97m우\u001b[0m\u001b[97m겠습니\u001b[0m\u001b[97m다.\n",
      "\n",
      "##\u001b[0m\u001b[97m title:\u001b[0m\u001b[97m\n",
      "아\u001b[0m\u001b[97m마존 판\u001b[0m\u001b[97m매 데이\u001b[0m\u001b[97m터 분석\u001b[0m\u001b[97m 및 마\u001b[0m\u001b[97m케팅 \u001b[0m\u001b[97m인사이트\u001b[0m\u001b[97m 추출\u001b[0m\u001b[97m\n",
      "\n",
      "## steps:\u001b[0m\u001b[97m\n",
      "###\u001b[0m\u001b[97m 1.\u001b[0m\u001b[97m Coder:\u001b[0m\u001b[97m 데이터\u001b[0m\u001b[97m 불러오\u001b[0m\u001b[97m기,\u001b[0m\u001b[97m 전\u001b[0m\u001b[97m처리, \u001b[0m\u001b[97m분\u001b[0m\u001b[97m석 및\u001b[0m\u001b[97m 시각화\u001b[0m\u001b[97m\n",
      "- [\u001b[0m\u001b[97m ] \"./\u001b[0m\u001b[97mdata/Amazon_\u001b[0m\u001b[97mSale_Report.\u001b[0m\u001b[97mcsv\" 파\u001b[0m\u001b[97m일 \u001b[0m\u001b[97m불러오기\u001b[0m\u001b[97m\n",
      "- [ ]\u001b[0m\u001b[97m 데이터\u001b[0m\u001b[97m 구조 \u001b[0m\u001b[97m확인 (\u001b[0m\u001b[97m행/열 \u001b[0m\u001b[97m수, \u001b[0m\u001b[97m컬럼명\u001b[0m\u001b[97m, 데이\u001b[0m\u001b[97m터 타입\u001b[0m\u001b[97m)\u001b[0m\u001b[97m\n",
      "- [ ]\u001b[0m\u001b[97m 기초 \u001b[0m\u001b[97m통계량 \u001b[0m\u001b[97m계산 \u001b[0m\u001b[97m및\u001b[0m\u001b[97m 요\u001b[0m\u001b[97m약 통\u001b[0m\u001b[97m계 \u001b[0m\u001b[97m제\u001b[0m\u001b[97m공\n",
      "- [\u001b[0m\u001b[97m ] 결측\u001b[0m\u001b[97m치/이상\u001b[0m\u001b[97m치 확인\u001b[0m\u001b[97m 및 처\u001b[0m\u001b[97m리\n",
      "- [\u001b[0m\u001b[97m ] 데이\u001b[0m\u001b[97m터 전처\u001b[0m\u001b[97m리 (\u001b[0m\u001b[97m필\u001b[0m\u001b[97m요\u001b[0m\u001b[97m시\u001b[0m\u001b[97m 날\u001b[0m\u001b[97m짜 형\u001b[0m\u001b[97m식 변환\u001b[0m\u001b[97m,\u001b[0m\u001b[97m 범\u001b[0m\u001b[97m주형 데\u001b[0m\u001b[97m이터 인\u001b[0m\u001b[97m코딩 \u001b[0m\u001b[97m등)\u001b[0m\u001b[97m\n",
      "-\u001b[0m\u001b[97m [ ] 시\u001b[0m\u001b[97m간\u001b[0m\u001b[97m에\u001b[0m\u001b[97m 따른 \u001b[0m\u001b[97m판매 트\u001b[0m\u001b[97m렌드 \u001b[0m\u001b[97m분석 및\u001b[0m\u001b[97m 시각\u001b[0m\u001b[97m화 (월\u001b[0m\u001b[97m별/\u001b[0m\u001b[97m분기별/\u001b[0m\u001b[97m연도별)\u001b[0m\u001b[97m\n",
      "- [ ] \u001b[0m\u001b[97m카테고리\u001b[0m\u001b[97m/제품별\u001b[0m\u001b[97m 판매 \u001b[0m\u001b[97m분석 \u001b[0m\u001b[97m(상\u001b[0m\u001b[97m위\u001b[0m\u001b[97m 판\u001b[0m\u001b[97m매 제\u001b[0m\u001b[97m품,\u001b[0m\u001b[97m 카\u001b[0m\u001b[97m테고리 \u001b[0m\u001b[97m등)\n",
      "-\u001b[0m\u001b[97m [ ] 변\u001b[0m\u001b[97m수 간 \u001b[0m\u001b[97m상관관계\u001b[0m\u001b[97m 분석 \u001b[0m\u001b[97m(가\u001b[0m\u001b[97m격과\u001b[0m\u001b[97m 판\u001b[0m\u001b[97m매량,\u001b[0m\u001b[97m 할\u001b[0m\u001b[97m인과\u001b[0m\u001b[97m 판매량\u001b[0m\u001b[97m 등)\u001b[0m\u001b[97m\n",
      "- [ ] \u001b[0m\u001b[97m판\u001b[0m\u001b[97m매 채\u001b[0m\u001b[97m널 분석\u001b[0m\u001b[97m (어\u001b[0m\u001b[97m떤 판\u001b[0m\u001b[97m매 채널\u001b[0m\u001b[97m이\u001b[0m\u001b[97m 가장 \u001b[0m\u001b[97m효\u001b[0m\u001b[97m과적인지\u001b[0m\u001b[97m)\u001b[0m\u001b[97m\n",
      "- [ ]\u001b[0m\u001b[97m 지\u001b[0m\u001b[97m역\u001b[0m\u001b[97m별 판매\u001b[0m\u001b[97m 분석 \u001b[0m\u001b[97m(지역에\u001b[0m\u001b[97m 따른 \u001b[0m\u001b[97m판매 패\u001b[0m\u001b[97m턴)\u001b[0m\u001b[97m\n",
      "- [ ]\u001b[0m\u001b[97m 마\u001b[0m\u001b[97m케팅 \u001b[0m\u001b[97m성과 지\u001b[0m\u001b[97m표 분\u001b[0m\u001b[97m석 (RO\u001b[0m\u001b[97mI, 전\u001b[0m\u001b[97m환율 \u001b[0m\u001b[97m등 \u001b[0m\u001b[97m관\u001b[0m\u001b[97m련 데\u001b[0m\u001b[97m이터가\u001b[0m\u001b[97m 있는 \u001b[0m\u001b[97m경\u001b[0m\u001b[97m우)\u001b[0m\u001b[97m\n",
      "- [ ] \u001b[0m\u001b[97m고객\u001b[0m\u001b[97m 세\u001b[0m\u001b[97m분화 또\u001b[0m\u001b[97m는 클러\u001b[0m\u001b[97m스터링 \u001b[0m\u001b[97m(\u001b[0m\u001b[97m고객 구\u001b[0m\u001b[97m매 패\u001b[0m\u001b[97m턴에\u001b[0m\u001b[97m 따른)\u001b[0m\u001b[97m\n",
      "- [ ]\u001b[0m\u001b[97m 모\u001b[0m\u001b[97m든\u001b[0m\u001b[97m 시\u001b[0m\u001b[97m각화 자\u001b[0m\u001b[97m료를\u001b[0m\u001b[97m PNG\u001b[0m\u001b[97m 또\u001b[0m\u001b[97m는 JP\u001b[0m\u001b[97mG 형태\u001b[0m\u001b[97m로 저\u001b[0m\u001b[97m장\n",
      "\n",
      "### \u001b[0m\u001b[97m2. Reporter:\u001b[0m\u001b[97m \u001b[0m\u001b[97m최종 보\u001b[0m\u001b[97m고서 작\u001b[0m\u001b[97m성 \u001b[0m\u001b[97m및 PDF\u001b[0m\u001b[97m 생\u001b[0m\u001b[97m성\n",
      "- [\u001b[0m\u001b[97m ] 분석\u001b[0m\u001b[97m 결과 \u001b[0m\u001b[97m요\u001b[0m\u001b[97m약 및\u001b[0m\u001b[97m 주\u001b[0m\u001b[97m요 발\u001b[0m\u001b[97m견사\u001b[0m\u001b[97m항 정리\u001b[0m\u001b[97m\n",
      "- [ ]\u001b[0m\u001b[97m 데\u001b[0m\u001b[97m이터 \u001b[0m\u001b[97m탐색 결\u001b[0m\u001b[97m과 설\u001b[0m\u001b[97m명 (기\u001b[0m\u001b[97m본\u001b[0m\u001b[97m 통계,\u001b[0m\u001b[97m 데\u001b[0m\u001b[97m이터 구\u001b[0m\u001b[97m조 \u001b[0m\u001b[97m등)\n",
      "-\u001b[0m\u001b[97m [ ] 판\u001b[0m\u001b[97m매 트\u001b[0m\u001b[97m렌드 분\u001b[0m\u001b[97m석 결과\u001b[0m\u001b[97m 및\u001b[0m\u001b[97m 인\u001b[0m\u001b[97m사이트 \u001b[0m\u001b[97m설\u001b[0m\u001b[97m명\n",
      "- [\u001b[0m\u001b[97m ] 제\u001b[0m\u001b[97m품/\u001b[0m\u001b[97m카테고리\u001b[0m\u001b[97m \u001b[0m\u001b[97m분\u001b[0m\u001b[97m석 결과\u001b[0m\u001b[97m 및 인\u001b[0m\u001b[97m사이트 \u001b[0m\u001b[97m설명\n",
      "-\u001b[0m\u001b[97m [ ] 변\u001b[0m\u001b[97m수 관\u001b[0m\u001b[97m계 분석\u001b[0m\u001b[97m 결과 \u001b[0m\u001b[97m및 인사\u001b[0m\u001b[97m이트 설\u001b[0m\u001b[97m명\n",
      "- [\u001b[0m\u001b[97m ] 고급\u001b[0m\u001b[97m 분석(\u001b[0m\u001b[97m세\u001b[0m\u001b[97m분화, \u001b[0m\u001b[97m클러스터\u001b[0m\u001b[97m링 \u001b[0m\u001b[97m등) 결\u001b[0m\u001b[97m과 및 \u001b[0m\u001b[97m인사이트\u001b[0m\u001b[97m 설명\u001b[0m\u001b[97m\n",
      "- [ ] \u001b[0m\u001b[97m마케팅\u001b[0m\u001b[97m 전\u001b[0m\u001b[97m략에\u001b[0m\u001b[97m 대한 \u001b[0m\u001b[97m권\u001b[0m\u001b[97m장사\u001b[0m\u001b[97m항 제시\u001b[0m\u001b[97m\n",
      "- [ ] \u001b[0m\u001b[97m시\u001b[0m\u001b[97m각화 자\u001b[0m\u001b[97m료 및\u001b[0m\u001b[97m 차\u001b[0m\u001b[97m트를\u001b[0m\u001b[97m 보\u001b[0m\u001b[97m고\u001b[0m\u001b[97m서에 통\u001b[0m\u001b[97m합\u001b[0m\u001b[97m\n",
      "- [ ] \u001b[0m\u001b[97m전\u001b[0m\u001b[97m체 내\u001b[0m\u001b[97m용을 PDF\u001b[0m\u001b[97m 형태로\u001b[0m\u001b[97m 저\u001b[0m\u001b[97m장 \u001b[0m\u001b[97m및\u001b[0m\u001b[97m 제\u001b[0m\u001b[97m출\u001b[0m"
     ]
    },
    {
     "name": "stderr",
     "output_type": "stream",
     "text": [
      "\n",
      "INFO [src.graph.nodes] \u001b[92m===== Planner analyzing and creating execution plan =====\u001b[0m\n",
      "\n",
      "INFO [src.graph.nodes] \u001b[92m===== Planner completed plan generation =====\u001b[0m\n",
      "\n",
      "INFO [src.workflow] \u001b[92m===== Workflow completed successfully =====\u001b[0m\n"
     ]
    },
    {
     "name": "stdout",
     "output_type": "stream",
     "text": [
      "\n",
      "=== Conversation History ===\n",
      "result GraphResult(status=<Status.COMPLETED: 'completed'>, results={'coordinator': NodeResult(result=MultiAgentResult(status=<Status.COMPLETED: 'completed'>, results={'coordinator': NodeResult(result=AgentResult(stop_reason='end_turn', message={'role': 'assistant', 'content': [{'text': \"handoff_to_planner: I'll need to consult our planning system for this request.\\n\\n이 요청은 아마존 판매 데이터 분석과 관련된 복잡한 작업을 포함하고 있어 플래너 시스템의 도움이 필요합니다. 데이터 분석, 시각화, PDF 리포트 생성 등 전문적인 작업이 요구되므로 플래너에게 이관하도록 하겠습니다.\"}]}, metrics={}, state={}), execution_time=0, status=<Status.PENDING: 'pending'>, accumulated_usage={'inputTokens': 0, 'outputTokens': 0, 'totalTokens': 0}, accumulated_metrics={'latencyMs': 0}, execution_count=0)}, accumulated_usage={'inputTokens': 0, 'outputTokens': 0, 'totalTokens': 0}, accumulated_metrics={'latencyMs': 0}, execution_count=0, execution_time=0), execution_time=0, status=<Status.COMPLETED: 'completed'>, accumulated_usage={'inputTokens': 0, 'outputTokens': 0, 'totalTokens': 0}, accumulated_metrics={'latencyMs': 0}, execution_count=0), 'planner': NodeResult(result=MultiAgentResult(status=<Status.COMPLETED: 'completed'>, results={'planner': NodeResult(result=AgentResult(stop_reason='end_turn', message={'role': 'assistant', 'content': [{'text': '# Plan\\n\\n## thought\\n이 요청은 아마존 판매 데이터(\"./data/Amazon_Sale_Report.csv\")를 분석하여 마케팅 인사이트를 추출하는 작업입니다. 데이터 분석, 시각화, 인사이트 추출, PDF 리포트 생성 등 여러 단계가 필요합니다. 효율적인 작업을 위해 Coder가 데이터 처리와 분석을 모두 담당하고, Reporter가 최종 보고서를 작성하는 방식으로 계획을 세우겠습니다.\\n\\n## title:\\n아마존 판매 데이터 분석 및 마케팅 인사이트 추출\\n\\n## steps:\\n### 1. Coder: 데이터 불러오기, 전처리, 분석 및 시각화\\n- [ ] \"./data/Amazon_Sale_Report.csv\" 파일 불러오기\\n- [ ] 데이터 구조 확인 (행/열 수, 컬럼명, 데이터 타입)\\n- [ ] 기초 통계량 계산 및 요약 통계 제공\\n- [ ] 결측치/이상치 확인 및 처리\\n- [ ] 데이터 전처리 (필요시 날짜 형식 변환, 범주형 데이터 인코딩 등)\\n- [ ] 시간에 따른 판매 트렌드 분석 및 시각화 (월별/분기별/연도별)\\n- [ ] 카테고리/제품별 판매 분석 (상위 판매 제품, 카테고리 등)\\n- [ ] 변수 간 상관관계 분석 (가격과 판매량, 할인과 판매량 등)\\n- [ ] 판매 채널 분석 (어떤 판매 채널이 가장 효과적인지)\\n- [ ] 지역별 판매 분석 (지역에 따른 판매 패턴)\\n- [ ] 마케팅 성과 지표 분석 (ROI, 전환율 등 관련 데이터가 있는 경우)\\n- [ ] 고객 세분화 또는 클러스터링 (고객 구매 패턴에 따른)\\n- [ ] 모든 시각화 자료를 PNG 또는 JPG 형태로 저장\\n\\n### 2. Reporter: 최종 보고서 작성 및 PDF 생성\\n- [ ] 분석 결과 요약 및 주요 발견사항 정리\\n- [ ] 데이터 탐색 결과 설명 (기본 통계, 데이터 구조 등)\\n- [ ] 판매 트렌드 분석 결과 및 인사이트 설명\\n- [ ] 제품/카테고리 분석 결과 및 인사이트 설명\\n- [ ] 변수 관계 분석 결과 및 인사이트 설명\\n- [ ] 고급 분석(세분화, 클러스터링 등) 결과 및 인사이트 설명\\n- [ ] 마케팅 전략에 대한 권장사항 제시\\n- [ ] 시각화 자료 및 차트를 보고서에 통합\\n- [ ] 전체 내용을 PDF 형태로 저장 및 제출'}]}, metrics={}, state={}), execution_time=0, status=<Status.PENDING: 'pending'>, accumulated_usage={'inputTokens': 0, 'outputTokens': 0, 'totalTokens': 0}, accumulated_metrics={'latencyMs': 0}, execution_count=0)}, accumulated_usage={'inputTokens': 0, 'outputTokens': 0, 'totalTokens': 0}, accumulated_metrics={'latencyMs': 0}, execution_count=0, execution_time=0), execution_time=0, status=<Status.COMPLETED: 'completed'>, accumulated_usage={'inputTokens': 0, 'outputTokens': 0, 'totalTokens': 0}, accumulated_metrics={'latencyMs': 0}, execution_count=0)}, accumulated_usage={'inputTokens': 0, 'outputTokens': 0, 'totalTokens': 0}, accumulated_metrics={'latencyMs': 0}, execution_count=0, execution_time=26656, total_nodes=2, completed_nodes=2, failed_nodes=0, execution_order=[GraphNode(node_id='coordinator', executor=<src.graph.nodes.FunctionNode object at 0xf9b24e9deab0>, dependencies=set(), execution_status=<Status.COMPLETED: 'completed'>, result=NodeResult(result=MultiAgentResult(status=<Status.COMPLETED: 'completed'>, results={'coordinator': NodeResult(result=AgentResult(stop_reason='end_turn', message={'role': 'assistant', 'content': [{'text': \"handoff_to_planner: I'll need to consult our planning system for this request.\\n\\n이 요청은 아마존 판매 데이터 분석과 관련된 복잡한 작업을 포함하고 있어 플래너 시스템의 도움이 필요합니다. 데이터 분석, 시각화, PDF 리포트 생성 등 전문적인 작업이 요구되므로 플래너에게 이관하도록 하겠습니다.\"}]}, metrics={}, state={}), execution_time=0, status=<Status.PENDING: 'pending'>, accumulated_usage={'inputTokens': 0, 'outputTokens': 0, 'totalTokens': 0}, accumulated_metrics={'latencyMs': 0}, execution_count=0)}, accumulated_usage={'inputTokens': 0, 'outputTokens': 0, 'totalTokens': 0}, accumulated_metrics={'latencyMs': 0}, execution_count=0, execution_time=0), execution_time=0, status=<Status.COMPLETED: 'completed'>, accumulated_usage={'inputTokens': 0, 'outputTokens': 0, 'totalTokens': 0}, accumulated_metrics={'latencyMs': 0}, execution_count=0), execution_time=0), GraphNode(node_id='planner', executor=<src.graph.nodes.FunctionNode object at 0xf9b24e9dea80>, dependencies={GraphNode(node_id='coordinator', executor=<src.graph.nodes.FunctionNode object at 0xf9b24e9deab0>, dependencies=set(), execution_status=<Status.COMPLETED: 'completed'>, result=NodeResult(result=MultiAgentResult(status=<Status.COMPLETED: 'completed'>, results={'coordinator': NodeResult(result=AgentResult(stop_reason='end_turn', message={'role': 'assistant', 'content': [{'text': \"handoff_to_planner: I'll need to consult our planning system for this request.\\n\\n이 요청은 아마존 판매 데이터 분석과 관련된 복잡한 작업을 포함하고 있어 플래너 시스템의 도움이 필요합니다. 데이터 분석, 시각화, PDF 리포트 생성 등 전문적인 작업이 요구되므로 플래너에게 이관하도록 하겠습니다.\"}]}, metrics={}, state={}), execution_time=0, status=<Status.PENDING: 'pending'>, accumulated_usage={'inputTokens': 0, 'outputTokens': 0, 'totalTokens': 0}, accumulated_metrics={'latencyMs': 0}, execution_count=0)}, accumulated_usage={'inputTokens': 0, 'outputTokens': 0, 'totalTokens': 0}, accumulated_metrics={'latencyMs': 0}, execution_count=0, execution_time=0), execution_time=0, status=<Status.COMPLETED: 'completed'>, accumulated_usage={'inputTokens': 0, 'outputTokens': 0, 'totalTokens': 0}, accumulated_metrics={'latencyMs': 0}, execution_count=0), execution_time=0)}, execution_status=<Status.COMPLETED: 'completed'>, result=NodeResult(result=MultiAgentResult(status=<Status.COMPLETED: 'completed'>, results={'planner': NodeResult(result=AgentResult(stop_reason='end_turn', message={'role': 'assistant', 'content': [{'text': '# Plan\\n\\n## thought\\n이 요청은 아마존 판매 데이터(\"./data/Amazon_Sale_Report.csv\")를 분석하여 마케팅 인사이트를 추출하는 작업입니다. 데이터 분석, 시각화, 인사이트 추출, PDF 리포트 생성 등 여러 단계가 필요합니다. 효율적인 작업을 위해 Coder가 데이터 처리와 분석을 모두 담당하고, Reporter가 최종 보고서를 작성하는 방식으로 계획을 세우겠습니다.\\n\\n## title:\\n아마존 판매 데이터 분석 및 마케팅 인사이트 추출\\n\\n## steps:\\n### 1. Coder: 데이터 불러오기, 전처리, 분석 및 시각화\\n- [ ] \"./data/Amazon_Sale_Report.csv\" 파일 불러오기\\n- [ ] 데이터 구조 확인 (행/열 수, 컬럼명, 데이터 타입)\\n- [ ] 기초 통계량 계산 및 요약 통계 제공\\n- [ ] 결측치/이상치 확인 및 처리\\n- [ ] 데이터 전처리 (필요시 날짜 형식 변환, 범주형 데이터 인코딩 등)\\n- [ ] 시간에 따른 판매 트렌드 분석 및 시각화 (월별/분기별/연도별)\\n- [ ] 카테고리/제품별 판매 분석 (상위 판매 제품, 카테고리 등)\\n- [ ] 변수 간 상관관계 분석 (가격과 판매량, 할인과 판매량 등)\\n- [ ] 판매 채널 분석 (어떤 판매 채널이 가장 효과적인지)\\n- [ ] 지역별 판매 분석 (지역에 따른 판매 패턴)\\n- [ ] 마케팅 성과 지표 분석 (ROI, 전환율 등 관련 데이터가 있는 경우)\\n- [ ] 고객 세분화 또는 클러스터링 (고객 구매 패턴에 따른)\\n- [ ] 모든 시각화 자료를 PNG 또는 JPG 형태로 저장\\n\\n### 2. Reporter: 최종 보고서 작성 및 PDF 생성\\n- [ ] 분석 결과 요약 및 주요 발견사항 정리\\n- [ ] 데이터 탐색 결과 설명 (기본 통계, 데이터 구조 등)\\n- [ ] 판매 트렌드 분석 결과 및 인사이트 설명\\n- [ ] 제품/카테고리 분석 결과 및 인사이트 설명\\n- [ ] 변수 관계 분석 결과 및 인사이트 설명\\n- [ ] 고급 분석(세분화, 클러스터링 등) 결과 및 인사이트 설명\\n- [ ] 마케팅 전략에 대한 권장사항 제시\\n- [ ] 시각화 자료 및 차트를 보고서에 통합\\n- [ ] 전체 내용을 PDF 형태로 저장 및 제출'}]}, metrics={}, state={}), execution_time=0, status=<Status.PENDING: 'pending'>, accumulated_usage={'inputTokens': 0, 'outputTokens': 0, 'totalTokens': 0}, accumulated_metrics={'latencyMs': 0}, execution_count=0)}, accumulated_usage={'inputTokens': 0, 'outputTokens': 0, 'totalTokens': 0}, accumulated_metrics={'latencyMs': 0}, execution_count=0, execution_time=0), execution_time=0, status=<Status.COMPLETED: 'completed'>, accumulated_usage={'inputTokens': 0, 'outputTokens': 0, 'totalTokens': 0}, accumulated_metrics={'latencyMs': 0}, execution_count=0), execution_time=0)], edges=[(GraphNode(node_id='coordinator', executor=<src.graph.nodes.FunctionNode object at 0xf9b24e9deab0>, dependencies=set(), execution_status=<Status.COMPLETED: 'completed'>, result=NodeResult(result=MultiAgentResult(status=<Status.COMPLETED: 'completed'>, results={'coordinator': NodeResult(result=AgentResult(stop_reason='end_turn', message={'role': 'assistant', 'content': [{'text': \"handoff_to_planner: I'll need to consult our planning system for this request.\\n\\n이 요청은 아마존 판매 데이터 분석과 관련된 복잡한 작업을 포함하고 있어 플래너 시스템의 도움이 필요합니다. 데이터 분석, 시각화, PDF 리포트 생성 등 전문적인 작업이 요구되므로 플래너에게 이관하도록 하겠습니다.\"}]}, metrics={}, state={}), execution_time=0, status=<Status.PENDING: 'pending'>, accumulated_usage={'inputTokens': 0, 'outputTokens': 0, 'totalTokens': 0}, accumulated_metrics={'latencyMs': 0}, execution_count=0)}, accumulated_usage={'inputTokens': 0, 'outputTokens': 0, 'totalTokens': 0}, accumulated_metrics={'latencyMs': 0}, execution_count=0, execution_time=0), execution_time=0, status=<Status.COMPLETED: 'completed'>, accumulated_usage={'inputTokens': 0, 'outputTokens': 0, 'totalTokens': 0}, accumulated_metrics={'latencyMs': 0}, execution_count=0), execution_time=0), GraphNode(node_id='planner', executor=<src.graph.nodes.FunctionNode object at 0xf9b24e9dea80>, dependencies={GraphNode(node_id='coordinator', executor=<src.graph.nodes.FunctionNode object at 0xf9b24e9deab0>, dependencies=set(), execution_status=<Status.COMPLETED: 'completed'>, result=NodeResult(result=MultiAgentResult(status=<Status.COMPLETED: 'completed'>, results={'coordinator': NodeResult(result=AgentResult(stop_reason='end_turn', message={'role': 'assistant', 'content': [{'text': \"handoff_to_planner: I'll need to consult our planning system for this request.\\n\\n이 요청은 아마존 판매 데이터 분석과 관련된 복잡한 작업을 포함하고 있어 플래너 시스템의 도움이 필요합니다. 데이터 분석, 시각화, PDF 리포트 생성 등 전문적인 작업이 요구되므로 플래너에게 이관하도록 하겠습니다.\"}]}, metrics={}, state={}), execution_time=0, status=<Status.PENDING: 'pending'>, accumulated_usage={'inputTokens': 0, 'outputTokens': 0, 'totalTokens': 0}, accumulated_metrics={'latencyMs': 0}, execution_count=0)}, accumulated_usage={'inputTokens': 0, 'outputTokens': 0, 'totalTokens': 0}, accumulated_metrics={'latencyMs': 0}, execution_count=0, execution_time=0), execution_time=0, status=<Status.COMPLETED: 'completed'>, accumulated_usage={'inputTokens': 0, 'outputTokens': 0, 'totalTokens': 0}, accumulated_metrics={'latencyMs': 0}, execution_count=0), execution_time=0)}, execution_status=<Status.COMPLETED: 'completed'>, result=NodeResult(result=MultiAgentResult(status=<Status.COMPLETED: 'completed'>, results={'planner': NodeResult(result=AgentResult(stop_reason='end_turn', message={'role': 'assistant', 'content': [{'text': '# Plan\\n\\n## thought\\n이 요청은 아마존 판매 데이터(\"./data/Amazon_Sale_Report.csv\")를 분석하여 마케팅 인사이트를 추출하는 작업입니다. 데이터 분석, 시각화, 인사이트 추출, PDF 리포트 생성 등 여러 단계가 필요합니다. 효율적인 작업을 위해 Coder가 데이터 처리와 분석을 모두 담당하고, Reporter가 최종 보고서를 작성하는 방식으로 계획을 세우겠습니다.\\n\\n## title:\\n아마존 판매 데이터 분석 및 마케팅 인사이트 추출\\n\\n## steps:\\n### 1. Coder: 데이터 불러오기, 전처리, 분석 및 시각화\\n- [ ] \"./data/Amazon_Sale_Report.csv\" 파일 불러오기\\n- [ ] 데이터 구조 확인 (행/열 수, 컬럼명, 데이터 타입)\\n- [ ] 기초 통계량 계산 및 요약 통계 제공\\n- [ ] 결측치/이상치 확인 및 처리\\n- [ ] 데이터 전처리 (필요시 날짜 형식 변환, 범주형 데이터 인코딩 등)\\n- [ ] 시간에 따른 판매 트렌드 분석 및 시각화 (월별/분기별/연도별)\\n- [ ] 카테고리/제품별 판매 분석 (상위 판매 제품, 카테고리 등)\\n- [ ] 변수 간 상관관계 분석 (가격과 판매량, 할인과 판매량 등)\\n- [ ] 판매 채널 분석 (어떤 판매 채널이 가장 효과적인지)\\n- [ ] 지역별 판매 분석 (지역에 따른 판매 패턴)\\n- [ ] 마케팅 성과 지표 분석 (ROI, 전환율 등 관련 데이터가 있는 경우)\\n- [ ] 고객 세분화 또는 클러스터링 (고객 구매 패턴에 따른)\\n- [ ] 모든 시각화 자료를 PNG 또는 JPG 형태로 저장\\n\\n### 2. Reporter: 최종 보고서 작성 및 PDF 생성\\n- [ ] 분석 결과 요약 및 주요 발견사항 정리\\n- [ ] 데이터 탐색 결과 설명 (기본 통계, 데이터 구조 등)\\n- [ ] 판매 트렌드 분석 결과 및 인사이트 설명\\n- [ ] 제품/카테고리 분석 결과 및 인사이트 설명\\n- [ ] 변수 관계 분석 결과 및 인사이트 설명\\n- [ ] 고급 분석(세분화, 클러스터링 등) 결과 및 인사이트 설명\\n- [ ] 마케팅 전략에 대한 권장사항 제시\\n- [ ] 시각화 자료 및 차트를 보고서에 통합\\n- [ ] 전체 내용을 PDF 형태로 저장 및 제출'}]}, metrics={}, state={}), execution_time=0, status=<Status.PENDING: 'pending'>, accumulated_usage={'inputTokens': 0, 'outputTokens': 0, 'totalTokens': 0}, accumulated_metrics={'latencyMs': 0}, execution_count=0)}, accumulated_usage={'inputTokens': 0, 'outputTokens': 0, 'totalTokens': 0}, accumulated_metrics={'latencyMs': 0}, execution_count=0, execution_time=0), execution_time=0, status=<Status.COMPLETED: 'completed'>, accumulated_usage={'inputTokens': 0, 'outputTokens': 0, 'totalTokens': 0}, accumulated_metrics={'latencyMs': 0}, execution_count=0), execution_time=0))], entry_points=[GraphNode(node_id='coordinator', executor=<src.graph.nodes.FunctionNode object at 0xf9b24e9deab0>, dependencies=set(), execution_status=<Status.COMPLETED: 'completed'>, result=NodeResult(result=MultiAgentResult(status=<Status.COMPLETED: 'completed'>, results={'coordinator': NodeResult(result=AgentResult(stop_reason='end_turn', message={'role': 'assistant', 'content': [{'text': \"handoff_to_planner: I'll need to consult our planning system for this request.\\n\\n이 요청은 아마존 판매 데이터 분석과 관련된 복잡한 작업을 포함하고 있어 플래너 시스템의 도움이 필요합니다. 데이터 분석, 시각화, PDF 리포트 생성 등 전문적인 작업이 요구되므로 플래너에게 이관하도록 하겠습니다.\"}]}, metrics={}, state={}), execution_time=0, status=<Status.PENDING: 'pending'>, accumulated_usage={'inputTokens': 0, 'outputTokens': 0, 'totalTokens': 0}, accumulated_metrics={'latencyMs': 0}, execution_count=0)}, accumulated_usage={'inputTokens': 0, 'outputTokens': 0, 'totalTokens': 0}, accumulated_metrics={'latencyMs': 0}, execution_count=0, execution_time=0), execution_time=0, status=<Status.COMPLETED: 'completed'>, accumulated_usage={'inputTokens': 0, 'outputTokens': 0, 'totalTokens': 0}, accumulated_metrics={'latencyMs': 0}, execution_count=0), execution_time=0)])\n"
     ]
    },
    {
     "ename": "TypeError",
     "evalue": "'GraphResult' object is not subscriptable",
     "output_type": "error",
     "traceback": [
      "\u001b[31m---------------------------------------------------------------------------\u001b[39m",
      "\u001b[31mTypeError\u001b[39m                                 Traceback (most recent call last)",
      "\u001b[36mCell\u001b[39m\u001b[36m \u001b[39m\u001b[32mIn[13]\u001b[39m\u001b[32m, line 36\u001b[39m\n\u001b[32m     34\u001b[39m \u001b[38;5;28mprint\u001b[39m(\u001b[33m\"\u001b[39m\u001b[38;5;130;01m\\n\u001b[39;00m\u001b[33m=== Conversation History ===\u001b[39m\u001b[33m\"\u001b[39m)\n\u001b[32m     35\u001b[39m \u001b[38;5;28mprint\u001b[39m (\u001b[33m\"\u001b[39m\u001b[33mresult\u001b[39m\u001b[33m\"\u001b[39m, result)\n\u001b[32m---> \u001b[39m\u001b[32m36\u001b[39m \u001b[38;5;28;01mfor\u001b[39;00m history \u001b[38;5;129;01min\u001b[39;00m \u001b[43mresult\u001b[49m\u001b[43m[\u001b[49m\u001b[33;43m\"\u001b[39;49m\u001b[33;43mhistory\u001b[39;49m\u001b[33;43m\"\u001b[39;49m\u001b[43m]\u001b[49m:\n\u001b[32m     38\u001b[39m     \u001b[38;5;28mprint\u001b[39m (\u001b[33m\"\u001b[39m\u001b[33m===\u001b[39m\u001b[33m\"\u001b[39m)\n\u001b[32m     39\u001b[39m     \u001b[38;5;28mprint\u001b[39m (\u001b[33mf\u001b[39m\u001b[33m'\u001b[39m\u001b[33magent: \u001b[39m\u001b[38;5;132;01m{\u001b[39;00mhistory[\u001b[33m\"\u001b[39m\u001b[33magent\u001b[39m\u001b[33m\"\u001b[39m]\u001b[38;5;132;01m}\u001b[39;00m\u001b[33m'\u001b[39m)\n",
      "\u001b[31mTypeError\u001b[39m: 'GraphResult' object is not subscriptable"
     ]
    }
   ],
   "source": [
    "import os\n",
    "import shutil\n",
    "\n",
    "def remove_artifact_folder(folder_path=\"./artifacts/\"):\n",
    "    \"\"\"\n",
    "    ./artifact/ 폴더가 존재하면 삭제하는 함수\n",
    "    \n",
    "    Args:\n",
    "        folder_path (str): 삭제할 폴더 경로\n",
    "    \"\"\"\n",
    "    if os.path.exists(folder_path):\n",
    "        print(f\"'{folder_path}' 폴더를 삭제합니다...\")\n",
    "        try:\n",
    "            # 폴더와 그 내용을 모두 삭제\n",
    "            shutil.rmtree(folder_path)\n",
    "            print(f\"'{folder_path}' 폴더가 성공적으로 삭제되었습니다.\")\n",
    "        except Exception as e:\n",
    "            print(f\"오류 발생: {e}\")\n",
    "    else:\n",
    "        print(f\"'{folder_path}' 폴더가 존재하지 않습니다.\")\n",
    "\n",
    "\n",
    "import nest_asyncio\n",
    "nest_asyncio.apply()\n",
    "\n",
    "remove_artifact_folder()\n",
    "\n",
    "result = run_agent_workflow(\n",
    "    user_input=user_query,\n",
    "    debug=False\n",
    ")\n",
    "\n",
    "빌더에서 플래너 다음에 슈퍼바이져 엣지달기\n",
    "슈퍼바이저 에서 코더, 트랙커, 리포터 툴로 만들기 \n",
    "코더부터 툴(에이전트 에즈 어 툴)로 만들고 \n",
    "트랙커는 새로 만들기\n",
    "\n",
    "\n",
    "# Print the conversation history\n",
    "print(\"\\n=== Conversation History ===\")\n",
    "print (\"result\", result)\n",
    "for history in result[\"history\"]:\n",
    "\n",
    "    print (\"===\")\n",
    "    print (f'agent: {history[\"agent\"]}')\n",
    "    print (f'message: {history[\"message\"]}')"
   ]
  },
  {
   "cell_type": "code",
   "execution_count": null,
   "id": "4e4a3c61",
   "metadata": {},
   "outputs": [],
   "source": []
  },
  {
   "cell_type": "code",
   "execution_count": null,
   "id": "ec2acd17",
   "metadata": {},
   "outputs": [],
   "source": []
  }
 ],
 "metadata": {
  "kernelspec": {
   "display_name": "env-bedrock-agentcore (UV)",
   "language": "python",
   "name": "env-bedrock-agentcore"
  },
  "language_info": {
   "codemirror_mode": {
    "name": "ipython",
    "version": 3
   },
   "file_extension": ".py",
   "mimetype": "text/x-python",
   "name": "python",
   "nbconvert_exporter": "python",
   "pygments_lexer": "ipython3",
   "version": "3.12.11"
  }
 },
 "nbformat": 4,
 "nbformat_minor": 5
}
