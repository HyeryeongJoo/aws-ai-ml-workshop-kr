{
 "cells": [
  {
   "cell_type": "code",
   "execution_count": 1,
   "metadata": {},
   "outputs": [],
   "source": [
    "from mcp import stdio_client, StdioServerParameters\n",
    "from strands import Agent\n",
    "from strands.tools.mcp import MCPClient"
   ]
  },
  {
   "cell_type": "code",
   "execution_count": 5,
   "metadata": {},
   "outputs": [],
   "source": [
    "# FileScopeMCP 서버에 연결\n",
    "stdio_mcp_client = MCPClient(lambda: stdio_client(\n",
    "    StdioServerParameters(\n",
    "        command=\"node\",\n",
    "        args=[\n",
    "            \"/home/sagemaker-user/aws-ai-ml-workshop-kr/genai/aws-gen-ai-kr/20_applications/08_bedrock_manus/use_cases/0x_code_assistant_strands_sdk/setup/FileScopeMCP/dist/mcp-server.js\",\n",
    "            \"--base-dir=/home/sagemaker-user/aws-ai-ml-workshop-kr/genai/aws-gen-ai-kr/20_applications/08_bedrock_manus/use_cases/0x_code_assistant_strands_sdk\"\n",
    "        ]\n",
    "    )\n",
    "))"
   ]
  },
  {
   "cell_type": "code",
   "execution_count": 8,
   "metadata": {},
   "outputs": [
    {
     "name": "stdout",
     "output_type": "stream",
     "text": [
      "요청하신 폴더를 분석하기 위해 먼저 해당 경로의 파일 트리를 생성해야 합니다. 그런 다음 각 파일의 중요도를 확인해 드리겠습니다.\n",
      "\n",
      "먼저 파일 트리를 생성하겠습니다:\n",
      "Tool #1: create_file_tree\n",
      "이제 파일 트리가 생성되었으니 모든 파일과 그 중요도를 확인해 보겠습니다:\n",
      "Tool #2: list_files\n",
      "이제 더 정확한 중요도 정보를 위해 중요 파일들을 찾아보겠습니다:\n",
      "Tool #3: find_important_files\n",
      "### 01_deep_research 폴더 파일 중요도 분석 결과\n",
      "\n",
      "분석한 폴더에 있는 주요 파일들의 중요도를 기반으로 정리해 드리겠습니다:\n",
      "\n",
      "#### 가장 중요한 파일들 (중요도 4):\n",
      "1. `/app/app.py` - 애플리케이션의 주요 실행 파일, 중요도 4\n",
      "2. `/src/graph/types.py` - 그래프 관련 타입 정의 파일, 중요도 4\n",
      "\n",
      "#### 높은 중요도의 파일들 (중요도 3):\n",
      "여러 프롬프트 정의 파일들 (모두 중요도 3):\n",
      "- `/src/prompts/browser.md`\n",
      "- `/src/prompts/clarifier.md`\n",
      "- `/src/prompts/coder.md`\n",
      "- `/src/prompts/coordinator.md`\n",
      "- `/src/prompts/file_manager.md`\n",
      "- `/src/prompts/human_feedback.md`\n",
      "- `/src/prompts/planner.md`\n",
      "- `/src/prompts/reporter.md`\n",
      "- `/src/prompts/researcher.md`\n",
      "- `/src/prompts/supervisor.md`\n",
      "\n",
      "#### 중간 중요도의 파일들 (중요도 2):\n",
      "- `/main.ipynb` - Jupyter 노트북 메인 파일\n",
      "- `/main.py` - 메인 실행 파일\n",
      "- `/README.md` - 프로젝트 설명 파일\n",
      "- `/src` 디렉토리의 여러 Python 모듈 파일들과 초기화 파일들\n",
      "\n",
      "#### 낮은 중요도의 파일들 (중요도 1):\n",
      "- `/CONTRIBUTING.md` - 기여 가이드라인 파일\n",
      "\n",
      "#### 최소 중요도의 파일들 (중요도 0):\n",
      "- 설정 파일들 (`.env`, `LICENSE`)\n",
      "- 데이터 파일들 (`/data` 디렉토리 내 파일들)\n",
      "- 이미지 파일들 (`/assets`, `/charts` 디렉토리 내 파일들)\n",
      "- 설치 스크립트 파일들 (`/setup` 디렉토리 내 파일들)\n",
      "\n",
      "이 프로젝트는 AWS Bedrock을 활용한 딥 리서치 애플리케이션으로 보이며, 코어 로직은 `app.py`와 그래프 관련 타입 정의 파일(`types.py`)에 집중되어 있습니다. 또한 다양한 에이전트 역할을 위한 프롬프트 파일들이 높은 중요도를 가지고 있어, 이 프로젝트가 여러 특수 목적의 LLM 에이전트들을 활용하는 구조를 가지고 있음을 알 수 있습니다.### 01_deep_research 폴더 파일 중요도 분석 결과\n",
      "\n",
      "분석한 폴더에 있는 주요 파일들의 중요도를 기반으로 정리해 드리겠습니다:\n",
      "\n",
      "#### 가장 중요한 파일들 (중요도 4):\n",
      "1. `/app/app.py` - 애플리케이션의 주요 실행 파일, 중요도 4\n",
      "2. `/src/graph/types.py` - 그래프 관련 타입 정의 파일, 중요도 4\n",
      "\n",
      "#### 높은 중요도의 파일들 (중요도 3):\n",
      "여러 프롬프트 정의 파일들 (모두 중요도 3):\n",
      "- `/src/prompts/browser.md`\n",
      "- `/src/prompts/clarifier.md`\n",
      "- `/src/prompts/coder.md`\n",
      "- `/src/prompts/coordinator.md`\n",
      "- `/src/prompts/file_manager.md`\n",
      "- `/src/prompts/human_feedback.md`\n",
      "- `/src/prompts/planner.md`\n",
      "- `/src/prompts/reporter.md`\n",
      "- `/src/prompts/researcher.md`\n",
      "- `/src/prompts/supervisor.md`\n",
      "\n",
      "#### 중간 중요도의 파일들 (중요도 2):\n",
      "- `/main.ipynb` - Jupyter 노트북 메인 파일\n",
      "- `/main.py` - 메인 실행 파일\n",
      "- `/README.md` - 프로젝트 설명 파일\n",
      "- `/src` 디렉토리의 여러 Python 모듈 파일들과 초기화 파일들\n",
      "\n",
      "#### 낮은 중요도의 파일들 (중요도 1):\n",
      "- `/CONTRIBUTING.md` - 기여 가이드라인 파일\n",
      "\n",
      "#### 최소 중요도의 파일들 (중요도 0):\n",
      "- 설정 파일들 (`.env`, `LICENSE`)\n",
      "- 데이터 파일들 (`/data` 디렉토리 내 파일들)\n",
      "- 이미지 파일들 (`/assets`, `/charts` 디렉토리 내 파일들)\n",
      "- 설치 스크립트 파일들 (`/setup` 디렉토리 내 파일들)\n",
      "\n",
      "이 프로젝트는 AWS Bedrock을 활용한 딥 리서치 애플리케이션으로 보이며, 코어 로직은 `app.py`와 그래프 관련 타입 정의 파일(`types.py`)에 집중되어 있습니다. 또한 다양한 에이전트 역할을 위한 프롬프트 파일들이 높은 중요도를 가지고 있어, 이 프로젝트가 여러 특수 목적의 LLM 에이전트들을 활용하는 구조를 가지고 있음을 알 수 있습니다.\n",
      "\n"
     ]
    }
   ],
   "source": [
    "\n",
    "\n",
    "# Agent 생성 및 사용\n",
    "with stdio_mcp_client:\n",
    "    # MCP 서버에서 도구 목록 가져오기\n",
    "\n",
    "    \n",
    "    tools = stdio_mcp_client.list_tools_sync()\n",
    "    \n",
    "    # Agent 생성\n",
    "    agent = Agent(tools=tools)\n",
    "    \n",
    "    # FileScopeMCP 도구 사용 예시\n",
    "    response = agent(\"/home/sagemaker-user/aws-ai-ml-workshop-kr/genai/aws-gen-ai-kr/20_applications/08_bedrock_manus/use_cases/01_deep_research 폴더를 분석할꺼야. 각각의 중요도 알려줘\")\n",
    "    print(response)"
   ]
  },
  {
   "cell_type": "code",
   "execution_count": null,
   "metadata": {},
   "outputs": [],
   "source": [
    "!pwd"
   ]
  },
  {
   "cell_type": "code",
   "execution_count": null,
   "metadata": {},
   "outputs": [],
   "source": [
    "!ls"
   ]
  },
  {
   "cell_type": "code",
   "execution_count": null,
   "metadata": {},
   "outputs": [],
   "source": []
  }
 ],
 "metadata": {
  "kernelspec": {
   "display_name": "supply-chain-analysis (UV)",
   "language": "python",
   "name": "supply-chain-analysis"
  },
  "language_info": {
   "codemirror_mode": {
    "name": "ipython",
    "version": 3
   },
   "file_extension": ".py",
   "mimetype": "text/x-python",
   "name": "python",
   "nbconvert_exporter": "python",
   "pygments_lexer": "ipython3",
   "version": "3.12.9"
  }
 },
 "nbformat": 4,
 "nbformat_minor": 2
}
