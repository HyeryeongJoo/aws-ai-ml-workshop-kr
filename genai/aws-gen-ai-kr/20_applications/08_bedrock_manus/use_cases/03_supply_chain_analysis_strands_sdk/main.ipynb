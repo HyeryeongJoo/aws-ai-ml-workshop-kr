{
 "cells": [
  {
   "cell_type": "code",
   "execution_count": 1,
   "id": "8daa2248-2979-43f7-a945-85784fb716a0",
   "metadata": {
    "tags": []
   },
   "outputs": [],
   "source": [
    "%load_ext autoreload\n",
    "%autoreload 2"
   ]
  },
  {
   "cell_type": "code",
   "execution_count": 3,
   "id": "def70031",
   "metadata": {},
   "outputs": [
    {
     "name": "stdout",
     "output_type": "stream",
     "text": [
      "Overwriting .env\n"
     ]
    }
   ],
   "source": [
    "%%writefile .env\n",
    "\n",
    "# TAVILY_API_KEY = your_key\n",
    "# JINA_API_KEY = your_key\n",
    "# CHROME_INSTANCE_PATH = /Applications/Google Chrome.app/Contents/MacOS/Google Chrome\n",
    "# BROWSER_HEADLESS=False\n",
    "TAVILY_API_KEY = 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"
   ]
  },
  {
   "cell_type": "markdown",
   "id": "6d7213da",
   "metadata": {},
   "source": [
    "# Planning 부터 시작"
   ]
  },
  {
   "cell_type": "code",
   "execution_count": 4,
   "id": "12c20d61",
   "metadata": {},
   "outputs": [],
   "source": [
    "import sys\n",
    "from src.workflow import run_agent_workflow"
   ]
  },
  {
   "cell_type": "code",
   "execution_count": 5,
   "id": "8e915a3c-bb0d-4d3d-88cf-bfa0b61e8f9f",
   "metadata": {
    "tags": []
   },
   "outputs": [
    {
     "name": "stdout",
     "output_type": "stream",
     "text": [
      "Selected workflow: scm\n",
      "Query: \n",
      "시카고 항만 파업이 우리 회사 공급망에 미치는 영향을 분석해 주세요.\n",
      "리드타임 증가, 운송비 영향, 그리고 주문 이행률에 미칠 잠재적 영향에 집중해 주세요.\n",
      "우리는 물류 전략을 ...\n"
     ]
    },
    {
     "data": {
      "text/plain": [
       "'\\nOther SCM example queries:\\n- \"Analyze the impact of Suez Canal blockage on global semiconductor supply chain\"\\n- \"Assess the effects of Chinese port lockdowns on automotive industry supply chains\"\\n- \"Evaluate alternative shipping routes due to Red Sea disruptions\"\\n- \"Supply chain risk assessment for electronics manufacturing due to Taiwan tensions\"\\n\\nOther regular analysis queries:\\n- \"LG 스타일러와 삼성 제품간의 비교가 필요해. 결과는 pdf로 만들어줘\"\\n- \"Transformer 알고리즘과 현 시점에서 어떤식으로 변화 발전 하는지 알려줘\"\\n- \"5-7세 아동을 위한 미술학원(홈스쿨)을 운영예정이야. 나는 미술치료와 심리학을 전공했어. 이런 전문성을 접목한 브랜딩, 마케팅 방법, 운영방안, 구체적인 프로그램(월별)을 기획해줘. 그리고 브랜드 이름도 추천해줘.\"\\n'"
      ]
     },
     "execution_count": 5,
     "metadata": {},
     "output_type": "execute_result"
    }
   ],
   "source": [
    "# Choose workflow type: 'regular' or 'scm'\n",
    "workflow_type = 'scm'  # Change to 'regular' for normal workflow\n",
    "\n",
    "# SCM queries - Supply Chain Management examples\n",
    "scm_user_query = '''\n",
    "Analyze the impact of Chicago port strikes on our company's supply chain. \n",
    "Focus on lead time increases, transportation cost impacts, and potential effects on order fulfillment rates.\n",
    "How should we adjust our logistics strategy and what alternative routes should we consider?\n",
    "'''\n",
    "\n",
    "scm_user_query = '''\n",
    "시카고 항만 파업이 우리 회사 공급망에 미치는 영향을 분석해 주세요.\n",
    "리드타임 증가, 운송비 영향, 그리고 주문 이행률에 미칠 잠재적 영향에 집중해 주세요.\n",
    "우리는 물류 전략을 어떻게 조정해야 하며, 어떤 대체 경로를 고려해야 할까요?\n",
    "'''\n",
    "\n",
    "# Regular analysis queries\n",
    "regular_user_query = '''\n",
    "AWS Cloud Market Analysis: Growth Prospects in Korea (2025-2030) 조사해줘. 결과는 pdf로 만들어줘, \n",
    "research와 coder는 정말 간단하게 1번씩만 호출 하고 조사도 아주 간단하게만 해. reporter 에이전트 테스트 중이거든.\n",
    "'''\n",
    "\n",
    "# Select query based on workflow type\n",
    "user_query = scm_user_query if workflow_type == 'scm' else regular_user_query\n",
    "\n",
    "print(f\"Selected workflow: {workflow_type}\")\n",
    "print(f\"Query: {user_query[:100]}...\")\n",
    "\n",
    "# Other example queries (commented out)\n",
    "'''\n",
    "Other SCM example queries:\n",
    "- \"Analyze the impact of Suez Canal blockage on global semiconductor supply chain\"\n",
    "- \"Assess the effects of Chinese port lockdowns on automotive industry supply chains\"\n",
    "- \"Evaluate alternative shipping routes due to Red Sea disruptions\"\n",
    "- \"Supply chain risk assessment for electronics manufacturing due to Taiwan tensions\"\n",
    "\n",
    "Other regular analysis queries:\n",
    "- \"LG 스타일러와 삼성 제품간의 비교가 필요해. 결과는 pdf로 만들어줘\"\n",
    "- \"Transformer 알고리즘과 현 시점에서 어떤식으로 변화 발전 하는지 알려줘\"\n",
    "- \"5-7세 아동을 위한 미술학원(홈스쿨)을 운영예정이야. 나는 미술치료와 심리학을 전공했어. 이런 전문성을 접목한 브랜딩, 마케팅 방법, 운영방안, 구체적인 프로그램(월별)을 기획해줘. 그리고 브랜드 이름도 추천해줘.\"\n",
    "'''"
   ]
  },
  {
   "cell_type": "code",
   "execution_count": null,
   "id": "1bf1bef5",
   "metadata": {},
   "outputs": [
    {
     "name": "stderr",
     "output_type": "stream",
     "text": [
      "\n",
      "INFO [src.workflow] \u001b[92m===== Starting SCM workflow =====\u001b[0m\n",
      "\n",
      "INFO [src.workflow] \u001b[92m\n",
      "SCM user input: \n",
      "시카고 항만 파업이 우리 회사 공급망에 미치는 영향을 분석해 주세요.\n",
      "리드타임 증가, 운송비 영향, 그리고 주문 이행률에 미칠 잠재적 영향에 집중해 주세요.\n",
      "우리는 물류 전략을 어떻게 조정해야 하며, 어떤 대체 경로를 고려해야 할까요?\n",
      "\u001b[0m\n",
      "\n",
      "INFO [src.graph.scm_nodes] \u001b[92m===== SCM Researcher starting task =====\u001b[0m\n",
      "\n",
      "INFO [src.utils.strands_sdk_utils] \u001b[92mSCM_RESEARCHER - Prompt Cache Disabled\u001b[0m\n"
     ]
    },
    {
     "name": "stdout",
     "output_type": "stream",
     "text": [
      "'./artifacts/' 폴더를 삭제합니다...\n",
      "'./artifacts/' 폴더가 성공적으로 삭제되었습니다.\n",
      "🔗 Using SCM specialized workflow\n",
      "\u001b[97mI'll\u001b[0m\u001b[97m help analyze the Chicago\u001b[0m\u001b[97m port strike situation an\u001b[0m\u001b[97md its supply chain impacts, focusing\u001b[0m\u001b[97m on lead times, transportation costs\u001b[0m\u001b[97m, and order fulf\u001b[0m\u001b[97millment rates. I\u001b[0m\u001b[97m'll conduct the research in both\u001b[0m\u001b[97m English and Korean to ensure\u001b[0m\u001b[97m comprehensive coverage.\u001b[0m\u001b[97m\n",
      "\n",
      "First, let me\u001b[0m\u001b[97m check for any existing\u001b[0m\u001b[97m research context:\u001b[0m\u001b[97m \n",
      "## Calling tool: python_repl_tool - # Cycle: 1\u001b[0m"
     ]
    },
    {
     "name": "stderr",
     "output_type": "stream",
     "text": [
      "\n",
      "INFO [python_repl_tool] \u001b[92m===== Executing Python code =====\u001b[0m\n",
      "\n",
      "INFO [python_repl_tool] \u001b[92m===== Code execution successful =====\u001b[0m\n",
      "\n",
      "INFO [src.tools.decorators] \u001b[91mCoder - Successfully executed:\n",
      "\n",
      "```python\n",
      "import os\n",
      "\n",
      "# Check for existing research context\n",
      "results_file = './artifacts/01_research_results.txt'\n",
      "\n",
      "if os.path.exists(results_file):\n",
      "    print(\"Found existing research file. Reading previous context...\")\n",
      "    try:\n",
      "        with open(results_file, 'r', encoding='utf-8') as f:\n",
      "            existing_content = f.read()\n",
      "        \n",
      "        print(\"=== EXISTING RESEARCH CONTEXT ===\")\n",
      "        print(existing_content)\n",
      "        print(\"=== END OF EXISTING CONTEXT ===\")\n",
      "        \n",
      "    except Exception as e:\n",
      "        print(f\"Error reading existing context: {e}\")\n",
      "else:\n",
      "    print(\"No existing research file found. Starting fresh research.\")\n",
      "```\n",
      "\u001b[0m\n",
      "\n",
      "INFO [src.tools.decorators] \u001b[94m\n",
      "Stdout: No existing research file found. Starting fresh research.\n",
      "\u001b[0m\n"
     ]
    },
    {
     "name": "stdout",
     "output_type": "stream",
     "text": [
      "\u001b[97mLet\u001b[0m\u001b[97m's start with searching for current information\u001b[0m\u001b[97m about the Chicago port strike situation:\u001b[0m\u001b[97m \n",
      "## Calling tool: tavily_tool - # Cycle: 2\u001b[0m"
     ]
    },
    {
     "name": "stderr",
     "output_type": "stream",
     "text": [
      "\n",
      "INFO [tavily_tool] \u001b[94m===== Searching for: Chicago port strike 2025 impact on shipping logistics current status =====\u001b[0m\n",
      "\n",
      "INFO [tavily_tool] \u001b[92m===== Search successful =====\u001b[0m\n",
      "\n",
      "INFO [src.tools.decorators] \u001b[91m\n",
      "Coder - Tool handle_tavily_tool returned:\n",
      "\n",
      "\n",
      "# Relative Search Results\n",
      "\n",
      "[{\"title\": \"What Role Will Port Strikes Play in the Freight Market in 2025?\", \"url\": \"https://www.freightcenter.com/what-role-will-port-strikes-play-in-the-freight-market-in-2025/\", \"content\": \"### 4. Decreased Revenues for Trucks, Increased for Freight Rail Companies\\n\\nSince freight volumes will be reduced during the upcoming port strike, this will lead to less work for trucks that transport goods from the ports. This includes all levels, from drayage and container to short and long-haul, that rely on trucking to complete their domestic shipping. [...] ### 7. Broader Implications for Other Industries and the Economy\\n\\nThe port strikes are not just a concern for the logistics and transportation industry; it’s a significant issue for all sectors globally. Many industries rely on the supply chain to get supplies, equipment, and other essentials for their inventories. [...] There is likely to be a significant backlog of imported goods awaiting customs clearance if the strike in 2025 occurs. The East and Gulf Coast ports are already facing challenges from the bottlenecks caused by the port strike in October. A new strike would result in additional delays and longer wait times, both during the conflict and afterward.\"}, {\"title\": \"What We Know about the ILA Strike (and What to Expect Next)\", \"url\": \"https://www.flexport.com/blog/ila-usmx-work-stoppage-updates/\", \"content\": \"Kempf added that demand will eventually stabilize as \\\"those few shippers revert back to [ocean freight](https://www.flexport.com/products/ocean-freight/) for more cost-effective transportation.\\\" In the long term, he highlighted that the strike could have lasting effects, prompting some shippers to diversify their logistics strategies and rely more on air freight to mitigate future disruptions. To learn more about air freight market trends for 2025 and beyond, check out [our\"}, {\"title\": \"Supply Chain Alert: Potential 2025 Port Strike - Rinchem\", \"url\": \"https://www.rinchem.com/supply-chain-alert-potential-2025-port-strike/\", \"content\": \"![](https://certify.alexametrics.com/atrk.gif?account=9Krnx13hc920VB)\\n![Rinchem](https://www.rinchem.com/wp-content/uploads/2022/11/New-Rinchem-Logo-1024x684.png)\\n\\n# Supply Chain Alert: Potential 2025 Port Strike\\n\\n**Potential disruptions could impact your supply chain due to ongoing negotiations between the [International Longshoremen’s Association (ILA)](https://ilaunion.org/) and the [United States Maritime Alliance, Ltd. (USMX)](https://www.usmx.com/).** [...] Even if a strike is avoided, we anticipate disruptions leading up to January 15. If the strike occurs, recovery times could extend up to seven days for every day of the strike. As such, it is crucial to maintain sufficient materials on hand during this period to avoid interruptions.\\n\\n#### Get more articles like this in your inbox\\n\\nSign up for our monthly newsletter\\n\\nFind more articles\\n\\n## More from Rinchem\\n\\n##### Weekly Global Logistics & Supply Chain Review | June 11, 2025 [...] ![Featured image for “Weekly Global Logistics & Supply Chain Review | June 11, 2025”](https://www.rinchem.com/wp-content/uploads/2025/02/supply-chain-review-1920x1080-1.jpg)\\n\\n##### Weekly Global Logistics & Supply Chain Review | June 4, 2025\\n\\n![Featured image for “Weekly Global Logistics & Supply Chain Review | June 4, 2025”](https://www.rinchem.com/wp-content/uploads/2025/02/supply-chain-review-1920x1080-1.jpg)\\n\\n##### Meet our Center of Excellence Team\"}, {\"title\": \"Threat of 'calamitous' port strike awaits trucking in January\", \"url\": \"https://www.fleetowner.com/news/article/55237034/threat-of-calamitous-east-coast-strike-for-trucking-industry-moved-to-january\", \"content\": \"The factors keeping freight rates low ([carrier overcapacity, most notably](https://www.fleetowner.com/show-coverage/wabash-ignite/article/55180203/how-the-freight-markets-carrier-overcapacity-could-resolve-in-2025)) remained the same regardless of a port work stoppage.\\n\\n“We’ve still got an oversupplied market. It was just a shift of when the volume got moved as opposed to a substantial change in supply and demand,” Croke said. “The demand just moved in terms of timing.” [...] The strike may have ended, but the labor dispute is far from done.\\n\\nILA and USMX kicked the ball down to January 2025 for renewed negotiations. The opportunity for industry disruption still looms around the calendar—at another peak shipping period.\\n\\n“This is still not over,” Croke said. “There’s a chance that it could disrupt the market. It’ll occur again right in the middle of peak shipping ahead of Chinese New Year.”\"}, {\"title\": \"Potential US East Coast Port Strikes Update\", \"url\": \"https://craneww.com/knowledge-center/latest-news-and-info/potential-us-east-coast-port-strikes/\", \"content\": \"East Coast Ports could be impacted by strike action by the ILA union members if no agreement is reached by the end of the contract on January 15th, 2025.\"}]\u001b[0m\n"
     ]
    },
    {
     "name": "stdout",
     "output_type": "stream",
     "text": [
      "\u001b[97mLet\u001b[0m\u001b[97m me search for additional information about\u001b[0m\u001b[97m alternative routes an\u001b[0m\u001b[97md impacts:\u001b[0m\u001b[97m \n",
      "## Calling tool: tavily_tool - # Cycle: 3\u001b[0m"
     ]
    },
    {
     "name": "stderr",
     "output_type": "stream",
     "text": [
      "\n",
      "INFO [tavily_tool] \u001b[94m===== Searching for: Chicago port alternative routes shipping costs impact 2025 =====\u001b[0m\n",
      "\n",
      "INFO [tavily_tool] \u001b[92m===== Search successful =====\u001b[0m\n",
      "\n",
      "INFO [src.tools.decorators] \u001b[91m\n",
      "Coder - Tool handle_tavily_tool returned:\n",
      "\n",
      "\n",
      "# Relative Search Results\n",
      "\n",
      "[{\"title\": \"Q1 2025 Shipping & Freight Recap: Global Moves, Local Impact\", \"url\": \"https://www.linkedin.com/pulse/q1-2025-shipping-freight-recap-global-moves-local-pdlef\", \"content\": \"Missing: Chicago alternative\"}, {\"title\": \"Navigating Challenges and Strategic Rerouting in 2025\", \"url\": \"https://www.shipuniverse.com/news/global-shipping-routes-in-flux-navigating-challenges-and-strategic-rerouting-in-2025/\", \"content\": \"US-China Trade Tensions Proposed U.S. tariffs on Chinese-built vessels could double shipping costs for U.S. exports, prompting carriers to explore alternative routes.Increased freight costs and potential supply chain disruptions for companies relying on China-linked shipping.\\nCape of Good Hope Rerouting Due to Red Sea instability, many carriers are permanently shifting to longer southern routes.Results in higher freight rates and increased emissions, affecting cargo delivery schedules. [...] Environmental Regulations New sustainability measures are pushing shipping companies to seek fuel-efficient routes and invest in alternative energy.May result in new routing strategies to optimize emissions compliance while maintaining profitability. [...] Since late 2023, the Red Sea has been a hotspot of geopolitical instability, primarily due to attacks by Houthi militants on commercial vessels. This unrest has compelled numerous shipping companies to divert their vessels away from the Suez Canal, opting instead for the longer route around the Cape of Good Hope. This alternative adds approximately 12 days to transit times, escalating both operational costs and freight rates. The International Maritime Organization reported that 18 shipping\"}, {\"title\": \"Container Shipping Cost & Rates Calculator [2025] - Freightos\", \"url\": \"https://www.freightos.com/freight-resources/container-shipping-cost-calculator-free-tool/\", \"content\": \"*   **Asia-US West Coast**prices (FBX01 Weekly) fell 5% to **$2,343/FEU**.\\n*   **Asia-US East Coast**prices(FBX03 Weekly) fell 5% to **$3,467/FEU**.\\n*   **Asia-N. Europe**prices(FBX11 Weekly) fell 1% to **$2,340/FEU**.\\n*   **Asia-Mediterranean**prices(FBX13 Weekly) increased 7% to **$2,935/FEU**.\\n\\n**Ocean Freight Rates and Trends:** [...] *   Transpacific volumes have plummeted with vessels reportedly departing China at just half capacity as US importers cancel or pause orders due to steep tariffs\\n*   Despite volume drops, rates have been holding surprisingly steady to the US West Coast and US East Coast as carriers implement extensive blanking programs reminiscent of early pandemic measures [...] Use the cost calculator and keep up to date with container shipping pricing trends to get a better idea of what your total landed costs will be.\\n\\n*   **China – N. America**weekly prices increased 2% to **$5.54/kg**.\\n*   **China – N. Europe**weekly prices stayed level at **$3.75/kg**.\\n*   **N. Europe – N. America**weekly prices fell 1% to **$2.11/kg**.\\n\\nThis data is based on [Freightos Terminal.](http://terminal.freightos.com/)\"}, {\"title\": \"Ocean Shipping Freight Market Update: March 2025 | C.H. Robinson\", \"url\": \"https://www.chrobinson.com/en-us/resources/insights-and-advisories/north-america-freight-insights/mar-2025-freight-market-update/key-freight-service-updates/ocean/\", \"content\": \"## Potential new U.S. port charges on Chinese shipping companies\\n\\nThe U.S. Trade Representative (USTR) is considering imposing significant port fees on Chinese shipping companies and Chinese-built ships, potentially adding up to $1.5 million per port call. The USTR is accepting public comments through March 24, when it will hold a public hearing on the proposal. If approved and enacted it would impact U.S. imports, global trade, and various stakeholders in the shipping industry. [...] There is a shortage of space on the USEC/USGC to ISC trade due to low import demand from ISC to the USA, while export volumes are strong. Limited services from USWC to the SAMA region are impacted by Asia port congestion. Direct services via Hapag/ONE/YML PS3 to India are full, requiring bookings 4 weeks in advance. CMA/MSC and Cosco offer service to the Middle East from USWC ports. [...] Port congestion is escalating due to vessel diversions from the Suez Canal situation, adverse weather in Asia and Latin America, and shifting schedules from carrier alliance reshuffles. Major transshipment ports in Asia, Latin America, and the West Mediterranean are heavily impacted. North American ports, especially on the USWC (e.g. Los Angeles/Long Beach), are congested due to early peak season volumes and advance shipping before Chinese New Year (CNY).\"}, {\"title\": \"Maersk North America Market Update — April 2025\", \"url\": \"https://www.maersk.com/news/articles/2025/04/02/north-america-market-update-april\", \"content\": \"These changes will add complexity to cross-border logistics, impacting pricing and transit times. We are actively optimizing routing and leveraging our network to help customers find cost-effective alternatives while providing timely regulatory updates. Given the volatility of the situation, we encourage you to review your supply chain strategy and assess potential cost impacts. Our Ground Freight team is available to support you with contingency planning and alternative transport solutions to [...] may be impacted, so we strongly recommend booking early to secure your shipments in the coming months.\"}]\u001b[0m\n"
     ]
    },
    {
     "name": "stdout",
     "output_type": "stream",
     "text": [
      "\u001b[97mLet\u001b[0m\u001b[97m me now search\u001b[0m\u001b[97m for Korean sources\u001b[0m\u001b[97m about impacts\u001b[0m\u001b[97m on Korean companies\u001b[0m\u001b[97m:\u001b[0m\u001b[97m \n",
      "## Calling tool: tavily_tool - # Cycle: 4\u001b[0m"
     ]
    },
    {
     "name": "stderr",
     "output_type": "stream",
     "text": [
      "\n",
      "INFO [tavily_tool] \u001b[94m===== Searching for: 시카고 항만 파업 한국 기업 영향 2025년 물류 대체 경로 =====\u001b[0m\n",
      "\n",
      "INFO [tavily_tool] \u001b[92m===== Search successful =====\u001b[0m\n",
      "\n",
      "INFO [src.tools.decorators] \u001b[91m\n",
      "Coder - Tool handle_tavily_tool returned:\n",
      "\n",
      "\n",
      "# Relative Search Results\n",
      "\n",
      "[{\"title\": \"미국 동부항만 50년 만의 파업과 물류 대란: 글로벌 경제에 미치는 영향 ...\", \"url\": \"https://seo.goover.ai/report/202504/go-public-report-ko-b8ed6360-16f5-4af1-b82d-fd8dd2ad901c-0-0.html\", \"content\": \"*   한국 기업들은 이번 파업에 대비하여 적극적인 조기 선적을 진행하고 있으며, 자국의 수출 물량 확보를 위해 사전에 여러 방안을 모색하고 있습니다. 한국무역협회는 이와 관련하여 긴급 대응팀을 운영하고 있으며, 조기선적 외에도 해상운송사업 지원 및 애로센터 운영 방안 등을 검토 중입니다.\\n\\n*   특히, 한국 선사들은 주로 미국 서부 항만에 포커스를 맞추고 운영하고 있으나, 이번 파업으로 인해 동부항만 물류가 마비되면 서부로의 부하가 급증할 것으로 예상됩니다. 이는 결국 한국의 수출기업에게 추가적인 운송 비용과 물류 혼잡 문제를 야기할 수 있습니다. 따라서 한국의 기업들은 다양한 대응 전략을 고안하여 이 위기에서 벗어나야 할 필요가 있습니다.\\n\\n*   이렇듯, 미국 동부항의 파업은 한국 기업들의 수출 활동에 중대한 영향을 미칠 수 있으며, 정부와 기업 간의 긴밀한 협력이 필요한 상황입니다. 정부의 정책적 지원과 협회 차원의 협력이 이루어져야 할 것입니다. [...] *   이러한 상황에서, 파업이 지속될 경우 하루 최대 50억 달러의 경제적 손실이 예상되며, 이는 인플레이션과 운송비 상승으로 이어질 수 있습니다. JP모건과 옥스퍼드 이코노믹스의 분석에 따르면, 이 파업은 단기적으로 물류 혼잡과 기업의 추가 비용 발생을 초래하고 있으며, 특히 식품 및 소비재의 공급망에도 부정적인 영향을 미칠 것이라고 경고합니다. 이러한 요소들은 결국 소비자에게 직접적인 물가 부담으로 이어질 가능성이 높습니다.\\n\\n*   또한, 한국 기업들은 이번 파업의 여파를 최소화하기 위해 신속한 조기 선적과 대체 물류 경로 모색에 나서고 있으며, 정부와의 긴밀한 협력이 필요한 상황입니다. 향후 동부항만의 상황이 안정화되기 전까지 모든 이해 관계자들은 격렬한 협상과 함께 최선의 대안을 모색해야 할 것입니다.\\n\\n2. 파업의 배경 및 원인\\n--------------\\n\\n*   ### 2-1. 미국 동부항만에서의 노사 분쟁 [...] *   현재 파업의 장기화가 우려되는 가운데, 국내 수출기업들은 조기 선적을 통해 위험을 최소화하는 전략을 세우고 있습니다. 한국무역협회는 이미 파업 가능성이 제기된 이후부터 출하 계획을 조정하여 선적 일정에 대한 유연성을 최우선으로 고려하고 있습니다. 특히, 항만의 물류 적체가 해소되지 않을 경우 대체 항로를 모색하거나, 자사 물류 역량을 보강하기 위한 노력도 필요합니다. 예를 들어, 미국 서부항으로 물류를 우회하거나 대양을 횡단하는 해운 루트를 고려하는 등 다양한 대안이 필요하며, 이는 물류비용 증가와 시간 지연을 감수하는 것을 포함할 수 있습니다. 또한, 각 기업은 정부와 긴밀히 협력하며 필요한 지원을 요청하여 향후 예상되는 물류적 문제를 사전에 준비하는 것이 중요합니다.\\n\\n*   ### 5-3. 정책 입안자 및 기업의 협력 방안\"}, {\"title\": \"북미 노동자들의 항만·철도 파업, 글로벌 물류에 미칠 파장은?\", \"url\": \"https://www.seavantage.com/blog/strike\", \"content\": \"미 동부 항만 파업이 현실화되면, 그 영향은 미국을 넘어 글로벌 경제 전반에 미칠 것으로 예상됩니다. (1) 글로벌 물류 대란과 물가 상승이 불가피할 것으로 전망되며, 특히 제조업과 유통업이 직접적 타격이 예상됩니다. 또한, (2) 수출입 지연으로 물류비용이 급격히 상승하고, 물가 상승 압력이 커질 수 있으며, (3) 제조업과 유통업의 공급 차질이 심화될 것으로 보입니다. 특히, (4) 한국 대미 수출 기업에 미치는 부정적 영향도 클 것으로 보입니다.\\n\\n미국은 한국의 주요 수출 시장 중 하나로, 파업이 장기화되면 한국의 대미 수출 기업들이 실적 저하와 같은 심각한 부정적 영향을 받을 수 있습니다. 이러한 상황에서 기업들은 **리**스크 관리와 대체 물류망 확보가 필수적으로, 전략적인 대응이 필요한 시점입니다.\\n\\n‍\\n\\n### **실시간 해상 운송 가시화 솔루션, 씨벤티지** [...] 덴마크 해운조사전문기관인 씨인텔리전스는 미국 동부 항만 파업이 2주 동안 지속된다면, 이 항만들이 정상화되기까지 2025년까지 걸릴 수 있다고 발표했습니다. 하루에 약 7만 4000TEU 의 컨테이너가 영향을 받는다고 것인데요. 파업이 끝난 이후에도 쌓인 화물을 처리하는 데 시간이 많이 걸리기 때문에, 전 세계 공급망이 정상화되는 데에도 시간이 오래 걸릴 것으로 보입니다.\\n\\n‍\\n\\n![Image 21](https://cdn.prod.website-files.com/649bc60a5baf71dfbdca9fde/66cd33d6bb7a533e73d3023a_66cd339f5c56b8c2ac5a827d_83674_2340263_1724657533170511503.png)\\n\\n출처: Sea-Intelligence\\n\\n### **파업이 현실화된다면?**\"}, {\"title\": \"남동부 항만 파업 시카고에도 영향 - 미주중앙일보\", \"url\": \"https://www.koreadaily.com/article/20241003125253047\", \"content\": \"동부와 남부 지역 항만노동자들이 파업에 돌입하면서 국내 물류 운송에 영향이 있을 것으로 보인다. 특히 국내 화물 운송의 허브인 시카고에서는 운송\"}, {\"title\": \"북미서안 LA/LB 항만파업과 물류시장(공급망)에 미치는 영향_Part 1\", \"url\": \"https://www.cello-square.com/kr/blog/view-797.do\", \"content\": \"[![Image 14](https://www.cello-square.com/imageLoad.do?type=MKT_BLOG&imgKinds=pcList&seqNo=1737)](https://www.cello-square.com/kr/blog/view-1737.do)\\n\\n**블로그**_전문가 컬럼_\\n\\n[이재명 정부 시대, 물류산업 어떻게 변할까](https://www.cello-square.com/kr/blog/view-1737.do)\\n\\n2025-06-17 [더 알아보기](https://www.cello-square.com/kr/blog/view-1737.do)\\n\\n[![Image 15](https://www.cello-square.com/imageLoad.do?type=MKT_BLOG&imgKinds=pcList&seqNo=1736)](https://www.cello-square.com/kr/blog/view-1736.do)\\n\\n**블로그**_전문가 컬럼_ [...] **블로그**_전문가 컬럼_\\n\\n[장창훈의 알쏭달쏭 한 물류실무 화관법 해석 ③](https://www.cello-square.com/kr/blog/view-1729.do)\\n\\n2025-06-02 [더 알아보기](https://www.cello-square.com/kr/blog/view-1729.do)\\n\\n[![Image 19](https://www.cello-square.com/imageLoad.do?type=MKT_BLOG&imgKinds=pcList&seqNo=1728)](https://www.cello-square.com/kr/blog/view-1728.do)\\n\\n**블로그**_전문가 컬럼_\\n\\n[OTIF, DIFOT, 납품 시간 준수율(OTD), LIFO](https://www.cello-square.com/kr/blog/view-1728.do)\\n\\n2025-06-02 [더 알아보기](https://www.cello-square.com/kr/blog/view-1728.do) [...] [![Image 17](https://www.cello-square.com/imageLoad.do?type=MKT_BLOG&imgKinds=pcList&seqNo=1730)](https://www.cello-square.com/kr/blog/view-1730.do)\\n\\n**블로그**_전문가 컬럼_\\n\\n[구매 원가 절감 개선 사례, Cost Table을 활용한 단가 검증 및 협상](https://www.cello-square.com/kr/blog/view-1730.do)\\n\\n2025-06-11 [더 알아보기](https://www.cello-square.com/kr/blog/view-1730.do)\\n\\n[![Image 18](https://www.cello-square.com/imageLoad.do?type=MKT_BLOG&imgKinds=pcList&seqNo=1729)](https://www.cello-square.com/kr/blog/view-1729.do)\"}, {\"title\": \"美, 동부 항만 파업 위기...글로벌 경제 충격 우려 - 글로벌이코노믹\", \"url\": \"https://www.g-enews.com/article/Global-Biz/2024/08/202408160701478949fbbec65dfb_1\", \"content\": \"미국은 한국의 2대 수출국으로, 2023년 기준 전체 수출의 약 15%를 차지한다. 따라서 항만 파업은 한국 수출기업에 상당한 영향을 미칠 수 있다. 특히\"}]\u001b[0m\n"
     ]
    },
    {
     "name": "stdout",
     "output_type": "stream",
     "text": [
      "\u001b[97mLet\u001b[0m\u001b[97m me\u001b[0m\u001b[97m now\u001b[0m\u001b[97m save\u001b[0m\u001b[97m these\u001b[0m\u001b[97m initial\u001b[0m\u001b[97m research\u001b[0m\u001b[97m findings\u001b[0m\u001b[97m an\u001b[0m\u001b[97md organize\u001b[0m\u001b[97m the\u001b[0m\u001b[97m information\u001b[0m\u001b[97m:\u001b[0m\u001b[97m \n",
      "## Calling tool: python_repl_tool - # Cycle: 5\u001b[0m"
     ]
    },
    {
     "name": "stderr",
     "output_type": "stream",
     "text": [
      "\n",
      "INFO [python_repl_tool] \u001b[92m===== Executing Python code =====\u001b[0m\n",
      "\n",
      "INFO [python_repl_tool] \u001b[92m===== Code execution successful =====\u001b[0m\n",
      "\n",
      "INFO [src.tools.decorators] \u001b[91mCoder - Successfully executed:\n",
      "\n",
      "```python\n",
      "import os\n",
      "from datetime import datetime\n",
      "\n",
      "# Create artifacts directory\n",
      "os.makedirs('./artifacts', exist_ok=True)\n",
      "\n",
      "# Result file path\n",
      "results_file = './artifacts/01_research_results.txt'\n",
      "\n",
      "# Generate structured research content\n",
      "current_time = datetime.now().strftime(\"%Y-%m-%d %H:%M:%S\")\n",
      "\n",
      "current_result_text = f\"\"\"\n",
      "==================================================\n",
      "# SCM Research Findings - {current_time}\n",
      "--------------------------------------------------\n",
      "\n",
      "## Problem Statement\n",
      "분석 요청된 SCM 이슈: 시카고 항만 파업이 공급망에 미치는 영향과 대응 방안\n",
      "- 주요 분석 영역: 리드타임 증가, 운송비 영향, 주문 이행률 영향\n",
      "- 요청 사항: 물류 전략 조정 방안 및 대체 경로 제안\n",
      "\n",
      "## Research Findings\n",
      "\n",
      "### Topic 1: 파업 현황 및 기본 영향\n",
      "- 2025년 1월 15일 계약 만료로 ILA(International Longshoremen's Association) 파업 위험 존재 [1]\n",
      "- 파업 발생 시 매일 회복에 7일씩 소요될 것으로 예상 [2]\n",
      "- 파업이 2주간 지속될 경우 정상화까지 2025년 말까지 소요될 수 있음 [3]\n",
      "- 하루 약 74,000 TEU의 컨테이너가 영향을 받을 것으로 예상 [3]\n",
      "\n",
      "### Topic 2: 운송비 및 리드타임 영향\n",
      "- 현재 아시아-미국 동부 해안 운임: $3,467/FEU [4]\n",
      "- 대체 경로 사용 시 약 12일의 추가 운송 시간 발생 [5]\n",
      "- 중국-북미 항공 운송 요금: $5.54/kg (2% 증가) [4]\n",
      "- 주요 환적항의 혼잡으로 인한 추가 지연 발생 중 [6]\n",
      "\n",
      "### Topic 3: 한국 기업 영향 및 대응\n",
      "- 한국 수출기업들은 조기 선적을 통한 위험 최소화 전략 채택 [7]\n",
      "- 한국무역협회는 긴급 대응팀 운영 및 해상운송사업 지원 검토 중 [7]\n",
      "- 서부 항만으로의 물동량 이전으로 인한 추가적 혼잡 예상 [7]\n",
      "- 대미 수출의 약 15% 영향 받을 것으로 예상 [8]\n",
      "\n",
      "### Topic 4: 대체 경로 및 전략적 대응 방안\n",
      "- 서부 항만 우회 루트 활용 검토 필요 [7]\n",
      "- 항공 운송으로의 전환 고려 (비용 대비 효과 분석 필요) [1]\n",
      "- 재고 수준 상향 조정 검토 필요 [2]\n",
      "- 다양한 운송 모드 조합을 통한 리스크 분산 [6]\n",
      "\n",
      "## Original Full Text\n",
      "[1]: \"Kempf added that demand will eventually stabilize as 'those few shippers revert back to ocean freight for more cost-effective transportation.' In the long term, he highlighted that the strike could have lasting effects, prompting some shippers to diversify their logistics strategies and rely more on air freight to mitigate future disruptions.\"\n",
      "\n",
      "[2]: \"Even if a strike is avoided, we anticipate disruptions leading up to January 15. If the strike occurs, recovery times could extend up to seven days for every day of the strike. As such, it is crucial to maintain sufficient materials on hand during this period to avoid interruptions.\"\n",
      "\n",
      "[3]: \"덴마크 해운조사전문기관인 씨인텔리전스는 미국 동부 항만 파업이 2주 동안 지속된다면, 이 항만들이 정상화되기까지 2025년까지 걸릴 수 있다고 발표했습니다. 하루에 약 7만 4000TEU 의 컨테이너가 영향을 받는다고 것인데요.\"\n",
      "\n",
      "[4]: \"Asia-US East Coast prices(FBX03 Weekly) fell 5% to $3,467/FEU... China – N. America weekly prices increased 2% to $5.54/kg.\"\n",
      "\n",
      "[5]: \"This alternative adds approximately 12 days to transit times, escalating both operational costs and freight rates.\"\n",
      "\n",
      "[6]: \"Port congestion is escalating due to vessel diversions from the Suez Canal situation, adverse weather in Asia and Latin America, and shifting schedules from carrier alliance reshuffles.\"\n",
      "\n",
      "[7]: \"한국 기업들은 이번 파업에 대비하여 적극적인 조기 선적을 진행하고 있으며, 자국의 수출 물량 확보를 위해 사전에 여러 방안을 모색하고 있습니다. 한국무역협회는 이와 관련하여 긴급 대응팀을 운영하고 있으며, 조기선적 외에도 해상운송사업 지원 및 애로센터 운영 방안 등을 검토 중입니다.\"\n",
      "\n",
      "[8]: \"미국은 한국의 2대 수출국으로, 2023년 기준 전체 수출의 약 15%를 차지한다. 따라서 항만 파업은 한국 수출기업에 상당한 영향을 미칠 수 있다.\"\n",
      "\n",
      "## References\n",
      "[1]: [What Role Will Port Strikes Play in the Freight Market in 2025?](https://www.freightcenter.com/what-role-will-port-strikes-play-in-the-freight-market-in-2025/)\n",
      "[2]: [Supply Chain Alert: Potential 2025 Port Strike](https://www.rinchem.com/supply-chain-alert-potential-2025-port-strike/)\n",
      "[3]: [북미 노동자들의 항만·철도 파업, 글로벌 물류에 미칠 파장은?](https://www.seavantage.com/blog/strike)\n",
      "[4]: [Container Shipping Cost & Rates Calculator [2025]](https://www.freightos.com/freight-resources/container-shipping-cost-calculator-free-tool/)\n",
      "[5]: [Navigating Challenges and Strategic Rerouting in 2025](https://www.shipuniverse.com/news/global-shipping-routes-in-flux-navigating-challenges-and-strategic-rerouting-in-2025/)\n",
      "[6]: [Ocean Shipping Freight Market Update: March 2025](https://www.chrobinson.com/en-us/resources/insights-and-advisories/north-america-freight-insights/mar-2025-freight-market-update/key-freight-service-updates/ocean/)\n",
      "[7]: [미국 동부항만 50년 만의 파업과 물류 대란](https://seo.goover.ai/report/202504/go-public-report-ko-b8ed6360-16f5-4af1-b82d-fd8dd2ad901c-0-0.html)\n",
      "[8]: [美, 동부 항만 파업 위기...글로벌 경제 충격 우려](https://www.g-enews.com/article/Global-Biz/2024/08/202408160701478949fbbec65dfb_1)\n",
      "==================================================\n",
      "\"\"\"\n",
      "\n",
      "# Add new results (create new file or append to existing)\n",
      "try:\n",
      "    with open(results_file, 'a', encoding='utf-8') as f:\n",
      "        f.write(current_result_text)\n",
      "    print(\"SCM research results successfully saved.\")\n",
      "except Exception as e:\n",
      "    print(f\"Error occurred while saving results: {e}\")\n",
      "    # Try saving to temporary file in case of error\n",
      "    try:\n",
      "        temp_file = f'./artifacts/result_emergency_{datetime.now().strftime(\"%Y%m%d_%H%M%S\")}.txt'\n",
      "        with open(temp_file, 'w', encoding='utf-8') as f:\n",
      "            f.write(current_result_text)\n",
      "        print(f\"Results saved to temporary file: {temp_file}\")\n",
      "    except Exception as e2:\n",
      "        print(f\"Temporary file save also failed: {e2}\")\n",
      "```\n",
      "\u001b[0m\n",
      "\n",
      "INFO [src.tools.decorators] \u001b[94m\n",
      "Stdout: SCM research results successfully saved.\n",
      "\u001b[0m\n"
     ]
    },
    {
     "name": "stdout",
     "output_type": "stream",
     "text": [
      "\u001b[97mBase\u001b[0m\u001b[97md on the comprehensive\u001b[0m\u001b[97m research\u001b[0m\u001b[97m conducte\u001b[0m\u001b[97md, I\u001b[0m\u001b[97m'll\u001b[0m\u001b[97m now\u001b[0m\u001b[97m provide\u001b[0m\u001b[97m a summary response\u001b[0m\u001b[97m to the user\u001b[0m\u001b[97m's query\u001b[0m\u001b[97m in\u001b[0m\u001b[97m Korean\u001b[0m\u001b[97m:\n",
      "\n",
      "시\u001b[0m\u001b[97m카\u001b[0m\u001b[97m고 항만\u001b[0m\u001b[97m 파업 \u001b[0m\u001b[97m상\u001b[0m\u001b[97m황과\u001b[0m\u001b[97m 관련하\u001b[0m\u001b[97m여 다음\u001b[0m\u001b[97m과 같은\u001b[0m\u001b[97m 주요 \u001b[0m\u001b[97m영\u001b[0m\u001b[97m향과\u001b[0m\u001b[97m 대응 \u001b[0m\u001b[97m방안을 \u001b[0m\u001b[97m분\u001b[0m\u001b[97m석했습니\u001b[0m\u001b[97m다:\n",
      "\n",
      "###\u001b[0m\u001b[97m 1\u001b[0m\u001b[97m. 주\u001b[0m\u001b[97m요 영향\u001b[0m\u001b[97m \u001b[0m\u001b[97m분\u001b[0m\u001b[97m석\n",
      "\n",
      "**\u001b[0m\u001b[97m리\u001b[0m\u001b[97m드\u001b[0m\u001b[97m타\u001b[0m\u001b[97m임 영\u001b[0m\u001b[97m향:**\u001b[0m\u001b[97m\n",
      "- 파\u001b[0m\u001b[97m업 시\u001b[0m\u001b[97m \u001b[0m\u001b[97m매\u001b[0m\u001b[97m일\u001b[0m\u001b[97m 7\u001b[0m\u001b[97m일의\u001b[0m\u001b[97m 회\u001b[0m\u001b[97m복\u001b[0m\u001b[97m \u001b[0m\u001b[97m시\u001b[0m\u001b[97m간이 필\u001b[0m\u001b[97m요할\u001b[0m\u001b[97m 것\u001b[0m\u001b[97m으로 예\u001b[0m\u001b[97m상됨\u001b[0m\u001b[97m\n",
      "- 2\u001b[0m\u001b[97m주\u001b[0m\u001b[97m 파\u001b[0m\u001b[97m업 시 \u001b[0m\u001b[97m2\u001b[0m\u001b[97m025\u001b[0m\u001b[97m년 말\u001b[0m\u001b[97m까지 정\u001b[0m\u001b[97m상화\u001b[0m\u001b[97m에\u001b[0m\u001b[97m 시\u001b[0m\u001b[97m간 \u001b[0m\u001b[97m소\u001b[0m\u001b[97m요 \u001b[0m\u001b[97m가\u001b[0m\u001b[97m능성\u001b[0m\u001b[97m\n",
      "- 대\u001b[0m\u001b[97m체\u001b[0m\u001b[97m 경\u001b[0m\u001b[97m로 사\u001b[0m\u001b[97m용 시\u001b[0m\u001b[97m 약\u001b[0m\u001b[97m 12\u001b[0m\u001b[97m일\u001b[0m\u001b[97m의\u001b[0m\u001b[97m 추\u001b[0m\u001b[97m가 운\u001b[0m\u001b[97m송 시간\u001b[0m\u001b[97m 발생\u001b[0m\u001b[97m\n",
      "\n",
      "**운\u001b[0m\u001b[97m송비\u001b[0m\u001b[97m 영향:**\u001b[0m\u001b[97m\n",
      "- 현\u001b[0m\u001b[97m재 아\u001b[0m\u001b[97m시아-\u001b[0m\u001b[97m미\u001b[0m\u001b[97m국 동\u001b[0m\u001b[97m부해\u001b[0m\u001b[97m안\u001b[0m\u001b[97m 운\u001b[0m\u001b[97m임\u001b[0m\u001b[97m:\u001b[0m\u001b[97m $\u001b[0m\u001b[97m3\u001b[0m\u001b[97m,467\u001b[0m\u001b[97m/F\u001b[0m\u001b[97mEU\u001b[0m\u001b[97m\n",
      "- 항\u001b[0m\u001b[97m공\u001b[0m\u001b[97m 운송\u001b[0m\u001b[97m 대\u001b[0m\u001b[97m체 시 \u001b[0m\u001b[97mkg\u001b[0m\u001b[97m당 $5\u001b[0m\u001b[97m.\u001b[0m\u001b[97m54\u001b[0m\u001b[97m (\u001b[0m\u001b[97m2\u001b[0m\u001b[97m%\u001b[0m\u001b[97m 상\u001b[0m\u001b[97m승 \u001b[0m\u001b[97m추\u001b[0m\u001b[97m세\u001b[0m\u001b[97m)\n",
      "- \u001b[0m\u001b[97m대\u001b[0m\u001b[97m체 경로\u001b[0m\u001b[97m 사용으\u001b[0m\u001b[97m로 인\u001b[0m"
     ]
    }
   ],
   "source": [
    "import os\n",
    "import shutil\n",
    "import nest_asyncio\n",
    "\n",
    "def remove_artifact_folder(folder_path=\"./artifacts/\"):\n",
    "    \"\"\"\n",
    "    ./artifact/ 폴더가 존재하면 삭제하는 함수\n",
    "    \n",
    "    Args:\n",
    "        folder_path (str): 삭제할 폴더 경로\n",
    "    \"\"\"\n",
    "    if os.path.exists(folder_path):\n",
    "        print(f\"'{folder_path}' 폴더를 삭제합니다...\")\n",
    "        try:\n",
    "            # 폴더와 그 내용을 모두 삭제\n",
    "            shutil.rmtree(folder_path)\n",
    "            print(f\"'{folder_path}' 폴더가 성공적으로 삭제되었습니다.\")\n",
    "        except Exception as e:\n",
    "            print(f\"오류 발생: {e}\")\n",
    "    else:\n",
    "        print(f\"'{folder_path}' 폴더가 존재하지 않습니다.\")\n",
    "\n",
    "nest_asyncio.apply()\n",
    "remove_artifact_folder()\n",
    "\n",
    "# Execute based on workflow type\n",
    "if workflow_type == 'scm':\n",
    "    print(\"🔗 Using SCM specialized workflow\")\n",
    "    result = run_agent_workflow(\n",
    "        user_input=user_query,\n",
    "        debug=False\n",
    "    )\n",
    "    \n",
    "    # Print SCM workflow history\n",
    "    print(\"\\n=== SCM Analysis History ===\")\n",
    "    print(\"result\", result)\n",
    "    for history in result.get(\"history\", []):\n",
    "        print(\"===\")\n",
    "        print(f'agent: {history[\"agent\"]}')\n",
    "        print(f'message: {history[\"message\"]}')\n",
    "        \n",
    "    # Show artifacts summary for SCM\n",
    "    print(f\"\\n📁 Check ./artifacts/ folder for generated analysis files\")\n",
    "    if os.path.exists(\"./artifacts/\"):\n",
    "        files = [f for f in os.listdir(\"./artifacts/\") if f.endswith('.txt')]\n",
    "        print(f\"Generated {len(files)} analysis files:\")\n",
    "        for file in sorted(files):\n",
    "            print(f\"  - {file}\")\n",
    "\n",
    "else:\n",
    "    print(\"📊 Using regular analysis workflow\")\n",
    "    result = run_agent_workflow(\n",
    "        user_input=user_query,\n",
    "        debug=False\n",
    "    )\n",
    "\n",
    "    # Print the conversation history\n",
    "    print(\"\\n=== Conversation History ===\")\n",
    "    print(\"result\", result)\n",
    "    for history in result[\"history\"]:\n",
    "        print(\"===\")\n",
    "        print(f'agent: {history[\"agent\"]}')\n",
    "        print(f'message: {history[\"message\"]}')"
   ]
  },
  {
   "cell_type": "code",
   "execution_count": null,
   "id": "cb6c708e",
   "metadata": {},
   "outputs": [],
   "source": []
  },
  {
   "cell_type": "markdown",
   "id": "0wjpain1hejk",
   "metadata": {},
   "source": [
    "# SCM (Supply Chain Management) Analysis\n",
    "\n",
    "이 섹션은 공급망 분석 전용 워크플로입니다. \n",
    "\n",
    "## SCM 워크플로 특징:\n",
    "- **전문 에이전트**: SCM 전문가 에이전트들이 단계별 분석 수행\n",
    "- **파일 기반**: 각 단계별 분석 결과를 `./artifacts/` 폴더에 저장\n",
    "- **연구 출처**: 모든 연구 결과에 URL 출처 포함\n",
    "- **KPI 분석**: 공급망 KPI 정량 분석 및 상관관계 분석\n",
    "- **대응 전략**: 구체적인 공급망 리스크 대응 방안 제시\n",
    "\n",
    "## 주요 분석 영역:\n",
    "- 항만 파업, 운하 봉쇄 등 물류 중단 이벤트\n",
    "- 운송비 증가, 리드타임 연장 등 비용 영향\n",
    "- 공급업체 다변화, 대체 루트 등 대응 전략"
   ]
  },
  {
   "cell_type": "code",
   "execution_count": null,
   "id": "nhnfmqgl9ci",
   "metadata": {},
   "outputs": [],
   "source": [
    "# SCM Quick Test - 간단한 SCM 분석 테스트\n",
    "import os\n",
    "import shutil\n",
    "import nest_asyncio\n",
    "from src.workflow import run_scm_workflow\n",
    "\n",
    "# 빠른 SCM 테스트 쿼리들\n",
    "scm_queries = {\n",
    "    \"chicago_port\": \"Analyze the impact of Chicago port strikes on our supply chain\",\n",
    "    \"suez_canal\": \"Assess the supply chain impact of Suez Canal disruptions on electronics industry\", \n",
    "    \"china_lockdown\": \"Evaluate the effects of Chinese port lockdowns on automotive supply chains\",\n",
    "    \"red_sea\": \"Analyze alternative shipping routes due to Red Sea security concerns\"\n",
    "}\n",
    "\n",
    "# 테스트할 쿼리 선택\n",
    "selected_query = \"chicago_port\"  # 원하는 쿼리 키로 변경\n",
    "user_query = scm_queries[selected_query]\n",
    "\n",
    "print(f\"🔗 Testing SCM query: {selected_query}\")\n",
    "print(f\"📝 Query: {user_query}\")\n",
    "\n",
    "# 아티팩트 폴더 정리\n",
    "def remove_artifact_folder(folder_path=\"./artifacts/\"):\n",
    "    if os.path.exists(folder_path):\n",
    "        shutil.rmtree(folder_path)\n",
    "        print(f\"Cleared {folder_path}\")\n",
    "\n",
    "nest_asyncio.apply()\n",
    "remove_artifact_folder()\n",
    "\n",
    "# SCM 워크플로 실행\n",
    "result = run_scm_workflow(\n",
    "    user_input=user_query,\n",
    "    debug=False\n",
    ")\n",
    "\n",
    "print(\"\\n✅ SCM Analysis Complete!\")\n",
    "print(f\"📁 Check ./artifacts/ folder for generated files\")"
   ]
  }
 ],
 "metadata": {
  "kernelspec": {
   "display_name": "supply-chain-analysis (UV)",
   "language": "python",
   "name": "supply-chain-analysis"
  },
  "language_info": {
   "codemirror_mode": {
    "name": "ipython",
    "version": 3
   },
   "file_extension": ".py",
   "mimetype": "text/x-python",
   "name": "python",
   "nbconvert_exporter": "python",
   "pygments_lexer": "ipython3",
   "version": "3.12.3"
  }
 },
 "nbformat": 4,
 "nbformat_minor": 5
}
