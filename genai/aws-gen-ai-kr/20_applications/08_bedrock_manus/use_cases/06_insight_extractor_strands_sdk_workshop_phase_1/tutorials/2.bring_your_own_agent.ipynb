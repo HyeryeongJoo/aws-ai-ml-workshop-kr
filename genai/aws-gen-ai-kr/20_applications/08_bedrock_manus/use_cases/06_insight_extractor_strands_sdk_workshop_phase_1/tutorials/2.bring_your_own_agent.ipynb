{
 "cells": [
  {
   "cell_type": "markdown",
   "id": "b739ff32",
   "metadata": {},
   "source": [
    "# Bring Your Own Agent"
   ]
  },
  {
   "cell_type": "markdown",
   "id": "f3a00f3e",
   "metadata": {},
   "source": [
    "# 1. Architecture"
   ]
  },
  {
   "cell_type": "code",
   "execution_count": null,
   "id": "557f0a6c",
   "metadata": {},
   "outputs": [],
   "source": []
  },
  {
   "cell_type": "markdown",
   "id": "b84ed0ee",
   "metadata": {},
   "source": [
    "# 2. Bring Your Own Agent"
   ]
  },
  {
   "cell_type": "markdown",
   "id": "90968061",
   "metadata": {},
   "source": [
    "## 2.1. Graph definition"
   ]
  },
  {
   "cell_type": "markdown",
   "id": "ae498bbc",
   "metadata": {},
   "source": [
    "### 2.1.1. Prompts"
   ]
  },
  {
   "cell_type": "markdown",
   "id": "7f7e93a2",
   "metadata": {},
   "source": [
    "### Coordinator Agent\n",
    "\n",
    "> **🎯 목적**: 사용자 요청을 받고 워크플로우를 시작하는 조정자 에이전트입니다.\n",
    "\n",
    "| 속성 | 설정 | 설명 |\n",
    "|------|------|------|\n",
    "| **agent name** | `coordinator` | 조정자 에이전트 식별자 |\n",
    "| **script path** | [`../src/prompts/coordinator.md`](../src/prompts/coordinator.md) | 프롬프트 파일 위치 |\n",
    "\n",
    "**핵심 역할**: 요청 분석, 플래너 핸드오프 결정, 워크플로우 진입점"
   ]
  },
  {
   "cell_type": "code",
   "execution_count": null,
   "id": "2378eaa9",
   "metadata": {},
   "outputs": [],
   "source": [
    "%%writefile ../src/prompts/coordinator_yours.md\n",
    "\n",
    "<here, your prompt>"
   ]
  },
  {
   "cell_type": "markdown",
   "id": "7f599160",
   "metadata": {},
   "source": [
    "### Coder Agent\n",
    "\n",
    "> **🎯 목적**: 데이터 분석과 코드 실행을 담당하는 코더 에이전트입니다.\n",
    "\n",
    "| 속성 | 설정 | 설명 |\n",
    "|------|------|------|\n",
    "| **agent name** | `coder` | 코더 에이전트 식별자 |\n",
    "| **script path** | [`../src/prompts/coder.md`](../src/prompts/coder.md) | 프롬프트 파일 위치 |\n",
    "\n",
    "**핵심 역할**: 데이터 분석, Python 코드 실행, 차트 생성"
   ]
  },
  {
   "cell_type": "code",
   "execution_count": null,
   "id": "2d9254a0",
   "metadata": {},
   "outputs": [],
   "source": [
    "%%writefile ../src/prompts/coder_yours.md\n",
    "\n",
    "<here, your prompt>"
   ]
  },
  {
   "cell_type": "markdown",
   "id": "640bad77",
   "metadata": {},
   "source": [
    "### 2.1.2 Tools"
   ]
  },
  {
   "cell_type": "markdown",
   "id": "262f4283",
   "metadata": {},
   "source": [
    "### Python REPL Tool\n",
    "\n",
    "> **🎯 목적**: Python 코드를 실행하고 결과를 반환하는 도구입니다.\n",
    "\n",
    "| 속성 | 설정 | 설명 |\n",
    "|------|------|------|\n",
    "| **tool name** | `python_repl_tool` | Python 실행 도구 식별자 |\n",
    "| **script path** | [`../src/tools/python_repl_tool.py`](../src/tools/python_repl_tool.py) | 도구 구현 파일 위치 |\n",
    "\n",
    "**핵심 기능**: 코드 실행, 결과 출력, 오류 처리"
   ]
  },
  {
   "cell_type": "code",
   "execution_count": null,
   "id": "7d654174",
   "metadata": {},
   "outputs": [],
   "source": [
    "%%writefile ../src/tools/python_repl_tool_yours.py\n",
    "\n",
    "<here, your tool>"
   ]
  },
  {
   "cell_type": "markdown",
   "id": "b7c77d17",
   "metadata": {},
   "source": [
    "### Coder Agent Tool (**Agent as a Tool**)\n",
    "\n",
    "> **🎯 목적**: 코더 에이전트를 도구로 래핑하여 다른 에이전트가 사용할 수 있게 합니다.\n",
    "\n",
    "| 속성 | 설정 | 설명 |\n",
    "|------|------|------|\n",
    "| **tool name** | `coder_agent_tool` | 에이전트-도구 래퍼 식별자 |\n",
    "| **script path** | [`../src/tools/coder_agent_tool.py`](../src/tools/coder_agent_tool.py) | 도구 구현 파일 위치 |\n",
    "\n",
    "**핵심 개념**: 에이전트를 도구로 변환, 멀티 에이전트 워크플로우 구현"
   ]
  },
  {
   "cell_type": "code",
   "execution_count": null,
   "id": "bcf96002",
   "metadata": {},
   "outputs": [],
   "source": [
    "%%writefile ../src/tools/coder_agent_tool_yours.py\n",
    "\n",
    "<here, your agent as a tool>"
   ]
  },
  {
   "cell_type": "markdown",
   "id": "e0ed7e97",
   "metadata": {},
   "source": [
    "### 2.1.3 Nodes\n",
    "\n",
    "> **🎯 목적**: 워크플로우 그래프의 각 노드별 처리 로직을 정의합니다.\n",
    "\n",
    "| 속성 | 설정 | 설명 |\n",
    "|------|------|------|\n",
    "| **기능** | 노드 로직 구현 | 각 에이전트의 실행 로직과 상태 관리 |\n",
    "| **script path** | [`../src/graph/nodes.py`](../src/graph/nodes.py) | 노드 구현 파일 위치 |\n",
    "\n",
    "**핵심 구성**: Coordinator, Planner, Supervisor 노드 및 글로벌 상태 관리"
   ]
  },
  {
   "cell_type": "code",
   "execution_count": null,
   "id": "208e8ca2",
   "metadata": {},
   "outputs": [],
   "source": [
    "%%writefile ../src/graph/nodes_yours.py\n",
    "\n",
    "<here, your nodes>"
   ]
  },
  {
   "cell_type": "markdown",
   "id": "6054ebbd",
   "metadata": {},
   "source": [
    "### 2.1.4 Edges (Build Graph)\n",
    "\n",
    "> **🎯 목적**: 노드 간 연결과 워크플로우 흐름을 정의하는 그래프를 구축합니다.\n",
    "\n",
    "| 속성 | 설정 | 설명 |\n",
    "|------|------|------|\n",
    "| **참조** | [Strands Agents - Graph Pattern](https://strandsagents.com/latest/documentation/docs/user-guide/concepts/multi-agent/graph/?h=graph) | 그래프 패턴 공식 문서 |\n",
    "| **script path** | [`../src/graph/builder.py`](../src/graph/builder.py#L68-L86) | 그래프 빌더 구현 파일 위치 |\n",
    "\n",
    "**핵심 기능**: 조건부 엣지, 스트리밍 그래프, 노드 간 전환 로직"
   ]
  },
  {
   "cell_type": "code",
   "execution_count": null,
   "id": "73e4a02e",
   "metadata": {},
   "outputs": [],
   "source": [
    "%%writefile ../src/graph/builder_yours.py\n",
    "\n",
    "<here, your edges>"
   ]
  },
  {
   "cell_type": "markdown",
   "id": "22b00640",
   "metadata": {},
   "source": [
    "## 2.2. Main defination\n",
    "- Input definition\n",
    "- 1st script path: [\"../main.py\", Line 80 - 96](../main.py#L80-L96)\n",
    "- 2nd script path: [\"../main.py\", Line 115 - 135](../main.py#L115-L135)"
   ]
  },
  {
   "cell_type": "markdown",
   "id": "b112219d",
   "metadata": {},
   "source": [
    "## 3. Invocation"
   ]
  },
  {
   "cell_type": "code",
   "execution_count": null,
   "id": "73a6b6bc",
   "metadata": {},
   "outputs": [],
   "source": [
    "!uv run ../main.py \\\n",
    "    --user_query \"너가 작성할 것은 moon market 의 판매 현황 보고서야. 세일즈 및 마케팅 관점으로 분석을 해주고, 차트 생성 및 인사이트도 뽑아서 pdf 파일로 만들어줘. 분석대상은 './data/Dat-fresh-food-claude.csv' 파일 입니다.\""
   ]
  }
 ],
 "metadata": {
  "kernelspec": {
   "display_name": "bedrock-manus-agentcore (UV)",
   "language": "python",
   "name": "bedrock-manus-agentcore"
  },
  "language_info": {
   "codemirror_mode": {
    "name": "ipython",
    "version": 3
   },
   "file_extension": ".py",
   "mimetype": "text/x-python",
   "name": "python",
   "nbconvert_exporter": "python",
   "pygments_lexer": "ipython3",
   "version": "3.12.11"
  }
 },
 "nbformat": 4,
 "nbformat_minor": 5
}
