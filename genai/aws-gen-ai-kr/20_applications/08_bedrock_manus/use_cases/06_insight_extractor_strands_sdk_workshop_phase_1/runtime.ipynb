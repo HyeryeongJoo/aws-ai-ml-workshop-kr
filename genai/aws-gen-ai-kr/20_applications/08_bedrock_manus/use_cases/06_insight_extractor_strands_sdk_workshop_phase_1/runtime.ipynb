{
 "cells": [
  {
   "cell_type": "markdown",
   "id": "5c0122e65c053f38",
   "metadata": {},
   "source": [
    "# Hosting Strands + LangGraph agent with Amazon Bedrock models in Amazon Bedrock AgentCore Runtime\n",
    "\n",
    "## Overview\n",
    "\n",
    "In this tutorial we will learn how to host your existing agent, using Amazon Bedrock AgentCore Runtime. \n",
    "\n",
    "We will focus on a LangGraph with Amazon Bedrock model example. For Strands Agents with Amazon Bedrock model check [here](../01-strands-with-bedrock-model)\n",
    "and for a Strands Agents with an OpenAI model check [here](../03-strands-with-openai-model).\n",
    "\n",
    "### Tutorial Details\n",
    "\n",
    "| Information         | Details                                                                      |\n",
    "|:--------------------|:-----------------------------------------------------------------------------|\n",
    "| Tutorial type       | Conversational                                                               |\n",
    "| Agent type          | Single                                                                       |\n",
    "| Agentic Framework   | Strands + LangGraph                                                                    |\n",
    "| LLM model           | Anthropic Claude Sonnet 3                                                    |\n",
    "| Tutorial components | Hosting agent on AgentCore Runtime. Using Strands + LangGraph and Amazon Bedrock Model |\n",
    "| Tutorial vertical   | Cross-vertical                                                               |\n",
    "| Example complexity  | Easy                                                                         |\n",
    "| SDK used            | Amazon BedrockAgentCore Python SDK and boto3                                 |\n",
    "\n",
    "### Tutorial Architecture\n",
    "\n",
    "In this tutorial we will describe how to deploy an existing agent to AgentCore runtime. \n",
    "\n",
    "For demonstration purposes, we will  use a LangGraph agent using Amazon Bedrock models\n",
    "\n",
    "In our example we will use a very simple agent with two tools: `get_weather` and `get_time`. \n",
    "\n",
    "<div style=\"text-align:left\">\n",
    "    <img src=\"images/architecture_runtime.png\" width=\"50%\"/>\n",
    "</div>\n",
    "\n",
    "### Tutorial Key Features\n",
    "\n",
    "* Hosting Agents on Amazon Bedrock AgentCore Runtime\n",
    "* Using Amazon Bedrock models\n",
    "* Using LangGraph\n"
   ]
  },
  {
   "cell_type": "markdown",
   "id": "3a676f58ecf52b42",
   "metadata": {},
   "source": [
    "## Prerequisites\n",
    "\n",
    "To execute this tutorial you will need:\n",
    "* Python 3.10+\n",
    "* AWS credentials\n",
    "* Amazon Bedrock AgentCore SDK\n",
    "* LangGraph\n",
    "* Docker running"
   ]
  },
  {
   "cell_type": "markdown",
   "id": "ca924a7a2731e26f",
   "metadata": {},
   "source": [
    "## Creating your agents and experimenting locally\n",
    "\n",
    "Before we deploy our agents to AgentCore Runtime, let's develop and run them locally for experimentation purposes.\n",
    "\n",
    "For production agentic applications we will need to decouple the agent creation process from the agent invocation one. With AgentCore Runtime, we will decorate the invocation part of our agent with the `@app.entrypoint` decorator and have it as the entry point for our runtime. Let's first look how each agent is developed during the experimentation phase.\n",
    "\n",
    "The architecture here will look as following:\n",
    "\n",
    "<div style=\"text-align:left\">\n",
    "    <img src=\"images/architecture_local.png\" width=\"60%\"/>\n",
    "</div>"
   ]
  },
  {
   "cell_type": "code",
   "execution_count": 1,
   "id": "df2e9bf4",
   "metadata": {},
   "outputs": [],
   "source": [
    "%load_ext autoreload\n",
    "%autoreload 2"
   ]
  },
  {
   "cell_type": "code",
   "execution_count": 2,
   "id": "b8a5e570",
   "metadata": {},
   "outputs": [],
   "source": [
    "import sys, os\n",
    "module_path = \"../../../..\"\n",
    "sys.path.append(os.path.abspath(module_path))"
   ]
  },
  {
   "cell_type": "markdown",
   "id": "932110e6-fca6-47b6-b7c5-c4714a866a80",
   "metadata": {},
   "source": [
    "## Preparing your agent for deployment on AgentCore Runtime\n",
    "\n",
    "Let's now deploy our agents to AgentCore Runtime. To do so we need to:\n",
    "* Import the Runtime App with `from bedrock_agentcore.runtime import BedrockAgentCoreApp`\n",
    "* Initialize the App in our code with `app = BedrockAgentCoreApp()`\n",
    "* Decorate the invocation function with the `@app.entrypoint` decorator\n",
    "* Let AgentCoreRuntime control the running of the agent with `app.run()`\n",
    "\n",
    "### Strands Agent SDK + LangGraph with Amazon Bedrock model\n",
    "Let's start with our Strands Agent SDK + LangGraph using Amazon Bedrock model. Other examples with different frameworks and models are available in the parent directories"
   ]
  },
  {
   "cell_type": "markdown",
   "id": "5f17f452",
   "metadata": {},
   "source": [
    "### Dockerfile\n"
   ]
  },
  {
   "cell_type": "code",
   "execution_count": 18,
   "id": "f0261f0a",
   "metadata": {},
   "outputs": [
    {
     "name": "stdout",
     "output_type": "stream",
     "text": [
      "Overwriting runtime.py\n"
     ]
    }
   ],
   "source": [
    "%%writefile runtime.py\n",
    "\n",
    "\"\"\"\n",
    "AgentCore Runtime for Bedrock-Manus Multi-Agent System\n",
    "Converted from main.py to use AgentCore Runtime API with unified event streaming\n",
    "\"\"\"\n",
    "import os\n",
    "import shutil\n",
    "import asyncio\n",
    "from bedrock_agentcore.runtime import BedrockAgentCoreApp\n",
    "from src.graph.builder import build_graph\n",
    "from src.utils.strands_sdk_utils import strands_utils\n",
    "\n",
    "# Import event queue for unified event processing\n",
    "from src.utils.event_queue import clear_queue\n",
    "\n",
    "app = BedrockAgentCoreApp()\n",
    "\n",
    "def remove_artifact_folder(folder_path=\"./artifacts/\"):\n",
    "    \"\"\"\n",
    "    ./artifact/ 폴더가 존재하면 삭제하는 함수\n",
    "    \n",
    "    Args:\n",
    "        folder_path (str): 삭제할 폴더 경로\n",
    "    \"\"\"\n",
    "    if os.path.exists(folder_path):\n",
    "        print(f\"'{folder_path}' 폴더를 삭제합니다...\")\n",
    "        try:\n",
    "            shutil.rmtree(folder_path)\n",
    "            print(f\"'{folder_path}' 폴더가 성공적으로 삭제되었습니다.\")\n",
    "        except Exception as e: \n",
    "            print(f\"오류 발생: {e}\")\n",
    "    else:\n",
    "        print(f\"'{folder_path}' 폴더가 존재하지 않습니다.\")\n",
    "\n",
    "def _setup_execution():\n",
    "    \"\"\"Initialize execution environment\"\"\"\n",
    "    remove_artifact_folder()\n",
    "    clear_queue()\n",
    "    print(\"\\n=== Starting AgentCore Runtime Event Stream ===\")\n",
    "\n",
    "def _print_conversation_history():\n",
    "    \"\"\"Print final conversation history\"\"\"\n",
    "    print(\"\\n=== Conversation History ===\")\n",
    "    from src.graph.nodes import _global_node_states\n",
    "    shared_state = _global_node_states.get('shared', {})\n",
    "    history = shared_state.get('history', [])\n",
    "    \n",
    "    if history:\n",
    "        for hist_item in history:\n",
    "            print(f\"[{hist_item['agent']}] {hist_item['message']}\")\n",
    "    else:\n",
    "        print(\"No conversation history found\")\n",
    "\n",
    "@app.entrypoint\n",
    "async def graph_streaming_execution(payload):\n",
    "    \"\"\"\n",
    "    Execute full graph streaming workflow through AgentCore Runtime\n",
    "    Queue-only event processing compatible with AgentCore API\n",
    "    \"\"\"\n",
    "    # Get user query from payload\n",
    "    user_query = payload.get(\"prompt\", \"\")\n",
    "    \n",
    "    if not user_query:\n",
    "        # Use default query if none provided\n",
    "        user_query = \"너가 작성할 것은 moon market 의 판매 현황 보고서야. 세일즈 및 마케팅 관점으로 분석을 해주고, 차트 생성 및 인사이트도 뽑아서 pdf 파일로 만들어줘. 분석대상은 './data/Dat-fresh-food-claude.csv' 파일 입니다. Coder 에이전트가 할일은 최대한 작게 해줘. 왜냐하면 reporter 에이전트 테스트 중이라 빨리 코더 단계를 넘어 가야 하거든. 부탁해.\"\n",
    "    \n",
    "    _setup_execution()\n",
    "    \n",
    "    # Build graph and use stream_async method\n",
    "    graph = build_graph()\n",
    "    event_count = 0\n",
    "    \n",
    "    # Stream events from graph execution\n",
    "    async for event in graph.stream_async({\n",
    "        \"request\": user_query,\n",
    "        \"request_prompt\": f\"Here is a user request: <user_request>{user_query}</user_request>\"\n",
    "    }):\n",
    "        event_count += 1\n",
    "        # Add AgentCore runtime metadata\n",
    "        event[\"event_id\"] = event_count\n",
    "        event[\"runtime_source\"] = \"bedrock_manus_agentcore\"\n",
    "        \n",
    "        # Mark final event\n",
    "        if event.get(\"type\") == \"workflow_complete\":\n",
    "            event[\"total_events\"] = event_count\n",
    "            event[\"message\"] = \"All events processed through global queue via AgentCore Runtime\"\n",
    "        \n",
    "        yield event\n",
    "    \n",
    "    _print_conversation_history()\n",
    "    print(\"=== AgentCore Runtime Event Stream Complete ===\")\n",
    "\n",
    "\n",
    "if __name__ == \"__main__\":\n",
    "    app.run()\n",
    "    \n",
    "    \n"
   ]
  },
  {
   "cell_type": "markdown",
   "id": "c64db7b5-0f1b-475f-9bf2-467b4449d46a",
   "metadata": {},
   "source": [
    "## What happens behind the scenes?\n",
    "\n",
    "When you use `BedrockAgentCoreApp`, it automatically:\n",
    "\n",
    "* Creates an HTTP server that listens on the port 8080\n",
    "* Implements the required `/invocations` endpoint for processing the agent's requirements\n",
    "* Implements the `/ping` endpoint for health checks (very important for asynchronous agents)\n",
    "* Handles proper content types and response formats\n",
    "* Manages error handling according to the AWS standards"
   ]
  },
  {
   "cell_type": "markdown",
   "id": "6820ca8f-a8a8-4f34-b4ef-b6dad3776261",
   "metadata": {},
   "source": [
    "## Deploying the agent to AgentCore Runtime\n",
    "\n",
    "The `CreateAgentRuntime` operation supports comprehensive configuration options, letting you specify container images, environment variables and encryption settings. You can also configure protocol settings (HTTP, MCP) and authorization mechanisms to control how your clients communicate with the agent. \n",
    "\n",
    "**Note:** Operations best practice is to package code as container and push to ECR using CI/CD pipelines and IaC\n",
    "\n",
    "In this tutorial can will the Amazon Bedrock AgentCode Python SDK to easily package your artifacts and deploy them to AgentCore runtime."
   ]
  },
  {
   "cell_type": "markdown",
   "id": "d0861401-a111-4ade-9e02-50f52fdfa9b1",
   "metadata": {},
   "source": [
    "### Creating runtime role\n",
    "\n",
    "Before starting, let's create an IAM role for our AgentCore Runtime. We will do so using the utils function pre-developed for you."
   ]
  },
  {
   "cell_type": "code",
   "execution_count": 19,
   "id": "54dd2fdf-985c-4a70-8b87-071783a209de",
   "metadata": {},
   "outputs": [
    {
     "name": "stdout",
     "output_type": "stream",
     "text": [
      "sys.path[0]: /home/ubuntu/projects/aws-ai-ml-workshop-kr/genai/aws-gen-ai-kr/20_applications\n",
      "Role already exists -- deleting and creating it again\n",
      "policies: {'PolicyNames': ['AgentCorePolicy'], 'IsTruncated': False, 'ResponseMetadata': {'RequestId': 'bd4660c3-d7d9-4fda-bd0c-c883b19b5300', 'HTTPStatusCode': 200, 'HTTPHeaders': {'date': 'Thu, 11 Sep 2025 00:00:42 GMT', 'x-amzn-requestid': 'bd4660c3-d7d9-4fda-bd0c-c883b19b5300', 'content-type': 'text/xml', 'content-length': '380'}, 'RetryAttempts': 0}}\n",
      "deleting agentcore-runtime-role\n",
      "recreating agentcore-runtime-role\n",
      "attaching role policy agentcore-runtime-role\n"
     ]
    }
   ],
   "source": [
    "import sys\n",
    "import os\n",
    "\n",
    "# Get the current notebook's directory\n",
    "current_dir = os.path.dirname(os.path.abspath('__file__' if '__file__' in globals() else '.'))\n",
    "\n",
    "utils_dir = os.path.join(current_dir, '..')\n",
    "utils_dir = os.path.join(utils_dir, '..')\n",
    "utils_dir = os.path.abspath(utils_dir)\n",
    "\n",
    "# Add to sys.path\n",
    "sys.path.insert(0, utils_dir)\n",
    "print(\"sys.path[0]:\", sys.path[0])\n",
    "\n",
    "from src.utils.agentcore import create_agentcore_role\n",
    "\n",
    "agent_name=\"runtime\"\n",
    "agentcore_iam_role = create_agentcore_role(agent_name=agent_name)"
   ]
  },
  {
   "cell_type": "markdown",
   "id": "8855aceb-b79f-4aaa-b16f-8577c059816a",
   "metadata": {},
   "source": [
    "### Configure AgentCore Runtime deployment\n",
    "\n",
    "Next we will use our starter toolkit to configure the AgentCore Runtime deployment with an entrypoint, the execution role we just created and a requirements file. We will also configure the starter kit to auto create the Amazon ECR repository on launch.\n",
    "\n",
    "During the configure step, your docker file will be generated based on your application code\n",
    "\n",
    "<div style=\"text-align:left\">\n",
    "    <img src=\"images/configure.png\" width=\"40%\"/>\n",
    "</div>"
   ]
  },
  {
   "cell_type": "markdown",
   "id": "5a5fd644",
   "metadata": {},
   "source": [
    "**Signature:**\n",
    "```python\n",
    "agentcore_runtime.configure(\n",
    "    entrypoint: str,\n",
    "    execution_role: Optional[str] = None,\n",
    "    agent_name: Optional[str] = None,\n",
    "    requirements: Optional[List[str]] = None,\n",
    "    requirements_file: Optional[str] = None,\n",
    "    ecr_repository: Optional[str] = None,\n",
    "    container_runtime: Optional[str] = None,\n",
    "    auto_create_ecr: bool = True,\n",
    "    auto_create_execution_role: bool = False,\n",
    "    authorizer_configuration: Optional[Dict[str, Any]] = None,\n",
    "    region: Optional[str] = None,\n",
    "    protocol: Optional[Literal['HTTP', 'MCP']] = None,\n",
    ") -> bedrock_agentcore_starter_toolkit.operations.runtime.models.ConfigureResult\n",
    "```\n",
    "\n",
    "**Docstring:**  \n",
    "Configure Bedrock AgentCore from notebook using an entrypoint file.\n",
    "\n",
    "**Args:**\n",
    "- **entrypoint**: Path to Python file with optional Bedrock AgentCore name (e.g., \"handler.py\" or \"handler.py:bedrock_agentcore\")\n",
    "- **execution_role**: AWS IAM execution role ARN or name (optional if auto_create_execution_role=True)\n",
    "- **agent_name**: name of the agent\n",
    "- **requirements**: Optional list of requirements to generate requirements.txt\n",
    "- **requirements_file**: Optional path to existing requirements file\n",
    "- **ecr_repository**: Optional ECR repository URI\n",
    "- **container_runtime**: Optional container runtime (docker/podman)\n",
    "- **auto_create_ecr**: Whether to auto-create ECR repository\n",
    "- **auto_create_execution_role**: Whether to auto-create execution role (makes execution_role optional)\n",
    "- **authorizer_configuration**: JWT authorizer configuration dictionary\n",
    "- **region**: AWS region for deployment\n",
    "- **protocol**: agent server protocol, must be either HTTP or MCP"
   ]
  },
  {
   "cell_type": "code",
   "execution_count": 30,
   "id": "2e79eba2-ca59-463f-9ebf-56e362d7ae66",
   "metadata": {},
   "outputs": [
    {
     "name": "stderr",
     "output_type": "stream",
     "text": [
      "Entrypoint parsed: file=/home/ubuntu/projects/aws-ai-ml-workshop-kr/genai/aws-gen-ai-kr/20_applications/08_bedrock_manus/use_cases/05_insight_extractor_strands_sdk_workshop_phase_2/runtime.py, bedrock_agentcore_name=runtime\n",
      "INFO:bedrock_agentcore_starter_toolkit.utils.runtime.entrypoint:Entrypoint parsed: file=/home/ubuntu/projects/aws-ai-ml-workshop-kr/genai/aws-gen-ai-kr/20_applications/08_bedrock_manus/use_cases/05_insight_extractor_strands_sdk_workshop_phase_2/runtime.py, bedrock_agentcore_name=runtime\n",
      "Configuring BedrockAgentCore agent: runtime\n",
      "INFO:bedrock_agentcore_starter_toolkit.operations.runtime.configure:Configuring BedrockAgentCore agent: runtime\n",
      "Generated Dockerfile: /home/ubuntu/projects/aws-ai-ml-workshop-kr/genai/aws-gen-ai-kr/20_applications/08_bedrock_manus/use_cases/05_insight_extractor_strands_sdk_workshop_phase_2/Dockerfile\n",
      "INFO:bedrock_agentcore_starter_toolkit.operations.runtime.configure:Generated Dockerfile: /home/ubuntu/projects/aws-ai-ml-workshop-kr/genai/aws-gen-ai-kr/20_applications/08_bedrock_manus/use_cases/05_insight_extractor_strands_sdk_workshop_phase_2/Dockerfile\n",
      "Generated .dockerignore: /home/ubuntu/projects/aws-ai-ml-workshop-kr/genai/aws-gen-ai-kr/20_applications/08_bedrock_manus/use_cases/05_insight_extractor_strands_sdk_workshop_phase_2/.dockerignore\n",
      "INFO:bedrock_agentcore_starter_toolkit.operations.runtime.configure:Generated .dockerignore: /home/ubuntu/projects/aws-ai-ml-workshop-kr/genai/aws-gen-ai-kr/20_applications/08_bedrock_manus/use_cases/05_insight_extractor_strands_sdk_workshop_phase_2/.dockerignore\n",
      "Keeping 'runtime' as default agent\n",
      "INFO:bedrock_agentcore_starter_toolkit.utils.runtime.config:Keeping 'runtime' as default agent\n",
      "Bedrock AgentCore configured: /home/ubuntu/projects/aws-ai-ml-workshop-kr/genai/aws-gen-ai-kr/20_applications/08_bedrock_manus/use_cases/05_insight_extractor_strands_sdk_workshop_phase_2/.bedrock_agentcore.yaml\n",
      "INFO:bedrock_agentcore_starter_toolkit.notebook.runtime.bedrock_agentcore:Bedrock AgentCore configured: /home/ubuntu/projects/aws-ai-ml-workshop-kr/genai/aws-gen-ai-kr/20_applications/08_bedrock_manus/use_cases/05_insight_extractor_strands_sdk_workshop_phase_2/.bedrock_agentcore.yaml\n"
     ]
    },
    {
     "data": {
      "text/plain": [
       "ConfigureResult(config_path=PosixPath('/home/ubuntu/projects/aws-ai-ml-workshop-kr/genai/aws-gen-ai-kr/20_applications/08_bedrock_manus/use_cases/05_insight_extractor_strands_sdk_workshop_phase_2/.bedrock_agentcore.yaml'), dockerfile_path=PosixPath('/home/ubuntu/projects/aws-ai-ml-workshop-kr/genai/aws-gen-ai-kr/20_applications/08_bedrock_manus/use_cases/05_insight_extractor_strands_sdk_workshop_phase_2/Dockerfile'), dockerignore_path=PosixPath('/home/ubuntu/projects/aws-ai-ml-workshop-kr/genai/aws-gen-ai-kr/20_applications/08_bedrock_manus/use_cases/05_insight_extractor_strands_sdk_workshop_phase_2/.dockerignore'), runtime='Docker', region='us-west-2', account_id='615299776985', execution_role='arn:aws:iam::615299776985:role/agentcore-runtime-role', ecr_repository=None, auto_create_ecr=True)"
      ]
     },
     "execution_count": 30,
     "metadata": {},
     "output_type": "execute_result"
    }
   ],
   "source": [
    "from bedrock_agentcore_starter_toolkit import Runtime\n",
    "from boto3.session import Session\n",
    "boto_session = Session()\n",
    "region = boto_session.region_name\n",
    "region\n",
    "\n",
    "agentcore_runtime = Runtime()\n",
    "\n",
    "response = agentcore_runtime.configure(\n",
    "    agent_name=agent_name,\n",
    "    entrypoint=\"runtime.py\",\n",
    "    execution_role=agentcore_iam_role['Role']['Arn'],\n",
    "    auto_create_ecr=True,\n",
    "    requirements_file=\"requirements.txt\",\n",
    "    region=region\n",
    ")\n",
    "response"
   ]
  },
  {
   "cell_type": "markdown",
   "id": "9e1b84cc-798e-472c-ac0b-2c315f4b704d",
   "metadata": {},
   "source": [
    "### Launching agent to AgentCore Runtime\n",
    "\n",
    "Now that we've got a docker file, let's launch the agent to the AgentCore Runtime. This will create the Amazon ECR repository and the AgentCore Runtime\n",
    "\n",
    "<div style=\"text-align:left\">\n",
    "    <img src=\"images/launch.png\" width=\"75%\"/>\n",
    "</div>"
   ]
  },
  {
   "cell_type": "code",
   "execution_count": 31,
   "id": "5f6eb7ee",
   "metadata": {},
   "outputs": [
    {
     "name": "stdout",
     "output_type": "stream",
     "text": [
      "\u001b[31mSignature:\u001b[39m\n",
      "agentcore_runtime.launch(\n",
      "    local: bool = \u001b[38;5;28;01mFalse\u001b[39;00m,\n",
      "    local_build: bool = \u001b[38;5;28;01mFalse\u001b[39;00m,\n",
      "    auto_update_on_conflict: bool = \u001b[38;5;28;01mFalse\u001b[39;00m,\n",
      "    env_vars: Optional[Dict] = \u001b[38;5;28;01mNone\u001b[39;00m,\n",
      ") -> bedrock_agentcore_starter_toolkit.operations.runtime.models.LaunchResult\n",
      "\u001b[31mDocstring:\u001b[39m\n",
      "Launch Bedrock AgentCore from notebook.\n",
      "\n",
      "Args:\n",
      "    local: Whether to build and run locally (requires Docker/Finch/Podman)\n",
      "    local_build: Whether to build locally and deploy to cloud (requires Docker/Finch/Podman)\n",
      "    auto_update_on_conflict: Whether to automatically update resources on conflict (default: False)\n",
      "    env_vars: environment variables for agent container\n",
      "\n",
      "Returns:\n",
      "    LaunchResult with deployment details\n",
      "\u001b[31mFile:\u001b[39m      ~/projects/aws-ai-ml-workshop-kr/genai/aws-gen-ai-kr/20_applications/08_bedrock_manus/use_cases/05_insight_extractor_strands_sdk_workshop_phase_2/setup/.venv/lib/python3.12/site-packages/bedrock_agentcore_starter_toolkit/notebook/runtime/bedrock_agentcore.py\n",
      "\u001b[31mType:\u001b[39m      method"
     ]
    }
   ],
   "source": [
    "agentcore_runtime.launch?\n"
   ]
  },
  {
   "cell_type": "code",
   "execution_count": 32,
   "id": "17a32ab8-7701-4900-8055-e24364bdf35c",
   "metadata": {},
   "outputs": [
    {
     "name": "stderr",
     "output_type": "stream",
     "text": [
      "🚀 CodeBuild mode: building in cloud (RECOMMENDED - DEFAULT)\n",
      "INFO:bedrock_agentcore_starter_toolkit.notebook.runtime.bedrock_agentcore:🚀 CodeBuild mode: building in cloud (RECOMMENDED - DEFAULT)\n",
      "   • Build ARM64 containers in the cloud with CodeBuild\n",
      "INFO:bedrock_agentcore_starter_toolkit.notebook.runtime.bedrock_agentcore:   • Build ARM64 containers in the cloud with CodeBuild\n",
      "   • No local Docker required\n",
      "INFO:bedrock_agentcore_starter_toolkit.notebook.runtime.bedrock_agentcore:   • No local Docker required\n",
      "💡 Available deployment modes:\n",
      "INFO:bedrock_agentcore_starter_toolkit.notebook.runtime.bedrock_agentcore:💡 Available deployment modes:\n",
      "   • runtime.launch()                           → CodeBuild (current)\n",
      "INFO:bedrock_agentcore_starter_toolkit.notebook.runtime.bedrock_agentcore:   • runtime.launch()                           → CodeBuild (current)\n",
      "   • runtime.launch(local=True)                 → Local development\n",
      "INFO:bedrock_agentcore_starter_toolkit.notebook.runtime.bedrock_agentcore:   • runtime.launch(local=True)                 → Local development\n",
      "   • runtime.launch(local_build=True)           → Local build + cloud deploy (NEW)\n",
      "INFO:bedrock_agentcore_starter_toolkit.notebook.runtime.bedrock_agentcore:   • runtime.launch(local_build=True)           → Local build + cloud deploy (NEW)\n",
      "Starting CodeBuild ARM64 deployment for agent 'runtime' to account 615299776985 (us-west-2)\n",
      "INFO:bedrock_agentcore_starter_toolkit.operations.runtime.launch:Starting CodeBuild ARM64 deployment for agent 'runtime' to account 615299776985 (us-west-2)\n",
      "Setting up AWS resources (ECR repository, execution roles)...\n",
      "INFO:bedrock_agentcore_starter_toolkit.operations.runtime.launch:Setting up AWS resources (ECR repository, execution roles)...\n",
      "Getting or creating ECR repository for agent: runtime\n",
      "INFO:bedrock_agentcore_starter_toolkit.operations.runtime.launch:Getting or creating ECR repository for agent: runtime\n",
      "✅ ECR repository available: 615299776985.dkr.ecr.us-west-2.amazonaws.com/bedrock-agentcore-runtime\n",
      "INFO:bedrock_agentcore_starter_toolkit.operations.runtime.launch:✅ ECR repository available: 615299776985.dkr.ecr.us-west-2.amazonaws.com/bedrock-agentcore-runtime\n",
      "Using execution role from config: arn:aws:iam::615299776985:role/agentcore-runtime-role\n",
      "INFO:bedrock_agentcore_starter_toolkit.operations.runtime.launch:Using execution role from config: arn:aws:iam::615299776985:role/agentcore-runtime-role\n",
      "Preparing CodeBuild project and uploading source...\n",
      "INFO:bedrock_agentcore_starter_toolkit.operations.runtime.launch:Preparing CodeBuild project and uploading source...\n"
     ]
    },
    {
     "name": "stderr",
     "output_type": "stream",
     "text": [
      "Getting or creating CodeBuild execution role for agent: runtime\n",
      "INFO:bedrock_agentcore_starter_toolkit.services.codebuild:Getting or creating CodeBuild execution role for agent: runtime\n",
      "Role name: AmazonBedrockAgentCoreSDKCodeBuild-us-west-2-d92c6a81b2\n",
      "INFO:bedrock_agentcore_starter_toolkit.services.codebuild:Role name: AmazonBedrockAgentCoreSDKCodeBuild-us-west-2-d92c6a81b2\n"
     ]
    },
    {
     "name": "stdout",
     "output_type": "stream",
     "text": [
      "✅ Reusing existing ECR repository: 615299776985.dkr.ecr.us-west-2.amazonaws.com/bedrock-agentcore-runtime\n"
     ]
    },
    {
     "name": "stderr",
     "output_type": "stream",
     "text": [
      "Reusing existing CodeBuild execution role: arn:aws:iam::615299776985:role/AmazonBedrockAgentCoreSDKCodeBuild-us-west-2-d92c6a81b2\n",
      "INFO:bedrock_agentcore_starter_toolkit.services.codebuild:Reusing existing CodeBuild execution role: arn:aws:iam::615299776985:role/AmazonBedrockAgentCoreSDKCodeBuild-us-west-2-d92c6a81b2\n",
      "Using .dockerignore with 43 patterns\n",
      "INFO:bedrock_agentcore_starter_toolkit.services.codebuild:Using .dockerignore with 43 patterns\n",
      "Uploaded source to S3: runtime/source.zip\n",
      "INFO:bedrock_agentcore_starter_toolkit.services.codebuild:Uploaded source to S3: runtime/source.zip\n",
      "Updated CodeBuild project: bedrock-agentcore-runtime-builder\n",
      "INFO:bedrock_agentcore_starter_toolkit.services.codebuild:Updated CodeBuild project: bedrock-agentcore-runtime-builder\n",
      "Starting CodeBuild build (this may take several minutes)...\n",
      "INFO:bedrock_agentcore_starter_toolkit.operations.runtime.launch:Starting CodeBuild build (this may take several minutes)...\n",
      "Starting CodeBuild monitoring...\n",
      "INFO:bedrock_agentcore_starter_toolkit.services.codebuild:Starting CodeBuild monitoring...\n",
      "🔄 QUEUED started (total: 0s)\n",
      "INFO:bedrock_agentcore_starter_toolkit.services.codebuild:🔄 QUEUED started (total: 0s)\n",
      "✅ QUEUED completed in 1.0s\n",
      "INFO:bedrock_agentcore_starter_toolkit.services.codebuild:✅ QUEUED completed in 1.0s\n",
      "🔄 PROVISIONING started (total: 1s)\n",
      "INFO:bedrock_agentcore_starter_toolkit.services.codebuild:🔄 PROVISIONING started (total: 1s)\n",
      "✅ PROVISIONING completed in 8.2s\n",
      "INFO:bedrock_agentcore_starter_toolkit.services.codebuild:✅ PROVISIONING completed in 8.2s\n",
      "🔄 DOWNLOAD_SOURCE started (total: 9s)\n",
      "INFO:bedrock_agentcore_starter_toolkit.services.codebuild:🔄 DOWNLOAD_SOURCE started (total: 9s)\n",
      "✅ DOWNLOAD_SOURCE completed in 2.1s\n",
      "INFO:bedrock_agentcore_starter_toolkit.services.codebuild:✅ DOWNLOAD_SOURCE completed in 2.1s\n",
      "🔄 BUILD started (total: 11s)\n",
      "INFO:bedrock_agentcore_starter_toolkit.services.codebuild:🔄 BUILD started (total: 11s)\n",
      "✅ BUILD completed in 37.0s\n",
      "INFO:bedrock_agentcore_starter_toolkit.services.codebuild:✅ BUILD completed in 37.0s\n",
      "🔄 POST_BUILD started (total: 48s)\n",
      "INFO:bedrock_agentcore_starter_toolkit.services.codebuild:🔄 POST_BUILD started (total: 48s)\n",
      "✅ POST_BUILD completed in 45.3s\n",
      "INFO:bedrock_agentcore_starter_toolkit.services.codebuild:✅ POST_BUILD completed in 45.3s\n",
      "🔄 COMPLETED started (total: 94s)\n",
      "INFO:bedrock_agentcore_starter_toolkit.services.codebuild:🔄 COMPLETED started (total: 94s)\n",
      "✅ COMPLETED completed in 1.0s\n",
      "INFO:bedrock_agentcore_starter_toolkit.services.codebuild:✅ COMPLETED completed in 1.0s\n",
      "🎉 CodeBuild completed successfully in 1m 34s\n",
      "INFO:bedrock_agentcore_starter_toolkit.services.codebuild:🎉 CodeBuild completed successfully in 1m 34s\n",
      "CodeBuild completed successfully\n",
      "INFO:bedrock_agentcore_starter_toolkit.operations.runtime.launch:CodeBuild completed successfully\n",
      "✅ CodeBuild project configuration saved\n",
      "INFO:bedrock_agentcore_starter_toolkit.operations.runtime.launch:✅ CodeBuild project configuration saved\n",
      "Deploying to Bedrock AgentCore...\n",
      "INFO:bedrock_agentcore_starter_toolkit.operations.runtime.launch:Deploying to Bedrock AgentCore...\n",
      "✅ Agent created/updated: arn:aws:bedrock-agentcore:us-west-2:615299776985:runtime/runtime-6nu10MBeiT\n",
      "INFO:bedrock_agentcore_starter_toolkit.operations.runtime.launch:✅ Agent created/updated: arn:aws:bedrock-agentcore:us-west-2:615299776985:runtime/runtime-6nu10MBeiT\n",
      "Polling for endpoint to be ready...\n",
      "INFO:bedrock_agentcore_starter_toolkit.operations.runtime.launch:Polling for endpoint to be ready...\n",
      "Agent endpoint: arn:aws:bedrock-agentcore:us-west-2:615299776985:runtime/runtime-6nu10MBeiT/runtime-endpoint/DEFAULT\n",
      "INFO:bedrock_agentcore_starter_toolkit.operations.runtime.launch:Agent endpoint: arn:aws:bedrock-agentcore:us-west-2:615299776985:runtime/runtime-6nu10MBeiT/runtime-endpoint/DEFAULT\n",
      "Deployment completed successfully - Agent: arn:aws:bedrock-agentcore:us-west-2:615299776985:runtime/runtime-6nu10MBeiT\n",
      "INFO:bedrock_agentcore_starter_toolkit.operations.runtime.launch:Deployment completed successfully - Agent: arn:aws:bedrock-agentcore:us-west-2:615299776985:runtime/runtime-6nu10MBeiT\n",
      "Built with CodeBuild: bedrock-agentcore-runtime-builder:692c654e-aab2-4c10-930b-e708871a3200\n",
      "INFO:bedrock_agentcore_starter_toolkit.notebook.runtime.bedrock_agentcore:Built with CodeBuild: bedrock-agentcore-runtime-builder:692c654e-aab2-4c10-930b-e708871a3200\n",
      "Deployed to cloud: arn:aws:bedrock-agentcore:us-west-2:615299776985:runtime/runtime-6nu10MBeiT\n",
      "INFO:bedrock_agentcore_starter_toolkit.notebook.runtime.bedrock_agentcore:Deployed to cloud: arn:aws:bedrock-agentcore:us-west-2:615299776985:runtime/runtime-6nu10MBeiT\n",
      "ECR image: 615299776985.dkr.ecr.us-west-2.amazonaws.com/bedrock-agentcore-runtime\n",
      "INFO:bedrock_agentcore_starter_toolkit.notebook.runtime.bedrock_agentcore:ECR image: 615299776985.dkr.ecr.us-west-2.amazonaws.com/bedrock-agentcore-runtime\n",
      "🔍 Agent logs available at:\n",
      "INFO:bedrock_agentcore_starter_toolkit.notebook.runtime.bedrock_agentcore:🔍 Agent logs available at:\n",
      "   /aws/bedrock-agentcore/runtimes/runtime-6nu10MBeiT-DEFAULT\n",
      "INFO:bedrock_agentcore_starter_toolkit.notebook.runtime.bedrock_agentcore:   /aws/bedrock-agentcore/runtimes/runtime-6nu10MBeiT-DEFAULT\n",
      "   /aws/bedrock-agentcore/runtimes/runtime-6nu10MBeiT-DEFAULT --log-stream-names otel-rt-logs\n",
      "INFO:bedrock_agentcore_starter_toolkit.notebook.runtime.bedrock_agentcore:   /aws/bedrock-agentcore/runtimes/runtime-6nu10MBeiT-DEFAULT --log-stream-names otel-rt-logs\n",
      "💡 Tail logs with: aws logs tail /aws/bedrock-agentcore/runtimes/runtime-6nu10MBeiT-DEFAULT --follow\n",
      "INFO:bedrock_agentcore_starter_toolkit.notebook.runtime.bedrock_agentcore:💡 Tail logs with: aws logs tail /aws/bedrock-agentcore/runtimes/runtime-6nu10MBeiT-DEFAULT --follow\n",
      "💡 Or view recent logs: aws logs tail /aws/bedrock-agentcore/runtimes/runtime-6nu10MBeiT-DEFAULT --since 1h\n",
      "INFO:bedrock_agentcore_starter_toolkit.notebook.runtime.bedrock_agentcore:💡 Or view recent logs: aws logs tail /aws/bedrock-agentcore/runtimes/runtime-6nu10MBeiT-DEFAULT --since 1h\n"
     ]
    }
   ],
   "source": [
    "launch_result = agentcore_runtime.launch(auto_update_on_conflict=True)"
   ]
  },
  {
   "cell_type": "code",
   "execution_count": 33,
   "id": "4491351a",
   "metadata": {},
   "outputs": [
    {
     "name": "stdout",
     "output_type": "stream",
     "text": [
      "Machine: aarch64\n",
      "Processor: aarch64\n",
      "Architecture: ('64bit', 'ELF')\n",
      "Platform: Linux-6.8.0-1033-aws-aarch64-with-glibc2.35\n"
     ]
    }
   ],
   "source": [
    "import platform\n",
    "print(f\"Machine: {platform.machine()}\")\n",
    "print(f\"Processor: {platform.processor()}\")\n",
    "print(f\"Architecture: {platform.architecture()}\")\n",
    "print(f\"Platform: {platform.platform()}\")"
   ]
  },
  {
   "cell_type": "markdown",
   "id": "a0ae9c09-09db-4a76-871a-92eacd96b9c3",
   "metadata": {},
   "source": [
    "### Checking for the AgentCore Runtime Status\n",
    "Now that we've deployed the AgentCore Runtime, let's check for it's deployment status"
   ]
  },
  {
   "cell_type": "code",
   "execution_count": 35,
   "id": "afa6ac09-9adb-4846-9fc1-4d12aeb74853",
   "metadata": {},
   "outputs": [
    {
     "name": "stderr",
     "output_type": "stream",
     "text": [
      "Retrieved Bedrock AgentCore status for: runtime\n",
      "INFO:bedrock_agentcore_starter_toolkit.notebook.runtime.bedrock_agentcore:Retrieved Bedrock AgentCore status for: runtime\n"
     ]
    },
    {
     "data": {
      "text/plain": [
       "'READY'"
      ]
     },
     "execution_count": 35,
     "metadata": {},
     "output_type": "execute_result"
    }
   ],
   "source": [
    "status_response = agentcore_runtime.status()\n",
    "status = status_response.endpoint['status']\n",
    "end_status = ['READY', 'CREATE_FAILED', 'DELETE_FAILED', 'UPDATE_FAILED']\n",
    "while status not in end_status:\n",
    "    time.sleep(10)\n",
    "    status_response = agentcore_runtime.status()\n",
    "    status = status_response.endpoint['status']\n",
    "    print(status)\n",
    "status"
   ]
  },
  {
   "cell_type": "markdown",
   "id": "b7f89c56-918a-4cab-beaa-c7ac43a2ba29",
   "metadata": {},
   "source": [
    "### Invoking AgentCore Runtime\n",
    "\n",
    "Finally, we can invoke our AgentCore Runtime with a payload\n",
    "\n",
    "<div style=\"text-align:left\">\n",
    "    <img src=\"images/invoke.png\" width=75%\"/>\n",
    "</div>"
   ]
  },
  {
   "cell_type": "code",
   "execution_count": 38,
   "id": "78945203",
   "metadata": {},
   "outputs": [
    {
     "name": "stdout",
     "output_type": "stream",
     "text": [
      "\u001b[97mhan\u001b[0m\u001b[97mdoff_to_planner: I\u001b[0m\u001b[97m'll need to cons\u001b[0m\u001b[97mult our planning system\u001b[0m\u001b[97m for this request.\n",
      "\n",
      "This\u001b[0m\u001b[97m request involves complex data analysis,\u001b[0m\u001b[97m visualization, and report generation tasks\u001b[0m\u001b[97m that require detailed planning\u001b[0m\u001b[97m and execution. I'll\u001b[0m\u001b[97m pass this to\u001b[0m\u001b[97m our planning system to handle the Amazon\u001b[0m\u001b[97m sales data analysis, including explor\u001b[0m\u001b[97matory data analysis, tren\u001b[0m\u001b[97md analysis, variable relationships, and creating\u001b[0m\u001b[97m a comprehensive PDF report with charts\u001b[0m\u001b[97m and insights.\u001b[0m\u001b[96mLet\u001b[0m\u001b[96m me analyze\u001b[0m\u001b[96m the user\u001b[0m\u001b[96m's request to\u001b[0m\u001b[96m create\u001b[0m\u001b[96m a\u001b[0m\u001b[96m detailed plan for analyzing\u001b[0m\u001b[96m Amazon product\u001b[0m\u001b[96m sales data.\u001b[0m\u001b[96m\n",
      "\n",
      "The user wants\u001b[0m\u001b[96m:\u001b[0m\u001b[96m\n",
      "1\u001b[0m\u001b[96m. Analysis\u001b[0m\u001b[96m of Amazon product sales\u001b[0m\u001b[96m data from\u001b[0m\u001b[96m \"\u001b[0m\u001b[96mDat\u001b[0m\u001b[96m-\u001b[0m\u001b[96mfresh\u001b[0m\u001b[96m-\u001b[0m\u001b[96mfoo\u001b[0m\u001b[96md-\u001b[0m\u001b[96mclaude\u001b[0m\u001b[96m.\u001b[0m\u001b[96mcsv\u001b[0m\u001b[96m\"\u001b[0m\u001b[96m\n",
      "2. Marketing\u001b[0m\u001b[96m insights\u001b[0m\u001b[96m extraction\u001b[0m\u001b[96m\n",
      "3. Analysis\u001b[0m\u001b[96m including\u001b[0m\u001b[96m:\u001b[0m\u001b[96m\n",
      "   - Basic\u001b[0m\u001b[96m data\u001b[0m\u001b[96m exploration\u001b[0m\u001b[96m\n",
      "   - Product\u001b[0m\u001b[96m sales\u001b[0m\u001b[96m trends\n",
      "   -\u001b[0m\u001b[96m Variable\u001b[0m\u001b[96m relationships\n",
      "   -\u001b[0m\u001b[96m Variable\u001b[0m\u001b[96m combinations\u001b[0m\u001b[96m\n",
      "   \u001b[0m\u001b[96m- Additional\u001b[0m\u001b[96m analyses\u001b[0m\u001b[96m as\u001b[0m\u001b[96m needed for\u001b[0m\u001b[96m insights\u001b[0m\u001b[96m\n",
      "4. A\u001b[0m\u001b[96m detaile\u001b[0m\u001b[96md report with\u001b[0m\u001b[96m charts/\u001b[0m\u001b[96mvisual\u001b[0m\u001b[96mizations\u001b[0m\u001b[96m\n",
      "5. Final\u001b[0m\u001b[96m output\u001b[0m\u001b[96m as\u001b[0m\u001b[96m a PDF file\u001b[0m\u001b[96m\n",
      "\n",
      "This\u001b[0m\u001b[96m is\u001b[0m\u001b[96m clearly\u001b[0m\u001b[96m a data\u001b[0m\u001b[96m analysis task\u001b[0m\u001b[96m that will\u001b[0m\u001b[96m require:\u001b[0m\u001b[96m\n",
      "- Data\u001b[0m\u001b[96m loading and cleaning\u001b[0m\u001b[96m\n",
      "-\u001b[0m\u001b[96m Exploratory data analysis\u001b[0m\u001b[96m\n",
      "- Statistical\u001b[0m\u001b[96m analysis\n",
      "- Data\u001b[0m\u001b[96m visualization\u001b[0m\u001b[96m\n",
      "- Marketing\u001b[0m\u001b[96m insight\u001b[0m\u001b[96m extraction\n",
      "- Report\u001b[0m\u001b[96m generation\n",
      "\n",
      "Since\u001b[0m\u001b[96m this\u001b[0m\u001b[96m involves\u001b[0m\u001b[96m numerical\u001b[0m\u001b[96m calculations\u001b[0m\u001b[96m, statistical\u001b[0m\u001b[96m analysis, an\u001b[0m\u001b[96md data visualization, we\u001b[0m\u001b[96m nee\u001b[0m\u001b[96md to\u001b[0m\u001b[96m follow\u001b[0m\u001b[96m the mandatory\u001b[0m\u001b[96m workflow:\u001b[0m\u001b[96m Coder →\u001b[0m\u001b[96m Validator → Reporter.\u001b[0m\u001b[96m\n",
      "\n",
      "Let me create\u001b[0m\u001b[96m a comprehensive\u001b[0m\u001b[96m plan\u001b[0m\u001b[96m for this analysis:\u001b[0m\u001b[96m\n",
      "\n",
      "1\u001b[0m\u001b[96m. The\u001b[0m\u001b[96m Coder will nee\u001b[0m\u001b[96md to:\u001b[0m\u001b[96m\n",
      "   - Loa\u001b[0m\u001b[96md and clean\u001b[0m\u001b[96m the data\n",
      "   \u001b[0m\u001b[96m- Perform explor\u001b[0m\u001b[96matory data analysis\u001b[0m\u001b[96m\n",
      "   -\u001b[0m\u001b[96m Conduct sales\u001b[0m\u001b[96m trend analysis\n",
      "   \u001b[0m\u001b[96m- Analyze\u001b[0m\u001b[96m variable relationships\n",
      "   \u001b[0m\u001b[96m- Create\u001b[0m\u001b[96m visual\u001b[0m\u001b[96mizations\u001b[0m\u001b[96m\n",
      "   - Extract\u001b[0m\u001b[96m marketing insights\n",
      "   \u001b[0m\u001b[96m- Generate metadata\u001b[0m\u001b[96m for validation\u001b[0m\u001b[96m\n",
      "\n",
      "2. The\u001b[0m\u001b[96m Validator will nee\u001b[0m\u001b[96md to:\n",
      "   \u001b[0m\u001b[96m-\u001b[0m\u001b[96m Verify\u001b[0m\u001b[96m all calculations\u001b[0m\u001b[96m\n",
      "   - Validate\u001b[0m\u001b[96m statistical\u001b[0m\u001b[96m analyses\u001b[0m\u001b[96m\n",
      "   - Check\u001b[0m\u001b[96m visualization\u001b[0m\u001b[96m accuracy\u001b[0m\u001b[96m\n",
      "   - Generate\u001b[0m\u001b[96m citation\u001b[0m\u001b[96m metadata\u001b[0m\u001b[96m\n",
      "\n",
      "3. The Reporter\u001b[0m\u001b[96m will need to:\u001b[0m\u001b[96m\n",
      "   - Create\u001b[0m\u001b[96m a comprehensive\u001b[0m\u001b[96m report with\u001b[0m\u001b[96m validate\u001b[0m\u001b[96md insights\n",
      "   -\u001b[0m\u001b[96m Include\u001b[0m\u001b[96m all\u001b[0m\u001b[96m validate\u001b[0m\u001b[96md visual\u001b[0m\u001b[96mizations\n",
      "   -\u001b[0m\u001b[96m Format\u001b[0m\u001b[96m the report professionally\u001b[0m\u001b[96m\n",
      "   - Generate\u001b[0m\u001b[96m two\u001b[0m\u001b[96m PDF\u001b[0m\u001b[96m versions (\u001b[0m\u001b[96mwith\u001b[0m\u001b[96m and without citations)\u001b[0m\u001b[96m\n",
      "\n",
      "Now\u001b[0m\u001b[96m I\u001b[0m\u001b[96m'll\u001b[0m\u001b[96m create\u001b[0m\u001b[96m a detaile\u001b[0m\u001b[96md plan with\u001b[0m\u001b[96m specific\u001b[0m\u001b[96m tasks for each agent\u001b[0m\u001b[96m:\u001b[0m\u001b[96m\u001b[0m\u001b[97m# Plan\u001b[0m\u001b[97m\n",
      "\n",
      "## thought\n",
      "The\u001b[0m\u001b[97m user\u001b[0m\u001b[97m wants a comprehensive\u001b[0m\u001b[97m analysis\u001b[0m\u001b[97m of Amazon product sales\u001b[0m\u001b[97m data from\u001b[0m\u001b[97m \"Dat-\u001b[0m\u001b[97mfresh-food-\u001b[0m\u001b[97mclaude.csv\"\u001b[0m\u001b[97m to\u001b[0m\u001b[97m extract marketing\u001b[0m\u001b[97m insights.\u001b[0m\u001b[97m This requires data\u001b[0m\u001b[97m exploration\u001b[0m\u001b[97m, tren\u001b[0m\u001b[97md analysis, variable relationship\u001b[0m\u001b[97m examination\u001b[0m\u001b[97m, and visualization\u001b[0m\u001b[97m.\u001b[0m\u001b[97m The\u001b[0m\u001b[97m workflow\u001b[0m\u001b[97m will follow\u001b[0m\u001b[97m the require\u001b[0m\u001b[97md Coder →\u001b[0m\u001b[97m Validator → Reporter\u001b[0m\u001b[97m sequence\u001b[0m\u001b[97m,\u001b[0m\u001b[97m with the\u001b[0m\u001b[97m final deliv\u001b[0m\u001b[97merable being a PDF\u001b[0m\u001b[97m report containing\u001b[0m\u001b[97m detaile\u001b[0m\u001b[97md analysis\u001b[0m\u001b[97m and supporting\u001b[0m\u001b[97m charts\u001b[0m\u001b[97m/visualizations.\u001b[0m\u001b[97m\n",
      "\n",
      "## title\u001b[0m\u001b[97m\n",
      "Amazon\u001b[0m\u001b[97m Fresh\u001b[0m\u001b[97m Food Sales Data\u001b[0m\u001b[97m Analysis for\u001b[0m\u001b[97m Marketing Insights\u001b[0m\u001b[97m\n",
      "\n",
      "## steps\n",
      "###\u001b[0m\u001b[97m 1.\u001b[0m\u001b[97m Coder:\u001b[0m\u001b[97m Perform comprehensive\u001b[0m\u001b[97m data analysis\u001b[0m\u001b[97m an\u001b[0m\u001b[97md visualization\u001b[0m\u001b[97m\n",
      "-\u001b[0m\u001b[97m [\u001b[0m\u001b[97m ] Load and pre\u001b[0m\u001b[97mprocess the\u001b[0m\u001b[97m \"./\u001b[0m\u001b[97mdata\u001b[0m\u001b[97m/Dat-\u001b[0m\u001b[97mfresh-food-\u001b[0m\u001b[97mclaude.csv\"\u001b[0m\u001b[97m dataset\u001b[0m\u001b[97m\n",
      "- [ ]\u001b[0m\u001b[97m Conduct\u001b[0m\u001b[97m explor\u001b[0m\u001b[97matory data analysis (\u001b[0m\u001b[97mdata\u001b[0m\u001b[97m types\u001b[0m\u001b[97m, summary\u001b[0m\u001b[97m statistics, missing\u001b[0m\u001b[97m values)\u001b[0m\u001b[97m\n",
      "- [ ]\u001b[0m\u001b[97m Analyze product\u001b[0m\u001b[97m sales trends over time\u001b[0m\u001b[97m\n",
      "- [ ]\u001b[0m\u001b[97m Examine variable relationships\u001b[0m\u001b[97m an\u001b[0m\u001b[97md correlations\n",
      "-\u001b[0m\u001b[97m [ ]\u001b[0m\u001b[97m Identify\u001b[0m\u001b[97m top\u001b[0m\u001b[97m-\u001b[0m\u001b[97mselling products an\u001b[0m\u001b[97md categories\n",
      "- [\u001b[0m\u001b[97m ] Analyze\u001b[0m\u001b[97m pricing\u001b[0m\u001b[97m strategies\u001b[0m\u001b[97m and their\u001b[0m\u001b[97m impact on sales\u001b[0m\u001b[97m\n",
      "- [ ]\u001b[0m\u001b[97m Perform\u001b[0m\u001b[97m customer\u001b[0m\u001b[97m segmentation analysis if\u001b[0m\u001b[97m applicable\n",
      "- [\u001b[0m\u001b[97m ] Create\u001b[0m\u001b[97m visualizations (time\u001b[0m\u001b[97m series plots\u001b[0m\u001b[97m, correlation\u001b[0m\u001b[97m h\u001b[0m\u001b[97meatmaps,\u001b[0m\u001b[97m bar\u001b[0m\u001b[97m charts, etc.)\u001b[0m\u001b[97m\n",
      "- [ ] Extract\u001b[0m\u001b[97m key marketing insights from\u001b[0m\u001b[97m the data\u001b[0m\u001b[97m\n",
      "- [ ] Generate\u001b[0m\u001b[97m calculation\u001b[0m\u001b[97m metadata for validation\u001b[0m\u001b[97m\n",
      "\n",
      "### 2.\u001b[0m\u001b[97m Validator:\u001b[0m\u001b[97m Verify\u001b[0m\u001b[97m all analyses\u001b[0m\u001b[97m and calculations\n",
      "-\u001b[0m\u001b[97m [ ] Validate\u001b[0m\u001b[97m data\u001b[0m\u001b[97m preprocessing\u001b[0m\u001b[97m steps\u001b[0m\u001b[97m\n",
      "- [ ]\u001b[0m\u001b[97m Verify\u001b[0m\u001b[97m summary\u001b[0m\u001b[97m statistics and explor\u001b[0m\u001b[97matory analysis\u001b[0m\u001b[97m results\u001b[0m\u001b[97m\n",
      "- [ ]\u001b[0m\u001b[97m Check time\u001b[0m\u001b[97m series tren\u001b[0m\u001b[97md calculations\u001b[0m\u001b[97m\n",
      "- [ ]\u001b[0m\u001b[97m Validate correlation\u001b[0m\u001b[97m and relationship\u001b[0m\u001b[97m analyses\n",
      "- [\u001b[0m\u001b[97m ]\u001b[0m\u001b[97m Verify ranking\u001b[0m\u001b[97m and seg\u001b[0m\u001b[97mmentation calculations\u001b[0m\u001b[97m\n",
      "- [ ]\u001b[0m\u001b[97m Confirm\u001b[0m\u001b[97m accuracy\u001b[0m\u001b[97m of all\u001b[0m\u001b[97m visual\u001b[0m\u001b[97mizations and charts\u001b[0m\u001b[97m\n",
      "- [ ]\u001b[0m\u001b[97m Generate citation metadata for\u001b[0m\u001b[97m key\u001b[0m\u001b[97m findings\u001b[0m\u001b[97m\n",
      "- [ ] Create\u001b[0m\u001b[97m references for all\u001b[0m\u001b[97m validate\u001b[0m\u001b[97md calculations\u001b[0m\u001b[97m\n",
      "\n",
      "### 3\u001b[0m\u001b[97m. Reporter: Create\u001b[0m\u001b[97m comprehensive\u001b[0m\u001b[97m marketing\u001b[0m\u001b[97m insights report\n",
      "-\u001b[0m\u001b[97m [ ] Compile\u001b[0m\u001b[97m executive\u001b[0m\u001b[97m summary of\u001b[0m\u001b[97m key\u001b[0m\u001b[97m marketing\u001b[0m\u001b[97m insights\n",
      "- [\u001b[0m\u001b[97m ] Structure\u001b[0m\u001b[97m detaile\u001b[0m\u001b[97md report with validate\u001b[0m\u001b[97md findings\n",
      "- [\u001b[0m\u001b[97m ] Include all verifie\u001b[0m\u001b[97md visualizations with\u001b[0m\u001b[97m proper\u001b[0m\u001b[97m context\u001b[0m\u001b[97m\n",
      "- [ ]\u001b[0m\u001b[97m Present\u001b[0m\u001b[97m product\u001b[0m\u001b[97m performance analysis\u001b[0m\u001b[97m with\u001b[0m\u001b[97m citations\u001b[0m\u001b[97m\n",
      "- [ ]\u001b[0m\u001b[97m Document\u001b[0m\u001b[97m customer\u001b[0m\u001b[97m behavior\u001b[0m\u001b[97m insights\u001b[0m\u001b[97m\n",
      "- [ ]\u001b[0m\u001b[97m Provide\u001b[0m\u001b[97m action\u001b[0m\u001b[97mable marketing\u001b[0m\u001b[97m recommendations base\u001b[0m\u001b[97md on data\u001b[0m\u001b[97m\n",
      "- [ ] Include\u001b[0m\u001b[97m appendix\u001b[0m\u001b[97m with methodology\u001b[0m\u001b[97m an\u001b[0m\u001b[97md data details\u001b[0m\u001b[97m\n",
      "- [ ] Generate\u001b[0m\u001b[97m PDF with\u001b[0m\u001b[97m citations (\u001b[0m\u001b[97mfinal_\u001b[0m\u001b[97mreport_with_\u001b[0m\u001b[97mcitations.pdf)\u001b[0m\u001b[97m\n",
      "- [ ] Create\u001b[0m\u001b[97m clean\u001b[0m\u001b[97m PDF\u001b[0m\u001b[97m version without citations (\u001b[0m\u001b[97mfinal_report.\u001b[0m\u001b[97mpdf)\u001b[0m\u001b[97mI'll\u001b[0m\u001b[97m help\u001b[0m\u001b[97m coordinate\u001b[0m\u001b[97m the execution\u001b[0m\u001b[97m of this\u001b[0m\u001b[97m Amazon\u001b[0m\u001b[97m Fresh Food Sales Data\u001b[0m\u001b[97m Analysis plan\u001b[0m\u001b[97m. Base\u001b[0m\u001b[97md on the provide\u001b[0m\u001b[97md plan, we\u001b[0m\u001b[97m nee\u001b[0m\u001b[97md to follow\u001b[0m\u001b[97m the\u001b[0m\u001b[97m Coder →\u001b[0m\u001b[97m Validator → Reporter sequence\u001b[0m\u001b[97m for\u001b[0m\u001b[97m this\u001b[0m\u001b[97m data\u001b[0m\u001b[97m analysis task\u001b[0m\u001b[97m.\u001b[0m\u001b[97m\n",
      "\n",
      "Looking\u001b[0m\u001b[97m at the current\u001b[0m\u001b[97m status\u001b[0m\u001b[97m, we\u001b[0m\u001b[97m nee\u001b[0m\u001b[97md to start\u001b[0m\u001b[97m with\u001b[0m\u001b[97m the\u001b[0m\u001b[97m Coder agent\u001b[0m\u001b[97m to perform\u001b[0m\u001b[97m the\u001b[0m\u001b[97m comprehensive\u001b[0m\u001b[97m data analysis and visualization\u001b[0m\u001b[97m as\u001b[0m\u001b[97m outlined in step\u001b[0m\u001b[97m 1 \u001b[0m\u001b[97mof the plan.\u001b[0m\u001b[97m\n",
      "\n",
      "Let\u001b[0m\u001b[97m me\u001b[0m\u001b[97m init\u001b[0m\u001b[97miate the C\u001b[0m\u001b[97moder agent to begin\u001b[0m\u001b[97m the data analysis\u001b[0m\u001b[97m:\u001b[0m"
     ]
    },
    {
     "ename": "KeyboardInterrupt",
     "evalue": "",
     "output_type": "error",
     "traceback": [
      "\u001b[31m---------------------------------------------------------------------------\u001b[39m",
      "\u001b[31mKeyboardInterrupt\u001b[39m                         Traceback (most recent call last)",
      "\u001b[36mCell\u001b[39m\u001b[36m \u001b[39m\u001b[32mIn[38]\u001b[39m\u001b[32m, line 55\u001b[39m\n\u001b[32m     53\u001b[39m \u001b[38;5;28;01mif\u001b[39;00m \u001b[33m\"\u001b[39m\u001b[33mtext/event-stream\u001b[39m\u001b[33m\"\u001b[39m \u001b[38;5;129;01min\u001b[39;00m boto3_response.get(\u001b[33m\"\u001b[39m\u001b[33mcontentType\u001b[39m\u001b[33m\"\u001b[39m, \u001b[33m\"\u001b[39m\u001b[33m\"\u001b[39m):\n\u001b[32m     54\u001b[39m     content = []\n\u001b[32m---> \u001b[39m\u001b[32m55\u001b[39m \u001b[43m    \u001b[49m\u001b[38;5;28;43;01mfor\u001b[39;49;00m\u001b[43m \u001b[49m\u001b[43mevent\u001b[49m\u001b[43m \u001b[49m\u001b[38;5;129;43;01min\u001b[39;49;00m\u001b[43m \u001b[49m\u001b[43mboto3_response\u001b[49m\u001b[43m[\u001b[49m\u001b[33;43m\"\u001b[39;49m\u001b[33;43mresponse\u001b[39;49m\u001b[33;43m\"\u001b[39;49m\u001b[43m]\u001b[49m\u001b[43m.\u001b[49m\u001b[43miter_lines\u001b[49m\u001b[43m(\u001b[49m\u001b[43mchunk_size\u001b[49m\u001b[43m=\u001b[49m\u001b[32;43m1\u001b[39;49m\u001b[43m)\u001b[49m\u001b[43m:\u001b[49m\n\u001b[32m     56\u001b[39m \u001b[43m        \u001b[49m\u001b[43mevent\u001b[49m\u001b[43m \u001b[49m\u001b[43m=\u001b[49m\u001b[43m \u001b[49m\u001b[43mparse_sse_data\u001b[49m\u001b[43m(\u001b[49m\u001b[43mevent\u001b[49m\u001b[43m)\u001b[49m\n\u001b[32m     57\u001b[39m \u001b[43m        \u001b[49m\u001b[38;5;28;43;01mif\u001b[39;49;00m\u001b[43m \u001b[49m\u001b[43mevent\u001b[49m\u001b[43m \u001b[49m\u001b[38;5;129;43;01mis\u001b[39;49;00m\u001b[43m \u001b[49m\u001b[38;5;28;43;01mNone\u001b[39;49;00m\u001b[43m:\u001b[49m\u001b[43m  \u001b[49m\u001b[38;5;66;43;03m# None 체크 추가\u001b[39;49;00m\n",
      "\u001b[36mFile \u001b[39m\u001b[32m~/projects/aws-ai-ml-workshop-kr/genai/aws-gen-ai-kr/20_applications/08_bedrock_manus/use_cases/05_insight_extractor_strands_sdk_workshop_phase_2/setup/.venv/lib/python3.12/site-packages/botocore/response.py:157\u001b[39m, in \u001b[36mStreamingBody.iter_lines\u001b[39m\u001b[34m(self, chunk_size, keepends)\u001b[39m\n\u001b[32m    151\u001b[39m \u001b[38;5;250m\u001b[39m\u001b[33;03m\"\"\"Return an iterator to yield lines from the raw stream.\u001b[39;00m\n\u001b[32m    152\u001b[39m \n\u001b[32m    153\u001b[39m \u001b[33;03mThis is achieved by reading chunk of bytes (of size chunk_size) at a\u001b[39;00m\n\u001b[32m    154\u001b[39m \u001b[33;03mtime from the raw stream, and then yielding lines from there.\u001b[39;00m\n\u001b[32m    155\u001b[39m \u001b[33;03m\"\"\"\u001b[39;00m\n\u001b[32m    156\u001b[39m pending = \u001b[33mb\u001b[39m\u001b[33m'\u001b[39m\u001b[33m'\u001b[39m\n\u001b[32m--> \u001b[39m\u001b[32m157\u001b[39m \u001b[43m\u001b[49m\u001b[38;5;28;43;01mfor\u001b[39;49;00m\u001b[43m \u001b[49m\u001b[43mchunk\u001b[49m\u001b[43m \u001b[49m\u001b[38;5;129;43;01min\u001b[39;49;00m\u001b[43m \u001b[49m\u001b[38;5;28;43mself\u001b[39;49m\u001b[43m.\u001b[49m\u001b[43miter_chunks\u001b[49m\u001b[43m(\u001b[49m\u001b[43mchunk_size\u001b[49m\u001b[43m)\u001b[49m\u001b[43m:\u001b[49m\n\u001b[32m    158\u001b[39m \u001b[43m    \u001b[49m\u001b[43mlines\u001b[49m\u001b[43m \u001b[49m\u001b[43m=\u001b[49m\u001b[43m \u001b[49m\u001b[43m(\u001b[49m\u001b[43mpending\u001b[49m\u001b[43m \u001b[49m\u001b[43m+\u001b[49m\u001b[43m \u001b[49m\u001b[43mchunk\u001b[49m\u001b[43m)\u001b[49m\u001b[43m.\u001b[49m\u001b[43msplitlines\u001b[49m\u001b[43m(\u001b[49m\u001b[38;5;28;43;01mTrue\u001b[39;49;00m\u001b[43m)\u001b[49m\n\u001b[32m    159\u001b[39m \u001b[43m    \u001b[49m\u001b[38;5;28;43;01mfor\u001b[39;49;00m\u001b[43m \u001b[49m\u001b[43mline\u001b[49m\u001b[43m \u001b[49m\u001b[38;5;129;43;01min\u001b[39;49;00m\u001b[43m \u001b[49m\u001b[43mlines\u001b[49m\u001b[43m[\u001b[49m\u001b[43m:\u001b[49m\u001b[43m-\u001b[49m\u001b[32;43m1\u001b[39;49m\u001b[43m]\u001b[49m\u001b[43m:\u001b[49m\n",
      "\u001b[36mFile \u001b[39m\u001b[32m~/projects/aws-ai-ml-workshop-kr/genai/aws-gen-ai-kr/20_applications/08_bedrock_manus/use_cases/05_insight_extractor_strands_sdk_workshop_phase_2/setup/.venv/lib/python3.12/site-packages/botocore/response.py:170\u001b[39m, in \u001b[36mStreamingBody.iter_chunks\u001b[39m\u001b[34m(self, chunk_size)\u001b[39m\n\u001b[32m    166\u001b[39m \u001b[38;5;250m\u001b[39m\u001b[33;03m\"\"\"Return an iterator to yield chunks of chunk_size bytes from the raw\u001b[39;00m\n\u001b[32m    167\u001b[39m \u001b[33;03mstream.\u001b[39;00m\n\u001b[32m    168\u001b[39m \u001b[33;03m\"\"\"\u001b[39;00m\n\u001b[32m    169\u001b[39m \u001b[38;5;28;01mwhile\u001b[39;00m \u001b[38;5;28;01mTrue\u001b[39;00m:\n\u001b[32m--> \u001b[39m\u001b[32m170\u001b[39m     current_chunk = \u001b[38;5;28;43mself\u001b[39;49m\u001b[43m.\u001b[49m\u001b[43mread\u001b[49m\u001b[43m(\u001b[49m\u001b[43mchunk_size\u001b[49m\u001b[43m)\u001b[49m\n\u001b[32m    171\u001b[39m     \u001b[38;5;28;01mif\u001b[39;00m current_chunk == \u001b[33mb\u001b[39m\u001b[33m\"\u001b[39m\u001b[33m\"\u001b[39m:\n\u001b[32m    172\u001b[39m         \u001b[38;5;28;01mbreak\u001b[39;00m\n",
      "\u001b[36mFile \u001b[39m\u001b[32m~/projects/aws-ai-ml-workshop-kr/genai/aws-gen-ai-kr/20_applications/08_bedrock_manus/use_cases/05_insight_extractor_strands_sdk_workshop_phase_2/setup/.venv/lib/python3.12/site-packages/botocore/response.py:98\u001b[39m, in \u001b[36mStreamingBody.read\u001b[39m\u001b[34m(self, amt)\u001b[39m\n\u001b[32m     93\u001b[39m \u001b[38;5;250m\u001b[39m\u001b[33;03m\"\"\"Read at most amt bytes from the stream.\u001b[39;00m\n\u001b[32m     94\u001b[39m \n\u001b[32m     95\u001b[39m \u001b[33;03mIf the amt argument is omitted, read all data.\u001b[39;00m\n\u001b[32m     96\u001b[39m \u001b[33;03m\"\"\"\u001b[39;00m\n\u001b[32m     97\u001b[39m \u001b[38;5;28;01mtry\u001b[39;00m:\n\u001b[32m---> \u001b[39m\u001b[32m98\u001b[39m     chunk = \u001b[38;5;28;43mself\u001b[39;49m\u001b[43m.\u001b[49m\u001b[43m_raw_stream\u001b[49m\u001b[43m.\u001b[49m\u001b[43mread\u001b[49m\u001b[43m(\u001b[49m\u001b[43mamt\u001b[49m\u001b[43m)\u001b[49m\n\u001b[32m     99\u001b[39m \u001b[38;5;28;01mexcept\u001b[39;00m URLLib3ReadTimeoutError \u001b[38;5;28;01mas\u001b[39;00m e:\n\u001b[32m    100\u001b[39m     \u001b[38;5;66;03m# TODO: the url will be None as urllib3 isn't setting it yet\u001b[39;00m\n\u001b[32m    101\u001b[39m     \u001b[38;5;28;01mraise\u001b[39;00m ReadTimeoutError(endpoint_url=e.url, error=e)\n",
      "\u001b[36mFile \u001b[39m\u001b[32m~/projects/aws-ai-ml-workshop-kr/genai/aws-gen-ai-kr/20_applications/08_bedrock_manus/use_cases/05_insight_extractor_strands_sdk_workshop_phase_2/setup/.venv/lib/python3.12/site-packages/urllib3/response.py:980\u001b[39m, in \u001b[36mHTTPResponse.read\u001b[39m\u001b[34m(self, amt, decode_content, cache_content)\u001b[39m\n\u001b[32m    977\u001b[39m     \u001b[38;5;28;01mif\u001b[39;00m \u001b[38;5;28mlen\u001b[39m(\u001b[38;5;28mself\u001b[39m._decoded_buffer) >= amt:\n\u001b[32m    978\u001b[39m         \u001b[38;5;28;01mreturn\u001b[39;00m \u001b[38;5;28mself\u001b[39m._decoded_buffer.get(amt)\n\u001b[32m--> \u001b[39m\u001b[32m980\u001b[39m data = \u001b[38;5;28;43mself\u001b[39;49m\u001b[43m.\u001b[49m\u001b[43m_raw_read\u001b[49m\u001b[43m(\u001b[49m\u001b[43mamt\u001b[49m\u001b[43m)\u001b[49m\n\u001b[32m    982\u001b[39m flush_decoder = amt \u001b[38;5;129;01mis\u001b[39;00m \u001b[38;5;28;01mNone\u001b[39;00m \u001b[38;5;129;01mor\u001b[39;00m (amt != \u001b[32m0\u001b[39m \u001b[38;5;129;01mand\u001b[39;00m \u001b[38;5;129;01mnot\u001b[39;00m data)\n\u001b[32m    984\u001b[39m \u001b[38;5;28;01mif\u001b[39;00m \u001b[38;5;129;01mnot\u001b[39;00m data \u001b[38;5;129;01mand\u001b[39;00m \u001b[38;5;28mlen\u001b[39m(\u001b[38;5;28mself\u001b[39m._decoded_buffer) == \u001b[32m0\u001b[39m:\n",
      "\u001b[36mFile \u001b[39m\u001b[32m~/projects/aws-ai-ml-workshop-kr/genai/aws-gen-ai-kr/20_applications/08_bedrock_manus/use_cases/05_insight_extractor_strands_sdk_workshop_phase_2/setup/.venv/lib/python3.12/site-packages/urllib3/response.py:904\u001b[39m, in \u001b[36mHTTPResponse._raw_read\u001b[39m\u001b[34m(self, amt, read1)\u001b[39m\n\u001b[32m    901\u001b[39m fp_closed = \u001b[38;5;28mgetattr\u001b[39m(\u001b[38;5;28mself\u001b[39m._fp, \u001b[33m\"\u001b[39m\u001b[33mclosed\u001b[39m\u001b[33m\"\u001b[39m, \u001b[38;5;28;01mFalse\u001b[39;00m)\n\u001b[32m    903\u001b[39m \u001b[38;5;28;01mwith\u001b[39;00m \u001b[38;5;28mself\u001b[39m._error_catcher():\n\u001b[32m--> \u001b[39m\u001b[32m904\u001b[39m     data = \u001b[38;5;28;43mself\u001b[39;49m\u001b[43m.\u001b[49m\u001b[43m_fp_read\u001b[49m\u001b[43m(\u001b[49m\u001b[43mamt\u001b[49m\u001b[43m,\u001b[49m\u001b[43m \u001b[49m\u001b[43mread1\u001b[49m\u001b[43m=\u001b[49m\u001b[43mread1\u001b[49m\u001b[43m)\u001b[49m \u001b[38;5;28;01mif\u001b[39;00m \u001b[38;5;129;01mnot\u001b[39;00m fp_closed \u001b[38;5;28;01melse\u001b[39;00m \u001b[33mb\u001b[39m\u001b[33m\"\u001b[39m\u001b[33m\"\u001b[39m\n\u001b[32m    905\u001b[39m     \u001b[38;5;28;01mif\u001b[39;00m amt \u001b[38;5;129;01mis\u001b[39;00m \u001b[38;5;129;01mnot\u001b[39;00m \u001b[38;5;28;01mNone\u001b[39;00m \u001b[38;5;129;01mand\u001b[39;00m amt != \u001b[32m0\u001b[39m \u001b[38;5;129;01mand\u001b[39;00m \u001b[38;5;129;01mnot\u001b[39;00m data:\n\u001b[32m    906\u001b[39m         \u001b[38;5;66;03m# Platform-specific: Buggy versions of Python.\u001b[39;00m\n\u001b[32m    907\u001b[39m         \u001b[38;5;66;03m# Close the connection when no data is returned\u001b[39;00m\n\u001b[32m   (...)\u001b[39m\u001b[32m    912\u001b[39m         \u001b[38;5;66;03m# not properly close the connection in all cases. There is\u001b[39;00m\n\u001b[32m    913\u001b[39m         \u001b[38;5;66;03m# no harm in redundantly calling close.\u001b[39;00m\n\u001b[32m    914\u001b[39m         \u001b[38;5;28mself\u001b[39m._fp.close()\n",
      "\u001b[36mFile \u001b[39m\u001b[32m~/projects/aws-ai-ml-workshop-kr/genai/aws-gen-ai-kr/20_applications/08_bedrock_manus/use_cases/05_insight_extractor_strands_sdk_workshop_phase_2/setup/.venv/lib/python3.12/site-packages/urllib3/response.py:887\u001b[39m, in \u001b[36mHTTPResponse._fp_read\u001b[39m\u001b[34m(self, amt, read1)\u001b[39m\n\u001b[32m    884\u001b[39m     \u001b[38;5;28;01mreturn\u001b[39;00m \u001b[38;5;28mself\u001b[39m._fp.read1(amt) \u001b[38;5;28;01mif\u001b[39;00m amt \u001b[38;5;129;01mis\u001b[39;00m \u001b[38;5;129;01mnot\u001b[39;00m \u001b[38;5;28;01mNone\u001b[39;00m \u001b[38;5;28;01melse\u001b[39;00m \u001b[38;5;28mself\u001b[39m._fp.read1()\n\u001b[32m    885\u001b[39m \u001b[38;5;28;01melse\u001b[39;00m:\n\u001b[32m    886\u001b[39m     \u001b[38;5;66;03m# StringIO doesn't like amt=None\u001b[39;00m\n\u001b[32m--> \u001b[39m\u001b[32m887\u001b[39m     \u001b[38;5;28;01mreturn\u001b[39;00m \u001b[38;5;28;43mself\u001b[39;49m\u001b[43m.\u001b[49m\u001b[43m_fp\u001b[49m\u001b[43m.\u001b[49m\u001b[43mread\u001b[49m\u001b[43m(\u001b[49m\u001b[43mamt\u001b[49m\u001b[43m)\u001b[49m \u001b[38;5;28;01mif\u001b[39;00m amt \u001b[38;5;129;01mis\u001b[39;00m \u001b[38;5;129;01mnot\u001b[39;00m \u001b[38;5;28;01mNone\u001b[39;00m \u001b[38;5;28;01melse\u001b[39;00m \u001b[38;5;28mself\u001b[39m._fp.read()\n",
      "\u001b[36mFile \u001b[39m\u001b[32m~/.local/share/uv/python/cpython-3.12.11-linux-aarch64-gnu/lib/python3.12/http/client.py:473\u001b[39m, in \u001b[36mHTTPResponse.read\u001b[39m\u001b[34m(self, amt)\u001b[39m\n\u001b[32m    470\u001b[39m     \u001b[38;5;28;01mreturn\u001b[39;00m \u001b[33mb\u001b[39m\u001b[33m\"\u001b[39m\u001b[33m\"\u001b[39m\n\u001b[32m    472\u001b[39m \u001b[38;5;28;01mif\u001b[39;00m \u001b[38;5;28mself\u001b[39m.chunked:\n\u001b[32m--> \u001b[39m\u001b[32m473\u001b[39m     \u001b[38;5;28;01mreturn\u001b[39;00m \u001b[38;5;28;43mself\u001b[39;49m\u001b[43m.\u001b[49m\u001b[43m_read_chunked\u001b[49m\u001b[43m(\u001b[49m\u001b[43mamt\u001b[49m\u001b[43m)\u001b[49m\n\u001b[32m    475\u001b[39m \u001b[38;5;28;01mif\u001b[39;00m amt \u001b[38;5;129;01mis\u001b[39;00m \u001b[38;5;129;01mnot\u001b[39;00m \u001b[38;5;28;01mNone\u001b[39;00m \u001b[38;5;129;01mand\u001b[39;00m amt >= \u001b[32m0\u001b[39m:\n\u001b[32m    476\u001b[39m     \u001b[38;5;28;01mif\u001b[39;00m \u001b[38;5;28mself\u001b[39m.length \u001b[38;5;129;01mis\u001b[39;00m \u001b[38;5;129;01mnot\u001b[39;00m \u001b[38;5;28;01mNone\u001b[39;00m \u001b[38;5;129;01mand\u001b[39;00m amt > \u001b[38;5;28mself\u001b[39m.length:\n\u001b[32m    477\u001b[39m         \u001b[38;5;66;03m# clip the read to the \"end of response\"\u001b[39;00m\n",
      "\u001b[36mFile \u001b[39m\u001b[32m~/.local/share/uv/python/cpython-3.12.11-linux-aarch64-gnu/lib/python3.12/http/client.py:597\u001b[39m, in \u001b[36mHTTPResponse._read_chunked\u001b[39m\u001b[34m(self, amt)\u001b[39m\n\u001b[32m    595\u001b[39m value = []\n\u001b[32m    596\u001b[39m \u001b[38;5;28;01mtry\u001b[39;00m:\n\u001b[32m--> \u001b[39m\u001b[32m597\u001b[39m     \u001b[38;5;28;01mwhile\u001b[39;00m (chunk_left := \u001b[38;5;28;43mself\u001b[39;49m\u001b[43m.\u001b[49m\u001b[43m_get_chunk_left\u001b[49m\u001b[43m(\u001b[49m\u001b[43m)\u001b[49m) \u001b[38;5;129;01mis\u001b[39;00m \u001b[38;5;129;01mnot\u001b[39;00m \u001b[38;5;28;01mNone\u001b[39;00m:\n\u001b[32m    598\u001b[39m         \u001b[38;5;28;01mif\u001b[39;00m amt \u001b[38;5;129;01mis\u001b[39;00m \u001b[38;5;129;01mnot\u001b[39;00m \u001b[38;5;28;01mNone\u001b[39;00m \u001b[38;5;129;01mand\u001b[39;00m amt <= chunk_left:\n\u001b[32m    599\u001b[39m             value.append(\u001b[38;5;28mself\u001b[39m._safe_read(amt))\n",
      "\u001b[36mFile \u001b[39m\u001b[32m~/.local/share/uv/python/cpython-3.12.11-linux-aarch64-gnu/lib/python3.12/http/client.py:579\u001b[39m, in \u001b[36mHTTPResponse._get_chunk_left\u001b[39m\u001b[34m(self)\u001b[39m\n\u001b[32m    577\u001b[39m     \u001b[38;5;28mself\u001b[39m._safe_read(\u001b[32m2\u001b[39m)  \u001b[38;5;66;03m# toss the CRLF at the end of the chunk\u001b[39;00m\n\u001b[32m    578\u001b[39m \u001b[38;5;28;01mtry\u001b[39;00m:\n\u001b[32m--> \u001b[39m\u001b[32m579\u001b[39m     chunk_left = \u001b[38;5;28;43mself\u001b[39;49m\u001b[43m.\u001b[49m\u001b[43m_read_next_chunk_size\u001b[49m\u001b[43m(\u001b[49m\u001b[43m)\u001b[49m\n\u001b[32m    580\u001b[39m \u001b[38;5;28;01mexcept\u001b[39;00m \u001b[38;5;167;01mValueError\u001b[39;00m:\n\u001b[32m    581\u001b[39m     \u001b[38;5;28;01mraise\u001b[39;00m IncompleteRead(\u001b[33mb\u001b[39m\u001b[33m'\u001b[39m\u001b[33m'\u001b[39m)\n",
      "\u001b[36mFile \u001b[39m\u001b[32m~/.local/share/uv/python/cpython-3.12.11-linux-aarch64-gnu/lib/python3.12/http/client.py:539\u001b[39m, in \u001b[36mHTTPResponse._read_next_chunk_size\u001b[39m\u001b[34m(self)\u001b[39m\n\u001b[32m    537\u001b[39m \u001b[38;5;28;01mdef\u001b[39;00m\u001b[38;5;250m \u001b[39m\u001b[34m_read_next_chunk_size\u001b[39m(\u001b[38;5;28mself\u001b[39m):\n\u001b[32m    538\u001b[39m     \u001b[38;5;66;03m# Read the next chunk size from the file\u001b[39;00m\n\u001b[32m--> \u001b[39m\u001b[32m539\u001b[39m     line = \u001b[38;5;28;43mself\u001b[39;49m\u001b[43m.\u001b[49m\u001b[43mfp\u001b[49m\u001b[43m.\u001b[49m\u001b[43mreadline\u001b[49m\u001b[43m(\u001b[49m\u001b[43m_MAXLINE\u001b[49m\u001b[43m \u001b[49m\u001b[43m+\u001b[49m\u001b[43m \u001b[49m\u001b[32;43m1\u001b[39;49m\u001b[43m)\u001b[49m\n\u001b[32m    540\u001b[39m     \u001b[38;5;28;01mif\u001b[39;00m \u001b[38;5;28mlen\u001b[39m(line) > _MAXLINE:\n\u001b[32m    541\u001b[39m         \u001b[38;5;28;01mraise\u001b[39;00m LineTooLong(\u001b[33m\"\u001b[39m\u001b[33mchunk size\u001b[39m\u001b[33m\"\u001b[39m)\n",
      "\u001b[36mFile \u001b[39m\u001b[32m~/.local/share/uv/python/cpython-3.12.11-linux-aarch64-gnu/lib/python3.12/socket.py:720\u001b[39m, in \u001b[36mSocketIO.readinto\u001b[39m\u001b[34m(self, b)\u001b[39m\n\u001b[32m    718\u001b[39m \u001b[38;5;28;01mwhile\u001b[39;00m \u001b[38;5;28;01mTrue\u001b[39;00m:\n\u001b[32m    719\u001b[39m     \u001b[38;5;28;01mtry\u001b[39;00m:\n\u001b[32m--> \u001b[39m\u001b[32m720\u001b[39m         \u001b[38;5;28;01mreturn\u001b[39;00m \u001b[38;5;28;43mself\u001b[39;49m\u001b[43m.\u001b[49m\u001b[43m_sock\u001b[49m\u001b[43m.\u001b[49m\u001b[43mrecv_into\u001b[49m\u001b[43m(\u001b[49m\u001b[43mb\u001b[49m\u001b[43m)\u001b[49m\n\u001b[32m    721\u001b[39m     \u001b[38;5;28;01mexcept\u001b[39;00m timeout:\n\u001b[32m    722\u001b[39m         \u001b[38;5;28mself\u001b[39m._timeout_occurred = \u001b[38;5;28;01mTrue\u001b[39;00m\n",
      "\u001b[36mFile \u001b[39m\u001b[32m~/.local/share/uv/python/cpython-3.12.11-linux-aarch64-gnu/lib/python3.12/ssl.py:1251\u001b[39m, in \u001b[36mSSLSocket.recv_into\u001b[39m\u001b[34m(self, buffer, nbytes, flags)\u001b[39m\n\u001b[32m   1247\u001b[39m     \u001b[38;5;28;01mif\u001b[39;00m flags != \u001b[32m0\u001b[39m:\n\u001b[32m   1248\u001b[39m         \u001b[38;5;28;01mraise\u001b[39;00m \u001b[38;5;167;01mValueError\u001b[39;00m(\n\u001b[32m   1249\u001b[39m           \u001b[33m\"\u001b[39m\u001b[33mnon-zero flags not allowed in calls to recv_into() on \u001b[39m\u001b[38;5;132;01m%s\u001b[39;00m\u001b[33m\"\u001b[39m %\n\u001b[32m   1250\u001b[39m           \u001b[38;5;28mself\u001b[39m.\u001b[34m__class__\u001b[39m)\n\u001b[32m-> \u001b[39m\u001b[32m1251\u001b[39m     \u001b[38;5;28;01mreturn\u001b[39;00m \u001b[38;5;28;43mself\u001b[39;49m\u001b[43m.\u001b[49m\u001b[43mread\u001b[49m\u001b[43m(\u001b[49m\u001b[43mnbytes\u001b[49m\u001b[43m,\u001b[49m\u001b[43m \u001b[49m\u001b[43mbuffer\u001b[49m\u001b[43m)\u001b[49m\n\u001b[32m   1252\u001b[39m \u001b[38;5;28;01melse\u001b[39;00m:\n\u001b[32m   1253\u001b[39m     \u001b[38;5;28;01mreturn\u001b[39;00m \u001b[38;5;28msuper\u001b[39m().recv_into(buffer, nbytes, flags)\n",
      "\u001b[36mFile \u001b[39m\u001b[32m~/.local/share/uv/python/cpython-3.12.11-linux-aarch64-gnu/lib/python3.12/ssl.py:1103\u001b[39m, in \u001b[36mSSLSocket.read\u001b[39m\u001b[34m(self, len, buffer)\u001b[39m\n\u001b[32m   1101\u001b[39m \u001b[38;5;28;01mtry\u001b[39;00m:\n\u001b[32m   1102\u001b[39m     \u001b[38;5;28;01mif\u001b[39;00m buffer \u001b[38;5;129;01mis\u001b[39;00m \u001b[38;5;129;01mnot\u001b[39;00m \u001b[38;5;28;01mNone\u001b[39;00m:\n\u001b[32m-> \u001b[39m\u001b[32m1103\u001b[39m         \u001b[38;5;28;01mreturn\u001b[39;00m \u001b[38;5;28;43mself\u001b[39;49m\u001b[43m.\u001b[49m\u001b[43m_sslobj\u001b[49m\u001b[43m.\u001b[49m\u001b[43mread\u001b[49m\u001b[43m(\u001b[49m\u001b[38;5;28;43mlen\u001b[39;49m\u001b[43m,\u001b[49m\u001b[43m \u001b[49m\u001b[43mbuffer\u001b[49m\u001b[43m)\u001b[49m\n\u001b[32m   1104\u001b[39m     \u001b[38;5;28;01melse\u001b[39;00m:\n\u001b[32m   1105\u001b[39m         \u001b[38;5;28;01mreturn\u001b[39;00m \u001b[38;5;28mself\u001b[39m._sslobj.read(\u001b[38;5;28mlen\u001b[39m)\n",
      "\u001b[31mKeyboardInterrupt\u001b[39m: "
     ]
    }
   ],
   "source": [
    "import json\n",
    "import boto3\n",
    "from boto3.session import Session\n",
    "from src.utils.strands_sdk_utils import strands_utils\n",
    "\n",
    "boto_session = Session()\n",
    "region = boto_session.region_name\n",
    "\n",
    "def parse_sse_data(sse_bytes):\n",
    "    if not sse_bytes or len(sse_bytes) == 0:\n",
    "        return None\n",
    "\n",
    "    try:\n",
    "        text = sse_bytes.decode('utf-8').strip()\n",
    "        if not text or text == '': return None\n",
    "\n",
    "        if text.startswith('data: '):\n",
    "            json_text = text[6:].strip()\n",
    "            if json_text: return json.loads(json_text)\n",
    "        else:\n",
    "            return json.loads(text)\n",
    "\n",
    "    except Exception as e:\n",
    "        # 디버깅용으로만 출력\n",
    "        # print(f\"Parse error: {e}\")\n",
    "        pass\n",
    "\n",
    "    return None\n",
    "      \n",
    "\n",
    "agent_arn = launch_result.agent_arn\n",
    "from botocore.config import Config\n",
    "\n",
    "my_config = Config(\n",
    "    connect_timeout=60*100,\n",
    "    read_timeout=60*5,\n",
    ")\n",
    "\n",
    "agentcore_client = boto3.client(\n",
    "    'bedrock-agentcore',\n",
    "    region_name=region,\n",
    "    config=my_config,\n",
    ")\n",
    "\n",
    "#agent_arn = \"arn:aws:bedrock-agentcore:us-west-2:615299776985:runtime/runtime-GxV7G995xb\"\n",
    "\n",
    "boto3_response = agentcore_client.invoke_agent_runtime(\n",
    "    agentRuntimeArn=agent_arn,\n",
    "    qualifier=\"DEFAULT\",\n",
    "    #payload=json.dumps({\"prompt\": \"What is the weather now?\"})\n",
    "    payload=json.dumps({\"prompt\": '이것은 아마존 상품판매 데이터를 분석하고 싶습니다. 분석대상은 \"./data/Dat-fresh-food-claude.csv\" 파일 입니다. 데이터를 기반으로 마케팅 인사이트 추출을 위한 분석을 진행해 주세요. 분석은 기본적인 데이터 속성 탐색 부터, 상품 판매 트렌드, 변수 관계, 변수 조합 등 다양한 분석 기법을 수행해 주세요. 데이터 분석 후 인사이트 추출에 필요한 사항이 있다면 그를 위한 추가 분석도 수행해 주세요. 분석 리포트는 상세 분석과 그 것을 뒷받침 할 수 있는 이미지 및 차트를 함께 삽입해 주세요. 최종 리포트는 pdf 형태로 저장해 주세요.'})\n",
    ")\n",
    "if \"text/event-stream\" in boto3_response.get(\"contentType\", \"\"):\n",
    "    content = []\n",
    "    for event in boto3_response[\"response\"].iter_lines(chunk_size=1):\n",
    "        event = parse_sse_data(event)\n",
    "        if event is None:  # None 체크 추가\n",
    "            continue\n",
    "        else:\n",
    "            strands_utils.process_event_for_display(event)\n",
    "else:\n",
    "    try:\n",
    "        events = []\n",
    "        for event in boto3_response.get(\"response\", []):\n",
    "            print (\"6\", event)\n",
    "            events.append(event)\n",
    "    except Exception as e:\n",
    "        events = [f\"Error reading EventStream: {e}\"]\n",
    "    display(Markdown(json.loads(events[0].decode(\"utf-8\"))))"
   ]
  },
  {
   "cell_type": "markdown",
   "id": "fefa09f2-d25a-483f-aedb-11690bb8923a",
   "metadata": {},
   "source": [
    "### Processing invocation results\n",
    "\n",
    "We can now process our invocation results to include it in an application"
   ]
  },
  {
   "cell_type": "code",
   "execution_count": null,
   "id": "11249103-cfb3-47b5-970d-981a977a225a",
   "metadata": {
    "scrolled": true
   },
   "outputs": [],
   "source": [
    "from IPython.display import Markdown, display\n",
    "import json\n",
    "response_text = json.loads(invoke_response['response'][0].decode(\"utf-8\"))\n",
    "display(Markdown(response_text))"
   ]
  },
  {
   "cell_type": "markdown",
   "id": "2c1d2bce-be41-478c-8bed-b4037c385795",
   "metadata": {},
   "source": [
    "### Invoking AgentCore Runtime with boto3\n",
    "\n",
    "Now that your AgentCore Runtime was created you can invoke it with any AWS SDK. For instance, you can use the boto3 `invoke_agent_runtime` method for it."
   ]
  },
  {
   "cell_type": "code",
   "execution_count": null,
   "id": "7f84e68d-6c04-41b9-bf5b-60edc3fa0985",
   "metadata": {},
   "outputs": [],
   "source": [
    "import boto3\n",
    "import json\n",
    "agent_arn = launch_result.agent_arn\n",
    "agentcore_client = boto3.client(\n",
    "    'bedrock-agentcore',\n",
    "    region_name=region\n",
    ")\n",
    "\n",
    "boto3_response = agentcore_client.invoke_agent_runtime(\n",
    "    agentRuntimeArn=agent_arn,\n",
    "    qualifier=\"DEFAULT\",\n",
    "    #payload=json.dumps({\"prompt\": \"What is the weather now?\"})\n",
    "    payload=json.dumps({\"prompt\": \"안녕 나는 장동진이라고 해. 만나서 반가워 나는 데이터를 제공하고 그것으로 부터 인사이트를 추출하고 싶어.\"})\n",
    "    #agentcore_runtime.invoke({\"prompt\": \"안녕 나는 장동진이라고 해. 만나서 반가워 나는 데이터를 제공하고 그것으로 부터 인사이트를 추출하고 싶어.\"})\n",
    ")\n",
    "# if \"text/event-stream\" in boto3_response.get(\"contentType\", \"\"):\n",
    "#     content = []\n",
    "#     for line in boto3_response[\"response\"].iter_lines(chunk_size=1):\n",
    "#         if line:\n",
    "#             line = line.decode(\"utf-8\")\n",
    "#             if line.startswith(\"data: \"):\n",
    "#                 line = line[6:]\n",
    "#                 logger.info(line)\n",
    "#                 content.append(line)\n",
    "#     display(Markdown(\"\\n\".join(content)))\n",
    "# else:\n",
    "#     try:\n",
    "#         events = []\n",
    "#         for event in boto3_response.get(\"response\", []):\n",
    "#             events.append(event)\n",
    "#     except Exception as e:\n",
    "#         events = [f\"Error reading EventStream: {e}\"]\n",
    "#     display(Markdown(json.loads(events[0].decode(\"utf-8\"))))"
   ]
  },
  {
   "cell_type": "code",
   "execution_count": null,
   "id": "2dd4c970",
   "metadata": {},
   "outputs": [],
   "source": [
    "boto3_response"
   ]
  },
  {
   "cell_type": "markdown",
   "id": "7d3fdfe404469632",
   "metadata": {},
   "source": [
    "## Cleanup (Optional)\n",
    "\n",
    "Let's now clean up the AgentCore Runtime created"
   ]
  },
  {
   "cell_type": "code",
   "execution_count": null,
   "id": "08f86824-c775-4ad4-aaee-f18e8cf390b9",
   "metadata": {},
   "outputs": [],
   "source": [
    "launch_result.ecr_uri, launch_result.agent_id, launch_result.ecr_uri.split('/')[1]"
   ]
  },
  {
   "cell_type": "code",
   "execution_count": null,
   "id": "76a6cf1416830a54",
   "metadata": {},
   "outputs": [],
   "source": [
    "agentcore_control_client = boto3.client(\n",
    "    'bedrock-agentcore-control',\n",
    "    region_name=region\n",
    ")\n",
    "ecr_client = boto3.client(\n",
    "    'ecr',\n",
    "    region_name=region\n",
    "    \n",
    ")\n",
    "\n",
    "iam_client = boto3.client('iam')\n",
    "\n",
    "runtime_delete_response = agentcore_control_client.delete_agent_runtime(\n",
    "    agentRuntimeId=launch_result.agent_id\n",
    ")\n",
    "\n",
    "response = ecr_client.delete_repository(\n",
    "    repositoryName=launch_result.ecr_uri.split('/')[1],\n",
    "    force=True\n",
    ")\n",
    "policies = iam_client.list_role_policies(\n",
    "    RoleName=agentcore_iam_role['Role']['RoleName'],\n",
    "    MaxItems=100\n",
    ")\n",
    "\n",
    "for policy_name in policies['PolicyNames']:\n",
    "    iam_client.delete_role_policy(\n",
    "        RoleName=agentcore_iam_role['Role']['RoleName'],\n",
    "        PolicyName=policy_name\n",
    "    )\n",
    "iam_response = iam_client.delete_role(\n",
    "    RoleName=agentcore_iam_role['Role']['RoleName']\n",
    ")"
   ]
  },
  {
   "cell_type": "markdown",
   "id": "b118ad38-feeb-4d1d-9d57-e5c845becc56",
   "metadata": {},
   "source": [
    "# Congratulations!"
   ]
  }
 ],
 "metadata": {
  "kernelspec": {
   "display_name": "bedrock-manus-agentcore (UV)",
   "language": "python",
   "name": "bedrock-manus-agentcore"
  },
  "language_info": {
   "codemirror_mode": {
    "name": "ipython",
    "version": 3
   },
   "file_extension": ".py",
   "mimetype": "text/x-python",
   "name": "python",
   "nbconvert_exporter": "python",
   "pygments_lexer": "ipython3",
   "version": "3.12.11"
  }
 },
 "nbformat": 4,
 "nbformat_minor": 5
}
