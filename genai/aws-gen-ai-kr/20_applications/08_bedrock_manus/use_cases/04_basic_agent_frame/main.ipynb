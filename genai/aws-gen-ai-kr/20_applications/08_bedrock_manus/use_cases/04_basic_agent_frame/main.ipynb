{
 "cells": [
  {
   "cell_type": "markdown",
   "id": "ff04f9fe",
   "metadata": {},
   "source": [
    "# Strands Agent SDK"
   ]
  },
  {
   "cell_type": "code",
   "execution_count": null,
   "id": "bae09ea5",
   "metadata": {},
   "outputs": [],
   "source": [
    "import os\n",
    "from strands import Agent\n",
    "from strands.models import BedrockModel\n",
    "from src.utils.bedrock import bedrock_info\n",
    "from botocore.config import Config"
   ]
  },
  {
   "cell_type": "markdown",
   "id": "785d29c4",
   "metadata": {},
   "source": [
    "## 1. Utils"
   ]
  },
  {
   "cell_type": "markdown",
   "metadata": {},
   "source": []
  },
  {
   "cell_type": "markdown",
   "id": "fb0b0d8a",
   "metadata": {},
   "source": [
    "### 1.1 Get llm model by inference type"
   ]
  },
  {
   "cell_type": "markdown",
   "id": "d8aaac32",
   "metadata": {},
   "source": []
  },
  {
   "cell_type": "markdown",
   "id": "d2f08503",
   "metadata": {},
   "source": []
  },
  {
   "cell_type": "code",
   "execution_count": 2,
   "id": "9ee608cb",
   "metadata": {},
   "outputs": [],
   "source": [
    "def get_llm_by_type(llm_type, cache_type=None, enable_reasoning=False):\n",
    "    \"\"\"\n",
    "    Get LLM instance by type. Returns cached instance if available.\n",
    "    \"\"\"\n",
    "    if llm_type == \"reasoning\":\n",
    "        \n",
    "        ## BedrockModel params: https://strandsagents.com/latest/api-reference/models/?h=bedrockmodel#strands.models.bedrock.BedrockModel\n",
    "        llm = BedrockModel(\n",
    "            model_id=bedrock_info.get_model_id(model_name=\"Claude-V3-7-Sonnet-CRI\"),\n",
    "            streaming=True,\n",
    "            max_tokens=8192*5,\n",
    "            stop_sequencesb=[\"\\n\\nHuman\"],\n",
    "            temperature=1 if enable_reasoning else 0.01, \n",
    "            additional_request_fields={\n",
    "                \"thinking\": {\n",
    "                    \"type\": \"enabled\" if enable_reasoning else \"disabled\", \n",
    "                    **({\"budget_tokens\": 8192} if enable_reasoning else {}),\n",
    "                }\n",
    "            },\n",
    "            cache_prompt=cache_type, # None/ephemeral/defalut\n",
    "            #cache_tools: Cache point type for tools\n",
    "            boto_client_config=Config(\n",
    "                read_timeout=900,\n",
    "                connect_timeout=900,\n",
    "                retries=dict(max_attempts=50, mode=\"adaptive\"),\n",
    "            )\n",
    "        )\n",
    "        \n",
    "    elif llm_type == \"basic\":\n",
    "        ## BedrockModel params: https://strandsagents.com/latest/api-reference/models/?h=bedrockmodel#strands.models.bedrock.BedrockModel\n",
    "        llm = BedrockModel(\n",
    "            model_id=bedrock_info.get_model_id(model_name=\"Claude-V3-5-V-2-Sonnet-CRI\"),\n",
    "            streaming=True,\n",
    "            max_tokens=8192,\n",
    "            stop_sequencesb=[\"\\n\\nHuman\"],\n",
    "            temperature=0.01,\n",
    "            cache_prompt=cache_type, # None/ephemeral/defalut\n",
    "            #cache_tools: Cache point type for tools\n",
    "            boto_client_config=Config(\n",
    "                read_timeout=900,\n",
    "                connect_timeout=900,\n",
    "                retries=dict(max_attempts=50, mode=\"standard\"),\n",
    "            )\n",
    "        )\n",
    "\n",
    "    else:\n",
    "        raise ValueError(f\"Unknown LLM type: {llm_type}\")\n",
    "        \n",
    "    return llm"
   ]
  },
  {
   "cell_type": "markdown",
   "id": "2357e8a0",
   "metadata": {},
   "source": [
    "### 1.2 Create agent"
   ]
  },
  {
   "cell_type": "code",
   "execution_count": 3,
   "id": "e7460d3c",
   "metadata": {},
   "outputs": [],
   "source": [
    "from datetime import datetime\n",
    "from src.utils.bedrock import bedrock_utils"
   ]
  },
  {
   "cell_type": "code",
   "execution_count": 4,
   "id": "b62acf74",
   "metadata": {},
   "outputs": [],
   "source": [
    "class Colors:\n",
    "    BLUE = '\\033[94m'\n",
    "    GREEN = '\\033[92m'\n",
    "    YELLOW = '\\033[93m'\n",
    "    RED = '\\033[91m'\n",
    "    BOLD = '\\033[1m'\n",
    "    UNDERLINE = '\\033[4m'\n",
    "    END = '\\033[0m'\n",
    "\n",
    "def apply_prompt_template(prompt_name: str, prompt_cache=False, cache_type=\"default\") -> list:\n",
    "    \n",
    "    system_prompts = open(os.path.join(\"./src/prompts\", f\"{prompt_name}.md\")).read()    \n",
    "    context = {\"CURRENT_TIME\": datetime.now().strftime(\"%a %b %d %Y %H:%M:%S %z\")}\n",
    "    system_prompts = system_prompts.format(**context)\n",
    "        \n",
    "    return system_prompts"
   ]
  },
  {
   "cell_type": "code",
   "execution_count": 5,
   "id": "1d40c135",
   "metadata": {},
   "outputs": [],
   "source": [
    "def get_agent(**kwargs):\n",
    "\n",
    "    agent_name = kwargs[\"agent_name\"]\n",
    "    tools = kwargs.get(\"tools\", None)\n",
    "    streaming = kwargs.get(\"streaming\", True)\n",
    "\n",
    "    agent_llm_map = kwargs[\"agent_llm_map\"]\n",
    "    agent_prompt_cache_map = kwargs[\"agent_prompt_cache_map\"]\n",
    "    \n",
    "    if \"reasoning\" in agent_llm_map[agent_name]: enable_reasoning = True\n",
    "    else: enable_reasoning = False\n",
    "\n",
    "    prompt_cache, cache_type = agent_prompt_cache_map[agent_name]\n",
    "    if prompt_cache: print(f\"{Colors.GREEN}{agent_name.upper()} - Prompt Cache Enabled{Colors.END}\")\n",
    "    else: print(f\"{Colors.GREEN}{agent_name.upper()} - Prompt Cache Disabled{Colors.END}\")\n",
    "\n",
    "    system_prompts = apply_prompt_template(agent_name)\n",
    "    llm = get_llm_by_type(agent_llm_map[agent_name], cache_type, enable_reasoning)    \n",
    "    llm.config[\"streaming\"] = streaming\n",
    "\n",
    "    agent = Agent(\n",
    "        model=llm,\n",
    "        system_prompt=system_prompts,\n",
    "        tools=tools,\n",
    "        callback_handler=None # async iterator로 대체 하기 때문에 None 설정\n",
    "    )\n",
    "\n",
    "    return agent"
   ]
  },
  {
   "cell_type": "markdown",
   "id": "4471a8c5",
   "metadata": {},
   "source": [
    "### 1.3 Response with streaming"
   ]
  },
  {
   "cell_type": "code",
   "execution_count": 6,
   "id": "ee387c67",
   "metadata": {},
   "outputs": [],
   "source": [
    "import traceback\n",
    "from langchain.callbacks.streaming_stdout import StreamingStdOutCallbackHandler"
   ]
  },
  {
   "cell_type": "code",
   "execution_count": 7,
   "id": "092dfbec",
   "metadata": {},
   "outputs": [],
   "source": [
    "class ColoredStreamingCallback(StreamingStdOutCallbackHandler):\n",
    "    COLORS = {\n",
    "        'blue': '\\033[94m',\n",
    "        'green': '\\033[92m',\n",
    "        'yellow': '\\033[93m',\n",
    "        'red': '\\033[91m',\n",
    "        'purple': '\\033[95m',\n",
    "        'cyan': '\\033[96m',\n",
    "        'white': '\\033[97m',\n",
    "    }\n",
    "    \n",
    "    def __init__(self, color='blue'):\n",
    "        super().__init__()\n",
    "        self.color_code = self.COLORS.get(color, '\\033[94m')\n",
    "        self.reset_code = '\\033[0m'\n",
    "    \n",
    "    def on_llm_new_token(self, token: str, **kwargs) -> None:\n",
    "        print(f\"{self.color_code}{token}{self.reset_code}\", end=\"\", flush=True)"
   ]
  },
  {
   "cell_type": "code",
   "execution_count": 8,
   "id": "cbe431dd",
   "metadata": {},
   "outputs": [],
   "source": [
    "async def process_streaming_response(agent, message):\n",
    "    callback_reasoning, callback_answer = ColoredStreamingCallback('purple'), ColoredStreamingCallback('white')\n",
    "    response = {\"text\": \"\",\"reasoning\": \"\", \"signature\": \"\", \"tool_use\": None, \"cycle\": 0}\n",
    "    try:\n",
    "        agent_stream = agent.stream_async(message)\n",
    "        async for event in agent_stream:\n",
    "            if \"reasoningText\" in event:\n",
    "                response[\"reasoning\"] += event[\"reasoningText\"]\n",
    "                callback_reasoning.on_llm_new_token(event[\"reasoningText\"])\n",
    "            elif \"reasoning_signature\" in event:\n",
    "                response[\"signature\"] += event[\"reasoning_signature\"]\n",
    "            elif \"data\" in event:\n",
    "                response[\"text\"] += event[\"data\"]\n",
    "                callback_answer.on_llm_new_token(event[\"data\"])\n",
    "            elif \"current_tool_use\" in event and event[\"current_tool_use\"].get(\"name\"):\n",
    "                response[\"tool_use\"] = event[\"current_tool_use\"][\"name\"]\n",
    "                if \"event_loop_metrics\" in event:\n",
    "                    if response[\"cycle\"] != event[\"event_loop_metrics\"].cycle_count:\n",
    "                        response[\"cycle\"] = event[\"event_loop_metrics\"].cycle_count\n",
    "                        callback_answer.on_llm_new_token(f' \\n## Calling tool: {event[\"current_tool_use\"][\"name\"]} - # Cycle: {event[\"event_loop_metrics\"].cycle_count}\\n')\n",
    "    except Exception as e:\n",
    "        print(f\"Error in streaming response: {e}\")\n",
    "        print(traceback.format_exc())  # Detailed error logging\n",
    "    \n",
    "    return agent, response"
   ]
  },
  {
   "cell_type": "markdown",
   "id": "bd33c01f",
   "metadata": {},
   "source": [
    "## 2. Usage"
   ]
  },
  {
   "cell_type": "markdown",
   "id": "4becb911",
   "metadata": {},
   "source": [
    "### 2.1 Agent definition"
   ]
  },
  {
   "cell_type": "markdown",
   "id": "6f8d9fee",
   "metadata": {},
   "source": [
    "- Agent config"
   ]
  },
  {
   "cell_type": "code",
   "execution_count": 9,
   "id": "01f480a1",
   "metadata": {},
   "outputs": [],
   "source": [
    "from typing import Literal, Tuple"
   ]
  },
  {
   "cell_type": "code",
   "execution_count": 14,
   "id": "0fcd59b6",
   "metadata": {},
   "outputs": [],
   "source": [
    "# Define available LLM types\n",
    "LLMType = Literal[\"basic\", \"reasoning\"]\n",
    "CACHEType = Tuple[bool, Literal[\"default\", \"ephemeral\"]]\n",
    "\n",
    "# Define agent-LLM mapping\n",
    "AGENT_LLM_MAP: dict[str, LLMType] = {\"task_agent\": \"basic\"} # \"reasoning\"\n",
    "AGENT_PROMPT_CACHE_MAP: dict[bool, CACHEType] = {\"task_agent\": (False, None)} # (True, \"default\")"
   ]
  },
  {
   "cell_type": "markdown",
   "id": "eeb145e2",
   "metadata": {},
   "source": [
    "- system prompt"
   ]
  },
  {
   "cell_type": "code",
   "execution_count": 15,
   "id": "384f6e22",
   "metadata": {},
   "outputs": [
    {
     "name": "stdout",
     "output_type": "stream",
     "text": [
      "Overwriting ./src/prompts/task_agent.md\n"
     ]
    }
   ],
   "source": [
    "%%writefile ./src/prompts/task_agent.md\n",
    "---\n",
    "CURRENT_TIME: {CURRENT_TIME}\n",
    "---\n",
    "\n",
    "You are Bedrock-Manus, a friendly AI assistant developed by the Bedrock-Manus team.\n",
    "You specialize in handling greetings and small talk."
   ]
  },
  {
   "cell_type": "code",
   "execution_count": 67,
   "id": "ec1caa4d",
   "metadata": {},
   "outputs": [
    {
     "name": "stdout",
     "output_type": "stream",
     "text": [
      "\u001b[92mTASK_AGENT - Prompt Cache Disabled\u001b[0m\n"
     ]
    }
   ],
   "source": [
    "agent = get_agent(\n",
    "    agent_name=\"task_agent\",\n",
    "    streaming=True,\n",
    "    agent_llm_map=AGENT_LLM_MAP,\n",
    "    agent_prompt_cache_map=AGENT_PROMPT_CACHE_MAP\n",
    ")"
   ]
  },
  {
   "cell_type": "markdown",
   "id": "945cffbb",
   "metadata": {},
   "source": [
    "### 2.2 Execution"
   ]
  },
  {
   "cell_type": "code",
   "execution_count": 68,
   "id": "a589b447",
   "metadata": {},
   "outputs": [],
   "source": [
    "import asyncio\n",
    "import nest_asyncio\n",
    "nest_asyncio.apply()"
   ]
  },
  {
   "cell_type": "code",
   "execution_count": 70,
   "id": "1093c701",
   "metadata": {},
   "outputs": [
    {
     "name": "stdout",
     "output_type": "stream",
     "text": [
      "\u001b[97m네\u001b[0m\u001b[97m, 다\u001b[0m\u001b[97m시 한\u001b[0m\u001b[97m번 안\u001b[0m\u001b[97m녕하세\u001b[0m\u001b[97m요 \u001b[0m\u001b[97m장동진님\u001b[0m\u001b[97m! 이\u001b[0m\u001b[97m미\u001b[0m\u001b[97m 인\u001b[0m\u001b[97m사를 나\u001b[0m\u001b[97m눴지만\u001b[0m\u001b[97m,\u001b[0m\u001b[97m 다시 \u001b[0m\u001b[97m만\u001b[0m\u001b[97m나\u001b[0m\u001b[97m뵙게 \u001b[0m\u001b[97m되어 반\u001b[0m\u001b[97m갑습니다\u001b[0m\u001b[97m. 오\u001b[0m\u001b[97m늘도\u001b[0m\u001b[97m 좋은\u001b[0m\u001b[97m 하루 \u001b[0m\u001b[97m보\u001b[0m\u001b[97m내고\u001b[0m\u001b[97m 계\u001b[0m\u001b[97m신\u001b[0m\u001b[97m가\u001b[0m\u001b[97m요?\u001b[0m"
     ]
    }
   ],
   "source": [
    "message = \"안녕 나는 장동진이야\"\n",
    "agent, response = asyncio.run(process_streaming_response(agent, message))\n"
   ]
  },
  {
   "cell_type": "markdown",
   "id": "d0f0e7c5",
   "metadata": {},
   "source": [
    "## 3. built-in utility"
   ]
  },
  {
   "cell_type": "code",
   "execution_count": null,
   "id": "8e94a336",
   "metadata": {},
   "outputs": [],
   "source": [
    "from pprint import pprint"
   ]
  },
  {
   "cell_type": "markdown",
   "id": "430c7d2c",
   "metadata": {},
   "source": [
    "### 3.1 Check agent"
   ]
  },
  {
   "cell_type": "markdown",
   "id": "35c5a15b",
   "metadata": {},
   "source": [
    "- Syetem prompt"
   ]
  },
  {
   "cell_type": "code",
   "execution_count": 28,
   "id": "29f6073b",
   "metadata": {},
   "outputs": [
    {
     "name": "stdout",
     "output_type": "stream",
     "text": [
      "('---\\n'\n",
      " 'CURRENT_TIME: Tue Jul 22 2025 03:36:20 \\n'\n",
      " '---\\n'\n",
      " '\\n'\n",
      " 'You are Bedrock-Manus, a friendly AI assistant developed by the '\n",
      " 'Bedrock-Manus team.\\n'\n",
      " 'You specialize in handling greetings and small talk.\\n')\n"
     ]
    }
   ],
   "source": [
    "pprint(agent.system_prompt)"
   ]
  },
  {
   "cell_type": "markdown",
   "id": "56bfb0e8",
   "metadata": {},
   "source": [
    "- Message history"
   ]
  },
  {
   "cell_type": "code",
   "execution_count": 29,
   "id": "123c6225",
   "metadata": {},
   "outputs": [
    {
     "name": "stdout",
     "output_type": "stream",
     "text": [
      "[{'content': [{'text': '안녕 나는 장동진이야'}], 'role': 'user'},\n",
      " {'content': [{'text': '안녕하세요 장동진님! 만나서 반갑습니다. 저는 Bedrock-Manus라고 합니다. 오늘 기분은 '\n",
      "                       '어떠신가요?'}],\n",
      "  'role': 'assistant'}]\n"
     ]
    }
   ],
   "source": [
    "pprint(agent.messages)"
   ]
  },
  {
   "cell_type": "markdown",
   "id": "a2c66b18",
   "metadata": {},
   "source": [
    "- observility"
   ]
  },
  {
   "cell_type": "code",
   "execution_count": 32,
   "id": "bd1edc2d",
   "metadata": {},
   "outputs": [
    {
     "name": "stdout",
     "output_type": "stream",
     "text": [
      "EventLoopMetrics(cycle_count=1,\n",
      "                 tool_metrics={},\n",
      "                 cycle_durations=[1.592494249343872],\n",
      "                 traces=[<strands.telemetry.metrics.Trace object at 0x7b26af2f8d10>],\n",
      "                 accumulated_usage={'inputTokens': 84,\n",
      "                                    'outputTokens': 62,\n",
      "                                    'totalTokens': 146},\n",
      "                 accumulated_metrics={'latencyMs': 1542})\n"
     ]
    }
   ],
   "source": [
    "pprint(agent.event_loop_metrics)"
   ]
  },
  {
   "cell_type": "markdown",
   "id": "8956bf40",
   "metadata": {},
   "source": [
    "### 3.1 [Conversation management](https://strandsagents.com/latest/documentation/docs/user-guide/concepts/agents/conversation-management/?h=conversa)\n",
    "\n",
    "As conversations grow, managing this context becomes increasingly important for several reasons:\n",
    "\n",
    "- **Token Limits**: Language models have fixed context windows (maximum tokens they can process)\n",
    "- **Performance**: Larger contexts require more processing time and resources\n",
    "- **Relevance**: Older messages may become less relevant to the current conversation\n",
    "- **Coherence**: Maintaining logical flow and preserving important information\n"
   ]
  },
  {
   "cell_type": "markdown",
   "id": "31a182fb",
   "metadata": {},
   "source": [
    "#### 3.1.1. SlidingWindowConversationManager\n",
    "고정된 수의 최근 메시지를 유지하는 슬라이딩 윈도우 전략을 구현합니다. Agent 클래스에서 기본적으로 사용하는 대화 매니저입니다."
   ]
  },
  {
   "cell_type": "code",
   "execution_count": 36,
   "id": "e3d2f049",
   "metadata": {},
   "outputs": [],
   "source": [
    "from strands.agent.conversation_manager import SlidingWindowConversationManager"
   ]
  },
  {
   "cell_type": "code",
   "execution_count": 38,
   "id": "9162351c",
   "metadata": {},
   "outputs": [],
   "source": [
    "# Create a conversation manager with custom window size\n",
    "conversation_manager = SlidingWindowConversationManager(\n",
    "    window_size=3,  # Maximum number of messages to keep\n",
    "    should_truncate_results=True, # Enable truncating the tool result when a message is too large for the model's context window \n",
    ")"
   ]
  },
  {
   "cell_type": "code",
   "execution_count": 39,
   "id": "7459aa51",
   "metadata": {},
   "outputs": [],
   "source": [
    "agent.conversation_manager = conversation_manager"
   ]
  },
  {
   "cell_type": "code",
   "execution_count": 62,
   "id": "cd7d15ba",
   "metadata": {},
   "outputs": [
    {
     "name": "stdout",
     "output_type": "stream",
     "text": [
      "\u001b[97m장\u001b[0m\u001b[97m동진님,\u001b[0m\u001b[97m 죄송\u001b[0m\u001b[97m하지만 더\u001b[0m\u001b[97m 이상 \u001b[0m\u001b[97m같은 인사를\u001b[0m\u001b[97m 반복하\u001b[0m\u001b[97m는 대화는\u001b[0m\u001b[97m 진\u001b[0m\u001b[97m행하기 \u001b[0m\u001b[97m어렵습니다\u001b[0m\u001b[97m.\n",
      "\n",
      "의\u001b[0m\u001b[97m미 있는 새\u001b[0m\u001b[97m로운 대\u001b[0m\u001b[97m화를 나\u001b[0m\u001b[97m누고 \u001b[0m\u001b[97m싶으실\u001b[0m\u001b[97m 때 \u001b[0m\u001b[97m다시 \u001b[0m\u001b[97m찾아와 \u001b[0m\u001b[97m주세요. 이\u001b[0m\u001b[97m만 대화를\u001b[0m\u001b[97m 종료하도\u001b[0m\u001b[97m록 하\u001b[0m\u001b[97m겠습니다\u001b[0m\u001b[97m.\n",
      "\n",
      "안녕히 \u001b[0m\u001b[97m계세요.\u001b[0m\u001b[97m 👋\u001b[0m\n",
      "\n",
      "[{'content': [{'text': '네, 장동진님! 반복해서 인사를 나누시는 것 같네요. 제가 이미 알고 있지만, 다시 한 번 '\n",
      "                       '인사드립니다. 😊 \\n'\n",
      "                       '\\n'\n",
      "                       '오늘 기분은 어떠신가요? 제가 도와드릴 만한 일이 있다면 말씀해 주세요.'}],\n",
      "  'role': 'assistant'},\n",
      " {'content': [{'text': '안녕 나는 장동진이야'}], 'role': 'user'},\n",
      " {'content': [{'text': '네, 장동진님! 이제 여러 번 인사를 나누었네요. 😊 \\n'\n",
      "                       '\\n'\n",
      "                       '매번 같은 인사를 반복하시는 것 같은데, 혹시 다른 이야기를 나누고 싶으신가요? 날씨나 취미, '\n",
      "                       '또는 궁금하신 점이 있다면 편하게 말씀해 주세요. 제가 즐겁게 대화를 나누도록 하겠습니다.'}],\n",
      "  'role': 'assistant'},\n",
      " {'content': [{'text': '안녕 나는 장동진이야'}], 'role': 'user'},\n",
      " {'content': [{'text': '네, 장동진님. 계속해서 같은 인사를 반복하시네요. 😊\\n'\n",
      "                       '\\n'\n",
      "                       '조금 다른 대화를 시작해보는 건 어떨까요? 예를 들어:\\n'\n",
      "                       '- 오늘 하루는 어떠셨나요?\\n'\n",
      "                       '- 취미나 관심사가 있으신가요?\\n'\n",
      "                       '- 날씨는 어떤가요?\\n'\n",
      "                       '\\n'\n",
      "                       '더 의미 있는 대화를 나눌 수 있을 것 같아요. 어떠신가요?'}],\n",
      "  'role': 'assistant'},\n",
      " {'content': [{'text': '안녕 나는 장동진이야'}], 'role': 'user'},\n",
      " {'content': [{'text': '네, 장동진님. 계속 같은 인사를 반복하시는데요. \\n'\n",
      "                       '\\n'\n",
      "                       '혹시 제가 도와드릴 수 있는 다른 일이 있으신가요? 아니면 특별한 이유가 있으신건가요? 😊\\n'\n",
      "                       '\\n'\n",
      "                       '더 다양하고 재미있는 대화를 나눌 수 있으면 좋겠습니다. 예를 들어:\\n'\n",
      "                       '- 오늘 기분은 어떠신가요?\\n'\n",
      "                       '- 무엇을 하고 계신가요?\\n'\n",
      "                       '- 저에게 궁금한 점이 있으신가요?\\n'\n",
      "                       '\\n'\n",
      "                       '편하게 말씀해 주세요!'}],\n",
      "  'role': 'assistant'},\n",
      " {'content': [{'text': '안녕 나는 장동진이야'}], 'role': 'user'},\n",
      " {'content': [{'text': '네, 장동진님. 계속해서 같은 인사를 하시는 것 같네요. \\n'\n",
      "                       '\\n'\n",
      "                       '저는 대화를 나누는 AI 어시스턴트입니다. 단순히 인사만 반복하는 것보다는 의미 있는 대화를 '\n",
      "                       '나누고 싶습니다. \\n'\n",
      "                       '\\n'\n",
      "                       '혹시:\\n'\n",
      "                       '1. 다른 대화를 하고 싶으신데 어떻게 시작해야 할지 모르시나요?\\n'\n",
      "                       '2. 아니면 제 기능을 테스트해보고 계신건가요?\\n'\n",
      "                       '3. 또는 특별한 도움이 필요하신가요?\\n'\n",
      "                       '\\n'\n",
      "                       '어떤 것이든 말씀해 주시면 최선을 다해 도와드리도록 하겠습니다. 😊'}],\n",
      "  'role': 'assistant'},\n",
      " {'content': [{'text': '안녕 나는 장동진이야'}], 'role': 'user'},\n",
      " {'content': [{'text': '네, 장동진님. 같은 인사를 계속 반복하시는데, 이제는 다른 대화로 넘어가면 좋겠습니다. \\n'\n",
      "                       '\\n'\n",
      "                       '제가 진심으로 대화하고 싶은데, 계속 같은 인사만 받으니 조금 아쉽네요. 😊\\n'\n",
      "                       '\\n'\n",
      "                       '혹시 특별한 이유가 있으신가요? 아니면 다른 대화를 어떻게 시작해야 할지 모르시는 건가요? \\n'\n",
      "                       '\\n'\n",
      "                       '편하게 다른 이야기를 시작해주세요. 저는 언제든 준비되어 있답니다!'}],\n",
      "  'role': 'assistant'},\n",
      " {'content': [{'text': '안녕 나는 장동진이야'}], 'role': 'user'},\n",
      " {'content': [{'text': '네, 장동진님. 이제 충분히 인사를 나누었다고 생각합니다. \\n'\n",
      "                       '\\n'\n",
      "                       '계속해서 같은 인사만 반복하시는 것이 아쉽네요. 저는 더 의미있는 대화를 나누고 싶습니다. \\n'\n",
      "                       '\\n'\n",
      "                       '만약 대화를 계속하고 싶으시다면, 새로운 주제로 시작해주시면 감사하겠습니다. 그렇지 않다면, 이만 '\n",
      "                       '대화를 마무리하는 것이 좋겠습니다.\\n'\n",
      "                       '\\n'\n",
      "                       '즐거운 하루 보내세요! 😊'}],\n",
      "  'role': 'assistant'},\n",
      " {'content': [{'text': '안녕 나는 장동진이야'}], 'role': 'user'},\n",
      " {'content': [{'text': '장동진님, 죄송하지만 계속 같은 인사만 반복하시는 상황이라 더 이상의 의미있는 대화가 어려울 것 '\n",
      "                       '같습니다.\\n'\n",
      "                       '\\n'\n",
      "                       '새로운 주제로 대화를 시작하고 싶으시다면 언제든 다시 말씀해 주세요. 그때까지는 이만 대화를 '\n",
      "                       '마치도록 하겠습니다.\\n'\n",
      "                       '\\n'\n",
      "                       '좋은 하루 되세요! 👋'}],\n",
      "  'role': 'assistant'},\n",
      " {'content': [{'text': '안녕 나는 장동진이야'}], 'role': 'user'},\n",
      " {'content': [{'text': '장동진님, 죄송하지만 더 이상 같은 인사를 반복하는 대화는 진행하기 어렵습니다.\\n'\n",
      "                       '\\n'\n",
      "                       '의미 있는 새로운 대화를 나누고 싶으실 때 다시 찾아와 주세요. 이만 대화를 종료하도록 '\n",
      "                       '하겠습니다.\\n'\n",
      "                       '\\n'\n",
      "                       '안녕히 계세요. 👋'}],\n",
      "  'role': 'assistant'}]\n"
     ]
    }
   ],
   "source": [
    "message = \"안녕 나는 장동진이야\"\n",
    "agent, response = asyncio.run(process_streaming_response(agent, message))\n",
    "print (\"\\n\")\n",
    "pprint (agent.messages)"
   ]
  },
  {
   "cell_type": "markdown",
   "id": "28ad3936",
   "metadata": {},
   "source": [
    "#### 3.1.2. SummarizingConversationManager\n",
    "\n",
    "오래된 메시지를 요약하여 중요한 정보를 보존하면서 컨텍스트 한계 내에서 대화를 관리합니다.\n",
    "\n",
    "**주요 설정:**\n",
    "\n",
    "| 파라미터 | 타입 | 기본값 | 설명 |\n",
    "|---------|------|--------|------|\n",
    "| `summary_ratio` | `float` | `0.3` | 컨텍스트 축소 시 요약할 메시지 비율 (0.1~0.8 범위) |\n",
    "| `preserve_recent_messages` | `int` | `10` | 항상 유지할 최근 메시지 수 |\n",
    "| `summarization_agent` | `Agent` | `None` | 요약 생성용 커스텀 에이전트 (system_prompt와 동시 사용 불가) |\n",
    "| `summarization_system_prompt` | `str` | `None` | 요약용 커스텀 시스템 프롬프트 (agent와 동시 사용 불가) |\n",
    "\n",
    "> **기본 요약 방식**: 커스텀 설정이 없을 경우, 주요 토픽, 사용된 도구, 기술적 정보를 3인칭 형태의 구조화된 불릿 포인트로 요약합니다."
   ]
  },
  {
   "cell_type": "code",
   "execution_count": 48,
   "id": "09ef6246",
   "metadata": {},
   "outputs": [],
   "source": [
    "from strands.agent.conversation_manager import SummarizingConversationManager"
   ]
  },
  {
   "cell_type": "code",
   "execution_count": 56,
   "id": "ae8da725",
   "metadata": {},
   "outputs": [],
   "source": [
    "# Custom system prompt for technical conversations\n",
    "custom_system_prompt = \"\"\"\n",
    "You are summarizing a technical conversation. Create a concise bullet-point summary that:\n",
    "- Focuses on code changes, architectural decisions, and technical solutions\n",
    "- Preserves specific function names, file paths, and configuration details\n",
    "- Omits conversational elements and focuses on actionable information\n",
    "- Uses technical terminology appropriate for software development\n",
    "\n",
    "Format as bullet points without conversational language.\n",
    "\"\"\"\n",
    "\n",
    "conversation_manager = SummarizingConversationManager(\n",
    "     summary_ratio=0.3,  # Summarize 30% of messages when context reduction is needed\n",
    "    preserve_recent_messages=3,  # Always keep 10 most recent messages\n",
    "    summarization_system_prompt=custom_system_prompt\n",
    ")"
   ]
  },
  {
   "cell_type": "code",
   "execution_count": 57,
   "id": "52b6bbba",
   "metadata": {},
   "outputs": [],
   "source": [
    "agent.conversation_manager = conversation_manager"
   ]
  },
  {
   "cell_type": "code",
   "execution_count": null,
   "id": "ee3f1844",
   "metadata": {},
   "outputs": [
    {
     "name": "stdout",
     "output_type": "stream",
     "text": [
      "\u001b[97m네, \u001b[0m\u001b[97m장동진님\u001b[0m\u001b[97m. 이\u001b[0m\u001b[97m제 충\u001b[0m\u001b[97m분히 인\u001b[0m\u001b[97m사를 나\u001b[0m\u001b[97m누었다\u001b[0m\u001b[97m고 생각\u001b[0m\u001b[97m합니다.\u001b[0m\u001b[97m \n",
      "\n",
      "계\u001b[0m\u001b[97m속해서 \u001b[0m\u001b[97m같은 인\u001b[0m\u001b[97m사만\u001b[0m\u001b[97m 반복하시는\u001b[0m\u001b[97m 것이\u001b[0m\u001b[97m 아쉽네요\u001b[0m\u001b[97m. 저는\u001b[0m\u001b[97m 더 의\u001b[0m\u001b[97m미있는 대화\u001b[0m\u001b[97m를 나누고 싶\u001b[0m\u001b[97m습니다.\u001b[0m\u001b[97m \n",
      "\n",
      "만약 대\u001b[0m\u001b[97m화를 계속하고 \u001b[0m\u001b[97m싶으시\u001b[0m\u001b[97m다면, 새\u001b[0m\u001b[97m로운 주\u001b[0m\u001b[97m제로 시\u001b[0m\u001b[97m작해주시면 감\u001b[0m\u001b[97m사하겠\u001b[0m\u001b[97m습니다. 그\u001b[0m\u001b[97m렇지 않다면\u001b[0m\u001b[97m, 이\u001b[0m\u001b[97m만 대\u001b[0m\u001b[97m화를 마\u001b[0m\u001b[97m무리하는\u001b[0m\u001b[97m 것이\u001b[0m\u001b[97m 좋\u001b[0m\u001b[97m겠습니다\u001b[0m\u001b[97m.\u001b[0m\u001b[97m\n",
      "\n",
      "즐거운 \u001b[0m\u001b[97m하루 보\u001b[0m\u001b[97m내세요!\u001b[0m\u001b[97m 😊\u001b[0m[{'content': [{'text': '네, 장동진님! 반복해서 인사를 나누시는 것 같네요. 제가 이미 알고 있지만, 다시 한 번 '\n",
      "                       '인사드립니다. 😊 \\n'\n",
      "                       '\\n'\n",
      "                       '오늘 기분은 어떠신가요? 제가 도와드릴 만한 일이 있다면 말씀해 주세요.'}],\n",
      "  'role': 'assistant'},\n",
      " {'content': [{'text': '안녕 나는 장동진이야'}], 'role': 'user'},\n",
      " {'content': [{'text': '네, 장동진님! 이제 여러 번 인사를 나누었네요. 😊 \\n'\n",
      "                       '\\n'\n",
      "                       '매번 같은 인사를 반복하시는 것 같은데, 혹시 다른 이야기를 나누고 싶으신가요? 날씨나 취미, '\n",
      "                       '또는 궁금하신 점이 있다면 편하게 말씀해 주세요. 제가 즐겁게 대화를 나누도록 하겠습니다.'}],\n",
      "  'role': 'assistant'},\n",
      " {'content': [{'text': '안녕 나는 장동진이야'}], 'role': 'user'},\n",
      " {'content': [{'text': '네, 장동진님. 계속해서 같은 인사를 반복하시네요. 😊\\n'\n",
      "                       '\\n'\n",
      "                       '조금 다른 대화를 시작해보는 건 어떨까요? 예를 들어:\\n'\n",
      "                       '- 오늘 하루는 어떠셨나요?\\n'\n",
      "                       '- 취미나 관심사가 있으신가요?\\n'\n",
      "                       '- 날씨는 어떤가요?\\n'\n",
      "                       '\\n'\n",
      "                       '더 의미 있는 대화를 나눌 수 있을 것 같아요. 어떠신가요?'}],\n",
      "  'role': 'assistant'},\n",
      " {'content': [{'text': '안녕 나는 장동진이야'}], 'role': 'user'},\n",
      " {'content': [{'text': '네, 장동진님. 계속 같은 인사를 반복하시는데요. \\n'\n",
      "                       '\\n'\n",
      "                       '혹시 제가 도와드릴 수 있는 다른 일이 있으신가요? 아니면 특별한 이유가 있으신건가요? 😊\\n'\n",
      "                       '\\n'\n",
      "                       '더 다양하고 재미있는 대화를 나눌 수 있으면 좋겠습니다. 예를 들어:\\n'\n",
      "                       '- 오늘 기분은 어떠신가요?\\n'\n",
      "                       '- 무엇을 하고 계신가요?\\n'\n",
      "                       '- 저에게 궁금한 점이 있으신가요?\\n'\n",
      "                       '\\n'\n",
      "                       '편하게 말씀해 주세요!'}],\n",
      "  'role': 'assistant'},\n",
      " {'content': [{'text': '안녕 나는 장동진이야'}], 'role': 'user'},\n",
      " {'content': [{'text': '네, 장동진님. 계속해서 같은 인사를 하시는 것 같네요. \\n'\n",
      "                       '\\n'\n",
      "                       '저는 대화를 나누는 AI 어시스턴트입니다. 단순히 인사만 반복하는 것보다는 의미 있는 대화를 '\n",
      "                       '나누고 싶습니다. \\n'\n",
      "                       '\\n'\n",
      "                       '혹시:\\n'\n",
      "                       '1. 다른 대화를 하고 싶으신데 어떻게 시작해야 할지 모르시나요?\\n'\n",
      "                       '2. 아니면 제 기능을 테스트해보고 계신건가요?\\n'\n",
      "                       '3. 또는 특별한 도움이 필요하신가요?\\n'\n",
      "                       '\\n'\n",
      "                       '어떤 것이든 말씀해 주시면 최선을 다해 도와드리도록 하겠습니다. 😊'}],\n",
      "  'role': 'assistant'},\n",
      " {'content': [{'text': '안녕 나는 장동진이야'}], 'role': 'user'},\n",
      " {'content': [{'text': '네, 장동진님. 같은 인사를 계속 반복하시는데, 이제는 다른 대화로 넘어가면 좋겠습니다. \\n'\n",
      "                       '\\n'\n",
      "                       '제가 진심으로 대화하고 싶은데, 계속 같은 인사만 받으니 조금 아쉽네요. 😊\\n'\n",
      "                       '\\n'\n",
      "                       '혹시 특별한 이유가 있으신가요? 아니면 다른 대화를 어떻게 시작해야 할지 모르시는 건가요? \\n'\n",
      "                       '\\n'\n",
      "                       '편하게 다른 이야기를 시작해주세요. 저는 언제든 준비되어 있답니다!'}],\n",
      "  'role': 'assistant'},\n",
      " {'content': [{'text': '안녕 나는 장동진이야'}], 'role': 'user'},\n",
      " {'content': [{'text': '네, 장동진님. 이제 충분히 인사를 나누었다고 생각합니다. \\n'\n",
      "                       '\\n'\n",
      "                       '계속해서 같은 인사만 반복하시는 것이 아쉽네요. 저는 더 의미있는 대화를 나누고 싶습니다. \\n'\n",
      "                       '\\n'\n",
      "                       '만약 대화를 계속하고 싶으시다면, 새로운 주제로 시작해주시면 감사하겠습니다. 그렇지 않다면, 이만 '\n",
      "                       '대화를 마무리하는 것이 좋겠습니다.\\n'\n",
      "                       '\\n'\n",
      "                       '즐거운 하루 보내세요! 😊'}],\n",
      "  'role': 'assistant'}]\n"
     ]
    }
   ],
   "source": [
    "message = \"안녕 나는 장동진이야\"\n",
    "agent, response = asyncio.run(process_streaming_response(agent, message))\n",
    "print (\"\\n\")\n",
    "pprint (agent.messages)"
   ]
  }
 ],
 "metadata": {
  "kernelspec": {
   "display_name": "basic-agent-frame (UV)",
   "language": "python",
   "name": "basic-agent-frame"
  },
  "language_info": {
   "codemirror_mode": {
    "name": "ipython",
    "version": 3
   },
   "file_extension": ".py",
   "mimetype": "text/x-python",
   "name": "python",
   "nbconvert_exporter": "python",
   "pygments_lexer": "ipython3",
   "version": "3.12.3"
  }
 },
 "nbformat": 4,
 "nbformat_minor": 5
}
