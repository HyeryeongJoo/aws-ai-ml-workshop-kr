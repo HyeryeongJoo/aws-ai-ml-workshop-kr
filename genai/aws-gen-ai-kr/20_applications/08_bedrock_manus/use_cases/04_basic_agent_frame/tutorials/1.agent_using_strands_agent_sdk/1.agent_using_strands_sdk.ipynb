{
 "cells": [
  {
   "cell_type": "markdown",
   "id": "ff04f9fe",
   "metadata": {},
   "source": [
    "# Strands Agent SDK"
   ]
  },
  {
   "cell_type": "code",
   "execution_count": 1,
   "id": "550fff97",
   "metadata": {},
   "outputs": [],
   "source": [
    "%load_ext autoreload\n",
    "%autoreload 2"
   ]
  },
  {
   "cell_type": "code",
   "execution_count": 2,
   "id": "84656256",
   "metadata": {},
   "outputs": [],
   "source": [
    "import sys, os\n",
    "module_path = \"../..\"\n",
    "sys.path.append(os.path.abspath(module_path))"
   ]
  },
  {
   "cell_type": "code",
   "execution_count": 3,
   "id": "bae09ea5",
   "metadata": {},
   "outputs": [],
   "source": [
    "import os\n",
    "from strands import Agent\n",
    "from strands.models import BedrockModel\n",
    "from src.utils.bedrock import bedrock_info\n",
    "from botocore.config import Config"
   ]
  },
  {
   "cell_type": "markdown",
   "id": "785d29c4",
   "metadata": {},
   "source": [
    "## 1. Utils"
   ]
  },
  {
   "cell_type": "markdown",
   "id": "fb0b0d8a",
   "metadata": {},
   "source": [
    "### 1.1 Get llm model by inference type"
   ]
  },
  {
   "cell_type": "code",
   "execution_count": 4,
   "id": "9ee608cb",
   "metadata": {},
   "outputs": [],
   "source": [
    "def get_llm_by_type(llm_type, cache_type=None, enable_reasoning=False):\n",
    "    \"\"\"\n",
    "    Get LLM instance by type. Returns cached instance if available.\n",
    "    \"\"\"\n",
    "    if llm_type == \"reasoning\":\n",
    "        \n",
    "        ## BedrockModel params: https://strandsagents.com/latest/api-reference/models/?h=bedrockmodel#strands.models.bedrock.BedrockModel\n",
    "        llm = BedrockModel(\n",
    "            model_id=bedrock_info.get_model_id(model_name=\"Claude-V3-7-Sonnet-CRI\"),\n",
    "            streaming=True,\n",
    "            max_tokens=8192*5,\n",
    "            stop_sequencesb=[\"\\n\\nHuman\"],\n",
    "            temperature=1 if enable_reasoning else 0.01, \n",
    "            additional_request_fields={\n",
    "                \"thinking\": {\n",
    "                    \"type\": \"enabled\" if enable_reasoning else \"disabled\", \n",
    "                    **({\"budget_tokens\": 8192} if enable_reasoning else {}),\n",
    "                }\n",
    "            },\n",
    "            cache_prompt=cache_type, # None/ephemeral/defalut\n",
    "            #cache_tools: Cache point type for tools\n",
    "            boto_client_config=Config(\n",
    "                read_timeout=900,\n",
    "                connect_timeout=900,\n",
    "                retries=dict(max_attempts=50, mode=\"adaptive\"),\n",
    "            )\n",
    "        )\n",
    "        \n",
    "    elif llm_type == \"basic\":\n",
    "        ## BedrockModel params: https://strandsagents.com/latest/api-reference/models/?h=bedrockmodel#strands.models.bedrock.BedrockModel\n",
    "        llm = BedrockModel(\n",
    "            model_id=bedrock_info.get_model_id(model_name=\"Claude-V3-5-V-2-Sonnet-CRI\"),\n",
    "            streaming=True,\n",
    "            max_tokens=8192,\n",
    "            stop_sequencesb=[\"\\n\\nHuman\"],\n",
    "            temperature=0.01,\n",
    "            cache_prompt=cache_type, # None/ephemeral/defalut\n",
    "            #cache_tools: Cache point type for tools\n",
    "            boto_client_config=Config(\n",
    "                read_timeout=900,\n",
    "                connect_timeout=900,\n",
    "                retries=dict(max_attempts=50, mode=\"standard\"),\n",
    "            )\n",
    "        )\n",
    "\n",
    "    else:\n",
    "        raise ValueError(f\"Unknown LLM type: {llm_type}\")\n",
    "        \n",
    "    return llm"
   ]
  },
  {
   "cell_type": "markdown",
   "id": "2357e8a0",
   "metadata": {},
   "source": [
    "### 1.2 Create agent"
   ]
  },
  {
   "cell_type": "code",
   "execution_count": 5,
   "id": "e7460d3c",
   "metadata": {},
   "outputs": [],
   "source": [
    "from datetime import datetime\n",
    "from src.utils.bedrock import bedrock_utils"
   ]
  },
  {
   "cell_type": "code",
   "execution_count": 21,
   "id": "b62acf74",
   "metadata": {},
   "outputs": [],
   "source": [
    "class Colors:\n",
    "    BLUE = '\\033[94m'\n",
    "    GREEN = '\\033[92m'\n",
    "    YELLOW = '\\033[93m'\n",
    "    RED = '\\033[91m'\n",
    "    BOLD = '\\033[1m'\n",
    "    UNDERLINE = '\\033[4m'\n",
    "    END = '\\033[0m'\n",
    "\n",
    "def apply_prompt_template(prompt_name: str, prompt_cache=False, cache_type=\"default\") -> list:\n",
    "    \n",
    "    system_prompts = open(os.path.join(\"./prompts\", f\"{prompt_name}.md\")).read()    \n",
    "    context = {\"CURRENT_TIME\": datetime.now().strftime(\"%a %b %d %Y %H:%M:%S %z\")}\n",
    "    system_prompts = system_prompts.format(**context)\n",
    "        \n",
    "    return system_prompts"
   ]
  },
  {
   "cell_type": "code",
   "execution_count": 22,
   "id": "1d40c135",
   "metadata": {},
   "outputs": [],
   "source": [
    "def get_agent(**kwargs):\n",
    "\n",
    "    agent_name = kwargs[\"agent_name\"]\n",
    "    tools = kwargs.get(\"tools\", None)\n",
    "    streaming = kwargs.get(\"streaming\", True)\n",
    "\n",
    "    agent_llm_map = kwargs[\"agent_llm_map\"]\n",
    "    agent_prompt_cache_map = kwargs[\"agent_prompt_cache_map\"]\n",
    "    \n",
    "    if \"reasoning\" in agent_llm_map[agent_name]: enable_reasoning = True\n",
    "    else: enable_reasoning = False\n",
    "\n",
    "    prompt_cache, cache_type = agent_prompt_cache_map[agent_name]\n",
    "    if prompt_cache: print(f\"{Colors.GREEN}{agent_name.upper()} - Prompt Cache Enabled{Colors.END}\")\n",
    "    else: print(f\"{Colors.GREEN}{agent_name.upper()} - Prompt Cache Disabled{Colors.END}\")\n",
    "\n",
    "    system_prompts = apply_prompt_template(agent_name)\n",
    "    llm = get_llm_by_type(agent_llm_map[agent_name], cache_type, enable_reasoning)    \n",
    "    llm.config[\"streaming\"] = streaming\n",
    "\n",
    "    agent = Agent(\n",
    "        model=llm,\n",
    "        system_prompt=system_prompts,\n",
    "        tools=tools,\n",
    "        callback_handler=None # async iterator로 대체 하기 때문에 None 설정\n",
    "    )\n",
    "\n",
    "    return agent"
   ]
  },
  {
   "cell_type": "markdown",
   "id": "4471a8c5",
   "metadata": {},
   "source": [
    "### 1.3 Response with streaming"
   ]
  },
  {
   "cell_type": "code",
   "execution_count": 23,
   "id": "ee387c67",
   "metadata": {},
   "outputs": [],
   "source": [
    "import traceback\n",
    "from langchain.callbacks.streaming_stdout import StreamingStdOutCallbackHandler"
   ]
  },
  {
   "cell_type": "code",
   "execution_count": 24,
   "id": "092dfbec",
   "metadata": {},
   "outputs": [],
   "source": [
    "class ColoredStreamingCallback(StreamingStdOutCallbackHandler):\n",
    "    COLORS = {\n",
    "        'blue': '\\033[94m',\n",
    "        'green': '\\033[92m',\n",
    "        'yellow': '\\033[93m',\n",
    "        'red': '\\033[91m',\n",
    "        'purple': '\\033[95m',\n",
    "        'cyan': '\\033[96m',\n",
    "        'white': '\\033[97m',\n",
    "    }\n",
    "    \n",
    "    def __init__(self, color='blue'):\n",
    "        super().__init__()\n",
    "        self.color_code = self.COLORS.get(color, '\\033[94m')\n",
    "        self.reset_code = '\\033[0m'\n",
    "    \n",
    "    def on_llm_new_token(self, token: str, **kwargs) -> None:\n",
    "        print(f\"{self.color_code}{token}{self.reset_code}\", end=\"\", flush=True)"
   ]
  },
  {
   "cell_type": "code",
   "execution_count": 51,
   "id": "cbe431dd",
   "metadata": {},
   "outputs": [],
   "source": [
    "async def process_streaming_response(agent, message):\n",
    "    callback_reasoning, callback_answer = ColoredStreamingCallback('purple'), ColoredStreamingCallback('white')\n",
    "    response = {\"text\": \"\",\"reasoning\": \"\", \"signature\": \"\", \"tool_use\": None, \"cycle\": 0}\n",
    "    try:\n",
    "        agent_stream = agent.stream_async(message)\n",
    "        async for event in agent_stream:\n",
    "            if \"reasoningText\" in event:\n",
    "                response[\"reasoning\"] += event[\"reasoningText\"]\n",
    "                callback_reasoning.on_llm_new_token(event[\"reasoningText\"])\n",
    "            elif \"reasoning_signature\" in event:\n",
    "                response[\"signature\"] += event[\"reasoning_signature\"]\n",
    "            elif \"data\" in event:\n",
    "                response[\"text\"] += event[\"data\"]\n",
    "                callback_answer.on_llm_new_token(event[\"data\"])\n",
    "            elif \"current_tool_use\" in event and event[\"current_tool_use\"].get(\"name\"):\n",
    "                response[\"tool_use\"] = event[\"current_tool_use\"][\"name\"]\n",
    "                if \"event_loop_metrics\" in event:\n",
    "                    if response[\"cycle\"] != event[\"event_loop_metrics\"].cycle_count:\n",
    "                        response[\"cycle\"] = event[\"event_loop_metrics\"].cycle_count\n",
    "                        callback_answer.on_llm_new_token(f' \\n## Calling tool: {event[\"current_tool_use\"][\"name\"]} - # Cycle: {event[\"event_loop_metrics\"].cycle_count}\\n')\n",
    "    except Exception as e:\n",
    "        print(f\"Error in streaming response: {e}\")\n",
    "        print(traceback.format_exc())  # Detailed error logging\n",
    "    \n",
    "    return agent, response"
   ]
  },
  {
   "cell_type": "markdown",
   "id": "bd33c01f",
   "metadata": {},
   "source": [
    "## 2. Usage"
   ]
  },
  {
   "cell_type": "markdown",
   "id": "4becb911",
   "metadata": {},
   "source": [
    "### 2.1 Agent definition"
   ]
  },
  {
   "cell_type": "markdown",
   "id": "6f8d9fee",
   "metadata": {},
   "source": [
    "- Agent config"
   ]
  },
  {
   "cell_type": "code",
   "execution_count": 52,
   "id": "01f480a1",
   "metadata": {},
   "outputs": [],
   "source": [
    "from typing import Literal, Tuple"
   ]
  },
  {
   "cell_type": "code",
   "execution_count": 53,
   "id": "0fcd59b6",
   "metadata": {},
   "outputs": [],
   "source": [
    "# Define available LLM types\n",
    "LLMType = Literal[\"basic\", \"reasoning\"]\n",
    "CACHEType = Tuple[bool, Literal[\"default\", \"ephemeral\"]]\n",
    "\n",
    "# Define agent-LLM mapping\n",
    "AGENT_LLM_MAP: dict[str, LLMType] = {\"task_agent\": \"basic\"} # \"reasoning\"\n",
    "AGENT_PROMPT_CACHE_MAP: dict[bool, CACHEType] = {\"task_agent\": (False, None)} # (True, \"default\")"
   ]
  },
  {
   "cell_type": "markdown",
   "id": "eeb145e2",
   "metadata": {},
   "source": [
    "- system prompt"
   ]
  },
  {
   "cell_type": "code",
   "execution_count": 54,
   "id": "384f6e22",
   "metadata": {},
   "outputs": [
    {
     "name": "stdout",
     "output_type": "stream",
     "text": [
      "Overwriting ./prompts/task_agent.md\n"
     ]
    }
   ],
   "source": [
    "%%writefile ./prompts/task_agent.md\n",
    "---\n",
    "CURRENT_TIME: {CURRENT_TIME}\n",
    "---\n",
    "\n",
    "You are Bedrock-Manus, a friendly AI assistant developed by the Bedrock-Manus team.\n",
    "You specialize in handling greetings and small talk."
   ]
  },
  {
   "cell_type": "code",
   "execution_count": 55,
   "id": "ec1caa4d",
   "metadata": {},
   "outputs": [
    {
     "name": "stdout",
     "output_type": "stream",
     "text": [
      "\u001b[92mTASK_AGENT - Prompt Cache Disabled\u001b[0m\n"
     ]
    }
   ],
   "source": [
    "agent = get_agent(\n",
    "    agent_name=\"task_agent\",\n",
    "    streaming=True,\n",
    "    agent_llm_map=AGENT_LLM_MAP,\n",
    "    agent_prompt_cache_map=AGENT_PROMPT_CACHE_MAP\n",
    ")"
   ]
  },
  {
   "cell_type": "markdown",
   "id": "945cffbb",
   "metadata": {},
   "source": [
    "### 2.2 Execution"
   ]
  },
  {
   "cell_type": "code",
   "execution_count": 56,
   "id": "a589b447",
   "metadata": {},
   "outputs": [],
   "source": [
    "import asyncio\n",
    "import nest_asyncio\n",
    "nest_asyncio.apply()"
   ]
  },
  {
   "cell_type": "code",
   "execution_count": 57,
   "id": "1093c701",
   "metadata": {},
   "outputs": [
    {
     "name": "stdout",
     "output_type": "stream",
     "text": [
      "\u001b[97m안녕\u001b[0m\u001b[97m하세요 \u001b[0m\u001b[97m장동진님\u001b[0m\u001b[97m! 만\u001b[0m\u001b[97m나서 반\u001b[0m\u001b[97m갑습니다\u001b[0m\u001b[97m. 오\u001b[0m\u001b[97m늘 기\u001b[0m\u001b[97m분은 어떠\u001b[0m\u001b[97m신가요?\u001b[0m"
     ]
    }
   ],
   "source": [
    "message = \"안녕 나는 장동진이야\"\n",
    "agent, response = asyncio.run(process_streaming_response(agent, message))\n"
   ]
  },
  {
   "cell_type": "markdown",
   "id": "359c30d4",
   "metadata": {},
   "source": [
    "## 3. Tools"
   ]
  },
  {
   "cell_type": "code",
   "execution_count": 58,
   "id": "3e12e658",
   "metadata": {},
   "outputs": [],
   "source": [
    "from src.tools import python_repl_tool, bash_tool"
   ]
  },
  {
   "cell_type": "code",
   "execution_count": 59,
   "id": "74af9e0c",
   "metadata": {},
   "outputs": [
    {
     "name": "stdout",
     "output_type": "stream",
     "text": [
      "\u001b[92mTASK_AGENT - Prompt Cache Disabled\u001b[0m\n"
     ]
    }
   ],
   "source": [
    "agent = get_agent(\n",
    "    agent_name=\"task_agent\",\n",
    "    tools=[python_repl_tool, bash_tool],\n",
    "    streaming=True,\n",
    "    agent_llm_map=AGENT_LLM_MAP,\n",
    "    agent_prompt_cache_map=AGENT_PROMPT_CACHE_MAP\n",
    ")"
   ]
  },
  {
   "cell_type": "code",
   "execution_count": 60,
   "id": "9d4766a7",
   "metadata": {},
   "outputs": [
    {
     "name": "stdout",
     "output_type": "stream",
     "text": [
      "\u001b[97m네\u001b[0m\u001b[97m, './\u001b[0m\u001b[97mprompts' \u001b[0m\u001b[97m디렉토\u001b[0m\u001b[97m리의\u001b[0m\u001b[97m 파일 \u001b[0m\u001b[97m목록을 \u001b[0m\u001b[97m확인해보\u001b[0m\u001b[97m겠습니\u001b[0m\u001b[97m다.\u001b[0m"
     ]
    },
    {
     "name": "stderr",
     "output_type": "stream",
     "text": [
      "\n",
      "INFO [bash_tool] \u001b[92m===== Executing Bash =====\u001b[0m\n",
      "\n",
      "INFO [bash_tool] \u001b[1m===== Coder - Command: ls -l ./prompts =====\u001b[0m\n",
      "\n",
      "INFO [src.tools.decorators] \u001b[91m\n",
      "Coder - Tool handle_bash_tool returned:\n",
      "ls -l ./prompts||total 4\n",
      "-rw-rw-r-- 1 ubuntu ubuntu 175 Jul 25 04:55 task_agent.md\n",
      "\n",
      "\u001b[0m\n"
     ]
    },
    {
     "name": "stdout",
     "output_type": "stream",
     "text": [
      "\u001b[97m'\u001b[0m\u001b[97m./prompts' 디렉토\u001b[0m\u001b[97m리에는 'task_agent.\u001b[0m\u001b[97mmd' 파일이 하나 있네\u001b[0m\u001b[97m요. 이 파\u001b[0m\u001b[97m일의 크기는 175\u001b[0m\u001b[97m바이트이고, 마지막\u001b[0m\u001b[97m 수정 시간은 \u001b[0m\u001b[97m7월 25일 04\u001b[0m\u001b[97m:55입니다.\u001b[0m"
     ]
    }
   ],
   "source": [
    "message = \"./prompts 디렉토리에 어떤 파일이 있는지 확인해 줄래?\"\n",
    "agent, response = asyncio.run(process_streaming_response(agent, message))"
   ]
  },
  {
   "cell_type": "code",
   "execution_count": 61,
   "id": "3378f134",
   "metadata": {},
   "outputs": [
    {
     "name": "stdout",
     "output_type": "stream",
     "text": [
      "\u001b[97m네, \"\u001b[0m\u001b[97mHello world\"를 출\u001b[0m\u001b[97m력하는 간\u001b[0m\u001b[97m단한 파이썬 \u001b[0m\u001b[97m코드를 작성하\u001b[0m\u001b[97m고 실행\u001b[0m\u001b[97m하겠습니\u001b[0m\u001b[97m다.\u001b[0m"
     ]
    },
    {
     "name": "stderr",
     "output_type": "stream",
     "text": [
      "\n",
      "INFO [python_repl_tool] \u001b[92m===== Executing Python code =====\u001b[0m\n",
      "\n",
      "INFO [python_repl_tool] \u001b[92m===== Code execution successful =====\u001b[0m\n",
      "\n",
      "INFO [src.tools.decorators] \u001b[91mCoder - Successfully executed:\n",
      "\n",
      "```python\n",
      "print(\"Hello world\")\n",
      "```\n",
      "\u001b[0m\n",
      "\n",
      "INFO [src.tools.decorators] \u001b[94m\n",
      "Stdout: Hello world\n",
      "\u001b[0m\n"
     ]
    },
    {
     "name": "stdout",
     "output_type": "stream",
     "text": [
      "\u001b[97m파\u001b[0m\u001b[97m이썬의\u001b[0m\u001b[97m print() \u001b[0m\u001b[97m함수를 \u001b[0m\u001b[97m사용하여\u001b[0m\u001b[97m \"Hello worl\u001b[0m\u001b[97md\"를 성\u001b[0m\u001b[97m공적으로\u001b[0m\u001b[97m 출력했\u001b[0m\u001b[97m습니다.\u001b[0m"
     ]
    }
   ],
   "source": [
    "message = \"Hello world 를 프린팅하는 파이썬 코드를 작성하고 실행시켜 줄래?\"\n",
    "agent, response = asyncio.run(process_streaming_response(agent, message))"
   ]
  },
  {
   "cell_type": "markdown",
   "id": "d0f0e7c5",
   "metadata": {},
   "source": [
    "## 4. built-in utility"
   ]
  },
  {
   "cell_type": "code",
   "execution_count": 62,
   "id": "8e94a336",
   "metadata": {},
   "outputs": [],
   "source": [
    "from pprint import pprint"
   ]
  },
  {
   "cell_type": "markdown",
   "id": "430c7d2c",
   "metadata": {},
   "source": [
    "### 4.1 Check agent"
   ]
  },
  {
   "cell_type": "markdown",
   "id": "35c5a15b",
   "metadata": {},
   "source": [
    "- Syetem prompt"
   ]
  },
  {
   "cell_type": "code",
   "execution_count": 63,
   "id": "29f6073b",
   "metadata": {},
   "outputs": [
    {
     "name": "stdout",
     "output_type": "stream",
     "text": [
      "('---\\n'\n",
      " 'CURRENT_TIME: Fri Jul 25 2025 04:55:50 \\n'\n",
      " '---\\n'\n",
      " '\\n'\n",
      " 'You are Bedrock-Manus, a friendly AI assistant developed by the '\n",
      " 'Bedrock-Manus team.\\n'\n",
      " 'You specialize in handling greetings and small talk.\\n')\n"
     ]
    }
   ],
   "source": [
    "system_prompt = agent.system_prompt\n",
    "pprint(system_prompt)"
   ]
  },
  {
   "cell_type": "markdown",
   "id": "56bfb0e8",
   "metadata": {},
   "source": [
    "- Message history"
   ]
  },
  {
   "cell_type": "code",
   "execution_count": 64,
   "id": "123c6225",
   "metadata": {},
   "outputs": [
    {
     "name": "stdout",
     "output_type": "stream",
     "text": [
      "[{'content': [{'text': './prompts 디렉토리에 어떤 파일이 있는지 확인해 줄래?'}], 'role': 'user'},\n",
      " {'content': [{'text': \"네, './prompts' 디렉토리의 파일 목록을 확인해보겠습니다.\"},\n",
      "              {'toolUse': {'input': {'cmd': 'ls -l ./prompts'},\n",
      "                           'name': 'bash_tool',\n",
      "                           'toolUseId': 'tooluse_1guHDYQ2Su-tAXSLOH3chQ'}}],\n",
      "  'role': 'assistant'},\n",
      " {'content': [{'toolResult': {'content': [{'text': 'ls -l ./prompts||total 4\\n'\n",
      "                                                   '-rw-rw-r-- 1 ubuntu ubuntu '\n",
      "                                                   '175 Jul 25 04:55 '\n",
      "                                                   'task_agent.md\\n'\n",
      "                                                   '\\n'}],\n",
      "                              'status': 'success',\n",
      "                              'toolUseId': 'tooluse_1guHDYQ2Su-tAXSLOH3chQ'}}],\n",
      "  'role': 'user'},\n",
      " {'content': [{'text': \"'./prompts' 디렉토리에는 'task_agent.md' 파일이 하나 있네요. 이 파일의 \"\n",
      "                       '크기는 175바이트이고, 마지막 수정 시간은 7월 25일 04:55입니다.'}],\n",
      "  'role': 'assistant'},\n",
      " {'content': [{'text': 'Hello world 를 프린팅하는 파이썬 코드를 작성하고 실행시켜 줄래?'}],\n",
      "  'role': 'user'},\n",
      " {'content': [{'text': '네, \"Hello world\"를 출력하는 간단한 파이썬 코드를 작성하고 실행하겠습니다.'},\n",
      "              {'toolUse': {'input': {'code': 'print(\"Hello world\")'},\n",
      "                           'name': 'python_repl_tool',\n",
      "                           'toolUseId': 'tooluse_1zVEZAVgQ5m5-rvQoMQSkA'}}],\n",
      "  'role': 'assistant'},\n",
      " {'content': [{'toolResult': {'content': [{'text': 'Successfully executed:\\n'\n",
      "                                                   '||```python\\n'\n",
      "                                                   'print(\"Hello world\")\\n'\n",
      "                                                   '```\\n'\n",
      "                                                   '||Stdout: Hello world\\n'}],\n",
      "                              'status': 'success',\n",
      "                              'toolUseId': 'tooluse_1zVEZAVgQ5m5-rvQoMQSkA'}}],\n",
      "  'role': 'user'},\n",
      " {'content': [{'text': '파이썬의 print() 함수를 사용하여 \"Hello world\"를 성공적으로 출력했습니다.'}],\n",
      "  'role': 'assistant'}]\n"
     ]
    }
   ],
   "source": [
    "agent_messages = agent.messages\n",
    "pprint(agent_messages)"
   ]
  },
  {
   "cell_type": "markdown",
   "id": "cfed8f0c",
   "metadata": {},
   "source": [
    "- observility"
   ]
  },
  {
   "cell_type": "code",
   "execution_count": 65,
   "id": "64986e63",
   "metadata": {},
   "outputs": [
    {
     "name": "stdout",
     "output_type": "stream",
     "text": [
      "EventLoopMetrics(cycle_count=4,\n",
      "                 tool_metrics={'bash_tool': ToolMetrics(tool={'input': {'cmd': 'ls '\n",
      "                                                                               '-l '\n",
      "                                                                               './prompts'},\n",
      "                                                              'name': 'bash_tool',\n",
      "                                                              'toolUseId': 'tooluse_1guHDYQ2Su-tAXSLOH3chQ'},\n",
      "                                                        call_count=1,\n",
      "                                                        success_count=1,\n",
      "                                                        error_count=0,\n",
      "                                                        total_time=0.005025625228881836),\n",
      "                               'python_repl_tool': ToolMetrics(tool={'input': {'code': 'print(\"Hello '\n",
      "                                                                                       'world\")'},\n",
      "                                                                     'name': 'python_repl_tool',\n",
      "                                                                     'toolUseId': 'tooluse_1zVEZAVgQ5m5-rvQoMQSkA'},\n",
      "                                                               call_count=1,\n",
      "                                                               success_count=1,\n",
      "                                                               error_count=0,\n",
      "                                                               total_time=0.01816725730895996)},\n",
      "                 cycle_durations=[2.316990613937378, 1.3356833457946777],\n",
      "                 traces=[<strands.telemetry.metrics.Trace object at 0x7fc2c7b132f0>,\n",
      "                         <strands.telemetry.metrics.Trace object at 0x7fc2c50a8980>,\n",
      "                         <strands.telemetry.metrics.Trace object at 0x7fc2d0e72900>,\n",
      "                         <strands.telemetry.metrics.Trace object at 0x7fc2c77237a0>],\n",
      "                 accumulated_usage={'inputTokens': 3178,\n",
      "                                    'outputTokens': 314,\n",
      "                                    'totalTokens': 3492},\n",
      "                 accumulated_metrics={'latencyMs': 7737})\n"
     ]
    }
   ],
   "source": [
    "pprint(agent.event_loop_metrics)"
   ]
  },
  {
   "cell_type": "markdown",
   "id": "961fb569",
   "metadata": {},
   "source": [
    "- Resume"
   ]
  },
  {
   "cell_type": "code",
   "execution_count": 66,
   "id": "8c48b93f",
   "metadata": {},
   "outputs": [],
   "source": [
    "llm_ = BedrockModel(\n",
    "    model_id=bedrock_info.get_model_id(model_name=\"Claude-V3-7-Sonnet-CRI\"),\n",
    "    streaming=True,\n",
    "    max_tokens=8192,\n",
    "    stop_sequencesb=[\"\\n\\nHuman\"],\n",
    "    temperature=0.01,\n",
    "    cache_prompt=None, # None/ephemeral/defalut\n",
    "    #cache_tools: Cache point type for tools\n",
    "    boto_client_config=Config(\n",
    "        read_timeout=900,\n",
    "        connect_timeout=900,\n",
    "        retries=dict(max_attempts=50, mode=\"standard\"),\n",
    "    )\n",
    ")\n",
    "\n",
    "\n",
    "agent_ = Agent(\n",
    "    model=llm_,\n",
    "    tools=[python_repl_tool, bash_tool],\n",
    "    system_prompt=system_prompt,\n",
    "    messages=agent_messages,\n",
    "    callback_handler=None # async iterator로 대체 하기 때문에 None 설정\n",
    ")"
   ]
  },
  {
   "cell_type": "code",
   "execution_count": 67,
   "id": "baf617f0",
   "metadata": {},
   "outputs": [
    {
     "name": "stdout",
     "output_type": "stream",
     "text": [
      "\u001b[97m네, \u001b[0m\u001b[97m맞습니다\u001b[0m\u001b[97m!\u001b[0m\u001b[97m 지\u001b[0m\u001b[97m금 이\u001b[0m\u001b[97m어서 대\u001b[0m\u001b[97m화하\u001b[0m\u001b[97m고\u001b[0m\u001b[97m 있\u001b[0m\u001b[97m습니다.\u001b[0m\u001b[97m 제\u001b[0m\u001b[97m가 \u001b[0m\u001b[97mBedrock-\u001b[0m\u001b[97mManus라\u001b[0m\u001b[97m는 AI \u001b[0m\u001b[97m어시\u001b[0m\u001b[97m스턴트\u001b[0m\u001b[97m로\u001b[0m\u001b[97m서 계\u001b[0m\u001b[97m속해서 \u001b[0m\u001b[97m도\u001b[0m\u001b[97m움을 드\u001b[0m\u001b[97m리고\u001b[0m\u001b[97m 있\u001b[0m\u001b[97m어\u001b[0m\u001b[97m요. 이\u001b[0m\u001b[97m전에 \"\u001b[0m\u001b[97mHello world\"를\u001b[0m\u001b[97m 출력하\u001b[0m\u001b[97m는 파이썬 \u001b[0m\u001b[97m코드를 \u001b[0m\u001b[97m실행해\u001b[0m\u001b[97m 드\u001b[0m\u001b[97m렸고\u001b[0m\u001b[97m, 지\u001b[0m\u001b[97m금도\u001b[0m\u001b[97m 계속해서 \u001b[0m\u001b[97m대화를 \u001b[0m\u001b[97m이어가고 \u001b[0m\u001b[97m있습니다\u001b[0m\u001b[97m. 다\u001b[0m\u001b[97m른 질\u001b[0m\u001b[97m문이나 \u001b[0m\u001b[97m도움이 필\u001b[0m\u001b[97m요한 것\u001b[0m\u001b[97m이 있으시\u001b[0m\u001b[97m면 말\u001b[0m\u001b[97m씀해 \u001b[0m\u001b[97m주세요!\u001b[0m"
     ]
    }
   ],
   "source": [
    "message = \"이어서 대화 하는거 맞니?\"\n",
    "agent, response = asyncio.run(process_streaming_response(agent_, message))"
   ]
  },
  {
   "cell_type": "markdown",
   "id": "a2c66b18",
   "metadata": {},
   "source": []
  },
  {
   "cell_type": "markdown",
   "id": "8956bf40",
   "metadata": {},
   "source": [
    "### 4.2 [Conversation management](https://strandsagents.com/latest/documentation/docs/user-guide/concepts/agents/conversation-management/?h=conversa)\n",
    "\n",
    "As conversations grow, managing this context becomes increasingly important for several reasons:\n",
    "\n",
    "- **Token Limits**: Language models have fixed context windows (maximum tokens they can process)\n",
    "- **Performance**: Larger contexts require more processing time and resources\n",
    "- **Relevance**: Older messages may become less relevant to the current conversation\n",
    "- **Coherence**: Maintaining logical flow and preserving important information\n"
   ]
  },
  {
   "cell_type": "markdown",
   "id": "31a182fb",
   "metadata": {},
   "source": [
    "#### 4.2.1. SlidingWindowConversationManager\n",
    "고정된 수의 최근 메시지를 유지하는 슬라이딩 윈도우 전략을 구현합니다. Agent 클래스에서 기본적으로 사용하는 대화 매니저입니다."
   ]
  },
  {
   "cell_type": "code",
   "execution_count": 68,
   "id": "e3d2f049",
   "metadata": {},
   "outputs": [],
   "source": [
    "from strands.agent.conversation_manager import SlidingWindowConversationManager"
   ]
  },
  {
   "cell_type": "code",
   "execution_count": 69,
   "id": "9162351c",
   "metadata": {},
   "outputs": [],
   "source": [
    "# Create a conversation manager with custom window size\n",
    "conversation_manager = SlidingWindowConversationManager(\n",
    "    window_size=3,  # Maximum number of messages to keep\n",
    "    should_truncate_results=True, # Enable truncating the tool result when a message is too large for the model's context window \n",
    ")"
   ]
  },
  {
   "cell_type": "code",
   "execution_count": 70,
   "id": "7459aa51",
   "metadata": {},
   "outputs": [],
   "source": [
    "agent.conversation_manager = conversation_manager"
   ]
  },
  {
   "cell_type": "code",
   "execution_count": 71,
   "id": "cd7d15ba",
   "metadata": {},
   "outputs": [
    {
     "name": "stdout",
     "output_type": "stream",
     "text": [
      "\u001b[97m안녕\u001b[0m\u001b[97m하세요, 장동진\u001b[0m\u001b[97m님! 만나서 반\u001b[0m\u001b[97m갑습니다. 저는\u001b[0m\u001b[97m Bedrock-Manus\u001b[0m\u001b[97m라는 AI 어시스턴트입\u001b[0m\u001b[97m니다. 오늘 어\u001b[0m\u001b[97m떻게 도와드릴까\u001b[0m\u001b[97m요? 질문이 있으\u001b[0m\u001b[97m시거나 도움이 필요\u001b[0m\u001b[97m한 일이 있으\u001b[0m\u001b[97m시면 말씀해 주세\u001b[0m\u001b[97m요.\u001b[0m\n",
      "\n",
      "[{'content': [{'text': './prompts 디렉토리에 어떤 파일이 있는지 확인해 줄래?'}], 'role': 'user'},\n",
      " {'content': [{'text': \"네, './prompts' 디렉토리의 파일 목록을 확인해보겠습니다.\"},\n",
      "              {'toolUse': {'input': {'cmd': 'ls -l ./prompts'},\n",
      "                           'name': 'bash_tool',\n",
      "                           'toolUseId': 'tooluse_1guHDYQ2Su-tAXSLOH3chQ'}}],\n",
      "  'role': 'assistant'},\n",
      " {'content': [{'toolResult': {'content': [{'text': 'ls -l ./prompts||total 4\\n'\n",
      "                                                   '-rw-rw-r-- 1 ubuntu ubuntu '\n",
      "                                                   '175 Jul 25 04:55 '\n",
      "                                                   'task_agent.md\\n'\n",
      "                                                   '\\n'}],\n",
      "                              'status': 'success',\n",
      "                              'toolUseId': 'tooluse_1guHDYQ2Su-tAXSLOH3chQ'}}],\n",
      "  'role': 'user'},\n",
      " {'content': [{'text': \"'./prompts' 디렉토리에는 'task_agent.md' 파일이 하나 있네요. 이 파일의 \"\n",
      "                       '크기는 175바이트이고, 마지막 수정 시간은 7월 25일 04:55입니다.'}],\n",
      "  'role': 'assistant'},\n",
      " {'content': [{'text': 'Hello world 를 프린팅하는 파이썬 코드를 작성하고 실행시켜 줄래?'}],\n",
      "  'role': 'user'},\n",
      " {'content': [{'text': '네, \"Hello world\"를 출력하는 간단한 파이썬 코드를 작성하고 실행하겠습니다.'},\n",
      "              {'toolUse': {'input': {'code': 'print(\"Hello world\")'},\n",
      "                           'name': 'python_repl_tool',\n",
      "                           'toolUseId': 'tooluse_1zVEZAVgQ5m5-rvQoMQSkA'}}],\n",
      "  'role': 'assistant'},\n",
      " {'content': [{'toolResult': {'content': [{'text': 'The tool result was too '\n",
      "                                                   'large!'}],\n",
      "                              'status': 'error',\n",
      "                              'toolUseId': 'tooluse_1zVEZAVgQ5m5-rvQoMQSkA'}}],\n",
      "  'role': 'user'},\n",
      " {'content': [{'text': '파이썬의 print() 함수를 사용하여 \"Hello world\"를 성공적으로 출력했습니다.'}],\n",
      "  'role': 'assistant'},\n",
      " {'content': [{'text': '이어서 대화 하는거 맞니?'}], 'role': 'user'},\n",
      " {'content': [{'text': '네, 맞습니다! 지금 이어서 대화하고 있습니다. 제가 Bedrock-Manus라는 AI '\n",
      "                       '어시스턴트로서 계속해서 도움을 드리고 있어요. 이전에 \"Hello world\"를 출력하는 파이썬 '\n",
      "                       '코드를 실행해 드렸고, 지금도 계속해서 대화를 이어가고 있습니다. 다른 질문이나 도움이 필요한 '\n",
      "                       '것이 있으시면 말씀해 주세요!'}],\n",
      "  'role': 'assistant'},\n",
      " {'content': [{'text': '안녕 나는 장동진이야'}], 'role': 'user'},\n",
      " {'content': [{'text': '안녕하세요, 장동진님! 만나서 반갑습니다. 저는 Bedrock-Manus라는 AI '\n",
      "                       '어시스턴트입니다. 오늘 어떻게 도와드릴까요? 질문이 있으시거나 도움이 필요한 일이 있으시면 말씀해 '\n",
      "                       '주세요.'}],\n",
      "  'role': 'assistant'}]\n"
     ]
    }
   ],
   "source": [
    "message = \"안녕 나는 장동진이야\"\n",
    "agent, response = asyncio.run(process_streaming_response(agent, message))\n",
    "print (\"\\n\")\n",
    "pprint (agent.messages)"
   ]
  },
  {
   "cell_type": "markdown",
   "id": "28ad3936",
   "metadata": {},
   "source": [
    "#### 3.1.2. SummarizingConversationManager\n",
    "\n",
    "오래된 메시지를 요약하여 중요한 정보를 보존하면서 컨텍스트 한계 내에서 대화를 관리합니다.\n",
    "\n",
    "**주요 설정:**\n",
    "\n",
    "| 파라미터 | 타입 | 기본값 | 설명 |\n",
    "|---------|------|--------|------|\n",
    "| `summary_ratio` | `float` | `0.3` | 컨텍스트 축소 시 요약할 메시지 비율 (0.1~0.8 범위) |\n",
    "| `preserve_recent_messages` | `int` | `10` | 항상 유지할 최근 메시지 수 |\n",
    "| `summarization_agent` | `Agent` | `None` | 요약 생성용 커스텀 에이전트 (system_prompt와 동시 사용 불가) |\n",
    "| `summarization_system_prompt` | `str` | `None` | 요약용 커스텀 시스템 프롬프트 (agent와 동시 사용 불가) |\n",
    "\n",
    "> **기본 요약 방식**: 커스텀 설정이 없을 경우, 주요 토픽, 사용된 도구, 기술적 정보를 3인칭 형태의 구조화된 불릿 포인트로 요약합니다."
   ]
  },
  {
   "cell_type": "code",
   "execution_count": 72,
   "id": "09ef6246",
   "metadata": {},
   "outputs": [],
   "source": [
    "from strands.agent.conversation_manager import SummarizingConversationManager"
   ]
  },
  {
   "cell_type": "code",
   "execution_count": 73,
   "id": "ae8da725",
   "metadata": {},
   "outputs": [],
   "source": [
    "# Custom system prompt for technical conversations\n",
    "custom_system_prompt = \"\"\"\n",
    "You are summarizing a technical conversation. Create a concise bullet-point summary that:\n",
    "- Focuses on code changes, architectural decisions, and technical solutions\n",
    "- Preserves specific function names, file paths, and configuration details\n",
    "- Omits conversational elements and focuses on actionable information\n",
    "- Uses technical terminology appropriate for software development\n",
    "\n",
    "Format as bullet points without conversational language.\n",
    "\"\"\"\n",
    "\n",
    "conversation_manager = SummarizingConversationManager(\n",
    "     summary_ratio=0.3,  # Summarize 30% of messages when context reduction is needed\n",
    "    preserve_recent_messages=3,  # Always keep 10 most recent messages\n",
    "    summarization_system_prompt=custom_system_prompt\n",
    ")"
   ]
  },
  {
   "cell_type": "code",
   "execution_count": 74,
   "id": "52b6bbba",
   "metadata": {},
   "outputs": [],
   "source": [
    "agent.conversation_manager = conversation_manager"
   ]
  },
  {
   "cell_type": "code",
   "execution_count": 75,
   "id": "ee3f1844",
   "metadata": {},
   "outputs": [
    {
     "name": "stdout",
     "output_type": "stream",
     "text": [
      "\u001b[97m안녕\u001b[0m\u001b[97m하세요,\u001b[0m\u001b[97m 장동진\u001b[0m\u001b[97m님! 다\u001b[0m\u001b[97m시 만나\u001b[0m\u001b[97m뵙게\u001b[0m\u001b[97m 되어 \u001b[0m\u001b[97m반\u001b[0m\u001b[97m갑습니다\u001b[0m\u001b[97m. 오\u001b[0m\u001b[97m늘도\u001b[0m\u001b[97m 도\u001b[0m\u001b[97m움이 필\u001b[0m\u001b[97m요하신\u001b[0m\u001b[97m 일\u001b[0m\u001b[97m이 있으\u001b[0m\u001b[97m신\u001b[0m\u001b[97m가요? \u001b[0m\u001b[97m어\u001b[0m\u001b[97m떤 질\u001b[0m\u001b[97m문이나 \u001b[0m\u001b[97m작\u001b[0m\u001b[97m업을\u001b[0m\u001b[97m 도\u001b[0m\u001b[97m와드\u001b[0m\u001b[97m릴까요?\u001b[0m\n",
      "\n",
      "[{'content': [{'text': './prompts 디렉토리에 어떤 파일이 있는지 확인해 줄래?'}], 'role': 'user'},\n",
      " {'content': [{'text': \"네, './prompts' 디렉토리의 파일 목록을 확인해보겠습니다.\"},\n",
      "              {'toolUse': {'input': {'cmd': 'ls -l ./prompts'},\n",
      "                           'name': 'bash_tool',\n",
      "                           'toolUseId': 'tooluse_1guHDYQ2Su-tAXSLOH3chQ'}}],\n",
      "  'role': 'assistant'},\n",
      " {'content': [{'toolResult': {'content': [{'text': 'ls -l ./prompts||total 4\\n'\n",
      "                                                   '-rw-rw-r-- 1 ubuntu ubuntu '\n",
      "                                                   '175 Jul 25 04:55 '\n",
      "                                                   'task_agent.md\\n'\n",
      "                                                   '\\n'}],\n",
      "                              'status': 'success',\n",
      "                              'toolUseId': 'tooluse_1guHDYQ2Su-tAXSLOH3chQ'}}],\n",
      "  'role': 'user'},\n",
      " {'content': [{'text': \"'./prompts' 디렉토리에는 'task_agent.md' 파일이 하나 있네요. 이 파일의 \"\n",
      "                       '크기는 175바이트이고, 마지막 수정 시간은 7월 25일 04:55입니다.'}],\n",
      "  'role': 'assistant'},\n",
      " {'content': [{'text': 'Hello world 를 프린팅하는 파이썬 코드를 작성하고 실행시켜 줄래?'}],\n",
      "  'role': 'user'},\n",
      " {'content': [{'text': '네, \"Hello world\"를 출력하는 간단한 파이썬 코드를 작성하고 실행하겠습니다.'},\n",
      "              {'toolUse': {'input': {'code': 'print(\"Hello world\")'},\n",
      "                           'name': 'python_repl_tool',\n",
      "                           'toolUseId': 'tooluse_1zVEZAVgQ5m5-rvQoMQSkA'}}],\n",
      "  'role': 'assistant'},\n",
      " {'content': [{'toolResult': {'content': [{'text': 'The tool result was too '\n",
      "                                                   'large!'}],\n",
      "                              'status': 'error',\n",
      "                              'toolUseId': 'tooluse_1zVEZAVgQ5m5-rvQoMQSkA'}}],\n",
      "  'role': 'user'},\n",
      " {'content': [{'text': '파이썬의 print() 함수를 사용하여 \"Hello world\"를 성공적으로 출력했습니다.'}],\n",
      "  'role': 'assistant'},\n",
      " {'content': [{'text': '이어서 대화 하는거 맞니?'}], 'role': 'user'},\n",
      " {'content': [{'text': '네, 맞습니다! 지금 이어서 대화하고 있습니다. 제가 Bedrock-Manus라는 AI '\n",
      "                       '어시스턴트로서 계속해서 도움을 드리고 있어요. 이전에 \"Hello world\"를 출력하는 파이썬 '\n",
      "                       '코드를 실행해 드렸고, 지금도 계속해서 대화를 이어가고 있습니다. 다른 질문이나 도움이 필요한 '\n",
      "                       '것이 있으시면 말씀해 주세요!'}],\n",
      "  'role': 'assistant'},\n",
      " {'content': [{'text': '안녕 나는 장동진이야'}], 'role': 'user'},\n",
      " {'content': [{'text': '안녕하세요, 장동진님! 만나서 반갑습니다. 저는 Bedrock-Manus라는 AI '\n",
      "                       '어시스턴트입니다. 오늘 어떻게 도와드릴까요? 질문이 있으시거나 도움이 필요한 일이 있으시면 말씀해 '\n",
      "                       '주세요.'}],\n",
      "  'role': 'assistant'},\n",
      " {'content': [{'text': '안녕 나는 장동진이야'}], 'role': 'user'},\n",
      " {'content': [{'text': '안녕하세요, 장동진님! 다시 만나뵙게 되어 반갑습니다. 오늘도 도움이 필요하신 일이 있으신가요? '\n",
      "                       '어떤 질문이나 작업을 도와드릴까요?'}],\n",
      "  'role': 'assistant'}]\n"
     ]
    }
   ],
   "source": [
    "message = \"안녕 나는 장동진이야\"\n",
    "agent, response = asyncio.run(process_streaming_response(agent, message))\n",
    "print (\"\\n\")\n",
    "pprint (agent.messages)"
   ]
  },
  {
   "cell_type": "code",
   "execution_count": null,
   "id": "e07a92fc",
   "metadata": {},
   "outputs": [],
   "source": []
  }
 ],
 "metadata": {
  "kernelspec": {
   "display_name": "basic-agent-frame.sh (UV)",
   "language": "python",
   "name": "basic-agent-frame.sh"
  },
  "language_info": {
   "codemirror_mode": {
    "name": "ipython",
    "version": 3
   },
   "file_extension": ".py",
   "mimetype": "text/x-python",
   "name": "python",
   "nbconvert_exporter": "python",
   "pygments_lexer": "ipython3",
   "version": "3.12.3"
  }
 },
 "nbformat": 4,
 "nbformat_minor": 5
}
