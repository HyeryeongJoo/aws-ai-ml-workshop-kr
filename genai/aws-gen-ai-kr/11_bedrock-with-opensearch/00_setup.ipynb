{
 "cells": [
  {
   "cell_type": "markdown",
   "id": "5da81587-8ae8-4b28-8e79-0facc4b1ff5a",
   "metadata": {},
   "source": [
    "# 필수 패키지 설정 및 OpenSearch 클러스터 생성 (약 40분 소요)\n",
    ">이 노트북은,\n",
    "> - SageMaker Studio* **`Data Science 3.0`** kernel 및 ml.t3.medium 인스턴스에서 테스트 되었습니다.\n",
    "> - SageMaker Notebook **`conda_python3`** 에서 테스트 되었습니다.\n",
    "\n",
    "---\n",
    "### 중요\n",
    "- 이 노트북은 Anthropic 의 Claude-v2 모델 접근 가능한 분만 실행 가능합니다. \n",
    "- 접근이 안되시는 분은 노트북의 코드와 결과 만을 확인 하시면 좋겠습니다.\n",
    "- 만일 실행시에는 **\"과금\"** 이 발생이 되는 부분 유념 해주시기 바랍니다.\n",
    "\n",
    "---"
   ]
  },
  {
   "cell_type": "code",
   "execution_count": 44,
   "id": "80cdaf94-8113-4d45-803a-9374f777ddff",
   "metadata": {
    "scrolled": true,
    "tags": []
   },
   "outputs": [
    {
     "name": "stdout",
     "output_type": "stream",
     "text": [
      "Requirement already satisfied: langchain==0.1.5 in /home/ec2-user/anaconda3/envs/python3/lib/python3.10/site-packages (from -r requirements.txt (line 1)) (0.1.5)\n",
      "Requirement already satisfied: opensearch-py==2.4.2 in /home/ec2-user/anaconda3/envs/python3/lib/python3.10/site-packages (from -r requirements.txt (line 2)) (2.4.2)\n",
      "Requirement already satisfied: faiss-cpu==1.7.4 in /home/ec2-user/anaconda3/envs/python3/lib/python3.10/site-packages (from -r requirements.txt (line 3)) (1.7.4)\n",
      "Requirement already satisfied: pdfplumber==0.10.3 in /home/ec2-user/anaconda3/envs/python3/lib/python3.10/site-packages (from -r requirements.txt (line 4)) (0.10.3)\n",
      "Requirement already satisfied: termcolor==2.4.0 in /home/ec2-user/anaconda3/envs/python3/lib/python3.10/site-packages (from -r requirements.txt (line 5)) (2.4.0)\n",
      "Requirement already satisfied: opensearch_dsl==2.1.0 in /home/ec2-user/anaconda3/envs/python3/lib/python3.10/site-packages (from -r requirements.txt (line 6)) (2.1.0)\n",
      "Requirement already satisfied: unstructured in /home/ec2-user/anaconda3/envs/python3/lib/python3.10/site-packages (from -r requirements.txt (line 9)) (0.12.3)\n",
      "Requirement already satisfied: pdf2image in /home/ec2-user/anaconda3/envs/python3/lib/python3.10/site-packages (from -r requirements.txt (line 10)) (1.17.0)\n",
      "Requirement already satisfied: opencv-python==4.9.0.80 in /home/ec2-user/anaconda3/envs/python3/lib/python3.10/site-packages (from -r requirements.txt (line 11)) (4.9.0.80)\n",
      "Requirement already satisfied: unstructured-inference==0.7.23 in /home/ec2-user/anaconda3/envs/python3/lib/python3.10/site-packages (from -r requirements.txt (line 12)) (0.7.23)\n",
      "Requirement already satisfied: pikepdf==8.12.0 in /home/ec2-user/anaconda3/envs/python3/lib/python3.10/site-packages (from -r requirements.txt (line 13)) (8.12.0)\n",
      "Requirement already satisfied: pypdf==4.0.1 in /home/ec2-user/anaconda3/envs/python3/lib/python3.10/site-packages (from -r requirements.txt (line 14)) (4.0.1)\n",
      "Collecting unstructured.pytesseract==0.3.12 (from -r requirements.txt (line 15))\n",
      "  Using cached unstructured.pytesseract-0.3.12-py3-none-any.whl.metadata (11 kB)\n",
      "Requirement already satisfied: tesseract in /home/ec2-user/anaconda3/envs/python3/lib/python3.10/site-packages (from -r requirements.txt (line 16)) (0.1.3)\n",
      "Requirement already satisfied: PyYAML>=5.3 in /home/ec2-user/anaconda3/envs/python3/lib/python3.10/site-packages (from langchain==0.1.5->-r requirements.txt (line 1)) (6.0.1)\n",
      "Requirement already satisfied: SQLAlchemy<3,>=1.4 in /home/ec2-user/anaconda3/envs/python3/lib/python3.10/site-packages (from langchain==0.1.5->-r requirements.txt (line 1)) (2.0.22)\n",
      "Requirement already satisfied: aiohttp<4.0.0,>=3.8.3 in /home/ec2-user/anaconda3/envs/python3/lib/python3.10/site-packages (from langchain==0.1.5->-r requirements.txt (line 1)) (3.8.6)\n",
      "Requirement already satisfied: async-timeout<5.0.0,>=4.0.0 in /home/ec2-user/anaconda3/envs/python3/lib/python3.10/site-packages (from langchain==0.1.5->-r requirements.txt (line 1)) (4.0.3)\n",
      "Requirement already satisfied: dataclasses-json<0.7,>=0.5.7 in /home/ec2-user/anaconda3/envs/python3/lib/python3.10/site-packages (from langchain==0.1.5->-r requirements.txt (line 1)) (0.6.4)\n",
      "Requirement already satisfied: jsonpatch<2.0,>=1.33 in /home/ec2-user/anaconda3/envs/python3/lib/python3.10/site-packages (from langchain==0.1.5->-r requirements.txt (line 1)) (1.33)\n",
      "Requirement already satisfied: langchain-community<0.1,>=0.0.17 in /home/ec2-user/anaconda3/envs/python3/lib/python3.10/site-packages (from langchain==0.1.5->-r requirements.txt (line 1)) (0.0.17)\n",
      "Requirement already satisfied: langchain-core<0.2,>=0.1.16 in /home/ec2-user/anaconda3/envs/python3/lib/python3.10/site-packages (from langchain==0.1.5->-r requirements.txt (line 1)) (0.1.18)\n",
      "Requirement already satisfied: langsmith<0.1,>=0.0.83 in /home/ec2-user/anaconda3/envs/python3/lib/python3.10/site-packages (from langchain==0.1.5->-r requirements.txt (line 1)) (0.0.86)\n",
      "Requirement already satisfied: numpy<2,>=1 in /home/ec2-user/anaconda3/envs/python3/lib/python3.10/site-packages (from langchain==0.1.5->-r requirements.txt (line 1)) (1.22.4)\n",
      "Requirement already satisfied: pydantic<3,>=1 in /home/ec2-user/anaconda3/envs/python3/lib/python3.10/site-packages (from langchain==0.1.5->-r requirements.txt (line 1)) (1.10.14)\n",
      "Requirement already satisfied: requests<3,>=2 in /home/ec2-user/anaconda3/envs/python3/lib/python3.10/site-packages (from langchain==0.1.5->-r requirements.txt (line 1)) (2.31.0)\n",
      "Requirement already satisfied: tenacity<9.0.0,>=8.1.0 in /home/ec2-user/anaconda3/envs/python3/lib/python3.10/site-packages (from langchain==0.1.5->-r requirements.txt (line 1)) (8.2.3)\n",
      "Requirement already satisfied: urllib3>=1.26.18 in /home/ec2-user/anaconda3/envs/python3/lib/python3.10/site-packages (from opensearch-py==2.4.2->-r requirements.txt (line 2)) (1.26.18)\n",
      "Requirement already satisfied: six in /home/ec2-user/anaconda3/envs/python3/lib/python3.10/site-packages (from opensearch-py==2.4.2->-r requirements.txt (line 2)) (1.16.0)\n",
      "Requirement already satisfied: python-dateutil in /home/ec2-user/anaconda3/envs/python3/lib/python3.10/site-packages (from opensearch-py==2.4.2->-r requirements.txt (line 2)) (2.8.2)\n",
      "Requirement already satisfied: certifi>=2022.12.07 in /home/ec2-user/anaconda3/envs/python3/lib/python3.10/site-packages (from opensearch-py==2.4.2->-r requirements.txt (line 2)) (2024.2.2)\n",
      "Requirement already satisfied: pdfminer.six==20221105 in /home/ec2-user/anaconda3/envs/python3/lib/python3.10/site-packages (from pdfplumber==0.10.3->-r requirements.txt (line 4)) (20221105)\n",
      "Requirement already satisfied: Pillow>=9.1 in /home/ec2-user/anaconda3/envs/python3/lib/python3.10/site-packages (from pdfplumber==0.10.3->-r requirements.txt (line 4)) (10.0.1)\n",
      "Requirement already satisfied: pypdfium2>=4.18.0 in /home/ec2-user/anaconda3/envs/python3/lib/python3.10/site-packages (from pdfplumber==0.10.3->-r requirements.txt (line 4)) (4.26.0)\n",
      "Requirement already satisfied: layoutparser[layoutmodels,tesseract] in /home/ec2-user/anaconda3/envs/python3/lib/python3.10/site-packages (from unstructured-inference==0.7.23->-r requirements.txt (line 12)) (0.3.4)\n",
      "Requirement already satisfied: python-multipart in /home/ec2-user/anaconda3/envs/python3/lib/python3.10/site-packages (from unstructured-inference==0.7.23->-r requirements.txt (line 12)) (0.0.7)\n",
      "Requirement already satisfied: huggingface-hub in /home/ec2-user/anaconda3/envs/python3/lib/python3.10/site-packages (from unstructured-inference==0.7.23->-r requirements.txt (line 12)) (0.20.3)\n",
      "Requirement already satisfied: onnx in /home/ec2-user/anaconda3/envs/python3/lib/python3.10/site-packages (from unstructured-inference==0.7.23->-r requirements.txt (line 12)) (1.15.0)\n",
      "Requirement already satisfied: onnxruntime<1.16 in /home/ec2-user/anaconda3/envs/python3/lib/python3.10/site-packages (from unstructured-inference==0.7.23->-r requirements.txt (line 12)) (1.15.1)\n",
      "Requirement already satisfied: transformers>=4.25.1 in /home/ec2-user/anaconda3/envs/python3/lib/python3.10/site-packages (from unstructured-inference==0.7.23->-r requirements.txt (line 12)) (4.37.2)\n",
      "Requirement already satisfied: rapidfuzz in /home/ec2-user/anaconda3/envs/python3/lib/python3.10/site-packages (from unstructured-inference==0.7.23->-r requirements.txt (line 12)) (3.6.1)\n",
      "Requirement already satisfied: Deprecated in /home/ec2-user/anaconda3/envs/python3/lib/python3.10/site-packages (from pikepdf==8.12.0->-r requirements.txt (line 13)) (1.2.14)\n",
      "Requirement already satisfied: packaging in /home/ec2-user/anaconda3/envs/python3/lib/python3.10/site-packages (from pikepdf==8.12.0->-r requirements.txt (line 13)) (23.2)\n",
      "Requirement already satisfied: lxml>=4.8 in /home/ec2-user/anaconda3/envs/python3/lib/python3.10/site-packages (from pikepdf==8.12.0->-r requirements.txt (line 13)) (5.1.0)\n",
      "Requirement already satisfied: charset-normalizer>=2.0.0 in /home/ec2-user/anaconda3/envs/python3/lib/python3.10/site-packages (from pdfminer.six==20221105->pdfplumber==0.10.3->-r requirements.txt (line 4)) (3.3.1)\n",
      "Requirement already satisfied: cryptography>=36.0.0 in /home/ec2-user/anaconda3/envs/python3/lib/python3.10/site-packages (from pdfminer.six==20221105->pdfplumber==0.10.3->-r requirements.txt (line 4)) (41.0.5)\n",
      "Requirement already satisfied: chardet in /home/ec2-user/anaconda3/envs/python3/lib/python3.10/site-packages (from unstructured->-r requirements.txt (line 9)) (5.2.0)\n",
      "Requirement already satisfied: filetype in /home/ec2-user/anaconda3/envs/python3/lib/python3.10/site-packages (from unstructured->-r requirements.txt (line 9)) (1.2.0)\n",
      "Requirement already satisfied: python-magic in /home/ec2-user/anaconda3/envs/python3/lib/python3.10/site-packages (from unstructured->-r requirements.txt (line 9)) (0.4.27)\n",
      "Requirement already satisfied: nltk in /home/ec2-user/anaconda3/envs/python3/lib/python3.10/site-packages (from unstructured->-r requirements.txt (line 9)) (3.8.1)\n",
      "Requirement already satisfied: tabulate in /home/ec2-user/anaconda3/envs/python3/lib/python3.10/site-packages (from unstructured->-r requirements.txt (line 9)) (0.9.0)\n",
      "Requirement already satisfied: beautifulsoup4 in /home/ec2-user/anaconda3/envs/python3/lib/python3.10/site-packages (from unstructured->-r requirements.txt (line 9)) (4.12.2)\n",
      "Requirement already satisfied: emoji in /home/ec2-user/anaconda3/envs/python3/lib/python3.10/site-packages (from unstructured->-r requirements.txt (line 9)) (2.10.1)\n",
      "Requirement already satisfied: python-iso639 in /home/ec2-user/anaconda3/envs/python3/lib/python3.10/site-packages (from unstructured->-r requirements.txt (line 9)) (2024.1.2)\n",
      "Requirement already satisfied: langdetect in /home/ec2-user/anaconda3/envs/python3/lib/python3.10/site-packages (from unstructured->-r requirements.txt (line 9)) (1.0.9)\n",
      "Requirement already satisfied: backoff in /home/ec2-user/anaconda3/envs/python3/lib/python3.10/site-packages (from unstructured->-r requirements.txt (line 9)) (2.2.1)\n",
      "Requirement already satisfied: typing-extensions in /home/ec2-user/anaconda3/envs/python3/lib/python3.10/site-packages (from unstructured->-r requirements.txt (line 9)) (4.8.0)\n",
      "Requirement already satisfied: unstructured-client>=0.15.1 in /home/ec2-user/anaconda3/envs/python3/lib/python3.10/site-packages (from unstructured->-r requirements.txt (line 9)) (0.17.0)\n",
      "Requirement already satisfied: wrapt in /home/ec2-user/anaconda3/envs/python3/lib/python3.10/site-packages (from unstructured->-r requirements.txt (line 9)) (1.15.0)\n",
      "Requirement already satisfied: attrs>=17.3.0 in /home/ec2-user/anaconda3/envs/python3/lib/python3.10/site-packages (from aiohttp<4.0.0,>=3.8.3->langchain==0.1.5->-r requirements.txt (line 1)) (23.1.0)\n",
      "Requirement already satisfied: multidict<7.0,>=4.5 in /home/ec2-user/anaconda3/envs/python3/lib/python3.10/site-packages (from aiohttp<4.0.0,>=3.8.3->langchain==0.1.5->-r requirements.txt (line 1)) (6.0.4)\n",
      "Requirement already satisfied: yarl<2.0,>=1.0 in /home/ec2-user/anaconda3/envs/python3/lib/python3.10/site-packages (from aiohttp<4.0.0,>=3.8.3->langchain==0.1.5->-r requirements.txt (line 1)) (1.9.2)\n",
      "Requirement already satisfied: frozenlist>=1.1.1 in /home/ec2-user/anaconda3/envs/python3/lib/python3.10/site-packages (from aiohttp<4.0.0,>=3.8.3->langchain==0.1.5->-r requirements.txt (line 1)) (1.4.0)\n",
      "Requirement already satisfied: aiosignal>=1.1.2 in /home/ec2-user/anaconda3/envs/python3/lib/python3.10/site-packages (from aiohttp<4.0.0,>=3.8.3->langchain==0.1.5->-r requirements.txt (line 1)) (1.3.1)\n",
      "Requirement already satisfied: marshmallow<4.0.0,>=3.18.0 in /home/ec2-user/anaconda3/envs/python3/lib/python3.10/site-packages (from dataclasses-json<0.7,>=0.5.7->langchain==0.1.5->-r requirements.txt (line 1)) (3.20.2)\n",
      "Requirement already satisfied: typing-inspect<1,>=0.4.0 in /home/ec2-user/anaconda3/envs/python3/lib/python3.10/site-packages (from dataclasses-json<0.7,>=0.5.7->langchain==0.1.5->-r requirements.txt (line 1)) (0.9.0)\n",
      "Requirement already satisfied: jsonpointer>=1.9 in /home/ec2-user/anaconda3/envs/python3/lib/python3.10/site-packages (from jsonpatch<2.0,>=1.33->langchain==0.1.5->-r requirements.txt (line 1)) (2.4)\n",
      "Requirement already satisfied: anyio<5,>=3 in /home/ec2-user/anaconda3/envs/python3/lib/python3.10/site-packages (from langchain-core<0.2,>=0.1.16->langchain==0.1.5->-r requirements.txt (line 1)) (4.0.0)\n",
      "Requirement already satisfied: coloredlogs in /home/ec2-user/anaconda3/envs/python3/lib/python3.10/site-packages (from onnxruntime<1.16->unstructured-inference==0.7.23->-r requirements.txt (line 12)) (15.0.1)\n",
      "Requirement already satisfied: flatbuffers in /home/ec2-user/anaconda3/envs/python3/lib/python3.10/site-packages (from onnxruntime<1.16->unstructured-inference==0.7.23->-r requirements.txt (line 12)) (23.5.26)\n",
      "Requirement already satisfied: protobuf in /home/ec2-user/anaconda3/envs/python3/lib/python3.10/site-packages (from onnxruntime<1.16->unstructured-inference==0.7.23->-r requirements.txt (line 12)) (4.25.2)\n",
      "Requirement already satisfied: sympy in /home/ec2-user/anaconda3/envs/python3/lib/python3.10/site-packages (from onnxruntime<1.16->unstructured-inference==0.7.23->-r requirements.txt (line 12)) (1.12)\n",
      "Requirement already satisfied: idna<4,>=2.5 in /home/ec2-user/anaconda3/envs/python3/lib/python3.10/site-packages (from requests<3,>=2->langchain==0.1.5->-r requirements.txt (line 1)) (3.4)\n",
      "Requirement already satisfied: greenlet!=0.4.17 in /home/ec2-user/anaconda3/envs/python3/lib/python3.10/site-packages (from SQLAlchemy<3,>=1.4->langchain==0.1.5->-r requirements.txt (line 1)) (3.0.1)\n",
      "Requirement already satisfied: filelock in /home/ec2-user/anaconda3/envs/python3/lib/python3.10/site-packages (from transformers>=4.25.1->unstructured-inference==0.7.23->-r requirements.txt (line 12)) (3.12.4)\n",
      "Requirement already satisfied: regex!=2019.12.17 in /home/ec2-user/anaconda3/envs/python3/lib/python3.10/site-packages (from transformers>=4.25.1->unstructured-inference==0.7.23->-r requirements.txt (line 12)) (2023.10.3)\n",
      "Requirement already satisfied: tokenizers<0.19,>=0.14 in /home/ec2-user/anaconda3/envs/python3/lib/python3.10/site-packages (from transformers>=4.25.1->unstructured-inference==0.7.23->-r requirements.txt (line 12)) (0.15.1)\n",
      "Requirement already satisfied: safetensors>=0.4.1 in /home/ec2-user/anaconda3/envs/python3/lib/python3.10/site-packages (from transformers>=4.25.1->unstructured-inference==0.7.23->-r requirements.txt (line 12)) (0.4.2)\n",
      "Requirement already satisfied: tqdm>=4.27 in /home/ec2-user/anaconda3/envs/python3/lib/python3.10/site-packages (from transformers>=4.25.1->unstructured-inference==0.7.23->-r requirements.txt (line 12)) (4.66.1)\n",
      "Requirement already satisfied: fsspec>=2023.5.0 in /home/ec2-user/anaconda3/envs/python3/lib/python3.10/site-packages (from huggingface-hub->unstructured-inference==0.7.23->-r requirements.txt (line 12)) (2023.10.0)\n",
      "Requirement already satisfied: dataclasses-json-speakeasy>=0.5.11 in /home/ec2-user/anaconda3/envs/python3/lib/python3.10/site-packages (from unstructured-client>=0.15.1->unstructured->-r requirements.txt (line 9)) (0.5.11)\n",
      "Requirement already satisfied: jsonpath-python>=1.0.6 in /home/ec2-user/anaconda3/envs/python3/lib/python3.10/site-packages (from unstructured-client>=0.15.1->unstructured->-r requirements.txt (line 9)) (1.0.6)\n",
      "Requirement already satisfied: mypy-extensions>=1.0.0 in /home/ec2-user/anaconda3/envs/python3/lib/python3.10/site-packages (from unstructured-client>=0.15.1->unstructured->-r requirements.txt (line 9)) (1.0.0)\n",
      "Requirement already satisfied: soupsieve>1.2 in /home/ec2-user/anaconda3/envs/python3/lib/python3.10/site-packages (from beautifulsoup4->unstructured->-r requirements.txt (line 9)) (2.5)\n",
      "Requirement already satisfied: scipy in /home/ec2-user/anaconda3/envs/python3/lib/python3.10/site-packages (from layoutparser[layoutmodels,tesseract]->unstructured-inference==0.7.23->-r requirements.txt (line 12)) (1.11.3)\n",
      "Requirement already satisfied: pandas in /home/ec2-user/anaconda3/envs/python3/lib/python3.10/site-packages (from layoutparser[layoutmodels,tesseract]->unstructured-inference==0.7.23->-r requirements.txt (line 12)) (2.1.1)\n",
      "Requirement already satisfied: iopath in /home/ec2-user/anaconda3/envs/python3/lib/python3.10/site-packages (from layoutparser[layoutmodels,tesseract]->unstructured-inference==0.7.23->-r requirements.txt (line 12)) (0.1.10)\n",
      "Requirement already satisfied: pytesseract in /home/ec2-user/anaconda3/envs/python3/lib/python3.10/site-packages (from layoutparser[layoutmodels,tesseract]->unstructured-inference==0.7.23->-r requirements.txt (line 12)) (0.3.10)\n",
      "Requirement already satisfied: torch in /home/ec2-user/anaconda3/envs/python3/lib/python3.10/site-packages (from layoutparser[layoutmodels,tesseract]->unstructured-inference==0.7.23->-r requirements.txt (line 12)) (2.2.0)\n",
      "Requirement already satisfied: torchvision in /home/ec2-user/anaconda3/envs/python3/lib/python3.10/site-packages (from layoutparser[layoutmodels,tesseract]->unstructured-inference==0.7.23->-r requirements.txt (line 12)) (0.17.0)\n",
      "Requirement already satisfied: effdet in /home/ec2-user/anaconda3/envs/python3/lib/python3.10/site-packages (from layoutparser[layoutmodels,tesseract]->unstructured-inference==0.7.23->-r requirements.txt (line 12)) (0.4.1)\n",
      "Requirement already satisfied: click in /home/ec2-user/anaconda3/envs/python3/lib/python3.10/site-packages (from nltk->unstructured->-r requirements.txt (line 9)) (8.1.7)\n",
      "Requirement already satisfied: joblib in /home/ec2-user/anaconda3/envs/python3/lib/python3.10/site-packages (from nltk->unstructured->-r requirements.txt (line 9)) (1.3.2)\n",
      "Requirement already satisfied: sniffio>=1.1 in /home/ec2-user/anaconda3/envs/python3/lib/python3.10/site-packages (from anyio<5,>=3->langchain-core<0.2,>=0.1.16->langchain==0.1.5->-r requirements.txt (line 1)) (1.3.0)\n",
      "Requirement already satisfied: exceptiongroup>=1.0.2 in /home/ec2-user/anaconda3/envs/python3/lib/python3.10/site-packages (from anyio<5,>=3->langchain-core<0.2,>=0.1.16->langchain==0.1.5->-r requirements.txt (line 1)) (1.1.3)\n",
      "Requirement already satisfied: cffi>=1.12 in /home/ec2-user/anaconda3/envs/python3/lib/python3.10/site-packages (from cryptography>=36.0.0->pdfminer.six==20221105->pdfplumber==0.10.3->-r requirements.txt (line 4)) (1.16.0)\n",
      "Requirement already satisfied: humanfriendly>=9.1 in /home/ec2-user/anaconda3/envs/python3/lib/python3.10/site-packages (from coloredlogs->onnxruntime<1.16->unstructured-inference==0.7.23->-r requirements.txt (line 12)) (10.0)\n",
      "Requirement already satisfied: timm>=0.9.2 in /home/ec2-user/anaconda3/envs/python3/lib/python3.10/site-packages (from effdet->layoutparser[layoutmodels,tesseract]->unstructured-inference==0.7.23->-r requirements.txt (line 12)) (0.9.12)\n",
      "Requirement already satisfied: pycocotools>=2.0.2 in /home/ec2-user/anaconda3/envs/python3/lib/python3.10/site-packages (from effdet->layoutparser[layoutmodels,tesseract]->unstructured-inference==0.7.23->-r requirements.txt (line 12)) (2.0.7)\n",
      "Requirement already satisfied: omegaconf>=2.0 in /home/ec2-user/anaconda3/envs/python3/lib/python3.10/site-packages (from effdet->layoutparser[layoutmodels,tesseract]->unstructured-inference==0.7.23->-r requirements.txt (line 12)) (2.3.0)\n",
      "Requirement already satisfied: networkx in /home/ec2-user/anaconda3/envs/python3/lib/python3.10/site-packages (from torch->layoutparser[layoutmodels,tesseract]->unstructured-inference==0.7.23->-r requirements.txt (line 12)) (3.2)\n",
      "Requirement already satisfied: jinja2 in /home/ec2-user/anaconda3/envs/python3/lib/python3.10/site-packages (from torch->layoutparser[layoutmodels,tesseract]->unstructured-inference==0.7.23->-r requirements.txt (line 12)) (3.1.2)\n",
      "Requirement already satisfied: nvidia-cuda-nvrtc-cu12==12.1.105 in /home/ec2-user/anaconda3/envs/python3/lib/python3.10/site-packages (from torch->layoutparser[layoutmodels,tesseract]->unstructured-inference==0.7.23->-r requirements.txt (line 12)) (12.1.105)\n",
      "Requirement already satisfied: nvidia-cuda-runtime-cu12==12.1.105 in /home/ec2-user/anaconda3/envs/python3/lib/python3.10/site-packages (from torch->layoutparser[layoutmodels,tesseract]->unstructured-inference==0.7.23->-r requirements.txt (line 12)) (12.1.105)\n",
      "Requirement already satisfied: nvidia-cuda-cupti-cu12==12.1.105 in /home/ec2-user/anaconda3/envs/python3/lib/python3.10/site-packages (from torch->layoutparser[layoutmodels,tesseract]->unstructured-inference==0.7.23->-r requirements.txt (line 12)) (12.1.105)\n",
      "Requirement already satisfied: nvidia-cudnn-cu12==8.9.2.26 in /home/ec2-user/anaconda3/envs/python3/lib/python3.10/site-packages (from torch->layoutparser[layoutmodels,tesseract]->unstructured-inference==0.7.23->-r requirements.txt (line 12)) (8.9.2.26)\n",
      "Requirement already satisfied: nvidia-cublas-cu12==12.1.3.1 in /home/ec2-user/anaconda3/envs/python3/lib/python3.10/site-packages (from torch->layoutparser[layoutmodels,tesseract]->unstructured-inference==0.7.23->-r requirements.txt (line 12)) (12.1.3.1)\n",
      "Requirement already satisfied: nvidia-cufft-cu12==11.0.2.54 in /home/ec2-user/anaconda3/envs/python3/lib/python3.10/site-packages (from torch->layoutparser[layoutmodels,tesseract]->unstructured-inference==0.7.23->-r requirements.txt (line 12)) (11.0.2.54)\n",
      "Requirement already satisfied: nvidia-curand-cu12==10.3.2.106 in /home/ec2-user/anaconda3/envs/python3/lib/python3.10/site-packages (from torch->layoutparser[layoutmodels,tesseract]->unstructured-inference==0.7.23->-r requirements.txt (line 12)) (10.3.2.106)\n",
      "Requirement already satisfied: nvidia-cusolver-cu12==11.4.5.107 in /home/ec2-user/anaconda3/envs/python3/lib/python3.10/site-packages (from torch->layoutparser[layoutmodels,tesseract]->unstructured-inference==0.7.23->-r requirements.txt (line 12)) (11.4.5.107)\n",
      "Requirement already satisfied: nvidia-cusparse-cu12==12.1.0.106 in /home/ec2-user/anaconda3/envs/python3/lib/python3.10/site-packages (from torch->layoutparser[layoutmodels,tesseract]->unstructured-inference==0.7.23->-r requirements.txt (line 12)) (12.1.0.106)\n",
      "Requirement already satisfied: nvidia-nccl-cu12==2.19.3 in /home/ec2-user/anaconda3/envs/python3/lib/python3.10/site-packages (from torch->layoutparser[layoutmodels,tesseract]->unstructured-inference==0.7.23->-r requirements.txt (line 12)) (2.19.3)\n",
      "Requirement already satisfied: nvidia-nvtx-cu12==12.1.105 in /home/ec2-user/anaconda3/envs/python3/lib/python3.10/site-packages (from torch->layoutparser[layoutmodels,tesseract]->unstructured-inference==0.7.23->-r requirements.txt (line 12)) (12.1.105)\n",
      "Requirement already satisfied: triton==2.2.0 in /home/ec2-user/anaconda3/envs/python3/lib/python3.10/site-packages (from torch->layoutparser[layoutmodels,tesseract]->unstructured-inference==0.7.23->-r requirements.txt (line 12)) (2.2.0)\n",
      "Requirement already satisfied: nvidia-nvjitlink-cu12 in /home/ec2-user/anaconda3/envs/python3/lib/python3.10/site-packages (from nvidia-cusolver-cu12==11.4.5.107->torch->layoutparser[layoutmodels,tesseract]->unstructured-inference==0.7.23->-r requirements.txt (line 12)) (12.3.101)\n",
      "Requirement already satisfied: portalocker in /home/ec2-user/anaconda3/envs/python3/lib/python3.10/site-packages (from iopath->layoutparser[layoutmodels,tesseract]->unstructured-inference==0.7.23->-r requirements.txt (line 12)) (2.8.2)\n",
      "Requirement already satisfied: pytz>=2020.1 in /home/ec2-user/anaconda3/envs/python3/lib/python3.10/site-packages (from pandas->layoutparser[layoutmodels,tesseract]->unstructured-inference==0.7.23->-r requirements.txt (line 12)) (2023.3.post1)\n",
      "Requirement already satisfied: tzdata>=2022.1 in /home/ec2-user/anaconda3/envs/python3/lib/python3.10/site-packages (from pandas->layoutparser[layoutmodels,tesseract]->unstructured-inference==0.7.23->-r requirements.txt (line 12)) (2023.3)\n",
      "Requirement already satisfied: mpmath>=0.19 in /home/ec2-user/anaconda3/envs/python3/lib/python3.10/site-packages (from sympy->onnxruntime<1.16->unstructured-inference==0.7.23->-r requirements.txt (line 12)) (1.3.0)\n",
      "Requirement already satisfied: pycparser in /home/ec2-user/anaconda3/envs/python3/lib/python3.10/site-packages (from cffi>=1.12->cryptography>=36.0.0->pdfminer.six==20221105->pdfplumber==0.10.3->-r requirements.txt (line 4)) (2.21)\n",
      "Requirement already satisfied: antlr4-python3-runtime==4.9.* in /home/ec2-user/anaconda3/envs/python3/lib/python3.10/site-packages (from omegaconf>=2.0->effdet->layoutparser[layoutmodels,tesseract]->unstructured-inference==0.7.23->-r requirements.txt (line 12)) (4.9.3)\n",
      "Requirement already satisfied: matplotlib>=2.1.0 in /home/ec2-user/anaconda3/envs/python3/lib/python3.10/site-packages (from pycocotools>=2.0.2->effdet->layoutparser[layoutmodels,tesseract]->unstructured-inference==0.7.23->-r requirements.txt (line 12)) (3.8.0)\n",
      "Requirement already satisfied: MarkupSafe>=2.0 in /home/ec2-user/anaconda3/envs/python3/lib/python3.10/site-packages (from jinja2->torch->layoutparser[layoutmodels,tesseract]->unstructured-inference==0.7.23->-r requirements.txt (line 12)) (2.1.3)\n",
      "Requirement already satisfied: contourpy>=1.0.1 in /home/ec2-user/anaconda3/envs/python3/lib/python3.10/site-packages (from matplotlib>=2.1.0->pycocotools>=2.0.2->effdet->layoutparser[layoutmodels,tesseract]->unstructured-inference==0.7.23->-r requirements.txt (line 12)) (1.1.1)\n",
      "Requirement already satisfied: cycler>=0.10 in /home/ec2-user/anaconda3/envs/python3/lib/python3.10/site-packages (from matplotlib>=2.1.0->pycocotools>=2.0.2->effdet->layoutparser[layoutmodels,tesseract]->unstructured-inference==0.7.23->-r requirements.txt (line 12)) (0.12.1)\n",
      "Requirement already satisfied: fonttools>=4.22.0 in /home/ec2-user/anaconda3/envs/python3/lib/python3.10/site-packages (from matplotlib>=2.1.0->pycocotools>=2.0.2->effdet->layoutparser[layoutmodels,tesseract]->unstructured-inference==0.7.23->-r requirements.txt (line 12)) (4.43.1)\n",
      "Requirement already satisfied: kiwisolver>=1.0.1 in /home/ec2-user/anaconda3/envs/python3/lib/python3.10/site-packages (from matplotlib>=2.1.0->pycocotools>=2.0.2->effdet->layoutparser[layoutmodels,tesseract]->unstructured-inference==0.7.23->-r requirements.txt (line 12)) (1.4.5)\n",
      "Requirement already satisfied: pyparsing>=2.3.1 in /home/ec2-user/anaconda3/envs/python3/lib/python3.10/site-packages (from matplotlib>=2.1.0->pycocotools>=2.0.2->effdet->layoutparser[layoutmodels,tesseract]->unstructured-inference==0.7.23->-r requirements.txt (line 12)) (3.1.1)\n",
      "Using cached unstructured.pytesseract-0.3.12-py3-none-any.whl (14 kB)\n",
      "Installing collected packages: unstructured.pytesseract\n",
      "Successfully installed unstructured.pytesseract-0.3.12\n"
     ]
    }
   ],
   "source": [
    "!pip install -r requirements.txt"
   ]
  },
  {
   "cell_type": "code",
   "execution_count": 3,
   "id": "15e5a6af-4031-45df-a125-ad8dacddac89",
   "metadata": {
    "tags": []
   },
   "outputs": [
    {
     "name": "stdout",
     "output_type": "stream",
     "text": [
      "The autoreload extension is already loaded. To reload it, use:\n",
      "  %reload_ext autoreload\n"
     ]
    }
   ],
   "source": [
    "%load_ext autoreload\n",
    "%autoreload 2\n",
    "\n",
    "import sys, os\n",
    "module_path = \".\"\n",
    "sys.path.append(os.path.abspath(module_path))"
   ]
  },
  {
   "cell_type": "markdown",
   "id": "01357cda-1674-421b-b063-24c7a75d3d64",
   "metadata": {},
   "source": [
    "<br>\n",
    "# 1. OpneSearch 클러스터 생성\n",
    "- 테스트를 위해 Dev=True로 설정해서 진행합니다. 이후 실제 사용 사에는 Dev=False로 해야 합니다.\n",
    "\n",
    "### 선수 조건\n",
    "- 아래의 링크를 참조해서 OpenSearch Service 를 생성하고, opensearch_domain_endpoint, http_auth 를 복사해서, 아래 셀의 내용을 대체 하세요.\n",
    "    - [OpenSearch 생성 가이드](https://github.com/gonsoomoon-ml/Kor-LLM-On-SageMaker/blob/main/2-Lab02-QA-with-RAG/4.rag-fsi-data-workshop/TASK-4_OpenSearch_Creation_and_Vector_Insertion.ipynb)\n",
    "- 랭체인 오프서처 참고 자료\n",
    "    - [Langchain Opensearch](https://python.langchain.com/docs/integrations/vectorstores/opensearch)\n",
    "    \n",
    "#### [주의] OpenSearch 도메인 생성에는 약 15-16분의 시간이 소요됩니다."
   ]
  },
  {
   "cell_type": "code",
   "execution_count": 6,
   "id": "fb22b536-830e-4087-9b06-856a065a11ea",
   "metadata": {
    "tags": []
   },
   "outputs": [],
   "source": [
    "import boto3\n",
    "import uuid\n",
    "import botocore\n",
    "import time\n",
    "DEV = True # True일 경우 1-AZ without standby로 생성, False일 경우 3-AZ with standby. 워크샵 목적일 때는 지나친 과금/리소스 방지를 위해 True로 설정하는 것을 권장\n",
    "VERSION = \"2.11\" # OpenSearch Version (예: 2.7 / 2.9 / 2.11)\n",
    "\n",
    "opensearch_user_id = 'raguser'\n",
    "opensearch_user_password = 'MarsEarth1!'\n",
    "\n",
    "region = boto3.Session().region_name\n",
    "account_id = boto3.client(\"sts\").get_caller_identity()[\"Account\"]\n",
    "opensearch = boto3.client('opensearch', region)\n",
    "rand_str = uuid.uuid4().hex[:8]\n",
    "domain_name = f'rag-hol-{rand_str}'\n",
    "\n",
    "cluster_config_prod = {\n",
    "    'InstanceCount': 3,\n",
    "    'InstanceType': 'r6g.large.search',\n",
    "    'ZoneAwarenessEnabled': True,\n",
    "    'DedicatedMasterEnabled': True,\n",
    "    'MultiAZWithStandbyEnabled': True,\n",
    "    'DedicatedMasterType': 'r6g.large.search',\n",
    "    'DedicatedMasterCount': 3\n",
    "}\n",
    "\n",
    "cluster_config_dev = {\n",
    "    'InstanceCount': 1,\n",
    "    'InstanceType': 'r6g.large.search',\n",
    "    'ZoneAwarenessEnabled': False,\n",
    "    'DedicatedMasterEnabled': False,\n",
    "}\n",
    "\n",
    "\n",
    "ebs_options = {\n",
    "    'EBSEnabled': True,\n",
    "    'VolumeType': 'gp3',\n",
    "    'VolumeSize': 100,\n",
    "}\n",
    "\n",
    "advanced_security_options = {\n",
    "    'Enabled': True,\n",
    "    'InternalUserDatabaseEnabled': True,\n",
    "    'MasterUserOptions': {\n",
    "        'MasterUserName': opensearch_user_id,\n",
    "        'MasterUserPassword': opensearch_user_password\n",
    "    }\n",
    "}\n",
    "\n",
    "ap = f'{{\\\"Version\\\":\\\"2012-10-17\\\",\\\"Statement\\\":[{{\\\"Effect\\\":\\\"Allow\\\",\\\"Principal\\\":{{\\\"AWS\\\":\\\"*\\\"}},\\\"Action\\\":\\\"es:*\\\",\\\"Resource\\\":\\\"arn:aws:es:{region}:{account_id}:domain\\/{domain_name}\\/*\\\"}}]}}'\n",
    "\n",
    "if DEV:\n",
    "    cluster_config = cluster_config_dev\n",
    "else:\n",
    "    cluster_config = cluster_config_prod\n",
    "    \n",
    "response = opensearch.create_domain(\n",
    "    DomainName=domain_name,\n",
    "    EngineVersion=f'OpenSearch_{VERSION}',\n",
    "    ClusterConfig=cluster_config,\n",
    "    AccessPolicies=ap,\n",
    "    EBSOptions=ebs_options,\n",
    "    AdvancedSecurityOptions=advanced_security_options,\n",
    "    NodeToNodeEncryptionOptions={'Enabled': True},\n",
    "    EncryptionAtRestOptions={'Enabled': True},\n",
    "    DomainEndpointOptions={'EnforceHTTPS': True}\n",
    ")"
   ]
  },
  {
   "cell_type": "code",
   "execution_count": 7,
   "id": "43c417ec-f2e1-4c2b-8ae4-180d23477e77",
   "metadata": {
    "tags": []
   },
   "outputs": [
    {
     "name": "stdout",
     "output_type": "stream",
     "text": [
      "Creating domain...\n",
      "Creating domain...\n",
      "Creating domain...\n",
      "Creating domain...\n",
      "Creating domain...\n",
      "Creating domain...\n",
      "Creating domain...\n",
      "Creating domain...\n",
      "Creating domain...\n",
      "Creating domain...\n",
      "Creating domain...\n",
      "Creating domain...\n",
      "Creating domain...\n",
      "Creating domain...\n",
      "Creating domain...\n",
      "Domain endpoint ready to receive data: search-rag-hol-e3c10920-wlydhueiltyq2tbufaawrza4f4.us-west-2.es.amazonaws.com\n",
      "CPU times: user 329 ms, sys: 24.8 ms, total: 354 ms\n",
      "Wall time: 15min 2s\n"
     ]
    }
   ],
   "source": [
    "%%time\n",
    "def wait_for_domain_creation(domain_name):\n",
    "    try:\n",
    "        response = opensearch.describe_domain(\n",
    "            DomainName=domain_name\n",
    "        )\n",
    "        # Every 60 seconds, check whether the domain is processing.\n",
    "        while 'Endpoint' not in response['DomainStatus']:\n",
    "            print('Creating domain...')\n",
    "            time.sleep(60)\n",
    "            response = opensearch.describe_domain(\n",
    "                DomainName=domain_name)\n",
    "\n",
    "        # Once we exit the loop, the domain is ready for ingestion.\n",
    "        endpoint = response['DomainStatus']['Endpoint']\n",
    "        print('Domain endpoint ready to receive data: ' + endpoint)\n",
    "    except botocore.exceptions.ClientError as error:\n",
    "        if error.response['Error']['Code'] == 'ResourceNotFoundException':\n",
    "            print('Domain not found.')\n",
    "        else:\n",
    "            raise error\n",
    "\n",
    "wait_for_domain_creation(domain_name)"
   ]
  },
  {
   "cell_type": "code",
   "execution_count": 8,
   "id": "2eee9b9c-0e8d-4a64-8208-ed2a254efbca",
   "metadata": {
    "tags": []
   },
   "outputs": [
    {
     "name": "stdout",
     "output_type": "stream",
     "text": [
      "https://search-rag-hol-e3c10920-wlydhueiltyq2tbufaawrza4f4.us-west-2.es.amazonaws.com\n"
     ]
    }
   ],
   "source": [
    "response = opensearch.describe_domain(DomainName=domain_name)\n",
    "opensearch_domain_endpoint = f\"https://{response['DomainStatus']['Endpoint']}\"\n",
    "\n",
    "print(opensearch_domain_endpoint)"
   ]
  },
  {
   "cell_type": "markdown",
   "id": "78b92cbd-bbcd-4ecd-82cb-b009417ae448",
   "metadata": {},
   "source": [
    "<br>\n",
    "\n",
    "# 2. 한국어 분석을 위한 노리(Nori) 플러그인 설치\n",
    "Amazon OpenSearch Service에서 유명한 오픈 소스 한국어 텍스트 분석기인 노리(Nori) 플러그인을 지원합니다. 기존에 지원하던 은전한닢(Seunjeon) 플러그인과 더불어 노리를 활용하면 개발자가 한국 문서에 대해 전문 검색을 쉽게 구현할 수 있습니다.\n",
    "\n",
    "이와 함께, 중국어 분석을 위한 Pinyin 플러그인과 STConvert 플러그인, 그리고 일본어 분석을 위한 Sudachi 플러그인도 추가됐습니다.\n",
    "노리 플러그인은 OpenSearch 1.0 이상 버전을 실행하는 신규 도메인과 기존 도메인에서 사용 가능합니다.\n",
    "\n",
    "#### [주의] 노리 플러그인 연동에는 약 25-27분의 시간이 소요됩니다."
   ]
  },
  {
   "cell_type": "code",
   "execution_count": 9,
   "id": "3ae9ec61-90e9-4bee-b51f-b4f732ffd301",
   "metadata": {
    "tags": []
   },
   "outputs": [],
   "source": [
    "nori_pkg_id = {}\n",
    "nori_pkg_id['us-east-1'] = {\n",
    "    '2.3': 'G196105221',\n",
    "    '2.5': 'G240285063',\n",
    "    '2.7': 'G16029449', \n",
    "    '2.9': 'G60209291',\n",
    "    '2.11': 'G181660338'\n",
    "}\n",
    "\n",
    "nori_pkg_id['us-west-2'] = {\n",
    "    '2.3': 'G94047474',\n",
    "    '2.5': 'G138227316',\n",
    "    '2.7': 'G182407158', \n",
    "    '2.9': 'G226587000',\n",
    "    '2.11': 'G79602591'\n",
    "}\n",
    "\n",
    "pkg_response = opensearch.associate_package(\n",
    "    PackageID=nori_pkg_id[region][VERSION], # nori plugin\n",
    "    DomainName=domain_name\n",
    ")"
   ]
  },
  {
   "cell_type": "code",
   "execution_count": 17,
   "id": "9d00ceea-01fe-40c1-9a0d-debcc152e4e2",
   "metadata": {
    "tags": []
   },
   "outputs": [
    {
     "name": "stdout",
     "output_type": "stream",
     "text": [
      "Associating packages...\n"
     ]
    },
    {
     "ename": "KeyboardInterrupt",
     "evalue": "",
     "output_type": "error",
     "traceback": [
      "\u001b[0;31m---------------------------------------------------------------------------\u001b[0m",
      "\u001b[0;31mKeyboardInterrupt\u001b[0m                         Traceback (most recent call last)",
      "File \u001b[0;32m<timed exec>:19\u001b[0m\n",
      "File \u001b[0;32m<timed exec>:10\u001b[0m, in \u001b[0;36mwait_for_associate_package\u001b[0;34m(domain_name, max_results)\u001b[0m\n",
      "\u001b[0;31mKeyboardInterrupt\u001b[0m: "
     ]
    }
   ],
   "source": [
    "%%time\n",
    "def wait_for_associate_package(domain_name, max_results=1):\n",
    "\n",
    "    response = opensearch.list_packages_for_domain(\n",
    "        DomainName=domain_name,\n",
    "        MaxResults=1\n",
    "    )\n",
    "    # Every 60 seconds, check whether the domain is processing.\n",
    "    while response['DomainPackageDetailsList'][0]['DomainPackageStatus'] == \"ASSOCIATING\":\n",
    "        print('Associating packages...')\n",
    "        time.sleep(60)\n",
    "        response = opensearch.list_packages_for_domain(\n",
    "            DomainName=domain_name,\n",
    "            MaxResults=1\n",
    "        )\n",
    "\n",
    "    #endpoint = response['DomainStatus']['Endpoint']\n",
    "    print('Associated!')\n",
    "\n",
    "wait_for_associate_package(domain_name)"
   ]
  },
  {
   "cell_type": "markdown",
   "id": "b9575839-5cc3-4c3f-b675-0fdb660e4683",
   "metadata": {},
   "source": [
    "opensearchpy를 이용하여 nori 플러그인 설치 여부를 확인합니다."
   ]
  },
  {
   "cell_type": "code",
   "execution_count": 15,
   "id": "54431431-6107-4b07-831c-a031a8c5493d",
   "metadata": {
    "tags": []
   },
   "outputs": [
    {
     "name": "stdout",
     "output_type": "stream",
     "text": [
      "langchain                     0.1.5\n",
      "langchain-community           0.0.17\n",
      "langchain-core                0.1.18\n",
      "opensearch-py                 2.4.2\n"
     ]
    }
   ],
   "source": [
    "! pip list | grep langchain\n",
    "! pip list | grep opensearch"
   ]
  },
  {
   "cell_type": "code",
   "execution_count": 16,
   "id": "6d0e4a5f-abb4-407a-812b-6d194d28ba27",
   "metadata": {
    "tags": []
   },
   "outputs": [
    {
     "name": "stdout",
     "output_type": "stream",
     "text": [
      "opensearch-nori plugin이 사용가능합니다.\n"
     ]
    }
   ],
   "source": [
    "from opensearchpy import OpenSearch, RequestsHttpConnection\n",
    "http_auth = (opensearch_user_id, opensearch_user_password)\n",
    "os_client = OpenSearch(\n",
    "                hosts=[\n",
    "                    {'host': opensearch_domain_endpoint.replace(\"https://\", \"\"),\n",
    "                     'port': 443\n",
    "                    }\n",
    "                ],\n",
    "                http_auth=http_auth, # Master username, Master password,\n",
    "                use_ssl=True,\n",
    "                verify_certs=True,\n",
    "                connection_class=RequestsHttpConnection\n",
    "            )\n",
    "\n",
    "res_str = os_client.cat.plugins()\n",
    "\n",
    "if 'opensearch-analysis-nori' in res_str:\n",
    "    print('opensearch-nori plugin이 사용가능합니다.')\n",
    "else:\n",
    "    print('opensearch-nori plugin 연결이 진행되지 않았습니다.')\n"
   ]
  },
  {
   "cell_type": "code",
   "execution_count": 25,
   "id": "5e30ee8b-013f-4b5d-8271-c60f96cbcb51",
   "metadata": {
    "tags": []
   },
   "outputs": [
    {
     "name": "stdout",
     "output_type": "stream",
     "text": [
      "Stored 'opensearch_user_id' (str)\n",
      "Stored 'opensearch_user_password' (str)\n",
      "Stored 'domain_name' (str)\n",
      "Stored 'opensearch_domain_endpoint' (str)\n"
     ]
    }
   ],
   "source": [
    "%store opensearch_user_id opensearch_user_password domain_name opensearch_domain_endpoint"
   ]
  },
  {
   "cell_type": "code",
   "execution_count": null,
   "id": "3c9f5e6d-4009-42a9-9f77-12dd187ea5df",
   "metadata": {},
   "outputs": [],
   "source": []
  }
 ],
 "metadata": {
  "kernelspec": {
   "display_name": "conda_python3",
   "language": "python",
   "name": "conda_python3"
  },
  "language_info": {
   "codemirror_mode": {
    "name": "ipython",
    "version": 3
   },
   "file_extension": ".py",
   "mimetype": "text/x-python",
   "name": "python",
   "nbconvert_exporter": "python",
   "pygments_lexer": "ipython3",
   "version": "3.10.13"
  },
  "vscode": {
   "interpreter": {
    "hash": "4b8e647a79df62bf31906a725b05de775d285962ac600487339d38c51a5c07b1"
   }
  }
 },
 "nbformat": 4,
 "nbformat_minor": 5
}
