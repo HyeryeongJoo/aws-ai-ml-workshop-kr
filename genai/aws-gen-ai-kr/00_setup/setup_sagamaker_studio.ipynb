{
 "cells": [
  {
   "cell_type": "markdown",
   "id": "eb47a373-2959-4860-a245-40fe038e1d74",
   "metadata": {
    "tags": []
   },
   "source": [
    "# **Setup for Amazon SageMaker Studio**"
   ]
  },
  {
   "cell_type": "markdown",
   "id": "8137589a-ddb1-44d4-ab3b-49400243bc72",
   "metadata": {
    "tags": []
   },
   "source": [
    "## 1. Create Amazon SageMaker Domain and User\n",
    "- ### [video here](https://www.google.com/search?q=create+sagemaker+domain+and+user&rlz=1C5GCCM_en&oq=create+sagemaker+domain+and+user+&gs_lcrp=EgZjaHJvbWUyBggAEEUYOdIBCTEyNDc3ajBqN6gCALACAA&sourceid=chrome&ie=UTF-8#kpvalbx=_S9HWZe3KOfvB0PEPpaSAyAw_52)"
   ]
  },
  {
   "cell_type": "markdown",
   "id": "19e8ca9c-e8d8-4444-a288-89803f0c6594",
   "metadata": {},
   "source": [
    "## **2. Get started SageMaker Studio**\n",
    "- ### 2.1. SageMaker 콘솔에서 “studio” 선택 후 오른쪽 오렌지색 “Open Studio” 클릭\n",
    "![nn](../imgs/sagemaker-studio/studio-1.jpg)"
   ]
  },
  {
   "cell_type": "markdown",
   "id": "92d6a661-90ba-4ce9-9cb3-f62c03f705d4",
   "metadata": {},
   "source": [
    "- ### 2.2. 아래와 같은 SageMaker Studio 메인 페이지 확인 가능\n",
    "![nn](../imgs/sagemaker-studio/studio-2.jpg)"
   ]
  },
  {
   "cell_type": "markdown",
   "id": "20df7c6e-654f-4d75-ae69-7e00ea53ff53",
   "metadata": {},
   "source": [
    "## **3. Get started JupyterLab**\n",
    "- ### 3.1. 왼쪽 상단 “JupyterLab” 클릭\n",
    "![nn](../imgs/sagemaker-studio/studio-3.jpg)"
   ]
  },
  {
   "cell_type": "markdown",
   "id": "a8ab5e3b-696c-420d-a85b-03a4db544d0e",
   "metadata": {},
   "source": [
    "- ### 3.2. 오른쪽 상단 “Create JupyterLab Space” 클릭\n",
    "    - #### [Introducing Spaces](https://docs.aws.amazon.com/sagemaker/latest/dg/studio-updated-jl-user-guide.html)\n",
    "![nn](../imgs/sagemaker-studio/studio-4.jpg)"
   ]
  },
  {
   "cell_type": "markdown",
   "id": "e5e64943-4790-4740-8611-00bd5265ea19",
   "metadata": {},
   "source": [
    "- ### 3.3. Name 설정 후 오른쪽 하단 “Create space” 클릭\n",
    "![nn](../imgs/sagemaker-studio/studio-5.jpg)"
   ]
  },
  {
   "cell_type": "markdown",
   "id": "9c659f29-c050-4a4f-8fdf-fc4da2458da3",
   "metadata": {
    "tags": []
   },
   "source": [
    "- ### 3.4. Instance, Image 선택 및 Space setting (Storage, Lifecycle etc.) 후 왼쪽 상단 “Run space” 클릭\n",
    "![nn](../imgs/sagemaker-studio/studio-6.jpg)"
   ]
  },
  {
   "cell_type": "markdown",
   "id": "9ca06c4d-3a65-4361-b27e-32d3070dbad1",
   "metadata": {
    "tags": []
   },
   "source": [
    "- ### 3.5. “Open JupyterLab” 이 활성화 되면 클릭\n",
    "![nn](../imgs/sagemaker-studio/studio-7.jpg)"
   ]
  },
  {
   "cell_type": "markdown",
   "id": "6850cd2f-e1c3-4699-b42a-34035446e2d1",
   "metadata": {},
   "source": [
    "- ### 3.6. 아래 JupyterLab 메인 화면 확인 (완료)\n",
    "![nn](../imgs/sagemaker-studio/studio-8.jpg)"
   ]
  },
  {
   "cell_type": "code",
   "execution_count": null,
   "id": "3a6e280b-91cf-4cab-b6a0-898dc87422f5",
   "metadata": {},
   "outputs": [],
   "source": []
  }
 ],
 "metadata": {
  "kernelspec": {
   "display_name": "conda_python3",
   "language": "python",
   "name": "conda_python3"
  },
  "language_info": {
   "codemirror_mode": {
    "name": "ipython",
    "version": 3
   },
   "file_extension": ".py",
   "mimetype": "text/x-python",
   "name": "python",
   "nbconvert_exporter": "python",
   "pygments_lexer": "ipython3",
   "version": "3.10.13"
  }
 },
 "nbformat": 4,
 "nbformat_minor": 5
}
