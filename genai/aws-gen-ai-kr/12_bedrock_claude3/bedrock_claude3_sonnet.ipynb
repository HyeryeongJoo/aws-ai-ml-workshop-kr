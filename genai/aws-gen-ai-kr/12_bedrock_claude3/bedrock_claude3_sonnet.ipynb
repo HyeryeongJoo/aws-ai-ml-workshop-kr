{
 "cells": [
  {
   "cell_type": "code",
   "execution_count": 10,
   "id": "d769b173-6319-4aad-b0bc-1665b1556eb4",
   "metadata": {
    "tags": []
   },
   "outputs": [
    {
     "name": "stdout",
     "output_type": "stream",
     "text": [
      "Requirement already satisfied: boto3 in /home/ec2-user/anaconda3/envs/python3/lib/python3.10/site-packages (1.34.55)\n",
      "Requirement already satisfied: botocore in /home/ec2-user/anaconda3/envs/python3/lib/python3.10/site-packages (1.34.55)\n",
      "Requirement already satisfied: jmespath<2.0.0,>=0.7.1 in /home/ec2-user/anaconda3/envs/python3/lib/python3.10/site-packages (from boto3) (0.10.0)\n",
      "Requirement already satisfied: s3transfer<0.11.0,>=0.10.0 in /home/ec2-user/anaconda3/envs/python3/lib/python3.10/site-packages (from boto3) (0.10.0)\n",
      "Requirement already satisfied: python-dateutil<3.0.0,>=2.1 in /home/ec2-user/anaconda3/envs/python3/lib/python3.10/site-packages (from botocore) (2.8.2)\n",
      "Requirement already satisfied: urllib3<2.1,>=1.25.4 in /home/ec2-user/anaconda3/envs/python3/lib/python3.10/site-packages (from botocore) (1.26.18)\n",
      "Requirement already satisfied: six>=1.5 in /home/ec2-user/anaconda3/envs/python3/lib/python3.10/site-packages (from python-dateutil<3.0.0,>=2.1->botocore) (1.16.0)\n"
     ]
    }
   ],
   "source": [
    "!pip install -U boto3 botocore"
   ]
  },
  {
   "cell_type": "code",
   "execution_count": 28,
   "id": "8642308d-296b-455c-bfe7-4d3406f88591",
   "metadata": {
    "tags": []
   },
   "outputs": [],
   "source": [
    "import boto3\n",
    "import os\n",
    "import json\n",
    "from botocore.config import Config\n",
    "import botocore \n",
    "\n",
    "session = boto3.Session()\n",
    "\n",
    "retry_config = Config(\n",
    "    region_name=os.environ.get(\"AWS_DEFAULT_REGION\", None),\n",
    "    retries={\n",
    "        \"max_attempts\": 10,\n",
    "        \"mode\": \"standard\",\n",
    "    },\n",
    ")\n",
    "\n",
    "# modelId = \"anthropic.claude-instant-v1\"  # (Change this to try different model versions)\n",
    "modelId = \"anthropic.claude-3-sonnet-20240229-v1:0\"\n",
    "accept = \"application/json\"\n",
    "contentType = \"application/json\"\n",
    "\n",
    "bedrock_runtime = boto3.client(service_name='bedrock-runtime',config=retry_config)\n",
    "\n",
    "\n",
    "def bedrock_streemer(response):\n",
    "    stream = response.get('body')\n",
    "    answer = \"\"\n",
    "    i = 1\n",
    "    if stream:\n",
    "        for event in stream:\n",
    "            chunk = event.get('chunk')\n",
    "            if  chunk:\n",
    "                chunk_obj = json.loads(chunk.get('bytes').decode())\n",
    "                if \"delta\" in chunk_obj:                    \n",
    "                    delta = chunk_obj['delta']\n",
    "                    if \"text\" in delta:\n",
    "                        text=delta['text'] \n",
    "                        print(text, end=\"\")\n",
    "                        answer+=str(text)       \n",
    "                        i+=1\n",
    "    return answer\n",
    "\n",
    "def call_claude_sonet(prompt, base64_string=None, streaming=True):\n",
    "    if base64_string is None:\n",
    "        prompt_config = {\n",
    "            \"anthropic_version\": \"bedrock-2023-05-31\",\n",
    "            \"max_tokens\": 4096,\n",
    "            \"messages\": [\n",
    "                {\n",
    "                    \"role\": \"user\",\n",
    "                    \"content\": [\n",
    "                        {\"type\": \"text\", \"text\": prompt},\n",
    "                    ],\n",
    "                }\n",
    "            ],\n",
    "        }\n",
    "    else:\n",
    "        prompt_config = {\n",
    "            \"anthropic_version\": \"bedrock-2023-05-31\",\n",
    "            \"max_tokens\": 4096,\n",
    "            \"messages\": [\n",
    "                {\n",
    "                    \"role\": \"user\",\n",
    "                    \"content\": [\n",
    "                        {\n",
    "                            \"type\": \"image\",\n",
    "                            \"source\": {\n",
    "                                \"type\": \"base64\",\n",
    "                                \"media_type\": \"image/png\",\n",
    "                                \"data\": base64_string,\n",
    "                            },\n",
    "                        },\n",
    "                        {\"type\": \"text\", \"text\": prompt},\n",
    "                    ],\n",
    "                }\n",
    "            ],\n",
    "        }\n",
    "\n",
    "\n",
    "    body = json.dumps(prompt_config)\n",
    "\n",
    "    modelId = \"anthropic.claude-3-sonnet-20240229-v1:0\"\n",
    "    accept = \"application/json\"\n",
    "    contentType = \"application/json\"\n",
    "    \n",
    "    if streaming:\n",
    "        \n",
    "        response = bedrock_runtime.invoke_model_with_response_stream(\n",
    "            body=body, modelId=modelId, accept=accept, contentType=contentType\n",
    "        )\n",
    "        results=bedrock_streemer(response)\n",
    "    else:\n",
    "        response = bedrock_runtime.invoke_model(\n",
    "            body=body, modelId=modelId, accept=accept, contentType=contentType\n",
    "        )\n",
    "        response_body = json.loads(response.get(\"body\").read())\n",
    "        results = response_body.get(\"content\")[0].get(\"text\")\n",
    "    return results\n",
    "    \n",
    "\n",
    "# def perform_qa(question, text, streaming=True):\n",
    "#     \"\"\"\n",
    "#     Function to perform a Q&A operation based on the provided text.\n",
    "#     \"\"\"\n",
    "#     prompt = f\"Given the following text, answer the question. If the answer is not in the text, 'say you do not know': {question} text: {text} \"\n",
    "#     result = call_claude_sonet(prompt, streaming)\n",
    "#     return result"
   ]
  },
  {
   "cell_type": "code",
   "execution_count": 29,
   "id": "fbcafc14-6b64-4d01-92f5-409c83f8f3dc",
   "metadata": {
    "tags": []
   },
   "outputs": [
    {
     "name": "stdout",
     "output_type": "stream",
     "text": [
      "aaa\n",
      "생명보험과 손해보험은 보험의 주된 목적과 보장 대상이 다릅니다.\n",
      "\n",
      "생명보험:\n",
      "- 사람의 생명과 관련된 위험을 보장합니다. \n",
      "- 주요 보장 위험은 사망, 상해, 질병 등입니다.\n",
      "- 보험금 지급 사유가 발생하면 가입자나 수익자에게 보험금을 지급합니다.\n",
      "- 대표적인 종류로 정기보험, whole life 보험, 연금보험 등이 있습니다.\n",
      "\n",
      "손해보험: \n",
      "- 재산 손실이나 법적 책임 등 경제적 손해를 보상합니다.\n",
      "- 주요 보장 위험은 화재, 재해, 사고, 배상책임 등입니다. \n",
      "- 보험금은 실제 입은 손해액을 보상하는 것이 원칙입니다.\n",
      "- 대표적인 종류로 화재보험, 자동차보험, 배상책임보험 등이 있습니다.\n",
      "\n",
      "간단히 말하면, 생명보험은 개인의 생명 위험을 보장하는 반면, 손해보험은 재물 손실이나 법적 배상책임 등 경제적 손해를 보상하는 보험입니다."
     ]
    },
    {
     "data": {
      "text/plain": [
       "'생명보험과 손해보험은 보험의 주된 목적과 보장 대상이 다릅니다.\\n\\n생명보험:\\n- 사람의 생명과 관련된 위험을 보장합니다. \\n- 주요 보장 위험은 사망, 상해, 질병 등입니다.\\n- 보험금 지급 사유가 발생하면 가입자나 수익자에게 보험금을 지급합니다.\\n- 대표적인 종류로 정기보험, whole life 보험, 연금보험 등이 있습니다.\\n\\n손해보험: \\n- 재산 손실이나 법적 책임 등 경제적 손해를 보상합니다.\\n- 주요 보장 위험은 화재, 재해, 사고, 배상책임 등입니다. \\n- 보험금은 실제 입은 손해액을 보상하는 것이 원칙입니다.\\n- 대표적인 종류로 화재보험, 자동차보험, 배상책임보험 등이 있습니다.\\n\\n간단히 말하면, 생명보험은 개인의 생명 위험을 보장하는 반면, 손해보험은 재물 손실이나 법적 배상책임 등 경제적 손해를 보상하는 보험입니다.'"
      ]
     },
     "execution_count": 29,
     "metadata": {},
     "output_type": "execute_result"
    }
   ],
   "source": [
    "prompt = \"나는 인공지능 AI 보험 서비스입니다. 생명과 손해 보험의 차이에 대해 설명해 주세요.\"\n",
    "call_claude_sonet(prompt)"
   ]
  },
  {
   "cell_type": "code",
   "execution_count": 30,
   "id": "ebf04d0c-1b1e-434c-9dfd-b147fd18a270",
   "metadata": {
    "tags": []
   },
   "outputs": [],
   "source": [
    "def image_to_base64(img):\n",
    "    import base64\n",
    "    \"\"\"Converts a PIL Image or local image file path to a base64 string\"\"\"\n",
    "    if isinstance(img, str):\n",
    "        if os.path.isfile(img):\n",
    "            print(f\"Reading image from file: {img}\")\n",
    "            with open(img, \"rb\") as f:\n",
    "                return base64.b64encode(f.read()).decode(\"utf-8\")\n",
    "        else:\n",
    "            raise FileNotFoundError(f\"File {img} does not exist\")\n",
    "    elif isinstance(img, Image.Image):\n",
    "        buffer = io.BytesIO()\n",
    "        img.save(buffer, format=\"PNG\")\n",
    "        return base64.b64encode(buffer.getvalue()).decode(\"utf-8\")\n",
    "    else:\n",
    "        raise ValueError(f\"Expected str (filename) or PIL Image. Got {type(img)}\")"
   ]
  },
  {
   "cell_type": "code",
   "execution_count": 36,
   "id": "54d3f3a0-74be-4e75-8330-dffface903e8",
   "metadata": {
    "tags": []
   },
   "outputs": [
    {
     "name": "stdout",
     "output_type": "stream",
     "text": [
      "Reading image from file: table.png\n",
      "이미지에 제시된 요금표를 보면, 100메가 인터넷 요금은 1,650원입니다. 그리고 모바일 총액이 141,900원 이상일 때 할인금액이 5,500원으로 나와 있습니다. 따라서 모바일 총액이 67,000원 이상일 경우에도 100메가 인터넷 요금에 대한 할인금액은 5,500원입니다."
     ]
    },
    {
     "data": {
      "text/plain": [
       "'이미지에 제시된 요금표를 보면, 100메가 인터넷 요금은 1,650원입니다. 그리고 모바일 총액이 141,900원 이상일 때 할인금액이 5,500원으로 나와 있습니다. 따라서 모바일 총액이 67,000원 이상일 경우에도 100메가 인터넷 요금에 대한 할인금액은 5,500원입니다.'"
      ]
     },
     "execution_count": 36,
     "metadata": {},
     "output_type": "execute_result"
    }
   ],
   "source": [
    "prompt = \"Provide a caption for this image\"\n",
    "prompt = \"100메가 인터넷 요금에 대해 모바일 총액이 64900원 이상일 경우 할인 금액을 알려줘\"\n",
    "prompt = \"100메가 인터넷 요금에 대해 모바일 총액이 67000원 이상일 경우 할인 금액을 알려줘\"\n",
    "base64_string = image_to_base64('table.png')\n",
    "call_claude_sonet(prompt,base64_string)"
   ]
  },
  {
   "cell_type": "code",
   "execution_count": null,
   "id": "1391594c-12a5-45fe-a1f2-fdd1d32f61bb",
   "metadata": {},
   "outputs": [],
   "source": []
  }
 ],
 "metadata": {
  "kernelspec": {
   "display_name": "conda_python3",
   "language": "python",
   "name": "conda_python3"
  },
  "language_info": {
   "codemirror_mode": {
    "name": "ipython",
    "version": 3
   },
   "file_extension": ".py",
   "mimetype": "text/x-python",
   "name": "python",
   "nbconvert_exporter": "python",
   "pygments_lexer": "ipython3",
   "version": "3.10.13"
  }
 },
 "nbformat": 4,
 "nbformat_minor": 5
}
