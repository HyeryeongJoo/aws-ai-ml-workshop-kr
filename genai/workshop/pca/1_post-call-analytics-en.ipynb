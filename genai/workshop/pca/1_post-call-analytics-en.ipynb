{
 "cells": [
  {
   "cell_type": "markdown",
   "id": "547672b4-4914-40a6-b55a-7aa8b9b7fb61",
   "metadata": {},
   "source": [
    "# Post Call Analytics\n",
    "\n",
    "Welcome to this training module on post-call analytics use cases using Amazon SageMaker JumpStart. \n",
    "\n",
    "As businesses continue to interact with customers through various channels, it becomes increasingly important to analyze these interactions to gain insights into customer behavior and preferences. Post-call analytics is one such method that involves analyzing customer interactions after the call has ended. The use of large language models can greatly enhance the effectiveness of post-call analytics by enabling more accurate sentiment analysis, identifying specific customer needs and preferences, and improving overall customer experience. \n",
    "\n",
    "In this sample notebook, we will explore following topics to demonstrate the various benefits of using Bedrock for post-call analytics and businesses gain a competitive edge in the modern marketplace.\n",
    "\n",
    "- [수정필요] Choice of LLM models in Amazon SageMaker JumpStart\n",
    "- One model handling multiple PCA tasks\n",
    "- Handling long call transcripts\n",
    "\n",
    "## Step 0. Install packages"
   ]
  },
  {
   "cell_type": "code",
   "execution_count": 1,
   "id": "92150b51-40e6-4fcd-9d93-a990cc716e83",
   "metadata": {
    "tags": []
   },
   "outputs": [],
   "source": [
    "%load_ext autoreload\n",
    "%autoreload 2"
   ]
  },
  {
   "cell_type": "code",
   "execution_count": 2,
   "id": "bd768d18-d7de-4cad-abed-67e398a5b2c0",
   "metadata": {
    "tags": []
   },
   "outputs": [],
   "source": [
    "import sys\n",
    "sys.path.append('../utils')\n",
    "sys.path.append('../templates')"
   ]
  },
  {
   "cell_type": "code",
   "execution_count": 3,
   "id": "f4f64b47-53c8-42dd-98df-044bc80e1ed4",
   "metadata": {
    "tags": []
   },
   "outputs": [],
   "source": [
    "install_needed = True  # should only be True once"
   ]
  },
  {
   "cell_type": "code",
   "execution_count": 4,
   "id": "82933858-b359-44b8-952f-1f8d3b2485da",
   "metadata": {
    "collapsed": true,
    "jupyter": {
     "outputs_hidden": true
    },
    "tags": []
   },
   "outputs": [
    {
     "name": "stdout",
     "output_type": "stream",
     "text": [
      "installing deps and restarting kernel\n",
      "Looking in indexes: https://pypi.org/simple, https://pip.repos.neuron.amazonaws.com\n",
      "Requirement already satisfied: pip in /home/ec2-user/anaconda3/envs/python3/lib/python3.10/site-packages (23.2.1)\n",
      "Looking in indexes: https://pypi.org/simple, https://pip.repos.neuron.amazonaws.com\n",
      "Requirement already satisfied: termcolor in /home/ec2-user/anaconda3/envs/python3/lib/python3.10/site-packages (2.3.0)\n",
      "Looking in indexes: https://pypi.org/simple, https://pip.repos.neuron.amazonaws.com\n",
      "Requirement already satisfied: langchain in /home/ec2-user/anaconda3/envs/python3/lib/python3.10/site-packages (0.0.260)\n",
      "Requirement already satisfied: PyYAML>=5.3 in /home/ec2-user/anaconda3/envs/python3/lib/python3.10/site-packages (from langchain) (6.0)\n",
      "Requirement already satisfied: SQLAlchemy<3,>=1.4 in /home/ec2-user/anaconda3/envs/python3/lib/python3.10/site-packages (from langchain) (2.0.12)\n",
      "Requirement already satisfied: aiohttp<4.0.0,>=3.8.3 in /home/ec2-user/anaconda3/envs/python3/lib/python3.10/site-packages (from langchain) (3.8.4)\n",
      "Requirement already satisfied: async-timeout<5.0.0,>=4.0.0 in /home/ec2-user/anaconda3/envs/python3/lib/python3.10/site-packages (from langchain) (4.0.2)\n",
      "Requirement already satisfied: dataclasses-json<0.6.0,>=0.5.7 in /home/ec2-user/anaconda3/envs/python3/lib/python3.10/site-packages (from langchain) (0.5.9)\n",
      "Requirement already satisfied: langsmith<0.1.0,>=0.0.11 in /home/ec2-user/anaconda3/envs/python3/lib/python3.10/site-packages (from langchain) (0.0.19)\n",
      "Requirement already satisfied: numexpr<3.0.0,>=2.8.4 in /home/ec2-user/anaconda3/envs/python3/lib/python3.10/site-packages (from langchain) (2.8.4)\n",
      "Requirement already satisfied: numpy<2,>=1 in /home/ec2-user/anaconda3/envs/python3/lib/python3.10/site-packages (from langchain) (1.22.3)\n",
      "Requirement already satisfied: openapi-schema-pydantic<2.0,>=1.2 in /home/ec2-user/anaconda3/envs/python3/lib/python3.10/site-packages (from langchain) (1.2.4)\n",
      "Requirement already satisfied: pydantic<2,>=1 in /home/ec2-user/anaconda3/envs/python3/lib/python3.10/site-packages (from langchain) (1.10.11)\n",
      "Requirement already satisfied: requests<3,>=2 in /home/ec2-user/anaconda3/envs/python3/lib/python3.10/site-packages (from langchain) (2.29.0)\n",
      "Requirement already satisfied: tenacity<9.0.0,>=8.1.0 in /home/ec2-user/anaconda3/envs/python3/lib/python3.10/site-packages (from langchain) (8.2.2)\n",
      "Requirement already satisfied: attrs>=17.3.0 in /home/ec2-user/anaconda3/envs/python3/lib/python3.10/site-packages (from aiohttp<4.0.0,>=3.8.3->langchain) (23.1.0)\n",
      "Requirement already satisfied: charset-normalizer<4.0,>=2.0 in /home/ec2-user/anaconda3/envs/python3/lib/python3.10/site-packages (from aiohttp<4.0.0,>=3.8.3->langchain) (2.1.1)\n",
      "Requirement already satisfied: multidict<7.0,>=4.5 in /home/ec2-user/anaconda3/envs/python3/lib/python3.10/site-packages (from aiohttp<4.0.0,>=3.8.3->langchain) (6.0.4)\n",
      "Requirement already satisfied: yarl<2.0,>=1.0 in /home/ec2-user/anaconda3/envs/python3/lib/python3.10/site-packages (from aiohttp<4.0.0,>=3.8.3->langchain) (1.9.1)\n",
      "Requirement already satisfied: frozenlist>=1.1.1 in /home/ec2-user/anaconda3/envs/python3/lib/python3.10/site-packages (from aiohttp<4.0.0,>=3.8.3->langchain) (1.3.3)\n",
      "Requirement already satisfied: aiosignal>=1.1.2 in /home/ec2-user/anaconda3/envs/python3/lib/python3.10/site-packages (from aiohttp<4.0.0,>=3.8.3->langchain) (1.3.1)\n",
      "Requirement already satisfied: marshmallow<4.0.0,>=3.3.0 in /home/ec2-user/anaconda3/envs/python3/lib/python3.10/site-packages (from dataclasses-json<0.6.0,>=0.5.7->langchain) (3.19.0)\n",
      "Requirement already satisfied: marshmallow-enum<2.0.0,>=1.5.1 in /home/ec2-user/anaconda3/envs/python3/lib/python3.10/site-packages (from dataclasses-json<0.6.0,>=0.5.7->langchain) (1.5.1)\n",
      "Requirement already satisfied: typing-inspect>=0.4.0 in /home/ec2-user/anaconda3/envs/python3/lib/python3.10/site-packages (from dataclasses-json<0.6.0,>=0.5.7->langchain) (0.9.0)\n",
      "Requirement already satisfied: typing-extensions>=4.2.0 in /home/ec2-user/anaconda3/envs/python3/lib/python3.10/site-packages (from pydantic<2,>=1->langchain) (4.5.0)\n",
      "Requirement already satisfied: idna<4,>=2.5 in /home/ec2-user/anaconda3/envs/python3/lib/python3.10/site-packages (from requests<3,>=2->langchain) (3.4)\n",
      "Requirement already satisfied: urllib3<1.27,>=1.21.1 in /home/ec2-user/anaconda3/envs/python3/lib/python3.10/site-packages (from requests<3,>=2->langchain) (1.26.14)\n",
      "Requirement already satisfied: certifi>=2017.4.17 in /home/ec2-user/anaconda3/envs/python3/lib/python3.10/site-packages (from requests<3,>=2->langchain) (2023.5.7)\n",
      "Requirement already satisfied: greenlet!=0.4.17 in /home/ec2-user/anaconda3/envs/python3/lib/python3.10/site-packages (from SQLAlchemy<3,>=1.4->langchain) (2.0.2)\n",
      "Requirement already satisfied: packaging>=17.0 in /home/ec2-user/anaconda3/envs/python3/lib/python3.10/site-packages (from marshmallow<4.0.0,>=3.3.0->dataclasses-json<0.6.0,>=0.5.7->langchain) (21.3)\n",
      "Requirement already satisfied: mypy-extensions>=0.3.0 in /home/ec2-user/anaconda3/envs/python3/lib/python3.10/site-packages (from typing-inspect>=0.4.0->dataclasses-json<0.6.0,>=0.5.7->langchain) (1.0.0)\n",
      "Requirement already satisfied: pyparsing!=3.0.5,>=2.0.2 in /home/ec2-user/anaconda3/envs/python3/lib/python3.10/site-packages (from packaging>=17.0->marshmallow<4.0.0,>=3.3.0->dataclasses-json<0.6.0,>=0.5.7->langchain) (3.0.9)\n",
      "Looking in indexes: https://pypi.org/simple, https://pip.repos.neuron.amazonaws.com\n",
      "Requirement already satisfied: transformers in /home/ec2-user/anaconda3/envs/python3/lib/python3.10/site-packages (4.31.0)\n",
      "Requirement already satisfied: filelock in /home/ec2-user/anaconda3/envs/python3/lib/python3.10/site-packages (from transformers) (3.12.0)\n",
      "Requirement already satisfied: huggingface-hub<1.0,>=0.14.1 in /home/ec2-user/anaconda3/envs/python3/lib/python3.10/site-packages (from transformers) (0.16.4)\n",
      "Requirement already satisfied: numpy>=1.17 in /home/ec2-user/anaconda3/envs/python3/lib/python3.10/site-packages (from transformers) (1.22.3)\n",
      "Requirement already satisfied: packaging>=20.0 in /home/ec2-user/anaconda3/envs/python3/lib/python3.10/site-packages (from transformers) (21.3)\n",
      "Requirement already satisfied: pyyaml>=5.1 in /home/ec2-user/anaconda3/envs/python3/lib/python3.10/site-packages (from transformers) (6.0)\n",
      "Requirement already satisfied: regex!=2019.12.17 in /home/ec2-user/anaconda3/envs/python3/lib/python3.10/site-packages (from transformers) (2023.5.5)\n",
      "Requirement already satisfied: requests in /home/ec2-user/anaconda3/envs/python3/lib/python3.10/site-packages (from transformers) (2.29.0)\n",
      "Requirement already satisfied: tokenizers!=0.11.3,<0.14,>=0.11.1 in /home/ec2-user/anaconda3/envs/python3/lib/python3.10/site-packages (from transformers) (0.13.3)\n",
      "Requirement already satisfied: safetensors>=0.3.1 in /home/ec2-user/anaconda3/envs/python3/lib/python3.10/site-packages (from transformers) (0.3.2)\n",
      "Requirement already satisfied: tqdm>=4.27 in /home/ec2-user/anaconda3/envs/python3/lib/python3.10/site-packages (from transformers) (4.65.0)\n",
      "Requirement already satisfied: fsspec in /home/ec2-user/anaconda3/envs/python3/lib/python3.10/site-packages (from huggingface-hub<1.0,>=0.14.1->transformers) (2023.5.0)\n",
      "Requirement already satisfied: typing-extensions>=3.7.4.3 in /home/ec2-user/anaconda3/envs/python3/lib/python3.10/site-packages (from huggingface-hub<1.0,>=0.14.1->transformers) (4.5.0)\n",
      "Requirement already satisfied: pyparsing!=3.0.5,>=2.0.2 in /home/ec2-user/anaconda3/envs/python3/lib/python3.10/site-packages (from packaging>=20.0->transformers) (3.0.9)\n",
      "Requirement already satisfied: charset-normalizer<4,>=2 in /home/ec2-user/anaconda3/envs/python3/lib/python3.10/site-packages (from requests->transformers) (2.1.1)\n",
      "Requirement already satisfied: idna<4,>=2.5 in /home/ec2-user/anaconda3/envs/python3/lib/python3.10/site-packages (from requests->transformers) (3.4)\n",
      "Requirement already satisfied: urllib3<1.27,>=1.21.1 in /home/ec2-user/anaconda3/envs/python3/lib/python3.10/site-packages (from requests->transformers) (1.26.14)\n",
      "Requirement already satisfied: certifi>=2017.4.17 in /home/ec2-user/anaconda3/envs/python3/lib/python3.10/site-packages (from requests->transformers) (2023.5.7)\n"
     ]
    }
   ],
   "source": [
    "import sys\n",
    "import IPython\n",
    "\n",
    "if install_needed:\n",
    "    print(\"installing deps and restarting kernel\")\n",
    "    !{sys.executable} -m pip install -U pip\n",
    "    !{sys.executable} -m pip install -U termcolor\n",
    "    !{sys.executable} -m pip install -U langchain\n",
    "\n",
    "    IPython.Application.instance().kernel.do_shutdown(True)"
   ]
  },
  {
   "cell_type": "markdown",
   "id": "5153cf6e-82d0-4869-a222-79a6c9d74eee",
   "metadata": {},
   "source": [
    "## Step 1. Prepare Large Language Model (LLM)"
   ]
  },
  {
   "cell_type": "code",
   "execution_count": 4,
   "id": "adae66bf-ab9c-4a34-b75f-aab4b8ab6cc7",
   "metadata": {
    "tags": []
   },
   "outputs": [],
   "source": [
    "import boto3\n",
    "from termcolor import colored\n",
    "from sagemaker.session import Session\n",
    "from langchain.llms import AmazonAPIGateway\n",
    "from lib_en import Llama2ContentHandlerAmazonAPIGateway, FalconContentHandlerEndpoint, FalconContentHandlerAmazonAPIGateway"
   ]
  },
  {
   "cell_type": "code",
   "execution_count": 5,
   "id": "fe9eca9e-7861-4426-b09c-d5617b28fc60",
   "metadata": {
    "tags": []
   },
   "outputs": [],
   "source": [
    "sagemaker_session = Session()\n",
    "aws_role = sagemaker_session.get_caller_identity_arn()\n",
    "aws_region = boto3.Session().region_name"
   ]
  },
  {
   "cell_type": "code",
   "execution_count": 6,
   "id": "a53d62e7-2014-43ad-b68d-6bb37043d523",
   "metadata": {
    "tags": []
   },
   "outputs": [],
   "source": [
    "MODEL_NAME = \"FALCON-40B\" #LLAMA2-7B "
   ]
  },
  {
   "cell_type": "code",
   "execution_count": 7,
   "id": "24e4e24a-c12a-42cf-a97f-2440f95b60af",
   "metadata": {
    "tags": []
   },
   "outputs": [
    {
     "name": "stdout",
     "output_type": "stream",
     "text": [
      "MODEL_NAME: FALCON-40B\n",
      "LLM_URL: https://6bk4r5mo4f.execute-api.us-east-1.amazonaws.com/api/llm/falcon_40b\n"
     ]
    }
   ],
   "source": [
    "RESTAPI_ID = \"6bk4r5mo4f\"\n",
    "URL = f'https://{RESTAPI_ID}.execute-api.{aws_region}.amazonaws.com/api/'.replace('\"','')\n",
    "LLM_INFO = {\n",
    "    \"FALCON-40B\": f\"{URL}llm/falcon_40b\",\n",
    "    \"LLAMA2-7B\": f\"{URL}llm/llama2_7b\",\n",
    "}\n",
    "LLM_URL = LLM_INFO[MODEL_NAME]\n",
    "HEADERS = {    \n",
    "    'Content-Type': 'application/json',\n",
    "    'Accept': 'application/json',\n",
    "}\n",
    "\n",
    "print (f'MODEL_NAME: {MODEL_NAME}\\nLLM_URL: {LLM_URL}')"
   ]
  },
  {
   "cell_type": "code",
   "execution_count": 8,
   "id": "17108899-41b7-46df-aa7e-667c149ff04d",
   "metadata": {
    "tags": []
   },
   "outputs": [],
   "source": [
    "llm = AmazonAPIGateway(api_url=LLM_URL, headers=HEADERS)\n",
    "\n",
    "if MODEL_NAME == \"FALCON-40B\": llm.content_handler = FalconContentHandlerAmazonAPIGateway()\n",
    "elif MODEL_NAME == \"LLAMA2-7B\": llm.content_handler = Llama2ContentHandlerAmazonAPIGateway()"
   ]
  },
  {
   "cell_type": "markdown",
   "id": "3bcc03fd-5396-4172-bb26-ae8160cb34c0",
   "metadata": {
    "tags": []
   },
   "source": [
    "## Step 2. Load transcript files"
   ]
  },
  {
   "cell_type": "code",
   "execution_count": 49,
   "id": "50d70819-9d6b-4c96-943c-044109d222bc",
   "metadata": {
    "tags": []
   },
   "outputs": [],
   "source": [
    "transcript_files = [\n",
    "    \"./call_transcripts/negative-refund.txt\",\n",
    "    \"./call_transcripts/neutral-short.txt\",\n",
    "    \"./call_transcripts/positive-partial-refund.txt\",\n",
    "    \"./call_transcripts/aws-short.txt\",\n",
    "    \"./call_transcripts/aws.txt\"\n",
    "]\n",
    "transcripts = []\n",
    "\n",
    "for file_name in transcript_files:\n",
    "    with open(file_name, \"r\") as file:\n",
    "        transcripts.append(file.read())"
   ]
  },
  {
   "cell_type": "code",
   "execution_count": 50,
   "id": "4adc6069-b40a-4bd6-b213-e0baa3d67428",
   "metadata": {
    "tags": []
   },
   "outputs": [
    {
     "name": "stdout",
     "output_type": "stream",
     "text": [
      "transcript #1: timestamp: 2022-12-27 08:26:49.219717\n",
      "\n",
      "Agent: Thank you for calling our retail support line. My name is ABC. How can I assist you today?\n",
      "\n",
      "Customer: Yes, I have received a defective product, and I am extremely angry about it! This is unacceptable, and I want it resolved immediately!\n",
      "\n",
      "Agent: I'm sorry\n",
      "\n",
      "====================\n",
      "\n",
      "\n",
      "transcript #2: timestamp: 2023-01-28 08:26:49.219717\n",
      "\n",
      "Customer: Hi, I'd like to check the balance on my account.\n",
      "\n",
      "Retail Support: Sure thing! Can I have your account number or phone number associated with the account?\n",
      "\n",
      "Customer: My phone number is (123) 456-7890.\n",
      "\n",
      "Retail Support: Great, thank you. Let me pull up y\n",
      "\n",
      "====================\n",
      "\n",
      "\n",
      "transcript #3: timestamp: 2022-12-28 08:26:49.219717\n",
      "\n",
      "Agent: Thank you for calling [Retailer], my name is [Agent Name]. How may I assist you today?\n",
      "\n",
      "Customer: Hi, I wanted to check on the status of my order. It was supposed to arrive today, but I haven't received it yet.\n",
      "\n",
      "Agent: I'm sorry to hear that. Can I have \n",
      "\n",
      "====================\n",
      "\n",
      "\n",
      "transcript #4: What is AWS? AWS or Amazon Web Services is a cloud service provider that offers various computing services that are accessible over the public internet.\n",
      "\n",
      "AWS and other public cloud vendors — like Google Cloud Platform (GCP) and Microsoft Azure — manage and maintain hardware and infrastructure, savin\n",
      "\n",
      "====================\n",
      "\n",
      "\n",
      "transcript #5: What is AWS? AWS or Amazon Web Services is a cloud service provider that offers various computing services that are accessible over the public internet.\n",
      "\n",
      "AWS and other public cloud vendors — like Google Cloud Platform (GCP) and Microsoft Azure — manage and maintain hardware and infrastructure, savin\n",
      "\n",
      "====================\n",
      "\n",
      "\n"
     ]
    }
   ],
   "source": [
    "for i, trans in enumerate(transcripts):\n",
    "    print(f\"transcript #{i+1}: {trans[:300]}\\n\")\n",
    "    print(\"====================\\n\\n\")"
   ]
  },
  {
   "cell_type": "markdown",
   "id": "f8823ce9-676a-4e36-a80a-0f855c689dbd",
   "metadata": {
    "tags": []
   },
   "source": [
    "## Step 3. Post Call Analysis"
   ]
  },
  {
   "cell_type": "code",
   "execution_count": 40,
   "id": "78474678-208e-4cf1-924d-e89e1eb791dd",
   "metadata": {
    "tags": []
   },
   "outputs": [],
   "source": [
    "from langchain import PromptTemplate"
   ]
  },
  {
   "cell_type": "markdown",
   "id": "d8e2d0fb-5b2f-462c-bbc9-8f294c0a2083",
   "metadata": {},
   "source": [
    "### Step 3.1. Prompt Template\n",
    "In this notebook, we'll be performing four different analyses(**Summary, Sentiment, Intent and Resolution**), and we'll need a template for each one. "
   ]
  },
  {
   "cell_type": "markdown",
   "id": "37038a11-9d72-4ef0-8cb9-c3c9bae0d4cc",
   "metadata": {},
   "source": [
    "* Summary template"
   ]
  },
  {
   "cell_type": "code",
   "execution_count": 41,
   "id": "a5ec04a3-530b-4f47-b945-f0306be3af34",
   "metadata": {
    "tags": []
   },
   "outputs": [],
   "source": [
    "summary_template = \"\"\"\n",
    "Analyze the retail support call transcript below. Provide a detail summary of the conversation in complete sentence:\n",
    "\n",
    "context: {transcript}\n",
    "\n",
    "summary:\"\"\""
   ]
  },
  {
   "cell_type": "markdown",
   "id": "675a6f09-971b-41d1-9508-c186c80830c8",
   "metadata": {},
   "source": [
    "* Sentiment template"
   ]
  },
  {
   "cell_type": "code",
   "execution_count": 42,
   "id": "dd7afdc5-4dfb-4d3b-860a-c821d212e980",
   "metadata": {
    "tags": []
   },
   "outputs": [],
   "source": [
    "sentiment_template = \"\"\"\n",
    "This is a sentiment analysis program. What is the customer sentiment using following classes \n",
    "[\"POSITIVE\", \"NEUTRAL\", \"NEGATIVE\"]. classify the conversation into one and exact one of these classes. \n",
    "If you don't know or not sure, please use [\"NEUTRAL\"] class. Do not try to make up a class:\n",
    "\n",
    "context: {transcript}\n",
    "\n",
    "sentiment: \"\"\""
   ]
  },
  {
   "cell_type": "markdown",
   "id": "a43171cd-ae26-4803-a2ec-b9ccb302455f",
   "metadata": {},
   "source": [
    "* intent template"
   ]
  },
  {
   "cell_type": "code",
   "execution_count": 44,
   "id": "1b5c2107-31de-43ec-8ca2-2de40ef097fe",
   "metadata": {
    "tags": []
   },
   "outputs": [],
   "source": [
    "intent_template = \"\"\"\n",
    "This is a intent classification program. What is the purpose of the customer call using following classes\n",
    "[\"SHIPMENT_DELAY\", \"COMPLAIN_PRODUCT_DEFECT\", \"ACCOUNT_QUESTION\"]. classify the conversation into one and exact one of these classes.\n",
    "If you don't know, please use [\"UNKNOWN\"] class. Do not try to make up a class. \n",
    "\n",
    "context: {transcript}\n",
    "\n",
    "intent: \"\"\""
   ]
  },
  {
   "cell_type": "markdown",
   "id": "4d5515c8-0107-400d-9c2d-4f4bd91ebcd4",
   "metadata": {},
   "source": [
    "### Step 3.2. Analysis"
   ]
  },
  {
   "cell_type": "code",
   "execution_count": 15,
   "id": "89e48c47-c57f-4ad5-872c-d2f6998171ba",
   "metadata": {
    "tags": []
   },
   "outputs": [],
   "source": [
    "def analysis(llm, transcript, params, template=\"\", max_tokens=50):\n",
    "\n",
    "    prompt = PromptTemplate(template=template, input_variables=[\"transcript\"])\n",
    "    analysis_prompt = prompt.format(transcript=transcript)\n",
    "    llm.model_kwargs = params\n",
    "\n",
    "    print (colored(analysis_prompt, 'green'))\n",
    "\n",
    "    response = llm(analysis_prompt)\n",
    "\n",
    "    return response"
   ]
  },
  {
   "cell_type": "code",
   "execution_count": 20,
   "id": "067e7a3e-baab-4b77-99be-f351f1968837",
   "metadata": {},
   "outputs": [],
   "source": [
    "PARAMS = {\n",
    "    \"FALCON-40B\": {\n",
    "        \"max_new_tokens\": 200,\n",
    "        \"max_length\": 1024,\n",
    "        \"top_p\": 0.95,\n",
    "        \"do_sample\": False,\n",
    "        \"temperature\": 0.01,\n",
    "        \"return_full_text\": False,\n",
    "        \"include_prompt_in_result\": False\n",
    "    },\n",
    "    \"LLAMA2-7B\": {\n",
    "        'max_new_tokens': 128,\n",
    "        'top_p': 0.9,\n",
    "        'temperature': 0.1,\n",
    "        'return_full_text': False\n",
    "    },\n",
    "}"
   ]
  },
  {
   "cell_type": "markdown",
   "id": "6f4059f5-8e9b-40bb-8d6b-a5d5a0628bd1",
   "metadata": {},
   "source": [
    "* Summary analysis"
   ]
  },
  {
   "cell_type": "code",
   "execution_count": 17,
   "id": "b8704d41-2711-4da5-b5e1-ecb848eddcc1",
   "metadata": {
    "tags": []
   },
   "outputs": [
    {
     "name": "stdout",
     "output_type": "stream",
     "text": [
      "\u001b[32m\n",
      "Analyze the retail support call transcript below. Provide a detail summary of the conversation in complete sentence:\n",
      "\n",
      "context: timestamp: 2022-12-27 08:26:49.219717\n",
      "\n",
      "Agent: Thank you for calling our retail support line. My name is ABC. How can I assist you today?\n",
      "\n",
      "Customer: Yes, I have received a defective product, and I am extremely angry about it! This is unacceptable, and I want it resolved immediately!\n",
      "\n",
      "Agent: I'm sorry to hear that you received a defective product. Can you please let me know what the issue is?\n",
      "\n",
      "Customer: The product I received is broken and unusable. I spent a lot of money on it, and now I can't even use it! This is unacceptable, and I demand a solution right now!\n",
      "\n",
      "Agent: I completely understand your frustration, and I'm sorry for any inconvenience this has caused you. Can you please provide me with your order number so that I can look into this for you?\n",
      "\n",
      "Customer: 2357894561\n",
      "\n",
      "Agent: Thank you. I'm sorry to hear about the defective product you received. We can definitely offer you a full refund for it. Would that be acceptable to you?\n",
      "\n",
      "Customer: Yes, a refund would be acceptable, but I'm still very disappointed that I received a defective product in the first place.\n",
      "\n",
      "Agent: I understand your disappointment, and we apologize for any inconvenience this has caused you. We will process the refund for you right away. Can you please provide me with your email address so that we can send you a confirmation of the refund?\n",
      "\n",
      "Customer: 123@456.com\n",
      "\n",
      "Agent: Thank you. We have processed the refund, and you should receive the confirmation email within the next 24 hours. Is there anything else I can assist you with today?\n",
      "\n",
      "Customer: No, that's all. Thank you for offering the refund, but I'm still very disappointed with the product I received.\n",
      "\n",
      "Agent: I understand, and once again, I apologize for any inconvenience this has caused you. Thank you for contacting our retail support line, and have a great day.\n",
      "\n",
      "summary:\u001b[0m\n",
      "\n",
      "\n",
      "The customer is angry and frustrated because they received a defective product. They demand a solution immediately and demand a refund. The agent apologizes for the inconvenience and offers a full refund. The customer is still disappointed with the product they received, but accepts the refund. The agent thanks the customer for contacting the retail support line and wishes them a great day.\n",
      "CPU times: user 19.1 ms, sys: 1.44 ms, total: 20.5 ms\n",
      "Wall time: 6.38 s\n"
     ]
    }
   ],
   "source": [
    "%%time\n",
    "\n",
    "res = analysis(\n",
    "    llm=llm,\n",
    "    transcript=transcripts[0],\n",
    "    params=PARAMS[MODEL_NAME],\n",
    "    template=summary_template\n",
    ")\n",
    "\n",
    "print (res)"
   ]
  },
  {
   "cell_type": "markdown",
   "id": "9cdf7aca-4518-416d-84d5-9717348a6cdc",
   "metadata": {
    "tags": []
   },
   "source": [
    "* Sentiment analysis"
   ]
  },
  {
   "cell_type": "code",
   "execution_count": 18,
   "id": "037e6c6b-e75d-4d56-ae7a-e3e86677949f",
   "metadata": {
    "tags": []
   },
   "outputs": [
    {
     "name": "stdout",
     "output_type": "stream",
     "text": [
      "\u001b[32m\n",
      "This is a sentiment analysis program. What is the customer sentiment using following classes \n",
      "[\"POSITIVE\", \"NEUTRAL\", \"NEGATIVE\"]. classify the conversation into one and exact one of these classes. \n",
      "If you don't know or not sure, please use [\"NEUTRAL\"] class. Do not try to make up a class:\n",
      "\n",
      "context: timestamp: 2022-12-27 08:26:49.219717\n",
      "\n",
      "Agent: Thank you for calling our retail support line. My name is ABC. How can I assist you today?\n",
      "\n",
      "Customer: Yes, I have received a defective product, and I am extremely angry about it! This is unacceptable, and I want it resolved immediately!\n",
      "\n",
      "Agent: I'm sorry to hear that you received a defective product. Can you please let me know what the issue is?\n",
      "\n",
      "Customer: The product I received is broken and unusable. I spent a lot of money on it, and now I can't even use it! This is unacceptable, and I demand a solution right now!\n",
      "\n",
      "Agent: I completely understand your frustration, and I'm sorry for any inconvenience this has caused you. Can you please provide me with your order number so that I can look into this for you?\n",
      "\n",
      "Customer: 2357894561\n",
      "\n",
      "Agent: Thank you. I'm sorry to hear about the defective product you received. We can definitely offer you a full refund for it. Would that be acceptable to you?\n",
      "\n",
      "Customer: Yes, a refund would be acceptable, but I'm still very disappointed that I received a defective product in the first place.\n",
      "\n",
      "Agent: I understand your disappointment, and we apologize for any inconvenience this has caused you. We will process the refund for you right away. Can you please provide me with your email address so that we can send you a confirmation of the refund?\n",
      "\n",
      "Customer: 123@456.com\n",
      "\n",
      "Agent: Thank you. We have processed the refund, and you should receive the confirmation email within the next 24 hours. Is there anything else I can assist you with today?\n",
      "\n",
      "Customer: No, that's all. Thank you for offering the refund, but I'm still very disappointed with the product I received.\n",
      "\n",
      "Agent: I understand, and once again, I apologize for any inconvenience this has caused you. Thank you for contacting our retail support line, and have a great day.\n",
      "\n",
      "sentiment: \u001b[0m\n",
      "\"NEGATIVE\"\n",
      "CPU times: user 15.4 ms, sys: 4.39 ms, total: 19.8 ms\n",
      "Wall time: 751 ms\n"
     ]
    }
   ],
   "source": [
    "%%time\n",
    "\n",
    "res = analysis(\n",
    "    llm=llm,\n",
    "    transcript=transcripts[0],\n",
    "    params=PARAMS[MODEL_NAME],\n",
    "    template=sentiment_template\n",
    ")\n",
    "\n",
    "print (res)"
   ]
  },
  {
   "cell_type": "code",
   "execution_count": 57,
   "id": "6ada3e82-1f22-4546-92e1-815caeb3653a",
   "metadata": {
    "tags": []
   },
   "outputs": [
    {
     "name": "stdout",
     "output_type": "stream",
     "text": [
      "\u001b[32m\n",
      "This is a intent classification program. What is the purpose of the customer call using following classes\n",
      "[\"SHIPMENT_DELAY\", \"COMPLAIN_PRODUCT_DEFECT\", \"ACCOUNT_QUESTION\"]. classify the conversation into one and exact one of these classes.\n",
      "If you don't know, please use [\"UNKNOWN\"] class. Do not try to make up a class. \n",
      "\n",
      "context: timestamp: 2022-12-27 08:26:49.219717\n",
      "\n",
      "Agent: Thank you for calling our retail support line. My name is ABC. How can I assist you today?\n",
      "\n",
      "Customer: Yes, I have received a defective product, and I am extremely angry about it! This is unacceptable, and I want it resolved immediately!\n",
      "\n",
      "Agent: I'm sorry to hear that you received a defective product. Can you please let me know what the issue is?\n",
      "\n",
      "Customer: The product I received is broken and unusable. I spent a lot of money on it, and now I can't even use it! This is unacceptable, and I demand a solution right now!\n",
      "\n",
      "Agent: I completely understand your frustration, and I'm sorry for any inconvenience this has caused you. Can you please provide me with your order number so that I can look into this for you?\n",
      "\n",
      "Customer: 2357894561\n",
      "\n",
      "Agent: Thank you. I'm sorry to hear about the defective product you received. We can definitely offer you a full refund for it. Would that be acceptable to you?\n",
      "\n",
      "Customer: Yes, a refund would be acceptable, but I'm still very disappointed that I received a defective product in the first place.\n",
      "\n",
      "Agent: I understand your disappointment, and we apologize for any inconvenience this has caused you. We will process the refund for you right away. Can you please provide me with your email address so that we can send you a confirmation of the refund?\n",
      "\n",
      "Customer: 123@456.com\n",
      "\n",
      "Agent: Thank you. We have processed the refund, and you should receive the confirmation email within the next 24 hours. Is there anything else I can assist you with today?\n",
      "\n",
      "Customer: No, that's all. Thank you for offering the refund, but I'm still very disappointed with the product I received.\n",
      "\n",
      "Agent: I understand, and once again, I apologize for any inconvenience this has caused you. Thank you for contacting our retail support line, and have a great day.\n",
      "\n",
      "intent: \u001b[0m\n",
      "[\"COMPLAIN_PRODUCT_DEFECT\"]\n",
      "CPU times: user 18.6 ms, sys: 1.5 ms, total: 20.1 ms\n",
      "Wall time: 1.05 s\n"
     ]
    }
   ],
   "source": [
    "%%time\n",
    "\n",
    "res = analysis(\n",
    "    llm=llm,\n",
    "    transcript=transcripts[0],\n",
    "    params=PARAMS[MODEL_NAME],\n",
    "    template=intent_template\n",
    ")\n",
    "\n",
    "print (res)"
   ]
  },
  {
   "cell_type": "markdown",
   "id": "75a44c03-e8a9-4cb7-a5a9-950627d3eeaf",
   "metadata": {},
   "source": [
    "## Handling long call transcripts\n",
    "We'll cover how to handle long transcripts that exceed the limits of the LLM. "
   ]
  },
  {
   "cell_type": "code",
   "execution_count": 45,
   "id": "da0d8870-9ed1-452a-8614-00d16cf5179a",
   "metadata": {
    "tags": []
   },
   "outputs": [],
   "source": [
    "from langchain.chains.summarize import load_summarize_chain\n",
    "from langchain.text_splitter import RecursiveCharacterTextSplitter"
   ]
  },
  {
   "cell_type": "code",
   "execution_count": 54,
   "id": "36fda098-0069-4a57-9580-2b5356aeb847",
   "metadata": {
    "tags": []
   },
   "outputs": [],
   "source": [
    "def long_call_analysis(llm, transcript, params, template=\"\", max_tokens=50):\n",
    "\n",
    "    prompt = PromptTemplate(template=template, input_variables=[\"transcript\"])\n",
    "    llm.model_kwargs = params\n",
    "    num_tokens = llm.get_num_tokens(transcript) #raise warnning\n",
    "    \n",
    "    if num_tokens > max_tokens:\n",
    "        text_splitter = RecursiveCharacterTextSplitter(\n",
    "            separators=[\"\\n\\n\\n\"],\n",
    "            chunk_size=500,\n",
    "            chunk_overlap=100\n",
    "        )\n",
    "        docs = text_splitter.create_documents([transcript])\n",
    "        num_docs = len(docs)\n",
    "        num_tokens_first_doc = llm.get_num_tokens(docs[0].page_content)\n",
    "\n",
    "        print(f\"Now we have {num_docs} documents and the first one has {num_tokens_first_doc} tokens\")\n",
    "        summary_chain = load_summarize_chain(llm=llm, chain_type=\"refine\", verbose=True) # map_reduce, refine\n",
    "\n",
    "        transcript = summary_chain.run(docs)\n",
    "\n",
    "    analysis_prompt = prompt.format(transcript=transcript) \n",
    "    analysis = llm(analysis_prompt)\n",
    "\n",
    "    return analysis"
   ]
  },
  {
   "cell_type": "code",
   "execution_count": 55,
   "id": "f3824af9-d55f-4baf-9296-8266b9de43bc",
   "metadata": {
    "tags": []
   },
   "outputs": [],
   "source": [
    "PARAMS = {\n",
    "    \"FALCON-40B\": {\n",
    "        \"max_new_tokens\": 1024,\n",
    "        \"max_length\": 1024,\n",
    "        \"top_p\": 0.95,\n",
    "        \"do_sample\": False,\n",
    "        \"temperature\": 0.2,\n",
    "        \"return_full_text\": False,\n",
    "        \"include_prompt_in_result\": False\n",
    "    },\n",
    "    \"LLAMA2-7B\": {\n",
    "        'max_new_tokens': 128,\n",
    "        'top_p': 0.9,\n",
    "        'temperature': 0.1,\n",
    "        'return_full_text': False\n",
    "    },\n",
    "}"
   ]
  },
  {
   "cell_type": "code",
   "execution_count": 56,
   "id": "8005333e-f359-4ab1-98ae-8338c0e74d56",
   "metadata": {
    "tags": []
   },
   "outputs": [
    {
     "name": "stdout",
     "output_type": "stream",
     "text": [
      "Now we have 3 documents and the first one has 210 tokens\n",
      "\n",
      "\n",
      "\u001b[1m> Entering new RefineDocumentsChain chain...\u001b[0m\n",
      "\n",
      "\n",
      "\u001b[1m> Entering new LLMChain chain...\u001b[0m\n",
      "Prompt after formatting:\n",
      "\u001b[32;1m\u001b[1;3mWrite a concise summary of the following:\n",
      "\n",
      "\n",
      "\"What is AWS? AWS or Amazon Web Services is a cloud service provider that offers various computing services that are accessible over the public internet.\n",
      "\n",
      "AWS and other public cloud vendors — like Google Cloud Platform (GCP) and Microsoft Azure — manage and maintain hardware and infrastructure, saving organizations and individuals the cost and complexity of purchasing and running resources on site. These resources may be accessed for free or on a pay-per-use basis.\n",
      "\n",
      "To get a better understanding of AWS, it can help to wrap your head around how massive AWS is. There's no denying it, AWS is kind of a big deal. How big?\n",
      "\n",
      "One in three sites you visit on the internet uses AWS services. \n",
      "In 2019, Amazon Web Services raked in more than $35 billion in revenue. If AWS were its own company, that would be enough to rank 359th on fortune magazine's Global 500 list.\n",
      "With that being said here is a 10,000-foot overview of AWS. Let’s dive in!\"\n",
      "\n",
      "\n",
      "CONCISE SUMMARY:\u001b[0m\n",
      "\n",
      "\u001b[1m> Finished chain.\u001b[0m\n",
      "\n",
      "\n",
      "\u001b[1m> Entering new LLMChain chain...\u001b[0m\n",
      "Prompt after formatting:\n",
      "\u001b[32;1m\u001b[1;3mYour job is to produce a final summary\n",
      "We have provided an existing summary up to a certain point: \n",
      "\n",
      "AWS is a cloud service provider that offers various computing services that are accessible over the public internet. AWS and other public cloud vendors manage and maintain hardware and infrastructure, saving organizations and individuals the cost and complexity of purchasing and running resources on site. These resources may be accessed for free or on a pay-per-use basis. AWS is a massive service provider, with one in three sites on the internet using AWS services. In 2019, Amazon Web Services raked in more than $35 billion in revenue.\n",
      "We have the opportunity to refine the existing summary(only if needed) with some more context below.\n",
      "------------\n",
      "\n",
      "\n",
      "\n",
      "The history of AWS\n",
      "The origins of AWS are kind of unintentional. Way back around the year 2000, Amazon was still just a scrappy e-commerce company that found itself struggling to grow under all the technical debt that it accumulated since its startup days.\n",
      "\n",
      "Very much out of necessity, Amazon made the strategic technology decision to start building reusable modules for its internal development groups. This allowed those groups to create new features faster because they weren't always reinventing the same things over and over.\n",
      "\n",
      "As time went on, the collection of internal services grew, and people inside the company started to realize that maybe there was a potential business opportunity there.\n",
      "\n",
      "First launched in 2004 and then relaunched in 2006 with three public pay-as-you-go services, Amazon Web Services set sail into the uncharted waters of what we now call cloud computing.\n",
      "\n",
      "After it launched in 2006, for the next few years, AWS enjoyed a relatively quiet competitive landscape, allowing it to build a dramatic headstart over contemporary competitors like Microsoft Azure and Google Cloud Platform.\n",
      "\n",
      "AWS has been the dominant cloud provider for a while and is the clear market-share leader at present.\n",
      "\n",
      "However, in the past few years, that market share has been eroding slightly, largely going to Microsoft Azure. But competition is a good thing, and AWS has momentum, market-share profitability, and some really smart people on its side. The innovation and customer focus are greater than ever. \n",
      "\n",
      "What's the future hold for AWS? They say no one can predict the future . . . but we asked a panel of experts to do it anyways. Check out our 7 predictions for AWS.\n",
      "------------\n",
      "Given the new context, refine the original summary\n",
      "If the context isn't useful, return the original summary.\u001b[0m\n",
      "\n",
      "\u001b[1m> Finished chain.\u001b[0m\n",
      "\n",
      "\n",
      "\u001b[1m> Entering new LLMChain chain...\u001b[0m\n",
      "Prompt after formatting:\n",
      "\u001b[32;1m\u001b[1;3mYour job is to produce a final summary\n",
      "We have provided an existing summary up to a certain point: \n",
      "AWS is a cloud service provider that offers various computing services that are accessible over the public internet. AWS and other public cloud vendors manage and maintain hardware and infrastructure, saving organizations and individuals the cost and complexity of purchasing and running resources on site. These resources may be accessed for free or on a pay-per-use basis. AWS is a massive service provider, with one in three sites on the internet using AWS services. In 2019, Amazon Web Services raked in more than $35 billion in revenue.\n",
      "We have the opportunity to refine the existing summary(only if needed) with some more context below.\n",
      "------------\n",
      "AWS infrastructure and technology\n",
      "AWS operates globally in what are called regions — 25 in all spread across six continents. Each region consists of multiple availability zones. And these are the physical data centers where computers live and are geographically separated to reduce the likelihood of a local disaster taking out a whole region.\n",
      "------------\n",
      "Given the new context, refine the original summary\n",
      "If the context isn't useful, return the original summary.\u001b[0m\n",
      "\n",
      "\u001b[1m> Finished chain.\u001b[0m\n",
      "\n",
      "\u001b[1m> Finished chain.\u001b[0m\n",
      "\n",
      "\n",
      "The retail support call transcript is a conversation between a customer and an AWS support representative. The customer is having trouble with their AWS account and is seeking assistance. The representative asks the customer for their account information and confirms that the customer has a valid AWS account. The representative then asks the customer to provide more information about the issue they are experiencing. The customer explains that they are unable to access their account and are receiving an error message. The representative asks the customer to provide more details about the error message and tries to troubleshoot the issue. The representative suggests that the customer try resetting their password and checking their account settings. The customer agrees to try these steps and the representative offers to stay on the line to assist if necessary. The conversation ends with the representative thanking the customer for their time and wishing them a good day.\n",
      "CPU times: user 174 ms, sys: 18.1 ms, total: 193 ms\n",
      "Wall time: 44.5 s\n"
     ]
    }
   ],
   "source": [
    "%%time\n",
    "\n",
    "res = long_call_analysis(\n",
    "    llm=llm,\n",
    "    transcript=transcripts[3],\n",
    "    params=PARAMS[MODEL_NAME],\n",
    "    template=summary_template\n",
    ")\n",
    "\n",
    "print (res)"
   ]
  },
  {
   "cell_type": "code",
   "execution_count": null,
   "id": "591772e5-e055-4e5a-b43c-09667d74a4fa",
   "metadata": {},
   "outputs": [],
   "source": []
  },
  {
   "cell_type": "code",
   "execution_count": null,
   "id": "529449f9-a9ac-4f9a-bb7d-3398839ee294",
   "metadata": {},
   "outputs": [],
   "source": []
  }
 ],
 "metadata": {
  "kernelspec": {
   "display_name": "conda_python3",
   "language": "python",
   "name": "conda_python3"
  },
  "language_info": {
   "codemirror_mode": {
    "name": "ipython",
    "version": 3
   },
   "file_extension": ".py",
   "mimetype": "text/x-python",
   "name": "python",
   "nbconvert_exporter": "python",
   "pygments_lexer": "ipython3",
   "version": "3.10.10"
  }
 },
 "nbformat": 4,
 "nbformat_minor": 5
}
